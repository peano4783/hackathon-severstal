{
 "cells": [
  {
   "cell_type": "code",
   "execution_count": 1,
   "id": "92aa2009",
   "metadata": {
    "execution": {
     "iopub.execute_input": "2023-05-28T20:27:36.713148Z",
     "iopub.status.busy": "2023-05-28T20:27:36.712762Z",
     "iopub.status.idle": "2023-05-28T20:27:36.761482Z",
     "shell.execute_reply": "2023-05-28T20:27:36.760362Z"
    },
    "papermill": {
     "duration": 0.059076,
     "end_time": "2023-05-28T20:27:36.764466",
     "exception": false,
     "start_time": "2023-05-28T20:27:36.705390",
     "status": "completed"
    },
    "tags": []
   },
   "outputs": [
    {
     "name": "stdout",
     "output_type": "stream",
     "text": [
      "/kaggle/input/y-train-northsteel-short/y_short_ТСМТ-101-010-50М-80 ТЕРМОПРЕОБР.МАСЛО.csv\n",
      "/kaggle/input/y-train-northsteel-short/y_short_ЗАДВИЖКА ЭКСГ.d.csv\n",
      "/kaggle/input/y-train-northsteel-short/y_short_КОРПУС ЭКСГ.d.csv\n",
      "/kaggle/input/y-train-northsteel-short/y_short_ГАЗОВАЯ ЗАДВИЖКА ЭКСГ.d.csv\n",
      "/kaggle/input/y-train-northsteel-short/y_short_ТИРИСТ. ВОЗБУДИТЕЛЬ ВТ-РЭМ-400 ЭКСГ.d.csv\n",
      "/kaggle/input/y-train-northsteel-short/y_short_КЛ2 ТР№n ДО ЭД ЭКСГАУСТЕРА №d.csv\n",
      "/kaggle/input/y-train-northsteel-short/y_short_РЕДУКТОР ГАЗ. ЗАДВИЖКИ ЭКСГ.d.csv\n",
      "/kaggle/input/y-train-northsteel-short/y_short_МАСЛОНАСОС ШЕСТЕРЕНЧАТЫЙ (РЕЗ.) ЭКСГ.d.csv\n",
      "/kaggle/input/y-train-northsteel-short/y_short_УЛИТА ЭКСГ.d.csv\n",
      "/kaggle/input/y-train-northsteel-short/y_short_ВК 310С ВИБРОПРЕОБРАЗОВАТЕЛЬ ЭКСГ.d.csv\n",
      "/kaggle/input/y-train-northsteel-short/y_short_ДВИГАТЕЛЬ РЕЗЕРВНОГО МАСЛОНАСОСА ЭКСГ.d.csv\n",
      "/kaggle/input/y-train-northsteel-short/y_short_ЗАПОРНАЯ АРМАТУРА ЭКСГАУСТЕРА №d.csv\n",
      "/kaggle/input/y-train-northsteel-short/y_short_МАСЛОНАСОС РАБОЧИЙ ЭКСГ.d.csv\n",
      "/kaggle/input/y-train-northsteel-short/y_short_МЕТРАН-100 ДАТЧИКИ ДАВЛЕНИЯ ЭКСГ.d.csv\n",
      "/kaggle/input/y-train-northsteel-short/y_short_ЭКСГАУСТЕР Н-8000 АМ №5.csv\n",
      "/kaggle/input/y-train-northsteel-short/y_short_ПОДШИПНИК ОПОРНО-УПОРНЫЙ ЭКСГ.d.csv\n",
      "/kaggle/input/y-train-northsteel-short/y_short_ПОДШИПНИК ОПОРНЫЙ ЭКСГ.d.csv\n",
      "/kaggle/input/y-train-northsteel-short/y_short_МАСЛООХЛАДИТЕЛЬ  М-05-1 ЭКСГ.d.csv\n",
      "/kaggle/input/y-train-northsteel-short/y_short_ТИРИСТОРНЫЙ ВОЗБУДИТЕЛЬ ТВ-400 ЭКСГ.d ВУ1.csv\n",
      "/kaggle/input/y-train-northsteel-short/y_short_КЛ1 ТР№n ДО ЭД ЭКСГАУСТЕРА №d.csv\n",
      "/kaggle/input/y-train-northsteel-short/y_short_ЭЛДВИГАТЕЛЬ ГАЗ. ЗАДВИЖКИ ЭКСГ.d.csv\n",
      "/kaggle/input/y-train-northsteel-short/y_short_ТСМТ-101-010-50М-200 ТЕРМОПР.ПОДШ.csv\n",
      "/kaggle/input/y-train-northsteel-short/y_short_МАСЛОБАК ЭКСГ.d.csv\n",
      "/kaggle/input/y-train-northsteel-short/y_short_ЗАП. И РЕГ. АРМАТУРА ЭКСГ.d.csv\n",
      "/kaggle/input/y-train-northsteel-short/y_short_КОЖУХ МУФТЫ ЭКСГ.d.csv\n",
      "/kaggle/input/y-train-northsteel-short/y_short_РЕГУЛИРУЮЩАЯ АППАРАТУРА ЭКСГАУСТЕРА №d.csv\n",
      "/kaggle/input/y-train-northsteel-short/y_short_МАСЛЯНЫЙ ФИЛЬТР ЭКСГАУСТЕРА №d.csv\n",
      "/kaggle/input/y-train-northsteel-short/y_short_ТР-Р ТМ-4000-106 ЭКСГ.d.csv\n",
      "/kaggle/input/y-train-northsteel-short/y_short_ЭЛЕКТРОДВИГАТЕЛЬ ДСПУ-140-84-4 ЭКСГ.d.csv\n",
      "/kaggle/input/y-train-northsteel-short/y_short_ДВИГАТЕЛЬ ПУСКОВОГО МАСЛОНАСОСА ЭКСГ.d.csv\n",
      "/kaggle/input/y-train-northsteel-short/y_short_САПФИР 22 МДД РАЗРЕЖЕНИЕ В КОЛЛЕКТОРЕ.csv\n",
      "/kaggle/input/y-train-northsteel-short/y_short_САПФИР 22 МДД ПЕРЕПАД ДАВЛ. НА ЦИКЛОНЕ.csv\n",
      "/kaggle/input/y-train-northsteel-short/y_short_МАСЛОНАСОС ШЕСТЕРЕНЧАТЫЙ (ПУСК.) ЭКСГ.d.csv\n",
      "/kaggle/input/y-train-northsteel-short/y_short_ТР-Р ТМ-6300-106 ЭКСГ.d.csv\n",
      "/kaggle/input/y-train-northsteel-short/y_short_ТСМТ-101-010-50М-400 ТЕРМОПР.ПОДШ.csv\n",
      "/kaggle/input/y-train-northsteel-short/y_short_ЭКСГАУСТЕР №d.csv\n",
      "/kaggle/input/y-train-northsteel-short/y_short_МАСЛОСТАНЦИЯ ЖИДКОЙ СМАЗКИ ЭКСГ.d.csv\n",
      "/kaggle/input/y-train-northsteel-short/y_short_ЭЛЕКТРООБОРУДОВАНИЯ ЭКСГАУСТЕРА №d.csv\n",
      "/kaggle/input/y-train-northsteel-short/dict_short.csv\n",
      "/kaggle/input/y-train-northsteel-short/y_short_ГСМ ЭКСГ.d.csv\n",
      "/kaggle/input/y-train-northsteel-short/y_short_ТИРИСТОРНЫЙ ВОЗБУДИТЕЛЬ СПВД-М10-400-5.csv\n",
      "/kaggle/input/y-train-northsteel-short/y_short_МАСЛОПРОВОДЫ ЭКСГАУСТЕРА №d.csv\n",
      "/kaggle/input/y-train-northsteel-short/y_short_РОТОР ЭКСГ.d.csv\n",
      "/kaggle/input/y-train-northsteel-instances/y_ЭКСГАУСТЕР АМ 6.csv\n",
      "/kaggle/input/y-train-northsteel-instances/y_ЭКСГАУСТЕР АМ 7.csv\n",
      "/kaggle/input/y-train-northsteel-instances/y_ЭКСГАУСТЕР АМ 5.csv\n",
      "/kaggle/input/y-train-northsteel-instances/y_ЭКСГАУСТЕР АМ 8.csv\n",
      "/kaggle/input/y-train-northsteel-instances/y_ЭКСГАУСТЕР АМ 4.csv\n",
      "/kaggle/input/y-train-northsteel-instances/dict_short.csv\n",
      "/kaggle/input/y-train-northsteel-instances/y_ЭКСГАУСТЕР АМ 9.csv\n",
      "/kaggle/input/x-train-northsteel/ВИБРАЦИЯ НА ОПОРЕ 4. ПРОДОЛЬНАЯ.csv\n",
      "/kaggle/input/x-train-northsteel/ВИБРАЦИЯ НА ОПОРЕ 4.csv\n",
      "/kaggle/input/x-train-northsteel/ЭКСГАУСТЕР 9.csv\n",
      "/kaggle/input/x-train-northsteel/ЭКСГАУСТЕР 4.csv\n",
      "/kaggle/input/x-train-northsteel/ЭКСГАУСТЕР 7.csv\n",
      "/kaggle/input/x-train-northsteel/ВИБРАЦИЯ НА ОПОРЕ 3.csv\n",
      "/kaggle/input/x-train-northsteel/ВИБРАЦИЯ НА ОПОРЕ 2.csv\n",
      "/kaggle/input/x-train-northsteel/ТОК СТАТОРА.csv\n",
      "/kaggle/input/x-train-northsteel/ДАВЛЕНИЕ МАСЛА В СИСТЕМЕ.csv\n",
      "/kaggle/input/x-train-northsteel/ВИБРАЦИЯ НА ОПОРЕ 1.csv\n",
      "/kaggle/input/x-train-northsteel/ТЕМПЕРАТУРА ПОДШИПНИКА НА ОПОРЕ 3.csv\n",
      "/kaggle/input/x-train-northsteel/ТЕМПЕРАТУРА ПОДШИПНИКА НА ОПОРЕ 1.csv\n",
      "/kaggle/input/x-train-northsteel/ЭКСГАУСТЕР 6.csv\n",
      "/kaggle/input/x-train-northsteel/ТОК РОТОРА 2.csv\n",
      "/kaggle/input/x-train-northsteel/ТЕМПЕРАТУРА ПОДШИПНИКА НА ОПОРЕ 2.csv\n",
      "/kaggle/input/x-train-northsteel/ТЕМПЕРАТУРА ПОДШИПНИКА НА ОПОРЕ 4.csv\n",
      "/kaggle/input/x-train-northsteel/ЭКСГАУСТЕР 5.csv\n",
      "/kaggle/input/x-train-northsteel/ТОК РОТОРА 1.csv\n",
      "/kaggle/input/x-train-northsteel/ЭКСГАУСТЕР 8.csv\n",
      "/kaggle/input/x-train-northsteel/ВИБРАЦИЯ НА ОПОРЕ 3. ПРОДОЛЬНАЯ.csv\n",
      "/kaggle/input/x-train-northsteel/ТЕМПЕРАТУРА МАСЛА В МАСЛОБЛОКЕ.csv\n",
      "/kaggle/input/x-train-northsteel/ТЕМПЕРАТУРА МАСЛА В СИСТЕМЕ.csv\n",
      "/kaggle/input/x-test-northsteel/ВИБРАЦИЯ НА ОПОРЕ 4. ПРОДОЛЬНАЯ.csv\n",
      "/kaggle/input/x-test-northsteel/ВИБРАЦИЯ НА ОПОРЕ 4.csv\n",
      "/kaggle/input/x-test-northsteel/ЭКСГАУСТЕР 9.csv\n",
      "/kaggle/input/x-test-northsteel/ЭКСГАУСТЕР 4.csv\n",
      "/kaggle/input/x-test-northsteel/ЭКСГАУСТЕР 7.csv\n",
      "/kaggle/input/x-test-northsteel/ВИБРАЦИЯ НА ОПОРЕ 3.csv\n",
      "/kaggle/input/x-test-northsteel/ВИБРАЦИЯ НА ОПОРЕ 2.csv\n",
      "/kaggle/input/x-test-northsteel/ТОК СТАТОРА.csv\n",
      "/kaggle/input/x-test-northsteel/ДАВЛЕНИЕ МАСЛА В СИСТЕМЕ.csv\n",
      "/kaggle/input/x-test-northsteel/ВИБРАЦИЯ НА ОПОРЕ 1.csv\n",
      "/kaggle/input/x-test-northsteel/ТЕМПЕРАТУРА ПОДШИПНИКА НА ОПОРЕ 3.csv\n",
      "/kaggle/input/x-test-northsteel/ТЕМПЕРАТУРА ПОДШИПНИКА НА ОПОРЕ 1.csv\n",
      "/kaggle/input/x-test-northsteel/ЭКСГАУСТЕР 6.csv\n",
      "/kaggle/input/x-test-northsteel/ТОК РОТОРА 2.csv\n",
      "/kaggle/input/x-test-northsteel/ТЕМПЕРАТУРА ПОДШИПНИКА НА ОПОРЕ 2.csv\n",
      "/kaggle/input/x-test-northsteel/ТЕМПЕРАТУРА ПОДШИПНИКА НА ОПОРЕ 4.csv\n",
      "/kaggle/input/x-test-northsteel/ЭКСГАУСТЕР 5.csv\n",
      "/kaggle/input/x-test-northsteel/ТОК РОТОРА 1.csv\n",
      "/kaggle/input/x-test-northsteel/ЭКСГАУСТЕР 8.csv\n",
      "/kaggle/input/x-test-northsteel/ВИБРАЦИЯ НА ОПОРЕ 3. ПРОДОЛЬНАЯ.csv\n",
      "/kaggle/input/x-test-northsteel/ТЕМПЕРАТУРА МАСЛА В МАСЛОБЛОКЕ.csv\n",
      "/kaggle/input/x-test-northsteel/ТЕМПЕРАТУРА МАСЛА В СИСТЕМЕ.csv\n",
      "/kaggle/input/y-train-northsteel/y_long_МАСЛООХЛАДИТЕЛЬ  М-05-1 ЭКСГ.d.csv\n",
      "/kaggle/input/y-train-northsteel/y_long_КЛ2 ТР№8 ДО ЭД ЭКСГАУСТЕРА №d.csv\n",
      "/kaggle/input/y-train-northsteel/y_long_САПФИР 22 МДД РАЗРЕЖЕНИЕ В КОЛЛЕКТОРЕ.csv\n",
      "/kaggle/input/y-train-northsteel/y_long_ВК 310С ВИБРОПРЕОБРАЗОВАТЕЛЬ ЭКСГ.d Т.2.csv\n",
      "/kaggle/input/y-train-northsteel/y_long_ЗАП. И РЕГ. АРМАТУРА ЭКСГ.d.csv\n",
      "/kaggle/input/y-train-northsteel/y_long_ЭКСГАУСТЕР Н-8000 АМ №5.csv\n",
      "/kaggle/input/y-train-northsteel/y_long_ЭЛЕКТРОДВИГАТЕЛЬ ДСПУ-140-84-4 ЭКСГ.d.csv\n",
      "/kaggle/input/y-train-northsteel/y_long_РЕДУКТОР ГАЗ. ЗАДВИЖКИ ЭКСГ.d.csv\n",
      "/kaggle/input/y-train-northsteel/y_long_КЛ1 ТР№4 ДО ЭД ЭКСГАУСТЕРА №d.csv\n",
      "/kaggle/input/y-train-northsteel/y_long_ТСМТ-101-010-50М-200 ТЕРМОПР.ПОДШ.Т.3.csv\n",
      "/kaggle/input/y-train-northsteel/y_long_ЭЛЕКТРООБОРУДОВАНИЯ ЭКСГАУСТЕРА №d.csv\n",
      "/kaggle/input/y-train-northsteel/y_long_МАСЛЯНЫЙ ФИЛЬТР ЭКСГАУСТЕРА №d.csv\n",
      "/kaggle/input/y-train-northsteel/y_long_УЛИТА ЭКСГ.d.csv\n",
      "/kaggle/input/y-train-northsteel/y_long_РЕГУЛИРУЮЩАЯ АППАРАТУРА ЭКСГАУСТЕРА №d.csv\n",
      "/kaggle/input/y-train-northsteel/y_long_ПОДШИПНИК ОПОРНЫЙ ЭКСГ.d.csv\n",
      "/kaggle/input/y-train-northsteel/y_long_ТСМТ-101-010-50М-200 ТЕРМОПР.ПОДШ.Т.4.csv\n",
      "/kaggle/input/y-train-northsteel/y_long_КЛ1 ТР№6 ДО ЭД ЭКСГАУСТЕРА №d.csv\n",
      "/kaggle/input/y-train-northsteel/y_long_ГАЗОВАЯ ЗАДВИЖКА ЭКСГ.d.csv\n",
      "/kaggle/input/y-train-northsteel/y_long_ГСМ ЭКСГ.d.csv\n",
      "/kaggle/input/y-train-northsteel/y_long_ВК 310С ВИБРОПРЕОБРАЗОВАТЕЛЬ ЭКСГ.d Т.3.csv\n",
      "/kaggle/input/y-train-northsteel/y_long_ТСМТ-101-010-50М-80 ТЕРМОПРЕОБР.МАСЛО.csv\n",
      "/kaggle/input/y-train-northsteel/y_long_КЛ2 ТР№6 ДО ЭД ЭКСГАУСТЕРА №d.csv\n",
      "/kaggle/input/y-train-northsteel/y_long_ТИРИСТОРНЫЙ ВОЗБУДИТЕЛЬ ТВ-400 ЭКСГ.d ВУ1.csv\n",
      "/kaggle/input/y-train-northsteel/y_long_КЛ1 ТР№5 ДО ЭД ЭКСГАУСТЕРА №d.csv\n",
      "/kaggle/input/y-train-northsteel/y_long_ДВИГАТЕЛЬ РЕЗЕРВНОГО МАСЛОНАСОСА ЭКСГ.d.csv\n",
      "/kaggle/input/y-train-northsteel/y_long_КЛ1 ТР№8 ДО ЭД ЭКСГАУСТЕРА №d.csv\n",
      "/kaggle/input/y-train-northsteel/y_long_МЕТРАН-100 ДАТЧИКИ ДАВЛЕНИЯ ЭКСГ.d.csv\n",
      "/kaggle/input/y-train-northsteel/y_long_ЗАДВИЖКА ЭКСГ.d.csv\n",
      "/kaggle/input/y-train-northsteel/y_long_КЛ2 ТР№5 ДО ЭД ЭКСГАУСТЕРА №d.csv\n",
      "/kaggle/input/y-train-northsteel/y_long_САПФИР 22 МДД ПЕРЕПАД ДАВЛ. НА ЦИКЛОНЕ.csv\n",
      "/kaggle/input/y-train-northsteel/y_long_ПОДШИПНИК ОПОРНЫЙ №2 ЭКСГ.d.csv\n",
      "/kaggle/input/y-train-northsteel/y_long_МАСЛОНАСОС ШЕСТЕРЕНЧАТЫЙ (РЕЗ.) ЭКСГ.d.csv\n",
      "/kaggle/input/y-train-northsteel/y_long_ПОДШИПНИК ОПОРНО-УПОРНЫЙ ЭКСГ.d.csv\n",
      "/kaggle/input/y-train-northsteel/y_long_ЗАПОРНАЯ АРМАТУРА ЭКСГАУСТЕРА №d.csv\n",
      "/kaggle/input/y-train-northsteel/y_long_КОРПУС ЭКСГ.d.csv\n",
      "/kaggle/input/y-train-northsteel/y_long_ВК 310С ВИБРОПРЕОБРАЗОВАТЕЛЬ ЭКСГ.d Т.4.csv\n",
      "/kaggle/input/y-train-northsteel/y_long_ТИРИСТОРНЫЙ ВОЗБУДИТЕЛЬ СПВД-М10-400-5.csv\n",
      "/kaggle/input/y-train-northsteel/y_long_КЛ1 ТР№9 ДО ЭД ЭКСГАУСТЕРА №d.csv\n",
      "/kaggle/input/y-train-northsteel/y_long_ЭЛДВИГАТЕЛЬ ГАЗ. ЗАДВИЖКИ ЭКСГ.d.csv\n",
      "/kaggle/input/y-train-northsteel/y_long_ДВИГАТЕЛЬ ПУСКОВОГО МАСЛОНАСОСА ЭКСГ.d.csv\n",
      "/kaggle/input/y-train-northsteel/y_long_ТИРИСТ. ВОЗБУДИТЕЛЬ ВТ-РЭМ-400 ЭКСГ.d ВУ1.csv\n",
      "/kaggle/input/y-train-northsteel/y_long_ЭКСГАУСТЕР №d.csv\n",
      "/kaggle/input/y-train-northsteel/y_long_ТР-Р ТМ-4000-106 ЭКСГ.d.csv\n",
      "/kaggle/input/y-train-northsteel/y_long_МАСЛОНАСОС РАБОЧИЙ ЭКСГ.d.csv\n",
      "/kaggle/input/y-train-northsteel/y_long_КЛ1 ТР№7 ДО ЭД ЭКСГАУСТЕРА №d.csv\n",
      "/kaggle/input/y-train-northsteel/y_long_МАСЛОБАК ЭКСГ.d.csv\n",
      "/kaggle/input/y-train-northsteel/y_long_ТИРИСТ. ВОЗБУДИТЕЛЬ ВТ-РЭМ-400 ЭКСГ.d ВУ2.csv\n",
      "/kaggle/input/y-train-northsteel/y_long_ТР-Р ТМ-6300-106 ЭКСГ.d.csv\n",
      "/kaggle/input/y-train-northsteel/y_long_МАСЛОСТАНЦИЯ ЖИДКОЙ СМАЗКИ ЭКСГ.d.csv\n",
      "/kaggle/input/y-train-northsteel/y_long_КОЖУХ МУФТЫ ЭКСГ.d.csv\n",
      "/kaggle/input/y-train-northsteel/y_long_ПОДШИПНИК ОПОРНЫЙ №1 ЭКСГ.d.csv\n",
      "/kaggle/input/y-train-northsteel/y_long_РОТОР ЭКСГ.d.csv\n",
      "/kaggle/input/y-train-northsteel/dict_long.csv\n",
      "/kaggle/input/y-train-northsteel/y_long_ТСМТ-101-010-50М-400 ТЕРМОПР.ПОДШ.Т.1.csv\n",
      "/kaggle/input/y-train-northsteel/y_long_МАСЛОПРОВОДЫ ЭКСГАУСТЕРА №d.csv\n",
      "/kaggle/input/y-train-northsteel/y_long_МАСЛОНАСОС ШЕСТЕРЕНЧАТЫЙ (ПУСК.) ЭКСГ.d.csv\n",
      "/kaggle/input/y-train-northsteel/y_long_КЛ2 ТР№4 ДО ЭД ЭКСГАУСТЕРА №d.csv\n",
      "/kaggle/input/y-train-northsteel/y_long_ВК 310С ВИБРОПРЕОБРАЗОВАТЕЛЬ ЭКСГ.d Т.1.csv\n",
      "/kaggle/input/y-train-northsteel/y_long_ТСМТ-101-010-50М-400 ТЕРМОПР.ПОДШ.Т.2.csv\n"
     ]
    }
   ],
   "source": [
    "##### This Python 3 environment comes with many helpful analytics libraries installed\n",
    "# It is defined by the kaggle/python Docker image: https://github.com/kaggle/docker-python\n",
    "# For example, here's several helpful packages to load\n",
    "\n",
    "import numpy as np # linear algebra\n",
    "import pandas as pd # data processing, CSV file I/O (e.g. pd.read_csv)\n",
    "\n",
    "# Input data files are available in the read-only \"../input/\" directory\n",
    "# For example, running this (by clicking run or pressing Shift+Enter) will list all files under the input directory\n",
    "\n",
    "import os\n",
    "for dirname, _, filenames in os.walk('/kaggle/input'):\n",
    "    for filename in filenames:\n",
    "        print(os.path.join(dirname, filename))\n",
    "\n",
    "# You can write up to 20GB to the current directory (/kaggle/working/) that gets preserved as output when you create a version using \"Save & Run All\" \n",
    "# You can also write temporary files to /kaggle/temp/, but they won't be saved outside of the current session"
   ]
  },
  {
   "cell_type": "code",
   "execution_count": 2,
   "id": "4e558e1b",
   "metadata": {
    "execution": {
     "iopub.execute_input": "2023-05-28T20:27:36.777103Z",
     "iopub.status.busy": "2023-05-28T20:27:36.776194Z",
     "iopub.status.idle": "2023-05-28T20:28:05.163107Z",
     "shell.execute_reply": "2023-05-28T20:28:05.161435Z"
    },
    "papermill": {
     "duration": 28.396209,
     "end_time": "2023-05-28T20:28:05.166163",
     "exception": false,
     "start_time": "2023-05-28T20:27:36.769954",
     "status": "completed"
    },
    "tags": []
   },
   "outputs": [],
   "source": [
    "X_train = pd.read_csv(\"/kaggle/input/x-train-northsteel/ЭКСГАУСТЕР 4.csv\",parse_dates=True)\n"
   ]
  },
  {
   "cell_type": "code",
   "execution_count": 3,
   "id": "88178c4e",
   "metadata": {
    "execution": {
     "iopub.execute_input": "2023-05-28T20:28:05.178930Z",
     "iopub.status.busy": "2023-05-28T20:28:05.178538Z",
     "iopub.status.idle": "2023-05-28T20:28:48.299521Z",
     "shell.execute_reply": "2023-05-28T20:28:48.298422Z"
    },
    "papermill": {
     "duration": 43.13624,
     "end_time": "2023-05-28T20:28:48.308016",
     "exception": false,
     "start_time": "2023-05-28T20:28:05.171776",
     "status": "completed"
    },
    "tags": []
   },
   "outputs": [
    {
     "data": {
      "text/html": [
       "<div>\n",
       "<style scoped>\n",
       "    .dataframe tbody tr th:only-of-type {\n",
       "        vertical-align: middle;\n",
       "    }\n",
       "\n",
       "    .dataframe tbody tr th {\n",
       "        vertical-align: top;\n",
       "    }\n",
       "\n",
       "    .dataframe thead th {\n",
       "        text-align: right;\n",
       "    }\n",
       "</style>\n",
       "<table border=\"1\" class=\"dataframe\">\n",
       "  <thead>\n",
       "    <tr style=\"text-align: right;\">\n",
       "      <th></th>\n",
       "      <th>ТОК РОТОРА 1</th>\n",
       "      <th>ТОК РОТОРА 2</th>\n",
       "      <th>ТОК СТАТОРА</th>\n",
       "      <th>ВИБРАЦИЯ НА ОПОРЕ 1</th>\n",
       "      <th>ВИБРАЦИЯ НА ОПОРЕ 2</th>\n",
       "      <th>ВИБРАЦИЯ НА ОПОРЕ 3</th>\n",
       "      <th>ВИБРАЦИЯ НА ОПОРЕ 3. ПРОДОЛЬНАЯ</th>\n",
       "      <th>ВИБРАЦИЯ НА ОПОРЕ 4</th>\n",
       "      <th>ВИБРАЦИЯ НА ОПОРЕ 4. ПРОДОЛЬНАЯ</th>\n",
       "      <th>ТЕМПЕРАТУРА ПОДШИПНИКА НА ОПОРЕ 1</th>\n",
       "      <th>ТЕМПЕРАТУРА ПОДШИПНИКА НА ОПОРЕ 2</th>\n",
       "      <th>ТЕМПЕРАТУРА ПОДШИПНИКА НА ОПОРЕ 3</th>\n",
       "      <th>ТЕМПЕРАТУРА ПОДШИПНИКА НА ОПОРЕ 4</th>\n",
       "      <th>ТЕМПЕРАТУРА МАСЛА В МАСЛОБЛОКЕ</th>\n",
       "      <th>ТЕМПЕРАТУРА МАСЛА В СИСТЕМЕ</th>\n",
       "      <th>ДАВЛЕНИЕ МАСЛА В СИСТЕМЕ</th>\n",
       "    </tr>\n",
       "    <tr>\n",
       "      <th>DT</th>\n",
       "      <th></th>\n",
       "      <th></th>\n",
       "      <th></th>\n",
       "      <th></th>\n",
       "      <th></th>\n",
       "      <th></th>\n",
       "      <th></th>\n",
       "      <th></th>\n",
       "      <th></th>\n",
       "      <th></th>\n",
       "      <th></th>\n",
       "      <th></th>\n",
       "      <th></th>\n",
       "      <th></th>\n",
       "      <th></th>\n",
       "      <th></th>\n",
       "    </tr>\n",
       "  </thead>\n",
       "  <tbody>\n",
       "    <tr>\n",
       "      <th>2019-01-16 13:21:00</th>\n",
       "      <td>363.676667</td>\n",
       "      <td>363.676667</td>\n",
       "      <td>244.078000</td>\n",
       "      <td>1.600000</td>\n",
       "      <td>0.760000</td>\n",
       "      <td>0.670000</td>\n",
       "      <td>1.630000</td>\n",
       "      <td>3.450000</td>\n",
       "      <td>0.740000</td>\n",
       "      <td>41.370000</td>\n",
       "      <td>39.750000</td>\n",
       "      <td>39.750000</td>\n",
       "      <td>44.538548</td>\n",
       "      <td>40.560000</td>\n",
       "      <td>33.260000</td>\n",
       "      <td>119.385000</td>\n",
       "    </tr>\n",
       "    <tr>\n",
       "      <th>2019-01-16 13:21:10</th>\n",
       "      <td>363.103333</td>\n",
       "      <td>363.103333</td>\n",
       "      <td>243.032500</td>\n",
       "      <td>1.572917</td>\n",
       "      <td>0.751736</td>\n",
       "      <td>0.642361</td>\n",
       "      <td>1.558160</td>\n",
       "      <td>3.470000</td>\n",
       "      <td>0.734375</td>\n",
       "      <td>41.374596</td>\n",
       "      <td>39.752083</td>\n",
       "      <td>39.995457</td>\n",
       "      <td>44.863054</td>\n",
       "      <td>40.401081</td>\n",
       "      <td>33.343074</td>\n",
       "      <td>119.444440</td>\n",
       "    </tr>\n",
       "    <tr>\n",
       "      <th>2019-01-16 13:21:20</th>\n",
       "      <td>363.266667</td>\n",
       "      <td>363.266667</td>\n",
       "      <td>242.940000</td>\n",
       "      <td>1.553819</td>\n",
       "      <td>0.735918</td>\n",
       "      <td>0.638503</td>\n",
       "      <td>1.581790</td>\n",
       "      <td>2.900000</td>\n",
       "      <td>0.748457</td>\n",
       "      <td>41.374596</td>\n",
       "      <td>39.752083</td>\n",
       "      <td>39.932360</td>\n",
       "      <td>44.799956</td>\n",
       "      <td>40.383053</td>\n",
       "      <td>33.261948</td>\n",
       "      <td>119.330000</td>\n",
       "    </tr>\n",
       "    <tr>\n",
       "      <th>2019-01-16 13:21:30</th>\n",
       "      <td>363.414372</td>\n",
       "      <td>363.414372</td>\n",
       "      <td>243.836802</td>\n",
       "      <td>1.546007</td>\n",
       "      <td>0.736979</td>\n",
       "      <td>0.653646</td>\n",
       "      <td>1.657986</td>\n",
       "      <td>3.297743</td>\n",
       "      <td>0.730903</td>\n",
       "      <td>41.374596</td>\n",
       "      <td>39.752083</td>\n",
       "      <td>39.833208</td>\n",
       "      <td>44.781928</td>\n",
       "      <td>40.563330</td>\n",
       "      <td>33.586453</td>\n",
       "      <td>119.398146</td>\n",
       "    </tr>\n",
       "    <tr>\n",
       "      <th>2019-01-16 13:21:40</th>\n",
       "      <td>363.103333</td>\n",
       "      <td>363.103333</td>\n",
       "      <td>242.050000</td>\n",
       "      <td>1.545139</td>\n",
       "      <td>0.742188</td>\n",
       "      <td>0.677083</td>\n",
       "      <td>1.740000</td>\n",
       "      <td>2.990000</td>\n",
       "      <td>0.739583</td>\n",
       "      <td>41.536849</td>\n",
       "      <td>39.752083</td>\n",
       "      <td>39.752083</td>\n",
       "      <td>43.810000</td>\n",
       "      <td>39.750000</td>\n",
       "      <td>33.505327</td>\n",
       "      <td>119.326667</td>\n",
       "    </tr>\n",
       "    <tr>\n",
       "      <th>...</th>\n",
       "      <td>...</td>\n",
       "      <td>...</td>\n",
       "      <td>...</td>\n",
       "      <td>...</td>\n",
       "      <td>...</td>\n",
       "      <td>...</td>\n",
       "      <td>...</td>\n",
       "      <td>...</td>\n",
       "      <td>...</td>\n",
       "      <td>...</td>\n",
       "      <td>...</td>\n",
       "      <td>...</td>\n",
       "      <td>...</td>\n",
       "      <td>...</td>\n",
       "      <td>...</td>\n",
       "      <td>...</td>\n",
       "    </tr>\n",
       "    <tr>\n",
       "      <th>2021-04-29 20:17:50</th>\n",
       "      <td>227.802000</td>\n",
       "      <td>227.802000</td>\n",
       "      <td>256.457000</td>\n",
       "      <td>0.691667</td>\n",
       "      <td>0.422857</td>\n",
       "      <td>0.824444</td>\n",
       "      <td>1.900000</td>\n",
       "      <td>0.802222</td>\n",
       "      <td>0.810000</td>\n",
       "      <td>38.670000</td>\n",
       "      <td>36.915000</td>\n",
       "      <td>29.615000</td>\n",
       "      <td>32.045000</td>\n",
       "      <td>32.045000</td>\n",
       "      <td>28.800000</td>\n",
       "      <td>143.218000</td>\n",
       "    </tr>\n",
       "    <tr>\n",
       "      <th>2021-06-18 01:21:30</th>\n",
       "      <td>243.908000</td>\n",
       "      <td>243.908000</td>\n",
       "      <td>262.240000</td>\n",
       "      <td>1.410000</td>\n",
       "      <td>1.122000</td>\n",
       "      <td>2.508000</td>\n",
       "      <td>6.800000</td>\n",
       "      <td>1.262000</td>\n",
       "      <td>2.678000</td>\n",
       "      <td>44.080000</td>\n",
       "      <td>47.455000</td>\n",
       "      <td>40.560000</td>\n",
       "      <td>41.780000</td>\n",
       "      <td>43.000000</td>\n",
       "      <td>40.290000</td>\n",
       "      <td>119.744000</td>\n",
       "    </tr>\n",
       "    <tr>\n",
       "      <th>2021-06-21 19:43:00</th>\n",
       "      <td>243.866667</td>\n",
       "      <td>243.866667</td>\n",
       "      <td>248.206667</td>\n",
       "      <td>0.983333</td>\n",
       "      <td>0.910000</td>\n",
       "      <td>2.290000</td>\n",
       "      <td>5.083333</td>\n",
       "      <td>1.353333</td>\n",
       "      <td>2.223333</td>\n",
       "      <td>46.645000</td>\n",
       "      <td>49.085000</td>\n",
       "      <td>45.970000</td>\n",
       "      <td>45.700000</td>\n",
       "      <td>47.455000</td>\n",
       "      <td>48.270000</td>\n",
       "      <td>113.846667</td>\n",
       "    </tr>\n",
       "    <tr>\n",
       "      <th>2021-07-01 23:41:10</th>\n",
       "      <td>244.760000</td>\n",
       "      <td>244.760000</td>\n",
       "      <td>266.060000</td>\n",
       "      <td>0.816000</td>\n",
       "      <td>0.426667</td>\n",
       "      <td>0.149000</td>\n",
       "      <td>0.640000</td>\n",
       "      <td>1.203000</td>\n",
       "      <td>0.270000</td>\n",
       "      <td>49.895000</td>\n",
       "      <td>49.760000</td>\n",
       "      <td>37.680000</td>\n",
       "      <td>41.167500</td>\n",
       "      <td>39.345000</td>\n",
       "      <td>36.186000</td>\n",
       "      <td>152.590000</td>\n",
       "    </tr>\n",
       "    <tr>\n",
       "      <th>2021-09-17 14:14:30</th>\n",
       "      <td>247.005000</td>\n",
       "      <td>247.005000</td>\n",
       "      <td>274.508333</td>\n",
       "      <td>0.346667</td>\n",
       "      <td>1.013333</td>\n",
       "      <td>1.536667</td>\n",
       "      <td>3.618333</td>\n",
       "      <td>2.110000</td>\n",
       "      <td>1.923333</td>\n",
       "      <td>49.760000</td>\n",
       "      <td>44.620000</td>\n",
       "      <td>39.480000</td>\n",
       "      <td>40.290000</td>\n",
       "      <td>39.345000</td>\n",
       "      <td>33.260000</td>\n",
       "      <td>164.408333</td>\n",
       "    </tr>\n",
       "  </tbody>\n",
       "</table>\n",
       "<p>4755649 rows × 16 columns</p>\n",
       "</div>"
      ],
      "text/plain": [
       "                     ТОК РОТОРА 1  ТОК РОТОРА 2  ТОК СТАТОРА  \\\n",
       "DT                                                             \n",
       "2019-01-16 13:21:00    363.676667    363.676667   244.078000   \n",
       "2019-01-16 13:21:10    363.103333    363.103333   243.032500   \n",
       "2019-01-16 13:21:20    363.266667    363.266667   242.940000   \n",
       "2019-01-16 13:21:30    363.414372    363.414372   243.836802   \n",
       "2019-01-16 13:21:40    363.103333    363.103333   242.050000   \n",
       "...                           ...           ...          ...   \n",
       "2021-04-29 20:17:50    227.802000    227.802000   256.457000   \n",
       "2021-06-18 01:21:30    243.908000    243.908000   262.240000   \n",
       "2021-06-21 19:43:00    243.866667    243.866667   248.206667   \n",
       "2021-07-01 23:41:10    244.760000    244.760000   266.060000   \n",
       "2021-09-17 14:14:30    247.005000    247.005000   274.508333   \n",
       "\n",
       "                     ВИБРАЦИЯ НА ОПОРЕ 1  ВИБРАЦИЯ НА ОПОРЕ 2  \\\n",
       "DT                                                              \n",
       "2019-01-16 13:21:00             1.600000             0.760000   \n",
       "2019-01-16 13:21:10             1.572917             0.751736   \n",
       "2019-01-16 13:21:20             1.553819             0.735918   \n",
       "2019-01-16 13:21:30             1.546007             0.736979   \n",
       "2019-01-16 13:21:40             1.545139             0.742188   \n",
       "...                                  ...                  ...   \n",
       "2021-04-29 20:17:50             0.691667             0.422857   \n",
       "2021-06-18 01:21:30             1.410000             1.122000   \n",
       "2021-06-21 19:43:00             0.983333             0.910000   \n",
       "2021-07-01 23:41:10             0.816000             0.426667   \n",
       "2021-09-17 14:14:30             0.346667             1.013333   \n",
       "\n",
       "                     ВИБРАЦИЯ НА ОПОРЕ 3  ВИБРАЦИЯ НА ОПОРЕ 3. ПРОДОЛЬНАЯ  \\\n",
       "DT                                                                          \n",
       "2019-01-16 13:21:00             0.670000                         1.630000   \n",
       "2019-01-16 13:21:10             0.642361                         1.558160   \n",
       "2019-01-16 13:21:20             0.638503                         1.581790   \n",
       "2019-01-16 13:21:30             0.653646                         1.657986   \n",
       "2019-01-16 13:21:40             0.677083                         1.740000   \n",
       "...                                  ...                              ...   \n",
       "2021-04-29 20:17:50             0.824444                         1.900000   \n",
       "2021-06-18 01:21:30             2.508000                         6.800000   \n",
       "2021-06-21 19:43:00             2.290000                         5.083333   \n",
       "2021-07-01 23:41:10             0.149000                         0.640000   \n",
       "2021-09-17 14:14:30             1.536667                         3.618333   \n",
       "\n",
       "                     ВИБРАЦИЯ НА ОПОРЕ 4  ВИБРАЦИЯ НА ОПОРЕ 4. ПРОДОЛЬНАЯ  \\\n",
       "DT                                                                          \n",
       "2019-01-16 13:21:00             3.450000                         0.740000   \n",
       "2019-01-16 13:21:10             3.470000                         0.734375   \n",
       "2019-01-16 13:21:20             2.900000                         0.748457   \n",
       "2019-01-16 13:21:30             3.297743                         0.730903   \n",
       "2019-01-16 13:21:40             2.990000                         0.739583   \n",
       "...                                  ...                              ...   \n",
       "2021-04-29 20:17:50             0.802222                         0.810000   \n",
       "2021-06-18 01:21:30             1.262000                         2.678000   \n",
       "2021-06-21 19:43:00             1.353333                         2.223333   \n",
       "2021-07-01 23:41:10             1.203000                         0.270000   \n",
       "2021-09-17 14:14:30             2.110000                         1.923333   \n",
       "\n",
       "                     ТЕМПЕРАТУРА ПОДШИПНИКА НА ОПОРЕ 1  \\\n",
       "DT                                                       \n",
       "2019-01-16 13:21:00                          41.370000   \n",
       "2019-01-16 13:21:10                          41.374596   \n",
       "2019-01-16 13:21:20                          41.374596   \n",
       "2019-01-16 13:21:30                          41.374596   \n",
       "2019-01-16 13:21:40                          41.536849   \n",
       "...                                                ...   \n",
       "2021-04-29 20:17:50                          38.670000   \n",
       "2021-06-18 01:21:30                          44.080000   \n",
       "2021-06-21 19:43:00                          46.645000   \n",
       "2021-07-01 23:41:10                          49.895000   \n",
       "2021-09-17 14:14:30                          49.760000   \n",
       "\n",
       "                     ТЕМПЕРАТУРА ПОДШИПНИКА НА ОПОРЕ 2  \\\n",
       "DT                                                       \n",
       "2019-01-16 13:21:00                          39.750000   \n",
       "2019-01-16 13:21:10                          39.752083   \n",
       "2019-01-16 13:21:20                          39.752083   \n",
       "2019-01-16 13:21:30                          39.752083   \n",
       "2019-01-16 13:21:40                          39.752083   \n",
       "...                                                ...   \n",
       "2021-04-29 20:17:50                          36.915000   \n",
       "2021-06-18 01:21:30                          47.455000   \n",
       "2021-06-21 19:43:00                          49.085000   \n",
       "2021-07-01 23:41:10                          49.760000   \n",
       "2021-09-17 14:14:30                          44.620000   \n",
       "\n",
       "                     ТЕМПЕРАТУРА ПОДШИПНИКА НА ОПОРЕ 3  \\\n",
       "DT                                                       \n",
       "2019-01-16 13:21:00                          39.750000   \n",
       "2019-01-16 13:21:10                          39.995457   \n",
       "2019-01-16 13:21:20                          39.932360   \n",
       "2019-01-16 13:21:30                          39.833208   \n",
       "2019-01-16 13:21:40                          39.752083   \n",
       "...                                                ...   \n",
       "2021-04-29 20:17:50                          29.615000   \n",
       "2021-06-18 01:21:30                          40.560000   \n",
       "2021-06-21 19:43:00                          45.970000   \n",
       "2021-07-01 23:41:10                          37.680000   \n",
       "2021-09-17 14:14:30                          39.480000   \n",
       "\n",
       "                     ТЕМПЕРАТУРА ПОДШИПНИКА НА ОПОРЕ 4  \\\n",
       "DT                                                       \n",
       "2019-01-16 13:21:00                          44.538548   \n",
       "2019-01-16 13:21:10                          44.863054   \n",
       "2019-01-16 13:21:20                          44.799956   \n",
       "2019-01-16 13:21:30                          44.781928   \n",
       "2019-01-16 13:21:40                          43.810000   \n",
       "...                                                ...   \n",
       "2021-04-29 20:17:50                          32.045000   \n",
       "2021-06-18 01:21:30                          41.780000   \n",
       "2021-06-21 19:43:00                          45.700000   \n",
       "2021-07-01 23:41:10                          41.167500   \n",
       "2021-09-17 14:14:30                          40.290000   \n",
       "\n",
       "                     ТЕМПЕРАТУРА МАСЛА В МАСЛОБЛОКЕ  \\\n",
       "DT                                                    \n",
       "2019-01-16 13:21:00                       40.560000   \n",
       "2019-01-16 13:21:10                       40.401081   \n",
       "2019-01-16 13:21:20                       40.383053   \n",
       "2019-01-16 13:21:30                       40.563330   \n",
       "2019-01-16 13:21:40                       39.750000   \n",
       "...                                             ...   \n",
       "2021-04-29 20:17:50                       32.045000   \n",
       "2021-06-18 01:21:30                       43.000000   \n",
       "2021-06-21 19:43:00                       47.455000   \n",
       "2021-07-01 23:41:10                       39.345000   \n",
       "2021-09-17 14:14:30                       39.345000   \n",
       "\n",
       "                     ТЕМПЕРАТУРА МАСЛА В СИСТЕМЕ  ДАВЛЕНИЕ МАСЛА В СИСТЕМЕ  \n",
       "DT                                                                          \n",
       "2019-01-16 13:21:00                    33.260000                119.385000  \n",
       "2019-01-16 13:21:10                    33.343074                119.444440  \n",
       "2019-01-16 13:21:20                    33.261948                119.330000  \n",
       "2019-01-16 13:21:30                    33.586453                119.398146  \n",
       "2019-01-16 13:21:40                    33.505327                119.326667  \n",
       "...                                          ...                       ...  \n",
       "2021-04-29 20:17:50                    28.800000                143.218000  \n",
       "2021-06-18 01:21:30                    40.290000                119.744000  \n",
       "2021-06-21 19:43:00                    48.270000                113.846667  \n",
       "2021-07-01 23:41:10                    36.186000                152.590000  \n",
       "2021-09-17 14:14:30                    33.260000                164.408333  \n",
       "\n",
       "[4755649 rows x 16 columns]"
      ]
     },
     "execution_count": 3,
     "metadata": {},
     "output_type": "execute_result"
    }
   ],
   "source": [
    "import re\n",
    "\n",
    "def reduced(x):\n",
    "    answer = re.sub(r\"ЭКСГАУСТЕР\\s?\\n?№\\d+.\", \"\", x).strip()\n",
    "    answer = re.sub(r\"ЭКСГАУСТЕР\\s?\\n?\\d+.\", \"\", x).strip()\n",
    "    return answer\n",
    "\n",
    "\n",
    "if \"DT\" in X_train.columns:\n",
    "    X_train = X_train.set_index(\"DT\")\n",
    "for col in X_train.columns:\n",
    "    X_train = X_train.rename(columns={col: reduced(col).strip()})\n",
    "X_train = X_train[[\"ТОК РОТОРА 1\",\"ТОК РОТОРА 2\",\"ТОК СТАТОРА\",\n",
    "                   \"ВИБРАЦИЯ НА ОПОРЕ 1\",\"ВИБРАЦИЯ НА ОПОРЕ 2\",\n",
    "                   \"ВИБРАЦИЯ НА ОПОРЕ 3\",\"ВИБРАЦИЯ НА ОПОРЕ 3. ПРОДОЛЬНАЯ\",\n",
    "                   \"ВИБРАЦИЯ НА ОПОРЕ 4\",\"ВИБРАЦИЯ НА ОПОРЕ 4. ПРОДОЛЬНАЯ\",\n",
    "                   \"ТЕМПЕРАТУРА ПОДШИПНИКА НА ОПОРЕ 1\",\n",
    "                   \"ТЕМПЕРАТУРА ПОДШИПНИКА НА ОПОРЕ 2\",\n",
    "                   \"ТЕМПЕРАТУРА ПОДШИПНИКА НА ОПОРЕ 3\",\n",
    "                   \"ТЕМПЕРАТУРА ПОДШИПНИКА НА ОПОРЕ 4\",\n",
    "                   \"ТЕМПЕРАТУРА МАСЛА В МАСЛОБЛОКЕ\",\n",
    "                   \"ТЕМПЕРАТУРА МАСЛА В СИСТЕМЕ\",\n",
    "                   \"ДАВЛЕНИЕ МАСЛА В СИСТЕМЕ\"]]\n",
    "for i,x in enumerate(X_train.index.values):\n",
    "    X_train.index.values[i] = pd.Timestamp(X_train.index.values[i])\n",
    "X_train"
   ]
  },
  {
   "cell_type": "code",
   "execution_count": 4,
   "id": "482f66de",
   "metadata": {
    "execution": {
     "iopub.execute_input": "2023-05-28T20:28:48.323589Z",
     "iopub.status.busy": "2023-05-28T20:28:48.322128Z",
     "iopub.status.idle": "2023-05-28T20:29:32.055833Z",
     "shell.execute_reply": "2023-05-28T20:29:32.054426Z"
    },
    "papermill": {
     "duration": 43.752268,
     "end_time": "2023-05-28T20:29:32.066889",
     "exception": false,
     "start_time": "2023-05-28T20:28:48.314621",
     "status": "completed"
    },
    "tags": []
   },
   "outputs": [
    {
     "data": {
      "text/html": [
       "<div>\n",
       "<style scoped>\n",
       "    .dataframe tbody tr th:only-of-type {\n",
       "        vertical-align: middle;\n",
       "    }\n",
       "\n",
       "    .dataframe tbody tr th {\n",
       "        vertical-align: top;\n",
       "    }\n",
       "\n",
       "    .dataframe thead th {\n",
       "        text-align: right;\n",
       "    }\n",
       "</style>\n",
       "<table border=\"1\" class=\"dataframe\">\n",
       "  <thead>\n",
       "    <tr style=\"text-align: right;\">\n",
       "      <th></th>\n",
       "      <th>Y_ЭКСГАУСТЕР А/М №4_ЭЛЕКТРОДВИГАТЕЛЬ ДСПУ-140-84-4 ЭКСГ. №4</th>\n",
       "      <th>Y_ЭКСГАУСТЕР А/М №4_ПОДШИПНИК ОПОРНЫЙ ЭКСГ. №4</th>\n",
       "      <th>Y_ЭКСГАУСТЕР А/М №4_УЛИТА ЭКСГ. №4</th>\n",
       "      <th>Y_ЭКСГАУСТЕР А/М №4_РЕДУКТОР ГАЗ. ЗАДВИЖКИ ЭКСГ. №4</th>\n",
       "      <th>Y_ЭКСГАУСТЕР А/М №4_МАСЛОНАСОС РАБОЧИЙ ЭКСГ. №4</th>\n",
       "      <th>Y_ЭКСГАУСТЕР А/М №4_ЭЛЕКТРОАППАРАТУРА ЭКСГ. №4</th>\n",
       "      <th>Y_ЭКСГАУСТЕР А/М №4_ПОДШИПНИК ОПОРНЫЙ №2 ЭКСГ. №4</th>\n",
       "      <th>Y_ЭКСГАУСТЕР А/М №4_ЗАДВИЖКА ЭКСГ. №4</th>\n",
       "      <th>Y_ЭКСГАУСТЕР А/М №4_ГСМ ЭКСГ. №4</th>\n",
       "      <th>Y_ЭКСГАУСТЕР А/М №4_ВК 310С ВИБРОПРЕОБРАЗОВАТЕЛЬ ЭКСГ.№4 Т.1</th>\n",
       "      <th>...</th>\n",
       "      <th>Y_ЭКСГАУСТЕР А/М №4_ПОДШИПНИК ОПОРНО-УПОРНЫЙ ЭКСГ. №4</th>\n",
       "      <th>Y_ЭКСГАУСТЕР А/М №4_ЭКСГАУСТЕР А/М №4</th>\n",
       "      <th>Y_ЭКСГАУСТЕР А/М №4_ЗАП. И РЕГ. АРМАТУРА ЭКСГ.№4</th>\n",
       "      <th>Y_ЭКСГАУСТЕР А/М №4_ПОДШИПНИК ОПОРНЫЙ №1 ЭКСГ. №4</th>\n",
       "      <th>Y_ЭКСГАУСТЕР А/М №4_ЭЛ/ДВИГАТЕЛЬ ГАЗ. ЗАДВИЖКИ ЭКСГ. №4</th>\n",
       "      <th>Y_ЭКСГАУСТЕР А/М №4_КЛ1 ТР№4 ДО ЭД ЭКСГАУСТЕРА №4</th>\n",
       "      <th>Y_ЭКСГАУСТЕР А/М №4_КЛ2 ТР№4 ДО ЭД ЭКСГАУСТЕРА №4</th>\n",
       "      <th>Y_ЭКСГАУСТЕР А/М №4_ТР-Р ТМ-4000-10/6 ЭКСГ. №4</th>\n",
       "      <th>Y_ЭКСГАУСТЕР А/М №4_ТИРИСТ. ВОЗБУДИТЕЛЬ ВТ-РЭМ-400 ЭКСГ4 ВУ1</th>\n",
       "      <th>Y_ЭКСГАУСТЕР А/М №4_МАСЛОПРОВОДЫ ЭКСГ №4</th>\n",
       "    </tr>\n",
       "    <tr>\n",
       "      <th>DT</th>\n",
       "      <th></th>\n",
       "      <th></th>\n",
       "      <th></th>\n",
       "      <th></th>\n",
       "      <th></th>\n",
       "      <th></th>\n",
       "      <th></th>\n",
       "      <th></th>\n",
       "      <th></th>\n",
       "      <th></th>\n",
       "      <th></th>\n",
       "      <th></th>\n",
       "      <th></th>\n",
       "      <th></th>\n",
       "      <th></th>\n",
       "      <th></th>\n",
       "      <th></th>\n",
       "      <th></th>\n",
       "      <th></th>\n",
       "      <th></th>\n",
       "      <th></th>\n",
       "    </tr>\n",
       "  </thead>\n",
       "  <tbody>\n",
       "    <tr>\n",
       "      <th>2019-01-16 13:21:00</th>\n",
       "      <td>0.0</td>\n",
       "      <td>0.0</td>\n",
       "      <td>0.0</td>\n",
       "      <td>0.0</td>\n",
       "      <td>0.0</td>\n",
       "      <td>0.0</td>\n",
       "      <td>0.0</td>\n",
       "      <td>0.0</td>\n",
       "      <td>0.0</td>\n",
       "      <td>0.0</td>\n",
       "      <td>...</td>\n",
       "      <td>0.0</td>\n",
       "      <td>0.0</td>\n",
       "      <td>0.0</td>\n",
       "      <td>0.0</td>\n",
       "      <td>0.0</td>\n",
       "      <td>0.0</td>\n",
       "      <td>0.0</td>\n",
       "      <td>0.0</td>\n",
       "      <td>0.0</td>\n",
       "      <td>0.0</td>\n",
       "    </tr>\n",
       "    <tr>\n",
       "      <th>2019-01-16 13:21:10</th>\n",
       "      <td>0.0</td>\n",
       "      <td>0.0</td>\n",
       "      <td>0.0</td>\n",
       "      <td>0.0</td>\n",
       "      <td>0.0</td>\n",
       "      <td>0.0</td>\n",
       "      <td>0.0</td>\n",
       "      <td>0.0</td>\n",
       "      <td>0.0</td>\n",
       "      <td>0.0</td>\n",
       "      <td>...</td>\n",
       "      <td>0.0</td>\n",
       "      <td>0.0</td>\n",
       "      <td>0.0</td>\n",
       "      <td>0.0</td>\n",
       "      <td>0.0</td>\n",
       "      <td>0.0</td>\n",
       "      <td>0.0</td>\n",
       "      <td>0.0</td>\n",
       "      <td>0.0</td>\n",
       "      <td>0.0</td>\n",
       "    </tr>\n",
       "    <tr>\n",
       "      <th>2019-01-16 13:21:20</th>\n",
       "      <td>0.0</td>\n",
       "      <td>0.0</td>\n",
       "      <td>0.0</td>\n",
       "      <td>0.0</td>\n",
       "      <td>0.0</td>\n",
       "      <td>0.0</td>\n",
       "      <td>0.0</td>\n",
       "      <td>0.0</td>\n",
       "      <td>0.0</td>\n",
       "      <td>0.0</td>\n",
       "      <td>...</td>\n",
       "      <td>0.0</td>\n",
       "      <td>0.0</td>\n",
       "      <td>0.0</td>\n",
       "      <td>0.0</td>\n",
       "      <td>0.0</td>\n",
       "      <td>0.0</td>\n",
       "      <td>0.0</td>\n",
       "      <td>0.0</td>\n",
       "      <td>0.0</td>\n",
       "      <td>0.0</td>\n",
       "    </tr>\n",
       "    <tr>\n",
       "      <th>2019-01-16 13:21:30</th>\n",
       "      <td>0.0</td>\n",
       "      <td>0.0</td>\n",
       "      <td>0.0</td>\n",
       "      <td>0.0</td>\n",
       "      <td>0.0</td>\n",
       "      <td>0.0</td>\n",
       "      <td>0.0</td>\n",
       "      <td>0.0</td>\n",
       "      <td>0.0</td>\n",
       "      <td>0.0</td>\n",
       "      <td>...</td>\n",
       "      <td>0.0</td>\n",
       "      <td>0.0</td>\n",
       "      <td>0.0</td>\n",
       "      <td>0.0</td>\n",
       "      <td>0.0</td>\n",
       "      <td>0.0</td>\n",
       "      <td>0.0</td>\n",
       "      <td>0.0</td>\n",
       "      <td>0.0</td>\n",
       "      <td>0.0</td>\n",
       "    </tr>\n",
       "    <tr>\n",
       "      <th>2019-01-16 13:21:40</th>\n",
       "      <td>0.0</td>\n",
       "      <td>0.0</td>\n",
       "      <td>0.0</td>\n",
       "      <td>0.0</td>\n",
       "      <td>0.0</td>\n",
       "      <td>0.0</td>\n",
       "      <td>0.0</td>\n",
       "      <td>0.0</td>\n",
       "      <td>0.0</td>\n",
       "      <td>0.0</td>\n",
       "      <td>...</td>\n",
       "      <td>0.0</td>\n",
       "      <td>0.0</td>\n",
       "      <td>0.0</td>\n",
       "      <td>0.0</td>\n",
       "      <td>0.0</td>\n",
       "      <td>0.0</td>\n",
       "      <td>0.0</td>\n",
       "      <td>0.0</td>\n",
       "      <td>0.0</td>\n",
       "      <td>0.0</td>\n",
       "    </tr>\n",
       "    <tr>\n",
       "      <th>...</th>\n",
       "      <td>...</td>\n",
       "      <td>...</td>\n",
       "      <td>...</td>\n",
       "      <td>...</td>\n",
       "      <td>...</td>\n",
       "      <td>...</td>\n",
       "      <td>...</td>\n",
       "      <td>...</td>\n",
       "      <td>...</td>\n",
       "      <td>...</td>\n",
       "      <td>...</td>\n",
       "      <td>...</td>\n",
       "      <td>...</td>\n",
       "      <td>...</td>\n",
       "      <td>...</td>\n",
       "      <td>...</td>\n",
       "      <td>...</td>\n",
       "      <td>...</td>\n",
       "      <td>...</td>\n",
       "      <td>...</td>\n",
       "      <td>...</td>\n",
       "    </tr>\n",
       "    <tr>\n",
       "      <th>2021-12-31 23:59:10</th>\n",
       "      <td>2.0</td>\n",
       "      <td>2.0</td>\n",
       "      <td>2.0</td>\n",
       "      <td>0.0</td>\n",
       "      <td>0.0</td>\n",
       "      <td>0.0</td>\n",
       "      <td>0.0</td>\n",
       "      <td>2.0</td>\n",
       "      <td>2.0</td>\n",
       "      <td>0.0</td>\n",
       "      <td>...</td>\n",
       "      <td>2.0</td>\n",
       "      <td>0.0</td>\n",
       "      <td>0.0</td>\n",
       "      <td>0.0</td>\n",
       "      <td>0.0</td>\n",
       "      <td>2.0</td>\n",
       "      <td>2.0</td>\n",
       "      <td>2.0</td>\n",
       "      <td>0.0</td>\n",
       "      <td>0.0</td>\n",
       "    </tr>\n",
       "    <tr>\n",
       "      <th>2021-12-31 23:59:20</th>\n",
       "      <td>2.0</td>\n",
       "      <td>2.0</td>\n",
       "      <td>2.0</td>\n",
       "      <td>0.0</td>\n",
       "      <td>0.0</td>\n",
       "      <td>0.0</td>\n",
       "      <td>0.0</td>\n",
       "      <td>2.0</td>\n",
       "      <td>2.0</td>\n",
       "      <td>0.0</td>\n",
       "      <td>...</td>\n",
       "      <td>2.0</td>\n",
       "      <td>0.0</td>\n",
       "      <td>0.0</td>\n",
       "      <td>0.0</td>\n",
       "      <td>0.0</td>\n",
       "      <td>2.0</td>\n",
       "      <td>2.0</td>\n",
       "      <td>2.0</td>\n",
       "      <td>0.0</td>\n",
       "      <td>0.0</td>\n",
       "    </tr>\n",
       "    <tr>\n",
       "      <th>2021-12-31 23:59:30</th>\n",
       "      <td>2.0</td>\n",
       "      <td>2.0</td>\n",
       "      <td>2.0</td>\n",
       "      <td>0.0</td>\n",
       "      <td>0.0</td>\n",
       "      <td>0.0</td>\n",
       "      <td>0.0</td>\n",
       "      <td>2.0</td>\n",
       "      <td>2.0</td>\n",
       "      <td>0.0</td>\n",
       "      <td>...</td>\n",
       "      <td>2.0</td>\n",
       "      <td>0.0</td>\n",
       "      <td>0.0</td>\n",
       "      <td>0.0</td>\n",
       "      <td>0.0</td>\n",
       "      <td>2.0</td>\n",
       "      <td>2.0</td>\n",
       "      <td>2.0</td>\n",
       "      <td>0.0</td>\n",
       "      <td>0.0</td>\n",
       "    </tr>\n",
       "    <tr>\n",
       "      <th>2021-12-31 23:59:40</th>\n",
       "      <td>2.0</td>\n",
       "      <td>2.0</td>\n",
       "      <td>2.0</td>\n",
       "      <td>0.0</td>\n",
       "      <td>0.0</td>\n",
       "      <td>0.0</td>\n",
       "      <td>0.0</td>\n",
       "      <td>2.0</td>\n",
       "      <td>2.0</td>\n",
       "      <td>0.0</td>\n",
       "      <td>...</td>\n",
       "      <td>2.0</td>\n",
       "      <td>0.0</td>\n",
       "      <td>0.0</td>\n",
       "      <td>0.0</td>\n",
       "      <td>0.0</td>\n",
       "      <td>2.0</td>\n",
       "      <td>2.0</td>\n",
       "      <td>2.0</td>\n",
       "      <td>0.0</td>\n",
       "      <td>0.0</td>\n",
       "    </tr>\n",
       "    <tr>\n",
       "      <th>2021-12-31 23:59:50</th>\n",
       "      <td>2.0</td>\n",
       "      <td>2.0</td>\n",
       "      <td>2.0</td>\n",
       "      <td>0.0</td>\n",
       "      <td>0.0</td>\n",
       "      <td>0.0</td>\n",
       "      <td>0.0</td>\n",
       "      <td>2.0</td>\n",
       "      <td>2.0</td>\n",
       "      <td>0.0</td>\n",
       "      <td>...</td>\n",
       "      <td>2.0</td>\n",
       "      <td>0.0</td>\n",
       "      <td>0.0</td>\n",
       "      <td>0.0</td>\n",
       "      <td>0.0</td>\n",
       "      <td>2.0</td>\n",
       "      <td>2.0</td>\n",
       "      <td>2.0</td>\n",
       "      <td>0.0</td>\n",
       "      <td>0.0</td>\n",
       "    </tr>\n",
       "  </tbody>\n",
       "</table>\n",
       "<p>9335034 rows × 23 columns</p>\n",
       "</div>"
      ],
      "text/plain": [
       "                     Y_ЭКСГАУСТЕР А/М №4_ЭЛЕКТРОДВИГАТЕЛЬ ДСПУ-140-84-4 ЭКСГ. №4  \\\n",
       "DT                                                                                 \n",
       "2019-01-16 13:21:00                                                0.0             \n",
       "2019-01-16 13:21:10                                                0.0             \n",
       "2019-01-16 13:21:20                                                0.0             \n",
       "2019-01-16 13:21:30                                                0.0             \n",
       "2019-01-16 13:21:40                                                0.0             \n",
       "...                                                                ...             \n",
       "2021-12-31 23:59:10                                                2.0             \n",
       "2021-12-31 23:59:20                                                2.0             \n",
       "2021-12-31 23:59:30                                                2.0             \n",
       "2021-12-31 23:59:40                                                2.0             \n",
       "2021-12-31 23:59:50                                                2.0             \n",
       "\n",
       "                     Y_ЭКСГАУСТЕР А/М №4_ПОДШИПНИК ОПОРНЫЙ ЭКСГ. №4  \\\n",
       "DT                                                                    \n",
       "2019-01-16 13:21:00                                             0.0   \n",
       "2019-01-16 13:21:10                                             0.0   \n",
       "2019-01-16 13:21:20                                             0.0   \n",
       "2019-01-16 13:21:30                                             0.0   \n",
       "2019-01-16 13:21:40                                             0.0   \n",
       "...                                                             ...   \n",
       "2021-12-31 23:59:10                                             2.0   \n",
       "2021-12-31 23:59:20                                             2.0   \n",
       "2021-12-31 23:59:30                                             2.0   \n",
       "2021-12-31 23:59:40                                             2.0   \n",
       "2021-12-31 23:59:50                                             2.0   \n",
       "\n",
       "                     Y_ЭКСГАУСТЕР А/М №4_УЛИТА ЭКСГ. №4  \\\n",
       "DT                                                        \n",
       "2019-01-16 13:21:00                                 0.0   \n",
       "2019-01-16 13:21:10                                 0.0   \n",
       "2019-01-16 13:21:20                                 0.0   \n",
       "2019-01-16 13:21:30                                 0.0   \n",
       "2019-01-16 13:21:40                                 0.0   \n",
       "...                                                 ...   \n",
       "2021-12-31 23:59:10                                 2.0   \n",
       "2021-12-31 23:59:20                                 2.0   \n",
       "2021-12-31 23:59:30                                 2.0   \n",
       "2021-12-31 23:59:40                                 2.0   \n",
       "2021-12-31 23:59:50                                 2.0   \n",
       "\n",
       "                     Y_ЭКСГАУСТЕР А/М №4_РЕДУКТОР ГАЗ. ЗАДВИЖКИ ЭКСГ. №4  \\\n",
       "DT                                                                         \n",
       "2019-01-16 13:21:00                                                0.0     \n",
       "2019-01-16 13:21:10                                                0.0     \n",
       "2019-01-16 13:21:20                                                0.0     \n",
       "2019-01-16 13:21:30                                                0.0     \n",
       "2019-01-16 13:21:40                                                0.0     \n",
       "...                                                                ...     \n",
       "2021-12-31 23:59:10                                                0.0     \n",
       "2021-12-31 23:59:20                                                0.0     \n",
       "2021-12-31 23:59:30                                                0.0     \n",
       "2021-12-31 23:59:40                                                0.0     \n",
       "2021-12-31 23:59:50                                                0.0     \n",
       "\n",
       "                     Y_ЭКСГАУСТЕР А/М №4_МАСЛОНАСОС РАБОЧИЙ ЭКСГ. №4  \\\n",
       "DT                                                                     \n",
       "2019-01-16 13:21:00                                              0.0   \n",
       "2019-01-16 13:21:10                                              0.0   \n",
       "2019-01-16 13:21:20                                              0.0   \n",
       "2019-01-16 13:21:30                                              0.0   \n",
       "2019-01-16 13:21:40                                              0.0   \n",
       "...                                                              ...   \n",
       "2021-12-31 23:59:10                                              0.0   \n",
       "2021-12-31 23:59:20                                              0.0   \n",
       "2021-12-31 23:59:30                                              0.0   \n",
       "2021-12-31 23:59:40                                              0.0   \n",
       "2021-12-31 23:59:50                                              0.0   \n",
       "\n",
       "                     Y_ЭКСГАУСТЕР А/М №4_ЭЛЕКТРОАППАРАТУРА ЭКСГ. №4  \\\n",
       "DT                                                                    \n",
       "2019-01-16 13:21:00                                             0.0   \n",
       "2019-01-16 13:21:10                                             0.0   \n",
       "2019-01-16 13:21:20                                             0.0   \n",
       "2019-01-16 13:21:30                                             0.0   \n",
       "2019-01-16 13:21:40                                             0.0   \n",
       "...                                                             ...   \n",
       "2021-12-31 23:59:10                                             0.0   \n",
       "2021-12-31 23:59:20                                             0.0   \n",
       "2021-12-31 23:59:30                                             0.0   \n",
       "2021-12-31 23:59:40                                             0.0   \n",
       "2021-12-31 23:59:50                                             0.0   \n",
       "\n",
       "                     Y_ЭКСГАУСТЕР А/М №4_ПОДШИПНИК ОПОРНЫЙ №2 ЭКСГ. №4  \\\n",
       "DT                                                                       \n",
       "2019-01-16 13:21:00                                                0.0   \n",
       "2019-01-16 13:21:10                                                0.0   \n",
       "2019-01-16 13:21:20                                                0.0   \n",
       "2019-01-16 13:21:30                                                0.0   \n",
       "2019-01-16 13:21:40                                                0.0   \n",
       "...                                                                ...   \n",
       "2021-12-31 23:59:10                                                0.0   \n",
       "2021-12-31 23:59:20                                                0.0   \n",
       "2021-12-31 23:59:30                                                0.0   \n",
       "2021-12-31 23:59:40                                                0.0   \n",
       "2021-12-31 23:59:50                                                0.0   \n",
       "\n",
       "                     Y_ЭКСГАУСТЕР А/М №4_ЗАДВИЖКА ЭКСГ. №4  \\\n",
       "DT                                                           \n",
       "2019-01-16 13:21:00                                    0.0   \n",
       "2019-01-16 13:21:10                                    0.0   \n",
       "2019-01-16 13:21:20                                    0.0   \n",
       "2019-01-16 13:21:30                                    0.0   \n",
       "2019-01-16 13:21:40                                    0.0   \n",
       "...                                                    ...   \n",
       "2021-12-31 23:59:10                                    2.0   \n",
       "2021-12-31 23:59:20                                    2.0   \n",
       "2021-12-31 23:59:30                                    2.0   \n",
       "2021-12-31 23:59:40                                    2.0   \n",
       "2021-12-31 23:59:50                                    2.0   \n",
       "\n",
       "                     Y_ЭКСГАУСТЕР А/М №4_ГСМ ЭКСГ. №4  \\\n",
       "DT                                                      \n",
       "2019-01-16 13:21:00                               0.0   \n",
       "2019-01-16 13:21:10                               0.0   \n",
       "2019-01-16 13:21:20                               0.0   \n",
       "2019-01-16 13:21:30                               0.0   \n",
       "2019-01-16 13:21:40                               0.0   \n",
       "...                                               ...   \n",
       "2021-12-31 23:59:10                               2.0   \n",
       "2021-12-31 23:59:20                               2.0   \n",
       "2021-12-31 23:59:30                               2.0   \n",
       "2021-12-31 23:59:40                               2.0   \n",
       "2021-12-31 23:59:50                               2.0   \n",
       "\n",
       "                     Y_ЭКСГАУСТЕР А/М №4_ВК 310С ВИБРОПРЕОБРАЗОВАТЕЛЬ ЭКСГ.№4 Т.1  \\\n",
       "DT                                                                                  \n",
       "2019-01-16 13:21:00                                                0.0              \n",
       "2019-01-16 13:21:10                                                0.0              \n",
       "2019-01-16 13:21:20                                                0.0              \n",
       "2019-01-16 13:21:30                                                0.0              \n",
       "2019-01-16 13:21:40                                                0.0              \n",
       "...                                                                ...              \n",
       "2021-12-31 23:59:10                                                0.0              \n",
       "2021-12-31 23:59:20                                                0.0              \n",
       "2021-12-31 23:59:30                                                0.0              \n",
       "2021-12-31 23:59:40                                                0.0              \n",
       "2021-12-31 23:59:50                                                0.0              \n",
       "\n",
       "                     ...  \\\n",
       "DT                   ...   \n",
       "2019-01-16 13:21:00  ...   \n",
       "2019-01-16 13:21:10  ...   \n",
       "2019-01-16 13:21:20  ...   \n",
       "2019-01-16 13:21:30  ...   \n",
       "2019-01-16 13:21:40  ...   \n",
       "...                  ...   \n",
       "2021-12-31 23:59:10  ...   \n",
       "2021-12-31 23:59:20  ...   \n",
       "2021-12-31 23:59:30  ...   \n",
       "2021-12-31 23:59:40  ...   \n",
       "2021-12-31 23:59:50  ...   \n",
       "\n",
       "                     Y_ЭКСГАУСТЕР А/М №4_ПОДШИПНИК ОПОРНО-УПОРНЫЙ ЭКСГ. №4  \\\n",
       "DT                                                                           \n",
       "2019-01-16 13:21:00                                                0.0       \n",
       "2019-01-16 13:21:10                                                0.0       \n",
       "2019-01-16 13:21:20                                                0.0       \n",
       "2019-01-16 13:21:30                                                0.0       \n",
       "2019-01-16 13:21:40                                                0.0       \n",
       "...                                                                ...       \n",
       "2021-12-31 23:59:10                                                2.0       \n",
       "2021-12-31 23:59:20                                                2.0       \n",
       "2021-12-31 23:59:30                                                2.0       \n",
       "2021-12-31 23:59:40                                                2.0       \n",
       "2021-12-31 23:59:50                                                2.0       \n",
       "\n",
       "                     Y_ЭКСГАУСТЕР А/М №4_ЭКСГАУСТЕР А/М №4  \\\n",
       "DT                                                           \n",
       "2019-01-16 13:21:00                                    0.0   \n",
       "2019-01-16 13:21:10                                    0.0   \n",
       "2019-01-16 13:21:20                                    0.0   \n",
       "2019-01-16 13:21:30                                    0.0   \n",
       "2019-01-16 13:21:40                                    0.0   \n",
       "...                                                    ...   \n",
       "2021-12-31 23:59:10                                    0.0   \n",
       "2021-12-31 23:59:20                                    0.0   \n",
       "2021-12-31 23:59:30                                    0.0   \n",
       "2021-12-31 23:59:40                                    0.0   \n",
       "2021-12-31 23:59:50                                    0.0   \n",
       "\n",
       "                     Y_ЭКСГАУСТЕР А/М №4_ЗАП. И РЕГ. АРМАТУРА ЭКСГ.№4  \\\n",
       "DT                                                                      \n",
       "2019-01-16 13:21:00                                               0.0   \n",
       "2019-01-16 13:21:10                                               0.0   \n",
       "2019-01-16 13:21:20                                               0.0   \n",
       "2019-01-16 13:21:30                                               0.0   \n",
       "2019-01-16 13:21:40                                               0.0   \n",
       "...                                                               ...   \n",
       "2021-12-31 23:59:10                                               0.0   \n",
       "2021-12-31 23:59:20                                               0.0   \n",
       "2021-12-31 23:59:30                                               0.0   \n",
       "2021-12-31 23:59:40                                               0.0   \n",
       "2021-12-31 23:59:50                                               0.0   \n",
       "\n",
       "                     Y_ЭКСГАУСТЕР А/М №4_ПОДШИПНИК ОПОРНЫЙ №1 ЭКСГ. №4  \\\n",
       "DT                                                                       \n",
       "2019-01-16 13:21:00                                                0.0   \n",
       "2019-01-16 13:21:10                                                0.0   \n",
       "2019-01-16 13:21:20                                                0.0   \n",
       "2019-01-16 13:21:30                                                0.0   \n",
       "2019-01-16 13:21:40                                                0.0   \n",
       "...                                                                ...   \n",
       "2021-12-31 23:59:10                                                0.0   \n",
       "2021-12-31 23:59:20                                                0.0   \n",
       "2021-12-31 23:59:30                                                0.0   \n",
       "2021-12-31 23:59:40                                                0.0   \n",
       "2021-12-31 23:59:50                                                0.0   \n",
       "\n",
       "                     Y_ЭКСГАУСТЕР А/М №4_ЭЛ/ДВИГАТЕЛЬ ГАЗ. ЗАДВИЖКИ ЭКСГ. №4  \\\n",
       "DT                                                                             \n",
       "2019-01-16 13:21:00                                                0.0         \n",
       "2019-01-16 13:21:10                                                0.0         \n",
       "2019-01-16 13:21:20                                                0.0         \n",
       "2019-01-16 13:21:30                                                0.0         \n",
       "2019-01-16 13:21:40                                                0.0         \n",
       "...                                                                ...         \n",
       "2021-12-31 23:59:10                                                0.0         \n",
       "2021-12-31 23:59:20                                                0.0         \n",
       "2021-12-31 23:59:30                                                0.0         \n",
       "2021-12-31 23:59:40                                                0.0         \n",
       "2021-12-31 23:59:50                                                0.0         \n",
       "\n",
       "                     Y_ЭКСГАУСТЕР А/М №4_КЛ1 ТР№4 ДО ЭД ЭКСГАУСТЕРА №4  \\\n",
       "DT                                                                       \n",
       "2019-01-16 13:21:00                                                0.0   \n",
       "2019-01-16 13:21:10                                                0.0   \n",
       "2019-01-16 13:21:20                                                0.0   \n",
       "2019-01-16 13:21:30                                                0.0   \n",
       "2019-01-16 13:21:40                                                0.0   \n",
       "...                                                                ...   \n",
       "2021-12-31 23:59:10                                                2.0   \n",
       "2021-12-31 23:59:20                                                2.0   \n",
       "2021-12-31 23:59:30                                                2.0   \n",
       "2021-12-31 23:59:40                                                2.0   \n",
       "2021-12-31 23:59:50                                                2.0   \n",
       "\n",
       "                     Y_ЭКСГАУСТЕР А/М №4_КЛ2 ТР№4 ДО ЭД ЭКСГАУСТЕРА №4  \\\n",
       "DT                                                                       \n",
       "2019-01-16 13:21:00                                                0.0   \n",
       "2019-01-16 13:21:10                                                0.0   \n",
       "2019-01-16 13:21:20                                                0.0   \n",
       "2019-01-16 13:21:30                                                0.0   \n",
       "2019-01-16 13:21:40                                                0.0   \n",
       "...                                                                ...   \n",
       "2021-12-31 23:59:10                                                2.0   \n",
       "2021-12-31 23:59:20                                                2.0   \n",
       "2021-12-31 23:59:30                                                2.0   \n",
       "2021-12-31 23:59:40                                                2.0   \n",
       "2021-12-31 23:59:50                                                2.0   \n",
       "\n",
       "                     Y_ЭКСГАУСТЕР А/М №4_ТР-Р ТМ-4000-10/6 ЭКСГ. №4  \\\n",
       "DT                                                                    \n",
       "2019-01-16 13:21:00                                             0.0   \n",
       "2019-01-16 13:21:10                                             0.0   \n",
       "2019-01-16 13:21:20                                             0.0   \n",
       "2019-01-16 13:21:30                                             0.0   \n",
       "2019-01-16 13:21:40                                             0.0   \n",
       "...                                                             ...   \n",
       "2021-12-31 23:59:10                                             2.0   \n",
       "2021-12-31 23:59:20                                             2.0   \n",
       "2021-12-31 23:59:30                                             2.0   \n",
       "2021-12-31 23:59:40                                             2.0   \n",
       "2021-12-31 23:59:50                                             2.0   \n",
       "\n",
       "                     Y_ЭКСГАУСТЕР А/М №4_ТИРИСТ. ВОЗБУДИТЕЛЬ ВТ-РЭМ-400 ЭКСГ4 ВУ1  \\\n",
       "DT                                                                                  \n",
       "2019-01-16 13:21:00                                                0.0              \n",
       "2019-01-16 13:21:10                                                0.0              \n",
       "2019-01-16 13:21:20                                                0.0              \n",
       "2019-01-16 13:21:30                                                0.0              \n",
       "2019-01-16 13:21:40                                                0.0              \n",
       "...                                                                ...              \n",
       "2021-12-31 23:59:10                                                0.0              \n",
       "2021-12-31 23:59:20                                                0.0              \n",
       "2021-12-31 23:59:30                                                0.0              \n",
       "2021-12-31 23:59:40                                                0.0              \n",
       "2021-12-31 23:59:50                                                0.0              \n",
       "\n",
       "                     Y_ЭКСГАУСТЕР А/М №4_МАСЛОПРОВОДЫ ЭКСГ №4  \n",
       "DT                                                             \n",
       "2019-01-16 13:21:00                                       0.0  \n",
       "2019-01-16 13:21:10                                       0.0  \n",
       "2019-01-16 13:21:20                                       0.0  \n",
       "2019-01-16 13:21:30                                       0.0  \n",
       "2019-01-16 13:21:40                                       0.0  \n",
       "...                                                       ...  \n",
       "2021-12-31 23:59:10                                       0.0  \n",
       "2021-12-31 23:59:20                                       0.0  \n",
       "2021-12-31 23:59:30                                       0.0  \n",
       "2021-12-31 23:59:40                                       0.0  \n",
       "2021-12-31 23:59:50                                       0.0  \n",
       "\n",
       "[9335034 rows x 23 columns]"
      ]
     },
     "execution_count": 4,
     "metadata": {},
     "output_type": "execute_result"
    }
   ],
   "source": [
    "y_train = pd.read_csv(\"/kaggle/input/y-train-northsteel-instances/y_ЭКСГАУСТЕР АМ 4.csv\", parse_dates=True)\n",
    "y_train = y_train.set_index(\"DT\")\n",
    "y_train"
   ]
  },
  {
   "cell_type": "code",
   "execution_count": 5,
   "id": "a16fcda3",
   "metadata": {
    "execution": {
     "iopub.execute_input": "2023-05-28T20:29:32.083196Z",
     "iopub.status.busy": "2023-05-28T20:29:32.082812Z",
     "iopub.status.idle": "2023-05-28T20:29:37.959797Z",
     "shell.execute_reply": "2023-05-28T20:29:37.958316Z"
    },
    "papermill": {
     "duration": 5.888666,
     "end_time": "2023-05-28T20:29:37.962671",
     "exception": false,
     "start_time": "2023-05-28T20:29:32.074005",
     "status": "completed"
    },
    "tags": []
   },
   "outputs": [
    {
     "name": "stdout",
     "output_type": "stream",
     "text": [
      "Y_ЭКСГАУСТЕР А/М №4_ЭЛЕКТРОДВИГАТЕЛЬ ДСПУ-140-84-4 ЭКСГ. №4 M1 [0 1]\n",
      "Y_ЭКСГАУСТЕР А/М №4_ЭЛЕКТРОДВИГАТЕЛЬ ДСПУ-140-84-4 ЭКСГ. №4 M3 [0 1]\n",
      "Y_ЭКСГАУСТЕР А/М №4_ПОДШИПНИК ОПОРНЫЙ ЭКСГ. №4 M1 [0]\n",
      "Y_ЭКСГАУСТЕР А/М №4_ПОДШИПНИК ОПОРНЫЙ ЭКСГ. №4 M3 [0 1]\n",
      "Y_ЭКСГАУСТЕР А/М №4_УЛИТА ЭКСГ. №4 M1 [0]\n",
      "Y_ЭКСГАУСТЕР А/М №4_УЛИТА ЭКСГ. №4 M3 [0 1]\n",
      "Y_ЭКСГАУСТЕР А/М №4_РЕДУКТОР ГАЗ. ЗАДВИЖКИ ЭКСГ. №4 M1 [0 1]\n",
      "Y_ЭКСГАУСТЕР А/М №4_РЕДУКТОР ГАЗ. ЗАДВИЖКИ ЭКСГ. №4 M3 [0 1]\n",
      "Y_ЭКСГАУСТЕР А/М №4_МАСЛОНАСОС РАБОЧИЙ ЭКСГ. №4 M1 [0]\n",
      "Y_ЭКСГАУСТЕР А/М №4_МАСЛОНАСОС РАБОЧИЙ ЭКСГ. №4 M3 [0 1]\n",
      "Y_ЭКСГАУСТЕР А/М №4_ЭЛЕКТРОАППАРАТУРА ЭКСГ. №4 M1 [0 1]\n",
      "Y_ЭКСГАУСТЕР А/М №4_ЭЛЕКТРОАППАРАТУРА ЭКСГ. №4 M3 [0 1]\n",
      "Y_ЭКСГАУСТЕР А/М №4_ПОДШИПНИК ОПОРНЫЙ №2 ЭКСГ. №4 M1 [0 1]\n",
      "Y_ЭКСГАУСТЕР А/М №4_ПОДШИПНИК ОПОРНЫЙ №2 ЭКСГ. №4 M3 [0 1]\n",
      "Y_ЭКСГАУСТЕР А/М №4_ЗАДВИЖКА ЭКСГ. №4 M1 [0 1]\n",
      "Y_ЭКСГАУСТЕР А/М №4_ЗАДВИЖКА ЭКСГ. №4 M3 [0 1]\n",
      "Y_ЭКСГАУСТЕР А/М №4_ГСМ ЭКСГ. №4 M1 [0]\n",
      "Y_ЭКСГАУСТЕР А/М №4_ГСМ ЭКСГ. №4 M3 [0 1]\n",
      "Y_ЭКСГАУСТЕР А/М №4_ВК 310С ВИБРОПРЕОБРАЗОВАТЕЛЬ ЭКСГ.№4 Т.1 M1 [0]\n",
      "Y_ЭКСГАУСТЕР А/М №4_ВК 310С ВИБРОПРЕОБРАЗОВАТЕЛЬ ЭКСГ.№4 Т.1 M3 [0 1]\n",
      "Y_ЭКСГАУСТЕР А/М №4_ТСМТ-101-010-50М-400 ТЕРМОПР.ПОДШ.Т.1 M1 [0]\n",
      "Y_ЭКСГАУСТЕР А/М №4_ТСМТ-101-010-50М-400 ТЕРМОПР.ПОДШ.Т.1 M3 [0 1]\n",
      "Y_ЭКСГАУСТЕР А/М №4_РОТОР ЭКСГ. №4 M1 [0 1]\n",
      "Y_ЭКСГАУСТЕР А/М №4_РОТОР ЭКСГ. №4 M3 [0 1]\n",
      "Y_ЭКСГАУСТЕР А/М №4_МАСЛООХЛАДИТЕЛЬ  М-05-1 ЭКСГ. №4 M1 [0]\n",
      "Y_ЭКСГАУСТЕР А/М №4_МАСЛООХЛАДИТЕЛЬ  М-05-1 ЭКСГ. №4 M3 [0 1]\n",
      "Y_ЭКСГАУСТЕР А/М №4_ПОДШИПНИК ОПОРНО-УПОРНЫЙ ЭКСГ. №4 M1 [0 1]\n",
      "Y_ЭКСГАУСТЕР А/М №4_ПОДШИПНИК ОПОРНО-УПОРНЫЙ ЭКСГ. №4 M3 [0 1]\n",
      "Y_ЭКСГАУСТЕР А/М №4_ЭКСГАУСТЕР А/М №4 M1 [0 1]\n",
      "Y_ЭКСГАУСТЕР А/М №4_ЭКСГАУСТЕР А/М №4 M3 [0]\n",
      "Y_ЭКСГАУСТЕР А/М №4_ЗАП. И РЕГ. АРМАТУРА ЭКСГ.№4 M1 [0]\n",
      "Y_ЭКСГАУСТЕР А/М №4_ЗАП. И РЕГ. АРМАТУРА ЭКСГ.№4 M3 [0 1]\n",
      "Y_ЭКСГАУСТЕР А/М №4_ПОДШИПНИК ОПОРНЫЙ №1 ЭКСГ. №4 M1 [0]\n",
      "Y_ЭКСГАУСТЕР А/М №4_ПОДШИПНИК ОПОРНЫЙ №1 ЭКСГ. №4 M3 [0 1]\n",
      "Y_ЭКСГАУСТЕР А/М №4_ЭЛ/ДВИГАТЕЛЬ ГАЗ. ЗАДВИЖКИ ЭКСГ. №4 M1 [0]\n",
      "Y_ЭКСГАУСТЕР А/М №4_ЭЛ/ДВИГАТЕЛЬ ГАЗ. ЗАДВИЖКИ ЭКСГ. №4 M3 [0 1]\n",
      "Y_ЭКСГАУСТЕР А/М №4_КЛ1 ТР№4 ДО ЭД ЭКСГАУСТЕРА №4 M1 [0]\n",
      "Y_ЭКСГАУСТЕР А/М №4_КЛ1 ТР№4 ДО ЭД ЭКСГАУСТЕРА №4 M3 [0 1]\n",
      "Y_ЭКСГАУСТЕР А/М №4_КЛ2 ТР№4 ДО ЭД ЭКСГАУСТЕРА №4 M1 [0]\n",
      "Y_ЭКСГАУСТЕР А/М №4_КЛ2 ТР№4 ДО ЭД ЭКСГАУСТЕРА №4 M3 [0 1]\n",
      "Y_ЭКСГАУСТЕР А/М №4_ТР-Р ТМ-4000-10/6 ЭКСГ. №4 M1 [0]\n",
      "Y_ЭКСГАУСТЕР А/М №4_ТР-Р ТМ-4000-10/6 ЭКСГ. №4 M3 [0 1]\n",
      "Y_ЭКСГАУСТЕР А/М №4_ТИРИСТ. ВОЗБУДИТЕЛЬ ВТ-РЭМ-400 ЭКСГ4 ВУ1 M1 [0]\n",
      "Y_ЭКСГАУСТЕР А/М №4_ТИРИСТ. ВОЗБУДИТЕЛЬ ВТ-РЭМ-400 ЭКСГ4 ВУ1 M3 [0 1]\n",
      "Y_ЭКСГАУСТЕР А/М №4_МАСЛОПРОВОДЫ ЭКСГ №4 M1 [0]\n",
      "Y_ЭКСГАУСТЕР А/М №4_МАСЛОПРОВОДЫ ЭКСГ №4 M3 [0]\n"
     ]
    }
   ],
   "source": [
    "for col in y_train.columns:\n",
    "    if not ((col[-2:] == \"M1\") or (col[-2:] ==\"M3\")):\n",
    "        y_train[col+\" M1\"] = 1*(y_train[col]==1)\n",
    "        y_train[col+\" M3\"] = 1*(y_train[col]==2)\n",
    "        del y_train[col]\n",
    "for col in y_train.columns:\n",
    "    print(col, y_train[col].unique())"
   ]
  },
  {
   "cell_type": "code",
   "execution_count": 6,
   "id": "2ff7b205",
   "metadata": {
    "execution": {
     "iopub.execute_input": "2023-05-28T20:29:37.984879Z",
     "iopub.status.busy": "2023-05-28T20:29:37.984485Z",
     "iopub.status.idle": "2023-05-28T20:30:53.839091Z",
     "shell.execute_reply": "2023-05-28T20:30:53.837604Z"
    },
    "papermill": {
     "duration": 75.878879,
     "end_time": "2023-05-28T20:30:53.851846",
     "exception": false,
     "start_time": "2023-05-28T20:29:37.972967",
     "status": "completed"
    },
    "tags": []
   },
   "outputs": [
    {
     "data": {
      "text/plain": [
       "array([Timestamp('2019-01-16 13:21:00'), Timestamp('2019-01-16 13:21:10'),\n",
       "       Timestamp('2019-01-16 13:21:20'), ...,\n",
       "       Timestamp('2021-12-31 23:59:30'), Timestamp('2021-12-31 23:59:40'),\n",
       "       Timestamp('2021-12-31 23:59:50')], dtype=object)"
      ]
     },
     "execution_count": 6,
     "metadata": {},
     "output_type": "execute_result"
    }
   ],
   "source": [
    "for i,x in enumerate(y_train.index.values):\n",
    "    y_train.index.values[i] = pd.Timestamp(y_train.index.values[i])\n",
    "y_train.index.values"
   ]
  },
  {
   "cell_type": "code",
   "execution_count": 7,
   "id": "124acb73",
   "metadata": {
    "execution": {
     "iopub.execute_input": "2023-05-28T20:30:53.871154Z",
     "iopub.status.busy": "2023-05-28T20:30:53.870704Z",
     "iopub.status.idle": "2023-05-28T20:32:12.586725Z",
     "shell.execute_reply": "2023-05-28T20:32:12.585364Z"
    },
    "papermill": {
     "duration": 78.729487,
     "end_time": "2023-05-28T20:32:12.589733",
     "exception": false,
     "start_time": "2023-05-28T20:30:53.860246",
     "status": "completed"
    },
    "tags": []
   },
   "outputs": [],
   "source": [
    "shifted = y_train.index.values+pd.Timedelta(minutes = 60)"
   ]
  },
  {
   "cell_type": "code",
   "execution_count": 8,
   "id": "60430067",
   "metadata": {
    "execution": {
     "iopub.execute_input": "2023-05-28T20:32:12.608824Z",
     "iopub.status.busy": "2023-05-28T20:32:12.608425Z",
     "iopub.status.idle": "2023-05-28T20:35:27.251554Z",
     "shell.execute_reply": "2023-05-28T20:35:27.250180Z"
    },
    "papermill": {
     "duration": 194.656171,
     "end_time": "2023-05-28T20:35:27.254547",
     "exception": false,
     "start_time": "2023-05-28T20:32:12.598376",
     "status": "completed"
    },
    "tags": []
   },
   "outputs": [],
   "source": [
    "\n",
    "index = sorted(set(shifted).intersection(X_train.index.values))\n",
    "y_train = y_train.loc[index]\n",
    "y_train = y_train.dropna()\n",
    "index = y_train.index.values\n",
    "X_train = X_train.loc[index]"
   ]
  },
  {
   "cell_type": "code",
   "execution_count": 9,
   "id": "f3392584",
   "metadata": {
    "execution": {
     "iopub.execute_input": "2023-05-28T20:35:27.273740Z",
     "iopub.status.busy": "2023-05-28T20:35:27.273349Z",
     "iopub.status.idle": "2023-05-28T20:35:27.279311Z",
     "shell.execute_reply": "2023-05-28T20:35:27.278451Z"
    },
    "papermill": {
     "duration": 0.018211,
     "end_time": "2023-05-28T20:35:27.281600",
     "exception": false,
     "start_time": "2023-05-28T20:35:27.263389",
     "status": "completed"
    },
    "tags": []
   },
   "outputs": [
    {
     "data": {
      "text/plain": [
       "array([Timestamp('2019-01-16 14:21:00'), Timestamp('2019-01-16 14:21:10'),\n",
       "       Timestamp('2019-01-16 14:21:20'), ...,\n",
       "       Timestamp('2022-01-01 00:59:30'), Timestamp('2022-01-01 00:59:40'),\n",
       "       Timestamp('2022-01-01 00:59:50')], dtype=object)"
      ]
     },
     "execution_count": 9,
     "metadata": {},
     "output_type": "execute_result"
    }
   ],
   "source": [
    "shifted"
   ]
  },
  {
   "cell_type": "code",
   "execution_count": 10,
   "id": "8b96b448",
   "metadata": {
    "execution": {
     "iopub.execute_input": "2023-05-28T20:35:27.300494Z",
     "iopub.status.busy": "2023-05-28T20:35:27.300078Z",
     "iopub.status.idle": "2023-05-28T20:35:27.307515Z",
     "shell.execute_reply": "2023-05-28T20:35:27.306245Z"
    },
    "papermill": {
     "duration": 0.020048,
     "end_time": "2023-05-28T20:35:27.310079",
     "exception": false,
     "start_time": "2023-05-28T20:35:27.290031",
     "status": "completed"
    },
    "tags": []
   },
   "outputs": [
    {
     "data": {
      "text/plain": [
       "array([Timestamp('2019-01-16 14:21:00'), Timestamp('2019-01-16 14:21:10'),\n",
       "       Timestamp('2019-01-16 14:21:20'), ...,\n",
       "       Timestamp('2021-06-21 19:43:00'), Timestamp('2021-07-01 23:41:10'),\n",
       "       Timestamp('2021-09-17 14:14:30')], dtype=object)"
      ]
     },
     "execution_count": 10,
     "metadata": {},
     "output_type": "execute_result"
    }
   ],
   "source": [
    "X_train.index.values"
   ]
  },
  {
   "cell_type": "code",
   "execution_count": 11,
   "id": "7393144e",
   "metadata": {
    "execution": {
     "iopub.execute_input": "2023-05-28T20:35:27.330015Z",
     "iopub.status.busy": "2023-05-28T20:35:27.329636Z",
     "iopub.status.idle": "2023-05-28T20:35:27.334933Z",
     "shell.execute_reply": "2023-05-28T20:35:27.333812Z"
    },
    "papermill": {
     "duration": 0.018466,
     "end_time": "2023-05-28T20:35:27.337309",
     "exception": false,
     "start_time": "2023-05-28T20:35:27.318843",
     "status": "completed"
    },
    "tags": []
   },
   "outputs": [],
   "source": [
    "def featurize(df):\n",
    "    return df"
   ]
  },
  {
   "cell_type": "code",
   "execution_count": 12,
   "id": "5cfdfb42",
   "metadata": {
    "execution": {
     "iopub.execute_input": "2023-05-28T20:35:27.357339Z",
     "iopub.status.busy": "2023-05-28T20:35:27.356610Z",
     "iopub.status.idle": "2023-05-28T21:14:23.227775Z",
     "shell.execute_reply": "2023-05-28T21:14:23.226697Z"
    },
    "papermill": {
     "duration": 2335.884475,
     "end_time": "2023-05-28T21:14:23.230424",
     "exception": false,
     "start_time": "2023-05-28T20:35:27.345949",
     "status": "completed"
    },
    "tags": []
   },
   "outputs": [
    {
     "data": {
      "application/vnd.jupyter.widget-view+json": {
       "model_id": "df33819144494a56876a3f4cadb75b32",
       "version_major": 2,
       "version_minor": 0
      },
      "text/plain": [
       "MetricVisualizer(layout=Layout(align_self='stretch', height='500px'))"
      ]
     },
     "metadata": {},
     "output_type": "display_data"
    },
    {
     "name": "stdout",
     "output_type": "stream",
     "text": [
      "0:\tlearn: 0.6613936\ttest: 0.6636025\tbest: 0.6636025 (0)\ttotal: 861ms\tremaining: 1m 25s\n",
      "50:\tlearn: 0.1134385\ttest: 0.1135922\tbest: 0.1135922 (50)\ttotal: 23.4s\tremaining: 22.4s\n",
      "99:\tlearn: 0.0249786\ttest: 0.0249971\tbest: 0.0249971 (99)\ttotal: 44s\tremaining: 0us\n",
      "\n",
      "bestTest = 0.02499708772\n",
      "bestIteration = 99\n",
      "\n",
      "                                           0\n",
      "ТОК РОТОРА 1                        1.148470\n",
      "ТОК РОТОРА 2                        2.829457\n",
      "ТОК СТАТОРА                         2.154029\n",
      "ВИБРАЦИЯ НА ОПОРЕ 1                 3.636262\n",
      "ВИБРАЦИЯ НА ОПОРЕ 2                 1.466921\n",
      "ВИБРАЦИЯ НА ОПОРЕ 3                 2.756039\n",
      "ВИБРАЦИЯ НА ОПОРЕ 3. ПРОДОЛЬНАЯ     4.868161\n",
      "ВИБРАЦИЯ НА ОПОРЕ 4                 3.129097\n",
      "ВИБРАЦИЯ НА ОПОРЕ 4. ПРОДОЛЬНАЯ     4.925584\n",
      "ТЕМПЕРАТУРА ПОДШИПНИКА НА ОПОРЕ 1   8.069682\n",
      "ТЕМПЕРАТУРА ПОДШИПНИКА НА ОПОРЕ 2  14.635243\n",
      "ТЕМПЕРАТУРА ПОДШИПНИКА НА ОПОРЕ 3  37.256390\n",
      "ТЕМПЕРАТУРА ПОДШИПНИКА НА ОПОРЕ 4   3.750609\n",
      "ТЕМПЕРАТУРА МАСЛА В МАСЛОБЛОКЕ      2.696097\n",
      "ТЕМПЕРАТУРА МАСЛА В СИСТЕМЕ         2.618764\n",
      "ДАВЛЕНИЕ МАСЛА В СИСТЕМЕ            4.059194\n",
      "Y_ЭКСГАУСТЕР А/М №4_ЭЛЕКТРОДВИГАТЕЛЬ ДСПУ-140-84-4 ЭКСГ. №4 M1 0.0 0 0 1\n"
     ]
    },
    {
     "data": {
      "application/vnd.jupyter.widget-view+json": {
       "model_id": "0f5583d016e249ebabeee75fd694b321",
       "version_major": 2,
       "version_minor": 0
      },
      "text/plain": [
       "MetricVisualizer(layout=Layout(align_self='stretch', height='500px'))"
      ]
     },
     "metadata": {},
     "output_type": "display_data"
    },
    {
     "name": "stdout",
     "output_type": "stream",
     "text": [
      "0:\tlearn: 0.6719849\ttest: 0.6719647\tbest: 0.6719647 (0)\ttotal: 497ms\tremaining: 49.2s\n",
      "50:\tlearn: 0.2494598\ttest: 0.2539024\tbest: 0.2539024 (50)\ttotal: 21.6s\tremaining: 20.7s\n",
      "99:\tlearn: 0.1429732\ttest: 0.1472411\tbest: 0.1472411 (99)\ttotal: 42.7s\tremaining: 0us\n",
      "\n",
      "bestTest = 0.1472410577\n",
      "bestIteration = 99\n",
      "\n",
      "                                           0\n",
      "ТОК РОТОРА 1                        8.817467\n",
      "ТОК РОТОРА 2                       11.712970\n",
      "ТОК СТАТОРА                         1.808283\n",
      "ВИБРАЦИЯ НА ОПОРЕ 1                 0.574731\n",
      "ВИБРАЦИЯ НА ОПОРЕ 2                 0.944883\n",
      "ВИБРАЦИЯ НА ОПОРЕ 3                 2.619574\n",
      "ВИБРАЦИЯ НА ОПОРЕ 3. ПРОДОЛЬНАЯ     9.156618\n",
      "ВИБРАЦИЯ НА ОПОРЕ 4                 6.921159\n",
      "ВИБРАЦИЯ НА ОПОРЕ 4. ПРОДОЛЬНАЯ     6.107836\n",
      "ТЕМПЕРАТУРА ПОДШИПНИКА НА ОПОРЕ 1   2.125712\n",
      "ТЕМПЕРАТУРА ПОДШИПНИКА НА ОПОРЕ 2  13.173573\n",
      "ТЕМПЕРАТУРА ПОДШИПНИКА НА ОПОРЕ 3   1.775470\n",
      "ТЕМПЕРАТУРА ПОДШИПНИКА НА ОПОРЕ 4   0.458044\n",
      "ТЕМПЕРАТУРА МАСЛА В МАСЛОБЛОКЕ      0.000000\n",
      "ТЕМПЕРАТУРА МАСЛА В СИСТЕМЕ        25.441750\n",
      "ДАВЛЕНИЕ МАСЛА В СИСТЕМЕ            8.361929\n",
      "Y_ЭКСГАУСТЕР А/М №4_ЭЛЕКТРОДВИГАТЕЛЬ ДСПУ-140-84-4 ЭКСГ. №4 M3 0.9606801275239107 4520 45 140\n"
     ]
    },
    {
     "data": {
      "application/vnd.jupyter.widget-view+json": {
       "model_id": "77f7e95e0b874525a1911e99360e4a2a",
       "version_major": 2,
       "version_minor": 0
      },
      "text/plain": [
       "MetricVisualizer(layout=Layout(align_self='stretch', height='500px'))"
      ]
     },
     "metadata": {},
     "output_type": "display_data"
    },
    {
     "name": "stdout",
     "output_type": "stream",
     "text": [
      "0:\tlearn: 0.6745882\ttest: 0.6737792\tbest: 0.6737792 (0)\ttotal: 469ms\tremaining: 46.4s\n",
      "50:\tlearn: 0.2771287\ttest: 0.2661169\tbest: 0.2661169 (50)\ttotal: 21.9s\tremaining: 21s\n",
      "99:\tlearn: 0.1636689\ttest: 0.1536788\tbest: 0.1536788 (99)\ttotal: 45.4s\tremaining: 0us\n",
      "\n",
      "bestTest = 0.1536787654\n",
      "bestIteration = 99\n",
      "\n",
      "                                           0\n",
      "ТОК РОТОРА 1                        8.511247\n",
      "ТОК РОТОРА 2                        7.252071\n",
      "ТОК СТАТОРА                         1.962737\n",
      "ВИБРАЦИЯ НА ОПОРЕ 1                 0.586942\n",
      "ВИБРАЦИЯ НА ОПОРЕ 2                 1.955856\n",
      "ВИБРАЦИЯ НА ОПОРЕ 3                 0.498396\n",
      "ВИБРАЦИЯ НА ОПОРЕ 3. ПРОДОЛЬНАЯ     4.725068\n",
      "ВИБРАЦИЯ НА ОПОРЕ 4                 6.766121\n",
      "ВИБРАЦИЯ НА ОПОРЕ 4. ПРОДОЛЬНАЯ    15.160207\n",
      "ТЕМПЕРАТУРА ПОДШИПНИКА НА ОПОРЕ 1   4.567814\n",
      "ТЕМПЕРАТУРА ПОДШИПНИКА НА ОПОРЕ 2  14.650818\n",
      "ТЕМПЕРАТУРА ПОДШИПНИКА НА ОПОРЕ 3   4.399646\n",
      "ТЕМПЕРАТУРА ПОДШИПНИКА НА ОПОРЕ 4   0.000000\n",
      "ТЕМПЕРАТУРА МАСЛА В МАСЛОБЛОКЕ      0.000000\n",
      "ТЕМПЕРАТУРА МАСЛА В СИСТЕМЕ        19.896662\n",
      "ДАВЛЕНИЕ МАСЛА В СИСТЕМЕ            9.066416\n",
      "Y_ЭКСГАУСТЕР А/М №4_ПОДШИПНИК ОПОРНЫЙ ЭКСГ. №4 M3 0.9479323308270676 5043 193 84\n"
     ]
    },
    {
     "data": {
      "application/vnd.jupyter.widget-view+json": {
       "model_id": "7f870d80da524ada885d7ffc15ec7d85",
       "version_major": 2,
       "version_minor": 0
      },
      "text/plain": [
       "MetricVisualizer(layout=Layout(align_self='stretch', height='500px'))"
      ]
     },
     "metadata": {},
     "output_type": "display_data"
    },
    {
     "name": "stdout",
     "output_type": "stream",
     "text": [
      "0:\tlearn: 0.6662701\ttest: 0.6673341\tbest: 0.6673341 (0)\ttotal: 494ms\tremaining: 48.9s\n",
      "50:\tlearn: 0.1735505\ttest: 0.1685729\tbest: 0.1685729 (50)\ttotal: 24.6s\tremaining: 23.7s\n",
      "99:\tlearn: 0.0797421\ttest: 0.0748919\tbest: 0.0748919 (99)\ttotal: 46.5s\tremaining: 0us\n",
      "\n",
      "bestTest = 0.0748918663\n",
      "bestIteration = 99\n",
      "\n",
      "                                           0\n",
      "ТОК РОТОРА 1                        1.229198\n",
      "ТОК РОТОРА 2                        1.565828\n",
      "ТОК СТАТОРА                         0.798970\n",
      "ВИБРАЦИЯ НА ОПОРЕ 1                18.695536\n",
      "ВИБРАЦИЯ НА ОПОРЕ 2                 0.721304\n",
      "ВИБРАЦИЯ НА ОПОРЕ 3                 2.191552\n",
      "ВИБРАЦИЯ НА ОПОРЕ 3. ПРОДОЛЬНАЯ    11.117244\n",
      "ВИБРАЦИЯ НА ОПОРЕ 4                 5.766461\n",
      "ВИБРАЦИЯ НА ОПОРЕ 4. ПРОДОЛЬНАЯ    29.924935\n",
      "ТЕМПЕРАТУРА ПОДШИПНИКА НА ОПОРЕ 1   1.947913\n",
      "ТЕМПЕРАТУРА ПОДШИПНИКА НА ОПОРЕ 2   1.366847\n",
      "ТЕМПЕРАТУРА ПОДШИПНИКА НА ОПОРЕ 3   0.411559\n",
      "ТЕМПЕРАТУРА ПОДШИПНИКА НА ОПОРЕ 4   4.355408\n",
      "ТЕМПЕРАТУРА МАСЛА В МАСЛОБЛОКЕ      1.076029\n",
      "ТЕМПЕРАТУРА МАСЛА В СИСТЕМЕ         2.610516\n",
      "ДАВЛЕНИЕ МАСЛА В СИСТЕМЕ           16.220699\n",
      "Y_ЭКСГАУСТЕР А/М №4_УЛИТА ЭКСГ. №4 M3 0.9820002249971875 8729 118 42\n"
     ]
    },
    {
     "data": {
      "application/vnd.jupyter.widget-view+json": {
       "model_id": "447b725ce30e4749bed10b194b2f388a",
       "version_major": 2,
       "version_minor": 0
      },
      "text/plain": [
       "MetricVisualizer(layout=Layout(align_self='stretch', height='500px'))"
      ]
     },
     "metadata": {},
     "output_type": "display_data"
    },
    {
     "name": "stdout",
     "output_type": "stream",
     "text": [
      "0:\tlearn: 0.6729093\ttest: 0.6718778\tbest: 0.6718778 (0)\ttotal: 398ms\tremaining: 39.4s\n",
      "50:\tlearn: 0.2492722\ttest: 0.2431973\tbest: 0.2431973 (50)\ttotal: 20.9s\tremaining: 20.1s\n",
      "99:\tlearn: 0.1542715\ttest: 0.1494868\tbest: 0.1494868 (99)\ttotal: 41s\tremaining: 0us\n",
      "\n",
      "bestTest = 0.1494868492\n",
      "bestIteration = 99\n",
      "\n",
      "                                           0\n",
      "ТОК РОТОРА 1                       16.884995\n",
      "ТОК РОТОРА 2                       28.572643\n",
      "ТОК СТАТОРА                         0.239520\n",
      "ВИБРАЦИЯ НА ОПОРЕ 1                11.517340\n",
      "ВИБРАЦИЯ НА ОПОРЕ 2                 3.386365\n",
      "ВИБРАЦИЯ НА ОПОРЕ 3                 1.123814\n",
      "ВИБРАЦИЯ НА ОПОРЕ 3. ПРОДОЛЬНАЯ     5.079442\n",
      "ВИБРАЦИЯ НА ОПОРЕ 4                 3.928023\n",
      "ВИБРАЦИЯ НА ОПОРЕ 4. ПРОДОЛЬНАЯ     3.762772\n",
      "ТЕМПЕРАТУРА ПОДШИПНИКА НА ОПОРЕ 1   8.363641\n",
      "ТЕМПЕРАТУРА ПОДШИПНИКА НА ОПОРЕ 2   1.385750\n",
      "ТЕМПЕРАТУРА ПОДШИПНИКА НА ОПОРЕ 3   0.304524\n",
      "ТЕМПЕРАТУРА ПОДШИПНИКА НА ОПОРЕ 4   1.601336\n",
      "ТЕМПЕРАТУРА МАСЛА В МАСЛОБЛОКЕ      0.030487\n",
      "ТЕМПЕРАТУРА МАСЛА В СИСТЕМЕ         6.048845\n",
      "ДАВЛЕНИЕ МАСЛА В СИСТЕМЕ            7.770503\n",
      "Y_ЭКСГАУСТЕР А/М №4_РЕДУКТОР ГАЗ. ЗАДВИЖКИ ЭКСГ. №4 M3 0.9439644218551462 7429 295 146\n"
     ]
    },
    {
     "data": {
      "application/vnd.jupyter.widget-view+json": {
       "model_id": "a80305af6eba46979c313a96354ef254",
       "version_major": 2,
       "version_minor": 0
      },
      "text/plain": [
       "MetricVisualizer(layout=Layout(align_self='stretch', height='500px'))"
      ]
     },
     "metadata": {},
     "output_type": "display_data"
    },
    {
     "name": "stdout",
     "output_type": "stream",
     "text": [
      "0:\tlearn: 0.6638412\ttest: 0.6663074\tbest: 0.6663074 (0)\ttotal: 650ms\tremaining: 1m 4s\n",
      "50:\tlearn: 0.1440612\ttest: 0.1465903\tbest: 0.1465903 (50)\ttotal: 23.2s\tremaining: 22.3s\n",
      "99:\tlearn: 0.0492755\ttest: 0.0485808\tbest: 0.0485808 (99)\ttotal: 45.9s\tremaining: 0us\n",
      "\n",
      "bestTest = 0.04858081438\n",
      "bestIteration = 99\n",
      "\n",
      "                                           0\n",
      "ТОК РОТОРА 1                       10.845024\n",
      "ТОК РОТОРА 2                       15.769635\n",
      "ТОК СТАТОРА                         0.000000\n",
      "ВИБРАЦИЯ НА ОПОРЕ 1                 1.519473\n",
      "ВИБРАЦИЯ НА ОПОРЕ 2                 1.056282\n",
      "ВИБРАЦИЯ НА ОПОРЕ 3                11.127445\n",
      "ВИБРАЦИЯ НА ОПОРЕ 3. ПРОДОЛЬНАЯ     1.601247\n",
      "ВИБРАЦИЯ НА ОПОРЕ 4                 0.882355\n",
      "ВИБРАЦИЯ НА ОПОРЕ 4. ПРОДОЛЬНАЯ    13.133101\n",
      "ТЕМПЕРАТУРА ПОДШИПНИКА НА ОПОРЕ 1  10.321579\n",
      "ТЕМПЕРАТУРА ПОДШИПНИКА НА ОПОРЕ 2   0.171671\n",
      "ТЕМПЕРАТУРА ПОДШИПНИКА НА ОПОРЕ 3   0.436670\n",
      "ТЕМПЕРАТУРА ПОДШИПНИКА НА ОПОРЕ 4   4.386983\n",
      "ТЕМПЕРАТУРА МАСЛА В МАСЛОБЛОКЕ      0.021845\n",
      "ТЕМПЕРАТУРА МАСЛА В СИСТЕМЕ         1.805539\n",
      "ДАВЛЕНИЕ МАСЛА В СИСТЕМЕ           26.921151\n",
      "Y_ЭКСГАУСТЕР А/М №4_МАСЛОНАСОС РАБОЧИЙ ЭКСГ. №4 M3 0.9674418604651163 1040 0 35\n"
     ]
    },
    {
     "data": {
      "application/vnd.jupyter.widget-view+json": {
       "model_id": "2e5bdea38b0a4b709785f0b7cc23e31d",
       "version_major": 2,
       "version_minor": 0
      },
      "text/plain": [
       "MetricVisualizer(layout=Layout(align_self='stretch', height='500px'))"
      ]
     },
     "metadata": {},
     "output_type": "display_data"
    },
    {
     "name": "stdout",
     "output_type": "stream",
     "text": [
      "0:\tlearn: 0.6613811\ttest: 0.6636008\tbest: 0.6636008 (0)\ttotal: 415ms\tremaining: 41.1s\n",
      "50:\tlearn: 0.1133380\ttest: 0.1135651\tbest: 0.1135651 (50)\ttotal: 21.6s\tremaining: 20.8s\n",
      "99:\tlearn: 0.0249531\ttest: 0.0249867\tbest: 0.0249867 (99)\ttotal: 42.4s\tremaining: 0us\n",
      "\n",
      "bestTest = 0.02498674537\n",
      "bestIteration = 99\n",
      "\n",
      "                                          0\n",
      "ТОК РОТОРА 1                       4.149307\n",
      "ТОК РОТОРА 2                       4.075810\n",
      "ТОК СТАТОРА                        4.724240\n",
      "ВИБРАЦИЯ НА ОПОРЕ 1                7.823878\n",
      "ВИБРАЦИЯ НА ОПОРЕ 2                8.206161\n",
      "ВИБРАЦИЯ НА ОПОРЕ 3                8.188650\n",
      "ВИБРАЦИЯ НА ОПОРЕ 3. ПРОДОЛЬНАЯ    7.953586\n",
      "ВИБРАЦИЯ НА ОПОРЕ 4                7.906979\n",
      "ВИБРАЦИЯ НА ОПОРЕ 4. ПРОДОЛЬНАЯ    9.270201\n",
      "ТЕМПЕРАТУРА ПОДШИПНИКА НА ОПОРЕ 1  5.241976\n",
      "ТЕМПЕРАТУРА ПОДШИПНИКА НА ОПОРЕ 2  6.176191\n",
      "ТЕМПЕРАТУРА ПОДШИПНИКА НА ОПОРЕ 3  5.787406\n",
      "ТЕМПЕРАТУРА ПОДШИПНИКА НА ОПОРЕ 4  5.463245\n",
      "ТЕМПЕРАТУРА МАСЛА В МАСЛОБЛОКЕ     5.270966\n",
      "ТЕМПЕРАТУРА МАСЛА В СИСТЕМЕ        3.579491\n",
      "ДАВЛЕНИЕ МАСЛА В СИСТЕМЕ           6.181914\n",
      "Y_ЭКСГАУСТЕР А/М №4_ЭЛЕКТРОАППАРАТУРА ЭКСГ. №4 M1 None 0 0 0\n"
     ]
    },
    {
     "data": {
      "application/vnd.jupyter.widget-view+json": {
       "model_id": "4ccbd3a6391c41349faf64b0c0035774",
       "version_major": 2,
       "version_minor": 0
      },
      "text/plain": [
       "MetricVisualizer(layout=Layout(align_self='stretch', height='500px'))"
      ]
     },
     "metadata": {},
     "output_type": "display_data"
    },
    {
     "name": "stdout",
     "output_type": "stream",
     "text": [
      "0:\tlearn: 0.6635104\ttest: 0.6645819\tbest: 0.6645819 (0)\ttotal: 366ms\tremaining: 36.2s\n",
      "50:\tlearn: 0.1331150\ttest: 0.1317373\tbest: 0.1317373 (50)\ttotal: 17.7s\tremaining: 17s\n",
      "99:\tlearn: 0.0416561\ttest: 0.0407790\tbest: 0.0407790 (99)\ttotal: 34.9s\tremaining: 0us\n",
      "\n",
      "bestTest = 0.04077898023\n",
      "bestIteration = 99\n",
      "\n",
      "                                           0\n",
      "ТОК РОТОРА 1                       29.816243\n",
      "ТОК РОТОРА 2                       37.035572\n",
      "ТОК СТАТОРА                         0.000000\n",
      "ВИБРАЦИЯ НА ОПОРЕ 1                 0.278603\n",
      "ВИБРАЦИЯ НА ОПОРЕ 2                 1.058507\n",
      "ВИБРАЦИЯ НА ОПОРЕ 3                 1.232409\n",
      "ВИБРАЦИЯ НА ОПОРЕ 3. ПРОДОЛЬНАЯ     6.828291\n",
      "ВИБРАЦИЯ НА ОПОРЕ 4                 5.788994\n",
      "ВИБРАЦИЯ НА ОПОРЕ 4. ПРОДОЛЬНАЯ     9.293700\n",
      "ТЕМПЕРАТУРА ПОДШИПНИКА НА ОПОРЕ 1   0.000000\n",
      "ТЕМПЕРАТУРА ПОДШИПНИКА НА ОПОРЕ 2   0.049334\n",
      "ТЕМПЕРАТУРА ПОДШИПНИКА НА ОПОРЕ 3   0.000000\n",
      "ТЕМПЕРАТУРА ПОДШИПНИКА НА ОПОРЕ 4   0.182689\n",
      "ТЕМПЕРАТУРА МАСЛА В МАСЛОБЛОКЕ      0.598693\n",
      "ТЕМПЕРАТУРА МАСЛА В СИСТЕМЕ         3.205730\n",
      "ДАВЛЕНИЕ МАСЛА В СИСТЕМЕ            4.631234\n",
      "Y_ЭКСГАУСТЕР А/М №4_ЭЛЕКТРОАППАРАТУРА ЭКСГ. №4 M3 0.975557917109458 918 3 20\n"
     ]
    },
    {
     "data": {
      "application/vnd.jupyter.widget-view+json": {
       "model_id": "3c518ece962e4fbba8845977270e01bc",
       "version_major": 2,
       "version_minor": 0
      },
      "text/plain": [
       "MetricVisualizer(layout=Layout(align_self='stretch', height='500px'))"
      ]
     },
     "metadata": {},
     "output_type": "display_data"
    },
    {
     "name": "stdout",
     "output_type": "stream",
     "text": [
      "0:\tlearn: 0.6613810\ttest: 0.6636011\tbest: 0.6636011 (0)\ttotal: 418ms\tremaining: 41.4s\n",
      "50:\tlearn: 0.1133360\ttest: 0.1135626\tbest: 0.1135626 (50)\ttotal: 21.2s\tremaining: 20.3s\n",
      "99:\tlearn: 0.0249483\ttest: 0.0249835\tbest: 0.0249835 (99)\ttotal: 41.8s\tremaining: 0us\n",
      "\n",
      "bestTest = 0.0249834902\n",
      "bestIteration = 99\n",
      "\n",
      "                                           0\n",
      "ТОК РОТОРА 1                        9.314791\n",
      "ТОК РОТОРА 2                        3.477251\n",
      "ТОК СТАТОРА                         9.960793\n",
      "ВИБРАЦИЯ НА ОПОРЕ 1                 5.943374\n",
      "ВИБРАЦИЯ НА ОПОРЕ 2                 4.861718\n",
      "ВИБРАЦИЯ НА ОПОРЕ 3                 5.299285\n",
      "ВИБРАЦИЯ НА ОПОРЕ 3. ПРОДОЛЬНАЯ    16.138938\n",
      "ВИБРАЦИЯ НА ОПОРЕ 4                 4.475588\n",
      "ВИБРАЦИЯ НА ОПОРЕ 4. ПРОДОЛЬНАЯ     6.017131\n",
      "ТЕМПЕРАТУРА ПОДШИПНИКА НА ОПОРЕ 1  14.722820\n",
      "ТЕМПЕРАТУРА ПОДШИПНИКА НА ОПОРЕ 2   4.082718\n",
      "ТЕМПЕРАТУРА ПОДШИПНИКА НА ОПОРЕ 3   3.601597\n",
      "ТЕМПЕРАТУРА ПОДШИПНИКА НА ОПОРЕ 4   2.752936\n",
      "ТЕМПЕРАТУРА МАСЛА В МАСЛОБЛОКЕ      3.391862\n",
      "ТЕМПЕРАТУРА МАСЛА В СИСТЕМЕ         2.369677\n",
      "ДАВЛЕНИЕ МАСЛА В СИСТЕМЕ            3.589520\n",
      "Y_ЭКСГАУСТЕР А/М №4_ПОДШИПНИК ОПОРНЫЙ №2 ЭКСГ. №4 M1 None 0 0 0\n"
     ]
    },
    {
     "data": {
      "application/vnd.jupyter.widget-view+json": {
       "model_id": "8dc9f347caff454c8fcc88cfe2ae0100",
       "version_major": 2,
       "version_minor": 0
      },
      "text/plain": [
       "MetricVisualizer(layout=Layout(align_self='stretch', height='500px'))"
      ]
     },
     "metadata": {},
     "output_type": "display_data"
    },
    {
     "name": "stdout",
     "output_type": "stream",
     "text": [
      "0:\tlearn: 0.6696957\ttest: 0.6690861\tbest: 0.6690861 (0)\ttotal: 516ms\tremaining: 51.1s\n",
      "50:\tlearn: 0.1714047\ttest: 0.1777631\tbest: 0.1777631 (50)\ttotal: 22.5s\tremaining: 21.7s\n",
      "99:\tlearn: 0.0814883\ttest: 0.0823216\tbest: 0.0823216 (99)\ttotal: 42.4s\tremaining: 0us\n",
      "\n",
      "bestTest = 0.08232161791\n",
      "bestIteration = 99\n",
      "\n",
      "                                           0\n",
      "ТОК РОТОРА 1                        9.853292\n",
      "ТОК РОТОРА 2                        7.974013\n",
      "ТОК СТАТОРА                         0.079588\n",
      "ВИБРАЦИЯ НА ОПОРЕ 1                 3.692567\n",
      "ВИБРАЦИЯ НА ОПОРЕ 2                 3.517984\n",
      "ВИБРАЦИЯ НА ОПОРЕ 3                17.875975\n",
      "ВИБРАЦИЯ НА ОПОРЕ 3. ПРОДОЛЬНАЯ     3.312596\n",
      "ВИБРАЦИЯ НА ОПОРЕ 4                 0.000000\n",
      "ВИБРАЦИЯ НА ОПОРЕ 4. ПРОДОЛЬНАЯ     2.589094\n",
      "ТЕМПЕРАТУРА ПОДШИПНИКА НА ОПОРЕ 1   0.660283\n",
      "ТЕМПЕРАТУРА ПОДШИПНИКА НА ОПОРЕ 2  21.942850\n",
      "ТЕМПЕРАТУРА ПОДШИПНИКА НА ОПОРЕ 3   0.998228\n",
      "ТЕМПЕРАТУРА ПОДШИПНИКА НА ОПОРЕ 4   0.000000\n",
      "ТЕМПЕРАТУРА МАСЛА В МАСЛОБЛОКЕ      0.515373\n",
      "ТЕМПЕРАТУРА МАСЛА В СИСТЕМЕ        10.203415\n",
      "ДАВЛЕНИЕ МАСЛА В СИСТЕМЕ           16.784743\n",
      "Y_ЭКСГАУСТЕР А/М №4_ПОДШИПНИК ОПОРНЫЙ №2 ЭКСГ. №4 M3 0.9281650071123755 1305 7 94\n"
     ]
    },
    {
     "data": {
      "application/vnd.jupyter.widget-view+json": {
       "model_id": "e5d4f8218092406f9fa4d656678ace07",
       "version_major": 2,
       "version_minor": 0
      },
      "text/plain": [
       "MetricVisualizer(layout=Layout(align_self='stretch', height='500px'))"
      ]
     },
     "metadata": {},
     "output_type": "display_data"
    },
    {
     "name": "stdout",
     "output_type": "stream",
     "text": [
      "0:\tlearn: 0.6614041\ttest: 0.6636696\tbest: 0.6636696 (0)\ttotal: 466ms\tremaining: 46.1s\n",
      "50:\tlearn: 0.1137099\ttest: 0.1156787\tbest: 0.1156787 (50)\ttotal: 21.8s\tremaining: 20.9s\n",
      "99:\tlearn: 0.0252963\ttest: 0.0267629\tbest: 0.0267629 (99)\ttotal: 41.7s\tremaining: 0us\n",
      "\n",
      "bestTest = 0.02676293887\n",
      "bestIteration = 99\n",
      "\n",
      "                                           0\n",
      "ТОК РОТОРА 1                        6.437783\n",
      "ТОК РОТОРА 2                        5.558707\n",
      "ТОК СТАТОРА                         2.848114\n",
      "ВИБРАЦИЯ НА ОПОРЕ 1                 4.175654\n",
      "ВИБРАЦИЯ НА ОПОРЕ 2                 1.572196\n",
      "ВИБРАЦИЯ НА ОПОРЕ 3                 3.555471\n",
      "ВИБРАЦИЯ НА ОПОРЕ 3. ПРОДОЛЬНАЯ     4.104034\n",
      "ВИБРАЦИЯ НА ОПОРЕ 4                 6.719545\n",
      "ВИБРАЦИЯ НА ОПОРЕ 4. ПРОДОЛЬНАЯ     2.807729\n",
      "ТЕМПЕРАТУРА ПОДШИПНИКА НА ОПОРЕ 1   6.020552\n",
      "ТЕМПЕРАТУРА ПОДШИПНИКА НА ОПОРЕ 2   2.108380\n",
      "ТЕМПЕРАТУРА ПОДШИПНИКА НА ОПОРЕ 3   4.897564\n",
      "ТЕМПЕРАТУРА ПОДШИПНИКА НА ОПОРЕ 4   5.861926\n",
      "ТЕМПЕРАТУРА МАСЛА В МАСЛОБЛОКЕ      4.103281\n",
      "ТЕМПЕРАТУРА МАСЛА В СИСТЕМЕ        15.340130\n",
      "ДАВЛЕНИЕ МАСЛА В СИСТЕМЕ           23.888935\n",
      "Y_ЭКСГАУСТЕР А/М №4_ЗАДВИЖКА ЭКСГ. №4 M1 0.0 0 0 3\n"
     ]
    },
    {
     "data": {
      "application/vnd.jupyter.widget-view+json": {
       "model_id": "db857c87c2094e778847ad94196da2f2",
       "version_major": 2,
       "version_minor": 0
      },
      "text/plain": [
       "MetricVisualizer(layout=Layout(align_self='stretch', height='500px'))"
      ]
     },
     "metadata": {},
     "output_type": "display_data"
    },
    {
     "name": "stdout",
     "output_type": "stream",
     "text": [
      "0:\tlearn: 0.6700927\ttest: 0.6699542\tbest: 0.6699542 (0)\ttotal: 418ms\tremaining: 41.4s\n",
      "50:\tlearn: 0.2112517\ttest: 0.2136332\tbest: 0.2136332 (50)\ttotal: 21.3s\tremaining: 20.5s\n",
      "99:\tlearn: 0.1182681\ttest: 0.1205880\tbest: 0.1205880 (99)\ttotal: 42.6s\tremaining: 0us\n",
      "\n",
      "bestTest = 0.1205879594\n",
      "bestIteration = 99\n",
      "\n",
      "                                           0\n",
      "ТОК РОТОРА 1                        2.871423\n",
      "ТОК РОТОРА 2                        3.047792\n",
      "ТОК СТАТОРА                         0.958271\n",
      "ВИБРАЦИЯ НА ОПОРЕ 1                 2.352523\n",
      "ВИБРАЦИЯ НА ОПОРЕ 2                 1.398071\n",
      "ВИБРАЦИЯ НА ОПОРЕ 3                 5.058342\n",
      "ВИБРАЦИЯ НА ОПОРЕ 3. ПРОДОЛЬНАЯ    12.326484\n",
      "ВИБРАЦИЯ НА ОПОРЕ 4                 3.644905\n",
      "ВИБРАЦИЯ НА ОПОРЕ 4. ПРОДОЛЬНАЯ    18.682420\n",
      "ТЕМПЕРАТУРА ПОДШИПНИКА НА ОПОРЕ 1   7.191959\n",
      "ТЕМПЕРАТУРА ПОДШИПНИКА НА ОПОРЕ 2   6.101527\n",
      "ТЕМПЕРАТУРА ПОДШИПНИКА НА ОПОРЕ 3   1.989714\n",
      "ТЕМПЕРАТУРА ПОДШИПНИКА НА ОПОРЕ 4   0.979920\n",
      "ТЕМПЕРАТУРА МАСЛА В МАСЛОБЛОКЕ      1.914720\n",
      "ТЕМПЕРАТУРА МАСЛА В СИСТЕМЕ         2.500040\n",
      "ДАВЛЕНИЕ МАСЛА В СИСТЕМЕ           28.981892\n",
      "Y_ЭКСГАУСТЕР А/М №4_ЗАДВИЖКА ЭКСГ. №4 M3 0.7730496453900709 981 89 199\n"
     ]
    },
    {
     "data": {
      "application/vnd.jupyter.widget-view+json": {
       "model_id": "dfbd39e9196e42819e166f7db8a353b4",
       "version_major": 2,
       "version_minor": 0
      },
      "text/plain": [
       "MetricVisualizer(layout=Layout(align_self='stretch', height='500px'))"
      ]
     },
     "metadata": {},
     "output_type": "display_data"
    },
    {
     "name": "stdout",
     "output_type": "stream",
     "text": [
      "0:\tlearn: 0.6689428\ttest: 0.6686435\tbest: 0.6686435 (0)\ttotal: 358ms\tremaining: 35.4s\n",
      "50:\tlearn: 0.1974577\ttest: 0.2066092\tbest: 0.2066092 (50)\ttotal: 18.5s\tremaining: 17.7s\n",
      "99:\tlearn: 0.1045980\ttest: 0.1154614\tbest: 0.1154614 (99)\ttotal: 37.4s\tremaining: 0us\n",
      "\n",
      "bestTest = 0.1154613813\n",
      "bestIteration = 99\n",
      "\n",
      "                                           0\n",
      "ТОК РОТОРА 1                        5.973017\n",
      "ТОК РОТОРА 2                        5.645613\n",
      "ТОК СТАТОРА                         0.794369\n",
      "ВИБРАЦИЯ НА ОПОРЕ 1                 9.076505\n",
      "ВИБРАЦИЯ НА ОПОРЕ 2                 1.137387\n",
      "ВИБРАЦИЯ НА ОПОРЕ 3                11.100103\n",
      "ВИБРАЦИЯ НА ОПОРЕ 3. ПРОДОЛЬНАЯ    17.920309\n",
      "ВИБРАЦИЯ НА ОПОРЕ 4                11.151190\n",
      "ВИБРАЦИЯ НА ОПОРЕ 4. ПРОДОЛЬНАЯ    14.168233\n",
      "ТЕМПЕРАТУРА ПОДШИПНИКА НА ОПОРЕ 1   5.036063\n",
      "ТЕМПЕРАТУРА ПОДШИПНИКА НА ОПОРЕ 2   1.051120\n",
      "ТЕМПЕРАТУРА ПОДШИПНИКА НА ОПОРЕ 3   4.172720\n",
      "ТЕМПЕРАТУРА ПОДШИПНИКА НА ОПОРЕ 4   3.873800\n",
      "ТЕМПЕРАТУРА МАСЛА В МАСЛОБЛОКЕ      0.000000\n",
      "ТЕМПЕРАТУРА МАСЛА В СИСТЕМЕ         0.813247\n",
      "ДАВЛЕНИЕ МАСЛА В СИСТЕМЕ            8.086326\n",
      "Y_ЭКСГАУСТЕР А/М №4_ГСМ ЭКСГ. №4 M3 0.7763157894736842 885 22 233\n"
     ]
    },
    {
     "data": {
      "application/vnd.jupyter.widget-view+json": {
       "model_id": "a82992eae6204ba5b9f295134ce08aa5",
       "version_major": 2,
       "version_minor": 0
      },
      "text/plain": [
       "MetricVisualizer(layout=Layout(align_self='stretch', height='500px'))"
      ]
     },
     "metadata": {},
     "output_type": "display_data"
    },
    {
     "name": "stdout",
     "output_type": "stream",
     "text": [
      "0:\tlearn: 0.6613882\ttest: 0.6636033\tbest: 0.6636033 (0)\ttotal: 416ms\tremaining: 41.2s\n",
      "50:\tlearn: 0.1134729\ttest: 0.1136025\tbest: 0.1136025 (50)\ttotal: 21.6s\tremaining: 20.8s\n",
      "99:\tlearn: 0.0251025\ttest: 0.0250186\tbest: 0.0250186 (99)\ttotal: 42.1s\tremaining: 0us\n",
      "\n",
      "bestTest = 0.02501861929\n",
      "bestIteration = 99\n",
      "\n",
      "                                           0\n",
      "ТОК РОТОРА 1                        0.210047\n",
      "ТОК РОТОРА 2                        0.354508\n",
      "ТОК СТАТОРА                         0.801315\n",
      "ВИБРАЦИЯ НА ОПОРЕ 1                 3.155013\n",
      "ВИБРАЦИЯ НА ОПОРЕ 2                 3.769369\n",
      "ВИБРАЦИЯ НА ОПОРЕ 3                 1.307862\n",
      "ВИБРАЦИЯ НА ОПОРЕ 3. ПРОДОЛЬНАЯ     3.171510\n",
      "ВИБРАЦИЯ НА ОПОРЕ 4                41.402191\n",
      "ВИБРАЦИЯ НА ОПОРЕ 4. ПРОДОЛЬНАЯ     7.971177\n",
      "ТЕМПЕРАТУРА ПОДШИПНИКА НА ОПОРЕ 1   0.471135\n",
      "ТЕМПЕРАТУРА ПОДШИПНИКА НА ОПОРЕ 2   8.837813\n",
      "ТЕМПЕРАТУРА ПОДШИПНИКА НА ОПОРЕ 3   0.448094\n",
      "ТЕМПЕРАТУРА ПОДШИПНИКА НА ОПОРЕ 4   2.575914\n",
      "ТЕМПЕРАТУРА МАСЛА В МАСЛОБЛОКЕ     24.131379\n",
      "ТЕМПЕРАТУРА МАСЛА В СИСТЕМЕ         0.410774\n",
      "ДАВЛЕНИЕ МАСЛА В СИСТЕМЕ            0.981901\n",
      "Y_ЭКСГАУСТЕР А/М №4_ВК 310С ВИБРОПРЕОБРАЗОВАТЕЛЬ ЭКСГ.№4 Т.1 M3 0.0 0 0 1\n"
     ]
    },
    {
     "data": {
      "application/vnd.jupyter.widget-view+json": {
       "model_id": "2961001dc4e14dde9a41f593c94b9bc9",
       "version_major": 2,
       "version_minor": 0
      },
      "text/plain": [
       "MetricVisualizer(layout=Layout(align_self='stretch', height='500px'))"
      ]
     },
     "metadata": {},
     "output_type": "display_data"
    },
    {
     "name": "stdout",
     "output_type": "stream",
     "text": [
      "0:\tlearn: 0.6613903\ttest: 0.6636047\tbest: 0.6636047 (0)\ttotal: 417ms\tremaining: 41.2s\n",
      "50:\tlearn: 0.1135689\ttest: 0.1136225\tbest: 0.1136225 (50)\ttotal: 21.6s\tremaining: 20.8s\n",
      "99:\tlearn: 0.0252029\ttest: 0.0250343\tbest: 0.0250343 (99)\ttotal: 41.3s\tremaining: 0us\n",
      "\n",
      "bestTest = 0.025034303\n",
      "bestIteration = 99\n",
      "\n",
      "                                           0\n",
      "ТОК РОТОРА 1                        0.103784\n",
      "ТОК РОТОРА 2                        0.362493\n",
      "ТОК СТАТОРА                         0.380134\n",
      "ВИБРАЦИЯ НА ОПОРЕ 1                 0.479133\n",
      "ВИБРАЦИЯ НА ОПОРЕ 2                 2.319187\n",
      "ВИБРАЦИЯ НА ОПОРЕ 3                 0.349821\n",
      "ВИБРАЦИЯ НА ОПОРЕ 3. ПРОДОЛЬНАЯ     1.915938\n",
      "ВИБРАЦИЯ НА ОПОРЕ 4                35.404121\n",
      "ВИБРАЦИЯ НА ОПОРЕ 4. ПРОДОЛЬНАЯ     4.427415\n",
      "ТЕМПЕРАТУРА ПОДШИПНИКА НА ОПОРЕ 1   0.369966\n",
      "ТЕМПЕРАТУРА ПОДШИПНИКА НА ОПОРЕ 2   6.341391\n",
      "ТЕМПЕРАТУРА ПОДШИПНИКА НА ОПОРЕ 3  25.844974\n",
      "ТЕМПЕРАТУРА ПОДШИПНИКА НА ОПОРЕ 4   0.196201\n",
      "ТЕМПЕРАТУРА МАСЛА В МАСЛОБЛОКЕ     13.517642\n",
      "ТЕМПЕРАТУРА МАСЛА В СИСТЕМЕ         7.297459\n",
      "ДАВЛЕНИЕ МАСЛА В СИСТЕМЕ            0.690339\n",
      "Y_ЭКСГАУСТЕР А/М №4_ТСМТ-101-010-50М-400 ТЕРМОПР.ПОДШ.Т.1 M3 0.0 0 0 1\n"
     ]
    },
    {
     "data": {
      "application/vnd.jupyter.widget-view+json": {
       "model_id": "b748873fc1bc4f16939b63f5557b54de",
       "version_major": 2,
       "version_minor": 0
      },
      "text/plain": [
       "MetricVisualizer(layout=Layout(align_self='stretch', height='500px'))"
      ]
     },
     "metadata": {},
     "output_type": "display_data"
    },
    {
     "name": "stdout",
     "output_type": "stream",
     "text": [
      "0:\tlearn: 0.6613827\ttest: 0.6636026\tbest: 0.6636026 (0)\ttotal: 413ms\tremaining: 40.9s\n",
      "50:\tlearn: 0.1133941\ttest: 0.1135855\tbest: 0.1135855 (50)\ttotal: 21.1s\tremaining: 20.3s\n",
      "99:\tlearn: 0.0250350\ttest: 0.0250067\tbest: 0.0250067 (99)\ttotal: 41.8s\tremaining: 0us\n",
      "\n",
      "bestTest = 0.02500665724\n",
      "bestIteration = 99\n",
      "\n",
      "                                           0\n",
      "ТОК РОТОРА 1                        1.517612\n",
      "ТОК РОТОРА 2                        1.416670\n",
      "ТОК СТАТОРА                         1.864789\n",
      "ВИБРАЦИЯ НА ОПОРЕ 1                 4.196189\n",
      "ВИБРАЦИЯ НА ОПОРЕ 2                 4.836907\n",
      "ВИБРАЦИЯ НА ОПОРЕ 3                 9.153061\n",
      "ВИБРАЦИЯ НА ОПОРЕ 3. ПРОДОЛЬНАЯ     8.580630\n",
      "ВИБРАЦИЯ НА ОПОРЕ 4                 3.094959\n",
      "ВИБРАЦИЯ НА ОПОРЕ 4. ПРОДОЛЬНАЯ    12.665506\n",
      "ТЕМПЕРАТУРА ПОДШИПНИКА НА ОПОРЕ 1   3.742020\n",
      "ТЕМПЕРАТУРА ПОДШИПНИКА НА ОПОРЕ 2  10.331195\n",
      "ТЕМПЕРАТУРА ПОДШИПНИКА НА ОПОРЕ 3  10.728915\n",
      "ТЕМПЕРАТУРА ПОДШИПНИКА НА ОПОРЕ 4   3.961842\n",
      "ТЕМПЕРАТУРА МАСЛА В МАСЛОБЛОКЕ      2.303207\n",
      "ТЕМПЕРАТУРА МАСЛА В СИСТЕМЕ         2.776125\n",
      "ДАВЛЕНИЕ МАСЛА В СИСТЕМЕ           18.830371\n",
      "Y_ЭКСГАУСТЕР А/М №4_РОТОР ЭКСГ. №4 M1 None 0 0 0\n"
     ]
    },
    {
     "data": {
      "application/vnd.jupyter.widget-view+json": {
       "model_id": "4910320466df4e91a99a82a4163a68af",
       "version_major": 2,
       "version_minor": 0
      },
      "text/plain": [
       "MetricVisualizer(layout=Layout(align_self='stretch', height='500px'))"
      ]
     },
     "metadata": {},
     "output_type": "display_data"
    },
    {
     "name": "stdout",
     "output_type": "stream",
     "text": [
      "0:\tlearn: 0.6753199\ttest: 0.6744581\tbest: 0.6744581 (0)\ttotal: 379ms\tremaining: 37.6s\n",
      "50:\tlearn: 0.2576878\ttest: 0.2608735\tbest: 0.2608735 (50)\ttotal: 21.7s\tremaining: 20.8s\n",
      "99:\tlearn: 0.1417121\ttest: 0.1424854\tbest: 0.1424854 (99)\ttotal: 42.4s\tremaining: 0us\n",
      "\n",
      "bestTest = 0.142485414\n",
      "bestIteration = 99\n",
      "\n",
      "                                           0\n",
      "ТОК РОТОРА 1                        7.210720\n",
      "ТОК РОТОРА 2                       13.027699\n",
      "ТОК СТАТОРА                         2.225532\n",
      "ВИБРАЦИЯ НА ОПОРЕ 1                 1.553474\n",
      "ВИБРАЦИЯ НА ОПОРЕ 2                 4.575442\n",
      "ВИБРАЦИЯ НА ОПОРЕ 3                 0.000000\n",
      "ВИБРАЦИЯ НА ОПОРЕ 3. ПРОДОЛЬНАЯ     2.713900\n",
      "ВИБРАЦИЯ НА ОПОРЕ 4                 5.139005\n",
      "ВИБРАЦИЯ НА ОПОРЕ 4. ПРОДОЛЬНАЯ    13.282864\n",
      "ТЕМПЕРАТУРА ПОДШИПНИКА НА ОПОРЕ 1   6.430019\n",
      "ТЕМПЕРАТУРА ПОДШИПНИКА НА ОПОРЕ 2  15.133177\n",
      "ТЕМПЕРАТУРА ПОДШИПНИКА НА ОПОРЕ 3   4.895454\n",
      "ТЕМПЕРАТУРА ПОДШИПНИКА НА ОПОРЕ 4   0.102762\n",
      "ТЕМПЕРАТУРА МАСЛА В МАСЛОБЛОКЕ      0.000000\n",
      "ТЕМПЕРАТУРА МАСЛА В СИСТЕМЕ        18.038447\n",
      "ДАВЛЕНИЕ МАСЛА В СИСТЕМЕ            5.671506\n",
      "Y_ЭКСГАУСТЕР А/М №4_РОТОР ЭКСГ. №4 M3 0.9694793536804309 4320 48 88\n"
     ]
    },
    {
     "data": {
      "application/vnd.jupyter.widget-view+json": {
       "model_id": "e4a9981064164f0eafb947816fe651a0",
       "version_major": 2,
       "version_minor": 0
      },
      "text/plain": [
       "MetricVisualizer(layout=Layout(align_self='stretch', height='500px'))"
      ]
     },
     "metadata": {},
     "output_type": "display_data"
    },
    {
     "name": "stdout",
     "output_type": "stream",
     "text": [
      "0:\tlearn: 0.6624205\ttest: 0.6641028\tbest: 0.6641028 (0)\ttotal: 496ms\tremaining: 49.1s\n",
      "50:\tlearn: 0.1236988\ttest: 0.1203505\tbest: 0.1203505 (50)\ttotal: 23.8s\tremaining: 22.9s\n",
      "99:\tlearn: 0.0347129\ttest: 0.0309436\tbest: 0.0309436 (99)\ttotal: 46.2s\tremaining: 0us\n",
      "\n",
      "bestTest = 0.03094364459\n",
      "bestIteration = 99\n",
      "\n",
      "                                           0\n",
      "ТОК РОТОРА 1                        7.018434\n",
      "ТОК РОТОРА 2                        8.186773\n",
      "ТОК СТАТОРА                         1.043857\n",
      "ВИБРАЦИЯ НА ОПОРЕ 1                 0.754029\n",
      "ВИБРАЦИЯ НА ОПОРЕ 2                17.553331\n",
      "ВИБРАЦИЯ НА ОПОРЕ 3                23.659845\n",
      "ВИБРАЦИЯ НА ОПОРЕ 3. ПРОДОЛЬНАЯ     5.610521\n",
      "ВИБРАЦИЯ НА ОПОРЕ 4                 1.017542\n",
      "ВИБРАЦИЯ НА ОПОРЕ 4. ПРОДОЛЬНАЯ     4.649773\n",
      "ТЕМПЕРАТУРА ПОДШИПНИКА НА ОПОРЕ 1   3.354969\n",
      "ТЕМПЕРАТУРА ПОДШИПНИКА НА ОПОРЕ 2   3.739231\n",
      "ТЕМПЕРАТУРА ПОДШИПНИКА НА ОПОРЕ 3   3.505331\n",
      "ТЕМПЕРАТУРА ПОДШИПНИКА НА ОПОРЕ 4   1.912604\n",
      "ТЕМПЕРАТУРА МАСЛА В МАСЛОБЛОКЕ      0.589363\n",
      "ТЕМПЕРАТУРА МАСЛА В СИСТЕМЕ         6.667887\n",
      "ДАВЛЕНИЕ МАСЛА В СИСТЕМЕ           10.736510\n",
      "Y_ЭКСГАУСТЕР А/М №4_МАСЛООХЛАДИТЕЛЬ  М-05-1 ЭКСГ. №4 M3 0.7964601769911505 90 2 21\n"
     ]
    },
    {
     "data": {
      "application/vnd.jupyter.widget-view+json": {
       "model_id": "76a64857e0a14390bd78e85e6ef13bb2",
       "version_major": 2,
       "version_minor": 0
      },
      "text/plain": [
       "MetricVisualizer(layout=Layout(align_self='stretch', height='500px'))"
      ]
     },
     "metadata": {},
     "output_type": "display_data"
    },
    {
     "name": "stdout",
     "output_type": "stream",
     "text": [
      "0:\tlearn: 0.6613969\ttest: 0.6636663\tbest: 0.6636663 (0)\ttotal: 411ms\tremaining: 40.7s\n",
      "50:\tlearn: 0.1135513\ttest: 0.1147560\tbest: 0.1147560 (50)\ttotal: 21.5s\tremaining: 20.6s\n",
      "99:\tlearn: 0.0250841\ttest: 0.0254913\tbest: 0.0254913 (99)\ttotal: 41s\tremaining: 0us\n",
      "\n",
      "bestTest = 0.02549127126\n",
      "bestIteration = 99\n",
      "\n",
      "                                           0\n",
      "ТОК РОТОРА 1                        2.609276\n",
      "ТОК РОТОРА 2                        2.447184\n",
      "ТОК СТАТОРА                         4.680123\n",
      "ВИБРАЦИЯ НА ОПОРЕ 1                 1.005059\n",
      "ВИБРАЦИЯ НА ОПОРЕ 2                 3.319038\n",
      "ВИБРАЦИЯ НА ОПОРЕ 3                 2.123760\n",
      "ВИБРАЦИЯ НА ОПОРЕ 3. ПРОДОЛЬНАЯ     4.131262\n",
      "ВИБРАЦИЯ НА ОПОРЕ 4                 0.543929\n",
      "ВИБРАЦИЯ НА ОПОРЕ 4. ПРОДОЛЬНАЯ     1.305206\n",
      "ТЕМПЕРАТУРА ПОДШИПНИКА НА ОПОРЕ 1   4.057708\n",
      "ТЕМПЕРАТУРА ПОДШИПНИКА НА ОПОРЕ 2   3.368914\n",
      "ТЕМПЕРАТУРА ПОДШИПНИКА НА ОПОРЕ 3  32.986019\n",
      "ТЕМПЕРАТУРА ПОДШИПНИКА НА ОПОРЕ 4  17.675519\n",
      "ТЕМПЕРАТУРА МАСЛА В МАСЛОБЛОКЕ     14.632015\n",
      "ТЕМПЕРАТУРА МАСЛА В СИСТЕМЕ         0.914312\n",
      "ДАВЛЕНИЕ МАСЛА В СИСТЕМЕ            4.200676\n",
      "Y_ЭКСГАУСТЕР А/М №4_ПОДШИПНИК ОПОРНО-УПОРНЫЙ ЭКСГ. №4 M1 0.5 1 0 1\n"
     ]
    },
    {
     "data": {
      "application/vnd.jupyter.widget-view+json": {
       "model_id": "877b6936d18c4c72bfa97b1279164a35",
       "version_major": 2,
       "version_minor": 0
      },
      "text/plain": [
       "MetricVisualizer(layout=Layout(align_self='stretch', height='500px'))"
      ]
     },
     "metadata": {},
     "output_type": "display_data"
    },
    {
     "name": "stdout",
     "output_type": "stream",
     "text": [
      "0:\tlearn: 0.6688850\ttest: 0.6693234\tbest: 0.6693234 (0)\ttotal: 439ms\tremaining: 43.5s\n",
      "50:\tlearn: 0.1874724\ttest: 0.1954150\tbest: 0.1954150 (50)\ttotal: 21s\tremaining: 20.2s\n",
      "99:\tlearn: 0.0816857\ttest: 0.0909098\tbest: 0.0909098 (99)\ttotal: 42.7s\tremaining: 0us\n",
      "\n",
      "bestTest = 0.09090975671\n",
      "bestIteration = 99\n",
      "\n",
      "                                           0\n",
      "ТОК РОТОРА 1                       15.794687\n",
      "ТОК РОТОРА 2                       20.270930\n",
      "ТОК СТАТОРА                         0.000000\n",
      "ВИБРАЦИЯ НА ОПОРЕ 1                 0.171043\n",
      "ВИБРАЦИЯ НА ОПОРЕ 2                 0.152202\n",
      "ВИБРАЦИЯ НА ОПОРЕ 3                 3.688309\n",
      "ВИБРАЦИЯ НА ОПОРЕ 3. ПРОДОЛЬНАЯ    15.187910\n",
      "ВИБРАЦИЯ НА ОПОРЕ 4                10.600260\n",
      "ВИБРАЦИЯ НА ОПОРЕ 4. ПРОДОЛЬНАЯ     7.941144\n",
      "ТЕМПЕРАТУРА ПОДШИПНИКА НА ОПОРЕ 1   8.841160\n",
      "ТЕМПЕРАТУРА ПОДШИПНИКА НА ОПОРЕ 2   1.341844\n",
      "ТЕМПЕРАТУРА ПОДШИПНИКА НА ОПОРЕ 3   0.000000\n",
      "ТЕМПЕРАТУРА ПОДШИПНИКА НА ОПОРЕ 4   4.658397\n",
      "ТЕМПЕРАТУРА МАСЛА В МАСЛОБЛОКЕ      0.328743\n",
      "ТЕМПЕРАТУРА МАСЛА В СИСТЕМЕ         6.975405\n",
      "ДАВЛЕНИЕ МАСЛА В СИСТЕМЕ            4.047967\n",
      "Y_ЭКСГАУСТЕР А/М №4_ПОДШИПНИК ОПОРНО-УПОРНЫЙ ЭКСГ. №4 M3 0.9560019129603061 1999 28 64\n"
     ]
    },
    {
     "data": {
      "application/vnd.jupyter.widget-view+json": {
       "model_id": "2d7ccaaaca6a487aa305a573d8a07c61",
       "version_major": 2,
       "version_minor": 0
      },
      "text/plain": [
       "MetricVisualizer(layout=Layout(align_self='stretch', height='500px'))"
      ]
     },
     "metadata": {},
     "output_type": "display_data"
    },
    {
     "name": "stdout",
     "output_type": "stream",
     "text": [
      "0:\tlearn: 0.6614184\ttest: 0.6636168\tbest: 0.6636168 (0)\ttotal: 418ms\tremaining: 41.3s\n",
      "50:\tlearn: 0.1138534\ttest: 0.1137437\tbest: 0.1137437 (50)\ttotal: 21.1s\tremaining: 20.3s\n",
      "99:\tlearn: 0.0252768\ttest: 0.0251038\tbest: 0.0251038 (99)\ttotal: 40.4s\tremaining: 0us\n",
      "\n",
      "bestTest = 0.02510382613\n",
      "bestIteration = 99\n",
      "\n",
      "                                           0\n",
      "ТОК РОТОРА 1                        1.206841\n",
      "ТОК РОТОРА 2                        1.046209\n",
      "ТОК СТАТОРА                         2.299352\n",
      "ВИБРАЦИЯ НА ОПОРЕ 1                 1.298591\n",
      "ВИБРАЦИЯ НА ОПОРЕ 2                 1.713564\n",
      "ВИБРАЦИЯ НА ОПОРЕ 3                 0.474257\n",
      "ВИБРАЦИЯ НА ОПОРЕ 3. ПРОДОЛЬНАЯ     0.723578\n",
      "ВИБРАЦИЯ НА ОПОРЕ 4                 0.592825\n",
      "ВИБРАЦИЯ НА ОПОРЕ 4. ПРОДОЛЬНАЯ     1.973306\n",
      "ТЕМПЕРАТУРА ПОДШИПНИКА НА ОПОРЕ 1   0.606840\n",
      "ТЕМПЕРАТУРА ПОДШИПНИКА НА ОПОРЕ 2   0.846081\n",
      "ТЕМПЕРАТУРА ПОДШИПНИКА НА ОПОРЕ 3  16.030640\n",
      "ТЕМПЕРАТУРА ПОДШИПНИКА НА ОПОРЕ 4  16.709564\n",
      "ТЕМПЕРАТУРА МАСЛА В МАСЛОБЛОКЕ     41.571041\n",
      "ТЕМПЕРАТУРА МАСЛА В СИСТЕМЕ         7.683142\n",
      "ДАВЛЕНИЕ МАСЛА В СИСТЕМЕ            5.224169\n",
      "Y_ЭКСГАУСТЕР А/М №4_ЭКСГАУСТЕР А/М №4 M1 0.3333333333333333 1 0 2\n"
     ]
    },
    {
     "data": {
      "application/vnd.jupyter.widget-view+json": {
       "model_id": "793509de04034b7da364f8546bd852dc",
       "version_major": 2,
       "version_minor": 0
      },
      "text/plain": [
       "MetricVisualizer(layout=Layout(align_self='stretch', height='500px'))"
      ]
     },
     "metadata": {},
     "output_type": "display_data"
    },
    {
     "name": "stdout",
     "output_type": "stream",
     "text": [
      "0:\tlearn: 0.6623548\ttest: 0.6645356\tbest: 0.6645356 (0)\ttotal: 383ms\tremaining: 37.9s\n",
      "50:\tlearn: 0.1261444\ttest: 0.1314302\tbest: 0.1314302 (50)\ttotal: 18.9s\tremaining: 18.1s\n",
      "99:\tlearn: 0.0366890\ttest: 0.0434925\tbest: 0.0434925 (99)\ttotal: 37.2s\tremaining: 0us\n",
      "\n",
      "bestTest = 0.04349251807\n",
      "bestIteration = 99\n",
      "\n",
      "                                           0\n",
      "ТОК РОТОРА 1                        2.201449\n",
      "ТОК РОТОРА 2                        3.364290\n",
      "ТОК СТАТОРА                         1.857002\n",
      "ВИБРАЦИЯ НА ОПОРЕ 1                 0.241695\n",
      "ВИБРАЦИЯ НА ОПОРЕ 2                 2.138243\n",
      "ВИБРАЦИЯ НА ОПОРЕ 3                 2.570149\n",
      "ВИБРАЦИЯ НА ОПОРЕ 3. ПРОДОЛЬНАЯ     6.349974\n",
      "ВИБРАЦИЯ НА ОПОРЕ 4                18.483391\n",
      "ВИБРАЦИЯ НА ОПОРЕ 4. ПРОДОЛЬНАЯ    42.210511\n",
      "ТЕМПЕРАТУРА ПОДШИПНИКА НА ОПОРЕ 1   5.823401\n",
      "ТЕМПЕРАТУРА ПОДШИПНИКА НА ОПОРЕ 2   0.459342\n",
      "ТЕМПЕРАТУРА ПОДШИПНИКА НА ОПОРЕ 3   0.000000\n",
      "ТЕМПЕРАТУРА ПОДШИПНИКА НА ОПОРЕ 4   6.780180\n",
      "ТЕМПЕРАТУРА МАСЛА В МАСЛОБЛОКЕ      0.000000\n",
      "ТЕМПЕРАТУРА МАСЛА В СИСТЕМЕ         0.727797\n",
      "ДАВЛЕНИЕ МАСЛА В СИСТЕМЕ            6.792578\n",
      "Y_ЭКСГАУСТЕР А/М №4_ЗАП. И РЕГ. АРМАТУРА ЭКСГ.№4 M3 0.9236499068901304 496 1 40\n"
     ]
    },
    {
     "data": {
      "application/vnd.jupyter.widget-view+json": {
       "model_id": "7a675489204c428ba7cfaef9798c72f9",
       "version_major": 2,
       "version_minor": 0
      },
      "text/plain": [
       "MetricVisualizer(layout=Layout(align_self='stretch', height='500px'))"
      ]
     },
     "metadata": {},
     "output_type": "display_data"
    },
    {
     "name": "stdout",
     "output_type": "stream",
     "text": [
      "0:\tlearn: 0.6643018\ttest: 0.6652004\tbest: 0.6652004 (0)\ttotal: 399ms\tremaining: 39.5s\n",
      "50:\tlearn: 0.1364910\ttest: 0.1295178\tbest: 0.1295178 (50)\ttotal: 18.8s\tremaining: 18.1s\n",
      "99:\tlearn: 0.0439966\ttest: 0.0371124\tbest: 0.0371124 (99)\ttotal: 37.5s\tremaining: 0us\n",
      "\n",
      "bestTest = 0.03711238005\n",
      "bestIteration = 99\n",
      "\n",
      "                                           0\n",
      "ТОК РОТОРА 1                        5.124022\n",
      "ТОК РОТОРА 2                        6.345917\n",
      "ТОК СТАТОРА                         0.881167\n",
      "ВИБРАЦИЯ НА ОПОРЕ 1                 2.009068\n",
      "ВИБРАЦИЯ НА ОПОРЕ 2                14.820819\n",
      "ВИБРАЦИЯ НА ОПОРЕ 3                 9.571180\n",
      "ВИБРАЦИЯ НА ОПОРЕ 3. ПРОДОЛЬНАЯ     5.770340\n",
      "ВИБРАЦИЯ НА ОПОРЕ 4                11.203351\n",
      "ВИБРАЦИЯ НА ОПОРЕ 4. ПРОДОЛЬНАЯ    14.155475\n",
      "ТЕМПЕРАТУРА ПОДШИПНИКА НА ОПОРЕ 1   0.113565\n",
      "ТЕМПЕРАТУРА ПОДШИПНИКА НА ОПОРЕ 2   0.503559\n",
      "ТЕМПЕРАТУРА ПОДШИПНИКА НА ОПОРЕ 3   0.902503\n",
      "ТЕМПЕРАТУРА ПОДШИПНИКА НА ОПОРЕ 4   2.485374\n",
      "ТЕМПЕРАТУРА МАСЛА В МАСЛОБЛОКЕ      2.417684\n",
      "ТЕМПЕРАТУРА МАСЛА В СИСТЕМЕ         0.000000\n",
      "ДАВЛЕНИЕ МАСЛА В СИСТЕМЕ           23.695977\n",
      "Y_ЭКСГАУСТЕР А/М №4_ПОДШИПНИК ОПОРНЫЙ №1 ЭКСГ. №4 M3 0.907928388746803 355 1 35\n"
     ]
    },
    {
     "data": {
      "application/vnd.jupyter.widget-view+json": {
       "model_id": "754c3d51f3c648dcbfb47cb4b7063604",
       "version_major": 2,
       "version_minor": 0
      },
      "text/plain": [
       "MetricVisualizer(layout=Layout(align_self='stretch', height='500px'))"
      ]
     },
     "metadata": {},
     "output_type": "display_data"
    },
    {
     "name": "stdout",
     "output_type": "stream",
     "text": [
      "0:\tlearn: 0.6623788\ttest: 0.6642795\tbest: 0.6642795 (0)\ttotal: 434ms\tremaining: 42.9s\n",
      "50:\tlearn: 0.1217412\ttest: 0.1250142\tbest: 0.1250142 (50)\ttotal: 21s\tremaining: 20.2s\n",
      "99:\tlearn: 0.0332959\ttest: 0.0364669\tbest: 0.0364669 (99)\ttotal: 41.3s\tremaining: 0us\n",
      "\n",
      "bestTest = 0.03646687782\n",
      "bestIteration = 99\n",
      "\n",
      "                                           0\n",
      "ТОК РОТОРА 1                       19.237287\n",
      "ТОК РОТОРА 2                       26.616766\n",
      "ТОК СТАТОРА                         0.822631\n",
      "ВИБРАЦИЯ НА ОПОРЕ 1                 1.447881\n",
      "ВИБРАЦИЯ НА ОПОРЕ 2                 6.006462\n",
      "ВИБРАЦИЯ НА ОПОРЕ 3                 2.826363\n",
      "ВИБРАЦИЯ НА ОПОРЕ 3. ПРОДОЛЬНАЯ     0.109400\n",
      "ВИБРАЦИЯ НА ОПОРЕ 4                 0.000000\n",
      "ВИБРАЦИЯ НА ОПОРЕ 4. ПРОДОЛЬНАЯ    18.417150\n",
      "ТЕМПЕРАТУРА ПОДШИПНИКА НА ОПОРЕ 1   1.601972\n",
      "ТЕМПЕРАТУРА ПОДШИПНИКА НА ОПОРЕ 2  10.792761\n",
      "ТЕМПЕРАТУРА ПОДШИПНИКА НА ОПОРЕ 3   3.664094\n",
      "ТЕМПЕРАТУРА ПОДШИПНИКА НА ОПОРЕ 4   1.922386\n",
      "ТЕМПЕРАТУРА МАСЛА В МАСЛОБЛОКЕ      2.324867\n",
      "ТЕМПЕРАТУРА МАСЛА В СИСТЕМЕ         1.027367\n",
      "ДАВЛЕНИЕ МАСЛА В СИСТЕМЕ            3.182614\n",
      "Y_ЭКСГАУСТЕР А/М №4_ЭЛ/ДВИГАТЕЛЬ ГАЗ. ЗАДВИЖКИ ЭКСГ. №4 M3 0.8770053475935828 164 10 13\n"
     ]
    },
    {
     "data": {
      "application/vnd.jupyter.widget-view+json": {
       "model_id": "25c82952a23346f99e7a658097931938",
       "version_major": 2,
       "version_minor": 0
      },
      "text/plain": [
       "MetricVisualizer(layout=Layout(align_self='stretch', height='500px'))"
      ]
     },
     "metadata": {},
     "output_type": "display_data"
    },
    {
     "name": "stdout",
     "output_type": "stream",
     "text": [
      "0:\tlearn: 0.6613806\ttest: 0.6636004\tbest: 0.6636004 (0)\ttotal: 413ms\tremaining: 40.9s\n",
      "50:\tlearn: 0.1133177\ttest: 0.1135553\tbest: 0.1135553 (50)\ttotal: 21.6s\tremaining: 20.7s\n",
      "99:\tlearn: 0.0249204\ttest: 0.0249793\tbest: 0.0249793 (99)\ttotal: 41.8s\tremaining: 0us\n",
      "\n",
      "bestTest = 0.02497928966\n",
      "bestIteration = 99\n",
      "\n",
      "                                          0\n",
      "ТОК РОТОРА 1                       4.051938\n",
      "ТОК РОТОРА 2                       3.983645\n",
      "ТОК СТАТОРА                        4.403559\n",
      "ВИБРАЦИЯ НА ОПОРЕ 1                7.352007\n",
      "ВИБРАЦИЯ НА ОПОРЕ 2                7.771232\n",
      "ВИБРАЦИЯ НА ОПОРЕ 3                8.458419\n",
      "ВИБРАЦИЯ НА ОПОРЕ 3. ПРОДОЛЬНАЯ    8.010820\n",
      "ВИБРАЦИЯ НА ОПОРЕ 4                8.270127\n",
      "ВИБРАЦИЯ НА ОПОРЕ 4. ПРОДОЛЬНАЯ    9.770568\n",
      "ТЕМПЕРАТУРА ПОДШИПНИКА НА ОПОРЕ 1  5.550405\n",
      "ТЕМПЕРАТУРА ПОДШИПНИКА НА ОПОРЕ 2  6.344397\n",
      "ТЕМПЕРАТУРА ПОДШИПНИКА НА ОПОРЕ 3  5.718926\n",
      "ТЕМПЕРАТУРА ПОДШИПНИКА НА ОПОРЕ 4  5.389563\n",
      "ТЕМПЕРАТУРА МАСЛА В МАСЛОБЛОКЕ     5.330444\n",
      "ТЕМПЕРАТУРА МАСЛА В СИСТЕМЕ        3.703238\n",
      "ДАВЛЕНИЕ МАСЛА В СИСТЕМЕ           5.890712\n",
      "Y_ЭКСГАУСТЕР А/М №4_КЛ1 ТР№4 ДО ЭД ЭКСГАУСТЕРА №4 M3 None 0 0 0\n"
     ]
    },
    {
     "data": {
      "application/vnd.jupyter.widget-view+json": {
       "model_id": "f0d03a4d248140ff807f41093cd7bf53",
       "version_major": 2,
       "version_minor": 0
      },
      "text/plain": [
       "MetricVisualizer(layout=Layout(align_self='stretch', height='500px'))"
      ]
     },
     "metadata": {},
     "output_type": "display_data"
    },
    {
     "name": "stdout",
     "output_type": "stream",
     "text": [
      "0:\tlearn: 0.6613806\ttest: 0.6636001\tbest: 0.6636001 (0)\ttotal: 419ms\tremaining: 41.4s\n",
      "50:\tlearn: 0.1133177\ttest: 0.1135553\tbest: 0.1135553 (50)\ttotal: 21.2s\tremaining: 20.4s\n",
      "99:\tlearn: 0.0249204\ttest: 0.0249779\tbest: 0.0249779 (99)\ttotal: 41.9s\tremaining: 0us\n",
      "\n",
      "bestTest = 0.02497787687\n",
      "bestIteration = 99\n",
      "\n",
      "                                          0\n",
      "ТОК РОТОРА 1                       4.051938\n",
      "ТОК РОТОРА 2                       3.983645\n",
      "ТОК СТАТОРА                        4.403559\n",
      "ВИБРАЦИЯ НА ОПОРЕ 1                7.352007\n",
      "ВИБРАЦИЯ НА ОПОРЕ 2                7.771232\n",
      "ВИБРАЦИЯ НА ОПОРЕ 3                8.458419\n",
      "ВИБРАЦИЯ НА ОПОРЕ 3. ПРОДОЛЬНАЯ    8.010820\n",
      "ВИБРАЦИЯ НА ОПОРЕ 4                8.270127\n",
      "ВИБРАЦИЯ НА ОПОРЕ 4. ПРОДОЛЬНАЯ    9.770568\n",
      "ТЕМПЕРАТУРА ПОДШИПНИКА НА ОПОРЕ 1  5.550405\n",
      "ТЕМПЕРАТУРА ПОДШИПНИКА НА ОПОРЕ 2  6.344397\n",
      "ТЕМПЕРАТУРА ПОДШИПНИКА НА ОПОРЕ 3  5.718926\n",
      "ТЕМПЕРАТУРА ПОДШИПНИКА НА ОПОРЕ 4  5.389563\n",
      "ТЕМПЕРАТУРА МАСЛА В МАСЛОБЛОКЕ     5.330444\n",
      "ТЕМПЕРАТУРА МАСЛА В СИСТЕМЕ        3.703238\n",
      "ДАВЛЕНИЕ МАСЛА В СИСТЕМЕ           5.890712\n",
      "Y_ЭКСГАУСТЕР А/М №4_КЛ2 ТР№4 ДО ЭД ЭКСГАУСТЕРА №4 M3 None 0 0 0\n"
     ]
    },
    {
     "data": {
      "application/vnd.jupyter.widget-view+json": {
       "model_id": "9c472091adb049ad85a32d12990af4b4",
       "version_major": 2,
       "version_minor": 0
      },
      "text/plain": [
       "MetricVisualizer(layout=Layout(align_self='stretch', height='500px'))"
      ]
     },
     "metadata": {},
     "output_type": "display_data"
    },
    {
     "name": "stdout",
     "output_type": "stream",
     "text": [
      "0:\tlearn: 0.6613804\ttest: 0.6636015\tbest: 0.6636015 (0)\ttotal: 419ms\tremaining: 41.5s\n",
      "50:\tlearn: 0.1133114\ttest: 0.1135550\tbest: 0.1135550 (50)\ttotal: 21.1s\tremaining: 20.3s\n",
      "99:\tlearn: 0.0249099\ttest: 0.0249751\tbest: 0.0249751 (99)\ttotal: 41.9s\tremaining: 0us\n",
      "\n",
      "bestTest = 0.02497507541\n",
      "bestIteration = 99\n",
      "\n",
      "                                          0\n",
      "ТОК РОТОРА 1                       4.014143\n",
      "ТОК РОТОРА 2                       4.077410\n",
      "ТОК СТАТОРА                        4.403467\n",
      "ВИБРАЦИЯ НА ОПОРЕ 1                7.488544\n",
      "ВИБРАЦИЯ НА ОПОРЕ 2                7.929623\n",
      "ВИБРАЦИЯ НА ОПОРЕ 3                8.514054\n",
      "ВИБРАЦИЯ НА ОПОРЕ 3. ПРОДОЛЬНАЯ    7.697859\n",
      "ВИБРАЦИЯ НА ОПОРЕ 4                8.223492\n",
      "ВИБРАЦИЯ НА ОПОРЕ 4. ПРОДОЛЬНАЯ    9.580625\n",
      "ТЕМПЕРАТУРА ПОДШИПНИКА НА ОПОРЕ 1  5.420368\n",
      "ТЕМПЕРАТУРА ПОДШИПНИКА НА ОПОРЕ 2  6.482231\n",
      "ТЕМПЕРАТУРА ПОДШИПНИКА НА ОПОРЕ 3  5.801753\n",
      "ТЕМПЕРАТУРА ПОДШИПНИКА НА ОПОРЕ 4  5.366674\n",
      "ТЕМПЕРАТУРА МАСЛА В МАСЛОБЛОКЕ     5.373825\n",
      "ТЕМПЕРАТУРА МАСЛА В СИСТЕМЕ        3.740061\n",
      "ДАВЛЕНИЕ МАСЛА В СИСТЕМЕ           5.885872\n",
      "Y_ЭКСГАУСТЕР А/М №4_ТР-Р ТМ-4000-10/6 ЭКСГ. №4 M3 None 0 0 0\n"
     ]
    }
   ],
   "source": [
    "import catboost\n",
    "\n",
    "summary = dict()\n",
    "summary[\"model\"] = []\n",
    "summary[\"f1\"] = []\n",
    "summary[\"score\"] = []\n",
    "summary[\"TP\"] = []\n",
    "summary[\"FP\"] = []\n",
    "summary[\"FN\"] = []\n",
    "\n",
    "\n",
    "for col in y_train.columns:\n",
    "\n",
    "    target_train = y_train[col]\n",
    "    if len(target_train.unique())>1:\n",
    "        model = catboost.CatBoostClassifier(iterations=100, loss_function='CrossEntropy')\n",
    "\n",
    "        X_test = X_train.sample(10000)\n",
    "        target_test = target_train.loc[X_test.index.values]\n",
    "\n",
    "        X_val = X_train.sample(1000)\n",
    "        target_val = target_train.loc[X_val.index.values]\n",
    "\n",
    "        X_train = X_train#.sample(1000000)\n",
    "        target_train = target_train.loc[X_train.index.values]\n",
    "\n",
    "        model.fit(X_train.values, target_train.values, eval_set=(X_val.values, target_val.values), verbose=50, use_best_model=True, plot=True, early_stopping_rounds=100)\n",
    "        print(pd.DataFrame(model.feature_importances_, index=X_train.columns ))\n",
    "\n",
    "        model.save_model(\"ЭКСГАУСТЕР 4 \" +col.replace(\"/\", \"\"),format=\"cbm\",export_parameters=None, pool=None)\n",
    "        \n",
    "        pred = model.predict(X_test.values)\n",
    "        TP = sum((pred == 1)*(target_test == 1))\n",
    "        FP = sum((pred == 1)*(target_test == 0))\n",
    "        FN = sum((pred == 0)*(target_test == 1))\n",
    "        summary[\"model\"].append(\" ЭКСГАУСТЕР 4 \" + col.replace(\"/\", \"\")+\"__60\")\n",
    "        summary[\"TP\"].append(TP)\n",
    "        summary[\"FP\"].append(FP)\n",
    "        summary[\"FN\"].append(FN)\n",
    "        if (TP+FP+FN)!=0:\n",
    "            print(col, TP/(TP+FP+FN), TP, FP, FN)\n",
    "            summary[\"f1\"].append(2*TP/(2*TP+FP+FN))\n",
    "            summary[\"score\"].append(TP/(TP+FP+FN))\n",
    "        else:\n",
    "            print(col, None, TP, FP, FN)\n",
    "            summary[\"f1\"].append(None)\n",
    "            summary[\"score\"].append(None)\n",
    "    else:\n",
    "        summary[\"model\"].append(\"ЭКСГАУСТЕР 4 \" + col.replace(\"/\", \"\")+\"__60\")\n",
    "        summary[\"TP\"].append(0)\n",
    "        summary[\"FP\"].append(0)\n",
    "        summary[\"FN\"].append(0)\n",
    "        summary[\"f1\"].append(None)\n",
    "        summary[\"score\"].append(None)\n",
    "        \n",
    "            \n",
    "pd.DataFrame(summary).to_csv(\"summary ЭКСГАУСТЕР 4__60.csv\")"
   ]
  }
 ],
 "metadata": {
  "kernelspec": {
   "display_name": "Python 3",
   "language": "python",
   "name": "python3"
  },
  "language_info": {
   "codemirror_mode": {
    "name": "ipython",
    "version": 3
   },
   "file_extension": ".py",
   "mimetype": "text/x-python",
   "name": "python",
   "nbconvert_exporter": "python",
   "pygments_lexer": "ipython3",
   "version": "3.10.10"
  },
  "papermill": {
   "default_parameters": {},
   "duration": 2822.375916,
   "end_time": "2023-05-28T21:14:26.817628",
   "environment_variables": {},
   "exception": null,
   "input_path": "__notebook__.ipynb",
   "output_path": "__notebook__.ipynb",
   "parameters": {},
   "start_time": "2023-05-28T20:27:24.441712",
   "version": "2.4.0"
  },
  "widgets": {
   "application/vnd.jupyter.widget-state+json": {
    "state": {
     "019ae3d490df4ced911863db4308ed41": {
      "model_module": "@jupyter-widgets/base",
      "model_module_version": "1.2.0",
      "model_name": "LayoutModel",
      "state": {
       "_model_module": "@jupyter-widgets/base",
       "_model_module_version": "1.2.0",
       "_model_name": "LayoutModel",
       "_view_count": null,
       "_view_module": "@jupyter-widgets/base",
       "_view_module_version": "1.2.0",
       "_view_name": "LayoutView",
       "align_content": null,
       "align_items": null,
       "align_self": "stretch",
       "border": null,
       "bottom": null,
       "display": null,
       "flex": null,
       "flex_flow": null,
       "grid_area": null,
       "grid_auto_columns": null,
       "grid_auto_flow": null,
       "grid_auto_rows": null,
       "grid_column": null,
       "grid_gap": null,
       "grid_row": null,
       "grid_template_areas": null,
       "grid_template_columns": null,
       "grid_template_rows": null,
       "height": "500px",
       "justify_content": null,
       "justify_items": null,
       "left": null,
       "margin": null,
       "max_height": null,
       "max_width": null,
       "min_height": null,
       "min_width": null,
       "object_fit": null,
       "object_position": null,
       "order": null,
       "overflow": null,
       "overflow_x": null,
       "overflow_y": null,
       "padding": null,
       "right": null,
       "top": null,
       "visibility": null,
       "width": null
      }
     },
     "0f5583d016e249ebabeee75fd694b321": {
      "model_module": "catboost-widget",
      "model_module_version": "^1.0.0",
      "model_name": "CatboostWidgetModel",
      "state": {
       "_dom_classes": [],
       "_model_module": "catboost-widget",
       "_model_module_version": "^1.0.0",
       "_model_name": "CatboostWidgetModel",
       "_view_count": null,
       "_view_module": "catboost-widget",
       "_view_module_version": "^1.0.0",
       "_view_name": "CatboostWidgetView",
       "data": {
        "catboost_info": {
         "content": {
          "data": {
           "iterations": [
            {
             "iteration": 0,
             "learn": [
              0.6719849223
             ],
             "passed_time": 0.4968242212,
             "remaining_time": 49.1855979,
             "test": [
              0.6719646543
             ]
            },
            {
             "iteration": 1,
             "learn": [
              0.6520119187
             ],
             "passed_time": 0.9195773997,
             "remaining_time": 45.05929258,
             "test": [
              0.6517210898
             ]
            },
            {
             "iteration": 2,
             "learn": [
              0.6318864033
             ],
             "passed_time": 1.390653813,
             "remaining_time": 44.96447328,
             "test": [
              0.6325959846
             ]
            },
            {
             "iteration": 3,
             "learn": [
              0.6146414719
             ],
             "passed_time": 1.81468113,
             "remaining_time": 43.55234712,
             "test": [
              0.6145630691
             ]
            },
            {
             "iteration": 4,
             "learn": [
              0.5985445749
             ],
             "passed_time": 2.192268919,
             "remaining_time": 41.65310946,
             "test": [
              0.599633791
             ]
            },
            {
             "iteration": 5,
             "learn": [
              0.5824768888
             ],
             "passed_time": 2.610992658,
             "remaining_time": 40.90555164,
             "test": [
              0.583218576
             ]
            },
            {
             "iteration": 6,
             "learn": [
              0.5683161282
             ],
             "passed_time": 2.993114956,
             "remaining_time": 39.76567013,
             "test": [
              0.5698724684
             ]
            },
            {
             "iteration": 7,
             "learn": [
              0.5546225992
             ],
             "passed_time": 3.361471621,
             "remaining_time": 38.65692365,
             "test": [
              0.5569946156
             ]
            },
            {
             "iteration": 8,
             "learn": [
              0.5418982807
             ],
             "passed_time": 3.736659156,
             "remaining_time": 37.78177591,
             "test": [
              0.5447859813
             ]
            },
            {
             "iteration": 9,
             "learn": [
              0.5296003347
             ],
             "passed_time": 4.103617375,
             "remaining_time": 36.93255638,
             "test": [
              0.5329419135
             ]
            },
            {
             "iteration": 10,
             "learn": [
              0.5180135458
             ],
             "passed_time": 4.513974112,
             "remaining_time": 36.52215418,
             "test": [
              0.521486204
             ]
            },
            {
             "iteration": 11,
             "learn": [
              0.5050413812
             ],
             "passed_time": 4.92603973,
             "remaining_time": 36.12429136,
             "test": [
              0.508511514
             ]
            },
            {
             "iteration": 12,
             "learn": [
              0.493808581
             ],
             "passed_time": 5.484349622,
             "remaining_time": 36.70295516,
             "test": [
              0.498158748
             ]
            },
            {
             "iteration": 13,
             "learn": [
              0.4817942619
             ],
             "passed_time": 6.073715309,
             "remaining_time": 37.30996547,
             "test": [
              0.4859170113
             ]
            },
            {
             "iteration": 14,
             "learn": [
              0.4713526303
             ],
             "passed_time": 6.641581217,
             "remaining_time": 37.6356269,
             "test": [
              0.4749044
             ]
            },
            {
             "iteration": 15,
             "learn": [
              0.4615459934
             ],
             "passed_time": 7.051924366,
             "remaining_time": 37.02260292,
             "test": [
              0.4658660849
             ]
            },
            {
             "iteration": 16,
             "learn": [
              0.4510638971
             ],
             "passed_time": 7.478477981,
             "remaining_time": 36.51256897,
             "test": [
              0.455299049
             ]
            },
            {
             "iteration": 17,
             "learn": [
              0.4416096902
             ],
             "passed_time": 7.888166777,
             "remaining_time": 35.93498198,
             "test": [
              0.446214403
             ]
            },
            {
             "iteration": 18,
             "learn": [
              0.432228344
             ],
             "passed_time": 8.310674208,
             "remaining_time": 35.42971636,
             "test": [
              0.4366003707
             ]
            },
            {
             "iteration": 19,
             "learn": [
              0.4239681765
             ],
             "passed_time": 8.714574684,
             "remaining_time": 34.85829874,
             "test": [
              0.4286054762
             ]
            },
            {
             "iteration": 20,
             "learn": [
              0.4146327351
             ],
             "passed_time": 9.1123684,
             "remaining_time": 34.27986208,
             "test": [
              0.4190984489
             ]
            },
            {
             "iteration": 21,
             "learn": [
              0.40709278
             ],
             "passed_time": 9.516069953,
             "remaining_time": 33.73879347,
             "test": [
              0.4117673696
             ]
            },
            {
             "iteration": 22,
             "learn": [
              0.3984887823
             ],
             "passed_time": 9.918257729,
             "remaining_time": 33.20460196,
             "test": [
              0.4029867325
             ]
            },
            {
             "iteration": 23,
             "learn": [
              0.3907274486
             ],
             "passed_time": 10.34674037,
             "remaining_time": 32.76467784,
             "test": [
              0.3951065378
             ]
            },
            {
             "iteration": 24,
             "learn": [
              0.3832875562
             ],
             "passed_time": 10.75846808,
             "remaining_time": 32.27540424,
             "test": [
              0.3879129925
             ]
            },
            {
             "iteration": 25,
             "learn": [
              0.3767464423
             ],
             "passed_time": 11.16394949,
             "remaining_time": 31.77431777,
             "test": [
              0.3815246757
             ]
            },
            {
             "iteration": 26,
             "learn": [
              0.3692933818
             ],
             "passed_time": 11.57947015,
             "remaining_time": 31.30745632,
             "test": [
              0.3738655688
             ]
            },
            {
             "iteration": 27,
             "learn": [
              0.362609062
             ],
             "passed_time": 12.01913763,
             "remaining_time": 30.9063539,
             "test": [
              0.3672368243
             ]
            },
            {
             "iteration": 28,
             "learn": [
              0.3565187345
             ],
             "passed_time": 12.44350769,
             "remaining_time": 30.46513951,
             "test": [
              0.3615343675
             ]
            },
            {
             "iteration": 29,
             "learn": [
              0.3497227142
             ],
             "passed_time": 12.84923886,
             "remaining_time": 29.98155734,
             "test": [
              0.3544391786
             ]
            },
            {
             "iteration": 30,
             "learn": [
              0.3431459754
             ],
             "passed_time": 13.29557922,
             "remaining_time": 29.59338601,
             "test": [
              0.3475371458
             ]
            },
            {
             "iteration": 31,
             "learn": [
              0.3376041286
             ],
             "passed_time": 13.68567873,
             "remaining_time": 29.0820673,
             "test": [
              0.34236886
             ]
            },
            {
             "iteration": 32,
             "learn": [
              0.3314058973
             ],
             "passed_time": 14.11732253,
             "remaining_time": 28.66244272,
             "test": [
              0.3357910931
             ]
            },
            {
             "iteration": 33,
             "learn": [
              0.3263900836
             ],
             "passed_time": 14.50477975,
             "remaining_time": 28.15633716,
             "test": [
              0.3310826366
             ]
            },
            {
             "iteration": 34,
             "learn": [
              0.320766503
             ],
             "passed_time": 14.93060471,
             "remaining_time": 27.72826589,
             "test": [
              0.3254959959
             ]
            },
            {
             "iteration": 35,
             "learn": [
              0.3150688875
             ],
             "passed_time": 15.36757849,
             "remaining_time": 27.32013953,
             "test": [
              0.3195719492
             ]
            },
            {
             "iteration": 36,
             "learn": [
              0.3100657949
             ],
             "passed_time": 15.79876442,
             "remaining_time": 26.90059888,
             "test": [
              0.3149915416
             ]
            },
            {
             "iteration": 37,
             "learn": [
              0.3045145781
             ],
             "passed_time": 16.22271176,
             "remaining_time": 26.46863497,
             "test": [
              0.3094514622
             ]
            },
            {
             "iteration": 38,
             "learn": [
              0.3000557798
             ],
             "passed_time": 16.61298063,
             "remaining_time": 25.9844056,
             "test": [
              0.304967904
             ]
            },
            {
             "iteration": 39,
             "learn": [
              0.2956878195
             ],
             "passed_time": 16.9920391,
             "remaining_time": 25.48805865,
             "test": [
              0.3008626711
             ]
            },
            {
             "iteration": 40,
             "learn": [
              0.2908506299
             ],
             "passed_time": 17.4178966,
             "remaining_time": 25.06477803,
             "test": [
              0.2959194944
             ]
            },
            {
             "iteration": 41,
             "learn": [
              0.2859661946
             ],
             "passed_time": 17.84400694,
             "remaining_time": 24.64172387,
             "test": [
              0.2908719369
             ]
            },
            {
             "iteration": 42,
             "learn": [
              0.2812001706
             ],
             "passed_time": 18.26649481,
             "remaining_time": 24.21372568,
             "test": [
              0.2860742458
             ]
            },
            {
             "iteration": 43,
             "learn": [
              0.27735712
             ],
             "passed_time": 18.62906859,
             "remaining_time": 23.70972367,
             "test": [
              0.2823506519
             ]
            },
            {
             "iteration": 44,
             "learn": [
              0.2729995842
             ],
             "passed_time": 19.06147227,
             "remaining_time": 23.29735499,
             "test": [
              0.2778074554
             ]
            },
            {
             "iteration": 45,
             "learn": [
              0.2685484667
             ],
             "passed_time": 19.48422583,
             "remaining_time": 22.87278684,
             "test": [
              0.2733080141
             ]
            },
            {
             "iteration": 46,
             "learn": [
              0.2648868425
             ],
             "passed_time": 19.87568401,
             "remaining_time": 22.41300537,
             "test": [
              0.2696323815
             ]
            },
            {
             "iteration": 47,
             "learn": [
              0.261031828
             ],
             "passed_time": 20.30121719,
             "remaining_time": 21.99298529,
             "test": [
              0.2659592513
             ]
            },
            {
             "iteration": 48,
             "learn": [
              0.2571119558
             ],
             "passed_time": 20.714581,
             "remaining_time": 21.56007411,
             "test": [
              0.2620911424
             ]
            },
            {
             "iteration": 49,
             "learn": [
              0.2531976645
             ],
             "passed_time": 21.1343572,
             "remaining_time": 21.1343572,
             "test": [
              0.2577597228
             ]
            },
            {
             "iteration": 50,
             "learn": [
              0.2494597765
             ],
             "passed_time": 21.56843785,
             "remaining_time": 20.72261676,
             "test": [
              0.2539023612
             ]
            },
            {
             "iteration": 51,
             "learn": [
              0.2459072506
             ],
             "passed_time": 21.9995369,
             "remaining_time": 20.30726483,
             "test": [
              0.2504025123
             ]
            },
            {
             "iteration": 52,
             "learn": [
              0.2424265509
             ],
             "passed_time": 22.43544477,
             "remaining_time": 19.8955831,
             "test": [
              0.246912561
             ]
            },
            {
             "iteration": 53,
             "learn": [
              0.2388541511
             ],
             "passed_time": 22.89460357,
             "remaining_time": 19.50281045,
             "test": [
              0.2432049855
             ]
            },
            {
             "iteration": 54,
             "learn": [
              0.2356151346
             ],
             "passed_time": 23.34177858,
             "remaining_time": 19.09781884,
             "test": [
              0.2403035398
             ]
            },
            {
             "iteration": 55,
             "learn": [
              0.2325193125
             ],
             "passed_time": 23.79654385,
             "remaining_time": 18.69728445,
             "test": [
              0.2371469255
             ]
            },
            {
             "iteration": 56,
             "learn": [
              0.2293265038
             ],
             "passed_time": 24.24250276,
             "remaining_time": 18.28820384,
             "test": [
              0.2338507292
             ]
            },
            {
             "iteration": 57,
             "learn": [
              0.2264215701
             ],
             "passed_time": 24.64638941,
             "remaining_time": 17.84738544,
             "test": [
              0.2311570548
             ]
            },
            {
             "iteration": 58,
             "learn": [
              0.2235212195
             ],
             "passed_time": 25.084417,
             "remaining_time": 17.43154402,
             "test": [
              0.2283338669
             ]
            },
            {
             "iteration": 59,
             "learn": [
              0.2209785541
             ],
             "passed_time": 25.42733243,
             "remaining_time": 16.95155495,
             "test": [
              0.2255602975
             ]
            },
            {
             "iteration": 60,
             "learn": [
              0.2178863659
             ],
             "passed_time": 25.88430993,
             "remaining_time": 16.54898504,
             "test": [
              0.2222455324
             ]
            },
            {
             "iteration": 61,
             "learn": [
              0.2153153649
             ],
             "passed_time": 26.24653001,
             "remaining_time": 16.08658291,
             "test": [
              0.2199226531
             ]
            },
            {
             "iteration": 62,
             "learn": [
              0.2126852347
             ],
             "passed_time": 26.65055143,
             "remaining_time": 15.65191116,
             "test": [
              0.2175589851
             ]
            },
            {
             "iteration": 63,
             "learn": [
              0.2102492136
             ],
             "passed_time": 27.06154801,
             "remaining_time": 15.22212075,
             "test": [
              0.2147554774
             ]
            },
            {
             "iteration": 64,
             "learn": [
              0.2077728759
             ],
             "passed_time": 27.47096612,
             "remaining_time": 14.79205868,
             "test": [
              0.2123543957
             ]
            },
            {
             "iteration": 65,
             "learn": [
              0.2055512915
             ],
             "passed_time": 27.81670343,
             "remaining_time": 14.32981692,
             "test": [
              0.2099583061
             ]
            },
            {
             "iteration": 66,
             "learn": [
              0.2032944936
             ],
             "passed_time": 28.17222517,
             "remaining_time": 13.8758721,
             "test": [
              0.2078186413
             ]
            },
            {
             "iteration": 67,
             "learn": [
              0.2010446255
             ],
             "passed_time": 28.54335543,
             "remaining_time": 13.43216726,
             "test": [
              0.2056995726
             ]
            },
            {
             "iteration": 68,
             "learn": [
              0.1989047616
             ],
             "passed_time": 28.92598127,
             "remaining_time": 12.99573072,
             "test": [
              0.2034976248
             ]
            },
            {
             "iteration": 69,
             "learn": [
              0.1964796471
             ],
             "passed_time": 29.33361486,
             "remaining_time": 12.57154923,
             "test": [
              0.2011183266
             ]
            },
            {
             "iteration": 70,
             "learn": [
              0.1943089531
             ],
             "passed_time": 29.72191513,
             "remaining_time": 12.13993716,
             "test": [
              0.198847324
             ]
            },
            {
             "iteration": 71,
             "learn": [
              0.1922993114
             ],
             "passed_time": 30.07965924,
             "remaining_time": 11.69764526,
             "test": [
              0.1969482505
             ]
            },
            {
             "iteration": 72,
             "learn": [
              0.1894346341
             ],
             "passed_time": 30.57721758,
             "remaining_time": 11.30938184,
             "test": [
              0.194217756
             ]
            },
            {
             "iteration": 73,
             "learn": [
              0.18726932
             ],
             "passed_time": 31.01721135,
             "remaining_time": 10.89793912,
             "test": [
              0.1919223994
             ]
            },
            {
             "iteration": 74,
             "learn": [
              0.1849996678
             ],
             "passed_time": 31.53573701,
             "remaining_time": 10.51191234,
             "test": [
              0.1897192996
             ]
            },
            {
             "iteration": 75,
             "learn": [
              0.1829569767
             ],
             "passed_time": 31.93636742,
             "remaining_time": 10.08516866,
             "test": [
              0.1878806909
             ]
            },
            {
             "iteration": 76,
             "learn": [
              0.1812344177
             ],
             "passed_time": 32.31457947,
             "remaining_time": 9.652406854,
             "test": [
              0.186073148
             ]
            },
            {
             "iteration": 77,
             "learn": [
              0.1790640029
             ],
             "passed_time": 32.84995528,
             "remaining_time": 9.265372001,
             "test": [
              0.1838504552
             ]
            },
            {
             "iteration": 78,
             "learn": [
              0.1768506851
             ],
             "passed_time": 33.31581814,
             "remaining_time": 8.856103555,
             "test": [
              0.1817096203
             ]
            },
            {
             "iteration": 79,
             "learn": [
              0.1751407515
             ],
             "passed_time": 33.73367942,
             "remaining_time": 8.433419855,
             "test": [
              0.1798048383
             ]
            },
            {
             "iteration": 80,
             "learn": [
              0.1736309808
             ],
             "passed_time": 34.11511389,
             "remaining_time": 8.002310666,
             "test": [
              0.1782954223
             ]
            },
            {
             "iteration": 81,
             "learn": [
              0.1716082512
             ],
             "passed_time": 34.63043262,
             "remaining_time": 7.601802283,
             "test": [
              0.1762564561
             ]
            },
            {
             "iteration": 82,
             "learn": [
              0.1698216031
             ],
             "passed_time": 35.03279862,
             "remaining_time": 7.175392488,
             "test": [
              0.174531607
             ]
            },
            {
             "iteration": 83,
             "learn": [
              0.1679021756
             ],
             "passed_time": 35.53877471,
             "remaining_time": 6.769290421,
             "test": [
              0.1725430135
             ]
            },
            {
             "iteration": 84,
             "learn": [
              0.1661235945
             ],
             "passed_time": 35.9762775,
             "remaining_time": 6.348754852,
             "test": [
              0.1707761035
             ]
            },
            {
             "iteration": 85,
             "learn": [
              0.1643009937
             ],
             "passed_time": 36.48405195,
             "remaining_time": 5.93926427,
             "test": [
              0.1688956711
             ]
            },
            {
             "iteration": 86,
             "learn": [
              0.1629502841
             ],
             "passed_time": 36.83019521,
             "remaining_time": 5.503362503,
             "test": [
              0.1675477845
             ]
            },
            {
             "iteration": 87,
             "learn": [
              0.1612558545
             ],
             "passed_time": 37.41974555,
             "remaining_time": 5.102692575,
             "test": [
              0.1659251039
             ]
            },
            {
             "iteration": 88,
             "learn": [
              0.1593198786
             ],
             "passed_time": 38.07374488,
             "remaining_time": 4.705743749,
             "test": [
              0.1641616452
             ]
            },
            {
             "iteration": 89,
             "learn": [
              0.1576889711
             ],
             "passed_time": 38.50793649,
             "remaining_time": 4.27865961,
             "test": [
              0.1623769202
             ]
            },
            {
             "iteration": 90,
             "learn": [
              0.1560883292
             ],
             "passed_time": 38.91305911,
             "remaining_time": 3.848544307,
             "test": [
              0.1607487348
             ]
            },
            {
             "iteration": 91,
             "learn": [
              0.1543377496
             ],
             "passed_time": 39.31889211,
             "remaining_time": 3.419034096,
             "test": [
              0.158901989
             ]
            },
            {
             "iteration": 92,
             "learn": [
              0.1526588636
             ],
             "passed_time": 39.73913776,
             "remaining_time": 2.991117896,
             "test": [
              0.1571557267
             ]
            },
            {
             "iteration": 93,
             "learn": [
              0.1515268979
             ],
             "passed_time": 40.06405514,
             "remaining_time": 2.557280115,
             "test": [
              0.156094302
             ]
            },
            {
             "iteration": 94,
             "learn": [
              0.15020106
             ],
             "passed_time": 40.47967357,
             "remaining_time": 2.130509135,
             "test": [
              0.1546329886
             ]
            },
            {
             "iteration": 95,
             "learn": [
              0.1485996479
             ],
             "passed_time": 41.01379059,
             "remaining_time": 1.708907941,
             "test": [
              0.1530093275
             ]
            },
            {
             "iteration": 96,
             "learn": [
              0.1473419431
             ],
             "passed_time": 41.36637427,
             "remaining_time": 1.2793724,
             "test": [
              0.1517514106
             ]
            },
            {
             "iteration": 97,
             "learn": [
              0.1461621402
             ],
             "passed_time": 41.7791631,
             "remaining_time": 0.8526359817,
             "test": [
              0.150435297
             ]
            },
            {
             "iteration": 98,
             "learn": [
              0.1445124772
             ],
             "passed_time": 42.2446844,
             "remaining_time": 0.4267139839,
             "test": [
              0.1488995677
             ]
            },
            {
             "iteration": 99,
             "learn": [
              0.1429732287
             ],
             "passed_time": 42.6626905,
             "remaining_time": 0,
             "test": [
              0.1472410577
             ]
            }
           ],
           "meta": {
            "iteration_count": 100,
            "launch_mode": "Train",
            "learn_metrics": [
             {
              "best_value": "Min",
              "name": "CrossEntropy"
             }
            ],
            "learn_sets": [
             "learn"
            ],
            "name": "experiment",
            "parameters": "",
            "test_metrics": [
             {
              "best_value": "Min",
              "name": "CrossEntropy"
             }
            ],
            "test_sets": [
             "test"
            ]
           }
          },
          "passed_iterations": 99,
          "total_iterations": 100
         },
         "name": "catboost_info",
         "path": "catboost_info"
        }
       },
       "layout": "IPY_MODEL_7ca5ae790d6c48a7ba1cc22d55bec299"
      }
     },
     "25c82952a23346f99e7a658097931938": {
      "model_module": "catboost-widget",
      "model_module_version": "^1.0.0",
      "model_name": "CatboostWidgetModel",
      "state": {
       "_dom_classes": [],
       "_model_module": "catboost-widget",
       "_model_module_version": "^1.0.0",
       "_model_name": "CatboostWidgetModel",
       "_view_count": null,
       "_view_module": "catboost-widget",
       "_view_module_version": "^1.0.0",
       "_view_name": "CatboostWidgetView",
       "data": {
        "catboost_info": {
         "content": {
          "data": {
           "iterations": [
            {
             "iteration": 0,
             "learn": [
              0.6613805642
             ],
             "passed_time": 0.4127941265,
             "remaining_time": 40.86661852,
             "test": [
              0.6636004132
             ]
            },
            {
             "iteration": 1,
             "learn": [
              0.6362956797
             ],
             "passed_time": 0.8126736947,
             "remaining_time": 39.82101104,
             "test": [
              0.6357730137
             ]
            },
            {
             "iteration": 2,
             "learn": [
              0.6093765378
             ],
             "passed_time": 1.194850608,
             "remaining_time": 38.633503,
             "test": [
              0.6095199106
             ]
            },
            {
             "iteration": 3,
             "learn": [
              0.5837164311
             ],
             "passed_time": 1.592545212,
             "remaining_time": 38.2210851,
             "test": [
              0.5847124279
             ]
            },
            {
             "iteration": 4,
             "learn": [
              0.5621912228
             ],
             "passed_time": 1.97847771,
             "remaining_time": 37.59107649,
             "test": [
              0.5612370163
             ]
            },
            {
             "iteration": 5,
             "learn": [
              0.5376831147
             ],
             "passed_time": 2.381180245,
             "remaining_time": 37.30515717,
             "test": [
              0.5389920601
             ]
            },
            {
             "iteration": 6,
             "learn": [
              0.5168814868
             ],
             "passed_time": 2.7853913,
             "remaining_time": 37.00591299,
             "test": [
              0.5178855296
             ]
            },
            {
             "iteration": 7,
             "learn": [
              0.4986838167
             ],
             "passed_time": 3.146808864,
             "remaining_time": 36.18830193,
             "test": [
              0.4978376004
             ]
            },
            {
             "iteration": 8,
             "learn": [
              0.4785253187
             ],
             "passed_time": 3.603583733,
             "remaining_time": 36.43623552,
             "test": [
              0.4787738032
             ]
            },
            {
             "iteration": 9,
             "learn": [
              0.4605813171
             ],
             "passed_time": 3.988653392,
             "remaining_time": 35.89788053,
             "test": [
              0.4606279755
             ]
            },
            {
             "iteration": 10,
             "learn": [
              0.4438371128
             ],
             "passed_time": 4.37916533,
             "remaining_time": 35.43142858,
             "test": [
              0.4433397215
             ]
            },
            {
             "iteration": 11,
             "learn": [
              0.4280523877
             ],
             "passed_time": 4.800740823,
             "remaining_time": 35.2054327,
             "test": [
              0.4268539859
             ]
            },
            {
             "iteration": 12,
             "learn": [
              0.4121184355
             ],
             "passed_time": 5.255666119,
             "remaining_time": 35.1725348,
             "test": [
              0.4111213804
             ]
            },
            {
             "iteration": 13,
             "learn": [
              0.3967771668
             ],
             "passed_time": 5.623060468,
             "remaining_time": 34.54165716,
             "test": [
              0.3960956136
             ]
            },
            {
             "iteration": 14,
             "learn": [
              0.3823936289
             ],
             "passed_time": 6.053466564,
             "remaining_time": 34.30297719,
             "test": [
              0.3817341359
             ]
            },
            {
             "iteration": 15,
             "learn": [
              0.3673329581
             ],
             "passed_time": 6.492855845,
             "remaining_time": 34.08749319,
             "test": [
              0.3679982964
             ]
            },
            {
             "iteration": 16,
             "learn": [
              0.3538759632
             ],
             "passed_time": 6.891190655,
             "remaining_time": 33.64522496,
             "test": [
              0.3548537747
             ]
            },
            {
             "iteration": 17,
             "learn": [
              0.3431689995
             ],
             "passed_time": 7.361244565,
             "remaining_time": 33.53455857,
             "test": [
              0.34226618
             ]
            },
            {
             "iteration": 18,
             "learn": [
              0.3300853936
             ],
             "passed_time": 7.749432672,
             "remaining_time": 33.03705507,
             "test": [
              0.3302058333
             ]
            },
            {
             "iteration": 19,
             "learn": [
              0.3196734388
             ],
             "passed_time": 8.154603087,
             "remaining_time": 32.61841235,
             "test": [
              0.318644159
             ]
            },
            {
             "iteration": 20,
             "learn": [
              0.3069716661
             ],
             "passed_time": 8.623088486,
             "remaining_time": 32.43923764,
             "test": [
              0.3075560759
             ]
            },
            {
             "iteration": 21,
             "learn": [
              0.2968814141
             ],
             "passed_time": 9.041199938,
             "remaining_time": 32.05516342,
             "test": [
              0.2969162236
             ]
            },
            {
             "iteration": 22,
             "learn": [
              0.2867674327
             ],
             "passed_time": 9.495003342,
             "remaining_time": 31.78761988,
             "test": [
              0.2867011253
             ]
            },
            {
             "iteration": 23,
             "learn": [
              0.2765041512
             ],
             "passed_time": 9.915385209,
             "remaining_time": 31.39871983,
             "test": [
              0.2768898876
             ]
            },
            {
             "iteration": 24,
             "learn": [
              0.2664427574
             ],
             "passed_time": 10.28375119,
             "remaining_time": 30.85125356,
             "test": [
              0.2674626044
             ]
            },
            {
             "iteration": 25,
             "learn": [
              0.257978862
             ],
             "passed_time": 10.65069368,
             "remaining_time": 30.31351278,
             "test": [
              0.258401321
             ]
            },
            {
             "iteration": 26,
             "learn": [
              0.2499627843
             ],
             "passed_time": 11.09196588,
             "remaining_time": 29.98938924,
             "test": [
              0.2496884498
             ]
            },
            {
             "iteration": 27,
             "learn": [
              0.2419723235
             ],
             "passed_time": 11.45879313,
             "remaining_time": 29.46546805,
             "test": [
              0.2413078667
             ]
            },
            {
             "iteration": 28,
             "learn": [
              0.2336775508
             ],
             "passed_time": 11.83197114,
             "remaining_time": 28.96792934,
             "test": [
              0.2332433274
             ]
            },
            {
             "iteration": 29,
             "learn": [
              0.2258442122
             ],
             "passed_time": 12.25036522,
             "remaining_time": 28.58418551,
             "test": [
              0.2254805309
             ]
            },
            {
             "iteration": 30,
             "learn": [
              0.2185228107
             ],
             "passed_time": 12.69445121,
             "remaining_time": 28.25539139,
             "test": [
              0.2180072265
             ]
            },
            {
             "iteration": 31,
             "learn": [
              0.2109301691
             ],
             "passed_time": 13.17367324,
             "remaining_time": 27.99405564,
             "test": [
              0.2108096734
             ]
            },
            {
             "iteration": 32,
             "learn": [
              0.2033490414
             ],
             "passed_time": 13.61863033,
             "remaining_time": 27.64994643,
             "test": [
              0.2038749513
             ]
            },
            {
             "iteration": 33,
             "learn": [
              0.196422764
             ],
             "passed_time": 14.03097772,
             "remaining_time": 27.2366038,
             "test": [
              0.197193393
             ]
            },
            {
             "iteration": 34,
             "learn": [
              0.1911688748
             ],
             "passed_time": 14.46860435,
             "remaining_time": 26.87026523,
             "test": [
              0.1907519355
             ]
            },
            {
             "iteration": 35,
             "learn": [
              0.1838964804
             ],
             "passed_time": 14.8610569,
             "remaining_time": 26.41965672,
             "test": [
              0.184541701
             ]
            },
            {
             "iteration": 36,
             "learn": [
              0.1787566362
             ],
             "passed_time": 15.26446476,
             "remaining_time": 25.9908454,
             "test": [
              0.178552985
             ]
            },
            {
             "iteration": 37,
             "learn": [
              0.1721850971
             ],
             "passed_time": 15.66730235,
             "remaining_time": 25.56244068,
             "test": [
              0.1727768584
             ]
            },
            {
             "iteration": 38,
             "learn": [
              0.1676663746
             ],
             "passed_time": 16.15830023,
             "remaining_time": 25.27323882,
             "test": [
              0.1672043572
             ]
            },
            {
             "iteration": 39,
             "learn": [
              0.1614228165
             ],
             "passed_time": 16.67906818,
             "remaining_time": 25.01860227,
             "test": [
              0.1618268542
             ]
            },
            {
             "iteration": 40,
             "learn": [
              0.1563260804
             ],
             "passed_time": 17.27918114,
             "remaining_time": 24.8651631,
             "test": [
              0.1566364101
             ]
            },
            {
             "iteration": 41,
             "learn": [
              0.1520146873
             ],
             "passed_time": 17.91340256,
             "remaining_time": 24.73755591,
             "test": [
              0.1516262793
             ]
            },
            {
             "iteration": 42,
             "learn": [
              0.1470005606
             ],
             "passed_time": 18.25595756,
             "remaining_time": 24.1997577,
             "test": [
              0.1467882965
             ]
            },
            {
             "iteration": 43,
             "learn": [
              0.1418633607
             ],
             "passed_time": 18.6594188,
             "remaining_time": 23.7483512,
             "test": [
              0.142116689
             ]
            },
            {
             "iteration": 44,
             "learn": [
              0.1371034351
             ],
             "passed_time": 19.06204074,
             "remaining_time": 23.29804979,
             "test": [
              0.137604535
             ]
            },
            {
             "iteration": 45,
             "learn": [
              0.1329056207
             ],
             "passed_time": 19.4636825,
             "remaining_time": 22.84867076,
             "test": [
              0.1332459452
             ]
            },
            {
             "iteration": 46,
             "learn": [
              0.1289167844
             ],
             "passed_time": 19.91076343,
             "remaining_time": 22.45256302,
             "test": [
              0.1290350576
             ]
            },
            {
             "iteration": 47,
             "learn": [
              0.1249900076
             ],
             "passed_time": 20.30316441,
             "remaining_time": 21.99509478,
             "test": [
              0.1249652237
             ]
            },
            {
             "iteration": 48,
             "learn": [
              0.1210811815
             ],
             "passed_time": 20.75087795,
             "remaining_time": 21.59785256,
             "test": [
              0.1210320318
             ]
            },
            {
             "iteration": 49,
             "learn": [
              0.1171937824
             ],
             "passed_time": 21.18470128,
             "remaining_time": 21.18470128,
             "test": [
              0.1172305489
             ]
            },
            {
             "iteration": 50,
             "learn": [
              0.1133176868
             ],
             "passed_time": 21.55052114,
             "remaining_time": 20.70540266,
             "test": [
              0.1135553334
             ]
            },
            {
             "iteration": 51,
             "learn": [
              0.1097540034
             ],
             "passed_time": 21.98157972,
             "remaining_time": 20.29068897,
             "test": [
              0.1100020468
             ]
            },
            {
             "iteration": 52,
             "learn": [
              0.1069261193
             ],
             "passed_time": 22.34880499,
             "remaining_time": 19.81875159,
             "test": [
              0.1065661258
             ]
            },
            {
             "iteration": 53,
             "learn": [
              0.1034042171
             ],
             "passed_time": 22.72893829,
             "remaining_time": 19.36168817,
             "test": [
              0.1032440467
             ]
            },
            {
             "iteration": 54,
             "learn": [
              0.09972928489
             ],
             "passed_time": 23.18064064,
             "remaining_time": 18.96597871,
             "test": [
              0.1000304473
             ]
            },
            {
             "iteration": 55,
             "learn": [
              0.09713682189
             ],
             "passed_time": 23.58188883,
             "remaining_time": 18.52862694,
             "test": [
              0.09692191959
             ]
            },
            {
             "iteration": 56,
             "learn": [
              0.09376570143
             ],
             "passed_time": 24.06843762,
             "remaining_time": 18.15689154,
             "test": [
              0.09391551209
             ]
            },
            {
             "iteration": 57,
             "learn": [
              0.0912224866
             ],
             "passed_time": 24.49684823,
             "remaining_time": 17.73909699,
             "test": [
              0.09100624797
             ]
            },
            {
             "iteration": 58,
             "learn": [
              0.08794036115
             ],
             "passed_time": 24.87831445,
             "remaining_time": 17.28832021,
             "test": [
              0.08819089457
             ]
            },
            {
             "iteration": 59,
             "learn": [
              0.08546976976
             ],
             "passed_time": 25.25190917,
             "remaining_time": 16.83460611,
             "test": [
              0.08546660307
             ]
            },
            {
             "iteration": 60,
             "learn": [
              0.08257324326
             ],
             "passed_time": 25.69848226,
             "remaining_time": 16.43017719,
             "test": [
              0.08283035526
             ]
            },
            {
             "iteration": 61,
             "learn": [
              0.08010057884
             ],
             "passed_time": 26.12154673,
             "remaining_time": 16.00998025,
             "test": [
              0.08027868059
             ]
            },
            {
             "iteration": 62,
             "learn": [
              0.07797063659
             ],
             "passed_time": 26.54275518,
             "remaining_time": 15.58860225,
             "test": [
              0.07780900312
             ]
            },
            {
             "iteration": 63,
             "learn": [
              0.07548823825
             ],
             "passed_time": 26.94162202,
             "remaining_time": 15.15466239,
             "test": [
              0.07541852986
             ]
            },
            {
             "iteration": 64,
             "learn": [
              0.07294917289
             ],
             "passed_time": 27.34520602,
             "remaining_time": 14.7243417,
             "test": [
              0.07310441367
             ]
            },
            {
             "iteration": 65,
             "learn": [
              0.07053142489
             ],
             "passed_time": 27.79623764,
             "remaining_time": 14.31927394,
             "test": [
              0.07086390471
             ]
            },
            {
             "iteration": 66,
             "learn": [
              0.06844176401
             ],
             "passed_time": 28.23135168,
             "remaining_time": 13.90499411,
             "test": [
              0.06869412261
             ]
            },
            {
             "iteration": 67,
             "learn": [
              0.0664310269
             ],
             "passed_time": 28.68109111,
             "remaining_time": 13.49698405,
             "test": [
              0.06659527074
             ]
            },
            {
             "iteration": 68,
             "learn": [
              0.06446574259
             ],
             "passed_time": 29.08655866,
             "remaining_time": 13.06787418,
             "test": [
              0.06456092044
             ]
            },
            {
             "iteration": 69,
             "learn": [
              0.0625120869
             ],
             "passed_time": 29.50075611,
             "remaining_time": 12.64318119,
             "test": [
              0.06259058284
             ]
            },
            {
             "iteration": 70,
             "learn": [
              0.06056294603
             ],
             "passed_time": 29.83485252,
             "remaining_time": 12.18606652,
             "test": [
              0.06068237152
             ]
            },
            {
             "iteration": 71,
             "learn": [
              0.05865221482
             ],
             "passed_time": 30.19171836,
             "remaining_time": 11.74122381,
             "test": [
              0.05883389025
             ]
            },
            {
             "iteration": 72,
             "learn": [
              0.05684115563
             ],
             "passed_time": 30.57628359,
             "remaining_time": 11.3090364,
             "test": [
              0.05704402756
             ]
            },
            {
             "iteration": 73,
             "learn": [
              0.05543099883
             ],
             "passed_time": 30.97503276,
             "remaining_time": 10.88311962,
             "test": [
              0.05530956605
             ]
            },
            {
             "iteration": 74,
             "learn": [
              0.05367316348
             ],
             "passed_time": 31.42530577,
             "remaining_time": 10.47510192,
             "test": [
              0.0536309644
             ]
            },
            {
             "iteration": 75,
             "learn": [
              0.051823976
             ],
             "passed_time": 31.87416926,
             "remaining_time": 10.06552713,
             "test": [
              0.05200349735
             ]
            },
            {
             "iteration": 76,
             "learn": [
              0.05053044376
             ],
             "passed_time": 32.28988433,
             "remaining_time": 9.645030383,
             "test": [
              0.05042713235
             ]
            },
            {
             "iteration": 77,
             "learn": [
              0.04884017244
             ],
             "passed_time": 32.7921899,
             "remaining_time": 9.249079201,
             "test": [
              0.04889918163
             ]
            },
            {
             "iteration": 78,
             "learn": [
              0.04720948537
             ],
             "passed_time": 33.1990392,
             "remaining_time": 8.825061053,
             "test": [
              0.04741894173
             ]
            },
            {
             "iteration": 79,
             "learn": [
              0.04591157833
             ],
             "passed_time": 33.59427446,
             "remaining_time": 8.398568614,
             "test": [
              0.04598429233
             ]
            },
            {
             "iteration": 80,
             "learn": [
              0.04464873677
             ],
             "passed_time": 33.9890982,
             "remaining_time": 7.97275143,
             "test": [
              0.04459425753
             ]
            },
            {
             "iteration": 81,
             "learn": [
              0.04306124774
             ],
             "passed_time": 34.35429117,
             "remaining_time": 7.541185868,
             "test": [
              0.04324707147
             ]
            },
            {
             "iteration": 82,
             "learn": [
              0.04195396586
             ],
             "passed_time": 34.72540746,
             "remaining_time": 7.112432852,
             "test": [
              0.04194157142
             ]
            },
            {
             "iteration": 83,
             "learn": [
              0.04071427639
             ],
             "passed_time": 35.08350959,
             "remaining_time": 6.682573254,
             "test": [
              0.04067654914
             ]
            },
            {
             "iteration": 84,
             "learn": [
              0.03934802398
             ],
             "passed_time": 35.4431698,
             "remaining_time": 6.254677023,
             "test": [
              0.03945057964
             ]
            },
            {
             "iteration": 85,
             "learn": [
              0.03812550632
             ],
             "passed_time": 35.82857485,
             "remaining_time": 5.832558696,
             "test": [
              0.03826176444
             ]
            },
            {
             "iteration": 86,
             "learn": [
              0.03710675938
             ],
             "passed_time": 36.30515323,
             "remaining_time": 5.424907955,
             "test": [
              0.03710994776
             ]
            },
            {
             "iteration": 87,
             "learn": [
              0.03605579179
             ],
             "passed_time": 36.6538819,
             "remaining_time": 4.998256623,
             "test": [
              0.03599313255
             ]
            },
            {
             "iteration": 88,
             "learn": [
              0.03486667465
             ],
             "passed_time": 37.0851669,
             "remaining_time": 4.583559954,
             "test": [
              0.03491112008
             ]
            },
            {
             "iteration": 89,
             "learn": [
              0.0338233574
             ],
             "passed_time": 37.4879708,
             "remaining_time": 4.165330089,
             "test": [
              0.03386212019
             ]
            },
            {
             "iteration": 90,
             "learn": [
              0.03281888922
             ],
             "passed_time": 37.93463626,
             "remaining_time": 3.751777213,
             "test": [
              0.03284493351
             ]
            },
            {
             "iteration": 91,
             "learn": [
              0.03182787486
             ],
             "passed_time": 38.31184087,
             "remaining_time": 3.331464423,
             "test": [
              0.03185863238
             ]
            },
            {
             "iteration": 92,
             "learn": [
              0.03085120071
             ],
             "passed_time": 38.74946672,
             "remaining_time": 2.916626528,
             "test": [
              0.03090303386
             ]
            },
            {
             "iteration": 93,
             "learn": [
              0.02990358715
             ],
             "passed_time": 39.17952982,
             "remaining_time": 2.500821053,
             "test": [
              0.0299763076
             ]
            },
            {
             "iteration": 94,
             "learn": [
              0.02896993673
             ],
             "passed_time": 39.64540668,
             "remaining_time": 2.086600352,
             "test": [
              0.02907790648
             ]
            },
            {
             "iteration": 95,
             "learn": [
              0.02823751623
             ],
             "passed_time": 40.1471267,
             "remaining_time": 1.672796946,
             "test": [
              0.0282070442
             ]
            },
            {
             "iteration": 96,
             "learn": [
              0.02735185771
             ],
             "passed_time": 40.60424682,
             "remaining_time": 1.255801448,
             "test": [
              0.0273623949
             ]
            },
            {
             "iteration": 97,
             "learn": [
              0.02642827147
             ],
             "passed_time": 41.02640298,
             "remaining_time": 0.8372735302,
             "test": [
              0.02654382214
             ]
            },
            {
             "iteration": 98,
             "learn": [
              0.02577596299
             ],
             "passed_time": 41.45355176,
             "remaining_time": 0.4187227451,
             "test": [
              0.02574982873
             ]
            },
            {
             "iteration": 99,
             "learn": [
              0.02492043839
             ],
             "passed_time": 41.82803796,
             "remaining_time": 0,
             "test": [
              0.02497928966
             ]
            }
           ],
           "meta": {
            "iteration_count": 100,
            "launch_mode": "Train",
            "learn_metrics": [
             {
              "best_value": "Min",
              "name": "CrossEntropy"
             }
            ],
            "learn_sets": [
             "learn"
            ],
            "name": "experiment",
            "parameters": "",
            "test_metrics": [
             {
              "best_value": "Min",
              "name": "CrossEntropy"
             }
            ],
            "test_sets": [
             "test"
            ]
           }
          },
          "passed_iterations": 99,
          "total_iterations": 100
         },
         "name": "catboost_info",
         "path": "catboost_info"
        }
       },
       "layout": "IPY_MODEL_c9bb70f086d4484285dc3f4c0fa92e85"
      }
     },
     "26fa88c50f1c43d4a7c8141dfb4af6d7": {
      "model_module": "@jupyter-widgets/base",
      "model_module_version": "1.2.0",
      "model_name": "LayoutModel",
      "state": {
       "_model_module": "@jupyter-widgets/base",
       "_model_module_version": "1.2.0",
       "_model_name": "LayoutModel",
       "_view_count": null,
       "_view_module": "@jupyter-widgets/base",
       "_view_module_version": "1.2.0",
       "_view_name": "LayoutView",
       "align_content": null,
       "align_items": null,
       "align_self": "stretch",
       "border": null,
       "bottom": null,
       "display": null,
       "flex": null,
       "flex_flow": null,
       "grid_area": null,
       "grid_auto_columns": null,
       "grid_auto_flow": null,
       "grid_auto_rows": null,
       "grid_column": null,
       "grid_gap": null,
       "grid_row": null,
       "grid_template_areas": null,
       "grid_template_columns": null,
       "grid_template_rows": null,
       "height": "500px",
       "justify_content": null,
       "justify_items": null,
       "left": null,
       "margin": null,
       "max_height": null,
       "max_width": null,
       "min_height": null,
       "min_width": null,
       "object_fit": null,
       "object_position": null,
       "order": null,
       "overflow": null,
       "overflow_x": null,
       "overflow_y": null,
       "padding": null,
       "right": null,
       "top": null,
       "visibility": null,
       "width": null
      }
     },
     "28b16b5a21b74e1aa3735aaa353c410f": {
      "model_module": "@jupyter-widgets/base",
      "model_module_version": "1.2.0",
      "model_name": "LayoutModel",
      "state": {
       "_model_module": "@jupyter-widgets/base",
       "_model_module_version": "1.2.0",
       "_model_name": "LayoutModel",
       "_view_count": null,
       "_view_module": "@jupyter-widgets/base",
       "_view_module_version": "1.2.0",
       "_view_name": "LayoutView",
       "align_content": null,
       "align_items": null,
       "align_self": "stretch",
       "border": null,
       "bottom": null,
       "display": null,
       "flex": null,
       "flex_flow": null,
       "grid_area": null,
       "grid_auto_columns": null,
       "grid_auto_flow": null,
       "grid_auto_rows": null,
       "grid_column": null,
       "grid_gap": null,
       "grid_row": null,
       "grid_template_areas": null,
       "grid_template_columns": null,
       "grid_template_rows": null,
       "height": "500px",
       "justify_content": null,
       "justify_items": null,
       "left": null,
       "margin": null,
       "max_height": null,
       "max_width": null,
       "min_height": null,
       "min_width": null,
       "object_fit": null,
       "object_position": null,
       "order": null,
       "overflow": null,
       "overflow_x": null,
       "overflow_y": null,
       "padding": null,
       "right": null,
       "top": null,
       "visibility": null,
       "width": null
      }
     },
     "2961001dc4e14dde9a41f593c94b9bc9": {
      "model_module": "catboost-widget",
      "model_module_version": "^1.0.0",
      "model_name": "CatboostWidgetModel",
      "state": {
       "_dom_classes": [],
       "_model_module": "catboost-widget",
       "_model_module_version": "^1.0.0",
       "_model_name": "CatboostWidgetModel",
       "_view_count": null,
       "_view_module": "catboost-widget",
       "_view_module_version": "^1.0.0",
       "_view_name": "CatboostWidgetView",
       "data": {
        "catboost_info": {
         "content": {
          "data": {
           "iterations": [
            {
             "iteration": 0,
             "learn": [
              0.6613902508
             ],
             "passed_time": 0.4165537115,
             "remaining_time": 41.23881743,
             "test": [
              0.6636047369
             ]
            },
            {
             "iteration": 1,
             "learn": [
              0.6363175763
             ],
             "passed_time": 0.8203431209,
             "remaining_time": 40.19681292,
             "test": [
              0.6357808303
             ]
            },
            {
             "iteration": 2,
             "learn": [
              0.6093936635
             ],
             "passed_time": 1.204077389,
             "remaining_time": 38.93183559,
             "test": [
              0.6095329843
             ]
            },
            {
             "iteration": 3,
             "learn": [
              0.5837486584
             ],
             "passed_time": 1.599455441,
             "remaining_time": 38.38693058,
             "test": [
              0.584729543
             ]
            },
            {
             "iteration": 4,
             "learn": [
              0.5622279451
             ],
             "passed_time": 1.98600602,
             "remaining_time": 37.73411438,
             "test": [
              0.561257541
             ]
            },
            {
             "iteration": 5,
             "learn": [
              0.5377884184
             ],
             "passed_time": 2.389401389,
             "remaining_time": 37.4339551,
             "test": [
              0.539015173
             ]
            },
            {
             "iteration": 6,
             "learn": [
              0.5169300116
             ],
             "passed_time": 2.792716638,
             "remaining_time": 37.10323533,
             "test": [
              0.5179115764
             ]
            },
            {
             "iteration": 7,
             "learn": [
              0.498742199
             ],
             "passed_time": 3.154885084,
             "remaining_time": 36.28117847,
             "test": [
              0.4978665219
             ]
            },
            {
             "iteration": 8,
             "learn": [
              0.4785843318
             ],
             "passed_time": 3.614900106,
             "remaining_time": 36.55065663,
             "test": [
              0.4788048368
             ]
            },
            {
             "iteration": 9,
             "learn": [
              0.4606326546
             ],
             "passed_time": 4.00196944,
             "remaining_time": 36.01772496,
             "test": [
              0.4606616184
             ]
            },
            {
             "iteration": 10,
             "learn": [
              0.4439415097
             ],
             "passed_time": 4.398523334,
             "remaining_time": 35.58805243,
             "test": [
              0.4433758344
             ]
            },
            {
             "iteration": 11,
             "learn": [
              0.4281205618
             ],
             "passed_time": 4.822971126,
             "remaining_time": 35.36845493,
             "test": [
              0.4268927486
             ]
            },
            {
             "iteration": 12,
             "learn": [
              0.4122479623
             ],
             "passed_time": 5.282189801,
             "remaining_time": 35.35003944,
             "test": [
              0.4111612012
             ]
            },
            {
             "iteration": 13,
             "learn": [
              0.3968576166
             ],
             "passed_time": 5.653009119,
             "remaining_time": 34.72562744,
             "test": [
              0.39613747
             ]
            },
            {
             "iteration": 14,
             "learn": [
              0.3824993532
             ],
             "passed_time": 6.084098324,
             "remaining_time": 34.47655717,
             "test": [
              0.3817778361
             ]
            },
            {
             "iteration": 15,
             "learn": [
              0.3674383538
             ],
             "passed_time": 6.527292268,
             "remaining_time": 34.26828441,
             "test": [
              0.3680441189
             ]
            },
            {
             "iteration": 16,
             "learn": [
              0.3540540675
             ],
             "passed_time": 6.917841294,
             "remaining_time": 33.77534279,
             "test": [
              0.3548990867
             ]
            },
            {
             "iteration": 17,
             "learn": [
              0.3432807434
             ],
             "passed_time": 7.352752043,
             "remaining_time": 33.49587042,
             "test": [
              0.3423123889
             ]
            },
            {
             "iteration": 18,
             "learn": [
              0.3302002393
             ],
             "passed_time": 7.745229067,
             "remaining_time": 33.01913445,
             "test": [
              0.330252578
             ]
            },
            {
             "iteration": 19,
             "learn": [
              0.3197788214
             ],
             "passed_time": 8.148600539,
             "remaining_time": 32.59440216,
             "test": [
              0.3186925718
             ]
            },
            {
             "iteration": 20,
             "learn": [
              0.3071274005
             ],
             "passed_time": 8.629542682,
             "remaining_time": 32.46351771,
             "test": [
              0.3076055334
             ]
            },
            {
             "iteration": 21,
             "learn": [
              0.2969974296
             ],
             "passed_time": 9.036340022,
             "remaining_time": 32.0379328,
             "test": [
              0.296966348
             ]
            },
            {
             "iteration": 22,
             "learn": [
              0.2869381438
             ],
             "passed_time": 9.506021242,
             "remaining_time": 31.8245059,
             "test": [
              0.2867523751
             ]
            },
            {
             "iteration": 23,
             "learn": [
              0.276644416
             ],
             "passed_time": 9.923771685,
             "remaining_time": 31.425277,
             "test": [
              0.2769422721
             ]
            },
            {
             "iteration": 24,
             "learn": [
              0.2666490343
             ],
             "passed_time": 10.30317721,
             "remaining_time": 30.90953164,
             "test": [
              0.2675156562
             ]
            },
            {
             "iteration": 25,
             "learn": [
              0.2581438624
             ],
             "passed_time": 10.70848028,
             "remaining_time": 30.47798234,
             "test": [
              0.2584547998
             ]
            },
            {
             "iteration": 26,
             "learn": [
              0.2501026942
             ],
             "passed_time": 11.15237942,
             "remaining_time": 30.15272953,
             "test": [
              0.2497425827
             ]
            },
            {
             "iteration": 27,
             "learn": [
              0.242111136
             ],
             "passed_time": 11.51983429,
             "remaining_time": 29.62243103,
             "test": [
              0.241362467
             ]
            },
            {
             "iteration": 28,
             "learn": [
              0.23382166
             ],
             "passed_time": 11.89426004,
             "remaining_time": 29.12042976,
             "test": [
              0.2332994182
             ]
            },
            {
             "iteration": 29,
             "learn": [
              0.2259922644
             ],
             "passed_time": 12.31739007,
             "remaining_time": 28.74057684,
             "test": [
              0.2255376282
             ]
            },
            {
             "iteration": 30,
             "learn": [
              0.2186739779
             ],
             "passed_time": 12.7567236,
             "remaining_time": 28.39399769,
             "test": [
              0.2180647118
             ]
            },
            {
             "iteration": 31,
             "learn": [
              0.2110855125
             ],
             "passed_time": 13.23142029,
             "remaining_time": 28.11676812,
             "test": [
              0.2108672402
             ]
            },
            {
             "iteration": 32,
             "learn": [
              0.2035495878
             ],
             "passed_time": 13.67554285,
             "remaining_time": 27.76549609,
             "test": [
              0.2039331204
             ]
            },
            {
             "iteration": 33,
             "learn": [
              0.1966851625
             ],
             "passed_time": 14.08701201,
             "remaining_time": 27.34537625,
             "test": [
              0.1972512029
             ]
            },
            {
             "iteration": 34,
             "learn": [
              0.1913358369
             ],
             "passed_time": 14.52433366,
             "remaining_time": 26.97376252,
             "test": [
              0.190809815
             ]
            },
            {
             "iteration": 35,
             "learn": [
              0.1841171984
             ],
             "passed_time": 14.90711754,
             "remaining_time": 26.5015423,
             "test": [
              0.184600084
             ]
            },
            {
             "iteration": 36,
             "learn": [
              0.1789325423
             ],
             "passed_time": 15.3257724,
             "remaining_time": 26.09523408,
             "test": [
              0.178612188
             ]
            },
            {
             "iteration": 37,
             "learn": [
              0.1724086738
             ],
             "passed_time": 15.76350218,
             "remaining_time": 25.7193983,
             "test": [
              0.1728364374
             ]
            },
            {
             "iteration": 38,
             "learn": [
              0.1678468644
             ],
             "passed_time": 16.47662748,
             "remaining_time": 25.77113528,
             "test": [
              0.1672642696
             ]
            },
            {
             "iteration": 39,
             "learn": [
              0.1616511247
             ],
             "passed_time": 16.99566872,
             "remaining_time": 25.49350307,
             "test": [
              0.1618868134
             ]
            },
            {
             "iteration": 40,
             "learn": [
              0.1565424578
             ],
             "passed_time": 17.47231893,
             "remaining_time": 25.1430931,
             "test": [
              0.1566973273
             ]
            },
            {
             "iteration": 41,
             "learn": [
              0.1522157463
             ],
             "passed_time": 17.97017119,
             "remaining_time": 24.81595069,
             "test": [
              0.1516876076
             ]
            },
            {
             "iteration": 42,
             "learn": [
              0.1472211044
             ],
             "passed_time": 18.29038181,
             "remaining_time": 24.24538984,
             "test": [
              0.14684999
             ]
            },
            {
             "iteration": 43,
             "learn": [
              0.1420879822
             ],
             "passed_time": 18.69365775,
             "remaining_time": 23.79192804,
             "test": [
              0.1421790008
             ]
            },
            {
             "iteration": 44,
             "learn": [
              0.1373418932
             ],
             "passed_time": 19.08148092,
             "remaining_time": 23.32181002,
             "test": [
              0.1376676247
             ]
            },
            {
             "iteration": 45,
             "learn": [
              0.1331442234
             ],
             "passed_time": 19.49685702,
             "remaining_time": 22.88761477,
             "test": [
              0.1333104655
             ]
            },
            {
             "iteration": 46,
             "learn": [
              0.1291487991
             ],
             "passed_time": 19.94382009,
             "remaining_time": 22.48983968,
             "test": [
              0.1291004969
             ]
            },
            {
             "iteration": 47,
             "learn": [
              0.1252182469
             ],
             "passed_time": 20.33943824,
             "remaining_time": 22.03439143,
             "test": [
              0.125031341
             ]
            },
            {
             "iteration": 48,
             "learn": [
              0.121312447
             ],
             "passed_time": 20.78402594,
             "remaining_time": 21.63235353,
             "test": [
              0.121098665
             ]
            },
            {
             "iteration": 49,
             "learn": [
              0.1174280413
             ],
             "passed_time": 21.2201538,
             "remaining_time": 21.2201538,
             "test": [
              0.1172979347
             ]
            },
            {
             "iteration": 50,
             "learn": [
              0.1135689235
             ],
             "passed_time": 21.62263273,
             "remaining_time": 20.77468635,
             "test": [
              0.1136225148
             ]
            },
            {
             "iteration": 51,
             "learn": [
              0.1100070604
             ],
             "passed_time": 22.01734541,
             "remaining_time": 20.32370346,
             "test": [
              0.1100695347
             ]
            },
            {
             "iteration": 52,
             "learn": [
              0.1071525826
             ],
             "passed_time": 22.38978723,
             "remaining_time": 19.85509434,
             "test": [
              0.106633568
             ]
            },
            {
             "iteration": 53,
             "learn": [
              0.1036562736
             ],
             "passed_time": 22.76608297,
             "remaining_time": 19.39332994,
             "test": [
              0.1033119271
             ]
            },
            {
             "iteration": 54,
             "learn": [
              0.09998637856
             ],
             "passed_time": 23.21822103,
             "remaining_time": 18.9967263,
             "test": [
              0.1000987028
             ]
            },
            {
             "iteration": 55,
             "learn": [
              0.09739222993
             ],
             "passed_time": 23.5835466,
             "remaining_time": 18.52992947,
             "test": [
              0.09698975508
             ]
            },
            {
             "iteration": 56,
             "learn": [
              0.09402891328
             ],
             "passed_time": 24.07299153,
             "remaining_time": 18.16032694,
             "test": [
              0.09398409075
             ]
            },
            {
             "iteration": 57,
             "learn": [
              0.09148624883
             ],
             "passed_time": 24.50332565,
             "remaining_time": 17.74378754,
             "test": [
              0.09107391071
             ]
            },
            {
             "iteration": 58,
             "learn": [
              0.08822031588
             ],
             "passed_time": 24.88682705,
             "remaining_time": 17.29423575,
             "test": [
              0.0882589498
             ]
            },
            {
             "iteration": 59,
             "learn": [
              0.08573886486
             ],
             "passed_time": 25.25698103,
             "remaining_time": 16.83798735,
             "test": [
              0.08553528069
             ]
            },
            {
             "iteration": 60,
             "learn": [
              0.08286559865
             ],
             "passed_time": 25.70552869,
             "remaining_time": 16.43468228,
             "test": [
              0.08289941478
             ]
            },
            {
             "iteration": 61,
             "learn": [
              0.08038444861
             ],
             "passed_time": 26.1275594,
             "remaining_time": 16.01366544,
             "test": [
              0.08034843916
             ]
            },
            {
             "iteration": 62,
             "learn": [
              0.07824421519
             ],
             "passed_time": 26.55299082,
             "remaining_time": 15.59461366,
             "test": [
              0.0778790585
             ]
            },
            {
             "iteration": 63,
             "learn": [
              0.07577326299
             ],
             "passed_time": 26.95078377,
             "remaining_time": 15.15981587,
             "test": [
              0.07548584578
             ]
            },
            {
             "iteration": 64,
             "learn": [
              0.07322947755
             ],
             "passed_time": 27.35195329,
             "remaining_time": 14.72797485,
             "test": [
              0.07317208336
             ]
            },
            {
             "iteration": 65,
             "learn": [
              0.07086288312
             ],
             "passed_time": 27.80362679,
             "remaining_time": 14.32308047,
             "test": [
              0.07093256547
             ]
            },
            {
             "iteration": 66,
             "learn": [
              0.06875083105
             ],
             "passed_time": 28.22529893,
             "remaining_time": 13.90201291,
             "test": [
              0.06876304287
             ]
            },
            {
             "iteration": 67,
             "learn": [
              0.06672486418
             ],
             "passed_time": 28.67852329,
             "remaining_time": 13.49577567,
             "test": [
              0.06666268667
             ]
            },
            {
             "iteration": 68,
             "learn": [
              0.06475705801
             ],
             "passed_time": 29.0361399,
             "remaining_time": 13.04522227,
             "test": [
              0.06462858793
             ]
            },
            {
             "iteration": 69,
             "learn": [
              0.06280522923
             ],
             "passed_time": 29.46042031,
             "remaining_time": 12.62589442,
             "test": [
              0.06265937201
             ]
            },
            {
             "iteration": 70,
             "learn": [
              0.06086376568
             ],
             "passed_time": 29.79364512,
             "remaining_time": 12.16923533,
             "test": [
              0.06075155866
             ]
            },
            {
             "iteration": 71,
             "learn": [
              0.05895669487
             ],
             "passed_time": 30.14759545,
             "remaining_time": 11.7240649,
             "test": [
              0.05890401724
             ]
            },
            {
             "iteration": 72,
             "learn": [
              0.05715446795
             ],
             "passed_time": 30.52883892,
             "remaining_time": 11.29148837,
             "test": [
              0.05711422391
             ]
            },
            {
             "iteration": 73,
             "learn": [
              0.05573075553
             ],
             "passed_time": 30.92848302,
             "remaining_time": 10.8667643,
             "test": [
              0.05538019024
             ]
            },
            {
             "iteration": 74,
             "learn": [
              0.05398302159
             ],
             "passed_time": 31.38069188,
             "remaining_time": 10.46023063,
             "test": [
              0.05370096488
             ]
            },
            {
             "iteration": 75,
             "learn": [
              0.05213723739
             ],
             "passed_time": 31.83104392,
             "remaining_time": 10.05190861,
             "test": [
              0.05207400244
             ]
            },
            {
             "iteration": 76,
             "learn": [
              0.05083642132
             ],
             "passed_time": 32.20620972,
             "remaining_time": 9.620036668,
             "test": [
              0.05049522256
             ]
            },
            {
             "iteration": 77,
             "learn": [
              0.04914593314
             ],
             "passed_time": 32.75190869,
             "remaining_time": 9.237717836,
             "test": [
              0.04896761284
             ]
            },
            {
             "iteration": 78,
             "learn": [
              0.04757320538
             ],
             "passed_time": 33.16854912,
             "remaining_time": 8.816956094,
             "test": [
              0.04748699783
             ]
            },
            {
             "iteration": 79,
             "learn": [
              0.0462205468
             ],
             "passed_time": 33.56389802,
             "remaining_time": 8.390974504,
             "test": [
              0.04605118933
             ]
            },
            {
             "iteration": 80,
             "learn": [
              0.04496321806
             ],
             "passed_time": 33.96036769,
             "remaining_time": 7.966012175,
             "test": [
              0.04466154656
             ]
            },
            {
             "iteration": 81,
             "learn": [
              0.04339138347
             ],
             "passed_time": 34.3246208,
             "remaining_time": 7.534672859,
             "test": [
              0.0433145867
             ]
            },
            {
             "iteration": 82,
             "learn": [
              0.04228019147
             ],
             "passed_time": 34.69098563,
             "remaining_time": 7.1053826,
             "test": [
              0.04200897991
             ]
            },
            {
             "iteration": 83,
             "learn": [
              0.04103145451
             ],
             "passed_time": 35.00892174,
             "remaining_time": 6.668366046,
             "test": [
              0.04074181314
             ]
            },
            {
             "iteration": 84,
             "learn": [
              0.03966804678
             ],
             "passed_time": 35.37616639,
             "remaining_time": 6.242852892,
             "test": [
              0.03951560487
             ]
            },
            {
             "iteration": 85,
             "learn": [
              0.03845441892
             ],
             "passed_time": 35.76302407,
             "remaining_time": 5.821887639,
             "test": [
              0.03832721011
             ]
            },
            {
             "iteration": 86,
             "learn": [
              0.03742778355
             ],
             "passed_time": 36.24171028,
             "remaining_time": 5.415427973,
             "test": [
              0.03717558038
             ]
            },
            {
             "iteration": 87,
             "learn": [
              0.03637444361
             ],
             "passed_time": 36.58511534,
             "remaining_time": 4.988879365,
             "test": [
              0.03606106603
             ]
            },
            {
             "iteration": 88,
             "learn": [
              0.03520117806
             ],
             "passed_time": 37.0173167,
             "remaining_time": 4.575173974,
             "test": [
              0.03497922264
             ]
            },
            {
             "iteration": 89,
             "learn": [
              0.03415811053
             ],
             "passed_time": 37.42018264,
             "remaining_time": 4.157798071,
             "test": [
              0.03393043944
             ]
            },
            {
             "iteration": 90,
             "learn": [
              0.03313985096
             ],
             "passed_time": 37.8153907,
             "remaining_time": 3.739983696,
             "test": [
              0.0329107454
             ]
            },
            {
             "iteration": 91,
             "learn": [
              0.03213850353
             ],
             "passed_time": 38.13642742,
             "remaining_time": 3.31621108,
             "test": [
              0.03192215626
             ]
            },
            {
             "iteration": 92,
             "learn": [
              0.0311566082
             ],
             "passed_time": 38.54663446,
             "remaining_time": 2.901359583,
             "test": [
              0.03096435723
             ]
            },
            {
             "iteration": 93,
             "learn": [
              0.03021434971
             ],
             "passed_time": 38.96784953,
             "remaining_time": 2.487309544,
             "test": [
              0.03003807986
             ]
            },
            {
             "iteration": 94,
             "learn": [
              0.02929752347
             ],
             "passed_time": 39.43947838,
             "remaining_time": 2.07576202,
             "test": [
              0.02913979603
             ]
            },
            {
             "iteration": 95,
             "learn": [
              0.02854197166
             ],
             "passed_time": 39.89019173,
             "remaining_time": 1.662091322,
             "test": [
              0.02826723316
             ]
            },
            {
             "iteration": 96,
             "learn": [
              0.02765160168
             ],
             "passed_time": 40.29617092,
             "remaining_time": 1.246273327,
             "test": [
              0.02742017181
             ]
            },
            {
             "iteration": 97,
             "learn": [
              0.02673242952
             ],
             "passed_time": 40.61042558,
             "remaining_time": 0.8287841954,
             "test": [
              0.02659883087
             ]
            },
            {
             "iteration": 98,
             "learn": [
              0.02607436881
             ],
             "passed_time": 41.04024211,
             "remaining_time": 0.4145479001,
             "test": [
              0.02580574848
             ]
            },
            {
             "iteration": 99,
             "learn": [
              0.02520285749
             ],
             "passed_time": 41.32444752,
             "remaining_time": 0,
             "test": [
              0.025034303
             ]
            }
           ],
           "meta": {
            "iteration_count": 100,
            "launch_mode": "Train",
            "learn_metrics": [
             {
              "best_value": "Min",
              "name": "CrossEntropy"
             }
            ],
            "learn_sets": [
             "learn"
            ],
            "name": "experiment",
            "parameters": "",
            "test_metrics": [
             {
              "best_value": "Min",
              "name": "CrossEntropy"
             }
            ],
            "test_sets": [
             "test"
            ]
           }
          },
          "passed_iterations": 99,
          "total_iterations": 100
         },
         "name": "catboost_info",
         "path": "catboost_info"
        }
       },
       "layout": "IPY_MODEL_e81624c4c3a84f21aae6440af962f247"
      }
     },
     "2aeea1c7d8d248e59e50e99a04231c28": {
      "model_module": "@jupyter-widgets/base",
      "model_module_version": "1.2.0",
      "model_name": "LayoutModel",
      "state": {
       "_model_module": "@jupyter-widgets/base",
       "_model_module_version": "1.2.0",
       "_model_name": "LayoutModel",
       "_view_count": null,
       "_view_module": "@jupyter-widgets/base",
       "_view_module_version": "1.2.0",
       "_view_name": "LayoutView",
       "align_content": null,
       "align_items": null,
       "align_self": "stretch",
       "border": null,
       "bottom": null,
       "display": null,
       "flex": null,
       "flex_flow": null,
       "grid_area": null,
       "grid_auto_columns": null,
       "grid_auto_flow": null,
       "grid_auto_rows": null,
       "grid_column": null,
       "grid_gap": null,
       "grid_row": null,
       "grid_template_areas": null,
       "grid_template_columns": null,
       "grid_template_rows": null,
       "height": "500px",
       "justify_content": null,
       "justify_items": null,
       "left": null,
       "margin": null,
       "max_height": null,
       "max_width": null,
       "min_height": null,
       "min_width": null,
       "object_fit": null,
       "object_position": null,
       "order": null,
       "overflow": null,
       "overflow_x": null,
       "overflow_y": null,
       "padding": null,
       "right": null,
       "top": null,
       "visibility": null,
       "width": null
      }
     },
     "2d7ccaaaca6a487aa305a573d8a07c61": {
      "model_module": "catboost-widget",
      "model_module_version": "^1.0.0",
      "model_name": "CatboostWidgetModel",
      "state": {
       "_dom_classes": [],
       "_model_module": "catboost-widget",
       "_model_module_version": "^1.0.0",
       "_model_name": "CatboostWidgetModel",
       "_view_count": null,
       "_view_module": "catboost-widget",
       "_view_module_version": "^1.0.0",
       "_view_name": "CatboostWidgetView",
       "data": {
        "catboost_info": {
         "content": {
          "data": {
           "iterations": [
            {
             "iteration": 0,
             "learn": [
              0.6614184168
             ],
             "passed_time": 0.4175775933,
             "remaining_time": 41.34018174,
             "test": [
              0.6636167711
             ]
            },
            {
             "iteration": 1,
             "learn": [
              0.6363393021
             ],
             "passed_time": 0.8307954247,
             "remaining_time": 40.70897581,
             "test": [
              0.6358054234
             ]
            },
            {
             "iteration": 2,
             "learn": [
              0.6094396649
             ],
             "passed_time": 1.215537119,
             "remaining_time": 39.30236683,
             "test": [
              0.6095657508
             ]
            },
            {
             "iteration": 3,
             "learn": [
              0.5838082631
             ],
             "passed_time": 1.580853422,
             "remaining_time": 37.94048213,
             "test": [
              0.5847573161
             ]
            },
            {
             "iteration": 4,
             "learn": [
              0.5622815302
             ],
             "passed_time": 1.968349963,
             "remaining_time": 37.3986493,
             "test": [
              0.5612946866
             ]
            },
            {
             "iteration": 5,
             "learn": [
              0.5379300896
             ],
             "passed_time": 2.533693506,
             "remaining_time": 39.6945316,
             "test": [
              0.5390587311
             ]
            },
            {
             "iteration": 6,
             "learn": [
              0.5170064003
             ],
             "passed_time": 3.108526033,
             "remaining_time": 41.29898873,
             "test": [
              0.5179629612
             ]
            },
            {
             "iteration": 7,
             "learn": [
              0.4988352664
             ],
             "passed_time": 3.598955695,
             "remaining_time": 41.38799049,
             "test": [
              0.4979249227
             ]
            },
            {
             "iteration": 8,
             "learn": [
              0.478733245
             ],
             "passed_time": 4.021793467,
             "remaining_time": 40.66480061,
             "test": [
              0.4788632177
             ]
            },
            {
             "iteration": 9,
             "learn": [
              0.4607490514
             ],
             "passed_time": 4.412961098,
             "remaining_time": 39.71664989,
             "test": [
              0.4607249364
             ]
            },
            {
             "iteration": 10,
             "learn": [
              0.4442122477
             ],
             "passed_time": 4.808006019,
             "remaining_time": 38.90113961,
             "test": [
              0.4434439422
             ]
            },
            {
             "iteration": 11,
             "learn": [
              0.42823962
             ],
             "passed_time": 5.231932835,
             "remaining_time": 38.36750746,
             "test": [
              0.4269644446
             ]
            },
            {
             "iteration": 12,
             "learn": [
              0.4124251269
             ],
             "passed_time": 5.69250887,
             "remaining_time": 38.0960209,
             "test": [
              0.4112395608
             ]
            },
            {
             "iteration": 13,
             "learn": [
              0.3970004904
             ],
             "passed_time": 6.05324753,
             "remaining_time": 37.18423483,
             "test": [
              0.3962118052
             ]
            },
            {
             "iteration": 14,
             "learn": [
              0.3826770042
             ],
             "passed_time": 6.486237955,
             "remaining_time": 36.75534841,
             "test": [
              0.3818558481
             ]
            },
            {
             "iteration": 15,
             "learn": [
              0.3676071331
             ],
             "passed_time": 6.89268657,
             "remaining_time": 36.18660449,
             "test": [
              0.3681250977
             ]
            },
            {
             "iteration": 16,
             "learn": [
              0.3542737703
             ],
             "passed_time": 7.281232715,
             "remaining_time": 35.54954796,
             "test": [
              0.3549891291
             ]
            },
            {
             "iteration": 17,
             "learn": [
              0.3434597481
             ],
             "passed_time": 7.713760158,
             "remaining_time": 35.14046294,
             "test": [
              0.3424062737
             ]
            },
            {
             "iteration": 18,
             "learn": [
              0.3304015744
             ],
             "passed_time": 8.103927714,
             "remaining_time": 34.54832341,
             "test": [
              0.3303522673
             ]
            },
            {
             "iteration": 19,
             "learn": [
              0.319950663
             ],
             "passed_time": 8.481092204,
             "remaining_time": 33.92436882,
             "test": [
              0.3187852182
             ]
            },
            {
             "iteration": 20,
             "learn": [
              0.3074171767
             ],
             "passed_time": 8.955620537,
             "remaining_time": 33.69019154,
             "test": [
              0.3077024273
             ]
            },
            {
             "iteration": 21,
             "learn": [
              0.2972200896
             ],
             "passed_time": 9.370633932,
             "remaining_time": 33.22315667,
             "test": [
              0.2970669201
             ]
            },
            {
             "iteration": 22,
             "learn": [
              0.2871519782
             ],
             "passed_time": 9.879766001,
             "remaining_time": 33.07573835,
             "test": [
              0.2868563063
             ]
            },
            {
             "iteration": 23,
             "learn": [
              0.2769239207
             ],
             "passed_time": 10.30307302,
             "remaining_time": 32.62639788,
             "test": [
              0.2770426654
             ]
            },
            {
             "iteration": 24,
             "learn": [
              0.2669713663
             ],
             "passed_time": 10.67082189,
             "remaining_time": 32.01246567,
             "test": [
              0.2676192067
             ]
            },
            {
             "iteration": 25,
             "learn": [
              0.2584013258
             ],
             "passed_time": 11.03881655,
             "remaining_time": 31.41817019,
             "test": [
              0.2585610094
             ]
            },
            {
             "iteration": 26,
             "learn": [
              0.2503589616
             ],
             "passed_time": 11.48610244,
             "remaining_time": 31.0550177,
             "test": [
              0.2498534484
             ]
            },
            {
             "iteration": 27,
             "learn": [
              0.2423680079
             ],
             "passed_time": 11.84677791,
             "remaining_time": 30.46314321,
             "test": [
              0.2414724011
             ]
            },
            {
             "iteration": 28,
             "learn": [
              0.2341081766
             ],
             "passed_time": 12.22365663,
             "remaining_time": 29.92688347,
             "test": [
              0.233411029
             ]
            },
            {
             "iteration": 29,
             "learn": [
              0.2262983447
             ],
             "passed_time": 12.6484869,
             "remaining_time": 29.5131361,
             "test": [
              0.225652153
             ]
            },
            {
             "iteration": 30,
             "learn": [
              0.2189505845
             ],
             "passed_time": 13.04663817,
             "remaining_time": 29.03929142,
             "test": [
              0.2181788782
             ]
            },
            {
             "iteration": 31,
             "learn": [
              0.2113438269
             ],
             "passed_time": 13.4879306,
             "remaining_time": 28.66185254,
             "test": [
              0.2109789754
             ]
            },
            {
             "iteration": 32,
             "learn": [
              0.2038057106
             ],
             "passed_time": 13.91363035,
             "remaining_time": 28.24888587,
             "test": [
              0.2040434421
             ]
            },
            {
             "iteration": 33,
             "learn": [
              0.1970801242
             ],
             "passed_time": 14.32684943,
             "remaining_time": 27.810943,
             "test": [
              0.1973636996
             ]
            },
            {
             "iteration": 34,
             "learn": [
              0.1915938852
             ],
             "passed_time": 14.6873835,
             "remaining_time": 27.27656935,
             "test": [
              0.1909169168
             ]
            },
            {
             "iteration": 35,
             "learn": [
              0.1844158167
             ],
             "passed_time": 15.08076237,
             "remaining_time": 26.81024421,
             "test": [
              0.1847106388
             ]
            },
            {
             "iteration": 36,
             "learn": [
              0.1792157698
             ],
             "passed_time": 15.50045408,
             "remaining_time": 26.39266505,
             "test": [
              0.1787255314
             ]
            },
            {
             "iteration": 37,
             "learn": [
              0.1726822344
             ],
             "passed_time": 15.8562357,
             "remaining_time": 25.87070036,
             "test": [
              0.1729477744
             ]
            },
            {
             "iteration": 38,
             "learn": [
              0.1681048174
             ],
             "passed_time": 16.30829912,
             "remaining_time": 25.50785247,
             "test": [
              0.1673792024
             ]
            },
            {
             "iteration": 39,
             "learn": [
              0.1619156066
             ],
             "passed_time": 16.65436816,
             "remaining_time": 24.98155224,
             "test": [
              0.1619976162
             ]
            },
            {
             "iteration": 40,
             "learn": [
              0.1567781198
             ],
             "passed_time": 17.05156559,
             "remaining_time": 24.53761878,
             "test": [
              0.1568053899
             ]
            },
            {
             "iteration": 41,
             "learn": [
              0.1524502418
             ],
             "passed_time": 17.4747589,
             "remaining_time": 24.13180991,
             "test": [
              0.151793595
             ]
            },
            {
             "iteration": 42,
             "learn": [
              0.1474613239
             ],
             "passed_time": 17.80425068,
             "remaining_time": 23.60098346,
             "test": [
              0.1469553836
             ]
            },
            {
             "iteration": 43,
             "learn": [
              0.1423703357
             ],
             "passed_time": 18.20750132,
             "remaining_time": 23.1731835,
             "test": [
              0.1422877935
             ]
            },
            {
             "iteration": 44,
             "learn": [
              0.1376029118
             ],
             "passed_time": 18.59946583,
             "remaining_time": 22.73268046,
             "test": [
              0.137779005
             ]
            },
            {
             "iteration": 45,
             "learn": [
              0.1333984339
             ],
             "passed_time": 19.00167911,
             "remaining_time": 22.30631896,
             "test": [
              0.1334234446
             ]
            },
            {
             "iteration": 46,
             "learn": [
              0.1294011695
             ],
             "passed_time": 19.45123593,
             "remaining_time": 21.93437243,
             "test": [
              0.1292150186
             ]
            },
            {
             "iteration": 47,
             "learn": [
              0.1254791506
             ],
             "passed_time": 19.84731667,
             "remaining_time": 21.50125972,
             "test": [
              0.1251471681
             ]
            },
            {
             "iteration": 48,
             "learn": [
              0.1215645743
             ],
             "passed_time": 20.2875593,
             "remaining_time": 21.11562295,
             "test": [
              0.1212135407
             ]
            },
            {
             "iteration": 49,
             "learn": [
              0.1176923228
             ],
             "passed_time": 20.78000603,
             "remaining_time": 20.78000603,
             "test": [
              0.1174143445
             ]
            },
            {
             "iteration": 50,
             "learn": [
              0.1138533897
             ],
             "passed_time": 21.14362341,
             "remaining_time": 20.31446171,
             "test": [
              0.1137437134
             ]
            },
            {
             "iteration": 51,
             "learn": [
              0.1102715374
             ],
             "passed_time": 21.46202233,
             "remaining_time": 19.81109753,
             "test": [
              0.1101849185
             ]
            },
            {
             "iteration": 52,
             "learn": [
              0.1074097059
             ],
             "passed_time": 21.86859989,
             "remaining_time": 19.39290934,
             "test": [
              0.1067528061
             ]
            },
            {
             "iteration": 53,
             "learn": [
              0.1039121714
             ],
             "passed_time": 22.24991861,
             "remaining_time": 18.95363437,
             "test": [
              0.1034332759
             ]
            },
            {
             "iteration": 54,
             "learn": [
              0.1002778074
             ],
             "passed_time": 22.70648094,
             "remaining_time": 18.57802986,
             "test": [
              0.1002219781
             ]
            },
            {
             "iteration": 55,
             "learn": [
              0.09765586575
             ],
             "passed_time": 23.06054421,
             "remaining_time": 18.11899902,
             "test": [
              0.09711537894
             ]
            },
            {
             "iteration": 56,
             "learn": [
              0.09430757841
             ],
             "passed_time": 23.5523833,
             "remaining_time": 17.7675874,
             "test": [
              0.09411025689
             ]
            },
            {
             "iteration": 57,
             "learn": [
              0.09175785602
             ],
             "passed_time": 23.97936189,
             "remaining_time": 17.36436551,
             "test": [
              0.09120359724
             ]
            },
            {
             "iteration": 58,
             "learn": [
              0.08849683865
             ],
             "passed_time": 24.33237463,
             "remaining_time": 16.9089383,
             "test": [
              0.08838346621
             ]
            },
            {
             "iteration": 59,
             "learn": [
              0.08600820977
             ],
             "passed_time": 24.70318247,
             "remaining_time": 16.46878831,
             "test": [
              0.08565437416
             ]
            },
            {
             "iteration": 60,
             "learn": [
              0.08314365918
             ],
             "passed_time": 25.14878226,
             "remaining_time": 16.07872964,
             "test": [
              0.08302159021
             ]
            },
            {
             "iteration": 61,
             "learn": [
              0.08064193173
             ],
             "passed_time": 25.5805446,
             "remaining_time": 15.6783983,
             "test": [
              0.08047221944
             ]
            },
            {
             "iteration": 62,
             "learn": [
              0.07848015649
             ],
             "passed_time": 25.928229,
             "remaining_time": 15.22769005,
             "test": [
              0.07799817669
             ]
            },
            {
             "iteration": 63,
             "learn": [
              0.07599945364
             ],
             "passed_time": 26.33227177,
             "remaining_time": 14.81190287,
             "test": [
              0.07560194251
             ]
            },
            {
             "iteration": 64,
             "learn": [
              0.07348521261
             ],
             "passed_time": 26.71990386,
             "remaining_time": 14.38764054,
             "test": [
              0.07328268699
             ]
            },
            {
             "iteration": 65,
             "learn": [
              0.07111306515
             ],
             "passed_time": 27.17131399,
             "remaining_time": 13.99734357,
             "test": [
              0.07104329657
             ]
            },
            {
             "iteration": 66,
             "learn": [
              0.06898440164
             ],
             "passed_time": 27.58802846,
             "remaining_time": 13.58813342,
             "test": [
              0.06887391966
             ]
            },
            {
             "iteration": 67,
             "learn": [
              0.06694277457
             ],
             "passed_time": 28.02860848,
             "remaining_time": 13.1899334,
             "test": [
              0.06677483755
             ]
            },
            {
             "iteration": 68,
             "learn": [
              0.06497762005
             ],
             "passed_time": 28.39087822,
             "remaining_time": 12.7553221,
             "test": [
              0.06474262227
             ]
            },
            {
             "iteration": 69,
             "learn": [
              0.06300316351
             ],
             "passed_time": 28.77052114,
             "remaining_time": 12.33022335,
             "test": [
              0.06276762439
             ]
            },
            {
             "iteration": 70,
             "learn": [
              0.06106751256
             ],
             "passed_time": 29.09870759,
             "remaining_time": 11.88538761,
             "test": [
              0.06086269469
             ]
            },
            {
             "iteration": 71,
             "learn": [
              0.0591754727
             ],
             "passed_time": 29.46282039,
             "remaining_time": 11.45776348,
             "test": [
              0.05901570363
             ]
            },
            {
             "iteration": 72,
             "learn": [
              0.05738264978
             ],
             "passed_time": 29.81034985,
             "remaining_time": 11.02574584,
             "test": [
              0.05722138789
             ]
            },
            {
             "iteration": 73,
             "learn": [
              0.05592524461
             ],
             "passed_time": 30.20624205,
             "remaining_time": 10.61300396,
             "test": [
              0.05548884275
             ]
            },
            {
             "iteration": 74,
             "learn": [
              0.05417922423
             ],
             "passed_time": 30.66007715,
             "remaining_time": 10.22002572,
             "test": [
              0.05381006038
             ]
            },
            {
             "iteration": 75,
             "learn": [
              0.05234208584
             ],
             "passed_time": 31.00245729,
             "remaining_time": 9.790249671,
             "test": [
              0.05217685321
             ]
            },
            {
             "iteration": 76,
             "learn": [
              0.05100499026
             ],
             "passed_time": 31.39508377,
             "remaining_time": 9.377752295,
             "test": [
              0.0505947994
             ]
            },
            {
             "iteration": 77,
             "learn": [
              0.04931557572
             ],
             "passed_time": 31.88207529,
             "remaining_time": 8.99238021,
             "test": [
              0.04906700717
             ]
            },
            {
             "iteration": 78,
             "learn": [
              0.04780162954
             ],
             "passed_time": 32.26136152,
             "remaining_time": 8.575804961,
             "test": [
              0.04758276444
             ]
            },
            {
             "iteration": 79,
             "learn": [
              0.04636671552
             ],
             "passed_time": 32.6112318,
             "remaining_time": 8.15280795,
             "test": [
              0.04614336851
             ]
            },
            {
             "iteration": 80,
             "learn": [
              0.04508090857
             ],
             "passed_time": 32.90152435,
             "remaining_time": 7.717641515,
             "test": [
              0.04474834186
             ]
            },
            {
             "iteration": 81,
             "learn": [
              0.04352059077
             ],
             "passed_time": 33.23161962,
             "remaining_time": 7.29474577,
             "test": [
              0.04339741052
             ]
            },
            {
             "iteration": 82,
             "learn": [
              0.04236612787
             ],
             "passed_time": 33.54423197,
             "remaining_time": 6.870505344,
             "test": [
              0.04208728437
             ]
            },
            {
             "iteration": 83,
             "learn": [
              0.04111342247
             ],
             "passed_time": 33.94123913,
             "remaining_time": 6.46499793,
             "test": [
              0.04081860941
             ]
            },
            {
             "iteration": 84,
             "learn": [
              0.03976246716
             ],
             "passed_time": 34.39456195,
             "remaining_time": 6.06962858,
             "test": [
              0.039587812
             ]
            },
            {
             "iteration": 85,
             "learn": [
              0.03852554039
             ],
             "passed_time": 34.89107638,
             "remaining_time": 5.679942667,
             "test": [
              0.03839927708
             ]
            },
            {
             "iteration": 86,
             "learn": [
              0.03748610596
             ],
             "passed_time": 35.48226477,
             "remaining_time": 5.301947609,
             "test": [
              0.03724768048
             ]
            },
            {
             "iteration": 87,
             "learn": [
              0.036421738
             ],
             "passed_time": 35.78005187,
             "remaining_time": 4.879097983,
             "test": [
              0.03612716886
             ]
            },
            {
             "iteration": 88,
             "learn": [
              0.0352594019
             ],
             "passed_time": 36.21350339,
             "remaining_time": 4.475826262,
             "test": [
              0.03504711007
             ]
            },
            {
             "iteration": 89,
             "learn": [
              0.03421991594
             ],
             "passed_time": 36.6637443,
             "remaining_time": 4.073749366,
             "test": [
              0.03399961958
             ]
            },
            {
             "iteration": 90,
             "learn": [
              0.03320881041
             ],
             "passed_time": 37.09144841,
             "remaining_time": 3.668385007,
             "test": [
              0.03298408772
             ]
            },
            {
             "iteration": 91,
             "learn": [
              0.03221536213
             ],
             "passed_time": 37.44914457,
             "remaining_time": 3.256447354,
             "test": [
              0.03199776612
             ]
            },
            {
             "iteration": 92,
             "learn": [
              0.03124593646
             ],
             "passed_time": 37.88647743,
             "remaining_time": 2.851670344,
             "test": [
              0.03104292065
             ]
            },
            {
             "iteration": 93,
             "learn": [
              0.03030161036
             ],
             "passed_time": 38.19950267,
             "remaining_time": 2.438266128,
             "test": [
              0.0301124842
             ]
            },
            {
             "iteration": 94,
             "learn": [
              0.02938134798
             ],
             "passed_time": 38.6470097,
             "remaining_time": 2.034053142,
             "test": [
              0.02921045242
             ]
            },
            {
             "iteration": 95,
             "learn": [
              0.02859271787
             ],
             "passed_time": 38.94914299,
             "remaining_time": 1.622880958,
             "test": [
              0.02833525234
             ]
            },
            {
             "iteration": 96,
             "learn": [
              0.02769463854
             ],
             "passed_time": 39.26243075,
             "remaining_time": 1.214301982,
             "test": [
              0.02748738835
             ]
            },
            {
             "iteration": 97,
             "learn": [
              0.02681875581
             ],
             "passed_time": 39.68602827,
             "remaining_time": 0.8099189442,
             "test": [
              0.02667071408
             ]
            },
            {
             "iteration": 98,
             "learn": [
              0.02613590116
             ],
             "passed_time": 40.12503478,
             "remaining_time": 0.4053033816,
             "test": [
              0.02587771176
             ]
            },
            {
             "iteration": 99,
             "learn": [
              0.0252767905
             ],
             "passed_time": 40.41889876,
             "remaining_time": 0,
             "test": [
              0.02510382613
             ]
            }
           ],
           "meta": {
            "iteration_count": 100,
            "launch_mode": "Train",
            "learn_metrics": [
             {
              "best_value": "Min",
              "name": "CrossEntropy"
             }
            ],
            "learn_sets": [
             "learn"
            ],
            "name": "experiment",
            "parameters": "",
            "test_metrics": [
             {
              "best_value": "Min",
              "name": "CrossEntropy"
             }
            ],
            "test_sets": [
             "test"
            ]
           }
          },
          "passed_iterations": 99,
          "total_iterations": 100
         },
         "name": "catboost_info",
         "path": "catboost_info"
        }
       },
       "layout": "IPY_MODEL_7b02a13612ba4eaaba08f0ef45af5069"
      }
     },
     "2e5bdea38b0a4b709785f0b7cc23e31d": {
      "model_module": "catboost-widget",
      "model_module_version": "^1.0.0",
      "model_name": "CatboostWidgetModel",
      "state": {
       "_dom_classes": [],
       "_model_module": "catboost-widget",
       "_model_module_version": "^1.0.0",
       "_model_name": "CatboostWidgetModel",
       "_view_count": null,
       "_view_module": "catboost-widget",
       "_view_module_version": "^1.0.0",
       "_view_name": "CatboostWidgetView",
       "data": {
        "catboost_info": {
         "content": {
          "data": {
           "iterations": [
            {
             "iteration": 0,
             "learn": [
              0.6613811031
             ],
             "passed_time": 0.4147200487,
             "remaining_time": 41.05728482,
             "test": [
              0.6636008091
             ]
            },
            {
             "iteration": 1,
             "learn": [
              0.6362976906
             ],
             "passed_time": 0.8198820843,
             "remaining_time": 40.17422213,
             "test": [
              0.6357741707
             ]
            },
            {
             "iteration": 2,
             "learn": [
              0.6093779442
             ],
             "passed_time": 1.200341589,
             "remaining_time": 38.8110447,
             "test": [
              0.6095218395
             ]
            },
            {
             "iteration": 3,
             "learn": [
              0.583718258
             ],
             "passed_time": 1.596648677,
             "remaining_time": 38.31956824,
             "test": [
              0.5847156849
             ]
            },
            {
             "iteration": 4,
             "learn": [
              0.5621934966
             ],
             "passed_time": 1.98182511,
             "remaining_time": 37.65467709,
             "test": [
              0.5612406666
             ]
            },
            {
             "iteration": 5,
             "learn": [
              0.5376755441
             ],
             "passed_time": 2.459269663,
             "remaining_time": 38.52855805,
             "test": [
              0.5389954987
             ]
            },
            {
             "iteration": 6,
             "learn": [
              0.5168859423
             ],
             "passed_time": 3.050198653,
             "remaining_time": 40.52406782,
             "test": [
              0.5178895324
             ]
            },
            {
             "iteration": 7,
             "learn": [
              0.498688075
             ],
             "passed_time": 3.56409887,
             "remaining_time": 40.98713701,
             "test": [
              0.4978415555
             ]
            },
            {
             "iteration": 8,
             "learn": [
              0.4785296296
             ],
             "passed_time": 4.06029924,
             "remaining_time": 41.05413676,
             "test": [
              0.4787779321
             ]
            },
            {
             "iteration": 9,
             "learn": [
              0.4605856675
             ],
             "passed_time": 4.447821438,
             "remaining_time": 40.03039294,
             "test": [
              0.4606340258
             ]
            },
            {
             "iteration": 10,
             "learn": [
              0.4438489811
             ],
             "passed_time": 4.841210406,
             "remaining_time": 39.16979328,
             "test": [
              0.4433459328
             ]
            },
            {
             "iteration": 11,
             "learn": [
              0.4280573952
             ],
             "passed_time": 5.263946615,
             "remaining_time": 38.60227518,
             "test": [
              0.4268603176
             ]
            },
            {
             "iteration": 12,
             "learn": [
              0.4121314407
             ],
             "passed_time": 5.722796126,
             "remaining_time": 38.29871253,
             "test": [
              0.4111274452
             ]
            },
            {
             "iteration": 13,
             "learn": [
              0.3967830877
             ],
             "passed_time": 6.088356052,
             "remaining_time": 37.39990146,
             "test": [
              0.3961013341
             ]
            },
            {
             "iteration": 14,
             "learn": [
              0.3824000822
             ],
             "passed_time": 6.52275499,
             "remaining_time": 36.96227828,
             "test": [
              0.3817394544
             ]
            },
            {
             "iteration": 15,
             "learn": [
              0.3673395757
             ],
             "passed_time": 6.969241279,
             "remaining_time": 36.58851671,
             "test": [
              0.3680036538
             ]
            },
            {
             "iteration": 16,
             "learn": [
              0.3538837308
             ],
             "passed_time": 7.360652953,
             "remaining_time": 35.9373056,
             "test": [
              0.3548590031
             ]
            },
            {
             "iteration": 17,
             "learn": [
              0.3431817944
             ],
             "passed_time": 7.8384048,
             "remaining_time": 35.70828853,
             "test": [
              0.3422716028
             ]
            },
            {
             "iteration": 18,
             "learn": [
              0.3300941009
             ],
             "passed_time": 8.231251178,
             "remaining_time": 35.09112344,
             "test": [
              0.3302116913
             ]
            },
            {
             "iteration": 19,
             "learn": [
              0.3196814758
             ],
             "passed_time": 8.640096367,
             "remaining_time": 34.56038547,
             "test": [
              0.3186531054
             ]
            },
            {
             "iteration": 20,
             "learn": [
              0.3069801106
             ],
             "passed_time": 9.117793024,
             "remaining_time": 34.30026899,
             "test": [
              0.3075653101
             ]
            },
            {
             "iteration": 21,
             "learn": [
              0.2968901806
             ],
             "passed_time": 9.533174943,
             "remaining_time": 33.79943844,
             "test": [
              0.2969246521
             ]
            },
            {
             "iteration": 22,
             "learn": [
              0.2867769943
             ],
             "passed_time": 9.985879684,
             "remaining_time": 33.43098851,
             "test": [
              0.2867103572
             ]
            },
            {
             "iteration": 23,
             "learn": [
              0.2765132397
             ],
             "passed_time": 10.41050588,
             "remaining_time": 32.96660197,
             "test": [
              0.2768992299
             ]
            },
            {
             "iteration": 24,
             "learn": [
              0.266456985
             ],
             "passed_time": 10.77540176,
             "remaining_time": 32.32620529,
             "test": [
              0.2674719415
             ]
            },
            {
             "iteration": 25,
             "learn": [
              0.2579890808
             ],
             "passed_time": 11.14224312,
             "remaining_time": 31.71253812,
             "test": [
              0.2584102323
             ]
            },
            {
             "iteration": 26,
             "learn": [
              0.2499733777
             ],
             "passed_time": 11.59079286,
             "remaining_time": 31.33806958,
             "test": [
              0.2496973279
             ]
            },
            {
             "iteration": 27,
             "learn": [
              0.241983068
             ],
             "passed_time": 11.95753073,
             "remaining_time": 30.74793616,
             "test": [
              0.2413162139
             ]
            },
            {
             "iteration": 28,
             "learn": [
              0.2336886173
             ],
             "passed_time": 12.33351615,
             "remaining_time": 30.1958499,
             "test": [
              0.2332515061
             ]
            },
            {
             "iteration": 29,
             "learn": [
              0.2258559294
             ],
             "passed_time": 12.75430297,
             "remaining_time": 29.76004025,
             "test": [
              0.2254887614
             ]
            },
            {
             "iteration": 30,
             "learn": [
              0.2185348499
             ],
             "passed_time": 13.19359861,
             "remaining_time": 29.3663969,
             "test": [
              0.2180155676
             ]
            },
            {
             "iteration": 31,
             "learn": [
              0.2109421557
             ],
             "passed_time": 13.67676063,
             "remaining_time": 29.06311634,
             "test": [
              0.2108186812
             ]
            },
            {
             "iteration": 32,
             "learn": [
              0.2033621517
             ],
             "passed_time": 14.11531635,
             "remaining_time": 28.65836957,
             "test": [
              0.2038842279
             ]
            },
            {
             "iteration": 33,
             "learn": [
              0.1964503812
             ],
             "passed_time": 14.5314597,
             "remaining_time": 28.20812765,
             "test": [
              0.1972016635
             ]
            },
            {
             "iteration": 34,
             "learn": [
              0.1911864342
             ],
             "passed_time": 14.97032094,
             "remaining_time": 27.8020246,
             "test": [
              0.1907603163
             ]
            },
            {
             "iteration": 35,
             "learn": [
              0.1839103597
             ],
             "passed_time": 15.36335065,
             "remaining_time": 27.31262337,
             "test": [
              0.1845509523
             ]
            },
            {
             "iteration": 36,
             "learn": [
              0.1787744157
             ],
             "passed_time": 15.76883708,
             "remaining_time": 26.84964152,
             "test": [
              0.1785622281
             ]
            },
            {
             "iteration": 37,
             "learn": [
              0.1721991407
             ],
             "passed_time": 16.16682294,
             "remaining_time": 26.37744795,
             "test": [
              0.1727860615
             ]
            },
            {
             "iteration": 38,
             "learn": [
              0.1676819691
             ],
             "passed_time": 16.66546076,
             "remaining_time": 26.06648991,
             "test": [
              0.1672134643
             ]
            },
            {
             "iteration": 39,
             "learn": [
              0.1614379312
             ],
             "passed_time": 17.0329809,
             "remaining_time": 25.54947135,
             "test": [
              0.1618352804
             ]
            },
            {
             "iteration": 40,
             "learn": [
              0.1563406365
             ],
             "passed_time": 17.46136689,
             "remaining_time": 25.12733284,
             "test": [
              0.1566448616
             ]
            },
            {
             "iteration": 41,
             "learn": [
              0.1520316059
             ],
             "passed_time": 17.96058301,
             "remaining_time": 24.80270988,
             "test": [
              0.1516347448
             ]
            },
            {
             "iteration": 42,
             "learn": [
              0.147021156
             ],
             "passed_time": 18.28296268,
             "remaining_time": 24.23555519,
             "test": [
              0.1467975475
             ]
            },
            {
             "iteration": 43,
             "learn": [
              0.1418792673
             ],
             "passed_time": 18.68991378,
             "remaining_time": 23.787163,
             "test": [
              0.1421256725
             ]
            },
            {
             "iteration": 44,
             "learn": [
              0.1371209254
             ],
             "passed_time": 19.13254702,
             "remaining_time": 23.38422413,
             "test": [
              0.137613513
             ]
            },
            {
             "iteration": 45,
             "learn": [
              0.132922168
             ],
             "passed_time": 19.54084262,
             "remaining_time": 22.93925003,
             "test": [
              0.1332548905
             ]
            },
            {
             "iteration": 46,
             "learn": [
              0.1289331543
             ],
             "passed_time": 19.99085649,
             "remaining_time": 22.54288072,
             "test": [
              0.1290438246
             ]
            },
            {
             "iteration": 47,
             "learn": [
              0.1250077346
             ],
             "passed_time": 20.38618015,
             "remaining_time": 22.0850285,
             "test": [
              0.124973957
             ]
            },
            {
             "iteration": 48,
             "learn": [
              0.1210983696
             ],
             "passed_time": 20.82918588,
             "remaining_time": 21.67935673,
             "test": [
              0.1210419522
             ]
            },
            {
             "iteration": 49,
             "learn": [
              0.1172110165
             ],
             "passed_time": 21.2707266,
             "remaining_time": 21.2707266,
             "test": [
              0.117240499
             ]
            },
            {
             "iteration": 50,
             "learn": [
              0.1133379734
             ],
             "passed_time": 21.63512151,
             "remaining_time": 20.78668537,
             "test": [
              0.1135650663
             ]
            },
            {
             "iteration": 51,
             "learn": [
              0.1097721263
             ],
             "passed_time": 22.06901639,
             "remaining_time": 20.37139974,
             "test": [
              0.1100116378
             ]
            },
            {
             "iteration": 52,
             "learn": [
              0.1069438019
             ],
             "passed_time": 22.44152285,
             "remaining_time": 19.90097309,
             "test": [
              0.1065757374
             ]
            },
            {
             "iteration": 53,
             "learn": [
              0.1034252808
             ],
             "passed_time": 22.82005004,
             "remaining_time": 19.43930189,
             "test": [
              0.1032529472
             ]
            },
            {
             "iteration": 54,
             "learn": [
              0.09974938583
             ],
             "passed_time": 23.27535581,
             "remaining_time": 19.04347294,
             "test": [
              0.1000393458
             ]
            },
            {
             "iteration": 55,
             "learn": [
              0.09715768185
             ],
             "passed_time": 23.67987017,
             "remaining_time": 18.60561227,
             "test": [
              0.09693056959
             ]
            },
            {
             "iteration": 56,
             "learn": [
              0.09378647432
             ],
             "passed_time": 24.17256859,
             "remaining_time": 18.23544648,
             "test": [
              0.0939245605
             ]
            },
            {
             "iteration": 57,
             "learn": [
              0.09124396759
             ],
             "passed_time": 24.60654387,
             "remaining_time": 17.81853177,
             "test": [
              0.09101516129
             ]
            },
            {
             "iteration": 58,
             "learn": [
              0.08796122112
             ],
             "passed_time": 24.98983585,
             "remaining_time": 17.36581813,
             "test": [
              0.08819987152
             ]
            },
            {
             "iteration": 59,
             "learn": [
              0.08549098295
             ],
             "passed_time": 25.36362349,
             "remaining_time": 16.90908233,
             "test": [
              0.0854756175
             ]
            },
            {
             "iteration": 60,
             "learn": [
              0.08259451888
             ],
             "passed_time": 25.81096842,
             "remaining_time": 16.50209457,
             "test": [
              0.08283948681
             ]
            },
            {
             "iteration": 61,
             "learn": [
              0.08012405432
             ],
             "passed_time": 26.23651838,
             "remaining_time": 16.08044675,
             "test": [
              0.08028781802
             ]
            },
            {
             "iteration": 62,
             "learn": [
              0.07799394778
             ],
             "passed_time": 26.6605212,
             "remaining_time": 15.65776642,
             "test": [
              0.07781807965
             ]
            },
            {
             "iteration": 63,
             "learn": [
              0.07551151166
             ],
             "passed_time": 27.06931996,
             "remaining_time": 15.22649248,
             "test": [
              0.07542733247
             ]
            },
            {
             "iteration": 64,
             "learn": [
              0.07297497637
             ],
             "passed_time": 27.47330878,
             "remaining_time": 14.79332011,
             "test": [
              0.07311422562
             ]
            },
            {
             "iteration": 65,
             "learn": [
              0.07057985778
             ],
             "passed_time": 27.92790949,
             "remaining_time": 14.38710489,
             "test": [
              0.07087357544
             ]
            },
            {
             "iteration": 66,
             "learn": [
              0.06846793879
             ],
             "passed_time": 28.35349387,
             "remaining_time": 13.9651537,
             "test": [
              0.06870373947
             ]
            },
            {
             "iteration": 67,
             "learn": [
              0.06645595964
             ],
             "passed_time": 28.81669248,
             "remaining_time": 13.56079646,
             "test": [
              0.06660282955
             ]
            },
            {
             "iteration": 68,
             "learn": [
              0.0644888287
             ],
             "passed_time": 29.17360974,
             "remaining_time": 13.10698408,
             "test": [
              0.06456844194
             ]
            },
            {
             "iteration": 69,
             "learn": [
              0.06253488221
             ],
             "passed_time": 29.59237678,
             "remaining_time": 12.68244719,
             "test": [
              0.06259812276
             ]
            },
            {
             "iteration": 70,
             "learn": [
              0.06058784427
             ],
             "passed_time": 29.97067474,
             "remaining_time": 12.2415432,
             "test": [
              0.0606897093
             ]
            },
            {
             "iteration": 71,
             "learn": [
              0.05867635075
             ],
             "passed_time": 30.32722497,
             "remaining_time": 11.79392082,
             "test": [
              0.05884147045
             ]
            },
            {
             "iteration": 72,
             "learn": [
              0.05687121753
             ],
             "passed_time": 30.7111664,
             "remaining_time": 11.35892456,
             "test": [
              0.05705136481
             ]
            },
            {
             "iteration": 73,
             "learn": [
              0.05545622072
             ],
             "passed_time": 31.11086266,
             "remaining_time": 10.93084364,
             "test": [
              0.05531710579
             ]
            },
            {
             "iteration": 74,
             "learn": [
              0.05369902036
             ],
             "passed_time": 31.55856712,
             "remaining_time": 10.51952237,
             "test": [
              0.05363811606
             ]
            },
            {
             "iteration": 75,
             "learn": [
              0.05184959712
             ],
             "passed_time": 32.00844977,
             "remaining_time": 10.10793151,
             "test": [
              0.05201079449
             ]
            },
            {
             "iteration": 76,
             "learn": [
              0.05055710319
             ],
             "passed_time": 32.42618913,
             "remaining_time": 9.685744805,
             "test": [
              0.0504343918
             ]
            },
            {
             "iteration": 77,
             "learn": [
              0.04886506658
             ],
             "passed_time": 32.9250229,
             "remaining_time": 9.286544921,
             "test": [
              0.04890661518
             ]
            },
            {
             "iteration": 78,
             "learn": [
              0.04728944155
             ],
             "passed_time": 33.33481574,
             "remaining_time": 8.861153552,
             "test": [
              0.04742651281
             ]
            },
            {
             "iteration": 79,
             "learn": [
              0.04593772107
             ],
             "passed_time": 33.7357103,
             "remaining_time": 8.433927576,
             "test": [
              0.04599196464
             ]
            },
            {
             "iteration": 80,
             "learn": [
              0.04467504463
             ],
             "passed_time": 34.23278403,
             "remaining_time": 8.029912304,
             "test": [
              0.044601878
             ]
            },
            {
             "iteration": 81,
             "learn": [
              0.04309131703
             ],
             "passed_time": 34.75033706,
             "remaining_time": 7.62812277,
             "test": [
              0.04325475384
             ]
            },
            {
             "iteration": 82,
             "learn": [
              0.04198245714
             ],
             "passed_time": 35.26342699,
             "remaining_time": 7.222629625,
             "test": [
              0.04194922074
             ]
            },
            {
             "iteration": 83,
             "learn": [
              0.0407415511
             ],
             "passed_time": 35.67300665,
             "remaining_time": 6.794858409,
             "test": [
              0.04068378995
             ]
            },
            {
             "iteration": 84,
             "learn": [
              0.03937734657
             ],
             "passed_time": 36.03277198,
             "remaining_time": 6.358724466,
             "test": [
              0.03945768897
             ]
            },
            {
             "iteration": 85,
             "learn": [
              0.03815592802
             ],
             "passed_time": 36.42148024,
             "remaining_time": 5.929078179,
             "test": [
              0.03826881595
             ]
            },
            {
             "iteration": 86,
             "learn": [
              0.0371349344
             ],
             "passed_time": 36.89974857,
             "remaining_time": 5.513755533,
             "test": [
              0.03711692593
             ]
            },
            {
             "iteration": 87,
             "learn": [
              0.0360847891
             ],
             "passed_time": 37.24628314,
             "remaining_time": 5.07903861,
             "test": [
              0.03600023804
             ]
            },
            {
             "iteration": 88,
             "learn": [
              0.03490425122
             ],
             "passed_time": 37.68176897,
             "remaining_time": 4.657297289,
             "test": [
              0.03491811633
             ]
            },
            {
             "iteration": 89,
             "learn": [
              0.03385646608
             ],
             "passed_time": 38.08323046,
             "remaining_time": 4.231470051,
             "test": [
              0.03386925979
             ]
            },
            {
             "iteration": 90,
             "learn": [
              0.03284872933
             ],
             "passed_time": 38.53109568,
             "remaining_time": 3.810767705,
             "test": [
              0.03285227043
             ]
            },
            {
             "iteration": 91,
             "learn": [
              0.0318585044
             ],
             "passed_time": 38.91530796,
             "remaining_time": 3.383939823,
             "test": [
              0.03186588027
             ]
            },
            {
             "iteration": 92,
             "learn": [
              0.03088240608
             ],
             "passed_time": 39.35145399,
             "remaining_time": 2.961937397,
             "test": [
              0.03091071442
             ]
            },
            {
             "iteration": 93,
             "learn": [
              0.02994049917
             ],
             "passed_time": 39.78932949,
             "remaining_time": 2.539744436,
             "test": [
              0.02998401365
             ]
            },
            {
             "iteration": 94,
             "learn": [
              0.02902458721
             ],
             "passed_time": 40.2509978,
             "remaining_time": 2.118473569,
             "test": [
              0.0290854051
             ]
            },
            {
             "iteration": 95,
             "learn": [
              0.02826614142
             ],
             "passed_time": 40.73070003,
             "remaining_time": 1.697112501,
             "test": [
              0.02821457407
             ]
            },
            {
             "iteration": 96,
             "learn": [
              0.02738222602
             ],
             "passed_time": 41.20694405,
             "remaining_time": 1.274441568,
             "test": [
              0.02736996191
             ]
            },
            {
             "iteration": 97,
             "learn": [
              0.02647080222
             ],
             "passed_time": 41.63999997,
             "remaining_time": 0.8497959178,
             "test": [
              0.02655102103
             ]
            },
            {
             "iteration": 98,
             "learn": [
              0.02580677611
             ],
             "passed_time": 42.07039093,
             "remaining_time": 0.4249534437,
             "test": [
              0.02575708701
             ]
            },
            {
             "iteration": 99,
             "learn": [
              0.02495310267
             ],
             "passed_time": 42.43926198,
             "remaining_time": 0,
             "test": [
              0.02498674537
             ]
            }
           ],
           "meta": {
            "iteration_count": 100,
            "launch_mode": "Train",
            "learn_metrics": [
             {
              "best_value": "Min",
              "name": "CrossEntropy"
             }
            ],
            "learn_sets": [
             "learn"
            ],
            "name": "experiment",
            "parameters": "",
            "test_metrics": [
             {
              "best_value": "Min",
              "name": "CrossEntropy"
             }
            ],
            "test_sets": [
             "test"
            ]
           }
          },
          "passed_iterations": 99,
          "total_iterations": 100
         },
         "name": "catboost_info",
         "path": "catboost_info"
        }
       },
       "layout": "IPY_MODEL_a635b150dab441f3b295a2f8efdbe28a"
      }
     },
     "3c518ece962e4fbba8845977270e01bc": {
      "model_module": "catboost-widget",
      "model_module_version": "^1.0.0",
      "model_name": "CatboostWidgetModel",
      "state": {
       "_dom_classes": [],
       "_model_module": "catboost-widget",
       "_model_module_version": "^1.0.0",
       "_model_name": "CatboostWidgetModel",
       "_view_count": null,
       "_view_module": "catboost-widget",
       "_view_module_version": "^1.0.0",
       "_view_name": "CatboostWidgetView",
       "data": {
        "catboost_info": {
         "content": {
          "data": {
           "iterations": [
            {
             "iteration": 0,
             "learn": [
              0.6613809585
             ],
             "passed_time": 0.4184216391,
             "remaining_time": 41.42374227,
             "test": [
              0.663601102
             ]
            },
            {
             "iteration": 1,
             "learn": [
              0.6362965077
             ],
             "passed_time": 0.8203465909,
             "remaining_time": 40.19698295,
             "test": [
              0.6357737403
             ]
            },
            {
             "iteration": 2,
             "learn": [
              0.6093777996
             ],
             "passed_time": 1.20357498,
             "remaining_time": 38.91559101,
             "test": [
              0.6095216429
             ]
            },
            {
             "iteration": 3,
             "learn": [
              0.5837180215
             ],
             "passed_time": 1.603079726,
             "remaining_time": 38.47391342,
             "test": [
              0.584714755
             ]
            },
            {
             "iteration": 4,
             "learn": [
              0.5621932732
             ],
             "passed_time": 1.987590722,
             "remaining_time": 37.76422373,
             "test": [
              0.5612396078
             ]
            },
            {
             "iteration": 5,
             "learn": [
              0.5376743349
             ],
             "passed_time": 2.389195706,
             "remaining_time": 37.43073273,
             "test": [
              0.5389951279
             ]
            },
            {
             "iteration": 6,
             "learn": [
              0.5168843388
             ],
             "passed_time": 2.792661368,
             "remaining_time": 37.10250103,
             "test": [
              0.5178889706
             ]
            },
            {
             "iteration": 7,
             "learn": [
              0.4986887191
             ],
             "passed_time": 3.155187129,
             "remaining_time": 36.28465198,
             "test": [
              0.4978419876
             ]
            },
            {
             "iteration": 8,
             "learn": [
              0.4785291039
             ],
             "passed_time": 3.615776891,
             "remaining_time": 36.55952189,
             "test": [
              0.4787786531
             ]
            },
            {
             "iteration": 9,
             "learn": [
              0.4605850629
             ],
             "passed_time": 3.999910233,
             "remaining_time": 35.99919209,
             "test": [
              0.4606332563
             ]
            },
            {
             "iteration": 10,
             "learn": [
              0.4438483765
             ],
             "passed_time": 4.394734882,
             "remaining_time": 35.55740041,
             "test": [
              0.4433452308
             ]
            },
            {
             "iteration": 11,
             "learn": [
              0.4280567907
             ],
             "passed_time": 4.816725749,
             "remaining_time": 35.32265549,
             "test": [
              0.4268596223
             ]
            },
            {
             "iteration": 12,
             "learn": [
              0.4121293246
             ],
             "passed_time": 5.275409746,
             "remaining_time": 35.30466522,
             "test": [
              0.4111271679
             ]
            },
            {
             "iteration": 13,
             "learn": [
              0.3967825752
             ],
             "passed_time": 5.644060831,
             "remaining_time": 34.67065939,
             "test": [
              0.3961009738
             ]
            },
            {
             "iteration": 14,
             "learn": [
              0.3824022246
             ],
             "passed_time": 6.086736619,
             "remaining_time": 34.49150751,
             "test": [
              0.3817389405
             ]
            },
            {
             "iteration": 15,
             "learn": [
              0.3673396677
             ],
             "passed_time": 6.536667777,
             "remaining_time": 34.31750583,
             "test": [
              0.3680032984
             ]
            },
            {
             "iteration": 16,
             "learn": [
              0.3538825348
             ],
             "passed_time": 6.933552809,
             "remaining_time": 33.85205195,
             "test": [
              0.3548584828
             ]
            },
            {
             "iteration": 17,
             "learn": [
              0.3431763925
             ],
             "passed_time": 7.371069495,
             "remaining_time": 33.57931659,
             "test": [
              0.342271057
             ]
            },
            {
             "iteration": 18,
             "learn": [
              0.330092826
             ],
             "passed_time": 7.76212572,
             "remaining_time": 33.09116754,
             "test": [
              0.3302115974
             ]
            },
            {
             "iteration": 19,
             "learn": [
              0.3196805624
             ],
             "passed_time": 8.168338013,
             "remaining_time": 32.67335205,
             "test": [
              0.3186503867
             ]
            },
            {
             "iteration": 20,
             "learn": [
              0.3069827196
             ],
             "passed_time": 8.642906236,
             "remaining_time": 32.51379013,
             "test": [
              0.3075628008
             ]
            },
            {
             "iteration": 21,
             "learn": [
              0.2968890371
             ],
             "passed_time": 9.055948352,
             "remaining_time": 32.10745325,
             "test": [
              0.2969222504
             ]
            },
            {
             "iteration": 22,
             "learn": [
              0.2867756143
             ],
             "passed_time": 9.511501715,
             "remaining_time": 31.84285357,
             "test": [
              0.2867071544
             ]
            },
            {
             "iteration": 23,
             "learn": [
              0.2765132003
             ],
             "passed_time": 9.98382897,
             "remaining_time": 31.6154584,
             "test": [
              0.2768972217
             ]
            },
            {
             "iteration": 24,
             "learn": [
              0.266452214
             ],
             "passed_time": 10.35035183,
             "remaining_time": 31.05105548,
             "test": [
              0.267470198
             ]
            },
            {
             "iteration": 25,
             "learn": [
              0.2579878059
             ],
             "passed_time": 10.71705533,
             "remaining_time": 30.50238824,
             "test": [
              0.2584084434
             ]
            },
            {
             "iteration": 26,
             "learn": [
              0.2499719188
             ],
             "passed_time": 11.16058328,
             "remaining_time": 30.17491035,
             "test": [
              0.2496955873
             ]
            },
            {
             "iteration": 27,
             "learn": [
              0.2419817472
             ],
             "passed_time": 11.5276592,
             "remaining_time": 29.64255223,
             "test": [
              0.2413145118
             ]
            },
            {
             "iteration": 28,
             "learn": [
              0.2336872439
             ],
             "passed_time": 11.9031256,
             "remaining_time": 29.14213509,
             "test": [
              0.2332498838
             ]
            },
            {
             "iteration": 29,
             "learn": [
              0.2258539185
             ],
             "passed_time": 12.32499415,
             "remaining_time": 28.75831967,
             "test": [
              0.2254873665
             ]
            },
            {
             "iteration": 30,
             "learn": [
              0.2185335455
             ],
             "passed_time": 12.76462435,
             "remaining_time": 28.41158323,
             "test": [
              0.2180137772
             ]
            },
            {
             "iteration": 31,
             "learn": [
              0.2109406837
             ],
             "passed_time": 13.2433921,
             "remaining_time": 28.14220821,
             "test": [
              0.2108164368
             ]
            },
            {
             "iteration": 32,
             "learn": [
              0.2033598714
             ],
             "passed_time": 13.68750836,
             "remaining_time": 27.78978971,
             "test": [
              0.2038817374
             ]
            },
            {
             "iteration": 33,
             "learn": [
              0.1964389729
             ],
             "passed_time": 14.1046879,
             "remaining_time": 27.37968827,
             "test": [
              0.1971992304
             ]
            },
            {
             "iteration": 34,
             "learn": [
              0.1911890432
             ],
             "passed_time": 14.54238382,
             "remaining_time": 27.00728423,
             "test": [
              0.1907580348
             ]
            },
            {
             "iteration": 35,
             "learn": [
              0.1839078789
             ],
             "passed_time": 14.93524314,
             "remaining_time": 26.55154335,
             "test": [
              0.184547994
             ]
            },
            {
             "iteration": 36,
             "learn": [
              0.1787754902
             ],
             "passed_time": 15.33871054,
             "remaining_time": 26.11726389,
             "test": [
              0.1785591662
             ]
            },
            {
             "iteration": 37,
             "learn": [
              0.1721975602
             ],
             "passed_time": 15.73777603,
             "remaining_time": 25.67742406,
             "test": [
              0.1727826931
             ]
            },
            {
             "iteration": 38,
             "learn": [
              0.1676808388
             ],
             "passed_time": 16.23745964,
             "remaining_time": 25.39705226,
             "test": [
              0.1672098412
             ]
            },
            {
             "iteration": 39,
             "learn": [
              0.1614366497
             ],
             "passed_time": 16.60872248,
             "remaining_time": 24.91308372,
             "test": [
              0.1618317931
             ]
            },
            {
             "iteration": 40,
             "learn": [
              0.1563395522
             ],
             "passed_time": 17.03004196,
             "remaining_time": 24.50664575,
             "test": [
              0.1566412717
             ]
            },
            {
             "iteration": 41,
             "learn": [
              0.152028468
             ],
             "passed_time": 17.53353895,
             "remaining_time": 24.21298236,
             "test": [
              0.1516313178
             ]
            },
            {
             "iteration": 42,
             "learn": [
              0.1470158528
             ],
             "passed_time": 17.85328532,
             "remaining_time": 23.66598287,
             "test": [
              0.1467933393
             ]
            },
            {
             "iteration": 43,
             "learn": [
              0.1418812881
             ],
             "passed_time": 18.25499452,
             "remaining_time": 23.23362939,
             "test": [
              0.1421218583
             ]
            },
            {
             "iteration": 44,
             "learn": [
              0.1371181457
             ],
             "passed_time": 18.64655057,
             "remaining_time": 22.79022847,
             "test": [
              0.1376099268
             ]
            },
            {
             "iteration": 45,
             "learn": [
              0.1329204397
             ],
             "passed_time": 19.04182596,
             "remaining_time": 22.35344787,
             "test": [
              0.1332513092
             ]
            },
            {
             "iteration": 46,
             "learn": [
              0.1289312092
             ],
             "passed_time": 19.49023539,
             "remaining_time": 21.97835054,
             "test": [
              0.1290405596
             ]
            },
            {
             "iteration": 47,
             "learn": [
              0.12500575
             ],
             "passed_time": 19.8856176,
             "remaining_time": 21.5427524,
             "test": [
              0.1249715239
             ]
            },
            {
             "iteration": 48,
             "learn": [
              0.1210961057
             ],
             "passed_time": 20.32629051,
             "remaining_time": 21.15593502,
             "test": [
              0.121038634
             ]
            },
            {
             "iteration": 49,
             "learn": [
              0.117209344
             ],
             "passed_time": 20.76811141,
             "remaining_time": 20.76811141,
             "test": [
              0.1172379821
             ]
            },
            {
             "iteration": 50,
             "learn": [
              0.1133360348
             ],
             "passed_time": 21.16228316,
             "remaining_time": 20.3323897,
             "test": [
              0.1135626262
             ]
            },
            {
             "iteration": 51,
             "learn": [
              0.1097697408
             ],
             "passed_time": 21.59548798,
             "remaining_time": 19.93429659,
             "test": [
              0.1100093099
             ]
            },
            {
             "iteration": 52,
             "learn": [
              0.1069422855
             ],
             "passed_time": 21.9639141,
             "remaining_time": 19.47743325,
             "test": [
              0.106573838
             ]
            },
            {
             "iteration": 53,
             "learn": [
              0.1034228066
             ],
             "passed_time": 22.34041004,
             "remaining_time": 19.03071967,
             "test": [
              0.1032510603
             ]
            },
            {
             "iteration": 54,
             "learn": [
              0.09974576984
             ],
             "passed_time": 22.79419271,
             "remaining_time": 18.64979404,
             "test": [
              0.1000374975
             ]
            },
            {
             "iteration": 55,
             "learn": [
              0.09715530461
             ],
             "passed_time": 23.19314648,
             "remaining_time": 18.22318652,
             "test": [
              0.09692873443
             ]
            },
            {
             "iteration": 56,
             "learn": [
              0.09378326412
             ],
             "passed_time": 23.6859675,
             "remaining_time": 17.86836145,
             "test": [
              0.09392216085
             ]
            },
            {
             "iteration": 57,
             "learn": [
              0.09124061939
             ],
             "passed_time": 24.11904877,
             "remaining_time": 17.46551808,
             "test": [
              0.0910126721
             ]
            },
            {
             "iteration": 58,
             "learn": [
              0.0879609698
             ],
             "passed_time": 24.50791248,
             "remaining_time": 17.03092223,
             "test": [
              0.08819739644
             ]
            },
            {
             "iteration": 59,
             "learn": [
              0.08549045234
             ],
             "passed_time": 24.87972345,
             "remaining_time": 16.5864823,
             "test": [
              0.08547316795
             ]
            },
            {
             "iteration": 60,
             "learn": [
              0.0825953946
             ],
             "passed_time": 25.32107908,
             "remaining_time": 16.18888662,
             "test": [
              0.08283697405
             ]
            },
            {
             "iteration": 61,
             "learn": [
              0.08011964809
             ],
             "passed_time": 25.75450542,
             "remaining_time": 15.78501945,
             "test": [
              0.08028545617
             ]
            },
            {
             "iteration": 62,
             "learn": [
              0.07798939861
             ],
             "passed_time": 26.17538966,
             "remaining_time": 15.37284789,
             "test": [
              0.07781572636
             ]
            },
            {
             "iteration": 63,
             "learn": [
              0.07551140984
             ],
             "passed_time": 26.58236111,
             "remaining_time": 14.95257813,
             "test": [
              0.07542511669
             ]
            },
            {
             "iteration": 64,
             "learn": [
              0.07296949239
             ],
             "passed_time": 26.97870785,
             "remaining_time": 14.52699654,
             "test": [
              0.07311072746
             ]
            },
            {
             "iteration": 65,
             "learn": [
              0.07056805846
             ],
             "passed_time": 27.43019207,
             "remaining_time": 14.13070501,
             "test": [
              0.07087033843
             ]
            },
            {
             "iteration": 66,
             "learn": [
              0.06846322697
             ],
             "passed_time": 27.85311587,
             "remaining_time": 13.71869886,
             "test": [
              0.06870091909
             ]
            },
            {
             "iteration": 67,
             "learn": [
              0.06645247178
             ],
             "passed_time": 28.30425274,
             "remaining_time": 13.31964835,
             "test": [
              0.06660001168
             ]
            },
            {
             "iteration": 68,
             "learn": [
              0.06448596022
             ],
             "passed_time": 28.83224002,
             "remaining_time": 12.95361508,
             "test": [
              0.0645655924
             ]
            },
            {
             "iteration": 69,
             "learn": [
              0.06253234727
             ],
             "passed_time": 29.41412368,
             "remaining_time": 12.606053,
             "test": [
              0.06259521635
             ]
            },
            {
             "iteration": 70,
             "learn": [
              0.06058480332
             ],
             "passed_time": 29.82318212,
             "remaining_time": 12.18129974,
             "test": [
              0.06068684721
             ]
            },
            {
             "iteration": 71,
             "learn": [
              0.05867318821
             ],
             "passed_time": 30.17865816,
             "remaining_time": 11.73614484,
             "test": [
              0.05883874659
             ]
            },
            {
             "iteration": 72,
             "learn": [
              0.0568643223
             ],
             "passed_time": 30.56203942,
             "remaining_time": 11.303768,
             "test": [
              0.05704873076
             ]
            },
            {
             "iteration": 73,
             "learn": [
              0.05545341306
             ],
             "passed_time": 30.96314227,
             "remaining_time": 10.87894188,
             "test": [
              0.05531452082
             ]
            },
            {
             "iteration": 74,
             "learn": [
              0.05369631126
             ],
             "passed_time": 31.4087188,
             "remaining_time": 10.46957293,
             "test": [
              0.05363469064
             ]
            },
            {
             "iteration": 75,
             "learn": [
              0.05184604768
             ],
             "passed_time": 31.90110351,
             "remaining_time": 10.07403269,
             "test": [
              0.05200740437
             ]
            },
            {
             "iteration": 76,
             "learn": [
              0.05055466435
             ],
             "passed_time": 32.3159015,
             "remaining_time": 9.652801748,
             "test": [
              0.05043050378
             ]
            },
            {
             "iteration": 77,
             "learn": [
              0.0488624503
             ],
             "passed_time": 32.81731065,
             "remaining_time": 9.256164541,
             "test": [
              0.04890277009
             ]
            },
            {
             "iteration": 78,
             "learn": [
              0.04726567941
             ],
             "passed_time": 33.22562466,
             "remaining_time": 8.832128074,
             "test": [
              0.0474224881
             ]
            },
            {
             "iteration": 79,
             "learn": [
              0.04593484933
             ],
             "passed_time": 33.62018718,
             "remaining_time": 8.405046796,
             "test": [
              0.0459880436
             ]
            },
            {
             "iteration": 80,
             "learn": [
              0.04467377471
             ],
             "passed_time": 34.0152547,
             "remaining_time": 7.978886906,
             "test": [
              0.04459779828
             ]
            },
            {
             "iteration": 81,
             "learn": [
              0.04309000522
             ],
             "passed_time": 34.37943261,
             "remaining_time": 7.54670472,
             "test": [
              0.04325134754
             ]
            },
            {
             "iteration": 82,
             "learn": [
              0.04197837949
             ],
             "passed_time": 34.74504737,
             "remaining_time": 7.116455486,
             "test": [
              0.04194589971
             ]
            },
            {
             "iteration": 83,
             "learn": [
              0.04073964784
             ],
             "passed_time": 35.10795378,
             "remaining_time": 6.687229292,
             "test": [
              0.04068052591
             ]
            },
            {
             "iteration": 84,
             "learn": [
              0.03937365172
             ],
             "passed_time": 35.4710466,
             "remaining_time": 6.259596458,
             "test": [
              0.03945431748
             ]
            },
            {
             "iteration": 85,
             "learn": [
              0.03815139611
             ],
             "passed_time": 35.85946374,
             "remaining_time": 5.837587121,
             "test": [
              0.03826551882
             ]
            },
            {
             "iteration": 86,
             "learn": [
              0.03713212836
             ],
             "passed_time": 36.33440812,
             "remaining_time": 5.429279374,
             "test": [
              0.03711383742
             ]
            },
            {
             "iteration": 87,
             "learn": [
              0.03608193952
             ],
             "passed_time": 36.68419522,
             "remaining_time": 5.002390258,
             "test": [
              0.03599738757
             ]
            },
            {
             "iteration": 88,
             "learn": [
              0.03489497294
             ],
             "passed_time": 37.11280542,
             "remaining_time": 4.586975951,
             "test": [
              0.03491610824
             ]
            },
            {
             "iteration": 89,
             "learn": [
              0.03384989038
             ],
             "passed_time": 37.51972336,
             "remaining_time": 4.168858151,
             "test": [
              0.03386671922
             ]
            },
            {
             "iteration": 90,
             "learn": [
              0.03284689917
             ],
             "passed_time": 37.96560845,
             "remaining_time": 3.754840396,
             "test": [
              0.03284988147
             ]
            },
            {
             "iteration": 91,
             "learn": [
              0.0318560105
             ],
             "passed_time": 38.34044456,
             "remaining_time": 3.333951701,
             "test": [
              0.03186376056
             ]
            },
            {
             "iteration": 92,
             "learn": [
              0.03087704367
             ],
             "passed_time": 38.77453857,
             "remaining_time": 2.918513656,
             "test": [
              0.03090804971
             ]
            },
            {
             "iteration": 93,
             "learn": [
              0.02992973488
             ],
             "passed_time": 39.19228548,
             "remaining_time": 2.501635243,
             "test": [
              0.02998108649
             ]
            },
            {
             "iteration": 94,
             "learn": [
              0.0290077261
             ],
             "passed_time": 39.66186902,
             "remaining_time": 2.087466791,
             "test": [
              0.02908246508
             ]
            },
            {
             "iteration": 95,
             "learn": [
              0.02826262893
             ],
             "passed_time": 40.1182251,
             "remaining_time": 1.671592712,
             "test": [
              0.02821149861
             ]
            },
            {
             "iteration": 96,
             "learn": [
              0.02737784073
             ],
             "passed_time": 40.5742811,
             "remaining_time": 1.254874673,
             "test": [
              0.02736674433
             ]
            },
            {
             "iteration": 97,
             "learn": [
              0.02645623954
             ],
             "passed_time": 40.99641144,
             "remaining_time": 0.836661458,
             "test": [
              0.02654784683
             ]
            },
            {
             "iteration": 98,
             "learn": [
              0.02580247298
             ],
             "passed_time": 41.42631679,
             "remaining_time": 0.4184476443,
             "test": [
              0.02575382599
             ]
            },
            {
             "iteration": 99,
             "learn": [
              0.0249483161
             ],
             "passed_time": 41.80115274,
             "remaining_time": 0,
             "test": [
              0.0249834902
             ]
            }
           ],
           "meta": {
            "iteration_count": 100,
            "launch_mode": "Train",
            "learn_metrics": [
             {
              "best_value": "Min",
              "name": "CrossEntropy"
             }
            ],
            "learn_sets": [
             "learn"
            ],
            "name": "experiment",
            "parameters": "",
            "test_metrics": [
             {
              "best_value": "Min",
              "name": "CrossEntropy"
             }
            ],
            "test_sets": [
             "test"
            ]
           }
          },
          "passed_iterations": 99,
          "total_iterations": 100
         },
         "name": "catboost_info",
         "path": "catboost_info"
        }
       },
       "layout": "IPY_MODEL_e719667013f4423997d8c85a6df6dabe"
      }
     },
     "447b725ce30e4749bed10b194b2f388a": {
      "model_module": "catboost-widget",
      "model_module_version": "^1.0.0",
      "model_name": "CatboostWidgetModel",
      "state": {
       "_dom_classes": [],
       "_model_module": "catboost-widget",
       "_model_module_version": "^1.0.0",
       "_model_name": "CatboostWidgetModel",
       "_view_count": null,
       "_view_module": "catboost-widget",
       "_view_module_version": "^1.0.0",
       "_view_name": "CatboostWidgetView",
       "data": {
        "catboost_info": {
         "content": {
          "data": {
           "iterations": [
            {
             "iteration": 0,
             "learn": [
              0.6729092957
             ],
             "passed_time": 0.3978300772,
             "remaining_time": 39.38517764,
             "test": [
              0.6718778459
             ]
            },
            {
             "iteration": 1,
             "learn": [
              0.6528942299
             ],
             "passed_time": 0.8030064379,
             "remaining_time": 39.34731546,
             "test": [
              0.652072204
             ]
            },
            {
             "iteration": 2,
             "learn": [
              0.6341985524
             ],
             "passed_time": 1.202615294,
             "remaining_time": 38.88456118,
             "test": [
              0.6334242524
             ]
            },
            {
             "iteration": 3,
             "learn": [
              0.6164896606
             ],
             "passed_time": 1.603855702,
             "remaining_time": 38.49253684,
             "test": [
              0.6157725787
             ]
            },
            {
             "iteration": 4,
             "learn": [
              0.6003207655
             ],
             "passed_time": 1.980152939,
             "remaining_time": 37.62290584,
             "test": [
              0.5986250311
             ]
            },
            {
             "iteration": 5,
             "learn": [
              0.5846927835
             ],
             "passed_time": 2.356775481,
             "remaining_time": 36.92281587,
             "test": [
              0.5830444734
             ]
            },
            {
             "iteration": 6,
             "learn": [
              0.5700716052
             ],
             "passed_time": 2.768065332,
             "remaining_time": 36.77572513,
             "test": [
              0.5679461297
             ]
            },
            {
             "iteration": 7,
             "learn": [
              0.5554174271
             ],
             "passed_time": 3.154477834,
             "remaining_time": 36.2764951,
             "test": [
              0.5529673779
             ]
            },
            {
             "iteration": 8,
             "learn": [
              0.5417546328
             ],
             "passed_time": 3.559126944,
             "remaining_time": 35.98672799,
             "test": [
              0.5393993237
             ]
            },
            {
             "iteration": 9,
             "learn": [
              0.5285922565
             ],
             "passed_time": 3.98146901,
             "remaining_time": 35.83322109,
             "test": [
              0.5262367835
             ]
            },
            {
             "iteration": 10,
             "learn": [
              0.5155262865
             ],
             "passed_time": 4.335183598,
             "remaining_time": 35.07557639,
             "test": [
              0.5131092913
             ]
            },
            {
             "iteration": 11,
             "learn": [
              0.5044325438
             ],
             "passed_time": 4.718448518,
             "remaining_time": 34.6019558,
             "test": [
              0.5015912968
             ]
            },
            {
             "iteration": 12,
             "learn": [
              0.493082574
             ],
             "passed_time": 5.123848537,
             "remaining_time": 34.29037098,
             "test": [
              0.4901203
             ]
            },
            {
             "iteration": 13,
             "learn": [
              0.4822636589
             ],
             "passed_time": 5.523876272,
             "remaining_time": 33.93238281,
             "test": [
              0.479355247
             ]
            },
            {
             "iteration": 14,
             "learn": [
              0.4709278992
             ],
             "passed_time": 5.901604888,
             "remaining_time": 33.4424277,
             "test": [
              0.4681380448
             ]
            },
            {
             "iteration": 15,
             "learn": [
              0.4603700323
             ],
             "passed_time": 6.274067113,
             "remaining_time": 32.93885234,
             "test": [
              0.4574336812
             ]
            },
            {
             "iteration": 16,
             "learn": [
              0.4498198343
             ],
             "passed_time": 6.671749383,
             "remaining_time": 32.57383522,
             "test": [
              0.4471471564
             ]
            },
            {
             "iteration": 17,
             "learn": [
              0.4403559024
             ],
             "passed_time": 7.058460668,
             "remaining_time": 32.15520971,
             "test": [
              0.4369099918
             ]
            },
            {
             "iteration": 18,
             "learn": [
              0.4302942233
             ],
             "passed_time": 7.449106126,
             "remaining_time": 31.75671559,
             "test": [
              0.4273471069
             ]
            },
            {
             "iteration": 19,
             "learn": [
              0.4213371513
             ],
             "passed_time": 7.838955561,
             "remaining_time": 31.35582224,
             "test": [
              0.4180639987
             ]
            },
            {
             "iteration": 20,
             "learn": [
              0.4124380802
             ],
             "passed_time": 8.224830665,
             "remaining_time": 30.94102964,
             "test": [
              0.4089286421
             ]
            },
            {
             "iteration": 21,
             "learn": [
              0.4040251657
             ],
             "passed_time": 8.61441705,
             "remaining_time": 30.54202409,
             "test": [
              0.4001232663
             ]
            },
            {
             "iteration": 22,
             "learn": [
              0.3957359321
             ],
             "passed_time": 9.073734718,
             "remaining_time": 30.3772858,
             "test": [
              0.3916087086
             ]
            },
            {
             "iteration": 23,
             "learn": [
              0.3879924583
             ],
             "passed_time": 9.510160594,
             "remaining_time": 30.11550855,
             "test": [
              0.3838676841
             ]
            },
            {
             "iteration": 24,
             "learn": [
              0.380298528
             ],
             "passed_time": 9.924388597,
             "remaining_time": 29.77316579,
             "test": [
              0.3759441182
             ]
            },
            {
             "iteration": 25,
             "learn": [
              0.3732950602
             ],
             "passed_time": 10.34431116,
             "remaining_time": 29.44150101,
             "test": [
              0.3687426399
             ]
            },
            {
             "iteration": 26,
             "learn": [
              0.3660653708
             ],
             "passed_time": 10.758417,
             "remaining_time": 29.08757189,
             "test": [
              0.3613817233
             ]
            },
            {
             "iteration": 27,
             "learn": [
              0.3593594017
             ],
             "passed_time": 11.17227137,
             "remaining_time": 28.72869782,
             "test": [
              0.3545096255
             ]
            },
            {
             "iteration": 28,
             "learn": [
              0.3531755489
             ],
             "passed_time": 11.60001597,
             "remaining_time": 28.40003911,
             "test": [
              0.3483071138
             ]
            },
            {
             "iteration": 29,
             "learn": [
              0.3462919019
             ],
             "passed_time": 12.06225761,
             "remaining_time": 28.14526775,
             "test": [
              0.3414839148
             ]
            },
            {
             "iteration": 30,
             "learn": [
              0.3406322291
             ],
             "passed_time": 12.48236427,
             "remaining_time": 27.78332692,
             "test": [
              0.3357560401
             ]
            },
            {
             "iteration": 31,
             "learn": [
              0.3342810478
             ],
             "passed_time": 12.94777966,
             "remaining_time": 27.51403179,
             "test": [
              0.3293838729
             ]
            },
            {
             "iteration": 32,
             "learn": [
              0.3282580214
             ],
             "passed_time": 13.4117318,
             "remaining_time": 27.22987972,
             "test": [
              0.3232916388
             ]
            },
            {
             "iteration": 33,
             "learn": [
              0.322364248
             ],
             "passed_time": 13.8710179,
             "remaining_time": 26.92609356,
             "test": [
              0.3175248209
             ]
            },
            {
             "iteration": 34,
             "learn": [
              0.3167487814
             ],
             "passed_time": 14.30604494,
             "remaining_time": 26.56836918,
             "test": [
              0.3116613387
             ]
            },
            {
             "iteration": 35,
             "learn": [
              0.3117843572
             ],
             "passed_time": 14.71605281,
             "remaining_time": 26.16187167,
             "test": [
              0.3065778648
             ]
            },
            {
             "iteration": 36,
             "learn": [
              0.3066882829
             ],
             "passed_time": 15.10891917,
             "remaining_time": 25.72599751,
             "test": [
              0.3014001429
             ]
            },
            {
             "iteration": 37,
             "learn": [
              0.3020350983
             ],
             "passed_time": 15.53124337,
             "remaining_time": 25.34044971,
             "test": [
              0.2966035605
             ]
            },
            {
             "iteration": 38,
             "learn": [
              0.2969501247
             ],
             "passed_time": 15.92812797,
             "remaining_time": 24.9132258,
             "test": [
              0.2914285899
             ]
            },
            {
             "iteration": 39,
             "learn": [
              0.2925252384
             ],
             "passed_time": 16.35289774,
             "remaining_time": 24.52934662,
             "test": [
              0.2870839271
             ]
            },
            {
             "iteration": 40,
             "learn": [
              0.2878346126
             ],
             "passed_time": 16.75567809,
             "remaining_time": 24.11182945,
             "test": [
              0.2821463438
             ]
            },
            {
             "iteration": 41,
             "learn": [
              0.2832692228
             ],
             "passed_time": 17.20992913,
             "remaining_time": 23.7660926,
             "test": [
              0.2776864864
             ]
            },
            {
             "iteration": 42,
             "learn": [
              0.2789077833
             ],
             "passed_time": 17.60903853,
             "remaining_time": 23.34221387,
             "test": [
              0.2731607033
             ]
            },
            {
             "iteration": 43,
             "learn": [
              0.274675811
             ],
             "passed_time": 18.07649783,
             "remaining_time": 23.00645179,
             "test": [
              0.2689608479
             ]
            },
            {
             "iteration": 44,
             "learn": [
              0.2709496457
             ],
             "passed_time": 18.48887315,
             "remaining_time": 22.59751163,
             "test": [
              0.265131202
             ]
            },
            {
             "iteration": 45,
             "learn": [
              0.2672275884
             ],
             "passed_time": 18.88351293,
             "remaining_time": 22.16760214,
             "test": [
              0.2615798867
             ]
            },
            {
             "iteration": 46,
             "learn": [
              0.2639296511
             ],
             "passed_time": 19.2641876,
             "remaining_time": 21.72344559,
             "test": [
              0.2579711049
             ]
            },
            {
             "iteration": 47,
             "learn": [
              0.2601738228
             ],
             "passed_time": 19.65140147,
             "remaining_time": 21.28901825,
             "test": [
              0.2540876959
             ]
            },
            {
             "iteration": 48,
             "learn": [
              0.2564581456
             ],
             "passed_time": 20.04464405,
             "remaining_time": 20.86279279,
             "test": [
              0.2502852889
             ]
            },
            {
             "iteration": 49,
             "learn": [
              0.2528490511
             ],
             "passed_time": 20.51958494,
             "remaining_time": 20.51958494,
             "test": [
              0.2468252719
             ]
            },
            {
             "iteration": 50,
             "learn": [
              0.2492722034
             ],
             "passed_time": 20.91635798,
             "remaining_time": 20.09610864,
             "test": [
              0.2431973332
             ]
            },
            {
             "iteration": 51,
             "learn": [
              0.2458881876
             ],
             "passed_time": 21.3415102,
             "remaining_time": 19.69985557,
             "test": [
              0.2399855291
             ]
            },
            {
             "iteration": 52,
             "learn": [
              0.2426164479
             ],
             "passed_time": 21.73244093,
             "remaining_time": 19.27216459,
             "test": [
              0.236714727
             ]
            },
            {
             "iteration": 53,
             "learn": [
              0.2392290146
             ],
             "passed_time": 22.24091579,
             "remaining_time": 18.9459653,
             "test": [
              0.2333994625
             ]
            },
            {
             "iteration": 54,
             "learn": [
              0.2364546203
             ],
             "passed_time": 22.80509506,
             "remaining_time": 18.65871414,
             "test": [
              0.2307721994
             ]
            },
            {
             "iteration": 55,
             "learn": [
              0.2338457989
             ],
             "passed_time": 23.37341758,
             "remaining_time": 18.3648281,
             "test": [
              0.2282014129
             ]
            },
            {
             "iteration": 56,
             "learn": [
              0.2308763753
             ],
             "passed_time": 23.89678358,
             "remaining_time": 18.02739814,
             "test": [
              0.2253705346
             ]
            },
            {
             "iteration": 57,
             "learn": [
              0.2279369288
             ],
             "passed_time": 24.32815078,
             "remaining_time": 17.61693677,
             "test": [
              0.2225053439
             ]
            },
            {
             "iteration": 58,
             "learn": [
              0.2252726825
             ],
             "passed_time": 24.74799281,
             "remaining_time": 17.19775771,
             "test": [
              0.2198840597
             ]
            },
            {
             "iteration": 59,
             "learn": [
              0.222469731
             ],
             "passed_time": 25.13896555,
             "remaining_time": 16.75931037,
             "test": [
              0.2171741072
             ]
            },
            {
             "iteration": 60,
             "learn": [
              0.2201264263
             ],
             "passed_time": 25.53691213,
             "remaining_time": 16.32687825,
             "test": [
              0.2148725772
             ]
            },
            {
             "iteration": 61,
             "learn": [
              0.2176496599
             ],
             "passed_time": 25.96151052,
             "remaining_time": 15.91189354,
             "test": [
              0.2125429213
             ]
            },
            {
             "iteration": 62,
             "learn": [
              0.2151038762
             ],
             "passed_time": 26.44616436,
             "remaining_time": 15.53187431,
             "test": [
              0.2100426431
             ]
            },
            {
             "iteration": 63,
             "learn": [
              0.2126121986
             ],
             "passed_time": 26.88979625,
             "remaining_time": 15.12551039,
             "test": [
              0.2076794458
             ]
            },
            {
             "iteration": 64,
             "learn": [
              0.2102788944
             ],
             "passed_time": 27.29675728,
             "remaining_time": 14.69825392,
             "test": [
              0.2054196999
             ]
            },
            {
             "iteration": 65,
             "learn": [
              0.2079807172
             ],
             "passed_time": 27.71732485,
             "remaining_time": 14.27862189,
             "test": [
              0.2031757869
             ]
            },
            {
             "iteration": 66,
             "learn": [
              0.2057735689
             ],
             "passed_time": 28.09718631,
             "remaining_time": 13.83891266,
             "test": [
              0.2010314868
             ]
            },
            {
             "iteration": 67,
             "learn": [
              0.2036851719
             ],
             "passed_time": 28.45262277,
             "remaining_time": 13.38946954,
             "test": [
              0.1990940262
             ]
            },
            {
             "iteration": 68,
             "learn": [
              0.2014788871
             ],
             "passed_time": 28.88105919,
             "remaining_time": 12.97554833,
             "test": [
              0.1970021438
             ]
            },
            {
             "iteration": 69,
             "learn": [
              0.1996809706
             ],
             "passed_time": 29.26280297,
             "remaining_time": 12.54120127,
             "test": [
              0.1953109061
             ]
            },
            {
             "iteration": 70,
             "learn": [
              0.1975667909
             ],
             "passed_time": 29.69524773,
             "remaining_time": 12.12904485,
             "test": [
              0.1933550419
             ]
            },
            {
             "iteration": 71,
             "learn": [
              0.1959541822
             ],
             "passed_time": 30.00079833,
             "remaining_time": 11.66697713,
             "test": [
              0.1917459887
             ]
            },
            {
             "iteration": 72,
             "learn": [
              0.1942073973
             ],
             "passed_time": 30.40513569,
             "remaining_time": 11.24573512,
             "test": [
              0.1900082012
             ]
            },
            {
             "iteration": 73,
             "learn": [
              0.1921142783
             ],
             "passed_time": 30.84129248,
             "remaining_time": 10.83612979,
             "test": [
              0.1880595331
             ]
            },
            {
             "iteration": 74,
             "learn": [
              0.1902236055
             ],
             "passed_time": 31.2727515,
             "remaining_time": 10.4242505,
             "test": [
              0.1861643531
             ]
            },
            {
             "iteration": 75,
             "learn": [
              0.1881891099
             ],
             "passed_time": 31.73912426,
             "remaining_time": 10.02288135,
             "test": [
              0.1841236015
             ]
            },
            {
             "iteration": 76,
             "learn": [
              0.1865737308
             ],
             "passed_time": 32.13401964,
             "remaining_time": 9.5984734,
             "test": [
              0.1825658883
             ]
            },
            {
             "iteration": 77,
             "learn": [
              0.1848103337
             ],
             "passed_time": 32.57731197,
             "remaining_time": 9.188472607,
             "test": [
              0.1806918733
             ]
            },
            {
             "iteration": 78,
             "learn": [
              0.1833266062
             ],
             "passed_time": 32.95554589,
             "remaining_time": 8.760334984,
             "test": [
              0.1792450941
             ]
            },
            {
             "iteration": 79,
             "learn": [
              0.1816591233
             ],
             "passed_time": 33.3841679,
             "remaining_time": 8.346041974,
             "test": [
              0.1775162082
             ]
            },
            {
             "iteration": 80,
             "learn": [
              0.1799267401
             ],
             "passed_time": 33.82189056,
             "remaining_time": 7.933529884,
             "test": [
              0.1757510316
             ]
            },
            {
             "iteration": 81,
             "learn": [
              0.1786135952
             ],
             "passed_time": 34.12220773,
             "remaining_time": 7.490240721,
             "test": [
              0.1743210322
             ]
            },
            {
             "iteration": 82,
             "learn": [
              0.1769184939
             ],
             "passed_time": 34.52995653,
             "remaining_time": 7.072400735,
             "test": [
              0.1725700092
             ]
            },
            {
             "iteration": 83,
             "learn": [
              0.1756643002
             ],
             "passed_time": 34.83317239,
             "remaining_time": 6.634889979,
             "test": [
              0.1712542276
             ]
            },
            {
             "iteration": 84,
             "learn": [
              0.1739112712
             ],
             "passed_time": 35.26350445,
             "remaining_time": 6.222971373,
             "test": [
              0.1693547999
             ]
            },
            {
             "iteration": 85,
             "learn": [
              0.1727437081
             ],
             "passed_time": 35.5651742,
             "remaining_time": 5.789679521,
             "test": [
              0.1681029888
             ]
            },
            {
             "iteration": 86,
             "learn": [
              0.1711757747
             ],
             "passed_time": 35.95061118,
             "remaining_time": 5.371930407,
             "test": [
              0.1665014698
             ]
            },
            {
             "iteration": 87,
             "learn": [
              0.1695106583
             ],
             "passed_time": 36.36454109,
             "remaining_time": 4.958801058,
             "test": [
              0.1648826079
             ]
            },
            {
             "iteration": 88,
             "learn": [
              0.1683169551
             ],
             "passed_time": 36.67757525,
             "remaining_time": 4.533183458,
             "test": [
              0.1637280783
             ]
            },
            {
             "iteration": 89,
             "learn": [
              0.1667974057
             ],
             "passed_time": 37.08173143,
             "remaining_time": 4.120192381,
             "test": [
              0.162382092
             ]
            },
            {
             "iteration": 90,
             "learn": [
              0.1652597863
             ],
             "passed_time": 37.51780813,
             "remaining_time": 3.710552452,
             "test": [
              0.1607356217
             ]
            },
            {
             "iteration": 91,
             "learn": [
              0.1638537242
             ],
             "passed_time": 37.91207128,
             "remaining_time": 3.29670185,
             "test": [
              0.1592818769
             ]
            },
            {
             "iteration": 92,
             "learn": [
              0.162609711
             ],
             "passed_time": 38.30756787,
             "remaining_time": 2.883365324,
             "test": [
              0.1580300666
             ]
            },
            {
             "iteration": 93,
             "learn": [
              0.1614928205
             ],
             "passed_time": 38.64124287,
             "remaining_time": 2.466462311,
             "test": [
              0.1568510111
             ]
            },
            {
             "iteration": 94,
             "learn": [
              0.1599787217
             ],
             "passed_time": 39.05448596,
             "remaining_time": 2.055499261,
             "test": [
              0.1553487899
             ]
            },
            {
             "iteration": 95,
             "learn": [
              0.1590233522
             ],
             "passed_time": 39.35405345,
             "remaining_time": 1.639752227,
             "test": [
              0.1543424828
             ]
            },
            {
             "iteration": 96,
             "learn": [
              0.1576817644
             ],
             "passed_time": 39.76309336,
             "remaining_time": 1.229786393,
             "test": [
              0.1529875594
             ]
            },
            {
             "iteration": 97,
             "learn": [
              0.1566721633
             ],
             "passed_time": 40.13051563,
             "remaining_time": 0.8189901149,
             "test": [
              0.152056886
             ]
            },
            {
             "iteration": 98,
             "learn": [
              0.1551741596
             ],
             "passed_time": 40.59488341,
             "remaining_time": 0.4100493274,
             "test": [
              0.1506923918
             ]
            },
            {
             "iteration": 99,
             "learn": [
              0.1542714918
             ],
             "passed_time": 40.97429367,
             "remaining_time": 0,
             "test": [
              0.1494868492
             ]
            }
           ],
           "meta": {
            "iteration_count": 100,
            "launch_mode": "Train",
            "learn_metrics": [
             {
              "best_value": "Min",
              "name": "CrossEntropy"
             }
            ],
            "learn_sets": [
             "learn"
            ],
            "name": "experiment",
            "parameters": "",
            "test_metrics": [
             {
              "best_value": "Min",
              "name": "CrossEntropy"
             }
            ],
            "test_sets": [
             "test"
            ]
           }
          },
          "passed_iterations": 99,
          "total_iterations": 100
         },
         "name": "catboost_info",
         "path": "catboost_info"
        }
       },
       "layout": "IPY_MODEL_d924f8b6c80447b5a6f6000ecd135ddc"
      }
     },
     "4910320466df4e91a99a82a4163a68af": {
      "model_module": "catboost-widget",
      "model_module_version": "^1.0.0",
      "model_name": "CatboostWidgetModel",
      "state": {
       "_dom_classes": [],
       "_model_module": "catboost-widget",
       "_model_module_version": "^1.0.0",
       "_model_name": "CatboostWidgetModel",
       "_view_count": null,
       "_view_module": "catboost-widget",
       "_view_module_version": "^1.0.0",
       "_view_name": "CatboostWidgetView",
       "data": {
        "catboost_info": {
         "content": {
          "data": {
           "iterations": [
            {
             "iteration": 0,
             "learn": [
              0.6753199044
             ],
             "passed_time": 0.3794207552,
             "remaining_time": 37.56265476,
             "test": [
              0.6744580775
             ]
            },
            {
             "iteration": 1,
             "learn": [
              0.6567078469
             ],
             "passed_time": 0.7588335148,
             "remaining_time": 37.18284222,
             "test": [
              0.6566441133
             ]
            },
            {
             "iteration": 2,
             "learn": [
              0.6385507981
             ],
             "passed_time": 1.166658428,
             "remaining_time": 37.72195583,
             "test": [
              0.639196234
             ]
            },
            {
             "iteration": 3,
             "learn": [
              0.6228399803
             ],
             "passed_time": 1.532194614,
             "remaining_time": 36.77267074,
             "test": [
              0.6231500966
             ]
            },
            {
             "iteration": 4,
             "learn": [
              0.6064512081
             ],
             "passed_time": 1.964670575,
             "remaining_time": 37.32874092,
             "test": [
              0.6066232949
             ]
            },
            {
             "iteration": 5,
             "learn": [
              0.5915489132
             ],
             "passed_time": 2.331338354,
             "remaining_time": 36.52430087,
             "test": [
              0.5919996585
             ]
            },
            {
             "iteration": 6,
             "learn": [
              0.5776367568
             ],
             "passed_time": 2.700292333,
             "remaining_time": 35.87531243,
             "test": [
              0.5783066262
             ]
            },
            {
             "iteration": 7,
             "learn": [
              0.5641600187
             ],
             "passed_time": 3.067955252,
             "remaining_time": 35.2814854,
             "test": [
              0.5650753018
             ]
            },
            {
             "iteration": 8,
             "learn": [
              0.551655765
             ],
             "passed_time": 3.448455391,
             "remaining_time": 34.86771562,
             "test": [
              0.5524992162
             ]
            },
            {
             "iteration": 9,
             "learn": [
              0.5380615099
             ],
             "passed_time": 3.883770608,
             "remaining_time": 34.95393547,
             "test": [
              0.5390293097
             ]
            },
            {
             "iteration": 10,
             "learn": [
              0.5262733417
             ],
             "passed_time": 4.259661228,
             "remaining_time": 34.46453176,
             "test": [
              0.5274696285
             ]
            },
            {
             "iteration": 11,
             "learn": [
              0.5145248348
             ],
             "passed_time": 4.865292817,
             "remaining_time": 35.67881399,
             "test": [
              0.5158029963
             ]
            },
            {
             "iteration": 12,
             "learn": [
              0.5030282232
             ],
             "passed_time": 5.410674516,
             "remaining_time": 36.20989869,
             "test": [
              0.5043375729
             ]
            },
            {
             "iteration": 13,
             "learn": [
              0.4924800085
             ],
             "passed_time": 5.890983814,
             "remaining_time": 36.187472,
             "test": [
              0.4937795575
             ]
            },
            {
             "iteration": 14,
             "learn": [
              0.4827476829
             ],
             "passed_time": 6.251543892,
             "remaining_time": 35.42541539,
             "test": [
              0.4839067241
             ]
            },
            {
             "iteration": 15,
             "learn": [
              0.4733251802
             ],
             "passed_time": 6.653367978,
             "remaining_time": 34.93018188,
             "test": [
              0.4747594255
             ]
            },
            {
             "iteration": 16,
             "learn": [
              0.4643035521
             ],
             "passed_time": 7.123894861,
             "remaining_time": 34.78136903,
             "test": [
              0.465691574
             ]
            },
            {
             "iteration": 17,
             "learn": [
              0.4546106807
             ],
             "passed_time": 7.533389124,
             "remaining_time": 34.31877268,
             "test": [
              0.4564148682
             ]
            },
            {
             "iteration": 18,
             "learn": [
              0.4458208077
             ],
             "passed_time": 7.960737412,
             "remaining_time": 33.93788055,
             "test": [
              0.4473209921
             ]
            },
            {
             "iteration": 19,
             "learn": [
              0.4357224082
             ],
             "passed_time": 8.364845156,
             "remaining_time": 33.45938062,
             "test": [
              0.4379764475
             ]
            },
            {
             "iteration": 20,
             "learn": [
              0.4278400854
             ],
             "passed_time": 8.831162961,
             "remaining_time": 33.221994,
             "test": [
              0.4301742859
             ]
            },
            {
             "iteration": 21,
             "learn": [
              0.4191414539
             ],
             "passed_time": 9.258172216,
             "remaining_time": 32.82442877,
             "test": [
              0.421787081
             ]
            },
            {
             "iteration": 22,
             "learn": [
              0.411538043
             ],
             "passed_time": 9.640551085,
             "remaining_time": 32.27488842,
             "test": [
              0.4139691473
             ]
            },
            {
             "iteration": 23,
             "learn": [
              0.403938135
             ],
             "passed_time": 10.06980371,
             "remaining_time": 31.88771175,
             "test": [
              0.4062967687
             ]
            },
            {
             "iteration": 24,
             "learn": [
              0.3968740979
             ],
             "passed_time": 10.43854666,
             "remaining_time": 31.31563998,
             "test": [
              0.399070568
             ]
            },
            {
             "iteration": 25,
             "learn": [
              0.3898161342
             ],
             "passed_time": 10.86402605,
             "remaining_time": 30.92068952,
             "test": [
              0.3919444738
             ]
            },
            {
             "iteration": 26,
             "learn": [
              0.3821640456
             ],
             "passed_time": 11.31018413,
             "remaining_time": 30.57938673,
             "test": [
              0.3846363047
             ]
            },
            {
             "iteration": 27,
             "learn": [
              0.3758332653
             ],
             "passed_time": 11.77713469,
             "remaining_time": 30.28406064,
             "test": [
              0.378216201
             ]
            },
            {
             "iteration": 28,
             "learn": [
              0.3687335298
             ],
             "passed_time": 12.22384301,
             "remaining_time": 29.92733979,
             "test": [
              0.3713522769
             ]
            },
            {
             "iteration": 29,
             "learn": [
              0.3626459201
             ],
             "passed_time": 12.64517241,
             "remaining_time": 29.50540229,
             "test": [
              0.3650096721
             ]
            },
            {
             "iteration": 30,
             "learn": [
              0.3568414454
             ],
             "passed_time": 13.02113541,
             "remaining_time": 28.98252721,
             "test": [
              0.3591193987
             ]
            },
            {
             "iteration": 31,
             "learn": [
              0.3497845349
             ],
             "passed_time": 13.47673647,
             "remaining_time": 28.63806499,
             "test": [
              0.3522965792
             ]
            },
            {
             "iteration": 32,
             "learn": [
              0.3435168855
             ],
             "passed_time": 13.92200628,
             "remaining_time": 28.26589155,
             "test": [
              0.345897816
             ]
            },
            {
             "iteration": 33,
             "learn": [
              0.337684748
             ],
             "passed_time": 14.31086987,
             "remaining_time": 27.77992387,
             "test": [
              0.3400397927
             ]
            },
            {
             "iteration": 34,
             "learn": [
              0.3318394522
             ],
             "passed_time": 14.75852093,
             "remaining_time": 27.40868173,
             "test": [
              0.3340530675
             ]
            },
            {
             "iteration": 35,
             "learn": [
              0.3255203676
             ],
             "passed_time": 15.20967623,
             "remaining_time": 27.0394244,
             "test": [
              0.3279745903
             ]
            },
            {
             "iteration": 36,
             "learn": [
              0.3203873935
             ],
             "passed_time": 15.59889957,
             "remaining_time": 26.56028845,
             "test": [
              0.3226627045
             ]
            },
            {
             "iteration": 37,
             "learn": [
              0.3148773013
             ],
             "passed_time": 16.0500365,
             "remaining_time": 26.18690166,
             "test": [
              0.3174775324
             ]
            },
            {
             "iteration": 38,
             "learn": [
              0.309199391
             ],
             "passed_time": 16.49363539,
             "remaining_time": 25.7977374,
             "test": [
              0.3122914676
             ]
            },
            {
             "iteration": 39,
             "learn": [
              0.3036814197
             ],
             "passed_time": 16.94499247,
             "remaining_time": 25.4174887,
             "test": [
              0.3070303811
             ]
            },
            {
             "iteration": 40,
             "learn": [
              0.2989368423
             ],
             "passed_time": 17.3727098,
             "remaining_time": 24.99975313,
             "test": [
              0.3020560195
             ]
            },
            {
             "iteration": 41,
             "learn": [
              0.2943219047
             ],
             "passed_time": 17.83274617,
             "remaining_time": 24.62617329,
             "test": [
              0.2972954478
             ]
            },
            {
             "iteration": 42,
             "learn": [
              0.2900971333
             ],
             "passed_time": 18.25133512,
             "remaining_time": 24.19363028,
             "test": [
              0.2927608955
             ]
            },
            {
             "iteration": 43,
             "learn": [
              0.2850559365
             ],
             "passed_time": 18.70389288,
             "remaining_time": 23.80495457,
             "test": [
              0.2879741024
             ]
            },
            {
             "iteration": 44,
             "learn": [
              0.2810009736
             ],
             "passed_time": 19.12196089,
             "remaining_time": 23.37128554,
             "test": [
              0.2838423816
             ]
            },
            {
             "iteration": 45,
             "learn": [
              0.2765473238
             ],
             "passed_time": 19.55623667,
             "remaining_time": 22.95732131,
             "test": [
              0.2798594726
             ]
            },
            {
             "iteration": 46,
             "learn": [
              0.2727240958
             ],
             "passed_time": 19.9767791,
             "remaining_time": 22.52700621,
             "test": [
              0.275819818
             ]
            },
            {
             "iteration": 47,
             "learn": [
              0.2683889258
             ],
             "passed_time": 20.41550534,
             "remaining_time": 22.11679745,
             "test": [
              0.2719062336
             ]
            },
            {
             "iteration": 48,
             "learn": [
              0.2648384008
             ],
             "passed_time": 20.82437635,
             "remaining_time": 21.67435089,
             "test": [
              0.2681804064
             ]
            },
            {
             "iteration": 49,
             "learn": [
              0.2612270773
             ],
             "passed_time": 21.22270159,
             "remaining_time": 21.22270159,
             "test": [
              0.2646642703
             ]
            },
            {
             "iteration": 50,
             "learn": [
              0.2576877725
             ],
             "passed_time": 21.67121273,
             "remaining_time": 20.82136125,
             "test": [
              0.2608735047
             ]
            },
            {
             "iteration": 51,
             "learn": [
              0.2540537681
             ],
             "passed_time": 22.12033232,
             "remaining_time": 20.4187683,
             "test": [
              0.2575340673
             ]
            },
            {
             "iteration": 52,
             "learn": [
              0.2506075482
             ],
             "passed_time": 22.54654323,
             "remaining_time": 19.99410437,
             "test": [
              0.2539557956
             ]
            },
            {
             "iteration": 53,
             "learn": [
              0.247424666
             ],
             "passed_time": 22.97494105,
             "remaining_time": 19.57124608,
             "test": [
              0.2504907594
             ]
            },
            {
             "iteration": 54,
             "learn": [
              0.2434730777
             ],
             "passed_time": 23.41588363,
             "remaining_time": 19.15845024,
             "test": [
              0.2468571925
             ]
            },
            {
             "iteration": 55,
             "learn": [
              0.2401528776
             ],
             "passed_time": 23.76975162,
             "remaining_time": 18.67623341,
             "test": [
              0.243232039
             ]
            },
            {
             "iteration": 56,
             "learn": [
              0.2371220817
             ],
             "passed_time": 24.21393465,
             "remaining_time": 18.26665246,
             "test": [
              0.2401963024
             ]
            },
            {
             "iteration": 57,
             "learn": [
              0.2340186147
             ],
             "passed_time": 24.56961249,
             "remaining_time": 17.79178836,
             "test": [
              0.2368854434
             ]
            },
            {
             "iteration": 58,
             "learn": [
              0.2311395666
             ],
             "passed_time": 24.97275898,
             "remaining_time": 17.35395115,
             "test": [
              0.2338559642
             ]
            },
            {
             "iteration": 59,
             "learn": [
              0.2282824378
             ],
             "passed_time": 25.32121364,
             "remaining_time": 16.88080909,
             "test": [
              0.2307236467
             ]
            },
            {
             "iteration": 60,
             "learn": [
              0.2249769651
             ],
             "passed_time": 25.79235476,
             "remaining_time": 16.49019403,
             "test": [
              0.2275680998
             ]
            },
            {
             "iteration": 61,
             "learn": [
              0.2221152469
             ],
             "passed_time": 26.2425258,
             "remaining_time": 16.08412872,
             "test": [
              0.2247256776
             ]
            },
            {
             "iteration": 62,
             "learn": [
              0.2194084807
             ],
             "passed_time": 26.59124971,
             "remaining_time": 15.61708316,
             "test": [
              0.2218051738
             ]
            },
            {
             "iteration": 63,
             "learn": [
              0.2168264475
             ],
             "passed_time": 26.97421058,
             "remaining_time": 15.17299345,
             "test": [
              0.2191395477
             ]
            },
            {
             "iteration": 64,
             "learn": [
              0.2139555221
             ],
             "passed_time": 27.38575835,
             "remaining_time": 14.74617758,
             "test": [
              0.2162187712
             ]
            },
            {
             "iteration": 65,
             "learn": [
              0.2113370023
             ],
             "passed_time": 27.8611009,
             "remaining_time": 14.35268834,
             "test": [
              0.2135891978
             ]
            },
            {
             "iteration": 66,
             "learn": [
              0.2083106851
             ],
             "passed_time": 28.27572992,
             "remaining_time": 13.92685205,
             "test": [
              0.210563798
             ]
            },
            {
             "iteration": 67,
             "learn": [
              0.20548565
             ],
             "passed_time": 28.79174846,
             "remaining_time": 13.5490581,
             "test": [
              0.2078926462
             ]
            },
            {
             "iteration": 68,
             "learn": [
              0.203148568
             ],
             "passed_time": 29.14818905,
             "remaining_time": 13.0955632,
             "test": [
              0.2053564348
             ]
            },
            {
             "iteration": 69,
             "learn": [
              0.2007586739
             ],
             "passed_time": 29.5863183,
             "remaining_time": 12.6798507,
             "test": [
              0.202701872
             ]
            },
            {
             "iteration": 70,
             "learn": [
              0.1980153272
             ],
             "passed_time": 29.96908402,
             "remaining_time": 12.24089347,
             "test": [
              0.1999926487
             ]
            },
            {
             "iteration": 71,
             "learn": [
              0.1951768723
             ],
             "passed_time": 30.37248037,
             "remaining_time": 11.81152014,
             "test": [
              0.1969953808
             ]
            },
            {
             "iteration": 72,
             "learn": [
              0.1926251506
             ],
             "passed_time": 30.79536887,
             "remaining_time": 11.39006794,
             "test": [
              0.1942409104
             ]
            },
            {
             "iteration": 73,
             "learn": [
              0.1901798522
             ],
             "passed_time": 31.24978546,
             "remaining_time": 10.97965435,
             "test": [
              0.191722959
             ]
            },
            {
             "iteration": 74,
             "learn": [
              0.188059576
             ],
             "passed_time": 31.65143033,
             "remaining_time": 10.55047678,
             "test": [
              0.1894915488
             ]
            },
            {
             "iteration": 75,
             "learn": [
              0.1859573875
             ],
             "passed_time": 32.02839076,
             "remaining_time": 10.11422866,
             "test": [
              0.1872343396
             ]
            },
            {
             "iteration": 76,
             "learn": [
              0.1837792586
             ],
             "passed_time": 32.43007505,
             "remaining_time": 9.686905535,
             "test": [
              0.1849884602
             ]
            },
            {
             "iteration": 77,
             "learn": [
              0.1812978245
             ],
             "passed_time": 32.83304641,
             "remaining_time": 9.260602834,
             "test": [
              0.1823362635
             ]
            },
            {
             "iteration": 78,
             "learn": [
              0.1792215308
             ],
             "passed_time": 33.23621788,
             "remaining_time": 8.834943993,
             "test": [
              0.180325974
             ]
            },
            {
             "iteration": 79,
             "learn": [
              0.177276218
             ],
             "passed_time": 33.69566421,
             "remaining_time": 8.423916051,
             "test": [
              0.1783831941
             ]
            },
            {
             "iteration": 80,
             "learn": [
              0.1749452543
             ],
             "passed_time": 34.1167942,
             "remaining_time": 8.002704812,
             "test": [
              0.1760798911
             ]
            },
            {
             "iteration": 81,
             "learn": [
              0.1723723416
             ],
             "passed_time": 34.58276705,
             "remaining_time": 7.591339109,
             "test": [
              0.1736981452
             ]
            },
            {
             "iteration": 82,
             "learn": [
              0.170433008
             ],
             "passed_time": 34.9781882,
             "remaining_time": 7.164207221,
             "test": [
              0.1715329186
             ]
            },
            {
             "iteration": 83,
             "learn": [
              0.1684766971
             ],
             "passed_time": 35.45926343,
             "remaining_time": 6.754145416,
             "test": [
              0.1694151286
             ]
            },
            {
             "iteration": 84,
             "learn": [
              0.1662421361
             ],
             "passed_time": 35.89173972,
             "remaining_time": 6.333836421,
             "test": [
              0.167319027
             ]
            },
            {
             "iteration": 85,
             "learn": [
              0.164603345
             ],
             "passed_time": 36.41455135,
             "remaining_time": 5.927950221,
             "test": [
              0.1656723244
             ]
            },
            {
             "iteration": 86,
             "learn": [
              0.1627975003
             ],
             "passed_time": 36.97731823,
             "remaining_time": 5.525346403,
             "test": [
              0.1637541837
             ]
            },
            {
             "iteration": 87,
             "learn": [
              0.1609535714
             ],
             "passed_time": 37.5125301,
             "remaining_time": 5.115345013,
             "test": [
              0.1619368771
             ]
            },
            {
             "iteration": 88,
             "learn": [
              0.1591344186
             ],
             "passed_time": 37.91562547,
             "remaining_time": 4.686200901,
             "test": [
              0.1600989351
             ]
            },
            {
             "iteration": 89,
             "learn": [
              0.1572432371
             ],
             "passed_time": 38.37617282,
             "remaining_time": 4.264019202,
             "test": [
              0.1583846587
             ]
            },
            {
             "iteration": 90,
             "learn": [
              0.1555025757
             ],
             "passed_time": 38.76118365,
             "remaining_time": 3.833523658,
             "test": [
              0.1566520392
             ]
            },
            {
             "iteration": 91,
             "learn": [
              0.15359403
             ],
             "passed_time": 39.17616719,
             "remaining_time": 3.406623234,
             "test": [
              0.1547499724
             ]
            },
            {
             "iteration": 92,
             "learn": [
              0.1523138868
             ],
             "passed_time": 39.5579881,
             "remaining_time": 2.977482975,
             "test": [
              0.1534131339
             ]
            },
            {
             "iteration": 93,
             "learn": [
              0.150834261
             ],
             "passed_time": 40.01134862,
             "remaining_time": 2.553915869,
             "test": [
              0.1517252765
             ]
            },
            {
             "iteration": 94,
             "learn": [
              0.1494229972
             ],
             "passed_time": 40.40955765,
             "remaining_time": 2.126818824,
             "test": [
              0.1502658777
             ]
            },
            {
             "iteration": 95,
             "learn": [
              0.1477826855
             ],
             "passed_time": 40.83425316,
             "remaining_time": 1.701427215,
             "test": [
              0.1487170147
             ]
            },
            {
             "iteration": 96,
             "learn": [
              0.1460525255
             ],
             "passed_time": 41.21866207,
             "remaining_time": 1.274803981,
             "test": [
              0.1469325734
             ]
            },
            {
             "iteration": 97,
             "learn": [
              0.1445911814
             ],
             "passed_time": 41.59443694,
             "remaining_time": 0.84886606,
             "test": [
              0.1454209255
             ]
            },
            {
             "iteration": 98,
             "learn": [
              0.1431165799
             ],
             "passed_time": 41.99560125,
             "remaining_time": 0.4241979925,
             "test": [
              0.1440113761
             ]
            },
            {
             "iteration": 99,
             "learn": [
              0.1417121281
             ],
             "passed_time": 42.37575818,
             "remaining_time": 0,
             "test": [
              0.142485414
             ]
            }
           ],
           "meta": {
            "iteration_count": 100,
            "launch_mode": "Train",
            "learn_metrics": [
             {
              "best_value": "Min",
              "name": "CrossEntropy"
             }
            ],
            "learn_sets": [
             "learn"
            ],
            "name": "experiment",
            "parameters": "",
            "test_metrics": [
             {
              "best_value": "Min",
              "name": "CrossEntropy"
             }
            ],
            "test_sets": [
             "test"
            ]
           }
          },
          "passed_iterations": 99,
          "total_iterations": 100
         },
         "name": "catboost_info",
         "path": "catboost_info"
        }
       },
       "layout": "IPY_MODEL_f1a2c5b2fd7345158b0b8c104fc40313"
      }
     },
     "4ccbd3a6391c41349faf64b0c0035774": {
      "model_module": "catboost-widget",
      "model_module_version": "^1.0.0",
      "model_name": "CatboostWidgetModel",
      "state": {
       "_dom_classes": [],
       "_model_module": "catboost-widget",
       "_model_module_version": "^1.0.0",
       "_model_name": "CatboostWidgetModel",
       "_view_count": null,
       "_view_module": "catboost-widget",
       "_view_module_version": "^1.0.0",
       "_view_name": "CatboostWidgetView",
       "data": {
        "catboost_info": {
         "content": {
          "data": {
           "iterations": [
            {
             "iteration": 0,
             "learn": [
              0.6635103652
             ],
             "passed_time": 0.3656687079,
             "remaining_time": 36.20120209,
             "test": [
              0.6645818529
             ]
            },
            {
             "iteration": 1,
             "learn": [
              0.6381662435
             ],
             "passed_time": 0.6890851267,
             "remaining_time": 33.76517121,
             "test": [
              0.6378210787
             ]
            },
            {
             "iteration": 2,
             "learn": [
              0.6117125714
             ],
             "passed_time": 1.039490964,
             "remaining_time": 33.61020783,
             "test": [
              0.6124372149
             ]
            },
            {
             "iteration": 3,
             "learn": [
              0.5879520734
             ],
             "passed_time": 1.353518734,
             "remaining_time": 32.48444961,
             "test": [
              0.5885214958
             ]
            },
            {
             "iteration": 4,
             "learn": [
              0.5658708922
             ],
             "passed_time": 1.719243533,
             "remaining_time": 32.66562713,
             "test": [
              0.5659510216
             ]
            },
            {
             "iteration": 5,
             "learn": [
              0.5449380532
             ],
             "passed_time": 2.044891139,
             "remaining_time": 32.03662785,
             "test": [
              0.5445297505
             ]
            },
            {
             "iteration": 6,
             "learn": [
              0.5223824574
             ],
             "passed_time": 2.395477255,
             "remaining_time": 31.82562639,
             "test": [
              0.5240880797
             ]
            },
            {
             "iteration": 7,
             "learn": [
              0.5051318514
             ],
             "passed_time": 2.71232791,
             "remaining_time": 31.19177097,
             "test": [
              0.5048300233
             ]
            },
            {
             "iteration": 8,
             "learn": [
              0.4854742563
             ],
             "passed_time": 3.030061498,
             "remaining_time": 30.63728848,
             "test": [
              0.4864946935
             ]
            },
            {
             "iteration": 9,
             "learn": [
              0.4685624213
             ],
             "passed_time": 3.372521228,
             "remaining_time": 30.35269105,
             "test": [
              0.4689515337
             ]
            },
            {
             "iteration": 10,
             "learn": [
              0.452403631
             ],
             "passed_time": 3.724325754,
             "remaining_time": 30.1331811,
             "test": [
              0.4521971249
             ]
            },
            {
             "iteration": 11,
             "learn": [
              0.4369954998
             ],
             "passed_time": 4.048278793,
             "remaining_time": 29.68737781,
             "test": [
              0.4363324751
             ]
            },
            {
             "iteration": 12,
             "learn": [
              0.4218034977
             ],
             "passed_time": 4.400905543,
             "remaining_time": 29.45221402,
             "test": [
              0.4210776636
             ]
            },
            {
             "iteration": 13,
             "learn": [
              0.4068426481
             ],
             "passed_time": 4.755019769,
             "remaining_time": 29.20940716,
             "test": [
              0.4064492577
             ]
            },
            {
             "iteration": 14,
             "learn": [
              0.3920696032
             ],
             "passed_time": 5.076707651,
             "remaining_time": 28.76801002,
             "test": [
              0.3925978772
             ]
            },
            {
             "iteration": 15,
             "learn": [
              0.3787426139
             ],
             "passed_time": 5.424676755,
             "remaining_time": 28.47955296,
             "test": [
              0.3792796491
             ]
            },
            {
             "iteration": 16,
             "learn": [
              0.3665943394
             ],
             "passed_time": 5.772393787,
             "remaining_time": 28.18286378,
             "test": [
              0.3665475514
             ]
            },
            {
             "iteration": 17,
             "learn": [
              0.3542609827
             ],
             "passed_time": 6.096624993,
             "remaining_time": 27.77351386,
             "test": [
              0.3544171126
             ]
            },
            {
             "iteration": 18,
             "learn": [
              0.3425181409
             ],
             "passed_time": 6.452847555,
             "remaining_time": 27.509508,
             "test": [
              0.3426498062
             ]
            },
            {
             "iteration": 19,
             "learn": [
              0.3314293081
             ],
             "passed_time": 6.800197847,
             "remaining_time": 27.20079139,
             "test": [
              0.3314698419
             ]
            },
            {
             "iteration": 20,
             "learn": [
              0.3205804137
             ],
             "passed_time": 7.133626585,
             "remaining_time": 26.83602382,
             "test": [
              0.3206467363
             ]
            },
            {
             "iteration": 21,
             "learn": [
              0.3095558341
             ],
             "passed_time": 7.484898407,
             "remaining_time": 26.53736708,
             "test": [
              0.3102617929
             ]
            },
            {
             "iteration": 22,
             "learn": [
              0.301037688
             ],
             "passed_time": 7.8176086,
             "remaining_time": 26.17199401,
             "test": [
              0.3002873006
             ]
            },
            {
             "iteration": 23,
             "learn": [
              0.2914561097
             ],
             "passed_time": 8.1661718,
             "remaining_time": 25.85954403,
             "test": [
              0.2908515256
             ]
            },
            {
             "iteration": 24,
             "learn": [
              0.2817047198
             ],
             "passed_time": 8.518222295,
             "remaining_time": 25.55466689,
             "test": [
              0.2816557627
             ]
            },
            {
             "iteration": 25,
             "learn": [
              0.2728040978
             ],
             "passed_time": 8.844186432,
             "remaining_time": 25.17191523,
             "test": [
              0.2728444396
             ]
            },
            {
             "iteration": 26,
             "learn": [
              0.2642476677
             ],
             "passed_time": 9.180071542,
             "remaining_time": 24.82019343,
             "test": [
              0.2644339228
             ]
            },
            {
             "iteration": 27,
             "learn": [
              0.2562899335
             ],
             "passed_time": 9.513306565,
             "remaining_time": 24.46278831,
             "test": [
              0.2562368114
             ]
            },
            {
             "iteration": 28,
             "learn": [
              0.2486014724
             ],
             "passed_time": 9.839528457,
             "remaining_time": 24.08988002,
             "test": [
              0.2483783288
             ]
            },
            {
             "iteration": 29,
             "learn": [
              0.2411367627
             ],
             "passed_time": 10.17349544,
             "remaining_time": 23.73815604,
             "test": [
              0.2408891052
             ]
            },
            {
             "iteration": 30,
             "learn": [
              0.2337467205
             ],
             "passed_time": 10.50965684,
             "remaining_time": 23.392462,
             "test": [
              0.2335945741
             ]
            },
            {
             "iteration": 31,
             "learn": [
              0.2272202078
             ],
             "passed_time": 10.85094208,
             "remaining_time": 23.05825192,
             "test": [
              0.2266672771
             ]
            },
            {
             "iteration": 32,
             "learn": [
              0.2205808803
             ],
             "passed_time": 11.17255123,
             "remaining_time": 22.68366462,
             "test": [
              0.2199119702
             ]
            },
            {
             "iteration": 33,
             "learn": [
              0.214152835
             ],
             "passed_time": 11.49878414,
             "remaining_time": 22.3211692,
             "test": [
              0.2134168646
             ]
            },
            {
             "iteration": 34,
             "learn": [
              0.2075443667
             ],
             "passed_time": 11.84498072,
             "remaining_time": 21.99782134,
             "test": [
              0.207214463
             ]
            },
            {
             "iteration": 35,
             "learn": [
              0.201992303
             ],
             "passed_time": 12.17508682,
             "remaining_time": 21.6445988,
             "test": [
              0.2012302242
             ]
            },
            {
             "iteration": 36,
             "learn": [
              0.1962188789
             ],
             "passed_time": 12.54143862,
             "remaining_time": 21.35434143,
             "test": [
              0.1954796049
             ]
            },
            {
             "iteration": 37,
             "learn": [
              0.1906094359
             ],
             "passed_time": 12.8834311,
             "remaining_time": 21.02033495,
             "test": [
              0.1899186723
             ]
            },
            {
             "iteration": 38,
             "learn": [
              0.1852275202
             ],
             "passed_time": 13.22152737,
             "remaining_time": 20.67982486,
             "test": [
              0.1844082852
             ]
            },
            {
             "iteration": 39,
             "learn": [
              0.1799421582
             ],
             "passed_time": 13.55837589,
             "remaining_time": 20.33756383,
             "test": [
              0.179035903
             ]
            },
            {
             "iteration": 40,
             "learn": [
              0.175122348
             ],
             "passed_time": 14.02401687,
             "remaining_time": 20.18090232,
             "test": [
              0.174068634
             ]
            },
            {
             "iteration": 41,
             "learn": [
              0.1701200364
             ],
             "passed_time": 14.52570958,
             "remaining_time": 20.05931323,
             "test": [
              0.1692124194
             ]
            },
            {
             "iteration": 42,
             "learn": [
              0.1654787385
             ],
             "passed_time": 15.00068563,
             "remaining_time": 19.88462979,
             "test": [
              0.1644723435
             ]
            },
            {
             "iteration": 43,
             "learn": [
              0.1611105773
             ],
             "passed_time": 15.37418192,
             "remaining_time": 19.56714062,
             "test": [
              0.1598797729
             ]
            },
            {
             "iteration": 44,
             "learn": [
              0.1566838171
             ],
             "passed_time": 15.71784511,
             "remaining_time": 19.21069958,
             "test": [
              0.1554586117
             ]
            },
            {
             "iteration": 45,
             "learn": [
              0.1523300438
             ],
             "passed_time": 16.04645812,
             "remaining_time": 18.83714649,
             "test": [
              0.1510917588
             ]
            },
            {
             "iteration": 46,
             "learn": [
              0.1480682713
             ],
             "passed_time": 16.37528163,
             "remaining_time": 18.46574311,
             "test": [
              0.1469725176
             ]
            },
            {
             "iteration": 47,
             "learn": [
              0.1442375162
             ],
             "passed_time": 16.7165941,
             "remaining_time": 18.10964361,
             "test": [
              0.14298308
             ]
            },
            {
             "iteration": 48,
             "learn": [
              0.1402622898
             ],
             "passed_time": 17.04266773,
             "remaining_time": 17.73828682,
             "test": [
              0.1390462036
             ]
            },
            {
             "iteration": 49,
             "learn": [
              0.1365622347
             ],
             "passed_time": 17.36987753,
             "remaining_time": 17.36987753,
             "test": [
              0.1353013048
             ]
            },
            {
             "iteration": 50,
             "learn": [
              0.1331150434
             ],
             "passed_time": 17.70298679,
             "remaining_time": 17.00875202,
             "test": [
              0.1317372689
             ]
            },
            {
             "iteration": 51,
             "learn": [
              0.1296343037
             ],
             "passed_time": 18.04085172,
             "remaining_time": 16.6530939,
             "test": [
              0.1281276922
             ]
            },
            {
             "iteration": 52,
             "learn": [
              0.1262606075
             ],
             "passed_time": 18.38153984,
             "remaining_time": 16.3006108,
             "test": [
              0.1248205787
             ]
            },
            {
             "iteration": 53,
             "learn": [
              0.1230970729
             ],
             "passed_time": 18.72851709,
             "remaining_time": 15.95392197,
             "test": [
              0.121562741
             ]
            },
            {
             "iteration": 54,
             "learn": [
              0.1199345072
             ],
             "passed_time": 19.090883,
             "remaining_time": 15.61981336,
             "test": [
              0.1184862561
             ]
            },
            {
             "iteration": 55,
             "learn": [
              0.1168132427
             ],
             "passed_time": 19.41612915,
             "remaining_time": 15.25553004,
             "test": [
              0.1153668407
             ]
            },
            {
             "iteration": 56,
             "learn": [
              0.1139905746
             ],
             "passed_time": 19.7761591,
             "remaining_time": 14.91885687,
             "test": [
              0.1124982931
             ]
            },
            {
             "iteration": 57,
             "learn": [
              0.1110706336
             ],
             "passed_time": 20.08916007,
             "remaining_time": 14.54732281,
             "test": [
              0.1095662386
             ]
            },
            {
             "iteration": 58,
             "learn": [
              0.1082787994
             ],
             "passed_time": 20.41896155,
             "remaining_time": 14.18944786,
             "test": [
              0.106792976
             ]
            },
            {
             "iteration": 59,
             "learn": [
              0.1056240807
             ],
             "passed_time": 20.75117203,
             "remaining_time": 13.83411469,
             "test": [
              0.1040853093
             ]
            },
            {
             "iteration": 60,
             "learn": [
              0.103063861
             ],
             "passed_time": 21.08270598,
             "remaining_time": 13.4791071,
             "test": [
              0.1013504834
             ]
            },
            {
             "iteration": 61,
             "learn": [
              0.1005054722
             ],
             "passed_time": 21.41655995,
             "remaining_time": 13.12627868,
             "test": [
              0.09880884476
             ]
            },
            {
             "iteration": 62,
             "learn": [
              0.09760870078
             ],
             "passed_time": 21.81942079,
             "remaining_time": 12.81458046,
             "test": [
              0.09613920651
             ]
            },
            {
             "iteration": 63,
             "learn": [
              0.0952902626
             ],
             "passed_time": 22.14702777,
             "remaining_time": 12.45770312,
             "test": [
              0.09367047582
             ]
            },
            {
             "iteration": 64,
             "learn": [
              0.09280363324
             ],
             "passed_time": 22.51573713,
             "remaining_time": 12.12385846,
             "test": [
              0.09121923311
             ]
            },
            {
             "iteration": 65,
             "learn": [
              0.09063958644
             ],
             "passed_time": 22.84972277,
             "remaining_time": 11.77106931,
             "test": [
              0.08893938372
             ]
            },
            {
             "iteration": 66,
             "learn": [
              0.08812751545
             ],
             "passed_time": 23.25355345,
             "remaining_time": 11.45324275,
             "test": [
              0.08658023985
             ]
            },
            {
             "iteration": 67,
             "learn": [
              0.08598149746
             ],
             "passed_time": 23.63507256,
             "remaining_time": 11.12238709,
             "test": [
              0.08442508986
             ]
            },
            {
             "iteration": 68,
             "learn": [
              0.08368447849
             ],
             "passed_time": 24.0427553,
             "remaining_time": 10.8018176,
             "test": [
              0.08220441871
             ]
            },
            {
             "iteration": 69,
             "learn": [
              0.08175676092
             ],
             "passed_time": 24.37749937,
             "remaining_time": 10.44749973,
             "test": [
              0.08024739461
             ]
            },
            {
             "iteration": 70,
             "learn": [
              0.07955311843
             ],
             "passed_time": 24.78320915,
             "remaining_time": 10.12271923,
             "test": [
              0.07815131368
             ]
            },
            {
             "iteration": 71,
             "learn": [
              0.07772817942
             ],
             "passed_time": 25.09449242,
             "remaining_time": 9.758969273,
             "test": [
              0.07631145774
             ]
            },
            {
             "iteration": 72,
             "learn": [
              0.07567944372
             ],
             "passed_time": 25.51193737,
             "remaining_time": 9.435922041,
             "test": [
              0.07437354869
             ]
            },
            {
             "iteration": 73,
             "learn": [
              0.07395871215
             ],
             "passed_time": 25.89470213,
             "remaining_time": 9.098138585,
             "test": [
              0.07262859301
             ]
            },
            {
             "iteration": 74,
             "learn": [
              0.07215023334
             ],
             "passed_time": 26.25444363,
             "remaining_time": 8.751481208,
             "test": [
              0.07083503463
             ]
            },
            {
             "iteration": 75,
             "learn": [
              0.07032342594
             ],
             "passed_time": 26.66451538,
             "remaining_time": 8.420373277,
             "test": [
              0.06905848296
             ]
            },
            {
             "iteration": 76,
             "learn": [
              0.06874172641
             ],
             "passed_time": 26.9987239,
             "remaining_time": 8.064553893,
             "test": [
              0.06747772986
             ]
            },
            {
             "iteration": 77,
             "learn": [
              0.06702997864
             ],
             "passed_time": 27.4062995,
             "remaining_time": 7.72998191,
             "test": [
              0.06578252822
             ]
            },
            {
             "iteration": 78,
             "learn": [
              0.06551679682
             ],
             "passed_time": 27.73980433,
             "remaining_time": 7.373872038,
             "test": [
              0.06430849674
             ]
            },
            {
             "iteration": 79,
             "learn": [
              0.06391829982
             ],
             "passed_time": 28.11046505,
             "remaining_time": 7.027616263,
             "test": [
              0.06277415208
             ]
            },
            {
             "iteration": 80,
             "learn": [
              0.06251894206
             ],
             "passed_time": 28.49844408,
             "remaining_time": 6.684820216,
             "test": [
              0.06135621709
             ]
            },
            {
             "iteration": 81,
             "learn": [
              0.06105288646
             ],
             "passed_time": 28.86127564,
             "remaining_time": 6.335401969,
             "test": [
              0.05990416713
             ]
            },
            {
             "iteration": 82,
             "learn": [
              0.05969832465
             ],
             "passed_time": 29.19683273,
             "remaining_time": 5.980074173,
             "test": [
              0.05857628438
             ]
            },
            {
             "iteration": 83,
             "learn": [
              0.05842977456
             ],
             "passed_time": 29.57939272,
             "remaining_time": 5.634170042,
             "test": [
              0.05729459489
             ]
            },
            {
             "iteration": 84,
             "learn": [
              0.0571080788
             ],
             "passed_time": 29.90677159,
             "remaining_time": 5.277665574,
             "test": [
              0.05605630718
             ]
            },
            {
             "iteration": 85,
             "learn": [
              0.05595495473
             ],
             "passed_time": 30.24003375,
             "remaining_time": 4.922796191,
             "test": [
              0.0548593838
             ]
            },
            {
             "iteration": 86,
             "learn": [
              0.05471539396
             ],
             "passed_time": 30.54790914,
             "remaining_time": 4.564630102,
             "test": [
              0.05362092354
             ]
            },
            {
             "iteration": 87,
             "learn": [
              0.05352366908
             ],
             "passed_time": 30.85681401,
             "remaining_time": 4.207747365,
             "test": [
              0.0524713066
             ]
            },
            {
             "iteration": 88,
             "learn": [
              0.05235101338
             ],
             "passed_time": 31.21513009,
             "remaining_time": 3.858049786,
             "test": [
              0.05123658327
             ]
            },
            {
             "iteration": 89,
             "learn": [
              0.05119887316
             ],
             "passed_time": 31.54279453,
             "remaining_time": 3.504754947,
             "test": [
              0.05011860785
             ]
            },
            {
             "iteration": 90,
             "learn": [
              0.05017473147
             ],
             "passed_time": 31.8793474,
             "remaining_time": 3.15290249,
             "test": [
              0.04910118934
             ]
            },
            {
             "iteration": 91,
             "learn": [
              0.04907578085
             ],
             "passed_time": 32.23730576,
             "remaining_time": 2.803243979,
             "test": [
              0.04798605655
             ]
            },
            {
             "iteration": 92,
             "learn": [
              0.04800914274
             ],
             "passed_time": 32.59545727,
             "remaining_time": 2.453421515,
             "test": [
              0.04695878605
             ]
            },
            {
             "iteration": 93,
             "learn": [
              0.04687304996
             ],
             "passed_time": 32.96329,
             "remaining_time": 2.104039788,
             "test": [
              0.04593499942
             ]
            },
            {
             "iteration": 94,
             "learn": [
              0.04593117466
             ],
             "passed_time": 33.29031094,
             "remaining_time": 1.752121629,
             "test": [
              0.04500681264
             ]
            },
            {
             "iteration": 95,
             "learn": [
              0.0449924599
             ],
             "passed_time": 33.60817489,
             "remaining_time": 1.400340621,
             "test": [
              0.04403499147
             ]
            },
            {
             "iteration": 96,
             "learn": [
              0.04411507787
             ],
             "passed_time": 33.91303264,
             "remaining_time": 1.04885668,
             "test": [
              0.04315745515
             ]
            },
            {
             "iteration": 97,
             "learn": [
              0.04325867648
             ],
             "passed_time": 34.22141739,
             "remaining_time": 0.6983962733,
             "test": [
              0.04231514922
             ]
            },
            {
             "iteration": 98,
             "learn": [
              0.04246030284
             ],
             "passed_time": 34.57543642,
             "remaining_time": 0.3492468325,
             "test": [
              0.04154569529
             ]
            },
            {
             "iteration": 99,
             "learn": [
              0.04165608052
             ],
             "passed_time": 34.88714583,
             "remaining_time": 0,
             "test": [
              0.04077898023
             ]
            }
           ],
           "meta": {
            "iteration_count": 100,
            "launch_mode": "Train",
            "learn_metrics": [
             {
              "best_value": "Min",
              "name": "CrossEntropy"
             }
            ],
            "learn_sets": [
             "learn"
            ],
            "name": "experiment",
            "parameters": "",
            "test_metrics": [
             {
              "best_value": "Min",
              "name": "CrossEntropy"
             }
            ],
            "test_sets": [
             "test"
            ]
           }
          },
          "passed_iterations": 99,
          "total_iterations": 100
         },
         "name": "catboost_info",
         "path": "catboost_info"
        }
       },
       "layout": "IPY_MODEL_842c0bac908849169415f305f4469174"
      }
     },
     "5946f32333164a1db1805af6caee0de0": {
      "model_module": "@jupyter-widgets/base",
      "model_module_version": "1.2.0",
      "model_name": "LayoutModel",
      "state": {
       "_model_module": "@jupyter-widgets/base",
       "_model_module_version": "1.2.0",
       "_model_name": "LayoutModel",
       "_view_count": null,
       "_view_module": "@jupyter-widgets/base",
       "_view_module_version": "1.2.0",
       "_view_name": "LayoutView",
       "align_content": null,
       "align_items": null,
       "align_self": "stretch",
       "border": null,
       "bottom": null,
       "display": null,
       "flex": null,
       "flex_flow": null,
       "grid_area": null,
       "grid_auto_columns": null,
       "grid_auto_flow": null,
       "grid_auto_rows": null,
       "grid_column": null,
       "grid_gap": null,
       "grid_row": null,
       "grid_template_areas": null,
       "grid_template_columns": null,
       "grid_template_rows": null,
       "height": "500px",
       "justify_content": null,
       "justify_items": null,
       "left": null,
       "margin": null,
       "max_height": null,
       "max_width": null,
       "min_height": null,
       "min_width": null,
       "object_fit": null,
       "object_position": null,
       "order": null,
       "overflow": null,
       "overflow_x": null,
       "overflow_y": null,
       "padding": null,
       "right": null,
       "top": null,
       "visibility": null,
       "width": null
      }
     },
     "666f1d79e35a4f31a07b2982c9f0d095": {
      "model_module": "@jupyter-widgets/base",
      "model_module_version": "1.2.0",
      "model_name": "LayoutModel",
      "state": {
       "_model_module": "@jupyter-widgets/base",
       "_model_module_version": "1.2.0",
       "_model_name": "LayoutModel",
       "_view_count": null,
       "_view_module": "@jupyter-widgets/base",
       "_view_module_version": "1.2.0",
       "_view_name": "LayoutView",
       "align_content": null,
       "align_items": null,
       "align_self": "stretch",
       "border": null,
       "bottom": null,
       "display": null,
       "flex": null,
       "flex_flow": null,
       "grid_area": null,
       "grid_auto_columns": null,
       "grid_auto_flow": null,
       "grid_auto_rows": null,
       "grid_column": null,
       "grid_gap": null,
       "grid_row": null,
       "grid_template_areas": null,
       "grid_template_columns": null,
       "grid_template_rows": null,
       "height": "500px",
       "justify_content": null,
       "justify_items": null,
       "left": null,
       "margin": null,
       "max_height": null,
       "max_width": null,
       "min_height": null,
       "min_width": null,
       "object_fit": null,
       "object_position": null,
       "order": null,
       "overflow": null,
       "overflow_x": null,
       "overflow_y": null,
       "padding": null,
       "right": null,
       "top": null,
       "visibility": null,
       "width": null
      }
     },
     "6f136497b4044b86aaaae884cfdf87fa": {
      "model_module": "@jupyter-widgets/base",
      "model_module_version": "1.2.0",
      "model_name": "LayoutModel",
      "state": {
       "_model_module": "@jupyter-widgets/base",
       "_model_module_version": "1.2.0",
       "_model_name": "LayoutModel",
       "_view_count": null,
       "_view_module": "@jupyter-widgets/base",
       "_view_module_version": "1.2.0",
       "_view_name": "LayoutView",
       "align_content": null,
       "align_items": null,
       "align_self": "stretch",
       "border": null,
       "bottom": null,
       "display": null,
       "flex": null,
       "flex_flow": null,
       "grid_area": null,
       "grid_auto_columns": null,
       "grid_auto_flow": null,
       "grid_auto_rows": null,
       "grid_column": null,
       "grid_gap": null,
       "grid_row": null,
       "grid_template_areas": null,
       "grid_template_columns": null,
       "grid_template_rows": null,
       "height": "500px",
       "justify_content": null,
       "justify_items": null,
       "left": null,
       "margin": null,
       "max_height": null,
       "max_width": null,
       "min_height": null,
       "min_width": null,
       "object_fit": null,
       "object_position": null,
       "order": null,
       "overflow": null,
       "overflow_x": null,
       "overflow_y": null,
       "padding": null,
       "right": null,
       "top": null,
       "visibility": null,
       "width": null
      }
     },
     "70b36e7ce42d4dedb2745261ab9fb636": {
      "model_module": "@jupyter-widgets/base",
      "model_module_version": "1.2.0",
      "model_name": "LayoutModel",
      "state": {
       "_model_module": "@jupyter-widgets/base",
       "_model_module_version": "1.2.0",
       "_model_name": "LayoutModel",
       "_view_count": null,
       "_view_module": "@jupyter-widgets/base",
       "_view_module_version": "1.2.0",
       "_view_name": "LayoutView",
       "align_content": null,
       "align_items": null,
       "align_self": "stretch",
       "border": null,
       "bottom": null,
       "display": null,
       "flex": null,
       "flex_flow": null,
       "grid_area": null,
       "grid_auto_columns": null,
       "grid_auto_flow": null,
       "grid_auto_rows": null,
       "grid_column": null,
       "grid_gap": null,
       "grid_row": null,
       "grid_template_areas": null,
       "grid_template_columns": null,
       "grid_template_rows": null,
       "height": "500px",
       "justify_content": null,
       "justify_items": null,
       "left": null,
       "margin": null,
       "max_height": null,
       "max_width": null,
       "min_height": null,
       "min_width": null,
       "object_fit": null,
       "object_position": null,
       "order": null,
       "overflow": null,
       "overflow_x": null,
       "overflow_y": null,
       "padding": null,
       "right": null,
       "top": null,
       "visibility": null,
       "width": null
      }
     },
     "754c3d51f3c648dcbfb47cb4b7063604": {
      "model_module": "catboost-widget",
      "model_module_version": "^1.0.0",
      "model_name": "CatboostWidgetModel",
      "state": {
       "_dom_classes": [],
       "_model_module": "catboost-widget",
       "_model_module_version": "^1.0.0",
       "_model_name": "CatboostWidgetModel",
       "_view_count": null,
       "_view_module": "catboost-widget",
       "_view_module_version": "^1.0.0",
       "_view_name": "CatboostWidgetView",
       "data": {
        "catboost_info": {
         "content": {
          "data": {
           "iterations": [
            {
             "iteration": 0,
             "learn": [
              0.6623787685
             ],
             "passed_time": 0.4335457474,
             "remaining_time": 42.921029,
             "test": [
              0.6642795137
             ]
            },
            {
             "iteration": 1,
             "learn": [
              0.6370871668
             ],
             "passed_time": 0.8015138439,
             "remaining_time": 39.27417835,
             "test": [
              0.6370895706
             ]
            },
            {
             "iteration": 2,
             "learn": [
              0.6108991714
             ],
             "passed_time": 1.249149261,
             "remaining_time": 40.38915942,
             "test": [
              0.6113745485
             ]
            },
            {
             "iteration": 3,
             "learn": [
              0.5859908986
             ],
             "passed_time": 1.659508625,
             "remaining_time": 39.828207,
             "test": [
              0.5870551418
             ]
            },
            {
             "iteration": 4,
             "learn": [
              0.5642621143
             ],
             "passed_time": 2.02100999,
             "remaining_time": 38.3991898,
             "test": [
              0.5640129877
             ]
            },
            {
             "iteration": 5,
             "learn": [
              0.5407341778
             ],
             "passed_time": 2.449426696,
             "remaining_time": 38.37435157,
             "test": [
              0.5423469178
             ]
            },
            {
             "iteration": 6,
             "learn": [
              0.520114676
             ],
             "passed_time": 2.885173235,
             "remaining_time": 38.33158726,
             "test": [
              0.5217368727
             ]
            },
            {
             "iteration": 7,
             "learn": [
              0.5018090604
             ],
             "passed_time": 3.29847277,
             "remaining_time": 37.93243685,
             "test": [
              0.5020507644
             ]
            },
            {
             "iteration": 8,
             "learn": [
              0.4822172866
             ],
             "passed_time": 3.694930521,
             "remaining_time": 37.35985305,
             "test": [
              0.4834844747
             ]
            },
            {
             "iteration": 9,
             "learn": [
              0.4645242818
             ],
             "passed_time": 4.092954203,
             "remaining_time": 36.83658782,
             "test": [
              0.4657319635
             ]
            },
            {
             "iteration": 10,
             "learn": [
              0.4478487511
             ],
             "passed_time": 4.532676905,
             "remaining_time": 36.67347677,
             "test": [
              0.4488673797
             ]
            },
            {
             "iteration": 11,
             "learn": [
              0.4321548854
             ],
             "passed_time": 4.941649253,
             "remaining_time": 36.23876119,
             "test": [
              0.4326851146
             ]
            },
            {
             "iteration": 12,
             "learn": [
              0.4164857895
             ],
             "passed_time": 5.362108049,
             "remaining_time": 35.88487694,
             "test": [
              0.4172104545
             ]
            },
            {
             "iteration": 13,
             "learn": [
              0.4014523491
             ],
             "passed_time": 5.772558427,
             "remaining_time": 35.46000177,
             "test": [
              0.402525159
             ]
            },
            {
             "iteration": 14,
             "learn": [
              0.387359665
             ],
             "passed_time": 6.189995089,
             "remaining_time": 35.07663884,
             "test": [
              0.3884596099
             ]
            },
            {
             "iteration": 15,
             "learn": [
              0.372636132
             ],
             "passed_time": 6.603629885,
             "remaining_time": 34.66905689,
             "test": [
              0.3749656834
             ]
            },
            {
             "iteration": 16,
             "learn": [
              0.3595640112
             ],
             "passed_time": 6.976501746,
             "remaining_time": 34.06174382,
             "test": [
              0.3620676279
             ]
            },
            {
             "iteration": 17,
             "learn": [
              0.3486064383
             ],
             "passed_time": 7.341342696,
             "remaining_time": 33.44389451,
             "test": [
              0.3496728522
             ]
            },
            {
             "iteration": 18,
             "learn": [
              0.3359484572
             ],
             "passed_time": 7.928877342,
             "remaining_time": 33.80205604,
             "test": [
              0.3379453587
             ]
            },
            {
             "iteration": 19,
             "learn": [
              0.3254477788
             ],
             "passed_time": 8.45638237,
             "remaining_time": 33.82552948,
             "test": [
              0.3265850551
             ]
            },
            {
             "iteration": 20,
             "learn": [
              0.3131824215
             ],
             "passed_time": 8.970776396,
             "remaining_time": 33.74720644,
             "test": [
              0.3156505674
             ]
            },
            {
             "iteration": 21,
             "learn": [
              0.3030376972
             ],
             "passed_time": 9.317952282,
             "remaining_time": 33.03637627,
             "test": [
              0.3051433607
             ]
            },
            {
             "iteration": 22,
             "learn": [
              0.2930678317
             ],
             "passed_time": 9.713765849,
             "remaining_time": 32.51999871,
             "test": [
              0.2951400247
             ]
            },
            {
             "iteration": 23,
             "learn": [
              0.2830530761
             ],
             "passed_time": 10.11151201,
             "remaining_time": 32.01978803,
             "test": [
              0.2855503951
             ]
            },
            {
             "iteration": 24,
             "learn": [
              0.2732955742
             ],
             "passed_time": 10.51780418,
             "remaining_time": 31.55341254,
             "test": [
              0.2764314251
             ]
            },
            {
             "iteration": 25,
             "learn": [
              0.2647847968
             ],
             "passed_time": 10.87738043,
             "remaining_time": 30.95869814,
             "test": [
              0.2675579426
             ]
            },
            {
             "iteration": 26,
             "learn": [
              0.2567698823
             ],
             "passed_time": 11.28034032,
             "remaining_time": 30.4986979,
             "test": [
              0.2589793431
             ]
            },
            {
             "iteration": 27,
             "learn": [
              0.248829149
             ],
             "passed_time": 11.67027611,
             "remaining_time": 30.00928143,
             "test": [
              0.2506978287
             ]
            },
            {
             "iteration": 28,
             "learn": [
              0.2406296123
             ],
             "passed_time": 12.06263298,
             "remaining_time": 29.53265315,
             "test": [
              0.2427091064
             ]
            },
            {
             "iteration": 29,
             "learn": [
              0.2328896041
             ],
             "passed_time": 12.47119376,
             "remaining_time": 29.0994521,
             "test": [
              0.235049901
             ]
            },
            {
             "iteration": 30,
             "learn": [
              0.2256819313
             ],
             "passed_time": 12.8818778,
             "remaining_time": 28.67256672,
             "test": [
              0.2277199722
             ]
            },
            {
             "iteration": 31,
             "learn": [
              0.2182220399
             ],
             "passed_time": 13.28291454,
             "remaining_time": 28.2261934,
             "test": [
              0.2207089793
             ]
            },
            {
             "iteration": 32,
             "learn": [
              0.2108903614
             ],
             "passed_time": 13.73773974,
             "remaining_time": 27.89177463,
             "test": [
              0.2139257018
             ]
            },
            {
             "iteration": 33,
             "learn": [
              0.2042878781
             ],
             "passed_time": 14.12764827,
             "remaining_time": 27.42425841,
             "test": [
              0.2074192824
             ]
            },
            {
             "iteration": 34,
             "learn": [
              0.1986939663
             ],
             "passed_time": 14.56738811,
             "remaining_time": 27.05372077,
             "test": [
              0.2011219752
             ]
            },
            {
             "iteration": 35,
             "learn": [
              0.1918362648
             ],
             "passed_time": 14.95885972,
             "remaining_time": 26.59352839,
             "test": [
              0.1950062171
             ]
            },
            {
             "iteration": 36,
             "learn": [
              0.1864432354
             ],
             "passed_time": 15.33020294,
             "remaining_time": 26.10277799,
             "test": [
              0.1891727586
             ]
            },
            {
             "iteration": 37,
             "learn": [
              0.1801396183
             ],
             "passed_time": 15.7622313,
             "remaining_time": 25.71732475,
             "test": [
              0.1835395377
             ]
            },
            {
             "iteration": 38,
             "learn": [
              0.1753938493
             ],
             "passed_time": 16.18975294,
             "remaining_time": 25.32243409,
             "test": [
              0.1780662883
             ]
            },
            {
             "iteration": 39,
             "learn": [
              0.1694526945
             ],
             "passed_time": 16.57585353,
             "remaining_time": 24.8637803,
             "test": [
              0.172770294
             ]
            },
            {
             "iteration": 40,
             "learn": [
              0.1643464657
             ],
             "passed_time": 16.98143947,
             "remaining_time": 24.43670557,
             "test": [
              0.167649144
             ]
            },
            {
             "iteration": 41,
             "learn": [
              0.1599324698
             ],
             "passed_time": 17.37042386,
             "remaining_time": 23.98772818,
             "test": [
              0.162685104
             ]
            },
            {
             "iteration": 42,
             "learn": [
              0.1550115715
             ],
             "passed_time": 17.81519024,
             "remaining_time": 23.61548474,
             "test": [
              0.1578593781
             ]
            },
            {
             "iteration": 43,
             "learn": [
              0.1500838258
             ],
             "passed_time": 18.2399999,
             "remaining_time": 23.21454533,
             "test": [
              0.1531590934
             ]
            },
            {
             "iteration": 44,
             "learn": [
              0.1453933196
             ],
             "passed_time": 18.64405181,
             "remaining_time": 22.78717444,
             "test": [
              0.148700895
             ]
            },
            {
             "iteration": 45,
             "learn": [
              0.141189949
             ],
             "passed_time": 19.02671986,
             "remaining_time": 22.33571462,
             "test": [
              0.1443373429
             ]
            },
            {
             "iteration": 46,
             "learn": [
              0.1371832674
             ],
             "passed_time": 19.42468336,
             "remaining_time": 21.90443017,
             "test": [
              0.1402478815
             ]
            },
            {
             "iteration": 47,
             "learn": [
              0.1332826687
             ],
             "passed_time": 19.7978352,
             "remaining_time": 21.4476548,
             "test": [
              0.1362399053
             ]
            },
            {
             "iteration": 48,
             "learn": [
              0.12940491
             ],
             "passed_time": 20.2056589,
             "remaining_time": 21.03037967,
             "test": [
              0.1323316223
             ]
            },
            {
             "iteration": 49,
             "learn": [
              0.1255419606
             ],
             "passed_time": 20.60594925,
             "remaining_time": 20.60594925,
             "test": [
              0.128649014
             ]
            },
            {
             "iteration": 50,
             "learn": [
              0.1217411693
             ],
             "passed_time": 20.98230278,
             "remaining_time": 20.15946737,
             "test": [
              0.1250141768
             ]
            },
            {
             "iteration": 51,
             "learn": [
              0.1182482344
             ],
             "passed_time": 21.40745348,
             "remaining_time": 19.76072629,
             "test": [
              0.121509846
             ]
            },
            {
             "iteration": 52,
             "learn": [
              0.1151376224
             ],
             "passed_time": 21.80456648,
             "remaining_time": 19.33612499,
             "test": [
              0.1180461684
             ]
            },
            {
             "iteration": 53,
             "learn": [
              0.1118755477
             ],
             "passed_time": 22.19779494,
             "remaining_time": 18.90923273,
             "test": [
              0.1147861784
             ]
            },
            {
             "iteration": 54,
             "learn": [
              0.1083125697
             ],
             "passed_time": 22.61477164,
             "remaining_time": 18.50299498,
             "test": [
              0.111666109
             ]
            },
            {
             "iteration": 55,
             "learn": [
              0.1055913274
             ],
             "passed_time": 23.02324132,
             "remaining_time": 18.08968961,
             "test": [
              0.1086460333
             ]
            },
            {
             "iteration": 56,
             "learn": [
              0.1023175361
             ],
             "passed_time": 23.44379629,
             "remaining_time": 17.68567088,
             "test": [
              0.1056738015
             ]
            },
            {
             "iteration": 57,
             "learn": [
              0.09973584608
             ],
             "passed_time": 23.82798311,
             "remaining_time": 17.25474639,
             "test": [
              0.1027856037
             ]
            },
            {
             "iteration": 58,
             "learn": [
              0.09659612786
             ],
             "passed_time": 24.2352911,
             "remaining_time": 16.84147347,
             "test": [
              0.09999064877
             ]
            },
            {
             "iteration": 59,
             "learn": [
              0.09414817572
             ],
             "passed_time": 24.64483834,
             "remaining_time": 16.42989223,
             "test": [
              0.0972807147
             ]
            },
            {
             "iteration": 60,
             "learn": [
              0.09128231901
             ],
             "passed_time": 25.06398245,
             "remaining_time": 16.02451337,
             "test": [
              0.09471472403
             ]
            },
            {
             "iteration": 61,
             "learn": [
              0.08870628121
             ],
             "passed_time": 25.46142963,
             "remaining_time": 15.60539235,
             "test": [
              0.09220703478
             ]
            },
            {
             "iteration": 62,
             "learn": [
              0.08650489055
             ],
             "passed_time": 25.855609,
             "remaining_time": 15.18504021,
             "test": [
              0.08971432227
             ]
            },
            {
             "iteration": 63,
             "learn": [
              0.08404140701
             ],
             "passed_time": 26.25180356,
             "remaining_time": 14.7666395,
             "test": [
              0.08733307722
             ]
            },
            {
             "iteration": 64,
             "learn": [
              0.08162665388
             ],
             "passed_time": 26.65036577,
             "remaining_time": 14.35019695,
             "test": [
              0.08504183766
             ]
            },
            {
             "iteration": 65,
             "learn": [
              0.07938457869
             ],
             "passed_time": 27.09273759,
             "remaining_time": 13.95686482,
             "test": [
              0.08276408324
             ]
            },
            {
             "iteration": 66,
             "learn": [
              0.07714923463
             ],
             "passed_time": 27.49988066,
             "remaining_time": 13.54471734,
             "test": [
              0.08062206022
             ]
            },
            {
             "iteration": 67,
             "learn": [
              0.07505176349
             ],
             "passed_time": 27.90411796,
             "remaining_time": 13.13134963,
             "test": [
              0.07858223884
             ]
            },
            {
             "iteration": 68,
             "learn": [
              0.07307122315
             ],
             "passed_time": 28.31566456,
             "remaining_time": 12.72153045,
             "test": [
              0.07648617579
             ]
            },
            {
             "iteration": 69,
             "learn": [
              0.07110689676
             ],
             "passed_time": 28.73141437,
             "remaining_time": 12.3134633,
             "test": [
              0.07448822735
             ]
            },
            {
             "iteration": 70,
             "learn": [
              0.06916436367
             ],
             "passed_time": 29.13467657,
             "remaining_time": 11.90007916,
             "test": [
              0.07260865662
             ]
            },
            {
             "iteration": 71,
             "learn": [
              0.06727197059
             ],
             "passed_time": 29.53690439,
             "remaining_time": 11.48657393,
             "test": [
              0.07078527806
             ]
            },
            {
             "iteration": 72,
             "learn": [
              0.06552041422
             ],
             "passed_time": 29.91954341,
             "remaining_time": 11.0661325,
             "test": [
              0.0689536695
             ]
            },
            {
             "iteration": 73,
             "learn": [
              0.06399435523
             ],
             "passed_time": 30.2964174,
             "remaining_time": 10.6446872,
             "test": [
              0.06725020253
             ]
            },
            {
             "iteration": 74,
             "learn": [
              0.06226518368
             ],
             "passed_time": 30.70779168,
             "remaining_time": 10.23593056,
             "test": [
              0.06556993966
             ]
            },
            {
             "iteration": 75,
             "learn": [
              0.06048694352
             ],
             "passed_time": 31.10659449,
             "remaining_time": 9.823135103,
             "test": [
              0.06397242199
             ]
            },
            {
             "iteration": 76,
             "learn": [
              0.0591482824
             ],
             "passed_time": 31.52045696,
             "remaining_time": 9.415201428,
             "test": [
              0.06240602892
             ]
            },
            {
             "iteration": 77,
             "learn": [
              0.05747063765
             ],
             "passed_time": 31.92071435,
             "remaining_time": 9.003278408,
             "test": [
              0.06089346417
             ]
            },
            {
             "iteration": 78,
             "learn": [
              0.05607211721
             ],
             "passed_time": 32.32453289,
             "remaining_time": 8.592597351,
             "test": [
              0.05943668787
             ]
            },
            {
             "iteration": 79,
             "learn": [
              0.05452609417
             ],
             "passed_time": 32.73035388,
             "remaining_time": 8.18258847,
             "test": [
              0.05801476555
             ]
            },
            {
             "iteration": 80,
             "learn": [
              0.05324402402
             ],
             "passed_time": 33.13828589,
             "remaining_time": 7.773178172,
             "test": [
              0.05664109446
             ]
            },
            {
             "iteration": 81,
             "learn": [
              0.05174940937
             ],
             "passed_time": 33.56070436,
             "remaining_time": 7.366983885,
             "test": [
              0.05523273
             ]
            },
            {
             "iteration": 82,
             "learn": [
              0.05051765999
             ],
             "passed_time": 33.95200821,
             "remaining_time": 6.954025778,
             "test": [
              0.05387096106
             ]
            },
            {
             "iteration": 83,
             "learn": [
              0.04927987629
             ],
             "passed_time": 34.36751704,
             "remaining_time": 6.546193722,
             "test": [
              0.05263555776
             ]
            },
            {
             "iteration": 84,
             "learn": [
              0.04795241291
             ],
             "passed_time": 34.74200824,
             "remaining_time": 6.13094263,
             "test": [
              0.05144546388
             ]
            },
            {
             "iteration": 85,
             "learn": [
              0.04672742761
             ],
             "passed_time": 35.12981303,
             "remaining_time": 5.718806773,
             "test": [
              0.05014336122
             ]
            },
            {
             "iteration": 86,
             "learn": [
              0.04561123735
             ],
             "passed_time": 35.52746538,
             "remaining_time": 5.308701723,
             "test": [
              0.04899532265
             ]
            },
            {
             "iteration": 87,
             "learn": [
              0.04453008052
             ],
             "passed_time": 35.91897886,
             "remaining_time": 4.898042571,
             "test": [
              0.04784419371
             ]
            },
            {
             "iteration": 88,
             "learn": [
              0.04340534727
             ],
             "passed_time": 36.36601357,
             "remaining_time": 4.494675835,
             "test": [
              0.04672778132
             ]
            },
            {
             "iteration": 89,
             "learn": [
              0.04232077907
             ],
             "passed_time": 36.77551353,
             "remaining_time": 4.08616817,
             "test": [
              0.04570199651
             ]
            },
            {
             "iteration": 90,
             "learn": [
              0.04126938288
             ],
             "passed_time": 37.19546796,
             "remaining_time": 3.678672656,
             "test": [
              0.04466191101
             ]
            },
            {
             "iteration": 91,
             "learn": [
              0.04028569918
             ],
             "passed_time": 37.57315837,
             "remaining_time": 3.267231163,
             "test": [
              0.04366947125
             ]
            },
            {
             "iteration": 92,
             "learn": [
              0.03929999064
             ],
             "passed_time": 38.00467815,
             "remaining_time": 2.860567172,
             "test": [
              0.04270607899
             ]
            },
            {
             "iteration": 93,
             "learn": [
              0.03838399156
             ],
             "passed_time": 38.39713181,
             "remaining_time": 2.450880754,
             "test": [
              0.04171536909
             ]
            },
            {
             "iteration": 94,
             "learn": [
              0.03746246497
             ],
             "passed_time": 38.81201546,
             "remaining_time": 2.042737656,
             "test": [
              0.0407563519
             ]
            },
            {
             "iteration": 95,
             "learn": [
              0.03660128406
             ],
             "passed_time": 39.24191941,
             "remaining_time": 1.635079976,
             "test": [
              0.03979254065
             ]
            },
            {
             "iteration": 96,
             "learn": [
              0.03571326392
             ],
             "passed_time": 39.84646368,
             "remaining_time": 1.232364856,
             "test": [
              0.03889890692
             ]
            },
            {
             "iteration": 97,
             "learn": [
              0.03490959326
             ],
             "passed_time": 40.43715328,
             "remaining_time": 0.8252480262,
             "test": [
              0.03803947271
             ]
            },
            {
             "iteration": 98,
             "learn": [
              0.03412260742
             ],
             "passed_time": 40.88423678,
             "remaining_time": 0.4129720887,
             "test": [
              0.03728468002
             ]
            },
            {
             "iteration": 99,
             "learn": [
              0.03329591954
             ],
             "passed_time": 41.27631682,
             "remaining_time": 0,
             "test": [
              0.03646687782
             ]
            }
           ],
           "meta": {
            "iteration_count": 100,
            "launch_mode": "Train",
            "learn_metrics": [
             {
              "best_value": "Min",
              "name": "CrossEntropy"
             }
            ],
            "learn_sets": [
             "learn"
            ],
            "name": "experiment",
            "parameters": "",
            "test_metrics": [
             {
              "best_value": "Min",
              "name": "CrossEntropy"
             }
            ],
            "test_sets": [
             "test"
            ]
           }
          },
          "passed_iterations": 99,
          "total_iterations": 100
         },
         "name": "catboost_info",
         "path": "catboost_info"
        }
       },
       "layout": "IPY_MODEL_2aeea1c7d8d248e59e50e99a04231c28"
      }
     },
     "76a64857e0a14390bd78e85e6ef13bb2": {
      "model_module": "catboost-widget",
      "model_module_version": "^1.0.0",
      "model_name": "CatboostWidgetModel",
      "state": {
       "_dom_classes": [],
       "_model_module": "catboost-widget",
       "_model_module_version": "^1.0.0",
       "_model_name": "CatboostWidgetModel",
       "_view_count": null,
       "_view_module": "catboost-widget",
       "_view_module_version": "^1.0.0",
       "_view_name": "CatboostWidgetView",
       "data": {
        "catboost_info": {
         "content": {
          "data": {
           "iterations": [
            {
             "iteration": 0,
             "learn": [
              0.6613968619
             ],
             "passed_time": 0.4114567179,
             "remaining_time": 40.73421507,
             "test": [
              0.663666251
             ]
            },
            {
             "iteration": 1,
             "learn": [
              0.6363229651
             ],
             "passed_time": 0.8164276628,
             "remaining_time": 40.00495548,
             "test": [
              0.6359030464
             ]
            },
            {
             "iteration": 2,
             "learn": [
              0.6093977116
             ],
             "passed_time": 1.200095137,
             "remaining_time": 38.80307608,
             "test": [
              0.6097135679
             ]
            },
            {
             "iteration": 3,
             "learn": [
              0.5837559923
             ],
             "passed_time": 1.610724431,
             "remaining_time": 38.65738635,
             "test": [
              0.5849654324
             ]
            },
            {
             "iteration": 4,
             "learn": [
              0.5622355813
             ],
             "passed_time": 1.997845969,
             "remaining_time": 37.9590734,
             "test": [
              0.56154836
             ]
            },
            {
             "iteration": 5,
             "learn": [
              0.5378523735
             ],
             "passed_time": 2.404697434,
             "remaining_time": 37.67359313,
             "test": [
              0.5393603453
             ]
            },
            {
             "iteration": 6,
             "learn": [
              0.5169349929
             ],
             "passed_time": 2.809545362,
             "remaining_time": 37.32681695,
             "test": [
              0.5183093071
             ]
            },
            {
             "iteration": 7,
             "learn": [
              0.4987579972
             ],
             "passed_time": 3.173174927,
             "remaining_time": 36.49151166,
             "test": [
              0.4983157883
             ]
            },
            {
             "iteration": 8,
             "learn": [
              0.4785998672
             ],
             "passed_time": 3.667466309,
             "remaining_time": 37.08215934,
             "test": [
              0.4793072237
             ]
            },
            {
             "iteration": 9,
             "learn": [
              0.4606581
             ],
             "passed_time": 4.055210936,
             "remaining_time": 36.49689843,
             "test": [
              0.4612139742
             ]
            },
            {
             "iteration": 10,
             "learn": [
              0.4439934387
             ],
             "passed_time": 4.450333726,
             "remaining_time": 36.0072456,
             "test": [
              0.4439758343
             ]
            },
            {
             "iteration": 11,
             "learn": [
              0.4281383314
             ],
             "passed_time": 4.860478327,
             "remaining_time": 35.64350773,
             "test": [
              0.4275160828
             ]
            },
            {
             "iteration": 12,
             "learn": [
              0.4122913482
             ],
             "passed_time": 5.317909358,
             "remaining_time": 35.58908571,
             "test": [
              0.4118311879
             ]
            },
            {
             "iteration": 13,
             "learn": [
              0.3968811759
             ],
             "passed_time": 5.687377279,
             "remaining_time": 34.93674615,
             "test": [
              0.3968525674
             ]
            },
            {
             "iteration": 14,
             "learn": [
              0.3825284853
             ],
             "passed_time": 6.117894768,
             "remaining_time": 34.66807035,
             "test": [
              0.3825367377
             ]
            },
            {
             "iteration": 15,
             "learn": [
              0.3674524106
             ],
             "passed_time": 6.558894016,
             "remaining_time": 34.43419358,
             "test": [
              0.3688478063
             ]
            },
            {
             "iteration": 16,
             "learn": [
              0.354078376
             ],
             "passed_time": 6.948629925,
             "remaining_time": 33.92566375,
             "test": [
              0.3557477091
             ]
            },
            {
             "iteration": 17,
             "learn": [
              0.3433141996
             ],
             "passed_time": 7.381398412,
             "remaining_time": 33.62637054,
             "test": [
              0.3432042716
             ]
            },
            {
             "iteration": 18,
             "learn": [
              0.3302127189
             ],
             "passed_time": 7.76939391,
             "remaining_time": 33.12215299,
             "test": [
              0.3311857626
             ]
            },
            {
             "iteration": 19,
             "learn": [
              0.3198032679
             ],
             "passed_time": 8.174397123,
             "remaining_time": 32.69758849,
             "test": [
              0.3196670588
             ]
            },
            {
             "iteration": 20,
             "learn": [
              0.3071982296
             ],
             "passed_time": 8.650729818,
             "remaining_time": 32.5432217,
             "test": [
              0.3086215006
             ]
            },
            {
             "iteration": 21,
             "learn": [
              0.2970207786
             ],
             "passed_time": 9.059994561,
             "remaining_time": 32.1217989,
             "test": [
              0.2980198509
             ]
            },
            {
             "iteration": 22,
             "learn": [
              0.2869840927
             ],
             "passed_time": 9.515670476,
             "remaining_time": 31.85680985,
             "test": [
              0.2878462242
             ]
            },
            {
             "iteration": 23,
             "learn": [
              0.2767114795
             ],
             "passed_time": 9.936157818,
             "remaining_time": 31.46449976,
             "test": [
              0.2780694658
             ]
            },
            {
             "iteration": 24,
             "learn": [
              0.266727815
             ],
             "passed_time": 10.30288265,
             "remaining_time": 30.90864794,
             "test": [
              0.2686828636
             ]
            },
            {
             "iteration": 25,
             "learn": [
              0.2581520113
             ],
             "passed_time": 10.67106028,
             "remaining_time": 30.37147925,
             "test": [
              0.2596612179
             ]
            },
            {
             "iteration": 26,
             "learn": [
              0.2501256424
             ],
             "passed_time": 11.11759844,
             "remaining_time": 30.05869209,
             "test": [
              0.2509888746
             ]
            },
            {
             "iteration": 27,
             "learn": [
              0.2421357336
             ],
             "passed_time": 11.49935475,
             "remaining_time": 29.56976937,
             "test": [
              0.2426464437
             ]
            },
            {
             "iteration": 28,
             "learn": [
              0.2338712167
             ],
             "passed_time": 11.8769144,
             "remaining_time": 29.07796284,
             "test": [
              0.2346204784
             ]
            },
            {
             "iteration": 29,
             "learn": [
              0.2260491616
             ],
             "passed_time": 12.29725167,
             "remaining_time": 28.69358723,
             "test": [
              0.2268963848
             ]
            },
            {
             "iteration": 30,
             "learn": [
              0.2186993017
             ],
             "passed_time": 12.72485202,
             "remaining_time": 28.32305773,
             "test": [
              0.2193499474
             ]
            },
            {
             "iteration": 31,
             "learn": [
              0.2111085724
             ],
             "passed_time": 13.20397721,
             "remaining_time": 28.05845157,
             "test": [
              0.2121888714
             ]
            },
            {
             "iteration": 32,
             "learn": [
              0.2035722304
             ],
             "passed_time": 13.61407244,
             "remaining_time": 27.64069253,
             "test": [
              0.205154552
             ]
            },
            {
             "iteration": 33,
             "learn": [
              0.1967805465
             ],
             "passed_time": 14.02706725,
             "remaining_time": 27.22901289,
             "test": [
              0.1985073596
             ]
            },
            {
             "iteration": 34,
             "learn": [
              0.1913607434
             ],
             "passed_time": 14.50889871,
             "remaining_time": 26.9450976,
             "test": [
              0.1921012825
             ]
            },
            {
             "iteration": 35,
             "learn": [
              0.1841819455
             ],
             "passed_time": 15.05664279,
             "remaining_time": 26.76736496,
             "test": [
              0.185808507
             ]
            },
            {
             "iteration": 36,
             "learn": [
              0.1789712328
             ],
             "passed_time": 15.63616294,
             "remaining_time": 26.62373689,
             "test": [
              0.1798540627
             ]
            },
            {
             "iteration": 37,
             "learn": [
              0.1724534825
             ],
             "passed_time": 16.15852334,
             "remaining_time": 26.36390649,
             "test": [
              0.1740492786
             ]
            },
            {
             "iteration": 38,
             "learn": [
              0.1678513956
             ],
             "passed_time": 16.65659237,
             "remaining_time": 26.05261884,
             "test": [
              0.1685097914
             ]
            },
            {
             "iteration": 39,
             "learn": [
              0.1616724398
             ],
             "passed_time": 17.0230733,
             "remaining_time": 25.53460995,
             "test": [
              0.1631631725
             ]
            },
            {
             "iteration": 40,
             "learn": [
              0.1565415609
             ],
             "passed_time": 17.39874101,
             "remaining_time": 25.03721267,
             "test": [
              0.1578761912
             ]
            },
            {
             "iteration": 41,
             "learn": [
              0.1522081594
             ],
             "passed_time": 17.89355234,
             "remaining_time": 24.7101437,
             "test": [
              0.1528980507
             ]
            },
            {
             "iteration": 42,
             "learn": [
              0.1472167212
             ],
             "passed_time": 18.20765129,
             "remaining_time": 24.13572381,
             "test": [
              0.1479718763
             ]
            },
            {
             "iteration": 43,
             "learn": [
              0.1420986743
             ],
             "passed_time": 18.6152965,
             "remaining_time": 23.69219554,
             "test": [
              0.1433300386
             ]
            },
            {
             "iteration": 44,
             "learn": [
              0.1373653704
             ],
             "passed_time": 19.00619015,
             "remaining_time": 23.22978796,
             "test": [
              0.138848481
             ]
            },
            {
             "iteration": 45,
             "learn": [
              0.1331279061
             ],
             "passed_time": 19.36167807,
             "remaining_time": 22.72892643,
             "test": [
              0.1344085255
             ]
            },
            {
             "iteration": 46,
             "learn": [
              0.129125667
             ],
             "passed_time": 19.80939582,
             "remaining_time": 22.33825486,
             "test": [
              0.1302271851
             ]
            },
            {
             "iteration": 47,
             "learn": [
              0.1251980753
             ],
             "passed_time": 20.18066377,
             "remaining_time": 21.86238575,
             "test": [
              0.1260807954
             ]
            },
            {
             "iteration": 48,
             "learn": [
              0.1212875636
             ],
             "passed_time": 20.66343015,
             "remaining_time": 21.50683546,
             "test": [
              0.1221759353
             ]
            },
            {
             "iteration": 49,
             "learn": [
              0.1174051326
             ],
             "passed_time": 21.10037012,
             "remaining_time": 21.10037012,
             "test": [
              0.1184033208
             ]
            },
            {
             "iteration": 50,
             "learn": [
              0.113551328
             ],
             "passed_time": 21.4819961,
             "remaining_time": 20.63956488,
             "test": [
              0.1147560272
             ]
            },
            {
             "iteration": 51,
             "learn": [
              0.1099864912
             ],
             "passed_time": 21.93908215,
             "remaining_time": 20.25146045,
             "test": [
              0.1112295765
             ]
            },
            {
             "iteration": 52,
             "learn": [
              0.1071269007
             ],
             "passed_time": 22.30770793,
             "remaining_time": 19.78230703,
             "test": [
              0.1078222651
             ]
            },
            {
             "iteration": 53,
             "learn": [
              0.1036274768
             ],
             "passed_time": 22.68652774,
             "remaining_time": 19.32556067,
             "test": [
              0.1045282588
             ]
            },
            {
             "iteration": 54,
             "learn": [
              0.09997985131
             ],
             "passed_time": 23.14146191,
             "remaining_time": 18.93392338,
             "test": [
              0.1013428248
             ]
            },
            {
             "iteration": 55,
             "learn": [
              0.09735496224
             ],
             "passed_time": 23.52576676,
             "remaining_time": 18.48453102,
             "test": [
              0.09819755789
             ]
            },
            {
             "iteration": 56,
             "learn": [
              0.09400370453
             ],
             "passed_time": 24.01259828,
             "remaining_time": 18.11476712,
             "test": [
              0.09521910834
             ]
            },
            {
             "iteration": 57,
             "learn": [
              0.09144215157
             ],
             "passed_time": 24.43607543,
             "remaining_time": 17.69508911,
             "test": [
              0.0923365405
             ]
            },
            {
             "iteration": 58,
             "learn": [
              0.08820461135
             ],
             "passed_time": 24.81892597,
             "remaining_time": 17.24705025,
             "test": [
              0.08954792884
             ]
            },
            {
             "iteration": 59,
             "learn": [
              0.08572613565
             ],
             "passed_time": 25.18681868,
             "remaining_time": 16.79121246,
             "test": [
              0.08672800964
             ]
            },
            {
             "iteration": 60,
             "learn": [
              0.08284138386
             ],
             "passed_time": 25.67418768,
             "remaining_time": 16.41464458,
             "test": [
              0.08411839867
             ]
            },
            {
             "iteration": 61,
             "learn": [
              0.08034643505
             ],
             "passed_time": 26.09712725,
             "remaining_time": 15.99501348,
             "test": [
              0.08159352719
             ]
            },
            {
             "iteration": 62,
             "learn": [
              0.07820265131
             ],
             "passed_time": 26.51933929,
             "remaining_time": 15.57485006,
             "test": [
              0.07914979322
             ]
            },
            {
             "iteration": 63,
             "learn": [
              0.07572724518
             ],
             "passed_time": 26.94778553,
             "remaining_time": 15.15812936,
             "test": [
              0.07666808954
             ]
            },
            {
             "iteration": 64,
             "learn": [
              0.07320190631
             ],
             "passed_time": 27.33163308,
             "remaining_time": 14.7170332,
             "test": [
              0.07428069305
             ]
            },
            {
             "iteration": 65,
             "learn": [
              0.07087439829
             ],
             "passed_time": 27.78138369,
             "remaining_time": 14.3116219,
             "test": [
              0.07206540715
             ]
            },
            {
             "iteration": 66,
             "learn": [
              0.06871973085
             ],
             "passed_time": 28.17752476,
             "remaining_time": 13.87848234,
             "test": [
              0.06981758454
             ]
            },
            {
             "iteration": 67,
             "learn": [
              0.06666947031
             ],
             "passed_time": 28.63019505,
             "remaining_time": 13.47303297,
             "test": [
              0.06774108767
             ]
            },
            {
             "iteration": 68,
             "learn": [
              0.0646991472
             ],
             "passed_time": 28.98661601,
             "remaining_time": 13.02297241,
             "test": [
              0.06573010243
             ]
            },
            {
             "iteration": 69,
             "learn": [
              0.06273973476
             ],
             "passed_time": 29.37933299,
             "remaining_time": 12.59114271,
             "test": [
              0.06368562363
             ]
            },
            {
             "iteration": 70,
             "learn": [
              0.06080068956
             ],
             "passed_time": 29.71284877,
             "remaining_time": 12.136234,
             "test": [
              0.06179912808
             ]
            },
            {
             "iteration": 71,
             "learn": [
              0.05890354027
             ],
             "passed_time": 30.06826403,
             "remaining_time": 11.69321379,
             "test": [
              0.05997447331
             ]
            },
            {
             "iteration": 72,
             "learn": [
              0.05710203952
             ],
             "passed_time": 30.40481971,
             "remaining_time": 11.24561825,
             "test": [
              0.0581195127
             ]
            },
            {
             "iteration": 73,
             "learn": [
              0.05565426836
             ],
             "passed_time": 30.80502331,
             "remaining_time": 10.82338657,
             "test": [
              0.056408341
             ]
            },
            {
             "iteration": 74,
             "learn": [
              0.05389818764
             ],
             "passed_time": 31.21311029,
             "remaining_time": 10.4043701,
             "test": [
              0.05466659334
             ]
            },
            {
             "iteration": 75,
             "learn": [
              0.05206147064
             ],
             "passed_time": 31.62692013,
             "remaining_time": 9.987448462,
             "test": [
              0.05297431481
             ]
            },
            {
             "iteration": 76,
             "learn": [
              0.05074864984
             ],
             "passed_time": 32.03865182,
             "remaining_time": 9.569986908,
             "test": [
              0.05135271703
             ]
            },
            {
             "iteration": 77,
             "learn": [
              0.04904879052
             ],
             "passed_time": 32.46336356,
             "remaining_time": 9.156333312,
             "test": [
              0.04977047592
             ]
            },
            {
             "iteration": 78,
             "learn": [
              0.04756963784
             ],
             "passed_time": 32.85692227,
             "remaining_time": 8.734118578,
             "test": [
              0.04830973662
             ]
            },
            {
             "iteration": 79,
             "learn": [
              0.04612641973
             ],
             "passed_time": 33.24524346,
             "remaining_time": 8.311310865,
             "test": [
              0.04687249091
             ]
            },
            {
             "iteration": 80,
             "learn": [
              0.04486356422
             ],
             "passed_time": 33.6407714,
             "remaining_time": 7.891045144,
             "test": [
              0.04542778993
             ]
            },
            {
             "iteration": 81,
             "learn": [
              0.04330418861
             ],
             "passed_time": 33.9964825,
             "remaining_time": 7.4626425,
             "test": [
              0.04404077389
             ]
            },
            {
             "iteration": 82,
             "learn": [
              0.04216156204
             ],
             "passed_time": 34.37926732,
             "remaining_time": 7.041536681,
             "test": [
              0.04269229249
             ]
            },
            {
             "iteration": 83,
             "learn": [
              0.04091164548
             ],
             "passed_time": 34.75404661,
             "remaining_time": 6.619818402,
             "test": [
              0.0413906253
             ]
            },
            {
             "iteration": 84,
             "learn": [
              0.03955914912
             ],
             "passed_time": 35.10858101,
             "remaining_time": 6.195631943,
             "test": [
              0.0401798971
             ]
            },
            {
             "iteration": 85,
             "learn": [
              0.03833391738
             ],
             "passed_time": 35.45490332,
             "remaining_time": 5.771728447,
             "test": [
              0.03894975368
             ]
            },
            {
             "iteration": 86,
             "learn": [
              0.0372840168
             ],
             "passed_time": 35.84702671,
             "remaining_time": 5.356452267,
             "test": [
              0.03777025347
             ]
            },
            {
             "iteration": 87,
             "learn": [
              0.03623143343
             ],
             "passed_time": 36.16550317,
             "remaining_time": 4.931659523,
             "test": [
              0.03661962407
             ]
            },
            {
             "iteration": 88,
             "learn": [
              0.03507177279
             ],
             "passed_time": 36.64372168,
             "remaining_time": 4.528999308,
             "test": [
              0.03555364914
             ]
            },
            {
             "iteration": 89,
             "learn": [
              0.03402442795
             ],
             "passed_time": 37.04226944,
             "remaining_time": 4.115807715,
             "test": [
              0.03447314616
             ]
            },
            {
             "iteration": 90,
             "learn": [
              0.03300149349
             ],
             "passed_time": 37.39842207,
             "remaining_time": 3.69874504,
             "test": [
              0.03342561003
             ]
            },
            {
             "iteration": 91,
             "learn": [
              0.03200611722
             ],
             "passed_time": 37.75815594,
             "remaining_time": 3.283317908,
             "test": [
              0.03241392916
             ]
            },
            {
             "iteration": 92,
             "learn": [
              0.03103161828
             ],
             "passed_time": 38.21052323,
             "remaining_time": 2.876060888,
             "test": [
              0.03147127384
             ]
            },
            {
             "iteration": 93,
             "learn": [
              0.03009706666
             ],
             "passed_time": 38.55664208,
             "remaining_time": 2.46106226,
             "test": [
              0.03051740459
             ]
            },
            {
             "iteration": 94,
             "learn": [
              0.02918975533
             ],
             "passed_time": 39.01889837,
             "remaining_time": 2.05362623,
             "test": [
              0.02963274508
             ]
            },
            {
             "iteration": 95,
             "learn": [
              0.02840950075
             ],
             "passed_time": 39.47930205,
             "remaining_time": 1.644970919,
             "test": [
              0.02877528533
             ]
            },
            {
             "iteration": 96,
             "learn": [
              0.02751159927
             ],
             "passed_time": 39.8668331,
             "remaining_time": 1.232994838,
             "test": [
              0.02790431405
             ]
            },
            {
             "iteration": 97,
             "learn": [
              0.02662816898
             ],
             "passed_time": 40.18947454,
             "remaining_time": 0.8201933579,
             "test": [
              0.02706271347
             ]
            },
            {
             "iteration": 98,
             "learn": [
              0.0259449225
             ],
             "passed_time": 40.63441909,
             "remaining_time": 0.4104486777,
             "test": [
              0.02628148487
             ]
            },
            {
             "iteration": 99,
             "learn": [
              0.02508414306
             ],
             "passed_time": 40.98544157,
             "remaining_time": 0,
             "test": [
              0.02549127126
             ]
            }
           ],
           "meta": {
            "iteration_count": 100,
            "launch_mode": "Train",
            "learn_metrics": [
             {
              "best_value": "Min",
              "name": "CrossEntropy"
             }
            ],
            "learn_sets": [
             "learn"
            ],
            "name": "experiment",
            "parameters": "",
            "test_metrics": [
             {
              "best_value": "Min",
              "name": "CrossEntropy"
             }
            ],
            "test_sets": [
             "test"
            ]
           }
          },
          "passed_iterations": 99,
          "total_iterations": 100
         },
         "name": "catboost_info",
         "path": "catboost_info"
        }
       },
       "layout": "IPY_MODEL_b680fa0ca75a496eb591433c484ad51c"
      }
     },
     "77f7e95e0b874525a1911e99360e4a2a": {
      "model_module": "catboost-widget",
      "model_module_version": "^1.0.0",
      "model_name": "CatboostWidgetModel",
      "state": {
       "_dom_classes": [],
       "_model_module": "catboost-widget",
       "_model_module_version": "^1.0.0",
       "_model_name": "CatboostWidgetModel",
       "_view_count": null,
       "_view_module": "catboost-widget",
       "_view_module_version": "^1.0.0",
       "_view_name": "CatboostWidgetView",
       "data": {
        "catboost_info": {
         "content": {
          "data": {
           "iterations": [
            {
             "iteration": 0,
             "learn": [
              0.674588184
             ],
             "passed_time": 0.4686698972,
             "remaining_time": 46.39831982,
             "test": [
              0.6737792454
             ]
            },
            {
             "iteration": 1,
             "learn": [
              0.6585753902
             ],
             "passed_time": 0.9016446212,
             "remaining_time": 44.18058644,
             "test": [
              0.6554576357
             ]
            },
            {
             "iteration": 2,
             "learn": [
              0.6402763831
             ],
             "passed_time": 1.379880301,
             "remaining_time": 44.61612972,
             "test": [
              0.6383968247
             ]
            },
            {
             "iteration": 3,
             "learn": [
              0.625527148
             ],
             "passed_time": 1.814034642,
             "remaining_time": 43.53683142,
             "test": [
              0.6219307471
             ]
            },
            {
             "iteration": 4,
             "learn": [
              0.6113958439
             ],
             "passed_time": 2.250050623,
             "remaining_time": 42.75096184,
             "test": [
              0.6063711827
             ]
            },
            {
             "iteration": 5,
             "learn": [
              0.5969590925
             ],
             "passed_time": 2.686893621,
             "remaining_time": 42.09466672,
             "test": [
              0.5916319419
             ]
            },
            {
             "iteration": 6,
             "learn": [
              0.5836252198
             ],
             "passed_time": 3.119606675,
             "remaining_time": 41.44620297,
             "test": [
              0.5777722352
             ]
            },
            {
             "iteration": 7,
             "learn": [
              0.5710016944
             ],
             "passed_time": 3.510937738,
             "remaining_time": 40.37578399,
             "test": [
              0.5648945675
             ]
            },
            {
             "iteration": 8,
             "learn": [
              0.5588224329
             ],
             "passed_time": 3.945375299,
             "remaining_time": 39.89212802,
             "test": [
              0.5522187742
             ]
            },
            {
             "iteration": 9,
             "learn": [
              0.5464164999
             ],
             "passed_time": 4.36402237,
             "remaining_time": 39.27620133,
             "test": [
              0.5397597066
             ]
            },
            {
             "iteration": 10,
             "learn": [
              0.5351637222
             ],
             "passed_time": 4.799507939,
             "remaining_time": 38.83238241,
             "test": [
              0.5281604081
             ]
            },
            {
             "iteration": 11,
             "learn": [
              0.5250381844
             ],
             "passed_time": 5.218308648,
             "remaining_time": 38.26759675,
             "test": [
              0.5171358024
             ]
            },
            {
             "iteration": 12,
             "learn": [
              0.5149279574
             ],
             "passed_time": 5.616302395,
             "remaining_time": 37.58602372,
             "test": [
              0.50664925
             ]
            },
            {
             "iteration": 13,
             "learn": [
              0.5053781377
             ],
             "passed_time": 5.997485933,
             "remaining_time": 36.84169931,
             "test": [
              0.4967689305
             ]
            },
            {
             "iteration": 14,
             "learn": [
              0.4954801845
             ],
             "passed_time": 6.428791905,
             "remaining_time": 36.42982079,
             "test": [
              0.4866833595
             ]
            },
            {
             "iteration": 15,
             "learn": [
              0.4861164489
             ],
             "passed_time": 6.815007671,
             "remaining_time": 35.77879027,
             "test": [
              0.4774271528
             ]
            },
            {
             "iteration": 16,
             "learn": [
              0.4773000175
             ],
             "passed_time": 7.254007837,
             "remaining_time": 35.4166265,
             "test": [
              0.4681063772
             ]
            },
            {
             "iteration": 17,
             "learn": [
              0.4690859341
             ],
             "passed_time": 7.624096562,
             "remaining_time": 34.73199545,
             "test": [
              0.4595297667
             ]
            },
            {
             "iteration": 18,
             "learn": [
              0.4604527392
             ],
             "passed_time": 8.051817846,
             "remaining_time": 34.32617082,
             "test": [
              0.4508572942
             ]
            },
            {
             "iteration": 19,
             "learn": [
              0.4527578898
             ],
             "passed_time": 8.436888318,
             "remaining_time": 33.74755327,
             "test": [
              0.442885789
             ]
            },
            {
             "iteration": 20,
             "learn": [
              0.4452816385
             ],
             "passed_time": 8.864823826,
             "remaining_time": 33.34862297,
             "test": [
              0.435139677
             ]
            },
            {
             "iteration": 21,
             "learn": [
              0.438049011
             ],
             "passed_time": 9.269970266,
             "remaining_time": 32.86625822,
             "test": [
              0.4274625082
             ]
            },
            {
             "iteration": 22,
             "learn": [
              0.4306500167
             ],
             "passed_time": 9.644403116,
             "remaining_time": 32.28778434,
             "test": [
              0.4201662714
             ]
            },
            {
             "iteration": 23,
             "learn": [
              0.4244155571
             ],
             "passed_time": 10.05525612,
             "remaining_time": 31.84164438,
             "test": [
              0.4135658766
             ]
            },
            {
             "iteration": 24,
             "learn": [
              0.4163077791
             ],
             "passed_time": 10.44671587,
             "remaining_time": 31.3401476,
             "test": [
              0.4052028617
             ]
            },
            {
             "iteration": 25,
             "learn": [
              0.4086983491
             ],
             "passed_time": 10.83791525,
             "remaining_time": 30.84637418,
             "test": [
              0.3977801394
             ]
            },
            {
             "iteration": 26,
             "learn": [
              0.4026146799
             ],
             "passed_time": 11.25686197,
             "remaining_time": 30.43521941,
             "test": [
              0.3915470763
             ]
            },
            {
             "iteration": 27,
             "learn": [
              0.3955822726
             ],
             "passed_time": 11.67233655,
             "remaining_time": 30.0145797,
             "test": [
              0.3844422335
             ]
            },
            {
             "iteration": 28,
             "learn": [
              0.3894231802
             ],
             "passed_time": 12.16535336,
             "remaining_time": 29.78414098,
             "test": [
              0.37838406
             ]
            },
            {
             "iteration": 29,
             "learn": [
              0.3835861272
             ],
             "passed_time": 12.75402545,
             "remaining_time": 29.75939271,
             "test": [
              0.3724016417
             ]
            },
            {
             "iteration": 30,
             "learn": [
              0.375834521
             ],
             "passed_time": 13.33372561,
             "remaining_time": 29.67829248,
             "test": [
              0.3644914439
             ]
            },
            {
             "iteration": 31,
             "learn": [
              0.3684635571
             ],
             "passed_time": 13.75636488,
             "remaining_time": 29.23227538,
             "test": [
              0.3569241571
             ]
            },
            {
             "iteration": 32,
             "learn": [
              0.3627245997
             ],
             "passed_time": 14.15477573,
             "remaining_time": 28.73848405,
             "test": [
              0.3510011795
             ]
            },
            {
             "iteration": 33,
             "learn": [
              0.3572372298
             ],
             "passed_time": 14.60440954,
             "remaining_time": 28.34973616,
             "test": [
              0.3455775504
             ]
            },
            {
             "iteration": 34,
             "learn": [
              0.351474338
             ],
             "passed_time": 14.99723376,
             "remaining_time": 27.85200556,
             "test": [
              0.3399848807
             ]
            },
            {
             "iteration": 35,
             "learn": [
              0.3464612036
             ],
             "passed_time": 15.45700598,
             "remaining_time": 27.47912174,
             "test": [
              0.3348706307
             ]
            },
            {
             "iteration": 36,
             "learn": [
              0.3411124441
             ],
             "passed_time": 15.84907317,
             "remaining_time": 26.98625972,
             "test": [
              0.329209426
             ]
            },
            {
             "iteration": 37,
             "learn": [
              0.336217348
             ],
             "passed_time": 16.30137724,
             "remaining_time": 26.59698391,
             "test": [
              0.3244874776
             ]
            },
            {
             "iteration": 38,
             "learn": [
              0.3299699976
             ],
             "passed_time": 16.71384193,
             "remaining_time": 26.14216301,
             "test": [
              0.318382904
             ]
            },
            {
             "iteration": 39,
             "learn": [
              0.3258500879
             ],
             "passed_time": 17.14706957,
             "remaining_time": 25.72060436,
             "test": [
              0.3141582905
             ]
            },
            {
             "iteration": 40,
             "learn": [
              0.319894504
             ],
             "passed_time": 17.56643425,
             "remaining_time": 25.27852734,
             "test": [
              0.3083387695
             ]
            },
            {
             "iteration": 41,
             "learn": [
              0.3150958228
             ],
             "passed_time": 18.03716879,
             "remaining_time": 24.90847118,
             "test": [
              0.303328169
             ]
            },
            {
             "iteration": 42,
             "learn": [
              0.3096333497
             ],
             "passed_time": 18.45120341,
             "remaining_time": 24.45857196,
             "test": [
              0.2980023713
             ]
            },
            {
             "iteration": 43,
             "learn": [
              0.3059243801
             ],
             "passed_time": 18.85351404,
             "remaining_time": 23.99538151,
             "test": [
              0.2942985925
             ]
            },
            {
             "iteration": 44,
             "learn": [
              0.3017809957
             ],
             "passed_time": 19.30673443,
             "remaining_time": 23.59711986,
             "test": [
              0.2903228575
             ]
            },
            {
             "iteration": 45,
             "learn": [
              0.2976322913
             ],
             "passed_time": 19.75098529,
             "remaining_time": 23.18593925,
             "test": [
              0.2862315032
             ]
            },
            {
             "iteration": 46,
             "learn": [
              0.2926705769
             ],
             "passed_time": 20.1634204,
             "remaining_time": 22.73747407,
             "test": [
              0.2814058684
             ]
            },
            {
             "iteration": 47,
             "learn": [
              0.2891099785
             ],
             "passed_time": 20.6391195,
             "remaining_time": 22.35904612,
             "test": [
              0.2775758988
             ]
            },
            {
             "iteration": 48,
             "learn": [
              0.2846037046
             ],
             "passed_time": 21.0592202,
             "remaining_time": 21.91878021,
             "test": [
              0.2732304901
             ]
            },
            {
             "iteration": 49,
             "learn": [
              0.2801113868
             ],
             "passed_time": 21.49646129,
             "remaining_time": 21.49646129,
             "test": [
              0.2690456789
             ]
            },
            {
             "iteration": 50,
             "learn": [
              0.2771286611
             ],
             "passed_time": 21.89300852,
             "remaining_time": 21.03445916,
             "test": [
              0.2661169318
             ]
            },
            {
             "iteration": 51,
             "learn": [
              0.2734052551
             ],
             "passed_time": 22.35107459,
             "remaining_time": 20.63176116,
             "test": [
              0.2624359494
             ]
            },
            {
             "iteration": 52,
             "learn": [
              0.2702121518
             ],
             "passed_time": 22.79648954,
             "remaining_time": 20.21575488,
             "test": [
              0.2592599065
             ]
            },
            {
             "iteration": 53,
             "learn": [
              0.2668261419
             ],
             "passed_time": 23.30564302,
             "remaining_time": 19.85295516,
             "test": [
              0.2558567342
             ]
            },
            {
             "iteration": 54,
             "learn": [
              0.2627936823
             ],
             "passed_time": 23.72326877,
             "remaining_time": 19.40994718,
             "test": [
              0.2519821808
             ]
            },
            {
             "iteration": 55,
             "learn": [
              0.2589971111
             ],
             "passed_time": 24.15590811,
             "remaining_time": 18.97964209,
             "test": [
              0.2483249448
             ]
            },
            {
             "iteration": 56,
             "learn": [
              0.2559142513
             ],
             "passed_time": 24.62300213,
             "remaining_time": 18.57524722,
             "test": [
              0.2452671542
             ]
            },
            {
             "iteration": 57,
             "learn": [
              0.2521802099
             ],
             "passed_time": 25.06744503,
             "remaining_time": 18.15228778,
             "test": [
              0.2416381744
             ]
            },
            {
             "iteration": 58,
             "learn": [
              0.2488122508
             ],
             "passed_time": 25.53679467,
             "remaining_time": 17.74590816,
             "test": [
              0.2381965483
             ]
            },
            {
             "iteration": 59,
             "learn": [
              0.24554581
             ],
             "passed_time": 26.00846332,
             "remaining_time": 17.33897555,
             "test": [
              0.2348851992
             ]
            },
            {
             "iteration": 60,
             "learn": [
              0.2425387975
             ],
             "passed_time": 26.4608229,
             "remaining_time": 16.9175753,
             "test": [
              0.2319275589
             ]
            },
            {
             "iteration": 61,
             "learn": [
              0.2391324871
             ],
             "passed_time": 26.89986475,
             "remaining_time": 16.48701388,
             "test": [
              0.2285841821
             ]
            },
            {
             "iteration": 62,
             "learn": [
              0.2365685048
             ],
             "passed_time": 27.32615421,
             "remaining_time": 16.04869374,
             "test": [
              0.225817398
             ]
            },
            {
             "iteration": 63,
             "learn": [
              0.2338710796
             ],
             "passed_time": 27.76188874,
             "remaining_time": 15.61606242,
             "test": [
              0.2232099324
             ]
            },
            {
             "iteration": 64,
             "learn": [
              0.2312937831
             ],
             "passed_time": 28.196665,
             "remaining_time": 15.18281962,
             "test": [
              0.2204916982
             ]
            },
            {
             "iteration": 65,
             "learn": [
              0.2282657766
             ],
             "passed_time": 28.6199906,
             "remaining_time": 14.74363152,
             "test": [
              0.2176332727
             ]
            },
            {
             "iteration": 66,
             "learn": [
              0.2255206213
             ],
             "passed_time": 29.09178122,
             "remaining_time": 14.32878777,
             "test": [
              0.2148490171
             ]
            },
            {
             "iteration": 67,
             "learn": [
              0.2229356583
             ],
             "passed_time": 29.51015545,
             "remaining_time": 13.88713198,
             "test": [
              0.2122082203
             ]
            },
            {
             "iteration": 68,
             "learn": [
              0.2204837229
             ],
             "passed_time": 29.91964622,
             "remaining_time": 13.4421599,
             "test": [
              0.2098021144
             ]
            },
            {
             "iteration": 69,
             "learn": [
              0.2180066448
             ],
             "passed_time": 30.35871382,
             "remaining_time": 13.01087735,
             "test": [
              0.2073735552
             ]
            },
            {
             "iteration": 70,
             "learn": [
              0.215561493
             ],
             "passed_time": 30.80800571,
             "remaining_time": 12.58355163,
             "test": [
              0.204827427
             ]
            },
            {
             "iteration": 71,
             "learn": [
              0.2130452918
             ],
             "passed_time": 31.31382179,
             "remaining_time": 12.17759736,
             "test": [
              0.2023884005
             ]
            },
            {
             "iteration": 72,
             "learn": [
              0.2109380462
             ],
             "passed_time": 31.87713954,
             "remaining_time": 11.7901749,
             "test": [
              0.2001574209
             ]
            },
            {
             "iteration": 73,
             "learn": [
              0.2085973337
             ],
             "passed_time": 32.40892621,
             "remaining_time": 11.38692002,
             "test": [
              0.1977821903
             ]
            },
            {
             "iteration": 74,
             "learn": [
              0.2063667509
             ],
             "passed_time": 32.90656304,
             "remaining_time": 10.96885435,
             "test": [
              0.1957071889
             ]
            },
            {
             "iteration": 75,
             "learn": [
              0.2048082139
             ],
             "passed_time": 33.26347836,
             "remaining_time": 10.50425632,
             "test": [
              0.1941306898
             ]
            },
            {
             "iteration": 76,
             "learn": [
              0.2028037395
             ],
             "passed_time": 33.70980807,
             "remaining_time": 10.06916345,
             "test": [
              0.1921606771
             ]
            },
            {
             "iteration": 77,
             "learn": [
              0.2005822813
             ],
             "passed_time": 34.20829924,
             "remaining_time": 9.648494658,
             "test": [
              0.1900089812
             ]
            },
            {
             "iteration": 78,
             "learn": [
              0.1985075846
             ],
             "passed_time": 34.72808114,
             "remaining_time": 9.231515239,
             "test": [
              0.1880882367
             ]
            },
            {
             "iteration": 79,
             "learn": [
              0.1966913553
             ],
             "passed_time": 35.23603808,
             "remaining_time": 8.809009519,
             "test": [
              0.1863052799
             ]
            },
            {
             "iteration": 80,
             "learn": [
              0.1944129454
             ],
             "passed_time": 35.7725699,
             "remaining_time": 8.391096644,
             "test": [
              0.1840465733
             ]
            },
            {
             "iteration": 81,
             "learn": [
              0.1926993954
             ],
             "passed_time": 36.24771424,
             "remaining_time": 7.95681532,
             "test": [
              0.1824059746
             ]
            },
            {
             "iteration": 82,
             "learn": [
              0.1910366509
             ],
             "passed_time": 36.75381108,
             "remaining_time": 7.527889016,
             "test": [
              0.1807071522
             ]
            },
            {
             "iteration": 83,
             "learn": [
              0.1889061319
             ],
             "passed_time": 37.24247041,
             "remaining_time": 7.093803887,
             "test": [
              0.1787999714
             ]
            },
            {
             "iteration": 84,
             "learn": [
              0.1864183772
             ],
             "passed_time": 37.83482633,
             "remaining_time": 6.676734058,
             "test": [
              0.1764823637
             ]
            },
            {
             "iteration": 85,
             "learn": [
              0.1850844398
             ],
             "passed_time": 38.19900884,
             "remaining_time": 6.2184433,
             "test": [
              0.175151118
             ]
            },
            {
             "iteration": 86,
             "learn": [
              0.1834566299
             ],
             "passed_time": 38.80592884,
             "remaining_time": 5.798587068,
             "test": [
              0.1733644253
             ]
            },
            {
             "iteration": 87,
             "learn": [
              0.1819659897
             ],
             "passed_time": 39.32693925,
             "remaining_time": 5.362764443,
             "test": [
              0.1718565675
             ]
            },
            {
             "iteration": 88,
             "learn": [
              0.1802387295
             ],
             "passed_time": 39.82448478,
             "remaining_time": 4.922127332,
             "test": [
              0.1701016017
             ]
            },
            {
             "iteration": 89,
             "learn": [
              0.1786600269
             ],
             "passed_time": 40.37975707,
             "remaining_time": 4.486639674,
             "test": [
              0.168533287
             ]
            },
            {
             "iteration": 90,
             "learn": [
              0.1766874388
             ],
             "passed_time": 40.93790849,
             "remaining_time": 4.048804136,
             "test": [
              0.1666375038
             ]
            },
            {
             "iteration": 91,
             "learn": [
              0.1749622965
             ],
             "passed_time": 41.55155425,
             "remaining_time": 3.613178631,
             "test": [
              0.1649705941
             ]
            },
            {
             "iteration": 92,
             "learn": [
              0.173214
             ],
             "passed_time": 42.09193539,
             "remaining_time": 3.168210191,
             "test": [
              0.1631250621
             ]
            },
            {
             "iteration": 93,
             "learn": [
              0.1720501692
             ],
             "passed_time": 42.61962884,
             "remaining_time": 2.720401841,
             "test": [
              0.1619677282
             ]
            },
            {
             "iteration": 94,
             "learn": [
              0.1704771904
             ],
             "passed_time": 43.05463506,
             "remaining_time": 2.266033424,
             "test": [
              0.1605168135
             ]
            },
            {
             "iteration": 95,
             "learn": [
              0.1690670893
             ],
             "passed_time": 43.47109884,
             "remaining_time": 1.811295785,
             "test": [
              0.1590772268
             ]
            },
            {
             "iteration": 96,
             "learn": [
              0.167948022
             ],
             "passed_time": 43.87862208,
             "remaining_time": 1.357070786,
             "test": [
              0.1579739061
             ]
            },
            {
             "iteration": 97,
             "learn": [
              0.1663726593
             ],
             "passed_time": 44.46876754,
             "remaining_time": 0.9075258681,
             "test": [
              0.1563052597
             ]
            },
            {
             "iteration": 98,
             "learn": [
              0.164938735
             ],
             "passed_time": 45.00263955,
             "remaining_time": 0.4545721166,
             "test": [
              0.1549322724
             ]
            },
            {
             "iteration": 99,
             "learn": [
              0.1636688592
             ],
             "passed_time": 45.42085168,
             "remaining_time": 0,
             "test": [
              0.1536787654
             ]
            }
           ],
           "meta": {
            "iteration_count": 100,
            "launch_mode": "Train",
            "learn_metrics": [
             {
              "best_value": "Min",
              "name": "CrossEntropy"
             }
            ],
            "learn_sets": [
             "learn"
            ],
            "name": "experiment",
            "parameters": "",
            "test_metrics": [
             {
              "best_value": "Min",
              "name": "CrossEntropy"
             }
            ],
            "test_sets": [
             "test"
            ]
           }
          },
          "passed_iterations": 99,
          "total_iterations": 100
         },
         "name": "catboost_info",
         "path": "catboost_info"
        }
       },
       "layout": "IPY_MODEL_f95a9849493a42e1b73eadd6eedc572a"
      }
     },
     "793509de04034b7da364f8546bd852dc": {
      "model_module": "catboost-widget",
      "model_module_version": "^1.0.0",
      "model_name": "CatboostWidgetModel",
      "state": {
       "_dom_classes": [],
       "_model_module": "catboost-widget",
       "_model_module_version": "^1.0.0",
       "_model_name": "CatboostWidgetModel",
       "_view_count": null,
       "_view_module": "catboost-widget",
       "_view_module_version": "^1.0.0",
       "_view_name": "CatboostWidgetView",
       "data": {
        "catboost_info": {
         "content": {
          "data": {
           "iterations": [
            {
             "iteration": 0,
             "learn": [
              0.6623548478
             ],
             "passed_time": 0.3827849663,
             "remaining_time": 37.89571167,
             "test": [
              0.664535579
             ]
            },
            {
             "iteration": 1,
             "learn": [
              0.6378047601
             ],
             "passed_time": 0.7606619507,
             "remaining_time": 37.27243558,
             "test": [
              0.637524158
             ]
            },
            {
             "iteration": 2,
             "learn": [
              0.6112489092
             ],
             "passed_time": 1.093402502,
             "remaining_time": 35.35334755,
             "test": [
              0.6120393751
             ]
            },
            {
             "iteration": 3,
             "learn": [
              0.5867188312
             ],
             "passed_time": 1.496678369,
             "remaining_time": 35.92028086,
             "test": [
              0.5880248967
             ]
            },
            {
             "iteration": 4,
             "learn": [
              0.5650980124
             ],
             "passed_time": 1.872646448,
             "remaining_time": 35.5802825,
             "test": [
              0.5650798512
             ]
            },
            {
             "iteration": 5,
             "learn": [
              0.542803661
             ],
             "passed_time": 2.261191259,
             "remaining_time": 35.42532972,
             "test": [
              0.543565457
             ]
            },
            {
             "iteration": 6,
             "learn": [
              0.5213298474
             ],
             "passed_time": 2.608826054,
             "remaining_time": 34.66011758,
             "test": [
              0.5231563934
             ]
            },
            {
             "iteration": 7,
             "learn": [
              0.5034549744
             ],
             "passed_time": 2.966721327,
             "remaining_time": 34.11729526,
             "test": [
              0.5038277754
             ]
            },
            {
             "iteration": 8,
             "learn": [
              0.4840433245
             ],
             "passed_time": 3.311139952,
             "remaining_time": 33.47930396,
             "test": [
              0.4853798896
             ]
            },
            {
             "iteration": 9,
             "learn": [
              0.4662590937
             ],
             "passed_time": 3.681740165,
             "remaining_time": 33.13566148,
             "test": [
              0.4676323137
             ]
            },
            {
             "iteration": 10,
             "learn": [
              0.4498541653
             ],
             "passed_time": 4.061779218,
             "remaining_time": 32.8634864,
             "test": [
              0.4506552409
             ]
            },
            {
             "iteration": 11,
             "learn": [
              0.433949168
             ],
             "passed_time": 4.444263941,
             "remaining_time": 32.5912689,
             "test": [
              0.4347350131
             ]
            },
            {
             "iteration": 12,
             "learn": [
              0.4185799462
             ],
             "passed_time": 4.793222426,
             "remaining_time": 32.07771931,
             "test": [
              0.4193685476
             ]
            },
            {
             "iteration": 13,
             "learn": [
              0.4037585171
             ],
             "passed_time": 5.142982304,
             "remaining_time": 31.59260558,
             "test": [
              0.4047311792
             ]
            },
            {
             "iteration": 14,
             "learn": [
              0.3893296031
             ],
             "passed_time": 5.493247523,
             "remaining_time": 31.12840263,
             "test": [
              0.3906272532
             ]
            },
            {
             "iteration": 15,
             "learn": [
              0.3749809168
             ],
             "passed_time": 5.852878028,
             "remaining_time": 30.72760965,
             "test": [
              0.3772063244
             ]
            },
            {
             "iteration": 16,
             "learn": [
              0.3627817618
             ],
             "passed_time": 6.219301198,
             "remaining_time": 30.3648235,
             "test": [
              0.3645074451
             ]
            },
            {
             "iteration": 17,
             "learn": [
              0.3508798849
             ],
             "passed_time": 6.586052065,
             "remaining_time": 30.00312607,
             "test": [
              0.3523673421
             ]
            },
            {
             "iteration": 18,
             "learn": [
              0.3384962398
             ],
             "passed_time": 6.947720519,
             "remaining_time": 29.61922958,
             "test": [
              0.3405584487
             ]
            },
            {
             "iteration": 19,
             "learn": [
              0.3278266343
             ],
             "passed_time": 7.295837963,
             "remaining_time": 29.18335185,
             "test": [
              0.3295212022
             ]
            },
            {
             "iteration": 20,
             "learn": [
              0.3164939555
             ],
             "passed_time": 7.61271954,
             "remaining_time": 28.63832589,
             "test": [
              0.3189153514
             ]
            },
            {
             "iteration": 21,
             "learn": [
              0.3058386867
             ],
             "passed_time": 7.96466082,
             "remaining_time": 28.23834291,
             "test": [
              0.3083806172
             ]
            },
            {
             "iteration": 22,
             "learn": [
              0.2963020219
             ],
             "passed_time": 8.35673804,
             "remaining_time": 27.97690561,
             "test": [
              0.298388364
             ]
            },
            {
             "iteration": 23,
             "learn": [
              0.2864599017
             ],
             "passed_time": 8.691386145,
             "remaining_time": 27.52272279,
             "test": [
              0.2889734115
             ]
            },
            {
             "iteration": 24,
             "learn": [
              0.2771706053
             ],
             "passed_time": 9.066337071,
             "remaining_time": 27.19901121,
             "test": [
              0.2797388607
             ]
            },
            {
             "iteration": 25,
             "learn": [
              0.267896631
             ],
             "passed_time": 9.428465902,
             "remaining_time": 26.83486449,
             "test": [
              0.2710385402
             ]
            },
            {
             "iteration": 26,
             "learn": [
              0.2596725724
             ],
             "passed_time": 9.831413611,
             "remaining_time": 26.58122939,
             "test": [
              0.2626194527
             ]
            },
            {
             "iteration": 27,
             "learn": [
              0.2516434278
             ],
             "passed_time": 10.18730737,
             "remaining_time": 26.19593325,
             "test": [
              0.2543749505
             ]
            },
            {
             "iteration": 28,
             "learn": [
              0.2437453276
             ],
             "passed_time": 10.51248526,
             "remaining_time": 25.73746391,
             "test": [
              0.2467166392
             ]
            },
            {
             "iteration": 29,
             "learn": [
              0.2361320034
             ],
             "passed_time": 10.89015244,
             "remaining_time": 25.41035569,
             "test": [
              0.2392381386
             ]
            },
            {
             "iteration": 30,
             "learn": [
              0.2286999528
             ],
             "passed_time": 11.2479894,
             "remaining_time": 25.03584737,
             "test": [
              0.2318387455
             ]
            },
            {
             "iteration": 31,
             "learn": [
              0.2215065794
             ],
             "passed_time": 11.62638275,
             "remaining_time": 24.70606334,
             "test": [
              0.2250537114
             ]
            },
            {
             "iteration": 32,
             "learn": [
              0.2147435612
             ],
             "passed_time": 12.14210443,
             "remaining_time": 24.65215143,
             "test": [
              0.2184548082
             ]
            },
            {
             "iteration": 33,
             "learn": [
              0.2084661891
             ],
             "passed_time": 12.74410712,
             "remaining_time": 24.73856087,
             "test": [
              0.2117229892
             ]
            },
            {
             "iteration": 34,
             "learn": [
              0.2019461611
             ],
             "passed_time": 13.15375749,
             "remaining_time": 24.42840677,
             "test": [
              0.2056792798
             ]
            },
            {
             "iteration": 35,
             "learn": [
              0.1958461738
             ],
             "passed_time": 13.49438746,
             "remaining_time": 23.99002215,
             "test": [
              0.1998672639
             ]
            },
            {
             "iteration": 36,
             "learn": [
              0.1900968861
             ],
             "passed_time": 13.80220571,
             "remaining_time": 23.50105296,
             "test": [
              0.194281374
             ]
            },
            {
             "iteration": 37,
             "learn": [
              0.1844776369
             ],
             "passed_time": 14.11415223,
             "remaining_time": 23.02835364,
             "test": [
              0.1887821586
             ]
            },
            {
             "iteration": 38,
             "learn": [
              0.1789131046
             ],
             "passed_time": 14.54580307,
             "remaining_time": 22.75112788,
             "test": [
              0.1832483992
             ]
            },
            {
             "iteration": 39,
             "learn": [
              0.1738459912
             ],
             "passed_time": 14.85211033,
             "remaining_time": 22.27816549,
             "test": [
              0.1782834357
             ]
            },
            {
             "iteration": 40,
             "learn": [
              0.168681439
             ],
             "passed_time": 15.16618795,
             "remaining_time": 21.82451437,
             "test": [
              0.1734613356
             ]
            },
            {
             "iteration": 41,
             "learn": [
              0.163758092
             ],
             "passed_time": 15.54123276,
             "remaining_time": 21.46170238,
             "test": [
              0.1684136382
             ]
            },
            {
             "iteration": 42,
             "learn": [
              0.1589823782
             ],
             "passed_time": 15.95835271,
             "remaining_time": 21.15409546,
             "test": [
              0.1636220281
             ]
            },
            {
             "iteration": 43,
             "learn": [
              0.1543745569
             ],
             "passed_time": 16.32973842,
             "remaining_time": 20.78330345,
             "test": [
              0.1592944875
             ]
            },
            {
             "iteration": 44,
             "learn": [
              0.1498671097
             ],
             "passed_time": 16.70136479,
             "remaining_time": 20.41277918,
             "test": [
              0.1547893862
             ]
            },
            {
             "iteration": 45,
             "learn": [
              0.1454567158
             ],
             "passed_time": 17.0650237,
             "remaining_time": 20.03285391,
             "test": [
              0.1504684964
             ]
            },
            {
             "iteration": 46,
             "learn": [
              0.1414199784
             ],
             "passed_time": 17.38565352,
             "remaining_time": 19.60509865,
             "test": [
              0.1464720762
             ]
            },
            {
             "iteration": 47,
             "learn": [
              0.1375304667
             ],
             "passed_time": 17.7088288,
             "remaining_time": 19.18456454,
             "test": [
              0.1427798463
             ]
            },
            {
             "iteration": 48,
             "learn": [
              0.1336003545
             ],
             "passed_time": 18.08071395,
             "remaining_time": 18.81870228,
             "test": [
              0.1387670244
             ]
            },
            {
             "iteration": 49,
             "learn": [
              0.1298933593
             ],
             "passed_time": 18.44887934,
             "remaining_time": 18.44887934,
             "test": [
              0.1351771279
             ]
            },
            {
             "iteration": 50,
             "learn": [
              0.1261444051
             ],
             "passed_time": 18.85927577,
             "remaining_time": 18.11969632,
             "test": [
              0.1314302121
             ]
            },
            {
             "iteration": 51,
             "learn": [
              0.1225296347
             ],
             "passed_time": 19.27973503,
             "remaining_time": 17.79667849,
             "test": [
              0.127894542
             ]
            },
            {
             "iteration": 52,
             "learn": [
              0.1192294295
             ],
             "passed_time": 19.59419689,
             "remaining_time": 17.37598592,
             "test": [
              0.12469796
             ]
            },
            {
             "iteration": 53,
             "learn": [
              0.1159975048
             ],
             "passed_time": 19.92064751,
             "remaining_time": 16.96944047,
             "test": [
              0.1215697378
             ]
            },
            {
             "iteration": 54,
             "learn": [
              0.1127276366
             ],
             "passed_time": 20.33335812,
             "remaining_time": 16.63638392,
             "test": [
              0.1184063333
             ]
            },
            {
             "iteration": 55,
             "learn": [
              0.1096064031
             ],
             "passed_time": 20.74384289,
             "remaining_time": 16.2987337,
             "test": [
              0.1152053299
             ]
            },
            {
             "iteration": 56,
             "learn": [
              0.1066168281
             ],
             "passed_time": 21.08479,
             "remaining_time": 15.90606965,
             "test": [
              0.1121491044
             ]
            },
            {
             "iteration": 57,
             "learn": [
              0.1037468895
             ],
             "passed_time": 21.42549468,
             "remaining_time": 15.51501339,
             "test": [
              0.1095459832
             ]
            },
            {
             "iteration": 58,
             "learn": [
              0.1010183502
             ],
             "passed_time": 21.73383847,
             "remaining_time": 15.10317589,
             "test": [
              0.1070093567
             ]
            },
            {
             "iteration": 59,
             "learn": [
              0.09834873847
             ],
             "passed_time": 22.14050526,
             "remaining_time": 14.76033684,
             "test": [
              0.1043823727
             ]
            },
            {
             "iteration": 60,
             "learn": [
              0.09556476323
             ],
             "passed_time": 22.52003387,
             "remaining_time": 14.39805444,
             "test": [
              0.1016297129
             ]
            },
            {
             "iteration": 61,
             "learn": [
              0.09297762275
             ],
             "passed_time": 22.85763633,
             "remaining_time": 14.00951904,
             "test": [
              0.09903656377
             ]
            },
            {
             "iteration": 62,
             "learn": [
              0.09040921497
             ],
             "passed_time": 23.28552372,
             "remaining_time": 13.67562504,
             "test": [
              0.09643831903
             ]
            },
            {
             "iteration": 63,
             "learn": [
              0.08807284644
             ],
             "passed_time": 23.63436387,
             "remaining_time": 13.29432967,
             "test": [
              0.09429379757
             ]
            },
            {
             "iteration": 64,
             "learn": [
              0.08576577653
             ],
             "passed_time": 24.04048179,
             "remaining_time": 12.94487481,
             "test": [
              0.09207059773
             ]
            },
            {
             "iteration": 65,
             "learn": [
              0.08351330927
             ],
             "passed_time": 24.43652447,
             "remaining_time": 12.58851261,
             "test": [
              0.08974579036
             ]
            },
            {
             "iteration": 66,
             "learn": [
              0.08126579083
             ],
             "passed_time": 24.82292212,
             "remaining_time": 12.22621537,
             "test": [
              0.08739725987
             ]
            },
            {
             "iteration": 67,
             "learn": [
              0.07928066113
             ],
             "passed_time": 25.1520545,
             "remaining_time": 11.83626094,
             "test": [
              0.08554856879
             ]
            },
            {
             "iteration": 68,
             "learn": [
              0.07718679181
             ],
             "passed_time": 25.56331233,
             "remaining_time": 11.48496641,
             "test": [
              0.0836140159
             ]
            },
            {
             "iteration": 69,
             "learn": [
              0.07523940429
             ],
             "passed_time": 25.92841616,
             "remaining_time": 11.11217835,
             "test": [
              0.08179071337
             ]
            },
            {
             "iteration": 70,
             "learn": [
              0.07335782716
             ],
             "passed_time": 26.30359397,
             "remaining_time": 10.74372148,
             "test": [
              0.07992097238
             ]
            },
            {
             "iteration": 71,
             "learn": [
              0.07142358642
             ],
             "passed_time": 26.6914466,
             "remaining_time": 10.38000701,
             "test": [
              0.07803687214
             ]
            },
            {
             "iteration": 72,
             "learn": [
              0.06955356587
             ],
             "passed_time": 27.09983439,
             "remaining_time": 10.02322642,
             "test": [
              0.076073982
             ]
            },
            {
             "iteration": 73,
             "learn": [
              0.06784020122
             ],
             "passed_time": 27.4743253,
             "remaining_time": 9.653141322,
             "test": [
              0.07445776108
             ]
            },
            {
             "iteration": 74,
             "learn": [
              0.06610937128
             ],
             "passed_time": 27.86841016,
             "remaining_time": 9.289470055,
             "test": [
              0.07266276587
             ]
            },
            {
             "iteration": 75,
             "learn": [
              0.06438944871
             ],
             "passed_time": 28.26835141,
             "remaining_time": 8.926847813,
             "test": [
              0.07084613603
             ]
            },
            {
             "iteration": 76,
             "learn": [
              0.06283618997
             ],
             "passed_time": 28.57115166,
             "remaining_time": 8.534240106,
             "test": [
              0.06942058632
             ]
            },
            {
             "iteration": 77,
             "learn": [
              0.06139304809
             ],
             "passed_time": 28.91658305,
             "remaining_time": 8.155959322,
             "test": [
              0.06808630278
             ]
            },
            {
             "iteration": 78,
             "learn": [
              0.05989237864
             ],
             "passed_time": 29.3082632,
             "remaining_time": 7.790804142,
             "test": [
              0.06668309533
             ]
            },
            {
             "iteration": 79,
             "learn": [
              0.05839869045
             ],
             "passed_time": 29.69401645,
             "remaining_time": 7.423504113,
             "test": [
              0.06519740153
             ]
            },
            {
             "iteration": 80,
             "learn": [
              0.05708154023
             ],
             "passed_time": 30.0409786,
             "remaining_time": 7.046649301,
             "test": [
              0.06399350499
             ]
            },
            {
             "iteration": 81,
             "learn": [
              0.05566955117
             ],
             "passed_time": 30.47642948,
             "remaining_time": 6.689947935,
             "test": [
              0.06257025243
             ]
            },
            {
             "iteration": 82,
             "learn": [
              0.05437122319
             ],
             "passed_time": 30.76510986,
             "remaining_time": 6.301287561,
             "test": [
              0.06137452772
             ]
            },
            {
             "iteration": 83,
             "learn": [
              0.05303134855
             ],
             "passed_time": 31.15868247,
             "remaining_time": 5.934987137,
             "test": [
              0.06009386649
             ]
            },
            {
             "iteration": 84,
             "learn": [
              0.05171890836
             ],
             "passed_time": 31.57125073,
             "remaining_time": 5.571397188,
             "test": [
              0.05866190373
             ]
            },
            {
             "iteration": 85,
             "learn": [
              0.05059502244
             ],
             "passed_time": 31.85941052,
             "remaining_time": 5.186415665,
             "test": [
              0.05770425207
             ]
            },
            {
             "iteration": 86,
             "learn": [
              0.04938548859
             ],
             "passed_time": 32.22572022,
             "remaining_time": 4.815337504,
             "test": [
              0.05646208547
             ]
            },
            {
             "iteration": 87,
             "learn": [
              0.04821999096
             ],
             "passed_time": 32.61813818,
             "remaining_time": 4.447927933,
             "test": [
              0.05514324294
             ]
            },
            {
             "iteration": 88,
             "learn": [
              0.0470549311
             ],
             "passed_time": 33.00164327,
             "remaining_time": 4.078854786,
             "test": [
              0.05399694124
             ]
            },
            {
             "iteration": 89,
             "learn": [
              0.04604479397
             ],
             "passed_time": 33.33029264,
             "remaining_time": 3.703365849,
             "test": [
              0.05313918172
             ]
            },
            {
             "iteration": 90,
             "learn": [
              0.04491728632
             ],
             "passed_time": 33.71981803,
             "remaining_time": 3.334927058,
             "test": [
              0.05201879262
             ]
            },
            {
             "iteration": 91,
             "learn": [
              0.04387376424
             ],
             "passed_time": 34.13412546,
             "remaining_time": 2.968184822,
             "test": [
              0.05089840216
             ]
            },
            {
             "iteration": 92,
             "learn": [
              0.04289648184
             ],
             "passed_time": 34.56146823,
             "remaining_time": 2.601400835,
             "test": [
              0.05000488738
             ]
            },
            {
             "iteration": 93,
             "learn": [
              0.04192728506
             ],
             "passed_time": 34.95367484,
             "remaining_time": 2.231085628,
             "test": [
              0.04892903187
             ]
            },
            {
             "iteration": 94,
             "learn": [
              0.04101809217
             ],
             "passed_time": 35.32606984,
             "remaining_time": 1.859266834,
             "test": [
              0.04813793112
             ]
            },
            {
             "iteration": 95,
             "learn": [
              0.04010241883
             ],
             "passed_time": 35.70976646,
             "remaining_time": 1.487906936,
             "test": [
              0.04709952078
             ]
            },
            {
             "iteration": 96,
             "learn": [
              0.039170763
             ],
             "passed_time": 36.07359708,
             "remaining_time": 1.11567826,
             "test": [
              0.04622252991
             ]
            },
            {
             "iteration": 97,
             "learn": [
              0.03836115859
             ],
             "passed_time": 36.4012783,
             "remaining_time": 0.7428832306,
             "test": [
              0.04549995109
             ]
            },
            {
             "iteration": 98,
             "learn": [
              0.03753625906
             ],
             "passed_time": 36.79291375,
             "remaining_time": 0.3716455934,
             "test": [
              0.04478302941
             ]
            },
            {
             "iteration": 99,
             "learn": [
              0.0366889967
             ],
             "passed_time": 37.16218911,
             "remaining_time": 0,
             "test": [
              0.04349251807
             ]
            }
           ],
           "meta": {
            "iteration_count": 100,
            "launch_mode": "Train",
            "learn_metrics": [
             {
              "best_value": "Min",
              "name": "CrossEntropy"
             }
            ],
            "learn_sets": [
             "learn"
            ],
            "name": "experiment",
            "parameters": "",
            "test_metrics": [
             {
              "best_value": "Min",
              "name": "CrossEntropy"
             }
            ],
            "test_sets": [
             "test"
            ]
           }
          },
          "passed_iterations": 99,
          "total_iterations": 100
         },
         "name": "catboost_info",
         "path": "catboost_info"
        }
       },
       "layout": "IPY_MODEL_e302d3720f6348178934a422a5e4464a"
      }
     },
     "79d5d5e886c54c37928ba8df0c525926": {
      "model_module": "@jupyter-widgets/base",
      "model_module_version": "1.2.0",
      "model_name": "LayoutModel",
      "state": {
       "_model_module": "@jupyter-widgets/base",
       "_model_module_version": "1.2.0",
       "_model_name": "LayoutModel",
       "_view_count": null,
       "_view_module": "@jupyter-widgets/base",
       "_view_module_version": "1.2.0",
       "_view_name": "LayoutView",
       "align_content": null,
       "align_items": null,
       "align_self": "stretch",
       "border": null,
       "bottom": null,
       "display": null,
       "flex": null,
       "flex_flow": null,
       "grid_area": null,
       "grid_auto_columns": null,
       "grid_auto_flow": null,
       "grid_auto_rows": null,
       "grid_column": null,
       "grid_gap": null,
       "grid_row": null,
       "grid_template_areas": null,
       "grid_template_columns": null,
       "grid_template_rows": null,
       "height": "500px",
       "justify_content": null,
       "justify_items": null,
       "left": null,
       "margin": null,
       "max_height": null,
       "max_width": null,
       "min_height": null,
       "min_width": null,
       "object_fit": null,
       "object_position": null,
       "order": null,
       "overflow": null,
       "overflow_x": null,
       "overflow_y": null,
       "padding": null,
       "right": null,
       "top": null,
       "visibility": null,
       "width": null
      }
     },
     "7a675489204c428ba7cfaef9798c72f9": {
      "model_module": "catboost-widget",
      "model_module_version": "^1.0.0",
      "model_name": "CatboostWidgetModel",
      "state": {
       "_dom_classes": [],
       "_model_module": "catboost-widget",
       "_model_module_version": "^1.0.0",
       "_model_name": "CatboostWidgetModel",
       "_view_count": null,
       "_view_module": "catboost-widget",
       "_view_module_version": "^1.0.0",
       "_view_name": "CatboostWidgetView",
       "data": {
        "catboost_info": {
         "content": {
          "data": {
           "iterations": [
            {
             "iteration": 0,
             "learn": [
              0.6643018128
             ],
             "passed_time": 0.3985847195,
             "remaining_time": 39.45988723,
             "test": [
              0.6652003912
             ]
            },
            {
             "iteration": 1,
             "learn": [
              0.6396384858
             ],
             "passed_time": 0.7901810131,
             "remaining_time": 38.71886964,
             "test": [
              0.6387435201
             ]
            },
            {
             "iteration": 2,
             "learn": [
              0.6134756601
             ],
             "passed_time": 1.139297598,
             "remaining_time": 36.83728901,
             "test": [
              0.6131182873
             ]
            },
            {
             "iteration": 3,
             "learn": [
              0.5897119289
             ],
             "passed_time": 1.499864161,
             "remaining_time": 35.99673987,
             "test": [
              0.5894398519
             ]
            },
            {
             "iteration": 4,
             "learn": [
              0.5686190422
             ],
             "passed_time": 1.821811115,
             "remaining_time": 34.61441118,
             "test": [
              0.566662915
             ]
            },
            {
             "iteration": 5,
             "learn": [
              0.5472964924
             ],
             "passed_time": 2.159369831,
             "remaining_time": 33.83012735,
             "test": [
              0.5449543331
             ]
            },
            {
             "iteration": 6,
             "learn": [
              0.5260976114
             ],
             "passed_time": 2.514380292,
             "remaining_time": 33.40533816,
             "test": [
              0.5248780803
             ]
            },
            {
             "iteration": 7,
             "learn": [
              0.5081567213
             ],
             "passed_time": 2.86778722,
             "remaining_time": 32.97955303,
             "test": [
              0.5052733296
             ]
            },
            {
             "iteration": 8,
             "learn": [
              0.4895741528
             ],
             "passed_time": 3.225114879,
             "remaining_time": 32.60949488,
             "test": [
              0.4865975009
             ]
            },
            {
             "iteration": 9,
             "learn": [
              0.4719710874
             ],
             "passed_time": 3.558105614,
             "remaining_time": 32.02295052,
             "test": [
              0.4689208583
             ]
            },
            {
             "iteration": 10,
             "learn": [
              0.4559166287
             ],
             "passed_time": 3.941226499,
             "remaining_time": 31.88810531,
             "test": [
              0.4524011804
             ]
            },
            {
             "iteration": 11,
             "learn": [
              0.4404669029
             ],
             "passed_time": 4.339872658,
             "remaining_time": 31.82573282,
             "test": [
              0.43658854
             ]
            },
            {
             "iteration": 12,
             "learn": [
              0.4252360892
             ],
             "passed_time": 4.709893883,
             "remaining_time": 31.52005906,
             "test": [
              0.4210637698
             ]
            },
            {
             "iteration": 13,
             "learn": [
              0.4106705836
             ],
             "passed_time": 5.076267901,
             "remaining_time": 31.18278854,
             "test": [
              0.4062471818
             ]
            },
            {
             "iteration": 14,
             "learn": [
              0.3965901362
             ],
             "passed_time": 5.456389331,
             "remaining_time": 30.91953954,
             "test": [
              0.3924498961
             ]
            },
            {
             "iteration": 15,
             "learn": [
              0.3833791369
             ],
             "passed_time": 5.814511852,
             "remaining_time": 30.52618722,
             "test": [
              0.3790463168
             ]
            },
            {
             "iteration": 16,
             "learn": [
              0.3709598484
             ],
             "passed_time": 6.181819475,
             "remaining_time": 30.18182449,
             "test": [
              0.3660988181
             ]
            },
            {
             "iteration": 17,
             "learn": [
              0.3587306368
             ],
             "passed_time": 6.574134746,
             "remaining_time": 29.94883607,
             "test": [
              0.3540437806
             ]
            },
            {
             "iteration": 18,
             "learn": [
              0.3473821384
             ],
             "passed_time": 6.961696582,
             "remaining_time": 29.67881174,
             "test": [
              0.342504423
             ]
            },
            {
             "iteration": 19,
             "learn": [
              0.3361136505
             ],
             "passed_time": 7.374734425,
             "remaining_time": 29.4989377,
             "test": [
              0.3311609428
             ]
            },
            {
             "iteration": 20,
             "learn": [
              0.3256474524
             ],
             "passed_time": 7.764521634,
             "remaining_time": 29.20939091,
             "test": [
              0.3205171963
             ]
            },
            {
             "iteration": 21,
             "learn": [
              0.31531453
             ],
             "passed_time": 8.09489279,
             "remaining_time": 28.70007444,
             "test": [
              0.310027881
             ]
            },
            {
             "iteration": 22,
             "learn": [
              0.305742554
             ],
             "passed_time": 8.4808681,
             "remaining_time": 28.39247146,
             "test": [
              0.3002294489
             ]
            },
            {
             "iteration": 23,
             "learn": [
              0.2963168949
             ],
             "passed_time": 8.874987149,
             "remaining_time": 28.10412597,
             "test": [
              0.2907299459
             ]
            },
            {
             "iteration": 24,
             "learn": [
              0.2870696465
             ],
             "passed_time": 9.212008369,
             "remaining_time": 27.63602511,
             "test": [
              0.2813089719
             ]
            },
            {
             "iteration": 25,
             "learn": [
              0.2782529335
             ],
             "passed_time": 9.576510676,
             "remaining_time": 27.25622269,
             "test": [
              0.2725381772
             ]
            },
            {
             "iteration": 26,
             "learn": [
              0.2698952425
             ],
             "passed_time": 9.962207515,
             "remaining_time": 26.93485736,
             "test": [
              0.2641024148
             ]
            },
            {
             "iteration": 27,
             "learn": [
              0.2617760692
             ],
             "passed_time": 10.28225873,
             "remaining_time": 26.44009387,
             "test": [
              0.255834489
             ]
            },
            {
             "iteration": 28,
             "learn": [
              0.2538173399
             ],
             "passed_time": 10.6305539,
             "remaining_time": 26.02652851,
             "test": [
              0.2479366179
             ]
            },
            {
             "iteration": 29,
             "learn": [
              0.246559774
             ],
             "passed_time": 11.04252299,
             "remaining_time": 25.76588699,
             "test": [
              0.2403972572
             ]
            },
            {
             "iteration": 30,
             "learn": [
              0.2392535985
             ],
             "passed_time": 11.36066321,
             "remaining_time": 25.28663748,
             "test": [
              0.2330412029
             ]
            },
            {
             "iteration": 31,
             "learn": [
              0.2322267834
             ],
             "passed_time": 11.78689293,
             "remaining_time": 25.04714747,
             "test": [
              0.2260427975
             ]
            },
            {
             "iteration": 32,
             "learn": [
              0.2253215276
             ],
             "passed_time": 12.18593654,
             "remaining_time": 24.74114389,
             "test": [
              0.2189983649
             ]
            },
            {
             "iteration": 33,
             "learn": [
              0.2190608188
             ],
             "passed_time": 12.55135681,
             "remaining_time": 24.36439851,
             "test": [
              0.2126024798
             ]
            },
            {
             "iteration": 34,
             "learn": [
              0.2125719385
             ],
             "passed_time": 12.92206594,
             "remaining_time": 23.99812247,
             "test": [
              0.2061108622
             ]
            },
            {
             "iteration": 35,
             "learn": [
              0.206396576
             ],
             "passed_time": 13.32928414,
             "remaining_time": 23.69650514,
             "test": [
              0.2001047155
             ]
            },
            {
             "iteration": 36,
             "learn": [
              0.2003899987
             ],
             "passed_time": 13.71187759,
             "remaining_time": 23.34725103,
             "test": [
              0.1939759621
             ]
            },
            {
             "iteration": 37,
             "learn": [
              0.1949426451
             ],
             "passed_time": 14.08317258,
             "remaining_time": 22.97780789,
             "test": [
              0.188434059
             ]
            },
            {
             "iteration": 38,
             "learn": [
              0.1894233461
             ],
             "passed_time": 14.49180854,
             "remaining_time": 22.66667489,
             "test": [
              0.1830644605
             ]
            },
            {
             "iteration": 39,
             "learn": [
              0.1841279882
             ],
             "passed_time": 14.8241131,
             "remaining_time": 22.23616965,
             "test": [
              0.1777663816
             ]
            },
            {
             "iteration": 40,
             "learn": [
              0.1790000364
             ],
             "passed_time": 15.22355939,
             "remaining_time": 21.90707326,
             "test": [
              0.1725248485
             ]
            },
            {
             "iteration": 41,
             "learn": [
              0.1740515069
             ],
             "passed_time": 15.54373976,
             "remaining_time": 21.46516444,
             "test": [
              0.1675182686
             ]
            },
            {
             "iteration": 42,
             "learn": [
              0.1693656819
             ],
             "passed_time": 15.87042613,
             "remaining_time": 21.03754162,
             "test": [
              0.1626407847
             ]
            },
            {
             "iteration": 43,
             "learn": [
              0.1647121344
             ],
             "passed_time": 16.23251253,
             "remaining_time": 20.65956141,
             "test": [
              0.1579295296
             ]
            },
            {
             "iteration": 44,
             "learn": [
              0.1602657047
             ],
             "passed_time": 16.55998326,
             "remaining_time": 20.23997954,
             "test": [
              0.1534066236
             ]
            },
            {
             "iteration": 45,
             "learn": [
              0.1559921886
             ],
             "passed_time": 16.96752464,
             "remaining_time": 19.91839849,
             "test": [
              0.1491949809
             ]
            },
            {
             "iteration": 46,
             "learn": [
              0.1518362716
             ],
             "passed_time": 17.28647813,
             "remaining_time": 19.49326257,
             "test": [
              0.1449862026
             ]
            },
            {
             "iteration": 47,
             "learn": [
              0.1478756307
             ],
             "passed_time": 17.6067427,
             "remaining_time": 19.07397125,
             "test": [
              0.1409124252
             ]
            },
            {
             "iteration": 48,
             "learn": [
              0.1439959897
             ],
             "passed_time": 17.97136604,
             "remaining_time": 18.70489119,
             "test": [
              0.1370119206
             ]
            },
            {
             "iteration": 49,
             "learn": [
              0.140201691
             ],
             "passed_time": 18.41054465,
             "remaining_time": 18.41054465,
             "test": [
              0.1333147604
             ]
            },
            {
             "iteration": 50,
             "learn": [
              0.1364910423
             ],
             "passed_time": 18.81577351,
             "remaining_time": 18.07790003,
             "test": [
              0.1295178329
             ]
            },
            {
             "iteration": 51,
             "learn": [
              0.1328518007
             ],
             "passed_time": 19.2056225,
             "remaining_time": 17.72826693,
             "test": [
              0.1257981721
             ]
            },
            {
             "iteration": 52,
             "learn": [
              0.1294533564
             ],
             "passed_time": 19.6070907,
             "remaining_time": 17.38742006,
             "test": [
              0.1225134916
             ]
            },
            {
             "iteration": 53,
             "learn": [
              0.1261846881
             ],
             "passed_time": 19.97885518,
             "remaining_time": 17.01902478,
             "test": [
              0.1192144239
             ]
            },
            {
             "iteration": 54,
             "learn": [
              0.1230035873
             ],
             "passed_time": 20.30253641,
             "remaining_time": 16.61116615,
             "test": [
              0.1159654084
             ]
            },
            {
             "iteration": 55,
             "learn": [
              0.1197365226
             ],
             "passed_time": 20.68016557,
             "remaining_time": 16.24870152,
             "test": [
              0.1127238787
             ]
            },
            {
             "iteration": 56,
             "learn": [
              0.116740763
             ],
             "passed_time": 21.02921445,
             "remaining_time": 15.86414423,
             "test": [
              0.1097221476
             ]
            },
            {
             "iteration": 57,
             "learn": [
              0.1138626641
             ],
             "passed_time": 21.44018656,
             "remaining_time": 15.52565234,
             "test": [
              0.1068592219
             ]
            },
            {
             "iteration": 58,
             "learn": [
              0.1109058144
             ],
             "passed_time": 21.8758393,
             "remaining_time": 15.20185443,
             "test": [
              0.1039617619
             ]
            },
            {
             "iteration": 59,
             "learn": [
              0.1081577668
             ],
             "passed_time": 22.25759799,
             "remaining_time": 14.83839866,
             "test": [
              0.1010986061
             ]
            },
            {
             "iteration": 60,
             "learn": [
              0.1055852788
             ],
             "passed_time": 22.58714036,
             "remaining_time": 14.44095859,
             "test": [
              0.09839850986
             ]
            },
            {
             "iteration": 61,
             "learn": [
              0.1029105303
             ],
             "passed_time": 22.98912232,
             "remaining_time": 14.09010723,
             "test": [
              0.09590553242
             ]
            },
            {
             "iteration": 62,
             "learn": [
              0.1004140468
             ],
             "passed_time": 23.38700043,
             "remaining_time": 13.73522247,
             "test": [
              0.09329896135
             ]
            },
            {
             "iteration": 63,
             "learn": [
              0.09806907111
             ],
             "passed_time": 23.842084,
             "remaining_time": 13.41117225,
             "test": [
              0.09094212214
             ]
            },
            {
             "iteration": 64,
             "learn": [
              0.09576355196
             ],
             "passed_time": 24.38463635,
             "remaining_time": 13.13018881,
             "test": [
              0.08859569475
             ]
            },
            {
             "iteration": 65,
             "learn": [
              0.09336787787
             ],
             "passed_time": 24.97958626,
             "remaining_time": 12.86827171,
             "test": [
              0.08627565943
             ]
            },
            {
             "iteration": 66,
             "learn": [
              0.09111821348
             ],
             "passed_time": 25.35946763,
             "remaining_time": 12.49048406,
             "test": [
              0.08396262558
             ]
            },
            {
             "iteration": 67,
             "learn": [
              0.08900544837
             ],
             "passed_time": 25.70990875,
             "remaining_time": 12.09878059,
             "test": [
              0.08188362992
             ]
            },
            {
             "iteration": 68,
             "learn": [
              0.08688923761
             ],
             "passed_time": 26.10663959,
             "remaining_time": 11.72906996,
             "test": [
              0.0797497442
             ]
            },
            {
             "iteration": 69,
             "learn": [
              0.0849542244
             ],
             "passed_time": 26.49155369,
             "remaining_time": 11.35352301,
             "test": [
              0.07773178148
             ]
            },
            {
             "iteration": 70,
             "learn": [
              0.08304701844
             ],
             "passed_time": 26.808711,
             "remaining_time": 10.95003689,
             "test": [
              0.07579519463
             ]
            },
            {
             "iteration": 71,
             "learn": [
              0.08119426992
             ],
             "passed_time": 27.17988759,
             "remaining_time": 10.56995629,
             "test": [
              0.07384337962
             ]
            },
            {
             "iteration": 72,
             "learn": [
              0.07902601975
             ],
             "passed_time": 27.55072849,
             "remaining_time": 10.18999547,
             "test": [
              0.07185649997
             ]
            },
            {
             "iteration": 73,
             "learn": [
              0.07731463042
             ],
             "passed_time": 27.9269646,
             "remaining_time": 9.812176752,
             "test": [
              0.07003207031
             ]
            },
            {
             "iteration": 74,
             "learn": [
              0.07543089723
             ],
             "passed_time": 28.24935723,
             "remaining_time": 9.41645241,
             "test": [
              0.06818705304
             ]
            },
            {
             "iteration": 75,
             "learn": [
              0.07391514618
             ],
             "passed_time": 28.64141917,
             "remaining_time": 9.044658686,
             "test": [
              0.06655525535
             ]
            },
            {
             "iteration": 76,
             "learn": [
              0.07211778536
             ],
             "passed_time": 28.95229524,
             "remaining_time": 8.648088189,
             "test": [
              0.0647049475
             ]
            },
            {
             "iteration": 77,
             "learn": [
              0.07047433019
             ],
             "passed_time": 29.36622803,
             "remaining_time": 8.282782265,
             "test": [
              0.06317558638
             ]
            },
            {
             "iteration": 78,
             "learn": [
              0.06885364072
             ],
             "passed_time": 29.79515468,
             "remaining_time": 7.920230991,
             "test": [
              0.06155673829
             ]
            },
            {
             "iteration": 79,
             "learn": [
              0.06726494751
             ],
             "passed_time": 30.09654099,
             "remaining_time": 7.524135248,
             "test": [
              0.05987916361
             ]
            },
            {
             "iteration": 80,
             "learn": [
              0.06587649238
             ],
             "passed_time": 30.46430737,
             "remaining_time": 7.145948642,
             "test": [
              0.0585761891
             ]
            },
            {
             "iteration": 81,
             "learn": [
              0.06432790272
             ],
             "passed_time": 30.77730536,
             "remaining_time": 6.75599386,
             "test": [
              0.05696551276
             ]
            },
            {
             "iteration": 82,
             "learn": [
              0.06280830517
             ],
             "passed_time": 31.13153949,
             "remaining_time": 6.376339414,
             "test": [
              0.05552296484
             ]
            },
            {
             "iteration": 83,
             "learn": [
              0.06162118554
             ],
             "passed_time": 31.50993923,
             "remaining_time": 6.001893187,
             "test": [
              0.05423908411
             ]
            },
            {
             "iteration": 84,
             "learn": [
              0.06031315706
             ],
             "passed_time": 31.88587858,
             "remaining_time": 5.62691975,
             "test": [
              0.05296867543
             ]
            },
            {
             "iteration": 85,
             "learn": [
              0.05911175962
             ],
             "passed_time": 32.25253604,
             "remaining_time": 5.250412844,
             "test": [
              0.05185427211
             ]
            },
            {
             "iteration": 86,
             "learn": [
              0.05765356878
             ],
             "passed_time": 32.67442163,
             "remaining_time": 4.882384841,
             "test": [
              0.05050383111
             ]
            },
            {
             "iteration": 87,
             "learn": [
              0.05629141691
             ],
             "passed_time": 33.0010726,
             "remaining_time": 4.500146264,
             "test": [
              0.04920872323
             ]
            },
            {
             "iteration": 88,
             "learn": [
              0.055279296
             ],
             "passed_time": 33.38062249,
             "remaining_time": 4.125694914,
             "test": [
              0.04810321672
             ]
            },
            {
             "iteration": 89,
             "learn": [
              0.05395589255
             ],
             "passed_time": 33.79664774,
             "remaining_time": 3.755183082,
             "test": [
              0.04688417325
             ]
            },
            {
             "iteration": 90,
             "learn": [
              0.05267294829
             ],
             "passed_time": 34.18560401,
             "remaining_time": 3.380993803,
             "test": [
              0.04571304663
             ]
            },
            {
             "iteration": 91,
             "learn": [
              0.05173562088
             ],
             "passed_time": 34.56627427,
             "remaining_time": 3.00576298,
             "test": [
              0.044707789
             ]
            },
            {
             "iteration": 92,
             "learn": [
              0.05056802269
             ],
             "passed_time": 34.96674282,
             "remaining_time": 2.631905374,
             "test": [
              0.04359443162
             ]
            },
            {
             "iteration": 93,
             "learn": [
              0.04939543552
             ],
             "passed_time": 35.3675753,
             "remaining_time": 2.257504806,
             "test": [
              0.04253226965
             ]
            },
            {
             "iteration": 94,
             "learn": [
              0.04855329419
             ],
             "passed_time": 35.75030542,
             "remaining_time": 1.881595022,
             "test": [
              0.04161501003
             ]
            },
            {
             "iteration": 95,
             "learn": [
              0.04749215359
             ],
             "passed_time": 36.05711811,
             "remaining_time": 1.502379921,
             "test": [
              0.04056982557
             ]
            },
            {
             "iteration": 96,
             "learn": [
              0.04642686843
             ],
             "passed_time": 36.3846433,
             "remaining_time": 1.125298247,
             "test": [
              0.03951131735
             ]
            },
            {
             "iteration": 97,
             "learn": [
              0.04548761725
             ],
             "passed_time": 36.78642921,
             "remaining_time": 0.7507434532,
             "test": [
              0.03863719087
             ]
            },
            {
             "iteration": 98,
             "learn": [
              0.04463018167
             ],
             "passed_time": 37.16357624,
             "remaining_time": 0.375389659,
             "test": [
              0.03774698489
             ]
            },
            {
             "iteration": 99,
             "learn": [
              0.04399658049
             ],
             "passed_time": 37.5192869,
             "remaining_time": 0,
             "test": [
              0.03711238005
             ]
            }
           ],
           "meta": {
            "iteration_count": 100,
            "launch_mode": "Train",
            "learn_metrics": [
             {
              "best_value": "Min",
              "name": "CrossEntropy"
             }
            ],
            "learn_sets": [
             "learn"
            ],
            "name": "experiment",
            "parameters": "",
            "test_metrics": [
             {
              "best_value": "Min",
              "name": "CrossEntropy"
             }
            ],
            "test_sets": [
             "test"
            ]
           }
          },
          "passed_iterations": 99,
          "total_iterations": 100
         },
         "name": "catboost_info",
         "path": "catboost_info"
        }
       },
       "layout": "IPY_MODEL_5946f32333164a1db1805af6caee0de0"
      }
     },
     "7b02a13612ba4eaaba08f0ef45af5069": {
      "model_module": "@jupyter-widgets/base",
      "model_module_version": "1.2.0",
      "model_name": "LayoutModel",
      "state": {
       "_model_module": "@jupyter-widgets/base",
       "_model_module_version": "1.2.0",
       "_model_name": "LayoutModel",
       "_view_count": null,
       "_view_module": "@jupyter-widgets/base",
       "_view_module_version": "1.2.0",
       "_view_name": "LayoutView",
       "align_content": null,
       "align_items": null,
       "align_self": "stretch",
       "border": null,
       "bottom": null,
       "display": null,
       "flex": null,
       "flex_flow": null,
       "grid_area": null,
       "grid_auto_columns": null,
       "grid_auto_flow": null,
       "grid_auto_rows": null,
       "grid_column": null,
       "grid_gap": null,
       "grid_row": null,
       "grid_template_areas": null,
       "grid_template_columns": null,
       "grid_template_rows": null,
       "height": "500px",
       "justify_content": null,
       "justify_items": null,
       "left": null,
       "margin": null,
       "max_height": null,
       "max_width": null,
       "min_height": null,
       "min_width": null,
       "object_fit": null,
       "object_position": null,
       "order": null,
       "overflow": null,
       "overflow_x": null,
       "overflow_y": null,
       "padding": null,
       "right": null,
       "top": null,
       "visibility": null,
       "width": null
      }
     },
     "7ca5ae790d6c48a7ba1cc22d55bec299": {
      "model_module": "@jupyter-widgets/base",
      "model_module_version": "1.2.0",
      "model_name": "LayoutModel",
      "state": {
       "_model_module": "@jupyter-widgets/base",
       "_model_module_version": "1.2.0",
       "_model_name": "LayoutModel",
       "_view_count": null,
       "_view_module": "@jupyter-widgets/base",
       "_view_module_version": "1.2.0",
       "_view_name": "LayoutView",
       "align_content": null,
       "align_items": null,
       "align_self": "stretch",
       "border": null,
       "bottom": null,
       "display": null,
       "flex": null,
       "flex_flow": null,
       "grid_area": null,
       "grid_auto_columns": null,
       "grid_auto_flow": null,
       "grid_auto_rows": null,
       "grid_column": null,
       "grid_gap": null,
       "grid_row": null,
       "grid_template_areas": null,
       "grid_template_columns": null,
       "grid_template_rows": null,
       "height": "500px",
       "justify_content": null,
       "justify_items": null,
       "left": null,
       "margin": null,
       "max_height": null,
       "max_width": null,
       "min_height": null,
       "min_width": null,
       "object_fit": null,
       "object_position": null,
       "order": null,
       "overflow": null,
       "overflow_x": null,
       "overflow_y": null,
       "padding": null,
       "right": null,
       "top": null,
       "visibility": null,
       "width": null
      }
     },
     "7f870d80da524ada885d7ffc15ec7d85": {
      "model_module": "catboost-widget",
      "model_module_version": "^1.0.0",
      "model_name": "CatboostWidgetModel",
      "state": {
       "_dom_classes": [],
       "_model_module": "catboost-widget",
       "_model_module_version": "^1.0.0",
       "_model_name": "CatboostWidgetModel",
       "_view_count": null,
       "_view_module": "catboost-widget",
       "_view_module_version": "^1.0.0",
       "_view_name": "CatboostWidgetView",
       "data": {
        "catboost_info": {
         "content": {
          "data": {
           "iterations": [
            {
             "iteration": 0,
             "learn": [
              0.6662700761
             ],
             "passed_time": 0.4935557854,
             "remaining_time": 48.86202275,
             "test": [
              0.6673341467
             ]
            },
            {
             "iteration": 1,
             "learn": [
              0.6444127911
             ],
             "passed_time": 0.9704844606,
             "remaining_time": 47.55373857,
             "test": [
              0.6431669384
             ]
            },
            {
             "iteration": 2,
             "learn": [
              0.6200101014
             ],
             "passed_time": 1.445771727,
             "remaining_time": 46.74661917,
             "test": [
              0.6197581703
             ]
            },
            {
             "iteration": 3,
             "learn": [
              0.597837933
             ],
             "passed_time": 1.935598955,
             "remaining_time": 46.45437491,
             "test": [
              0.5979392602
             ]
            },
            {
             "iteration": 4,
             "learn": [
              0.5787653636
             ],
             "passed_time": 2.439019508,
             "remaining_time": 46.34137066,
             "test": [
              0.5772515916
             ]
            },
            {
             "iteration": 5,
             "learn": [
              0.5589934996
             ],
             "passed_time": 2.912085025,
             "remaining_time": 45.62266539,
             "test": [
              0.5575738577
             ]
            },
            {
             "iteration": 6,
             "learn": [
              0.540067733
             ],
             "passed_time": 3.390548406,
             "remaining_time": 45.04585739,
             "test": [
              0.5387830961
             ]
            },
            {
             "iteration": 7,
             "learn": [
              0.5231369187
             ],
             "passed_time": 3.864361664,
             "remaining_time": 44.44015914,
             "test": [
              0.5210423934
             ]
            },
            {
             "iteration": 8,
             "learn": [
              0.5058902868
             ],
             "passed_time": 4.341852467,
             "remaining_time": 43.90095272,
             "test": [
              0.5041232466
             ]
            },
            {
             "iteration": 9,
             "learn": [
              0.489902071
             ],
             "passed_time": 4.831116791,
             "remaining_time": 43.48005112,
             "test": [
              0.4876074389
             ]
            },
            {
             "iteration": 10,
             "learn": [
              0.4751585596
             ],
             "passed_time": 5.313271003,
             "remaining_time": 42.98919266,
             "test": [
              0.4723141155
             ]
            },
            {
             "iteration": 11,
             "learn": [
              0.4605883442
             ],
             "passed_time": 5.798899498,
             "remaining_time": 42.52526299,
             "test": [
              0.4575765018
             ]
            },
            {
             "iteration": 12,
             "learn": [
              0.4464494829
             ],
             "passed_time": 6.272005577,
             "remaining_time": 41.97419117,
             "test": [
              0.4431324134
             ]
            },
            {
             "iteration": 13,
             "learn": [
              0.4328622057
             ],
             "passed_time": 6.75910444,
             "remaining_time": 41.52021299,
             "test": [
              0.429671698
             ]
            },
            {
             "iteration": 14,
             "learn": [
              0.4194319398
             ],
             "passed_time": 7.221317615,
             "remaining_time": 40.92079982,
             "test": [
              0.4164743539
             ]
            },
            {
             "iteration": 15,
             "learn": [
              0.4069436006
             ],
             "passed_time": 7.709234365,
             "remaining_time": 40.47348042,
             "test": [
              0.4040503017
             ]
            },
            {
             "iteration": 16,
             "learn": [
              0.3953391004
             ],
             "passed_time": 8.2045929,
             "remaining_time": 40.05771828,
             "test": [
              0.3924167929
             ]
            },
            {
             "iteration": 17,
             "learn": [
              0.3847267791
             ],
             "passed_time": 8.693347256,
             "remaining_time": 39.60302639,
             "test": [
              0.38143613
             ]
            },
            {
             "iteration": 18,
             "learn": [
              0.3731293001
             ],
             "passed_time": 9.174579016,
             "remaining_time": 39.11267896,
             "test": [
              0.3701764982
             ]
            },
            {
             "iteration": 19,
             "learn": [
              0.3638249501
             ],
             "passed_time": 9.662324143,
             "remaining_time": 38.64929657,
             "test": [
              0.3598733757
             ]
            },
            {
             "iteration": 20,
             "learn": [
              0.3528543202
             ],
             "passed_time": 10.1405872,
             "remaining_time": 38.14792329,
             "test": [
              0.3495413107
             ]
            },
            {
             "iteration": 21,
             "learn": [
              0.3432735349
             ],
             "passed_time": 10.62001213,
             "remaining_time": 37.65277027,
             "test": [
              0.3394815234
             ]
            },
            {
             "iteration": 22,
             "learn": [
              0.3343532661
             ],
             "passed_time": 11.098957,
             "remaining_time": 37.15737779,
             "test": [
              0.3300042453
             ]
            },
            {
             "iteration": 23,
             "learn": [
              0.3250914619
             ],
             "passed_time": 11.53459234,
             "remaining_time": 36.52620907,
             "test": [
              0.3209568903
             ]
            },
            {
             "iteration": 24,
             "learn": [
              0.3162067786
             ],
             "passed_time": 12.01857377,
             "remaining_time": 36.0557213,
             "test": [
              0.3122750182
             ]
            },
            {
             "iteration": 25,
             "learn": [
              0.3082050923
             ],
             "passed_time": 12.46976475,
             "remaining_time": 35.4908689,
             "test": [
              0.3042172773
             ]
            },
            {
             "iteration": 26,
             "learn": [
              0.3006688076
             ],
             "passed_time": 12.99367756,
             "remaining_time": 35.13105414,
             "test": [
              0.2963361353
             ]
            },
            {
             "iteration": 27,
             "learn": [
              0.2930927771
             ],
             "passed_time": 13.4924553,
             "remaining_time": 34.69488505,
             "test": [
              0.2885763699
             ]
            },
            {
             "iteration": 28,
             "learn": [
              0.2858115576
             ],
             "passed_time": 13.97215439,
             "remaining_time": 34.20768832,
             "test": [
              0.280941781
             ]
            },
            {
             "iteration": 29,
             "learn": [
              0.2787537369
             ],
             "passed_time": 14.40840929,
             "remaining_time": 33.61962168,
             "test": [
              0.2739045598
             ]
            },
            {
             "iteration": 30,
             "learn": [
              0.2721117153
             ],
             "passed_time": 14.86153352,
             "remaining_time": 33.07889719,
             "test": [
              0.2672532019
             ]
            },
            {
             "iteration": 31,
             "learn": [
              0.2654576511
             ],
             "passed_time": 15.33890671,
             "remaining_time": 32.59517676,
             "test": [
              0.2607412839
             ]
            },
            {
             "iteration": 32,
             "learn": [
              0.2592166145
             ],
             "passed_time": 15.8145769,
             "remaining_time": 32.10838339,
             "test": [
              0.2544982273
             ]
            },
            {
             "iteration": 33,
             "learn": [
              0.252951949
             ],
             "passed_time": 16.28283859,
             "remaining_time": 31.60786314,
             "test": [
              0.2482511893
             ]
            },
            {
             "iteration": 34,
             "learn": [
              0.2469464935
             ],
             "passed_time": 16.76298872,
             "remaining_time": 31.13126477,
             "test": [
              0.2421003069
             ]
            },
            {
             "iteration": 35,
             "learn": [
              0.2410849801
             ],
             "passed_time": 17.21951738,
             "remaining_time": 30.61247534,
             "test": [
              0.2361393429
             ]
            },
            {
             "iteration": 36,
             "learn": [
              0.2353725206
             ],
             "passed_time": 17.71023473,
             "remaining_time": 30.15526454,
             "test": [
              0.2305192192
             ]
            },
            {
             "iteration": 37,
             "learn": [
              0.2300872717
             ],
             "passed_time": 18.18631173,
             "remaining_time": 29.67240335,
             "test": [
              0.2252705492
             ]
            },
            {
             "iteration": 38,
             "learn": [
              0.2247129066
             ],
             "passed_time": 18.66301123,
             "remaining_time": 29.19086372,
             "test": [
              0.2198381211
             ]
            },
            {
             "iteration": 39,
             "learn": [
              0.2196671496
             ],
             "passed_time": 19.12918657,
             "remaining_time": 28.69377985,
             "test": [
              0.2146798897
             ]
            },
            {
             "iteration": 40,
             "learn": [
              0.214788556
             ],
             "passed_time": 19.57736361,
             "remaining_time": 28.17230373,
             "test": [
              0.2097942692
             ]
            },
            {
             "iteration": 41,
             "learn": [
              0.2099138932
             ],
             "passed_time": 20.30768319,
             "remaining_time": 28.04394346,
             "test": [
              0.2049124911
             ]
            },
            {
             "iteration": 42,
             "learn": [
              0.2052033768
             ],
             "passed_time": 20.93678455,
             "remaining_time": 27.75341208,
             "test": [
              0.200302964
             ]
            },
            {
             "iteration": 43,
             "learn": [
              0.2008258866
             ],
             "passed_time": 21.41399037,
             "remaining_time": 27.25416957,
             "test": [
              0.1959658839
             ]
            },
            {
             "iteration": 44,
             "learn": [
              0.1965137898
             ],
             "passed_time": 21.87642174,
             "remaining_time": 26.73784879,
             "test": [
              0.1917189045
             ]
            },
            {
             "iteration": 45,
             "learn": [
              0.1925830737
             ],
             "passed_time": 22.30379988,
             "remaining_time": 26.18272159,
             "test": [
              0.1876888107
             ]
            },
            {
             "iteration": 46,
             "learn": [
              0.1883683883
             ],
             "passed_time": 22.75245689,
             "remaining_time": 25.65702585,
             "test": [
              0.1836248644
             ]
            },
            {
             "iteration": 47,
             "learn": [
              0.1847057653
             ],
             "passed_time": 23.19544828,
             "remaining_time": 25.1284023,
             "test": [
              0.1797553616
             ]
            },
            {
             "iteration": 48,
             "learn": [
              0.1806449035
             ],
             "passed_time": 23.6672637,
             "remaining_time": 24.63327446,
             "test": [
              0.1757454906
             ]
            },
            {
             "iteration": 49,
             "learn": [
              0.1769196133
             ],
             "passed_time": 24.19168559,
             "remaining_time": 24.19168559,
             "test": [
              0.1720090513
             ]
            },
            {
             "iteration": 50,
             "learn": [
              0.1735505339
             ],
             "passed_time": 24.61973452,
             "remaining_time": 23.65425474,
             "test": [
              0.1685728831
             ]
            },
            {
             "iteration": 51,
             "learn": [
              0.1700857211
             ],
             "passed_time": 25.09352348,
             "remaining_time": 23.16325244,
             "test": [
              0.1651230471
             ]
            },
            {
             "iteration": 52,
             "learn": [
              0.1667033834
             ],
             "passed_time": 25.54070375,
             "remaining_time": 22.64930332,
             "test": [
              0.1617119834
             ]
            },
            {
             "iteration": 53,
             "learn": [
              0.1634540947
             ],
             "passed_time": 25.97962615,
             "remaining_time": 22.13079265,
             "test": [
              0.1585172267
             ]
            },
            {
             "iteration": 54,
             "learn": [
              0.1603734304
             ],
             "passed_time": 26.45761914,
             "remaining_time": 21.64714294,
             "test": [
              0.1553245486
             ]
            },
            {
             "iteration": 55,
             "learn": [
              0.1573422028
             ],
             "passed_time": 26.90340803,
             "remaining_time": 21.13839203,
             "test": [
              0.1522830599
             ]
            },
            {
             "iteration": 56,
             "learn": [
              0.1543508154
             ],
             "passed_time": 27.35027705,
             "remaining_time": 20.63266514,
             "test": [
              0.1493168172
             ]
            },
            {
             "iteration": 57,
             "learn": [
              0.151472436
             ],
             "passed_time": 27.82488566,
             "remaining_time": 20.14905513,
             "test": [
              0.1464182793
             ]
            },
            {
             "iteration": 58,
             "learn": [
              0.148736694
             ],
             "passed_time": 28.25378731,
             "remaining_time": 19.6339878,
             "test": [
              0.1436643729
             ]
            },
            {
             "iteration": 59,
             "learn": [
              0.1460432599
             ],
             "passed_time": 28.70213857,
             "remaining_time": 19.13475904,
             "test": [
              0.1409926617
             ]
            },
            {
             "iteration": 60,
             "learn": [
              0.1435355176
             ],
             "passed_time": 29.13812395,
             "remaining_time": 18.62929236,
             "test": [
              0.1385590467
             ]
            },
            {
             "iteration": 61,
             "learn": [
              0.1409857032
             ],
             "passed_time": 29.59180892,
             "remaining_time": 18.13691514,
             "test": [
              0.1360368359
             ]
            },
            {
             "iteration": 62,
             "learn": [
              0.1384023773
             ],
             "passed_time": 30.09110478,
             "remaining_time": 17.6725536,
             "test": [
              0.1333626264
             ]
            },
            {
             "iteration": 63,
             "learn": [
              0.1361041706
             ],
             "passed_time": 30.59053958,
             "remaining_time": 17.20717851,
             "test": [
              0.1308578295
             ]
            },
            {
             "iteration": 64,
             "learn": [
              0.13379182
             ],
             "passed_time": 31.01785981,
             "remaining_time": 16.70192451,
             "test": [
              0.1284908759
             ]
            },
            {
             "iteration": 65,
             "learn": [
              0.1313479655
             ],
             "passed_time": 31.52495048,
             "remaining_time": 16.240126,
             "test": [
              0.1259651835
             ]
            },
            {
             "iteration": 66,
             "learn": [
              0.1292776266
             ],
             "passed_time": 31.95755994,
             "remaining_time": 15.74029071,
             "test": [
              0.1238162551
             ]
            },
            {
             "iteration": 67,
             "learn": [
              0.1270857728
             ],
             "passed_time": 32.39784661,
             "remaining_time": 15.24604546,
             "test": [
              0.1217250602
             ]
            },
            {
             "iteration": 68,
             "learn": [
              0.1250492194
             ],
             "passed_time": 32.87791611,
             "remaining_time": 14.77123767,
             "test": [
              0.1195533565
             ]
            },
            {
             "iteration": 69,
             "learn": [
              0.1229421638
             ],
             "passed_time": 33.28790189,
             "remaining_time": 14.26624367,
             "test": [
              0.1175367052
             ]
            },
            {
             "iteration": 70,
             "learn": [
              0.1210327678
             ],
             "passed_time": 33.76046054,
             "remaining_time": 13.78948388,
             "test": [
              0.1154431114
             ]
            },
            {
             "iteration": 71,
             "learn": [
              0.119118608
             ],
             "passed_time": 34.1969066,
             "remaining_time": 13.29879701,
             "test": [
              0.1135243975
             ]
            },
            {
             "iteration": 72,
             "learn": [
              0.1170712439
             ],
             "passed_time": 34.67016548,
             "remaining_time": 12.82321189,
             "test": [
              0.1114452326
             ]
            },
            {
             "iteration": 73,
             "learn": [
              0.1153885283
             ],
             "passed_time": 35.19606263,
             "remaining_time": 12.36618417,
             "test": [
              0.1097857953
             ]
            },
            {
             "iteration": 74,
             "learn": [
              0.113502679
             ],
             "passed_time": 35.62284013,
             "remaining_time": 11.87428004,
             "test": [
              0.1079127483
             ]
            },
            {
             "iteration": 75,
             "learn": [
              0.1115897825
             ],
             "passed_time": 36.09094989,
             "remaining_time": 11.39714207,
             "test": [
              0.1060037277
             ]
            },
            {
             "iteration": 76,
             "learn": [
              0.1097906268
             ],
             "passed_time": 36.55188488,
             "remaining_time": 10.91809548,
             "test": [
              0.1041545087
             ]
            },
            {
             "iteration": 77,
             "learn": [
              0.1084167463
             ],
             "passed_time": 37.02769179,
             "remaining_time": 10.44370794,
             "test": [
              0.1025929839
             ]
            },
            {
             "iteration": 78,
             "learn": [
              0.1064981577
             ],
             "passed_time": 37.49602583,
             "remaining_time": 9.967298007,
             "test": [
              0.1008066118
             ]
            },
            {
             "iteration": 79,
             "learn": [
              0.1047944292
             ],
             "passed_time": 37.92897042,
             "remaining_time": 9.482242606,
             "test": [
              0.0991244109
             ]
            },
            {
             "iteration": 80,
             "learn": [
              0.103491978
             ],
             "passed_time": 38.3672758,
             "remaining_time": 8.99973136,
             "test": [
              0.09762214482
             ]
            },
            {
             "iteration": 81,
             "learn": [
              0.1017264529
             ],
             "passed_time": 38.832899,
             "remaining_time": 8.524294903,
             "test": [
              0.09603402023
             ]
            },
            {
             "iteration": 82,
             "learn": [
              0.1002567719
             ],
             "passed_time": 39.21631812,
             "remaining_time": 8.032257929,
             "test": [
              0.09454755875
             ]
            },
            {
             "iteration": 83,
             "learn": [
              0.09866137682
             ],
             "passed_time": 39.69521547,
             "remaining_time": 7.560993422,
             "test": [
              0.09297874242
             ]
            },
            {
             "iteration": 84,
             "learn": [
              0.09721379647
             ],
             "passed_time": 40.07586447,
             "remaining_time": 7.072211377,
             "test": [
              0.09177992297
             ]
            },
            {
             "iteration": 85,
             "learn": [
              0.09580954191
             ],
             "passed_time": 40.53690422,
             "remaining_time": 6.599030919,
             "test": [
              0.09039236032
             ]
            },
            {
             "iteration": 86,
             "learn": [
              0.09457763564
             ],
             "passed_time": 40.96613515,
             "remaining_time": 6.121376517,
             "test": [
              0.08912016939
             ]
            },
            {
             "iteration": 87,
             "learn": [
              0.09322372369
             ],
             "passed_time": 41.38771937,
             "remaining_time": 5.643779914,
             "test": [
              0.08786324036
             ]
            },
            {
             "iteration": 88,
             "learn": [
              0.09204203775
             ],
             "passed_time": 41.81559368,
             "remaining_time": 5.168219443,
             "test": [
              0.0866878291
             ]
            },
            {
             "iteration": 89,
             "learn": [
              0.09085004319
             ],
             "passed_time": 42.23266818,
             "remaining_time": 4.692518687,
             "test": [
              0.08540886305
             ]
            },
            {
             "iteration": 90,
             "learn": [
              0.08983891911
             ],
             "passed_time": 42.67460969,
             "remaining_time": 4.220565794,
             "test": [
              0.08445898293
             ]
            },
            {
             "iteration": 91,
             "learn": [
              0.08867985152
             ],
             "passed_time": 43.06703528,
             "remaining_time": 3.744959589,
             "test": [
              0.08345291184
             ]
            },
            {
             "iteration": 92,
             "learn": [
              0.08747463152
             ],
             "passed_time": 43.53398887,
             "remaining_time": 3.276751851,
             "test": [
              0.08216905398
             ]
            },
            {
             "iteration": 93,
             "learn": [
              0.08633063989
             ],
             "passed_time": 43.95983422,
             "remaining_time": 2.805946865,
             "test": [
              0.08097579063
             ]
            },
            {
             "iteration": 94,
             "learn": [
              0.08504030038
             ],
             "passed_time": 44.39786805,
             "remaining_time": 2.336729897,
             "test": [
              0.07980728295
             ]
            },
            {
             "iteration": 95,
             "learn": [
              0.08386109777
             ],
             "passed_time": 44.88680145,
             "remaining_time": 1.870283394,
             "test": [
              0.07861493788
             ]
            },
            {
             "iteration": 96,
             "learn": [
              0.08267340721
             ],
             "passed_time": 45.31873261,
             "remaining_time": 1.401610287,
             "test": [
              0.07754500727
             ]
            },
            {
             "iteration": 97,
             "learn": [
              0.08171423162
             ],
             "passed_time": 45.65027649,
             "remaining_time": 0.9316382958,
             "test": [
              0.07683451494
             ]
            },
            {
             "iteration": 98,
             "learn": [
              0.08058156614
             ],
             "passed_time": 46.13693324,
             "remaining_time": 0.4660296287,
             "test": [
              0.07554594141
             ]
            },
            {
             "iteration": 99,
             "learn": [
              0.07974207476
             ],
             "passed_time": 46.46388341,
             "remaining_time": 0,
             "test": [
              0.0748918663
             ]
            }
           ],
           "meta": {
            "iteration_count": 100,
            "launch_mode": "Train",
            "learn_metrics": [
             {
              "best_value": "Min",
              "name": "CrossEntropy"
             }
            ],
            "learn_sets": [
             "learn"
            ],
            "name": "experiment",
            "parameters": "",
            "test_metrics": [
             {
              "best_value": "Min",
              "name": "CrossEntropy"
             }
            ],
            "test_sets": [
             "test"
            ]
           }
          },
          "passed_iterations": 99,
          "total_iterations": 100
         },
         "name": "catboost_info",
         "path": "catboost_info"
        }
       },
       "layout": "IPY_MODEL_26fa88c50f1c43d4a7c8141dfb4af6d7"
      }
     },
     "842c0bac908849169415f305f4469174": {
      "model_module": "@jupyter-widgets/base",
      "model_module_version": "1.2.0",
      "model_name": "LayoutModel",
      "state": {
       "_model_module": "@jupyter-widgets/base",
       "_model_module_version": "1.2.0",
       "_model_name": "LayoutModel",
       "_view_count": null,
       "_view_module": "@jupyter-widgets/base",
       "_view_module_version": "1.2.0",
       "_view_name": "LayoutView",
       "align_content": null,
       "align_items": null,
       "align_self": "stretch",
       "border": null,
       "bottom": null,
       "display": null,
       "flex": null,
       "flex_flow": null,
       "grid_area": null,
       "grid_auto_columns": null,
       "grid_auto_flow": null,
       "grid_auto_rows": null,
       "grid_column": null,
       "grid_gap": null,
       "grid_row": null,
       "grid_template_areas": null,
       "grid_template_columns": null,
       "grid_template_rows": null,
       "height": "500px",
       "justify_content": null,
       "justify_items": null,
       "left": null,
       "margin": null,
       "max_height": null,
       "max_width": null,
       "min_height": null,
       "min_width": null,
       "object_fit": null,
       "object_position": null,
       "order": null,
       "overflow": null,
       "overflow_x": null,
       "overflow_y": null,
       "padding": null,
       "right": null,
       "top": null,
       "visibility": null,
       "width": null
      }
     },
     "856d51ba6da34112b421e0d2df6c657d": {
      "model_module": "@jupyter-widgets/base",
      "model_module_version": "1.2.0",
      "model_name": "LayoutModel",
      "state": {
       "_model_module": "@jupyter-widgets/base",
       "_model_module_version": "1.2.0",
       "_model_name": "LayoutModel",
       "_view_count": null,
       "_view_module": "@jupyter-widgets/base",
       "_view_module_version": "1.2.0",
       "_view_name": "LayoutView",
       "align_content": null,
       "align_items": null,
       "align_self": "stretch",
       "border": null,
       "bottom": null,
       "display": null,
       "flex": null,
       "flex_flow": null,
       "grid_area": null,
       "grid_auto_columns": null,
       "grid_auto_flow": null,
       "grid_auto_rows": null,
       "grid_column": null,
       "grid_gap": null,
       "grid_row": null,
       "grid_template_areas": null,
       "grid_template_columns": null,
       "grid_template_rows": null,
       "height": "500px",
       "justify_content": null,
       "justify_items": null,
       "left": null,
       "margin": null,
       "max_height": null,
       "max_width": null,
       "min_height": null,
       "min_width": null,
       "object_fit": null,
       "object_position": null,
       "order": null,
       "overflow": null,
       "overflow_x": null,
       "overflow_y": null,
       "padding": null,
       "right": null,
       "top": null,
       "visibility": null,
       "width": null
      }
     },
     "877b6936d18c4c72bfa97b1279164a35": {
      "model_module": "catboost-widget",
      "model_module_version": "^1.0.0",
      "model_name": "CatboostWidgetModel",
      "state": {
       "_dom_classes": [],
       "_model_module": "catboost-widget",
       "_model_module_version": "^1.0.0",
       "_model_name": "CatboostWidgetModel",
       "_view_count": null,
       "_view_module": "catboost-widget",
       "_view_module_version": "^1.0.0",
       "_view_name": "CatboostWidgetView",
       "data": {
        "catboost_info": {
         "content": {
          "data": {
           "iterations": [
            {
             "iteration": 0,
             "learn": [
              0.6688849987
             ],
             "passed_time": 0.439299532,
             "remaining_time": 43.49065367,
             "test": [
              0.6693233882
             ]
            },
            {
             "iteration": 1,
             "learn": [
              0.6461220953
             ],
             "passed_time": 0.8746779004,
             "remaining_time": 42.85921712,
             "test": [
              0.646712411
             ]
            },
            {
             "iteration": 2,
             "learn": [
              0.6237817641
             ],
             "passed_time": 1.302798855,
             "remaining_time": 42.12382965,
             "test": [
              0.6253568481
             ]
            },
            {
             "iteration": 3,
             "learn": [
              0.6041674165
             ],
             "passed_time": 1.764213813,
             "remaining_time": 42.34113152,
             "test": [
              0.6055429912
             ]
            },
            {
             "iteration": 4,
             "learn": [
              0.5844383286
             ],
             "passed_time": 2.124579405,
             "remaining_time": 40.3670087,
             "test": [
              0.5855454707
             ]
            },
            {
             "iteration": 5,
             "learn": [
              0.5663844289
             ],
             "passed_time": 2.55627417,
             "remaining_time": 40.04829534,
             "test": [
              0.5675078887
             ]
            },
            {
             "iteration": 6,
             "learn": [
              0.5475347068
             ],
             "passed_time": 2.918084243,
             "remaining_time": 38.76883352,
             "test": [
              0.5493280324
             ]
            },
            {
             "iteration": 7,
             "learn": [
              0.5317371831
             ],
             "passed_time": 3.379344258,
             "remaining_time": 38.86245897,
             "test": [
              0.5332448494
             ]
            },
            {
             "iteration": 8,
             "learn": [
              0.5148859852
             ],
             "passed_time": 3.73788246,
             "remaining_time": 37.79414487,
             "test": [
              0.5166175908
             ]
            },
            {
             "iteration": 9,
             "learn": [
              0.499278055
             ],
             "passed_time": 4.09953842,
             "remaining_time": 36.89584578,
             "test": [
              0.5010500352
             ]
            },
            {
             "iteration": 10,
             "learn": [
              0.4845918259
             ],
             "passed_time": 4.532040543,
             "remaining_time": 36.66832803,
             "test": [
              0.4871523686
             ]
            },
            {
             "iteration": 11,
             "learn": [
              0.4708376906
             ],
             "passed_time": 4.996859929,
             "remaining_time": 36.64363948,
             "test": [
              0.4736742368
             ]
            },
            {
             "iteration": 12,
             "learn": [
              0.4580324015
             ],
             "passed_time": 5.468699915,
             "remaining_time": 36.59822251,
             "test": [
              0.4611015004
             ]
            },
            {
             "iteration": 13,
             "learn": [
              0.4447958569
             ],
             "passed_time": 5.876400374,
             "remaining_time": 36.09788801,
             "test": [
              0.4481525979
             ]
            },
            {
             "iteration": 14,
             "learn": [
              0.4330362487
             ],
             "passed_time": 6.295773008,
             "remaining_time": 35.67604704,
             "test": [
              0.4366155741
             ]
            },
            {
             "iteration": 15,
             "learn": [
              0.4208652486
             ],
             "passed_time": 6.659059089,
             "remaining_time": 34.96006022,
             "test": [
              0.4244320295
             ]
            },
            {
             "iteration": 16,
             "learn": [
              0.4091628723
             ],
             "passed_time": 7.024220205,
             "remaining_time": 34.29472218,
             "test": [
              0.4126342356
             ]
            },
            {
             "iteration": 17,
             "learn": [
              0.3979679183
             ],
             "passed_time": 7.386248355,
             "remaining_time": 33.64846473,
             "test": [
              0.4015452293
             ]
            },
            {
             "iteration": 18,
             "learn": [
              0.3879210571
             ],
             "passed_time": 7.864346908,
             "remaining_time": 33.52695261,
             "test": [
              0.391941844
             ]
            },
            {
             "iteration": 19,
             "learn": [
              0.3778312623
             ],
             "passed_time": 8.252648335,
             "remaining_time": 33.01059334,
             "test": [
              0.3818946593
             ]
            },
            {
             "iteration": 20,
             "learn": [
              0.3677756983
             ],
             "passed_time": 8.621979049,
             "remaining_time": 32.43506404,
             "test": [
              0.371817121
             ]
            },
            {
             "iteration": 21,
             "learn": [
              0.3587741823
             ],
             "passed_time": 9.085108701,
             "remaining_time": 32.21083994,
             "test": [
              0.3630867199
             ]
            },
            {
             "iteration": 22,
             "learn": [
              0.349675466
             ],
             "passed_time": 9.538480337,
             "remaining_time": 31.9331733,
             "test": [
              0.3541395976
             ]
            },
            {
             "iteration": 23,
             "learn": [
              0.3412535072
             ],
             "passed_time": 9.882263035,
             "remaining_time": 31.29383294,
             "test": [
              0.3456369885
             ]
            },
            {
             "iteration": 24,
             "learn": [
              0.333322008
             ],
             "passed_time": 10.3494485,
             "remaining_time": 31.0483455,
             "test": [
              0.3377898763
             ]
            },
            {
             "iteration": 25,
             "learn": [
              0.3252575516
             ],
             "passed_time": 10.71493756,
             "remaining_time": 30.49636076,
             "test": [
              0.330017442
             ]
            },
            {
             "iteration": 26,
             "learn": [
              0.3172222901
             ],
             "passed_time": 11.15825847,
             "remaining_time": 30.16862476,
             "test": [
              0.322144595
             ]
            },
            {
             "iteration": 27,
             "learn": [
              0.3097699705
             ],
             "passed_time": 11.48995113,
             "remaining_time": 29.54558862,
             "test": [
              0.314719733
             ]
            },
            {
             "iteration": 28,
             "learn": [
              0.3024040315
             ],
             "passed_time": 11.85910238,
             "remaining_time": 29.03435409,
             "test": [
              0.3080082586
             ]
            },
            {
             "iteration": 29,
             "learn": [
              0.2953903131
             ],
             "passed_time": 12.28302044,
             "remaining_time": 28.66038102,
             "test": [
              0.3010383956
             ]
            },
            {
             "iteration": 30,
             "learn": [
              0.2880178422
             ],
             "passed_time": 12.74239169,
             "remaining_time": 28.36209764,
             "test": [
              0.2936922313
             ]
            },
            {
             "iteration": 31,
             "learn": [
              0.281224865
             ],
             "passed_time": 13.22130973,
             "remaining_time": 28.09528318,
             "test": [
              0.2870672532
             ]
            },
            {
             "iteration": 32,
             "learn": [
              0.2749445101
             ],
             "passed_time": 13.58721444,
             "remaining_time": 27.58616266,
             "test": [
              0.2810775893
             ]
            },
            {
             "iteration": 33,
             "learn": [
              0.2688464889
             ],
             "passed_time": 13.92290965,
             "remaining_time": 27.02682462,
             "test": [
              0.275059708
             ]
            },
            {
             "iteration": 34,
             "learn": [
              0.2629380238
             ],
             "passed_time": 14.38748148,
             "remaining_time": 26.71960846,
             "test": [
              0.2692027472
             ]
            },
            {
             "iteration": 35,
             "learn": [
              0.2571747309
             ],
             "passed_time": 14.72481465,
             "remaining_time": 26.17744827,
             "test": [
              0.2635570798
             ]
            },
            {
             "iteration": 36,
             "learn": [
              0.2515506913
             ],
             "passed_time": 15.05328463,
             "remaining_time": 25.63126842,
             "test": [
              0.2580991331
             ]
            },
            {
             "iteration": 37,
             "learn": [
              0.2460606518
             ],
             "passed_time": 15.54508133,
             "remaining_time": 25.36302743,
             "test": [
              0.252544517
             ]
            },
            {
             "iteration": 38,
             "learn": [
              0.2410353044
             ],
             "passed_time": 15.87638417,
             "remaining_time": 24.83229319,
             "test": [
              0.2475281642
             ]
            },
            {
             "iteration": 39,
             "learn": [
              0.2357546468
             ],
             "passed_time": 16.31791091,
             "remaining_time": 24.47686637,
             "test": [
              0.2424103207
             ]
            },
            {
             "iteration": 40,
             "learn": [
              0.2307683143
             ],
             "passed_time": 16.80511065,
             "remaining_time": 24.1829641,
             "test": [
              0.2374613671
             ]
            },
            {
             "iteration": 41,
             "learn": [
              0.2255290947
             ],
             "passed_time": 17.3013852,
             "remaining_time": 23.89238908,
             "test": [
              0.2325185402
             ]
            },
            {
             "iteration": 42,
             "learn": [
              0.2210591251
             ],
             "passed_time": 17.63919148,
             "remaining_time": 23.38218405,
             "test": [
              0.2280918574
             ]
            },
            {
             "iteration": 43,
             "learn": [
              0.2161209456
             ],
             "passed_time": 18.13257874,
             "remaining_time": 23.07782748,
             "test": [
              0.2233321906
             ]
            },
            {
             "iteration": 44,
             "learn": [
              0.2118829806
             ],
             "passed_time": 18.58247226,
             "remaining_time": 22.71191055,
             "test": [
              0.2190326955
             ]
            },
            {
             "iteration": 45,
             "learn": [
              0.2076186828
             ],
             "passed_time": 18.91461988,
             "remaining_time": 22.20411899,
             "test": [
              0.2149014621
             ]
            },
            {
             "iteration": 46,
             "learn": [
              0.2031713986
             ],
             "passed_time": 19.43301779,
             "remaining_time": 21.91382857,
             "test": [
              0.2106330815
             ]
            },
            {
             "iteration": 47,
             "learn": [
              0.199216129
             ],
             "passed_time": 19.7684415,
             "remaining_time": 21.41581162,
             "test": [
              0.2067678845
             ]
            },
            {
             "iteration": 48,
             "learn": [
              0.1950800547
             ],
             "passed_time": 20.26375787,
             "remaining_time": 21.09085003,
             "test": [
              0.2027529088
             ]
            },
            {
             "iteration": 49,
             "learn": [
              0.1912503302
             ],
             "passed_time": 20.64848653,
             "remaining_time": 20.64848653,
             "test": [
              0.1989519967
             ]
            },
            {
             "iteration": 50,
             "learn": [
              0.1874723982
             ],
             "passed_time": 21.01686535,
             "remaining_time": 20.19267455,
             "test": [
              0.1954150332
             ]
            },
            {
             "iteration": 51,
             "learn": [
              0.18407818
             ],
             "passed_time": 21.47591306,
             "remaining_time": 19.82391975,
             "test": [
              0.1923212862
             ]
            },
            {
             "iteration": 52,
             "learn": [
              0.180612608
             ],
             "passed_time": 21.98780428,
             "remaining_time": 19.49861889,
             "test": [
              0.1891821354
             ]
            },
            {
             "iteration": 53,
             "learn": [
              0.1772987569
             ],
             "passed_time": 22.45740372,
             "remaining_time": 19.13038094,
             "test": [
              0.1859033946
             ]
            },
            {
             "iteration": 54,
             "learn": [
              0.1738963474
             ],
             "passed_time": 22.79392488,
             "remaining_time": 18.6495749,
             "test": [
              0.1825742185
             ]
            },
            {
             "iteration": 55,
             "learn": [
              0.1705260136
             ],
             "passed_time": 23.28372294,
             "remaining_time": 18.29435374,
             "test": [
              0.1793793251
             ]
            },
            {
             "iteration": 56,
             "learn": [
              0.1675315678
             ],
             "passed_time": 23.62304369,
             "remaining_time": 17.82089261,
             "test": [
              0.1762912166
             ]
            },
            {
             "iteration": 57,
             "learn": [
              0.1645117493
             ],
             "passed_time": 23.96310481,
             "remaining_time": 17.35259313,
             "test": [
              0.1733094711
             ]
            },
            {
             "iteration": 58,
             "learn": [
              0.1614765531
             ],
             "passed_time": 24.44724559,
             "remaining_time": 16.98876388,
             "test": [
              0.1703400534
             ]
            },
            {
             "iteration": 59,
             "learn": [
              0.1584952001
             ],
             "passed_time": 24.91938217,
             "remaining_time": 16.61292145,
             "test": [
              0.1672641433
             ]
            },
            {
             "iteration": 60,
             "learn": [
              0.155084847
             ],
             "passed_time": 25.33589208,
             "remaining_time": 16.19835723,
             "test": [
              0.1640897798
             ]
            },
            {
             "iteration": 61,
             "learn": [
              0.1526840577
             ],
             "passed_time": 25.67754431,
             "remaining_time": 15.73784974,
             "test": [
              0.1616841703
             ]
            },
            {
             "iteration": 62,
             "learn": [
              0.1498495615
             ],
             "passed_time": 26.15999061,
             "remaining_time": 15.36380401,
             "test": [
              0.1588872344
             ]
            },
            {
             "iteration": 63,
             "learn": [
              0.1469997627
             ],
             "passed_time": 26.5474362,
             "remaining_time": 14.93293286,
             "test": [
              0.1559830742
             ]
            },
            {
             "iteration": 64,
             "learn": [
              0.1440008929
             ],
             "passed_time": 27.06708527,
             "remaining_time": 14.57458438,
             "test": [
              0.1531549441
             ]
            },
            {
             "iteration": 65,
             "learn": [
              0.1412346557
             ],
             "passed_time": 27.74045746,
             "remaining_time": 14.29053869,
             "test": [
              0.150405438
             ]
            },
            {
             "iteration": 66,
             "learn": [
              0.138653384
             ],
             "passed_time": 28.26186258,
             "remaining_time": 13.92002187,
             "test": [
              0.1478384955
             ]
            },
            {
             "iteration": 67,
             "learn": [
              0.1364498437
             ],
             "passed_time": 28.68250621,
             "remaining_time": 13.49764998,
             "test": [
              0.1455267103
             ]
            },
            {
             "iteration": 68,
             "learn": [
              0.1344284852
             ],
             "passed_time": 29.02580025,
             "remaining_time": 13.04057692,
             "test": [
              0.1435275211
             ]
            },
            {
             "iteration": 69,
             "learn": [
              0.1318243707
             ],
             "passed_time": 29.4544845,
             "remaining_time": 12.6233505,
             "test": [
              0.1410793698
             ]
            },
            {
             "iteration": 70,
             "learn": [
              0.1294684278
             ],
             "passed_time": 29.95912984,
             "remaining_time": 12.23682768,
             "test": [
              0.1388102503
             ]
            },
            {
             "iteration": 71,
             "learn": [
              0.1272093036
             ],
             "passed_time": 30.41628385,
             "remaining_time": 11.82855483,
             "test": [
              0.1363571273
             ]
            },
            {
             "iteration": 72,
             "learn": [
              0.1249910038
             ],
             "passed_time": 30.86285795,
             "remaining_time": 11.41502965,
             "test": [
              0.1340654185
             ]
            },
            {
             "iteration": 73,
             "learn": [
              0.1230682433
             ],
             "passed_time": 31.23809826,
             "remaining_time": 10.97554804,
             "test": [
              0.1320420711
             ]
            },
            {
             "iteration": 74,
             "learn": [
              0.1209436821
             ],
             "passed_time": 31.69742896,
             "remaining_time": 10.56580965,
             "test": [
              0.1301218362
             ]
            },
            {
             "iteration": 75,
             "learn": [
              0.1188747724
             ],
             "passed_time": 32.19756345,
             "remaining_time": 10.16765162,
             "test": [
              0.1280823924
             ]
            },
            {
             "iteration": 76,
             "learn": [
              0.1166293346
             ],
             "passed_time": 32.70552242,
             "remaining_time": 9.769182021,
             "test": [
              0.1259562374
             ]
            },
            {
             "iteration": 77,
             "learn": [
              0.1148738523
             ],
             "passed_time": 33.03935961,
             "remaining_time": 9.318793735,
             "test": [
              0.1242028493
             ]
            },
            {
             "iteration": 78,
             "learn": [
              0.1126505276
             ],
             "passed_time": 33.49487244,
             "remaining_time": 8.903700268,
             "test": [
              0.1220965681
             ]
            },
            {
             "iteration": 79,
             "learn": [
              0.1107559239
             ],
             "passed_time": 33.99802353,
             "remaining_time": 8.499505882,
             "test": [
              0.1202094371
             ]
            },
            {
             "iteration": 80,
             "learn": [
              0.1086113265
             ],
             "passed_time": 34.45051373,
             "remaining_time": 8.080984703,
             "test": [
              0.1181528909
             ]
            },
            {
             "iteration": 81,
             "learn": [
              0.1071224882
             ],
             "passed_time": 34.84130543,
             "remaining_time": 7.648091435,
             "test": [
              0.1166788424
             ]
            },
            {
             "iteration": 82,
             "learn": [
              0.1056555956
             ],
             "passed_time": 35.24997291,
             "remaining_time": 7.21987397,
             "test": [
              0.1150323271
             ]
            },
            {
             "iteration": 83,
             "learn": [
              0.1038474955
             ],
             "passed_time": 35.63137716,
             "remaining_time": 6.786928983,
             "test": [
              0.1132569889
             ]
            },
            {
             "iteration": 84,
             "learn": [
              0.1024896314
             ],
             "passed_time": 35.96640979,
             "remaining_time": 6.347013492,
             "test": [
              0.1119356101
             ]
            },
            {
             "iteration": 85,
             "learn": [
              0.1008277602
             ],
             "passed_time": 36.41933395,
             "remaining_time": 5.928728783,
             "test": [
              0.1102683079
             ]
            },
            {
             "iteration": 86,
             "learn": [
              0.0990275527
             ],
             "passed_time": 36.92137316,
             "remaining_time": 5.516986794,
             "test": [
              0.1085765034
             ]
            },
            {
             "iteration": 87,
             "learn": [
              0.09752013428
             ],
             "passed_time": 37.40698196,
             "remaining_time": 5.100952085,
             "test": [
              0.107085377
             ]
            },
            {
             "iteration": 88,
             "learn": [
              0.09571671129
             ],
             "passed_time": 37.85172113,
             "remaining_time": 4.678302611,
             "test": [
              0.1052113189
             ]
            },
            {
             "iteration": 89,
             "learn": [
              0.09439837627
             ],
             "passed_time": 38.35493204,
             "remaining_time": 4.261659115,
             "test": [
              0.1038777729
             ]
            },
            {
             "iteration": 90,
             "learn": [
              0.09321643023
             ],
             "passed_time": 38.69592169,
             "remaining_time": 3.827069178,
             "test": [
              0.1026845779
             ]
            },
            {
             "iteration": 91,
             "learn": [
              0.09178756983
             ],
             "passed_time": 39.15866378,
             "remaining_time": 3.405101199,
             "test": [
              0.1012439221
             ]
            },
            {
             "iteration": 92,
             "learn": [
              0.090594425
             ],
             "passed_time": 39.56220885,
             "remaining_time": 2.977800666,
             "test": [
              0.09997020145
             ]
            },
            {
             "iteration": 93,
             "learn": [
              0.08906827924
             ],
             "passed_time": 39.99971063,
             "remaining_time": 2.553173019,
             "test": [
              0.09832963308
             ]
            },
            {
             "iteration": 94,
             "learn": [
              0.08798435339
             ],
             "passed_time": 40.33577348,
             "remaining_time": 2.122935446,
             "test": [
              0.09723930446
             ]
            },
            {
             "iteration": 95,
             "learn": [
              0.08692885211
             ],
             "passed_time": 40.77282525,
             "remaining_time": 1.698867719,
             "test": [
              0.09616051594
             ]
            },
            {
             "iteration": 96,
             "learn": [
              0.08564584016
             ],
             "passed_time": 41.27058329,
             "remaining_time": 1.276409793,
             "test": [
              0.09486663912
             ]
            },
            {
             "iteration": 97,
             "learn": [
              0.08421737733
             ],
             "passed_time": 41.7398809,
             "remaining_time": 0.851834304,
             "test": [
              0.09353125121
             ]
            },
            {
             "iteration": 98,
             "learn": [
              0.08303897052
             ],
             "passed_time": 42.14382855,
             "remaining_time": 0.4256952379,
             "test": [
              0.09219587883
             ]
            },
            {
             "iteration": 99,
             "learn": [
              0.08168570612
             ],
             "passed_time": 42.65152566,
             "remaining_time": 0,
             "test": [
              0.09090975671
             ]
            }
           ],
           "meta": {
            "iteration_count": 100,
            "launch_mode": "Train",
            "learn_metrics": [
             {
              "best_value": "Min",
              "name": "CrossEntropy"
             }
            ],
            "learn_sets": [
             "learn"
            ],
            "name": "experiment",
            "parameters": "",
            "test_metrics": [
             {
              "best_value": "Min",
              "name": "CrossEntropy"
             }
            ],
            "test_sets": [
             "test"
            ]
           }
          },
          "passed_iterations": 99,
          "total_iterations": 100
         },
         "name": "catboost_info",
         "path": "catboost_info"
        }
       },
       "layout": "IPY_MODEL_ccccd37d33fe496684dc256264bdde5c"
      }
     },
     "8dc9f347caff454c8fcc88cfe2ae0100": {
      "model_module": "catboost-widget",
      "model_module_version": "^1.0.0",
      "model_name": "CatboostWidgetModel",
      "state": {
       "_dom_classes": [],
       "_model_module": "catboost-widget",
       "_model_module_version": "^1.0.0",
       "_model_name": "CatboostWidgetModel",
       "_view_count": null,
       "_view_module": "catboost-widget",
       "_view_module_version": "^1.0.0",
       "_view_name": "CatboostWidgetView",
       "data": {
        "catboost_info": {
         "content": {
          "data": {
           "iterations": [
            {
             "iteration": 0,
             "learn": [
              0.6696956679
             ],
             "passed_time": 0.5159911547,
             "remaining_time": 51.08312431,
             "test": [
              0.6690860851
             ]
            },
            {
             "iteration": 1,
             "learn": [
              0.645250485
             ],
             "passed_time": 0.9736144998,
             "remaining_time": 47.70711049,
             "test": [
              0.6464109146
             ]
            },
            {
             "iteration": 2,
             "learn": [
              0.6240337846
             ],
             "passed_time": 1.402190309,
             "remaining_time": 45.33748667,
             "test": [
              0.6247020793
             ]
            },
            {
             "iteration": 3,
             "learn": [
              0.6031905425
             ],
             "passed_time": 1.85035796,
             "remaining_time": 44.40859103,
             "test": [
              0.6046685886
             ]
            },
            {
             "iteration": 4,
             "learn": [
              0.5842879932
             ],
             "passed_time": 2.275956987,
             "remaining_time": 43.24318274,
             "test": [
              0.5850393263
             ]
            },
            {
             "iteration": 5,
             "learn": [
              0.5651472774
             ],
             "passed_time": 2.70343632,
             "remaining_time": 42.35383569,
             "test": [
              0.5668013333
             ]
            },
            {
             "iteration": 6,
             "learn": [
              0.547659197
             ],
             "passed_time": 3.144794646,
             "remaining_time": 41.78084316,
             "test": [
              0.5492444662
             ]
            },
            {
             "iteration": 7,
             "learn": [
              0.5307996623
             ],
             "passed_time": 3.571141429,
             "remaining_time": 41.06812643,
             "test": [
              0.5325397574
             ]
            },
            {
             "iteration": 8,
             "learn": [
              0.5135841919
             ],
             "passed_time": 3.982710877,
             "remaining_time": 40.2696322,
             "test": [
              0.5154525498
             ]
            },
            {
             "iteration": 9,
             "learn": [
              0.4982293875
             ],
             "passed_time": 4.438209283,
             "remaining_time": 39.94388355,
             "test": [
              0.5006514268
             ]
            },
            {
             "iteration": 10,
             "learn": [
              0.4839720052
             ],
             "passed_time": 5.037895525,
             "remaining_time": 40.76115471,
             "test": [
              0.4862781163
             ]
            },
            {
             "iteration": 11,
             "learn": [
              0.4687520671
             ],
             "passed_time": 5.623824772,
             "remaining_time": 41.24138166,
             "test": [
              0.4713892307
             ]
            },
            {
             "iteration": 12,
             "learn": [
              0.455215947
             ],
             "passed_time": 6.11457279,
             "remaining_time": 40.92060251,
             "test": [
              0.4582407753
             ]
            },
            {
             "iteration": 13,
             "learn": [
              0.4430647495
             ],
             "passed_time": 6.542235757,
             "remaining_time": 40.18801965,
             "test": [
              0.4456421883
             ]
            },
            {
             "iteration": 14,
             "learn": [
              0.4298889783
             ],
             "passed_time": 6.957671337,
             "remaining_time": 39.42680424,
             "test": [
              0.4325659145
             ]
            },
            {
             "iteration": 15,
             "learn": [
              0.4171983533
             ],
             "passed_time": 7.372903902,
             "remaining_time": 38.70774549,
             "test": [
              0.4200693268
             ]
            },
            {
             "iteration": 16,
             "learn": [
              0.4053212677
             ],
             "passed_time": 7.784381576,
             "remaining_time": 38.00609828,
             "test": [
              0.4081202941
             ]
            },
            {
             "iteration": 17,
             "learn": [
              0.3934581774
             ],
             "passed_time": 8.197008698,
             "remaining_time": 37.34192851,
             "test": [
              0.3966195588
             ]
            },
            {
             "iteration": 18,
             "learn": [
              0.3824622145
             ],
             "passed_time": 8.618857779,
             "remaining_time": 36.74355159,
             "test": [
              0.3857122142
             ]
            },
            {
             "iteration": 19,
             "learn": [
              0.3720277323
             ],
             "passed_time": 9.048312902,
             "remaining_time": 36.19325161,
             "test": [
              0.3753013359
             ]
            },
            {
             "iteration": 20,
             "learn": [
              0.362084211
             ],
             "passed_time": 9.465474905,
             "remaining_time": 35.60821512,
             "test": [
              0.3651600164
             ]
            },
            {
             "iteration": 21,
             "learn": [
              0.3529082845
             ],
             "passed_time": 9.88455799,
             "remaining_time": 35.04525106,
             "test": [
              0.3563215418
             ]
            },
            {
             "iteration": 22,
             "learn": [
              0.3435566313
             ],
             "passed_time": 10.30466954,
             "remaining_time": 34.4982415,
             "test": [
              0.3470969884
             ]
            },
            {
             "iteration": 23,
             "learn": [
              0.3347060169
             ],
             "passed_time": 10.72158643,
             "remaining_time": 33.95169036,
             "test": [
              0.3381605519
             ]
            },
            {
             "iteration": 24,
             "learn": [
              0.3246918856
             ],
             "passed_time": 11.1857995,
             "remaining_time": 33.5573985,
             "test": [
              0.3286756197
             ]
            },
            {
             "iteration": 25,
             "learn": [
              0.3153118316
             ],
             "passed_time": 11.60899454,
             "remaining_time": 33.04098445,
             "test": [
              0.3194743771
             ]
            },
            {
             "iteration": 26,
             "learn": [
              0.306427779
             ],
             "passed_time": 12.0280259,
             "remaining_time": 32.52021818,
             "test": [
              0.3107556919
             ]
            },
            {
             "iteration": 27,
             "learn": [
              0.2979453589
             ],
             "passed_time": 12.45354066,
             "remaining_time": 32.02339026,
             "test": [
              0.3023918987
             ]
            },
            {
             "iteration": 28,
             "learn": [
              0.2897616921
             ],
             "passed_time": 12.8759631,
             "remaining_time": 31.52390967,
             "test": [
              0.2943870085
             ]
            },
            {
             "iteration": 29,
             "learn": [
              0.2816383205
             ],
             "passed_time": 13.29362019,
             "remaining_time": 31.01844711,
             "test": [
              0.286664273
             ]
            },
            {
             "iteration": 30,
             "learn": [
              0.2741506164
             ],
             "passed_time": 13.71876165,
             "remaining_time": 30.53530819,
             "test": [
              0.2792934175
             ]
            },
            {
             "iteration": 31,
             "learn": [
              0.2679466149
             ],
             "passed_time": 14.17803613,
             "remaining_time": 30.12832677,
             "test": [
              0.2732362182
             ]
            },
            {
             "iteration": 32,
             "learn": [
              0.2618997823
             ],
             "passed_time": 14.59880613,
             "remaining_time": 29.64000033,
             "test": [
              0.2674079772
             ]
            },
            {
             "iteration": 33,
             "learn": [
              0.2556029753
             ],
             "passed_time": 15.04438653,
             "remaining_time": 29.20380915,
             "test": [
              0.2614068616
             ]
            },
            {
             "iteration": 34,
             "learn": [
              0.250033804
             ],
             "passed_time": 15.45467538,
             "remaining_time": 28.70153999,
             "test": [
              0.2558815914
             ]
            },
            {
             "iteration": 35,
             "learn": [
              0.2435684211
             ],
             "passed_time": 15.87694982,
             "remaining_time": 28.22568858,
             "test": [
              0.249517662
             ]
            },
            {
             "iteration": 36,
             "learn": [
              0.2373034337
             ],
             "passed_time": 16.29671244,
             "remaining_time": 27.74845631,
             "test": [
              0.2434238511
             ]
            },
            {
             "iteration": 37,
             "learn": [
              0.2314463127
             ],
             "passed_time": 16.72851752,
             "remaining_time": 27.293897,
             "test": [
              0.2378265707
             ]
            },
            {
             "iteration": 38,
             "learn": [
              0.2257154266
             ],
             "passed_time": 17.19326036,
             "remaining_time": 26.89202261,
             "test": [
              0.232500633
             ]
            },
            {
             "iteration": 39,
             "learn": [
              0.2201975338
             ],
             "passed_time": 17.67532544,
             "remaining_time": 26.51298816,
             "test": [
              0.227288526
             ]
            },
            {
             "iteration": 40,
             "learn": [
              0.2149252212
             ],
             "passed_time": 18.16422319,
             "remaining_time": 26.13876021,
             "test": [
              0.222144585
             ]
            },
            {
             "iteration": 41,
             "learn": [
              0.2095305829
             ],
             "passed_time": 18.58601915,
             "remaining_time": 25.6664074,
             "test": [
              0.2164933507
             ]
            },
            {
             "iteration": 42,
             "learn": [
              0.2045677303
             ],
             "passed_time": 18.99798622,
             "remaining_time": 25.18337708,
             "test": [
              0.2113205807
             ]
            },
            {
             "iteration": 43,
             "learn": [
              0.2005666205
             ],
             "passed_time": 19.46947864,
             "remaining_time": 24.77933646,
             "test": [
              0.2072624291
             ]
            },
            {
             "iteration": 44,
             "learn": [
              0.1956364562
             ],
             "passed_time": 19.8856774,
             "remaining_time": 24.30471682,
             "test": [
              0.2022823215
             ]
            },
            {
             "iteration": 45,
             "learn": [
              0.1912913092
             ],
             "passed_time": 20.29088991,
             "remaining_time": 23.81974033,
             "test": [
              0.1976893425
             ]
            },
            {
             "iteration": 46,
             "learn": [
              0.1868980199
             ],
             "passed_time": 20.77754724,
             "remaining_time": 23.43000008,
             "test": [
              0.1935492519
             ]
            },
            {
             "iteration": 47,
             "learn": [
              0.1828506943
             ],
             "passed_time": 21.20526386,
             "remaining_time": 22.97236919,
             "test": [
              0.1892783293
             ]
            },
            {
             "iteration": 48,
             "learn": [
              0.178903247
             ],
             "passed_time": 21.66570375,
             "remaining_time": 22.55001819,
             "test": [
              0.1854694557
             ]
            },
            {
             "iteration": 49,
             "learn": [
              0.1749588616
             ],
             "passed_time": 22.13156157,
             "remaining_time": 22.13156157,
             "test": [
              0.1814368314
             ]
            },
            {
             "iteration": 50,
             "learn": [
              0.1714046547
             ],
             "passed_time": 22.53490309,
             "remaining_time": 21.6511814,
             "test": [
              0.1777630583
             ]
            },
            {
             "iteration": 51,
             "learn": [
              0.1680291892
             ],
             "passed_time": 22.93626648,
             "remaining_time": 21.17193829,
             "test": [
              0.1742046239
             ]
            },
            {
             "iteration": 52,
             "learn": [
              0.1647073798
             ],
             "passed_time": 23.37361248,
             "remaining_time": 20.72754314,
             "test": [
              0.1710761071
             ]
            },
            {
             "iteration": 53,
             "learn": [
              0.1614346889
             ],
             "passed_time": 23.76020631,
             "remaining_time": 20.24017575,
             "test": [
              0.1677439051
             ]
            },
            {
             "iteration": 54,
             "learn": [
              0.1584377453
             ],
             "passed_time": 24.15623189,
             "remaining_time": 19.76418973,
             "test": [
              0.1645623266
             ]
            },
            {
             "iteration": 55,
             "learn": [
              0.1555725668
             ],
             "passed_time": 24.54619457,
             "remaining_time": 19.28629573,
             "test": [
              0.1615190618
             ]
            },
            {
             "iteration": 56,
             "learn": [
              0.1527502509
             ],
             "passed_time": 24.94446702,
             "remaining_time": 18.81775582,
             "test": [
              0.158569437
             ]
            },
            {
             "iteration": 57,
             "learn": [
              0.1500188014
             ],
             "passed_time": 25.33315499,
             "remaining_time": 18.34469844,
             "test": [
              0.155635915
             ]
            },
            {
             "iteration": 58,
             "learn": [
              0.1477957625
             ],
             "passed_time": 25.7256827,
             "remaining_time": 17.87716933,
             "test": [
              0.1532221777
             ]
            },
            {
             "iteration": 59,
             "learn": [
              0.1446581751
             ],
             "passed_time": 26.1977644,
             "remaining_time": 17.46517626,
             "test": [
              0.1503056585
             ]
            },
            {
             "iteration": 60,
             "learn": [
              0.1421653601
             ],
             "passed_time": 26.59319422,
             "remaining_time": 17.00220614,
             "test": [
              0.1476171374
             ]
            },
            {
             "iteration": 61,
             "learn": [
              0.1396815614
             ],
             "passed_time": 26.98934608,
             "remaining_time": 16.54185728,
             "test": [
              0.1450319922
             ]
            },
            {
             "iteration": 62,
             "learn": [
              0.1367443423
             ],
             "passed_time": 27.46188889,
             "remaining_time": 16.12841094,
             "test": [
              0.1420935189
             ]
            },
            {
             "iteration": 63,
             "learn": [
              0.1339106118
             ],
             "passed_time": 27.91402959,
             "remaining_time": 15.70164164,
             "test": [
              0.1391668959
             ]
            },
            {
             "iteration": 64,
             "learn": [
              0.131705795
             ],
             "passed_time": 28.29208233,
             "remaining_time": 15.23419818,
             "test": [
              0.1368494421
             ]
            },
            {
             "iteration": 65,
             "learn": [
              0.1298417731
             ],
             "passed_time": 28.65775038,
             "remaining_time": 14.76308353,
             "test": [
              0.1347555186
             ]
            },
            {
             "iteration": 66,
             "learn": [
              0.1280392157
             ],
             "passed_time": 29.01382148,
             "remaining_time": 14.29038968,
             "test": [
              0.1327715107
             ]
            },
            {
             "iteration": 67,
             "learn": [
              0.1258474024
             ],
             "passed_time": 29.44722621,
             "remaining_time": 13.85751822,
             "test": [
              0.1304235867
             ]
            },
            {
             "iteration": 68,
             "learn": [
              0.1243724615
             ],
             "passed_time": 29.77847474,
             "remaining_time": 13.37873503,
             "test": [
              0.1284764386
             ]
            },
            {
             "iteration": 69,
             "learn": [
              0.1223623532
             ],
             "passed_time": 30.17411135,
             "remaining_time": 12.93176201,
             "test": [
              0.1262617696
             ]
            },
            {
             "iteration": 70,
             "learn": [
              0.1209102244
             ],
             "passed_time": 30.53933661,
             "remaining_time": 12.47381354,
             "test": [
              0.1245209207
             ]
            },
            {
             "iteration": 71,
             "learn": [
              0.119514292
             ],
             "passed_time": 30.90939091,
             "remaining_time": 12.02031869,
             "test": [
              0.1228787203
             ]
            },
            {
             "iteration": 72,
             "learn": [
              0.1172842571
             ],
             "passed_time": 31.34462264,
             "remaining_time": 11.59321659,
             "test": [
              0.1207083655
             ]
            },
            {
             "iteration": 73,
             "learn": [
              0.1152659358
             ],
             "passed_time": 31.78145967,
             "remaining_time": 11.1664588,
             "test": [
              0.1187070156
             ]
            },
            {
             "iteration": 74,
             "learn": [
              0.1140737774
             ],
             "passed_time": 32.10632153,
             "remaining_time": 10.70210718,
             "test": [
              0.1171878214
             ]
            },
            {
             "iteration": 75,
             "learn": [
              0.1118593932
             ],
             "passed_time": 32.57196882,
             "remaining_time": 10.28588489,
             "test": [
              0.1149387682
             ]
            },
            {
             "iteration": 76,
             "learn": [
              0.1103611932
             ],
             "passed_time": 32.92996648,
             "remaining_time": 9.836223753,
             "test": [
              0.1133681731
             ]
            },
            {
             "iteration": 77,
             "learn": [
              0.109028622
             ],
             "passed_time": 33.34463374,
             "remaining_time": 9.404896696,
             "test": [
              0.1119268054
             ]
            },
            {
             "iteration": 78,
             "learn": [
              0.1071465501
             ],
             "passed_time": 33.78889067,
             "remaining_time": 8.981857015,
             "test": [
              0.1099829348
             ]
            },
            {
             "iteration": 79,
             "learn": [
              0.1054020702
             ],
             "passed_time": 34.197838,
             "remaining_time": 8.5494595,
             "test": [
              0.1081728473
             ]
            },
            {
             "iteration": 80,
             "learn": [
              0.1040883541
             ],
             "passed_time": 34.56038506,
             "remaining_time": 8.106756989,
             "test": [
              0.1067849169
             ]
            },
            {
             "iteration": 81,
             "learn": [
              0.1022670275
             ],
             "passed_time": 35.00214977,
             "remaining_time": 7.683398731,
             "test": [
              0.1049300084
             ]
            },
            {
             "iteration": 82,
             "learn": [
              0.1009581328
             ],
             "passed_time": 35.34860723,
             "remaining_time": 7.24007618,
             "test": [
              0.1033785291
             ]
            },
            {
             "iteration": 83,
             "learn": [
              0.09913610812
             ],
             "passed_time": 35.79954256,
             "remaining_time": 6.818960487,
             "test": [
              0.1014621003
             ]
            },
            {
             "iteration": 84,
             "learn": [
              0.0982012116
             ],
             "passed_time": 36.12201011,
             "remaining_time": 6.374472372,
             "test": [
              0.1002644575
             ]
            },
            {
             "iteration": 85,
             "learn": [
              0.09652848276
             ],
             "passed_time": 36.72405414,
             "remaining_time": 5.978334395,
             "test": [
              0.09849276129
             ]
            },
            {
             "iteration": 86,
             "learn": [
              0.09525620325
             ],
             "passed_time": 37.30965408,
             "remaining_time": 5.575005782,
             "test": [
              0.09711672126
             ]
            },
            {
             "iteration": 87,
             "learn": [
              0.09450025212
             ],
             "passed_time": 37.75376872,
             "remaining_time": 5.148241189,
             "test": [
              0.09619277355
             ]
            },
            {
             "iteration": 88,
             "learn": [
              0.09307217684
             ],
             "passed_time": 38.1657283,
             "remaining_time": 4.717112487,
             "test": [
              0.09471788825
             ]
            },
            {
             "iteration": 89,
             "learn": [
              0.09211350409
             ],
             "passed_time": 38.48848968,
             "remaining_time": 4.276498853,
             "test": [
              0.09354802
             ]
            },
            {
             "iteration": 90,
             "learn": [
              0.09041894869
             ],
             "passed_time": 38.97223571,
             "remaining_time": 3.854396939,
             "test": [
              0.09197065789
             ]
            },
            {
             "iteration": 91,
             "learn": [
              0.08975296499
             ],
             "passed_time": 39.2932209,
             "remaining_time": 3.416801818,
             "test": [
              0.0911186565
             ]
            },
            {
             "iteration": 92,
             "learn": [
              0.08845374691
             ],
             "passed_time": 39.69408732,
             "remaining_time": 2.987727003,
             "test": [
              0.08978374708
             ]
            },
            {
             "iteration": 93,
             "learn": [
              0.08714407925
             ],
             "passed_time": 40.13944939,
             "remaining_time": 2.562092514,
             "test": [
              0.08844662884
             ]
            },
            {
             "iteration": 94,
             "learn": [
              0.08630934161
             ],
             "passed_time": 40.46080877,
             "remaining_time": 2.129516251,
             "test": [
              0.08741492948
             ]
            },
            {
             "iteration": 95,
             "learn": [
              0.08568199589
             ],
             "passed_time": 40.77536675,
             "remaining_time": 1.698973615,
             "test": [
              0.08658322221
             ]
            },
            {
             "iteration": 96,
             "learn": [
              0.08444646483
             ],
             "passed_time": 41.21268172,
             "remaining_time": 1.274619022,
             "test": [
              0.08535465454
             ]
            },
            {
             "iteration": 97,
             "learn": [
              0.08371780662
             ],
             "passed_time": 41.52802086,
             "remaining_time": 0.8475106298,
             "test": [
              0.08455509058
             ]
            },
            {
             "iteration": 98,
             "learn": [
              0.08231294855
             ],
             "passed_time": 42.00148289,
             "remaining_time": 0.424257403,
             "test": [
              0.08317900998
             ]
            },
            {
             "iteration": 99,
             "learn": [
              0.08148832698
             ],
             "passed_time": 42.36059595,
             "remaining_time": 0,
             "test": [
              0.08232161791
             ]
            }
           ],
           "meta": {
            "iteration_count": 100,
            "launch_mode": "Train",
            "learn_metrics": [
             {
              "best_value": "Min",
              "name": "CrossEntropy"
             }
            ],
            "learn_sets": [
             "learn"
            ],
            "name": "experiment",
            "parameters": "",
            "test_metrics": [
             {
              "best_value": "Min",
              "name": "CrossEntropy"
             }
            ],
            "test_sets": [
             "test"
            ]
           }
          },
          "passed_iterations": 99,
          "total_iterations": 100
         },
         "name": "catboost_info",
         "path": "catboost_info"
        }
       },
       "layout": "IPY_MODEL_6f136497b4044b86aaaae884cfdf87fa"
      }
     },
     "9165c86678b348c981b543837f94c5ba": {
      "model_module": "@jupyter-widgets/base",
      "model_module_version": "1.2.0",
      "model_name": "LayoutModel",
      "state": {
       "_model_module": "@jupyter-widgets/base",
       "_model_module_version": "1.2.0",
       "_model_name": "LayoutModel",
       "_view_count": null,
       "_view_module": "@jupyter-widgets/base",
       "_view_module_version": "1.2.0",
       "_view_name": "LayoutView",
       "align_content": null,
       "align_items": null,
       "align_self": "stretch",
       "border": null,
       "bottom": null,
       "display": null,
       "flex": null,
       "flex_flow": null,
       "grid_area": null,
       "grid_auto_columns": null,
       "grid_auto_flow": null,
       "grid_auto_rows": null,
       "grid_column": null,
       "grid_gap": null,
       "grid_row": null,
       "grid_template_areas": null,
       "grid_template_columns": null,
       "grid_template_rows": null,
       "height": "500px",
       "justify_content": null,
       "justify_items": null,
       "left": null,
       "margin": null,
       "max_height": null,
       "max_width": null,
       "min_height": null,
       "min_width": null,
       "object_fit": null,
       "object_position": null,
       "order": null,
       "overflow": null,
       "overflow_x": null,
       "overflow_y": null,
       "padding": null,
       "right": null,
       "top": null,
       "visibility": null,
       "width": null
      }
     },
     "9c472091adb049ad85a32d12990af4b4": {
      "model_module": "catboost-widget",
      "model_module_version": "^1.0.0",
      "model_name": "CatboostWidgetModel",
      "state": {
       "_dom_classes": [],
       "_model_module": "catboost-widget",
       "_model_module_version": "^1.0.0",
       "_model_name": "CatboostWidgetModel",
       "_view_count": null,
       "_view_module": "catboost-widget",
       "_view_module_version": "^1.0.0",
       "_view_name": "CatboostWidgetView",
       "data": {
        "catboost_info": {
         "content": {
          "data": {
           "iterations": [
            {
             "iteration": 0,
             "learn": [
              0.6613803802
             ],
             "passed_time": 0.419327219,
             "remaining_time": 41.51339468,
             "test": [
              0.6636014525
             ]
            },
            {
             "iteration": 1,
             "learn": [
              0.6362953774
             ],
             "passed_time": 0.8201575648,
             "remaining_time": 40.18772067,
             "test": [
              0.6357735797
             ]
            },
            {
             "iteration": 2,
             "learn": [
              0.6093760647
             ],
             "passed_time": 1.200689668,
             "remaining_time": 38.82229926,
             "test": [
              0.6095211999
             ]
            },
            {
             "iteration": 3,
             "learn": [
              0.5837157871
             ],
             "passed_time": 1.599547625,
             "remaining_time": 38.38914299,
             "test": [
              0.5847142003
             ]
            },
            {
             "iteration": 4,
             "learn": [
              0.5621903948
             ],
             "passed_time": 1.983149712,
             "remaining_time": 37.67984453,
             "test": [
              0.5612388817
             ]
            },
            {
             "iteration": 5,
             "learn": [
              0.5376709965
             ],
             "passed_time": 2.390028199,
             "remaining_time": 37.44377511,
             "test": [
              0.5389930729
             ]
            },
            {
             "iteration": 6,
             "learn": [
              0.5168803301
             ],
             "passed_time": 2.793205708,
             "remaining_time": 37.10973298,
             "test": [
              0.517886514
             ]
            },
            {
             "iteration": 7,
             "learn": [
              0.4986826074
             ],
             "passed_time": 3.165806648,
             "remaining_time": 36.40677645,
             "test": [
              0.4978380064
             ]
            },
            {
             "iteration": 8,
             "learn": [
              0.4785239648
             ],
             "passed_time": 3.623776976,
             "remaining_time": 36.64041164,
             "test": [
              0.4787738423
             ]
            },
            {
             "iteration": 9,
             "learn": [
              0.4605797924
             ],
             "passed_time": 4.009640881,
             "remaining_time": 36.08676793,
             "test": [
              0.4606282341
             ]
            },
            {
             "iteration": 10,
             "learn": [
              0.4438349178
             ],
             "passed_time": 4.403971933,
             "remaining_time": 35.63213655,
             "test": [
              0.4433401192
             ]
            },
            {
             "iteration": 11,
             "learn": [
              0.4280504622
             ],
             "passed_time": 4.825085191,
             "remaining_time": 35.38395807,
             "test": [
              0.4268543117
             ]
            },
            {
             "iteration": 12,
             "learn": [
              0.4121154519
             ],
             "passed_time": 5.281850616,
             "remaining_time": 35.34776951,
             "test": [
              0.4111219373
             ]
            },
            {
             "iteration": 13,
             "learn": [
              0.3967750703
             ],
             "passed_time": 5.651089393,
             "remaining_time": 34.71383484,
             "test": [
              0.3960954747
             ]
            },
            {
             "iteration": 14,
             "learn": [
              0.3823915128
             ],
             "passed_time": 6.086120848,
             "remaining_time": 34.48801814,
             "test": [
              0.3817341123
             ]
            },
            {
             "iteration": 15,
             "learn": [
              0.3673306317
             ],
             "passed_time": 6.524246406,
             "remaining_time": 34.25229363,
             "test": [
              0.3679983196
             ]
            },
            {
             "iteration": 16,
             "learn": [
              0.3538734331
             ],
             "passed_time": 6.913551983,
             "remaining_time": 33.75440086,
             "test": [
              0.3548530357
             ]
            },
            {
             "iteration": 17,
             "learn": [
              0.3431664036
             ],
             "passed_time": 7.399135911,
             "remaining_time": 33.70717471,
             "test": [
              0.3422654711
             ]
            },
            {
             "iteration": 18,
             "learn": [
              0.3300823706
             ],
             "passed_time": 7.787677342,
             "remaining_time": 33.20009814,
             "test": [
              0.3302056013
             ]
            },
            {
             "iteration": 19,
             "learn": [
              0.3196707246
             ],
             "passed_time": 8.190605265,
             "remaining_time": 32.76242106,
             "test": [
              0.3186461716
             ]
            },
            {
             "iteration": 20,
             "learn": [
              0.3069686168
             ],
             "passed_time": 8.658364302,
             "remaining_time": 32.5719419,
             "test": [
              0.307558529
             ]
            },
            {
             "iteration": 21,
             "learn": [
              0.2968785028
             ],
             "passed_time": 9.06391189,
             "remaining_time": 32.13568761,
             "test": [
              0.2969178771
             ]
            },
            {
             "iteration": 22,
             "learn": [
              0.2867642782
             ],
             "passed_time": 9.514548556,
             "remaining_time": 31.85305386,
             "test": [
              0.2867024829
             ]
            },
            {
             "iteration": 23,
             "learn": [
              0.2764989135
             ],
             "passed_time": 9.932166769,
             "remaining_time": 31.45186144,
             "test": [
              0.276891316
             ]
            },
            {
             "iteration": 24,
             "learn": [
              0.2664391561
             ],
             "passed_time": 10.29774484,
             "remaining_time": 30.89323452,
             "test": [
              0.2674642692
             ]
            },
            {
             "iteration": 25,
             "learn": [
              0.2579753987
             ],
             "passed_time": 10.6627196,
             "remaining_time": 30.34774039,
             "test": [
              0.2584023725
             ]
            },
            {
             "iteration": 26,
             "learn": [
              0.249959275
             ],
             "passed_time": 11.10465249,
             "remaining_time": 30.02369007,
             "test": [
              0.2496907035
             ]
            },
            {
             "iteration": 27,
             "learn": [
              0.2419685907
             ],
             "passed_time": 11.4762667,
             "remaining_time": 29.51040009,
             "test": [
              0.241311738
             ]
            },
            {
             "iteration": 28,
             "learn": [
              0.2336738049
             ],
             "passed_time": 11.85173703,
             "remaining_time": 29.0163217,
             "test": [
              0.2332469406
             ]
            },
            {
             "iteration": 29,
             "learn": [
              0.2258402692
             ],
             "passed_time": 12.27230397,
             "remaining_time": 28.63537593,
             "test": [
              0.2254841338
             ]
            },
            {
             "iteration": 30,
             "learn": [
              0.2185187987
             ],
             "passed_time": 12.7156779,
             "remaining_time": 28.3026379,
             "test": [
              0.2180104372
             ]
            },
            {
             "iteration": 31,
             "learn": [
              0.2109260223
             ],
             "passed_time": 13.20477751,
             "remaining_time": 28.06015221,
             "test": [
              0.210812122
             ]
            },
            {
             "iteration": 32,
             "learn": [
              0.2033448486
             ],
             "passed_time": 13.64594203,
             "remaining_time": 27.70539746,
             "test": [
              0.2038771873
             ]
            },
            {
             "iteration": 33,
             "learn": [
              0.1964166194
             ],
             "passed_time": 14.05593719,
             "remaining_time": 27.28505455,
             "test": [
              0.1971944135
             ]
            },
            {
             "iteration": 34,
             "learn": [
              0.1911609461
             ],
             "passed_time": 14.49484976,
             "remaining_time": 26.9190067,
             "test": [
              0.1907528372
             ]
            },
            {
             "iteration": 35,
             "learn": [
              0.1838918277
             ],
             "passed_time": 14.88915696,
             "remaining_time": 26.46961237,
             "test": [
              0.1845428131
             ]
            },
            {
             "iteration": 36,
             "learn": [
              0.1787494994
             ],
             "passed_time": 15.29161236,
             "remaining_time": 26.0370697,
             "test": [
              0.1785539506
             ]
            },
            {
             "iteration": 37,
             "learn": [
              0.1721800862
             ],
             "passed_time": 15.69197483,
             "remaining_time": 25.60269578,
             "test": [
              0.1727773491
             ]
            },
            {
             "iteration": 38,
             "learn": [
              0.1676610253
             ],
             "passed_time": 16.18336846,
             "remaining_time": 25.3124481,
             "test": [
              0.1672044374
             ]
            },
            {
             "iteration": 39,
             "learn": [
              0.1614172502
             ],
             "passed_time": 16.55501646,
             "remaining_time": 24.8325247,
             "test": [
              0.1618262309
             ]
            },
            {
             "iteration": 40,
             "learn": [
              0.1563209972
             ],
             "passed_time": 16.97993964,
             "remaining_time": 24.43454729,
             "test": [
              0.1566356699
             ]
            },
            {
             "iteration": 41,
             "learn": [
              0.1520095614
             ],
             "passed_time": 17.48460567,
             "remaining_time": 24.14540783,
             "test": [
              0.1516255005
             ]
            },
            {
             "iteration": 42,
             "learn": [
              0.1469953426
             ],
             "passed_time": 17.80747009,
             "remaining_time": 23.60525105,
             "test": [
              0.1467874731
             ]
            },
            {
             "iteration": 43,
             "learn": [
              0.1418578207
             ],
             "passed_time": 18.26601144,
             "remaining_time": 23.24765093,
             "test": [
              0.1421166028
             ]
            },
            {
             "iteration": 44,
             "learn": [
              0.1370975764
             ],
             "passed_time": 18.66574417,
             "remaining_time": 22.81368732,
             "test": [
              0.1376044287
             ]
            },
            {
             "iteration": 45,
             "learn": [
              0.132899992
             ],
             "passed_time": 19.06418719,
             "remaining_time": 22.379698,
             "test": [
              0.1332456034
             ]
            },
            {
             "iteration": 46,
             "learn": [
              0.1289111459
             ],
             "passed_time": 19.51475329,
             "remaining_time": 22.00599839,
             "test": [
              0.129034759
             ]
            },
            {
             "iteration": 47,
             "learn": [
              0.1249842673
             ],
             "passed_time": 19.90903517,
             "remaining_time": 21.56812143,
             "test": [
              0.1249648452
             ]
            },
            {
             "iteration": 48,
             "learn": [
              0.121075382
             ],
             "passed_time": 20.34905067,
             "remaining_time": 21.17962417,
             "test": [
              0.1210317494
             ]
            },
            {
             "iteration": 49,
             "learn": [
              0.1171875623
             ],
             "passed_time": 20.78823916,
             "remaining_time": 20.78823916,
             "test": [
              0.1172303394
             ]
            },
            {
             "iteration": 50,
             "learn": [
              0.1133113845
             ],
             "passed_time": 21.15053039,
             "remaining_time": 20.32109783,
             "test": [
              0.1135550196
             ]
            },
            {
             "iteration": 51,
             "learn": [
              0.1097478704
             ],
             "passed_time": 21.58967711,
             "remaining_time": 19.92893272,
             "test": [
              0.1100016039
             ]
            },
            {
             "iteration": 52,
             "learn": [
              0.1069198549
             ],
             "passed_time": 21.95585318,
             "remaining_time": 19.4702849,
             "test": [
              0.1065656688
             ]
            },
            {
             "iteration": 53,
             "learn": [
              0.10339791
             ],
             "passed_time": 22.33268029,
             "remaining_time": 19.02413506,
             "test": [
              0.1032429553
             ]
            },
            {
             "iteration": 54,
             "learn": [
              0.0997228348
             ],
             "passed_time": 22.7897498,
             "remaining_time": 18.64615893,
             "test": [
              0.1000292446
             ]
            },
            {
             "iteration": 55,
             "learn": [
              0.09713036359
             ],
             "passed_time": 23.20046536,
             "remaining_time": 18.22893707,
             "test": [
              0.09692054152
             ]
            },
            {
             "iteration": 56,
             "learn": [
              0.09375894412
             ],
             "passed_time": 23.69658309,
             "remaining_time": 17.8763697,
             "test": [
              0.09391402936
             ]
            },
            {
             "iteration": 57,
             "learn": [
              0.09121588536
             ],
             "passed_time": 24.12194629,
             "remaining_time": 17.46761628,
             "test": [
              0.09100459477
             ]
            },
            {
             "iteration": 58,
             "learn": [
              0.08793318983
             ],
             "passed_time": 24.50941797,
             "remaining_time": 17.03196842,
             "test": [
              0.08819078607
             ]
            },
            {
             "iteration": 59,
             "learn": [
              0.0854627348
             ],
             "passed_time": 24.88294402,
             "remaining_time": 16.58862934,
             "test": [
              0.08546646728
             ]
            },
            {
             "iteration": 60,
             "learn": [
              0.08256563985
             ],
             "passed_time": 25.32548314,
             "remaining_time": 16.19170233,
             "test": [
              0.08283015979
             ]
            },
            {
             "iteration": 61,
             "learn": [
              0.08009348638
             ],
             "passed_time": 25.755647,
             "remaining_time": 15.78571913,
             "test": [
              0.08027844917
             ]
            },
            {
             "iteration": 62,
             "learn": [
              0.07796330427
             ],
             "passed_time": 26.17283834,
             "remaining_time": 15.3713495,
             "test": [
              0.07780870691
             ]
            },
            {
             "iteration": 63,
             "learn": [
              0.07547939774
             ],
             "passed_time": 26.57794743,
             "remaining_time": 14.95009543,
             "test": [
              0.0754180463
             ]
            },
            {
             "iteration": 64,
             "learn": [
              0.07293493871
             ],
             "passed_time": 26.97319865,
             "remaining_time": 14.52403004,
             "test": [
              0.07310373185
             ]
            },
            {
             "iteration": 65,
             "learn": [
              0.07052114191
             ],
             "passed_time": 27.43096909,
             "remaining_time": 14.13110529,
             "test": [
              0.07086332838
             ]
            },
            {
             "iteration": 66,
             "learn": [
              0.06843121816
             ],
             "passed_time": 27.85382484,
             "remaining_time": 13.71904806,
             "test": [
              0.06869345945
             ]
            },
            {
             "iteration": 67,
             "learn": [
              0.06642330027
             ],
             "passed_time": 28.29251026,
             "remaining_time": 13.31412248,
             "test": [
              0.06659249825
             ]
            },
            {
             "iteration": 68,
             "learn": [
              0.06445815397
             ],
             "passed_time": 28.66876101,
             "remaining_time": 12.88016799,
             "test": [
              0.06455797601
             ]
            },
            {
             "iteration": 69,
             "learn": [
              0.06250445885
             ],
             "passed_time": 29.25037843,
             "remaining_time": 12.53587647,
             "test": [
              0.06258758132
             ]
            },
            {
             "iteration": 70,
             "learn": [
              0.06055502227
             ],
             "passed_time": 29.72565771,
             "remaining_time": 12.14146583,
             "test": [
              0.06067936859
             ]
            },
            {
             "iteration": 71,
             "learn": [
              0.05864419412
             ],
             "passed_time": 30.22333013,
             "remaining_time": 11.75351727,
             "test": [
              0.05883101777
             ]
            },
            {
             "iteration": 72,
             "learn": [
              0.05683196518
             ],
             "passed_time": 30.62519745,
             "remaining_time": 11.32712783,
             "test": [
              0.05704074304
             ]
            },
            {
             "iteration": 73,
             "learn": [
              0.05542286477
             ],
             "passed_time": 31.02441092,
             "remaining_time": 10.9004687,
             "test": [
              0.05530649543
             ]
            },
            {
             "iteration": 74,
             "learn": [
              0.05366444537
             ],
             "passed_time": 31.47567637,
             "remaining_time": 10.49189212,
             "test": [
              0.05362659615
             ]
            },
            {
             "iteration": 75,
             "learn": [
              0.05181557497
             ],
             "passed_time": 31.92225688,
             "remaining_time": 10.0807127,
             "test": [
              0.05199921689
             ]
            },
            {
             "iteration": 76,
             "learn": [
              0.05052207969
             ],
             "passed_time": 32.34342673,
             "remaining_time": 9.661023568,
             "test": [
              0.05042244612
             ]
            },
            {
             "iteration": 77,
             "learn": [
              0.04883181823
             ],
             "passed_time": 32.84431819,
             "remaining_time": 9.263782054,
             "test": [
              0.04889461966
             ]
            },
            {
             "iteration": 78,
             "learn": [
              0.04719418412
             ],
             "passed_time": 33.26810046,
             "remaining_time": 8.843419109,
             "test": [
              0.04741442927
             ]
            },
            {
             "iteration": 79,
             "learn": [
              0.04590304422
             ],
             "passed_time": 33.66428942,
             "remaining_time": 8.416072354,
             "test": [
              0.04597999301
             ]
            },
            {
             "iteration": 80,
             "learn": [
              0.04463962847
             ],
             "passed_time": 34.05913666,
             "remaining_time": 7.989180204,
             "test": [
              0.04459004479
             ]
            },
            {
             "iteration": 81,
             "learn": [
              0.04305217886
             ],
             "passed_time": 34.42315877,
             "remaining_time": 7.556303144,
             "test": [
              0.04324285507
             ]
            },
            {
             "iteration": 82,
             "learn": [
              0.04194288525
             ],
             "passed_time": 34.78789332,
             "remaining_time": 7.125231163,
             "test": [
              0.04193783621
             ]
            },
            {
             "iteration": 83,
             "learn": [
              0.0407050917
             ],
             "passed_time": 35.15489248,
             "remaining_time": 6.696169996,
             "test": [
              0.04067305723
             ]
            },
            {
             "iteration": 84,
             "learn": [
              0.039336876
             ],
             "passed_time": 35.51824701,
             "remaining_time": 6.267925944,
             "test": [
              0.03944667125
             ]
            },
            {
             "iteration": 85,
             "learn": [
              0.038115708
             ],
             "passed_time": 35.90651527,
             "remaining_time": 5.845246671,
             "test": [
              0.0382578657
             ]
            },
            {
             "iteration": 86,
             "learn": [
              0.03709705635
             ],
             "passed_time": 36.38229792,
             "remaining_time": 5.436435321,
             "test": [
              0.03710619932
             ]
            },
            {
             "iteration": 87,
             "learn": [
              0.03604598526
             ],
             "passed_time": 36.72961674,
             "remaining_time": 5.008584101,
             "test": [
              0.03598943401
             ]
            },
            {
             "iteration": 88,
             "learn": [
              0.03485626599
             ],
             "passed_time": 37.158616,
             "remaining_time": 4.592637933,
             "test": [
              0.03490744309
             ]
            },
            {
             "iteration": 89,
             "learn": [
              0.03381326582
             ],
             "passed_time": 37.56573709,
             "remaining_time": 4.173970788,
             "test": [
              0.03385809168
             ]
            },
            {
             "iteration": 90,
             "learn": [
              0.03280826945
             ],
             "passed_time": 38.00982052,
             "remaining_time": 3.759213019,
             "test": [
              0.03284114239
             ]
            },
            {
             "iteration": 91,
             "learn": [
              0.03181742349
             ],
             "passed_time": 38.39146316,
             "remaining_time": 3.338388101,
             "test": [
              0.03185484504
             ]
            },
            {
             "iteration": 92,
             "learn": [
              0.03084115349
             ],
             "passed_time": 38.82867551,
             "remaining_time": 2.922588479,
             "test": [
              0.03089918871
             ]
            },
            {
             "iteration": 93,
             "learn": [
              0.02988824402
             ],
             "passed_time": 39.24821192,
             "remaining_time": 2.505205016,
             "test": [
              0.02997231431
             ]
            },
            {
             "iteration": 94,
             "learn": [
              0.02895820224
             ],
             "passed_time": 39.71601314,
             "remaining_time": 2.090316481,
             "test": [
              0.02907385089
             ]
            },
            {
             "iteration": 95,
             "learn": [
              0.02822468264
             ],
             "passed_time": 40.21337673,
             "remaining_time": 1.675557364,
             "test": [
              0.0282028181
             ]
            },
            {
             "iteration": 96,
             "learn": [
              0.0273417382
             ],
             "passed_time": 40.67215653,
             "remaining_time": 1.257901748,
             "test": [
              0.02735811802
             ]
            },
            {
             "iteration": 97,
             "learn": [
              0.02641604206
             ],
             "passed_time": 41.09573736,
             "remaining_time": 0.8386885175,
             "test": [
              0.02653959529
             ]
            },
            {
             "iteration": 98,
             "learn": [
              0.0257643049
             ],
             "passed_time": 41.53888302,
             "remaining_time": 0.419584677,
             "test": [
              0.02574539645
             ]
            },
            {
             "iteration": 99,
             "learn": [
              0.02490989913
             ],
             "passed_time": 41.90702821,
             "remaining_time": 0,
             "test": [
              0.02497507541
             ]
            }
           ],
           "meta": {
            "iteration_count": 100,
            "launch_mode": "Train",
            "learn_metrics": [
             {
              "best_value": "Min",
              "name": "CrossEntropy"
             }
            ],
            "learn_sets": [
             "learn"
            ],
            "name": "experiment",
            "parameters": "",
            "test_metrics": [
             {
              "best_value": "Min",
              "name": "CrossEntropy"
             }
            ],
            "test_sets": [
             "test"
            ]
           }
          },
          "passed_iterations": 99,
          "total_iterations": 100
         },
         "name": "catboost_info",
         "path": "catboost_info"
        }
       },
       "layout": "IPY_MODEL_019ae3d490df4ced911863db4308ed41"
      }
     },
     "a635b150dab441f3b295a2f8efdbe28a": {
      "model_module": "@jupyter-widgets/base",
      "model_module_version": "1.2.0",
      "model_name": "LayoutModel",
      "state": {
       "_model_module": "@jupyter-widgets/base",
       "_model_module_version": "1.2.0",
       "_model_name": "LayoutModel",
       "_view_count": null,
       "_view_module": "@jupyter-widgets/base",
       "_view_module_version": "1.2.0",
       "_view_name": "LayoutView",
       "align_content": null,
       "align_items": null,
       "align_self": "stretch",
       "border": null,
       "bottom": null,
       "display": null,
       "flex": null,
       "flex_flow": null,
       "grid_area": null,
       "grid_auto_columns": null,
       "grid_auto_flow": null,
       "grid_auto_rows": null,
       "grid_column": null,
       "grid_gap": null,
       "grid_row": null,
       "grid_template_areas": null,
       "grid_template_columns": null,
       "grid_template_rows": null,
       "height": "500px",
       "justify_content": null,
       "justify_items": null,
       "left": null,
       "margin": null,
       "max_height": null,
       "max_width": null,
       "min_height": null,
       "min_width": null,
       "object_fit": null,
       "object_position": null,
       "order": null,
       "overflow": null,
       "overflow_x": null,
       "overflow_y": null,
       "padding": null,
       "right": null,
       "top": null,
       "visibility": null,
       "width": null
      }
     },
     "a80305af6eba46979c313a96354ef254": {
      "model_module": "catboost-widget",
      "model_module_version": "^1.0.0",
      "model_name": "CatboostWidgetModel",
      "state": {
       "_dom_classes": [],
       "_model_module": "catboost-widget",
       "_model_module_version": "^1.0.0",
       "_model_name": "CatboostWidgetModel",
       "_view_count": null,
       "_view_module": "catboost-widget",
       "_view_module_version": "^1.0.0",
       "_view_name": "CatboostWidgetView",
       "data": {
        "catboost_info": {
         "content": {
          "data": {
           "iterations": [
            {
             "iteration": 0,
             "learn": [
              0.6638411534
             ],
             "passed_time": 0.6497809789,
             "remaining_time": 64.32831691,
             "test": [
              0.6663073804
             ]
            },
            {
             "iteration": 1,
             "learn": [
              0.6406593866
             ],
             "passed_time": 1.098893158,
             "remaining_time": 53.84576474,
             "test": [
              0.6408951023
             ]
            },
            {
             "iteration": 2,
             "learn": [
              0.615070737
             ],
             "passed_time": 1.545408403,
             "remaining_time": 49.96820504,
             "test": [
              0.616889535
             ]
            },
            {
             "iteration": 3,
             "learn": [
              0.5912527107
             ],
             "passed_time": 1.993563868,
             "remaining_time": 47.84553283,
             "test": [
              0.5942951513
             ]
            },
            {
             "iteration": 4,
             "learn": [
              0.5710970696
             ],
             "passed_time": 2.445769784,
             "remaining_time": 46.46962589,
             "test": [
              0.572759299
             ]
            },
            {
             "iteration": 5,
             "learn": [
              0.5489299205
             ],
             "passed_time": 2.89414611,
             "remaining_time": 45.34162239,
             "test": [
              0.5522389129
             ]
            },
            {
             "iteration": 6,
             "learn": [
              0.5293672289
             ],
             "passed_time": 3.344708891,
             "remaining_time": 44.43684669,
             "test": [
              0.5327582747
             ]
            },
            {
             "iteration": 7,
             "learn": [
              0.5122268815
             ],
             "passed_time": 3.793916579,
             "remaining_time": 43.63004065,
             "test": [
              0.5145226792
             ]
            },
            {
             "iteration": 8,
             "learn": [
              0.4937750883
             ],
             "passed_time": 4.244957279,
             "remaining_time": 42.92123471,
             "test": [
              0.4970850358
             ]
            },
            {
             "iteration": 9,
             "learn": [
              0.476472491
             ],
             "passed_time": 4.697145537,
             "remaining_time": 42.27430984,
             "test": [
              0.48047081
             ]
            },
            {
             "iteration": 10,
             "learn": [
              0.4609059623
             ],
             "passed_time": 5.147088386,
             "remaining_time": 41.64462421,
             "test": [
              0.4644877427
             ]
            },
            {
             "iteration": 11,
             "learn": [
              0.4462390846
             ],
             "passed_time": 5.600770717,
             "remaining_time": 41.07231859,
             "test": [
              0.4491745753
             ]
            },
            {
             "iteration": 12,
             "learn": [
              0.4312684555
             ],
             "passed_time": 6.051438798,
             "remaining_time": 40.49809042,
             "test": [
              0.4344683705
             ]
            },
            {
             "iteration": 13,
             "learn": [
              0.4172303212
             ],
             "passed_time": 6.482391667,
             "remaining_time": 39.82040595,
             "test": [
              0.4205699119
             ]
            },
            {
             "iteration": 14,
             "learn": [
              0.4033829495
             ],
             "passed_time": 6.937142553,
             "remaining_time": 39.31047447,
             "test": [
              0.4073490829
             ]
            },
            {
             "iteration": 15,
             "learn": [
              0.3900222147
             ],
             "passed_time": 7.369485084,
             "remaining_time": 38.68979669,
             "test": [
              0.3946208583
             ]
            },
            {
             "iteration": 16,
             "learn": [
              0.3777824697
             ],
             "passed_time": 7.802144902,
             "remaining_time": 38.09282511,
             "test": [
              0.3822183542
             ]
            },
            {
             "iteration": 17,
             "learn": [
              0.3664328662
             ],
             "passed_time": 8.256529403,
             "remaining_time": 37.61307839,
             "test": [
              0.3703912598
             ]
            },
            {
             "iteration": 18,
             "learn": [
              0.3543574086
             ],
             "passed_time": 8.709933941,
             "remaining_time": 37.13182365,
             "test": [
              0.3590224278
             ]
            },
            {
             "iteration": 19,
             "learn": [
              0.34413887
             ],
             "passed_time": 9.159909719,
             "remaining_time": 36.63963888,
             "test": [
              0.3482279755
             ]
            },
            {
             "iteration": 20,
             "learn": [
              0.3335520384
             ],
             "passed_time": 9.61024729,
             "remaining_time": 36.15283504,
             "test": [
              0.3377626715
             ]
            },
            {
             "iteration": 21,
             "learn": [
              0.3233225542
             ],
             "passed_time": 10.05380832,
             "remaining_time": 35.64532039,
             "test": [
              0.3277286913
             ]
            },
            {
             "iteration": 22,
             "learn": [
              0.3138914057
             ],
             "passed_time": 10.50890108,
             "remaining_time": 35.18197318,
             "test": [
              0.3182328782
             ]
            },
            {
             "iteration": 23,
             "learn": [
              0.3044160703
             ],
             "passed_time": 10.96117659,
             "remaining_time": 34.71039254,
             "test": [
              0.3090772648
             ]
            },
            {
             "iteration": 24,
             "learn": [
              0.2957107596
             ],
             "passed_time": 11.42994873,
             "remaining_time": 34.28984619,
             "test": [
              0.3001458661
             ]
            },
            {
             "iteration": 25,
             "learn": [
              0.2871633845
             ],
             "passed_time": 11.88994837,
             "remaining_time": 33.8406223,
             "test": [
              0.2915384692
             ]
            },
            {
             "iteration": 26,
             "learn": [
              0.2786046871
             ],
             "passed_time": 12.36259206,
             "remaining_time": 33.42478594,
             "test": [
              0.2827524586
             ]
            },
            {
             "iteration": 27,
             "learn": [
              0.2708064999
             ],
             "passed_time": 12.80775287,
             "remaining_time": 32.93422167,
             "test": [
              0.2748904752
             ]
            },
            {
             "iteration": 28,
             "learn": [
              0.2633062644
             ],
             "passed_time": 13.26131185,
             "remaining_time": 32.4673497,
             "test": [
              0.267308938
             ]
            },
            {
             "iteration": 29,
             "learn": [
              0.256071325
             ],
             "passed_time": 13.68864981,
             "remaining_time": 31.94018289,
             "test": [
              0.2600856307
             ]
            },
            {
             "iteration": 30,
             "learn": [
              0.2487449571
             ],
             "passed_time": 14.14809053,
             "remaining_time": 31.49091119,
             "test": [
              0.2526930134
             ]
            },
            {
             "iteration": 31,
             "learn": [
              0.2417658721
             ],
             "passed_time": 14.56705778,
             "remaining_time": 30.95499778,
             "test": [
              0.2458769623
             ]
            },
            {
             "iteration": 32,
             "learn": [
              0.2349987194
             ],
             "passed_time": 14.98307871,
             "remaining_time": 30.42019012,
             "test": [
              0.239307879
             ]
            },
            {
             "iteration": 33,
             "learn": [
              0.2283511248
             ],
             "passed_time": 15.41130913,
             "remaining_time": 29.91607067,
             "test": [
              0.2325873106
             ]
            },
            {
             "iteration": 34,
             "learn": [
              0.222324702
             ],
             "passed_time": 15.87382598,
             "remaining_time": 29.47996254,
             "test": [
              0.2264230264
             ]
            },
            {
             "iteration": 35,
             "learn": [
              0.2167016492
             ],
             "passed_time": 16.32542555,
             "remaining_time": 29.02297875,
             "test": [
              0.2205215647
             ]
            },
            {
             "iteration": 36,
             "learn": [
              0.2106221405
             ],
             "passed_time": 16.760637,
             "remaining_time": 28.53838191,
             "test": [
              0.214299344
             ]
            },
            {
             "iteration": 37,
             "learn": [
              0.2042947542
             ],
             "passed_time": 17.23785905,
             "remaining_time": 28.12492793,
             "test": [
              0.2078881959
             ]
            },
            {
             "iteration": 38,
             "learn": [
              0.1990351329
             ],
             "passed_time": 17.65506448,
             "remaining_time": 27.61433163,
             "test": [
              0.2025129355
             ]
            },
            {
             "iteration": 39,
             "learn": [
              0.1933227567
             ],
             "passed_time": 18.13172939,
             "remaining_time": 27.19759409,
             "test": [
              0.1965659107
             ]
            },
            {
             "iteration": 40,
             "learn": [
              0.1881977536
             ],
             "passed_time": 18.59837777,
             "remaining_time": 26.76351923,
             "test": [
              0.1913625762
             ]
            },
            {
             "iteration": 41,
             "learn": [
              0.1832469308
             ],
             "passed_time": 19.02822808,
             "remaining_time": 26.27707687,
             "test": [
              0.1862458095
             ]
            },
            {
             "iteration": 42,
             "learn": [
              0.1787179875
             ],
             "passed_time": 19.44726684,
             "remaining_time": 25.77893512,
             "test": [
              0.1816756565
             ]
            },
            {
             "iteration": 43,
             "learn": [
              0.1741287999
             ],
             "passed_time": 19.90011487,
             "remaining_time": 25.32741892,
             "test": [
              0.1771841183
             ]
            },
            {
             "iteration": 44,
             "learn": [
              0.1696900467
             ],
             "passed_time": 20.33879579,
             "remaining_time": 24.85852819,
             "test": [
              0.1728771012
             ]
            },
            {
             "iteration": 45,
             "learn": [
              0.1649802204
             ],
             "passed_time": 20.82008467,
             "remaining_time": 24.44096896,
             "test": [
              0.167972311
             ]
            },
            {
             "iteration": 46,
             "learn": [
              0.1604884899
             ],
             "passed_time": 21.29987227,
             "remaining_time": 24.0190049,
             "test": [
              0.1633563737
             ]
            },
            {
             "iteration": 47,
             "learn": [
              0.1561868184
             ],
             "passed_time": 21.77975148,
             "remaining_time": 23.59473077,
             "test": [
              0.1588192282
             ]
            },
            {
             "iteration": 48,
             "learn": [
              0.1519896847
             ],
             "passed_time": 22.27872631,
             "remaining_time": 23.18806208,
             "test": [
              0.1545960817
             ]
            },
            {
             "iteration": 49,
             "learn": [
              0.1478833876
             ],
             "passed_time": 22.76276355,
             "remaining_time": 22.76276355,
             "test": [
              0.1504651656
             ]
            },
            {
             "iteration": 50,
             "learn": [
              0.1440612316
             ],
             "passed_time": 23.21875614,
             "remaining_time": 22.30821669,
             "test": [
              0.1465903134
             ]
            },
            {
             "iteration": 51,
             "learn": [
              0.1402081206
             ],
             "passed_time": 23.69813608,
             "remaining_time": 21.87520254,
             "test": [
              0.1426286577
             ]
            },
            {
             "iteration": 52,
             "learn": [
              0.1365601264
             ],
             "passed_time": 24.15035336,
             "remaining_time": 21.41635109,
             "test": [
              0.1389334586
             ]
            },
            {
             "iteration": 53,
             "learn": [
              0.1330558477
             ],
             "passed_time": 24.62916945,
             "remaining_time": 20.9804036,
             "test": [
              0.1352211941
             ]
            },
            {
             "iteration": 54,
             "learn": [
              0.1295752861
             ],
             "passed_time": 25.10714381,
             "remaining_time": 20.54220857,
             "test": [
              0.1316325162
             ]
            },
            {
             "iteration": 55,
             "learn": [
              0.1262059629
             ],
             "passed_time": 25.58797769,
             "remaining_time": 20.10483961,
             "test": [
              0.1281441447
             ]
            },
            {
             "iteration": 56,
             "learn": [
              0.1229418434
             ],
             "passed_time": 26.0591152,
             "remaining_time": 19.65863077,
             "test": [
              0.1247984432
             ]
            },
            {
             "iteration": 57,
             "learn": [
              0.119871697
             ],
             "passed_time": 26.52058535,
             "remaining_time": 19.2045618,
             "test": [
              0.1216806879
             ]
            },
            {
             "iteration": 58,
             "learn": [
              0.1171467542
             ],
             "passed_time": 26.9730693,
             "remaining_time": 18.74399731,
             "test": [
              0.1188485175
             ]
            },
            {
             "iteration": 59,
             "learn": [
              0.1144226527
             ],
             "passed_time": 27.42277145,
             "remaining_time": 18.28184763,
             "test": [
              0.1161096114
             ]
            },
            {
             "iteration": 60,
             "learn": [
              0.1115199933
             ],
             "passed_time": 27.90197082,
             "remaining_time": 17.83896495,
             "test": [
              0.1131634251
             ]
            },
            {
             "iteration": 61,
             "learn": [
              0.1088584259
             ],
             "passed_time": 28.38697895,
             "remaining_time": 17.39847097,
             "test": [
              0.1103194215
             ]
            },
            {
             "iteration": 62,
             "learn": [
              0.1062249486
             ],
             "passed_time": 28.83694589,
             "remaining_time": 16.93598409,
             "test": [
              0.1075804452
             ]
            },
            {
             "iteration": 63,
             "learn": [
              0.1036403808
             ],
             "passed_time": 29.30502157,
             "remaining_time": 16.48407463,
             "test": [
              0.1049305226
             ]
            },
            {
             "iteration": 64,
             "learn": [
              0.10134184
             ],
             "passed_time": 29.7590132,
             "remaining_time": 16.02408403,
             "test": [
              0.1025627936
             ]
            },
            {
             "iteration": 65,
             "learn": [
              0.098903051
             ],
             "passed_time": 30.20111475,
             "remaining_time": 15.55815002,
             "test": [
              0.1000809932
             ]
            },
            {
             "iteration": 66,
             "learn": [
              0.09686527351
             ],
             "passed_time": 30.66135007,
             "remaining_time": 15.10185899,
             "test": [
              0.09793986907
             ]
            },
            {
             "iteration": 67,
             "learn": [
              0.09472229181
             ],
             "passed_time": 31.25188883,
             "remaining_time": 14.70677121,
             "test": [
              0.09581630517
             ]
            },
            {
             "iteration": 68,
             "learn": [
              0.09281438326
             ],
             "passed_time": 31.88738306,
             "remaining_time": 14.32621558,
             "test": [
              0.09378485909
             ]
            },
            {
             "iteration": 69,
             "learn": [
              0.09063627976
             ],
             "passed_time": 32.50049991,
             "remaining_time": 13.92878567,
             "test": [
              0.09173482749
             ]
            },
            {
             "iteration": 70,
             "learn": [
              0.08878614262
             ],
             "passed_time": 32.94574801,
             "remaining_time": 13.45671398,
             "test": [
              0.08983152931
             ]
            },
            {
             "iteration": 71,
             "learn": [
              0.08669556111
             ],
             "passed_time": 33.48904677,
             "remaining_time": 13.02351819,
             "test": [
              0.08771368287
             ]
            },
            {
             "iteration": 72,
             "learn": [
              0.08480571014
             ],
             "passed_time": 33.92059315,
             "remaining_time": 12.54597281,
             "test": [
              0.08553698852
             ]
            },
            {
             "iteration": 73,
             "learn": [
              0.08296791098
             ],
             "passed_time": 34.35888805,
             "remaining_time": 12.07204175,
             "test": [
              0.08365811995
             ]
            },
            {
             "iteration": 74,
             "learn": [
              0.08129924102
             ],
             "passed_time": 34.78796638,
             "remaining_time": 11.59598879,
             "test": [
              0.08197579592
             ]
            },
            {
             "iteration": 75,
             "learn": [
              0.07962017622
             ],
             "passed_time": 35.25697383,
             "remaining_time": 11.13378121,
             "test": [
              0.08035699629
             ]
            },
            {
             "iteration": 76,
             "learn": [
              0.07797612742
             ],
             "passed_time": 35.69612953,
             "remaining_time": 10.66248025,
             "test": [
              0.0786732786
             ]
            },
            {
             "iteration": 77,
             "learn": [
              0.07620647864
             ],
             "passed_time": 36.18053493,
             "remaining_time": 10.20476626,
             "test": [
              0.07685178327
             ]
            },
            {
             "iteration": 78,
             "learn": [
              0.0744631885
             ],
             "passed_time": 36.67992736,
             "remaining_time": 9.750360437,
             "test": [
              0.07507145735
             ]
            },
            {
             "iteration": 79,
             "learn": [
              0.07276139938
             ],
             "passed_time": 37.12560334,
             "remaining_time": 9.281400836,
             "test": [
              0.07329245204
             ]
            },
            {
             "iteration": 80,
             "learn": [
              0.07145008437
             ],
             "passed_time": 37.55793787,
             "remaining_time": 8.80988666,
             "test": [
              0.07194605801
             ]
            },
            {
             "iteration": 81,
             "learn": [
              0.06999641801
             ],
             "passed_time": 38.02428981,
             "remaining_time": 8.346795324,
             "test": [
              0.07055415993
             ]
            },
            {
             "iteration": 82,
             "learn": [
              0.0686443346
             ],
             "passed_time": 38.46229151,
             "remaining_time": 7.877818743,
             "test": [
              0.06900708452
             ]
            },
            {
             "iteration": 83,
             "learn": [
              0.0671858136
             ],
             "passed_time": 38.95127291,
             "remaining_time": 7.419290079,
             "test": [
              0.06761011784
             ]
            },
            {
             "iteration": 84,
             "learn": [
              0.06569462516
             ],
             "passed_time": 39.41522154,
             "remaining_time": 6.955627331,
             "test": [
              0.06594988139
             ]
            },
            {
             "iteration": 85,
             "learn": [
              0.06432379209
             ],
             "passed_time": 39.8631444,
             "remaining_time": 6.489349088,
             "test": [
              0.06449060184
             ]
            },
            {
             "iteration": 86,
             "learn": [
              0.06287301598
             ],
             "passed_time": 40.3431482,
             "remaining_time": 6.028286513,
             "test": [
              0.06294092156
             ]
            },
            {
             "iteration": 87,
             "learn": [
              0.06159657223
             ],
             "passed_time": 40.79002542,
             "remaining_time": 5.562276194,
             "test": [
              0.06157458255
             ]
            },
            {
             "iteration": 88,
             "learn": [
              0.06027942217
             ],
             "passed_time": 41.22424631,
             "remaining_time": 5.095131566,
             "test": [
              0.0601955598
             ]
            },
            {
             "iteration": 89,
             "learn": [
              0.05912904543
             ],
             "passed_time": 41.67053675,
             "remaining_time": 4.630059639,
             "test": [
              0.05895515964
             ]
            },
            {
             "iteration": 90,
             "learn": [
              0.05809723032
             ],
             "passed_time": 42.00947812,
             "remaining_time": 4.15478355,
             "test": [
              0.05786301844
             ]
            },
            {
             "iteration": 91,
             "learn": [
              0.05696670169
             ],
             "passed_time": 42.45109425,
             "remaining_time": 3.6913995,
             "test": [
              0.0566452607
             ]
            },
            {
             "iteration": 92,
             "learn": [
              0.05585840727
             ],
             "passed_time": 42.94753823,
             "remaining_time": 3.232610405,
             "test": [
              0.05557787147
             ]
            },
            {
             "iteration": 93,
             "learn": [
              0.05480592088
             ],
             "passed_time": 43.39150864,
             "remaining_time": 2.769670764,
             "test": [
              0.05442938686
             ]
            },
            {
             "iteration": 94,
             "learn": [
              0.0537303887
             ],
             "passed_time": 43.82316221,
             "remaining_time": 2.306482222,
             "test": [
              0.05336091958
             ]
            },
            {
             "iteration": 95,
             "learn": [
              0.05284676754
             ],
             "passed_time": 44.26556307,
             "remaining_time": 1.844398461,
             "test": [
              0.0523792854
             ]
            },
            {
             "iteration": 96,
             "learn": [
              0.05183799619
             ],
             "passed_time": 44.72960935,
             "remaining_time": 1.38338998,
             "test": [
              0.05130737205
             ]
            },
            {
             "iteration": 97,
             "learn": [
              0.05086504074
             ],
             "passed_time": 45.16276913,
             "remaining_time": 0.9216891659,
             "test": [
              0.05032843758
             ]
            },
            {
             "iteration": 98,
             "learn": [
              0.05004934815
             ],
             "passed_time": 45.59230631,
             "remaining_time": 0.4605283465,
             "test": [
              0.04939758472
             ]
            },
            {
             "iteration": 99,
             "learn": [
              0.04927548887
             ],
             "passed_time": 45.93020519,
             "remaining_time": 0,
             "test": [
              0.04858081438
             ]
            }
           ],
           "meta": {
            "iteration_count": 100,
            "launch_mode": "Train",
            "learn_metrics": [
             {
              "best_value": "Min",
              "name": "CrossEntropy"
             }
            ],
            "learn_sets": [
             "learn"
            ],
            "name": "experiment",
            "parameters": "",
            "test_metrics": [
             {
              "best_value": "Min",
              "name": "CrossEntropy"
             }
            ],
            "test_sets": [
             "test"
            ]
           }
          },
          "passed_iterations": 99,
          "total_iterations": 100
         },
         "name": "catboost_info",
         "path": "catboost_info"
        }
       },
       "layout": "IPY_MODEL_856d51ba6da34112b421e0d2df6c657d"
      }
     },
     "a82992eae6204ba5b9f295134ce08aa5": {
      "model_module": "catboost-widget",
      "model_module_version": "^1.0.0",
      "model_name": "CatboostWidgetModel",
      "state": {
       "_dom_classes": [],
       "_model_module": "catboost-widget",
       "_model_module_version": "^1.0.0",
       "_model_name": "CatboostWidgetModel",
       "_view_count": null,
       "_view_module": "catboost-widget",
       "_view_module_version": "^1.0.0",
       "_view_name": "CatboostWidgetView",
       "data": {
        "catboost_info": {
         "content": {
          "data": {
           "iterations": [
            {
             "iteration": 0,
             "learn": [
              0.6613882136
             ],
             "passed_time": 0.4162544576,
             "remaining_time": 41.2091913,
             "test": [
              0.6636032888
             ]
            },
            {
             "iteration": 1,
             "learn": [
              0.636313055
             ],
             "passed_time": 0.8224434518,
             "remaining_time": 40.29972914,
             "test": [
              0.635778071
             ]
            },
            {
             "iteration": 2,
             "learn": [
              0.6093864347
             ],
             "passed_time": 1.207467253,
             "remaining_time": 39.04144117,
             "test": [
              0.6095286626
             ]
            },
            {
             "iteration": 3,
             "learn": [
              0.5837377626
             ],
             "passed_time": 1.610260047,
             "remaining_time": 38.64624113,
             "test": [
              0.5847234205
             ]
            },
            {
             "iteration": 4,
             "learn": [
              0.5622159584
             ],
             "passed_time": 2.00031253,
             "remaining_time": 38.00593808,
             "test": [
              0.5612501312
             ]
            },
            {
             "iteration": 5,
             "learn": [
              0.5377583072
             ],
             "passed_time": 2.404068544,
             "remaining_time": 37.66374052,
             "test": [
              0.5390066507
             ]
            },
            {
             "iteration": 6,
             "learn": [
              0.5169069189
             ],
             "passed_time": 2.808359025,
             "remaining_time": 37.31105561,
             "test": [
              0.5179022449
             ]
            },
            {
             "iteration": 7,
             "learn": [
              0.4987231938
             ],
             "passed_time": 3.171227086,
             "remaining_time": 36.46911149,
             "test": [
              0.4978558456
             ]
            },
            {
             "iteration": 8,
             "learn": [
              0.4785566784
             ],
             "passed_time": 3.627387767,
             "remaining_time": 36.67692076,
             "test": [
              0.4787935759
             ]
            },
            {
             "iteration": 9,
             "learn": [
              0.4606117963
             ],
             "passed_time": 4.017627943,
             "remaining_time": 36.15865149,
             "test": [
              0.4606489826
             ]
            },
            {
             "iteration": 10,
             "learn": [
              0.4438966386
             ],
             "passed_time": 4.410542418,
             "remaining_time": 35.68529775,
             "test": [
              0.443362321
             ]
            },
            {
             "iteration": 11,
             "learn": [
              0.4280877627
             ],
             "passed_time": 4.837412674,
             "remaining_time": 35.47435961,
             "test": [
              0.4268776698
             ]
            },
            {
             "iteration": 12,
             "learn": [
              0.4121994308
             ],
             "passed_time": 5.301286832,
             "remaining_time": 35.47784264,
             "test": [
              0.411145928
             ]
            },
            {
             "iteration": 13,
             "learn": [
              0.3968279917
             ],
             "passed_time": 5.66849957,
             "remaining_time": 34.82078307,
             "test": [
              0.3961206845
             ]
            },
            {
             "iteration": 14,
             "learn": [
              0.3824579125
             ],
             "passed_time": 6.099291097,
             "remaining_time": 34.56264955,
             "test": [
              0.3817596468
             ]
            },
            {
             "iteration": 15,
             "learn": [
              0.367391807
             ],
             "passed_time": 6.540852676,
             "remaining_time": 34.33947655,
             "test": [
              0.3680263316
             ]
            },
            {
             "iteration": 16,
             "learn": [
              0.3540007322
             ],
             "passed_time": 6.940914216,
             "remaining_time": 33.88799294,
             "test": [
              0.3548832847
             ]
            },
            {
             "iteration": 17,
             "learn": [
              0.3432387178
             ],
             "passed_time": 7.374681726,
             "remaining_time": 33.59577231,
             "test": [
              0.3422975472
             ]
            },
            {
             "iteration": 18,
             "learn": [
              0.3301438087
             ],
             "passed_time": 7.763013713,
             "remaining_time": 33.0949532,
             "test": [
              0.3302392075
             ]
            },
            {
             "iteration": 19,
             "learn": [
              0.3197390564
             ],
             "passed_time": 8.167363225,
             "remaining_time": 32.6694529,
             "test": [
              0.3186784377
             ]
            },
            {
             "iteration": 20,
             "learn": [
              0.3070594959
             ],
             "passed_time": 8.772186375,
             "remaining_time": 33.0001297,
             "test": [
              0.3075914178
             ]
            },
            {
             "iteration": 21,
             "learn": [
              0.2969463483
             ],
             "passed_time": 9.351158796,
             "remaining_time": 33.15410846,
             "test": [
              0.2969516589
             ]
            },
            {
             "iteration": 22,
             "learn": [
              0.2868765611
             ],
             "passed_time": 9.974650708,
             "remaining_time": 33.39339585,
             "test": [
              0.2867371212
             ]
            },
            {
             "iteration": 23,
             "learn": [
              0.276593775
             ],
             "passed_time": 10.39638462,
             "remaining_time": 32.92188462,
             "test": [
              0.2769268191
             ]
            },
            {
             "iteration": 24,
             "learn": [
              0.2665702404
             ],
             "passed_time": 10.76221329,
             "remaining_time": 32.28663987,
             "test": [
              0.2675000456
             ]
            },
            {
             "iteration": 25,
             "learn": [
              0.2580616579
             ],
             "passed_time": 11.12690648,
             "remaining_time": 31.66888767,
             "test": [
              0.2584388803
             ]
            },
            {
             "iteration": 26,
             "learn": [
              0.2500377863
             ],
             "passed_time": 11.57664243,
             "remaining_time": 31.29981101,
             "test": [
              0.2497269469
             ]
            },
            {
             "iteration": 27,
             "learn": [
              0.2420528062
             ],
             "passed_time": 11.9421578,
             "remaining_time": 30.70840577,
             "test": [
              0.2413466062
             ]
            },
            {
             "iteration": 28,
             "learn": [
              0.2337644342
             ],
             "passed_time": 12.32206637,
             "remaining_time": 30.16781766,
             "test": [
              0.2332831284
             ]
            },
            {
             "iteration": 29,
             "learn": [
              0.2259322917
             ],
             "passed_time": 12.74208246,
             "remaining_time": 29.73152574,
             "test": [
              0.2255207607
             ]
            },
            {
             "iteration": 30,
             "learn": [
              0.2186107391
             ],
             "passed_time": 13.18256184,
             "remaining_time": 29.34183119,
             "test": [
              0.2180473697
             ]
            },
            {
             "iteration": 31,
             "learn": [
              0.2110187579
             ],
             "passed_time": 13.66691213,
             "remaining_time": 29.04218827,
             "test": [
              0.210850129
             ]
            },
            {
             "iteration": 32,
             "learn": [
              0.2034491043
             ],
             "passed_time": 14.1067424,
             "remaining_time": 28.64096185,
             "test": [
              0.203915918
             ]
            },
            {
             "iteration": 33,
             "learn": [
              0.1965947533
             ],
             "passed_time": 14.52766683,
             "remaining_time": 28.20076503,
             "test": [
              0.19723351
             ]
            },
            {
             "iteration": 34,
             "learn": [
              0.1912682773
             ],
             "passed_time": 14.97389178,
             "remaining_time": 27.80865616,
             "test": [
              0.1907922813
             ]
            },
            {
             "iteration": 35,
             "learn": [
              0.1840336599
             ],
             "passed_time": 15.37202606,
             "remaining_time": 27.32804632,
             "test": [
              0.1845826083
             ]
            },
            {
             "iteration": 36,
             "learn": [
              0.1788620452
             ],
             "passed_time": 15.77805108,
             "remaining_time": 26.86533021,
             "test": [
              0.1785946442
             ]
            },
            {
             "iteration": 37,
             "learn": [
              0.1723267256
             ],
             "passed_time": 16.17860934,
             "remaining_time": 26.3966784,
             "test": [
              0.1728187919
             ]
            },
            {
             "iteration": 38,
             "learn": [
              0.1677666248
             ],
             "passed_time": 16.67401067,
             "remaining_time": 26.07986284,
             "test": [
              0.1672466722
             ]
            },
            {
             "iteration": 39,
             "learn": [
              0.1615620266
             ],
             "passed_time": 17.04651659,
             "remaining_time": 25.56977489,
             "test": [
              0.1618692111
             ]
            },
            {
             "iteration": 40,
             "learn": [
              0.1564521374
             ],
             "passed_time": 17.47362276,
             "remaining_time": 25.14496934,
             "test": [
              0.1566794001
             ]
            },
            {
             "iteration": 41,
             "learn": [
              0.1521252977
             ],
             "passed_time": 17.96524612,
             "remaining_time": 24.8091494,
             "test": [
              0.1516695989
             ]
            },
            {
             "iteration": 42,
             "learn": [
              0.1471352034
             ],
             "passed_time": 18.28670219,
             "remaining_time": 24.24051221,
             "test": [
              0.1468318965
             ]
            },
            {
             "iteration": 43,
             "learn": [
              0.1419940999
             ],
             "passed_time": 18.6884945,
             "remaining_time": 23.78535664,
             "test": [
              0.1421605751
             ]
            },
            {
             "iteration": 44,
             "learn": [
              0.1372560644
             ],
             "passed_time": 19.07636908,
             "remaining_time": 23.31556221,
             "test": [
              0.137648344
             ]
            },
            {
             "iteration": 45,
             "learn": [
              0.1330479753
             ],
             "passed_time": 19.48020321,
             "remaining_time": 22.86806464,
             "test": [
              0.1332897402
             ]
            },
            {
             "iteration": 46,
             "learn": [
              0.1290539376
             ],
             "passed_time": 19.94081393,
             "remaining_time": 22.48644975,
             "test": [
              0.1290790273
             ]
            },
            {
             "iteration": 47,
             "learn": [
              0.125132106
             ],
             "passed_time": 20.33482518,
             "remaining_time": 22.02939395,
             "test": [
              0.1250096737
             ]
            },
            {
             "iteration": 48,
             "learn": [
              0.1212235887
             ],
             "passed_time": 20.81833027,
             "remaining_time": 21.66805804,
             "test": [
              0.1210769166
             ]
            },
            {
             "iteration": 49,
             "learn": [
              0.1173373791
             ],
             "passed_time": 21.26915245,
             "remaining_time": 21.26915245,
             "test": [
              0.117275952
             ]
            },
            {
             "iteration": 50,
             "learn": [
              0.1134728857
             ],
             "passed_time": 21.63208454,
             "remaining_time": 20.7837675,
             "test": [
              0.1136025461
             ]
            },
            {
             "iteration": 51,
             "learn": [
              0.1099110473
             ],
             "passed_time": 22.02867989,
             "remaining_time": 20.33416606,
             "test": [
              0.1100498376
             ]
            },
            {
             "iteration": 52,
             "learn": [
              0.1070513089
             ],
             "passed_time": 22.40114625,
             "remaining_time": 19.86516743,
             "test": [
              0.1066139827
             ]
            },
            {
             "iteration": 53,
             "learn": [
              0.1035538679
             ],
             "passed_time": 22.779841,
             "remaining_time": 19.40504974,
             "test": [
              0.1032918842
             ]
            },
            {
             "iteration": 54,
             "learn": [
              0.09988889664
             ],
             "passed_time": 23.23588243,
             "remaining_time": 19.01117653,
             "test": [
              0.10007834
             ]
            },
            {
             "iteration": 55,
             "learn": [
              0.0972768814
             ],
             "passed_time": 23.64384915,
             "remaining_time": 18.57731005,
             "test": [
              0.09697004815
             ]
            },
            {
             "iteration": 56,
             "learn": [
              0.09392562697
             ],
             "passed_time": 24.13192503,
             "remaining_time": 18.20478555,
             "test": [
              0.09396379842
             ]
            },
            {
             "iteration": 57,
             "learn": [
              0.09136728753
             ],
             "passed_time": 24.56296264,
             "remaining_time": 17.78697294,
             "test": [
              0.09105588821
             ]
            },
            {
             "iteration": 58,
             "learn": [
              0.08811199077
             ],
             "passed_time": 24.94948401,
             "remaining_time": 17.33777703,
             "test": [
              0.08824080191
             ]
            },
            {
             "iteration": 59,
             "learn": [
              0.08562018615
             ],
             "passed_time": 25.32357464,
             "remaining_time": 16.88238309,
             "test": [
              0.08551668471
             ]
            },
            {
             "iteration": 60,
             "learn": [
              0.08274756889
             ],
             "passed_time": 25.76936453,
             "remaining_time": 16.47549536,
             "test": [
              0.08288034565
             ]
            },
            {
             "iteration": 61,
             "learn": [
              0.08026858256
             ],
             "passed_time": 26.19292596,
             "remaining_time": 16.05372881,
             "test": [
              0.0803287501
             ]
            },
            {
             "iteration": 62,
             "learn": [
              0.07812965853
             ],
             "passed_time": 26.62364152,
             "remaining_time": 15.63610693,
             "test": [
              0.07785916196
             ]
            },
            {
             "iteration": 63,
             "learn": [
              0.0756577518
             ],
             "passed_time": 27.03190271,
             "remaining_time": 15.20544528,
             "test": [
              0.07547014201
             ]
            },
            {
             "iteration": 64,
             "learn": [
              0.07311651287
             ],
             "passed_time": 27.43247222,
             "remaining_time": 14.7713312,
             "test": [
              0.0731558633
             ]
            },
            {
             "iteration": 65,
             "learn": [
              0.07073534421
             ],
             "passed_time": 27.88288143,
             "remaining_time": 14.36390862,
             "test": [
              0.07091539105
             ]
            },
            {
             "iteration": 66,
             "learn": [
              0.06863724207
             ],
             "passed_time": 28.30672085,
             "remaining_time": 13.94211624,
             "test": [
              0.06874559977
             ]
            },
            {
             "iteration": 67,
             "learn": [
              0.06661002495
             ],
             "passed_time": 28.75384593,
             "remaining_time": 13.53122161,
             "test": [
              0.06664465261
             ]
            },
            {
             "iteration": 68,
             "learn": [
              0.06464210377
             ],
             "passed_time": 29.11140926,
             "remaining_time": 13.07903894,
             "test": [
              0.06461030094
             ]
            },
            {
             "iteration": 69,
             "learn": [
              0.06268884074
             ],
             "passed_time": 29.53440408,
             "remaining_time": 12.65760175,
             "test": [
              0.06264037324
             ]
            },
            {
             "iteration": 70,
             "learn": [
              0.06074511161
             ],
             "passed_time": 29.86806144,
             "remaining_time": 12.19963073,
             "test": [
              0.06073212095
             ]
            },
            {
             "iteration": 71,
             "learn": [
              0.05883691869
             ],
             "passed_time": 30.2236575,
             "remaining_time": 11.75364458,
             "test": [
              0.05888388379
             ]
            },
            {
             "iteration": 72,
             "learn": [
              0.05703233256
             ],
             "passed_time": 30.61312291,
             "remaining_time": 11.3226619,
             "test": [
              0.05709370602
             ]
            },
            {
             "iteration": 73,
             "learn": [
              0.05560849363
             ],
             "passed_time": 31.01339612,
             "remaining_time": 10.89659864,
             "test": [
              0.0553592072
             ]
            },
            {
             "iteration": 74,
             "learn": [
              0.05385760039
             ],
             "passed_time": 31.47098997,
             "remaining_time": 10.49032999,
             "test": [
              0.05367964416
             ]
            },
            {
             "iteration": 75,
             "learn": [
              0.05201272307
             ],
             "passed_time": 31.97011014,
             "remaining_time": 10.09582426,
             "test": [
              0.05205216903
             ]
            },
            {
             "iteration": 76,
             "learn": [
              0.05071192096
             ],
             "passed_time": 32.35343359,
             "remaining_time": 9.66401263,
             "test": [
              0.05047378536
             ]
            },
            {
             "iteration": 77,
             "learn": [
              0.04902303708
             ],
             "passed_time": 32.85250961,
             "remaining_time": 9.266092455,
             "test": [
              0.04894660125
             ]
            },
            {
             "iteration": 78,
             "learn": [
              0.04743564966
             ],
             "passed_time": 33.26257434,
             "remaining_time": 8.841950141,
             "test": [
              0.04746627146
             ]
            },
            {
             "iteration": 79,
             "learn": [
              0.04609557575
             ],
             "passed_time": 33.66154192,
             "remaining_time": 8.415385481,
             "test": [
              0.04603004762
             ]
            },
            {
             "iteration": 80,
             "learn": [
              0.04483477717
             ],
             "passed_time": 34.06074406,
             "remaining_time": 7.989557248,
             "test": [
              0.0446400996
             ]
            },
            {
             "iteration": 81,
             "learn": [
              0.04326246203
             ],
             "passed_time": 34.43057806,
             "remaining_time": 7.55793177,
             "test": [
              0.04329269545
             ]
            },
            {
             "iteration": 82,
             "learn": [
              0.04215122321
             ],
             "passed_time": 34.79829461,
             "remaining_time": 7.127361546,
             "test": [
              0.04198709551
             ]
            },
            {
             "iteration": 83,
             "learn": [
              0.04090024286
             ],
             "passed_time": 35.11781717,
             "remaining_time": 6.689108032,
             "test": [
              0.04072000485
             ]
            },
            {
             "iteration": 84,
             "learn": [
              0.03953678667
             ],
             "passed_time": 35.48102594,
             "remaining_time": 6.261357518,
             "test": [
              0.03949371909
             ]
            },
            {
             "iteration": 85,
             "learn": [
              0.03832168347
             ],
             "passed_time": 35.87460999,
             "remaining_time": 5.84005279,
             "test": [
              0.03830501994
             ]
            },
            {
             "iteration": 86,
             "learn": [
              0.03729600921
             ],
             "passed_time": 36.35444058,
             "remaining_time": 5.43227273,
             "test": [
              0.03715375165
             ]
            },
            {
             "iteration": 87,
             "learn": [
              0.03624098693
             ],
             "passed_time": 36.69619929,
             "remaining_time": 5.004027176,
             "test": [
              0.03603529501
             ]
            },
            {
             "iteration": 88,
             "learn": [
              0.03506288384
             ],
             "passed_time": 37.13187984,
             "remaining_time": 4.589333463,
             "test": [
              0.03495331147
             ]
            },
            {
             "iteration": 89,
             "learn": [
              0.03402131135
             ],
             "passed_time": 37.53840488,
             "remaining_time": 4.170933876,
             "test": [
              0.03390437699
             ]
            },
            {
             "iteration": 90,
             "learn": [
              0.03301650309
             ],
             "passed_time": 37.98744617,
             "remaining_time": 3.75700017,
             "test": [
              0.03288754141
             ]
            },
            {
             "iteration": 91,
             "learn": [
              0.03202525709
             ],
             "passed_time": 38.36627707,
             "remaining_time": 3.336198006,
             "test": [
              0.03190141638
             ]
            },
            {
             "iteration": 92,
             "learn": [
              0.03105006566
             ],
             "passed_time": 38.80700932,
             "remaining_time": 2.920957691,
             "test": [
              0.030945897
             ]
            },
            {
             "iteration": 93,
             "learn": [
              0.03011046867
             ],
             "passed_time": 39.22657737,
             "remaining_time": 2.503824088,
             "test": [
              0.0300190903
             ]
            },
            {
             "iteration": 94,
             "learn": [
              0.02918660586
             ],
             "passed_time": 39.69379445,
             "remaining_time": 2.089147076,
             "test": [
              0.0291204628
             ]
            },
            {
             "iteration": 95,
             "learn": [
              0.02843472431
             ],
             "passed_time": 40.17748254,
             "remaining_time": 1.674061773,
             "test": [
              0.02824945674
             ]
            },
            {
             "iteration": 96,
             "learn": [
              0.02754942803
             ],
             "passed_time": 40.82821476,
             "remaining_time": 1.262728292,
             "test": [
              0.02740510402
             ]
            },
            {
             "iteration": 97,
             "learn": [
              0.02663029942
             ],
             "passed_time": 41.27635655,
             "remaining_time": 0.8423746234,
             "test": [
              0.02658419885
             ]
            },
            {
             "iteration": 98,
             "learn": [
              0.02596837746
             ],
             "passed_time": 41.79556811,
             "remaining_time": 0.4221774556,
             "test": [
              0.02579050564
             ]
            },
            {
             "iteration": 99,
             "learn": [
              0.02510248407
             ],
             "passed_time": 42.08353835,
             "remaining_time": 0,
             "test": [
              0.02501861929
             ]
            }
           ],
           "meta": {
            "iteration_count": 100,
            "launch_mode": "Train",
            "learn_metrics": [
             {
              "best_value": "Min",
              "name": "CrossEntropy"
             }
            ],
            "learn_sets": [
             "learn"
            ],
            "name": "experiment",
            "parameters": "",
            "test_metrics": [
             {
              "best_value": "Min",
              "name": "CrossEntropy"
             }
            ],
            "test_sets": [
             "test"
            ]
           }
          },
          "passed_iterations": 99,
          "total_iterations": 100
         },
         "name": "catboost_info",
         "path": "catboost_info"
        }
       },
       "layout": "IPY_MODEL_9165c86678b348c981b543837f94c5ba"
      }
     },
     "ab49ee4b02d5469181c963b1a2153af9": {
      "model_module": "@jupyter-widgets/base",
      "model_module_version": "1.2.0",
      "model_name": "LayoutModel",
      "state": {
       "_model_module": "@jupyter-widgets/base",
       "_model_module_version": "1.2.0",
       "_model_name": "LayoutModel",
       "_view_count": null,
       "_view_module": "@jupyter-widgets/base",
       "_view_module_version": "1.2.0",
       "_view_name": "LayoutView",
       "align_content": null,
       "align_items": null,
       "align_self": "stretch",
       "border": null,
       "bottom": null,
       "display": null,
       "flex": null,
       "flex_flow": null,
       "grid_area": null,
       "grid_auto_columns": null,
       "grid_auto_flow": null,
       "grid_auto_rows": null,
       "grid_column": null,
       "grid_gap": null,
       "grid_row": null,
       "grid_template_areas": null,
       "grid_template_columns": null,
       "grid_template_rows": null,
       "height": "500px",
       "justify_content": null,
       "justify_items": null,
       "left": null,
       "margin": null,
       "max_height": null,
       "max_width": null,
       "min_height": null,
       "min_width": null,
       "object_fit": null,
       "object_position": null,
       "order": null,
       "overflow": null,
       "overflow_x": null,
       "overflow_y": null,
       "padding": null,
       "right": null,
       "top": null,
       "visibility": null,
       "width": null
      }
     },
     "b680fa0ca75a496eb591433c484ad51c": {
      "model_module": "@jupyter-widgets/base",
      "model_module_version": "1.2.0",
      "model_name": "LayoutModel",
      "state": {
       "_model_module": "@jupyter-widgets/base",
       "_model_module_version": "1.2.0",
       "_model_name": "LayoutModel",
       "_view_count": null,
       "_view_module": "@jupyter-widgets/base",
       "_view_module_version": "1.2.0",
       "_view_name": "LayoutView",
       "align_content": null,
       "align_items": null,
       "align_self": "stretch",
       "border": null,
       "bottom": null,
       "display": null,
       "flex": null,
       "flex_flow": null,
       "grid_area": null,
       "grid_auto_columns": null,
       "grid_auto_flow": null,
       "grid_auto_rows": null,
       "grid_column": null,
       "grid_gap": null,
       "grid_row": null,
       "grid_template_areas": null,
       "grid_template_columns": null,
       "grid_template_rows": null,
       "height": "500px",
       "justify_content": null,
       "justify_items": null,
       "left": null,
       "margin": null,
       "max_height": null,
       "max_width": null,
       "min_height": null,
       "min_width": null,
       "object_fit": null,
       "object_position": null,
       "order": null,
       "overflow": null,
       "overflow_x": null,
       "overflow_y": null,
       "padding": null,
       "right": null,
       "top": null,
       "visibility": null,
       "width": null
      }
     },
     "b748873fc1bc4f16939b63f5557b54de": {
      "model_module": "catboost-widget",
      "model_module_version": "^1.0.0",
      "model_name": "CatboostWidgetModel",
      "state": {
       "_dom_classes": [],
       "_model_module": "catboost-widget",
       "_model_module_version": "^1.0.0",
       "_model_name": "CatboostWidgetModel",
       "_view_count": null,
       "_view_module": "catboost-widget",
       "_view_module_version": "^1.0.0",
       "_view_name": "CatboostWidgetView",
       "data": {
        "catboost_info": {
         "content": {
          "data": {
           "iterations": [
            {
             "iteration": 0,
             "learn": [
              0.6613826934
             ],
             "passed_time": 0.4126546017,
             "remaining_time": 40.85280557,
             "test": [
              0.6636025507
             ]
            },
            {
             "iteration": 1,
             "learn": [
              0.6363000695
             ],
             "passed_time": 0.8150523598,
             "remaining_time": 39.93756563,
             "test": [
              0.6357767285
             ]
            },
            {
             "iteration": 2,
             "learn": [
              0.6093823209
             ],
             "passed_time": 1.19384715,
             "remaining_time": 38.60105785,
             "test": [
              0.6095256648
             ]
            },
            {
             "iteration": 3,
             "learn": [
              0.5837239228
             ],
             "passed_time": 1.59070146,
             "remaining_time": 38.17683505,
             "test": [
              0.5847203213
             ]
            },
            {
             "iteration": 4,
             "learn": [
              0.5622006728
             ],
             "passed_time": 1.975224618,
             "remaining_time": 37.52926775,
             "test": [
              0.561245916
             ]
            },
            {
             "iteration": 5,
             "learn": [
              0.5377127921
             ],
             "passed_time": 2.37780404,
             "remaining_time": 37.25226329,
             "test": [
              0.5390023274
             ]
            },
            {
             "iteration": 6,
             "learn": [
              0.5168969958
             ],
             "passed_time": 2.781853925,
             "remaining_time": 36.95891643,
             "test": [
              0.5178972591
             ]
            },
            {
             "iteration": 7,
             "learn": [
              0.4987013629
             ],
             "passed_time": 3.14190554,
             "remaining_time": 36.13191371,
             "test": [
              0.497851128
             ]
            },
            {
             "iteration": 8,
             "learn": [
              0.4785424968
             ],
             "passed_time": 3.60071695,
             "remaining_time": 36.40724916,
             "test": [
              0.4787884644
             ]
            },
            {
             "iteration": 9,
             "learn": [
              0.4606050012
             ],
             "passed_time": 3.984943323,
             "remaining_time": 35.8644899,
             "test": [
              0.4606441754
             ]
            },
            {
             "iteration": 10,
             "learn": [
              0.4438905927
             ],
             "passed_time": 4.375491447,
             "remaining_time": 35.40170352,
             "test": [
              0.4433567433
             ]
            },
            {
             "iteration": 11,
             "learn": [
              0.4280739032
             ],
             "passed_time": 4.796322841,
             "remaining_time": 35.17303417,
             "test": [
              0.4268717707
             ]
            },
            {
             "iteration": 12,
             "learn": [
              0.412167933
             ],
             "passed_time": 5.298964619,
             "remaining_time": 35.46230168,
             "test": [
              0.4111443958
             ]
            },
            {
             "iteration": 13,
             "learn": [
              0.3968027369
             ],
             "passed_time": 5.667993776,
             "remaining_time": 34.81767605,
             "test": [
              0.3961195203
             ]
            },
            {
             "iteration": 14,
             "learn": [
              0.3824213349
             ],
             "passed_time": 6.095673397,
             "remaining_time": 34.54214925,
             "test": [
              0.3817573723
             ]
            },
            {
             "iteration": 15,
             "learn": [
              0.3673618075
             ],
             "passed_time": 6.535992957,
             "remaining_time": 34.31396302,
             "test": [
              0.3680229451
             ]
            },
            {
             "iteration": 16,
             "learn": [
              0.3539084928
             ],
             "passed_time": 6.923984787,
             "remaining_time": 33.80533749,
             "test": [
              0.3548780623
             ]
            },
            {
             "iteration": 17,
             "learn": [
              0.3432038094
             ],
             "passed_time": 7.364202643,
             "remaining_time": 33.54803426,
             "test": [
              0.3422909502
             ]
            },
            {
             "iteration": 18,
             "learn": [
              0.3301199012
             ],
             "passed_time": 7.755250246,
             "remaining_time": 33.06185631,
             "test": [
              0.3302305039
             ]
            },
            {
             "iteration": 19,
             "learn": [
              0.3197069541
             ],
             "passed_time": 8.160924581,
             "remaining_time": 32.64369832,
             "test": [
              0.3186693427
             ]
            },
            {
             "iteration": 20,
             "learn": [
              0.307020513
             ],
             "passed_time": 8.635734855,
             "remaining_time": 32.48681207,
             "test": [
              0.307584778
             ]
            },
            {
             "iteration": 21,
             "learn": [
              0.2969185109
             ],
             "passed_time": 9.045152965,
             "remaining_time": 32.06917869,
             "test": [
              0.2969445871
             ]
            },
            {
             "iteration": 22,
             "learn": [
              0.286808479
             ],
             "passed_time": 9.502987725,
             "remaining_time": 31.81435021,
             "test": [
              0.2867309423
             ]
            },
            {
             "iteration": 23,
             "learn": [
              0.2765462096
             ],
             "passed_time": 9.921785594,
             "remaining_time": 31.41898772,
             "test": [
              0.2769202009
             ]
            },
            {
             "iteration": 24,
             "learn": [
              0.2665022964
             ],
             "passed_time": 10.28663996,
             "remaining_time": 30.85991989,
             "test": [
              0.2674927572
             ]
            },
            {
             "iteration": 25,
             "learn": [
              0.2580221756
             ],
             "passed_time": 10.65350558,
             "remaining_time": 30.32151589,
             "test": [
              0.2584311139
             ]
            },
            {
             "iteration": 26,
             "learn": [
              0.2500066499
             ],
             "passed_time": 11.09527569,
             "remaining_time": 29.99833797,
             "test": [
              0.2497186738
             ]
            },
            {
             "iteration": 27,
             "learn": [
              0.2420176874
             ],
             "passed_time": 11.46201159,
             "remaining_time": 29.47374408,
             "test": [
              0.2413379348
             ]
            },
            {
             "iteration": 28,
             "learn": [
              0.2337293812
             ],
             "passed_time": 11.83560521,
             "remaining_time": 28.97682656,
             "test": [
              0.2332733229
             ]
            },
            {
             "iteration": 29,
             "learn": [
              0.2259007808
             ],
             "passed_time": 12.25334696,
             "remaining_time": 28.5911429,
             "test": [
              0.2255105989
             ]
            },
            {
             "iteration": 30,
             "learn": [
              0.2185720257
             ],
             "passed_time": 12.69205099,
             "remaining_time": 28.25004899,
             "test": [
              0.2180369848
             ]
            },
            {
             "iteration": 31,
             "learn": [
              0.210981086
             ],
             "passed_time": 13.16869286,
             "remaining_time": 27.98347233,
             "test": [
              0.2108389239
             ]
            },
            {
             "iteration": 32,
             "learn": [
              0.2034023636
             ],
             "passed_time": 13.61113361,
             "remaining_time": 27.63472582,
             "test": [
              0.2039043421
             ]
            },
            {
             "iteration": 33,
             "learn": [
              0.1965118424
             ],
             "passed_time": 14.02327324,
             "remaining_time": 27.22164806,
             "test": [
              0.197222131
             ]
            },
            {
             "iteration": 34,
             "learn": [
              0.1912375089
             ],
             "passed_time": 14.46603341,
             "remaining_time": 26.86549062,
             "test": [
              0.190780756
             ]
            },
            {
             "iteration": 35,
             "learn": [
              0.1839755798
             ],
             "passed_time": 14.85789553,
             "remaining_time": 26.41403649,
             "test": [
              0.1845705466
             ]
            },
            {
             "iteration": 36,
             "learn": [
              0.1788293875
             ],
             "passed_time": 15.26692203,
             "remaining_time": 25.9950294,
             "test": [
              0.178582677
             ]
            },
            {
             "iteration": 37,
             "learn": [
              0.1722512931
             ],
             "passed_time": 15.67392089,
             "remaining_time": 25.57323934,
             "test": [
              0.1728063986
             ]
            },
            {
             "iteration": 38,
             "learn": [
              0.1677270735
             ],
             "passed_time": 16.22480195,
             "remaining_time": 25.37725433,
             "test": [
              0.1672342687
             ]
            },
            {
             "iteration": 39,
             "learn": [
              0.1614878559
             ],
             "passed_time": 16.59417146,
             "remaining_time": 24.89125719,
             "test": [
              0.1618564081
             ]
            },
            {
             "iteration": 40,
             "learn": [
              0.1563887212
             ],
             "passed_time": 17.02429855,
             "remaining_time": 24.49838084,
             "test": [
              0.1566659622
             ]
            },
            {
             "iteration": 41,
             "learn": [
              0.1520763489
             ],
             "passed_time": 17.5241273,
             "remaining_time": 24.19998532,
             "test": [
              0.151655909
             ]
            },
            {
             "iteration": 42,
             "learn": [
              0.1470689778
             ],
             "passed_time": 17.84463622,
             "remaining_time": 23.65451777,
             "test": [
              0.146818322
             ]
            },
            {
             "iteration": 43,
             "learn": [
              0.1419383627
             ],
             "passed_time": 18.24775394,
             "remaining_time": 23.2244141,
             "test": [
              0.1421464379
             ]
            },
            {
             "iteration": 44,
             "learn": [
              0.1371760943
             ],
             "passed_time": 18.63709837,
             "remaining_time": 22.77867578,
             "test": [
              0.1376345311
             ]
            },
            {
             "iteration": 45,
             "learn": [
              0.1329757958
             ],
             "passed_time": 19.03860543,
             "remaining_time": 22.34966725,
             "test": [
              0.1332757963
             ]
            },
            {
             "iteration": 46,
             "learn": [
              0.1289851162
             ],
             "passed_time": 19.48969153,
             "remaining_time": 21.97773726,
             "test": [
              0.1290651845
             ]
            },
            {
             "iteration": 47,
             "learn": [
              0.1250612671
             ],
             "passed_time": 19.88100127,
             "remaining_time": 21.53775137,
             "test": [
              0.1249953536
             ]
            },
            {
             "iteration": 48,
             "learn": [
              0.1211516491
             ],
             "passed_time": 20.32737207,
             "remaining_time": 21.15706073,
             "test": [
              0.1210624325
             ]
            },
            {
             "iteration": 49,
             "learn": [
              0.1172663726
             ],
             "passed_time": 20.76775943,
             "remaining_time": 20.76775943,
             "test": [
              0.1172610855
             ]
            },
            {
             "iteration": 50,
             "learn": [
              0.1133940688
             ],
             "passed_time": 21.12794992,
             "remaining_time": 20.29940287,
             "test": [
              0.1135854812
             ]
            },
            {
             "iteration": 51,
             "learn": [
              0.1098288575
             ],
             "passed_time": 21.56211994,
             "remaining_time": 19.90349533,
             "test": [
              0.1100345036
             ]
            },
            {
             "iteration": 52,
             "learn": [
              0.1070009061
             ],
             "passed_time": 21.93218163,
             "remaining_time": 19.44929314,
             "test": [
              0.106598715
             ]
            },
            {
             "iteration": 53,
             "learn": [
              0.1034837142
             ],
             "passed_time": 22.31199267,
             "remaining_time": 19.00651227,
             "test": [
              0.1032761958
             ]
            },
            {
             "iteration": 54,
             "learn": [
              0.09980937171
             ],
             "passed_time": 22.77183565,
             "remaining_time": 18.6315019,
             "test": [
              0.1000624994
             ]
            },
            {
             "iteration": 55,
             "learn": [
              0.09721571925
             ],
             "passed_time": 23.1744187,
             "remaining_time": 18.20847184,
             "test": [
              0.09695433189
             ]
            },
            {
             "iteration": 56,
             "learn": [
              0.09384694815
             ],
             "passed_time": 23.66846806,
             "remaining_time": 17.85516011,
             "test": [
              0.0939480626
             ]
            },
            {
             "iteration": 57,
             "learn": [
              0.09130354767
             ],
             "passed_time": 24.09417448,
             "remaining_time": 17.44750566,
             "test": [
              0.09104073518
             ]
            },
            {
             "iteration": 58,
             "learn": [
              0.08803160825
             ],
             "passed_time": 24.4804706,
             "remaining_time": 17.01185245,
             "test": [
              0.08822697887
             ]
            },
            {
             "iteration": 59,
             "learn": [
              0.08556867938
             ],
             "passed_time": 24.85432788,
             "remaining_time": 16.56955192,
             "test": [
              0.08550263815
             ]
            },
            {
             "iteration": 60,
             "learn": [
              0.08267687953
             ],
             "passed_time": 25.30247131,
             "remaining_time": 16.17698985,
             "test": [
              0.08286603046
             ]
            },
            {
             "iteration": 61,
             "learn": [
              0.08018975753
             ],
             "passed_time": 25.73268389,
             "remaining_time": 15.77164496,
             "test": [
              0.0803144046
             ]
            },
            {
             "iteration": 62,
             "learn": [
              0.0780569714
             ],
             "passed_time": 26.15429983,
             "remaining_time": 15.36046181,
             "test": [
              0.07784595193
             ]
            },
            {
             "iteration": 63,
             "learn": [
              0.07558767525
             ],
             "passed_time": 26.55728684,
             "remaining_time": 14.93847385,
             "test": [
              0.07545508607
             ]
            },
            {
             "iteration": 64,
             "learn": [
              0.07305888628
             ],
             "passed_time": 26.95328073,
             "remaining_time": 14.51330501,
             "test": [
              0.0731404033
             ]
            },
            {
             "iteration": 65,
             "learn": [
              0.07071957397
             ],
             "passed_time": 27.45740255,
             "remaining_time": 14.14472252,
             "test": [
              0.07089982309
             ]
            },
            {
             "iteration": 66,
             "learn": [
              0.0685786478
             ],
             "passed_time": 28.01253746,
             "remaining_time": 13.79721994,
             "test": [
              0.06872973535
             ]
            },
            {
             "iteration": 67,
             "learn": [
              0.06652769724
             ],
             "passed_time": 28.64461025,
             "remaining_time": 13.47981659,
             "test": [
              0.06662907059
             ]
            },
            {
             "iteration": 68,
             "learn": [
              0.06455892504
             ],
             "passed_time": 29.14452603,
             "remaining_time": 13.09391749,
             "test": [
              0.06459433596
             ]
            },
            {
             "iteration": 69,
             "learn": [
              0.06260572772
             ],
             "passed_time": 29.56520836,
             "remaining_time": 12.67080358,
             "test": [
              0.06262406342
             ]
            },
            {
             "iteration": 70,
             "learn": [
              0.06065839241
             ],
             "passed_time": 29.8827302,
             "remaining_time": 12.20562219,
             "test": [
              0.0607152163
             ]
            },
            {
             "iteration": 71,
             "learn": [
              0.05875082544
             ],
             "passed_time": 30.23910813,
             "remaining_time": 11.75965316,
             "test": [
              0.05886656134
             ]
            },
            {
             "iteration": 72,
             "learn": [
              0.05694565443
             ],
             "passed_time": 30.63842612,
             "remaining_time": 11.33202062,
             "test": [
              0.0570759693
             ]
            },
            {
             "iteration": 73,
             "learn": [
              0.05552696601
             ],
             "passed_time": 31.03727605,
             "remaining_time": 10.90498888,
             "test": [
              0.05534146876
             ]
            },
            {
             "iteration": 74,
             "learn": [
              0.05377236473
             ],
             "passed_time": 31.48541619,
             "remaining_time": 10.49513873,
             "test": [
              0.05366150265
             ]
            },
            {
             "iteration": 75,
             "learn": [
              0.05192905721
             ],
             "passed_time": 31.93722011,
             "remaining_time": 10.08543793,
             "test": [
              0.05203412116
             ]
            },
            {
             "iteration": 76,
             "learn": [
              0.05063140127
             ],
             "passed_time": 32.34904712,
             "remaining_time": 9.662702385,
             "test": [
              0.05045699419
             ]
            },
            {
             "iteration": 77,
             "learn": [
              0.04893745067
             ],
             "passed_time": 32.85306407,
             "remaining_time": 9.266248839,
             "test": [
              0.04892934726
             ]
            },
            {
             "iteration": 78,
             "learn": [
              0.04748871313
             ],
             "passed_time": 33.25616903,
             "remaining_time": 8.840247464,
             "test": [
              0.04744891637
             ]
            },
            {
             "iteration": 79,
             "learn": [
              0.04600974372
             ],
             "passed_time": 33.65750849,
             "remaining_time": 8.414377121,
             "test": [
              0.0460140116
             ]
            },
            {
             "iteration": 80,
             "learn": [
              0.04475522349
             ],
             "passed_time": 34.05752919,
             "remaining_time": 7.988803144,
             "test": [
              0.04462416962
             ]
            },
            {
             "iteration": 81,
             "learn": [
              0.04318962045
             ],
             "passed_time": 34.43627483,
             "remaining_time": 7.559182279,
             "test": [
              0.04327693272
             ]
            },
            {
             "iteration": 82,
             "learn": [
              0.04207311528
             ],
             "passed_time": 34.80786823,
             "remaining_time": 7.129322408,
             "test": [
              0.04197311801
             ]
            },
            {
             "iteration": 83,
             "learn": [
              0.04082303443
             ],
             "passed_time": 35.16533577,
             "remaining_time": 6.698159194,
             "test": [
              0.04070776255
             ]
            },
            {
             "iteration": 84,
             "learn": [
              0.03945903526
             ],
             "passed_time": 35.5293626,
             "remaining_time": 6.269887519,
             "test": [
              0.03948165654
             ]
            },
            {
             "iteration": 85,
             "learn": [
              0.03824909817
             ],
             "passed_time": 35.91546839,
             "remaining_time": 5.846704156,
             "test": [
              0.03829277211
             ]
            },
            {
             "iteration": 86,
             "learn": [
              0.03721531123
             ],
             "passed_time": 36.39199032,
             "remaining_time": 5.437883611,
             "test": [
              0.03714052863
             ]
            },
            {
             "iteration": 87,
             "learn": [
              0.03616378013
             ],
             "passed_time": 36.74167001,
             "remaining_time": 5.010227728,
             "test": [
              0.03602397857
             ]
            },
            {
             "iteration": 88,
             "learn": [
              0.03499491675
             ],
             "passed_time": 37.18419441,
             "remaining_time": 4.59579931,
             "test": [
              0.03494165743
             ]
            },
            {
             "iteration": 89,
             "learn": [
              0.03395225091
             ],
             "passed_time": 37.55862955,
             "remaining_time": 4.173181061,
             "test": [
              0.0338920302
             ]
            },
            {
             "iteration": 90,
             "learn": [
              0.03293747759
             ],
             "passed_time": 38.01978148,
             "remaining_time": 3.760198168,
             "test": [
              0.03287450265
             ]
            },
            {
             "iteration": 91,
             "learn": [
              0.03194516699
             ],
             "passed_time": 38.41986228,
             "remaining_time": 3.34085759,
             "test": [
              0.03188794094
             ]
            },
            {
             "iteration": 92,
             "learn": [
              0.03096949829
             ],
             "passed_time": 38.85789632,
             "remaining_time": 2.924787895,
             "test": [
              0.03093220611
             ]
            },
            {
             "iteration": 93,
             "learn": [
              0.0300378078
             ],
             "passed_time": 39.27588435,
             "remaining_time": 2.506971342,
             "test": [
              0.03000546356
             ]
            },
            {
             "iteration": 94,
             "learn": [
              0.02914937101
             ],
             "passed_time": 39.74679618,
             "remaining_time": 2.091936641,
             "test": [
              0.02910704461
             ]
            },
            {
             "iteration": 95,
             "learn": [
              0.0283538029
             ],
             "passed_time": 40.13904542,
             "remaining_time": 1.672460226,
             "test": [
              0.02823551797
             ]
            },
            {
             "iteration": 96,
             "learn": [
              0.02745980373
             ],
             "passed_time": 40.55480051,
             "remaining_time": 1.254272181,
             "test": [
              0.0273900845
             ]
            },
            {
             "iteration": 97,
             "learn": [
              0.0265756099
             ],
             "passed_time": 40.97756963,
             "remaining_time": 0.8362769313,
             "test": [
              0.02657127045
             ]
            },
            {
             "iteration": 98,
             "learn": [
              0.025896115
             ],
             "passed_time": 41.40706739,
             "remaining_time": 0.418253206,
             "test": [
              0.02577721837
             ]
            },
            {
             "iteration": 99,
             "learn": [
              0.02503498398
             ],
             "passed_time": 41.8220227,
             "remaining_time": 0,
             "test": [
              0.02500665724
             ]
            }
           ],
           "meta": {
            "iteration_count": 100,
            "launch_mode": "Train",
            "learn_metrics": [
             {
              "best_value": "Min",
              "name": "CrossEntropy"
             }
            ],
            "learn_sets": [
             "learn"
            ],
            "name": "experiment",
            "parameters": "",
            "test_metrics": [
             {
              "best_value": "Min",
              "name": "CrossEntropy"
             }
            ],
            "test_sets": [
             "test"
            ]
           }
          },
          "passed_iterations": 99,
          "total_iterations": 100
         },
         "name": "catboost_info",
         "path": "catboost_info"
        }
       },
       "layout": "IPY_MODEL_ab49ee4b02d5469181c963b1a2153af9"
      }
     },
     "c11889a84b434ed180c49b1f3c71e1ce": {
      "model_module": "@jupyter-widgets/base",
      "model_module_version": "1.2.0",
      "model_name": "LayoutModel",
      "state": {
       "_model_module": "@jupyter-widgets/base",
       "_model_module_version": "1.2.0",
       "_model_name": "LayoutModel",
       "_view_count": null,
       "_view_module": "@jupyter-widgets/base",
       "_view_module_version": "1.2.0",
       "_view_name": "LayoutView",
       "align_content": null,
       "align_items": null,
       "align_self": "stretch",
       "border": null,
       "bottom": null,
       "display": null,
       "flex": null,
       "flex_flow": null,
       "grid_area": null,
       "grid_auto_columns": null,
       "grid_auto_flow": null,
       "grid_auto_rows": null,
       "grid_column": null,
       "grid_gap": null,
       "grid_row": null,
       "grid_template_areas": null,
       "grid_template_columns": null,
       "grid_template_rows": null,
       "height": "500px",
       "justify_content": null,
       "justify_items": null,
       "left": null,
       "margin": null,
       "max_height": null,
       "max_width": null,
       "min_height": null,
       "min_width": null,
       "object_fit": null,
       "object_position": null,
       "order": null,
       "overflow": null,
       "overflow_x": null,
       "overflow_y": null,
       "padding": null,
       "right": null,
       "top": null,
       "visibility": null,
       "width": null
      }
     },
     "c9bb70f086d4484285dc3f4c0fa92e85": {
      "model_module": "@jupyter-widgets/base",
      "model_module_version": "1.2.0",
      "model_name": "LayoutModel",
      "state": {
       "_model_module": "@jupyter-widgets/base",
       "_model_module_version": "1.2.0",
       "_model_name": "LayoutModel",
       "_view_count": null,
       "_view_module": "@jupyter-widgets/base",
       "_view_module_version": "1.2.0",
       "_view_name": "LayoutView",
       "align_content": null,
       "align_items": null,
       "align_self": "stretch",
       "border": null,
       "bottom": null,
       "display": null,
       "flex": null,
       "flex_flow": null,
       "grid_area": null,
       "grid_auto_columns": null,
       "grid_auto_flow": null,
       "grid_auto_rows": null,
       "grid_column": null,
       "grid_gap": null,
       "grid_row": null,
       "grid_template_areas": null,
       "grid_template_columns": null,
       "grid_template_rows": null,
       "height": "500px",
       "justify_content": null,
       "justify_items": null,
       "left": null,
       "margin": null,
       "max_height": null,
       "max_width": null,
       "min_height": null,
       "min_width": null,
       "object_fit": null,
       "object_position": null,
       "order": null,
       "overflow": null,
       "overflow_x": null,
       "overflow_y": null,
       "padding": null,
       "right": null,
       "top": null,
       "visibility": null,
       "width": null
      }
     },
     "ccccd37d33fe496684dc256264bdde5c": {
      "model_module": "@jupyter-widgets/base",
      "model_module_version": "1.2.0",
      "model_name": "LayoutModel",
      "state": {
       "_model_module": "@jupyter-widgets/base",
       "_model_module_version": "1.2.0",
       "_model_name": "LayoutModel",
       "_view_count": null,
       "_view_module": "@jupyter-widgets/base",
       "_view_module_version": "1.2.0",
       "_view_name": "LayoutView",
       "align_content": null,
       "align_items": null,
       "align_self": "stretch",
       "border": null,
       "bottom": null,
       "display": null,
       "flex": null,
       "flex_flow": null,
       "grid_area": null,
       "grid_auto_columns": null,
       "grid_auto_flow": null,
       "grid_auto_rows": null,
       "grid_column": null,
       "grid_gap": null,
       "grid_row": null,
       "grid_template_areas": null,
       "grid_template_columns": null,
       "grid_template_rows": null,
       "height": "500px",
       "justify_content": null,
       "justify_items": null,
       "left": null,
       "margin": null,
       "max_height": null,
       "max_width": null,
       "min_height": null,
       "min_width": null,
       "object_fit": null,
       "object_position": null,
       "order": null,
       "overflow": null,
       "overflow_x": null,
       "overflow_y": null,
       "padding": null,
       "right": null,
       "top": null,
       "visibility": null,
       "width": null
      }
     },
     "d924f8b6c80447b5a6f6000ecd135ddc": {
      "model_module": "@jupyter-widgets/base",
      "model_module_version": "1.2.0",
      "model_name": "LayoutModel",
      "state": {
       "_model_module": "@jupyter-widgets/base",
       "_model_module_version": "1.2.0",
       "_model_name": "LayoutModel",
       "_view_count": null,
       "_view_module": "@jupyter-widgets/base",
       "_view_module_version": "1.2.0",
       "_view_name": "LayoutView",
       "align_content": null,
       "align_items": null,
       "align_self": "stretch",
       "border": null,
       "bottom": null,
       "display": null,
       "flex": null,
       "flex_flow": null,
       "grid_area": null,
       "grid_auto_columns": null,
       "grid_auto_flow": null,
       "grid_auto_rows": null,
       "grid_column": null,
       "grid_gap": null,
       "grid_row": null,
       "grid_template_areas": null,
       "grid_template_columns": null,
       "grid_template_rows": null,
       "height": "500px",
       "justify_content": null,
       "justify_items": null,
       "left": null,
       "margin": null,
       "max_height": null,
       "max_width": null,
       "min_height": null,
       "min_width": null,
       "object_fit": null,
       "object_position": null,
       "order": null,
       "overflow": null,
       "overflow_x": null,
       "overflow_y": null,
       "padding": null,
       "right": null,
       "top": null,
       "visibility": null,
       "width": null
      }
     },
     "db857c87c2094e778847ad94196da2f2": {
      "model_module": "catboost-widget",
      "model_module_version": "^1.0.0",
      "model_name": "CatboostWidgetModel",
      "state": {
       "_dom_classes": [],
       "_model_module": "catboost-widget",
       "_model_module_version": "^1.0.0",
       "_model_name": "CatboostWidgetModel",
       "_view_count": null,
       "_view_module": "catboost-widget",
       "_view_module_version": "^1.0.0",
       "_view_name": "CatboostWidgetView",
       "data": {
        "catboost_info": {
         "content": {
          "data": {
           "iterations": [
            {
             "iteration": 0,
             "learn": [
              0.6700927227
             ],
             "passed_time": 0.4177047448,
             "remaining_time": 41.35276974,
             "test": [
              0.6699541567
             ]
            },
            {
             "iteration": 1,
             "learn": [
              0.6488925796
             ],
             "passed_time": 0.8611193871,
             "remaining_time": 42.19484997,
             "test": [
              0.647844771
             ]
            },
            {
             "iteration": 2,
             "learn": [
              0.6264488278
             ],
             "passed_time": 1.274368386,
             "remaining_time": 41.20457782,
             "test": [
              0.6270232552
             ]
            },
            {
             "iteration": 3,
             "learn": [
              0.6070717653
             ],
             "passed_time": 1.705139388,
             "remaining_time": 40.92334532,
             "test": [
              0.6071736045
             ]
            },
            {
             "iteration": 4,
             "learn": [
              0.5883882263
             ],
             "passed_time": 2.116406238,
             "remaining_time": 40.21171852,
             "test": [
              0.5885684829
             ]
            },
            {
             "iteration": 5,
             "learn": [
              0.5710328392
             ],
             "passed_time": 2.521045815,
             "remaining_time": 39.49638444,
             "test": [
              0.5705061867
             ]
            },
            {
             "iteration": 6,
             "learn": [
              0.5531856984
             ],
             "passed_time": 2.965654894,
             "remaining_time": 39.4008436,
             "test": [
              0.5536521615
             ]
            },
            {
             "iteration": 7,
             "learn": [
              0.5375976765
             ],
             "passed_time": 3.355584385,
             "remaining_time": 38.58922043,
             "test": [
              0.5376822888
             ]
            },
            {
             "iteration": 8,
             "learn": [
              0.5220478238
             ],
             "passed_time": 3.750260002,
             "remaining_time": 37.91929558,
             "test": [
              0.5218198946
             ]
            },
            {
             "iteration": 9,
             "learn": [
              0.5072701527
             ],
             "passed_time": 4.19022966,
             "remaining_time": 37.71206694,
             "test": [
              0.5071715733
             ]
            },
            {
             "iteration": 10,
             "learn": [
              0.4931486335
             ],
             "passed_time": 4.596563139,
             "remaining_time": 37.19037449,
             "test": [
              0.4933679124
             ]
            },
            {
             "iteration": 11,
             "learn": [
              0.4797530222
             ],
             "passed_time": 5.008353813,
             "remaining_time": 36.72792796,
             "test": [
              0.4802519772
             ]
            },
            {
             "iteration": 12,
             "learn": [
              0.4663969492
             ],
             "passed_time": 5.412274598,
             "remaining_time": 36.22060693,
             "test": [
              0.4668481664
             ]
            },
            {
             "iteration": 13,
             "learn": [
              0.453524748
             ],
             "passed_time": 5.88397252,
             "remaining_time": 36.14440262,
             "test": [
              0.454340907
             ]
            },
            {
             "iteration": 14,
             "learn": [
              0.4418347913
             ],
             "passed_time": 6.289367979,
             "remaining_time": 35.63975188,
             "test": [
              0.4429882646
             ]
            },
            {
             "iteration": 15,
             "learn": [
              0.4301381376
             ],
             "passed_time": 6.687358139,
             "remaining_time": 35.10863023,
             "test": [
              0.4311590676
             ]
            },
            {
             "iteration": 16,
             "learn": [
              0.4197507127
             ],
             "passed_time": 7.08010323,
             "remaining_time": 34.56756283,
             "test": [
              0.4207392868
             ]
            },
            {
             "iteration": 17,
             "learn": [
              0.409203072
             ],
             "passed_time": 7.47416183,
             "remaining_time": 34.04895945,
             "test": [
              0.4107870531
             ]
            },
            {
             "iteration": 18,
             "learn": [
              0.3990295127
             ],
             "passed_time": 7.88220407,
             "remaining_time": 33.60308051,
             "test": [
              0.4003705245
             ]
            },
            {
             "iteration": 19,
             "learn": [
              0.3895539131
             ],
             "passed_time": 8.24933016,
             "remaining_time": 32.99732064,
             "test": [
              0.391051495
             ]
            },
            {
             "iteration": 20,
             "learn": [
              0.3802969484
             ],
             "passed_time": 8.643954001,
             "remaining_time": 32.51773172,
             "test": [
              0.3816111308
             ]
            },
            {
             "iteration": 21,
             "learn": [
              0.3707755571
             ],
             "passed_time": 9.045906942,
             "remaining_time": 32.07185189,
             "test": [
              0.3721767581
             ]
            },
            {
             "iteration": 22,
             "learn": [
              0.3619001314
             ],
             "passed_time": 9.452076059,
             "remaining_time": 31.64390681,
             "test": [
              0.3631770522
             ]
            },
            {
             "iteration": 23,
             "learn": [
              0.3534481059
             ],
             "passed_time": 9.850993036,
             "remaining_time": 31.19481128,
             "test": [
              0.3546079489
             ]
            },
            {
             "iteration": 24,
             "learn": [
              0.3453468266
             ],
             "passed_time": 10.28376857,
             "remaining_time": 30.85130571,
             "test": [
              0.3465417111
             ]
            },
            {
             "iteration": 25,
             "learn": [
              0.3375062736
             ],
             "passed_time": 10.68870219,
             "remaining_time": 30.42169085,
             "test": [
              0.3386318454
             ]
            },
            {
             "iteration": 26,
             "learn": [
              0.3299449599
             ],
             "passed_time": 11.08387934,
             "remaining_time": 29.96752562,
             "test": [
              0.3310856868
             ]
            },
            {
             "iteration": 27,
             "learn": [
              0.3229711355
             ],
             "passed_time": 11.49447533,
             "remaining_time": 29.55722229,
             "test": [
              0.3241819472
             ]
            },
            {
             "iteration": 28,
             "learn": [
              0.3161230649
             ],
             "passed_time": 11.92732304,
             "remaining_time": 29.20137709,
             "test": [
              0.3173665441
             ]
            },
            {
             "iteration": 29,
             "learn": [
              0.3096101142
             ],
             "passed_time": 12.30326355,
             "remaining_time": 28.70761494,
             "test": [
              0.3109114058
             ]
            },
            {
             "iteration": 30,
             "learn": [
              0.3030365968
             ],
             "passed_time": 12.75001514,
             "remaining_time": 28.37906595,
             "test": [
              0.3042546777
             ]
            },
            {
             "iteration": 31,
             "learn": [
              0.2967783812
             ],
             "passed_time": 13.17917711,
             "remaining_time": 28.00575136,
             "test": [
              0.2981427178
             ]
            },
            {
             "iteration": 32,
             "learn": [
              0.2904656084
             ],
             "passed_time": 13.63207085,
             "remaining_time": 27.67723476,
             "test": [
              0.2921208352
             ]
            },
            {
             "iteration": 33,
             "learn": [
              0.2851387426
             ],
             "passed_time": 13.9939622,
             "remaining_time": 27.16475015,
             "test": [
              0.2867485615
             ]
            },
            {
             "iteration": 34,
             "learn": [
              0.2794962984
             ],
             "passed_time": 14.39835834,
             "remaining_time": 26.73980834,
             "test": [
              0.2808951723
             ]
            },
            {
             "iteration": 35,
             "learn": [
              0.2740123456
             ],
             "passed_time": 14.82610047,
             "remaining_time": 26.35751195,
             "test": [
              0.2753914099
             ]
            },
            {
             "iteration": 36,
             "learn": [
              0.2683770529
             ],
             "passed_time": 15.25001518,
             "remaining_time": 25.96624206,
             "test": [
              0.2698516865
             ]
            },
            {
             "iteration": 37,
             "learn": [
              0.2633803281
             ],
             "passed_time": 15.75878466,
             "remaining_time": 25.71170128,
             "test": [
              0.264827143
             ]
            },
            {
             "iteration": 38,
             "learn": [
              0.2586805439
             ],
             "passed_time": 16.21837859,
             "remaining_time": 25.36720754,
             "test": [
              0.2600483799
             ]
            },
            {
             "iteration": 39,
             "learn": [
              0.2543405114
             ],
             "passed_time": 16.58532989,
             "remaining_time": 24.87799484,
             "test": [
              0.2558975545
             ]
            },
            {
             "iteration": 40,
             "learn": [
              0.2497562141
             ],
             "passed_time": 17.02644606,
             "remaining_time": 24.50147116,
             "test": [
              0.2515461928
             ]
            },
            {
             "iteration": 41,
             "learn": [
              0.2455559253
             ],
             "passed_time": 17.48477987,
             "remaining_time": 24.14564839,
             "test": [
              0.2470762045
             ]
            },
            {
             "iteration": 42,
             "learn": [
              0.2411891068
             ],
             "passed_time": 17.92585429,
             "remaining_time": 23.76217894,
             "test": [
              0.2428463659
             ]
            },
            {
             "iteration": 43,
             "learn": [
              0.2371725097
             ],
             "passed_time": 18.35693309,
             "remaining_time": 23.36336939,
             "test": [
              0.2388100047
             ]
            },
            {
             "iteration": 44,
             "learn": [
              0.2331618757
             ],
             "passed_time": 18.76903014,
             "remaining_time": 22.93992573,
             "test": [
              0.2348385094
             ]
            },
            {
             "iteration": 45,
             "learn": [
              0.2290967348
             ],
             "passed_time": 19.21058517,
             "remaining_time": 22.55155651,
             "test": [
              0.2309786749
             ]
            },
            {
             "iteration": 46,
             "learn": [
              0.2259624046
             ],
             "passed_time": 19.57966533,
             "remaining_time": 22.07919707,
             "test": [
              0.2276476658
             ]
            },
            {
             "iteration": 47,
             "learn": [
              0.2216493174
             ],
             "passed_time": 20.04053455,
             "remaining_time": 21.7105791,
             "test": [
              0.2236824781
             ]
            },
            {
             "iteration": 48,
             "learn": [
              0.218062952
             ],
             "passed_time": 20.48562493,
             "remaining_time": 21.32177289,
             "test": [
              0.2199723368
             ]
            },
            {
             "iteration": 49,
             "learn": [
              0.2142948338
             ],
             "passed_time": 20.8685172,
             "remaining_time": 20.8685172,
             "test": [
              0.2165934045
             ]
            },
            {
             "iteration": 50,
             "learn": [
              0.2112517253
             ],
             "passed_time": 21.29556862,
             "remaining_time": 20.46044828,
             "test": [
              0.2136331576
             ]
            },
            {
             "iteration": 51,
             "learn": [
              0.207938518
             ],
             "passed_time": 21.70438146,
             "remaining_time": 20.03481365,
             "test": [
              0.2107070102
             ]
            },
            {
             "iteration": 52,
             "learn": [
              0.2052065927
             ],
             "passed_time": 22.05609434,
             "remaining_time": 19.559178,
             "test": [
              0.2080508495
             ]
            },
            {
             "iteration": 53,
             "learn": [
              0.2019398843
             ],
             "passed_time": 22.62872433,
             "remaining_time": 19.27632072,
             "test": [
              0.2049922918
             ]
            },
            {
             "iteration": 54,
             "learn": [
              0.1988131763
             ],
             "passed_time": 23.25908039,
             "remaining_time": 19.03015668,
             "test": [
              0.2017210552
             ]
            },
            {
             "iteration": 55,
             "learn": [
              0.1958894592
             ],
             "passed_time": 23.77481716,
             "remaining_time": 18.68021349,
             "test": [
              0.1987646219
             ]
            },
            {
             "iteration": 56,
             "learn": [
              0.1931790171
             ],
             "passed_time": 24.15563279,
             "remaining_time": 18.22267035,
             "test": [
              0.1963770897
             ]
            },
            {
             "iteration": 57,
             "learn": [
              0.190269401
             ],
             "passed_time": 24.56621444,
             "remaining_time": 17.7893277,
             "test": [
              0.1933423097
             ]
            },
            {
             "iteration": 58,
             "learn": [
              0.1874050632
             ],
             "passed_time": 25.00893916,
             "remaining_time": 17.37909331,
             "test": [
              0.1902249653
             ]
            },
            {
             "iteration": 59,
             "learn": [
              0.184760967
             ],
             "passed_time": 25.38747745,
             "remaining_time": 16.92498497,
             "test": [
              0.1878325467
             ]
            },
            {
             "iteration": 60,
             "learn": [
              0.1821692156
             ],
             "passed_time": 25.77179294,
             "remaining_time": 16.47704794,
             "test": [
              0.1853573863
             ]
            },
            {
             "iteration": 61,
             "learn": [
              0.1794849518
             ],
             "passed_time": 26.17468847,
             "remaining_time": 16.042551,
             "test": [
              0.1828831732
             ]
            },
            {
             "iteration": 62,
             "learn": [
              0.1767832723
             ],
             "passed_time": 26.660932,
             "remaining_time": 15.65800768,
             "test": [
              0.1799566049
             ]
            },
            {
             "iteration": 63,
             "learn": [
              0.1747792575
             ],
             "passed_time": 27.07399109,
             "remaining_time": 15.22911999,
             "test": [
              0.1779747317
             ]
            },
            {
             "iteration": 64,
             "learn": [
              0.1729097172
             ],
             "passed_time": 27.46461367,
             "remaining_time": 14.78863813,
             "test": [
              0.1761855939
             ]
            },
            {
             "iteration": 65,
             "learn": [
              0.1706284103
             ],
             "passed_time": 27.90277848,
             "remaining_time": 14.37415861,
             "test": [
              0.1740050304
             ]
            },
            {
             "iteration": 66,
             "learn": [
              0.168529901
             ],
             "passed_time": 28.57351653,
             "remaining_time": 14.07352307,
             "test": [
              0.1719960871
             ]
            },
            {
             "iteration": 67,
             "learn": [
              0.1666082018
             ],
             "passed_time": 28.96175347,
             "remaining_time": 13.62906046,
             "test": [
              0.1700898617
             ]
            },
            {
             "iteration": 68,
             "learn": [
              0.1641898442
             ],
             "passed_time": 29.46999357,
             "remaining_time": 13.24014204,
             "test": [
              0.1675086423
             ]
            },
            {
             "iteration": 69,
             "learn": [
              0.1624674996
             ],
             "passed_time": 29.8506591,
             "remaining_time": 12.79313961,
             "test": [
              0.1660071074
             ]
            },
            {
             "iteration": 70,
             "learn": [
              0.160657774
             ],
             "passed_time": 30.2463236,
             "remaining_time": 12.35413217,
             "test": [
              0.164247372
             ]
            },
            {
             "iteration": 71,
             "learn": [
              0.1587552039
             ],
             "passed_time": 30.65427133,
             "remaining_time": 11.92110552,
             "test": [
              0.162505834
             ]
            },
            {
             "iteration": 72,
             "learn": [
              0.1567282649
             ],
             "passed_time": 31.08951617,
             "remaining_time": 11.49886215,
             "test": [
              0.1605624394
             ]
            },
            {
             "iteration": 73,
             "learn": [
              0.1545897032
             ],
             "passed_time": 31.57340784,
             "remaining_time": 11.09335951,
             "test": [
              0.1582033956
             ]
            },
            {
             "iteration": 74,
             "learn": [
              0.1527343547
             ],
             "passed_time": 31.98662372,
             "remaining_time": 10.66220791,
             "test": [
              0.1562257299
             ]
            },
            {
             "iteration": 75,
             "learn": [
              0.1508486083
             ],
             "passed_time": 32.43200545,
             "remaining_time": 10.24168593,
             "test": [
              0.1540767403
             ]
            },
            {
             "iteration": 76,
             "learn": [
              0.14926305
             ],
             "passed_time": 32.79195136,
             "remaining_time": 9.794998459,
             "test": [
              0.1526470627
             ]
            },
            {
             "iteration": 77,
             "learn": [
              0.1473590927
             ],
             "passed_time": 33.27263495,
             "remaining_time": 9.384589343,
             "test": [
              0.1505332128
             ]
            },
            {
             "iteration": 78,
             "learn": [
              0.1458720678
             ],
             "passed_time": 33.65984359,
             "remaining_time": 8.94755336,
             "test": [
              0.1490521441
             ]
            },
            {
             "iteration": 79,
             "learn": [
              0.1443891732
             ],
             "passed_time": 34.08633881,
             "remaining_time": 8.521584701,
             "test": [
              0.1474575459
             ]
            },
            {
             "iteration": 80,
             "learn": [
              0.1425334114
             ],
             "passed_time": 34.5564577,
             "remaining_time": 8.105835756,
             "test": [
              0.1453862424
             ]
            },
            {
             "iteration": 81,
             "learn": [
              0.1408014527
             ],
             "passed_time": 35.02720209,
             "remaining_time": 7.68889802,
             "test": [
              0.1432714776
             ]
            },
            {
             "iteration": 82,
             "learn": [
              0.1394880142
             ],
             "passed_time": 35.40813475,
             "remaining_time": 7.252268564,
             "test": [
              0.1419628994
             ]
            },
            {
             "iteration": 83,
             "learn": [
              0.137917208
             ],
             "passed_time": 35.82348879,
             "remaining_time": 6.823521674,
             "test": [
              0.1406351359
             ]
            },
            {
             "iteration": 84,
             "learn": [
              0.1362501452
             ],
             "passed_time": 36.3017432,
             "remaining_time": 6.406189977,
             "test": [
              0.1388180313
             ]
            },
            {
             "iteration": 85,
             "learn": [
              0.1350596789
             ],
             "passed_time": 36.67177624,
             "remaining_time": 5.96982404,
             "test": [
              0.1377365844
             ]
            },
            {
             "iteration": 86,
             "learn": [
              0.133841541
             ],
             "passed_time": 37.05387755,
             "remaining_time": 5.536786301,
             "test": [
              0.1365118464
             ]
            },
            {
             "iteration": 87,
             "learn": [
              0.1323376069
             ],
             "passed_time": 37.52836871,
             "remaining_time": 5.117504824,
             "test": [
              0.1346800272
             ]
            },
            {
             "iteration": 88,
             "learn": [
              0.1309592306
             ],
             "passed_time": 38.04411516,
             "remaining_time": 4.702081649,
             "test": [
              0.1331841464
             ]
            },
            {
             "iteration": 89,
             "learn": [
              0.1296668727
             ],
             "passed_time": 38.47972555,
             "remaining_time": 4.275525061,
             "test": [
              0.1317494261
             ]
            },
            {
             "iteration": 90,
             "learn": [
              0.1286464235
             ],
             "passed_time": 38.8801979,
             "remaining_time": 3.845294297,
             "test": [
              0.1308216426
             ]
            },
            {
             "iteration": 91,
             "learn": [
              0.1273030421
             ],
             "passed_time": 39.33286112,
             "remaining_time": 3.420248793,
             "test": [
              0.1295975885
             ]
            },
            {
             "iteration": 92,
             "learn": [
              0.1260148201
             ],
             "passed_time": 39.77725779,
             "remaining_time": 2.993987146,
             "test": [
              0.1285146057
             ]
            },
            {
             "iteration": 93,
             "learn": [
              0.1248932586
             ],
             "passed_time": 40.17016201,
             "remaining_time": 2.564052894,
             "test": [
              0.1275398442
             ]
            },
            {
             "iteration": 94,
             "learn": [
              0.1237382554
             ],
             "passed_time": 40.60815409,
             "remaining_time": 2.137271268,
             "test": [
              0.1261633088
             ]
            },
            {
             "iteration": 95,
             "learn": [
              0.1229621655
             ],
             "passed_time": 40.96249933,
             "remaining_time": 1.706770805,
             "test": [
              0.1254070141
             ]
            },
            {
             "iteration": 96,
             "learn": [
              0.1219348256
             ],
             "passed_time": 41.35652035,
             "remaining_time": 1.27906764,
             "test": [
              0.1244019866
             ]
            },
            {
             "iteration": 97,
             "learn": [
              0.1207014193
             ],
             "passed_time": 41.74935845,
             "remaining_time": 0.8520277234,
             "test": [
              0.123217391
             ]
            },
            {
             "iteration": 98,
             "learn": [
              0.1196155638
             ],
             "passed_time": 42.16617373,
             "remaining_time": 0.4259209468,
             "test": [
              0.1221482741
             ]
            },
            {
             "iteration": 99,
             "learn": [
              0.1182681451
             ],
             "passed_time": 42.65051323,
             "remaining_time": 0,
             "test": [
              0.1205879594
             ]
            }
           ],
           "meta": {
            "iteration_count": 100,
            "launch_mode": "Train",
            "learn_metrics": [
             {
              "best_value": "Min",
              "name": "CrossEntropy"
             }
            ],
            "learn_sets": [
             "learn"
            ],
            "name": "experiment",
            "parameters": "",
            "test_metrics": [
             {
              "best_value": "Min",
              "name": "CrossEntropy"
             }
            ],
            "test_sets": [
             "test"
            ]
           }
          },
          "passed_iterations": 99,
          "total_iterations": 100
         },
         "name": "catboost_info",
         "path": "catboost_info"
        }
       },
       "layout": "IPY_MODEL_666f1d79e35a4f31a07b2982c9f0d095"
      }
     },
     "dbbbb1d9653d4b3087872c3258674607": {
      "model_module": "@jupyter-widgets/base",
      "model_module_version": "1.2.0",
      "model_name": "LayoutModel",
      "state": {
       "_model_module": "@jupyter-widgets/base",
       "_model_module_version": "1.2.0",
       "_model_name": "LayoutModel",
       "_view_count": null,
       "_view_module": "@jupyter-widgets/base",
       "_view_module_version": "1.2.0",
       "_view_name": "LayoutView",
       "align_content": null,
       "align_items": null,
       "align_self": "stretch",
       "border": null,
       "bottom": null,
       "display": null,
       "flex": null,
       "flex_flow": null,
       "grid_area": null,
       "grid_auto_columns": null,
       "grid_auto_flow": null,
       "grid_auto_rows": null,
       "grid_column": null,
       "grid_gap": null,
       "grid_row": null,
       "grid_template_areas": null,
       "grid_template_columns": null,
       "grid_template_rows": null,
       "height": "500px",
       "justify_content": null,
       "justify_items": null,
       "left": null,
       "margin": null,
       "max_height": null,
       "max_width": null,
       "min_height": null,
       "min_width": null,
       "object_fit": null,
       "object_position": null,
       "order": null,
       "overflow": null,
       "overflow_x": null,
       "overflow_y": null,
       "padding": null,
       "right": null,
       "top": null,
       "visibility": null,
       "width": null
      }
     },
     "df33819144494a56876a3f4cadb75b32": {
      "model_module": "catboost-widget",
      "model_module_version": "^1.0.0",
      "model_name": "CatboostWidgetModel",
      "state": {
       "_dom_classes": [],
       "_model_module": "catboost-widget",
       "_model_module_version": "^1.0.0",
       "_model_name": "CatboostWidgetModel",
       "_view_count": null,
       "_view_module": "catboost-widget",
       "_view_module_version": "^1.0.0",
       "_view_name": "CatboostWidgetView",
       "data": {
        "catboost_info": {
         "content": {
          "data": {
           "iterations": [
            {
             "iteration": 0,
             "learn": [
              0.6613936286
             ],
             "passed_time": 0.8610749754,
             "remaining_time": 85.24642256,
             "test": [
              0.6636025319
             ]
            },
            {
             "iteration": 1,
             "learn": [
              0.6363155786
             ],
             "passed_time": 1.444410973,
             "remaining_time": 70.77613769,
             "test": [
              0.6357780246
             ]
            },
            {
             "iteration": 2,
             "learn": [
              0.6093907194
             ],
             "passed_time": 1.867331083,
             "remaining_time": 60.37703834,
             "test": [
              0.609528829
             ]
            },
            {
             "iteration": 3,
             "learn": [
              0.5837348711
             ],
             "passed_time": 2.266091687,
             "remaining_time": 54.38620048,
             "test": [
              0.584721763
             ]
            },
            {
             "iteration": 4,
             "learn": [
              0.5622144733
             ],
             "passed_time": 2.651471698,
             "remaining_time": 50.37796227,
             "test": [
              0.56125021
             ]
            },
            {
             "iteration": 5,
             "learn": [
              0.5377658251
             ],
             "passed_time": 3.119850564,
             "remaining_time": 48.87765883,
             "test": [
              0.5390061515
             ]
            },
            {
             "iteration": 6,
             "learn": [
              0.5169144369
             ],
             "passed_time": 3.526043163,
             "remaining_time": 46.84600203,
             "test": [
              0.5179010354
             ]
            },
            {
             "iteration": 7,
             "learn": [
              0.4987294895
             ],
             "passed_time": 3.896635467,
             "remaining_time": 44.81130787,
             "test": [
              0.4978540787
             ]
            },
            {
             "iteration": 8,
             "learn": [
              0.4785648535
             ],
             "passed_time": 4.891051685,
             "remaining_time": 49.45396704,
             "test": [
              0.4787925028
             ]
            },
            {
             "iteration": 9,
             "learn": [
              0.4606186702
             ],
             "passed_time": 5.943576783,
             "remaining_time": 53.49219105,
             "test": [
              0.4606491629
             ]
            },
            {
             "iteration": 10,
             "learn": [
              0.4439613297
             ],
             "passed_time": 6.729000552,
             "remaining_time": 54.44373174,
             "test": [
              0.4433646223
             ]
            },
            {
             "iteration": 11,
             "learn": [
              0.4280971668
             ],
             "passed_time": 7.167273039,
             "remaining_time": 52.56000229,
             "test": [
              0.4268786363
             ]
            },
            {
             "iteration": 12,
             "learn": [
              0.4122167339
             ],
             "passed_time": 7.609809192,
             "remaining_time": 50.92718459,
             "test": [
              0.4111456112
             ]
            },
            {
             "iteration": 13,
             "learn": [
              0.3968273345
             ],
             "passed_time": 7.974085154,
             "remaining_time": 48.98366594,
             "test": [
              0.3961210285
             ]
            },
            {
             "iteration": 14,
             "learn": [
              0.3824562237
             ],
             "passed_time": 8.403840309,
             "remaining_time": 47.62176175,
             "test": [
              0.381757904
             ]
            },
            {
             "iteration": 15,
             "learn": [
              0.3673965451
             ],
             "passed_time": 8.839343588,
             "remaining_time": 46.40655384,
             "test": [
              0.3680239959
             ]
            },
            {
             "iteration": 16,
             "learn": [
              0.3539594229
             ],
             "passed_time": 9.22771592,
             "remaining_time": 45.05296596,
             "test": [
              0.3548797457
             ]
            },
            {
             "iteration": 17,
             "learn": [
              0.3432398285
             ],
             "passed_time": 9.659873402,
             "remaining_time": 44.00608994,
             "test": [
              0.3422939784
             ]
            },
            {
             "iteration": 18,
             "learn": [
              0.3301490463
             ],
             "passed_time": 10.04666331,
             "remaining_time": 42.83051199,
             "test": [
              0.3302342092
             ]
            },
            {
             "iteration": 19,
             "learn": [
              0.3197423423
             ],
             "passed_time": 10.4538511,
             "remaining_time": 41.8154044,
             "test": [
              0.3186740523
             ]
            },
            {
             "iteration": 20,
             "learn": [
              0.3070762864
             ],
             "passed_time": 10.92100113,
             "remaining_time": 41.08376617,
             "test": [
              0.3075872803
             ]
            },
            {
             "iteration": 21,
             "learn": [
              0.296951231
             ],
             "passed_time": 11.33019284,
             "remaining_time": 40.17068371,
             "test": [
              0.2969471404
             ]
            },
            {
             "iteration": 22,
             "learn": [
              0.2868671243
             ],
             "passed_time": 11.74863029,
             "remaining_time": 39.33237098,
             "test": [
              0.2867312636
             ]
            },
            {
             "iteration": 23,
             "learn": [
              0.2766137791
             ],
             "passed_time": 12.1660887,
             "remaining_time": 38.52594755,
             "test": [
              0.2769204387
             ]
            },
            {
             "iteration": 24,
             "learn": [
              0.2666029475
             ],
             "passed_time": 12.53204237,
             "remaining_time": 37.59612712,
             "test": [
              0.2674946386
             ]
            },
            {
             "iteration": 25,
             "learn": [
              0.2580620456
             ],
             "passed_time": 12.90350797,
             "remaining_time": 36.72536884,
             "test": [
              0.2584341758
             ]
            },
            {
             "iteration": 26,
             "learn": [
              0.2500447457
             ],
             "passed_time": 13.34970853,
             "remaining_time": 36.0936564,
             "test": [
              0.2497225952
             ]
            },
            {
             "iteration": 27,
             "learn": [
              0.242056598
             ],
             "passed_time": 13.71257917,
             "remaining_time": 35.26091788,
             "test": [
              0.2413421863
             ]
            },
            {
             "iteration": 28,
             "learn": [
              0.2337845697
             ],
             "passed_time": 14.12965803,
             "remaining_time": 34.5933007,
             "test": [
              0.2332792495
             ]
            },
            {
             "iteration": 29,
             "learn": [
              0.2259577043
             ],
             "passed_time": 14.55163635,
             "remaining_time": 33.95381816,
             "test": [
              0.2255176743
             ]
            },
            {
             "iteration": 30,
             "learn": [
              0.218616003
             ],
             "passed_time": 14.9903712,
             "remaining_time": 33.36566494,
             "test": [
              0.2180447666
             ]
            },
            {
             "iteration": 31,
             "learn": [
              0.2110256746
             ],
             "passed_time": 15.47225336,
             "remaining_time": 32.8785384,
             "test": [
              0.2108479644
             ]
            },
            {
             "iteration": 32,
             "learn": [
              0.2034536092
             ],
             "passed_time": 15.86711529,
             "remaining_time": 32.21505225,
             "test": [
              0.2039118958
             ]
            },
            {
             "iteration": 33,
             "learn": [
              0.1966738167
             ],
             "passed_time": 16.28256725,
             "remaining_time": 31.60733644,
             "test": [
              0.1972299234
             ]
            },
            {
             "iteration": 34,
             "learn": [
              0.1912835925
             ],
             "passed_time": 16.71685158,
             "remaining_time": 31.04558151,
             "test": [
              0.1907893863
             ]
            },
            {
             "iteration": 35,
             "learn": [
              0.184063873
             ],
             "passed_time": 17.09070357,
             "remaining_time": 30.38347302,
             "test": [
              0.1845789489
             ]
            },
            {
             "iteration": 36,
             "learn": [
              0.1788827655
             ],
             "passed_time": 17.49911809,
             "remaining_time": 29.79579567,
             "test": [
              0.1785903243
             ]
            },
            {
             "iteration": 37,
             "learn": [
              0.1723183271
             ],
             "passed_time": 17.89794751,
             "remaining_time": 29.20191436,
             "test": [
              0.1728130513
             ]
            },
            {
             "iteration": 38,
             "learn": [
              0.1677704134
             ],
             "passed_time": 18.35236389,
             "remaining_time": 28.70497941,
             "test": [
              0.1672388347
             ]
            },
            {
             "iteration": 39,
             "learn": [
              0.161561192
             ],
             "passed_time": 18.72017084,
             "remaining_time": 28.08025626,
             "test": [
              0.161860534
             ]
            },
            {
             "iteration": 40,
             "learn": [
              0.1564389317
             ],
             "passed_time": 19.14522526,
             "remaining_time": 27.5504461,
             "test": [
              0.1566715411
             ]
            },
            {
             "iteration": 41,
             "learn": [
              0.1521261356
             ],
             "passed_time": 19.64419007,
             "remaining_time": 27.12769105,
             "test": [
              0.1516623371
             ]
            },
            {
             "iteration": 42,
             "learn": [
              0.1471208313
             ],
             "passed_time": 19.96612962,
             "remaining_time": 26.46672996,
             "test": [
              0.1468239644
             ]
            },
            {
             "iteration": 43,
             "learn": [
              0.1419985785
             ],
             "passed_time": 20.41133323,
             "remaining_time": 25.97806048,
             "test": [
              0.1421520928
             ]
            },
            {
             "iteration": 44,
             "learn": [
              0.1372441764
             ],
             "passed_time": 20.83100981,
             "remaining_time": 25.4601231,
             "test": [
              0.1376394052
             ]
            },
            {
             "iteration": 45,
             "learn": [
              0.1330248399
             ],
             "passed_time": 21.23743573,
             "remaining_time": 24.93090282,
             "test": [
              0.133281608
             ]
            },
            {
             "iteration": 46,
             "learn": [
              0.1290293762
             ],
             "passed_time": 21.68306112,
             "remaining_time": 24.45111148,
             "test": [
              0.1290715861
             ]
            },
            {
             "iteration": 47,
             "learn": [
              0.1251051689
             ],
             "passed_time": 22.07641215,
             "remaining_time": 23.91611316,
             "test": [
              0.1250006823
             ]
            },
            {
             "iteration": 48,
             "learn": [
              0.1211884272
             ],
             "passed_time": 22.54695063,
             "remaining_time": 23.46723433,
             "test": [
              0.1210670206
             ]
            },
            {
             "iteration": 49,
             "learn": [
              0.1173034169
             ],
             "passed_time": 22.99331507,
             "remaining_time": 22.99331507,
             "test": [
              0.1172666374
             ]
            },
            {
             "iteration": 50,
             "learn": [
              0.1134384832
             ],
             "passed_time": 23.35780215,
             "remaining_time": 22.44180991,
             "test": [
              0.1135922354
             ]
            },
            {
             "iteration": 51,
             "learn": [
              0.1098749411
             ],
             "passed_time": 23.79176285,
             "remaining_time": 21.96162725,
             "test": [
              0.1100403787
             ]
            },
            {
             "iteration": 52,
             "learn": [
              0.1070363831
             ],
             "passed_time": 24.14910438,
             "remaining_time": 21.41524351,
             "test": [
              0.1066047517
             ]
            },
            {
             "iteration": 53,
             "learn": [
              0.1035256642
             ],
             "passed_time": 24.52752796,
             "remaining_time": 20.89382011,
             "test": [
              0.1032829568
             ]
            },
            {
             "iteration": 54,
             "learn": [
              0.09985566557
             ],
             "passed_time": 25.03019681,
             "remaining_time": 20.47925194,
             "test": [
              0.1000692168
             ]
            },
            {
             "iteration": 55,
             "learn": [
              0.09724974387
             ],
             "passed_time": 25.43129205,
             "remaining_time": 19.98172947,
             "test": [
              0.09695964644
             ]
            },
            {
             "iteration": 56,
             "learn": [
              0.09387375054
             ],
             "passed_time": 25.91756077,
             "remaining_time": 19.55184409,
             "test": [
              0.0939521435
             ]
            },
            {
             "iteration": 57,
             "learn": [
              0.09133114195
             ],
             "passed_time": 26.34734506,
             "remaining_time": 19.07911194,
             "test": [
              0.09104270975
             ]
            },
            {
             "iteration": 58,
             "learn": [
              0.08805900702
             ],
             "passed_time": 26.74047292,
             "remaining_time": 18.58236254,
             "test": [
              0.088226969
             ]
            },
            {
             "iteration": 59,
             "learn": [
              0.0856063989
             ],
             "passed_time": 27.1271691,
             "remaining_time": 18.0847794,
             "test": [
              0.08550240658
             ]
            },
            {
             "iteration": 60,
             "learn": [
              0.08270164636
             ],
             "passed_time": 27.58165335,
             "remaining_time": 17.63417182,
             "test": [
              0.08286528157
             ]
            },
            {
             "iteration": 61,
             "learn": [
              0.0802062934
             ],
             "passed_time": 28.00114511,
             "remaining_time": 17.16199216,
             "test": [
              0.08031445253
             ]
            },
            {
             "iteration": 62,
             "learn": [
              0.07806633105
             ],
             "passed_time": 28.42165048,
             "remaining_time": 16.69208044,
             "test": [
              0.07784336261
             ]
            },
            {
             "iteration": 63,
             "learn": [
              0.0756010288
             ],
             "passed_time": 28.81896687,
             "remaining_time": 16.21066886,
             "test": [
              0.07545336685
             ]
            },
            {
             "iteration": 64,
             "learn": [
              0.07307843359
             ],
             "passed_time": 29.25582917,
             "remaining_time": 15.75313878,
             "test": [
              0.07313865898
             ]
            },
            {
             "iteration": 65,
             "learn": [
              0.07073092646
             ],
             "passed_time": 29.61994941,
             "remaining_time": 15.25876182,
             "test": [
              0.07089686494
             ]
            },
            {
             "iteration": 66,
             "learn": [
              0.06857594522
             ],
             "passed_time": 30.04555831,
             "remaining_time": 14.79855857,
             "test": [
              0.0687267822
             ]
            },
            {
             "iteration": 67,
             "learn": [
              0.06652779089
             ],
             "passed_time": 30.48847763,
             "remaining_time": 14.34751889,
             "test": [
              0.06662639078
             ]
            },
            {
             "iteration": 68,
             "learn": [
              0.06455908111
             ],
             "passed_time": 30.84058709,
             "remaining_time": 13.85591594,
             "test": [
              0.06459208355
             ]
            },
            {
             "iteration": 69,
             "learn": [
              0.06260276063
             ],
             "passed_time": 31.26847331,
             "remaining_time": 13.40077427,
             "test": [
              0.06262142942
             ]
            },
            {
             "iteration": 70,
             "learn": [
              0.06065457922
             ],
             "passed_time": 31.5992566,
             "remaining_time": 12.90673861,
             "test": [
              0.06071267984
             ]
            },
            {
             "iteration": 71,
             "learn": [
              0.05876034116
             ],
             "passed_time": 32.05816447,
             "remaining_time": 12.46706396,
             "test": [
              0.05886516312
             ]
            },
            {
             "iteration": 72,
             "learn": [
              0.05695241334
             ],
             "passed_time": 32.61314045,
             "remaining_time": 12.06239441,
             "test": [
              0.05707375122
             ]
            },
            {
             "iteration": 73,
             "learn": [
              0.05551895027
             ],
             "passed_time": 33.18041464,
             "remaining_time": 11.65798352,
             "test": [
              0.05533983299
             ]
            },
            {
             "iteration": 74,
             "learn": [
              0.05376265268
             ],
             "passed_time": 33.65887627,
             "remaining_time": 11.21962542,
             "test": [
              0.05366104002
             ]
            },
            {
             "iteration": 75,
             "learn": [
              0.05192750713
             ],
             "passed_time": 34.06281294,
             "remaining_time": 10.75667777,
             "test": [
              0.05203261292
             ]
            },
            {
             "iteration": 76,
             "learn": [
              0.0506173158
             ],
             "passed_time": 34.49566101,
             "remaining_time": 10.30389874,
             "test": [
              0.05045504894
             ]
            },
            {
             "iteration": 77,
             "learn": [
              0.04892292408
             ],
             "passed_time": 34.97580649,
             "remaining_time": 9.864971062,
             "test": [
              0.04892723816
             ]
            },
            {
             "iteration": 78,
             "learn": [
              0.04743912444
             ],
             "passed_time": 35.38681378,
             "remaining_time": 9.406621385,
             "test": [
              0.04744682729
             ]
            },
            {
             "iteration": 79,
             "learn": [
              0.04599409174
             ],
             "passed_time": 35.77684102,
             "remaining_time": 8.944210256,
             "test": [
              0.04601176751
             ]
            },
            {
             "iteration": 80,
             "learn": [
              0.04473408009
             ],
             "passed_time": 36.20279837,
             "remaining_time": 8.492014434,
             "test": [
              0.04462070437
             ]
            },
            {
             "iteration": 81,
             "learn": [
              0.04317347888
             ],
             "passed_time": 36.63613083,
             "remaining_time": 8.042077498,
             "test": [
              0.04327327615
             ]
            },
            {
             "iteration": 82,
             "learn": [
              0.04204480471
             ],
             "passed_time": 37.000345,
             "remaining_time": 7.578383915,
             "test": [
              0.04196749035
             ]
            },
            {
             "iteration": 83,
             "learn": [
              0.04079580324
             ],
             "passed_time": 37.31774791,
             "remaining_time": 7.108142458,
             "test": [
              0.04070136814
             ]
            },
            {
             "iteration": 84,
             "learn": [
              0.03943288838
             ],
             "passed_time": 37.68834292,
             "remaining_time": 6.650884045,
             "test": [
              0.03947421152
             ]
            },
            {
             "iteration": 85,
             "learn": [
              0.0382107716
             ],
             "passed_time": 38.11827041,
             "remaining_time": 6.205299835,
             "test": [
              0.03828452405
             ]
            },
            {
             "iteration": 86,
             "learn": [
              0.03717359042
             ],
             "passed_time": 38.58404874,
             "remaining_time": 5.765432571,
             "test": [
              0.03713223504
             ]
            },
            {
             "iteration": 87,
             "learn": [
              0.03612060781
             ],
             "passed_time": 38.94273061,
             "remaining_time": 5.310372356,
             "test": [
              0.03601448031
             ]
            },
            {
             "iteration": 88,
             "learn": [
              0.03494720261
             ],
             "passed_time": 39.35642975,
             "remaining_time": 4.864277834,
             "test": [
              0.03493145204
             ]
            },
            {
             "iteration": 89,
             "learn": [
              0.03390021839
             ],
             "passed_time": 39.78453021,
             "remaining_time": 4.420503356,
             "test": [
              0.0338815772
             ]
            },
            {
             "iteration": 90,
             "learn": [
              0.03289358896
             ],
             "passed_time": 40.22781153,
             "remaining_time": 3.978574766,
             "test": [
              0.03286519467
             ]
            },
            {
             "iteration": 91,
             "learn": [
              0.03190043801
             ],
             "passed_time": 40.63656956,
             "remaining_time": 3.533614744,
             "test": [
              0.03187849859
             ]
            },
            {
             "iteration": 92,
             "learn": [
              0.03092295553
             ],
             "passed_time": 41.05480388,
             "remaining_time": 3.090146528,
             "test": [
              0.03092251424
             ]
            },
            {
             "iteration": 93,
             "learn": [
              0.02998517642
             ],
             "passed_time": 41.49181691,
             "remaining_time": 2.648413845,
             "test": [
              0.02999471119
             ]
            },
            {
             "iteration": 94,
             "learn": [
              0.02907929441
             ],
             "passed_time": 41.95543691,
             "remaining_time": 2.20818089,
             "test": [
              0.02909685669
             ]
            },
            {
             "iteration": 95,
             "learn": [
              0.02830085361
             ],
             "passed_time": 42.39022595,
             "remaining_time": 1.766259415,
             "test": [
              0.02822530722
             ]
            },
            {
             "iteration": 96,
             "learn": [
              0.02740572865
             ],
             "passed_time": 42.78979646,
             "remaining_time": 1.323395767,
             "test": [
              0.02737961811
             ]
            },
            {
             "iteration": 97,
             "learn": [
              0.0265153045
             ],
             "passed_time": 43.18530726,
             "remaining_time": 0.8813328012,
             "test": [
              0.02656108346
             ]
            },
            {
             "iteration": 98,
             "learn": [
              0.02584054404
             ],
             "passed_time": 43.62181204,
             "remaining_time": 0.4406243641,
             "test": [
              0.02576787574
             ]
            },
            {
             "iteration": 99,
             "learn": [
              0.02497864209
             ],
             "passed_time": 43.99005184,
             "remaining_time": 0,
             "test": [
              0.02499708772
             ]
            }
           ],
           "meta": {
            "iteration_count": 100,
            "launch_mode": "Train",
            "learn_metrics": [
             {
              "best_value": "Min",
              "name": "CrossEntropy"
             }
            ],
            "learn_sets": [
             "learn"
            ],
            "name": "experiment",
            "parameters": "",
            "test_metrics": [
             {
              "best_value": "Min",
              "name": "CrossEntropy"
             }
            ],
            "test_sets": [
             "test"
            ]
           }
          },
          "passed_iterations": 99,
          "total_iterations": 100
         },
         "name": "catboost_info",
         "path": "catboost_info"
        }
       },
       "layout": "IPY_MODEL_dbbbb1d9653d4b3087872c3258674607"
      }
     },
     "dfbd39e9196e42819e166f7db8a353b4": {
      "model_module": "catboost-widget",
      "model_module_version": "^1.0.0",
      "model_name": "CatboostWidgetModel",
      "state": {
       "_dom_classes": [],
       "_model_module": "catboost-widget",
       "_model_module_version": "^1.0.0",
       "_model_name": "CatboostWidgetModel",
       "_view_count": null,
       "_view_module": "catboost-widget",
       "_view_module_version": "^1.0.0",
       "_view_name": "CatboostWidgetView",
       "data": {
        "catboost_info": {
         "content": {
          "data": {
           "iterations": [
            {
             "iteration": 0,
             "learn": [
              0.6689428354
             ],
             "passed_time": 0.3576190626,
             "remaining_time": 35.4042872,
             "test": [
              0.6686435076
             ]
            },
            {
             "iteration": 1,
             "learn": [
              0.6441064722
             ],
             "passed_time": 0.6987207455,
             "remaining_time": 34.23731653,
             "test": [
              0.6454956451
             ]
            },
            {
             "iteration": 2,
             "learn": [
              0.6213738872
             ],
             "passed_time": 1.048802487,
             "remaining_time": 33.91128042,
             "test": [
              0.6236193752
             ]
            },
            {
             "iteration": 3,
             "learn": [
              0.6014008358
             ],
             "passed_time": 1.436855013,
             "remaining_time": 34.48452032,
             "test": [
              0.6031786203
             ]
            },
            {
             "iteration": 4,
             "learn": [
              0.5808483535
             ],
             "passed_time": 1.825422042,
             "remaining_time": 34.68301879,
             "test": [
              0.5836317212
             ]
            },
            {
             "iteration": 5,
             "learn": [
              0.5624867658
             ],
             "passed_time": 2.169095746,
             "remaining_time": 33.98250002,
             "test": [
              0.5651601493
             ]
            },
            {
             "iteration": 6,
             "learn": [
              0.5452456767
             ],
             "passed_time": 2.506810203,
             "remaining_time": 33.30476413,
             "test": [
              0.5476810051
             ]
            },
            {
             "iteration": 7,
             "learn": [
              0.5271016873
             ],
             "passed_time": 2.843632842,
             "remaining_time": 32.70177768,
             "test": [
              0.5311253851
             ]
            },
            {
             "iteration": 8,
             "learn": [
              0.5112915987
             ],
             "passed_time": 3.213561704,
             "remaining_time": 32.49267945,
             "test": [
              0.5153441079
             ]
            },
            {
             "iteration": 9,
             "learn": [
              0.4951929516
             ],
             "passed_time": 3.61202367,
             "remaining_time": 32.50821303,
             "test": [
              0.5000578394
             ]
            },
            {
             "iteration": 10,
             "learn": [
              0.4809640376
             ],
             "passed_time": 3.965535545,
             "remaining_time": 32.08478759,
             "test": [
              0.4856667397
             ]
            },
            {
             "iteration": 11,
             "learn": [
              0.4665555917
             ],
             "passed_time": 4.334108513,
             "remaining_time": 31.78346243,
             "test": [
              0.4715249185
             ]
            },
            {
             "iteration": 12,
             "learn": [
              0.45367659
             ],
             "passed_time": 4.686226703,
             "remaining_time": 31.36167101,
             "test": [
              0.4582380046
             ]
            },
            {
             "iteration": 13,
             "learn": [
              0.4411707262
             ],
             "passed_time": 5.115904845,
             "remaining_time": 31.42627262,
             "test": [
              0.4457681404
             ]
            },
            {
             "iteration": 14,
             "learn": [
              0.4293815935
             ],
             "passed_time": 5.468732434,
             "remaining_time": 30.98948379,
             "test": [
              0.4335834056
             ]
            },
            {
             "iteration": 15,
             "learn": [
              0.4176731009
             ],
             "passed_time": 5.803321426,
             "remaining_time": 30.46743749,
             "test": [
              0.4225656561
             ]
            },
            {
             "iteration": 16,
             "learn": [
              0.4066818359
             ],
             "passed_time": 6.18592774,
             "remaining_time": 30.2018825,
             "test": [
              0.4115672898
             ]
            },
            {
             "iteration": 17,
             "learn": [
              0.396044945
             ],
             "passed_time": 6.57616247,
             "remaining_time": 29.95807347,
             "test": [
              0.4009293771
             ]
            },
            {
             "iteration": 18,
             "learn": [
              0.3855403138
             ],
             "passed_time": 6.923010464,
             "remaining_time": 29.51388671,
             "test": [
              0.3906997017
             ]
            },
            {
             "iteration": 19,
             "learn": [
              0.3761917803
             ],
             "passed_time": 7.252912676,
             "remaining_time": 29.0116507,
             "test": [
              0.3813874597
             ]
            },
            {
             "iteration": 20,
             "learn": [
              0.3665363049
             ],
             "passed_time": 7.617892299,
             "remaining_time": 28.65778531,
             "test": [
              0.3720922806
             ]
            },
            {
             "iteration": 21,
             "learn": [
              0.3577367466
             ],
             "passed_time": 8.005456431,
             "remaining_time": 28.38298189,
             "test": [
              0.3630101005
             ]
            },
            {
             "iteration": 22,
             "learn": [
              0.349129482
             ],
             "passed_time": 8.343745516,
             "remaining_time": 27.9334089,
             "test": [
              0.3546793757
             ]
            },
            {
             "iteration": 23,
             "learn": [
              0.3405781994
             ],
             "passed_time": 8.707108693,
             "remaining_time": 27.57251086,
             "test": [
              0.3464985153
             ]
            },
            {
             "iteration": 24,
             "learn": [
              0.3326261297
             ],
             "passed_time": 9.065427522,
             "remaining_time": 27.19628256,
             "test": [
              0.3384993763
             ]
            },
            {
             "iteration": 25,
             "learn": [
              0.3248991559
             ],
             "passed_time": 9.459137602,
             "remaining_time": 26.92216087,
             "test": [
              0.3308442995
             ]
            },
            {
             "iteration": 26,
             "learn": [
              0.3171902453
             ],
             "passed_time": 9.860889179,
             "remaining_time": 26.66092259,
             "test": [
              0.3234547319
             ]
            },
            {
             "iteration": 27,
             "learn": [
              0.3100541481
             ],
             "passed_time": 10.21720728,
             "remaining_time": 26.27281873,
             "test": [
              0.3165114324
             ]
            },
            {
             "iteration": 28,
             "learn": [
              0.3029811098
             ],
             "passed_time": 10.57780979,
             "remaining_time": 25.89739639,
             "test": [
              0.309963605
             ]
            },
            {
             "iteration": 29,
             "learn": [
              0.2964438208
             ],
             "passed_time": 10.99240744,
             "remaining_time": 25.6489507,
             "test": [
              0.3034913194
             ]
            },
            {
             "iteration": 30,
             "learn": [
              0.2900233144
             ],
             "passed_time": 11.30054905,
             "remaining_time": 25.15283498,
             "test": [
              0.2974389073
             ]
            },
            {
             "iteration": 31,
             "learn": [
              0.2839410614
             ],
             "passed_time": 11.64094313,
             "remaining_time": 24.73700414,
             "test": [
              0.2915523252
             ]
            },
            {
             "iteration": 32,
             "learn": [
              0.2777072054
             ],
             "passed_time": 12.01338608,
             "remaining_time": 24.39081417,
             "test": [
              0.2854615037
             ]
            },
            {
             "iteration": 33,
             "learn": [
              0.2721608661
             ],
             "passed_time": 12.3509191,
             "remaining_time": 23.97531355,
             "test": [
              0.2800557515
             ]
            },
            {
             "iteration": 34,
             "learn": [
              0.2664761521
             ],
             "passed_time": 12.69347581,
             "remaining_time": 23.57359793,
             "test": [
              0.2746888952
             ]
            },
            {
             "iteration": 35,
             "learn": [
              0.2611691224
             ],
             "passed_time": 13.04143951,
             "remaining_time": 23.18478136,
             "test": [
              0.2695356714
             ]
            },
            {
             "iteration": 36,
             "learn": [
              0.2560084719
             ],
             "passed_time": 13.4044556,
             "remaining_time": 22.82380277,
             "test": [
              0.2646258968
             ]
            },
            {
             "iteration": 37,
             "learn": [
              0.2509641062
             ],
             "passed_time": 13.74478656,
             "remaining_time": 22.42570439,
             "test": [
              0.2597715011
             ]
            },
            {
             "iteration": 38,
             "learn": [
              0.2462353926
             ],
             "passed_time": 14.03768799,
             "remaining_time": 21.95638378,
             "test": [
              0.2551757027
             ]
            },
            {
             "iteration": 39,
             "learn": [
              0.2414762859
             ],
             "passed_time": 14.41101741,
             "remaining_time": 21.61652612,
             "test": [
              0.2502414818
             ]
            },
            {
             "iteration": 40,
             "learn": [
              0.2367588185
             ],
             "passed_time": 14.80156295,
             "remaining_time": 21.2998101,
             "test": [
              0.2455085181
             ]
            },
            {
             "iteration": 41,
             "learn": [
              0.2322208962
             ],
             "passed_time": 15.13674609,
             "remaining_time": 20.90312555,
             "test": [
              0.2409627192
             ]
            },
            {
             "iteration": 42,
             "learn": [
              0.2280726417
             ],
             "passed_time": 15.51053424,
             "remaining_time": 20.56047563,
             "test": [
              0.2368880962
             ]
            },
            {
             "iteration": 43,
             "learn": [
              0.2241057354
             ],
             "passed_time": 15.87363647,
             "remaining_time": 20.20281006,
             "test": [
              0.2331255792
             ]
            },
            {
             "iteration": 44,
             "learn": [
              0.2194051516
             ],
             "passed_time": 16.26517386,
             "remaining_time": 19.87965694,
             "test": [
              0.2284914505
             ]
            },
            {
             "iteration": 45,
             "learn": [
              0.2156688757
             ],
             "passed_time": 16.60833964,
             "remaining_time": 19.49674653,
             "test": [
              0.2247786882
             ]
            },
            {
             "iteration": 46,
             "learn": [
              0.2118209684
             ],
             "passed_time": 16.94979043,
             "remaining_time": 19.11359346,
             "test": [
              0.2209563741
             ]
            },
            {
             "iteration": 47,
             "learn": [
              0.2083964735
             ],
             "passed_time": 17.27191605,
             "remaining_time": 18.71124238,
             "test": [
              0.2176797302
             ]
            },
            {
             "iteration": 48,
             "learn": [
              0.2048025482
             ],
             "passed_time": 17.65758739,
             "remaining_time": 18.37830524,
             "test": [
              0.2141250269
             ]
            },
            {
             "iteration": 49,
             "learn": [
              0.2007990452
             ],
             "passed_time": 18.05929517,
             "remaining_time": 18.05929517,
             "test": [
              0.209930915
             ]
            },
            {
             "iteration": 50,
             "learn": [
              0.1974576727
             ],
             "passed_time": 18.45193882,
             "remaining_time": 17.72833337,
             "test": [
              0.2066091704
             ]
            },
            {
             "iteration": 51,
             "learn": [
              0.1938125684
             ],
             "passed_time": 18.85873401,
             "remaining_time": 17.40806216,
             "test": [
              0.2030536153
             ]
            },
            {
             "iteration": 52,
             "learn": [
              0.1907544677
             ],
             "passed_time": 19.19659096,
             "remaining_time": 17.02339199,
             "test": [
              0.199836034
             ]
            },
            {
             "iteration": 53,
             "learn": [
              0.1872959803
             ],
             "passed_time": 19.5648319,
             "remaining_time": 16.66633829,
             "test": [
              0.1963400456
             ]
            },
            {
             "iteration": 54,
             "learn": [
              0.1843608419
             ],
             "passed_time": 19.96479345,
             "remaining_time": 16.334831,
             "test": [
              0.1932162544
             ]
            },
            {
             "iteration": 55,
             "learn": [
              0.1810039958
             ],
             "passed_time": 20.33404169,
             "remaining_time": 15.97674704,
             "test": [
              0.1899516557
             ]
            },
            {
             "iteration": 56,
             "learn": [
              0.1783625847
             ],
             "passed_time": 20.69935299,
             "remaining_time": 15.61530138,
             "test": [
              0.1874878936
             ]
            },
            {
             "iteration": 57,
             "learn": [
              0.1755563761
             ],
             "passed_time": 21.02799788,
             "remaining_time": 15.22717088,
             "test": [
              0.1847279311
             ]
            },
            {
             "iteration": 58,
             "learn": [
              0.1729985409
             ],
             "passed_time": 21.38775069,
             "remaining_time": 14.8626742,
             "test": [
              0.1821175019
             ]
            },
            {
             "iteration": 59,
             "learn": [
              0.1706999868
             ],
             "passed_time": 21.7236725,
             "remaining_time": 14.48244833,
             "test": [
              0.1796900445
             ]
            },
            {
             "iteration": 60,
             "learn": [
              0.1680171905
             ],
             "passed_time": 22.09881923,
             "remaining_time": 14.12875328,
             "test": [
              0.1771690379
             ]
            },
            {
             "iteration": 61,
             "learn": [
              0.1657520383
             ],
             "passed_time": 22.43636375,
             "remaining_time": 13.75131972,
             "test": [
              0.1747724017
             ]
            },
            {
             "iteration": 62,
             "learn": [
              0.1630406578
             ],
             "passed_time": 22.80337131,
             "remaining_time": 13.39245617,
             "test": [
              0.1720897865
             ]
            },
            {
             "iteration": 63,
             "learn": [
              0.1605945908
             ],
             "passed_time": 23.22078257,
             "remaining_time": 13.0616902,
             "test": [
              0.1697683902
             ]
            },
            {
             "iteration": 64,
             "learn": [
              0.1584700823
             ],
             "passed_time": 23.57277922,
             "remaining_time": 12.69303497,
             "test": [
              0.1677781049
             ]
            },
            {
             "iteration": 65,
             "learn": [
              0.1557271682
             ],
             "passed_time": 23.98251143,
             "remaining_time": 12.3546271,
             "test": [
              0.165002428
             ]
            },
            {
             "iteration": 66,
             "learn": [
              0.1532223717
             ],
             "passed_time": 24.36045394,
             "remaining_time": 11.99843254,
             "test": [
              0.1626938567
             ]
            },
            {
             "iteration": 67,
             "learn": [
              0.1508881211
             ],
             "passed_time": 24.75036408,
             "remaining_time": 11.64723016,
             "test": [
              0.1601567911
             ]
            },
            {
             "iteration": 68,
             "learn": [
              0.1490246459
             ],
             "passed_time": 25.11607896,
             "remaining_time": 11.28403547,
             "test": [
              0.1585089556
             ]
            },
            {
             "iteration": 69,
             "learn": [
              0.1469217434
             ],
             "passed_time": 25.49301217,
             "remaining_time": 10.92557665,
             "test": [
              0.1565065871
             ]
            },
            {
             "iteration": 70,
             "learn": [
              0.1446621012
             ],
             "passed_time": 25.8820707,
             "remaining_time": 10.57155,
             "test": [
              0.1541590264
             ]
            },
            {
             "iteration": 71,
             "learn": [
              0.142586358
             ],
             "passed_time": 26.27218706,
             "remaining_time": 10.21696163,
             "test": [
              0.1518964102
             ]
            },
            {
             "iteration": 72,
             "learn": [
              0.1408293443
             ],
             "passed_time": 26.65103627,
             "remaining_time": 9.857232594,
             "test": [
              0.1502184123
             ]
            },
            {
             "iteration": 73,
             "learn": [
              0.1390203335
             ],
             "passed_time": 27.11710001,
             "remaining_time": 9.527629732,
             "test": [
              0.148371099
             ]
            },
            {
             "iteration": 74,
             "learn": [
              0.1372716893
             ],
             "passed_time": 27.54774976,
             "remaining_time": 9.182583254,
             "test": [
              0.1467419326
             ]
            },
            {
             "iteration": 75,
             "learn": [
              0.1356459718
             ],
             "passed_time": 27.923431,
             "remaining_time": 8.817925578,
             "test": [
              0.1451703057
             ]
            },
            {
             "iteration": 76,
             "learn": [
              0.1342171539
             ],
             "passed_time": 28.21191994,
             "remaining_time": 8.426937124,
             "test": [
              0.1437972523
             ]
            },
            {
             "iteration": 77,
             "learn": [
              0.1324875487
             ],
             "passed_time": 28.69600086,
             "remaining_time": 8.093743831,
             "test": [
              0.1422393192
             ]
            },
            {
             "iteration": 78,
             "learn": [
              0.1310978661
             ],
             "passed_time": 29.19080941,
             "remaining_time": 7.759582249,
             "test": [
              0.1407739448
             ]
            },
            {
             "iteration": 79,
             "learn": [
              0.1295057285
             ],
             "passed_time": 29.73537341,
             "remaining_time": 7.433843353,
             "test": [
              0.1391861687
             ]
            },
            {
             "iteration": 80,
             "learn": [
              0.1276686878
             ],
             "passed_time": 30.22516773,
             "remaining_time": 7.089854158,
             "test": [
              0.1372692151
             ]
            },
            {
             "iteration": 81,
             "learn": [
              0.1264847013
             ],
             "passed_time": 30.51292244,
             "remaining_time": 6.697958584,
             "test": [
              0.1361379979
             ]
            },
            {
             "iteration": 82,
             "learn": [
              0.1245987571
             ],
             "passed_time": 30.94120695,
             "remaining_time": 6.337355641,
             "test": [
              0.1343014042
             ]
            },
            {
             "iteration": 83,
             "learn": [
              0.1231084634
             ],
             "passed_time": 31.36740366,
             "remaining_time": 5.974743554,
             "test": [
              0.1329257833
             ]
            },
            {
             "iteration": 84,
             "learn": [
              0.1221113803
             ],
             "passed_time": 31.70416957,
             "remaining_time": 5.594853453,
             "test": [
              0.1318918858
             ]
            },
            {
             "iteration": 85,
             "learn": [
              0.1208002196
             ],
             "passed_time": 32.14159699,
             "remaining_time": 5.232352998,
             "test": [
              0.1306548355
             ]
            },
            {
             "iteration": 86,
             "learn": [
              0.1194794893
             ],
             "passed_time": 32.53469549,
             "remaining_time": 4.861506223,
             "test": [
              0.1295478888
             ]
            },
            {
             "iteration": 87,
             "learn": [
              0.1185812599
             ],
             "passed_time": 32.81150915,
             "remaining_time": 4.474296702,
             "test": [
              0.1286498032
             ]
            },
            {
             "iteration": 88,
             "learn": [
              0.1170446034
             ],
             "passed_time": 33.2517486,
             "remaining_time": 4.10976668,
             "test": [
              0.1270820285
             ]
            },
            {
             "iteration": 89,
             "learn": [
              0.1158534685
             ],
             "passed_time": 33.57706288,
             "remaining_time": 3.730784765,
             "test": [
              0.1260631263
             ]
            },
            {
             "iteration": 90,
             "learn": [
              0.1144477234
             ],
             "passed_time": 34.00295633,
             "remaining_time": 3.362929747,
             "test": [
              0.1247886963
             ]
            },
            {
             "iteration": 91,
             "learn": [
              0.1128966561
             ],
             "passed_time": 34.4590295,
             "remaining_time": 2.996437348,
             "test": [
              0.1231672865
             ]
            },
            {
             "iteration": 92,
             "learn": [
              0.111823712
             ],
             "passed_time": 34.81323859,
             "remaining_time": 2.620351291,
             "test": [
              0.1222336712
             ]
            },
            {
             "iteration": 93,
             "learn": [
              0.110844096
             ],
             "passed_time": 35.12345118,
             "remaining_time": 2.241922416,
             "test": [
              0.1214600437
             ]
            },
            {
             "iteration": 94,
             "learn": [
              0.1095923174
             ],
             "passed_time": 35.53606925,
             "remaining_time": 1.870319434,
             "test": [
              0.120152066
             ]
            },
            {
             "iteration": 95,
             "learn": [
              0.1085183858
             ],
             "passed_time": 35.97089494,
             "remaining_time": 1.498787289,
             "test": [
              0.1191805616
             ]
            },
            {
             "iteration": 96,
             "learn": [
              0.107683268
             ],
             "passed_time": 36.25949307,
             "remaining_time": 1.121427621,
             "test": [
              0.1183937756
             ]
            },
            {
             "iteration": 97,
             "learn": [
              0.1068229128
             ],
             "passed_time": 36.63226162,
             "remaining_time": 0.7475971759,
             "test": [
              0.1176323406
             ]
            },
            {
             "iteration": 98,
             "learn": [
              0.1060059791
             ],
             "passed_time": 36.96510459,
             "remaining_time": 0.3733848949,
             "test": [
              0.1168239708
             ]
            },
            {
             "iteration": 99,
             "learn": [
              0.1045980397
             ],
             "passed_time": 37.4303293,
             "remaining_time": 0,
             "test": [
              0.1154613813
             ]
            }
           ],
           "meta": {
            "iteration_count": 100,
            "launch_mode": "Train",
            "learn_metrics": [
             {
              "best_value": "Min",
              "name": "CrossEntropy"
             }
            ],
            "learn_sets": [
             "learn"
            ],
            "name": "experiment",
            "parameters": "",
            "test_metrics": [
             {
              "best_value": "Min",
              "name": "CrossEntropy"
             }
            ],
            "test_sets": [
             "test"
            ]
           }
          },
          "passed_iterations": 99,
          "total_iterations": 100
         },
         "name": "catboost_info",
         "path": "catboost_info"
        }
       },
       "layout": "IPY_MODEL_28b16b5a21b74e1aa3735aaa353c410f"
      }
     },
     "e302d3720f6348178934a422a5e4464a": {
      "model_module": "@jupyter-widgets/base",
      "model_module_version": "1.2.0",
      "model_name": "LayoutModel",
      "state": {
       "_model_module": "@jupyter-widgets/base",
       "_model_module_version": "1.2.0",
       "_model_name": "LayoutModel",
       "_view_count": null,
       "_view_module": "@jupyter-widgets/base",
       "_view_module_version": "1.2.0",
       "_view_name": "LayoutView",
       "align_content": null,
       "align_items": null,
       "align_self": "stretch",
       "border": null,
       "bottom": null,
       "display": null,
       "flex": null,
       "flex_flow": null,
       "grid_area": null,
       "grid_auto_columns": null,
       "grid_auto_flow": null,
       "grid_auto_rows": null,
       "grid_column": null,
       "grid_gap": null,
       "grid_row": null,
       "grid_template_areas": null,
       "grid_template_columns": null,
       "grid_template_rows": null,
       "height": "500px",
       "justify_content": null,
       "justify_items": null,
       "left": null,
       "margin": null,
       "max_height": null,
       "max_width": null,
       "min_height": null,
       "min_width": null,
       "object_fit": null,
       "object_position": null,
       "order": null,
       "overflow": null,
       "overflow_x": null,
       "overflow_y": null,
       "padding": null,
       "right": null,
       "top": null,
       "visibility": null,
       "width": null
      }
     },
     "e4a9981064164f0eafb947816fe651a0": {
      "model_module": "catboost-widget",
      "model_module_version": "^1.0.0",
      "model_name": "CatboostWidgetModel",
      "state": {
       "_dom_classes": [],
       "_model_module": "catboost-widget",
       "_model_module_version": "^1.0.0",
       "_model_name": "CatboostWidgetModel",
       "_view_count": null,
       "_view_module": "catboost-widget",
       "_view_module_version": "^1.0.0",
       "_view_name": "CatboostWidgetView",
       "data": {
        "catboost_info": {
         "content": {
          "data": {
           "iterations": [
            {
             "iteration": 0,
             "learn": [
              0.6624205249
             ],
             "passed_time": 0.4955898662,
             "remaining_time": 49.06339676,
             "test": [
              0.6641027767
             ]
            },
            {
             "iteration": 1,
             "learn": [
              0.6374675329
             ],
             "passed_time": 0.9664452183,
             "remaining_time": 47.3558157,
             "test": [
              0.6367304803
             ]
            },
            {
             "iteration": 2,
             "learn": [
              0.6110116779
             ],
             "passed_time": 1.419171184,
             "remaining_time": 45.88653494,
             "test": [
              0.6108655202
             ]
            },
            {
             "iteration": 3,
             "learn": [
              0.5864655544
             ],
             "passed_time": 1.833300564,
             "remaining_time": 43.99921353,
             "test": [
              0.5862793601
             ]
            },
            {
             "iteration": 4,
             "learn": [
              0.5645901054
             ],
             "passed_time": 2.279652018,
             "remaining_time": 43.31338835,
             "test": [
              0.563168207
             ]
            },
            {
             "iteration": 5,
             "learn": [
              0.5415575778
             ],
             "passed_time": 2.705152584,
             "remaining_time": 42.38072382,
             "test": [
              0.5412688653
             ]
            },
            {
             "iteration": 6,
             "learn": [
              0.5206551945
             ],
             "passed_time": 3.149214323,
             "remaining_time": 41.83956172,
             "test": [
              0.5205055429
             ]
            },
            {
             "iteration": 7,
             "learn": [
              0.5023694777
             ],
             "passed_time": 3.633126184,
             "remaining_time": 41.78095112,
             "test": [
              0.5006431159
             ]
            },
            {
             "iteration": 8,
             "learn": [
              0.4830848618
             ],
             "passed_time": 4.064505068,
             "remaining_time": 41.09666235,
             "test": [
              0.4818800907
             ]
            },
            {
             "iteration": 9,
             "learn": [
              0.4652724768
             ],
             "passed_time": 4.480782564,
             "remaining_time": 40.32704307,
             "test": [
              0.4639403442
             ]
            },
            {
             "iteration": 10,
             "learn": [
              0.4489350433
             ],
             "passed_time": 4.906035575,
             "remaining_time": 39.69428784,
             "test": [
              0.4468728518
             ]
            },
            {
             "iteration": 11,
             "learn": [
              0.4330988031
             ],
             "passed_time": 5.339304244,
             "remaining_time": 39.15489779,
             "test": [
              0.4307082878
             ]
            },
            {
             "iteration": 12,
             "learn": [
              0.4175245499
             ],
             "passed_time": 5.878467556,
             "remaining_time": 39.34051365,
             "test": [
              0.41515889
             ]
            },
            {
             "iteration": 13,
             "learn": [
              0.4024079453
             ],
             "passed_time": 6.436706878,
             "remaining_time": 39.53977082,
             "test": [
              0.4002510562
             ]
            },
            {
             "iteration": 14,
             "learn": [
              0.3882986678
             ],
             "passed_time": 6.938210952,
             "remaining_time": 39.31652873,
             "test": [
              0.3860447188
             ]
            },
            {
             "iteration": 15,
             "learn": [
              0.3739868144
             ],
             "passed_time": 7.446450478,
             "remaining_time": 39.09386501,
             "test": [
              0.3725046404
             ]
            },
            {
             "iteration": 16,
             "learn": [
              0.3614298239
             ],
             "passed_time": 7.901054116,
             "remaining_time": 38.5757348,
             "test": [
              0.3594796487
             ]
            },
            {
             "iteration": 17,
             "learn": [
              0.3498096533
             ],
             "passed_time": 8.397151303,
             "remaining_time": 38.25368927,
             "test": [
              0.3471633147
             ]
            },
            {
             "iteration": 18,
             "learn": [
              0.3376313485
             ],
             "passed_time": 8.862554394,
             "remaining_time": 37.78246873,
             "test": [
              0.3351725781
             ]
            },
            {
             "iteration": 19,
             "learn": [
              0.3265732381
             ],
             "passed_time": 9.304765505,
             "remaining_time": 37.21906202,
             "test": [
              0.3236934247
             ]
            },
            {
             "iteration": 20,
             "learn": [
              0.3152370282
             ],
             "passed_time": 9.75289773,
             "remaining_time": 36.68947241,
             "test": [
              0.312823111
             ]
            },
            {
             "iteration": 21,
             "learn": [
              0.3045413448
             ],
             "passed_time": 10.18490949,
             "remaining_time": 36.11013363,
             "test": [
              0.3023087294
             ]
            },
            {
             "iteration": 22,
             "learn": [
              0.2948098205
             ],
             "passed_time": 10.64576374,
             "remaining_time": 35.64016557,
             "test": [
              0.2923314015
             ]
            },
            {
             "iteration": 23,
             "learn": [
              0.2852696086
             ],
             "passed_time": 11.0950783,
             "remaining_time": 35.13441463,
             "test": [
              0.282617475
             ]
            },
            {
             "iteration": 24,
             "learn": [
              0.2758460243
             ],
             "passed_time": 11.60843148,
             "remaining_time": 34.82529443,
             "test": [
              0.2733155368
             ]
            },
            {
             "iteration": 25,
             "learn": [
              0.2666880658
             ],
             "passed_time": 12.28291393,
             "remaining_time": 34.95906272,
             "test": [
              0.2642309131
             ]
            },
            {
             "iteration": 26,
             "learn": [
              0.2584976688
             ],
             "passed_time": 12.8976036,
             "remaining_time": 34.87129862,
             "test": [
              0.2555747181
             ]
            },
            {
             "iteration": 27,
             "learn": [
              0.2504572501
             ],
             "passed_time": 13.37904007,
             "remaining_time": 34.4032459,
             "test": [
              0.2472307612
             ]
            },
            {
             "iteration": 28,
             "learn": [
              0.2424367311
             ],
             "passed_time": 13.80702196,
             "remaining_time": 33.80339859,
             "test": [
              0.2393451211
             ]
            },
            {
             "iteration": 29,
             "learn": [
              0.2348021973
             ],
             "passed_time": 14.24176459,
             "remaining_time": 33.23078404,
             "test": [
              0.2316659431
             ]
            },
            {
             "iteration": 30,
             "learn": [
              0.2275065597
             ],
             "passed_time": 14.71940593,
             "remaining_time": 32.76254868,
             "test": [
              0.2242537036
             ]
            },
            {
             "iteration": 31,
             "learn": [
              0.2201281431
             ],
             "passed_time": 15.14311106,
             "remaining_time": 32.17911099,
             "test": [
              0.2170673851
             ]
            },
            {
             "iteration": 32,
             "learn": [
              0.2128953675
             ],
             "passed_time": 15.62144284,
             "remaining_time": 31.71626273,
             "test": [
              0.210091705
             ]
            },
            {
             "iteration": 33,
             "learn": [
              0.2064539777
             ],
             "passed_time": 16.09300782,
             "remaining_time": 31.23936813,
             "test": [
              0.2035457814
             ]
            },
            {
             "iteration": 34,
             "learn": [
              0.2004929946
             ],
             "passed_time": 16.48415538,
             "remaining_time": 30.61343141,
             "test": [
              0.1972104779
             ]
            },
            {
             "iteration": 35,
             "learn": [
              0.1939630332
             ],
             "passed_time": 16.93088496,
             "remaining_time": 30.09935104,
             "test": [
              0.1909619295
             ]
            },
            {
             "iteration": 36,
             "learn": [
              0.1883481625
             ],
             "passed_time": 17.42387659,
             "remaining_time": 29.66768177,
             "test": [
              0.1850308015
             ]
            },
            {
             "iteration": 37,
             "learn": [
              0.1823861484
             ],
             "passed_time": 17.90247372,
             "remaining_time": 29.20929923,
             "test": [
              0.1792760532
             ]
            },
            {
             "iteration": 38,
             "learn": [
              0.1770958375
             ],
             "passed_time": 18.43080808,
             "remaining_time": 28.82767418,
             "test": [
              0.1737111313
             ]
            },
            {
             "iteration": 39,
             "learn": [
              0.1715822789
             ],
             "passed_time": 18.88706714,
             "remaining_time": 28.33060072,
             "test": [
              0.1683424389
             ]
            },
            {
             "iteration": 40,
             "learn": [
              0.1663338897
             ],
             "passed_time": 19.31376198,
             "remaining_time": 27.79297456,
             "test": [
              0.1631831344
             ]
            },
            {
             "iteration": 41,
             "learn": [
              0.1616792898
             ],
             "passed_time": 19.74934218,
             "remaining_time": 27.27290111,
             "test": [
              0.1582354078
             ]
            },
            {
             "iteration": 42,
             "learn": [
              0.1567635665
             ],
             "passed_time": 20.21145692,
             "remaining_time": 26.79193127,
             "test": [
              0.1533597925
             ]
            },
            {
             "iteration": 43,
             "learn": [
              0.1521525842
             ],
             "passed_time": 20.67754147,
             "remaining_time": 26.31687096,
             "test": [
              0.1487520516
             ]
            },
            {
             "iteration": 44,
             "learn": [
              0.14755209
             ],
             "passed_time": 21.0973577,
             "remaining_time": 25.78565941,
             "test": [
              0.1442438767
             ]
            },
            {
             "iteration": 45,
             "learn": [
              0.1432327101
             ],
             "passed_time": 21.56265091,
             "remaining_time": 25.31267716,
             "test": [
              0.1399329489
             ]
            },
            {
             "iteration": 46,
             "learn": [
              0.1390731526
             ],
             "passed_time": 22.05076072,
             "remaining_time": 24.86575145,
             "test": [
              0.1357491003
             ]
            },
            {
             "iteration": 47,
             "learn": [
              0.1349558608
             ],
             "passed_time": 22.50127639,
             "remaining_time": 24.37638276,
             "test": [
              0.1316767211
             ]
            },
            {
             "iteration": 48,
             "learn": [
              0.1310922079
             ],
             "passed_time": 22.9643517,
             "remaining_time": 23.90167218,
             "test": [
              0.1277686346
             ]
            },
            {
             "iteration": 49,
             "learn": [
              0.127339682
             ],
             "passed_time": 23.4160576,
             "remaining_time": 23.4160576,
             "test": [
              0.1239933888
             ]
            },
            {
             "iteration": 50,
             "learn": [
              0.1236987881
             ],
             "passed_time": 23.83399976,
             "remaining_time": 22.8993331,
             "test": [
              0.1203505048
             ]
            },
            {
             "iteration": 51,
             "learn": [
              0.1201689452
             ],
             "passed_time": 24.27620414,
             "remaining_time": 22.40880382,
             "test": [
              0.1168081426
             ]
            },
            {
             "iteration": 52,
             "learn": [
              0.1168511812
             ],
             "passed_time": 24.70071871,
             "remaining_time": 21.90441093,
             "test": [
              0.1133804323
             ]
            },
            {
             "iteration": 53,
             "learn": [
              0.1136793783
             ],
             "passed_time": 25.15439086,
             "remaining_time": 21.42781444,
             "test": [
              0.1100465183
             ]
            },
            {
             "iteration": 54,
             "learn": [
              0.1104200247
             ],
             "passed_time": 25.59106902,
             "remaining_time": 20.93814738,
             "test": [
              0.1068582051
             ]
            },
            {
             "iteration": 55,
             "learn": [
              0.1073217628
             ],
             "passed_time": 26.01759322,
             "remaining_time": 20.44239467,
             "test": [
              0.1037046374
             ]
            },
            {
             "iteration": 56,
             "learn": [
              0.1041371942
             ],
             "passed_time": 26.47671679,
             "remaining_time": 19.97366355,
             "test": [
              0.1006304144
             ]
            },
            {
             "iteration": 57,
             "learn": [
              0.1013070964
             ],
             "passed_time": 26.94226927,
             "remaining_time": 19.50991913,
             "test": [
              0.09773312686
             ]
            },
            {
             "iteration": 58,
             "learn": [
              0.09848232508
             ],
             "passed_time": 27.36230418,
             "remaining_time": 19.01448256,
             "test": [
              0.09494490066
             ]
            },
            {
             "iteration": 59,
             "learn": [
              0.09581150743
             ],
             "passed_time": 27.85715149,
             "remaining_time": 18.57143433,
             "test": [
              0.09218594558
             ]
            },
            {
             "iteration": 60,
             "learn": [
              0.09306252208
             ],
             "passed_time": 28.24829212,
             "remaining_time": 18.06038348,
             "test": [
              0.08955157043
             ]
            },
            {
             "iteration": 61,
             "learn": [
              0.09051078434
             ],
             "passed_time": 28.70579212,
             "remaining_time": 17.59387259,
             "test": [
              0.08696132931
             ]
            },
            {
             "iteration": 62,
             "learn": [
              0.08800709853
             ],
             "passed_time": 29.23056256,
             "remaining_time": 17.16715579,
             "test": [
              0.08448045099
             ]
            },
            {
             "iteration": 63,
             "learn": [
              0.0856866601
             ],
             "passed_time": 29.65740992,
             "remaining_time": 16.68229308,
             "test": [
              0.08209035451
             ]
            },
            {
             "iteration": 64,
             "learn": [
              0.08327645272
             ],
             "passed_time": 30.09568099,
             "remaining_time": 16.20536668,
             "test": [
              0.07978992821
             ]
            },
            {
             "iteration": 65,
             "learn": [
              0.0810797331
             ],
             "passed_time": 30.56572575,
             "remaining_time": 15.74597993,
             "test": [
              0.07753921418
             ]
            },
            {
             "iteration": 66,
             "learn": [
              0.07889572353
             ],
             "passed_time": 30.99908783,
             "remaining_time": 15.26820744,
             "test": [
              0.07539042504
             ]
            },
            {
             "iteration": 67,
             "learn": [
              0.07678289764
             ],
             "passed_time": 31.46282353,
             "remaining_time": 14.8060346,
             "test": [
              0.0732355065
             ]
            },
            {
             "iteration": 68,
             "learn": [
              0.07480281921
             ],
             "passed_time": 31.93126038,
             "remaining_time": 14.34592858,
             "test": [
              0.07123204354
             ]
            },
            {
             "iteration": 69,
             "learn": [
              0.072840428
             ],
             "passed_time": 32.35436704,
             "remaining_time": 13.8661573,
             "test": [
              0.06924037974
             ]
            },
            {
             "iteration": 70,
             "learn": [
              0.07093102892
             ],
             "passed_time": 32.80030092,
             "remaining_time": 13.39730601,
             "test": [
              0.06734374463
             ]
            },
            {
             "iteration": 71,
             "learn": [
              0.069051843
             ],
             "passed_time": 33.25826191,
             "remaining_time": 12.93376852,
             "test": [
              0.06547174647
             ]
            },
            {
             "iteration": 72,
             "learn": [
              0.06723748304
             ],
             "passed_time": 33.75320673,
             "remaining_time": 12.48406276,
             "test": [
              0.0637076845
             ]
            },
            {
             "iteration": 73,
             "learn": [
              0.06556265577
             ],
             "passed_time": 34.1710859,
             "remaining_time": 12.00605721,
             "test": [
              0.06196284089
             ]
            },
            {
             "iteration": 74,
             "learn": [
              0.06383174752
             ],
             "passed_time": 34.6385475,
             "remaining_time": 11.5461825,
             "test": [
              0.06027611673
             ]
            },
            {
             "iteration": 75,
             "learn": [
              0.06219102512
             ],
             "passed_time": 35.1029605,
             "remaining_time": 11.08514542,
             "test": [
              0.05864638213
             ]
            },
            {
             "iteration": 76,
             "learn": [
              0.06061231108
             ],
             "passed_time": 35.54663547,
             "remaining_time": 10.61782618,
             "test": [
              0.05703618166
             ]
            },
            {
             "iteration": 77,
             "learn": [
              0.05906913942
             ],
             "passed_time": 35.98006917,
             "remaining_time": 10.14822464,
             "test": [
              0.05552209233
             ]
            },
            {
             "iteration": 78,
             "learn": [
              0.05760070244
             ],
             "passed_time": 36.4278476,
             "remaining_time": 9.683351893,
             "test": [
              0.05397995433
             ]
            },
            {
             "iteration": 79,
             "learn": [
              0.05614635646
             ],
             "passed_time": 36.8828249,
             "remaining_time": 9.220706225,
             "test": [
              0.05252265497
             ]
            },
            {
             "iteration": 80,
             "learn": [
              0.05482439636
             ],
             "passed_time": 37.34575188,
             "remaining_time": 8.760114638,
             "test": [
              0.05113822709
             ]
            },
            {
             "iteration": 81,
             "learn": [
              0.05337835905
             ],
             "passed_time": 37.80071105,
             "remaining_time": 8.297717059,
             "test": [
              0.04974394588
             ]
            },
            {
             "iteration": 82,
             "learn": [
              0.05204216414
             ],
             "passed_time": 38.22420326,
             "remaining_time": 7.82905368,
             "test": [
              0.04840097761
             ]
            },
            {
             "iteration": 83,
             "learn": [
              0.0507722787
             ],
             "passed_time": 38.65389266,
             "remaining_time": 7.362646221,
             "test": [
              0.0471018993
             ]
            },
            {
             "iteration": 84,
             "learn": [
              0.04951430071
             ],
             "passed_time": 39.07437459,
             "remaining_time": 6.895477869,
             "test": [
              0.04586219264
             ]
            },
            {
             "iteration": 85,
             "learn": [
              0.04830957232
             ],
             "passed_time": 39.53178795,
             "remaining_time": 6.43540734,
             "test": [
              0.04467145969
             ]
            },
            {
             "iteration": 86,
             "learn": [
              0.04711024504
             ],
             "passed_time": 39.98080755,
             "remaining_time": 5.974143656,
             "test": [
              0.04346866527
             ]
            },
            {
             "iteration": 87,
             "learn": [
              0.04601906186
             ],
             "passed_time": 40.47648816,
             "remaining_time": 5.519521112,
             "test": [
              0.04232626352
             ]
            },
            {
             "iteration": 88,
             "learn": [
              0.04489149049
             ],
             "passed_time": 40.92076867,
             "remaining_time": 5.057623094,
             "test": [
              0.04118561589
             ]
            },
            {
             "iteration": 89,
             "learn": [
              0.04379145335
             ],
             "passed_time": 41.3496561,
             "remaining_time": 4.594406233,
             "test": [
              0.04009861851
             ]
            },
            {
             "iteration": 90,
             "learn": [
              0.04276794619
             ],
             "passed_time": 41.77769629,
             "remaining_time": 4.131860073,
             "test": [
              0.03905890727
             ]
            },
            {
             "iteration": 91,
             "learn": [
              0.04180216055
             ],
             "passed_time": 42.19953305,
             "remaining_time": 3.669524613,
             "test": [
              0.0380570291
             ]
            },
            {
             "iteration": 92,
             "learn": [
              0.0408619731
             ],
             "passed_time": 42.62618259,
             "remaining_time": 3.208422345,
             "test": [
              0.03708572133
             ]
            },
            {
             "iteration": 93,
             "learn": [
              0.03989077955
             ],
             "passed_time": 43.06835746,
             "remaining_time": 2.749044093,
             "test": [
              0.03613382217
             ]
            },
            {
             "iteration": 94,
             "learn": [
              0.03898349642
             ],
             "passed_time": 43.68550566,
             "remaining_time": 2.29923714,
             "test": [
              0.0351975751
             ]
            },
            {
             "iteration": 95,
             "learn": [
              0.03807020808
             ],
             "passed_time": 44.28402782,
             "remaining_time": 1.845167826,
             "test": [
              0.03428714766
             ]
            },
            {
             "iteration": 96,
             "learn": [
              0.03714367811
             ],
             "passed_time": 44.83073359,
             "remaining_time": 1.386517534,
             "test": [
              0.03337907161
             ]
            },
            {
             "iteration": 97,
             "learn": [
              0.03632028198
             ],
             "passed_time": 45.28100672,
             "remaining_time": 0.924102178,
             "test": [
              0.03252407889
             ]
            },
            {
             "iteration": 98,
             "learn": [
              0.03549327311
             ],
             "passed_time": 45.73810783,
             "remaining_time": 0.4620010891,
             "test": [
              0.0317314643
             ]
            },
            {
             "iteration": 99,
             "learn": [
              0.03471294909
             ],
             "passed_time": 46.15584882,
             "remaining_time": 0,
             "test": [
              0.03094364459
             ]
            }
           ],
           "meta": {
            "iteration_count": 100,
            "launch_mode": "Train",
            "learn_metrics": [
             {
              "best_value": "Min",
              "name": "CrossEntropy"
             }
            ],
            "learn_sets": [
             "learn"
            ],
            "name": "experiment",
            "parameters": "",
            "test_metrics": [
             {
              "best_value": "Min",
              "name": "CrossEntropy"
             }
            ],
            "test_sets": [
             "test"
            ]
           }
          },
          "passed_iterations": 99,
          "total_iterations": 100
         },
         "name": "catboost_info",
         "path": "catboost_info"
        }
       },
       "layout": "IPY_MODEL_c11889a84b434ed180c49b1f3c71e1ce"
      }
     },
     "e5d4f8218092406f9fa4d656678ace07": {
      "model_module": "catboost-widget",
      "model_module_version": "^1.0.0",
      "model_name": "CatboostWidgetModel",
      "state": {
       "_dom_classes": [],
       "_model_module": "catboost-widget",
       "_model_module_version": "^1.0.0",
       "_model_name": "CatboostWidgetModel",
       "_view_count": null,
       "_view_module": "catboost-widget",
       "_view_module_version": "^1.0.0",
       "_view_name": "CatboostWidgetView",
       "data": {
        "catboost_info": {
         "content": {
          "data": {
           "iterations": [
            {
             "iteration": 0,
             "learn": [
              0.6614040644
             ],
             "passed_time": 0.4659385318,
             "remaining_time": 46.12791465,
             "test": [
              0.6636695589
             ]
            },
            {
             "iteration": 1,
             "learn": [
              0.6363268555
             ],
             "passed_time": 0.8716471493,
             "remaining_time": 42.71071032,
             "test": [
              0.6359128932
             ]
            },
            {
             "iteration": 2,
             "learn": [
              0.6094042439
             ],
             "passed_time": 1.265108755,
             "remaining_time": 40.90518306,
             "test": [
              0.6097229799
             ]
            },
            {
             "iteration": 3,
             "learn": [
              0.5837581742
             ],
             "passed_time": 1.66457836,
             "remaining_time": 39.94988064,
             "test": [
              0.58497873
             ]
            },
            {
             "iteration": 4,
             "learn": [
              0.562240221
             ],
             "passed_time": 2.052533669,
             "remaining_time": 38.99813972,
             "test": [
              0.5615627335
             ]
            },
            {
             "iteration": 5,
             "learn": [
              0.5378780029
             ],
             "passed_time": 2.459944679,
             "remaining_time": 38.5391333,
             "test": [
              0.5393762148
             ]
            },
            {
             "iteration": 6,
             "learn": [
              0.5169553782
             ],
             "passed_time": 2.864796228,
             "remaining_time": 38.06086417,
             "test": [
              0.518327396
             ]
            },
            {
             "iteration": 7,
             "learn": [
              0.4987725994
             ],
             "passed_time": 3.229928269,
             "remaining_time": 37.14417509,
             "test": [
              0.4983340571
             ]
            },
            {
             "iteration": 8,
             "learn": [
              0.4786176895
             ],
             "passed_time": 3.692388861,
             "remaining_time": 37.33415404,
             "test": [
              0.4793241756
             ]
            },
            {
             "iteration": 9,
             "learn": [
              0.4606813768
             ],
             "passed_time": 4.082376856,
             "remaining_time": 36.74139171,
             "test": [
              0.4612309451
             ]
            },
            {
             "iteration": 10,
             "learn": [
              0.4441318899
             ],
             "passed_time": 4.478475782,
             "remaining_time": 36.23494041,
             "test": [
              0.4439942414
             ]
            },
            {
             "iteration": 11,
             "learn": [
              0.4281622523
             ],
             "passed_time": 4.902471162,
             "remaining_time": 35.95145519,
             "test": [
              0.4275583243
             ]
            },
            {
             "iteration": 12,
             "learn": [
              0.4123925054
             ],
             "passed_time": 5.363805238,
             "remaining_time": 35.89623505,
             "test": [
              0.4118754791
             ]
            },
            {
             "iteration": 13,
             "learn": [
              0.396913009
             ],
             "passed_time": 5.730236551,
             "remaining_time": 35.20002452,
             "test": [
              0.3968974985
             ]
            },
            {
             "iteration": 14,
             "learn": [
              0.3826009639
             ],
             "passed_time": 6.158313796,
             "remaining_time": 34.89711151,
             "test": [
              0.3825834094
             ]
            },
            {
             "iteration": 15,
             "learn": [
              0.3675181598
             ],
             "passed_time": 6.600166664,
             "remaining_time": 34.65087498,
             "test": [
              0.3688953
             ]
            },
            {
             "iteration": 16,
             "learn": [
              0.354062637
             ],
             "passed_time": 6.990727003,
             "remaining_time": 34.13119654,
             "test": [
              0.3557961139
             ]
            },
            {
             "iteration": 17,
             "learn": [
              0.3433776751
             ],
             "passed_time": 7.426712111,
             "remaining_time": 33.83279962,
             "test": [
              0.3432543681
             ]
            },
            {
             "iteration": 18,
             "learn": [
              0.330252175
             ],
             "passed_time": 7.81604891,
             "remaining_time": 33.32105062,
             "test": [
              0.3312392447
             ]
            },
            {
             "iteration": 19,
             "learn": [
              0.3198515169
             ],
             "passed_time": 8.221558856,
             "remaining_time": 32.88623542,
             "test": [
              0.3197207822
             ]
            },
            {
             "iteration": 20,
             "learn": [
              0.3072493044
             ],
             "passed_time": 8.695443028,
             "remaining_time": 32.71142854,
             "test": [
              0.3086743441
             ]
            },
            {
             "iteration": 21,
             "learn": [
              0.2970656432
             ],
             "passed_time": 9.106810632,
             "remaining_time": 32.28778315,
             "test": [
              0.2980753179
             ]
            },
            {
             "iteration": 22,
             "learn": [
              0.2870459253
             ],
             "passed_time": 9.561589268,
             "remaining_time": 32.01053798,
             "test": [
              0.2879023842
             ]
            },
            {
             "iteration": 23,
             "learn": [
              0.2767637504
             ],
             "passed_time": 9.982074461,
             "remaining_time": 31.60990246,
             "test": [
              0.278132043
             ]
            },
            {
             "iteration": 24,
             "learn": [
              0.2669640061
             ],
             "passed_time": 10.35468522,
             "remaining_time": 31.06405566,
             "test": [
              0.268745724
             ]
            },
            {
             "iteration": 25,
             "learn": [
              0.2582152304
             ],
             "passed_time": 10.72025331,
             "remaining_time": 30.51149018,
             "test": [
              0.2597226402
             ]
            },
            {
             "iteration": 26,
             "learn": [
              0.2501833743
             ],
             "passed_time": 11.21777397,
             "remaining_time": 30.32953702,
             "test": [
              0.2510496282
             ]
            },
            {
             "iteration": 27,
             "learn": [
              0.2422055901
             ],
             "passed_time": 11.74146347,
             "remaining_time": 30.19233465,
             "test": [
              0.2427081975
             ]
            },
            {
             "iteration": 28,
             "learn": [
              0.233934265
             ],
             "passed_time": 12.27371689,
             "remaining_time": 30.04944481,
             "test": [
              0.234683312
             ]
            },
            {
             "iteration": 29,
             "learn": [
              0.2261198462
             ],
             "passed_time": 12.82846786,
             "remaining_time": 29.93309168,
             "test": [
              0.2269604114
             ]
            },
            {
             "iteration": 30,
             "learn": [
              0.2187885051
             ],
             "passed_time": 13.26953185,
             "remaining_time": 29.5354096,
             "test": [
              0.2195271516
             ]
            },
            {
             "iteration": 31,
             "learn": [
              0.2111772592
             ],
             "passed_time": 13.75896432,
             "remaining_time": 29.23779917,
             "test": [
              0.2123650425
             ]
            },
            {
             "iteration": 32,
             "learn": [
              0.2036469499
             ],
             "passed_time": 14.2026618,
             "remaining_time": 28.83570729,
             "test": [
              0.2054673287
             ]
            },
            {
             "iteration": 33,
             "learn": [
              0.197074052
             ],
             "passed_time": 14.62413941,
             "remaining_time": 28.38803533,
             "test": [
              0.1988231025
             ]
            },
            {
             "iteration": 34,
             "learn": [
              0.1914718041
             ],
             "passed_time": 15.06761485,
             "remaining_time": 27.9827133,
             "test": [
              0.1924201052
             ]
            },
            {
             "iteration": 35,
             "learn": [
              0.1843010432
             ],
             "passed_time": 15.46591415,
             "remaining_time": 27.49495848,
             "test": [
              0.1862475196
             ]
            },
            {
             "iteration": 36,
             "learn": [
              0.1791039601
             ],
             "passed_time": 15.87249499,
             "remaining_time": 27.02614012,
             "test": [
              0.1802960955
             ]
            },
            {
             "iteration": 37,
             "learn": [
              0.1725741476
             ],
             "passed_time": 16.27195948,
             "remaining_time": 26.54898653,
             "test": [
              0.1745587005
             ]
            },
            {
             "iteration": 38,
             "learn": [
              0.1679726751
             ],
             "passed_time": 16.77151442,
             "remaining_time": 26.23236871,
             "test": [
              0.1690223469
             ]
            },
            {
             "iteration": 39,
             "learn": [
              0.1618249905
             ],
             "passed_time": 17.14117338,
             "remaining_time": 25.71176007,
             "test": [
              0.1636806595
             ]
            },
            {
             "iteration": 40,
             "learn": [
              0.1566604746
             ],
             "passed_time": 17.56975559,
             "remaining_time": 25.28330682,
             "test": [
              0.1585250445
             ]
            },
            {
             "iteration": 41,
             "learn": [
              0.1523456281
             ],
             "passed_time": 18.06767903,
             "remaining_time": 24.95060437,
             "test": [
              0.1535507931
             ]
            },
            {
             "iteration": 42,
             "learn": [
              0.1473567825
             ],
             "passed_time": 18.41014705,
             "remaining_time": 24.40414842,
             "test": [
              0.1487484695
             ]
            },
            {
             "iteration": 43,
             "learn": [
              0.1422800054
             ],
             "passed_time": 18.81669034,
             "remaining_time": 23.94851498,
             "test": [
              0.1441099926
             ]
            },
            {
             "iteration": 44,
             "learn": [
              0.1375750909
             ],
             "passed_time": 19.20673333,
             "remaining_time": 23.4748963,
             "test": [
              0.1396319833
             ]
            },
            {
             "iteration": 45,
             "learn": [
              0.1332841927
             ],
             "passed_time": 19.62052024,
             "remaining_time": 23.03278462,
             "test": [
              0.1353075728
             ]
            },
            {
             "iteration": 46,
             "learn": [
              0.1292723492
             ],
             "passed_time": 20.07225744,
             "remaining_time": 22.63467328,
             "test": [
              0.1311319284
             ]
            },
            {
             "iteration": 47,
             "learn": [
              0.1253413895
             ],
             "passed_time": 20.48309238,
             "remaining_time": 22.19001675,
             "test": [
              0.1270969185
             ]
            },
            {
             "iteration": 48,
             "learn": [
              0.1214363388
             ],
             "passed_time": 20.92883674,
             "remaining_time": 21.78307497,
             "test": [
              0.123198796
             ]
            },
            {
             "iteration": 49,
             "learn": [
              0.1175604598
             ],
             "passed_time": 21.38686547,
             "remaining_time": 21.38686547,
             "test": [
              0.1194311739
             ]
            },
            {
             "iteration": 50,
             "learn": [
              0.1137099344
             ],
             "passed_time": 21.75719479,
             "remaining_time": 20.90397146,
             "test": [
              0.1156786893
             ]
            },
            {
             "iteration": 51,
             "learn": [
              0.110168381
             ],
             "passed_time": 22.24628994,
             "remaining_time": 20.53503687,
             "test": [
              0.112159226
             ]
            },
            {
             "iteration": 52,
             "learn": [
              0.1072883724
             ],
             "passed_time": 22.62552848,
             "remaining_time": 20.0641479,
             "test": [
              0.1087568227
             ]
            },
            {
             "iteration": 53,
             "learn": [
              0.1037882798
             ],
             "passed_time": 23.00911268,
             "remaining_time": 19.60035525,
             "test": [
              0.1054666903
             ]
            },
            {
             "iteration": 54,
             "learn": [
              0.1001472194
             ],
             "passed_time": 23.47419676,
             "remaining_time": 19.20616099,
             "test": [
              0.1022866682
             ]
            },
            {
             "iteration": 55,
             "learn": [
              0.09753239806
             ],
             "passed_time": 23.87847301,
             "remaining_time": 18.76165736,
             "test": [
              0.09921122683
             ]
            },
            {
             "iteration": 56,
             "learn": [
              0.09416610281
             ],
             "passed_time": 24.36509229,
             "remaining_time": 18.38068366,
             "test": [
              0.09623441714
             ]
            },
            {
             "iteration": 57,
             "learn": [
              0.09162396903
             ],
             "passed_time": 24.79658536,
             "remaining_time": 17.95614802,
             "test": [
              0.09335801446
             ]
            },
            {
             "iteration": 58,
             "learn": [
              0.08838906075
             ],
             "passed_time": 25.19029729,
             "remaining_time": 17.50512185,
             "test": [
              0.09057571698
             ]
            },
            {
             "iteration": 59,
             "learn": [
              0.0859583526
             ],
             "passed_time": 25.57202275,
             "remaining_time": 17.04801517,
             "test": [
              0.08788394276
             ]
            },
            {
             "iteration": 60,
             "learn": [
              0.0831006365
             ],
             "passed_time": 26.01816717,
             "remaining_time": 16.63456589,
             "test": [
              0.08528016981
             ]
            },
            {
             "iteration": 61,
             "learn": [
              0.08054077314
             ],
             "passed_time": 26.45305766,
             "remaining_time": 16.21316437,
             "test": [
              0.08276116412
             ]
            },
            {
             "iteration": 62,
             "learn": [
              0.07838800434
             ],
             "passed_time": 26.8733532,
             "remaining_time": 15.78276299,
             "test": [
              0.08032362026
             ]
            },
            {
             "iteration": 63,
             "learn": [
              0.07594209497
             ],
             "passed_time": 27.22834988,
             "remaining_time": 15.31594681,
             "test": [
              0.07796486979
             ]
            },
            {
             "iteration": 64,
             "learn": [
              0.07344959946
             ],
             "passed_time": 27.6573523,
             "remaining_time": 14.89242047,
             "test": [
              0.07568211908
             ]
            },
            {
             "iteration": 65,
             "learn": [
              0.07114062836
             ],
             "passed_time": 28.06714975,
             "remaining_time": 14.45883472,
             "test": [
              0.07327313497
             ]
            },
            {
             "iteration": 66,
             "learn": [
              0.06896666167
             ],
             "passed_time": 28.48267215,
             "remaining_time": 14.02877882,
             "test": [
              0.07113395132
             ]
            },
            {
             "iteration": 67,
             "learn": [
              0.06687833989
             ],
             "passed_time": 28.91782741,
             "remaining_time": 13.60838937,
             "test": [
              0.06906420744
             ]
            },
            {
             "iteration": 68,
             "learn": [
              0.06489448414
             ],
             "passed_time": 29.27785863,
             "remaining_time": 13.15382054,
             "test": [
              0.06702707972
             ]
            },
            {
             "iteration": 69,
             "learn": [
              0.06293428967
             ],
             "passed_time": 29.68691746,
             "remaining_time": 12.72296463,
             "test": [
              0.06508556129
             ]
            },
            {
             "iteration": 70,
             "learn": [
              0.06100622076
             ],
             "passed_time": 30.01977596,
             "remaining_time": 12.26159863,
             "test": [
              0.06320868114
             ]
            },
            {
             "iteration": 71,
             "learn": [
              0.05911851982
             ],
             "passed_time": 30.37675305,
             "remaining_time": 11.81318174,
             "test": [
              0.06139167653
             ]
            },
            {
             "iteration": 72,
             "learn": [
              0.05737543102
             ],
             "passed_time": 30.75950487,
             "remaining_time": 11.37680317,
             "test": [
              0.05963327561
             ]
            },
            {
             "iteration": 73,
             "learn": [
              0.05585872676
             ],
             "passed_time": 31.17349676,
             "remaining_time": 10.95285021,
             "test": [
              0.05793017784
             ]
            },
            {
             "iteration": 74,
             "learn": [
              0.05410886853
             ],
             "passed_time": 31.58003446,
             "remaining_time": 10.52667815,
             "test": [
              0.05624132075
             ]
            },
            {
             "iteration": 75,
             "learn": [
              0.05232594447
             ],
             "passed_time": 32.03038564,
             "remaining_time": 10.11485862,
             "test": [
              0.05464530978
             ]
            },
            {
             "iteration": 76,
             "learn": [
              0.05097507065
             ],
             "passed_time": 32.43735631,
             "remaining_time": 9.689080455,
             "test": [
              0.05309903327
             ]
            },
            {
             "iteration": 77,
             "learn": [
              0.04929724435
             ],
             "passed_time": 32.93802282,
             "remaining_time": 9.290211564,
             "test": [
              0.05160172949
             ]
            },
            {
             "iteration": 78,
             "learn": [
              0.04781458323
             ],
             "passed_time": 33.37510072,
             "remaining_time": 8.871862217,
             "test": [
              0.04985483109
             ]
            },
            {
             "iteration": 79,
             "learn": [
              0.0463609532
             ],
             "passed_time": 33.76749074,
             "remaining_time": 8.441872685,
             "test": [
              0.0484303815
             ]
            },
            {
             "iteration": 80,
             "learn": [
              0.04510685685
             ],
             "passed_time": 34.1656677,
             "remaining_time": 8.014168966,
             "test": [
              0.04707086365
             ]
            },
            {
             "iteration": 81,
             "learn": [
              0.04358425034
             ],
             "passed_time": 34.53280733,
             "remaining_time": 7.58037234,
             "test": [
              0.04575206789
             ]
            },
            {
             "iteration": 82,
             "learn": [
              0.04239490113
             ],
             "passed_time": 34.89134434,
             "remaining_time": 7.146419925,
             "test": [
              0.04447607898
             ]
            },
            {
             "iteration": 83,
             "learn": [
              0.04114273952
             ],
             "passed_time": 35.26048582,
             "remaining_time": 6.716283014,
             "test": [
              0.04293626383
             ]
            },
            {
             "iteration": 84,
             "learn": [
              0.03980918179
             ],
             "passed_time": 35.62605274,
             "remaining_time": 6.286950484,
             "test": [
              0.0417400171
             ]
            },
            {
             "iteration": 85,
             "learn": [
              0.03858518798
             ],
             "passed_time": 35.99707165,
             "remaining_time": 5.859988408,
             "test": [
              0.04057733332
             ]
            },
            {
             "iteration": 86,
             "learn": [
              0.03751685397
             ],
             "passed_time": 36.47561765,
             "remaining_time": 5.450379649,
             "test": [
              0.03945278007
             ]
            },
            {
             "iteration": 87,
             "learn": [
              0.03646066851
             ],
             "passed_time": 36.81464879,
             "remaining_time": 5.02017938,
             "test": [
              0.03836525891
             ]
            },
            {
             "iteration": 88,
             "learn": [
              0.0353326437
             ],
             "passed_time": 37.17964313,
             "remaining_time": 4.595236791,
             "test": [
              0.0373102502
             ]
            },
            {
             "iteration": 89,
             "learn": [
              0.03428006455
             ],
             "passed_time": 37.57284239,
             "remaining_time": 4.174760265,
             "test": [
              0.03620081834
             ]
            },
            {
             "iteration": 90,
             "learn": [
              0.03325819716
             ],
             "passed_time": 38.02335002,
             "remaining_time": 3.760551101,
             "test": [
              0.03521435414
             ]
            },
            {
             "iteration": 91,
             "learn": [
              0.03225031836
             ],
             "passed_time": 38.37284804,
             "remaining_time": 3.336769395,
             "test": [
              0.03401766339
             ]
            },
            {
             "iteration": 92,
             "learn": [
              0.03128033492
             ],
             "passed_time": 38.84883307,
             "remaining_time": 2.924105715,
             "test": [
              0.0330867119
             ]
            },
            {
             "iteration": 93,
             "learn": [
              0.03034265604
             ],
             "passed_time": 39.22102197,
             "remaining_time": 2.503469488,
             "test": [
              0.03201690436
             ]
            },
            {
             "iteration": 94,
             "learn": [
              0.0294204501
             ],
             "passed_time": 39.61709801,
             "remaining_time": 2.085110422,
             "test": [
              0.03098342977
             ]
            },
            {
             "iteration": 95,
             "learn": [
              0.02860615367
             ],
             "passed_time": 40.0733362,
             "remaining_time": 1.669722342,
             "test": [
              0.03014054692
             ]
            },
            {
             "iteration": 96,
             "learn": [
              0.02771460571
             ],
             "passed_time": 40.49430222,
             "remaining_time": 1.2524011,
             "test": [
              0.02921296563
             ]
            },
            {
             "iteration": 97,
             "learn": [
              0.02687535813
             ],
             "passed_time": 40.81403779,
             "remaining_time": 0.8329395468,
             "test": [
              0.02841969003
             ]
            },
            {
             "iteration": 98,
             "learn": [
              0.02615128457
             ],
             "passed_time": 41.25757737,
             "remaining_time": 0.4167432058,
             "test": [
              0.02765251574
             ]
            },
            {
             "iteration": 99,
             "learn": [
              0.02529627174
             ],
             "passed_time": 41.65242212,
             "remaining_time": 0,
             "test": [
              0.02676293887
             ]
            }
           ],
           "meta": {
            "iteration_count": 100,
            "launch_mode": "Train",
            "learn_metrics": [
             {
              "best_value": "Min",
              "name": "CrossEntropy"
             }
            ],
            "learn_sets": [
             "learn"
            ],
            "name": "experiment",
            "parameters": "",
            "test_metrics": [
             {
              "best_value": "Min",
              "name": "CrossEntropy"
             }
            ],
            "test_sets": [
             "test"
            ]
           }
          },
          "passed_iterations": 99,
          "total_iterations": 100
         },
         "name": "catboost_info",
         "path": "catboost_info"
        }
       },
       "layout": "IPY_MODEL_70b36e7ce42d4dedb2745261ab9fb636"
      }
     },
     "e719667013f4423997d8c85a6df6dabe": {
      "model_module": "@jupyter-widgets/base",
      "model_module_version": "1.2.0",
      "model_name": "LayoutModel",
      "state": {
       "_model_module": "@jupyter-widgets/base",
       "_model_module_version": "1.2.0",
       "_model_name": "LayoutModel",
       "_view_count": null,
       "_view_module": "@jupyter-widgets/base",
       "_view_module_version": "1.2.0",
       "_view_name": "LayoutView",
       "align_content": null,
       "align_items": null,
       "align_self": "stretch",
       "border": null,
       "bottom": null,
       "display": null,
       "flex": null,
       "flex_flow": null,
       "grid_area": null,
       "grid_auto_columns": null,
       "grid_auto_flow": null,
       "grid_auto_rows": null,
       "grid_column": null,
       "grid_gap": null,
       "grid_row": null,
       "grid_template_areas": null,
       "grid_template_columns": null,
       "grid_template_rows": null,
       "height": "500px",
       "justify_content": null,
       "justify_items": null,
       "left": null,
       "margin": null,
       "max_height": null,
       "max_width": null,
       "min_height": null,
       "min_width": null,
       "object_fit": null,
       "object_position": null,
       "order": null,
       "overflow": null,
       "overflow_x": null,
       "overflow_y": null,
       "padding": null,
       "right": null,
       "top": null,
       "visibility": null,
       "width": null
      }
     },
     "e81624c4c3a84f21aae6440af962f247": {
      "model_module": "@jupyter-widgets/base",
      "model_module_version": "1.2.0",
      "model_name": "LayoutModel",
      "state": {
       "_model_module": "@jupyter-widgets/base",
       "_model_module_version": "1.2.0",
       "_model_name": "LayoutModel",
       "_view_count": null,
       "_view_module": "@jupyter-widgets/base",
       "_view_module_version": "1.2.0",
       "_view_name": "LayoutView",
       "align_content": null,
       "align_items": null,
       "align_self": "stretch",
       "border": null,
       "bottom": null,
       "display": null,
       "flex": null,
       "flex_flow": null,
       "grid_area": null,
       "grid_auto_columns": null,
       "grid_auto_flow": null,
       "grid_auto_rows": null,
       "grid_column": null,
       "grid_gap": null,
       "grid_row": null,
       "grid_template_areas": null,
       "grid_template_columns": null,
       "grid_template_rows": null,
       "height": "500px",
       "justify_content": null,
       "justify_items": null,
       "left": null,
       "margin": null,
       "max_height": null,
       "max_width": null,
       "min_height": null,
       "min_width": null,
       "object_fit": null,
       "object_position": null,
       "order": null,
       "overflow": null,
       "overflow_x": null,
       "overflow_y": null,
       "padding": null,
       "right": null,
       "top": null,
       "visibility": null,
       "width": null
      }
     },
     "f0d03a4d248140ff807f41093cd7bf53": {
      "model_module": "catboost-widget",
      "model_module_version": "^1.0.0",
      "model_name": "CatboostWidgetModel",
      "state": {
       "_dom_classes": [],
       "_model_module": "catboost-widget",
       "_model_module_version": "^1.0.0",
       "_model_name": "CatboostWidgetModel",
       "_view_count": null,
       "_view_module": "catboost-widget",
       "_view_module_version": "^1.0.0",
       "_view_name": "CatboostWidgetView",
       "data": {
        "catboost_info": {
         "content": {
          "data": {
           "iterations": [
            {
             "iteration": 0,
             "learn": [
              0.6613805642
             ],
             "passed_time": 0.418524424,
             "remaining_time": 41.43391798,
             "test": [
              0.6636000595
             ]
            },
            {
             "iteration": 1,
             "learn": [
              0.6362956797
             ],
             "passed_time": 0.8257206355,
             "remaining_time": 40.46031114,
             "test": [
              0.6357724663
             ]
            },
            {
             "iteration": 2,
             "learn": [
              0.6093765378
             ],
             "passed_time": 1.204870501,
             "remaining_time": 38.95747953,
             "test": [
              0.6095205845
             ]
            },
            {
             "iteration": 3,
             "learn": [
              0.5837164311
             ],
             "passed_time": 1.6062433,
             "remaining_time": 38.54983921,
             "test": [
              0.5847133821
             ]
            },
            {
             "iteration": 4,
             "learn": [
              0.5621912228
             ],
             "passed_time": 1.991861322,
             "remaining_time": 37.84536511,
             "test": [
              0.5612377752
             ]
            },
            {
             "iteration": 5,
             "learn": [
              0.5376831147
             ],
             "passed_time": 2.401328523,
             "remaining_time": 37.62081352,
             "test": [
              0.5389931871
             ]
            },
            {
             "iteration": 6,
             "learn": [
              0.5168814868
             ],
             "passed_time": 2.805065858,
             "remaining_time": 37.26730354,
             "test": [
              0.5178867775
             ]
            },
            {
             "iteration": 7,
             "learn": [
              0.4986838167
             ],
             "passed_time": 3.16943353,
             "remaining_time": 36.44848559,
             "test": [
              0.4978385953
             ]
            },
            {
             "iteration": 8,
             "learn": [
              0.4785253187
             ],
             "passed_time": 3.630995861,
             "remaining_time": 36.71340259,
             "test": [
              0.4787744866
             ]
            },
            {
             "iteration": 9,
             "learn": [
              0.4605813171
             ],
             "passed_time": 4.020261047,
             "remaining_time": 36.18234943,
             "test": [
              0.4606287241
             ]
            },
            {
             "iteration": 10,
             "learn": [
              0.4438371128
             ],
             "passed_time": 4.416907349,
             "remaining_time": 35.73679582,
             "test": [
              0.4433405045
             ]
            },
            {
             "iteration": 11,
             "learn": [
              0.4280523877
             ],
             "passed_time": 4.843003978,
             "remaining_time": 35.5153625,
             "test": [
              0.4268548828
             ]
            },
            {
             "iteration": 12,
             "learn": [
              0.4121184355
             ],
             "passed_time": 5.299728581,
             "remaining_time": 35.46741435,
             "test": [
              0.4111220175
             ]
            },
            {
             "iteration": 13,
             "learn": [
              0.3967771668
             ],
             "passed_time": 5.670108789,
             "remaining_time": 34.83066827,
             "test": [
              0.3960957538
             ]
            },
            {
             "iteration": 14,
             "learn": [
              0.3823936289
             ],
             "passed_time": 6.099106552,
             "remaining_time": 34.56160379,
             "test": [
              0.381734386
             ]
            },
            {
             "iteration": 15,
             "learn": [
              0.3673329581
             ],
             "passed_time": 6.537558177,
             "remaining_time": 34.32218043,
             "test": [
              0.3679986416
             ]
            },
            {
             "iteration": 16,
             "learn": [
              0.3538759632
             ],
             "passed_time": 6.927212389,
             "remaining_time": 33.82109578,
             "test": [
              0.354854173
             ]
            },
            {
             "iteration": 17,
             "learn": [
              0.3431689995
             ],
             "passed_time": 7.379526504,
             "remaining_time": 33.61784296,
             "test": [
              0.3422666953
             ]
            },
            {
             "iteration": 18,
             "learn": [
              0.3300853936
             ],
             "passed_time": 7.766287433,
             "remaining_time": 33.10890958,
             "test": [
              0.3302066594
             ]
            },
            {
             "iteration": 19,
             "learn": [
              0.3196734388
             ],
             "passed_time": 8.179604255,
             "remaining_time": 32.71841702,
             "test": [
              0.3186449805
             ]
            },
            {
             "iteration": 20,
             "learn": [
              0.3069716661
             ],
             "passed_time": 8.679845679,
             "remaining_time": 32.65275279,
             "test": [
              0.3075573015
             ]
            },
            {
             "iteration": 21,
             "learn": [
              0.2968814141
             ],
             "passed_time": 9.087031262,
             "remaining_time": 32.21765629,
             "test": [
              0.2969168467
             ]
            },
            {
             "iteration": 22,
             "learn": [
              0.2867674327
             ],
             "passed_time": 9.540483538,
             "remaining_time": 31.93987967,
             "test": [
              0.2867022611
             ]
            },
            {
             "iteration": 23,
             "learn": [
              0.2765041512
             ],
             "passed_time": 9.961906421,
             "remaining_time": 31.546037,
             "test": [
              0.2768909056
             ]
            },
            {
             "iteration": 24,
             "learn": [
              0.2664427574
             ],
             "passed_time": 10.32754665,
             "remaining_time": 30.98263996,
             "test": [
              0.2674638386
             ]
            },
            {
             "iteration": 25,
             "learn": [
              0.257978862
             ],
             "passed_time": 10.69611748,
             "remaining_time": 30.44279592,
             "test": [
              0.2584021331
             ]
            },
            {
             "iteration": 26,
             "learn": [
              0.2499627843
             ],
             "passed_time": 11.13953639,
             "remaining_time": 30.1180058,
             "test": [
              0.2496891784
             ]
            },
            {
             "iteration": 27,
             "learn": [
              0.2419723235
             ],
             "passed_time": 11.50998165,
             "remaining_time": 29.59709567,
             "test": [
              0.2413079365
             ]
            },
            {
             "iteration": 28,
             "learn": [
              0.2336775508
             ],
             "passed_time": 11.88786763,
             "remaining_time": 29.10477936,
             "test": [
              0.2332432422
             ]
            },
            {
             "iteration": 29,
             "learn": [
              0.2258442122
             ],
             "passed_time": 12.31736618,
             "remaining_time": 28.74052109,
             "test": [
              0.2254803993
             ]
            },
            {
             "iteration": 30,
             "learn": [
              0.2185228107
             ],
             "passed_time": 12.75882012,
             "remaining_time": 28.39866413,
             "test": [
              0.2180068649
             ]
            },
            {
             "iteration": 31,
             "learn": [
              0.2109301691
             ],
             "passed_time": 13.24025554,
             "remaining_time": 28.13554303,
             "test": [
              0.2108089763
             ]
            },
            {
             "iteration": 32,
             "learn": [
              0.2033490414
             ],
             "passed_time": 13.68259051,
             "remaining_time": 27.77980498,
             "test": [
              0.2038745434
             ]
            },
            {
             "iteration": 33,
             "learn": [
              0.196422764
             ],
             "passed_time": 14.09550785,
             "remaining_time": 27.36186817,
             "test": [
              0.197192
             ]
            },
            {
             "iteration": 34,
             "learn": [
              0.1911688748
             ],
             "passed_time": 14.53524355,
             "remaining_time": 26.99402374,
             "test": [
              0.1907506446
             ]
            },
            {
             "iteration": 35,
             "learn": [
              0.1838964804
             ],
             "passed_time": 14.9296525,
             "remaining_time": 26.54160444,
             "test": [
              0.1845409118
             ]
            },
            {
             "iteration": 36,
             "learn": [
              0.1787566362
             ],
             "passed_time": 15.33963619,
             "remaining_time": 26.11884,
             "test": [
              0.1785526789
             ]
            },
            {
             "iteration": 37,
             "learn": [
              0.1721850971
             ],
             "passed_time": 15.73751472,
             "remaining_time": 25.6769977,
             "test": [
              0.1727762213
             ]
            },
            {
             "iteration": 38,
             "learn": [
              0.1676663746
             ],
             "passed_time": 16.22865848,
             "remaining_time": 25.38328634,
             "test": [
              0.1672034428
             ]
            },
            {
             "iteration": 39,
             "learn": [
              0.1614228165
             ],
             "passed_time": 16.59764513,
             "remaining_time": 24.89646769,
             "test": [
              0.1618253481
             ]
            },
            {
             "iteration": 40,
             "learn": [
              0.1563260804
             ],
             "passed_time": 17.02278486,
             "remaining_time": 24.4962026,
             "test": [
              0.1566349419
             ]
            },
            {
             "iteration": 41,
             "learn": [
              0.1520146873
             ],
             "passed_time": 17.51948274,
             "remaining_time": 24.1935714,
             "test": [
              0.1516248415
             ]
            },
            {
             "iteration": 42,
             "learn": [
              0.1470005606
             ],
             "passed_time": 17.84059035,
             "remaining_time": 23.64915465,
             "test": [
              0.1467868486
             ]
            },
            {
             "iteration": 43,
             "learn": [
              0.1418633607
             ],
             "passed_time": 18.24594254,
             "remaining_time": 23.22210868,
             "test": [
              0.142115103
             ]
            },
            {
             "iteration": 44,
             "learn": [
              0.1371034351
             ],
             "passed_time": 18.63631893,
             "remaining_time": 22.77772313,
             "test": [
              0.1376031519
             ]
            },
            {
             "iteration": 45,
             "learn": [
              0.1329056207
             ],
             "passed_time": 19.03543828,
             "remaining_time": 22.34594928,
             "test": [
              0.1332445305
             ]
            },
            {
             "iteration": 46,
             "learn": [
              0.1289167844
             ],
             "passed_time": 19.54248792,
             "remaining_time": 22.03727362,
             "test": [
              0.1290345261
             ]
            },
            {
             "iteration": 47,
             "learn": [
              0.1249900076
             ],
             "passed_time": 19.93612163,
             "remaining_time": 21.5974651,
             "test": [
              0.1249647801
             ]
            },
            {
             "iteration": 48,
             "learn": [
              0.1210811815
             ],
             "passed_time": 20.38037281,
             "remaining_time": 21.21222476,
             "test": [
              0.1210318545
             ]
            },
            {
             "iteration": 49,
             "learn": [
              0.1171937824
             ],
             "passed_time": 20.82098407,
             "remaining_time": 20.82098407,
             "test": [
              0.1172305631
             ]
            },
            {
             "iteration": 50,
             "learn": [
              0.1133176868
             ],
             "passed_time": 21.18115802,
             "remaining_time": 20.35052437,
             "test": [
              0.1135553055
             ]
            },
            {
             "iteration": 51,
             "learn": [
              0.1097540034
             ],
             "passed_time": 21.61704327,
             "remaining_time": 19.95419379,
             "test": [
              0.1100018991
             ]
            },
            {
             "iteration": 52,
             "learn": [
              0.1069261193
             ],
             "passed_time": 21.98504224,
             "remaining_time": 19.49616954,
             "test": [
              0.1065660143
             ]
            },
            {
             "iteration": 53,
             "learn": [
              0.1034042171
             ],
             "passed_time": 22.3746157,
             "remaining_time": 19.05985782,
             "test": [
              0.1032431738
             ]
            },
            {
             "iteration": 54,
             "learn": [
              0.09972928489
             ],
             "passed_time": 22.83194659,
             "remaining_time": 18.68068357,
             "test": [
              0.1000296384
             ]
            },
            {
             "iteration": 55,
             "learn": [
              0.09713682189
             ],
             "passed_time": 23.23323489,
             "remaining_time": 18.25468456,
             "test": [
              0.09692090117
             ]
            },
            {
             "iteration": 56,
             "learn": [
              0.09376570143
             ],
             "passed_time": 23.72495488,
             "remaining_time": 17.89777298,
             "test": [
              0.0939145939
             ]
            },
            {
             "iteration": 57,
             "learn": [
              0.0912224866
             ],
             "passed_time": 24.34256053,
             "remaining_time": 17.62737142,
             "test": [
              0.09100515814
             ]
            },
            {
             "iteration": 58,
             "learn": [
              0.08794036115
             ],
             "passed_time": 24.89200468,
             "remaining_time": 17.29783376,
             "test": [
              0.08818990559
             ]
            },
            {
             "iteration": 59,
             "learn": [
              0.08546976976
             ],
             "passed_time": 25.35321576,
             "remaining_time": 16.90214384,
             "test": [
              0.0854656378
             ]
            },
            {
             "iteration": 60,
             "learn": [
              0.08257324326
             ],
             "passed_time": 25.80384259,
             "remaining_time": 16.49753871,
             "test": [
              0.08282951267
             ]
            },
            {
             "iteration": 61,
             "learn": [
              0.08010057884
             ],
             "passed_time": 26.22965083,
             "remaining_time": 16.0762376,
             "test": [
              0.08027795711
             ]
            },
            {
             "iteration": 62,
             "learn": [
              0.07797063659
             ],
             "passed_time": 26.65491375,
             "remaining_time": 15.65447315,
             "test": [
              0.07780822552
             ]
            },
            {
             "iteration": 63,
             "learn": [
              0.07548823825
             ],
             "passed_time": 27.05399515,
             "remaining_time": 15.21787227,
             "test": [
              0.07541774832
             ]
            },
            {
             "iteration": 64,
             "learn": [
              0.07294917289
             ],
             "passed_time": 27.45373581,
             "remaining_time": 14.78278082,
             "test": [
              0.07310432023
             ]
            },
            {
             "iteration": 65,
             "learn": [
              0.07053142489
             ],
             "passed_time": 27.90287992,
             "remaining_time": 14.37421087,
             "test": [
              0.07086369374
             ]
            },
            {
             "iteration": 66,
             "learn": [
              0.06844176401
             ],
             "passed_time": 28.32372175,
             "remaining_time": 13.95048982,
             "test": [
              0.06869390668
             ]
            },
            {
             "iteration": 67,
             "learn": [
              0.0664310269
             ],
             "passed_time": 28.78086471,
             "remaining_time": 13.54393634,
             "test": [
              0.06659319916
             ]
            },
            {
             "iteration": 68,
             "learn": [
              0.06446574259
             ],
             "passed_time": 29.13955031,
             "remaining_time": 13.09168202,
             "test": [
              0.0645585707
             ]
            },
            {
             "iteration": 69,
             "learn": [
              0.0625120869
             ],
             "passed_time": 29.55719002,
             "remaining_time": 12.66736715,
             "test": [
              0.06258820226
             ]
            },
            {
             "iteration": 70,
             "learn": [
              0.06056294603
             ],
             "passed_time": 29.88927364,
             "remaining_time": 12.20829487,
             "test": [
              0.0606798589
             ]
            },
            {
             "iteration": 71,
             "learn": [
              0.05865221482
             ],
             "passed_time": 30.29006266,
             "remaining_time": 11.77946881,
             "test": [
              0.05883165367
             ]
            },
            {
             "iteration": 72,
             "learn": [
              0.05684115563
             ],
             "passed_time": 30.67258009,
             "remaining_time": 11.34465291,
             "test": [
              0.05704152248
             ]
            },
            {
             "iteration": 73,
             "learn": [
              0.05543099883
             ],
             "passed_time": 31.06999315,
             "remaining_time": 10.91648408,
             "test": [
              0.05530706585
             ]
            },
            {
             "iteration": 74,
             "learn": [
              0.05367316348
             ],
             "passed_time": 31.52182141,
             "remaining_time": 10.5072738,
             "test": [
              0.0536276196
             ]
            },
            {
             "iteration": 75,
             "learn": [
              0.051823976
             ],
             "passed_time": 31.96855284,
             "remaining_time": 10.09533248,
             "test": [
              0.05200013529
             ]
            },
            {
             "iteration": 76,
             "learn": [
              0.05053044376
             ],
             "passed_time": 32.39362126,
             "remaining_time": 9.67601674,
             "test": [
              0.05042356135
             ]
            },
            {
             "iteration": 77,
             "learn": [
              0.04884017244
             ],
             "passed_time": 32.89363203,
             "remaining_time": 9.277691085,
             "test": [
              0.04889731173
             ]
            },
            {
             "iteration": 78,
             "learn": [
              0.04720948537
             ],
             "passed_time": 33.30281805,
             "remaining_time": 8.852647837,
             "test": [
              0.04741720103
             ]
            },
            {
             "iteration": 79,
             "learn": [
              0.04591157833
             ],
             "passed_time": 33.69784219,
             "remaining_time": 8.424460547,
             "test": [
              0.04598272383
             ]
            },
            {
             "iteration": 80,
             "learn": [
              0.04464873677
             ],
             "passed_time": 34.09269859,
             "remaining_time": 7.997052755,
             "test": [
              0.0445932363
             ]
            },
            {
             "iteration": 81,
             "learn": [
              0.04306124774
             ],
             "passed_time": 34.45751876,
             "remaining_time": 7.563845581,
             "test": [
              0.04324605428
             ]
            },
            {
             "iteration": 82,
             "learn": [
              0.04195396586
             ],
             "passed_time": 34.8220162,
             "remaining_time": 7.132220186,
             "test": [
              0.04194038072
             ]
            },
            {
             "iteration": 83,
             "learn": [
              0.04071427639
             ],
             "passed_time": 35.18352927,
             "remaining_time": 6.701624624,
             "test": [
              0.04067501475
             ]
            },
            {
             "iteration": 84,
             "learn": [
              0.03934802398
             ],
             "passed_time": 35.54585161,
             "remaining_time": 6.272797343,
             "test": [
              0.0394484829
             ]
            },
            {
             "iteration": 85,
             "learn": [
              0.03812550632
             ],
             "passed_time": 35.93461964,
             "remaining_time": 5.849821801,
             "test": [
              0.03825970269
             ]
            },
            {
             "iteration": 86,
             "learn": [
              0.03710675938
             ],
             "passed_time": 36.41569366,
             "remaining_time": 5.441425489,
             "test": [
              0.03710839328
             ]
            },
            {
             "iteration": 87,
             "learn": [
              0.03605579179
             ],
             "passed_time": 36.76534716,
             "remaining_time": 5.013456431,
             "test": [
              0.03599165934
             ]
            },
            {
             "iteration": 88,
             "learn": [
              0.03486667465
             ],
             "passed_time": 37.19364548,
             "remaining_time": 4.596967418,
             "test": [
              0.03490943689
             ]
            },
            {
             "iteration": 89,
             "learn": [
              0.0338233574
             ],
             "passed_time": 37.60079931,
             "remaining_time": 4.17786659,
             "test": [
              0.03386092087
             ]
            },
            {
             "iteration": 90,
             "learn": [
              0.03281888922
             ],
             "passed_time": 38.04541853,
             "remaining_time": 3.7627337,
             "test": [
              0.03284391398
             ]
            },
            {
             "iteration": 91,
             "learn": [
              0.03182787486
             ],
             "passed_time": 38.42152757,
             "remaining_time": 3.341002397,
             "test": [
              0.03185745432
             ]
            },
            {
             "iteration": 92,
             "learn": [
              0.03085120071
             ],
             "passed_time": 38.86014197,
             "remaining_time": 2.924956923,
             "test": [
              0.03090202201
             ]
            },
            {
             "iteration": 93,
             "learn": [
              0.02990358715
             ],
             "passed_time": 39.27558888,
             "remaining_time": 2.506952482,
             "test": [
              0.02997515737
             ]
            },
            {
             "iteration": 94,
             "learn": [
              0.02896993673
             ],
             "passed_time": 39.74505702,
             "remaining_time": 2.091845107,
             "test": [
              0.02907647801
             ]
            },
            {
             "iteration": 95,
             "learn": [
              0.02823751623
             ],
             "passed_time": 40.20428465,
             "remaining_time": 1.675178527,
             "test": [
              0.02820558375
             ]
            },
            {
             "iteration": 96,
             "learn": [
              0.02735185771
             ],
             "passed_time": 40.6671858,
             "remaining_time": 1.257748015,
             "test": [
              0.02736093761
             ]
            },
            {
             "iteration": 97,
             "learn": [
              0.02642827147
             ],
             "passed_time": 41.08871588,
             "remaining_time": 0.8385452221,
             "test": [
              0.02654209905
             ]
            },
            {
             "iteration": 98,
             "learn": [
              0.02577596299
             ],
             "passed_time": 41.56919184,
             "remaining_time": 0.4198908266,
             "test": [
              0.02574823665
             ]
            },
            {
             "iteration": 99,
             "learn": [
              0.02492043839
             ],
             "passed_time": 41.93884428,
             "remaining_time": 0,
             "test": [
              0.02497787687
             ]
            }
           ],
           "meta": {
            "iteration_count": 100,
            "launch_mode": "Train",
            "learn_metrics": [
             {
              "best_value": "Min",
              "name": "CrossEntropy"
             }
            ],
            "learn_sets": [
             "learn"
            ],
            "name": "experiment",
            "parameters": "",
            "test_metrics": [
             {
              "best_value": "Min",
              "name": "CrossEntropy"
             }
            ],
            "test_sets": [
             "test"
            ]
           }
          },
          "passed_iterations": 99,
          "total_iterations": 100
         },
         "name": "catboost_info",
         "path": "catboost_info"
        }
       },
       "layout": "IPY_MODEL_79d5d5e886c54c37928ba8df0c525926"
      }
     },
     "f1a2c5b2fd7345158b0b8c104fc40313": {
      "model_module": "@jupyter-widgets/base",
      "model_module_version": "1.2.0",
      "model_name": "LayoutModel",
      "state": {
       "_model_module": "@jupyter-widgets/base",
       "_model_module_version": "1.2.0",
       "_model_name": "LayoutModel",
       "_view_count": null,
       "_view_module": "@jupyter-widgets/base",
       "_view_module_version": "1.2.0",
       "_view_name": "LayoutView",
       "align_content": null,
       "align_items": null,
       "align_self": "stretch",
       "border": null,
       "bottom": null,
       "display": null,
       "flex": null,
       "flex_flow": null,
       "grid_area": null,
       "grid_auto_columns": null,
       "grid_auto_flow": null,
       "grid_auto_rows": null,
       "grid_column": null,
       "grid_gap": null,
       "grid_row": null,
       "grid_template_areas": null,
       "grid_template_columns": null,
       "grid_template_rows": null,
       "height": "500px",
       "justify_content": null,
       "justify_items": null,
       "left": null,
       "margin": null,
       "max_height": null,
       "max_width": null,
       "min_height": null,
       "min_width": null,
       "object_fit": null,
       "object_position": null,
       "order": null,
       "overflow": null,
       "overflow_x": null,
       "overflow_y": null,
       "padding": null,
       "right": null,
       "top": null,
       "visibility": null,
       "width": null
      }
     },
     "f95a9849493a42e1b73eadd6eedc572a": {
      "model_module": "@jupyter-widgets/base",
      "model_module_version": "1.2.0",
      "model_name": "LayoutModel",
      "state": {
       "_model_module": "@jupyter-widgets/base",
       "_model_module_version": "1.2.0",
       "_model_name": "LayoutModel",
       "_view_count": null,
       "_view_module": "@jupyter-widgets/base",
       "_view_module_version": "1.2.0",
       "_view_name": "LayoutView",
       "align_content": null,
       "align_items": null,
       "align_self": "stretch",
       "border": null,
       "bottom": null,
       "display": null,
       "flex": null,
       "flex_flow": null,
       "grid_area": null,
       "grid_auto_columns": null,
       "grid_auto_flow": null,
       "grid_auto_rows": null,
       "grid_column": null,
       "grid_gap": null,
       "grid_row": null,
       "grid_template_areas": null,
       "grid_template_columns": null,
       "grid_template_rows": null,
       "height": "500px",
       "justify_content": null,
       "justify_items": null,
       "left": null,
       "margin": null,
       "max_height": null,
       "max_width": null,
       "min_height": null,
       "min_width": null,
       "object_fit": null,
       "object_position": null,
       "order": null,
       "overflow": null,
       "overflow_x": null,
       "overflow_y": null,
       "padding": null,
       "right": null,
       "top": null,
       "visibility": null,
       "width": null
      }
     }
    },
    "version_major": 2,
    "version_minor": 0
   }
  }
 },
 "nbformat": 4,
 "nbformat_minor": 5
}
