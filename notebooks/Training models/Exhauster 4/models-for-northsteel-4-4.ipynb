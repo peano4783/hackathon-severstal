{
 "cells": [
  {
   "cell_type": "code",
   "execution_count": 1,
   "id": "468de726",
   "metadata": {
    "execution": {
     "iopub.execute_input": "2023-05-28T15:17:13.733513Z",
     "iopub.status.busy": "2023-05-28T15:17:13.732755Z",
     "iopub.status.idle": "2023-05-28T15:17:13.793119Z",
     "shell.execute_reply": "2023-05-28T15:17:13.792212Z"
    },
    "papermill": {
     "duration": 0.070566,
     "end_time": "2023-05-28T15:17:13.797611",
     "exception": false,
     "start_time": "2023-05-28T15:17:13.727045",
     "status": "completed"
    },
    "tags": []
   },
   "outputs": [
    {
     "name": "stdout",
     "output_type": "stream",
     "text": [
      "/kaggle/input/y-train-northsteel-short/y_short_ТСМТ-101-010-50М-80 ТЕРМОПРЕОБР.МАСЛО.csv\n",
      "/kaggle/input/y-train-northsteel-short/y_short_ЗАДВИЖКА ЭКСГ.d.csv\n",
      "/kaggle/input/y-train-northsteel-short/y_short_КОРПУС ЭКСГ.d.csv\n",
      "/kaggle/input/y-train-northsteel-short/y_short_ГАЗОВАЯ ЗАДВИЖКА ЭКСГ.d.csv\n",
      "/kaggle/input/y-train-northsteel-short/y_short_ТИРИСТ. ВОЗБУДИТЕЛЬ ВТ-РЭМ-400 ЭКСГ.d.csv\n",
      "/kaggle/input/y-train-northsteel-short/y_short_КЛ2 ТР№n ДО ЭД ЭКСГАУСТЕРА №d.csv\n",
      "/kaggle/input/y-train-northsteel-short/y_short_РЕДУКТОР ГАЗ. ЗАДВИЖКИ ЭКСГ.d.csv\n",
      "/kaggle/input/y-train-northsteel-short/y_short_МАСЛОНАСОС ШЕСТЕРЕНЧАТЫЙ (РЕЗ.) ЭКСГ.d.csv\n",
      "/kaggle/input/y-train-northsteel-short/y_short_УЛИТА ЭКСГ.d.csv\n",
      "/kaggle/input/y-train-northsteel-short/y_short_ВК 310С ВИБРОПРЕОБРАЗОВАТЕЛЬ ЭКСГ.d.csv\n",
      "/kaggle/input/y-train-northsteel-short/y_short_ДВИГАТЕЛЬ РЕЗЕРВНОГО МАСЛОНАСОСА ЭКСГ.d.csv\n",
      "/kaggle/input/y-train-northsteel-short/y_short_ЗАПОРНАЯ АРМАТУРА ЭКСГАУСТЕРА №d.csv\n",
      "/kaggle/input/y-train-northsteel-short/y_short_МАСЛОНАСОС РАБОЧИЙ ЭКСГ.d.csv\n",
      "/kaggle/input/y-train-northsteel-short/y_short_МЕТРАН-100 ДАТЧИКИ ДАВЛЕНИЯ ЭКСГ.d.csv\n",
      "/kaggle/input/y-train-northsteel-short/y_short_ЭКСГАУСТЕР Н-8000 АМ №5.csv\n",
      "/kaggle/input/y-train-northsteel-short/y_short_ПОДШИПНИК ОПОРНО-УПОРНЫЙ ЭКСГ.d.csv\n",
      "/kaggle/input/y-train-northsteel-short/y_short_ПОДШИПНИК ОПОРНЫЙ ЭКСГ.d.csv\n",
      "/kaggle/input/y-train-northsteel-short/y_short_МАСЛООХЛАДИТЕЛЬ  М-05-1 ЭКСГ.d.csv\n",
      "/kaggle/input/y-train-northsteel-short/y_short_ТИРИСТОРНЫЙ ВОЗБУДИТЕЛЬ ТВ-400 ЭКСГ.d ВУ1.csv\n",
      "/kaggle/input/y-train-northsteel-short/y_short_КЛ1 ТР№n ДО ЭД ЭКСГАУСТЕРА №d.csv\n",
      "/kaggle/input/y-train-northsteel-short/y_short_ЭЛДВИГАТЕЛЬ ГАЗ. ЗАДВИЖКИ ЭКСГ.d.csv\n",
      "/kaggle/input/y-train-northsteel-short/y_short_ТСМТ-101-010-50М-200 ТЕРМОПР.ПОДШ.csv\n",
      "/kaggle/input/y-train-northsteel-short/y_short_МАСЛОБАК ЭКСГ.d.csv\n",
      "/kaggle/input/y-train-northsteel-short/y_short_ЗАП. И РЕГ. АРМАТУРА ЭКСГ.d.csv\n",
      "/kaggle/input/y-train-northsteel-short/y_short_КОЖУХ МУФТЫ ЭКСГ.d.csv\n",
      "/kaggle/input/y-train-northsteel-short/y_short_РЕГУЛИРУЮЩАЯ АППАРАТУРА ЭКСГАУСТЕРА №d.csv\n",
      "/kaggle/input/y-train-northsteel-short/y_short_МАСЛЯНЫЙ ФИЛЬТР ЭКСГАУСТЕРА №d.csv\n",
      "/kaggle/input/y-train-northsteel-short/y_short_ТР-Р ТМ-4000-106 ЭКСГ.d.csv\n",
      "/kaggle/input/y-train-northsteel-short/y_short_ЭЛЕКТРОДВИГАТЕЛЬ ДСПУ-140-84-4 ЭКСГ.d.csv\n",
      "/kaggle/input/y-train-northsteel-short/y_short_ДВИГАТЕЛЬ ПУСКОВОГО МАСЛОНАСОСА ЭКСГ.d.csv\n",
      "/kaggle/input/y-train-northsteel-short/y_short_САПФИР 22 МДД РАЗРЕЖЕНИЕ В КОЛЛЕКТОРЕ.csv\n",
      "/kaggle/input/y-train-northsteel-short/y_short_САПФИР 22 МДД ПЕРЕПАД ДАВЛ. НА ЦИКЛОНЕ.csv\n",
      "/kaggle/input/y-train-northsteel-short/y_short_МАСЛОНАСОС ШЕСТЕРЕНЧАТЫЙ (ПУСК.) ЭКСГ.d.csv\n",
      "/kaggle/input/y-train-northsteel-short/y_short_ТР-Р ТМ-6300-106 ЭКСГ.d.csv\n",
      "/kaggle/input/y-train-northsteel-short/y_short_ТСМТ-101-010-50М-400 ТЕРМОПР.ПОДШ.csv\n",
      "/kaggle/input/y-train-northsteel-short/y_short_ЭКСГАУСТЕР №d.csv\n",
      "/kaggle/input/y-train-northsteel-short/y_short_МАСЛОСТАНЦИЯ ЖИДКОЙ СМАЗКИ ЭКСГ.d.csv\n",
      "/kaggle/input/y-train-northsteel-short/y_short_ЭЛЕКТРООБОРУДОВАНИЯ ЭКСГАУСТЕРА №d.csv\n",
      "/kaggle/input/y-train-northsteel-short/dict_short.csv\n",
      "/kaggle/input/y-train-northsteel-short/y_short_ГСМ ЭКСГ.d.csv\n",
      "/kaggle/input/y-train-northsteel-short/y_short_ТИРИСТОРНЫЙ ВОЗБУДИТЕЛЬ СПВД-М10-400-5.csv\n",
      "/kaggle/input/y-train-northsteel-short/y_short_МАСЛОПРОВОДЫ ЭКСГАУСТЕРА №d.csv\n",
      "/kaggle/input/y-train-northsteel-short/y_short_РОТОР ЭКСГ.d.csv\n",
      "/kaggle/input/x-test-northsteel/ВИБРАЦИЯ НА ОПОРЕ 4. ПРОДОЛЬНАЯ.csv\n",
      "/kaggle/input/x-test-northsteel/ВИБРАЦИЯ НА ОПОРЕ 4.csv\n",
      "/kaggle/input/x-test-northsteel/ЭКСГАУСТЕР 9.csv\n",
      "/kaggle/input/x-test-northsteel/ЭКСГАУСТЕР 4.csv\n",
      "/kaggle/input/x-test-northsteel/ЭКСГАУСТЕР 7.csv\n",
      "/kaggle/input/x-test-northsteel/ВИБРАЦИЯ НА ОПОРЕ 3.csv\n",
      "/kaggle/input/x-test-northsteel/ВИБРАЦИЯ НА ОПОРЕ 2.csv\n",
      "/kaggle/input/x-test-northsteel/ТОК СТАТОРА.csv\n",
      "/kaggle/input/x-test-northsteel/ДАВЛЕНИЕ МАСЛА В СИСТЕМЕ.csv\n",
      "/kaggle/input/x-test-northsteel/ВИБРАЦИЯ НА ОПОРЕ 1.csv\n",
      "/kaggle/input/x-test-northsteel/ТЕМПЕРАТУРА ПОДШИПНИКА НА ОПОРЕ 3.csv\n",
      "/kaggle/input/x-test-northsteel/ТЕМПЕРАТУРА ПОДШИПНИКА НА ОПОРЕ 1.csv\n",
      "/kaggle/input/x-test-northsteel/ЭКСГАУСТЕР 6.csv\n",
      "/kaggle/input/x-test-northsteel/ТОК РОТОРА 2.csv\n",
      "/kaggle/input/x-test-northsteel/ТЕМПЕРАТУРА ПОДШИПНИКА НА ОПОРЕ 2.csv\n",
      "/kaggle/input/x-test-northsteel/ТЕМПЕРАТУРА ПОДШИПНИКА НА ОПОРЕ 4.csv\n",
      "/kaggle/input/x-test-northsteel/ЭКСГАУСТЕР 5.csv\n",
      "/kaggle/input/x-test-northsteel/ТОК РОТОРА 1.csv\n",
      "/kaggle/input/x-test-northsteel/ЭКСГАУСТЕР 8.csv\n",
      "/kaggle/input/x-test-northsteel/ВИБРАЦИЯ НА ОПОРЕ 3. ПРОДОЛЬНАЯ.csv\n",
      "/kaggle/input/x-test-northsteel/ТЕМПЕРАТУРА МАСЛА В МАСЛОБЛОКЕ.csv\n",
      "/kaggle/input/x-test-northsteel/ТЕМПЕРАТУРА МАСЛА В СИСТЕМЕ.csv\n",
      "/kaggle/input/y-train-northsteel-instances/y_ЭКСГАУСТЕР АМ 6.csv\n",
      "/kaggle/input/y-train-northsteel-instances/y_ЭКСГАУСТЕР АМ 7.csv\n",
      "/kaggle/input/y-train-northsteel-instances/y_ЭКСГАУСТЕР АМ 5.csv\n",
      "/kaggle/input/y-train-northsteel-instances/y_ЭКСГАУСТЕР АМ 8.csv\n",
      "/kaggle/input/y-train-northsteel-instances/y_ЭКСГАУСТЕР АМ 4.csv\n",
      "/kaggle/input/y-train-northsteel-instances/dict_short.csv\n",
      "/kaggle/input/y-train-northsteel-instances/y_ЭКСГАУСТЕР АМ 9.csv\n",
      "/kaggle/input/x-train-northsteel/ВИБРАЦИЯ НА ОПОРЕ 4. ПРОДОЛЬНАЯ.csv\n",
      "/kaggle/input/x-train-northsteel/ВИБРАЦИЯ НА ОПОРЕ 4.csv\n",
      "/kaggle/input/x-train-northsteel/ЭКСГАУСТЕР 9.csv\n",
      "/kaggle/input/x-train-northsteel/ЭКСГАУСТЕР 4.csv\n",
      "/kaggle/input/x-train-northsteel/ЭКСГАУСТЕР 7.csv\n",
      "/kaggle/input/x-train-northsteel/ВИБРАЦИЯ НА ОПОРЕ 3.csv\n",
      "/kaggle/input/x-train-northsteel/ВИБРАЦИЯ НА ОПОРЕ 2.csv\n",
      "/kaggle/input/x-train-northsteel/ТОК СТАТОРА.csv\n",
      "/kaggle/input/x-train-northsteel/ДАВЛЕНИЕ МАСЛА В СИСТЕМЕ.csv\n",
      "/kaggle/input/x-train-northsteel/ВИБРАЦИЯ НА ОПОРЕ 1.csv\n",
      "/kaggle/input/x-train-northsteel/ТЕМПЕРАТУРА ПОДШИПНИКА НА ОПОРЕ 3.csv\n",
      "/kaggle/input/x-train-northsteel/ТЕМПЕРАТУРА ПОДШИПНИКА НА ОПОРЕ 1.csv\n",
      "/kaggle/input/x-train-northsteel/ЭКСГАУСТЕР 6.csv\n",
      "/kaggle/input/x-train-northsteel/ТОК РОТОРА 2.csv\n",
      "/kaggle/input/x-train-northsteel/ТЕМПЕРАТУРА ПОДШИПНИКА НА ОПОРЕ 2.csv\n",
      "/kaggle/input/x-train-northsteel/ТЕМПЕРАТУРА ПОДШИПНИКА НА ОПОРЕ 4.csv\n",
      "/kaggle/input/x-train-northsteel/ЭКСГАУСТЕР 5.csv\n",
      "/kaggle/input/x-train-northsteel/ТОК РОТОРА 1.csv\n",
      "/kaggle/input/x-train-northsteel/ЭКСГАУСТЕР 8.csv\n",
      "/kaggle/input/x-train-northsteel/ВИБРАЦИЯ НА ОПОРЕ 3. ПРОДОЛЬНАЯ.csv\n",
      "/kaggle/input/x-train-northsteel/ТЕМПЕРАТУРА МАСЛА В МАСЛОБЛОКЕ.csv\n",
      "/kaggle/input/x-train-northsteel/ТЕМПЕРАТУРА МАСЛА В СИСТЕМЕ.csv\n",
      "/kaggle/input/y-train-northsteel/y_long_МАСЛООХЛАДИТЕЛЬ  М-05-1 ЭКСГ.d.csv\n",
      "/kaggle/input/y-train-northsteel/y_long_КЛ2 ТР№8 ДО ЭД ЭКСГАУСТЕРА №d.csv\n",
      "/kaggle/input/y-train-northsteel/y_long_САПФИР 22 МДД РАЗРЕЖЕНИЕ В КОЛЛЕКТОРЕ.csv\n",
      "/kaggle/input/y-train-northsteel/y_long_ВК 310С ВИБРОПРЕОБРАЗОВАТЕЛЬ ЭКСГ.d Т.2.csv\n",
      "/kaggle/input/y-train-northsteel/y_long_ЗАП. И РЕГ. АРМАТУРА ЭКСГ.d.csv\n",
      "/kaggle/input/y-train-northsteel/y_long_ЭКСГАУСТЕР Н-8000 АМ №5.csv\n",
      "/kaggle/input/y-train-northsteel/y_long_ЭЛЕКТРОДВИГАТЕЛЬ ДСПУ-140-84-4 ЭКСГ.d.csv\n",
      "/kaggle/input/y-train-northsteel/y_long_РЕДУКТОР ГАЗ. ЗАДВИЖКИ ЭКСГ.d.csv\n",
      "/kaggle/input/y-train-northsteel/y_long_КЛ1 ТР№4 ДО ЭД ЭКСГАУСТЕРА №d.csv\n",
      "/kaggle/input/y-train-northsteel/y_long_ТСМТ-101-010-50М-200 ТЕРМОПР.ПОДШ.Т.3.csv\n",
      "/kaggle/input/y-train-northsteel/y_long_ЭЛЕКТРООБОРУДОВАНИЯ ЭКСГАУСТЕРА №d.csv\n",
      "/kaggle/input/y-train-northsteel/y_long_МАСЛЯНЫЙ ФИЛЬТР ЭКСГАУСТЕРА №d.csv\n",
      "/kaggle/input/y-train-northsteel/y_long_УЛИТА ЭКСГ.d.csv\n",
      "/kaggle/input/y-train-northsteel/y_long_РЕГУЛИРУЮЩАЯ АППАРАТУРА ЭКСГАУСТЕРА №d.csv\n",
      "/kaggle/input/y-train-northsteel/y_long_ПОДШИПНИК ОПОРНЫЙ ЭКСГ.d.csv\n",
      "/kaggle/input/y-train-northsteel/y_long_ТСМТ-101-010-50М-200 ТЕРМОПР.ПОДШ.Т.4.csv\n",
      "/kaggle/input/y-train-northsteel/y_long_КЛ1 ТР№6 ДО ЭД ЭКСГАУСТЕРА №d.csv\n",
      "/kaggle/input/y-train-northsteel/y_long_ГАЗОВАЯ ЗАДВИЖКА ЭКСГ.d.csv\n",
      "/kaggle/input/y-train-northsteel/y_long_ГСМ ЭКСГ.d.csv\n",
      "/kaggle/input/y-train-northsteel/y_long_ВК 310С ВИБРОПРЕОБРАЗОВАТЕЛЬ ЭКСГ.d Т.3.csv\n",
      "/kaggle/input/y-train-northsteel/y_long_ТСМТ-101-010-50М-80 ТЕРМОПРЕОБР.МАСЛО.csv\n",
      "/kaggle/input/y-train-northsteel/y_long_КЛ2 ТР№6 ДО ЭД ЭКСГАУСТЕРА №d.csv\n",
      "/kaggle/input/y-train-northsteel/y_long_ТИРИСТОРНЫЙ ВОЗБУДИТЕЛЬ ТВ-400 ЭКСГ.d ВУ1.csv\n",
      "/kaggle/input/y-train-northsteel/y_long_КЛ1 ТР№5 ДО ЭД ЭКСГАУСТЕРА №d.csv\n",
      "/kaggle/input/y-train-northsteel/y_long_ДВИГАТЕЛЬ РЕЗЕРВНОГО МАСЛОНАСОСА ЭКСГ.d.csv\n",
      "/kaggle/input/y-train-northsteel/y_long_КЛ1 ТР№8 ДО ЭД ЭКСГАУСТЕРА №d.csv\n",
      "/kaggle/input/y-train-northsteel/y_long_МЕТРАН-100 ДАТЧИКИ ДАВЛЕНИЯ ЭКСГ.d.csv\n",
      "/kaggle/input/y-train-northsteel/y_long_ЗАДВИЖКА ЭКСГ.d.csv\n",
      "/kaggle/input/y-train-northsteel/y_long_КЛ2 ТР№5 ДО ЭД ЭКСГАУСТЕРА №d.csv\n",
      "/kaggle/input/y-train-northsteel/y_long_САПФИР 22 МДД ПЕРЕПАД ДАВЛ. НА ЦИКЛОНЕ.csv\n",
      "/kaggle/input/y-train-northsteel/y_long_ПОДШИПНИК ОПОРНЫЙ №2 ЭКСГ.d.csv\n",
      "/kaggle/input/y-train-northsteel/y_long_МАСЛОНАСОС ШЕСТЕРЕНЧАТЫЙ (РЕЗ.) ЭКСГ.d.csv\n",
      "/kaggle/input/y-train-northsteel/y_long_ПОДШИПНИК ОПОРНО-УПОРНЫЙ ЭКСГ.d.csv\n",
      "/kaggle/input/y-train-northsteel/y_long_ЗАПОРНАЯ АРМАТУРА ЭКСГАУСТЕРА №d.csv\n",
      "/kaggle/input/y-train-northsteel/y_long_КОРПУС ЭКСГ.d.csv\n",
      "/kaggle/input/y-train-northsteel/y_long_ВК 310С ВИБРОПРЕОБРАЗОВАТЕЛЬ ЭКСГ.d Т.4.csv\n",
      "/kaggle/input/y-train-northsteel/y_long_ТИРИСТОРНЫЙ ВОЗБУДИТЕЛЬ СПВД-М10-400-5.csv\n",
      "/kaggle/input/y-train-northsteel/y_long_КЛ1 ТР№9 ДО ЭД ЭКСГАУСТЕРА №d.csv\n",
      "/kaggle/input/y-train-northsteel/y_long_ЭЛДВИГАТЕЛЬ ГАЗ. ЗАДВИЖКИ ЭКСГ.d.csv\n",
      "/kaggle/input/y-train-northsteel/y_long_ДВИГАТЕЛЬ ПУСКОВОГО МАСЛОНАСОСА ЭКСГ.d.csv\n",
      "/kaggle/input/y-train-northsteel/y_long_ТИРИСТ. ВОЗБУДИТЕЛЬ ВТ-РЭМ-400 ЭКСГ.d ВУ1.csv\n",
      "/kaggle/input/y-train-northsteel/y_long_ЭКСГАУСТЕР №d.csv\n",
      "/kaggle/input/y-train-northsteel/y_long_ТР-Р ТМ-4000-106 ЭКСГ.d.csv\n",
      "/kaggle/input/y-train-northsteel/y_long_МАСЛОНАСОС РАБОЧИЙ ЭКСГ.d.csv\n",
      "/kaggle/input/y-train-northsteel/y_long_КЛ1 ТР№7 ДО ЭД ЭКСГАУСТЕРА №d.csv\n",
      "/kaggle/input/y-train-northsteel/y_long_МАСЛОБАК ЭКСГ.d.csv\n",
      "/kaggle/input/y-train-northsteel/y_long_ТИРИСТ. ВОЗБУДИТЕЛЬ ВТ-РЭМ-400 ЭКСГ.d ВУ2.csv\n",
      "/kaggle/input/y-train-northsteel/y_long_ТР-Р ТМ-6300-106 ЭКСГ.d.csv\n",
      "/kaggle/input/y-train-northsteel/y_long_МАСЛОСТАНЦИЯ ЖИДКОЙ СМАЗКИ ЭКСГ.d.csv\n",
      "/kaggle/input/y-train-northsteel/y_long_КОЖУХ МУФТЫ ЭКСГ.d.csv\n",
      "/kaggle/input/y-train-northsteel/y_long_ПОДШИПНИК ОПОРНЫЙ №1 ЭКСГ.d.csv\n",
      "/kaggle/input/y-train-northsteel/y_long_РОТОР ЭКСГ.d.csv\n",
      "/kaggle/input/y-train-northsteel/dict_long.csv\n",
      "/kaggle/input/y-train-northsteel/y_long_ТСМТ-101-010-50М-400 ТЕРМОПР.ПОДШ.Т.1.csv\n",
      "/kaggle/input/y-train-northsteel/y_long_МАСЛОПРОВОДЫ ЭКСГАУСТЕРА №d.csv\n",
      "/kaggle/input/y-train-northsteel/y_long_МАСЛОНАСОС ШЕСТЕРЕНЧАТЫЙ (ПУСК.) ЭКСГ.d.csv\n",
      "/kaggle/input/y-train-northsteel/y_long_КЛ2 ТР№4 ДО ЭД ЭКСГАУСТЕРА №d.csv\n",
      "/kaggle/input/y-train-northsteel/y_long_ВК 310С ВИБРОПРЕОБРАЗОВАТЕЛЬ ЭКСГ.d Т.1.csv\n",
      "/kaggle/input/y-train-northsteel/y_long_ТСМТ-101-010-50М-400 ТЕРМОПР.ПОДШ.Т.2.csv\n"
     ]
    }
   ],
   "source": [
    "# This Python 3 environment comes with many helpful analytics libraries installed\n",
    "# It is defined by the kaggle/python Docker image: https://github.com/kaggle/docker-python\n",
    "# For example, here's several helpful packages to load\n",
    "\n",
    "import numpy as np # linear algebra\n",
    "import pandas as pd # data processing, CSV file I/O (e.g. pd.read_csv)\n",
    "\n",
    "# Input data files are available in the read-only \"../input/\" directory\n",
    "# For example, running this (by clicking run or pressing Shift+Enter) will list all files under the input directory\n",
    "\n",
    "import os\n",
    "for dirname, _, filenames in os.walk('/kaggle/input'):\n",
    "    for filename in filenames:\n",
    "        print(os.path.join(dirname, filename))\n",
    "\n",
    "# You can write up to 20GB to the current directory (/kaggle/working/) that gets preserved as output when you create a version using \"Save & Run All\" \n",
    "# You can also write temporary files to /kaggle/temp/, but they won't be saved outside of the current session"
   ]
  },
  {
   "cell_type": "code",
   "execution_count": 2,
   "id": "1e6efaaf",
   "metadata": {
    "execution": {
     "iopub.execute_input": "2023-05-28T15:17:13.807490Z",
     "iopub.status.busy": "2023-05-28T15:17:13.807100Z",
     "iopub.status.idle": "2023-05-28T15:17:43.047690Z",
     "shell.execute_reply": "2023-05-28T15:17:43.046220Z"
    },
    "papermill": {
     "duration": 29.249229,
     "end_time": "2023-05-28T15:17:43.050991",
     "exception": false,
     "start_time": "2023-05-28T15:17:13.801762",
     "status": "completed"
    },
    "tags": []
   },
   "outputs": [],
   "source": [
    "X_train = pd.read_csv(\"/kaggle/input/x-train-northsteel/ЭКСГАУСТЕР 4.csv\",parse_dates=True)\n"
   ]
  },
  {
   "cell_type": "code",
   "execution_count": 3,
   "id": "976fb039",
   "metadata": {
    "execution": {
     "iopub.execute_input": "2023-05-28T15:17:43.060843Z",
     "iopub.status.busy": "2023-05-28T15:17:43.060142Z",
     "iopub.status.idle": "2023-05-28T15:17:47.407071Z",
     "shell.execute_reply": "2023-05-28T15:17:47.405943Z"
    },
    "papermill": {
     "duration": 4.354759,
     "end_time": "2023-05-28T15:17:47.409644",
     "exception": false,
     "start_time": "2023-05-28T15:17:43.054885",
     "status": "completed"
    },
    "tags": []
   },
   "outputs": [
    {
     "data": {
      "text/html": [
       "<div>\n",
       "<style scoped>\n",
       "    .dataframe tbody tr th:only-of-type {\n",
       "        vertical-align: middle;\n",
       "    }\n",
       "\n",
       "    .dataframe tbody tr th {\n",
       "        vertical-align: top;\n",
       "    }\n",
       "\n",
       "    .dataframe thead th {\n",
       "        text-align: right;\n",
       "    }\n",
       "</style>\n",
       "<table border=\"1\" class=\"dataframe\">\n",
       "  <thead>\n",
       "    <tr style=\"text-align: right;\">\n",
       "      <th></th>\n",
       "      <th>ТОК РОТОРА 1</th>\n",
       "      <th>ТОК РОТОРА 2</th>\n",
       "      <th>ТОК СТАТОРА</th>\n",
       "      <th>ВИБРАЦИЯ НА ОПОРЕ 1</th>\n",
       "      <th>ВИБРАЦИЯ НА ОПОРЕ 2</th>\n",
       "      <th>ВИБРАЦИЯ НА ОПОРЕ 3</th>\n",
       "      <th>ВИБРАЦИЯ НА ОПОРЕ 3. ПРОДОЛЬНАЯ</th>\n",
       "      <th>ВИБРАЦИЯ НА ОПОРЕ 4</th>\n",
       "      <th>ВИБРАЦИЯ НА ОПОРЕ 4. ПРОДОЛЬНАЯ</th>\n",
       "      <th>ТЕМПЕРАТУРА ПОДШИПНИКА НА ОПОРЕ 1</th>\n",
       "      <th>ТЕМПЕРАТУРА ПОДШИПНИКА НА ОПОРЕ 2</th>\n",
       "      <th>ТЕМПЕРАТУРА ПОДШИПНИКА НА ОПОРЕ 3</th>\n",
       "      <th>ТЕМПЕРАТУРА ПОДШИПНИКА НА ОПОРЕ 4</th>\n",
       "      <th>ТЕМПЕРАТУРА МАСЛА В МАСЛОБЛОКЕ</th>\n",
       "      <th>ТЕМПЕРАТУРА МАСЛА В СИСТЕМЕ</th>\n",
       "      <th>ДАВЛЕНИЕ МАСЛА В СИСТЕМЕ</th>\n",
       "    </tr>\n",
       "    <tr>\n",
       "      <th>DT</th>\n",
       "      <th></th>\n",
       "      <th></th>\n",
       "      <th></th>\n",
       "      <th></th>\n",
       "      <th></th>\n",
       "      <th></th>\n",
       "      <th></th>\n",
       "      <th></th>\n",
       "      <th></th>\n",
       "      <th></th>\n",
       "      <th></th>\n",
       "      <th></th>\n",
       "      <th></th>\n",
       "      <th></th>\n",
       "      <th></th>\n",
       "      <th></th>\n",
       "    </tr>\n",
       "  </thead>\n",
       "  <tbody>\n",
       "    <tr>\n",
       "      <th>2019-01-16 13:21:00</th>\n",
       "      <td>363.676667</td>\n",
       "      <td>363.676667</td>\n",
       "      <td>244.078000</td>\n",
       "      <td>1.600000</td>\n",
       "      <td>0.760000</td>\n",
       "      <td>0.670000</td>\n",
       "      <td>1.630000</td>\n",
       "      <td>3.450000</td>\n",
       "      <td>0.740000</td>\n",
       "      <td>41.370000</td>\n",
       "      <td>39.750000</td>\n",
       "      <td>39.750000</td>\n",
       "      <td>44.538548</td>\n",
       "      <td>40.560000</td>\n",
       "      <td>33.260000</td>\n",
       "      <td>119.385000</td>\n",
       "    </tr>\n",
       "    <tr>\n",
       "      <th>2019-01-16 13:21:10</th>\n",
       "      <td>363.103333</td>\n",
       "      <td>363.103333</td>\n",
       "      <td>243.032500</td>\n",
       "      <td>1.572917</td>\n",
       "      <td>0.751736</td>\n",
       "      <td>0.642361</td>\n",
       "      <td>1.558160</td>\n",
       "      <td>3.470000</td>\n",
       "      <td>0.734375</td>\n",
       "      <td>41.374596</td>\n",
       "      <td>39.752083</td>\n",
       "      <td>39.995457</td>\n",
       "      <td>44.863054</td>\n",
       "      <td>40.401081</td>\n",
       "      <td>33.343074</td>\n",
       "      <td>119.444440</td>\n",
       "    </tr>\n",
       "    <tr>\n",
       "      <th>2019-01-16 13:21:20</th>\n",
       "      <td>363.266667</td>\n",
       "      <td>363.266667</td>\n",
       "      <td>242.940000</td>\n",
       "      <td>1.553819</td>\n",
       "      <td>0.735918</td>\n",
       "      <td>0.638503</td>\n",
       "      <td>1.581790</td>\n",
       "      <td>2.900000</td>\n",
       "      <td>0.748457</td>\n",
       "      <td>41.374596</td>\n",
       "      <td>39.752083</td>\n",
       "      <td>39.932360</td>\n",
       "      <td>44.799956</td>\n",
       "      <td>40.383053</td>\n",
       "      <td>33.261948</td>\n",
       "      <td>119.330000</td>\n",
       "    </tr>\n",
       "    <tr>\n",
       "      <th>2019-01-16 13:21:30</th>\n",
       "      <td>363.414372</td>\n",
       "      <td>363.414372</td>\n",
       "      <td>243.836802</td>\n",
       "      <td>1.546007</td>\n",
       "      <td>0.736979</td>\n",
       "      <td>0.653646</td>\n",
       "      <td>1.657986</td>\n",
       "      <td>3.297743</td>\n",
       "      <td>0.730903</td>\n",
       "      <td>41.374596</td>\n",
       "      <td>39.752083</td>\n",
       "      <td>39.833208</td>\n",
       "      <td>44.781928</td>\n",
       "      <td>40.563330</td>\n",
       "      <td>33.586453</td>\n",
       "      <td>119.398146</td>\n",
       "    </tr>\n",
       "    <tr>\n",
       "      <th>2019-01-16 13:21:40</th>\n",
       "      <td>363.103333</td>\n",
       "      <td>363.103333</td>\n",
       "      <td>242.050000</td>\n",
       "      <td>1.545139</td>\n",
       "      <td>0.742188</td>\n",
       "      <td>0.677083</td>\n",
       "      <td>1.740000</td>\n",
       "      <td>2.990000</td>\n",
       "      <td>0.739583</td>\n",
       "      <td>41.536849</td>\n",
       "      <td>39.752083</td>\n",
       "      <td>39.752083</td>\n",
       "      <td>43.810000</td>\n",
       "      <td>39.750000</td>\n",
       "      <td>33.505327</td>\n",
       "      <td>119.326667</td>\n",
       "    </tr>\n",
       "    <tr>\n",
       "      <th>...</th>\n",
       "      <td>...</td>\n",
       "      <td>...</td>\n",
       "      <td>...</td>\n",
       "      <td>...</td>\n",
       "      <td>...</td>\n",
       "      <td>...</td>\n",
       "      <td>...</td>\n",
       "      <td>...</td>\n",
       "      <td>...</td>\n",
       "      <td>...</td>\n",
       "      <td>...</td>\n",
       "      <td>...</td>\n",
       "      <td>...</td>\n",
       "      <td>...</td>\n",
       "      <td>...</td>\n",
       "      <td>...</td>\n",
       "    </tr>\n",
       "    <tr>\n",
       "      <th>2021-04-29 20:17:50</th>\n",
       "      <td>227.802000</td>\n",
       "      <td>227.802000</td>\n",
       "      <td>256.457000</td>\n",
       "      <td>0.691667</td>\n",
       "      <td>0.422857</td>\n",
       "      <td>0.824444</td>\n",
       "      <td>1.900000</td>\n",
       "      <td>0.802222</td>\n",
       "      <td>0.810000</td>\n",
       "      <td>38.670000</td>\n",
       "      <td>36.915000</td>\n",
       "      <td>29.615000</td>\n",
       "      <td>32.045000</td>\n",
       "      <td>32.045000</td>\n",
       "      <td>28.800000</td>\n",
       "      <td>143.218000</td>\n",
       "    </tr>\n",
       "    <tr>\n",
       "      <th>2021-06-18 01:21:30</th>\n",
       "      <td>243.908000</td>\n",
       "      <td>243.908000</td>\n",
       "      <td>262.240000</td>\n",
       "      <td>1.410000</td>\n",
       "      <td>1.122000</td>\n",
       "      <td>2.508000</td>\n",
       "      <td>6.800000</td>\n",
       "      <td>1.262000</td>\n",
       "      <td>2.678000</td>\n",
       "      <td>44.080000</td>\n",
       "      <td>47.455000</td>\n",
       "      <td>40.560000</td>\n",
       "      <td>41.780000</td>\n",
       "      <td>43.000000</td>\n",
       "      <td>40.290000</td>\n",
       "      <td>119.744000</td>\n",
       "    </tr>\n",
       "    <tr>\n",
       "      <th>2021-06-21 19:43:00</th>\n",
       "      <td>243.866667</td>\n",
       "      <td>243.866667</td>\n",
       "      <td>248.206667</td>\n",
       "      <td>0.983333</td>\n",
       "      <td>0.910000</td>\n",
       "      <td>2.290000</td>\n",
       "      <td>5.083333</td>\n",
       "      <td>1.353333</td>\n",
       "      <td>2.223333</td>\n",
       "      <td>46.645000</td>\n",
       "      <td>49.085000</td>\n",
       "      <td>45.970000</td>\n",
       "      <td>45.700000</td>\n",
       "      <td>47.455000</td>\n",
       "      <td>48.270000</td>\n",
       "      <td>113.846667</td>\n",
       "    </tr>\n",
       "    <tr>\n",
       "      <th>2021-07-01 23:41:10</th>\n",
       "      <td>244.760000</td>\n",
       "      <td>244.760000</td>\n",
       "      <td>266.060000</td>\n",
       "      <td>0.816000</td>\n",
       "      <td>0.426667</td>\n",
       "      <td>0.149000</td>\n",
       "      <td>0.640000</td>\n",
       "      <td>1.203000</td>\n",
       "      <td>0.270000</td>\n",
       "      <td>49.895000</td>\n",
       "      <td>49.760000</td>\n",
       "      <td>37.680000</td>\n",
       "      <td>41.167500</td>\n",
       "      <td>39.345000</td>\n",
       "      <td>36.186000</td>\n",
       "      <td>152.590000</td>\n",
       "    </tr>\n",
       "    <tr>\n",
       "      <th>2021-09-17 14:14:30</th>\n",
       "      <td>247.005000</td>\n",
       "      <td>247.005000</td>\n",
       "      <td>274.508333</td>\n",
       "      <td>0.346667</td>\n",
       "      <td>1.013333</td>\n",
       "      <td>1.536667</td>\n",
       "      <td>3.618333</td>\n",
       "      <td>2.110000</td>\n",
       "      <td>1.923333</td>\n",
       "      <td>49.760000</td>\n",
       "      <td>44.620000</td>\n",
       "      <td>39.480000</td>\n",
       "      <td>40.290000</td>\n",
       "      <td>39.345000</td>\n",
       "      <td>33.260000</td>\n",
       "      <td>164.408333</td>\n",
       "    </tr>\n",
       "  </tbody>\n",
       "</table>\n",
       "<p>4755649 rows × 16 columns</p>\n",
       "</div>"
      ],
      "text/plain": [
       "                     ТОК РОТОРА 1  ТОК РОТОРА 2  ТОК СТАТОРА  \\\n",
       "DT                                                             \n",
       "2019-01-16 13:21:00    363.676667    363.676667   244.078000   \n",
       "2019-01-16 13:21:10    363.103333    363.103333   243.032500   \n",
       "2019-01-16 13:21:20    363.266667    363.266667   242.940000   \n",
       "2019-01-16 13:21:30    363.414372    363.414372   243.836802   \n",
       "2019-01-16 13:21:40    363.103333    363.103333   242.050000   \n",
       "...                           ...           ...          ...   \n",
       "2021-04-29 20:17:50    227.802000    227.802000   256.457000   \n",
       "2021-06-18 01:21:30    243.908000    243.908000   262.240000   \n",
       "2021-06-21 19:43:00    243.866667    243.866667   248.206667   \n",
       "2021-07-01 23:41:10    244.760000    244.760000   266.060000   \n",
       "2021-09-17 14:14:30    247.005000    247.005000   274.508333   \n",
       "\n",
       "                     ВИБРАЦИЯ НА ОПОРЕ 1  ВИБРАЦИЯ НА ОПОРЕ 2  \\\n",
       "DT                                                              \n",
       "2019-01-16 13:21:00             1.600000             0.760000   \n",
       "2019-01-16 13:21:10             1.572917             0.751736   \n",
       "2019-01-16 13:21:20             1.553819             0.735918   \n",
       "2019-01-16 13:21:30             1.546007             0.736979   \n",
       "2019-01-16 13:21:40             1.545139             0.742188   \n",
       "...                                  ...                  ...   \n",
       "2021-04-29 20:17:50             0.691667             0.422857   \n",
       "2021-06-18 01:21:30             1.410000             1.122000   \n",
       "2021-06-21 19:43:00             0.983333             0.910000   \n",
       "2021-07-01 23:41:10             0.816000             0.426667   \n",
       "2021-09-17 14:14:30             0.346667             1.013333   \n",
       "\n",
       "                     ВИБРАЦИЯ НА ОПОРЕ 3  ВИБРАЦИЯ НА ОПОРЕ 3. ПРОДОЛЬНАЯ  \\\n",
       "DT                                                                          \n",
       "2019-01-16 13:21:00             0.670000                         1.630000   \n",
       "2019-01-16 13:21:10             0.642361                         1.558160   \n",
       "2019-01-16 13:21:20             0.638503                         1.581790   \n",
       "2019-01-16 13:21:30             0.653646                         1.657986   \n",
       "2019-01-16 13:21:40             0.677083                         1.740000   \n",
       "...                                  ...                              ...   \n",
       "2021-04-29 20:17:50             0.824444                         1.900000   \n",
       "2021-06-18 01:21:30             2.508000                         6.800000   \n",
       "2021-06-21 19:43:00             2.290000                         5.083333   \n",
       "2021-07-01 23:41:10             0.149000                         0.640000   \n",
       "2021-09-17 14:14:30             1.536667                         3.618333   \n",
       "\n",
       "                     ВИБРАЦИЯ НА ОПОРЕ 4  ВИБРАЦИЯ НА ОПОРЕ 4. ПРОДОЛЬНАЯ  \\\n",
       "DT                                                                          \n",
       "2019-01-16 13:21:00             3.450000                         0.740000   \n",
       "2019-01-16 13:21:10             3.470000                         0.734375   \n",
       "2019-01-16 13:21:20             2.900000                         0.748457   \n",
       "2019-01-16 13:21:30             3.297743                         0.730903   \n",
       "2019-01-16 13:21:40             2.990000                         0.739583   \n",
       "...                                  ...                              ...   \n",
       "2021-04-29 20:17:50             0.802222                         0.810000   \n",
       "2021-06-18 01:21:30             1.262000                         2.678000   \n",
       "2021-06-21 19:43:00             1.353333                         2.223333   \n",
       "2021-07-01 23:41:10             1.203000                         0.270000   \n",
       "2021-09-17 14:14:30             2.110000                         1.923333   \n",
       "\n",
       "                     ТЕМПЕРАТУРА ПОДШИПНИКА НА ОПОРЕ 1  \\\n",
       "DT                                                       \n",
       "2019-01-16 13:21:00                          41.370000   \n",
       "2019-01-16 13:21:10                          41.374596   \n",
       "2019-01-16 13:21:20                          41.374596   \n",
       "2019-01-16 13:21:30                          41.374596   \n",
       "2019-01-16 13:21:40                          41.536849   \n",
       "...                                                ...   \n",
       "2021-04-29 20:17:50                          38.670000   \n",
       "2021-06-18 01:21:30                          44.080000   \n",
       "2021-06-21 19:43:00                          46.645000   \n",
       "2021-07-01 23:41:10                          49.895000   \n",
       "2021-09-17 14:14:30                          49.760000   \n",
       "\n",
       "                     ТЕМПЕРАТУРА ПОДШИПНИКА НА ОПОРЕ 2  \\\n",
       "DT                                                       \n",
       "2019-01-16 13:21:00                          39.750000   \n",
       "2019-01-16 13:21:10                          39.752083   \n",
       "2019-01-16 13:21:20                          39.752083   \n",
       "2019-01-16 13:21:30                          39.752083   \n",
       "2019-01-16 13:21:40                          39.752083   \n",
       "...                                                ...   \n",
       "2021-04-29 20:17:50                          36.915000   \n",
       "2021-06-18 01:21:30                          47.455000   \n",
       "2021-06-21 19:43:00                          49.085000   \n",
       "2021-07-01 23:41:10                          49.760000   \n",
       "2021-09-17 14:14:30                          44.620000   \n",
       "\n",
       "                     ТЕМПЕРАТУРА ПОДШИПНИКА НА ОПОРЕ 3  \\\n",
       "DT                                                       \n",
       "2019-01-16 13:21:00                          39.750000   \n",
       "2019-01-16 13:21:10                          39.995457   \n",
       "2019-01-16 13:21:20                          39.932360   \n",
       "2019-01-16 13:21:30                          39.833208   \n",
       "2019-01-16 13:21:40                          39.752083   \n",
       "...                                                ...   \n",
       "2021-04-29 20:17:50                          29.615000   \n",
       "2021-06-18 01:21:30                          40.560000   \n",
       "2021-06-21 19:43:00                          45.970000   \n",
       "2021-07-01 23:41:10                          37.680000   \n",
       "2021-09-17 14:14:30                          39.480000   \n",
       "\n",
       "                     ТЕМПЕРАТУРА ПОДШИПНИКА НА ОПОРЕ 4  \\\n",
       "DT                                                       \n",
       "2019-01-16 13:21:00                          44.538548   \n",
       "2019-01-16 13:21:10                          44.863054   \n",
       "2019-01-16 13:21:20                          44.799956   \n",
       "2019-01-16 13:21:30                          44.781928   \n",
       "2019-01-16 13:21:40                          43.810000   \n",
       "...                                                ...   \n",
       "2021-04-29 20:17:50                          32.045000   \n",
       "2021-06-18 01:21:30                          41.780000   \n",
       "2021-06-21 19:43:00                          45.700000   \n",
       "2021-07-01 23:41:10                          41.167500   \n",
       "2021-09-17 14:14:30                          40.290000   \n",
       "\n",
       "                     ТЕМПЕРАТУРА МАСЛА В МАСЛОБЛОКЕ  \\\n",
       "DT                                                    \n",
       "2019-01-16 13:21:00                       40.560000   \n",
       "2019-01-16 13:21:10                       40.401081   \n",
       "2019-01-16 13:21:20                       40.383053   \n",
       "2019-01-16 13:21:30                       40.563330   \n",
       "2019-01-16 13:21:40                       39.750000   \n",
       "...                                             ...   \n",
       "2021-04-29 20:17:50                       32.045000   \n",
       "2021-06-18 01:21:30                       43.000000   \n",
       "2021-06-21 19:43:00                       47.455000   \n",
       "2021-07-01 23:41:10                       39.345000   \n",
       "2021-09-17 14:14:30                       39.345000   \n",
       "\n",
       "                     ТЕМПЕРАТУРА МАСЛА В СИСТЕМЕ  ДАВЛЕНИЕ МАСЛА В СИСТЕМЕ  \n",
       "DT                                                                          \n",
       "2019-01-16 13:21:00                    33.260000                119.385000  \n",
       "2019-01-16 13:21:10                    33.343074                119.444440  \n",
       "2019-01-16 13:21:20                    33.261948                119.330000  \n",
       "2019-01-16 13:21:30                    33.586453                119.398146  \n",
       "2019-01-16 13:21:40                    33.505327                119.326667  \n",
       "...                                          ...                       ...  \n",
       "2021-04-29 20:17:50                    28.800000                143.218000  \n",
       "2021-06-18 01:21:30                    40.290000                119.744000  \n",
       "2021-06-21 19:43:00                    48.270000                113.846667  \n",
       "2021-07-01 23:41:10                    36.186000                152.590000  \n",
       "2021-09-17 14:14:30                    33.260000                164.408333  \n",
       "\n",
       "[4755649 rows x 16 columns]"
      ]
     },
     "execution_count": 3,
     "metadata": {},
     "output_type": "execute_result"
    }
   ],
   "source": [
    "import re\n",
    "\n",
    "def reduced(x):\n",
    "    answer = re.sub(r\"ЭКСГАУСТЕР\\s?\\n?№\\d+.\", \"\", x).strip()\n",
    "    answer = re.sub(r\"ЭКСГАУСТЕР\\s?\\n?\\d+.\", \"\", x).strip()\n",
    "    return answer\n",
    "\n",
    "\n",
    "if \"DT\" in X_train.columns:\n",
    "    X_train = X_train.set_index(\"DT\")\n",
    "for col in X_train.columns:\n",
    "    X_train = X_train.rename(columns={col: reduced(col).strip()})\n",
    "X_train = X_train[[\"ТОК РОТОРА 1\",\"ТОК РОТОРА 2\",\"ТОК СТАТОРА\",\n",
    "                   \"ВИБРАЦИЯ НА ОПОРЕ 1\",\"ВИБРАЦИЯ НА ОПОРЕ 2\",\n",
    "                   \"ВИБРАЦИЯ НА ОПОРЕ 3\",\"ВИБРАЦИЯ НА ОПОРЕ 3. ПРОДОЛЬНАЯ\",\n",
    "                   \"ВИБРАЦИЯ НА ОПОРЕ 4\",\"ВИБРАЦИЯ НА ОПОРЕ 4. ПРОДОЛЬНАЯ\",\n",
    "                   \"ТЕМПЕРАТУРА ПОДШИПНИКА НА ОПОРЕ 1\",\n",
    "                   \"ТЕМПЕРАТУРА ПОДШИПНИКА НА ОПОРЕ 2\",\n",
    "                   \"ТЕМПЕРАТУРА ПОДШИПНИКА НА ОПОРЕ 3\",\n",
    "                   \"ТЕМПЕРАТУРА ПОДШИПНИКА НА ОПОРЕ 4\",\n",
    "                   \"ТЕМПЕРАТУРА МАСЛА В МАСЛОБЛОКЕ\",\n",
    "                   \"ТЕМПЕРАТУРА МАСЛА В СИСТЕМЕ\",\n",
    "                   \"ДАВЛЕНИЕ МАСЛА В СИСТЕМЕ\"]]\n",
    "X_train"
   ]
  },
  {
   "cell_type": "code",
   "execution_count": 4,
   "id": "fc09edbd",
   "metadata": {
    "execution": {
     "iopub.execute_input": "2023-05-28T15:17:47.420688Z",
     "iopub.status.busy": "2023-05-28T15:17:47.420278Z",
     "iopub.status.idle": "2023-05-28T15:18:32.343330Z",
     "shell.execute_reply": "2023-05-28T15:18:32.342201Z"
    },
    "papermill": {
     "duration": 44.937811,
     "end_time": "2023-05-28T15:18:32.352196",
     "exception": false,
     "start_time": "2023-05-28T15:17:47.414385",
     "status": "completed"
    },
    "tags": []
   },
   "outputs": [
    {
     "data": {
      "text/html": [
       "<div>\n",
       "<style scoped>\n",
       "    .dataframe tbody tr th:only-of-type {\n",
       "        vertical-align: middle;\n",
       "    }\n",
       "\n",
       "    .dataframe tbody tr th {\n",
       "        vertical-align: top;\n",
       "    }\n",
       "\n",
       "    .dataframe thead th {\n",
       "        text-align: right;\n",
       "    }\n",
       "</style>\n",
       "<table border=\"1\" class=\"dataframe\">\n",
       "  <thead>\n",
       "    <tr style=\"text-align: right;\">\n",
       "      <th></th>\n",
       "      <th>Y_ЭКСГАУСТЕР А/М №4_ЭЛЕКТРОДВИГАТЕЛЬ ДСПУ-140-84-4 ЭКСГ. №4</th>\n",
       "      <th>Y_ЭКСГАУСТЕР А/М №4_ПОДШИПНИК ОПОРНЫЙ ЭКСГ. №4</th>\n",
       "      <th>Y_ЭКСГАУСТЕР А/М №4_УЛИТА ЭКСГ. №4</th>\n",
       "      <th>Y_ЭКСГАУСТЕР А/М №4_РЕДУКТОР ГАЗ. ЗАДВИЖКИ ЭКСГ. №4</th>\n",
       "      <th>Y_ЭКСГАУСТЕР А/М №4_МАСЛОНАСОС РАБОЧИЙ ЭКСГ. №4</th>\n",
       "      <th>Y_ЭКСГАУСТЕР А/М №4_ЭЛЕКТРОАППАРАТУРА ЭКСГ. №4</th>\n",
       "      <th>Y_ЭКСГАУСТЕР А/М №4_ПОДШИПНИК ОПОРНЫЙ №2 ЭКСГ. №4</th>\n",
       "      <th>Y_ЭКСГАУСТЕР А/М №4_ЗАДВИЖКА ЭКСГ. №4</th>\n",
       "      <th>Y_ЭКСГАУСТЕР А/М №4_ГСМ ЭКСГ. №4</th>\n",
       "      <th>Y_ЭКСГАУСТЕР А/М №4_ВК 310С ВИБРОПРЕОБРАЗОВАТЕЛЬ ЭКСГ.№4 Т.1</th>\n",
       "      <th>...</th>\n",
       "      <th>Y_ЭКСГАУСТЕР А/М №4_ПОДШИПНИК ОПОРНО-УПОРНЫЙ ЭКСГ. №4</th>\n",
       "      <th>Y_ЭКСГАУСТЕР А/М №4_ЭКСГАУСТЕР А/М №4</th>\n",
       "      <th>Y_ЭКСГАУСТЕР А/М №4_ЗАП. И РЕГ. АРМАТУРА ЭКСГ.№4</th>\n",
       "      <th>Y_ЭКСГАУСТЕР А/М №4_ПОДШИПНИК ОПОРНЫЙ №1 ЭКСГ. №4</th>\n",
       "      <th>Y_ЭКСГАУСТЕР А/М №4_ЭЛ/ДВИГАТЕЛЬ ГАЗ. ЗАДВИЖКИ ЭКСГ. №4</th>\n",
       "      <th>Y_ЭКСГАУСТЕР А/М №4_КЛ1 ТР№4 ДО ЭД ЭКСГАУСТЕРА №4</th>\n",
       "      <th>Y_ЭКСГАУСТЕР А/М №4_КЛ2 ТР№4 ДО ЭД ЭКСГАУСТЕРА №4</th>\n",
       "      <th>Y_ЭКСГАУСТЕР А/М №4_ТР-Р ТМ-4000-10/6 ЭКСГ. №4</th>\n",
       "      <th>Y_ЭКСГАУСТЕР А/М №4_ТИРИСТ. ВОЗБУДИТЕЛЬ ВТ-РЭМ-400 ЭКСГ4 ВУ1</th>\n",
       "      <th>Y_ЭКСГАУСТЕР А/М №4_МАСЛОПРОВОДЫ ЭКСГ №4</th>\n",
       "    </tr>\n",
       "    <tr>\n",
       "      <th>DT</th>\n",
       "      <th></th>\n",
       "      <th></th>\n",
       "      <th></th>\n",
       "      <th></th>\n",
       "      <th></th>\n",
       "      <th></th>\n",
       "      <th></th>\n",
       "      <th></th>\n",
       "      <th></th>\n",
       "      <th></th>\n",
       "      <th></th>\n",
       "      <th></th>\n",
       "      <th></th>\n",
       "      <th></th>\n",
       "      <th></th>\n",
       "      <th></th>\n",
       "      <th></th>\n",
       "      <th></th>\n",
       "      <th></th>\n",
       "      <th></th>\n",
       "      <th></th>\n",
       "    </tr>\n",
       "  </thead>\n",
       "  <tbody>\n",
       "    <tr>\n",
       "      <th>2019-01-16 13:21:00</th>\n",
       "      <td>0.0</td>\n",
       "      <td>0.0</td>\n",
       "      <td>0.0</td>\n",
       "      <td>0.0</td>\n",
       "      <td>0.0</td>\n",
       "      <td>0.0</td>\n",
       "      <td>0.0</td>\n",
       "      <td>0.0</td>\n",
       "      <td>0.0</td>\n",
       "      <td>0.0</td>\n",
       "      <td>...</td>\n",
       "      <td>0.0</td>\n",
       "      <td>0.0</td>\n",
       "      <td>0.0</td>\n",
       "      <td>0.0</td>\n",
       "      <td>0.0</td>\n",
       "      <td>0.0</td>\n",
       "      <td>0.0</td>\n",
       "      <td>0.0</td>\n",
       "      <td>0.0</td>\n",
       "      <td>0.0</td>\n",
       "    </tr>\n",
       "    <tr>\n",
       "      <th>2019-01-16 13:21:10</th>\n",
       "      <td>0.0</td>\n",
       "      <td>0.0</td>\n",
       "      <td>0.0</td>\n",
       "      <td>0.0</td>\n",
       "      <td>0.0</td>\n",
       "      <td>0.0</td>\n",
       "      <td>0.0</td>\n",
       "      <td>0.0</td>\n",
       "      <td>0.0</td>\n",
       "      <td>0.0</td>\n",
       "      <td>...</td>\n",
       "      <td>0.0</td>\n",
       "      <td>0.0</td>\n",
       "      <td>0.0</td>\n",
       "      <td>0.0</td>\n",
       "      <td>0.0</td>\n",
       "      <td>0.0</td>\n",
       "      <td>0.0</td>\n",
       "      <td>0.0</td>\n",
       "      <td>0.0</td>\n",
       "      <td>0.0</td>\n",
       "    </tr>\n",
       "    <tr>\n",
       "      <th>2019-01-16 13:21:20</th>\n",
       "      <td>0.0</td>\n",
       "      <td>0.0</td>\n",
       "      <td>0.0</td>\n",
       "      <td>0.0</td>\n",
       "      <td>0.0</td>\n",
       "      <td>0.0</td>\n",
       "      <td>0.0</td>\n",
       "      <td>0.0</td>\n",
       "      <td>0.0</td>\n",
       "      <td>0.0</td>\n",
       "      <td>...</td>\n",
       "      <td>0.0</td>\n",
       "      <td>0.0</td>\n",
       "      <td>0.0</td>\n",
       "      <td>0.0</td>\n",
       "      <td>0.0</td>\n",
       "      <td>0.0</td>\n",
       "      <td>0.0</td>\n",
       "      <td>0.0</td>\n",
       "      <td>0.0</td>\n",
       "      <td>0.0</td>\n",
       "    </tr>\n",
       "    <tr>\n",
       "      <th>2019-01-16 13:21:30</th>\n",
       "      <td>0.0</td>\n",
       "      <td>0.0</td>\n",
       "      <td>0.0</td>\n",
       "      <td>0.0</td>\n",
       "      <td>0.0</td>\n",
       "      <td>0.0</td>\n",
       "      <td>0.0</td>\n",
       "      <td>0.0</td>\n",
       "      <td>0.0</td>\n",
       "      <td>0.0</td>\n",
       "      <td>...</td>\n",
       "      <td>0.0</td>\n",
       "      <td>0.0</td>\n",
       "      <td>0.0</td>\n",
       "      <td>0.0</td>\n",
       "      <td>0.0</td>\n",
       "      <td>0.0</td>\n",
       "      <td>0.0</td>\n",
       "      <td>0.0</td>\n",
       "      <td>0.0</td>\n",
       "      <td>0.0</td>\n",
       "    </tr>\n",
       "    <tr>\n",
       "      <th>2019-01-16 13:21:40</th>\n",
       "      <td>0.0</td>\n",
       "      <td>0.0</td>\n",
       "      <td>0.0</td>\n",
       "      <td>0.0</td>\n",
       "      <td>0.0</td>\n",
       "      <td>0.0</td>\n",
       "      <td>0.0</td>\n",
       "      <td>0.0</td>\n",
       "      <td>0.0</td>\n",
       "      <td>0.0</td>\n",
       "      <td>...</td>\n",
       "      <td>0.0</td>\n",
       "      <td>0.0</td>\n",
       "      <td>0.0</td>\n",
       "      <td>0.0</td>\n",
       "      <td>0.0</td>\n",
       "      <td>0.0</td>\n",
       "      <td>0.0</td>\n",
       "      <td>0.0</td>\n",
       "      <td>0.0</td>\n",
       "      <td>0.0</td>\n",
       "    </tr>\n",
       "    <tr>\n",
       "      <th>...</th>\n",
       "      <td>...</td>\n",
       "      <td>...</td>\n",
       "      <td>...</td>\n",
       "      <td>...</td>\n",
       "      <td>...</td>\n",
       "      <td>...</td>\n",
       "      <td>...</td>\n",
       "      <td>...</td>\n",
       "      <td>...</td>\n",
       "      <td>...</td>\n",
       "      <td>...</td>\n",
       "      <td>...</td>\n",
       "      <td>...</td>\n",
       "      <td>...</td>\n",
       "      <td>...</td>\n",
       "      <td>...</td>\n",
       "      <td>...</td>\n",
       "      <td>...</td>\n",
       "      <td>...</td>\n",
       "      <td>...</td>\n",
       "      <td>...</td>\n",
       "    </tr>\n",
       "    <tr>\n",
       "      <th>2021-12-31 23:59:10</th>\n",
       "      <td>2.0</td>\n",
       "      <td>2.0</td>\n",
       "      <td>2.0</td>\n",
       "      <td>0.0</td>\n",
       "      <td>0.0</td>\n",
       "      <td>0.0</td>\n",
       "      <td>0.0</td>\n",
       "      <td>2.0</td>\n",
       "      <td>2.0</td>\n",
       "      <td>0.0</td>\n",
       "      <td>...</td>\n",
       "      <td>2.0</td>\n",
       "      <td>0.0</td>\n",
       "      <td>0.0</td>\n",
       "      <td>0.0</td>\n",
       "      <td>0.0</td>\n",
       "      <td>2.0</td>\n",
       "      <td>2.0</td>\n",
       "      <td>2.0</td>\n",
       "      <td>0.0</td>\n",
       "      <td>0.0</td>\n",
       "    </tr>\n",
       "    <tr>\n",
       "      <th>2021-12-31 23:59:20</th>\n",
       "      <td>2.0</td>\n",
       "      <td>2.0</td>\n",
       "      <td>2.0</td>\n",
       "      <td>0.0</td>\n",
       "      <td>0.0</td>\n",
       "      <td>0.0</td>\n",
       "      <td>0.0</td>\n",
       "      <td>2.0</td>\n",
       "      <td>2.0</td>\n",
       "      <td>0.0</td>\n",
       "      <td>...</td>\n",
       "      <td>2.0</td>\n",
       "      <td>0.0</td>\n",
       "      <td>0.0</td>\n",
       "      <td>0.0</td>\n",
       "      <td>0.0</td>\n",
       "      <td>2.0</td>\n",
       "      <td>2.0</td>\n",
       "      <td>2.0</td>\n",
       "      <td>0.0</td>\n",
       "      <td>0.0</td>\n",
       "    </tr>\n",
       "    <tr>\n",
       "      <th>2021-12-31 23:59:30</th>\n",
       "      <td>2.0</td>\n",
       "      <td>2.0</td>\n",
       "      <td>2.0</td>\n",
       "      <td>0.0</td>\n",
       "      <td>0.0</td>\n",
       "      <td>0.0</td>\n",
       "      <td>0.0</td>\n",
       "      <td>2.0</td>\n",
       "      <td>2.0</td>\n",
       "      <td>0.0</td>\n",
       "      <td>...</td>\n",
       "      <td>2.0</td>\n",
       "      <td>0.0</td>\n",
       "      <td>0.0</td>\n",
       "      <td>0.0</td>\n",
       "      <td>0.0</td>\n",
       "      <td>2.0</td>\n",
       "      <td>2.0</td>\n",
       "      <td>2.0</td>\n",
       "      <td>0.0</td>\n",
       "      <td>0.0</td>\n",
       "    </tr>\n",
       "    <tr>\n",
       "      <th>2021-12-31 23:59:40</th>\n",
       "      <td>2.0</td>\n",
       "      <td>2.0</td>\n",
       "      <td>2.0</td>\n",
       "      <td>0.0</td>\n",
       "      <td>0.0</td>\n",
       "      <td>0.0</td>\n",
       "      <td>0.0</td>\n",
       "      <td>2.0</td>\n",
       "      <td>2.0</td>\n",
       "      <td>0.0</td>\n",
       "      <td>...</td>\n",
       "      <td>2.0</td>\n",
       "      <td>0.0</td>\n",
       "      <td>0.0</td>\n",
       "      <td>0.0</td>\n",
       "      <td>0.0</td>\n",
       "      <td>2.0</td>\n",
       "      <td>2.0</td>\n",
       "      <td>2.0</td>\n",
       "      <td>0.0</td>\n",
       "      <td>0.0</td>\n",
       "    </tr>\n",
       "    <tr>\n",
       "      <th>2021-12-31 23:59:50</th>\n",
       "      <td>2.0</td>\n",
       "      <td>2.0</td>\n",
       "      <td>2.0</td>\n",
       "      <td>0.0</td>\n",
       "      <td>0.0</td>\n",
       "      <td>0.0</td>\n",
       "      <td>0.0</td>\n",
       "      <td>2.0</td>\n",
       "      <td>2.0</td>\n",
       "      <td>0.0</td>\n",
       "      <td>...</td>\n",
       "      <td>2.0</td>\n",
       "      <td>0.0</td>\n",
       "      <td>0.0</td>\n",
       "      <td>0.0</td>\n",
       "      <td>0.0</td>\n",
       "      <td>2.0</td>\n",
       "      <td>2.0</td>\n",
       "      <td>2.0</td>\n",
       "      <td>0.0</td>\n",
       "      <td>0.0</td>\n",
       "    </tr>\n",
       "  </tbody>\n",
       "</table>\n",
       "<p>9335034 rows × 23 columns</p>\n",
       "</div>"
      ],
      "text/plain": [
       "                     Y_ЭКСГАУСТЕР А/М №4_ЭЛЕКТРОДВИГАТЕЛЬ ДСПУ-140-84-4 ЭКСГ. №4  \\\n",
       "DT                                                                                 \n",
       "2019-01-16 13:21:00                                                0.0             \n",
       "2019-01-16 13:21:10                                                0.0             \n",
       "2019-01-16 13:21:20                                                0.0             \n",
       "2019-01-16 13:21:30                                                0.0             \n",
       "2019-01-16 13:21:40                                                0.0             \n",
       "...                                                                ...             \n",
       "2021-12-31 23:59:10                                                2.0             \n",
       "2021-12-31 23:59:20                                                2.0             \n",
       "2021-12-31 23:59:30                                                2.0             \n",
       "2021-12-31 23:59:40                                                2.0             \n",
       "2021-12-31 23:59:50                                                2.0             \n",
       "\n",
       "                     Y_ЭКСГАУСТЕР А/М №4_ПОДШИПНИК ОПОРНЫЙ ЭКСГ. №4  \\\n",
       "DT                                                                    \n",
       "2019-01-16 13:21:00                                             0.0   \n",
       "2019-01-16 13:21:10                                             0.0   \n",
       "2019-01-16 13:21:20                                             0.0   \n",
       "2019-01-16 13:21:30                                             0.0   \n",
       "2019-01-16 13:21:40                                             0.0   \n",
       "...                                                             ...   \n",
       "2021-12-31 23:59:10                                             2.0   \n",
       "2021-12-31 23:59:20                                             2.0   \n",
       "2021-12-31 23:59:30                                             2.0   \n",
       "2021-12-31 23:59:40                                             2.0   \n",
       "2021-12-31 23:59:50                                             2.0   \n",
       "\n",
       "                     Y_ЭКСГАУСТЕР А/М №4_УЛИТА ЭКСГ. №4  \\\n",
       "DT                                                        \n",
       "2019-01-16 13:21:00                                 0.0   \n",
       "2019-01-16 13:21:10                                 0.0   \n",
       "2019-01-16 13:21:20                                 0.0   \n",
       "2019-01-16 13:21:30                                 0.0   \n",
       "2019-01-16 13:21:40                                 0.0   \n",
       "...                                                 ...   \n",
       "2021-12-31 23:59:10                                 2.0   \n",
       "2021-12-31 23:59:20                                 2.0   \n",
       "2021-12-31 23:59:30                                 2.0   \n",
       "2021-12-31 23:59:40                                 2.0   \n",
       "2021-12-31 23:59:50                                 2.0   \n",
       "\n",
       "                     Y_ЭКСГАУСТЕР А/М №4_РЕДУКТОР ГАЗ. ЗАДВИЖКИ ЭКСГ. №4  \\\n",
       "DT                                                                         \n",
       "2019-01-16 13:21:00                                                0.0     \n",
       "2019-01-16 13:21:10                                                0.0     \n",
       "2019-01-16 13:21:20                                                0.0     \n",
       "2019-01-16 13:21:30                                                0.0     \n",
       "2019-01-16 13:21:40                                                0.0     \n",
       "...                                                                ...     \n",
       "2021-12-31 23:59:10                                                0.0     \n",
       "2021-12-31 23:59:20                                                0.0     \n",
       "2021-12-31 23:59:30                                                0.0     \n",
       "2021-12-31 23:59:40                                                0.0     \n",
       "2021-12-31 23:59:50                                                0.0     \n",
       "\n",
       "                     Y_ЭКСГАУСТЕР А/М №4_МАСЛОНАСОС РАБОЧИЙ ЭКСГ. №4  \\\n",
       "DT                                                                     \n",
       "2019-01-16 13:21:00                                              0.0   \n",
       "2019-01-16 13:21:10                                              0.0   \n",
       "2019-01-16 13:21:20                                              0.0   \n",
       "2019-01-16 13:21:30                                              0.0   \n",
       "2019-01-16 13:21:40                                              0.0   \n",
       "...                                                              ...   \n",
       "2021-12-31 23:59:10                                              0.0   \n",
       "2021-12-31 23:59:20                                              0.0   \n",
       "2021-12-31 23:59:30                                              0.0   \n",
       "2021-12-31 23:59:40                                              0.0   \n",
       "2021-12-31 23:59:50                                              0.0   \n",
       "\n",
       "                     Y_ЭКСГАУСТЕР А/М №4_ЭЛЕКТРОАППАРАТУРА ЭКСГ. №4  \\\n",
       "DT                                                                    \n",
       "2019-01-16 13:21:00                                             0.0   \n",
       "2019-01-16 13:21:10                                             0.0   \n",
       "2019-01-16 13:21:20                                             0.0   \n",
       "2019-01-16 13:21:30                                             0.0   \n",
       "2019-01-16 13:21:40                                             0.0   \n",
       "...                                                             ...   \n",
       "2021-12-31 23:59:10                                             0.0   \n",
       "2021-12-31 23:59:20                                             0.0   \n",
       "2021-12-31 23:59:30                                             0.0   \n",
       "2021-12-31 23:59:40                                             0.0   \n",
       "2021-12-31 23:59:50                                             0.0   \n",
       "\n",
       "                     Y_ЭКСГАУСТЕР А/М №4_ПОДШИПНИК ОПОРНЫЙ №2 ЭКСГ. №4  \\\n",
       "DT                                                                       \n",
       "2019-01-16 13:21:00                                                0.0   \n",
       "2019-01-16 13:21:10                                                0.0   \n",
       "2019-01-16 13:21:20                                                0.0   \n",
       "2019-01-16 13:21:30                                                0.0   \n",
       "2019-01-16 13:21:40                                                0.0   \n",
       "...                                                                ...   \n",
       "2021-12-31 23:59:10                                                0.0   \n",
       "2021-12-31 23:59:20                                                0.0   \n",
       "2021-12-31 23:59:30                                                0.0   \n",
       "2021-12-31 23:59:40                                                0.0   \n",
       "2021-12-31 23:59:50                                                0.0   \n",
       "\n",
       "                     Y_ЭКСГАУСТЕР А/М №4_ЗАДВИЖКА ЭКСГ. №4  \\\n",
       "DT                                                           \n",
       "2019-01-16 13:21:00                                    0.0   \n",
       "2019-01-16 13:21:10                                    0.0   \n",
       "2019-01-16 13:21:20                                    0.0   \n",
       "2019-01-16 13:21:30                                    0.0   \n",
       "2019-01-16 13:21:40                                    0.0   \n",
       "...                                                    ...   \n",
       "2021-12-31 23:59:10                                    2.0   \n",
       "2021-12-31 23:59:20                                    2.0   \n",
       "2021-12-31 23:59:30                                    2.0   \n",
       "2021-12-31 23:59:40                                    2.0   \n",
       "2021-12-31 23:59:50                                    2.0   \n",
       "\n",
       "                     Y_ЭКСГАУСТЕР А/М №4_ГСМ ЭКСГ. №4  \\\n",
       "DT                                                      \n",
       "2019-01-16 13:21:00                               0.0   \n",
       "2019-01-16 13:21:10                               0.0   \n",
       "2019-01-16 13:21:20                               0.0   \n",
       "2019-01-16 13:21:30                               0.0   \n",
       "2019-01-16 13:21:40                               0.0   \n",
       "...                                               ...   \n",
       "2021-12-31 23:59:10                               2.0   \n",
       "2021-12-31 23:59:20                               2.0   \n",
       "2021-12-31 23:59:30                               2.0   \n",
       "2021-12-31 23:59:40                               2.0   \n",
       "2021-12-31 23:59:50                               2.0   \n",
       "\n",
       "                     Y_ЭКСГАУСТЕР А/М №4_ВК 310С ВИБРОПРЕОБРАЗОВАТЕЛЬ ЭКСГ.№4 Т.1  \\\n",
       "DT                                                                                  \n",
       "2019-01-16 13:21:00                                                0.0              \n",
       "2019-01-16 13:21:10                                                0.0              \n",
       "2019-01-16 13:21:20                                                0.0              \n",
       "2019-01-16 13:21:30                                                0.0              \n",
       "2019-01-16 13:21:40                                                0.0              \n",
       "...                                                                ...              \n",
       "2021-12-31 23:59:10                                                0.0              \n",
       "2021-12-31 23:59:20                                                0.0              \n",
       "2021-12-31 23:59:30                                                0.0              \n",
       "2021-12-31 23:59:40                                                0.0              \n",
       "2021-12-31 23:59:50                                                0.0              \n",
       "\n",
       "                     ...  \\\n",
       "DT                   ...   \n",
       "2019-01-16 13:21:00  ...   \n",
       "2019-01-16 13:21:10  ...   \n",
       "2019-01-16 13:21:20  ...   \n",
       "2019-01-16 13:21:30  ...   \n",
       "2019-01-16 13:21:40  ...   \n",
       "...                  ...   \n",
       "2021-12-31 23:59:10  ...   \n",
       "2021-12-31 23:59:20  ...   \n",
       "2021-12-31 23:59:30  ...   \n",
       "2021-12-31 23:59:40  ...   \n",
       "2021-12-31 23:59:50  ...   \n",
       "\n",
       "                     Y_ЭКСГАУСТЕР А/М №4_ПОДШИПНИК ОПОРНО-УПОРНЫЙ ЭКСГ. №4  \\\n",
       "DT                                                                           \n",
       "2019-01-16 13:21:00                                                0.0       \n",
       "2019-01-16 13:21:10                                                0.0       \n",
       "2019-01-16 13:21:20                                                0.0       \n",
       "2019-01-16 13:21:30                                                0.0       \n",
       "2019-01-16 13:21:40                                                0.0       \n",
       "...                                                                ...       \n",
       "2021-12-31 23:59:10                                                2.0       \n",
       "2021-12-31 23:59:20                                                2.0       \n",
       "2021-12-31 23:59:30                                                2.0       \n",
       "2021-12-31 23:59:40                                                2.0       \n",
       "2021-12-31 23:59:50                                                2.0       \n",
       "\n",
       "                     Y_ЭКСГАУСТЕР А/М №4_ЭКСГАУСТЕР А/М №4  \\\n",
       "DT                                                           \n",
       "2019-01-16 13:21:00                                    0.0   \n",
       "2019-01-16 13:21:10                                    0.0   \n",
       "2019-01-16 13:21:20                                    0.0   \n",
       "2019-01-16 13:21:30                                    0.0   \n",
       "2019-01-16 13:21:40                                    0.0   \n",
       "...                                                    ...   \n",
       "2021-12-31 23:59:10                                    0.0   \n",
       "2021-12-31 23:59:20                                    0.0   \n",
       "2021-12-31 23:59:30                                    0.0   \n",
       "2021-12-31 23:59:40                                    0.0   \n",
       "2021-12-31 23:59:50                                    0.0   \n",
       "\n",
       "                     Y_ЭКСГАУСТЕР А/М №4_ЗАП. И РЕГ. АРМАТУРА ЭКСГ.№4  \\\n",
       "DT                                                                      \n",
       "2019-01-16 13:21:00                                               0.0   \n",
       "2019-01-16 13:21:10                                               0.0   \n",
       "2019-01-16 13:21:20                                               0.0   \n",
       "2019-01-16 13:21:30                                               0.0   \n",
       "2019-01-16 13:21:40                                               0.0   \n",
       "...                                                               ...   \n",
       "2021-12-31 23:59:10                                               0.0   \n",
       "2021-12-31 23:59:20                                               0.0   \n",
       "2021-12-31 23:59:30                                               0.0   \n",
       "2021-12-31 23:59:40                                               0.0   \n",
       "2021-12-31 23:59:50                                               0.0   \n",
       "\n",
       "                     Y_ЭКСГАУСТЕР А/М №4_ПОДШИПНИК ОПОРНЫЙ №1 ЭКСГ. №4  \\\n",
       "DT                                                                       \n",
       "2019-01-16 13:21:00                                                0.0   \n",
       "2019-01-16 13:21:10                                                0.0   \n",
       "2019-01-16 13:21:20                                                0.0   \n",
       "2019-01-16 13:21:30                                                0.0   \n",
       "2019-01-16 13:21:40                                                0.0   \n",
       "...                                                                ...   \n",
       "2021-12-31 23:59:10                                                0.0   \n",
       "2021-12-31 23:59:20                                                0.0   \n",
       "2021-12-31 23:59:30                                                0.0   \n",
       "2021-12-31 23:59:40                                                0.0   \n",
       "2021-12-31 23:59:50                                                0.0   \n",
       "\n",
       "                     Y_ЭКСГАУСТЕР А/М №4_ЭЛ/ДВИГАТЕЛЬ ГАЗ. ЗАДВИЖКИ ЭКСГ. №4  \\\n",
       "DT                                                                             \n",
       "2019-01-16 13:21:00                                                0.0         \n",
       "2019-01-16 13:21:10                                                0.0         \n",
       "2019-01-16 13:21:20                                                0.0         \n",
       "2019-01-16 13:21:30                                                0.0         \n",
       "2019-01-16 13:21:40                                                0.0         \n",
       "...                                                                ...         \n",
       "2021-12-31 23:59:10                                                0.0         \n",
       "2021-12-31 23:59:20                                                0.0         \n",
       "2021-12-31 23:59:30                                                0.0         \n",
       "2021-12-31 23:59:40                                                0.0         \n",
       "2021-12-31 23:59:50                                                0.0         \n",
       "\n",
       "                     Y_ЭКСГАУСТЕР А/М №4_КЛ1 ТР№4 ДО ЭД ЭКСГАУСТЕРА №4  \\\n",
       "DT                                                                       \n",
       "2019-01-16 13:21:00                                                0.0   \n",
       "2019-01-16 13:21:10                                                0.0   \n",
       "2019-01-16 13:21:20                                                0.0   \n",
       "2019-01-16 13:21:30                                                0.0   \n",
       "2019-01-16 13:21:40                                                0.0   \n",
       "...                                                                ...   \n",
       "2021-12-31 23:59:10                                                2.0   \n",
       "2021-12-31 23:59:20                                                2.0   \n",
       "2021-12-31 23:59:30                                                2.0   \n",
       "2021-12-31 23:59:40                                                2.0   \n",
       "2021-12-31 23:59:50                                                2.0   \n",
       "\n",
       "                     Y_ЭКСГАУСТЕР А/М №4_КЛ2 ТР№4 ДО ЭД ЭКСГАУСТЕРА №4  \\\n",
       "DT                                                                       \n",
       "2019-01-16 13:21:00                                                0.0   \n",
       "2019-01-16 13:21:10                                                0.0   \n",
       "2019-01-16 13:21:20                                                0.0   \n",
       "2019-01-16 13:21:30                                                0.0   \n",
       "2019-01-16 13:21:40                                                0.0   \n",
       "...                                                                ...   \n",
       "2021-12-31 23:59:10                                                2.0   \n",
       "2021-12-31 23:59:20                                                2.0   \n",
       "2021-12-31 23:59:30                                                2.0   \n",
       "2021-12-31 23:59:40                                                2.0   \n",
       "2021-12-31 23:59:50                                                2.0   \n",
       "\n",
       "                     Y_ЭКСГАУСТЕР А/М №4_ТР-Р ТМ-4000-10/6 ЭКСГ. №4  \\\n",
       "DT                                                                    \n",
       "2019-01-16 13:21:00                                             0.0   \n",
       "2019-01-16 13:21:10                                             0.0   \n",
       "2019-01-16 13:21:20                                             0.0   \n",
       "2019-01-16 13:21:30                                             0.0   \n",
       "2019-01-16 13:21:40                                             0.0   \n",
       "...                                                             ...   \n",
       "2021-12-31 23:59:10                                             2.0   \n",
       "2021-12-31 23:59:20                                             2.0   \n",
       "2021-12-31 23:59:30                                             2.0   \n",
       "2021-12-31 23:59:40                                             2.0   \n",
       "2021-12-31 23:59:50                                             2.0   \n",
       "\n",
       "                     Y_ЭКСГАУСТЕР А/М №4_ТИРИСТ. ВОЗБУДИТЕЛЬ ВТ-РЭМ-400 ЭКСГ4 ВУ1  \\\n",
       "DT                                                                                  \n",
       "2019-01-16 13:21:00                                                0.0              \n",
       "2019-01-16 13:21:10                                                0.0              \n",
       "2019-01-16 13:21:20                                                0.0              \n",
       "2019-01-16 13:21:30                                                0.0              \n",
       "2019-01-16 13:21:40                                                0.0              \n",
       "...                                                                ...              \n",
       "2021-12-31 23:59:10                                                0.0              \n",
       "2021-12-31 23:59:20                                                0.0              \n",
       "2021-12-31 23:59:30                                                0.0              \n",
       "2021-12-31 23:59:40                                                0.0              \n",
       "2021-12-31 23:59:50                                                0.0              \n",
       "\n",
       "                     Y_ЭКСГАУСТЕР А/М №4_МАСЛОПРОВОДЫ ЭКСГ №4  \n",
       "DT                                                             \n",
       "2019-01-16 13:21:00                                       0.0  \n",
       "2019-01-16 13:21:10                                       0.0  \n",
       "2019-01-16 13:21:20                                       0.0  \n",
       "2019-01-16 13:21:30                                       0.0  \n",
       "2019-01-16 13:21:40                                       0.0  \n",
       "...                                                       ...  \n",
       "2021-12-31 23:59:10                                       0.0  \n",
       "2021-12-31 23:59:20                                       0.0  \n",
       "2021-12-31 23:59:30                                       0.0  \n",
       "2021-12-31 23:59:40                                       0.0  \n",
       "2021-12-31 23:59:50                                       0.0  \n",
       "\n",
       "[9335034 rows x 23 columns]"
      ]
     },
     "execution_count": 4,
     "metadata": {},
     "output_type": "execute_result"
    }
   ],
   "source": [
    "y_train = pd.read_csv(\"/kaggle/input/y-train-northsteel-instances/y_ЭКСГАУСТЕР АМ 4.csv\", parse_dates=True)\n",
    "y_train = y_train.set_index(\"DT\")\n",
    "y_train"
   ]
  },
  {
   "cell_type": "code",
   "execution_count": 5,
   "id": "9b319d9e",
   "metadata": {
    "execution": {
     "iopub.execute_input": "2023-05-28T15:18:32.365442Z",
     "iopub.status.busy": "2023-05-28T15:18:32.364742Z",
     "iopub.status.idle": "2023-05-28T15:18:37.679926Z",
     "shell.execute_reply": "2023-05-28T15:18:37.678756Z"
    },
    "papermill": {
     "duration": 5.324728,
     "end_time": "2023-05-28T15:18:37.682370",
     "exception": false,
     "start_time": "2023-05-28T15:18:32.357642",
     "status": "completed"
    },
    "tags": []
   },
   "outputs": [
    {
     "name": "stdout",
     "output_type": "stream",
     "text": [
      "Y_ЭКСГАУСТЕР А/М №4_ЭЛЕКТРОДВИГАТЕЛЬ ДСПУ-140-84-4 ЭКСГ. №4 M1 [0 1]\n",
      "Y_ЭКСГАУСТЕР А/М №4_ЭЛЕКТРОДВИГАТЕЛЬ ДСПУ-140-84-4 ЭКСГ. №4 M3 [0 1]\n",
      "Y_ЭКСГАУСТЕР А/М №4_ПОДШИПНИК ОПОРНЫЙ ЭКСГ. №4 M1 [0]\n",
      "Y_ЭКСГАУСТЕР А/М №4_ПОДШИПНИК ОПОРНЫЙ ЭКСГ. №4 M3 [0 1]\n",
      "Y_ЭКСГАУСТЕР А/М №4_УЛИТА ЭКСГ. №4 M1 [0]\n",
      "Y_ЭКСГАУСТЕР А/М №4_УЛИТА ЭКСГ. №4 M3 [0 1]\n",
      "Y_ЭКСГАУСТЕР А/М №4_РЕДУКТОР ГАЗ. ЗАДВИЖКИ ЭКСГ. №4 M1 [0 1]\n",
      "Y_ЭКСГАУСТЕР А/М №4_РЕДУКТОР ГАЗ. ЗАДВИЖКИ ЭКСГ. №4 M3 [0 1]\n",
      "Y_ЭКСГАУСТЕР А/М №4_МАСЛОНАСОС РАБОЧИЙ ЭКСГ. №4 M1 [0]\n",
      "Y_ЭКСГАУСТЕР А/М №4_МАСЛОНАСОС РАБОЧИЙ ЭКСГ. №4 M3 [0 1]\n",
      "Y_ЭКСГАУСТЕР А/М №4_ЭЛЕКТРОАППАРАТУРА ЭКСГ. №4 M1 [0 1]\n",
      "Y_ЭКСГАУСТЕР А/М №4_ЭЛЕКТРОАППАРАТУРА ЭКСГ. №4 M3 [0 1]\n",
      "Y_ЭКСГАУСТЕР А/М №4_ПОДШИПНИК ОПОРНЫЙ №2 ЭКСГ. №4 M1 [0 1]\n",
      "Y_ЭКСГАУСТЕР А/М №4_ПОДШИПНИК ОПОРНЫЙ №2 ЭКСГ. №4 M3 [0 1]\n",
      "Y_ЭКСГАУСТЕР А/М №4_ЗАДВИЖКА ЭКСГ. №4 M1 [0 1]\n",
      "Y_ЭКСГАУСТЕР А/М №4_ЗАДВИЖКА ЭКСГ. №4 M3 [0 1]\n",
      "Y_ЭКСГАУСТЕР А/М №4_ГСМ ЭКСГ. №4 M1 [0]\n",
      "Y_ЭКСГАУСТЕР А/М №4_ГСМ ЭКСГ. №4 M3 [0 1]\n",
      "Y_ЭКСГАУСТЕР А/М №4_ВК 310С ВИБРОПРЕОБРАЗОВАТЕЛЬ ЭКСГ.№4 Т.1 M1 [0]\n",
      "Y_ЭКСГАУСТЕР А/М №4_ВК 310С ВИБРОПРЕОБРАЗОВАТЕЛЬ ЭКСГ.№4 Т.1 M3 [0 1]\n",
      "Y_ЭКСГАУСТЕР А/М №4_ТСМТ-101-010-50М-400 ТЕРМОПР.ПОДШ.Т.1 M1 [0]\n",
      "Y_ЭКСГАУСТЕР А/М №4_ТСМТ-101-010-50М-400 ТЕРМОПР.ПОДШ.Т.1 M3 [0 1]\n",
      "Y_ЭКСГАУСТЕР А/М №4_РОТОР ЭКСГ. №4 M1 [0 1]\n",
      "Y_ЭКСГАУСТЕР А/М №4_РОТОР ЭКСГ. №4 M3 [0 1]\n",
      "Y_ЭКСГАУСТЕР А/М №4_МАСЛООХЛАДИТЕЛЬ  М-05-1 ЭКСГ. №4 M1 [0]\n",
      "Y_ЭКСГАУСТЕР А/М №4_МАСЛООХЛАДИТЕЛЬ  М-05-1 ЭКСГ. №4 M3 [0 1]\n",
      "Y_ЭКСГАУСТЕР А/М №4_ПОДШИПНИК ОПОРНО-УПОРНЫЙ ЭКСГ. №4 M1 [0 1]\n",
      "Y_ЭКСГАУСТЕР А/М №4_ПОДШИПНИК ОПОРНО-УПОРНЫЙ ЭКСГ. №4 M3 [0 1]\n",
      "Y_ЭКСГАУСТЕР А/М №4_ЭКСГАУСТЕР А/М №4 M1 [0 1]\n",
      "Y_ЭКСГАУСТЕР А/М №4_ЭКСГАУСТЕР А/М №4 M3 [0]\n",
      "Y_ЭКСГАУСТЕР А/М №4_ЗАП. И РЕГ. АРМАТУРА ЭКСГ.№4 M1 [0]\n",
      "Y_ЭКСГАУСТЕР А/М №4_ЗАП. И РЕГ. АРМАТУРА ЭКСГ.№4 M3 [0 1]\n",
      "Y_ЭКСГАУСТЕР А/М №4_ПОДШИПНИК ОПОРНЫЙ №1 ЭКСГ. №4 M1 [0]\n",
      "Y_ЭКСГАУСТЕР А/М №4_ПОДШИПНИК ОПОРНЫЙ №1 ЭКСГ. №4 M3 [0 1]\n",
      "Y_ЭКСГАУСТЕР А/М №4_ЭЛ/ДВИГАТЕЛЬ ГАЗ. ЗАДВИЖКИ ЭКСГ. №4 M1 [0]\n",
      "Y_ЭКСГАУСТЕР А/М №4_ЭЛ/ДВИГАТЕЛЬ ГАЗ. ЗАДВИЖКИ ЭКСГ. №4 M3 [0 1]\n",
      "Y_ЭКСГАУСТЕР А/М №4_КЛ1 ТР№4 ДО ЭД ЭКСГАУСТЕРА №4 M1 [0]\n",
      "Y_ЭКСГАУСТЕР А/М №4_КЛ1 ТР№4 ДО ЭД ЭКСГАУСТЕРА №4 M3 [0 1]\n",
      "Y_ЭКСГАУСТЕР А/М №4_КЛ2 ТР№4 ДО ЭД ЭКСГАУСТЕРА №4 M1 [0]\n",
      "Y_ЭКСГАУСТЕР А/М №4_КЛ2 ТР№4 ДО ЭД ЭКСГАУСТЕРА №4 M3 [0 1]\n",
      "Y_ЭКСГАУСТЕР А/М №4_ТР-Р ТМ-4000-10/6 ЭКСГ. №4 M1 [0]\n",
      "Y_ЭКСГАУСТЕР А/М №4_ТР-Р ТМ-4000-10/6 ЭКСГ. №4 M3 [0 1]\n",
      "Y_ЭКСГАУСТЕР А/М №4_ТИРИСТ. ВОЗБУДИТЕЛЬ ВТ-РЭМ-400 ЭКСГ4 ВУ1 M1 [0]\n",
      "Y_ЭКСГАУСТЕР А/М №4_ТИРИСТ. ВОЗБУДИТЕЛЬ ВТ-РЭМ-400 ЭКСГ4 ВУ1 M3 [0 1]\n",
      "Y_ЭКСГАУСТЕР А/М №4_МАСЛОПРОВОДЫ ЭКСГ №4 M1 [0]\n",
      "Y_ЭКСГАУСТЕР А/М №4_МАСЛОПРОВОДЫ ЭКСГ №4 M3 [0]\n"
     ]
    }
   ],
   "source": [
    "for col in y_train.columns:\n",
    "    if not ((col[-2:] == \"M1\") or (col[-2:] ==\"M3\")):\n",
    "        y_train[col+\" M1\"] = 1*(y_train[col]==1)\n",
    "        y_train[col+\" M3\"] = 1*(y_train[col]==2)\n",
    "        del y_train[col]\n",
    "for col in y_train.columns:\n",
    "    print(col, y_train[col].unique())"
   ]
  },
  {
   "cell_type": "code",
   "execution_count": 6,
   "id": "4bd714a1",
   "metadata": {
    "execution": {
     "iopub.execute_input": "2023-05-28T15:18:37.698227Z",
     "iopub.status.busy": "2023-05-28T15:18:37.697812Z",
     "iopub.status.idle": "2023-05-28T15:19:11.426091Z",
     "shell.execute_reply": "2023-05-28T15:19:11.424779Z"
    },
    "papermill": {
     "duration": 33.740019,
     "end_time": "2023-05-28T15:19:11.429093",
     "exception": false,
     "start_time": "2023-05-28T15:18:37.689074",
     "status": "completed"
    },
    "tags": []
   },
   "outputs": [],
   "source": [
    "index = sorted(set(y_train.index.values).intersection(X_train.index.values))\n",
    "y_train = y_train.loc[index]\n",
    "y_train = y_train.dropna()\n",
    "index = y_train.index.values\n",
    "X_train = X_train.loc[index]"
   ]
  },
  {
   "cell_type": "code",
   "execution_count": 7,
   "id": "2955775a",
   "metadata": {
    "execution": {
     "iopub.execute_input": "2023-05-28T15:19:11.445270Z",
     "iopub.status.busy": "2023-05-28T15:19:11.444834Z",
     "iopub.status.idle": "2023-05-28T15:19:11.450024Z",
     "shell.execute_reply": "2023-05-28T15:19:11.449097Z"
    },
    "papermill": {
     "duration": 0.016136,
     "end_time": "2023-05-28T15:19:11.452361",
     "exception": false,
     "start_time": "2023-05-28T15:19:11.436225",
     "status": "completed"
    },
    "tags": []
   },
   "outputs": [],
   "source": [
    "def featurize(df):\n",
    "    return df"
   ]
  },
  {
   "cell_type": "code",
   "execution_count": 8,
   "id": "89709442",
   "metadata": {
    "execution": {
     "iopub.execute_input": "2023-05-28T15:19:11.468934Z",
     "iopub.status.busy": "2023-05-28T15:19:11.468518Z",
     "iopub.status.idle": "2023-05-28T15:40:54.437045Z",
     "shell.execute_reply": "2023-05-28T15:40:54.435490Z"
    },
    "papermill": {
     "duration": 1302.980636,
     "end_time": "2023-05-28T15:40:54.440172",
     "exception": false,
     "start_time": "2023-05-28T15:19:11.459536",
     "status": "completed"
    },
    "tags": []
   },
   "outputs": [
    {
     "data": {
      "application/vnd.jupyter.widget-view+json": {
       "model_id": "212b6f5673b140fca3af831d8fecaa6f",
       "version_major": 2,
       "version_minor": 0
      },
      "text/plain": [
       "MetricVisualizer(layout=Layout(align_self='stretch', height='500px'))"
      ]
     },
     "metadata": {},
     "output_type": "display_data"
    },
    {
     "name": "stdout",
     "output_type": "stream",
     "text": [
      "0:\tlearn: 0.6613911\ttest: 0.6636037\tbest: 0.6636037 (0)\ttotal: 588ms\tremaining: 58.2s\n",
      "50:\tlearn: 0.1134329\ttest: 0.1136208\tbest: 0.1136208 (50)\ttotal: 21.9s\tremaining: 21s\n",
      "99:\tlearn: 0.0249834\ttest: 0.0250195\tbest: 0.0250195 (99)\ttotal: 42.2s\tremaining: 0us\n",
      "\n",
      "bestTest = 0.02501949179\n",
      "bestIteration = 99\n",
      "\n",
      "                                           0\n",
      "ТОК РОТОРА 1                        1.197995\n",
      "ТОК РОТОРА 2                        3.283113\n",
      "ТОК СТАТОРА                         0.490282\n",
      "ВИБРАЦИЯ НА ОПОРЕ 1                 0.631597\n",
      "ВИБРАЦИЯ НА ОПОРЕ 2                 3.122254\n",
      "ВИБРАЦИЯ НА ОПОРЕ 3                 5.587161\n",
      "ВИБРАЦИЯ НА ОПОРЕ 3. ПРОДОЛЬНАЯ     4.130228\n",
      "ВИБРАЦИЯ НА ОПОРЕ 4                 3.756213\n",
      "ВИБРАЦИЯ НА ОПОРЕ 4. ПРОДОЛЬНАЯ     5.570660\n",
      "ТЕМПЕРАТУРА ПОДШИПНИКА НА ОПОРЕ 1   6.820324\n",
      "ТЕМПЕРАТУРА ПОДШИПНИКА НА ОПОРЕ 2  15.888265\n",
      "ТЕМПЕРАТУРА ПОДШИПНИКА НА ОПОРЕ 3  30.945602\n",
      "ТЕМПЕРАТУРА ПОДШИПНИКА НА ОПОРЕ 4   4.549052\n",
      "ТЕМПЕРАТУРА МАСЛА В МАСЛОБЛОКЕ      3.022798\n",
      "ТЕМПЕРАТУРА МАСЛА В СИСТЕМЕ         6.158151\n",
      "ДАВЛЕНИЕ МАСЛА В СИСТЕМЕ            4.846303\n",
      "Y_ЭКСГАУСТЕР А/М №4_ЭЛЕКТРОДВИГАТЕЛЬ ДСПУ-140-84-4 ЭКСГ. №4 M1 1.0 1 0 0\n"
     ]
    },
    {
     "data": {
      "application/vnd.jupyter.widget-view+json": {
       "model_id": "a7e1738ec11c4b66878cae4f291ff31b",
       "version_major": 2,
       "version_minor": 0
      },
      "text/plain": [
       "MetricVisualizer(layout=Layout(align_self='stretch', height='500px'))"
      ]
     },
     "metadata": {},
     "output_type": "display_data"
    },
    {
     "name": "stdout",
     "output_type": "stream",
     "text": [
      "0:\tlearn: 0.6718941\ttest: 0.6721339\tbest: 0.6721339 (0)\ttotal: 500ms\tremaining: 49.5s\n",
      "50:\tlearn: 0.2502299\ttest: 0.2507911\tbest: 0.2507911 (50)\ttotal: 21.5s\tremaining: 20.7s\n",
      "99:\tlearn: 0.1430155\ttest: 0.1422245\tbest: 0.1422245 (99)\ttotal: 42.1s\tremaining: 0us\n",
      "\n",
      "bestTest = 0.1422244695\n",
      "bestIteration = 99\n",
      "\n",
      "                                           0\n",
      "ТОК РОТОРА 1                       12.350511\n",
      "ТОК РОТОРА 2                        8.166722\n",
      "ТОК СТАТОРА                         1.784646\n",
      "ВИБРАЦИЯ НА ОПОРЕ 1                 0.433957\n",
      "ВИБРАЦИЯ НА ОПОРЕ 2                 0.891799\n",
      "ВИБРАЦИЯ НА ОПОРЕ 3                 2.623749\n",
      "ВИБРАЦИЯ НА ОПОРЕ 3. ПРОДОЛЬНАЯ     8.932482\n",
      "ВИБРАЦИЯ НА ОПОРЕ 4                 7.000866\n",
      "ВИБРАЦИЯ НА ОПОРЕ 4. ПРОДОЛЬНАЯ     6.086611\n",
      "ТЕМПЕРАТУРА ПОДШИПНИКА НА ОПОРЕ 1   2.368044\n",
      "ТЕМПЕРАТУРА ПОДШИПНИКА НА ОПОРЕ 2  13.029658\n",
      "ТЕМПЕРАТУРА ПОДШИПНИКА НА ОПОРЕ 3   1.727198\n",
      "ТЕМПЕРАТУРА ПОДШИПНИКА НА ОПОРЕ 4   0.557381\n",
      "ТЕМПЕРАТУРА МАСЛА В МАСЛОБЛОКЕ      0.000000\n",
      "ТЕМПЕРАТУРА МАСЛА В СИСТЕМЕ        25.278621\n",
      "ДАВЛЕНИЕ МАСЛА В СИСТЕМЕ            8.767754\n",
      "Y_ЭКСГАУСТЕР А/М №4_ЭЛЕКТРОДВИГАТЕЛЬ ДСПУ-140-84-4 ЭКСГ. №4 M3 0.9612713113028836 4567 44 140\n"
     ]
    },
    {
     "data": {
      "application/vnd.jupyter.widget-view+json": {
       "model_id": "9399c320b47b4e5684fbe0d0aa5acbe3",
       "version_major": 2,
       "version_minor": 0
      },
      "text/plain": [
       "MetricVisualizer(layout=Layout(align_self='stretch', height='500px'))"
      ]
     },
     "metadata": {},
     "output_type": "display_data"
    },
    {
     "name": "stdout",
     "output_type": "stream",
     "text": [
      "0:\tlearn: 0.6748660\ttest: 0.6746855\tbest: 0.6746855 (0)\ttotal: 465ms\tremaining: 46s\n",
      "50:\tlearn: 0.2752911\ttest: 0.2777515\tbest: 0.2777515 (50)\ttotal: 21.6s\tremaining: 20.7s\n",
      "99:\tlearn: 0.1635073\ttest: 0.1664180\tbest: 0.1664180 (99)\ttotal: 42.7s\tremaining: 0us\n",
      "\n",
      "bestTest = 0.1664180102\n",
      "bestIteration = 99\n",
      "\n",
      "                                           0\n",
      "ТОК РОТОРА 1                        8.241106\n",
      "ТОК РОТОРА 2                        7.147329\n",
      "ТОК СТАТОРА                         1.977909\n",
      "ВИБРАЦИЯ НА ОПОРЕ 1                 0.335808\n",
      "ВИБРАЦИЯ НА ОПОРЕ 2                 1.595111\n",
      "ВИБРАЦИЯ НА ОПОРЕ 3                 0.408806\n",
      "ВИБРАЦИЯ НА ОПОРЕ 3. ПРОДОЛЬНАЯ     4.399166\n",
      "ВИБРАЦИЯ НА ОПОРЕ 4                 6.878956\n",
      "ВИБРАЦИЯ НА ОПОРЕ 4. ПРОДОЛЬНАЯ    15.139136\n",
      "ТЕМПЕРАТУРА ПОДШИПНИКА НА ОПОРЕ 1   4.715580\n",
      "ТЕМПЕРАТУРА ПОДШИПНИКА НА ОПОРЕ 2  15.149710\n",
      "ТЕМПЕРАТУРА ПОДШИПНИКА НА ОПОРЕ 3   4.512364\n",
      "ТЕМПЕРАТУРА ПОДШИПНИКА НА ОПОРЕ 4   0.000000\n",
      "ТЕМПЕРАТУРА МАСЛА В МАСЛОБЛОКЕ      0.000000\n",
      "ТЕМПЕРАТУРА МАСЛА В СИСТЕМЕ        20.699038\n",
      "ДАВЛЕНИЕ МАСЛА В СИСТЕМЕ            8.799984\n",
      "Y_ЭКСГАУСТЕР А/М №4_ПОДШИПНИК ОПОРНЫЙ ЭКСГ. №4 M3 0.957657829486935 5021 138 84\n"
     ]
    },
    {
     "data": {
      "application/vnd.jupyter.widget-view+json": {
       "model_id": "4837eec02c464974a7003d1e66bf7653",
       "version_major": 2,
       "version_minor": 0
      },
      "text/plain": [
       "MetricVisualizer(layout=Layout(align_self='stretch', height='500px'))"
      ]
     },
     "metadata": {},
     "output_type": "display_data"
    },
    {
     "name": "stdout",
     "output_type": "stream",
     "text": [
      "0:\tlearn: 0.6660001\ttest: 0.6673892\tbest: 0.6673892 (0)\ttotal: 486ms\tremaining: 48.1s\n",
      "50:\tlearn: 0.1729532\ttest: 0.1730113\tbest: 0.1730113 (50)\ttotal: 24.5s\tremaining: 23.5s\n",
      "99:\tlearn: 0.0794162\ttest: 0.0801592\tbest: 0.0801592 (99)\ttotal: 46.4s\tremaining: 0us\n",
      "\n",
      "bestTest = 0.08015919728\n",
      "bestIteration = 99\n",
      "\n",
      "                                           0\n",
      "ТОК РОТОРА 1                        1.189207\n",
      "ТОК РОТОРА 2                        1.204335\n",
      "ТОК СТАТОРА                         0.724395\n",
      "ВИБРАЦИЯ НА ОПОРЕ 1                18.793504\n",
      "ВИБРАЦИЯ НА ОПОРЕ 2                 0.879652\n",
      "ВИБРАЦИЯ НА ОПОРЕ 3                 1.993923\n",
      "ВИБРАЦИЯ НА ОПОРЕ 3. ПРОДОЛЬНАЯ    11.255664\n",
      "ВИБРАЦИЯ НА ОПОРЕ 4                 6.103536\n",
      "ВИБРАЦИЯ НА ОПОРЕ 4. ПРОДОЛЬНАЯ    30.295151\n",
      "ТЕМПЕРАТУРА ПОДШИПНИКА НА ОПОРЕ 1   1.736674\n",
      "ТЕМПЕРАТУРА ПОДШИПНИКА НА ОПОРЕ 2   1.704534\n",
      "ТЕМПЕРАТУРА ПОДШИПНИКА НА ОПОРЕ 3   0.045359\n",
      "ТЕМПЕРАТУРА ПОДШИПНИКА НА ОПОРЕ 4   3.999735\n",
      "ТЕМПЕРАТУРА МАСЛА В МАСЛОБЛОКЕ      1.628058\n",
      "ТЕМПЕРАТУРА МАСЛА В СИСТЕМЕ         2.666114\n",
      "ДАВЛЕНИЕ МАСЛА В СИСТЕМЕ           15.780160\n",
      "Y_ЭКСГАУСТЕР А/М №4_УЛИТА ЭКСГ. №4 M3 0.9818696883852691 8665 117 43\n"
     ]
    },
    {
     "data": {
      "application/vnd.jupyter.widget-view+json": {
       "model_id": "738a012189cf4194b62bb56a9a2df544",
       "version_major": 2,
       "version_minor": 0
      },
      "text/plain": [
       "MetricVisualizer(layout=Layout(align_self='stretch', height='500px'))"
      ]
     },
     "metadata": {},
     "output_type": "display_data"
    },
    {
     "name": "stdout",
     "output_type": "stream",
     "text": [
      "0:\tlearn: 0.6731216\ttest: 0.6721545\tbest: 0.6721545 (0)\ttotal: 423ms\tremaining: 41.8s\n",
      "50:\tlearn: 0.2490276\ttest: 0.2350565\tbest: 0.2350565 (50)\ttotal: 20.8s\tremaining: 19.9s\n",
      "99:\tlearn: 0.1531172\ttest: 0.1419780\tbest: 0.1419780 (99)\ttotal: 41.3s\tremaining: 0us\n",
      "\n",
      "bestTest = 0.141977964\n",
      "bestIteration = 99\n",
      "\n",
      "                                           0\n",
      "ТОК РОТОРА 1                       25.795411\n",
      "ТОК РОТОРА 2                       19.541056\n",
      "ТОК СТАТОРА                         0.248634\n",
      "ВИБРАЦИЯ НА ОПОРЕ 1                11.543025\n",
      "ВИБРАЦИЯ НА ОПОРЕ 2                 4.072350\n",
      "ВИБРАЦИЯ НА ОПОРЕ 3                 0.912052\n",
      "ВИБРАЦИЯ НА ОПОРЕ 3. ПРОДОЛЬНАЯ     5.365581\n",
      "ВИБРАЦИЯ НА ОПОРЕ 4                 3.824401\n",
      "ВИБРАЦИЯ НА ОПОРЕ 4. ПРОДОЛЬНАЯ     3.252125\n",
      "ТЕМПЕРАТУРА ПОДШИПНИКА НА ОПОРЕ 1   7.699969\n",
      "ТЕМПЕРАТУРА ПОДШИПНИКА НА ОПОРЕ 2   2.160429\n",
      "ТЕМПЕРАТУРА ПОДШИПНИКА НА ОПОРЕ 3   0.182390\n",
      "ТЕМПЕРАТУРА ПОДШИПНИКА НА ОПОРЕ 4   1.461550\n",
      "ТЕМПЕРАТУРА МАСЛА В МАСЛОБЛОКЕ      0.000000\n",
      "ТЕМПЕРАТУРА МАСЛА В СИСТЕМЕ         6.271110\n",
      "ДАВЛЕНИЕ МАСЛА В СИСТЕМЕ            7.669917\n",
      "Y_ЭКСГАУСТЕР А/М №4_РЕДУКТОР ГАЗ. ЗАДВИЖКИ ЭКСГ. №4 M3 0.9423616424381536 7390 340 112\n"
     ]
    },
    {
     "data": {
      "application/vnd.jupyter.widget-view+json": {
       "model_id": "3726c59e56ae49168227e424b092badf",
       "version_major": 2,
       "version_minor": 0
      },
      "text/plain": [
       "MetricVisualizer(layout=Layout(align_self='stretch', height='500px'))"
      ]
     },
     "metadata": {},
     "output_type": "display_data"
    },
    {
     "name": "stdout",
     "output_type": "stream",
     "text": [
      "0:\tlearn: 0.6636912\ttest: 0.6663095\tbest: 0.6663095 (0)\ttotal: 462ms\tremaining: 45.7s\n",
      "50:\tlearn: 0.1464682\ttest: 0.1574438\tbest: 0.1574438 (50)\ttotal: 23.3s\tremaining: 22.4s\n",
      "99:\tlearn: 0.0496613\ttest: 0.0572816\tbest: 0.0572816 (99)\ttotal: 46s\tremaining: 0us\n",
      "\n",
      "bestTest = 0.05728156056\n",
      "bestIteration = 99\n",
      "\n",
      "                                           0\n",
      "ТОК РОТОРА 1                       14.345935\n",
      "ТОК РОТОРА 2                       11.862077\n",
      "ТОК СТАТОРА                         0.000000\n",
      "ВИБРАЦИЯ НА ОПОРЕ 1                 1.311951\n",
      "ВИБРАЦИЯ НА ОПОРЕ 2                 1.233949\n",
      "ВИБРАЦИЯ НА ОПОРЕ 3                11.994353\n",
      "ВИБРАЦИЯ НА ОПОРЕ 3. ПРОДОЛЬНАЯ     1.508923\n",
      "ВИБРАЦИЯ НА ОПОРЕ 4                 1.501319\n",
      "ВИБРАЦИЯ НА ОПОРЕ 4. ПРОДОЛЬНАЯ    12.452932\n",
      "ТЕМПЕРАТУРА ПОДШИПНИКА НА ОПОРЕ 1  10.762153\n",
      "ТЕМПЕРАТУРА ПОДШИПНИКА НА ОПОРЕ 2   0.157930\n",
      "ТЕМПЕРАТУРА ПОДШИПНИКА НА ОПОРЕ 3   0.522632\n",
      "ТЕМПЕРАТУРА ПОДШИПНИКА НА ОПОРЕ 4   4.110109\n",
      "ТЕМПЕРАТУРА МАСЛА В МАСЛОБЛОКЕ      0.000000\n",
      "ТЕМПЕРАТУРА МАСЛА В СИСТЕМЕ         1.569862\n",
      "ДАВЛЕНИЕ МАСЛА В СИСТЕМЕ           26.665876\n",
      "Y_ЭКСГАУСТЕР А/М №4_МАСЛОНАСОС РАБОЧИЙ ЭКСГ. №4 M3 0.9623015873015873 970 1 37\n"
     ]
    },
    {
     "data": {
      "application/vnd.jupyter.widget-view+json": {
       "model_id": "6b71d7bf24924ba38c14a7340f3005ad",
       "version_major": 2,
       "version_minor": 0
      },
      "text/plain": [
       "MetricVisualizer(layout=Layout(align_self='stretch', height='500px'))"
      ]
     },
     "metadata": {},
     "output_type": "display_data"
    },
    {
     "name": "stdout",
     "output_type": "stream",
     "text": [
      "0:\tlearn: 0.6613814\ttest: 0.6636000\tbest: 0.6636000 (0)\ttotal: 399ms\tremaining: 39.5s\n",
      "50:\tlearn: 0.1133367\ttest: 0.1135639\tbest: 0.1135639 (50)\ttotal: 22.2s\tremaining: 21.3s\n",
      "99:\tlearn: 0.0249522\ttest: 0.0249852\tbest: 0.0249852 (99)\ttotal: 44.9s\tremaining: 0us\n",
      "\n",
      "bestTest = 0.02498522589\n",
      "bestIteration = 99\n",
      "\n",
      "                                          0\n",
      "ТОК РОТОРА 1                       3.772844\n",
      "ТОК РОТОРА 2                       5.041754\n",
      "ТОК СТАТОРА                        4.589870\n",
      "ВИБРАЦИЯ НА ОПОРЕ 1                4.930180\n",
      "ВИБРАЦИЯ НА ОПОРЕ 2                5.771766\n",
      "ВИБРАЦИЯ НА ОПОРЕ 3                8.094888\n",
      "ВИБРАЦИЯ НА ОПОРЕ 3. ПРОДОЛЬНАЯ    6.884876\n",
      "ВИБРАЦИЯ НА ОПОРЕ 4                8.294762\n",
      "ВИБРАЦИЯ НА ОПОРЕ 4. ПРОДОЛЬНАЯ    6.856351\n",
      "ТЕМПЕРАТУРА ПОДШИПНИКА НА ОПОРЕ 1  6.856664\n",
      "ТЕМПЕРАТУРА ПОДШИПНИКА НА ОПОРЕ 2  6.993196\n",
      "ТЕМПЕРАТУРА ПОДШИПНИКА НА ОПОРЕ 3  7.911965\n",
      "ТЕМПЕРАТУРА ПОДШИПНИКА НА ОПОРЕ 4  4.073792\n",
      "ТЕМПЕРАТУРА МАСЛА В МАСЛОБЛОКЕ     5.946151\n",
      "ТЕМПЕРАТУРА МАСЛА В СИСТЕМЕ        5.625631\n",
      "ДАВЛЕНИЕ МАСЛА В СИСТЕМЕ           8.355310\n",
      "Y_ЭКСГАУСТЕР А/М №4_ЭЛЕКТРОАППАРАТУРА ЭКСГ. №4 M1 None 0 0 0\n"
     ]
    },
    {
     "data": {
      "application/vnd.jupyter.widget-view+json": {
       "model_id": "4e8d86bf835a4c1d8a82ef5bd0fa1616",
       "version_major": 2,
       "version_minor": 0
      },
      "text/plain": [
       "MetricVisualizer(layout=Layout(align_self='stretch', height='500px'))"
      ]
     },
     "metadata": {},
     "output_type": "display_data"
    },
    {
     "name": "stdout",
     "output_type": "stream",
     "text": [
      "0:\tlearn: 0.6634641\ttest: 0.6644672\tbest: 0.6644672 (0)\ttotal: 339ms\tremaining: 33.6s\n",
      "50:\tlearn: 0.1332125\ttest: 0.1319997\tbest: 0.1319997 (50)\ttotal: 17.8s\tremaining: 17.1s\n",
      "99:\tlearn: 0.0416780\ttest: 0.0407601\tbest: 0.0407601 (99)\ttotal: 35.4s\tremaining: 0us\n",
      "\n",
      "bestTest = 0.04076011593\n",
      "bestIteration = 99\n",
      "\n",
      "                                           0\n",
      "ТОК РОТОРА 1                       36.253502\n",
      "ТОК РОТОРА 2                       30.445496\n",
      "ТОК СТАТОРА                         0.075851\n",
      "ВИБРАЦИЯ НА ОПОРЕ 1                 0.281880\n",
      "ВИБРАЦИЯ НА ОПОРЕ 2                 0.961512\n",
      "ВИБРАЦИЯ НА ОПОРЕ 3                 1.335951\n",
      "ВИБРАЦИЯ НА ОПОРЕ 3. ПРОДОЛЬНАЯ     7.019466\n",
      "ВИБРАЦИЯ НА ОПОРЕ 4                 5.703707\n",
      "ВИБРАЦИЯ НА ОПОРЕ 4. ПРОДОЛЬНАЯ     9.301464\n",
      "ТЕМПЕРАТУРА ПОДШИПНИКА НА ОПОРЕ 1   0.000000\n",
      "ТЕМПЕРАТУРА ПОДШИПНИКА НА ОПОРЕ 2   0.034617\n",
      "ТЕМПЕРАТУРА ПОДШИПНИКА НА ОПОРЕ 3   0.046456\n",
      "ТЕМПЕРАТУРА ПОДШИПНИКА НА ОПОРЕ 4   0.354245\n",
      "ТЕМПЕРАТУРА МАСЛА В МАСЛОБЛОКЕ      0.353522\n",
      "ТЕМПЕРАТУРА МАСЛА В СИСТЕМЕ         3.634532\n",
      "ДАВЛЕНИЕ МАСЛА В СИСТЕМЕ            4.197800\n",
      "Y_ЭКСГАУСТЕР А/М №4_ЭЛЕКТРОАППАРАТУРА ЭКСГ. №4 M3 0.9596367305751766 951 4 36\n"
     ]
    },
    {
     "data": {
      "application/vnd.jupyter.widget-view+json": {
       "model_id": "182eab5afd52413d8020b041f87d4981",
       "version_major": 2,
       "version_minor": 0
      },
      "text/plain": [
       "MetricVisualizer(layout=Layout(align_self='stretch', height='500px'))"
      ]
     },
     "metadata": {},
     "output_type": "display_data"
    },
    {
     "name": "stdout",
     "output_type": "stream",
     "text": [
      "0:\tlearn: 0.6613814\ttest: 0.6635996\tbest: 0.6635996 (0)\ttotal: 406ms\tremaining: 40.2s\n",
      "50:\tlearn: 0.1133364\ttest: 0.1135637\tbest: 0.1135637 (50)\ttotal: 21.3s\tremaining: 20.5s\n",
      "99:\tlearn: 0.0249454\ttest: 0.0249830\tbest: 0.0249830 (99)\ttotal: 41.8s\tremaining: 0us\n",
      "\n",
      "bestTest = 0.02498298106\n",
      "bestIteration = 99\n",
      "\n",
      "                                           0\n",
      "ТОК РОТОРА 1                       10.016146\n",
      "ТОК РОТОРА 2                       11.451841\n",
      "ТОК СТАТОРА                         2.238085\n",
      "ВИБРАЦИЯ НА ОПОРЕ 1                 2.316334\n",
      "ВИБРАЦИЯ НА ОПОРЕ 2                 3.217382\n",
      "ВИБРАЦИЯ НА ОПОРЕ 3                 4.898034\n",
      "ВИБРАЦИЯ НА ОПОРЕ 3. ПРОДОЛЬНАЯ    13.182190\n",
      "ВИБРАЦИЯ НА ОПОРЕ 4                 4.314472\n",
      "ВИБРАЦИЯ НА ОПОРЕ 4. ПРОДОЛЬНАЯ    11.778190\n",
      "ТЕМПЕРАТУРА ПОДШИПНИКА НА ОПОРЕ 1  12.285292\n",
      "ТЕМПЕРАТУРА ПОДШИПНИКА НА ОПОРЕ 2   3.339527\n",
      "ТЕМПЕРАТУРА ПОДШИПНИКА НА ОПОРЕ 3   8.577158\n",
      "ТЕМПЕРАТУРА ПОДШИПНИКА НА ОПОРЕ 4   2.048491\n",
      "ТЕМПЕРАТУРА МАСЛА В МАСЛОБЛОКЕ      3.003232\n",
      "ТЕМПЕРАТУРА МАСЛА В СИСТЕМЕ         2.874342\n",
      "ДАВЛЕНИЕ МАСЛА В СИСТЕМЕ            4.459283\n",
      "Y_ЭКСГАУСТЕР А/М №4_ПОДШИПНИК ОПОРНЫЙ №2 ЭКСГ. №4 M1 None 0 0 0\n"
     ]
    },
    {
     "data": {
      "application/vnd.jupyter.widget-view+json": {
       "model_id": "b937dd66da6c45a4a48aa98e1cb55a29",
       "version_major": 2,
       "version_minor": 0
      },
      "text/plain": [
       "MetricVisualizer(layout=Layout(align_self='stretch', height='500px'))"
      ]
     },
     "metadata": {},
     "output_type": "display_data"
    },
    {
     "name": "stdout",
     "output_type": "stream",
     "text": [
      "0:\tlearn: 0.6675553\ttest: 0.6694145\tbest: 0.6694145 (0)\ttotal: 459ms\tremaining: 45.5s\n",
      "50:\tlearn: 0.1720038\ttest: 0.1802649\tbest: 0.1802649 (50)\ttotal: 22.4s\tremaining: 21.6s\n",
      "99:\tlearn: 0.0819612\ttest: 0.0890724\tbest: 0.0890724 (99)\ttotal: 42.2s\tremaining: 0us\n",
      "\n",
      "bestTest = 0.08907244925\n",
      "bestIteration = 99\n",
      "\n",
      "                                           0\n",
      "ТОК РОТОРА 1                        7.785086\n",
      "ТОК РОТОРА 2                        9.973239\n",
      "ТОК СТАТОРА                         0.046912\n",
      "ВИБРАЦИЯ НА ОПОРЕ 1                 3.346217\n",
      "ВИБРАЦИЯ НА ОПОРЕ 2                 4.295558\n",
      "ВИБРАЦИЯ НА ОПОРЕ 3                18.927729\n",
      "ВИБРАЦИЯ НА ОПОРЕ 3. ПРОДОЛЬНАЯ     3.235385\n",
      "ВИБРАЦИЯ НА ОПОРЕ 4                 0.000000\n",
      "ВИБРАЦИЯ НА ОПОРЕ 4. ПРОДОЛЬНАЯ     2.605196\n",
      "ТЕМПЕРАТУРА ПОДШИПНИКА НА ОПОРЕ 1   0.590126\n",
      "ТЕМПЕРАТУРА ПОДШИПНИКА НА ОПОРЕ 2  22.002380\n",
      "ТЕМПЕРАТУРА ПОДШИПНИКА НА ОПОРЕ 3   1.113219\n",
      "ТЕМПЕРАТУРА ПОДШИПНИКА НА ОПОРЕ 4   0.000000\n",
      "ТЕМПЕРАТУРА МАСЛА В МАСЛОБЛОКЕ      0.286515\n",
      "ТЕМПЕРАТУРА МАСЛА В СИСТЕМЕ        10.616598\n",
      "ДАВЛЕНИЕ МАСЛА В СИСТЕМЕ           15.175840\n",
      "Y_ЭКСГАУСТЕР А/М №4_ПОДШИПНИК ОПОРНЫЙ №2 ЭКСГ. №4 M3 0.9243167484232656 1319 5 103\n"
     ]
    },
    {
     "data": {
      "application/vnd.jupyter.widget-view+json": {
       "model_id": "232d9ca5c68e4e62974ac6c2eb924d67",
       "version_major": 2,
       "version_minor": 0
      },
      "text/plain": [
       "MetricVisualizer(layout=Layout(align_self='stretch', height='500px'))"
      ]
     },
     "metadata": {},
     "output_type": "display_data"
    },
    {
     "name": "stdout",
     "output_type": "stream",
     "text": [
      "0:\tlearn: 0.6613948\ttest: 0.6636078\tbest: 0.6636078 (0)\ttotal: 411ms\tremaining: 40.7s\n",
      "50:\tlearn: 0.1136926\ttest: 0.1137074\tbest: 0.1137074 (50)\ttotal: 21.3s\tremaining: 20.4s\n",
      "99:\tlearn: 0.0252979\ttest: 0.0251340\tbest: 0.0251340 (99)\ttotal: 41.2s\tremaining: 0us\n",
      "\n",
      "bestTest = 0.02513401337\n",
      "bestIteration = 99\n",
      "\n",
      "                                           0\n",
      "ТОК РОТОРА 1                        4.171918\n",
      "ТОК РОТОРА 2                        4.936531\n",
      "ТОК СТАТОРА                         3.010114\n",
      "ВИБРАЦИЯ НА ОПОРЕ 1                 3.919533\n",
      "ВИБРАЦИЯ НА ОПОРЕ 2                 3.582585\n",
      "ВИБРАЦИЯ НА ОПОРЕ 3                 3.773663\n",
      "ВИБРАЦИЯ НА ОПОРЕ 3. ПРОДОЛЬНАЯ     3.900374\n",
      "ВИБРАЦИЯ НА ОПОРЕ 4                 3.549127\n",
      "ВИБРАЦИЯ НА ОПОРЕ 4. ПРОДОЛЬНАЯ     2.925834\n",
      "ТЕМПЕРАТУРА ПОДШИПНИКА НА ОПОРЕ 1   3.666940\n",
      "ТЕМПЕРАТУРА ПОДШИПНИКА НА ОПОРЕ 2   2.953346\n",
      "ТЕМПЕРАТУРА ПОДШИПНИКА НА ОПОРЕ 3  13.336718\n",
      "ТЕМПЕРАТУРА ПОДШИПНИКА НА ОПОРЕ 4   3.590995\n",
      "ТЕМПЕРАТУРА МАСЛА В МАСЛОБЛОКЕ      3.279453\n",
      "ТЕМПЕРАТУРА МАСЛА В СИСТЕМЕ        12.005609\n",
      "ДАВЛЕНИЕ МАСЛА В СИСТЕМЕ           27.397260\n",
      "Y_ЭКСГАУСТЕР А/М №4_ЗАДВИЖКА ЭКСГ. №4 M1 0.0 0 0 2\n"
     ]
    },
    {
     "data": {
      "application/vnd.jupyter.widget-view+json": {
       "model_id": "2c38433896b645d398c1a1323678161b",
       "version_major": 2,
       "version_minor": 0
      },
      "text/plain": [
       "MetricVisualizer(layout=Layout(align_self='stretch', height='500px'))"
      ]
     },
     "metadata": {},
     "output_type": "display_data"
    },
    {
     "name": "stdout",
     "output_type": "stream",
     "text": [
      "0:\tlearn: 0.6700174\ttest: 0.6693801\tbest: 0.6693801 (0)\ttotal: 439ms\tremaining: 43.5s\n",
      "50:\tlearn: 0.2117081\ttest: 0.2019140\tbest: 0.2019140 (50)\ttotal: 21.8s\tremaining: 20.9s\n",
      "99:\tlearn: 0.1180206\ttest: 0.1095956\tbest: 0.1095956 (99)\ttotal: 42.9s\tremaining: 0us\n",
      "\n",
      "bestTest = 0.1095955649\n",
      "bestIteration = 99\n",
      "\n",
      "                                           0\n",
      "ТОК РОТОРА 1                        3.414547\n",
      "ТОК РОТОРА 2                        3.154560\n",
      "ТОК СТАТОРА                         1.284517\n",
      "ВИБРАЦИЯ НА ОПОРЕ 1                 2.340052\n",
      "ВИБРАЦИЯ НА ОПОРЕ 2                 2.169367\n",
      "ВИБРАЦИЯ НА ОПОРЕ 3                 5.417470\n",
      "ВИБРАЦИЯ НА ОПОРЕ 3. ПРОДОЛЬНАЯ    11.575663\n",
      "ВИБРАЦИЯ НА ОПОРЕ 4                 4.091656\n",
      "ВИБРАЦИЯ НА ОПОРЕ 4. ПРОДОЛЬНАЯ    17.628282\n",
      "ТЕМПЕРАТУРА ПОДШИПНИКА НА ОПОРЕ 1   7.112233\n",
      "ТЕМПЕРАТУРА ПОДШИПНИКА НА ОПОРЕ 2   6.197588\n",
      "ТЕМПЕРАТУРА ПОДШИПНИКА НА ОПОРЕ 3   2.160734\n",
      "ТЕМПЕРАТУРА ПОДШИПНИКА НА ОПОРЕ 4   1.163275\n",
      "ТЕМПЕРАТУРА МАСЛА В МАСЛОБЛОКЕ      1.813067\n",
      "ТЕМПЕРАТУРА МАСЛА В СИСТЕМЕ         2.510349\n",
      "ДАВЛЕНИЕ МАСЛА В СИСТЕМЕ           27.966638\n",
      "Y_ЭКСГАУСТЕР А/М №4_ЗАДВИЖКА ЭКСГ. №4 M3 0.777602523659306 986 81 201\n"
     ]
    },
    {
     "data": {
      "application/vnd.jupyter.widget-view+json": {
       "model_id": "409e54a6b855465384637ed0c51f52c5",
       "version_major": 2,
       "version_minor": 0
      },
      "text/plain": [
       "MetricVisualizer(layout=Layout(align_self='stretch', height='500px'))"
      ]
     },
     "metadata": {},
     "output_type": "display_data"
    },
    {
     "name": "stdout",
     "output_type": "stream",
     "text": [
      "0:\tlearn: 0.6665379\ttest: 0.6681936\tbest: 0.6681936 (0)\ttotal: 365ms\tremaining: 36.1s\n",
      "50:\tlearn: 0.1971047\ttest: 0.2025969\tbest: 0.2025969 (50)\ttotal: 18.3s\tremaining: 17.6s\n",
      "99:\tlearn: 0.1039071\ttest: 0.1130397\tbest: 0.1130397 (99)\ttotal: 37.2s\tremaining: 0us\n",
      "\n",
      "bestTest = 0.1130397425\n",
      "bestIteration = 99\n",
      "\n",
      "                                           0\n",
      "ТОК РОТОРА 1                        6.527558\n",
      "ТОК РОТОРА 2                        6.162122\n",
      "ТОК СТАТОРА                         0.866021\n",
      "ВИБРАЦИЯ НА ОПОРЕ 1                 9.518423\n",
      "ВИБРАЦИЯ НА ОПОРЕ 2                 0.887305\n",
      "ВИБРАЦИЯ НА ОПОРЕ 3                12.132012\n",
      "ВИБРАЦИЯ НА ОПОРЕ 3. ПРОДОЛЬНАЯ    17.594255\n",
      "ВИБРАЦИЯ НА ОПОРЕ 4                11.511477\n",
      "ВИБРАЦИЯ НА ОПОРЕ 4. ПРОДОЛЬНАЯ    14.462059\n",
      "ТЕМПЕРАТУРА ПОДШИПНИКА НА ОПОРЕ 1   4.295466\n",
      "ТЕМПЕРАТУРА ПОДШИПНИКА НА ОПОРЕ 2   1.445276\n",
      "ТЕМПЕРАТУРА ПОДШИПНИКА НА ОПОРЕ 3   3.540440\n",
      "ТЕМПЕРАТУРА ПОДШИПНИКА НА ОПОРЕ 4   3.715580\n",
      "ТЕМПЕРАТУРА МАСЛА В МАСЛОБЛОКЕ      0.000000\n",
      "ТЕМПЕРАТУРА МАСЛА В СИСТЕМЕ         0.656482\n",
      "ДАВЛЕНИЕ МАСЛА В СИСТЕМЕ            6.685523\n",
      "Y_ЭКСГАУСТЕР А/М №4_ГСМ ЭКСГ. №4 M3 0.786038077969175 867 33 203\n"
     ]
    },
    {
     "data": {
      "application/vnd.jupyter.widget-view+json": {
       "model_id": "425a9f842c4d49e49fbc47e4716cc8f5",
       "version_major": 2,
       "version_minor": 0
      },
      "text/plain": [
       "MetricVisualizer(layout=Layout(align_self='stretch', height='500px'))"
      ]
     },
     "metadata": {},
     "output_type": "display_data"
    },
    {
     "name": "stdout",
     "output_type": "stream",
     "text": [
      "0:\tlearn: 0.6613841\ttest: 0.6636013\tbest: 0.6636013 (0)\ttotal: 403ms\tremaining: 39.9s\n",
      "50:\tlearn: 0.1134730\ttest: 0.1136008\tbest: 0.1136008 (50)\ttotal: 21.8s\tremaining: 20.9s\n",
      "99:\tlearn: 0.0251171\ttest: 0.0250231\tbest: 0.0250231 (99)\ttotal: 42.1s\tremaining: 0us\n",
      "\n",
      "bestTest = 0.02502306667\n",
      "bestIteration = 99\n",
      "\n",
      "                                           0\n",
      "ТОК РОТОРА 1                        0.347195\n",
      "ТОК РОТОРА 2                        0.714626\n",
      "ТОК СТАТОРА                         0.798580\n",
      "ВИБРАЦИЯ НА ОПОРЕ 1                 0.611425\n",
      "ВИБРАЦИЯ НА ОПОРЕ 2                 0.570657\n",
      "ВИБРАЦИЯ НА ОПОРЕ 3                 4.641367\n",
      "ВИБРАЦИЯ НА ОПОРЕ 3. ПРОДОЛЬНАЯ     0.746498\n",
      "ВИБРАЦИЯ НА ОПОРЕ 4                37.890331\n",
      "ВИБРАЦИЯ НА ОПОРЕ 4. ПРОДОЛЬНАЯ     0.930856\n",
      "ТЕМПЕРАТУРА ПОДШИПНИКА НА ОПОРЕ 1   1.173324\n",
      "ТЕМПЕРАТУРА ПОДШИПНИКА НА ОПОРЕ 2   3.628241\n",
      "ТЕМПЕРАТУРА ПОДШИПНИКА НА ОПОРЕ 3   1.144156\n",
      "ТЕМПЕРАТУРА ПОДШИПНИКА НА ОПОРЕ 4   4.154576\n",
      "ТЕМПЕРАТУРА МАСЛА В МАСЛОБЛОКЕ     32.816122\n",
      "ТЕМПЕРАТУРА МАСЛА В СИСТЕМЕ         6.395035\n",
      "ДАВЛЕНИЕ МАСЛА В СИСТЕМЕ            3.437010\n",
      "Y_ЭКСГАУСТЕР А/М №4_ВК 310С ВИБРОПРЕОБРАЗОВАТЕЛЬ ЭКСГ.№4 Т.1 M3 None 0 0 0\n"
     ]
    },
    {
     "data": {
      "application/vnd.jupyter.widget-view+json": {
       "model_id": "18853245395c4b75939ab9420fabc35f",
       "version_major": 2,
       "version_minor": 0
      },
      "text/plain": [
       "MetricVisualizer(layout=Layout(align_self='stretch', height='500px'))"
      ]
     },
     "metadata": {},
     "output_type": "display_data"
    },
    {
     "name": "stdout",
     "output_type": "stream",
     "text": [
      "0:\tlearn: 0.6613863\ttest: 0.6636046\tbest: 0.6636046 (0)\ttotal: 402ms\tremaining: 39.8s\n",
      "50:\tlearn: 0.1135637\ttest: 0.1136295\tbest: 0.1136295 (50)\ttotal: 21.4s\tremaining: 20.6s\n",
      "99:\tlearn: 0.0251912\ttest: 0.0250447\tbest: 0.0250447 (99)\ttotal: 41.4s\tremaining: 0us\n",
      "\n",
      "bestTest = 0.02504471335\n",
      "bestIteration = 99\n",
      "\n",
      "                                           0\n",
      "ТОК РОТОРА 1                        0.142606\n",
      "ТОК РОТОРА 2                        0.292427\n",
      "ТОК СТАТОРА                         0.526742\n",
      "ВИБРАЦИЯ НА ОПОРЕ 1                 0.322509\n",
      "ВИБРАЦИЯ НА ОПОРЕ 2                 0.252892\n",
      "ВИБРАЦИЯ НА ОПОРЕ 3                 2.261905\n",
      "ВИБРАЦИЯ НА ОПОРЕ 3. ПРОДОЛЬНАЯ     0.689082\n",
      "ВИБРАЦИЯ НА ОПОРЕ 4                20.040475\n",
      "ВИБРАЦИЯ НА ОПОРЕ 4. ПРОДОЛЬНАЯ     0.468432\n",
      "ТЕМПЕРАТУРА ПОДШИПНИКА НА ОПОРЕ 1   3.263299\n",
      "ТЕМПЕРАТУРА ПОДШИПНИКА НА ОПОРЕ 2  25.043868\n",
      "ТЕМПЕРАТУРА ПОДШИПНИКА НА ОПОРЕ 3   6.428603\n",
      "ТЕМПЕРАТУРА ПОДШИПНИКА НА ОПОРЕ 4   3.502680\n",
      "ТЕМПЕРАТУРА МАСЛА В МАСЛОБЛОКЕ     17.981075\n",
      "ТЕМПЕРАТУРА МАСЛА В СИСТЕМЕ        17.229011\n",
      "ДАВЛЕНИЕ МАСЛА В СИСТЕМЕ            1.554394\n",
      "Y_ЭКСГАУСТЕР А/М №4_ТСМТ-101-010-50М-400 ТЕРМОПР.ПОДШ.Т.1 M3 None 0 0 0\n"
     ]
    },
    {
     "data": {
      "application/vnd.jupyter.widget-view+json": {
       "model_id": "da51e81455664973afa636a835ae445e",
       "version_major": 2,
       "version_minor": 0
      },
      "text/plain": [
       "MetricVisualizer(layout=Layout(align_self='stretch', height='500px'))"
      ]
     },
     "metadata": {},
     "output_type": "display_data"
    },
    {
     "name": "stdout",
     "output_type": "stream",
     "text": [
      "0:\tlearn: 0.6613831\ttest: 0.6636005\tbest: 0.6636005 (0)\ttotal: 460ms\tremaining: 45.5s\n",
      "50:\tlearn: 0.1133960\ttest: 0.1135814\tbest: 0.1135814 (50)\ttotal: 21.7s\tremaining: 20.9s\n",
      "99:\tlearn: 0.0250346\ttest: 0.0250027\tbest: 0.0250027 (99)\ttotal: 42.1s\tremaining: 0us\n",
      "\n",
      "bestTest = 0.02500266297\n",
      "bestIteration = 99\n",
      "\n",
      "                                           0\n",
      "ТОК РОТОРА 1                       10.645901\n",
      "ТОК РОТОРА 2                        3.617265\n",
      "ТОК СТАТОРА                         2.525048\n",
      "ВИБРАЦИЯ НА ОПОРЕ 1                 4.354029\n",
      "ВИБРАЦИЯ НА ОПОРЕ 2                 2.699036\n",
      "ВИБРАЦИЯ НА ОПОРЕ 3                 5.145465\n",
      "ВИБРАЦИЯ НА ОПОРЕ 3. ПРОДОЛЬНАЯ     5.129721\n",
      "ВИБРАЦИЯ НА ОПОРЕ 4                 3.573727\n",
      "ВИБРАЦИЯ НА ОПОРЕ 4. ПРОДОЛЬНАЯ     9.603651\n",
      "ТЕМПЕРАТУРА ПОДШИПНИКА НА ОПОРЕ 1   5.532426\n",
      "ТЕМПЕРАТУРА ПОДШИПНИКА НА ОПОРЕ 2  10.858907\n",
      "ТЕМПЕРАТУРА ПОДШИПНИКА НА ОПОРЕ 3  12.785225\n",
      "ТЕМПЕРАТУРА ПОДШИПНИКА НА ОПОРЕ 4   3.136667\n",
      "ТЕМПЕРАТУРА МАСЛА В МАСЛОБЛОКЕ      2.836737\n",
      "ТЕМПЕРАТУРА МАСЛА В СИСТЕМЕ         5.728441\n",
      "ДАВЛЕНИЕ МАСЛА В СИСТЕМЕ           11.827752\n",
      "Y_ЭКСГАУСТЕР А/М №4_РОТОР ЭКСГ. №4 M1 0.0 0 0 1\n"
     ]
    },
    {
     "data": {
      "application/vnd.jupyter.widget-view+json": {
       "model_id": "7b59e3bd81244d37ab56cad8b5df563a",
       "version_major": 2,
       "version_minor": 0
      },
      "text/plain": [
       "MetricVisualizer(layout=Layout(align_self='stretch', height='500px'))"
      ]
     },
     "metadata": {},
     "output_type": "display_data"
    },
    {
     "name": "stdout",
     "output_type": "stream",
     "text": [
      "0:\tlearn: 0.6745458\ttest: 0.6739941\tbest: 0.6739941 (0)\ttotal: 373ms\tremaining: 36.9s\n",
      "50:\tlearn: 0.2555704\ttest: 0.2520179\tbest: 0.2520179 (50)\ttotal: 21s\tremaining: 20.2s\n",
      "99:\tlearn: 0.1397787\ttest: 0.1355111\tbest: 0.1355111 (99)\ttotal: 41.7s\tremaining: 0us\n",
      "\n",
      "bestTest = 0.1355111472\n",
      "bestIteration = 99\n",
      "\n",
      "                                           0\n",
      "ТОК РОТОРА 1                        9.840732\n",
      "ТОК РОТОРА 2                        9.559779\n",
      "ТОК СТАТОРА                         2.074546\n",
      "ВИБРАЦИЯ НА ОПОРЕ 1                 1.500165\n",
      "ВИБРАЦИЯ НА ОПОРЕ 2                 4.451487\n",
      "ВИБРАЦИЯ НА ОПОРЕ 3                 0.293062\n",
      "ВИБРАЦИЯ НА ОПОРЕ 3. ПРОДОЛЬНАЯ     2.705816\n",
      "ВИБРАЦИЯ НА ОПОРЕ 4                 5.366526\n",
      "ВИБРАЦИЯ НА ОПОРЕ 4. ПРОДОЛЬНАЯ    13.443130\n",
      "ТЕМПЕРАТУРА ПОДШИПНИКА НА ОПОРЕ 1   6.577754\n",
      "ТЕМПЕРАТУРА ПОДШИПНИКА НА ОПОРЕ 2  15.740465\n",
      "ТЕМПЕРАТУРА ПОДШИПНИКА НА ОПОРЕ 3   4.307435\n",
      "ТЕМПЕРАТУРА ПОДШИПНИКА НА ОПОРЕ 4   0.000000\n",
      "ТЕМПЕРАТУРА МАСЛА В МАСЛОБЛОКЕ      0.000000\n",
      "ТЕМПЕРАТУРА МАСЛА В СИСТЕМЕ        19.194742\n",
      "ДАВЛЕНИЕ МАСЛА В СИСТЕМЕ            4.944361\n",
      "Y_ЭКСГАУСТЕР А/М №4_РОТОР ЭКСГ. №4 M3 0.9675236806495264 4290 42 102\n"
     ]
    },
    {
     "data": {
      "application/vnd.jupyter.widget-view+json": {
       "model_id": "f11261276a1d44f4929e4578aba6316a",
       "version_major": 2,
       "version_minor": 0
      },
      "text/plain": [
       "MetricVisualizer(layout=Layout(align_self='stretch', height='500px'))"
      ]
     },
     "metadata": {},
     "output_type": "display_data"
    },
    {
     "name": "stdout",
     "output_type": "stream",
     "text": [
      "0:\tlearn: 0.6629560\ttest: 0.6643029\tbest: 0.6643029 (0)\ttotal: 449ms\tremaining: 44.5s\n",
      "50:\tlearn: 0.1238014\ttest: 0.1259089\tbest: 0.1259089 (50)\ttotal: 23.4s\tremaining: 22.5s\n",
      "99:\tlearn: 0.0347391\ttest: 0.0373056\tbest: 0.0373056 (99)\ttotal: 45.6s\tremaining: 0us\n",
      "\n",
      "bestTest = 0.03730564251\n",
      "bestIteration = 99\n",
      "\n",
      "                                           0\n",
      "ТОК РОТОРА 1                        7.355200\n",
      "ТОК РОТОРА 2                        6.814497\n",
      "ТОК СТАТОРА                         0.928527\n",
      "ВИБРАЦИЯ НА ОПОРЕ 1                 0.848781\n",
      "ВИБРАЦИЯ НА ОПОРЕ 2                17.749657\n",
      "ВИБРАЦИЯ НА ОПОРЕ 3                27.463780\n",
      "ВИБРАЦИЯ НА ОПОРЕ 3. ПРОДОЛЬНАЯ     4.634877\n",
      "ВИБРАЦИЯ НА ОПОРЕ 4                 0.013814\n",
      "ВИБРАЦИЯ НА ОПОРЕ 4. ПРОДОЛЬНАЯ     2.873371\n",
      "ТЕМПЕРАТУРА ПОДШИПНИКА НА ОПОРЕ 1   3.869926\n",
      "ТЕМПЕРАТУРА ПОДШИПНИКА НА ОПОРЕ 2   4.066195\n",
      "ТЕМПЕРАТУРА ПОДШИПНИКА НА ОПОРЕ 3   2.845176\n",
      "ТЕМПЕРАТУРА ПОДШИПНИКА НА ОПОРЕ 4   1.236133\n",
      "ТЕМПЕРАТУРА МАСЛА В МАСЛОБЛОКЕ      0.708395\n",
      "ТЕМПЕРАТУРА МАСЛА В СИСТЕМЕ         7.977316\n",
      "ДАВЛЕНИЕ МАСЛА В СИСТЕМЕ           10.614356\n",
      "Y_ЭКСГАУСТЕР А/М №4_МАСЛООХЛАДИТЕЛЬ  М-05-1 ЭКСГ. №4 M3 0.8070175438596491 92 2 20\n"
     ]
    },
    {
     "data": {
      "application/vnd.jupyter.widget-view+json": {
       "model_id": "232d2dc0d16246acbdf44dfdec53dd7d",
       "version_major": 2,
       "version_minor": 0
      },
      "text/plain": [
       "MetricVisualizer(layout=Layout(align_self='stretch', height='500px'))"
      ]
     },
     "metadata": {},
     "output_type": "display_data"
    },
    {
     "name": "stdout",
     "output_type": "stream",
     "text": [
      "0:\tlearn: 0.6613885\ttest: 0.6636027\tbest: 0.6636027 (0)\ttotal: 402ms\tremaining: 39.8s\n",
      "50:\tlearn: 0.1135688\ttest: 0.1136368\tbest: 0.1136368 (50)\ttotal: 21.7s\tremaining: 20.9s\n",
      "99:\tlearn: 0.0250830\ttest: 0.0250381\tbest: 0.0250381 (99)\ttotal: 41s\tremaining: 0us\n",
      "\n",
      "bestTest = 0.02503807029\n",
      "bestIteration = 99\n",
      "\n",
      "                                           0\n",
      "ТОК РОТОРА 1                        2.175374\n",
      "ТОК РОТОРА 2                        2.696848\n",
      "ТОК СТАТОРА                        10.883218\n",
      "ВИБРАЦИЯ НА ОПОРЕ 1                 0.372693\n",
      "ВИБРАЦИЯ НА ОПОРЕ 2                 0.518614\n",
      "ВИБРАЦИЯ НА ОПОРЕ 3                 2.537937\n",
      "ВИБРАЦИЯ НА ОПОРЕ 3. ПРОДОЛЬНАЯ     0.819922\n",
      "ВИБРАЦИЯ НА ОПОРЕ 4                 2.594105\n",
      "ВИБРАЦИЯ НА ОПОРЕ 4. ПРОДОЛЬНАЯ     2.016555\n",
      "ТЕМПЕРАТУРА ПОДШИПНИКА НА ОПОРЕ 1   4.015174\n",
      "ТЕМПЕРАТУРА ПОДШИПНИКА НА ОПОРЕ 2   3.191679\n",
      "ТЕМПЕРАТУРА ПОДШИПНИКА НА ОПОРЕ 3  34.127793\n",
      "ТЕМПЕРАТУРА ПОДШИПНИКА НА ОПОРЕ 4  14.064722\n",
      "ТЕМПЕРАТУРА МАСЛА В МАСЛОБЛОКЕ     14.763681\n",
      "ТЕМПЕРАТУРА МАСЛА В СИСТЕМЕ         1.844897\n",
      "ДАВЛЕНИЕ МАСЛА В СИСТЕМЕ            3.376788\n",
      "Y_ЭКСГАУСТЕР А/М №4_ПОДШИПНИК ОПОРНО-УПОРНЫЙ ЭКСГ. №4 M1 None 0 0 0\n"
     ]
    },
    {
     "data": {
      "application/vnd.jupyter.widget-view+json": {
       "model_id": "f3242a9d26c148249a8eb8812f356f84",
       "version_major": 2,
       "version_minor": 0
      },
      "text/plain": [
       "MetricVisualizer(layout=Layout(align_self='stretch', height='500px'))"
      ]
     },
     "metadata": {},
     "output_type": "display_data"
    },
    {
     "name": "stdout",
     "output_type": "stream",
     "text": [
      "0:\tlearn: 0.6686588\ttest: 0.6684984\tbest: 0.6684984 (0)\ttotal: 426ms\tremaining: 42.2s\n",
      "50:\tlearn: 0.1878297\ttest: 0.1742070\tbest: 0.1742070 (50)\ttotal: 21.2s\tremaining: 20.4s\n",
      "99:\tlearn: 0.0815772\ttest: 0.0704844\tbest: 0.0704844 (99)\ttotal: 42.5s\tremaining: 0us\n",
      "\n",
      "bestTest = 0.07048441302\n",
      "bestIteration = 99\n",
      "\n",
      "                                           0\n",
      "ТОК РОТОРА 1                       17.622088\n",
      "ТОК РОТОРА 2                       18.156606\n",
      "ТОК СТАТОРА                         0.000000\n",
      "ВИБРАЦИЯ НА ОПОРЕ 1                 0.174234\n",
      "ВИБРАЦИЯ НА ОПОРЕ 2                 0.146376\n",
      "ВИБРАЦИЯ НА ОПОРЕ 3                 3.999624\n",
      "ВИБРАЦИЯ НА ОПОРЕ 3. ПРОДОЛЬНАЯ    14.585512\n",
      "ВИБРАЦИЯ НА ОПОРЕ 4                11.209228\n",
      "ВИБРАЦИЯ НА ОПОРЕ 4. ПРОДОЛЬНАЯ     8.375624\n",
      "ТЕМПЕРАТУРА ПОДШИПНИКА НА ОПОРЕ 1   8.824094\n",
      "ТЕМПЕРАТУРА ПОДШИПНИКА НА ОПОРЕ 2   1.191846\n",
      "ТЕМПЕРАТУРА ПОДШИПНИКА НА ОПОРЕ 3   0.000000\n",
      "ТЕМПЕРАТУРА ПОДШИПНИКА НА ОПОРЕ 4   4.650130\n",
      "ТЕМПЕРАТУРА МАСЛА В МАСЛОБЛОКЕ      0.552695\n",
      "ТЕМПЕРАТУРА МАСЛА В СИСТЕМЕ         6.619651\n",
      "ДАВЛЕНИЕ МАСЛА В СИСТЕМЕ            3.892294\n",
      "Y_ЭКСГАУСТЕР А/М №4_ПОДШИПНИК ОПОРНО-УПОРНЫЙ ЭКСГ. №4 M3 0.9513538320330427 2073 43 63\n"
     ]
    },
    {
     "data": {
      "application/vnd.jupyter.widget-view+json": {
       "model_id": "4e999716457840a8b2b0bca736f486c2",
       "version_major": 2,
       "version_minor": 0
      },
      "text/plain": [
       "MetricVisualizer(layout=Layout(align_self='stretch', height='500px'))"
      ]
     },
     "metadata": {},
     "output_type": "display_data"
    },
    {
     "name": "stdout",
     "output_type": "stream",
     "text": [
      "0:\tlearn: 0.6613990\ttest: 0.6636114\tbest: 0.6636114 (0)\ttotal: 405ms\tremaining: 40.1s\n",
      "50:\tlearn: 0.1137976\ttest: 0.1137094\tbest: 0.1137094 (50)\ttotal: 21.2s\tremaining: 20.4s\n",
      "99:\tlearn: 0.0252456\ttest: 0.0250868\tbest: 0.0250868 (99)\ttotal: 39.7s\tremaining: 0us\n",
      "\n",
      "bestTest = 0.02508677237\n",
      "bestIteration = 99\n",
      "\n",
      "                                           0\n",
      "ТОК РОТОРА 1                        1.278678\n",
      "ТОК РОТОРА 2                        0.963889\n",
      "ТОК СТАТОРА                         2.994575\n",
      "ВИБРАЦИЯ НА ОПОРЕ 1                 1.430839\n",
      "ВИБРАЦИЯ НА ОПОРЕ 2                 1.989543\n",
      "ВИБРАЦИЯ НА ОПОРЕ 3                 0.598850\n",
      "ВИБРАЦИЯ НА ОПОРЕ 3. ПРОДОЛЬНАЯ     3.555074\n",
      "ВИБРАЦИЯ НА ОПОРЕ 4                 0.501995\n",
      "ВИБРАЦИЯ НА ОПОРЕ 4. ПРОДОЛЬНАЯ     2.735699\n",
      "ТЕМПЕРАТУРА ПОДШИПНИКА НА ОПОРЕ 1   2.417062\n",
      "ТЕМПЕРАТУРА ПОДШИПНИКА НА ОПОРЕ 2   1.473696\n",
      "ТЕМПЕРАТУРА ПОДШИПНИКА НА ОПОРЕ 3  15.755598\n",
      "ТЕМПЕРАТУРА ПОДШИПНИКА НА ОПОРЕ 4  15.373100\n",
      "ТЕМПЕРАТУРА МАСЛА В МАСЛОБЛОКЕ     37.599449\n",
      "ТЕМПЕРАТУРА МАСЛА В СИСТЕМЕ         6.693673\n",
      "ДАВЛЕНИЕ МАСЛА В СИСТЕМЕ            4.638280\n",
      "Y_ЭКСГАУСТЕР А/М №4_ЭКСГАУСТЕР А/М №4 M1 0.8 4 0 1\n"
     ]
    },
    {
     "data": {
      "application/vnd.jupyter.widget-view+json": {
       "model_id": "6d708e56d6d64d6fbe40ba52790a1586",
       "version_major": 2,
       "version_minor": 0
      },
      "text/plain": [
       "MetricVisualizer(layout=Layout(align_self='stretch', height='500px'))"
      ]
     },
     "metadata": {},
     "output_type": "display_data"
    },
    {
     "name": "stdout",
     "output_type": "stream",
     "text": [
      "0:\tlearn: 0.6621165\ttest: 0.6647065\tbest: 0.6647065 (0)\ttotal: 374ms\tremaining: 37s\n",
      "50:\tlearn: 0.1261338\ttest: 0.1284063\tbest: 0.1284063 (50)\ttotal: 18.7s\tremaining: 18s\n",
      "99:\tlearn: 0.0365678\ttest: 0.0370052\tbest: 0.0370052 (99)\ttotal: 37.5s\tremaining: 0us\n",
      "\n",
      "bestTest = 0.03700523185\n",
      "bestIteration = 99\n",
      "\n",
      "                                           0\n",
      "ТОК РОТОРА 1                        2.761299\n",
      "ТОК РОТОРА 2                        2.080931\n",
      "ТОК СТАТОРА                         2.118937\n",
      "ВИБРАЦИЯ НА ОПОРЕ 1                 0.474786\n",
      "ВИБРАЦИЯ НА ОПОРЕ 2                 1.981782\n",
      "ВИБРАЦИЯ НА ОПОРЕ 3                 3.436942\n",
      "ВИБРАЦИЯ НА ОПОРЕ 3. ПРОДОЛЬНАЯ     6.069168\n",
      "ВИБРАЦИЯ НА ОПОРЕ 4                17.788900\n",
      "ВИБРАЦИЯ НА ОПОРЕ 4. ПРОДОЛЬНАЯ    43.574947\n",
      "ТЕМПЕРАТУРА ПОДШИПНИКА НА ОПОРЕ 1   6.163203\n",
      "ТЕМПЕРАТУРА ПОДШИПНИКА НА ОПОРЕ 2   0.487208\n",
      "ТЕМПЕРАТУРА ПОДШИПНИКА НА ОПОРЕ 3   0.061277\n",
      "ТЕМПЕРАТУРА ПОДШИПНИКА НА ОПОРЕ 4   6.216525\n",
      "ТЕМПЕРАТУРА МАСЛА В МАСЛОБЛОКЕ      0.000000\n",
      "ТЕМПЕРАТУРА МАСЛА В СИСТЕМЕ         0.592558\n",
      "ДАВЛЕНИЕ МАСЛА В СИСТЕМЕ            6.191537\n",
      "Y_ЭКСГАУСТЕР А/М №4_ЗАП. И РЕГ. АРМАТУРА ЭКСГ.№4 M3 0.9539078156312625 476 0 23\n"
     ]
    },
    {
     "data": {
      "application/vnd.jupyter.widget-view+json": {
       "model_id": "06f4b5bcac374f42a2b3001f744ee3f7",
       "version_major": 2,
       "version_minor": 0
      },
      "text/plain": [
       "MetricVisualizer(layout=Layout(align_self='stretch', height='500px'))"
      ]
     },
     "metadata": {},
     "output_type": "display_data"
    },
    {
     "name": "stdout",
     "output_type": "stream",
     "text": [
      "0:\tlearn: 0.6635408\ttest: 0.6654152\tbest: 0.6654152 (0)\ttotal: 398ms\tremaining: 39.4s\n",
      "50:\tlearn: 0.1361526\ttest: 0.1416097\tbest: 0.1416097 (50)\ttotal: 18.9s\tremaining: 18.1s\n",
      "99:\tlearn: 0.0433565\ttest: 0.0483498\tbest: 0.0483498 (99)\ttotal: 37.4s\tremaining: 0us\n",
      "\n",
      "bestTest = 0.04834978922\n",
      "bestIteration = 99\n",
      "\n",
      "                                           0\n",
      "ТОК РОТОРА 1                        6.036653\n",
      "ТОК РОТОРА 2                        5.508086\n",
      "ТОК СТАТОРА                         1.005204\n",
      "ВИБРАЦИЯ НА ОПОРЕ 1                 1.576235\n",
      "ВИБРАЦИЯ НА ОПОРЕ 2                14.120256\n",
      "ВИБРАЦИЯ НА ОПОРЕ 3                10.100775\n",
      "ВИБРАЦИЯ НА ОПОРЕ 3. ПРОДОЛЬНАЯ     4.998206\n",
      "ВИБРАЦИЯ НА ОПОРЕ 4                11.253474\n",
      "ВИБРАЦИЯ НА ОПОРЕ 4. ПРОДОЛЬНАЯ    15.060561\n",
      "ТЕМПЕРАТУРА ПОДШИПНИКА НА ОПОРЕ 1   0.318646\n",
      "ТЕМПЕРАТУРА ПОДШИПНИКА НА ОПОРЕ 2   0.387027\n",
      "ТЕМПЕРАТУРА ПОДШИПНИКА НА ОПОРЕ 3   0.914181\n",
      "ТЕМПЕРАТУРА ПОДШИПНИКА НА ОПОРЕ 4   2.631079\n",
      "ТЕМПЕРАТУРА МАСЛА В МАСЛОБЛОКЕ      2.226298\n",
      "ТЕМПЕРАТУРА МАСЛА В СИСТЕМЕ         0.054143\n",
      "ДАВЛЕНИЕ МАСЛА В СИСТЕМЕ           23.809177\n",
      "Y_ЭКСГАУСТЕР А/М №4_ПОДШИПНИК ОПОРНЫЙ №1 ЭКСГ. №4 M3 0.8943488943488943 364 1 42\n"
     ]
    },
    {
     "data": {
      "application/vnd.jupyter.widget-view+json": {
       "model_id": "bef0e58e7bb244459911ba84f53dca42",
       "version_major": 2,
       "version_minor": 0
      },
      "text/plain": [
       "MetricVisualizer(layout=Layout(align_self='stretch', height='500px'))"
      ]
     },
     "metadata": {},
     "output_type": "display_data"
    },
    {
     "name": "stdout",
     "output_type": "stream",
     "text": [
      "0:\tlearn: 0.6621692\ttest: 0.6640793\tbest: 0.6640793 (0)\ttotal: 370ms\tremaining: 36.6s\n",
      "50:\tlearn: 0.1216881\ttest: 0.1211500\tbest: 0.1211500 (50)\ttotal: 20.8s\tremaining: 20s\n",
      "99:\tlearn: 0.0332899\ttest: 0.0327495\tbest: 0.0327495 (99)\ttotal: 40.7s\tremaining: 0us\n",
      "\n",
      "bestTest = 0.03274948576\n",
      "bestIteration = 99\n",
      "\n",
      "                                           0\n",
      "ТОК РОТОРА 1                       23.175837\n",
      "ТОК РОТОРА 2                       24.481364\n",
      "ТОК СТАТОРА                         0.721508\n",
      "ВИБРАЦИЯ НА ОПОРЕ 1                 1.419824\n",
      "ВИБРАЦИЯ НА ОПОРЕ 2                 5.790977\n",
      "ВИБРАЦИЯ НА ОПОРЕ 3                 3.502997\n",
      "ВИБРАЦИЯ НА ОПОРЕ 3. ПРОДОЛЬНАЯ     0.134754\n",
      "ВИБРАЦИЯ НА ОПОРЕ 4                 0.000000\n",
      "ВИБРАЦИЯ НА ОПОРЕ 4. ПРОДОЛЬНАЯ    17.096923\n",
      "ТЕМПЕРАТУРА ПОДШИПНИКА НА ОПОРЕ 1   1.335710\n",
      "ТЕМПЕРАТУРА ПОДШИПНИКА НА ОПОРЕ 2  10.917255\n",
      "ТЕМПЕРАТУРА ПОДШИПНИКА НА ОПОРЕ 3   4.106747\n",
      "ТЕМПЕРАТУРА ПОДШИПНИКА НА ОПОРЕ 4   1.401245\n",
      "ТЕМПЕРАТУРА МАСЛА В МАСЛОБЛОКЕ      2.429042\n",
      "ТЕМПЕРАТУРА МАСЛА В СИСТЕМЕ         0.693675\n",
      "ДАВЛЕНИЕ МАСЛА В СИСТЕМЕ            2.792142\n",
      "Y_ЭКСГАУСТЕР А/М №4_ЭЛ/ДВИГАТЕЛЬ ГАЗ. ЗАДВИЖКИ ЭКСГ. №4 M3 0.7898089171974523 124 12 21\n"
     ]
    },
    {
     "data": {
      "application/vnd.jupyter.widget-view+json": {
       "model_id": "9113cce096844f5db38ad987c8c0a721",
       "version_major": 2,
       "version_minor": 0
      },
      "text/plain": [
       "MetricVisualizer(layout=Layout(align_self='stretch', height='500px'))"
      ]
     },
     "metadata": {},
     "output_type": "display_data"
    },
    {
     "name": "stdout",
     "output_type": "stream",
     "text": [
      "0:\tlearn: 0.6613809\ttest: 0.6635989\tbest: 0.6635989 (0)\ttotal: 403ms\tremaining: 39.9s\n",
      "50:\tlearn: 0.1133183\ttest: 0.1135546\tbest: 0.1135546 (50)\ttotal: 21.5s\tremaining: 20.7s\n",
      "99:\tlearn: 0.0249197\ttest: 0.0249759\tbest: 0.0249759 (99)\ttotal: 42.1s\tremaining: 0us\n",
      "\n",
      "bestTest = 0.02497588715\n",
      "bestIteration = 99\n",
      "\n",
      "                                          0\n",
      "ТОК РОТОРА 1                       3.858368\n",
      "ТОК РОТОРА 2                       5.152770\n",
      "ТОК СТАТОРА                        4.342059\n",
      "ВИБРАЦИЯ НА ОПОРЕ 1                4.682547\n",
      "ВИБРАЦИЯ НА ОПОРЕ 2                5.846121\n",
      "ВИБРАЦИЯ НА ОПОРЕ 3                8.119267\n",
      "ВИБРАЦИЯ НА ОПОРЕ 3. ПРОДОЛЬНАЯ    6.766794\n",
      "ВИБРАЦИЯ НА ОПОРЕ 4                8.453751\n",
      "ВИБРАЦИЯ НА ОПОРЕ 4. ПРОДОЛЬНАЯ    6.846192\n",
      "ТЕМПЕРАТУРА ПОДШИПНИКА НА ОПОРЕ 1  7.140281\n",
      "ТЕМПЕРАТУРА ПОДШИПНИКА НА ОПОРЕ 2  7.116136\n",
      "ТЕМПЕРАТУРА ПОДШИПНИКА НА ОПОРЕ 3  8.200967\n",
      "ТЕМПЕРАТУРА ПОДШИПНИКА НА ОПОРЕ 4  4.036574\n",
      "ТЕМПЕРАТУРА МАСЛА В МАСЛОБЛОКЕ     5.827628\n",
      "ТЕМПЕРАТУРА МАСЛА В СИСТЕМЕ        5.557066\n",
      "ДАВЛЕНИЕ МАСЛА В СИСТЕМЕ           8.053480\n",
      "Y_ЭКСГАУСТЕР А/М №4_КЛ1 ТР№4 ДО ЭД ЭКСГАУСТЕРА №4 M3 None 0 0 0\n"
     ]
    },
    {
     "data": {
      "application/vnd.jupyter.widget-view+json": {
       "model_id": "86bb96da24b6447c97df287799b10446",
       "version_major": 2,
       "version_minor": 0
      },
      "text/plain": [
       "MetricVisualizer(layout=Layout(align_self='stretch', height='500px'))"
      ]
     },
     "metadata": {},
     "output_type": "display_data"
    },
    {
     "name": "stdout",
     "output_type": "stream",
     "text": [
      "0:\tlearn: 0.6613809\ttest: 0.6635990\tbest: 0.6635990 (0)\ttotal: 402ms\tremaining: 39.8s\n",
      "50:\tlearn: 0.1133183\ttest: 0.1135567\tbest: 0.1135567 (50)\ttotal: 21.7s\tremaining: 20.9s\n",
      "99:\tlearn: 0.0249197\ttest: 0.0249784\tbest: 0.0249784 (99)\ttotal: 41.8s\tremaining: 0us\n",
      "\n",
      "bestTest = 0.02497844612\n",
      "bestIteration = 99\n",
      "\n",
      "                                          0\n",
      "ТОК РОТОРА 1                       3.858368\n",
      "ТОК РОТОРА 2                       5.152770\n",
      "ТОК СТАТОРА                        4.342059\n",
      "ВИБРАЦИЯ НА ОПОРЕ 1                4.682547\n",
      "ВИБРАЦИЯ НА ОПОРЕ 2                5.846121\n",
      "ВИБРАЦИЯ НА ОПОРЕ 3                8.119267\n",
      "ВИБРАЦИЯ НА ОПОРЕ 3. ПРОДОЛЬНАЯ    6.766794\n",
      "ВИБРАЦИЯ НА ОПОРЕ 4                8.453751\n",
      "ВИБРАЦИЯ НА ОПОРЕ 4. ПРОДОЛЬНАЯ    6.846192\n",
      "ТЕМПЕРАТУРА ПОДШИПНИКА НА ОПОРЕ 1  7.140281\n",
      "ТЕМПЕРАТУРА ПОДШИПНИКА НА ОПОРЕ 2  7.116136\n",
      "ТЕМПЕРАТУРА ПОДШИПНИКА НА ОПОРЕ 3  8.200967\n",
      "ТЕМПЕРАТУРА ПОДШИПНИКА НА ОПОРЕ 4  4.036574\n",
      "ТЕМПЕРАТУРА МАСЛА В МАСЛОБЛОКЕ     5.827628\n",
      "ТЕМПЕРАТУРА МАСЛА В СИСТЕМЕ        5.557066\n",
      "ДАВЛЕНИЕ МАСЛА В СИСТЕМЕ           8.053480\n",
      "Y_ЭКСГАУСТЕР А/М №4_КЛ2 ТР№4 ДО ЭД ЭКСГАУСТЕРА №4 M3 None 0 0 0\n"
     ]
    },
    {
     "data": {
      "application/vnd.jupyter.widget-view+json": {
       "model_id": "80672e0ae28f4ab2a46ac53880a62696",
       "version_major": 2,
       "version_minor": 0
      },
      "text/plain": [
       "MetricVisualizer(layout=Layout(align_self='stretch', height='500px'))"
      ]
     },
     "metadata": {},
     "output_type": "display_data"
    },
    {
     "name": "stdout",
     "output_type": "stream",
     "text": [
      "0:\tlearn: 0.6613807\ttest: 0.6635987\tbest: 0.6635987 (0)\ttotal: 402ms\tremaining: 39.8s\n",
      "50:\tlearn: 0.1133118\ttest: 0.1135557\tbest: 0.1135557 (50)\ttotal: 21.4s\tremaining: 20.5s\n",
      "99:\tlearn: 0.0249091\ttest: 0.0249745\tbest: 0.0249745 (99)\ttotal: 41.9s\tremaining: 0us\n",
      "\n",
      "bestTest = 0.02497446544\n",
      "bestIteration = 99\n",
      "\n",
      "                                          0\n",
      "ТОК РОТОРА 1                       3.866407\n",
      "ТОК РОТОРА 2                       5.108624\n",
      "ТОК СТАТОРА                        4.374623\n",
      "ВИБРАЦИЯ НА ОПОРЕ 1                4.738266\n",
      "ВИБРАЦИЯ НА ОПОРЕ 2                5.812457\n",
      "ВИБРАЦИЯ НА ОПОРЕ 3                8.139036\n",
      "ВИБРАЦИЯ НА ОПОРЕ 3. ПРОДОЛЬНАЯ    6.803656\n",
      "ВИБРАЦИЯ НА ОПОРЕ 4                8.511703\n",
      "ВИБРАЦИЯ НА ОПОРЕ 4. ПРОДОЛЬНАЯ    6.889706\n",
      "ТЕМПЕРАТУРА ПОДШИПНИКА НА ОПОРЕ 1  7.030738\n",
      "ТЕМПЕРАТУРА ПОДШИПНИКА НА ОПОРЕ 2  7.132350\n",
      "ТЕМПЕРАТУРА ПОДШИПНИКА НА ОПОРЕ 3  8.196154\n",
      "ТЕМПЕРАТУРА ПОДШИПНИКА НА ОПОРЕ 4  4.047112\n",
      "ТЕМПЕРАТУРА МАСЛА В МАСЛОБЛОКЕ     5.856821\n",
      "ТЕМПЕРАТУРА МАСЛА В СИСТЕМЕ        5.533613\n",
      "ДАВЛЕНИЕ МАСЛА В СИСТЕМЕ           7.958733\n",
      "Y_ЭКСГАУСТЕР А/М №4_ТР-Р ТМ-4000-10/6 ЭКСГ. №4 M3 None 0 0 0\n"
     ]
    }
   ],
   "source": [
    "import catboost\n",
    "\n",
    "summary = dict()\n",
    "summary[\"model\"] = []\n",
    "summary[\"f1\"] = []\n",
    "summary[\"score\"] = []\n",
    "summary[\"TP\"] = []\n",
    "summary[\"FP\"] = []\n",
    "summary[\"FN\"] = []\n",
    "\n",
    "\n",
    "for col in y_train.columns:\n",
    "\n",
    "    target_train = y_train[col]\n",
    "    if len(target_train.unique())>1:\n",
    "        model = catboost.CatBoostClassifier(iterations=100, loss_function='CrossEntropy')\n",
    "\n",
    "        X_test = X_train.sample(10000)\n",
    "        target_test = target_train.loc[X_test.index.values]\n",
    "\n",
    "        X_val = X_train.sample(1000)\n",
    "        target_val = target_train.loc[X_val.index.values]\n",
    "\n",
    "        X_train = X_train#.sample(1000000)\n",
    "        target_train = target_train.loc[X_train.index.values]\n",
    "\n",
    "        model.fit(X_train.values, target_train.values, eval_set=(X_val.values, target_val.values), verbose=50, use_best_model=True, plot=True, early_stopping_rounds=100)\n",
    "        print(pd.DataFrame(model.feature_importances_, index=X_train.columns ))\n",
    "\n",
    "        model.save_model(\"ЭКСГАУСТЕР АМ 4 \" +col.replace(\"/\", \"\"),format=\"cbm\",export_parameters=None, pool=None)\n",
    "        \n",
    "        pred = model.predict(X_test.values)\n",
    "        TP = sum((pred == 1)*(target_test == 1))\n",
    "        FP = sum((pred == 1)*(target_test == 0))\n",
    "        FN = sum((pred == 0)*(target_test == 1))\n",
    "        summary[\"model\"].append(\" ЭКСГАУСТЕР АМ 4 \" + col.replace(\"/\", \"\"))\n",
    "        summary[\"TP\"].append(TP)\n",
    "        summary[\"FP\"].append(FP)\n",
    "        summary[\"FN\"].append(FN)\n",
    "        if (TP+FP+FN)!=0:\n",
    "            print(col, TP/(TP+FP+FN), TP, FP, FN)\n",
    "            summary[\"f1\"].append(2*TP/(2*TP+FP+FN))\n",
    "            summary[\"score\"].append(TP/(TP+FP+FN))\n",
    "        else:\n",
    "            print(col, None, TP, FP, FN)\n",
    "            summary[\"f1\"].append(None)\n",
    "            summary[\"score\"].append(None)\n",
    "    else:\n",
    "        summary[\"model\"].append(\"ЭКСГАУСТЕР АМ 4 \" + col.replace(\"/\", \"\"))\n",
    "        summary[\"TP\"].append(0)\n",
    "        summary[\"FP\"].append(0)\n",
    "        summary[\"FN\"].append(0)\n",
    "        summary[\"f1\"].append(None)\n",
    "        summary[\"score\"].append(None)\n",
    "        \n",
    "            \n",
    "pd.DataFrame(summary).to_csv(\"summary ЭКСГАУСТЕР АМ 4.csv\")"
   ]
  }
 ],
 "metadata": {
  "kernelspec": {
   "display_name": "Python 3",
   "language": "python",
   "name": "python3"
  },
  "language_info": {
   "codemirror_mode": {
    "name": "ipython",
    "version": 3
   },
   "file_extension": ".py",
   "mimetype": "text/x-python",
   "name": "python",
   "nbconvert_exporter": "python",
   "pygments_lexer": "ipython3",
   "version": "3.10.10"
  },
  "papermill": {
   "default_parameters": {},
   "duration": 1435.699259,
   "end_time": "2023-05-28T15:40:56.824042",
   "environment_variables": {},
   "exception": null,
   "input_path": "__notebook__.ipynb",
   "output_path": "__notebook__.ipynb",
   "parameters": {},
   "start_time": "2023-05-28T15:17:01.124783",
   "version": "2.4.0"
  },
  "widgets": {
   "application/vnd.jupyter.widget-state+json": {
    "state": {
     "0165575c63d440d994d32f28bcd78732": {
      "model_module": "@jupyter-widgets/base",
      "model_module_version": "1.2.0",
      "model_name": "LayoutModel",
      "state": {
       "_model_module": "@jupyter-widgets/base",
       "_model_module_version": "1.2.0",
       "_model_name": "LayoutModel",
       "_view_count": null,
       "_view_module": "@jupyter-widgets/base",
       "_view_module_version": "1.2.0",
       "_view_name": "LayoutView",
       "align_content": null,
       "align_items": null,
       "align_self": "stretch",
       "border": null,
       "bottom": null,
       "display": null,
       "flex": null,
       "flex_flow": null,
       "grid_area": null,
       "grid_auto_columns": null,
       "grid_auto_flow": null,
       "grid_auto_rows": null,
       "grid_column": null,
       "grid_gap": null,
       "grid_row": null,
       "grid_template_areas": null,
       "grid_template_columns": null,
       "grid_template_rows": null,
       "height": "500px",
       "justify_content": null,
       "justify_items": null,
       "left": null,
       "margin": null,
       "max_height": null,
       "max_width": null,
       "min_height": null,
       "min_width": null,
       "object_fit": null,
       "object_position": null,
       "order": null,
       "overflow": null,
       "overflow_x": null,
       "overflow_y": null,
       "padding": null,
       "right": null,
       "top": null,
       "visibility": null,
       "width": null
      }
     },
     "0481f2fccee24b4aaac9988fac9fb899": {
      "model_module": "@jupyter-widgets/base",
      "model_module_version": "1.2.0",
      "model_name": "LayoutModel",
      "state": {
       "_model_module": "@jupyter-widgets/base",
       "_model_module_version": "1.2.0",
       "_model_name": "LayoutModel",
       "_view_count": null,
       "_view_module": "@jupyter-widgets/base",
       "_view_module_version": "1.2.0",
       "_view_name": "LayoutView",
       "align_content": null,
       "align_items": null,
       "align_self": "stretch",
       "border": null,
       "bottom": null,
       "display": null,
       "flex": null,
       "flex_flow": null,
       "grid_area": null,
       "grid_auto_columns": null,
       "grid_auto_flow": null,
       "grid_auto_rows": null,
       "grid_column": null,
       "grid_gap": null,
       "grid_row": null,
       "grid_template_areas": null,
       "grid_template_columns": null,
       "grid_template_rows": null,
       "height": "500px",
       "justify_content": null,
       "justify_items": null,
       "left": null,
       "margin": null,
       "max_height": null,
       "max_width": null,
       "min_height": null,
       "min_width": null,
       "object_fit": null,
       "object_position": null,
       "order": null,
       "overflow": null,
       "overflow_x": null,
       "overflow_y": null,
       "padding": null,
       "right": null,
       "top": null,
       "visibility": null,
       "width": null
      }
     },
     "0505d8f1ea274891933ad0a7f46bcd5b": {
      "model_module": "@jupyter-widgets/base",
      "model_module_version": "1.2.0",
      "model_name": "LayoutModel",
      "state": {
       "_model_module": "@jupyter-widgets/base",
       "_model_module_version": "1.2.0",
       "_model_name": "LayoutModel",
       "_view_count": null,
       "_view_module": "@jupyter-widgets/base",
       "_view_module_version": "1.2.0",
       "_view_name": "LayoutView",
       "align_content": null,
       "align_items": null,
       "align_self": "stretch",
       "border": null,
       "bottom": null,
       "display": null,
       "flex": null,
       "flex_flow": null,
       "grid_area": null,
       "grid_auto_columns": null,
       "grid_auto_flow": null,
       "grid_auto_rows": null,
       "grid_column": null,
       "grid_gap": null,
       "grid_row": null,
       "grid_template_areas": null,
       "grid_template_columns": null,
       "grid_template_rows": null,
       "height": "500px",
       "justify_content": null,
       "justify_items": null,
       "left": null,
       "margin": null,
       "max_height": null,
       "max_width": null,
       "min_height": null,
       "min_width": null,
       "object_fit": null,
       "object_position": null,
       "order": null,
       "overflow": null,
       "overflow_x": null,
       "overflow_y": null,
       "padding": null,
       "right": null,
       "top": null,
       "visibility": null,
       "width": null
      }
     },
     "06f4b5bcac374f42a2b3001f744ee3f7": {
      "model_module": "catboost-widget",
      "model_module_version": "^1.0.0",
      "model_name": "CatboostWidgetModel",
      "state": {
       "_dom_classes": [],
       "_model_module": "catboost-widget",
       "_model_module_version": "^1.0.0",
       "_model_name": "CatboostWidgetModel",
       "_view_count": null,
       "_view_module": "catboost-widget",
       "_view_module_version": "^1.0.0",
       "_view_name": "CatboostWidgetView",
       "data": {
        "catboost_info": {
         "content": {
          "data": {
           "iterations": [
            {
             "iteration": 0,
             "learn": [
              0.6635408371
             ],
             "passed_time": 0.3978589432,
             "remaining_time": 39.38803538,
             "test": [
              0.6654152436
             ]
            },
            {
             "iteration": 1,
             "learn": [
              0.6396675682
             ],
             "passed_time": 0.7781824619,
             "remaining_time": 38.13094063,
             "test": [
              0.6396147091
             ]
            },
            {
             "iteration": 2,
             "learn": [
              0.6135301122
             ],
             "passed_time": 1.130196853,
             "remaining_time": 36.54303159,
             "test": [
              0.6145612428
             ]
            },
            {
             "iteration": 3,
             "learn": [
              0.5899290627
             ],
             "passed_time": 1.458719644,
             "remaining_time": 35.00927146,
             "test": [
              0.5909226207
             ]
            },
            {
             "iteration": 4,
             "learn": [
              0.5682152305
             ],
             "passed_time": 1.787903834,
             "remaining_time": 33.97017284,
             "test": [
              0.5686622021
             ]
            },
            {
             "iteration": 5,
             "learn": [
              0.5476056519
             ],
             "passed_time": 2.142936079,
             "remaining_time": 33.57266523,
             "test": [
              0.5477629359
             ]
            },
            {
             "iteration": 6,
             "learn": [
              0.5260341656
             ],
             "passed_time": 2.502163081,
             "remaining_time": 33.2430238,
             "test": [
              0.5277483431
             ]
            },
            {
             "iteration": 7,
             "learn": [
              0.5080514135
             ],
             "passed_time": 2.833946788,
             "remaining_time": 32.59038806,
             "test": [
              0.5085480204
             ]
            },
            {
             "iteration": 8,
             "learn": [
              0.4898250824
             ],
             "passed_time": 3.221882532,
             "remaining_time": 32.57681227,
             "test": [
              0.4905973326
             ]
            },
            {
             "iteration": 9,
             "learn": [
              0.472269744
             ],
             "passed_time": 3.582485186,
             "remaining_time": 32.24236667,
             "test": [
              0.4732419648
             ]
            },
            {
             "iteration": 10,
             "learn": [
              0.4557471389
             ],
             "passed_time": 3.949060571,
             "remaining_time": 31.95149008,
             "test": [
              0.456675362
             ]
            },
            {
             "iteration": 11,
             "learn": [
              0.4401709681
             ],
             "passed_time": 4.333940834,
             "remaining_time": 31.78223278,
             "test": [
              0.4412023108
             ]
            },
            {
             "iteration": 12,
             "learn": [
              0.4250501646
             ],
             "passed_time": 4.682732268,
             "remaining_time": 31.33828518,
             "test": [
              0.4262043848
             ]
            },
            {
             "iteration": 13,
             "learn": [
              0.4109133427
             ],
             "passed_time": 5.081079976,
             "remaining_time": 31.21234842,
             "test": [
              0.4120656969
             ]
            },
            {
             "iteration": 14,
             "learn": [
              0.3965335345
             ],
             "passed_time": 5.45608937,
             "remaining_time": 30.91783976,
             "test": [
              0.398243003
             ]
            },
            {
             "iteration": 15,
             "learn": [
              0.3835852939
             ],
             "passed_time": 5.844521657,
             "remaining_time": 30.6837387,
             "test": [
              0.3853577411
             ]
            },
            {
             "iteration": 16,
             "learn": [
              0.3713436216
             ],
             "passed_time": 6.224553265,
             "remaining_time": 30.39046594,
             "test": [
              0.3731513141
             ]
            },
            {
             "iteration": 17,
             "learn": [
              0.3590446474
             ],
             "passed_time": 6.604708655,
             "remaining_time": 30.08811721,
             "test": [
              0.3610436427
             ]
            },
            {
             "iteration": 18,
             "learn": [
              0.3473276816
             ],
             "passed_time": 6.959898119,
             "remaining_time": 29.67114461,
             "test": [
              0.3493647393
             ]
            },
            {
             "iteration": 19,
             "learn": [
              0.3364542521
             ],
             "passed_time": 7.340353608,
             "remaining_time": 29.36141443,
             "test": [
              0.3385667083
             ]
            },
            {
             "iteration": 20,
             "learn": [
              0.3256379529
             ],
             "passed_time": 7.696540836,
             "remaining_time": 28.95365362,
             "test": [
              0.3278169893
             ]
            },
            {
             "iteration": 21,
             "learn": [
              0.3153817904
             ],
             "passed_time": 8.050288414,
             "remaining_time": 28.54193165,
             "test": [
              0.3176693455
             ]
            },
            {
             "iteration": 22,
             "learn": [
              0.3059696836
             ],
             "passed_time": 8.424671553,
             "remaining_time": 28.2043352,
             "test": [
              0.3081312792
             ]
            },
            {
             "iteration": 23,
             "learn": [
              0.296346578
             ],
             "passed_time": 8.80402287,
             "remaining_time": 27.87940575,
             "test": [
              0.298782312
             ]
            },
            {
             "iteration": 24,
             "learn": [
              0.2874421969
             ],
             "passed_time": 9.188116377,
             "remaining_time": 27.56434913,
             "test": [
              0.2899217313
             ]
            },
            {
             "iteration": 25,
             "learn": [
              0.2784038837
             ],
             "passed_time": 9.546174086,
             "remaining_time": 27.16988009,
             "test": [
              0.2811253451
             ]
            },
            {
             "iteration": 26,
             "learn": [
              0.2700189126
             ],
             "passed_time": 9.89638933,
             "remaining_time": 26.75690448,
             "test": [
              0.2728730715
             ]
            },
            {
             "iteration": 27,
             "learn": [
              0.2616971427
             ],
             "passed_time": 10.27207793,
             "remaining_time": 26.41391468,
             "test": [
              0.264733201
             ]
            },
            {
             "iteration": 28,
             "learn": [
              0.2539851017
             ],
             "passed_time": 10.64552634,
             "remaining_time": 26.06318517,
             "test": [
              0.2571526863
             ]
            },
            {
             "iteration": 29,
             "learn": [
              0.2465228171
             ],
             "passed_time": 11.04460657,
             "remaining_time": 25.77074866,
             "test": [
              0.2497457358
             ]
            },
            {
             "iteration": 30,
             "learn": [
              0.2391079235
             ],
             "passed_time": 11.46878326,
             "remaining_time": 25.52729178,
             "test": [
              0.242610532
             ]
            },
            {
             "iteration": 31,
             "learn": [
              0.2321685699
             ],
             "passed_time": 11.79149314,
             "remaining_time": 25.05692293,
             "test": [
              0.235654116
             ]
            },
            {
             "iteration": 32,
             "learn": [
              0.2255468321
             ],
             "passed_time": 12.10912881,
             "remaining_time": 24.58520092,
             "test": [
              0.2289723019
             ]
            },
            {
             "iteration": 33,
             "learn": [
              0.2190519142
             ],
             "passed_time": 12.4832684,
             "remaining_time": 24.23222689,
             "test": [
              0.2224948373
             ]
            },
            {
             "iteration": 34,
             "learn": [
              0.2127212091
             ],
             "passed_time": 12.85198417,
             "remaining_time": 23.8679706,
             "test": [
              0.2164076079
             ]
            },
            {
             "iteration": 35,
             "learn": [
              0.2064301775
             ],
             "passed_time": 13.25302968,
             "remaining_time": 23.56094165,
             "test": [
              0.2103367327
             ]
            },
            {
             "iteration": 36,
             "learn": [
              0.2007203237
             ],
             "passed_time": 13.65782441,
             "remaining_time": 23.25521453,
             "test": [
              0.2047535515
             ]
            },
            {
             "iteration": 37,
             "learn": [
              0.1949824012
             ],
             "passed_time": 13.99561087,
             "remaining_time": 22.83494406,
             "test": [
              0.1992750124
             ]
            },
            {
             "iteration": 38,
             "learn": [
              0.1895419707
             ],
             "passed_time": 14.39845413,
             "remaining_time": 22.52065902,
             "test": [
              0.1938742639
             ]
            },
            {
             "iteration": 39,
             "learn": [
              0.1841757612
             ],
             "passed_time": 14.80944658,
             "remaining_time": 22.21416987,
             "test": [
              0.1885794442
             ]
            },
            {
             "iteration": 40,
             "learn": [
              0.1789253816
             ],
             "passed_time": 15.20687832,
             "remaining_time": 21.8830688,
             "test": [
              0.1834764352
             ]
            },
            {
             "iteration": 41,
             "learn": [
              0.1739534109
             ],
             "passed_time": 15.54369173,
             "remaining_time": 21.4650981,
             "test": [
              0.1786382676
             ]
            },
            {
             "iteration": 42,
             "learn": [
              0.1692949162
             ],
             "passed_time": 15.88202256,
             "remaining_time": 21.05291363,
             "test": [
              0.1740975759
             ]
            },
            {
             "iteration": 43,
             "learn": [
              0.1645973661
             ],
             "passed_time": 16.2236904,
             "remaining_time": 20.64833324,
             "test": [
              0.1695977742
             ]
            },
            {
             "iteration": 44,
             "learn": [
              0.1601738855
             ],
             "passed_time": 16.62386884,
             "remaining_time": 20.31806191,
             "test": [
              0.1651788941
             ]
            },
            {
             "iteration": 45,
             "learn": [
              0.1558388913
             ],
             "passed_time": 16.97264147,
             "remaining_time": 19.92440521,
             "test": [
              0.1609207983
             ]
            },
            {
             "iteration": 46,
             "learn": [
              0.151529574
             ],
             "passed_time": 17.33443952,
             "remaining_time": 19.5473467,
             "test": [
              0.1567029993
             ]
            },
            {
             "iteration": 47,
             "learn": [
              0.1474497276
             ],
             "passed_time": 17.71005079,
             "remaining_time": 19.18588836,
             "test": [
              0.1527842499
             ]
            },
            {
             "iteration": 48,
             "learn": [
              0.1435640651
             ],
             "passed_time": 18.10804565,
             "remaining_time": 18.84714955,
             "test": [
              0.1489131003
             ]
            },
            {
             "iteration": 49,
             "learn": [
              0.1397825943
             ],
             "passed_time": 18.45332782,
             "remaining_time": 18.45332782,
             "test": [
              0.1452641717
             ]
            },
            {
             "iteration": 50,
             "learn": [
              0.1361525853
             ],
             "passed_time": 18.8523045,
             "remaining_time": 18.11299845,
             "test": [
              0.1416096959
             ]
            },
            {
             "iteration": 51,
             "learn": [
              0.1326014528
             ],
             "passed_time": 19.24022534,
             "remaining_time": 17.76020801,
             "test": [
              0.1380561154
             ]
            },
            {
             "iteration": 52,
             "learn": [
              0.1291554719
             ],
             "passed_time": 19.63727463,
             "remaining_time": 17.41418694,
             "test": [
              0.1346651828
             ]
            },
            {
             "iteration": 53,
             "learn": [
              0.1257160143
             ],
             "passed_time": 20.04174464,
             "remaining_time": 17.07259729,
             "test": [
              0.13141226
             ]
            },
            {
             "iteration": 54,
             "learn": [
              0.1223925546
             ],
             "passed_time": 20.34019961,
             "remaining_time": 16.6419815,
             "test": [
              0.128010845
             ]
            },
            {
             "iteration": 55,
             "learn": [
              0.1192436742
             ],
             "passed_time": 20.71923056,
             "remaining_time": 16.27939544,
             "test": [
              0.1249300876
             ]
            },
            {
             "iteration": 56,
             "learn": [
              0.1161741026
             ],
             "passed_time": 21.06774059,
             "remaining_time": 15.89320781,
             "test": [
              0.1219539082
             ]
            },
            {
             "iteration": 57,
             "learn": [
              0.1133256682
             ],
             "passed_time": 21.46634398,
             "remaining_time": 15.54459392,
             "test": [
              0.1191227142
             ]
            },
            {
             "iteration": 58,
             "learn": [
              0.1104863037
             ],
             "passed_time": 21.8635558,
             "remaining_time": 15.19331844,
             "test": [
              0.1163284235
             ]
            },
            {
             "iteration": 59,
             "learn": [
              0.1075947264
             ],
             "passed_time": 22.15981012,
             "remaining_time": 14.77320675,
             "test": [
              0.1134394716
             ]
            },
            {
             "iteration": 60,
             "learn": [
              0.104947538
             ],
             "passed_time": 22.54529488,
             "remaining_time": 14.41420493,
             "test": [
              0.1107742617
             ]
            },
            {
             "iteration": 61,
             "learn": [
              0.1023157509
             ],
             "passed_time": 22.88296085,
             "remaining_time": 14.02504052,
             "test": [
              0.1082884758
             ]
            },
            {
             "iteration": 62,
             "learn": [
              0.09969618661
             ],
             "passed_time": 23.1824574,
             "remaining_time": 13.61509403,
             "test": [
              0.1056474238
             ]
            },
            {
             "iteration": 63,
             "learn": [
              0.09729306481
             ],
             "passed_time": 23.52147251,
             "remaining_time": 13.23082828,
             "test": [
              0.1032460602
             ]
            },
            {
             "iteration": 64,
             "learn": [
              0.09485389121
             ],
             "passed_time": 23.9318685,
             "remaining_time": 12.88639073,
             "test": [
              0.1007813073
             ]
            },
            {
             "iteration": 65,
             "learn": [
              0.09255743093
             ],
             "passed_time": 24.5073522,
             "remaining_time": 12.62499962,
             "test": [
              0.09854347833
             ]
            },
            {
             "iteration": 66,
             "learn": [
              0.09032441798
             ],
             "passed_time": 24.94548377,
             "remaining_time": 12.28658156,
             "test": [
              0.09646957674
             ]
            },
            {
             "iteration": 67,
             "learn": [
              0.08818964512
             ],
             "passed_time": 25.34334076,
             "remaining_time": 11.926278,
             "test": [
              0.09430027868
             ]
            },
            {
             "iteration": 68,
             "learn": [
              0.08603285923
             ],
             "passed_time": 25.73955727,
             "remaining_time": 11.56414892,
             "test": [
              0.09223305761
             ]
            },
            {
             "iteration": 69,
             "learn": [
              0.08395202423
             ],
             "passed_time": 26.16317771,
             "remaining_time": 11.21279045,
             "test": [
              0.09016209483
             ]
            },
            {
             "iteration": 70,
             "learn": [
              0.08218195141
             ],
             "passed_time": 26.52881037,
             "remaining_time": 10.83571128,
             "test": [
              0.08849977362
             ]
            },
            {
             "iteration": 71,
             "learn": [
              0.08036219572
             ],
             "passed_time": 26.84801119,
             "remaining_time": 10.44089324,
             "test": [
              0.08670375484
             ]
            },
            {
             "iteration": 72,
             "learn": [
              0.07835078355
             ],
             "passed_time": 27.16211151,
             "remaining_time": 10.04626042,
             "test": [
              0.0847815797
             ]
            },
            {
             "iteration": 73,
             "learn": [
              0.07666473246
             ],
             "passed_time": 27.48705652,
             "remaining_time": 9.657614453,
             "test": [
              0.08311076066
             ]
            },
            {
             "iteration": 74,
             "learn": [
              0.07488045613
             ],
             "passed_time": 27.90332105,
             "remaining_time": 9.301107016,
             "test": [
              0.0814371404
             ]
            },
            {
             "iteration": 75,
             "learn": [
              0.07336045277
             ],
             "passed_time": 28.22763987,
             "remaining_time": 8.913991538,
             "test": [
              0.07991230928
             ]
            },
            {
             "iteration": 76,
             "learn": [
              0.07157623988
             ],
             "passed_time": 28.7031664,
             "remaining_time": 8.57367308,
             "test": [
              0.07821059881
             ]
            },
            {
             "iteration": 77,
             "learn": [
              0.07000783197
             ],
             "passed_time": 29.07569258,
             "remaining_time": 8.200836369,
             "test": [
              0.07671452941
             ]
            },
            {
             "iteration": 78,
             "learn": [
              0.06842350835
             ],
             "passed_time": 29.49771967,
             "remaining_time": 7.841165989,
             "test": [
              0.07516710937
             ]
            },
            {
             "iteration": 79,
             "learn": [
              0.06707280483
             ],
             "passed_time": 29.87575459,
             "remaining_time": 7.468938647,
             "test": [
              0.07384891353
             ]
            },
            {
             "iteration": 80,
             "learn": [
              0.06530239069
             ],
             "passed_time": 30.23898897,
             "remaining_time": 7.093096178,
             "test": [
              0.07170561818
             ]
            },
            {
             "iteration": 81,
             "learn": [
              0.06364724249
             ],
             "passed_time": 30.61176333,
             "remaining_time": 6.719655366,
             "test": [
              0.0697032425
             ]
            },
            {
             "iteration": 82,
             "learn": [
              0.06222915351
             ],
             "passed_time": 30.98845178,
             "remaining_time": 6.347032293,
             "test": [
              0.0683661343
             ]
            },
            {
             "iteration": 83,
             "learn": [
              0.06106888408
             ],
             "passed_time": 31.35231903,
             "remaining_time": 5.971870291,
             "test": [
              0.06730361567
             ]
            },
            {
             "iteration": 84,
             "learn": [
              0.0599485023
             ],
             "passed_time": 31.72392279,
             "remaining_time": 5.598339316,
             "test": [
              0.06627418282
             ]
            },
            {
             "iteration": 85,
             "learn": [
              0.05847376632
             ],
             "passed_time": 32.1317587,
             "remaining_time": 5.230751416,
             "test": [
              0.06449007987
             ]
            },
            {
             "iteration": 86,
             "learn": [
              0.05731899358
             ],
             "passed_time": 32.45759546,
             "remaining_time": 4.849985528,
             "test": [
              0.06339082279
             ]
            },
            {
             "iteration": 87,
             "learn": [
              0.0560604931
             ],
             "passed_time": 32.75904662,
             "remaining_time": 4.467142721,
             "test": [
              0.06212934337
             ]
            },
            {
             "iteration": 88,
             "learn": [
              0.05478308749
             ],
             "passed_time": 33.18176915,
             "remaining_time": 4.101117536,
             "test": [
              0.06080577097
             ]
            },
            {
             "iteration": 89,
             "learn": [
              0.05344317063
             ],
             "passed_time": 33.59071469,
             "remaining_time": 3.732301633,
             "test": [
              0.05931592901
             ]
            },
            {
             "iteration": 90,
             "learn": [
              0.05259008633
             ],
             "passed_time": 33.94851696,
             "remaining_time": 3.357545634,
             "test": [
              0.05840224294
             ]
            },
            {
             "iteration": 91,
             "learn": [
              0.05132372449
             ],
             "passed_time": 34.31784077,
             "remaining_time": 2.984160067,
             "test": [
              0.0569234275
             ]
            },
            {
             "iteration": 92,
             "learn": [
              0.05045058185
             ],
             "passed_time": 34.6846523,
             "remaining_time": 2.610672754,
             "test": [
              0.0561049496
             ]
            },
            {
             "iteration": 93,
             "learn": [
              0.0492784048
             ],
             "passed_time": 35.10668895,
             "remaining_time": 2.240852486,
             "test": [
              0.05474893001
             ]
            },
            {
             "iteration": 94,
             "learn": [
              0.04816107289
             ],
             "passed_time": 35.49392065,
             "remaining_time": 1.868101087,
             "test": [
              0.05345181383
             ]
            },
            {
             "iteration": 95,
             "learn": [
              0.0471328301
             ],
             "passed_time": 35.92522208,
             "remaining_time": 1.496884253,
             "test": [
              0.05235437657
             ]
            },
            {
             "iteration": 96,
             "learn": [
              0.04610892433
             ],
             "passed_time": 36.229469,
             "remaining_time": 1.120499041,
             "test": [
              0.05143044799
             ]
            },
            {
             "iteration": 97,
             "learn": [
              0.04533349856
             ],
             "passed_time": 36.58743607,
             "remaining_time": 0.7466823688,
             "test": [
              0.05061876401
             ]
            },
            {
             "iteration": 98,
             "learn": [
              0.04432446975
             ],
             "passed_time": 37.00896949,
             "remaining_time": 0.3738279747,
             "test": [
              0.04946439363
             ]
            },
            {
             "iteration": 99,
             "learn": [
              0.04335652532
             ],
             "passed_time": 37.38589464,
             "remaining_time": 0,
             "test": [
              0.04834978922
             ]
            }
           ],
           "meta": {
            "iteration_count": 100,
            "launch_mode": "Train",
            "learn_metrics": [
             {
              "best_value": "Min",
              "name": "CrossEntropy"
             }
            ],
            "learn_sets": [
             "learn"
            ],
            "name": "experiment",
            "parameters": "",
            "test_metrics": [
             {
              "best_value": "Min",
              "name": "CrossEntropy"
             }
            ],
            "test_sets": [
             "test"
            ]
           }
          },
          "passed_iterations": 99,
          "total_iterations": 100
         },
         "name": "catboost_info",
         "path": "catboost_info"
        }
       },
       "layout": "IPY_MODEL_79f85dca51e54cc589e0deaf798fbe1d"
      }
     },
     "08e9a1ed1e21407eb398ac588e54bcdd": {
      "model_module": "@jupyter-widgets/base",
      "model_module_version": "1.2.0",
      "model_name": "LayoutModel",
      "state": {
       "_model_module": "@jupyter-widgets/base",
       "_model_module_version": "1.2.0",
       "_model_name": "LayoutModel",
       "_view_count": null,
       "_view_module": "@jupyter-widgets/base",
       "_view_module_version": "1.2.0",
       "_view_name": "LayoutView",
       "align_content": null,
       "align_items": null,
       "align_self": "stretch",
       "border": null,
       "bottom": null,
       "display": null,
       "flex": null,
       "flex_flow": null,
       "grid_area": null,
       "grid_auto_columns": null,
       "grid_auto_flow": null,
       "grid_auto_rows": null,
       "grid_column": null,
       "grid_gap": null,
       "grid_row": null,
       "grid_template_areas": null,
       "grid_template_columns": null,
       "grid_template_rows": null,
       "height": "500px",
       "justify_content": null,
       "justify_items": null,
       "left": null,
       "margin": null,
       "max_height": null,
       "max_width": null,
       "min_height": null,
       "min_width": null,
       "object_fit": null,
       "object_position": null,
       "order": null,
       "overflow": null,
       "overflow_x": null,
       "overflow_y": null,
       "padding": null,
       "right": null,
       "top": null,
       "visibility": null,
       "width": null
      }
     },
     "18265667ad894f24b7b0bbfb413ec394": {
      "model_module": "@jupyter-widgets/base",
      "model_module_version": "1.2.0",
      "model_name": "LayoutModel",
      "state": {
       "_model_module": "@jupyter-widgets/base",
       "_model_module_version": "1.2.0",
       "_model_name": "LayoutModel",
       "_view_count": null,
       "_view_module": "@jupyter-widgets/base",
       "_view_module_version": "1.2.0",
       "_view_name": "LayoutView",
       "align_content": null,
       "align_items": null,
       "align_self": "stretch",
       "border": null,
       "bottom": null,
       "display": null,
       "flex": null,
       "flex_flow": null,
       "grid_area": null,
       "grid_auto_columns": null,
       "grid_auto_flow": null,
       "grid_auto_rows": null,
       "grid_column": null,
       "grid_gap": null,
       "grid_row": null,
       "grid_template_areas": null,
       "grid_template_columns": null,
       "grid_template_rows": null,
       "height": "500px",
       "justify_content": null,
       "justify_items": null,
       "left": null,
       "margin": null,
       "max_height": null,
       "max_width": null,
       "min_height": null,
       "min_width": null,
       "object_fit": null,
       "object_position": null,
       "order": null,
       "overflow": null,
       "overflow_x": null,
       "overflow_y": null,
       "padding": null,
       "right": null,
       "top": null,
       "visibility": null,
       "width": null
      }
     },
     "182eab5afd52413d8020b041f87d4981": {
      "model_module": "catboost-widget",
      "model_module_version": "^1.0.0",
      "model_name": "CatboostWidgetModel",
      "state": {
       "_dom_classes": [],
       "_model_module": "catboost-widget",
       "_model_module_version": "^1.0.0",
       "_model_name": "CatboostWidgetModel",
       "_view_count": null,
       "_view_module": "catboost-widget",
       "_view_module_version": "^1.0.0",
       "_view_name": "CatboostWidgetView",
       "data": {
        "catboost_info": {
         "content": {
          "data": {
           "iterations": [
            {
             "iteration": 0,
             "learn": [
              0.6613813525
             ],
             "passed_time": 0.4060135676,
             "remaining_time": 40.19534319,
             "test": [
              0.6635996346
             ]
            },
            {
             "iteration": 1,
             "learn": [
              0.6362964189
             ],
             "passed_time": 0.8548245148,
             "remaining_time": 41.88640123,
             "test": [
              0.6357725764
             ]
            },
            {
             "iteration": 2,
             "learn": [
              0.6093775759
             ],
             "passed_time": 1.242852908,
             "remaining_time": 40.18557736,
             "test": [
              0.6095194272
             ]
            },
            {
             "iteration": 3,
             "learn": [
              0.5837175926
             ],
             "passed_time": 1.618825877,
             "remaining_time": 38.85182105,
             "test": [
              0.5847126181
             ]
            },
            {
             "iteration": 4,
             "learn": [
              0.562193153
             ],
             "passed_time": 2.10299864,
             "remaining_time": 39.95697417,
             "test": [
              0.5612381083
             ]
            },
            {
             "iteration": 5,
             "learn": [
              0.5376518945
             ],
             "passed_time": 2.562477945,
             "remaining_time": 40.14548781,
             "test": [
              0.5389924489
             ]
            },
            {
             "iteration": 6,
             "learn": [
              0.5168862523
             ],
             "passed_time": 2.990183955,
             "remaining_time": 39.72672968,
             "test": [
              0.5178865117
             ]
            },
            {
             "iteration": 7,
             "learn": [
              0.4986870722
             ],
             "passed_time": 3.360525943,
             "remaining_time": 38.64604835,
             "test": [
              0.4978381964
             ]
            },
            {
             "iteration": 8,
             "learn": [
              0.478529815
             ],
             "passed_time": 3.778615734,
             "remaining_time": 38.20600353,
             "test": [
              0.4787752386
             ]
            },
            {
             "iteration": 9,
             "learn": [
              0.460583481
             ],
             "passed_time": 4.273083708,
             "remaining_time": 38.45775338,
             "test": [
              0.4606306035
             ]
            },
            {
             "iteration": 10,
             "learn": [
              0.4438241308
             ],
             "passed_time": 4.609308043,
             "remaining_time": 37.29349234,
             "test": [
              0.4433424992
             ]
            },
            {
             "iteration": 11,
             "learn": [
              0.4280560304
             ],
             "passed_time": 5.078188447,
             "remaining_time": 37.24004861,
             "test": [
              0.426857931
             ]
            },
            {
             "iteration": 12,
             "learn": [
              0.4121263071
             ],
             "passed_time": 5.532638204,
             "remaining_time": 37.02611721,
             "test": [
              0.4111258213
             ]
            },
            {
             "iteration": 13,
             "learn": [
              0.3967813826
             ],
             "passed_time": 5.946313189,
             "remaining_time": 36.52735244,
             "test": [
              0.3961009262
             ]
            },
            {
             "iteration": 14,
             "learn": [
              0.3823981636
             ],
             "passed_time": 6.357983156,
             "remaining_time": 36.02857122,
             "test": [
              0.3817393956
             ]
            },
            {
             "iteration": 15,
             "learn": [
              0.3673383684
             ],
             "passed_time": 6.693086459,
             "remaining_time": 35.13870391,
             "test": [
              0.3680041479
             ]
            },
            {
             "iteration": 16,
             "learn": [
              0.3538831656
             ],
             "passed_time": 7.117464439,
             "remaining_time": 34.74997344,
             "test": [
              0.3548592597
             ]
            },
            {
             "iteration": 17,
             "learn": [
              0.343174493
             ],
             "passed_time": 7.524105944,
             "remaining_time": 34.27648263,
             "test": [
              0.3422720015
             ]
            },
            {
             "iteration": 18,
             "learn": [
              0.330093307
             ],
             "passed_time": 7.96351004,
             "remaining_time": 33.9497007,
             "test": [
              0.3302120844
             ]
            },
            {
             "iteration": 19,
             "learn": [
              0.3196807767
             ],
             "passed_time": 8.361057927,
             "remaining_time": 33.44423171,
             "test": [
              0.3186507836
             ]
            },
            {
             "iteration": 20,
             "learn": [
              0.3069837796
             ],
             "passed_time": 8.813052044,
             "remaining_time": 33.15386245,
             "test": [
              0.3075628495
             ]
            },
            {
             "iteration": 21,
             "learn": [
              0.2968886031
             ],
             "passed_time": 9.196770459,
             "remaining_time": 32.60673163,
             "test": [
              0.29692254
             ]
            },
            {
             "iteration": 22,
             "learn": [
              0.2867755405
             ],
             "passed_time": 9.63357853,
             "remaining_time": 32.25154551,
             "test": [
              0.2867083322
             ]
            },
            {
             "iteration": 23,
             "learn": [
              0.2765123804
             ],
             "passed_time": 10.0529197,
             "remaining_time": 31.83424573,
             "test": [
              0.2768965266
             ]
            },
            {
             "iteration": 24,
             "learn": [
              0.2664564283
             ],
             "passed_time": 10.49958874,
             "remaining_time": 31.49876621,
             "test": [
              0.2674694486
             ]
            },
            {
             "iteration": 25,
             "learn": [
              0.2579877534
             ],
             "passed_time": 10.85941305,
             "remaining_time": 30.90756021,
             "test": [
              0.2584080628
             ]
            },
            {
             "iteration": 26,
             "learn": [
              0.2499715999
             ],
             "passed_time": 11.28360763,
             "remaining_time": 30.50753174,
             "test": [
              0.2496957665
             ]
            },
            {
             "iteration": 27,
             "learn": [
              0.241981659
             ],
             "passed_time": 11.67929529,
             "remaining_time": 30.03247361,
             "test": [
              0.2413145359
             ]
            },
            {
             "iteration": 28,
             "learn": [
              0.2336855102
             ],
             "passed_time": 12.10079992,
             "remaining_time": 29.62609635,
             "test": [
              0.2332501204
             ]
            },
            {
             "iteration": 29,
             "learn": [
              0.2258540328
             ],
             "passed_time": 12.54834598,
             "remaining_time": 29.27947395,
             "test": [
              0.22548874
             ]
            },
            {
             "iteration": 30,
             "learn": [
              0.2185346803
             ],
             "passed_time": 12.97790206,
             "remaining_time": 28.88629814,
             "test": [
              0.2180153226
             ]
            },
            {
             "iteration": 31,
             "learn": [
              0.2109412887
             ],
             "passed_time": 13.36688567,
             "remaining_time": 28.40463206,
             "test": [
              0.2108170182
             ]
            },
            {
             "iteration": 32,
             "learn": [
              0.2033607539
             ],
             "passed_time": 13.75264047,
             "remaining_time": 27.92202763,
             "test": [
              0.2038837878
             ]
            },
            {
             "iteration": 33,
             "learn": [
              0.1964471334
             ],
             "passed_time": 14.25051659,
             "remaining_time": 27.6627675,
             "test": [
              0.1972013254
             ]
            },
            {
             "iteration": 34,
             "learn": [
              0.1911898132
             ],
             "passed_time": 14.64093214,
             "remaining_time": 27.19030255,
             "test": [
              0.190760153
             ]
            },
            {
             "iteration": 35,
             "learn": [
              0.1839126847
             ],
             "passed_time": 15.07678837,
             "remaining_time": 26.80317932,
             "test": [
              0.1845501404
             ]
            },
            {
             "iteration": 36,
             "learn": [
              0.1787775256
             ],
             "passed_time": 15.49974028,
             "remaining_time": 26.39144967,
             "test": [
              0.1785617164
             ]
            },
            {
             "iteration": 37,
             "learn": [
              0.1722019317
             ],
             "passed_time": 15.95264798,
             "remaining_time": 26.0280046,
             "test": [
              0.1727855792
             ]
            },
            {
             "iteration": 38,
             "learn": [
              0.1676805003
             ],
             "passed_time": 16.37070146,
             "remaining_time": 25.60545613,
             "test": [
              0.1672126839
             ]
            },
            {
             "iteration": 39,
             "learn": [
              0.1614394334
             ],
             "passed_time": 16.71848589,
             "remaining_time": 25.07772884,
             "test": [
              0.1618345216
             ]
            },
            {
             "iteration": 40,
             "learn": [
              0.1563409223
             ],
             "passed_time": 17.15185037,
             "remaining_time": 24.68193102,
             "test": [
              0.1566439006
             ]
            },
            {
             "iteration": 41,
             "learn": [
              0.1520291468
             ],
             "passed_time": 17.60700675,
             "remaining_time": 24.31443789,
             "test": [
              0.1516334696
             ]
            },
            {
             "iteration": 42,
             "learn": [
              0.147015476
             ],
             "passed_time": 18.08984415,
             "remaining_time": 23.97956085,
             "test": [
              0.1467961718
             ]
            },
            {
             "iteration": 43,
             "learn": [
              0.1418820103
             ],
             "passed_time": 18.48226219,
             "remaining_time": 23.52287915,
             "test": [
              0.1421246326
             ]
            },
            {
             "iteration": 44,
             "learn": [
              0.1371193571
             ],
             "passed_time": 18.92890001,
             "remaining_time": 23.13532224,
             "test": [
              0.1376128485
             ]
            },
            {
             "iteration": 45,
             "learn": [
              0.1329218388
             ],
             "passed_time": 19.3264656,
             "remaining_time": 22.68759005,
             "test": [
              0.1332540201
             ]
            },
            {
             "iteration": 46,
             "learn": [
              0.1289315371
             ],
             "passed_time": 19.65267791,
             "remaining_time": 22.16153041,
             "test": [
              0.1290422882
             ]
            },
            {
             "iteration": 47,
             "learn": [
              0.1250058462
             ],
             "passed_time": 20.04712212,
             "remaining_time": 21.71771563,
             "test": [
              0.1249731641
             ]
            },
            {
             "iteration": 48,
             "learn": [
              0.1210960444
             ],
             "passed_time": 20.51739402,
             "remaining_time": 21.35483867,
             "test": [
              0.1210404909
             ]
            },
            {
             "iteration": 49,
             "learn": [
              0.1172091924
             ],
             "passed_time": 20.92989857,
             "remaining_time": 20.92989857,
             "test": [
              0.1172389474
             ]
            },
            {
             "iteration": 50,
             "learn": [
              0.1133363634
             ],
             "passed_time": 21.3108162,
             "remaining_time": 20.47509791,
             "test": [
              0.11356366
             ]
            },
            {
             "iteration": 51,
             "learn": [
              0.1097708533
             ],
             "passed_time": 21.78052521,
             "remaining_time": 20.1051002,
             "test": [
              0.110010578
             ]
            },
            {
             "iteration": 52,
             "learn": [
              0.1069426933
             ],
             "passed_time": 22.1521147,
             "remaining_time": 19.64432813,
             "test": [
              0.1065747034
             ]
            },
            {
             "iteration": 53,
             "learn": [
              0.10342327
             ],
             "passed_time": 22.62204086,
             "remaining_time": 19.2706274,
             "test": [
              0.1032519492
             ]
            },
            {
             "iteration": 54,
             "learn": [
              0.099745959
             ],
             "passed_time": 23.04709499,
             "remaining_time": 18.85671409,
             "test": [
              0.1000391285
             ]
            },
            {
             "iteration": 55,
             "learn": [
              0.09715524727
             ],
             "passed_time": 23.39839713,
             "remaining_time": 18.38445489,
             "test": [
              0.09693030454
             ]
            },
            {
             "iteration": 56,
             "learn": [
              0.09378355982
             ],
             "passed_time": 23.80064361,
             "remaining_time": 17.95487149,
             "test": [
              0.09392327155
             ]
            },
            {
             "iteration": 57,
             "learn": [
              0.09124052514
             ],
             "passed_time": 24.3937301,
             "remaining_time": 17.66442524,
             "test": [
              0.09101366321
             ]
            },
            {
             "iteration": 58,
             "learn": [
              0.08796031628
             ],
             "passed_time": 25.02200074,
             "remaining_time": 17.38817001,
             "test": [
              0.08819888965
             ]
            },
            {
             "iteration": 59,
             "learn": [
              0.08549266912
             ],
             "passed_time": 25.51984723,
             "remaining_time": 17.01323149,
             "test": [
              0.08547539443
             ]
            },
            {
             "iteration": 60,
             "learn": [
              0.08259471637
             ],
             "passed_time": 26.01852907,
             "remaining_time": 16.63479727,
             "test": [
              0.08283911648
             ]
            },
            {
             "iteration": 61,
             "learn": [
              0.08012006949
             ],
             "passed_time": 26.41307173,
             "remaining_time": 16.18865687,
             "test": [
              0.08028752434
             ]
            },
            {
             "iteration": 62,
             "learn": [
              0.07798979276
             ],
             "passed_time": 26.88459054,
             "remaining_time": 15.7893627,
             "test": [
              0.0778177511
             ]
            },
            {
             "iteration": 63,
             "learn": [
              0.07551444294
             ],
             "passed_time": 27.27814059,
             "remaining_time": 15.34395408,
             "test": [
              0.07542687039
             ]
            },
            {
             "iteration": 64,
             "learn": [
              0.07297865522
             ],
             "passed_time": 27.66553156,
             "remaining_time": 14.89682469,
             "test": [
              0.07311232222
             ]
            },
            {
             "iteration": 65,
             "learn": [
              0.07057125272
             ],
             "passed_time": 28.0238376,
             "remaining_time": 14.4365224,
             "test": [
              0.07087148992
             ]
            },
            {
             "iteration": 66,
             "learn": [
              0.06846407383
             ],
             "passed_time": 28.36048505,
             "remaining_time": 13.96859712,
             "test": [
              0.06870184448
             ]
            },
            {
             "iteration": 67,
             "learn": [
              0.06645098543
             ],
             "passed_time": 28.71679504,
             "remaining_time": 13.5137859,
             "test": [
              0.06660095924
             ]
            },
            {
             "iteration": 68,
             "learn": [
              0.06448550824
             ],
             "passed_time": 29.10706164,
             "remaining_time": 13.07708566,
             "test": [
              0.06456663095
             ]
            },
            {
             "iteration": 69,
             "learn": [
              0.06253173266
             ],
             "passed_time": 29.48083541,
             "remaining_time": 12.63464375,
             "test": [
              0.06259625233
             ]
            },
            {
             "iteration": 70,
             "learn": [
              0.06058402395
             ],
             "passed_time": 29.84009863,
             "remaining_time": 12.1882093,
             "test": [
              0.06068776909
             ]
            },
            {
             "iteration": 71,
             "learn": [
              0.05867324177
             ],
             "passed_time": 30.19430558,
             "remaining_time": 11.74222995,
             "test": [
              0.05883938572
             ]
            },
            {
             "iteration": 72,
             "learn": [
              0.05686481656
             ],
             "passed_time": 30.62862712,
             "remaining_time": 11.32839633,
             "test": [
              0.05704920965
             ]
            },
            {
             "iteration": 73,
             "learn": [
              0.05545282946
             ],
             "passed_time": 31.0326785,
             "remaining_time": 10.90337353,
             "test": [
              0.05531446665
             ]
            },
            {
             "iteration": 74,
             "learn": [
              0.05369539717
             ],
             "passed_time": 31.4651584,
             "remaining_time": 10.48838613,
             "test": [
              0.05363482941
             ]
            },
            {
             "iteration": 75,
             "learn": [
              0.05184596333
             ],
             "passed_time": 31.87160308,
             "remaining_time": 10.06471676,
             "test": [
              0.05200731728
             ]
            },
            {
             "iteration": 76,
             "learn": [
              0.05055397678
             ],
             "passed_time": 32.30379699,
             "remaining_time": 9.649186114,
             "test": [
              0.05043041223
             ]
            },
            {
             "iteration": 77,
             "learn": [
              0.04886225433
             ],
             "passed_time": 32.71753941,
             "remaining_time": 9.228023937,
             "test": [
              0.04890247457
             ]
            },
            {
             "iteration": 78,
             "learn": [
              0.04725566999
             ],
             "passed_time": 33.09649082,
             "remaining_time": 8.797801358,
             "test": [
              0.04742209179
             ]
            },
            {
             "iteration": 79,
             "learn": [
              0.04593473776
             ],
             "passed_time": 33.46384497,
             "remaining_time": 8.365961243,
             "test": [
              0.04598747594
             ]
            },
            {
             "iteration": 80,
             "learn": [
              0.04467261968
             ],
             "passed_time": 33.82154436,
             "remaining_time": 7.933448676,
             "test": [
              0.04459743051
             ]
            },
            {
             "iteration": 81,
             "learn": [
              0.04309307979
             ],
             "passed_time": 34.24736194,
             "remaining_time": 7.517713596,
             "test": [
              0.04325044646
             ]
            },
            {
             "iteration": 82,
             "learn": [
              0.04197861022
             ],
             "passed_time": 34.61000647,
             "remaining_time": 7.088796507,
             "test": [
              0.04194533301
             ]
            },
            {
             "iteration": 83,
             "learn": [
              0.04073892612
             ],
             "passed_time": 34.96513713,
             "remaining_time": 6.660026119,
             "test": [
              0.04068013247
             ]
            },
            {
             "iteration": 84,
             "learn": [
              0.03937444326
             ],
             "passed_time": 35.38119919,
             "remaining_time": 6.243741034,
             "test": [
              0.0394540369
             ]
            },
            {
             "iteration": 85,
             "learn": [
              0.03815155176
             ],
             "passed_time": 35.74363828,
             "remaining_time": 5.818731812,
             "test": [
              0.0382652682
             ]
            },
            {
             "iteration": 86,
             "learn": [
              0.03713082694
             ],
             "passed_time": 36.17677869,
             "remaining_time": 5.405725552,
             "test": [
              0.03711307698
             ]
            },
            {
             "iteration": 87,
             "learn": [
              0.03607818207
             ],
             "passed_time": 36.55705943,
             "remaining_time": 4.985053559,
             "test": [
              0.03599620434
             ]
            },
            {
             "iteration": 88,
             "learn": [
              0.03489251861
             ],
             "passed_time": 37.03353571,
             "remaining_time": 4.577178571,
             "test": [
              0.03491442887
             ]
            },
            {
             "iteration": 89,
             "learn": [
              0.03384675378
             ],
             "passed_time": 37.51652176,
             "remaining_time": 4.168502418,
             "test": [
              0.03386519462
             ]
            },
            {
             "iteration": 90,
             "learn": [
              0.03284408165
             ],
             "passed_time": 37.92174094,
             "remaining_time": 3.750501851,
             "test": [
              0.03284836854
             ]
            },
            {
             "iteration": 91,
             "learn": [
              0.03185367457
             ],
             "passed_time": 38.44777489,
             "remaining_time": 3.343284773,
             "test": [
              0.03186315012
             ]
            },
            {
             "iteration": 92,
             "learn": [
              0.03087499453
             ],
             "passed_time": 38.87181631,
             "remaining_time": 2.925835637,
             "test": [
              0.0309076406
             ]
            },
            {
             "iteration": 93,
             "learn": [
              0.02993270217
             ],
             "passed_time": 39.23992294,
             "remaining_time": 2.504675932,
             "test": [
              0.02998105964
             ]
            },
            {
             "iteration": 94,
             "learn": [
              0.02900683768
             ],
             "passed_time": 39.64129692,
             "remaining_time": 2.086384049,
             "test": [
              0.0290822983
             ]
            },
            {
             "iteration": 95,
             "learn": [
              0.02826261492
             ],
             "passed_time": 40.08827238,
             "remaining_time": 1.670344682,
             "test": [
              0.0282113036
             ]
            },
            {
             "iteration": 96,
             "learn": [
              0.02737591114
             ],
             "passed_time": 40.49452323,
             "remaining_time": 1.252407935,
             "test": [
              0.02736682194
             ]
            },
            {
             "iteration": 97,
             "learn": [
              0.02645469868
             ],
             "passed_time": 40.91277796,
             "remaining_time": 0.8349546523,
             "test": [
              0.02654769028
             ]
            },
            {
             "iteration": 98,
             "learn": [
              0.02580075925
             ],
             "passed_time": 41.35717404,
             "remaining_time": 0.4177492327,
             "test": [
              0.02575324354
             ]
            },
            {
             "iteration": 99,
             "learn": [
              0.02494538589
             ],
             "passed_time": 41.78535637,
             "remaining_time": 0,
             "test": [
              0.02498298106
             ]
            }
           ],
           "meta": {
            "iteration_count": 100,
            "launch_mode": "Train",
            "learn_metrics": [
             {
              "best_value": "Min",
              "name": "CrossEntropy"
             }
            ],
            "learn_sets": [
             "learn"
            ],
            "name": "experiment",
            "parameters": "",
            "test_metrics": [
             {
              "best_value": "Min",
              "name": "CrossEntropy"
             }
            ],
            "test_sets": [
             "test"
            ]
           }
          },
          "passed_iterations": 99,
          "total_iterations": 100
         },
         "name": "catboost_info",
         "path": "catboost_info"
        }
       },
       "layout": "IPY_MODEL_2e4c5c72c7f644cebc265ae6ac9e8852"
      }
     },
     "18853245395c4b75939ab9420fabc35f": {
      "model_module": "catboost-widget",
      "model_module_version": "^1.0.0",
      "model_name": "CatboostWidgetModel",
      "state": {
       "_dom_classes": [],
       "_model_module": "catboost-widget",
       "_model_module_version": "^1.0.0",
       "_model_name": "CatboostWidgetModel",
       "_view_count": null,
       "_view_module": "catboost-widget",
       "_view_module_version": "^1.0.0",
       "_view_name": "CatboostWidgetView",
       "data": {
        "catboost_info": {
         "content": {
          "data": {
           "iterations": [
            {
             "iteration": 0,
             "learn": [
              0.6613863203
             ],
             "passed_time": 0.4019290196,
             "remaining_time": 39.79097294,
             "test": [
              0.6636046061
             ]
            },
            {
             "iteration": 1,
             "learn": [
              0.6363189579
             ],
             "passed_time": 0.8514428586,
             "remaining_time": 41.72070007,
             "test": [
              0.635782136
             ]
            },
            {
             "iteration": 2,
             "learn": [
              0.6093924267
             ],
             "passed_time": 1.239362511,
             "remaining_time": 40.0727212,
             "test": [
              0.6095328687
             ]
            },
            {
             "iteration": 3,
             "learn": [
              0.5837498175
             ],
             "passed_time": 1.616184305,
             "remaining_time": 38.78842333,
             "test": [
              0.5847292478
             ]
            },
            {
             "iteration": 4,
             "learn": [
              0.5622272834
             ],
             "passed_time": 2.102511621,
             "remaining_time": 39.94772079,
             "test": [
              0.5612579935
             ]
            },
            {
             "iteration": 5,
             "learn": [
              0.5377355713
             ],
             "passed_time": 2.566459983,
             "remaining_time": 40.20787307,
             "test": [
              0.5390149747
             ]
            },
            {
             "iteration": 6,
             "learn": [
              0.5169291619
             ],
             "passed_time": 2.984340987,
             "remaining_time": 39.64910168,
             "test": [
              0.5179148682
             ]
            },
            {
             "iteration": 7,
             "learn": [
              0.4987388528
             ],
             "passed_time": 3.357109137,
             "remaining_time": 38.60675507,
             "test": [
              0.4978695273
             ]
            },
            {
             "iteration": 8,
             "learn": [
              0.4785837115
             ],
             "passed_time": 3.773071454,
             "remaining_time": 38.1499447,
             "test": [
              0.4788104577
             ]
            },
            {
             "iteration": 9,
             "learn": [
              0.460635774
             ],
             "passed_time": 4.251255411,
             "remaining_time": 38.26129869,
             "test": [
              0.4606685136
             ]
            },
            {
             "iteration": 10,
             "learn": [
              0.4439074528
             ],
             "passed_time": 4.592187088,
             "remaining_time": 37.15496826,
             "test": [
              0.4433824123
             ]
            },
            {
             "iteration": 11,
             "learn": [
              0.4281269592
             ],
             "passed_time": 5.061378316,
             "remaining_time": 37.11677432,
             "test": [
              0.4268982716
             ]
            },
            {
             "iteration": 12,
             "learn": [
              0.4122612256
             ],
             "passed_time": 5.520578923,
             "remaining_time": 36.9454128,
             "test": [
              0.4111674993
             ]
            },
            {
             "iteration": 13,
             "learn": [
              0.3968630749
             ],
             "passed_time": 5.937854525,
             "remaining_time": 36.47539208,
             "test": [
              0.3961428055
             ]
            },
            {
             "iteration": 14,
             "learn": [
              0.3825144201
             ],
             "passed_time": 6.347456917,
             "remaining_time": 35.96892253,
             "test": [
              0.3817841741
             ]
            },
            {
             "iteration": 15,
             "learn": [
              0.3674458525
             ],
             "passed_time": 6.686413136,
             "remaining_time": 35.10366896,
             "test": [
              0.368050485
             ]
            },
            {
             "iteration": 16,
             "learn": [
              0.3540729925
             ],
             "passed_time": 7.110394279,
             "remaining_time": 34.71545442,
             "test": [
              0.354906981
             ]
            },
            {
             "iteration": 17,
             "learn": [
              0.3432721466
             ],
             "passed_time": 7.522234744,
             "remaining_time": 34.26795828,
             "test": [
              0.342321399
             ]
            },
            {
             "iteration": 18,
             "learn": [
              0.3301872151
             ],
             "passed_time": 7.96445001,
             "remaining_time": 33.95370794,
             "test": [
              0.3302623424
             ]
            },
            {
             "iteration": 19,
             "learn": [
              0.3197816502
             ],
             "passed_time": 8.37383435,
             "remaining_time": 33.4953374,
             "test": [
              0.3187018923
             ]
            },
            {
             "iteration": 20,
             "learn": [
              0.3071392263
             ],
             "passed_time": 8.824854741,
             "remaining_time": 33.19826307,
             "test": [
              0.3076143241
             ]
            },
            {
             "iteration": 21,
             "learn": [
              0.2969938332
             ],
             "passed_time": 9.211681795,
             "remaining_time": 32.65959909,
             "test": [
              0.2969748063
             ]
            },
            {
             "iteration": 22,
             "learn": [
              0.2869337471
             ],
             "passed_time": 9.656510906,
             "remaining_time": 32.32831912,
             "test": [
              0.2867613334
             ]
            },
            {
             "iteration": 23,
             "learn": [
              0.2766414178
             ],
             "passed_time": 10.07597453,
             "remaining_time": 31.90725268,
             "test": [
              0.276950732
             ]
            },
            {
             "iteration": 24,
             "learn": [
              0.2666276261
             ],
             "passed_time": 10.52501291,
             "remaining_time": 31.57503873,
             "test": [
              0.2675243156
             ]
            },
            {
             "iteration": 25,
             "learn": [
              0.2581407689
             ],
             "passed_time": 10.88829332,
             "remaining_time": 30.98975792,
             "test": [
              0.2584639509
             ]
            },
            {
             "iteration": 26,
             "learn": [
              0.2500933565
             ],
             "passed_time": 11.3169674,
             "remaining_time": 30.59772669,
             "test": [
              0.2497521292
             ]
            },
            {
             "iteration": 27,
             "learn": [
              0.24210724
             ],
             "passed_time": 11.71108057,
             "remaining_time": 30.11420717,
             "test": [
              0.2413713842
             ]
            },
            {
             "iteration": 28,
             "learn": [
              0.2338182209
             ],
             "passed_time": 12.13722366,
             "remaining_time": 29.71527173,
             "test": [
              0.2333076411
             ]
            },
            {
             "iteration": 29,
             "learn": [
              0.2259914878
             ],
             "passed_time": 12.58541636,
             "remaining_time": 29.36597151,
             "test": [
              0.2255464132
             ]
            },
            {
             "iteration": 30,
             "learn": [
              0.2186766496
             ],
             "passed_time": 13.02118901,
             "remaining_time": 28.98264651,
             "test": [
              0.2180732316
             ]
            },
            {
             "iteration": 31,
             "learn": [
              0.2110806855
             ],
             "passed_time": 13.40720408,
             "remaining_time": 28.49030867,
             "test": [
              0.2108753109
             ]
            },
            {
             "iteration": 32,
             "learn": [
              0.2035459153
             ],
             "passed_time": 13.79608113,
             "remaining_time": 28.01022533,
             "test": [
              0.2039412132
             ]
            },
            {
             "iteration": 33,
             "learn": [
              0.1966911919
             ],
             "passed_time": 14.28718967,
             "remaining_time": 27.73395641,
             "test": [
              0.1972591252
             ]
            },
            {
             "iteration": 34,
             "learn": [
              0.1913396679
             ],
             "passed_time": 14.68144007,
             "remaining_time": 27.26553156,
             "test": [
              0.1908187517
             ]
            },
            {
             "iteration": 35,
             "learn": [
              0.1841194159
             ],
             "passed_time": 15.08741488,
             "remaining_time": 26.8220709,
             "test": [
              0.184609424
             ]
            },
            {
             "iteration": 36,
             "learn": [
              0.1789317928
             ],
             "passed_time": 15.54913485,
             "remaining_time": 26.47555393,
             "test": [
              0.1786218422
             ]
            },
            {
             "iteration": 37,
             "learn": [
              0.172408998
             ],
             "passed_time": 16.00370372,
             "remaining_time": 26.11130607,
             "test": [
              0.1728464429
             ]
            },
            {
             "iteration": 38,
             "learn": [
              0.1678487082
             ],
             "passed_time": 16.42667426,
             "remaining_time": 25.69300333,
             "test": [
              0.1672744234
             ]
            },
            {
             "iteration": 39,
             "learn": [
              0.1616536524
             ],
             "passed_time": 16.77170214,
             "remaining_time": 25.15755321,
             "test": [
              0.1618965321
             ]
            },
            {
             "iteration": 40,
             "learn": [
              0.1565403398
             ],
             "passed_time": 17.20873277,
             "remaining_time": 24.76378618,
             "test": [
              0.1567063462
             ]
            },
            {
             "iteration": 41,
             "learn": [
              0.1522153301
             ],
             "passed_time": 17.67511295,
             "remaining_time": 24.40848931,
             "test": [
              0.1516961316
             ]
            },
            {
             "iteration": 42,
             "learn": [
              0.1472154849
             ],
             "passed_time": 18.16577342,
             "remaining_time": 24.08021127,
             "test": [
              0.1468594423
             ]
            },
            {
             "iteration": 43,
             "learn": [
              0.1420975665
             ],
             "passed_time": 18.56132116,
             "remaining_time": 23.62349966,
             "test": [
              0.1421881835
             ]
            },
            {
             "iteration": 44,
             "learn": [
              0.1373370062
             ],
             "passed_time": 19.01147504,
             "remaining_time": 23.23624727,
             "test": [
              0.1376766636
             ]
            },
            {
             "iteration": 45,
             "learn": [
              0.1331442421
             ],
             "passed_time": 19.41111459,
             "remaining_time": 22.78696061,
             "test": [
              0.1333183071
             ]
            },
            {
             "iteration": 46,
             "learn": [
              0.1291459696
             ],
             "passed_time": 19.73913437,
             "remaining_time": 22.25902386,
             "test": [
              0.1291073233
             ]
            },
            {
             "iteration": 47,
             "learn": [
              0.1252139376
             ],
             "passed_time": 20.13538993,
             "remaining_time": 21.81333909,
             "test": [
              0.1250383024
             ]
            },
            {
             "iteration": 48,
             "learn": [
              0.1213062616
             ],
             "passed_time": 20.61445309,
             "remaining_time": 21.45585934,
             "test": [
              0.121105886
             ]
            },
            {
             "iteration": 49,
             "learn": [
              0.1174238353
             ],
             "passed_time": 21.02559259,
             "remaining_time": 21.02559259,
             "test": [
              0.1173038902
             ]
            },
            {
             "iteration": 50,
             "learn": [
              0.1135636918
             ],
             "passed_time": 21.40785893,
             "remaining_time": 20.56833505,
             "test": [
              0.1136295245
             ]
            },
            {
             "iteration": 51,
             "learn": [
              0.1100123047
             ],
             "passed_time": 21.8620401,
             "remaining_time": 20.18034471,
             "test": [
              0.1100767591
             ]
            },
            {
             "iteration": 52,
             "learn": [
              0.1071398389
             ],
             "passed_time": 22.23017063,
             "remaining_time": 19.71354754,
             "test": [
              0.1066417097
             ]
            },
            {
             "iteration": 53,
             "learn": [
              0.1036525846
             ],
             "passed_time": 22.70479395,
             "remaining_time": 19.34112077,
             "test": [
              0.1033188911
             ]
            },
            {
             "iteration": 54,
             "learn": [
              0.09998743504
             ],
             "passed_time": 23.12949142,
             "remaining_time": 18.92412935,
             "test": [
              0.1001059985
             ]
            },
            {
             "iteration": 55,
             "learn": [
              0.09739396015
             ],
             "passed_time": 23.48097792,
             "remaining_time": 18.44933979,
             "test": [
              0.09699823561
             ]
            },
            {
             "iteration": 56,
             "learn": [
              0.09402438367
             ],
             "passed_time": 23.86643961,
             "remaining_time": 18.00450707,
             "test": [
              0.09399148312
             ]
            },
            {
             "iteration": 57,
             "learn": [
              0.09148235931
             ],
             "passed_time": 24.27315457,
             "remaining_time": 17.57711193,
             "test": [
              0.0910822082
             ]
            },
            {
             "iteration": 58,
             "learn": [
              0.08822031798
             ],
             "passed_time": 24.88012929,
             "remaining_time": 17.28958137,
             "test": [
              0.08826744283
             ]
            },
            {
             "iteration": 59,
             "learn": [
              0.08573878601
             ],
             "passed_time": 25.49164009,
             "remaining_time": 16.99442672,
             "test": [
              0.08554370712
             ]
            },
            {
             "iteration": 60,
             "learn": [
              0.0828660582
             ],
             "passed_time": 26.07918648,
             "remaining_time": 16.67357824,
             "test": [
              0.082907633
             ]
            },
            {
             "iteration": 61,
             "learn": [
              0.08038351282
             ],
             "passed_time": 26.51328296,
             "remaining_time": 16.25007665,
             "test": [
              0.08035640575
             ]
            },
            {
             "iteration": 62,
             "learn": [
              0.07824090207
             ],
             "passed_time": 26.98363608,
             "remaining_time": 15.8475323,
             "test": [
              0.07788837447
             ]
            },
            {
             "iteration": 63,
             "learn": [
              0.07577767107
             ],
             "passed_time": 27.37797349,
             "remaining_time": 15.40011009,
             "test": [
              0.07549789915
             ]
            },
            {
             "iteration": 64,
             "learn": [
              0.07325301813
             ],
             "passed_time": 27.75676293,
             "remaining_time": 14.94594927,
             "test": [
              0.07318380021
             ]
            },
            {
             "iteration": 65,
             "learn": [
              0.07086006556
             ],
             "passed_time": 28.12535687,
             "remaining_time": 14.48882021,
             "test": [
              0.07094309887
             ]
            },
            {
             "iteration": 66,
             "learn": [
              0.06876066197
             ],
             "passed_time": 28.46755703,
             "remaining_time": 14.02133406,
             "test": [
              0.06877340282
             ]
            },
            {
             "iteration": 67,
             "learn": [
              0.06672626831
             ],
             "passed_time": 28.82569182,
             "remaining_time": 13.56503145,
             "test": [
              0.06667240729
             ]
            },
            {
             "iteration": 68,
             "learn": [
              0.06475772239
             ],
             "passed_time": 29.20893732,
             "remaining_time": 13.1228559,
             "test": [
              0.06463620474
             ]
            },
            {
             "iteration": 69,
             "learn": [
              0.0628054631
             ],
             "passed_time": 29.5856483,
             "remaining_time": 12.67956356,
             "test": [
              0.06266594866
             ]
            },
            {
             "iteration": 70,
             "learn": [
              0.06086363719
             ],
             "passed_time": 29.94470742,
             "remaining_time": 12.23093683,
             "test": [
              0.06075763777
             ]
            },
            {
             "iteration": 71,
             "learn": [
              0.05895497421
             ],
             "passed_time": 30.29731201,
             "remaining_time": 11.78228801,
             "test": [
              0.05890962691
             ]
            },
            {
             "iteration": 72,
             "learn": [
              0.05715420107
             ],
             "passed_time": 30.73403036,
             "remaining_time": 11.36738109,
             "test": [
              0.05711997352
             ]
            },
            {
             "iteration": 73,
             "learn": [
              0.05572985532
             ],
             "passed_time": 31.13584011,
             "remaining_time": 10.9396195,
             "test": [
              0.05538583553
             ]
            },
            {
             "iteration": 74,
             "learn": [
              0.05398190106
             ],
             "passed_time": 31.57174214,
             "remaining_time": 10.52391405,
             "test": [
              0.05370616715
             ]
            },
            {
             "iteration": 75,
             "learn": [
              0.05213130659
             ],
             "passed_time": 31.97953358,
             "remaining_time": 10.09880008,
             "test": [
              0.05207613583
             ]
            },
            {
             "iteration": 76,
             "learn": [
              0.05083933729
             ],
             "passed_time": 32.41151119,
             "remaining_time": 9.681360487,
             "test": [
              0.05049964451
             ]
            },
            {
             "iteration": 77,
             "learn": [
              0.04914899642
             ],
             "passed_time": 32.81839149,
             "remaining_time": 9.256469394,
             "test": [
              0.0489722013
             ]
            },
            {
             "iteration": 78,
             "learn": [
              0.04757029668
             ],
             "passed_time": 33.19051073,
             "remaining_time": 8.822793992,
             "test": [
              0.04749199626
             ]
            },
            {
             "iteration": 79,
             "learn": [
              0.04622898983
             ],
             "passed_time": 33.56075853,
             "remaining_time": 8.390189633,
             "test": [
              0.04605835418
             ]
            },
            {
             "iteration": 80,
             "learn": [
              0.04497060333
             ],
             "passed_time": 33.91213822,
             "remaining_time": 7.954699089,
             "test": [
              0.04466866291
             ]
            },
            {
             "iteration": 81,
             "learn": [
              0.04339376582
             ],
             "passed_time": 34.3386146,
             "remaining_time": 7.537744668,
             "test": [
              0.04332184573
             ]
            },
            {
             "iteration": 82,
             "learn": [
              0.04228841944
             ],
             "passed_time": 34.70533238,
             "remaining_time": 7.10832109,
             "test": [
              0.04201670205
             ]
            },
            {
             "iteration": 83,
             "learn": [
              0.04104657672
             ],
             "passed_time": 35.08054786,
             "remaining_time": 6.682009116,
             "test": [
              0.04075142683
             ]
            },
            {
             "iteration": 84,
             "learn": [
              0.0396893755
             ],
             "passed_time": 35.50259399,
             "remaining_time": 6.265163644,
             "test": [
              0.0395256626
             ]
            },
            {
             "iteration": 85,
             "learn": [
              0.03844700551
             ],
             "passed_time": 35.77963944,
             "remaining_time": 5.824592468,
             "test": [
              0.03833447158
             ]
            },
            {
             "iteration": 86,
             "learn": [
              0.03741991985
             ],
             "passed_time": 36.25316936,
             "remaining_time": 5.417140249,
             "test": [
              0.03718305517
             ]
            },
            {
             "iteration": 87,
             "learn": [
              0.03637318159
             ],
             "passed_time": 36.63384545,
             "remaining_time": 4.99552438,
             "test": [
              0.03606687762
             ]
            },
            {
             "iteration": 88,
             "learn": [
              0.03519239804
             ],
             "passed_time": 37.0812358,
             "remaining_time": 4.583074088,
             "test": [
              0.03498541369
             ]
            },
            {
             "iteration": 89,
             "learn": [
              0.03415622625
             ],
             "passed_time": 37.59955835,
             "remaining_time": 4.177728705,
             "test": [
              0.03393638291
             ]
            },
            {
             "iteration": 90,
             "learn": [
              0.0331511458
             ],
             "passed_time": 38.00424744,
             "remaining_time": 3.758661835,
             "test": [
              0.03291945089
             ]
            },
            {
             "iteration": 91,
             "learn": [
              0.03216244475
             ],
             "passed_time": 38.53962243,
             "remaining_time": 3.351271516,
             "test": [
              0.03193408541
             ]
            },
            {
             "iteration": 92,
             "learn": [
              0.0311723564
             ],
             "passed_time": 38.87874157,
             "remaining_time": 2.926356892,
             "test": [
              0.03097535046
             ]
            },
            {
             "iteration": 93,
             "learn": [
              0.03023656536
             ],
             "passed_time": 39.24566358,
             "remaining_time": 2.505042356,
             "test": [
              0.03004857836
             ]
            },
            {
             "iteration": 94,
             "learn": [
              0.02927935573
             ],
             "passed_time": 39.51951127,
             "remaining_time": 2.079974278,
             "test": [
              0.02914743572
             ]
            },
            {
             "iteration": 95,
             "learn": [
              0.02852123338
             ],
             "passed_time": 39.90106389,
             "remaining_time": 1.662544329,
             "test": [
              0.02827545175
             ]
            },
            {
             "iteration": 96,
             "learn": [
              0.02761772106
             ],
             "passed_time": 40.17057127,
             "remaining_time": 1.242388802,
             "test": [
              0.02742822034
             ]
            },
            {
             "iteration": 97,
             "learn": [
              0.02671470283
             ],
             "passed_time": 40.56538679,
             "remaining_time": 0.8278650365,
             "test": [
              0.0266091711
             ]
            },
            {
             "iteration": 98,
             "learn": [
              0.02604860435
             ],
             "passed_time": 41.01134481,
             "remaining_time": 0.4142560081,
             "test": [
              0.02581516659
             ]
            },
            {
             "iteration": 99,
             "learn": [
              0.02519115245
             ],
             "passed_time": 41.40289431,
             "remaining_time": 0,
             "test": [
              0.02504471335
             ]
            }
           ],
           "meta": {
            "iteration_count": 100,
            "launch_mode": "Train",
            "learn_metrics": [
             {
              "best_value": "Min",
              "name": "CrossEntropy"
             }
            ],
            "learn_sets": [
             "learn"
            ],
            "name": "experiment",
            "parameters": "",
            "test_metrics": [
             {
              "best_value": "Min",
              "name": "CrossEntropy"
             }
            ],
            "test_sets": [
             "test"
            ]
           }
          },
          "passed_iterations": 99,
          "total_iterations": 100
         },
         "name": "catboost_info",
         "path": "catboost_info"
        }
       },
       "layout": "IPY_MODEL_a7c36e3bf29f4167a5496d7c34a395c3"
      }
     },
     "212b6f5673b140fca3af831d8fecaa6f": {
      "model_module": "catboost-widget",
      "model_module_version": "^1.0.0",
      "model_name": "CatboostWidgetModel",
      "state": {
       "_dom_classes": [],
       "_model_module": "catboost-widget",
       "_model_module_version": "^1.0.0",
       "_model_name": "CatboostWidgetModel",
       "_view_count": null,
       "_view_module": "catboost-widget",
       "_view_module_version": "^1.0.0",
       "_view_name": "CatboostWidgetView",
       "data": {
        "catboost_info": {
         "content": {
          "data": {
           "iterations": [
            {
             "iteration": 0,
             "learn": [
              0.6613910515
             ],
             "passed_time": 0.5875974669,
             "remaining_time": 58.17214922,
             "test": [
              0.6636036713
             ]
            },
            {
             "iteration": 1,
             "learn": [
              0.6363068933
             ],
             "passed_time": 1.040782842,
             "remaining_time": 50.99835927,
             "test": [
              0.6357800819
             ]
            },
            {
             "iteration": 2,
             "learn": [
              0.6093887074
             ],
             "passed_time": 1.444312795,
             "remaining_time": 46.69944705,
             "test": [
              0.6095300184
             ]
            },
            {
             "iteration": 3,
             "learn": [
              0.5837320228
             ],
             "passed_time": 1.817353822,
             "remaining_time": 43.61649174,
             "test": [
              0.5847255482
             ]
            },
            {
             "iteration": 4,
             "learn": [
              0.5622111185
             ],
             "passed_time": 2.332148373,
             "remaining_time": 44.31081909,
             "test": [
              0.5612529539
             ]
            },
            {
             "iteration": 5,
             "learn": [
              0.5377305641
             ],
             "passed_time": 2.989053758,
             "remaining_time": 46.82850888,
             "test": [
              0.5390137126
             ]
            },
            {
             "iteration": 6,
             "learn": [
              0.516909501
             ],
             "passed_time": 3.538744045,
             "remaining_time": 47.01474232,
             "test": [
              0.5179070667
             ]
            },
            {
             "iteration": 7,
             "learn": [
              0.498717352
             ],
             "passed_time": 3.957845808,
             "remaining_time": 45.51522679,
             "test": [
              0.4978610236
             ]
            },
            {
             "iteration": 8,
             "learn": [
              0.478559464
             ],
             "passed_time": 4.371955603,
             "remaining_time": 44.20532887,
             "test": [
              0.4788004178
             ]
            },
            {
             "iteration": 9,
             "learn": [
              0.4606193331
             ],
             "passed_time": 4.804058644,
             "remaining_time": 43.23652779,
             "test": [
              0.4606567668
             ]
            },
            {
             "iteration": 10,
             "learn": [
              0.4439884617
             ],
             "passed_time": 5.140819803,
             "remaining_time": 41.59390568,
             "test": [
              0.4433700228
             ]
            },
            {
             "iteration": 11,
             "learn": [
              0.4280948395
             ],
             "passed_time": 5.619094191,
             "remaining_time": 41.20669073,
             "test": [
              0.4268859505
             ]
            },
            {
             "iteration": 12,
             "learn": [
              0.412207868
             ],
             "passed_time": 6.079308974,
             "remaining_time": 40.68460621,
             "test": [
              0.4111553356
             ]
            },
            {
             "iteration": 13,
             "learn": [
              0.3968276639
             ],
             "passed_time": 6.512280143,
             "remaining_time": 40.00400659,
             "test": [
              0.3961295669
             ]
            },
            {
             "iteration": 14,
             "learn": [
              0.3824520346
             ],
             "passed_time": 6.919379719,
             "remaining_time": 39.20981841,
             "test": [
              0.381769551
             ]
            },
            {
             "iteration": 15,
             "learn": [
              0.3673921474
             ],
             "passed_time": 7.254733964,
             "remaining_time": 38.08735331,
             "test": [
              0.3680352979
             ]
            },
            {
             "iteration": 16,
             "learn": [
              0.3539600158
             ],
             "passed_time": 7.682057332,
             "remaining_time": 37.50651521,
             "test": [
              0.3548946607
             ]
            },
            {
             "iteration": 17,
             "learn": [
              0.3432356184
             ],
             "passed_time": 8.086763728,
             "remaining_time": 36.83970143,
             "test": [
              0.3423086528
             ]
            },
            {
             "iteration": 18,
             "learn": [
              0.3301520865
             ],
             "passed_time": 8.526918873,
             "remaining_time": 36.35160151,
             "test": [
              0.3302493904
             ]
            },
            {
             "iteration": 19,
             "learn": [
              0.3197393788
             ],
             "passed_time": 8.924000162,
             "remaining_time": 35.69600065,
             "test": [
              0.3186887413
             ]
            },
            {
             "iteration": 20,
             "learn": [
              0.3070776752
             ],
             "passed_time": 9.376628265,
             "remaining_time": 35.27398252,
             "test": [
              0.3076013587
             ]
            },
            {
             "iteration": 21,
             "learn": [
              0.2969532966
             ],
             "passed_time": 9.76086712,
             "remaining_time": 34.6067107,
             "test": [
              0.2969618641
             ]
            },
            {
             "iteration": 22,
             "learn": [
              0.2868512274
             ],
             "passed_time": 10.20087999,
             "remaining_time": 34.15077213,
             "test": [
              0.2867477094
             ]
            },
            {
             "iteration": 23,
             "learn": [
              0.276609463
             ],
             "passed_time": 10.62031847,
             "remaining_time": 33.6310085,
             "test": [
              0.2769515339
             ]
            },
            {
             "iteration": 24,
             "learn": [
              0.2666540164
             ],
             "passed_time": 11.06135494,
             "remaining_time": 33.18406481,
             "test": [
              0.2675235006
             ]
            },
            {
             "iteration": 25,
             "learn": [
              0.2580551607
             ],
             "passed_time": 11.50823767,
             "remaining_time": 32.75421491,
             "test": [
              0.2584623734
             ]
            },
            {
             "iteration": 26,
             "learn": [
              0.2500391846
             ],
             "passed_time": 11.93915396,
             "remaining_time": 32.27993477,
             "test": [
              0.249749586
             ]
            },
            {
             "iteration": 27,
             "learn": [
              0.2420527987
             ],
             "passed_time": 12.33076203,
             "remaining_time": 31.70767379,
             "test": [
              0.2413713151
             ]
            },
            {
             "iteration": 28,
             "learn": [
              0.233776107
             ],
             "passed_time": 12.75146786,
             "remaining_time": 31.21911097,
             "test": [
              0.2333075302
             ]
            },
            {
             "iteration": 29,
             "learn": [
              0.2259569899
             ],
             "passed_time": 13.19339375,
             "remaining_time": 30.78458542,
             "test": [
              0.2255460783
             ]
            },
            {
             "iteration": 30,
             "learn": [
              0.2186117602
             ],
             "passed_time": 13.6127876,
             "remaining_time": 30.29943047,
             "test": [
              0.2180748339
             ]
            },
            {
             "iteration": 31,
             "learn": [
              0.2110205798
             ],
             "passed_time": 13.99570877,
             "remaining_time": 29.74088113,
             "test": [
              0.2108769149
             ]
            },
            {
             "iteration": 32,
             "learn": [
              0.2034541105
             ],
             "passed_time": 14.38712804,
             "remaining_time": 29.21022967,
             "test": [
              0.2039421888
             ]
            },
            {
             "iteration": 33,
             "learn": [
              0.1966856627
             ],
             "passed_time": 14.84075837,
             "remaining_time": 28.80853096,
             "test": [
              0.1972589387
             ]
            },
            {
             "iteration": 34,
             "learn": [
              0.1912777912
             ],
             "passed_time": 15.22963803,
             "remaining_time": 28.28361348,
             "test": [
              0.1908187938
             ]
            },
            {
             "iteration": 35,
             "learn": [
              0.1840511225
             ],
             "passed_time": 15.61922577,
             "remaining_time": 27.76751248,
             "test": [
              0.1846098496
             ]
            },
            {
             "iteration": 36,
             "learn": [
              0.1788807749
             ],
             "passed_time": 16.04099678,
             "remaining_time": 27.31304857,
             "test": [
              0.1786255366
             ]
            },
            {
             "iteration": 37,
             "learn": [
              0.1723256994
             ],
             "passed_time": 16.50842884,
             "remaining_time": 26.93480496,
             "test": [
              0.1728495077
             ]
            },
            {
             "iteration": 38,
             "learn": [
              0.1677718625
             ],
             "passed_time": 16.92632968,
             "remaining_time": 26.47451566,
             "test": [
              0.1672766993
             ]
            },
            {
             "iteration": 39,
             "learn": [
              0.1615525
             ],
             "passed_time": 17.27449933,
             "remaining_time": 25.911749,
             "test": [
              0.1618984257
             ]
            },
            {
             "iteration": 40,
             "learn": [
              0.1564375184
             ],
             "passed_time": 17.66565836,
             "remaining_time": 25.42131326,
             "test": [
              0.1567080653
             ]
            },
            {
             "iteration": 41,
             "learn": [
              0.15212021
             ],
             "passed_time": 18.1178015,
             "remaining_time": 25.01982113,
             "test": [
              0.1516960972
             ]
            },
            {
             "iteration": 42,
             "learn": [
              0.147116271
             ],
             "passed_time": 18.60921855,
             "remaining_time": 24.6680339,
             "test": [
              0.1468576229
             ]
            },
            {
             "iteration": 43,
             "learn": [
              0.1419987567
             ],
             "passed_time": 19.02707749,
             "remaining_time": 24.21628044,
             "test": [
              0.1421837619
             ]
            },
            {
             "iteration": 44,
             "learn": [
              0.1372392774
             ],
             "passed_time": 19.52744078,
             "remaining_time": 23.86687206,
             "test": [
              0.137672844
             ]
            },
            {
             "iteration": 45,
             "learn": [
              0.1330227356
             ],
             "passed_time": 19.92429977,
             "remaining_time": 23.38939538,
             "test": [
              0.1333120808
             ]
            },
            {
             "iteration": 46,
             "learn": [
              0.1290226527
             ],
             "passed_time": 20.25416868,
             "remaining_time": 22.83980723,
             "test": [
              0.1291021391
             ]
            },
            {
             "iteration": 47,
             "learn": [
              0.1250970505
             ],
             "passed_time": 20.65022549,
             "remaining_time": 22.37107762,
             "test": [
              0.1250326189
             ]
            },
            {
             "iteration": 48,
             "learn": [
              0.1211830465
             ],
             "passed_time": 21.08399548,
             "remaining_time": 21.94456673,
             "test": [
              0.1210987174
             ]
            },
            {
             "iteration": 49,
             "learn": [
              0.1172966677
             ],
             "passed_time": 21.50065313,
             "remaining_time": 21.50065313,
             "test": [
              0.1172974481
             ]
            },
            {
             "iteration": 50,
             "learn": [
              0.1134329331
             ],
             "passed_time": 21.87850401,
             "remaining_time": 21.02052346,
             "test": [
              0.1136208405
             ]
            },
            {
             "iteration": 51,
             "learn": [
              0.1098689245
             ],
             "passed_time": 22.38023417,
             "remaining_time": 20.6586777,
             "test": [
              0.1100681519
             ]
            },
            {
             "iteration": 52,
             "learn": [
              0.1070286687
             ],
             "passed_time": 22.80957398,
             "remaining_time": 20.22735806,
             "test": [
              0.106631602
             ]
            },
            {
             "iteration": 53,
             "learn": [
              0.1035076092
             ],
             "passed_time": 23.28055001,
             "remaining_time": 19.83157964,
             "test": [
              0.1033075184
             ]
            },
            {
             "iteration": 54,
             "learn": [
              0.09983660148
             ],
             "passed_time": 23.70233821,
             "remaining_time": 19.39282217,
             "test": [
              0.1000929308
             ]
            },
            {
             "iteration": 55,
             "learn": [
              0.09723576363
             ],
             "passed_time": 24.07556653,
             "remaining_time": 18.91651656,
             "test": [
              0.09698351087
             ]
            },
            {
             "iteration": 56,
             "learn": [
              0.09386451808
             ],
             "passed_time": 24.46497075,
             "remaining_time": 18.45603056,
             "test": [
              0.09397691994
             ]
            },
            {
             "iteration": 57,
             "learn": [
              0.09131978476
             ],
             "passed_time": 24.8387838,
             "remaining_time": 17.98670551,
             "test": [
              0.09106599431
             ]
            },
            {
             "iteration": 58,
             "learn": [
              0.08805113451
             ],
             "passed_time": 25.29876964,
             "remaining_time": 17.58050093,
             "test": [
              0.08825191736
             ]
            },
            {
             "iteration": 59,
             "learn": [
              0.08559471413
             ],
             "passed_time": 25.72560962,
             "remaining_time": 17.15040641,
             "test": [
              0.08552690665
             ]
            },
            {
             "iteration": 60,
             "learn": [
              0.08270195749
             ],
             "passed_time": 26.15287177,
             "remaining_time": 16.72068851,
             "test": [
              0.08289087146
             ]
            },
            {
             "iteration": 61,
             "learn": [
              0.08019563446
             ],
             "passed_time": 26.55215821,
             "remaining_time": 16.27390342,
             "test": [
              0.08033841807
             ]
            },
            {
             "iteration": 62,
             "learn": [
              0.07806260936
             ],
             "passed_time": 27.02129012,
             "remaining_time": 15.86964658,
             "test": [
              0.07786883681
             ]
            },
            {
             "iteration": 63,
             "learn": [
              0.07559392596
             ],
             "passed_time": 27.41995319,
             "remaining_time": 15.42372367,
             "test": [
              0.0754782751
             ]
            },
            {
             "iteration": 64,
             "learn": [
              0.07307512131
             ],
             "passed_time": 27.7955095,
             "remaining_time": 14.96681281,
             "test": [
              0.07316409456
             ]
            },
            {
             "iteration": 65,
             "learn": [
              0.07072802702
             ],
             "passed_time": 28.14623841,
             "remaining_time": 14.49957736,
             "test": [
              0.07092727649
             ]
            },
            {
             "iteration": 66,
             "learn": [
              0.0685894414
             ],
             "passed_time": 28.48496053,
             "remaining_time": 14.02990593,
             "test": [
              0.06875729939
             ]
            },
            {
             "iteration": 67,
             "learn": [
              0.06652926755
             ],
             "passed_time": 28.89135413,
             "remaining_time": 13.59593135,
             "test": [
              0.06665466639
             ]
            },
            {
             "iteration": 68,
             "learn": [
              0.06455675102
             ],
             "passed_time": 29.23954655,
             "remaining_time": 13.13660787,
             "test": [
              0.06462022302
             ]
            },
            {
             "iteration": 69,
             "learn": [
              0.06260076097
             ],
             "passed_time": 29.60606189,
             "remaining_time": 12.68831224,
             "test": [
              0.06264815577
             ]
            },
            {
             "iteration": 70,
             "learn": [
              0.06065770132
             ],
             "passed_time": 29.96912203,
             "remaining_time": 12.240909,
             "test": [
              0.0607403205
             ]
            },
            {
             "iteration": 71,
             "learn": [
              0.05875260975
             ],
             "passed_time": 30.33531088,
             "remaining_time": 11.79706534,
             "test": [
              0.05889081376
             ]
            },
            {
             "iteration": 72,
             "learn": [
              0.05695083122
             ],
             "passed_time": 30.7924583,
             "remaining_time": 11.38899143,
             "test": [
              0.05709907457
             ]
            },
            {
             "iteration": 73,
             "learn": [
              0.05551968106
             ],
             "passed_time": 31.20817239,
             "remaining_time": 10.96503354,
             "test": [
              0.05536471573
             ]
            },
            {
             "iteration": 74,
             "learn": [
              0.05376358845
             ],
             "passed_time": 31.62698685,
             "remaining_time": 10.54232895,
             "test": [
              0.05368437977
             ]
            },
            {
             "iteration": 75,
             "learn": [
              0.05192977336
             ],
             "passed_time": 32.03955596,
             "remaining_time": 10.11775451,
             "test": [
              0.052057185
             ]
            },
            {
             "iteration": 76,
             "learn": [
              0.05062115445
             ],
             "passed_time": 32.41437663,
             "remaining_time": 9.682216397,
             "test": [
              0.05047930645
             ]
            },
            {
             "iteration": 77,
             "learn": [
              0.04892519116
             ],
             "passed_time": 32.82800254,
             "remaining_time": 9.259180203,
             "test": [
              0.04895158695
             ]
            },
            {
             "iteration": 78,
             "learn": [
              0.04743262746
             ],
             "passed_time": 33.19811707,
             "remaining_time": 8.824815931,
             "test": [
              0.04747547654
             ]
            },
            {
             "iteration": 79,
             "learn": [
              0.04599874074
             ],
             "passed_time": 33.61383591,
             "remaining_time": 8.403458977,
             "test": [
              0.04604114395
             ]
            },
            {
             "iteration": 80,
             "learn": [
              0.0447448801
             ],
             "passed_time": 34.03733743,
             "remaining_time": 7.984066806,
             "test": [
              0.04465043065
             ]
            },
            {
             "iteration": 81,
             "learn": [
              0.04318082755
             ],
             "passed_time": 34.57412996,
             "remaining_time": 7.589443161,
             "test": [
              0.04330176616
             ]
            },
            {
             "iteration": 82,
             "learn": [
              0.0420540256
             ],
             "passed_time": 35.08886276,
             "remaining_time": 7.186875505,
             "test": [
              0.04199538048
             ]
            },
            {
             "iteration": 83,
             "learn": [
              0.04080632143
             ],
             "passed_time": 35.60428429,
             "remaining_time": 6.781768437,
             "test": [
              0.04072957632
             ]
            },
            {
             "iteration": 84,
             "learn": [
              0.03944164293
             ],
             "passed_time": 36.01423128,
             "remaining_time": 6.35545258,
             "test": [
              0.03950250745
             ]
            },
            {
             "iteration": 85,
             "learn": [
              0.03822873544
             ],
             "passed_time": 36.38754557,
             "remaining_time": 5.923553929,
             "test": [
              0.03831312458
             ]
            },
            {
             "iteration": 86,
             "learn": [
              0.03718196183
             ],
             "passed_time": 36.82119273,
             "remaining_time": 5.502017304,
             "test": [
              0.03715964038
             ]
            },
            {
             "iteration": 87,
             "learn": [
              0.03613016792
             ],
             "passed_time": 37.23373863,
             "remaining_time": 5.077327995,
             "test": [
              0.03604180063
             ]
            },
            {
             "iteration": 88,
             "learn": [
              0.0349637661
             ],
             "passed_time": 37.6639608,
             "remaining_time": 4.655096278,
             "test": [
              0.034959296
             ]
            },
            {
             "iteration": 89,
             "learn": [
              0.03392093364
             ],
             "passed_time": 38.11489639,
             "remaining_time": 4.234988488,
             "test": [
              0.03390915374
             ]
            },
            {
             "iteration": 90,
             "learn": [
              0.03290433399
             ],
             "passed_time": 38.54138772,
             "remaining_time": 3.811785598,
             "test": [
              0.03289177037
             ]
            },
            {
             "iteration": 91,
             "learn": [
              0.0319068498
             ],
             "passed_time": 39.014024,
             "remaining_time": 3.392523826,
             "test": [
              0.03190432692
             ]
            },
            {
             "iteration": 92,
             "learn": [
              0.03093338396
             ],
             "passed_time": 39.43599089,
             "remaining_time": 2.968300389,
             "test": [
              0.03094728812
             ]
            },
            {
             "iteration": 93,
             "learn": [
              0.02999837734
             ],
             "passed_time": 39.79007348,
             "remaining_time": 2.539791924,
             "test": [
              0.03001974942
             ]
            },
            {
             "iteration": 94,
             "learn": [
              0.02908877147
             ],
             "passed_time": 40.12719118,
             "remaining_time": 2.111957431,
             "test": [
              0.02912058946
             ]
            },
            {
             "iteration": 95,
             "learn": [
              0.02830954675
             ],
             "passed_time": 40.59312937,
             "remaining_time": 1.69138039,
             "test": [
              0.02824840843
             ]
            },
            {
             "iteration": 96,
             "learn": [
              0.02741693799
             ],
             "passed_time": 41.00840691,
             "remaining_time": 1.268301245,
             "test": [
              0.02740427844
             ]
            },
            {
             "iteration": 97,
             "learn": [
              0.02652625624
             ],
             "passed_time": 41.40118658,
             "remaining_time": 0.8449221751,
             "test": [
              0.02658432476
             ]
            },
            {
             "iteration": 98,
             "learn": [
              0.02584693171
             ],
             "passed_time": 41.80584624,
             "remaining_time": 0.4222812751,
             "test": [
              0.02579067414
             ]
            },
            {
             "iteration": 99,
             "learn": [
              0.02498340152
             ],
             "passed_time": 42.1674047,
             "remaining_time": 0,
             "test": [
              0.02501949179
             ]
            }
           ],
           "meta": {
            "iteration_count": 100,
            "launch_mode": "Train",
            "learn_metrics": [
             {
              "best_value": "Min",
              "name": "CrossEntropy"
             }
            ],
            "learn_sets": [
             "learn"
            ],
            "name": "experiment",
            "parameters": "",
            "test_metrics": [
             {
              "best_value": "Min",
              "name": "CrossEntropy"
             }
            ],
            "test_sets": [
             "test"
            ]
           }
          },
          "passed_iterations": 99,
          "total_iterations": 100
         },
         "name": "catboost_info",
         "path": "catboost_info"
        }
       },
       "layout": "IPY_MODEL_18265667ad894f24b7b0bbfb413ec394"
      }
     },
     "232d2dc0d16246acbdf44dfdec53dd7d": {
      "model_module": "catboost-widget",
      "model_module_version": "^1.0.0",
      "model_name": "CatboostWidgetModel",
      "state": {
       "_dom_classes": [],
       "_model_module": "catboost-widget",
       "_model_module_version": "^1.0.0",
       "_model_name": "CatboostWidgetModel",
       "_view_count": null,
       "_view_module": "catboost-widget",
       "_view_module_version": "^1.0.0",
       "_view_name": "CatboostWidgetView",
       "data": {
        "catboost_info": {
         "content": {
          "data": {
           "iterations": [
            {
             "iteration": 0,
             "learn": [
              0.6613885151
             ],
             "passed_time": 0.4018774919,
             "remaining_time": 39.78587169,
             "test": [
              0.6636027078
             ]
            },
            {
             "iteration": 1,
             "learn": [
              0.6363238994
             ],
             "passed_time": 0.8538578108,
             "remaining_time": 41.83903273,
             "test": [
              0.6357831061
             ]
            },
            {
             "iteration": 2,
             "learn": [
              0.6093973156
             ],
             "passed_time": 1.243129742,
             "remaining_time": 40.19452833,
             "test": [
              0.609535453
             ]
            },
            {
             "iteration": 3,
             "learn": [
              0.5837538127
             ],
             "passed_time": 1.618314271,
             "remaining_time": 38.83954249,
             "test": [
              0.5847317629
             ]
            },
            {
             "iteration": 4,
             "learn": [
              0.5622344328
             ],
             "passed_time": 2.120745044,
             "remaining_time": 40.29415584,
             "test": [
              0.5612607586
             ]
            },
            {
             "iteration": 5,
             "learn": [
              0.5377730137
             ],
             "passed_time": 2.583227728,
             "remaining_time": 40.47056774,
             "test": [
              0.5390183565
             ]
            },
            {
             "iteration": 6,
             "learn": [
              0.5169328549
             ],
             "passed_time": 3.001089572,
             "remaining_time": 39.87161859,
             "test": [
              0.5179153971
             ]
            },
            {
             "iteration": 7,
             "learn": [
              0.4987537036
             ],
             "passed_time": 3.372465899,
             "remaining_time": 38.78335784,
             "test": [
              0.4978701518
             ]
            },
            {
             "iteration": 8,
             "learn": [
              0.4785907163
             ],
             "passed_time": 3.784591553,
             "remaining_time": 38.2664257,
             "test": [
              0.4788121071
             ]
            },
            {
             "iteration": 9,
             "learn": [
              0.4606475495
             ],
             "passed_time": 4.217792426,
             "remaining_time": 37.96013183,
             "test": [
              0.4606694355
             ]
            },
            {
             "iteration": 10,
             "learn": [
              0.4440454992
             ],
             "passed_time": 4.55016802,
             "remaining_time": 36.8149958,
             "test": [
              0.4433849057
             ]
            },
            {
             "iteration": 11,
             "learn": [
              0.4281294628
             ],
             "passed_time": 5.020740486,
             "remaining_time": 36.81876357,
             "test": [
              0.4269021291
             ]
            },
            {
             "iteration": 12,
             "learn": [
              0.4122978729
             ],
             "passed_time": 5.477335193,
             "remaining_time": 36.65601244,
             "test": [
              0.4111730382
             ]
            },
            {
             "iteration": 13,
             "learn": [
              0.3968900495
             ],
             "passed_time": 5.941843504,
             "remaining_time": 36.49989581,
             "test": [
              0.3961478858
             ]
            },
            {
             "iteration": 14,
             "learn": [
              0.3825413619
             ],
             "passed_time": 6.350123181,
             "remaining_time": 35.98403136,
             "test": [
              0.3817885701
             ]
            },
            {
             "iteration": 15,
             "learn": [
              0.3674729782
             ],
             "passed_time": 6.68815373,
             "remaining_time": 35.11280708,
             "test": [
              0.3680553715
             ]
            },
            {
             "iteration": 16,
             "learn": [
              0.3541103494
             ],
             "passed_time": 7.115533932,
             "remaining_time": 34.74054802,
             "test": [
              0.3549133661
             ]
            },
            {
             "iteration": 17,
             "learn": [
              0.3432922675
             ],
             "passed_time": 7.525073402,
             "remaining_time": 34.28088994,
             "test": [
              0.3423247884
             ]
            },
            {
             "iteration": 18,
             "learn": [
              0.3302096556
             ],
             "passed_time": 7.963364793,
             "remaining_time": 33.94908149,
             "test": [
              0.3302672096
             ]
            },
            {
             "iteration": 19,
             "learn": [
              0.31980189
             ],
             "passed_time": 8.362807329,
             "remaining_time": 33.45122932,
             "test": [
              0.3187059609
             ]
            },
            {
             "iteration": 20,
             "learn": [
              0.3071976772
             ],
             "passed_time": 8.814246291,
             "remaining_time": 33.1583551,
             "test": [
              0.3076188583
             ]
            },
            {
             "iteration": 21,
             "learn": [
              0.2970186399
             ],
             "passed_time": 9.19821082,
             "remaining_time": 32.61183836,
             "test": [
              0.2969805129
             ]
            },
            {
             "iteration": 22,
             "learn": [
              0.2869664982
             ],
             "passed_time": 9.641693811,
             "remaining_time": 32.27871406,
             "test": [
              0.2867680012
             ]
            },
            {
             "iteration": 23,
             "learn": [
              0.2766683338
             ],
             "passed_time": 10.06296914,
             "remaining_time": 31.86606894,
             "test": [
              0.2769568778
             ]
            },
            {
             "iteration": 24,
             "learn": [
              0.2667394674
             ],
             "passed_time": 10.51063757,
             "remaining_time": 31.5319127,
             "test": [
              0.2675311259
             ]
            },
            {
             "iteration": 25,
             "learn": [
              0.258144778
             ],
             "passed_time": 10.91042781,
             "remaining_time": 31.05275608,
             "test": [
              0.2584707048
             ]
            },
            {
             "iteration": 26,
             "learn": [
              0.2501212715
             ],
             "passed_time": 11.33552435,
             "remaining_time": 30.64789917,
             "test": [
              0.2497588085
             ]
            },
            {
             "iteration": 27,
             "learn": [
              0.242133867
             ],
             "passed_time": 11.72447333,
             "remaining_time": 30.1486457,
             "test": [
              0.2413833666
             ]
            },
            {
             "iteration": 28,
             "learn": [
              0.2338549346
             ],
             "passed_time": 12.16073883,
             "remaining_time": 29.77284335,
             "test": [
              0.2333202534
             ]
            },
            {
             "iteration": 29,
             "learn": [
              0.2260333073
             ],
             "passed_time": 12.60896604,
             "remaining_time": 29.42092076,
             "test": [
              0.2255589222
             ]
            },
            {
             "iteration": 30,
             "learn": [
              0.2187048996
             ],
             "passed_time": 13.0376547,
             "remaining_time": 29.01929596,
             "test": [
              0.2180852744
             ]
            },
            {
             "iteration": 31,
             "learn": [
              0.2111153456
             ],
             "passed_time": 13.42888504,
             "remaining_time": 28.53638072,
             "test": [
              0.2108873851
             ]
            },
            {
             "iteration": 32,
             "learn": [
              0.203576728
             ],
             "passed_time": 13.81292096,
             "remaining_time": 28.04441529,
             "test": [
              0.2039512175
             ]
            },
            {
             "iteration": 33,
             "learn": [
              0.1967922402
             ],
             "passed_time": 14.24646952,
             "remaining_time": 27.65491142,
             "test": [
              0.1972737003
             ]
            },
            {
             "iteration": 34,
             "learn": [
              0.1913629796
             ],
             "passed_time": 14.65590797,
             "remaining_time": 27.2181148,
             "test": [
              0.1908337118
             ]
            },
            {
             "iteration": 35,
             "learn": [
              0.1841878417
             ],
             "passed_time": 15.04580873,
             "remaining_time": 26.74810442,
             "test": [
              0.1846242579
             ]
            },
            {
             "iteration": 36,
             "learn": [
              0.1789691569
             ],
             "passed_time": 15.46952181,
             "remaining_time": 26.33999659,
             "test": [
              0.1786355967
             ]
            },
            {
             "iteration": 37,
             "learn": [
              0.1724690588
             ],
             "passed_time": 15.92763496,
             "remaining_time": 25.98719389,
             "test": [
              0.1728601751
             ]
            },
            {
             "iteration": 38,
             "learn": [
              0.1678716684
             ],
             "passed_time": 16.34813316,
             "remaining_time": 25.57015699,
             "test": [
              0.1672882431
             ]
            },
            {
             "iteration": 39,
             "learn": [
              0.1616697982
             ],
             "passed_time": 16.68974868,
             "remaining_time": 25.03462303,
             "test": [
              0.1619086077
             ]
            },
            {
             "iteration": 40,
             "learn": [
              0.1565624128
             ],
             "passed_time": 17.15258143,
             "remaining_time": 24.68298303,
             "test": [
              0.1567177779
             ]
            },
            {
             "iteration": 41,
             "learn": [
              0.1522187509
             ],
             "passed_time": 17.61298461,
             "remaining_time": 24.32269303,
             "test": [
              0.1517079968
             ]
            },
            {
             "iteration": 42,
             "learn": [
              0.1472386356
             ],
             "passed_time": 18.09554412,
             "remaining_time": 23.98711663,
             "test": [
              0.14687091
             ]
            },
            {
             "iteration": 43,
             "learn": [
              0.1421419945
             ],
             "passed_time": 18.48388317,
             "remaining_time": 23.52494222,
             "test": [
              0.1421980384
             ]
            },
            {
             "iteration": 44,
             "learn": [
              0.1373770151
             ],
             "passed_time": 18.93064416,
             "remaining_time": 23.13745398,
             "test": [
              0.1376870486
             ]
            },
            {
             "iteration": 45,
             "learn": [
              0.1331597963
             ],
             "passed_time": 19.399616,
             "remaining_time": 22.77346226,
             "test": [
              0.1333254357
             ]
            },
            {
             "iteration": 46,
             "learn": [
              0.1291477277
             ],
             "passed_time": 19.8755029,
             "remaining_time": 22.41280114,
             "test": [
              0.1291145423
             ]
            },
            {
             "iteration": 47,
             "learn": [
              0.1252204794
             ],
             "passed_time": 20.43191142,
             "remaining_time": 22.1345707,
             "test": [
              0.1250457957
             ]
            },
            {
             "iteration": 48,
             "learn": [
              0.1213136051
             ],
             "passed_time": 20.92037721,
             "remaining_time": 21.77427016,
             "test": [
              0.121114011
             ]
            },
            {
             "iteration": 49,
             "learn": [
              0.1174322893
             ],
             "passed_time": 21.33452261,
             "remaining_time": 21.33452261,
             "test": [
              0.1173133425
             ]
            },
            {
             "iteration": 50,
             "learn": [
              0.1135687584
             ],
             "passed_time": 21.71113651,
             "remaining_time": 20.85971939,
             "test": [
              0.1136367874
             ]
            },
            {
             "iteration": 51,
             "learn": [
              0.110002831
             ],
             "passed_time": 22.15891287,
             "remaining_time": 20.45438111,
             "test": [
              0.1100843814
             ]
            },
            {
             "iteration": 52,
             "learn": [
              0.1071334092
             ],
             "passed_time": 22.54480645,
             "remaining_time": 19.99256421,
             "test": [
              0.1066467
             ]
            },
            {
             "iteration": 53,
             "learn": [
              0.1036471045
             ],
             "passed_time": 23.01476492,
             "remaining_time": 19.60517012,
             "test": [
              0.1033246452
             ]
            },
            {
             "iteration": 54,
             "learn": [
              0.09998479696
             ],
             "passed_time": 23.43969431,
             "remaining_time": 19.17793171,
             "test": [
              0.1001118989
             ]
            },
            {
             "iteration": 55,
             "learn": [
              0.09736046567
             ],
             "passed_time": 23.79757128,
             "remaining_time": 18.69809172,
             "test": [
              0.09700187188
             ]
            },
            {
             "iteration": 56,
             "learn": [
              0.09399749317
             ],
             "passed_time": 24.14511208,
             "remaining_time": 18.21473368,
             "test": [
              0.09399341054
             ]
            },
            {
             "iteration": 57,
             "learn": [
              0.09143275075
             ],
             "passed_time": 24.55689313,
             "remaining_time": 17.78257779,
             "test": [
              0.09108318786
             ]
            },
            {
             "iteration": 58,
             "learn": [
              0.08819310713
             ],
             "passed_time": 24.9840752,
             "remaining_time": 17.36181497,
             "test": [
              0.08826849696
             ]
            },
            {
             "iteration": 59,
             "learn": [
              0.08573658488
             ],
             "passed_time": 25.41079115,
             "remaining_time": 16.94052743,
             "test": [
              0.08554554158
             ]
            },
            {
             "iteration": 60,
             "learn": [
              0.08284213619
             ],
             "passed_time": 25.85040921,
             "remaining_time": 16.52731081,
             "test": [
              0.0829096049
             ]
            },
            {
             "iteration": 61,
             "learn": [
              0.08034943513
             ],
             "passed_time": 26.24538418,
             "remaining_time": 16.08588063,
             "test": [
              0.08035873984
             ]
            },
            {
             "iteration": 62,
             "learn": [
              0.07820701165
             ],
             "passed_time": 26.71881744,
             "remaining_time": 15.69200389,
             "test": [
              0.07788910596
             ]
            },
            {
             "iteration": 63,
             "learn": [
              0.07574121462
             ],
             "passed_time": 27.11104997,
             "remaining_time": 15.24996561,
             "test": [
              0.07549879403
             ]
            },
            {
             "iteration": 64,
             "learn": [
              0.07322123211
             ],
             "passed_time": 27.49035854,
             "remaining_time": 14.80250075,
             "test": [
              0.0731846159
             ]
            },
            {
             "iteration": 65,
             "learn": [
              0.07090079526
             ],
             "passed_time": 27.90264446,
             "remaining_time": 14.37408957,
             "test": [
              0.07094466102
             ]
            },
            {
             "iteration": 66,
             "learn": [
              0.06873962467
             ],
             "passed_time": 28.24447342,
             "remaining_time": 13.91145706,
             "test": [
              0.06877497452
             ]
            },
            {
             "iteration": 67,
             "learn": [
              0.06668832841
             ],
             "passed_time": 28.60920802,
             "remaining_time": 13.46315672,
             "test": [
              0.0666727822
             ]
            },
            {
             "iteration": 68,
             "learn": [
              0.06470728748
             ],
             "passed_time": 29.00140554,
             "remaining_time": 13.02961698,
             "test": [
              0.06463662439
             ]
            },
            {
             "iteration": 69,
             "learn": [
              0.06274878561
             ],
             "passed_time": 29.36873271,
             "remaining_time": 12.58659973,
             "test": [
              0.06266654627
             ]
            },
            {
             "iteration": 70,
             "learn": [
              0.06080921523
             ],
             "passed_time": 29.73264034,
             "remaining_time": 12.14431789,
             "test": [
              0.06075907213
             ]
            },
            {
             "iteration": 71,
             "learn": [
              0.05890443086
             ],
             "passed_time": 30.05422547,
             "remaining_time": 11.68775435,
             "test": [
              0.05891062985
             ]
            },
            {
             "iteration": 72,
             "learn": [
              0.05709983989
             ],
             "passed_time": 30.48548665,
             "remaining_time": 11.27545396,
             "test": [
              0.05712043205
             ]
            },
            {
             "iteration": 73,
             "learn": [
              0.05565777672
             ],
             "passed_time": 30.8959989,
             "remaining_time": 10.85535096,
             "test": [
              0.05538718269
             ]
            },
            {
             "iteration": 74,
             "learn": [
              0.05390994731
             ],
             "passed_time": 31.32913007,
             "remaining_time": 10.44304336,
             "test": [
              0.05370736955
             ]
            },
            {
             "iteration": 75,
             "learn": [
              0.05207232179
             ],
             "passed_time": 31.73446873,
             "remaining_time": 10.02141118,
             "test": [
              0.05207834245
             ]
            },
            {
             "iteration": 76,
             "learn": [
              0.05075085878
             ],
             "passed_time": 32.10355788,
             "remaining_time": 9.589374431,
             "test": [
              0.05049941735
             ]
            },
            {
             "iteration": 77,
             "learn": [
              0.04905152941
             ],
             "passed_time": 32.46894065,
             "remaining_time": 9.157906337,
             "test": [
              0.04897007976
             ]
            },
            {
             "iteration": 78,
             "learn": [
              0.04756702851
             ],
             "passed_time": 32.8418881,
             "remaining_time": 8.730122153,
             "test": [
              0.047490355
             ]
            },
            {
             "iteration": 79,
             "learn": [
              0.0461264031
             ],
             "passed_time": 33.20477948,
             "remaining_time": 8.30119487,
             "test": [
              0.0460548497
             ]
            },
            {
             "iteration": 80,
             "learn": [
              0.04486364268
             ],
             "passed_time": 33.59037126,
             "remaining_time": 7.879222889,
             "test": [
              0.04466602178
             ]
            },
            {
             "iteration": 81,
             "learn": [
              0.04330771616
             ],
             "passed_time": 33.94506876,
             "remaining_time": 7.451356557,
             "test": [
              0.04331684958
             ]
            },
            {
             "iteration": 82,
             "learn": [
              0.04217606225
             ],
             "passed_time": 34.30639012,
             "remaining_time": 7.026610024,
             "test": [
              0.04201190156
             ]
            },
            {
             "iteration": 83,
             "learn": [
              0.04092029858
             ],
             "passed_time": 34.5994427,
             "remaining_time": 6.590370038,
             "test": [
              0.04074542736
             ]
            },
            {
             "iteration": 84,
             "learn": [
              0.03956228323
             ],
             "passed_time": 34.9815612,
             "remaining_time": 6.173216683,
             "test": [
              0.0395178849
             ]
            },
            {
             "iteration": 85,
             "learn": [
              0.03834141646
             ],
             "passed_time": 35.29160822,
             "remaining_time": 5.745145524,
             "test": [
              0.03832744672
             ]
            },
            {
             "iteration": 86,
             "learn": [
              0.03729103858
             ],
             "passed_time": 35.65235112,
             "remaining_time": 5.327362811,
             "test": [
              0.03717358764
             ]
            },
            {
             "iteration": 87,
             "learn": [
              0.03623878474
             ],
             "passed_time": 36.02571337,
             "remaining_time": 4.912597278,
             "test": [
              0.0360564446
             ]
            },
            {
             "iteration": 88,
             "learn": [
              0.03506508075
             ],
             "passed_time": 36.40346235,
             "remaining_time": 4.499304336,
             "test": [
              0.03497313187
             ]
            },
            {
             "iteration": 89,
             "learn": [
              0.03403045563
             ],
             "passed_time": 36.88854427,
             "remaining_time": 4.098727141,
             "test": [
              0.03392469173
             ]
            },
            {
             "iteration": 90,
             "learn": [
              0.03301089486
             ],
             "passed_time": 37.28884796,
             "remaining_time": 3.68790804,
             "test": [
              0.03290634039
             ]
            },
            {
             "iteration": 91,
             "learn": [
              0.03201717018
             ],
             "passed_time": 37.7791299,
             "remaining_time": 3.285141731,
             "test": [
              0.03192026445
             ]
            },
            {
             "iteration": 92,
             "learn": [
              0.03103990786
             ],
             "passed_time": 38.20127441,
             "remaining_time": 2.875364741,
             "test": [
              0.03096960276
             ]
            },
            {
             "iteration": 93,
             "learn": [
              0.03010690627
             ],
             "passed_time": 38.60191766,
             "remaining_time": 2.463952191,
             "test": [
              0.03004352142
             ]
            },
            {
             "iteration": 94,
             "learn": [
              0.02919175435
             ],
             "passed_time": 38.98869595,
             "remaining_time": 2.052036629,
             "test": [
              0.02914288108
             ]
            },
            {
             "iteration": 95,
             "learn": [
              0.02840601353
             ],
             "passed_time": 39.36252244,
             "remaining_time": 1.640105102,
             "test": [
              0.02827012686
             ]
            },
            {
             "iteration": 96,
             "learn": [
              0.02751766656
             ],
             "passed_time": 39.77409103,
             "remaining_time": 1.230126527,
             "test": [
              0.02742578981
             ]
            },
            {
             "iteration": 97,
             "learn": [
              0.02663045314
             ],
             "passed_time": 40.17896192,
             "remaining_time": 0.8199788148,
             "test": [
              0.02660499536
             ]
            },
            {
             "iteration": 98,
             "learn": [
              0.02594232329
             ],
             "passed_time": 40.57132676,
             "remaining_time": 0.4098113814,
             "test": [
              0.02580912189
             ]
            },
            {
             "iteration": 99,
             "learn": [
              0.0250830208
             ],
             "passed_time": 40.9721711,
             "remaining_time": 0,
             "test": [
              0.02503807029
             ]
            }
           ],
           "meta": {
            "iteration_count": 100,
            "launch_mode": "Train",
            "learn_metrics": [
             {
              "best_value": "Min",
              "name": "CrossEntropy"
             }
            ],
            "learn_sets": [
             "learn"
            ],
            "name": "experiment",
            "parameters": "",
            "test_metrics": [
             {
              "best_value": "Min",
              "name": "CrossEntropy"
             }
            ],
            "test_sets": [
             "test"
            ]
           }
          },
          "passed_iterations": 99,
          "total_iterations": 100
         },
         "name": "catboost_info",
         "path": "catboost_info"
        }
       },
       "layout": "IPY_MODEL_a4cc920aac484b6cb73af5651caa6583"
      }
     },
     "232d9ca5c68e4e62974ac6c2eb924d67": {
      "model_module": "catboost-widget",
      "model_module_version": "^1.0.0",
      "model_name": "CatboostWidgetModel",
      "state": {
       "_dom_classes": [],
       "_model_module": "catboost-widget",
       "_model_module_version": "^1.0.0",
       "_model_name": "CatboostWidgetModel",
       "_view_count": null,
       "_view_module": "catboost-widget",
       "_view_module_version": "^1.0.0",
       "_view_name": "CatboostWidgetView",
       "data": {
        "catboost_info": {
         "content": {
          "data": {
           "iterations": [
            {
             "iteration": 0,
             "learn": [
              0.6613948233
             ],
             "passed_time": 0.410744278,
             "remaining_time": 40.66368352,
             "test": [
              0.6636077876
             ]
            },
            {
             "iteration": 1,
             "learn": [
              0.6363168289
             ],
             "passed_time": 0.8618027353,
             "remaining_time": 42.22833403,
             "test": [
              0.6357877788
             ]
            },
            {
             "iteration": 2,
             "learn": [
              0.6094050564
             ],
             "passed_time": 1.247781634,
             "remaining_time": 40.34493951,
             "test": [
              0.6095417321
             ]
            },
            {
             "iteration": 3,
             "learn": [
              0.5837565726
             ],
             "passed_time": 1.622994413,
             "remaining_time": 38.95186592,
             "test": [
              0.5847401412
             ]
            },
            {
             "iteration": 4,
             "learn": [
              0.5622402155
             ],
             "passed_time": 2.106111401,
             "remaining_time": 40.01611663,
             "test": [
              0.561272163
             ]
            },
            {
             "iteration": 5,
             "learn": [
              0.5378534312
             ],
             "passed_time": 2.570032346,
             "remaining_time": 40.26384009,
             "test": [
              0.5390315834
             ]
            },
            {
             "iteration": 6,
             "learn": [
              0.5169576806
             ],
             "passed_time": 2.98506851,
             "remaining_time": 39.65876734,
             "test": [
              0.517929982
             ]
            },
            {
             "iteration": 7,
             "learn": [
              0.4987619175
             ],
             "passed_time": 3.353116936,
             "remaining_time": 38.56084476,
             "test": [
              0.497885885
             ]
            },
            {
             "iteration": 8,
             "learn": [
              0.4786238217
             ],
             "passed_time": 3.767661475,
             "remaining_time": 38.0952438,
             "test": [
              0.4788265428
             ]
            },
            {
             "iteration": 9,
             "learn": [
              0.4606751089
             ],
             "passed_time": 4.20033133,
             "remaining_time": 37.80298197,
             "test": [
              0.4606860865
             ]
            },
            {
             "iteration": 10,
             "learn": [
              0.4441619792
             ],
             "passed_time": 4.539755103,
             "remaining_time": 36.73074583,
             "test": [
              0.4434006792
             ]
            },
            {
             "iteration": 11,
             "learn": [
              0.4281631662
             ],
             "passed_time": 5.012228356,
             "remaining_time": 36.75634128,
             "test": [
              0.4269190774
             ]
            },
            {
             "iteration": 12,
             "learn": [
              0.4123807218
             ],
             "passed_time": 5.471396168,
             "remaining_time": 36.61626666,
             "test": [
              0.4111902841
             ]
            },
            {
             "iteration": 13,
             "learn": [
              0.3969171751
             ],
             "passed_time": 5.88759592,
             "remaining_time": 36.16666065,
             "test": [
              0.3961711005
             ]
            },
            {
             "iteration": 14,
             "learn": [
              0.3825629678
             ],
             "passed_time": 6.364846178,
             "remaining_time": 36.06746167,
             "test": [
              0.3818135322
             ]
            },
            {
             "iteration": 15,
             "learn": [
              0.3674867644
             ],
             "passed_time": 6.703343465,
             "remaining_time": 35.19255319,
             "test": [
              0.3680814178
             ]
            },
            {
             "iteration": 16,
             "learn": [
              0.3540616048
             ],
             "passed_time": 7.137960579,
             "remaining_time": 34.85004283,
             "test": [
              0.354938517
             ]
            },
            {
             "iteration": 17,
             "learn": [
              0.3433588068
             ],
             "passed_time": 7.548795406,
             "remaining_time": 34.38895685,
             "test": [
              0.3423528355
             ]
            },
            {
             "iteration": 18,
             "learn": [
              0.3302575263
             ],
             "passed_time": 7.986336535,
             "remaining_time": 34.04701365,
             "test": [
              0.3302979617
             ]
            },
            {
             "iteration": 19,
             "learn": [
              0.3198428735
             ],
             "passed_time": 8.386879789,
             "remaining_time": 33.54751915,
             "test": [
              0.3187383673
             ]
            },
            {
             "iteration": 20,
             "learn": [
              0.3072723575
             ],
             "passed_time": 8.837247878,
             "remaining_time": 33.24488487,
             "test": [
              0.3076498332
             ]
            },
            {
             "iteration": 21,
             "learn": [
              0.297070341
             ],
             "passed_time": 9.22088377,
             "remaining_time": 32.69222427,
             "test": [
              0.29701207
             ]
            },
            {
             "iteration": 22,
             "learn": [
              0.2870076921
             ],
             "passed_time": 9.668218832,
             "remaining_time": 32.36751522,
             "test": [
              0.2868028596
             ]
            },
            {
             "iteration": 23,
             "learn": [
              0.2767318038
             ],
             "passed_time": 10.08853726,
             "remaining_time": 31.94703466,
             "test": [
              0.2769926048
             ]
            },
            {
             "iteration": 24,
             "learn": [
              0.2669625765
             ],
             "passed_time": 10.5320057,
             "remaining_time": 31.59601709,
             "test": [
              0.2675668211
             ]
            },
            {
             "iteration": 25,
             "learn": [
              0.2581991075
             ],
             "passed_time": 10.8953862,
             "remaining_time": 31.00994534,
             "test": [
              0.2585080801
             ]
            },
            {
             "iteration": 26,
             "learn": [
              0.2501835782
             ],
             "passed_time": 11.3175019,
             "remaining_time": 30.5991718,
             "test": [
              0.2497953785
             ]
            },
            {
             "iteration": 27,
             "learn": [
              0.242200307
             ],
             "passed_time": 11.70931843,
             "remaining_time": 30.10967595,
             "test": [
              0.2414153393
             ]
            },
            {
             "iteration": 28,
             "learn": [
              0.2339187724
             ],
             "passed_time": 12.12974574,
             "remaining_time": 29.69696371,
             "test": [
              0.2333528153
             ]
            },
            {
             "iteration": 29,
             "learn": [
              0.2261153735
             ],
             "passed_time": 12.5777042,
             "remaining_time": 29.34797646,
             "test": [
              0.2255913815
             ]
            },
            {
             "iteration": 30,
             "learn": [
              0.2187758213
             ],
             "passed_time": 13.00485176,
             "remaining_time": 28.94628295,
             "test": [
              0.2181170628
             ]
            },
            {
             "iteration": 31,
             "learn": [
              0.2111774718
             ],
             "passed_time": 13.39408126,
             "remaining_time": 28.46242269,
             "test": [
              0.2109200988
             ]
            },
            {
             "iteration": 32,
             "learn": [
              0.2036312646
             ],
             "passed_time": 13.72222004,
             "remaining_time": 27.86026494,
             "test": [
              0.2039852025
             ]
            },
            {
             "iteration": 33,
             "learn": [
              0.1970287774
             ],
             "passed_time": 14.20967637,
             "remaining_time": 27.58348942,
             "test": [
              0.1973040273
             ]
            },
            {
             "iteration": 34,
             "learn": [
              0.1914500663
             ],
             "passed_time": 14.60607526,
             "remaining_time": 27.12556834,
             "test": [
              0.1908716384
             ]
            },
            {
             "iteration": 35,
             "learn": [
              0.1842989098
             ],
             "passed_time": 14.99402716,
             "remaining_time": 26.65604828,
             "test": [
              0.1846614005
             ]
            },
            {
             "iteration": 36,
             "learn": [
              0.1790932752
             ],
             "passed_time": 15.42411475,
             "remaining_time": 26.26268187,
             "test": [
              0.1786739441
             ]
            },
            {
             "iteration": 37,
             "learn": [
              0.1725610245
             ],
             "passed_time": 15.87498614,
             "remaining_time": 25.90129317,
             "test": [
              0.1728975322
             ]
            },
            {
             "iteration": 38,
             "learn": [
              0.1679591494
             ],
             "passed_time": 16.29627984,
             "remaining_time": 25.48905308,
             "test": [
              0.1673256454
             ]
            },
            {
             "iteration": 39,
             "learn": [
              0.1618433775
             ],
             "passed_time": 16.6462522,
             "remaining_time": 24.96937831,
             "test": [
              0.1619493701
             ]
            },
            {
             "iteration": 40,
             "learn": [
              0.156652611
             ],
             "passed_time": 17.13042,
             "remaining_time": 24.65109219,
             "test": [
              0.1567590155
             ]
            },
            {
             "iteration": 41,
             "learn": [
              0.1523317049
             ],
             "passed_time": 17.59212856,
             "remaining_time": 24.29389182,
             "test": [
              0.1517494532
             ]
            },
            {
             "iteration": 42,
             "learn": [
              0.1473411612
             ],
             "passed_time": 18.07090193,
             "remaining_time": 23.9544514,
             "test": [
              0.1469122772
             ]
            },
            {
             "iteration": 43,
             "learn": [
              0.1422697665
             ],
             "passed_time": 18.43902213,
             "remaining_time": 23.46784635,
             "test": [
              0.142240611
             ]
            },
            {
             "iteration": 44,
             "learn": [
              0.1375656916
             ],
             "passed_time": 18.88671357,
             "remaining_time": 23.08376103,
             "test": [
              0.1377291377
             ]
            },
            {
             "iteration": 45,
             "learn": [
              0.1332548762
             ],
             "passed_time": 19.25493159,
             "remaining_time": 22.60361535,
             "test": [
              0.133401098
             ]
            },
            {
             "iteration": 46,
             "learn": [
              0.1292373963
             ],
             "passed_time": 19.58411611,
             "remaining_time": 22.08421604,
             "test": [
              0.1291883865
             ]
            },
            {
             "iteration": 47,
             "learn": [
              0.1253107888
             ],
             "passed_time": 19.97989818,
             "remaining_time": 21.64488969,
             "test": [
              0.1251190097
             ]
            },
            {
             "iteration": 48,
             "learn": [
              0.1214061454
             ],
             "passed_time": 20.45083566,
             "remaining_time": 21.28556365,
             "test": [
              0.1211857701
             ]
            },
            {
             "iteration": 49,
             "learn": [
              0.117523476
             ],
             "passed_time": 20.87234189,
             "remaining_time": 20.87234189,
             "test": [
              0.1173834755
             ]
            },
            {
             "iteration": 50,
             "learn": [
              0.1136925511
             ],
             "passed_time": 21.25400159,
             "remaining_time": 20.42051133,
             "test": [
              0.1137073835
             ]
            },
            {
             "iteration": 51,
             "learn": [
              0.1101632709
             ],
             "passed_time": 21.70746392,
             "remaining_time": 20.03765901,
             "test": [
              0.1101542435
             ]
            },
            {
             "iteration": 52,
             "learn": [
              0.1072712084
             ],
             "passed_time": 22.09196735,
             "remaining_time": 19.59098992,
             "test": [
              0.1067182492
             ]
            },
            {
             "iteration": 53,
             "learn": [
              0.1037739955
             ],
             "passed_time": 22.60730129,
             "remaining_time": 19.25807147,
             "test": [
              0.1033937678
             ]
            },
            {
             "iteration": 54,
             "learn": [
              0.1001299459
             ],
             "passed_time": 23.21953091,
             "remaining_time": 18.99779802,
             "test": [
              0.1001797429
             ]
            },
            {
             "iteration": 55,
             "learn": [
              0.09751957669
             ],
             "passed_time": 23.71589786,
             "remaining_time": 18.63391974,
             "test": [
              0.09707008502
             ]
            },
            {
             "iteration": 56,
             "learn": [
              0.09413903958
             ],
             "passed_time": 24.12483721,
             "remaining_time": 18.1994386,
             "test": [
              0.09407364585
             ]
            },
            {
             "iteration": 57,
             "learn": [
              0.09159316127
             ],
             "passed_time": 24.53858149,
             "remaining_time": 17.76931763,
             "test": [
              0.09116370531
             ]
            },
            {
             "iteration": 58,
             "learn": [
              0.08836446352
             ],
             "passed_time": 24.99063368,
             "remaining_time": 17.36637256,
             "test": [
              0.08835389471
             ]
            },
            {
             "iteration": 59,
             "learn": [
              0.08590667964
             ],
             "passed_time": 25.41686006,
             "remaining_time": 16.94457337,
             "test": [
              0.08563192387
             ]
            },
            {
             "iteration": 60,
             "learn": [
              0.08307668556
             ],
             "passed_time": 25.87270723,
             "remaining_time": 16.54156692,
             "test": [
              0.08299500598
             ]
            },
            {
             "iteration": 61,
             "learn": [
              0.08051218175
             ],
             "passed_time": 26.26983717,
             "remaining_time": 16.10086794,
             "test": [
              0.08044294666
             ]
            },
            {
             "iteration": 62,
             "learn": [
              0.07834450379
             ],
             "passed_time": 26.70363576,
             "remaining_time": 15.68308767,
             "test": [
              0.07797120008
             ]
            },
            {
             "iteration": 63,
             "learn": [
              0.07589608742
             ],
             "passed_time": 27.10524451,
             "remaining_time": 15.24670004,
             "test": [
              0.07558508136
             ]
            },
            {
             "iteration": 64,
             "learn": [
              0.0734168328
             ],
             "passed_time": 27.48507909,
             "remaining_time": 14.79965797,
             "test": [
              0.07326985067
             ]
            },
            {
             "iteration": 65,
             "learn": [
              0.07113696614
             ],
             "passed_time": 27.84334568,
             "remaining_time": 14.34354171,
             "test": [
              0.07102780144
             ]
            },
            {
             "iteration": 66,
             "learn": [
              0.06895217398
             ],
             "passed_time": 28.22994489,
             "remaining_time": 13.90430121,
             "test": [
              0.06885676348
             ]
            },
            {
             "iteration": 67,
             "learn": [
              0.06686472009
             ],
             "passed_time": 28.59182079,
             "remaining_time": 13.45497449,
             "test": [
              0.06675407735
             ]
            },
            {
             "iteration": 68,
             "learn": [
              0.06487413132
             ],
             "passed_time": 28.93680044,
             "remaining_time": 13.0005915,
             "test": [
              0.06472265075
             ]
            },
            {
             "iteration": 69,
             "learn": [
              0.06291872447
             ],
             "passed_time": 29.31303717,
             "remaining_time": 12.56273022,
             "test": [
              0.06275689835
             ]
            },
            {
             "iteration": 70,
             "learn": [
              0.06098703304
             ],
             "passed_time": 29.67385559,
             "remaining_time": 12.12030721,
             "test": [
              0.06084934484
             ]
            },
            {
             "iteration": 71,
             "learn": [
              0.05910680664
             ],
             "passed_time": 30.02673516,
             "remaining_time": 11.67706367,
             "test": [
              0.0590001835
             ]
            },
            {
             "iteration": 72,
             "learn": [
              0.05733568415
             ],
             "passed_time": 30.46236963,
             "remaining_time": 11.26690384,
             "test": [
              0.05720961148
             ]
            },
            {
             "iteration": 73,
             "learn": [
              0.05583500156
             ],
             "passed_time": 30.85956724,
             "remaining_time": 10.84255065,
             "test": [
              0.05547460834
             ]
            },
            {
             "iteration": 74,
             "learn": [
              0.05409761122
             ],
             "passed_time": 31.28961036,
             "remaining_time": 10.42987012,
             "test": [
              0.05379391718
             ]
            },
            {
             "iteration": 75,
             "learn": [
              0.05227591495
             ],
             "passed_time": 31.62567042,
             "remaining_time": 9.987053817,
             "test": [
              0.05216668809
             ]
            },
            {
             "iteration": 76,
             "learn": [
              0.05093846603
             ],
             "passed_time": 32.05886126,
             "remaining_time": 9.576023494,
             "test": [
              0.05058920655
             ]
            },
            {
             "iteration": 77,
             "learn": [
              0.04924414059
             ],
             "passed_time": 32.51885732,
             "remaining_time": 9.171985398,
             "test": [
              0.04905893211
             ]
            },
            {
             "iteration": 78,
             "learn": [
              0.04778765817
             ],
             "passed_time": 32.86652427,
             "remaining_time": 8.736671009,
             "test": [
              0.04757585872
             ]
            },
            {
             "iteration": 79,
             "learn": [
              0.04631606637
             ],
             "passed_time": 33.2424833,
             "remaining_time": 8.310620825,
             "test": [
              0.04613935105
             ]
            },
            {
             "iteration": 80,
             "learn": [
              0.04505466864
             ],
             "passed_time": 33.60723335,
             "remaining_time": 7.883178193,
             "test": [
              0.04474857286
             ]
            },
            {
             "iteration": 81,
             "learn": [
              0.04354872627
             ],
             "passed_time": 34.03263601,
             "remaining_time": 7.470578637,
             "test": [
              0.04340033153
             ]
            },
            {
             "iteration": 82,
             "learn": [
              0.04237282402
             ],
             "passed_time": 34.39572008,
             "remaining_time": 7.044906523,
             "test": [
              0.04209426517
             ]
            },
            {
             "iteration": 83,
             "learn": [
              0.04112400194
             ],
             "passed_time": 34.84787276,
             "remaining_time": 6.63769005,
             "test": [
              0.04082522905
             ]
            },
            {
             "iteration": 84,
             "learn": [
              0.03978204313
             ],
             "passed_time": 35.22077585,
             "remaining_time": 6.215431033,
             "test": [
              0.03960758675
             ]
            },
            {
             "iteration": 85,
             "learn": [
              0.03856147864
             ],
             "passed_time": 35.57196936,
             "remaining_time": 5.79078571,
             "test": [
              0.03841765012
             ]
            },
            {
             "iteration": 86,
             "learn": [
              0.03748989737
             ],
             "passed_time": 36.00310744,
             "remaining_time": 5.379774674,
             "test": [
              0.0372635802
             ]
            },
            {
             "iteration": 87,
             "learn": [
              0.03642765535
             ],
             "passed_time": 36.38869933,
             "remaining_time": 4.962095364,
             "test": [
              0.0361457484
             ]
            },
            {
             "iteration": 88,
             "learn": [
              0.03529120557
             ],
             "passed_time": 36.77415584,
             "remaining_time": 4.545120385,
             "test": [
              0.03506992574
             ]
            },
            {
             "iteration": 89,
             "learn": [
              0.03424114323
             ],
             "passed_time": 37.15671183,
             "remaining_time": 4.128523536,
             "test": [
              0.03401753235
             ]
            },
            {
             "iteration": 90,
             "learn": [
              0.0332088895
             ],
             "passed_time": 37.5410945,
             "remaining_time": 3.7128555,
             "test": [
              0.03300289823
             ]
            },
            {
             "iteration": 91,
             "learn": [
              0.03220691067
             ],
             "passed_time": 37.95800824,
             "remaining_time": 3.300696369,
             "test": [
              0.03201522944
             ]
            },
            {
             "iteration": 92,
             "learn": [
              0.03124106734
             ],
             "passed_time": 38.33691619,
             "remaining_time": 2.885574337,
             "test": [
              0.03105928357
             ]
            },
            {
             "iteration": 93,
             "learn": [
              0.03031905432
             ],
             "passed_time": 38.71571789,
             "remaining_time": 2.471216036,
             "test": [
              0.03013199008
             ]
            },
            {
             "iteration": 94,
             "learn": [
              0.02941032652
             ],
             "passed_time": 39.15832372,
             "remaining_time": 2.060964406,
             "test": [
              0.0292405641
             ]
            },
            {
             "iteration": 95,
             "learn": [
              0.02859543534
             ],
             "passed_time": 39.58593165,
             "remaining_time": 1.649413819,
             "test": [
              0.02836854791
             ]
            },
            {
             "iteration": 96,
             "learn": [
              0.02769516423
             ],
             "passed_time": 39.95130402,
             "remaining_time": 1.235607341,
             "test": [
              0.02752038909
             ]
            },
            {
             "iteration": 97,
             "learn": [
              0.02686074658
             ],
             "passed_time": 40.34323728,
             "remaining_time": 0.823331373,
             "test": [
              0.02670000663
             ]
            },
            {
             "iteration": 98,
             "learn": [
              0.02613266836
             ],
             "passed_time": 40.79186322,
             "remaining_time": 0.4120390225,
             "test": [
              0.02590509205
             ]
            },
            {
             "iteration": 99,
             "learn": [
              0.02529792919
             ],
             "passed_time": 41.21821929,
             "remaining_time": 0,
             "test": [
              0.02513401337
             ]
            }
           ],
           "meta": {
            "iteration_count": 100,
            "launch_mode": "Train",
            "learn_metrics": [
             {
              "best_value": "Min",
              "name": "CrossEntropy"
             }
            ],
            "learn_sets": [
             "learn"
            ],
            "name": "experiment",
            "parameters": "",
            "test_metrics": [
             {
              "best_value": "Min",
              "name": "CrossEntropy"
             }
            ],
            "test_sets": [
             "test"
            ]
           }
          },
          "passed_iterations": 99,
          "total_iterations": 100
         },
         "name": "catboost_info",
         "path": "catboost_info"
        }
       },
       "layout": "IPY_MODEL_f9dc313306374370858d3c461b3fa8ab"
      }
     },
     "2c38433896b645d398c1a1323678161b": {
      "model_module": "catboost-widget",
      "model_module_version": "^1.0.0",
      "model_name": "CatboostWidgetModel",
      "state": {
       "_dom_classes": [],
       "_model_module": "catboost-widget",
       "_model_module_version": "^1.0.0",
       "_model_name": "CatboostWidgetModel",
       "_view_count": null,
       "_view_module": "catboost-widget",
       "_view_module_version": "^1.0.0",
       "_view_name": "CatboostWidgetView",
       "data": {
        "catboost_info": {
         "content": {
          "data": {
           "iterations": [
            {
             "iteration": 0,
             "learn": [
              0.6700174472
             ],
             "passed_time": 0.4392053664,
             "remaining_time": 43.48133127,
             "test": [
              0.6693801233
             ]
            },
            {
             "iteration": 1,
             "learn": [
              0.6490919161
             ],
             "passed_time": 0.8795878403,
             "remaining_time": 43.09980417,
             "test": [
              0.6473008129
             ]
            },
            {
             "iteration": 2,
             "learn": [
              0.6263625426
             ],
             "passed_time": 1.292498031,
             "remaining_time": 41.79076968,
             "test": [
              0.6258490152
             ]
            },
            {
             "iteration": 3,
             "learn": [
              0.6071037283
             ],
             "passed_time": 1.733045586,
             "remaining_time": 41.59309406,
             "test": [
              0.6059771925
             ]
            },
            {
             "iteration": 4,
             "learn": [
              0.5883186175
             ],
             "passed_time": 2.183499271,
             "remaining_time": 41.48648614,
             "test": [
              0.5871114444
             ]
            },
            {
             "iteration": 5,
             "learn": [
              0.571396172
             ],
             "passed_time": 2.66369172,
             "remaining_time": 41.73117028,
             "test": [
              0.5692800973
             ]
            },
            {
             "iteration": 6,
             "learn": [
              0.5533663183
             ],
             "passed_time": 3.053377664,
             "remaining_time": 40.56630325,
             "test": [
              0.5518048067
             ]
            },
            {
             "iteration": 7,
             "learn": [
              0.5379615449
             ],
             "passed_time": 3.451054568,
             "remaining_time": 39.68712754,
             "test": [
              0.535219988
             ]
            },
            {
             "iteration": 8,
             "learn": [
              0.5222739373
             ],
             "passed_time": 3.866458324,
             "remaining_time": 39.09418972,
             "test": [
              0.5192692409
             ]
            },
            {
             "iteration": 9,
             "learn": [
              0.506761681
             ],
             "passed_time": 4.26030282,
             "remaining_time": 38.34272538,
             "test": [
              0.5034419447
             ]
            },
            {
             "iteration": 10,
             "learn": [
              0.4925758749
             ],
             "passed_time": 4.624398851,
             "remaining_time": 37.41559071,
             "test": [
              0.4891149169
             ]
            },
            {
             "iteration": 11,
             "learn": [
              0.4785934586
             ],
             "passed_time": 5.013617914,
             "remaining_time": 36.76653137,
             "test": [
              0.4746970259
             ]
            },
            {
             "iteration": 12,
             "learn": [
              0.4652557309
             ],
             "passed_time": 5.412056247,
             "remaining_time": 36.21914565,
             "test": [
              0.4608522654
             ]
            },
            {
             "iteration": 13,
             "learn": [
              0.4534974219
             ],
             "passed_time": 5.776443859,
             "remaining_time": 35.48386942,
             "test": [
              0.4484387783
             ]
            },
            {
             "iteration": 14,
             "learn": [
              0.4416890754
             ],
             "passed_time": 6.180144021,
             "remaining_time": 35.02081612,
             "test": [
              0.4368987549
             ]
            },
            {
             "iteration": 15,
             "learn": [
              0.4303636657
             ],
             "passed_time": 6.582066764,
             "remaining_time": 34.55585051,
             "test": [
              0.4248183046
             ]
            },
            {
             "iteration": 16,
             "learn": [
              0.4192745346
             ],
             "passed_time": 7.110791265,
             "remaining_time": 34.71739265,
             "test": [
              0.4132579435
             ]
            },
            {
             "iteration": 17,
             "learn": [
              0.4086855803
             ],
             "passed_time": 7.66522166,
             "remaining_time": 34.91934312,
             "test": [
              0.4025246079
             ]
            },
            {
             "iteration": 18,
             "learn": [
              0.3987161724
             ],
             "passed_time": 8.209407094,
             "remaining_time": 34.99799866,
             "test": [
              0.3917893992
             ]
            },
            {
             "iteration": 19,
             "learn": [
              0.3885192263
             ],
             "passed_time": 8.616151126,
             "remaining_time": 34.4646045,
             "test": [
              0.3813999392
             ]
            },
            {
             "iteration": 20,
             "learn": [
              0.3796195873
             ],
             "passed_time": 9.019666605,
             "remaining_time": 33.93112675,
             "test": [
              0.3720677959
             ]
            },
            {
             "iteration": 21,
             "learn": [
              0.3704522103
             ],
             "passed_time": 9.409684981,
             "remaining_time": 33.36161039,
             "test": [
              0.3630140493
             ]
            },
            {
             "iteration": 22,
             "learn": [
              0.3619969465
             ],
             "passed_time": 9.807995261,
             "remaining_time": 32.8354624,
             "test": [
              0.3543739697
             ]
            },
            {
             "iteration": 23,
             "learn": [
              0.3541588887
             ],
             "passed_time": 10.21154327,
             "remaining_time": 32.33655368,
             "test": [
              0.3461935278
             ]
            },
            {
             "iteration": 24,
             "learn": [
              0.3458788906
             ],
             "passed_time": 10.61361331,
             "remaining_time": 31.84083994,
             "test": [
              0.3378041253
             ]
            },
            {
             "iteration": 25,
             "learn": [
              0.3380880835
             ],
             "passed_time": 11.01042746,
             "remaining_time": 31.33737045,
             "test": [
              0.3296967399
             ]
            },
            {
             "iteration": 26,
             "learn": [
              0.3304699967
             ],
             "passed_time": 11.42972982,
             "remaining_time": 30.90260284,
             "test": [
              0.3222574879
             ]
            },
            {
             "iteration": 27,
             "learn": [
              0.3233620823
             ],
             "passed_time": 11.85788584,
             "remaining_time": 30.49170644,
             "test": [
              0.3149861045
             ]
            },
            {
             "iteration": 28,
             "learn": [
              0.3162954384
             ],
             "passed_time": 12.27895559,
             "remaining_time": 30.06227058,
             "test": [
              0.3078789983
             ]
            },
            {
             "iteration": 29,
             "learn": [
              0.3093820248
             ],
             "passed_time": 12.7208284,
             "remaining_time": 29.68193293,
             "test": [
              0.3009892832
             ]
            },
            {
             "iteration": 30,
             "learn": [
              0.3030752656
             ],
             "passed_time": 13.21011515,
             "remaining_time": 29.40315954,
             "test": [
              0.2945587932
             ]
            },
            {
             "iteration": 31,
             "learn": [
              0.2967892771
             ],
             "passed_time": 13.70041467,
             "remaining_time": 29.11338117,
             "test": [
              0.2881333524
             ]
            },
            {
             "iteration": 32,
             "learn": [
              0.2911077627
             ],
             "passed_time": 14.07461612,
             "remaining_time": 28.57573576,
             "test": [
              0.2823476458
             ]
            },
            {
             "iteration": 33,
             "learn": [
              0.2851475912
             ],
             "passed_time": 14.52846524,
             "remaining_time": 28.20231488,
             "test": [
              0.2762056862
             ]
            },
            {
             "iteration": 34,
             "learn": [
              0.2796224374
             ],
             "passed_time": 14.984806,
             "remaining_time": 27.82892544,
             "test": [
              0.2705160211
             ]
            },
            {
             "iteration": 35,
             "learn": [
              0.2740841305
             ],
             "passed_time": 15.38071838,
             "remaining_time": 27.34349934,
             "test": [
              0.2648538222
             ]
            },
            {
             "iteration": 36,
             "learn": [
              0.2685488354
             ],
             "passed_time": 15.83138516,
             "remaining_time": 26.95614229,
             "test": [
              0.2593610418
             ]
            },
            {
             "iteration": 37,
             "learn": [
              0.263495525
             ],
             "passed_time": 16.27415411,
             "remaining_time": 26.55256724,
             "test": [
              0.2544283691
             ]
            },
            {
             "iteration": 38,
             "learn": [
              0.2588438728
             ],
             "passed_time": 16.72897826,
             "remaining_time": 26.16583779,
             "test": [
              0.2495371872
             ]
            },
            {
             "iteration": 39,
             "learn": [
              0.2539816055
             ],
             "passed_time": 17.16295955,
             "remaining_time": 25.74443932,
             "test": [
              0.2447197779
             ]
            },
            {
             "iteration": 40,
             "learn": [
              0.2492225215
             ],
             "passed_time": 17.60378499,
             "remaining_time": 25.33227596,
             "test": [
              0.2400465201
             ]
            },
            {
             "iteration": 41,
             "learn": [
              0.2452387749
             ],
             "passed_time": 18.04149486,
             "remaining_time": 24.91444528,
             "test": [
              0.23563553
             ]
            },
            {
             "iteration": 42,
             "learn": [
              0.2405582311
             ],
             "passed_time": 18.47012112,
             "remaining_time": 24.48364892,
             "test": [
              0.2309287668
             ]
            },
            {
             "iteration": 43,
             "learn": [
              0.2364258721
             ],
             "passed_time": 18.92831531,
             "remaining_time": 24.09058313,
             "test": [
              0.2270577341
             ]
            },
            {
             "iteration": 44,
             "learn": [
              0.2329009817
             ],
             "passed_time": 19.29460339,
             "remaining_time": 23.58229304,
             "test": [
              0.2234775487
             ]
            },
            {
             "iteration": 45,
             "learn": [
              0.2288559919
             ],
             "passed_time": 19.76869548,
             "remaining_time": 23.20672948,
             "test": [
              0.2197208958
             ]
            },
            {
             "iteration": 46,
             "learn": [
              0.2252847193
             ],
             "passed_time": 20.17130525,
             "remaining_time": 22.7463655,
             "test": [
              0.21565772
             ]
            },
            {
             "iteration": 47,
             "learn": [
              0.2215929189
             ],
             "passed_time": 20.53453038,
             "remaining_time": 22.24574125,
             "test": [
              0.2119980802
             ]
            },
            {
             "iteration": 48,
             "learn": [
              0.2183650274
             ],
             "passed_time": 20.93426908,
             "remaining_time": 21.78872904,
             "test": [
              0.2084141078
             ]
            },
            {
             "iteration": 49,
             "learn": [
              0.2147318618
             ],
             "passed_time": 21.34087479,
             "remaining_time": 21.34087479,
             "test": [
              0.2051868524
             ]
            },
            {
             "iteration": 50,
             "learn": [
              0.211708144
             ],
             "passed_time": 21.7981509,
             "remaining_time": 20.94332145,
             "test": [
              0.2019139655
             ]
            },
            {
             "iteration": 51,
             "learn": [
              0.2085321324
             ],
             "passed_time": 22.16090002,
             "remaining_time": 20.45621541,
             "test": [
              0.1988907971
             ]
            },
            {
             "iteration": 52,
             "learn": [
              0.2054504764
             ],
             "passed_time": 22.52615272,
             "remaining_time": 19.97602222,
             "test": [
              0.1956554001
             ]
            },
            {
             "iteration": 53,
             "learn": [
              0.2026252291
             ],
             "passed_time": 22.89143092,
             "remaining_time": 19.50010782,
             "test": [
              0.1927630478
             ]
            },
            {
             "iteration": 54,
             "learn": [
              0.1994780605
             ],
             "passed_time": 23.34136588,
             "remaining_time": 19.09748117,
             "test": [
              0.1899230483
             ]
            },
            {
             "iteration": 55,
             "learn": [
              0.196888316
             ],
             "passed_time": 23.71020861,
             "remaining_time": 18.62944962,
             "test": [
              0.1870788768
             ]
            },
            {
             "iteration": 56,
             "learn": [
              0.193995791
             ],
             "passed_time": 24.10659137,
             "remaining_time": 18.18567419,
             "test": [
              0.1842570171
             ]
            },
            {
             "iteration": 57,
             "learn": [
              0.1911998375
             ],
             "passed_time": 24.58097837,
             "remaining_time": 17.80001882,
             "test": [
              0.1815367294
             ]
            },
            {
             "iteration": 58,
             "learn": [
              0.1883178748
             ],
             "passed_time": 24.98441625,
             "remaining_time": 17.36205197,
             "test": [
              0.1786127952
             ]
            },
            {
             "iteration": 59,
             "learn": [
              0.1857586145
             ],
             "passed_time": 25.39103153,
             "remaining_time": 16.92735436,
             "test": [
              0.1760575201
             ]
            },
            {
             "iteration": 60,
             "learn": [
              0.1830785061
             ],
             "passed_time": 25.79705936,
             "remaining_time": 16.49320189,
             "test": [
              0.1731831759
             ]
            },
            {
             "iteration": 61,
             "learn": [
              0.180411019
             ],
             "passed_time": 26.19996837,
             "remaining_time": 16.05804513,
             "test": [
              0.1705935305
             ]
            },
            {
             "iteration": 62,
             "learn": [
              0.1779515691
             ],
             "passed_time": 26.59953772,
             "remaining_time": 15.62195072,
             "test": [
              0.1681168536
             ]
            },
            {
             "iteration": 63,
             "learn": [
              0.1759586866
             ],
             "passed_time": 26.92289344,
             "remaining_time": 15.14412756,
             "test": [
              0.1659766921
             ]
            },
            {
             "iteration": 64,
             "learn": [
              0.1735797853
             ],
             "passed_time": 27.31681216,
             "remaining_time": 14.7090527,
             "test": [
              0.1635774458
             ]
            },
            {
             "iteration": 65,
             "learn": [
              0.1715194279
             ],
             "passed_time": 27.73170037,
             "remaining_time": 14.28602746,
             "test": [
              0.1614371705
             ]
            },
            {
             "iteration": 66,
             "learn": [
              0.1697336159
             ],
             "passed_time": 28.11643993,
             "remaining_time": 13.84839579,
             "test": [
              0.1596075884
             ]
            },
            {
             "iteration": 67,
             "learn": [
              0.1676899965
             ],
             "passed_time": 28.56877921,
             "remaining_time": 13.44413139,
             "test": [
              0.157369436
             ]
            },
            {
             "iteration": 68,
             "learn": [
              0.1651073005
             ],
             "passed_time": 29.07399405,
             "remaining_time": 13.06222921,
             "test": [
              0.1550492549
             ]
            },
            {
             "iteration": 69,
             "learn": [
              0.1627207213
             ],
             "passed_time": 29.56645132,
             "remaining_time": 12.67133628,
             "test": [
              0.1529206687
             ]
            },
            {
             "iteration": 70,
             "learn": [
              0.1608813663
             ],
             "passed_time": 29.94692416,
             "remaining_time": 12.23184226,
             "test": [
              0.1512559606
             ]
            },
            {
             "iteration": 71,
             "learn": [
              0.1585715089
             ],
             "passed_time": 30.44278024,
             "remaining_time": 11.83885898,
             "test": [
              0.1492007888
             ]
            },
            {
             "iteration": 72,
             "learn": [
              0.1565853996
             ],
             "passed_time": 30.85620867,
             "remaining_time": 11.41257033,
             "test": [
              0.1473090294
             ]
            },
            {
             "iteration": 73,
             "learn": [
              0.1550127372
             ],
             "passed_time": 31.22148527,
             "remaining_time": 10.96971104,
             "test": [
              0.1455288822
             ]
            },
            {
             "iteration": 74,
             "learn": [
              0.1529217803
             ],
             "passed_time": 31.70285327,
             "remaining_time": 10.56761776,
             "test": [
              0.143663951
             ]
            },
            {
             "iteration": 75,
             "learn": [
              0.1508198237
             ],
             "passed_time": 32.18353898,
             "remaining_time": 10.16322284,
             "test": [
              0.1418022799
             ]
            },
            {
             "iteration": 76,
             "learn": [
              0.1493231835
             ],
             "passed_time": 32.56584927,
             "remaining_time": 9.72746147,
             "test": [
              0.1403244955
             ]
            },
            {
             "iteration": 77,
             "learn": [
              0.1472532774
             ],
             "passed_time": 33.02530134,
             "remaining_time": 9.314828584,
             "test": [
              0.1384148557
             ]
            },
            {
             "iteration": 78,
             "learn": [
              0.1454106527
             ],
             "passed_time": 33.51348406,
             "remaining_time": 8.908647661,
             "test": [
              0.1367213367
             ]
            },
            {
             "iteration": 79,
             "learn": [
              0.1434895259
             ],
             "passed_time": 33.97890426,
             "remaining_time": 8.494726065,
             "test": [
              0.1349950511
             ]
            },
            {
             "iteration": 80,
             "learn": [
              0.1417450176
             ],
             "passed_time": 34.46144636,
             "remaining_time": 8.083549146,
             "test": [
              0.1334014767
             ]
            },
            {
             "iteration": 81,
             "learn": [
              0.1399039963
             ],
             "passed_time": 34.92914877,
             "remaining_time": 7.667374121,
             "test": [
              0.1317781307
             ]
            },
            {
             "iteration": 82,
             "learn": [
              0.138492772
             ],
             "passed_time": 35.3535017,
             "remaining_time": 7.241078662,
             "test": [
              0.1303579156
             ]
            },
            {
             "iteration": 83,
             "learn": [
              0.1373464294
             ],
             "passed_time": 35.79179269,
             "remaining_time": 6.817484322,
             "test": [
              0.1291380838
             ]
            },
            {
             "iteration": 84,
             "learn": [
              0.136189579
             ],
             "passed_time": 36.136725,
             "remaining_time": 6.377069118,
             "test": [
              0.1278666614
             ]
            },
            {
             "iteration": 85,
             "learn": [
              0.1349281217
             ],
             "passed_time": 36.51983971,
             "remaining_time": 5.945090185,
             "test": [
              0.1267054356
             ]
            },
            {
             "iteration": 86,
             "learn": [
              0.1333661658
             ],
             "passed_time": 37.00197918,
             "remaining_time": 5.529031371,
             "test": [
              0.1253145071
             ]
            },
            {
             "iteration": 87,
             "learn": [
              0.131976642
             ],
             "passed_time": 37.39794653,
             "remaining_time": 5.099719981,
             "test": [
              0.1238922004
             ]
            },
            {
             "iteration": 88,
             "learn": [
              0.1307075264
             ],
             "passed_time": 37.85209246,
             "remaining_time": 4.678348506,
             "test": [
              0.1225084883
             ]
            },
            {
             "iteration": 89,
             "learn": [
              0.1294447335
             ],
             "passed_time": 38.26326258,
             "remaining_time": 4.251473619,
             "test": [
              0.1213645297
             ]
            },
            {
             "iteration": 90,
             "learn": [
              0.1279954607
             ],
             "passed_time": 38.76798383,
             "remaining_time": 3.834196203,
             "test": [
              0.1201493851
             ]
            },
            {
             "iteration": 91,
             "learn": [
              0.1268302719
             ],
             "passed_time": 39.39172752,
             "remaining_time": 3.42536761,
             "test": [
              0.1188327617
             ]
            },
            {
             "iteration": 92,
             "learn": [
              0.1256580319
             ],
             "passed_time": 40.02904414,
             "remaining_time": 3.012938806,
             "test": [
              0.1176391112
             ]
            },
            {
             "iteration": 93,
             "learn": [
              0.1244051297
             ],
             "passed_time": 40.42536629,
             "remaining_time": 2.580342529,
             "test": [
              0.1163014041
             ]
            },
            {
             "iteration": 94,
             "learn": [
              0.1233539007
             ],
             "passed_time": 40.81190211,
             "remaining_time": 2.147994848,
             "test": [
              0.1150887206
             ]
            },
            {
             "iteration": 95,
             "learn": [
              0.1222939776
             ],
             "passed_time": 41.24524228,
             "remaining_time": 1.718551762,
             "test": [
              0.1140535029
             ]
            },
            {
             "iteration": 96,
             "learn": [
              0.1212407397
             ],
             "passed_time": 41.69735178,
             "remaining_time": 1.289608818,
             "test": [
              0.1128730942
             ]
            },
            {
             "iteration": 97,
             "learn": [
              0.1199813028
             ],
             "passed_time": 42.08408508,
             "remaining_time": 0.8588588793,
             "test": [
              0.1114918814
             ]
            },
            {
             "iteration": 98,
             "learn": [
              0.1190164888
             ],
             "passed_time": 42.53702042,
             "remaining_time": 0.4296668729,
             "test": [
              0.1106868805
             ]
            },
            {
             "iteration": 99,
             "learn": [
              0.1180205555
             ],
             "passed_time": 42.94595559,
             "remaining_time": 0,
             "test": [
              0.1095955649
             ]
            }
           ],
           "meta": {
            "iteration_count": 100,
            "launch_mode": "Train",
            "learn_metrics": [
             {
              "best_value": "Min",
              "name": "CrossEntropy"
             }
            ],
            "learn_sets": [
             "learn"
            ],
            "name": "experiment",
            "parameters": "",
            "test_metrics": [
             {
              "best_value": "Min",
              "name": "CrossEntropy"
             }
            ],
            "test_sets": [
             "test"
            ]
           }
          },
          "passed_iterations": 99,
          "total_iterations": 100
         },
         "name": "catboost_info",
         "path": "catboost_info"
        }
       },
       "layout": "IPY_MODEL_845de07c79e44afa816fd94882530363"
      }
     },
     "2c4eb147d86349d5903cebab0439c527": {
      "model_module": "@jupyter-widgets/base",
      "model_module_version": "1.2.0",
      "model_name": "LayoutModel",
      "state": {
       "_model_module": "@jupyter-widgets/base",
       "_model_module_version": "1.2.0",
       "_model_name": "LayoutModel",
       "_view_count": null,
       "_view_module": "@jupyter-widgets/base",
       "_view_module_version": "1.2.0",
       "_view_name": "LayoutView",
       "align_content": null,
       "align_items": null,
       "align_self": "stretch",
       "border": null,
       "bottom": null,
       "display": null,
       "flex": null,
       "flex_flow": null,
       "grid_area": null,
       "grid_auto_columns": null,
       "grid_auto_flow": null,
       "grid_auto_rows": null,
       "grid_column": null,
       "grid_gap": null,
       "grid_row": null,
       "grid_template_areas": null,
       "grid_template_columns": null,
       "grid_template_rows": null,
       "height": "500px",
       "justify_content": null,
       "justify_items": null,
       "left": null,
       "margin": null,
       "max_height": null,
       "max_width": null,
       "min_height": null,
       "min_width": null,
       "object_fit": null,
       "object_position": null,
       "order": null,
       "overflow": null,
       "overflow_x": null,
       "overflow_y": null,
       "padding": null,
       "right": null,
       "top": null,
       "visibility": null,
       "width": null
      }
     },
     "2e4c5c72c7f644cebc265ae6ac9e8852": {
      "model_module": "@jupyter-widgets/base",
      "model_module_version": "1.2.0",
      "model_name": "LayoutModel",
      "state": {
       "_model_module": "@jupyter-widgets/base",
       "_model_module_version": "1.2.0",
       "_model_name": "LayoutModel",
       "_view_count": null,
       "_view_module": "@jupyter-widgets/base",
       "_view_module_version": "1.2.0",
       "_view_name": "LayoutView",
       "align_content": null,
       "align_items": null,
       "align_self": "stretch",
       "border": null,
       "bottom": null,
       "display": null,
       "flex": null,
       "flex_flow": null,
       "grid_area": null,
       "grid_auto_columns": null,
       "grid_auto_flow": null,
       "grid_auto_rows": null,
       "grid_column": null,
       "grid_gap": null,
       "grid_row": null,
       "grid_template_areas": null,
       "grid_template_columns": null,
       "grid_template_rows": null,
       "height": "500px",
       "justify_content": null,
       "justify_items": null,
       "left": null,
       "margin": null,
       "max_height": null,
       "max_width": null,
       "min_height": null,
       "min_width": null,
       "object_fit": null,
       "object_position": null,
       "order": null,
       "overflow": null,
       "overflow_x": null,
       "overflow_y": null,
       "padding": null,
       "right": null,
       "top": null,
       "visibility": null,
       "width": null
      }
     },
     "3726c59e56ae49168227e424b092badf": {
      "model_module": "catboost-widget",
      "model_module_version": "^1.0.0",
      "model_name": "CatboostWidgetModel",
      "state": {
       "_dom_classes": [],
       "_model_module": "catboost-widget",
       "_model_module_version": "^1.0.0",
       "_model_name": "CatboostWidgetModel",
       "_view_count": null,
       "_view_module": "catboost-widget",
       "_view_module_version": "^1.0.0",
       "_view_name": "CatboostWidgetView",
       "data": {
        "catboost_info": {
         "content": {
          "data": {
           "iterations": [
            {
             "iteration": 0,
             "learn": [
              0.6636911978
             ],
             "passed_time": 0.4616948711,
             "remaining_time": 45.70779224,
             "test": [
              0.6663095187
             ]
            },
            {
             "iteration": 1,
             "learn": [
              0.6411678889
             ],
             "passed_time": 0.9276548435,
             "remaining_time": 45.45508733,
             "test": [
              0.6412201205
             ]
            },
            {
             "iteration": 2,
             "learn": [
              0.6151359649
             ],
             "passed_time": 1.376574025,
             "remaining_time": 44.50922682,
             "test": [
              0.6174014215
             ]
            },
            {
             "iteration": 3,
             "learn": [
              0.5911402524
             ],
             "passed_time": 1.820571756,
             "remaining_time": 43.69372214,
             "test": [
              0.5950791003
             ]
            },
            {
             "iteration": 4,
             "learn": [
              0.5710347043
             ],
             "passed_time": 2.262413127,
             "remaining_time": 42.98584942,
             "test": [
              0.573801207
             ]
            },
            {
             "iteration": 5,
             "learn": [
              0.5491985446
             ],
             "passed_time": 2.712169148,
             "remaining_time": 42.49064999,
             "test": [
              0.55393589
             ]
            },
            {
             "iteration": 6,
             "learn": [
              0.5295904206
             ],
             "passed_time": 3.153653176,
             "remaining_time": 41.89853505,
             "test": [
              0.5348137276
             ]
            },
            {
             "iteration": 7,
             "learn": [
              0.5122893435
             ],
             "passed_time": 3.599744786,
             "remaining_time": 41.39706503,
             "test": [
              0.5167564787
             ]
            },
            {
             "iteration": 8,
             "learn": [
              0.4938604114
             ],
             "passed_time": 4.046978234,
             "remaining_time": 40.91944659,
             "test": [
              0.4992235189
             ]
            },
            {
             "iteration": 9,
             "learn": [
              0.4764413845
             ],
             "passed_time": 4.499556782,
             "remaining_time": 40.49601104,
             "test": [
              0.4828241908
             ]
            },
            {
             "iteration": 10,
             "learn": [
              0.4609640232
             ],
             "passed_time": 4.925634289,
             "remaining_time": 39.85285925,
             "test": [
              0.4672486199
             ]
            },
            {
             "iteration": 11,
             "learn": [
              0.445984163
             ],
             "passed_time": 5.354240442,
             "remaining_time": 39.26442991,
             "test": [
              0.4520151747
             ]
            },
            {
             "iteration": 12,
             "learn": [
              0.4311812381
             ],
             "passed_time": 5.800942255,
             "remaining_time": 38.82169047,
             "test": [
              0.437607173
             ]
            },
            {
             "iteration": 13,
             "learn": [
              0.4171955131
             ],
             "passed_time": 6.221822838,
             "remaining_time": 38.21976886,
             "test": [
              0.4240822243
             ]
            },
            {
             "iteration": 14,
             "learn": [
              0.4033615094
             ],
             "passed_time": 6.720195124,
             "remaining_time": 38.0811057,
             "test": [
              0.4112313003
             ]
            },
            {
             "iteration": 15,
             "learn": [
              0.3899666292
             ],
             "passed_time": 7.162223679,
             "remaining_time": 37.60167431,
             "test": [
              0.3986926444
             ]
            },
            {
             "iteration": 16,
             "learn": [
              0.3781749547
             ],
             "passed_time": 7.59031257,
             "remaining_time": 37.0585849,
             "test": [
              0.3869469264
             ]
            },
            {
             "iteration": 17,
             "learn": [
              0.3665796065
             ],
             "passed_time": 8.012132271,
             "remaining_time": 36.49971368,
             "test": [
              0.3756727134
             ]
            },
            {
             "iteration": 18,
             "learn": [
              0.3547297456
             ],
             "passed_time": 8.446362095,
             "remaining_time": 36.00817525,
             "test": [
              0.3645152767
             ]
            },
            {
             "iteration": 19,
             "learn": [
              0.3442308119
             ],
             "passed_time": 8.895036249,
             "remaining_time": 35.580145,
             "test": [
              0.3540076462
             ]
            },
            {
             "iteration": 20,
             "learn": [
              0.3339308921
             ],
             "passed_time": 9.335533794,
             "remaining_time": 35.11938903,
             "test": [
              0.3439437011
             ]
            },
            {
             "iteration": 21,
             "learn": [
              0.323892438
             ],
             "passed_time": 9.796217872,
             "remaining_time": 34.73204518,
             "test": [
              0.3341272755
             ]
            },
            {
             "iteration": 22,
             "learn": [
              0.3143797997
             ],
             "passed_time": 10.45347179,
             "remaining_time": 34.99640557,
             "test": [
              0.3248305429
             ]
            },
            {
             "iteration": 23,
             "learn": [
              0.3047913569
             ],
             "passed_time": 11.09548061,
             "remaining_time": 35.13568859,
             "test": [
              0.3152071606
             ]
            },
            {
             "iteration": 24,
             "learn": [
              0.295866297
             ],
             "passed_time": 11.56703086,
             "remaining_time": 34.70109258,
             "test": [
              0.3066122474
             ]
            },
            {
             "iteration": 25,
             "learn": [
              0.287120505
             ],
             "passed_time": 12.02561015,
             "remaining_time": 34.22673658,
             "test": [
              0.2979957773
             ]
            },
            {
             "iteration": 26,
             "learn": [
              0.2792042196
             ],
             "passed_time": 12.45371637,
             "remaining_time": 33.67115908,
             "test": [
              0.2902197823
             ]
            },
            {
             "iteration": 27,
             "learn": [
              0.271161316
             ],
             "passed_time": 12.91525983,
             "remaining_time": 33.21066814,
             "test": [
              0.2820422037
             ]
            },
            {
             "iteration": 28,
             "learn": [
              0.2637040909
             ],
             "passed_time": 13.32757522,
             "remaining_time": 32.62958071,
             "test": [
              0.2744582158
             ]
            },
            {
             "iteration": 29,
             "learn": [
              0.2565900896
             ],
             "passed_time": 13.75877348,
             "remaining_time": 32.10380479,
             "test": [
              0.2672414298
             ]
            },
            {
             "iteration": 30,
             "learn": [
              0.2497904317
             ],
             "passed_time": 14.17379708,
             "remaining_time": 31.54812899,
             "test": [
              0.2602777924
             ]
            },
            {
             "iteration": 31,
             "learn": [
              0.2428400129
             ],
             "passed_time": 14.64130435,
             "remaining_time": 31.11277174,
             "test": [
              0.2533918868
             ]
            },
            {
             "iteration": 32,
             "learn": [
              0.2358081445
             ],
             "passed_time": 15.09384353,
             "remaining_time": 30.64507625,
             "test": [
              0.2465486019
             ]
            },
            {
             "iteration": 33,
             "learn": [
              0.2297737254
             ],
             "passed_time": 15.51715328,
             "remaining_time": 30.12153283,
             "test": [
              0.2403736185
             ]
            },
            {
             "iteration": 34,
             "learn": [
              0.2235851377
             ],
             "passed_time": 15.97182857,
             "remaining_time": 29.66196735,
             "test": [
              0.2343403617
             ]
            },
            {
             "iteration": 35,
             "learn": [
              0.2174211364
             ],
             "passed_time": 16.4278443,
             "remaining_time": 29.20505653,
             "test": [
              0.2282939424
             ]
            },
            {
             "iteration": 36,
             "learn": [
              0.2116470966
             ],
             "passed_time": 16.86347192,
             "remaining_time": 28.71347921,
             "test": [
              0.2224431854
             ]
            },
            {
             "iteration": 37,
             "learn": [
              0.2063165158
             ],
             "passed_time": 17.28434684,
             "remaining_time": 28.20077642,
             "test": [
              0.2171478109
             ]
            },
            {
             "iteration": 38,
             "learn": [
              0.2009260591
             ],
             "passed_time": 17.78985767,
             "remaining_time": 27.82516199,
             "test": [
              0.2117540489
             ]
            },
            {
             "iteration": 39,
             "learn": [
              0.195561496
             ],
             "passed_time": 18.24138954,
             "remaining_time": 27.36208431,
             "test": [
              0.2067150512
             ]
            },
            {
             "iteration": 40,
             "learn": [
              0.1904900354
             ],
             "passed_time": 18.68911166,
             "remaining_time": 26.89408751,
             "test": [
              0.2015951942
             ]
            },
            {
             "iteration": 41,
             "learn": [
              0.1853908474
             ],
             "passed_time": 19.15056391,
             "remaining_time": 26.44601683,
             "test": [
              0.1964143199
             ]
            },
            {
             "iteration": 42,
             "learn": [
              0.1806365921
             ],
             "passed_time": 19.62160313,
             "remaining_time": 26.01003205,
             "test": [
              0.1917654287
             ]
            },
            {
             "iteration": 43,
             "learn": [
              0.1760338871
             ],
             "passed_time": 20.10092164,
             "remaining_time": 25.58299118,
             "test": [
              0.1870796596
             ]
            },
            {
             "iteration": 44,
             "learn": [
              0.1715889649
             ],
             "passed_time": 20.55080519,
             "remaining_time": 25.11765079,
             "test": [
              0.182611007
             ]
            },
            {
             "iteration": 45,
             "learn": [
              0.1667344966
             ],
             "passed_time": 21.02946795,
             "remaining_time": 24.68676672,
             "test": [
              0.1777982267
             ]
            },
            {
             "iteration": 46,
             "learn": [
              0.1626164489
             ],
             "passed_time": 21.48461146,
             "remaining_time": 24.22732781,
             "test": [
              0.1736071383
             ]
            },
            {
             "iteration": 47,
             "learn": [
              0.1586483646
             ],
             "passed_time": 21.94291446,
             "remaining_time": 23.77149066,
             "test": [
              0.1696103726
             ]
            },
            {
             "iteration": 48,
             "learn": [
              0.154783237
             ],
             "passed_time": 22.39697188,
             "remaining_time": 23.311134,
             "test": [
              0.1657514092
             ]
            },
            {
             "iteration": 49,
             "learn": [
              0.1505240219
             ],
             "passed_time": 22.87002013,
             "remaining_time": 22.87002013,
             "test": [
              0.1615111887
             ]
            },
            {
             "iteration": 50,
             "learn": [
              0.1464681539
             ],
             "passed_time": 23.34701616,
             "remaining_time": 22.4314469,
             "test": [
              0.1574438411
             ]
            },
            {
             "iteration": 51,
             "learn": [
              0.1425347883
             ],
             "passed_time": 23.82956017,
             "remaining_time": 21.99651708,
             "test": [
              0.1535305141
             ]
            },
            {
             "iteration": 52,
             "learn": [
              0.1388018357
             ],
             "passed_time": 24.31149431,
             "remaining_time": 21.55924967,
             "test": [
              0.1496414876
             ]
            },
            {
             "iteration": 53,
             "learn": [
              0.1352466095
             ],
             "passed_time": 24.79897183,
             "remaining_time": 21.12505007,
             "test": [
              0.1460359192
             ]
            },
            {
             "iteration": 54,
             "learn": [
              0.1316711376
             ],
             "passed_time": 25.25069622,
             "remaining_time": 20.65966054,
             "test": [
              0.1423815631
             ]
            },
            {
             "iteration": 55,
             "learn": [
              0.1283315104
             ],
             "passed_time": 25.70459309,
             "remaining_time": 20.196466,
             "test": [
              0.1389843842
             ]
            },
            {
             "iteration": 56,
             "learn": [
              0.1250084739
             ],
             "passed_time": 26.17942288,
             "remaining_time": 19.74938919,
             "test": [
              0.1356696171
             ]
            },
            {
             "iteration": 57,
             "learn": [
              0.1217686067
             ],
             "passed_time": 26.65862877,
             "remaining_time": 19.30452428,
             "test": [
              0.1324783956
             ]
            },
            {
             "iteration": 58,
             "learn": [
              0.118745871
             ],
             "passed_time": 27.10785616,
             "remaining_time": 18.83766276,
             "test": [
              0.1293623015
             ]
            },
            {
             "iteration": 59,
             "learn": [
              0.1156841193
             ],
             "passed_time": 27.5904855,
             "remaining_time": 18.393657,
             "test": [
              0.1262224885
             ]
            },
            {
             "iteration": 60,
             "learn": [
              0.1127958621
             ],
             "passed_time": 28.04818763,
             "remaining_time": 17.93244783,
             "test": [
              0.123264682
             ]
            },
            {
             "iteration": 61,
             "learn": [
              0.1102958719
             ],
             "passed_time": 28.54543261,
             "remaining_time": 17.49558773,
             "test": [
              0.1205622478
             ]
            },
            {
             "iteration": 62,
             "learn": [
              0.107541362
             ],
             "passed_time": 28.98907343,
             "remaining_time": 17.02532884,
             "test": [
              0.1178372496
             ]
            },
            {
             "iteration": 63,
             "learn": [
              0.1049762306
             ],
             "passed_time": 29.44236532,
             "remaining_time": 16.56133049,
             "test": [
              0.1151145356
             ]
            },
            {
             "iteration": 64,
             "learn": [
              0.1026941708
             ],
             "passed_time": 29.88968162,
             "remaining_time": 16.09444395,
             "test": [
              0.1127516677
             ]
            },
            {
             "iteration": 65,
             "learn": [
              0.1001389275
             ],
             "passed_time": 30.36543795,
             "remaining_time": 15.64280137,
             "test": [
              0.1101482533
             ]
            },
            {
             "iteration": 66,
             "learn": [
              0.09773720233
             ],
             "passed_time": 30.845336,
             "remaining_time": 15.19247893,
             "test": [
              0.1077237365
             ]
            },
            {
             "iteration": 67,
             "learn": [
              0.09539076183
             ],
             "passed_time": 31.30948115,
             "remaining_time": 14.73387348,
             "test": [
              0.1052914776
             ]
            },
            {
             "iteration": 68,
             "learn": [
              0.09339071863
             ],
             "passed_time": 31.76247356,
             "remaining_time": 14.27009682,
             "test": [
              0.1030394203
             ]
            },
            {
             "iteration": 69,
             "learn": [
              0.09119600246
             ],
             "passed_time": 32.21696242,
             "remaining_time": 13.80726961,
             "test": [
              0.1008132099
             ]
            },
            {
             "iteration": 70,
             "learn": [
              0.08926528484
             ],
             "passed_time": 32.69247632,
             "remaining_time": 13.35326498,
             "test": [
              0.09875135495
             ]
            },
            {
             "iteration": 71,
             "learn": [
              0.08710371691
             ],
             "passed_time": 33.16892714,
             "remaining_time": 12.89902722,
             "test": [
              0.09666370857
             ]
            },
            {
             "iteration": 72,
             "learn": [
              0.08506130501
             ],
             "passed_time": 33.63294522,
             "remaining_time": 12.43958248,
             "test": [
              0.09456057056
             ]
            },
            {
             "iteration": 73,
             "learn": [
              0.08324122741
             ],
             "passed_time": 34.08725927,
             "remaining_time": 11.97660461,
             "test": [
              0.09266571561
             ]
            },
            {
             "iteration": 74,
             "learn": [
              0.08155405779
             ],
             "passed_time": 34.54320461,
             "remaining_time": 11.51440154,
             "test": [
              0.09091240358
             ]
            },
            {
             "iteration": 75,
             "learn": [
              0.07970217936
             ],
             "passed_time": 35.02162968,
             "remaining_time": 11.059462,
             "test": [
              0.08910433543
             ]
            },
            {
             "iteration": 76,
             "learn": [
              0.0780251721
             ],
             "passed_time": 35.48397696,
             "remaining_time": 10.59911,
             "test": [
              0.0872973473
             ]
            },
            {
             "iteration": 77,
             "learn": [
              0.07650193578
             ],
             "passed_time": 35.93644759,
             "remaining_time": 10.13592112,
             "test": [
              0.08564891131
             ]
            },
            {
             "iteration": 78,
             "learn": [
              0.07477724344
             ],
             "passed_time": 36.41573489,
             "remaining_time": 9.68013206,
             "test": [
              0.08394700908
             ]
            },
            {
             "iteration": 79,
             "learn": [
              0.07312457401
             ],
             "passed_time": 36.87745041,
             "remaining_time": 9.219362604,
             "test": [
              0.08217894021
             ]
            },
            {
             "iteration": 80,
             "learn": [
              0.07163837133
             ],
             "passed_time": 37.28975421,
             "remaining_time": 8.746979383,
             "test": [
              0.08050272983
             ]
            },
            {
             "iteration": 81,
             "learn": [
              0.07036790227
             ],
             "passed_time": 37.71872489,
             "remaining_time": 8.279720098,
             "test": [
              0.07904611915
             ]
            },
            {
             "iteration": 82,
             "learn": [
              0.06878010089
             ],
             "passed_time": 38.19349945,
             "remaining_time": 7.822764948,
             "test": [
              0.07750633242
             ]
            },
            {
             "iteration": 83,
             "learn": [
              0.06737039533
             ],
             "passed_time": 38.64667687,
             "remaining_time": 7.361271785,
             "test": [
              0.0759559449
             ]
            },
            {
             "iteration": 84,
             "learn": [
              0.0661026994
             ],
             "passed_time": 39.07787631,
             "remaining_time": 6.89609582,
             "test": [
              0.07465027339
             ]
            },
            {
             "iteration": 85,
             "learn": [
              0.06467284188
             ],
             "passed_time": 39.60263394,
             "remaining_time": 6.446940409,
             "test": [
              0.07329397176
             ]
            },
            {
             "iteration": 86,
             "learn": [
              0.06332051372
             ],
             "passed_time": 40.04174481,
             "remaining_time": 5.983249224,
             "test": [
              0.07184101799
             ]
            },
            {
             "iteration": 87,
             "learn": [
              0.06215149413
             ],
             "passed_time": 40.47570439,
             "remaining_time": 5.519414235,
             "test": [
              0.07064054989
             ]
            },
            {
             "iteration": 88,
             "learn": [
              0.0608337672
             ],
             "passed_time": 40.97932688,
             "remaining_time": 5.064860625,
             "test": [
              0.06920276606
             ]
            },
            {
             "iteration": 89,
             "learn": [
              0.0597305764
             ],
             "passed_time": 41.34470766,
             "remaining_time": 4.593856406,
             "test": [
              0.0682030935
             ]
            },
            {
             "iteration": 90,
             "learn": [
              0.05854583792
             ],
             "passed_time": 41.90684489,
             "remaining_time": 4.144633012,
             "test": [
              0.06683052148
             ]
            },
            {
             "iteration": 91,
             "learn": [
              0.05738686634
             ],
             "passed_time": 42.53651841,
             "remaining_time": 3.698827688,
             "test": [
              0.0655884674
             ]
            },
            {
             "iteration": 92,
             "learn": [
              0.05628058232
             ],
             "passed_time": 43.10506329,
             "remaining_time": 3.24446713,
             "test": [
              0.06429344157
             ]
            },
            {
             "iteration": 93,
             "learn": [
              0.05519032515
             ],
             "passed_time": 43.53913481,
             "remaining_time": 2.779093711,
             "test": [
              0.063266221
             ]
            },
            {
             "iteration": 94,
             "learn": [
              0.05411750205
             ],
             "passed_time": 43.98413338,
             "remaining_time": 2.314954388,
             "test": [
              0.06213829844
             ]
            },
            {
             "iteration": 95,
             "learn": [
              0.05326259439
             ],
             "passed_time": 44.32030631,
             "remaining_time": 1.84667943,
             "test": [
              0.06129514946
             ]
            },
            {
             "iteration": 96,
             "learn": [
              0.05242782332
             ],
             "passed_time": 44.73341875,
             "remaining_time": 1.383507796,
             "test": [
              0.06027121465
             ]
            },
            {
             "iteration": 97,
             "learn": [
              0.05141680196
             ],
             "passed_time": 45.17478337,
             "remaining_time": 0.9219343545,
             "test": [
              0.05905877028
             ]
            },
            {
             "iteration": 98,
             "learn": [
              0.05056355788
             ],
             "passed_time": 45.56984875,
             "remaining_time": 0.4603015025,
             "test": [
              0.0581721144
             ]
            },
            {
             "iteration": 99,
             "learn": [
              0.04966131002
             ],
             "passed_time": 45.99500148,
             "remaining_time": 0,
             "test": [
              0.05728156056
             ]
            }
           ],
           "meta": {
            "iteration_count": 100,
            "launch_mode": "Train",
            "learn_metrics": [
             {
              "best_value": "Min",
              "name": "CrossEntropy"
             }
            ],
            "learn_sets": [
             "learn"
            ],
            "name": "experiment",
            "parameters": "",
            "test_metrics": [
             {
              "best_value": "Min",
              "name": "CrossEntropy"
             }
            ],
            "test_sets": [
             "test"
            ]
           }
          },
          "passed_iterations": 99,
          "total_iterations": 100
         },
         "name": "catboost_info",
         "path": "catboost_info"
        }
       },
       "layout": "IPY_MODEL_c18bd05675394787becd12ff85217c62"
      }
     },
     "3d6d937e824a47cf822b8ce25062ebdb": {
      "model_module": "@jupyter-widgets/base",
      "model_module_version": "1.2.0",
      "model_name": "LayoutModel",
      "state": {
       "_model_module": "@jupyter-widgets/base",
       "_model_module_version": "1.2.0",
       "_model_name": "LayoutModel",
       "_view_count": null,
       "_view_module": "@jupyter-widgets/base",
       "_view_module_version": "1.2.0",
       "_view_name": "LayoutView",
       "align_content": null,
       "align_items": null,
       "align_self": "stretch",
       "border": null,
       "bottom": null,
       "display": null,
       "flex": null,
       "flex_flow": null,
       "grid_area": null,
       "grid_auto_columns": null,
       "grid_auto_flow": null,
       "grid_auto_rows": null,
       "grid_column": null,
       "grid_gap": null,
       "grid_row": null,
       "grid_template_areas": null,
       "grid_template_columns": null,
       "grid_template_rows": null,
       "height": "500px",
       "justify_content": null,
       "justify_items": null,
       "left": null,
       "margin": null,
       "max_height": null,
       "max_width": null,
       "min_height": null,
       "min_width": null,
       "object_fit": null,
       "object_position": null,
       "order": null,
       "overflow": null,
       "overflow_x": null,
       "overflow_y": null,
       "padding": null,
       "right": null,
       "top": null,
       "visibility": null,
       "width": null
      }
     },
     "409e54a6b855465384637ed0c51f52c5": {
      "model_module": "catboost-widget",
      "model_module_version": "^1.0.0",
      "model_name": "CatboostWidgetModel",
      "state": {
       "_dom_classes": [],
       "_model_module": "catboost-widget",
       "_model_module_version": "^1.0.0",
       "_model_name": "CatboostWidgetModel",
       "_view_count": null,
       "_view_module": "catboost-widget",
       "_view_module_version": "^1.0.0",
       "_view_name": "CatboostWidgetView",
       "data": {
        "catboost_info": {
         "content": {
          "data": {
           "iterations": [
            {
             "iteration": 0,
             "learn": [
              0.6665379038
             ],
             "passed_time": 0.3650232903,
             "remaining_time": 36.13730574,
             "test": [
              0.668193605
             ]
            },
            {
             "iteration": 1,
             "learn": [
              0.644289096
             ],
             "passed_time": 0.7061212103,
             "remaining_time": 34.59993931,
             "test": [
              0.6446946178
             ]
            },
            {
             "iteration": 2,
             "learn": [
              0.6215664867
             ],
             "passed_time": 1.087507404,
             "remaining_time": 35.16273938,
             "test": [
              0.622537505
             ]
            },
            {
             "iteration": 3,
             "learn": [
              0.6012437846
             ],
             "passed_time": 1.429074442,
             "remaining_time": 34.2977866,
             "test": [
              0.6015234844
             ]
            },
            {
             "iteration": 4,
             "learn": [
              0.5807897778
             ],
             "passed_time": 1.796983037,
             "remaining_time": 34.1426777,
             "test": [
              0.5816304348
             ]
            },
            {
             "iteration": 5,
             "learn": [
              0.5618866943
             ],
             "passed_time": 2.182098221,
             "remaining_time": 34.18620546,
             "test": [
              0.5627663946
             ]
            },
            {
             "iteration": 6,
             "learn": [
              0.5446932851
             ],
             "passed_time": 2.525224568,
             "remaining_time": 33.54941211,
             "test": [
              0.5448139042
             ]
            },
            {
             "iteration": 7,
             "learn": [
              0.5273844249
             ],
             "passed_time": 2.906860611,
             "remaining_time": 33.42889703,
             "test": [
              0.5279354927
             ]
            },
            {
             "iteration": 8,
             "learn": [
              0.5110096217
             ],
             "passed_time": 3.244346075,
             "remaining_time": 32.80394364,
             "test": [
              0.5117785742
             ]
            },
            {
             "iteration": 9,
             "learn": [
              0.4957487588
             ],
             "passed_time": 3.591724489,
             "remaining_time": 32.3255204,
             "test": [
              0.4964106314
             ]
            },
            {
             "iteration": 10,
             "learn": [
              0.4805906457
             ],
             "passed_time": 3.933241107,
             "remaining_time": 31.82349623,
             "test": [
              0.4819662829
             ]
            },
            {
             "iteration": 11,
             "learn": [
              0.4667043908
             ],
             "passed_time": 4.27556175,
             "remaining_time": 31.3541195,
             "test": [
              0.4679785362
             ]
            },
            {
             "iteration": 12,
             "learn": [
              0.4533659931
             ],
             "passed_time": 4.622044065,
             "remaining_time": 30.93214105,
             "test": [
              0.4548154563
             ]
            },
            {
             "iteration": 13,
             "learn": [
              0.4409993177
             ],
             "passed_time": 4.994511002,
             "remaining_time": 30.68056758,
             "test": [
              0.4421311014
             ]
            },
            {
             "iteration": 14,
             "learn": [
              0.4288031539
             ],
             "passed_time": 5.380311337,
             "remaining_time": 30.48843091,
             "test": [
              0.4300263943
             ]
            },
            {
             "iteration": 15,
             "learn": [
              0.4172627852
             ],
             "passed_time": 5.759483046,
             "remaining_time": 30.23728599,
             "test": [
              0.4182887235
             ]
            },
            {
             "iteration": 16,
             "learn": [
              0.4056545443
             ],
             "passed_time": 6.14319486,
             "remaining_time": 29.99324549,
             "test": [
              0.4070197265
             ]
            },
            {
             "iteration": 17,
             "learn": [
              0.3953219775
             ],
             "passed_time": 6.497391891,
             "remaining_time": 29.59922973,
             "test": [
              0.3964615781
             ]
            },
            {
             "iteration": 18,
             "learn": [
              0.3849381622
             ],
             "passed_time": 6.850703009,
             "remaining_time": 29.20562862,
             "test": [
              0.3863220897
             ]
            },
            {
             "iteration": 19,
             "learn": [
              0.3752027213
             ],
             "passed_time": 7.208798755,
             "remaining_time": 28.83519502,
             "test": [
              0.3766424318
             ]
            },
            {
             "iteration": 20,
             "learn": [
              0.3659534391
             ],
             "passed_time": 7.525980524,
             "remaining_time": 28.31202197,
             "test": [
              0.3674657658
             ]
            },
            {
             "iteration": 21,
             "learn": [
              0.3568253888
             ],
             "passed_time": 7.85999231,
             "remaining_time": 27.86724546,
             "test": [
              0.3585873606
             ]
            },
            {
             "iteration": 22,
             "learn": [
              0.3481763802
             ],
             "passed_time": 8.266291491,
             "remaining_time": 27.6741063,
             "test": [
              0.350011536
             ]
            },
            {
             "iteration": 23,
             "learn": [
              0.3399763539
             ],
             "passed_time": 8.617142132,
             "remaining_time": 27.28761675,
             "test": [
              0.3417104831
             ]
            },
            {
             "iteration": 24,
             "learn": [
              0.3318790889
             ],
             "passed_time": 8.972382377,
             "remaining_time": 26.91714713,
             "test": [
              0.3336864622
             ]
            },
            {
             "iteration": 25,
             "learn": [
              0.3239773409
             ],
             "passed_time": 9.354964165,
             "remaining_time": 26.62566724,
             "test": [
              0.3259014194
             ]
            },
            {
             "iteration": 26,
             "learn": [
              0.3162645869
             ],
             "passed_time": 9.742448891,
             "remaining_time": 26.34069515,
             "test": [
              0.318589952
             ]
            },
            {
             "iteration": 27,
             "learn": [
              0.3094209002
             ],
             "passed_time": 10.03094772,
             "remaining_time": 25.79386557,
             "test": [
              0.3118684692
             ]
            },
            {
             "iteration": 28,
             "learn": [
              0.3025191199
             ],
             "passed_time": 10.39371869,
             "remaining_time": 25.44669059,
             "test": [
              0.3048787998
             ]
            },
            {
             "iteration": 29,
             "learn": [
              0.2959228294
             ],
             "passed_time": 10.72386753,
             "remaining_time": 25.02235756,
             "test": [
              0.2983417266
             ]
            },
            {
             "iteration": 30,
             "learn": [
              0.2895157352
             ],
             "passed_time": 11.0512717,
             "remaining_time": 24.59799184,
             "test": [
              0.2920320108
             ]
            },
            {
             "iteration": 31,
             "learn": [
              0.2833303795
             ],
             "passed_time": 11.40800302,
             "remaining_time": 24.24200642,
             "test": [
              0.2858032975
             ]
            },
            {
             "iteration": 32,
             "learn": [
              0.2774248491
             ],
             "passed_time": 11.82791756,
             "remaining_time": 24.01425686,
             "test": [
              0.2798602448
             ]
            },
            {
             "iteration": 33,
             "learn": [
              0.2716636156
             ],
             "passed_time": 12.16624389,
             "remaining_time": 23.61682638,
             "test": [
              0.2743176465
             ]
            },
            {
             "iteration": 34,
             "learn": [
              0.2658049219
             ],
             "passed_time": 12.53215327,
             "remaining_time": 23.27399894,
             "test": [
              0.2686364634
             ]
            },
            {
             "iteration": 35,
             "learn": [
              0.2604499167
             ],
             "passed_time": 12.88741395,
             "remaining_time": 22.91095813,
             "test": [
              0.2633666497
             ]
            },
            {
             "iteration": 36,
             "learn": [
              0.2551607954
             ],
             "passed_time": 13.29905359,
             "remaining_time": 22.64433449,
             "test": [
              0.258354415
             ]
            },
            {
             "iteration": 37,
             "learn": [
              0.250357822
             ],
             "passed_time": 13.64485045,
             "remaining_time": 22.26265074,
             "test": [
              0.2535942584
             ]
            },
            {
             "iteration": 38,
             "learn": [
              0.2450827757
             ],
             "passed_time": 14.04533687,
             "remaining_time": 21.96834741,
             "test": [
              0.2485594199
             ]
            },
            {
             "iteration": 39,
             "learn": [
              0.2405546857
             ],
             "passed_time": 14.382329,
             "remaining_time": 21.5734935,
             "test": [
              0.2441476691
             ]
            },
            {
             "iteration": 40,
             "learn": [
              0.2360460285
             ],
             "passed_time": 14.77774366,
             "remaining_time": 21.26553356,
             "test": [
              0.2398112944
             ]
            },
            {
             "iteration": 41,
             "learn": [
              0.2312499584
             ],
             "passed_time": 15.18070365,
             "remaining_time": 20.96382885,
             "test": [
              0.2353065366
             ]
            },
            {
             "iteration": 42,
             "learn": [
              0.2271505521
             ],
             "passed_time": 15.52905377,
             "remaining_time": 20.58502476,
             "test": [
              0.2315083846
             ]
            },
            {
             "iteration": 43,
             "learn": [
              0.2231396525
             ],
             "passed_time": 15.85710666,
             "remaining_time": 20.18177211,
             "test": [
              0.2274762851
             ]
            },
            {
             "iteration": 44,
             "learn": [
              0.2193614629
             ],
             "passed_time": 16.14769077,
             "remaining_time": 19.7360665,
             "test": [
              0.2239697603
             ]
            },
            {
             "iteration": 45,
             "learn": [
              0.215310948
             ],
             "passed_time": 16.54670287,
             "remaining_time": 19.42439033,
             "test": [
              0.2201489227
             ]
            },
            {
             "iteration": 46,
             "learn": [
              0.211320331
             ],
             "passed_time": 16.91637078,
             "remaining_time": 19.07590748,
             "test": [
              0.2161730348
             ]
            },
            {
             "iteration": 47,
             "learn": [
              0.2078339439
             ],
             "passed_time": 17.21143547,
             "remaining_time": 18.64572175,
             "test": [
              0.2128874171
             ]
            },
            {
             "iteration": 48,
             "learn": [
              0.2042081046
             ],
             "passed_time": 17.59824003,
             "remaining_time": 18.31653555,
             "test": [
              0.209462961
             ]
            },
            {
             "iteration": 49,
             "learn": [
              0.2010676126
             ],
             "passed_time": 17.89981379,
             "remaining_time": 17.89981379,
             "test": [
              0.2063921271
             ]
            },
            {
             "iteration": 50,
             "learn": [
              0.1971047222
             ],
             "passed_time": 18.29293602,
             "remaining_time": 17.57556598,
             "test": [
              0.2025968799
             ]
            },
            {
             "iteration": 51,
             "learn": [
              0.1938578575
             ],
             "passed_time": 18.63172025,
             "remaining_time": 17.198511,
             "test": [
              0.1995300404
             ]
            },
            {
             "iteration": 52,
             "learn": [
              0.1902825803
             ],
             "passed_time": 18.98036256,
             "remaining_time": 16.83164227,
             "test": [
              0.1961670523
             ]
            },
            {
             "iteration": 53,
             "learn": [
              0.1873609402
             ],
             "passed_time": 19.38640071,
             "remaining_time": 16.51434134,
             "test": [
              0.1932133805
             ]
            },
            {
             "iteration": 54,
             "learn": [
              0.1840522872
             ],
             "passed_time": 19.77848849,
             "remaining_time": 16.18239967,
             "test": [
              0.1899693885
             ]
            },
            {
             "iteration": 55,
             "learn": [
              0.181209807
             ],
             "passed_time": 20.12165568,
             "remaining_time": 15.80987232,
             "test": [
              0.1873114804
             ]
            },
            {
             "iteration": 56,
             "learn": [
              0.1784586601
             ],
             "passed_time": 20.46881022,
             "remaining_time": 15.44138314,
             "test": [
              0.1846442759
             ]
            },
            {
             "iteration": 57,
             "learn": [
              0.1755787153
             ],
             "passed_time": 20.85375676,
             "remaining_time": 15.10099628,
             "test": [
              0.1818791448
             ]
            },
            {
             "iteration": 58,
             "learn": [
              0.1730765758
             ],
             "passed_time": 21.3192701,
             "remaining_time": 14.815086,
             "test": [
              0.1793842274
             ]
            },
            {
             "iteration": 59,
             "learn": [
              0.1700382411
             ],
             "passed_time": 21.85630727,
             "remaining_time": 14.57087151,
             "test": [
              0.1765119893
             ]
            },
            {
             "iteration": 60,
             "learn": [
              0.1676590988
             ],
             "passed_time": 22.39448094,
             "remaining_time": 14.31778289,
             "test": [
              0.1741222221
             ]
            },
            {
             "iteration": 61,
             "learn": [
              0.1649906953
             ],
             "passed_time": 22.80678357,
             "remaining_time": 13.97835122,
             "test": [
              0.17140563
             ]
            },
            {
             "iteration": 62,
             "learn": [
              0.1620565038
             ],
             "passed_time": 23.21654545,
             "remaining_time": 13.63511399,
             "test": [
              0.1682796084
             ]
            },
            {
             "iteration": 63,
             "learn": [
              0.1597175071
             ],
             "passed_time": 23.60176434,
             "remaining_time": 13.27599244,
             "test": [
              0.1660545493
             ]
            },
            {
             "iteration": 64,
             "learn": [
              0.1569914338
             ],
             "passed_time": 24.01123145,
             "remaining_time": 12.92912463,
             "test": [
              0.1631085145
             ]
            },
            {
             "iteration": 65,
             "learn": [
              0.1550163996
             ],
             "passed_time": 24.31401877,
             "remaining_time": 12.52540361,
             "test": [
              0.1611106118
             ]
            },
            {
             "iteration": 66,
             "learn": [
              0.1527693319
             ],
             "passed_time": 24.68843895,
             "remaining_time": 12.15997739,
             "test": [
              0.1590162987
             ]
            },
            {
             "iteration": 67,
             "learn": [
              0.1503593127
             ],
             "passed_time": 25.06877652,
             "remaining_time": 11.7970713,
             "test": [
              0.1567545034
             ]
            },
            {
             "iteration": 68,
             "learn": [
              0.1484421816
             ],
             "passed_time": 25.44497769,
             "remaining_time": 11.43180157,
             "test": [
              0.1550213737
             ]
            },
            {
             "iteration": 69,
             "learn": [
              0.1466040928
             ],
             "passed_time": 25.78162644,
             "remaining_time": 11.04926847,
             "test": [
              0.1532878727
             ]
            },
            {
             "iteration": 70,
             "learn": [
              0.1446021135
             ],
             "passed_time": 26.15345314,
             "remaining_time": 10.68239635,
             "test": [
              0.1515039759
             ]
            },
            {
             "iteration": 71,
             "learn": [
              0.1425115467
             ],
             "passed_time": 26.53739254,
             "remaining_time": 10.3200971,
             "test": [
              0.1495334152
             ]
            },
            {
             "iteration": 72,
             "learn": [
              0.1405703567
             ],
             "passed_time": 26.89516825,
             "remaining_time": 9.947527983,
             "test": [
              0.1479134411
             ]
            },
            {
             "iteration": 73,
             "learn": [
              0.1388968027
             ],
             "passed_time": 27.2266891,
             "remaining_time": 9.566134007,
             "test": [
              0.1464250317
             ]
            },
            {
             "iteration": 74,
             "learn": [
              0.1371286535
             ],
             "passed_time": 27.60537593,
             "remaining_time": 9.201791975,
             "test": [
              0.1448179864
             ]
            },
            {
             "iteration": 75,
             "learn": [
              0.135181012
             ],
             "passed_time": 27.98960518,
             "remaining_time": 8.838822687,
             "test": [
              0.1429632729
             ]
            },
            {
             "iteration": 76,
             "learn": [
              0.1334050011
             ],
             "passed_time": 28.38222447,
             "remaining_time": 8.47780731,
             "test": [
              0.1410385549
             ]
            },
            {
             "iteration": 77,
             "learn": [
              0.1320507366
             ],
             "passed_time": 28.66811531,
             "remaining_time": 8.085878678,
             "test": [
              0.1398760119
             ]
            },
            {
             "iteration": 78,
             "learn": [
              0.1305378043
             ],
             "passed_time": 29.04748215,
             "remaining_time": 7.721482597,
             "test": [
              0.1385610284
             ]
            },
            {
             "iteration": 79,
             "learn": [
              0.1291556031
             ],
             "passed_time": 29.39883614,
             "remaining_time": 7.349709036,
             "test": [
              0.1371095715
             ]
            },
            {
             "iteration": 80,
             "learn": [
              0.1272549452
             ],
             "passed_time": 29.86767417,
             "remaining_time": 7.005997645,
             "test": [
              0.1352940251
             ]
            },
            {
             "iteration": 81,
             "learn": [
              0.1259242844
             ],
             "passed_time": 30.29714197,
             "remaining_time": 6.65059214,
             "test": [
              0.1340711602
             ]
            },
            {
             "iteration": 82,
             "learn": [
              0.1241758171
             ],
             "passed_time": 30.71512057,
             "remaining_time": 6.291048792,
             "test": [
              0.1321396388
             ]
            },
            {
             "iteration": 83,
             "learn": [
              0.1228833193
             ],
             "passed_time": 31.04894343,
             "remaining_time": 5.914084464,
             "test": [
              0.1309862793
             ]
            },
            {
             "iteration": 84,
             "learn": [
              0.1216028772
             ],
             "passed_time": 31.41810809,
             "remaining_time": 5.544372015,
             "test": [
              0.1296742973
             ]
            },
            {
             "iteration": 85,
             "learn": [
              0.1202224111
             ],
             "passed_time": 31.78918761,
             "remaining_time": 5.17498403,
             "test": [
              0.1284440522
             ]
            },
            {
             "iteration": 86,
             "learn": [
              0.1184881687
             ],
             "passed_time": 32.23757377,
             "remaining_time": 4.817108724,
             "test": [
              0.1267012676
             ]
            },
            {
             "iteration": 87,
             "learn": [
              0.1174902849
             ],
             "passed_time": 32.54327012,
             "remaining_time": 4.437718653,
             "test": [
              0.1257107322
             ]
            },
            {
             "iteration": 88,
             "learn": [
              0.1162667955
             ],
             "passed_time": 32.93244719,
             "remaining_time": 4.070302462,
             "test": [
              0.1245637898
             ]
            },
            {
             "iteration": 89,
             "learn": [
              0.1151017623
             ],
             "passed_time": 33.3186184,
             "remaining_time": 3.702068711,
             "test": [
              0.1235950761
             ]
            },
            {
             "iteration": 90,
             "learn": [
              0.1134308242
             ],
             "passed_time": 33.77604909,
             "remaining_time": 3.340488371,
             "test": [
              0.1219865162
             ]
            },
            {
             "iteration": 91,
             "learn": [
              0.1124090159
             ],
             "passed_time": 34.14306617,
             "remaining_time": 2.968962275,
             "test": [
              0.1210996065
             ]
            },
            {
             "iteration": 92,
             "learn": [
              0.1116910975
             ],
             "passed_time": 34.43348799,
             "remaining_time": 2.591767913,
             "test": [
              0.1204707012
             ]
            },
            {
             "iteration": 93,
             "learn": [
              0.1101776722
             ],
             "passed_time": 34.88176943,
             "remaining_time": 2.226495921,
             "test": [
              0.1189718094
             ]
            },
            {
             "iteration": 94,
             "learn": [
              0.1090413339
             ],
             "passed_time": 35.26865111,
             "remaining_time": 1.856244795,
             "test": [
              0.117915604
             ]
            },
            {
             "iteration": 95,
             "learn": [
              0.1078964464
             ],
             "passed_time": 35.7033101,
             "remaining_time": 1.487637921,
             "test": [
              0.1167874628
             ]
            },
            {
             "iteration": 96,
             "learn": [
              0.1069612169
             ],
             "passed_time": 36.0489225,
             "remaining_time": 1.114915129,
             "test": [
              0.1159366291
             ]
            },
            {
             "iteration": 97,
             "learn": [
              0.1059436991
             ],
             "passed_time": 36.42555121,
             "remaining_time": 0.7433785961,
             "test": [
              0.1150139792
             ]
            },
            {
             "iteration": 98,
             "learn": [
              0.1048166305
             ],
             "passed_time": 36.8025694,
             "remaining_time": 0.3717431253,
             "test": [
              0.1140187662
             ]
            },
            {
             "iteration": 99,
             "learn": [
              0.1039071404
             ],
             "passed_time": 37.1604478,
             "remaining_time": 0,
             "test": [
              0.1130397425
             ]
            }
           ],
           "meta": {
            "iteration_count": 100,
            "launch_mode": "Train",
            "learn_metrics": [
             {
              "best_value": "Min",
              "name": "CrossEntropy"
             }
            ],
            "learn_sets": [
             "learn"
            ],
            "name": "experiment",
            "parameters": "",
            "test_metrics": [
             {
              "best_value": "Min",
              "name": "CrossEntropy"
             }
            ],
            "test_sets": [
             "test"
            ]
           }
          },
          "passed_iterations": 99,
          "total_iterations": 100
         },
         "name": "catboost_info",
         "path": "catboost_info"
        }
       },
       "layout": "IPY_MODEL_90d1a53ec6724e13939e046daffcfce4"
      }
     },
     "425a9f842c4d49e49fbc47e4716cc8f5": {
      "model_module": "catboost-widget",
      "model_module_version": "^1.0.0",
      "model_name": "CatboostWidgetModel",
      "state": {
       "_dom_classes": [],
       "_model_module": "catboost-widget",
       "_model_module_version": "^1.0.0",
       "_model_name": "CatboostWidgetModel",
       "_view_count": null,
       "_view_module": "catboost-widget",
       "_view_module_version": "^1.0.0",
       "_view_name": "CatboostWidgetView",
       "data": {
        "catboost_info": {
         "content": {
          "data": {
           "iterations": [
            {
             "iteration": 0,
             "learn": [
              0.6613841255
             ],
             "passed_time": 0.4030928036,
             "remaining_time": 39.90618756,
             "test": [
              0.6636012777
             ]
            },
            {
             "iteration": 1,
             "learn": [
              0.6363144107
             ],
             "passed_time": 0.8538000614,
             "remaining_time": 41.83620301,
             "test": [
              0.6357773636
             ]
            },
            {
             "iteration": 2,
             "learn": [
              0.6093856847
             ],
             "passed_time": 1.242699169,
             "remaining_time": 40.18060646,
             "test": [
              0.6095266822
             ]
            },
            {
             "iteration": 3,
             "learn": [
              0.5837377923
             ],
             "passed_time": 1.617920163,
             "remaining_time": 38.83008391,
             "test": [
              0.5847219447
             ]
            },
            {
             "iteration": 4,
             "learn": [
              0.5622163754
             ],
             "passed_time": 2.103579497,
             "remaining_time": 39.96801044,
             "test": [
              0.5612490374
             ]
            },
            {
             "iteration": 5,
             "learn": [
              0.5377210886
             ],
             "passed_time": 2.563997279,
             "remaining_time": 40.1692907,
             "test": [
              0.5390052966
             ]
            },
            {
             "iteration": 6,
             "learn": [
              0.516906176
             ],
             "passed_time": 2.984388206,
             "remaining_time": 39.64972902,
             "test": [
              0.5179011555
             ]
            },
            {
             "iteration": 7,
             "learn": [
              0.4987213604
             ],
             "passed_time": 3.354594566,
             "remaining_time": 38.57783751,
             "test": [
              0.4978546633
             ]
            },
            {
             "iteration": 8,
             "learn": [
              0.4785601342
             ],
             "passed_time": 3.765992438,
             "remaining_time": 38.07836799,
             "test": [
              0.4787911984
             ]
            },
            {
             "iteration": 9,
             "learn": [
              0.4606106329
             ],
             "passed_time": 4.196537848,
             "remaining_time": 37.76884063,
             "test": [
              0.4606476769
             ]
            },
            {
             "iteration": 10,
             "learn": [
              0.4438766342
             ],
             "passed_time": 4.534540459,
             "remaining_time": 36.68855462,
             "test": [
              0.4433603601
             ]
            },
            {
             "iteration": 11,
             "learn": [
              0.4280881698
             ],
             "passed_time": 5.002767746,
             "remaining_time": 36.68696347,
             "test": [
              0.4268757789
             ]
            },
            {
             "iteration": 12,
             "learn": [
              0.4121962108
             ],
             "passed_time": 5.457510523,
             "remaining_time": 36.52333965,
             "test": [
              0.4111448095
             ]
            },
            {
             "iteration": 13,
             "learn": [
              0.3968307778
             ],
             "passed_time": 5.877693738,
             "remaining_time": 36.10583296,
             "test": [
              0.3961196868
             ]
            },
            {
             "iteration": 14,
             "learn": [
              0.3824637304
             ],
             "passed_time": 6.286060738,
             "remaining_time": 35.62101085,
             "test": [
              0.3817594766
             ]
            },
            {
             "iteration": 15,
             "learn": [
              0.3673917523
             ],
             "passed_time": 6.635753533,
             "remaining_time": 34.83770605,
             "test": [
              0.3680250412
             ]
            },
            {
             "iteration": 16,
             "learn": [
              0.3540046921
             ],
             "passed_time": 7.060410141,
             "remaining_time": 34.47141422,
             "test": [
              0.3548813608
             ]
            },
            {
             "iteration": 17,
             "learn": [
              0.3432299665
             ],
             "passed_time": 7.467204252,
             "remaining_time": 34.01726381,
             "test": [
              0.342294824
             ]
            },
            {
             "iteration": 18,
             "learn": [
              0.3301444238
             ],
             "passed_time": 7.914841741,
             "remaining_time": 33.74222005,
             "test": [
              0.330235589
             ]
            },
            {
             "iteration": 19,
             "learn": [
              0.3197393518
             ],
             "passed_time": 8.31358228,
             "remaining_time": 33.25432912,
             "test": [
              0.3186749769
             ]
            },
            {
             "iteration": 20,
             "learn": [
              0.3070561475
             ],
             "passed_time": 8.813971238,
             "remaining_time": 33.15732037,
             "test": [
              0.3075875024
             ]
            },
            {
             "iteration": 21,
             "learn": [
              0.2969454565
             ],
             "passed_time": 9.202339238,
             "remaining_time": 32.62647548,
             "test": [
              0.2969477522
             ]
            },
            {
             "iteration": 22,
             "learn": [
              0.2868802383
             ],
             "passed_time": 9.809522352,
             "remaining_time": 32.84057483,
             "test": [
              0.286733451
             ]
            },
            {
             "iteration": 23,
             "learn": [
              0.2765911618
             ],
             "passed_time": 10.3994332,
             "remaining_time": 32.93153848,
             "test": [
              0.2769224782
             ]
            },
            {
             "iteration": 24,
             "learn": [
              0.266570339
             ],
             "passed_time": 10.95045394,
             "remaining_time": 32.85136182,
             "test": [
              0.2674958241
             ]
            },
            {
             "iteration": 25,
             "learn": [
              0.2580569672
             ],
             "passed_time": 11.31595122,
             "remaining_time": 32.20693809,
             "test": [
              0.2584348544
             ]
            },
            {
             "iteration": 26,
             "learn": [
              0.250036549
             ],
             "passed_time": 11.74364203,
             "remaining_time": 31.75132846,
             "test": [
              0.2497228572
             ]
            },
            {
             "iteration": 27,
             "learn": [
              0.242051543
             ],
             "passed_time": 12.13495586,
             "remaining_time": 31.20417221,
             "test": [
              0.241342107
             ]
            },
            {
             "iteration": 28,
             "learn": [
              0.2337627211
             ],
             "passed_time": 12.56243655,
             "remaining_time": 30.75631017,
             "test": [
              0.2332782193
             ]
            },
            {
             "iteration": 29,
             "learn": [
              0.2259318679
             ],
             "passed_time": 13.00543233,
             "remaining_time": 30.34600878,
             "test": [
              0.225516968
             ]
            },
            {
             "iteration": 30,
             "learn": [
              0.2186112274
             ],
             "passed_time": 13.43817621,
             "remaining_time": 29.9107793,
             "test": [
              0.2180437155
             ]
            },
            {
             "iteration": 31,
             "learn": [
              0.2110191599
             ],
             "passed_time": 13.82420067,
             "remaining_time": 29.37642643,
             "test": [
              0.2108460173
             ]
            },
            {
             "iteration": 32,
             "learn": [
              0.2034521551
             ],
             "passed_time": 14.20983508,
             "remaining_time": 28.85027122,
             "test": [
              0.2039119395
             ]
            },
            {
             "iteration": 33,
             "learn": [
              0.1965962489
             ],
             "passed_time": 14.69623934,
             "remaining_time": 28.52799402,
             "test": [
              0.1972304883
             ]
            },
            {
             "iteration": 34,
             "learn": [
              0.1912712459
             ],
             "passed_time": 15.0866741,
             "remaining_time": 28.01810904,
             "test": [
              0.1907903784
             ]
            },
            {
             "iteration": 35,
             "learn": [
              0.1840361925
             ],
             "passed_time": 15.47676507,
             "remaining_time": 27.51424902,
             "test": [
              0.1845810186
             ]
            },
            {
             "iteration": 36,
             "learn": [
              0.1788629536
             ],
             "passed_time": 15.89566004,
             "remaining_time": 27.06558331,
             "test": [
              0.1785929281
             ]
            },
            {
             "iteration": 37,
             "learn": [
              0.172327943
             ],
             "passed_time": 16.35172016,
             "remaining_time": 26.67912236,
             "test": [
              0.1728173591
             ]
            },
            {
             "iteration": 38,
             "learn": [
              0.1677677979
             ],
             "passed_time": 16.78184091,
             "remaining_time": 26.2485204,
             "test": [
              0.1672461509
             ]
            },
            {
             "iteration": 39,
             "learn": [
              0.1615626816
             ],
             "passed_time": 17.12656281,
             "remaining_time": 25.68984421,
             "test": [
              0.1618685761
             ]
            },
            {
             "iteration": 40,
             "learn": [
              0.1564515638
             ],
             "passed_time": 17.56572596,
             "remaining_time": 25.27750809,
             "test": [
              0.156678215
             ]
            },
            {
             "iteration": 41,
             "learn": [
              0.1521263733
             ],
             "passed_time": 18.02032611,
             "remaining_time": 24.88521225,
             "test": [
              0.1516680727
             ]
            },
            {
             "iteration": 42,
             "learn": [
              0.1471313284
             ],
             "passed_time": 18.50345935,
             "remaining_time": 24.52784147,
             "test": [
              0.1468309274
             ]
            },
            {
             "iteration": 43,
             "learn": [
              0.1419991507
             ],
             "passed_time": 18.89872677,
             "remaining_time": 24.05292498,
             "test": [
              0.142159893
             ]
            },
            {
             "iteration": 44,
             "learn": [
              0.1372525901
             ],
             "passed_time": 19.34738851,
             "remaining_time": 23.64680818,
             "test": [
              0.1376487407
             ]
            },
            {
             "iteration": 45,
             "learn": [
              0.1330441834
             ],
             "passed_time": 19.79289488,
             "remaining_time": 23.23513746,
             "test": [
              0.1332902902
             ]
            },
            {
             "iteration": 46,
             "learn": [
              0.1290531655
             ],
             "passed_time": 20.11881007,
             "remaining_time": 22.6871688,
             "test": [
              0.1290789111
             ]
            },
            {
             "iteration": 47,
             "learn": [
              0.1251282631
             ],
             "passed_time": 20.52434804,
             "remaining_time": 22.23471038,
             "test": [
              0.1250098194
             ]
            },
            {
             "iteration": 48,
             "learn": [
              0.1212198216
             ],
             "passed_time": 20.9951591,
             "remaining_time": 21.85210437,
             "test": [
              0.1210774526
             ]
            },
            {
             "iteration": 49,
             "learn": [
              0.1173369057
             ],
             "passed_time": 21.4062043,
             "remaining_time": 21.4062043,
             "test": [
              0.1172758404
             ]
            },
            {
             "iteration": 50,
             "learn": [
              0.11347302
             ],
             "passed_time": 21.78814079,
             "remaining_time": 20.93370389,
             "test": [
              0.1136007683
             ]
            },
            {
             "iteration": 51,
             "learn": [
              0.1099067936
             ],
             "passed_time": 22.24241215,
             "remaining_time": 20.53145737,
             "test": [
              0.1100478639
             ]
            },
            {
             "iteration": 52,
             "learn": [
              0.1070457402
             ],
             "passed_time": 22.61671193,
             "remaining_time": 20.05632945,
             "test": [
              0.106612518
             ]
            },
            {
             "iteration": 53,
             "learn": [
              0.1035556094
             ],
             "passed_time": 23.0874438,
             "remaining_time": 19.66708176,
             "test": [
              0.1032899469
             ]
            },
            {
             "iteration": 54,
             "learn": [
              0.09988329899
             ],
             "passed_time": 23.51384326,
             "remaining_time": 19.23859903,
             "test": [
              0.100076686
             ]
            },
            {
             "iteration": 55,
             "learn": [
              0.09727965855
             ],
             "passed_time": 23.86651069,
             "remaining_time": 18.7522584,
             "test": [
              0.09696880866
             ]
            },
            {
             "iteration": 56,
             "learn": [
              0.0939249969
             ],
             "passed_time": 24.25099893,
             "remaining_time": 18.29461323,
             "test": [
              0.09396197235
             ]
            },
            {
             "iteration": 57,
             "learn": [
              0.09136505306
             ],
             "passed_time": 24.66564669,
             "remaining_time": 17.86133036,
             "test": [
              0.09105261105
             ]
            },
            {
             "iteration": 58,
             "learn": [
              0.08811208811
             ],
             "passed_time": 25.11764435,
             "remaining_time": 17.45463421,
             "test": [
              0.08823773376
             ]
            },
            {
             "iteration": 59,
             "learn": [
              0.08562871623
             ],
             "passed_time": 25.54648342,
             "remaining_time": 17.03098894,
             "test": [
              0.08551412669
             ]
            },
            {
             "iteration": 60,
             "learn": [
              0.08274897866
             ],
             "passed_time": 26.00298189,
             "remaining_time": 16.62485728,
             "test": [
              0.08287783476
             ]
            },
            {
             "iteration": 61,
             "learn": [
              0.08026802514
             ],
             "passed_time": 26.39690466,
             "remaining_time": 16.17874801,
             "test": [
              0.08032635796
             ]
            },
            {
             "iteration": 62,
             "learn": [
              0.07813058916
             ],
             "passed_time": 26.87994074,
             "remaining_time": 15.78663186,
             "test": [
              0.07785658065
             ]
            },
            {
             "iteration": 63,
             "learn": [
              0.0756605751
             ],
             "passed_time": 27.2737329,
             "remaining_time": 15.34147475,
             "test": [
              0.07546597491
             ]
            },
            {
             "iteration": 64,
             "learn": [
              0.0731287892
             ],
             "passed_time": 27.65338686,
             "remaining_time": 14.89028523,
             "test": [
              0.07315178167
             ]
            },
            {
             "iteration": 65,
             "learn": [
              0.0707271693
             ],
             "passed_time": 28.01206462,
             "remaining_time": 14.43045753,
             "test": [
              0.07091094145
             ]
            },
            {
             "iteration": 66,
             "learn": [
              0.068635495
             ],
             "passed_time": 28.35026808,
             "remaining_time": 13.96356487,
             "test": [
              0.06874119459
             ]
            },
            {
             "iteration": 67,
             "learn": [
              0.06661156751
             ],
             "passed_time": 28.72651885,
             "remaining_time": 13.51836181,
             "test": [
              0.06664043302
             ]
            },
            {
             "iteration": 68,
             "learn": [
              0.06464106669
             ],
             "passed_time": 29.10722887,
             "remaining_time": 13.0771608,
             "test": [
              0.06460430424
             ]
            },
            {
             "iteration": 69,
             "learn": [
              0.06268789073
             ],
             "passed_time": 29.4799523,
             "remaining_time": 12.63426527,
             "test": [
              0.06263411751
             ]
            },
            {
             "iteration": 70,
             "learn": [
              0.06074405569
             ],
             "passed_time": 29.84222091,
             "remaining_time": 12.18907615,
             "test": [
              0.06072592212
             ]
            },
            {
             "iteration": 71,
             "learn": [
              0.05883466989
             ],
             "passed_time": 30.19647098,
             "remaining_time": 11.74307205,
             "test": [
              0.05887780025
             ]
            },
            {
             "iteration": 72,
             "learn": [
              0.0570295138
             ],
             "passed_time": 30.68145886,
             "remaining_time": 11.34793684,
             "test": [
              0.05708787917
             ]
            },
            {
             "iteration": 73,
             "learn": [
              0.05560411667
             ],
             "passed_time": 31.09592465,
             "remaining_time": 10.92559515,
             "test": [
              0.05535347558
             ]
            },
            {
             "iteration": 74,
             "learn": [
              0.05385581332
             ],
             "passed_time": 31.53093034,
             "remaining_time": 10.51031011,
             "test": [
              0.05367372946
             ]
            },
            {
             "iteration": 75,
             "learn": [
              0.05201269105
             ],
             "passed_time": 31.93986519,
             "remaining_time": 10.08627322,
             "test": [
              0.05204638276
             ]
            },
            {
             "iteration": 76,
             "learn": [
              0.05071206265
             ],
             "passed_time": 32.37678747,
             "remaining_time": 9.670988465,
             "test": [
              0.05046971725
             ]
            },
            {
             "iteration": 77,
             "learn": [
              0.04902769904
             ],
             "passed_time": 32.79120048,
             "remaining_time": 9.248800136,
             "test": [
              0.04894151309
             ]
            },
            {
             "iteration": 78,
             "learn": [
              0.04742716014
             ],
             "passed_time": 33.16451919,
             "remaining_time": 8.815884849,
             "test": [
              0.04746137462
             ]
            },
            {
             "iteration": 79,
             "learn": [
              0.04610483319
             ],
             "passed_time": 33.53409358,
             "remaining_time": 8.383523394,
             "test": [
              0.046027051
             ]
            },
            {
             "iteration": 80,
             "learn": [
              0.04483912069
             ],
             "passed_time": 33.88276905,
             "remaining_time": 7.947810023,
             "test": [
              0.0446371814
             ]
            },
            {
             "iteration": 81,
             "learn": [
              0.04326477118
             ],
             "passed_time": 34.30828755,
             "remaining_time": 7.531087511,
             "test": [
              0.04329070694
             ]
            },
            {
             "iteration": 82,
             "learn": [
              0.04215507061
             ],
             "passed_time": 34.67691055,
             "remaining_time": 7.102499752,
             "test": [
              0.04198547587
             ]
            },
            {
             "iteration": 83,
             "learn": [
              0.04091163356
             ],
             "passed_time": 35.05314625,
             "remaining_time": 6.676789761,
             "test": [
              0.04072034604
             ]
            },
            {
             "iteration": 84,
             "learn": [
              0.03955480033
             ],
             "passed_time": 35.46843415,
             "remaining_time": 6.259135438,
             "test": [
              0.03949452523
             ]
            },
            {
             "iteration": 85,
             "learn": [
              0.03833451182
             ],
             "passed_time": 35.83153199,
             "remaining_time": 5.833040092,
             "test": [
              0.03830597605
             ]
            },
            {
             "iteration": 86,
             "learn": [
              0.03730910507
             ],
             "passed_time": 36.29742945,
             "remaining_time": 5.423753826,
             "test": [
              0.0371541342
             ]
            },
            {
             "iteration": 87,
             "learn": [
              0.03625877487
             ],
             "passed_time": 36.68372676,
             "remaining_time": 5.002326377,
             "test": [
              0.03603780756
             ]
            },
            {
             "iteration": 88,
             "learn": [
              0.03507595508
             ],
             "passed_time": 37.11564899,
             "remaining_time": 4.587327404,
             "test": [
              0.03495580969
             ]
            },
            {
             "iteration": 89,
             "learn": [
              0.03403790066
             ],
             "passed_time": 37.60037391,
             "remaining_time": 4.177819324,
             "test": [
              0.03390640419
             ]
            },
            {
             "iteration": 90,
             "learn": [
              0.03303140249
             ],
             "passed_time": 38.00424174,
             "remaining_time": 3.758661271,
             "test": [
              0.03288945286
             ]
            },
            {
             "iteration": 91,
             "learn": [
              0.03204160653
             ],
             "passed_time": 38.52921334,
             "remaining_time": 3.350366377,
             "test": [
              0.03190421211
             ]
            },
            {
             "iteration": 92,
             "learn": [
              0.03106597714
             ],
             "passed_time": 38.95289117,
             "remaining_time": 2.931938045,
             "test": [
              0.03094867819
             ]
            },
            {
             "iteration": 93,
             "learn": [
              0.03012940248
             ],
             "passed_time": 39.31978451,
             "remaining_time": 2.50977348,
             "test": [
              0.03002204308
             ]
            },
            {
             "iteration": 94,
             "learn": [
              0.02916985107
             ],
             "passed_time": 39.58831031,
             "remaining_time": 2.08359528,
             "test": [
              0.02912164039
             ]
            },
            {
             "iteration": 95,
             "learn": [
              0.02842641767
             ],
             "passed_time": 40.03701733,
             "remaining_time": 1.668209055,
             "test": [
              0.02825078398
             ]
            },
            {
             "iteration": 96,
             "learn": [
              0.02754172466
             ],
             "passed_time": 40.4413684,
             "remaining_time": 1.250763971,
             "test": [
              0.02740637796
             ]
            },
            {
             "iteration": 97,
             "learn": [
              0.02663728952
             ],
             "passed_time": 40.89037944,
             "remaining_time": 0.8344975397,
             "test": [
              0.02658734363
             ]
            },
            {
             "iteration": 98,
             "learn": [
              0.02597025466
             ],
             "passed_time": 41.42757463,
             "remaining_time": 0.4184603498,
             "test": [
              0.02579302524
             ]
            },
            {
             "iteration": 99,
             "learn": [
              0.02511710727
             ],
             "passed_time": 42.06699496,
             "remaining_time": 0,
             "test": [
              0.02502306667
             ]
            }
           ],
           "meta": {
            "iteration_count": 100,
            "launch_mode": "Train",
            "learn_metrics": [
             {
              "best_value": "Min",
              "name": "CrossEntropy"
             }
            ],
            "learn_sets": [
             "learn"
            ],
            "name": "experiment",
            "parameters": "",
            "test_metrics": [
             {
              "best_value": "Min",
              "name": "CrossEntropy"
             }
            ],
            "test_sets": [
             "test"
            ]
           }
          },
          "passed_iterations": 99,
          "total_iterations": 100
         },
         "name": "catboost_info",
         "path": "catboost_info"
        }
       },
       "layout": "IPY_MODEL_ac65776eaef6437ebe4b480c9da6efeb"
      }
     },
     "4837eec02c464974a7003d1e66bf7653": {
      "model_module": "catboost-widget",
      "model_module_version": "^1.0.0",
      "model_name": "CatboostWidgetModel",
      "state": {
       "_dom_classes": [],
       "_model_module": "catboost-widget",
       "_model_module_version": "^1.0.0",
       "_model_name": "CatboostWidgetModel",
       "_view_count": null,
       "_view_module": "catboost-widget",
       "_view_module_version": "^1.0.0",
       "_view_name": "CatboostWidgetView",
       "data": {
        "catboost_info": {
         "content": {
          "data": {
           "iterations": [
            {
             "iteration": 0,
             "learn": [
              0.6660001267
             ],
             "passed_time": 0.4858390553,
             "remaining_time": 48.09806648,
             "test": [
              0.667389221
             ]
            },
            {
             "iteration": 1,
             "learn": [
              0.6438175727
             ],
             "passed_time": 0.964145277,
             "remaining_time": 47.24311857,
             "test": [
              0.6433148014
             ]
            },
            {
             "iteration": 2,
             "learn": [
              0.6198162972
             ],
             "passed_time": 1.430493195,
             "remaining_time": 46.25261331,
             "test": [
              0.620621309
             ]
            },
            {
             "iteration": 3,
             "learn": [
              0.5974659185
             ],
             "passed_time": 1.900394967,
             "remaining_time": 45.6094792,
             "test": [
              0.5990295143
             ]
            },
            {
             "iteration": 4,
             "learn": [
              0.5781892409
             ],
             "passed_time": 2.372222299,
             "remaining_time": 45.07222368,
             "test": [
              0.578635871
             ]
            },
            {
             "iteration": 5,
             "learn": [
              0.5583792782
             ],
             "passed_time": 2.844186047,
             "remaining_time": 44.55891473,
             "test": [
              0.5593345906
             ]
            },
            {
             "iteration": 6,
             "learn": [
              0.5397227153
             ],
             "passed_time": 3.316572517,
             "remaining_time": 44.06303487,
             "test": [
              0.5412302878
             ]
            },
            {
             "iteration": 7,
             "learn": [
              0.5227593897
             ],
             "passed_time": 3.794803613,
             "remaining_time": 43.64024155,
             "test": [
              0.5239436722
             ]
            },
            {
             "iteration": 8,
             "learn": [
              0.505769025
             ],
             "passed_time": 4.264421976,
             "remaining_time": 43.11804443,
             "test": [
              0.5069861182
             ]
            },
            {
             "iteration": 9,
             "learn": [
              0.4896682479
             ],
             "passed_time": 4.734134532,
             "remaining_time": 42.60721079,
             "test": [
              0.4908818355
             ]
            },
            {
             "iteration": 10,
             "learn": [
              0.4751617585
             ],
             "passed_time": 5.207555983,
             "remaining_time": 42.13386204,
             "test": [
              0.4756839354
             ]
            },
            {
             "iteration": 11,
             "learn": [
              0.4602408862
             ],
             "passed_time": 5.701802284,
             "remaining_time": 41.81321675,
             "test": [
              0.4607099219
             ]
            },
            {
             "iteration": 12,
             "learn": [
              0.4463932345
             ],
             "passed_time": 6.172395613,
             "remaining_time": 41.30757064,
             "test": [
              0.4466869154
             ]
            },
            {
             "iteration": 13,
             "learn": [
              0.4328452832
             ],
             "passed_time": 6.640538389,
             "remaining_time": 40.79187868,
             "test": [
              0.4329990523
             ]
            },
            {
             "iteration": 14,
             "learn": [
              0.4201526851
             ],
             "passed_time": 7.124248491,
             "remaining_time": 40.37074145,
             "test": [
              0.420261421
             ]
            },
            {
             "iteration": 15,
             "learn": [
              0.4073222395
             ],
             "passed_time": 7.617566468,
             "remaining_time": 39.99222396,
             "test": [
              0.4080012961
             ]
            },
            {
             "iteration": 16,
             "learn": [
              0.3955520714
             ],
             "passed_time": 8.138213085,
             "remaining_time": 39.73362859,
             "test": [
              0.3960551272
             ]
            },
            {
             "iteration": 17,
             "learn": [
              0.3850492672
             ],
             "passed_time": 8.614493473,
             "remaining_time": 39.2438036,
             "test": [
              0.3848421215
             ]
            },
            {
             "iteration": 18,
             "learn": [
              0.3733694084
             ],
             "passed_time": 9.097355982,
             "remaining_time": 38.78346498,
             "test": [
              0.3740861087
             ]
            },
            {
             "iteration": 19,
             "learn": [
              0.3638448017
             ],
             "passed_time": 9.527180126,
             "remaining_time": 38.1087205,
             "test": [
              0.3636192265
             ]
            },
            {
             "iteration": 20,
             "learn": [
              0.3531247532
             ],
             "passed_time": 10.00253503,
             "remaining_time": 37.62858418,
             "test": [
              0.3534206758
             ]
            },
            {
             "iteration": 21,
             "learn": [
              0.3438917624
             ],
             "passed_time": 10.49625364,
             "remaining_time": 37.21399016,
             "test": [
              0.3438715739
             ]
            },
            {
             "iteration": 22,
             "learn": [
              0.3345930723
             ],
             "passed_time": 11.00271171,
             "remaining_time": 36.83516529,
             "test": [
              0.3342168051
             ]
            },
            {
             "iteration": 23,
             "learn": [
              0.325391653
             ],
             "passed_time": 11.48819222,
             "remaining_time": 36.37927537,
             "test": [
              0.3252443345
             ]
            },
            {
             "iteration": 24,
             "learn": [
              0.3165052965
             ],
             "passed_time": 11.9362101,
             "remaining_time": 35.80863031,
             "test": [
              0.3166585289
             ]
            },
            {
             "iteration": 25,
             "learn": [
              0.3087098074
             ],
             "passed_time": 12.37298178,
             "remaining_time": 35.21540969,
             "test": [
              0.3089955242
             ]
            },
            {
             "iteration": 26,
             "learn": [
              0.3013224781
             ],
             "passed_time": 12.81940482,
             "remaining_time": 34.65987228,
             "test": [
              0.3010241944
             ]
            },
            {
             "iteration": 27,
             "learn": [
              0.2939013214
             ],
             "passed_time": 13.29562036,
             "remaining_time": 34.18873807,
             "test": [
              0.2933496304
             ]
            },
            {
             "iteration": 28,
             "learn": [
              0.2867991872
             ],
             "passed_time": 13.77328176,
             "remaining_time": 33.72079329,
             "test": [
              0.2862770156
             ]
            },
            {
             "iteration": 29,
             "learn": [
              0.2795521755
             ],
             "passed_time": 14.25033019,
             "remaining_time": 33.25077045,
             "test": [
              0.2790019527
             ]
            },
            {
             "iteration": 30,
             "learn": [
              0.2723199655
             ],
             "passed_time": 14.7222518,
             "remaining_time": 32.76888305,
             "test": [
              0.2719923424
             ]
            },
            {
             "iteration": 31,
             "learn": [
              0.2653547018
             ],
             "passed_time": 15.18897295,
             "remaining_time": 32.27656752,
             "test": [
              0.2652892959
             ]
            },
            {
             "iteration": 32,
             "learn": [
              0.258975497
             ],
             "passed_time": 15.81371691,
             "remaining_time": 32.10663736,
             "test": [
              0.258754789
             ]
            },
            {
             "iteration": 33,
             "learn": [
              0.2530107279
             ],
             "passed_time": 16.47922893,
             "remaining_time": 31.98909145,
             "test": [
              0.2525853985
             ]
            },
            {
             "iteration": 34,
             "learn": [
              0.2467675312
             ],
             "passed_time": 17.07268271,
             "remaining_time": 31.70641075,
             "test": [
              0.2464499818
             ]
            },
            {
             "iteration": 35,
             "learn": [
              0.2412282229
             ],
             "passed_time": 17.55168615,
             "remaining_time": 31.20299761,
             "test": [
              0.2405763742
             ]
            },
            {
             "iteration": 36,
             "learn": [
              0.2356167338
             ],
             "passed_time": 18.01909839,
             "remaining_time": 30.68116753,
             "test": [
              0.2349618824
             ]
            },
            {
             "iteration": 37,
             "learn": [
              0.2302518724
             ],
             "passed_time": 18.45753726,
             "remaining_time": 30.11492921,
             "test": [
              0.22981915
             ]
            },
            {
             "iteration": 38,
             "learn": [
              0.2251620307
             ],
             "passed_time": 18.87914412,
             "remaining_time": 29.52891772,
             "test": [
              0.2247578084
             ]
            },
            {
             "iteration": 39,
             "learn": [
              0.2201833433
             ],
             "passed_time": 19.41240109,
             "remaining_time": 29.11860164,
             "test": [
              0.2195429814
             ]
            },
            {
             "iteration": 40,
             "learn": [
              0.2149810833
             ],
             "passed_time": 19.87120894,
             "remaining_time": 28.59515433,
             "test": [
              0.2146125382
             ]
            },
            {
             "iteration": 41,
             "learn": [
              0.2105428881
             ],
             "passed_time": 20.32341928,
             "remaining_time": 28.06567424,
             "test": [
              0.210197662
             ]
            },
            {
             "iteration": 42,
             "learn": [
              0.2056856762
             ],
             "passed_time": 20.79641233,
             "remaining_time": 27.56733728,
             "test": [
              0.2054236523
             ]
            },
            {
             "iteration": 43,
             "learn": [
              0.201086824
             ],
             "passed_time": 21.23762299,
             "remaining_time": 27.02970199,
             "test": [
              0.2008039766
             ]
            },
            {
             "iteration": 44,
             "learn": [
              0.1965388282
             ],
             "passed_time": 21.70924433,
             "remaining_time": 26.53352085,
             "test": [
              0.196179273
             ]
            },
            {
             "iteration": 45,
             "learn": [
              0.192044906
             ],
             "passed_time": 22.18186502,
             "remaining_time": 26.03958068,
             "test": [
              0.1918752493
             ]
            },
            {
             "iteration": 46,
             "learn": [
              0.187936002
             ],
             "passed_time": 22.65521224,
             "remaining_time": 25.54736699,
             "test": [
              0.1878304332
             ]
            },
            {
             "iteration": 47,
             "learn": [
              0.1838773741
             ],
             "passed_time": 23.11694383,
             "remaining_time": 25.04335582,
             "test": [
              0.1837776759
             ]
            },
            {
             "iteration": 48,
             "learn": [
              0.1800895258
             ],
             "passed_time": 23.5788747,
             "remaining_time": 24.54127775,
             "test": [
              0.1800520325
             ]
            },
            {
             "iteration": 49,
             "learn": [
              0.1763956911
             ],
             "passed_time": 24.0436127,
             "remaining_time": 24.0436127,
             "test": [
              0.1764753397
             ]
            },
            {
             "iteration": 50,
             "learn": [
              0.1729532177
             ],
             "passed_time": 24.4863511,
             "remaining_time": 23.52610203,
             "test": [
              0.1730112668
             ]
            },
            {
             "iteration": 51,
             "learn": [
              0.1694409887
             ],
             "passed_time": 24.93726705,
             "remaining_time": 23.01901574,
             "test": [
              0.1694486506
             ]
            },
            {
             "iteration": 52,
             "learn": [
              0.1662804582
             ],
             "passed_time": 25.37348687,
             "remaining_time": 22.50101666,
             "test": [
              0.1661773688
             ]
            },
            {
             "iteration": 53,
             "learn": [
              0.1630151636
             ],
             "passed_time": 25.85473882,
             "remaining_time": 22.02440715,
             "test": [
              0.1630361816
             ]
            },
            {
             "iteration": 54,
             "learn": [
              0.1598645116
             ],
             "passed_time": 26.3315542,
             "remaining_time": 21.54399889,
             "test": [
              0.1598114982
             ]
            },
            {
             "iteration": 55,
             "learn": [
              0.1568886293
             ],
             "passed_time": 26.80639275,
             "remaining_time": 21.06216573,
             "test": [
              0.1568869891
             ]
            },
            {
             "iteration": 56,
             "learn": [
              0.1538833638
             ],
             "passed_time": 27.25552954,
             "remaining_time": 20.56118895,
             "test": [
              0.1538397612
             ]
            },
            {
             "iteration": 57,
             "learn": [
              0.1510349848
             ],
             "passed_time": 27.72001863,
             "remaining_time": 20.07311694,
             "test": [
              0.1511105161
             ]
            },
            {
             "iteration": 58,
             "learn": [
              0.1483689575
             ],
             "passed_time": 28.15277984,
             "remaining_time": 19.56379616,
             "test": [
              0.1483138713
             ]
            },
            {
             "iteration": 59,
             "learn": [
              0.1456255838
             ],
             "passed_time": 28.59599327,
             "remaining_time": 19.06399551,
             "test": [
              0.1456248876
             ]
            },
            {
             "iteration": 60,
             "learn": [
              0.1430553898
             ],
             "passed_time": 29.06645767,
             "remaining_time": 18.58347294,
             "test": [
              0.1430577453
             ]
            },
            {
             "iteration": 61,
             "learn": [
              0.1406033185
             ],
             "passed_time": 29.54060863,
             "remaining_time": 18.10553432,
             "test": [
              0.1405635682
             ]
            },
            {
             "iteration": 62,
             "learn": [
              0.1380778743
             ],
             "passed_time": 29.98861573,
             "remaining_time": 17.61236162,
             "test": [
              0.1380652287
             ]
            },
            {
             "iteration": 63,
             "learn": [
              0.1356867474
             ],
             "passed_time": 30.54911594,
             "remaining_time": 17.18387772,
             "test": [
              0.1357132772
             ]
            },
            {
             "iteration": 64,
             "learn": [
              0.1332139124
             ],
             "passed_time": 31.00500446,
             "remaining_time": 16.6950024,
             "test": [
              0.1331993384
             ]
            },
            {
             "iteration": 65,
             "learn": [
              0.1309764449
             ],
             "passed_time": 31.45683596,
             "remaining_time": 16.20503671,
             "test": [
              0.1309021959
             ]
            },
            {
             "iteration": 66,
             "learn": [
              0.1286990865
             ],
             "passed_time": 31.95798623,
             "remaining_time": 15.74050068,
             "test": [
              0.1286352995
             ]
            },
            {
             "iteration": 67,
             "learn": [
              0.1264835259
             ],
             "passed_time": 32.403797,
             "remaining_time": 15.24884565,
             "test": [
              0.1264268219
             ]
            },
            {
             "iteration": 68,
             "learn": [
              0.1245503913
             ],
             "passed_time": 32.84639917,
             "remaining_time": 14.75707789,
             "test": [
              0.124455639
             ]
            },
            {
             "iteration": 69,
             "learn": [
              0.1223800631
             ],
             "passed_time": 33.33915472,
             "remaining_time": 14.28820917,
             "test": [
              0.122444542
             ]
            },
            {
             "iteration": 70,
             "learn": [
              0.1203919741
             ],
             "passed_time": 33.75631443,
             "remaining_time": 13.7877904,
             "test": [
              0.1204461771
             ]
            },
            {
             "iteration": 71,
             "learn": [
              0.1185228212
             ],
             "passed_time": 34.19645251,
             "remaining_time": 13.29862042,
             "test": [
              0.1186250646
             ]
            },
            {
             "iteration": 72,
             "learn": [
              0.1167387308
             ],
             "passed_time": 34.62985939,
             "remaining_time": 12.80830416,
             "test": [
              0.1168401711
             ]
            },
            {
             "iteration": 73,
             "learn": [
              0.1148855553
             ],
             "passed_time": 35.12845852,
             "remaining_time": 12.34243137,
             "test": [
              0.1149408136
             ]
            },
            {
             "iteration": 74,
             "learn": [
              0.113084738
             ],
             "passed_time": 35.51040231,
             "remaining_time": 11.83680077,
             "test": [
              0.113309058
             ]
            },
            {
             "iteration": 75,
             "learn": [
              0.1113865535
             ],
             "passed_time": 35.9194411,
             "remaining_time": 11.3429814,
             "test": [
              0.1115673022
             ]
            },
            {
             "iteration": 76,
             "learn": [
              0.1094462829
             ],
             "passed_time": 36.40457069,
             "remaining_time": 10.87409254,
             "test": [
              0.109731627
             ]
            },
            {
             "iteration": 77,
             "learn": [
              0.1078306608
             ],
             "passed_time": 36.82004475,
             "remaining_time": 10.38514083,
             "test": [
              0.1080745448
             ]
            },
            {
             "iteration": 78,
             "learn": [
              0.1063795931
             ],
             "passed_time": 37.29284864,
             "remaining_time": 9.91328888,
             "test": [
              0.1065902058
             ]
            },
            {
             "iteration": 79,
             "learn": [
              0.1044678834
             ],
             "passed_time": 37.75971159,
             "remaining_time": 9.439927898,
             "test": [
              0.1047531296
             ]
            },
            {
             "iteration": 80,
             "learn": [
              0.1027177777
             ],
             "passed_time": 38.22373332,
             "remaining_time": 8.966060903,
             "test": [
              0.102833925
             ]
            },
            {
             "iteration": 81,
             "learn": [
              0.1011833111
             ],
             "passed_time": 38.60716389,
             "remaining_time": 8.474743292,
             "test": [
              0.1013480257
             ]
            },
            {
             "iteration": 82,
             "learn": [
              0.09977415433
             ],
             "passed_time": 39.01569936,
             "remaining_time": 7.991167338,
             "test": [
              0.09991034892
             ]
            },
            {
             "iteration": 83,
             "learn": [
              0.09813221613
             ],
             "passed_time": 39.48936985,
             "remaining_time": 7.521784734,
             "test": [
              0.0982457946
             ]
            },
            {
             "iteration": 84,
             "learn": [
              0.09679122164
             ],
             "passed_time": 39.91388402,
             "remaining_time": 7.043626592,
             "test": [
              0.09698069386
             ]
            },
            {
             "iteration": 85,
             "learn": [
              0.09517441336
             ],
             "passed_time": 40.38863601,
             "remaining_time": 6.574894234,
             "test": [
              0.09537822111
             ]
            },
            {
             "iteration": 86,
             "learn": [
              0.09407485743
             ],
             "passed_time": 40.85154758,
             "remaining_time": 6.104254237,
             "test": [
              0.09429749063
             ]
            },
            {
             "iteration": 87,
             "learn": [
              0.09275777595
             ],
             "passed_time": 41.31633221,
             "remaining_time": 5.634045302,
             "test": [
              0.09286842184
             ]
            },
            {
             "iteration": 88,
             "learn": [
              0.09153259044
             ],
             "passed_time": 41.75247728,
             "remaining_time": 5.16041854,
             "test": [
              0.09174044109
             ]
            },
            {
             "iteration": 89,
             "learn": [
              0.09042944467
             ],
             "passed_time": 42.20011612,
             "remaining_time": 4.688901791,
             "test": [
              0.09061981811
             ]
            },
            {
             "iteration": 90,
             "learn": [
              0.08916042602
             ],
             "passed_time": 42.63411796,
             "remaining_time": 4.216561117,
             "test": [
              0.08943404515
             ]
            },
            {
             "iteration": 91,
             "learn": [
              0.08805699974
             ],
             "passed_time": 43.05886294,
             "remaining_time": 3.744248951,
             "test": [
              0.08827999307
             ]
            },
            {
             "iteration": 92,
             "learn": [
              0.08680560425
             ],
             "passed_time": 43.48504832,
             "remaining_time": 3.273068153,
             "test": [
              0.08712301259
             ]
            },
            {
             "iteration": 93,
             "learn": [
              0.08555941388
             ],
             "passed_time": 43.91223436,
             "remaining_time": 2.802908576,
             "test": [
              0.08583768243
             ]
            },
            {
             "iteration": 94,
             "learn": [
              0.08440105127
             ],
             "passed_time": 44.37277663,
             "remaining_time": 2.335409296,
             "test": [
              0.08471092369
             ]
            },
            {
             "iteration": 95,
             "learn": [
              0.08341899682
             ],
             "passed_time": 44.70060248,
             "remaining_time": 1.862525103,
             "test": [
              0.08398087654
             ]
            },
            {
             "iteration": 96,
             "learn": [
              0.08239899277
             ],
             "passed_time": 45.14091284,
             "remaining_time": 1.396110706,
             "test": [
              0.08302861224
             ]
            },
            {
             "iteration": 97,
             "learn": [
              0.08138354585
             ],
             "passed_time": 45.60630709,
             "remaining_time": 0.9307409609,
             "test": [
              0.0820125844
             ]
            },
            {
             "iteration": 98,
             "learn": [
              0.08028800511
             ],
             "passed_time": 46.03068594,
             "remaining_time": 0.4649564237,
             "test": [
              0.08083668345
             ]
            },
            {
             "iteration": 99,
             "learn": [
              0.07941615022
             ],
             "passed_time": 46.36015899,
             "remaining_time": 0,
             "test": [
              0.08015919728
             ]
            }
           ],
           "meta": {
            "iteration_count": 100,
            "launch_mode": "Train",
            "learn_metrics": [
             {
              "best_value": "Min",
              "name": "CrossEntropy"
             }
            ],
            "learn_sets": [
             "learn"
            ],
            "name": "experiment",
            "parameters": "",
            "test_metrics": [
             {
              "best_value": "Min",
              "name": "CrossEntropy"
             }
            ],
            "test_sets": [
             "test"
            ]
           }
          },
          "passed_iterations": 99,
          "total_iterations": 100
         },
         "name": "catboost_info",
         "path": "catboost_info"
        }
       },
       "layout": "IPY_MODEL_a535f3c1a8cc44dea74399e3171fca9d"
      }
     },
     "48f97a8d924d4b7ab6f45376cc88a587": {
      "model_module": "@jupyter-widgets/base",
      "model_module_version": "1.2.0",
      "model_name": "LayoutModel",
      "state": {
       "_model_module": "@jupyter-widgets/base",
       "_model_module_version": "1.2.0",
       "_model_name": "LayoutModel",
       "_view_count": null,
       "_view_module": "@jupyter-widgets/base",
       "_view_module_version": "1.2.0",
       "_view_name": "LayoutView",
       "align_content": null,
       "align_items": null,
       "align_self": "stretch",
       "border": null,
       "bottom": null,
       "display": null,
       "flex": null,
       "flex_flow": null,
       "grid_area": null,
       "grid_auto_columns": null,
       "grid_auto_flow": null,
       "grid_auto_rows": null,
       "grid_column": null,
       "grid_gap": null,
       "grid_row": null,
       "grid_template_areas": null,
       "grid_template_columns": null,
       "grid_template_rows": null,
       "height": "500px",
       "justify_content": null,
       "justify_items": null,
       "left": null,
       "margin": null,
       "max_height": null,
       "max_width": null,
       "min_height": null,
       "min_width": null,
       "object_fit": null,
       "object_position": null,
       "order": null,
       "overflow": null,
       "overflow_x": null,
       "overflow_y": null,
       "padding": null,
       "right": null,
       "top": null,
       "visibility": null,
       "width": null
      }
     },
     "4e8d86bf835a4c1d8a82ef5bd0fa1616": {
      "model_module": "catboost-widget",
      "model_module_version": "^1.0.0",
      "model_name": "CatboostWidgetModel",
      "state": {
       "_dom_classes": [],
       "_model_module": "catboost-widget",
       "_model_module_version": "^1.0.0",
       "_model_name": "CatboostWidgetModel",
       "_view_count": null,
       "_view_module": "catboost-widget",
       "_view_module_version": "^1.0.0",
       "_view_name": "CatboostWidgetView",
       "data": {
        "catboost_info": {
         "content": {
          "data": {
           "iterations": [
            {
             "iteration": 0,
             "learn": [
              0.6634640873
             ],
             "passed_time": 0.3394812655,
             "remaining_time": 33.60864529,
             "test": [
              0.6644672473
             ]
            },
            {
             "iteration": 1,
             "learn": [
              0.6381236818
             ],
             "passed_time": 0.6682646356,
             "remaining_time": 32.74496714,
             "test": [
              0.6374053796
             ]
            },
            {
             "iteration": 2,
             "learn": [
              0.611794928
             ],
             "passed_time": 1.019210188,
             "remaining_time": 32.95446276,
             "test": [
              0.6118488839
             ]
            },
            {
             "iteration": 3,
             "learn": [
              0.5879920673
             ],
             "passed_time": 1.368083159,
             "remaining_time": 32.83399582,
             "test": [
              0.5877120944
             ]
            },
            {
             "iteration": 4,
             "learn": [
              0.5660103428
             ],
             "passed_time": 1.778788697,
             "remaining_time": 33.79698525,
             "test": [
              0.5648843995
             ]
            },
            {
             "iteration": 5,
             "learn": [
              0.5450695264
             ],
             "passed_time": 2.241965849,
             "remaining_time": 35.12413164,
             "test": [
              0.5432959818
             ]
            },
            {
             "iteration": 6,
             "learn": [
              0.5224983874
             ],
             "passed_time": 2.730613647,
             "remaining_time": 36.27815274,
             "test": [
              0.5228032106
             ]
            },
            {
             "iteration": 7,
             "learn": [
              0.5052036333
             ],
             "passed_time": 3.186221682,
             "remaining_time": 36.64154935,
             "test": [
              0.5034037684
             ]
            },
            {
             "iteration": 8,
             "learn": [
              0.4854695695
             ],
             "passed_time": 3.548761026,
             "remaining_time": 35.88191704,
             "test": [
              0.4848632641
             ]
            },
            {
             "iteration": 9,
             "learn": [
              0.4684897055
             ],
             "passed_time": 3.899114827,
             "remaining_time": 35.09203344,
             "test": [
              0.4671963919
             ]
            },
            {
             "iteration": 10,
             "learn": [
              0.4525863245
             ],
             "passed_time": 4.223440943,
             "remaining_time": 34.17147672,
             "test": [
              0.4504352025
             ]
            },
            {
             "iteration": 11,
             "learn": [
              0.4372223425
             ],
             "passed_time": 4.547288818,
             "remaining_time": 33.34678467,
             "test": [
              0.4344748048
             ]
            },
            {
             "iteration": 12,
             "learn": [
              0.4219986423
             ],
             "passed_time": 4.896645634,
             "remaining_time": 32.76985924,
             "test": [
              0.4191427328
             ]
            },
            {
             "iteration": 13,
             "learn": [
              0.4072097288
             ],
             "passed_time": 5.232259166,
             "remaining_time": 32.14102059,
             "test": [
              0.4047446451
             ]
            },
            {
             "iteration": 14,
             "learn": [
              0.3924823869
             ],
             "passed_time": 5.586289103,
             "remaining_time": 31.65563825,
             "test": [
              0.3907944784
             ]
            },
            {
             "iteration": 15,
             "learn": [
              0.379147272
             ],
             "passed_time": 5.922543092,
             "remaining_time": 31.09335123,
             "test": [
              0.3776876975
             ]
            },
            {
             "iteration": 16,
             "learn": [
              0.3667875707
             ],
             "passed_time": 6.274023456,
             "remaining_time": 30.63199687,
             "test": [
              0.364877582
             ]
            },
            {
             "iteration": 17,
             "learn": [
              0.3544356623
             ],
             "passed_time": 6.623544258,
             "remaining_time": 30.17392384,
             "test": [
              0.3525506626
             ]
            },
            {
             "iteration": 18,
             "learn": [
              0.3418397156
             ],
             "passed_time": 6.969298807,
             "remaining_time": 29.71122123,
             "test": [
              0.3406906278
             ]
            },
            {
             "iteration": 19,
             "learn": [
              0.3315988711
             ],
             "passed_time": 7.32115088,
             "remaining_time": 29.28460352,
             "test": [
              0.3294390611
             ]
            },
            {
             "iteration": 20,
             "learn": [
              0.3206362394
             ],
             "passed_time": 7.668020616,
             "remaining_time": 28.84636327,
             "test": [
              0.3186223158
             ]
            },
            {
             "iteration": 21,
             "learn": [
              0.3096132327
             ],
             "passed_time": 7.989971063,
             "remaining_time": 28.32807922,
             "test": [
              0.3083130953
             ]
            },
            {
             "iteration": 22,
             "learn": [
              0.3009522934
             ],
             "passed_time": 8.345241975,
             "remaining_time": 27.93841878,
             "test": [
              0.2983600962
             ]
            },
            {
             "iteration": 23,
             "learn": [
              0.2910440475
             ],
             "passed_time": 8.695051029,
             "remaining_time": 27.53432826,
             "test": [
              0.2888489919
             ]
            },
            {
             "iteration": 24,
             "learn": [
              0.2815150473
             ],
             "passed_time": 9.028710532,
             "remaining_time": 27.0861316,
             "test": [
              0.2797284594
             ]
            },
            {
             "iteration": 25,
             "learn": [
              0.2729087265
             ],
             "passed_time": 9.333225234,
             "remaining_time": 26.5637949,
             "test": [
              0.2709192134
             ]
            },
            {
             "iteration": 26,
             "learn": [
              0.264060793
             ],
             "passed_time": 9.658734977,
             "remaining_time": 26.11435753,
             "test": [
              0.2624703729
             ]
            },
            {
             "iteration": 27,
             "learn": [
              0.2562659946
             ],
             "passed_time": 9.996003207,
             "remaining_time": 25.70400825,
             "test": [
              0.2543645833
             ]
            },
            {
             "iteration": 28,
             "learn": [
              0.2483794648
             ],
             "passed_time": 10.32340698,
             "remaining_time": 25.27454813,
             "test": [
              0.2464983354
             ]
            },
            {
             "iteration": 29,
             "learn": [
              0.2409165423
             ],
             "passed_time": 10.64950728,
             "remaining_time": 24.84885031,
             "test": [
              0.2390456139
             ]
            },
            {
             "iteration": 30,
             "learn": [
              0.2336833141
             ],
             "passed_time": 10.97548842,
             "remaining_time": 24.42931293,
             "test": [
              0.2318747681
             ]
            },
            {
             "iteration": 31,
             "learn": [
              0.2266214513
             ],
             "passed_time": 11.31199124,
             "remaining_time": 24.03798138,
             "test": [
              0.2248780333
             ]
            },
            {
             "iteration": 32,
             "learn": [
              0.220445555
             ],
             "passed_time": 11.64168765,
             "remaining_time": 23.63615371,
             "test": [
              0.2182711969
             ]
            },
            {
             "iteration": 33,
             "learn": [
              0.2143325457
             ],
             "passed_time": 12.0047084,
             "remaining_time": 23.30325749,
             "test": [
              0.2120920413
             ]
            },
            {
             "iteration": 34,
             "learn": [
              0.2077439637
             ],
             "passed_time": 12.34162901,
             "remaining_time": 22.92016817,
             "test": [
              0.2059074961
             ]
            },
            {
             "iteration": 35,
             "learn": [
              0.2020370561
             ],
             "passed_time": 12.7328641,
             "remaining_time": 22.63620285,
             "test": [
              0.1999897219
             ]
            },
            {
             "iteration": 36,
             "learn": [
              0.1959811697
             ],
             "passed_time": 13.07135384,
             "remaining_time": 22.25662951,
             "test": [
              0.1942636261
             ]
            },
            {
             "iteration": 37,
             "learn": [
              0.1905376672
             ],
             "passed_time": 13.40960362,
             "remaining_time": 21.87882695,
             "test": [
              0.1887189465
             ]
            },
            {
             "iteration": 38,
             "learn": [
              0.184769958
             ],
             "passed_time": 13.74966631,
             "remaining_time": 21.50588833,
             "test": [
              0.1833786952
             ]
            },
            {
             "iteration": 39,
             "learn": [
              0.1799056318
             ],
             "passed_time": 14.08461097,
             "remaining_time": 21.12691646,
             "test": [
              0.1782689042
             ]
            },
            {
             "iteration": 40,
             "learn": [
              0.1747862993
             ],
             "passed_time": 14.41912631,
             "remaining_time": 20.74947444,
             "test": [
              0.1731867619
             ]
            },
            {
             "iteration": 41,
             "learn": [
              0.1698855959
             ],
             "passed_time": 14.75564851,
             "remaining_time": 20.37684794,
             "test": [
              0.1684177968
             ]
            },
            {
             "iteration": 42,
             "learn": [
              0.1655242284
             ],
             "passed_time": 15.09475385,
             "remaining_time": 20.00932487,
             "test": [
              0.1638209052
             ]
            },
            {
             "iteration": 43,
             "learn": [
              0.1609619155
             ],
             "passed_time": 15.43863749,
             "remaining_time": 19.64917499,
             "test": [
              0.159389044
             ]
            },
            {
             "iteration": 44,
             "learn": [
              0.1565470703
             ],
             "passed_time": 15.75569845,
             "remaining_time": 19.25696477,
             "test": [
              0.1549557281
             ]
            },
            {
             "iteration": 45,
             "learn": [
              0.1522288425
             ],
             "passed_time": 16.08858793,
             "remaining_time": 18.88660323,
             "test": [
              0.1507161697
             ]
            },
            {
             "iteration": 46,
             "learn": [
              0.1480652066
             ],
             "passed_time": 16.43290693,
             "remaining_time": 18.53072484,
             "test": [
              0.1467247056
             ]
            },
            {
             "iteration": 47,
             "learn": [
              0.1442072542
             ],
             "passed_time": 16.78191149,
             "remaining_time": 18.18040412,
             "test": [
              0.1430116128
             ]
            },
            {
             "iteration": 48,
             "learn": [
              0.1403291186
             ],
             "passed_time": 17.09190962,
             "remaining_time": 17.78953859,
             "test": [
              0.1391283813
             ]
            },
            {
             "iteration": 49,
             "learn": [
              0.1366836598
             ],
             "passed_time": 17.42420114,
             "remaining_time": 17.42420114,
             "test": [
              0.1354782106
             ]
            },
            {
             "iteration": 50,
             "learn": [
              0.1332125039
             ],
             "passed_time": 17.79096768,
             "remaining_time": 17.09328267,
             "test": [
              0.1319997153
             ]
            },
            {
             "iteration": 51,
             "learn": [
              0.1296834349
             ],
             "passed_time": 18.09649959,
             "remaining_time": 16.70446116,
             "test": [
              0.1284861533
             ]
            },
            {
             "iteration": 52,
             "learn": [
              0.1261584299
             ],
             "passed_time": 18.42595135,
             "remaining_time": 16.33999459,
             "test": [
              0.1251123098
             ]
            },
            {
             "iteration": 53,
             "learn": [
              0.1228429315
             ],
             "passed_time": 18.79282709,
             "remaining_time": 16.00870456,
             "test": [
              0.1216628229
             ]
            },
            {
             "iteration": 54,
             "learn": [
              0.1197838484
             ],
             "passed_time": 19.16167412,
             "remaining_time": 15.67773337,
             "test": [
              0.118621216
             ]
            },
            {
             "iteration": 55,
             "learn": [
              0.1166876012
             ],
             "passed_time": 19.51800741,
             "remaining_time": 15.33557725,
             "test": [
              0.1157914267
             ]
            },
            {
             "iteration": 56,
             "learn": [
              0.1138343655
             ],
             "passed_time": 19.82510775,
             "remaining_time": 14.95578304,
             "test": [
              0.1127887598
             ]
            },
            {
             "iteration": 57,
             "learn": [
              0.1107511866
             ],
             "passed_time": 20.19095108,
             "remaining_time": 14.62103354,
             "test": [
              0.1097319316
             ]
            },
            {
             "iteration": 58,
             "learn": [
              0.1080275067
             ],
             "passed_time": 20.5382986,
             "remaining_time": 14.27237699,
             "test": [
              0.1069601675
             ]
            },
            {
             "iteration": 59,
             "learn": [
              0.1051710231
             ],
             "passed_time": 20.86768713,
             "remaining_time": 13.91179142,
             "test": [
              0.1043160775
             ]
            },
            {
             "iteration": 60,
             "learn": [
              0.1028118152
             ],
             "passed_time": 21.20310686,
             "remaining_time": 13.55608471,
             "test": [
              0.1018395319
             ]
            },
            {
             "iteration": 61,
             "learn": [
              0.1001519612
             ],
             "passed_time": 21.55264076,
             "remaining_time": 13.20968305,
             "test": [
              0.09926447
             ]
            },
            {
             "iteration": 62,
             "learn": [
              0.09751048061
             ],
             "passed_time": 21.91491732,
             "remaining_time": 12.87066573,
             "test": [
              0.09665712744
             ]
            },
            {
             "iteration": 63,
             "learn": [
              0.09515206745
             ],
             "passed_time": 22.24869584,
             "remaining_time": 12.51489141,
             "test": [
              0.09426084135
             ]
            },
            {
             "iteration": 64,
             "learn": [
              0.0925783529
             ],
             "passed_time": 22.65875336,
             "remaining_time": 12.2008672,
             "test": [
              0.09167170689
             ]
            },
            {
             "iteration": 65,
             "learn": [
              0.09032408256
             ],
             "passed_time": 23.0397106,
             "remaining_time": 11.86894183,
             "test": [
              0.0893518129
             ]
            },
            {
             "iteration": 66,
             "learn": [
              0.08803564057
             ],
             "passed_time": 23.39069811,
             "remaining_time": 11.52079161,
             "test": [
              0.08708048403
             ]
            },
            {
             "iteration": 67,
             "learn": [
              0.08589670001
             ],
             "passed_time": 23.78769163,
             "remaining_time": 11.19420783,
             "test": [
              0.08493109904
             ]
            },
            {
             "iteration": 68,
             "learn": [
              0.08389812389
             ],
             "passed_time": 24.16937552,
             "remaining_time": 10.85870494,
             "test": [
              0.08297542855
             ]
            },
            {
             "iteration": 69,
             "learn": [
              0.08190613465
             ],
             "passed_time": 24.53721997,
             "remaining_time": 10.51595142,
             "test": [
              0.08093781628
             ]
            },
            {
             "iteration": 70,
             "learn": [
              0.07989207224
             ],
             "passed_time": 24.88903341,
             "remaining_time": 10.16594323,
             "test": [
              0.07899812466
             ]
            },
            {
             "iteration": 71,
             "learn": [
              0.07812130944
             ],
             "passed_time": 25.22419219,
             "remaining_time": 9.809408074,
             "test": [
              0.07715952853
             ]
            },
            {
             "iteration": 72,
             "learn": [
              0.0762298859
             ],
             "passed_time": 25.57470446,
             "remaining_time": 9.459137267,
             "test": [
              0.07532498838
             ]
            },
            {
             "iteration": 73,
             "learn": [
              0.07445956916
             ],
             "passed_time": 25.90023683,
             "remaining_time": 9.100083209,
             "test": [
              0.07361284055
             ]
            },
            {
             "iteration": 74,
             "learn": [
              0.07266715264
             ],
             "passed_time": 26.25993863,
             "remaining_time": 8.753312878,
             "test": [
              0.07177112951
             ]
            },
            {
             "iteration": 75,
             "learn": [
              0.07099627087
             ],
             "passed_time": 26.64431716,
             "remaining_time": 8.413994893,
             "test": [
              0.07020526585
             ]
            },
            {
             "iteration": 76,
             "learn": [
              0.06915059485
             ],
             "passed_time": 27.05175676,
             "remaining_time": 8.080394876,
             "test": [
              0.06830580359
             ]
            },
            {
             "iteration": 77,
             "learn": [
              0.06741527201
             ],
             "passed_time": 27.45670447,
             "remaining_time": 7.744198696,
             "test": [
              0.0664811729
             ]
            },
            {
             "iteration": 78,
             "learn": [
              0.0658928566
             ],
             "passed_time": 27.78978512,
             "remaining_time": 7.387158069,
             "test": [
              0.06501122373
             ]
            },
            {
             "iteration": 79,
             "learn": [
              0.06444659086
             ],
             "passed_time": 28.11163488,
             "remaining_time": 7.027908719,
             "test": [
              0.06354372986
             ]
            },
            {
             "iteration": 80,
             "learn": [
              0.06276821454
             ],
             "passed_time": 28.47830803,
             "remaining_time": 6.680096946,
             "test": [
              0.06173165425
             ]
            },
            {
             "iteration": 81,
             "learn": [
              0.06145940212
             ],
             "passed_time": 28.81024037,
             "remaining_time": 6.324199105,
             "test": [
              0.06040773264
             ]
            },
            {
             "iteration": 82,
             "learn": [
              0.05985790977
             ],
             "passed_time": 29.21861576,
             "remaining_time": 5.984535757,
             "test": [
              0.05879847896
             ]
            },
            {
             "iteration": 83,
             "learn": [
              0.05853694125
             ],
             "passed_time": 29.52041362,
             "remaining_time": 5.622935927,
             "test": [
              0.05753307746
             ]
            },
            {
             "iteration": 84,
             "learn": [
              0.05730858015
             ],
             "passed_time": 29.8599927,
             "remaining_time": 5.269410476,
             "test": [
              0.05627658197
             ]
            },
            {
             "iteration": 85,
             "learn": [
              0.05604375009
             ],
             "passed_time": 30.23149732,
             "remaining_time": 4.921406541,
             "test": [
              0.05498151979
             ]
            },
            {
             "iteration": 86,
             "learn": [
              0.05491893329
             ],
             "passed_time": 30.56878476,
             "remaining_time": 4.567749446,
             "test": [
              0.05390811927
             ]
            },
            {
             "iteration": 87,
             "learn": [
              0.05363808756
             ],
             "passed_time": 30.90262099,
             "remaining_time": 4.213993772,
             "test": [
              0.052641385
             ]
            },
            {
             "iteration": 88,
             "learn": [
              0.05231306493
             ],
             "passed_time": 31.27153598,
             "remaining_time": 3.865021301,
             "test": [
              0.05116893264
             ]
            },
            {
             "iteration": 89,
             "learn": [
              0.0512489094
             ],
             "passed_time": 31.61091806,
             "remaining_time": 3.512324229,
             "test": [
              0.05014285755
             ]
            },
            {
             "iteration": 90,
             "learn": [
              0.05012952361
             ],
             "passed_time": 31.96856449,
             "remaining_time": 3.161726159,
             "test": [
              0.04901650682
             ]
            },
            {
             "iteration": 91,
             "learn": [
              0.04906832215
             ],
             "passed_time": 32.28157794,
             "remaining_time": 2.807093734,
             "test": [
              0.04795969671
             ]
            },
            {
             "iteration": 92,
             "learn": [
              0.04804094971
             ],
             "passed_time": 32.63429368,
             "remaining_time": 2.456344685,
             "test": [
              0.04693641949
             ]
            },
            {
             "iteration": 93,
             "learn": [
              0.04706694178
             ],
             "passed_time": 32.95903046,
             "remaining_time": 2.103767902,
             "test": [
              0.04600688341
             ]
            },
            {
             "iteration": 94,
             "learn": [
              0.04614276709
             ],
             "passed_time": 33.25845401,
             "remaining_time": 1.750444948,
             "test": [
              0.04512947021
             ]
            },
            {
             "iteration": 95,
             "learn": [
              0.04529353061
             ],
             "passed_time": 33.59413568,
             "remaining_time": 1.399755653,
             "test": [
              0.04434083499
             ]
            },
            {
             "iteration": 96,
             "learn": [
              0.04439483109
             ],
             "passed_time": 34.03714354,
             "remaining_time": 1.052695161,
             "test": [
              0.04344176809
             ]
            },
            {
             "iteration": 97,
             "learn": [
              0.04347565695
             ],
             "passed_time": 34.58344232,
             "remaining_time": 0.7057845371,
             "test": [
              0.04250439543
             ]
            },
            {
             "iteration": 98,
             "learn": [
              0.04254091891
             ],
             "passed_time": 35.07847537,
             "remaining_time": 0.354328034,
             "test": [
              0.04160353944
             ]
            },
            {
             "iteration": 99,
             "learn": [
              0.04167799261
             ],
             "passed_time": 35.42140386,
             "remaining_time": 0,
             "test": [
              0.04076011593
             ]
            }
           ],
           "meta": {
            "iteration_count": 100,
            "launch_mode": "Train",
            "learn_metrics": [
             {
              "best_value": "Min",
              "name": "CrossEntropy"
             }
            ],
            "learn_sets": [
             "learn"
            ],
            "name": "experiment",
            "parameters": "",
            "test_metrics": [
             {
              "best_value": "Min",
              "name": "CrossEntropy"
             }
            ],
            "test_sets": [
             "test"
            ]
           }
          },
          "passed_iterations": 99,
          "total_iterations": 100
         },
         "name": "catboost_info",
         "path": "catboost_info"
        }
       },
       "layout": "IPY_MODEL_2c4eb147d86349d5903cebab0439c527"
      }
     },
     "4e999716457840a8b2b0bca736f486c2": {
      "model_module": "catboost-widget",
      "model_module_version": "^1.0.0",
      "model_name": "CatboostWidgetModel",
      "state": {
       "_dom_classes": [],
       "_model_module": "catboost-widget",
       "_model_module_version": "^1.0.0",
       "_model_name": "CatboostWidgetModel",
       "_view_count": null,
       "_view_module": "catboost-widget",
       "_view_module_version": "^1.0.0",
       "_view_name": "CatboostWidgetView",
       "data": {
        "catboost_info": {
         "content": {
          "data": {
           "iterations": [
            {
             "iteration": 0,
             "learn": [
              0.6613990157
             ],
             "passed_time": 0.4047715275,
             "remaining_time": 40.07238122,
             "test": [
              0.663611441
             ]
            },
            {
             "iteration": 1,
             "learn": [
              0.6363426534
             ],
             "passed_time": 0.8525214184,
             "remaining_time": 41.7735495,
             "test": [
              0.6357976283
             ]
            },
            {
             "iteration": 2,
             "learn": [
              0.609426544
             ],
             "passed_time": 1.243063416,
             "remaining_time": 40.19238377,
             "test": [
              0.6095579343
             ]
            },
            {
             "iteration": 3,
             "learn": [
              0.5838466103
             ],
             "passed_time": 1.617248274,
             "remaining_time": 38.81395857,
             "test": [
              0.5847642434
             ]
            },
            {
             "iteration": 4,
             "learn": [
              0.5622939936
             ],
             "passed_time": 2.10325473,
             "remaining_time": 39.96183988,
             "test": [
              0.5612990023
             ]
            },
            {
             "iteration": 5,
             "learn": [
              0.5383407202
             ],
             "passed_time": 2.562650379,
             "remaining_time": 40.14818927,
             "test": [
              0.5390627925
             ]
            },
            {
             "iteration": 6,
             "learn": [
              0.5170056105
             ],
             "passed_time": 2.938248426,
             "remaining_time": 39.03672909,
             "test": [
              0.5179581661
             ]
            },
            {
             "iteration": 7,
             "learn": [
              0.4988733771
             ],
             "passed_time": 3.30825534,
             "remaining_time": 38.04493641,
             "test": [
              0.4979177592
             ]
            },
            {
             "iteration": 8,
             "learn": [
              0.4787538251
             ],
             "passed_time": 3.721360337,
             "remaining_time": 37.62708785,
             "test": [
              0.4788653525
             ]
            },
            {
             "iteration": 9,
             "learn": [
              0.4608030226
             ],
             "passed_time": 4.152492591,
             "remaining_time": 37.37243332,
             "test": [
              0.4607271439
             ]
            },
            {
             "iteration": 10,
             "learn": [
              0.4441677881
             ],
             "passed_time": 4.471598905,
             "remaining_time": 36.17930023,
             "test": [
              0.4434357443
             ]
            },
            {
             "iteration": 11,
             "learn": [
              0.4282450754
             ],
             "passed_time": 4.940691057,
             "remaining_time": 36.23173442,
             "test": [
              0.4269593803
             ]
            },
            {
             "iteration": 12,
             "learn": [
              0.4124224222
             ],
             "passed_time": 5.400025805,
             "remaining_time": 36.13863423,
             "test": [
              0.4112349715
             ]
            },
            {
             "iteration": 13,
             "learn": [
              0.3970015945
             ],
             "passed_time": 5.825730347,
             "remaining_time": 35.78662927,
             "test": [
              0.396208942
             ]
            },
            {
             "iteration": 14,
             "learn": [
              0.3826767338
             ],
             "passed_time": 6.234301814,
             "remaining_time": 35.32771028,
             "test": [
              0.3818540724
             ]
            },
            {
             "iteration": 15,
             "learn": [
              0.367672399
             ],
             "passed_time": 6.579693351,
             "remaining_time": 34.54339009,
             "test": [
              0.3681261038
             ]
            },
            {
             "iteration": 16,
             "learn": [
              0.3542626158
             ],
             "passed_time": 6.999356549,
             "remaining_time": 34.17332903,
             "test": [
              0.3549819356
             ]
            },
            {
             "iteration": 17,
             "learn": [
              0.3434455392
             ],
             "passed_time": 7.330613028,
             "remaining_time": 33.39501491,
             "test": [
              0.34239162
             ]
            },
            {
             "iteration": 18,
             "learn": [
              0.3303813922
             ],
             "passed_time": 7.769201544,
             "remaining_time": 33.1213329,
             "test": [
              0.3303368443
             ]
            },
            {
             "iteration": 19,
             "learn": [
              0.3199545902
             ],
             "passed_time": 8.170195689,
             "remaining_time": 32.68078276,
             "test": [
              0.318777323
             ]
            },
            {
             "iteration": 20,
             "learn": [
              0.3074433852
             ],
             "passed_time": 8.668017991,
             "remaining_time": 32.60825816,
             "test": [
              0.3076921794
             ]
            },
            {
             "iteration": 21,
             "learn": [
              0.2972149593
             ],
             "passed_time": 9.052549185,
             "remaining_time": 32.09540166,
             "test": [
              0.2970569645
             ]
            },
            {
             "iteration": 22,
             "learn": [
              0.2871125024
             ],
             "passed_time": 9.462582854,
             "remaining_time": 31.67908173,
             "test": [
              0.2868387579
             ]
            },
            {
             "iteration": 23,
             "learn": [
              0.2768944138
             ],
             "passed_time": 9.828904612,
             "remaining_time": 31.12486461,
             "test": [
              0.2770248965
             ]
            },
            {
             "iteration": 24,
             "learn": [
              0.2669745367
             ],
             "passed_time": 10.27076757,
             "remaining_time": 30.8123027,
             "test": [
              0.2676023503
             ]
            },
            {
             "iteration": 25,
             "learn": [
              0.2583606266
             ],
             "passed_time": 10.63408093,
             "remaining_time": 30.26623035,
             "test": [
              0.2585433445
             ]
            },
            {
             "iteration": 26,
             "learn": [
              0.2503177023
             ],
             "passed_time": 11.04267333,
             "remaining_time": 29.85611677,
             "test": [
              0.2498303019
             ]
            },
            {
             "iteration": 27,
             "learn": [
              0.2423336819
             ],
             "passed_time": 11.40780079,
             "remaining_time": 29.3343449,
             "test": [
              0.2414479932
             ]
            },
            {
             "iteration": 28,
             "learn": [
              0.2340700865
             ],
             "passed_time": 11.82954316,
             "remaining_time": 28.96198497,
             "test": [
              0.2333860933
             ]
            },
            {
             "iteration": 29,
             "learn": [
              0.2262487286
             ],
             "passed_time": 12.24545799,
             "remaining_time": 28.5727353,
             "test": [
              0.2256231435
             ]
            },
            {
             "iteration": 30,
             "learn": [
              0.2189258112
             ],
             "passed_time": 12.67505196,
             "remaining_time": 28.21221242,
             "test": [
              0.2181533012
             ]
            },
            {
             "iteration": 31,
             "learn": [
              0.2113300968
             ],
             "passed_time": 13.06114645,
             "remaining_time": 27.75493621,
             "test": [
              0.2109565498
             ]
            },
            {
             "iteration": 32,
             "learn": [
              0.2037680629
             ],
             "passed_time": 13.41921123,
             "remaining_time": 27.24506522,
             "test": [
              0.2040192189
             ]
            },
            {
             "iteration": 33,
             "learn": [
              0.1970868306
             ],
             "passed_time": 13.85458973,
             "remaining_time": 26.89420359,
             "test": [
              0.1973378088
             ]
            },
            {
             "iteration": 34,
             "learn": [
              0.1915983083
             ],
             "passed_time": 14.24187273,
             "remaining_time": 26.44919221,
             "test": [
              0.1908999425
             ]
            },
            {
             "iteration": 35,
             "learn": [
              0.1843964883
             ],
             "passed_time": 14.61155456,
             "remaining_time": 25.97609699,
             "test": [
              0.184689088
             ]
            },
            {
             "iteration": 36,
             "learn": [
              0.1792033191
             ],
             "passed_time": 15.0317606,
             "remaining_time": 25.5946194,
             "test": [
              0.1787045811
             ]
            },
            {
             "iteration": 37,
             "learn": [
              0.1727029581
             ],
             "passed_time": 15.49870518,
             "remaining_time": 25.28736108,
             "test": [
              0.1729308872
             ]
            },
            {
             "iteration": 38,
             "learn": [
              0.1681126055
             ],
             "passed_time": 15.91779158,
             "remaining_time": 24.89705862,
             "test": [
              0.1673620151
             ]
            },
            {
             "iteration": 39,
             "learn": [
              0.1619098745
             ],
             "passed_time": 16.25210585,
             "remaining_time": 24.37815877,
             "test": [
              0.161980621
             ]
            },
            {
             "iteration": 40,
             "learn": [
              0.1567977053
             ],
             "passed_time": 16.67958696,
             "remaining_time": 24.00233246,
             "test": [
              0.1567928559
             ]
            },
            {
             "iteration": 41,
             "learn": [
              0.1524721732
             ],
             "passed_time": 17.13168741,
             "remaining_time": 23.65804452,
             "test": [
              0.1517846718
             ]
            },
            {
             "iteration": 42,
             "learn": [
              0.1474886277
             ],
             "passed_time": 17.61200113,
             "remaining_time": 23.34614104,
             "test": [
              0.1469499802
             ]
            },
            {
             "iteration": 43,
             "learn": [
              0.1424045245
             ],
             "passed_time": 17.99454877,
             "remaining_time": 22.90215298,
             "test": [
              0.1422754318
             ]
            },
            {
             "iteration": 44,
             "learn": [
              0.1376395188
             ],
             "passed_time": 18.56929657,
             "remaining_time": 22.69580692,
             "test": [
              0.1377669869
             ]
            },
            {
             "iteration": 45,
             "learn": [
              0.1334219947
             ],
             "passed_time": 19.1279447,
             "remaining_time": 22.45454378,
             "test": [
              0.1334060266
             ]
            },
            {
             "iteration": 46,
             "learn": [
              0.1293854979
             ],
             "passed_time": 19.60258493,
             "remaining_time": 22.10504258,
             "test": [
              0.1291905063
             ]
            },
            {
             "iteration": 47,
             "learn": [
              0.1254553222
             ],
             "passed_time": 20.0249622,
             "remaining_time": 21.69370905,
             "test": [
              0.125123513
             ]
            },
            {
             "iteration": 48,
             "learn": [
              0.1215527322
             ],
             "passed_time": 20.51098929,
             "remaining_time": 21.34817253,
             "test": [
              0.1211922673
             ]
            },
            {
             "iteration": 49,
             "learn": [
              0.1176519166
             ],
             "passed_time": 20.83404061,
             "remaining_time": 20.83404061,
             "test": [
              0.1173863379
             ]
            },
            {
             "iteration": 50,
             "learn": [
              0.1137975525
             ],
             "passed_time": 21.21795982,
             "remaining_time": 20.38588296,
             "test": [
              0.113709382
             ]
            },
            {
             "iteration": 51,
             "learn": [
              0.1102191136
             ],
             "passed_time": 21.56025881,
             "remaining_time": 19.90177736,
             "test": [
              0.1101529528
             ]
            },
            {
             "iteration": 52,
             "learn": [
              0.1073202318
             ],
             "passed_time": 21.91139841,
             "remaining_time": 19.43086274,
             "test": [
              0.1067148762
             ]
            },
            {
             "iteration": 53,
             "learn": [
              0.1038462643
             ],
             "passed_time": 22.37685115,
             "remaining_time": 19.06176209,
             "test": [
              0.1033957065
             ]
            },
            {
             "iteration": 54,
             "learn": [
              0.1002029819
             ],
             "passed_time": 22.79696161,
             "remaining_time": 18.6520595,
             "test": [
              0.1001851847
             ]
            },
            {
             "iteration": 55,
             "learn": [
              0.09758072869
             ],
             "passed_time": 23.14562951,
             "remaining_time": 18.18585176,
             "test": [
              0.09707356611
             ]
            },
            {
             "iteration": 56,
             "learn": [
              0.09422150173
             ],
             "passed_time": 23.5330711,
             "remaining_time": 17.75301855,
             "test": [
              0.09406632731
             ]
            },
            {
             "iteration": 57,
             "learn": [
              0.09166800908
             ],
             "passed_time": 23.93764285,
             "remaining_time": 17.33415517,
             "test": [
              0.0911563759
             ]
            },
            {
             "iteration": 58,
             "learn": [
              0.08842788411
             ],
             "passed_time": 24.39122473,
             "remaining_time": 16.94983414,
             "test": [
              0.08834195863
             ]
            },
            {
             "iteration": 59,
             "learn": [
              0.08599727512
             ],
             "passed_time": 24.82375871,
             "remaining_time": 16.54917247,
             "test": [
              0.08562060028
             ]
            },
            {
             "iteration": 60,
             "learn": [
              0.08311901441
             ],
             "passed_time": 25.28019561,
             "remaining_time": 16.16274801,
             "test": [
              0.08298643696
             ]
            },
            {
             "iteration": 61,
             "learn": [
              0.08058066367
             ],
             "passed_time": 25.6665297,
             "remaining_time": 15.73109885,
             "test": [
              0.08043826221
             ]
            },
            {
             "iteration": 62,
             "learn": [
              0.07844683195
             ],
             "passed_time": 26.13726303,
             "remaining_time": 15.35045606,
             "test": [
              0.07797002485
             ]
            },
            {
             "iteration": 63,
             "learn": [
              0.07598389006
             ],
             "passed_time": 26.52950932,
             "remaining_time": 14.92284899,
             "test": [
              0.07557902571
             ]
            },
            {
             "iteration": 64,
             "learn": [
              0.0734941594
             ],
             "passed_time": 26.90610535,
             "remaining_time": 14.48790288,
             "test": [
              0.07326707024
             ]
            },
            {
             "iteration": 65,
             "learn": [
              0.07118342812
             ],
             "passed_time": 27.26534891,
             "remaining_time": 14.0457858,
             "test": [
              0.0710288421
             ]
            },
            {
             "iteration": 66,
             "learn": [
              0.06898652863
             ],
             "passed_time": 27.60757389,
             "remaining_time": 13.59776027,
             "test": [
              0.06885710935
             ]
            },
            {
             "iteration": 67,
             "learn": [
              0.06692495511
             ],
             "passed_time": 27.94397648,
             "remaining_time": 13.15010658,
             "test": [
              0.06675400492
             ]
            },
            {
             "iteration": 68,
             "learn": [
              0.06493226192
             ],
             "passed_time": 28.26485643,
             "remaining_time": 12.69870361,
             "test": [
              0.06471559987
             ]
            },
            {
             "iteration": 69,
             "learn": [
              0.06296753389
             ],
             "passed_time": 28.59711134,
             "remaining_time": 12.25590486,
             "test": [
              0.06274152349
             ]
            },
            {
             "iteration": 70,
             "learn": [
              0.06101390457
             ],
             "passed_time": 28.97377292,
             "remaining_time": 11.83435795,
             "test": [
              0.06082978938
             ]
            },
            {
             "iteration": 71,
             "learn": [
              0.0591160593
             ],
             "passed_time": 29.29158481,
             "remaining_time": 11.39117187,
             "test": [
              0.05898046171
             ]
            },
            {
             "iteration": 72,
             "learn": [
              0.05730548531
             ],
             "passed_time": 29.64780586,
             "remaining_time": 10.96562683,
             "test": [
              0.05718640345
             ]
            },
            {
             "iteration": 73,
             "learn": [
              0.05584292841
             ],
             "passed_time": 30.03240543,
             "remaining_time": 10.55192623,
             "test": [
              0.05544890883
             ]
            },
            {
             "iteration": 74,
             "learn": [
              0.05407858656
             ],
             "passed_time": 30.36869158,
             "remaining_time": 10.12289719,
             "test": [
              0.05376585921
             ]
            },
            {
             "iteration": 75,
             "learn": [
              0.05224713297
             ],
             "passed_time": 30.70567225,
             "remaining_time": 9.696528079,
             "test": [
              0.05213504271
             ]
            },
            {
             "iteration": 76,
             "learn": [
              0.05091630856
             ],
             "passed_time": 31.03749396,
             "remaining_time": 9.270939755,
             "test": [
              0.05055473714
             ]
            },
            {
             "iteration": 77,
             "learn": [
              0.04923068082
             ],
             "passed_time": 31.4429808,
             "remaining_time": 8.868533046,
             "test": [
              0.0490282015
             ]
            },
            {
             "iteration": 78,
             "learn": [
              0.04772726039
             ],
             "passed_time": 31.81114304,
             "remaining_time": 8.456126632,
             "test": [
              0.04755037655
             ]
            },
            {
             "iteration": 79,
             "learn": [
              0.04629349768
             ],
             "passed_time": 32.15543271,
             "remaining_time": 8.038858177,
             "test": [
              0.04611276102
             ]
            },
            {
             "iteration": 80,
             "learn": [
              0.04502716912
             ],
             "passed_time": 32.49927812,
             "remaining_time": 7.62328746,
             "test": [
              0.04471925762
             ]
            },
            {
             "iteration": 81,
             "learn": [
              0.04347293958
             ],
             "passed_time": 32.80792522,
             "remaining_time": 7.201739684,
             "test": [
              0.04336850205
             ]
            },
            {
             "iteration": 82,
             "learn": [
              0.04232348528
             ],
             "passed_time": 33.17178646,
             "remaining_time": 6.794221323,
             "test": [
              0.04206498781
             ]
            },
            {
             "iteration": 83,
             "learn": [
              0.04107377854
             ],
             "passed_time": 33.52530831,
             "remaining_time": 6.385773012,
             "test": [
              0.04079658761
             ]
            },
            {
             "iteration": 84,
             "learn": [
              0.03971831849
             ],
             "passed_time": 33.83229486,
             "remaining_time": 5.970404975,
             "test": [
              0.03956667969
             ]
            },
            {
             "iteration": 85,
             "learn": [
              0.03849632148
             ],
             "passed_time": 34.18832919,
             "remaining_time": 5.565541962,
             "test": [
              0.03837908067
             ]
            },
            {
             "iteration": 86,
             "learn": [
              0.03744524711
             ],
             "passed_time": 34.58210728,
             "remaining_time": 5.167441317,
             "test": [
              0.03722733987
             ]
            },
            {
             "iteration": 87,
             "learn": [
              0.0363870299
             ],
             "passed_time": 34.96033562,
             "remaining_time": 4.767318494,
             "test": [
              0.03610805501
             ]
            },
            {
             "iteration": 88,
             "learn": [
              0.03521586892
             ],
             "passed_time": 35.30820968,
             "remaining_time": 4.363936028,
             "test": [
              0.03502569429
             ]
            },
            {
             "iteration": 89,
             "learn": [
              0.03418099904
             ],
             "passed_time": 35.80418698,
             "remaining_time": 3.978242998,
             "test": [
              0.03397869295
             ]
            },
            {
             "iteration": 90,
             "learn": [
              0.03316720361
             ],
             "passed_time": 36.20993269,
             "remaining_time": 3.581202134,
             "test": [
              0.03296260123
             ]
            },
            {
             "iteration": 91,
             "learn": [
              0.03217663716
             ],
             "passed_time": 36.69821872,
             "remaining_time": 3.191149454,
             "test": [
              0.03197843375
             ]
            },
            {
             "iteration": 92,
             "learn": [
              0.03121051291
             ],
             "passed_time": 37.12300732,
             "remaining_time": 2.794204852,
             "test": [
              0.03102532188
             ]
            },
            {
             "iteration": 93,
             "learn": [
              0.03026802422
             ],
             "passed_time": 37.42518835,
             "remaining_time": 2.388841809,
             "test": [
              0.03009558098
             ]
            },
            {
             "iteration": 94,
             "learn": [
              0.02936247436
             ],
             "passed_time": 37.70354634,
             "remaining_time": 1.984397176,
             "test": [
              0.02919400435
             ]
            },
            {
             "iteration": 95,
             "learn": [
              0.02857765349
             ],
             "passed_time": 38.13752238,
             "remaining_time": 1.589063433,
             "test": [
              0.02832297018
             ]
            },
            {
             "iteration": 96,
             "learn": [
              0.0276833814
             ],
             "passed_time": 38.54550607,
             "remaining_time": 1.192129054,
             "test": [
              0.02747874248
             ]
            },
            {
             "iteration": 97,
             "learn": [
              0.02680273047
             ],
             "passed_time": 38.9075273,
             "remaining_time": 0.7940311695,
             "test": [
              0.02665689244
             ]
            },
            {
             "iteration": 98,
             "learn": [
              0.02610687502
             ],
             "passed_time": 39.3013095,
             "remaining_time": 0.3969829242,
             "test": [
              0.02585944594
             ]
            },
            {
             "iteration": 99,
             "learn": [
              0.02524560775
             ],
             "passed_time": 39.66656482,
             "remaining_time": 0,
             "test": [
              0.02508677237
             ]
            }
           ],
           "meta": {
            "iteration_count": 100,
            "launch_mode": "Train",
            "learn_metrics": [
             {
              "best_value": "Min",
              "name": "CrossEntropy"
             }
            ],
            "learn_sets": [
             "learn"
            ],
            "name": "experiment",
            "parameters": "",
            "test_metrics": [
             {
              "best_value": "Min",
              "name": "CrossEntropy"
             }
            ],
            "test_sets": [
             "test"
            ]
           }
          },
          "passed_iterations": 99,
          "total_iterations": 100
         },
         "name": "catboost_info",
         "path": "catboost_info"
        }
       },
       "layout": "IPY_MODEL_0481f2fccee24b4aaac9988fac9fb899"
      }
     },
     "6b71d7bf24924ba38c14a7340f3005ad": {
      "model_module": "catboost-widget",
      "model_module_version": "^1.0.0",
      "model_name": "CatboostWidgetModel",
      "state": {
       "_dom_classes": [],
       "_model_module": "catboost-widget",
       "_model_module_version": "^1.0.0",
       "_model_name": "CatboostWidgetModel",
       "_view_count": null,
       "_view_module": "catboost-widget",
       "_view_module_version": "^1.0.0",
       "_view_name": "CatboostWidgetView",
       "data": {
        "catboost_info": {
         "content": {
          "data": {
           "iterations": [
            {
             "iteration": 0,
             "learn": [
              0.6613814314
             ],
             "passed_time": 0.3990860776,
             "remaining_time": 39.50952168,
             "test": [
              0.6636000284
             ]
            },
            {
             "iteration": 1,
             "learn": [
              0.6362966949
             ],
             "passed_time": 0.8516252129,
             "remaining_time": 41.72963543,
             "test": [
              0.6357739123
             ]
            },
            {
             "iteration": 2,
             "learn": [
              0.6093777468
             ],
             "passed_time": 1.242754428,
             "remaining_time": 40.18239317,
             "test": [
              0.609521147
             ]
            },
            {
             "iteration": 3,
             "learn": [
              0.5837177766
             ],
             "passed_time": 1.619236564,
             "remaining_time": 38.86167754,
             "test": [
              0.5847141106
             ]
            },
            {
             "iteration": 4,
             "learn": [
              0.562193429
             ],
             "passed_time": 2.104762537,
             "remaining_time": 39.9904882,
             "test": [
              0.5612391642
             ]
            },
            {
             "iteration": 5,
             "learn": [
              0.5376492004
             ],
             "passed_time": 2.566898113,
             "remaining_time": 40.21473711,
             "test": [
              0.5389933282
             ]
            },
            {
             "iteration": 6,
             "learn": [
              0.5168858844
             ],
             "passed_time": 2.983652689,
             "remaining_time": 39.63995715,
             "test": [
              0.5178879267
             ]
            },
            {
             "iteration": 7,
             "learn": [
              0.4986870591
             ],
             "passed_time": 3.35445813,
             "remaining_time": 38.57626849,
             "test": [
              0.4978397533
             ]
            },
            {
             "iteration": 8,
             "learn": [
              0.4785298019
             ],
             "passed_time": 3.765068218,
             "remaining_time": 38.0690231,
             "test": [
              0.4787760662
             ]
            },
            {
             "iteration": 9,
             "learn": [
              0.4605841512
             ],
             "passed_time": 4.193225297,
             "remaining_time": 37.73902767,
             "test": [
              0.4606320337
             ]
            },
            {
             "iteration": 10,
             "learn": [
              0.44382923
             ],
             "passed_time": 4.532548604,
             "remaining_time": 36.6724387,
             "test": [
              0.4433434654
             ]
            },
            {
             "iteration": 11,
             "learn": [
              0.4280567203
             ],
             "passed_time": 5.007126837,
             "remaining_time": 36.71893014,
             "test": [
              0.4268581703
             ]
            },
            {
             "iteration": 12,
             "learn": [
              0.4121251966
             ],
             "passed_time": 5.463800494,
             "remaining_time": 36.56543408,
             "test": [
              0.4111260295
             ]
            },
            {
             "iteration": 13,
             "learn": [
              0.3967820068
             ],
             "passed_time": 5.877188484,
             "remaining_time": 36.10272926,
             "test": [
              0.3961001558
             ]
            },
            {
             "iteration": 14,
             "learn": [
              0.3823978811
             ],
             "passed_time": 6.285957041,
             "remaining_time": 35.62042323,
             "test": [
              0.3817393316
             ]
            },
            {
             "iteration": 15,
             "learn": [
              0.3673383619
             ],
             "passed_time": 6.62919601,
             "remaining_time": 34.80327905,
             "test": [
              0.3680054451
             ]
            },
            {
             "iteration": 16,
             "learn": [
              0.3538835861
             ],
             "passed_time": 7.053673411,
             "remaining_time": 34.43852313,
             "test": [
              0.3548607448
             ]
            },
            {
             "iteration": 17,
             "learn": [
              0.3431788891
             ],
             "passed_time": 7.473499147,
             "remaining_time": 34.04594056,
             "test": [
              0.3422733383
             ]
            },
            {
             "iteration": 18,
             "learn": [
              0.3300940035
             ],
             "passed_time": 7.912503305,
             "remaining_time": 33.73225093,
             "test": [
              0.330213951
             ]
            },
            {
             "iteration": 19,
             "learn": [
              0.3196817821
             ],
             "passed_time": 8.315299592,
             "remaining_time": 33.26119837,
             "test": [
              0.318652318
             ]
            },
            {
             "iteration": 20,
             "learn": [
              0.306976525
             ],
             "passed_time": 8.769458583,
             "remaining_time": 32.989868,
             "test": [
              0.3075643083
             ]
            },
            {
             "iteration": 21,
             "learn": [
              0.2968895953
             ],
             "passed_time": 9.199135259,
             "remaining_time": 32.61511592,
             "test": [
              0.2969239034
             ]
            },
            {
             "iteration": 22,
             "learn": [
              0.2867791283
             ],
             "passed_time": 9.645746627,
             "remaining_time": 32.29228219,
             "test": [
              0.2867103165
             ]
            },
            {
             "iteration": 23,
             "learn": [
              0.2765028589
             ],
             "passed_time": 10.06654588,
             "remaining_time": 31.87739527,
             "test": [
              0.2768986849
             ]
            },
            {
             "iteration": 24,
             "learn": [
              0.2664612515
             ],
             "passed_time": 10.51596603,
             "remaining_time": 31.5478981,
             "test": [
              0.2674713225
             ]
            },
            {
             "iteration": 25,
             "learn": [
              0.2579886471
             ],
             "passed_time": 10.88054622,
             "remaining_time": 30.96770846,
             "test": [
              0.2584099577
             ]
            },
            {
             "iteration": 26,
             "learn": [
              0.2499727499
             ],
             "passed_time": 11.3049616,
             "remaining_time": 30.56526655,
             "test": [
              0.2496972985
             ]
            },
            {
             "iteration": 27,
             "learn": [
              0.2419826052
             ],
             "passed_time": 11.70249057,
             "remaining_time": 30.0921186,
             "test": [
              0.2413161345
             ]
            },
            {
             "iteration": 28,
             "learn": [
              0.233686693
             ],
             "passed_time": 12.1252123,
             "remaining_time": 29.68586459,
             "test": [
              0.2332515556
             ]
            },
            {
             "iteration": 29,
             "learn": [
              0.2258552419
             ],
             "passed_time": 12.57511429,
             "remaining_time": 29.34193334,
             "test": [
              0.2254903194
             ]
            },
            {
             "iteration": 30,
             "learn": [
              0.2185348117
             ],
             "passed_time": 13.00542582,
             "remaining_time": 28.94756069,
             "test": [
              0.2180162955
             ]
            },
            {
             "iteration": 31,
             "learn": [
              0.2109421167
             ],
             "passed_time": 13.39228042,
             "remaining_time": 28.4585959,
             "test": [
              0.2108179745
             ]
            },
            {
             "iteration": 32,
             "learn": [
              0.2033628698
             ],
             "passed_time": 13.78091665,
             "remaining_time": 27.97943684,
             "test": [
              0.2038831807
             ]
            },
            {
             "iteration": 33,
             "learn": [
              0.1964495253
             ],
             "passed_time": 14.2689573,
             "remaining_time": 27.69856418,
             "test": [
              0.1972011162
             ]
            },
            {
             "iteration": 34,
             "learn": [
              0.1911843887
             ],
             "passed_time": 14.66642172,
             "remaining_time": 27.23764033,
             "test": [
              0.1907604658
             ]
            },
            {
             "iteration": 35,
             "learn": [
              0.1839118239
             ],
             "passed_time": 15.05934408,
             "remaining_time": 26.77216725,
             "test": [
              0.1845505409
             ]
            },
            {
             "iteration": 36,
             "learn": [
              0.1787713158
             ],
             "passed_time": 15.48363803,
             "remaining_time": 26.36403232,
             "test": [
              0.1785616953
             ]
            },
            {
             "iteration": 37,
             "learn": [
              0.1722006109
             ],
             "passed_time": 15.93566191,
             "remaining_time": 26.00029049,
             "test": [
              0.1727857236
             ]
            },
            {
             "iteration": 38,
             "learn": [
              0.1676815944
             ],
             "passed_time": 16.35596851,
             "remaining_time": 25.58241229,
             "test": [
              0.1672128924
             ]
            },
            {
             "iteration": 39,
             "learn": [
              0.1614404585
             ],
             "passed_time": 16.70285844,
             "remaining_time": 25.05428765,
             "test": [
              0.1618353215
             ]
            },
            {
             "iteration": 40,
             "learn": [
              0.1563409288
             ],
             "passed_time": 17.14733874,
             "remaining_time": 24.67543868,
             "test": [
              0.1566448822
             ]
            },
            {
             "iteration": 41,
             "learn": [
              0.1520300339
             ],
             "passed_time": 17.61077365,
             "remaining_time": 24.3196398,
             "test": [
              0.1516343433
             ]
            },
            {
             "iteration": 42,
             "learn": [
              0.1470202729
             ],
             "passed_time": 18.09068221,
             "remaining_time": 23.98067177,
             "test": [
              0.1467969243
             ]
            },
            {
             "iteration": 43,
             "learn": [
              0.1418788496
             ],
             "passed_time": 18.48544578,
             "remaining_time": 23.52693099,
             "test": [
              0.1421253789
             ]
            },
            {
             "iteration": 44,
             "learn": [
              0.1371213711
             ],
             "passed_time": 18.93222634,
             "remaining_time": 23.13938775,
             "test": [
              0.137613574
             ]
            },
            {
             "iteration": 45,
             "learn": [
              0.1329220688
             ],
             "passed_time": 19.39418982,
             "remaining_time": 22.7670924,
             "test": [
              0.1332545613
             ]
            },
            {
             "iteration": 46,
             "learn": [
              0.1289326739
             ],
             "passed_time": 19.81594444,
             "remaining_time": 22.34563947,
             "test": [
              0.1290428029
             ]
            },
            {
             "iteration": 47,
             "learn": [
              0.1250069369
             ],
             "passed_time": 20.35306853,
             "remaining_time": 22.04915758,
             "test": [
              0.1249732953
             ]
            },
            {
             "iteration": 48,
             "learn": [
              0.1210975919
             ],
             "passed_time": 20.92297589,
             "remaining_time": 21.77697491,
             "test": [
              0.1210406005
             ]
            },
            {
             "iteration": 49,
             "learn": [
              0.1172114693
             ],
             "passed_time": 21.55558928,
             "remaining_time": 21.55558928,
             "test": [
              0.1172391805
             ]
            },
            {
             "iteration": 50,
             "learn": [
              0.1133366558
             ],
             "passed_time": 22.19848866,
             "remaining_time": 21.32795969,
             "test": [
              0.1135638961
             ]
            },
            {
             "iteration": 51,
             "learn": [
              0.1097726423
             ],
             "passed_time": 22.90996195,
             "remaining_time": 21.14765719,
             "test": [
              0.1100108485
             ]
            },
            {
             "iteration": 52,
             "learn": [
              0.106943996
             ],
             "passed_time": 23.36602129,
             "remaining_time": 20.72081133,
             "test": [
              0.1065750839
             ]
            },
            {
             "iteration": 53,
             "learn": [
              0.103422999
             ],
             "passed_time": 23.94707111,
             "remaining_time": 20.39935688,
             "test": [
              0.1032523496
             ]
            },
            {
             "iteration": 54,
             "learn": [
              0.09974837552
             ],
             "passed_time": 24.46823359,
             "remaining_time": 20.01946385,
             "test": [
              0.1000389259
             ]
            },
            {
             "iteration": 55,
             "learn": [
              0.09715540824
             ],
             "passed_time": 24.90249371,
             "remaining_time": 19.56624506,
             "test": [
              0.09693021328
             ]
            },
            {
             "iteration": 56,
             "learn": [
              0.09378550814
             ],
             "passed_time": 25.37822039,
             "remaining_time": 19.14497328,
             "test": [
              0.09392375033
             ]
            },
            {
             "iteration": 57,
             "learn": [
              0.09124229276
             ],
             "passed_time": 25.8703507,
             "remaining_time": 18.73370223,
             "test": [
              0.09101420544
             ]
            },
            {
             "iteration": 58,
             "learn": [
              0.08796118365
             ],
             "passed_time": 26.41221342,
             "remaining_time": 18.35425,
             "test": [
              0.08819909969
             ]
            },
            {
             "iteration": 59,
             "learn": [
              0.08549307159
             ],
             "passed_time": 26.9265482,
             "remaining_time": 17.95103213,
             "test": [
              0.08547549818
             ]
            },
            {
             "iteration": 60,
             "learn": [
              0.08259702775
             ],
             "passed_time": 27.50965335,
             "remaining_time": 17.58813903,
             "test": [
              0.08283913921
             ]
            },
            {
             "iteration": 61,
             "learn": [
              0.08012372302
             ],
             "passed_time": 27.9963493,
             "remaining_time": 17.1590528,
             "test": [
              0.08028793165
             ]
            },
            {
             "iteration": 62,
             "learn": [
              0.07799249019
             ],
             "passed_time": 28.58220128,
             "remaining_time": 16.78637218,
             "test": [
              0.07781820369
             ]
            },
            {
             "iteration": 63,
             "learn": [
              0.07551229581
             ],
             "passed_time": 29.06844897,
             "remaining_time": 16.35100254,
             "test": [
              0.07542741166
             ]
            },
            {
             "iteration": 64,
             "learn": [
              0.07298444601
             ],
             "passed_time": 29.57055699,
             "remaining_time": 15.92260761,
             "test": [
              0.07311329999
             ]
            },
            {
             "iteration": 65,
             "learn": [
              0.07060475398
             ],
             "passed_time": 30.0758409,
             "remaining_time": 15.49361501,
             "test": [
              0.07087238487
             ]
            },
            {
             "iteration": 66,
             "learn": [
              0.06847124785
             ],
             "passed_time": 30.54450186,
             "remaining_time": 15.04430689,
             "test": [
              0.06870247873
             ]
            },
            {
             "iteration": 67,
             "learn": [
              0.06645478189
             ],
             "passed_time": 31.12564547,
             "remaining_time": 14.64736258,
             "test": [
              0.06660145334
             ]
            },
            {
             "iteration": 68,
             "learn": [
              0.06448764713
             ],
             "passed_time": 31.71661869,
             "remaining_time": 14.24949536,
             "test": [
              0.06456710198
             ]
            },
            {
             "iteration": 69,
             "learn": [
              0.06253410154
             ],
             "passed_time": 32.23459466,
             "remaining_time": 13.81482628,
             "test": [
              0.0625967178
             ]
            },
            {
             "iteration": 70,
             "learn": [
              0.06058572093
             ],
             "passed_time": 32.72617745,
             "remaining_time": 13.36703023,
             "test": [
              0.06068831474
             ]
            },
            {
             "iteration": 71,
             "learn": [
              0.05867610513
             ],
             "passed_time": 33.21148091,
             "remaining_time": 12.91557591,
             "test": [
              0.05884009178
             ]
            },
            {
             "iteration": 72,
             "learn": [
              0.05686885943
             ],
             "passed_time": 33.69214104,
             "remaining_time": 12.46147682,
             "test": [
              0.05704985788
             ]
            },
            {
             "iteration": 73,
             "learn": [
              0.05545448537
             ],
             "passed_time": 34.096685,
             "remaining_time": 11.97991635,
             "test": [
              0.05531536624
             ]
            },
            {
             "iteration": 74,
             "learn": [
              0.0536986088
             ],
             "passed_time": 34.5303217,
             "remaining_time": 11.51010723,
             "test": [
              0.05363554038
             ]
            },
            {
             "iteration": 75,
             "learn": [
              0.05184940494
             ],
             "passed_time": 34.93930002,
             "remaining_time": 11.03346316,
             "test": [
              0.05200797516
             ]
            },
            {
             "iteration": 76,
             "learn": [
              0.05055563926
             ],
             "passed_time": 35.37350777,
             "remaining_time": 10.56611271,
             "test": [
              0.0504311558
             ]
            },
            {
             "iteration": 77,
             "learn": [
              0.04886457639
             ],
             "passed_time": 35.78757865,
             "remaining_time": 10.09393244,
             "test": [
              0.04890321401
             ]
            },
            {
             "iteration": 78,
             "learn": [
              0.04728517765
             ],
             "passed_time": 36.16453955,
             "remaining_time": 9.613358616,
             "test": [
              0.04742282606
             ]
            },
            {
             "iteration": 79,
             "learn": [
              0.04593680108
             ],
             "passed_time": 36.53364203,
             "remaining_time": 9.133410507,
             "test": [
              0.04598833881
             ]
            },
            {
             "iteration": 80,
             "learn": [
              0.04467510848
             ],
             "passed_time": 36.8823521,
             "remaining_time": 8.651415925,
             "test": [
              0.04459868941
             ]
            },
            {
             "iteration": 81,
             "learn": [
              0.04309449257
             ],
             "passed_time": 37.33618085,
             "remaining_time": 8.195747015,
             "test": [
              0.0432517563
             ]
            },
            {
             "iteration": 82,
             "learn": [
              0.04198256685
             ],
             "passed_time": 37.70705573,
             "remaining_time": 7.723131896,
             "test": [
              0.04194638976
             ]
            },
            {
             "iteration": 83,
             "learn": [
              0.04074142642
             ],
             "passed_time": 38.06212119,
             "remaining_time": 7.249927845,
             "test": [
              0.04068119436
             ]
            },
            {
             "iteration": 84,
             "learn": [
              0.03937805901
             ],
             "passed_time": 38.47892772,
             "remaining_time": 6.790399009,
             "test": [
              0.03945595006
             ]
            },
            {
             "iteration": 85,
             "learn": [
              0.03815544678
             ],
             "passed_time": 38.84212822,
             "remaining_time": 6.323137152,
             "test": [
              0.03826721123
             ]
            },
            {
             "iteration": 86,
             "learn": [
              0.03713524191
             ],
             "passed_time": 39.31413516,
             "remaining_time": 5.874525943,
             "test": [
              0.03711566702
             ]
            },
            {
             "iteration": 87,
             "learn": [
              0.03608451827
             ],
             "passed_time": 39.69939616,
             "remaining_time": 5.413554022,
             "test": [
              0.03599901581
             ]
            },
            {
             "iteration": 88,
             "learn": [
              0.03490421275
             ],
             "passed_time": 40.12898409,
             "remaining_time": 4.959762079,
             "test": [
              0.03491696065
             ]
            },
            {
             "iteration": 89,
             "learn": [
              0.03385492826
             ],
             "passed_time": 40.61324387,
             "remaining_time": 4.512582652,
             "test": [
              0.03386784374
             ]
            },
            {
             "iteration": 90,
             "learn": [
              0.03284958661
             ],
             "passed_time": 41.01500769,
             "remaining_time": 4.056429332,
             "test": [
              0.03285093716
             ]
            },
            {
             "iteration": 91,
             "learn": [
              0.03185905796
             ],
             "passed_time": 41.5439105,
             "remaining_time": 3.612513956,
             "test": [
              0.03186551268
             ]
            },
            {
             "iteration": 92,
             "learn": [
              0.03088218663
             ],
             "passed_time": 41.96872221,
             "remaining_time": 3.15893608,
             "test": [
              0.03090946434
             ]
            },
            {
             "iteration": 93,
             "learn": [
              0.02994394948
             ],
             "passed_time": 42.38289007,
             "remaining_time": 2.705290856,
             "test": [
              0.02998256884
             ]
            },
            {
             "iteration": 94,
             "learn": [
              0.02902697408
             ],
             "passed_time": 42.78291522,
             "remaining_time": 2.25173238,
             "test": [
              0.02908401054
             ]
            },
            {
             "iteration": 95,
             "learn": [
              0.02826888787
             ],
             "passed_time": 43.23153249,
             "remaining_time": 1.801313854,
             "test": [
              0.02821371123
             ]
            },
            {
             "iteration": 96,
             "learn": [
              0.02738225556
             ],
             "passed_time": 43.64560496,
             "remaining_time": 1.349864071,
             "test": [
              0.02736911705
             ]
            },
            {
             "iteration": 97,
             "learn": [
              0.02647077042
             ],
             "passed_time": 44.06373721,
             "remaining_time": 0.8992599431,
             "test": [
              0.02654988896
             ]
            },
            {
             "iteration": 98,
             "learn": [
              0.02580684288
             ],
             "passed_time": 44.50849626,
             "remaining_time": 0.4495807703,
             "test": [
              0.02575551919
             ]
            },
            {
             "iteration": 99,
             "learn": [
              0.02495219563
             ],
             "passed_time": 44.93552304,
             "remaining_time": 0,
             "test": [
              0.02498522589
             ]
            }
           ],
           "meta": {
            "iteration_count": 100,
            "launch_mode": "Train",
            "learn_metrics": [
             {
              "best_value": "Min",
              "name": "CrossEntropy"
             }
            ],
            "learn_sets": [
             "learn"
            ],
            "name": "experiment",
            "parameters": "",
            "test_metrics": [
             {
              "best_value": "Min",
              "name": "CrossEntropy"
             }
            ],
            "test_sets": [
             "test"
            ]
           }
          },
          "passed_iterations": 99,
          "total_iterations": 100
         },
         "name": "catboost_info",
         "path": "catboost_info"
        }
       },
       "layout": "IPY_MODEL_a58298f5fb2f4ad29e93e7f7a87f9123"
      }
     },
     "6d708e56d6d64d6fbe40ba52790a1586": {
      "model_module": "catboost-widget",
      "model_module_version": "^1.0.0",
      "model_name": "CatboostWidgetModel",
      "state": {
       "_dom_classes": [],
       "_model_module": "catboost-widget",
       "_model_module_version": "^1.0.0",
       "_model_name": "CatboostWidgetModel",
       "_view_count": null,
       "_view_module": "catboost-widget",
       "_view_module_version": "^1.0.0",
       "_view_name": "CatboostWidgetView",
       "data": {
        "catboost_info": {
         "content": {
          "data": {
           "iterations": [
            {
             "iteration": 0,
             "learn": [
              0.6621164786
             ],
             "passed_time": 0.3739131285,
             "remaining_time": 37.01739972,
             "test": [
              0.6647065134
             ]
            },
            {
             "iteration": 1,
             "learn": [
              0.6378704686
             ],
             "passed_time": 0.743140014,
             "remaining_time": 36.41386069,
             "test": [
              0.6375918129
             ]
            },
            {
             "iteration": 2,
             "learn": [
              0.6112302156
             ],
             "passed_time": 1.103005787,
             "remaining_time": 35.66385378,
             "test": [
              0.6120595465
             ]
            },
            {
             "iteration": 3,
             "learn": [
              0.5866274096
             ],
             "passed_time": 1.45276392,
             "remaining_time": 34.86633409,
             "test": [
              0.5879438098
             ]
            },
            {
             "iteration": 4,
             "learn": [
              0.5649682489
             ],
             "passed_time": 1.815928606,
             "remaining_time": 34.50264352,
             "test": [
              0.5651104143
             ]
            },
            {
             "iteration": 5,
             "learn": [
              0.5430964212
             ],
             "passed_time": 2.169968329,
             "remaining_time": 33.99617049,
             "test": [
              0.5433909408
             ]
            },
            {
             "iteration": 6,
             "learn": [
              0.5210830787
             ],
             "passed_time": 2.541574472,
             "remaining_time": 33.76663227,
             "test": [
              0.5228612018
             ]
            },
            {
             "iteration": 7,
             "learn": [
              0.5032903105
             ],
             "passed_time": 2.891869503,
             "remaining_time": 33.25649928,
             "test": [
              0.5034683799
             ]
            },
            {
             "iteration": 8,
             "learn": [
              0.4839130063
             ],
             "passed_time": 3.241644592,
             "remaining_time": 32.77662865,
             "test": [
              0.4849473503
             ]
            },
            {
             "iteration": 9,
             "learn": [
              0.4663048228
             ],
             "passed_time": 3.593159977,
             "remaining_time": 32.33843979,
             "test": [
              0.4671906278
             ]
            },
            {
             "iteration": 10,
             "learn": [
              0.4499543686
             ],
             "passed_time": 3.898760042,
             "remaining_time": 31.54451307,
             "test": [
              0.4506559068
             ]
            },
            {
             "iteration": 11,
             "learn": [
              0.4339380507
             ],
             "passed_time": 4.321322822,
             "remaining_time": 31.68970069,
             "test": [
              0.4348983514
             ]
            },
            {
             "iteration": 12,
             "learn": [
              0.4186359239
             ],
             "passed_time": 4.780816783,
             "remaining_time": 31.99469693,
             "test": [
              0.4196976438
             ]
            },
            {
             "iteration": 13,
             "learn": [
              0.4038370078
             ],
             "passed_time": 5.272929606,
             "remaining_time": 32.39085329,
             "test": [
              0.4050410899
             ]
            },
            {
             "iteration": 14,
             "learn": [
              0.3892825849
             ],
             "passed_time": 5.630133308,
             "remaining_time": 31.90408874,
             "test": [
              0.3912635735
             ]
            },
            {
             "iteration": 15,
             "learn": [
              0.375734459
             ],
             "passed_time": 5.972025506,
             "remaining_time": 31.35313391,
             "test": [
              0.3781153762
             ]
            },
            {
             "iteration": 16,
             "learn": [
              0.3635456974
             ],
             "passed_time": 6.325413452,
             "remaining_time": 30.88290097,
             "test": [
              0.3650820791
             ]
            },
            {
             "iteration": 17,
             "learn": [
              0.3508514453
             ],
             "passed_time": 6.725318115,
             "remaining_time": 30.6375603,
             "test": [
              0.3526776716
             ]
            },
            {
             "iteration": 18,
             "learn": [
              0.3389197738
             ],
             "passed_time": 7.101496172,
             "remaining_time": 30.27479947,
             "test": [
              0.3408801425
             ]
            },
            {
             "iteration": 19,
             "learn": [
              0.3278122778
             ],
             "passed_time": 7.431201235,
             "remaining_time": 29.72480494,
             "test": [
              0.3298432644
             ]
            },
            {
             "iteration": 20,
             "learn": [
              0.3168386455
             ],
             "passed_time": 7.817113992,
             "remaining_time": 29.40723835,
             "test": [
              0.3188815347
             ]
            },
            {
             "iteration": 21,
             "learn": [
              0.3061679756
             ],
             "passed_time": 8.170352407,
             "remaining_time": 28.96761308,
             "test": [
              0.3085026137
             ]
            },
            {
             "iteration": 22,
             "learn": [
              0.2967816606
             ],
             "passed_time": 8.545072409,
             "remaining_time": 28.60741632,
             "test": [
              0.2986013974
             ]
            },
            {
             "iteration": 23,
             "learn": [
              0.287104488
             ],
             "passed_time": 8.849546216,
             "remaining_time": 28.02356302,
             "test": [
              0.2892435859
             ]
            },
            {
             "iteration": 24,
             "learn": [
              0.2777798766
             ],
             "passed_time": 9.197829944,
             "remaining_time": 27.59348983,
             "test": [
              0.2799658797
             ]
            },
            {
             "iteration": 25,
             "learn": [
              0.2685507178
             ],
             "passed_time": 9.586463684,
             "remaining_time": 27.28455048,
             "test": [
              0.2709306802
             ]
            },
            {
             "iteration": 26,
             "learn": [
              0.2600820303
             ],
             "passed_time": 9.896211922,
             "remaining_time": 26.75642483,
             "test": [
              0.2626585516
             ]
            },
            {
             "iteration": 27,
             "learn": [
              0.2519985165
             ],
             "passed_time": 10.20268326,
             "remaining_time": 26.23547124,
             "test": [
              0.2546369802
             ]
            },
            {
             "iteration": 28,
             "learn": [
              0.2440593903
             ],
             "passed_time": 10.58352112,
             "remaining_time": 25.91137929,
             "test": [
              0.2465792831
             ]
            },
            {
             "iteration": 29,
             "learn": [
              0.2365014692
             ],
             "passed_time": 10.88606967,
             "remaining_time": 25.40082924,
             "test": [
              0.2392403016
             ]
            },
            {
             "iteration": 30,
             "learn": [
              0.2292696608
             ],
             "passed_time": 11.20527996,
             "remaining_time": 24.94078443,
             "test": [
              0.2320091842
             ]
            },
            {
             "iteration": 31,
             "learn": [
              0.2222038391
             ],
             "passed_time": 11.61866131,
             "remaining_time": 24.68965528,
             "test": [
              0.2248120548
             ]
            },
            {
             "iteration": 32,
             "learn": [
              0.2155965413
             ],
             "passed_time": 11.97763289,
             "remaining_time": 24.31822436,
             "test": [
              0.2180051281
             ]
            },
            {
             "iteration": 33,
             "learn": [
              0.208932512
             ],
             "passed_time": 12.40166131,
             "remaining_time": 24.07381312,
             "test": [
              0.2113724072
             ]
            },
            {
             "iteration": 34,
             "learn": [
              0.2024299193
             ],
             "passed_time": 12.78361811,
             "remaining_time": 23.74100506,
             "test": [
              0.2048753015
             ]
            },
            {
             "iteration": 35,
             "learn": [
              0.1963724159
             ],
             "passed_time": 13.16389072,
             "remaining_time": 23.4024724,
             "test": [
              0.1985942091
             ]
            },
            {
             "iteration": 36,
             "learn": [
              0.1903864133
             ],
             "passed_time": 13.52722344,
             "remaining_time": 23.0328399,
             "test": [
              0.19270584
             ]
            },
            {
             "iteration": 37,
             "learn": [
              0.1847516806
             ],
             "passed_time": 13.91085577,
             "remaining_time": 22.69665942,
             "test": [
              0.186821335
             ]
            },
            {
             "iteration": 38,
             "learn": [
              0.1790139424
             ],
             "passed_time": 14.28373739,
             "remaining_time": 22.34123028,
             "test": [
              0.1811729893
             ]
            },
            {
             "iteration": 39,
             "learn": [
              0.1739460793
             ],
             "passed_time": 14.61058065,
             "remaining_time": 21.91587097,
             "test": [
              0.1760606407
             ]
            },
            {
             "iteration": 40,
             "learn": [
              0.1686799319
             ],
             "passed_time": 15.00427373,
             "remaining_time": 21.59151585,
             "test": [
              0.1707903909
             ]
            },
            {
             "iteration": 41,
             "learn": [
              0.1636412381
             ],
             "passed_time": 15.38836357,
             "remaining_time": 21.25059731,
             "test": [
              0.1657649967
             ]
            },
            {
             "iteration": 42,
             "learn": [
              0.159012491
             ],
             "passed_time": 15.73933404,
             "remaining_time": 20.86376838,
             "test": [
              0.1610333022
             ]
            },
            {
             "iteration": 43,
             "learn": [
              0.1543620362
             ],
             "passed_time": 16.17021806,
             "remaining_time": 20.58027753,
             "test": [
              0.1564516298
             ]
            },
            {
             "iteration": 44,
             "learn": [
              0.1500158187
             ],
             "passed_time": 16.58059243,
             "remaining_time": 20.26516852,
             "test": [
              0.1521212833
             ]
            },
            {
             "iteration": 45,
             "learn": [
              0.1454858033
             ],
             "passed_time": 16.94433422,
             "remaining_time": 19.89117496,
             "test": [
              0.1477152226
             ]
            },
            {
             "iteration": 46,
             "learn": [
              0.1413436
             ],
             "passed_time": 17.27393691,
             "remaining_time": 19.47912034,
             "test": [
              0.1435024754
             ]
            },
            {
             "iteration": 47,
             "learn": [
              0.1373362661
             ],
             "passed_time": 17.70795968,
             "remaining_time": 19.18362298,
             "test": [
              0.1394413519
             ]
            },
            {
             "iteration": 48,
             "learn": [
              0.133520489
             ],
             "passed_time": 18.03397999,
             "remaining_time": 18.77006081,
             "test": [
              0.1356147254
             ]
            },
            {
             "iteration": 49,
             "learn": [
              0.1297321186
             ],
             "passed_time": 18.40126961,
             "remaining_time": 18.40126961,
             "test": [
              0.1319022344
             ]
            },
            {
             "iteration": 50,
             "learn": [
              0.1261338252
             ],
             "passed_time": 18.73806694,
             "remaining_time": 18.00324079,
             "test": [
              0.1284062892
             ]
            },
            {
             "iteration": 51,
             "learn": [
              0.1226917834
             ],
             "passed_time": 19.05156089,
             "remaining_time": 17.5860562,
             "test": [
              0.1249839933
             ]
            },
            {
             "iteration": 52,
             "learn": [
              0.1193526421
             ],
             "passed_time": 19.35851206,
             "remaining_time": 17.16698239,
             "test": [
              0.1216523377
             ]
            },
            {
             "iteration": 53,
             "learn": [
              0.1160143979
             ],
             "passed_time": 19.76421156,
             "remaining_time": 16.83618022,
             "test": [
              0.1181420895
             ]
            },
            {
             "iteration": 54,
             "learn": [
              0.112683126
             ],
             "passed_time": 20.11685884,
             "remaining_time": 16.45924814,
             "test": [
              0.1148623711
             ]
            },
            {
             "iteration": 55,
             "learn": [
              0.1097062799
             ],
             "passed_time": 20.45303912,
             "remaining_time": 16.07024502,
             "test": [
              0.1119105618
             ]
            },
            {
             "iteration": 56,
             "learn": [
              0.1068440325
             ],
             "passed_time": 20.82567952,
             "remaining_time": 15.71060034,
             "test": [
              0.1089047271
             ]
            },
            {
             "iteration": 57,
             "learn": [
              0.1038077735
             ],
             "passed_time": 21.22074576,
             "remaining_time": 15.36674693,
             "test": [
              0.1059632572
             ]
            },
            {
             "iteration": 58,
             "learn": [
              0.101002746
             ],
             "passed_time": 21.63371202,
             "remaining_time": 15.03359649,
             "test": [
              0.1030886707
             ]
            },
            {
             "iteration": 59,
             "learn": [
              0.09817977943
             ],
             "passed_time": 22.05856858,
             "remaining_time": 14.70571238,
             "test": [
              0.100287569
             ]
            },
            {
             "iteration": 60,
             "learn": [
              0.09557940364
             ],
             "passed_time": 22.36627551,
             "remaining_time": 14.29974992,
             "test": [
              0.09761354416
             ]
            },
            {
             "iteration": 61,
             "learn": [
              0.09305361693
             ],
             "passed_time": 22.69498559,
             "remaining_time": 13.90982988,
             "test": [
              0.09505636223
             ]
            },
            {
             "iteration": 62,
             "learn": [
              0.09047782049
             ],
             "passed_time": 23.109397,
             "remaining_time": 13.57218554,
             "test": [
              0.09250903176
             ]
            },
            {
             "iteration": 63,
             "learn": [
              0.08804545314
             ],
             "passed_time": 23.45078577,
             "remaining_time": 13.19106699,
             "test": [
              0.09006844913
             ]
            },
            {
             "iteration": 64,
             "learn": [
              0.08569886954
             ],
             "passed_time": 23.85456787,
             "remaining_time": 12.84476731,
             "test": [
              0.08763176484
             ]
            },
            {
             "iteration": 65,
             "learn": [
              0.08350550353
             ],
             "passed_time": 24.16176684,
             "remaining_time": 12.4469708,
             "test": [
              0.08538623379
             ]
            },
            {
             "iteration": 66,
             "learn": [
              0.08140880876
             ],
             "passed_time": 24.5364001,
             "remaining_time": 12.08509259,
             "test": [
              0.08319605588
             ]
            },
            {
             "iteration": 67,
             "learn": [
              0.07927699459
             ],
             "passed_time": 24.87597498,
             "remaining_time": 11.70634117,
             "test": [
              0.0811005925
             ]
            },
            {
             "iteration": 68,
             "learn": [
              0.07719817344
             ],
             "passed_time": 25.21085517,
             "remaining_time": 11.32661609,
             "test": [
              0.07898791142
             ]
            },
            {
             "iteration": 69,
             "learn": [
              0.07518076508
             ],
             "passed_time": 25.54744439,
             "remaining_time": 10.94890474,
             "test": [
              0.07695528857
             ]
            },
            {
             "iteration": 70,
             "learn": [
              0.07317222227
             ],
             "passed_time": 25.93587735,
             "remaining_time": 10.59352737,
             "test": [
              0.07489496778
             ]
            },
            {
             "iteration": 71,
             "learn": [
              0.0712333615
             ],
             "passed_time": 26.33926958,
             "remaining_time": 10.24304928,
             "test": [
              0.07296487647
             ]
            },
            {
             "iteration": 72,
             "learn": [
              0.06943252583
             ],
             "passed_time": 26.76221908,
             "remaining_time": 9.898355003,
             "test": [
              0.07107693187
             ]
            },
            {
             "iteration": 73,
             "learn": [
              0.06778283125
             ],
             "passed_time": 27.13449552,
             "remaining_time": 9.53374167,
             "test": [
              0.0693687565
             ]
            },
            {
             "iteration": 74,
             "learn": [
              0.06603010125
             ],
             "passed_time": 27.54920754,
             "remaining_time": 9.183069179,
             "test": [
              0.06760010584
             ]
            },
            {
             "iteration": 75,
             "learn": [
              0.06432349125
             ],
             "passed_time": 27.93564804,
             "remaining_time": 8.821783592,
             "test": [
              0.06562836199
             ]
            },
            {
             "iteration": 76,
             "learn": [
              0.06266719114
             ],
             "passed_time": 28.33376147,
             "remaining_time": 8.463331347,
             "test": [
              0.06391312491
             ]
            },
            {
             "iteration": 77,
             "learn": [
              0.06117054033
             ],
             "passed_time": 28.79873722,
             "remaining_time": 8.122720754,
             "test": [
              0.06241181407
             ]
            },
            {
             "iteration": 78,
             "learn": [
              0.05971756263
             ],
             "passed_time": 29.17484671,
             "remaining_time": 7.755338999,
             "test": [
              0.06088231032
             ]
            },
            {
             "iteration": 79,
             "learn": [
              0.05828234857
             ],
             "passed_time": 29.59493622,
             "remaining_time": 7.398734055,
             "test": [
              0.05945365516
             ]
            },
            {
             "iteration": 80,
             "learn": [
              0.05681759137
             ],
             "passed_time": 29.9947541,
             "remaining_time": 7.035806517,
             "test": [
              0.05792114393
             ]
            },
            {
             "iteration": 81,
             "learn": [
              0.05554319768
             ],
             "passed_time": 30.28203544,
             "remaining_time": 6.647276072,
             "test": [
              0.05668833698
             ]
            },
            {
             "iteration": 82,
             "learn": [
              0.05420635546
             ],
             "passed_time": 30.67929055,
             "remaining_time": 6.283710113,
             "test": [
              0.05506393894
             ]
            },
            {
             "iteration": 83,
             "learn": [
              0.05293221975
             ],
             "passed_time": 31.04798629,
             "remaining_time": 5.913902151,
             "test": [
              0.05374588612
             ]
            },
            {
             "iteration": 84,
             "learn": [
              0.05163059134
             ],
             "passed_time": 31.4371281,
             "remaining_time": 5.547728488,
             "test": [
              0.0524439214
             ]
            },
            {
             "iteration": 85,
             "learn": [
              0.05039113981
             ],
             "passed_time": 31.80696936,
             "remaining_time": 5.177878733,
             "test": [
              0.05106185936
             ]
            },
            {
             "iteration": 86,
             "learn": [
              0.04918622364
             ],
             "passed_time": 32.18902457,
             "remaining_time": 4.809854246,
             "test": [
              0.04982850769
             ]
            },
            {
             "iteration": 87,
             "learn": [
              0.04799330968
             ],
             "passed_time": 32.56991012,
             "remaining_time": 4.44135138,
             "test": [
              0.04868557686
             ]
            },
            {
             "iteration": 88,
             "learn": [
              0.04679935164
             ],
             "passed_time": 32.95581944,
             "remaining_time": 4.073191167,
             "test": [
              0.04745389615
             ]
            },
            {
             "iteration": 89,
             "learn": [
              0.04569507983
             ],
             "passed_time": 33.33114272,
             "remaining_time": 3.703460303,
             "test": [
              0.04630963827
             ]
            },
            {
             "iteration": 90,
             "learn": [
              0.04464631851
             ],
             "passed_time": 33.74931741,
             "remaining_time": 3.337844579,
             "test": [
              0.04523525485
             ]
            },
            {
             "iteration": 91,
             "learn": [
              0.04365654148
             ],
             "passed_time": 34.16766927,
             "remaining_time": 2.971101676,
             "test": [
              0.04426625367
             ]
            },
            {
             "iteration": 92,
             "learn": [
              0.04258574472
             ],
             "passed_time": 34.5784583,
             "remaining_time": 2.602679657,
             "test": [
              0.0431611296
             ]
            },
            {
             "iteration": 93,
             "learn": [
              0.04166322399
             ],
             "passed_time": 34.95394539,
             "remaining_time": 2.231102897,
             "test": [
              0.04220099785
             ]
            },
            {
             "iteration": 94,
             "learn": [
              0.04072684068
             ],
             "passed_time": 35.32882434,
             "remaining_time": 1.859411807,
             "test": [
              0.0411987907
             ]
            },
            {
             "iteration": 95,
             "learn": [
              0.03986650624
             ],
             "passed_time": 35.65055861,
             "remaining_time": 1.485439942,
             "test": [
              0.04030715081
             ]
            },
            {
             "iteration": 96,
             "learn": [
              0.03895929883
             ],
             "passed_time": 36.13751761,
             "remaining_time": 1.117655184,
             "test": [
              0.03943087809
             ]
            },
            {
             "iteration": 97,
             "learn": [
              0.03814726118
             ],
             "passed_time": 36.62124855,
             "remaining_time": 0.7473724194,
             "test": [
              0.03858539527
             ]
            },
            {
             "iteration": 98,
             "learn": [
              0.03735094741
             ],
             "passed_time": 37.07337718,
             "remaining_time": 0.3744785574,
             "test": [
              0.03780413489
             ]
            },
            {
             "iteration": 99,
             "learn": [
              0.03656776819
             ],
             "passed_time": 37.53064162,
             "remaining_time": 0,
             "test": [
              0.03700523185
             ]
            }
           ],
           "meta": {
            "iteration_count": 100,
            "launch_mode": "Train",
            "learn_metrics": [
             {
              "best_value": "Min",
              "name": "CrossEntropy"
             }
            ],
            "learn_sets": [
             "learn"
            ],
            "name": "experiment",
            "parameters": "",
            "test_metrics": [
             {
              "best_value": "Min",
              "name": "CrossEntropy"
             }
            ],
            "test_sets": [
             "test"
            ]
           }
          },
          "passed_iterations": 99,
          "total_iterations": 100
         },
         "name": "catboost_info",
         "path": "catboost_info"
        }
       },
       "layout": "IPY_MODEL_ba468ba7a8f243ac87b7c620edba77c4"
      }
     },
     "738a012189cf4194b62bb56a9a2df544": {
      "model_module": "catboost-widget",
      "model_module_version": "^1.0.0",
      "model_name": "CatboostWidgetModel",
      "state": {
       "_dom_classes": [],
       "_model_module": "catboost-widget",
       "_model_module_version": "^1.0.0",
       "_model_name": "CatboostWidgetModel",
       "_view_count": null,
       "_view_module": "catboost-widget",
       "_view_module_version": "^1.0.0",
       "_view_name": "CatboostWidgetView",
       "data": {
        "catboost_info": {
         "content": {
          "data": {
           "iterations": [
            {
             "iteration": 0,
             "learn": [
              0.6731216279
             ],
             "passed_time": 0.4225041575,
             "remaining_time": 41.82791159,
             "test": [
              0.6721545324
             ]
            },
            {
             "iteration": 1,
             "learn": [
              0.6528261292
             ],
             "passed_time": 0.8030987951,
             "remaining_time": 39.35184096,
             "test": [
              0.6520903489
             ]
            },
            {
             "iteration": 2,
             "learn": [
              0.6338108197
             ],
             "passed_time": 1.203661721,
             "remaining_time": 38.91839565,
             "test": [
              0.6332794875
             ]
            },
            {
             "iteration": 3,
             "learn": [
              0.6170480557
             ],
             "passed_time": 1.576313445,
             "remaining_time": 37.83152268,
             "test": [
              0.6152433435
             ]
            },
            {
             "iteration": 4,
             "learn": [
              0.5997990683
             ],
             "passed_time": 1.97775952,
             "remaining_time": 37.57743088,
             "test": [
              0.5983650907
             ]
            },
            {
             "iteration": 5,
             "learn": [
              0.5843808256
             ],
             "passed_time": 2.395828549,
             "remaining_time": 37.53464728,
             "test": [
              0.5827623515
             ]
            },
            {
             "iteration": 6,
             "learn": [
              0.5697900469
             ],
             "passed_time": 2.794055376,
             "remaining_time": 37.12102143,
             "test": [
              0.5674896784
             ]
            },
            {
             "iteration": 7,
             "learn": [
              0.5556437271
             ],
             "passed_time": 3.193591917,
             "remaining_time": 36.72630705,
             "test": [
              0.5529010495
             ]
            },
            {
             "iteration": 8,
             "learn": [
              0.5412371126
             ],
             "passed_time": 3.547184908,
             "remaining_time": 35.86598074,
             "test": [
              0.5381409231
             ]
            },
            {
             "iteration": 9,
             "learn": [
              0.5274968944
             ],
             "passed_time": 3.918523808,
             "remaining_time": 35.26671427,
             "test": [
              0.5240966477
             ]
            },
            {
             "iteration": 10,
             "learn": [
              0.5156007963
             ],
             "passed_time": 4.293673305,
             "remaining_time": 34.73972038,
             "test": [
              0.5121289476
             ]
            },
            {
             "iteration": 11,
             "learn": [
              0.5029537275
             ],
             "passed_time": 4.682408668,
             "remaining_time": 34.33766357,
             "test": [
              0.4993683274
             ]
            },
            {
             "iteration": 12,
             "learn": [
              0.4919708848
             ],
             "passed_time": 5.092519756,
             "remaining_time": 34.08070914,
             "test": [
              0.4879063039
             ]
            },
            {
             "iteration": 13,
             "learn": [
              0.4813478329
             ],
             "passed_time": 5.470920308,
             "remaining_time": 33.60708189,
             "test": [
              0.4776671713
             ]
            },
            {
             "iteration": 14,
             "learn": [
              0.4702506138
             ],
             "passed_time": 5.841332121,
             "remaining_time": 33.10088202,
             "test": [
              0.4660705215
             ]
            },
            {
             "iteration": 15,
             "learn": [
              0.4602441245
             ],
             "passed_time": 6.262947124,
             "remaining_time": 32.8804724,
             "test": [
              0.4561907197
             ]
            },
            {
             "iteration": 16,
             "learn": [
              0.4502873731
             ],
             "passed_time": 6.605362854,
             "remaining_time": 32.24971276,
             "test": [
              0.4456436116
             ]
            },
            {
             "iteration": 17,
             "learn": [
              0.4408898442
             ],
             "passed_time": 6.946150623,
             "remaining_time": 31.64357506,
             "test": [
              0.4356570231
             ]
            },
            {
             "iteration": 18,
             "learn": [
              0.4311358054
             ],
             "passed_time": 7.352283573,
             "remaining_time": 31.34394576,
             "test": [
              0.4253427966
             ]
            },
            {
             "iteration": 19,
             "learn": [
              0.4218944467
             ],
             "passed_time": 7.738987885,
             "remaining_time": 30.95595154,
             "test": [
              0.4156347205
             ]
            },
            {
             "iteration": 20,
             "learn": [
              0.412794828
             ],
             "passed_time": 8.146111204,
             "remaining_time": 30.64489453,
             "test": [
              0.4060680944
             ]
            },
            {
             "iteration": 21,
             "learn": [
              0.404047238
             ],
             "passed_time": 8.615135248,
             "remaining_time": 30.54457042,
             "test": [
              0.3968567628
             ]
            },
            {
             "iteration": 22,
             "learn": [
              0.395667559
             ],
             "passed_time": 9.000755614,
             "remaining_time": 30.13296445,
             "test": [
              0.3883132126
             ]
            },
            {
             "iteration": 23,
             "learn": [
              0.3879633016
             ],
             "passed_time": 9.416511337,
             "remaining_time": 29.81895257,
             "test": [
              0.3798269633
             ]
            },
            {
             "iteration": 24,
             "learn": [
              0.3804666782
             ],
             "passed_time": 9.846749149,
             "remaining_time": 29.54024745,
             "test": [
              0.3723981087
             ]
            },
            {
             "iteration": 25,
             "learn": [
              0.3737790272
             ],
             "passed_time": 10.3139689,
             "remaining_time": 29.35514224,
             "test": [
              0.3653487576
             ]
            },
            {
             "iteration": 26,
             "learn": [
              0.3667429689
             ],
             "passed_time": 10.70398923,
             "remaining_time": 28.94041531,
             "test": [
              0.3578964185
             ]
            },
            {
             "iteration": 27,
             "learn": [
              0.3592784484
             ],
             "passed_time": 11.15985976,
             "remaining_time": 28.69678224,
             "test": [
              0.3506645652
             ]
            },
            {
             "iteration": 28,
             "learn": [
              0.3523627607
             ],
             "passed_time": 11.62101738,
             "remaining_time": 28.45145634,
             "test": [
              0.3433067922
             ]
            },
            {
             "iteration": 29,
             "learn": [
              0.3457336603
             ],
             "passed_time": 12.08109115,
             "remaining_time": 28.18921269,
             "test": [
              0.3363380398
             ]
            },
            {
             "iteration": 30,
             "learn": [
              0.3393315197
             ],
             "passed_time": 12.51458887,
             "remaining_time": 27.85505265,
             "test": [
              0.3296144084
             ]
            },
            {
             "iteration": 31,
             "learn": [
              0.3334900932
             ],
             "passed_time": 12.93268851,
             "remaining_time": 27.48196309,
             "test": [
              0.3238950606
             ]
            },
            {
             "iteration": 32,
             "learn": [
              0.3275930168
             ],
             "passed_time": 13.3654938,
             "remaining_time": 27.13600255,
             "test": [
              0.3175948069
             ]
            },
            {
             "iteration": 33,
             "learn": [
              0.3222948664
             ],
             "passed_time": 13.77694951,
             "remaining_time": 26.74349022,
             "test": [
              0.312109404
             ]
            },
            {
             "iteration": 34,
             "learn": [
              0.3168885959
             ],
             "passed_time": 14.23714297,
             "remaining_time": 26.44040837,
             "test": [
              0.3064692811
             ]
            },
            {
             "iteration": 35,
             "learn": [
              0.3118916204
             ],
             "passed_time": 14.6514151,
             "remaining_time": 26.04696018,
             "test": [
              0.3014311984
             ]
            },
            {
             "iteration": 36,
             "learn": [
              0.3067919387
             ],
             "passed_time": 15.06029918,
             "remaining_time": 25.64321211,
             "test": [
              0.2959067228
             ]
            },
            {
             "iteration": 37,
             "learn": [
              0.3016794767
             ],
             "passed_time": 15.51739265,
             "remaining_time": 25.31785116,
             "test": [
              0.2907170561
             ]
            },
            {
             "iteration": 38,
             "learn": [
              0.2970761919
             ],
             "passed_time": 15.91755852,
             "remaining_time": 24.8966941,
             "test": [
              0.2857635719
             ]
            },
            {
             "iteration": 39,
             "learn": [
              0.292213744
             ],
             "passed_time": 16.31665208,
             "remaining_time": 24.47497812,
             "test": [
              0.2805067183
             ]
            },
            {
             "iteration": 40,
             "learn": [
              0.2876281582
             ],
             "passed_time": 16.70943194,
             "remaining_time": 24.04528011,
             "test": [
              0.2754536707
             ]
            },
            {
             "iteration": 41,
             "learn": [
              0.2831623715
             ],
             "passed_time": 17.09288136,
             "remaining_time": 23.60445521,
             "test": [
              0.2707193414
             ]
            },
            {
             "iteration": 42,
             "learn": [
              0.2793826925
             ],
             "passed_time": 17.48853224,
             "remaining_time": 23.18247297,
             "test": [
              0.2669481792
             ]
            },
            {
             "iteration": 43,
             "learn": [
              0.275160195
             ],
             "passed_time": 17.92020572,
             "remaining_time": 22.80753456,
             "test": [
              0.2624363867
             ]
            },
            {
             "iteration": 44,
             "learn": [
              0.271375913
             ],
             "passed_time": 18.34794207,
             "remaining_time": 22.42526253,
             "test": [
              0.258603332
             ]
            },
            {
             "iteration": 45,
             "learn": [
              0.2674183339
             ],
             "passed_time": 18.73886524,
             "remaining_time": 21.99779833,
             "test": [
              0.2542195216
             ]
            },
            {
             "iteration": 46,
             "learn": [
              0.2635985758
             ],
             "passed_time": 19.12374754,
             "remaining_time": 21.56507701,
             "test": [
              0.2501771679
             ]
            },
            {
             "iteration": 47,
             "learn": [
              0.2597914761
             ],
             "passed_time": 19.52907045,
             "remaining_time": 21.15649299,
             "test": [
              0.2459710557
             ]
            },
            {
             "iteration": 48,
             "learn": [
              0.2560241855
             ],
             "passed_time": 19.94109453,
             "remaining_time": 20.75501675,
             "test": [
              0.242278685
             ]
            },
            {
             "iteration": 49,
             "learn": [
              0.2524397323
             ],
             "passed_time": 20.34119048,
             "remaining_time": 20.34119048,
             "test": [
              0.2383073449
             ]
            },
            {
             "iteration": 50,
             "learn": [
              0.2490275653
             ],
             "passed_time": 20.75718303,
             "remaining_time": 19.94317585,
             "test": [
              0.2350564567
             ]
            },
            {
             "iteration": 51,
             "learn": [
              0.2457527177
             ],
             "passed_time": 21.22230209,
             "remaining_time": 19.58981732,
             "test": [
              0.2316236907
             ]
            },
            {
             "iteration": 52,
             "learn": [
              0.2424801022
             ],
             "passed_time": 21.62547351,
             "remaining_time": 19.1773067,
             "test": [
              0.2280992444
             ]
            },
            {
             "iteration": 53,
             "learn": [
              0.2392652563
             ],
             "passed_time": 22.06850483,
             "remaining_time": 18.7990967,
             "test": [
              0.2249589368
             ]
            },
            {
             "iteration": 54,
             "learn": [
              0.2364860472
             ],
             "passed_time": 22.46221683,
             "remaining_time": 18.3781774,
             "test": [
              0.2223301282
             ]
            },
            {
             "iteration": 55,
             "learn": [
              0.2335043696
             ],
             "passed_time": 22.89967085,
             "remaining_time": 17.99259853,
             "test": [
              0.2191395864
             ]
            },
            {
             "iteration": 56,
             "learn": [
              0.2304882801
             ],
             "passed_time": 23.34078739,
             "remaining_time": 17.60796242,
             "test": [
              0.2162408182
             ]
            },
            {
             "iteration": 57,
             "learn": [
              0.2276778087
             ],
             "passed_time": 23.78191034,
             "remaining_time": 17.22138335,
             "test": [
              0.2135306178
             ]
            },
            {
             "iteration": 58,
             "learn": [
              0.2250521797
             ],
             "passed_time": 24.21675583,
             "remaining_time": 16.82859303,
             "test": [
              0.2108983551
             ]
            },
            {
             "iteration": 59,
             "learn": [
              0.2225268319
             ],
             "passed_time": 24.56804893,
             "remaining_time": 16.37869928,
             "test": [
              0.2086413494
             ]
            },
            {
             "iteration": 60,
             "learn": [
              0.2199902948
             ],
             "passed_time": 24.99187499,
             "remaining_time": 15.97841188,
             "test": [
              0.2064524622
             ]
            },
            {
             "iteration": 61,
             "learn": [
              0.217393032
             ],
             "passed_time": 25.42295912,
             "remaining_time": 15.58181365,
             "test": [
              0.2036522945
             ]
            },
            {
             "iteration": 62,
             "learn": [
              0.2148558893
             ],
             "passed_time": 25.98946075,
             "remaining_time": 15.26365155,
             "test": [
              0.2012650015
             ]
            },
            {
             "iteration": 63,
             "learn": [
              0.2124050478
             ],
             "passed_time": 26.55874775,
             "remaining_time": 14.93929561,
             "test": [
              0.1991779431
             ]
            },
            {
             "iteration": 64,
             "learn": [
              0.2100998254
             ],
             "passed_time": 27.15675809,
             "remaining_time": 14.62286974,
             "test": [
              0.1966033816
             ]
            },
            {
             "iteration": 65,
             "learn": [
              0.2080748103
             ],
             "passed_time": 27.51867126,
             "remaining_time": 14.17628519,
             "test": [
              0.1948683858
             ]
            },
            {
             "iteration": 66,
             "learn": [
              0.2057716128
             ],
             "passed_time": 27.95010411,
             "remaining_time": 13.76646919,
             "test": [
              0.1923299228
             ]
            },
            {
             "iteration": 67,
             "learn": [
              0.2037836219
             ],
             "passed_time": 28.35358916,
             "remaining_time": 13.34286549,
             "test": [
              0.1906448096
             ]
            },
            {
             "iteration": 68,
             "learn": [
              0.2017519623
             ],
             "passed_time": 28.74932194,
             "remaining_time": 12.91636203,
             "test": [
              0.1888748026
             ]
            },
            {
             "iteration": 69,
             "learn": [
              0.1995929056
             ],
             "passed_time": 29.18199292,
             "remaining_time": 12.5065684,
             "test": [
              0.186465332
             ]
            },
            {
             "iteration": 70,
             "learn": [
              0.1974758456
             ],
             "passed_time": 29.60958206,
             "remaining_time": 12.09405464,
             "test": [
              0.1843968988
             ]
            },
            {
             "iteration": 71,
             "learn": [
              0.1958282036
             ],
             "passed_time": 29.91876716,
             "remaining_time": 11.63507612,
             "test": [
              0.1828787533
             ]
            },
            {
             "iteration": 72,
             "learn": [
              0.1937142088
             ],
             "passed_time": 30.36160443,
             "remaining_time": 11.22963452,
             "test": [
              0.1806113442
             ]
            },
            {
             "iteration": 73,
             "learn": [
              0.1917825259
             ],
             "passed_time": 30.80968962,
             "remaining_time": 10.82502608,
             "test": [
              0.1788921603
             ]
            },
            {
             "iteration": 74,
             "learn": [
              0.1896832879
             ],
             "passed_time": 31.33052796,
             "remaining_time": 10.44350932,
             "test": [
              0.1767801826
             ]
            },
            {
             "iteration": 75,
             "learn": [
              0.1881976509
             ],
             "passed_time": 31.64125636,
             "remaining_time": 9.991975692,
             "test": [
              0.1753320588
             ]
            },
            {
             "iteration": 76,
             "learn": [
              0.186317692
             ],
             "passed_time": 32.03303302,
             "remaining_time": 9.568308563,
             "test": [
              0.1733386269
             ]
            },
            {
             "iteration": 77,
             "learn": [
              0.1845198101
             ],
             "passed_time": 32.48762799,
             "remaining_time": 9.163177125,
             "test": [
              0.1718625186
             ]
            },
            {
             "iteration": 78,
             "learn": [
              0.1825862611
             ],
             "passed_time": 32.980186,
             "remaining_time": 8.766884887,
             "test": [
              0.1700132848
             ]
            },
            {
             "iteration": 79,
             "learn": [
              0.1808215264
             ],
             "passed_time": 33.39680063,
             "remaining_time": 8.349200157,
             "test": [
              0.1680739747
             ]
            },
            {
             "iteration": 80,
             "learn": [
              0.1792546025
             ],
             "passed_time": 33.80529216,
             "remaining_time": 7.929636432,
             "test": [
              0.1667800572
             ]
            },
            {
             "iteration": 81,
             "learn": [
              0.1775841387
             ],
             "passed_time": 34.19385856,
             "remaining_time": 7.505968952,
             "test": [
              0.1649963403
             ]
            },
            {
             "iteration": 82,
             "learn": [
              0.1759852706
             ],
             "passed_time": 34.57094558,
             "remaining_time": 7.080796082,
             "test": [
              0.1635260411
             ]
            },
            {
             "iteration": 83,
             "learn": [
              0.174823065
             ],
             "passed_time": 34.87060351,
             "remaining_time": 6.642019715,
             "test": [
              0.1624008765
             ]
            },
            {
             "iteration": 84,
             "learn": [
              0.1731141783
             ],
             "passed_time": 35.2808692,
             "remaining_time": 6.226035741,
             "test": [
              0.160602466
             ]
            },
            {
             "iteration": 85,
             "learn": [
              0.1719719622
             ],
             "passed_time": 35.5886529,
             "remaining_time": 5.793501634,
             "test": [
              0.1595592698
             ]
            },
            {
             "iteration": 86,
             "learn": [
              0.170336164
             ],
             "passed_time": 36.02136445,
             "remaining_time": 5.382502733,
             "test": [
              0.157777263
             ]
            },
            {
             "iteration": 87,
             "learn": [
              0.1685982913
             ],
             "passed_time": 36.50175164,
             "remaining_time": 4.977511587,
             "test": [
              0.1559799999
             ]
            },
            {
             "iteration": 88,
             "learn": [
              0.1672177869
             ],
             "passed_time": 36.89026943,
             "remaining_time": 4.559471502,
             "test": [
              0.1549493998
             ]
            },
            {
             "iteration": 89,
             "learn": [
              0.166160468
             ],
             "passed_time": 37.19561653,
             "remaining_time": 4.132846281,
             "test": [
              0.1540349658
             ]
            },
            {
             "iteration": 90,
             "learn": [
              0.1646546064
             ],
             "passed_time": 37.60674809,
             "remaining_time": 3.719348712,
             "test": [
              0.1524201791
             ]
            },
            {
             "iteration": 91,
             "learn": [
              0.1630416501
             ],
             "passed_time": 38.09985197,
             "remaining_time": 3.313030606,
             "test": [
              0.1509448527
             ]
            },
            {
             "iteration": 92,
             "learn": [
              0.1614780553
             ],
             "passed_time": 38.54962016,
             "remaining_time": 2.901584313,
             "test": [
              0.1494173186
             ]
            },
            {
             "iteration": 93,
             "learn": [
              0.1605731686
             ],
             "passed_time": 38.84307292,
             "remaining_time": 2.47934508,
             "test": [
              0.148648907
             ]
            },
            {
             "iteration": 94,
             "learn": [
              0.1593652814
             ],
             "passed_time": 39.25780989,
             "remaining_time": 2.066200521,
             "test": [
              0.1476011514
             ]
            },
            {
             "iteration": 95,
             "learn": [
              0.1580357155
             ],
             "passed_time": 39.69093373,
             "remaining_time": 1.653788906,
             "test": [
              0.146100931
             ]
            },
            {
             "iteration": 96,
             "learn": [
              0.1568427528
             ],
             "passed_time": 40.08335438,
             "remaining_time": 1.239691373,
             "test": [
              0.1452218399
             ]
            },
            {
             "iteration": 97,
             "learn": [
              0.1557078977
             ],
             "passed_time": 40.48946589,
             "remaining_time": 0.8263156304,
             "test": [
              0.1443801123
             ]
            },
            {
             "iteration": 98,
             "learn": [
              0.1544403577
             ],
             "passed_time": 40.86253728,
             "remaining_time": 0.4127529018,
             "test": [
              0.1431287325
             ]
            },
            {
             "iteration": 99,
             "learn": [
              0.1531172259
             ],
             "passed_time": 41.25929301,
             "remaining_time": 0,
             "test": [
              0.141977964
             ]
            }
           ],
           "meta": {
            "iteration_count": 100,
            "launch_mode": "Train",
            "learn_metrics": [
             {
              "best_value": "Min",
              "name": "CrossEntropy"
             }
            ],
            "learn_sets": [
             "learn"
            ],
            "name": "experiment",
            "parameters": "",
            "test_metrics": [
             {
              "best_value": "Min",
              "name": "CrossEntropy"
             }
            ],
            "test_sets": [
             "test"
            ]
           }
          },
          "passed_iterations": 99,
          "total_iterations": 100
         },
         "name": "catboost_info",
         "path": "catboost_info"
        }
       },
       "layout": "IPY_MODEL_ccb0c837b42b4a00b6bd25642c35ec6c"
      }
     },
     "79f85dca51e54cc589e0deaf798fbe1d": {
      "model_module": "@jupyter-widgets/base",
      "model_module_version": "1.2.0",
      "model_name": "LayoutModel",
      "state": {
       "_model_module": "@jupyter-widgets/base",
       "_model_module_version": "1.2.0",
       "_model_name": "LayoutModel",
       "_view_count": null,
       "_view_module": "@jupyter-widgets/base",
       "_view_module_version": "1.2.0",
       "_view_name": "LayoutView",
       "align_content": null,
       "align_items": null,
       "align_self": "stretch",
       "border": null,
       "bottom": null,
       "display": null,
       "flex": null,
       "flex_flow": null,
       "grid_area": null,
       "grid_auto_columns": null,
       "grid_auto_flow": null,
       "grid_auto_rows": null,
       "grid_column": null,
       "grid_gap": null,
       "grid_row": null,
       "grid_template_areas": null,
       "grid_template_columns": null,
       "grid_template_rows": null,
       "height": "500px",
       "justify_content": null,
       "justify_items": null,
       "left": null,
       "margin": null,
       "max_height": null,
       "max_width": null,
       "min_height": null,
       "min_width": null,
       "object_fit": null,
       "object_position": null,
       "order": null,
       "overflow": null,
       "overflow_x": null,
       "overflow_y": null,
       "padding": null,
       "right": null,
       "top": null,
       "visibility": null,
       "width": null
      }
     },
     "7b59e3bd81244d37ab56cad8b5df563a": {
      "model_module": "catboost-widget",
      "model_module_version": "^1.0.0",
      "model_name": "CatboostWidgetModel",
      "state": {
       "_dom_classes": [],
       "_model_module": "catboost-widget",
       "_model_module_version": "^1.0.0",
       "_model_name": "CatboostWidgetModel",
       "_view_count": null,
       "_view_module": "catboost-widget",
       "_view_module_version": "^1.0.0",
       "_view_name": "CatboostWidgetView",
       "data": {
        "catboost_info": {
         "content": {
          "data": {
           "iterations": [
            {
             "iteration": 0,
             "learn": [
              0.6745457802
             ],
             "passed_time": 0.3731812738,
             "remaining_time": 36.9449461,
             "test": [
              0.6739941343
             ]
            },
            {
             "iteration": 1,
             "learn": [
              0.6569291237
             ],
             "passed_time": 0.739776364,
             "remaining_time": 36.24904184,
             "test": [
              0.6557351346
             ]
            },
            {
             "iteration": 2,
             "learn": [
              0.6394566475
             ],
             "passed_time": 1.105162771,
             "remaining_time": 35.73359625,
             "test": [
              0.6387942644
             ]
            },
            {
             "iteration": 3,
             "learn": [
              0.6235618395
             ],
             "passed_time": 1.478369486,
             "remaining_time": 35.48086766,
             "test": [
              0.6226433456
             ]
            },
            {
             "iteration": 4,
             "learn": [
              0.6073745892
             ],
             "passed_time": 1.923132422,
             "remaining_time": 36.53951601,
             "test": [
              0.606625155
             ]
            },
            {
             "iteration": 5,
             "learn": [
              0.5921007341
             ],
             "passed_time": 2.291705434,
             "remaining_time": 35.90338513,
             "test": [
              0.5919761832
             ]
            },
            {
             "iteration": 6,
             "learn": [
              0.578591713
             ],
             "passed_time": 2.648018807,
             "remaining_time": 35.18082129,
             "test": [
              0.5778280667
             ]
            },
            {
             "iteration": 7,
             "learn": [
              0.5637080891
             ],
             "passed_time": 3.090733025,
             "remaining_time": 35.54342979,
             "test": [
              0.5628581597
             ]
            },
            {
             "iteration": 8,
             "learn": [
              0.5504262956
             ],
             "passed_time": 3.507531909,
             "remaining_time": 35.46504485,
             "test": [
              0.5495008892
             ]
            },
            {
             "iteration": 9,
             "learn": [
              0.5381432484
             ],
             "passed_time": 3.874003451,
             "remaining_time": 34.86603106,
             "test": [
              0.5370811243
             ]
            },
            {
             "iteration": 10,
             "learn": [
              0.526570732
             ],
             "passed_time": 4.245547369,
             "remaining_time": 34.35033781,
             "test": [
              0.5254637654
             ]
            },
            {
             "iteration": 11,
             "learn": [
              0.5155014059
             ],
             "passed_time": 4.617364587,
             "remaining_time": 33.86067364,
             "test": [
              0.5138788514
             ]
            },
            {
             "iteration": 12,
             "learn": [
              0.5038203277
             ],
             "passed_time": 5.052079103,
             "remaining_time": 33.81006785,
             "test": [
              0.5025069436
             ]
            },
            {
             "iteration": 13,
             "learn": [
              0.4924094309
             ],
             "passed_time": 5.480568071,
             "remaining_time": 33.66634672,
             "test": [
              0.4910813444
             ]
            },
            {
             "iteration": 14,
             "learn": [
              0.4824981893
             ],
             "passed_time": 5.861291451,
             "remaining_time": 33.21398489,
             "test": [
              0.4807316344
             ]
            },
            {
             "iteration": 15,
             "learn": [
              0.4729718137
             ],
             "passed_time": 6.238713301,
             "remaining_time": 32.75324483,
             "test": [
              0.4708426393
             ]
            },
            {
             "iteration": 16,
             "learn": [
              0.4632749476
             ],
             "passed_time": 6.664675296,
             "remaining_time": 32.53929703,
             "test": [
              0.461001544
             ]
            },
            {
             "iteration": 17,
             "learn": [
              0.4539345027
             ],
             "passed_time": 7.104455962,
             "remaining_time": 32.36474383,
             "test": [
              0.4512488436
             ]
            },
            {
             "iteration": 18,
             "learn": [
              0.4447114586
             ],
             "passed_time": 7.493462977,
             "remaining_time": 31.94581585,
             "test": [
              0.4421835427
             ]
            },
            {
             "iteration": 19,
             "learn": [
              0.4361754829
             ],
             "passed_time": 7.920758425,
             "remaining_time": 31.6830337,
             "test": [
              0.4331853328
             ]
            },
            {
             "iteration": 20,
             "learn": [
              0.4275769608
             ],
             "passed_time": 8.331831455,
             "remaining_time": 31.34355643,
             "test": [
              0.4246764788
             ]
            },
            {
             "iteration": 21,
             "learn": [
              0.4199100811
             ],
             "passed_time": 8.689613766,
             "remaining_time": 30.80863062,
             "test": [
              0.4167086747
             ]
            },
            {
             "iteration": 22,
             "learn": [
              0.4114601325
             ],
             "passed_time": 9.070745,
             "remaining_time": 30.36727674,
             "test": [
              0.4084506062
             ]
            },
            {
             "iteration": 23,
             "learn": [
              0.4042542007
             ],
             "passed_time": 9.514025641,
             "remaining_time": 30.12774786,
             "test": [
              0.4012559133
             ]
            },
            {
             "iteration": 24,
             "learn": [
              0.3970867589
             ],
             "passed_time": 9.977977836,
             "remaining_time": 29.93393351,
             "test": [
              0.3945676053
             ]
            },
            {
             "iteration": 25,
             "learn": [
              0.389480107
             ],
             "passed_time": 10.41138442,
             "remaining_time": 29.63240181,
             "test": [
              0.3868089291
             ]
            },
            {
             "iteration": 26,
             "learn": [
              0.3821026553
             ],
             "passed_time": 10.83600095,
             "remaining_time": 29.29733589,
             "test": [
              0.3792876502
             ]
            },
            {
             "iteration": 27,
             "learn": [
              0.3743209637
             ],
             "passed_time": 11.24434074,
             "remaining_time": 28.91401906,
             "test": [
              0.3710736716
             ]
            },
            {
             "iteration": 28,
             "learn": [
              0.3667827829
             ],
             "passed_time": 11.68709407,
             "remaining_time": 28.6132303,
             "test": [
              0.3635283134
             ]
            },
            {
             "iteration": 29,
             "learn": [
              0.3608037988
             ],
             "passed_time": 12.05909478,
             "remaining_time": 28.13788782,
             "test": [
              0.3572658672
             ]
            },
            {
             "iteration": 30,
             "learn": [
              0.3540768677
             ],
             "passed_time": 12.49059016,
             "remaining_time": 27.80163616,
             "test": [
              0.3505559806
             ]
            },
            {
             "iteration": 31,
             "learn": [
              0.3483601461
             ],
             "passed_time": 12.9527213,
             "remaining_time": 27.52453276,
             "test": [
              0.345142925
             ]
            },
            {
             "iteration": 32,
             "learn": [
              0.3422105
             ],
             "passed_time": 13.33503929,
             "remaining_time": 27.07417069,
             "test": [
              0.3390368739
             ]
            },
            {
             "iteration": 33,
             "learn": [
              0.3356243393
             ],
             "passed_time": 13.78196557,
             "remaining_time": 26.75322729,
             "test": [
              0.3324634193
             ]
            },
            {
             "iteration": 34,
             "learn": [
              0.3295078536
             ],
             "passed_time": 14.19517585,
             "remaining_time": 26.36246944,
             "test": [
              0.3258852848
             ]
            },
            {
             "iteration": 35,
             "learn": [
              0.3243980022
             ],
             "passed_time": 14.64934812,
             "remaining_time": 26.04328554,
             "test": [
              0.320874559
             ]
            },
            {
             "iteration": 36,
             "learn": [
              0.3184143561
             ],
             "passed_time": 15.09568761,
             "remaining_time": 25.7034681,
             "test": [
              0.314830047
             ]
            },
            {
             "iteration": 37,
             "learn": [
              0.3132981634
             ],
             "passed_time": 15.47641664,
             "remaining_time": 25.25099558,
             "test": [
              0.3098110201
             ]
            },
            {
             "iteration": 38,
             "learn": [
              0.3077719944
             ],
             "passed_time": 15.90160885,
             "remaining_time": 24.87174718,
             "test": [
              0.3043832771
             ]
            },
            {
             "iteration": 39,
             "learn": [
              0.3032817105
             ],
             "passed_time": 16.39201168,
             "remaining_time": 24.58801752,
             "test": [
              0.2998575532
             ]
            },
            {
             "iteration": 40,
             "learn": [
              0.298255601
             ],
             "passed_time": 16.78041427,
             "remaining_time": 24.14742541,
             "test": [
              0.2946914315
             ]
            },
            {
             "iteration": 41,
             "learn": [
              0.2935035874
             ],
             "passed_time": 17.16755707,
             "remaining_time": 23.70757882,
             "test": [
              0.2901173057
             ]
            },
            {
             "iteration": 42,
             "learn": [
              0.2883556548
             ],
             "passed_time": 17.61599803,
             "remaining_time": 23.35143925,
             "test": [
              0.2849691999
             ]
            },
            {
             "iteration": 43,
             "learn": [
              0.2841362892
             ],
             "passed_time": 18.07379897,
             "remaining_time": 23.00301687,
             "test": [
              0.2807843059
             ]
            },
            {
             "iteration": 44,
             "learn": [
              0.2791488841
             ],
             "passed_time": 18.53894673,
             "remaining_time": 22.65871268,
             "test": [
              0.2760260087
             ]
            },
            {
             "iteration": 45,
             "learn": [
              0.2752824007
             ],
             "passed_time": 18.95106148,
             "remaining_time": 22.24689825,
             "test": [
              0.2717285263
             ]
            },
            {
             "iteration": 46,
             "learn": [
              0.2707509795
             ],
             "passed_time": 19.38717204,
             "remaining_time": 21.86213017,
             "test": [
              0.2673968758
             ]
            },
            {
             "iteration": 47,
             "learn": [
              0.2669301211
             ],
             "passed_time": 19.80253947,
             "remaining_time": 21.45275109,
             "test": [
              0.2632156793
             ]
            },
            {
             "iteration": 48,
             "learn": [
              0.2633604974
             ],
             "passed_time": 20.19982579,
             "remaining_time": 21.02430848,
             "test": [
              0.2596252351
             ]
            },
            {
             "iteration": 49,
             "learn": [
              0.2599701516
             ],
             "passed_time": 20.58457012,
             "remaining_time": 20.58457012,
             "test": [
              0.256237977
             ]
            },
            {
             "iteration": 50,
             "learn": [
              0.2555704061
             ],
             "passed_time": 21.03112994,
             "remaining_time": 20.20637975,
             "test": [
              0.2520178921
             ]
            },
            {
             "iteration": 51,
             "learn": [
              0.2520254471
             ],
             "passed_time": 21.48028513,
             "remaining_time": 19.8279555,
             "test": [
              0.2482221209
             ]
            },
            {
             "iteration": 52,
             "learn": [
              0.2485101415
             ],
             "passed_time": 21.90539525,
             "remaining_time": 19.42553918,
             "test": [
              0.2447087952
             ]
            },
            {
             "iteration": 53,
             "learn": [
              0.2453619729
             ],
             "passed_time": 22.33347019,
             "remaining_time": 19.02480794,
             "test": [
              0.2412272902
             ]
            },
            {
             "iteration": 54,
             "learn": [
              0.2412706893
             ],
             "passed_time": 22.81422648,
             "remaining_time": 18.6661853,
             "test": [
              0.2374684265
             ]
            },
            {
             "iteration": 55,
             "learn": [
              0.2381802196
             ],
             "passed_time": 23.23196703,
             "remaining_time": 18.25368838,
             "test": [
              0.2343475046
             ]
            },
            {
             "iteration": 56,
             "learn": [
              0.2345255105
             ],
             "passed_time": 23.62224927,
             "remaining_time": 17.82029331,
             "test": [
              0.2309361401
             ]
            },
            {
             "iteration": 57,
             "learn": [
              0.2315050551
             ],
             "passed_time": 24.26154211,
             "remaining_time": 17.56870291,
             "test": [
              0.2281405921
             ]
            },
            {
             "iteration": 58,
             "learn": [
              0.2287781084
             ],
             "passed_time": 24.85420661,
             "remaining_time": 17.27156731,
             "test": [
              0.2251734369
             ]
            },
            {
             "iteration": 59,
             "learn": [
              0.2252495414
             ],
             "passed_time": 25.38149575,
             "remaining_time": 16.92099716,
             "test": [
              0.2217874793
             ]
            },
            {
             "iteration": 60,
             "learn": [
              0.2219511743
             ],
             "passed_time": 25.79988013,
             "remaining_time": 16.49500533,
             "test": [
              0.2185236227
             ]
            },
            {
             "iteration": 61,
             "learn": [
              0.2188251161
             ],
             "passed_time": 26.21235692,
             "remaining_time": 16.06563811,
             "test": [
              0.215139604
             ]
            },
            {
             "iteration": 62,
             "learn": [
              0.2157952514
             ],
             "passed_time": 26.68266108,
             "remaining_time": 15.6707692,
             "test": [
              0.212164412
             ]
            },
            {
             "iteration": 63,
             "learn": [
              0.2132300131
             ],
             "passed_time": 27.08335876,
             "remaining_time": 15.2343893,
             "test": [
              0.2095619707
             ]
            },
            {
             "iteration": 64,
             "learn": [
              0.2102751116
             ],
             "passed_time": 27.50584355,
             "remaining_time": 14.81083884,
             "test": [
              0.2062080419
             ]
            },
            {
             "iteration": 65,
             "learn": [
              0.2073327299
             ],
             "passed_time": 27.92360314,
             "remaining_time": 14.38488646,
             "test": [
              0.2029334041
             ]
            },
            {
             "iteration": 66,
             "learn": [
              0.2047595876
             ],
             "passed_time": 28.36763621,
             "remaining_time": 13.97211933,
             "test": [
              0.2002575786
             ]
            },
            {
             "iteration": 67,
             "learn": [
              0.2022207624
             ],
             "passed_time": 28.7242353,
             "remaining_time": 13.5172872,
             "test": [
              0.1975854268
             ]
            },
            {
             "iteration": 68,
             "learn": [
              0.1994381729
             ],
             "passed_time": 29.20454344,
             "remaining_time": 13.12088183,
             "test": [
              0.1950281131
             ]
            },
            {
             "iteration": 69,
             "learn": [
              0.1968249421
             ],
             "passed_time": 29.66776091,
             "remaining_time": 12.71475467,
             "test": [
              0.1924014269
             ]
            },
            {
             "iteration": 70,
             "learn": [
              0.1941077697
             ],
             "passed_time": 30.07897536,
             "remaining_time": 12.28577867,
             "test": [
              0.1893025353
             ]
            },
            {
             "iteration": 71,
             "learn": [
              0.1919706914
             ],
             "passed_time": 30.47176628,
             "remaining_time": 11.85013133,
             "test": [
              0.1873182329
             ]
            },
            {
             "iteration": 72,
             "learn": [
              0.189455538
             ],
             "passed_time": 30.88225748,
             "remaining_time": 11.42220482,
             "test": [
              0.1846721533
             ]
            },
            {
             "iteration": 73,
             "learn": [
              0.1868672156
             ],
             "passed_time": 31.27039528,
             "remaining_time": 10.98689564,
             "test": [
              0.1823066146
             ]
            },
            {
             "iteration": 74,
             "learn": [
              0.1847572952
             ],
             "passed_time": 31.62444383,
             "remaining_time": 10.54148128,
             "test": [
              0.1800418407
             ]
            },
            {
             "iteration": 75,
             "learn": [
              0.1831813419
             ],
             "passed_time": 32.0177699,
             "remaining_time": 10.11087471,
             "test": [
              0.1783602979
             ]
            },
            {
             "iteration": 76,
             "learn": [
              0.1807868084
             ],
             "passed_time": 32.40310188,
             "remaining_time": 9.678848612,
             "test": [
              0.1761240537
             ]
            },
            {
             "iteration": 77,
             "learn": [
              0.1789142378
             ],
             "passed_time": 32.80109039,
             "remaining_time": 9.251589597,
             "test": [
              0.1742324583
             ]
            },
            {
             "iteration": 78,
             "learn": [
              0.1768676452
             ],
             "passed_time": 33.17997944,
             "remaining_time": 8.819994536,
             "test": [
              0.1721942574
             ]
            },
            {
             "iteration": 79,
             "learn": [
              0.1749549545
             ],
             "passed_time": 33.64401558,
             "remaining_time": 8.411003896,
             "test": [
              0.1704051554
             ]
            },
            {
             "iteration": 80,
             "learn": [
              0.1727493244
             ],
             "passed_time": 34.09820142,
             "remaining_time": 7.998343542,
             "test": [
              0.1681169099
             ]
            },
            {
             "iteration": 81,
             "learn": [
              0.1709202657
             ],
             "passed_time": 34.44636162,
             "remaining_time": 7.561396454,
             "test": [
              0.166148924
             ]
            },
            {
             "iteration": 82,
             "learn": [
              0.169027679
             ],
             "passed_time": 34.88242899,
             "remaining_time": 7.14459389,
             "test": [
              0.1643289331
             ]
            },
            {
             "iteration": 83,
             "learn": [
              0.1668071009
             ],
             "passed_time": 35.37623359,
             "remaining_time": 6.738330208,
             "test": [
              0.1621988821
             ]
            },
            {
             "iteration": 84,
             "learn": [
              0.1645218211
             ],
             "passed_time": 35.79610476,
             "remaining_time": 6.316959663,
             "test": [
              0.1597989794
             ]
            },
            {
             "iteration": 85,
             "learn": [
              0.1627844169
             ],
             "passed_time": 36.17461033,
             "remaining_time": 5.888890053,
             "test": [
              0.1580558552
             ]
            },
            {
             "iteration": 86,
             "learn": [
              0.1606973765
             ],
             "passed_time": 36.59309289,
             "remaining_time": 5.46793342,
             "test": [
              0.1560356787
             ]
            },
            {
             "iteration": 87,
             "learn": [
              0.1588911451
             ],
             "passed_time": 36.99149306,
             "remaining_time": 5.044294508,
             "test": [
              0.1542420442
             ]
            },
            {
             "iteration": 88,
             "learn": [
              0.1570629959
             ],
             "passed_time": 37.40003975,
             "remaining_time": 4.622476823,
             "test": [
              0.1524324763
             ]
            },
            {
             "iteration": 89,
             "learn": [
              0.1554638205
             ],
             "passed_time": 37.77326352,
             "remaining_time": 4.19702928,
             "test": [
              0.1508519604
             ]
            },
            {
             "iteration": 90,
             "learn": [
              0.1536242046
             ],
             "passed_time": 38.22666233,
             "remaining_time": 3.780658912,
             "test": [
              0.1490747035
             ]
            },
            {
             "iteration": 91,
             "learn": [
              0.1517382172
             ],
             "passed_time": 38.61294471,
             "remaining_time": 3.357647366,
             "test": [
              0.1472754376
             ]
            },
            {
             "iteration": 92,
             "learn": [
              0.1500742889
             ],
             "passed_time": 39.00767197,
             "remaining_time": 2.936061331,
             "test": [
              0.1457669091
             ]
            },
            {
             "iteration": 93,
             "learn": [
              0.1483452598
             ],
             "passed_time": 39.38820474,
             "remaining_time": 2.514140728,
             "test": [
              0.1439803187
             ]
            },
            {
             "iteration": 94,
             "learn": [
              0.1467540953
             ],
             "passed_time": 39.78599083,
             "remaining_time": 2.093999517,
             "test": [
              0.1425657747
             ]
            },
            {
             "iteration": 95,
             "learn": [
              0.1454996694
             ],
             "passed_time": 40.16489411,
             "remaining_time": 1.673537254,
             "test": [
              0.1413099772
             ]
            },
            {
             "iteration": 96,
             "learn": [
              0.1437916598
             ],
             "passed_time": 40.54948658,
             "remaining_time": 1.254107832,
             "test": [
              0.1396084991
             ]
            },
            {
             "iteration": 97,
             "learn": [
              0.1423048302
             ],
             "passed_time": 41.01710048,
             "remaining_time": 0.8370836832,
             "test": [
              0.1380698795
             ]
            },
            {
             "iteration": 98,
             "learn": [
              0.1409795282
             ],
             "passed_time": 41.39135158,
             "remaining_time": 0.4180944604,
             "test": [
              0.1366682682
             ]
            },
            {
             "iteration": 99,
             "learn": [
              0.1397787295
             ],
             "passed_time": 41.74396946,
             "remaining_time": 0,
             "test": [
              0.1355111472
             ]
            }
           ],
           "meta": {
            "iteration_count": 100,
            "launch_mode": "Train",
            "learn_metrics": [
             {
              "best_value": "Min",
              "name": "CrossEntropy"
             }
            ],
            "learn_sets": [
             "learn"
            ],
            "name": "experiment",
            "parameters": "",
            "test_metrics": [
             {
              "best_value": "Min",
              "name": "CrossEntropy"
             }
            ],
            "test_sets": [
             "test"
            ]
           }
          },
          "passed_iterations": 99,
          "total_iterations": 100
         },
         "name": "catboost_info",
         "path": "catboost_info"
        }
       },
       "layout": "IPY_MODEL_e723bbb89435405db9be10181a361373"
      }
     },
     "7c7f0ad35bd940abba70af5478d1d4b5": {
      "model_module": "@jupyter-widgets/base",
      "model_module_version": "1.2.0",
      "model_name": "LayoutModel",
      "state": {
       "_model_module": "@jupyter-widgets/base",
       "_model_module_version": "1.2.0",
       "_model_name": "LayoutModel",
       "_view_count": null,
       "_view_module": "@jupyter-widgets/base",
       "_view_module_version": "1.2.0",
       "_view_name": "LayoutView",
       "align_content": null,
       "align_items": null,
       "align_self": "stretch",
       "border": null,
       "bottom": null,
       "display": null,
       "flex": null,
       "flex_flow": null,
       "grid_area": null,
       "grid_auto_columns": null,
       "grid_auto_flow": null,
       "grid_auto_rows": null,
       "grid_column": null,
       "grid_gap": null,
       "grid_row": null,
       "grid_template_areas": null,
       "grid_template_columns": null,
       "grid_template_rows": null,
       "height": "500px",
       "justify_content": null,
       "justify_items": null,
       "left": null,
       "margin": null,
       "max_height": null,
       "max_width": null,
       "min_height": null,
       "min_width": null,
       "object_fit": null,
       "object_position": null,
       "order": null,
       "overflow": null,
       "overflow_x": null,
       "overflow_y": null,
       "padding": null,
       "right": null,
       "top": null,
       "visibility": null,
       "width": null
      }
     },
     "80672e0ae28f4ab2a46ac53880a62696": {
      "model_module": "catboost-widget",
      "model_module_version": "^1.0.0",
      "model_name": "CatboostWidgetModel",
      "state": {
       "_dom_classes": [],
       "_model_module": "catboost-widget",
       "_model_module_version": "^1.0.0",
       "_model_name": "CatboostWidgetModel",
       "_view_count": null,
       "_view_module": "catboost-widget",
       "_view_module_version": "^1.0.0",
       "_view_name": "CatboostWidgetView",
       "data": {
        "catboost_info": {
         "content": {
          "data": {
           "iterations": [
            {
             "iteration": 0,
             "learn": [
              0.6613807469
             ],
             "passed_time": 0.4016152629,
             "remaining_time": 39.75991102,
             "test": [
              0.6635986857
             ]
            },
            {
             "iteration": 1,
             "learn": [
              0.6362953122
             ],
             "passed_time": 0.8536982105,
             "remaining_time": 41.83121231,
             "test": [
              0.6357719711
             ]
            },
            {
             "iteration": 2,
             "learn": [
              0.6093758753
             ],
             "passed_time": 1.243295646,
             "remaining_time": 40.19989254,
             "test": [
              0.6095189074
             ]
            },
            {
             "iteration": 3,
             "learn": [
              0.5837153369
             ],
             "passed_time": 1.620221178,
             "remaining_time": 38.88530827,
             "test": [
              0.5847112592
             ]
            },
            {
             "iteration": 4,
             "learn": [
              0.5621903548
             ],
             "passed_time": 2.106586465,
             "remaining_time": 40.02514284,
             "test": [
              0.5612356295
             ]
            },
            {
             "iteration": 5,
             "learn": [
              0.53764557
             ],
             "passed_time": 2.568915087,
             "remaining_time": 40.24633636,
             "test": [
              0.5389908389
             ]
            },
            {
             "iteration": 6,
             "learn": [
              0.5168815003
             ],
             "passed_time": 2.988736859,
             "remaining_time": 39.70750398,
             "test": [
              0.5178844758
             ]
            },
            {
             "iteration": 7,
             "learn": [
              0.4986822362
             ],
             "passed_time": 3.358133258,
             "remaining_time": 38.61853247,
             "test": [
              0.4978359604
             ]
            },
            {
             "iteration": 8,
             "learn": [
              0.4785241423
             ],
             "passed_time": 3.77234986,
             "remaining_time": 38.14264859,
             "test": [
              0.478772045
             ]
            },
            {
             "iteration": 9,
             "learn": [
              0.4605783674
             ],
             "passed_time": 4.20012415,
             "remaining_time": 37.80111735,
             "test": [
              0.4606270185
             ]
            },
            {
             "iteration": 10,
             "learn": [
              0.4438179333
             ],
             "passed_time": 4.541277092,
             "remaining_time": 36.74306011,
             "test": [
              0.4433379139
             ]
            },
            {
             "iteration": 11,
             "learn": [
              0.428050043
             ],
             "passed_time": 5.00922476,
             "remaining_time": 36.73431491,
             "test": [
              0.4268523758
             ]
            },
            {
             "iteration": 12,
             "learn": [
              0.412106842
             ],
             "passed_time": 5.464086782,
             "remaining_time": 36.56735,
             "test": [
              0.4111205015
             ]
            },
            {
             "iteration": 13,
             "learn": [
              0.3967741323
             ],
             "passed_time": 5.929943516,
             "remaining_time": 36.42679588,
             "test": [
              0.3960940115
             ]
            },
            {
             "iteration": 14,
             "learn": [
              0.3823895522
             ],
             "passed_time": 6.334480054,
             "remaining_time": 35.89538697,
             "test": [
              0.3817328222
             ]
            },
            {
             "iteration": 15,
             "learn": [
              0.3673294666
             ],
             "passed_time": 6.672816466,
             "remaining_time": 35.03228645,
             "test": [
              0.3679970764
             ]
            },
            {
             "iteration": 16,
             "learn": [
              0.3538742097
             ],
             "passed_time": 7.100240319,
             "remaining_time": 34.66587921,
             "test": [
              0.3548525226
             ]
            },
            {
             "iteration": 17,
             "learn": [
              0.3431627558
             ],
             "passed_time": 7.51919273,
             "remaining_time": 34.25410021,
             "test": [
              0.3422651451
             ]
            },
            {
             "iteration": 18,
             "learn": [
              0.3300828755
             ],
             "passed_time": 7.959132296,
             "remaining_time": 33.93103768,
             "test": [
              0.3302051862
             ]
            },
            {
             "iteration": 19,
             "learn": [
              0.3196710658
             ],
             "passed_time": 8.355120359,
             "remaining_time": 33.42048144,
             "test": [
              0.3186442748
             ]
            },
            {
             "iteration": 20,
             "learn": [
              0.3069649258
             ],
             "passed_time": 8.805790935,
             "remaining_time": 33.12654685,
             "test": [
              0.3075558086
             ]
            },
            {
             "iteration": 21,
             "learn": [
              0.2968780395
             ],
             "passed_time": 9.18925776,
             "remaining_time": 32.5800957,
             "test": [
              0.2969155455
             ]
            },
            {
             "iteration": 22,
             "learn": [
              0.2867639754
             ],
             "passed_time": 9.630184737,
             "remaining_time": 32.24018369,
             "test": [
              0.2867008544
             ]
            },
            {
             "iteration": 23,
             "learn": [
              0.2764892735
             ],
             "passed_time": 10.05271155,
             "remaining_time": 31.83358658,
             "test": [
              0.2768910961
             ]
            },
            {
             "iteration": 24,
             "learn": [
              0.2664409474
             ],
             "passed_time": 10.49870486,
             "remaining_time": 31.49611458,
             "test": [
              0.2674637458
             ]
            },
            {
             "iteration": 25,
             "learn": [
              0.2579752131
             ],
             "passed_time": 10.86267668,
             "remaining_time": 30.91684902,
             "test": [
              0.2584023209
             ]
            },
            {
             "iteration": 26,
             "learn": [
              0.2499589773
             ],
             "passed_time": 11.2898095,
             "remaining_time": 30.52429975,
             "test": [
              0.2496894089
             ]
            },
            {
             "iteration": 27,
             "learn": [
              0.2419682641
             ],
             "passed_time": 11.6845287,
             "remaining_time": 30.04593094,
             "test": [
              0.2413085676
             ]
            },
            {
             "iteration": 28,
             "learn": [
              0.2336719933
             ],
             "passed_time": 12.10770296,
             "remaining_time": 29.6429969,
             "test": [
              0.2332440147
             ]
            },
            {
             "iteration": 29,
             "learn": [
              0.2258395855
             ],
             "passed_time": 12.55683812,
             "remaining_time": 29.29928895,
             "test": [
              0.225482213
             ]
            },
            {
             "iteration": 30,
             "learn": [
              0.2185190265
             ],
             "passed_time": 12.98631511,
             "remaining_time": 28.90502394,
             "test": [
              0.2180082749
             ]
            },
            {
             "iteration": 31,
             "learn": [
              0.2109261107
             ],
             "passed_time": 13.37282794,
             "remaining_time": 28.41725936,
             "test": [
              0.2108099468
             ]
            },
            {
             "iteration": 32,
             "learn": [
              0.203345207
             ],
             "passed_time": 13.75778596,
             "remaining_time": 27.93247452,
             "test": [
              0.2038748959
             ]
            },
            {
             "iteration": 33,
             "learn": [
              0.1964181246
             ],
             "passed_time": 14.24743121,
             "remaining_time": 27.65677824,
             "test": [
              0.1971925243
             ]
            },
            {
             "iteration": 34,
             "learn": [
              0.191164539
             ],
             "passed_time": 14.63900504,
             "remaining_time": 27.18672365,
             "test": [
              0.1907514146
             ]
            },
            {
             "iteration": 35,
             "learn": [
              0.1838935566
             ],
             "passed_time": 15.02821931,
             "remaining_time": 26.71683433,
             "test": [
              0.184541309
             ]
            },
            {
             "iteration": 36,
             "learn": [
              0.1787504353
             ],
             "passed_time": 15.45009456,
             "remaining_time": 26.30691776,
             "test": [
              0.1785525577
             ]
            },
            {
             "iteration": 37,
             "learn": [
              0.1721817496
             ],
             "passed_time": 15.91134029,
             "remaining_time": 25.96060784,
             "test": [
              0.1727765245
             ]
            },
            {
             "iteration": 38,
             "learn": [
              0.1676612269
             ],
             "passed_time": 16.32874212,
             "remaining_time": 25.53982742,
             "test": [
              0.1672037934
             ]
            },
            {
             "iteration": 39,
             "learn": [
              0.1614191892
             ],
             "passed_time": 16.73716099,
             "remaining_time": 25.10574148,
             "test": [
              0.1618257401
             ]
            },
            {
             "iteration": 40,
             "learn": [
              0.1563214092
             ],
             "passed_time": 17.17573567,
             "remaining_time": 24.71630255,
             "test": [
              0.1566350948
             ]
            },
            {
             "iteration": 41,
             "learn": [
              0.1520097634
             ],
             "passed_time": 17.64440022,
             "remaining_time": 24.36607649,
             "test": [
              0.1516246468
             ]
            },
            {
             "iteration": 42,
             "learn": [
              0.1469949507
             ],
             "passed_time": 18.12493457,
             "remaining_time": 24.02607606,
             "test": [
              0.146787272
             ]
            },
            {
             "iteration": 43,
             "learn": [
              0.1418582008
             ],
             "passed_time": 18.5176385,
             "remaining_time": 23.56790355,
             "test": [
              0.142115763
             ]
            },
            {
             "iteration": 44,
             "learn": [
              0.1370973397
             ],
             "passed_time": 18.9678222,
             "remaining_time": 23.1828938,
             "test": [
              0.1376042286
             ]
            },
            {
             "iteration": 45,
             "learn": [
              0.1329001688
             ],
             "passed_time": 19.36474177,
             "remaining_time": 22.73252295,
             "test": [
              0.1332452401
             ]
            },
            {
             "iteration": 46,
             "learn": [
              0.1289109065
             ],
             "passed_time": 19.69423824,
             "remaining_time": 22.20839631,
             "test": [
              0.1290333959
             ]
            },
            {
             "iteration": 47,
             "learn": [
              0.1249839026
             ],
             "passed_time": 20.09670054,
             "remaining_time": 21.77142558,
             "test": [
              0.1249650436
             ]
            },
            {
             "iteration": 48,
             "learn": [
              0.1210749398
             ],
             "passed_time": 20.57030267,
             "remaining_time": 21.40990686,
             "test": [
              0.1210328503
             ]
            },
            {
             "iteration": 49,
             "learn": [
              0.1171873037
             ],
             "passed_time": 20.98713715,
             "remaining_time": 20.98713715,
             "test": [
              0.1172311281
             ]
            },
            {
             "iteration": 50,
             "learn": [
              0.113311821
             ],
             "passed_time": 21.36949657,
             "remaining_time": 20.5314771,
             "test": [
              0.1135556771
             ]
            },
            {
             "iteration": 51,
             "learn": [
              0.1097481369
             ],
             "passed_time": 21.82380849,
             "remaining_time": 20.14505399,
             "test": [
              0.1100025402
             ]
            },
            {
             "iteration": 52,
             "learn": [
              0.1069193175
             ],
             "passed_time": 22.19641876,
             "remaining_time": 19.68361664,
             "test": [
              0.1065665718
             ]
            },
            {
             "iteration": 53,
             "learn": [
              0.1033970679
             ],
             "passed_time": 22.68186136,
             "remaining_time": 19.3215856,
             "test": [
              0.1032437159
             ]
            },
            {
             "iteration": 54,
             "learn": [
              0.09972307938
             ],
             "passed_time": 23.10642734,
             "remaining_time": 18.90525873,
             "test": [
              0.1000302295
             ]
            },
            {
             "iteration": 55,
             "learn": [
              0.09713027053
             ],
             "passed_time": 23.45685446,
             "remaining_time": 18.43038565,
             "test": [
              0.09692137827
             ]
            },
            {
             "iteration": 56,
             "learn": [
              0.09375847047
             ],
             "passed_time": 23.84072047,
             "remaining_time": 17.98510492,
             "test": [
              0.0939144372
             ]
            },
            {
             "iteration": 57,
             "learn": [
              0.09121523279
             ],
             "passed_time": 24.24942836,
             "remaining_time": 17.55993088,
             "test": [
              0.09100489092
             ]
            },
            {
             "iteration": 58,
             "learn": [
              0.0879332323
             ],
             "passed_time": 24.70456213,
             "remaining_time": 17.16757708,
             "test": [
              0.08818993751
             ]
            },
            {
             "iteration": 59,
             "learn": [
              0.0854642896
             ],
             "passed_time": 25.13066514,
             "remaining_time": 16.75377676,
             "test": [
              0.08546634348
             ]
            },
            {
             "iteration": 60,
             "learn": [
              0.08256655922
             ],
             "passed_time": 25.58917903,
             "remaining_time": 16.36029479,
             "test": [
              0.08283010674
             ]
            },
            {
             "iteration": 61,
             "learn": [
              0.08009270143
             ],
             "passed_time": 26.11088559,
             "remaining_time": 16.00344601,
             "test": [
              0.08027836339
             ]
            },
            {
             "iteration": 62,
             "learn": [
              0.07796297556
             ],
             "passed_time": 26.7772153,
             "remaining_time": 15.72630105,
             "test": [
              0.0778086173
             ]
            },
            {
             "iteration": 63,
             "learn": [
              0.07547863199
             ],
             "passed_time": 27.29990134,
             "remaining_time": 15.3561945,
             "test": [
              0.0754183097
             ]
            },
            {
             "iteration": 64,
             "learn": [
              0.072943147
             ],
             "passed_time": 27.73472501,
             "remaining_time": 14.9340827,
             "test": [
              0.07310386499
             ]
            },
            {
             "iteration": 65,
             "learn": [
              0.07052771008
             ],
             "passed_time": 28.09455747,
             "remaining_time": 14.47295385,
             "test": [
              0.07086307242
             ]
            },
            {
             "iteration": 66,
             "learn": [
              0.0684308992
             ],
             "passed_time": 28.43651458,
             "remaining_time": 14.00604449,
             "test": [
              0.06869307667
             ]
            },
            {
             "iteration": 67,
             "learn": [
              0.06642260974
             ],
             "passed_time": 28.79318384,
             "remaining_time": 13.54973357,
             "test": [
              0.06659201652
             ]
            },
            {
             "iteration": 68,
             "learn": [
              0.06445778013
             ],
             "passed_time": 29.18230149,
             "remaining_time": 13.11088907,
             "test": [
              0.06455738335
             ]
            },
            {
             "iteration": 69,
             "learn": [
              0.06250398843
             ],
             "passed_time": 29.55567689,
             "remaining_time": 12.66671867,
             "test": [
              0.06258693524
             ]
            },
            {
             "iteration": 70,
             "learn": [
              0.06055451398
             ],
             "passed_time": 29.91575379,
             "remaining_time": 12.2191107,
             "test": [
              0.06067852315
             ]
            },
            {
             "iteration": 71,
             "learn": [
              0.05864416412
             ],
             "passed_time": 30.26725481,
             "remaining_time": 11.77059909,
             "test": [
              0.05883017834
             ]
            },
            {
             "iteration": 72,
             "learn": [
              0.05683137918
             ],
             "passed_time": 30.70438036,
             "remaining_time": 11.35641465,
             "test": [
              0.05703998703
             ]
            },
            {
             "iteration": 73,
             "learn": [
              0.0554224676
             ],
             "passed_time": 31.10782285,
             "remaining_time": 10.9297756,
             "test": [
              0.055305526
             ]
            },
            {
             "iteration": 74,
             "learn": [
              0.05366403419
             ],
             "passed_time": 31.53970472,
             "remaining_time": 10.51323491,
             "test": [
              0.05362603832
             ]
            },
            {
             "iteration": 75,
             "learn": [
              0.05181543093
             ],
             "passed_time": 31.94845658,
             "remaining_time": 10.08898629,
             "test": [
              0.05199846596
             ]
            },
            {
             "iteration": 76,
             "learn": [
              0.05052164896
             ],
             "passed_time": 32.38022319,
             "remaining_time": 9.672014718,
             "test": [
              0.05042154954
             ]
            },
            {
             "iteration": 77,
             "learn": [
              0.04883161458
             ],
             "passed_time": 32.79187074,
             "remaining_time": 9.248989183,
             "test": [
              0.04889371587
             ]
            },
            {
             "iteration": 78,
             "learn": [
              0.04719425932
             ],
             "passed_time": 33.16600235,
             "remaining_time": 8.816279107,
             "test": [
              0.04741331027
             ]
            },
            {
             "iteration": 79,
             "learn": [
              0.04590298022
             ],
             "passed_time": 33.53139193,
             "remaining_time": 8.382847983,
             "test": [
              0.04597909214
             ]
            },
            {
             "iteration": 80,
             "learn": [
              0.04463949374
             ],
             "passed_time": 33.88046653,
             "remaining_time": 7.947269928,
             "test": [
              0.04458903066
             ]
            },
            {
             "iteration": 81,
             "learn": [
              0.04305412284
             ],
             "passed_time": 34.30387261,
             "remaining_time": 7.530118378,
             "test": [
              0.04324219605
             ]
            },
            {
             "iteration": 82,
             "learn": [
              0.04194199672
             ],
             "passed_time": 34.6692471,
             "remaining_time": 7.100930129,
             "test": [
              0.04193667902
             ]
            },
            {
             "iteration": 83,
             "learn": [
              0.04070499937
             ],
             "passed_time": 35.02712044,
             "remaining_time": 6.671832464,
             "test": [
              0.04067124136
             ]
            },
            {
             "iteration": 84,
             "learn": [
              0.03933655566
             ],
             "passed_time": 35.44081404,
             "remaining_time": 6.254261301,
             "test": [
              0.0394450359
             ]
            },
            {
             "iteration": 85,
             "learn": [
              0.0381162433
             ],
             "passed_time": 35.80277072,
             "remaining_time": 5.828358025,
             "test": [
              0.0382563329
             ]
            },
            {
             "iteration": 86,
             "learn": [
              0.03709675781
             ],
             "passed_time": 36.26756834,
             "remaining_time": 5.419291821,
             "test": [
              0.03710457043
             ]
            },
            {
             "iteration": 87,
             "learn": [
              0.0360457548
             ],
             "passed_time": 36.64900726,
             "remaining_time": 4.997591899,
             "test": [
              0.03598779464
             ]
            },
            {
             "iteration": 88,
             "learn": [
              0.03485626278
             ],
             "passed_time": 37.07949186,
             "remaining_time": 4.582858545,
             "test": [
              0.03490580525
             ]
            },
            {
             "iteration": 89,
             "learn": [
              0.03381356905
             ],
             "passed_time": 37.57036275,
             "remaining_time": 4.17448475,
             "test": [
              0.03385647812
             ]
            },
            {
             "iteration": 90,
             "learn": [
              0.03280810408
             ],
             "passed_time": 37.9753478,
             "remaining_time": 3.755803629,
             "test": [
              0.03283943809
             ]
            },
            {
             "iteration": 91,
             "learn": [
              0.03181718186
             ],
             "passed_time": 38.53067457,
             "remaining_time": 3.350493441,
             "test": [
              0.03185402129
             ]
            },
            {
             "iteration": 92,
             "learn": [
              0.03084108743
             ],
             "passed_time": 38.96961528,
             "remaining_time": 2.933196849,
             "test": [
              0.03089833845
             ]
            },
            {
             "iteration": 93,
             "learn": [
              0.02989014321
             ],
             "passed_time": 39.33524333,
             "remaining_time": 2.510760213,
             "test": [
              0.02997178841
             ]
            },
            {
             "iteration": 94,
             "learn": [
              0.02895955637
             ],
             "passed_time": 39.73708471,
             "remaining_time": 2.091425511,
             "test": [
              0.02907330894
             ]
            },
            {
             "iteration": 95,
             "learn": [
              0.02822583163
             ],
             "passed_time": 40.18331066,
             "remaining_time": 1.674304611,
             "test": [
              0.02820291936
             ]
            },
            {
             "iteration": 96,
             "learn": [
              0.02734156434
             ],
             "passed_time": 40.59484937,
             "remaining_time": 1.255510805,
             "test": [
              0.02735847167
             ]
            },
            {
             "iteration": 97,
             "learn": [
              0.02641719919
             ],
             "passed_time": 41.01419446,
             "remaining_time": 0.8370243767,
             "test": [
              0.02653925673
             ]
            },
            {
             "iteration": 98,
             "learn": [
              0.02576421855
             ],
             "passed_time": 41.46099933,
             "remaining_time": 0.418797973,
             "test": [
              0.02574478934
             ]
            },
            {
             "iteration": 99,
             "learn": [
              0.02490906593
             ],
             "passed_time": 41.88808333,
             "remaining_time": 0,
             "test": [
              0.02497446544
             ]
            }
           ],
           "meta": {
            "iteration_count": 100,
            "launch_mode": "Train",
            "learn_metrics": [
             {
              "best_value": "Min",
              "name": "CrossEntropy"
             }
            ],
            "learn_sets": [
             "learn"
            ],
            "name": "experiment",
            "parameters": "",
            "test_metrics": [
             {
              "best_value": "Min",
              "name": "CrossEntropy"
             }
            ],
            "test_sets": [
             "test"
            ]
           }
          },
          "passed_iterations": 99,
          "total_iterations": 100
         },
         "name": "catboost_info",
         "path": "catboost_info"
        }
       },
       "layout": "IPY_MODEL_ec8905aece1c428fa1201a5ee2dab8d1"
      }
     },
     "845de07c79e44afa816fd94882530363": {
      "model_module": "@jupyter-widgets/base",
      "model_module_version": "1.2.0",
      "model_name": "LayoutModel",
      "state": {
       "_model_module": "@jupyter-widgets/base",
       "_model_module_version": "1.2.0",
       "_model_name": "LayoutModel",
       "_view_count": null,
       "_view_module": "@jupyter-widgets/base",
       "_view_module_version": "1.2.0",
       "_view_name": "LayoutView",
       "align_content": null,
       "align_items": null,
       "align_self": "stretch",
       "border": null,
       "bottom": null,
       "display": null,
       "flex": null,
       "flex_flow": null,
       "grid_area": null,
       "grid_auto_columns": null,
       "grid_auto_flow": null,
       "grid_auto_rows": null,
       "grid_column": null,
       "grid_gap": null,
       "grid_row": null,
       "grid_template_areas": null,
       "grid_template_columns": null,
       "grid_template_rows": null,
       "height": "500px",
       "justify_content": null,
       "justify_items": null,
       "left": null,
       "margin": null,
       "max_height": null,
       "max_width": null,
       "min_height": null,
       "min_width": null,
       "object_fit": null,
       "object_position": null,
       "order": null,
       "overflow": null,
       "overflow_x": null,
       "overflow_y": null,
       "padding": null,
       "right": null,
       "top": null,
       "visibility": null,
       "width": null
      }
     },
     "86bb96da24b6447c97df287799b10446": {
      "model_module": "catboost-widget",
      "model_module_version": "^1.0.0",
      "model_name": "CatboostWidgetModel",
      "state": {
       "_dom_classes": [],
       "_model_module": "catboost-widget",
       "_model_module_version": "^1.0.0",
       "_model_name": "CatboostWidgetModel",
       "_view_count": null,
       "_view_module": "catboost-widget",
       "_view_module_version": "^1.0.0",
       "_view_name": "CatboostWidgetView",
       "data": {
        "catboost_info": {
         "content": {
          "data": {
           "iterations": [
            {
             "iteration": 0,
             "learn": [
              0.6613809178
             ],
             "passed_time": 0.402181135,
             "remaining_time": 39.81593237,
             "test": [
              0.6635990314
             ]
            },
            {
             "iteration": 1,
             "learn": [
              0.6362956145
             ],
             "passed_time": 0.8511299196,
             "remaining_time": 41.70536606,
             "test": [
              0.6357722602
             ]
            },
            {
             "iteration": 2,
             "learn": [
              0.6093763484
             ],
             "passed_time": 1.240040248,
             "remaining_time": 40.09463468,
             "test": [
              0.6095190848
             ]
            },
            {
             "iteration": 3,
             "learn": [
              0.5837159809
             ],
             "passed_time": 1.615160848,
             "remaining_time": 38.76386035,
             "test": [
              0.5847116069
             ]
            },
            {
             "iteration": 4,
             "learn": [
              0.5621911827
             ],
             "passed_time": 2.100375391,
             "remaining_time": 39.90713244,
             "test": [
              0.5612362221
             ]
            },
            {
             "iteration": 5,
             "learn": [
              0.5376465426
             ],
             "passed_time": 2.560310622,
             "remaining_time": 40.11153308,
             "test": [
              0.5389901263
             ]
            },
            {
             "iteration": 6,
             "learn": [
              0.5168826962
             ],
             "passed_time": 2.975073848,
             "remaining_time": 39.52598113,
             "test": [
              0.5178843607
             ]
            },
            {
             "iteration": 7,
             "learn": [
              0.4986840761
             ],
             "passed_time": 3.342303081,
             "remaining_time": 38.43648544,
             "test": [
              0.4978358624
             ]
            },
            {
             "iteration": 8,
             "learn": [
              0.4785255879
             ],
             "passed_time": 3.754863624,
             "remaining_time": 37.96584331,
             "test": [
              0.4787726781
             ]
            },
            {
             "iteration": 9,
             "learn": [
              0.460579905
             ],
             "passed_time": 4.184920793,
             "remaining_time": 37.66428714,
             "test": [
              0.4606277254
             ]
            },
            {
             "iteration": 10,
             "learn": [
              0.4438198521
             ],
             "passed_time": 4.521451163,
             "remaining_time": 36.58265032,
             "test": [
              0.4433389285
             ]
            },
            {
             "iteration": 11,
             "learn": [
              0.4280517712
             ],
             "passed_time": 4.991700064,
             "remaining_time": 36.60580047,
             "test": [
              0.4268543803
             ]
            },
            {
             "iteration": 12,
             "learn": [
              0.4121116257
             ],
             "passed_time": 5.447104574,
             "remaining_time": 36.45369984,
             "test": [
              0.4111219056
             ]
            },
            {
             "iteration": 13,
             "learn": [
              0.3967761562
             ],
             "passed_time": 5.872952777,
             "remaining_time": 36.07670992,
             "test": [
              0.3960960839
             ]
            },
            {
             "iteration": 14,
             "learn": [
              0.3823920558
             ],
             "passed_time": 6.284091972,
             "remaining_time": 35.60985451,
             "test": [
              0.3817350548
             ]
            },
            {
             "iteration": 15,
             "learn": [
              0.3673317928
             ],
             "passed_time": 6.620835317,
             "remaining_time": 34.75938541,
             "test": [
              0.3679994053
             ]
            },
            {
             "iteration": 16,
             "learn": [
              0.3538776003
             ],
             "passed_time": 7.043929266,
             "remaining_time": 34.39094877,
             "test": [
              0.3548544733
             ]
            },
            {
             "iteration": 17,
             "learn": [
              0.3431652922
             ],
             "passed_time": 7.452187827,
             "remaining_time": 33.94885565,
             "test": [
              0.3422669637
             ]
            },
            {
             "iteration": 18,
             "learn": [
              0.3300856484
             ],
             "passed_time": 7.889382129,
             "remaining_time": 33.63368171,
             "test": [
              0.3302066377
             ]
            },
            {
             "iteration": 19,
             "learn": [
              0.3196738387
             ],
             "passed_time": 8.288704631,
             "remaining_time": 33.15481852,
             "test": [
              0.3186449907
             ]
            },
            {
             "iteration": 20,
             "learn": [
              0.306968139
             ],
             "passed_time": 8.739038042,
             "remaining_time": 32.87542883,
             "test": [
              0.307556932
             ]
            },
            {
             "iteration": 21,
             "learn": [
              0.2968810819
             ],
             "passed_time": 9.128524688,
             "remaining_time": 32.36476935,
             "test": [
              0.2969164479
             ]
            },
            {
             "iteration": 22,
             "learn": [
              0.2867672017
             ],
             "passed_time": 9.567314073,
             "remaining_time": 32.02970363,
             "test": [
              0.2867016146
             ]
            },
            {
             "iteration": 23,
             "learn": [
              0.2765003524
             ],
             "passed_time": 10.03533837,
             "remaining_time": 31.77857151,
             "test": [
              0.2768900711
             ]
            },
            {
             "iteration": 24,
             "learn": [
              0.2664450938
             ],
             "passed_time": 10.48430472,
             "remaining_time": 31.45291417,
             "test": [
              0.2674630721
             ]
            },
            {
             "iteration": 25,
             "learn": [
              0.257978768
             ],
             "passed_time": 10.86323751,
             "remaining_time": 30.91844521,
             "test": [
              0.2584016212
             ]
            },
            {
             "iteration": 26,
             "learn": [
              0.2499625717
             ],
             "passed_time": 11.47275315,
             "remaining_time": 31.01892519,
             "test": [
              0.2496887701
             ]
            },
            {
             "iteration": 27,
             "learn": [
              0.241972095
             ],
             "passed_time": 12.01616355,
             "remaining_time": 30.89870627,
             "test": [
              0.2413077782
             ]
            },
            {
             "iteration": 28,
             "learn": [
              0.2336759425
             ],
             "passed_time": 12.52820138,
             "remaining_time": 30.67249304,
             "test": [
              0.2332433701
             ]
            },
            {
             "iteration": 29,
             "learn": [
              0.2258436136
             ],
             "passed_time": 12.97154313,
             "remaining_time": 30.26693397,
             "test": [
              0.2254817507
             ]
            },
            {
             "iteration": 30,
             "learn": [
              0.2185232484
             ],
             "passed_time": 13.40802474,
             "remaining_time": 29.84366796,
             "test": [
              0.2180077961
             ]
            },
            {
             "iteration": 31,
             "learn": [
              0.2109304048
             ],
             "passed_time": 13.79291633,
             "remaining_time": 29.3099472,
             "test": [
              0.2108095179
             ]
            },
            {
             "iteration": 32,
             "learn": [
              0.2033495537
             ],
             "passed_time": 14.17812986,
             "remaining_time": 28.78590002,
             "test": [
              0.2038759332
             ]
            },
            {
             "iteration": 33,
             "learn": [
              0.196423733
             ],
             "passed_time": 14.66889636,
             "remaining_time": 28.47491647,
             "test": [
              0.1971936183
             ]
            },
            {
             "iteration": 34,
             "learn": [
              0.1911717113
             ],
             "passed_time": 15.05780305,
             "remaining_time": 27.96449137,
             "test": [
              0.190752668
             ]
            },
            {
             "iteration": 35,
             "learn": [
              0.1838982089
             ],
             "passed_time": 15.45100756,
             "remaining_time": 27.46845788,
             "test": [
              0.1845426035
             ]
            },
            {
             "iteration": 36,
             "learn": [
              0.1787572068
             ],
             "passed_time": 15.8801056,
             "remaining_time": 27.03909873,
             "test": [
              0.1785537357
             ]
            },
            {
             "iteration": 37,
             "learn": [
              0.1721868717
             ],
             "passed_time": 16.33646378,
             "remaining_time": 26.65423037,
             "test": [
              0.1727777648
             ]
            },
            {
             "iteration": 38,
             "learn": [
              0.1676664443
             ],
             "passed_time": 16.75593162,
             "remaining_time": 26.20799561,
             "test": [
              0.1672052384
             ]
            },
            {
             "iteration": 39,
             "learn": [
              0.1614248206
             ],
             "passed_time": 17.10298194,
             "remaining_time": 25.65447291,
             "test": [
              0.1618271359
             ]
            },
            {
             "iteration": 40,
             "learn": [
              0.1563266299
             ],
             "passed_time": 17.53670001,
             "remaining_time": 25.23573903,
             "test": [
              0.1566367517
             ]
            },
            {
             "iteration": 41,
             "learn": [
              0.1520150662
             ],
             "passed_time": 17.98934795,
             "remaining_time": 24.84243289,
             "test": [
              0.1516262835
             ]
            },
            {
             "iteration": 42,
             "learn": [
              0.1470006741
             ],
             "passed_time": 18.47124759,
             "remaining_time": 24.48514216,
             "test": [
              0.1467889553
             ]
            },
            {
             "iteration": 43,
             "learn": [
              0.1418648507
             ],
             "passed_time": 18.85876125,
             "remaining_time": 24.00205977,
             "test": [
              0.1421173013
             ]
            },
            {
             "iteration": 44,
             "learn": [
              0.137103109
             ],
             "passed_time": 19.30618182,
             "remaining_time": 23.59644445,
             "test": [
              0.1376058849
             ]
            },
            {
             "iteration": 45,
             "learn": [
              0.1329058264
             ],
             "passed_time": 19.70593071,
             "remaining_time": 23.13304909,
             "test": [
              0.1332468864
             ]
            },
            {
             "iteration": 46,
             "learn": [
              0.1289165379
             ],
             "passed_time": 20.03572143,
             "remaining_time": 22.5934731,
             "test": [
              0.1290357204
             ]
            },
            {
             "iteration": 47,
             "learn": [
              0.1249898132
             ],
             "passed_time": 20.43517386,
             "remaining_time": 22.13810502,
             "test": [
              0.1249663009
             ]
            },
            {
             "iteration": 48,
             "learn": [
              0.1210808241
             ],
             "passed_time": 20.95087194,
             "remaining_time": 21.80600957,
             "test": [
              0.1210337228
             ]
            },
            {
             "iteration": 49,
             "learn": [
              0.117193418
             ],
             "passed_time": 21.36450561,
             "remaining_time": 21.36450561,
             "test": [
              0.1172320851
             ]
            },
            {
             "iteration": 50,
             "learn": [
              0.1133183066
             ],
             "passed_time": 21.74831807,
             "remaining_time": 20.89544285,
             "test": [
              0.1135567277
             ]
            },
            {
             "iteration": 51,
             "learn": [
              0.1097543137
             ],
             "passed_time": 22.2002966,
             "remaining_time": 20.49258147,
             "test": [
              0.1100040707
             ]
            },
            {
             "iteration": 52,
             "learn": [
              0.1069261251
             ],
             "passed_time": 22.57676253,
             "remaining_time": 20.02090262,
             "test": [
              0.1065681007
             ]
            },
            {
             "iteration": 53,
             "learn": [
              0.1034035124
             ],
             "passed_time": 23.04683199,
             "remaining_time": 19.63248651,
             "test": [
              0.1032452731
             ]
            },
            {
             "iteration": 54,
             "learn": [
              0.09972944177
             ],
             "passed_time": 23.47351159,
             "remaining_time": 19.20560039,
             "test": [
              0.1000317466
             ]
            },
            {
             "iteration": 55,
             "learn": [
              0.09713680541
             ],
             "passed_time": 23.82467408,
             "remaining_time": 18.71938677,
             "test": [
              0.09692301357
             ]
            },
            {
             "iteration": 56,
             "learn": [
              0.09376524519
             ],
             "passed_time": 24.20711063,
             "remaining_time": 18.26150451,
             "test": [
              0.09391621133
             ]
            },
            {
             "iteration": 57,
             "learn": [
              0.09122188266
             ],
             "passed_time": 24.6171488,
             "remaining_time": 17.8262112,
             "test": [
              0.0910066865
             ]
            },
            {
             "iteration": 58,
             "learn": [
              0.08794091548
             ],
             "passed_time": 25.06943268,
             "remaining_time": 17.42113118,
             "test": [
              0.08819171478
             ]
            },
            {
             "iteration": 59,
             "learn": [
              0.08547166393
             ],
             "passed_time": 25.49931782,
             "remaining_time": 16.99954521,
             "test": [
              0.08546824306
             ]
            },
            {
             "iteration": 60,
             "learn": [
              0.08257474672
             ],
             "passed_time": 25.96388229,
             "remaining_time": 16.59985917,
             "test": [
              0.08283222841
             ]
            },
            {
             "iteration": 61,
             "learn": [
              0.08009986548
             ],
             "passed_time": 26.35847921,
             "remaining_time": 16.15519694,
             "test": [
              0.08028090977
             ]
            },
            {
             "iteration": 62,
             "learn": [
              0.07797046488
             ],
             "passed_time": 26.8287357,
             "remaining_time": 15.75655906,
             "test": [
              0.07781113743
             ]
            },
            {
             "iteration": 63,
             "learn": [
              0.07548677349
             ],
             "passed_time": 27.22096647,
             "remaining_time": 15.31179364,
             "test": [
              0.07542051266
             ]
            },
            {
             "iteration": 64,
             "learn": [
              0.07295579137
             ],
             "passed_time": 27.59970383,
             "remaining_time": 14.86137899,
             "test": [
              0.07310629094
             ]
            },
            {
             "iteration": 65,
             "learn": [
              0.0705383026
             ],
             "passed_time": 27.95556589,
             "remaining_time": 14.40135213,
             "test": [
              0.07086556927
             ]
            },
            {
             "iteration": 66,
             "learn": [
              0.06844272382
             ],
             "passed_time": 28.29262681,
             "remaining_time": 13.9351744,
             "test": [
              0.06869580231
             ]
            },
            {
             "iteration": 67,
             "learn": [
              0.06643035039
             ],
             "passed_time": 28.65550707,
             "remaining_time": 13.4849445,
             "test": [
              0.0665949092
             ]
            },
            {
             "iteration": 68,
             "learn": [
              0.06446552407
             ],
             "passed_time": 29.04642208,
             "remaining_time": 13.04984181,
             "test": [
              0.06456057388
             ]
            },
            {
             "iteration": 69,
             "learn": [
              0.06251170937
             ],
             "passed_time": 29.42193271,
             "remaining_time": 12.60939973,
             "test": [
              0.06259007413
             ]
            },
            {
             "iteration": 70,
             "learn": [
              0.06056248297
             ],
             "passed_time": 29.78835228,
             "remaining_time": 12.16707346,
             "test": [
              0.06068160292
             ]
            },
            {
             "iteration": 71,
             "learn": [
              0.05865230232
             ],
             "passed_time": 30.14042295,
             "remaining_time": 11.72127559,
             "test": [
              0.05883371772
             ]
            },
            {
             "iteration": 72,
             "learn": [
              0.05684055069
             ],
             "passed_time": 30.58075251,
             "remaining_time": 11.31068928,
             "test": [
              0.05704363009
             ]
            },
            {
             "iteration": 73,
             "learn": [
              0.05543060251
             ],
             "passed_time": 30.99707641,
             "remaining_time": 10.89086469,
             "test": [
              0.05530920098
             ]
            },
            {
             "iteration": 74,
             "learn": [
              0.05367307426
             ],
             "passed_time": 31.43272155,
             "remaining_time": 10.47757385,
             "test": [
              0.05362943001
             ]
            },
            {
             "iteration": 75,
             "learn": [
              0.05182388699
             ],
             "passed_time": 31.87456867,
             "remaining_time": 10.06565326,
             "test": [
              0.05200209368
             ]
            },
            {
             "iteration": 76,
             "learn": [
              0.05053007463
             ],
             "passed_time": 32.32160565,
             "remaining_time": 9.654505585,
             "test": [
              0.05042512754
             ]
            },
            {
             "iteration": 77,
             "learn": [
              0.04884003697
             ],
             "passed_time": 32.73334292,
             "remaining_time": 9.232481336,
             "test": [
              0.04889714664
             ]
            },
            {
             "iteration": 78,
             "learn": [
              0.04720873864
             ],
             "passed_time": 33.10598288,
             "remaining_time": 8.800324564,
             "test": [
              0.04741675034
             ]
            },
            {
             "iteration": 79,
             "learn": [
              0.04591154716
             ],
             "passed_time": 33.47381657,
             "remaining_time": 8.368454143,
             "test": [
              0.04598209216
             ]
            },
            {
             "iteration": 80,
             "learn": [
              0.04464859787
             ],
             "passed_time": 33.82194889,
             "remaining_time": 7.933543566,
             "test": [
              0.0445920806
             ]
            },
            {
             "iteration": 81,
             "learn": [
              0.0430635243
             ],
             "passed_time": 34.24589662,
             "remaining_time": 7.51739194,
             "test": [
              0.04324513019
             ]
            },
            {
             "iteration": 82,
             "learn": [
              0.04195333831
             ],
             "passed_time": 34.61502778,
             "remaining_time": 7.089824966,
             "test": [
              0.04193967171
             ]
            },
            {
             "iteration": 83,
             "learn": [
              0.04071426037
             ],
             "passed_time": 34.98299096,
             "remaining_time": 6.663426849,
             "test": [
              0.0406742281
             ]
            },
            {
             "iteration": 84,
             "learn": [
              0.03934766397
             ],
             "passed_time": 35.39817812,
             "remaining_time": 6.246737316,
             "test": [
              0.03944857446
             ]
            },
            {
             "iteration": 85,
             "learn": [
              0.03812645054
             ],
             "passed_time": 35.75885128,
             "remaining_time": 5.821208348,
             "test": [
              0.03825981907
             ]
            },
            {
             "iteration": 86,
             "learn": [
              0.03710644429
             ],
             "passed_time": 36.24143768,
             "remaining_time": 5.41538724,
             "test": [
              0.03710801669
             ]
            },
            {
             "iteration": 87,
             "learn": [
              0.036055553
             ],
             "passed_time": 36.62808157,
             "remaining_time": 4.994738396,
             "test": [
              0.03599136424
             ]
            },
            {
             "iteration": 88,
             "learn": [
              0.03486669508
             ],
             "passed_time": 37.063664,
             "remaining_time": 4.580902292,
             "test": [
              0.03490976666
             ]
            },
            {
             "iteration": 89,
             "learn": [
              0.03382414099
             ],
             "passed_time": 37.5487402,
             "remaining_time": 4.172082244,
             "test": [
              0.03386128468
             ]
            },
            {
             "iteration": 90,
             "learn": [
              0.03281890929
             ],
             "passed_time": 37.95243674,
             "remaining_time": 3.7535377,
             "test": [
              0.03284430816
             ]
            },
            {
             "iteration": 91,
             "learn": [
              0.03182786304
             ],
             "passed_time": 38.48542067,
             "remaining_time": 3.346558319,
             "test": [
              0.03185893756
             ]
            },
            {
             "iteration": 92,
             "learn": [
              0.03085107289
             ],
             "passed_time": 38.9100947,
             "remaining_time": 2.928716805,
             "test": [
              0.03090343636
             ]
            },
            {
             "iteration": 93,
             "learn": [
              0.02990645584
             ],
             "passed_time": 39.28119993,
             "remaining_time": 2.507310634,
             "test": [
              0.02997648772
             ]
            },
            {
             "iteration": 94,
             "learn": [
              0.0289715797
             ],
             "passed_time": 39.68589602,
             "remaining_time": 2.088731369,
             "test": [
              0.02907794132
             ]
            },
            {
             "iteration": 95,
             "learn": [
              0.02823820323
             ],
             "passed_time": 40.1342211,
             "remaining_time": 1.672259213,
             "test": [
              0.02820722572
             ]
            },
            {
             "iteration": 96,
             "learn": [
              0.0273517654
             ],
             "passed_time": 40.55362365,
             "remaining_time": 1.254235783,
             "test": [
              0.02736251749
             ]
            },
            {
             "iteration": 97,
             "learn": [
              0.02642926357
             ],
             "passed_time": 40.97264327,
             "remaining_time": 0.8361763932,
             "test": [
              0.02654325663
             ]
            },
            {
             "iteration": 98,
             "learn": [
              0.0257761244
             ],
             "passed_time": 41.41831183,
             "remaining_time": 0.4183667862,
             "test": [
              0.02574880203
             ]
            },
            {
             "iteration": 99,
             "learn": [
              0.02491965139
             ],
             "passed_time": 41.84853976,
             "remaining_time": 0,
             "test": [
              0.02497844612
             ]
            }
           ],
           "meta": {
            "iteration_count": 100,
            "launch_mode": "Train",
            "learn_metrics": [
             {
              "best_value": "Min",
              "name": "CrossEntropy"
             }
            ],
            "learn_sets": [
             "learn"
            ],
            "name": "experiment",
            "parameters": "",
            "test_metrics": [
             {
              "best_value": "Min",
              "name": "CrossEntropy"
             }
            ],
            "test_sets": [
             "test"
            ]
           }
          },
          "passed_iterations": 99,
          "total_iterations": 100
         },
         "name": "catboost_info",
         "path": "catboost_info"
        }
       },
       "layout": "IPY_MODEL_0165575c63d440d994d32f28bcd78732"
      }
     },
     "90d1a53ec6724e13939e046daffcfce4": {
      "model_module": "@jupyter-widgets/base",
      "model_module_version": "1.2.0",
      "model_name": "LayoutModel",
      "state": {
       "_model_module": "@jupyter-widgets/base",
       "_model_module_version": "1.2.0",
       "_model_name": "LayoutModel",
       "_view_count": null,
       "_view_module": "@jupyter-widgets/base",
       "_view_module_version": "1.2.0",
       "_view_name": "LayoutView",
       "align_content": null,
       "align_items": null,
       "align_self": "stretch",
       "border": null,
       "bottom": null,
       "display": null,
       "flex": null,
       "flex_flow": null,
       "grid_area": null,
       "grid_auto_columns": null,
       "grid_auto_flow": null,
       "grid_auto_rows": null,
       "grid_column": null,
       "grid_gap": null,
       "grid_row": null,
       "grid_template_areas": null,
       "grid_template_columns": null,
       "grid_template_rows": null,
       "height": "500px",
       "justify_content": null,
       "justify_items": null,
       "left": null,
       "margin": null,
       "max_height": null,
       "max_width": null,
       "min_height": null,
       "min_width": null,
       "object_fit": null,
       "object_position": null,
       "order": null,
       "overflow": null,
       "overflow_x": null,
       "overflow_y": null,
       "padding": null,
       "right": null,
       "top": null,
       "visibility": null,
       "width": null
      }
     },
     "9113cce096844f5db38ad987c8c0a721": {
      "model_module": "catboost-widget",
      "model_module_version": "^1.0.0",
      "model_name": "CatboostWidgetModel",
      "state": {
       "_dom_classes": [],
       "_model_module": "catboost-widget",
       "_model_module_version": "^1.0.0",
       "_model_name": "CatboostWidgetModel",
       "_view_count": null,
       "_view_module": "catboost-widget",
       "_view_module_version": "^1.0.0",
       "_view_name": "CatboostWidgetView",
       "data": {
        "catboost_info": {
         "content": {
          "data": {
           "iterations": [
            {
             "iteration": 0,
             "learn": [
              0.6613809178
             ],
             "passed_time": 0.4030839973,
             "remaining_time": 39.90531573,
             "test": [
              0.6635988989
             ]
            },
            {
             "iteration": 1,
             "learn": [
              0.6362956145
             ],
             "passed_time": 0.8505292223,
             "remaining_time": 41.67593189,
             "test": [
              0.6357714021
             ]
            },
            {
             "iteration": 2,
             "learn": [
              0.6093763484
             ],
             "passed_time": 1.237631552,
             "remaining_time": 40.0167535,
             "test": [
              0.609518151
             ]
            },
            {
             "iteration": 3,
             "learn": [
              0.5837159809
             ],
             "passed_time": 1.610996606,
             "remaining_time": 38.66391854,
             "test": [
              0.5847106853
             ]
            },
            {
             "iteration": 4,
             "learn": [
              0.5621911827
             ],
             "passed_time": 2.096438924,
             "remaining_time": 39.83233956,
             "test": [
              0.5612348913
             ]
            },
            {
             "iteration": 5,
             "learn": [
              0.5376465426
             ],
             "passed_time": 2.558303093,
             "remaining_time": 40.0800818,
             "test": [
              0.5389890265
             ]
            },
            {
             "iteration": 6,
             "learn": [
              0.5168826962
             ],
             "passed_time": 2.974973186,
             "remaining_time": 39.52464375,
             "test": [
              0.5178831929
             ]
            },
            {
             "iteration": 7,
             "learn": [
              0.4986840761
             ],
             "passed_time": 3.343361557,
             "remaining_time": 38.44865791,
             "test": [
              0.4978347586
             ]
            },
            {
             "iteration": 8,
             "learn": [
              0.4785255879
             ],
             "passed_time": 3.802939765,
             "remaining_time": 38.45194651,
             "test": [
              0.4787715283
             ]
            },
            {
             "iteration": 9,
             "learn": [
              0.460579905
             ],
             "passed_time": 4.232544963,
             "remaining_time": 38.09290467,
             "test": [
              0.4606259504
             ]
            },
            {
             "iteration": 10,
             "learn": [
              0.4438198521
             ],
             "passed_time": 4.58473977,
             "remaining_time": 37.09471269,
             "test": [
              0.4433369728
             ]
            },
            {
             "iteration": 11,
             "learn": [
              0.4280517712
             ],
             "passed_time": 5.052668779,
             "remaining_time": 37.05290438,
             "test": [
              0.4268512379
             ]
            },
            {
             "iteration": 12,
             "learn": [
              0.4121116257
             ],
             "passed_time": 5.507649655,
             "remaining_time": 36.85888615,
             "test": [
              0.4111189559
             ]
            },
            {
             "iteration": 13,
             "learn": [
              0.3967761562
             ],
             "passed_time": 5.922174726,
             "remaining_time": 36.37907332,
             "test": [
              0.3960929197
             ]
            },
            {
             "iteration": 14,
             "learn": [
              0.3823920558
             ],
             "passed_time": 6.329783881,
             "remaining_time": 35.86877533,
             "test": [
              0.3817313573
             ]
            },
            {
             "iteration": 15,
             "learn": [
              0.3673317928
             ],
             "passed_time": 6.668557461,
             "remaining_time": 35.00992667,
             "test": [
              0.3679957972
             ]
            },
            {
             "iteration": 16,
             "learn": [
              0.3538776003
             ],
             "passed_time": 7.203514714,
             "remaining_time": 35.17010125,
             "test": [
              0.3548512429
             ]
            },
            {
             "iteration": 17,
             "learn": [
              0.3431652922
             ],
             "passed_time": 7.641778405,
             "remaining_time": 34.81254607,
             "test": [
              0.3422649498
             ]
            },
            {
             "iteration": 18,
             "learn": [
              0.3300856484
             ],
             "passed_time": 8.097796929,
             "remaining_time": 34.52218691,
             "test": [
              0.3302047807
             ]
            },
            {
             "iteration": 19,
             "learn": [
              0.3196738387
             ],
             "passed_time": 8.504863591,
             "remaining_time": 34.01945436,
             "test": [
              0.3186434343
             ]
            },
            {
             "iteration": 20,
             "learn": [
              0.306968139
             ],
             "passed_time": 8.957751431,
             "remaining_time": 33.69820776,
             "test": [
              0.307554795
             ]
            },
            {
             "iteration": 21,
             "learn": [
              0.2968810819
             ],
             "passed_time": 9.342679507,
             "remaining_time": 33.12404552,
             "test": [
              0.2969141019
             ]
            },
            {
             "iteration": 22,
             "learn": [
              0.2867672017
             ],
             "passed_time": 9.781686344,
             "remaining_time": 32.74738472,
             "test": [
              0.2866993949
             ]
            },
            {
             "iteration": 23,
             "learn": [
              0.2765003524
             ],
             "passed_time": 10.20138365,
             "remaining_time": 32.30438157,
             "test": [
              0.276887842
             ]
            },
            {
             "iteration": 24,
             "learn": [
              0.2664450938
             ],
             "passed_time": 10.64556721,
             "remaining_time": 31.93670164,
             "test": [
              0.2674606566
             ]
            },
            {
             "iteration": 25,
             "learn": [
              0.257978768
             ],
             "passed_time": 11.00751715,
             "remaining_time": 31.32908727,
             "test": [
              0.2583992818
             ]
            },
            {
             "iteration": 26,
             "learn": [
              0.2499625717
             ],
             "passed_time": 11.43559106,
             "remaining_time": 30.91844992,
             "test": [
              0.2496867091
             ]
            },
            {
             "iteration": 27,
             "learn": [
              0.241972095
             ],
             "passed_time": 11.82715665,
             "remaining_time": 30.41268853,
             "test": [
              0.2413056425
             ]
            },
            {
             "iteration": 28,
             "learn": [
              0.2336759425
             ],
             "passed_time": 12.2494748,
             "remaining_time": 29.99009347,
             "test": [
              0.2332412309
             ]
            },
            {
             "iteration": 29,
             "learn": [
              0.2258436136
             ],
             "passed_time": 12.69886117,
             "remaining_time": 29.63067606,
             "test": [
              0.2254796317
             ]
            },
            {
             "iteration": 30,
             "learn": [
              0.2185232484
             ],
             "passed_time": 13.1295212,
             "remaining_time": 29.223773,
             "test": [
              0.2180059262
             ]
            },
            {
             "iteration": 31,
             "learn": [
              0.2109304048
             ],
             "passed_time": 13.52357899,
             "remaining_time": 28.73760535,
             "test": [
              0.2108077109
             ]
            },
            {
             "iteration": 32,
             "learn": [
              0.2033495537
             ],
             "passed_time": 13.91346419,
             "remaining_time": 28.24854851,
             "test": [
              0.2038735303
             ]
            },
            {
             "iteration": 33,
             "learn": [
              0.196423733
             ],
             "passed_time": 14.44478166,
             "remaining_time": 28.03987028,
             "test": [
              0.1971913547
             ]
            },
            {
             "iteration": 34,
             "learn": [
              0.1911717113
             ],
             "passed_time": 14.84060981,
             "remaining_time": 27.5611325,
             "test": [
              0.1907504134
             ]
            },
            {
             "iteration": 35,
             "learn": [
              0.1838982089
             ],
             "passed_time": 15.22986515,
             "remaining_time": 27.07531583,
             "test": [
              0.184540599
             ]
            },
            {
             "iteration": 36,
             "learn": [
              0.1787572068
             ],
             "passed_time": 15.65680429,
             "remaining_time": 26.65888299,
             "test": [
              0.1785517279
             ]
            },
            {
             "iteration": 37,
             "learn": [
              0.1721868717
             ],
             "passed_time": 16.11153622,
             "remaining_time": 26.2872433,
             "test": [
              0.1727757839
             ]
            },
            {
             "iteration": 38,
             "learn": [
              0.1676664443
             ],
             "passed_time": 16.53605734,
             "remaining_time": 25.86408969,
             "test": [
              0.1672034805
             ]
            },
            {
             "iteration": 39,
             "learn": [
              0.1614248206
             ],
             "passed_time": 16.88171915,
             "remaining_time": 25.32257873,
             "test": [
              0.1618255489
             ]
            },
            {
             "iteration": 40,
             "learn": [
              0.1563266299
             ],
             "passed_time": 17.31601642,
             "remaining_time": 24.91816996,
             "test": [
              0.1566352035
             ]
            },
            {
             "iteration": 41,
             "learn": [
              0.1520150662
             ],
             "passed_time": 17.77520172,
             "remaining_time": 24.54670714,
             "test": [
              0.1516247191
             ]
            },
            {
             "iteration": 42,
             "learn": [
              0.1470006741
             ],
             "passed_time": 18.26674232,
             "remaining_time": 24.21405378,
             "test": [
              0.1467872587
             ]
            },
            {
             "iteration": 43,
             "learn": [
              0.1418648507
             ],
             "passed_time": 18.66160712,
             "remaining_time": 23.75113634,
             "test": [
              0.142115825
             ]
            },
            {
             "iteration": 44,
             "learn": [
              0.137103109
             ],
             "passed_time": 19.11193055,
             "remaining_time": 23.35902622,
             "test": [
              0.1376040016
             ]
            },
            {
             "iteration": 45,
             "learn": [
              0.1329058264
             ],
             "passed_time": 19.51184521,
             "remaining_time": 22.9052096,
             "test": [
              0.1332451204
             ]
            },
            {
             "iteration": 46,
             "learn": [
              0.1289165379
             ],
             "passed_time": 19.83950896,
             "remaining_time": 22.37221223,
             "test": [
              0.1290334869
             ]
            },
            {
             "iteration": 47,
             "learn": [
              0.1249898132
             ],
             "passed_time": 20.23572828,
             "remaining_time": 21.92203896,
             "test": [
              0.1249638127
             ]
            },
            {
             "iteration": 48,
             "learn": [
              0.1210808241
             ],
             "passed_time": 20.70872393,
             "remaining_time": 21.55397797,
             "test": [
              0.1210313577
             ]
            },
            {
             "iteration": 49,
             "learn": [
              0.117193418
             ],
             "passed_time": 21.12313163,
             "remaining_time": 21.12313163,
             "test": [
              0.1172297875
             ]
            },
            {
             "iteration": 50,
             "learn": [
              0.1133183066
             ],
             "passed_time": 21.50889271,
             "remaining_time": 20.66540672,
             "test": [
              0.1135546249
             ]
            },
            {
             "iteration": 51,
             "learn": [
              0.1097543137
             ],
             "passed_time": 21.96021575,
             "remaining_time": 20.27096838,
             "test": [
              0.1100016219
             ]
            },
            {
             "iteration": 52,
             "learn": [
              0.1069261251
             ],
             "passed_time": 22.33458633,
             "remaining_time": 19.80614259,
             "test": [
              0.1065663434
             ]
            },
            {
             "iteration": 53,
             "learn": [
              0.1034035124
             ],
             "passed_time": 22.81095009,
             "remaining_time": 19.43155008,
             "test": [
              0.1032435457
             ]
            },
            {
             "iteration": 54,
             "learn": [
              0.09972944177
             ],
             "passed_time": 23.23591578,
             "remaining_time": 19.01120382,
             "test": [
              0.1000306019
             ]
            },
            {
             "iteration": 55,
             "learn": [
              0.09713680541
             ],
             "passed_time": 23.59530587,
             "remaining_time": 18.5391689,
             "test": [
              0.09692192398
             ]
            },
            {
             "iteration": 56,
             "learn": [
              0.09376524519
             ],
             "passed_time": 23.98014308,
             "remaining_time": 18.09028338,
             "test": [
              0.09391483064
             ]
            },
            {
             "iteration": 57,
             "learn": [
              0.09122188266
             ],
             "passed_time": 24.39616739,
             "remaining_time": 17.66619018,
             "test": [
              0.09100530823
             ]
            },
            {
             "iteration": 58,
             "learn": [
              0.08794091548
             ],
             "passed_time": 24.86514404,
             "remaining_time": 17.27916789,
             "test": [
              0.08819031871
             ]
            },
            {
             "iteration": 59,
             "learn": [
              0.08547166393
             ],
             "passed_time": 25.29171721,
             "remaining_time": 16.86114481,
             "test": [
              0.08546673814
             ]
            },
            {
             "iteration": 60,
             "learn": [
              0.08257474672
             ],
             "passed_time": 25.79123516,
             "remaining_time": 16.48947821,
             "test": [
              0.0828304087
             ]
            },
            {
             "iteration": 61,
             "learn": [
              0.08009986548
             ],
             "passed_time": 26.18670287,
             "remaining_time": 16.04991466,
             "test": [
              0.08027889536
             ]
            },
            {
             "iteration": 62,
             "learn": [
              0.07797046488
             ],
             "passed_time": 26.66452328,
             "remaining_time": 15.66011685,
             "test": [
              0.07780920415
             ]
            },
            {
             "iteration": 63,
             "learn": [
              0.07548677349
             ],
             "passed_time": 27.05445114,
             "remaining_time": 15.21812877,
             "test": [
              0.07541851137
             ]
            },
            {
             "iteration": 64,
             "learn": [
              0.07295579137
             ],
             "passed_time": 27.43535449,
             "remaining_time": 14.77288319,
             "test": [
              0.07310443633
             ]
            },
            {
             "iteration": 65,
             "learn": [
              0.0705383026
             ],
             "passed_time": 27.90309793,
             "remaining_time": 14.37432318,
             "test": [
              0.07086372201
             ]
            },
            {
             "iteration": 66,
             "learn": [
              0.06844272382
             ],
             "passed_time": 28.38420056,
             "remaining_time": 13.98027789,
             "test": [
              0.06869381119
             ]
            },
            {
             "iteration": 67,
             "learn": [
              0.06643035039
             ],
             "passed_time": 28.9025937,
             "remaining_time": 13.60122056,
             "test": [
              0.06659272263
             ]
            },
            {
             "iteration": 68,
             "learn": [
              0.06446552407
             ],
             "passed_time": 29.33346276,
             "remaining_time": 13.17880211,
             "test": [
              0.06455839496
             ]
            },
            {
             "iteration": 69,
             "learn": [
              0.06251170937
             ],
             "passed_time": 29.709372,
             "remaining_time": 12.732588,
             "test": [
              0.06258801885
             ]
            },
            {
             "iteration": 70,
             "learn": [
              0.06056248297
             ],
             "passed_time": 30.07208956,
             "remaining_time": 12.28296616,
             "test": [
              0.06067962974
             ]
            },
            {
             "iteration": 71,
             "learn": [
              0.05865230232
             ],
             "passed_time": 30.42545539,
             "remaining_time": 11.83212154,
             "test": [
              0.05883153128
             ]
            },
            {
             "iteration": 72,
             "learn": [
              0.05684055069
             ],
             "passed_time": 30.86154782,
             "remaining_time": 11.41454508,
             "test": [
              0.05704122505
             ]
            },
            {
             "iteration": 73,
             "learn": [
              0.05543060251
             ],
             "passed_time": 31.26440259,
             "remaining_time": 10.9847901,
             "test": [
              0.05530686768
             ]
            },
            {
             "iteration": 74,
             "learn": [
              0.05367307426
             ],
             "passed_time": 31.70060438,
             "remaining_time": 10.56686813,
             "test": [
              0.05362693169
             ]
            },
            {
             "iteration": 75,
             "learn": [
              0.05182388699
             ],
             "passed_time": 32.10903711,
             "remaining_time": 10.13969593,
             "test": [
              0.05199941482
             ]
            },
            {
             "iteration": 76,
             "learn": [
              0.05053007463
             ],
             "passed_time": 32.54700606,
             "remaining_time": 9.721832979,
             "test": [
              0.0504225016
             ]
            },
            {
             "iteration": 77,
             "learn": [
              0.04884003697
             ],
             "passed_time": 32.95345433,
             "remaining_time": 9.294564042,
             "test": [
              0.04889447906
             ]
            },
            {
             "iteration": 78,
             "learn": [
              0.04720873864
             ],
             "passed_time": 33.32591067,
             "remaining_time": 8.85878638,
             "test": [
              0.04741411101
             ]
            },
            {
             "iteration": 79,
             "learn": [
              0.04591154716
             ],
             "passed_time": 33.69577708,
             "remaining_time": 8.423944271,
             "test": [
              0.04597946027
             ]
            },
            {
             "iteration": 80,
             "learn": [
              0.04464859787
             ],
             "passed_time": 34.04532391,
             "remaining_time": 7.985940176,
             "test": [
              0.04458947624
             ]
            },
            {
             "iteration": 81,
             "learn": [
              0.0430635243
             ],
             "passed_time": 34.47912393,
             "remaining_time": 7.56858818,
             "test": [
              0.04324251621
             ]
            },
            {
             "iteration": 82,
             "learn": [
              0.04195333831
             ],
             "passed_time": 34.84229795,
             "remaining_time": 7.136374279,
             "test": [
              0.04193791816
             ]
            },
            {
             "iteration": 83,
             "learn": [
              0.04071426037
             ],
             "passed_time": 35.202072,
             "remaining_time": 6.705156571,
             "test": [
              0.04067269083
             ]
            },
            {
             "iteration": 84,
             "learn": [
              0.03934766397
             ],
             "passed_time": 35.62841292,
             "remaining_time": 6.287366985,
             "test": [
              0.03944676011
             ]
            },
            {
             "iteration": 85,
             "learn": [
              0.03812645054
             ],
             "passed_time": 35.98803059,
             "remaining_time": 5.858516608,
             "test": [
              0.03825806857
             ]
            },
            {
             "iteration": 86,
             "learn": [
              0.03710644429
             ],
             "passed_time": 36.50573369,
             "remaining_time": 5.454879747,
             "test": [
              0.03710655073
             ]
            },
            {
             "iteration": 87,
             "learn": [
              0.036055553
             ],
             "passed_time": 36.88602647,
             "remaining_time": 5.0299127,
             "test": [
              0.03598983088
             ]
            },
            {
             "iteration": 88,
             "learn": [
              0.03486669508
             ],
             "passed_time": 37.31834724,
             "remaining_time": 4.612379996,
             "test": [
              0.03490770592
             ]
            },
            {
             "iteration": 89,
             "learn": [
              0.03382414099
             ],
             "passed_time": 37.80660681,
             "remaining_time": 4.20073409,
             "test": [
              0.03385856653
             ]
            },
            {
             "iteration": 90,
             "learn": [
              0.03281890929
             ],
             "passed_time": 38.21194047,
             "remaining_time": 3.779202904,
             "test": [
              0.03284161342
             ]
            },
            {
             "iteration": 91,
             "learn": [
              0.03182786304
             ],
             "passed_time": 38.7400488,
             "remaining_time": 3.368699896,
             "test": [
              0.03185624128
             ]
            },
            {
             "iteration": 92,
             "learn": [
              0.03085107289
             ],
             "passed_time": 39.16630789,
             "remaining_time": 2.948001669,
             "test": [
              0.03090040483
             ]
            },
            {
             "iteration": 93,
             "learn": [
              0.02990645584
             ],
             "passed_time": 39.53649214,
             "remaining_time": 2.523605881,
             "test": [
              0.02997355791
             ]
            },
            {
             "iteration": 94,
             "learn": [
              0.0289715797
             ],
             "passed_time": 39.93292442,
             "remaining_time": 2.101732864,
             "test": [
              0.02907478228
             ]
            },
            {
             "iteration": 95,
             "learn": [
              0.02823820323
             ],
             "passed_time": 40.38564383,
             "remaining_time": 1.682735159,
             "test": [
              0.028204094
             ]
            },
            {
             "iteration": 96,
             "learn": [
              0.0273517654
             ],
             "passed_time": 40.79593026,
             "remaining_time": 1.261729802,
             "test": [
              0.02735946542
             ]
            },
            {
             "iteration": 97,
             "learn": [
              0.02642926357
             ],
             "passed_time": 41.21488744,
             "remaining_time": 0.8411201518,
             "test": [
              0.02654050963
             ]
            },
            {
             "iteration": 98,
             "learn": [
              0.0257761244
             ],
             "passed_time": 41.66522881,
             "remaining_time": 0.4208608971,
             "test": [
              0.02574607367
             ]
            },
            {
             "iteration": 99,
             "learn": [
              0.02491965139
             ],
             "passed_time": 42.08827828,
             "remaining_time": 0,
             "test": [
              0.02497588715
             ]
            }
           ],
           "meta": {
            "iteration_count": 100,
            "launch_mode": "Train",
            "learn_metrics": [
             {
              "best_value": "Min",
              "name": "CrossEntropy"
             }
            ],
            "learn_sets": [
             "learn"
            ],
            "name": "experiment",
            "parameters": "",
            "test_metrics": [
             {
              "best_value": "Min",
              "name": "CrossEntropy"
             }
            ],
            "test_sets": [
             "test"
            ]
           }
          },
          "passed_iterations": 99,
          "total_iterations": 100
         },
         "name": "catboost_info",
         "path": "catboost_info"
        }
       },
       "layout": "IPY_MODEL_3d6d937e824a47cf822b8ce25062ebdb"
      }
     },
     "936529bdd7c84ae5b3e5d5f96bc59980": {
      "model_module": "@jupyter-widgets/base",
      "model_module_version": "1.2.0",
      "model_name": "LayoutModel",
      "state": {
       "_model_module": "@jupyter-widgets/base",
       "_model_module_version": "1.2.0",
       "_model_name": "LayoutModel",
       "_view_count": null,
       "_view_module": "@jupyter-widgets/base",
       "_view_module_version": "1.2.0",
       "_view_name": "LayoutView",
       "align_content": null,
       "align_items": null,
       "align_self": "stretch",
       "border": null,
       "bottom": null,
       "display": null,
       "flex": null,
       "flex_flow": null,
       "grid_area": null,
       "grid_auto_columns": null,
       "grid_auto_flow": null,
       "grid_auto_rows": null,
       "grid_column": null,
       "grid_gap": null,
       "grid_row": null,
       "grid_template_areas": null,
       "grid_template_columns": null,
       "grid_template_rows": null,
       "height": "500px",
       "justify_content": null,
       "justify_items": null,
       "left": null,
       "margin": null,
       "max_height": null,
       "max_width": null,
       "min_height": null,
       "min_width": null,
       "object_fit": null,
       "object_position": null,
       "order": null,
       "overflow": null,
       "overflow_x": null,
       "overflow_y": null,
       "padding": null,
       "right": null,
       "top": null,
       "visibility": null,
       "width": null
      }
     },
     "9399c320b47b4e5684fbe0d0aa5acbe3": {
      "model_module": "catboost-widget",
      "model_module_version": "^1.0.0",
      "model_name": "CatboostWidgetModel",
      "state": {
       "_dom_classes": [],
       "_model_module": "catboost-widget",
       "_model_module_version": "^1.0.0",
       "_model_name": "CatboostWidgetModel",
       "_view_count": null,
       "_view_module": "catboost-widget",
       "_view_module_version": "^1.0.0",
       "_view_name": "CatboostWidgetView",
       "data": {
        "catboost_info": {
         "content": {
          "data": {
           "iterations": [
            {
             "iteration": 0,
             "learn": [
              0.6748660442
             ],
             "passed_time": 0.4651285886,
             "remaining_time": 46.04773027,
             "test": [
              0.6746855315
             ]
            },
            {
             "iteration": 1,
             "learn": [
              0.6585467956
             ],
             "passed_time": 0.9756658455,
             "remaining_time": 47.80762643,
             "test": [
              0.6572355081
             ]
            },
            {
             "iteration": 2,
             "learn": [
              0.6410093523
             ],
             "passed_time": 1.592713174,
             "remaining_time": 51.49772596,
             "test": [
              0.6407467467
             ]
            },
            {
             "iteration": 3,
             "learn": [
              0.6257290547
             ],
             "passed_time": 2.214398969,
             "remaining_time": 53.14557526,
             "test": [
              0.6252292673
             ]
            },
            {
             "iteration": 4,
             "learn": [
              0.6109080542
             ],
             "passed_time": 2.65942835,
             "remaining_time": 50.52913865,
             "test": [
              0.610603542
             ]
            },
            {
             "iteration": 5,
             "learn": [
              0.5969991543
             ],
             "passed_time": 3.089198997,
             "remaining_time": 48.39745095,
             "test": [
              0.5967284084
             ]
            },
            {
             "iteration": 6,
             "learn": [
              0.584410028
             ],
             "passed_time": 3.524394372,
             "remaining_time": 46.82409666,
             "test": [
              0.5836635961
             ]
            },
            {
             "iteration": 7,
             "learn": [
              0.5705948644
             ],
             "passed_time": 3.909652155,
             "remaining_time": 44.96099978,
             "test": [
              0.5709337922
             ]
            },
            {
             "iteration": 8,
             "learn": [
              0.5587498979
             ],
             "passed_time": 4.298300861,
             "remaining_time": 43.4605976,
             "test": [
              0.5588665681
             ]
            },
            {
             "iteration": 9,
             "learn": [
              0.5469029697
             ],
             "passed_time": 4.728888594,
             "remaining_time": 42.55999734,
             "test": [
              0.5473270865
             ]
            },
            {
             "iteration": 10,
             "learn": [
              0.5365753371
             ],
             "passed_time": 5.142131123,
             "remaining_time": 41.60451545,
             "test": [
              0.536592622
             ]
            },
            {
             "iteration": 11,
             "learn": [
              0.5255276225
             ],
             "passed_time": 5.525360445,
             "remaining_time": 40.51930993,
             "test": [
              0.5257938781
             ]
            },
            {
             "iteration": 12,
             "learn": [
              0.5157783723
             ],
             "passed_time": 5.953949167,
             "remaining_time": 39.84565981,
             "test": [
              0.5156978079
             ]
            },
            {
             "iteration": 13,
             "learn": [
              0.5061296196
             ],
             "passed_time": 6.378427312,
             "remaining_time": 39.18176778,
             "test": [
              0.506212242
             ]
            },
            {
             "iteration": 14,
             "learn": [
              0.4969650311
             ],
             "passed_time": 6.776390283,
             "remaining_time": 38.39954494,
             "test": [
              0.497172243
             ]
            },
            {
             "iteration": 15,
             "learn": [
              0.4875650276
             ],
             "passed_time": 7.1474637,
             "remaining_time": 37.52418443,
             "test": [
              0.4882260651
             ]
            },
            {
             "iteration": 16,
             "learn": [
              0.4784271536
             ],
             "passed_time": 7.573510824,
             "remaining_time": 36.97655285,
             "test": [
              0.4791924594
             ]
            },
            {
             "iteration": 17,
             "learn": [
              0.4702988166
             ],
             "passed_time": 8.010542085,
             "remaining_time": 36.4924695,
             "test": [
              0.4708006331
             ]
            },
            {
             "iteration": 18,
             "learn": [
              0.4616403655
             ],
             "passed_time": 8.380316001,
             "remaining_time": 35.72661032,
             "test": [
              0.4623988017
             ]
            },
            {
             "iteration": 19,
             "learn": [
              0.454034394
             ],
             "passed_time": 8.758684951,
             "remaining_time": 35.0347398,
             "test": [
              0.4545746196
             ]
            },
            {
             "iteration": 20,
             "learn": [
              0.4465647881
             ],
             "passed_time": 9.149727587,
             "remaining_time": 34.42040378,
             "test": [
              0.4470937864
             ]
            },
            {
             "iteration": 21,
             "learn": [
              0.4391053724
             ],
             "passed_time": 9.516165583,
             "remaining_time": 33.73913252,
             "test": [
              0.4396115965
             ]
            },
            {
             "iteration": 22,
             "learn": [
              0.4326348613
             ],
             "passed_time": 9.922625037,
             "remaining_time": 33.21922295,
             "test": [
              0.4327782115
             ]
            },
            {
             "iteration": 23,
             "learn": [
              0.4229717067
             ],
             "passed_time": 10.33704819,
             "remaining_time": 32.73398594,
             "test": [
              0.423496872
             ]
            },
            {
             "iteration": 24,
             "learn": [
              0.4138261474
             ],
             "passed_time": 10.74887527,
             "remaining_time": 32.24662581,
             "test": [
              0.4147452227
             ]
            },
            {
             "iteration": 25,
             "learn": [
              0.4052150382
             ],
             "passed_time": 11.16403684,
             "remaining_time": 31.77456639,
             "test": [
              0.4063245189
             ]
            },
            {
             "iteration": 26,
             "learn": [
              0.3988829808
             ],
             "passed_time": 11.61517123,
             "remaining_time": 31.40398147,
             "test": [
              0.3998156149
             ]
            },
            {
             "iteration": 27,
             "learn": [
              0.3925675017
             ],
             "passed_time": 11.98276958,
             "remaining_time": 30.81283607,
             "test": [
              0.3936839155
             ]
            },
            {
             "iteration": 28,
             "learn": [
              0.386475567
             ],
             "passed_time": 12.44020357,
             "remaining_time": 30.45705011,
             "test": [
              0.3877004427
             ]
            },
            {
             "iteration": 29,
             "learn": [
              0.3790828923
             ],
             "passed_time": 12.84715015,
             "remaining_time": 29.97668368,
             "test": [
              0.3808124819
             ]
            },
            {
             "iteration": 30,
             "learn": [
              0.3734715574
             ],
             "passed_time": 13.3441778,
             "remaining_time": 29.70155705,
             "test": [
              0.375281558
             ]
            },
            {
             "iteration": 31,
             "learn": [
              0.3671658706
             ],
             "passed_time": 13.7420616,
             "remaining_time": 29.2018809,
             "test": [
              0.3692835212
             ]
            },
            {
             "iteration": 32,
             "learn": [
              0.3621425608
             ],
             "passed_time": 14.11856942,
             "remaining_time": 28.66497427,
             "test": [
              0.3642966388
             ]
            },
            {
             "iteration": 33,
             "learn": [
              0.3571157364
             ],
             "passed_time": 14.54652183,
             "remaining_time": 28.23736591,
             "test": [
              0.3588497406
             ]
            },
            {
             "iteration": 34,
             "learn": [
              0.3513127347
             ],
             "passed_time": 14.93465641,
             "remaining_time": 27.73579047,
             "test": [
              0.3532636416
             ]
            },
            {
             "iteration": 35,
             "learn": [
              0.3451731171
             ],
             "passed_time": 15.34341323,
             "remaining_time": 27.27717907,
             "test": [
              0.3473631835
             ]
            },
            {
             "iteration": 36,
             "learn": [
              0.3407473142
             ],
             "passed_time": 15.71442833,
             "remaining_time": 26.75699958,
             "test": [
              0.3426303641
             ]
            },
            {
             "iteration": 37,
             "learn": [
              0.3352947567
             ],
             "passed_time": 16.1264518,
             "remaining_time": 26.31157926,
             "test": [
              0.337552017
             ]
            },
            {
             "iteration": 38,
             "learn": [
              0.3308210606
             ],
             "passed_time": 16.4933942,
             "remaining_time": 25.79736016,
             "test": [
              0.3332445856
             ]
            },
            {
             "iteration": 39,
             "learn": [
              0.3266511856
             ],
             "passed_time": 16.92730825,
             "remaining_time": 25.39096238,
             "test": [
              0.3284986741
             ]
            },
            {
             "iteration": 40,
             "learn": [
              0.3222349634
             ],
             "passed_time": 17.37061015,
             "remaining_time": 24.99673168,
             "test": [
              0.3239080692
             ]
            },
            {
             "iteration": 41,
             "learn": [
              0.3177891352
             ],
             "passed_time": 17.81438827,
             "remaining_time": 24.6008219,
             "test": [
              0.3194339578
             ]
            },
            {
             "iteration": 42,
             "learn": [
              0.3120942587
             ],
             "passed_time": 18.21998491,
             "remaining_time": 24.15207302,
             "test": [
              0.3140416555
             ]
            },
            {
             "iteration": 43,
             "learn": [
              0.308029445
             ],
             "passed_time": 18.66720763,
             "remaining_time": 23.75826426,
             "test": [
              0.3098776728
             ]
            },
            {
             "iteration": 44,
             "learn": [
              0.3026883968
             ],
             "passed_time": 19.07376671,
             "remaining_time": 23.31238154,
             "test": [
              0.3046753682
             ]
            },
            {
             "iteration": 45,
             "learn": [
              0.2974179379
             ],
             "passed_time": 19.4971286,
             "remaining_time": 22.88793357,
             "test": [
              0.2996708793
             ]
            },
            {
             "iteration": 46,
             "learn": [
              0.2926246804
             ],
             "passed_time": 19.9057777,
             "remaining_time": 22.44694081,
             "test": [
              0.2948667538
             ]
            },
            {
             "iteration": 47,
             "learn": [
              0.2877229147
             ],
             "passed_time": 20.32065557,
             "remaining_time": 22.01404353,
             "test": [
              0.2901376652
             ]
            },
            {
             "iteration": 48,
             "learn": [
              0.2830556134
             ],
             "passed_time": 20.72961779,
             "remaining_time": 21.57572463,
             "test": [
              0.2857746212
             ]
            },
            {
             "iteration": 49,
             "learn": [
              0.2795135911
             ],
             "passed_time": 21.15589805,
             "remaining_time": 21.15589805,
             "test": [
              0.2821716401
             ]
            },
            {
             "iteration": 50,
             "learn": [
              0.2752910802
             ],
             "passed_time": 21.57201182,
             "remaining_time": 20.72605057,
             "test": [
              0.2777514907
             ]
            },
            {
             "iteration": 51,
             "learn": [
              0.2722441323
             ],
             "passed_time": 21.96975972,
             "remaining_time": 20.27977821,
             "test": [
              0.2747181593
             ]
            },
            {
             "iteration": 52,
             "learn": [
              0.2679815874
             ],
             "passed_time": 22.39026514,
             "remaining_time": 19.85551814,
             "test": [
              0.2706261332
             ]
            },
            {
             "iteration": 53,
             "learn": [
              0.2642162641
             ],
             "passed_time": 22.80578456,
             "remaining_time": 19.42714981,
             "test": [
              0.2666612982
             ]
            },
            {
             "iteration": 54,
             "learn": [
              0.2602835801
             ],
             "passed_time": 23.22466423,
             "remaining_time": 19.001998,
             "test": [
              0.2627091545
             ]
            },
            {
             "iteration": 55,
             "learn": [
              0.2572257817
             ],
             "passed_time": 23.6825723,
             "remaining_time": 18.60773538,
             "test": [
              0.2595161898
             ]
            },
            {
             "iteration": 56,
             "learn": [
              0.2544648098
             ],
             "passed_time": 24.08516798,
             "remaining_time": 18.16951269,
             "test": [
              0.2568991396
             ]
            },
            {
             "iteration": 57,
             "learn": [
              0.2514657219
             ],
             "passed_time": 24.56793962,
             "remaining_time": 17.79057697,
             "test": [
              0.2539756782
             ]
            },
            {
             "iteration": 58,
             "learn": [
              0.2486273625
             ],
             "passed_time": 24.99973711,
             "remaining_time": 17.37269867,
             "test": [
              0.2511119081
             ]
            },
            {
             "iteration": 59,
             "learn": [
              0.2450415688
             ],
             "passed_time": 25.41206129,
             "remaining_time": 16.94137419,
             "test": [
              0.2477358326
             ]
            },
            {
             "iteration": 60,
             "learn": [
              0.241853428
             ],
             "passed_time": 25.87373698,
             "remaining_time": 16.54222528,
             "test": [
              0.2444214942
             ]
            },
            {
             "iteration": 61,
             "learn": [
              0.2389839505
             ],
             "passed_time": 26.33464204,
             "remaining_time": 16.14058706,
             "test": [
              0.2417291574
             ]
            },
            {
             "iteration": 62,
             "learn": [
              0.2359894036
             ],
             "passed_time": 26.79046388,
             "remaining_time": 15.73408196,
             "test": [
              0.2386996876
             ]
            },
            {
             "iteration": 63,
             "learn": [
              0.2333174312
             ],
             "passed_time": 27.24257105,
             "remaining_time": 15.32394621,
             "test": [
              0.2360470747
             ]
            },
            {
             "iteration": 64,
             "learn": [
              0.2303827035
             ],
             "passed_time": 27.66282745,
             "remaining_time": 14.89536863,
             "test": [
              0.2332326995
             ]
            },
            {
             "iteration": 65,
             "learn": [
              0.2276635565
             ],
             "passed_time": 28.10224346,
             "remaining_time": 14.4769133,
             "test": [
              0.2302351781
             ]
            },
            {
             "iteration": 66,
             "learn": [
              0.225087441
             ],
             "passed_time": 28.56088623,
             "remaining_time": 14.06730217,
             "test": [
              0.2278054478
             ]
            },
            {
             "iteration": 67,
             "learn": [
              0.2224603328
             ],
             "passed_time": 29.00261208,
             "remaining_time": 13.64828804,
             "test": [
              0.2249886508
             ]
            },
            {
             "iteration": 68,
             "learn": [
              0.2199113543
             ],
             "passed_time": 29.46476962,
             "remaining_time": 13.23779505,
             "test": [
              0.2223756135
             ]
            },
            {
             "iteration": 69,
             "learn": [
              0.2177131233
             ],
             "passed_time": 29.85440701,
             "remaining_time": 12.79474586,
             "test": [
              0.2202348338
             ]
            },
            {
             "iteration": 70,
             "learn": [
              0.2152461686
             ],
             "passed_time": 30.25246036,
             "remaining_time": 12.35663874,
             "test": [
              0.2175930838
             ]
            },
            {
             "iteration": 71,
             "learn": [
              0.2128144446
             ],
             "passed_time": 30.70018794,
             "remaining_time": 11.93896197,
             "test": [
              0.2151148263
             ]
            },
            {
             "iteration": 72,
             "learn": [
              0.2108075545
             ],
             "passed_time": 31.1052885,
             "remaining_time": 11.50469575,
             "test": [
              0.2135004003
             ]
            },
            {
             "iteration": 73,
             "learn": [
              0.2089390901
             ],
             "passed_time": 31.51600077,
             "remaining_time": 11.07318946,
             "test": [
              0.211604273
             ]
            },
            {
             "iteration": 74,
             "learn": [
              0.2068625214
             ],
             "passed_time": 31.94088429,
             "remaining_time": 10.64696143,
             "test": [
              0.2097168449
             ]
            },
            {
             "iteration": 75,
             "learn": [
              0.2047452904
             ],
             "passed_time": 32.39423104,
             "remaining_time": 10.22975717,
             "test": [
              0.2076731802
             ]
            },
            {
             "iteration": 76,
             "learn": [
              0.2025469147
             ],
             "passed_time": 32.91942112,
             "remaining_time": 9.833073842,
             "test": [
              0.2053207383
             ]
            },
            {
             "iteration": 77,
             "learn": [
              0.2005089099
             ],
             "passed_time": 33.52165191,
             "remaining_time": 9.454824896,
             "test": [
              0.2035360847
             ]
            },
            {
             "iteration": 78,
             "learn": [
              0.1983478444
             ],
             "passed_time": 34.11290064,
             "remaining_time": 9.067986246,
             "test": [
              0.2013013674
             ]
            },
            {
             "iteration": 79,
             "learn": [
              0.1969361003
             ],
             "passed_time": 34.51433503,
             "remaining_time": 8.628583758,
             "test": [
              0.1998327833
             ]
            },
            {
             "iteration": 80,
             "learn": [
              0.1952064916
             ],
             "passed_time": 34.87267902,
             "remaining_time": 8.180011129,
             "test": [
              0.198082074
             ]
            },
            {
             "iteration": 81,
             "learn": [
              0.1930910119
             ],
             "passed_time": 35.33606258,
             "remaining_time": 7.756696663,
             "test": [
              0.1961008738
             ]
            },
            {
             "iteration": 82,
             "learn": [
              0.1913850819
             ],
             "passed_time": 35.75743762,
             "remaining_time": 7.323812524,
             "test": [
              0.1943179324
             ]
            },
            {
             "iteration": 83,
             "learn": [
              0.1900086422
             ],
             "passed_time": 36.06668587,
             "remaining_time": 6.869844927,
             "test": [
              0.192887378
             ]
            },
            {
             "iteration": 84,
             "learn": [
              0.1883574571
             ],
             "passed_time": 36.4880042,
             "remaining_time": 6.439059564,
             "test": [
              0.1911665501
             ]
            },
            {
             "iteration": 85,
             "learn": [
              0.1863429758
             ],
             "passed_time": 36.88411385,
             "remaining_time": 6.004390627,
             "test": [
              0.1891864148
             ]
            },
            {
             "iteration": 86,
             "learn": [
              0.1846862297
             ],
             "passed_time": 37.27155184,
             "remaining_time": 5.569312345,
             "test": [
              0.187641204
             ]
            },
            {
             "iteration": 87,
             "learn": [
              0.1827255076
             ],
             "passed_time": 37.71647845,
             "remaining_time": 5.143156153,
             "test": [
              0.1857761497
             ]
            },
            {
             "iteration": 88,
             "learn": [
              0.1805971498
             ],
             "passed_time": 38.17631101,
             "remaining_time": 4.718420461,
             "test": [
              0.1835758859
             ]
            },
            {
             "iteration": 89,
             "learn": [
              0.1790813892
             ],
             "passed_time": 38.53755655,
             "remaining_time": 4.281950727,
             "test": [
              0.182027242
             ]
            },
            {
             "iteration": 90,
             "learn": [
              0.1775613503
             ],
             "passed_time": 38.9112943,
             "remaining_time": 3.848369766,
             "test": [
              0.1805281417
             ]
            },
            {
             "iteration": 91,
             "learn": [
              0.1758218855
             ],
             "passed_time": 39.33969718,
             "remaining_time": 3.420843233,
             "test": [
              0.1788429711
             ]
            },
            {
             "iteration": 92,
             "learn": [
              0.1739843842
             ],
             "passed_time": 39.75057449,
             "remaining_time": 2.991978725,
             "test": [
              0.1768454448
             ]
            },
            {
             "iteration": 93,
             "learn": [
              0.1725595214
             ],
             "passed_time": 40.16118201,
             "remaining_time": 2.563479703,
             "test": [
              0.1753878237
             ]
            },
            {
             "iteration": 94,
             "learn": [
              0.1711564582
             ],
             "passed_time": 40.58608689,
             "remaining_time": 2.136109836,
             "test": [
              0.1739394776
             ]
            },
            {
             "iteration": 95,
             "learn": [
              0.1700244918
             ],
             "passed_time": 40.97136331,
             "remaining_time": 1.707140138,
             "test": [
              0.1729059916
             ]
            },
            {
             "iteration": 96,
             "learn": [
              0.1685949778
             ],
             "passed_time": 41.37433092,
             "remaining_time": 1.279618482,
             "test": [
              0.1714905677
             ]
            },
            {
             "iteration": 97,
             "learn": [
              0.1670506066
             ],
             "passed_time": 41.78644875,
             "remaining_time": 0.8527846683,
             "test": [
              0.1700495545
             ]
            },
            {
             "iteration": 98,
             "learn": [
              0.1649411169
             ],
             "passed_time": 42.28054522,
             "remaining_time": 0.4270762143,
             "test": [
              0.1678819113
             ]
            },
            {
             "iteration": 99,
             "learn": [
              0.1635073313
             ],
             "passed_time": 42.69601537,
             "remaining_time": 0,
             "test": [
              0.1664180102
             ]
            }
           ],
           "meta": {
            "iteration_count": 100,
            "launch_mode": "Train",
            "learn_metrics": [
             {
              "best_value": "Min",
              "name": "CrossEntropy"
             }
            ],
            "learn_sets": [
             "learn"
            ],
            "name": "experiment",
            "parameters": "",
            "test_metrics": [
             {
              "best_value": "Min",
              "name": "CrossEntropy"
             }
            ],
            "test_sets": [
             "test"
            ]
           }
          },
          "passed_iterations": 99,
          "total_iterations": 100
         },
         "name": "catboost_info",
         "path": "catboost_info"
        }
       },
       "layout": "IPY_MODEL_0505d8f1ea274891933ad0a7f46bcd5b"
      }
     },
     "a4cc920aac484b6cb73af5651caa6583": {
      "model_module": "@jupyter-widgets/base",
      "model_module_version": "1.2.0",
      "model_name": "LayoutModel",
      "state": {
       "_model_module": "@jupyter-widgets/base",
       "_model_module_version": "1.2.0",
       "_model_name": "LayoutModel",
       "_view_count": null,
       "_view_module": "@jupyter-widgets/base",
       "_view_module_version": "1.2.0",
       "_view_name": "LayoutView",
       "align_content": null,
       "align_items": null,
       "align_self": "stretch",
       "border": null,
       "bottom": null,
       "display": null,
       "flex": null,
       "flex_flow": null,
       "grid_area": null,
       "grid_auto_columns": null,
       "grid_auto_flow": null,
       "grid_auto_rows": null,
       "grid_column": null,
       "grid_gap": null,
       "grid_row": null,
       "grid_template_areas": null,
       "grid_template_columns": null,
       "grid_template_rows": null,
       "height": "500px",
       "justify_content": null,
       "justify_items": null,
       "left": null,
       "margin": null,
       "max_height": null,
       "max_width": null,
       "min_height": null,
       "min_width": null,
       "object_fit": null,
       "object_position": null,
       "order": null,
       "overflow": null,
       "overflow_x": null,
       "overflow_y": null,
       "padding": null,
       "right": null,
       "top": null,
       "visibility": null,
       "width": null
      }
     },
     "a535f3c1a8cc44dea74399e3171fca9d": {
      "model_module": "@jupyter-widgets/base",
      "model_module_version": "1.2.0",
      "model_name": "LayoutModel",
      "state": {
       "_model_module": "@jupyter-widgets/base",
       "_model_module_version": "1.2.0",
       "_model_name": "LayoutModel",
       "_view_count": null,
       "_view_module": "@jupyter-widgets/base",
       "_view_module_version": "1.2.0",
       "_view_name": "LayoutView",
       "align_content": null,
       "align_items": null,
       "align_self": "stretch",
       "border": null,
       "bottom": null,
       "display": null,
       "flex": null,
       "flex_flow": null,
       "grid_area": null,
       "grid_auto_columns": null,
       "grid_auto_flow": null,
       "grid_auto_rows": null,
       "grid_column": null,
       "grid_gap": null,
       "grid_row": null,
       "grid_template_areas": null,
       "grid_template_columns": null,
       "grid_template_rows": null,
       "height": "500px",
       "justify_content": null,
       "justify_items": null,
       "left": null,
       "margin": null,
       "max_height": null,
       "max_width": null,
       "min_height": null,
       "min_width": null,
       "object_fit": null,
       "object_position": null,
       "order": null,
       "overflow": null,
       "overflow_x": null,
       "overflow_y": null,
       "padding": null,
       "right": null,
       "top": null,
       "visibility": null,
       "width": null
      }
     },
     "a58298f5fb2f4ad29e93e7f7a87f9123": {
      "model_module": "@jupyter-widgets/base",
      "model_module_version": "1.2.0",
      "model_name": "LayoutModel",
      "state": {
       "_model_module": "@jupyter-widgets/base",
       "_model_module_version": "1.2.0",
       "_model_name": "LayoutModel",
       "_view_count": null,
       "_view_module": "@jupyter-widgets/base",
       "_view_module_version": "1.2.0",
       "_view_name": "LayoutView",
       "align_content": null,
       "align_items": null,
       "align_self": "stretch",
       "border": null,
       "bottom": null,
       "display": null,
       "flex": null,
       "flex_flow": null,
       "grid_area": null,
       "grid_auto_columns": null,
       "grid_auto_flow": null,
       "grid_auto_rows": null,
       "grid_column": null,
       "grid_gap": null,
       "grid_row": null,
       "grid_template_areas": null,
       "grid_template_columns": null,
       "grid_template_rows": null,
       "height": "500px",
       "justify_content": null,
       "justify_items": null,
       "left": null,
       "margin": null,
       "max_height": null,
       "max_width": null,
       "min_height": null,
       "min_width": null,
       "object_fit": null,
       "object_position": null,
       "order": null,
       "overflow": null,
       "overflow_x": null,
       "overflow_y": null,
       "padding": null,
       "right": null,
       "top": null,
       "visibility": null,
       "width": null
      }
     },
     "a7c36e3bf29f4167a5496d7c34a395c3": {
      "model_module": "@jupyter-widgets/base",
      "model_module_version": "1.2.0",
      "model_name": "LayoutModel",
      "state": {
       "_model_module": "@jupyter-widgets/base",
       "_model_module_version": "1.2.0",
       "_model_name": "LayoutModel",
       "_view_count": null,
       "_view_module": "@jupyter-widgets/base",
       "_view_module_version": "1.2.0",
       "_view_name": "LayoutView",
       "align_content": null,
       "align_items": null,
       "align_self": "stretch",
       "border": null,
       "bottom": null,
       "display": null,
       "flex": null,
       "flex_flow": null,
       "grid_area": null,
       "grid_auto_columns": null,
       "grid_auto_flow": null,
       "grid_auto_rows": null,
       "grid_column": null,
       "grid_gap": null,
       "grid_row": null,
       "grid_template_areas": null,
       "grid_template_columns": null,
       "grid_template_rows": null,
       "height": "500px",
       "justify_content": null,
       "justify_items": null,
       "left": null,
       "margin": null,
       "max_height": null,
       "max_width": null,
       "min_height": null,
       "min_width": null,
       "object_fit": null,
       "object_position": null,
       "order": null,
       "overflow": null,
       "overflow_x": null,
       "overflow_y": null,
       "padding": null,
       "right": null,
       "top": null,
       "visibility": null,
       "width": null
      }
     },
     "a7e1738ec11c4b66878cae4f291ff31b": {
      "model_module": "catboost-widget",
      "model_module_version": "^1.0.0",
      "model_name": "CatboostWidgetModel",
      "state": {
       "_dom_classes": [],
       "_model_module": "catboost-widget",
       "_model_module_version": "^1.0.0",
       "_model_name": "CatboostWidgetModel",
       "_view_count": null,
       "_view_module": "catboost-widget",
       "_view_module_version": "^1.0.0",
       "_view_name": "CatboostWidgetView",
       "data": {
        "catboost_info": {
         "content": {
          "data": {
           "iterations": [
            {
             "iteration": 0,
             "learn": [
              0.6718941029
             ],
             "passed_time": 0.5000331601,
             "remaining_time": 49.50328285,
             "test": [
              0.6721338888
             ]
            },
            {
             "iteration": 1,
             "learn": [
              0.6518138911
             ],
             "passed_time": 0.9288056522,
             "remaining_time": 45.51147696,
             "test": [
              0.6522534362
             ]
            },
            {
             "iteration": 2,
             "learn": [
              0.6318178044
             ],
             "passed_time": 1.345402176,
             "remaining_time": 43.50133702,
             "test": [
              0.6334859921
             ]
            },
            {
             "iteration": 3,
             "learn": [
              0.6147379218
             ],
             "passed_time": 1.765091394,
             "remaining_time": 42.36219346,
             "test": [
              0.6158439872
             ]
            },
            {
             "iteration": 4,
             "learn": [
              0.598419283
             ],
             "passed_time": 2.139376271,
             "remaining_time": 40.64814915,
             "test": [
              0.6002980032
             ]
            },
            {
             "iteration": 5,
             "learn": [
              0.5845301502
             ],
             "passed_time": 2.514857981,
             "remaining_time": 39.3994417,
             "test": [
              0.5855413979
             ]
            },
            {
             "iteration": 6,
             "learn": [
              0.5695426273
             ],
             "passed_time": 2.889574403,
             "remaining_time": 38.39005992,
             "test": [
              0.5714247268
             ]
            },
            {
             "iteration": 7,
             "learn": [
              0.5540012087
             ],
             "passed_time": 3.307616956,
             "remaining_time": 38.037595,
             "test": [
              0.5566222433
             ]
            },
            {
             "iteration": 8,
             "learn": [
              0.5419812152
             ],
             "passed_time": 3.68028922,
             "remaining_time": 37.21181322,
             "test": [
              0.5437349107
             ]
            },
            {
             "iteration": 9,
             "learn": [
              0.5297071785
             ],
             "passed_time": 4.052316336,
             "remaining_time": 36.47084702,
             "test": [
              0.5317131891
             ]
            },
            {
             "iteration": 10,
             "learn": [
              0.5179673773
             ],
             "passed_time": 4.471642897,
             "remaining_time": 36.17965617,
             "test": [
              0.5194641699
             ]
            },
            {
             "iteration": 11,
             "learn": [
              0.5049672299
             ],
             "passed_time": 4.881719479,
             "remaining_time": 35.79927618,
             "test": [
              0.5065664351
             ]
            },
            {
             "iteration": 12,
             "learn": [
              0.4927703767
             ],
             "passed_time": 5.299938484,
             "remaining_time": 35.46881909,
             "test": [
              0.4947374933
             ]
            },
            {
             "iteration": 13,
             "learn": [
              0.4825391412
             ],
             "passed_time": 5.710621238,
             "remaining_time": 35.07953046,
             "test": [
              0.4839234347
             ]
            },
            {
             "iteration": 14,
             "learn": [
              0.4724197439
             ],
             "passed_time": 6.119749126,
             "remaining_time": 34.67857838,
             "test": [
              0.4739598999
             ]
            },
            {
             "iteration": 15,
             "learn": [
              0.4613692135
             ],
             "passed_time": 6.541432932,
             "remaining_time": 34.34252289,
             "test": [
              0.4632921797
             ]
            },
            {
             "iteration": 16,
             "learn": [
              0.4506748921
             ],
             "passed_time": 6.994868569,
             "remaining_time": 34.15141713,
             "test": [
              0.4526883856
             ]
            },
            {
             "iteration": 17,
             "learn": [
              0.4405631813
             ],
             "passed_time": 7.419477362,
             "remaining_time": 33.79984131,
             "test": [
              0.4427479593
             ]
            },
            {
             "iteration": 18,
             "learn": [
              0.4317345692
             ],
             "passed_time": 7.832198803,
             "remaining_time": 33.38990016,
             "test": [
              0.4338416113
             ]
            },
            {
             "iteration": 19,
             "learn": [
              0.422693178
             ],
             "passed_time": 8.243244961,
             "remaining_time": 32.97297984,
             "test": [
              0.4245258619
             ]
            },
            {
             "iteration": 20,
             "learn": [
              0.414072609
             ],
             "passed_time": 8.660093177,
             "remaining_time": 32.57844576,
             "test": [
              0.4157477079
             ]
            },
            {
             "iteration": 21,
             "learn": [
              0.4058355125
             ],
             "passed_time": 9.06904031,
             "remaining_time": 32.15387019,
             "test": [
              0.4076133874
             ]
            },
            {
             "iteration": 22,
             "learn": [
              0.3981062265
             ],
             "passed_time": 9.481658298,
             "remaining_time": 31.742943,
             "test": [
              0.3997028082
             ]
            },
            {
             "iteration": 23,
             "learn": [
              0.3899859974
             ],
             "passed_time": 9.889521586,
             "remaining_time": 31.31681836,
             "test": [
              0.3916239806
             ]
            },
            {
             "iteration": 24,
             "learn": [
              0.3830601593
             ],
             "passed_time": 10.28774812,
             "remaining_time": 30.86324436,
             "test": [
              0.3844441852
             ]
            },
            {
             "iteration": 25,
             "learn": [
              0.3763599105
             ],
             "passed_time": 10.69016043,
             "remaining_time": 30.42584122,
             "test": [
              0.3776496265
             ]
            },
            {
             "iteration": 26,
             "learn": [
              0.3688570078
             ],
             "passed_time": 11.09275524,
             "remaining_time": 29.99152343,
             "test": [
              0.3703487305
             ]
            },
            {
             "iteration": 27,
             "learn": [
              0.3618456259
             ],
             "passed_time": 11.50722343,
             "remaining_time": 29.59000311,
             "test": [
              0.363278642
             ]
            },
            {
             "iteration": 28,
             "learn": [
              0.3554486896
             ],
             "passed_time": 11.93573742,
             "remaining_time": 29.22197782,
             "test": [
              0.3566929625
             ]
            },
            {
             "iteration": 29,
             "learn": [
              0.3496327576
             ],
             "passed_time": 12.33762078,
             "remaining_time": 28.78778183,
             "test": [
              0.3506814537
             ]
            },
            {
             "iteration": 30,
             "learn": [
              0.3429336034
             ],
             "passed_time": 12.75779198,
             "remaining_time": 28.39637569,
             "test": [
              0.3442520524
             ]
            },
            {
             "iteration": 31,
             "learn": [
              0.3375419619
             ],
             "passed_time": 13.13405505,
             "remaining_time": 27.90986698,
             "test": [
              0.3391492883
             ]
            },
            {
             "iteration": 32,
             "learn": [
              0.3324626015
             ],
             "passed_time": 13.53644529,
             "remaining_time": 27.48308589,
             "test": [
              0.3338800393
             ]
            },
            {
             "iteration": 33,
             "learn": [
              0.3273089264
             ],
             "passed_time": 13.9616746,
             "remaining_time": 27.10207422,
             "test": [
              0.328494215
             ]
            },
            {
             "iteration": 34,
             "learn": [
              0.3212567468
             ],
             "passed_time": 14.39460957,
             "remaining_time": 26.73284634,
             "test": [
              0.3224995357
             ]
            },
            {
             "iteration": 35,
             "learn": [
              0.315535293
             ],
             "passed_time": 14.81196672,
             "remaining_time": 26.33238528,
             "test": [
              0.3166202865
             ]
            },
            {
             "iteration": 36,
             "learn": [
              0.3108999063
             ],
             "passed_time": 15.19315984,
             "remaining_time": 25.86943431,
             "test": [
              0.3122038651
             ]
            },
            {
             "iteration": 37,
             "learn": [
              0.3057959888
             ],
             "passed_time": 15.60343144,
             "remaining_time": 25.45823024,
             "test": [
              0.30705228
             ]
            },
            {
             "iteration": 38,
             "learn": [
              0.3002011546
             ],
             "passed_time": 16.01893751,
             "remaining_time": 25.05526123,
             "test": [
              0.3015271585
             ]
            },
            {
             "iteration": 39,
             "learn": [
              0.2959654126
             ],
             "passed_time": 16.40161956,
             "remaining_time": 24.60242933,
             "test": [
              0.297133143
             ]
            },
            {
             "iteration": 40,
             "learn": [
              0.2911014996
             ],
             "passed_time": 16.81912988,
             "remaining_time": 24.20313811,
             "test": [
              0.2923879162
             ]
            },
            {
             "iteration": 41,
             "learn": [
              0.2860892823
             ],
             "passed_time": 17.23731983,
             "remaining_time": 23.80391786,
             "test": [
              0.2872733356
             ]
            },
            {
             "iteration": 42,
             "learn": [
              0.2822854195
             ],
             "passed_time": 17.84012553,
             "remaining_time": 23.64853849,
             "test": [
              0.2833316223
             ]
            },
            {
             "iteration": 43,
             "learn": [
              0.2777146371
             ],
             "passed_time": 18.4529088,
             "remaining_time": 23.48552029,
             "test": [
              0.2787102154
             ]
            },
            {
             "iteration": 44,
             "learn": [
              0.2739247746
             ],
             "passed_time": 19.01488928,
             "remaining_time": 23.24042024,
             "test": [
              0.2747170034
             ]
            },
            {
             "iteration": 45,
             "learn": [
              0.2696095703
             ],
             "passed_time": 19.43886715,
             "remaining_time": 22.81953969,
             "test": [
              0.2702458026
             ]
            },
            {
             "iteration": 46,
             "learn": [
              0.265284648
             ],
             "passed_time": 19.85617738,
             "remaining_time": 22.39100854,
             "test": [
              0.2657821074
             ]
            },
            {
             "iteration": 47,
             "learn": [
              0.2619494542
             ],
             "passed_time": 20.20538019,
             "remaining_time": 21.88916187,
             "test": [
              0.2627042723
             ]
            },
            {
             "iteration": 48,
             "learn": [
              0.2580041848
             ],
             "passed_time": 20.64065809,
             "remaining_time": 21.48313393,
             "test": [
              0.258656314
             ]
            },
            {
             "iteration": 49,
             "learn": [
              0.2540937247
             ],
             "passed_time": 21.06311391,
             "remaining_time": 21.06311391,
             "test": [
              0.2544688833
             ]
            },
            {
             "iteration": 50,
             "learn": [
              0.2502298546
             ],
             "passed_time": 21.51879035,
             "remaining_time": 20.67491622,
             "test": [
              0.2507910676
             ]
            },
            {
             "iteration": 51,
             "learn": [
              0.2467378536
             ],
             "passed_time": 21.95662887,
             "remaining_time": 20.26765742,
             "test": [
              0.2467936135
             ]
            },
            {
             "iteration": 52,
             "learn": [
              0.2431369952
             ],
             "passed_time": 22.37753662,
             "remaining_time": 19.84423059,
             "test": [
              0.2433588239
             ]
            },
            {
             "iteration": 53,
             "learn": [
              0.2399231208
             ],
             "passed_time": 22.77040068,
             "remaining_time": 19.39700799,
             "test": [
              0.2400000121
             ]
            },
            {
             "iteration": 54,
             "learn": [
              0.2364576518
             ],
             "passed_time": 23.1573381,
             "remaining_time": 18.94691299,
             "test": [
              0.2367872937
             ]
            },
            {
             "iteration": 55,
             "learn": [
              0.2333987977
             ],
             "passed_time": 23.59354949,
             "remaining_time": 18.53778888,
             "test": [
              0.2334925604
             ]
            },
            {
             "iteration": 56,
             "learn": [
              0.2305112627
             ],
             "passed_time": 23.98978439,
             "remaining_time": 18.09755665,
             "test": [
              0.2305504436
             ]
            },
            {
             "iteration": 57,
             "learn": [
              0.2273627383
             ],
             "passed_time": 24.44028282,
             "remaining_time": 17.69813583,
             "test": [
              0.2273922712
             ]
            },
            {
             "iteration": 58,
             "learn": [
              0.2246434477
             ],
             "passed_time": 24.79981444,
             "remaining_time": 17.23376936,
             "test": [
              0.2248459663
             ]
            },
            {
             "iteration": 59,
             "learn": [
              0.2218472709
             ],
             "passed_time": 25.19678332,
             "remaining_time": 16.79785555,
             "test": [
              0.2220012557
             ]
            },
            {
             "iteration": 60,
             "learn": [
              0.2187397938
             ],
             "passed_time": 25.65463421,
             "remaining_time": 16.40214318,
             "test": [
              0.218879782
             ]
            },
            {
             "iteration": 61,
             "learn": [
              0.2163167842
             ],
             "passed_time": 26.00025174,
             "remaining_time": 15.93563817,
             "test": [
              0.2165630608
             ]
            },
            {
             "iteration": 62,
             "learn": [
              0.2138274375
             ],
             "passed_time": 26.36827177,
             "remaining_time": 15.48612787,
             "test": [
              0.2141284807
             ]
            },
            {
             "iteration": 63,
             "learn": [
              0.2108626533
             ],
             "passed_time": 26.82762961,
             "remaining_time": 15.09054166,
             "test": [
              0.2108123786
             ]
            },
            {
             "iteration": 64,
             "learn": [
              0.2083541874
             ],
             "passed_time": 27.22388038,
             "remaining_time": 14.65901251,
             "test": [
              0.2082685891
             ]
            },
            {
             "iteration": 65,
             "learn": [
              0.2059647037
             ],
             "passed_time": 27.64995167,
             "remaining_time": 14.2439145,
             "test": [
              0.2058983335
             ]
            },
            {
             "iteration": 66,
             "learn": [
              0.2036072727
             ],
             "passed_time": 28.07530547,
             "remaining_time": 13.82813553,
             "test": [
              0.2034730001
             ]
            },
            {
             "iteration": 67,
             "learn": [
              0.201266414
             ],
             "passed_time": 28.47423534,
             "remaining_time": 13.39964016,
             "test": [
              0.2010845606
             ]
            },
            {
             "iteration": 68,
             "learn": [
              0.1990548364
             ],
             "passed_time": 28.95905576,
             "remaining_time": 13.01059027,
             "test": [
              0.1989393008
             ]
            },
            {
             "iteration": 69,
             "learn": [
              0.1968506213
             ],
             "passed_time": 29.38631434,
             "remaining_time": 12.59413472,
             "test": [
              0.1967017602
             ]
            },
            {
             "iteration": 70,
             "learn": [
              0.1945360177
             ],
             "passed_time": 29.78274807,
             "remaining_time": 12.16478442,
             "test": [
              0.1944145456
             ]
            },
            {
             "iteration": 71,
             "learn": [
              0.1920821799
             ],
             "passed_time": 30.23603581,
             "remaining_time": 11.75845837,
             "test": [
              0.1919505805
             ]
            },
            {
             "iteration": 72,
             "learn": [
              0.1896102818
             ],
             "passed_time": 30.7776735,
             "remaining_time": 11.38352308,
             "test": [
              0.1893662055
             ]
            },
            {
             "iteration": 73,
             "learn": [
              0.1876738124
             ],
             "passed_time": 31.18266673,
             "remaining_time": 10.95607209,
             "test": [
              0.1872827474
             ]
            },
            {
             "iteration": 74,
             "learn": [
              0.1853767919
             ],
             "passed_time": 31.68944615,
             "remaining_time": 10.56314872,
             "test": [
              0.1848481097
             ]
            },
            {
             "iteration": 75,
             "learn": [
              0.1834050973
             ],
             "passed_time": 32.06246871,
             "remaining_time": 10.12499012,
             "test": [
              0.183026869
             ]
            },
            {
             "iteration": 76,
             "learn": [
              0.1818038705
             ],
             "passed_time": 32.38747441,
             "remaining_time": 9.674180667,
             "test": [
              0.1815042747
             ]
            },
            {
             "iteration": 77,
             "learn": [
              0.1796302515
             ],
             "passed_time": 32.91392562,
             "remaining_time": 9.283414919,
             "test": [
              0.1791521904
             ]
            },
            {
             "iteration": 78,
             "learn": [
              0.1775973879
             ],
             "passed_time": 33.31962414,
             "remaining_time": 8.857115278,
             "test": [
              0.177134753
             ]
            },
            {
             "iteration": 79,
             "learn": [
              0.1757902774
             ],
             "passed_time": 33.7058105,
             "remaining_time": 8.426452625,
             "test": [
              0.1754220363
             ]
            },
            {
             "iteration": 80,
             "learn": [
              0.1737316895
             ],
             "passed_time": 34.23635458,
             "remaining_time": 8.03074984,
             "test": [
              0.1732182617
             ]
            },
            {
             "iteration": 81,
             "learn": [
              0.1718487868
             ],
             "passed_time": 34.64149885,
             "remaining_time": 7.604231455,
             "test": [
              0.1712258821
             ]
            },
            {
             "iteration": 82,
             "learn": [
              0.1702790181
             ],
             "passed_time": 34.99066345,
             "remaining_time": 7.166762392,
             "test": [
              0.1698198296
             ]
            },
            {
             "iteration": 83,
             "learn": [
              0.16865503
             ],
             "passed_time": 35.39921449,
             "remaining_time": 6.742707522,
             "test": [
              0.1680786527
             ]
            },
            {
             "iteration": 84,
             "learn": [
              0.1672121842
             ],
             "passed_time": 35.73933894,
             "remaining_time": 6.306942165,
             "test": [
              0.1666054962
             ]
            },
            {
             "iteration": 85,
             "learn": [
              0.1652641698
             ],
             "passed_time": 36.2554452,
             "remaining_time": 5.902049219,
             "test": [
              0.1644206951
             ]
            },
            {
             "iteration": 86,
             "learn": [
              0.1633157673
             ],
             "passed_time": 36.74266694,
             "remaining_time": 5.490283566,
             "test": [
              0.1624527041
             ]
            },
            {
             "iteration": 87,
             "learn": [
              0.1612775221
             ],
             "passed_time": 37.17122524,
             "remaining_time": 5.068803441,
             "test": [
              0.1604136645
             ]
            },
            {
             "iteration": 88,
             "learn": [
              0.1600808408
             ],
             "passed_time": 37.54491769,
             "remaining_time": 4.640383085,
             "test": [
              0.1593451804
             ]
            },
            {
             "iteration": 89,
             "learn": [
              0.1583054485
             ],
             "passed_time": 37.95583602,
             "remaining_time": 4.217315113,
             "test": [
              0.1577725042
             ]
            },
            {
             "iteration": 90,
             "learn": [
              0.156943699
             ],
             "passed_time": 38.30108588,
             "remaining_time": 3.788019483,
             "test": [
              0.1565427408
             ]
            },
            {
             "iteration": 91,
             "learn": [
              0.1548069312
             ],
             "passed_time": 38.80375803,
             "remaining_time": 3.374239828,
             "test": [
              0.154376731
             ]
            },
            {
             "iteration": 92,
             "learn": [
              0.1534804472
             ],
             "passed_time": 39.20897317,
             "remaining_time": 2.951213035,
             "test": [
              0.152879063
             ]
            },
            {
             "iteration": 93,
             "learn": [
              0.1519158642
             ],
             "passed_time": 39.71383964,
             "remaining_time": 2.534925934,
             "test": [
              0.1512301371
             ]
            },
            {
             "iteration": 94,
             "learn": [
              0.1505571386
             ],
             "passed_time": 40.08104523,
             "remaining_time": 2.109528696,
             "test": [
              0.1499591007
             ]
            },
            {
             "iteration": 95,
             "learn": [
              0.1490749295
             ],
             "passed_time": 40.45266621,
             "remaining_time": 1.685527759,
             "test": [
              0.1484346858
             ]
            },
            {
             "iteration": 96,
             "learn": [
              0.1475449202
             ],
             "passed_time": 40.86979573,
             "remaining_time": 1.264014301,
             "test": [
              0.1469460965
             ]
            },
            {
             "iteration": 97,
             "learn": [
              0.1458289312
             ],
             "passed_time": 41.30879725,
             "remaining_time": 0.8430366787,
             "test": [
              0.145307699
             ]
            },
            {
             "iteration": 98,
             "learn": [
              0.1446477486
             ],
             "passed_time": 41.72528724,
             "remaining_time": 0.4214675479,
             "test": [
              0.143928012
             ]
            },
            {
             "iteration": 99,
             "learn": [
              0.143015537
             ],
             "passed_time": 42.13203442,
             "remaining_time": 0,
             "test": [
              0.1422244695
             ]
            }
           ],
           "meta": {
            "iteration_count": 100,
            "launch_mode": "Train",
            "learn_metrics": [
             {
              "best_value": "Min",
              "name": "CrossEntropy"
             }
            ],
            "learn_sets": [
             "learn"
            ],
            "name": "experiment",
            "parameters": "",
            "test_metrics": [
             {
              "best_value": "Min",
              "name": "CrossEntropy"
             }
            ],
            "test_sets": [
             "test"
            ]
           }
          },
          "passed_iterations": 99,
          "total_iterations": 100
         },
         "name": "catboost_info",
         "path": "catboost_info"
        }
       },
       "layout": "IPY_MODEL_ec5cfaf734d9448b98daaabce4526262"
      }
     },
     "ac65776eaef6437ebe4b480c9da6efeb": {
      "model_module": "@jupyter-widgets/base",
      "model_module_version": "1.2.0",
      "model_name": "LayoutModel",
      "state": {
       "_model_module": "@jupyter-widgets/base",
       "_model_module_version": "1.2.0",
       "_model_name": "LayoutModel",
       "_view_count": null,
       "_view_module": "@jupyter-widgets/base",
       "_view_module_version": "1.2.0",
       "_view_name": "LayoutView",
       "align_content": null,
       "align_items": null,
       "align_self": "stretch",
       "border": null,
       "bottom": null,
       "display": null,
       "flex": null,
       "flex_flow": null,
       "grid_area": null,
       "grid_auto_columns": null,
       "grid_auto_flow": null,
       "grid_auto_rows": null,
       "grid_column": null,
       "grid_gap": null,
       "grid_row": null,
       "grid_template_areas": null,
       "grid_template_columns": null,
       "grid_template_rows": null,
       "height": "500px",
       "justify_content": null,
       "justify_items": null,
       "left": null,
       "margin": null,
       "max_height": null,
       "max_width": null,
       "min_height": null,
       "min_width": null,
       "object_fit": null,
       "object_position": null,
       "order": null,
       "overflow": null,
       "overflow_x": null,
       "overflow_y": null,
       "padding": null,
       "right": null,
       "top": null,
       "visibility": null,
       "width": null
      }
     },
     "b937dd66da6c45a4a48aa98e1cb55a29": {
      "model_module": "catboost-widget",
      "model_module_version": "^1.0.0",
      "model_name": "CatboostWidgetModel",
      "state": {
       "_dom_classes": [],
       "_model_module": "catboost-widget",
       "_model_module_version": "^1.0.0",
       "_model_name": "CatboostWidgetModel",
       "_view_count": null,
       "_view_module": "catboost-widget",
       "_view_module_version": "^1.0.0",
       "_view_name": "CatboostWidgetView",
       "data": {
        "catboost_info": {
         "content": {
          "data": {
           "iterations": [
            {
             "iteration": 0,
             "learn": [
              0.6675553067
             ],
             "passed_time": 0.4591770011,
             "remaining_time": 45.45852311,
             "test": [
              0.6694144901
             ]
            },
            {
             "iteration": 1,
             "learn": [
              0.6450278469
             ],
             "passed_time": 0.8752408364,
             "remaining_time": 42.88680099,
             "test": [
              0.6454035915
             ]
            },
            {
             "iteration": 2,
             "learn": [
              0.6218643174
             ],
             "passed_time": 1.328160518,
             "remaining_time": 42.94385674,
             "test": [
              0.6239200688
             ]
            },
            {
             "iteration": 3,
             "learn": [
              0.6023359346
             ],
             "passed_time": 1.753033743,
             "remaining_time": 42.07280983,
             "test": [
              0.6038916288
             ]
            },
            {
             "iteration": 4,
             "learn": [
              0.5822741349
             ],
             "passed_time": 2.177554472,
             "remaining_time": 41.37353496,
             "test": [
              0.5849397463
             ]
            },
            {
             "iteration": 5,
             "learn": [
              0.5642217399
             ],
             "passed_time": 2.629174762,
             "remaining_time": 41.1904046,
             "test": [
              0.5665529154
             ]
            },
            {
             "iteration": 6,
             "learn": [
              0.5468520557
             ],
             "passed_time": 3.059083464,
             "remaining_time": 40.64210887,
             "test": [
              0.5495978224
             ]
            },
            {
             "iteration": 7,
             "learn": [
              0.5282890198
             ],
             "passed_time": 3.478912329,
             "remaining_time": 40.00749179,
             "test": [
              0.5317560264
             ]
            },
            {
             "iteration": 8,
             "learn": [
              0.5112464779
             ],
             "passed_time": 3.895176949,
             "remaining_time": 39.38456693,
             "test": [
              0.5148624253
             ]
            },
            {
             "iteration": 9,
             "learn": [
              0.4964292991
             ],
             "passed_time": 4.319346998,
             "remaining_time": 38.87412298,
             "test": [
              0.5001551998
             ]
            },
            {
             "iteration": 10,
             "learn": [
              0.4818063507
             ],
             "passed_time": 4.749095169,
             "remaining_time": 38.42449728,
             "test": [
              0.4861485545
             ]
            },
            {
             "iteration": 11,
             "learn": [
              0.4672121895
             ],
             "passed_time": 5.164532977,
             "remaining_time": 37.87324183,
             "test": [
              0.4713014138
             ]
            },
            {
             "iteration": 12,
             "learn": [
              0.4529131252
             ],
             "passed_time": 5.577365835,
             "remaining_time": 37.32544828,
             "test": [
              0.4571569699
             ]
            },
            {
             "iteration": 13,
             "learn": [
              0.4401698213
             ],
             "passed_time": 6.039995759,
             "remaining_time": 37.10283109,
             "test": [
              0.4449186811
             ]
            },
            {
             "iteration": 14,
             "learn": [
              0.4271878641
             ],
             "passed_time": 6.449769865,
             "remaining_time": 36.5486959,
             "test": [
              0.4321925496
             ]
            },
            {
             "iteration": 15,
             "learn": [
              0.415719548
             ],
             "passed_time": 6.877170581,
             "remaining_time": 36.10514555,
             "test": [
              0.4211886922
             ]
            },
            {
             "iteration": 16,
             "learn": [
              0.4038811059
             ],
             "passed_time": 7.291609006,
             "remaining_time": 35.60020868,
             "test": [
              0.4091851275
             ]
            },
            {
             "iteration": 17,
             "learn": [
              0.3929617221
             ],
             "passed_time": 7.871940843,
             "remaining_time": 35.86106384,
             "test": [
              0.398877488
             ]
            },
            {
             "iteration": 18,
             "learn": [
              0.3823033194
             ],
             "passed_time": 8.457409901,
             "remaining_time": 36.05527379,
             "test": [
              0.3881622242
             ]
            },
            {
             "iteration": 19,
             "learn": [
              0.3722407682
             ],
             "passed_time": 8.995008442,
             "remaining_time": 35.98003377,
             "test": [
              0.3787734325
             ]
            },
            {
             "iteration": 20,
             "learn": [
              0.3622238074
             ],
             "passed_time": 9.413543228,
             "remaining_time": 35.4128531,
             "test": [
              0.3689770199
             ]
            },
            {
             "iteration": 21,
             "learn": [
              0.3524740293
             ],
             "passed_time": 9.8346307,
             "remaining_time": 34.86823612,
             "test": [
              0.3595704586
             ]
            },
            {
             "iteration": 22,
             "learn": [
              0.3439090191
             ],
             "passed_time": 10.26480584,
             "remaining_time": 34.36478476,
             "test": [
              0.3513692839
             ]
            },
            {
             "iteration": 23,
             "learn": [
              0.3337394906
             ],
             "passed_time": 10.73772071,
             "remaining_time": 34.00278226,
             "test": [
              0.3414202734
             ]
            },
            {
             "iteration": 24,
             "learn": [
              0.323976512
             ],
             "passed_time": 11.1556469,
             "remaining_time": 33.4669407,
             "test": [
              0.3316778856
             ]
            },
            {
             "iteration": 25,
             "learn": [
              0.3146063362
             ],
             "passed_time": 11.5811633,
             "remaining_time": 32.96177247,
             "test": [
              0.3223940022
             ]
            },
            {
             "iteration": 26,
             "learn": [
              0.3056666355
             ],
             "passed_time": 12.00215134,
             "remaining_time": 32.45026102,
             "test": [
              0.3135793078
             ]
            },
            {
             "iteration": 27,
             "learn": [
              0.2984960096
             ],
             "passed_time": 12.46511095,
             "remaining_time": 32.05314244,
             "test": [
              0.3066047162
             ]
            },
            {
             "iteration": 28,
             "learn": [
              0.2901478167
             ],
             "passed_time": 12.88560751,
             "remaining_time": 31.54752185,
             "test": [
              0.2984004933
             ]
            },
            {
             "iteration": 29,
             "learn": [
              0.2834403769
             ],
             "passed_time": 13.34342431,
             "remaining_time": 31.13465673,
             "test": [
              0.2917770435
             ]
            },
            {
             "iteration": 30,
             "learn": [
              0.2767212711
             ],
             "passed_time": 13.78917513,
             "remaining_time": 30.69203498,
             "test": [
              0.2854586206
             ]
            },
            {
             "iteration": 31,
             "learn": [
              0.2700414656
             ],
             "passed_time": 14.23656451,
             "remaining_time": 30.25269959,
             "test": [
              0.2789938449
             ]
            },
            {
             "iteration": 32,
             "learn": [
              0.2641607767
             ],
             "passed_time": 14.64355755,
             "remaining_time": 29.73085928,
             "test": [
              0.2733625841
             ]
            },
            {
             "iteration": 33,
             "learn": [
              0.2571459304
             ],
             "passed_time": 15.07077345,
             "remaining_time": 29.25503081,
             "test": [
              0.2663472645
             ]
            },
            {
             "iteration": 34,
             "learn": [
              0.250345254
             ],
             "passed_time": 15.4972445,
             "remaining_time": 28.78059693,
             "test": [
              0.2595563359
             ]
            },
            {
             "iteration": 35,
             "learn": [
              0.2438092564
             ],
             "passed_time": 15.93152287,
             "remaining_time": 28.32270732,
             "test": [
              0.2531279114
             ]
            },
            {
             "iteration": 36,
             "learn": [
              0.2378797216
             ],
             "passed_time": 16.39377936,
             "remaining_time": 27.91373243,
             "test": [
              0.2469725024
             ]
            },
            {
             "iteration": 37,
             "learn": [
              0.2329807101
             ],
             "passed_time": 16.80889834,
             "remaining_time": 27.42504466,
             "test": [
              0.2423307791
             ]
            },
            {
             "iteration": 38,
             "learn": [
              0.2271054733
             ],
             "passed_time": 17.23143376,
             "remaining_time": 26.95172973,
             "test": [
              0.2364340591
             ]
            },
            {
             "iteration": 39,
             "learn": [
              0.2213463704
             ],
             "passed_time": 17.6549607,
             "remaining_time": 26.48244106,
             "test": [
              0.230647223
             ]
            },
            {
             "iteration": 40,
             "learn": [
              0.2159807672
             ],
             "passed_time": 18.07455333,
             "remaining_time": 26.00972308,
             "test": [
              0.2249693646
             ]
            },
            {
             "iteration": 41,
             "learn": [
              0.2107028267
             ],
             "passed_time": 18.49517493,
             "remaining_time": 25.54095586,
             "test": [
              0.2197291566
             ]
            },
            {
             "iteration": 42,
             "learn": [
              0.2058112532
             ],
             "passed_time": 18.9046872,
             "remaining_time": 25.05970163,
             "test": [
              0.214726036
             ]
            },
            {
             "iteration": 43,
             "learn": [
              0.2009393339
             ],
             "passed_time": 19.33301703,
             "remaining_time": 24.60565804,
             "test": [
              0.2098537975
             ]
            },
            {
             "iteration": 44,
             "learn": [
              0.1964160539
             ],
             "passed_time": 19.80388154,
             "remaining_time": 24.2047441,
             "test": [
              0.2051754359
             ]
            },
            {
             "iteration": 45,
             "learn": [
              0.1918001372
             ],
             "passed_time": 20.21857491,
             "remaining_time": 23.7348488,
             "test": [
              0.2004485165
             ]
            },
            {
             "iteration": 46,
             "learn": [
              0.1875767646
             ],
             "passed_time": 20.64577206,
             "remaining_time": 23.28140253,
             "test": [
              0.1960589352
             ]
            },
            {
             "iteration": 47,
             "learn": [
              0.1833339493
             ],
             "passed_time": 21.10961758,
             "remaining_time": 22.86875238,
             "test": [
              0.1916360223
             ]
            },
            {
             "iteration": 48,
             "learn": [
              0.1794687024
             ],
             "passed_time": 21.51459895,
             "remaining_time": 22.39274585,
             "test": [
              0.1878550448
             ]
            },
            {
             "iteration": 49,
             "learn": [
              0.1756426815
             ],
             "passed_time": 21.99930279,
             "remaining_time": 21.99930279,
             "test": [
              0.1838373859
             ]
            },
            {
             "iteration": 50,
             "learn": [
              0.1720037717
             ],
             "passed_time": 22.43143991,
             "remaining_time": 21.5517756,
             "test": [
              0.1802649192
             ]
            },
            {
             "iteration": 51,
             "learn": [
              0.1681420806
             ],
             "passed_time": 22.90788297,
             "remaining_time": 21.14573813,
             "test": [
              0.1763649898
             ]
            },
            {
             "iteration": 52,
             "learn": [
              0.1643921679
             ],
             "passed_time": 23.32495442,
             "remaining_time": 20.68439354,
             "test": [
              0.1724221238
             ]
            },
            {
             "iteration": 53,
             "learn": [
              0.1611995663
             ],
             "passed_time": 23.71583597,
             "remaining_time": 20.20237879,
             "test": [
              0.1691477222
             ]
            },
            {
             "iteration": 54,
             "learn": [
              0.1582167475
             ],
             "passed_time": 24.1137684,
             "remaining_time": 19.72944687,
             "test": [
              0.1660820376
             ]
            },
            {
             "iteration": 55,
             "learn": [
              0.1550162517
             ],
             "passed_time": 24.5529085,
             "remaining_time": 19.29157097,
             "test": [
              0.1629743343
             ]
            },
            {
             "iteration": 56,
             "learn": [
              0.1516786962
             ],
             "passed_time": 24.99513534,
             "remaining_time": 18.85597929,
             "test": [
              0.1595127761
             ]
            },
            {
             "iteration": 57,
             "learn": [
              0.1489605666
             ],
             "passed_time": 25.36657643,
             "remaining_time": 18.36890017,
             "test": [
              0.1568414425
             ]
            },
            {
             "iteration": 58,
             "learn": [
              0.1461911392
             ],
             "passed_time": 25.77302065,
             "remaining_time": 17.91006519,
             "test": [
              0.1539824377
             ]
            },
            {
             "iteration": 59,
             "learn": [
              0.1436764699
             ],
             "passed_time": 26.16899338,
             "remaining_time": 17.44599558,
             "test": [
              0.1513857844
             ]
            },
            {
             "iteration": 60,
             "learn": [
              0.1408106317
             ],
             "passed_time": 26.61563474,
             "remaining_time": 17.01655336,
             "test": [
              0.1486217085
             ]
            },
            {
             "iteration": 61,
             "learn": [
              0.138445341
             ],
             "passed_time": 27.00954539,
             "remaining_time": 16.55423749,
             "test": [
              0.1463022601
             ]
            },
            {
             "iteration": 62,
             "learn": [
              0.1358105966
             ],
             "passed_time": 27.45307277,
             "remaining_time": 16.12323321,
             "test": [
              0.1436791517
             ]
            },
            {
             "iteration": 63,
             "learn": [
              0.13306151
             ],
             "passed_time": 27.89063729,
             "remaining_time": 15.68848347,
             "test": [
              0.14069292
             ]
            },
            {
             "iteration": 64,
             "learn": [
              0.1311372981
             ],
             "passed_time": 28.24745762,
             "remaining_time": 15.21016949,
             "test": [
              0.1389019542
             ]
            },
            {
             "iteration": 65,
             "learn": [
              0.1293311661
             ],
             "passed_time": 28.60447729,
             "remaining_time": 14.73563981,
             "test": [
              0.1372190761
             ]
            },
            {
             "iteration": 66,
             "learn": [
              0.1272685409
             ],
             "passed_time": 28.98623623,
             "remaining_time": 14.27680292,
             "test": [
              0.1352808011
             ]
            },
            {
             "iteration": 67,
             "learn": [
              0.1255424575
             ],
             "passed_time": 29.3393833,
             "remaining_time": 13.80676861,
             "test": [
              0.1336788715
             ]
            },
            {
             "iteration": 68,
             "learn": [
              0.1237165681
             ],
             "passed_time": 29.74112059,
             "remaining_time": 13.36195273,
             "test": [
              0.1318799047
             ]
            },
            {
             "iteration": 69,
             "learn": [
              0.1213669009
             ],
             "passed_time": 30.18591899,
             "remaining_time": 12.93682242,
             "test": [
              0.129423065
             ]
            },
            {
             "iteration": 70,
             "learn": [
              0.1199861847
             ],
             "passed_time": 30.51215026,
             "remaining_time": 12.46270926,
             "test": [
              0.128080815
             ]
            },
            {
             "iteration": 71,
             "learn": [
              0.1182431934
             ],
             "passed_time": 30.92193832,
             "remaining_time": 12.02519823,
             "test": [
              0.1263508325
             ]
            },
            {
             "iteration": 72,
             "learn": [
              0.1168757279
             ],
             "passed_time": 31.23992689,
             "remaining_time": 11.55449351,
             "test": [
              0.1249645586
             ]
            },
            {
             "iteration": 73,
             "learn": [
              0.1147272695
             ],
             "passed_time": 31.68750664,
             "remaining_time": 11.13344828,
             "test": [
              0.1227574595
             ]
            },
            {
             "iteration": 74,
             "learn": [
              0.1126343658
             ],
             "passed_time": 32.12378247,
             "remaining_time": 10.70792749,
             "test": [
              0.1205814965
             ]
            },
            {
             "iteration": 75,
             "learn": [
              0.1111423636
             ],
             "passed_time": 32.48379539,
             "remaining_time": 10.25804065,
             "test": [
              0.1191055533
             ]
            },
            {
             "iteration": 76,
             "learn": [
              0.1094479963
             ],
             "passed_time": 32.93881633,
             "remaining_time": 9.838867214,
             "test": [
              0.1174033811
             ]
            },
            {
             "iteration": 77,
             "learn": [
              0.1080284075
             ],
             "passed_time": 33.34389495,
             "remaining_time": 9.404688319,
             "test": [
              0.1159164738
             ]
            },
            {
             "iteration": 78,
             "learn": [
              0.1060861511
             ],
             "passed_time": 33.81183136,
             "remaining_time": 8.987955172,
             "test": [
              0.1139079859
             ]
            },
            {
             "iteration": 79,
             "learn": [
              0.1050581931
             ],
             "passed_time": 34.13287265,
             "remaining_time": 8.533218164,
             "test": [
              0.1129315297
             ]
            },
            {
             "iteration": 80,
             "learn": [
              0.1038026384
             ],
             "passed_time": 34.49386816,
             "remaining_time": 8.09115426,
             "test": [
              0.1117263967
             ]
            },
            {
             "iteration": 81,
             "learn": [
              0.1020763419
             ],
             "passed_time": 34.93278045,
             "remaining_time": 7.668171319,
             "test": [
              0.1098848587
             ]
            },
            {
             "iteration": 82,
             "learn": [
              0.1012263296
             ],
             "passed_time": 35.24594038,
             "remaining_time": 7.219048029,
             "test": [
              0.1091381877
             ]
            },
            {
             "iteration": 83,
             "learn": [
              0.09962265632
             ],
             "passed_time": 35.68832662,
             "remaining_time": 6.797776499,
             "test": [
              0.1074906705
             ]
            },
            {
             "iteration": 84,
             "learn": [
              0.09806551544
             ],
             "passed_time": 36.10266995,
             "remaining_time": 6.371059403,
             "test": [
              0.1059652653
             ]
            },
            {
             "iteration": 85,
             "learn": [
              0.09725846707
             ],
             "passed_time": 36.41191489,
             "remaining_time": 5.927521029,
             "test": [
              0.1052160502
             ]
            },
            {
             "iteration": 86,
             "learn": [
              0.09545983766
             ],
             "passed_time": 36.89618984,
             "remaining_time": 5.513223769,
             "test": [
              0.1032922565
             ]
            },
            {
             "iteration": 87,
             "learn": [
              0.09463223882
             ],
             "passed_time": 37.21786302,
             "remaining_time": 5.075163139,
             "test": [
              0.1025326305
             ]
            },
            {
             "iteration": 88,
             "learn": [
              0.09322109412
             ],
             "passed_time": 37.6093003,
             "remaining_time": 4.648340486,
             "test": [
              0.1010110617
             ]
            },
            {
             "iteration": 89,
             "learn": [
              0.09248333676
             ],
             "passed_time": 37.92059439,
             "remaining_time": 4.213399376,
             "test": [
              0.1003269276
             ]
            },
            {
             "iteration": 90,
             "learn": [
              0.09098496812
             ],
             "passed_time": 38.35502952,
             "remaining_time": 3.793354568,
             "test": [
              0.09867962112
             ]
            },
            {
             "iteration": 91,
             "learn": [
              0.08973216907
             ],
             "passed_time": 38.77007161,
             "remaining_time": 3.371310575,
             "test": [
              0.09732626609
             ]
            },
            {
             "iteration": 92,
             "learn": [
              0.08878616816
             ],
             "passed_time": 39.12397391,
             "remaining_time": 2.94481524,
             "test": [
              0.09635084347
             ]
            },
            {
             "iteration": 93,
             "learn": [
              0.08789038708
             ],
             "passed_time": 39.59892292,
             "remaining_time": 2.527590825,
             "test": [
              0.09545964278
             ]
            },
            {
             "iteration": 94,
             "learn": [
              0.08651698348
             ],
             "passed_time": 40.24733337,
             "remaining_time": 2.118280704,
             "test": [
              0.09399435113
             ]
            },
            {
             "iteration": 95,
             "learn": [
              0.0858229373
             ],
             "passed_time": 40.69778058,
             "remaining_time": 1.695740857,
             "test": [
              0.09326688805
             ]
            },
            {
             "iteration": 96,
             "learn": [
              0.08453991511
             ],
             "passed_time": 41.1658819,
             "remaining_time": 1.273171605,
             "test": [
              0.09183950663
             ]
            },
            {
             "iteration": 97,
             "learn": [
              0.0838489377
             ],
             "passed_time": 41.48623533,
             "remaining_time": 0.8466578638,
             "test": [
              0.0911560253
             ]
            },
            {
             "iteration": 98,
             "learn": [
              0.08318468326
             ],
             "passed_time": 41.80622444,
             "remaining_time": 0.4222850953,
             "test": [
              0.09042868261
             ]
            },
            {
             "iteration": 99,
             "learn": [
              0.08196116427
             ],
             "passed_time": 42.24774248,
             "remaining_time": 0,
             "test": [
              0.08907244925
             ]
            }
           ],
           "meta": {
            "iteration_count": 100,
            "launch_mode": "Train",
            "learn_metrics": [
             {
              "best_value": "Min",
              "name": "CrossEntropy"
             }
            ],
            "learn_sets": [
             "learn"
            ],
            "name": "experiment",
            "parameters": "",
            "test_metrics": [
             {
              "best_value": "Min",
              "name": "CrossEntropy"
             }
            ],
            "test_sets": [
             "test"
            ]
           }
          },
          "passed_iterations": 99,
          "total_iterations": 100
         },
         "name": "catboost_info",
         "path": "catboost_info"
        }
       },
       "layout": "IPY_MODEL_48f97a8d924d4b7ab6f45376cc88a587"
      }
     },
     "ba468ba7a8f243ac87b7c620edba77c4": {
      "model_module": "@jupyter-widgets/base",
      "model_module_version": "1.2.0",
      "model_name": "LayoutModel",
      "state": {
       "_model_module": "@jupyter-widgets/base",
       "_model_module_version": "1.2.0",
       "_model_name": "LayoutModel",
       "_view_count": null,
       "_view_module": "@jupyter-widgets/base",
       "_view_module_version": "1.2.0",
       "_view_name": "LayoutView",
       "align_content": null,
       "align_items": null,
       "align_self": "stretch",
       "border": null,
       "bottom": null,
       "display": null,
       "flex": null,
       "flex_flow": null,
       "grid_area": null,
       "grid_auto_columns": null,
       "grid_auto_flow": null,
       "grid_auto_rows": null,
       "grid_column": null,
       "grid_gap": null,
       "grid_row": null,
       "grid_template_areas": null,
       "grid_template_columns": null,
       "grid_template_rows": null,
       "height": "500px",
       "justify_content": null,
       "justify_items": null,
       "left": null,
       "margin": null,
       "max_height": null,
       "max_width": null,
       "min_height": null,
       "min_width": null,
       "object_fit": null,
       "object_position": null,
       "order": null,
       "overflow": null,
       "overflow_x": null,
       "overflow_y": null,
       "padding": null,
       "right": null,
       "top": null,
       "visibility": null,
       "width": null
      }
     },
     "bef0e58e7bb244459911ba84f53dca42": {
      "model_module": "catboost-widget",
      "model_module_version": "^1.0.0",
      "model_name": "CatboostWidgetModel",
      "state": {
       "_dom_classes": [],
       "_model_module": "catboost-widget",
       "_model_module_version": "^1.0.0",
       "_model_name": "CatboostWidgetModel",
       "_view_count": null,
       "_view_module": "catboost-widget",
       "_view_module_version": "^1.0.0",
       "_view_name": "CatboostWidgetView",
       "data": {
        "catboost_info": {
         "content": {
          "data": {
           "iterations": [
            {
             "iteration": 0,
             "learn": [
              0.6621691656
             ],
             "passed_time": 0.3697284909,
             "remaining_time": 36.6031206,
             "test": [
              0.664079275
             ]
            },
            {
             "iteration": 1,
             "learn": [
              0.6369437018
             ],
             "passed_time": 0.7232171152,
             "remaining_time": 35.43763864,
             "test": [
              0.6366998652
             ]
            },
            {
             "iteration": 2,
             "learn": [
              0.6107560288
             ],
             "passed_time": 1.102628615,
             "remaining_time": 35.65165855,
             "test": [
              0.6109060839
             ]
            },
            {
             "iteration": 3,
             "learn": [
              0.5859545376
             ],
             "passed_time": 1.486878624,
             "remaining_time": 35.68508698,
             "test": [
              0.5864604842
             ]
            },
            {
             "iteration": 4,
             "learn": [
              0.5641942337
             ],
             "passed_time": 1.87829163,
             "remaining_time": 35.68754096,
             "test": [
              0.5632481166
             ]
            },
            {
             "iteration": 5,
             "learn": [
              0.5404880415
             ],
             "passed_time": 2.251816594,
             "remaining_time": 35.27845997,
             "test": [
              0.5414003724
             ]
            },
            {
             "iteration": 6,
             "learn": [
              0.5199837465
             ],
             "passed_time": 2.644805044,
             "remaining_time": 35.13812416,
             "test": [
              0.5206955263
             ]
            },
            {
             "iteration": 7,
             "learn": [
              0.5016983266
             ],
             "passed_time": 3.051616136,
             "remaining_time": 35.09358557,
             "test": [
              0.5009302505
             ]
            },
            {
             "iteration": 8,
             "learn": [
              0.4820763974
             ],
             "passed_time": 3.407736623,
             "remaining_time": 34.45600364,
             "test": [
              0.4821349833
             ]
            },
            {
             "iteration": 9,
             "learn": [
              0.4643215195
             ],
             "passed_time": 3.801854035,
             "remaining_time": 34.21668632,
             "test": [
              0.4641762842
             ]
            },
            {
             "iteration": 10,
             "learn": [
              0.447765388
             ],
             "passed_time": 4.181728212,
             "remaining_time": 33.83398281,
             "test": [
              0.4471711958
             ]
            },
            {
             "iteration": 11,
             "learn": [
              0.4320491597
             ],
             "passed_time": 4.606182398,
             "remaining_time": 33.77867092,
             "test": [
              0.4308985309
             ]
            },
            {
             "iteration": 12,
             "learn": [
              0.4163781285
             ],
             "passed_time": 4.969195188,
             "remaining_time": 33.25538318,
             "test": [
              0.4153955218
             ]
            },
            {
             "iteration": 13,
             "learn": [
              0.4013031457
             ],
             "passed_time": 5.415520295,
             "remaining_time": 33.26676752,
             "test": [
              0.4005027947
             ]
            },
            {
             "iteration": 14,
             "learn": [
              0.3872036353
             ],
             "passed_time": 5.809182579,
             "remaining_time": 32.91870128,
             "test": [
              0.3863040072
             ]
            },
            {
             "iteration": 15,
             "learn": [
              0.3724921032
             ],
             "passed_time": 6.235176076,
             "remaining_time": 32.7346744,
             "test": [
              0.3727781724
             ]
            },
            {
             "iteration": 16,
             "learn": [
              0.3594458677
             ],
             "passed_time": 6.65290759,
             "remaining_time": 32.48184294,
             "test": [
              0.3597651565
             ]
            },
            {
             "iteration": 17,
             "learn": [
              0.3485363153
             ],
             "passed_time": 7.14019647,
             "remaining_time": 32.5275617,
             "test": [
              0.3472868125
             ]
            },
            {
             "iteration": 18,
             "learn": [
              0.3359096281
             ],
             "passed_time": 7.538327339,
             "remaining_time": 32.13707971,
             "test": [
              0.3354055644
             ]
            },
            {
             "iteration": 19,
             "learn": [
              0.3253403892
             ],
             "passed_time": 7.936465094,
             "remaining_time": 31.74586037,
             "test": [
              0.3239428706
             ]
            },
            {
             "iteration": 20,
             "learn": [
              0.3131865682
             ],
             "passed_time": 8.329628729,
             "remaining_time": 31.33526998,
             "test": [
              0.3129809068
             ]
            },
            {
             "iteration": 21,
             "learn": [
              0.3030024118
             ],
             "passed_time": 8.738889222,
             "remaining_time": 30.98333451,
             "test": [
              0.3024954007
             ]
            },
            {
             "iteration": 22,
             "learn": [
              0.2929378571
             ],
             "passed_time": 9.147374987,
             "remaining_time": 30.62382061,
             "test": [
              0.2923597154
             ]
            },
            {
             "iteration": 23,
             "learn": [
              0.2830084578
             ],
             "passed_time": 9.523115912,
             "remaining_time": 30.15653372,
             "test": [
              0.2826987205
             ]
            },
            {
             "iteration": 24,
             "learn": [
              0.2731832645
             ],
             "passed_time": 9.924775731,
             "remaining_time": 29.77432719,
             "test": [
              0.2734823113
             ]
            },
            {
             "iteration": 25,
             "learn": [
              0.2646344214
             ],
             "passed_time": 10.30421738,
             "remaining_time": 29.32738793,
             "test": [
              0.2644730475
             ]
            },
            {
             "iteration": 26,
             "learn": [
              0.2566139767
             ],
             "passed_time": 10.72462314,
             "remaining_time": 28.9962033,
             "test": [
              0.255859977
             ]
            },
            {
             "iteration": 27,
             "learn": [
              0.2486983913
             ],
             "passed_time": 11.09879151,
             "remaining_time": 28.53974959,
             "test": [
              0.2475559177
             ]
            },
            {
             "iteration": 28,
             "learn": [
              0.2405276394
             ],
             "passed_time": 11.50236949,
             "remaining_time": 28.16097357,
             "test": [
              0.2396873296
             ]
            },
            {
             "iteration": 29,
             "learn": [
              0.2328304953
             ],
             "passed_time": 12.04590303,
             "remaining_time": 28.10710706,
             "test": [
              0.2319932974
             ]
            },
            {
             "iteration": 30,
             "learn": [
              0.2255909489
             ],
             "passed_time": 12.59959957,
             "remaining_time": 28.04427002,
             "test": [
              0.224582433
             ]
            },
            {
             "iteration": 31,
             "learn": [
              0.2181771001
             ],
             "passed_time": 13.20070089,
             "remaining_time": 28.05148938,
             "test": [
              0.2174342876
             ]
            },
            {
             "iteration": 32,
             "learn": [
              0.2107570419
             ],
             "passed_time": 13.59738452,
             "remaining_time": 27.60681099,
             "test": [
              0.210554398
             ]
            },
            {
             "iteration": 33,
             "learn": [
              0.204057213
             ],
             "passed_time": 13.99366669,
             "remaining_time": 27.16417652,
             "test": [
              0.2039641932
             ]
            },
            {
             "iteration": 34,
             "learn": [
              0.1986094497
             ],
             "passed_time": 14.42068385,
             "remaining_time": 26.78127,
             "test": [
              0.1975777554
             ]
            },
            {
             "iteration": 35,
             "learn": [
              0.1916242704
             ],
             "passed_time": 14.82323534,
             "remaining_time": 26.35241838,
             "test": [
              0.1915329041
             ]
            },
            {
             "iteration": 36,
             "learn": [
              0.1863978906
             ],
             "passed_time": 15.22659616,
             "remaining_time": 25.92636644,
             "test": [
              0.1856984124
             ]
            },
            {
             "iteration": 37,
             "learn": [
              0.1800730213
             ],
             "passed_time": 15.61749705,
             "remaining_time": 25.4811794,
             "test": [
              0.1799432498
             ]
            },
            {
             "iteration": 38,
             "learn": [
              0.1754354122
             ],
             "passed_time": 16.02759859,
             "remaining_time": 25.06880805,
             "test": [
              0.1744571873
             ]
            },
            {
             "iteration": 39,
             "learn": [
              0.1694370694
             ],
             "passed_time": 16.43485635,
             "remaining_time": 24.65228453,
             "test": [
              0.1690851243
             ]
            },
            {
             "iteration": 40,
             "learn": [
              0.1643371451
             ],
             "passed_time": 16.84315474,
             "remaining_time": 24.23771047,
             "test": [
              0.1639468119
             ]
            },
            {
             "iteration": 41,
             "learn": [
              0.1599744661
             ],
             "passed_time": 17.22610219,
             "remaining_time": 23.78842684,
             "test": [
              0.1590477914
             ]
            },
            {
             "iteration": 42,
             "learn": [
              0.1549775349
             ],
             "passed_time": 17.597498,
             "remaining_time": 23.32691595,
             "test": [
              0.1542325833
             ]
            },
            {
             "iteration": 43,
             "learn": [
              0.1500523114
             ],
             "passed_time": 18.01800203,
             "remaining_time": 22.93200259,
             "test": [
              0.149607253
             ]
            },
            {
             "iteration": 44,
             "learn": [
              0.1453540319
             ],
             "passed_time": 18.41286918,
             "remaining_time": 22.50461788,
             "test": [
              0.1451521722
             ]
            },
            {
             "iteration": 45,
             "learn": [
              0.1411383859
             ],
             "passed_time": 18.81477678,
             "remaining_time": 22.08691187,
             "test": [
              0.1407906103
             ]
            },
            {
             "iteration": 46,
             "learn": [
              0.1371278087
             ],
             "passed_time": 19.19059956,
             "remaining_time": 21.64046334,
             "test": [
              0.1365877062
             ]
            },
            {
             "iteration": 47,
             "learn": [
              0.1332089186
             ],
             "passed_time": 19.59896767,
             "remaining_time": 21.23221498,
             "test": [
              0.1324996832
             ]
            },
            {
             "iteration": 48,
             "learn": [
              0.129327678
             ],
             "passed_time": 20.04424826,
             "remaining_time": 20.86238084,
             "test": [
              0.1285396353
             ]
            },
            {
             "iteration": 49,
             "learn": [
              0.1254769933
             ],
             "passed_time": 20.42523632,
             "remaining_time": 20.42523632,
             "test": [
              0.124749936
             ]
            },
            {
             "iteration": 50,
             "learn": [
              0.1216880611
             ],
             "passed_time": 20.83586779,
             "remaining_time": 20.01877494,
             "test": [
              0.1211500024
             ]
            },
            {
             "iteration": 51,
             "learn": [
              0.1181579399
             ],
             "passed_time": 21.24704281,
             "remaining_time": 19.6126549,
             "test": [
              0.1175962756
             ]
            },
            {
             "iteration": 52,
             "learn": [
              0.1148543771
             ],
             "passed_time": 21.68059255,
             "remaining_time": 19.22618585,
             "test": [
              0.114150956
             ]
            },
            {
             "iteration": 53,
             "learn": [
              0.111764019
             ],
             "passed_time": 22.11097779,
             "remaining_time": 18.83527738,
             "test": [
              0.1108298597
             ]
            },
            {
             "iteration": 54,
             "learn": [
              0.1081750418
             ],
             "passed_time": 22.52284293,
             "remaining_time": 18.42778058,
             "test": [
              0.1075916179
             ]
            },
            {
             "iteration": 55,
             "learn": [
              0.1055162484
             ],
             "passed_time": 22.9844162,
             "remaining_time": 18.05918416,
             "test": [
              0.1045123948
             ]
            },
            {
             "iteration": 56,
             "learn": [
              0.1022584483
             ],
             "passed_time": 23.38516671,
             "remaining_time": 17.64144156,
             "test": [
              0.1015365372
             ]
            },
            {
             "iteration": 57,
             "learn": [
              0.09965063188
             ],
             "passed_time": 23.79408498,
             "remaining_time": 17.23019947,
             "test": [
              0.09863202958
             ]
            },
            {
             "iteration": 58,
             "learn": [
              0.09650179954
             ],
             "passed_time": 24.19779215,
             "remaining_time": 16.81541489,
             "test": [
              0.09590994762
             ]
            },
            {
             "iteration": 59,
             "learn": [
              0.09412041147
             ],
             "passed_time": 24.58010519,
             "remaining_time": 16.3867368,
             "test": [
              0.09328347051
             ]
            },
            {
             "iteration": 60,
             "learn": [
              0.09130357088
             ],
             "passed_time": 24.98983579,
             "remaining_time": 15.97710813,
             "test": [
              0.09062627419
             ]
            },
            {
             "iteration": 61,
             "learn": [
              0.08869744693
             ],
             "passed_time": 25.40124354,
             "remaining_time": 15.5685041,
             "test": [
              0.08809430127
             ]
            },
            {
             "iteration": 62,
             "learn": [
              0.08650355672
             ],
             "passed_time": 25.79819827,
             "remaining_time": 15.1513228,
             "test": [
              0.0856436483
             ]
            },
            {
             "iteration": 63,
             "learn": [
              0.08406077653
             ],
             "passed_time": 26.19733747,
             "remaining_time": 14.73600232,
             "test": [
              0.08324339991
             ]
            },
            {
             "iteration": 64,
             "learn": [
              0.08163918833
             ],
             "passed_time": 26.59682799,
             "remaining_time": 14.32136892,
             "test": [
              0.08094848644
             ]
            },
            {
             "iteration": 65,
             "learn": [
              0.07941426123
             ],
             "passed_time": 26.96816467,
             "remaining_time": 13.89269089,
             "test": [
              0.07874792125
             ]
            },
            {
             "iteration": 66,
             "learn": [
              0.07719013568
             ],
             "passed_time": 27.37917654,
             "remaining_time": 13.48526606,
             "test": [
              0.07655384563
             ]
            },
            {
             "iteration": 67,
             "learn": [
              0.07511272244
             ],
             "passed_time": 27.76383583,
             "remaining_time": 13.06533451,
             "test": [
              0.07453128009
             ]
            },
            {
             "iteration": 68,
             "learn": [
              0.07311975471
             ],
             "passed_time": 28.19780118,
             "remaining_time": 12.66857734,
             "test": [
              0.07249699218
             ]
            },
            {
             "iteration": 69,
             "learn": [
              0.07114567274
             ],
             "passed_time": 28.61559654,
             "remaining_time": 12.26382709,
             "test": [
              0.0705153011
             ]
            },
            {
             "iteration": 70,
             "learn": [
              0.06927207475
             ],
             "passed_time": 29.03968838,
             "remaining_time": 11.86128117,
             "test": [
              0.06868598259
             ]
            },
            {
             "iteration": 71,
             "learn": [
              0.06741343481
             ],
             "passed_time": 29.44239039,
             "remaining_time": 11.44981848,
             "test": [
              0.06689727927
             ]
            },
            {
             "iteration": 72,
             "learn": [
              0.06562301438
             ],
             "passed_time": 29.83640278,
             "remaining_time": 11.03538185,
             "test": [
              0.06505705088
             ]
            },
            {
             "iteration": 73,
             "learn": [
              0.06405831397
             ],
             "passed_time": 30.2291224,
             "remaining_time": 10.62104301,
             "test": [
              0.06331523899
             ]
            },
            {
             "iteration": 74,
             "learn": [
              0.0623118331
             ],
             "passed_time": 30.62915796,
             "remaining_time": 10.20971932,
             "test": [
              0.06161316775
             ]
            },
            {
             "iteration": 75,
             "learn": [
              0.06057211645
             ],
             "passed_time": 31.03697635,
             "remaining_time": 9.801150425,
             "test": [
              0.05995554665
             ]
            },
            {
             "iteration": 76,
             "learn": [
              0.05912515861
             ],
             "passed_time": 31.44292443,
             "remaining_time": 9.392042363,
             "test": [
              0.05835978593
             ]
            },
            {
             "iteration": 77,
             "learn": [
              0.05748013386
             ],
             "passed_time": 31.83200428,
             "remaining_time": 8.978257617,
             "test": [
              0.05687550719
             ]
            },
            {
             "iteration": 78,
             "learn": [
              0.056019909
             ],
             "passed_time": 32.22905241,
             "remaining_time": 8.567216464,
             "test": [
              0.05536132844
             ]
            },
            {
             "iteration": 79,
             "learn": [
              0.05452578372
             ],
             "passed_time": 32.62940558,
             "remaining_time": 8.157351396,
             "test": [
              0.05388054759
             ]
            },
            {
             "iteration": 80,
             "learn": [
              0.05328327795
             ],
             "passed_time": 33.03831015,
             "remaining_time": 7.749727073,
             "test": [
              0.05255912731
             ]
            },
            {
             "iteration": 81,
             "learn": [
              0.05183161316
             ],
             "passed_time": 33.4244509,
             "remaining_time": 7.337074587,
             "test": [
              0.05126494162
             ]
            },
            {
             "iteration": 82,
             "learn": [
              0.05056367133
             ],
             "passed_time": 33.84353571,
             "remaining_time": 6.93180852,
             "test": [
              0.04992666745
             ]
            },
            {
             "iteration": 83,
             "learn": [
              0.04932001949
             ],
             "passed_time": 34.2776307,
             "remaining_time": 6.529072514,
             "test": [
              0.04860220515
             ]
            },
            {
             "iteration": 84,
             "learn": [
              0.04799381729
             ],
             "passed_time": 34.66621627,
             "remaining_time": 6.117567577,
             "test": [
              0.04738259078
             ]
            },
            {
             "iteration": 85,
             "learn": [
              0.04676597182
             ],
             "passed_time": 35.07486202,
             "remaining_time": 5.709861259,
             "test": [
              0.04617783795
             ]
            },
            {
             "iteration": 86,
             "learn": [
              0.04564833373
             ],
             "passed_time": 35.50318598,
             "remaining_time": 5.305073766,
             "test": [
              0.04506649704
             ]
            },
            {
             "iteration": 87,
             "learn": [
              0.04455038239
             ],
             "passed_time": 35.89586961,
             "remaining_time": 4.894891311,
             "test": [
              0.04392458798
             ]
            },
            {
             "iteration": 88,
             "learn": [
              0.04342170773
             ],
             "passed_time": 36.29547862,
             "remaining_time": 4.485958032,
             "test": [
              0.04281213987
             ]
            },
            {
             "iteration": 89,
             "learn": [
              0.04238111934
             ],
             "passed_time": 36.71547296,
             "remaining_time": 4.079496996,
             "test": [
              0.04180462145
             ]
            },
            {
             "iteration": 90,
             "learn": [
              0.04134019354
             ],
             "passed_time": 37.10369759,
             "remaining_time": 3.669596465,
             "test": [
              0.04073350026
             ]
            },
            {
             "iteration": 91,
             "learn": [
              0.04034206768
             ],
             "passed_time": 37.4970184,
             "remaining_time": 3.260610295,
             "test": [
              0.03974054866
             ]
            },
            {
             "iteration": 92,
             "learn": [
              0.03934596831
             ],
             "passed_time": 37.88799154,
             "remaining_time": 2.851784309,
             "test": [
              0.03875726864
             ]
            },
            {
             "iteration": 93,
             "learn": [
              0.03838199842
             ],
             "passed_time": 38.28972338,
             "remaining_time": 2.444024897,
             "test": [
              0.03780919345
             ]
            },
            {
             "iteration": 94,
             "learn": [
              0.03748245396
             ],
             "passed_time": 38.68789643,
             "remaining_time": 2.036205075,
             "test": [
              0.03692567821
             ]
            },
            {
             "iteration": 95,
             "learn": [
              0.03661722551
             ],
             "passed_time": 39.08087598,
             "remaining_time": 1.628369832,
             "test": [
              0.03603210483
             ]
            },
            {
             "iteration": 96,
             "learn": [
              0.0357386422
             ],
             "passed_time": 39.46617747,
             "remaining_time": 1.220603427,
             "test": [
              0.0351911691
             ]
            },
            {
             "iteration": 97,
             "learn": [
              0.03487042654
             ],
             "passed_time": 39.9111058,
             "remaining_time": 0.8145123634,
             "test": [
              0.03432584249
             ]
            },
            {
             "iteration": 98,
             "learn": [
              0.03412131828
             ],
             "passed_time": 40.3066611,
             "remaining_time": 0.4071379909,
             "test": [
              0.03349564614
             ]
            },
            {
             "iteration": 99,
             "learn": [
              0.03328990861
             ],
             "passed_time": 40.72010743,
             "remaining_time": 0,
             "test": [
              0.03274948576
             ]
            }
           ],
           "meta": {
            "iteration_count": 100,
            "launch_mode": "Train",
            "learn_metrics": [
             {
              "best_value": "Min",
              "name": "CrossEntropy"
             }
            ],
            "learn_sets": [
             "learn"
            ],
            "name": "experiment",
            "parameters": "",
            "test_metrics": [
             {
              "best_value": "Min",
              "name": "CrossEntropy"
             }
            ],
            "test_sets": [
             "test"
            ]
           }
          },
          "passed_iterations": 99,
          "total_iterations": 100
         },
         "name": "catboost_info",
         "path": "catboost_info"
        }
       },
       "layout": "IPY_MODEL_08e9a1ed1e21407eb398ac588e54bcdd"
      }
     },
     "c18bd05675394787becd12ff85217c62": {
      "model_module": "@jupyter-widgets/base",
      "model_module_version": "1.2.0",
      "model_name": "LayoutModel",
      "state": {
       "_model_module": "@jupyter-widgets/base",
       "_model_module_version": "1.2.0",
       "_model_name": "LayoutModel",
       "_view_count": null,
       "_view_module": "@jupyter-widgets/base",
       "_view_module_version": "1.2.0",
       "_view_name": "LayoutView",
       "align_content": null,
       "align_items": null,
       "align_self": "stretch",
       "border": null,
       "bottom": null,
       "display": null,
       "flex": null,
       "flex_flow": null,
       "grid_area": null,
       "grid_auto_columns": null,
       "grid_auto_flow": null,
       "grid_auto_rows": null,
       "grid_column": null,
       "grid_gap": null,
       "grid_row": null,
       "grid_template_areas": null,
       "grid_template_columns": null,
       "grid_template_rows": null,
       "height": "500px",
       "justify_content": null,
       "justify_items": null,
       "left": null,
       "margin": null,
       "max_height": null,
       "max_width": null,
       "min_height": null,
       "min_width": null,
       "object_fit": null,
       "object_position": null,
       "order": null,
       "overflow": null,
       "overflow_x": null,
       "overflow_y": null,
       "padding": null,
       "right": null,
       "top": null,
       "visibility": null,
       "width": null
      }
     },
     "ccb0c837b42b4a00b6bd25642c35ec6c": {
      "model_module": "@jupyter-widgets/base",
      "model_module_version": "1.2.0",
      "model_name": "LayoutModel",
      "state": {
       "_model_module": "@jupyter-widgets/base",
       "_model_module_version": "1.2.0",
       "_model_name": "LayoutModel",
       "_view_count": null,
       "_view_module": "@jupyter-widgets/base",
       "_view_module_version": "1.2.0",
       "_view_name": "LayoutView",
       "align_content": null,
       "align_items": null,
       "align_self": "stretch",
       "border": null,
       "bottom": null,
       "display": null,
       "flex": null,
       "flex_flow": null,
       "grid_area": null,
       "grid_auto_columns": null,
       "grid_auto_flow": null,
       "grid_auto_rows": null,
       "grid_column": null,
       "grid_gap": null,
       "grid_row": null,
       "grid_template_areas": null,
       "grid_template_columns": null,
       "grid_template_rows": null,
       "height": "500px",
       "justify_content": null,
       "justify_items": null,
       "left": null,
       "margin": null,
       "max_height": null,
       "max_width": null,
       "min_height": null,
       "min_width": null,
       "object_fit": null,
       "object_position": null,
       "order": null,
       "overflow": null,
       "overflow_x": null,
       "overflow_y": null,
       "padding": null,
       "right": null,
       "top": null,
       "visibility": null,
       "width": null
      }
     },
     "da51e81455664973afa636a835ae445e": {
      "model_module": "catboost-widget",
      "model_module_version": "^1.0.0",
      "model_name": "CatboostWidgetModel",
      "state": {
       "_dom_classes": [],
       "_model_module": "catboost-widget",
       "_model_module_version": "^1.0.0",
       "_model_name": "CatboostWidgetModel",
       "_view_count": null,
       "_view_module": "catboost-widget",
       "_view_module_version": "^1.0.0",
       "_view_name": "CatboostWidgetView",
       "data": {
        "catboost_info": {
         "content": {
          "data": {
           "iterations": [
            {
             "iteration": 0,
             "learn": [
              0.6613831005
             ],
             "passed_time": 0.4597424706,
             "remaining_time": 45.51450458,
             "test": [
              0.6636004675
             ]
            },
            {
             "iteration": 1,
             "learn": [
              0.636299652
             ],
             "passed_time": 0.9126532297,
             "remaining_time": 44.72000826,
             "test": [
              0.6357748291
             ]
            },
            {
             "iteration": 2,
             "learn": [
              0.6093825832
             ],
             "passed_time": 1.302026257,
             "remaining_time": 42.09884896,
             "test": [
              0.6095230327
             ]
            },
            {
             "iteration": 3,
             "learn": [
              0.5837241375
             ],
             "passed_time": 1.676007611,
             "remaining_time": 40.22418266,
             "test": [
              0.5847176245
             ]
            },
            {
             "iteration": 4,
             "learn": [
              0.5622010384
             ],
             "passed_time": 2.161507227,
             "remaining_time": 41.06863732,
             "test": [
              0.5612434295
             ]
            },
            {
             "iteration": 5,
             "learn": [
              0.5376893106
             ],
             "passed_time": 2.625120269,
             "remaining_time": 41.12688422,
             "test": [
              0.5389992817
             ]
            },
            {
             "iteration": 6,
             "learn": [
              0.516897857
             ],
             "passed_time": 3.043426601,
             "remaining_time": 40.43409627,
             "test": [
              0.5178946608
             ]
            },
            {
             "iteration": 7,
             "learn": [
              0.4986990974
             ],
             "passed_time": 3.412413404,
             "remaining_time": 39.24275414,
             "test": [
              0.497847095
             ]
            },
            {
             "iteration": 8,
             "learn": [
              0.4785430625
             ],
             "passed_time": 3.825807191,
             "remaining_time": 38.6831616,
             "test": [
              0.4787842749
             ]
            },
            {
             "iteration": 9,
             "learn": [
              0.4605993963
             ],
             "passed_time": 4.25606566,
             "remaining_time": 38.30459094,
             "test": [
              0.4606400363
             ]
            },
            {
             "iteration": 10,
             "learn": [
              0.4438595099
             ],
             "passed_time": 4.594873252,
             "remaining_time": 37.17670177,
             "test": [
              0.4433520185
             ]
            },
            {
             "iteration": 11,
             "learn": [
              0.4280735096
             ],
             "passed_time": 5.067728474,
             "remaining_time": 37.16334214,
             "test": [
              0.4268675093
             ]
            },
            {
             "iteration": 12,
             "learn": [
              0.4121629609
             ],
             "passed_time": 5.52401809,
             "remaining_time": 36.96842876,
             "test": [
              0.4111362981
             ]
            },
            {
             "iteration": 13,
             "learn": [
              0.3968027393
             ],
             "passed_time": 5.940169809,
             "remaining_time": 36.48961454,
             "test": [
              0.3961102269
             ]
            },
            {
             "iteration": 14,
             "learn": [
              0.3824205915
             ],
             "passed_time": 6.346137526,
             "remaining_time": 35.96144598,
             "test": [
              0.381749717
             ]
            },
            {
             "iteration": 15,
             "learn": [
              0.3673601457
             ],
             "passed_time": 6.68405921,
             "remaining_time": 35.09131085,
             "test": [
              0.3680144878
             ]
            },
            {
             "iteration": 16,
             "learn": [
              0.353911146
             ],
             "passed_time": 7.108544569,
             "remaining_time": 34.70642348,
             "test": [
              0.35486977
             ]
            },
            {
             "iteration": 17,
             "learn": [
              0.3432038402
             ],
             "passed_time": 7.516572011,
             "remaining_time": 34.24216138,
             "test": [
              0.3422830635
             ]
            },
            {
             "iteration": 18,
             "learn": [
              0.3301204857
             ],
             "passed_time": 7.953073344,
             "remaining_time": 33.90520741,
             "test": [
              0.3302239803
             ]
            },
            {
             "iteration": 19,
             "learn": [
              0.3197074497
             ],
             "passed_time": 8.349620418,
             "remaining_time": 33.39848167,
             "test": [
              0.3186623407
             ]
            },
            {
             "iteration": 20,
             "learn": [
              0.3070137972
             ],
             "passed_time": 8.957933984,
             "remaining_time": 33.69889451,
             "test": [
              0.3075744836
             ]
            },
            {
             "iteration": 21,
             "learn": [
              0.2969182856
             ],
             "passed_time": 9.490823822,
             "remaining_time": 33.64928446,
             "test": [
              0.2969339487
             ]
            },
            {
             "iteration": 22,
             "learn": [
              0.2868091262
             ],
             "passed_time": 10.06246784,
             "remaining_time": 33.68739235,
             "test": [
              0.2867196757
             ]
            },
            {
             "iteration": 23,
             "learn": [
              0.2765552183
             ],
             "passed_time": 10.49814294,
             "remaining_time": 33.2441193,
             "test": [
              0.276908518
             ]
            },
            {
             "iteration": 24,
             "learn": [
              0.266510056
             ],
             "passed_time": 10.93820407,
             "remaining_time": 32.81461221,
             "test": [
              0.2674820495
             ]
            },
            {
             "iteration": 25,
             "learn": [
              0.2580229952
             ],
             "passed_time": 11.31033819,
             "remaining_time": 32.19096255,
             "test": [
              0.2584203797
             ]
            },
            {
             "iteration": 26,
             "learn": [
              0.2500064737
             ],
             "passed_time": 11.76418802,
             "remaining_time": 31.80687872,
             "test": [
              0.24970787
             ]
            },
            {
             "iteration": 27,
             "learn": [
              0.2420175578
             ],
             "passed_time": 12.154417,
             "remaining_time": 31.25421514,
             "test": [
              0.2413272794
             ]
            },
            {
             "iteration": 28,
             "learn": [
              0.2337262914
             ],
             "passed_time": 12.57982105,
             "remaining_time": 30.79887222,
             "test": [
              0.2332637638
             ]
            },
            {
             "iteration": 29,
             "learn": [
              0.2258980338
             ],
             "passed_time": 13.02170652,
             "remaining_time": 30.38398189,
             "test": [
              0.2255027703
             ]
            },
            {
             "iteration": 30,
             "learn": [
              0.2185726818
             ],
             "passed_time": 13.45437893,
             "remaining_time": 29.94684342,
             "test": [
              0.2180293538
             ]
            },
            {
             "iteration": 31,
             "learn": [
              0.210981278
             ],
             "passed_time": 13.83914609,
             "remaining_time": 29.40818544,
             "test": [
              0.2108315251
             ]
            },
            {
             "iteration": 32,
             "learn": [
              0.2034053002
             ],
             "passed_time": 14.22800313,
             "remaining_time": 28.88715788,
             "test": [
              0.2038970371
             ]
            },
            {
             "iteration": 33,
             "learn": [
              0.1965106374
             ],
             "passed_time": 14.72190335,
             "remaining_time": 28.57781239,
             "test": [
              0.1972151559
             ]
            },
            {
             "iteration": 34,
             "learn": [
              0.191238243
             ],
             "passed_time": 15.10970407,
             "remaining_time": 28.06087898,
             "test": [
              0.1907741389
             ]
            },
            {
             "iteration": 35,
             "learn": [
              0.1839668938
             ],
             "passed_time": 15.50394815,
             "remaining_time": 27.56257449,
             "test": [
              0.1845642212
             ]
            },
            {
             "iteration": 36,
             "learn": [
              0.1788339886
             ],
             "passed_time": 15.92681464,
             "remaining_time": 27.11863033,
             "test": [
              0.1785757358
             ]
            },
            {
             "iteration": 37,
             "learn": [
              0.1722532495
             ],
             "passed_time": 16.37959905,
             "remaining_time": 26.72460898,
             "test": [
              0.1727998836
             ]
            },
            {
             "iteration": 38,
             "learn": [
              0.1677275995
             ],
             "passed_time": 16.79923805,
             "remaining_time": 26.27573131,
             "test": [
              0.1672275657
             ]
            },
            {
             "iteration": 39,
             "learn": [
              0.1614944638
             ],
             "passed_time": 17.14565305,
             "remaining_time": 25.71847958,
             "test": [
              0.1618500687
             ]
            },
            {
             "iteration": 40,
             "learn": [
              0.1563892798
             ],
             "passed_time": 17.58288071,
             "remaining_time": 25.3021942,
             "test": [
              0.1566597536
             ]
            },
            {
             "iteration": 41,
             "learn": [
              0.1520783815
             ],
             "passed_time": 18.03619207,
             "remaining_time": 24.90712238,
             "test": [
              0.1516497496
             ]
            },
            {
             "iteration": 42,
             "learn": [
              0.1470701056
             ],
             "passed_time": 18.51892095,
             "remaining_time": 24.54833707,
             "test": [
              0.1468128503
             ]
            },
            {
             "iteration": 43,
             "learn": [
              0.1419408093
             ],
             "passed_time": 18.90639788,
             "remaining_time": 24.06268822,
             "test": [
              0.1421410756
             ]
            },
            {
             "iteration": 44,
             "learn": [
              0.1371834425
             ],
             "passed_time": 19.35261888,
             "remaining_time": 23.65320086,
             "test": [
              0.1376299215
             ]
            },
            {
             "iteration": 45,
             "learn": [
              0.1329767213
             ],
             "passed_time": 19.75026827,
             "remaining_time": 23.18509754,
             "test": [
              0.1332710455
             ]
            },
            {
             "iteration": 46,
             "learn": [
              0.1289853682
             ],
             "passed_time": 20.07206387,
             "remaining_time": 22.634455,
             "test": [
              0.1290588719
             ]
            },
            {
             "iteration": 47,
             "learn": [
              0.1250610967
             ],
             "passed_time": 20.48045759,
             "remaining_time": 22.18716239,
             "test": [
              0.1249899284
             ]
            },
            {
             "iteration": 48,
             "learn": [
              0.1211513343
             ],
             "passed_time": 20.94917466,
             "remaining_time": 21.80424302,
             "test": [
              0.1210577013
             ]
            },
            {
             "iteration": 49,
             "learn": [
              0.1172660759
             ],
             "passed_time": 21.36217719,
             "remaining_time": 21.36217719,
             "test": [
              0.1172565683
             ]
            },
            {
             "iteration": 50,
             "learn": [
              0.1133960001
             ],
             "passed_time": 21.74314276,
             "remaining_time": 20.8904705,
             "test": [
              0.1135813759
             ]
            },
            {
             "iteration": 51,
             "learn": [
              0.1098292546
             ],
             "passed_time": 22.19562599,
             "remaining_time": 20.48827015,
             "test": [
              0.1100287269
             ]
            },
            {
             "iteration": 52,
             "learn": [
              0.1070016762
             ],
             "passed_time": 22.61789158,
             "remaining_time": 20.05737555,
             "test": [
              0.1065932781
             ]
            },
            {
             "iteration": 53,
             "learn": [
              0.1034833404
             ],
             "passed_time": 23.08585888,
             "remaining_time": 19.66573164,
             "test": [
              0.1032707713
             ]
            },
            {
             "iteration": 54,
             "learn": [
              0.09981193188
             ],
             "passed_time": 23.51837624,
             "remaining_time": 19.24230783,
             "test": [
              0.1000595141
             ]
            },
            {
             "iteration": 55,
             "learn": [
              0.09721756002
             ],
             "passed_time": 23.86819617,
             "remaining_time": 18.75358271,
             "test": [
              0.09695090369
             ]
            },
            {
             "iteration": 56,
             "learn": [
              0.09384775354
             ],
             "passed_time": 24.26373256,
             "remaining_time": 18.3042193,
             "test": [
              0.09394411351
             ]
            },
            {
             "iteration": 57,
             "learn": [
              0.09130496035
             ],
             "passed_time": 24.67410662,
             "remaining_time": 17.86745652,
             "test": [
              0.09103469779
             ]
            },
            {
             "iteration": 58,
             "learn": [
              0.08803548707
             ],
             "passed_time": 25.13160985,
             "remaining_time": 17.46433905,
             "test": [
              0.08821972706
             ]
            },
            {
             "iteration": 59,
             "learn": [
              0.0855690917
             ],
             "passed_time": 25.5645459,
             "remaining_time": 17.0430306,
             "test": [
              0.08549605954
             ]
            },
            {
             "iteration": 60,
             "learn": [
              0.08267716466
             ],
             "passed_time": 26.02204867,
             "remaining_time": 16.63704751,
             "test": [
              0.08286002868
             ]
            },
            {
             "iteration": 61,
             "learn": [
              0.08019106594
             ],
             "passed_time": 26.41755286,
             "remaining_time": 16.19140337,
             "test": [
              0.08030778748
             ]
            },
            {
             "iteration": 62,
             "learn": [
              0.07805720465
             ],
             "passed_time": 26.88854997,
             "remaining_time": 15.79168808,
             "test": [
              0.07783824916
             ]
            },
            {
             "iteration": 63,
             "learn": [
              0.07558833232
             ],
             "passed_time": 27.28046832,
             "remaining_time": 15.34526343,
             "test": [
              0.07544797942
             ]
            },
            {
             "iteration": 64,
             "learn": [
              0.07306149776
             ],
             "passed_time": 27.65910488,
             "remaining_time": 14.89336417,
             "test": [
              0.07313314953
             ]
            },
            {
             "iteration": 65,
             "learn": [
              0.07071587539
             ],
             "passed_time": 28.01733285,
             "remaining_time": 14.43317147,
             "test": [
              0.07089271774
             ]
            },
            {
             "iteration": 66,
             "learn": [
              0.06858444246
             ],
             "passed_time": 28.35204135,
             "remaining_time": 13.96443828,
             "test": [
              0.0687228443
             ]
            },
            {
             "iteration": 67,
             "learn": [
              0.06652895381
             ],
             "passed_time": 28.71089031,
             "remaining_time": 13.5110072,
             "test": [
              0.06662176376
             ]
            },
            {
             "iteration": 68,
             "learn": [
              0.06455878811
             ],
             "passed_time": 29.09837024,
             "remaining_time": 13.07318083,
             "test": [
              0.06458782437
             ]
            },
            {
             "iteration": 69,
             "learn": [
              0.0626052343
             ],
             "passed_time": 29.47457938,
             "remaining_time": 12.63196259,
             "test": [
              0.06261733913
             ]
            },
            {
             "iteration": 70,
             "learn": [
              0.06065913715
             ],
             "passed_time": 29.83447709,
             "remaining_time": 12.18591318,
             "test": [
              0.06070901313
             ]
            },
            {
             "iteration": 71,
             "learn": [
              0.05875258021
             ],
             "passed_time": 30.187563,
             "remaining_time": 11.73960783,
             "test": [
              0.05886091805
             ]
            },
            {
             "iteration": 72,
             "learn": [
              0.05694780032
             ],
             "passed_time": 30.64100365,
             "remaining_time": 11.33297395,
             "test": [
              0.05707057177
             ]
            },
            {
             "iteration": 73,
             "learn": [
              0.05552836157
             ],
             "passed_time": 31.04457879,
             "remaining_time": 10.90755471,
             "test": [
              0.05533623669
             ]
            },
            {
             "iteration": 74,
             "learn": [
              0.0537740448
             ],
             "passed_time": 31.47920545,
             "remaining_time": 10.49306848,
             "test": [
              0.05365651121
             ]
            },
            {
             "iteration": 75,
             "learn": [
              0.05192992454
             ],
             "passed_time": 31.88668211,
             "remaining_time": 10.06947856,
             "test": [
              0.05202906498
             ]
            },
            {
             "iteration": 76,
             "learn": [
              0.05063391563
             ],
             "passed_time": 32.31942728,
             "remaining_time": 9.653854902,
             "test": [
              0.05045234837
             ]
            },
            {
             "iteration": 77,
             "learn": [
              0.04894099723
             ],
             "passed_time": 32.72937335,
             "remaining_time": 9.231361715,
             "test": [
              0.04892443967
             ]
            },
            {
             "iteration": 78,
             "learn": [
              0.04747484623
             ],
             "passed_time": 33.10070088,
             "remaining_time": 8.798920486,
             "test": [
              0.04744420928
             ]
            },
            {
             "iteration": 79,
             "learn": [
              0.04601547584
             ],
             "passed_time": 33.51233572,
             "remaining_time": 8.378083931,
             "test": [
              0.04600958945
             ]
            },
            {
             "iteration": 80,
             "learn": [
              0.04476029276
             ],
             "passed_time": 33.87380703,
             "remaining_time": 7.945707821,
             "test": [
              0.0446197235
             ]
            },
            {
             "iteration": 81,
             "learn": [
              0.04319714045
             ],
             "passed_time": 34.29999445,
             "remaining_time": 7.529267073,
             "test": [
              0.04327281977
             ]
            },
            {
             "iteration": 82,
             "learn": [
              0.0420788284
             ],
             "passed_time": 34.66185985,
             "remaining_time": 7.099417078,
             "test": [
              0.04196736446
             ]
            },
            {
             "iteration": 83,
             "learn": [
              0.04082620081
             ],
             "passed_time": 35.01814951,
             "remaining_time": 6.670123717,
             "test": [
              0.04070206967
             ]
            },
            {
             "iteration": 84,
             "learn": [
              0.03946406697
             ],
             "passed_time": 35.4117747,
             "remaining_time": 6.249136711,
             "test": [
              0.03947601946
             ]
            },
            {
             "iteration": 85,
             "learn": [
              0.03825356945
             ],
             "passed_time": 35.77503268,
             "remaining_time": 5.82384253,
             "test": [
              0.03828742194
             ]
            },
            {
             "iteration": 86,
             "learn": [
              0.03721481673
             ],
             "passed_time": 36.13875529,
             "remaining_time": 5.400043894,
             "test": [
              0.0371347092
             ]
            },
            {
             "iteration": 87,
             "learn": [
              0.03616335879
             ],
             "passed_time": 36.52446146,
             "remaining_time": 4.980608381,
             "test": [
              0.03601804162
             ]
            },
            {
             "iteration": 88,
             "learn": [
              0.03499420612
             ],
             "passed_time": 36.95393788,
             "remaining_time": 4.567340637,
             "test": [
              0.034935833
             ]
            },
            {
             "iteration": 89,
             "learn": [
              0.03395705112
             ],
             "passed_time": 37.4313068,
             "remaining_time": 4.159034089,
             "test": [
              0.03388631756
             ]
            },
            {
             "iteration": 90,
             "learn": [
              0.03293674788
             ],
             "passed_time": 37.83329009,
             "remaining_time": 3.741753965,
             "test": [
              0.03286903523
             ]
            },
            {
             "iteration": 91,
             "learn": [
              0.03194680653
             ],
             "passed_time": 38.35067684,
             "remaining_time": 3.334841465,
             "test": [
              0.03188339849
             ]
            },
            {
             "iteration": 92,
             "learn": [
              0.03097020214
             ],
             "passed_time": 38.7815409,
             "remaining_time": 2.919040713,
             "test": [
              0.03092778203
             ]
            },
            {
             "iteration": 93,
             "learn": [
              0.0300406972
             ],
             "passed_time": 39.13844118,
             "remaining_time": 2.498198373,
             "test": [
              0.03000070098
             ]
            },
            {
             "iteration": 94,
             "learn": [
              0.0291490067
             ],
             "passed_time": 39.52454101,
             "remaining_time": 2.080239,
             "test": [
              0.02910168081
             ]
            },
            {
             "iteration": 95,
             "learn": [
              0.02835242269
             ],
             "passed_time": 39.97372597,
             "remaining_time": 1.665571916,
             "test": [
              0.02823098512
             ]
            },
            {
             "iteration": 96,
             "learn": [
              0.02746243663
             ],
             "passed_time": 40.42974896,
             "remaining_time": 1.250404607,
             "test": [
              0.02738706365
             ]
            },
            {
             "iteration": 97,
             "learn": [
              0.02658129657
             ],
             "passed_time": 41.02284109,
             "remaining_time": 0.8372008385,
             "test": [
              0.02656779418
             ]
            },
            {
             "iteration": 98,
             "learn": [
              0.02589497378
             ],
             "passed_time": 41.64732417,
             "remaining_time": 0.4206800421,
             "test": [
              0.02577340867
             ]
            },
            {
             "iteration": 99,
             "learn": [
              0.02503463593
             ],
             "passed_time": 42.11096107,
             "remaining_time": 0,
             "test": [
              0.02500266297
             ]
            }
           ],
           "meta": {
            "iteration_count": 100,
            "launch_mode": "Train",
            "learn_metrics": [
             {
              "best_value": "Min",
              "name": "CrossEntropy"
             }
            ],
            "learn_sets": [
             "learn"
            ],
            "name": "experiment",
            "parameters": "",
            "test_metrics": [
             {
              "best_value": "Min",
              "name": "CrossEntropy"
             }
            ],
            "test_sets": [
             "test"
            ]
           }
          },
          "passed_iterations": 99,
          "total_iterations": 100
         },
         "name": "catboost_info",
         "path": "catboost_info"
        }
       },
       "layout": "IPY_MODEL_ff3ae49f77a9437fb6fc5e67aef8d789"
      }
     },
     "e723bbb89435405db9be10181a361373": {
      "model_module": "@jupyter-widgets/base",
      "model_module_version": "1.2.0",
      "model_name": "LayoutModel",
      "state": {
       "_model_module": "@jupyter-widgets/base",
       "_model_module_version": "1.2.0",
       "_model_name": "LayoutModel",
       "_view_count": null,
       "_view_module": "@jupyter-widgets/base",
       "_view_module_version": "1.2.0",
       "_view_name": "LayoutView",
       "align_content": null,
       "align_items": null,
       "align_self": "stretch",
       "border": null,
       "bottom": null,
       "display": null,
       "flex": null,
       "flex_flow": null,
       "grid_area": null,
       "grid_auto_columns": null,
       "grid_auto_flow": null,
       "grid_auto_rows": null,
       "grid_column": null,
       "grid_gap": null,
       "grid_row": null,
       "grid_template_areas": null,
       "grid_template_columns": null,
       "grid_template_rows": null,
       "height": "500px",
       "justify_content": null,
       "justify_items": null,
       "left": null,
       "margin": null,
       "max_height": null,
       "max_width": null,
       "min_height": null,
       "min_width": null,
       "object_fit": null,
       "object_position": null,
       "order": null,
       "overflow": null,
       "overflow_x": null,
       "overflow_y": null,
       "padding": null,
       "right": null,
       "top": null,
       "visibility": null,
       "width": null
      }
     },
     "ec5cfaf734d9448b98daaabce4526262": {
      "model_module": "@jupyter-widgets/base",
      "model_module_version": "1.2.0",
      "model_name": "LayoutModel",
      "state": {
       "_model_module": "@jupyter-widgets/base",
       "_model_module_version": "1.2.0",
       "_model_name": "LayoutModel",
       "_view_count": null,
       "_view_module": "@jupyter-widgets/base",
       "_view_module_version": "1.2.0",
       "_view_name": "LayoutView",
       "align_content": null,
       "align_items": null,
       "align_self": "stretch",
       "border": null,
       "bottom": null,
       "display": null,
       "flex": null,
       "flex_flow": null,
       "grid_area": null,
       "grid_auto_columns": null,
       "grid_auto_flow": null,
       "grid_auto_rows": null,
       "grid_column": null,
       "grid_gap": null,
       "grid_row": null,
       "grid_template_areas": null,
       "grid_template_columns": null,
       "grid_template_rows": null,
       "height": "500px",
       "justify_content": null,
       "justify_items": null,
       "left": null,
       "margin": null,
       "max_height": null,
       "max_width": null,
       "min_height": null,
       "min_width": null,
       "object_fit": null,
       "object_position": null,
       "order": null,
       "overflow": null,
       "overflow_x": null,
       "overflow_y": null,
       "padding": null,
       "right": null,
       "top": null,
       "visibility": null,
       "width": null
      }
     },
     "ec8905aece1c428fa1201a5ee2dab8d1": {
      "model_module": "@jupyter-widgets/base",
      "model_module_version": "1.2.0",
      "model_name": "LayoutModel",
      "state": {
       "_model_module": "@jupyter-widgets/base",
       "_model_module_version": "1.2.0",
       "_model_name": "LayoutModel",
       "_view_count": null,
       "_view_module": "@jupyter-widgets/base",
       "_view_module_version": "1.2.0",
       "_view_name": "LayoutView",
       "align_content": null,
       "align_items": null,
       "align_self": "stretch",
       "border": null,
       "bottom": null,
       "display": null,
       "flex": null,
       "flex_flow": null,
       "grid_area": null,
       "grid_auto_columns": null,
       "grid_auto_flow": null,
       "grid_auto_rows": null,
       "grid_column": null,
       "grid_gap": null,
       "grid_row": null,
       "grid_template_areas": null,
       "grid_template_columns": null,
       "grid_template_rows": null,
       "height": "500px",
       "justify_content": null,
       "justify_items": null,
       "left": null,
       "margin": null,
       "max_height": null,
       "max_width": null,
       "min_height": null,
       "min_width": null,
       "object_fit": null,
       "object_position": null,
       "order": null,
       "overflow": null,
       "overflow_x": null,
       "overflow_y": null,
       "padding": null,
       "right": null,
       "top": null,
       "visibility": null,
       "width": null
      }
     },
     "f11261276a1d44f4929e4578aba6316a": {
      "model_module": "catboost-widget",
      "model_module_version": "^1.0.0",
      "model_name": "CatboostWidgetModel",
      "state": {
       "_dom_classes": [],
       "_model_module": "catboost-widget",
       "_model_module_version": "^1.0.0",
       "_model_name": "CatboostWidgetModel",
       "_view_count": null,
       "_view_module": "catboost-widget",
       "_view_module_version": "^1.0.0",
       "_view_name": "CatboostWidgetView",
       "data": {
        "catboost_info": {
         "content": {
          "data": {
           "iterations": [
            {
             "iteration": 0,
             "learn": [
              0.6629559671
             ],
             "passed_time": 0.4492581786,
             "remaining_time": 44.47655968,
             "test": [
              0.6643029222
             ]
            },
            {
             "iteration": 1,
             "learn": [
              0.6373916564
             ],
             "passed_time": 0.8994466783,
             "remaining_time": 44.07288724,
             "test": [
              0.6371326596
             ]
            },
            {
             "iteration": 2,
             "learn": [
              0.611042728
             ],
             "passed_time": 1.334454599,
             "remaining_time": 43.14736535,
             "test": [
              0.6116749239
             ]
            },
            {
             "iteration": 3,
             "learn": [
              0.5867514196
             ],
             "passed_time": 1.782915489,
             "remaining_time": 42.78997172,
             "test": [
              0.5875765998
             ]
            },
            {
             "iteration": 4,
             "learn": [
              0.5646917087
             ],
             "passed_time": 2.274607443,
             "remaining_time": 43.21754142,
             "test": [
              0.5645744802
             ]
            },
            {
             "iteration": 5,
             "learn": [
              0.5423610189
             ],
             "passed_time": 2.718865882,
             "remaining_time": 42.59556549,
             "test": [
              0.542935084
             ]
            },
            {
             "iteration": 6,
             "learn": [
              0.5207640759
             ],
             "passed_time": 3.234793829,
             "remaining_time": 42.97654658,
             "test": [
              0.5221965921
             ]
            },
            {
             "iteration": 7,
             "learn": [
              0.5025615054
             ],
             "passed_time": 3.679009902,
             "remaining_time": 42.30861387,
             "test": [
              0.5026976989
             ]
            },
            {
             "iteration": 8,
             "learn": [
              0.4834406068
             ],
             "passed_time": 4.086632679,
             "remaining_time": 41.32039709,
             "test": [
              0.4842667914
             ]
            },
            {
             "iteration": 9,
             "learn": [
              0.4656563956
             ],
             "passed_time": 4.570079266,
             "remaining_time": 41.1307134,
             "test": [
              0.4664918605
             ]
            },
            {
             "iteration": 10,
             "learn": [
              0.4491457236
             ],
             "passed_time": 5.006374851,
             "remaining_time": 40.50612379,
             "test": [
              0.449353099
             ]
            },
            {
             "iteration": 11,
             "learn": [
              0.4330928961
             ],
             "passed_time": 5.477759257,
             "remaining_time": 40.17023455,
             "test": [
              0.4331635758
             ]
            },
            {
             "iteration": 12,
             "learn": [
              0.4175887785
             ],
             "passed_time": 5.979233418,
             "remaining_time": 40.0148698,
             "test": [
              0.4177224326
             ]
            },
            {
             "iteration": 13,
             "learn": [
              0.4025840217
             ],
             "passed_time": 6.45365315,
             "remaining_time": 39.64386935,
             "test": [
              0.4030094744
             ]
            },
            {
             "iteration": 14,
             "learn": [
              0.3884745105
             ],
             "passed_time": 6.880732614,
             "remaining_time": 38.99081814,
             "test": [
              0.3890599106
             ]
            },
            {
             "iteration": 15,
             "learn": [
              0.3741891956
             ],
             "passed_time": 7.245483569,
             "remaining_time": 38.03878874,
             "test": [
              0.3758542482
             ]
            },
            {
             "iteration": 16,
             "learn": [
              0.3617370497
             ],
             "passed_time": 7.813944393,
             "remaining_time": 38.15043439,
             "test": [
              0.3629015548
             ]
            },
            {
             "iteration": 17,
             "learn": [
              0.3497711946
             ],
             "passed_time": 8.461749954,
             "remaining_time": 38.54797201,
             "test": [
              0.3504944751
             ]
            },
            {
             "iteration": 18,
             "learn": [
              0.3373897949
             ],
             "passed_time": 9.064732068,
             "remaining_time": 38.64438408,
             "test": [
              0.3385045277
             ]
            },
            {
             "iteration": 19,
             "learn": [
              0.3266202551
             ],
             "passed_time": 9.496303174,
             "remaining_time": 37.9852127,
             "test": [
              0.3272933654
             ]
            },
            {
             "iteration": 20,
             "learn": [
              0.3151411516
             ],
             "passed_time": 10.00370091,
             "remaining_time": 37.63297009,
             "test": [
              0.3164497841
             ]
            },
            {
             "iteration": 21,
             "learn": [
              0.3045372249
             ],
             "passed_time": 10.49119144,
             "remaining_time": 37.19604238,
             "test": [
              0.3060552004
             ]
            },
            {
             "iteration": 22,
             "learn": [
              0.2947969889
             ],
             "passed_time": 10.97379358,
             "remaining_time": 36.73835241,
             "test": [
              0.2959589849
             ]
            },
            {
             "iteration": 23,
             "learn": [
              0.2849802716
             ],
             "passed_time": 11.41834072,
             "remaining_time": 36.15807895,
             "test": [
              0.2863409826
             ]
            },
            {
             "iteration": 24,
             "learn": [
              0.275744502
             ],
             "passed_time": 11.86428232,
             "remaining_time": 35.59284695,
             "test": [
              0.2771301192
             ]
            },
            {
             "iteration": 25,
             "learn": [
              0.266522769
             ],
             "passed_time": 12.31755249,
             "remaining_time": 35.05764938,
             "test": [
              0.268372108
             ]
            },
            {
             "iteration": 26,
             "learn": [
              0.2583939207
             ],
             "passed_time": 12.76468017,
             "remaining_time": 34.51191305,
             "test": [
              0.2599044441
             ]
            },
            {
             "iteration": 27,
             "learn": [
              0.2504911329
             ],
             "passed_time": 13.17593645,
             "remaining_time": 33.88097944,
             "test": [
              0.2517404634
             ]
            },
            {
             "iteration": 28,
             "learn": [
              0.2425228835
             ],
             "passed_time": 13.58429297,
             "remaining_time": 33.25809659,
             "test": [
              0.2436394756
             ]
            },
            {
             "iteration": 29,
             "learn": [
              0.2348752269
             ],
             "passed_time": 14.07206133,
             "remaining_time": 32.83480977,
             "test": [
              0.2360666862
             ]
            },
            {
             "iteration": 30,
             "learn": [
              0.2274246294
             ],
             "passed_time": 14.53717562,
             "remaining_time": 32.35693929,
             "test": [
              0.2288703407
             ]
            },
            {
             "iteration": 31,
             "learn": [
              0.2201053494
             ],
             "passed_time": 14.97738009,
             "remaining_time": 31.82693269,
             "test": [
              0.2219949988
             ]
            },
            {
             "iteration": 32,
             "learn": [
              0.213208094
             ],
             "passed_time": 15.40201601,
             "remaining_time": 31.27075978,
             "test": [
              0.2152662177
             ]
            },
            {
             "iteration": 33,
             "learn": [
              0.2067859219
             ],
             "passed_time": 15.88457209,
             "remaining_time": 30.83475759,
             "test": [
              0.2086144846
             ]
            },
            {
             "iteration": 34,
             "learn": [
              0.2004987343
             ],
             "passed_time": 16.33234027,
             "remaining_time": 30.33148906,
             "test": [
              0.2022331795
             ]
            },
            {
             "iteration": 35,
             "learn": [
              0.1942061947
             ],
             "passed_time": 16.77502617,
             "remaining_time": 29.82226875,
             "test": [
              0.1961240186
             ]
            },
            {
             "iteration": 36,
             "learn": [
              0.188594136
             ],
             "passed_time": 17.17189452,
             "remaining_time": 29.23863122,
             "test": [
              0.1903703203
             ]
            },
            {
             "iteration": 37,
             "learn": [
              0.1827067735
             ],
             "passed_time": 17.61525863,
             "remaining_time": 28.74068513,
             "test": [
              0.184812846
             ]
            },
            {
             "iteration": 38,
             "learn": [
              0.1774984849
             ],
             "passed_time": 18.05073688,
             "remaining_time": 28.23320383,
             "test": [
              0.1794482112
             ]
            },
            {
             "iteration": 39,
             "learn": [
              0.1720762534
             ],
             "passed_time": 18.50731296,
             "remaining_time": 27.76096944,
             "test": [
              0.1741620091
             ]
            },
            {
             "iteration": 40,
             "learn": [
              0.1667909085
             ],
             "passed_time": 18.94868184,
             "remaining_time": 27.26761532,
             "test": [
              0.1690322976
             ]
            },
            {
             "iteration": 41,
             "learn": [
              0.1619851152
             ],
             "passed_time": 19.37377145,
             "remaining_time": 26.75425581,
             "test": [
              0.1638406599
             ]
            },
            {
             "iteration": 42,
             "learn": [
              0.1571215561
             ],
             "passed_time": 19.81101558,
             "remaining_time": 26.26111368,
             "test": [
              0.1590552528
             ]
            },
            {
             "iteration": 43,
             "learn": [
              0.152428205
             ],
             "passed_time": 20.25043088,
             "remaining_time": 25.77327566,
             "test": [
              0.1543330628
             ]
            },
            {
             "iteration": 44,
             "learn": [
              0.1477764363
             ],
             "passed_time": 20.73101176,
             "remaining_time": 25.33790327,
             "test": [
              0.149795479
             ]
            },
            {
             "iteration": 45,
             "learn": [
              0.1433824072
             ],
             "passed_time": 21.19129742,
             "remaining_time": 24.87674045,
             "test": [
              0.1454943154
             ]
            },
            {
             "iteration": 46,
             "learn": [
              0.1392506717
             ],
             "passed_time": 21.622744,
             "remaining_time": 24.3830943,
             "test": [
              0.14134054
             ]
            },
            {
             "iteration": 47,
             "learn": [
              0.1351447544
             ],
             "passed_time": 22.06512053,
             "remaining_time": 23.90388058,
             "test": [
              0.1371973036
             ]
            },
            {
             "iteration": 48,
             "learn": [
              0.1312983938
             ],
             "passed_time": 22.52518141,
             "remaining_time": 23.44457657,
             "test": [
              0.133371488
             ]
            },
            {
             "iteration": 49,
             "learn": [
              0.1275131479
             ],
             "passed_time": 22.98868937,
             "remaining_time": 22.98868937,
             "test": [
              0.1295501624
             ]
            },
            {
             "iteration": 50,
             "learn": [
              0.12380142
             ],
             "passed_time": 23.4076908,
             "remaining_time": 22.48974214,
             "test": [
              0.1259088961
             ]
            },
            {
             "iteration": 51,
             "learn": [
              0.1202085806
             ],
             "passed_time": 23.84369905,
             "remaining_time": 22.00956836,
             "test": [
              0.1222670182
             ]
            },
            {
             "iteration": 52,
             "learn": [
              0.1169364684
             ],
             "passed_time": 24.3021124,
             "remaining_time": 21.55092986,
             "test": [
              0.1189429181
             ]
            },
            {
             "iteration": 53,
             "learn": [
              0.1136308995
             ],
             "passed_time": 24.7911787,
             "remaining_time": 21.11841149,
             "test": [
              0.1155557936
             ]
            },
            {
             "iteration": 54,
             "learn": [
              0.1103240789
             ],
             "passed_time": 25.23452328,
             "remaining_time": 20.64642814,
             "test": [
              0.112493242
             ]
            },
            {
             "iteration": 55,
             "learn": [
              0.107350229
             ],
             "passed_time": 25.68100574,
             "remaining_time": 20.17793308,
             "test": [
              0.1093008498
             ]
            },
            {
             "iteration": 56,
             "learn": [
              0.1042805103
             ],
             "passed_time": 26.07893938,
             "remaining_time": 19.67358585,
             "test": [
              0.1064729324
             ]
            },
            {
             "iteration": 57,
             "learn": [
              0.1014480059
             ],
             "passed_time": 26.50392809,
             "remaining_time": 19.19249965,
             "test": [
              0.1035509653
             ]
            },
            {
             "iteration": 58,
             "learn": [
              0.09848447623
             ],
             "passed_time": 26.93725651,
             "remaining_time": 18.71911045,
             "test": [
              0.1007270932
             ]
            },
            {
             "iteration": 59,
             "learn": [
              0.09585508712
             ],
             "passed_time": 27.398025,
             "remaining_time": 18.26535,
             "test": [
              0.09799261545
             ]
            },
            {
             "iteration": 60,
             "learn": [
              0.09310646662
             ],
             "passed_time": 27.86799574,
             "remaining_time": 17.81724318,
             "test": [
              0.09527526726
             ]
            },
            {
             "iteration": 61,
             "learn": [
              0.09052600352
             ],
             "passed_time": 28.31584308,
             "remaining_time": 17.35487157,
             "test": [
              0.0927250202
             ]
            },
            {
             "iteration": 62,
             "learn": [
              0.08815569472
             ],
             "passed_time": 28.77990262,
             "remaining_time": 16.90248249,
             "test": [
              0.09024098694
             ]
            },
            {
             "iteration": 63,
             "learn": [
              0.08576599132
             ],
             "passed_time": 29.23971254,
             "remaining_time": 16.4473383,
             "test": [
              0.08783224074
             ]
            },
            {
             "iteration": 64,
             "learn": [
              0.08344631658
             ],
             "passed_time": 29.6844052,
             "remaining_time": 15.98391049,
             "test": [
              0.08556138199
             ]
            },
            {
             "iteration": 65,
             "learn": [
              0.08107451002
             ],
             "passed_time": 30.14296787,
             "remaining_time": 15.52819557,
             "test": [
              0.08325879695
             ]
            },
            {
             "iteration": 66,
             "learn": [
              0.07883027372
             ],
             "passed_time": 30.62376994,
             "remaining_time": 15.08334937,
             "test": [
              0.08101564016
             ]
            },
            {
             "iteration": 67,
             "learn": [
              0.07677065185
             ],
             "passed_time": 31.06340057,
             "remaining_time": 14.61807086,
             "test": [
              0.07899211639
             ]
            },
            {
             "iteration": 68,
             "learn": [
              0.07477928766
             ],
             "passed_time": 31.48922859,
             "remaining_time": 14.14733458,
             "test": [
              0.07697792658
             ]
            },
            {
             "iteration": 69,
             "learn": [
              0.07274737811
             ],
             "passed_time": 31.91230729,
             "remaining_time": 13.67670313,
             "test": [
              0.07489850669
             ]
            },
            {
             "iteration": 70,
             "learn": [
              0.07086722403
             ],
             "passed_time": 32.37147911,
             "remaining_time": 13.22215344,
             "test": [
              0.07305679158
             ]
            },
            {
             "iteration": 71,
             "learn": [
              0.06899891756
             ],
             "passed_time": 32.81386923,
             "remaining_time": 12.76094915,
             "test": [
              0.07120556318
             ]
            },
            {
             "iteration": 72,
             "learn": [
              0.06720007463
             ],
             "passed_time": 33.2463444,
             "remaining_time": 12.29659313,
             "test": [
              0.06942104239
             ]
            },
            {
             "iteration": 73,
             "learn": [
              0.06555388421
             ],
             "passed_time": 33.71239544,
             "remaining_time": 11.8448957,
             "test": [
              0.06775312055
             ]
            },
            {
             "iteration": 74,
             "learn": [
              0.06385574254
             ],
             "passed_time": 34.1453951,
             "remaining_time": 11.38179837,
             "test": [
              0.06614527757
             ]
            },
            {
             "iteration": 75,
             "learn": [
              0.06221187745
             ],
             "passed_time": 34.6062613,
             "remaining_time": 10.92829304,
             "test": [
              0.06452617174
             ]
            },
            {
             "iteration": 76,
             "learn": [
              0.06073240833
             ],
             "passed_time": 35.02930971,
             "remaining_time": 10.4633003,
             "test": [
              0.06305161842
             ]
            },
            {
             "iteration": 77,
             "learn": [
              0.05916915163
             ],
             "passed_time": 35.48116738,
             "remaining_time": 10.00750875,
             "test": [
              0.06155342708
             ]
            },
            {
             "iteration": 78,
             "learn": [
              0.05767206937
             ],
             "passed_time": 35.96548113,
             "remaining_time": 9.560444351,
             "test": [
              0.06003431856
             ]
            },
            {
             "iteration": 79,
             "learn": [
              0.05621910663
             ],
             "passed_time": 36.36515061,
             "remaining_time": 9.091287652,
             "test": [
              0.05858638834
             ]
            },
            {
             "iteration": 80,
             "learn": [
              0.05485198919
             ],
             "passed_time": 36.81873875,
             "remaining_time": 8.636494275,
             "test": [
              0.05716609354
             ]
            },
            {
             "iteration": 81,
             "learn": [
              0.05337999658
             ],
             "passed_time": 37.24653623,
             "remaining_time": 8.176068928,
             "test": [
              0.05576923727
             ]
            },
            {
             "iteration": 82,
             "learn": [
              0.05205942177
             ],
             "passed_time": 37.65111255,
             "remaining_time": 7.711673656,
             "test": [
              0.0544517273
             ]
            },
            {
             "iteration": 83,
             "learn": [
              0.05080089008
             ],
             "passed_time": 38.07634238,
             "remaining_time": 7.252636644,
             "test": [
              0.05314358902
             ]
            },
            {
             "iteration": 84,
             "learn": [
              0.04950899762
             ],
             "passed_time": 38.53717399,
             "remaining_time": 6.800677762,
             "test": [
              0.05195171835
             ]
            },
            {
             "iteration": 85,
             "learn": [
              0.04831752755
             ],
             "passed_time": 38.99197613,
             "remaining_time": 6.347530998,
             "test": [
              0.05068859514
             ]
            },
            {
             "iteration": 86,
             "learn": [
              0.04716199276
             ],
             "passed_time": 39.52198636,
             "remaining_time": 5.905584169,
             "test": [
              0.04958820088
             ]
            },
            {
             "iteration": 87,
             "learn": [
              0.04608931739
             ],
             "passed_time": 40.10025426,
             "remaining_time": 5.46821649,
             "test": [
              0.04849487532
             ]
            },
            {
             "iteration": 88,
             "learn": [
              0.04495397483
             ],
             "passed_time": 40.70545947,
             "remaining_time": 5.031011844,
             "test": [
              0.04736450292
             ]
            },
            {
             "iteration": 89,
             "learn": [
              0.04387992043
             ],
             "passed_time": 41.17687696,
             "remaining_time": 4.575208551,
             "test": [
              0.04629069461
             ]
            },
            {
             "iteration": 90,
             "learn": [
              0.04290059969
             ],
             "passed_time": 41.60435002,
             "remaining_time": 4.114715936,
             "test": [
              0.04533081846
             ]
            },
            {
             "iteration": 91,
             "learn": [
              0.04192581386
             ],
             "passed_time": 42.01866593,
             "remaining_time": 3.653797038,
             "test": [
              0.04438896911
             ]
            },
            {
             "iteration": 92,
             "learn": [
              0.04098855907
             ],
             "passed_time": 42.47645513,
             "remaining_time": 3.197152537,
             "test": [
              0.04346779377
             ]
            },
            {
             "iteration": 93,
             "learn": [
              0.03998843011
             ],
             "passed_time": 42.90117911,
             "remaining_time": 2.738373134,
             "test": [
              0.04247326991
             ]
            },
            {
             "iteration": 94,
             "learn": [
              0.03901756911
             ],
             "passed_time": 43.34645274,
             "remaining_time": 2.28139225,
             "test": [
              0.04152775528
             ]
            },
            {
             "iteration": 95,
             "learn": [
              0.03813654457
             ],
             "passed_time": 43.83030827,
             "remaining_time": 1.826262845,
             "test": [
              0.0406444589
             ]
            },
            {
             "iteration": 96,
             "learn": [
              0.03721356333
             ],
             "passed_time": 44.25462645,
             "remaining_time": 1.368699787,
             "test": [
              0.03974815155
             ]
            },
            {
             "iteration": 97,
             "learn": [
              0.03636747509
             ],
             "passed_time": 44.71242914,
             "remaining_time": 0.9124985539,
             "test": [
              0.0389135742
             ]
            },
            {
             "iteration": 98,
             "learn": [
              0.03552899186
             ],
             "passed_time": 45.17795233,
             "remaining_time": 0.4563429529,
             "test": [
              0.03806270982
             ]
            },
            {
             "iteration": 99,
             "learn": [
              0.03473913273
             ],
             "passed_time": 45.64400645,
             "remaining_time": 0,
             "test": [
              0.03730564251
             ]
            }
           ],
           "meta": {
            "iteration_count": 100,
            "launch_mode": "Train",
            "learn_metrics": [
             {
              "best_value": "Min",
              "name": "CrossEntropy"
             }
            ],
            "learn_sets": [
             "learn"
            ],
            "name": "experiment",
            "parameters": "",
            "test_metrics": [
             {
              "best_value": "Min",
              "name": "CrossEntropy"
             }
            ],
            "test_sets": [
             "test"
            ]
           }
          },
          "passed_iterations": 99,
          "total_iterations": 100
         },
         "name": "catboost_info",
         "path": "catboost_info"
        }
       },
       "layout": "IPY_MODEL_936529bdd7c84ae5b3e5d5f96bc59980"
      }
     },
     "f3242a9d26c148249a8eb8812f356f84": {
      "model_module": "catboost-widget",
      "model_module_version": "^1.0.0",
      "model_name": "CatboostWidgetModel",
      "state": {
       "_dom_classes": [],
       "_model_module": "catboost-widget",
       "_model_module_version": "^1.0.0",
       "_model_name": "CatboostWidgetModel",
       "_view_count": null,
       "_view_module": "catboost-widget",
       "_view_module_version": "^1.0.0",
       "_view_name": "CatboostWidgetView",
       "data": {
        "catboost_info": {
         "content": {
          "data": {
           "iterations": [
            {
             "iteration": 0,
             "learn": [
              0.6686588472
             ],
             "passed_time": 0.4263074908,
             "remaining_time": 42.20444159,
             "test": [
              0.6684983533
             ]
            },
            {
             "iteration": 1,
             "learn": [
              0.6467879189
             ],
             "passed_time": 0.8776640922,
             "remaining_time": 43.00554052,
             "test": [
              0.6454883139
             ]
            },
            {
             "iteration": 2,
             "learn": [
              0.6256437901
             ],
             "passed_time": 1.332461635,
             "remaining_time": 43.08292619,
             "test": [
              0.6238785177
             ]
            },
            {
             "iteration": 3,
             "learn": [
              0.6048209635
             ],
             "passed_time": 1.765042625,
             "remaining_time": 42.36102299,
             "test": [
              0.6029314419
             ]
            },
            {
             "iteration": 4,
             "learn": [
              0.5863976402
             ],
             "passed_time": 2.183286348,
             "remaining_time": 41.48244061,
             "test": [
              0.5831560528
             ]
            },
            {
             "iteration": 5,
             "learn": [
              0.5668319588
             ],
             "passed_time": 2.592827822,
             "remaining_time": 40.6209692,
             "test": [
              0.5635800885
             ]
            },
            {
             "iteration": 6,
             "learn": [
              0.5479315129
             ],
             "passed_time": 2.951990268,
             "remaining_time": 39.21929928,
             "test": [
              0.5445816594
             ]
            },
            {
             "iteration": 7,
             "learn": [
              0.5317351632
             ],
             "passed_time": 3.375280384,
             "remaining_time": 38.81572442,
             "test": [
              0.5274402641
             ]
            },
            {
             "iteration": 8,
             "learn": [
              0.5152235493
             ],
             "passed_time": 3.839487344,
             "remaining_time": 38.82148314,
             "test": [
              0.5108002531
             ]
            },
            {
             "iteration": 9,
             "learn": [
              0.5003503535
             ],
             "passed_time": 4.505518943,
             "remaining_time": 40.54967049,
             "test": [
              0.4951539361
             ]
            },
            {
             "iteration": 10,
             "learn": [
              0.4859111914
             ],
             "passed_time": 5.065120344,
             "remaining_time": 40.98142824,
             "test": [
              0.4802847991
             ]
            },
            {
             "iteration": 11,
             "learn": [
              0.4722076819
             ],
             "passed_time": 5.53854265,
             "remaining_time": 40.61597944,
             "test": [
              0.466399201
             ]
            },
            {
             "iteration": 12,
             "learn": [
              0.458144881
             ],
             "passed_time": 5.899179311,
             "remaining_time": 39.47912308,
             "test": [
              0.4520160114
             ]
            },
            {
             "iteration": 13,
             "learn": [
              0.4457309645
             ],
             "passed_time": 6.358744777,
             "remaining_time": 39.06086077,
             "test": [
              0.4392951157
             ]
            },
            {
             "iteration": 14,
             "learn": [
              0.4334095956
             ],
             "passed_time": 6.761431949,
             "remaining_time": 38.31478104,
             "test": [
              0.4263744709
             ]
            },
            {
             "iteration": 15,
             "learn": [
              0.4208663634
             ],
             "passed_time": 7.1210351,
             "remaining_time": 37.38543427,
             "test": [
              0.413744507
             ]
            },
            {
             "iteration": 16,
             "learn": [
              0.4093362965
             ],
             "passed_time": 7.482295018,
             "remaining_time": 36.53120509,
             "test": [
              0.4019681169
             ]
            },
            {
             "iteration": 17,
             "learn": [
              0.3986943672
             ],
             "passed_time": 7.901874986,
             "remaining_time": 35.99743049,
             "test": [
              0.3909373424
             ]
            },
            {
             "iteration": 18,
             "learn": [
              0.3884663218
             ],
             "passed_time": 8.336986816,
             "remaining_time": 35.54189116,
             "test": [
              0.380225057
             ]
            },
            {
             "iteration": 19,
             "learn": [
              0.3777576799
             ],
             "passed_time": 8.695977964,
             "remaining_time": 34.78391185,
             "test": [
              0.3693891816
             ]
            },
            {
             "iteration": 20,
             "learn": [
              0.3683703853
             ],
             "passed_time": 9.081072963,
             "remaining_time": 34.16213162,
             "test": [
              0.3592940352
             ]
            },
            {
             "iteration": 21,
             "learn": [
              0.3583768148
             ],
             "passed_time": 9.451965925,
             "remaining_time": 33.51151555,
             "test": [
              0.3494875127
             ]
            },
            {
             "iteration": 22,
             "learn": [
              0.3492874807
             ],
             "passed_time": 9.812682898,
             "remaining_time": 32.85115579,
             "test": [
              0.3400078345
             ]
            },
            {
             "iteration": 23,
             "learn": [
              0.3407027485
             ],
             "passed_time": 10.17630878,
             "remaining_time": 32.2249778,
             "test": [
              0.3308637803
             ]
            },
            {
             "iteration": 24,
             "learn": [
              0.3325593553
             ],
             "passed_time": 10.54320852,
             "remaining_time": 31.62962555,
             "test": [
              0.3221083423
             ]
            },
            {
             "iteration": 25,
             "learn": [
              0.3242893572
             ],
             "passed_time": 10.96495009,
             "remaining_time": 31.20793486,
             "test": [
              0.3135568604
             ]
            },
            {
             "iteration": 26,
             "learn": [
              0.3165693168
             ],
             "passed_time": 11.35132671,
             "remaining_time": 30.69062406,
             "test": [
              0.305515684
             ]
            },
            {
             "iteration": 27,
             "learn": [
              0.308919627
             ],
             "passed_time": 11.79785063,
             "remaining_time": 30.3373302,
             "test": [
              0.2975465605
             ]
            },
            {
             "iteration": 28,
             "learn": [
              0.3016753832
             ],
             "passed_time": 12.12764288,
             "remaining_time": 29.69181533,
             "test": [
              0.2900132314
             ]
            },
            {
             "iteration": 29,
             "learn": [
              0.294667983
             ],
             "passed_time": 12.53372278,
             "remaining_time": 29.24535316,
             "test": [
              0.2826442858
             ]
            },
            {
             "iteration": 30,
             "learn": [
              0.2878342811
             ],
             "passed_time": 12.86153492,
             "remaining_time": 28.6272874,
             "test": [
              0.2756903285
             ]
            },
            {
             "iteration": 31,
             "learn": [
              0.2810365929
             ],
             "passed_time": 13.22338477,
             "remaining_time": 28.09969263,
             "test": [
              0.2685610622
             ]
            },
            {
             "iteration": 32,
             "learn": [
              0.2746546964
             ],
             "passed_time": 13.60144203,
             "remaining_time": 27.61504898,
             "test": [
              0.2621089361
             ]
            },
            {
             "iteration": 33,
             "learn": [
              0.2679187123
             ],
             "passed_time": 14.05420403,
             "remaining_time": 27.28169017,
             "test": [
              0.2554630167
             ]
            },
            {
             "iteration": 34,
             "learn": [
              0.261962786
             ],
             "passed_time": 14.50665874,
             "remaining_time": 26.94093767,
             "test": [
              0.2494622702
             ]
            },
            {
             "iteration": 35,
             "learn": [
              0.2564552887
             ],
             "passed_time": 14.97868313,
             "remaining_time": 26.62877001,
             "test": [
              0.2436610099
             ]
            },
            {
             "iteration": 36,
             "learn": [
              0.2502239902
             ],
             "passed_time": 15.4371639,
             "remaining_time": 26.2849007,
             "test": [
              0.2375347249
             ]
            },
            {
             "iteration": 37,
             "learn": [
              0.2448356368
             ],
             "passed_time": 15.77492735,
             "remaining_time": 25.73803936,
             "test": [
              0.2320716558
             ]
            },
            {
             "iteration": 38,
             "learn": [
              0.2394729367
             ],
             "passed_time": 16.25552489,
             "remaining_time": 25.42530817,
             "test": [
              0.2266176326
             ]
            },
            {
             "iteration": 39,
             "learn": [
              0.2342896481
             ],
             "passed_time": 16.72624421,
             "remaining_time": 25.08936631,
             "test": [
              0.2214681337
             ]
            },
            {
             "iteration": 40,
             "learn": [
              0.2294067234
             ],
             "passed_time": 17.06537549,
             "remaining_time": 24.55749156,
             "test": [
              0.2165584883
             ]
            },
            {
             "iteration": 41,
             "learn": [
              0.2247991118
             ],
             "passed_time": 17.39498688,
             "remaining_time": 24.02164854,
             "test": [
              0.2117927021
             ]
            },
            {
             "iteration": 42,
             "learn": [
              0.2201474312
             ],
             "passed_time": 17.83978714,
             "remaining_time": 23.64808993,
             "test": [
              0.2071107506
             ]
            },
            {
             "iteration": 43,
             "learn": [
              0.2157227703
             ],
             "passed_time": 18.30149453,
             "remaining_time": 23.29281122,
             "test": [
              0.2025876146
             ]
            },
            {
             "iteration": 44,
             "learn": [
              0.2111934979
             ],
             "passed_time": 18.67015403,
             "remaining_time": 22.81907715,
             "test": [
              0.1978621815
             ]
            },
            {
             "iteration": 45,
             "learn": [
              0.2069177414
             ],
             "passed_time": 19.12584185,
             "remaining_time": 22.45207522,
             "test": [
              0.193616493
             ]
            },
            {
             "iteration": 46,
             "learn": [
              0.2030006222
             ],
             "passed_time": 19.46938192,
             "remaining_time": 21.95483493,
             "test": [
              0.1895579664
             ]
            },
            {
             "iteration": 47,
             "learn": [
              0.1991641719
             ],
             "passed_time": 19.9704411,
             "remaining_time": 21.63464452,
             "test": [
              0.1856540395
             ]
            },
            {
             "iteration": 48,
             "learn": [
              0.1952826662
             ],
             "passed_time": 20.4298542,
             "remaining_time": 21.2637258,
             "test": [
              0.1817147425
             ]
            },
            {
             "iteration": 49,
             "learn": [
              0.1915058013
             ],
             "passed_time": 20.87712539,
             "remaining_time": 20.87712539,
             "test": [
              0.1779290856
             ]
            },
            {
             "iteration": 50,
             "learn": [
              0.1878297328
             ],
             "passed_time": 21.21289359,
             "remaining_time": 20.38101541,
             "test": [
              0.1742070139
             ]
            },
            {
             "iteration": 51,
             "learn": [
              0.1843406689
             ],
             "passed_time": 21.5511621,
             "remaining_time": 19.8933804,
             "test": [
              0.1706383299
             ]
            },
            {
             "iteration": 52,
             "learn": [
              0.1804705755
             ],
             "passed_time": 22.04819831,
             "remaining_time": 19.55217586,
             "test": [
              0.1670722142
             ]
            },
            {
             "iteration": 53,
             "learn": [
              0.1766620109
             ],
             "passed_time": 22.45380494,
             "remaining_time": 19.12731532,
             "test": [
              0.1634123841
             ]
            },
            {
             "iteration": 54,
             "learn": [
              0.1730573954
             ],
             "passed_time": 22.95295134,
             "remaining_time": 18.77968746,
             "test": [
              0.1599626234
             ]
            },
            {
             "iteration": 55,
             "learn": [
              0.1699386925
             ],
             "passed_time": 23.39619087,
             "remaining_time": 18.3827214,
             "test": [
              0.1568418941
             ]
            },
            {
             "iteration": 56,
             "learn": [
              0.1666498894
             ],
             "passed_time": 23.8717434,
             "remaining_time": 18.00850818,
             "test": [
              0.1537000263
             ]
            },
            {
             "iteration": 57,
             "learn": [
              0.1636074866
             ],
             "passed_time": 24.24213975,
             "remaining_time": 17.55465292,
             "test": [
              0.1504466946
             ]
            },
            {
             "iteration": 58,
             "learn": [
              0.1606673565
             ],
             "passed_time": 24.63580724,
             "remaining_time": 17.11979825,
             "test": [
              0.1475113704
             ]
            },
            {
             "iteration": 59,
             "learn": [
              0.1576196388
             ],
             "passed_time": 25.11087725,
             "remaining_time": 16.74058483,
             "test": [
              0.1446001678
             ]
            },
            {
             "iteration": 60,
             "learn": [
              0.1549497694
             ],
             "passed_time": 25.45056641,
             "remaining_time": 16.27167361,
             "test": [
              0.1418133134
             ]
            },
            {
             "iteration": 61,
             "learn": [
              0.1514886966
             ],
             "passed_time": 25.91548583,
             "remaining_time": 15.88368486,
             "test": [
              0.1385242186
             ]
            },
            {
             "iteration": 62,
             "learn": [
              0.1485317033
             ],
             "passed_time": 26.36640121,
             "remaining_time": 15.48502928,
             "test": [
              0.135548038
             ]
            },
            {
             "iteration": 63,
             "learn": [
              0.1458036644
             ],
             "passed_time": 26.84807786,
             "remaining_time": 15.10204379,
             "test": [
              0.1328630374
             ]
            },
            {
             "iteration": 64,
             "learn": [
              0.143119875
             ],
             "passed_time": 27.24046061,
             "remaining_time": 14.66794033,
             "test": [
              0.1302810305
             ]
            },
            {
             "iteration": 65,
             "learn": [
              0.1401444849
             ],
             "passed_time": 27.74163254,
             "remaining_time": 14.29114403,
             "test": [
              0.1274294359
             ]
            },
            {
             "iteration": 66,
             "learn": [
              0.1378323913
             ],
             "passed_time": 28.10677384,
             "remaining_time": 13.84363488,
             "test": [
              0.124949405
             ]
            },
            {
             "iteration": 67,
             "learn": [
              0.1356826628
             ],
             "passed_time": 28.44931726,
             "remaining_time": 13.38791401,
             "test": [
              0.1227224783
             ]
            },
            {
             "iteration": 68,
             "learn": [
              0.133372527
             ],
             "passed_time": 28.89148589,
             "remaining_time": 12.98023279,
             "test": [
              0.1203609885
             ]
            },
            {
             "iteration": 69,
             "learn": [
              0.1309749167
             ],
             "passed_time": 29.34058842,
             "remaining_time": 12.5745379,
             "test": [
              0.1180574723
             ]
            },
            {
             "iteration": 70,
             "learn": [
              0.12886893
             ],
             "passed_time": 29.68206852,
             "remaining_time": 12.12366179,
             "test": [
              0.11593986
             ]
            },
            {
             "iteration": 71,
             "learn": [
              0.1266185199
             ],
             "passed_time": 30.13025735,
             "remaining_time": 11.7173223,
             "test": [
              0.1137490264
             ]
            },
            {
             "iteration": 72,
             "learn": [
              0.1245752838
             ],
             "passed_time": 30.58768964,
             "remaining_time": 11.31325507,
             "test": [
              0.1118465755
             ]
            },
            {
             "iteration": 73,
             "learn": [
              0.122777202
             ],
             "passed_time": 30.92336971,
             "remaining_time": 10.86496774,
             "test": [
              0.1099364981
             ]
            },
            {
             "iteration": 74,
             "learn": [
              0.1205792023
             ],
             "passed_time": 31.43005896,
             "remaining_time": 10.47668632,
             "test": [
              0.1080052749
             ]
            },
            {
             "iteration": 75,
             "learn": [
              0.1183346838
             ],
             "passed_time": 31.89762477,
             "remaining_time": 10.07293414,
             "test": [
              0.105841446
             ]
            },
            {
             "iteration": 76,
             "learn": [
              0.1163428196
             ],
             "passed_time": 32.25049453,
             "remaining_time": 9.6332646,
             "test": [
              0.1038496693
             ]
            },
            {
             "iteration": 77,
             "learn": [
              0.1145807501
             ],
             "passed_time": 32.7157461,
             "remaining_time": 9.227518132,
             "test": [
              0.1022327762
             ]
            },
            {
             "iteration": 78,
             "learn": [
              0.112619992
             ],
             "passed_time": 33.08893926,
             "remaining_time": 8.795793981,
             "test": [
              0.1003900719
             ]
            },
            {
             "iteration": 79,
             "learn": [
              0.1106243364
             ],
             "passed_time": 33.52853631,
             "remaining_time": 8.382134077,
             "test": [
              0.09848667051
             ]
            },
            {
             "iteration": 80,
             "learn": [
              0.1087884708
             ],
             "passed_time": 34.02713721,
             "remaining_time": 7.981674159,
             "test": [
              0.09668241552
             ]
            },
            {
             "iteration": 81,
             "learn": [
              0.1069497356
             ],
             "passed_time": 34.46108183,
             "remaining_time": 7.564627719,
             "test": [
              0.09490014997
             ]
            },
            {
             "iteration": 82,
             "learn": [
              0.105562141
             ],
             "passed_time": 34.79846477,
             "remaining_time": 7.127396399,
             "test": [
              0.0934057414
             ]
            },
            {
             "iteration": 83,
             "learn": [
              0.1036059055
             ],
             "passed_time": 35.31176573,
             "remaining_time": 6.726050615,
             "test": [
              0.09160154748
             ]
            },
            {
             "iteration": 84,
             "learn": [
              0.1019795025
             ],
             "passed_time": 36.00843873,
             "remaining_time": 6.354430364,
             "test": [
              0.09001805443
             ]
            },
            {
             "iteration": 85,
             "learn": [
              0.1002603269
             ],
             "passed_time": 36.73948275,
             "remaining_time": 5.98084603,
             "test": [
              0.08845734479
             ]
            },
            {
             "iteration": 86,
             "learn": [
              0.09873625471
             ],
             "passed_time": 37.08394229,
             "remaining_time": 5.541278732,
             "test": [
              0.08703304183
             ]
            },
            {
             "iteration": 87,
             "learn": [
              0.09754649927
             ],
             "passed_time": 37.44002722,
             "remaining_time": 5.105458257,
             "test": [
              0.08568124969
             ]
            },
            {
             "iteration": 88,
             "learn": [
              0.09622988699
             ],
             "passed_time": 37.85117035,
             "remaining_time": 4.678234537,
             "test": [
              0.08437341968
             ]
            },
            {
             "iteration": 89,
             "learn": [
              0.095227508
             ],
             "passed_time": 38.17394999,
             "remaining_time": 4.241549999,
             "test": [
              0.08339302847
             ]
            },
            {
             "iteration": 90,
             "learn": [
              0.09388008244
             ],
             "passed_time": 38.61699775,
             "remaining_time": 3.819263514,
             "test": [
              0.08210882144
             ]
            },
            {
             "iteration": 91,
             "learn": [
              0.0922912853
             ],
             "passed_time": 39.12104505,
             "remaining_time": 3.401830004,
             "test": [
              0.08064037486
             ]
            },
            {
             "iteration": 92,
             "learn": [
              0.09074241495
             ],
             "passed_time": 39.56151201,
             "remaining_time": 2.977748216,
             "test": [
              0.07922958851
             ]
            },
            {
             "iteration": 93,
             "learn": [
              0.08935931705
             ],
             "passed_time": 39.93456803,
             "remaining_time": 2.54901498,
             "test": [
              0.07793506572
             ]
            },
            {
             "iteration": 94,
             "learn": [
              0.08806309407
             ],
             "passed_time": 40.37340115,
             "remaining_time": 2.12491585,
             "test": [
              0.0767013978
             ]
            },
            {
             "iteration": 95,
             "learn": [
              0.08672115682
             ],
             "passed_time": 40.86573963,
             "remaining_time": 1.702739151,
             "test": [
              0.07546243923
             ]
            },
            {
             "iteration": 96,
             "learn": [
              0.08544568489
             ],
             "passed_time": 41.22178682,
             "remaining_time": 1.274900623,
             "test": [
              0.07416608254
             ]
            },
            {
             "iteration": 97,
             "learn": [
              0.08411584204
             ],
             "passed_time": 41.64077069,
             "remaining_time": 0.8498116467,
             "test": [
              0.07294437176
             ]
            },
            {
             "iteration": 98,
             "learn": [
              0.08291238331
             ],
             "passed_time": 41.98868026,
             "remaining_time": 0.4241280835,
             "test": [
              0.07171491292
             ]
            },
            {
             "iteration": 99,
             "learn": [
              0.0815771862
             ],
             "passed_time": 42.49266508,
             "remaining_time": 0,
             "test": [
              0.07048441302
             ]
            }
           ],
           "meta": {
            "iteration_count": 100,
            "launch_mode": "Train",
            "learn_metrics": [
             {
              "best_value": "Min",
              "name": "CrossEntropy"
             }
            ],
            "learn_sets": [
             "learn"
            ],
            "name": "experiment",
            "parameters": "",
            "test_metrics": [
             {
              "best_value": "Min",
              "name": "CrossEntropy"
             }
            ],
            "test_sets": [
             "test"
            ]
           }
          },
          "passed_iterations": 99,
          "total_iterations": 100
         },
         "name": "catboost_info",
         "path": "catboost_info"
        }
       },
       "layout": "IPY_MODEL_7c7f0ad35bd940abba70af5478d1d4b5"
      }
     },
     "f9dc313306374370858d3c461b3fa8ab": {
      "model_module": "@jupyter-widgets/base",
      "model_module_version": "1.2.0",
      "model_name": "LayoutModel",
      "state": {
       "_model_module": "@jupyter-widgets/base",
       "_model_module_version": "1.2.0",
       "_model_name": "LayoutModel",
       "_view_count": null,
       "_view_module": "@jupyter-widgets/base",
       "_view_module_version": "1.2.0",
       "_view_name": "LayoutView",
       "align_content": null,
       "align_items": null,
       "align_self": "stretch",
       "border": null,
       "bottom": null,
       "display": null,
       "flex": null,
       "flex_flow": null,
       "grid_area": null,
       "grid_auto_columns": null,
       "grid_auto_flow": null,
       "grid_auto_rows": null,
       "grid_column": null,
       "grid_gap": null,
       "grid_row": null,
       "grid_template_areas": null,
       "grid_template_columns": null,
       "grid_template_rows": null,
       "height": "500px",
       "justify_content": null,
       "justify_items": null,
       "left": null,
       "margin": null,
       "max_height": null,
       "max_width": null,
       "min_height": null,
       "min_width": null,
       "object_fit": null,
       "object_position": null,
       "order": null,
       "overflow": null,
       "overflow_x": null,
       "overflow_y": null,
       "padding": null,
       "right": null,
       "top": null,
       "visibility": null,
       "width": null
      }
     },
     "ff3ae49f77a9437fb6fc5e67aef8d789": {
      "model_module": "@jupyter-widgets/base",
      "model_module_version": "1.2.0",
      "model_name": "LayoutModel",
      "state": {
       "_model_module": "@jupyter-widgets/base",
       "_model_module_version": "1.2.0",
       "_model_name": "LayoutModel",
       "_view_count": null,
       "_view_module": "@jupyter-widgets/base",
       "_view_module_version": "1.2.0",
       "_view_name": "LayoutView",
       "align_content": null,
       "align_items": null,
       "align_self": "stretch",
       "border": null,
       "bottom": null,
       "display": null,
       "flex": null,
       "flex_flow": null,
       "grid_area": null,
       "grid_auto_columns": null,
       "grid_auto_flow": null,
       "grid_auto_rows": null,
       "grid_column": null,
       "grid_gap": null,
       "grid_row": null,
       "grid_template_areas": null,
       "grid_template_columns": null,
       "grid_template_rows": null,
       "height": "500px",
       "justify_content": null,
       "justify_items": null,
       "left": null,
       "margin": null,
       "max_height": null,
       "max_width": null,
       "min_height": null,
       "min_width": null,
       "object_fit": null,
       "object_position": null,
       "order": null,
       "overflow": null,
       "overflow_x": null,
       "overflow_y": null,
       "padding": null,
       "right": null,
       "top": null,
       "visibility": null,
       "width": null
      }
     }
    },
    "version_major": 2,
    "version_minor": 0
   }
  }
 },
 "nbformat": 4,
 "nbformat_minor": 5
}
