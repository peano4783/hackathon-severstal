{
 "cells": [
  {
   "cell_type": "code",
   "execution_count": 1,
   "id": "ccfaae10",
   "metadata": {
    "execution": {
     "iopub.execute_input": "2023-05-28T20:46:51.912095Z",
     "iopub.status.busy": "2023-05-28T20:46:51.911703Z",
     "iopub.status.idle": "2023-05-28T20:46:51.949090Z",
     "shell.execute_reply": "2023-05-28T20:46:51.948100Z"
    },
    "papermill": {
     "duration": 0.048793,
     "end_time": "2023-05-28T20:46:51.952792",
     "exception": false,
     "start_time": "2023-05-28T20:46:51.903999",
     "status": "completed"
    },
    "tags": []
   },
   "outputs": [
    {
     "name": "stdout",
     "output_type": "stream",
     "text": [
      "/kaggle/input/y-train-northsteel/y_long_МАСЛООХЛАДИТЕЛЬ  М-05-1 ЭКСГ.d.csv\n",
      "/kaggle/input/y-train-northsteel/y_long_КЛ2 ТР№8 ДО ЭД ЭКСГАУСТЕРА №d.csv\n",
      "/kaggle/input/y-train-northsteel/y_long_САПФИР 22 МДД РАЗРЕЖЕНИЕ В КОЛЛЕКТОРЕ.csv\n",
      "/kaggle/input/y-train-northsteel/y_long_ВК 310С ВИБРОПРЕОБРАЗОВАТЕЛЬ ЭКСГ.d Т.2.csv\n",
      "/kaggle/input/y-train-northsteel/y_long_ЗАП. И РЕГ. АРМАТУРА ЭКСГ.d.csv\n",
      "/kaggle/input/y-train-northsteel/y_long_ЭКСГАУСТЕР Н-8000 АМ №5.csv\n",
      "/kaggle/input/y-train-northsteel/y_long_ЭЛЕКТРОДВИГАТЕЛЬ ДСПУ-140-84-4 ЭКСГ.d.csv\n",
      "/kaggle/input/y-train-northsteel/y_long_РЕДУКТОР ГАЗ. ЗАДВИЖКИ ЭКСГ.d.csv\n",
      "/kaggle/input/y-train-northsteel/y_long_КЛ1 ТР№4 ДО ЭД ЭКСГАУСТЕРА №d.csv\n",
      "/kaggle/input/y-train-northsteel/y_long_ТСМТ-101-010-50М-200 ТЕРМОПР.ПОДШ.Т.3.csv\n",
      "/kaggle/input/y-train-northsteel/y_long_ЭЛЕКТРООБОРУДОВАНИЯ ЭКСГАУСТЕРА №d.csv\n",
      "/kaggle/input/y-train-northsteel/y_long_МАСЛЯНЫЙ ФИЛЬТР ЭКСГАУСТЕРА №d.csv\n",
      "/kaggle/input/y-train-northsteel/y_long_УЛИТА ЭКСГ.d.csv\n",
      "/kaggle/input/y-train-northsteel/y_long_РЕГУЛИРУЮЩАЯ АППАРАТУРА ЭКСГАУСТЕРА №d.csv\n",
      "/kaggle/input/y-train-northsteel/y_long_ПОДШИПНИК ОПОРНЫЙ ЭКСГ.d.csv\n",
      "/kaggle/input/y-train-northsteel/y_long_ТСМТ-101-010-50М-200 ТЕРМОПР.ПОДШ.Т.4.csv\n",
      "/kaggle/input/y-train-northsteel/y_long_КЛ1 ТР№6 ДО ЭД ЭКСГАУСТЕРА №d.csv\n",
      "/kaggle/input/y-train-northsteel/y_long_ГАЗОВАЯ ЗАДВИЖКА ЭКСГ.d.csv\n",
      "/kaggle/input/y-train-northsteel/y_long_ГСМ ЭКСГ.d.csv\n",
      "/kaggle/input/y-train-northsteel/y_long_ВК 310С ВИБРОПРЕОБРАЗОВАТЕЛЬ ЭКСГ.d Т.3.csv\n",
      "/kaggle/input/y-train-northsteel/y_long_ТСМТ-101-010-50М-80 ТЕРМОПРЕОБР.МАСЛО.csv\n",
      "/kaggle/input/y-train-northsteel/y_long_КЛ2 ТР№6 ДО ЭД ЭКСГАУСТЕРА №d.csv\n",
      "/kaggle/input/y-train-northsteel/y_long_ТИРИСТОРНЫЙ ВОЗБУДИТЕЛЬ ТВ-400 ЭКСГ.d ВУ1.csv\n",
      "/kaggle/input/y-train-northsteel/y_long_КЛ1 ТР№5 ДО ЭД ЭКСГАУСТЕРА №d.csv\n",
      "/kaggle/input/y-train-northsteel/y_long_ДВИГАТЕЛЬ РЕЗЕРВНОГО МАСЛОНАСОСА ЭКСГ.d.csv\n",
      "/kaggle/input/y-train-northsteel/y_long_КЛ1 ТР№8 ДО ЭД ЭКСГАУСТЕРА №d.csv\n",
      "/kaggle/input/y-train-northsteel/y_long_МЕТРАН-100 ДАТЧИКИ ДАВЛЕНИЯ ЭКСГ.d.csv\n",
      "/kaggle/input/y-train-northsteel/y_long_ЗАДВИЖКА ЭКСГ.d.csv\n",
      "/kaggle/input/y-train-northsteel/y_long_КЛ2 ТР№5 ДО ЭД ЭКСГАУСТЕРА №d.csv\n",
      "/kaggle/input/y-train-northsteel/y_long_САПФИР 22 МДД ПЕРЕПАД ДАВЛ. НА ЦИКЛОНЕ.csv\n",
      "/kaggle/input/y-train-northsteel/y_long_ПОДШИПНИК ОПОРНЫЙ №2 ЭКСГ.d.csv\n",
      "/kaggle/input/y-train-northsteel/y_long_МАСЛОНАСОС ШЕСТЕРЕНЧАТЫЙ (РЕЗ.) ЭКСГ.d.csv\n",
      "/kaggle/input/y-train-northsteel/y_long_ПОДШИПНИК ОПОРНО-УПОРНЫЙ ЭКСГ.d.csv\n",
      "/kaggle/input/y-train-northsteel/y_long_ЗАПОРНАЯ АРМАТУРА ЭКСГАУСТЕРА №d.csv\n",
      "/kaggle/input/y-train-northsteel/y_long_КОРПУС ЭКСГ.d.csv\n",
      "/kaggle/input/y-train-northsteel/y_long_ВК 310С ВИБРОПРЕОБРАЗОВАТЕЛЬ ЭКСГ.d Т.4.csv\n",
      "/kaggle/input/y-train-northsteel/y_long_ТИРИСТОРНЫЙ ВОЗБУДИТЕЛЬ СПВД-М10-400-5.csv\n",
      "/kaggle/input/y-train-northsteel/y_long_КЛ1 ТР№9 ДО ЭД ЭКСГАУСТЕРА №d.csv\n",
      "/kaggle/input/y-train-northsteel/y_long_ЭЛДВИГАТЕЛЬ ГАЗ. ЗАДВИЖКИ ЭКСГ.d.csv\n",
      "/kaggle/input/y-train-northsteel/y_long_ДВИГАТЕЛЬ ПУСКОВОГО МАСЛОНАСОСА ЭКСГ.d.csv\n",
      "/kaggle/input/y-train-northsteel/y_long_ТИРИСТ. ВОЗБУДИТЕЛЬ ВТ-РЭМ-400 ЭКСГ.d ВУ1.csv\n",
      "/kaggle/input/y-train-northsteel/y_long_ЭКСГАУСТЕР №d.csv\n",
      "/kaggle/input/y-train-northsteel/y_long_ТР-Р ТМ-4000-106 ЭКСГ.d.csv\n",
      "/kaggle/input/y-train-northsteel/y_long_МАСЛОНАСОС РАБОЧИЙ ЭКСГ.d.csv\n",
      "/kaggle/input/y-train-northsteel/y_long_КЛ1 ТР№7 ДО ЭД ЭКСГАУСТЕРА №d.csv\n",
      "/kaggle/input/y-train-northsteel/y_long_МАСЛОБАК ЭКСГ.d.csv\n",
      "/kaggle/input/y-train-northsteel/y_long_ТИРИСТ. ВОЗБУДИТЕЛЬ ВТ-РЭМ-400 ЭКСГ.d ВУ2.csv\n",
      "/kaggle/input/y-train-northsteel/y_long_ТР-Р ТМ-6300-106 ЭКСГ.d.csv\n",
      "/kaggle/input/y-train-northsteel/y_long_МАСЛОСТАНЦИЯ ЖИДКОЙ СМАЗКИ ЭКСГ.d.csv\n",
      "/kaggle/input/y-train-northsteel/y_long_КОЖУХ МУФТЫ ЭКСГ.d.csv\n",
      "/kaggle/input/y-train-northsteel/y_long_ПОДШИПНИК ОПОРНЫЙ №1 ЭКСГ.d.csv\n",
      "/kaggle/input/y-train-northsteel/y_long_РОТОР ЭКСГ.d.csv\n",
      "/kaggle/input/y-train-northsteel/dict_long.csv\n",
      "/kaggle/input/y-train-northsteel/y_long_ТСМТ-101-010-50М-400 ТЕРМОПР.ПОДШ.Т.1.csv\n",
      "/kaggle/input/y-train-northsteel/y_long_МАСЛОПРОВОДЫ ЭКСГАУСТЕРА №d.csv\n",
      "/kaggle/input/y-train-northsteel/y_long_МАСЛОНАСОС ШЕСТЕРЕНЧАТЫЙ (ПУСК.) ЭКСГ.d.csv\n",
      "/kaggle/input/y-train-northsteel/y_long_КЛ2 ТР№4 ДО ЭД ЭКСГАУСТЕРА №d.csv\n",
      "/kaggle/input/y-train-northsteel/y_long_ВК 310С ВИБРОПРЕОБРАЗОВАТЕЛЬ ЭКСГ.d Т.1.csv\n",
      "/kaggle/input/y-train-northsteel/y_long_ТСМТ-101-010-50М-400 ТЕРМОПР.ПОДШ.Т.2.csv\n",
      "/kaggle/input/x-train-northsteel/ВИБРАЦИЯ НА ОПОРЕ 4. ПРОДОЛЬНАЯ.csv\n",
      "/kaggle/input/x-train-northsteel/ВИБРАЦИЯ НА ОПОРЕ 4.csv\n",
      "/kaggle/input/x-train-northsteel/ЭКСГАУСТЕР 9.csv\n",
      "/kaggle/input/x-train-northsteel/ЭКСГАУСТЕР 4.csv\n",
      "/kaggle/input/x-train-northsteel/ЭКСГАУСТЕР 7.csv\n",
      "/kaggle/input/x-train-northsteel/ВИБРАЦИЯ НА ОПОРЕ 3.csv\n",
      "/kaggle/input/x-train-northsteel/ВИБРАЦИЯ НА ОПОРЕ 2.csv\n",
      "/kaggle/input/x-train-northsteel/ТОК СТАТОРА.csv\n",
      "/kaggle/input/x-train-northsteel/ДАВЛЕНИЕ МАСЛА В СИСТЕМЕ.csv\n",
      "/kaggle/input/x-train-northsteel/ВИБРАЦИЯ НА ОПОРЕ 1.csv\n",
      "/kaggle/input/x-train-northsteel/ТЕМПЕРАТУРА ПОДШИПНИКА НА ОПОРЕ 3.csv\n",
      "/kaggle/input/x-train-northsteel/ТЕМПЕРАТУРА ПОДШИПНИКА НА ОПОРЕ 1.csv\n",
      "/kaggle/input/x-train-northsteel/ЭКСГАУСТЕР 6.csv\n",
      "/kaggle/input/x-train-northsteel/ТОК РОТОРА 2.csv\n",
      "/kaggle/input/x-train-northsteel/ТЕМПЕРАТУРА ПОДШИПНИКА НА ОПОРЕ 2.csv\n",
      "/kaggle/input/x-train-northsteel/ТЕМПЕРАТУРА ПОДШИПНИКА НА ОПОРЕ 4.csv\n",
      "/kaggle/input/x-train-northsteel/ЭКСГАУСТЕР 5.csv\n",
      "/kaggle/input/x-train-northsteel/ТОК РОТОРА 1.csv\n",
      "/kaggle/input/x-train-northsteel/ЭКСГАУСТЕР 8.csv\n",
      "/kaggle/input/x-train-northsteel/ВИБРАЦИЯ НА ОПОРЕ 3. ПРОДОЛЬНАЯ.csv\n",
      "/kaggle/input/x-train-northsteel/ТЕМПЕРАТУРА МАСЛА В МАСЛОБЛОКЕ.csv\n",
      "/kaggle/input/x-train-northsteel/ТЕМПЕРАТУРА МАСЛА В СИСТЕМЕ.csv\n",
      "/kaggle/input/y-train-northsteel-short/y_short_ТСМТ-101-010-50М-80 ТЕРМОПРЕОБР.МАСЛО.csv\n",
      "/kaggle/input/y-train-northsteel-short/y_short_ЗАДВИЖКА ЭКСГ.d.csv\n",
      "/kaggle/input/y-train-northsteel-short/y_short_КОРПУС ЭКСГ.d.csv\n",
      "/kaggle/input/y-train-northsteel-short/y_short_ГАЗОВАЯ ЗАДВИЖКА ЭКСГ.d.csv\n",
      "/kaggle/input/y-train-northsteel-short/y_short_ТИРИСТ. ВОЗБУДИТЕЛЬ ВТ-РЭМ-400 ЭКСГ.d.csv\n",
      "/kaggle/input/y-train-northsteel-short/y_short_КЛ2 ТР№n ДО ЭД ЭКСГАУСТЕРА №d.csv\n",
      "/kaggle/input/y-train-northsteel-short/y_short_РЕДУКТОР ГАЗ. ЗАДВИЖКИ ЭКСГ.d.csv\n",
      "/kaggle/input/y-train-northsteel-short/y_short_МАСЛОНАСОС ШЕСТЕРЕНЧАТЫЙ (РЕЗ.) ЭКСГ.d.csv\n",
      "/kaggle/input/y-train-northsteel-short/y_short_УЛИТА ЭКСГ.d.csv\n",
      "/kaggle/input/y-train-northsteel-short/y_short_ВК 310С ВИБРОПРЕОБРАЗОВАТЕЛЬ ЭКСГ.d.csv\n",
      "/kaggle/input/y-train-northsteel-short/y_short_ДВИГАТЕЛЬ РЕЗЕРВНОГО МАСЛОНАСОСА ЭКСГ.d.csv\n",
      "/kaggle/input/y-train-northsteel-short/y_short_ЗАПОРНАЯ АРМАТУРА ЭКСГАУСТЕРА №d.csv\n",
      "/kaggle/input/y-train-northsteel-short/y_short_МАСЛОНАСОС РАБОЧИЙ ЭКСГ.d.csv\n",
      "/kaggle/input/y-train-northsteel-short/y_short_МЕТРАН-100 ДАТЧИКИ ДАВЛЕНИЯ ЭКСГ.d.csv\n",
      "/kaggle/input/y-train-northsteel-short/y_short_ЭКСГАУСТЕР Н-8000 АМ №5.csv\n",
      "/kaggle/input/y-train-northsteel-short/y_short_ПОДШИПНИК ОПОРНО-УПОРНЫЙ ЭКСГ.d.csv\n",
      "/kaggle/input/y-train-northsteel-short/y_short_ПОДШИПНИК ОПОРНЫЙ ЭКСГ.d.csv\n",
      "/kaggle/input/y-train-northsteel-short/y_short_МАСЛООХЛАДИТЕЛЬ  М-05-1 ЭКСГ.d.csv\n",
      "/kaggle/input/y-train-northsteel-short/y_short_ТИРИСТОРНЫЙ ВОЗБУДИТЕЛЬ ТВ-400 ЭКСГ.d ВУ1.csv\n",
      "/kaggle/input/y-train-northsteel-short/y_short_КЛ1 ТР№n ДО ЭД ЭКСГАУСТЕРА №d.csv\n",
      "/kaggle/input/y-train-northsteel-short/y_short_ЭЛДВИГАТЕЛЬ ГАЗ. ЗАДВИЖКИ ЭКСГ.d.csv\n",
      "/kaggle/input/y-train-northsteel-short/y_short_ТСМТ-101-010-50М-200 ТЕРМОПР.ПОДШ.csv\n",
      "/kaggle/input/y-train-northsteel-short/y_short_МАСЛОБАК ЭКСГ.d.csv\n",
      "/kaggle/input/y-train-northsteel-short/y_short_ЗАП. И РЕГ. АРМАТУРА ЭКСГ.d.csv\n",
      "/kaggle/input/y-train-northsteel-short/y_short_КОЖУХ МУФТЫ ЭКСГ.d.csv\n",
      "/kaggle/input/y-train-northsteel-short/y_short_РЕГУЛИРУЮЩАЯ АППАРАТУРА ЭКСГАУСТЕРА №d.csv\n",
      "/kaggle/input/y-train-northsteel-short/y_short_МАСЛЯНЫЙ ФИЛЬТР ЭКСГАУСТЕРА №d.csv\n",
      "/kaggle/input/y-train-northsteel-short/y_short_ТР-Р ТМ-4000-106 ЭКСГ.d.csv\n",
      "/kaggle/input/y-train-northsteel-short/y_short_ЭЛЕКТРОДВИГАТЕЛЬ ДСПУ-140-84-4 ЭКСГ.d.csv\n",
      "/kaggle/input/y-train-northsteel-short/y_short_ДВИГАТЕЛЬ ПУСКОВОГО МАСЛОНАСОСА ЭКСГ.d.csv\n",
      "/kaggle/input/y-train-northsteel-short/y_short_САПФИР 22 МДД РАЗРЕЖЕНИЕ В КОЛЛЕКТОРЕ.csv\n",
      "/kaggle/input/y-train-northsteel-short/y_short_САПФИР 22 МДД ПЕРЕПАД ДАВЛ. НА ЦИКЛОНЕ.csv\n",
      "/kaggle/input/y-train-northsteel-short/y_short_МАСЛОНАСОС ШЕСТЕРЕНЧАТЫЙ (ПУСК.) ЭКСГ.d.csv\n",
      "/kaggle/input/y-train-northsteel-short/y_short_ТР-Р ТМ-6300-106 ЭКСГ.d.csv\n",
      "/kaggle/input/y-train-northsteel-short/y_short_ТСМТ-101-010-50М-400 ТЕРМОПР.ПОДШ.csv\n",
      "/kaggle/input/y-train-northsteel-short/y_short_ЭКСГАУСТЕР №d.csv\n",
      "/kaggle/input/y-train-northsteel-short/y_short_МАСЛОСТАНЦИЯ ЖИДКОЙ СМАЗКИ ЭКСГ.d.csv\n",
      "/kaggle/input/y-train-northsteel-short/y_short_ЭЛЕКТРООБОРУДОВАНИЯ ЭКСГАУСТЕРА №d.csv\n",
      "/kaggle/input/y-train-northsteel-short/dict_short.csv\n",
      "/kaggle/input/y-train-northsteel-short/y_short_ГСМ ЭКСГ.d.csv\n",
      "/kaggle/input/y-train-northsteel-short/y_short_ТИРИСТОРНЫЙ ВОЗБУДИТЕЛЬ СПВД-М10-400-5.csv\n",
      "/kaggle/input/y-train-northsteel-short/y_short_МАСЛОПРОВОДЫ ЭКСГАУСТЕРА №d.csv\n",
      "/kaggle/input/y-train-northsteel-short/y_short_РОТОР ЭКСГ.d.csv\n",
      "/kaggle/input/x-test-northsteel/ВИБРАЦИЯ НА ОПОРЕ 4. ПРОДОЛЬНАЯ.csv\n",
      "/kaggle/input/x-test-northsteel/ВИБРАЦИЯ НА ОПОРЕ 4.csv\n",
      "/kaggle/input/x-test-northsteel/ЭКСГАУСТЕР 9.csv\n",
      "/kaggle/input/x-test-northsteel/ЭКСГАУСТЕР 4.csv\n",
      "/kaggle/input/x-test-northsteel/ЭКСГАУСТЕР 7.csv\n",
      "/kaggle/input/x-test-northsteel/ВИБРАЦИЯ НА ОПОРЕ 3.csv\n",
      "/kaggle/input/x-test-northsteel/ВИБРАЦИЯ НА ОПОРЕ 2.csv\n",
      "/kaggle/input/x-test-northsteel/ТОК СТАТОРА.csv\n",
      "/kaggle/input/x-test-northsteel/ДАВЛЕНИЕ МАСЛА В СИСТЕМЕ.csv\n",
      "/kaggle/input/x-test-northsteel/ВИБРАЦИЯ НА ОПОРЕ 1.csv\n",
      "/kaggle/input/x-test-northsteel/ТЕМПЕРАТУРА ПОДШИПНИКА НА ОПОРЕ 3.csv\n",
      "/kaggle/input/x-test-northsteel/ТЕМПЕРАТУРА ПОДШИПНИКА НА ОПОРЕ 1.csv\n",
      "/kaggle/input/x-test-northsteel/ЭКСГАУСТЕР 6.csv\n",
      "/kaggle/input/x-test-northsteel/ТОК РОТОРА 2.csv\n",
      "/kaggle/input/x-test-northsteel/ТЕМПЕРАТУРА ПОДШИПНИКА НА ОПОРЕ 2.csv\n",
      "/kaggle/input/x-test-northsteel/ТЕМПЕРАТУРА ПОДШИПНИКА НА ОПОРЕ 4.csv\n",
      "/kaggle/input/x-test-northsteel/ЭКСГАУСТЕР 5.csv\n",
      "/kaggle/input/x-test-northsteel/ТОК РОТОРА 1.csv\n",
      "/kaggle/input/x-test-northsteel/ЭКСГАУСТЕР 8.csv\n",
      "/kaggle/input/x-test-northsteel/ВИБРАЦИЯ НА ОПОРЕ 3. ПРОДОЛЬНАЯ.csv\n",
      "/kaggle/input/x-test-northsteel/ТЕМПЕРАТУРА МАСЛА В МАСЛОБЛОКЕ.csv\n",
      "/kaggle/input/x-test-northsteel/ТЕМПЕРАТУРА МАСЛА В СИСТЕМЕ.csv\n",
      "/kaggle/input/y-train-northsteel-instances/y_ЭКСГАУСТЕР АМ 6.csv\n",
      "/kaggle/input/y-train-northsteel-instances/y_ЭКСГАУСТЕР АМ 7.csv\n",
      "/kaggle/input/y-train-northsteel-instances/y_ЭКСГАУСТЕР АМ 5.csv\n",
      "/kaggle/input/y-train-northsteel-instances/y_ЭКСГАУСТЕР АМ 8.csv\n",
      "/kaggle/input/y-train-northsteel-instances/y_ЭКСГАУСТЕР АМ 4.csv\n",
      "/kaggle/input/y-train-northsteel-instances/dict_short.csv\n",
      "/kaggle/input/y-train-northsteel-instances/y_ЭКСГАУСТЕР АМ 9.csv\n"
     ]
    }
   ],
   "source": [
    "# This Python 3 environment comes with many helpful analytics libraries installed\n",
    "# It is defined by the kaggle/python Docker image: https://github.com/kaggle/docker-python\n",
    "# For example, here's several helpful packages to load\n",
    "\n",
    "import numpy as np # linear algebra\n",
    "import pandas as pd # data processing, CSV file I/O (e.g. pd.read_csv)\n",
    "\n",
    "# Input data files are available in the read-only \"../input/\" directory\n",
    "# For example, running this (by clicking run or pressing Shift+Enter) will list all files under the input directory\n",
    "\n",
    "import os\n",
    "for dirname, _, filenames in os.walk('/kaggle/input'):\n",
    "    for filename in filenames:\n",
    "        print(os.path.join(dirname, filename))\n",
    "\n",
    "# You can write up to 20GB to the current directory (/kaggle/working/) that gets preserved as output when you create a version using \"Save & Run All\" \n",
    "# You can also write temporary files to /kaggle/temp/, but they won't be saved outside of the current session"
   ]
  },
  {
   "cell_type": "code",
   "execution_count": 2,
   "id": "ab71fbfc",
   "metadata": {
    "execution": {
     "iopub.execute_input": "2023-05-28T20:46:51.966371Z",
     "iopub.status.busy": "2023-05-28T20:46:51.965915Z",
     "iopub.status.idle": "2023-05-28T20:47:20.961071Z",
     "shell.execute_reply": "2023-05-28T20:47:20.959892Z"
    },
    "papermill": {
     "duration": 29.005688,
     "end_time": "2023-05-28T20:47:20.964135",
     "exception": false,
     "start_time": "2023-05-28T20:46:51.958447",
     "status": "completed"
    },
    "tags": []
   },
   "outputs": [],
   "source": [
    "X_train = pd.read_csv(\"/kaggle/input/x-train-northsteel/ЭКСГАУСТЕР 4.csv\",parse_dates=True)\n"
   ]
  },
  {
   "cell_type": "code",
   "execution_count": 3,
   "id": "9fa54333",
   "metadata": {
    "execution": {
     "iopub.execute_input": "2023-05-28T20:47:20.977549Z",
     "iopub.status.busy": "2023-05-28T20:47:20.976410Z",
     "iopub.status.idle": "2023-05-28T20:48:04.125485Z",
     "shell.execute_reply": "2023-05-28T20:48:04.124354Z"
    },
    "papermill": {
     "duration": 43.164142,
     "end_time": "2023-05-28T20:48:04.133807",
     "exception": false,
     "start_time": "2023-05-28T20:47:20.969665",
     "status": "completed"
    },
    "tags": []
   },
   "outputs": [
    {
     "data": {
      "text/html": [
       "<div>\n",
       "<style scoped>\n",
       "    .dataframe tbody tr th:only-of-type {\n",
       "        vertical-align: middle;\n",
       "    }\n",
       "\n",
       "    .dataframe tbody tr th {\n",
       "        vertical-align: top;\n",
       "    }\n",
       "\n",
       "    .dataframe thead th {\n",
       "        text-align: right;\n",
       "    }\n",
       "</style>\n",
       "<table border=\"1\" class=\"dataframe\">\n",
       "  <thead>\n",
       "    <tr style=\"text-align: right;\">\n",
       "      <th></th>\n",
       "      <th>ТОК РОТОРА 1</th>\n",
       "      <th>ТОК РОТОРА 2</th>\n",
       "      <th>ТОК СТАТОРА</th>\n",
       "      <th>ВИБРАЦИЯ НА ОПОРЕ 1</th>\n",
       "      <th>ВИБРАЦИЯ НА ОПОРЕ 2</th>\n",
       "      <th>ВИБРАЦИЯ НА ОПОРЕ 3</th>\n",
       "      <th>ВИБРАЦИЯ НА ОПОРЕ 3. ПРОДОЛЬНАЯ</th>\n",
       "      <th>ВИБРАЦИЯ НА ОПОРЕ 4</th>\n",
       "      <th>ВИБРАЦИЯ НА ОПОРЕ 4. ПРОДОЛЬНАЯ</th>\n",
       "      <th>ТЕМПЕРАТУРА ПОДШИПНИКА НА ОПОРЕ 1</th>\n",
       "      <th>ТЕМПЕРАТУРА ПОДШИПНИКА НА ОПОРЕ 2</th>\n",
       "      <th>ТЕМПЕРАТУРА ПОДШИПНИКА НА ОПОРЕ 3</th>\n",
       "      <th>ТЕМПЕРАТУРА ПОДШИПНИКА НА ОПОРЕ 4</th>\n",
       "      <th>ТЕМПЕРАТУРА МАСЛА В МАСЛОБЛОКЕ</th>\n",
       "      <th>ТЕМПЕРАТУРА МАСЛА В СИСТЕМЕ</th>\n",
       "      <th>ДАВЛЕНИЕ МАСЛА В СИСТЕМЕ</th>\n",
       "    </tr>\n",
       "    <tr>\n",
       "      <th>DT</th>\n",
       "      <th></th>\n",
       "      <th></th>\n",
       "      <th></th>\n",
       "      <th></th>\n",
       "      <th></th>\n",
       "      <th></th>\n",
       "      <th></th>\n",
       "      <th></th>\n",
       "      <th></th>\n",
       "      <th></th>\n",
       "      <th></th>\n",
       "      <th></th>\n",
       "      <th></th>\n",
       "      <th></th>\n",
       "      <th></th>\n",
       "      <th></th>\n",
       "    </tr>\n",
       "  </thead>\n",
       "  <tbody>\n",
       "    <tr>\n",
       "      <th>2019-01-16 13:21:00</th>\n",
       "      <td>363.676667</td>\n",
       "      <td>363.676667</td>\n",
       "      <td>244.078000</td>\n",
       "      <td>1.600000</td>\n",
       "      <td>0.760000</td>\n",
       "      <td>0.670000</td>\n",
       "      <td>1.630000</td>\n",
       "      <td>3.450000</td>\n",
       "      <td>0.740000</td>\n",
       "      <td>41.370000</td>\n",
       "      <td>39.750000</td>\n",
       "      <td>39.750000</td>\n",
       "      <td>44.538548</td>\n",
       "      <td>40.560000</td>\n",
       "      <td>33.260000</td>\n",
       "      <td>119.385000</td>\n",
       "    </tr>\n",
       "    <tr>\n",
       "      <th>2019-01-16 13:21:10</th>\n",
       "      <td>363.103333</td>\n",
       "      <td>363.103333</td>\n",
       "      <td>243.032500</td>\n",
       "      <td>1.572917</td>\n",
       "      <td>0.751736</td>\n",
       "      <td>0.642361</td>\n",
       "      <td>1.558160</td>\n",
       "      <td>3.470000</td>\n",
       "      <td>0.734375</td>\n",
       "      <td>41.374596</td>\n",
       "      <td>39.752083</td>\n",
       "      <td>39.995457</td>\n",
       "      <td>44.863054</td>\n",
       "      <td>40.401081</td>\n",
       "      <td>33.343074</td>\n",
       "      <td>119.444440</td>\n",
       "    </tr>\n",
       "    <tr>\n",
       "      <th>2019-01-16 13:21:20</th>\n",
       "      <td>363.266667</td>\n",
       "      <td>363.266667</td>\n",
       "      <td>242.940000</td>\n",
       "      <td>1.553819</td>\n",
       "      <td>0.735918</td>\n",
       "      <td>0.638503</td>\n",
       "      <td>1.581790</td>\n",
       "      <td>2.900000</td>\n",
       "      <td>0.748457</td>\n",
       "      <td>41.374596</td>\n",
       "      <td>39.752083</td>\n",
       "      <td>39.932360</td>\n",
       "      <td>44.799956</td>\n",
       "      <td>40.383053</td>\n",
       "      <td>33.261948</td>\n",
       "      <td>119.330000</td>\n",
       "    </tr>\n",
       "    <tr>\n",
       "      <th>2019-01-16 13:21:30</th>\n",
       "      <td>363.414372</td>\n",
       "      <td>363.414372</td>\n",
       "      <td>243.836802</td>\n",
       "      <td>1.546007</td>\n",
       "      <td>0.736979</td>\n",
       "      <td>0.653646</td>\n",
       "      <td>1.657986</td>\n",
       "      <td>3.297743</td>\n",
       "      <td>0.730903</td>\n",
       "      <td>41.374596</td>\n",
       "      <td>39.752083</td>\n",
       "      <td>39.833208</td>\n",
       "      <td>44.781928</td>\n",
       "      <td>40.563330</td>\n",
       "      <td>33.586453</td>\n",
       "      <td>119.398146</td>\n",
       "    </tr>\n",
       "    <tr>\n",
       "      <th>2019-01-16 13:21:40</th>\n",
       "      <td>363.103333</td>\n",
       "      <td>363.103333</td>\n",
       "      <td>242.050000</td>\n",
       "      <td>1.545139</td>\n",
       "      <td>0.742188</td>\n",
       "      <td>0.677083</td>\n",
       "      <td>1.740000</td>\n",
       "      <td>2.990000</td>\n",
       "      <td>0.739583</td>\n",
       "      <td>41.536849</td>\n",
       "      <td>39.752083</td>\n",
       "      <td>39.752083</td>\n",
       "      <td>43.810000</td>\n",
       "      <td>39.750000</td>\n",
       "      <td>33.505327</td>\n",
       "      <td>119.326667</td>\n",
       "    </tr>\n",
       "    <tr>\n",
       "      <th>...</th>\n",
       "      <td>...</td>\n",
       "      <td>...</td>\n",
       "      <td>...</td>\n",
       "      <td>...</td>\n",
       "      <td>...</td>\n",
       "      <td>...</td>\n",
       "      <td>...</td>\n",
       "      <td>...</td>\n",
       "      <td>...</td>\n",
       "      <td>...</td>\n",
       "      <td>...</td>\n",
       "      <td>...</td>\n",
       "      <td>...</td>\n",
       "      <td>...</td>\n",
       "      <td>...</td>\n",
       "      <td>...</td>\n",
       "    </tr>\n",
       "    <tr>\n",
       "      <th>2021-04-29 20:17:50</th>\n",
       "      <td>227.802000</td>\n",
       "      <td>227.802000</td>\n",
       "      <td>256.457000</td>\n",
       "      <td>0.691667</td>\n",
       "      <td>0.422857</td>\n",
       "      <td>0.824444</td>\n",
       "      <td>1.900000</td>\n",
       "      <td>0.802222</td>\n",
       "      <td>0.810000</td>\n",
       "      <td>38.670000</td>\n",
       "      <td>36.915000</td>\n",
       "      <td>29.615000</td>\n",
       "      <td>32.045000</td>\n",
       "      <td>32.045000</td>\n",
       "      <td>28.800000</td>\n",
       "      <td>143.218000</td>\n",
       "    </tr>\n",
       "    <tr>\n",
       "      <th>2021-06-18 01:21:30</th>\n",
       "      <td>243.908000</td>\n",
       "      <td>243.908000</td>\n",
       "      <td>262.240000</td>\n",
       "      <td>1.410000</td>\n",
       "      <td>1.122000</td>\n",
       "      <td>2.508000</td>\n",
       "      <td>6.800000</td>\n",
       "      <td>1.262000</td>\n",
       "      <td>2.678000</td>\n",
       "      <td>44.080000</td>\n",
       "      <td>47.455000</td>\n",
       "      <td>40.560000</td>\n",
       "      <td>41.780000</td>\n",
       "      <td>43.000000</td>\n",
       "      <td>40.290000</td>\n",
       "      <td>119.744000</td>\n",
       "    </tr>\n",
       "    <tr>\n",
       "      <th>2021-06-21 19:43:00</th>\n",
       "      <td>243.866667</td>\n",
       "      <td>243.866667</td>\n",
       "      <td>248.206667</td>\n",
       "      <td>0.983333</td>\n",
       "      <td>0.910000</td>\n",
       "      <td>2.290000</td>\n",
       "      <td>5.083333</td>\n",
       "      <td>1.353333</td>\n",
       "      <td>2.223333</td>\n",
       "      <td>46.645000</td>\n",
       "      <td>49.085000</td>\n",
       "      <td>45.970000</td>\n",
       "      <td>45.700000</td>\n",
       "      <td>47.455000</td>\n",
       "      <td>48.270000</td>\n",
       "      <td>113.846667</td>\n",
       "    </tr>\n",
       "    <tr>\n",
       "      <th>2021-07-01 23:41:10</th>\n",
       "      <td>244.760000</td>\n",
       "      <td>244.760000</td>\n",
       "      <td>266.060000</td>\n",
       "      <td>0.816000</td>\n",
       "      <td>0.426667</td>\n",
       "      <td>0.149000</td>\n",
       "      <td>0.640000</td>\n",
       "      <td>1.203000</td>\n",
       "      <td>0.270000</td>\n",
       "      <td>49.895000</td>\n",
       "      <td>49.760000</td>\n",
       "      <td>37.680000</td>\n",
       "      <td>41.167500</td>\n",
       "      <td>39.345000</td>\n",
       "      <td>36.186000</td>\n",
       "      <td>152.590000</td>\n",
       "    </tr>\n",
       "    <tr>\n",
       "      <th>2021-09-17 14:14:30</th>\n",
       "      <td>247.005000</td>\n",
       "      <td>247.005000</td>\n",
       "      <td>274.508333</td>\n",
       "      <td>0.346667</td>\n",
       "      <td>1.013333</td>\n",
       "      <td>1.536667</td>\n",
       "      <td>3.618333</td>\n",
       "      <td>2.110000</td>\n",
       "      <td>1.923333</td>\n",
       "      <td>49.760000</td>\n",
       "      <td>44.620000</td>\n",
       "      <td>39.480000</td>\n",
       "      <td>40.290000</td>\n",
       "      <td>39.345000</td>\n",
       "      <td>33.260000</td>\n",
       "      <td>164.408333</td>\n",
       "    </tr>\n",
       "  </tbody>\n",
       "</table>\n",
       "<p>4755649 rows × 16 columns</p>\n",
       "</div>"
      ],
      "text/plain": [
       "                     ТОК РОТОРА 1  ТОК РОТОРА 2  ТОК СТАТОРА  \\\n",
       "DT                                                             \n",
       "2019-01-16 13:21:00    363.676667    363.676667   244.078000   \n",
       "2019-01-16 13:21:10    363.103333    363.103333   243.032500   \n",
       "2019-01-16 13:21:20    363.266667    363.266667   242.940000   \n",
       "2019-01-16 13:21:30    363.414372    363.414372   243.836802   \n",
       "2019-01-16 13:21:40    363.103333    363.103333   242.050000   \n",
       "...                           ...           ...          ...   \n",
       "2021-04-29 20:17:50    227.802000    227.802000   256.457000   \n",
       "2021-06-18 01:21:30    243.908000    243.908000   262.240000   \n",
       "2021-06-21 19:43:00    243.866667    243.866667   248.206667   \n",
       "2021-07-01 23:41:10    244.760000    244.760000   266.060000   \n",
       "2021-09-17 14:14:30    247.005000    247.005000   274.508333   \n",
       "\n",
       "                     ВИБРАЦИЯ НА ОПОРЕ 1  ВИБРАЦИЯ НА ОПОРЕ 2  \\\n",
       "DT                                                              \n",
       "2019-01-16 13:21:00             1.600000             0.760000   \n",
       "2019-01-16 13:21:10             1.572917             0.751736   \n",
       "2019-01-16 13:21:20             1.553819             0.735918   \n",
       "2019-01-16 13:21:30             1.546007             0.736979   \n",
       "2019-01-16 13:21:40             1.545139             0.742188   \n",
       "...                                  ...                  ...   \n",
       "2021-04-29 20:17:50             0.691667             0.422857   \n",
       "2021-06-18 01:21:30             1.410000             1.122000   \n",
       "2021-06-21 19:43:00             0.983333             0.910000   \n",
       "2021-07-01 23:41:10             0.816000             0.426667   \n",
       "2021-09-17 14:14:30             0.346667             1.013333   \n",
       "\n",
       "                     ВИБРАЦИЯ НА ОПОРЕ 3  ВИБРАЦИЯ НА ОПОРЕ 3. ПРОДОЛЬНАЯ  \\\n",
       "DT                                                                          \n",
       "2019-01-16 13:21:00             0.670000                         1.630000   \n",
       "2019-01-16 13:21:10             0.642361                         1.558160   \n",
       "2019-01-16 13:21:20             0.638503                         1.581790   \n",
       "2019-01-16 13:21:30             0.653646                         1.657986   \n",
       "2019-01-16 13:21:40             0.677083                         1.740000   \n",
       "...                                  ...                              ...   \n",
       "2021-04-29 20:17:50             0.824444                         1.900000   \n",
       "2021-06-18 01:21:30             2.508000                         6.800000   \n",
       "2021-06-21 19:43:00             2.290000                         5.083333   \n",
       "2021-07-01 23:41:10             0.149000                         0.640000   \n",
       "2021-09-17 14:14:30             1.536667                         3.618333   \n",
       "\n",
       "                     ВИБРАЦИЯ НА ОПОРЕ 4  ВИБРАЦИЯ НА ОПОРЕ 4. ПРОДОЛЬНАЯ  \\\n",
       "DT                                                                          \n",
       "2019-01-16 13:21:00             3.450000                         0.740000   \n",
       "2019-01-16 13:21:10             3.470000                         0.734375   \n",
       "2019-01-16 13:21:20             2.900000                         0.748457   \n",
       "2019-01-16 13:21:30             3.297743                         0.730903   \n",
       "2019-01-16 13:21:40             2.990000                         0.739583   \n",
       "...                                  ...                              ...   \n",
       "2021-04-29 20:17:50             0.802222                         0.810000   \n",
       "2021-06-18 01:21:30             1.262000                         2.678000   \n",
       "2021-06-21 19:43:00             1.353333                         2.223333   \n",
       "2021-07-01 23:41:10             1.203000                         0.270000   \n",
       "2021-09-17 14:14:30             2.110000                         1.923333   \n",
       "\n",
       "                     ТЕМПЕРАТУРА ПОДШИПНИКА НА ОПОРЕ 1  \\\n",
       "DT                                                       \n",
       "2019-01-16 13:21:00                          41.370000   \n",
       "2019-01-16 13:21:10                          41.374596   \n",
       "2019-01-16 13:21:20                          41.374596   \n",
       "2019-01-16 13:21:30                          41.374596   \n",
       "2019-01-16 13:21:40                          41.536849   \n",
       "...                                                ...   \n",
       "2021-04-29 20:17:50                          38.670000   \n",
       "2021-06-18 01:21:30                          44.080000   \n",
       "2021-06-21 19:43:00                          46.645000   \n",
       "2021-07-01 23:41:10                          49.895000   \n",
       "2021-09-17 14:14:30                          49.760000   \n",
       "\n",
       "                     ТЕМПЕРАТУРА ПОДШИПНИКА НА ОПОРЕ 2  \\\n",
       "DT                                                       \n",
       "2019-01-16 13:21:00                          39.750000   \n",
       "2019-01-16 13:21:10                          39.752083   \n",
       "2019-01-16 13:21:20                          39.752083   \n",
       "2019-01-16 13:21:30                          39.752083   \n",
       "2019-01-16 13:21:40                          39.752083   \n",
       "...                                                ...   \n",
       "2021-04-29 20:17:50                          36.915000   \n",
       "2021-06-18 01:21:30                          47.455000   \n",
       "2021-06-21 19:43:00                          49.085000   \n",
       "2021-07-01 23:41:10                          49.760000   \n",
       "2021-09-17 14:14:30                          44.620000   \n",
       "\n",
       "                     ТЕМПЕРАТУРА ПОДШИПНИКА НА ОПОРЕ 3  \\\n",
       "DT                                                       \n",
       "2019-01-16 13:21:00                          39.750000   \n",
       "2019-01-16 13:21:10                          39.995457   \n",
       "2019-01-16 13:21:20                          39.932360   \n",
       "2019-01-16 13:21:30                          39.833208   \n",
       "2019-01-16 13:21:40                          39.752083   \n",
       "...                                                ...   \n",
       "2021-04-29 20:17:50                          29.615000   \n",
       "2021-06-18 01:21:30                          40.560000   \n",
       "2021-06-21 19:43:00                          45.970000   \n",
       "2021-07-01 23:41:10                          37.680000   \n",
       "2021-09-17 14:14:30                          39.480000   \n",
       "\n",
       "                     ТЕМПЕРАТУРА ПОДШИПНИКА НА ОПОРЕ 4  \\\n",
       "DT                                                       \n",
       "2019-01-16 13:21:00                          44.538548   \n",
       "2019-01-16 13:21:10                          44.863054   \n",
       "2019-01-16 13:21:20                          44.799956   \n",
       "2019-01-16 13:21:30                          44.781928   \n",
       "2019-01-16 13:21:40                          43.810000   \n",
       "...                                                ...   \n",
       "2021-04-29 20:17:50                          32.045000   \n",
       "2021-06-18 01:21:30                          41.780000   \n",
       "2021-06-21 19:43:00                          45.700000   \n",
       "2021-07-01 23:41:10                          41.167500   \n",
       "2021-09-17 14:14:30                          40.290000   \n",
       "\n",
       "                     ТЕМПЕРАТУРА МАСЛА В МАСЛОБЛОКЕ  \\\n",
       "DT                                                    \n",
       "2019-01-16 13:21:00                       40.560000   \n",
       "2019-01-16 13:21:10                       40.401081   \n",
       "2019-01-16 13:21:20                       40.383053   \n",
       "2019-01-16 13:21:30                       40.563330   \n",
       "2019-01-16 13:21:40                       39.750000   \n",
       "...                                             ...   \n",
       "2021-04-29 20:17:50                       32.045000   \n",
       "2021-06-18 01:21:30                       43.000000   \n",
       "2021-06-21 19:43:00                       47.455000   \n",
       "2021-07-01 23:41:10                       39.345000   \n",
       "2021-09-17 14:14:30                       39.345000   \n",
       "\n",
       "                     ТЕМПЕРАТУРА МАСЛА В СИСТЕМЕ  ДАВЛЕНИЕ МАСЛА В СИСТЕМЕ  \n",
       "DT                                                                          \n",
       "2019-01-16 13:21:00                    33.260000                119.385000  \n",
       "2019-01-16 13:21:10                    33.343074                119.444440  \n",
       "2019-01-16 13:21:20                    33.261948                119.330000  \n",
       "2019-01-16 13:21:30                    33.586453                119.398146  \n",
       "2019-01-16 13:21:40                    33.505327                119.326667  \n",
       "...                                          ...                       ...  \n",
       "2021-04-29 20:17:50                    28.800000                143.218000  \n",
       "2021-06-18 01:21:30                    40.290000                119.744000  \n",
       "2021-06-21 19:43:00                    48.270000                113.846667  \n",
       "2021-07-01 23:41:10                    36.186000                152.590000  \n",
       "2021-09-17 14:14:30                    33.260000                164.408333  \n",
       "\n",
       "[4755649 rows x 16 columns]"
      ]
     },
     "execution_count": 3,
     "metadata": {},
     "output_type": "execute_result"
    }
   ],
   "source": [
    "import re\n",
    "\n",
    "def reduced(x):\n",
    "    answer = re.sub(r\"ЭКСГАУСТЕР\\s?\\n?№\\d+.\", \"\", x).strip()\n",
    "    answer = re.sub(r\"ЭКСГАУСТЕР\\s?\\n?\\d+.\", \"\", x).strip()\n",
    "    return answer\n",
    "\n",
    "\n",
    "if \"DT\" in X_train.columns:\n",
    "    X_train = X_train.set_index(\"DT\")\n",
    "for col in X_train.columns:\n",
    "    X_train = X_train.rename(columns={col: reduced(col).strip()})\n",
    "X_train = X_train[[\"ТОК РОТОРА 1\",\"ТОК РОТОРА 2\",\"ТОК СТАТОРА\",\n",
    "                   \"ВИБРАЦИЯ НА ОПОРЕ 1\",\"ВИБРАЦИЯ НА ОПОРЕ 2\",\n",
    "                   \"ВИБРАЦИЯ НА ОПОРЕ 3\",\"ВИБРАЦИЯ НА ОПОРЕ 3. ПРОДОЛЬНАЯ\",\n",
    "                   \"ВИБРАЦИЯ НА ОПОРЕ 4\",\"ВИБРАЦИЯ НА ОПОРЕ 4. ПРОДОЛЬНАЯ\",\n",
    "                   \"ТЕМПЕРАТУРА ПОДШИПНИКА НА ОПОРЕ 1\",\n",
    "                   \"ТЕМПЕРАТУРА ПОДШИПНИКА НА ОПОРЕ 2\",\n",
    "                   \"ТЕМПЕРАТУРА ПОДШИПНИКА НА ОПОРЕ 3\",\n",
    "                   \"ТЕМПЕРАТУРА ПОДШИПНИКА НА ОПОРЕ 4\",\n",
    "                   \"ТЕМПЕРАТУРА МАСЛА В МАСЛОБЛОКЕ\",\n",
    "                   \"ТЕМПЕРАТУРА МАСЛА В СИСТЕМЕ\",\n",
    "                   \"ДАВЛЕНИЕ МАСЛА В СИСТЕМЕ\"]]\n",
    "for i,x in enumerate(X_train.index.values):\n",
    "    X_train.index.values[i] = pd.Timestamp(X_train.index.values[i])\n",
    "X_train"
   ]
  },
  {
   "cell_type": "code",
   "execution_count": 4,
   "id": "eb75c795",
   "metadata": {
    "execution": {
     "iopub.execute_input": "2023-05-28T20:48:04.147646Z",
     "iopub.status.busy": "2023-05-28T20:48:04.147229Z",
     "iopub.status.idle": "2023-05-28T20:48:49.054680Z",
     "shell.execute_reply": "2023-05-28T20:48:49.053565Z"
    },
    "papermill": {
     "duration": 44.925094,
     "end_time": "2023-05-28T20:48:49.064924",
     "exception": false,
     "start_time": "2023-05-28T20:48:04.139830",
     "status": "completed"
    },
    "tags": []
   },
   "outputs": [
    {
     "data": {
      "text/html": [
       "<div>\n",
       "<style scoped>\n",
       "    .dataframe tbody tr th:only-of-type {\n",
       "        vertical-align: middle;\n",
       "    }\n",
       "\n",
       "    .dataframe tbody tr th {\n",
       "        vertical-align: top;\n",
       "    }\n",
       "\n",
       "    .dataframe thead th {\n",
       "        text-align: right;\n",
       "    }\n",
       "</style>\n",
       "<table border=\"1\" class=\"dataframe\">\n",
       "  <thead>\n",
       "    <tr style=\"text-align: right;\">\n",
       "      <th></th>\n",
       "      <th>Y_ЭКСГАУСТЕР А/М №4_ЭЛЕКТРОДВИГАТЕЛЬ ДСПУ-140-84-4 ЭКСГ. №4</th>\n",
       "      <th>Y_ЭКСГАУСТЕР А/М №4_ПОДШИПНИК ОПОРНЫЙ ЭКСГ. №4</th>\n",
       "      <th>Y_ЭКСГАУСТЕР А/М №4_УЛИТА ЭКСГ. №4</th>\n",
       "      <th>Y_ЭКСГАУСТЕР А/М №4_РЕДУКТОР ГАЗ. ЗАДВИЖКИ ЭКСГ. №4</th>\n",
       "      <th>Y_ЭКСГАУСТЕР А/М №4_МАСЛОНАСОС РАБОЧИЙ ЭКСГ. №4</th>\n",
       "      <th>Y_ЭКСГАУСТЕР А/М №4_ЭЛЕКТРОАППАРАТУРА ЭКСГ. №4</th>\n",
       "      <th>Y_ЭКСГАУСТЕР А/М №4_ПОДШИПНИК ОПОРНЫЙ №2 ЭКСГ. №4</th>\n",
       "      <th>Y_ЭКСГАУСТЕР А/М №4_ЗАДВИЖКА ЭКСГ. №4</th>\n",
       "      <th>Y_ЭКСГАУСТЕР А/М №4_ГСМ ЭКСГ. №4</th>\n",
       "      <th>Y_ЭКСГАУСТЕР А/М №4_ВК 310С ВИБРОПРЕОБРАЗОВАТЕЛЬ ЭКСГ.№4 Т.1</th>\n",
       "      <th>...</th>\n",
       "      <th>Y_ЭКСГАУСТЕР А/М №4_ПОДШИПНИК ОПОРНО-УПОРНЫЙ ЭКСГ. №4</th>\n",
       "      <th>Y_ЭКСГАУСТЕР А/М №4_ЭКСГАУСТЕР А/М №4</th>\n",
       "      <th>Y_ЭКСГАУСТЕР А/М №4_ЗАП. И РЕГ. АРМАТУРА ЭКСГ.№4</th>\n",
       "      <th>Y_ЭКСГАУСТЕР А/М №4_ПОДШИПНИК ОПОРНЫЙ №1 ЭКСГ. №4</th>\n",
       "      <th>Y_ЭКСГАУСТЕР А/М №4_ЭЛ/ДВИГАТЕЛЬ ГАЗ. ЗАДВИЖКИ ЭКСГ. №4</th>\n",
       "      <th>Y_ЭКСГАУСТЕР А/М №4_КЛ1 ТР№4 ДО ЭД ЭКСГАУСТЕРА №4</th>\n",
       "      <th>Y_ЭКСГАУСТЕР А/М №4_КЛ2 ТР№4 ДО ЭД ЭКСГАУСТЕРА №4</th>\n",
       "      <th>Y_ЭКСГАУСТЕР А/М №4_ТР-Р ТМ-4000-10/6 ЭКСГ. №4</th>\n",
       "      <th>Y_ЭКСГАУСТЕР А/М №4_ТИРИСТ. ВОЗБУДИТЕЛЬ ВТ-РЭМ-400 ЭКСГ4 ВУ1</th>\n",
       "      <th>Y_ЭКСГАУСТЕР А/М №4_МАСЛОПРОВОДЫ ЭКСГ №4</th>\n",
       "    </tr>\n",
       "    <tr>\n",
       "      <th>DT</th>\n",
       "      <th></th>\n",
       "      <th></th>\n",
       "      <th></th>\n",
       "      <th></th>\n",
       "      <th></th>\n",
       "      <th></th>\n",
       "      <th></th>\n",
       "      <th></th>\n",
       "      <th></th>\n",
       "      <th></th>\n",
       "      <th></th>\n",
       "      <th></th>\n",
       "      <th></th>\n",
       "      <th></th>\n",
       "      <th></th>\n",
       "      <th></th>\n",
       "      <th></th>\n",
       "      <th></th>\n",
       "      <th></th>\n",
       "      <th></th>\n",
       "      <th></th>\n",
       "    </tr>\n",
       "  </thead>\n",
       "  <tbody>\n",
       "    <tr>\n",
       "      <th>2019-01-16 13:21:00</th>\n",
       "      <td>0.0</td>\n",
       "      <td>0.0</td>\n",
       "      <td>0.0</td>\n",
       "      <td>0.0</td>\n",
       "      <td>0.0</td>\n",
       "      <td>0.0</td>\n",
       "      <td>0.0</td>\n",
       "      <td>0.0</td>\n",
       "      <td>0.0</td>\n",
       "      <td>0.0</td>\n",
       "      <td>...</td>\n",
       "      <td>0.0</td>\n",
       "      <td>0.0</td>\n",
       "      <td>0.0</td>\n",
       "      <td>0.0</td>\n",
       "      <td>0.0</td>\n",
       "      <td>0.0</td>\n",
       "      <td>0.0</td>\n",
       "      <td>0.0</td>\n",
       "      <td>0.0</td>\n",
       "      <td>0.0</td>\n",
       "    </tr>\n",
       "    <tr>\n",
       "      <th>2019-01-16 13:21:10</th>\n",
       "      <td>0.0</td>\n",
       "      <td>0.0</td>\n",
       "      <td>0.0</td>\n",
       "      <td>0.0</td>\n",
       "      <td>0.0</td>\n",
       "      <td>0.0</td>\n",
       "      <td>0.0</td>\n",
       "      <td>0.0</td>\n",
       "      <td>0.0</td>\n",
       "      <td>0.0</td>\n",
       "      <td>...</td>\n",
       "      <td>0.0</td>\n",
       "      <td>0.0</td>\n",
       "      <td>0.0</td>\n",
       "      <td>0.0</td>\n",
       "      <td>0.0</td>\n",
       "      <td>0.0</td>\n",
       "      <td>0.0</td>\n",
       "      <td>0.0</td>\n",
       "      <td>0.0</td>\n",
       "      <td>0.0</td>\n",
       "    </tr>\n",
       "    <tr>\n",
       "      <th>2019-01-16 13:21:20</th>\n",
       "      <td>0.0</td>\n",
       "      <td>0.0</td>\n",
       "      <td>0.0</td>\n",
       "      <td>0.0</td>\n",
       "      <td>0.0</td>\n",
       "      <td>0.0</td>\n",
       "      <td>0.0</td>\n",
       "      <td>0.0</td>\n",
       "      <td>0.0</td>\n",
       "      <td>0.0</td>\n",
       "      <td>...</td>\n",
       "      <td>0.0</td>\n",
       "      <td>0.0</td>\n",
       "      <td>0.0</td>\n",
       "      <td>0.0</td>\n",
       "      <td>0.0</td>\n",
       "      <td>0.0</td>\n",
       "      <td>0.0</td>\n",
       "      <td>0.0</td>\n",
       "      <td>0.0</td>\n",
       "      <td>0.0</td>\n",
       "    </tr>\n",
       "    <tr>\n",
       "      <th>2019-01-16 13:21:30</th>\n",
       "      <td>0.0</td>\n",
       "      <td>0.0</td>\n",
       "      <td>0.0</td>\n",
       "      <td>0.0</td>\n",
       "      <td>0.0</td>\n",
       "      <td>0.0</td>\n",
       "      <td>0.0</td>\n",
       "      <td>0.0</td>\n",
       "      <td>0.0</td>\n",
       "      <td>0.0</td>\n",
       "      <td>...</td>\n",
       "      <td>0.0</td>\n",
       "      <td>0.0</td>\n",
       "      <td>0.0</td>\n",
       "      <td>0.0</td>\n",
       "      <td>0.0</td>\n",
       "      <td>0.0</td>\n",
       "      <td>0.0</td>\n",
       "      <td>0.0</td>\n",
       "      <td>0.0</td>\n",
       "      <td>0.0</td>\n",
       "    </tr>\n",
       "    <tr>\n",
       "      <th>2019-01-16 13:21:40</th>\n",
       "      <td>0.0</td>\n",
       "      <td>0.0</td>\n",
       "      <td>0.0</td>\n",
       "      <td>0.0</td>\n",
       "      <td>0.0</td>\n",
       "      <td>0.0</td>\n",
       "      <td>0.0</td>\n",
       "      <td>0.0</td>\n",
       "      <td>0.0</td>\n",
       "      <td>0.0</td>\n",
       "      <td>...</td>\n",
       "      <td>0.0</td>\n",
       "      <td>0.0</td>\n",
       "      <td>0.0</td>\n",
       "      <td>0.0</td>\n",
       "      <td>0.0</td>\n",
       "      <td>0.0</td>\n",
       "      <td>0.0</td>\n",
       "      <td>0.0</td>\n",
       "      <td>0.0</td>\n",
       "      <td>0.0</td>\n",
       "    </tr>\n",
       "    <tr>\n",
       "      <th>...</th>\n",
       "      <td>...</td>\n",
       "      <td>...</td>\n",
       "      <td>...</td>\n",
       "      <td>...</td>\n",
       "      <td>...</td>\n",
       "      <td>...</td>\n",
       "      <td>...</td>\n",
       "      <td>...</td>\n",
       "      <td>...</td>\n",
       "      <td>...</td>\n",
       "      <td>...</td>\n",
       "      <td>...</td>\n",
       "      <td>...</td>\n",
       "      <td>...</td>\n",
       "      <td>...</td>\n",
       "      <td>...</td>\n",
       "      <td>...</td>\n",
       "      <td>...</td>\n",
       "      <td>...</td>\n",
       "      <td>...</td>\n",
       "      <td>...</td>\n",
       "    </tr>\n",
       "    <tr>\n",
       "      <th>2021-12-31 23:59:10</th>\n",
       "      <td>2.0</td>\n",
       "      <td>2.0</td>\n",
       "      <td>2.0</td>\n",
       "      <td>0.0</td>\n",
       "      <td>0.0</td>\n",
       "      <td>0.0</td>\n",
       "      <td>0.0</td>\n",
       "      <td>2.0</td>\n",
       "      <td>2.0</td>\n",
       "      <td>0.0</td>\n",
       "      <td>...</td>\n",
       "      <td>2.0</td>\n",
       "      <td>0.0</td>\n",
       "      <td>0.0</td>\n",
       "      <td>0.0</td>\n",
       "      <td>0.0</td>\n",
       "      <td>2.0</td>\n",
       "      <td>2.0</td>\n",
       "      <td>2.0</td>\n",
       "      <td>0.0</td>\n",
       "      <td>0.0</td>\n",
       "    </tr>\n",
       "    <tr>\n",
       "      <th>2021-12-31 23:59:20</th>\n",
       "      <td>2.0</td>\n",
       "      <td>2.0</td>\n",
       "      <td>2.0</td>\n",
       "      <td>0.0</td>\n",
       "      <td>0.0</td>\n",
       "      <td>0.0</td>\n",
       "      <td>0.0</td>\n",
       "      <td>2.0</td>\n",
       "      <td>2.0</td>\n",
       "      <td>0.0</td>\n",
       "      <td>...</td>\n",
       "      <td>2.0</td>\n",
       "      <td>0.0</td>\n",
       "      <td>0.0</td>\n",
       "      <td>0.0</td>\n",
       "      <td>0.0</td>\n",
       "      <td>2.0</td>\n",
       "      <td>2.0</td>\n",
       "      <td>2.0</td>\n",
       "      <td>0.0</td>\n",
       "      <td>0.0</td>\n",
       "    </tr>\n",
       "    <tr>\n",
       "      <th>2021-12-31 23:59:30</th>\n",
       "      <td>2.0</td>\n",
       "      <td>2.0</td>\n",
       "      <td>2.0</td>\n",
       "      <td>0.0</td>\n",
       "      <td>0.0</td>\n",
       "      <td>0.0</td>\n",
       "      <td>0.0</td>\n",
       "      <td>2.0</td>\n",
       "      <td>2.0</td>\n",
       "      <td>0.0</td>\n",
       "      <td>...</td>\n",
       "      <td>2.0</td>\n",
       "      <td>0.0</td>\n",
       "      <td>0.0</td>\n",
       "      <td>0.0</td>\n",
       "      <td>0.0</td>\n",
       "      <td>2.0</td>\n",
       "      <td>2.0</td>\n",
       "      <td>2.0</td>\n",
       "      <td>0.0</td>\n",
       "      <td>0.0</td>\n",
       "    </tr>\n",
       "    <tr>\n",
       "      <th>2021-12-31 23:59:40</th>\n",
       "      <td>2.0</td>\n",
       "      <td>2.0</td>\n",
       "      <td>2.0</td>\n",
       "      <td>0.0</td>\n",
       "      <td>0.0</td>\n",
       "      <td>0.0</td>\n",
       "      <td>0.0</td>\n",
       "      <td>2.0</td>\n",
       "      <td>2.0</td>\n",
       "      <td>0.0</td>\n",
       "      <td>...</td>\n",
       "      <td>2.0</td>\n",
       "      <td>0.0</td>\n",
       "      <td>0.0</td>\n",
       "      <td>0.0</td>\n",
       "      <td>0.0</td>\n",
       "      <td>2.0</td>\n",
       "      <td>2.0</td>\n",
       "      <td>2.0</td>\n",
       "      <td>0.0</td>\n",
       "      <td>0.0</td>\n",
       "    </tr>\n",
       "    <tr>\n",
       "      <th>2021-12-31 23:59:50</th>\n",
       "      <td>2.0</td>\n",
       "      <td>2.0</td>\n",
       "      <td>2.0</td>\n",
       "      <td>0.0</td>\n",
       "      <td>0.0</td>\n",
       "      <td>0.0</td>\n",
       "      <td>0.0</td>\n",
       "      <td>2.0</td>\n",
       "      <td>2.0</td>\n",
       "      <td>0.0</td>\n",
       "      <td>...</td>\n",
       "      <td>2.0</td>\n",
       "      <td>0.0</td>\n",
       "      <td>0.0</td>\n",
       "      <td>0.0</td>\n",
       "      <td>0.0</td>\n",
       "      <td>2.0</td>\n",
       "      <td>2.0</td>\n",
       "      <td>2.0</td>\n",
       "      <td>0.0</td>\n",
       "      <td>0.0</td>\n",
       "    </tr>\n",
       "  </tbody>\n",
       "</table>\n",
       "<p>9335034 rows × 23 columns</p>\n",
       "</div>"
      ],
      "text/plain": [
       "                     Y_ЭКСГАУСТЕР А/М №4_ЭЛЕКТРОДВИГАТЕЛЬ ДСПУ-140-84-4 ЭКСГ. №4  \\\n",
       "DT                                                                                 \n",
       "2019-01-16 13:21:00                                                0.0             \n",
       "2019-01-16 13:21:10                                                0.0             \n",
       "2019-01-16 13:21:20                                                0.0             \n",
       "2019-01-16 13:21:30                                                0.0             \n",
       "2019-01-16 13:21:40                                                0.0             \n",
       "...                                                                ...             \n",
       "2021-12-31 23:59:10                                                2.0             \n",
       "2021-12-31 23:59:20                                                2.0             \n",
       "2021-12-31 23:59:30                                                2.0             \n",
       "2021-12-31 23:59:40                                                2.0             \n",
       "2021-12-31 23:59:50                                                2.0             \n",
       "\n",
       "                     Y_ЭКСГАУСТЕР А/М №4_ПОДШИПНИК ОПОРНЫЙ ЭКСГ. №4  \\\n",
       "DT                                                                    \n",
       "2019-01-16 13:21:00                                             0.0   \n",
       "2019-01-16 13:21:10                                             0.0   \n",
       "2019-01-16 13:21:20                                             0.0   \n",
       "2019-01-16 13:21:30                                             0.0   \n",
       "2019-01-16 13:21:40                                             0.0   \n",
       "...                                                             ...   \n",
       "2021-12-31 23:59:10                                             2.0   \n",
       "2021-12-31 23:59:20                                             2.0   \n",
       "2021-12-31 23:59:30                                             2.0   \n",
       "2021-12-31 23:59:40                                             2.0   \n",
       "2021-12-31 23:59:50                                             2.0   \n",
       "\n",
       "                     Y_ЭКСГАУСТЕР А/М №4_УЛИТА ЭКСГ. №4  \\\n",
       "DT                                                        \n",
       "2019-01-16 13:21:00                                 0.0   \n",
       "2019-01-16 13:21:10                                 0.0   \n",
       "2019-01-16 13:21:20                                 0.0   \n",
       "2019-01-16 13:21:30                                 0.0   \n",
       "2019-01-16 13:21:40                                 0.0   \n",
       "...                                                 ...   \n",
       "2021-12-31 23:59:10                                 2.0   \n",
       "2021-12-31 23:59:20                                 2.0   \n",
       "2021-12-31 23:59:30                                 2.0   \n",
       "2021-12-31 23:59:40                                 2.0   \n",
       "2021-12-31 23:59:50                                 2.0   \n",
       "\n",
       "                     Y_ЭКСГАУСТЕР А/М №4_РЕДУКТОР ГАЗ. ЗАДВИЖКИ ЭКСГ. №4  \\\n",
       "DT                                                                         \n",
       "2019-01-16 13:21:00                                                0.0     \n",
       "2019-01-16 13:21:10                                                0.0     \n",
       "2019-01-16 13:21:20                                                0.0     \n",
       "2019-01-16 13:21:30                                                0.0     \n",
       "2019-01-16 13:21:40                                                0.0     \n",
       "...                                                                ...     \n",
       "2021-12-31 23:59:10                                                0.0     \n",
       "2021-12-31 23:59:20                                                0.0     \n",
       "2021-12-31 23:59:30                                                0.0     \n",
       "2021-12-31 23:59:40                                                0.0     \n",
       "2021-12-31 23:59:50                                                0.0     \n",
       "\n",
       "                     Y_ЭКСГАУСТЕР А/М №4_МАСЛОНАСОС РАБОЧИЙ ЭКСГ. №4  \\\n",
       "DT                                                                     \n",
       "2019-01-16 13:21:00                                              0.0   \n",
       "2019-01-16 13:21:10                                              0.0   \n",
       "2019-01-16 13:21:20                                              0.0   \n",
       "2019-01-16 13:21:30                                              0.0   \n",
       "2019-01-16 13:21:40                                              0.0   \n",
       "...                                                              ...   \n",
       "2021-12-31 23:59:10                                              0.0   \n",
       "2021-12-31 23:59:20                                              0.0   \n",
       "2021-12-31 23:59:30                                              0.0   \n",
       "2021-12-31 23:59:40                                              0.0   \n",
       "2021-12-31 23:59:50                                              0.0   \n",
       "\n",
       "                     Y_ЭКСГАУСТЕР А/М №4_ЭЛЕКТРОАППАРАТУРА ЭКСГ. №4  \\\n",
       "DT                                                                    \n",
       "2019-01-16 13:21:00                                             0.0   \n",
       "2019-01-16 13:21:10                                             0.0   \n",
       "2019-01-16 13:21:20                                             0.0   \n",
       "2019-01-16 13:21:30                                             0.0   \n",
       "2019-01-16 13:21:40                                             0.0   \n",
       "...                                                             ...   \n",
       "2021-12-31 23:59:10                                             0.0   \n",
       "2021-12-31 23:59:20                                             0.0   \n",
       "2021-12-31 23:59:30                                             0.0   \n",
       "2021-12-31 23:59:40                                             0.0   \n",
       "2021-12-31 23:59:50                                             0.0   \n",
       "\n",
       "                     Y_ЭКСГАУСТЕР А/М №4_ПОДШИПНИК ОПОРНЫЙ №2 ЭКСГ. №4  \\\n",
       "DT                                                                       \n",
       "2019-01-16 13:21:00                                                0.0   \n",
       "2019-01-16 13:21:10                                                0.0   \n",
       "2019-01-16 13:21:20                                                0.0   \n",
       "2019-01-16 13:21:30                                                0.0   \n",
       "2019-01-16 13:21:40                                                0.0   \n",
       "...                                                                ...   \n",
       "2021-12-31 23:59:10                                                0.0   \n",
       "2021-12-31 23:59:20                                                0.0   \n",
       "2021-12-31 23:59:30                                                0.0   \n",
       "2021-12-31 23:59:40                                                0.0   \n",
       "2021-12-31 23:59:50                                                0.0   \n",
       "\n",
       "                     Y_ЭКСГАУСТЕР А/М №4_ЗАДВИЖКА ЭКСГ. №4  \\\n",
       "DT                                                           \n",
       "2019-01-16 13:21:00                                    0.0   \n",
       "2019-01-16 13:21:10                                    0.0   \n",
       "2019-01-16 13:21:20                                    0.0   \n",
       "2019-01-16 13:21:30                                    0.0   \n",
       "2019-01-16 13:21:40                                    0.0   \n",
       "...                                                    ...   \n",
       "2021-12-31 23:59:10                                    2.0   \n",
       "2021-12-31 23:59:20                                    2.0   \n",
       "2021-12-31 23:59:30                                    2.0   \n",
       "2021-12-31 23:59:40                                    2.0   \n",
       "2021-12-31 23:59:50                                    2.0   \n",
       "\n",
       "                     Y_ЭКСГАУСТЕР А/М №4_ГСМ ЭКСГ. №4  \\\n",
       "DT                                                      \n",
       "2019-01-16 13:21:00                               0.0   \n",
       "2019-01-16 13:21:10                               0.0   \n",
       "2019-01-16 13:21:20                               0.0   \n",
       "2019-01-16 13:21:30                               0.0   \n",
       "2019-01-16 13:21:40                               0.0   \n",
       "...                                               ...   \n",
       "2021-12-31 23:59:10                               2.0   \n",
       "2021-12-31 23:59:20                               2.0   \n",
       "2021-12-31 23:59:30                               2.0   \n",
       "2021-12-31 23:59:40                               2.0   \n",
       "2021-12-31 23:59:50                               2.0   \n",
       "\n",
       "                     Y_ЭКСГАУСТЕР А/М №4_ВК 310С ВИБРОПРЕОБРАЗОВАТЕЛЬ ЭКСГ.№4 Т.1  \\\n",
       "DT                                                                                  \n",
       "2019-01-16 13:21:00                                                0.0              \n",
       "2019-01-16 13:21:10                                                0.0              \n",
       "2019-01-16 13:21:20                                                0.0              \n",
       "2019-01-16 13:21:30                                                0.0              \n",
       "2019-01-16 13:21:40                                                0.0              \n",
       "...                                                                ...              \n",
       "2021-12-31 23:59:10                                                0.0              \n",
       "2021-12-31 23:59:20                                                0.0              \n",
       "2021-12-31 23:59:30                                                0.0              \n",
       "2021-12-31 23:59:40                                                0.0              \n",
       "2021-12-31 23:59:50                                                0.0              \n",
       "\n",
       "                     ...  \\\n",
       "DT                   ...   \n",
       "2019-01-16 13:21:00  ...   \n",
       "2019-01-16 13:21:10  ...   \n",
       "2019-01-16 13:21:20  ...   \n",
       "2019-01-16 13:21:30  ...   \n",
       "2019-01-16 13:21:40  ...   \n",
       "...                  ...   \n",
       "2021-12-31 23:59:10  ...   \n",
       "2021-12-31 23:59:20  ...   \n",
       "2021-12-31 23:59:30  ...   \n",
       "2021-12-31 23:59:40  ...   \n",
       "2021-12-31 23:59:50  ...   \n",
       "\n",
       "                     Y_ЭКСГАУСТЕР А/М №4_ПОДШИПНИК ОПОРНО-УПОРНЫЙ ЭКСГ. №4  \\\n",
       "DT                                                                           \n",
       "2019-01-16 13:21:00                                                0.0       \n",
       "2019-01-16 13:21:10                                                0.0       \n",
       "2019-01-16 13:21:20                                                0.0       \n",
       "2019-01-16 13:21:30                                                0.0       \n",
       "2019-01-16 13:21:40                                                0.0       \n",
       "...                                                                ...       \n",
       "2021-12-31 23:59:10                                                2.0       \n",
       "2021-12-31 23:59:20                                                2.0       \n",
       "2021-12-31 23:59:30                                                2.0       \n",
       "2021-12-31 23:59:40                                                2.0       \n",
       "2021-12-31 23:59:50                                                2.0       \n",
       "\n",
       "                     Y_ЭКСГАУСТЕР А/М №4_ЭКСГАУСТЕР А/М №4  \\\n",
       "DT                                                           \n",
       "2019-01-16 13:21:00                                    0.0   \n",
       "2019-01-16 13:21:10                                    0.0   \n",
       "2019-01-16 13:21:20                                    0.0   \n",
       "2019-01-16 13:21:30                                    0.0   \n",
       "2019-01-16 13:21:40                                    0.0   \n",
       "...                                                    ...   \n",
       "2021-12-31 23:59:10                                    0.0   \n",
       "2021-12-31 23:59:20                                    0.0   \n",
       "2021-12-31 23:59:30                                    0.0   \n",
       "2021-12-31 23:59:40                                    0.0   \n",
       "2021-12-31 23:59:50                                    0.0   \n",
       "\n",
       "                     Y_ЭКСГАУСТЕР А/М №4_ЗАП. И РЕГ. АРМАТУРА ЭКСГ.№4  \\\n",
       "DT                                                                      \n",
       "2019-01-16 13:21:00                                               0.0   \n",
       "2019-01-16 13:21:10                                               0.0   \n",
       "2019-01-16 13:21:20                                               0.0   \n",
       "2019-01-16 13:21:30                                               0.0   \n",
       "2019-01-16 13:21:40                                               0.0   \n",
       "...                                                               ...   \n",
       "2021-12-31 23:59:10                                               0.0   \n",
       "2021-12-31 23:59:20                                               0.0   \n",
       "2021-12-31 23:59:30                                               0.0   \n",
       "2021-12-31 23:59:40                                               0.0   \n",
       "2021-12-31 23:59:50                                               0.0   \n",
       "\n",
       "                     Y_ЭКСГАУСТЕР А/М №4_ПОДШИПНИК ОПОРНЫЙ №1 ЭКСГ. №4  \\\n",
       "DT                                                                       \n",
       "2019-01-16 13:21:00                                                0.0   \n",
       "2019-01-16 13:21:10                                                0.0   \n",
       "2019-01-16 13:21:20                                                0.0   \n",
       "2019-01-16 13:21:30                                                0.0   \n",
       "2019-01-16 13:21:40                                                0.0   \n",
       "...                                                                ...   \n",
       "2021-12-31 23:59:10                                                0.0   \n",
       "2021-12-31 23:59:20                                                0.0   \n",
       "2021-12-31 23:59:30                                                0.0   \n",
       "2021-12-31 23:59:40                                                0.0   \n",
       "2021-12-31 23:59:50                                                0.0   \n",
       "\n",
       "                     Y_ЭКСГАУСТЕР А/М №4_ЭЛ/ДВИГАТЕЛЬ ГАЗ. ЗАДВИЖКИ ЭКСГ. №4  \\\n",
       "DT                                                                             \n",
       "2019-01-16 13:21:00                                                0.0         \n",
       "2019-01-16 13:21:10                                                0.0         \n",
       "2019-01-16 13:21:20                                                0.0         \n",
       "2019-01-16 13:21:30                                                0.0         \n",
       "2019-01-16 13:21:40                                                0.0         \n",
       "...                                                                ...         \n",
       "2021-12-31 23:59:10                                                0.0         \n",
       "2021-12-31 23:59:20                                                0.0         \n",
       "2021-12-31 23:59:30                                                0.0         \n",
       "2021-12-31 23:59:40                                                0.0         \n",
       "2021-12-31 23:59:50                                                0.0         \n",
       "\n",
       "                     Y_ЭКСГАУСТЕР А/М №4_КЛ1 ТР№4 ДО ЭД ЭКСГАУСТЕРА №4  \\\n",
       "DT                                                                       \n",
       "2019-01-16 13:21:00                                                0.0   \n",
       "2019-01-16 13:21:10                                                0.0   \n",
       "2019-01-16 13:21:20                                                0.0   \n",
       "2019-01-16 13:21:30                                                0.0   \n",
       "2019-01-16 13:21:40                                                0.0   \n",
       "...                                                                ...   \n",
       "2021-12-31 23:59:10                                                2.0   \n",
       "2021-12-31 23:59:20                                                2.0   \n",
       "2021-12-31 23:59:30                                                2.0   \n",
       "2021-12-31 23:59:40                                                2.0   \n",
       "2021-12-31 23:59:50                                                2.0   \n",
       "\n",
       "                     Y_ЭКСГАУСТЕР А/М №4_КЛ2 ТР№4 ДО ЭД ЭКСГАУСТЕРА №4  \\\n",
       "DT                                                                       \n",
       "2019-01-16 13:21:00                                                0.0   \n",
       "2019-01-16 13:21:10                                                0.0   \n",
       "2019-01-16 13:21:20                                                0.0   \n",
       "2019-01-16 13:21:30                                                0.0   \n",
       "2019-01-16 13:21:40                                                0.0   \n",
       "...                                                                ...   \n",
       "2021-12-31 23:59:10                                                2.0   \n",
       "2021-12-31 23:59:20                                                2.0   \n",
       "2021-12-31 23:59:30                                                2.0   \n",
       "2021-12-31 23:59:40                                                2.0   \n",
       "2021-12-31 23:59:50                                                2.0   \n",
       "\n",
       "                     Y_ЭКСГАУСТЕР А/М №4_ТР-Р ТМ-4000-10/6 ЭКСГ. №4  \\\n",
       "DT                                                                    \n",
       "2019-01-16 13:21:00                                             0.0   \n",
       "2019-01-16 13:21:10                                             0.0   \n",
       "2019-01-16 13:21:20                                             0.0   \n",
       "2019-01-16 13:21:30                                             0.0   \n",
       "2019-01-16 13:21:40                                             0.0   \n",
       "...                                                             ...   \n",
       "2021-12-31 23:59:10                                             2.0   \n",
       "2021-12-31 23:59:20                                             2.0   \n",
       "2021-12-31 23:59:30                                             2.0   \n",
       "2021-12-31 23:59:40                                             2.0   \n",
       "2021-12-31 23:59:50                                             2.0   \n",
       "\n",
       "                     Y_ЭКСГАУСТЕР А/М №4_ТИРИСТ. ВОЗБУДИТЕЛЬ ВТ-РЭМ-400 ЭКСГ4 ВУ1  \\\n",
       "DT                                                                                  \n",
       "2019-01-16 13:21:00                                                0.0              \n",
       "2019-01-16 13:21:10                                                0.0              \n",
       "2019-01-16 13:21:20                                                0.0              \n",
       "2019-01-16 13:21:30                                                0.0              \n",
       "2019-01-16 13:21:40                                                0.0              \n",
       "...                                                                ...              \n",
       "2021-12-31 23:59:10                                                0.0              \n",
       "2021-12-31 23:59:20                                                0.0              \n",
       "2021-12-31 23:59:30                                                0.0              \n",
       "2021-12-31 23:59:40                                                0.0              \n",
       "2021-12-31 23:59:50                                                0.0              \n",
       "\n",
       "                     Y_ЭКСГАУСТЕР А/М №4_МАСЛОПРОВОДЫ ЭКСГ №4  \n",
       "DT                                                             \n",
       "2019-01-16 13:21:00                                       0.0  \n",
       "2019-01-16 13:21:10                                       0.0  \n",
       "2019-01-16 13:21:20                                       0.0  \n",
       "2019-01-16 13:21:30                                       0.0  \n",
       "2019-01-16 13:21:40                                       0.0  \n",
       "...                                                       ...  \n",
       "2021-12-31 23:59:10                                       0.0  \n",
       "2021-12-31 23:59:20                                       0.0  \n",
       "2021-12-31 23:59:30                                       0.0  \n",
       "2021-12-31 23:59:40                                       0.0  \n",
       "2021-12-31 23:59:50                                       0.0  \n",
       "\n",
       "[9335034 rows x 23 columns]"
      ]
     },
     "execution_count": 4,
     "metadata": {},
     "output_type": "execute_result"
    }
   ],
   "source": [
    "y_train = pd.read_csv(\"/kaggle/input/y-train-northsteel-instances/y_ЭКСГАУСТЕР АМ 4.csv\", parse_dates=True)\n",
    "y_train = y_train.set_index(\"DT\")\n",
    "y_train"
   ]
  },
  {
   "cell_type": "code",
   "execution_count": 5,
   "id": "d5b6d3e9",
   "metadata": {
    "execution": {
     "iopub.execute_input": "2023-05-28T20:48:49.081525Z",
     "iopub.status.busy": "2023-05-28T20:48:49.080498Z",
     "iopub.status.idle": "2023-05-28T20:48:54.027559Z",
     "shell.execute_reply": "2023-05-28T20:48:54.025794Z"
    },
    "papermill": {
     "duration": 4.958275,
     "end_time": "2023-05-28T20:48:54.030283",
     "exception": false,
     "start_time": "2023-05-28T20:48:49.072008",
     "status": "completed"
    },
    "tags": []
   },
   "outputs": [
    {
     "name": "stdout",
     "output_type": "stream",
     "text": [
      "Y_ЭКСГАУСТЕР А/М №4_ЭЛЕКТРОДВИГАТЕЛЬ ДСПУ-140-84-4 ЭКСГ. №4 M1 [0 1]\n",
      "Y_ЭКСГАУСТЕР А/М №4_ЭЛЕКТРОДВИГАТЕЛЬ ДСПУ-140-84-4 ЭКСГ. №4 M3 [0 1]\n",
      "Y_ЭКСГАУСТЕР А/М №4_ПОДШИПНИК ОПОРНЫЙ ЭКСГ. №4 M1 [0]\n",
      "Y_ЭКСГАУСТЕР А/М №4_ПОДШИПНИК ОПОРНЫЙ ЭКСГ. №4 M3 [0 1]\n",
      "Y_ЭКСГАУСТЕР А/М №4_УЛИТА ЭКСГ. №4 M1 [0]\n",
      "Y_ЭКСГАУСТЕР А/М №4_УЛИТА ЭКСГ. №4 M3 [0 1]\n",
      "Y_ЭКСГАУСТЕР А/М №4_РЕДУКТОР ГАЗ. ЗАДВИЖКИ ЭКСГ. №4 M1 [0 1]\n",
      "Y_ЭКСГАУСТЕР А/М №4_РЕДУКТОР ГАЗ. ЗАДВИЖКИ ЭКСГ. №4 M3 [0 1]\n",
      "Y_ЭКСГАУСТЕР А/М №4_МАСЛОНАСОС РАБОЧИЙ ЭКСГ. №4 M1 [0]\n",
      "Y_ЭКСГАУСТЕР А/М №4_МАСЛОНАСОС РАБОЧИЙ ЭКСГ. №4 M3 [0 1]\n",
      "Y_ЭКСГАУСТЕР А/М №4_ЭЛЕКТРОАППАРАТУРА ЭКСГ. №4 M1 [0 1]\n",
      "Y_ЭКСГАУСТЕР А/М №4_ЭЛЕКТРОАППАРАТУРА ЭКСГ. №4 M3 [0 1]\n",
      "Y_ЭКСГАУСТЕР А/М №4_ПОДШИПНИК ОПОРНЫЙ №2 ЭКСГ. №4 M1 [0 1]\n",
      "Y_ЭКСГАУСТЕР А/М №4_ПОДШИПНИК ОПОРНЫЙ №2 ЭКСГ. №4 M3 [0 1]\n",
      "Y_ЭКСГАУСТЕР А/М №4_ЗАДВИЖКА ЭКСГ. №4 M1 [0 1]\n",
      "Y_ЭКСГАУСТЕР А/М №4_ЗАДВИЖКА ЭКСГ. №4 M3 [0 1]\n",
      "Y_ЭКСГАУСТЕР А/М №4_ГСМ ЭКСГ. №4 M1 [0]\n",
      "Y_ЭКСГАУСТЕР А/М №4_ГСМ ЭКСГ. №4 M3 [0 1]\n",
      "Y_ЭКСГАУСТЕР А/М №4_ВК 310С ВИБРОПРЕОБРАЗОВАТЕЛЬ ЭКСГ.№4 Т.1 M1 [0]\n",
      "Y_ЭКСГАУСТЕР А/М №4_ВК 310С ВИБРОПРЕОБРАЗОВАТЕЛЬ ЭКСГ.№4 Т.1 M3 [0 1]\n",
      "Y_ЭКСГАУСТЕР А/М №4_ТСМТ-101-010-50М-400 ТЕРМОПР.ПОДШ.Т.1 M1 [0]\n",
      "Y_ЭКСГАУСТЕР А/М №4_ТСМТ-101-010-50М-400 ТЕРМОПР.ПОДШ.Т.1 M3 [0 1]\n",
      "Y_ЭКСГАУСТЕР А/М №4_РОТОР ЭКСГ. №4 M1 [0 1]\n",
      "Y_ЭКСГАУСТЕР А/М №4_РОТОР ЭКСГ. №4 M3 [0 1]\n",
      "Y_ЭКСГАУСТЕР А/М №4_МАСЛООХЛАДИТЕЛЬ  М-05-1 ЭКСГ. №4 M1 [0]\n",
      "Y_ЭКСГАУСТЕР А/М №4_МАСЛООХЛАДИТЕЛЬ  М-05-1 ЭКСГ. №4 M3 [0 1]\n",
      "Y_ЭКСГАУСТЕР А/М №4_ПОДШИПНИК ОПОРНО-УПОРНЫЙ ЭКСГ. №4 M1 [0 1]\n",
      "Y_ЭКСГАУСТЕР А/М №4_ПОДШИПНИК ОПОРНО-УПОРНЫЙ ЭКСГ. №4 M3 [0 1]\n",
      "Y_ЭКСГАУСТЕР А/М №4_ЭКСГАУСТЕР А/М №4 M1 [0 1]\n",
      "Y_ЭКСГАУСТЕР А/М №4_ЭКСГАУСТЕР А/М №4 M3 [0]\n",
      "Y_ЭКСГАУСТЕР А/М №4_ЗАП. И РЕГ. АРМАТУРА ЭКСГ.№4 M1 [0]\n",
      "Y_ЭКСГАУСТЕР А/М №4_ЗАП. И РЕГ. АРМАТУРА ЭКСГ.№4 M3 [0 1]\n",
      "Y_ЭКСГАУСТЕР А/М №4_ПОДШИПНИК ОПОРНЫЙ №1 ЭКСГ. №4 M1 [0]\n",
      "Y_ЭКСГАУСТЕР А/М №4_ПОДШИПНИК ОПОРНЫЙ №1 ЭКСГ. №4 M3 [0 1]\n",
      "Y_ЭКСГАУСТЕР А/М №4_ЭЛ/ДВИГАТЕЛЬ ГАЗ. ЗАДВИЖКИ ЭКСГ. №4 M1 [0]\n",
      "Y_ЭКСГАУСТЕР А/М №4_ЭЛ/ДВИГАТЕЛЬ ГАЗ. ЗАДВИЖКИ ЭКСГ. №4 M3 [0 1]\n",
      "Y_ЭКСГАУСТЕР А/М №4_КЛ1 ТР№4 ДО ЭД ЭКСГАУСТЕРА №4 M1 [0]\n",
      "Y_ЭКСГАУСТЕР А/М №4_КЛ1 ТР№4 ДО ЭД ЭКСГАУСТЕРА №4 M3 [0 1]\n",
      "Y_ЭКСГАУСТЕР А/М №4_КЛ2 ТР№4 ДО ЭД ЭКСГАУСТЕРА №4 M1 [0]\n",
      "Y_ЭКСГАУСТЕР А/М №4_КЛ2 ТР№4 ДО ЭД ЭКСГАУСТЕРА №4 M3 [0 1]\n",
      "Y_ЭКСГАУСТЕР А/М №4_ТР-Р ТМ-4000-10/6 ЭКСГ. №4 M1 [0]\n",
      "Y_ЭКСГАУСТЕР А/М №4_ТР-Р ТМ-4000-10/6 ЭКСГ. №4 M3 [0 1]\n",
      "Y_ЭКСГАУСТЕР А/М №4_ТИРИСТ. ВОЗБУДИТЕЛЬ ВТ-РЭМ-400 ЭКСГ4 ВУ1 M1 [0]\n",
      "Y_ЭКСГАУСТЕР А/М №4_ТИРИСТ. ВОЗБУДИТЕЛЬ ВТ-РЭМ-400 ЭКСГ4 ВУ1 M3 [0 1]\n",
      "Y_ЭКСГАУСТЕР А/М №4_МАСЛОПРОВОДЫ ЭКСГ №4 M1 [0]\n",
      "Y_ЭКСГАУСТЕР А/М №4_МАСЛОПРОВОДЫ ЭКСГ №4 M3 [0]\n"
     ]
    }
   ],
   "source": [
    "for col in y_train.columns:\n",
    "    if not ((col[-2:] == \"M1\") or (col[-2:] ==\"M3\")):\n",
    "        y_train[col+\" M1\"] = 1*(y_train[col]==1)\n",
    "        y_train[col+\" M3\"] = 1*(y_train[col]==2)\n",
    "        del y_train[col]\n",
    "for col in y_train.columns:\n",
    "    print(col, y_train[col].unique())"
   ]
  },
  {
   "cell_type": "code",
   "execution_count": 6,
   "id": "3d0989e9",
   "metadata": {
    "execution": {
     "iopub.execute_input": "2023-05-28T20:48:54.049021Z",
     "iopub.status.busy": "2023-05-28T20:48:54.048583Z",
     "iopub.status.idle": "2023-05-28T20:50:06.516929Z",
     "shell.execute_reply": "2023-05-28T20:50:06.515751Z"
    },
    "papermill": {
     "duration": 72.488987,
     "end_time": "2023-05-28T20:50:06.527961",
     "exception": false,
     "start_time": "2023-05-28T20:48:54.038974",
     "status": "completed"
    },
    "tags": []
   },
   "outputs": [
    {
     "data": {
      "text/plain": [
       "array([Timestamp('2019-01-16 13:21:00'), Timestamp('2019-01-16 13:21:10'),\n",
       "       Timestamp('2019-01-16 13:21:20'), ...,\n",
       "       Timestamp('2021-12-31 23:59:30'), Timestamp('2021-12-31 23:59:40'),\n",
       "       Timestamp('2021-12-31 23:59:50')], dtype=object)"
      ]
     },
     "execution_count": 6,
     "metadata": {},
     "output_type": "execute_result"
    }
   ],
   "source": [
    "for i,x in enumerate(y_train.index.values):\n",
    "    y_train.index.values[i] = pd.Timestamp(y_train.index.values[i])\n",
    "y_train.index.values"
   ]
  },
  {
   "cell_type": "code",
   "execution_count": 7,
   "id": "36207218",
   "metadata": {
    "execution": {
     "iopub.execute_input": "2023-05-28T20:50:06.547528Z",
     "iopub.status.busy": "2023-05-28T20:50:06.546207Z",
     "iopub.status.idle": "2023-05-28T20:51:21.835269Z",
     "shell.execute_reply": "2023-05-28T20:51:21.834291Z"
    },
    "papermill": {
     "duration": 75.301677,
     "end_time": "2023-05-28T20:51:21.838261",
     "exception": false,
     "start_time": "2023-05-28T20:50:06.536584",
     "status": "completed"
    },
    "tags": []
   },
   "outputs": [],
   "source": [
    "shifted = y_train.index.values+pd.Timedelta(minutes = 105)"
   ]
  },
  {
   "cell_type": "code",
   "execution_count": 8,
   "id": "e0cf25b2",
   "metadata": {
    "execution": {
     "iopub.execute_input": "2023-05-28T20:51:21.858716Z",
     "iopub.status.busy": "2023-05-28T20:51:21.857517Z",
     "iopub.status.idle": "2023-05-28T20:54:28.807115Z",
     "shell.execute_reply": "2023-05-28T20:54:28.805829Z"
    },
    "papermill": {
     "duration": 186.962791,
     "end_time": "2023-05-28T20:54:28.810356",
     "exception": false,
     "start_time": "2023-05-28T20:51:21.847565",
     "status": "completed"
    },
    "tags": []
   },
   "outputs": [],
   "source": [
    "\n",
    "index = sorted(set(shifted).intersection(X_train.index.values))\n",
    "y_train = y_train.loc[index]\n",
    "y_train = y_train.dropna()\n",
    "index = y_train.index.values\n",
    "X_train = X_train.loc[index]"
   ]
  },
  {
   "cell_type": "code",
   "execution_count": 9,
   "id": "24b3e5f4",
   "metadata": {
    "execution": {
     "iopub.execute_input": "2023-05-28T20:54:28.829066Z",
     "iopub.status.busy": "2023-05-28T20:54:28.828668Z",
     "iopub.status.idle": "2023-05-28T20:54:28.835759Z",
     "shell.execute_reply": "2023-05-28T20:54:28.834662Z"
    },
    "papermill": {
     "duration": 0.019064,
     "end_time": "2023-05-28T20:54:28.838030",
     "exception": false,
     "start_time": "2023-05-28T20:54:28.818966",
     "status": "completed"
    },
    "tags": []
   },
   "outputs": [
    {
     "data": {
      "text/plain": [
       "array([Timestamp('2019-01-16 15:06:00'), Timestamp('2019-01-16 15:06:10'),\n",
       "       Timestamp('2019-01-16 15:06:20'), ...,\n",
       "       Timestamp('2022-01-01 01:44:30'), Timestamp('2022-01-01 01:44:40'),\n",
       "       Timestamp('2022-01-01 01:44:50')], dtype=object)"
      ]
     },
     "execution_count": 9,
     "metadata": {},
     "output_type": "execute_result"
    }
   ],
   "source": [
    "shifted"
   ]
  },
  {
   "cell_type": "code",
   "execution_count": 10,
   "id": "ea56cb44",
   "metadata": {
    "execution": {
     "iopub.execute_input": "2023-05-28T20:54:28.856981Z",
     "iopub.status.busy": "2023-05-28T20:54:28.856300Z",
     "iopub.status.idle": "2023-05-28T20:54:28.863114Z",
     "shell.execute_reply": "2023-05-28T20:54:28.862177Z"
    },
    "papermill": {
     "duration": 0.01889,
     "end_time": "2023-05-28T20:54:28.865275",
     "exception": false,
     "start_time": "2023-05-28T20:54:28.846385",
     "status": "completed"
    },
    "tags": []
   },
   "outputs": [
    {
     "data": {
      "text/plain": [
       "array([Timestamp('2019-01-16 15:06:00'), Timestamp('2019-01-16 15:06:10'),\n",
       "       Timestamp('2019-01-16 15:06:20'), ...,\n",
       "       Timestamp('2021-06-21 19:43:00'), Timestamp('2021-07-01 23:41:10'),\n",
       "       Timestamp('2021-09-17 14:14:30')], dtype=object)"
      ]
     },
     "execution_count": 10,
     "metadata": {},
     "output_type": "execute_result"
    }
   ],
   "source": [
    "X_train.index.values"
   ]
  },
  {
   "cell_type": "code",
   "execution_count": 11,
   "id": "6e24ed07",
   "metadata": {
    "execution": {
     "iopub.execute_input": "2023-05-28T20:54:28.884831Z",
     "iopub.status.busy": "2023-05-28T20:54:28.884178Z",
     "iopub.status.idle": "2023-05-28T20:54:28.888917Z",
     "shell.execute_reply": "2023-05-28T20:54:28.888146Z"
    },
    "papermill": {
     "duration": 0.016906,
     "end_time": "2023-05-28T20:54:28.891109",
     "exception": false,
     "start_time": "2023-05-28T20:54:28.874203",
     "status": "completed"
    },
    "tags": []
   },
   "outputs": [],
   "source": [
    "def featurize(df):\n",
    "    return df"
   ]
  },
  {
   "cell_type": "code",
   "execution_count": 12,
   "id": "4255cbae",
   "metadata": {
    "execution": {
     "iopub.execute_input": "2023-05-28T20:54:28.910960Z",
     "iopub.status.busy": "2023-05-28T20:54:28.910310Z",
     "iopub.status.idle": "2023-05-28T21:32:57.086332Z",
     "shell.execute_reply": "2023-05-28T21:32:57.085281Z"
    },
    "papermill": {
     "duration": 2308.189608,
     "end_time": "2023-05-28T21:32:57.089434",
     "exception": false,
     "start_time": "2023-05-28T20:54:28.899826",
     "status": "completed"
    },
    "tags": []
   },
   "outputs": [
    {
     "data": {
      "application/vnd.jupyter.widget-view+json": {
       "model_id": "ab67b10e932b47999ad63f324689f178",
       "version_major": 2,
       "version_minor": 0
      },
      "text/plain": [
       "MetricVisualizer(layout=Layout(align_self='stretch', height='500px'))"
      ]
     },
     "metadata": {},
     "output_type": "display_data"
    },
    {
     "name": "stdout",
     "output_type": "stream",
     "text": [
      "0:\tlearn: 0.6613837\ttest: 0.6636010\tbest: 0.6636010 (0)\ttotal: 509ms\tremaining: 50.4s\n",
      "50:\tlearn: 0.1134319\ttest: 0.1136035\tbest: 0.1136035 (50)\ttotal: 21.8s\tremaining: 20.9s\n",
      "99:\tlearn: 0.0249881\ttest: 0.0250062\tbest: 0.0250062 (99)\ttotal: 42s\tremaining: 0us\n",
      "\n",
      "bestTest = 0.02500623549\n",
      "bestIteration = 99\n",
      "\n",
      "                                           0\n",
      "ТОК РОТОРА 1                        0.581499\n",
      "ТОК РОТОРА 2                        1.494470\n",
      "ТОК СТАТОРА                         1.717477\n",
      "ВИБРАЦИЯ НА ОПОРЕ 1                 1.331232\n",
      "ВИБРАЦИЯ НА ОПОРЕ 2                 4.589058\n",
      "ВИБРАЦИЯ НА ОПОРЕ 3                 6.628435\n",
      "ВИБРАЦИЯ НА ОПОРЕ 3. ПРОДОЛЬНАЯ     2.066537\n",
      "ВИБРАЦИЯ НА ОПОРЕ 4                 5.989982\n",
      "ВИБРАЦИЯ НА ОПОРЕ 4. ПРОДОЛЬНАЯ     1.757674\n",
      "ТЕМПЕРАТУРА ПОДШИПНИКА НА ОПОРЕ 1   5.259704\n",
      "ТЕМПЕРАТУРА ПОДШИПНИКА НА ОПОРЕ 2  18.156292\n",
      "ТЕМПЕРАТУРА ПОДШИПНИКА НА ОПОРЕ 3  28.775993\n",
      "ТЕМПЕРАТУРА ПОДШИПНИКА НА ОПОРЕ 4   5.180783\n",
      "ТЕМПЕРАТУРА МАСЛА В МАСЛОБЛОКЕ      3.757380\n",
      "ТЕМПЕРАТУРА МАСЛА В СИСТЕМЕ         7.553713\n",
      "ДАВЛЕНИЕ МАСЛА В СИСТЕМЕ            5.159772\n",
      "Y_ЭКСГАУСТЕР А/М №4_ЭЛЕКТРОДВИГАТЕЛЬ ДСПУ-140-84-4 ЭКСГ. №4 M1 None 0 0 0\n"
     ]
    },
    {
     "data": {
      "application/vnd.jupyter.widget-view+json": {
       "model_id": "7423ef75db5c4bacb21ed97b3ec91c06",
       "version_major": 2,
       "version_minor": 0
      },
      "text/plain": [
       "MetricVisualizer(layout=Layout(align_self='stretch', height='500px'))"
      ]
     },
     "metadata": {},
     "output_type": "display_data"
    },
    {
     "name": "stdout",
     "output_type": "stream",
     "text": [
      "0:\tlearn: 0.6722237\ttest: 0.6718638\tbest: 0.6718638 (0)\ttotal: 492ms\tremaining: 48.7s\n",
      "50:\tlearn: 0.2500599\ttest: 0.2497842\tbest: 0.2497842 (50)\ttotal: 21.1s\tremaining: 20.3s\n",
      "99:\tlearn: 0.1428736\ttest: 0.1401224\tbest: 0.1401224 (99)\ttotal: 42.3s\tremaining: 0us\n",
      "\n",
      "bestTest = 0.1401224148\n",
      "bestIteration = 99\n",
      "\n",
      "                                           0\n",
      "ТОК РОТОРА 1                        7.400194\n",
      "ТОК РОТОРА 2                       12.448745\n",
      "ТОК СТАТОРА                         1.720627\n",
      "ВИБРАЦИЯ НА ОПОРЕ 1                 0.792233\n",
      "ВИБРАЦИЯ НА ОПОРЕ 2                 0.933442\n",
      "ВИБРАЦИЯ НА ОПОРЕ 3                 2.336909\n",
      "ВИБРАЦИЯ НА ОПОРЕ 3. ПРОДОЛЬНАЯ     9.578621\n",
      "ВИБРАЦИЯ НА ОПОРЕ 4                 7.044179\n",
      "ВИБРАЦИЯ НА ОПОРЕ 4. ПРОДОЛЬНАЯ     6.207072\n",
      "ТЕМПЕРАТУРА ПОДШИПНИКА НА ОПОРЕ 1   2.389991\n",
      "ТЕМПЕРАТУРА ПОДШИПНИКА НА ОПОРЕ 2  13.529855\n",
      "ТЕМПЕРАТУРА ПОДШИПНИКА НА ОПОРЕ 3   1.736434\n",
      "ТЕМПЕРАТУРА ПОДШИПНИКА НА ОПОРЕ 4   0.287834\n",
      "ТЕМПЕРАТУРА МАСЛА В МАСЛОБЛОКЕ      0.000000\n",
      "ТЕМПЕРАТУРА МАСЛА В СИСТЕМЕ        25.067694\n",
      "ДАВЛЕНИЕ МАСЛА В СИСТЕМЕ            8.526170\n",
      "Y_ЭКСГАУСТЕР А/М №4_ЭЛЕКТРОДВИГАТЕЛЬ ДСПУ-140-84-4 ЭКСГ. №4 M3 0.9631799163179916 4604 54 122\n"
     ]
    },
    {
     "data": {
      "application/vnd.jupyter.widget-view+json": {
       "model_id": "2ee13e1fd15c49df8e0ac14ce3b630b3",
       "version_major": 2,
       "version_minor": 0
      },
      "text/plain": [
       "MetricVisualizer(layout=Layout(align_self='stretch', height='500px'))"
      ]
     },
     "metadata": {},
     "output_type": "display_data"
    },
    {
     "name": "stdout",
     "output_type": "stream",
     "text": [
      "0:\tlearn: 0.6745688\ttest: 0.6745231\tbest: 0.6745231 (0)\ttotal: 634ms\tremaining: 1m 2s\n",
      "50:\tlearn: 0.2760811\ttest: 0.2707627\tbest: 0.2707627 (50)\ttotal: 21.5s\tremaining: 20.7s\n",
      "99:\tlearn: 0.1641517\ttest: 0.1601138\tbest: 0.1601138 (99)\ttotal: 42.7s\tremaining: 0us\n",
      "\n",
      "bestTest = 0.1601138309\n",
      "bestIteration = 99\n",
      "\n",
      "                                           0\n",
      "ТОК РОТОРА 1                        5.936088\n",
      "ТОК РОТОРА 2                        9.189696\n",
      "ТОК СТАТОРА                         2.088966\n",
      "ВИБРАЦИЯ НА ОПОРЕ 1                 0.476839\n",
      "ВИБРАЦИЯ НА ОПОРЕ 2                 1.620146\n",
      "ВИБРАЦИЯ НА ОПОРЕ 3                 0.499180\n",
      "ВИБРАЦИЯ НА ОПОРЕ 3. ПРОДОЛЬНАЯ     4.650622\n",
      "ВИБРАЦИЯ НА ОПОРЕ 4                 6.798884\n",
      "ВИБРАЦИЯ НА ОПОРЕ 4. ПРОДОЛЬНАЯ    14.597716\n",
      "ТЕМПЕРАТУРА ПОДШИПНИКА НА ОПОРЕ 1   4.844292\n",
      "ТЕМПЕРАТУРА ПОДШИПНИКА НА ОПОРЕ 2  15.385641\n",
      "ТЕМПЕРАТУРА ПОДШИПНИКА НА ОПОРЕ 3   4.481242\n",
      "ТЕМПЕРАТУРА ПОДШИПНИКА НА ОПОРЕ 4   0.000000\n",
      "ТЕМПЕРАТУРА МАСЛА В МАСЛОБЛОКЕ      0.000000\n",
      "ТЕМПЕРАТУРА МАСЛА В СИСТЕМЕ        20.318294\n",
      "ДАВЛЕНИЕ МАСЛА В СИСТЕМЕ            9.112394\n",
      "Y_ЭКСГАУСТЕР А/М №4_ПОДШИПНИК ОПОРНЫЙ ЭКСГ. №4 M3 0.9550121336568975 5116 142 99\n"
     ]
    },
    {
     "data": {
      "application/vnd.jupyter.widget-view+json": {
       "model_id": "d6ee6834bef74c6997ec71f695636833",
       "version_major": 2,
       "version_minor": 0
      },
      "text/plain": [
       "MetricVisualizer(layout=Layout(align_self='stretch', height='500px'))"
      ]
     },
     "metadata": {},
     "output_type": "display_data"
    },
    {
     "name": "stdout",
     "output_type": "stream",
     "text": [
      "0:\tlearn: 0.6661462\ttest: 0.6678020\tbest: 0.6678020 (0)\ttotal: 498ms\tremaining: 49.4s\n",
      "50:\tlearn: 0.1734682\ttest: 0.1713639\tbest: 0.1713639 (50)\ttotal: 24.7s\tremaining: 23.7s\n",
      "99:\tlearn: 0.0802920\ttest: 0.0781373\tbest: 0.0781373 (99)\ttotal: 47.1s\tremaining: 0us\n",
      "\n",
      "bestTest = 0.07813732977\n",
      "bestIteration = 99\n",
      "\n",
      "                                           0\n",
      "ТОК РОТОРА 1                        1.191790\n",
      "ТОК РОТОРА 2                        1.385056\n",
      "ТОК СТАТОРА                         0.683220\n",
      "ВИБРАЦИЯ НА ОПОРЕ 1                18.384326\n",
      "ВИБРАЦИЯ НА ОПОРЕ 2                 0.954210\n",
      "ВИБРАЦИЯ НА ОПОРЕ 3                 2.533069\n",
      "ВИБРАЦИЯ НА ОПОРЕ 3. ПРОДОЛЬНАЯ    11.057254\n",
      "ВИБРАЦИЯ НА ОПОРЕ 4                 6.067575\n",
      "ВИБРАЦИЯ НА ОПОРЕ 4. ПРОДОЛЬНАЯ    30.524781\n",
      "ТЕМПЕРАТУРА ПОДШИПНИКА НА ОПОРЕ 1   1.675985\n",
      "ТЕМПЕРАТУРА ПОДШИПНИКА НА ОПОРЕ 2   1.710454\n",
      "ТЕМПЕРАТУРА ПОДШИПНИКА НА ОПОРЕ 3   0.168995\n",
      "ТЕМПЕРАТУРА ПОДШИПНИКА НА ОПОРЕ 4   4.052581\n",
      "ТЕМПЕРАТУРА МАСЛА В МАСЛОБЛОКЕ      0.770487\n",
      "ТЕМПЕРАТУРА МАСЛА В СИСТЕМЕ         2.885202\n",
      "ДАВЛЕНИЕ МАСЛА В СИСТЕМЕ           15.955014\n",
      "Y_ЭКСГАУСТЕР А/М №4_УЛИТА ЭКСГ. №4 M3 0.9794443189518861 8672 141 41\n"
     ]
    },
    {
     "data": {
      "application/vnd.jupyter.widget-view+json": {
       "model_id": "08f6380c2799458785ba5d390f4a2c04",
       "version_major": 2,
       "version_minor": 0
      },
      "text/plain": [
       "MetricVisualizer(layout=Layout(align_self='stretch', height='500px'))"
      ]
     },
     "metadata": {},
     "output_type": "display_data"
    },
    {
     "name": "stdout",
     "output_type": "stream",
     "text": [
      "0:\tlearn: 0.6729034\ttest: 0.6718974\tbest: 0.6718974 (0)\ttotal: 397ms\tremaining: 39.3s\n",
      "50:\tlearn: 0.2497293\ttest: 0.2385445\tbest: 0.2385445 (50)\ttotal: 21.6s\tremaining: 20.7s\n",
      "99:\tlearn: 0.1544018\ttest: 0.1428924\tbest: 0.1428924 (99)\ttotal: 41.2s\tremaining: 0us\n",
      "\n",
      "bestTest = 0.1428923866\n",
      "bestIteration = 99\n",
      "\n",
      "                                           0\n",
      "ТОК РОТОРА 1                       22.624105\n",
      "ТОК РОТОРА 2                       21.073250\n",
      "ТОК СТАТОРА                         0.315060\n",
      "ВИБРАЦИЯ НА ОПОРЕ 1                11.267086\n",
      "ВИБРАЦИЯ НА ОПОРЕ 2                 3.073644\n",
      "ВИБРАЦИЯ НА ОПОРЕ 3                 1.405740\n",
      "ВИБРАЦИЯ НА ОПОРЕ 3. ПРОДОЛЬНАЯ     6.185723\n",
      "ВИБРАЦИЯ НА ОПОРЕ 4                 3.557497\n",
      "ВИБРАЦИЯ НА ОПОРЕ 4. ПРОДОЛЬНАЯ     3.574440\n",
      "ТЕМПЕРАТУРА ПОДШИПНИКА НА ОПОРЕ 1   8.335625\n",
      "ТЕМПЕРАТУРА ПОДШИПНИКА НА ОПОРЕ 2   1.707027\n",
      "ТЕМПЕРАТУРА ПОДШИПНИКА НА ОПОРЕ 3   0.453981\n",
      "ТЕМПЕРАТУРА ПОДШИПНИКА НА ОПОРЕ 4   1.427400\n",
      "ТЕМПЕРАТУРА МАСЛА В МАСЛОБЛОКЕ      0.082560\n",
      "ТЕМПЕРАТУРА МАСЛА В СИСТЕМЕ         6.847803\n",
      "ДАВЛЕНИЕ МАСЛА В СИСТЕМЕ            8.069060\n",
      "Y_ЭКСГАУСТЕР А/М №4_РЕДУКТОР ГАЗ. ЗАДВИЖКИ ЭКСГ. №4 M3 0.94670245398773 7407 266 151\n"
     ]
    },
    {
     "data": {
      "application/vnd.jupyter.widget-view+json": {
       "model_id": "0a13d4973d1b4dd28a4ca65c711038b0",
       "version_major": 2,
       "version_minor": 0
      },
      "text/plain": [
       "MetricVisualizer(layout=Layout(align_self='stretch', height='500px'))"
      ]
     },
     "metadata": {},
     "output_type": "display_data"
    },
    {
     "name": "stdout",
     "output_type": "stream",
     "text": [
      "0:\tlearn: 0.6637592\ttest: 0.6652991\tbest: 0.6652991 (0)\ttotal: 462ms\tremaining: 45.7s\n",
      "50:\tlearn: 0.1439847\ttest: 0.1365195\tbest: 0.1365195 (50)\ttotal: 22.9s\tremaining: 22s\n",
      "99:\tlearn: 0.0491852\ttest: 0.0429016\tbest: 0.0429016 (99)\ttotal: 45.5s\tremaining: 0us\n",
      "\n",
      "bestTest = 0.04290163939\n",
      "bestIteration = 99\n",
      "\n",
      "                                           0\n",
      "ТОК РОТОРА 1                       10.625466\n",
      "ТОК РОТОРА 2                       15.606226\n",
      "ТОК СТАТОРА                         0.000000\n",
      "ВИБРАЦИЯ НА ОПОРЕ 1                 1.470596\n",
      "ВИБРАЦИЯ НА ОПОРЕ 2                 1.461000\n",
      "ВИБРАЦИЯ НА ОПОРЕ 3                11.827935\n",
      "ВИБРАЦИЯ НА ОПОРЕ 3. ПРОДОЛЬНАЯ     1.066560\n",
      "ВИБРАЦИЯ НА ОПОРЕ 4                 1.310227\n",
      "ВИБРАЦИЯ НА ОПОРЕ 4. ПРОДОЛЬНАЯ    12.240273\n",
      "ТЕМПЕРАТУРА ПОДШИПНИКА НА ОПОРЕ 1  10.756218\n",
      "ТЕМПЕРАТУРА ПОДШИПНИКА НА ОПОРЕ 2   0.105759\n",
      "ТЕМПЕРАТУРА ПОДШИПНИКА НА ОПОРЕ 3   0.684157\n",
      "ТЕМПЕРАТУРА ПОДШИПНИКА НА ОПОРЕ 4   4.307310\n",
      "ТЕМПЕРАТУРА МАСЛА В МАСЛОБЛОКЕ      0.000000\n",
      "ТЕМПЕРАТУРА МАСЛА В СИСТЕМЕ         1.589488\n",
      "ДАВЛЕНИЕ МАСЛА В СИСТЕМЕ           26.948785\n",
      "Y_ЭКСГАУСТЕР А/М №4_МАСЛОНАСОС РАБОЧИЙ ЭКСГ. №4 M3 0.9683426443202979 1040 0 34\n"
     ]
    },
    {
     "data": {
      "application/vnd.jupyter.widget-view+json": {
       "model_id": "2bea58e2da6442e2962a4acafd8ac8a6",
       "version_major": 2,
       "version_minor": 0
      },
      "text/plain": [
       "MetricVisualizer(layout=Layout(align_self='stretch', height='500px'))"
      ]
     },
     "metadata": {},
     "output_type": "display_data"
    },
    {
     "name": "stdout",
     "output_type": "stream",
     "text": [
      "0:\tlearn: 0.6613797\ttest: 0.6635998\tbest: 0.6635998 (0)\ttotal: 455ms\tremaining: 45s\n",
      "50:\tlearn: 0.1133370\ttest: 0.1135651\tbest: 0.1135651 (50)\ttotal: 21.3s\tremaining: 20.5s\n",
      "99:\tlearn: 0.0249527\ttest: 0.0249872\tbest: 0.0249872 (99)\ttotal: 42.6s\tremaining: 0us\n",
      "\n",
      "bestTest = 0.0249872089\n",
      "bestIteration = 99\n",
      "\n",
      "                                          0\n",
      "ТОК РОТОРА 1                       6.088922\n",
      "ТОК РОТОРА 2                       3.393009\n",
      "ТОК СТАТОРА                        5.101532\n",
      "ВИБРАЦИЯ НА ОПОРЕ 1                5.928029\n",
      "ВИБРАЦИЯ НА ОПОРЕ 2                6.446273\n",
      "ВИБРАЦИЯ НА ОПОРЕ 3                8.598971\n",
      "ВИБРАЦИЯ НА ОПОРЕ 3. ПРОДОЛЬНАЯ    8.657419\n",
      "ВИБРАЦИЯ НА ОПОРЕ 4                9.519181\n",
      "ВИБРАЦИЯ НА ОПОРЕ 4. ПРОДОЛЬНАЯ    7.610686\n",
      "ТЕМПЕРАТУРА ПОДШИПНИКА НА ОПОРЕ 1  5.165167\n",
      "ТЕМПЕРАТУРА ПОДШИПНИКА НА ОПОРЕ 2  7.269550\n",
      "ТЕМПЕРАТУРА ПОДШИПНИКА НА ОПОРЕ 3  5.220861\n",
      "ТЕМПЕРАТУРА ПОДШИПНИКА НА ОПОРЕ 4  7.224625\n",
      "ТЕМПЕРАТУРА МАСЛА В МАСЛОБЛОКЕ     5.497760\n",
      "ТЕМПЕРАТУРА МАСЛА В СИСТЕМЕ        3.879430\n",
      "ДАВЛЕНИЕ МАСЛА В СИСТЕМЕ           4.398585\n",
      "Y_ЭКСГАУСТЕР А/М №4_ЭЛЕКТРОАППАРАТУРА ЭКСГ. №4 M1 None 0 0 0\n"
     ]
    },
    {
     "data": {
      "application/vnd.jupyter.widget-view+json": {
       "model_id": "97be09315ab94559b71abdbd950777c3",
       "version_major": 2,
       "version_minor": 0
      },
      "text/plain": [
       "MetricVisualizer(layout=Layout(align_self='stretch', height='500px'))"
      ]
     },
     "metadata": {},
     "output_type": "display_data"
    },
    {
     "name": "stdout",
     "output_type": "stream",
     "text": [
      "0:\tlearn: 0.6635756\ttest: 0.6643969\tbest: 0.6643969 (0)\ttotal: 338ms\tremaining: 33.5s\n",
      "50:\tlearn: 0.1336466\ttest: 0.1295987\tbest: 0.1295987 (50)\ttotal: 17.8s\tremaining: 17.1s\n",
      "99:\tlearn: 0.0414208\ttest: 0.0382039\tbest: 0.0382039 (99)\ttotal: 35.1s\tremaining: 0us\n",
      "\n",
      "bestTest = 0.03820387677\n",
      "bestIteration = 99\n",
      "\n",
      "                                           0\n",
      "ТОК РОТОРА 1                       29.912219\n",
      "ТОК РОТОРА 2                       36.365653\n",
      "ТОК СТАТОРА                         0.000000\n",
      "ВИБРАЦИЯ НА ОПОРЕ 1                 0.301304\n",
      "ВИБРАЦИЯ НА ОПОРЕ 2                 0.949697\n",
      "ВИБРАЦИЯ НА ОПОРЕ 3                 1.531078\n",
      "ВИБРАЦИЯ НА ОПОРЕ 3. ПРОДОЛЬНАЯ     6.662420\n",
      "ВИБРАЦИЯ НА ОПОРЕ 4                 5.478049\n",
      "ВИБРАЦИЯ НА ОПОРЕ 4. ПРОДОЛЬНАЯ     9.560284\n",
      "ТЕМПЕРАТУРА ПОДШИПНИКА НА ОПОРЕ 1   0.000000\n",
      "ТЕМПЕРАТУРА ПОДШИПНИКА НА ОПОРЕ 2   0.016348\n",
      "ТЕМПЕРАТУРА ПОДШИПНИКА НА ОПОРЕ 3   0.000000\n",
      "ТЕМПЕРАТУРА ПОДШИПНИКА НА ОПОРЕ 4   0.301940\n",
      "ТЕМПЕРАТУРА МАСЛА В МАСЛОБЛОКЕ      0.605521\n",
      "ТЕМПЕРАТУРА МАСЛА В СИСТЕМЕ         3.514822\n",
      "ДАВЛЕНИЕ МАСЛА В СИСТЕМЕ            4.800665\n",
      "Y_ЭКСГАУСТЕР А/М №4_ЭЛЕКТРОАППАРАТУРА ЭКСГ. №4 M3 0.9536489151873767 967 2 45\n"
     ]
    },
    {
     "data": {
      "application/vnd.jupyter.widget-view+json": {
       "model_id": "99d3e2e8613b4749be8c9a63116d8d05",
       "version_major": 2,
       "version_minor": 0
      },
      "text/plain": [
       "MetricVisualizer(layout=Layout(align_self='stretch', height='500px'))"
      ]
     },
     "metadata": {},
     "output_type": "display_data"
    },
    {
     "name": "stdout",
     "output_type": "stream",
     "text": [
      "0:\tlearn: 0.6613797\ttest: 0.6636001\tbest: 0.6636001 (0)\ttotal: 367ms\tremaining: 36.4s\n",
      "50:\tlearn: 0.1133370\ttest: 0.1135675\tbest: 0.1135675 (50)\ttotal: 21.3s\tremaining: 20.4s\n",
      "99:\tlearn: 0.0249480\ttest: 0.0249866\tbest: 0.0249866 (99)\ttotal: 42.5s\tremaining: 0us\n",
      "\n",
      "bestTest = 0.02498655276\n",
      "bestIteration = 99\n",
      "\n",
      "                                           0\n",
      "ТОК РОТОРА 1                        5.427818\n",
      "ТОК РОТОРА 2                        5.042949\n",
      "ТОК СТАТОРА                         4.199422\n",
      "ВИБРАЦИЯ НА ОПОРЕ 1                 5.875315\n",
      "ВИБРАЦИЯ НА ОПОРЕ 2                 5.630325\n",
      "ВИБРАЦИЯ НА ОПОРЕ 3                 7.512931\n",
      "ВИБРАЦИЯ НА ОПОРЕ 3. ПРОДОЛЬНАЯ     7.447953\n",
      "ВИБРАЦИЯ НА ОПОРЕ 4                11.784947\n",
      "ВИБРАЦИЯ НА ОПОРЕ 4. ПРОДОЛЬНАЯ     6.170580\n",
      "ТЕМПЕРАТУРА ПОДШИПНИКА НА ОПОРЕ 1   7.886646\n",
      "ТЕМПЕРАТУРА ПОДШИПНИКА НА ОПОРЕ 2   7.910988\n",
      "ТЕМПЕРАТУРА ПОДШИПНИКА НА ОПОРЕ 3   4.600199\n",
      "ТЕМПЕРАТУРА ПОДШИПНИКА НА ОПОРЕ 4   6.321670\n",
      "ТЕМПЕРАТУРА МАСЛА В МАСЛОБЛОКЕ      4.627819\n",
      "ТЕМПЕРАТУРА МАСЛА В СИСТЕМЕ         4.820533\n",
      "ДАВЛЕНИЕ МАСЛА В СИСТЕМЕ            4.739904\n",
      "Y_ЭКСГАУСТЕР А/М №4_ПОДШИПНИК ОПОРНЫЙ №2 ЭКСГ. №4 M1 None 0 0 0\n"
     ]
    },
    {
     "data": {
      "application/vnd.jupyter.widget-view+json": {
       "model_id": "193116cef9eb4618a6b354b08c74fbcc",
       "version_major": 2,
       "version_minor": 0
      },
      "text/plain": [
       "MetricVisualizer(layout=Layout(align_self='stretch', height='500px'))"
      ]
     },
     "metadata": {},
     "output_type": "display_data"
    },
    {
     "name": "stdout",
     "output_type": "stream",
     "text": [
      "0:\tlearn: 0.6691883\ttest: 0.6687116\tbest: 0.6687116 (0)\ttotal: 464ms\tremaining: 45.9s\n",
      "50:\tlearn: 0.1722735\ttest: 0.1676515\tbest: 0.1676515 (50)\ttotal: 22.5s\tremaining: 21.7s\n",
      "99:\tlearn: 0.0806922\ttest: 0.0757543\tbest: 0.0757543 (99)\ttotal: 42.6s\tremaining: 0us\n",
      "\n",
      "bestTest = 0.07575425268\n",
      "bestIteration = 99\n",
      "\n",
      "                                           0\n",
      "ТОК РОТОРА 1                        8.541091\n",
      "ТОК РОТОРА 2                        9.159098\n",
      "ТОК СТАТОРА                         0.029474\n",
      "ВИБРАЦИЯ НА ОПОРЕ 1                 3.927418\n",
      "ВИБРАЦИЯ НА ОПОРЕ 2                 3.407505\n",
      "ВИБРАЦИЯ НА ОПОРЕ 3                18.121086\n",
      "ВИБРАЦИЯ НА ОПОРЕ 3. ПРОДОЛЬНАЯ     3.630055\n",
      "ВИБРАЦИЯ НА ОПОРЕ 4                 0.000000\n",
      "ВИБРАЦИЯ НА ОПОРЕ 4. ПРОДОЛЬНАЯ     2.595448\n",
      "ТЕМПЕРАТУРА ПОДШИПНИКА НА ОПОРЕ 1   0.622772\n",
      "ТЕМПЕРАТУРА ПОДШИПНИКА НА ОПОРЕ 2  21.525038\n",
      "ТЕМПЕРАТУРА ПОДШИПНИКА НА ОПОРЕ 3   1.157118\n",
      "ТЕМПЕРАТУРА ПОДШИПНИКА НА ОПОРЕ 4   0.000000\n",
      "ТЕМПЕРАТУРА МАСЛА В МАСЛОБЛОКЕ      0.515479\n",
      "ТЕМПЕРАТУРА МАСЛА В СИСТЕМЕ        10.017342\n",
      "ДАВЛЕНИЕ МАСЛА В СИСТЕМЕ           16.751076\n",
      "Y_ЭКСГАУСТЕР А/М №4_ПОДШИПНИК ОПОРНЫЙ №2 ЭКСГ. №4 M3 0.9198581560283688 1297 10 103\n"
     ]
    },
    {
     "data": {
      "application/vnd.jupyter.widget-view+json": {
       "model_id": "acdcf2ff24d84047a2ac099f2df112de",
       "version_major": 2,
       "version_minor": 0
      },
      "text/plain": [
       "MetricVisualizer(layout=Layout(align_self='stretch', height='500px'))"
      ]
     },
     "metadata": {},
     "output_type": "display_data"
    },
    {
     "name": "stdout",
     "output_type": "stream",
     "text": [
      "0:\tlearn: 0.6613951\ttest: 0.6636075\tbest: 0.6636075 (0)\ttotal: 368ms\tremaining: 36.4s\n",
      "50:\tlearn: 0.1137191\ttest: 0.1136763\tbest: 0.1136763 (50)\ttotal: 21.8s\tremaining: 20.9s\n",
      "99:\tlearn: 0.0253045\ttest: 0.0250803\tbest: 0.0250803 (99)\ttotal: 41.7s\tremaining: 0us\n",
      "\n",
      "bestTest = 0.02508026091\n",
      "bestIteration = 99\n",
      "\n",
      "                                           0\n",
      "ТОК РОТОРА 1                        3.248331\n",
      "ТОК РОТОРА 2                       10.160252\n",
      "ТОК СТАТОРА                         3.906214\n",
      "ВИБРАЦИЯ НА ОПОРЕ 1                 3.442289\n",
      "ВИБРАЦИЯ НА ОПОРЕ 2                 2.406654\n",
      "ВИБРАЦИЯ НА ОПОРЕ 3                 2.642286\n",
      "ВИБРАЦИЯ НА ОПОРЕ 3. ПРОДОЛЬНАЯ     7.656235\n",
      "ВИБРАЦИЯ НА ОПОРЕ 4                 4.046746\n",
      "ВИБРАЦИЯ НА ОПОРЕ 4. ПРОДОЛЬНАЯ     2.929872\n",
      "ТЕМПЕРАТУРА ПОДШИПНИКА НА ОПОРЕ 1   4.991118\n",
      "ТЕМПЕРАТУРА ПОДШИПНИКА НА ОПОРЕ 2   4.096516\n",
      "ТЕМПЕРАТУРА ПОДШИПНИКА НА ОПОРЕ 3   2.705358\n",
      "ТЕМПЕРАТУРА ПОДШИПНИКА НА ОПОРЕ 4   9.721177\n",
      "ТЕМПЕРАТУРА МАСЛА В МАСЛОБЛОКЕ      1.174552\n",
      "ТЕМПЕРАТУРА МАСЛА В СИСТЕМЕ        13.266977\n",
      "ДАВЛЕНИЕ МАСЛА В СИСТЕМЕ           23.605424\n",
      "Y_ЭКСГАУСТЕР А/М №4_ЗАДВИЖКА ЭКСГ. №4 M1 0.0 0 0 2\n"
     ]
    },
    {
     "data": {
      "application/vnd.jupyter.widget-view+json": {
       "model_id": "66fe725ffa164d2581b9265cfe28d634",
       "version_major": 2,
       "version_minor": 0
      },
      "text/plain": [
       "MetricVisualizer(layout=Layout(align_self='stretch', height='500px'))"
      ]
     },
     "metadata": {},
     "output_type": "display_data"
    },
    {
     "name": "stdout",
     "output_type": "stream",
     "text": [
      "0:\tlearn: 0.6692867\ttest: 0.6691835\tbest: 0.6691835 (0)\ttotal: 468ms\tremaining: 46.3s\n",
      "50:\tlearn: 0.2121195\ttest: 0.2050074\tbest: 0.2050074 (50)\ttotal: 21.2s\tremaining: 20.4s\n",
      "99:\tlearn: 0.1184405\ttest: 0.1104962\tbest: 0.1104962 (99)\ttotal: 42.4s\tremaining: 0us\n",
      "\n",
      "bestTest = 0.1104961937\n",
      "bestIteration = 99\n",
      "\n",
      "                                           0\n",
      "ТОК РОТОРА 1                        2.995098\n",
      "ТОК РОТОРА 2                        3.567861\n",
      "ТОК СТАТОРА                         1.246247\n",
      "ВИБРАЦИЯ НА ОПОРЕ 1                 1.933568\n",
      "ВИБРАЦИЯ НА ОПОРЕ 2                 1.531849\n",
      "ВИБРАЦИЯ НА ОПОРЕ 3                 4.235598\n",
      "ВИБРАЦИЯ НА ОПОРЕ 3. ПРОДОЛЬНАЯ    12.034259\n",
      "ВИБРАЦИЯ НА ОПОРЕ 4                 3.804185\n",
      "ВИБРАЦИЯ НА ОПОРЕ 4. ПРОДОЛЬНАЯ    20.257523\n",
      "ТЕМПЕРАТУРА ПОДШИПНИКА НА ОПОРЕ 1   7.811415\n",
      "ТЕМПЕРАТУРА ПОДШИПНИКА НА ОПОРЕ 2   5.480761\n",
      "ТЕМПЕРАТУРА ПОДШИПНИКА НА ОПОРЕ 3   1.574990\n",
      "ТЕМПЕРАТУРА ПОДШИПНИКА НА ОПОРЕ 4   1.201398\n",
      "ТЕМПЕРАТУРА МАСЛА В МАСЛОБЛОКЕ      2.526351\n",
      "ТЕМПЕРАТУРА МАСЛА В СИСТЕМЕ         3.018853\n",
      "ДАВЛЕНИЕ МАСЛА В СИСТЕМЕ           26.780042\n",
      "Y_ЭКСГАУСТЕР А/М №4_ЗАДВИЖКА ЭКСГ. №4 M3 0.7733333333333333 986 81 208\n"
     ]
    },
    {
     "data": {
      "application/vnd.jupyter.widget-view+json": {
       "model_id": "9f10496a3d4241f8a35e2f596b125972",
       "version_major": 2,
       "version_minor": 0
      },
      "text/plain": [
       "MetricVisualizer(layout=Layout(align_self='stretch', height='500px'))"
      ]
     },
     "metadata": {},
     "output_type": "display_data"
    },
    {
     "name": "stdout",
     "output_type": "stream",
     "text": [
      "0:\tlearn: 0.6667698\ttest: 0.6679757\tbest: 0.6679757 (0)\ttotal: 358ms\tremaining: 35.5s\n",
      "50:\tlearn: 0.1972103\ttest: 0.1946977\tbest: 0.1946977 (50)\ttotal: 18.7s\tremaining: 18s\n",
      "99:\tlearn: 0.1042044\ttest: 0.1024991\tbest: 0.1024991 (99)\ttotal: 37.7s\tremaining: 0us\n",
      "\n",
      "bestTest = 0.102499099\n",
      "bestIteration = 99\n",
      "\n",
      "                                           0\n",
      "ТОК РОТОРА 1                        6.695477\n",
      "ТОК РОТОРА 2                        6.549644\n",
      "ТОК СТАТОРА                         0.719619\n",
      "ВИБРАЦИЯ НА ОПОРЕ 1                 9.707254\n",
      "ВИБРАЦИЯ НА ОПОРЕ 2                 0.844229\n",
      "ВИБРАЦИЯ НА ОПОРЕ 3                11.665820\n",
      "ВИБРАЦИЯ НА ОПОРЕ 3. ПРОДОЛЬНАЯ    17.486721\n",
      "ВИБРАЦИЯ НА ОПОРЕ 4                11.463611\n",
      "ВИБРАЦИЯ НА ОПОРЕ 4. ПРОДОЛЬНАЯ    14.622451\n",
      "ТЕМПЕРАТУРА ПОДШИПНИКА НА ОПОРЕ 1   4.445732\n",
      "ТЕМПЕРАТУРА ПОДШИПНИКА НА ОПОРЕ 2   0.805059\n",
      "ТЕМПЕРАТУРА ПОДШИПНИКА НА ОПОРЕ 3   3.965557\n",
      "ТЕМПЕРАТУРА ПОДШИПНИКА НА ОПОРЕ 4   2.532766\n",
      "ТЕМПЕРАТУРА МАСЛА В МАСЛОБЛОКЕ      0.000000\n",
      "ТЕМПЕРАТУРА МАСЛА В СИСТЕМЕ         0.654228\n",
      "ДАВЛЕНИЕ МАСЛА В СИСТЕМЕ            7.841830\n",
      "Y_ЭКСГАУСТЕР А/М №4_ГСМ ЭКСГ. №4 M3 0.7655954631379962 810 24 224\n"
     ]
    },
    {
     "data": {
      "application/vnd.jupyter.widget-view+json": {
       "model_id": "ba2087e91d214e7cb423f9074da7cec9",
       "version_major": 2,
       "version_minor": 0
      },
      "text/plain": [
       "MetricVisualizer(layout=Layout(align_self='stretch', height='500px'))"
      ]
     },
     "metadata": {},
     "output_type": "display_data"
    },
    {
     "name": "stdout",
     "output_type": "stream",
     "text": [
      "0:\tlearn: 0.6613826\ttest: 0.6636018\tbest: 0.6636018 (0)\ttotal: 375ms\tremaining: 37.1s\n",
      "50:\tlearn: 0.1134736\ttest: 0.1135943\tbest: 0.1135943 (50)\ttotal: 21.7s\tremaining: 20.9s\n",
      "99:\tlearn: 0.0251042\ttest: 0.0250236\tbest: 0.0250236 (99)\ttotal: 42.3s\tremaining: 0us\n",
      "\n",
      "bestTest = 0.02502364961\n",
      "bestIteration = 99\n",
      "\n",
      "                                           0\n",
      "ТОК РОТОРА 1                        0.501413\n",
      "ТОК РОТОРА 2                        0.241904\n",
      "ТОК СТАТОРА                         0.489895\n",
      "ВИБРАЦИЯ НА ОПОРЕ 1                 8.070669\n",
      "ВИБРАЦИЯ НА ОПОРЕ 2                 1.984649\n",
      "ВИБРАЦИЯ НА ОПОРЕ 3                 9.561431\n",
      "ВИБРАЦИЯ НА ОПОРЕ 3. ПРОДОЛЬНАЯ     0.668219\n",
      "ВИБРАЦИЯ НА ОПОРЕ 4                36.970453\n",
      "ВИБРАЦИЯ НА ОПОРЕ 4. ПРОДОЛЬНАЯ     0.623099\n",
      "ТЕМПЕРАТУРА ПОДШИПНИКА НА ОПОРЕ 1   0.602820\n",
      "ТЕМПЕРАТУРА ПОДШИПНИКА НА ОПОРЕ 2  14.229301\n",
      "ТЕМПЕРАТУРА ПОДШИПНИКА НА ОПОРЕ 3   0.424865\n",
      "ТЕМПЕРАТУРА ПОДШИПНИКА НА ОПОРЕ 4   3.048885\n",
      "ТЕМПЕРАТУРА МАСЛА В МАСЛОБЛОКЕ     13.996257\n",
      "ТЕМПЕРАТУРА МАСЛА В СИСТЕМЕ         7.977402\n",
      "ДАВЛЕНИЕ МАСЛА В СИСТЕМЕ            0.608738\n",
      "Y_ЭКСГАУСТЕР А/М №4_ВК 310С ВИБРОПРЕОБРАЗОВАТЕЛЬ ЭКСГ.№4 Т.1 M3 None 0 0 0\n"
     ]
    },
    {
     "data": {
      "application/vnd.jupyter.widget-view+json": {
       "model_id": "466d87193dde4cd688d12d1b40f931cc",
       "version_major": 2,
       "version_minor": 0
      },
      "text/plain": [
       "MetricVisualizer(layout=Layout(align_self='stretch', height='500px'))"
      ]
     },
     "metadata": {},
     "output_type": "display_data"
    },
    {
     "name": "stdout",
     "output_type": "stream",
     "text": [
      "0:\tlearn: 0.6613848\ttest: 0.6636034\tbest: 0.6636034 (0)\ttotal: 371ms\tremaining: 36.7s\n",
      "50:\tlearn: 0.1135673\ttest: 0.1136277\tbest: 0.1136277 (50)\ttotal: 21.4s\tremaining: 20.5s\n",
      "99:\tlearn: 0.0251588\ttest: 0.0250353\tbest: 0.0250353 (99)\ttotal: 41.8s\tremaining: 0us\n",
      "\n",
      "bestTest = 0.02503531299\n",
      "bestIteration = 99\n",
      "\n",
      "                                           0\n",
      "ТОК РОТОРА 1                        0.391026\n",
      "ТОК РОТОРА 2                        0.135093\n",
      "ТОК СТАТОРА                         3.668544\n",
      "ВИБРАЦИЯ НА ОПОРЕ 1                 5.441674\n",
      "ВИБРАЦИЯ НА ОПОРЕ 2                 0.271730\n",
      "ВИБРАЦИЯ НА ОПОРЕ 3                 4.340100\n",
      "ВИБРАЦИЯ НА ОПОРЕ 3. ПРОДОЛЬНАЯ     0.585781\n",
      "ВИБРАЦИЯ НА ОПОРЕ 4                28.486998\n",
      "ВИБРАЦИЯ НА ОПОРЕ 4. ПРОДОЛЬНАЯ     0.373340\n",
      "ТЕМПЕРАТУРА ПОДШИПНИКА НА ОПОРЕ 1   0.534780\n",
      "ТЕМПЕРАТУРА ПОДШИПНИКА НА ОПОРЕ 2  16.074831\n",
      "ТЕМПЕРАТУРА ПОДШИПНИКА НА ОПОРЕ 3   3.211343\n",
      "ТЕМПЕРАТУРА ПОДШИПНИКА НА ОПОРЕ 4   6.618129\n",
      "ТЕМПЕРАТУРА МАСЛА В МАСЛОБЛОКЕ     17.709155\n",
      "ТЕМПЕРАТУРА МАСЛА В СИСТЕМЕ        11.698364\n",
      "ДАВЛЕНИЕ МАСЛА В СИСТЕМЕ            0.459113\n",
      "Y_ЭКСГАУСТЕР А/М №4_ТСМТ-101-010-50М-400 ТЕРМОПР.ПОДШ.Т.1 M3 0.0 0 0 1\n"
     ]
    },
    {
     "data": {
      "application/vnd.jupyter.widget-view+json": {
       "model_id": "037cb4a999f04b9ca02f0d1ca0f89d58",
       "version_major": 2,
       "version_minor": 0
      },
      "text/plain": [
       "MetricVisualizer(layout=Layout(align_self='stretch', height='500px'))"
      ]
     },
     "metadata": {},
     "output_type": "display_data"
    },
    {
     "name": "stdout",
     "output_type": "stream",
     "text": [
      "0:\tlearn: 0.6613818\ttest: 0.6636018\tbest: 0.6636018 (0)\ttotal: 367ms\tremaining: 36.4s\n",
      "50:\tlearn: 0.1133983\ttest: 0.1135829\tbest: 0.1135829 (50)\ttotal: 21.6s\tremaining: 20.8s\n",
      "99:\tlearn: 0.0250372\ttest: 0.0250043\tbest: 0.0250043 (99)\ttotal: 42.5s\tremaining: 0us\n",
      "\n",
      "bestTest = 0.02500432664\n",
      "bestIteration = 99\n",
      "\n",
      "                                           0\n",
      "ТОК РОТОРА 1                        2.832335\n",
      "ТОК РОТОРА 2                       11.413589\n",
      "ТОК СТАТОРА                         1.957878\n",
      "ВИБРАЦИЯ НА ОПОРЕ 1                 3.994342\n",
      "ВИБРАЦИЯ НА ОПОРЕ 2                 3.732350\n",
      "ВИБРАЦИЯ НА ОПОРЕ 3                 5.699541\n",
      "ВИБРАЦИЯ НА ОПОРЕ 3. ПРОДОЛЬНАЯ    10.624497\n",
      "ВИБРАЦИЯ НА ОПОРЕ 4                 2.379581\n",
      "ВИБРАЦИЯ НА ОПОРЕ 4. ПРОДОЛЬНАЯ     8.474433\n",
      "ТЕМПЕРАТУРА ПОДШИПНИКА НА ОПОРЕ 1   4.661062\n",
      "ТЕМПЕРАТУРА ПОДШИПНИКА НА ОПОРЕ 2  14.616090\n",
      "ТЕМПЕРАТУРА ПОДШИПНИКА НА ОПОРЕ 3   5.398618\n",
      "ТЕМПЕРАТУРА ПОДШИПНИКА НА ОПОРЕ 4   4.431961\n",
      "ТЕМПЕРАТУРА МАСЛА В МАСЛОБЛОКЕ      3.484627\n",
      "ТЕМПЕРАТУРА МАСЛА В СИСТЕМЕ         8.874393\n",
      "ДАВЛЕНИЕ МАСЛА В СИСТЕМЕ            7.424702\n",
      "Y_ЭКСГАУСТЕР А/М №4_РОТОР ЭКСГ. №4 M1 None 0 0 0\n"
     ]
    },
    {
     "data": {
      "application/vnd.jupyter.widget-view+json": {
       "model_id": "079c33419cb748a782410ab218c4d853",
       "version_major": 2,
       "version_minor": 0
      },
      "text/plain": [
       "MetricVisualizer(layout=Layout(align_self='stretch', height='500px'))"
      ]
     },
     "metadata": {},
     "output_type": "display_data"
    },
    {
     "name": "stdout",
     "output_type": "stream",
     "text": [
      "0:\tlearn: 0.6746844\ttest: 0.6739650\tbest: 0.6739650 (0)\ttotal: 385ms\tremaining: 38.1s\n",
      "50:\tlearn: 0.2548850\ttest: 0.2543273\tbest: 0.2543273 (50)\ttotal: 21.9s\tremaining: 21.1s\n",
      "99:\tlearn: 0.1395187\ttest: 0.1411019\tbest: 0.1411019 (99)\ttotal: 42.1s\tremaining: 0us\n",
      "\n",
      "bestTest = 0.141101854\n",
      "bestIteration = 99\n",
      "\n",
      "                                           0\n",
      "ТОК РОТОРА 1                       10.261650\n",
      "ТОК РОТОРА 2                        9.544321\n",
      "ТОК СТАТОРА                         1.971574\n",
      "ВИБРАЦИЯ НА ОПОРЕ 1                 1.179552\n",
      "ВИБРАЦИЯ НА ОПОРЕ 2                 5.043097\n",
      "ВИБРАЦИЯ НА ОПОРЕ 3                 0.113392\n",
      "ВИБРАЦИЯ НА ОПОРЕ 3. ПРОДОЛЬНАЯ     2.606118\n",
      "ВИБРАЦИЯ НА ОПОРЕ 4                 5.119656\n",
      "ВИБРАЦИЯ НА ОПОРЕ 4. ПРОДОЛЬНАЯ    13.593717\n",
      "ТЕМПЕРАТУРА ПОДШИПНИКА НА ОПОРЕ 1   6.798012\n",
      "ТЕМПЕРАТУРА ПОДШИПНИКА НА ОПОРЕ 2  15.190705\n",
      "ТЕМПЕРАТУРА ПОДШИПНИКА НА ОПОРЕ 3   4.502733\n",
      "ТЕМПЕРАТУРА ПОДШИПНИКА НА ОПОРЕ 4   0.100373\n",
      "ТЕМПЕРАТУРА МАСЛА В МАСЛОБЛОКЕ      0.000000\n",
      "ТЕМПЕРАТУРА МАСЛА В СИСТЕМЕ        18.634132\n",
      "ДАВЛЕНИЕ МАСЛА В СИСТЕМЕ            5.340967\n",
      "Y_ЭКСГАУСТЕР А/М №4_РОТОР ЭКСГ. №4 M3 0.9643903538426865 4279 42 116\n"
     ]
    },
    {
     "data": {
      "application/vnd.jupyter.widget-view+json": {
       "model_id": "42f2eac4c7574829b2f53bcee00f4b19",
       "version_major": 2,
       "version_minor": 0
      },
      "text/plain": [
       "MetricVisualizer(layout=Layout(align_self='stretch', height='500px'))"
      ]
     },
     "metadata": {},
     "output_type": "display_data"
    },
    {
     "name": "stdout",
     "output_type": "stream",
     "text": [
      "0:\tlearn: 0.6626491\ttest: 0.6644034\tbest: 0.6644034 (0)\ttotal: 473ms\tremaining: 46.8s\n",
      "50:\tlearn: 0.1242964\ttest: 0.1243972\tbest: 0.1243972 (50)\ttotal: 23s\tremaining: 22.1s\n",
      "99:\tlearn: 0.0349222\ttest: 0.0339045\tbest: 0.0339045 (99)\ttotal: 45s\tremaining: 0us\n",
      "\n",
      "bestTest = 0.03390451688\n",
      "bestIteration = 99\n",
      "\n",
      "                                           0\n",
      "ТОК РОТОРА 1                        7.039629\n",
      "ТОК РОТОРА 2                        8.140053\n",
      "ТОК СТАТОРА                         1.390144\n",
      "ВИБРАЦИЯ НА ОПОРЕ 1                 0.978645\n",
      "ВИБРАЦИЯ НА ОПОРЕ 2                16.370937\n",
      "ВИБРАЦИЯ НА ОПОРЕ 3                24.205412\n",
      "ВИБРАЦИЯ НА ОПОРЕ 3. ПРОДОЛЬНАЯ     7.102163\n",
      "ВИБРАЦИЯ НА ОПОРЕ 4                 1.238553\n",
      "ВИБРАЦИЯ НА ОПОРЕ 4. ПРОДОЛЬНАЯ     2.848300\n",
      "ТЕМПЕРАТУРА ПОДШИПНИКА НА ОПОРЕ 1   3.569069\n",
      "ТЕМПЕРАТУРА ПОДШИПНИКА НА ОПОРЕ 2   4.428936\n",
      "ТЕМПЕРАТУРА ПОДШИПНИКА НА ОПОРЕ 3   3.159260\n",
      "ТЕМПЕРАТУРА ПОДШИПНИКА НА ОПОРЕ 4   1.275826\n",
      "ТЕМПЕРАТУРА МАСЛА В МАСЛОБЛОКЕ      0.739424\n",
      "ТЕМПЕРАТУРА МАСЛА В СИСТЕМЕ         6.082698\n",
      "ДАВЛЕНИЕ МАСЛА В СИСТЕМЕ           11.430951\n",
      "Y_ЭКСГАУСТЕР А/М №4_МАСЛООХЛАДИТЕЛЬ  М-05-1 ЭКСГ. №4 M3 0.8793103448275862 102 0 14\n"
     ]
    },
    {
     "data": {
      "application/vnd.jupyter.widget-view+json": {
       "model_id": "c64ca7778486490990cf5cb4cb362673",
       "version_major": 2,
       "version_minor": 0
      },
      "text/plain": [
       "MetricVisualizer(layout=Layout(align_self='stretch', height='500px'))"
      ]
     },
     "metadata": {},
     "output_type": "display_data"
    },
    {
     "name": "stdout",
     "output_type": "stream",
     "text": [
      "0:\tlearn: 0.6613871\ttest: 0.6636049\tbest: 0.6636049 (0)\ttotal: 363ms\tremaining: 36s\n",
      "50:\tlearn: 0.1135634\ttest: 0.1136302\tbest: 0.1136302 (50)\ttotal: 21.5s\tremaining: 20.7s\n",
      "99:\tlearn: 0.0250977\ttest: 0.0250330\tbest: 0.0250330 (99)\ttotal: 41.9s\tremaining: 0us\n",
      "\n",
      "bestTest = 0.02503299011\n",
      "bestIteration = 99\n",
      "\n",
      "                                           0\n",
      "ТОК РОТОРА 1                        6.263308\n",
      "ТОК РОТОРА 2                        2.829774\n",
      "ТОК СТАТОРА                        12.702993\n",
      "ВИБРАЦИЯ НА ОПОРЕ 1                 1.104504\n",
      "ВИБРАЦИЯ НА ОПОРЕ 2                 2.040173\n",
      "ВИБРАЦИЯ НА ОПОРЕ 3                 1.994406\n",
      "ВИБРАЦИЯ НА ОПОРЕ 3. ПРОДОЛЬНАЯ     2.080977\n",
      "ВИБРАЦИЯ НА ОПОРЕ 4                 0.691158\n",
      "ВИБРАЦИЯ НА ОПОРЕ 4. ПРОДОЛЬНАЯ     0.993273\n",
      "ТЕМПЕРАТУРА ПОДШИПНИКА НА ОПОРЕ 1   1.995014\n",
      "ТЕМПЕРАТУРА ПОДШИПНИКА НА ОПОРЕ 2   1.413718\n",
      "ТЕМПЕРАТУРА ПОДШИПНИКА НА ОПОРЕ 3  34.520264\n",
      "ТЕМПЕРАТУРА ПОДШИПНИКА НА ОПОРЕ 4  12.064470\n",
      "ТЕМПЕРАТУРА МАСЛА В МАСЛОБЛОКЕ     14.907864\n",
      "ТЕМПЕРАТУРА МАСЛА В СИСТЕМЕ         1.396214\n",
      "ДАВЛЕНИЕ МАСЛА В СИСТЕМЕ            3.001889\n",
      "Y_ЭКСГАУСТЕР А/М №4_ПОДШИПНИК ОПОРНО-УПОРНЫЙ ЭКСГ. №4 M1 0.0 0 0 2\n"
     ]
    },
    {
     "data": {
      "application/vnd.jupyter.widget-view+json": {
       "model_id": "ab5eb83d049241499cb7daf843d02de7",
       "version_major": 2,
       "version_minor": 0
      },
      "text/plain": [
       "MetricVisualizer(layout=Layout(align_self='stretch', height='500px'))"
      ]
     },
     "metadata": {},
     "output_type": "display_data"
    },
    {
     "name": "stdout",
     "output_type": "stream",
     "text": [
      "0:\tlearn: 0.6688511\ttest: 0.6689084\tbest: 0.6689084 (0)\ttotal: 430ms\tremaining: 42.6s\n",
      "50:\tlearn: 0.1876543\ttest: 0.1864851\tbest: 0.1864851 (50)\ttotal: 21.4s\tremaining: 20.6s\n",
      "99:\tlearn: 0.0828118\ttest: 0.0816482\tbest: 0.0816482 (99)\ttotal: 41.9s\tremaining: 0us\n",
      "\n",
      "bestTest = 0.0816481789\n",
      "bestIteration = 99\n",
      "\n",
      "                                           0\n",
      "ТОК РОТОРА 1                       17.847577\n",
      "ТОК РОТОРА 2                       18.657595\n",
      "ТОК СТАТОРА                         0.000000\n",
      "ВИБРАЦИЯ НА ОПОРЕ 1                 0.045476\n",
      "ВИБРАЦИЯ НА ОПОРЕ 2                 0.093632\n",
      "ВИБРАЦИЯ НА ОПОРЕ 3                 4.171731\n",
      "ВИБРАЦИЯ НА ОПОРЕ 3. ПРОДОЛЬНАЯ    14.681186\n",
      "ВИБРАЦИЯ НА ОПОРЕ 4                11.312650\n",
      "ВИБРАЦИЯ НА ОПОРЕ 4. ПРОДОЛЬНАЯ     8.465652\n",
      "ТЕМПЕРАТУРА ПОДШИПНИКА НА ОПОРЕ 1   8.372848\n",
      "ТЕМПЕРАТУРА ПОДШИПНИКА НА ОПОРЕ 2   1.782000\n",
      "ТЕМПЕРАТУРА ПОДШИПНИКА НА ОПОРЕ 3   0.000000\n",
      "ТЕМПЕРАТУРА ПОДШИПНИКА НА ОПОРЕ 4   3.728144\n",
      "ТЕМПЕРАТУРА МАСЛА В МАСЛОБЛОКЕ      0.470873\n",
      "ТЕМПЕРАТУРА МАСЛА В СИСТЕМЕ         6.055729\n",
      "ДАВЛЕНИЕ МАСЛА В СИСТЕМЕ            4.314906\n",
      "Y_ЭКСГАУСТЕР А/М №4_ПОДШИПНИК ОПОРНО-УПОРНЫЙ ЭКСГ. №4 M3 0.949556282111163 2033 34 74\n"
     ]
    },
    {
     "data": {
      "application/vnd.jupyter.widget-view+json": {
       "model_id": "fc402535402543e8a89dddc83b5dad8c",
       "version_major": 2,
       "version_minor": 0
      },
      "text/plain": [
       "MetricVisualizer(layout=Layout(align_self='stretch', height='500px'))"
      ]
     },
     "metadata": {},
     "output_type": "display_data"
    },
    {
     "name": "stdout",
     "output_type": "stream",
     "text": [
      "0:\tlearn: 0.6614138\ttest: 0.6636740\tbest: 0.6636740 (0)\ttotal: 368ms\tremaining: 36.4s\n",
      "50:\tlearn: 0.1138973\ttest: 0.1152649\tbest: 0.1152649 (50)\ttotal: 21.5s\tremaining: 20.7s\n",
      "99:\tlearn: 0.0253343\ttest: 0.0260000\tbest: 0.0260000 (99)\ttotal: 40.7s\tremaining: 0us\n",
      "\n",
      "bestTest = 0.02600001415\n",
      "bestIteration = 99\n",
      "\n",
      "                                           0\n",
      "ТОК РОТОРА 1                        0.367311\n",
      "ТОК РОТОРА 2                        0.572075\n",
      "ТОК СТАТОРА                         4.355557\n",
      "ВИБРАЦИЯ НА ОПОРЕ 1                 5.206901\n",
      "ВИБРАЦИЯ НА ОПОРЕ 2                 1.287074\n",
      "ВИБРАЦИЯ НА ОПОРЕ 3                 2.220349\n",
      "ВИБРАЦИЯ НА ОПОРЕ 3. ПРОДОЛЬНАЯ     2.108504\n",
      "ВИБРАЦИЯ НА ОПОРЕ 4                 1.070861\n",
      "ВИБРАЦИЯ НА ОПОРЕ 4. ПРОДОЛЬНАЯ     1.280665\n",
      "ТЕМПЕРАТУРА ПОДШИПНИКА НА ОПОРЕ 1   1.832665\n",
      "ТЕМПЕРАТУРА ПОДШИПНИКА НА ОПОРЕ 2   1.093997\n",
      "ТЕМПЕРАТУРА ПОДШИПНИКА НА ОПОРЕ 3  15.377633\n",
      "ТЕМПЕРАТУРА ПОДШИПНИКА НА ОПОРЕ 4   8.418815\n",
      "ТЕМПЕРАТУРА МАСЛА В МАСЛОБЛОКЕ     38.050293\n",
      "ТЕМПЕРАТУРА МАСЛА В СИСТЕМЕ        12.823437\n",
      "ДАВЛЕНИЕ МАСЛА В СИСТЕМЕ            3.933862\n",
      "Y_ЭКСГАУСТЕР А/М №4_ЭКСГАУСТЕР А/М №4 M1 0.3333333333333333 1 0 2\n"
     ]
    },
    {
     "data": {
      "application/vnd.jupyter.widget-view+json": {
       "model_id": "41362a2ba13548a68b962760a177fc6a",
       "version_major": 2,
       "version_minor": 0
      },
      "text/plain": [
       "MetricVisualizer(layout=Layout(align_self='stretch', height='500px'))"
      ]
     },
     "metadata": {},
     "output_type": "display_data"
    },
    {
     "name": "stdout",
     "output_type": "stream",
     "text": [
      "0:\tlearn: 0.6624638\ttest: 0.6643819\tbest: 0.6643819 (0)\ttotal: 363ms\tremaining: 36s\n",
      "50:\tlearn: 0.1263049\ttest: 0.1259410\tbest: 0.1259410 (50)\ttotal: 18.2s\tremaining: 17.5s\n",
      "99:\tlearn: 0.0369697\ttest: 0.0366895\tbest: 0.0366895 (99)\ttotal: 36.9s\tremaining: 0us\n",
      "\n",
      "bestTest = 0.03668947435\n",
      "bestIteration = 99\n",
      "\n",
      "                                           0\n",
      "ТОК РОТОРА 1                        2.105725\n",
      "ТОК РОТОРА 2                        3.018147\n",
      "ТОК СТАТОРА                         1.795701\n",
      "ВИБРАЦИЯ НА ОПОРЕ 1                 0.245203\n",
      "ВИБРАЦИЯ НА ОПОРЕ 2                 2.363467\n",
      "ВИБРАЦИЯ НА ОПОРЕ 3                 3.470492\n",
      "ВИБРАЦИЯ НА ОПОРЕ 3. ПРОДОЛЬНАЯ     5.601831\n",
      "ВИБРАЦИЯ НА ОПОРЕ 4                18.341726\n",
      "ВИБРАЦИЯ НА ОПОРЕ 4. ПРОДОЛЬНАЯ    43.660091\n",
      "ТЕМПЕРАТУРА ПОДШИПНИКА НА ОПОРЕ 1   5.948188\n",
      "ТЕМПЕРАТУРА ПОДШИПНИКА НА ОПОРЕ 2   0.383171\n",
      "ТЕМПЕРАТУРА ПОДШИПНИКА НА ОПОРЕ 3   0.261568\n",
      "ТЕМПЕРАТУРА ПОДШИПНИКА НА ОПОРЕ 4   6.352249\n",
      "ТЕМПЕРАТУРА МАСЛА В МАСЛОБЛОКЕ      0.000000\n",
      "ТЕМПЕРАТУРА МАСЛА В СИСТЕМЕ         0.380423\n",
      "ДАВЛЕНИЕ МАСЛА В СИСТЕМЕ            6.072018\n",
      "Y_ЭКСГАУСТЕР А/М №4_ЗАП. И РЕГ. АРМАТУРА ЭКСГ.№4 M3 0.918200408997955 449 0 40\n"
     ]
    },
    {
     "data": {
      "application/vnd.jupyter.widget-view+json": {
       "model_id": "737a13b1c83347f4a25b2756006cb2ca",
       "version_major": 2,
       "version_minor": 0
      },
      "text/plain": [
       "MetricVisualizer(layout=Layout(align_self='stretch', height='500px'))"
      ]
     },
     "metadata": {},
     "output_type": "display_data"
    },
    {
     "name": "stdout",
     "output_type": "stream",
     "text": [
      "0:\tlearn: 0.6636769\ttest: 0.6648919\tbest: 0.6648919 (0)\ttotal: 336ms\tremaining: 33.2s\n",
      "50:\tlearn: 0.1371502\ttest: 0.1351323\tbest: 0.1351323 (50)\ttotal: 19.2s\tremaining: 18.5s\n",
      "99:\tlearn: 0.0433848\ttest: 0.0413951\tbest: 0.0413951 (99)\ttotal: 37.5s\tremaining: 0us\n",
      "\n",
      "bestTest = 0.04139505942\n",
      "bestIteration = 99\n",
      "\n",
      "                                           0\n",
      "ТОК РОТОРА 1                        5.620821\n",
      "ТОК РОТОРА 2                        5.863024\n",
      "ТОК СТАТОРА                         1.110070\n",
      "ВИБРАЦИЯ НА ОПОРЕ 1                 1.751911\n",
      "ВИБРАЦИЯ НА ОПОРЕ 2                13.420838\n",
      "ВИБРАЦИЯ НА ОПОРЕ 3                10.170757\n",
      "ВИБРАЦИЯ НА ОПОРЕ 3. ПРОДОЛЬНАЯ     6.148963\n",
      "ВИБРАЦИЯ НА ОПОРЕ 4                12.170613\n",
      "ВИБРАЦИЯ НА ОПОРЕ 4. ПРОДОЛЬНАЯ    14.199550\n",
      "ТЕМПЕРАТУРА ПОДШИПНИКА НА ОПОРЕ 1   0.000000\n",
      "ТЕМПЕРАТУРА ПОДШИПНИКА НА ОПОРЕ 2   0.105133\n",
      "ТЕМПЕРАТУРА ПОДШИПНИКА НА ОПОРЕ 3   1.397056\n",
      "ТЕМПЕРАТУРА ПОДШИПНИКА НА ОПОРЕ 4   2.420496\n",
      "ТЕМПЕРАТУРА МАСЛА В МАСЛОБЛОКЕ      1.814120\n",
      "ТЕМПЕРАТУРА МАСЛА В СИСТЕМЕ         0.000000\n",
      "ДАВЛЕНИЕ МАСЛА В СИСТЕМЕ           23.806648\n",
      "Y_ЭКСГАУСТЕР А/М №4_ПОДШИПНИК ОПОРНЫЙ №1 ЭКСГ. №4 M3 0.9088669950738916 369 1 36\n"
     ]
    },
    {
     "data": {
      "application/vnd.jupyter.widget-view+json": {
       "model_id": "db2a1975da574f08a6c4acd87484cb3f",
       "version_major": 2,
       "version_minor": 0
      },
      "text/plain": [
       "MetricVisualizer(layout=Layout(align_self='stretch', height='500px'))"
      ]
     },
     "metadata": {},
     "output_type": "display_data"
    },
    {
     "name": "stdout",
     "output_type": "stream",
     "text": [
      "0:\tlearn: 0.6621184\ttest: 0.6640850\tbest: 0.6640850 (0)\ttotal: 383ms\tremaining: 37.9s\n",
      "50:\tlearn: 0.1216734\ttest: 0.1228329\tbest: 0.1228329 (50)\ttotal: 20.7s\tremaining: 19.8s\n",
      "99:\tlearn: 0.0332720\ttest: 0.0339474\tbest: 0.0339474 (99)\ttotal: 40.7s\tremaining: 0us\n",
      "\n",
      "bestTest = 0.03394742407\n",
      "bestIteration = 99\n",
      "\n",
      "                                           0\n",
      "ТОК РОТОРА 1                       21.861921\n",
      "ТОК РОТОРА 2                       27.276172\n",
      "ТОК СТАТОРА                         0.772374\n",
      "ВИБРАЦИЯ НА ОПОРЕ 1                 1.314749\n",
      "ВИБРАЦИЯ НА ОПОРЕ 2                 5.520119\n",
      "ВИБРАЦИЯ НА ОПОРЕ 3                 2.864779\n",
      "ВИБРАЦИЯ НА ОПОРЕ 3. ПРОДОЛЬНАЯ     0.113171\n",
      "ВИБРАЦИЯ НА ОПОРЕ 4                 0.000000\n",
      "ВИБРАЦИЯ НА ОПОРЕ 4. ПРОДОЛЬНАЯ    16.819365\n",
      "ТЕМПЕРАТУРА ПОДШИПНИКА НА ОПОРЕ 1   0.893779\n",
      "ТЕМПЕРАТУРА ПОДШИПНИКА НА ОПОРЕ 2  10.961613\n",
      "ТЕМПЕРАТУРА ПОДШИПНИКА НА ОПОРЕ 3   3.601542\n",
      "ТЕМПЕРАТУРА ПОДШИПНИКА НА ОПОРЕ 4   1.617864\n",
      "ТЕМПЕРАТУРА МАСЛА В МАСЛОБЛОКЕ      2.324623\n",
      "ТЕМПЕРАТУРА МАСЛА В СИСТЕМЕ         0.797733\n",
      "ДАВЛЕНИЕ МАСЛА В СИСТЕМЕ            3.260198\n",
      "Y_ЭКСГАУСТЕР А/М №4_ЭЛ/ДВИГАТЕЛЬ ГАЗ. ЗАДВИЖКИ ЭКСГ. №4 M3 0.8206521739130435 151 14 19\n"
     ]
    },
    {
     "data": {
      "application/vnd.jupyter.widget-view+json": {
       "model_id": "41aa3b2bb8a54685b9e248eba1dc86e8",
       "version_major": 2,
       "version_minor": 0
      },
      "text/plain": [
       "MetricVisualizer(layout=Layout(align_self='stretch', height='500px'))"
      ]
     },
     "metadata": {},
     "output_type": "display_data"
    },
    {
     "name": "stdout",
     "output_type": "stream",
     "text": [
      "0:\tlearn: 0.6613792\ttest: 0.6635991\tbest: 0.6635991 (0)\ttotal: 373ms\tremaining: 36.9s\n",
      "50:\tlearn: 0.1133189\ttest: 0.1135546\tbest: 0.1135546 (50)\ttotal: 21.7s\tremaining: 20.8s\n",
      "99:\tlearn: 0.0249201\ttest: 0.0249774\tbest: 0.0249774 (99)\ttotal: 42.9s\tremaining: 0us\n",
      "\n",
      "bestTest = 0.0249773899\n",
      "bestIteration = 99\n",
      "\n",
      "                                          0\n",
      "ТОК РОТОРА 1                       6.126782\n",
      "ТОК РОТОРА 2                       3.318384\n",
      "ТОК СТАТОРА                        4.853791\n",
      "ВИБРАЦИЯ НА ОПОРЕ 1                5.289985\n",
      "ВИБРАЦИЯ НА ОПОРЕ 2                6.636924\n",
      "ВИБРАЦИЯ НА ОПОРЕ 3                8.850455\n",
      "ВИБРАЦИЯ НА ОПОРЕ 3. ПРОДОЛЬНАЯ    8.894550\n",
      "ВИБРАЦИЯ НА ОПОРЕ 4                9.679806\n",
      "ВИБРАЦИЯ НА ОПОРЕ 4. ПРОДОЛЬНАЯ    7.563232\n",
      "ТЕМПЕРАТУРА ПОДШИПНИКА НА ОПОРЕ 1  5.218051\n",
      "ТЕМПЕРАТУРА ПОДШИПНИКА НА ОПОРЕ 2  7.011297\n",
      "ТЕМПЕРАТУРА ПОДШИПНИКА НА ОПОРЕ 3  5.397621\n",
      "ТЕМПЕРАТУРА ПОДШИПНИКА НА ОПОРЕ 4  7.220272\n",
      "ТЕМПЕРАТУРА МАСЛА В МАСЛОБЛОКЕ     5.536915\n",
      "ТЕМПЕРАТУРА МАСЛА В СИСТЕМЕ        3.771077\n",
      "ДАВЛЕНИЕ МАСЛА В СИСТЕМЕ           4.630858\n",
      "Y_ЭКСГАУСТЕР А/М №4_КЛ1 ТР№4 ДО ЭД ЭКСГАУСТЕРА №4 M3 None 0 0 0\n"
     ]
    },
    {
     "data": {
      "application/vnd.jupyter.widget-view+json": {
       "model_id": "22253648f5d447878c5a32fca57f18e9",
       "version_major": 2,
       "version_minor": 0
      },
      "text/plain": [
       "MetricVisualizer(layout=Layout(align_self='stretch', height='500px'))"
      ]
     },
     "metadata": {},
     "output_type": "display_data"
    },
    {
     "name": "stdout",
     "output_type": "stream",
     "text": [
      "0:\tlearn: 0.6613792\ttest: 0.6635990\tbest: 0.6635990 (0)\ttotal: 366ms\tremaining: 36.3s\n",
      "50:\tlearn: 0.1133189\ttest: 0.1135545\tbest: 0.1135545 (50)\ttotal: 21.7s\tremaining: 20.8s\n",
      "99:\tlearn: 0.0249201\ttest: 0.0249769\tbest: 0.0249769 (99)\ttotal: 42.5s\tremaining: 0us\n",
      "\n",
      "bestTest = 0.02497694988\n",
      "bestIteration = 99\n",
      "\n",
      "                                          0\n",
      "ТОК РОТОРА 1                       6.126782\n",
      "ТОК РОТОРА 2                       3.318384\n",
      "ТОК СТАТОРА                        4.853791\n",
      "ВИБРАЦИЯ НА ОПОРЕ 1                5.289985\n",
      "ВИБРАЦИЯ НА ОПОРЕ 2                6.636924\n",
      "ВИБРАЦИЯ НА ОПОРЕ 3                8.850455\n",
      "ВИБРАЦИЯ НА ОПОРЕ 3. ПРОДОЛЬНАЯ    8.894550\n",
      "ВИБРАЦИЯ НА ОПОРЕ 4                9.679806\n",
      "ВИБРАЦИЯ НА ОПОРЕ 4. ПРОДОЛЬНАЯ    7.563232\n",
      "ТЕМПЕРАТУРА ПОДШИПНИКА НА ОПОРЕ 1  5.218051\n",
      "ТЕМПЕРАТУРА ПОДШИПНИКА НА ОПОРЕ 2  7.011297\n",
      "ТЕМПЕРАТУРА ПОДШИПНИКА НА ОПОРЕ 3  5.397621\n",
      "ТЕМПЕРАТУРА ПОДШИПНИКА НА ОПОРЕ 4  7.220272\n",
      "ТЕМПЕРАТУРА МАСЛА В МАСЛОБЛОКЕ     5.536915\n",
      "ТЕМПЕРАТУРА МАСЛА В СИСТЕМЕ        3.771077\n",
      "ДАВЛЕНИЕ МАСЛА В СИСТЕМЕ           4.630858\n",
      "Y_ЭКСГАУСТЕР А/М №4_КЛ2 ТР№4 ДО ЭД ЭКСГАУСТЕРА №4 M3 None 0 0 0\n"
     ]
    },
    {
     "data": {
      "application/vnd.jupyter.widget-view+json": {
       "model_id": "3394695b356a46b98ba78bd3a6111f25",
       "version_major": 2,
       "version_minor": 0
      },
      "text/plain": [
       "MetricVisualizer(layout=Layout(align_self='stretch', height='500px'))"
      ]
     },
     "metadata": {},
     "output_type": "display_data"
    },
    {
     "name": "stdout",
     "output_type": "stream",
     "text": [
      "0:\tlearn: 0.6613790\ttest: 0.6636011\tbest: 0.6636011 (0)\ttotal: 370ms\tremaining: 36.7s\n",
      "50:\tlearn: 0.1133126\ttest: 0.1135600\tbest: 0.1135600 (50)\ttotal: 21.3s\tremaining: 20.4s\n",
      "99:\tlearn: 0.0249095\ttest: 0.0249770\tbest: 0.0249770 (99)\ttotal: 42.5s\tremaining: 0us\n",
      "\n",
      "bestTest = 0.0249769827\n",
      "bestIteration = 99\n",
      "\n",
      "                                          0\n",
      "ТОК РОТОРА 1                       6.159615\n",
      "ТОК РОТОРА 2                       3.346145\n",
      "ТОК СТАТОРА                        4.794853\n",
      "ВИБРАЦИЯ НА ОПОРЕ 1                5.321533\n",
      "ВИБРАЦИЯ НА ОПОРЕ 2                6.682304\n",
      "ВИБРАЦИЯ НА ОПОРЕ 3                8.891557\n",
      "ВИБРАЦИЯ НА ОПОРЕ 3. ПРОДОЛЬНАЯ    8.657505\n",
      "ВИБРАЦИЯ НА ОПОРЕ 4                9.860179\n",
      "ВИБРАЦИЯ НА ОПОРЕ 4. ПРОДОЛЬНАЯ    7.304058\n",
      "ТЕМПЕРАТУРА ПОДШИПНИКА НА ОПОРЕ 1  5.260832\n",
      "ТЕМПЕРАТУРА ПОДШИПНИКА НА ОПОРЕ 2  7.080809\n",
      "ТЕМПЕРАТУРА ПОДШИПНИКА НА ОПОРЕ 3  5.437605\n",
      "ТЕМПЕРАТУРА ПОДШИПНИКА НА ОПОРЕ 4  7.368603\n",
      "ТЕМПЕРАТУРА МАСЛА В МАСЛОБЛОКЕ     5.532554\n",
      "ТЕМПЕРАТУРА МАСЛА В СИСТЕМЕ        3.812707\n",
      "ДАВЛЕНИЕ МАСЛА В СИСТЕМЕ           4.489141\n",
      "Y_ЭКСГАУСТЕР А/М №4_ТР-Р ТМ-4000-10/6 ЭКСГ. №4 M3 None 0 0 0\n"
     ]
    }
   ],
   "source": [
    "import catboost\n",
    "\n",
    "summary = dict()\n",
    "summary[\"model\"] = []\n",
    "summary[\"f1\"] = []\n",
    "summary[\"score\"] = []\n",
    "summary[\"TP\"] = []\n",
    "summary[\"FP\"] = []\n",
    "summary[\"FN\"] = []\n",
    "\n",
    "\n",
    "for col in y_train.columns:\n",
    "\n",
    "    target_train = y_train[col]\n",
    "    if len(target_train.unique())>1:\n",
    "        model = catboost.CatBoostClassifier(iterations=100, loss_function='CrossEntropy')\n",
    "\n",
    "        X_test = X_train.sample(10000)\n",
    "        target_test = target_train.loc[X_test.index.values]\n",
    "\n",
    "        X_val = X_train.sample(1000)\n",
    "        target_val = target_train.loc[X_val.index.values]\n",
    "\n",
    "        X_train = X_train#.sample(1000000)\n",
    "        target_train = target_train.loc[X_train.index.values]\n",
    "\n",
    "        model.fit(X_train.values, target_train.values, eval_set=(X_val.values, target_val.values), verbose=50, use_best_model=True, plot=True, early_stopping_rounds=100)\n",
    "        print(pd.DataFrame(model.feature_importances_, index=X_train.columns ))\n",
    "\n",
    "        model.save_model(\"ЭКСГАУСТЕР 4 \" +col.replace(\"/\", \"\")+\"__90\",format=\"cbm\",export_parameters=None, pool=None)\n",
    "        \n",
    "        pred = model.predict(X_test.values)\n",
    "        TP = sum((pred == 1)*(target_test == 1))\n",
    "        FP = sum((pred == 1)*(target_test == 0))\n",
    "        FN = sum((pred == 0)*(target_test == 1))\n",
    "        summary[\"model\"].append(\" ЭКСГАУСТЕР 4 \" + col.replace(\"/\", \"\")+\"__105\")\n",
    "        summary[\"TP\"].append(TP)\n",
    "        summary[\"FP\"].append(FP)\n",
    "        summary[\"FN\"].append(FN)\n",
    "        if (TP+FP+FN)!=0:\n",
    "            print(col, TP/(TP+FP+FN), TP, FP, FN)\n",
    "            summary[\"f1\"].append(2*TP/(2*TP+FP+FN))\n",
    "            summary[\"score\"].append(TP/(TP+FP+FN))\n",
    "        else:\n",
    "            print(col, None, TP, FP, FN)\n",
    "            summary[\"f1\"].append(None)\n",
    "            summary[\"score\"].append(None)\n",
    "    else:\n",
    "        summary[\"model\"].append(\"ЭКСГАУСТЕР 4 \" + col.replace(\"/\", \"\")+\"__105\")\n",
    "        summary[\"TP\"].append(0)\n",
    "        summary[\"FP\"].append(0)\n",
    "        summary[\"FN\"].append(0)\n",
    "        summary[\"f1\"].append(None)\n",
    "        summary[\"score\"].append(None)\n",
    "        \n",
    "            \n",
    "pd.DataFrame(summary).to_csv(\"summary ЭКСГАУСТЕР 4__105.csv\")"
   ]
  }
 ],
 "metadata": {
  "kernelspec": {
   "display_name": "Python 3",
   "language": "python",
   "name": "python3"
  },
  "language_info": {
   "codemirror_mode": {
    "name": "ipython",
    "version": 3
   },
   "file_extension": ".py",
   "mimetype": "text/x-python",
   "name": "python",
   "nbconvert_exporter": "python",
   "pygments_lexer": "ipython3",
   "version": "3.10.10"
  },
  "papermill": {
   "default_parameters": {},
   "duration": 2783.448339,
   "end_time": "2023-05-28T21:33:00.674139",
   "environment_variables": {},
   "exception": null,
   "input_path": "__notebook__.ipynb",
   "output_path": "__notebook__.ipynb",
   "parameters": {},
   "start_time": "2023-05-28T20:46:37.225800",
   "version": "2.4.0"
  },
  "widgets": {
   "application/vnd.jupyter.widget-state+json": {
    "state": {
     "037cb4a999f04b9ca02f0d1ca0f89d58": {
      "model_module": "catboost-widget",
      "model_module_version": "^1.0.0",
      "model_name": "CatboostWidgetModel",
      "state": {
       "_dom_classes": [],
       "_model_module": "catboost-widget",
       "_model_module_version": "^1.0.0",
       "_model_name": "CatboostWidgetModel",
       "_view_count": null,
       "_view_module": "catboost-widget",
       "_view_module_version": "^1.0.0",
       "_view_name": "CatboostWidgetView",
       "data": {
        "catboost_info": {
         "content": {
          "data": {
           "iterations": [
            {
             "iteration": 0,
             "learn": [
              0.6613817525
             ],
             "passed_time": 0.3672569572,
             "remaining_time": 36.35843877,
             "test": [
              0.6636018476
             ]
            },
            {
             "iteration": 1,
             "learn": [
              0.6363005579
             ],
             "passed_time": 0.759244528,
             "remaining_time": 37.20298187,
             "test": [
              0.6357750481
             ]
            },
            {
             "iteration": 2,
             "learn": [
              0.6093827551
             ],
             "passed_time": 1.122160323,
             "remaining_time": 36.28318379,
             "test": [
              0.6095234788
             ]
            },
            {
             "iteration": 3,
             "learn": [
              0.5837255579
             ],
             "passed_time": 1.520950283,
             "remaining_time": 36.5028068,
             "test": [
              0.5847165723
             ]
            },
            {
             "iteration": 4,
             "learn": [
              0.562200905
             ],
             "passed_time": 1.894333155,
             "remaining_time": 35.99232995,
             "test": [
              0.5612417099
             ]
            },
            {
             "iteration": 5,
             "learn": [
              0.5376712723
             ],
             "passed_time": 2.266225043,
             "remaining_time": 35.50419234,
             "test": [
              0.5389987879
             ]
            },
            {
             "iteration": 6,
             "learn": [
              0.5168946898
             ],
             "passed_time": 2.673442988,
             "remaining_time": 35.5185997,
             "test": [
              0.517894242
             ]
            },
            {
             "iteration": 7,
             "learn": [
              0.4987065327
             ],
             "passed_time": 3.039560292,
             "remaining_time": 34.95494335,
             "test": [
              0.4978477065
             ]
            },
            {
             "iteration": 8,
             "learn": [
              0.4785415587
             ],
             "passed_time": 3.424801172,
             "remaining_time": 34.62854519,
             "test": [
              0.478785121
             ]
            },
            {
             "iteration": 9,
             "learn": [
              0.4606004738
             ],
             "passed_time": 3.88483761,
             "remaining_time": 34.96353849,
             "test": [
              0.4606405358
             ]
            },
            {
             "iteration": 10,
             "learn": [
              0.4438851755
             ],
             "passed_time": 4.271813751,
             "remaining_time": 34.56285671,
             "test": [
              0.4433529851
             ]
            },
            {
             "iteration": 11,
             "learn": [
              0.4280727202
             ],
             "passed_time": 4.71211828,
             "remaining_time": 34.55553405,
             "test": [
              0.4268680062
             ]
            },
            {
             "iteration": 12,
             "learn": [
              0.4122047267
             ],
             "passed_time": 5.160201656,
             "remaining_time": 34.53365724,
             "test": [
              0.4111366501
             ]
            },
            {
             "iteration": 13,
             "learn": [
              0.3968024993
             ],
             "passed_time": 5.656746415,
             "remaining_time": 34.74858512,
             "test": [
              0.3961121278
             ]
            },
            {
             "iteration": 14,
             "learn": [
              0.382431263
             ],
             "passed_time": 6.235312917,
             "remaining_time": 35.33343986,
             "test": [
              0.3817522026
             ]
            },
            {
             "iteration": 15,
             "learn": [
              0.367364448
             ],
             "passed_time": 6.777165779,
             "remaining_time": 35.58012034,
             "test": [
              0.3680175674
             ]
            },
            {
             "iteration": 16,
             "learn": [
              0.3539080373
             ],
             "passed_time": 7.239605239,
             "remaining_time": 35.34630793,
             "test": [
              0.354873126
             ]
            },
            {
             "iteration": 17,
             "learn": [
              0.3432065327
             ],
             "passed_time": 7.628093978,
             "remaining_time": 34.7502059,
             "test": [
              0.3422858807
             ]
            },
            {
             "iteration": 18,
             "learn": [
              0.3301199049
             ],
             "passed_time": 8.030664165,
             "remaining_time": 34.23598933,
             "test": [
              0.3302294333
             ]
            },
            {
             "iteration": 19,
             "learn": [
              0.3197080508
             ],
             "passed_time": 8.42985942,
             "remaining_time": 33.71943768,
             "test": [
              0.3186673119
             ]
            },
            {
             "iteration": 20,
             "learn": [
              0.307030474
             ],
             "passed_time": 8.897374797,
             "remaining_time": 33.47107662,
             "test": [
              0.3075784189
             ]
            },
            {
             "iteration": 21,
             "learn": [
              0.2969191792
             ],
             "passed_time": 9.32641987,
             "remaining_time": 33.06639772,
             "test": [
              0.2969381524
             ]
            },
            {
             "iteration": 22,
             "learn": [
              0.2868073336
             ],
             "passed_time": 9.759442546,
             "remaining_time": 32.67291635,
             "test": [
              0.2867229126
             ]
            },
            {
             "iteration": 23,
             "learn": [
              0.2765456142
             ],
             "passed_time": 10.21652838,
             "remaining_time": 32.35233986,
             "test": [
              0.2769123853
             ]
            },
            {
             "iteration": 24,
             "learn": [
              0.2665318311
             ],
             "passed_time": 10.5761645,
             "remaining_time": 31.7284935,
             "test": [
              0.2674845851
             ]
            },
            {
             "iteration": 25,
             "learn": [
              0.2580240102
             ],
             "passed_time": 10.96057561,
             "remaining_time": 31.19548442,
             "test": [
              0.2584236167
             ]
            },
            {
             "iteration": 26,
             "learn": [
              0.2500070268
             ],
             "passed_time": 11.37386369,
             "remaining_time": 30.75155739,
             "test": [
              0.2497113279
             ]
            },
            {
             "iteration": 27,
             "learn": [
              0.2420184614
             ],
             "passed_time": 11.82279551,
             "remaining_time": 30.40147416,
             "test": [
              0.2413314416
             ]
            },
            {
             "iteration": 28,
             "learn": [
              0.2337332827
             ],
             "passed_time": 12.21621378,
             "remaining_time": 29.90866133,
             "test": [
              0.2332676696
             ]
            },
            {
             "iteration": 29,
             "learn": [
              0.2259048851
             ],
             "passed_time": 12.65356104,
             "remaining_time": 29.52497575,
             "test": [
              0.2255066371
             ]
            },
            {
             "iteration": 30,
             "learn": [
              0.2185739099
             ],
             "passed_time": 13.1111724,
             "remaining_time": 29.18293211,
             "test": [
              0.2180333316
             ]
            },
            {
             "iteration": 31,
             "learn": [
              0.2109821649
             ],
             "passed_time": 13.54254351,
             "remaining_time": 28.77790497,
             "test": [
              0.2108364892
             ]
            },
            {
             "iteration": 32,
             "learn": [
              0.2034061439
             ],
             "passed_time": 13.93628083,
             "remaining_time": 28.29487319,
             "test": [
              0.2039019213
             ]
            },
            {
             "iteration": 33,
             "learn": [
              0.1965242586
             ],
             "passed_time": 14.41861245,
             "remaining_time": 27.98907123,
             "test": [
              0.1972194867
             ]
            },
            {
             "iteration": 34,
             "learn": [
              0.1912390255
             ],
             "passed_time": 14.88718179,
             "remaining_time": 27.64762332,
             "test": [
              0.1907789803
             ]
            },
            {
             "iteration": 35,
             "learn": [
              0.1839728861
             ],
             "passed_time": 15.28929036,
             "remaining_time": 27.18096064,
             "test": [
              0.1845691305
             ]
            },
            {
             "iteration": 36,
             "learn": [
              0.17883303
             ],
             "passed_time": 15.72425295,
             "remaining_time": 26.77372799,
             "test": [
              0.178580403
             ]
            },
            {
             "iteration": 37,
             "learn": [
              0.1722630639
             ],
             "passed_time": 16.14794154,
             "remaining_time": 26.34664146,
             "test": [
              0.1728042259
             ]
            },
            {
             "iteration": 38,
             "learn": [
              0.1677287008
             ],
             "passed_time": 16.54612056,
             "remaining_time": 25.87982959,
             "test": [
              0.1672311734
             ]
            },
            {
             "iteration": 39,
             "learn": [
              0.1614923342
             ],
             "passed_time": 16.97079051,
             "remaining_time": 25.45618576,
             "test": [
              0.1618535343
             ]
            },
            {
             "iteration": 40,
             "learn": [
              0.1563923359
             ],
             "passed_time": 17.39090239,
             "remaining_time": 25.02593271,
             "test": [
              0.1566635052
             ]
            },
            {
             "iteration": 41,
             "learn": [
              0.1520802555
             ],
             "passed_time": 17.85863249,
             "remaining_time": 24.66192106,
             "test": [
              0.1516532779
             ]
            },
            {
             "iteration": 42,
             "learn": [
              0.147075148
             ],
             "passed_time": 18.22787278,
             "remaining_time": 24.16252903,
             "test": [
              0.1468150525
             ]
            },
            {
             "iteration": 43,
             "learn": [
              0.1419496746
             ],
             "passed_time": 18.6925103,
             "remaining_time": 23.79046766,
             "test": [
              0.1421432288
             ]
            },
            {
             "iteration": 44,
             "learn": [
              0.137191215
             ],
             "passed_time": 19.05797737,
             "remaining_time": 23.29308345,
             "test": [
              0.1376309478
             ]
            },
            {
             "iteration": 45,
             "learn": [
              0.1329799835
             ],
             "passed_time": 19.54703933,
             "remaining_time": 22.94652443,
             "test": [
              0.1332721904
             ]
            },
            {
             "iteration": 46,
             "learn": [
              0.1289866965
             ],
             "passed_time": 19.94387824,
             "remaining_time": 22.48990525,
             "test": [
              0.1290606333
             ]
            },
            {
             "iteration": 47,
             "learn": [
              0.1250622416
             ],
             "passed_time": 20.37911771,
             "remaining_time": 22.07737752,
             "test": [
              0.124991957
             ]
            },
            {
             "iteration": 48,
             "learn": [
              0.1211524952
             ],
             "passed_time": 20.82873205,
             "remaining_time": 21.67888437,
             "test": [
              0.1210590771
             ]
            },
            {
             "iteration": 49,
             "learn": [
              0.1172675157
             ],
             "passed_time": 21.24148905,
             "remaining_time": 21.24148905,
             "test": [
              0.1172575998
             ]
            },
            {
             "iteration": 50,
             "learn": [
              0.1133983027
             ],
             "passed_time": 21.64690223,
             "remaining_time": 20.7980041,
             "test": [
              0.1135829022
             ]
            },
            {
             "iteration": 51,
             "learn": [
              0.109831992
             ],
             "passed_time": 22.07642543,
             "remaining_time": 20.37823886,
             "test": [
              0.1100302126
             ]
            },
            {
             "iteration": 52,
             "learn": [
              0.1070026068
             ],
             "passed_time": 22.49266556,
             "remaining_time": 19.94632606,
             "test": [
              0.10659447
             ]
            },
            {
             "iteration": 53,
             "learn": [
              0.103486648
             ],
             "passed_time": 22.92994753,
             "remaining_time": 19.53291827,
             "test": [
              0.1032720772
             ]
            },
            {
             "iteration": 54,
             "learn": [
              0.09981240282
             ],
             "passed_time": 23.32584497,
             "remaining_time": 19.08478225,
             "test": [
              0.100058133
             ]
            },
            {
             "iteration": 55,
             "learn": [
              0.09722015272
             ],
             "passed_time": 23.71592354,
             "remaining_time": 18.63393993,
             "test": [
              0.09695045218
             ]
            },
            {
             "iteration": 56,
             "learn": [
              0.09384845014
             ],
             "passed_time": 24.09547394,
             "remaining_time": 18.17728736,
             "test": [
              0.0939436162
             ]
            },
            {
             "iteration": 57,
             "learn": [
              0.09130617937
             ],
             "passed_time": 24.51650557,
             "remaining_time": 17.75333162,
             "test": [
              0.09103402192
             ]
            },
            {
             "iteration": 58,
             "learn": [
              0.08803875029
             ],
             "passed_time": 24.93601196,
             "remaining_time": 17.32841509,
             "test": [
              0.08821974661
             ]
            },
            {
             "iteration": 59,
             "learn": [
              0.0855766941
             ],
             "passed_time": 25.39808693,
             "remaining_time": 16.93205795,
             "test": [
              0.08549620564
             ]
            },
            {
             "iteration": 60,
             "learn": [
              0.08268225617
             ],
             "passed_time": 25.8189844,
             "remaining_time": 16.50721953,
             "test": [
              0.08286041973
             ]
            },
            {
             "iteration": 61,
             "learn": [
              0.08019296601
             ],
             "passed_time": 26.27788128,
             "remaining_time": 16.1057982,
             "test": [
              0.08030900705
             ]
            },
            {
             "iteration": 62,
             "learn": [
              0.07805944157
             ],
             "passed_time": 26.7236903,
             "remaining_time": 15.69486573,
             "test": [
              0.07783974404
             ]
            },
            {
             "iteration": 63,
             "learn": [
              0.0755899713
             ],
             "passed_time": 27.23686813,
             "remaining_time": 15.32073832,
             "test": [
              0.07544980583
             ]
            },
            {
             "iteration": 64,
             "learn": [
              0.07305985476
             ],
             "passed_time": 27.69413284,
             "remaining_time": 14.91222538,
             "test": [
              0.07313611082
             ]
            },
            {
             "iteration": 65,
             "learn": [
              0.07072715152
             ],
             "passed_time": 28.08867818,
             "remaining_time": 14.46992512,
             "test": [
              0.07089530915
             ]
            },
            {
             "iteration": 66,
             "learn": [
              0.06858281026
             ],
             "passed_time": 28.59997202,
             "remaining_time": 14.08655338,
             "test": [
              0.06872599792
             ]
            },
            {
             "iteration": 67,
             "learn": [
              0.06653063987
             ],
             "passed_time": 28.96407017,
             "remaining_time": 13.63015067,
             "test": [
              0.06662498518
             ]
            },
            {
             "iteration": 68,
             "learn": [
              0.06456004297
             ],
             "passed_time": 29.40199564,
             "remaining_time": 13.20959225,
             "test": [
              0.06459060013
             ]
            },
            {
             "iteration": 69,
             "learn": [
              0.06260600932
             ],
             "passed_time": 29.76317675,
             "remaining_time": 12.75564718,
             "test": [
              0.06261998973
             ]
            },
            {
             "iteration": 70,
             "learn": [
              0.06066112239
             ],
             "passed_time": 30.18816845,
             "remaining_time": 12.33037866,
             "test": [
              0.06071110065
             ]
            },
            {
             "iteration": 71,
             "learn": [
              0.05875476398
             ],
             "passed_time": 30.64026799,
             "remaining_time": 11.91565977,
             "test": [
              0.05886292285
             ]
            },
            {
             "iteration": 72,
             "learn": [
              0.05695239451
             ],
             "passed_time": 31.05212643,
             "remaining_time": 11.48503306,
             "test": [
              0.05707255215
             ]
            },
            {
             "iteration": 73,
             "learn": [
              0.05553140507
             ],
             "passed_time": 31.4503351,
             "remaining_time": 11.05011774,
             "test": [
              0.05533871805
             ]
            },
            {
             "iteration": 74,
             "learn": [
              0.05377576364
             ],
             "passed_time": 31.78275587,
             "remaining_time": 10.59425196,
             "test": [
              0.05365908523
             ]
            },
            {
             "iteration": 75,
             "learn": [
              0.05193211497
             ],
             "passed_time": 32.19988307,
             "remaining_time": 10.16838413,
             "test": [
              0.05203182273
             ]
            },
            {
             "iteration": 76,
             "learn": [
              0.05063691981
             ],
             "passed_time": 32.65502687,
             "remaining_time": 9.754098937,
             "test": [
              0.05045493625
             ]
            },
            {
             "iteration": 77,
             "learn": [
              0.04894087117
             ],
             "passed_time": 33.08700303,
             "remaining_time": 9.332231624,
             "test": [
              0.04892705551
             ]
            },
            {
             "iteration": 78,
             "learn": [
              0.04747344538
             ],
             "passed_time": 33.47053499,
             "remaining_time": 8.89723082,
             "test": [
              0.04744710341
             ]
            },
            {
             "iteration": 79,
             "learn": [
              0.04601524926
             ],
             "passed_time": 33.91670088,
             "remaining_time": 8.479175221,
             "test": [
              0.04601309121
             ]
            },
            {
             "iteration": 80,
             "learn": [
              0.04476127577
             ],
             "passed_time": 34.31069919,
             "remaining_time": 8.048188699,
             "test": [
              0.0446224648
             ]
            },
            {
             "iteration": 81,
             "learn": [
              0.04319901301
             ],
             "passed_time": 34.79043367,
             "remaining_time": 7.636924464,
             "test": [
              0.04327587524
             ]
            },
            {
             "iteration": 82,
             "learn": [
              0.0420794454
             ],
             "passed_time": 35.21290603,
             "remaining_time": 7.212281959,
             "test": [
              0.04197084105
             ]
            },
            {
             "iteration": 83,
             "learn": [
              0.04083002497
             ],
             "passed_time": 35.69060973,
             "remaining_time": 6.798211377,
             "test": [
              0.04070558882
             ]
            },
            {
             "iteration": 84,
             "learn": [
              0.039469753
             ],
             "passed_time": 36.15110791,
             "remaining_time": 6.379607278,
             "test": [
              0.03948011811
             ]
            },
            {
             "iteration": 85,
             "learn": [
              0.03825942548
             ],
             "passed_time": 36.5832959,
             "remaining_time": 5.955420263,
             "test": [
              0.03829231711
             ]
            },
            {
             "iteration": 86,
             "learn": [
              0.03722019029
             ],
             "passed_time": 36.99030932,
             "remaining_time": 5.527287599,
             "test": [
              0.03714043398
             ]
            },
            {
             "iteration": 87,
             "learn": [
              0.03616897853
             ],
             "passed_time": 37.37131781,
             "remaining_time": 5.096088793,
             "test": [
              0.03602349749
             ]
            },
            {
             "iteration": 88,
             "learn": [
              0.03500241504
             ],
             "passed_time": 37.84883719,
             "remaining_time": 4.677946169,
             "test": [
              0.03494084265
             ]
            },
            {
             "iteration": 89,
             "learn": [
              0.03396295911
             ],
             "passed_time": 38.42037189,
             "remaining_time": 4.26893021,
             "test": [
              0.03389093087
             ]
            },
            {
             "iteration": 90,
             "learn": [
              0.03294572237
             ],
             "passed_time": 39.033462,
             "remaining_time": 3.860452286,
             "test": [
              0.03287393226
             ]
            },
            {
             "iteration": 91,
             "learn": [
              0.03195531426
             ],
             "passed_time": 39.45195546,
             "remaining_time": 3.430604823,
             "test": [
              0.0318878133
             ]
            },
            {
             "iteration": 92,
             "learn": [
              0.03097983946
             ],
             "passed_time": 39.85681141,
             "remaining_time": 2.999975052,
             "test": [
              0.03093151874
             ]
            },
            {
             "iteration": 93,
             "learn": [
              0.03004409495
             ],
             "passed_time": 40.23283941,
             "remaining_time": 2.568053579,
             "test": [
              0.03000386058
             ]
            },
            {
             "iteration": 94,
             "learn": [
              0.02915359465
             ],
             "passed_time": 40.65709082,
             "remaining_time": 2.139846885,
             "test": [
              0.02910545395
             ]
            },
            {
             "iteration": 95,
             "learn": [
              0.02835957798
             ],
             "passed_time": 40.97153888,
             "remaining_time": 1.707147453,
             "test": [
              0.02823411135
             ]
            },
            {
             "iteration": 96,
             "learn": [
              0.02746281632
             ],
             "passed_time": 41.32629785,
             "remaining_time": 1.278132923,
             "test": [
              0.02738869839
             ]
            },
            {
             "iteration": 97,
             "learn": [
              0.02658171416
             ],
             "passed_time": 41.75072148,
             "remaining_time": 0.8520555404,
             "test": [
              0.0265691083
             ]
            },
            {
             "iteration": 98,
             "learn": [
              0.02589612012
             ],
             "passed_time": 42.11470832,
             "remaining_time": 0.4254010942,
             "test": [
              0.02577437549
             ]
            },
            {
             "iteration": 99,
             "learn": [
              0.02503717435
             ],
             "passed_time": 42.52070198,
             "remaining_time": 0,
             "test": [
              0.02500432664
             ]
            }
           ],
           "meta": {
            "iteration_count": 100,
            "launch_mode": "Train",
            "learn_metrics": [
             {
              "best_value": "Min",
              "name": "CrossEntropy"
             }
            ],
            "learn_sets": [
             "learn"
            ],
            "name": "experiment",
            "parameters": "",
            "test_metrics": [
             {
              "best_value": "Min",
              "name": "CrossEntropy"
             }
            ],
            "test_sets": [
             "test"
            ]
           }
          },
          "passed_iterations": 99,
          "total_iterations": 100
         },
         "name": "catboost_info",
         "path": "catboost_info"
        }
       },
       "layout": "IPY_MODEL_076acea765d242d2ba3bbe29566781bc"
      }
     },
     "06ab952ca9264bd1b60e786f378a0305": {
      "model_module": "@jupyter-widgets/base",
      "model_module_version": "1.2.0",
      "model_name": "LayoutModel",
      "state": {
       "_model_module": "@jupyter-widgets/base",
       "_model_module_version": "1.2.0",
       "_model_name": "LayoutModel",
       "_view_count": null,
       "_view_module": "@jupyter-widgets/base",
       "_view_module_version": "1.2.0",
       "_view_name": "LayoutView",
       "align_content": null,
       "align_items": null,
       "align_self": "stretch",
       "border": null,
       "bottom": null,
       "display": null,
       "flex": null,
       "flex_flow": null,
       "grid_area": null,
       "grid_auto_columns": null,
       "grid_auto_flow": null,
       "grid_auto_rows": null,
       "grid_column": null,
       "grid_gap": null,
       "grid_row": null,
       "grid_template_areas": null,
       "grid_template_columns": null,
       "grid_template_rows": null,
       "height": "500px",
       "justify_content": null,
       "justify_items": null,
       "left": null,
       "margin": null,
       "max_height": null,
       "max_width": null,
       "min_height": null,
       "min_width": null,
       "object_fit": null,
       "object_position": null,
       "order": null,
       "overflow": null,
       "overflow_x": null,
       "overflow_y": null,
       "padding": null,
       "right": null,
       "top": null,
       "visibility": null,
       "width": null
      }
     },
     "06bc02d6ce2f46769f2d4c79307f85a8": {
      "model_module": "@jupyter-widgets/base",
      "model_module_version": "1.2.0",
      "model_name": "LayoutModel",
      "state": {
       "_model_module": "@jupyter-widgets/base",
       "_model_module_version": "1.2.0",
       "_model_name": "LayoutModel",
       "_view_count": null,
       "_view_module": "@jupyter-widgets/base",
       "_view_module_version": "1.2.0",
       "_view_name": "LayoutView",
       "align_content": null,
       "align_items": null,
       "align_self": "stretch",
       "border": null,
       "bottom": null,
       "display": null,
       "flex": null,
       "flex_flow": null,
       "grid_area": null,
       "grid_auto_columns": null,
       "grid_auto_flow": null,
       "grid_auto_rows": null,
       "grid_column": null,
       "grid_gap": null,
       "grid_row": null,
       "grid_template_areas": null,
       "grid_template_columns": null,
       "grid_template_rows": null,
       "height": "500px",
       "justify_content": null,
       "justify_items": null,
       "left": null,
       "margin": null,
       "max_height": null,
       "max_width": null,
       "min_height": null,
       "min_width": null,
       "object_fit": null,
       "object_position": null,
       "order": null,
       "overflow": null,
       "overflow_x": null,
       "overflow_y": null,
       "padding": null,
       "right": null,
       "top": null,
       "visibility": null,
       "width": null
      }
     },
     "076acea765d242d2ba3bbe29566781bc": {
      "model_module": "@jupyter-widgets/base",
      "model_module_version": "1.2.0",
      "model_name": "LayoutModel",
      "state": {
       "_model_module": "@jupyter-widgets/base",
       "_model_module_version": "1.2.0",
       "_model_name": "LayoutModel",
       "_view_count": null,
       "_view_module": "@jupyter-widgets/base",
       "_view_module_version": "1.2.0",
       "_view_name": "LayoutView",
       "align_content": null,
       "align_items": null,
       "align_self": "stretch",
       "border": null,
       "bottom": null,
       "display": null,
       "flex": null,
       "flex_flow": null,
       "grid_area": null,
       "grid_auto_columns": null,
       "grid_auto_flow": null,
       "grid_auto_rows": null,
       "grid_column": null,
       "grid_gap": null,
       "grid_row": null,
       "grid_template_areas": null,
       "grid_template_columns": null,
       "grid_template_rows": null,
       "height": "500px",
       "justify_content": null,
       "justify_items": null,
       "left": null,
       "margin": null,
       "max_height": null,
       "max_width": null,
       "min_height": null,
       "min_width": null,
       "object_fit": null,
       "object_position": null,
       "order": null,
       "overflow": null,
       "overflow_x": null,
       "overflow_y": null,
       "padding": null,
       "right": null,
       "top": null,
       "visibility": null,
       "width": null
      }
     },
     "079c33419cb748a782410ab218c4d853": {
      "model_module": "catboost-widget",
      "model_module_version": "^1.0.0",
      "model_name": "CatboostWidgetModel",
      "state": {
       "_dom_classes": [],
       "_model_module": "catboost-widget",
       "_model_module_version": "^1.0.0",
       "_model_name": "CatboostWidgetModel",
       "_view_count": null,
       "_view_module": "catboost-widget",
       "_view_module_version": "^1.0.0",
       "_view_name": "CatboostWidgetView",
       "data": {
        "catboost_info": {
         "content": {
          "data": {
           "iterations": [
            {
             "iteration": 0,
             "learn": [
              0.6746844147
             ],
             "passed_time": 0.3848566031,
             "remaining_time": 38.10080371,
             "test": [
              0.6739649645
             ]
            },
            {
             "iteration": 1,
             "learn": [
              0.6561811406
             ],
             "passed_time": 0.7573901185,
             "remaining_time": 37.11211581,
             "test": [
              0.6557576757
             ]
            },
            {
             "iteration": 2,
             "learn": [
              0.6391195384
             ],
             "passed_time": 1.140004875,
             "remaining_time": 36.86015763,
             "test": [
              0.6388955946
             ]
            },
            {
             "iteration": 3,
             "learn": [
              0.6221544258
             ],
             "passed_time": 1.585104433,
             "remaining_time": 38.04250638,
             "test": [
              0.6220043001
             ]
            },
            {
             "iteration": 4,
             "learn": [
              0.6061562381
             ],
             "passed_time": 1.962293585,
             "remaining_time": 37.28357811,
             "test": [
              0.606404351
             ]
            },
            {
             "iteration": 5,
             "learn": [
              0.5910914095
             ],
             "passed_time": 2.401601385,
             "remaining_time": 37.62508836,
             "test": [
              0.5907661718
             ]
            },
            {
             "iteration": 6,
             "learn": [
              0.5767937494
             ],
             "passed_time": 2.766380733,
             "remaining_time": 36.75334403,
             "test": [
              0.5763428523
             ]
            },
            {
             "iteration": 7,
             "learn": [
              0.5634806838
             ],
             "passed_time": 3.140514288,
             "remaining_time": 36.11591432,
             "test": [
              0.5629344347
             ]
            },
            {
             "iteration": 8,
             "learn": [
              0.5495756366
             ],
             "passed_time": 3.571703568,
             "remaining_time": 36.11389163,
             "test": [
              0.5489936178
             ]
            },
            {
             "iteration": 9,
             "learn": [
              0.5374572617
             ],
             "passed_time": 3.955475496,
             "remaining_time": 35.59927947,
             "test": [
              0.5369537798
             ]
            },
            {
             "iteration": 10,
             "learn": [
              0.5246530895
             ],
             "passed_time": 4.410450802,
             "remaining_time": 35.68455649,
             "test": [
              0.5246606348
             ]
            },
            {
             "iteration": 11,
             "learn": [
              0.513003047
             ],
             "passed_time": 4.829780804,
             "remaining_time": 35.41839256,
             "test": [
              0.5124032721
             ]
            },
            {
             "iteration": 12,
             "learn": [
              0.5016320538
             ],
             "passed_time": 5.251513725,
             "remaining_time": 35.1447457,
             "test": [
              0.5009941073
             ]
            },
            {
             "iteration": 13,
             "learn": [
              0.4916804445
             ],
             "passed_time": 5.647020236,
             "remaining_time": 34.68883859,
             "test": [
              0.4908052901
             ]
            },
            {
             "iteration": 14,
             "learn": [
              0.481744593
             ],
             "passed_time": 6.015962349,
             "remaining_time": 34.09045331,
             "test": [
              0.4812065515
             ]
            },
            {
             "iteration": 15,
             "learn": [
              0.4720536904
             ],
             "passed_time": 6.4467518,
             "remaining_time": 33.84544695,
             "test": [
              0.4710889371
             ]
            },
            {
             "iteration": 16,
             "learn": [
              0.463107321
             ],
             "passed_time": 6.907216101,
             "remaining_time": 33.72346685,
             "test": [
              0.4621322828
             ]
            },
            {
             "iteration": 17,
             "learn": [
              0.4543060739
             ],
             "passed_time": 7.27790215,
             "remaining_time": 33.15488757,
             "test": [
              0.453385278
             ]
            },
            {
             "iteration": 18,
             "learn": [
              0.4451938695
             ],
             "passed_time": 7.685727114,
             "remaining_time": 32.76546822,
             "test": [
              0.4446711523
             ]
            },
            {
             "iteration": 19,
             "learn": [
              0.437089173
             ],
             "passed_time": 8.047999563,
             "remaining_time": 32.19199825,
             "test": [
              0.4363613488
             ]
            },
            {
             "iteration": 20,
             "learn": [
              0.4286523348
             ],
             "passed_time": 8.478753651,
             "remaining_time": 31.89626374,
             "test": [
              0.4278005703
             ]
            },
            {
             "iteration": 21,
             "learn": [
              0.4210598544
             ],
             "passed_time": 8.904459,
             "remaining_time": 31.57035464,
             "test": [
              0.4197744119
             ]
            },
            {
             "iteration": 22,
             "learn": [
              0.4123816858
             ],
             "passed_time": 9.291795986,
             "remaining_time": 31.107317,
             "test": [
              0.4110644695
             ]
            },
            {
             "iteration": 23,
             "learn": [
              0.4051384641
             ],
             "passed_time": 9.700481326,
             "remaining_time": 30.71819087,
             "test": [
              0.4036338272
             ]
            },
            {
             "iteration": 24,
             "learn": [
              0.3979981488
             ],
             "passed_time": 10.1486433,
             "remaining_time": 30.44592989,
             "test": [
              0.3966040206
             ]
            },
            {
             "iteration": 25,
             "learn": [
              0.3904476427
             ],
             "passed_time": 10.59059484,
             "remaining_time": 30.14246224,
             "test": [
              0.3886541222
             ]
            },
            {
             "iteration": 26,
             "learn": [
              0.3830102284
             ],
             "passed_time": 11.01632255,
             "remaining_time": 29.78487209,
             "test": [
              0.3810388946
             ]
            },
            {
             "iteration": 27,
             "learn": [
              0.3765402048
             ],
             "passed_time": 11.49106491,
             "remaining_time": 29.54845262,
             "test": [
              0.374668978
             ]
            },
            {
             "iteration": 28,
             "learn": [
              0.3692699567
             ],
             "passed_time": 11.94213262,
             "remaining_time": 29.23763503,
             "test": [
              0.3674758083
             ]
            },
            {
             "iteration": 29,
             "learn": [
              0.3631262922
             ],
             "passed_time": 12.37460575,
             "remaining_time": 28.87408007,
             "test": [
              0.3611787228
             ]
            },
            {
             "iteration": 30,
             "learn": [
              0.3563368478
             ],
             "passed_time": 12.82112649,
             "remaining_time": 28.53734606,
             "test": [
              0.3545237438
             ]
            },
            {
             "iteration": 31,
             "learn": [
              0.3496824095
             ],
             "passed_time": 13.23994047,
             "remaining_time": 28.13487349,
             "test": [
              0.3479108811
             ]
            },
            {
             "iteration": 32,
             "learn": [
              0.343016837
             ],
             "passed_time": 13.65260792,
             "remaining_time": 27.71893124,
             "test": [
              0.3411687521
             ]
            },
            {
             "iteration": 33,
             "learn": [
              0.3363126691
             ],
             "passed_time": 14.09775187,
             "remaining_time": 27.36622422,
             "test": [
              0.334435156
             ]
            },
            {
             "iteration": 34,
             "learn": [
              0.3308972209
             ],
             "passed_time": 14.53677029,
             "remaining_time": 26.99685911,
             "test": [
              0.3289783689
             ]
            },
            {
             "iteration": 35,
             "learn": [
              0.3254306321
             ],
             "passed_time": 15.10530695,
             "remaining_time": 26.85387902,
             "test": [
              0.323379608
             ]
            },
            {
             "iteration": 36,
             "learn": [
              0.3196538297
             ],
             "passed_time": 15.75314233,
             "remaining_time": 26.82291803,
             "test": [
              0.3177588003
             ]
            },
            {
             "iteration": 37,
             "learn": [
              0.3137283479
             ],
             "passed_time": 16.22783047,
             "remaining_time": 26.47698656,
             "test": [
              0.3117604394
             ]
            },
            {
             "iteration": 38,
             "learn": [
              0.3085485646
             ],
             "passed_time": 16.64023815,
             "remaining_time": 26.02703916,
             "test": [
              0.3067831118
             ]
            },
            {
             "iteration": 39,
             "learn": [
              0.3031480607
             ],
             "passed_time": 17.04857004,
             "remaining_time": 25.57285507,
             "test": [
              0.3013302396
             ]
            },
            {
             "iteration": 40,
             "learn": [
              0.2986581074
             ],
             "passed_time": 17.46861259,
             "remaining_time": 25.13775958,
             "test": [
              0.2970773117
             ]
            },
            {
             "iteration": 41,
             "learn": [
              0.293249256
             ],
             "passed_time": 17.94363344,
             "remaining_time": 24.77930332,
             "test": [
              0.2915399236
             ]
            },
            {
             "iteration": 42,
             "learn": [
              0.2880348891
             ],
             "passed_time": 18.41434658,
             "remaining_time": 24.40971523,
             "test": [
              0.2863617844
             ]
            },
            {
             "iteration": 43,
             "learn": [
              0.2837863733
             ],
             "passed_time": 18.86260771,
             "remaining_time": 24.00695527,
             "test": [
              0.2823331359
             ]
            },
            {
             "iteration": 44,
             "learn": [
              0.2787812941
             ],
             "passed_time": 19.2698273,
             "remaining_time": 23.55201114,
             "test": [
              0.2772299301
             ]
            },
            {
             "iteration": 45,
             "learn": [
              0.2747379322
             ],
             "passed_time": 19.69121244,
             "remaining_time": 23.11577112,
             "test": [
              0.2732417065
             ]
            },
            {
             "iteration": 46,
             "learn": [
              0.2709827047
             ],
             "passed_time": 20.10797994,
             "remaining_time": 22.6749561,
             "test": [
              0.269768872
             ]
            },
            {
             "iteration": 47,
             "learn": [
              0.2672167762
             ],
             "passed_time": 20.55044466,
             "remaining_time": 22.26298171,
             "test": [
              0.2665401147
             ]
            },
            {
             "iteration": 48,
             "learn": [
              0.2626841713
             ],
             "passed_time": 21.07617604,
             "remaining_time": 21.93642813,
             "test": [
              0.2619307605
             ]
            },
            {
             "iteration": 49,
             "learn": [
              0.2591630743
             ],
             "passed_time": 21.50021884,
             "remaining_time": 21.50021884,
             "test": [
              0.2586068058
             ]
            },
            {
             "iteration": 50,
             "learn": [
              0.2548850366
             ],
             "passed_time": 21.94001273,
             "remaining_time": 21.07962008,
             "test": [
              0.2543272561
             ]
            },
            {
             "iteration": 51,
             "learn": [
              0.2516476203
             ],
             "passed_time": 22.37471907,
             "remaining_time": 20.65358683,
             "test": [
              0.2513145133
             ]
            },
            {
             "iteration": 52,
             "learn": [
              0.2477383158
             ],
             "passed_time": 22.76316434,
             "remaining_time": 20.18620234,
             "test": [
              0.2473945726
             ]
            },
            {
             "iteration": 53,
             "learn": [
              0.2445772958
             ],
             "passed_time": 23.16666257,
             "remaining_time": 19.73456441,
             "test": [
              0.244360087
             ]
            },
            {
             "iteration": 54,
             "learn": [
              0.2413907904
             ],
             "passed_time": 23.62007561,
             "remaining_time": 19.3255164,
             "test": [
              0.2413788467
             ]
            },
            {
             "iteration": 55,
             "learn": [
              0.2382998286
             ],
             "passed_time": 24.00011455,
             "remaining_time": 18.85723286,
             "test": [
              0.2385242902
             ]
            },
            {
             "iteration": 56,
             "learn": [
              0.2348700196
             ],
             "passed_time": 24.47683381,
             "remaining_time": 18.46497989,
             "test": [
              0.2349895242
             ]
            },
            {
             "iteration": 57,
             "learn": [
              0.2313502838
             ],
             "passed_time": 24.8654601,
             "remaining_time": 18.00602283,
             "test": [
              0.2314390992
             ]
            },
            {
             "iteration": 58,
             "learn": [
              0.2281244545
             ],
             "passed_time": 25.3255621,
             "remaining_time": 17.59911943,
             "test": [
              0.2281242463
             ]
            },
            {
             "iteration": 59,
             "learn": [
              0.224886592
             ],
             "passed_time": 25.72490698,
             "remaining_time": 17.14993798,
             "test": [
              0.2248069697
             ]
            },
            {
             "iteration": 60,
             "learn": [
              0.2219949638
             ],
             "passed_time": 26.07559215,
             "remaining_time": 16.67128023,
             "test": [
              0.221877406
             ]
            },
            {
             "iteration": 61,
             "learn": [
              0.21937467
             ],
             "passed_time": 26.48255305,
             "remaining_time": 16.23124219,
             "test": [
              0.2192789623
             ]
            },
            {
             "iteration": 62,
             "learn": [
              0.2165166606
             ],
             "passed_time": 26.87263247,
             "remaining_time": 15.7823397,
             "test": [
              0.2162645644
             ]
            },
            {
             "iteration": 63,
             "learn": [
              0.21383233
             ],
             "passed_time": 27.25305365,
             "remaining_time": 15.32984268,
             "test": [
              0.2136606428
             ]
            },
            {
             "iteration": 64,
             "learn": [
              0.2111712662
             ],
             "passed_time": 27.69060112,
             "remaining_time": 14.91032368,
             "test": [
              0.211362538
             ]
            },
            {
             "iteration": 65,
             "learn": [
              0.2086642585
             ],
             "passed_time": 28.12932396,
             "remaining_time": 14.49086386,
             "test": [
              0.2091451569
             ]
            },
            {
             "iteration": 66,
             "learn": [
              0.2054180559
             ],
             "passed_time": 28.54611801,
             "remaining_time": 14.06002827,
             "test": [
              0.206037908
             ]
            },
            {
             "iteration": 67,
             "learn": [
              0.2023336639
             ],
             "passed_time": 28.99111484,
             "remaining_time": 13.64287757,
             "test": [
              0.2027897956
             ]
            },
            {
             "iteration": 68,
             "learn": [
              0.2000933474
             ],
             "passed_time": 29.41700154,
             "remaining_time": 13.21633403,
             "test": [
              0.200704573
             ]
            },
            {
             "iteration": 69,
             "learn": [
              0.1970863236
             ],
             "passed_time": 29.82586223,
             "remaining_time": 12.78251239,
             "test": [
              0.1978464314
             ]
            },
            {
             "iteration": 70,
             "learn": [
              0.1946508849
             ],
             "passed_time": 30.2248971,
             "remaining_time": 12.34538051,
             "test": [
              0.1951686434
             ]
            },
            {
             "iteration": 71,
             "learn": [
              0.192665406
             ],
             "passed_time": 30.66346206,
             "remaining_time": 11.92467969,
             "test": [
              0.1933960725
             ]
            },
            {
             "iteration": 72,
             "learn": [
              0.1899550726
             ],
             "passed_time": 31.06416013,
             "remaining_time": 11.48948389,
             "test": [
              0.1908196428
             ]
            },
            {
             "iteration": 73,
             "learn": [
              0.1877483876
             ],
             "passed_time": 31.460632,
             "remaining_time": 11.05373557,
             "test": [
              0.1885270168
             ]
            },
            {
             "iteration": 74,
             "learn": [
              0.1855420229
             ],
             "passed_time": 31.88621771,
             "remaining_time": 10.62873924,
             "test": [
              0.1863218152
             ]
            },
            {
             "iteration": 75,
             "learn": [
              0.1836463961
             ],
             "passed_time": 32.30573927,
             "remaining_time": 10.2018124,
             "test": [
              0.1845833319
             ]
            },
            {
             "iteration": 76,
             "learn": [
              0.1809050831
             ],
             "passed_time": 32.76926461,
             "remaining_time": 9.788221898,
             "test": [
              0.1817760338
             ]
            },
            {
             "iteration": 77,
             "learn": [
              0.1790754779
             ],
             "passed_time": 33.16222051,
             "remaining_time": 9.353446812,
             "test": [
              0.1798969458
             ]
            },
            {
             "iteration": 78,
             "learn": [
              0.1767964508
             ],
             "passed_time": 33.56911861,
             "remaining_time": 8.923436593,
             "test": [
              0.1777727914
             ]
            },
            {
             "iteration": 79,
             "learn": [
              0.1748753573
             ],
             "passed_time": 33.95091953,
             "remaining_time": 8.487729882,
             "test": [
              0.175932491
             ]
            },
            {
             "iteration": 80,
             "learn": [
              0.1728136766
             ],
             "passed_time": 34.35260235,
             "remaining_time": 8.058017835,
             "test": [
              0.1739569844
             ]
            },
            {
             "iteration": 81,
             "learn": [
              0.1704871745
             ],
             "passed_time": 34.78799395,
             "remaining_time": 7.636388917,
             "test": [
              0.1717003988
             ]
            },
            {
             "iteration": 82,
             "learn": [
              0.1686631036
             ],
             "passed_time": 35.2488848,
             "remaining_time": 7.219651103,
             "test": [
              0.1699773966
             ]
            },
            {
             "iteration": 83,
             "learn": [
              0.1667643791
             ],
             "passed_time": 35.66507935,
             "remaining_time": 6.793348448,
             "test": [
              0.1680998035
             ]
            },
            {
             "iteration": 84,
             "learn": [
              0.1651667493
             ],
             "passed_time": 36.05321402,
             "remaining_time": 6.362331886,
             "test": [
              0.1663363468
             ]
            },
            {
             "iteration": 85,
             "learn": [
              0.1631621162
             ],
             "passed_time": 36.47173958,
             "remaining_time": 5.937259931,
             "test": [
              0.1643084465
             ]
            },
            {
             "iteration": 86,
             "learn": [
              0.160882227
             ],
             "passed_time": 36.93164487,
             "remaining_time": 5.518521648,
             "test": [
              0.1619429041
             ]
            },
            {
             "iteration": 87,
             "learn": [
              0.1590240009
             ],
             "passed_time": 37.34355208,
             "remaining_time": 5.092302556,
             "test": [
              0.1599620204
             ]
            },
            {
             "iteration": 88,
             "learn": [
              0.1574467905
             ],
             "passed_time": 37.76870587,
             "remaining_time": 4.668042298,
             "test": [
              0.1585025036
             ]
            },
            {
             "iteration": 89,
             "learn": [
              0.1553358582
             ],
             "passed_time": 38.18900104,
             "remaining_time": 4.243222338,
             "test": [
              0.1564934233
             ]
            },
            {
             "iteration": 90,
             "learn": [
              0.1534700505
             ],
             "passed_time": 38.57683459,
             "remaining_time": 3.815291333,
             "test": [
              0.1546783869
             ]
            },
            {
             "iteration": 91,
             "learn": [
              0.1514779402
             ],
             "passed_time": 38.9920899,
             "remaining_time": 3.390616513,
             "test": [
              0.1527073898
             ]
            },
            {
             "iteration": 92,
             "learn": [
              0.1502856963
             ],
             "passed_time": 39.34458601,
             "remaining_time": 2.961420453,
             "test": [
              0.1515458248
             ]
            },
            {
             "iteration": 93,
             "learn": [
              0.1487702833
             ],
             "passed_time": 39.7277172,
             "remaining_time": 2.535811736,
             "test": [
              0.1501041825
             ]
            },
            {
             "iteration": 94,
             "learn": [
              0.1470571245
             ],
             "passed_time": 40.11343429,
             "remaining_time": 2.111233384,
             "test": [
              0.1483894905
             ]
            },
            {
             "iteration": 95,
             "learn": [
              0.1457739494
             ],
             "passed_time": 40.46270501,
             "remaining_time": 1.685946042,
             "test": [
              0.1472143662
             ]
            },
            {
             "iteration": 96,
             "learn": [
              0.1441931879
             ],
             "passed_time": 40.86406613,
             "remaining_time": 1.263837097,
             "test": [
              0.1455436539
             ]
            },
            {
             "iteration": 97,
             "learn": [
              0.1426890572
             ],
             "passed_time": 41.27439382,
             "remaining_time": 0.8423345678,
             "test": [
              0.1441263839
             ]
            },
            {
             "iteration": 98,
             "learn": [
              0.1410708261
             ],
             "passed_time": 41.6694097,
             "remaining_time": 0.4209031283,
             "test": [
              0.1425470645
             ]
            },
            {
             "iteration": 99,
             "learn": [
              0.1395187317
             ],
             "passed_time": 42.06528843,
             "remaining_time": 0,
             "test": [
              0.141101854
             ]
            }
           ],
           "meta": {
            "iteration_count": 100,
            "launch_mode": "Train",
            "learn_metrics": [
             {
              "best_value": "Min",
              "name": "CrossEntropy"
             }
            ],
            "learn_sets": [
             "learn"
            ],
            "name": "experiment",
            "parameters": "",
            "test_metrics": [
             {
              "best_value": "Min",
              "name": "CrossEntropy"
             }
            ],
            "test_sets": [
             "test"
            ]
           }
          },
          "passed_iterations": 99,
          "total_iterations": 100
         },
         "name": "catboost_info",
         "path": "catboost_info"
        }
       },
       "layout": "IPY_MODEL_a2d6775b717e4fc78d4fb8aa3df96e83"
      }
     },
     "07a14df0acb24ac8aa0f01dd3d3be8d4": {
      "model_module": "@jupyter-widgets/base",
      "model_module_version": "1.2.0",
      "model_name": "LayoutModel",
      "state": {
       "_model_module": "@jupyter-widgets/base",
       "_model_module_version": "1.2.0",
       "_model_name": "LayoutModel",
       "_view_count": null,
       "_view_module": "@jupyter-widgets/base",
       "_view_module_version": "1.2.0",
       "_view_name": "LayoutView",
       "align_content": null,
       "align_items": null,
       "align_self": "stretch",
       "border": null,
       "bottom": null,
       "display": null,
       "flex": null,
       "flex_flow": null,
       "grid_area": null,
       "grid_auto_columns": null,
       "grid_auto_flow": null,
       "grid_auto_rows": null,
       "grid_column": null,
       "grid_gap": null,
       "grid_row": null,
       "grid_template_areas": null,
       "grid_template_columns": null,
       "grid_template_rows": null,
       "height": "500px",
       "justify_content": null,
       "justify_items": null,
       "left": null,
       "margin": null,
       "max_height": null,
       "max_width": null,
       "min_height": null,
       "min_width": null,
       "object_fit": null,
       "object_position": null,
       "order": null,
       "overflow": null,
       "overflow_x": null,
       "overflow_y": null,
       "padding": null,
       "right": null,
       "top": null,
       "visibility": null,
       "width": null
      }
     },
     "08f6380c2799458785ba5d390f4a2c04": {
      "model_module": "catboost-widget",
      "model_module_version": "^1.0.0",
      "model_name": "CatboostWidgetModel",
      "state": {
       "_dom_classes": [],
       "_model_module": "catboost-widget",
       "_model_module_version": "^1.0.0",
       "_model_name": "CatboostWidgetModel",
       "_view_count": null,
       "_view_module": "catboost-widget",
       "_view_module_version": "^1.0.0",
       "_view_name": "CatboostWidgetView",
       "data": {
        "catboost_info": {
         "content": {
          "data": {
           "iterations": [
            {
             "iteration": 0,
             "learn": [
              0.672903383
             ],
             "passed_time": 0.3971813857,
             "remaining_time": 39.32095718,
             "test": [
              0.6718974266
             ]
            },
            {
             "iteration": 1,
             "learn": [
              0.6530113391
             ],
             "passed_time": 0.81193087,
             "remaining_time": 39.78461263,
             "test": [
              0.6518922686
             ]
            },
            {
             "iteration": 2,
             "learn": [
              0.6338916525
             ],
             "passed_time": 1.207269222,
             "remaining_time": 39.03503818,
             "test": [
              0.6329031309
             ]
            },
            {
             "iteration": 3,
             "learn": [
              0.6166994439
             ],
             "passed_time": 1.592347744,
             "remaining_time": 38.21634585,
             "test": [
              0.6149766998
             ]
            },
            {
             "iteration": 4,
             "learn": [
              0.6002426716
             ],
             "passed_time": 1.960052431,
             "remaining_time": 37.24099619,
             "test": [
              0.5984373949
             ]
            },
            {
             "iteration": 5,
             "learn": [
              0.5846293536
             ],
             "passed_time": 2.366880504,
             "remaining_time": 37.08112789,
             "test": [
              0.5822502057
             ]
            },
            {
             "iteration": 6,
             "learn": [
              0.5695962793
             ],
             "passed_time": 2.787190369,
             "remaining_time": 37.0298149,
             "test": [
              0.5670550472
             ]
            },
            {
             "iteration": 7,
             "learn": [
              0.5560025802
             ],
             "passed_time": 3.159022677,
             "remaining_time": 36.32876079,
             "test": [
              0.5527003163
             ]
            },
            {
             "iteration": 8,
             "learn": [
              0.5426000759
             ],
             "passed_time": 3.565282912,
             "remaining_time": 36.04897167,
             "test": [
              0.5388457116
             ]
            },
            {
             "iteration": 9,
             "learn": [
              0.5288531139
             ],
             "passed_time": 3.955587426,
             "remaining_time": 35.60028684,
             "test": [
              0.5245707381
             ]
            },
            {
             "iteration": 10,
             "learn": [
              0.5158264039
             ],
             "passed_time": 4.334343487,
             "remaining_time": 35.06877912,
             "test": [
              0.5109432672
             ]
            },
            {
             "iteration": 11,
             "learn": [
              0.5044702442
             ],
             "passed_time": 4.715394781,
             "remaining_time": 34.57956173,
             "test": [
              0.4991822437
             ]
            },
            {
             "iteration": 12,
             "learn": [
              0.4932750186
             ],
             "passed_time": 5.133612202,
             "remaining_time": 34.35571243,
             "test": [
              0.4876954137
             ]
            },
            {
             "iteration": 13,
             "learn": [
              0.4818776019
             ],
             "passed_time": 5.517700167,
             "remaining_time": 33.89444388,
             "test": [
              0.4761298465
             ]
            },
            {
             "iteration": 14,
             "learn": [
              0.4714751068
             ],
             "passed_time": 5.939636655,
             "remaining_time": 33.65794105,
             "test": [
              0.4657055856
             ]
            },
            {
             "iteration": 15,
             "learn": [
              0.4619720469
             ],
             "passed_time": 6.370109919,
             "remaining_time": 33.44307708,
             "test": [
              0.4560618233
             ]
            },
            {
             "iteration": 16,
             "learn": [
              0.4522850024
             ],
             "passed_time": 6.776077472,
             "remaining_time": 33.08320177,
             "test": [
              0.4463566392
             ]
            },
            {
             "iteration": 17,
             "learn": [
              0.4426449528
             ],
             "passed_time": 7.159472411,
             "remaining_time": 32.61537432,
             "test": [
              0.436103475
             ]
            },
            {
             "iteration": 18,
             "learn": [
              0.4327255241
             ],
             "passed_time": 7.546992582,
             "remaining_time": 32.17402101,
             "test": [
              0.4263179679
             ]
            },
            {
             "iteration": 19,
             "learn": [
              0.4235855106
             ],
             "passed_time": 7.933825374,
             "remaining_time": 31.7353015,
             "test": [
              0.4166604096
             ]
            },
            {
             "iteration": 20,
             "learn": [
              0.414520426
             ],
             "passed_time": 8.318908404,
             "remaining_time": 31.29494114,
             "test": [
              0.4075286831
             ]
            },
            {
             "iteration": 21,
             "learn": [
              0.4060016203
             ],
             "passed_time": 8.714545002,
             "remaining_time": 30.89702319,
             "test": [
              0.3988250316
             ]
            },
            {
             "iteration": 22,
             "learn": [
              0.3975163181
             ],
             "passed_time": 9.104819374,
             "remaining_time": 30.48135182,
             "test": [
              0.3904105447
             ]
            },
            {
             "iteration": 23,
             "learn": [
              0.3897378419
             ],
             "passed_time": 9.530084526,
             "remaining_time": 30.178601,
             "test": [
              0.382169238
             ]
            },
            {
             "iteration": 24,
             "learn": [
              0.3822307902
             ],
             "passed_time": 9.917308255,
             "remaining_time": 29.75192477,
             "test": [
              0.3744267914
             ]
            },
            {
             "iteration": 25,
             "learn": [
              0.3746081577
             ],
             "passed_time": 10.33376448,
             "remaining_time": 29.41148352,
             "test": [
              0.3668944933
             ]
            },
            {
             "iteration": 26,
             "learn": [
              0.3678687109
             ],
             "passed_time": 10.7507478,
             "remaining_time": 29.06683664,
             "test": [
              0.3598624248
             ]
            },
            {
             "iteration": 27,
             "learn": [
              0.3606697835
             ],
             "passed_time": 11.20571078,
             "remaining_time": 28.81468485,
             "test": [
              0.3522823252
             ]
            },
            {
             "iteration": 28,
             "learn": [
              0.3536793715
             ],
             "passed_time": 11.66961049,
             "remaining_time": 28.57042569,
             "test": [
              0.3451288987
             ]
            },
            {
             "iteration": 29,
             "learn": [
              0.346995663
             ],
             "passed_time": 12.12980968,
             "remaining_time": 28.30288926,
             "test": [
              0.3384242767
             ]
            },
            {
             "iteration": 30,
             "learn": [
              0.3409816684
             ],
             "passed_time": 12.54386483,
             "remaining_time": 27.92021527,
             "test": [
              0.3324324243
             ]
            },
            {
             "iteration": 31,
             "learn": [
              0.3346151068
             ],
             "passed_time": 12.99454101,
             "remaining_time": 27.61339965,
             "test": [
              0.3260388308
             ]
            },
            {
             "iteration": 32,
             "learn": [
              0.3290388952
             ],
             "passed_time": 13.40902996,
             "remaining_time": 27.22439417,
             "test": [
              0.3202318468
             ]
            },
            {
             "iteration": 33,
             "learn": [
              0.3231084067
             ],
             "passed_time": 13.89096781,
             "remaining_time": 26.96481987,
             "test": [
              0.314192583
             ]
            },
            {
             "iteration": 34,
             "learn": [
              0.3176336594
             ],
             "passed_time": 14.32815738,
             "remaining_time": 26.60943513,
             "test": [
              0.3085452536
             ]
            },
            {
             "iteration": 35,
             "learn": [
              0.3125622235
             ],
             "passed_time": 14.75627706,
             "remaining_time": 26.23338145,
             "test": [
              0.3034840867
             ]
            },
            {
             "iteration": 36,
             "learn": [
              0.3071738266
             ],
             "passed_time": 15.17610934,
             "remaining_time": 25.84040239,
             "test": [
              0.2979630527
             ]
            },
            {
             "iteration": 37,
             "learn": [
              0.3025980326
             ],
             "passed_time": 15.59585794,
             "remaining_time": 25.44587349,
             "test": [
              0.2934216815
             ]
            },
            {
             "iteration": 38,
             "learn": [
              0.2975764854
             ],
             "passed_time": 16.09984121,
             "remaining_time": 25.18180292,
             "test": [
              0.2883092062
             ]
            },
            {
             "iteration": 39,
             "learn": [
              0.292886259
             ],
             "passed_time": 16.65453686,
             "remaining_time": 24.98180528,
             "test": [
              0.283562804
             ]
            },
            {
             "iteration": 40,
             "learn": [
              0.2883587116
             ],
             "passed_time": 17.24544009,
             "remaining_time": 24.8166089,
             "test": [
              0.2788786662
             ]
            },
            {
             "iteration": 41,
             "learn": [
              0.2840196953
             ],
             "passed_time": 17.68499622,
             "remaining_time": 24.42213764,
             "test": [
              0.2743908953
             ]
            },
            {
             "iteration": 42,
             "learn": [
              0.2797016277
             ],
             "passed_time": 18.10588049,
             "remaining_time": 24.00081832,
             "test": [
              0.2697399765
             ]
            },
            {
             "iteration": 43,
             "learn": [
              0.2759199886
             ],
             "passed_time": 18.53229328,
             "remaining_time": 23.58655508,
             "test": [
              0.2658603722
             ]
            },
            {
             "iteration": 44,
             "learn": [
              0.2716049842
             ],
             "passed_time": 18.92451181,
             "remaining_time": 23.12995888,
             "test": [
              0.2613978829
             ]
            },
            {
             "iteration": 45,
             "learn": [
              0.2678286554
             ],
             "passed_time": 19.32009733,
             "remaining_time": 22.68011426,
             "test": [
              0.2576410206
             ]
            },
            {
             "iteration": 46,
             "learn": [
              0.2641084785
             ],
             "passed_time": 19.79307956,
             "remaining_time": 22.31985567,
             "test": [
              0.2537016762
             ]
            },
            {
             "iteration": 47,
             "learn": [
              0.2605073458
             ],
             "passed_time": 20.15712183,
             "remaining_time": 21.83688198,
             "test": [
              0.2499583965
             ]
            },
            {
             "iteration": 48,
             "learn": [
              0.2567896195
             ],
             "passed_time": 20.55670731,
             "remaining_time": 21.39575659,
             "test": [
              0.246082472
             ]
            },
            {
             "iteration": 49,
             "learn": [
              0.2532980564
             ],
             "passed_time": 21.07728384,
             "remaining_time": 21.07728384,
             "test": [
              0.2424117067
             ]
            },
            {
             "iteration": 50,
             "learn": [
              0.2497292889
             ],
             "passed_time": 21.5757321,
             "remaining_time": 20.72962496,
             "test": [
              0.2385444541
             ]
            },
            {
             "iteration": 51,
             "learn": [
              0.246175742
             ],
             "passed_time": 21.99738218,
             "remaining_time": 20.30527586,
             "test": [
              0.2348657084
             ]
            },
            {
             "iteration": 52,
             "learn": [
              0.2427376224
             ],
             "passed_time": 22.39544052,
             "remaining_time": 19.86010763,
             "test": [
              0.231294004
             ]
            },
            {
             "iteration": 53,
             "learn": [
              0.2396035921
             ],
             "passed_time": 22.81091408,
             "remaining_time": 19.4315194,
             "test": [
              0.2281250499
             ]
            },
            {
             "iteration": 54,
             "learn": [
              0.2364186659
             ],
             "passed_time": 23.21401149,
             "remaining_time": 18.99328213,
             "test": [
              0.2248940121
             ]
            },
            {
             "iteration": 55,
             "learn": [
              0.233530929
             ],
             "passed_time": 23.63762888,
             "remaining_time": 18.57242269,
             "test": [
              0.2219283599
             ]
            },
            {
             "iteration": 56,
             "learn": [
              0.2306079656
             ],
             "passed_time": 24.10541954,
             "remaining_time": 18.18479018,
             "test": [
              0.2188683451
             ]
            },
            {
             "iteration": 57,
             "learn": [
              0.2279269188
             ],
             "passed_time": 24.5338589,
             "remaining_time": 17.76589783,
             "test": [
              0.2160549329
             ]
            },
            {
             "iteration": 58,
             "learn": [
              0.2251839335
             ],
             "passed_time": 24.95523782,
             "remaining_time": 17.34177544,
             "test": [
              0.2133059427
             ]
            },
            {
             "iteration": 59,
             "learn": [
              0.2224598035
             ],
             "passed_time": 25.44307381,
             "remaining_time": 16.96204921,
             "test": [
              0.2105319752
             ]
            },
            {
             "iteration": 60,
             "learn": [
              0.2200561358
             ],
             "passed_time": 25.79638986,
             "remaining_time": 16.49277385,
             "test": [
              0.2080686654
             ]
            },
            {
             "iteration": 61,
             "learn": [
              0.2174562718
             ],
             "passed_time": 26.2060667,
             "remaining_time": 16.06178281,
             "test": [
              0.2054283029
             ]
            },
            {
             "iteration": 62,
             "learn": [
              0.2152475528
             ],
             "passed_time": 26.60133342,
             "remaining_time": 15.62300534,
             "test": [
              0.2033015336
             ]
            },
            {
             "iteration": 63,
             "learn": [
              0.2128975478
             ],
             "passed_time": 27.02552141,
             "remaining_time": 15.20185579,
             "test": [
              0.2009722145
             ]
            },
            {
             "iteration": 64,
             "learn": [
              0.2103486372
             ],
             "passed_time": 27.42961085,
             "remaining_time": 14.76979046,
             "test": [
              0.1983922501
             ]
            },
            {
             "iteration": 65,
             "learn": [
              0.2082576035
             ],
             "passed_time": 27.79557451,
             "remaining_time": 14.31893232,
             "test": [
              0.1961399337
             ]
            },
            {
             "iteration": 66,
             "learn": [
              0.2059680119
             ],
             "passed_time": 28.2434634,
             "remaining_time": 13.91095958,
             "test": [
              0.193854195
             ]
            },
            {
             "iteration": 67,
             "learn": [
              0.2040705213
             ],
             "passed_time": 28.6472793,
             "remaining_time": 13.48107261,
             "test": [
              0.1920566059
             ]
            },
            {
             "iteration": 68,
             "learn": [
              0.202420806
             ],
             "passed_time": 28.95717189,
             "remaining_time": 13.00974389,
             "test": [
              0.1903840784
             ]
            },
            {
             "iteration": 69,
             "learn": [
              0.2000777922
             ],
             "passed_time": 29.41383367,
             "remaining_time": 12.60592872,
             "test": [
              0.1881167978
             ]
            },
            {
             "iteration": 70,
             "learn": [
              0.1983042948
             ],
             "passed_time": 29.8066447,
             "remaining_time": 12.17454502,
             "test": [
              0.1864638416
             ]
            },
            {
             "iteration": 71,
             "learn": [
              0.1960764665
             ],
             "passed_time": 30.24954481,
             "remaining_time": 11.76371187,
             "test": [
              0.1841756156
             ]
            },
            {
             "iteration": 72,
             "learn": [
              0.1945851073
             ],
             "passed_time": 30.56424537,
             "remaining_time": 11.30458391,
             "test": [
              0.1827455399
             ]
            },
            {
             "iteration": 73,
             "learn": [
              0.1922463567
             ],
             "passed_time": 31.04739128,
             "remaining_time": 10.90854288,
             "test": [
              0.180396142
             ]
            },
            {
             "iteration": 74,
             "learn": [
              0.1903156155
             ],
             "passed_time": 31.45141291,
             "remaining_time": 10.4838043,
             "test": [
              0.1785940393
             ]
            },
            {
             "iteration": 75,
             "learn": [
              0.1883802406
             ],
             "passed_time": 31.84427285,
             "remaining_time": 10.05608616,
             "test": [
              0.1765648987
             ]
            },
            {
             "iteration": 76,
             "learn": [
              0.1870497841
             ],
             "passed_time": 32.14507819,
             "remaining_time": 9.601776603,
             "test": [
              0.1752544502
             ]
            },
            {
             "iteration": 77,
             "learn": [
              0.1852326204
             ],
             "passed_time": 32.51888834,
             "remaining_time": 9.171994146,
             "test": [
              0.1735546787
             ]
            },
            {
             "iteration": 78,
             "learn": [
              0.1836852152
             ],
             "passed_time": 32.91991936,
             "remaining_time": 8.75086464,
             "test": [
              0.1721279906
             ]
            },
            {
             "iteration": 79,
             "learn": [
              0.1819273248
             ],
             "passed_time": 33.30613822,
             "remaining_time": 8.326534555,
             "test": [
              0.1702773702
             ]
            },
            {
             "iteration": 80,
             "learn": [
              0.1806853143
             ],
             "passed_time": 33.61664842,
             "remaining_time": 7.885386667,
             "test": [
              0.1690268462
             ]
            },
            {
             "iteration": 81,
             "learn": [
              0.1788293258
             ],
             "passed_time": 34.02468628,
             "remaining_time": 7.468833575,
             "test": [
              0.1670515415
             ]
            },
            {
             "iteration": 82,
             "learn": [
              0.1772992205
             ],
             "passed_time": 34.41433708,
             "remaining_time": 7.048719643,
             "test": [
              0.1656224789
             ]
            },
            {
             "iteration": 83,
             "learn": [
              0.1754868912
             ],
             "passed_time": 34.86836857,
             "remaining_time": 6.641594014,
             "test": [
              0.1635895142
             ]
            },
            {
             "iteration": 84,
             "learn": [
              0.1736627777
             ],
             "passed_time": 35.35269584,
             "remaining_time": 6.23871103,
             "test": [
              0.1617870631
             ]
            },
            {
             "iteration": 85,
             "learn": [
              0.1720976306
             ],
             "passed_time": 35.79337883,
             "remaining_time": 5.826829112,
             "test": [
              0.1600513611
             ]
            },
            {
             "iteration": 86,
             "learn": [
              0.1703959536
             ],
             "passed_time": 36.25130309,
             "remaining_time": 5.416861382,
             "test": [
              0.1582717863
             ]
            },
            {
             "iteration": 87,
             "learn": [
              0.1689178169
             ],
             "passed_time": 36.62849496,
             "remaining_time": 4.994794768,
             "test": [
              0.1568622887
             ]
            },
            {
             "iteration": 88,
             "learn": [
              0.1678520888
             ],
             "passed_time": 36.93085101,
             "remaining_time": 4.564487203,
             "test": [
              0.1557938821
             ]
            },
            {
             "iteration": 89,
             "learn": [
              0.1662145132
             ],
             "passed_time": 37.37640211,
             "remaining_time": 4.152933567,
             "test": [
              0.1541676621
             ]
            },
            {
             "iteration": 90,
             "learn": [
              0.1652392987
             ],
             "passed_time": 37.68262381,
             "remaining_time": 3.726852904,
             "test": [
              0.1531684836
             ]
            },
            {
             "iteration": 91,
             "learn": [
              0.1637972936
             ],
             "passed_time": 38.07591857,
             "remaining_time": 3.310949441,
             "test": [
              0.1517338087
             ]
            },
            {
             "iteration": 92,
             "learn": [
              0.1626052409
             ],
             "passed_time": 38.47803421,
             "remaining_time": 2.896196123,
             "test": [
              0.1506054748
             ]
            },
            {
             "iteration": 93,
             "learn": [
              0.1612016785
             ],
             "passed_time": 38.9327522,
             "remaining_time": 2.485069289,
             "test": [
              0.1491845898
             ]
            },
            {
             "iteration": 94,
             "learn": [
              0.1596680932
             ],
             "passed_time": 39.39032116,
             "remaining_time": 2.073174798,
             "test": [
              0.1476857591
             ]
            },
            {
             "iteration": 95,
             "learn": [
              0.1588047182
             ],
             "passed_time": 39.69888542,
             "remaining_time": 1.654120226,
             "test": [
              0.1469566547
             ]
            },
            {
             "iteration": 96,
             "learn": [
              0.1578778001
             ],
             "passed_time": 40.07908071,
             "remaining_time": 1.239559197,
             "test": [
              0.1460676528
             ]
            },
            {
             "iteration": 97,
             "learn": [
              0.1566236782
             ],
             "passed_time": 40.46283723,
             "remaining_time": 0.8257721884,
             "test": [
              0.1448583843
             ]
            },
            {
             "iteration": 98,
             "learn": [
              0.1558384674
             ],
             "passed_time": 40.76383131,
             "remaining_time": 0.4117558719,
             "test": [
              0.1442041038
             ]
            },
            {
             "iteration": 99,
             "learn": [
              0.1544017584
             ],
             "passed_time": 41.1844756,
             "remaining_time": 0,
             "test": [
              0.1428923866
             ]
            }
           ],
           "meta": {
            "iteration_count": 100,
            "launch_mode": "Train",
            "learn_metrics": [
             {
              "best_value": "Min",
              "name": "CrossEntropy"
             }
            ],
            "learn_sets": [
             "learn"
            ],
            "name": "experiment",
            "parameters": "",
            "test_metrics": [
             {
              "best_value": "Min",
              "name": "CrossEntropy"
             }
            ],
            "test_sets": [
             "test"
            ]
           }
          },
          "passed_iterations": 99,
          "total_iterations": 100
         },
         "name": "catboost_info",
         "path": "catboost_info"
        }
       },
       "layout": "IPY_MODEL_06bc02d6ce2f46769f2d4c79307f85a8"
      }
     },
     "0a13d4973d1b4dd28a4ca65c711038b0": {
      "model_module": "catboost-widget",
      "model_module_version": "^1.0.0",
      "model_name": "CatboostWidgetModel",
      "state": {
       "_dom_classes": [],
       "_model_module": "catboost-widget",
       "_model_module_version": "^1.0.0",
       "_model_name": "CatboostWidgetModel",
       "_view_count": null,
       "_view_module": "catboost-widget",
       "_view_module_version": "^1.0.0",
       "_view_name": "CatboostWidgetView",
       "data": {
        "catboost_info": {
         "content": {
          "data": {
           "iterations": [
            {
             "iteration": 0,
             "learn": [
              0.6637592273
             ],
             "passed_time": 0.4620544675,
             "remaining_time": 45.74339228,
             "test": [
              0.6652991077
             ]
            },
            {
             "iteration": 1,
             "learn": [
              0.6410911936
             ],
             "passed_time": 0.9100386273,
             "remaining_time": 44.59189274,
             "test": [
              0.639143301
             ]
            },
            {
             "iteration": 2,
             "learn": [
              0.6151923143
             ],
             "passed_time": 1.360254255,
             "remaining_time": 43.98155426,
             "test": [
              0.6147348436
             ]
            },
            {
             "iteration": 3,
             "learn": [
              0.5911987935
             ],
             "passed_time": 1.809426217,
             "remaining_time": 43.4262292,
             "test": [
              0.5913667254
             ]
            },
            {
             "iteration": 4,
             "learn": [
              0.5711562063
             ],
             "passed_time": 2.251945052,
             "remaining_time": 42.78695599,
             "test": [
              0.569050438
             ]
            },
            {
             "iteration": 5,
             "learn": [
              0.5489260387
             ],
             "passed_time": 2.698391981,
             "remaining_time": 42.27480771,
             "test": [
              0.5480344036
             ]
            },
            {
             "iteration": 6,
             "learn": [
              0.5295705336
             ],
             "passed_time": 3.138587062,
             "remaining_time": 41.69837097,
             "test": [
              0.5280260341
             ]
            },
            {
             "iteration": 7,
             "learn": [
              0.5124924799
             ],
             "passed_time": 3.589397384,
             "remaining_time": 41.27806991,
             "test": [
              0.5091519551
             ]
            },
            {
             "iteration": 8,
             "learn": [
              0.4940075465
             ],
             "passed_time": 4.030461327,
             "remaining_time": 40.75244231,
             "test": [
              0.4909913185
             ]
            },
            {
             "iteration": 9,
             "learn": [
              0.4768785774
             ],
             "passed_time": 4.477534568,
             "remaining_time": 40.29781111,
             "test": [
              0.4738799582
             ]
            },
            {
             "iteration": 10,
             "learn": [
              0.4612335552
             ],
             "passed_time": 4.924350101,
             "remaining_time": 39.842469,
             "test": [
              0.4574173482
             ]
            },
            {
             "iteration": 11,
             "learn": [
              0.4461627324
             ],
             "passed_time": 5.363489569,
             "remaining_time": 39.33225684,
             "test": [
              0.4416027608
             ]
            },
            {
             "iteration": 12,
             "learn": [
              0.431460172
             ],
             "passed_time": 5.783920487,
             "remaining_time": 38.70777557,
             "test": [
              0.4267812315
             ]
            },
            {
             "iteration": 13,
             "learn": [
              0.4172377505
             ],
             "passed_time": 6.231535864,
             "remaining_time": 38.27943459,
             "test": [
              0.4124252057
             ]
            },
            {
             "iteration": 14,
             "learn": [
              0.4033982155
             ],
             "passed_time": 6.681571239,
             "remaining_time": 37.86223702,
             "test": [
              0.3989390297
             ]
            },
            {
             "iteration": 15,
             "learn": [
              0.3900283437
             ],
             "passed_time": 7.126522604,
             "remaining_time": 37.41424367,
             "test": [
              0.3860150925
             ]
            },
            {
             "iteration": 16,
             "learn": [
              0.3783565145
             ],
             "passed_time": 7.57866899,
             "remaining_time": 37.00173683,
             "test": [
              0.373682152
             ]
            },
            {
             "iteration": 17,
             "learn": [
              0.3664596097
             ],
             "passed_time": 8.023033203,
             "remaining_time": 36.54937348,
             "test": [
              0.3615559115
             ]
            },
            {
             "iteration": 18,
             "learn": [
              0.35500167
             ],
             "passed_time": 8.501710298,
             "remaining_time": 36.24413338,
             "test": [
              0.3499324096
             ]
            },
            {
             "iteration": 19,
             "learn": [
              0.3440323661
             ],
             "passed_time": 8.954658322,
             "remaining_time": 35.81863329,
             "test": [
              0.3388401817
             ]
            },
            {
             "iteration": 20,
             "learn": [
              0.3337203284
             ],
             "passed_time": 9.382902516,
             "remaining_time": 35.29758565,
             "test": [
              0.3283586488
             ]
            },
            {
             "iteration": 21,
             "learn": [
              0.3230944063
             ],
             "passed_time": 9.817730182,
             "remaining_time": 34.8083161,
             "test": [
              0.3179636883
             ]
            },
            {
             "iteration": 22,
             "learn": [
              0.3136554494
             ],
             "passed_time": 10.26014211,
             "remaining_time": 34.34917142,
             "test": [
              0.3081293512
             ]
            },
            {
             "iteration": 23,
             "learn": [
              0.3042881992
             ],
             "passed_time": 10.712269,
             "remaining_time": 33.92218516,
             "test": [
              0.2987427133
             ]
            },
            {
             "iteration": 24,
             "learn": [
              0.295459428
             ],
             "passed_time": 11.15735753,
             "remaining_time": 33.47207258,
             "test": [
              0.2896657102
             ]
            },
            {
             "iteration": 25,
             "learn": [
              0.2869076025
             ],
             "passed_time": 11.60448867,
             "remaining_time": 33.02816006,
             "test": [
              0.2810069605
             ]
            },
            {
             "iteration": 26,
             "learn": [
              0.2787874727
             ],
             "passed_time": 12.05951191,
             "remaining_time": 32.60534701,
             "test": [
              0.2725049656
             ]
            },
            {
             "iteration": 27,
             "learn": [
              0.270971936
             ],
             "passed_time": 12.51335798,
             "remaining_time": 32.17720624,
             "test": [
              0.2644461882
             ]
            },
            {
             "iteration": 28,
             "learn": [
              0.263236098
             ],
             "passed_time": 12.92759441,
             "remaining_time": 31.65031736,
             "test": [
              0.2566039061
             ]
            },
            {
             "iteration": 29,
             "learn": [
              0.2559787362
             ],
             "passed_time": 13.37025908,
             "remaining_time": 31.19727119,
             "test": [
              0.2491408402
             ]
            },
            {
             "iteration": 30,
             "learn": [
              0.2483833822
             ],
             "passed_time": 13.83398283,
             "remaining_time": 30.79176823,
             "test": [
              0.2415757378
             ]
            },
            {
             "iteration": 31,
             "learn": [
              0.2414238767
             ],
             "passed_time": 14.26668875,
             "remaining_time": 30.3167136,
             "test": [
              0.2346220334
             ]
            },
            {
             "iteration": 32,
             "learn": [
              0.2347560247
             ],
             "passed_time": 14.68865336,
             "remaining_time": 29.82241743,
             "test": [
              0.2282439368
             ]
            },
            {
             "iteration": 33,
             "learn": [
              0.2280197319
             ],
             "passed_time": 15.14891472,
             "remaining_time": 29.40671682,
             "test": [
              0.2215178378
             ]
            },
            {
             "iteration": 34,
             "learn": [
              0.2221085946
             ],
             "passed_time": 15.5669884,
             "remaining_time": 28.91012131,
             "test": [
              0.2155733184
             ]
            },
            {
             "iteration": 35,
             "learn": [
              0.2163125396
             ],
             "passed_time": 16.02018847,
             "remaining_time": 28.48033507,
             "test": [
              0.2095361212
             ]
            },
            {
             "iteration": 36,
             "learn": [
              0.2105815419
             ],
             "passed_time": 16.43969446,
             "remaining_time": 27.99191218,
             "test": [
              0.2035891814
             ]
            },
            {
             "iteration": 37,
             "learn": [
              0.2043667659
             ],
             "passed_time": 16.90121216,
             "remaining_time": 27.57566194,
             "test": [
              0.1977442205
             ]
            },
            {
             "iteration": 38,
             "learn": [
              0.1993565641
             ],
             "passed_time": 17.33117624,
             "remaining_time": 27.10773719,
             "test": [
              0.1926067983
             ]
            },
            {
             "iteration": 39,
             "learn": [
              0.1940266614
             ],
             "passed_time": 17.76140874,
             "remaining_time": 26.64211312,
             "test": [
              0.18725584
             ]
            },
            {
             "iteration": 40,
             "learn": [
              0.1886744724
             ],
             "passed_time": 18.19840473,
             "remaining_time": 26.18794827,
             "test": [
              0.1818888498
             ]
            },
            {
             "iteration": 41,
             "learn": [
              0.1838803729
             ],
             "passed_time": 18.6383335,
             "remaining_time": 25.73865102,
             "test": [
              0.1769379683
             ]
            },
            {
             "iteration": 42,
             "learn": [
              0.179059955
             ],
             "passed_time": 19.05776105,
             "remaining_time": 25.26261349,
             "test": [
              0.1719679344
             ]
            },
            {
             "iteration": 43,
             "learn": [
              0.174358574
             ],
             "passed_time": 19.56945132,
             "remaining_time": 24.90657441,
             "test": [
              0.1672151647
             ]
            },
            {
             "iteration": 44,
             "learn": [
              0.169872331
             ],
             "passed_time": 20.02186999,
             "remaining_time": 24.47117444,
             "test": [
              0.1626243979
             ]
            },
            {
             "iteration": 45,
             "learn": [
              0.1651548977
             ],
             "passed_time": 20.50351234,
             "remaining_time": 24.06934058,
             "test": [
              0.1578394076
             ]
            },
            {
             "iteration": 46,
             "learn": [
              0.1607813446
             ],
             "passed_time": 20.94866015,
             "remaining_time": 23.62295719,
             "test": [
              0.1533438397
             ]
            },
            {
             "iteration": 47,
             "learn": [
              0.1563520614
             ],
             "passed_time": 21.42486875,
             "remaining_time": 23.21027448,
             "test": [
              0.1489232863
             ]
            },
            {
             "iteration": 48,
             "learn": [
              0.152089921
             ],
             "passed_time": 21.90171934,
             "remaining_time": 22.79566707,
             "test": [
              0.1446353969
             ]
            },
            {
             "iteration": 49,
             "learn": [
              0.1479577587
             ],
             "passed_time": 22.3840602,
             "remaining_time": 22.3840602,
             "test": [
              0.1405228185
             ]
            },
            {
             "iteration": 50,
             "learn": [
              0.1439847248
             ],
             "passed_time": 22.85732886,
             "remaining_time": 21.96096302,
             "test": [
              0.1365195142
             ]
            },
            {
             "iteration": 51,
             "learn": [
              0.1401533309
             ],
             "passed_time": 23.32972391,
             "remaining_time": 21.53512977,
             "test": [
              0.1326828527
             ]
            },
            {
             "iteration": 52,
             "learn": [
              0.1369219674
             ],
             "passed_time": 23.74585461,
             "remaining_time": 21.05764466,
             "test": [
              0.1294749837
             ]
            },
            {
             "iteration": 53,
             "learn": [
              0.133394539
             ],
             "passed_time": 24.21997632,
             "remaining_time": 20.63183168,
             "test": [
              0.1258493487
             ]
            },
            {
             "iteration": 54,
             "learn": [
              0.1298172945
             ],
             "passed_time": 24.69075972,
             "remaining_time": 20.20153068,
             "test": [
              0.122339959
             ]
            },
            {
             "iteration": 55,
             "learn": [
              0.1264567571
             ],
             "passed_time": 25.14080066,
             "remaining_time": 19.75348623,
             "test": [
              0.1189694095
             ]
            },
            {
             "iteration": 56,
             "learn": [
              0.1231801301
             ],
             "passed_time": 25.7707438,
             "remaining_time": 19.44108743,
             "test": [
              0.1157165859
             ]
            },
            {
             "iteration": 57,
             "learn": [
              0.1200643511
             ],
             "passed_time": 26.40874682,
             "remaining_time": 19.12357528,
             "test": [
              0.1125703065
             ]
            },
            {
             "iteration": 58,
             "learn": [
              0.1170663705
             ],
             "passed_time": 27.00068332,
             "remaining_time": 18.76318672,
             "test": [
              0.1095189693
             ]
            },
            {
             "iteration": 59,
             "learn": [
              0.1140919919
             ],
             "passed_time": 27.48959609,
             "remaining_time": 18.32639739,
             "test": [
              0.106558741
             ]
            },
            {
             "iteration": 60,
             "learn": [
              0.1112260827
             ],
             "passed_time": 27.94302162,
             "remaining_time": 17.86521054,
             "test": [
              0.1037314907
             ]
            },
            {
             "iteration": 61,
             "learn": [
              0.1085426098
             ],
             "passed_time": 28.41965231,
             "remaining_time": 17.41849658,
             "test": [
              0.1009719936
             ]
            },
            {
             "iteration": 62,
             "learn": [
              0.106024002
             ],
             "passed_time": 28.85649954,
             "remaining_time": 16.94746799,
             "test": [
              0.09851926632
             ]
            },
            {
             "iteration": 63,
             "learn": [
              0.1034446168
             ],
             "passed_time": 29.33303339,
             "remaining_time": 16.49983128,
             "test": [
              0.09591472504
             ]
            },
            {
             "iteration": 64,
             "learn": [
              0.1009263974
             ],
             "passed_time": 29.82428971,
             "remaining_time": 16.05923292,
             "test": [
              0.09338656949
             ]
            },
            {
             "iteration": 65,
             "learn": [
              0.09864899386
             ],
             "passed_time": 30.2677131,
             "remaining_time": 15.59245826,
             "test": [
              0.09118952764
             ]
            },
            {
             "iteration": 66,
             "learn": [
              0.09654218652
             ],
             "passed_time": 30.76629539,
             "remaining_time": 15.15354848,
             "test": [
              0.08906414956
             ]
            },
            {
             "iteration": 67,
             "learn": [
              0.09417246662
             ],
             "passed_time": 31.22300044,
             "remaining_time": 14.69317668,
             "test": [
              0.08678481084
             ]
            },
            {
             "iteration": 68,
             "learn": [
              0.09221125628
             ],
             "passed_time": 31.66995594,
             "remaining_time": 14.22853093,
             "test": [
              0.08480239224
             ]
            },
            {
             "iteration": 69,
             "learn": [
              0.08998612396
             ],
             "passed_time": 32.15373988,
             "remaining_time": 13.78017424,
             "test": [
              0.08267151727
             ]
            },
            {
             "iteration": 70,
             "learn": [
              0.08804675769
             ],
             "passed_time": 32.61243614,
             "remaining_time": 13.32057251,
             "test": [
              0.08076349631
             ]
            },
            {
             "iteration": 71,
             "learn": [
              0.08594008775
             ],
             "passed_time": 33.08538554,
             "remaining_time": 12.86653882,
             "test": [
              0.07872700082
             ]
            },
            {
             "iteration": 72,
             "learn": [
              0.08405854357
             ],
             "passed_time": 33.52404042,
             "remaining_time": 12.39930262,
             "test": [
              0.07687124127
             ]
            },
            {
             "iteration": 73,
             "learn": [
              0.08228750446
             ],
             "passed_time": 33.94912114,
             "remaining_time": 11.92806959,
             "test": [
              0.07515040823
             ]
            },
            {
             "iteration": 74,
             "learn": [
              0.08053360033
             ],
             "passed_time": 34.40017843,
             "remaining_time": 11.46672614,
             "test": [
              0.07347632201
             ]
            },
            {
             "iteration": 75,
             "learn": [
              0.07893346198
             ],
             "passed_time": 34.84828657,
             "remaining_time": 11.00472208,
             "test": [
              0.07185905077
             ]
            },
            {
             "iteration": 76,
             "learn": [
              0.07709725343
             ],
             "passed_time": 35.30849313,
             "remaining_time": 10.54669275,
             "test": [
              0.07007557822
             ]
            },
            {
             "iteration": 77,
             "learn": [
              0.07538203404
             ],
             "passed_time": 35.79921119,
             "remaining_time": 10.09721341,
             "test": [
              0.06836407241
             ]
            },
            {
             "iteration": 78,
             "learn": [
              0.07399202385
             ],
             "passed_time": 36.22198354,
             "remaining_time": 9.628628537,
             "test": [
              0.06697832107
             ]
            },
            {
             "iteration": 79,
             "learn": [
              0.07238892784
             ],
             "passed_time": 36.71608411,
             "remaining_time": 9.179021027,
             "test": [
              0.0654247981
             ]
            },
            {
             "iteration": 80,
             "learn": [
              0.0709924363
             ],
             "passed_time": 37.11183482,
             "remaining_time": 8.705245204,
             "test": [
              0.06408274784
             ]
            },
            {
             "iteration": 81,
             "learn": [
              0.06948587422
             ],
             "passed_time": 37.60416904,
             "remaining_time": 8.254573693,
             "test": [
              0.0626040269
             ]
            },
            {
             "iteration": 82,
             "learn": [
              0.06801681147
             ],
             "passed_time": 38.05384723,
             "remaining_time": 7.794161481,
             "test": [
              0.06123566082
             ]
            },
            {
             "iteration": 83,
             "learn": [
              0.06684634141
             ],
             "passed_time": 38.4507284,
             "remaining_time": 7.323948267,
             "test": [
              0.06009657134
             ]
            },
            {
             "iteration": 84,
             "learn": [
              0.06541292817
             ],
             "passed_time": 38.9377135,
             "remaining_time": 6.871361205,
             "test": [
              0.0586483016
             ]
            },
            {
             "iteration": 85,
             "learn": [
              0.06429772128
             ],
             "passed_time": 39.34435796,
             "remaining_time": 6.404895482,
             "test": [
              0.05757457428
             ]
            },
            {
             "iteration": 86,
             "learn": [
              0.06308038137
             ],
             "passed_time": 39.78384373,
             "remaining_time": 5.944712281,
             "test": [
              0.05640272987
             ]
            },
            {
             "iteration": 87,
             "learn": [
              0.06191401971
             ],
             "passed_time": 40.14959719,
             "remaining_time": 5.474945071,
             "test": [
              0.05523325025
             ]
            },
            {
             "iteration": 88,
             "learn": [
              0.06067073169
             ],
             "passed_time": 40.59492075,
             "remaining_time": 5.017349756,
             "test": [
              0.05400444556
             ]
            },
            {
             "iteration": 89,
             "learn": [
              0.05954991183
             ],
             "passed_time": 41.04937503,
             "remaining_time": 4.56104167,
             "test": [
              0.05289020278
             ]
            },
            {
             "iteration": 90,
             "learn": [
              0.05836630523
             ],
             "passed_time": 41.54199442,
             "remaining_time": 4.108548899,
             "test": [
              0.05173484817
             ]
            },
            {
             "iteration": 91,
             "learn": [
              0.05719447435
             ],
             "passed_time": 41.98061266,
             "remaining_time": 3.650488057,
             "test": [
              0.05065539322
             ]
            },
            {
             "iteration": 92,
             "learn": [
              0.05614782439
             ],
             "passed_time": 42.40390957,
             "remaining_time": 3.191692118,
             "test": [
              0.04958392354
             ]
            },
            {
             "iteration": 93,
             "learn": [
              0.05509139243
             ],
             "passed_time": 42.79556111,
             "remaining_time": 2.73163156,
             "test": [
              0.04857395201
             ]
            },
            {
             "iteration": 94,
             "learn": [
              0.05403283269
             ],
             "passed_time": 43.23737639,
             "remaining_time": 2.275651389,
             "test": [
              0.04758535548
             ]
            },
            {
             "iteration": 95,
             "learn": [
              0.0530325476
             ],
             "passed_time": 43.66336613,
             "remaining_time": 1.819306922,
             "test": [
              0.04660432421
             ]
            },
            {
             "iteration": 96,
             "learn": [
              0.05203674965
             ],
             "passed_time": 44.11365934,
             "remaining_time": 1.36433998,
             "test": [
              0.04562181796
             ]
            },
            {
             "iteration": 97,
             "learn": [
              0.05106544311
             ],
             "passed_time": 44.5564677,
             "remaining_time": 0.9093156673,
             "test": [
              0.04468884111
             ]
            },
            {
             "iteration": 98,
             "learn": [
              0.05011900859
             ],
             "passed_time": 45.00304608,
             "remaining_time": 0.454576223,
             "test": [
              0.0438066027
             ]
            },
            {
             "iteration": 99,
             "learn": [
              0.04918517527
             ],
             "passed_time": 45.45411513,
             "remaining_time": 0,
             "test": [
              0.04290163939
             ]
            }
           ],
           "meta": {
            "iteration_count": 100,
            "launch_mode": "Train",
            "learn_metrics": [
             {
              "best_value": "Min",
              "name": "CrossEntropy"
             }
            ],
            "learn_sets": [
             "learn"
            ],
            "name": "experiment",
            "parameters": "",
            "test_metrics": [
             {
              "best_value": "Min",
              "name": "CrossEntropy"
             }
            ],
            "test_sets": [
             "test"
            ]
           }
          },
          "passed_iterations": 99,
          "total_iterations": 100
         },
         "name": "catboost_info",
         "path": "catboost_info"
        }
       },
       "layout": "IPY_MODEL_c87d91b7a6374189aae2b5f9c7876735"
      }
     },
     "0ee3146045d146369738aaa9c259039b": {
      "model_module": "@jupyter-widgets/base",
      "model_module_version": "1.2.0",
      "model_name": "LayoutModel",
      "state": {
       "_model_module": "@jupyter-widgets/base",
       "_model_module_version": "1.2.0",
       "_model_name": "LayoutModel",
       "_view_count": null,
       "_view_module": "@jupyter-widgets/base",
       "_view_module_version": "1.2.0",
       "_view_name": "LayoutView",
       "align_content": null,
       "align_items": null,
       "align_self": "stretch",
       "border": null,
       "bottom": null,
       "display": null,
       "flex": null,
       "flex_flow": null,
       "grid_area": null,
       "grid_auto_columns": null,
       "grid_auto_flow": null,
       "grid_auto_rows": null,
       "grid_column": null,
       "grid_gap": null,
       "grid_row": null,
       "grid_template_areas": null,
       "grid_template_columns": null,
       "grid_template_rows": null,
       "height": "500px",
       "justify_content": null,
       "justify_items": null,
       "left": null,
       "margin": null,
       "max_height": null,
       "max_width": null,
       "min_height": null,
       "min_width": null,
       "object_fit": null,
       "object_position": null,
       "order": null,
       "overflow": null,
       "overflow_x": null,
       "overflow_y": null,
       "padding": null,
       "right": null,
       "top": null,
       "visibility": null,
       "width": null
      }
     },
     "193116cef9eb4618a6b354b08c74fbcc": {
      "model_module": "catboost-widget",
      "model_module_version": "^1.0.0",
      "model_name": "CatboostWidgetModel",
      "state": {
       "_dom_classes": [],
       "_model_module": "catboost-widget",
       "_model_module_version": "^1.0.0",
       "_model_name": "CatboostWidgetModel",
       "_view_count": null,
       "_view_module": "catboost-widget",
       "_view_module_version": "^1.0.0",
       "_view_name": "CatboostWidgetView",
       "data": {
        "catboost_info": {
         "content": {
          "data": {
           "iterations": [
            {
             "iteration": 0,
             "learn": [
              0.6691883004
             ],
             "passed_time": 0.4635655245,
             "remaining_time": 45.89298693,
             "test": [
              0.6687115961
             ]
            },
            {
             "iteration": 1,
             "learn": [
              0.6460767531
             ],
             "passed_time": 0.9110198461,
             "remaining_time": 44.63997246,
             "test": [
              0.6456947038
             ]
            },
            {
             "iteration": 2,
             "learn": [
              0.6235310964
             ],
             "passed_time": 1.343193332,
             "remaining_time": 43.42991775,
             "test": [
              0.6237315262
             ]
            },
            {
             "iteration": 3,
             "learn": [
              0.6037336839
             ],
             "passed_time": 1.769283854,
             "remaining_time": 42.4628125,
             "test": [
              0.6030698038
             ]
            },
            {
             "iteration": 4,
             "learn": [
              0.5834870102
             ],
             "passed_time": 2.188843962,
             "remaining_time": 41.58803527,
             "test": [
              0.5833826016
             ]
            },
            {
             "iteration": 5,
             "learn": [
              0.5642431753
             ],
             "passed_time": 2.603253798,
             "remaining_time": 40.78430951,
             "test": [
              0.5634347489
             ]
            },
            {
             "iteration": 6,
             "learn": [
              0.546917971
             ],
             "passed_time": 3.054146534,
             "remaining_time": 40.57651824,
             "test": [
              0.545627556
             ]
            },
            {
             "iteration": 7,
             "learn": [
              0.529468749
             ],
             "passed_time": 3.508451951,
             "remaining_time": 40.34719744,
             "test": [
              0.528285319
             ]
            },
            {
             "iteration": 8,
             "learn": [
              0.5127549183
             ],
             "passed_time": 4.103660206,
             "remaining_time": 41.49256431,
             "test": [
              0.5119457599
             ]
            },
            {
             "iteration": 9,
             "learn": [
              0.4977537801
             ],
             "passed_time": 4.699944195,
             "remaining_time": 42.29949775,
             "test": [
              0.4964811515
             ]
            },
            {
             "iteration": 10,
             "learn": [
              0.4836984937
             ],
             "passed_time": 5.274018662,
             "remaining_time": 42.67160554,
             "test": [
              0.4817937973
             ]
            },
            {
             "iteration": 11,
             "learn": [
              0.4691451341
             ],
             "passed_time": 5.696132107,
             "remaining_time": 41.77163545,
             "test": [
              0.466549253
             ]
            },
            {
             "iteration": 12,
             "learn": [
              0.4549300192
             ],
             "passed_time": 6.108573782,
             "remaining_time": 40.88045531,
             "test": [
              0.4521805613
             ]
            },
            {
             "iteration": 13,
             "learn": [
              0.4411683608
             ],
             "passed_time": 6.525230404,
             "remaining_time": 40.0835582,
             "test": [
              0.4384270013
             ]
            },
            {
             "iteration": 14,
             "learn": [
              0.4292204564
             ],
             "passed_time": 6.949730996,
             "remaining_time": 39.38180898,
             "test": [
              0.4261941638
             ]
            },
            {
             "iteration": 15,
             "learn": [
              0.4164067202
             ],
             "passed_time": 7.364496726,
             "remaining_time": 38.66360781,
             "test": [
              0.4135981585
             ]
            },
            {
             "iteration": 16,
             "learn": [
              0.4044600409
             ],
             "passed_time": 7.779534701,
             "remaining_time": 37.98243413,
             "test": [
              0.4014000384
             ]
            },
            {
             "iteration": 17,
             "learn": [
              0.393085111
             ],
             "passed_time": 8.193944932,
             "remaining_time": 37.32797136,
             "test": [
              0.3895228439
             ]
            },
            {
             "iteration": 18,
             "learn": [
              0.3819650123
             ],
             "passed_time": 8.614106715,
             "remaining_time": 36.72329705,
             "test": [
              0.3781762896
             ]
            },
            {
             "iteration": 19,
             "learn": [
              0.3712108213
             ],
             "passed_time": 9.036887522,
             "remaining_time": 36.14755009,
             "test": [
              0.3675370718
             ]
            },
            {
             "iteration": 20,
             "learn": [
              0.3621125753
             ],
             "passed_time": 9.450469412,
             "remaining_time": 35.55176588,
             "test": [
              0.3579960933
             ]
            },
            {
             "iteration": 21,
             "learn": [
              0.3511081173
             ],
             "passed_time": 9.932920587,
             "remaining_time": 35.21671845,
             "test": [
              0.3472271108
             ]
            },
            {
             "iteration": 22,
             "learn": [
              0.3425605556
             ],
             "passed_time": 10.36618665,
             "remaining_time": 34.70419009,
             "test": [
              0.3385019269
             ]
            },
            {
             "iteration": 23,
             "learn": [
              0.333616826
             ],
             "passed_time": 10.78325107,
             "remaining_time": 34.14696172,
             "test": [
              0.3291372007
             ]
            },
            {
             "iteration": 24,
             "learn": [
              0.3253165453
             ],
             "passed_time": 11.2123875,
             "remaining_time": 33.63716249,
             "test": [
              0.3210187765
             ]
            },
            {
             "iteration": 25,
             "learn": [
              0.3173822606
             ],
             "passed_time": 11.66259895,
             "remaining_time": 33.19355085,
             "test": [
              0.3128117001
             ]
            },
            {
             "iteration": 26,
             "learn": [
              0.3082358419
             ],
             "passed_time": 12.08869223,
             "remaining_time": 32.68424195,
             "test": [
              0.3037695678
             ]
            },
            {
             "iteration": 27,
             "learn": [
              0.3010925004
             ],
             "passed_time": 12.50437497,
             "remaining_time": 32.15410706,
             "test": [
              0.2964860281
             ]
            },
            {
             "iteration": 28,
             "learn": [
              0.2925140038
             ],
             "passed_time": 12.92665662,
             "remaining_time": 31.64802138,
             "test": [
              0.2880683803
             ]
            },
            {
             "iteration": 29,
             "learn": [
              0.2843937593
             ],
             "passed_time": 13.3466907,
             "remaining_time": 31.14227829,
             "test": [
              0.2800437348
             ]
            },
            {
             "iteration": 30,
             "learn": [
              0.2766338468
             ],
             "passed_time": 13.76912183,
             "remaining_time": 30.6474002,
             "test": [
              0.2722732951
             ]
            },
            {
             "iteration": 31,
             "learn": [
              0.2705324504
             ],
             "passed_time": 14.17791614,
             "remaining_time": 30.1280718,
             "test": [
              0.266063407
             ]
            },
            {
             "iteration": 32,
             "learn": [
              0.263151103
             ],
             "passed_time": 14.60490406,
             "remaining_time": 29.65238098,
             "test": [
              0.2588522147
             ]
            },
            {
             "iteration": 33,
             "learn": [
              0.2560884815
             ],
             "passed_time": 15.02806443,
             "remaining_time": 29.17212507,
             "test": [
              0.2519018384
             ]
            },
            {
             "iteration": 34,
             "learn": [
              0.2495169181
             ],
             "passed_time": 15.45669403,
             "remaining_time": 28.70528892,
             "test": [
              0.2452118542
             ]
            },
            {
             "iteration": 35,
             "learn": [
              0.2430491493
             ],
             "passed_time": 15.93592252,
             "remaining_time": 28.33052893,
             "test": [
              0.238767654
             ]
            },
            {
             "iteration": 36,
             "learn": [
              0.2370561951
             ],
             "passed_time": 16.39907953,
             "remaining_time": 27.92275705,
             "test": [
              0.2326944648
             ]
            },
            {
             "iteration": 37,
             "learn": [
              0.2310489663
             ],
             "passed_time": 16.82068832,
             "remaining_time": 27.44428095,
             "test": [
              0.2267660118
             ]
            },
            {
             "iteration": 38,
             "learn": [
              0.2252162503
             ],
             "passed_time": 17.30267377,
             "remaining_time": 27.06315641,
             "test": [
              0.2209626932
             ]
            },
            {
             "iteration": 39,
             "learn": [
              0.2205918094
             ],
             "passed_time": 17.76992059,
             "remaining_time": 26.65488088,
             "test": [
              0.2159802371
             ]
            },
            {
             "iteration": 40,
             "learn": [
              0.2161107736
             ],
             "passed_time": 18.18697072,
             "remaining_time": 26.17149446,
             "test": [
              0.2114165571
             ]
            },
            {
             "iteration": 41,
             "learn": [
              0.2108404759
             ],
             "passed_time": 18.6138589,
             "remaining_time": 25.70485276,
             "test": [
              0.2060336343
             ]
            },
            {
             "iteration": 42,
             "learn": [
              0.2058059851
             ],
             "passed_time": 19.02776128,
             "remaining_time": 25.22284634,
             "test": [
              0.2012165669
             ]
            },
            {
             "iteration": 43,
             "learn": [
              0.2011687997
             ],
             "passed_time": 19.45900674,
             "remaining_time": 24.76600857,
             "test": [
              0.1965492051
             ]
            },
            {
             "iteration": 44,
             "learn": [
              0.196617675
             ],
             "passed_time": 19.89276668,
             "remaining_time": 24.3133815,
             "test": [
              0.192032106
             ]
            },
            {
             "iteration": 45,
             "learn": [
              0.1922291728
             ],
             "passed_time": 20.3505734,
             "remaining_time": 23.88980356,
             "test": [
              0.1874598548
             ]
            },
            {
             "iteration": 46,
             "learn": [
              0.1879586404
             ],
             "passed_time": 20.8143582,
             "remaining_time": 23.47151031,
             "test": [
              0.1832104928
             ]
            },
            {
             "iteration": 47,
             "learn": [
              0.18376897
             ],
             "passed_time": 21.25166988,
             "remaining_time": 23.02264237,
             "test": [
              0.1791803416
             ]
            },
            {
             "iteration": 48,
             "learn": [
              0.179488854
             ],
             "passed_time": 21.74426646,
             "remaining_time": 22.63178754,
             "test": [
              0.1748157648
             ]
            },
            {
             "iteration": 49,
             "learn": [
              0.1758658684
             ],
             "passed_time": 22.14387471,
             "remaining_time": 22.14387471,
             "test": [
              0.1711794212
             ]
            },
            {
             "iteration": 50,
             "learn": [
              0.1722735232
             ],
             "passed_time": 22.54522282,
             "remaining_time": 21.66109644,
             "test": [
              0.1676515067
             ]
            },
            {
             "iteration": 51,
             "learn": [
              0.1684475107
             ],
             "passed_time": 23.03005637,
             "remaining_time": 21.25851357,
             "test": [
              0.1637267387
             ]
            },
            {
             "iteration": 52,
             "learn": [
              0.16531406
             ],
             "passed_time": 23.40863584,
             "remaining_time": 20.75860159,
             "test": [
              0.1605133353
             ]
            },
            {
             "iteration": 53,
             "learn": [
              0.1621951327
             ],
             "passed_time": 23.79728326,
             "remaining_time": 20.27175981,
             "test": [
              0.1573374228
             ]
            },
            {
             "iteration": 54,
             "learn": [
              0.158926583
             ],
             "passed_time": 24.18165583,
             "remaining_time": 19.78499113,
             "test": [
              0.1541698367
             ]
            },
            {
             "iteration": 55,
             "learn": [
              0.1560252164
             ],
             "passed_time": 24.58100695,
             "remaining_time": 19.31364831,
             "test": [
              0.1510419158
             ]
            },
            {
             "iteration": 56,
             "learn": [
              0.1527441821
             ],
             "passed_time": 25.06485839,
             "remaining_time": 18.90857738,
             "test": [
              0.1475726509
             ]
            },
            {
             "iteration": 57,
             "learn": [
              0.1504125862
             ],
             "passed_time": 25.4487198,
             "remaining_time": 18.42838331,
             "test": [
              0.145261485
             ]
            },
            {
             "iteration": 58,
             "learn": [
              0.1476807058
             ],
             "passed_time": 25.84435687,
             "remaining_time": 17.95963782,
             "test": [
              0.1426076734
             ]
            },
            {
             "iteration": 59,
             "learn": [
              0.1450860647
             ],
             "passed_time": 26.2407642,
             "remaining_time": 17.4938428,
             "test": [
              0.1398965053
             ]
            },
            {
             "iteration": 60,
             "learn": [
              0.1424025993
             ],
             "passed_time": 26.6672118,
             "remaining_time": 17.04952885,
             "test": [
              0.1373039155
             ]
            },
            {
             "iteration": 61,
             "learn": [
              0.1398012361
             ],
             "passed_time": 27.06067625,
             "remaining_time": 16.58557577,
             "test": [
              0.1347660329
             ]
            },
            {
             "iteration": 62,
             "learn": [
              0.1371288954
             ],
             "passed_time": 27.51348877,
             "remaining_time": 16.15871563,
             "test": [
              0.1320447705
             ]
            },
            {
             "iteration": 63,
             "learn": [
              0.1348011896
             ],
             "passed_time": 27.90065316,
             "remaining_time": 15.6941174,
             "test": [
              0.1296594714
             ]
            },
            {
             "iteration": 64,
             "learn": [
              0.1320694321
             ],
             "passed_time": 28.37571146,
             "remaining_time": 15.27922925,
             "test": [
              0.1268789243
             ]
            },
            {
             "iteration": 65,
             "learn": [
              0.1296505762
             ],
             "passed_time": 28.79316427,
             "remaining_time": 14.8328422,
             "test": [
              0.1242813632
             ]
            },
            {
             "iteration": 66,
             "learn": [
              0.1278579524
             ],
             "passed_time": 29.15468693,
             "remaining_time": 14.35977117,
             "test": [
              0.1223606917
             ]
            },
            {
             "iteration": 67,
             "learn": [
              0.1260904707
             ],
             "passed_time": 29.51952452,
             "remaining_time": 13.89154095,
             "test": [
              0.1204484613
             ]
            },
            {
             "iteration": 68,
             "learn": [
              0.1243844281
             ],
             "passed_time": 29.87962826,
             "remaining_time": 13.42418081,
             "test": [
              0.1186818472
             ]
            },
            {
             "iteration": 69,
             "learn": [
              0.1229146983
             ],
             "passed_time": 30.21037681,
             "remaining_time": 12.94730435,
             "test": [
              0.1173079524
             ]
            },
            {
             "iteration": 70,
             "learn": [
              0.1205121645
             ],
             "passed_time": 30.65935048,
             "remaining_time": 12.5228333,
             "test": [
              0.1149418526
             ]
            },
            {
             "iteration": 71,
             "learn": [
              0.1188531509
             ],
             "passed_time": 31.01820231,
             "remaining_time": 12.06263423,
             "test": [
              0.113327504
             ]
            },
            {
             "iteration": 72,
             "learn": [
              0.1175156387
             ],
             "passed_time": 31.34926563,
             "remaining_time": 11.59493386,
             "test": [
              0.1120808109
             ]
            },
            {
             "iteration": 73,
             "learn": [
              0.1153177597
             ],
             "passed_time": 31.82977507,
             "remaining_time": 11.18343448,
             "test": [
              0.1099450504
             ]
            },
            {
             "iteration": 74,
             "learn": [
              0.1131840938
             ],
             "passed_time": 32.27243257,
             "remaining_time": 10.75747752,
             "test": [
              0.1078547104
             ]
            },
            {
             "iteration": 75,
             "learn": [
              0.1119467083
             ],
             "passed_time": 32.64286857,
             "remaining_time": 10.30827428,
             "test": [
              0.1066180773
             ]
            },
            {
             "iteration": 76,
             "learn": [
              0.1108171765
             ],
             "passed_time": 32.96423279,
             "remaining_time": 9.846459146,
             "test": [
              0.105490636
             ]
            },
            {
             "iteration": 77,
             "learn": [
              0.1089171112
             ],
             "passed_time": 33.40313394,
             "remaining_time": 9.421396752,
             "test": [
              0.1036508781
             ]
            },
            {
             "iteration": 78,
             "learn": [
              0.1074697516
             ],
             "passed_time": 33.78279038,
             "remaining_time": 8.980235417,
             "test": [
              0.102049095
             ]
            },
            {
             "iteration": 79,
             "learn": [
              0.1056627825
             ],
             "passed_time": 34.21738284,
             "remaining_time": 8.554345709,
             "test": [
              0.1002679317
             ]
            },
            {
             "iteration": 80,
             "learn": [
              0.1045553521
             ],
             "passed_time": 34.54257014,
             "remaining_time": 8.102578181,
             "test": [
              0.09927242968
             ]
            },
            {
             "iteration": 81,
             "learn": [
              0.1030491949
             ],
             "passed_time": 34.93160916,
             "remaining_time": 7.667914206,
             "test": [
              0.09789308257
             ]
            },
            {
             "iteration": 82,
             "learn": [
              0.1017960711
             ],
             "passed_time": 35.32446606,
             "remaining_time": 7.235131603,
             "test": [
              0.09673113983
             ]
            },
            {
             "iteration": 83,
             "learn": [
              0.1001633663
             ],
             "passed_time": 35.77298644,
             "remaining_time": 6.81390218,
             "test": [
              0.09510588964
             ]
            },
            {
             "iteration": 84,
             "learn": [
              0.09920130734
             ],
             "passed_time": 36.24404216,
             "remaining_time": 6.396007441,
             "test": [
              0.0942273754
             ]
            },
            {
             "iteration": 85,
             "learn": [
              0.09754964341
             ],
             "passed_time": 36.85144073,
             "remaining_time": 5.999071746,
             "test": [
              0.09263224378
             ]
            },
            {
             "iteration": 86,
             "learn": [
              0.09577403466
             ],
             "passed_time": 37.43195154,
             "remaining_time": 5.593280116,
             "test": [
              0.09089256082
             ]
            },
            {
             "iteration": 87,
             "learn": [
              0.09468233157
             ],
             "passed_time": 37.79467002,
             "remaining_time": 5.153818639,
             "test": [
              0.08983226983
             ]
            },
            {
             "iteration": 88,
             "learn": [
              0.09326126461
             ],
             "passed_time": 38.18649846,
             "remaining_time": 4.719679585,
             "test": [
              0.08852535058
             ]
            },
            {
             "iteration": 89,
             "learn": [
              0.09216412635
             ],
             "passed_time": 38.55656645,
             "remaining_time": 4.284062939,
             "test": [
              0.08746926186
             ]
            },
            {
             "iteration": 90,
             "learn": [
              0.09075313522
             ],
             "passed_time": 38.96448512,
             "remaining_time": 3.853630396,
             "test": [
              0.08592314273
             ]
            },
            {
             "iteration": 91,
             "learn": [
              0.08928338618
             ],
             "passed_time": 39.41771525,
             "remaining_time": 3.427627413,
             "test": [
              0.08443166026
             ]
            },
            {
             "iteration": 92,
             "learn": [
              0.08794486266
             ],
             "passed_time": 39.82834651,
             "remaining_time": 2.997832533,
             "test": [
              0.08295243534
             ]
            },
            {
             "iteration": 93,
             "learn": [
              0.08697241329
             ],
             "passed_time": 40.14992971,
             "remaining_time": 2.562761471,
             "test": [
              0.08192511642
             ]
            },
            {
             "iteration": 94,
             "learn": [
              0.08555288133
             ],
             "passed_time": 40.64112115,
             "remaining_time": 2.139006376,
             "test": [
              0.08038550323
             ]
            },
            {
             "iteration": 95,
             "learn": [
              0.08482457639
             ],
             "passed_time": 40.96042108,
             "remaining_time": 1.706684212,
             "test": [
              0.07973932613
             ]
            },
            {
             "iteration": 96,
             "learn": [
              0.08348963127
             ],
             "passed_time": 41.41044073,
             "remaining_time": 1.28073528,
             "test": [
              0.07839033338
             ]
            },
            {
             "iteration": 97,
             "learn": [
              0.08289984241
             ],
             "passed_time": 41.7557985,
             "remaining_time": 0.8521591531,
             "test": [
              0.07790584631
             ]
            },
            {
             "iteration": 98,
             "learn": [
              0.08200323386
             ],
             "passed_time": 42.11853539,
             "remaining_time": 0.4254397514,
             "test": [
              0.07703120481
             ]
            },
            {
             "iteration": 99,
             "learn": [
              0.08069215928
             ],
             "passed_time": 42.61537232,
             "remaining_time": 0,
             "test": [
              0.07575425268
             ]
            }
           ],
           "meta": {
            "iteration_count": 100,
            "launch_mode": "Train",
            "learn_metrics": [
             {
              "best_value": "Min",
              "name": "CrossEntropy"
             }
            ],
            "learn_sets": [
             "learn"
            ],
            "name": "experiment",
            "parameters": "",
            "test_metrics": [
             {
              "best_value": "Min",
              "name": "CrossEntropy"
             }
            ],
            "test_sets": [
             "test"
            ]
           }
          },
          "passed_iterations": 99,
          "total_iterations": 100
         },
         "name": "catboost_info",
         "path": "catboost_info"
        }
       },
       "layout": "IPY_MODEL_47a461f6cc7c4d00b0d9b72638b05996"
      }
     },
     "1cf744be97a94b5b8d133bf79696d14d": {
      "model_module": "@jupyter-widgets/base",
      "model_module_version": "1.2.0",
      "model_name": "LayoutModel",
      "state": {
       "_model_module": "@jupyter-widgets/base",
       "_model_module_version": "1.2.0",
       "_model_name": "LayoutModel",
       "_view_count": null,
       "_view_module": "@jupyter-widgets/base",
       "_view_module_version": "1.2.0",
       "_view_name": "LayoutView",
       "align_content": null,
       "align_items": null,
       "align_self": "stretch",
       "border": null,
       "bottom": null,
       "display": null,
       "flex": null,
       "flex_flow": null,
       "grid_area": null,
       "grid_auto_columns": null,
       "grid_auto_flow": null,
       "grid_auto_rows": null,
       "grid_column": null,
       "grid_gap": null,
       "grid_row": null,
       "grid_template_areas": null,
       "grid_template_columns": null,
       "grid_template_rows": null,
       "height": "500px",
       "justify_content": null,
       "justify_items": null,
       "left": null,
       "margin": null,
       "max_height": null,
       "max_width": null,
       "min_height": null,
       "min_width": null,
       "object_fit": null,
       "object_position": null,
       "order": null,
       "overflow": null,
       "overflow_x": null,
       "overflow_y": null,
       "padding": null,
       "right": null,
       "top": null,
       "visibility": null,
       "width": null
      }
     },
     "1fd9f570adef444f874062b8e297acad": {
      "model_module": "@jupyter-widgets/base",
      "model_module_version": "1.2.0",
      "model_name": "LayoutModel",
      "state": {
       "_model_module": "@jupyter-widgets/base",
       "_model_module_version": "1.2.0",
       "_model_name": "LayoutModel",
       "_view_count": null,
       "_view_module": "@jupyter-widgets/base",
       "_view_module_version": "1.2.0",
       "_view_name": "LayoutView",
       "align_content": null,
       "align_items": null,
       "align_self": "stretch",
       "border": null,
       "bottom": null,
       "display": null,
       "flex": null,
       "flex_flow": null,
       "grid_area": null,
       "grid_auto_columns": null,
       "grid_auto_flow": null,
       "grid_auto_rows": null,
       "grid_column": null,
       "grid_gap": null,
       "grid_row": null,
       "grid_template_areas": null,
       "grid_template_columns": null,
       "grid_template_rows": null,
       "height": "500px",
       "justify_content": null,
       "justify_items": null,
       "left": null,
       "margin": null,
       "max_height": null,
       "max_width": null,
       "min_height": null,
       "min_width": null,
       "object_fit": null,
       "object_position": null,
       "order": null,
       "overflow": null,
       "overflow_x": null,
       "overflow_y": null,
       "padding": null,
       "right": null,
       "top": null,
       "visibility": null,
       "width": null
      }
     },
     "22253648f5d447878c5a32fca57f18e9": {
      "model_module": "catboost-widget",
      "model_module_version": "^1.0.0",
      "model_name": "CatboostWidgetModel",
      "state": {
       "_dom_classes": [],
       "_model_module": "catboost-widget",
       "_model_module_version": "^1.0.0",
       "_model_name": "CatboostWidgetModel",
       "_view_count": null,
       "_view_module": "catboost-widget",
       "_view_module_version": "^1.0.0",
       "_view_name": "CatboostWidgetView",
       "data": {
        "catboost_info": {
         "content": {
          "data": {
           "iterations": [
            {
             "iteration": 0,
             "learn": [
              0.6613792015
             ],
             "passed_time": 0.3664665243,
             "remaining_time": 36.28018591,
             "test": [
              0.6635989807
             ]
            },
            {
             "iteration": 1,
             "learn": [
              0.6362945089
             ],
             "passed_time": 0.7568145427,
             "remaining_time": 37.08391259,
             "test": [
              0.6357707041
             ]
            },
            {
             "iteration": 2,
             "learn": [
              0.6093764538
             ],
             "passed_time": 1.118595008,
             "remaining_time": 36.16790525,
             "test": [
              0.6095171224
             ]
            },
            {
             "iteration": 3,
             "learn": [
              0.5837166378
             ],
             "passed_time": 1.509550248,
             "remaining_time": 36.22920594,
             "test": [
              0.5847092584
             ]
            },
            {
             "iteration": 4,
             "learn": [
              0.562190943
             ],
             "passed_time": 1.882638697,
             "remaining_time": 35.77013525,
             "test": [
              0.5612334673
             ]
            },
            {
             "iteration": 5,
             "learn": [
              0.5376508171
             ],
             "passed_time": 2.25048517,
             "remaining_time": 35.257601,
             "test": [
              0.5389880547
             ]
            },
            {
             "iteration": 6,
             "learn": [
              0.5168800396
             ],
             "passed_time": 2.6447734,
             "remaining_time": 35.13770374,
             "test": [
              0.5178815544
             ]
            },
            {
             "iteration": 7,
             "learn": [
              0.4986864751
             ],
             "passed_time": 3.008370709,
             "remaining_time": 34.59626315,
             "test": [
              0.4978333694
             ]
            },
            {
             "iteration": 8,
             "learn": [
              0.4785238484
             ],
             "passed_time": 3.395904206,
             "remaining_time": 34.33636475,
             "test": [
              0.4787697115
             ]
            },
            {
             "iteration": 9,
             "learn": [
              0.4605805494
             ],
             "passed_time": 3.858123398,
             "remaining_time": 34.72311058,
             "test": [
              0.460624164
             ]
            },
            {
             "iteration": 10,
             "learn": [
              0.4438249559
             ],
             "passed_time": 4.257268499,
             "remaining_time": 34.4451724,
             "test": [
              0.4433364611
             ]
            },
            {
             "iteration": 11,
             "learn": [
              0.4280510125
             ],
             "passed_time": 4.691886315,
             "remaining_time": 34.40716631,
             "test": [
              0.4268506374
             ]
            },
            {
             "iteration": 12,
             "learn": [
              0.4121173117
             ],
             "passed_time": 5.140297142,
             "remaining_time": 34.4004501,
             "test": [
              0.4111182859
             ]
            },
            {
             "iteration": 13,
             "learn": [
              0.3967762032
             ],
             "passed_time": 5.548179998,
             "remaining_time": 34.08167713,
             "test": [
              0.3960931356
             ]
            },
            {
             "iteration": 14,
             "learn": [
              0.3823940958
             ],
             "passed_time": 5.94937231,
             "remaining_time": 33.71310976,
             "test": [
              0.3817319846
             ]
            },
            {
             "iteration": 15,
             "learn": [
              0.3673344471
             ],
             "passed_time": 6.338575879,
             "remaining_time": 33.27752336,
             "test": [
              0.3679964113
             ]
            },
            {
             "iteration": 16,
             "learn": [
              0.3538769769
             ],
             "passed_time": 6.77963943,
             "remaining_time": 33.10059251,
             "test": [
              0.3548516459
             ]
            },
            {
             "iteration": 17,
             "learn": [
              0.3431672227
             ],
             "passed_time": 7.210086559,
             "remaining_time": 32.84594988,
             "test": [
              0.3422643491
             ]
            },
            {
             "iteration": 18,
             "learn": [
              0.3300855285
             ],
             "passed_time": 7.618074339,
             "remaining_time": 32.47705376,
             "test": [
              0.3302041755
             ]
            },
            {
             "iteration": 19,
             "learn": [
              0.3196738034
             ],
             "passed_time": 7.985212214,
             "remaining_time": 31.94084886,
             "test": [
              0.3186439972
             ]
            },
            {
             "iteration": 20,
             "learn": [
              0.3069725969
             ],
             "passed_time": 8.44428048,
             "remaining_time": 31.76657895,
             "test": [
              0.3075551056
             ]
            },
            {
             "iteration": 21,
             "learn": [
              0.2968815742
             ],
             "passed_time": 8.871537998,
             "remaining_time": 31.45363472,
             "test": [
              0.2969151998
             ]
            },
            {
             "iteration": 22,
             "learn": [
              0.2867647236
             ],
             "passed_time": 9.299969413,
             "remaining_time": 31.13468021,
             "test": [
              0.2867002402
             ]
            },
            {
             "iteration": 23,
             "learn": [
              0.2765049335
             ],
             "passed_time": 9.760636685,
             "remaining_time": 30.90868283,
             "test": [
              0.2768890865
             ]
            },
            {
             "iteration": 24,
             "learn": [
              0.2664381244
             ],
             "passed_time": 10.11119402,
             "remaining_time": 30.33358207,
             "test": [
              0.2674616833
             ]
            },
            {
             "iteration": 25,
             "learn": [
              0.2579791368
             ],
             "passed_time": 10.49931748,
             "remaining_time": 29.88267282,
             "test": [
              0.2583998729
             ]
            },
            {
             "iteration": 26,
             "learn": [
              0.2499626691
             ],
             "passed_time": 10.91192873,
             "remaining_time": 29.50262211,
             "test": [
              0.2496872484
             ]
            },
            {
             "iteration": 27,
             "learn": [
              0.2419720301
             ],
             "passed_time": 11.35867708,
             "remaining_time": 29.20802677,
             "test": [
              0.2413065535
             ]
            },
            {
             "iteration": 28,
             "learn": [
              0.2336781654
             ],
             "passed_time": 11.75297935,
             "remaining_time": 28.77453566,
             "test": [
              0.2332425293
             ]
            },
            {
             "iteration": 29,
             "learn": [
              0.2258465174
             ],
             "passed_time": 12.17548565,
             "remaining_time": 28.40946653,
             "test": [
              0.2254800746
             ]
            },
            {
             "iteration": 30,
             "learn": [
              0.2185229647
             ],
             "passed_time": 12.63621855,
             "remaining_time": 28.12577677,
             "test": [
              0.2180063404
             ]
            },
            {
             "iteration": 31,
             "learn": [
              0.2109303613
             ],
             "passed_time": 13.06384896,
             "remaining_time": 27.76067905,
             "test": [
              0.2108086476
             ]
            },
            {
             "iteration": 32,
             "learn": [
              0.2033494796
             ],
             "passed_time": 13.46807992,
             "remaining_time": 27.34428347,
             "test": [
              0.2038739831
             ]
            },
            {
             "iteration": 33,
             "learn": [
              0.19642107
             ],
             "passed_time": 13.95186602,
             "remaining_time": 27.08303404,
             "test": [
              0.1971917601
             ]
            },
            {
             "iteration": 34,
             "learn": [
              0.191171236
             ],
             "passed_time": 14.44164701,
             "remaining_time": 26.82020159,
             "test": [
              0.190751383
             ]
            },
            {
             "iteration": 35,
             "learn": [
              0.1838989801
             ],
             "passed_time": 14.83754377,
             "remaining_time": 26.3778556,
             "test": [
              0.1845413146
             ]
            },
            {
             "iteration": 36,
             "learn": [
              0.1787578117
             ],
             "passed_time": 15.26624991,
             "remaining_time": 25.99388497,
             "test": [
              0.1785530799
             ]
            },
            {
             "iteration": 37,
             "learn": [
              0.1721861519
             ],
             "passed_time": 15.69893588,
             "remaining_time": 25.61405327,
             "test": [
              0.1727768143
             ]
            },
            {
             "iteration": 38,
             "learn": [
              0.1676662325
             ],
             "passed_time": 16.13917453,
             "remaining_time": 25.24332427,
             "test": [
              0.1672038387
             ]
            },
            {
             "iteration": 39,
             "learn": [
              0.1614241238
             ],
             "passed_time": 16.56860476,
             "remaining_time": 24.85290714,
             "test": [
              0.1618258457
             ]
            },
            {
             "iteration": 40,
             "learn": [
              0.1563267034
             ],
             "passed_time": 17.13434752,
             "remaining_time": 24.65674399,
             "test": [
              0.1566357171
             ]
            },
            {
             "iteration": 41,
             "learn": [
              0.1520155678
             ],
             "passed_time": 17.79330559,
             "remaining_time": 24.57170772,
             "test": [
              0.1516252287
             ]
            },
            {
             "iteration": 42,
             "learn": [
              0.1470015763
             ],
             "passed_time": 18.31995864,
             "remaining_time": 24.28459634,
             "test": [
              0.1467870324
             ]
            },
            {
             "iteration": 43,
             "learn": [
              0.1418671598
             ],
             "passed_time": 18.78074854,
             "remaining_time": 23.90277087,
             "test": [
              0.1421158851
             ]
            },
            {
             "iteration": 44,
             "learn": [
              0.1371034933
             ],
             "passed_time": 19.14614497,
             "remaining_time": 23.40084386,
             "test": [
              0.1376045434
             ]
            },
            {
             "iteration": 45,
             "learn": [
              0.132906209
             ],
             "passed_time": 19.58865166,
             "remaining_time": 22.99537368,
             "test": [
              0.1332454612
             ]
            },
            {
             "iteration": 46,
             "learn": [
              0.1289168072
             ],
             "passed_time": 19.98895452,
             "remaining_time": 22.54073595,
             "test": [
              0.1290337502
             ]
            },
            {
             "iteration": 47,
             "learn": [
              0.1249898989
             ],
             "passed_time": 20.42362103,
             "remaining_time": 22.12558945,
             "test": [
              0.1249644404
             ]
            },
            {
             "iteration": 48,
             "learn": [
              0.1210809882
             ],
             "passed_time": 20.8738495,
             "remaining_time": 21.72584336,
             "test": [
              0.1210312092
             ]
            },
            {
             "iteration": 49,
             "learn": [
              0.1171933743
             ],
             "passed_time": 21.28788099,
             "remaining_time": 21.28788099,
             "test": [
              0.117229581
             ]
            },
            {
             "iteration": 50,
             "learn": [
              0.1133188785
             ],
             "passed_time": 21.69134895,
             "remaining_time": 20.84070781,
             "test": [
              0.1135545399
             ]
            },
            {
             "iteration": 51,
             "learn": [
              0.1097544747
             ],
             "passed_time": 22.11815636,
             "remaining_time": 20.41675972,
             "test": [
              0.110002093
             ]
            },
            {
             "iteration": 52,
             "learn": [
              0.1069260993
             ],
             "passed_time": 22.52718531,
             "remaining_time": 19.97693791,
             "test": [
              0.1065661697
             ]
            },
            {
             "iteration": 53,
             "learn": [
              0.1034040426
             ],
             "passed_time": 22.96613545,
             "remaining_time": 19.56374501,
             "test": [
              0.1032437095
             ]
            },
            {
             "iteration": 54,
             "learn": [
              0.09972979817
             ],
             "passed_time": 23.37465344,
             "remaining_time": 19.12471645,
             "test": [
              0.1000301019
             ]
            },
            {
             "iteration": 55,
             "learn": [
              0.09713728765
             ],
             "passed_time": 23.77066796,
             "remaining_time": 18.6769534,
             "test": [
              0.09692150641
             ]
            },
            {
             "iteration": 56,
             "learn": [
              0.09376520793
             ],
             "passed_time": 24.1621159,
             "remaining_time": 18.22756112,
             "test": [
              0.09391434247
             ]
            },
            {
             "iteration": 57,
             "learn": [
              0.09122238144
             ],
             "passed_time": 24.57948772,
             "remaining_time": 17.79893938,
             "test": [
              0.09100493589
             ]
            },
            {
             "iteration": 58,
             "learn": [
              0.08794210305
             ],
             "passed_time": 24.99220599,
             "remaining_time": 17.36746518,
             "test": [
              0.08819022718
             ]
            },
            {
             "iteration": 59,
             "learn": [
              0.08547211509
             ],
             "passed_time": 25.44989463,
             "remaining_time": 16.96659642,
             "test": [
              0.08546607857
             ]
            },
            {
             "iteration": 60,
             "learn": [
              0.08257629435
             ],
             "passed_time": 25.86907749,
             "remaining_time": 16.53924627,
             "test": [
              0.08283018531
             ]
            },
            {
             "iteration": 61,
             "learn": [
              0.08010026541
             ],
             "passed_time": 26.32808768,
             "remaining_time": 16.13656987,
             "test": [
              0.08027871024
             ]
            },
            {
             "iteration": 62,
             "learn": [
              0.07797056475
             ],
             "passed_time": 26.78005785,
             "remaining_time": 15.72797048,
             "test": [
              0.07780954395
             ]
            },
            {
             "iteration": 63,
             "learn": [
              0.0754880676
             ],
             "passed_time": 27.30317972,
             "remaining_time": 15.35803859,
             "test": [
              0.07541922488
             ]
            },
            {
             "iteration": 64,
             "learn": [
              0.07295766071
             ],
             "passed_time": 27.7677494,
             "remaining_time": 14.95186506,
             "test": [
              0.07310527102
             ]
            },
            {
             "iteration": 65,
             "learn": [
              0.07054251049
             ],
             "passed_time": 28.1710414,
             "remaining_time": 14.51235466,
             "test": [
              0.07086489258
             ]
            },
            {
             "iteration": 66,
             "learn": [
              0.06844392393
             ],
             "passed_time": 28.68772207,
             "remaining_time": 14.12977356,
             "test": [
              0.06869578504
             ]
            },
            {
             "iteration": 67,
             "learn": [
              0.06643132066
             ],
             "passed_time": 29.06706769,
             "remaining_time": 13.67862009,
             "test": [
              0.06659479863
             ]
            },
            {
             "iteration": 68,
             "learn": [
              0.06446576319
             ],
             "passed_time": 29.53509293,
             "remaining_time": 13.26938958,
             "test": [
              0.06456044561
             ]
            },
            {
             "iteration": 69,
             "learn": [
              0.06251205335
             ],
             "passed_time": 29.92591197,
             "remaining_time": 12.82539084,
             "test": [
              0.0625899171
             ]
            },
            {
             "iteration": 70,
             "learn": [
              0.06056298526
             ],
             "passed_time": 30.36141596,
             "remaining_time": 12.40114173,
             "test": [
              0.06068175543
             ]
            },
            {
             "iteration": 71,
             "learn": [
              0.05865265102
             ],
             "passed_time": 30.76956947,
             "remaining_time": 11.96594368,
             "test": [
              0.05883357357
             ]
            },
            {
             "iteration": 72,
             "learn": [
              0.05684211442
             ],
             "passed_time": 31.1821476,
             "remaining_time": 11.53312308,
             "test": [
              0.05704334802
             ]
            },
            {
             "iteration": 73,
             "learn": [
              0.05543106866
             ],
             "passed_time": 31.57575657,
             "remaining_time": 11.09418474,
             "test": [
              0.05530912309
             ]
            },
            {
             "iteration": 74,
             "learn": [
              0.05367325529
             ],
             "passed_time": 31.90636844,
             "remaining_time": 10.63545615,
             "test": [
              0.05362913983
             ]
            },
            {
             "iteration": 75,
             "learn": [
              0.05182481741
             ],
             "passed_time": 32.32031044,
             "remaining_time": 10.20641382,
             "test": [
              0.05200157103
             ]
            },
            {
             "iteration": 76,
             "learn": [
              0.05053055067
             ],
             "passed_time": 32.76643628,
             "remaining_time": 9.78737707,
             "test": [
              0.0504247305
             ]
            },
            {
             "iteration": 77,
             "learn": [
              0.04884019266
             ],
             "passed_time": 33.20321049,
             "remaining_time": 9.365008086,
             "test": [
              0.04889682274
             ]
            },
            {
             "iteration": 78,
             "learn": [
              0.04721702199
             ],
             "passed_time": 33.60331449,
             "remaining_time": 8.932526637,
             "test": [
              0.04741635418
             ]
            },
            {
             "iteration": 79,
             "learn": [
              0.04591143278
             ],
             "passed_time": 34.05731907,
             "remaining_time": 8.514329767,
             "test": [
              0.04598221991
             ]
            },
            {
             "iteration": 80,
             "learn": [
              0.04464865696
             ],
             "passed_time": 34.46276953,
             "remaining_time": 8.08385952,
             "test": [
              0.04459207382
             ]
            },
            {
             "iteration": 81,
             "learn": [
              0.04306375612
             ],
             "passed_time": 34.9356519,
             "remaining_time": 7.668801637,
             "test": [
              0.04324538582
             ]
            },
            {
             "iteration": 82,
             "learn": [
              0.04195666794
             ],
             "passed_time": 35.35839206,
             "remaining_time": 7.242080301,
             "test": [
              0.04193997855
             ]
            },
            {
             "iteration": 83,
             "learn": [
              0.04071430995
             ],
             "passed_time": 35.83451591,
             "remaining_time": 6.825622078,
             "test": [
              0.04067472544
             ]
            },
            {
             "iteration": 84,
             "learn": [
              0.03934993535
             ],
             "passed_time": 36.29021274,
             "remaining_time": 6.40415519,
             "test": [
              0.03944891815
             ]
            },
            {
             "iteration": 85,
             "learn": [
              0.03812829082
             ],
             "passed_time": 36.72514655,
             "remaining_time": 5.978512228,
             "test": [
              0.0382605555
             ]
            },
            {
             "iteration": 86,
             "learn": [
              0.03710712368
             ],
             "passed_time": 37.13747576,
             "remaining_time": 5.549277987,
             "test": [
              0.03710863224
             ]
            },
            {
             "iteration": 87,
             "learn": [
              0.03605624209
             ],
             "passed_time": 37.58999311,
             "remaining_time": 5.125908151,
             "test": [
              0.03599238945
             ]
            },
            {
             "iteration": 88,
             "learn": [
              0.03486723351
             ],
             "passed_time": 37.91991067,
             "remaining_time": 4.686730532,
             "test": [
              0.03490980436
             ]
            },
            {
             "iteration": 89,
             "learn": [
              0.03382531998
             ],
             "passed_time": 38.32633476,
             "remaining_time": 4.25848164,
             "test": [
              0.03386045273
             ]
            },
            {
             "iteration": 90,
             "learn": [
              0.03282088622
             ],
             "passed_time": 38.79331965,
             "remaining_time": 3.836701944,
             "test": [
              0.03284331333
             ]
            },
            {
             "iteration": 91,
             "learn": [
              0.03182883582
             ],
             "passed_time": 39.2198622,
             "remaining_time": 3.4104228,
             "test": [
              0.03185726942
             ]
            },
            {
             "iteration": 92,
             "learn": [
              0.03085155604
             ],
             "passed_time": 39.69141764,
             "remaining_time": 2.987526059,
             "test": [
              0.03090136408
             ]
            },
            {
             "iteration": 93,
             "learn": [
              0.02991082652
             ],
             "passed_time": 40.17045481,
             "remaining_time": 2.564071584,
             "test": [
              0.02997445317
             ]
            },
            {
             "iteration": 94,
             "learn": [
              0.02897226416
             ],
             "passed_time": 40.60155674,
             "remaining_time": 2.136924039,
             "test": [
              0.02907652804
             ]
            },
            {
             "iteration": 95,
             "learn": [
              0.02823881902
             ],
             "passed_time": 40.91701702,
             "remaining_time": 1.704875709,
             "test": [
              0.02820518274
             ]
            },
            {
             "iteration": 96,
             "learn": [
              0.02735155293
             ],
             "passed_time": 41.34069202,
             "remaining_time": 1.278578104,
             "test": [
              0.02736018908
             ]
            },
            {
             "iteration": 97,
             "learn": [
              0.0264337981
             ],
             "passed_time": 41.75318746,
             "remaining_time": 0.8521058665,
             "test": [
              0.02654133735
             ]
            },
            {
             "iteration": 98,
             "learn": [
              0.02577584036
             ],
             "passed_time": 42.15083811,
             "remaining_time": 0.4257660415,
             "test": [
              0.02574713944
             ]
            },
            {
             "iteration": 99,
             "learn": [
              0.0249201159
             ],
             "passed_time": 42.54591644,
             "remaining_time": 0,
             "test": [
              0.02497694988
             ]
            }
           ],
           "meta": {
            "iteration_count": 100,
            "launch_mode": "Train",
            "learn_metrics": [
             {
              "best_value": "Min",
              "name": "CrossEntropy"
             }
            ],
            "learn_sets": [
             "learn"
            ],
            "name": "experiment",
            "parameters": "",
            "test_metrics": [
             {
              "best_value": "Min",
              "name": "CrossEntropy"
             }
            ],
            "test_sets": [
             "test"
            ]
           }
          },
          "passed_iterations": 99,
          "total_iterations": 100
         },
         "name": "catboost_info",
         "path": "catboost_info"
        }
       },
       "layout": "IPY_MODEL_8bfea42ebde54e118cf45fc07ace13bf"
      }
     },
     "25e10203cff04aefa489e8f65a0adcb7": {
      "model_module": "@jupyter-widgets/base",
      "model_module_version": "1.2.0",
      "model_name": "LayoutModel",
      "state": {
       "_model_module": "@jupyter-widgets/base",
       "_model_module_version": "1.2.0",
       "_model_name": "LayoutModel",
       "_view_count": null,
       "_view_module": "@jupyter-widgets/base",
       "_view_module_version": "1.2.0",
       "_view_name": "LayoutView",
       "align_content": null,
       "align_items": null,
       "align_self": "stretch",
       "border": null,
       "bottom": null,
       "display": null,
       "flex": null,
       "flex_flow": null,
       "grid_area": null,
       "grid_auto_columns": null,
       "grid_auto_flow": null,
       "grid_auto_rows": null,
       "grid_column": null,
       "grid_gap": null,
       "grid_row": null,
       "grid_template_areas": null,
       "grid_template_columns": null,
       "grid_template_rows": null,
       "height": "500px",
       "justify_content": null,
       "justify_items": null,
       "left": null,
       "margin": null,
       "max_height": null,
       "max_width": null,
       "min_height": null,
       "min_width": null,
       "object_fit": null,
       "object_position": null,
       "order": null,
       "overflow": null,
       "overflow_x": null,
       "overflow_y": null,
       "padding": null,
       "right": null,
       "top": null,
       "visibility": null,
       "width": null
      }
     },
     "2bea58e2da6442e2962a4acafd8ac8a6": {
      "model_module": "catboost-widget",
      "model_module_version": "^1.0.0",
      "model_name": "CatboostWidgetModel",
      "state": {
       "_dom_classes": [],
       "_model_module": "catboost-widget",
       "_model_module_version": "^1.0.0",
       "_model_name": "CatboostWidgetModel",
       "_view_count": null,
       "_view_module": "catboost-widget",
       "_view_module_version": "^1.0.0",
       "_view_name": "CatboostWidgetView",
       "data": {
        "catboost_info": {
         "content": {
          "data": {
           "iterations": [
            {
             "iteration": 0,
             "learn": [
              0.6613797151
             ],
             "passed_time": 0.4547682456,
             "remaining_time": 45.02205631,
             "test": [
              0.6635998208
             ]
            },
            {
             "iteration": 1,
             "learn": [
              0.6362956026
             ],
             "passed_time": 0.842289123,
             "remaining_time": 41.27216703,
             "test": [
              0.6357723346
             ]
            },
            {
             "iteration": 2,
             "learn": [
              0.6093778655
             ],
             "passed_time": 1.204779458,
             "remaining_time": 38.95453582,
             "test": [
              0.6095196503
             ]
            },
            {
             "iteration": 3,
             "learn": [
              0.5837184601
             ],
             "passed_time": 1.598088536,
             "remaining_time": 38.35412487,
             "test": [
              0.5847120637
             ]
            },
            {
             "iteration": 4,
             "learn": [
              0.5621932289
             ],
             "passed_time": 1.973886089,
             "remaining_time": 37.50383569,
             "test": [
              0.561236593
             ]
            },
            {
             "iteration": 5,
             "learn": [
              0.5376553418
             ],
             "passed_time": 2.344031375,
             "remaining_time": 36.7231582,
             "test": [
              0.5389927313
             ]
            },
            {
             "iteration": 6,
             "learn": [
              0.516883754
             ],
             "passed_time": 2.735227279,
             "remaining_time": 36.33944814,
             "test": [
              0.517886563
             ]
            },
            {
             "iteration": 7,
             "learn": [
              0.4986901158
             ],
             "passed_time": 3.096535934,
             "remaining_time": 35.61016324,
             "test": [
              0.4978383531
             ]
            },
            {
             "iteration": 8,
             "learn": [
              0.4785280992
             ],
             "passed_time": 3.481537044,
             "remaining_time": 35.20220789,
             "test": [
              0.4787748612
             ]
            },
            {
             "iteration": 9,
             "learn": [
              0.4605848455
             ],
             "passed_time": 3.941082481,
             "remaining_time": 35.46974233,
             "test": [
              0.4606294332
             ]
            },
            {
             "iteration": 10,
             "learn": [
              0.4438381462
             ],
             "passed_time": 4.332998696,
             "remaining_time": 35.05789854,
             "test": [
              0.4433420642
             ]
            },
            {
             "iteration": 11,
             "learn": [
              0.428056139
             ],
             "passed_time": 4.770352415,
             "remaining_time": 34.98258437,
             "test": [
              0.4268563302
             ]
            },
            {
             "iteration": 12,
             "learn": [
              0.412141918
             ],
             "passed_time": 5.227492932,
             "remaining_time": 34.98399116,
             "test": [
              0.4111250644
             ]
            },
            {
             "iteration": 13,
             "learn": [
              0.3967822377
             ],
             "passed_time": 5.634111517,
             "remaining_time": 34.60954218,
             "test": [
              0.3961010622
             ]
            },
            {
             "iteration": 14,
             "learn": [
              0.3824002628
             ],
             "passed_time": 6.034164012,
             "remaining_time": 34.19359607,
             "test": [
              0.3817433846
             ]
            },
            {
             "iteration": 15,
             "learn": [
              0.3673412158
             ],
             "passed_time": 6.468453129,
             "remaining_time": 33.95937893,
             "test": [
              0.3680084358
             ]
            },
            {
             "iteration": 16,
             "learn": [
              0.3538841348
             ],
             "passed_time": 6.911118861,
             "remaining_time": 33.7425215,
             "test": [
              0.3548634882
             ]
            },
            {
             "iteration": 17,
             "learn": [
              0.3431883873
             ],
             "passed_time": 7.299765427,
             "remaining_time": 33.25448695,
             "test": [
              0.3422756051
             ]
            },
            {
             "iteration": 18,
             "learn": [
              0.3300939059
             ],
             "passed_time": 7.699866519,
             "remaining_time": 32.82574674,
             "test": [
              0.330215368
             ]
            },
            {
             "iteration": 19,
             "learn": [
              0.3196818019
             ],
             "passed_time": 8.067443061,
             "remaining_time": 32.26977224,
             "test": [
              0.3186533009
             ]
            },
            {
             "iteration": 20,
             "learn": [
              0.3069811107
             ],
             "passed_time": 8.524470482,
             "remaining_time": 32.0682461,
             "test": [
              0.3075643876
             ]
            },
            {
             "iteration": 21,
             "learn": [
              0.29689013
             ],
             "passed_time": 8.959692312,
             "remaining_time": 31.76618184,
             "test": [
              0.2969239564
             ]
            },
            {
             "iteration": 22,
             "learn": [
              0.2867739667
             ],
             "passed_time": 9.405345112,
             "remaining_time": 31.48745972,
             "test": [
              0.2867093766
             ]
            },
            {
             "iteration": 23,
             "learn": [
              0.2765110577
             ],
             "passed_time": 9.862890838,
             "remaining_time": 31.23248765,
             "test": [
              0.2768986315
             ]
            },
            {
             "iteration": 24,
             "learn": [
              0.2664485169
             ],
             "passed_time": 10.21634564,
             "remaining_time": 30.64903692,
             "test": [
              0.267471185
             ]
            },
            {
             "iteration": 25,
             "learn": [
              0.2579895655
             ],
             "passed_time": 10.6028822,
             "remaining_time": 30.17743395,
             "test": [
              0.2584093193
             ]
            },
            {
             "iteration": 26,
             "learn": [
              0.2499728581
             ],
             "passed_time": 11.01667919,
             "remaining_time": 29.78583634,
             "test": [
              0.2496968171
             ]
            },
            {
             "iteration": 27,
             "learn": [
              0.2419824855
             ],
             "passed_time": 11.46647042,
             "remaining_time": 29.48520965,
             "test": [
              0.2413161011
             ]
            },
            {
             "iteration": 28,
             "learn": [
              0.2336889472
             ],
             "passed_time": 11.85846822,
             "remaining_time": 29.03280152,
             "test": [
              0.2332516695
             ]
            },
            {
             "iteration": 29,
             "learn": [
              0.2258577565
             ],
             "passed_time": 12.27940164,
             "remaining_time": 28.65193716,
             "test": [
              0.2254892443
             ]
            },
            {
             "iteration": 30,
             "learn": [
              0.2185345987
             ],
             "passed_time": 12.73190481,
             "remaining_time": 28.33875587,
             "test": [
              0.2180155784
             ]
            },
            {
             "iteration": 31,
             "learn": [
              0.2109422655
             ],
             "passed_time": 13.16417462,
             "remaining_time": 27.97387107,
             "test": [
              0.210817934
             ]
            },
            {
             "iteration": 32,
             "learn": [
              0.2033631656
             ],
             "passed_time": 13.56266933,
             "remaining_time": 27.53632863,
             "test": [
              0.2038831828
             ]
            },
            {
             "iteration": 33,
             "learn": [
              0.196437077
             ],
             "passed_time": 14.04401871,
             "remaining_time": 27.26191867,
             "test": [
              0.197200915
             ]
            },
            {
             "iteration": 34,
             "learn": [
              0.1911869351
             ],
             "passed_time": 14.51776701,
             "remaining_time": 26.96156731,
             "test": [
              0.1907603914
             ]
            },
            {
             "iteration": 35,
             "learn": [
              0.1839123835
             ],
             "passed_time": 14.9083984,
             "remaining_time": 26.50381938,
             "test": [
              0.1845508652
             ]
            },
            {
             "iteration": 36,
             "learn": [
              0.1787741278
             ],
             "passed_time": 15.34182457,
             "remaining_time": 26.12256615,
             "test": [
              0.1785623729
             ]
            },
            {
             "iteration": 37,
             "learn": [
              0.1722006523
             ],
             "passed_time": 15.76880855,
             "remaining_time": 25.72805605,
             "test": [
              0.1727859694
             ]
            },
            {
             "iteration": 38,
             "learn": [
              0.1676822031
             ],
             "passed_time": 16.20920493,
             "remaining_time": 25.352859,
             "test": [
              0.1672146741
             ]
            },
            {
             "iteration": 39,
             "learn": [
              0.1614395536
             ],
             "passed_time": 16.63708969,
             "remaining_time": 24.95563454,
             "test": [
              0.1618366687
             ]
            },
            {
             "iteration": 40,
             "learn": [
              0.1563412411
             ],
             "passed_time": 17.05828532,
             "remaining_time": 24.54728863,
             "test": [
              0.1566464398
             ]
            },
            {
             "iteration": 41,
             "learn": [
              0.1520305639
             ],
             "passed_time": 17.5755604,
             "remaining_time": 24.27101198,
             "test": [
              0.1516362283
             ]
            },
            {
             "iteration": 42,
             "learn": [
              0.1470228012
             ],
             "passed_time": 17.9434269,
             "remaining_time": 23.78547287,
             "test": [
              0.1467986101
             ]
            },
            {
             "iteration": 43,
             "learn": [
              0.1418826986
             ],
             "passed_time": 18.40384971,
             "remaining_time": 23.42308145,
             "test": [
              0.1421271178
             ]
            },
            {
             "iteration": 44,
             "learn": [
              0.1371200527
             ],
             "passed_time": 18.77662046,
             "remaining_time": 22.94920278,
             "test": [
              0.1376145917
             ]
            },
            {
             "iteration": 45,
             "learn": [
              0.1329223957
             ],
             "passed_time": 19.23389612,
             "remaining_time": 22.57892154,
             "test": [
              0.1332556553
             ]
            },
            {
             "iteration": 46,
             "learn": [
              0.1289331964
             ],
             "passed_time": 19.63770038,
             "remaining_time": 22.14464086,
             "test": [
              0.1290438402
             ]
            },
            {
             "iteration": 47,
             "learn": [
              0.1250078576
             ],
             "passed_time": 20.07233125,
             "remaining_time": 21.74502552,
             "test": [
              0.1249746581
             ]
            },
            {
             "iteration": 48,
             "learn": [
              0.1210981178
             ],
             "passed_time": 20.52688559,
             "remaining_time": 21.36471765,
             "test": [
              0.1210414717
             ]
            },
            {
             "iteration": 49,
             "learn": [
              0.1172112981
             ],
             "passed_time": 20.93884507,
             "remaining_time": 20.93884507,
             "test": [
              0.1172401196
             ]
            },
            {
             "iteration": 50,
             "learn": [
              0.1133369721
             ],
             "passed_time": 21.33984945,
             "remaining_time": 20.50299261,
             "test": [
              0.1135650504
             ]
            },
            {
             "iteration": 51,
             "learn": [
              0.1097721401
             ],
             "passed_time": 21.78195236,
             "remaining_time": 20.10641756,
             "test": [
              0.1100126986
             ]
            },
            {
             "iteration": 52,
             "learn": [
              0.1069440562
             ],
             "passed_time": 22.19247098,
             "remaining_time": 19.68011578,
             "test": [
              0.1065768143
             ]
            },
            {
             "iteration": 53,
             "learn": [
              0.103424956
             ],
             "passed_time": 22.63182097,
             "remaining_time": 19.2789586,
             "test": [
              0.1032545239
             ]
            },
            {
             "iteration": 54,
             "learn": [
              0.09974868666
             ],
             "passed_time": 23.02778869,
             "remaining_time": 18.84091802,
             "test": [
              0.1000407882
             ]
            },
            {
             "iteration": 55,
             "learn": [
              0.0971561852
             ],
             "passed_time": 23.41905252,
             "remaining_time": 18.40068412,
             "test": [
              0.09693232882
             ]
            },
            {
             "iteration": 56,
             "learn": [
              0.09378520391
             ],
             "passed_time": 23.80091409,
             "remaining_time": 17.95507554,
             "test": [
              0.09392509426
             ]
            },
            {
             "iteration": 57,
             "learn": [
              0.09124287236
             ],
             "passed_time": 24.21894005,
             "remaining_time": 17.53785314,
             "test": [
              0.09101553587
             ]
            },
            {
             "iteration": 58,
             "learn": [
              0.08796172587
             ],
             "passed_time": 24.64028505,
             "remaining_time": 17.12290995,
             "test": [
              0.08820068824
             ]
            },
            {
             "iteration": 59,
             "learn": [
              0.08549282496
             ],
             "passed_time": 25.10335426,
             "remaining_time": 16.7355695,
             "test": [
              0.08547649015
             ]
            },
            {
             "iteration": 60,
             "learn": [
              0.08259626921
             ],
             "passed_time": 25.52908867,
             "remaining_time": 16.32187636,
             "test": [
              0.0828405378
             ]
            },
            {
             "iteration": 61,
             "learn": [
              0.08012464296
             ],
             "passed_time": 25.99365839,
             "remaining_time": 15.93159708,
             "test": [
              0.08028903073
             ]
            },
            {
             "iteration": 62,
             "learn": [
              0.07799296198
             ],
             "passed_time": 26.44889861,
             "remaining_time": 15.53348013,
             "test": [
              0.07782106619
             ]
            },
            {
             "iteration": 63,
             "learn": [
              0.07551261013
             ],
             "passed_time": 26.96280859,
             "remaining_time": 15.16657983,
             "test": [
              0.07543072383
             ]
            },
            {
             "iteration": 64,
             "learn": [
              0.0729770372
             ],
             "passed_time": 27.43178993,
             "remaining_time": 14.77096381,
             "test": [
              0.07311664563
             ]
            },
            {
             "iteration": 65,
             "learn": [
              0.07060388821
             ],
             "passed_time": 27.83130132,
             "remaining_time": 14.33733704,
             "test": [
              0.07087627457
             ]
            },
            {
             "iteration": 66,
             "learn": [
              0.06847173804
             ],
             "passed_time": 28.39286485,
             "remaining_time": 13.98454537,
             "test": [
              0.06870707794
             ]
            },
            {
             "iteration": 67,
             "learn": [
              0.06645663375
             ],
             "passed_time": 28.76254252,
             "remaining_time": 13.53531413,
             "test": [
              0.06660591998
             ]
            },
            {
             "iteration": 68,
             "learn": [
              0.06448843729
             ],
             "passed_time": 29.21836854,
             "remaining_time": 13.12709311,
             "test": [
              0.06457155149
             ]
            },
            {
             "iteration": 69,
             "learn": [
              0.06253472915
             ],
             "passed_time": 29.6141727,
             "remaining_time": 12.6917883,
             "test": [
              0.06260102015
             ]
            },
            {
             "iteration": 70,
             "learn": [
              0.06058705242
             ],
             "passed_time": 30.04392958,
             "remaining_time": 12.27146419,
             "test": [
              0.06069265676
             ]
            },
            {
             "iteration": 71,
             "learn": [
              0.05867684117
             ],
             "passed_time": 30.44659141,
             "remaining_time": 11.8403411,
             "test": [
              0.05884419686
             ]
            },
            {
             "iteration": 72,
             "learn": [
              0.05686923053
             ],
             "passed_time": 30.85789981,
             "remaining_time": 11.41319582,
             "test": [
              0.05705392002
             ]
            },
            {
             "iteration": 73,
             "learn": [
              0.05545541938
             ],
             "passed_time": 31.42575525,
             "remaining_time": 11.04148157,
             "test": [
              0.05531969824
             ]
            },
            {
             "iteration": 74,
             "learn": [
              0.05369898437
             ],
             "passed_time": 31.88464144,
             "remaining_time": 10.62821381,
             "test": [
              0.05364007675
             ]
            },
            {
             "iteration": 75,
             "learn": [
              0.05185051925
             ],
             "passed_time": 32.45951381,
             "remaining_time": 10.25037278,
             "test": [
              0.05201245692
             ]
            },
            {
             "iteration": 76,
             "learn": [
              0.05055674118
             ],
             "passed_time": 32.90442367,
             "remaining_time": 9.828594085,
             "test": [
              0.05043563123
             ]
            },
            {
             "iteration": 77,
             "learn": [
              0.0488648058
             ],
             "passed_time": 33.34603449,
             "remaining_time": 9.405291779,
             "test": [
              0.04890773832
             ]
            },
            {
             "iteration": 78,
             "learn": [
              0.04729836539
             ],
             "passed_time": 33.73250857,
             "remaining_time": 8.966869366,
             "test": [
              0.04742736051
             ]
            },
            {
             "iteration": 79,
             "learn": [
              0.0459370825
             ],
             "passed_time": 34.17963475,
             "remaining_time": 8.544908687,
             "test": [
              0.04599321076
             ]
            },
            {
             "iteration": 80,
             "learn": [
              0.04467533844
             ],
             "passed_time": 34.58393869,
             "remaining_time": 8.112281915,
             "test": [
              0.04460307483
             ]
            },
            {
             "iteration": 81,
             "learn": [
              0.04309584307
             ],
             "passed_time": 35.05502029,
             "remaining_time": 7.695004453,
             "test": [
              0.04325645272
             ]
            },
            {
             "iteration": 82,
             "learn": [
              0.0419836739
             ],
             "passed_time": 35.47666823,
             "remaining_time": 7.266305542,
             "test": [
              0.04195140182
             ]
            },
            {
             "iteration": 83,
             "learn": [
              0.04074150402
             ],
             "passed_time": 35.9523154,
             "remaining_time": 6.848060077,
             "test": [
              0.04068602827
             ]
            },
            {
             "iteration": 84,
             "learn": [
              0.03937664069
             ],
             "passed_time": 36.41284462,
             "remaining_time": 6.42579611,
             "test": [
              0.03946024918
             ]
            },
            {
             "iteration": 85,
             "learn": [
              0.03815727996
             ],
             "passed_time": 36.83501844,
             "remaining_time": 5.996398351,
             "test": [
              0.03827162984
             ]
            },
            {
             "iteration": 86,
             "learn": [
              0.03713598881
             ],
             "passed_time": 37.23700621,
             "remaining_time": 5.564150354,
             "test": [
              0.03711973073
             ]
            },
            {
             "iteration": 87,
             "learn": [
              0.03608565276
             ],
             "passed_time": 37.69036901,
             "remaining_time": 5.139595774,
             "test": [
              0.03600317186
             ]
            },
            {
             "iteration": 88,
             "learn": [
              0.03490550003
             ],
             "passed_time": 38.02008434,
             "remaining_time": 4.699111548,
             "test": [
              0.03492029572
             ]
            },
            {
             "iteration": 89,
             "learn": [
              0.03385711521
             ],
             "passed_time": 38.43305677,
             "remaining_time": 4.270339641,
             "test": [
              0.03387103135
             ]
            },
            {
             "iteration": 90,
             "learn": [
              0.03285144931
             ],
             "passed_time": 38.89348476,
             "remaining_time": 3.846608383,
             "test": [
              0.03285389391
             ]
            },
            {
             "iteration": 91,
             "learn": [
              0.03186009073
             ],
             "passed_time": 39.36449426,
             "remaining_time": 3.422999501,
             "test": [
              0.03186836613
             ]
            },
            {
             "iteration": 92,
             "learn": [
              0.03088305919
             ],
             "passed_time": 39.83100461,
             "remaining_time": 2.998032605,
             "test": [
              0.03091215068
             ]
            },
            {
             "iteration": 93,
             "learn": [
              0.02994881967
             ],
             "passed_time": 40.27114317,
             "remaining_time": 2.5704985,
             "test": [
              0.02998550512
             ]
            },
            {
             "iteration": 94,
             "learn": [
              0.02902982069
             ],
             "passed_time": 40.68597999,
             "remaining_time": 2.141367368,
             "test": [
              0.02908691921
             ]
            },
            {
             "iteration": 95,
             "learn": [
              0.02826881766
             ],
             "passed_time": 41.0014006,
             "remaining_time": 1.708391691,
             "test": [
              0.02821538521
             ]
            },
            {
             "iteration": 96,
             "learn": [
              0.02738180393
             ],
             "passed_time": 41.43214755,
             "remaining_time": 1.281406625,
             "test": [
              0.0273703155
             ]
            },
            {
             "iteration": 97,
             "learn": [
              0.0264749313
             ],
             "passed_time": 41.84059704,
             "remaining_time": 0.8538897354,
             "test": [
              0.02655145324
             ]
            },
            {
             "iteration": 98,
             "learn": [
              0.02580717121
             ],
             "passed_time": 42.23035449,
             "remaining_time": 0.4265692372,
             "test": [
              0.02575723029
             ]
            },
            {
             "iteration": 99,
             "learn": [
              0.02495266031
             ],
             "passed_time": 42.6190991,
             "remaining_time": 0,
             "test": [
              0.0249872089
             ]
            }
           ],
           "meta": {
            "iteration_count": 100,
            "launch_mode": "Train",
            "learn_metrics": [
             {
              "best_value": "Min",
              "name": "CrossEntropy"
             }
            ],
            "learn_sets": [
             "learn"
            ],
            "name": "experiment",
            "parameters": "",
            "test_metrics": [
             {
              "best_value": "Min",
              "name": "CrossEntropy"
             }
            ],
            "test_sets": [
             "test"
            ]
           }
          },
          "passed_iterations": 99,
          "total_iterations": 100
         },
         "name": "catboost_info",
         "path": "catboost_info"
        }
       },
       "layout": "IPY_MODEL_37663dd8cde04735b0f8f168c0c00ed0"
      }
     },
     "2d4580425d3342c7967900b111e43d0a": {
      "model_module": "@jupyter-widgets/base",
      "model_module_version": "1.2.0",
      "model_name": "LayoutModel",
      "state": {
       "_model_module": "@jupyter-widgets/base",
       "_model_module_version": "1.2.0",
       "_model_name": "LayoutModel",
       "_view_count": null,
       "_view_module": "@jupyter-widgets/base",
       "_view_module_version": "1.2.0",
       "_view_name": "LayoutView",
       "align_content": null,
       "align_items": null,
       "align_self": "stretch",
       "border": null,
       "bottom": null,
       "display": null,
       "flex": null,
       "flex_flow": null,
       "grid_area": null,
       "grid_auto_columns": null,
       "grid_auto_flow": null,
       "grid_auto_rows": null,
       "grid_column": null,
       "grid_gap": null,
       "grid_row": null,
       "grid_template_areas": null,
       "grid_template_columns": null,
       "grid_template_rows": null,
       "height": "500px",
       "justify_content": null,
       "justify_items": null,
       "left": null,
       "margin": null,
       "max_height": null,
       "max_width": null,
       "min_height": null,
       "min_width": null,
       "object_fit": null,
       "object_position": null,
       "order": null,
       "overflow": null,
       "overflow_x": null,
       "overflow_y": null,
       "padding": null,
       "right": null,
       "top": null,
       "visibility": null,
       "width": null
      }
     },
     "2ee13e1fd15c49df8e0ac14ce3b630b3": {
      "model_module": "catboost-widget",
      "model_module_version": "^1.0.0",
      "model_name": "CatboostWidgetModel",
      "state": {
       "_dom_classes": [],
       "_model_module": "catboost-widget",
       "_model_module_version": "^1.0.0",
       "_model_name": "CatboostWidgetModel",
       "_view_count": null,
       "_view_module": "catboost-widget",
       "_view_module_version": "^1.0.0",
       "_view_name": "CatboostWidgetView",
       "data": {
        "catboost_info": {
         "content": {
          "data": {
           "iterations": [
            {
             "iteration": 0,
             "learn": [
              0.6745687905
             ],
             "passed_time": 0.6339292252,
             "remaining_time": 62.75899329,
             "test": [
              0.6745231055
             ]
            },
            {
             "iteration": 1,
             "learn": [
              0.6586089421
             ],
             "passed_time": 1.094105384,
             "remaining_time": 53.6111638,
             "test": [
              0.6571566322
             ]
            },
            {
             "iteration": 2,
             "learn": [
              0.640902823
             ],
             "passed_time": 1.536068683,
             "remaining_time": 49.66622076,
             "test": [
              0.6406606463
             ]
            },
            {
             "iteration": 3,
             "learn": [
              0.6258490357
             ],
             "passed_time": 1.970946416,
             "remaining_time": 47.30271399,
             "test": [
              0.6251655896
             ]
            },
            {
             "iteration": 4,
             "learn": [
              0.6109632441
             ],
             "passed_time": 2.408148088,
             "remaining_time": 45.75481367,
             "test": [
              0.6103813653
             ]
            },
            {
             "iteration": 5,
             "learn": [
              0.5971780164
             ],
             "passed_time": 2.843836347,
             "remaining_time": 44.55343611,
             "test": [
              0.5963788492
             ]
            },
            {
             "iteration": 6,
             "learn": [
              0.5830666773
             ],
             "passed_time": 3.233187428,
             "remaining_time": 42.95520441,
             "test": [
              0.5826442199
             ]
            },
            {
             "iteration": 7,
             "learn": [
              0.5705032396
             ],
             "passed_time": 3.668362357,
             "remaining_time": 42.1861671,
             "test": [
              0.5700039145
             ]
            },
            {
             "iteration": 8,
             "learn": [
              0.5588681505
             ],
             "passed_time": 4.08165576,
             "remaining_time": 41.2700749,
             "test": [
              0.5578442901
             ]
            },
            {
             "iteration": 9,
             "learn": [
              0.5468796942
             ],
             "passed_time": 4.464076606,
             "remaining_time": 40.17668945,
             "test": [
              0.5457777767
             ]
            },
            {
             "iteration": 10,
             "learn": [
              0.5363086569
             ],
             "passed_time": 4.964487202,
             "remaining_time": 40.16721464,
             "test": [
              0.5346252564
             ]
            },
            {
             "iteration": 11,
             "learn": [
              0.524843193
             ],
             "passed_time": 5.381979157,
             "remaining_time": 39.46784715,
             "test": [
              0.5227035087
             ]
            },
            {
             "iteration": 12,
             "learn": [
              0.5149699533
             ],
             "passed_time": 5.782145801,
             "remaining_time": 38.69589883,
             "test": [
              0.5121398366
             ]
            },
            {
             "iteration": 13,
             "learn": [
              0.5052058855
             ],
             "passed_time": 6.177271048,
             "remaining_time": 37.94609358,
             "test": [
              0.5024342174
             ]
            },
            {
             "iteration": 14,
             "learn": [
              0.4947461923
             ],
             "passed_time": 6.598623043,
             "remaining_time": 37.39219724,
             "test": [
              0.4919419976
             ]
            },
            {
             "iteration": 15,
             "learn": [
              0.48541078
             ],
             "passed_time": 7.023384902,
             "remaining_time": 36.87277073,
             "test": [
              0.4823625286
             ]
            },
            {
             "iteration": 16,
             "learn": [
              0.4768996045
             ],
             "passed_time": 7.401701377,
             "remaining_time": 36.13771849,
             "test": [
              0.4731750078
             ]
            },
            {
             "iteration": 17,
             "learn": [
              0.4684564683
             ],
             "passed_time": 7.835110989,
             "remaining_time": 35.69328339,
             "test": [
              0.4650669383
             ]
            },
            {
             "iteration": 18,
             "learn": [
              0.4601956801
             ],
             "passed_time": 8.202983147,
             "remaining_time": 34.97061236,
             "test": [
              0.4563577727
             ]
            },
            {
             "iteration": 19,
             "learn": [
              0.4526314646
             ],
             "passed_time": 8.610024192,
             "remaining_time": 34.44009677,
             "test": [
              0.4485403915
             ]
            },
            {
             "iteration": 20,
             "learn": [
              0.4451857325
             ],
             "passed_time": 9.012298857,
             "remaining_time": 33.90340999,
             "test": [
              0.4414610275
             ]
            },
            {
             "iteration": 21,
             "learn": [
              0.4375983163
             ],
             "passed_time": 9.385859301,
             "remaining_time": 33.27713752,
             "test": [
              0.4337365926
             ]
            },
            {
             "iteration": 22,
             "learn": [
              0.4306393977
             ],
             "passed_time": 9.76287998,
             "remaining_time": 32.68442428,
             "test": [
              0.4261375129
             ]
            },
            {
             "iteration": 23,
             "learn": [
              0.4241976847
             ],
             "passed_time": 10.17191429,
             "remaining_time": 32.21106193,
             "test": [
              0.4197024544
             ]
            },
            {
             "iteration": 24,
             "learn": [
              0.4177256929
             ],
             "passed_time": 10.54669852,
             "remaining_time": 31.64009557,
             "test": [
              0.4137199506
             ]
            },
            {
             "iteration": 25,
             "learn": [
              0.4096691168
             ],
             "passed_time": 10.95631119,
             "remaining_time": 31.18334724,
             "test": [
              0.4054677797
             ]
            },
            {
             "iteration": 26,
             "learn": [
              0.4033468908
             ],
             "passed_time": 11.33551323,
             "remaining_time": 30.6478691,
             "test": [
              0.3992456792
             ]
            },
            {
             "iteration": 27,
             "learn": [
              0.3970580399
             ],
             "passed_time": 11.77797081,
             "remaining_time": 30.28621066,
             "test": [
              0.3926753184
             ]
            },
            {
             "iteration": 28,
             "learn": [
              0.3890940843
             ],
             "passed_time": 12.183954,
             "remaining_time": 29.82968049,
             "test": [
              0.3851844367
             ]
            },
            {
             "iteration": 29,
             "learn": [
              0.383295726
             ],
             "passed_time": 12.56628028,
             "remaining_time": 29.32132066,
             "test": [
              0.3790834146
             ]
            },
            {
             "iteration": 30,
             "learn": [
              0.377912855
             ],
             "passed_time": 13.00903981,
             "remaining_time": 28.95560473,
             "test": [
              0.3734332868
             ]
            },
            {
             "iteration": 31,
             "learn": [
              0.3721924611
             ],
             "passed_time": 13.45339033,
             "remaining_time": 28.58845446,
             "test": [
              0.3676540099
             ]
            },
            {
             "iteration": 32,
             "learn": [
              0.3659587603
             ],
             "passed_time": 13.84237541,
             "remaining_time": 28.10421675,
             "test": [
              0.3614712728
             ]
            },
            {
             "iteration": 33,
             "learn": [
              0.3593945348
             ],
             "passed_time": 14.27357557,
             "remaining_time": 27.70752905,
             "test": [
              0.3548318191
             ]
            },
            {
             "iteration": 34,
             "learn": [
              0.3544547479
             ],
             "passed_time": 14.68793483,
             "remaining_time": 27.27759325,
             "test": [
              0.3499394671
             ]
            },
            {
             "iteration": 35,
             "learn": [
              0.3488614574
             ],
             "passed_time": 15.08597609,
             "remaining_time": 26.81951305,
             "test": [
              0.3445220128
             ]
            },
            {
             "iteration": 36,
             "learn": [
              0.3427773203
             ],
             "passed_time": 15.50341046,
             "remaining_time": 26.39769888,
             "test": [
              0.3387004115
             ]
            },
            {
             "iteration": 37,
             "learn": [
              0.337874787
             ],
             "passed_time": 16.00480166,
             "remaining_time": 26.11309744,
             "test": [
              0.3339510084
             ]
            },
            {
             "iteration": 38,
             "learn": [
              0.3321540396
             ],
             "passed_time": 16.43765939,
             "remaining_time": 25.71018519,
             "test": [
              0.3280498162
             ]
            },
            {
             "iteration": 39,
             "learn": [
              0.3276341922
             ],
             "passed_time": 16.87412807,
             "remaining_time": 25.3111921,
             "test": [
              0.3234211799
             ]
            },
            {
             "iteration": 40,
             "learn": [
              0.3234875989
             ],
             "passed_time": 17.31830687,
             "remaining_time": 24.92146598,
             "test": [
              0.3188791371
             ]
            },
            {
             "iteration": 41,
             "learn": [
              0.3187706006
             ],
             "passed_time": 17.77972797,
             "remaining_time": 24.55295767,
             "test": [
              0.3141965844
             ]
            },
            {
             "iteration": 42,
             "learn": [
              0.3131999847
             ],
             "passed_time": 18.19181156,
             "remaining_time": 24.11472695,
             "test": [
              0.3082760335
             ]
            },
            {
             "iteration": 43,
             "learn": [
              0.3077035212
             ],
             "passed_time": 18.59852301,
             "remaining_time": 23.67084746,
             "test": [
              0.3028336271
             ]
            },
            {
             "iteration": 44,
             "learn": [
              0.3024951742
             ],
             "passed_time": 19.01192837,
             "remaining_time": 23.23680134,
             "test": [
              0.2973515367
             ]
            },
            {
             "iteration": 45,
             "learn": [
              0.2974285413
             ],
             "passed_time": 19.42523115,
             "remaining_time": 22.80353222,
             "test": [
              0.2922507567
             ]
            },
            {
             "iteration": 46,
             "learn": [
              0.2932833376
             ],
             "passed_time": 19.87811948,
             "remaining_time": 22.41575175,
             "test": [
              0.2882719021
             ]
            },
            {
             "iteration": 47,
             "learn": [
              0.2884397767
             ],
             "passed_time": 20.29372963,
             "remaining_time": 21.98487377,
             "test": [
              0.2832552054
             ]
            },
            {
             "iteration": 48,
             "learn": [
              0.2838035623
             ],
             "passed_time": 20.70044397,
             "remaining_time": 21.54536005,
             "test": [
              0.2787247115
             ]
            },
            {
             "iteration": 49,
             "learn": [
              0.2805324907
             ],
             "passed_time": 21.11444337,
             "remaining_time": 21.11444337,
             "test": [
              0.2753262015
             ]
            },
            {
             "iteration": 50,
             "learn": [
              0.2760811377
             ],
             "passed_time": 21.53372439,
             "remaining_time": 20.68926461,
             "test": [
              0.2707626685
             ]
            },
            {
             "iteration": 51,
             "learn": [
              0.271838241
             ],
             "passed_time": 21.9442091,
             "remaining_time": 20.25619301,
             "test": [
              0.2665813793
             ]
            },
            {
             "iteration": 52,
             "learn": [
              0.2678006749
             ],
             "passed_time": 22.36325176,
             "remaining_time": 19.83156289,
             "test": [
              0.2624701777
             ]
            },
            {
             "iteration": 53,
             "learn": [
              0.2641394238
             ],
             "passed_time": 22.82656085,
             "remaining_time": 19.44484813,
             "test": [
              0.2591375317
             ]
            },
            {
             "iteration": 54,
             "learn": [
              0.2608981127
             ],
             "passed_time": 23.25526955,
             "remaining_time": 19.02703872,
             "test": [
              0.2557180036
             ]
            },
            {
             "iteration": 55,
             "learn": [
              0.2577108536
             ],
             "passed_time": 23.69899066,
             "remaining_time": 18.62063552,
             "test": [
              0.2525504205
             ]
            },
            {
             "iteration": 56,
             "learn": [
              0.2539693063
             ],
             "passed_time": 24.12080649,
             "remaining_time": 18.19639788,
             "test": [
              0.2489576079
             ]
            },
            {
             "iteration": 57,
             "learn": [
              0.2507028759
             ],
             "passed_time": 24.54029983,
             "remaining_time": 17.77056195,
             "test": [
              0.245641511
             ]
            },
            {
             "iteration": 58,
             "learn": [
              0.2476600957
             ],
             "passed_time": 24.97684858,
             "remaining_time": 17.35679308,
             "test": [
              0.2426662125
             ]
            },
            {
             "iteration": 59,
             "learn": [
              0.2446042865
             ],
             "passed_time": 25.41995399,
             "remaining_time": 16.94663599,
             "test": [
              0.2396671565
             ]
            },
            {
             "iteration": 60,
             "learn": [
              0.2416967384
             ],
             "passed_time": 25.87694186,
             "remaining_time": 16.5442743,
             "test": [
              0.2366360504
             ]
            },
            {
             "iteration": 61,
             "learn": [
              0.2384091638
             ],
             "passed_time": 26.31202442,
             "remaining_time": 16.12672464,
             "test": [
              0.2335134849
             ]
            },
            {
             "iteration": 62,
             "learn": [
              0.2353989167
             ],
             "passed_time": 26.82930305,
             "remaining_time": 15.75689227,
             "test": [
              0.2308393
             ]
            },
            {
             "iteration": 63,
             "learn": [
              0.2326874433
             ],
             "passed_time": 27.2589093,
             "remaining_time": 15.33313648,
             "test": [
              0.2280683444
             ]
            },
            {
             "iteration": 64,
             "learn": [
              0.2299249594
             ],
             "passed_time": 27.7235065,
             "remaining_time": 14.92804196,
             "test": [
              0.2251229742
             ]
            },
            {
             "iteration": 65,
             "learn": [
              0.2271775469
             ],
             "passed_time": 28.14002859,
             "remaining_time": 14.49637836,
             "test": [
              0.2223237339
             ]
            },
            {
             "iteration": 66,
             "learn": [
              0.2248675884
             ],
             "passed_time": 28.59883259,
             "remaining_time": 14.08599217,
             "test": [
              0.2199839869
             ]
            },
            {
             "iteration": 67,
             "learn": [
              0.2223867528
             ],
             "passed_time": 29.04575353,
             "remaining_time": 13.6685899,
             "test": [
              0.2173773007
             ]
            },
            {
             "iteration": 68,
             "learn": [
              0.2196034889
             ],
             "passed_time": 29.48292443,
             "remaining_time": 13.24595156,
             "test": [
              0.2146761439
             ]
            },
            {
             "iteration": 69,
             "learn": [
              0.2172248452
             ],
             "passed_time": 29.91934738,
             "remaining_time": 12.82257745,
             "test": [
              0.2122335123
             ]
            },
            {
             "iteration": 70,
             "learn": [
              0.2147822411
             ],
             "passed_time": 30.36072147,
             "remaining_time": 12.40085807,
             "test": [
              0.2098623871
             ]
            },
            {
             "iteration": 71,
             "learn": [
              0.2128532958
             ],
             "passed_time": 30.78588521,
             "remaining_time": 11.97228869,
             "test": [
              0.208034944
             ]
            },
            {
             "iteration": 72,
             "learn": [
              0.2104306952
             ],
             "passed_time": 31.22839815,
             "remaining_time": 11.55022945,
             "test": [
              0.2058305028
             ]
            },
            {
             "iteration": 73,
             "learn": [
              0.2081086348
             ],
             "passed_time": 31.80676215,
             "remaining_time": 11.17534886,
             "test": [
              0.2034774212
             ]
            },
            {
             "iteration": 74,
             "learn": [
              0.2059515259
             ],
             "passed_time": 32.39664603,
             "remaining_time": 10.79888201,
             "test": [
              0.2012191844
             ]
            },
            {
             "iteration": 75,
             "learn": [
              0.2037284656
             ],
             "passed_time": 32.95708516,
             "remaining_time": 10.40750058,
             "test": [
              0.1992470402
             ]
            },
            {
             "iteration": 76,
             "learn": [
              0.2020398675
             ],
             "passed_time": 33.30867294,
             "remaining_time": 9.949343865,
             "test": [
              0.1976825672
             ]
            },
            {
             "iteration": 77,
             "learn": [
              0.2001094565
             ],
             "passed_time": 33.68519533,
             "remaining_time": 9.500952529,
             "test": [
              0.195662286
             ]
            },
            {
             "iteration": 78,
             "learn": [
              0.1981379627
             ],
             "passed_time": 34.11352524,
             "remaining_time": 9.068152279,
             "test": [
              0.193631917
             ]
            },
            {
             "iteration": 79,
             "learn": [
              0.196344163
             ],
             "passed_time": 34.52294692,
             "remaining_time": 8.630736731,
             "test": [
              0.1918618258
             ]
            },
            {
             "iteration": 80,
             "learn": [
              0.1945780247
             ],
             "passed_time": 34.94650744,
             "remaining_time": 8.197328905,
             "test": [
              0.1900667482
             ]
            },
            {
             "iteration": 81,
             "learn": [
              0.1928169806
             ],
             "passed_time": 35.30284077,
             "remaining_time": 7.749404071,
             "test": [
              0.1883033644
             ]
            },
            {
             "iteration": 82,
             "learn": [
              0.1908936047
             ],
             "passed_time": 35.75852847,
             "remaining_time": 7.324035952,
             "test": [
              0.1862475522
             ]
            },
            {
             "iteration": 83,
             "learn": [
              0.1889102024
             ],
             "passed_time": 36.15972227,
             "remaining_time": 6.887566147,
             "test": [
              0.184173491
             ]
            },
            {
             "iteration": 84,
             "learn": [
              0.1869855767
             ],
             "passed_time": 36.56603308,
             "remaining_time": 6.452829366,
             "test": [
              0.1823455604
             ]
            },
            {
             "iteration": 85,
             "learn": [
              0.1857734646
             ],
             "passed_time": 36.96359402,
             "remaining_time": 6.017329259,
             "test": [
              0.181141276
             ]
            },
            {
             "iteration": 86,
             "learn": [
              0.1837929417
             ],
             "passed_time": 37.40788916,
             "remaining_time": 5.589684587,
             "test": [
              0.179014971
             ]
            },
            {
             "iteration": 87,
             "learn": [
              0.18219058
             ],
             "passed_time": 37.87526142,
             "remaining_time": 5.164808376,
             "test": [
              0.1776326703
             ]
            },
            {
             "iteration": 88,
             "learn": [
              0.1809374953
             ],
             "passed_time": 38.1865004,
             "remaining_time": 4.719679825,
             "test": [
              0.1762976579
             ]
            },
            {
             "iteration": 89,
             "learn": [
              0.1789088571
             ],
             "passed_time": 38.58015209,
             "remaining_time": 4.286683566,
             "test": [
              0.174327029
             ]
            },
            {
             "iteration": 90,
             "learn": [
              0.1770924839
             ],
             "passed_time": 39.03321223,
             "remaining_time": 3.860427584,
             "test": [
              0.172387972
             ]
            },
            {
             "iteration": 91,
             "learn": [
              0.175746206
             ],
             "passed_time": 39.43109186,
             "remaining_time": 3.428790596,
             "test": [
              0.1710545352
             ]
            },
            {
             "iteration": 92,
             "learn": [
              0.174096462
             ],
             "passed_time": 39.84121793,
             "remaining_time": 2.998801349,
             "test": [
              0.1694803481
             ]
            },
            {
             "iteration": 93,
             "learn": [
              0.1718720865
             ],
             "passed_time": 40.33411955,
             "remaining_time": 2.574518269,
             "test": [
              0.1674318655
             ]
            },
            {
             "iteration": 94,
             "learn": [
              0.1706397209
             ],
             "passed_time": 40.71973043,
             "remaining_time": 2.143143707,
             "test": [
              0.1662811079
             ]
            },
            {
             "iteration": 95,
             "learn": [
              0.1692891611
             ],
             "passed_time": 41.09509716,
             "remaining_time": 1.712295715,
             "test": [
              0.1650604879
             ]
            },
            {
             "iteration": 96,
             "learn": [
              0.1677687673
             ],
             "passed_time": 41.49621779,
             "remaining_time": 1.283388179,
             "test": [
              0.1635903114
             ]
            },
            {
             "iteration": 97,
             "learn": [
              0.1662233542
             ],
             "passed_time": 41.93739882,
             "remaining_time": 0.855865282,
             "test": [
              0.1621634556
             ]
            },
            {
             "iteration": 98,
             "learn": [
              0.1651489738
             ],
             "passed_time": 42.32704479,
             "remaining_time": 0.427545907,
             "test": [
              0.1611016337
             ]
            },
            {
             "iteration": 99,
             "learn": [
              0.1641516535
             ],
             "passed_time": 42.67877895,
             "remaining_time": 0,
             "test": [
              0.1601138309
             ]
            }
           ],
           "meta": {
            "iteration_count": 100,
            "launch_mode": "Train",
            "learn_metrics": [
             {
              "best_value": "Min",
              "name": "CrossEntropy"
             }
            ],
            "learn_sets": [
             "learn"
            ],
            "name": "experiment",
            "parameters": "",
            "test_metrics": [
             {
              "best_value": "Min",
              "name": "CrossEntropy"
             }
            ],
            "test_sets": [
             "test"
            ]
           }
          },
          "passed_iterations": 99,
          "total_iterations": 100
         },
         "name": "catboost_info",
         "path": "catboost_info"
        }
       },
       "layout": "IPY_MODEL_06ab952ca9264bd1b60e786f378a0305"
      }
     },
     "331169a01a1346bfa45e35f25a0f921f": {
      "model_module": "@jupyter-widgets/base",
      "model_module_version": "1.2.0",
      "model_name": "LayoutModel",
      "state": {
       "_model_module": "@jupyter-widgets/base",
       "_model_module_version": "1.2.0",
       "_model_name": "LayoutModel",
       "_view_count": null,
       "_view_module": "@jupyter-widgets/base",
       "_view_module_version": "1.2.0",
       "_view_name": "LayoutView",
       "align_content": null,
       "align_items": null,
       "align_self": "stretch",
       "border": null,
       "bottom": null,
       "display": null,
       "flex": null,
       "flex_flow": null,
       "grid_area": null,
       "grid_auto_columns": null,
       "grid_auto_flow": null,
       "grid_auto_rows": null,
       "grid_column": null,
       "grid_gap": null,
       "grid_row": null,
       "grid_template_areas": null,
       "grid_template_columns": null,
       "grid_template_rows": null,
       "height": "500px",
       "justify_content": null,
       "justify_items": null,
       "left": null,
       "margin": null,
       "max_height": null,
       "max_width": null,
       "min_height": null,
       "min_width": null,
       "object_fit": null,
       "object_position": null,
       "order": null,
       "overflow": null,
       "overflow_x": null,
       "overflow_y": null,
       "padding": null,
       "right": null,
       "top": null,
       "visibility": null,
       "width": null
      }
     },
     "3394695b356a46b98ba78bd3a6111f25": {
      "model_module": "catboost-widget",
      "model_module_version": "^1.0.0",
      "model_name": "CatboostWidgetModel",
      "state": {
       "_dom_classes": [],
       "_model_module": "catboost-widget",
       "_model_module_version": "^1.0.0",
       "_model_name": "CatboostWidgetModel",
       "_view_count": null,
       "_view_module": "catboost-widget",
       "_view_module_version": "^1.0.0",
       "_view_name": "CatboostWidgetView",
       "data": {
        "catboost_info": {
         "content": {
          "data": {
           "iterations": [
            {
             "iteration": 0,
             "learn": [
              0.6613790306
             ],
             "passed_time": 0.3704908258,
             "remaining_time": 36.67859175,
             "test": [
              0.6636011029
             ]
            },
            {
             "iteration": 1,
             "learn": [
              0.6362942197
             ],
             "passed_time": 0.7684169118,
             "remaining_time": 37.65242868,
             "test": [
              0.6357727983
             ]
            },
            {
             "iteration": 2,
             "learn": [
              0.6093759806
             ],
             "passed_time": 1.181849378,
             "remaining_time": 38.2131299,
             "test": [
              0.6095191743
             ]
            },
            {
             "iteration": 3,
             "learn": [
              0.5837160069
             ],
             "passed_time": 1.574520825,
             "remaining_time": 37.78849981,
             "test": [
              0.5847120073
             ]
            },
            {
             "iteration": 4,
             "learn": [
              0.5621901543
             ],
             "passed_time": 1.946876616,
             "remaining_time": 36.99065571,
             "test": [
              0.561236614
             ]
            },
            {
             "iteration": 5,
             "learn": [
              0.5376498839
             ],
             "passed_time": 2.312535086,
             "remaining_time": 36.22971634,
             "test": [
              0.5389932508
             ]
            },
            {
             "iteration": 6,
             "learn": [
              0.5168788172
             ],
             "passed_time": 2.706654451,
             "remaining_time": 35.95983771,
             "test": [
              0.5178867835
             ]
            },
            {
             "iteration": 7,
             "learn": [
              0.4986844904
             ],
             "passed_time": 3.071079084,
             "remaining_time": 35.31740947,
             "test": [
              0.4978380947
             ]
            },
            {
             "iteration": 8,
             "learn": [
              0.478522534
             ],
             "passed_time": 3.460981667,
             "remaining_time": 34.99437019,
             "test": [
              0.4787739832
             ]
            },
            {
             "iteration": 9,
             "learn": [
              0.4605790641
             ],
             "passed_time": 3.925810954,
             "remaining_time": 35.33229858,
             "test": [
              0.4606283811
             ]
            },
            {
             "iteration": 10,
             "learn": [
              0.4438223402
             ],
             "passed_time": 4.316293958,
             "remaining_time": 34.92274202,
             "test": [
              0.4433409203
             ]
            },
            {
             "iteration": 11,
             "learn": [
              0.4280493038
             ],
             "passed_time": 4.749808163,
             "remaining_time": 34.83192653,
             "test": [
              0.4268547735
             ]
            },
            {
             "iteration": 12,
             "learn": [
              0.4121121658
             ],
             "passed_time": 5.199463508,
             "remaining_time": 34.79640963,
             "test": [
              0.4111224265
             ]
            },
            {
             "iteration": 13,
             "learn": [
              0.3967742053
             ],
             "passed_time": 5.606193854,
             "remaining_time": 34.43804796,
             "test": [
              0.396096657
             ]
            },
            {
             "iteration": 14,
             "learn": [
              0.382391743
             ],
             "passed_time": 6.004942183,
             "remaining_time": 34.0280057,
             "test": [
              0.3817364914
             ]
            },
            {
             "iteration": 15,
             "learn": [
              0.3673322127
             ],
             "passed_time": 6.399836346,
             "remaining_time": 33.59914082,
             "test": [
              0.3680008341
             ]
            },
            {
             "iteration": 16,
             "learn": [
              0.3538739997
             ],
             "passed_time": 6.841101094,
             "remaining_time": 33.40067005,
             "test": [
              0.3548556487
             ]
            },
            {
             "iteration": 17,
             "learn": [
              0.3431646728
             ],
             "passed_time": 7.223654731,
             "remaining_time": 32.90776044,
             "test": [
              0.3422683673
             ]
            },
            {
             "iteration": 18,
             "learn": [
              0.3300823279
             ],
             "passed_time": 7.63040078,
             "remaining_time": 32.52960333,
             "test": [
              0.3302082078
             ]
            },
            {
             "iteration": 19,
             "learn": [
              0.3196710431
             ],
             "passed_time": 7.997220736,
             "remaining_time": 31.98888294,
             "test": [
              0.3186460054
             ]
            },
            {
             "iteration": 20,
             "learn": [
              0.3069693372
             ],
             "passed_time": 8.454072689,
             "remaining_time": 31.80341631,
             "test": [
              0.3075571084
             ]
            },
            {
             "iteration": 21,
             "learn": [
              0.296878538
             ],
             "passed_time": 8.880159369,
             "remaining_time": 31.4842014,
             "test": [
              0.296916321
             ]
            },
            {
             "iteration": 22,
             "learn": [
              0.2867615691
             ],
             "passed_time": 9.311244345,
             "remaining_time": 31.17242672,
             "test": [
              0.2867015471
             ]
            },
            {
             "iteration": 23,
             "learn": [
              0.2764962716
             ],
             "passed_time": 9.776074967,
             "remaining_time": 30.95757073,
             "test": [
              0.2768902949
             ]
            },
            {
             "iteration": 24,
             "learn": [
              0.2664331362
             ],
             "passed_time": 10.13521457,
             "remaining_time": 30.40564372,
             "test": [
              0.267462819
             ]
            },
            {
             "iteration": 25,
             "learn": [
              0.2579756668
             ],
             "passed_time": 10.52680606,
             "remaining_time": 29.96090955,
             "test": [
              0.2584012182
             ]
            },
            {
             "iteration": 26,
             "learn": [
              0.2499591071
             ],
             "passed_time": 10.9524505,
             "remaining_time": 29.61218098,
             "test": [
              0.2496891209
             ]
            },
            {
             "iteration": 27,
             "learn": [
              0.2419681724
             ],
             "passed_time": 11.39988923,
             "remaining_time": 29.31400088,
             "test": [
              0.2413089339
             ]
            },
            {
             "iteration": 28,
             "learn": [
              0.2336741368
             ],
             "passed_time": 11.78902211,
             "remaining_time": 28.86277827,
             "test": [
              0.2332446433
             ]
            },
            {
             "iteration": 29,
             "learn": [
              0.2258424691
             ],
             "passed_time": 12.26984247,
             "remaining_time": 28.62963244,
             "test": [
              0.225482047
             ]
            },
            {
             "iteration": 30,
             "learn": [
              0.2185188769
             ],
             "passed_time": 12.72844067,
             "remaining_time": 28.33104537,
             "test": [
              0.2180090101
             ]
            },
            {
             "iteration": 31,
             "learn": [
              0.2109261618
             ],
             "passed_time": 13.15741829,
             "remaining_time": 27.95951387,
             "test": [
              0.2108116871
             ]
            },
            {
             "iteration": 32,
             "learn": [
              0.2033452341
             ],
             "passed_time": 13.56315226,
             "remaining_time": 27.53730913,
             "test": [
              0.2038768302
             ]
            },
            {
             "iteration": 33,
             "learn": [
              0.1964153623
             ],
             "passed_time": 14.0493899,
             "remaining_time": 27.27234509,
             "test": [
              0.1971947979
             ]
            },
            {
             "iteration": 34,
             "learn": [
              0.1911628337
             ],
             "passed_time": 14.51788805,
             "remaining_time": 26.96179209,
             "test": [
              0.1907538588
             ]
            },
            {
             "iteration": 35,
             "learn": [
              0.1838944027
             ],
             "passed_time": 14.9141565,
             "remaining_time": 26.514056,
             "test": [
              0.184544388
             ]
            },
            {
             "iteration": 36,
             "learn": [
              0.178749002
             ],
             "passed_time": 15.34320825,
             "remaining_time": 26.12492215,
             "test": [
              0.1785554595
             ]
            },
            {
             "iteration": 37,
             "learn": [
              0.1721811769
             ],
             "passed_time": 15.76708463,
             "remaining_time": 25.72524335,
             "test": [
              0.1727788075
             ]
            },
            {
             "iteration": 38,
             "learn": [
              0.1676604951
             ],
             "passed_time": 16.20515346,
             "remaining_time": 25.34652209,
             "test": [
              0.1672056408
             ]
            },
            {
             "iteration": 39,
             "learn": [
              0.1614184916
             ],
             "passed_time": 16.63749305,
             "remaining_time": 24.95623958,
             "test": [
              0.1618274529
             ]
            },
            {
             "iteration": 40,
             "learn": [
              0.1563215806
             ],
             "passed_time": 17.05554663,
             "remaining_time": 24.54334759,
             "test": [
              0.156637807
             ]
            },
            {
             "iteration": 41,
             "learn": [
              0.1520104055
             ],
             "passed_time": 17.52978668,
             "remaining_time": 24.20780066,
             "test": [
              0.1516292545
             ]
            },
            {
             "iteration": 42,
             "learn": [
              0.1469959376
             ],
             "passed_time": 17.89491964,
             "remaining_time": 23.72117254,
             "test": [
              0.1467911304
             ]
            },
            {
             "iteration": 43,
             "learn": [
              0.1418613107
             ],
             "passed_time": 18.3448421,
             "remaining_time": 23.34798086,
             "test": [
              0.142121301
             ]
            },
            {
             "iteration": 44,
             "learn": [
              0.1370976016
             ],
             "passed_time": 18.71296858,
             "remaining_time": 22.87140604,
             "test": [
              0.1376087473
             ]
            },
            {
             "iteration": 45,
             "learn": [
              0.132900452
             ],
             "passed_time": 19.15715921,
             "remaining_time": 22.48883907,
             "test": [
              0.1332495601
             ]
            },
            {
             "iteration": 46,
             "learn": [
              0.1289111554
             ],
             "passed_time": 19.55715968,
             "remaining_time": 22.05381837,
             "test": [
              0.1290378007
             ]
            },
            {
             "iteration": 47,
             "learn": [
              0.124984086
             ],
             "passed_time": 19.98967486,
             "remaining_time": 21.65548109,
             "test": [
              0.1249689024
             ]
            },
            {
             "iteration": 48,
             "learn": [
              0.1210752904
             ],
             "passed_time": 20.43967227,
             "remaining_time": 21.27394461,
             "test": [
              0.1210369635
             ]
            },
            {
             "iteration": 49,
             "learn": [
              0.1171871508
             ],
             "passed_time": 20.84985933,
             "remaining_time": 20.84985933,
             "test": [
              0.1172353188
             ]
            },
            {
             "iteration": 50,
             "learn": [
              0.1133125695
             ],
             "passed_time": 21.25862448,
             "remaining_time": 20.42495293,
             "test": [
              0.1135600253
             ]
            },
            {
             "iteration": 51,
             "learn": [
              0.1097481279
             ],
             "passed_time": 21.68865972,
             "remaining_time": 20.02030128,
             "test": [
              0.1100067798
             ]
            },
            {
             "iteration": 52,
             "learn": [
              0.1069192563
             ],
             "passed_time": 22.09511494,
             "remaining_time": 19.59378117,
             "test": [
              0.1065707527
             ]
            },
            {
             "iteration": 53,
             "learn": [
              0.103397773
             ],
             "passed_time": 22.53229621,
             "remaining_time": 19.19417825,
             "test": [
              0.1032481974
             ]
            },
            {
             "iteration": 54,
             "learn": [
              0.09972331174
             ],
             "passed_time": 22.92699409,
             "remaining_time": 18.75844971,
             "test": [
              0.1000344453
             ]
            },
            {
             "iteration": 55,
             "learn": [
              0.09713085871
             ],
             "passed_time": 23.35573261,
             "remaining_time": 18.35093276,
             "test": [
              0.09692614165
             ]
            },
            {
             "iteration": 56,
             "learn": [
              0.09375830088
             ],
             "passed_time": 23.73434013,
             "remaining_time": 17.90485308,
             "test": [
              0.09391880815
             ]
            },
            {
             "iteration": 57,
             "learn": [
              0.09121575206
             ],
             "passed_time": 24.1454099,
             "remaining_time": 17.48460717,
             "test": [
              0.09100923263
             ]
            },
            {
             "iteration": 58,
             "learn": [
              0.08793490356
             ],
             "passed_time": 24.56293351,
             "remaining_time": 17.06915718,
             "test": [
              0.08819402247
             ]
            },
            {
             "iteration": 59,
             "learn": [
              0.08546470529
             ],
             "passed_time": 25.01705275,
             "remaining_time": 16.67803517,
             "test": [
              0.08546995941
             ]
            },
            {
             "iteration": 60,
             "learn": [
              0.08256817807
             ],
             "passed_time": 25.44059486,
             "remaining_time": 16.26529835,
             "test": [
              0.08283380663
             ]
            },
            {
             "iteration": 61,
             "learn": [
              0.08009308892
             ],
             "passed_time": 25.89961003,
             "remaining_time": 15.87395454,
             "test": [
              0.08028218933
             ]
            },
            {
             "iteration": 62,
             "learn": [
              0.0779631484
             ],
             "passed_time": 26.34692005,
             "remaining_time": 15.47358797,
             "test": [
              0.07781301867
             ]
            },
            {
             "iteration": 63,
             "learn": [
              0.07547978046
             ],
             "passed_time": 26.87086183,
             "remaining_time": 15.11485978,
             "test": [
              0.0754224829
             ]
            },
            {
             "iteration": 64,
             "learn": [
              0.07294474853
             ],
             "passed_time": 27.32916705,
             "remaining_time": 14.71570533,
             "test": [
              0.0731084776
             ]
            },
            {
             "iteration": 65,
             "learn": [
              0.07052969852
             ],
             "passed_time": 27.73393581,
             "remaining_time": 14.28717905,
             "test": [
              0.07086789022
             ]
            },
            {
             "iteration": 66,
             "learn": [
              0.06843279111
             ],
             "passed_time": 28.23362031,
             "remaining_time": 13.9061115,
             "test": [
              0.06869874094
             ]
            },
            {
             "iteration": 67,
             "learn": [
              0.06642343933
             ],
             "passed_time": 28.6193476,
             "remaining_time": 13.46792828,
             "test": [
              0.06659753198
             ]
            },
            {
             "iteration": 68,
             "learn": [
              0.0644581086
             ],
             "passed_time": 29.18272678,
             "remaining_time": 13.11108015,
             "test": [
              0.06456346181
             ]
            },
            {
             "iteration": 69,
             "learn": [
              0.06250435769
             ],
             "passed_time": 29.74453647,
             "remaining_time": 12.74765849,
             "test": [
              0.06259285348
             ]
            },
            {
             "iteration": 70,
             "learn": [
              0.06055498564
             ],
             "passed_time": 30.33382219,
             "remaining_time": 12.38987103,
             "test": [
              0.06068447789
             ]
            },
            {
             "iteration": 71,
             "learn": [
              0.05864448053
             ],
             "passed_time": 30.74176745,
             "remaining_time": 11.95513179,
             "test": [
              0.05883597525
             ]
            },
            {
             "iteration": 72,
             "learn": [
              0.05683274947
             ],
             "passed_time": 31.16449607,
             "remaining_time": 11.52659444,
             "test": [
              0.05704557437
             ]
            },
            {
             "iteration": 73,
             "learn": [
              0.05542281602
             ],
             "passed_time": 31.56032204,
             "remaining_time": 11.0887618,
             "test": [
              0.05531119393
             ]
            },
            {
             "iteration": 74,
             "learn": [
              0.05366468721
             ],
             "passed_time": 31.88857709,
             "remaining_time": 10.6295257,
             "test": [
              0.05363132354
             ]
            },
            {
             "iteration": 75,
             "learn": [
              0.05181624523
             ],
             "passed_time": 32.3033483,
             "remaining_time": 10.20105736,
             "test": [
              0.05200425103
             ]
            },
            {
             "iteration": 76,
             "learn": [
              0.05052203025
             ],
             "passed_time": 32.74759535,
             "remaining_time": 9.781749259,
             "test": [
              0.05042726704
             ]
            },
            {
             "iteration": 77,
             "learn": [
              0.04883168868
             ],
             "passed_time": 33.18077689,
             "remaining_time": 9.358680661,
             "test": [
              0.04889926248
             ]
            },
            {
             "iteration": 78,
             "learn": [
              0.04720023235
             ],
             "passed_time": 33.5696573,
             "remaining_time": 8.923579788,
             "test": [
              0.04741873395
             ]
            },
            {
             "iteration": 79,
             "learn": [
              0.04590290169
             ],
             "passed_time": 34.05385291,
             "remaining_time": 8.513463228,
             "test": [
              0.04598459838
             ]
            },
            {
             "iteration": 80,
             "learn": [
              0.04463964694
             ],
             "passed_time": 34.45790478,
             "remaining_time": 8.082718405,
             "test": [
              0.0445942623
             ]
            },
            {
             "iteration": 81,
             "learn": [
              0.04305364283
             ],
             "passed_time": 34.93446158,
             "remaining_time": 7.668540346,
             "test": [
              0.04324742697
             ]
            },
            {
             "iteration": 82,
             "learn": [
              0.04194437768
             ],
             "passed_time": 35.35186443,
             "remaining_time": 7.240743317,
             "test": [
              0.04194232646
             ]
            },
            {
             "iteration": 83,
             "learn": [
              0.04070499927
             ],
             "passed_time": 35.8239067,
             "remaining_time": 6.823601276,
             "test": [
              0.04067692829
             ]
            },
            {
             "iteration": 84,
             "learn": [
              0.03933986889
             ],
             "passed_time": 36.27736015,
             "remaining_time": 6.401887085,
             "test": [
              0.03945096605
             ]
            },
            {
             "iteration": 85,
             "learn": [
              0.03811807895
             ],
             "passed_time": 36.70719647,
             "remaining_time": 5.975590122,
             "test": [
              0.03826252196
             ]
            },
            {
             "iteration": 86,
             "learn": [
              0.03709709583
             ],
             "passed_time": 37.11688427,
             "remaining_time": 5.546201098,
             "test": [
              0.03711048628
             ]
            },
            {
             "iteration": 87,
             "learn": [
              0.03604645494
             ],
             "passed_time": 37.57169868,
             "remaining_time": 5.123413456,
             "test": [
              0.0359939089
             ]
            },
            {
             "iteration": 88,
             "learn": [
              0.0348563628
             ],
             "passed_time": 37.90284125,
             "remaining_time": 4.684620828,
             "test": [
              0.03491109825
             ]
            },
            {
             "iteration": 89,
             "learn": [
              0.03381474099
             ],
             "passed_time": 38.30955127,
             "remaining_time": 4.256616808,
             "test": [
              0.03386154
             ]
            },
            {
             "iteration": 90,
             "learn": [
              0.03280973219
             ],
             "passed_time": 38.77692721,
             "remaining_time": 3.835080713,
             "test": [
              0.03284431123
             ]
            },
            {
             "iteration": 91,
             "learn": [
              0.03181776723
             ],
             "passed_time": 39.1956208,
             "remaining_time": 3.408314852,
             "test": [
              0.03185851417
             ]
            },
            {
             "iteration": 92,
             "learn": [
              0.03084137878
             ],
             "passed_time": 39.66281397,
             "remaining_time": 2.985373094,
             "test": [
              0.03090231963
             ]
            },
            {
             "iteration": 93,
             "learn": [
              0.02989635117
             ],
             "passed_time": 40.1067141,
             "remaining_time": 2.560003028,
             "test": [
              0.02997521346
             ]
            },
            {
             "iteration": 94,
             "learn": [
              0.02895979574
             ],
             "passed_time": 40.52328965,
             "remaining_time": 2.132804719,
             "test": [
              0.02907667473
             ]
            },
            {
             "iteration": 95,
             "learn": [
              0.02822735449
             ],
             "passed_time": 40.83688319,
             "remaining_time": 1.7015368,
             "test": [
              0.02820520842
             ]
            },
            {
             "iteration": 96,
             "learn": [
              0.02734133502
             ],
             "passed_time": 41.27409867,
             "remaining_time": 1.276518516,
             "test": [
              0.02736023556
             ]
            },
            {
             "iteration": 97,
             "learn": [
              0.02642019603
             ],
             "passed_time": 41.68756242,
             "remaining_time": 0.8507665801,
             "test": [
              0.02654143146
             ]
            },
            {
             "iteration": 98,
             "learn": [
              0.0257640916
             ],
             "passed_time": 42.07467583,
             "remaining_time": 0.4249967256,
             "test": [
              0.02574726204
             ]
            },
            {
             "iteration": 99,
             "learn": [
              0.02490950615
             ],
             "passed_time": 42.46063538,
             "remaining_time": 0,
             "test": [
              0.0249769827
             ]
            }
           ],
           "meta": {
            "iteration_count": 100,
            "launch_mode": "Train",
            "learn_metrics": [
             {
              "best_value": "Min",
              "name": "CrossEntropy"
             }
            ],
            "learn_sets": [
             "learn"
            ],
            "name": "experiment",
            "parameters": "",
            "test_metrics": [
             {
              "best_value": "Min",
              "name": "CrossEntropy"
             }
            ],
            "test_sets": [
             "test"
            ]
           }
          },
          "passed_iterations": 99,
          "total_iterations": 100
         },
         "name": "catboost_info",
         "path": "catboost_info"
        }
       },
       "layout": "IPY_MODEL_8246371971fa4c9c9c550468d87aef45"
      }
     },
     "37663dd8cde04735b0f8f168c0c00ed0": {
      "model_module": "@jupyter-widgets/base",
      "model_module_version": "1.2.0",
      "model_name": "LayoutModel",
      "state": {
       "_model_module": "@jupyter-widgets/base",
       "_model_module_version": "1.2.0",
       "_model_name": "LayoutModel",
       "_view_count": null,
       "_view_module": "@jupyter-widgets/base",
       "_view_module_version": "1.2.0",
       "_view_name": "LayoutView",
       "align_content": null,
       "align_items": null,
       "align_self": "stretch",
       "border": null,
       "bottom": null,
       "display": null,
       "flex": null,
       "flex_flow": null,
       "grid_area": null,
       "grid_auto_columns": null,
       "grid_auto_flow": null,
       "grid_auto_rows": null,
       "grid_column": null,
       "grid_gap": null,
       "grid_row": null,
       "grid_template_areas": null,
       "grid_template_columns": null,
       "grid_template_rows": null,
       "height": "500px",
       "justify_content": null,
       "justify_items": null,
       "left": null,
       "margin": null,
       "max_height": null,
       "max_width": null,
       "min_height": null,
       "min_width": null,
       "object_fit": null,
       "object_position": null,
       "order": null,
       "overflow": null,
       "overflow_x": null,
       "overflow_y": null,
       "padding": null,
       "right": null,
       "top": null,
       "visibility": null,
       "width": null
      }
     },
     "3f0562030bb24fb48fb72da1cca9b3c4": {
      "model_module": "@jupyter-widgets/base",
      "model_module_version": "1.2.0",
      "model_name": "LayoutModel",
      "state": {
       "_model_module": "@jupyter-widgets/base",
       "_model_module_version": "1.2.0",
       "_model_name": "LayoutModel",
       "_view_count": null,
       "_view_module": "@jupyter-widgets/base",
       "_view_module_version": "1.2.0",
       "_view_name": "LayoutView",
       "align_content": null,
       "align_items": null,
       "align_self": "stretch",
       "border": null,
       "bottom": null,
       "display": null,
       "flex": null,
       "flex_flow": null,
       "grid_area": null,
       "grid_auto_columns": null,
       "grid_auto_flow": null,
       "grid_auto_rows": null,
       "grid_column": null,
       "grid_gap": null,
       "grid_row": null,
       "grid_template_areas": null,
       "grid_template_columns": null,
       "grid_template_rows": null,
       "height": "500px",
       "justify_content": null,
       "justify_items": null,
       "left": null,
       "margin": null,
       "max_height": null,
       "max_width": null,
       "min_height": null,
       "min_width": null,
       "object_fit": null,
       "object_position": null,
       "order": null,
       "overflow": null,
       "overflow_x": null,
       "overflow_y": null,
       "padding": null,
       "right": null,
       "top": null,
       "visibility": null,
       "width": null
      }
     },
     "41362a2ba13548a68b962760a177fc6a": {
      "model_module": "catboost-widget",
      "model_module_version": "^1.0.0",
      "model_name": "CatboostWidgetModel",
      "state": {
       "_dom_classes": [],
       "_model_module": "catboost-widget",
       "_model_module_version": "^1.0.0",
       "_model_name": "CatboostWidgetModel",
       "_view_count": null,
       "_view_module": "catboost-widget",
       "_view_module_version": "^1.0.0",
       "_view_name": "CatboostWidgetView",
       "data": {
        "catboost_info": {
         "content": {
          "data": {
           "iterations": [
            {
             "iteration": 0,
             "learn": [
              0.6624637804
             ],
             "passed_time": 0.3633749683,
             "remaining_time": 35.97412186,
             "test": [
              0.6643818805
             ]
            },
            {
             "iteration": 1,
             "learn": [
              0.6378170745
             ],
             "passed_time": 0.7227971558,
             "remaining_time": 35.41706063,
             "test": [
              0.637356523
             ]
            },
            {
             "iteration": 2,
             "learn": [
              0.611322733
             ],
             "passed_time": 1.084688493,
             "remaining_time": 35.07159461,
             "test": [
              0.6115751979
             ]
            },
            {
             "iteration": 3,
             "learn": [
              0.5864240247
             ],
             "passed_time": 1.442429809,
             "remaining_time": 34.61831542,
             "test": [
              0.5872090928
             ]
            },
            {
             "iteration": 4,
             "learn": [
              0.565078394
             ],
             "passed_time": 1.785121635,
             "remaining_time": 33.91731106,
             "test": [
              0.5644025672
             ]
            },
            {
             "iteration": 5,
             "learn": [
              0.543230625
             ],
             "passed_time": 2.160638457,
             "remaining_time": 33.85000249,
             "test": [
              0.5427734386
             ]
            },
            {
             "iteration": 6,
             "learn": [
              0.5211239879
             ],
             "passed_time": 2.519167223,
             "remaining_time": 33.46893597,
             "test": [
              0.5222078661
             ]
            },
            {
             "iteration": 7,
             "learn": [
              0.5035250254
             ],
             "passed_time": 2.832851492,
             "remaining_time": 32.57779216,
             "test": [
              0.5028178064
             ]
            },
            {
             "iteration": 8,
             "learn": [
              0.4844475338
             ],
             "passed_time": 3.183463977,
             "remaining_time": 32.18835799,
             "test": [
              0.4843103944
             ]
            },
            {
             "iteration": 9,
             "learn": [
              0.46640569
             ],
             "passed_time": 3.552688715,
             "remaining_time": 31.97419844,
             "test": [
              0.4663569419
             ]
            },
            {
             "iteration": 10,
             "learn": [
              0.4500020876
             ],
             "passed_time": 3.911920443,
             "remaining_time": 31.65099268,
             "test": [
              0.4496036195
             ]
            },
            {
             "iteration": 11,
             "learn": [
              0.4339627344
             ],
             "passed_time": 4.265021882,
             "remaining_time": 31.27682714,
             "test": [
              0.433409998
             ]
            },
            {
             "iteration": 12,
             "learn": [
              0.4186438644
             ],
             "passed_time": 4.606407893,
             "remaining_time": 30.82749898,
             "test": [
              0.4180491353
             ]
            },
            {
             "iteration": 13,
             "learn": [
              0.4040288056
             ],
             "passed_time": 4.998374046,
             "remaining_time": 30.70429771,
             "test": [
              0.403414981
             ]
            },
            {
             "iteration": 14,
             "learn": [
              0.3894271877
             ],
             "passed_time": 5.355160541,
             "remaining_time": 30.34590973,
             "test": [
              0.3894851887
             ]
            },
            {
             "iteration": 15,
             "learn": [
              0.3753509044
             ],
             "passed_time": 5.734605893,
             "remaining_time": 30.10668094,
             "test": [
              0.3759247549
             ]
            },
            {
             "iteration": 16,
             "learn": [
              0.363292385
             ],
             "passed_time": 6.111052081,
             "remaining_time": 29.8363131,
             "test": [
              0.3630941096
             ]
            },
            {
             "iteration": 17,
             "learn": [
              0.3509999363
             ],
             "passed_time": 6.470657531,
             "remaining_time": 29.47743986,
             "test": [
              0.3508015623
             ]
            },
            {
             "iteration": 18,
             "learn": [
              0.3386964159
             ],
             "passed_time": 6.855466861,
             "remaining_time": 29.22593767,
             "test": [
              0.3390960239
             ]
            },
            {
             "iteration": 19,
             "learn": [
              0.3279525637
             ],
             "passed_time": 7.201388304,
             "remaining_time": 28.80555322,
             "test": [
              0.3278814546
             ]
            },
            {
             "iteration": 20,
             "learn": [
              0.3165908193
             ],
             "passed_time": 7.557143264,
             "remaining_time": 28.42925323,
             "test": [
              0.3168888082
             ]
            },
            {
             "iteration": 21,
             "learn": [
              0.3061171772
             ],
             "passed_time": 7.961504585,
             "remaining_time": 28.22715262,
             "test": [
              0.3065316767
             ]
            },
            {
             "iteration": 22,
             "learn": [
              0.2968193071
             ],
             "passed_time": 8.333815353,
             "remaining_time": 27.90016444,
             "test": [
              0.2964885633
             ]
            },
            {
             "iteration": 23,
             "learn": [
              0.2870302789
             ],
             "passed_time": 8.666876904,
             "remaining_time": 27.4451102,
             "test": [
              0.2867118677
             ]
            },
            {
             "iteration": 24,
             "learn": [
              0.2774977437
             ],
             "passed_time": 9.094435702,
             "remaining_time": 27.28330711,
             "test": [
              0.277558134
             ]
            },
            {
             "iteration": 25,
             "learn": [
              0.2684666407
             ],
             "passed_time": 9.429131757,
             "remaining_time": 26.83675962,
             "test": [
              0.2687717382
             ]
            },
            {
             "iteration": 26,
             "learn": [
              0.2599863907
             ],
             "passed_time": 9.760974753,
             "remaining_time": 26.39078359,
             "test": [
              0.2600337006
             ]
            },
            {
             "iteration": 27,
             "learn": [
              0.2520446779
             ],
             "passed_time": 10.0846384,
             "remaining_time": 25.93192731,
             "test": [
              0.2519389906
             ]
            },
            {
             "iteration": 28,
             "learn": [
              0.2442201572
             ],
             "passed_time": 10.4396267,
             "remaining_time": 25.55908606,
             "test": [
              0.2441252972
             ]
            },
            {
             "iteration": 29,
             "learn": [
              0.2365367295
             ],
             "passed_time": 10.75788667,
             "remaining_time": 25.10173557,
             "test": [
              0.2363679117
             ]
            },
            {
             "iteration": 30,
             "learn": [
              0.2291518465
             ],
             "passed_time": 11.08066803,
             "remaining_time": 24.66342238,
             "test": [
              0.2290503144
             ]
            },
            {
             "iteration": 31,
             "learn": [
              0.2221673336
             ],
             "passed_time": 11.3989042,
             "remaining_time": 24.22267143,
             "test": [
              0.2220293901
             ]
            },
            {
             "iteration": 32,
             "learn": [
              0.2153760527
             ],
             "passed_time": 11.79752855,
             "remaining_time": 23.95255796,
             "test": [
              0.2149896691
             ]
            },
            {
             "iteration": 33,
             "learn": [
              0.2089872187
             ],
             "passed_time": 12.19964443,
             "remaining_time": 23.68166271,
             "test": [
              0.2082549301
             ]
            },
            {
             "iteration": 34,
             "learn": [
              0.2024374403
             ],
             "passed_time": 12.52416865,
             "remaining_time": 23.25917034,
             "test": [
              0.2020632258
             ]
            },
            {
             "iteration": 35,
             "learn": [
              0.1965803281
             ],
             "passed_time": 12.83929693,
             "remaining_time": 22.82541677,
             "test": [
              0.1960235268
             ]
            },
            {
             "iteration": 36,
             "learn": [
              0.1905413958
             ],
             "passed_time": 13.20280968,
             "remaining_time": 22.48045972,
             "test": [
              0.1899403328
             ]
            },
            {
             "iteration": 37,
             "learn": [
              0.1848041484
             ],
             "passed_time": 13.56641615,
             "remaining_time": 22.13467899,
             "test": [
              0.1841262935
             ]
            },
            {
             "iteration": 38,
             "learn": [
              0.1791721091
             ],
             "passed_time": 13.94778074,
             "remaining_time": 21.81575961,
             "test": [
              0.1787267004
             ]
            },
            {
             "iteration": 39,
             "learn": [
              0.1738858495
             ],
             "passed_time": 14.31663742,
             "remaining_time": 21.47495613,
             "test": [
              0.1732254138
             ]
            },
            {
             "iteration": 40,
             "learn": [
              0.1685913393
             ],
             "passed_time": 14.7499822,
             "remaining_time": 21.22558413,
             "test": [
              0.1680662549
             ]
            },
            {
             "iteration": 41,
             "learn": [
              0.1636983608
             ],
             "passed_time": 15.11600548,
             "remaining_time": 20.87448376,
             "test": [
              0.1629461865
             ]
            },
            {
             "iteration": 42,
             "learn": [
              0.159130302
             ],
             "passed_time": 15.42571403,
             "remaining_time": 20.44803953,
             "test": [
              0.1583152597
             ]
            },
            {
             "iteration": 43,
             "learn": [
              0.1543886007
             ],
             "passed_time": 15.83331818,
             "remaining_time": 20.15149587,
             "test": [
              0.1537275331
             ]
            },
            {
             "iteration": 44,
             "learn": [
              0.1500126317
             ],
             "passed_time": 16.1389892,
             "remaining_time": 19.72543125,
             "test": [
              0.1493895398
             ]
            },
            {
             "iteration": 45,
             "learn": [
              0.1456908296
             ],
             "passed_time": 16.46311174,
             "remaining_time": 19.32626161,
             "test": [
              0.1451879553
             ]
            },
            {
             "iteration": 46,
             "learn": [
              0.1415635232
             ],
             "passed_time": 16.81363336,
             "remaining_time": 18.96005464,
             "test": [
              0.1411122385
             ]
            },
            {
             "iteration": 47,
             "learn": [
              0.137621029
             ],
             "passed_time": 17.14165006,
             "remaining_time": 18.5701209,
             "test": [
              0.1372166053
             ]
            },
            {
             "iteration": 48,
             "learn": [
              0.1337169965
             ],
             "passed_time": 17.46808494,
             "remaining_time": 18.18106799,
             "test": [
              0.1333903426
             ]
            },
            {
             "iteration": 49,
             "learn": [
              0.1298749312
             ],
             "passed_time": 17.87654019,
             "remaining_time": 17.87654019,
             "test": [
              0.129444624
             ]
            },
            {
             "iteration": 50,
             "learn": [
              0.126304892
             ],
             "passed_time": 18.17962013,
             "remaining_time": 17.46669385,
             "test": [
              0.1259410393
             ]
            },
            {
             "iteration": 51,
             "learn": [
              0.1229151068
             ],
             "passed_time": 18.48579104,
             "remaining_time": 17.06380711,
             "test": [
              0.1225528304
             ]
            },
            {
             "iteration": 52,
             "learn": [
              0.1195224547
             ],
             "passed_time": 18.90020256,
             "remaining_time": 16.76055699,
             "test": [
              0.1191811849
             ]
            },
            {
             "iteration": 53,
             "learn": [
              0.1163632427
             ],
             "passed_time": 19.24124202,
             "remaining_time": 16.39068765,
             "test": [
              0.1159990999
             ]
            },
            {
             "iteration": 54,
             "learn": [
              0.1130992956
             ],
             "passed_time": 19.62710894,
             "remaining_time": 16.05854368,
             "test": [
              0.1126245642
             ]
            },
            {
             "iteration": 55,
             "learn": [
              0.1100479307
             ],
             "passed_time": 20.01183124,
             "remaining_time": 15.72358169,
             "test": [
              0.1096500174
             ]
            },
            {
             "iteration": 56,
             "learn": [
              0.1069685614
             ],
             "passed_time": 20.41212924,
             "remaining_time": 15.39862381,
             "test": [
              0.1064447722
             ]
            },
            {
             "iteration": 57,
             "learn": [
              0.1039475475
             ],
             "passed_time": 20.78370221,
             "remaining_time": 15.05026712,
             "test": [
              0.1035795476
             ]
            },
            {
             "iteration": 58,
             "learn": [
              0.1011951281
             ],
             "passed_time": 21.23349759,
             "remaining_time": 14.75548137,
             "test": [
              0.1007813708
             ]
            },
            {
             "iteration": 59,
             "learn": [
              0.09840800713
             ],
             "passed_time": 21.65637286,
             "remaining_time": 14.43758191,
             "test": [
              0.09798785802
             ]
            },
            {
             "iteration": 60,
             "learn": [
              0.09568998755
             ],
             "passed_time": 21.99346847,
             "remaining_time": 14.06139787,
             "test": [
              0.09542437471
             ]
            },
            {
             "iteration": 61,
             "learn": [
              0.0931939639
             ],
             "passed_time": 22.32295617,
             "remaining_time": 13.68181185,
             "test": [
              0.09295198967
             ]
            },
            {
             "iteration": 62,
             "learn": [
              0.0906159553
             ],
             "passed_time": 22.72821115,
             "remaining_time": 13.34831449,
             "test": [
              0.0902497878
             ]
            },
            {
             "iteration": 63,
             "learn": [
              0.08809131974
             ],
             "passed_time": 23.14851518,
             "remaining_time": 13.02103979,
             "test": [
              0.08775529926
             ]
            },
            {
             "iteration": 64,
             "learn": [
              0.08594316964
             ],
             "passed_time": 23.43491682,
             "remaining_time": 12.61880136,
             "test": [
              0.08562196067
             ]
            },
            {
             "iteration": 65,
             "learn": [
              0.08376430412
             ],
             "passed_time": 23.76589916,
             "remaining_time": 12.24303896,
             "test": [
              0.08349656531
             ]
            },
            {
             "iteration": 66,
             "learn": [
              0.081611723
             ],
             "passed_time": 24.07207515,
             "remaining_time": 11.85639522,
             "test": [
              0.0812863451
             ]
            },
            {
             "iteration": 67,
             "learn": [
              0.0795397197
             ],
             "passed_time": 24.48228316,
             "remaining_time": 11.52107443,
             "test": [
              0.07917417548
             ]
            },
            {
             "iteration": 68,
             "learn": [
              0.07755233144
             ],
             "passed_time": 24.84067935,
             "remaining_time": 11.16030521,
             "test": [
              0.07720051705
             ]
            },
            {
             "iteration": 69,
             "learn": [
              0.07564664165
             ],
             "passed_time": 25.16753109,
             "remaining_time": 10.78608475,
             "test": [
              0.07532621937
             ]
            },
            {
             "iteration": 70,
             "learn": [
              0.07367391703
             ],
             "passed_time": 25.49939345,
             "remaining_time": 10.41524521,
             "test": [
              0.07329417001
             ]
            },
            {
             "iteration": 71,
             "learn": [
              0.07181701431
             ],
             "passed_time": 25.89762347,
             "remaining_time": 10.07129801,
             "test": [
              0.07138579884
             ]
            },
            {
             "iteration": 72,
             "learn": [
              0.06989882948
             ],
             "passed_time": 26.265517,
             "remaining_time": 9.714643274,
             "test": [
              0.06941056205
             ]
            },
            {
             "iteration": 73,
             "learn": [
              0.06804737391
             ],
             "passed_time": 26.64822839,
             "remaining_time": 9.362891054,
             "test": [
              0.06748897061
             ]
            },
            {
             "iteration": 74,
             "learn": [
              0.06641563317
             ],
             "passed_time": 27.02323214,
             "remaining_time": 9.007744046,
             "test": [
              0.06589300837
             ]
            },
            {
             "iteration": 75,
             "learn": [
              0.06491158031
             ],
             "passed_time": 27.31556458,
             "remaining_time": 8.625967761,
             "test": [
              0.06444228977
             ]
            },
            {
             "iteration": 76,
             "learn": [
              0.06329967787
             ],
             "passed_time": 27.71213723,
             "remaining_time": 8.27765138,
             "test": [
              0.06287333526
             ]
            },
            {
             "iteration": 77,
             "learn": [
              0.06171086909
             ],
             "passed_time": 28.09534019,
             "remaining_time": 7.924326719,
             "test": [
              0.0611560056
             ]
            },
            {
             "iteration": 78,
             "learn": [
              0.06017435743
             ],
             "passed_time": 28.4862785,
             "remaining_time": 7.572301879,
             "test": [
              0.05969447138
             ]
            },
            {
             "iteration": 79,
             "learn": [
              0.05865158979
             ],
             "passed_time": 28.87953576,
             "remaining_time": 7.21988394,
             "test": [
              0.05825055425
             ]
            },
            {
             "iteration": 80,
             "learn": [
              0.05724579784
             ],
             "passed_time": 29.27683007,
             "remaining_time": 6.867404583,
             "test": [
              0.05678894714
             ]
            },
            {
             "iteration": 81,
             "learn": [
              0.05584639987
             ],
             "passed_time": 29.65267855,
             "remaining_time": 6.50912456,
             "test": [
              0.05546646715
             ]
            },
            {
             "iteration": 82,
             "learn": [
              0.05451904341
             ],
             "passed_time": 30.13522158,
             "remaining_time": 6.172274299,
             "test": [
              0.05408115638
             ]
            },
            {
             "iteration": 83,
             "learn": [
              0.05326720132
             ],
             "passed_time": 30.58782573,
             "remaining_time": 5.82625252,
             "test": [
              0.05277318929
             ]
            },
            {
             "iteration": 84,
             "learn": [
              0.05198431963
             ],
             "passed_time": 31.17110075,
             "remaining_time": 5.500782486,
             "test": [
              0.05155104531
             ]
            },
            {
             "iteration": 85,
             "learn": [
              0.05075796515
             ],
             "passed_time": 31.63911556,
             "remaining_time": 5.150553695,
             "test": [
              0.05029003142
             ]
            },
            {
             "iteration": 86,
             "learn": [
              0.04954249318
             ],
             "passed_time": 32.01961838,
             "remaining_time": 4.784540677,
             "test": [
              0.04903636453
             ]
            },
            {
             "iteration": 87,
             "learn": [
              0.04848666782
             ],
             "passed_time": 32.35068694,
             "remaining_time": 4.41145731,
             "test": [
              0.04802288609
             ]
            },
            {
             "iteration": 88,
             "learn": [
              0.04731297505
             ],
             "passed_time": 32.72435286,
             "remaining_time": 4.044582938,
             "test": [
              0.04695081144
             ]
            },
            {
             "iteration": 89,
             "learn": [
              0.04621275543
             ],
             "passed_time": 33.11636861,
             "remaining_time": 3.679596512,
             "test": [
              0.04587190044
             ]
            },
            {
             "iteration": 90,
             "learn": [
              0.04517614753
             ],
             "passed_time": 33.50438972,
             "remaining_time": 3.313620962,
             "test": [
              0.04484338115
             ]
            },
            {
             "iteration": 91,
             "learn": [
              0.04416427511
             ],
             "passed_time": 33.87288156,
             "remaining_time": 2.945467962,
             "test": [
              0.04386475499
             ]
            },
            {
             "iteration": 92,
             "learn": [
              0.04323530032
             ],
             "passed_time": 34.19091355,
             "remaining_time": 2.573509622,
             "test": [
              0.04289416954
             ]
            },
            {
             "iteration": 93,
             "learn": [
              0.04222777279
             ],
             "passed_time": 34.56763435,
             "remaining_time": 2.206444746,
             "test": [
              0.04197813228
             ]
            },
            {
             "iteration": 94,
             "learn": [
              0.04132863543
             ],
             "passed_time": 34.94387902,
             "remaining_time": 1.839151528,
             "test": [
              0.04108666881
             ]
            },
            {
             "iteration": 95,
             "learn": [
              0.04044246825
             ],
             "passed_time": 35.33215952,
             "remaining_time": 1.472173313,
             "test": [
              0.04020661404
             ]
            },
            {
             "iteration": 96,
             "learn": [
              0.03952750337
             ],
             "passed_time": 35.71420664,
             "remaining_time": 1.104563092,
             "test": [
              0.03924506771
             ]
            },
            {
             "iteration": 97,
             "learn": [
              0.03862696629
             ],
             "passed_time": 36.11849044,
             "remaining_time": 0.7371120497,
             "test": [
              0.0383951773
             ]
            },
            {
             "iteration": 98,
             "learn": [
              0.0377570188
             ],
             "passed_time": 36.5461378,
             "remaining_time": 0.3691529071,
             "test": [
              0.03746180721
             ]
            },
            {
             "iteration": 99,
             "learn": [
              0.03696967072
             ],
             "passed_time": 36.92762171,
             "remaining_time": 0,
             "test": [
              0.03668947435
             ]
            }
           ],
           "meta": {
            "iteration_count": 100,
            "launch_mode": "Train",
            "learn_metrics": [
             {
              "best_value": "Min",
              "name": "CrossEntropy"
             }
            ],
            "learn_sets": [
             "learn"
            ],
            "name": "experiment",
            "parameters": "",
            "test_metrics": [
             {
              "best_value": "Min",
              "name": "CrossEntropy"
             }
            ],
            "test_sets": [
             "test"
            ]
           }
          },
          "passed_iterations": 99,
          "total_iterations": 100
         },
         "name": "catboost_info",
         "path": "catboost_info"
        }
       },
       "layout": "IPY_MODEL_e7cc6fdd2795448385d470f7bc37663c"
      }
     },
     "41aa3b2bb8a54685b9e248eba1dc86e8": {
      "model_module": "catboost-widget",
      "model_module_version": "^1.0.0",
      "model_name": "CatboostWidgetModel",
      "state": {
       "_dom_classes": [],
       "_model_module": "catboost-widget",
       "_model_module_version": "^1.0.0",
       "_model_name": "CatboostWidgetModel",
       "_view_count": null,
       "_view_module": "catboost-widget",
       "_view_module_version": "^1.0.0",
       "_view_name": "CatboostWidgetView",
       "data": {
        "catboost_info": {
         "content": {
          "data": {
           "iterations": [
            {
             "iteration": 0,
             "learn": [
              0.6613792015
             ],
             "passed_time": 0.3727459436,
             "remaining_time": 36.90184841,
             "test": [
              0.6635990722
             ]
            },
            {
             "iteration": 1,
             "learn": [
              0.6362945089
             ],
             "passed_time": 0.7646670522,
             "remaining_time": 37.46868556,
             "test": [
              0.6357723056
             ]
            },
            {
             "iteration": 2,
             "learn": [
              0.6093764538
             ],
             "passed_time": 1.133654203,
             "remaining_time": 36.65481923,
             "test": [
              0.6095194167
             ]
            },
            {
             "iteration": 3,
             "learn": [
              0.5837166378
             ],
             "passed_time": 1.54047543,
             "remaining_time": 36.97141031,
             "test": [
              0.5847116254
             ]
            },
            {
             "iteration": 4,
             "learn": [
              0.562190943
             ],
             "passed_time": 1.916062081,
             "remaining_time": 36.40517954,
             "test": [
              0.5612355971
             ]
            },
            {
             "iteration": 5,
             "learn": [
              0.5376508171
             ],
             "passed_time": 2.283487924,
             "remaining_time": 35.77464414,
             "test": [
              0.5389909158
             ]
            },
            {
             "iteration": 6,
             "learn": [
              0.5168800396
             ],
             "passed_time": 2.680067794,
             "remaining_time": 35.60661497,
             "test": [
              0.5178844502
             ]
            },
            {
             "iteration": 7,
             "learn": [
              0.4986864751
             ],
             "passed_time": 3.041002746,
             "remaining_time": 34.97153158,
             "test": [
              0.4978361082
             ]
            },
            {
             "iteration": 8,
             "learn": [
              0.4785238484
             ],
             "passed_time": 3.428604059,
             "remaining_time": 34.66699659,
             "test": [
              0.4787720487
             ]
            },
            {
             "iteration": 9,
             "learn": [
              0.4605805494
             ],
             "passed_time": 3.889908792,
             "remaining_time": 35.00917913,
             "test": [
              0.4606262932
             ]
            },
            {
             "iteration": 10,
             "learn": [
              0.4438249559
             ],
             "passed_time": 4.275221616,
             "remaining_time": 34.59042944,
             "test": [
              0.4433383845
             ]
            },
            {
             "iteration": 11,
             "learn": [
              0.4280510125
             ],
             "passed_time": 4.711971631,
             "remaining_time": 34.55445863,
             "test": [
              0.4268523643
             ]
            },
            {
             "iteration": 12,
             "learn": [
              0.4121173117
             ],
             "passed_time": 5.159620839,
             "remaining_time": 34.52977023,
             "test": [
              0.4111202411
             ]
            },
            {
             "iteration": 13,
             "learn": [
              0.3967762032
             ],
             "passed_time": 5.564119173,
             "remaining_time": 34.17958921,
             "test": [
              0.396094701
             ]
            },
            {
             "iteration": 14,
             "learn": [
              0.3823940958
             ],
             "passed_time": 5.966193299,
             "remaining_time": 33.80842869,
             "test": [
              0.3817337679
             ]
            },
            {
             "iteration": 15,
             "learn": [
              0.3673344471
             ],
             "passed_time": 6.34793653,
             "remaining_time": 33.32666678,
             "test": [
              0.3679981773
             ]
            },
            {
             "iteration": 16,
             "learn": [
              0.3538769769
             ],
             "passed_time": 6.837523324,
             "remaining_time": 33.38320211,
             "test": [
              0.3548532759
             ]
            },
            {
             "iteration": 17,
             "learn": [
              0.3431672227
             ],
             "passed_time": 7.219169694,
             "remaining_time": 32.88732861,
             "test": [
              0.3422655971
             ]
            },
            {
             "iteration": 18,
             "learn": [
              0.3300855285
             ],
             "passed_time": 7.62211557,
             "remaining_time": 32.49428217,
             "test": [
              0.3302052812
             ]
            },
            {
             "iteration": 19,
             "learn": [
              0.3196738034
             ],
             "passed_time": 7.993671133,
             "remaining_time": 31.97468453,
             "test": [
              0.3186443122
             ]
            },
            {
             "iteration": 20,
             "learn": [
              0.3069725969
             ],
             "passed_time": 8.450954612,
             "remaining_time": 31.7916864,
             "test": [
              0.307555746
             ]
            },
            {
             "iteration": 21,
             "learn": [
              0.2968815742
             ],
             "passed_time": 9.055600726,
             "remaining_time": 32.10622076,
             "test": [
              0.2969151038
             ]
            },
            {
             "iteration": 22,
             "learn": [
              0.2867647236
             ],
             "passed_time": 9.653336358,
             "remaining_time": 32.31769128,
             "test": [
              0.2867002916
             ]
            },
            {
             "iteration": 23,
             "learn": [
              0.2765049335
             ],
             "passed_time": 10.20699473,
             "remaining_time": 32.32214999,
             "test": [
              0.2768890935
             ]
            },
            {
             "iteration": 24,
             "learn": [
              0.2664381244
             ],
             "passed_time": 10.55855359,
             "remaining_time": 31.67566078,
             "test": [
              0.2674618513
             ]
            },
            {
             "iteration": 25,
             "learn": [
              0.2579791368
             ],
             "passed_time": 10.94496457,
             "remaining_time": 31.15105301,
             "test": [
              0.2584000341
             ]
            },
            {
             "iteration": 26,
             "learn": [
              0.2499626691
             ],
             "passed_time": 11.35638224,
             "remaining_time": 30.70429272,
             "test": [
              0.2496875946
             ]
            },
            {
             "iteration": 27,
             "learn": [
              0.2419720301
             ],
             "passed_time": 11.81036072,
             "remaining_time": 30.369499,
             "test": [
              0.2413065593
             ]
            },
            {
             "iteration": 28,
             "learn": [
              0.2336781654
             ],
             "passed_time": 12.20247351,
             "remaining_time": 29.87502134,
             "test": [
              0.2332422689
             ]
            },
            {
             "iteration": 29,
             "learn": [
              0.2258465174
             ],
             "passed_time": 12.62451634,
             "remaining_time": 29.4572048,
             "test": [
              0.2254797952
             ]
            },
            {
             "iteration": 30,
             "learn": [
              0.2185229647
             ],
             "passed_time": 13.08015995,
             "remaining_time": 29.11390442,
             "test": [
              0.2180060578
             ]
            },
            {
             "iteration": 31,
             "learn": [
              0.2109303613
             ],
             "passed_time": 13.50791542,
             "remaining_time": 28.70432026,
             "test": [
              0.2108081641
             ]
            },
            {
             "iteration": 32,
             "learn": [
              0.2033494796
             ],
             "passed_time": 13.90550331,
             "remaining_time": 28.2323855,
             "test": [
              0.2038735734
             ]
            },
            {
             "iteration": 33,
             "learn": [
              0.19642107
             ],
             "passed_time": 14.38528771,
             "remaining_time": 27.92438203,
             "test": [
              0.1971911846
             ]
            },
            {
             "iteration": 34,
             "learn": [
              0.191171236
             ],
             "passed_time": 14.85436695,
             "remaining_time": 27.58668147,
             "test": [
              0.1907505305
             ]
            },
            {
             "iteration": 35,
             "learn": [
              0.1838989801
             ],
             "passed_time": 15.25071375,
             "remaining_time": 27.11238,
             "test": [
              0.1845405524
             ]
            },
            {
             "iteration": 36,
             "learn": [
              0.1787578117
             ],
             "passed_time": 15.68658184,
             "remaining_time": 26.70958529,
             "test": [
              0.1785520564
             ]
            },
            {
             "iteration": 37,
             "learn": [
              0.1721861519
             ],
             "passed_time": 16.11105061,
             "remaining_time": 26.286451,
             "test": [
              0.1727757524
             ]
            },
            {
             "iteration": 38,
             "learn": [
              0.1676662325
             ],
             "passed_time": 16.55160566,
             "remaining_time": 25.88840886,
             "test": [
              0.1672032526
             ]
            },
            {
             "iteration": 39,
             "learn": [
              0.1614241238
             ],
             "passed_time": 16.97742768,
             "remaining_time": 25.46614152,
             "test": [
              0.1618255462
             ]
            },
            {
             "iteration": 40,
             "learn": [
              0.1563267034
             ],
             "passed_time": 17.39394919,
             "remaining_time": 25.03031712,
             "test": [
              0.1566351723
             ]
            },
            {
             "iteration": 41,
             "learn": [
              0.1520155678
             ],
             "passed_time": 17.9123758,
             "remaining_time": 24.736138,
             "test": [
              0.1516251737
             ]
            },
            {
             "iteration": 42,
             "learn": [
              0.1470015763
             ],
             "passed_time": 18.27898057,
             "remaining_time": 24.23027657,
             "test": [
              0.1467871652
             ]
            },
            {
             "iteration": 43,
             "learn": [
              0.1418671598
             ],
             "passed_time": 18.73487309,
             "remaining_time": 23.84438393,
             "test": [
              0.1421156224
             ]
            },
            {
             "iteration": 44,
             "learn": [
              0.1371034933
             ],
             "passed_time": 19.09976869,
             "remaining_time": 23.34416173,
             "test": [
              0.1376032424
             ]
            },
            {
             "iteration": 45,
             "learn": [
              0.132906209
             ],
             "passed_time": 19.54638979,
             "remaining_time": 22.94576193,
             "test": [
              0.1332443009
             ]
            },
            {
             "iteration": 46,
             "learn": [
              0.1289168072
             ],
             "passed_time": 19.94780927,
             "remaining_time": 22.49433811,
             "test": [
              0.1290325726
             ]
            },
            {
             "iteration": 47,
             "learn": [
              0.1249898989
             ],
             "passed_time": 20.38055871,
             "remaining_time": 22.0789386,
             "test": [
              0.1249635684
             ]
            },
            {
             "iteration": 48,
             "learn": [
              0.1210809882
             ],
             "passed_time": 20.83219122,
             "remaining_time": 21.68248474,
             "test": [
              0.1210306929
             ]
            },
            {
             "iteration": 49,
             "learn": [
              0.1171933743
             ],
             "passed_time": 21.2471162,
             "remaining_time": 21.2471162,
             "test": [
              0.1172295951
             ]
            },
            {
             "iteration": 50,
             "learn": [
              0.1133188785
             ],
             "passed_time": 21.66301046,
             "remaining_time": 20.81348063,
             "test": [
              0.1135545774
             ]
            },
            {
             "iteration": 51,
             "learn": [
              0.1097544747
             ],
             "passed_time": 22.08875855,
             "remaining_time": 20.38962328,
             "test": [
              0.1100019491
             ]
            },
            {
             "iteration": 52,
             "learn": [
              0.1069260993
             ],
             "passed_time": 22.49409749,
             "remaining_time": 19.94759589,
             "test": [
              0.1065661832
             ]
            },
            {
             "iteration": 53,
             "learn": [
              0.1034040426
             ],
             "passed_time": 22.92960619,
             "remaining_time": 19.53262749,
             "test": [
              0.1032436402
             ]
            },
            {
             "iteration": 54,
             "learn": [
              0.09972979817
             ],
             "passed_time": 23.32267333,
             "remaining_time": 19.08218727,
             "test": [
              0.1000301285
             ]
            },
            {
             "iteration": 55,
             "learn": [
              0.09713728765
             ],
             "passed_time": 23.71279975,
             "remaining_time": 18.63148552,
             "test": [
              0.09692164693
             ]
            },
            {
             "iteration": 56,
             "learn": [
              0.09376520793
             ],
             "passed_time": 24.09187576,
             "remaining_time": 18.17457294,
             "test": [
              0.093914319
             ]
            },
            {
             "iteration": 57,
             "learn": [
              0.09122238144
             ],
             "passed_time": 24.51239761,
             "remaining_time": 17.75035689,
             "test": [
              0.09100506828
             ]
            },
            {
             "iteration": 58,
             "learn": [
              0.08794210305
             ],
             "passed_time": 24.92867262,
             "remaining_time": 17.32331487,
             "test": [
              0.08819044237
             ]
            },
            {
             "iteration": 59,
             "learn": [
              0.08547211509
             ],
             "passed_time": 25.38260065,
             "remaining_time": 16.92173376,
             "test": [
              0.08546635982
             ]
            },
            {
             "iteration": 60,
             "learn": [
              0.08257629435
             ],
             "passed_time": 25.80859718,
             "remaining_time": 16.50057853,
             "test": [
              0.08283032763
             ]
            },
            {
             "iteration": 61,
             "learn": [
              0.08010026541
             ],
             "passed_time": 26.26595245,
             "remaining_time": 16.09848699,
             "test": [
              0.08027885765
             ]
            },
            {
             "iteration": 62,
             "learn": [
              0.07797056475
             ],
             "passed_time": 26.71748296,
             "remaining_time": 15.69122015,
             "test": [
              0.07780985399
             ]
            },
            {
             "iteration": 63,
             "learn": [
              0.0754880676
             ],
             "passed_time": 27.22973619,
             "remaining_time": 15.31672661,
             "test": [
              0.07541952397
             ]
            },
            {
             "iteration": 64,
             "learn": [
              0.07295766071
             ],
             "passed_time": 27.69098467,
             "remaining_time": 14.91053021,
             "test": [
              0.07310548685
             ]
            },
            {
             "iteration": 65,
             "learn": [
              0.07054251049
             ],
             "passed_time": 28.08893472,
             "remaining_time": 14.47005728,
             "test": [
              0.07086523402
             ]
            },
            {
             "iteration": 66,
             "learn": [
              0.06844392393
             ],
             "passed_time": 28.64605591,
             "remaining_time": 14.10925142,
             "test": [
              0.06869601004
             ]
            },
            {
             "iteration": 67,
             "learn": [
              0.06643132066
             ],
             "passed_time": 29.01146684,
             "remaining_time": 13.65245499,
             "test": [
              0.06659488966
             ]
            },
            {
             "iteration": 68,
             "learn": [
              0.06446576319
             ],
             "passed_time": 29.44878856,
             "remaining_time": 13.23061515,
             "test": [
              0.06456048081
             ]
            },
            {
             "iteration": 69,
             "learn": [
              0.06251205335
             ],
             "passed_time": 29.84057072,
             "remaining_time": 12.78881602,
             "test": [
              0.06259007303
             ]
            },
            {
             "iteration": 70,
             "learn": [
              0.06056298526
             ],
             "passed_time": 30.27182688,
             "remaining_time": 12.36454901,
             "test": [
              0.06068203914
             ]
            },
            {
             "iteration": 71,
             "learn": [
              0.05865265102
             ],
             "passed_time": 30.67890276,
             "remaining_time": 11.93068441,
             "test": [
              0.05883395084
             ]
            },
            {
             "iteration": 72,
             "learn": [
              0.05684211442
             ],
             "passed_time": 31.09167752,
             "remaining_time": 11.49966155,
             "test": [
              0.0570435692
             ]
            },
            {
             "iteration": 73,
             "learn": [
              0.05543106866
             ],
             "passed_time": 31.48719043,
             "remaining_time": 11.06306691,
             "test": [
              0.05530937004
             ]
            },
            {
             "iteration": 74,
             "learn": [
              0.05367325529
             ],
             "passed_time": 31.82287244,
             "remaining_time": 10.60762415,
             "test": [
              0.05362953131
             ]
            },
            {
             "iteration": 75,
             "learn": [
              0.05182481741
             ],
             "passed_time": 32.24143144,
             "remaining_time": 10.18150467,
             "test": [
              0.0520020668
             ]
            },
            {
             "iteration": 76,
             "learn": [
              0.05053055067
             ],
             "passed_time": 32.6856825,
             "remaining_time": 9.763255811,
             "test": [
              0.05042528127
             ]
            },
            {
             "iteration": 77,
             "learn": [
              0.04884019266
             ],
             "passed_time": 33.11957084,
             "remaining_time": 9.341417416,
             "test": [
              0.04889737728
             ]
            },
            {
             "iteration": 78,
             "learn": [
              0.04721702199
             ],
             "passed_time": 33.50768742,
             "remaining_time": 8.907106781,
             "test": [
              0.04741731526
             ]
            },
            {
             "iteration": 79,
             "learn": [
              0.04591143278
             ],
             "passed_time": 33.95341983,
             "remaining_time": 8.488354957,
             "test": [
              0.04598297577
             ]
            },
            {
             "iteration": 80,
             "learn": [
              0.04464865696
             ],
             "passed_time": 34.35779689,
             "remaining_time": 8.059236307,
             "test": [
              0.04459307511
             ]
            },
            {
             "iteration": 81,
             "learn": [
              0.04306375612
             ],
             "passed_time": 34.8329083,
             "remaining_time": 7.646248164,
             "test": [
              0.04324634728
             ]
            },
            {
             "iteration": 82,
             "learn": [
              0.04195666794
             ],
             "passed_time": 35.25705354,
             "remaining_time": 7.221324219,
             "test": [
              0.04194106744
             ]
            },
            {
             "iteration": 83,
             "learn": [
              0.04071430995
             ],
             "passed_time": 35.73287428,
             "remaining_time": 6.806261768,
             "test": [
              0.04067580239
             ]
            },
            {
             "iteration": 84,
             "learn": [
              0.03934993535
             ],
             "passed_time": 36.1886369,
             "remaining_time": 6.386230041,
             "test": [
              0.03945028295
             ]
            },
            {
             "iteration": 85,
             "learn": [
              0.03812829082
             ],
             "passed_time": 36.62548784,
             "remaining_time": 5.962288718,
             "test": [
              0.03826194915
             ]
            },
            {
             "iteration": 86,
             "learn": [
              0.03710712368
             ],
             "passed_time": 37.03520909,
             "remaining_time": 5.53399676,
             "test": [
              0.03710994878
             ]
            },
            {
             "iteration": 87,
             "learn": [
              0.03605624209
             ],
             "passed_time": 37.49329619,
             "remaining_time": 5.112722208,
             "test": [
              0.03599337488
             ]
            },
            {
             "iteration": 88,
             "learn": [
              0.03486723351
             ],
             "passed_time": 37.82419632,
             "remaining_time": 4.674900669,
             "test": [
              0.03491063454
             ]
            },
            {
             "iteration": 89,
             "learn": [
              0.03382531998
             ],
             "passed_time": 38.23027085,
             "remaining_time": 4.247807872,
             "test": [
              0.03386136608
             ]
            },
            {
             "iteration": 90,
             "learn": [
              0.03282088622
             ],
             "passed_time": 38.70339548,
             "remaining_time": 3.827808344,
             "test": [
              0.03284423224
             ]
            },
            {
             "iteration": 91,
             "learn": [
              0.03182883582
             ],
             "passed_time": 39.1185083,
             "remaining_time": 3.401609417,
             "test": [
              0.03185811547
             ]
            },
            {
             "iteration": 92,
             "learn": [
              0.03085155604
             ],
             "passed_time": 39.65177249,
             "remaining_time": 2.984542015,
             "test": [
              0.03090187744
             ]
            },
            {
             "iteration": 93,
             "learn": [
              0.02991082652
             ],
             "passed_time": 40.1012688,
             "remaining_time": 2.559655455,
             "test": [
              0.02997517308
             ]
            },
            {
             "iteration": 94,
             "learn": [
              0.02897226416
             ],
             "passed_time": 40.53229099,
             "remaining_time": 2.133278473,
             "test": [
              0.02907655121
             ]
            },
            {
             "iteration": 95,
             "learn": [
              0.02823881902
             ],
             "passed_time": 40.97441321,
             "remaining_time": 1.707267217,
             "test": [
              0.02820516152
             ]
            },
            {
             "iteration": 96,
             "learn": [
              0.02735155293
             ],
             "passed_time": 41.59392263,
             "remaining_time": 1.286409978,
             "test": [
              0.02736020148
             ]
            },
            {
             "iteration": 97,
             "learn": [
              0.0264337981
             ],
             "passed_time": 42.13704763,
             "remaining_time": 0.8599397475,
             "test": [
              0.02654179415
             ]
            },
            {
             "iteration": 98,
             "learn": [
              0.02577584036
             ],
             "passed_time": 42.53286072,
             "remaining_time": 0.4296248558,
             "test": [
              0.02574765083
             ]
            },
            {
             "iteration": 99,
             "learn": [
              0.0249201159
             ],
             "passed_time": 42.91997079,
             "remaining_time": 0,
             "test": [
              0.0249773899
             ]
            }
           ],
           "meta": {
            "iteration_count": 100,
            "launch_mode": "Train",
            "learn_metrics": [
             {
              "best_value": "Min",
              "name": "CrossEntropy"
             }
            ],
            "learn_sets": [
             "learn"
            ],
            "name": "experiment",
            "parameters": "",
            "test_metrics": [
             {
              "best_value": "Min",
              "name": "CrossEntropy"
             }
            ],
            "test_sets": [
             "test"
            ]
           }
          },
          "passed_iterations": 99,
          "total_iterations": 100
         },
         "name": "catboost_info",
         "path": "catboost_info"
        }
       },
       "layout": "IPY_MODEL_7a19f735373b4083a27d7ddb4ae8512b"
      }
     },
     "42f2eac4c7574829b2f53bcee00f4b19": {
      "model_module": "catboost-widget",
      "model_module_version": "^1.0.0",
      "model_name": "CatboostWidgetModel",
      "state": {
       "_dom_classes": [],
       "_model_module": "catboost-widget",
       "_model_module_version": "^1.0.0",
       "_model_name": "CatboostWidgetModel",
       "_view_count": null,
       "_view_module": "catboost-widget",
       "_view_module_version": "^1.0.0",
       "_view_name": "CatboostWidgetView",
       "data": {
        "catboost_info": {
         "content": {
          "data": {
           "iterations": [
            {
             "iteration": 0,
             "learn": [
              0.6626490998
             ],
             "passed_time": 0.4727793265,
             "remaining_time": 46.80515332,
             "test": [
              0.6644033942
             ]
            },
            {
             "iteration": 1,
             "learn": [
              0.6376412357
             ],
             "passed_time": 0.9415613954,
             "remaining_time": 46.13650837,
             "test": [
              0.6373369907
             ]
            },
            {
             "iteration": 2,
             "learn": [
              0.6112337096
             ],
             "passed_time": 1.41806983,
             "remaining_time": 45.85092449,
             "test": [
              0.6117119609
             ]
            },
            {
             "iteration": 3,
             "learn": [
              0.5871734572
             ],
             "passed_time": 1.885012132,
             "remaining_time": 45.24029116,
             "test": [
              0.5876502391
             ]
            },
            {
             "iteration": 4,
             "learn": [
              0.5649622534
             ],
             "passed_time": 2.33411,
             "remaining_time": 44.34809,
             "test": [
              0.5647314989
             ]
            },
            {
             "iteration": 5,
             "learn": [
              0.5428996456
             ],
             "passed_time": 2.761496027,
             "remaining_time": 43.26343776,
             "test": [
              0.5431388101
             ]
            },
            {
             "iteration": 6,
             "learn": [
              0.5215285858
             ],
             "passed_time": 3.209096296,
             "remaining_time": 42.6351365,
             "test": [
              0.5225230824
             ]
            },
            {
             "iteration": 7,
             "learn": [
              0.5029943469
             ],
             "passed_time": 3.638493449,
             "remaining_time": 41.84267467,
             "test": [
              0.5029749616
             ]
            },
            {
             "iteration": 8,
             "learn": [
              0.4839503463
             ],
             "passed_time": 4.063316554,
             "remaining_time": 41.08464515,
             "test": [
              0.4841290461
             ]
            },
            {
             "iteration": 9,
             "learn": [
              0.4659488515
             ],
             "passed_time": 4.517542647,
             "remaining_time": 40.65788382,
             "test": [
              0.4662937115
             ]
            },
            {
             "iteration": 10,
             "learn": [
              0.4493020327
             ],
             "passed_time": 4.977734207,
             "remaining_time": 40.27439495,
             "test": [
              0.4493648177
             ]
            },
            {
             "iteration": 11,
             "learn": [
              0.4335049242
             ],
             "passed_time": 5.441604015,
             "remaining_time": 39.90509611,
             "test": [
              0.4333056927
             ]
            },
            {
             "iteration": 12,
             "learn": [
              0.4180679882
             ],
             "passed_time": 5.87710648,
             "remaining_time": 39.33140491,
             "test": [
              0.4178457699
             ]
            },
            {
             "iteration": 13,
             "learn": [
              0.4030406934
             ],
             "passed_time": 6.310923779,
             "remaining_time": 38.76710321,
             "test": [
              0.4031033984
             ]
            },
            {
             "iteration": 14,
             "learn": [
              0.3887213956
             ],
             "passed_time": 6.773299202,
             "remaining_time": 38.38202881,
             "test": [
              0.3888988094
             ]
            },
            {
             "iteration": 15,
             "learn": [
              0.3747123637
             ],
             "passed_time": 7.225872191,
             "remaining_time": 37.935829,
             "test": [
              0.3755209992
             ]
            },
            {
             "iteration": 16,
             "learn": [
              0.3620698893
             ],
             "passed_time": 7.692232475,
             "remaining_time": 37.55619385,
             "test": [
              0.3625220033
             ]
            },
            {
             "iteration": 17,
             "learn": [
              0.3500631454
             ],
             "passed_time": 8.143504803,
             "remaining_time": 37.09818855,
             "test": [
              0.3500877291
             ]
            },
            {
             "iteration": 18,
             "learn": [
              0.3380285055
             ],
             "passed_time": 8.611790672,
             "remaining_time": 36.71342339,
             "test": [
              0.3382399889
             ]
            },
            {
             "iteration": 19,
             "learn": [
              0.3271042848
             ],
             "passed_time": 9.062197659,
             "remaining_time": 36.24879064,
             "test": [
              0.3271090595
             ]
            },
            {
             "iteration": 20,
             "learn": [
              0.3157730871
             ],
             "passed_time": 9.520637951,
             "remaining_time": 35.81573325,
             "test": [
              0.3161556211
             ]
            },
            {
             "iteration": 21,
             "learn": [
              0.3048505968
             ],
             "passed_time": 9.987729247,
             "remaining_time": 35.41104006,
             "test": [
              0.3055179024
             ]
            },
            {
             "iteration": 22,
             "learn": [
              0.2952863105
             ],
             "passed_time": 10.45062762,
             "remaining_time": 34.98688378,
             "test": [
              0.2955727952
             ]
            },
            {
             "iteration": 23,
             "learn": [
              0.285489245
             ],
             "passed_time": 10.92827796,
             "remaining_time": 34.60621355,
             "test": [
              0.2859133814
             ]
            },
            {
             "iteration": 24,
             "learn": [
              0.2761985465
             ],
             "passed_time": 11.41389195,
             "remaining_time": 34.24167586,
             "test": [
              0.2766536977
             ]
            },
            {
             "iteration": 25,
             "learn": [
              0.2670264209
             ],
             "passed_time": 11.8387539,
             "remaining_time": 33.69491495,
             "test": [
              0.2677223603
             ]
            },
            {
             "iteration": 26,
             "learn": [
              0.2587570068
             ],
             "passed_time": 12.27690876,
             "remaining_time": 33.19312367,
             "test": [
              0.2591504309
             ]
            },
            {
             "iteration": 27,
             "learn": [
              0.2507388161
             ],
             "passed_time": 12.73899591,
             "remaining_time": 32.75741805,
             "test": [
              0.2508957119
             ]
            },
            {
             "iteration": 28,
             "learn": [
              0.2428247584
             ],
             "passed_time": 13.1756207,
             "remaining_time": 32.25755412,
             "test": [
              0.2429250137
             ]
            },
            {
             "iteration": 29,
             "learn": [
              0.2351977137
             ],
             "passed_time": 13.64899114,
             "remaining_time": 31.847646,
             "test": [
              0.2352447705
             ]
            },
            {
             "iteration": 30,
             "learn": [
              0.227805931
             ],
             "passed_time": 14.08139855,
             "remaining_time": 31.34246775,
             "test": [
              0.2278972315
             ]
            },
            {
             "iteration": 31,
             "learn": [
              0.2204778686
             ],
             "passed_time": 14.54549416,
             "remaining_time": 30.90917508,
             "test": [
              0.2207844917
             ]
            },
            {
             "iteration": 32,
             "learn": [
              0.2134611184
             ],
             "passed_time": 14.99467391,
             "remaining_time": 30.44373188,
             "test": [
              0.2139349382
             ]
            },
            {
             "iteration": 33,
             "learn": [
              0.2069050423
             ],
             "passed_time": 15.43288782,
             "remaining_time": 29.9579587,
             "test": [
              0.207436272
             ]
            },
            {
             "iteration": 34,
             "learn": [
              0.2009379014
             ],
             "passed_time": 15.88796813,
             "remaining_time": 29.50622652,
             "test": [
              0.2010175781
             ]
            },
            {
             "iteration": 35,
             "learn": [
              0.1945963743
             ],
             "passed_time": 16.26213802,
             "remaining_time": 28.91046759,
             "test": [
              0.1949319448
             ]
            },
            {
             "iteration": 36,
             "learn": [
              0.1888921377
             ],
             "passed_time": 16.71181574,
             "remaining_time": 28.45525383,
             "test": [
              0.1890274144
             ]
            },
            {
             "iteration": 37,
             "learn": [
              0.1829498245
             ],
             "passed_time": 17.17125695,
             "remaining_time": 28.01626134,
             "test": [
              0.1833592573
             ]
            },
            {
             "iteration": 38,
             "learn": [
              0.1777739794
             ],
             "passed_time": 17.58414887,
             "remaining_time": 27.50341233,
             "test": [
              0.177784941
             ]
            },
            {
             "iteration": 39,
             "learn": [
              0.172216096
             ],
             "passed_time": 18.01985101,
             "remaining_time": 27.02977652,
             "test": [
              0.1724696179
             ]
            },
            {
             "iteration": 40,
             "learn": [
              0.1670307012
             ],
             "passed_time": 18.45556059,
             "remaining_time": 26.55800183,
             "test": [
              0.167252542
             ]
            },
            {
             "iteration": 41,
             "learn": [
              0.1624279183
             ],
             "passed_time": 18.89650819,
             "remaining_time": 26.09517797,
             "test": [
              0.1622928754
             ]
            },
            {
             "iteration": 42,
             "learn": [
              0.1574712136
             ],
             "passed_time": 19.35539581,
             "remaining_time": 25.65715259,
             "test": [
              0.1575114679
             ]
            },
            {
             "iteration": 43,
             "learn": [
              0.1528100848
             ],
             "passed_time": 19.78468316,
             "remaining_time": 25.18050584,
             "test": [
              0.1529434452
             ]
            },
            {
             "iteration": 44,
             "learn": [
              0.1483212885
             ],
             "passed_time": 20.23130475,
             "remaining_time": 24.72715025,
             "test": [
              0.1483965592
             ]
            },
            {
             "iteration": 45,
             "learn": [
              0.1439731233
             ],
             "passed_time": 20.6926826,
             "remaining_time": 24.29141001,
             "test": [
              0.1440192545
             ]
            },
            {
             "iteration": 46,
             "learn": [
              0.1397952941
             ],
             "passed_time": 21.14161514,
             "remaining_time": 23.84054473,
             "test": [
              0.1398743841
             ]
            },
            {
             "iteration": 47,
             "learn": [
              0.13579301
             ],
             "passed_time": 21.60621032,
             "remaining_time": 23.40672785,
             "test": [
              0.1358850723
             ]
            },
            {
             "iteration": 48,
             "learn": [
              0.1317936903
             ],
             "passed_time": 22.05979187,
             "remaining_time": 22.96019154,
             "test": [
              0.1319106316
             ]
            },
            {
             "iteration": 49,
             "learn": [
              0.1280017898
             ],
             "passed_time": 22.54476289,
             "remaining_time": 22.54476289,
             "test": [
              0.1281461474
             ]
            },
            {
             "iteration": 50,
             "learn": [
              0.124296364
             ],
             "passed_time": 23.03663241,
             "remaining_time": 22.13323506,
             "test": [
              0.1243971692
             ]
            },
            {
             "iteration": 51,
             "learn": [
              0.1206426833
             ],
             "passed_time": 23.67951058,
             "remaining_time": 21.85800977,
             "test": [
              0.120757678
             ]
            },
            {
             "iteration": 52,
             "learn": [
              0.1173165788
             ],
             "passed_time": 24.28479045,
             "remaining_time": 21.53556889,
             "test": [
              0.1172833549
             ]
            },
            {
             "iteration": 53,
             "learn": [
              0.1140836201
             ],
             "passed_time": 24.75355213,
             "remaining_time": 21.08635922,
             "test": [
              0.1139580214
             ]
            },
            {
             "iteration": 54,
             "learn": [
              0.110806158
             ],
             "passed_time": 25.18571965,
             "remaining_time": 20.6064979,
             "test": [
              0.1108456412
             ]
            },
            {
             "iteration": 55,
             "learn": [
              0.1078345043
             ],
             "passed_time": 25.6440949,
             "remaining_time": 20.14893171,
             "test": [
              0.1076452777
             ]
            },
            {
             "iteration": 56,
             "learn": [
              0.1046866472
             ],
             "passed_time": 26.0832505,
             "remaining_time": 19.6768381,
             "test": [
              0.1046224877
             ]
            },
            {
             "iteration": 57,
             "learn": [
              0.1017905032
             ],
             "passed_time": 26.50883367,
             "remaining_time": 19.19605197,
             "test": [
              0.1016027974
             ]
            },
            {
             "iteration": 58,
             "learn": [
              0.09888515362
             ],
             "passed_time": 26.91771912,
             "remaining_time": 18.70553362,
             "test": [
              0.09880130261
             ]
            },
            {
             "iteration": 59,
             "learn": [
              0.09630355626
             ],
             "passed_time": 27.33183199,
             "remaining_time": 18.22122133,
             "test": [
              0.09608720515
             ]
            },
            {
             "iteration": 60,
             "learn": [
              0.09355537644
             ],
             "passed_time": 27.81507124,
             "remaining_time": 17.78340621,
             "test": [
              0.09341316905
             ]
            },
            {
             "iteration": 61,
             "learn": [
              0.09107862926
             ],
             "passed_time": 28.23618981,
             "remaining_time": 17.30605182,
             "test": [
              0.09086311114
             ]
            },
            {
             "iteration": 62,
             "learn": [
              0.08864204325
             ],
             "passed_time": 28.68907107,
             "remaining_time": 16.84913698,
             "test": [
              0.08837133756
             ]
            },
            {
             "iteration": 63,
             "learn": [
              0.08628186683
             ],
             "passed_time": 29.13845531,
             "remaining_time": 16.39038111,
             "test": [
              0.08596596232
             ]
            },
            {
             "iteration": 64,
             "learn": [
              0.08392437576
             ],
             "passed_time": 29.56017633,
             "remaining_time": 15.91701802,
             "test": [
              0.08364115475
             ]
            },
            {
             "iteration": 65,
             "learn": [
              0.08160136777
             ],
             "passed_time": 30.00907525,
             "remaining_time": 15.45922058,
             "test": [
              0.0812897133
             ]
            },
            {
             "iteration": 66,
             "learn": [
              0.07948881889
             ],
             "passed_time": 30.42662983,
             "remaining_time": 14.98625051,
             "test": [
              0.07910508877
             ]
            },
            {
             "iteration": 67,
             "learn": [
              0.07745559582
             ],
             "passed_time": 30.88823958,
             "remaining_time": 14.53564216,
             "test": [
              0.07701582273
             ]
            },
            {
             "iteration": 68,
             "learn": [
              0.07544359677
             ],
             "passed_time": 31.31354976,
             "remaining_time": 14.06840641,
             "test": [
              0.07497391337
             ]
            },
            {
             "iteration": 69,
             "learn": [
              0.07350362394
             ],
             "passed_time": 31.72452434,
             "remaining_time": 13.59622472,
             "test": [
              0.07299144785
             ]
            },
            {
             "iteration": 70,
             "learn": [
              0.0714921329
             ],
             "passed_time": 32.16546802,
             "remaining_time": 13.13800807,
             "test": [
              0.07099389166
             ]
            },
            {
             "iteration": 71,
             "learn": [
              0.06960375199
             ],
             "passed_time": 32.63166272,
             "remaining_time": 12.69009106,
             "test": [
              0.06906609895
             ]
            },
            {
             "iteration": 72,
             "learn": [
              0.06774744915
             ],
             "passed_time": 33.10993856,
             "remaining_time": 12.24614166,
             "test": [
              0.06722459048
             ]
            },
            {
             "iteration": 73,
             "learn": [
              0.06598770584
             ],
             "passed_time": 33.55945268,
             "remaining_time": 11.79115905,
             "test": [
              0.06548189086
             ]
            },
            {
             "iteration": 74,
             "learn": [
              0.06427929061
             ],
             "passed_time": 34.001203,
             "remaining_time": 11.33373433,
             "test": [
              0.06380708489
             ]
            },
            {
             "iteration": 75,
             "learn": [
              0.06253779553
             ],
             "passed_time": 34.44069833,
             "remaining_time": 10.87601,
             "test": [
              0.06205042623
             ]
            },
            {
             "iteration": 76,
             "learn": [
              0.06089040669
             ],
             "passed_time": 34.86638638,
             "remaining_time": 10.41463489,
             "test": [
              0.0603675345
             ]
            },
            {
             "iteration": 77,
             "learn": [
              0.05932562137
             ],
             "passed_time": 35.2947437,
             "remaining_time": 9.954927711,
             "test": [
              0.05879443376
             ]
            },
            {
             "iteration": 78,
             "learn": [
              0.05781215933
             ],
             "passed_time": 35.71911016,
             "remaining_time": 9.494953333,
             "test": [
              0.05725368305
             ]
            },
            {
             "iteration": 79,
             "learn": [
              0.05639061313
             ],
             "passed_time": 36.16980247,
             "remaining_time": 9.042450617,
             "test": [
              0.05579387935
             ]
            },
            {
             "iteration": 80,
             "learn": [
              0.0550125313
             ],
             "passed_time": 36.56698359,
             "remaining_time": 8.577440595,
             "test": [
              0.05438659715
             ]
            },
            {
             "iteration": 81,
             "learn": [
              0.05355140746
             ],
             "passed_time": 37.02695454,
             "remaining_time": 8.127868069,
             "test": [
              0.05297528956
             ]
            },
            {
             "iteration": 82,
             "learn": [
              0.05227572563
             ],
             "passed_time": 37.48681225,
             "remaining_time": 7.678021786,
             "test": [
              0.05163110721
             ]
            },
            {
             "iteration": 83,
             "learn": [
              0.0509492649
             ],
             "passed_time": 37.92622884,
             "remaining_time": 7.224043589,
             "test": [
              0.05025004666
             ]
            },
            {
             "iteration": 84,
             "learn": [
              0.04966721612
             ],
             "passed_time": 38.35672936,
             "remaining_time": 6.768834593,
             "test": [
              0.04897128498
             ]
            },
            {
             "iteration": 85,
             "learn": [
              0.04847281359
             ],
             "passed_time": 38.77887841,
             "remaining_time": 6.312840671,
             "test": [
              0.04777097188
             ]
            },
            {
             "iteration": 86,
             "learn": [
              0.04735210051
             ],
             "passed_time": 39.2034104,
             "remaining_time": 5.857980864,
             "test": [
              0.0466182167
             ]
            },
            {
             "iteration": 87,
             "learn": [
              0.04622601042
             ],
             "passed_time": 39.63258351,
             "remaining_time": 5.404443206,
             "test": [
              0.04544300211
             ]
            },
            {
             "iteration": 88,
             "learn": [
              0.04508697121
             ],
             "passed_time": 40.06027052,
             "remaining_time": 4.95126939,
             "test": [
              0.04430620905
             ]
            },
            {
             "iteration": 89,
             "learn": [
              0.04407486815
             ],
             "passed_time": 40.47829168,
             "remaining_time": 4.497587964,
             "test": [
              0.0432414899
             ]
            },
            {
             "iteration": 90,
             "learn": [
              0.04300184312
             ],
             "passed_time": 40.94451362,
             "remaining_time": 4.049457391,
             "test": [
              0.04221564128
             ]
            },
            {
             "iteration": 91,
             "learn": [
              0.04202668717
             ],
             "passed_time": 41.3616906,
             "remaining_time": 3.596668748,
             "test": [
              0.04121008719
             ]
            },
            {
             "iteration": 92,
             "learn": [
              0.04102539653
             ],
             "passed_time": 41.82301576,
             "remaining_time": 3.147968928,
             "test": [
              0.04016366924
             ]
            },
            {
             "iteration": 93,
             "learn": [
              0.04010712302
             ],
             "passed_time": 42.25887244,
             "remaining_time": 2.697374837,
             "test": [
              0.03921466267
             ]
            },
            {
             "iteration": 94,
             "learn": [
              0.03913828764
             ],
             "passed_time": 42.68674735,
             "remaining_time": 2.246670913,
             "test": [
              0.03825840349
             ]
            },
            {
             "iteration": 95,
             "learn": [
              0.03824823029
             ],
             "passed_time": 43.14586282,
             "remaining_time": 1.797744284,
             "test": [
              0.03730897646
             ]
            },
            {
             "iteration": 96,
             "learn": [
              0.03736929462
             ],
             "passed_time": 43.58081179,
             "remaining_time": 1.347860159,
             "test": [
              0.03641967076
             ]
            },
            {
             "iteration": 97,
             "learn": [
              0.03655231817
             ],
             "passed_time": 44.0850861,
             "remaining_time": 0.8996956347,
             "test": [
              0.0355821897
             ]
            },
            {
             "iteration": 98,
             "learn": [
              0.03571578393
             ],
             "passed_time": 44.54535713,
             "remaining_time": 0.4499531023,
             "test": [
              0.03471116602
             ]
            },
            {
             "iteration": 99,
             "learn": [
              0.03492216698
             ],
             "passed_time": 44.97541919,
             "remaining_time": 0,
             "test": [
              0.03390451688
             ]
            }
           ],
           "meta": {
            "iteration_count": 100,
            "launch_mode": "Train",
            "learn_metrics": [
             {
              "best_value": "Min",
              "name": "CrossEntropy"
             }
            ],
            "learn_sets": [
             "learn"
            ],
            "name": "experiment",
            "parameters": "",
            "test_metrics": [
             {
              "best_value": "Min",
              "name": "CrossEntropy"
             }
            ],
            "test_sets": [
             "test"
            ]
           }
          },
          "passed_iterations": 99,
          "total_iterations": 100
         },
         "name": "catboost_info",
         "path": "catboost_info"
        }
       },
       "layout": "IPY_MODEL_2d4580425d3342c7967900b111e43d0a"
      }
     },
     "466d87193dde4cd688d12d1b40f931cc": {
      "model_module": "catboost-widget",
      "model_module_version": "^1.0.0",
      "model_name": "CatboostWidgetModel",
      "state": {
       "_dom_classes": [],
       "_model_module": "catboost-widget",
       "_model_module_version": "^1.0.0",
       "_model_name": "CatboostWidgetModel",
       "_view_count": null,
       "_view_module": "catboost-widget",
       "_view_module_version": "^1.0.0",
       "_view_name": "CatboostWidgetView",
       "data": {
        "catboost_info": {
         "content": {
          "data": {
           "iterations": [
            {
             "iteration": 0,
             "learn": [
              0.6613847756
             ],
             "passed_time": 0.3710086272,
             "remaining_time": 36.72985409,
             "test": [
              0.6636033746
             ]
            },
            {
             "iteration": 1,
             "learn": [
              0.6363142146
             ],
             "passed_time": 0.7663824304,
             "remaining_time": 37.55273909,
             "test": [
              0.6357810043
             ]
            },
            {
             "iteration": 2,
             "learn": [
              0.6093929023
             ],
             "passed_time": 1.13315545,
             "remaining_time": 36.63869288,
             "test": [
              0.6095318419
             ]
            },
            {
             "iteration": 3,
             "learn": [
              0.5837460494
             ],
             "passed_time": 1.529899813,
             "remaining_time": 36.71759551,
             "test": [
              0.58472762
             ]
            },
            {
             "iteration": 4,
             "learn": [
              0.5622255501
             ],
             "passed_time": 1.901695508,
             "remaining_time": 36.13221465,
             "test": [
              0.5612551134
             ]
            },
            {
             "iteration": 5,
             "learn": [
              0.5377926047
             ],
             "passed_time": 2.270714974,
             "remaining_time": 35.57453459,
             "test": [
              0.5390153221
             ]
            },
            {
             "iteration": 6,
             "learn": [
              0.516924369
             ],
             "passed_time": 2.671273752,
             "remaining_time": 35.48977985,
             "test": [
              0.5179115821
             ]
            },
            {
             "iteration": 7,
             "learn": [
              0.4987400894
             ],
             "passed_time": 3.038585987,
             "remaining_time": 34.94373885,
             "test": [
              0.4978651098
             ]
            },
            {
             "iteration": 8,
             "learn": [
              0.4785817136
             ],
             "passed_time": 3.430604993,
             "remaining_time": 34.68722826,
             "test": [
              0.4788040952
             ]
            },
            {
             "iteration": 9,
             "learn": [
              0.4606316514
             ],
             "passed_time": 3.894003908,
             "remaining_time": 35.04603517,
             "test": [
              0.4606611255
             ]
            },
            {
             "iteration": 10,
             "learn": [
              0.4439235954
             ],
             "passed_time": 4.28166243,
             "remaining_time": 34.64254148,
             "test": [
              0.4433739231
             ]
            },
            {
             "iteration": 11,
             "learn": [
              0.4281182116
             ],
             "passed_time": 4.720927078,
             "remaining_time": 34.6201319,
             "test": [
              0.4268906032
             ]
            },
            {
             "iteration": 12,
             "learn": [
              0.4122385397
             ],
             "passed_time": 5.17376694,
             "remaining_time": 34.62444029,
             "test": [
              0.4111605989
             ]
            },
            {
             "iteration": 13,
             "learn": [
              0.3968629092
             ],
             "passed_time": 5.585201962,
             "remaining_time": 34.30909776,
             "test": [
              0.3961365998
             ]
            },
            {
             "iteration": 14,
             "learn": [
              0.3824948406
             ],
             "passed_time": 5.992312839,
             "remaining_time": 33.95643942,
             "test": [
              0.3817790169
             ]
            },
            {
             "iteration": 15,
             "learn": [
              0.3674328494
             ],
             "passed_time": 6.399568458,
             "remaining_time": 33.59773441,
             "test": [
              0.3680449551
             ]
            },
            {
             "iteration": 16,
             "learn": [
              0.3540545404
             ],
             "passed_time": 6.860223743,
             "remaining_time": 33.49403357,
             "test": [
              0.3549019016
             ]
            },
            {
             "iteration": 17,
             "learn": [
              0.3432652537
             ],
             "passed_time": 7.240706376,
             "remaining_time": 32.98544016,
             "test": [
              0.3423152976
             ]
            },
            {
             "iteration": 18,
             "learn": [
              0.3301878529
             ],
             "passed_time": 7.645297722,
             "remaining_time": 32.59311134,
             "test": [
              0.3302563119
             ]
            },
            {
             "iteration": 19,
             "learn": [
              0.3197778256
             ],
             "passed_time": 8.017690278,
             "remaining_time": 32.07076111,
             "test": [
              0.3186964204
             ]
            },
            {
             "iteration": 20,
             "learn": [
              0.3071418292
             ],
             "passed_time": 8.4863636,
             "remaining_time": 31.92489164,
             "test": [
              0.307608961
             ]
            },
            {
             "iteration": 21,
             "learn": [
              0.2970044436
             ],
             "passed_time": 8.921550417,
             "remaining_time": 31.63095148,
             "test": [
              0.2969697899
             ]
            },
            {
             "iteration": 22,
             "learn": [
              0.2869346263
             ],
             "passed_time": 9.352291382,
             "remaining_time": 31.30984506,
             "test": [
              0.2867559627
             ]
            },
            {
             "iteration": 23,
             "learn": [
              0.2766396131
             ],
             "passed_time": 9.811635025,
             "remaining_time": 31.07017758,
             "test": [
              0.2769458968
             ]
            },
            {
             "iteration": 24,
             "learn": [
              0.2666483194
             ],
             "passed_time": 10.16308843,
             "remaining_time": 30.48926528,
             "test": [
              0.2675194402
             ]
            },
            {
             "iteration": 25,
             "learn": [
              0.2581442774
             ],
             "passed_time": 10.55519443,
             "remaining_time": 30.04170723,
             "test": [
              0.2584592603
             ]
            },
            {
             "iteration": 26,
             "learn": [
              0.2500939082
             ],
             "passed_time": 10.97689935,
             "remaining_time": 29.67828343,
             "test": [
              0.2497472712
             ]
            },
            {
             "iteration": 27,
             "learn": [
              0.2421059606
             ],
             "passed_time": 11.42849573,
             "remaining_time": 29.38756045,
             "test": [
              0.2413669756
             ]
            },
            {
             "iteration": 28,
             "learn": [
              0.2338249223
             ],
             "passed_time": 11.82421855,
             "remaining_time": 28.94894887,
             "test": [
              0.233303138
             ]
            },
            {
             "iteration": 29,
             "learn": [
              0.2259971556
             ],
             "passed_time": 12.24493667,
             "remaining_time": 28.5715189,
             "test": [
              0.2255418552
             ]
            },
            {
             "iteration": 30,
             "learn": [
              0.2186742049
             ],
             "passed_time": 12.70449562,
             "remaining_time": 28.27774831,
             "test": [
              0.2180687394
             ]
            },
            {
             "iteration": 31,
             "learn": [
              0.2111133022
             ],
             "passed_time": 13.13258806,
             "remaining_time": 27.90674962,
             "test": [
              0.2108714527
             ]
            },
            {
             "iteration": 32,
             "learn": [
              0.2035489466
             ],
             "passed_time": 13.53230113,
             "remaining_time": 27.47467199,
             "test": [
              0.2039392124
             ]
            },
            {
             "iteration": 33,
             "learn": [
              0.1966834683
             ],
             "passed_time": 14.01486388,
             "remaining_time": 27.20532401,
             "test": [
              0.1972584905
             ]
            },
            {
             "iteration": 34,
             "learn": [
              0.1913326072
             ],
             "passed_time": 14.49253583,
             "remaining_time": 26.91470941,
             "test": [
              0.1908192392
             ]
            },
            {
             "iteration": 35,
             "learn": [
              0.1841276433
             ],
             "passed_time": 14.88807043,
             "remaining_time": 26.46768076,
             "test": [
              0.1846103786
             ]
            },
            {
             "iteration": 36,
             "learn": [
              0.1789302231
             ],
             "passed_time": 15.32527825,
             "remaining_time": 26.09439269,
             "test": [
              0.1786225836
             ]
            },
            {
             "iteration": 37,
             "learn": [
              0.1724116008
             ],
             "passed_time": 15.7649638,
             "remaining_time": 25.72178305,
             "test": [
              0.1728461168
             ]
            },
            {
             "iteration": 38,
             "learn": [
              0.1678485277
             ],
             "passed_time": 16.20646971,
             "remaining_time": 25.34858082,
             "test": [
              0.1672731143
             ]
            },
            {
             "iteration": 39,
             "learn": [
              0.1616487376
             ],
             "passed_time": 16.65653376,
             "remaining_time": 24.98480063,
             "test": [
              0.1618953117
             ]
            },
            {
             "iteration": 40,
             "learn": [
              0.1565418026
             ],
             "passed_time": 17.07967379,
             "remaining_time": 24.57806716,
             "test": [
              0.1567054883
             ]
            },
            {
             "iteration": 41,
             "learn": [
              0.1522173405
             ],
             "passed_time": 17.5965513,
             "remaining_time": 24.29999941,
             "test": [
              0.1516958076
             ]
            },
            {
             "iteration": 42,
             "learn": [
              0.1472151937
             ],
             "passed_time": 17.96427585,
             "remaining_time": 23.81310985,
             "test": [
              0.1468578879
             ]
            },
            {
             "iteration": 43,
             "learn": [
              0.1420952276
             ],
             "passed_time": 18.43166029,
             "remaining_time": 23.45847673,
             "test": [
              0.1421874863
             ]
            },
            {
             "iteration": 44,
             "learn": [
              0.1373504937
             ],
             "passed_time": 18.79746449,
             "remaining_time": 22.97467882,
             "test": [
              0.1376753481
             ]
            },
            {
             "iteration": 45,
             "learn": [
              0.1331463501
             ],
             "passed_time": 19.24029276,
             "remaining_time": 22.58643063,
             "test": [
              0.1333169771
             ]
            },
            {
             "iteration": 46,
             "learn": [
              0.1291473421
             ],
             "passed_time": 19.64840016,
             "remaining_time": 22.15670657,
             "test": [
              0.1291055687
             ]
            },
            {
             "iteration": 47,
             "learn": [
              0.1252188422
             ],
             "passed_time": 20.08866634,
             "remaining_time": 21.76272187,
             "test": [
              0.1250368096
             ]
            },
            {
             "iteration": 48,
             "learn": [
              0.1213111298
             ],
             "passed_time": 20.55170915,
             "remaining_time": 21.39055442,
             "test": [
              0.1211038756
             ]
            },
            {
             "iteration": 49,
             "learn": [
              0.1174263639
             ],
             "passed_time": 20.96751598,
             "remaining_time": 20.96751598,
             "test": [
              0.1173026396
             ]
            },
            {
             "iteration": 50,
             "learn": [
              0.1135673244
             ],
             "passed_time": 21.3694388,
             "remaining_time": 20.53142159,
             "test": [
              0.1136276789
             ]
            },
            {
             "iteration": 51,
             "learn": [
              0.1100155181
             ],
             "passed_time": 21.79669026,
             "remaining_time": 20.12002178,
             "test": [
              0.1100755203
             ]
            },
            {
             "iteration": 52,
             "learn": [
              0.1071555978
             ],
             "passed_time": 22.20272674,
             "remaining_time": 19.6892105,
             "test": [
              0.1066402245
             ]
            },
            {
             "iteration": 53,
             "learn": [
              0.1036550503
             ],
             "passed_time": 22.6505508,
             "remaining_time": 19.29491365,
             "test": [
              0.1033180302
             ]
            },
            {
             "iteration": 54,
             "learn": [
              0.09998640611
             ],
             "passed_time": 23.04648141,
             "remaining_time": 18.85621206,
             "test": [
              0.1001046815
             ]
            },
            {
             "iteration": 55,
             "learn": [
              0.09739526012
             ],
             "passed_time": 23.43474803,
             "remaining_time": 18.41301631,
             "test": [
              0.09699674303
             ]
            },
            {
             "iteration": 56,
             "learn": [
              0.09402587747
             ],
             "passed_time": 23.81244782,
             "remaining_time": 17.96377643,
             "test": [
              0.09398936088
             ]
            },
            {
             "iteration": 57,
             "learn": [
              0.09148419983
             ],
             "passed_time": 24.22436907,
             "remaining_time": 17.5417845,
             "test": [
              0.09107989014
             ]
            },
            {
             "iteration": 58,
             "learn": [
              0.08821775983
             ],
             "passed_time": 24.63829862,
             "remaining_time": 17.12152955,
             "test": [
              0.08826532081
             ]
            },
            {
             "iteration": 59,
             "learn": [
              0.08575229113
             ],
             "passed_time": 25.09047294,
             "remaining_time": 16.72698196,
             "test": [
              0.08554293689
             ]
            },
            {
             "iteration": 60,
             "learn": [
              0.08286479818
             ],
             "passed_time": 25.51565025,
             "remaining_time": 16.31328458,
             "test": [
              0.08290781234
             ]
            },
            {
             "iteration": 61,
             "learn": [
              0.08038127166
             ],
             "passed_time": 25.97387045,
             "remaining_time": 15.91946898,
             "test": [
              0.08035666687
             ]
            },
            {
             "iteration": 62,
             "learn": [
              0.07824386318
             ],
             "passed_time": 26.41979622,
             "remaining_time": 15.51638826,
             "test": [
              0.07788754874
             ]
            },
            {
             "iteration": 63,
             "learn": [
              0.07577793687
             ],
             "passed_time": 26.93431406,
             "remaining_time": 15.15055166,
             "test": [
              0.07549758523
             ]
            },
            {
             "iteration": 64,
             "learn": [
              0.07324244608
             ],
             "passed_time": 27.39666269,
             "remaining_time": 14.75204914,
             "test": [
              0.07318336075
             ]
            },
            {
             "iteration": 65,
             "learn": [
              0.07087722129
             ],
             "passed_time": 27.84852429,
             "remaining_time": 14.34620948,
             "test": [
              0.07094382195
             ]
            },
            {
             "iteration": 66,
             "learn": [
              0.06875316288
             ],
             "passed_time": 28.60324198,
             "remaining_time": 14.08816396,
             "test": [
              0.06877413542
             ]
            },
            {
             "iteration": 67,
             "learn": [
              0.06673040221
             ],
             "passed_time": 29.11834406,
             "remaining_time": 13.70275015,
             "test": [
              0.0666730723
             ]
            },
            {
             "iteration": 68,
             "learn": [
              0.06476193468
             ],
             "passed_time": 29.60398682,
             "remaining_time": 13.3003419,
             "test": [
              0.06463954944
             ]
            },
            {
             "iteration": 69,
             "learn": [
              0.06280860279
             ],
             "passed_time": 29.99460379,
             "remaining_time": 12.85483019,
             "test": [
              0.06266947674
             ]
            },
            {
             "iteration": 70,
             "learn": [
              0.06086882724
             ],
             "passed_time": 30.42829475,
             "remaining_time": 12.42845842,
             "test": [
              0.06076162948
             ]
            },
            {
             "iteration": 71,
             "learn": [
              0.05896118893
             ],
             "passed_time": 30.83163364,
             "remaining_time": 11.99007975,
             "test": [
              0.05891346122
             ]
            },
            {
             "iteration": 72,
             "learn": [
              0.05716293353
             ],
             "passed_time": 31.25018184,
             "remaining_time": 11.55828643,
             "test": [
              0.05712307508
             ]
            },
            {
             "iteration": 73,
             "learn": [
              0.05573461631
             ],
             "passed_time": 31.64918565,
             "remaining_time": 11.11998415,
             "test": [
              0.0553883309
             ]
            },
            {
             "iteration": 74,
             "learn": [
              0.05396417142
             ],
             "passed_time": 31.91689254,
             "remaining_time": 10.63896418,
             "test": [
              0.05370544786
             ]
            },
            {
             "iteration": 75,
             "learn": [
              0.05212555363
             ],
             "passed_time": 32.33555734,
             "remaining_time": 10.21122863,
             "test": [
              0.05207850426
             ]
            },
            {
             "iteration": 76,
             "learn": [
              0.05082493903
             ],
             "passed_time": 32.78499797,
             "remaining_time": 9.792921472,
             "test": [
              0.05050180437
             ]
            },
            {
             "iteration": 77,
             "learn": [
              0.04913787843
             ],
             "passed_time": 33.21866662,
             "remaining_time": 9.369367508,
             "test": [
              0.04897362344
             ]
            },
            {
             "iteration": 78,
             "learn": [
              0.04755915577
             ],
             "passed_time": 33.60503895,
             "remaining_time": 8.932985038,
             "test": [
              0.04749330883
             ]
            },
            {
             "iteration": 79,
             "learn": [
              0.04621760284
             ],
             "passed_time": 34.04801968,
             "remaining_time": 8.512004921,
             "test": [
              0.0460590567
             ]
            },
            {
             "iteration": 80,
             "learn": [
              0.04495023233
             ],
             "passed_time": 34.42962091,
             "remaining_time": 8.076083918,
             "test": [
              0.04466841006
             ]
            },
            {
             "iteration": 81,
             "learn": [
              0.04338672416
             ],
             "passed_time": 34.90322604,
             "remaining_time": 7.661683766,
             "test": [
              0.04332176486
             ]
            },
            {
             "iteration": 82,
             "learn": [
              0.04226420244
             ],
             "passed_time": 35.32719476,
             "remaining_time": 7.235690494,
             "test": [
              0.04201685367
             ]
            },
            {
             "iteration": 83,
             "learn": [
              0.04102703797
             ],
             "passed_time": 35.80807667,
             "remaining_time": 6.820586032,
             "test": [
              0.04075217092
             ]
            },
            {
             "iteration": 84,
             "learn": [
              0.03967102877
             ],
             "passed_time": 36.26369975,
             "remaining_time": 6.399476426,
             "test": [
              0.03952652481
             ]
            },
            {
             "iteration": 85,
             "learn": [
              0.03842990237
             ],
             "passed_time": 36.59625396,
             "remaining_time": 5.957529715,
             "test": [
              0.03833527082
             ]
            },
            {
             "iteration": 86,
             "learn": [
              0.03739631007
             ],
             "passed_time": 37.00458378,
             "remaining_time": 5.529420565,
             "test": [
              0.03718308803
             ]
            },
            {
             "iteration": 87,
             "learn": [
              0.03635033619
             ],
             "passed_time": 37.45838856,
             "remaining_time": 5.107962076,
             "test": [
              0.03606668294
             ]
            },
            {
             "iteration": 88,
             "learn": [
              0.03517476578
             ],
             "passed_time": 37.7918304,
             "remaining_time": 4.670900387,
             "test": [
              0.03498420894
             ]
            },
            {
             "iteration": 89,
             "learn": [
              0.03413755339
             ],
             "passed_time": 38.20217965,
             "remaining_time": 4.244686628,
             "test": [
              0.03393505913
             ]
            },
            {
             "iteration": 90,
             "learn": [
              0.03312308264
             ],
             "passed_time": 38.68359741,
             "remaining_time": 3.825850293,
             "test": [
              0.03291528411
             ]
            },
            {
             "iteration": 91,
             "learn": [
              0.03212855964
             ],
             "passed_time": 39.06061431,
             "remaining_time": 3.396575158,
             "test": [
              0.03192710914
             ]
            },
            {
             "iteration": 92,
             "learn": [
              0.03114915478
             ],
             "passed_time": 39.53011975,
             "remaining_time": 2.975385357,
             "test": [
              0.03096876207
             ]
            },
            {
             "iteration": 93,
             "learn": [
              0.03019817143
             ],
             "passed_time": 39.88308815,
             "remaining_time": 2.545729031,
             "test": [
              0.03004046377
             ]
            },
            {
             "iteration": 94,
             "learn": [
              0.02925018581
             ],
             "passed_time": 40.15541856,
             "remaining_time": 2.113443082,
             "test": [
              0.02913956515
             ]
            },
            {
             "iteration": 95,
             "learn": [
              0.02848926164
             ],
             "passed_time": 40.4342151,
             "remaining_time": 1.684758962,
             "test": [
              0.02826645553
             ]
            },
            {
             "iteration": 96,
             "learn": [
              0.02759164767
             ],
             "passed_time": 40.70765463,
             "remaining_time": 1.258999628,
             "test": [
              0.02741957045
             ]
            },
            {
             "iteration": 97,
             "learn": [
              0.02669050049
             ],
             "passed_time": 41.11808366,
             "remaining_time": 0.8391445645,
             "test": [
              0.02660149062
             ]
            },
            {
             "iteration": 98,
             "learn": [
              0.02602395786
             ],
             "passed_time": 41.51104361,
             "remaining_time": 0.4193034708,
             "test": [
              0.02580780643
             ]
            },
            {
             "iteration": 99,
             "learn": [
              0.02515883728
             ],
             "passed_time": 41.78517786,
             "remaining_time": 0,
             "test": [
              0.02503531299
             ]
            }
           ],
           "meta": {
            "iteration_count": 100,
            "launch_mode": "Train",
            "learn_metrics": [
             {
              "best_value": "Min",
              "name": "CrossEntropy"
             }
            ],
            "learn_sets": [
             "learn"
            ],
            "name": "experiment",
            "parameters": "",
            "test_metrics": [
             {
              "best_value": "Min",
              "name": "CrossEntropy"
             }
            ],
            "test_sets": [
             "test"
            ]
           }
          },
          "passed_iterations": 99,
          "total_iterations": 100
         },
         "name": "catboost_info",
         "path": "catboost_info"
        }
       },
       "layout": "IPY_MODEL_331169a01a1346bfa45e35f25a0f921f"
      }
     },
     "47a461f6cc7c4d00b0d9b72638b05996": {
      "model_module": "@jupyter-widgets/base",
      "model_module_version": "1.2.0",
      "model_name": "LayoutModel",
      "state": {
       "_model_module": "@jupyter-widgets/base",
       "_model_module_version": "1.2.0",
       "_model_name": "LayoutModel",
       "_view_count": null,
       "_view_module": "@jupyter-widgets/base",
       "_view_module_version": "1.2.0",
       "_view_name": "LayoutView",
       "align_content": null,
       "align_items": null,
       "align_self": "stretch",
       "border": null,
       "bottom": null,
       "display": null,
       "flex": null,
       "flex_flow": null,
       "grid_area": null,
       "grid_auto_columns": null,
       "grid_auto_flow": null,
       "grid_auto_rows": null,
       "grid_column": null,
       "grid_gap": null,
       "grid_row": null,
       "grid_template_areas": null,
       "grid_template_columns": null,
       "grid_template_rows": null,
       "height": "500px",
       "justify_content": null,
       "justify_items": null,
       "left": null,
       "margin": null,
       "max_height": null,
       "max_width": null,
       "min_height": null,
       "min_width": null,
       "object_fit": null,
       "object_position": null,
       "order": null,
       "overflow": null,
       "overflow_x": null,
       "overflow_y": null,
       "padding": null,
       "right": null,
       "top": null,
       "visibility": null,
       "width": null
      }
     },
     "54bdf1580c414539bb0c90cedff94e61": {
      "model_module": "@jupyter-widgets/base",
      "model_module_version": "1.2.0",
      "model_name": "LayoutModel",
      "state": {
       "_model_module": "@jupyter-widgets/base",
       "_model_module_version": "1.2.0",
       "_model_name": "LayoutModel",
       "_view_count": null,
       "_view_module": "@jupyter-widgets/base",
       "_view_module_version": "1.2.0",
       "_view_name": "LayoutView",
       "align_content": null,
       "align_items": null,
       "align_self": "stretch",
       "border": null,
       "bottom": null,
       "display": null,
       "flex": null,
       "flex_flow": null,
       "grid_area": null,
       "grid_auto_columns": null,
       "grid_auto_flow": null,
       "grid_auto_rows": null,
       "grid_column": null,
       "grid_gap": null,
       "grid_row": null,
       "grid_template_areas": null,
       "grid_template_columns": null,
       "grid_template_rows": null,
       "height": "500px",
       "justify_content": null,
       "justify_items": null,
       "left": null,
       "margin": null,
       "max_height": null,
       "max_width": null,
       "min_height": null,
       "min_width": null,
       "object_fit": null,
       "object_position": null,
       "order": null,
       "overflow": null,
       "overflow_x": null,
       "overflow_y": null,
       "padding": null,
       "right": null,
       "top": null,
       "visibility": null,
       "width": null
      }
     },
     "55e8a970727c43bdbe769ed4164acde9": {
      "model_module": "@jupyter-widgets/base",
      "model_module_version": "1.2.0",
      "model_name": "LayoutModel",
      "state": {
       "_model_module": "@jupyter-widgets/base",
       "_model_module_version": "1.2.0",
       "_model_name": "LayoutModel",
       "_view_count": null,
       "_view_module": "@jupyter-widgets/base",
       "_view_module_version": "1.2.0",
       "_view_name": "LayoutView",
       "align_content": null,
       "align_items": null,
       "align_self": "stretch",
       "border": null,
       "bottom": null,
       "display": null,
       "flex": null,
       "flex_flow": null,
       "grid_area": null,
       "grid_auto_columns": null,
       "grid_auto_flow": null,
       "grid_auto_rows": null,
       "grid_column": null,
       "grid_gap": null,
       "grid_row": null,
       "grid_template_areas": null,
       "grid_template_columns": null,
       "grid_template_rows": null,
       "height": "500px",
       "justify_content": null,
       "justify_items": null,
       "left": null,
       "margin": null,
       "max_height": null,
       "max_width": null,
       "min_height": null,
       "min_width": null,
       "object_fit": null,
       "object_position": null,
       "order": null,
       "overflow": null,
       "overflow_x": null,
       "overflow_y": null,
       "padding": null,
       "right": null,
       "top": null,
       "visibility": null,
       "width": null
      }
     },
     "645066c45f7c41e39c049ee9e30e3842": {
      "model_module": "@jupyter-widgets/base",
      "model_module_version": "1.2.0",
      "model_name": "LayoutModel",
      "state": {
       "_model_module": "@jupyter-widgets/base",
       "_model_module_version": "1.2.0",
       "_model_name": "LayoutModel",
       "_view_count": null,
       "_view_module": "@jupyter-widgets/base",
       "_view_module_version": "1.2.0",
       "_view_name": "LayoutView",
       "align_content": null,
       "align_items": null,
       "align_self": "stretch",
       "border": null,
       "bottom": null,
       "display": null,
       "flex": null,
       "flex_flow": null,
       "grid_area": null,
       "grid_auto_columns": null,
       "grid_auto_flow": null,
       "grid_auto_rows": null,
       "grid_column": null,
       "grid_gap": null,
       "grid_row": null,
       "grid_template_areas": null,
       "grid_template_columns": null,
       "grid_template_rows": null,
       "height": "500px",
       "justify_content": null,
       "justify_items": null,
       "left": null,
       "margin": null,
       "max_height": null,
       "max_width": null,
       "min_height": null,
       "min_width": null,
       "object_fit": null,
       "object_position": null,
       "order": null,
       "overflow": null,
       "overflow_x": null,
       "overflow_y": null,
       "padding": null,
       "right": null,
       "top": null,
       "visibility": null,
       "width": null
      }
     },
     "66fe725ffa164d2581b9265cfe28d634": {
      "model_module": "catboost-widget",
      "model_module_version": "^1.0.0",
      "model_name": "CatboostWidgetModel",
      "state": {
       "_dom_classes": [],
       "_model_module": "catboost-widget",
       "_model_module_version": "^1.0.0",
       "_model_name": "CatboostWidgetModel",
       "_view_count": null,
       "_view_module": "catboost-widget",
       "_view_module_version": "^1.0.0",
       "_view_name": "CatboostWidgetView",
       "data": {
        "catboost_info": {
         "content": {
          "data": {
           "iterations": [
            {
             "iteration": 0,
             "learn": [
              0.6692867105
             ],
             "passed_time": 0.4680400348,
             "remaining_time": 46.33596345,
             "test": [
              0.6691835096
             ]
            },
            {
             "iteration": 1,
             "learn": [
              0.6489769454
             ],
             "passed_time": 0.8734190888,
             "remaining_time": 42.79753535,
             "test": [
              0.646935841
             ]
            },
            {
             "iteration": 2,
             "learn": [
              0.6259769725
             ],
             "passed_time": 1.278802481,
             "remaining_time": 41.34794688,
             "test": [
              0.6253964151
             ]
            },
            {
             "iteration": 3,
             "learn": [
              0.6068662893
             ],
             "passed_time": 1.707759393,
             "remaining_time": 40.98622543,
             "test": [
              0.6056880787
             ]
            },
            {
             "iteration": 4,
             "learn": [
              0.5880520416
             ],
             "passed_time": 2.149191576,
             "remaining_time": 40.83463994,
             "test": [
              0.5864811397
             ]
            },
            {
             "iteration": 5,
             "learn": [
              0.5711987771
             ],
             "passed_time": 2.583940666,
             "remaining_time": 40.4817371,
             "test": [
              0.5682964656
             ]
            },
            {
             "iteration": 6,
             "learn": [
              0.5529904509
             ],
             "passed_time": 2.982384414,
             "remaining_time": 39.62310721,
             "test": [
              0.5512703725
             ]
            },
            {
             "iteration": 7,
             "learn": [
              0.5377209386
             ],
             "passed_time": 3.416207355,
             "remaining_time": 39.28638458,
             "test": [
              0.5348522169
             ]
            },
            {
             "iteration": 8,
             "learn": [
              0.5225211188
             ],
             "passed_time": 3.801918443,
             "remaining_time": 38.44161981,
             "test": [
              0.5190904409
             ]
            },
            {
             "iteration": 9,
             "learn": [
              0.5071031163
             ],
             "passed_time": 4.199286178,
             "remaining_time": 37.7935756,
             "test": [
              0.5031955705
             ]
            },
            {
             "iteration": 10,
             "learn": [
              0.4925478982
             ],
             "passed_time": 4.58777664,
             "remaining_time": 37.11928372,
             "test": [
              0.4892050982
             ]
            },
            {
             "iteration": 11,
             "learn": [
              0.4793682151
             ],
             "passed_time": 4.977811872,
             "remaining_time": 36.50395373,
             "test": [
              0.4758124945
             ]
            },
            {
             "iteration": 12,
             "learn": [
              0.4660419353
             ],
             "passed_time": 5.416653089,
             "remaining_time": 36.24990914,
             "test": [
              0.4620098053
             ]
            },
            {
             "iteration": 13,
             "learn": [
              0.4540538119
             ],
             "passed_time": 5.778553474,
             "remaining_time": 35.49682848,
             "test": [
              0.4496638824
             ]
            },
            {
             "iteration": 14,
             "learn": [
              0.4422271161
             ],
             "passed_time": 6.188159762,
             "remaining_time": 35.06623865,
             "test": [
              0.4380078879
             ]
            },
            {
             "iteration": 15,
             "learn": [
              0.4307555329
             ],
             "passed_time": 6.57958336,
             "remaining_time": 34.54281264,
             "test": [
              0.4258399829
             ]
            },
            {
             "iteration": 16,
             "learn": [
              0.4196535735
             ],
             "passed_time": 6.966462644,
             "remaining_time": 34.01272938,
             "test": [
              0.4142692412
             ]
            },
            {
             "iteration": 17,
             "learn": [
              0.4085511749
             ],
             "passed_time": 7.361376944,
             "remaining_time": 33.53516164,
             "test": [
              0.4030605419
             ]
            },
            {
             "iteration": 18,
             "learn": [
              0.3983772297
             ],
             "passed_time": 7.756565747,
             "remaining_time": 33.0674645,
             "test": [
              0.3925092021
             ]
            },
            {
             "iteration": 19,
             "learn": [
              0.3882479107
             ],
             "passed_time": 8.151225157,
             "remaining_time": 32.60490063,
             "test": [
              0.3822928495
             ]
            },
            {
             "iteration": 20,
             "learn": [
              0.3791542406
             ],
             "passed_time": 8.578969917,
             "remaining_time": 32.27326778,
             "test": [
              0.3728336722
             ]
            },
            {
             "iteration": 21,
             "learn": [
              0.3699372493
             ],
             "passed_time": 8.979089359,
             "remaining_time": 31.83495318,
             "test": [
              0.3633248435
             ]
            },
            {
             "iteration": 22,
             "learn": [
              0.3610073655
             ],
             "passed_time": 9.380701739,
             "remaining_time": 31.404958,
             "test": [
              0.354259248
             ]
            },
            {
             "iteration": 23,
             "learn": [
              0.3529295566
             ],
             "passed_time": 9.776798153,
             "remaining_time": 30.95986082,
             "test": [
              0.3457279082
             ]
            },
            {
             "iteration": 24,
             "learn": [
              0.3451210273
             ],
             "passed_time": 10.24357351,
             "remaining_time": 30.73072053,
             "test": [
              0.3379322434
             ]
            },
            {
             "iteration": 25,
             "learn": [
              0.3372409502
             ],
             "passed_time": 10.69893724,
             "remaining_time": 30.45082139,
             "test": [
              0.330301393
             ]
            },
            {
             "iteration": 26,
             "learn": [
              0.3298619571
             ],
             "passed_time": 11.0869041,
             "remaining_time": 29.97570368,
             "test": [
              0.3228679708
             ]
            },
            {
             "iteration": 27,
             "learn": [
              0.3224820081
             ],
             "passed_time": 11.48938891,
             "remaining_time": 29.54414291,
             "test": [
              0.3155461383
             ]
            },
            {
             "iteration": 28,
             "learn": [
              0.3156837806
             ],
             "passed_time": 11.91384347,
             "remaining_time": 29.1683754,
             "test": [
              0.3086357516
             ]
            },
            {
             "iteration": 29,
             "learn": [
              0.3087791825
             ],
             "passed_time": 12.3638267,
             "remaining_time": 28.84892897,
             "test": [
              0.301503332
             ]
            },
            {
             "iteration": 30,
             "learn": [
              0.3024133354
             ],
             "passed_time": 12.81916816,
             "remaining_time": 28.53298719,
             "test": [
              0.295043836
             ]
            },
            {
             "iteration": 31,
             "learn": [
              0.2964357185
             ],
             "passed_time": 13.22843317,
             "remaining_time": 28.1104205,
             "test": [
              0.2889537374
             ]
            },
            {
             "iteration": 32,
             "learn": [
              0.2904542144
             ],
             "passed_time": 13.65526014,
             "remaining_time": 27.72431604,
             "test": [
              0.2828787404
             ]
            },
            {
             "iteration": 33,
             "learn": [
              0.2851027934
             ],
             "passed_time": 14.01895079,
             "remaining_time": 27.21325741,
             "test": [
              0.2775107449
             ]
            },
            {
             "iteration": 34,
             "learn": [
              0.2795760752
             ],
             "passed_time": 14.47804911,
             "remaining_time": 26.88780548,
             "test": [
              0.2718788947
             ]
            },
            {
             "iteration": 35,
             "learn": [
              0.2742064942
             ],
             "passed_time": 14.92252445,
             "remaining_time": 26.52893235,
             "test": [
              0.2663655827
             ]
            },
            {
             "iteration": 36,
             "learn": [
              0.2685895339
             ],
             "passed_time": 15.35014781,
             "remaining_time": 26.13673816,
             "test": [
              0.2611575124
             ]
            },
            {
             "iteration": 37,
             "learn": [
              0.2640043385
             ],
             "passed_time": 15.71332272,
             "remaining_time": 25.63752655,
             "test": [
              0.2563829512
             ]
            },
            {
             "iteration": 38,
             "learn": [
              0.2592643846
             ],
             "passed_time": 16.152198,
             "remaining_time": 25.2636943,
             "test": [
              0.2516034514
             ]
            },
            {
             "iteration": 39,
             "learn": [
              0.2544204037
             ],
             "passed_time": 16.57255919,
             "remaining_time": 24.85883879,
             "test": [
              0.2467590706
             ]
            },
            {
             "iteration": 40,
             "learn": [
              0.2496819072
             ],
             "passed_time": 16.98218201,
             "remaining_time": 24.43777412,
             "test": [
              0.2421172265
             ]
            },
            {
             "iteration": 41,
             "learn": [
              0.2455068226
             ],
             "passed_time": 17.43741638,
             "remaining_time": 24.08024166,
             "test": [
              0.2376250223
             ]
            },
            {
             "iteration": 42,
             "learn": [
              0.2410263489
             ],
             "passed_time": 17.83416766,
             "remaining_time": 23.64064086,
             "test": [
              0.2334137724
             ]
            },
            {
             "iteration": 43,
             "learn": [
              0.2368906476
             ],
             "passed_time": 18.28593371,
             "remaining_time": 23.27300654,
             "test": [
              0.2292488504
             ]
            },
            {
             "iteration": 44,
             "learn": [
              0.2330130825
             ],
             "passed_time": 18.70145785,
             "remaining_time": 22.85733737,
             "test": [
              0.2255173275
             ]
            },
            {
             "iteration": 45,
             "learn": [
              0.2290356908
             ],
             "passed_time": 19.13897986,
             "remaining_time": 22.46749809,
             "test": [
              0.2217238393
             ]
            },
            {
             "iteration": 46,
             "learn": [
              0.2254132731
             ],
             "passed_time": 19.58981993,
             "remaining_time": 22.090648,
             "test": [
              0.2179881148
             ]
            },
            {
             "iteration": 47,
             "learn": [
              0.2217993744
             ],
             "passed_time": 19.99496899,
             "remaining_time": 21.6612164,
             "test": [
              0.2147466104
             ]
            },
            {
             "iteration": 48,
             "learn": [
              0.2184086636
             ],
             "passed_time": 20.4503875,
             "remaining_time": 21.2850972,
             "test": [
              0.2112963171
             ]
            },
            {
             "iteration": 49,
             "learn": [
              0.2150832194
             ],
             "passed_time": 20.8137203,
             "remaining_time": 20.8137203,
             "test": [
              0.2080379199
             ]
            },
            {
             "iteration": 50,
             "learn": [
              0.2121194527
             ],
             "passed_time": 21.18142262,
             "remaining_time": 20.35077859,
             "test": [
              0.2050074241
             ]
            },
            {
             "iteration": 51,
             "learn": [
              0.2086401154
             ],
             "passed_time": 21.59857541,
             "remaining_time": 19.93714653,
             "test": [
              0.2017470445
             ]
            },
            {
             "iteration": 52,
             "learn": [
              0.2056961026
             ],
             "passed_time": 21.95382159,
             "remaining_time": 19.4684833,
             "test": [
              0.198677061
             ]
            },
            {
             "iteration": 53,
             "learn": [
              0.2027795597
             ],
             "passed_time": 22.3715362,
             "remaining_time": 19.05723454,
             "test": [
              0.1959017557
             ]
            },
            {
             "iteration": 54,
             "learn": [
              0.200006321
             ],
             "passed_time": 22.73220697,
             "remaining_time": 18.59907843,
             "test": [
              0.1929697526
             ]
            },
            {
             "iteration": 55,
             "learn": [
              0.197304499
             ],
             "passed_time": 23.09651885,
             "remaining_time": 18.14726481,
             "test": [
              0.1904008824
             ]
            },
            {
             "iteration": 56,
             "learn": [
              0.1947579409
             ],
             "passed_time": 23.51269251,
             "remaining_time": 17.73764522,
             "test": [
              0.1878793055
             ]
            },
            {
             "iteration": 57,
             "learn": [
              0.1918211891
             ],
             "passed_time": 23.91346994,
             "remaining_time": 17.31665065,
             "test": [
              0.1848892497
             ]
            },
            {
             "iteration": 58,
             "learn": [
              0.1887188085
             ],
             "passed_time": 24.3870315,
             "remaining_time": 16.94692019,
             "test": [
              0.1816034993
             ]
            },
            {
             "iteration": 59,
             "learn": [
              0.1856923323
             ],
             "passed_time": 24.85700427,
             "remaining_time": 16.57133618,
             "test": [
              0.178646436
             ]
            },
            {
             "iteration": 60,
             "learn": [
              0.1833906055
             ],
             "passed_time": 25.35861791,
             "remaining_time": 16.21288686,
             "test": [
              0.1765467502
             ]
            },
            {
             "iteration": 61,
             "learn": [
              0.1811287499
             ],
             "passed_time": 25.93504572,
             "remaining_time": 15.89567318,
             "test": [
              0.1742395587
             ]
            },
            {
             "iteration": 62,
             "learn": [
              0.1785073302
             ],
             "passed_time": 26.49155327,
             "remaining_time": 15.55853129,
             "test": [
              0.1716814817
             ]
            },
            {
             "iteration": 63,
             "learn": [
              0.1761497767
             ],
             "passed_time": 26.94015722,
             "remaining_time": 15.15383844,
             "test": [
              0.1692777328
             ]
            },
            {
             "iteration": 64,
             "learn": [
              0.174121649
             ],
             "passed_time": 27.34100645,
             "remaining_time": 14.7220804,
             "test": [
              0.1672560345
             ]
            },
            {
             "iteration": 65,
             "learn": [
              0.1714543265
             ],
             "passed_time": 27.81724273,
             "remaining_time": 14.33009474,
             "test": [
              0.164542864
             ]
            },
            {
             "iteration": 66,
             "learn": [
              0.1692303525
             ],
             "passed_time": 28.28707744,
             "remaining_time": 13.93244113,
             "test": [
              0.1622347663
             ]
            },
            {
             "iteration": 67,
             "learn": [
              0.1670094189
             ],
             "passed_time": 28.70001782,
             "remaining_time": 13.50589074,
             "test": [
              0.1599469729
             ]
            },
            {
             "iteration": 68,
             "learn": [
              0.164788991
             ],
             "passed_time": 29.14451751,
             "remaining_time": 13.09391367,
             "test": [
              0.157729731
             ]
            },
            {
             "iteration": 69,
             "learn": [
              0.1630602825
             ],
             "passed_time": 29.48864683,
             "remaining_time": 12.6379915,
             "test": [
              0.1560616734
             ]
            },
            {
             "iteration": 70,
             "learn": [
              0.1612885484
             ],
             "passed_time": 29.9112268,
             "remaining_time": 12.21726165,
             "test": [
              0.1540848109
             ]
            },
            {
             "iteration": 71,
             "learn": [
              0.1591419553
             ],
             "passed_time": 30.42571133,
             "remaining_time": 11.83222107,
             "test": [
              0.1519946926
             ]
            },
            {
             "iteration": 72,
             "learn": [
              0.1572120965
             ],
             "passed_time": 30.82644877,
             "remaining_time": 11.40156324,
             "test": [
              0.1498111461
             ]
            },
            {
             "iteration": 73,
             "learn": [
              0.1552451439
             ],
             "passed_time": 31.24350796,
             "remaining_time": 10.97744874,
             "test": [
              0.1478859004
             ]
            },
            {
             "iteration": 74,
             "learn": [
              0.1532419319
             ],
             "passed_time": 31.73028455,
             "remaining_time": 10.57676152,
             "test": [
              0.1457175328
             ]
            },
            {
             "iteration": 75,
             "learn": [
              0.1516227602
             ],
             "passed_time": 32.10980434,
             "remaining_time": 10.13993821,
             "test": [
              0.1441083517
             ]
            },
            {
             "iteration": 76,
             "learn": [
              0.1501747293
             ],
             "passed_time": 32.47681875,
             "remaining_time": 9.700867939,
             "test": [
              0.1426791047
             ]
            },
            {
             "iteration": 77,
             "learn": [
              0.1482330559
             ],
             "passed_time": 32.9421995,
             "remaining_time": 9.291389603,
             "test": [
              0.140584935
             ]
            },
            {
             "iteration": 78,
             "learn": [
              0.1463722434
             ],
             "passed_time": 33.42112354,
             "remaining_time": 8.884096132,
             "test": [
              0.1386528881
             ]
            },
            {
             "iteration": 79,
             "learn": [
              0.144450155
             ],
             "passed_time": 33.88259874,
             "remaining_time": 8.470649684,
             "test": [
              0.1368800628
             ]
            },
            {
             "iteration": 80,
             "learn": [
              0.1426807497
             ],
             "passed_time": 34.3099867,
             "remaining_time": 8.048021572,
             "test": [
              0.1349478093
             ]
            },
            {
             "iteration": 81,
             "learn": [
              0.1410876969
             ],
             "passed_time": 34.76308103,
             "remaining_time": 7.630920227,
             "test": [
              0.1331926899
             ]
            },
            {
             "iteration": 82,
             "learn": [
              0.1397504381
             ],
             "passed_time": 35.12806766,
             "remaining_time": 7.194905423,
             "test": [
              0.132027616
             ]
            },
            {
             "iteration": 83,
             "learn": [
              0.1381817148
             ],
             "passed_time": 35.56595864,
             "remaining_time": 6.774468312,
             "test": [
              0.130401718
             ]
            },
            {
             "iteration": 84,
             "learn": [
              0.1367662853
             ],
             "passed_time": 35.97419627,
             "remaining_time": 6.348387577,
             "test": [
              0.1290766855
             ]
            },
            {
             "iteration": 85,
             "learn": [
              0.1354135439
             ],
             "passed_time": 36.40623297,
             "remaining_time": 5.926596066,
             "test": [
              0.1277202733
             ]
            },
            {
             "iteration": 86,
             "learn": [
              0.1339071726
             ],
             "passed_time": 36.8642548,
             "remaining_time": 5.508451866,
             "test": [
              0.1262014146
             ]
            },
            {
             "iteration": 87,
             "learn": [
              0.1327357208
             ],
             "passed_time": 37.23060775,
             "remaining_time": 5.076901057,
             "test": [
              0.12513418
             ]
            },
            {
             "iteration": 88,
             "learn": [
              0.1315109
             ],
             "passed_time": 37.66216345,
             "remaining_time": 4.654874134,
             "test": [
              0.1237454103
             ]
            },
            {
             "iteration": 89,
             "learn": [
              0.1303152808
             ],
             "passed_time": 38.1191102,
             "remaining_time": 4.235456688,
             "test": [
              0.1225180876
             ]
            },
            {
             "iteration": 90,
             "learn": [
              0.1288844141
             ],
             "passed_time": 38.60377049,
             "remaining_time": 3.817955324,
             "test": [
              0.1210756356
             ]
            },
            {
             "iteration": 91,
             "learn": [
              0.1278008688
             ],
             "passed_time": 38.98527424,
             "remaining_time": 3.390023847,
             "test": [
              0.1199656465
             ]
            },
            {
             "iteration": 92,
             "learn": [
              0.1268385601
             ],
             "passed_time": 39.32924205,
             "remaining_time": 2.96026553,
             "test": [
              0.1189797401
             ]
            },
            {
             "iteration": 93,
             "learn": [
              0.1254901689
             ],
             "passed_time": 39.80535552,
             "remaining_time": 2.540767374,
             "test": [
              0.1176038172
             ]
            },
            {
             "iteration": 94,
             "learn": [
              0.1240336865
             ],
             "passed_time": 40.26380013,
             "remaining_time": 2.119147375,
             "test": [
              0.1163596242
             ]
            },
            {
             "iteration": 95,
             "learn": [
              0.122873658
             ],
             "passed_time": 40.70494102,
             "remaining_time": 1.696039209,
             "test": [
              0.1151738996
             ]
            },
            {
             "iteration": 96,
             "learn": [
              0.1217589539
             ],
             "passed_time": 41.15748089,
             "remaining_time": 1.27291178,
             "test": [
              0.1139596971
             ]
            },
            {
             "iteration": 97,
             "learn": [
              0.1208396147
             ],
             "passed_time": 41.5625088,
             "remaining_time": 0.8482144654,
             "test": [
              0.1129278999
             ]
            },
            {
             "iteration": 98,
             "learn": [
              0.1197273275
             ],
             "passed_time": 41.95909561,
             "remaining_time": 0.4238292485,
             "test": [
              0.1120295424
             ]
            },
            {
             "iteration": 99,
             "learn": [
              0.1184405421
             ],
             "passed_time": 42.42184024,
             "remaining_time": 0,
             "test": [
              0.1104961937
             ]
            }
           ],
           "meta": {
            "iteration_count": 100,
            "launch_mode": "Train",
            "learn_metrics": [
             {
              "best_value": "Min",
              "name": "CrossEntropy"
             }
            ],
            "learn_sets": [
             "learn"
            ],
            "name": "experiment",
            "parameters": "",
            "test_metrics": [
             {
              "best_value": "Min",
              "name": "CrossEntropy"
             }
            ],
            "test_sets": [
             "test"
            ]
           }
          },
          "passed_iterations": 99,
          "total_iterations": 100
         },
         "name": "catboost_info",
         "path": "catboost_info"
        }
       },
       "layout": "IPY_MODEL_1cf744be97a94b5b8d133bf79696d14d"
      }
     },
     "67b9529de41b4211aa5f01be072027eb": {
      "model_module": "@jupyter-widgets/base",
      "model_module_version": "1.2.0",
      "model_name": "LayoutModel",
      "state": {
       "_model_module": "@jupyter-widgets/base",
       "_model_module_version": "1.2.0",
       "_model_name": "LayoutModel",
       "_view_count": null,
       "_view_module": "@jupyter-widgets/base",
       "_view_module_version": "1.2.0",
       "_view_name": "LayoutView",
       "align_content": null,
       "align_items": null,
       "align_self": "stretch",
       "border": null,
       "bottom": null,
       "display": null,
       "flex": null,
       "flex_flow": null,
       "grid_area": null,
       "grid_auto_columns": null,
       "grid_auto_flow": null,
       "grid_auto_rows": null,
       "grid_column": null,
       "grid_gap": null,
       "grid_row": null,
       "grid_template_areas": null,
       "grid_template_columns": null,
       "grid_template_rows": null,
       "height": "500px",
       "justify_content": null,
       "justify_items": null,
       "left": null,
       "margin": null,
       "max_height": null,
       "max_width": null,
       "min_height": null,
       "min_width": null,
       "object_fit": null,
       "object_position": null,
       "order": null,
       "overflow": null,
       "overflow_x": null,
       "overflow_y": null,
       "padding": null,
       "right": null,
       "top": null,
       "visibility": null,
       "width": null
      }
     },
     "737a13b1c83347f4a25b2756006cb2ca": {
      "model_module": "catboost-widget",
      "model_module_version": "^1.0.0",
      "model_name": "CatboostWidgetModel",
      "state": {
       "_dom_classes": [],
       "_model_module": "catboost-widget",
       "_model_module_version": "^1.0.0",
       "_model_name": "CatboostWidgetModel",
       "_view_count": null,
       "_view_module": "catboost-widget",
       "_view_module_version": "^1.0.0",
       "_view_name": "CatboostWidgetView",
       "data": {
        "catboost_info": {
         "content": {
          "data": {
           "iterations": [
            {
             "iteration": 0,
             "learn": [
              0.6636769336
             ],
             "passed_time": 0.335523605,
             "remaining_time": 33.2168369,
             "test": [
              0.6648919257
             ]
            },
            {
             "iteration": 1,
             "learn": [
              0.6391653352
             ],
             "passed_time": 0.6641479883,
             "remaining_time": 32.54325143,
             "test": [
              0.6381664598
             ]
            },
            {
             "iteration": 2,
             "learn": [
              0.6135532325
             ],
             "passed_time": 1.05389908,
             "remaining_time": 34.07607025,
             "test": [
              0.6134457023
             ]
            },
            {
             "iteration": 3,
             "learn": [
              0.5898824632
             ],
             "passed_time": 1.40690579,
             "remaining_time": 33.76573897,
             "test": [
              0.5901527409
             ]
            },
            {
             "iteration": 4,
             "learn": [
              0.5684694983
             ],
             "passed_time": 1.740909899,
             "remaining_time": 33.07728808,
             "test": [
              0.5675861839
             ]
            },
            {
             "iteration": 5,
             "learn": [
              0.5477711465
             ],
             "passed_time": 2.095191493,
             "remaining_time": 32.82466672,
             "test": [
              0.5464300524
             ]
            },
            {
             "iteration": 6,
             "learn": [
              0.5263512706
             ],
             "passed_time": 2.481113568,
             "remaining_time": 32.96336598,
             "test": [
              0.5265579816
             ]
            },
            {
             "iteration": 7,
             "learn": [
              0.5087719705
             ],
             "passed_time": 2.837756276,
             "remaining_time": 32.63419717,
             "test": [
              0.5075969163
             ]
            },
            {
             "iteration": 8,
             "learn": [
              0.4899139315
             ],
             "passed_time": 3.190500353,
             "remaining_time": 32.25950356,
             "test": [
              0.4890956272
             ]
            },
            {
             "iteration": 9,
             "learn": [
              0.4728279175
             ],
             "passed_time": 3.577230128,
             "remaining_time": 32.19507115,
             "test": [
              0.4721357188
             ]
            },
            {
             "iteration": 10,
             "learn": [
              0.456912366
             ],
             "passed_time": 3.936037345,
             "remaining_time": 31.84612033,
             "test": [
              0.4558005648
             ]
            },
            {
             "iteration": 11,
             "learn": [
              0.4410879695
             ],
             "passed_time": 4.353609482,
             "remaining_time": 31.92646954,
             "test": [
              0.4403266112
             ]
            },
            {
             "iteration": 12,
             "learn": [
              0.4259361668
             ],
             "passed_time": 4.7157144,
             "remaining_time": 31.55901175,
             "test": [
              0.4249913531
             ]
            },
            {
             "iteration": 13,
             "learn": [
              0.4116600592
             ],
             "passed_time": 5.076046814,
             "remaining_time": 31.18143043,
             "test": [
              0.4103070082
             ]
            },
            {
             "iteration": 14,
             "learn": [
              0.3973795705
             ],
             "passed_time": 5.471675449,
             "remaining_time": 31.00616088,
             "test": [
              0.3966917132
             ]
            },
            {
             "iteration": 15,
             "learn": [
              0.3840632735
             ],
             "passed_time": 5.828685171,
             "remaining_time": 30.60059715,
             "test": [
              0.3832894465
             ]
            },
            {
             "iteration": 16,
             "learn": [
              0.3717263186
             ],
             "passed_time": 6.196877257,
             "remaining_time": 30.2553419,
             "test": [
              0.3705069318
             ]
            },
            {
             "iteration": 17,
             "learn": [
              0.359592006
             ],
             "passed_time": 6.593568142,
             "remaining_time": 30.03736598,
             "test": [
              0.358652639
             ]
            },
            {
             "iteration": 18,
             "learn": [
              0.3480216515
             ],
             "passed_time": 6.982092647,
             "remaining_time": 29.76576339,
             "test": [
              0.3471971985
             ]
            },
            {
             "iteration": 19,
             "learn": [
              0.3369316649
             ],
             "passed_time": 7.342172634,
             "remaining_time": 29.36869054,
             "test": [
              0.3358176474
             ]
            },
            {
             "iteration": 20,
             "learn": [
              0.3262102513
             ],
             "passed_time": 7.719833041,
             "remaining_time": 29.04127668,
             "test": [
              0.3249957582
             ]
            },
            {
             "iteration": 21,
             "learn": [
              0.3160570009
             ],
             "passed_time": 8.108224666,
             "remaining_time": 28.747342,
             "test": [
              0.3149315976
             ]
            },
            {
             "iteration": 22,
             "learn": [
              0.3062398736
             ],
             "passed_time": 8.500853618,
             "remaining_time": 28.4593795,
             "test": [
              0.3048121654
             ]
            },
            {
             "iteration": 23,
             "learn": [
              0.2970145923
             ],
             "passed_time": 8.892076975,
             "remaining_time": 28.15824375,
             "test": [
              0.2954812211
             ]
            },
            {
             "iteration": 24,
             "learn": [
              0.2876398844
             ],
             "passed_time": 9.253646059,
             "remaining_time": 27.76093818,
             "test": [
              0.2864573745
             ]
            },
            {
             "iteration": 25,
             "learn": [
              0.2788978312
             ],
             "passed_time": 9.641587031,
             "remaining_time": 27.44144001,
             "test": [
              0.2778664995
             ]
            },
            {
             "iteration": 26,
             "learn": [
              0.2705720624
             ],
             "passed_time": 10.01862995,
             "remaining_time": 27.08740691,
             "test": [
              0.2696331806
             ]
            },
            {
             "iteration": 27,
             "learn": [
              0.2623870402
             ],
             "passed_time": 10.34856063,
             "remaining_time": 26.61058448,
             "test": [
              0.2612505621
             ]
            },
            {
             "iteration": 28,
             "learn": [
              0.2546414163
             ],
             "passed_time": 10.72538381,
             "remaining_time": 26.25869829,
             "test": [
              0.2535127811
             ]
            },
            {
             "iteration": 29,
             "learn": [
              0.2470269635
             ],
             "passed_time": 11.0419923,
             "remaining_time": 25.7646487,
             "test": [
              0.2458292233
             ]
            },
            {
             "iteration": 30,
             "learn": [
              0.2396884049
             ],
             "passed_time": 11.44442105,
             "remaining_time": 25.47306621,
             "test": [
              0.2384367383
             ]
            },
            {
             "iteration": 31,
             "learn": [
              0.232752723
             ],
             "passed_time": 11.76308359,
             "remaining_time": 24.99655263,
             "test": [
              0.2313273625
             ]
            },
            {
             "iteration": 32,
             "learn": [
              0.2260378389
             ],
             "passed_time": 12.16084534,
             "remaining_time": 24.69020115,
             "test": [
              0.224541065
             ]
            },
            {
             "iteration": 33,
             "learn": [
              0.2195464717
             ],
             "passed_time": 12.57747829,
             "remaining_time": 24.41510491,
             "test": [
              0.2178914658
             ]
            },
            {
             "iteration": 34,
             "learn": [
              0.2130822439
             ],
             "passed_time": 12.91831253,
             "remaining_time": 23.99115184,
             "test": [
              0.2114688906
             ]
            },
            {
             "iteration": 35,
             "learn": [
              0.2069718009
             ],
             "passed_time": 13.23867032,
             "remaining_time": 23.5354139,
             "test": [
              0.2053245672
             ]
            },
            {
             "iteration": 36,
             "learn": [
              0.201081869
             ],
             "passed_time": 13.5659546,
             "remaining_time": 23.09878756,
             "test": [
              0.199435371
             ]
            },
            {
             "iteration": 37,
             "learn": [
              0.1954484635
             ],
             "passed_time": 13.92046136,
             "remaining_time": 22.71233169,
             "test": [
              0.1938325066
             ]
            },
            {
             "iteration": 38,
             "learn": [
              0.1900524915
             ],
             "passed_time": 14.31831033,
             "remaining_time": 22.39530589,
             "test": [
              0.1882971168
             ]
            },
            {
             "iteration": 39,
             "learn": [
              0.1848416983
             ],
             "passed_time": 14.73565419,
             "remaining_time": 22.10348128,
             "test": [
              0.1829674121
             ]
            },
            {
             "iteration": 40,
             "learn": [
              0.1795823157
             ],
             "passed_time": 15.05110549,
             "remaining_time": 21.6589079,
             "test": [
              0.1778832805
             ]
            },
            {
             "iteration": 41,
             "learn": [
              0.1747267832
             ],
             "passed_time": 15.42971206,
             "remaining_time": 21.30769761,
             "test": [
              0.173127378
             ]
            },
            {
             "iteration": 42,
             "learn": [
              0.170109237
             ],
             "passed_time": 15.83179062,
             "remaining_time": 20.9863271,
             "test": [
              0.1682965703
             ]
            },
            {
             "iteration": 43,
             "learn": [
              0.1654400247
             ],
             "passed_time": 16.19840615,
             "remaining_time": 20.61615328,
             "test": [
              0.1636398826
             ]
            },
            {
             "iteration": 44,
             "learn": [
              0.1610914154
             ],
             "passed_time": 16.74752835,
             "remaining_time": 20.46920132,
             "test": [
              0.1592511211
             ]
            },
            {
             "iteration": 45,
             "learn": [
              0.1566145894
             ],
             "passed_time": 17.31165391,
             "remaining_time": 20.32237632,
             "test": [
              0.1548188307
             ]
            },
            {
             "iteration": 46,
             "learn": [
              0.1524273236
             ],
             "passed_time": 17.79347784,
             "remaining_time": 20.06498565,
             "test": [
              0.1506234435
             ]
            },
            {
             "iteration": 47,
             "learn": [
              0.1485111468
             ],
             "passed_time": 18.16799488,
             "remaining_time": 19.68199445,
             "test": [
              0.1466491319
             ]
            },
            {
             "iteration": 48,
             "learn": [
              0.144600135
             ],
             "passed_time": 18.52117056,
             "remaining_time": 19.27713671,
             "test": [
              0.1426918897
             ]
            },
            {
             "iteration": 49,
             "learn": [
              0.1407190784
             ],
             "passed_time": 18.90582351,
             "remaining_time": 18.90582351,
             "test": [
              0.1387637454
             ]
            },
            {
             "iteration": 50,
             "learn": [
              0.137150239
             ],
             "passed_time": 19.24900601,
             "remaining_time": 18.49414303,
             "test": [
              0.1351322733
             ]
            },
            {
             "iteration": 51,
             "learn": [
              0.1335407256
             ],
             "passed_time": 19.72806481,
             "remaining_time": 18.21052137,
             "test": [
              0.1314969059
             ]
            },
            {
             "iteration": 52,
             "learn": [
              0.1301151331
             ],
             "passed_time": 20.0485402,
             "remaining_time": 17.77889414,
             "test": [
              0.1280645023
             ]
            },
            {
             "iteration": 53,
             "learn": [
              0.1267030064
             ],
             "passed_time": 20.46142245,
             "remaining_time": 17.4301006,
             "test": [
              0.1246647807
             ]
            },
            {
             "iteration": 54,
             "learn": [
              0.1235323329
             ],
             "passed_time": 20.82174032,
             "remaining_time": 17.03596935,
             "test": [
              0.1214932832
             ]
            },
            {
             "iteration": 55,
             "learn": [
              0.1204053407
             ],
             "passed_time": 21.22213129,
             "remaining_time": 16.67453173,
             "test": [
              0.1183722212
             ]
            },
            {
             "iteration": 56,
             "learn": [
              0.1175084445
             ],
             "passed_time": 21.60584637,
             "remaining_time": 16.29914726,
             "test": [
              0.1155086842
             ]
            },
            {
             "iteration": 57,
             "learn": [
              0.1144731378
             ],
             "passed_time": 21.97535953,
             "remaining_time": 15.91319138,
             "test": [
              0.1124049888
             ]
            },
            {
             "iteration": 58,
             "learn": [
              0.1115613462
             ],
             "passed_time": 22.40351936,
             "remaining_time": 15.56854735,
             "test": [
              0.1094644195
             ]
            },
            {
             "iteration": 59,
             "learn": [
              0.108784601
             ],
             "passed_time": 22.7228174,
             "remaining_time": 15.14854494,
             "test": [
              0.1067130299
             ]
            },
            {
             "iteration": 60,
             "learn": [
              0.1061479661
             ],
             "passed_time": 23.09169484,
             "remaining_time": 14.7635426,
             "test": [
              0.1040009745
             ]
            },
            {
             "iteration": 61,
             "learn": [
              0.103494852
             ],
             "passed_time": 23.436625,
             "remaining_time": 14.36438306,
             "test": [
              0.101449352
             ]
            },
            {
             "iteration": 62,
             "learn": [
              0.1008339191
             ],
             "passed_time": 23.75848847,
             "remaining_time": 13.95339799,
             "test": [
              0.09878830385
             ]
            },
            {
             "iteration": 63,
             "learn": [
              0.09837092021
             ],
             "passed_time": 24.12993022,
             "remaining_time": 13.57308575,
             "test": [
              0.0962550435
             ]
            },
            {
             "iteration": 64,
             "learn": [
              0.09614068299
             ],
             "passed_time": 24.5090044,
             "remaining_time": 13.19715621,
             "test": [
              0.09405489428
             ]
            },
            {
             "iteration": 65,
             "learn": [
              0.09350306166
             ],
             "passed_time": 24.87678184,
             "remaining_time": 12.81531186,
             "test": [
              0.09143255155
             ]
            },
            {
             "iteration": 66,
             "learn": [
              0.09130850856
             ],
             "passed_time": 25.19888699,
             "remaining_time": 12.4113921,
             "test": [
              0.08929118813
             ]
            },
            {
             "iteration": 67,
             "learn": [
              0.08906537227
             ],
             "passed_time": 25.63085334,
             "remaining_time": 12.06157804,
             "test": [
              0.08702559859
             ]
            },
            {
             "iteration": 68,
             "learn": [
              0.0868752245
             ],
             "passed_time": 26.06186387,
             "remaining_time": 11.70895333,
             "test": [
              0.08484492206
             ]
            },
            {
             "iteration": 69,
             "learn": [
              0.08493515813
             ],
             "passed_time": 26.4183886,
             "remaining_time": 11.32216654,
             "test": [
              0.0828330008
             ]
            },
            {
             "iteration": 70,
             "learn": [
              0.08290323622
             ],
             "passed_time": 26.79868624,
             "remaining_time": 10.94594227,
             "test": [
              0.08076349233
             ]
            },
            {
             "iteration": 71,
             "learn": [
              0.08114655724
             ],
             "passed_time": 27.17456284,
             "remaining_time": 10.56788555,
             "test": [
              0.07898356299
             ]
            },
            {
             "iteration": 72,
             "learn": [
              0.07912001004
             ],
             "passed_time": 27.49003765,
             "remaining_time": 10.16754817,
             "test": [
              0.07703334368
             ]
            },
            {
             "iteration": 73,
             "learn": [
              0.07707065973
             ],
             "passed_time": 27.8570472,
             "remaining_time": 9.78761118,
             "test": [
              0.07496941425
             ]
            },
            {
             "iteration": 74,
             "learn": [
              0.07533233116
             ],
             "passed_time": 28.23382023,
             "remaining_time": 9.41127341,
             "test": [
              0.07324395663
             ]
            },
            {
             "iteration": 75,
             "learn": [
              0.07379279821
             ],
             "passed_time": 28.64125204,
             "remaining_time": 9.044605908,
             "test": [
              0.0717049318
             ]
            },
            {
             "iteration": 76,
             "learn": [
              0.072011264
             ],
             "passed_time": 28.94997489,
             "remaining_time": 8.647395098,
             "test": [
              0.06997775346
             ]
            },
            {
             "iteration": 77,
             "learn": [
              0.07023862006
             ],
             "passed_time": 29.27868389,
             "remaining_time": 8.258090329,
             "test": [
              0.0681752334
             ]
            },
            {
             "iteration": 78,
             "learn": [
              0.06871807019
             ],
             "passed_time": 29.60848487,
             "remaining_time": 7.870609903,
             "test": [
              0.06664997549
             ]
            },
            {
             "iteration": 79,
             "learn": [
              0.06702099409
             ],
             "passed_time": 30.00679032,
             "remaining_time": 7.50169758,
             "test": [
              0.06497335616
             ]
            },
            {
             "iteration": 80,
             "learn": [
              0.06566611277
             ],
             "passed_time": 30.40132891,
             "remaining_time": 7.131175918,
             "test": [
              0.06365808019
             ]
            },
            {
             "iteration": 81,
             "learn": [
              0.06405477179
             ],
             "passed_time": 30.79400768,
             "remaining_time": 6.759660223,
             "test": [
              0.06203091533
             ]
            },
            {
             "iteration": 82,
             "learn": [
              0.06247416958
             ],
             "passed_time": 31.17313103,
             "remaining_time": 6.384858162,
             "test": [
              0.06043240427
             ]
            },
            {
             "iteration": 83,
             "learn": [
              0.06111871113
             ],
             "passed_time": 31.52635405,
             "remaining_time": 6.005019819,
             "test": [
              0.05905689363
             ]
            },
            {
             "iteration": 84,
             "learn": [
              0.05994510656
             ],
             "passed_time": 31.89688954,
             "remaining_time": 5.62886286,
             "test": [
              0.05787839514
             ]
            },
            {
             "iteration": 85,
             "learn": [
              0.05853584919
             ],
             "passed_time": 32.30995817,
             "remaining_time": 5.259760632,
             "test": [
              0.05645650432
             ]
            },
            {
             "iteration": 86,
             "learn": [
              0.05731555843
             ],
             "passed_time": 32.68973691,
             "remaining_time": 4.884673331,
             "test": [
              0.05523631781
             ]
            },
            {
             "iteration": 87,
             "learn": [
              0.05598949551
             ],
             "passed_time": 33.01581402,
             "remaining_time": 4.502156457,
             "test": [
              0.05386818317
             ]
            },
            {
             "iteration": 88,
             "learn": [
              0.05484280638
             ],
             "passed_time": 33.39387545,
             "remaining_time": 4.127332921,
             "test": [
              0.05270640328
             ]
            },
            {
             "iteration": 89,
             "learn": [
              0.05383123658
             ],
             "passed_time": 33.77269993,
             "remaining_time": 3.752522214,
             "test": [
              0.05170198666
             ]
            },
            {
             "iteration": 90,
             "learn": [
              0.05258613758
             ],
             "passed_time": 34.1831968,
             "remaining_time": 3.380755727,
             "test": [
              0.05045105023
             ]
            },
            {
             "iteration": 91,
             "learn": [
              0.05149020996
             ],
             "passed_time": 34.53303001,
             "remaining_time": 3.002872175,
             "test": [
              0.04937947497
             ]
            },
            {
             "iteration": 92,
             "learn": [
              0.05032302295
             ],
             "passed_time": 34.91370378,
             "remaining_time": 2.627913188,
             "test": [
              0.04817341326
             ]
            },
            {
             "iteration": 93,
             "learn": [
              0.04919345023
             ],
             "passed_time": 35.34030758,
             "remaining_time": 2.255764314,
             "test": [
              0.04703936397
             ]
            },
            {
             "iteration": 94,
             "learn": [
              0.04809779981
             ],
             "passed_time": 35.77434463,
             "remaining_time": 1.882860244,
             "test": [
              0.0459368937
             ]
            },
            {
             "iteration": 95,
             "learn": [
              0.04707729303
             ],
             "passed_time": 36.08399257,
             "remaining_time": 1.50349969,
             "test": [
              0.04505116177
             ]
            },
            {
             "iteration": 96,
             "learn": [
              0.04631271351
             ],
             "passed_time": 36.46265838,
             "remaining_time": 1.127711084,
             "test": [
              0.04428881263
             ]
            },
            {
             "iteration": 97,
             "learn": [
              0.04527531831
             ],
             "passed_time": 36.80994392,
             "remaining_time": 0.7512233453,
             "test": [
              0.04334287861
             ]
            },
            {
             "iteration": 98,
             "learn": [
              0.04426595025
             ],
             "passed_time": 37.13996415,
             "remaining_time": 0.3751511531,
             "test": [
              0.04231023399
             ]
            },
            {
             "iteration": 99,
             "learn": [
              0.0433848155
             ],
             "passed_time": 37.54951006,
             "remaining_time": 0,
             "test": [
              0.04139505942
             ]
            }
           ],
           "meta": {
            "iteration_count": 100,
            "launch_mode": "Train",
            "learn_metrics": [
             {
              "best_value": "Min",
              "name": "CrossEntropy"
             }
            ],
            "learn_sets": [
             "learn"
            ],
            "name": "experiment",
            "parameters": "",
            "test_metrics": [
             {
              "best_value": "Min",
              "name": "CrossEntropy"
             }
            ],
            "test_sets": [
             "test"
            ]
           }
          },
          "passed_iterations": 99,
          "total_iterations": 100
         },
         "name": "catboost_info",
         "path": "catboost_info"
        }
       },
       "layout": "IPY_MODEL_afb2bbcf3f8c4961b4c379f7c38643f8"
      }
     },
     "7423ef75db5c4bacb21ed97b3ec91c06": {
      "model_module": "catboost-widget",
      "model_module_version": "^1.0.0",
      "model_name": "CatboostWidgetModel",
      "state": {
       "_dom_classes": [],
       "_model_module": "catboost-widget",
       "_model_module_version": "^1.0.0",
       "_model_name": "CatboostWidgetModel",
       "_view_count": null,
       "_view_module": "catboost-widget",
       "_view_module_version": "^1.0.0",
       "_view_name": "CatboostWidgetView",
       "data": {
        "catboost_info": {
         "content": {
          "data": {
           "iterations": [
            {
             "iteration": 0,
             "learn": [
              0.6722237254
             ],
             "passed_time": 0.491774113,
             "remaining_time": 48.68563718,
             "test": [
              0.6718637739
             ]
            },
            {
             "iteration": 1,
             "learn": [
              0.6519639834
             ],
             "passed_time": 0.9211270771,
             "remaining_time": 45.13522678,
             "test": [
              0.6519392672
             ]
            },
            {
             "iteration": 2,
             "learn": [
              0.6320281651
             ],
             "passed_time": 1.357145274,
             "remaining_time": 43.88103052,
             "test": [
              0.633074043
             ]
            },
            {
             "iteration": 3,
             "learn": [
              0.6148370678
             ],
             "passed_time": 1.774125776,
             "remaining_time": 42.57901863,
             "test": [
              0.6151604878
             ]
            },
            {
             "iteration": 4,
             "learn": [
              0.5983575972
             ],
             "passed_time": 2.151059487,
             "remaining_time": 40.87013026,
             "test": [
              0.5997347608
             ]
            },
            {
             "iteration": 5,
             "learn": [
              0.5822356907
             ],
             "passed_time": 2.571500848,
             "remaining_time": 40.28684661,
             "test": [
              0.5833711624
             ]
            },
            {
             "iteration": 6,
             "learn": [
              0.568391532
             ],
             "passed_time": 2.947664321,
             "remaining_time": 39.16182598,
             "test": [
              0.5693866349
             ]
            },
            {
             "iteration": 7,
             "learn": [
              0.5547874821
             ],
             "passed_time": 3.332783761,
             "remaining_time": 38.32701325,
             "test": [
              0.5560496594
             ]
            },
            {
             "iteration": 8,
             "learn": [
              0.5420668042
             ],
             "passed_time": 3.741563606,
             "remaining_time": 37.83136535,
             "test": [
              0.5431431261
             ]
            },
            {
             "iteration": 9,
             "learn": [
              0.5278030726
             ],
             "passed_time": 4.205747023,
             "remaining_time": 37.85172321,
             "test": [
              0.5295019184
             ]
            },
            {
             "iteration": 10,
             "learn": [
              0.5146235825
             ],
             "passed_time": 4.626127268,
             "remaining_time": 37.42957517,
             "test": [
              0.5159859992
             ]
            },
            {
             "iteration": 11,
             "learn": [
              0.5033921968
             ],
             "passed_time": 4.998343113,
             "remaining_time": 36.65451616,
             "test": [
              0.5047010749
             ]
            },
            {
             "iteration": 12,
             "learn": [
              0.492725189
             ],
             "passed_time": 5.376297737,
             "remaining_time": 35.9798387,
             "test": [
              0.4941296269
             ]
            },
            {
             "iteration": 13,
             "learn": [
              0.4824893264
             ],
             "passed_time": 5.781935279,
             "remaining_time": 35.51760243,
             "test": [
              0.4834187354
             ]
            },
            {
             "iteration": 14,
             "learn": [
              0.4722894629
             ],
             "passed_time": 6.191996021,
             "remaining_time": 35.08797745,
             "test": [
              0.4733320935
             ]
            },
            {
             "iteration": 15,
             "learn": [
              0.46113684
             ],
             "passed_time": 6.606250708,
             "remaining_time": 34.68281622,
             "test": [
              0.462323532
             ]
            },
            {
             "iteration": 16,
             "learn": [
              0.4509324938
             ],
             "passed_time": 7.027142015,
             "remaining_time": 34.30898748,
             "test": [
              0.452087429
             ]
            },
            {
             "iteration": 17,
             "learn": [
              0.4404432337
             ],
             "passed_time": 7.44751612,
             "remaining_time": 33.92757343,
             "test": [
              0.4418596486
             ]
            },
            {
             "iteration": 18,
             "learn": [
              0.432047484
             ],
             "passed_time": 7.853266167,
             "remaining_time": 33.47971366,
             "test": [
              0.4331207886
             ]
            },
            {
             "iteration": 19,
             "learn": [
              0.4230074658
             ],
             "passed_time": 8.283246106,
             "remaining_time": 33.13298442,
             "test": [
              0.4239071307
             ]
            },
            {
             "iteration": 20,
             "learn": [
              0.4141762916
             ],
             "passed_time": 8.695823142,
             "remaining_time": 32.71285849,
             "test": [
              0.4153100089
             ]
            },
            {
             "iteration": 21,
             "learn": [
              0.4057352646
             ],
             "passed_time": 9.118903189,
             "remaining_time": 32.33065676,
             "test": [
              0.4070142157
             ]
            },
            {
             "iteration": 22,
             "learn": [
              0.3982245208
             ],
             "passed_time": 9.536583234,
             "remaining_time": 31.92682213,
             "test": [
              0.3994677157
             ]
            },
            {
             "iteration": 23,
             "learn": [
              0.3908609502
             ],
             "passed_time": 9.933948587,
             "remaining_time": 31.45750386,
             "test": [
              0.3922170142
             ]
            },
            {
             "iteration": 24,
             "learn": [
              0.3831670111
             ],
             "passed_time": 10.34136899,
             "remaining_time": 31.02410698,
             "test": [
              0.3846367953
             ]
            },
            {
             "iteration": 25,
             "learn": [
              0.3765070343
             ],
             "passed_time": 10.74345257,
             "remaining_time": 30.57751886,
             "test": [
              0.3776816675
             ]
            },
            {
             "iteration": 26,
             "learn": [
              0.3688894504
             ],
             "passed_time": 11.14272588,
             "remaining_time": 30.12662922,
             "test": [
              0.370108828
             ]
            },
            {
             "iteration": 27,
             "learn": [
              0.362569326
             ],
             "passed_time": 11.54529115,
             "remaining_time": 29.68789153,
             "test": [
              0.3638679901
             ]
            },
            {
             "iteration": 28,
             "learn": [
              0.3566779302
             ],
             "passed_time": 11.92293457,
             "remaining_time": 29.19063291,
             "test": [
              0.3581904557
             ]
            },
            {
             "iteration": 29,
             "learn": [
              0.350590364
             ],
             "passed_time": 12.35158651,
             "remaining_time": 28.82036853,
             "test": [
              0.3516910763
             ]
            },
            {
             "iteration": 30,
             "learn": [
              0.3439851967
             ],
             "passed_time": 12.77618877,
             "remaining_time": 28.43732338,
             "test": [
              0.3449348241
             ]
            },
            {
             "iteration": 31,
             "learn": [
              0.3384753711
             ],
             "passed_time": 13.18187174,
             "remaining_time": 28.01147745,
             "test": [
              0.3392273034
             ]
            },
            {
             "iteration": 32,
             "learn": [
              0.3321931722
             ],
             "passed_time": 13.61315312,
             "remaining_time": 27.63882603,
             "test": [
              0.3329180771
             ]
            },
            {
             "iteration": 33,
             "learn": [
              0.3270642562
             ],
             "passed_time": 13.98884171,
             "remaining_time": 27.15481037,
             "test": [
              0.3275189957
             ]
            },
            {
             "iteration": 34,
             "learn": [
              0.3211259728
             ],
             "passed_time": 14.42234768,
             "remaining_time": 26.78435997,
             "test": [
              0.3214746342
             ]
            },
            {
             "iteration": 35,
             "learn": [
              0.3156395416
             ],
             "passed_time": 14.83965641,
             "remaining_time": 26.38161139,
             "test": [
              0.3162599125
             ]
            },
            {
             "iteration": 36,
             "learn": [
              0.3108472252
             ],
             "passed_time": 15.27765112,
             "remaining_time": 26.01329786,
             "test": [
              0.3116682533
             ]
            },
            {
             "iteration": 37,
             "learn": [
              0.3055349658
             ],
             "passed_time": 15.7085658,
             "remaining_time": 25.62976525,
             "test": [
              0.3061725764
             ]
            },
            {
             "iteration": 38,
             "learn": [
              0.3005234628
             ],
             "passed_time": 16.11481726,
             "remaining_time": 25.205227,
             "test": [
              0.3012498013
             ]
            },
            {
             "iteration": 39,
             "learn": [
              0.2951628617
             ],
             "passed_time": 16.54158013,
             "remaining_time": 24.8123702,
             "test": [
              0.2957434289
             ]
            },
            {
             "iteration": 40,
             "learn": [
              0.2908468627
             ],
             "passed_time": 16.96085846,
             "remaining_time": 24.407089,
             "test": [
              0.291116969
             ]
            },
            {
             "iteration": 41,
             "learn": [
              0.2859024736
             ],
             "passed_time": 17.38977314,
             "remaining_time": 24.01444862,
             "test": [
              0.2859203121
             ]
            },
            {
             "iteration": 42,
             "learn": [
              0.2813165435
             ],
             "passed_time": 17.8015891,
             "remaining_time": 23.59745531,
             "test": [
              0.2816753693
             ]
            },
            {
             "iteration": 43,
             "learn": [
              0.2773183552
             ],
             "passed_time": 18.22689528,
             "remaining_time": 23.19786672,
             "test": [
              0.2774085957
             ]
            },
            {
             "iteration": 44,
             "learn": [
              0.2729361626
             ],
             "passed_time": 18.65365284,
             "remaining_time": 22.79890903,
             "test": [
              0.2726364108
             ]
            },
            {
             "iteration": 45,
             "learn": [
              0.2686805165
             ],
             "passed_time": 19.08376891,
             "remaining_time": 22.40268525,
             "test": [
              0.2683610164
             ]
            },
            {
             "iteration": 46,
             "learn": [
              0.264676336
             ],
             "passed_time": 19.50499495,
             "remaining_time": 21.9949943,
             "test": [
              0.2643907934
             ]
            },
            {
             "iteration": 47,
             "learn": [
              0.2605400002
             ],
             "passed_time": 19.9296341,
             "remaining_time": 21.59043695,
             "test": [
              0.2599077583
             ]
            },
            {
             "iteration": 48,
             "learn": [
              0.2566673019
             ],
             "passed_time": 20.34905653,
             "remaining_time": 21.17963026,
             "test": [
              0.2562769471
             ]
            },
            {
             "iteration": 49,
             "learn": [
              0.253586855
             ],
             "passed_time": 20.69888343,
             "remaining_time": 20.69888343,
             "test": [
              0.2530808251
             ]
            },
            {
             "iteration": 50,
             "learn": [
              0.250059876
             ],
             "passed_time": 21.09617772,
             "remaining_time": 20.26887664,
             "test": [
              0.2497842459
             ]
            },
            {
             "iteration": 51,
             "learn": [
              0.2462610955
             ],
             "passed_time": 21.51746416,
             "remaining_time": 19.86227461,
             "test": [
              0.2457344104
             ]
            },
            {
             "iteration": 52,
             "learn": [
              0.2431294511
             ],
             "passed_time": 21.94901653,
             "remaining_time": 19.4642222,
             "test": [
              0.2426976367
             ]
            },
            {
             "iteration": 53,
             "learn": [
              0.239874724
             ],
             "passed_time": 22.34439319,
             "remaining_time": 19.03411272,
             "test": [
              0.2396497422
             ]
            },
            {
             "iteration": 54,
             "learn": [
              0.2367516166
             ],
             "passed_time": 22.7446633,
             "remaining_time": 18.60926997,
             "test": [
              0.2360705716
             ]
            },
            {
             "iteration": 55,
             "learn": [
              0.2335235403
             ],
             "passed_time": 23.3158517,
             "remaining_time": 18.31959776,
             "test": [
              0.232943733
             ]
            },
            {
             "iteration": 56,
             "learn": [
              0.2300698124
             ],
             "passed_time": 23.92472677,
             "remaining_time": 18.04847809,
             "test": [
              0.2298395542
             ]
            },
            {
             "iteration": 57,
             "learn": [
              0.226724751
             ],
             "passed_time": 24.51969683,
             "remaining_time": 17.75564253,
             "test": [
              0.226325326
             ]
            },
            {
             "iteration": 58,
             "learn": [
              0.2239615622
             ],
             "passed_time": 24.91669711,
             "remaining_time": 17.31499291,
             "test": [
              0.2236444337
             ]
            },
            {
             "iteration": 59,
             "learn": [
              0.2209051794
             ],
             "passed_time": 25.33638564,
             "remaining_time": 16.89092376,
             "test": [
              0.2204859217
             ]
            },
            {
             "iteration": 60,
             "learn": [
              0.2179909359
             ],
             "passed_time": 25.75134594,
             "remaining_time": 16.46397528,
             "test": [
              0.2173169909
             ]
            },
            {
             "iteration": 61,
             "learn": [
              0.2152864694
             ],
             "passed_time": 26.22599157,
             "remaining_time": 16.07399483,
             "test": [
              0.2146363745
             ]
            },
            {
             "iteration": 62,
             "learn": [
              0.2126880299
             ],
             "passed_time": 26.6535704,
             "remaining_time": 15.6536842,
             "test": [
              0.2116788165
             ]
            },
            {
             "iteration": 63,
             "learn": [
              0.2103810783
             ],
             "passed_time": 27.005931,
             "remaining_time": 15.19083619,
             "test": [
              0.2093114394
             ]
            },
            {
             "iteration": 64,
             "learn": [
              0.2077558847
             ],
             "passed_time": 27.45910369,
             "remaining_time": 14.78567122,
             "test": [
              0.2066135264
             ]
            },
            {
             "iteration": 65,
             "learn": [
              0.2049123147
             ],
             "passed_time": 27.91857073,
             "remaining_time": 14.38229401,
             "test": [
              0.2036719599
             ]
            },
            {
             "iteration": 66,
             "learn": [
              0.2025029314
             ],
             "passed_time": 28.33321977,
             "remaining_time": 13.95516795,
             "test": [
              0.2015398265
             ]
            },
            {
             "iteration": 67,
             "learn": [
              0.2000999028
             ],
             "passed_time": 28.73521941,
             "remaining_time": 13.52245619,
             "test": [
              0.1991982933
             ]
            },
            {
             "iteration": 68,
             "learn": [
              0.1978295155
             ],
             "passed_time": 29.14366779,
             "remaining_time": 13.0935319,
             "test": [
              0.1965744414
             ]
            },
            {
             "iteration": 69,
             "learn": [
              0.1957376707
             ],
             "passed_time": 29.53281452,
             "remaining_time": 12.65692051,
             "test": [
              0.1945706651
             ]
            },
            {
             "iteration": 70,
             "learn": [
              0.1932538518
             ],
             "passed_time": 30.06408901,
             "remaining_time": 12.27969833,
             "test": [
              0.1919140977
             ]
            },
            {
             "iteration": 71,
             "learn": [
              0.19104085
             ],
             "passed_time": 30.46214708,
             "remaining_time": 11.84639053,
             "test": [
              0.1897791264
             ]
            },
            {
             "iteration": 72,
             "learn": [
              0.1891547878
             ],
             "passed_time": 30.81359143,
             "remaining_time": 11.39680779,
             "test": [
              0.1876524279
             ]
            },
            {
             "iteration": 73,
             "learn": [
              0.1872465775
             ],
             "passed_time": 31.22526772,
             "remaining_time": 10.97104001,
             "test": [
              0.1854113674
             ]
            },
            {
             "iteration": 74,
             "learn": [
              0.1849551492
             ],
             "passed_time": 31.77337956,
             "remaining_time": 10.59112652,
             "test": [
              0.1829645069
             ]
            },
            {
             "iteration": 75,
             "learn": [
              0.18332744
             ],
             "passed_time": 32.10282816,
             "remaining_time": 10.13773521,
             "test": [
              0.1812391418
             ]
            },
            {
             "iteration": 76,
             "learn": [
              0.1812154182
             ],
             "passed_time": 32.51486694,
             "remaining_time": 9.712232982,
             "test": [
              0.1791163879
             ]
            },
            {
             "iteration": 77,
             "learn": [
              0.1789440102
             ],
             "passed_time": 33.02450296,
             "remaining_time": 9.3146034,
             "test": [
              0.1768234656
             ]
            },
            {
             "iteration": 78,
             "learn": [
              0.1770864735
             ],
             "passed_time": 33.40888734,
             "remaining_time": 8.88084347,
             "test": [
              0.1750799548
             ]
            },
            {
             "iteration": 79,
             "learn": [
              0.1749332314
             ],
             "passed_time": 33.9381987,
             "remaining_time": 8.484549675,
             "test": [
              0.1728104927
             ]
            },
            {
             "iteration": 80,
             "learn": [
              0.1732814974
             ],
             "passed_time": 34.31122168,
             "remaining_time": 8.048311258,
             "test": [
              0.1708686773
             ]
            },
            {
             "iteration": 81,
             "learn": [
              0.1712390716
             ],
             "passed_time": 34.82949383,
             "remaining_time": 7.645498645,
             "test": [
              0.1688059788
             ]
            },
            {
             "iteration": 82,
             "learn": [
              0.1694102273
             ],
             "passed_time": 35.22306063,
             "remaining_time": 7.214361816,
             "test": [
              0.1670662575
             ]
            },
            {
             "iteration": 83,
             "learn": [
              0.1679556951
             ],
             "passed_time": 35.5756626,
             "remaining_time": 6.776316685,
             "test": [
              0.1654585159
             ]
            },
            {
             "iteration": 84,
             "learn": [
              0.16619449
             ],
             "passed_time": 35.94398422,
             "remaining_time": 6.343056039,
             "test": [
              0.1636003139
             ]
            },
            {
             "iteration": 85,
             "learn": [
              0.1643377632
             ],
             "passed_time": 36.50574887,
             "remaining_time": 5.942796327,
             "test": [
              0.1616179995
             ]
            },
            {
             "iteration": 86,
             "learn": [
              0.1628145623
             ],
             "passed_time": 36.90935184,
             "remaining_time": 5.515190506,
             "test": [
              0.160037556
             ]
            },
            {
             "iteration": 87,
             "learn": [
              0.1609358595
             ],
             "passed_time": 37.3698797,
             "remaining_time": 5.095892686,
             "test": [
              0.1582125789
             ]
            },
            {
             "iteration": 88,
             "learn": [
              0.1594403463
             ],
             "passed_time": 37.75393736,
             "remaining_time": 4.666216977,
             "test": [
              0.1567960446
             ]
            },
            {
             "iteration": 89,
             "learn": [
              0.1577824361
             ],
             "passed_time": 38.21392053,
             "remaining_time": 4.24599117,
             "test": [
              0.1549631079
             ]
            },
            {
             "iteration": 90,
             "learn": [
              0.1565218158
             ],
             "passed_time": 38.5499891,
             "remaining_time": 3.812636284,
             "test": [
              0.1537573337
             ]
            },
            {
             "iteration": 91,
             "learn": [
              0.1550204013
             ],
             "passed_time": 38.95877984,
             "remaining_time": 3.387719986,
             "test": [
              0.1524080385
             ]
            },
            {
             "iteration": 92,
             "learn": [
              0.1537026953
             ],
             "passed_time": 39.36706222,
             "remaining_time": 2.96311221,
             "test": [
              0.1508699683
             ]
            },
            {
             "iteration": 93,
             "learn": [
              0.1518310034
             ],
             "passed_time": 39.80543871,
             "remaining_time": 2.540772684,
             "test": [
              0.1491431352
             ]
            },
            {
             "iteration": 94,
             "learn": [
              0.1501602307
             ],
             "passed_time": 40.21743052,
             "remaining_time": 2.116706869,
             "test": [
              0.1474606154
             ]
            },
            {
             "iteration": 95,
             "learn": [
              0.1488439777
             ],
             "passed_time": 40.62275487,
             "remaining_time": 1.692614786,
             "test": [
              0.145904384
             ]
            },
            {
             "iteration": 96,
             "learn": [
              0.1470965461
             ],
             "passed_time": 41.05515606,
             "remaining_time": 1.269747095,
             "test": [
              0.1442760749
             ]
            },
            {
             "iteration": 97,
             "learn": [
              0.1454589062
             ],
             "passed_time": 41.47079089,
             "remaining_time": 0.8463426712,
             "test": [
              0.1426803077
             ]
            },
            {
             "iteration": 98,
             "learn": [
              0.1439688607
             ],
             "passed_time": 41.90417754,
             "remaining_time": 0.4232745206,
             "test": [
              0.1412267976
             ]
            },
            {
             "iteration": 99,
             "learn": [
              0.1428735743
             ],
             "passed_time": 42.30558989,
             "remaining_time": 0,
             "test": [
              0.1401224148
             ]
            }
           ],
           "meta": {
            "iteration_count": 100,
            "launch_mode": "Train",
            "learn_metrics": [
             {
              "best_value": "Min",
              "name": "CrossEntropy"
             }
            ],
            "learn_sets": [
             "learn"
            ],
            "name": "experiment",
            "parameters": "",
            "test_metrics": [
             {
              "best_value": "Min",
              "name": "CrossEntropy"
             }
            ],
            "test_sets": [
             "test"
            ]
           }
          },
          "passed_iterations": 99,
          "total_iterations": 100
         },
         "name": "catboost_info",
         "path": "catboost_info"
        }
       },
       "layout": "IPY_MODEL_25e10203cff04aefa489e8f65a0adcb7"
      }
     },
     "7a19f735373b4083a27d7ddb4ae8512b": {
      "model_module": "@jupyter-widgets/base",
      "model_module_version": "1.2.0",
      "model_name": "LayoutModel",
      "state": {
       "_model_module": "@jupyter-widgets/base",
       "_model_module_version": "1.2.0",
       "_model_name": "LayoutModel",
       "_view_count": null,
       "_view_module": "@jupyter-widgets/base",
       "_view_module_version": "1.2.0",
       "_view_name": "LayoutView",
       "align_content": null,
       "align_items": null,
       "align_self": "stretch",
       "border": null,
       "bottom": null,
       "display": null,
       "flex": null,
       "flex_flow": null,
       "grid_area": null,
       "grid_auto_columns": null,
       "grid_auto_flow": null,
       "grid_auto_rows": null,
       "grid_column": null,
       "grid_gap": null,
       "grid_row": null,
       "grid_template_areas": null,
       "grid_template_columns": null,
       "grid_template_rows": null,
       "height": "500px",
       "justify_content": null,
       "justify_items": null,
       "left": null,
       "margin": null,
       "max_height": null,
       "max_width": null,
       "min_height": null,
       "min_width": null,
       "object_fit": null,
       "object_position": null,
       "order": null,
       "overflow": null,
       "overflow_x": null,
       "overflow_y": null,
       "padding": null,
       "right": null,
       "top": null,
       "visibility": null,
       "width": null
      }
     },
     "8246371971fa4c9c9c550468d87aef45": {
      "model_module": "@jupyter-widgets/base",
      "model_module_version": "1.2.0",
      "model_name": "LayoutModel",
      "state": {
       "_model_module": "@jupyter-widgets/base",
       "_model_module_version": "1.2.0",
       "_model_name": "LayoutModel",
       "_view_count": null,
       "_view_module": "@jupyter-widgets/base",
       "_view_module_version": "1.2.0",
       "_view_name": "LayoutView",
       "align_content": null,
       "align_items": null,
       "align_self": "stretch",
       "border": null,
       "bottom": null,
       "display": null,
       "flex": null,
       "flex_flow": null,
       "grid_area": null,
       "grid_auto_columns": null,
       "grid_auto_flow": null,
       "grid_auto_rows": null,
       "grid_column": null,
       "grid_gap": null,
       "grid_row": null,
       "grid_template_areas": null,
       "grid_template_columns": null,
       "grid_template_rows": null,
       "height": "500px",
       "justify_content": null,
       "justify_items": null,
       "left": null,
       "margin": null,
       "max_height": null,
       "max_width": null,
       "min_height": null,
       "min_width": null,
       "object_fit": null,
       "object_position": null,
       "order": null,
       "overflow": null,
       "overflow_x": null,
       "overflow_y": null,
       "padding": null,
       "right": null,
       "top": null,
       "visibility": null,
       "width": null
      }
     },
     "8bfea42ebde54e118cf45fc07ace13bf": {
      "model_module": "@jupyter-widgets/base",
      "model_module_version": "1.2.0",
      "model_name": "LayoutModel",
      "state": {
       "_model_module": "@jupyter-widgets/base",
       "_model_module_version": "1.2.0",
       "_model_name": "LayoutModel",
       "_view_count": null,
       "_view_module": "@jupyter-widgets/base",
       "_view_module_version": "1.2.0",
       "_view_name": "LayoutView",
       "align_content": null,
       "align_items": null,
       "align_self": "stretch",
       "border": null,
       "bottom": null,
       "display": null,
       "flex": null,
       "flex_flow": null,
       "grid_area": null,
       "grid_auto_columns": null,
       "grid_auto_flow": null,
       "grid_auto_rows": null,
       "grid_column": null,
       "grid_gap": null,
       "grid_row": null,
       "grid_template_areas": null,
       "grid_template_columns": null,
       "grid_template_rows": null,
       "height": "500px",
       "justify_content": null,
       "justify_items": null,
       "left": null,
       "margin": null,
       "max_height": null,
       "max_width": null,
       "min_height": null,
       "min_width": null,
       "object_fit": null,
       "object_position": null,
       "order": null,
       "overflow": null,
       "overflow_x": null,
       "overflow_y": null,
       "padding": null,
       "right": null,
       "top": null,
       "visibility": null,
       "width": null
      }
     },
     "97be09315ab94559b71abdbd950777c3": {
      "model_module": "catboost-widget",
      "model_module_version": "^1.0.0",
      "model_name": "CatboostWidgetModel",
      "state": {
       "_dom_classes": [],
       "_model_module": "catboost-widget",
       "_model_module_version": "^1.0.0",
       "_model_name": "CatboostWidgetModel",
       "_view_count": null,
       "_view_module": "catboost-widget",
       "_view_module_version": "^1.0.0",
       "_view_name": "CatboostWidgetView",
       "data": {
        "catboost_info": {
         "content": {
          "data": {
           "iterations": [
            {
             "iteration": 0,
             "learn": [
              0.6635756058
             ],
             "passed_time": 0.3382173217,
             "remaining_time": 33.48351485,
             "test": [
              0.6643968685
             ]
            },
            {
             "iteration": 1,
             "learn": [
              0.6380815594
             ],
             "passed_time": 0.6880276347,
             "remaining_time": 33.7133541,
             "test": [
              0.6372442198
             ]
            },
            {
             "iteration": 2,
             "learn": [
              0.6116921067
             ],
             "passed_time": 1.004647813,
             "remaining_time": 32.4836126,
             "test": [
              0.6117742086
             ]
            },
            {
             "iteration": 3,
             "learn": [
              0.5880168568
             ],
             "passed_time": 1.349525039,
             "remaining_time": 32.38860092,
             "test": [
              0.587646808
             ]
            },
            {
             "iteration": 4,
             "learn": [
              0.5660047463
             ],
             "passed_time": 1.70291372,
             "remaining_time": 32.35536068,
             "test": [
              0.5646599556
             ]
            },
            {
             "iteration": 5,
             "learn": [
              0.5447057531
             ],
             "passed_time": 2.029497653,
             "remaining_time": 31.79546324,
             "test": [
              0.5429410433
             ]
            },
            {
             "iteration": 6,
             "learn": [
              0.5231128887
             ],
             "passed_time": 2.347520385,
             "remaining_time": 31.18848512,
             "test": [
              0.5223785159
             ]
            },
            {
             "iteration": 7,
             "learn": [
              0.5051392816
             ],
             "passed_time": 2.669539993,
             "remaining_time": 30.69970992,
             "test": [
              0.5028979782
             ]
            },
            {
             "iteration": 8,
             "learn": [
              0.4855330989
             ],
             "passed_time": 2.987407804,
             "remaining_time": 30.20601224,
             "test": [
              0.4843597285
             ]
            },
            {
             "iteration": 9,
             "learn": [
              0.4685448629
             ],
             "passed_time": 3.309268216,
             "remaining_time": 29.78341395,
             "test": [
              0.4667077016
             ]
            },
            {
             "iteration": 10,
             "learn": [
              0.4525230963
             ],
             "passed_time": 3.659859139,
             "remaining_time": 29.61158758,
             "test": [
              0.4497702461
             ]
            },
            {
             "iteration": 11,
             "learn": [
              0.437004423
             ],
             "passed_time": 3.981707473,
             "remaining_time": 29.19918813,
             "test": [
              0.4337653285
             ]
            },
            {
             "iteration": 12,
             "learn": [
              0.4218595733
             ],
             "passed_time": 4.30389451,
             "remaining_time": 28.80298634,
             "test": [
              0.4184734869
             ]
            },
            {
             "iteration": 13,
             "learn": [
              0.4069201535
             ],
             "passed_time": 4.65312276,
             "remaining_time": 28.58346838,
             "test": [
              0.403775888
             ]
            },
            {
             "iteration": 14,
             "learn": [
              0.3922382158
             ],
             "passed_time": 4.982666077,
             "remaining_time": 28.23510777,
             "test": [
              0.3899122975
             ]
            },
            {
             "iteration": 15,
             "learn": [
              0.3788034065
             ],
             "passed_time": 5.332671172,
             "remaining_time": 27.99652365,
             "test": [
              0.3764586868
             ]
            },
            {
             "iteration": 16,
             "learn": [
              0.3668855889
             ],
             "passed_time": 5.682273959,
             "remaining_time": 27.74286698,
             "test": [
              0.3635907277
             ]
            },
            {
             "iteration": 17,
             "learn": [
              0.3543260094
             ],
             "passed_time": 6.018941233,
             "remaining_time": 27.41962117,
             "test": [
              0.3515915975
             ]
            },
            {
             "iteration": 18,
             "learn": [
              0.3422650488
             ],
             "passed_time": 6.349975882,
             "remaining_time": 27.07094981,
             "test": [
              0.3400264962
             ]
            },
            {
             "iteration": 19,
             "learn": [
              0.3316166815
             ],
             "passed_time": 6.700328153,
             "remaining_time": 26.80131261,
             "test": [
              0.328631982
             ]
            },
            {
             "iteration": 20,
             "learn": [
              0.3212170464
             ],
             "passed_time": 7.05419733,
             "remaining_time": 26.53721853,
             "test": [
              0.3178882682
             ]
            },
            {
             "iteration": 21,
             "learn": [
              0.309886515
             ],
             "passed_time": 7.455896163,
             "remaining_time": 26.43454094,
             "test": [
              0.3077280255
             ]
            },
            {
             "iteration": 22,
             "learn": [
              0.3012337268
             ],
             "passed_time": 7.932603615,
             "remaining_time": 26.55697732,
             "test": [
              0.2977824019
             ]
            },
            {
             "iteration": 23,
             "learn": [
              0.2914632905
             ],
             "passed_time": 8.406960679,
             "remaining_time": 26.62204215,
             "test": [
              0.2882537066
             ]
            },
            {
             "iteration": 24,
             "learn": [
              0.2823101043
             ],
             "passed_time": 8.84965935,
             "remaining_time": 26.54897805,
             "test": [
              0.2790662295
             ]
            },
            {
             "iteration": 25,
             "learn": [
              0.2737241497
             ],
             "passed_time": 9.182077649,
             "remaining_time": 26.13360562,
             "test": [
              0.2704858512
             ]
            },
            {
             "iteration": 26,
             "learn": [
              0.2649333075
             ],
             "passed_time": 9.53838095,
             "remaining_time": 25.7889559,
             "test": [
              0.2618186591
             ]
            },
            {
             "iteration": 27,
             "learn": [
              0.2569106593
             ],
             "passed_time": 9.872043416,
             "remaining_time": 25.3852545,
             "test": [
              0.2536325427
             ]
            },
            {
             "iteration": 28,
             "learn": [
              0.2492776528
             ],
             "passed_time": 10.21520708,
             "remaining_time": 25.00964491,
             "test": [
              0.2457722786
             ]
            },
            {
             "iteration": 29,
             "learn": [
              0.2417855575
             ],
             "passed_time": 10.54554979,
             "remaining_time": 24.60628284,
             "test": [
              0.2382481599
             ]
            },
            {
             "iteration": 30,
             "learn": [
              0.2345326745
             ],
             "passed_time": 10.87460725,
             "remaining_time": 24.20477097,
             "test": [
              0.2310348824
             ]
            },
            {
             "iteration": 31,
             "learn": [
              0.2276162497
             ],
             "passed_time": 11.20518111,
             "remaining_time": 23.81100986,
             "test": [
              0.2241242358
             ]
            },
            {
             "iteration": 32,
             "learn": [
              0.2213426941
             ],
             "passed_time": 11.54639903,
             "remaining_time": 23.44268894,
             "test": [
              0.2175673524
             ]
            },
            {
             "iteration": 33,
             "learn": [
              0.214932504
             ],
             "passed_time": 11.88102638,
             "remaining_time": 23.06316885,
             "test": [
              0.2110431751
             ]
            },
            {
             "iteration": 34,
             "learn": [
              0.2084870535
             ],
             "passed_time": 12.22402974,
             "remaining_time": 22.70176952,
             "test": [
              0.2048725503
             ]
            },
            {
             "iteration": 35,
             "learn": [
              0.2027106557
             ],
             "passed_time": 12.55933603,
             "remaining_time": 22.32770849,
             "test": [
              0.1988624076
             ]
            },
            {
             "iteration": 36,
             "learn": [
              0.1966002168
             ],
             "passed_time": 12.91018058,
             "remaining_time": 21.98219936,
             "test": [
              0.1928819775
             ]
            },
            {
             "iteration": 37,
             "learn": [
              0.1912401109
             ],
             "passed_time": 13.26546574,
             "remaining_time": 21.64365463,
             "test": [
              0.1874333396
             ]
            },
            {
             "iteration": 38,
             "learn": [
              0.1855921549
             ],
             "passed_time": 13.60197123,
             "remaining_time": 21.27487808,
             "test": [
              0.1818710544
             ]
            },
            {
             "iteration": 39,
             "learn": [
              0.1806109913
             ],
             "passed_time": 13.93583438,
             "remaining_time": 20.90375157,
             "test": [
              0.1765729525
             ]
            },
            {
             "iteration": 40,
             "learn": [
              0.1755851881
             ],
             "passed_time": 14.29571307,
             "remaining_time": 20.57187979,
             "test": [
              0.1716684066
             ]
            },
            {
             "iteration": 41,
             "learn": [
              0.1704986172
             ],
             "passed_time": 14.63393585,
             "remaining_time": 20.20876856,
             "test": [
              0.1666562001
             ]
            },
            {
             "iteration": 42,
             "learn": [
              0.1660553529
             ],
             "passed_time": 14.99560765,
             "remaining_time": 19.87789851,
             "test": [
              0.1619734195
             ]
            },
            {
             "iteration": 43,
             "learn": [
              0.1616356835
             ],
             "passed_time": 15.35697052,
             "remaining_time": 19.54523521,
             "test": [
              0.1575714515
             ]
            },
            {
             "iteration": 44,
             "learn": [
              0.1572771734
             ],
             "passed_time": 15.72202622,
             "remaining_time": 19.21580982,
             "test": [
              0.1533309445
             ]
            },
            {
             "iteration": 45,
             "learn": [
              0.1530378164
             ],
             "passed_time": 16.0226524,
             "remaining_time": 18.80920065,
             "test": [
              0.1488737169
             ]
            },
            {
             "iteration": 46,
             "learn": [
              0.148678564
             ],
             "passed_time": 16.37566466,
             "remaining_time": 18.46617504,
             "test": [
              0.1445978697
             ]
            },
            {
             "iteration": 47,
             "learn": [
              0.1449000046
             ],
             "passed_time": 16.74250261,
             "remaining_time": 18.13771116,
             "test": [
              0.1407688925
             ]
            },
            {
             "iteration": 48,
             "learn": [
              0.1408341696
             ],
             "passed_time": 17.12396627,
             "remaining_time": 17.82290367,
             "test": [
              0.1368378166
             ]
            },
            {
             "iteration": 49,
             "learn": [
              0.1371781974
             ],
             "passed_time": 17.47656797,
             "remaining_time": 17.47656797,
             "test": [
              0.1331413495
             ]
            },
            {
             "iteration": 50,
             "learn": [
              0.1336466302
             ],
             "passed_time": 17.81964559,
             "remaining_time": 17.12083596,
             "test": [
              0.1295987435
             ]
            },
            {
             "iteration": 51,
             "learn": [
              0.1300777656
             ],
             "passed_time": 18.17787933,
             "remaining_time": 16.77958092,
             "test": [
              0.1259443733
             ]
            },
            {
             "iteration": 52,
             "learn": [
              0.1266088174
             ],
             "passed_time": 18.51811464,
             "remaining_time": 16.4217243,
             "test": [
              0.1226129675
             ]
            },
            {
             "iteration": 53,
             "learn": [
              0.1235626387
             ],
             "passed_time": 18.88077695,
             "remaining_time": 16.08362481,
             "test": [
              0.1194937657
             ]
            },
            {
             "iteration": 54,
             "learn": [
              0.1203105213
             ],
             "passed_time": 19.21785924,
             "remaining_time": 15.72370302,
             "test": [
              0.1162618471
             ]
            },
            {
             "iteration": 55,
             "learn": [
              0.1172322099
             ],
             "passed_time": 19.56302396,
             "remaining_time": 15.3709474,
             "test": [
              0.1132140307
             ]
            },
            {
             "iteration": 56,
             "learn": [
              0.1142428646
             ],
             "passed_time": 19.89676562,
             "remaining_time": 15.00984073,
             "test": [
              0.1101463426
             ]
            },
            {
             "iteration": 57,
             "learn": [
              0.1112839526
             ],
             "passed_time": 20.23334181,
             "remaining_time": 14.65173028,
             "test": [
              0.1072928541
             ]
            },
            {
             "iteration": 58,
             "learn": [
              0.1084716147
             ],
             "passed_time": 20.54520734,
             "remaining_time": 14.27717798,
             "test": [
              0.1044070594
             ]
            },
            {
             "iteration": 59,
             "learn": [
              0.1060075179
             ],
             "passed_time": 20.90013751,
             "remaining_time": 13.93342501,
             "test": [
              0.1018412147
             ]
            },
            {
             "iteration": 60,
             "learn": [
              0.103384894
             ],
             "passed_time": 21.23601492,
             "remaining_time": 13.5771243,
             "test": [
              0.09919577466
             ]
            },
            {
             "iteration": 61,
             "learn": [
              0.1006474924
             ],
             "passed_time": 21.58658332,
             "remaining_time": 13.23048655,
             "test": [
              0.09651237435
             ]
            },
            {
             "iteration": 62,
             "learn": [
              0.09822835988
             ],
             "passed_time": 21.93097815,
             "remaining_time": 12.88009828,
             "test": [
              0.0939712915
             ]
            },
            {
             "iteration": 63,
             "learn": [
              0.09568362178
             ],
             "passed_time": 22.28452886,
             "remaining_time": 12.53504748,
             "test": [
              0.09152907395
             ]
            },
            {
             "iteration": 64,
             "learn": [
              0.09341264677
             ],
             "passed_time": 22.63679654,
             "remaining_time": 12.18904429,
             "test": [
              0.08928766147
             ]
            },
            {
             "iteration": 65,
             "learn": [
              0.09098555242
             ],
             "passed_time": 23.04131059,
             "remaining_time": 11.86976606,
             "test": [
              0.08679876893
             ]
            },
            {
             "iteration": 66,
             "learn": [
              0.08881376424
             ],
             "passed_time": 23.37779029,
             "remaining_time": 11.51443402,
             "test": [
              0.08464693448
             ]
            },
            {
             "iteration": 67,
             "learn": [
              0.08665807065
             ],
             "passed_time": 23.73444974,
             "remaining_time": 11.16915282,
             "test": [
              0.08247516403
             ]
            },
            {
             "iteration": 68,
             "learn": [
              0.08425131378
             ],
             "passed_time": 24.14590171,
             "remaining_time": 10.84815874,
             "test": [
              0.08021024431
             ]
            },
            {
             "iteration": 69,
             "learn": [
              0.08234177688
             ],
             "passed_time": 24.47226277,
             "remaining_time": 10.48811262,
             "test": [
              0.0781781479
             ]
            },
            {
             "iteration": 70,
             "learn": [
              0.08011368677
             ],
             "passed_time": 24.88504657,
             "remaining_time": 10.1643148,
             "test": [
              0.07604126628
             ]
            },
            {
             "iteration": 71,
             "learn": [
              0.07804818314
             ],
             "passed_time": 25.29452368,
             "remaining_time": 9.836759207,
             "test": [
              0.07398860283
             ]
            },
            {
             "iteration": 72,
             "learn": [
              0.07624257128
             ],
             "passed_time": 25.60197244,
             "remaining_time": 9.469222684,
             "test": [
              0.07218691541
             ]
            },
            {
             "iteration": 73,
             "learn": [
              0.07444419859
             ],
             "passed_time": 25.94959185,
             "remaining_time": 9.117424164,
             "test": [
              0.07037981246
             ]
            },
            {
             "iteration": 74,
             "learn": [
              0.07265507947
             ],
             "passed_time": 26.30537882,
             "remaining_time": 8.768459606,
             "test": [
              0.06862606049
             ]
            },
            {
             "iteration": 75,
             "learn": [
              0.07074534588
             ],
             "passed_time": 26.71441729,
             "remaining_time": 8.436131774,
             "test": [
              0.066793032
             ]
            },
            {
             "iteration": 76,
             "learn": [
              0.06936500677
             ],
             "passed_time": 27.04185221,
             "remaining_time": 8.077436374,
             "test": [
              0.06540871772
             ]
            },
            {
             "iteration": 77,
             "learn": [
              0.0678237883
             ],
             "passed_time": 27.39492663,
             "remaining_time": 7.726774179,
             "test": [
              0.06381906248
             ]
            },
            {
             "iteration": 78,
             "learn": [
              0.06602713782
             ],
             "passed_time": 27.76233894,
             "remaining_time": 7.379862251,
             "test": [
              0.06233064667
             ]
            },
            {
             "iteration": 79,
             "learn": [
              0.06443355742
             ],
             "passed_time": 28.17243288,
             "remaining_time": 7.04310822,
             "test": [
              0.06069554082
             ]
            },
            {
             "iteration": 80,
             "learn": [
              0.0629288216
             ],
             "passed_time": 28.52127318,
             "remaining_time": 6.69017519,
             "test": [
              0.05927404653
             ]
            },
            {
             "iteration": 81,
             "learn": [
              0.06155569328
             ],
             "passed_time": 28.82086892,
             "remaining_time": 6.326532203,
             "test": [
              0.05783028316
             ]
            },
            {
             "iteration": 82,
             "learn": [
              0.06007143993
             ],
             "passed_time": 29.27421823,
             "remaining_time": 5.995924216,
             "test": [
              0.05633353624
             ]
            },
            {
             "iteration": 83,
             "learn": [
              0.05875006518
             ],
             "passed_time": 29.60919559,
             "remaining_time": 5.63984678,
             "test": [
              0.05508428362
             ]
            },
            {
             "iteration": 84,
             "learn": [
              0.05738993159
             ],
             "passed_time": 29.97207304,
             "remaining_time": 5.28918936,
             "test": [
              0.05373522338
             ]
            },
            {
             "iteration": 85,
             "learn": [
              0.05621219946
             ],
             "passed_time": 30.3068718,
             "remaining_time": 4.933676804,
             "test": [
              0.05253710464
             ]
            },
            {
             "iteration": 86,
             "learn": [
              0.05495746209
             ],
             "passed_time": 30.64818978,
             "remaining_time": 4.579614565,
             "test": [
              0.05134388719
             ]
            },
            {
             "iteration": 87,
             "learn": [
              0.05379449161
             ],
             "passed_time": 31.02743185,
             "remaining_time": 4.231013434,
             "test": [
              0.05020111257
             ]
            },
            {
             "iteration": 88,
             "learn": [
              0.05248377338
             ],
             "passed_time": 31.39185066,
             "remaining_time": 3.879891654,
             "test": [
              0.0490700702
             ]
            },
            {
             "iteration": 89,
             "learn": [
              0.05126973272
             ],
             "passed_time": 31.75292805,
             "remaining_time": 3.528103117,
             "test": [
              0.04790126473
             ]
            },
            {
             "iteration": 90,
             "learn": [
              0.05021292576
             ],
             "passed_time": 32.09318175,
             "remaining_time": 3.174050943,
             "test": [
              0.04682112441
             ]
            },
            {
             "iteration": 91,
             "learn": [
              0.0490257064
             ],
             "passed_time": 32.46595626,
             "remaining_time": 2.823126632,
             "test": [
              0.04578821772
             ]
            },
            {
             "iteration": 92,
             "learn": [
              0.04800428541
             ],
             "passed_time": 32.77149945,
             "remaining_time": 2.466672002,
             "test": [
              0.04473304984
             ]
            },
            {
             "iteration": 93,
             "learn": [
              0.04692281893
             ],
             "passed_time": 33.12815064,
             "remaining_time": 2.114562807,
             "test": [
              0.04367624845
             ]
            },
            {
             "iteration": 94,
             "learn": [
              0.04586845111
             ],
             "passed_time": 33.46598073,
             "remaining_time": 1.761367407,
             "test": [
              0.04256767103
             ]
            },
            {
             "iteration": 95,
             "learn": [
              0.04497956912
             ],
             "passed_time": 33.79810504,
             "remaining_time": 1.408254376,
             "test": [
              0.04168980256
             ]
            },
            {
             "iteration": 96,
             "learn": [
              0.0439972495
             ],
             "passed_time": 34.12560865,
             "remaining_time": 1.055431195,
             "test": [
              0.040767758
             ]
            },
            {
             "iteration": 97,
             "learn": [
              0.0431979407
             ],
             "passed_time": 34.46032407,
             "remaining_time": 0.7032719198,
             "test": [
              0.03991417034
             ]
            },
            {
             "iteration": 98,
             "learn": [
              0.04227635581
             ],
             "passed_time": 34.77449274,
             "remaining_time": 0.3512575024,
             "test": [
              0.03904599002
             ]
            },
            {
             "iteration": 99,
             "learn": [
              0.0414207933
             ],
             "passed_time": 35.13296883,
             "remaining_time": 0,
             "test": [
              0.03820387677
             ]
            }
           ],
           "meta": {
            "iteration_count": 100,
            "launch_mode": "Train",
            "learn_metrics": [
             {
              "best_value": "Min",
              "name": "CrossEntropy"
             }
            ],
            "learn_sets": [
             "learn"
            ],
            "name": "experiment",
            "parameters": "",
            "test_metrics": [
             {
              "best_value": "Min",
              "name": "CrossEntropy"
             }
            ],
            "test_sets": [
             "test"
            ]
           }
          },
          "passed_iterations": 99,
          "total_iterations": 100
         },
         "name": "catboost_info",
         "path": "catboost_info"
        }
       },
       "layout": "IPY_MODEL_67b9529de41b4211aa5f01be072027eb"
      }
     },
     "99d3e2e8613b4749be8c9a63116d8d05": {
      "model_module": "catboost-widget",
      "model_module_version": "^1.0.0",
      "model_name": "CatboostWidgetModel",
      "state": {
       "_dom_classes": [],
       "_model_module": "catboost-widget",
       "_model_module_version": "^1.0.0",
       "_model_name": "CatboostWidgetModel",
       "_view_count": null,
       "_view_module": "catboost-widget",
       "_view_module_version": "^1.0.0",
       "_view_name": "CatboostWidgetView",
       "data": {
        "catboost_info": {
         "content": {
          "data": {
           "iterations": [
            {
             "iteration": 0,
             "learn": [
              0.661379702
             ],
             "passed_time": 0.3673671875,
             "remaining_time": 36.36935156,
             "test": [
              0.6636001409
             ]
            },
            {
             "iteration": 1,
             "learn": [
              0.6362953266
             ],
             "passed_time": 0.768769768,
             "remaining_time": 37.66971863,
             "test": [
              0.635772324
             ]
            },
            {
             "iteration": 2,
             "learn": [
              0.6093776947
             ],
             "passed_time": 1.137012013,
             "remaining_time": 36.76338842,
             "test": [
              0.6095190785
             ]
            },
            {
             "iteration": 3,
             "learn": [
              0.5837182498
             ],
             "passed_time": 1.531330687,
             "remaining_time": 36.7519365,
             "test": [
              0.5847114381
             ]
            },
            {
             "iteration": 4,
             "learn": [
              0.5621930055
             ],
             "passed_time": 1.904259755,
             "remaining_time": 36.18093534,
             "test": [
              0.5612360639
             ]
            },
            {
             "iteration": 5,
             "learn": [
              0.5376530941
             ],
             "passed_time": 2.271914934,
             "remaining_time": 35.59333397,
             "test": [
              0.538994253
             ]
            },
            {
             "iteration": 6,
             "learn": [
              0.5168828339
             ],
             "passed_time": 2.667586941,
             "remaining_time": 35.44079794,
             "test": [
              0.5178877569
             ]
            },
            {
             "iteration": 7,
             "learn": [
              0.4986908782
             ],
             "passed_time": 3.032381076,
             "remaining_time": 34.87238237,
             "test": [
              0.4978406447
             ]
            },
            {
             "iteration": 8,
             "learn": [
              0.4785274814
             ],
             "passed_time": 3.419937663,
             "remaining_time": 34.57936971,
             "test": [
              0.4787768511
             ]
            },
            {
             "iteration": 9,
             "learn": [
              0.4605842146
             ],
             "passed_time": 3.880972861,
             "remaining_time": 34.92875575,
             "test": [
              0.4606314137
             ]
            },
            {
             "iteration": 10,
             "learn": [
              0.4438286562
             ],
             "passed_time": 4.266247447,
             "remaining_time": 34.51782025,
             "test": [
              0.4433430609
             ]
            },
            {
             "iteration": 11,
             "learn": [
              0.4280554292
             ],
             "passed_time": 4.701958143,
             "remaining_time": 34.48102638,
             "test": [
              0.4268572663
             ]
            },
            {
             "iteration": 12,
             "learn": [
              0.4121300622
             ],
             "passed_time": 5.150075749,
             "remaining_time": 34.46589155,
             "test": [
              0.411125263
             ]
            },
            {
             "iteration": 13,
             "learn": [
              0.3967814031
             ],
             "passed_time": 5.554337298,
             "remaining_time": 34.11950055,
             "test": [
              0.3960998606
             ]
            },
            {
             "iteration": 14,
             "learn": [
              0.3824033714
             ],
             "passed_time": 5.954549551,
             "remaining_time": 33.74244746,
             "test": [
              0.3817395633
             ]
            },
            {
             "iteration": 15,
             "learn": [
              0.3673413736
             ],
             "passed_time": 6.34198593,
             "remaining_time": 33.29542613,
             "test": [
              0.3680044514
             ]
            },
            {
             "iteration": 16,
             "learn": [
              0.353882689
             ],
             "passed_time": 6.789818403,
             "remaining_time": 33.15028985,
             "test": [
              0.3548596644
             ]
            },
            {
             "iteration": 17,
             "learn": [
              0.3431758348
             ],
             "passed_time": 7.172258339,
             "remaining_time": 32.67362132,
             "test": [
              0.34227248
             ]
            },
            {
             "iteration": 18,
             "learn": [
              0.330092999
             ],
             "passed_time": 7.578332614,
             "remaining_time": 32.30762851,
             "test": [
              0.3302123671
             ]
            },
            {
             "iteration": 19,
             "learn": [
              0.3196814602
             ],
             "passed_time": 7.944029111,
             "remaining_time": 31.77611644,
             "test": [
              0.3186503369
             ]
            },
            {
             "iteration": 20,
             "learn": [
              0.3069884517
             ],
             "passed_time": 8.403257628,
             "remaining_time": 31.61225489,
             "test": [
              0.3075614333
             ]
            },
            {
             "iteration": 21,
             "learn": [
              0.296889118
             ],
             "passed_time": 8.878051781,
             "remaining_time": 31.47672904,
             "test": [
              0.296920896
             ]
            },
            {
             "iteration": 22,
             "learn": [
              0.2867729086
             ],
             "passed_time": 9.310596974,
             "remaining_time": 31.17025943,
             "test": [
              0.2867059405
             ]
            },
            {
             "iteration": 23,
             "learn": [
              0.2765129965
             ],
             "passed_time": 9.772894227,
             "remaining_time": 30.94749839,
             "test": [
              0.2768951786
             ]
            },
            {
             "iteration": 24,
             "learn": [
              0.266448839
             ],
             "passed_time": 10.12362474,
             "remaining_time": 30.37087423,
             "test": [
              0.2674677706
             ]
            },
            {
             "iteration": 25,
             "learn": [
              0.2579892501
             ],
             "passed_time": 10.51426668,
             "remaining_time": 29.92522056,
             "test": [
              0.2584059994
             ]
            },
            {
             "iteration": 26,
             "learn": [
              0.2499716357
             ],
             "passed_time": 10.93251951,
             "remaining_time": 29.55829349,
             "test": [
              0.2496939162
             ]
            },
            {
             "iteration": 27,
             "learn": [
              0.2419815128
             ],
             "passed_time": 11.37658723,
             "remaining_time": 29.25408144,
             "test": [
              0.2413128108
             ]
            },
            {
             "iteration": 28,
             "learn": [
              0.233687554
             ],
             "passed_time": 11.77327054,
             "remaining_time": 28.82421408,
             "test": [
              0.2332487988
             ]
            },
            {
             "iteration": 29,
             "learn": [
              0.2258569022
             ],
             "passed_time": 12.19197747,
             "remaining_time": 28.44794742,
             "test": [
              0.2254863532
             ]
            },
            {
             "iteration": 30,
             "learn": [
              0.2185344673
             ],
             "passed_time": 12.64780453,
             "remaining_time": 28.15156493,
             "test": [
              0.2180131468
             ]
            },
            {
             "iteration": 31,
             "learn": [
              0.2109408558
             ],
             "passed_time": 13.0761096,
             "remaining_time": 27.7867329,
             "test": [
              0.2108157421
             ]
            },
            {
             "iteration": 32,
             "learn": [
              0.2033611447
             ],
             "passed_time": 13.47030697,
             "remaining_time": 27.34880507,
             "test": [
              0.2038809721
             ]
            },
            {
             "iteration": 33,
             "learn": [
              0.1964352138
             ],
             "passed_time": 13.951286,
             "remaining_time": 27.08190812,
             "test": [
              0.1972011891
             ]
            },
            {
             "iteration": 34,
             "learn": [
              0.191194401
             ],
             "passed_time": 14.4185097,
             "remaining_time": 26.7772323,
             "test": [
              0.190760343
             ]
            },
            {
             "iteration": 35,
             "learn": [
              0.1839136848
             ],
             "passed_time": 14.81237921,
             "remaining_time": 26.33311859,
             "test": [
              0.1845502327
             ]
            },
            {
             "iteration": 36,
             "learn": [
              0.1787802694
             ],
             "passed_time": 15.24088531,
             "remaining_time": 25.95069661,
             "test": [
              0.1785617033
             ]
            },
            {
             "iteration": 37,
             "learn": [
              0.1721991013
             ],
             "passed_time": 15.67869934,
             "remaining_time": 25.58103577,
             "test": [
              0.1727851946
             ]
            },
            {
             "iteration": 38,
             "learn": [
              0.1676813948
             ],
             "passed_time": 16.12736467,
             "remaining_time": 25.22485243,
             "test": [
              0.1672120838
             ]
            },
            {
             "iteration": 39,
             "learn": [
              0.1614380421
             ],
             "passed_time": 16.56707426,
             "remaining_time": 24.85061138,
             "test": [
              0.1618340695
             ]
            },
            {
             "iteration": 40,
             "learn": [
              0.1563404098
             ],
             "passed_time": 16.99148208,
             "remaining_time": 24.45115714,
             "test": [
              0.1566489695
             ]
            },
            {
             "iteration": 41,
             "learn": [
              0.1520292101
             ],
             "passed_time": 17.46189512,
             "remaining_time": 24.11404564,
             "test": [
              0.1516383206
             ]
            },
            {
             "iteration": 42,
             "learn": [
              0.1470161373
             ],
             "passed_time": 17.8292184,
             "remaining_time": 23.6340802,
             "test": [
              0.1468001238
             ]
            },
            {
             "iteration": 43,
             "learn": [
              0.1418848739
             ],
             "passed_time": 18.28146347,
             "remaining_time": 23.26731714,
             "test": [
              0.1421302456
             ]
            },
            {
             "iteration": 44,
             "learn": [
              0.1371176408
             ],
             "passed_time": 18.65555141,
             "remaining_time": 22.80122951,
             "test": [
              0.1376176328
             ]
            },
            {
             "iteration": 45,
             "learn": [
              0.132922169
             ],
             "passed_time": 19.10165277,
             "remaining_time": 22.42367934,
             "test": [
              0.1332586391
             ]
            },
            {
             "iteration": 46,
             "learn": [
              0.1289312281
             ],
             "passed_time": 19.55553188,
             "remaining_time": 22.05198275,
             "test": [
              0.1290466315
             ]
            },
            {
             "iteration": 47,
             "learn": [
              0.1250055969
             ],
             "passed_time": 19.9928038,
             "remaining_time": 21.65887078,
             "test": [
              0.1249775981
             ]
            },
            {
             "iteration": 48,
             "learn": [
              0.1210963335
             ],
             "passed_time": 20.44371655,
             "remaining_time": 21.27815396,
             "test": [
              0.1210442118
             ]
            },
            {
             "iteration": 49,
             "learn": [
              0.1172092608
             ],
             "passed_time": 20.8561608,
             "remaining_time": 20.8561608,
             "test": [
              0.1172426227
             ]
            },
            {
             "iteration": 50,
             "learn": [
              0.1133369787
             ],
             "passed_time": 21.25437887,
             "remaining_time": 20.42087382,
             "test": [
              0.1135675017
             ]
            },
            {
             "iteration": 51,
             "learn": [
              0.1097703362
             ],
             "passed_time": 21.6844085,
             "remaining_time": 20.01637708,
             "test": [
              0.1100146461
             ]
            },
            {
             "iteration": 52,
             "learn": [
              0.1069423969
             ],
             "passed_time": 22.09000956,
             "remaining_time": 19.58925376,
             "test": [
              0.1065784517
             ]
            },
            {
             "iteration": 53,
             "learn": [
              0.1034226345
             ],
             "passed_time": 22.53193728,
             "remaining_time": 19.1938725,
             "test": [
              0.1032558031
             ]
            },
            {
             "iteration": 54,
             "learn": [
              0.0997463783
             ],
             "passed_time": 22.93093166,
             "remaining_time": 18.76167136,
             "test": [
              0.1000423336
             ]
            },
            {
             "iteration": 55,
             "learn": [
              0.09715598973
             ],
             "passed_time": 23.31840168,
             "remaining_time": 18.32160132,
             "test": [
              0.09693379956
             ]
            },
            {
             "iteration": 56,
             "learn": [
              0.09378313378
             ],
             "passed_time": 23.69641094,
             "remaining_time": 17.87623983,
             "test": [
              0.0939264643
             ]
            },
            {
             "iteration": 57,
             "learn": [
              0.09124035698
             ],
             "passed_time": 24.11373236,
             "remaining_time": 17.46166826,
             "test": [
              0.09101681314
             ]
            },
            {
             "iteration": 58,
             "learn": [
              0.08796308633
             ],
             "passed_time": 24.52751877,
             "remaining_time": 17.04454694,
             "test": [
              0.08820165224
             ]
            },
            {
             "iteration": 59,
             "learn": [
              0.08549360707
             ],
             "passed_time": 24.984155,
             "remaining_time": 16.65610333,
             "test": [
              0.08547741076
             ]
            },
            {
             "iteration": 60,
             "learn": [
              0.08259766745
             ],
             "passed_time": 25.40561591,
             "remaining_time": 16.24293476,
             "test": [
              0.08284126918
             ]
            },
            {
             "iteration": 61,
             "learn": [
              0.08011920796
             ],
             "passed_time": 25.8679339,
             "remaining_time": 15.85454013,
             "test": [
              0.08028971042
             ]
            },
            {
             "iteration": 62,
             "learn": [
              0.07798937701
             ],
             "passed_time": 26.31791628,
             "remaining_time": 15.45655401,
             "test": [
              0.07782113149
             ]
            },
            {
             "iteration": 63,
             "learn": [
              0.07551464751
             ],
             "passed_time": 26.84515055,
             "remaining_time": 15.10039718,
             "test": [
              0.07543056803
             ]
            },
            {
             "iteration": 64,
             "learn": [
              0.07297750551
             ],
             "passed_time": 27.49035476,
             "remaining_time": 14.80249872,
             "test": [
              0.07311654322
             ]
            },
            {
             "iteration": 65,
             "learn": [
              0.07057752468
             ],
             "passed_time": 28.02039937,
             "remaining_time": 14.43475119,
             "test": [
              0.07087624224
             ]
            },
            {
             "iteration": 66,
             "learn": [
              0.0684660073
             ],
             "passed_time": 28.64410098,
             "remaining_time": 14.10828854,
             "test": [
              0.0687065809
             ]
            },
            {
             "iteration": 67,
             "learn": [
              0.06645193154
             ],
             "passed_time": 29.00702452,
             "remaining_time": 13.65036448,
             "test": [
              0.06660547552
             ]
            },
            {
             "iteration": 68,
             "learn": [
              0.06448572968
             ],
             "passed_time": 29.44666991,
             "remaining_time": 13.22966329,
             "test": [
              0.06457101755
             ]
            },
            {
             "iteration": 69,
             "learn": [
              0.06253193446
             ],
             "passed_time": 29.83862359,
             "remaining_time": 12.78798154,
             "test": [
              0.06260035986
             ]
            },
            {
             "iteration": 70,
             "learn": [
              0.06058467176
             ],
             "passed_time": 30.26524765,
             "remaining_time": 12.36186172,
             "test": [
              0.06069187349
             ]
            },
            {
             "iteration": 71,
             "learn": [
              0.05867325784
             ],
             "passed_time": 30.73891631,
             "remaining_time": 11.95402301,
             "test": [
              0.05884459602
             ]
            },
            {
             "iteration": 72,
             "learn": [
              0.05686635369
             ],
             "passed_time": 31.15051599,
             "remaining_time": 11.52142372,
             "test": [
              0.05705427353
             ]
            },
            {
             "iteration": 73,
             "learn": [
              0.05545328024
             ],
             "passed_time": 31.55085697,
             "remaining_time": 11.08543623,
             "test": [
              0.05532002706
             ]
            },
            {
             "iteration": 74,
             "learn": [
              0.05369584711
             ],
             "passed_time": 31.87632757,
             "remaining_time": 10.62544252,
             "test": [
              0.05363981407
             ]
            },
            {
             "iteration": 75,
             "learn": [
              0.05184635347
             ],
             "passed_time": 32.29285275,
             "remaining_time": 10.19774297,
             "test": [
              0.05201291158
             ]
            },
            {
             "iteration": 76,
             "learn": [
              0.05055417486
             ],
             "passed_time": 32.73715445,
             "remaining_time": 9.77863055,
             "test": [
              0.05043591309
             ]
            },
            {
             "iteration": 77,
             "learn": [
              0.04886155764
             ],
             "passed_time": 33.17269972,
             "remaining_time": 9.356402486,
             "test": [
              0.04890802887
             ]
            },
            {
             "iteration": 78,
             "learn": [
              0.04727209221
             ],
             "passed_time": 33.56198543,
             "remaining_time": 8.921540431,
             "test": [
              0.04742754911
             ]
            },
            {
             "iteration": 79,
             "learn": [
              0.04593351395
             ],
             "passed_time": 34.00473332,
             "remaining_time": 8.50118333,
             "test": [
              0.0459932534
             ]
            },
            {
             "iteration": 80,
             "learn": [
              0.04467332499
             ],
             "passed_time": 34.40345522,
             "remaining_time": 8.069946287,
             "test": [
              0.04460316511
             ]
            },
            {
             "iteration": 81,
             "learn": [
              0.04309059455
             ],
             "passed_time": 34.88120704,
             "remaining_time": 7.656850327,
             "test": [
              0.04325660738
             ]
            },
            {
             "iteration": 82,
             "learn": [
              0.0419819759
             ],
             "passed_time": 35.30021109,
             "remaining_time": 7.230163718,
             "test": [
              0.0419511054
             ]
            },
            {
             "iteration": 83,
             "learn": [
              0.040739392
             ],
             "passed_time": 35.79004665,
             "remaining_time": 6.817151743,
             "test": [
              0.04068575837
             ]
            },
            {
             "iteration": 84,
             "learn": [
              0.03937525652
             ],
             "passed_time": 36.25210901,
             "remaining_time": 6.397431001,
             "test": [
              0.03946006677
             ]
            },
            {
             "iteration": 85,
             "learn": [
              0.03815320044
             ],
             "passed_time": 36.69615007,
             "remaining_time": 5.973791872,
             "test": [
              0.03827138537
             ]
            },
            {
             "iteration": 86,
             "learn": [
              0.03713193229
             ],
             "passed_time": 37.1018377,
             "remaining_time": 5.54395276,
             "test": [
              0.03711928391
             ]
            },
            {
             "iteration": 87,
             "learn": [
              0.03608159789
             ],
             "passed_time": 37.55632834,
             "remaining_time": 5.121317501,
             "test": [
              0.03600291288
             ]
            },
            {
             "iteration": 88,
             "learn": [
              0.03489605036
             ],
             "passed_time": 37.88536274,
             "remaining_time": 4.682460564,
             "test": [
              0.03491999241
             ]
            },
            {
             "iteration": 89,
             "learn": [
              0.03385118814
             ],
             "passed_time": 38.29324177,
             "remaining_time": 4.254804641,
             "test": [
              0.0338706812
             ]
            },
            {
             "iteration": 90,
             "learn": [
              0.03284936932
             ],
             "passed_time": 38.76291497,
             "remaining_time": 3.833694888,
             "test": [
              0.03285349129
             ]
            },
            {
             "iteration": 91,
             "learn": [
              0.03185678753
             ],
             "passed_time": 39.17598241,
             "remaining_time": 3.406607166,
             "test": [
              0.03186762776
             ]
            },
            {
             "iteration": 92,
             "learn": [
              0.03087797497
             ],
             "passed_time": 39.65080685,
             "remaining_time": 2.984469333,
             "test": [
              0.03091132734
             ]
            },
            {
             "iteration": 93,
             "learn": [
              0.02994111898
             ],
             "passed_time": 40.09192522,
             "remaining_time": 2.559059057,
             "test": [
              0.02998500119
             ]
            },
            {
             "iteration": 94,
             "learn": [
              0.02901151607
             ],
             "passed_time": 40.50941195,
             "remaining_time": 2.132074313,
             "test": [
              0.02908643945
             ]
            },
            {
             "iteration": 95,
             "learn": [
              0.02826473157
             ],
             "passed_time": 40.82716981,
             "remaining_time": 1.701132076,
             "test": [
              0.02821489139
             ]
            },
            {
             "iteration": 96,
             "learn": [
              0.02737781067
             ],
             "passed_time": 41.25274456,
             "remaining_time": 1.275858079,
             "test": [
              0.02736982348
             ]
            },
            {
             "iteration": 97,
             "learn": [
              0.02646344637
             ],
             "passed_time": 41.71233631,
             "remaining_time": 0.8512721696,
             "test": [
              0.02655092908
             ]
            },
            {
             "iteration": 98,
             "learn": [
              0.02580365155
             ],
             "passed_time": 42.11371424,
             "remaining_time": 0.4253910529,
             "test": [
              0.02575661547
             ]
            },
            {
             "iteration": 99,
             "learn": [
              0.02494802218
             ],
             "passed_time": 42.50633693,
             "remaining_time": 0,
             "test": [
              0.02498655276
             ]
            }
           ],
           "meta": {
            "iteration_count": 100,
            "launch_mode": "Train",
            "learn_metrics": [
             {
              "best_value": "Min",
              "name": "CrossEntropy"
             }
            ],
            "learn_sets": [
             "learn"
            ],
            "name": "experiment",
            "parameters": "",
            "test_metrics": [
             {
              "best_value": "Min",
              "name": "CrossEntropy"
             }
            ],
            "test_sets": [
             "test"
            ]
           }
          },
          "passed_iterations": 99,
          "total_iterations": 100
         },
         "name": "catboost_info",
         "path": "catboost_info"
        }
       },
       "layout": "IPY_MODEL_3f0562030bb24fb48fb72da1cca9b3c4"
      }
     },
     "99df2b1c90184eca8e5c371ddcb944b6": {
      "model_module": "@jupyter-widgets/base",
      "model_module_version": "1.2.0",
      "model_name": "LayoutModel",
      "state": {
       "_model_module": "@jupyter-widgets/base",
       "_model_module_version": "1.2.0",
       "_model_name": "LayoutModel",
       "_view_count": null,
       "_view_module": "@jupyter-widgets/base",
       "_view_module_version": "1.2.0",
       "_view_name": "LayoutView",
       "align_content": null,
       "align_items": null,
       "align_self": "stretch",
       "border": null,
       "bottom": null,
       "display": null,
       "flex": null,
       "flex_flow": null,
       "grid_area": null,
       "grid_auto_columns": null,
       "grid_auto_flow": null,
       "grid_auto_rows": null,
       "grid_column": null,
       "grid_gap": null,
       "grid_row": null,
       "grid_template_areas": null,
       "grid_template_columns": null,
       "grid_template_rows": null,
       "height": "500px",
       "justify_content": null,
       "justify_items": null,
       "left": null,
       "margin": null,
       "max_height": null,
       "max_width": null,
       "min_height": null,
       "min_width": null,
       "object_fit": null,
       "object_position": null,
       "order": null,
       "overflow": null,
       "overflow_x": null,
       "overflow_y": null,
       "padding": null,
       "right": null,
       "top": null,
       "visibility": null,
       "width": null
      }
     },
     "9f10496a3d4241f8a35e2f596b125972": {
      "model_module": "catboost-widget",
      "model_module_version": "^1.0.0",
      "model_name": "CatboostWidgetModel",
      "state": {
       "_dom_classes": [],
       "_model_module": "catboost-widget",
       "_model_module_version": "^1.0.0",
       "_model_name": "CatboostWidgetModel",
       "_view_count": null,
       "_view_module": "catboost-widget",
       "_view_module_version": "^1.0.0",
       "_view_name": "CatboostWidgetView",
       "data": {
        "catboost_info": {
         "content": {
          "data": {
           "iterations": [
            {
             "iteration": 0,
             "learn": [
              0.6667698212
             ],
             "passed_time": 0.3582349361,
             "remaining_time": 35.46525867,
             "test": [
              0.6679756992
             ]
            },
            {
             "iteration": 1,
             "learn": [
              0.6445214771
             ],
             "passed_time": 0.702560578,
             "remaining_time": 34.42546832,
             "test": [
              0.6441148176
             ]
            },
            {
             "iteration": 2,
             "learn": [
              0.6211508818
             ],
             "passed_time": 1.069453276,
             "remaining_time": 34.57898927,
             "test": [
              0.6215717647
             ]
            },
            {
             "iteration": 3,
             "learn": [
              0.6014228984
             ],
             "passed_time": 1.456029168,
             "remaining_time": 34.94470004,
             "test": [
              0.6003587011
             ]
            },
            {
             "iteration": 4,
             "learn": [
              0.5807563693
             ],
             "passed_time": 1.795585638,
             "remaining_time": 34.11612712,
             "test": [
              0.5800914268
             ]
            },
            {
             "iteration": 5,
             "learn": [
              0.5628089379
             ],
             "passed_time": 2.15674344,
             "remaining_time": 33.78898056,
             "test": [
              0.5611366059
             ]
            },
            {
             "iteration": 6,
             "learn": [
              0.5450017771
             ],
             "passed_time": 2.717913143,
             "remaining_time": 36.10941747,
             "test": [
              0.543027248
             ]
            },
            {
             "iteration": 7,
             "learn": [
              0.5275866513
             ],
             "passed_time": 3.242439448,
             "remaining_time": 37.28805365,
             "test": [
              0.5261510972
             ]
            },
            {
             "iteration": 8,
             "learn": [
              0.5113110292
             ],
             "passed_time": 3.709924273,
             "remaining_time": 37.51145654,
             "test": [
              0.5096578652
             ]
            },
            {
             "iteration": 9,
             "learn": [
              0.4954344734
             ],
             "passed_time": 4.042552189,
             "remaining_time": 36.3829697,
             "test": [
              0.4940223762
             ]
            },
            {
             "iteration": 10,
             "learn": [
              0.4811789893
             ],
             "passed_time": 4.384206137,
             "remaining_time": 35.47221329,
             "test": [
              0.4793259201
             ]
            },
            {
             "iteration": 11,
             "learn": [
              0.4671146506
             ],
             "passed_time": 4.734504133,
             "remaining_time": 34.71969698,
             "test": [
              0.4651621791
             ]
            },
            {
             "iteration": 12,
             "learn": [
              0.4541701562
             ],
             "passed_time": 5.125930385,
             "remaining_time": 34.30430334,
             "test": [
              0.4516816202
             ]
            },
            {
             "iteration": 13,
             "learn": [
              0.4414649877
             ],
             "passed_time": 5.51140445,
             "remaining_time": 33.85577019,
             "test": [
              0.439074322
             ]
            },
            {
             "iteration": 14,
             "learn": [
              0.4293885948
             ],
             "passed_time": 5.893877212,
             "remaining_time": 33.39863754,
             "test": [
              0.4270671822
             ]
            },
            {
             "iteration": 15,
             "learn": [
              0.4179000625
             ],
             "passed_time": 6.241199645,
             "remaining_time": 32.76629814,
             "test": [
              0.4155108131
             ]
            },
            {
             "iteration": 16,
             "learn": [
              0.4064819474
             ],
             "passed_time": 6.648408491,
             "remaining_time": 32.45987675,
             "test": [
              0.4045676527
             ]
            },
            {
             "iteration": 17,
             "learn": [
              0.3961917962
             ],
             "passed_time": 7.003063835,
             "remaining_time": 31.90284636,
             "test": [
              0.3937772906
             ]
            },
            {
             "iteration": 18,
             "learn": [
              0.3856611474
             ],
             "passed_time": 7.389360691,
             "remaining_time": 31.50201137,
             "test": [
              0.3836756107
             ]
            },
            {
             "iteration": 19,
             "learn": [
              0.3761305788
             ],
             "passed_time": 7.724768755,
             "remaining_time": 30.89907502,
             "test": [
              0.3737514887
             ]
            },
            {
             "iteration": 20,
             "learn": [
              0.3663669873
             ],
             "passed_time": 8.070699889,
             "remaining_time": 30.36120434,
             "test": [
              0.3643812461
             ]
            },
            {
             "iteration": 21,
             "learn": [
              0.3576086567
             ],
             "passed_time": 8.422267484,
             "remaining_time": 29.86076653,
             "test": [
              0.3553799271
             ]
            },
            {
             "iteration": 22,
             "learn": [
              0.3490345073
             ],
             "passed_time": 8.769562031,
             "remaining_time": 29.35896854,
             "test": [
              0.3467755168
             ]
            },
            {
             "iteration": 23,
             "learn": [
              0.3404973346
             ],
             "passed_time": 9.124884267,
             "remaining_time": 28.89546685,
             "test": [
              0.3383266946
             ]
            },
            {
             "iteration": 24,
             "learn": [
              0.3324181686
             ],
             "passed_time": 9.457962047,
             "remaining_time": 28.37388614,
             "test": [
              0.3302544123
             ]
            },
            {
             "iteration": 25,
             "learn": [
              0.3247165704
             ],
             "passed_time": 9.784283082,
             "remaining_time": 27.84757492,
             "test": [
              0.322562442
             ]
            },
            {
             "iteration": 26,
             "learn": [
              0.3171283967
             ],
             "passed_time": 10.15163172,
             "remaining_time": 27.44700428,
             "test": [
              0.3151325432
             ]
            },
            {
             "iteration": 27,
             "learn": [
              0.309660712
             ],
             "passed_time": 10.4927525,
             "remaining_time": 26.98136358,
             "test": [
              0.3074931192
             ]
            },
            {
             "iteration": 28,
             "learn": [
              0.3028713374
             ],
             "passed_time": 10.86245014,
             "remaining_time": 26.59427448,
             "test": [
              0.3007171572
             ]
            },
            {
             "iteration": 29,
             "learn": [
              0.2964317582
             ],
             "passed_time": 11.15149328,
             "remaining_time": 26.02015099,
             "test": [
              0.2941490758
             ]
            },
            {
             "iteration": 30,
             "learn": [
              0.2895404553
             ],
             "passed_time": 11.549078,
             "remaining_time": 25.70601233,
             "test": [
              0.2873089593
             ]
            },
            {
             "iteration": 31,
             "learn": [
              0.2828886273
             ],
             "passed_time": 11.8887248,
             "remaining_time": 25.26354021,
             "test": [
              0.2807915271
             ]
            },
            {
             "iteration": 32,
             "learn": [
              0.2765925051
             ],
             "passed_time": 12.28328967,
             "remaining_time": 24.93880024,
             "test": [
              0.2746507175
             ]
            },
            {
             "iteration": 33,
             "learn": [
              0.2705001806
             ],
             "passed_time": 12.67708072,
             "remaining_time": 24.60845081,
             "test": [
              0.2686842337
             ]
            },
            {
             "iteration": 34,
             "learn": [
              0.2654490995
             ],
             "passed_time": 12.96415454,
             "remaining_time": 24.07628701,
             "test": [
              0.2634706059
             ]
            },
            {
             "iteration": 35,
             "learn": [
              0.2598338937
             ],
             "passed_time": 13.36246325,
             "remaining_time": 23.75549023,
             "test": [
              0.2577578309
             ]
            },
            {
             "iteration": 36,
             "learn": [
              0.2545601141
             ],
             "passed_time": 13.73779024,
             "remaining_time": 23.39137257,
             "test": [
              0.2525741399
             ]
            },
            {
             "iteration": 37,
             "learn": [
              0.2495399776
             ],
             "passed_time": 14.1042047,
             "remaining_time": 23.01212346,
             "test": [
              0.2474175513
             ]
            },
            {
             "iteration": 38,
             "learn": [
              0.2445325865
             ],
             "passed_time": 14.47780838,
             "remaining_time": 22.6447772,
             "test": [
              0.2421930158
             ]
            },
            {
             "iteration": 39,
             "learn": [
              0.2397573674
             ],
             "passed_time": 14.81625697,
             "remaining_time": 22.22438545,
             "test": [
              0.2375426698
             ]
            },
            {
             "iteration": 40,
             "learn": [
              0.2352721145
             ],
             "passed_time": 15.15580526,
             "remaining_time": 21.80957342,
             "test": [
              0.2332286887
             ]
            },
            {
             "iteration": 41,
             "learn": [
              0.2309033172
             ],
             "passed_time": 15.50462868,
             "remaining_time": 21.4111539,
             "test": [
              0.2290116512
             ]
            },
            {
             "iteration": 42,
             "learn": [
              0.2266803382
             ],
             "passed_time": 15.8726482,
             "remaining_time": 21.04048715,
             "test": [
              0.2246494507
             ]
            },
            {
             "iteration": 43,
             "learn": [
              0.222265923
             ],
             "passed_time": 16.27557336,
             "remaining_time": 20.71436609,
             "test": [
              0.2202764458
             ]
            },
            {
             "iteration": 44,
             "learn": [
              0.2185184464
             ],
             "passed_time": 16.61804499,
             "remaining_time": 20.31094387,
             "test": [
              0.2164478873
             ]
            },
            {
             "iteration": 45,
             "learn": [
              0.2147471879
             ],
             "passed_time": 16.93719386,
             "remaining_time": 19.88279279,
             "test": [
              0.2126249835
             ]
            },
            {
             "iteration": 46,
             "learn": [
              0.2114705277
             ],
             "passed_time": 17.23155076,
             "remaining_time": 19.4313232,
             "test": [
              0.2090453986
             ]
            },
            {
             "iteration": 47,
             "learn": [
              0.2074039934
             ],
             "passed_time": 17.67425114,
             "remaining_time": 19.1471054,
             "test": [
              0.205141012
             ]
            },
            {
             "iteration": 48,
             "learn": [
              0.2036602447
             ],
             "passed_time": 18.07841883,
             "remaining_time": 18.81631348,
             "test": [
              0.2012132977
             ]
            },
            {
             "iteration": 49,
             "learn": [
              0.2001642939
             ],
             "passed_time": 18.42071076,
             "remaining_time": 18.42071076,
             "test": [
              0.1978494314
             ]
            },
            {
             "iteration": 50,
             "learn": [
              0.1972103255
             ],
             "passed_time": 18.72929014,
             "remaining_time": 17.99480817,
             "test": [
              0.1946977372
             ]
            },
            {
             "iteration": 51,
             "learn": [
              0.1937586419
             ],
             "passed_time": 19.12775872,
             "remaining_time": 17.65639266,
             "test": [
              0.1912895833
             ]
            },
            {
             "iteration": 52,
             "learn": [
              0.1905884471
             ],
             "passed_time": 19.52188173,
             "remaining_time": 17.31185738,
             "test": [
              0.1881579223
             ]
            },
            {
             "iteration": 53,
             "learn": [
              0.187642881
             ],
             "passed_time": 19.84361023,
             "remaining_time": 16.90381612,
             "test": [
              0.1851184152
             ]
            },
            {
             "iteration": 54,
             "learn": [
              0.1844310825
             ],
             "passed_time": 20.22762479,
             "remaining_time": 16.54987483,
             "test": [
              0.1819531743
             ]
            },
            {
             "iteration": 55,
             "learn": [
              0.1818002257
             ],
             "passed_time": 20.56618232,
             "remaining_time": 16.15914325,
             "test": [
              0.179279269
             ]
            },
            {
             "iteration": 56,
             "learn": [
              0.1783347155
             ],
             "passed_time": 20.97675119,
             "remaining_time": 15.82456669,
             "test": [
              0.1757405107
             ]
            },
            {
             "iteration": 57,
             "learn": [
              0.1758098516
             ],
             "passed_time": 21.30283193,
             "remaining_time": 15.42618864,
             "test": [
              0.1733480263
             ]
            },
            {
             "iteration": 58,
             "learn": [
              0.1732390607
             ],
             "passed_time": 21.64003378,
             "remaining_time": 15.03798958,
             "test": [
              0.1705565062
             ]
            },
            {
             "iteration": 59,
             "learn": [
              0.1707019569
             ],
             "passed_time": 21.9956205,
             "remaining_time": 14.663747,
             "test": [
              0.1682052066
             ]
            },
            {
             "iteration": 60,
             "learn": [
              0.1676022331
             ],
             "passed_time": 22.44483519,
             "remaining_time": 14.34997659,
             "test": [
              0.1652527363
             ]
            },
            {
             "iteration": 61,
             "learn": [
              0.1647768238
             ],
             "passed_time": 22.9213984,
             "remaining_time": 14.04859902,
             "test": [
              0.1624059883
             ]
            },
            {
             "iteration": 62,
             "learn": [
              0.1625121619
             ],
             "passed_time": 23.25533955,
             "remaining_time": 13.65789783,
             "test": [
              0.1599306908
             ]
            },
            {
             "iteration": 63,
             "learn": [
              0.160408462
             ],
             "passed_time": 23.60832167,
             "remaining_time": 13.27968094,
             "test": [
              0.1578778523
             ]
            },
            {
             "iteration": 64,
             "learn": [
              0.157795624
             ],
             "passed_time": 24.07554025,
             "remaining_time": 12.96375244,
             "test": [
              0.1552012313
             ]
            },
            {
             "iteration": 65,
             "learn": [
              0.1551084513
             ],
             "passed_time": 24.53078104,
             "remaining_time": 12.63706902,
             "test": [
              0.1526114128
             ]
            },
            {
             "iteration": 66,
             "learn": [
              0.1528026046
             ],
             "passed_time": 24.88879148,
             "remaining_time": 12.25865849,
             "test": [
              0.1504808766
             ]
            },
            {
             "iteration": 67,
             "learn": [
              0.1509547758
             ],
             "passed_time": 25.19500846,
             "remaining_time": 11.85647457,
             "test": [
              0.1485484978
             ]
            },
            {
             "iteration": 68,
             "learn": [
              0.1492105351
             ],
             "passed_time": 25.50293942,
             "remaining_time": 11.45784235,
             "test": [
              0.1466986461
             ]
            },
            {
             "iteration": 69,
             "learn": [
              0.1468463136
             ],
             "passed_time": 25.92821289,
             "remaining_time": 11.11209124,
             "test": [
              0.1443188655
             ]
            },
            {
             "iteration": 70,
             "learn": [
              0.1447459162
             ],
             "passed_time": 26.29349408,
             "remaining_time": 10.73959617,
             "test": [
              0.1423440721
             ]
            },
            {
             "iteration": 71,
             "learn": [
              0.1430159242
             ],
             "passed_time": 26.63942604,
             "remaining_time": 10.35977679,
             "test": [
              0.1403732666
             ]
            },
            {
             "iteration": 72,
             "learn": [
              0.1413159777
             ],
             "passed_time": 26.96466599,
             "remaining_time": 9.973232628,
             "test": [
              0.1386049754
             ]
            },
            {
             "iteration": 73,
             "learn": [
              0.1394634319
             ],
             "passed_time": 27.37545031,
             "remaining_time": 9.618401461,
             "test": [
              0.1366646915
             ]
            },
            {
             "iteration": 74,
             "learn": [
              0.1378295588
             ],
             "passed_time": 27.76895527,
             "remaining_time": 9.256318423,
             "test": [
              0.1350992251
             ]
            },
            {
             "iteration": 75,
             "learn": [
              0.1361706729
             ],
             "passed_time": 28.13093539,
             "remaining_time": 8.883453281,
             "test": [
              0.1334427408
             ]
            },
            {
             "iteration": 76,
             "learn": [
              0.1344168401
             ],
             "passed_time": 28.51718298,
             "remaining_time": 8.518119592,
             "test": [
              0.1317868371
             ]
            },
            {
             "iteration": 77,
             "learn": [
              0.1325981943
             ],
             "passed_time": 28.93372695,
             "remaining_time": 8.160794782,
             "test": [
              0.1302869965
             ]
            },
            {
             "iteration": 78,
             "learn": [
              0.1309123055
             ],
             "passed_time": 29.3060141,
             "remaining_time": 7.790206279,
             "test": [
              0.1285280616
             ]
            },
            {
             "iteration": 79,
             "learn": [
              0.1297192198
             ],
             "passed_time": 29.61185258,
             "remaining_time": 7.402963145,
             "test": [
              0.1273422481
             ]
            },
            {
             "iteration": 80,
             "learn": [
              0.1278722425
             ],
             "passed_time": 30.02751119,
             "remaining_time": 7.04349028,
             "test": [
              0.1257781419
             ]
            },
            {
             "iteration": 81,
             "learn": [
              0.1264688143
             ],
             "passed_time": 30.41016197,
             "remaining_time": 6.675401408,
             "test": [
              0.1244955405
             ]
            },
            {
             "iteration": 82,
             "learn": [
              0.1249704689
             ],
             "passed_time": 30.78731534,
             "remaining_time": 6.305835672,
             "test": [
              0.1231757192
             ]
            },
            {
             "iteration": 83,
             "learn": [
              0.1238770224
             ],
             "passed_time": 31.12302834,
             "remaining_time": 5.928195874,
             "test": [
              0.1219223287
             ]
            },
            {
             "iteration": 84,
             "learn": [
              0.122072036
             ],
             "passed_time": 31.59501283,
             "remaining_time": 5.5755905,
             "test": [
              0.1201020027
             ]
            },
            {
             "iteration": 85,
             "learn": [
              0.120873397
             ],
             "passed_time": 31.9618073,
             "remaining_time": 5.20308491,
             "test": [
              0.1189175049
             ]
            },
            {
             "iteration": 86,
             "learn": [
              0.1190766652
             ],
             "passed_time": 32.42144945,
             "remaining_time": 4.844584401,
             "test": [
              0.1172132939
             ]
            },
            {
             "iteration": 87,
             "learn": [
              0.117966162
             ],
             "passed_time": 32.7381231,
             "remaining_time": 4.464289513,
             "test": [
              0.1160704912
             ]
            },
            {
             "iteration": 88,
             "learn": [
              0.1170210991
             ],
             "passed_time": 33.04297519,
             "remaining_time": 4.083963226,
             "test": [
              0.1149104837
             ]
            },
            {
             "iteration": 89,
             "learn": [
              0.11552601
             ],
             "passed_time": 33.46490982,
             "remaining_time": 3.718323314,
             "test": [
              0.1136156128
             ]
            },
            {
             "iteration": 90,
             "learn": [
              0.114631395
             ],
             "passed_time": 33.75206967,
             "remaining_time": 3.33811678,
             "test": [
              0.1125862619
             ]
            },
            {
             "iteration": 91,
             "learn": [
              0.1131508993
             ],
             "passed_time": 34.21461567,
             "remaining_time": 2.975183971,
             "test": [
              0.111296192
             ]
            },
            {
             "iteration": 92,
             "learn": [
              0.1123056466
             ],
             "passed_time": 34.66280397,
             "remaining_time": 2.609028256,
             "test": [
              0.1102475531
             ]
            },
            {
             "iteration": 93,
             "learn": [
              0.1109227513
             ],
             "passed_time": 35.25782102,
             "remaining_time": 2.250499214,
             "test": [
              0.1090494086
             ]
            },
            {
             "iteration": 94,
             "learn": [
              0.1093420637
             ],
             "passed_time": 35.84265874,
             "remaining_time": 1.886455723,
             "test": [
              0.1075338203
             ]
            },
            {
             "iteration": 95,
             "learn": [
              0.1083849808
             ],
             "passed_time": 36.17987019,
             "remaining_time": 1.507494591,
             "test": [
              0.1064838782
             ]
            },
            {
             "iteration": 96,
             "learn": [
              0.1073376932
             ],
             "passed_time": 36.57123645,
             "remaining_time": 1.131069169,
             "test": [
              0.1053661941
             ]
            },
            {
             "iteration": 97,
             "learn": [
              0.106129432
             ],
             "passed_time": 36.980457,
             "remaining_time": 0.7547032042,
             "test": [
              0.1043407853
             ]
            },
            {
             "iteration": 98,
             "learn": [
              0.1054199839
             ],
             "passed_time": 37.27971166,
             "remaining_time": 0.376562744,
             "test": [
              0.1034476214
             ]
            },
            {
             "iteration": 99,
             "learn": [
              0.1042044042
             ],
             "passed_time": 37.66890517,
             "remaining_time": 0,
             "test": [
              0.102499099
             ]
            }
           ],
           "meta": {
            "iteration_count": 100,
            "launch_mode": "Train",
            "learn_metrics": [
             {
              "best_value": "Min",
              "name": "CrossEntropy"
             }
            ],
            "learn_sets": [
             "learn"
            ],
            "name": "experiment",
            "parameters": "",
            "test_metrics": [
             {
              "best_value": "Min",
              "name": "CrossEntropy"
             }
            ],
            "test_sets": [
             "test"
            ]
           }
          },
          "passed_iterations": 99,
          "total_iterations": 100
         },
         "name": "catboost_info",
         "path": "catboost_info"
        }
       },
       "layout": "IPY_MODEL_54bdf1580c414539bb0c90cedff94e61"
      }
     },
     "a2d6775b717e4fc78d4fb8aa3df96e83": {
      "model_module": "@jupyter-widgets/base",
      "model_module_version": "1.2.0",
      "model_name": "LayoutModel",
      "state": {
       "_model_module": "@jupyter-widgets/base",
       "_model_module_version": "1.2.0",
       "_model_name": "LayoutModel",
       "_view_count": null,
       "_view_module": "@jupyter-widgets/base",
       "_view_module_version": "1.2.0",
       "_view_name": "LayoutView",
       "align_content": null,
       "align_items": null,
       "align_self": "stretch",
       "border": null,
       "bottom": null,
       "display": null,
       "flex": null,
       "flex_flow": null,
       "grid_area": null,
       "grid_auto_columns": null,
       "grid_auto_flow": null,
       "grid_auto_rows": null,
       "grid_column": null,
       "grid_gap": null,
       "grid_row": null,
       "grid_template_areas": null,
       "grid_template_columns": null,
       "grid_template_rows": null,
       "height": "500px",
       "justify_content": null,
       "justify_items": null,
       "left": null,
       "margin": null,
       "max_height": null,
       "max_width": null,
       "min_height": null,
       "min_width": null,
       "object_fit": null,
       "object_position": null,
       "order": null,
       "overflow": null,
       "overflow_x": null,
       "overflow_y": null,
       "padding": null,
       "right": null,
       "top": null,
       "visibility": null,
       "width": null
      }
     },
     "ab5eb83d049241499cb7daf843d02de7": {
      "model_module": "catboost-widget",
      "model_module_version": "^1.0.0",
      "model_name": "CatboostWidgetModel",
      "state": {
       "_dom_classes": [],
       "_model_module": "catboost-widget",
       "_model_module_version": "^1.0.0",
       "_model_name": "CatboostWidgetModel",
       "_view_count": null,
       "_view_module": "catboost-widget",
       "_view_module_version": "^1.0.0",
       "_view_name": "CatboostWidgetView",
       "data": {
        "catboost_info": {
         "content": {
          "data": {
           "iterations": [
            {
             "iteration": 0,
             "learn": [
              0.6688510988
             ],
             "passed_time": 0.430373254,
             "remaining_time": 42.60695214,
             "test": [
              0.668908435
             ]
            },
            {
             "iteration": 1,
             "learn": [
              0.6462380349
             ],
             "passed_time": 0.8508801803,
             "remaining_time": 41.69312884,
             "test": [
              0.6460545565
             ]
            },
            {
             "iteration": 2,
             "learn": [
              0.6243428346
             ],
             "passed_time": 1.277316415,
             "remaining_time": 41.29989743,
             "test": [
              0.6241933832
             ]
            },
            {
             "iteration": 3,
             "learn": [
              0.6035652554
             ],
             "passed_time": 1.636222432,
             "remaining_time": 39.26933837,
             "test": [
              0.6031532353
             ]
            },
            {
             "iteration": 4,
             "learn": [
              0.5844703512
             ],
             "passed_time": 2.090163794,
             "remaining_time": 39.71311209,
             "test": [
              0.5839575054
             ]
            },
            {
             "iteration": 5,
             "learn": [
              0.5665775935
             ],
             "passed_time": 2.514754625,
             "remaining_time": 39.39782246,
             "test": [
              0.565936838
             ]
            },
            {
             "iteration": 6,
             "learn": [
              0.5484044454
             ],
             "passed_time": 2.940159493,
             "remaining_time": 39.06211898,
             "test": [
              0.5484736742
             ]
            },
            {
             "iteration": 7,
             "learn": [
              0.533110267
             ],
             "passed_time": 3.408797022,
             "remaining_time": 39.20116575,
             "test": [
              0.5320985079
             ]
            },
            {
             "iteration": 8,
             "learn": [
              0.5155975761
             ],
             "passed_time": 3.769657702,
             "remaining_time": 38.11542788,
             "test": [
              0.5151666722
             ]
            },
            {
             "iteration": 9,
             "learn": [
              0.4999813707
             ],
             "passed_time": 4.128617729,
             "remaining_time": 37.15755956,
             "test": [
              0.4994312146
             ]
            },
            {
             "iteration": 10,
             "learn": [
              0.4848029398
             ],
             "passed_time": 4.544428945,
             "remaining_time": 36.76856147,
             "test": [
              0.4841297802
             ]
            },
            {
             "iteration": 11,
             "learn": [
              0.4712136982
             ],
             "passed_time": 4.998733424,
             "remaining_time": 36.65737845,
             "test": [
              0.4704989811
             ]
            },
            {
             "iteration": 12,
             "learn": [
              0.4579571313
             ],
             "passed_time": 5.438598215,
             "remaining_time": 36.39677267,
             "test": [
              0.4571030155
             ]
            },
            {
             "iteration": 13,
             "learn": [
              0.4455414553
             ],
             "passed_time": 5.899674549,
             "remaining_time": 36.24085795,
             "test": [
              0.4446052746
             ]
            },
            {
             "iteration": 14,
             "learn": [
              0.4341155821
             ],
             "passed_time": 6.3619788,
             "remaining_time": 36.0512132,
             "test": [
              0.4326813737
             ]
            },
            {
             "iteration": 15,
             "learn": [
              0.4223285875
             ],
             "passed_time": 6.786451457,
             "remaining_time": 35.62887015,
             "test": [
              0.4212632157
             ]
            },
            {
             "iteration": 16,
             "learn": [
              0.4103502162
             ],
             "passed_time": 7.145488513,
             "remaining_time": 34.88679686,
             "test": [
              0.4093133598
             ]
            },
            {
             "iteration": 17,
             "learn": [
              0.3989573129
             ],
             "passed_time": 7.525057466,
             "remaining_time": 34.28081735,
             "test": [
              0.3978935759
             ]
            },
            {
             "iteration": 18,
             "learn": [
              0.3881612745
             ],
             "passed_time": 7.885517038,
             "remaining_time": 33.61720421,
             "test": [
              0.3871132519
             ]
            },
            {
             "iteration": 19,
             "learn": [
              0.3777902587
             ],
             "passed_time": 8.278724045,
             "remaining_time": 33.11489618,
             "test": [
              0.3768584988
             ]
            },
            {
             "iteration": 20,
             "learn": [
              0.368395232
             ],
             "passed_time": 8.690814329,
             "remaining_time": 32.69401581,
             "test": [
              0.3670689242
             ]
            },
            {
             "iteration": 21,
             "learn": [
              0.3586149317
             ],
             "passed_time": 9.036382516,
             "remaining_time": 32.03808347,
             "test": [
              0.3576728112
             ]
            },
            {
             "iteration": 22,
             "learn": [
              0.3498567039
             ],
             "passed_time": 9.37757709,
             "remaining_time": 31.39449722,
             "test": [
              0.348874389
             ]
            },
            {
             "iteration": 23,
             "learn": [
              0.3411076918
             ],
             "passed_time": 9.736282068,
             "remaining_time": 30.83155988,
             "test": [
              0.3399778845
             ]
            },
            {
             "iteration": 24,
             "learn": [
              0.3323172283
             ],
             "passed_time": 10.19467508,
             "remaining_time": 30.58402523,
             "test": [
              0.3312402083
             ]
            },
            {
             "iteration": 25,
             "learn": [
              0.3242896127
             ],
             "passed_time": 10.58578472,
             "remaining_time": 30.12877191,
             "test": [
              0.3231907994
             ]
            },
            {
             "iteration": 26,
             "learn": [
              0.3164906342
             ],
             "passed_time": 11.09161002,
             "remaining_time": 29.98842709,
             "test": [
              0.3154156952
             ]
            },
            {
             "iteration": 27,
             "learn": [
              0.3082690848
             ],
             "passed_time": 11.71267283,
             "remaining_time": 30.11830156,
             "test": [
              0.3071969039
             ]
            },
            {
             "iteration": 28,
             "learn": [
              0.301083509
             ],
             "passed_time": 12.16291431,
             "remaining_time": 29.77816951,
             "test": [
              0.2999665027
             ]
            },
            {
             "iteration": 29,
             "learn": [
              0.2941056653
             ],
             "passed_time": 12.52976026,
             "remaining_time": 29.23610727,
             "test": [
              0.2929756975
             ]
            },
            {
             "iteration": 30,
             "learn": [
              0.2867741702
             ],
             "passed_time": 12.9811663,
             "remaining_time": 28.89356371,
             "test": [
              0.2854811241
             ]
            },
            {
             "iteration": 31,
             "learn": [
              0.2802459278
             ],
             "passed_time": 13.32506966,
             "remaining_time": 28.31577303,
             "test": [
              0.2789508572
             ]
            },
            {
             "iteration": 32,
             "learn": [
              0.2739196497
             ],
             "passed_time": 13.80583609,
             "remaining_time": 28.03003084,
             "test": [
              0.2723816866
             ]
            },
            {
             "iteration": 33,
             "learn": [
              0.2677283147
             ],
             "passed_time": 14.13408138,
             "remaining_time": 27.43674621,
             "test": [
              0.2663845232
             ]
            },
            {
             "iteration": 34,
             "learn": [
              0.2617627184
             ],
             "passed_time": 14.60132966,
             "remaining_time": 27.11675508,
             "test": [
              0.2604338716
             ]
            },
            {
             "iteration": 35,
             "learn": [
              0.2561124097
             ],
             "passed_time": 14.96664605,
             "remaining_time": 26.60737076,
             "test": [
              0.2546410469
             ]
            },
            {
             "iteration": 36,
             "learn": [
              0.2504775714
             ],
             "passed_time": 15.38938559,
             "remaining_time": 26.20354844,
             "test": [
              0.2491800752
             ]
            },
            {
             "iteration": 37,
             "learn": [
              0.245137112
             ],
             "passed_time": 15.90259021,
             "remaining_time": 25.9463314,
             "test": [
              0.2435751863
             ]
            },
            {
             "iteration": 38,
             "learn": [
              0.2396232961
             ],
             "passed_time": 16.3875242,
             "remaining_time": 25.63176862,
             "test": [
              0.2381042963
             ]
            },
            {
             "iteration": 39,
             "learn": [
              0.2346416811
             ],
             "passed_time": 16.72123078,
             "remaining_time": 25.08184618,
             "test": [
              0.2331442551
             ]
            },
            {
             "iteration": 40,
             "learn": [
              0.2299555556
             ],
             "passed_time": 17.22774839,
             "remaining_time": 24.79115013,
             "test": [
              0.2284481367
             ]
            },
            {
             "iteration": 41,
             "learn": [
              0.2252019976
             ],
             "passed_time": 17.69156,
             "remaining_time": 24.4312019,
             "test": [
              0.223710154
             ]
            },
            {
             "iteration": 42,
             "learn": [
              0.2204431113
             ],
             "passed_time": 18.14660097,
             "remaining_time": 24.05479663,
             "test": [
              0.2189937048
             ]
            },
            {
             "iteration": 43,
             "learn": [
              0.2160855821
             ],
             "passed_time": 18.47678179,
             "remaining_time": 23.5159041,
             "test": [
              0.2146443668
             ]
            },
            {
             "iteration": 44,
             "learn": [
              0.2114276946
             ],
             "passed_time": 18.9310292,
             "remaining_time": 23.13792458,
             "test": [
              0.2098551889
             ]
            },
            {
             "iteration": 45,
             "learn": [
              0.2073144494
             ],
             "passed_time": 19.26667153,
             "remaining_time": 22.61739701,
             "test": [
              0.2057136408
             ]
            },
            {
             "iteration": 46,
             "learn": [
              0.2035844324
             ],
             "passed_time": 19.62384297,
             "remaining_time": 22.12901442,
             "test": [
              0.2021180806
             ]
            },
            {
             "iteration": 47,
             "learn": [
              0.1998081326
             ],
             "passed_time": 20.08112564,
             "remaining_time": 21.75455277,
             "test": [
              0.1983003897
             ]
            },
            {
             "iteration": 48,
             "learn": [
              0.1955008218
             ],
             "passed_time": 20.58488248,
             "remaining_time": 21.42508176,
             "test": [
              0.1942100571
             ]
            },
            {
             "iteration": 49,
             "learn": [
              0.1917101628
             ],
             "passed_time": 20.91907369,
             "remaining_time": 20.91907369,
             "test": [
              0.1903249741
             ]
            },
            {
             "iteration": 50,
             "learn": [
              0.1876543302
             ],
             "passed_time": 21.41421331,
             "remaining_time": 20.57444024,
             "test": [
              0.1864850835
             ]
            },
            {
             "iteration": 51,
             "learn": [
              0.1839729625
             ],
             "passed_time": 21.78558379,
             "remaining_time": 20.10976965,
             "test": [
              0.1827067527
             ]
            },
            {
             "iteration": 52,
             "learn": [
              0.180545845
             ],
             "passed_time": 22.12451534,
             "remaining_time": 19.61985323,
             "test": [
              0.1792360265
             ]
            },
            {
             "iteration": 53,
             "learn": [
              0.1765207996
             ],
             "passed_time": 22.51312907,
             "remaining_time": 19.17785069,
             "test": [
              0.1750114057
             ]
            },
            {
             "iteration": 54,
             "learn": [
              0.1729441361
             ],
             "passed_time": 23.00598619,
             "remaining_time": 18.82307961,
             "test": [
              0.1715978094
             ]
            },
            {
             "iteration": 55,
             "learn": [
              0.1698553056
             ],
             "passed_time": 23.34086112,
             "remaining_time": 18.33924802,
             "test": [
              0.1684620739
             ]
            },
            {
             "iteration": 56,
             "learn": [
              0.1667684426
             ],
             "passed_time": 23.85659377,
             "remaining_time": 17.99707951,
             "test": [
              0.165318364
             ]
            },
            {
             "iteration": 57,
             "learn": [
              0.1639584038
             ],
             "passed_time": 24.32104553,
             "remaining_time": 17.61179159,
             "test": [
              0.1623905716
             ]
            },
            {
             "iteration": 58,
             "learn": [
              0.1612659041
             ],
             "passed_time": 24.66118236,
             "remaining_time": 17.13743181,
             "test": [
              0.1598106511
             ]
            },
            {
             "iteration": 59,
             "learn": [
              0.1581514606
             ],
             "passed_time": 25.1537429,
             "remaining_time": 16.76916193,
             "test": [
              0.1568115552
             ]
            },
            {
             "iteration": 60,
             "learn": [
              0.1552234521
             ],
             "passed_time": 25.64748555,
             "remaining_time": 16.39757273,
             "test": [
              0.1539591308
             ]
            },
            {
             "iteration": 61,
             "learn": [
              0.1522357053
             ],
             "passed_time": 26.00312981,
             "remaining_time": 15.93740214,
             "test": [
              0.1509208626
             ]
            },
            {
             "iteration": 62,
             "learn": [
              0.1495543622
             ],
             "passed_time": 26.55113436,
             "remaining_time": 15.59352336,
             "test": [
              0.1482424565
             ]
            },
            {
             "iteration": 63,
             "learn": [
              0.1465216412
             ],
             "passed_time": 26.97385901,
             "remaining_time": 15.17279569,
             "test": [
              0.1451865358
             ]
            },
            {
             "iteration": 64,
             "learn": [
              0.1439724912
             ],
             "passed_time": 27.43502381,
             "remaining_time": 14.77270513,
             "test": [
              0.1426521244
             ]
            },
            {
             "iteration": 65,
             "learn": [
              0.1414048466
             ],
             "passed_time": 27.91169797,
             "remaining_time": 14.3787535,
             "test": [
              0.1401272342
             ]
            },
            {
             "iteration": 66,
             "learn": [
              0.1388822271
             ],
             "passed_time": 28.3219008,
             "remaining_time": 13.94959293,
             "test": [
              0.1377042506
             ]
            },
            {
             "iteration": 67,
             "learn": [
              0.1364274087
             ],
             "passed_time": 28.71576858,
             "remaining_time": 13.51330286,
             "test": [
              0.1351373006
             ]
            },
            {
             "iteration": 68,
             "learn": [
              0.134212292
             ],
             "passed_time": 29.0508658,
             "remaining_time": 13.05183826,
             "test": [
              0.1328834873
             ]
            },
            {
             "iteration": 69,
             "learn": [
              0.131349302
             ],
             "passed_time": 29.5189874,
             "remaining_time": 12.6509946,
             "test": [
              0.1300967659
             ]
            },
            {
             "iteration": 70,
             "learn": [
              0.1293874469
             ],
             "passed_time": 29.91269948,
             "remaining_time": 12.21786317,
             "test": [
              0.1279509681
             ]
            },
            {
             "iteration": 71,
             "learn": [
              0.1269151183
             ],
             "passed_time": 30.33380254,
             "remaining_time": 11.79647877,
             "test": [
              0.1254737438
             ]
            },
            {
             "iteration": 72,
             "learn": [
              0.1245010947
             ],
             "passed_time": 30.83410222,
             "remaining_time": 11.40439397,
             "test": [
              0.1230748398
             ]
            },
            {
             "iteration": 73,
             "learn": [
              0.122263924
             ],
             "passed_time": 31.24433815,
             "remaining_time": 10.97774043,
             "test": [
              0.1209219455
             ]
            },
            {
             "iteration": 74,
             "learn": [
              0.1203843664
             ],
             "passed_time": 31.58500213,
             "remaining_time": 10.52833404,
             "test": [
              0.1189510895
             ]
            },
            {
             "iteration": 75,
             "learn": [
              0.1181789254
             ],
             "passed_time": 32.06700798,
             "remaining_time": 10.12642357,
             "test": [
              0.1167816409
             ]
            },
            {
             "iteration": 76,
             "learn": [
              0.1164463023
             ],
             "passed_time": 32.47443034,
             "remaining_time": 9.700154518,
             "test": [
              0.1151289752
             ]
            },
            {
             "iteration": 77,
             "learn": [
              0.1148121608
             ],
             "passed_time": 32.86288661,
             "remaining_time": 9.269019301,
             "test": [
              0.1133984091
             ]
            },
            {
             "iteration": 78,
             "learn": [
              0.1133029585
             ],
             "passed_time": 33.19510584,
             "remaining_time": 8.824015476,
             "test": [
              0.1119446693
             ]
            },
            {
             "iteration": 79,
             "learn": [
              0.1114276449
             ],
             "passed_time": 33.64767366,
             "remaining_time": 8.411918416,
             "test": [
              0.1101180899
             ]
            },
            {
             "iteration": 80,
             "learn": [
              0.1095819155
             ],
             "passed_time": 34.09471978,
             "remaining_time": 7.997526863,
             "test": [
              0.1082415909
             ]
            },
            {
             "iteration": 81,
             "learn": [
              0.1076426664
             ],
             "passed_time": 34.61433066,
             "remaining_time": 7.598267706,
             "test": [
              0.1064752902
             ]
            },
            {
             "iteration": 82,
             "learn": [
              0.1056781841
             ],
             "passed_time": 35.11271316,
             "remaining_time": 7.191760526,
             "test": [
              0.1044665911
             ]
            },
            {
             "iteration": 83,
             "learn": [
              0.1042693204
             ],
             "passed_time": 35.45304469,
             "remaining_time": 6.752960893,
             "test": [
              0.1031566335
             ]
            },
            {
             "iteration": 84,
             "learn": [
              0.1028064256
             ],
             "passed_time": 35.84006381,
             "remaining_time": 6.324717143,
             "test": [
              0.1017522316
             ]
            },
            {
             "iteration": 85,
             "learn": [
              0.1012079816
             ],
             "passed_time": 36.29145684,
             "remaining_time": 5.907911579,
             "test": [
              0.1001419529
             ]
            },
            {
             "iteration": 86,
             "learn": [
              0.0994823339
             ],
             "passed_time": 36.71215963,
             "remaining_time": 5.485725002,
             "test": [
              0.09846080095
             ]
            },
            {
             "iteration": 87,
             "learn": [
              0.09804891288
             ],
             "passed_time": 37.11446498,
             "remaining_time": 5.061063406,
             "test": [
              0.09706074016
             ]
            },
            {
             "iteration": 88,
             "learn": [
              0.09655116043
             ],
             "passed_time": 37.61869683,
             "remaining_time": 4.649501855,
             "test": [
              0.09553647723
             ]
            },
            {
             "iteration": 89,
             "learn": [
              0.09533579192
             ],
             "passed_time": 37.95748769,
             "remaining_time": 4.217498632,
             "test": [
              0.09440091862
             ]
            },
            {
             "iteration": 90,
             "learn": [
              0.09408773622
             ],
             "passed_time": 38.34193359,
             "remaining_time": 3.792059366,
             "test": [
              0.09313086431
             ]
            },
            {
             "iteration": 91,
             "learn": [
              0.09299825196
             ],
             "passed_time": 38.70316999,
             "remaining_time": 3.365493042,
             "test": [
              0.09203276342
             ]
            },
            {
             "iteration": 92,
             "learn": [
              0.0913085745
             ],
             "passed_time": 39.12989017,
             "remaining_time": 2.945260551,
             "test": [
              0.09036350477
             ]
            },
            {
             "iteration": 93,
             "learn": [
              0.09022075218
             ],
             "passed_time": 39.52823971,
             "remaining_time": 2.52307913,
             "test": [
              0.08916886179
             ]
            },
            {
             "iteration": 94,
             "learn": [
              0.08895433275
             ],
             "passed_time": 39.92809603,
             "remaining_time": 2.101478739,
             "test": [
              0.08789208195
             ]
            },
            {
             "iteration": 95,
             "learn": [
              0.08767126983
             ],
             "passed_time": 40.29917399,
             "remaining_time": 1.67913225,
             "test": [
              0.08653493989
             ]
            },
            {
             "iteration": 96,
             "learn": [
              0.08629546395
             ],
             "passed_time": 40.66073186,
             "remaining_time": 1.257548408,
             "test": [
              0.08514485562
             ]
            },
            {
             "iteration": 97,
             "learn": [
              0.08522876178
             ],
             "passed_time": 41.06576857,
             "remaining_time": 0.8380769096,
             "test": [
              0.08409003826
             ]
            },
            {
             "iteration": 98,
             "learn": [
              0.08400999175
             ],
             "passed_time": 41.40108451,
             "remaining_time": 0.4181927729,
             "test": [
              0.08294909613
             ]
            },
            {
             "iteration": 99,
             "learn": [
              0.08281176772
             ],
             "passed_time": 41.8673185,
             "remaining_time": 0,
             "test": [
              0.0816481789
             ]
            }
           ],
           "meta": {
            "iteration_count": 100,
            "launch_mode": "Train",
            "learn_metrics": [
             {
              "best_value": "Min",
              "name": "CrossEntropy"
             }
            ],
            "learn_sets": [
             "learn"
            ],
            "name": "experiment",
            "parameters": "",
            "test_metrics": [
             {
              "best_value": "Min",
              "name": "CrossEntropy"
             }
            ],
            "test_sets": [
             "test"
            ]
           }
          },
          "passed_iterations": 99,
          "total_iterations": 100
         },
         "name": "catboost_info",
         "path": "catboost_info"
        }
       },
       "layout": "IPY_MODEL_1fd9f570adef444f874062b8e297acad"
      }
     },
     "ab67b10e932b47999ad63f324689f178": {
      "model_module": "catboost-widget",
      "model_module_version": "^1.0.0",
      "model_name": "CatboostWidgetModel",
      "state": {
       "_dom_classes": [],
       "_model_module": "catboost-widget",
       "_model_module_version": "^1.0.0",
       "_model_name": "CatboostWidgetModel",
       "_view_count": null,
       "_view_module": "catboost-widget",
       "_view_module_version": "^1.0.0",
       "_view_name": "CatboostWidgetView",
       "data": {
        "catboost_info": {
         "content": {
          "data": {
           "iterations": [
            {
             "iteration": 0,
             "learn": [
              0.6613836978
             ],
             "passed_time": 0.5089339227,
             "remaining_time": 50.38445835,
             "test": [
              0.6636010383
             ]
            },
            {
             "iteration": 1,
             "learn": [
              0.6363134522
             ],
             "passed_time": 0.8992265812,
             "remaining_time": 44.06210248,
             "test": [
              0.6357772079
             ]
            },
            {
             "iteration": 2,
             "learn": [
              0.609389314
             ],
             "passed_time": 1.273634522,
             "remaining_time": 41.18084955,
             "test": [
              0.6095274883
             ]
            },
            {
             "iteration": 3,
             "learn": [
              0.5837400426
             ],
             "passed_time": 1.66316503,
             "remaining_time": 39.91596071,
             "test": [
              0.5847227629
             ]
            },
            {
             "iteration": 4,
             "learn": [
              0.5622177951
             ],
             "passed_time": 2.039469351,
             "remaining_time": 38.74991766,
             "test": [
              0.5612490124
             ]
            },
            {
             "iteration": 5,
             "learn": [
              0.5377363352
             ],
             "passed_time": 2.406030058,
             "remaining_time": 37.6944709,
             "test": [
              0.5390069451
             ]
            },
            {
             "iteration": 6,
             "learn": [
              0.5169105547
             ],
             "passed_time": 2.801341176,
             "remaining_time": 37.21781849,
             "test": [
              0.5179035881
             ]
            },
            {
             "iteration": 7,
             "learn": [
              0.4987357518
             ],
             "passed_time": 3.211024082,
             "remaining_time": 36.92677694,
             "test": [
              0.4978573324
             ]
            },
            {
             "iteration": 8,
             "learn": [
              0.4785620502
             ],
             "passed_time": 3.59619097,
             "remaining_time": 36.36148648,
             "test": [
              0.4787963397
             ]
            },
            {
             "iteration": 9,
             "learn": [
              0.4606179685
             ],
             "passed_time": 4.067710093,
             "remaining_time": 36.60939084,
             "test": [
              0.4606528591
             ]
            },
            {
             "iteration": 10,
             "learn": [
              0.4439367789
             ],
             "passed_time": 4.457881601,
             "remaining_time": 36.06831477,
             "test": [
              0.443372121
             ]
            },
            {
             "iteration": 11,
             "learn": [
              0.4280961889
             ],
             "passed_time": 4.892294734,
             "remaining_time": 35.87682805,
             "test": [
              0.4268882299
             ]
            },
            {
             "iteration": 12,
             "learn": [
              0.4122490418
             ],
             "passed_time": 5.344714902,
             "remaining_time": 35.76847665,
             "test": [
              0.4111573391
             ]
            },
            {
             "iteration": 13,
             "learn": [
              0.3968321325
             ],
             "passed_time": 5.747083053,
             "remaining_time": 35.30351019,
             "test": [
              0.3961332506
             ]
            },
            {
             "iteration": 14,
             "learn": [
              0.3824734684
             ],
             "passed_time": 6.148884481,
             "remaining_time": 34.84367873,
             "test": [
              0.3817733069
             ]
            },
            {
             "iteration": 15,
             "learn": [
              0.3674134488
             ],
             "passed_time": 6.544410302,
             "remaining_time": 34.35815408,
             "test": [
              0.3680390559
             ]
            },
            {
             "iteration": 16,
             "learn": [
              0.3539441833
             ],
             "passed_time": 6.990518972,
             "remaining_time": 34.13018086,
             "test": [
              0.3548957146
             ]
            },
            {
             "iteration": 17,
             "learn": [
              0.3432386304
             ],
             "passed_time": 7.371752545,
             "remaining_time": 33.58242826,
             "test": [
              0.3423083972
             ]
            },
            {
             "iteration": 18,
             "learn": [
              0.3301557092
             ],
             "passed_time": 7.772944084,
             "remaining_time": 33.13728794,
             "test": [
              0.3302486642
             ]
            },
            {
             "iteration": 19,
             "learn": [
              0.3197476667
             ],
             "passed_time": 8.140384394,
             "remaining_time": 32.56153758,
             "test": [
              0.3186873779
             ]
            },
            {
             "iteration": 20,
             "learn": [
              0.3070701023
             ],
             "passed_time": 8.59407072,
             "remaining_time": 32.33007556,
             "test": [
              0.3075974792
             ]
            },
            {
             "iteration": 21,
             "learn": [
              0.2969548578
             ],
             "passed_time": 9.008506207,
             "remaining_time": 31.93924928,
             "test": [
              0.2969560309
             ]
            },
            {
             "iteration": 22,
             "learn": [
              0.2868669803
             ],
             "passed_time": 9.439422508,
             "remaining_time": 31.60154492,
             "test": [
              0.2867398284
             ]
            },
            {
             "iteration": 23,
             "learn": [
              0.2766084944
             ],
             "passed_time": 9.900527209,
             "remaining_time": 31.3516695,
             "test": [
              0.2769301348
             ]
            },
            {
             "iteration": 24,
             "learn": [
              0.2666160375
             ],
             "passed_time": 10.25671447,
             "remaining_time": 30.7701434,
             "test": [
              0.2675045054
             ]
            },
            {
             "iteration": 25,
             "learn": [
              0.2580716434
             ],
             "passed_time": 10.6417764,
             "remaining_time": 30.28813284,
             "test": [
              0.2584455204
             ]
            },
            {
             "iteration": 26,
             "learn": [
              0.2500503356
             ],
             "passed_time": 11.05972686,
             "remaining_time": 29.90222448,
             "test": [
              0.2497346577
             ]
            },
            {
             "iteration": 27,
             "learn": [
              0.2420664232
             ],
             "passed_time": 11.51521064,
             "remaining_time": 29.61054164,
             "test": [
              0.241354104
             ]
            },
            {
             "iteration": 28,
             "learn": [
              0.2337920226
             ],
             "passed_time": 11.9646347,
             "remaining_time": 29.29272632,
             "test": [
              0.2332893651
             ]
            },
            {
             "iteration": 29,
             "learn": [
              0.2259675813
             ],
             "passed_time": 12.38604141,
             "remaining_time": 28.90076329,
             "test": [
              0.2255280371
             ]
            },
            {
             "iteration": 30,
             "learn": [
              0.218623242
             ],
             "passed_time": 12.84913372,
             "remaining_time": 28.59968474,
             "test": [
              0.2180545608
             ]
            },
            {
             "iteration": 31,
             "learn": [
              0.2110269032
             ],
             "passed_time": 13.28012326,
             "remaining_time": 28.22026192,
             "test": [
              0.2108577913
             ]
            },
            {
             "iteration": 32,
             "learn": [
              0.2034573754
             ],
             "passed_time": 13.6736846,
             "remaining_time": 27.76172328,
             "test": [
              0.2039235831
             ]
            },
            {
             "iteration": 33,
             "learn": [
              0.1966559314
             ],
             "passed_time": 14.20950837,
             "remaining_time": 27.58316331,
             "test": [
              0.1972420578
             ]
            },
            {
             "iteration": 34,
             "learn": [
              0.1912925441
             ],
             "passed_time": 14.85800991,
             "remaining_time": 27.59344697,
             "test": [
              0.1908018033
             ]
            },
            {
             "iteration": 35,
             "learn": [
              0.1840685016
             ],
             "passed_time": 15.39168168,
             "remaining_time": 27.36298965,
             "test": [
              0.1845924648
             ]
            },
            {
             "iteration": 36,
             "learn": [
              0.1788917767
             ],
             "passed_time": 15.97133989,
             "remaining_time": 27.19444359,
             "test": [
              0.1786044809
             ]
            },
            {
             "iteration": 37,
             "learn": [
              0.17234383
             ],
             "passed_time": 16.40012189,
             "remaining_time": 26.75809362,
             "test": [
              0.1728294703
             ]
            },
            {
             "iteration": 38,
             "learn": [
              0.1677853312
             ],
             "passed_time": 16.7970245,
             "remaining_time": 26.2722691,
             "test": [
              0.1672575246
             ]
            },
            {
             "iteration": 39,
             "learn": [
              0.1615641656
             ],
             "passed_time": 17.22658869,
             "remaining_time": 25.83988304,
             "test": [
              0.1618790354
             ]
            },
            {
             "iteration": 40,
             "learn": [
              0.1564482598
             ],
             "passed_time": 17.63934196,
             "remaining_time": 25.38344331,
             "test": [
              0.1566885244
             ]
            },
            {
             "iteration": 41,
             "learn": [
              0.1521348421
             ],
             "passed_time": 18.10522434,
             "remaining_time": 25.00245266,
             "test": [
              0.151678503
             ]
            },
            {
             "iteration": 42,
             "learn": [
              0.1471311606
             ],
             "passed_time": 18.47335124,
             "remaining_time": 24.48793071,
             "test": [
              0.1468407803
             ]
            },
            {
             "iteration": 43,
             "learn": [
              0.1420204841
             ],
             "passed_time": 18.92143483,
             "remaining_time": 24.08182614,
             "test": [
              0.1421683152
             ]
            },
            {
             "iteration": 44,
             "learn": [
              0.1372672526
             ],
             "passed_time": 19.28902243,
             "remaining_time": 23.57547186,
             "test": [
              0.1376566774
             ]
            },
            {
             "iteration": 45,
             "learn": [
              0.1330407314
             ],
             "passed_time": 19.69462847,
             "remaining_time": 23.11978125,
             "test": [
              0.1332963931
             ]
            },
            {
             "iteration": 46,
             "learn": [
              0.1290320034
             ],
             "passed_time": 20.08404614,
             "remaining_time": 22.64796692,
             "test": [
              0.129083531
             ]
            },
            {
             "iteration": 47,
             "learn": [
              0.1251029251
             ],
             "passed_time": 20.51477367,
             "remaining_time": 22.22433815,
             "test": [
              0.1250130944
             ]
            },
            {
             "iteration": 48,
             "learn": [
              0.121189173
             ],
             "passed_time": 20.96267759,
             "remaining_time": 21.81829708,
             "test": [
              0.1210800225
             ]
            },
            {
             "iteration": 49,
             "learn": [
              0.1173052812
             ],
             "passed_time": 21.37748017,
             "remaining_time": 21.37748017,
             "test": [
              0.1172803956
             ]
            },
            {
             "iteration": 50,
             "learn": [
              0.1134318687
             ],
             "passed_time": 21.76600129,
             "remaining_time": 20.91243261,
             "test": [
              0.1136035411
             ]
            },
            {
             "iteration": 51,
             "learn": [
              0.1098834109
             ],
             "passed_time": 22.18840084,
             "remaining_time": 20.48160078,
             "test": [
              0.1100511736
             ]
            },
            {
             "iteration": 52,
             "learn": [
              0.107027787
             ],
             "passed_time": 22.60716199,
             "remaining_time": 20.04786063,
             "test": [
              0.1066133991
             ]
            },
            {
             "iteration": 53,
             "learn": [
              0.103512727
             ],
             "passed_time": 23.03839762,
             "remaining_time": 19.62530168,
             "test": [
              0.1032908006
             ]
            },
            {
             "iteration": 54,
             "learn": [
              0.09984512439
             ],
             "passed_time": 23.43815719,
             "remaining_time": 19.17667407,
             "test": [
              0.1000778858
             ]
            },
            {
             "iteration": 55,
             "learn": [
              0.09725098321
             ],
             "passed_time": 23.83703196,
             "remaining_time": 18.72909654,
             "test": [
              0.09696995404
             ]
            },
            {
             "iteration": 56,
             "learn": [
              0.09387397375
             ],
             "passed_time": 24.2136458,
             "remaining_time": 18.26643455,
             "test": [
              0.09396137148
             ]
            },
            {
             "iteration": 57,
             "learn": [
              0.09132716625
             ],
             "passed_time": 24.63829781,
             "remaining_time": 17.841526,
             "test": [
              0.09105131244
             ]
            },
            {
             "iteration": 58,
             "learn": [
              0.08805604371
             ],
             "passed_time": 25.12003396,
             "remaining_time": 17.45629479,
             "test": [
              0.08823562529
             ]
            },
            {
             "iteration": 59,
             "learn": [
              0.08560650557
             ],
             "passed_time": 25.57711657,
             "remaining_time": 17.05141105,
             "test": [
              0.08551151624
             ]
            },
            {
             "iteration": 60,
             "learn": [
              0.0827083972
             ],
             "passed_time": 25.9986817,
             "remaining_time": 16.62210797,
             "test": [
              0.08287611732
             ]
            },
            {
             "iteration": 61,
             "learn": [
              0.08021362929
             ],
             "passed_time": 26.46050733,
             "remaining_time": 16.2177303,
             "test": [
              0.08032434465
             ]
            },
            {
             "iteration": 62,
             "learn": [
              0.07807347865
             ],
             "passed_time": 26.90601602,
             "remaining_time": 15.80194592,
             "test": [
              0.07785438245
             ]
            },
            {
             "iteration": 63,
             "learn": [
              0.0756054756
             ],
             "passed_time": 27.35207004,
             "remaining_time": 15.3855394,
             "test": [
              0.07546222815
             ]
            },
            {
             "iteration": 64,
             "learn": [
              0.07308073333
             ],
             "passed_time": 27.75470187,
             "remaining_time": 14.94483947,
             "test": [
              0.07314824088
             ]
            },
            {
             "iteration": 65,
             "learn": [
              0.07072261781
             ],
             "passed_time": 28.13926049,
             "remaining_time": 14.49598268,
             "test": [
              0.07090685044
             ]
            },
            {
             "iteration": 66,
             "learn": [
              0.06858888215
             ],
             "passed_time": 28.64187559,
             "remaining_time": 14.10719245,
             "test": [
              0.06873819302
             ]
            },
            {
             "iteration": 67,
             "learn": [
              0.06654353515
             ],
             "passed_time": 29.00661513,
             "remaining_time": 13.65017183,
             "test": [
              0.06663805101
             ]
            },
            {
             "iteration": 68,
             "learn": [
              0.06456844631
             ],
             "passed_time": 29.39612623,
             "remaining_time": 13.20695526,
             "test": [
              0.06460300075
             ]
            },
            {
             "iteration": 69,
             "learn": [
              0.06260758272
             ],
             "passed_time": 29.81207548,
             "remaining_time": 12.77660378,
             "test": [
              0.06263116737
             ]
            },
            {
             "iteration": 70,
             "learn": [
              0.06066131579
             ],
             "passed_time": 30.16895557,
             "remaining_time": 12.32253115,
             "test": [
              0.06072174595
             ]
            },
            {
             "iteration": 71,
             "learn": [
              0.05875942306
             ],
             "passed_time": 30.5661234,
             "remaining_time": 11.88682577,
             "test": [
              0.05887278583
             ]
            },
            {
             "iteration": 72,
             "learn": [
              0.05695870319
             ],
             "passed_time": 30.97479873,
             "remaining_time": 11.45643241,
             "test": [
              0.05708335079
             ]
            },
            {
             "iteration": 73,
             "learn": [
              0.05551956518
             ],
             "passed_time": 31.36674253,
             "remaining_time": 11.02074737,
             "test": [
              0.05534815329
             ]
            },
            {
             "iteration": 74,
             "learn": [
              0.05375977763
             ],
             "passed_time": 31.72664806,
             "remaining_time": 10.57554935,
             "test": [
              0.05366682023
             ]
            },
            {
             "iteration": 75,
             "learn": [
              0.05192583172
             ],
             "passed_time": 32.12578015,
             "remaining_time": 10.14498321,
             "test": [
              0.05203856457
             ]
            },
            {
             "iteration": 76,
             "learn": [
              0.05061215773
             ],
             "passed_time": 32.55900822,
             "remaining_time": 9.725418039,
             "test": [
              0.05046063484
             ]
            },
            {
             "iteration": 77,
             "learn": [
              0.04891531143
             ],
             "passed_time": 32.95801693,
             "remaining_time": 9.295850928,
             "test": [
              0.04893143719
             ]
            },
            {
             "iteration": 78,
             "learn": [
              0.0473954501
             ],
             "passed_time": 33.34412658,
             "remaining_time": 8.863628584,
             "test": [
              0.04745095839
             ]
            },
            {
             "iteration": 79,
             "learn": [
              0.04598418467
             ],
             "passed_time": 33.76271906,
             "remaining_time": 8.440679766,
             "test": [
              0.04601581631
             ]
            },
            {
             "iteration": 80,
             "learn": [
              0.04472672145
             ],
             "passed_time": 34.1762565,
             "remaining_time": 8.01665276,
             "test": [
              0.04462536265
             ]
            },
            {
             "iteration": 81,
             "learn": [
              0.04316919629
             ],
             "passed_time": 34.57805629,
             "remaining_time": 7.590305038,
             "test": [
              0.04327823913
             ]
            },
            {
             "iteration": 82,
             "learn": [
              0.04204065791
             ],
             "passed_time": 35.00100082,
             "remaining_time": 7.168879687,
             "test": [
              0.04197368253
             ]
            },
            {
             "iteration": 83,
             "learn": [
              0.04079243933
             ],
             "passed_time": 35.41867318,
             "remaining_time": 6.746413939,
             "test": [
              0.0407073925
             ]
            },
            {
             "iteration": 84,
             "learn": [
              0.03943623873
             ],
             "passed_time": 35.92205238,
             "remaining_time": 6.339185714,
             "test": [
              0.03948212929
             ]
            },
            {
             "iteration": 85,
             "learn": [
              0.0382192735
             ],
             "passed_time": 36.35197255,
             "remaining_time": 5.917762973,
             "test": [
              0.03829481183
             ]
            },
            {
             "iteration": 86,
             "learn": [
              0.03718291932
             ],
             "passed_time": 36.7658699,
             "remaining_time": 5.493750674,
             "test": [
              0.0371431891
             ]
            },
            {
             "iteration": 87,
             "learn": [
              0.03613160407
             ],
             "passed_time": 37.16531712,
             "remaining_time": 5.067997789,
             "test": [
              0.03602663703
             ]
            },
            {
             "iteration": 88,
             "learn": [
              0.03495756823
             ],
             "passed_time": 37.49891599,
             "remaining_time": 4.634697482,
             "test": [
              0.03494369568
             ]
            },
            {
             "iteration": 89,
             "learn": [
              0.03391373865
             ],
             "passed_time": 37.92753565,
             "remaining_time": 4.214170628,
             "test": [
              0.03389326789
             ]
            },
            {
             "iteration": 90,
             "learn": [
              0.03290183427
             ],
             "passed_time": 38.35763926,
             "remaining_time": 3.793612674,
             "test": [
              0.03287487793
             ]
            },
            {
             "iteration": 91,
             "learn": [
              0.03191033193
             ],
             "passed_time": 38.77370148,
             "remaining_time": 3.371626216,
             "test": [
              0.03188971673
             ]
            },
            {
             "iteration": 92,
             "learn": [
              0.03093330779
             ],
             "passed_time": 39.18231633,
             "remaining_time": 2.949206605,
             "test": [
              0.03093259775
             ]
            },
            {
             "iteration": 93,
             "learn": [
              0.02999932541
             ],
             "passed_time": 39.6280988,
             "remaining_time": 2.529453115,
             "test": [
              0.03000622903
             ]
            },
            {
             "iteration": 94,
             "learn": [
              0.02907912951
             ],
             "passed_time": 40.02405984,
             "remaining_time": 2.106529465,
             "test": [
              0.0291068337
             ]
            },
            {
             "iteration": 95,
             "learn": [
              0.02830981947
             ],
             "passed_time": 40.35513775,
             "remaining_time": 1.681464073,
             "test": [
              0.02823460538
             ]
            },
            {
             "iteration": 96,
             "learn": [
              0.02741380704
             ],
             "passed_time": 40.71764411,
             "remaining_time": 1.259308581,
             "test": [
              0.02738868961
             ]
            },
            {
             "iteration": 97,
             "learn": [
              0.0265251438
             ],
             "passed_time": 41.12808476,
             "remaining_time": 0.8393486685,
             "test": [
              0.02657081212
             ]
            },
            {
             "iteration": 98,
             "learn": [
              0.02584725257
             ],
             "passed_time": 41.52084651,
             "remaining_time": 0.41940249,
             "test": [
              0.02577712436
             ]
            },
            {
             "iteration": 99,
             "learn": [
              0.0249881195
             ],
             "passed_time": 41.96273537,
             "remaining_time": 0,
             "test": [
              0.02500623549
             ]
            }
           ],
           "meta": {
            "iteration_count": 100,
            "launch_mode": "Train",
            "learn_metrics": [
             {
              "best_value": "Min",
              "name": "CrossEntropy"
             }
            ],
            "learn_sets": [
             "learn"
            ],
            "name": "experiment",
            "parameters": "",
            "test_metrics": [
             {
              "best_value": "Min",
              "name": "CrossEntropy"
             }
            ],
            "test_sets": [
             "test"
            ]
           }
          },
          "passed_iterations": 99,
          "total_iterations": 100
         },
         "name": "catboost_info",
         "path": "catboost_info"
        }
       },
       "layout": "IPY_MODEL_55e8a970727c43bdbe769ed4164acde9"
      }
     },
     "acdcf2ff24d84047a2ac099f2df112de": {
      "model_module": "catboost-widget",
      "model_module_version": "^1.0.0",
      "model_name": "CatboostWidgetModel",
      "state": {
       "_dom_classes": [],
       "_model_module": "catboost-widget",
       "_model_module_version": "^1.0.0",
       "_model_name": "CatboostWidgetModel",
       "_view_count": null,
       "_view_module": "catboost-widget",
       "_view_module_version": "^1.0.0",
       "_view_name": "CatboostWidgetView",
       "data": {
        "catboost_info": {
         "content": {
          "data": {
           "iterations": [
            {
             "iteration": 0,
             "learn": [
              0.6613951331
             ],
             "passed_time": 0.3679968491,
             "remaining_time": 36.43168806,
             "test": [
              0.6636074748
             ]
            },
            {
             "iteration": 1,
             "learn": [
              0.6363183156
             ],
             "passed_time": 0.7577180153,
             "remaining_time": 37.12818275,
             "test": [
              0.6357878071
             ]
            },
            {
             "iteration": 2,
             "learn": [
              0.6094064409
             ],
             "passed_time": 1.11803671,
             "remaining_time": 36.14985362,
             "test": [
              0.6095424766
             ]
            },
            {
             "iteration": 3,
             "learn": [
              0.5837615859
             ],
             "passed_time": 1.509831312,
             "remaining_time": 36.23595148,
             "test": [
              0.5847416775
             ]
            },
            {
             "iteration": 4,
             "learn": [
              0.5622458053
             ],
             "passed_time": 1.881373767,
             "remaining_time": 35.74610157,
             "test": [
              0.5612715457
             ]
            },
            {
             "iteration": 5,
             "learn": [
              0.5379241634
             ],
             "passed_time": 2.265171309,
             "remaining_time": 35.48768385,
             "test": [
              0.5390323264
             ]
            },
            {
             "iteration": 6,
             "learn": [
              0.5169585306
             ],
             "passed_time": 2.680207859,
             "remaining_time": 35.60847584,
             "test": [
              0.5179339829
             ]
            },
            {
             "iteration": 7,
             "learn": [
              0.4987713472
             ],
             "passed_time": 3.044657664,
             "remaining_time": 35.01356314,
             "test": [
              0.4978858932
             ]
            },
            {
             "iteration": 8,
             "learn": [
              0.4786203059
             ],
             "passed_time": 3.434178247,
             "remaining_time": 34.72335783,
             "test": [
              0.4788264208
             ]
            },
            {
             "iteration": 9,
             "learn": [
              0.4607274332
             ],
             "passed_time": 3.895352269,
             "remaining_time": 35.05817042,
             "test": [
              0.4606852389
             ]
            },
            {
             "iteration": 10,
             "learn": [
              0.443997913
             ],
             "passed_time": 4.282889488,
             "remaining_time": 34.65246949,
             "test": [
              0.4434009956
             ]
            },
            {
             "iteration": 11,
             "learn": [
              0.4281594786
             ],
             "passed_time": 4.718376598,
             "remaining_time": 34.60142838,
             "test": [
              0.4269188713
             ]
            },
            {
             "iteration": 12,
             "learn": [
              0.4123505214
             ],
             "passed_time": 5.167763521,
             "remaining_time": 34.58426357,
             "test": [
              0.411194381
             ]
            },
            {
             "iteration": 13,
             "learn": [
              0.3969073964
             ],
             "passed_time": 5.57526906,
             "remaining_time": 34.24808137,
             "test": [
              0.3961717437
             ]
            },
            {
             "iteration": 14,
             "learn": [
              0.382579417
             ],
             "passed_time": 5.977642507,
             "remaining_time": 33.87330754,
             "test": [
              0.3818138576
             ]
            },
            {
             "iteration": 15,
             "learn": [
              0.3675103346
             ],
             "passed_time": 6.363400954,
             "remaining_time": 33.40785501,
             "test": [
              0.3680801373
             ]
            },
            {
             "iteration": 16,
             "learn": [
              0.3541233899
             ],
             "passed_time": 6.807205854,
             "remaining_time": 33.23518152,
             "test": [
              0.3549365558
             ]
            },
            {
             "iteration": 17,
             "learn": [
              0.3433581369
             ],
             "passed_time": 7.191298288,
             "remaining_time": 32.76035887,
             "test": [
              0.342351649
             ]
            },
            {
             "iteration": 18,
             "learn": [
              0.3302579313
             ],
             "passed_time": 7.598733392,
             "remaining_time": 32.39460025,
             "test": [
              0.330294196
             ]
            },
            {
             "iteration": 19,
             "learn": [
              0.3198407997
             ],
             "passed_time": 7.969821148,
             "remaining_time": 31.87928459,
             "test": [
              0.3187349517
             ]
            },
            {
             "iteration": 20,
             "learn": [
              0.3072447085
             ],
             "passed_time": 8.435432008,
             "remaining_time": 31.73329184,
             "test": [
              0.3076490497
             ]
            },
            {
             "iteration": 21,
             "learn": [
              0.2970688176
             ],
             "passed_time": 8.865678758,
             "remaining_time": 31.43286105,
             "test": [
              0.2970096988
             ]
            },
            {
             "iteration": 22,
             "learn": [
              0.2870327866
             ],
             "passed_time": 9.297565114,
             "remaining_time": 31.12663103,
             "test": [
              0.2867965293
             ]
            },
            {
             "iteration": 23,
             "learn": [
              0.2767680967
             ],
             "passed_time": 9.764219502,
             "remaining_time": 30.92002842,
             "test": [
              0.2769871082
             ]
            },
            {
             "iteration": 24,
             "learn": [
              0.2669603261
             ],
             "passed_time": 10.11642309,
             "remaining_time": 30.34926926,
             "test": [
              0.2675612012
             ]
            },
            {
             "iteration": 25,
             "learn": [
              0.2582014613
             ],
             "passed_time": 10.5517876,
             "remaining_time": 30.03201086,
             "test": [
              0.2585006561
             ]
            },
            {
             "iteration": 26,
             "learn": [
              0.2501852796
             ],
             "passed_time": 10.96674836,
             "remaining_time": 29.65083815,
             "test": [
              0.249790296
             ]
            },
            {
             "iteration": 27,
             "learn": [
              0.2421990605
             ],
             "passed_time": 11.41736768,
             "remaining_time": 29.35894547,
             "test": [
              0.2414107961
             ]
            },
            {
             "iteration": 28,
             "learn": [
              0.2339211438
             ],
             "passed_time": 11.81448885,
             "remaining_time": 28.92512787,
             "test": [
              0.2333487487
             ]
            },
            {
             "iteration": 29,
             "learn": [
              0.2261217287
             ],
             "passed_time": 12.23120752,
             "remaining_time": 28.53948421,
             "test": [
              0.2255881194
             ]
            },
            {
             "iteration": 30,
             "learn": [
              0.2187802449
             ],
             "passed_time": 12.89217977,
             "remaining_time": 28.69549691,
             "test": [
              0.2181155442
             ]
            },
            {
             "iteration": 31,
             "learn": [
              0.2111754018
             ],
             "passed_time": 13.4981774,
             "remaining_time": 28.68362698,
             "test": [
              0.2109186002
             ]
            },
            {
             "iteration": 32,
             "learn": [
              0.2036393157
             ],
             "passed_time": 13.96844618,
             "remaining_time": 28.36017861,
             "test": [
              0.2039849616
             ]
            },
            {
             "iteration": 33,
             "learn": [
              0.1971887772
             ],
             "passed_time": 14.4558467,
             "remaining_time": 28.06134947,
             "test": [
              0.1973040214
             ]
            },
            {
             "iteration": 34,
             "learn": [
              0.191454282
             ],
             "passed_time": 14.92513757,
             "remaining_time": 27.71811264,
             "test": [
              0.1908644656
             ]
            },
            {
             "iteration": 35,
             "learn": [
              0.1843259903
             ],
             "passed_time": 15.32292117,
             "remaining_time": 27.24074874,
             "test": [
              0.18465629
             ]
            },
            {
             "iteration": 36,
             "learn": [
              0.1791022591
             ],
             "passed_time": 15.75464313,
             "remaining_time": 26.82547344,
             "test": [
              0.1786730919
             ]
            },
            {
             "iteration": 37,
             "learn": [
              0.1725891967
             ],
             "passed_time": 16.18147925,
             "remaining_time": 26.40136088,
             "test": [
              0.1728956416
             ]
            },
            {
             "iteration": 38,
             "learn": [
              0.1679527735
             ],
             "passed_time": 16.60502192,
             "remaining_time": 25.97195736,
             "test": [
              0.1673224629
             ]
            },
            {
             "iteration": 39,
             "learn": [
              0.1618304443
             ],
             "passed_time": 17.02994726,
             "remaining_time": 25.54492088,
             "test": [
              0.1619452396
             ]
            },
            {
             "iteration": 40,
             "learn": [
              0.1566478524
             ],
             "passed_time": 17.45238061,
             "remaining_time": 25.11440136,
             "test": [
              0.1567559698
             ]
            },
            {
             "iteration": 41,
             "learn": [
              0.1523308824
             ],
             "passed_time": 17.91993167,
             "remaining_time": 24.74657231,
             "test": [
              0.1517458721
             ]
            },
            {
             "iteration": 42,
             "learn": [
              0.1473463847
             ],
             "passed_time": 18.28859792,
             "remaining_time": 24.24302515,
             "test": [
              0.1469083864
             ]
            },
            {
             "iteration": 43,
             "learn": [
              0.1422758368
             ],
             "passed_time": 18.75442699,
             "remaining_time": 23.86927071,
             "test": [
              0.1422374187
             ]
            },
            {
             "iteration": 44,
             "learn": [
              0.1375837939
             ],
             "passed_time": 19.12791377,
             "remaining_time": 23.37856127,
             "test": [
              0.1377254078
             ]
            },
            {
             "iteration": 45,
             "learn": [
              0.1332833606
             ],
             "passed_time": 19.57702481,
             "remaining_time": 22.98172478,
             "test": [
              0.1333667862
             ]
            },
            {
             "iteration": 46,
             "learn": [
              0.1292566417
             ],
             "passed_time": 19.97757714,
             "remaining_time": 22.52790614,
             "test": [
              0.1291558209
             ]
            },
            {
             "iteration": 47,
             "learn": [
              0.1253279348
             ],
             "passed_time": 20.42286949,
             "remaining_time": 22.12477528,
             "test": [
              0.1250879614
             ]
            },
            {
             "iteration": 48,
             "learn": [
              0.1214236381
             ],
             "passed_time": 20.87316415,
             "remaining_time": 21.72513003,
             "test": [
              0.1211517852
             ]
            },
            {
             "iteration": 49,
             "learn": [
              0.117543604
             ],
             "passed_time": 21.29449982,
             "remaining_time": 21.29449982,
             "test": [
              0.1173505515
             ]
            },
            {
             "iteration": 50,
             "learn": [
              0.1137190642
             ],
             "passed_time": 21.75002732,
             "remaining_time": 20.89708507,
             "test": [
              0.1136762834
             ]
            },
            {
             "iteration": 51,
             "learn": [
              0.1101770255
             ],
             "passed_time": 22.17927707,
             "remaining_time": 20.47317883,
             "test": [
              0.1101245534
             ]
            },
            {
             "iteration": 52,
             "learn": [
              0.1072892464
             ],
             "passed_time": 22.55887183,
             "remaining_time": 20.00503729,
             "test": [
              0.1066888182
             ]
            },
            {
             "iteration": 53,
             "learn": [
              0.1037954139
             ],
             "passed_time": 23.00340771,
             "remaining_time": 19.59549546,
             "test": [
              0.1033663927
             ]
            },
            {
             "iteration": 54,
             "learn": [
              0.1001532022
             ],
             "passed_time": 23.4026008,
             "remaining_time": 19.14758247,
             "test": [
              0.1001539025
             ]
            },
            {
             "iteration": 55,
             "learn": [
              0.09753910015
             ],
             "passed_time": 23.79099997,
             "remaining_time": 18.69292854,
             "test": [
              0.09704633507
             ]
            },
            {
             "iteration": 56,
             "learn": [
              0.09414574934
             ],
             "passed_time": 24.19727976,
             "remaining_time": 18.25408824,
             "test": [
              0.09403654794
             ]
            },
            {
             "iteration": 57,
             "learn": [
              0.09160415552
             ],
             "passed_time": 24.61960047,
             "remaining_time": 17.82798655,
             "test": [
              0.09112963395
             ]
            },
            {
             "iteration": 58,
             "learn": [
              0.088365865
             ],
             "passed_time": 25.03291058,
             "remaining_time": 17.39575142,
             "test": [
              0.08831509365
             ]
            },
            {
             "iteration": 59,
             "learn": [
              0.08593524432
             ],
             "passed_time": 25.50211492,
             "remaining_time": 17.00140995,
             "test": [
              0.08558984875
             ]
            },
            {
             "iteration": 60,
             "learn": [
              0.08309534248
             ],
             "passed_time": 25.92062298,
             "remaining_time": 16.57220158,
             "test": [
              0.08295384407
             ]
            },
            {
             "iteration": 61,
             "learn": [
              0.080518206
             ],
             "passed_time": 26.379558,
             "remaining_time": 16.16811619,
             "test": [
              0.08040288321
             ]
            },
            {
             "iteration": 62,
             "learn": [
              0.07836030924
             ],
             "passed_time": 26.75412702,
             "remaining_time": 15.71274127,
             "test": [
              0.07793253597
             ]
            },
            {
             "iteration": 63,
             "learn": [
              0.07590186349
             ],
             "passed_time": 27.22064439,
             "remaining_time": 15.31161247,
             "test": [
              0.07554003931
             ]
            },
            {
             "iteration": 64,
             "learn": [
              0.07343641893
             ],
             "passed_time": 27.62946343,
             "remaining_time": 14.87740338,
             "test": [
              0.07322428513
             ]
            },
            {
             "iteration": 65,
             "learn": [
              0.07111337487
             ],
             "passed_time": 28.02852493,
             "remaining_time": 14.43893708,
             "test": [
              0.07098212425
             ]
            },
            {
             "iteration": 66,
             "learn": [
              0.0689178689
             ],
             "passed_time": 28.42111392,
             "remaining_time": 13.9984591,
             "test": [
              0.06881150486
             ]
            },
            {
             "iteration": 67,
             "learn": [
              0.06684058193
             ],
             "passed_time": 28.79302173,
             "remaining_time": 13.54965729,
             "test": [
              0.06671126943
             ]
            },
            {
             "iteration": 68,
             "learn": [
              0.06485942217
             ],
             "passed_time": 29.22965037,
             "remaining_time": 13.13216176,
             "test": [
              0.06467784653
             ]
            },
            {
             "iteration": 69,
             "learn": [
              0.06288923614
             ],
             "passed_time": 29.60172268,
             "remaining_time": 12.68645258,
             "test": [
              0.06270510013
             ]
            },
            {
             "iteration": 70,
             "learn": [
              0.06094730657
             ],
             "passed_time": 30.02277774,
             "remaining_time": 12.26282471,
             "test": [
              0.06079540722
             ]
            },
            {
             "iteration": 71,
             "learn": [
              0.05907103803
             ],
             "passed_time": 30.42616427,
             "remaining_time": 11.83239722,
             "test": [
              0.05894726736
             ]
            },
            {
             "iteration": 72,
             "learn": [
              0.05732523706
             ],
             "passed_time": 30.84098432,
             "remaining_time": 11.40693941,
             "test": [
              0.05715735753
             ]
            },
            {
             "iteration": 73,
             "learn": [
              0.05580191659
             ],
             "passed_time": 31.23668294,
             "remaining_time": 10.97505076,
             "test": [
              0.05542415449
             ]
            },
            {
             "iteration": 74,
             "learn": [
              0.05405786975
             ],
             "passed_time": 31.57475455,
             "remaining_time": 10.52491818,
             "test": [
              0.05374577847
             ]
            },
            {
             "iteration": 75,
             "learn": [
              0.05225082958
             ],
             "passed_time": 31.90213653,
             "remaining_time": 10.07435891,
             "test": [
              0.05211529829
             ]
            },
            {
             "iteration": 76,
             "learn": [
              0.05090757172
             ],
             "passed_time": 32.34584741,
             "remaining_time": 9.661746629,
             "test": [
              0.05053967622
             ]
            },
            {
             "iteration": 77,
             "learn": [
              0.04922126113
             ],
             "passed_time": 32.82159876,
             "remaining_time": 9.25737401,
             "test": [
              0.0490110758
             ]
            },
            {
             "iteration": 78,
             "learn": [
              0.04780693546
             ],
             "passed_time": 33.20990597,
             "remaining_time": 8.827949689,
             "test": [
              0.04753162784
             ]
            },
            {
             "iteration": 79,
             "learn": [
              0.04630033898
             ],
             "passed_time": 33.60145133,
             "remaining_time": 8.400362833,
             "test": [
              0.04609653316
             ]
            },
            {
             "iteration": 80,
             "learn": [
              0.0450384618
             ],
             "passed_time": 33.93200903,
             "remaining_time": 7.959360143,
             "test": [
              0.04470476793
             ]
            },
            {
             "iteration": 81,
             "learn": [
              0.04353591223
             ],
             "passed_time": 34.36125613,
             "remaining_time": 7.542714761,
             "test": [
              0.04335780942
             ]
            },
            {
             "iteration": 82,
             "learn": [
              0.0423369433
             ],
             "passed_time": 34.78415665,
             "remaining_time": 7.124465819,
             "test": [
              0.04205319328
             ]
            },
            {
             "iteration": 83,
             "learn": [
              0.0411108634
             ],
             "passed_time": 35.25655645,
             "remaining_time": 6.715534562,
             "test": [
              0.04078866593
             ]
            },
            {
             "iteration": 84,
             "learn": [
              0.03979862042
             ],
             "passed_time": 35.71519591,
             "remaining_time": 6.302681632,
             "test": [
              0.03956144251
             ]
            },
            {
             "iteration": 85,
             "learn": [
              0.03856348931
             ],
             "passed_time": 36.09922782,
             "remaining_time": 5.876618482,
             "test": [
              0.03837314205
             ]
            },
            {
             "iteration": 86,
             "learn": [
              0.03747458291
             ],
             "passed_time": 36.54475903,
             "remaining_time": 5.46071112,
             "test": [
              0.03721926813
             ]
            },
            {
             "iteration": 87,
             "learn": [
              0.03642472497
             ],
             "passed_time": 36.93048485,
             "remaining_time": 5.035975207,
             "test": [
              0.03610284362
             ]
            },
            {
             "iteration": 88,
             "learn": [
              0.03530713689
             ],
             "passed_time": 37.2626832,
             "remaining_time": 4.60550017,
             "test": [
              0.03502092416
             ]
            },
            {
             "iteration": 89,
             "learn": [
              0.03425884241
             ],
             "passed_time": 37.68648948,
             "remaining_time": 4.18738772,
             "test": [
              0.03397207437
             ]
            },
            {
             "iteration": 90,
             "learn": [
              0.03323461057
             ],
             "passed_time": 38.18408375,
             "remaining_time": 3.776447843,
             "test": [
              0.03295406456
             ]
            },
            {
             "iteration": 91,
             "learn": [
              0.03224547576
             ],
             "passed_time": 38.56766449,
             "remaining_time": 3.353709956,
             "test": [
              0.03196726704
             ]
            },
            {
             "iteration": 92,
             "learn": [
              0.03128592736
             ],
             "passed_time": 39.03600001,
             "remaining_time": 2.938193549,
             "test": [
              0.03101202716
             ]
            },
            {
             "iteration": 93,
             "learn": [
              0.03036016428
             ],
             "passed_time": 39.47693733,
             "remaining_time": 2.51980451,
             "test": [
              0.030086515
             ]
            },
            {
             "iteration": 94,
             "learn": [
              0.02945340726
             ],
             "passed_time": 39.82845787,
             "remaining_time": 2.096234625,
             "test": [
              0.0291854162
             ]
            },
            {
             "iteration": 95,
             "learn": [
              0.02861327563
             ],
             "passed_time": 40.15155293,
             "remaining_time": 1.672981372,
             "test": [
              0.02831161596
             ]
            },
            {
             "iteration": 96,
             "learn": [
              0.02772505591
             ],
             "passed_time": 40.58677685,
             "remaining_time": 1.25526114,
             "test": [
              0.02746664275
             ]
            },
            {
             "iteration": 97,
             "learn": [
              0.02687478422
             ],
             "passed_time": 40.95643871,
             "remaining_time": 0.8358456879,
             "test": [
              0.02664475376
             ]
            },
            {
             "iteration": 98,
             "learn": [
              0.02614740906
             ],
             "passed_time": 41.3429903,
             "remaining_time": 0.4176059626,
             "test": [
              0.0258517854
             ]
            },
            {
             "iteration": 99,
             "learn": [
              0.02530449812
             ],
             "passed_time": 41.66866946,
             "remaining_time": 0,
             "test": [
              0.02508026091
             ]
            }
           ],
           "meta": {
            "iteration_count": 100,
            "launch_mode": "Train",
            "learn_metrics": [
             {
              "best_value": "Min",
              "name": "CrossEntropy"
             }
            ],
            "learn_sets": [
             "learn"
            ],
            "name": "experiment",
            "parameters": "",
            "test_metrics": [
             {
              "best_value": "Min",
              "name": "CrossEntropy"
             }
            ],
            "test_sets": [
             "test"
            ]
           }
          },
          "passed_iterations": 99,
          "total_iterations": 100
         },
         "name": "catboost_info",
         "path": "catboost_info"
        }
       },
       "layout": "IPY_MODEL_c11d0530ae40449fb177e6e719179cd8"
      }
     },
     "afb2bbcf3f8c4961b4c379f7c38643f8": {
      "model_module": "@jupyter-widgets/base",
      "model_module_version": "1.2.0",
      "model_name": "LayoutModel",
      "state": {
       "_model_module": "@jupyter-widgets/base",
       "_model_module_version": "1.2.0",
       "_model_name": "LayoutModel",
       "_view_count": null,
       "_view_module": "@jupyter-widgets/base",
       "_view_module_version": "1.2.0",
       "_view_name": "LayoutView",
       "align_content": null,
       "align_items": null,
       "align_self": "stretch",
       "border": null,
       "bottom": null,
       "display": null,
       "flex": null,
       "flex_flow": null,
       "grid_area": null,
       "grid_auto_columns": null,
       "grid_auto_flow": null,
       "grid_auto_rows": null,
       "grid_column": null,
       "grid_gap": null,
       "grid_row": null,
       "grid_template_areas": null,
       "grid_template_columns": null,
       "grid_template_rows": null,
       "height": "500px",
       "justify_content": null,
       "justify_items": null,
       "left": null,
       "margin": null,
       "max_height": null,
       "max_width": null,
       "min_height": null,
       "min_width": null,
       "object_fit": null,
       "object_position": null,
       "order": null,
       "overflow": null,
       "overflow_x": null,
       "overflow_y": null,
       "padding": null,
       "right": null,
       "top": null,
       "visibility": null,
       "width": null
      }
     },
     "ba2087e91d214e7cb423f9074da7cec9": {
      "model_module": "catboost-widget",
      "model_module_version": "^1.0.0",
      "model_name": "CatboostWidgetModel",
      "state": {
       "_dom_classes": [],
       "_model_module": "catboost-widget",
       "_model_module_version": "^1.0.0",
       "_model_name": "CatboostWidgetModel",
       "_view_count": null,
       "_view_module": "catboost-widget",
       "_view_module_version": "^1.0.0",
       "_view_name": "CatboostWidgetView",
       "data": {
        "catboost_info": {
         "content": {
          "data": {
           "iterations": [
            {
             "iteration": 0,
             "learn": [
              0.6613825674
             ],
             "passed_time": 0.3752165062,
             "remaining_time": 37.14643411,
             "test": [
              0.6636018033
             ]
            },
            {
             "iteration": 1,
             "learn": [
              0.6363097193
             ],
             "passed_time": 0.7681604119,
             "remaining_time": 37.63986018,
             "test": [
              0.6357752372
             ]
            },
            {
             "iteration": 2,
             "learn": [
              0.6093862645
             ],
             "passed_time": 1.13112248,
             "remaining_time": 36.57296019,
             "test": [
              0.6095241564
             ]
            },
            {
             "iteration": 3,
             "learn": [
              0.5837373086
             ],
             "passed_time": 1.574407088,
             "remaining_time": 37.78577011,
             "test": [
              0.5847182558
             ]
            },
            {
             "iteration": 4,
             "learn": [
              0.5622148114
             ],
             "passed_time": 1.94812938,
             "remaining_time": 37.01445821,
             "test": [
              0.5612439369
             ]
            },
            {
             "iteration": 5,
             "learn": [
              0.5377321291
             ],
             "passed_time": 2.314587945,
             "remaining_time": 36.26187781,
             "test": [
              0.5390025519
             ]
            },
            {
             "iteration": 6,
             "learn": [
              0.5169015379
             ],
             "passed_time": 2.712552261,
             "remaining_time": 36.03819433,
             "test": [
              0.5178979652
             ]
            },
            {
             "iteration": 7,
             "learn": [
              0.498723173
             ],
             "passed_time": 3.076339323,
             "remaining_time": 35.37790221,
             "test": [
              0.4978510425
             ]
            },
            {
             "iteration": 8,
             "learn": [
              0.4785606175
             ],
             "passed_time": 3.46646798,
             "remaining_time": 35.04984291,
             "test": [
              0.4787888314
             ]
            },
            {
             "iteration": 9,
             "learn": [
              0.4606095563
             ],
             "passed_time": 3.92866173,
             "remaining_time": 35.35795557,
             "test": [
              0.460644731
             ]
            },
            {
             "iteration": 10,
             "learn": [
              0.4438803516
             ],
             "passed_time": 4.326564902,
             "remaining_time": 35.00584329,
             "test": [
              0.4433577314
             ]
            },
            {
             "iteration": 11,
             "learn": [
              0.4280851807
             ],
             "passed_time": 4.765411428,
             "remaining_time": 34.94635047,
             "test": [
              0.4268730897
             ]
            },
            {
             "iteration": 12,
             "learn": [
              0.4121990682
             ],
             "passed_time": 5.215006535,
             "remaining_time": 34.90042835,
             "test": [
              0.4111423377
             ]
            },
            {
             "iteration": 13,
             "learn": [
              0.3968257445
             ],
             "passed_time": 5.619912694,
             "remaining_time": 34.52232083,
             "test": [
              0.3961178579
             ]
            },
            {
             "iteration": 14,
             "learn": [
              0.3824534238
             ],
             "passed_time": 6.019969948,
             "remaining_time": 34.11316304,
             "test": [
              0.3817581815
             ]
            },
            {
             "iteration": 15,
             "learn": [
              0.3673896516
             ],
             "passed_time": 6.408728867,
             "remaining_time": 33.64582655,
             "test": [
              0.3680260524
             ]
            },
            {
             "iteration": 16,
             "learn": [
              0.3540083786
             ],
             "passed_time": 6.85185862,
             "remaining_time": 33.45319209,
             "test": [
              0.3548817531
             ]
            },
            {
             "iteration": 17,
             "learn": [
              0.3432289695
             ],
             "passed_time": 7.233784546,
             "remaining_time": 32.95390737,
             "test": [
              0.3422946443
             ]
            },
            {
             "iteration": 18,
             "learn": [
              0.3301453451
             ],
             "passed_time": 7.636021649,
             "remaining_time": 32.55356598,
             "test": [
              0.3302353103
             ]
            },
            {
             "iteration": 19,
             "learn": [
              0.319735929
             ],
             "passed_time": 8.00832044,
             "remaining_time": 32.03328176,
             "test": [
              0.3186740314
             ]
            },
            {
             "iteration": 20,
             "learn": [
              0.3070806963
             ],
             "passed_time": 8.468006344,
             "remaining_time": 31.85583339,
             "test": [
              0.3075858973
             ]
            },
            {
             "iteration": 21,
             "learn": [
              0.2969469582
             ],
             "passed_time": 8.897026589,
             "remaining_time": 31.54400336,
             "test": [
              0.296946142
             ]
            },
            {
             "iteration": 22,
             "learn": [
              0.2868701283
             ],
             "passed_time": 9.329240429,
             "remaining_time": 31.23267448,
             "test": [
              0.28673186
             ]
            },
            {
             "iteration": 23,
             "learn": [
              0.2765886403
             ],
             "passed_time": 9.797388243,
             "remaining_time": 31.02506277,
             "test": [
              0.2769215872
             ]
            },
            {
             "iteration": 24,
             "learn": [
              0.2665677923
             ],
             "passed_time": 10.15287312,
             "remaining_time": 30.45861936,
             "test": [
              0.2674946683
             ]
            },
            {
             "iteration": 25,
             "learn": [
              0.2580574412
             ],
             "passed_time": 10.5492302,
             "remaining_time": 30.02473209,
             "test": [
              0.2584330033
             ]
            },
            {
             "iteration": 26,
             "learn": [
              0.2500384533
             ],
             "passed_time": 10.96753314,
             "remaining_time": 29.65295998,
             "test": [
              0.2497207238
             ]
            },
            {
             "iteration": 27,
             "learn": [
              0.2420481267
             ],
             "passed_time": 11.44064928,
             "remaining_time": 29.41881244,
             "test": [
              0.2413400581
             ]
            },
            {
             "iteration": 28,
             "learn": [
              0.2337643741
             ],
             "passed_time": 11.84614479,
             "remaining_time": 29.00263036,
             "test": [
              0.2332760149
             ]
            },
            {
             "iteration": 29,
             "learn": [
              0.2259343992
             ],
             "passed_time": 12.26170949,
             "remaining_time": 28.61065547,
             "test": [
              0.2255137427
             ]
            },
            {
             "iteration": 30,
             "learn": [
              0.2186119644
             ],
             "passed_time": 12.75857122,
             "remaining_time": 28.39811014,
             "test": [
              0.2180408073
             ]
            },
            {
             "iteration": 31,
             "learn": [
              0.2110189148
             ],
             "passed_time": 13.18940224,
             "remaining_time": 28.02747976,
             "test": [
              0.2108433651
             ]
            },
            {
             "iteration": 32,
             "learn": [
              0.2034768449
             ],
             "passed_time": 13.58570397,
             "remaining_time": 27.58309594,
             "test": [
              0.2039081773
             ]
            },
            {
             "iteration": 33,
             "learn": [
              0.1965922322
             ],
             "passed_time": 14.06708282,
             "remaining_time": 27.30669019,
             "test": [
              0.1972266937
             ]
            },
            {
             "iteration": 34,
             "learn": [
              0.191265257
             ],
             "passed_time": 14.53772598,
             "remaining_time": 26.99863397,
             "test": [
              0.1907869426
             ]
            },
            {
             "iteration": 35,
             "learn": [
              0.18404292
             ],
             "passed_time": 14.93044021,
             "remaining_time": 26.54300482,
             "test": [
              0.1845771255
             ]
            },
            {
             "iteration": 36,
             "learn": [
              0.1788582955
             ],
             "passed_time": 15.36028367,
             "remaining_time": 26.15399652,
             "test": [
              0.1785890131
             ]
            },
            {
             "iteration": 37,
             "learn": [
              0.1723319675
             ],
             "passed_time": 15.87425019,
             "remaining_time": 25.90009242,
             "test": [
              0.1728125968
             ]
            },
            {
             "iteration": 38,
             "learn": [
              0.1677678364
             ],
             "passed_time": 16.50621035,
             "remaining_time": 25.81740593,
             "test": [
              0.1672396626
             ]
            },
            {
             "iteration": 39,
             "learn": [
              0.1615713553
             ],
             "passed_time": 17.09583671,
             "remaining_time": 25.64375506,
             "test": [
              0.1618616486
             ]
            },
            {
             "iteration": 40,
             "learn": [
              0.1564507899
             ],
             "passed_time": 17.51968092,
             "remaining_time": 25.21124816,
             "test": [
              0.1566716757
             ]
            },
            {
             "iteration": 41,
             "learn": [
              0.1521264692
             ],
             "passed_time": 17.9866204,
             "remaining_time": 24.83866626,
             "test": [
              0.1516618428
             ]
            },
            {
             "iteration": 42,
             "learn": [
              0.1471347915
             ],
             "passed_time": 18.35533494,
             "remaining_time": 24.33149051,
             "test": [
              0.1468241259
             ]
            },
            {
             "iteration": 43,
             "learn": [
              0.1420038831
             ],
             "passed_time": 18.80965858,
             "remaining_time": 23.93956546,
             "test": [
              0.1421534124
             ]
            },
            {
             "iteration": 44,
             "learn": [
              0.1372558665
             ],
             "passed_time": 19.17579017,
             "remaining_time": 23.43707687,
             "test": [
              0.1376414149
             ]
            },
            {
             "iteration": 45,
             "learn": [
              0.1330451279
             ],
             "passed_time": 19.61983111,
             "remaining_time": 23.03197565,
             "test": [
              0.1332839854
             ]
            },
            {
             "iteration": 46,
             "learn": [
              0.129055232
             ],
             "passed_time": 20.01913877,
             "remaining_time": 22.57477351,
             "test": [
              0.1290720394
             ]
            },
            {
             "iteration": 47,
             "learn": [
              0.1251321145
             ],
             "passed_time": 20.45539732,
             "remaining_time": 22.16001376,
             "test": [
              0.1250030556
             ]
            },
            {
             "iteration": 48,
             "learn": [
              0.1212234985
             ],
             "passed_time": 20.90350075,
             "remaining_time": 21.75670486,
             "test": [
              0.1210701422
             ]
            },
            {
             "iteration": 49,
             "learn": [
              0.1173391992
             ],
             "passed_time": 21.32495278,
             "remaining_time": 21.32495278,
             "test": [
              0.1172689399
             ]
            },
            {
             "iteration": 50,
             "learn": [
              0.1134735548
             ],
             "passed_time": 21.72609364,
             "remaining_time": 20.87408996,
             "test": [
              0.1135943273
             ]
            },
            {
             "iteration": 51,
             "learn": [
              0.1099114436
             ],
             "passed_time": 22.15373366,
             "remaining_time": 20.4496003,
             "test": [
              0.1100418756
             ]
            },
            {
             "iteration": 52,
             "learn": [
              0.1070545695
             ],
             "passed_time": 22.56811834,
             "remaining_time": 20.01323702,
             "test": [
              0.1066062551
             ]
            },
            {
             "iteration": 53,
             "learn": [
              0.1035582232
             ],
             "passed_time": 23.00340566,
             "remaining_time": 19.59549371,
             "test": [
              0.1032842323
             ]
            },
            {
             "iteration": 54,
             "learn": [
              0.09988528909
             ],
             "passed_time": 23.45665495,
             "remaining_time": 19.19180859,
             "test": [
              0.1000710734
             ]
            },
            {
             "iteration": 55,
             "learn": [
              0.09727977835
             ],
             "passed_time": 23.85688488,
             "remaining_time": 18.74469526,
             "test": [
              0.09696288563
             ]
            },
            {
             "iteration": 56,
             "learn": [
              0.09392602557
             ],
             "passed_time": 24.23629037,
             "remaining_time": 18.2835173,
             "test": [
              0.09395574453
             ]
            },
            {
             "iteration": 57,
             "learn": [
              0.09136611555
             ],
             "passed_time": 24.65493212,
             "remaining_time": 17.85357154,
             "test": [
              0.09104617091
             ]
            },
            {
             "iteration": 58,
             "learn": [
              0.08811441985
             ],
             "passed_time": 25.07028523,
             "remaining_time": 17.42172363,
             "test": [
              0.08823159311
             ]
            },
            {
             "iteration": 59,
             "learn": [
              0.08563003529
             ],
             "passed_time": 25.53284124,
             "remaining_time": 17.02189416,
             "test": [
              0.08550698492
             ]
            },
            {
             "iteration": 60,
             "learn": [
              0.08275099558
             ],
             "passed_time": 25.95653785,
             "remaining_time": 16.59516354,
             "test": [
              0.08287162475
             ]
            },
            {
             "iteration": 61,
             "learn": [
              0.08026858631
             ],
             "passed_time": 26.41560988,
             "remaining_time": 16.19021251,
             "test": [
              0.08032057188
             ]
            },
            {
             "iteration": 62,
             "learn": [
              0.07813059949
             ],
             "passed_time": 26.8599212,
             "remaining_time": 15.77487436,
             "test": [
              0.07785129154
             ]
            },
            {
             "iteration": 63,
             "learn": [
              0.07565791388
             ],
             "passed_time": 27.37449773,
             "remaining_time": 15.39815497,
             "test": [
              0.07546124024
             ]
            },
            {
             "iteration": 64,
             "learn": [
              0.07312325939
             ],
             "passed_time": 27.83283094,
             "remaining_time": 14.98690897,
             "test": [
              0.07314756511
             ]
            },
            {
             "iteration": 65,
             "learn": [
              0.07073938325
             ],
             "passed_time": 28.23175009,
             "remaining_time": 14.54362884,
             "test": [
              0.07090727214
             ]
            },
            {
             "iteration": 66,
             "learn": [
              0.06863571285
             ],
             "passed_time": 28.7384481,
             "remaining_time": 14.15475802,
             "test": [
              0.06873817227
             ]
            },
            {
             "iteration": 67,
             "learn": [
              0.06661338757
             ],
             "passed_time": 29.10294456,
             "remaining_time": 13.69550332,
             "test": [
              0.0666374807
             ]
            },
            {
             "iteration": 68,
             "learn": [
              0.06464574482
             ],
             "passed_time": 29.54906731,
             "remaining_time": 13.27566792,
             "test": [
              0.06460319771
             ]
            },
            {
             "iteration": 69,
             "learn": [
              0.06269097038
             ],
             "passed_time": 29.94339489,
             "remaining_time": 12.83288352,
             "test": [
              0.06263323
             ]
            },
            {
             "iteration": 70,
             "learn": [
              0.06074784475
             ],
             "passed_time": 30.37660289,
             "remaining_time": 12.40734484,
             "test": [
              0.06072497128
             ]
            },
            {
             "iteration": 71,
             "learn": [
              0.05884133847
             ],
             "passed_time": 30.78793962,
             "remaining_time": 11.97308763,
             "test": [
              0.05887688049
             ]
            },
            {
             "iteration": 72,
             "learn": [
              0.05703572736
             ],
             "passed_time": 31.2011712,
             "remaining_time": 11.54015921,
             "test": [
              0.05708655506
             ]
            },
            {
             "iteration": 73,
             "learn": [
              0.05560774697
             ],
             "passed_time": 31.61021381,
             "remaining_time": 11.10629134,
             "test": [
              0.05535255743
             ]
            },
            {
             "iteration": 74,
             "learn": [
              0.05384056179
             ],
             "passed_time": 31.90292871,
             "remaining_time": 10.63430957,
             "test": [
              0.05367114815
             ]
            },
            {
             "iteration": 75,
             "learn": [
              0.05200350075
             ],
             "passed_time": 32.31911554,
             "remaining_time": 10.20603649,
             "test": [
              0.05204377129
             ]
            },
            {
             "iteration": 76,
             "learn": [
              0.05070012919
             ],
             "passed_time": 32.76498055,
             "remaining_time": 9.786942242,
             "test": [
              0.05046708532
             ]
            },
            {
             "iteration": 77,
             "learn": [
              0.0490158888
             ],
             "passed_time": 33.19665643,
             "remaining_time": 9.363159507,
             "test": [
              0.04893923648
             ]
            },
            {
             "iteration": 78,
             "learn": [
              0.0474222707
             ],
             "passed_time": 33.59456886,
             "remaining_time": 8.930201848,
             "test": [
              0.04745897152
             ]
            },
            {
             "iteration": 79,
             "learn": [
              0.04609210049
             ],
             "passed_time": 34.04308805,
             "remaining_time": 8.510772014,
             "test": [
              0.04602478622
             ]
            },
            {
             "iteration": 80,
             "learn": [
              0.04482642065
             ],
             "passed_time": 34.50052061,
             "remaining_time": 8.092714711,
             "test": [
              0.04463465202
             ]
            },
            {
             "iteration": 81,
             "learn": [
              0.04325930199
             ],
             "passed_time": 34.97524273,
             "remaining_time": 7.677492307,
             "test": [
              0.04328831889
             ]
            },
            {
             "iteration": 82,
             "learn": [
              0.04214100771
             ],
             "passed_time": 35.3980826,
             "remaining_time": 7.25020969,
             "test": [
              0.04198328943
             ]
            },
            {
             "iteration": 83,
             "learn": [
              0.04089954186
             ],
             "passed_time": 35.87633334,
             "remaining_time": 6.833587302,
             "test": [
              0.04071837179
             ]
            },
            {
             "iteration": 84,
             "learn": [
              0.0395432131
             ],
             "passed_time": 36.33234259,
             "remaining_time": 6.411589868,
             "test": [
              0.03949329201
             ]
            },
            {
             "iteration": 85,
             "learn": [
              0.03832463361
             ],
             "passed_time": 36.7663833,
             "remaining_time": 5.985225189,
             "test": [
              0.03830497401
             ]
            },
            {
             "iteration": 86,
             "learn": [
              0.03729670062
             ],
             "passed_time": 37.17588311,
             "remaining_time": 5.555017017,
             "test": [
              0.03715288632
             ]
            },
            {
             "iteration": 87,
             "learn": [
              0.03624445624
             ],
             "passed_time": 37.62769709,
             "remaining_time": 5.131049603,
             "test": [
              0.03603682704
             ]
            },
            {
             "iteration": 88,
             "learn": [
              0.03506530983
             ],
             "passed_time": 37.95930943,
             "remaining_time": 4.691600042,
             "test": [
              0.03495439357
             ]
            },
            {
             "iteration": 89,
             "learn": [
              0.03402892962
             ],
             "passed_time": 38.36790057,
             "remaining_time": 4.263100063,
             "test": [
              0.03390498011
             ]
            },
            {
             "iteration": 90,
             "learn": [
              0.03301503967
             ],
             "passed_time": 38.82794875,
             "remaining_time": 3.840126799,
             "test": [
              0.03289023983
             ]
            },
            {
             "iteration": 91,
             "learn": [
              0.03202516637
             ],
             "passed_time": 39.24748954,
             "remaining_time": 3.412825177,
             "test": [
              0.0319045247
             ]
            },
            {
             "iteration": 92,
             "learn": [
              0.03104542634
             ],
             "passed_time": 39.67207911,
             "remaining_time": 2.986070471,
             "test": [
              0.03095067449
             ]
            },
            {
             "iteration": 93,
             "learn": [
              0.03010987817
             ],
             "passed_time": 40.11518366,
             "remaining_time": 2.560543638,
             "test": [
              0.03002403062
             ]
            },
            {
             "iteration": 94,
             "learn": [
              0.02917756596
             ],
             "passed_time": 40.54559343,
             "remaining_time": 2.133978601,
             "test": [
              0.02912495982
             ]
            },
            {
             "iteration": 95,
             "learn": [
              0.02843133432
             ],
             "passed_time": 40.86352489,
             "remaining_time": 1.70264687,
             "test": [
              0.02825337556
             ]
            },
            {
             "iteration": 96,
             "learn": [
              0.02752684111
             ],
             "passed_time": 41.13029131,
             "remaining_time": 1.272070865,
             "test": [
              0.02740685456
             ]
            },
            {
             "iteration": 97,
             "learn": [
              0.02662715292
             ],
             "passed_time": 41.55237918,
             "remaining_time": 0.8480077384,
             "test": [
              0.02658795219
             ]
            },
            {
             "iteration": 98,
             "learn": [
              0.02595837499
             ],
             "passed_time": 41.94301523,
             "remaining_time": 0.4236668205,
             "test": [
              0.02579415215
             ]
            },
            {
             "iteration": 99,
             "learn": [
              0.0251042391
             ],
             "passed_time": 42.33528729,
             "remaining_time": 0,
             "test": [
              0.02502364961
             ]
            }
           ],
           "meta": {
            "iteration_count": 100,
            "launch_mode": "Train",
            "learn_metrics": [
             {
              "best_value": "Min",
              "name": "CrossEntropy"
             }
            ],
            "learn_sets": [
             "learn"
            ],
            "name": "experiment",
            "parameters": "",
            "test_metrics": [
             {
              "best_value": "Min",
              "name": "CrossEntropy"
             }
            ],
            "test_sets": [
             "test"
            ]
           }
          },
          "passed_iterations": 99,
          "total_iterations": 100
         },
         "name": "catboost_info",
         "path": "catboost_info"
        }
       },
       "layout": "IPY_MODEL_645066c45f7c41e39c049ee9e30e3842"
      }
     },
     "c11d0530ae40449fb177e6e719179cd8": {
      "model_module": "@jupyter-widgets/base",
      "model_module_version": "1.2.0",
      "model_name": "LayoutModel",
      "state": {
       "_model_module": "@jupyter-widgets/base",
       "_model_module_version": "1.2.0",
       "_model_name": "LayoutModel",
       "_view_count": null,
       "_view_module": "@jupyter-widgets/base",
       "_view_module_version": "1.2.0",
       "_view_name": "LayoutView",
       "align_content": null,
       "align_items": null,
       "align_self": "stretch",
       "border": null,
       "bottom": null,
       "display": null,
       "flex": null,
       "flex_flow": null,
       "grid_area": null,
       "grid_auto_columns": null,
       "grid_auto_flow": null,
       "grid_auto_rows": null,
       "grid_column": null,
       "grid_gap": null,
       "grid_row": null,
       "grid_template_areas": null,
       "grid_template_columns": null,
       "grid_template_rows": null,
       "height": "500px",
       "justify_content": null,
       "justify_items": null,
       "left": null,
       "margin": null,
       "max_height": null,
       "max_width": null,
       "min_height": null,
       "min_width": null,
       "object_fit": null,
       "object_position": null,
       "order": null,
       "overflow": null,
       "overflow_x": null,
       "overflow_y": null,
       "padding": null,
       "right": null,
       "top": null,
       "visibility": null,
       "width": null
      }
     },
     "c64ca7778486490990cf5cb4cb362673": {
      "model_module": "catboost-widget",
      "model_module_version": "^1.0.0",
      "model_name": "CatboostWidgetModel",
      "state": {
       "_dom_classes": [],
       "_model_module": "catboost-widget",
       "_model_module_version": "^1.0.0",
       "_model_name": "CatboostWidgetModel",
       "_view_count": null,
       "_view_module": "catboost-widget",
       "_view_module_version": "^1.0.0",
       "_view_name": "CatboostWidgetView",
       "data": {
        "catboost_info": {
         "content": {
          "data": {
           "iterations": [
            {
             "iteration": 0,
             "learn": [
              0.6613871283
             ],
             "passed_time": 0.3632893424,
             "remaining_time": 35.9656449,
             "test": [
              0.6636048512
             ]
            },
            {
             "iteration": 1,
             "learn": [
              0.6363191173
             ],
             "passed_time": 0.7554525493,
             "remaining_time": 37.01717492,
             "test": [
              0.6357816002
             ]
            },
            {
             "iteration": 2,
             "learn": [
              0.6093986988
             ],
             "passed_time": 1.139675795,
             "remaining_time": 36.84951739,
             "test": [
              0.6095337954
             ]
            },
            {
             "iteration": 3,
             "learn": [
              0.5837590225
             ],
             "passed_time": 1.736480116,
             "remaining_time": 41.67552278,
             "test": [
              0.5847317681
             ]
            },
            {
             "iteration": 4,
             "learn": [
              0.5622339885
             ],
             "passed_time": 2.271358591,
             "remaining_time": 43.15581323,
             "test": [
              0.5612612415
             ]
            },
            {
             "iteration": 5,
             "learn": [
              0.5377997682
             ],
             "passed_time": 2.765762536,
             "remaining_time": 43.33027973,
             "test": [
              0.5390210804
             ]
            },
            {
             "iteration": 6,
             "learn": [
              0.5169374079
             ],
             "passed_time": 3.162718546,
             "remaining_time": 42.01897497,
             "test": [
              0.5179196336
             ]
            },
            {
             "iteration": 7,
             "learn": [
              0.4987550604
             ],
             "passed_time": 3.534486893,
             "remaining_time": 40.64659927,
             "test": [
              0.4978725524
             ]
            },
            {
             "iteration": 8,
             "learn": [
              0.4785924129
             ],
             "passed_time": 3.926544964,
             "remaining_time": 39.70173241,
             "test": [
              0.4788126327
             ]
            },
            {
             "iteration": 9,
             "learn": [
              0.4606435468
             ],
             "passed_time": 4.392006605,
             "remaining_time": 39.52805944,
             "test": [
              0.4606702969
             ]
            },
            {
             "iteration": 10,
             "learn": [
              0.4440504614
             ],
             "passed_time": 4.778813793,
             "remaining_time": 38.66494796,
             "test": [
              0.4433851917
             ]
            },
            {
             "iteration": 11,
             "learn": [
              0.4281351149
             ],
             "passed_time": 5.211491827,
             "remaining_time": 38.21760673,
             "test": [
              0.4269021269
             ]
            },
            {
             "iteration": 12,
             "learn": [
              0.4122868834
             ],
             "passed_time": 5.660629349,
             "remaining_time": 37.88267334,
             "test": [
              0.4111723921
             ]
            },
            {
             "iteration": 13,
             "learn": [
              0.3968761652
             ],
             "passed_time": 6.062033656,
             "remaining_time": 37.23820674,
             "test": [
              0.3961472226
             ]
            },
            {
             "iteration": 14,
             "learn": [
              0.3825261696
             ],
             "passed_time": 6.461584644,
             "remaining_time": 36.61564631,
             "test": [
              0.3817885052
             ]
            },
            {
             "iteration": 15,
             "learn": [
              0.3674657031
             ],
             "passed_time": 6.845768773,
             "remaining_time": 35.94028606,
             "test": [
              0.3680558325
             ]
            },
            {
             "iteration": 16,
             "learn": [
              0.3540784825
             ],
             "passed_time": 7.283436774,
             "remaining_time": 35.56030896,
             "test": [
              0.3549112591
             ]
            },
            {
             "iteration": 17,
             "learn": [
              0.3432846348
             ],
             "passed_time": 7.666915491,
             "remaining_time": 34.92705946,
             "test": [
              0.3423259406
             ]
            },
            {
             "iteration": 18,
             "learn": [
              0.3302105528
             ],
             "passed_time": 8.068962814,
             "remaining_time": 34.39926252,
             "test": [
              0.3302677765
             ]
            },
            {
             "iteration": 19,
             "learn": [
              0.3198001577
             ],
             "passed_time": 8.43665345,
             "remaining_time": 33.7466138,
             "test": [
              0.3187079139
             ]
            },
            {
             "iteration": 20,
             "learn": [
              0.307175728
             ],
             "passed_time": 8.888995417,
             "remaining_time": 33.43955419,
             "test": [
              0.3076210845
             ]
            },
            {
             "iteration": 21,
             "learn": [
              0.2970242586
             ],
             "passed_time": 9.315788465,
             "remaining_time": 33.02870456,
             "test": [
              0.2969824082
             ]
            },
            {
             "iteration": 22,
             "learn": [
              0.2869579439
             ],
             "passed_time": 9.749686773,
             "remaining_time": 32.64025572,
             "test": [
              0.2867668774
             ]
            },
            {
             "iteration": 23,
             "learn": [
              0.2766762719
             ],
             "passed_time": 10.2037295,
             "remaining_time": 32.31181007,
             "test": [
              0.2769569892
             ]
            },
            {
             "iteration": 24,
             "learn": [
              0.2667083154
             ],
             "passed_time": 10.56049437,
             "remaining_time": 31.68148312,
             "test": [
              0.2675311013
             ]
            },
            {
             "iteration": 25,
             "learn": [
              0.2581725438
             ],
             "passed_time": 10.94425941,
             "remaining_time": 31.14904603,
             "test": [
              0.2584707735
             ]
            },
            {
             "iteration": 26,
             "learn": [
              0.2501222534
             ],
             "passed_time": 11.35836684,
             "remaining_time": 30.7096585,
             "test": [
              0.2497559385
             ]
            },
            {
             "iteration": 27,
             "learn": [
              0.2421351405
             ],
             "passed_time": 11.80471769,
             "remaining_time": 30.35498835,
             "test": [
              0.2413764036
             ]
            },
            {
             "iteration": 28,
             "learn": [
              0.2338580194
             ],
             "passed_time": 12.24313413,
             "remaining_time": 29.97456976,
             "test": [
              0.2333127917
             ]
            },
            {
             "iteration": 29,
             "learn": [
              0.2260367064
             ],
             "passed_time": 12.66178654,
             "remaining_time": 29.54416859,
             "test": [
              0.2255512488
             ]
            },
            {
             "iteration": 30,
             "learn": [
              0.2187040291
             ],
             "passed_time": 13.11880066,
             "remaining_time": 29.19991115,
             "test": [
              0.2180786442
             ]
            },
            {
             "iteration": 31,
             "learn": [
              0.2111185636
             ],
             "passed_time": 13.55207868,
             "remaining_time": 28.7981672,
             "test": [
              0.2108827945
             ]
            },
            {
             "iteration": 32,
             "learn": [
              0.2035893123
             ],
             "passed_time": 13.99263405,
             "remaining_time": 28.40928731,
             "test": [
              0.2039496517
             ]
            },
            {
             "iteration": 33,
             "learn": [
              0.196764978
             ],
             "passed_time": 14.47755594,
             "remaining_time": 28.10349095,
             "test": [
              0.1972685894
             ]
            },
            {
             "iteration": 34,
             "learn": [
              0.1913771231
             ],
             "passed_time": 14.94468244,
             "remaining_time": 27.75441025,
             "test": [
              0.1908288859
             ]
            },
            {
             "iteration": 35,
             "learn": [
              0.1842019731
             ],
             "passed_time": 15.33447254,
             "remaining_time": 27.26128452,
             "test": [
              0.184620296
             ]
            },
            {
             "iteration": 36,
             "learn": [
              0.178971614
             ],
             "passed_time": 15.74634498,
             "remaining_time": 26.81134416,
             "test": [
              0.1786301537
             ]
            },
            {
             "iteration": 37,
             "learn": [
              0.1724504581
             ],
             "passed_time": 16.16876594,
             "remaining_time": 26.38061812,
             "test": [
              0.1728517238
             ]
            },
            {
             "iteration": 38,
             "learn": [
              0.1678643798
             ],
             "passed_time": 16.61770159,
             "remaining_time": 25.99178966,
             "test": [
              0.1672792189
             ]
            },
            {
             "iteration": 39,
             "learn": [
              0.1616638466
             ],
             "passed_time": 16.99315026,
             "remaining_time": 25.48972539,
             "test": [
              0.1618991129
             ]
            },
            {
             "iteration": 40,
             "learn": [
              0.1565466001
             ],
             "passed_time": 17.40941692,
             "remaining_time": 25.05257557,
             "test": [
              0.1567076631
             ]
            },
            {
             "iteration": 41,
             "learn": [
              0.1522227263
             ],
             "passed_time": 17.87701202,
             "remaining_time": 24.68730232,
             "test": [
              0.1516988984
             ]
            },
            {
             "iteration": 42,
             "learn": [
              0.147227135
             ],
             "passed_time": 18.24607769,
             "remaining_time": 24.18666113,
             "test": [
              0.1468614915
             ]
            },
            {
             "iteration": 43,
             "learn": [
              0.1421194815
             ],
             "passed_time": 18.66937453,
             "remaining_time": 23.76102213,
             "test": [
              0.1421906
             ]
            },
            {
             "iteration": 44,
             "learn": [
              0.1373623265
             ],
             "passed_time": 19.03155122,
             "remaining_time": 23.26078482,
             "test": [
              0.1376791361
             ]
            },
            {
             "iteration": 45,
             "learn": [
              0.1331514434
             ],
             "passed_time": 19.46833165,
             "remaining_time": 22.85412846,
             "test": [
              0.1333192854
             ]
            },
            {
             "iteration": 46,
             "learn": [
              0.1291436683
             ],
             "passed_time": 19.86995642,
             "remaining_time": 22.4065466,
             "test": [
              0.1291089376
             ]
            },
            {
             "iteration": 47,
             "learn": [
              0.1252207152
             ],
             "passed_time": 20.29798219,
             "remaining_time": 21.9894807,
             "test": [
              0.1250395952
             ]
            },
            {
             "iteration": 48,
             "learn": [
              0.1213093093
             ],
             "passed_time": 20.71888289,
             "remaining_time": 21.56455158,
             "test": [
              0.1211073964
             ]
            },
            {
             "iteration": 49,
             "learn": [
              0.1174246946
             ],
             "passed_time": 21.12830316,
             "remaining_time": 21.12830316,
             "test": [
              0.1173068035
             ]
            },
            {
             "iteration": 50,
             "learn": [
              0.1135634436
             ],
             "passed_time": 21.54468703,
             "remaining_time": 20.69979735,
             "test": [
              0.1136302025
             ]
            },
            {
             "iteration": 51,
             "learn": [
              0.1099981285
             ],
             "passed_time": 21.96964082,
             "remaining_time": 20.27966845,
             "test": [
              0.1100787976
             ]
            },
            {
             "iteration": 52,
             "learn": [
              0.1071425162
             ],
             "passed_time": 22.39506801,
             "remaining_time": 19.85977729,
             "test": [
              0.1066434376
             ]
            },
            {
             "iteration": 53,
             "learn": [
              0.1036510513
             ],
             "passed_time": 22.83215724,
             "remaining_time": 19.44961542,
             "test": [
              0.1033220274
             ]
            },
            {
             "iteration": 54,
             "learn": [
              0.09998980217
             ],
             "passed_time": 23.23180686,
             "remaining_time": 19.00784198,
             "test": [
              0.1001096976
             ]
            },
            {
             "iteration": 55,
             "learn": [
              0.09738907092
             ],
             "passed_time": 23.6336639,
             "remaining_time": 18.56930735,
             "test": [
              0.0970022138
             ]
            },
            {
             "iteration": 56,
             "learn": [
              0.09401101651
             ],
             "passed_time": 23.94530407,
             "remaining_time": 18.06400131,
             "test": [
              0.09399354064
             ]
            },
            {
             "iteration": 57,
             "learn": [
              0.09144080446
             ],
             "passed_time": 24.30191619,
             "remaining_time": 17.59793931,
             "test": [
              0.09108164119
             ]
            },
            {
             "iteration": 58,
             "learn": [
              0.08819628374
             ],
             "passed_time": 24.76097287,
             "remaining_time": 17.20677776,
             "test": [
              0.08826519058
             ]
            },
            {
             "iteration": 59,
             "learn": [
              0.08574782012
             ],
             "passed_time": 25.21131939,
             "remaining_time": 16.80754626,
             "test": [
              0.08554254509
             ]
            },
            {
             "iteration": 60,
             "learn": [
              0.0828392557
             ],
             "passed_time": 25.63268707,
             "remaining_time": 16.38811141,
             "test": [
              0.08290694323
             ]
            },
            {
             "iteration": 61,
             "learn": [
              0.08034506945
             ],
             "passed_time": 26.05552092,
             "remaining_time": 15.96951282,
             "test": [
              0.08035626709
             ]
            },
            {
             "iteration": 62,
             "learn": [
              0.07819485542
             ],
             "passed_time": 26.50563709,
             "remaining_time": 15.56680274,
             "test": [
              0.07788632386
             ]
            },
            {
             "iteration": 63,
             "learn": [
              0.07571802781
             ],
             "passed_time": 26.94749821,
             "remaining_time": 15.15796774,
             "test": [
              0.07549366304
             ]
            },
            {
             "iteration": 64,
             "learn": [
              0.07320366931
             ],
             "passed_time": 27.40343677,
             "remaining_time": 14.75569672,
             "test": [
              0.07318070474
             ]
            },
            {
             "iteration": 65,
             "learn": [
              0.07086241262
             ],
             "passed_time": 27.80968423,
             "remaining_time": 14.32620097,
             "test": [
              0.0709389623
             ]
            },
            {
             "iteration": 66,
             "learn": [
              0.0687290187
             ],
             "passed_time": 28.30246488,
             "remaining_time": 13.94002002,
             "test": [
              0.06877065232
             ]
            },
            {
             "iteration": 67,
             "learn": [
              0.06667417516
             ],
             "passed_time": 28.68150919,
             "remaining_time": 13.4971808,
             "test": [
              0.06667071333
             ]
            },
            {
             "iteration": 68,
             "learn": [
              0.06469822867
             ],
             "passed_time": 29.06869955,
             "remaining_time": 13.05985052,
             "test": [
              0.06463521977
             ]
            },
            {
             "iteration": 69,
             "learn": [
              0.06273788098
             ],
             "passed_time": 29.4739097,
             "remaining_time": 12.63167558,
             "test": [
              0.0626633751
             ]
            },
            {
             "iteration": 70,
             "learn": [
              0.06079616018
             ],
             "passed_time": 29.89912609,
             "remaining_time": 12.21231911,
             "test": [
              0.06075557768
             ]
            },
            {
             "iteration": 71,
             "learn": [
              0.05889241744
             ],
             "passed_time": 30.2794861,
             "remaining_time": 11.7753557,
             "test": [
              0.05890810472
             ]
            },
            {
             "iteration": 72,
             "learn": [
              0.05709010877
             ],
             "passed_time": 30.70021635,
             "remaining_time": 11.35487454,
             "test": [
              0.0571187021
             ]
            },
            {
             "iteration": 73,
             "learn": [
              0.05565518178
             ],
             "passed_time": 31.0892977,
             "remaining_time": 10.92326676,
             "test": [
              0.0553822284
             ]
            },
            {
             "iteration": 74,
             "learn": [
              0.05391222924
             ],
             "passed_time": 31.44773877,
             "remaining_time": 10.48257959,
             "test": [
              0.05370191783
             ]
            },
            {
             "iteration": 75,
             "learn": [
              0.05206904883
             ],
             "passed_time": 31.8825227,
             "remaining_time": 10.06816506,
             "test": [
              0.05207330973
             ]
            },
            {
             "iteration": 76,
             "learn": [
              0.05074834445
             ],
             "passed_time": 32.25672123,
             "remaining_time": 9.635124523,
             "test": [
              0.0504942235
             ]
            },
            {
             "iteration": 77,
             "learn": [
              0.04906045825
             ],
             "passed_time": 32.65949538,
             "remaining_time": 9.211652543,
             "test": [
              0.04896459375
             ]
            },
            {
             "iteration": 78,
             "learn": [
              0.04753763377
             ],
             "passed_time": 33.04449351,
             "remaining_time": 8.783979287,
             "test": [
              0.04748565022
             ]
            },
            {
             "iteration": 79,
             "learn": [
              0.04613752678
             ],
             "passed_time": 33.63581286,
             "remaining_time": 8.408953216,
             "test": [
              0.04605187293
             ]
            },
            {
             "iteration": 80,
             "learn": [
              0.04487267255
             ],
             "passed_time": 34.19476658,
             "remaining_time": 8.020994629,
             "test": [
              0.04466295022
             ]
            },
            {
             "iteration": 81,
             "learn": [
              0.04332937084
             ],
             "passed_time": 34.7981775,
             "remaining_time": 7.638624329,
             "test": [
              0.04331698086
             ]
            },
            {
             "iteration": 82,
             "learn": [
              0.04219701741
             ],
             "passed_time": 35.2137749,
             "remaining_time": 7.21245992,
             "test": [
              0.04201241461
             ]
            },
            {
             "iteration": 83,
             "learn": [
              0.04094923752
             ],
             "passed_time": 35.73889974,
             "remaining_time": 6.807409474,
             "test": [
              0.04074797427
             ]
            },
            {
             "iteration": 84,
             "learn": [
              0.03959448689
             ],
             "passed_time": 36.19722917,
             "remaining_time": 6.387746324,
             "test": [
              0.03952304692
             ]
            },
            {
             "iteration": 85,
             "learn": [
              0.03837510479
             ],
             "passed_time": 36.53458209,
             "remaining_time": 5.947490108,
             "test": [
              0.03833274786
             ]
            },
            {
             "iteration": 86,
             "learn": [
              0.03732203554
             ],
             "passed_time": 36.90176716,
             "remaining_time": 5.514057161,
             "test": [
              0.03717850906
             ]
            },
            {
             "iteration": 87,
             "learn": [
              0.03626465843
             ],
             "passed_time": 37.29128741,
             "remaining_time": 5.085175555,
             "test": [
              0.03605977297
             ]
            },
            {
             "iteration": 88,
             "learn": [
              0.03509238881
             ],
             "passed_time": 37.64508328,
             "remaining_time": 4.652763102,
             "test": [
              0.03497523145
             ]
            },
            {
             "iteration": 89,
             "learn": [
              0.03404360804
             ],
             "passed_time": 38.05663049,
             "remaining_time": 4.228514499,
             "test": [
              0.03392419638
             ]
            },
            {
             "iteration": 90,
             "learn": [
              0.03302433645
             ],
             "passed_time": 38.51533568,
             "remaining_time": 3.809209023,
             "test": [
              0.03290602897
             ]
            },
            {
             "iteration": 91,
             "learn": [
              0.03202935095
             ],
             "passed_time": 38.83415594,
             "remaining_time": 3.376883125,
             "test": [
              0.03191792425
             ]
            },
            {
             "iteration": 92,
             "learn": [
              0.03105119642
             ],
             "passed_time": 39.24174737,
             "remaining_time": 2.95367991,
             "test": [
              0.03096002654
             ]
            },
            {
             "iteration": 93,
             "learn": [
              0.03012295139
             ],
             "passed_time": 39.6864438,
             "remaining_time": 2.533177264,
             "test": [
              0.03003370638
             ]
            },
            {
             "iteration": 94,
             "learn": [
              0.02920927738
             ],
             "passed_time": 40.10052142,
             "remaining_time": 2.110553759,
             "test": [
              0.02913593467
             ]
            },
            {
             "iteration": 95,
             "learn": [
              0.02842688413
             ],
             "passed_time": 40.42481527,
             "remaining_time": 1.684367303,
             "test": [
              0.02826337909
             ]
            },
            {
             "iteration": 96,
             "learn": [
              0.02752902741
             ],
             "passed_time": 40.75399067,
             "remaining_time": 1.260432701,
             "test": [
              0.02741679514
             ]
            },
            {
             "iteration": 97,
             "learn": [
              0.02664622968
             ],
             "passed_time": 41.16028864,
             "remaining_time": 0.8400058907,
             "test": [
              0.02659873943
             ]
            },
            {
             "iteration": 98,
             "learn": [
              0.02595722313
             ],
             "passed_time": 41.50730267,
             "remaining_time": 0.4192656836,
             "test": [
              0.02580269434
             ]
            },
            {
             "iteration": 99,
             "learn": [
              0.02509771669
             ],
             "passed_time": 41.88648616,
             "remaining_time": 0,
             "test": [
              0.02503299011
             ]
            }
           ],
           "meta": {
            "iteration_count": 100,
            "launch_mode": "Train",
            "learn_metrics": [
             {
              "best_value": "Min",
              "name": "CrossEntropy"
             }
            ],
            "learn_sets": [
             "learn"
            ],
            "name": "experiment",
            "parameters": "",
            "test_metrics": [
             {
              "best_value": "Min",
              "name": "CrossEntropy"
             }
            ],
            "test_sets": [
             "test"
            ]
           }
          },
          "passed_iterations": 99,
          "total_iterations": 100
         },
         "name": "catboost_info",
         "path": "catboost_info"
        }
       },
       "layout": "IPY_MODEL_0ee3146045d146369738aaa9c259039b"
      }
     },
     "c87d91b7a6374189aae2b5f9c7876735": {
      "model_module": "@jupyter-widgets/base",
      "model_module_version": "1.2.0",
      "model_name": "LayoutModel",
      "state": {
       "_model_module": "@jupyter-widgets/base",
       "_model_module_version": "1.2.0",
       "_model_name": "LayoutModel",
       "_view_count": null,
       "_view_module": "@jupyter-widgets/base",
       "_view_module_version": "1.2.0",
       "_view_name": "LayoutView",
       "align_content": null,
       "align_items": null,
       "align_self": "stretch",
       "border": null,
       "bottom": null,
       "display": null,
       "flex": null,
       "flex_flow": null,
       "grid_area": null,
       "grid_auto_columns": null,
       "grid_auto_flow": null,
       "grid_auto_rows": null,
       "grid_column": null,
       "grid_gap": null,
       "grid_row": null,
       "grid_template_areas": null,
       "grid_template_columns": null,
       "grid_template_rows": null,
       "height": "500px",
       "justify_content": null,
       "justify_items": null,
       "left": null,
       "margin": null,
       "max_height": null,
       "max_width": null,
       "min_height": null,
       "min_width": null,
       "object_fit": null,
       "object_position": null,
       "order": null,
       "overflow": null,
       "overflow_x": null,
       "overflow_y": null,
       "padding": null,
       "right": null,
       "top": null,
       "visibility": null,
       "width": null
      }
     },
     "d6ee6834bef74c6997ec71f695636833": {
      "model_module": "catboost-widget",
      "model_module_version": "^1.0.0",
      "model_name": "CatboostWidgetModel",
      "state": {
       "_dom_classes": [],
       "_model_module": "catboost-widget",
       "_model_module_version": "^1.0.0",
       "_model_name": "CatboostWidgetModel",
       "_view_count": null,
       "_view_module": "catboost-widget",
       "_view_module_version": "^1.0.0",
       "_view_name": "CatboostWidgetView",
       "data": {
        "catboost_info": {
         "content": {
          "data": {
           "iterations": [
            {
             "iteration": 0,
             "learn": [
              0.6661462242
             ],
             "passed_time": 0.4984967886,
             "remaining_time": 49.35118207,
             "test": [
              0.6678019609
             ]
            },
            {
             "iteration": 1,
             "learn": [
              0.6442208845
             ],
             "passed_time": 0.9694043291,
             "remaining_time": 47.50081212,
             "test": [
              0.6433913769
             ]
            },
            {
             "iteration": 2,
             "learn": [
              0.6198591091
             ],
             "passed_time": 1.453895219,
             "remaining_time": 47.00927873,
             "test": [
              0.6203406019
             ]
            },
            {
             "iteration": 3,
             "learn": [
              0.5976903748
             ],
             "passed_time": 1.923719415,
             "remaining_time": 46.16926596,
             "test": [
              0.5987547141
             ]
            },
            {
             "iteration": 4,
             "learn": [
              0.5787252106
             ],
             "passed_time": 2.394080141,
             "remaining_time": 45.48752268,
             "test": [
              0.5781779256
             ]
            },
            {
             "iteration": 5,
             "learn": [
              0.5589546886
             ],
             "passed_time": 2.868864219,
             "remaining_time": 44.94553944,
             "test": [
              0.5587828055
             ]
            },
            {
             "iteration": 6,
             "learn": [
              0.5403545617
             ],
             "passed_time": 3.340379386,
             "remaining_time": 44.37932612,
             "test": [
              0.5400299646
             ]
            },
            {
             "iteration": 7,
             "learn": [
              0.5233516653
             ],
             "passed_time": 3.815190318,
             "remaining_time": 43.87468866,
             "test": [
              0.5226518232
             ]
            },
            {
             "iteration": 8,
             "learn": [
              0.5059947521
             ],
             "passed_time": 4.289101811,
             "remaining_time": 43.36758497,
             "test": [
              0.505846128
             ]
            },
            {
             "iteration": 9,
             "learn": [
              0.4908176197
             ],
             "passed_time": 4.773032456,
             "remaining_time": 42.95729211,
             "test": [
              0.4899051795
             ]
            },
            {
             "iteration": 10,
             "learn": [
              0.4755435387
             ],
             "passed_time": 5.24562692,
             "remaining_time": 42.44189053,
             "test": [
              0.4743042753
             ]
            },
            {
             "iteration": 11,
             "learn": [
              0.4613749576
             ],
             "passed_time": 5.735310328,
             "remaining_time": 42.0589424,
             "test": [
              0.4597404718
             ]
            },
            {
             "iteration": 12,
             "learn": [
              0.447622894
             ],
             "passed_time": 6.181491487,
             "remaining_time": 41.36844303,
             "test": [
              0.4459698156
             ]
            },
            {
             "iteration": 13,
             "learn": [
              0.4337745867
             ],
             "passed_time": 6.689989448,
             "remaining_time": 41.09564947,
             "test": [
              0.4322768832
             ]
            },
            {
             "iteration": 14,
             "learn": [
              0.4207336742
             ],
             "passed_time": 7.173040655,
             "remaining_time": 40.64723038,
             "test": [
              0.4196839912
             ]
            },
            {
             "iteration": 15,
             "learn": [
              0.4080476465
             ],
             "passed_time": 7.656945772,
             "remaining_time": 40.1989653,
             "test": [
              0.4075938795
             ]
            },
            {
             "iteration": 16,
             "learn": [
              0.3968059728
             ],
             "passed_time": 8.149857161,
             "remaining_time": 39.79047908,
             "test": [
              0.3957751186
             ]
            },
            {
             "iteration": 17,
             "learn": [
              0.3857109729
             ],
             "passed_time": 8.640181314,
             "remaining_time": 39.36082598,
             "test": [
              0.3844012758
             ]
            },
            {
             "iteration": 18,
             "learn": [
              0.3740461236
             ],
             "passed_time": 9.119319773,
             "remaining_time": 38.87710008,
             "test": [
              0.3734473668
             ]
            },
            {
             "iteration": 19,
             "learn": [
              0.3638672687
             ],
             "passed_time": 9.633415091,
             "remaining_time": 38.53366036,
             "test": [
              0.3627900405
             ]
            },
            {
             "iteration": 20,
             "learn": [
              0.3531505694
             ],
             "passed_time": 10.13086048,
             "remaining_time": 38.11133229,
             "test": [
              0.3525432733
             ]
            },
            {
             "iteration": 21,
             "learn": [
              0.3436322961
             ],
             "passed_time": 10.60504087,
             "remaining_time": 37.59969036,
             "test": [
              0.3426889938
             ]
            },
            {
             "iteration": 22,
             "learn": [
              0.3347835911
             ],
             "passed_time": 11.08609,
             "remaining_time": 37.11430132,
             "test": [
              0.3333269786
             ]
            },
            {
             "iteration": 23,
             "learn": [
              0.32576203
             ],
             "passed_time": 11.62332142,
             "remaining_time": 36.8071845,
             "test": [
              0.3243550799
             ]
            },
            {
             "iteration": 24,
             "learn": [
              0.3169535588
             ],
             "passed_time": 12.29248905,
             "remaining_time": 36.87746715,
             "test": [
              0.3157512874
             ]
            },
            {
             "iteration": 25,
             "learn": [
              0.308523653
             ],
             "passed_time": 12.97908999,
             "remaining_time": 36.94048689,
             "test": [
              0.3071518644
             ]
            },
            {
             "iteration": 26,
             "learn": [
              0.3005037146
             ],
             "passed_time": 13.4783998,
             "remaining_time": 36.44159946,
             "test": [
              0.2987145171
             ]
            },
            {
             "iteration": 27,
             "learn": [
              0.2929614987
             ],
             "passed_time": 13.9562041,
             "remaining_time": 35.88738198,
             "test": [
              0.2909800038
             ]
            },
            {
             "iteration": 28,
             "learn": [
              0.2855607635
             ],
             "passed_time": 14.43773105,
             "remaining_time": 35.34754843,
             "test": [
              0.2833698956
             ]
            },
            {
             "iteration": 29,
             "learn": [
              0.2786771396
             ],
             "passed_time": 14.91241681,
             "remaining_time": 34.79563923,
             "test": [
              0.2763180375
             ]
            },
            {
             "iteration": 30,
             "learn": [
              0.2720225868
             ],
             "passed_time": 15.3684877,
             "remaining_time": 34.20727908,
             "test": [
              0.2696638969
             ]
            },
            {
             "iteration": 31,
             "learn": [
              0.265292431
             ],
             "passed_time": 15.82344666,
             "remaining_time": 33.62482416,
             "test": [
              0.2631718668
             ]
            },
            {
             "iteration": 32,
             "learn": [
              0.2587720145
             ],
             "passed_time": 16.30908098,
             "remaining_time": 33.11237654,
             "test": [
              0.2568285826
             ]
            },
            {
             "iteration": 33,
             "learn": [
              0.2530355447
             ],
             "passed_time": 16.7577663,
             "remaining_time": 32.52978165,
             "test": [
              0.250857085
             ]
            },
            {
             "iteration": 34,
             "learn": [
              0.2472947056
             ],
             "passed_time": 17.22543825,
             "remaining_time": 31.99009961,
             "test": [
              0.2451086204
             ]
            },
            {
             "iteration": 35,
             "learn": [
              0.241730008
             ],
             "passed_time": 17.65919805,
             "remaining_time": 31.39412986,
             "test": [
              0.239337502
             ]
            },
            {
             "iteration": 36,
             "learn": [
              0.2362445908
             ],
             "passed_time": 18.10545494,
             "remaining_time": 30.82820706,
             "test": [
              0.2339252561
             ]
            },
            {
             "iteration": 37,
             "learn": [
              0.2305586693
             ],
             "passed_time": 18.59513166,
             "remaining_time": 30.33942534,
             "test": [
              0.228248177
             ]
            },
            {
             "iteration": 38,
             "learn": [
              0.2251578028
             ],
             "passed_time": 19.07090556,
             "remaining_time": 29.82885229,
             "test": [
              0.2228598379
             ]
            },
            {
             "iteration": 39,
             "learn": [
              0.2202760038
             ],
             "passed_time": 19.52966401,
             "remaining_time": 29.29449602,
             "test": [
              0.2180131331
             ]
            },
            {
             "iteration": 40,
             "learn": [
              0.2153970465
             ],
             "passed_time": 19.99685442,
             "remaining_time": 28.77596124,
             "test": [
              0.2132601475
             ]
            },
            {
             "iteration": 41,
             "learn": [
              0.2106653715
             ],
             "passed_time": 20.51571623,
             "remaining_time": 28.33122718,
             "test": [
              0.2083938321
             ]
            },
            {
             "iteration": 42,
             "learn": [
              0.2057158996
             ],
             "passed_time": 20.96161786,
             "remaining_time": 27.78633065,
             "test": [
              0.2036192606
             ]
            },
            {
             "iteration": 43,
             "learn": [
              0.2011289134
             ],
             "passed_time": 21.4441744,
             "remaining_time": 27.29258561,
             "test": [
              0.1990427445
             ]
            },
            {
             "iteration": 44,
             "learn": [
              0.1970806749
             ],
             "passed_time": 21.88433835,
             "remaining_time": 26.74752465,
             "test": [
              0.1949588176
             ]
            },
            {
             "iteration": 45,
             "learn": [
              0.1930259974
             ],
             "passed_time": 22.33817053,
             "remaining_time": 26.22306975,
             "test": [
              0.1908631162
             ]
            },
            {
             "iteration": 46,
             "learn": [
              0.1889176419
             ],
             "passed_time": 22.78630488,
             "remaining_time": 25.69519486,
             "test": [
              0.1866441562
             ]
            },
            {
             "iteration": 47,
             "learn": [
              0.1846631327
             ],
             "passed_time": 23.26331824,
             "remaining_time": 25.20192809,
             "test": [
              0.1824827443
             ]
            },
            {
             "iteration": 48,
             "learn": [
              0.1809036434
             ],
             "passed_time": 23.75768422,
             "remaining_time": 24.72738561,
             "test": [
              0.1787497939
             ]
            },
            {
             "iteration": 49,
             "learn": [
              0.1771763911
             ],
             "passed_time": 24.22000444,
             "remaining_time": 24.22000444,
             "test": [
              0.1750271582
             ]
            },
            {
             "iteration": 50,
             "learn": [
              0.1734682125
             ],
             "passed_time": 24.71606148,
             "remaining_time": 23.74680417,
             "test": [
              0.1713638893
             ]
            },
            {
             "iteration": 51,
             "learn": [
              0.1699458316
             ],
             "passed_time": 25.16253972,
             "remaining_time": 23.22695974,
             "test": [
              0.1678172933
             ]
            },
            {
             "iteration": 52,
             "learn": [
              0.1666997269
             ],
             "passed_time": 25.63789966,
             "remaining_time": 22.73549593,
             "test": [
              0.164556325
             ]
            },
            {
             "iteration": 53,
             "learn": [
              0.1635569031
             ],
             "passed_time": 26.0739657,
             "remaining_time": 22.21115596,
             "test": [
              0.1614942432
             ]
            },
            {
             "iteration": 54,
             "learn": [
              0.1604363859
             ],
             "passed_time": 26.54640291,
             "remaining_time": 21.7197842,
             "test": [
              0.1581554276
             ]
            },
            {
             "iteration": 55,
             "learn": [
              0.1573391139
             ],
             "passed_time": 26.97975761,
             "remaining_time": 21.19838098,
             "test": [
              0.1553499107
             ]
            },
            {
             "iteration": 56,
             "learn": [
              0.1543676268
             ],
             "passed_time": 27.4538103,
             "remaining_time": 20.71076917,
             "test": [
              0.1524967948
             ]
            },
            {
             "iteration": 57,
             "learn": [
              0.1515170061
             ],
             "passed_time": 27.89358039,
             "remaining_time": 20.19879959,
             "test": [
              0.1495377783
             ]
            },
            {
             "iteration": 58,
             "learn": [
              0.14867106
             ],
             "passed_time": 28.35000545,
             "remaining_time": 19.70085125,
             "test": [
              0.1465554431
             ]
            },
            {
             "iteration": 59,
             "learn": [
              0.1460678794
             ],
             "passed_time": 28.80673144,
             "remaining_time": 19.20448762,
             "test": [
              0.1441185013
             ]
            },
            {
             "iteration": 60,
             "learn": [
              0.143493486
             ],
             "passed_time": 29.2653868,
             "remaining_time": 18.71065713,
             "test": [
              0.141636967
             ]
            },
            {
             "iteration": 61,
             "learn": [
              0.1409190987
             ],
             "passed_time": 29.71306113,
             "remaining_time": 18.21123102,
             "test": [
              0.1389235452
             ]
            },
            {
             "iteration": 62,
             "learn": [
              0.1385739948
             ],
             "passed_time": 30.15781044,
             "remaining_time": 17.71172994,
             "test": [
              0.1367037702
             ]
            },
            {
             "iteration": 63,
             "learn": [
              0.136118479
             ],
             "passed_time": 30.66423004,
             "remaining_time": 17.2486294,
             "test": [
              0.1343221123
             ]
            },
            {
             "iteration": 64,
             "learn": [
              0.1338865046
             ],
             "passed_time": 31.09321818,
             "remaining_time": 16.7425021,
             "test": [
              0.132233453
             ]
            },
            {
             "iteration": 65,
             "learn": [
              0.1314732253
             ],
             "passed_time": 31.65358906,
             "remaining_time": 16.30639437,
             "test": [
              0.1298046658
             ]
            },
            {
             "iteration": 66,
             "learn": [
              0.1293123386
             ],
             "passed_time": 32.10326876,
             "remaining_time": 15.81205775,
             "test": [
              0.1277075674
             ]
            },
            {
             "iteration": 67,
             "learn": [
              0.1271300023
             ],
             "passed_time": 32.56810522,
             "remaining_time": 15.32616716,
             "test": [
              0.1256942601
             ]
            },
            {
             "iteration": 68,
             "learn": [
              0.1250855692
             ],
             "passed_time": 33.00876545,
             "remaining_time": 14.83002506,
             "test": [
              0.1234489977
             ]
            },
            {
             "iteration": 69,
             "learn": [
              0.1229323162
             ],
             "passed_time": 33.51300357,
             "remaining_time": 14.36271582,
             "test": [
              0.1212494547
             ]
            },
            {
             "iteration": 70,
             "learn": [
              0.1209670837
             ],
             "passed_time": 33.99055504,
             "remaining_time": 13.88346614,
             "test": [
              0.1192195075
             ]
            },
            {
             "iteration": 71,
             "learn": [
              0.1188276351
             ],
             "passed_time": 34.40597733,
             "remaining_time": 13.38010229,
             "test": [
              0.1171275115
             ]
            },
            {
             "iteration": 72,
             "learn": [
              0.1170541212
             ],
             "passed_time": 34.83372423,
             "remaining_time": 12.88370622,
             "test": [
              0.115417844
             ]
            },
            {
             "iteration": 73,
             "learn": [
              0.1150925375
             ],
             "passed_time": 35.25292101,
             "remaining_time": 12.38616143,
             "test": [
              0.1134189552
             ]
            },
            {
             "iteration": 74,
             "learn": [
              0.113280239
             ],
             "passed_time": 35.66805109,
             "remaining_time": 11.88935036,
             "test": [
              0.1115796311
             ]
            },
            {
             "iteration": 75,
             "learn": [
              0.1115565204
             ],
             "passed_time": 36.14042083,
             "remaining_time": 11.41276447,
             "test": [
              0.1098248251
             ]
            },
            {
             "iteration": 76,
             "learn": [
              0.1097954932
             ],
             "passed_time": 36.66982059,
             "remaining_time": 10.95332303,
             "test": [
              0.1079658841
             ]
            },
            {
             "iteration": 77,
             "learn": [
              0.1078738263
             ],
             "passed_time": 37.13475005,
             "remaining_time": 10.47390386,
             "test": [
              0.1060509964
             ]
            },
            {
             "iteration": 78,
             "learn": [
              0.1061963217
             ],
             "passed_time": 37.55849957,
             "remaining_time": 9.983904949,
             "test": [
              0.1043193889
             ]
            },
            {
             "iteration": 79,
             "learn": [
              0.1045593159
             ],
             "passed_time": 38.00758605,
             "remaining_time": 9.501896511,
             "test": [
              0.1028288447
             ]
            },
            {
             "iteration": 80,
             "learn": [
              0.1030004888
             ],
             "passed_time": 38.42405088,
             "remaining_time": 9.013048971,
             "test": [
              0.1012222591
             ]
            },
            {
             "iteration": 81,
             "learn": [
              0.101489653
             ],
             "passed_time": 38.84724336,
             "remaining_time": 8.527443665,
             "test": [
              0.09967783682
             ]
            },
            {
             "iteration": 82,
             "learn": [
              0.1000352305
             ],
             "passed_time": 39.25789978,
             "remaining_time": 8.040774655,
             "test": [
              0.09824213768
             ]
            },
            {
             "iteration": 83,
             "learn": [
              0.09864182102
             ],
             "passed_time": 39.66849501,
             "remaining_time": 7.555903811,
             "test": [
              0.09683253558
             ]
            },
            {
             "iteration": 84,
             "learn": [
              0.09727106409
             ],
             "passed_time": 40.09966647,
             "remaining_time": 7.076411729,
             "test": [
              0.09557093762
             ]
            },
            {
             "iteration": 85,
             "learn": [
              0.09597884715
             ],
             "passed_time": 40.56199048,
             "remaining_time": 6.603114729,
             "test": [
              0.09430430355
             ]
            },
            {
             "iteration": 86,
             "learn": [
              0.0947217359
             ],
             "passed_time": 40.97377904,
             "remaining_time": 6.122518707,
             "test": [
              0.09301426908
             ]
            },
            {
             "iteration": 87,
             "learn": [
              0.09326735583
             ],
             "passed_time": 41.4110898,
             "remaining_time": 5.646966791,
             "test": [
              0.09157835593
             ]
            },
            {
             "iteration": 88,
             "learn": [
              0.09181567493
             ],
             "passed_time": 41.85678848,
             "remaining_time": 5.173310935,
             "test": [
              0.09022635344
             ]
            },
            {
             "iteration": 89,
             "learn": [
              0.09069623011
             ],
             "passed_time": 42.29362043,
             "remaining_time": 4.699291158,
             "test": [
              0.08913004179
             ]
            },
            {
             "iteration": 90,
             "learn": [
              0.08947100892
             ],
             "passed_time": 42.77270382,
             "remaining_time": 4.230267411,
             "test": [
              0.08789501934
             ]
            },
            {
             "iteration": 91,
             "learn": [
              0.08850625728
             ],
             "passed_time": 43.20571726,
             "remaining_time": 3.757018892,
             "test": [
              0.08684866166
             ]
            },
            {
             "iteration": 92,
             "learn": [
              0.08737805056
             ],
             "passed_time": 43.67532437,
             "remaining_time": 3.287390007,
             "test": [
              0.08569328765
             ]
            },
            {
             "iteration": 93,
             "learn": [
              0.08632947378
             ],
             "passed_time": 44.24661581,
             "remaining_time": 2.824252073,
             "test": [
              0.08456909672
             ]
            },
            {
             "iteration": 94,
             "learn": [
              0.08543912806
             ],
             "passed_time": 44.86465938,
             "remaining_time": 2.361297862,
             "test": [
              0.08360135895
             ]
            },
            {
             "iteration": 95,
             "learn": [
              0.08444955591
             ],
             "passed_time": 45.31737441,
             "remaining_time": 1.888223934,
             "test": [
              0.08257695792
             ]
            },
            {
             "iteration": 96,
             "learn": [
              0.08347514792
             ],
             "passed_time": 45.76907012,
             "remaining_time": 1.415538251,
             "test": [
              0.08165319705
             ]
            },
            {
             "iteration": 97,
             "learn": [
              0.08240285397
             ],
             "passed_time": 46.23286156,
             "remaining_time": 0.943527787,
             "test": [
              0.08064523138
             ]
            },
            {
             "iteration": 98,
             "learn": [
              0.0814415266
             ],
             "passed_time": 46.58432233,
             "remaining_time": 0.4705487104,
             "test": [
              0.07935808012
             ]
            },
            {
             "iteration": 99,
             "learn": [
              0.08029202717
             ],
             "passed_time": 47.06664331,
             "remaining_time": 0,
             "test": [
              0.07813732977
             ]
            }
           ],
           "meta": {
            "iteration_count": 100,
            "launch_mode": "Train",
            "learn_metrics": [
             {
              "best_value": "Min",
              "name": "CrossEntropy"
             }
            ],
            "learn_sets": [
             "learn"
            ],
            "name": "experiment",
            "parameters": "",
            "test_metrics": [
             {
              "best_value": "Min",
              "name": "CrossEntropy"
             }
            ],
            "test_sets": [
             "test"
            ]
           }
          },
          "passed_iterations": 99,
          "total_iterations": 100
         },
         "name": "catboost_info",
         "path": "catboost_info"
        }
       },
       "layout": "IPY_MODEL_99df2b1c90184eca8e5c371ddcb944b6"
      }
     },
     "db2a1975da574f08a6c4acd87484cb3f": {
      "model_module": "catboost-widget",
      "model_module_version": "^1.0.0",
      "model_name": "CatboostWidgetModel",
      "state": {
       "_dom_classes": [],
       "_model_module": "catboost-widget",
       "_model_module_version": "^1.0.0",
       "_model_name": "CatboostWidgetModel",
       "_view_count": null,
       "_view_module": "catboost-widget",
       "_view_module_version": "^1.0.0",
       "_view_name": "CatboostWidgetView",
       "data": {
        "catboost_info": {
         "content": {
          "data": {
           "iterations": [
            {
             "iteration": 0,
             "learn": [
              0.662118382
             ],
             "passed_time": 0.3825612238,
             "remaining_time": 37.87356116,
             "test": [
              0.6640849657
             ]
            },
            {
             "iteration": 1,
             "learn": [
              0.636948668
             ],
             "passed_time": 0.753804575,
             "remaining_time": 36.93642418,
             "test": [
              0.6366713487
             ]
            },
            {
             "iteration": 2,
             "learn": [
              0.6106067173
             ],
             "passed_time": 1.155412384,
             "remaining_time": 37.35833376,
             "test": [
              0.6110347485
             ]
            },
            {
             "iteration": 3,
             "learn": [
              0.5859050629
             ],
             "passed_time": 1.601150728,
             "remaining_time": 38.42761747,
             "test": [
              0.5866968696
             ]
            },
            {
             "iteration": 4,
             "learn": [
              0.5642110756
             ],
             "passed_time": 1.971206855,
             "remaining_time": 37.45293024,
             "test": [
              0.5635805853
             ]
            },
            {
             "iteration": 5,
             "learn": [
              0.5406155084
             ],
             "passed_time": 2.346937975,
             "remaining_time": 36.76869494,
             "test": [
              0.5416582136
             ]
            },
            {
             "iteration": 6,
             "learn": [
              0.5198976006
             ],
             "passed_time": 2.755211811,
             "remaining_time": 36.60495692,
             "test": [
              0.5210055446
             ]
            },
            {
             "iteration": 7,
             "learn": [
              0.5017662648
             ],
             "passed_time": 3.147783986,
             "remaining_time": 36.19951583,
             "test": [
              0.5013117689
             ]
            },
            {
             "iteration": 8,
             "learn": [
              0.4820152349
             ],
             "passed_time": 3.608817331,
             "remaining_time": 36.48915302,
             "test": [
              0.4825382278
             ]
            },
            {
             "iteration": 9,
             "learn": [
              0.4644515274
             ],
             "passed_time": 3.978398656,
             "remaining_time": 35.80558791,
             "test": [
              0.4647341499
             ]
            },
            {
             "iteration": 10,
             "learn": [
              0.447751125
             ],
             "passed_time": 4.360651171,
             "remaining_time": 35.28163221,
             "test": [
              0.4476788969
             ]
            },
            {
             "iteration": 11,
             "learn": [
              0.4321521808
             ],
             "passed_time": 4.780948194,
             "remaining_time": 35.06028675,
             "test": [
              0.4315730596
             ]
            },
            {
             "iteration": 12,
             "learn": [
              0.4164566665
             ],
             "passed_time": 5.160228435,
             "remaining_time": 34.53383645,
             "test": [
              0.4160701149
             ]
            },
            {
             "iteration": 13,
             "learn": [
              0.4014046608
             ],
             "passed_time": 5.548503382,
             "remaining_time": 34.08366363,
             "test": [
              0.4013262971
             ]
            },
            {
             "iteration": 14,
             "learn": [
              0.3872928544
             ],
             "passed_time": 5.959998206,
             "remaining_time": 33.77332317,
             "test": [
              0.3872228541
             ]
            },
            {
             "iteration": 15,
             "learn": [
              0.3725824379
             ],
             "passed_time": 6.388541481,
             "remaining_time": 33.53984278,
             "test": [
              0.3737879332
             ]
            },
            {
             "iteration": 16,
             "learn": [
              0.3594959976
             ],
             "passed_time": 6.809774271,
             "remaining_time": 33.24772144,
             "test": [
              0.3608377632
             ]
            },
            {
             "iteration": 17,
             "learn": [
              0.3485612259
             ],
             "passed_time": 7.180359962,
             "remaining_time": 32.71052871,
             "test": [
              0.3484368173
             ]
            },
            {
             "iteration": 18,
             "learn": [
              0.3359223416
             ],
             "passed_time": 7.583664413,
             "remaining_time": 32.33035881,
             "test": [
              0.3365730216
             ]
            },
            {
             "iteration": 19,
             "learn": [
              0.3254147197
             ],
             "passed_time": 8.019171209,
             "remaining_time": 32.07668484,
             "test": [
              0.3252697949
             ]
            },
            {
             "iteration": 20,
             "learn": [
              0.3131532218
             ],
             "passed_time": 8.461086287,
             "remaining_time": 31.82980079,
             "test": [
              0.3143243098
             ]
            },
            {
             "iteration": 21,
             "learn": [
              0.3029920716
             ],
             "passed_time": 8.847638074,
             "remaining_time": 31.36889863,
             "test": [
              0.3038206345
             ]
            },
            {
             "iteration": 22,
             "learn": [
              0.2929885911
             ],
             "passed_time": 9.234262234,
             "remaining_time": 30.914704,
             "test": [
              0.2938459227
             ]
            },
            {
             "iteration": 23,
             "learn": [
              0.2829514301
             ],
             "passed_time": 9.644849288,
             "remaining_time": 30.54202274,
             "test": [
              0.2841941551
             ]
            },
            {
             "iteration": 24,
             "learn": [
              0.2732026824
             ],
             "passed_time": 10.04129181,
             "remaining_time": 30.12387544,
             "test": [
              0.2749088478
             ]
            },
            {
             "iteration": 25,
             "learn": [
              0.264671616
             ],
             "passed_time": 10.41625313,
             "remaining_time": 29.64625892,
             "test": [
              0.2659368526
             ]
            },
            {
             "iteration": 26,
             "learn": [
              0.2566861252
             ],
             "passed_time": 10.82489595,
             "remaining_time": 29.26731128,
             "test": [
              0.2573429799
             ]
            },
            {
             "iteration": 27,
             "learn": [
              0.2487471717
             ],
             "passed_time": 11.2170287,
             "remaining_time": 28.84378809,
             "test": [
              0.2491227728
             ]
            },
            {
             "iteration": 28,
             "learn": [
              0.2405200759
             ],
             "passed_time": 11.65038828,
             "remaining_time": 28.5233644,
             "test": [
              0.241158596
             ]
            },
            {
             "iteration": 29,
             "learn": [
              0.2327950369
             ],
             "passed_time": 12.05485592,
             "remaining_time": 28.12799714,
             "test": [
              0.2335192423
             ]
            },
            {
             "iteration": 30,
             "learn": [
              0.225603756
             ],
             "passed_time": 12.4462813,
             "remaining_time": 27.70301322,
             "test": [
              0.2261538465
             ]
            },
            {
             "iteration": 31,
             "learn": [
              0.2181771788
             ],
             "passed_time": 12.84274455,
             "remaining_time": 27.29083217,
             "test": [
              0.2191138582
             ]
            },
            {
             "iteration": 32,
             "learn": [
              0.2107750232
             ],
             "passed_time": 13.2625968,
             "remaining_time": 26.92709047,
             "test": [
              0.2122808767
             ]
            },
            {
             "iteration": 33,
             "learn": [
              0.2040509346
             ],
             "passed_time": 13.68637504,
             "remaining_time": 26.56766919,
             "test": [
              0.2057326409
             ]
            },
            {
             "iteration": 34,
             "learn": [
              0.1986310147
             ],
             "passed_time": 14.05347206,
             "remaining_time": 26.09930525,
             "test": [
              0.1993211559
             ]
            },
            {
             "iteration": 35,
             "learn": [
              0.1915721428
             ],
             "passed_time": 14.49777146,
             "remaining_time": 25.77381593,
             "test": [
              0.1931879711
             ]
            },
            {
             "iteration": 36,
             "learn": [
              0.186291386
             ],
             "passed_time": 14.91981882,
             "remaining_time": 25.40401582,
             "test": [
              0.1872681351
             ]
            },
            {
             "iteration": 37,
             "learn": [
              0.1799643899
             ],
             "passed_time": 15.31149875,
             "remaining_time": 24.98191901,
             "test": [
              0.1815412144
             ]
            },
            {
             "iteration": 38,
             "learn": [
              0.1753586809
             ],
             "passed_time": 15.69253421,
             "remaining_time": 24.544733,
             "test": [
              0.1760837715
             ]
            },
            {
             "iteration": 39,
             "learn": [
              0.1693852563
             ],
             "passed_time": 16.09794392,
             "remaining_time": 24.14691587,
             "test": [
              0.1708453616
             ]
            },
            {
             "iteration": 40,
             "learn": [
              0.1642734446
             ],
             "passed_time": 16.51074379,
             "remaining_time": 23.75936302,
             "test": [
              0.1657100289
             ]
            },
            {
             "iteration": 41,
             "learn": [
              0.1599018906
             ],
             "passed_time": 16.95059752,
             "remaining_time": 23.407968,
             "test": [
              0.1606956293
             ]
            },
            {
             "iteration": 42,
             "learn": [
              0.1548998684
             ],
             "passed_time": 17.36037245,
             "remaining_time": 23.01258673,
             "test": [
              0.1558028145
             ]
            },
            {
             "iteration": 43,
             "learn": [
              0.1499650649
             ],
             "passed_time": 17.75371331,
             "remaining_time": 22.59563512,
             "test": [
              0.1512160047
             ]
            },
            {
             "iteration": 44,
             "learn": [
              0.1452781712
             ],
             "passed_time": 18.16739943,
             "remaining_time": 22.2045993,
             "test": [
              0.1468082724
             ]
            },
            {
             "iteration": 45,
             "learn": [
              0.141071645
             ],
             "passed_time": 18.57670671,
             "remaining_time": 21.80743831,
             "test": [
              0.142487697
             ]
            },
            {
             "iteration": 46,
             "learn": [
              0.1371034201
             ],
             "passed_time": 18.96489444,
             "remaining_time": 21.3859448,
             "test": [
              0.1382384331
             ]
            },
            {
             "iteration": 47,
             "learn": [
              0.1332116216
             ],
             "passed_time": 19.36915411,
             "remaining_time": 20.98325029,
             "test": [
              0.1341754687
             ]
            },
            {
             "iteration": 48,
             "learn": [
              0.1293438505
             ],
             "passed_time": 19.83956862,
             "remaining_time": 20.64934694,
             "test": [
              0.1303173402
             ]
            },
            {
             "iteration": 49,
             "learn": [
              0.1254845117
             ],
             "passed_time": 20.24973995,
             "remaining_time": 20.24973995,
             "test": [
              0.1265093238
             ]
            },
            {
             "iteration": 50,
             "learn": [
              0.1216733621
             ],
             "passed_time": 20.65121709,
             "remaining_time": 19.84136544,
             "test": [
              0.1228329206
             ]
            },
            {
             "iteration": 51,
             "learn": [
              0.1181609696
             ],
             "passed_time": 21.05017089,
             "remaining_time": 19.43092697,
             "test": [
              0.1193044041
             ]
            },
            {
             "iteration": 52,
             "learn": [
              0.1149480456
             ],
             "passed_time": 21.48462797,
             "remaining_time": 19.05240593,
             "test": [
              0.1159439911
             ]
            },
            {
             "iteration": 53,
             "learn": [
              0.1117650555
             ],
             "passed_time": 21.84542613,
             "remaining_time": 18.6090667,
             "test": [
              0.1126816591
             ]
            },
            {
             "iteration": 54,
             "learn": [
              0.1081927221
             ],
             "passed_time": 22.24105846,
             "remaining_time": 18.19722965,
             "test": [
              0.1094802063
             ]
            },
            {
             "iteration": 55,
             "learn": [
              0.1055052797
             ],
             "passed_time": 22.63331255,
             "remaining_time": 17.78331701,
             "test": [
              0.1063733333
             ]
            },
            {
             "iteration": 56,
             "learn": [
              0.1022329882
             ],
             "passed_time": 23.0850249,
             "remaining_time": 17.41501878,
             "test": [
              0.1033860594
             ]
            },
            {
             "iteration": 57,
             "learn": [
              0.09962215979
             ],
             "passed_time": 23.45988694,
             "remaining_time": 16.98819399,
             "test": [
              0.1004672213
             ]
            },
            {
             "iteration": 58,
             "learn": [
              0.09645241513
             ],
             "passed_time": 23.85632779,
             "remaining_time": 16.57812609,
             "test": [
              0.09766884429
             ]
            },
            {
             "iteration": 59,
             "learn": [
              0.09411728746
             ],
             "passed_time": 24.23503692,
             "remaining_time": 16.15669128,
             "test": [
              0.09500065298
             ]
            },
            {
             "iteration": 60,
             "learn": [
              0.09118487798
             ],
             "passed_time": 24.64095905,
             "remaining_time": 15.75405578,
             "test": [
              0.09238571158
             ]
            },
            {
             "iteration": 61,
             "learn": [
              0.08866647204
             ],
             "passed_time": 25.04483355,
             "remaining_time": 15.35005927,
             "test": [
              0.08984422306
             ]
            },
            {
             "iteration": 62,
             "learn": [
              0.0864819225
             ],
             "passed_time": 25.44823215,
             "remaining_time": 14.94578713,
             "test": [
              0.08737027008
             ]
            },
            {
             "iteration": 63,
             "learn": [
              0.08402354724
             ],
             "passed_time": 25.88073513,
             "remaining_time": 14.55791351,
             "test": [
              0.08497524712
             ]
            },
            {
             "iteration": 64,
             "learn": [
              0.08156948998
             ],
             "passed_time": 26.27307536,
             "remaining_time": 14.14704058,
             "test": [
              0.08267262094
             ]
            },
            {
             "iteration": 65,
             "learn": [
              0.07930181325
             ],
             "passed_time": 26.68717159,
             "remaining_time": 13.74793688,
             "test": [
              0.08043706893
             ]
            },
            {
             "iteration": 66,
             "learn": [
              0.07710482518
             ],
             "passed_time": 27.09566503,
             "remaining_time": 13.34562606,
             "test": [
              0.07831844039
             ]
            },
            {
             "iteration": 67,
             "learn": [
              0.0750382866
             ],
             "passed_time": 27.49614401,
             "remaining_time": 12.93936189,
             "test": [
              0.07621070608
             ]
            },
            {
             "iteration": 68,
             "learn": [
              0.07305102506
             ],
             "passed_time": 27.89351968,
             "remaining_time": 12.53187116,
             "test": [
              0.07404188511
             ]
            },
            {
             "iteration": 69,
             "learn": [
              0.07109216905
             ],
             "passed_time": 28.30824005,
             "remaining_time": 12.13210288,
             "test": [
              0.07212904377
             ]
            },
            {
             "iteration": 70,
             "learn": [
              0.0691466478
             ],
             "passed_time": 28.68725994,
             "remaining_time": 11.71733153,
             "test": [
              0.07022677302
             ]
            },
            {
             "iteration": 71,
             "learn": [
              0.06729953603
             ],
             "passed_time": 29.08984594,
             "remaining_time": 11.31271787,
             "test": [
              0.06833633987
             ]
            },
            {
             "iteration": 72,
             "learn": [
              0.06548223318
             ],
             "passed_time": 29.50596024,
             "remaining_time": 10.91316338,
             "test": [
              0.06657749335
             ]
            },
            {
             "iteration": 73,
             "learn": [
              0.06398013196
             ],
             "passed_time": 29.99799312,
             "remaining_time": 10.53983542,
             "test": [
              0.06487560521
             ]
            },
            {
             "iteration": 74,
             "learn": [
              0.06223844438
             ],
             "passed_time": 30.57730774,
             "remaining_time": 10.19243591,
             "test": [
              0.06319564517
             ]
            },
            {
             "iteration": 75,
             "learn": [
              0.06046006297
             ],
             "passed_time": 31.14056432,
             "remaining_time": 9.833862417,
             "test": [
              0.06161041955
             ]
            },
            {
             "iteration": 76,
             "learn": [
              0.05908700521
             ],
             "passed_time": 31.54095905,
             "remaining_time": 9.421325431,
             "test": [
              0.05992391817
             ]
            },
            {
             "iteration": 77,
             "learn": [
              0.05741881927
             ],
             "passed_time": 31.93935966,
             "remaining_time": 9.008537341,
             "test": [
              0.05836395696
             ]
            },
            {
             "iteration": 78,
             "learn": [
              0.05589057524
             ],
             "passed_time": 32.33620207,
             "remaining_time": 8.595699284,
             "test": [
              0.05685579332
             ]
            },
            {
             "iteration": 79,
             "learn": [
              0.05449979173
             ],
             "passed_time": 32.75684214,
             "remaining_time": 8.189210534,
             "test": [
              0.05534438205
             ]
            },
            {
             "iteration": 80,
             "learn": [
              0.05320518588
             ],
             "passed_time": 33.15106197,
             "remaining_time": 7.776175029,
             "test": [
              0.05399805836
             ]
            },
            {
             "iteration": 81,
             "learn": [
              0.05176079855
             ],
             "passed_time": 33.56223672,
             "remaining_time": 7.367320256,
             "test": [
              0.0525748723
             ]
            },
            {
             "iteration": 82,
             "learn": [
              0.05050984252
             ],
             "passed_time": 33.95197533,
             "remaining_time": 6.954019043,
             "test": [
              0.05124914911
             ]
            },
            {
             "iteration": 83,
             "learn": [
              0.04927931163
             ],
             "passed_time": 34.34286332,
             "remaining_time": 6.541497776,
             "test": [
              0.05001323075
             ]
            },
            {
             "iteration": 84,
             "learn": [
              0.04793035422
             ],
             "passed_time": 34.7688406,
             "remaining_time": 6.135677753,
             "test": [
              0.04880713269
             ]
            },
            {
             "iteration": 85,
             "learn": [
              0.04678009823
             ],
             "passed_time": 35.17885854,
             "remaining_time": 5.726790925,
             "test": [
              0.04755677233
             ]
            },
            {
             "iteration": 86,
             "learn": [
              0.04563165916
             ],
             "passed_time": 35.58240437,
             "remaining_time": 5.316910998,
             "test": [
              0.04638407919
             ]
            },
            {
             "iteration": 87,
             "learn": [
              0.04453614374
             ],
             "passed_time": 35.97073511,
             "remaining_time": 4.905100243,
             "test": [
              0.04523957132
             ]
            },
            {
             "iteration": 88,
             "learn": [
              0.04342719609
             ],
             "passed_time": 36.34210708,
             "remaining_time": 4.4917211,
             "test": [
              0.04414269569
             ]
            },
            {
             "iteration": 89,
             "learn": [
              0.04235402589
             ],
             "passed_time": 36.80522042,
             "remaining_time": 4.089468936,
             "test": [
              0.04307548914
             ]
            },
            {
             "iteration": 90,
             "learn": [
              0.04130668377
             ],
             "passed_time": 37.18266172,
             "remaining_time": 3.677406104,
             "test": [
              0.0420479754
             ]
            },
            {
             "iteration": 91,
             "learn": [
              0.04028986285
             ],
             "passed_time": 37.56942108,
             "remaining_time": 3.266906181,
             "test": [
              0.04100948129
             ]
            },
            {
             "iteration": 92,
             "learn": [
              0.03931632829
             ],
             "passed_time": 37.98184381,
             "remaining_time": 2.858848459,
             "test": [
              0.04005826958
             ]
            },
            {
             "iteration": 93,
             "learn": [
              0.03839141954
             ],
             "passed_time": 38.3486941,
             "remaining_time": 2.447788985,
             "test": [
              0.03909977358
             ]
            },
            {
             "iteration": 94,
             "learn": [
              0.03746979123
             ],
             "passed_time": 38.73749249,
             "remaining_time": 2.038815394,
             "test": [
              0.03817585866
             ]
            },
            {
             "iteration": 95,
             "learn": [
              0.03660107137
             ],
             "passed_time": 39.12142127,
             "remaining_time": 1.63005922,
             "test": [
              0.03718617105
             ]
            },
            {
             "iteration": 96,
             "learn": [
              0.03571317479
             ],
             "passed_time": 39.51074448,
             "remaining_time": 1.221981788,
             "test": [
              0.03634144298
             ]
            },
            {
             "iteration": 97,
             "learn": [
              0.03487441929
             ],
             "passed_time": 39.89945795,
             "remaining_time": 0.814274652,
             "test": [
              0.03554837719
             ]
            },
            {
             "iteration": 98,
             "learn": [
              0.03413406282
             ],
             "passed_time": 40.2754853,
             "remaining_time": 0.4068230838,
             "test": [
              0.03474695828
             ]
            },
            {
             "iteration": 99,
             "learn": [
              0.03327198864
             ],
             "passed_time": 40.66856474,
             "remaining_time": 0,
             "test": [
              0.03394742407
             ]
            }
           ],
           "meta": {
            "iteration_count": 100,
            "launch_mode": "Train",
            "learn_metrics": [
             {
              "best_value": "Min",
              "name": "CrossEntropy"
             }
            ],
            "learn_sets": [
             "learn"
            ],
            "name": "experiment",
            "parameters": "",
            "test_metrics": [
             {
              "best_value": "Min",
              "name": "CrossEntropy"
             }
            ],
            "test_sets": [
             "test"
            ]
           }
          },
          "passed_iterations": 99,
          "total_iterations": 100
         },
         "name": "catboost_info",
         "path": "catboost_info"
        }
       },
       "layout": "IPY_MODEL_efbac4648cad4a68bcb026736b49601f"
      }
     },
     "e7cc6fdd2795448385d470f7bc37663c": {
      "model_module": "@jupyter-widgets/base",
      "model_module_version": "1.2.0",
      "model_name": "LayoutModel",
      "state": {
       "_model_module": "@jupyter-widgets/base",
       "_model_module_version": "1.2.0",
       "_model_name": "LayoutModel",
       "_view_count": null,
       "_view_module": "@jupyter-widgets/base",
       "_view_module_version": "1.2.0",
       "_view_name": "LayoutView",
       "align_content": null,
       "align_items": null,
       "align_self": "stretch",
       "border": null,
       "bottom": null,
       "display": null,
       "flex": null,
       "flex_flow": null,
       "grid_area": null,
       "grid_auto_columns": null,
       "grid_auto_flow": null,
       "grid_auto_rows": null,
       "grid_column": null,
       "grid_gap": null,
       "grid_row": null,
       "grid_template_areas": null,
       "grid_template_columns": null,
       "grid_template_rows": null,
       "height": "500px",
       "justify_content": null,
       "justify_items": null,
       "left": null,
       "margin": null,
       "max_height": null,
       "max_width": null,
       "min_height": null,
       "min_width": null,
       "object_fit": null,
       "object_position": null,
       "order": null,
       "overflow": null,
       "overflow_x": null,
       "overflow_y": null,
       "padding": null,
       "right": null,
       "top": null,
       "visibility": null,
       "width": null
      }
     },
     "efbac4648cad4a68bcb026736b49601f": {
      "model_module": "@jupyter-widgets/base",
      "model_module_version": "1.2.0",
      "model_name": "LayoutModel",
      "state": {
       "_model_module": "@jupyter-widgets/base",
       "_model_module_version": "1.2.0",
       "_model_name": "LayoutModel",
       "_view_count": null,
       "_view_module": "@jupyter-widgets/base",
       "_view_module_version": "1.2.0",
       "_view_name": "LayoutView",
       "align_content": null,
       "align_items": null,
       "align_self": "stretch",
       "border": null,
       "bottom": null,
       "display": null,
       "flex": null,
       "flex_flow": null,
       "grid_area": null,
       "grid_auto_columns": null,
       "grid_auto_flow": null,
       "grid_auto_rows": null,
       "grid_column": null,
       "grid_gap": null,
       "grid_row": null,
       "grid_template_areas": null,
       "grid_template_columns": null,
       "grid_template_rows": null,
       "height": "500px",
       "justify_content": null,
       "justify_items": null,
       "left": null,
       "margin": null,
       "max_height": null,
       "max_width": null,
       "min_height": null,
       "min_width": null,
       "object_fit": null,
       "object_position": null,
       "order": null,
       "overflow": null,
       "overflow_x": null,
       "overflow_y": null,
       "padding": null,
       "right": null,
       "top": null,
       "visibility": null,
       "width": null
      }
     },
     "fc402535402543e8a89dddc83b5dad8c": {
      "model_module": "catboost-widget",
      "model_module_version": "^1.0.0",
      "model_name": "CatboostWidgetModel",
      "state": {
       "_dom_classes": [],
       "_model_module": "catboost-widget",
       "_model_module_version": "^1.0.0",
       "_model_name": "CatboostWidgetModel",
       "_view_count": null,
       "_view_module": "catboost-widget",
       "_view_module_version": "^1.0.0",
       "_view_name": "CatboostWidgetView",
       "data": {
        "catboost_info": {
         "content": {
          "data": {
           "iterations": [
            {
             "iteration": 0,
             "learn": [
              0.6614137714
             ],
             "passed_time": 0.3678524003,
             "remaining_time": 36.41738763,
             "test": [
              0.66367401
             ]
            },
            {
             "iteration": 1,
             "learn": [
              0.6363376899
             ],
             "passed_time": 0.7612860427,
             "remaining_time": 37.30301609,
             "test": [
              0.6359167481
             ]
            },
            {
             "iteration": 2,
             "learn": [
              0.6094362514
             ],
             "passed_time": 1.125124696,
             "remaining_time": 36.37903184,
             "test": [
              0.6097325397
             ]
            },
            {
             "iteration": 3,
             "learn": [
              0.5838521743
             ],
             "passed_time": 1.526547653,
             "remaining_time": 36.63714366,
             "test": [
              0.5849919136
             ]
            },
            {
             "iteration": 4,
             "learn": [
              0.5622830816
             ],
             "passed_time": 1.899944318,
             "remaining_time": 36.09894205,
             "test": [
              0.5615801013
             ]
            },
            {
             "iteration": 5,
             "learn": [
              0.5379103226
             ],
             "passed_time": 2.278207232,
             "remaining_time": 35.69191331,
             "test": [
              0.5393981707
             ]
            },
            {
             "iteration": 6,
             "learn": [
              0.5170809406
             ],
             "passed_time": 2.678123263,
             "remaining_time": 35.58078049,
             "test": [
              0.5183456544
             ]
            },
            {
             "iteration": 7,
             "learn": [
              0.4988375655
             ],
             "passed_time": 3.041457961,
             "remaining_time": 34.97676655,
             "test": [
              0.4983565617
             ]
            },
            {
             "iteration": 8,
             "learn": [
              0.4787724596
             ],
             "passed_time": 3.43149289,
             "remaining_time": 34.69620589,
             "test": [
              0.4793508943
             ]
            },
            {
             "iteration": 9,
             "learn": [
              0.4608029574
             ],
             "passed_time": 3.893762666,
             "remaining_time": 35.043864,
             "test": [
              0.4612604739
             ]
            },
            {
             "iteration": 10,
             "learn": [
              0.444145427
             ],
             "passed_time": 4.283816269,
             "remaining_time": 34.659968,
             "test": [
              0.4439735371
             ]
            },
            {
             "iteration": 11,
             "learn": [
              0.4282456758
             ],
             "passed_time": 4.695752742,
             "remaining_time": 34.43552011,
             "test": [
              0.4275417781
             ]
            },
            {
             "iteration": 12,
             "learn": [
              0.412395407
             ],
             "passed_time": 5.142876875,
             "remaining_time": 34.41771447,
             "test": [
              0.4118618557
             ]
            },
            {
             "iteration": 13,
             "learn": [
              0.3970171612
             ],
             "passed_time": 5.550746652,
             "remaining_time": 34.09744372,
             "test": [
              0.3968837525
             ]
            },
            {
             "iteration": 14,
             "learn": [
              0.3826818147
             ],
             "passed_time": 5.952394825,
             "remaining_time": 33.73023734,
             "test": [
              0.3825756487
             ]
            },
            {
             "iteration": 15,
             "learn": [
              0.3677137374
             ],
             "passed_time": 6.338433532,
             "remaining_time": 33.27677604,
             "test": [
              0.3688871081
             ]
            },
            {
             "iteration": 16,
             "learn": [
              0.3543118415
             ],
             "passed_time": 6.826077676,
             "remaining_time": 33.32732042,
             "test": [
              0.3557894244
             ]
            },
            {
             "iteration": 17,
             "learn": [
              0.3434682898
             ],
             "passed_time": 7.206153445,
             "remaining_time": 32.82803236,
             "test": [
              0.3432460481
             ]
            },
            {
             "iteration": 18,
             "learn": [
              0.3304535333
             ],
             "passed_time": 7.61213933,
             "remaining_time": 32.45175188,
             "test": [
              0.331234434
             ]
            },
            {
             "iteration": 19,
             "learn": [
              0.3200103374
             ],
             "passed_time": 7.982123929,
             "remaining_time": 31.92849571,
             "test": [
              0.3197156093
             ]
            },
            {
             "iteration": 20,
             "learn": [
              0.3074251031
             ],
             "passed_time": 8.444160226,
             "remaining_time": 31.76612657,
             "test": [
              0.3086691427
             ]
            },
            {
             "iteration": 21,
             "learn": [
              0.2972832551
             ],
             "passed_time": 8.875586622,
             "remaining_time": 31.46798893,
             "test": [
              0.2980731519
             ]
            },
            {
             "iteration": 22,
             "learn": [
              0.2871971398
             ],
             "passed_time": 9.30612055,
             "remaining_time": 31.15527315,
             "test": [
              0.2878980557
             ]
            },
            {
             "iteration": 23,
             "learn": [
              0.2769716847
             ],
             "passed_time": 9.77096983,
             "remaining_time": 30.94140446,
             "test": [
              0.2781275212
             ]
            },
            {
             "iteration": 24,
             "learn": [
              0.2670412412
             ],
             "passed_time": 10.12025602,
             "remaining_time": 30.36076806,
             "test": [
              0.2687418894
             ]
            },
            {
             "iteration": 25,
             "learn": [
              0.2584236021
             ],
             "passed_time": 10.47922183,
             "remaining_time": 29.82547753,
             "test": [
              0.2596193039
             ]
            },
            {
             "iteration": 26,
             "learn": [
              0.250374815
             ],
             "passed_time": 10.89238576,
             "remaining_time": 29.44978372,
             "test": [
              0.2509422659
             ]
            },
            {
             "iteration": 27,
             "learn": [
              0.2423956146
             ],
             "passed_time": 11.33994477,
             "remaining_time": 29.15985799,
             "test": [
              0.2426031021
             ]
            },
            {
             "iteration": 28,
             "learn": [
              0.2341455961
             ],
             "passed_time": 11.74421272,
             "remaining_time": 28.75307252,
             "test": [
              0.2345752929
             ]
            },
            {
             "iteration": 29,
             "learn": [
              0.2263276675
             ],
             "passed_time": 12.16574246,
             "remaining_time": 28.38673241,
             "test": [
              0.2268497622
             ]
            },
            {
             "iteration": 30,
             "learn": [
              0.2189852207
             ],
             "passed_time": 12.62718149,
             "remaining_time": 28.10566203,
             "test": [
              0.2194131729
             ]
            },
            {
             "iteration": 31,
             "learn": [
              0.2113969028
             ],
             "passed_time": 13.05613165,
             "remaining_time": 27.74427976,
             "test": [
              0.2122536014
             ]
            },
            {
             "iteration": 32,
             "learn": [
              0.2038919087
             ],
             "passed_time": 13.46070456,
             "remaining_time": 27.32930926,
             "test": [
              0.2053586082
             ]
            },
            {
             "iteration": 33,
             "learn": [
              0.1971814835
             ],
             "passed_time": 13.94531954,
             "remaining_time": 27.07032616,
             "test": [
              0.1987149583
             ]
            },
            {
             "iteration": 34,
             "learn": [
              0.1916835146
             ],
             "passed_time": 14.41091765,
             "remaining_time": 26.76313279,
             "test": [
              0.1923114119
             ]
            },
            {
             "iteration": 35,
             "learn": [
              0.184573677
             ],
             "passed_time": 14.79696658,
             "remaining_time": 26.30571837,
             "test": [
              0.1861355329
             ]
            },
            {
             "iteration": 36,
             "learn": [
              0.1793184888
             ],
             "passed_time": 15.22604787,
             "remaining_time": 25.92543285,
             "test": [
              0.1801838461
             ]
            },
            {
             "iteration": 37,
             "learn": [
              0.1728352335
             ],
             "passed_time": 15.65790233,
             "remaining_time": 25.5471038,
             "test": [
              0.174327167
             ]
            },
            {
             "iteration": 38,
             "learn": [
              0.1681763114
             ],
             "passed_time": 16.06526152,
             "remaining_time": 25.12771673,
             "test": [
              0.1687855798
             ]
            },
            {
             "iteration": 39,
             "learn": [
              0.1620353113
             ],
             "passed_time": 16.47195074,
             "remaining_time": 24.7079261,
             "test": [
              0.16343879
             ]
            },
            {
             "iteration": 40,
             "learn": [
              0.156902926
             ],
             "passed_time": 16.89046346,
             "remaining_time": 24.30578888,
             "test": [
              0.1582860324
             ]
            },
            {
             "iteration": 41,
             "learn": [
              0.1525589779
             ],
             "passed_time": 17.35563962,
             "remaining_time": 23.96731186,
             "test": [
              0.1533087499
             ]
            },
            {
             "iteration": 42,
             "learn": [
              0.1475504593
             ],
             "passed_time": 17.77055887,
             "remaining_time": 23.55632223,
             "test": [
              0.148373785
             ]
            },
            {
             "iteration": 43,
             "learn": [
              0.1424720676
             ],
             "passed_time": 18.22053032,
             "remaining_time": 23.18976586,
             "test": [
              0.143737194
             ]
            },
            {
             "iteration": 44,
             "learn": [
              0.1377084325
             ],
             "passed_time": 18.58760995,
             "remaining_time": 22.71818993,
             "test": [
              0.1392602058
             ]
            },
            {
             "iteration": 45,
             "learn": [
              0.1334876156
             ],
             "passed_time": 18.98641487,
             "remaining_time": 22.28840006,
             "test": [
              0.1349290149
             ]
            },
            {
             "iteration": 46,
             "learn": [
              0.1294761996
             ],
             "passed_time": 19.38942104,
             "remaining_time": 21.86466628,
             "test": [
              0.1307518515
             ]
            },
            {
             "iteration": 47,
             "learn": [
              0.1255552672
             ],
             "passed_time": 19.86596426,
             "remaining_time": 21.52146129,
             "test": [
              0.1267125996
             ]
            },
            {
             "iteration": 48,
             "learn": [
              0.121647926
             ],
             "passed_time": 20.51607764,
             "remaining_time": 21.35346857,
             "test": [
              0.122811301
             ]
            },
            {
             "iteration": 49,
             "learn": [
              0.1177734945
             ],
             "passed_time": 21.09534321,
             "remaining_time": 21.09534321,
             "test": [
              0.119043311
             ]
            },
            {
             "iteration": 50,
             "learn": [
              0.1138972658
             ],
             "passed_time": 21.51530654,
             "remaining_time": 20.67156903,
             "test": [
              0.115264892
             ]
            },
            {
             "iteration": 51,
             "learn": [
              0.1103452507
             ],
             "passed_time": 21.94145024,
             "remaining_time": 20.25364638,
             "test": [
              0.1117435372
             ]
            },
            {
             "iteration": 52,
             "learn": [
              0.1074774965
             ],
             "passed_time": 22.34307402,
             "remaining_time": 19.81366941,
             "test": [
              0.1083400173
             ]
            },
            {
             "iteration": 53,
             "learn": [
              0.103988082
             ],
             "passed_time": 22.77958248,
             "remaining_time": 19.40482952,
             "test": [
              0.1050490212
             ]
            },
            {
             "iteration": 54,
             "learn": [
              0.1003475937
             ],
             "passed_time": 23.1726968,
             "remaining_time": 18.9594792,
             "test": [
              0.1018656516
             ]
            },
            {
             "iteration": 55,
             "learn": [
              0.09773315482
             ],
             "passed_time": 23.56231725,
             "remaining_time": 18.51324926,
             "test": [
              0.09878843022
             ]
            },
            {
             "iteration": 56,
             "learn": [
              0.09438537103
             ],
             "passed_time": 23.946719,
             "remaining_time": 18.06506872,
             "test": [
              0.09581162701
             ]
            },
            {
             "iteration": 57,
             "learn": [
              0.09178627657
             ],
             "passed_time": 24.26271789,
             "remaining_time": 17.56955433,
             "test": [
              0.09274451173
             ]
            },
            {
             "iteration": 58,
             "learn": [
              0.08855657562
             ],
             "passed_time": 24.68035686,
             "remaining_time": 17.15075646,
             "test": [
              0.08996048777
             ]
            },
            {
             "iteration": 59,
             "learn": [
              0.08611349603
             ],
             "passed_time": 25.09702707,
             "remaining_time": 16.73135138,
             "test": [
              0.08726777275
             ]
            },
            {
             "iteration": 60,
             "learn": [
              0.0832470564
             ],
             "passed_time": 25.51859077,
             "remaining_time": 16.31516459,
             "test": [
              0.08466290414
             ]
            },
            {
             "iteration": 61,
             "learn": [
              0.08071761781
             ],
             "passed_time": 25.97656494,
             "remaining_time": 15.92112045,
             "test": [
              0.08214181409
             ]
            },
            {
             "iteration": 62,
             "learn": [
              0.07857240171
             ],
             "passed_time": 26.38380665,
             "remaining_time": 15.49525152,
             "test": [
              0.07969670954
             ]
            },
            {
             "iteration": 63,
             "learn": [
              0.07609595848
             ],
             "passed_time": 26.82249292,
             "remaining_time": 15.08765227,
             "test": [
              0.07724343004
             ]
            },
            {
             "iteration": 64,
             "learn": [
              0.07361807287
             ],
             "passed_time": 27.27541125,
             "remaining_time": 14.68675991,
             "test": [
              0.0749441725
             ]
            },
            {
             "iteration": 65,
             "learn": [
              0.07128183876
             ],
             "passed_time": 27.66733965,
             "remaining_time": 14.25287194,
             "test": [
              0.07272810507
             ]
            },
            {
             "iteration": 66,
             "learn": [
              0.069109458
             ],
             "passed_time": 28.16095869,
             "remaining_time": 13.87032294,
             "test": [
              0.07058559108
             ]
            },
            {
             "iteration": 67,
             "learn": [
              0.06702483171
             ],
             "passed_time": 28.53229077,
             "remaining_time": 13.42696036,
             "test": [
              0.06835597673
             ]
            },
            {
             "iteration": 68,
             "learn": [
              0.06505394238
             ],
             "passed_time": 28.96385542,
             "remaining_time": 13.01274664,
             "test": [
              0.06634758499
             ]
            },
            {
             "iteration": 69,
             "learn": [
              0.06310103577
             ],
             "passed_time": 29.3558496,
             "remaining_time": 12.5810784,
             "test": [
              0.0644013431
             ]
            },
            {
             "iteration": 70,
             "learn": [
              0.06113554738
             ],
             "passed_time": 29.67924067,
             "remaining_time": 12.12250675,
             "test": [
              0.06238279373
             ]
            },
            {
             "iteration": 71,
             "learn": [
              0.05924718798
             ],
             "passed_time": 30.08020468,
             "remaining_time": 11.69785738,
             "test": [
              0.06055829069
             ]
            },
            {
             "iteration": 72,
             "learn": [
              0.05746376065
             ],
             "passed_time": 30.50139809,
             "remaining_time": 11.28133902,
             "test": [
              0.05879605824
             ]
            },
            {
             "iteration": 73,
             "learn": [
              0.05598392874
             ],
             "passed_time": 30.84630306,
             "remaining_time": 10.83789026,
             "test": [
              0.05693970428
             ]
            },
            {
             "iteration": 74,
             "learn": [
              0.05422224427
             ],
             "passed_time": 31.16411103,
             "remaining_time": 10.38803701,
             "test": [
              0.05527840817
             ]
            },
            {
             "iteration": 75,
             "learn": [
              0.05239400936
             ],
             "passed_time": 31.52676718,
             "remaining_time": 9.955821215,
             "test": [
              0.0535952222
             ]
            },
            {
             "iteration": 76,
             "learn": [
              0.05106973714
             ],
             "passed_time": 31.96484644,
             "remaining_time": 9.547941146,
             "test": [
              0.05204395353
             ]
            },
            {
             "iteration": 77,
             "learn": [
              0.04936729308
             ],
             "passed_time": 32.3450141,
             "remaining_time": 9.122952695,
             "test": [
              0.0504285965
             ]
            },
            {
             "iteration": 78,
             "learn": [
              0.04784367744
             ],
             "passed_time": 32.67108086,
             "remaining_time": 8.684717698,
             "test": [
              0.04888418195
             ]
            },
            {
             "iteration": 79,
             "learn": [
              0.04642236335
             ],
             "passed_time": 33.07399538,
             "remaining_time": 8.268498846,
             "test": [
              0.04746909053
             ]
            },
            {
             "iteration": 80,
             "learn": [
              0.0451597658
             ],
             "passed_time": 33.47687847,
             "remaining_time": 7.852601122,
             "test": [
              0.0461020723
             ]
            },
            {
             "iteration": 81,
             "learn": [
              0.04364948095
             ],
             "passed_time": 33.94928203,
             "remaining_time": 7.45228142,
             "test": [
              0.044781869
             ]
            },
            {
             "iteration": 82,
             "learn": [
              0.04248366283
             ],
             "passed_time": 34.36972141,
             "remaining_time": 7.039581493,
             "test": [
              0.04349589844
             ]
            },
            {
             "iteration": 83,
             "learn": [
              0.04122007804
             ],
             "passed_time": 34.70550736,
             "remaining_time": 6.610572831,
             "test": [
              0.04213934498
             ]
            },
            {
             "iteration": 84,
             "learn": [
              0.03989174188
             ],
             "passed_time": 35.1640965,
             "remaining_time": 6.205428794,
             "test": [
              0.04093434212
             ]
            },
            {
             "iteration": 85,
             "learn": [
              0.03865109028
             ],
             "passed_time": 35.50356299,
             "remaining_time": 5.779649789,
             "test": [
              0.03968960735
             ]
            },
            {
             "iteration": 86,
             "learn": [
              0.03757728384
             ],
             "passed_time": 35.88249706,
             "remaining_time": 5.361752434,
             "test": [
              0.03845834567
             ]
            },
            {
             "iteration": 87,
             "learn": [
              0.03652690915
             ],
             "passed_time": 36.32791255,
             "remaining_time": 4.953806257,
             "test": [
              0.03734769425
             ]
            },
            {
             "iteration": 88,
             "learn": [
              0.03536910694
             ],
             "passed_time": 36.65637745,
             "remaining_time": 4.530563505,
             "test": [
              0.03628162905
             ]
            },
            {
             "iteration": 89,
             "learn": [
              0.03430668674
             ],
             "passed_time": 37.00872065,
             "remaining_time": 4.112080073,
             "test": [
              0.03517763673
             ]
            },
            {
             "iteration": 90,
             "learn": [
              0.03328464255
             ],
             "passed_time": 37.4586825,
             "remaining_time": 3.704704863,
             "test": [
              0.03413700844
             ]
            },
            {
             "iteration": 91,
             "learn": [
              0.03229739313
             ],
             "passed_time": 37.87039669,
             "remaining_time": 3.293077973,
             "test": [
              0.03317179563
             ]
            },
            {
             "iteration": 92,
             "learn": [
              0.03131904222
             ],
             "passed_time": 38.25458159,
             "remaining_time": 2.879377109,
             "test": [
              0.03218760153
             ]
            },
            {
             "iteration": 93,
             "learn": [
              0.03039435672
             ],
             "passed_time": 38.70793735,
             "remaining_time": 2.470719406,
             "test": [
              0.03128078231
             ]
            },
            {
             "iteration": 94,
             "learn": [
              0.02947106536
             ],
             "passed_time": 39.02380189,
             "remaining_time": 2.05388431,
             "test": [
              0.03031801914
             ]
            },
            {
             "iteration": 95,
             "learn": [
              0.02867578027
             ],
             "passed_time": 39.3111446,
             "remaining_time": 1.637964358,
             "test": [
              0.02937933568
             ]
            },
            {
             "iteration": 96,
             "learn": [
              0.02777093378
             ],
             "passed_time": 39.64332155,
             "remaining_time": 1.22608211,
             "test": [
              0.02847552435
             ]
            },
            {
             "iteration": 97,
             "learn": [
              0.02690512876
             ],
             "passed_time": 40.04862179,
             "remaining_time": 0.8173188121,
             "test": [
              0.0276722708
             ]
            },
            {
             "iteration": 98,
             "learn": [
              0.02619292341
             ],
             "passed_time": 40.32741302,
             "remaining_time": 0.4073476063,
             "test": [
              0.02682086377
             ]
            },
            {
             "iteration": 99,
             "learn": [
              0.02533434277
             ],
             "passed_time": 40.67081789,
             "remaining_time": 0,
             "test": [
              0.02600001415
             ]
            }
           ],
           "meta": {
            "iteration_count": 100,
            "launch_mode": "Train",
            "learn_metrics": [
             {
              "best_value": "Min",
              "name": "CrossEntropy"
             }
            ],
            "learn_sets": [
             "learn"
            ],
            "name": "experiment",
            "parameters": "",
            "test_metrics": [
             {
              "best_value": "Min",
              "name": "CrossEntropy"
             }
            ],
            "test_sets": [
             "test"
            ]
           }
          },
          "passed_iterations": 99,
          "total_iterations": 100
         },
         "name": "catboost_info",
         "path": "catboost_info"
        }
       },
       "layout": "IPY_MODEL_07a14df0acb24ac8aa0f01dd3d3be8d4"
      }
     }
    },
    "version_major": 2,
    "version_minor": 0
   }
  }
 },
 "nbformat": 4,
 "nbformat_minor": 5
}
