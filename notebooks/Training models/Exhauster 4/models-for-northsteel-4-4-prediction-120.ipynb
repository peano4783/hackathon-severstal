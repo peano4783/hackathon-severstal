{
 "cells": [
  {
   "cell_type": "code",
   "execution_count": 1,
   "id": "3ae74e83",
   "metadata": {
    "execution": {
     "iopub.execute_input": "2023-05-28T20:47:52.499028Z",
     "iopub.status.busy": "2023-05-28T20:47:52.498629Z",
     "iopub.status.idle": "2023-05-28T20:47:52.581589Z",
     "shell.execute_reply": "2023-05-28T20:47:52.580772Z"
    },
    "papermill": {
     "duration": 0.094395,
     "end_time": "2023-05-28T20:47:52.585948",
     "exception": false,
     "start_time": "2023-05-28T20:47:52.491553",
     "status": "completed"
    },
    "tags": []
   },
   "outputs": [
    {
     "name": "stdout",
     "output_type": "stream",
     "text": [
      "/kaggle/input/x-train-northsteel/ВИБРАЦИЯ НА ОПОРЕ 4. ПРОДОЛЬНАЯ.csv\n",
      "/kaggle/input/x-train-northsteel/ВИБРАЦИЯ НА ОПОРЕ 4.csv\n",
      "/kaggle/input/x-train-northsteel/ЭКСГАУСТЕР 9.csv\n",
      "/kaggle/input/x-train-northsteel/ЭКСГАУСТЕР 4.csv\n",
      "/kaggle/input/x-train-northsteel/ЭКСГАУСТЕР 7.csv\n",
      "/kaggle/input/x-train-northsteel/ВИБРАЦИЯ НА ОПОРЕ 3.csv\n",
      "/kaggle/input/x-train-northsteel/ВИБРАЦИЯ НА ОПОРЕ 2.csv\n",
      "/kaggle/input/x-train-northsteel/ТОК СТАТОРА.csv\n",
      "/kaggle/input/x-train-northsteel/ДАВЛЕНИЕ МАСЛА В СИСТЕМЕ.csv\n",
      "/kaggle/input/x-train-northsteel/ВИБРАЦИЯ НА ОПОРЕ 1.csv\n",
      "/kaggle/input/x-train-northsteel/ТЕМПЕРАТУРА ПОДШИПНИКА НА ОПОРЕ 3.csv\n",
      "/kaggle/input/x-train-northsteel/ТЕМПЕРАТУРА ПОДШИПНИКА НА ОПОРЕ 1.csv\n",
      "/kaggle/input/x-train-northsteel/ЭКСГАУСТЕР 6.csv\n",
      "/kaggle/input/x-train-northsteel/ТОК РОТОРА 2.csv\n",
      "/kaggle/input/x-train-northsteel/ТЕМПЕРАТУРА ПОДШИПНИКА НА ОПОРЕ 2.csv\n",
      "/kaggle/input/x-train-northsteel/ТЕМПЕРАТУРА ПОДШИПНИКА НА ОПОРЕ 4.csv\n",
      "/kaggle/input/x-train-northsteel/ЭКСГАУСТЕР 5.csv\n",
      "/kaggle/input/x-train-northsteel/ТОК РОТОРА 1.csv\n",
      "/kaggle/input/x-train-northsteel/ЭКСГАУСТЕР 8.csv\n",
      "/kaggle/input/x-train-northsteel/ВИБРАЦИЯ НА ОПОРЕ 3. ПРОДОЛЬНАЯ.csv\n",
      "/kaggle/input/x-train-northsteel/ТЕМПЕРАТУРА МАСЛА В МАСЛОБЛОКЕ.csv\n",
      "/kaggle/input/x-train-northsteel/ТЕМПЕРАТУРА МАСЛА В СИСТЕМЕ.csv\n",
      "/kaggle/input/y-train-northsteel-instances/y_ЭКСГАУСТЕР АМ 6.csv\n",
      "/kaggle/input/y-train-northsteel-instances/y_ЭКСГАУСТЕР АМ 7.csv\n",
      "/kaggle/input/y-train-northsteel-instances/y_ЭКСГАУСТЕР АМ 5.csv\n",
      "/kaggle/input/y-train-northsteel-instances/y_ЭКСГАУСТЕР АМ 8.csv\n",
      "/kaggle/input/y-train-northsteel-instances/y_ЭКСГАУСТЕР АМ 4.csv\n",
      "/kaggle/input/y-train-northsteel-instances/dict_short.csv\n",
      "/kaggle/input/y-train-northsteel-instances/y_ЭКСГАУСТЕР АМ 9.csv\n",
      "/kaggle/input/x-test-northsteel/ВИБРАЦИЯ НА ОПОРЕ 4. ПРОДОЛЬНАЯ.csv\n",
      "/kaggle/input/x-test-northsteel/ВИБРАЦИЯ НА ОПОРЕ 4.csv\n",
      "/kaggle/input/x-test-northsteel/ЭКСГАУСТЕР 9.csv\n",
      "/kaggle/input/x-test-northsteel/ЭКСГАУСТЕР 4.csv\n",
      "/kaggle/input/x-test-northsteel/ЭКСГАУСТЕР 7.csv\n",
      "/kaggle/input/x-test-northsteel/ВИБРАЦИЯ НА ОПОРЕ 3.csv\n",
      "/kaggle/input/x-test-northsteel/ВИБРАЦИЯ НА ОПОРЕ 2.csv\n",
      "/kaggle/input/x-test-northsteel/ТОК СТАТОРА.csv\n",
      "/kaggle/input/x-test-northsteel/ДАВЛЕНИЕ МАСЛА В СИСТЕМЕ.csv\n",
      "/kaggle/input/x-test-northsteel/ВИБРАЦИЯ НА ОПОРЕ 1.csv\n",
      "/kaggle/input/x-test-northsteel/ТЕМПЕРАТУРА ПОДШИПНИКА НА ОПОРЕ 3.csv\n",
      "/kaggle/input/x-test-northsteel/ТЕМПЕРАТУРА ПОДШИПНИКА НА ОПОРЕ 1.csv\n",
      "/kaggle/input/x-test-northsteel/ЭКСГАУСТЕР 6.csv\n",
      "/kaggle/input/x-test-northsteel/ТОК РОТОРА 2.csv\n",
      "/kaggle/input/x-test-northsteel/ТЕМПЕРАТУРА ПОДШИПНИКА НА ОПОРЕ 2.csv\n",
      "/kaggle/input/x-test-northsteel/ТЕМПЕРАТУРА ПОДШИПНИКА НА ОПОРЕ 4.csv\n",
      "/kaggle/input/x-test-northsteel/ЭКСГАУСТЕР 5.csv\n",
      "/kaggle/input/x-test-northsteel/ТОК РОТОРА 1.csv\n",
      "/kaggle/input/x-test-northsteel/ЭКСГАУСТЕР 8.csv\n",
      "/kaggle/input/x-test-northsteel/ВИБРАЦИЯ НА ОПОРЕ 3. ПРОДОЛЬНАЯ.csv\n",
      "/kaggle/input/x-test-northsteel/ТЕМПЕРАТУРА МАСЛА В МАСЛОБЛОКЕ.csv\n",
      "/kaggle/input/x-test-northsteel/ТЕМПЕРАТУРА МАСЛА В СИСТЕМЕ.csv\n",
      "/kaggle/input/y-train-northsteel-short/y_short_ТСМТ-101-010-50М-80 ТЕРМОПРЕОБР.МАСЛО.csv\n",
      "/kaggle/input/y-train-northsteel-short/y_short_ЗАДВИЖКА ЭКСГ.d.csv\n",
      "/kaggle/input/y-train-northsteel-short/y_short_КОРПУС ЭКСГ.d.csv\n",
      "/kaggle/input/y-train-northsteel-short/y_short_ГАЗОВАЯ ЗАДВИЖКА ЭКСГ.d.csv\n",
      "/kaggle/input/y-train-northsteel-short/y_short_ТИРИСТ. ВОЗБУДИТЕЛЬ ВТ-РЭМ-400 ЭКСГ.d.csv\n",
      "/kaggle/input/y-train-northsteel-short/y_short_КЛ2 ТР№n ДО ЭД ЭКСГАУСТЕРА №d.csv\n",
      "/kaggle/input/y-train-northsteel-short/y_short_РЕДУКТОР ГАЗ. ЗАДВИЖКИ ЭКСГ.d.csv\n",
      "/kaggle/input/y-train-northsteel-short/y_short_МАСЛОНАСОС ШЕСТЕРЕНЧАТЫЙ (РЕЗ.) ЭКСГ.d.csv\n",
      "/kaggle/input/y-train-northsteel-short/y_short_УЛИТА ЭКСГ.d.csv\n",
      "/kaggle/input/y-train-northsteel-short/y_short_ВК 310С ВИБРОПРЕОБРАЗОВАТЕЛЬ ЭКСГ.d.csv\n",
      "/kaggle/input/y-train-northsteel-short/y_short_ДВИГАТЕЛЬ РЕЗЕРВНОГО МАСЛОНАСОСА ЭКСГ.d.csv\n",
      "/kaggle/input/y-train-northsteel-short/y_short_ЗАПОРНАЯ АРМАТУРА ЭКСГАУСТЕРА №d.csv\n",
      "/kaggle/input/y-train-northsteel-short/y_short_МАСЛОНАСОС РАБОЧИЙ ЭКСГ.d.csv\n",
      "/kaggle/input/y-train-northsteel-short/y_short_МЕТРАН-100 ДАТЧИКИ ДАВЛЕНИЯ ЭКСГ.d.csv\n",
      "/kaggle/input/y-train-northsteel-short/y_short_ЭКСГАУСТЕР Н-8000 АМ №5.csv\n",
      "/kaggle/input/y-train-northsteel-short/y_short_ПОДШИПНИК ОПОРНО-УПОРНЫЙ ЭКСГ.d.csv\n",
      "/kaggle/input/y-train-northsteel-short/y_short_ПОДШИПНИК ОПОРНЫЙ ЭКСГ.d.csv\n",
      "/kaggle/input/y-train-northsteel-short/y_short_МАСЛООХЛАДИТЕЛЬ  М-05-1 ЭКСГ.d.csv\n",
      "/kaggle/input/y-train-northsteel-short/y_short_ТИРИСТОРНЫЙ ВОЗБУДИТЕЛЬ ТВ-400 ЭКСГ.d ВУ1.csv\n",
      "/kaggle/input/y-train-northsteel-short/y_short_КЛ1 ТР№n ДО ЭД ЭКСГАУСТЕРА №d.csv\n",
      "/kaggle/input/y-train-northsteel-short/y_short_ЭЛДВИГАТЕЛЬ ГАЗ. ЗАДВИЖКИ ЭКСГ.d.csv\n",
      "/kaggle/input/y-train-northsteel-short/y_short_ТСМТ-101-010-50М-200 ТЕРМОПР.ПОДШ.csv\n",
      "/kaggle/input/y-train-northsteel-short/y_short_МАСЛОБАК ЭКСГ.d.csv\n",
      "/kaggle/input/y-train-northsteel-short/y_short_ЗАП. И РЕГ. АРМАТУРА ЭКСГ.d.csv\n",
      "/kaggle/input/y-train-northsteel-short/y_short_КОЖУХ МУФТЫ ЭКСГ.d.csv\n",
      "/kaggle/input/y-train-northsteel-short/y_short_РЕГУЛИРУЮЩАЯ АППАРАТУРА ЭКСГАУСТЕРА №d.csv\n",
      "/kaggle/input/y-train-northsteel-short/y_short_МАСЛЯНЫЙ ФИЛЬТР ЭКСГАУСТЕРА №d.csv\n",
      "/kaggle/input/y-train-northsteel-short/y_short_ТР-Р ТМ-4000-106 ЭКСГ.d.csv\n",
      "/kaggle/input/y-train-northsteel-short/y_short_ЭЛЕКТРОДВИГАТЕЛЬ ДСПУ-140-84-4 ЭКСГ.d.csv\n",
      "/kaggle/input/y-train-northsteel-short/y_short_ДВИГАТЕЛЬ ПУСКОВОГО МАСЛОНАСОСА ЭКСГ.d.csv\n",
      "/kaggle/input/y-train-northsteel-short/y_short_САПФИР 22 МДД РАЗРЕЖЕНИЕ В КОЛЛЕКТОРЕ.csv\n",
      "/kaggle/input/y-train-northsteel-short/y_short_САПФИР 22 МДД ПЕРЕПАД ДАВЛ. НА ЦИКЛОНЕ.csv\n",
      "/kaggle/input/y-train-northsteel-short/y_short_МАСЛОНАСОС ШЕСТЕРЕНЧАТЫЙ (ПУСК.) ЭКСГ.d.csv\n",
      "/kaggle/input/y-train-northsteel-short/y_short_ТР-Р ТМ-6300-106 ЭКСГ.d.csv\n",
      "/kaggle/input/y-train-northsteel-short/y_short_ТСМТ-101-010-50М-400 ТЕРМОПР.ПОДШ.csv\n",
      "/kaggle/input/y-train-northsteel-short/y_short_ЭКСГАУСТЕР №d.csv\n",
      "/kaggle/input/y-train-northsteel-short/y_short_МАСЛОСТАНЦИЯ ЖИДКОЙ СМАЗКИ ЭКСГ.d.csv\n",
      "/kaggle/input/y-train-northsteel-short/y_short_ЭЛЕКТРООБОРУДОВАНИЯ ЭКСГАУСТЕРА №d.csv\n",
      "/kaggle/input/y-train-northsteel-short/dict_short.csv\n",
      "/kaggle/input/y-train-northsteel-short/y_short_ГСМ ЭКСГ.d.csv\n",
      "/kaggle/input/y-train-northsteel-short/y_short_ТИРИСТОРНЫЙ ВОЗБУДИТЕЛЬ СПВД-М10-400-5.csv\n",
      "/kaggle/input/y-train-northsteel-short/y_short_МАСЛОПРОВОДЫ ЭКСГАУСТЕРА №d.csv\n",
      "/kaggle/input/y-train-northsteel-short/y_short_РОТОР ЭКСГ.d.csv\n",
      "/kaggle/input/y-train-northsteel/y_long_МАСЛООХЛАДИТЕЛЬ  М-05-1 ЭКСГ.d.csv\n",
      "/kaggle/input/y-train-northsteel/y_long_КЛ2 ТР№8 ДО ЭД ЭКСГАУСТЕРА №d.csv\n",
      "/kaggle/input/y-train-northsteel/y_long_САПФИР 22 МДД РАЗРЕЖЕНИЕ В КОЛЛЕКТОРЕ.csv\n",
      "/kaggle/input/y-train-northsteel/y_long_ВК 310С ВИБРОПРЕОБРАЗОВАТЕЛЬ ЭКСГ.d Т.2.csv\n",
      "/kaggle/input/y-train-northsteel/y_long_ЗАП. И РЕГ. АРМАТУРА ЭКСГ.d.csv\n",
      "/kaggle/input/y-train-northsteel/y_long_ЭКСГАУСТЕР Н-8000 АМ №5.csv\n",
      "/kaggle/input/y-train-northsteel/y_long_ЭЛЕКТРОДВИГАТЕЛЬ ДСПУ-140-84-4 ЭКСГ.d.csv\n",
      "/kaggle/input/y-train-northsteel/y_long_РЕДУКТОР ГАЗ. ЗАДВИЖКИ ЭКСГ.d.csv\n",
      "/kaggle/input/y-train-northsteel/y_long_КЛ1 ТР№4 ДО ЭД ЭКСГАУСТЕРА №d.csv\n",
      "/kaggle/input/y-train-northsteel/y_long_ТСМТ-101-010-50М-200 ТЕРМОПР.ПОДШ.Т.3.csv\n",
      "/kaggle/input/y-train-northsteel/y_long_ЭЛЕКТРООБОРУДОВАНИЯ ЭКСГАУСТЕРА №d.csv\n",
      "/kaggle/input/y-train-northsteel/y_long_МАСЛЯНЫЙ ФИЛЬТР ЭКСГАУСТЕРА №d.csv\n",
      "/kaggle/input/y-train-northsteel/y_long_УЛИТА ЭКСГ.d.csv\n",
      "/kaggle/input/y-train-northsteel/y_long_РЕГУЛИРУЮЩАЯ АППАРАТУРА ЭКСГАУСТЕРА №d.csv\n",
      "/kaggle/input/y-train-northsteel/y_long_ПОДШИПНИК ОПОРНЫЙ ЭКСГ.d.csv\n",
      "/kaggle/input/y-train-northsteel/y_long_ТСМТ-101-010-50М-200 ТЕРМОПР.ПОДШ.Т.4.csv\n",
      "/kaggle/input/y-train-northsteel/y_long_КЛ1 ТР№6 ДО ЭД ЭКСГАУСТЕРА №d.csv\n",
      "/kaggle/input/y-train-northsteel/y_long_ГАЗОВАЯ ЗАДВИЖКА ЭКСГ.d.csv\n",
      "/kaggle/input/y-train-northsteel/y_long_ГСМ ЭКСГ.d.csv\n",
      "/kaggle/input/y-train-northsteel/y_long_ВК 310С ВИБРОПРЕОБРАЗОВАТЕЛЬ ЭКСГ.d Т.3.csv\n",
      "/kaggle/input/y-train-northsteel/y_long_ТСМТ-101-010-50М-80 ТЕРМОПРЕОБР.МАСЛО.csv\n",
      "/kaggle/input/y-train-northsteel/y_long_КЛ2 ТР№6 ДО ЭД ЭКСГАУСТЕРА №d.csv\n",
      "/kaggle/input/y-train-northsteel/y_long_ТИРИСТОРНЫЙ ВОЗБУДИТЕЛЬ ТВ-400 ЭКСГ.d ВУ1.csv\n",
      "/kaggle/input/y-train-northsteel/y_long_КЛ1 ТР№5 ДО ЭД ЭКСГАУСТЕРА №d.csv\n",
      "/kaggle/input/y-train-northsteel/y_long_ДВИГАТЕЛЬ РЕЗЕРВНОГО МАСЛОНАСОСА ЭКСГ.d.csv\n",
      "/kaggle/input/y-train-northsteel/y_long_КЛ1 ТР№8 ДО ЭД ЭКСГАУСТЕРА №d.csv\n",
      "/kaggle/input/y-train-northsteel/y_long_МЕТРАН-100 ДАТЧИКИ ДАВЛЕНИЯ ЭКСГ.d.csv\n",
      "/kaggle/input/y-train-northsteel/y_long_ЗАДВИЖКА ЭКСГ.d.csv\n",
      "/kaggle/input/y-train-northsteel/y_long_КЛ2 ТР№5 ДО ЭД ЭКСГАУСТЕРА №d.csv\n",
      "/kaggle/input/y-train-northsteel/y_long_САПФИР 22 МДД ПЕРЕПАД ДАВЛ. НА ЦИКЛОНЕ.csv\n",
      "/kaggle/input/y-train-northsteel/y_long_ПОДШИПНИК ОПОРНЫЙ №2 ЭКСГ.d.csv\n",
      "/kaggle/input/y-train-northsteel/y_long_МАСЛОНАСОС ШЕСТЕРЕНЧАТЫЙ (РЕЗ.) ЭКСГ.d.csv\n",
      "/kaggle/input/y-train-northsteel/y_long_ПОДШИПНИК ОПОРНО-УПОРНЫЙ ЭКСГ.d.csv\n",
      "/kaggle/input/y-train-northsteel/y_long_ЗАПОРНАЯ АРМАТУРА ЭКСГАУСТЕРА №d.csv\n",
      "/kaggle/input/y-train-northsteel/y_long_КОРПУС ЭКСГ.d.csv\n",
      "/kaggle/input/y-train-northsteel/y_long_ВК 310С ВИБРОПРЕОБРАЗОВАТЕЛЬ ЭКСГ.d Т.4.csv\n",
      "/kaggle/input/y-train-northsteel/y_long_ТИРИСТОРНЫЙ ВОЗБУДИТЕЛЬ СПВД-М10-400-5.csv\n",
      "/kaggle/input/y-train-northsteel/y_long_КЛ1 ТР№9 ДО ЭД ЭКСГАУСТЕРА №d.csv\n",
      "/kaggle/input/y-train-northsteel/y_long_ЭЛДВИГАТЕЛЬ ГАЗ. ЗАДВИЖКИ ЭКСГ.d.csv\n",
      "/kaggle/input/y-train-northsteel/y_long_ДВИГАТЕЛЬ ПУСКОВОГО МАСЛОНАСОСА ЭКСГ.d.csv\n",
      "/kaggle/input/y-train-northsteel/y_long_ТИРИСТ. ВОЗБУДИТЕЛЬ ВТ-РЭМ-400 ЭКСГ.d ВУ1.csv\n",
      "/kaggle/input/y-train-northsteel/y_long_ЭКСГАУСТЕР №d.csv\n",
      "/kaggle/input/y-train-northsteel/y_long_ТР-Р ТМ-4000-106 ЭКСГ.d.csv\n",
      "/kaggle/input/y-train-northsteel/y_long_МАСЛОНАСОС РАБОЧИЙ ЭКСГ.d.csv\n",
      "/kaggle/input/y-train-northsteel/y_long_КЛ1 ТР№7 ДО ЭД ЭКСГАУСТЕРА №d.csv\n",
      "/kaggle/input/y-train-northsteel/y_long_МАСЛОБАК ЭКСГ.d.csv\n",
      "/kaggle/input/y-train-northsteel/y_long_ТИРИСТ. ВОЗБУДИТЕЛЬ ВТ-РЭМ-400 ЭКСГ.d ВУ2.csv\n",
      "/kaggle/input/y-train-northsteel/y_long_ТР-Р ТМ-6300-106 ЭКСГ.d.csv\n",
      "/kaggle/input/y-train-northsteel/y_long_МАСЛОСТАНЦИЯ ЖИДКОЙ СМАЗКИ ЭКСГ.d.csv\n",
      "/kaggle/input/y-train-northsteel/y_long_КОЖУХ МУФТЫ ЭКСГ.d.csv\n",
      "/kaggle/input/y-train-northsteel/y_long_ПОДШИПНИК ОПОРНЫЙ №1 ЭКСГ.d.csv\n",
      "/kaggle/input/y-train-northsteel/y_long_РОТОР ЭКСГ.d.csv\n",
      "/kaggle/input/y-train-northsteel/dict_long.csv\n",
      "/kaggle/input/y-train-northsteel/y_long_ТСМТ-101-010-50М-400 ТЕРМОПР.ПОДШ.Т.1.csv\n",
      "/kaggle/input/y-train-northsteel/y_long_МАСЛОПРОВОДЫ ЭКСГАУСТЕРА №d.csv\n",
      "/kaggle/input/y-train-northsteel/y_long_МАСЛОНАСОС ШЕСТЕРЕНЧАТЫЙ (ПУСК.) ЭКСГ.d.csv\n",
      "/kaggle/input/y-train-northsteel/y_long_КЛ2 ТР№4 ДО ЭД ЭКСГАУСТЕРА №d.csv\n",
      "/kaggle/input/y-train-northsteel/y_long_ВК 310С ВИБРОПРЕОБРАЗОВАТЕЛЬ ЭКСГ.d Т.1.csv\n",
      "/kaggle/input/y-train-northsteel/y_long_ТСМТ-101-010-50М-400 ТЕРМОПР.ПОДШ.Т.2.csv\n"
     ]
    }
   ],
   "source": [
    "# This Python 3 environment comes with many helpful analytics libraries installed\n",
    "# It is defined by the kaggle/python Docker image: https://github.com/kaggle/docker-python\n",
    "# For example, here's several helpful packages to load\n",
    "\n",
    "import numpy as np # linear algebra\n",
    "import pandas as pd # data processing, CSV file I/O (e.g. pd.read_csv)\n",
    "\n",
    "# Input data files are available in the read-only \"../input/\" directory\n",
    "# For example, running this (by clicking run or pressing Shift+Enter) will list all files under the input directory\n",
    "\n",
    "import os\n",
    "for dirname, _, filenames in os.walk('/kaggle/input'):\n",
    "    for filename in filenames:\n",
    "        print(os.path.join(dirname, filename))\n",
    "\n",
    "# You can write up to 20GB to the current directory (/kaggle/working/) that gets preserved as output when you create a version using \"Save & Run All\" \n",
    "# You can also write temporary files to /kaggle/temp/, but they won't be saved outside of the current session"
   ]
  },
  {
   "cell_type": "code",
   "execution_count": 2,
   "id": "74d8ccb0",
   "metadata": {
    "execution": {
     "iopub.execute_input": "2023-05-28T20:47:52.598620Z",
     "iopub.status.busy": "2023-05-28T20:47:52.597950Z",
     "iopub.status.idle": "2023-05-28T20:48:21.764224Z",
     "shell.execute_reply": "2023-05-28T20:48:21.763265Z"
    },
    "papermill": {
     "duration": 29.17548,
     "end_time": "2023-05-28T20:48:21.766973",
     "exception": false,
     "start_time": "2023-05-28T20:47:52.591493",
     "status": "completed"
    },
    "tags": []
   },
   "outputs": [],
   "source": [
    "X_train = pd.read_csv(\"/kaggle/input/x-train-northsteel/ЭКСГАУСТЕР 4.csv\",parse_dates=True)\n"
   ]
  },
  {
   "cell_type": "code",
   "execution_count": 3,
   "id": "555cd4ca",
   "metadata": {
    "execution": {
     "iopub.execute_input": "2023-05-28T20:48:21.779616Z",
     "iopub.status.busy": "2023-05-28T20:48:21.778972Z",
     "iopub.status.idle": "2023-05-28T20:49:03.963921Z",
     "shell.execute_reply": "2023-05-28T20:49:03.963127Z"
    },
    "papermill": {
     "duration": 42.200377,
     "end_time": "2023-05-28T20:49:03.972772",
     "exception": false,
     "start_time": "2023-05-28T20:48:21.772395",
     "status": "completed"
    },
    "tags": []
   },
   "outputs": [
    {
     "data": {
      "text/html": [
       "<div>\n",
       "<style scoped>\n",
       "    .dataframe tbody tr th:only-of-type {\n",
       "        vertical-align: middle;\n",
       "    }\n",
       "\n",
       "    .dataframe tbody tr th {\n",
       "        vertical-align: top;\n",
       "    }\n",
       "\n",
       "    .dataframe thead th {\n",
       "        text-align: right;\n",
       "    }\n",
       "</style>\n",
       "<table border=\"1\" class=\"dataframe\">\n",
       "  <thead>\n",
       "    <tr style=\"text-align: right;\">\n",
       "      <th></th>\n",
       "      <th>ТОК РОТОРА 1</th>\n",
       "      <th>ТОК РОТОРА 2</th>\n",
       "      <th>ТОК СТАТОРА</th>\n",
       "      <th>ВИБРАЦИЯ НА ОПОРЕ 1</th>\n",
       "      <th>ВИБРАЦИЯ НА ОПОРЕ 2</th>\n",
       "      <th>ВИБРАЦИЯ НА ОПОРЕ 3</th>\n",
       "      <th>ВИБРАЦИЯ НА ОПОРЕ 3. ПРОДОЛЬНАЯ</th>\n",
       "      <th>ВИБРАЦИЯ НА ОПОРЕ 4</th>\n",
       "      <th>ВИБРАЦИЯ НА ОПОРЕ 4. ПРОДОЛЬНАЯ</th>\n",
       "      <th>ТЕМПЕРАТУРА ПОДШИПНИКА НА ОПОРЕ 1</th>\n",
       "      <th>ТЕМПЕРАТУРА ПОДШИПНИКА НА ОПОРЕ 2</th>\n",
       "      <th>ТЕМПЕРАТУРА ПОДШИПНИКА НА ОПОРЕ 3</th>\n",
       "      <th>ТЕМПЕРАТУРА ПОДШИПНИКА НА ОПОРЕ 4</th>\n",
       "      <th>ТЕМПЕРАТУРА МАСЛА В МАСЛОБЛОКЕ</th>\n",
       "      <th>ТЕМПЕРАТУРА МАСЛА В СИСТЕМЕ</th>\n",
       "      <th>ДАВЛЕНИЕ МАСЛА В СИСТЕМЕ</th>\n",
       "    </tr>\n",
       "    <tr>\n",
       "      <th>DT</th>\n",
       "      <th></th>\n",
       "      <th></th>\n",
       "      <th></th>\n",
       "      <th></th>\n",
       "      <th></th>\n",
       "      <th></th>\n",
       "      <th></th>\n",
       "      <th></th>\n",
       "      <th></th>\n",
       "      <th></th>\n",
       "      <th></th>\n",
       "      <th></th>\n",
       "      <th></th>\n",
       "      <th></th>\n",
       "      <th></th>\n",
       "      <th></th>\n",
       "    </tr>\n",
       "  </thead>\n",
       "  <tbody>\n",
       "    <tr>\n",
       "      <th>2019-01-16 13:21:00</th>\n",
       "      <td>363.676667</td>\n",
       "      <td>363.676667</td>\n",
       "      <td>244.078000</td>\n",
       "      <td>1.600000</td>\n",
       "      <td>0.760000</td>\n",
       "      <td>0.670000</td>\n",
       "      <td>1.630000</td>\n",
       "      <td>3.450000</td>\n",
       "      <td>0.740000</td>\n",
       "      <td>41.370000</td>\n",
       "      <td>39.750000</td>\n",
       "      <td>39.750000</td>\n",
       "      <td>44.538548</td>\n",
       "      <td>40.560000</td>\n",
       "      <td>33.260000</td>\n",
       "      <td>119.385000</td>\n",
       "    </tr>\n",
       "    <tr>\n",
       "      <th>2019-01-16 13:21:10</th>\n",
       "      <td>363.103333</td>\n",
       "      <td>363.103333</td>\n",
       "      <td>243.032500</td>\n",
       "      <td>1.572917</td>\n",
       "      <td>0.751736</td>\n",
       "      <td>0.642361</td>\n",
       "      <td>1.558160</td>\n",
       "      <td>3.470000</td>\n",
       "      <td>0.734375</td>\n",
       "      <td>41.374596</td>\n",
       "      <td>39.752083</td>\n",
       "      <td>39.995457</td>\n",
       "      <td>44.863054</td>\n",
       "      <td>40.401081</td>\n",
       "      <td>33.343074</td>\n",
       "      <td>119.444440</td>\n",
       "    </tr>\n",
       "    <tr>\n",
       "      <th>2019-01-16 13:21:20</th>\n",
       "      <td>363.266667</td>\n",
       "      <td>363.266667</td>\n",
       "      <td>242.940000</td>\n",
       "      <td>1.553819</td>\n",
       "      <td>0.735918</td>\n",
       "      <td>0.638503</td>\n",
       "      <td>1.581790</td>\n",
       "      <td>2.900000</td>\n",
       "      <td>0.748457</td>\n",
       "      <td>41.374596</td>\n",
       "      <td>39.752083</td>\n",
       "      <td>39.932360</td>\n",
       "      <td>44.799956</td>\n",
       "      <td>40.383053</td>\n",
       "      <td>33.261948</td>\n",
       "      <td>119.330000</td>\n",
       "    </tr>\n",
       "    <tr>\n",
       "      <th>2019-01-16 13:21:30</th>\n",
       "      <td>363.414372</td>\n",
       "      <td>363.414372</td>\n",
       "      <td>243.836802</td>\n",
       "      <td>1.546007</td>\n",
       "      <td>0.736979</td>\n",
       "      <td>0.653646</td>\n",
       "      <td>1.657986</td>\n",
       "      <td>3.297743</td>\n",
       "      <td>0.730903</td>\n",
       "      <td>41.374596</td>\n",
       "      <td>39.752083</td>\n",
       "      <td>39.833208</td>\n",
       "      <td>44.781928</td>\n",
       "      <td>40.563330</td>\n",
       "      <td>33.586453</td>\n",
       "      <td>119.398146</td>\n",
       "    </tr>\n",
       "    <tr>\n",
       "      <th>2019-01-16 13:21:40</th>\n",
       "      <td>363.103333</td>\n",
       "      <td>363.103333</td>\n",
       "      <td>242.050000</td>\n",
       "      <td>1.545139</td>\n",
       "      <td>0.742188</td>\n",
       "      <td>0.677083</td>\n",
       "      <td>1.740000</td>\n",
       "      <td>2.990000</td>\n",
       "      <td>0.739583</td>\n",
       "      <td>41.536849</td>\n",
       "      <td>39.752083</td>\n",
       "      <td>39.752083</td>\n",
       "      <td>43.810000</td>\n",
       "      <td>39.750000</td>\n",
       "      <td>33.505327</td>\n",
       "      <td>119.326667</td>\n",
       "    </tr>\n",
       "    <tr>\n",
       "      <th>...</th>\n",
       "      <td>...</td>\n",
       "      <td>...</td>\n",
       "      <td>...</td>\n",
       "      <td>...</td>\n",
       "      <td>...</td>\n",
       "      <td>...</td>\n",
       "      <td>...</td>\n",
       "      <td>...</td>\n",
       "      <td>...</td>\n",
       "      <td>...</td>\n",
       "      <td>...</td>\n",
       "      <td>...</td>\n",
       "      <td>...</td>\n",
       "      <td>...</td>\n",
       "      <td>...</td>\n",
       "      <td>...</td>\n",
       "    </tr>\n",
       "    <tr>\n",
       "      <th>2021-04-29 20:17:50</th>\n",
       "      <td>227.802000</td>\n",
       "      <td>227.802000</td>\n",
       "      <td>256.457000</td>\n",
       "      <td>0.691667</td>\n",
       "      <td>0.422857</td>\n",
       "      <td>0.824444</td>\n",
       "      <td>1.900000</td>\n",
       "      <td>0.802222</td>\n",
       "      <td>0.810000</td>\n",
       "      <td>38.670000</td>\n",
       "      <td>36.915000</td>\n",
       "      <td>29.615000</td>\n",
       "      <td>32.045000</td>\n",
       "      <td>32.045000</td>\n",
       "      <td>28.800000</td>\n",
       "      <td>143.218000</td>\n",
       "    </tr>\n",
       "    <tr>\n",
       "      <th>2021-06-18 01:21:30</th>\n",
       "      <td>243.908000</td>\n",
       "      <td>243.908000</td>\n",
       "      <td>262.240000</td>\n",
       "      <td>1.410000</td>\n",
       "      <td>1.122000</td>\n",
       "      <td>2.508000</td>\n",
       "      <td>6.800000</td>\n",
       "      <td>1.262000</td>\n",
       "      <td>2.678000</td>\n",
       "      <td>44.080000</td>\n",
       "      <td>47.455000</td>\n",
       "      <td>40.560000</td>\n",
       "      <td>41.780000</td>\n",
       "      <td>43.000000</td>\n",
       "      <td>40.290000</td>\n",
       "      <td>119.744000</td>\n",
       "    </tr>\n",
       "    <tr>\n",
       "      <th>2021-06-21 19:43:00</th>\n",
       "      <td>243.866667</td>\n",
       "      <td>243.866667</td>\n",
       "      <td>248.206667</td>\n",
       "      <td>0.983333</td>\n",
       "      <td>0.910000</td>\n",
       "      <td>2.290000</td>\n",
       "      <td>5.083333</td>\n",
       "      <td>1.353333</td>\n",
       "      <td>2.223333</td>\n",
       "      <td>46.645000</td>\n",
       "      <td>49.085000</td>\n",
       "      <td>45.970000</td>\n",
       "      <td>45.700000</td>\n",
       "      <td>47.455000</td>\n",
       "      <td>48.270000</td>\n",
       "      <td>113.846667</td>\n",
       "    </tr>\n",
       "    <tr>\n",
       "      <th>2021-07-01 23:41:10</th>\n",
       "      <td>244.760000</td>\n",
       "      <td>244.760000</td>\n",
       "      <td>266.060000</td>\n",
       "      <td>0.816000</td>\n",
       "      <td>0.426667</td>\n",
       "      <td>0.149000</td>\n",
       "      <td>0.640000</td>\n",
       "      <td>1.203000</td>\n",
       "      <td>0.270000</td>\n",
       "      <td>49.895000</td>\n",
       "      <td>49.760000</td>\n",
       "      <td>37.680000</td>\n",
       "      <td>41.167500</td>\n",
       "      <td>39.345000</td>\n",
       "      <td>36.186000</td>\n",
       "      <td>152.590000</td>\n",
       "    </tr>\n",
       "    <tr>\n",
       "      <th>2021-09-17 14:14:30</th>\n",
       "      <td>247.005000</td>\n",
       "      <td>247.005000</td>\n",
       "      <td>274.508333</td>\n",
       "      <td>0.346667</td>\n",
       "      <td>1.013333</td>\n",
       "      <td>1.536667</td>\n",
       "      <td>3.618333</td>\n",
       "      <td>2.110000</td>\n",
       "      <td>1.923333</td>\n",
       "      <td>49.760000</td>\n",
       "      <td>44.620000</td>\n",
       "      <td>39.480000</td>\n",
       "      <td>40.290000</td>\n",
       "      <td>39.345000</td>\n",
       "      <td>33.260000</td>\n",
       "      <td>164.408333</td>\n",
       "    </tr>\n",
       "  </tbody>\n",
       "</table>\n",
       "<p>4755649 rows × 16 columns</p>\n",
       "</div>"
      ],
      "text/plain": [
       "                     ТОК РОТОРА 1  ТОК РОТОРА 2  ТОК СТАТОРА  \\\n",
       "DT                                                             \n",
       "2019-01-16 13:21:00    363.676667    363.676667   244.078000   \n",
       "2019-01-16 13:21:10    363.103333    363.103333   243.032500   \n",
       "2019-01-16 13:21:20    363.266667    363.266667   242.940000   \n",
       "2019-01-16 13:21:30    363.414372    363.414372   243.836802   \n",
       "2019-01-16 13:21:40    363.103333    363.103333   242.050000   \n",
       "...                           ...           ...          ...   \n",
       "2021-04-29 20:17:50    227.802000    227.802000   256.457000   \n",
       "2021-06-18 01:21:30    243.908000    243.908000   262.240000   \n",
       "2021-06-21 19:43:00    243.866667    243.866667   248.206667   \n",
       "2021-07-01 23:41:10    244.760000    244.760000   266.060000   \n",
       "2021-09-17 14:14:30    247.005000    247.005000   274.508333   \n",
       "\n",
       "                     ВИБРАЦИЯ НА ОПОРЕ 1  ВИБРАЦИЯ НА ОПОРЕ 2  \\\n",
       "DT                                                              \n",
       "2019-01-16 13:21:00             1.600000             0.760000   \n",
       "2019-01-16 13:21:10             1.572917             0.751736   \n",
       "2019-01-16 13:21:20             1.553819             0.735918   \n",
       "2019-01-16 13:21:30             1.546007             0.736979   \n",
       "2019-01-16 13:21:40             1.545139             0.742188   \n",
       "...                                  ...                  ...   \n",
       "2021-04-29 20:17:50             0.691667             0.422857   \n",
       "2021-06-18 01:21:30             1.410000             1.122000   \n",
       "2021-06-21 19:43:00             0.983333             0.910000   \n",
       "2021-07-01 23:41:10             0.816000             0.426667   \n",
       "2021-09-17 14:14:30             0.346667             1.013333   \n",
       "\n",
       "                     ВИБРАЦИЯ НА ОПОРЕ 3  ВИБРАЦИЯ НА ОПОРЕ 3. ПРОДОЛЬНАЯ  \\\n",
       "DT                                                                          \n",
       "2019-01-16 13:21:00             0.670000                         1.630000   \n",
       "2019-01-16 13:21:10             0.642361                         1.558160   \n",
       "2019-01-16 13:21:20             0.638503                         1.581790   \n",
       "2019-01-16 13:21:30             0.653646                         1.657986   \n",
       "2019-01-16 13:21:40             0.677083                         1.740000   \n",
       "...                                  ...                              ...   \n",
       "2021-04-29 20:17:50             0.824444                         1.900000   \n",
       "2021-06-18 01:21:30             2.508000                         6.800000   \n",
       "2021-06-21 19:43:00             2.290000                         5.083333   \n",
       "2021-07-01 23:41:10             0.149000                         0.640000   \n",
       "2021-09-17 14:14:30             1.536667                         3.618333   \n",
       "\n",
       "                     ВИБРАЦИЯ НА ОПОРЕ 4  ВИБРАЦИЯ НА ОПОРЕ 4. ПРОДОЛЬНАЯ  \\\n",
       "DT                                                                          \n",
       "2019-01-16 13:21:00             3.450000                         0.740000   \n",
       "2019-01-16 13:21:10             3.470000                         0.734375   \n",
       "2019-01-16 13:21:20             2.900000                         0.748457   \n",
       "2019-01-16 13:21:30             3.297743                         0.730903   \n",
       "2019-01-16 13:21:40             2.990000                         0.739583   \n",
       "...                                  ...                              ...   \n",
       "2021-04-29 20:17:50             0.802222                         0.810000   \n",
       "2021-06-18 01:21:30             1.262000                         2.678000   \n",
       "2021-06-21 19:43:00             1.353333                         2.223333   \n",
       "2021-07-01 23:41:10             1.203000                         0.270000   \n",
       "2021-09-17 14:14:30             2.110000                         1.923333   \n",
       "\n",
       "                     ТЕМПЕРАТУРА ПОДШИПНИКА НА ОПОРЕ 1  \\\n",
       "DT                                                       \n",
       "2019-01-16 13:21:00                          41.370000   \n",
       "2019-01-16 13:21:10                          41.374596   \n",
       "2019-01-16 13:21:20                          41.374596   \n",
       "2019-01-16 13:21:30                          41.374596   \n",
       "2019-01-16 13:21:40                          41.536849   \n",
       "...                                                ...   \n",
       "2021-04-29 20:17:50                          38.670000   \n",
       "2021-06-18 01:21:30                          44.080000   \n",
       "2021-06-21 19:43:00                          46.645000   \n",
       "2021-07-01 23:41:10                          49.895000   \n",
       "2021-09-17 14:14:30                          49.760000   \n",
       "\n",
       "                     ТЕМПЕРАТУРА ПОДШИПНИКА НА ОПОРЕ 2  \\\n",
       "DT                                                       \n",
       "2019-01-16 13:21:00                          39.750000   \n",
       "2019-01-16 13:21:10                          39.752083   \n",
       "2019-01-16 13:21:20                          39.752083   \n",
       "2019-01-16 13:21:30                          39.752083   \n",
       "2019-01-16 13:21:40                          39.752083   \n",
       "...                                                ...   \n",
       "2021-04-29 20:17:50                          36.915000   \n",
       "2021-06-18 01:21:30                          47.455000   \n",
       "2021-06-21 19:43:00                          49.085000   \n",
       "2021-07-01 23:41:10                          49.760000   \n",
       "2021-09-17 14:14:30                          44.620000   \n",
       "\n",
       "                     ТЕМПЕРАТУРА ПОДШИПНИКА НА ОПОРЕ 3  \\\n",
       "DT                                                       \n",
       "2019-01-16 13:21:00                          39.750000   \n",
       "2019-01-16 13:21:10                          39.995457   \n",
       "2019-01-16 13:21:20                          39.932360   \n",
       "2019-01-16 13:21:30                          39.833208   \n",
       "2019-01-16 13:21:40                          39.752083   \n",
       "...                                                ...   \n",
       "2021-04-29 20:17:50                          29.615000   \n",
       "2021-06-18 01:21:30                          40.560000   \n",
       "2021-06-21 19:43:00                          45.970000   \n",
       "2021-07-01 23:41:10                          37.680000   \n",
       "2021-09-17 14:14:30                          39.480000   \n",
       "\n",
       "                     ТЕМПЕРАТУРА ПОДШИПНИКА НА ОПОРЕ 4  \\\n",
       "DT                                                       \n",
       "2019-01-16 13:21:00                          44.538548   \n",
       "2019-01-16 13:21:10                          44.863054   \n",
       "2019-01-16 13:21:20                          44.799956   \n",
       "2019-01-16 13:21:30                          44.781928   \n",
       "2019-01-16 13:21:40                          43.810000   \n",
       "...                                                ...   \n",
       "2021-04-29 20:17:50                          32.045000   \n",
       "2021-06-18 01:21:30                          41.780000   \n",
       "2021-06-21 19:43:00                          45.700000   \n",
       "2021-07-01 23:41:10                          41.167500   \n",
       "2021-09-17 14:14:30                          40.290000   \n",
       "\n",
       "                     ТЕМПЕРАТУРА МАСЛА В МАСЛОБЛОКЕ  \\\n",
       "DT                                                    \n",
       "2019-01-16 13:21:00                       40.560000   \n",
       "2019-01-16 13:21:10                       40.401081   \n",
       "2019-01-16 13:21:20                       40.383053   \n",
       "2019-01-16 13:21:30                       40.563330   \n",
       "2019-01-16 13:21:40                       39.750000   \n",
       "...                                             ...   \n",
       "2021-04-29 20:17:50                       32.045000   \n",
       "2021-06-18 01:21:30                       43.000000   \n",
       "2021-06-21 19:43:00                       47.455000   \n",
       "2021-07-01 23:41:10                       39.345000   \n",
       "2021-09-17 14:14:30                       39.345000   \n",
       "\n",
       "                     ТЕМПЕРАТУРА МАСЛА В СИСТЕМЕ  ДАВЛЕНИЕ МАСЛА В СИСТЕМЕ  \n",
       "DT                                                                          \n",
       "2019-01-16 13:21:00                    33.260000                119.385000  \n",
       "2019-01-16 13:21:10                    33.343074                119.444440  \n",
       "2019-01-16 13:21:20                    33.261948                119.330000  \n",
       "2019-01-16 13:21:30                    33.586453                119.398146  \n",
       "2019-01-16 13:21:40                    33.505327                119.326667  \n",
       "...                                          ...                       ...  \n",
       "2021-04-29 20:17:50                    28.800000                143.218000  \n",
       "2021-06-18 01:21:30                    40.290000                119.744000  \n",
       "2021-06-21 19:43:00                    48.270000                113.846667  \n",
       "2021-07-01 23:41:10                    36.186000                152.590000  \n",
       "2021-09-17 14:14:30                    33.260000                164.408333  \n",
       "\n",
       "[4755649 rows x 16 columns]"
      ]
     },
     "execution_count": 3,
     "metadata": {},
     "output_type": "execute_result"
    }
   ],
   "source": [
    "import re\n",
    "\n",
    "def reduced(x):\n",
    "    answer = re.sub(r\"ЭКСГАУСТЕР\\s?\\n?№\\d+.\", \"\", x).strip()\n",
    "    answer = re.sub(r\"ЭКСГАУСТЕР\\s?\\n?\\d+.\", \"\", x).strip()\n",
    "    return answer\n",
    "\n",
    "\n",
    "if \"DT\" in X_train.columns:\n",
    "    X_train = X_train.set_index(\"DT\")\n",
    "for col in X_train.columns:\n",
    "    X_train = X_train.rename(columns={col: reduced(col).strip()})\n",
    "X_train = X_train[[\"ТОК РОТОРА 1\",\"ТОК РОТОРА 2\",\"ТОК СТАТОРА\",\n",
    "                   \"ВИБРАЦИЯ НА ОПОРЕ 1\",\"ВИБРАЦИЯ НА ОПОРЕ 2\",\n",
    "                   \"ВИБРАЦИЯ НА ОПОРЕ 3\",\"ВИБРАЦИЯ НА ОПОРЕ 3. ПРОДОЛЬНАЯ\",\n",
    "                   \"ВИБРАЦИЯ НА ОПОРЕ 4\",\"ВИБРАЦИЯ НА ОПОРЕ 4. ПРОДОЛЬНАЯ\",\n",
    "                   \"ТЕМПЕРАТУРА ПОДШИПНИКА НА ОПОРЕ 1\",\n",
    "                   \"ТЕМПЕРАТУРА ПОДШИПНИКА НА ОПОРЕ 2\",\n",
    "                   \"ТЕМПЕРАТУРА ПОДШИПНИКА НА ОПОРЕ 3\",\n",
    "                   \"ТЕМПЕРАТУРА ПОДШИПНИКА НА ОПОРЕ 4\",\n",
    "                   \"ТЕМПЕРАТУРА МАСЛА В МАСЛОБЛОКЕ\",\n",
    "                   \"ТЕМПЕРАТУРА МАСЛА В СИСТЕМЕ\",\n",
    "                   \"ДАВЛЕНИЕ МАСЛА В СИСТЕМЕ\"]]\n",
    "for i,x in enumerate(X_train.index.values):\n",
    "    X_train.index.values[i] = pd.Timestamp(X_train.index.values[i])\n",
    "X_train"
   ]
  },
  {
   "cell_type": "code",
   "execution_count": 4,
   "id": "81b01e9d",
   "metadata": {
    "execution": {
     "iopub.execute_input": "2023-05-28T20:49:03.986809Z",
     "iopub.status.busy": "2023-05-28T20:49:03.986126Z",
     "iopub.status.idle": "2023-05-28T20:49:48.138241Z",
     "shell.execute_reply": "2023-05-28T20:49:48.137121Z"
    },
    "papermill": {
     "duration": 44.169651,
     "end_time": "2023-05-28T20:49:48.148518",
     "exception": false,
     "start_time": "2023-05-28T20:49:03.978867",
     "status": "completed"
    },
    "tags": []
   },
   "outputs": [
    {
     "data": {
      "text/html": [
       "<div>\n",
       "<style scoped>\n",
       "    .dataframe tbody tr th:only-of-type {\n",
       "        vertical-align: middle;\n",
       "    }\n",
       "\n",
       "    .dataframe tbody tr th {\n",
       "        vertical-align: top;\n",
       "    }\n",
       "\n",
       "    .dataframe thead th {\n",
       "        text-align: right;\n",
       "    }\n",
       "</style>\n",
       "<table border=\"1\" class=\"dataframe\">\n",
       "  <thead>\n",
       "    <tr style=\"text-align: right;\">\n",
       "      <th></th>\n",
       "      <th>Y_ЭКСГАУСТЕР А/М №4_ЭЛЕКТРОДВИГАТЕЛЬ ДСПУ-140-84-4 ЭКСГ. №4</th>\n",
       "      <th>Y_ЭКСГАУСТЕР А/М №4_ПОДШИПНИК ОПОРНЫЙ ЭКСГ. №4</th>\n",
       "      <th>Y_ЭКСГАУСТЕР А/М №4_УЛИТА ЭКСГ. №4</th>\n",
       "      <th>Y_ЭКСГАУСТЕР А/М №4_РЕДУКТОР ГАЗ. ЗАДВИЖКИ ЭКСГ. №4</th>\n",
       "      <th>Y_ЭКСГАУСТЕР А/М №4_МАСЛОНАСОС РАБОЧИЙ ЭКСГ. №4</th>\n",
       "      <th>Y_ЭКСГАУСТЕР А/М №4_ЭЛЕКТРОАППАРАТУРА ЭКСГ. №4</th>\n",
       "      <th>Y_ЭКСГАУСТЕР А/М №4_ПОДШИПНИК ОПОРНЫЙ №2 ЭКСГ. №4</th>\n",
       "      <th>Y_ЭКСГАУСТЕР А/М №4_ЗАДВИЖКА ЭКСГ. №4</th>\n",
       "      <th>Y_ЭКСГАУСТЕР А/М №4_ГСМ ЭКСГ. №4</th>\n",
       "      <th>Y_ЭКСГАУСТЕР А/М №4_ВК 310С ВИБРОПРЕОБРАЗОВАТЕЛЬ ЭКСГ.№4 Т.1</th>\n",
       "      <th>...</th>\n",
       "      <th>Y_ЭКСГАУСТЕР А/М №4_ПОДШИПНИК ОПОРНО-УПОРНЫЙ ЭКСГ. №4</th>\n",
       "      <th>Y_ЭКСГАУСТЕР А/М №4_ЭКСГАУСТЕР А/М №4</th>\n",
       "      <th>Y_ЭКСГАУСТЕР А/М №4_ЗАП. И РЕГ. АРМАТУРА ЭКСГ.№4</th>\n",
       "      <th>Y_ЭКСГАУСТЕР А/М №4_ПОДШИПНИК ОПОРНЫЙ №1 ЭКСГ. №4</th>\n",
       "      <th>Y_ЭКСГАУСТЕР А/М №4_ЭЛ/ДВИГАТЕЛЬ ГАЗ. ЗАДВИЖКИ ЭКСГ. №4</th>\n",
       "      <th>Y_ЭКСГАУСТЕР А/М №4_КЛ1 ТР№4 ДО ЭД ЭКСГАУСТЕРА №4</th>\n",
       "      <th>Y_ЭКСГАУСТЕР А/М №4_КЛ2 ТР№4 ДО ЭД ЭКСГАУСТЕРА №4</th>\n",
       "      <th>Y_ЭКСГАУСТЕР А/М №4_ТР-Р ТМ-4000-10/6 ЭКСГ. №4</th>\n",
       "      <th>Y_ЭКСГАУСТЕР А/М №4_ТИРИСТ. ВОЗБУДИТЕЛЬ ВТ-РЭМ-400 ЭКСГ4 ВУ1</th>\n",
       "      <th>Y_ЭКСГАУСТЕР А/М №4_МАСЛОПРОВОДЫ ЭКСГ №4</th>\n",
       "    </tr>\n",
       "    <tr>\n",
       "      <th>DT</th>\n",
       "      <th></th>\n",
       "      <th></th>\n",
       "      <th></th>\n",
       "      <th></th>\n",
       "      <th></th>\n",
       "      <th></th>\n",
       "      <th></th>\n",
       "      <th></th>\n",
       "      <th></th>\n",
       "      <th></th>\n",
       "      <th></th>\n",
       "      <th></th>\n",
       "      <th></th>\n",
       "      <th></th>\n",
       "      <th></th>\n",
       "      <th></th>\n",
       "      <th></th>\n",
       "      <th></th>\n",
       "      <th></th>\n",
       "      <th></th>\n",
       "      <th></th>\n",
       "    </tr>\n",
       "  </thead>\n",
       "  <tbody>\n",
       "    <tr>\n",
       "      <th>2019-01-16 13:21:00</th>\n",
       "      <td>0.0</td>\n",
       "      <td>0.0</td>\n",
       "      <td>0.0</td>\n",
       "      <td>0.0</td>\n",
       "      <td>0.0</td>\n",
       "      <td>0.0</td>\n",
       "      <td>0.0</td>\n",
       "      <td>0.0</td>\n",
       "      <td>0.0</td>\n",
       "      <td>0.0</td>\n",
       "      <td>...</td>\n",
       "      <td>0.0</td>\n",
       "      <td>0.0</td>\n",
       "      <td>0.0</td>\n",
       "      <td>0.0</td>\n",
       "      <td>0.0</td>\n",
       "      <td>0.0</td>\n",
       "      <td>0.0</td>\n",
       "      <td>0.0</td>\n",
       "      <td>0.0</td>\n",
       "      <td>0.0</td>\n",
       "    </tr>\n",
       "    <tr>\n",
       "      <th>2019-01-16 13:21:10</th>\n",
       "      <td>0.0</td>\n",
       "      <td>0.0</td>\n",
       "      <td>0.0</td>\n",
       "      <td>0.0</td>\n",
       "      <td>0.0</td>\n",
       "      <td>0.0</td>\n",
       "      <td>0.0</td>\n",
       "      <td>0.0</td>\n",
       "      <td>0.0</td>\n",
       "      <td>0.0</td>\n",
       "      <td>...</td>\n",
       "      <td>0.0</td>\n",
       "      <td>0.0</td>\n",
       "      <td>0.0</td>\n",
       "      <td>0.0</td>\n",
       "      <td>0.0</td>\n",
       "      <td>0.0</td>\n",
       "      <td>0.0</td>\n",
       "      <td>0.0</td>\n",
       "      <td>0.0</td>\n",
       "      <td>0.0</td>\n",
       "    </tr>\n",
       "    <tr>\n",
       "      <th>2019-01-16 13:21:20</th>\n",
       "      <td>0.0</td>\n",
       "      <td>0.0</td>\n",
       "      <td>0.0</td>\n",
       "      <td>0.0</td>\n",
       "      <td>0.0</td>\n",
       "      <td>0.0</td>\n",
       "      <td>0.0</td>\n",
       "      <td>0.0</td>\n",
       "      <td>0.0</td>\n",
       "      <td>0.0</td>\n",
       "      <td>...</td>\n",
       "      <td>0.0</td>\n",
       "      <td>0.0</td>\n",
       "      <td>0.0</td>\n",
       "      <td>0.0</td>\n",
       "      <td>0.0</td>\n",
       "      <td>0.0</td>\n",
       "      <td>0.0</td>\n",
       "      <td>0.0</td>\n",
       "      <td>0.0</td>\n",
       "      <td>0.0</td>\n",
       "    </tr>\n",
       "    <tr>\n",
       "      <th>2019-01-16 13:21:30</th>\n",
       "      <td>0.0</td>\n",
       "      <td>0.0</td>\n",
       "      <td>0.0</td>\n",
       "      <td>0.0</td>\n",
       "      <td>0.0</td>\n",
       "      <td>0.0</td>\n",
       "      <td>0.0</td>\n",
       "      <td>0.0</td>\n",
       "      <td>0.0</td>\n",
       "      <td>0.0</td>\n",
       "      <td>...</td>\n",
       "      <td>0.0</td>\n",
       "      <td>0.0</td>\n",
       "      <td>0.0</td>\n",
       "      <td>0.0</td>\n",
       "      <td>0.0</td>\n",
       "      <td>0.0</td>\n",
       "      <td>0.0</td>\n",
       "      <td>0.0</td>\n",
       "      <td>0.0</td>\n",
       "      <td>0.0</td>\n",
       "    </tr>\n",
       "    <tr>\n",
       "      <th>2019-01-16 13:21:40</th>\n",
       "      <td>0.0</td>\n",
       "      <td>0.0</td>\n",
       "      <td>0.0</td>\n",
       "      <td>0.0</td>\n",
       "      <td>0.0</td>\n",
       "      <td>0.0</td>\n",
       "      <td>0.0</td>\n",
       "      <td>0.0</td>\n",
       "      <td>0.0</td>\n",
       "      <td>0.0</td>\n",
       "      <td>...</td>\n",
       "      <td>0.0</td>\n",
       "      <td>0.0</td>\n",
       "      <td>0.0</td>\n",
       "      <td>0.0</td>\n",
       "      <td>0.0</td>\n",
       "      <td>0.0</td>\n",
       "      <td>0.0</td>\n",
       "      <td>0.0</td>\n",
       "      <td>0.0</td>\n",
       "      <td>0.0</td>\n",
       "    </tr>\n",
       "    <tr>\n",
       "      <th>...</th>\n",
       "      <td>...</td>\n",
       "      <td>...</td>\n",
       "      <td>...</td>\n",
       "      <td>...</td>\n",
       "      <td>...</td>\n",
       "      <td>...</td>\n",
       "      <td>...</td>\n",
       "      <td>...</td>\n",
       "      <td>...</td>\n",
       "      <td>...</td>\n",
       "      <td>...</td>\n",
       "      <td>...</td>\n",
       "      <td>...</td>\n",
       "      <td>...</td>\n",
       "      <td>...</td>\n",
       "      <td>...</td>\n",
       "      <td>...</td>\n",
       "      <td>...</td>\n",
       "      <td>...</td>\n",
       "      <td>...</td>\n",
       "      <td>...</td>\n",
       "    </tr>\n",
       "    <tr>\n",
       "      <th>2021-12-31 23:59:10</th>\n",
       "      <td>2.0</td>\n",
       "      <td>2.0</td>\n",
       "      <td>2.0</td>\n",
       "      <td>0.0</td>\n",
       "      <td>0.0</td>\n",
       "      <td>0.0</td>\n",
       "      <td>0.0</td>\n",
       "      <td>2.0</td>\n",
       "      <td>2.0</td>\n",
       "      <td>0.0</td>\n",
       "      <td>...</td>\n",
       "      <td>2.0</td>\n",
       "      <td>0.0</td>\n",
       "      <td>0.0</td>\n",
       "      <td>0.0</td>\n",
       "      <td>0.0</td>\n",
       "      <td>2.0</td>\n",
       "      <td>2.0</td>\n",
       "      <td>2.0</td>\n",
       "      <td>0.0</td>\n",
       "      <td>0.0</td>\n",
       "    </tr>\n",
       "    <tr>\n",
       "      <th>2021-12-31 23:59:20</th>\n",
       "      <td>2.0</td>\n",
       "      <td>2.0</td>\n",
       "      <td>2.0</td>\n",
       "      <td>0.0</td>\n",
       "      <td>0.0</td>\n",
       "      <td>0.0</td>\n",
       "      <td>0.0</td>\n",
       "      <td>2.0</td>\n",
       "      <td>2.0</td>\n",
       "      <td>0.0</td>\n",
       "      <td>...</td>\n",
       "      <td>2.0</td>\n",
       "      <td>0.0</td>\n",
       "      <td>0.0</td>\n",
       "      <td>0.0</td>\n",
       "      <td>0.0</td>\n",
       "      <td>2.0</td>\n",
       "      <td>2.0</td>\n",
       "      <td>2.0</td>\n",
       "      <td>0.0</td>\n",
       "      <td>0.0</td>\n",
       "    </tr>\n",
       "    <tr>\n",
       "      <th>2021-12-31 23:59:30</th>\n",
       "      <td>2.0</td>\n",
       "      <td>2.0</td>\n",
       "      <td>2.0</td>\n",
       "      <td>0.0</td>\n",
       "      <td>0.0</td>\n",
       "      <td>0.0</td>\n",
       "      <td>0.0</td>\n",
       "      <td>2.0</td>\n",
       "      <td>2.0</td>\n",
       "      <td>0.0</td>\n",
       "      <td>...</td>\n",
       "      <td>2.0</td>\n",
       "      <td>0.0</td>\n",
       "      <td>0.0</td>\n",
       "      <td>0.0</td>\n",
       "      <td>0.0</td>\n",
       "      <td>2.0</td>\n",
       "      <td>2.0</td>\n",
       "      <td>2.0</td>\n",
       "      <td>0.0</td>\n",
       "      <td>0.0</td>\n",
       "    </tr>\n",
       "    <tr>\n",
       "      <th>2021-12-31 23:59:40</th>\n",
       "      <td>2.0</td>\n",
       "      <td>2.0</td>\n",
       "      <td>2.0</td>\n",
       "      <td>0.0</td>\n",
       "      <td>0.0</td>\n",
       "      <td>0.0</td>\n",
       "      <td>0.0</td>\n",
       "      <td>2.0</td>\n",
       "      <td>2.0</td>\n",
       "      <td>0.0</td>\n",
       "      <td>...</td>\n",
       "      <td>2.0</td>\n",
       "      <td>0.0</td>\n",
       "      <td>0.0</td>\n",
       "      <td>0.0</td>\n",
       "      <td>0.0</td>\n",
       "      <td>2.0</td>\n",
       "      <td>2.0</td>\n",
       "      <td>2.0</td>\n",
       "      <td>0.0</td>\n",
       "      <td>0.0</td>\n",
       "    </tr>\n",
       "    <tr>\n",
       "      <th>2021-12-31 23:59:50</th>\n",
       "      <td>2.0</td>\n",
       "      <td>2.0</td>\n",
       "      <td>2.0</td>\n",
       "      <td>0.0</td>\n",
       "      <td>0.0</td>\n",
       "      <td>0.0</td>\n",
       "      <td>0.0</td>\n",
       "      <td>2.0</td>\n",
       "      <td>2.0</td>\n",
       "      <td>0.0</td>\n",
       "      <td>...</td>\n",
       "      <td>2.0</td>\n",
       "      <td>0.0</td>\n",
       "      <td>0.0</td>\n",
       "      <td>0.0</td>\n",
       "      <td>0.0</td>\n",
       "      <td>2.0</td>\n",
       "      <td>2.0</td>\n",
       "      <td>2.0</td>\n",
       "      <td>0.0</td>\n",
       "      <td>0.0</td>\n",
       "    </tr>\n",
       "  </tbody>\n",
       "</table>\n",
       "<p>9335034 rows × 23 columns</p>\n",
       "</div>"
      ],
      "text/plain": [
       "                     Y_ЭКСГАУСТЕР А/М №4_ЭЛЕКТРОДВИГАТЕЛЬ ДСПУ-140-84-4 ЭКСГ. №4  \\\n",
       "DT                                                                                 \n",
       "2019-01-16 13:21:00                                                0.0             \n",
       "2019-01-16 13:21:10                                                0.0             \n",
       "2019-01-16 13:21:20                                                0.0             \n",
       "2019-01-16 13:21:30                                                0.0             \n",
       "2019-01-16 13:21:40                                                0.0             \n",
       "...                                                                ...             \n",
       "2021-12-31 23:59:10                                                2.0             \n",
       "2021-12-31 23:59:20                                                2.0             \n",
       "2021-12-31 23:59:30                                                2.0             \n",
       "2021-12-31 23:59:40                                                2.0             \n",
       "2021-12-31 23:59:50                                                2.0             \n",
       "\n",
       "                     Y_ЭКСГАУСТЕР А/М №4_ПОДШИПНИК ОПОРНЫЙ ЭКСГ. №4  \\\n",
       "DT                                                                    \n",
       "2019-01-16 13:21:00                                             0.0   \n",
       "2019-01-16 13:21:10                                             0.0   \n",
       "2019-01-16 13:21:20                                             0.0   \n",
       "2019-01-16 13:21:30                                             0.0   \n",
       "2019-01-16 13:21:40                                             0.0   \n",
       "...                                                             ...   \n",
       "2021-12-31 23:59:10                                             2.0   \n",
       "2021-12-31 23:59:20                                             2.0   \n",
       "2021-12-31 23:59:30                                             2.0   \n",
       "2021-12-31 23:59:40                                             2.0   \n",
       "2021-12-31 23:59:50                                             2.0   \n",
       "\n",
       "                     Y_ЭКСГАУСТЕР А/М №4_УЛИТА ЭКСГ. №4  \\\n",
       "DT                                                        \n",
       "2019-01-16 13:21:00                                 0.0   \n",
       "2019-01-16 13:21:10                                 0.0   \n",
       "2019-01-16 13:21:20                                 0.0   \n",
       "2019-01-16 13:21:30                                 0.0   \n",
       "2019-01-16 13:21:40                                 0.0   \n",
       "...                                                 ...   \n",
       "2021-12-31 23:59:10                                 2.0   \n",
       "2021-12-31 23:59:20                                 2.0   \n",
       "2021-12-31 23:59:30                                 2.0   \n",
       "2021-12-31 23:59:40                                 2.0   \n",
       "2021-12-31 23:59:50                                 2.0   \n",
       "\n",
       "                     Y_ЭКСГАУСТЕР А/М №4_РЕДУКТОР ГАЗ. ЗАДВИЖКИ ЭКСГ. №4  \\\n",
       "DT                                                                         \n",
       "2019-01-16 13:21:00                                                0.0     \n",
       "2019-01-16 13:21:10                                                0.0     \n",
       "2019-01-16 13:21:20                                                0.0     \n",
       "2019-01-16 13:21:30                                                0.0     \n",
       "2019-01-16 13:21:40                                                0.0     \n",
       "...                                                                ...     \n",
       "2021-12-31 23:59:10                                                0.0     \n",
       "2021-12-31 23:59:20                                                0.0     \n",
       "2021-12-31 23:59:30                                                0.0     \n",
       "2021-12-31 23:59:40                                                0.0     \n",
       "2021-12-31 23:59:50                                                0.0     \n",
       "\n",
       "                     Y_ЭКСГАУСТЕР А/М №4_МАСЛОНАСОС РАБОЧИЙ ЭКСГ. №4  \\\n",
       "DT                                                                     \n",
       "2019-01-16 13:21:00                                              0.0   \n",
       "2019-01-16 13:21:10                                              0.0   \n",
       "2019-01-16 13:21:20                                              0.0   \n",
       "2019-01-16 13:21:30                                              0.0   \n",
       "2019-01-16 13:21:40                                              0.0   \n",
       "...                                                              ...   \n",
       "2021-12-31 23:59:10                                              0.0   \n",
       "2021-12-31 23:59:20                                              0.0   \n",
       "2021-12-31 23:59:30                                              0.0   \n",
       "2021-12-31 23:59:40                                              0.0   \n",
       "2021-12-31 23:59:50                                              0.0   \n",
       "\n",
       "                     Y_ЭКСГАУСТЕР А/М №4_ЭЛЕКТРОАППАРАТУРА ЭКСГ. №4  \\\n",
       "DT                                                                    \n",
       "2019-01-16 13:21:00                                             0.0   \n",
       "2019-01-16 13:21:10                                             0.0   \n",
       "2019-01-16 13:21:20                                             0.0   \n",
       "2019-01-16 13:21:30                                             0.0   \n",
       "2019-01-16 13:21:40                                             0.0   \n",
       "...                                                             ...   \n",
       "2021-12-31 23:59:10                                             0.0   \n",
       "2021-12-31 23:59:20                                             0.0   \n",
       "2021-12-31 23:59:30                                             0.0   \n",
       "2021-12-31 23:59:40                                             0.0   \n",
       "2021-12-31 23:59:50                                             0.0   \n",
       "\n",
       "                     Y_ЭКСГАУСТЕР А/М №4_ПОДШИПНИК ОПОРНЫЙ №2 ЭКСГ. №4  \\\n",
       "DT                                                                       \n",
       "2019-01-16 13:21:00                                                0.0   \n",
       "2019-01-16 13:21:10                                                0.0   \n",
       "2019-01-16 13:21:20                                                0.0   \n",
       "2019-01-16 13:21:30                                                0.0   \n",
       "2019-01-16 13:21:40                                                0.0   \n",
       "...                                                                ...   \n",
       "2021-12-31 23:59:10                                                0.0   \n",
       "2021-12-31 23:59:20                                                0.0   \n",
       "2021-12-31 23:59:30                                                0.0   \n",
       "2021-12-31 23:59:40                                                0.0   \n",
       "2021-12-31 23:59:50                                                0.0   \n",
       "\n",
       "                     Y_ЭКСГАУСТЕР А/М №4_ЗАДВИЖКА ЭКСГ. №4  \\\n",
       "DT                                                           \n",
       "2019-01-16 13:21:00                                    0.0   \n",
       "2019-01-16 13:21:10                                    0.0   \n",
       "2019-01-16 13:21:20                                    0.0   \n",
       "2019-01-16 13:21:30                                    0.0   \n",
       "2019-01-16 13:21:40                                    0.0   \n",
       "...                                                    ...   \n",
       "2021-12-31 23:59:10                                    2.0   \n",
       "2021-12-31 23:59:20                                    2.0   \n",
       "2021-12-31 23:59:30                                    2.0   \n",
       "2021-12-31 23:59:40                                    2.0   \n",
       "2021-12-31 23:59:50                                    2.0   \n",
       "\n",
       "                     Y_ЭКСГАУСТЕР А/М №4_ГСМ ЭКСГ. №4  \\\n",
       "DT                                                      \n",
       "2019-01-16 13:21:00                               0.0   \n",
       "2019-01-16 13:21:10                               0.0   \n",
       "2019-01-16 13:21:20                               0.0   \n",
       "2019-01-16 13:21:30                               0.0   \n",
       "2019-01-16 13:21:40                               0.0   \n",
       "...                                               ...   \n",
       "2021-12-31 23:59:10                               2.0   \n",
       "2021-12-31 23:59:20                               2.0   \n",
       "2021-12-31 23:59:30                               2.0   \n",
       "2021-12-31 23:59:40                               2.0   \n",
       "2021-12-31 23:59:50                               2.0   \n",
       "\n",
       "                     Y_ЭКСГАУСТЕР А/М №4_ВК 310С ВИБРОПРЕОБРАЗОВАТЕЛЬ ЭКСГ.№4 Т.1  \\\n",
       "DT                                                                                  \n",
       "2019-01-16 13:21:00                                                0.0              \n",
       "2019-01-16 13:21:10                                                0.0              \n",
       "2019-01-16 13:21:20                                                0.0              \n",
       "2019-01-16 13:21:30                                                0.0              \n",
       "2019-01-16 13:21:40                                                0.0              \n",
       "...                                                                ...              \n",
       "2021-12-31 23:59:10                                                0.0              \n",
       "2021-12-31 23:59:20                                                0.0              \n",
       "2021-12-31 23:59:30                                                0.0              \n",
       "2021-12-31 23:59:40                                                0.0              \n",
       "2021-12-31 23:59:50                                                0.0              \n",
       "\n",
       "                     ...  \\\n",
       "DT                   ...   \n",
       "2019-01-16 13:21:00  ...   \n",
       "2019-01-16 13:21:10  ...   \n",
       "2019-01-16 13:21:20  ...   \n",
       "2019-01-16 13:21:30  ...   \n",
       "2019-01-16 13:21:40  ...   \n",
       "...                  ...   \n",
       "2021-12-31 23:59:10  ...   \n",
       "2021-12-31 23:59:20  ...   \n",
       "2021-12-31 23:59:30  ...   \n",
       "2021-12-31 23:59:40  ...   \n",
       "2021-12-31 23:59:50  ...   \n",
       "\n",
       "                     Y_ЭКСГАУСТЕР А/М №4_ПОДШИПНИК ОПОРНО-УПОРНЫЙ ЭКСГ. №4  \\\n",
       "DT                                                                           \n",
       "2019-01-16 13:21:00                                                0.0       \n",
       "2019-01-16 13:21:10                                                0.0       \n",
       "2019-01-16 13:21:20                                                0.0       \n",
       "2019-01-16 13:21:30                                                0.0       \n",
       "2019-01-16 13:21:40                                                0.0       \n",
       "...                                                                ...       \n",
       "2021-12-31 23:59:10                                                2.0       \n",
       "2021-12-31 23:59:20                                                2.0       \n",
       "2021-12-31 23:59:30                                                2.0       \n",
       "2021-12-31 23:59:40                                                2.0       \n",
       "2021-12-31 23:59:50                                                2.0       \n",
       "\n",
       "                     Y_ЭКСГАУСТЕР А/М №4_ЭКСГАУСТЕР А/М №4  \\\n",
       "DT                                                           \n",
       "2019-01-16 13:21:00                                    0.0   \n",
       "2019-01-16 13:21:10                                    0.0   \n",
       "2019-01-16 13:21:20                                    0.0   \n",
       "2019-01-16 13:21:30                                    0.0   \n",
       "2019-01-16 13:21:40                                    0.0   \n",
       "...                                                    ...   \n",
       "2021-12-31 23:59:10                                    0.0   \n",
       "2021-12-31 23:59:20                                    0.0   \n",
       "2021-12-31 23:59:30                                    0.0   \n",
       "2021-12-31 23:59:40                                    0.0   \n",
       "2021-12-31 23:59:50                                    0.0   \n",
       "\n",
       "                     Y_ЭКСГАУСТЕР А/М №4_ЗАП. И РЕГ. АРМАТУРА ЭКСГ.№4  \\\n",
       "DT                                                                      \n",
       "2019-01-16 13:21:00                                               0.0   \n",
       "2019-01-16 13:21:10                                               0.0   \n",
       "2019-01-16 13:21:20                                               0.0   \n",
       "2019-01-16 13:21:30                                               0.0   \n",
       "2019-01-16 13:21:40                                               0.0   \n",
       "...                                                               ...   \n",
       "2021-12-31 23:59:10                                               0.0   \n",
       "2021-12-31 23:59:20                                               0.0   \n",
       "2021-12-31 23:59:30                                               0.0   \n",
       "2021-12-31 23:59:40                                               0.0   \n",
       "2021-12-31 23:59:50                                               0.0   \n",
       "\n",
       "                     Y_ЭКСГАУСТЕР А/М №4_ПОДШИПНИК ОПОРНЫЙ №1 ЭКСГ. №4  \\\n",
       "DT                                                                       \n",
       "2019-01-16 13:21:00                                                0.0   \n",
       "2019-01-16 13:21:10                                                0.0   \n",
       "2019-01-16 13:21:20                                                0.0   \n",
       "2019-01-16 13:21:30                                                0.0   \n",
       "2019-01-16 13:21:40                                                0.0   \n",
       "...                                                                ...   \n",
       "2021-12-31 23:59:10                                                0.0   \n",
       "2021-12-31 23:59:20                                                0.0   \n",
       "2021-12-31 23:59:30                                                0.0   \n",
       "2021-12-31 23:59:40                                                0.0   \n",
       "2021-12-31 23:59:50                                                0.0   \n",
       "\n",
       "                     Y_ЭКСГАУСТЕР А/М №4_ЭЛ/ДВИГАТЕЛЬ ГАЗ. ЗАДВИЖКИ ЭКСГ. №4  \\\n",
       "DT                                                                             \n",
       "2019-01-16 13:21:00                                                0.0         \n",
       "2019-01-16 13:21:10                                                0.0         \n",
       "2019-01-16 13:21:20                                                0.0         \n",
       "2019-01-16 13:21:30                                                0.0         \n",
       "2019-01-16 13:21:40                                                0.0         \n",
       "...                                                                ...         \n",
       "2021-12-31 23:59:10                                                0.0         \n",
       "2021-12-31 23:59:20                                                0.0         \n",
       "2021-12-31 23:59:30                                                0.0         \n",
       "2021-12-31 23:59:40                                                0.0         \n",
       "2021-12-31 23:59:50                                                0.0         \n",
       "\n",
       "                     Y_ЭКСГАУСТЕР А/М №4_КЛ1 ТР№4 ДО ЭД ЭКСГАУСТЕРА №4  \\\n",
       "DT                                                                       \n",
       "2019-01-16 13:21:00                                                0.0   \n",
       "2019-01-16 13:21:10                                                0.0   \n",
       "2019-01-16 13:21:20                                                0.0   \n",
       "2019-01-16 13:21:30                                                0.0   \n",
       "2019-01-16 13:21:40                                                0.0   \n",
       "...                                                                ...   \n",
       "2021-12-31 23:59:10                                                2.0   \n",
       "2021-12-31 23:59:20                                                2.0   \n",
       "2021-12-31 23:59:30                                                2.0   \n",
       "2021-12-31 23:59:40                                                2.0   \n",
       "2021-12-31 23:59:50                                                2.0   \n",
       "\n",
       "                     Y_ЭКСГАУСТЕР А/М №4_КЛ2 ТР№4 ДО ЭД ЭКСГАУСТЕРА №4  \\\n",
       "DT                                                                       \n",
       "2019-01-16 13:21:00                                                0.0   \n",
       "2019-01-16 13:21:10                                                0.0   \n",
       "2019-01-16 13:21:20                                                0.0   \n",
       "2019-01-16 13:21:30                                                0.0   \n",
       "2019-01-16 13:21:40                                                0.0   \n",
       "...                                                                ...   \n",
       "2021-12-31 23:59:10                                                2.0   \n",
       "2021-12-31 23:59:20                                                2.0   \n",
       "2021-12-31 23:59:30                                                2.0   \n",
       "2021-12-31 23:59:40                                                2.0   \n",
       "2021-12-31 23:59:50                                                2.0   \n",
       "\n",
       "                     Y_ЭКСГАУСТЕР А/М №4_ТР-Р ТМ-4000-10/6 ЭКСГ. №4  \\\n",
       "DT                                                                    \n",
       "2019-01-16 13:21:00                                             0.0   \n",
       "2019-01-16 13:21:10                                             0.0   \n",
       "2019-01-16 13:21:20                                             0.0   \n",
       "2019-01-16 13:21:30                                             0.0   \n",
       "2019-01-16 13:21:40                                             0.0   \n",
       "...                                                             ...   \n",
       "2021-12-31 23:59:10                                             2.0   \n",
       "2021-12-31 23:59:20                                             2.0   \n",
       "2021-12-31 23:59:30                                             2.0   \n",
       "2021-12-31 23:59:40                                             2.0   \n",
       "2021-12-31 23:59:50                                             2.0   \n",
       "\n",
       "                     Y_ЭКСГАУСТЕР А/М №4_ТИРИСТ. ВОЗБУДИТЕЛЬ ВТ-РЭМ-400 ЭКСГ4 ВУ1  \\\n",
       "DT                                                                                  \n",
       "2019-01-16 13:21:00                                                0.0              \n",
       "2019-01-16 13:21:10                                                0.0              \n",
       "2019-01-16 13:21:20                                                0.0              \n",
       "2019-01-16 13:21:30                                                0.0              \n",
       "2019-01-16 13:21:40                                                0.0              \n",
       "...                                                                ...              \n",
       "2021-12-31 23:59:10                                                0.0              \n",
       "2021-12-31 23:59:20                                                0.0              \n",
       "2021-12-31 23:59:30                                                0.0              \n",
       "2021-12-31 23:59:40                                                0.0              \n",
       "2021-12-31 23:59:50                                                0.0              \n",
       "\n",
       "                     Y_ЭКСГАУСТЕР А/М №4_МАСЛОПРОВОДЫ ЭКСГ №4  \n",
       "DT                                                             \n",
       "2019-01-16 13:21:00                                       0.0  \n",
       "2019-01-16 13:21:10                                       0.0  \n",
       "2019-01-16 13:21:20                                       0.0  \n",
       "2019-01-16 13:21:30                                       0.0  \n",
       "2019-01-16 13:21:40                                       0.0  \n",
       "...                                                       ...  \n",
       "2021-12-31 23:59:10                                       0.0  \n",
       "2021-12-31 23:59:20                                       0.0  \n",
       "2021-12-31 23:59:30                                       0.0  \n",
       "2021-12-31 23:59:40                                       0.0  \n",
       "2021-12-31 23:59:50                                       0.0  \n",
       "\n",
       "[9335034 rows x 23 columns]"
      ]
     },
     "execution_count": 4,
     "metadata": {},
     "output_type": "execute_result"
    }
   ],
   "source": [
    "y_train = pd.read_csv(\"/kaggle/input/y-train-northsteel-instances/y_ЭКСГАУСТЕР АМ 4.csv\", parse_dates=True)\n",
    "y_train = y_train.set_index(\"DT\")\n",
    "y_train"
   ]
  },
  {
   "cell_type": "code",
   "execution_count": 5,
   "id": "51d682cf",
   "metadata": {
    "execution": {
     "iopub.execute_input": "2023-05-28T20:49:48.164168Z",
     "iopub.status.busy": "2023-05-28T20:49:48.163789Z",
     "iopub.status.idle": "2023-05-28T20:49:53.661381Z",
     "shell.execute_reply": "2023-05-28T20:49:53.659809Z"
    },
    "papermill": {
     "duration": 5.508743,
     "end_time": "2023-05-28T20:49:53.664318",
     "exception": false,
     "start_time": "2023-05-28T20:49:48.155575",
     "status": "completed"
    },
    "tags": []
   },
   "outputs": [
    {
     "name": "stdout",
     "output_type": "stream",
     "text": [
      "Y_ЭКСГАУСТЕР А/М №4_ЭЛЕКТРОДВИГАТЕЛЬ ДСПУ-140-84-4 ЭКСГ. №4 M1 [0 1]\n",
      "Y_ЭКСГАУСТЕР А/М №4_ЭЛЕКТРОДВИГАТЕЛЬ ДСПУ-140-84-4 ЭКСГ. №4 M3 [0 1]\n",
      "Y_ЭКСГАУСТЕР А/М №4_ПОДШИПНИК ОПОРНЫЙ ЭКСГ. №4 M1 [0]\n",
      "Y_ЭКСГАУСТЕР А/М №4_ПОДШИПНИК ОПОРНЫЙ ЭКСГ. №4 M3 [0 1]\n",
      "Y_ЭКСГАУСТЕР А/М №4_УЛИТА ЭКСГ. №4 M1 [0]\n",
      "Y_ЭКСГАУСТЕР А/М №4_УЛИТА ЭКСГ. №4 M3 [0 1]\n",
      "Y_ЭКСГАУСТЕР А/М №4_РЕДУКТОР ГАЗ. ЗАДВИЖКИ ЭКСГ. №4 M1 [0 1]\n",
      "Y_ЭКСГАУСТЕР А/М №4_РЕДУКТОР ГАЗ. ЗАДВИЖКИ ЭКСГ. №4 M3 [0 1]\n",
      "Y_ЭКСГАУСТЕР А/М №4_МАСЛОНАСОС РАБОЧИЙ ЭКСГ. №4 M1 [0]\n",
      "Y_ЭКСГАУСТЕР А/М №4_МАСЛОНАСОС РАБОЧИЙ ЭКСГ. №4 M3 [0 1]\n",
      "Y_ЭКСГАУСТЕР А/М №4_ЭЛЕКТРОАППАРАТУРА ЭКСГ. №4 M1 [0 1]\n",
      "Y_ЭКСГАУСТЕР А/М №4_ЭЛЕКТРОАППАРАТУРА ЭКСГ. №4 M3 [0 1]\n",
      "Y_ЭКСГАУСТЕР А/М №4_ПОДШИПНИК ОПОРНЫЙ №2 ЭКСГ. №4 M1 [0 1]\n",
      "Y_ЭКСГАУСТЕР А/М №4_ПОДШИПНИК ОПОРНЫЙ №2 ЭКСГ. №4 M3 [0 1]\n",
      "Y_ЭКСГАУСТЕР А/М №4_ЗАДВИЖКА ЭКСГ. №4 M1 [0 1]\n",
      "Y_ЭКСГАУСТЕР А/М №4_ЗАДВИЖКА ЭКСГ. №4 M3 [0 1]\n",
      "Y_ЭКСГАУСТЕР А/М №4_ГСМ ЭКСГ. №4 M1 [0]\n",
      "Y_ЭКСГАУСТЕР А/М №4_ГСМ ЭКСГ. №4 M3 [0 1]\n",
      "Y_ЭКСГАУСТЕР А/М №4_ВК 310С ВИБРОПРЕОБРАЗОВАТЕЛЬ ЭКСГ.№4 Т.1 M1 [0]\n",
      "Y_ЭКСГАУСТЕР А/М №4_ВК 310С ВИБРОПРЕОБРАЗОВАТЕЛЬ ЭКСГ.№4 Т.1 M3 [0 1]\n",
      "Y_ЭКСГАУСТЕР А/М №4_ТСМТ-101-010-50М-400 ТЕРМОПР.ПОДШ.Т.1 M1 [0]\n",
      "Y_ЭКСГАУСТЕР А/М №4_ТСМТ-101-010-50М-400 ТЕРМОПР.ПОДШ.Т.1 M3 [0 1]\n",
      "Y_ЭКСГАУСТЕР А/М №4_РОТОР ЭКСГ. №4 M1 [0 1]\n",
      "Y_ЭКСГАУСТЕР А/М №4_РОТОР ЭКСГ. №4 M3 [0 1]\n",
      "Y_ЭКСГАУСТЕР А/М №4_МАСЛООХЛАДИТЕЛЬ  М-05-1 ЭКСГ. №4 M1 [0]\n",
      "Y_ЭКСГАУСТЕР А/М №4_МАСЛООХЛАДИТЕЛЬ  М-05-1 ЭКСГ. №4 M3 [0 1]\n",
      "Y_ЭКСГАУСТЕР А/М №4_ПОДШИПНИК ОПОРНО-УПОРНЫЙ ЭКСГ. №4 M1 [0 1]\n",
      "Y_ЭКСГАУСТЕР А/М №4_ПОДШИПНИК ОПОРНО-УПОРНЫЙ ЭКСГ. №4 M3 [0 1]\n",
      "Y_ЭКСГАУСТЕР А/М №4_ЭКСГАУСТЕР А/М №4 M1 [0 1]\n",
      "Y_ЭКСГАУСТЕР А/М №4_ЭКСГАУСТЕР А/М №4 M3 [0]\n",
      "Y_ЭКСГАУСТЕР А/М №4_ЗАП. И РЕГ. АРМАТУРА ЭКСГ.№4 M1 [0]\n",
      "Y_ЭКСГАУСТЕР А/М №4_ЗАП. И РЕГ. АРМАТУРА ЭКСГ.№4 M3 [0 1]\n",
      "Y_ЭКСГАУСТЕР А/М №4_ПОДШИПНИК ОПОРНЫЙ №1 ЭКСГ. №4 M1 [0]\n",
      "Y_ЭКСГАУСТЕР А/М №4_ПОДШИПНИК ОПОРНЫЙ №1 ЭКСГ. №4 M3 [0 1]\n",
      "Y_ЭКСГАУСТЕР А/М №4_ЭЛ/ДВИГАТЕЛЬ ГАЗ. ЗАДВИЖКИ ЭКСГ. №4 M1 [0]\n",
      "Y_ЭКСГАУСТЕР А/М №4_ЭЛ/ДВИГАТЕЛЬ ГАЗ. ЗАДВИЖКИ ЭКСГ. №4 M3 [0 1]\n",
      "Y_ЭКСГАУСТЕР А/М №4_КЛ1 ТР№4 ДО ЭД ЭКСГАУСТЕРА №4 M1 [0]\n",
      "Y_ЭКСГАУСТЕР А/М №4_КЛ1 ТР№4 ДО ЭД ЭКСГАУСТЕРА №4 M3 [0 1]\n",
      "Y_ЭКСГАУСТЕР А/М №4_КЛ2 ТР№4 ДО ЭД ЭКСГАУСТЕРА №4 M1 [0]\n",
      "Y_ЭКСГАУСТЕР А/М №4_КЛ2 ТР№4 ДО ЭД ЭКСГАУСТЕРА №4 M3 [0 1]\n",
      "Y_ЭКСГАУСТЕР А/М №4_ТР-Р ТМ-4000-10/6 ЭКСГ. №4 M1 [0]\n",
      "Y_ЭКСГАУСТЕР А/М №4_ТР-Р ТМ-4000-10/6 ЭКСГ. №4 M3 [0 1]\n",
      "Y_ЭКСГАУСТЕР А/М №4_ТИРИСТ. ВОЗБУДИТЕЛЬ ВТ-РЭМ-400 ЭКСГ4 ВУ1 M1 [0]\n",
      "Y_ЭКСГАУСТЕР А/М №4_ТИРИСТ. ВОЗБУДИТЕЛЬ ВТ-РЭМ-400 ЭКСГ4 ВУ1 M3 [0 1]\n",
      "Y_ЭКСГАУСТЕР А/М №4_МАСЛОПРОВОДЫ ЭКСГ №4 M1 [0]\n",
      "Y_ЭКСГАУСТЕР А/М №4_МАСЛОПРОВОДЫ ЭКСГ №4 M3 [0]\n"
     ]
    }
   ],
   "source": [
    "for col in y_train.columns:\n",
    "    if not ((col[-2:] == \"M1\") or (col[-2:] ==\"M3\")):\n",
    "        y_train[col+\" M1\"] = 1*(y_train[col]==1)\n",
    "        y_train[col+\" M3\"] = 1*(y_train[col]==2)\n",
    "        del y_train[col]\n",
    "for col in y_train.columns:\n",
    "    print(col, y_train[col].unique())"
   ]
  },
  {
   "cell_type": "code",
   "execution_count": 6,
   "id": "e1a8485b",
   "metadata": {
    "execution": {
     "iopub.execute_input": "2023-05-28T20:49:53.687301Z",
     "iopub.status.busy": "2023-05-28T20:49:53.686820Z",
     "iopub.status.idle": "2023-05-28T20:51:07.687138Z",
     "shell.execute_reply": "2023-05-28T20:51:07.685814Z"
    },
    "papermill": {
     "duration": 74.028148,
     "end_time": "2023-05-28T20:51:07.703042",
     "exception": false,
     "start_time": "2023-05-28T20:49:53.674894",
     "status": "completed"
    },
    "tags": []
   },
   "outputs": [
    {
     "data": {
      "text/plain": [
       "array([Timestamp('2019-01-16 13:21:00'), Timestamp('2019-01-16 13:21:10'),\n",
       "       Timestamp('2019-01-16 13:21:20'), ...,\n",
       "       Timestamp('2021-12-31 23:59:30'), Timestamp('2021-12-31 23:59:40'),\n",
       "       Timestamp('2021-12-31 23:59:50')], dtype=object)"
      ]
     },
     "execution_count": 6,
     "metadata": {},
     "output_type": "execute_result"
    }
   ],
   "source": [
    "for i,x in enumerate(y_train.index.values):\n",
    "    y_train.index.values[i] = pd.Timestamp(y_train.index.values[i])\n",
    "y_train.index.values"
   ]
  },
  {
   "cell_type": "code",
   "execution_count": 7,
   "id": "d0731d00",
   "metadata": {
    "execution": {
     "iopub.execute_input": "2023-05-28T20:51:07.722524Z",
     "iopub.status.busy": "2023-05-28T20:51:07.721561Z",
     "iopub.status.idle": "2023-05-28T20:52:25.552822Z",
     "shell.execute_reply": "2023-05-28T20:52:25.551652Z"
    },
    "papermill": {
     "duration": 77.844132,
     "end_time": "2023-05-28T20:52:25.555655",
     "exception": false,
     "start_time": "2023-05-28T20:51:07.711523",
     "status": "completed"
    },
    "tags": []
   },
   "outputs": [],
   "source": [
    "shifted = y_train.index.values+pd.Timedelta(minutes = 120)"
   ]
  },
  {
   "cell_type": "code",
   "execution_count": 8,
   "id": "bea4b585",
   "metadata": {
    "execution": {
     "iopub.execute_input": "2023-05-28T20:52:25.574162Z",
     "iopub.status.busy": "2023-05-28T20:52:25.573779Z",
     "iopub.status.idle": "2023-05-28T20:55:39.080147Z",
     "shell.execute_reply": "2023-05-28T20:55:39.079070Z"
    },
    "papermill": {
     "duration": 193.519178,
     "end_time": "2023-05-28T20:55:39.083026",
     "exception": false,
     "start_time": "2023-05-28T20:52:25.563848",
     "status": "completed"
    },
    "tags": []
   },
   "outputs": [],
   "source": [
    "\n",
    "index = sorted(set(shifted).intersection(X_train.index.values))\n",
    "y_train = y_train.loc[index]\n",
    "y_train = y_train.dropna()\n",
    "index = y_train.index.values\n",
    "X_train = X_train.loc[index]"
   ]
  },
  {
   "cell_type": "code",
   "execution_count": 9,
   "id": "c18bf70b",
   "metadata": {
    "execution": {
     "iopub.execute_input": "2023-05-28T20:55:39.103324Z",
     "iopub.status.busy": "2023-05-28T20:55:39.102692Z",
     "iopub.status.idle": "2023-05-28T20:55:39.109785Z",
     "shell.execute_reply": "2023-05-28T20:55:39.108736Z"
    },
    "papermill": {
     "duration": 0.02044,
     "end_time": "2023-05-28T20:55:39.112362",
     "exception": false,
     "start_time": "2023-05-28T20:55:39.091922",
     "status": "completed"
    },
    "tags": []
   },
   "outputs": [
    {
     "data": {
      "text/plain": [
       "array([Timestamp('2019-01-16 15:21:00'), Timestamp('2019-01-16 15:21:10'),\n",
       "       Timestamp('2019-01-16 15:21:20'), ...,\n",
       "       Timestamp('2022-01-01 01:59:30'), Timestamp('2022-01-01 01:59:40'),\n",
       "       Timestamp('2022-01-01 01:59:50')], dtype=object)"
      ]
     },
     "execution_count": 9,
     "metadata": {},
     "output_type": "execute_result"
    }
   ],
   "source": [
    "shifted"
   ]
  },
  {
   "cell_type": "code",
   "execution_count": 10,
   "id": "9d19f63f",
   "metadata": {
    "execution": {
     "iopub.execute_input": "2023-05-28T20:55:39.132437Z",
     "iopub.status.busy": "2023-05-28T20:55:39.131673Z",
     "iopub.status.idle": "2023-05-28T20:55:39.138457Z",
     "shell.execute_reply": "2023-05-28T20:55:39.137399Z"
    },
    "papermill": {
     "duration": 0.019483,
     "end_time": "2023-05-28T20:55:39.140842",
     "exception": false,
     "start_time": "2023-05-28T20:55:39.121359",
     "status": "completed"
    },
    "tags": []
   },
   "outputs": [
    {
     "data": {
      "text/plain": [
       "array([Timestamp('2019-01-16 15:21:00'), Timestamp('2019-01-16 15:21:10'),\n",
       "       Timestamp('2019-01-16 15:21:20'), ...,\n",
       "       Timestamp('2021-06-21 19:43:00'), Timestamp('2021-07-01 23:41:10'),\n",
       "       Timestamp('2021-09-17 14:14:30')], dtype=object)"
      ]
     },
     "execution_count": 10,
     "metadata": {},
     "output_type": "execute_result"
    }
   ],
   "source": [
    "X_train.index.values"
   ]
  },
  {
   "cell_type": "code",
   "execution_count": 11,
   "id": "12f742a9",
   "metadata": {
    "execution": {
     "iopub.execute_input": "2023-05-28T20:55:39.160935Z",
     "iopub.status.busy": "2023-05-28T20:55:39.160496Z",
     "iopub.status.idle": "2023-05-28T20:55:39.165703Z",
     "shell.execute_reply": "2023-05-28T20:55:39.164661Z"
    },
    "papermill": {
     "duration": 0.018286,
     "end_time": "2023-05-28T20:55:39.167902",
     "exception": false,
     "start_time": "2023-05-28T20:55:39.149616",
     "status": "completed"
    },
    "tags": []
   },
   "outputs": [],
   "source": [
    "def featurize(df):\n",
    "    return df"
   ]
  },
  {
   "cell_type": "code",
   "execution_count": 12,
   "id": "1ed9fdcc",
   "metadata": {
    "execution": {
     "iopub.execute_input": "2023-05-28T20:55:39.187568Z",
     "iopub.status.busy": "2023-05-28T20:55:39.186897Z",
     "iopub.status.idle": "2023-05-28T21:34:39.568418Z",
     "shell.execute_reply": "2023-05-28T21:34:39.566822Z"
    },
    "papermill": {
     "duration": 2340.395065,
     "end_time": "2023-05-28T21:34:39.571594",
     "exception": false,
     "start_time": "2023-05-28T20:55:39.176529",
     "status": "completed"
    },
    "tags": []
   },
   "outputs": [
    {
     "data": {
      "application/vnd.jupyter.widget-view+json": {
       "model_id": "f9ce5fff22f7467a81e58b3185556ac9",
       "version_major": 2,
       "version_minor": 0
      },
      "text/plain": [
       "MetricVisualizer(layout=Layout(align_self='stretch', height='500px'))"
      ]
     },
     "metadata": {},
     "output_type": "display_data"
    },
    {
     "name": "stdout",
     "output_type": "stream",
     "text": [
      "0:\tlearn: 0.6613881\ttest: 0.6636029\tbest: 0.6636029 (0)\ttotal: 568ms\tremaining: 56.3s\n",
      "50:\tlearn: 0.1134362\ttest: 0.1136233\tbest: 0.1136233 (50)\ttotal: 21.4s\tremaining: 20.6s\n",
      "99:\tlearn: 0.0249759\ttest: 0.0250155\tbest: 0.0250155 (99)\ttotal: 41.8s\tremaining: 0us\n",
      "\n",
      "bestTest = 0.02501554096\n",
      "bestIteration = 99\n",
      "\n",
      "                                           0\n",
      "ТОК РОТОРА 1                        1.420898\n",
      "ТОК РОТОРА 2                        3.503133\n",
      "ТОК СТАТОРА                         0.653247\n",
      "ВИБРАЦИЯ НА ОПОРЕ 1                 2.994201\n",
      "ВИБРАЦИЯ НА ОПОРЕ 2                 4.575954\n",
      "ВИБРАЦИЯ НА ОПОРЕ 3                 3.260599\n",
      "ВИБРАЦИЯ НА ОПОРЕ 3. ПРОДОЛЬНАЯ     4.062204\n",
      "ВИБРАЦИЯ НА ОПОРЕ 4                 2.770673\n",
      "ВИБРАЦИЯ НА ОПОРЕ 4. ПРОДОЛЬНАЯ     4.562839\n",
      "ТЕМПЕРАТУРА ПОДШИПНИКА НА ОПОРЕ 1   4.154890\n",
      "ТЕМПЕРАТУРА ПОДШИПНИКА НА ОПОРЕ 2  19.223360\n",
      "ТЕМПЕРАТУРА ПОДШИПНИКА НА ОПОРЕ 3  36.048938\n",
      "ТЕМПЕРАТУРА ПОДШИПНИКА НА ОПОРЕ 4   2.938818\n",
      "ТЕМПЕРАТУРА МАСЛА В МАСЛОБЛОКЕ      3.662461\n",
      "ТЕМПЕРАТУРА МАСЛА В СИСТЕМЕ         3.582186\n",
      "ДАВЛЕНИЕ МАСЛА В СИСТЕМЕ            2.585600\n",
      "Y_ЭКСГАУСТЕР А/М №4_ЭЛЕКТРОДВИГАТЕЛЬ ДСПУ-140-84-4 ЭКСГ. №4 M1 1.0 1 0 0\n"
     ]
    },
    {
     "data": {
      "application/vnd.jupyter.widget-view+json": {
       "model_id": "f11e6fef14364c1495638cc806ea2f5d",
       "version_major": 2,
       "version_minor": 0
      },
      "text/plain": [
       "MetricVisualizer(layout=Layout(align_self='stretch', height='500px'))"
      ]
     },
     "metadata": {},
     "output_type": "display_data"
    },
    {
     "name": "stdout",
     "output_type": "stream",
     "text": [
      "0:\tlearn: 0.6717912\ttest: 0.6711737\tbest: 0.6711737 (0)\ttotal: 473ms\tremaining: 46.8s\n",
      "50:\tlearn: 0.2498019\ttest: 0.2456079\tbest: 0.2456079 (50)\ttotal: 21.5s\tremaining: 20.6s\n",
      "99:\tlearn: 0.1420826\ttest: 0.1405028\tbest: 0.1405028 (99)\ttotal: 42.7s\tremaining: 0us\n",
      "\n",
      "bestTest = 0.1405028388\n",
      "bestIteration = 99\n",
      "\n",
      "                                           0\n",
      "ТОК РОТОРА 1                        9.102874\n",
      "ТОК РОТОРА 2                       10.711966\n",
      "ТОК СТАТОРА                         1.605124\n",
      "ВИБРАЦИЯ НА ОПОРЕ 1                 0.642108\n",
      "ВИБРАЦИЯ НА ОПОРЕ 2                 1.169779\n",
      "ВИБРАЦИЯ НА ОПОРЕ 3                 2.155911\n",
      "ВИБРАЦИЯ НА ОПОРЕ 3. ПРОДОЛЬНАЯ     9.533523\n",
      "ВИБРАЦИЯ НА ОПОРЕ 4                 6.785191\n",
      "ВИБРАЦИЯ НА ОПОРЕ 4. ПРОДОЛЬНАЯ     6.172619\n",
      "ТЕМПЕРАТУРА ПОДШИПНИКА НА ОПОРЕ 1   2.555591\n",
      "ТЕМПЕРАТУРА ПОДШИПНИКА НА ОПОРЕ 2  13.558325\n",
      "ТЕМПЕРАТУРА ПОДШИПНИКА НА ОПОРЕ 3   1.937885\n",
      "ТЕМПЕРАТУРА ПОДШИПНИКА НА ОПОРЕ 4   0.576842\n",
      "ТЕМПЕРАТУРА МАСЛА В МАСЛОБЛОКЕ      0.000000\n",
      "ТЕМПЕРАТУРА МАСЛА В СИСТЕМЕ        24.977849\n",
      "ДАВЛЕНИЕ МАСЛА В СИСТЕМЕ            8.514414\n",
      "Y_ЭКСГАУСТЕР А/М №4_ЭЛЕКТРОДВИГАТЕЛЬ ДСПУ-140-84-4 ЭКСГ. №4 M3 0.9595099667774086 4621 57 138\n"
     ]
    },
    {
     "data": {
      "application/vnd.jupyter.widget-view+json": {
       "model_id": "3b318cfdc00b4856b560614cf0fcb150",
       "version_major": 2,
       "version_minor": 0
      },
      "text/plain": [
       "MetricVisualizer(layout=Layout(align_self='stretch', height='500px'))"
      ]
     },
     "metadata": {},
     "output_type": "display_data"
    },
    {
     "name": "stdout",
     "output_type": "stream",
     "text": [
      "0:\tlearn: 0.6748922\ttest: 0.6747054\tbest: 0.6747054 (0)\ttotal: 476ms\tremaining: 47.1s\n",
      "50:\tlearn: 0.2728814\ttest: 0.2716563\tbest: 0.2716563 (50)\ttotal: 21.8s\tremaining: 21s\n",
      "99:\tlearn: 0.1622198\ttest: 0.1622088\tbest: 0.1622088 (99)\ttotal: 43.2s\tremaining: 0us\n",
      "\n",
      "bestTest = 0.1622087913\n",
      "bestIteration = 99\n",
      "\n",
      "                                           0\n",
      "ТОК РОТОРА 1                        9.087061\n",
      "ТОК РОТОРА 2                        6.651999\n",
      "ТОК СТАТОРА                         1.856163\n",
      "ВИБРАЦИЯ НА ОПОРЕ 1                 0.352108\n",
      "ВИБРАЦИЯ НА ОПОРЕ 2                 1.811639\n",
      "ВИБРАЦИЯ НА ОПОРЕ 3                 0.554725\n",
      "ВИБРАЦИЯ НА ОПОРЕ 3. ПРОДОЛЬНАЯ     4.557631\n",
      "ВИБРАЦИЯ НА ОПОРЕ 4                 7.239653\n",
      "ВИБРАЦИЯ НА ОПОРЕ 4. ПРОДОЛЬНАЯ    15.046318\n",
      "ТЕМПЕРАТУРА ПОДШИПНИКА НА ОПОРЕ 1   4.600714\n",
      "ТЕМПЕРАТУРА ПОДШИПНИКА НА ОПОРЕ 2  15.044516\n",
      "ТЕМПЕРАТУРА ПОДШИПНИКА НА ОПОРЕ 3   4.302919\n",
      "ТЕМПЕРАТУРА ПОДШИПНИКА НА ОПОРЕ 4   0.000000\n",
      "ТЕМПЕРАТУРА МАСЛА В МАСЛОБЛОКЕ      0.000000\n",
      "ТЕМПЕРАТУРА МАСЛА В СИСТЕМЕ        20.239761\n",
      "ДАВЛЕНИЕ МАСЛА В СИСТЕМЕ            8.654793\n",
      "Y_ЭКСГАУСТЕР А/М №4_ПОДШИПНИК ОПОРНЫЙ ЭКСГ. №4 M3 0.9592648730579765 5063 123 92\n"
     ]
    },
    {
     "data": {
      "application/vnd.jupyter.widget-view+json": {
       "model_id": "7163abaf0bc24e7eb398bef6a9b5cd9d",
       "version_major": 2,
       "version_minor": 0
      },
      "text/plain": [
       "MetricVisualizer(layout=Layout(align_self='stretch', height='500px'))"
      ]
     },
     "metadata": {},
     "output_type": "display_data"
    },
    {
     "name": "stdout",
     "output_type": "stream",
     "text": [
      "0:\tlearn: 0.6661479\ttest: 0.6677843\tbest: 0.6677843 (0)\ttotal: 490ms\tremaining: 48.5s\n",
      "50:\tlearn: 0.1728810\ttest: 0.1731738\tbest: 0.1731738 (50)\ttotal: 24.6s\tremaining: 23.7s\n",
      "99:\tlearn: 0.0796112\ttest: 0.0782619\tbest: 0.0782619 (99)\ttotal: 46.3s\tremaining: 0us\n",
      "\n",
      "bestTest = 0.07826186758\n",
      "bestIteration = 99\n",
      "\n",
      "                                           0\n",
      "ТОК РОТОРА 1                        1.560258\n",
      "ТОК РОТОРА 2                        1.417266\n",
      "ТОК СТАТОРА                         0.619079\n",
      "ВИБРАЦИЯ НА ОПОРЕ 1                18.292543\n",
      "ВИБРАЦИЯ НА ОПОРЕ 2                 1.211787\n",
      "ВИБРАЦИЯ НА ОПОРЕ 3                 2.727858\n",
      "ВИБРАЦИЯ НА ОПОРЕ 3. ПРОДОЛЬНАЯ    10.646303\n",
      "ВИБРАЦИЯ НА ОПОРЕ 4                 5.566864\n",
      "ВИБРАЦИЯ НА ОПОРЕ 4. ПРОДОЛЬНАЯ    29.974111\n",
      "ТЕМПЕРАТУРА ПОДШИПНИКА НА ОПОРЕ 1   1.750429\n",
      "ТЕМПЕРАТУРА ПОДШИПНИКА НА ОПОРЕ 2   1.697282\n",
      "ТЕМПЕРАТУРА ПОДШИПНИКА НА ОПОРЕ 3   0.247857\n",
      "ТЕМПЕРАТУРА ПОДШИПНИКА НА ОПОРЕ 4   4.070782\n",
      "ТЕМПЕРАТУРА МАСЛА В МАСЛОБЛОКЕ      0.965050\n",
      "ТЕМПЕРАТУРА МАСЛА В СИСТЕМЕ         2.995459\n",
      "ДАВЛЕНИЕ МАСЛА В СИСТЕМЕ           16.257070\n",
      "Y_ЭКСГАУСТЕР А/М №4_УЛИТА ЭКСГ. №4 M3 0.9828326180257511 8702 116 36\n"
     ]
    },
    {
     "data": {
      "application/vnd.jupyter.widget-view+json": {
       "model_id": "ed424852b09c496e86b4831f2bd6b89f",
       "version_major": 2,
       "version_minor": 0
      },
      "text/plain": [
       "MetricVisualizer(layout=Layout(align_self='stretch', height='500px'))"
      ]
     },
     "metadata": {},
     "output_type": "display_data"
    },
    {
     "name": "stdout",
     "output_type": "stream",
     "text": [
      "0:\tlearn: 0.6729191\ttest: 0.6726960\tbest: 0.6726960 (0)\ttotal: 409ms\tremaining: 40.5s\n",
      "50:\tlearn: 0.2478121\ttest: 0.2623899\tbest: 0.2623899 (50)\ttotal: 21s\tremaining: 20.2s\n",
      "99:\tlearn: 0.1535056\ttest: 0.1671076\tbest: 0.1671076 (99)\ttotal: 41s\tremaining: 0us\n",
      "\n",
      "bestTest = 0.1671075813\n",
      "bestIteration = 99\n",
      "\n",
      "                                           0\n",
      "ТОК РОТОРА 1                       22.218015\n",
      "ТОК РОТОРА 2                       22.804745\n",
      "ТОК СТАТОРА                         0.291835\n",
      "ВИБРАЦИЯ НА ОПОРЕ 1                11.464360\n",
      "ВИБРАЦИЯ НА ОПОРЕ 2                 3.576212\n",
      "ВИБРАЦИЯ НА ОПОРЕ 3                 0.666173\n",
      "ВИБРАЦИЯ НА ОПОРЕ 3. ПРОДОЛЬНАЯ     5.056560\n",
      "ВИБРАЦИЯ НА ОПОРЕ 4                 3.714310\n",
      "ВИБРАЦИЯ НА ОПОРЕ 4. ПРОДОЛЬНАЯ     3.415082\n",
      "ТЕМПЕРАТУРА ПОДШИПНИКА НА ОПОРЕ 1   8.472375\n",
      "ТЕМПЕРАТУРА ПОДШИПНИКА НА ОПОРЕ 2   1.801171\n",
      "ТЕМПЕРАТУРА ПОДШИПНИКА НА ОПОРЕ 3   0.275312\n",
      "ТЕМПЕРАТУРА ПОДШИПНИКА НА ОПОРЕ 4   1.653425\n",
      "ТЕМПЕРАТУРА МАСЛА В МАСЛОБЛОКЕ      0.028820\n",
      "ТЕМПЕРАТУРА МАСЛА В СИСТЕМЕ         6.806846\n",
      "ДАВЛЕНИЕ МАСЛА В СИСТЕМЕ            7.754758\n",
      "Y_ЭКСГАУСТЕР А/М №4_РЕДУКТОР ГАЗ. ЗАДВИЖКИ ЭКСГ. №4 M3 0.9464057303658224 7399 262 157\n"
     ]
    },
    {
     "data": {
      "application/vnd.jupyter.widget-view+json": {
       "model_id": "b65c7bb099214d45982596cd815bafb5",
       "version_major": 2,
       "version_minor": 0
      },
      "text/plain": [
       "MetricVisualizer(layout=Layout(align_self='stretch', height='500px'))"
      ]
     },
     "metadata": {},
     "output_type": "display_data"
    },
    {
     "name": "stdout",
     "output_type": "stream",
     "text": [
      "0:\tlearn: 0.6636695\ttest: 0.6657778\tbest: 0.6657778 (0)\ttotal: 462ms\tremaining: 45.8s\n",
      "50:\tlearn: 0.1437430\ttest: 0.1446802\tbest: 0.1446802 (50)\ttotal: 23.1s\tremaining: 22.2s\n",
      "99:\tlearn: 0.0491035\ttest: 0.0497749\tbest: 0.0497749 (99)\ttotal: 46.3s\tremaining: 0us\n",
      "\n",
      "bestTest = 0.04977489384\n",
      "bestIteration = 99\n",
      "\n",
      "                                           0\n",
      "ТОК РОТОРА 1                       12.855925\n",
      "ТОК РОТОРА 2                       13.772441\n",
      "ТОК СТАТОРА                         0.000000\n",
      "ВИБРАЦИЯ НА ОПОРЕ 1                 1.565561\n",
      "ВИБРАЦИЯ НА ОПОРЕ 2                 1.383770\n",
      "ВИБРАЦИЯ НА ОПОРЕ 3                11.438235\n",
      "ВИБРАЦИЯ НА ОПОРЕ 3. ПРОДОЛЬНАЯ     1.209680\n",
      "ВИБРАЦИЯ НА ОПОРЕ 4                 1.825799\n",
      "ВИБРАЦИЯ НА ОПОРЕ 4. ПРОДОЛЬНАЯ    12.607541\n",
      "ТЕМПЕРАТУРА ПОДШИПНИКА НА ОПОРЕ 1  10.407429\n",
      "ТЕМПЕРАТУРА ПОДШИПНИКА НА ОПОРЕ 2   0.255591\n",
      "ТЕМПЕРАТУРА ПОДШИПНИКА НА ОПОРЕ 3   0.608724\n",
      "ТЕМПЕРАТУРА ПОДШИПНИКА НА ОПОРЕ 4   4.029690\n",
      "ТЕМПЕРАТУРА МАСЛА В МАСЛОБЛОКЕ      0.019619\n",
      "ТЕМПЕРАТУРА МАСЛА В СИСТЕМЕ         1.544298\n",
      "ДАВЛЕНИЕ МАСЛА В СИСТЕМЕ           26.475696\n",
      "Y_ЭКСГАУСТЕР А/М №4_МАСЛОНАСОС РАБОЧИЙ ЭКСГ. №4 M3 0.9741935483870968 1057 1 27\n"
     ]
    },
    {
     "data": {
      "application/vnd.jupyter.widget-view+json": {
       "model_id": "375934e843e54025b34db1084eb23dd5",
       "version_major": 2,
       "version_minor": 0
      },
      "text/plain": [
       "MetricVisualizer(layout=Layout(align_self='stretch', height='500px'))"
      ]
     },
     "metadata": {},
     "output_type": "display_data"
    },
    {
     "name": "stdout",
     "output_type": "stream",
     "text": [
      "0:\tlearn: 0.6613841\ttest: 0.6635994\tbest: 0.6635994 (0)\ttotal: 573ms\tremaining: 56.7s\n",
      "50:\tlearn: 0.1133356\ttest: 0.1135637\tbest: 0.1135637 (50)\ttotal: 21.6s\tremaining: 20.8s\n",
      "99:\tlearn: 0.0249530\ttest: 0.0249852\tbest: 0.0249852 (99)\ttotal: 42.3s\tremaining: 0us\n",
      "\n",
      "bestTest = 0.02498523421\n",
      "bestIteration = 99\n",
      "\n",
      "                                          0\n",
      "ТОК РОТОРА 1                       3.956635\n",
      "ТОК РОТОРА 2                       3.525499\n",
      "ТОК СТАТОРА                        4.056720\n",
      "ВИБРАЦИЯ НА ОПОРЕ 1                6.625648\n",
      "ВИБРАЦИЯ НА ОПОРЕ 2                8.905420\n",
      "ВИБРАЦИЯ НА ОПОРЕ 3                6.793437\n",
      "ВИБРАЦИЯ НА ОПОРЕ 3. ПРОДОЛЬНАЯ    8.320521\n",
      "ВИБРАЦИЯ НА ОПОРЕ 4                7.765105\n",
      "ВИБРАЦИЯ НА ОПОРЕ 4. ПРОДОЛЬНАЯ    8.928040\n",
      "ТЕМПЕРАТУРА ПОДШИПНИКА НА ОПОРЕ 1  5.271888\n",
      "ТЕМПЕРАТУРА ПОДШИПНИКА НА ОПОРЕ 2  7.349232\n",
      "ТЕМПЕРАТУРА ПОДШИПНИКА НА ОПОРЕ 3  5.084932\n",
      "ТЕМПЕРАТУРА ПОДШИПНИКА НА ОПОРЕ 4  5.827242\n",
      "ТЕМПЕРАТУРА МАСЛА В МАСЛОБЛОКЕ     4.904688\n",
      "ТЕМПЕРАТУРА МАСЛА В СИСТЕМЕ        5.432879\n",
      "ДАВЛЕНИЕ МАСЛА В СИСТЕМЕ           7.252116\n",
      "Y_ЭКСГАУСТЕР А/М №4_ЭЛЕКТРОАППАРАТУРА ЭКСГ. №4 M1 None 0 0 0\n"
     ]
    },
    {
     "data": {
      "application/vnd.jupyter.widget-view+json": {
       "model_id": "5040985d75364f1d8e0e834d5e4da683",
       "version_major": 2,
       "version_minor": 0
      },
      "text/plain": [
       "MetricVisualizer(layout=Layout(align_self='stretch', height='500px'))"
      ]
     },
     "metadata": {},
     "output_type": "display_data"
    },
    {
     "name": "stdout",
     "output_type": "stream",
     "text": [
      "0:\tlearn: 0.6634768\ttest: 0.6645257\tbest: 0.6645257 (0)\ttotal: 345ms\tremaining: 34.2s\n",
      "50:\tlearn: 0.1325185\ttest: 0.1311167\tbest: 0.1311167 (50)\ttotal: 17.7s\tremaining: 17s\n",
      "99:\tlearn: 0.0410246\ttest: 0.0404000\tbest: 0.0404000 (99)\ttotal: 35.2s\tremaining: 0us\n",
      "\n",
      "bestTest = 0.04040003818\n",
      "bestIteration = 99\n",
      "\n",
      "                                           0\n",
      "ТОК РОТОРА 1                       35.302031\n",
      "ТОК РОТОРА 2                       31.309421\n",
      "ТОК СТАТОРА                         0.132230\n",
      "ВИБРАЦИЯ НА ОПОРЕ 1                 0.284814\n",
      "ВИБРАЦИЯ НА ОПОРЕ 2                 1.071706\n",
      "ВИБРАЦИЯ НА ОПОРЕ 3                 1.064816\n",
      "ВИБРАЦИЯ НА ОПОРЕ 3. ПРОДОЛЬНАЯ     6.517765\n",
      "ВИБРАЦИЯ НА ОПОРЕ 4                 5.550449\n",
      "ВИБРАЦИЯ НА ОПОРЕ 4. ПРОДОЛЬНАЯ     9.569458\n",
      "ТЕМПЕРАТУРА ПОДШИПНИКА НА ОПОРЕ 1   0.032468\n",
      "ТЕМПЕРАТУРА ПОДШИПНИКА НА ОПОРЕ 2   0.019728\n",
      "ТЕМПЕРАТУРА ПОДШИПНИКА НА ОПОРЕ 3   0.000000\n",
      "ТЕМПЕРАТУРА ПОДШИПНИКА НА ОПОРЕ 4   0.295706\n",
      "ТЕМПЕРАТУРА МАСЛА В МАСЛОБЛОКЕ      0.530614\n",
      "ТЕМПЕРАТУРА МАСЛА В СИСТЕМЕ         3.714110\n",
      "ДАВЛЕНИЕ МАСЛА В СИСТЕМЕ            4.604684\n",
      "Y_ЭКСГАУСТЕР А/М №4_ЭЛЕКТРОАППАРАТУРА ЭКСГ. №4 M3 0.9592252803261978 941 4 36\n"
     ]
    },
    {
     "data": {
      "application/vnd.jupyter.widget-view+json": {
       "model_id": "af0993faa2c643feaeb66165e048d061",
       "version_major": 2,
       "version_minor": 0
      },
      "text/plain": [
       "MetricVisualizer(layout=Layout(align_self='stretch', height='500px'))"
      ]
     },
     "metadata": {},
     "output_type": "display_data"
    },
    {
     "name": "stdout",
     "output_type": "stream",
     "text": [
      "0:\tlearn: 0.6613840\ttest: 0.6635999\tbest: 0.6635999 (0)\ttotal: 373ms\tremaining: 36.9s\n",
      "50:\tlearn: 0.1133371\ttest: 0.1135656\tbest: 0.1135656 (50)\ttotal: 21.2s\tremaining: 20.3s\n",
      "99:\tlearn: 0.0249491\ttest: 0.0249837\tbest: 0.0249837 (99)\ttotal: 41.9s\tremaining: 0us\n",
      "\n",
      "bestTest = 0.02498367097\n",
      "bestIteration = 99\n",
      "\n",
      "                                           0\n",
      "ТОК РОТОРА 1                        2.436130\n",
      "ТОК РОТОРА 2                        8.941607\n",
      "ТОК СТАТОРА                         8.313160\n",
      "ВИБРАЦИЯ НА ОПОРЕ 1                10.266656\n",
      "ВИБРАЦИЯ НА ОПОРЕ 2                 5.889213\n",
      "ВИБРАЦИЯ НА ОПОРЕ 3                 4.837039\n",
      "ВИБРАЦИЯ НА ОПОРЕ 3. ПРОДОЛЬНАЯ     6.388217\n",
      "ВИБРАЦИЯ НА ОПОРЕ 4                 4.917733\n",
      "ВИБРАЦИЯ НА ОПОРЕ 4. ПРОДОЛЬНАЯ     6.483324\n",
      "ТЕМПЕРАТУРА ПОДШИПНИКА НА ОПОРЕ 1  11.540463\n",
      "ТЕМПЕРАТУРА ПОДШИПНИКА НА ОПОРЕ 2   5.301550\n",
      "ТЕМПЕРАТУРА ПОДШИПНИКА НА ОПОРЕ 3   3.537220\n",
      "ТЕМПЕРАТУРА ПОДШИПНИКА НА ОПОРЕ 4   9.672306\n",
      "ТЕМПЕРАТУРА МАСЛА В МАСЛОБЛОКЕ      3.513125\n",
      "ТЕМПЕРАТУРА МАСЛА В СИСТЕМЕ         3.633215\n",
      "ДАВЛЕНИЕ МАСЛА В СИСТЕМЕ            4.329040\n",
      "Y_ЭКСГАУСТЕР А/М №4_ПОДШИПНИК ОПОРНЫЙ №2 ЭКСГ. №4 M1 None 0 0 0\n"
     ]
    },
    {
     "data": {
      "application/vnd.jupyter.widget-view+json": {
       "model_id": "6648f9d03de54607a1c9e9ac6155138a",
       "version_major": 2,
       "version_minor": 0
      },
      "text/plain": [
       "MetricVisualizer(layout=Layout(align_self='stretch', height='500px'))"
      ]
     },
     "metadata": {},
     "output_type": "display_data"
    },
    {
     "name": "stdout",
     "output_type": "stream",
     "text": [
      "0:\tlearn: 0.6696474\ttest: 0.6693333\tbest: 0.6693333 (0)\ttotal: 446ms\tremaining: 44.2s\n",
      "50:\tlearn: 0.1721713\ttest: 0.1821031\tbest: 0.1821031 (50)\ttotal: 22.4s\tremaining: 21.6s\n",
      "99:\tlearn: 0.0808896\ttest: 0.0861926\tbest: 0.0861926 (99)\ttotal: 42.5s\tremaining: 0us\n",
      "\n",
      "bestTest = 0.08619264564\n",
      "bestIteration = 99\n",
      "\n",
      "                                           0\n",
      "ТОК РОТОРА 1                        9.366539\n",
      "ТОК РОТОРА 2                        8.773669\n",
      "ТОК СТАТОРА                         0.044335\n",
      "ВИБРАЦИЯ НА ОПОРЕ 1                 2.954124\n",
      "ВИБРАЦИЯ НА ОПОРЕ 2                 3.678870\n",
      "ВИБРАЦИЯ НА ОПОРЕ 3                18.484595\n",
      "ВИБРАЦИЯ НА ОПОРЕ 3. ПРОДОЛЬНАЯ     3.530801\n",
      "ВИБРАЦИЯ НА ОПОРЕ 4                 0.000000\n",
      "ВИБРАЦИЯ НА ОПОРЕ 4. ПРОДОЛЬНАЯ     2.572939\n",
      "ТЕМПЕРАТУРА ПОДШИПНИКА НА ОПОРЕ 1   0.441127\n",
      "ТЕМПЕРАТУРА ПОДШИПНИКА НА ОПОРЕ 2  21.471254\n",
      "ТЕМПЕРАТУРА ПОДШИПНИКА НА ОПОРЕ 3   1.414518\n",
      "ТЕМПЕРАТУРА ПОДШИПНИКА НА ОПОРЕ 4   0.000000\n",
      "ТЕМПЕРАТУРА МАСЛА В МАСЛОБЛОКЕ      0.574311\n",
      "ТЕМПЕРАТУРА МАСЛА В СИСТЕМЕ        10.087680\n",
      "ДАВЛЕНИЕ МАСЛА В СИСТЕМЕ           16.605239\n",
      "Y_ЭКСГАУСТЕР А/М №4_ПОДШИПНИК ОПОРНЫЙ №2 ЭКСГ. №4 M3 0.9230769230769231 1320 9 101\n"
     ]
    },
    {
     "data": {
      "application/vnd.jupyter.widget-view+json": {
       "model_id": "082d4afdcf6f409d940f78986ffbe4ea",
       "version_major": 2,
       "version_minor": 0
      },
      "text/plain": [
       "MetricVisualizer(layout=Layout(align_self='stretch', height='500px'))"
      ]
     },
     "metadata": {},
     "output_type": "display_data"
    },
    {
     "name": "stdout",
     "output_type": "stream",
     "text": [
      "0:\tlearn: 0.6613937\ttest: 0.6636098\tbest: 0.6636098 (0)\ttotal: 366ms\tremaining: 36.2s\n",
      "50:\tlearn: 0.1137158\ttest: 0.1136910\tbest: 0.1136910 (50)\ttotal: 21.7s\tremaining: 20.9s\n",
      "99:\tlearn: 0.0252906\ttest: 0.0250920\tbest: 0.0250920 (99)\ttotal: 41.9s\tremaining: 0us\n",
      "\n",
      "bestTest = 0.02509204655\n",
      "bestIteration = 99\n",
      "\n",
      "                                           0\n",
      "ТОК РОТОРА 1                        6.919902\n",
      "ТОК РОТОРА 2                        5.907486\n",
      "ТОК СТАТОРА                         2.110758\n",
      "ВИБРАЦИЯ НА ОПОРЕ 1                 5.581900\n",
      "ВИБРАЦИЯ НА ОПОРЕ 2                 1.353750\n",
      "ВИБРАЦИЯ НА ОПОРЕ 3                 3.508483\n",
      "ВИБРАЦИЯ НА ОПОРЕ 3. ПРОДОЛЬНАЯ     4.165792\n",
      "ВИБРАЦИЯ НА ОПОРЕ 4                 5.730968\n",
      "ВИБРАЦИЯ НА ОПОРЕ 4. ПРОДОЛЬНАЯ     2.609392\n",
      "ТЕМПЕРАТУРА ПОДШИПНИКА НА ОПОРЕ 1   3.560357\n",
      "ТЕМПЕРАТУРА ПОДШИПНИКА НА ОПОРЕ 2   2.780906\n",
      "ТЕМПЕРАТУРА ПОДШИПНИКА НА ОПОРЕ 3   3.277191\n",
      "ТЕМПЕРАТУРА ПОДШИПНИКА НА ОПОРЕ 4   4.636473\n",
      "ТЕМПЕРАТУРА МАСЛА В МАСЛОБЛОКЕ      4.410352\n",
      "ТЕМПЕРАТУРА МАСЛА В СИСТЕМЕ        16.936761\n",
      "ДАВЛЕНИЕ МАСЛА В СИСТЕМЕ           26.509530\n",
      "Y_ЭКСГАУСТЕР А/М №4_ЗАДВИЖКА ЭКСГ. №4 M1 0.0 0 0 2\n"
     ]
    },
    {
     "data": {
      "application/vnd.jupyter.widget-view+json": {
       "model_id": "9525eca2421040d3a773940ddcd25c82",
       "version_major": 2,
       "version_minor": 0
      },
      "text/plain": [
       "MetricVisualizer(layout=Layout(align_self='stretch', height='500px'))"
      ]
     },
     "metadata": {},
     "output_type": "display_data"
    },
    {
     "name": "stdout",
     "output_type": "stream",
     "text": [
      "0:\tlearn: 0.6700426\ttest: 0.6701595\tbest: 0.6701595 (0)\ttotal: 445ms\tremaining: 44s\n",
      "50:\tlearn: 0.2127010\ttest: 0.2112057\tbest: 0.2112057 (50)\ttotal: 21.5s\tremaining: 20.7s\n",
      "99:\tlearn: 0.1175471\ttest: 0.1161615\tbest: 0.1161615 (99)\ttotal: 42.3s\tremaining: 0us\n",
      "\n",
      "bestTest = 0.1161615384\n",
      "bestIteration = 99\n",
      "\n",
      "                                           0\n",
      "ТОК РОТОРА 1                        2.951905\n",
      "ТОК РОТОРА 2                        2.754766\n",
      "ТОК СТАТОРА                         1.149084\n",
      "ВИБРАЦИЯ НА ОПОРЕ 1                 2.215468\n",
      "ВИБРАЦИЯ НА ОПОРЕ 2                 1.834323\n",
      "ВИБРАЦИЯ НА ОПОРЕ 3                 5.498258\n",
      "ВИБРАЦИЯ НА ОПОРЕ 3. ПРОДОЛЬНАЯ    12.058908\n",
      "ВИБРАЦИЯ НА ОПОРЕ 4                 4.471750\n",
      "ВИБРАЦИЯ НА ОПОРЕ 4. ПРОДОЛЬНАЯ    18.989186\n",
      "ТЕМПЕРАТУРА ПОДШИПНИКА НА ОПОРЕ 1   7.121932\n",
      "ТЕМПЕРАТУРА ПОДШИПНИКА НА ОПОРЕ 2   6.006176\n",
      "ТЕМПЕРАТУРА ПОДШИПНИКА НА ОПОРЕ 3   1.560808\n",
      "ТЕМПЕРАТУРА ПОДШИПНИКА НА ОПОРЕ 4   1.082489\n",
      "ТЕМПЕРАТУРА МАСЛА В МАСЛОБЛОКЕ      1.697970\n",
      "ТЕМПЕРАТУРА МАСЛА В СИСТЕМЕ         3.006047\n",
      "ДАВЛЕНИЕ МАСЛА В СИСТЕМЕ           27.600930\n",
      "Y_ЭКСГАУСТЕР А/М №4_ЗАДВИЖКА ЭКСГ. №4 M3 0.7549563838223632 952 87 222\n"
     ]
    },
    {
     "data": {
      "application/vnd.jupyter.widget-view+json": {
       "model_id": "802524fc95ca46baa337972832aea2d7",
       "version_major": 2,
       "version_minor": 0
      },
      "text/plain": [
       "MetricVisualizer(layout=Layout(align_self='stretch', height='500px'))"
      ]
     },
     "metadata": {},
     "output_type": "display_data"
    },
    {
     "name": "stdout",
     "output_type": "stream",
     "text": [
      "0:\tlearn: 0.6667939\ttest: 0.6685081\tbest: 0.6685081 (0)\ttotal: 357ms\tremaining: 35.4s\n",
      "50:\tlearn: 0.1970777\ttest: 0.2121678\tbest: 0.2121678 (50)\ttotal: 18.6s\tremaining: 17.9s\n",
      "99:\tlearn: 0.1051470\ttest: 0.1272724\tbest: 0.1272724 (99)\ttotal: 37.4s\tremaining: 0us\n",
      "\n",
      "bestTest = 0.127272383\n",
      "bestIteration = 99\n",
      "\n",
      "                                           0\n",
      "ТОК РОТОРА 1                        4.869312\n",
      "ТОК РОТОРА 2                        7.290529\n",
      "ТОК СТАТОРА                         1.035697\n",
      "ВИБРАЦИЯ НА ОПОРЕ 1                 8.738084\n",
      "ВИБРАЦИЯ НА ОПОРЕ 2                 1.412197\n",
      "ВИБРАЦИЯ НА ОПОРЕ 3                11.287890\n",
      "ВИБРАЦИЯ НА ОПОРЕ 3. ПРОДОЛЬНАЯ    16.955556\n",
      "ВИБРАЦИЯ НА ОПОРЕ 4                12.033435\n",
      "ВИБРАЦИЯ НА ОПОРЕ 4. ПРОДОЛЬНАЯ    14.605405\n",
      "ТЕМПЕРАТУРА ПОДШИПНИКА НА ОПОРЕ 1   4.916217\n",
      "ТЕМПЕРАТУРА ПОДШИПНИКА НА ОПОРЕ 2   1.427345\n",
      "ТЕМПЕРАТУРА ПОДШИПНИКА НА ОПОРЕ 3   4.081889\n",
      "ТЕМПЕРАТУРА ПОДШИПНИКА НА ОПОРЕ 4   2.929547\n",
      "ТЕМПЕРАТУРА МАСЛА В МАСЛОБЛОКЕ      0.000000\n",
      "ТЕМПЕРАТУРА МАСЛА В СИСТЕМЕ         0.593234\n",
      "ДАВЛЕНИЕ МАСЛА В СИСТЕМЕ            7.823663\n",
      "Y_ЭКСГАУСТЕР А/М №4_ГСМ ЭКСГ. №4 M3 0.774869109947644 888 22 236\n"
     ]
    },
    {
     "data": {
      "application/vnd.jupyter.widget-view+json": {
       "model_id": "6f8579502ed744ee95215c40434f71bf",
       "version_major": 2,
       "version_minor": 0
      },
      "text/plain": [
       "MetricVisualizer(layout=Layout(align_self='stretch', height='500px'))"
      ]
     },
     "metadata": {},
     "output_type": "display_data"
    },
    {
     "name": "stdout",
     "output_type": "stream",
     "text": [
      "0:\tlearn: 0.6613870\ttest: 0.6636015\tbest: 0.6636015 (0)\ttotal: 413ms\tremaining: 40.9s\n",
      "50:\tlearn: 0.1134723\ttest: 0.1135951\tbest: 0.1135951 (50)\ttotal: 21.8s\tremaining: 20.9s\n",
      "99:\tlearn: 0.0251182\ttest: 0.0250160\tbest: 0.0250160 (99)\ttotal: 42.3s\tremaining: 0us\n",
      "\n",
      "bestTest = 0.0250159502\n",
      "bestIteration = 99\n",
      "\n",
      "                                           0\n",
      "ТОК РОТОРА 1                        0.368508\n",
      "ТОК РОТОРА 2                        0.255500\n",
      "ТОК СТАТОРА                         0.758956\n",
      "ВИБРАЦИЯ НА ОПОРЕ 1                 0.826236\n",
      "ВИБРАЦИЯ НА ОПОРЕ 2                 4.554556\n",
      "ВИБРАЦИЯ НА ОПОРЕ 3                 0.759027\n",
      "ВИБРАЦИЯ НА ОПОРЕ 3. ПРОДОЛЬНАЯ     3.564212\n",
      "ВИБРАЦИЯ НА ОПОРЕ 4                43.240406\n",
      "ВИБРАЦИЯ НА ОПОРЕ 4. ПРОДОЛЬНАЯ    13.500841\n",
      "ТЕМПЕРАТУРА ПОДШИПНИКА НА ОПОРЕ 1   0.779443\n",
      "ТЕМПЕРАТУРА ПОДШИПНИКА НА ОПОРЕ 2  21.537184\n",
      "ТЕМПЕРАТУРА ПОДШИПНИКА НА ОПОРЕ 3   0.575063\n",
      "ТЕМПЕРАТУРА ПОДШИПНИКА НА ОПОРЕ 4   1.336165\n",
      "ТЕМПЕРАТУРА МАСЛА В МАСЛОБЛОКЕ      5.912354\n",
      "ТЕМПЕРАТУРА МАСЛА В СИСТЕМЕ         0.687715\n",
      "ДАВЛЕНИЕ МАСЛА В СИСТЕМЕ            1.343833\n",
      "Y_ЭКСГАУСТЕР А/М №4_ВК 310С ВИБРОПРЕОБРАЗОВАТЕЛЬ ЭКСГ.№4 Т.1 M3 None 0 0 0\n"
     ]
    },
    {
     "data": {
      "application/vnd.jupyter.widget-view+json": {
       "model_id": "32dfb219994d40089d328995451c8778",
       "version_major": 2,
       "version_minor": 0
      },
      "text/plain": [
       "MetricVisualizer(layout=Layout(align_self='stretch', height='500px'))"
      ]
     },
     "metadata": {},
     "output_type": "display_data"
    },
    {
     "name": "stdout",
     "output_type": "stream",
     "text": [
      "0:\tlearn: 0.6613898\ttest: 0.6636048\tbest: 0.6636048 (0)\ttotal: 387ms\tremaining: 38.3s\n",
      "50:\tlearn: 0.1135672\ttest: 0.1136263\tbest: 0.1136263 (50)\ttotal: 21.6s\tremaining: 20.8s\n",
      "99:\tlearn: 0.0251852\ttest: 0.0250491\tbest: 0.0250491 (99)\ttotal: 41.1s\tremaining: 0us\n",
      "\n",
      "bestTest = 0.02504908891\n",
      "bestIteration = 99\n",
      "\n",
      "                                           0\n",
      "ТОК РОТОРА 1                        0.120520\n",
      "ТОК РОТОРА 2                        0.149233\n",
      "ТОК СТАТОРА                         0.362106\n",
      "ВИБРАЦИЯ НА ОПОРЕ 1                 0.328871\n",
      "ВИБРАЦИЯ НА ОПОРЕ 2                 2.422173\n",
      "ВИБРАЦИЯ НА ОПОРЕ 3                 0.293353\n",
      "ВИБРАЦИЯ НА ОПОРЕ 3. ПРОДОЛЬНАЯ     1.829458\n",
      "ВИБРАЦИЯ НА ОПОРЕ 4                22.323084\n",
      "ВИБРАЦИЯ НА ОПОРЕ 4. ПРОДОЛЬНАЯ     5.401087\n",
      "ТЕМПЕРАТУРА ПОДШИПНИКА НА ОПОРЕ 1   0.456943\n",
      "ТЕМПЕРАТУРА ПОДШИПНИКА НА ОПОРЕ 2  24.764797\n",
      "ТЕМПЕРАТУРА ПОДШИПНИКА НА ОПОРЕ 3  17.163753\n",
      "ТЕМПЕРАТУРА ПОДШИПНИКА НА ОПОРЕ 4   1.111206\n",
      "ТЕМПЕРАТУРА МАСЛА В МАСЛОБЛОКЕ      3.112767\n",
      "ТЕМПЕРАТУРА МАСЛА В СИСТЕМЕ        19.466822\n",
      "ДАВЛЕНИЕ МАСЛА В СИСТЕМЕ            0.693827\n",
      "Y_ЭКСГАУСТЕР А/М №4_ТСМТ-101-010-50М-400 ТЕРМОПР.ПОДШ.Т.1 M3 0.0 0 0 2\n"
     ]
    },
    {
     "data": {
      "application/vnd.jupyter.widget-view+json": {
       "model_id": "8a02849f861146fdb467e037f0499901",
       "version_major": 2,
       "version_minor": 0
      },
      "text/plain": [
       "MetricVisualizer(layout=Layout(align_self='stretch', height='500px'))"
      ]
     },
     "metadata": {},
     "output_type": "display_data"
    },
    {
     "name": "stdout",
     "output_type": "stream",
     "text": [
      "0:\tlearn: 0.6613857\ttest: 0.6636007\tbest: 0.6636007 (0)\ttotal: 370ms\tremaining: 36.6s\n",
      "50:\tlearn: 0.1134004\ttest: 0.1135821\tbest: 0.1135821 (50)\ttotal: 21.2s\tremaining: 20.4s\n",
      "99:\tlearn: 0.0250347\ttest: 0.0250021\tbest: 0.0250021 (99)\ttotal: 41.6s\tremaining: 0us\n",
      "\n",
      "bestTest = 0.02500206239\n",
      "bestIteration = 99\n",
      "\n",
      "                                           0\n",
      "ТОК РОТОРА 1                        7.225415\n",
      "ТОК РОТОРА 2                        2.115353\n",
      "ТОК СТАТОРА                         1.643008\n",
      "ВИБРАЦИЯ НА ОПОРЕ 1                 3.751706\n",
      "ВИБРАЦИЯ НА ОПОРЕ 2                 4.472327\n",
      "ВИБРАЦИЯ НА ОПОРЕ 3                 7.083866\n",
      "ВИБРАЦИЯ НА ОПОРЕ 3. ПРОДОЛЬНАЯ     6.426781\n",
      "ВИБРАЦИЯ НА ОПОРЕ 4                 3.732147\n",
      "ВИБРАЦИЯ НА ОПОРЕ 4. ПРОДОЛЬНАЯ     9.239803\n",
      "ТЕМПЕРАТУРА ПОДШИПНИКА НА ОПОРЕ 1   3.317686\n",
      "ТЕМПЕРАТУРА ПОДШИПНИКА НА ОПОРЕ 2  15.058092\n",
      "ТЕМПЕРАТУРА ПОДШИПНИКА НА ОПОРЕ 3   7.116962\n",
      "ТЕМПЕРАТУРА ПОДШИПНИКА НА ОПОРЕ 4   5.312685\n",
      "ТЕМПЕРАТУРА МАСЛА В МАСЛОБЛОКЕ      2.205255\n",
      "ТЕМПЕРАТУРА МАСЛА В СИСТЕМЕ         4.666836\n",
      "ДАВЛЕНИЕ МАСЛА В СИСТЕМЕ           16.632079\n",
      "Y_ЭКСГАУСТЕР А/М №4_РОТОР ЭКСГ. №4 M1 None 0 0 0\n"
     ]
    },
    {
     "data": {
      "application/vnd.jupyter.widget-view+json": {
       "model_id": "41d673044b5147ebb434da4dd24bfdff",
       "version_major": 2,
       "version_minor": 0
      },
      "text/plain": [
       "MetricVisualizer(layout=Layout(align_self='stretch', height='500px'))"
      ]
     },
     "metadata": {},
     "output_type": "display_data"
    },
    {
     "name": "stdout",
     "output_type": "stream",
     "text": [
      "0:\tlearn: 0.6746877\ttest: 0.6744474\tbest: 0.6744474 (0)\ttotal: 627ms\tremaining: 1m 2s\n",
      "50:\tlearn: 0.2556999\ttest: 0.2646321\tbest: 0.2646321 (50)\ttotal: 21.8s\tremaining: 20.9s\n",
      "99:\tlearn: 0.1405541\ttest: 0.1459052\tbest: 0.1459052 (99)\ttotal: 42.5s\tremaining: 0us\n",
      "\n",
      "bestTest = 0.1459051549\n",
      "bestIteration = 99\n",
      "\n",
      "                                           0\n",
      "ТОК РОТОРА 1                        9.944535\n",
      "ТОК РОТОРА 2                        9.890908\n",
      "ТОК СТАТОРА                         2.099732\n",
      "ВИБРАЦИЯ НА ОПОРЕ 1                 1.580038\n",
      "ВИБРАЦИЯ НА ОПОРЕ 2                 3.957558\n",
      "ВИБРАЦИЯ НА ОПОРЕ 3                 0.000000\n",
      "ВИБРАЦИЯ НА ОПОРЕ 3. ПРОДОЛЬНАЯ     3.453870\n",
      "ВИБРАЦИЯ НА ОПОРЕ 4                 5.471780\n",
      "ВИБРАЦИЯ НА ОПОРЕ 4. ПРОДОЛЬНАЯ    12.892520\n",
      "ТЕМПЕРАТУРА ПОДШИПНИКА НА ОПОРЕ 1   6.611710\n",
      "ТЕМПЕРАТУРА ПОДШИПНИКА НА ОПОРЕ 2  15.343478\n",
      "ТЕМПЕРАТУРА ПОДШИПНИКА НА ОПОРЕ 3   4.963981\n",
      "ТЕМПЕРАТУРА ПОДШИПНИКА НА ОПОРЕ 4   0.000000\n",
      "ТЕМПЕРАТУРА МАСЛА В МАСЛОБЛОКЕ      0.000000\n",
      "ТЕМПЕРАТУРА МАСЛА В СИСТЕМЕ        18.228141\n",
      "ДАВЛЕНИЕ МАСЛА В СИСТЕМЕ            5.561748\n",
      "Y_ЭКСГАУСТЕР А/М №4_РОТОР ЭКСГ. №4 M3 0.9638443935926774 4212 52 106\n"
     ]
    },
    {
     "data": {
      "application/vnd.jupyter.widget-view+json": {
       "model_id": "9a021a82861f4695abb8b0af9bde57fb",
       "version_major": 2,
       "version_minor": 0
      },
      "text/plain": [
       "MetricVisualizer(layout=Layout(align_self='stretch', height='500px'))"
      ]
     },
     "metadata": {},
     "output_type": "display_data"
    },
    {
     "name": "stdout",
     "output_type": "stream",
     "text": [
      "0:\tlearn: 0.6633989\ttest: 0.6643342\tbest: 0.6643342 (0)\ttotal: 419ms\tremaining: 41.5s\n",
      "50:\tlearn: 0.1236377\ttest: 0.1230666\tbest: 0.1230666 (50)\ttotal: 23.5s\tremaining: 22.6s\n",
      "99:\tlearn: 0.0346701\ttest: 0.0353090\tbest: 0.0353090 (99)\ttotal: 45.8s\tremaining: 0us\n",
      "\n",
      "bestTest = 0.03530895709\n",
      "bestIteration = 99\n",
      "\n",
      "                                           0\n",
      "ТОК РОТОРА 1                        7.903928\n",
      "ТОК РОТОРА 2                        6.948463\n",
      "ТОК СТАТОРА                         1.341423\n",
      "ВИБРАЦИЯ НА ОПОРЕ 1                 0.662586\n",
      "ВИБРАЦИЯ НА ОПОРЕ 2                17.860955\n",
      "ВИБРАЦИЯ НА ОПОРЕ 3                23.774801\n",
      "ВИБРАЦИЯ НА ОПОРЕ 3. ПРОДОЛЬНАЯ     5.758753\n",
      "ВИБРАЦИЯ НА ОПОРЕ 4                 0.693565\n",
      "ВИБРАЦИЯ НА ОПОРЕ 4. ПРОДОЛЬНАЯ     4.553369\n",
      "ТЕМПЕРАТУРА ПОДШИПНИКА НА ОПОРЕ 1   2.800278\n",
      "ТЕМПЕРАТУРА ПОДШИПНИКА НА ОПОРЕ 2   5.344333\n",
      "ТЕМПЕРАТУРА ПОДШИПНИКА НА ОПОРЕ 3   3.348543\n",
      "ТЕМПЕРАТУРА ПОДШИПНИКА НА ОПОРЕ 4   1.614071\n",
      "ТЕМПЕРАТУРА МАСЛА В МАСЛОБЛОКЕ      0.867809\n",
      "ТЕМПЕРАТУРА МАСЛА В СИСТЕМЕ         6.302859\n",
      "ДАВЛЕНИЕ МАСЛА В СИСТЕМЕ           10.224265\n",
      "Y_ЭКСГАУСТЕР А/М №4_МАСЛООХЛАДИТЕЛЬ  М-05-1 ЭКСГ. №4 M3 0.8050847457627118 95 3 20\n"
     ]
    },
    {
     "data": {
      "application/vnd.jupyter.widget-view+json": {
       "model_id": "9b3e96189834419991912f32dde2c896",
       "version_major": 2,
       "version_minor": 0
      },
      "text/plain": [
       "MetricVisualizer(layout=Layout(align_self='stretch', height='500px'))"
      ]
     },
     "metadata": {},
     "output_type": "display_data"
    },
    {
     "name": "stdout",
     "output_type": "stream",
     "text": [
      "0:\tlearn: 0.6613914\ttest: 0.6636129\tbest: 0.6636129 (0)\ttotal: 380ms\tremaining: 37.6s\n",
      "50:\tlearn: 0.1135573\ttest: 0.1136503\tbest: 0.1136503 (50)\ttotal: 21.5s\tremaining: 20.6s\n",
      "99:\tlearn: 0.0250796\ttest: 0.0250429\tbest: 0.0250429 (99)\ttotal: 40.7s\tremaining: 0us\n",
      "\n",
      "bestTest = 0.0250428627\n",
      "bestIteration = 99\n",
      "\n",
      "                                           0\n",
      "ТОК РОТОРА 1                        3.509167\n",
      "ТОК РОТОРА 2                        0.848118\n",
      "ТОК СТАТОРА                         6.917476\n",
      "ВИБРАЦИЯ НА ОПОРЕ 1                 1.257953\n",
      "ВИБРАЦИЯ НА ОПОРЕ 2                 2.849808\n",
      "ВИБРАЦИЯ НА ОПОРЕ 3                 1.171346\n",
      "ВИБРАЦИЯ НА ОПОРЕ 3. ПРОДОЛЬНАЯ     4.726361\n",
      "ВИБРАЦИЯ НА ОПОРЕ 4                 1.024371\n",
      "ВИБРАЦИЯ НА ОПОРЕ 4. ПРОДОЛЬНАЯ     2.067312\n",
      "ТЕМПЕРАТУРА ПОДШИПНИКА НА ОПОРЕ 1   5.179701\n",
      "ТЕМПЕРАТУРА ПОДШИПНИКА НА ОПОРЕ 2   2.355922\n",
      "ТЕМПЕРАТУРА ПОДШИПНИКА НА ОПОРЕ 3  30.773609\n",
      "ТЕМПЕРАТУРА ПОДШИПНИКА НА ОПОРЕ 4  16.481329\n",
      "ТЕМПЕРАТУРА МАСЛА В МАСЛОБЛОКЕ     17.743717\n",
      "ТЕМПЕРАТУРА МАСЛА В СИСТЕМЕ         1.417391\n",
      "ДАВЛЕНИЕ МАСЛА В СИСТЕМЕ            1.676417\n",
      "Y_ЭКСГАУСТЕР А/М №4_ПОДШИПНИК ОПОРНО-УПОРНЫЙ ЭКСГ. №4 M1 0.3333333333333333 1 0 2\n"
     ]
    },
    {
     "data": {
      "application/vnd.jupyter.widget-view+json": {
       "model_id": "cbdbf54ec32641acacba36e2e516746e",
       "version_major": 2,
       "version_minor": 0
      },
      "text/plain": [
       "MetricVisualizer(layout=Layout(align_self='stretch', height='500px'))"
      ]
     },
     "metadata": {},
     "output_type": "display_data"
    },
    {
     "name": "stdout",
     "output_type": "stream",
     "text": [
      "0:\tlearn: 0.6685797\ttest: 0.6685575\tbest: 0.6685575 (0)\ttotal: 428ms\tremaining: 42.4s\n",
      "50:\tlearn: 0.1869022\ttest: 0.1804991\tbest: 0.1804991 (50)\ttotal: 21.2s\tremaining: 20.3s\n",
      "99:\tlearn: 0.0812751\ttest: 0.0755596\tbest: 0.0755596 (99)\ttotal: 41.7s\tremaining: 0us\n",
      "\n",
      "bestTest = 0.07555961872\n",
      "bestIteration = 99\n",
      "\n",
      "                                           0\n",
      "ТОК РОТОРА 1                       20.491776\n",
      "ТОК РОТОРА 2                       15.558427\n",
      "ТОК СТАТОРА                         0.000000\n",
      "ВИБРАЦИЯ НА ОПОРЕ 1                 0.171895\n",
      "ВИБРАЦИЯ НА ОПОРЕ 2                 0.073563\n",
      "ВИБРАЦИЯ НА ОПОРЕ 3                 3.540734\n",
      "ВИБРАЦИЯ НА ОПОРЕ 3. ПРОДОЛЬНАЯ    14.553634\n",
      "ВИБРАЦИЯ НА ОПОРЕ 4                11.454117\n",
      "ВИБРАЦИЯ НА ОПОРЕ 4. ПРОДОЛЬНАЯ     8.372236\n",
      "ТЕМПЕРАТУРА ПОДШИПНИКА НА ОПОРЕ 1   8.768540\n",
      "ТЕМПЕРАТУРА ПОДШИПНИКА НА ОПОРЕ 2   1.409076\n",
      "ТЕМПЕРАТУРА ПОДШИПНИКА НА ОПОРЕ 3   0.000000\n",
      "ТЕМПЕРАТУРА ПОДШИПНИКА НА ОПОРЕ 4   4.441075\n",
      "ТЕМПЕРАТУРА МАСЛА В МАСЛОБЛОКЕ      0.468677\n",
      "ТЕМПЕРАТУРА МАСЛА В СИСТЕМЕ         6.606713\n",
      "ДАВЛЕНИЕ МАСЛА В СИСТЕМЕ            4.089536\n",
      "Y_ЭКСГАУСТЕР А/М №4_ПОДШИПНИК ОПОРНО-УПОРНЫЙ ЭКСГ. №4 M3 0.9546925566343042 2065 36 62\n"
     ]
    },
    {
     "data": {
      "application/vnd.jupyter.widget-view+json": {
       "model_id": "1a1b102a4f5b42b9be0685645d5e17b4",
       "version_major": 2,
       "version_minor": 0
      },
      "text/plain": [
       "MetricVisualizer(layout=Layout(align_self='stretch', height='500px'))"
      ]
     },
     "metadata": {},
     "output_type": "display_data"
    },
    {
     "name": "stdout",
     "output_type": "stream",
     "text": [
      "0:\tlearn: 0.6614482\ttest: 0.6636133\tbest: 0.6636133 (0)\ttotal: 361ms\tremaining: 35.8s\n",
      "50:\tlearn: 0.1138326\ttest: 0.1137567\tbest: 0.1137567 (50)\ttotal: 20.9s\tremaining: 20s\n",
      "99:\tlearn: 0.0252669\ttest: 0.0251074\tbest: 0.0251074 (99)\ttotal: 39.8s\tremaining: 0us\n",
      "\n",
      "bestTest = 0.02510744392\n",
      "bestIteration = 99\n",
      "\n",
      "                                           0\n",
      "ТОК РОТОРА 1                        0.855977\n",
      "ТОК РОТОРА 2                        0.459189\n",
      "ТОК СТАТОРА                         3.799688\n",
      "ВИБРАЦИЯ НА ОПОРЕ 1                 0.823455\n",
      "ВИБРАЦИЯ НА ОПОРЕ 2                 2.389611\n",
      "ВИБРАЦИЯ НА ОПОРЕ 3                 0.282456\n",
      "ВИБРАЦИЯ НА ОПОРЕ 3. ПРОДОЛЬНАЯ     1.325776\n",
      "ВИБРАЦИЯ НА ОПОРЕ 4                 0.521675\n",
      "ВИБРАЦИЯ НА ОПОРЕ 4. ПРОДОЛЬНАЯ     4.156830\n",
      "ТЕМПЕРАТУРА ПОДШИПНИКА НА ОПОРЕ 1   1.543711\n",
      "ТЕМПЕРАТУРА ПОДШИПНИКА НА ОПОРЕ 2   1.122068\n",
      "ТЕМПЕРАТУРА ПОДШИПНИКА НА ОПОРЕ 3  15.004498\n",
      "ТЕМПЕРАТУРА ПОДШИПНИКА НА ОПОРЕ 4  13.446261\n",
      "ТЕМПЕРАТУРА МАСЛА В МАСЛОБЛОКЕ     37.841152\n",
      "ТЕМПЕРАТУРА МАСЛА В СИСТЕМЕ        11.613884\n",
      "ДАВЛЕНИЕ МАСЛА В СИСТЕМЕ            4.813769\n",
      "Y_ЭКСГАУСТЕР А/М №4_ЭКСГАУСТЕР А/М №4 M1 None 0 0 0\n"
     ]
    },
    {
     "data": {
      "application/vnd.jupyter.widget-view+json": {
       "model_id": "f83701773b4d4191ae4ccbb28002af8a",
       "version_major": 2,
       "version_minor": 0
      },
      "text/plain": [
       "MetricVisualizer(layout=Layout(align_self='stretch', height='500px'))"
      ]
     },
     "metadata": {},
     "output_type": "display_data"
    },
    {
     "name": "stdout",
     "output_type": "stream",
     "text": [
      "0:\tlearn: 0.6621856\ttest: 0.6644975\tbest: 0.6644975 (0)\ttotal: 389ms\tremaining: 38.5s\n",
      "50:\tlearn: 0.1261049\ttest: 0.1260006\tbest: 0.1260006 (50)\ttotal: 18.7s\tremaining: 17.9s\n",
      "99:\tlearn: 0.0367943\ttest: 0.0354303\tbest: 0.0354303 (99)\ttotal: 37.2s\tremaining: 0us\n",
      "\n",
      "bestTest = 0.03543033747\n",
      "bestIteration = 99\n",
      "\n",
      "                                           0\n",
      "ТОК РОТОРА 1                        3.315045\n",
      "ТОК РОТОРА 2                        2.202820\n",
      "ТОК СТАТОРА                         2.118111\n",
      "ВИБРАЦИЯ НА ОПОРЕ 1                 0.385761\n",
      "ВИБРАЦИЯ НА ОПОРЕ 2                 2.089464\n",
      "ВИБРАЦИЯ НА ОПОРЕ 3                 2.307023\n",
      "ВИБРАЦИЯ НА ОПОРЕ 3. ПРОДОЛЬНАЯ     6.103234\n",
      "ВИБРАЦИЯ НА ОПОРЕ 4                18.435917\n",
      "ВИБРАЦИЯ НА ОПОРЕ 4. ПРОДОЛЬНАЯ    43.267331\n",
      "ТЕМПЕРАТУРА ПОДШИПНИКА НА ОПОРЕ 1   6.178769\n",
      "ТЕМПЕРАТУРА ПОДШИПНИКА НА ОПОРЕ 2   0.380535\n",
      "ТЕМПЕРАТУРА ПОДШИПНИКА НА ОПОРЕ 3   0.000000\n",
      "ТЕМПЕРАТУРА ПОДШИПНИКА НА ОПОРЕ 4   6.558894\n",
      "ТЕМПЕРАТУРА МАСЛА В МАСЛОБЛОКЕ      0.000000\n",
      "ТЕМПЕРАТУРА МАСЛА В СИСТЕМЕ         0.515242\n",
      "ДАВЛЕНИЕ МАСЛА В СИСТЕМЕ            6.141854\n",
      "Y_ЭКСГАУСТЕР А/М №4_ЗАП. И РЕГ. АРМАТУРА ЭКСГ.№4 M3 0.9308176100628931 444 3 30\n"
     ]
    },
    {
     "data": {
      "application/vnd.jupyter.widget-view+json": {
       "model_id": "094547ec3dad46f5b2f7bf10fdc2e770",
       "version_major": 2,
       "version_minor": 0
      },
      "text/plain": [
       "MetricVisualizer(layout=Layout(align_self='stretch', height='500px'))"
      ]
     },
     "metadata": {},
     "output_type": "display_data"
    },
    {
     "name": "stdout",
     "output_type": "stream",
     "text": [
      "0:\tlearn: 0.6638034\ttest: 0.6649734\tbest: 0.6649734 (0)\ttotal: 402ms\tremaining: 39.8s\n",
      "50:\tlearn: 0.1357246\ttest: 0.1321578\tbest: 0.1321578 (50)\ttotal: 18.8s\tremaining: 18.1s\n",
      "99:\tlearn: 0.0431947\ttest: 0.0399082\tbest: 0.0399082 (99)\ttotal: 39.2s\tremaining: 0us\n",
      "\n",
      "bestTest = 0.03990820726\n",
      "bestIteration = 99\n",
      "\n",
      "                                           0\n",
      "ТОК РОТОРА 1                        5.249315\n",
      "ТОК РОТОРА 2                        7.080821\n",
      "ТОК СТАТОРА                         0.887877\n",
      "ВИБРАЦИЯ НА ОПОРЕ 1                 1.893471\n",
      "ВИБРАЦИЯ НА ОПОРЕ 2                13.108174\n",
      "ВИБРАЦИЯ НА ОПОРЕ 3                 9.729743\n",
      "ВИБРАЦИЯ НА ОПОРЕ 3. ПРОДОЛЬНАЯ     5.098192\n",
      "ВИБРАЦИЯ НА ОПОРЕ 4                11.450069\n",
      "ВИБРАЦИЯ НА ОПОРЕ 4. ПРОДОЛЬНАЯ    15.348923\n",
      "ТЕМПЕРАТУРА ПОДШИПНИКА НА ОПОРЕ 1   0.000000\n",
      "ТЕМПЕРАТУРА ПОДШИПНИКА НА ОПОРЕ 2   0.123450\n",
      "ТЕМПЕРАТУРА ПОДШИПНИКА НА ОПОРЕ 3   1.167725\n",
      "ТЕМПЕРАТУРА ПОДШИПНИКА НА ОПОРЕ 4   1.724806\n",
      "ТЕМПЕРАТУРА МАСЛА В МАСЛОБЛОКЕ      2.677649\n",
      "ТЕМПЕРАТУРА МАСЛА В СИСТЕМЕ         0.042211\n",
      "ДАВЛЕНИЕ МАСЛА В СИСТЕМЕ           24.417573\n",
      "Y_ЭКСГАУСТЕР А/М №4_ПОДШИПНИК ОПОРНЫЙ №1 ЭКСГ. №4 M3 0.913151364764268 368 0 35\n"
     ]
    },
    {
     "data": {
      "application/vnd.jupyter.widget-view+json": {
       "model_id": "e10c2279b21549f8b56069efdba49b16",
       "version_major": 2,
       "version_minor": 0
      },
      "text/plain": [
       "MetricVisualizer(layout=Layout(align_self='stretch', height='500px'))"
      ]
     },
     "metadata": {},
     "output_type": "display_data"
    },
    {
     "name": "stdout",
     "output_type": "stream",
     "text": [
      "0:\tlearn: 0.6621118\ttest: 0.6641379\tbest: 0.6641379 (0)\ttotal: 404ms\tremaining: 40s\n",
      "50:\tlearn: 0.1216241\ttest: 0.1224259\tbest: 0.1224259 (50)\ttotal: 21.1s\tremaining: 20.2s\n",
      "99:\tlearn: 0.0332400\ttest: 0.0343349\tbest: 0.0343349 (99)\ttotal: 41.4s\tremaining: 0us\n",
      "\n",
      "bestTest = 0.03433490808\n",
      "bestIteration = 99\n",
      "\n",
      "                                           0\n",
      "ТОК РОТОРА 1                       28.379660\n",
      "ТОК РОТОРА 2                       20.116909\n",
      "ТОК СТАТОРА                         0.675096\n",
      "ВИБРАЦИЯ НА ОПОРЕ 1                 1.471899\n",
      "ВИБРАЦИЯ НА ОПОРЕ 2                 5.849360\n",
      "ВИБРАЦИЯ НА ОПОРЕ 3                 3.585147\n",
      "ВИБРАЦИЯ НА ОПОРЕ 3. ПРОДОЛЬНАЯ     0.075425\n",
      "ВИБРАЦИЯ НА ОПОРЕ 4                 0.000000\n",
      "ВИБРАЦИЯ НА ОПОРЕ 4. ПРОДОЛЬНАЯ    16.235701\n",
      "ТЕМПЕРАТУРА ПОДШИПНИКА НА ОПОРЕ 1   1.249148\n",
      "ТЕМПЕРАТУРА ПОДШИПНИКА НА ОПОРЕ 2   9.762492\n",
      "ТЕМПЕРАТУРА ПОДШИПНИКА НА ОПОРЕ 3   4.065330\n",
      "ТЕМПЕРАТУРА ПОДШИПНИКА НА ОПОРЕ 4   1.446191\n",
      "ТЕМПЕРАТУРА МАСЛА В МАСЛОБЛОКЕ      1.973775\n",
      "ТЕМПЕРАТУРА МАСЛА В СИСТЕМЕ         0.886827\n",
      "ДАВЛЕНИЕ МАСЛА В СИСТЕМЕ            4.227041\n",
      "Y_ЭКСГАУСТЕР А/М №4_ЭЛ/ДВИГАТЕЛЬ ГАЗ. ЗАДВИЖКИ ЭКСГ. №4 M3 0.7865853658536586 129 15 20\n"
     ]
    },
    {
     "data": {
      "application/vnd.jupyter.widget-view+json": {
       "model_id": "693b98dcfdb546ef9f74134885e1f583",
       "version_major": 2,
       "version_minor": 0
      },
      "text/plain": [
       "MetricVisualizer(layout=Layout(align_self='stretch', height='500px'))"
      ]
     },
     "metadata": {},
     "output_type": "display_data"
    },
    {
     "name": "stdout",
     "output_type": "stream",
     "text": [
      "0:\tlearn: 0.6613836\ttest: 0.6635992\tbest: 0.6635992 (0)\ttotal: 365ms\tremaining: 36.1s\n",
      "50:\tlearn: 0.1133175\ttest: 0.1135586\tbest: 0.1135586 (50)\ttotal: 21.6s\tremaining: 20.8s\n",
      "99:\tlearn: 0.0249207\ttest: 0.0249786\tbest: 0.0249786 (99)\ttotal: 42s\tremaining: 0us\n",
      "\n",
      "bestTest = 0.02497862548\n",
      "bestIteration = 99\n",
      "\n",
      "                                          0\n",
      "ТОК РОТОРА 1                       3.821105\n",
      "ТОК РОТОРА 2                       3.475682\n",
      "ТОК СТАТОРА                        3.796316\n",
      "ВИБРАЦИЯ НА ОПОРЕ 1                6.037382\n",
      "ВИБРАЦИЯ НА ОПОРЕ 2                8.571999\n",
      "ВИБРАЦИЯ НА ОПОРЕ 3                7.197698\n",
      "ВИБРАЦИЯ НА ОПОРЕ 3. ПРОДОЛЬНАЯ    7.640163\n",
      "ВИБРАЦИЯ НА ОПОРЕ 4                8.051356\n",
      "ВИБРАЦИЯ НА ОПОРЕ 4. ПРОДОЛЬНАЯ    9.523873\n",
      "ТЕМПЕРАТУРА ПОДШИПНИКА НА ОПОРЕ 1  6.288097\n",
      "ТЕМПЕРАТУРА ПОДШИПНИКА НА ОПОРЕ 2  8.147204\n",
      "ТЕМПЕРАТУРА ПОДШИПНИКА НА ОПОРЕ 3  5.054675\n",
      "ТЕМПЕРАТУРА ПОДШИПНИКА НА ОПОРЕ 4  5.839507\n",
      "ТЕМПЕРАТУРА МАСЛА В МАСЛОБЛОКЕ     5.042807\n",
      "ТЕМПЕРАТУРА МАСЛА В СИСТЕМЕ        5.129226\n",
      "ДАВЛЕНИЕ МАСЛА В СИСТЕМЕ           6.382911\n",
      "Y_ЭКСГАУСТЕР А/М №4_КЛ1 ТР№4 ДО ЭД ЭКСГАУСТЕРА №4 M3 None 0 0 0\n"
     ]
    },
    {
     "data": {
      "application/vnd.jupyter.widget-view+json": {
       "model_id": "5af493f3084042cebbd0cf08fefc79a3",
       "version_major": 2,
       "version_minor": 0
      },
      "text/plain": [
       "MetricVisualizer(layout=Layout(align_self='stretch', height='500px'))"
      ]
     },
     "metadata": {},
     "output_type": "display_data"
    },
    {
     "name": "stdout",
     "output_type": "stream",
     "text": [
      "0:\tlearn: 0.6613836\ttest: 0.6635990\tbest: 0.6635990 (0)\ttotal: 368ms\tremaining: 36.4s\n",
      "50:\tlearn: 0.1133175\ttest: 0.1135603\tbest: 0.1135603 (50)\ttotal: 23.4s\tremaining: 22.5s\n",
      "99:\tlearn: 0.0249207\ttest: 0.0249784\tbest: 0.0249784 (99)\ttotal: 43.6s\tremaining: 0us\n",
      "\n",
      "bestTest = 0.02497838442\n",
      "bestIteration = 99\n",
      "\n",
      "                                          0\n",
      "ТОК РОТОРА 1                       3.821105\n",
      "ТОК РОТОРА 2                       3.475682\n",
      "ТОК СТАТОРА                        3.796316\n",
      "ВИБРАЦИЯ НА ОПОРЕ 1                6.037382\n",
      "ВИБРАЦИЯ НА ОПОРЕ 2                8.571999\n",
      "ВИБРАЦИЯ НА ОПОРЕ 3                7.197698\n",
      "ВИБРАЦИЯ НА ОПОРЕ 3. ПРОДОЛЬНАЯ    7.640163\n",
      "ВИБРАЦИЯ НА ОПОРЕ 4                8.051356\n",
      "ВИБРАЦИЯ НА ОПОРЕ 4. ПРОДОЛЬНАЯ    9.523873\n",
      "ТЕМПЕРАТУРА ПОДШИПНИКА НА ОПОРЕ 1  6.288097\n",
      "ТЕМПЕРАТУРА ПОДШИПНИКА НА ОПОРЕ 2  8.147204\n",
      "ТЕМПЕРАТУРА ПОДШИПНИКА НА ОПОРЕ 3  5.054675\n",
      "ТЕМПЕРАТУРА ПОДШИПНИКА НА ОПОРЕ 4  5.839507\n",
      "ТЕМПЕРАТУРА МАСЛА В МАСЛОБЛОКЕ     5.042807\n",
      "ТЕМПЕРАТУРА МАСЛА В СИСТЕМЕ        5.129226\n",
      "ДАВЛЕНИЕ МАСЛА В СИСТЕМЕ           6.382911\n",
      "Y_ЭКСГАУСТЕР А/М №4_КЛ2 ТР№4 ДО ЭД ЭКСГАУСТЕРА №4 M3 None 0 0 0\n"
     ]
    },
    {
     "data": {
      "application/vnd.jupyter.widget-view+json": {
       "model_id": "17ab94fcb0304566bef02bc2af8c078a",
       "version_major": 2,
       "version_minor": 0
      },
      "text/plain": [
       "MetricVisualizer(layout=Layout(align_self='stretch', height='500px'))"
      ]
     },
     "metadata": {},
     "output_type": "display_data"
    },
    {
     "name": "stdout",
     "output_type": "stream",
     "text": [
      "0:\tlearn: 0.6613834\ttest: 0.6635991\tbest: 0.6635991 (0)\ttotal: 369ms\tremaining: 36.5s\n",
      "50:\tlearn: 0.1133112\ttest: 0.1135529\tbest: 0.1135529 (50)\ttotal: 21.3s\tremaining: 20.5s\n",
      "99:\tlearn: 0.0249100\ttest: 0.0249731\tbest: 0.0249731 (99)\ttotal: 42s\tremaining: 0us\n",
      "\n",
      "bestTest = 0.02497313533\n",
      "bestIteration = 99\n",
      "\n",
      "                                          0\n",
      "ТОК РОТОРА 1                       3.874475\n",
      "ТОК РОТОРА 2                       3.575776\n",
      "ТОК СТАТОРА                        3.846701\n",
      "ВИБРАЦИЯ НА ОПОРЕ 1                6.194156\n",
      "ВИБРАЦИЯ НА ОПОРЕ 2                8.830471\n",
      "ВИБРАЦИЯ НА ОПОРЕ 3                7.243630\n",
      "ВИБРАЦИЯ НА ОПОРЕ 3. ПРОДОЛЬНАЯ    7.456727\n",
      "ВИБРАЦИЯ НА ОПОРЕ 4                8.158099\n",
      "ВИБРАЦИЯ НА ОПОРЕ 4. ПРОДОЛЬНАЯ    9.461823\n",
      "ТЕМПЕРАТУРА ПОДШИПНИКА НА ОПОРЕ 1  5.564945\n",
      "ТЕМПЕРАТУРА ПОДШИПНИКА НА ОПОРЕ 2  7.806254\n",
      "ТЕМПЕРАТУРА ПОДШИПНИКА НА ОПОРЕ 3  5.204268\n",
      "ТЕМПЕРАТУРА ПОДШИПНИКА НА ОПОРЕ 4  5.899490\n",
      "ТЕМПЕРАТУРА МАСЛА В МАСЛОБЛОКЕ     5.108982\n",
      "ТЕМПЕРАТУРА МАСЛА В СИСТЕМЕ        5.300823\n",
      "ДАВЛЕНИЕ МАСЛА В СИСТЕМЕ           6.473381\n",
      "Y_ЭКСГАУСТЕР А/М №4_ТР-Р ТМ-4000-10/6 ЭКСГ. №4 M3 None 0 0 0\n"
     ]
    }
   ],
   "source": [
    "import catboost\n",
    "\n",
    "summary = dict()\n",
    "summary[\"model\"] = []\n",
    "summary[\"f1\"] = []\n",
    "summary[\"score\"] = []\n",
    "summary[\"TP\"] = []\n",
    "summary[\"FP\"] = []\n",
    "summary[\"FN\"] = []\n",
    "\n",
    "\n",
    "for col in y_train.columns:\n",
    "\n",
    "    target_train = y_train[col]\n",
    "    if len(target_train.unique())>1:\n",
    "        model = catboost.CatBoostClassifier(iterations=100, loss_function='CrossEntropy')\n",
    "\n",
    "        X_test = X_train.sample(10000)\n",
    "        target_test = target_train.loc[X_test.index.values]\n",
    "\n",
    "        X_val = X_train.sample(1000)\n",
    "        target_val = target_train.loc[X_val.index.values]\n",
    "\n",
    "        X_train = X_train#.sample(1000000)\n",
    "        target_train = target_train.loc[X_train.index.values]\n",
    "\n",
    "        model.fit(X_train.values, target_train.values, eval_set=(X_val.values, target_val.values), verbose=50, use_best_model=True, plot=True, early_stopping_rounds=100)\n",
    "        print(pd.DataFrame(model.feature_importances_, index=X_train.columns ))\n",
    "\n",
    "        model.save_model(\"ЭКСГАУСТЕР 4 \" +col.replace(\"/\", \"\")+\"__120\",format=\"cbm\",export_parameters=None, pool=None)\n",
    "        \n",
    "        pred = model.predict(X_test.values)\n",
    "        TP = sum((pred == 1)*(target_test == 1))\n",
    "        FP = sum((pred == 1)*(target_test == 0))\n",
    "        FN = sum((pred == 0)*(target_test == 1))\n",
    "        summary[\"model\"].append(\" ЭКСГАУСТЕР 4 \" + col.replace(\"/\", \"\")+\"__120\")\n",
    "        summary[\"TP\"].append(TP)\n",
    "        summary[\"FP\"].append(FP)\n",
    "        summary[\"FN\"].append(FN)\n",
    "        if (TP+FP+FN)!=0:\n",
    "            print(col, TP/(TP+FP+FN), TP, FP, FN)\n",
    "            summary[\"f1\"].append(2*TP/(2*TP+FP+FN))\n",
    "            summary[\"score\"].append(TP/(TP+FP+FN))\n",
    "        else:\n",
    "            print(col, None, TP, FP, FN)\n",
    "            summary[\"f1\"].append(None)\n",
    "            summary[\"score\"].append(None)\n",
    "    else:\n",
    "        summary[\"model\"].append(\"ЭКСГАУСТЕР 4 \" + col.replace(\"/\", \"\")+\"__120\")\n",
    "        summary[\"TP\"].append(0)\n",
    "        summary[\"FP\"].append(0)\n",
    "        summary[\"FN\"].append(0)\n",
    "        summary[\"f1\"].append(None)\n",
    "        summary[\"score\"].append(None)\n",
    "        \n",
    "            \n",
    "pd.DataFrame(summary).to_csv(\"summary ЭКСГАУСТЕР 4__120.csv\")"
   ]
  }
 ],
 "metadata": {
  "kernelspec": {
   "display_name": "Python 3",
   "language": "python",
   "name": "python3"
  },
  "language_info": {
   "codemirror_mode": {
    "name": "ipython",
    "version": 3
   },
   "file_extension": ".py",
   "mimetype": "text/x-python",
   "name": "python",
   "nbconvert_exporter": "python",
   "pygments_lexer": "ipython3",
   "version": "3.10.10"
  },
  "papermill": {
   "default_parameters": {},
   "duration": 2822.96165,
   "end_time": "2023-05-28T21:34:43.262194",
   "environment_variables": {},
   "exception": null,
   "input_path": "__notebook__.ipynb",
   "output_path": "__notebook__.ipynb",
   "parameters": {},
   "start_time": "2023-05-28T20:47:40.300544",
   "version": "2.4.0"
  },
  "widgets": {
   "application/vnd.jupyter.widget-state+json": {
    "state": {
     "082d4afdcf6f409d940f78986ffbe4ea": {
      "model_module": "catboost-widget",
      "model_module_version": "^1.0.0",
      "model_name": "CatboostWidgetModel",
      "state": {
       "_dom_classes": [],
       "_model_module": "catboost-widget",
       "_model_module_version": "^1.0.0",
       "_model_name": "CatboostWidgetModel",
       "_view_count": null,
       "_view_module": "catboost-widget",
       "_view_module_version": "^1.0.0",
       "_view_name": "CatboostWidgetView",
       "data": {
        "catboost_info": {
         "content": {
          "data": {
           "iterations": [
            {
             "iteration": 0,
             "learn": [
              0.6613936833
             ],
             "passed_time": 0.3659111298,
             "remaining_time": 36.22520185,
             "test": [
              0.6636097578
             ]
            },
            {
             "iteration": 1,
             "learn": [
              0.6363118389
             ],
             "passed_time": 0.7335718604,
             "remaining_time": 35.94502116,
             "test": [
              0.6357948838
             ]
            },
            {
             "iteration": 2,
             "learn": [
              0.6094031025
             ],
             "passed_time": 1.141782826,
             "remaining_time": 36.9176447,
             "test": [
              0.6095487665
             ]
            },
            {
             "iteration": 3,
             "learn": [
              0.5837531271
             ],
             "passed_time": 1.499752352,
             "remaining_time": 35.99405646,
             "test": [
              0.5847481513
             ]
            },
            {
             "iteration": 4,
             "learn": [
              0.5622367586
             ],
             "passed_time": 1.996117845,
             "remaining_time": 37.92623905,
             "test": [
              0.5612800514
             ]
            },
            {
             "iteration": 5,
             "learn": [
              0.5379027362
             ],
             "passed_time": 2.404246778,
             "remaining_time": 37.66653286,
             "test": [
              0.5390400635
             ]
            },
            {
             "iteration": 6,
             "learn": [
              0.5169499302
             ],
             "passed_time": 2.862897718,
             "remaining_time": 38.03564111,
             "test": [
              0.5179396239
             ]
            },
            {
             "iteration": 7,
             "learn": [
              0.4987777792
             ],
             "passed_time": 3.233735569,
             "remaining_time": 37.18795904,
             "test": [
              0.4979011488
             ]
            },
            {
             "iteration": 8,
             "learn": [
              0.4786155496
             ],
             "passed_time": 3.604169234,
             "remaining_time": 36.44215559,
             "test": [
              0.4788416692
             ]
            },
            {
             "iteration": 9,
             "learn": [
              0.4606857938
             ],
             "passed_time": 3.983019345,
             "remaining_time": 35.84717411,
             "test": [
              0.4606992419
             ]
            },
            {
             "iteration": 10,
             "learn": [
              0.4441998171
             ],
             "passed_time": 4.370184544,
             "remaining_time": 35.35876585,
             "test": [
              0.4434152354
             ]
            },
            {
             "iteration": 11,
             "learn": [
              0.4281584916
             ],
             "passed_time": 4.751632177,
             "remaining_time": 34.84530263,
             "test": [
              0.4269314688
             ]
            },
            {
             "iteration": 12,
             "learn": [
              0.4123619619
             ],
             "passed_time": 5.141018219,
             "remaining_time": 34.40527577,
             "test": [
              0.4112066515
             ]
            },
            {
             "iteration": 13,
             "learn": [
              0.3969170979
             ],
             "passed_time": 5.533366092,
             "remaining_time": 33.99067742,
             "test": [
              0.3961838777
             ]
            },
            {
             "iteration": 14,
             "learn": [
              0.3825589556
             ],
             "passed_time": 5.956987819,
             "remaining_time": 33.75626431,
             "test": [
              0.3818254811
             ]
            },
            {
             "iteration": 15,
             "learn": [
              0.3674865223
             ],
             "passed_time": 6.459727377,
             "remaining_time": 33.91356873,
             "test": [
              0.3680960548
             ]
            },
            {
             "iteration": 16,
             "learn": [
              0.3540503193
             ],
             "passed_time": 6.91200974,
             "remaining_time": 33.74687108,
             "test": [
              0.3549538487
             ]
            },
            {
             "iteration": 17,
             "learn": [
              0.3433631989
             ],
             "passed_time": 7.25169567,
             "remaining_time": 33.0355025,
             "test": [
              0.3423666115
             ]
            },
            {
             "iteration": 18,
             "learn": [
              0.3302567865
             ],
             "passed_time": 7.765153075,
             "remaining_time": 33.10407364,
             "test": [
              0.3303084498
             ]
            },
            {
             "iteration": 19,
             "learn": [
              0.3198376912
             ],
             "passed_time": 8.405276112,
             "remaining_time": 33.62110445,
             "test": [
              0.3187494133
             ]
            },
            {
             "iteration": 20,
             "learn": [
              0.3072372942
             ],
             "passed_time": 9.009167877,
             "remaining_time": 33.89163154,
             "test": [
              0.3076644426
             ]
            },
            {
             "iteration": 21,
             "learn": [
              0.2970645824
             ],
             "passed_time": 9.410538103,
             "remaining_time": 33.36463509,
             "test": [
              0.2970268964
             ]
            },
            {
             "iteration": 22,
             "learn": [
              0.2870324949
             ],
             "passed_time": 9.827843641,
             "remaining_time": 32.90191132,
             "test": [
              0.2868119319
             ]
            },
            {
             "iteration": 23,
             "learn": [
              0.2767835407
             ],
             "passed_time": 10.293094,
             "remaining_time": 32.59479767,
             "test": [
              0.2770026058
             ]
            },
            {
             "iteration": 24,
             "learn": [
              0.266942979
             ],
             "passed_time": 10.68709458,
             "remaining_time": 32.06128373,
             "test": [
              0.2675748038
             ]
            },
            {
             "iteration": 25,
             "learn": [
              0.2582039653
             ],
             "passed_time": 11.09663965,
             "remaining_time": 31.58274361,
             "test": [
              0.2585140689
             ]
            },
            {
             "iteration": 26,
             "learn": [
              0.2501806107
             ],
             "passed_time": 11.49404109,
             "remaining_time": 31.07648146,
             "test": [
              0.2498026958
             ]
            },
            {
             "iteration": 27,
             "learn": [
              0.2421965579
             ],
             "passed_time": 11.86888764,
             "remaining_time": 30.51999679,
             "test": [
              0.2414240565
             ]
            },
            {
             "iteration": 28,
             "learn": [
              0.2339380466
             ],
             "passed_time": 12.33570243,
             "remaining_time": 30.20120251,
             "test": [
              0.2333607215
             ]
            },
            {
             "iteration": 29,
             "learn": [
              0.2261185933
             ],
             "passed_time": 12.81426061,
             "remaining_time": 29.89994142,
             "test": [
              0.2256003812
             ]
            },
            {
             "iteration": 30,
             "learn": [
              0.2187760172
             ],
             "passed_time": 13.34503821,
             "remaining_time": 29.70347214,
             "test": [
              0.2181272279
             ]
            },
            {
             "iteration": 31,
             "learn": [
              0.2111755576
             ],
             "passed_time": 13.72154804,
             "remaining_time": 29.15828957,
             "test": [
              0.2109298999
             ]
            },
            {
             "iteration": 32,
             "learn": [
              0.2036402971
             ],
             "passed_time": 14.21000318,
             "remaining_time": 28.85061252,
             "test": [
              0.2039960012
             ]
            },
            {
             "iteration": 33,
             "learn": [
              0.1971137467
             ],
             "passed_time": 14.64906471,
             "remaining_time": 28.43641973,
             "test": [
              0.1973138078
             ]
            },
            {
             "iteration": 34,
             "learn": [
              0.1914550789
             ],
             "passed_time": 15.09483372,
             "remaining_time": 28.03326262,
             "test": [
              0.1908749197
             ]
            },
            {
             "iteration": 35,
             "learn": [
              0.1843243895
             ],
             "passed_time": 15.46526592,
             "remaining_time": 27.49380608,
             "test": [
              0.1846662858
             ]
            },
            {
             "iteration": 36,
             "learn": [
              0.1790912937
             ],
             "passed_time": 15.85682639,
             "remaining_time": 26.99946116,
             "test": [
              0.1786797607
             ]
            },
            {
             "iteration": 37,
             "learn": [
              0.1725808657
             ],
             "passed_time": 16.2299811,
             "remaining_time": 26.48049548,
             "test": [
              0.1729034639
             ]
            },
            {
             "iteration": 38,
             "learn": [
              0.1679587482
             ],
             "passed_time": 16.66273342,
             "remaining_time": 26.06222407,
             "test": [
              0.1673329067
             ]
            },
            {
             "iteration": 39,
             "learn": [
              0.1618139346
             ],
             "passed_time": 17.0522911,
             "remaining_time": 25.57843666,
             "test": [
              0.1619538361
             ]
            },
            {
             "iteration": 40,
             "learn": [
              0.1566551475
             ],
             "passed_time": 17.48010324,
             "remaining_time": 25.15429491,
             "test": [
              0.1567649061
             ]
            },
            {
             "iteration": 41,
             "learn": [
              0.1523316713
             ],
             "passed_time": 17.90328706,
             "remaining_time": 24.72358689,
             "test": [
              0.1517555418
             ]
            },
            {
             "iteration": 42,
             "learn": [
              0.1473553596
             ],
             "passed_time": 18.32988612,
             "remaining_time": 24.29775602,
             "test": [
              0.1469179986
             ]
            },
            {
             "iteration": 43,
             "learn": [
              0.1422629022
             ],
             "passed_time": 18.75086338,
             "remaining_time": 23.86473521,
             "test": [
              0.1422457796
             ]
            },
            {
             "iteration": 44,
             "learn": [
              0.1375826159
             ],
             "passed_time": 19.18461666,
             "remaining_time": 23.44786481,
             "test": [
              0.1377347786
             ]
            },
            {
             "iteration": 45,
             "learn": [
              0.133284867
             ],
             "passed_time": 19.63957989,
             "remaining_time": 23.055159,
             "test": [
              0.1333761296
             ]
            },
            {
             "iteration": 46,
             "learn": [
              0.1292542654
             ],
             "passed_time": 20.0010327,
             "remaining_time": 22.55435603,
             "test": [
              0.1291659797
             ]
            },
            {
             "iteration": 47,
             "learn": [
              0.1253282068
             ],
             "passed_time": 20.53254569,
             "remaining_time": 22.24359116,
             "test": [
              0.1250982111
             ]
            },
            {
             "iteration": 48,
             "learn": [
              0.1214205963
             ],
             "passed_time": 20.96459074,
             "remaining_time": 21.82028832,
             "test": [
              0.1211664979
             ]
            },
            {
             "iteration": 49,
             "learn": [
              0.1175410456
             ],
             "passed_time": 21.30966057,
             "remaining_time": 21.30966057,
             "test": [
              0.1173654647
             ]
            },
            {
             "iteration": 50,
             "learn": [
              0.1137157743
             ],
             "passed_time": 21.72604104,
             "remaining_time": 20.87403943,
             "test": [
              0.11369098
             ]
            },
            {
             "iteration": 51,
             "learn": [
              0.1101927241
             ],
             "passed_time": 22.07561188,
             "remaining_time": 20.37748789,
             "test": [
              0.1101380165
             ]
            },
            {
             "iteration": 52,
             "learn": [
              0.1072882919
             ],
             "passed_time": 22.4127431,
             "remaining_time": 19.87545143,
             "test": [
              0.1067034324
             ]
            },
            {
             "iteration": 53,
             "learn": [
              0.1037932523
             ],
             "passed_time": 22.7608983,
             "remaining_time": 19.38891336,
             "test": [
              0.1033816253
             ]
            },
            {
             "iteration": 54,
             "learn": [
              0.100149668
             ],
             "passed_time": 23.24753021,
             "remaining_time": 19.02070653,
             "test": [
              0.1001700215
             ]
            },
            {
             "iteration": 55,
             "learn": [
              0.09754239979
             ],
             "passed_time": 23.67160504,
             "remaining_time": 18.59911824,
             "test": [
              0.09706000808
             ]
            },
            {
             "iteration": 56,
             "learn": [
              0.09417241003
             ],
             "passed_time": 24.1449049,
             "remaining_time": 18.21457738,
             "test": [
              0.09405302536
             ]
            },
            {
             "iteration": 57,
             "learn": [
              0.09163560842
             ],
             "passed_time": 24.60608577,
             "remaining_time": 17.81820004,
             "test": [
              0.09114520903
             ]
            },
            {
             "iteration": 58,
             "learn": [
              0.08841035682
             ],
             "passed_time": 25.01303889,
             "remaining_time": 17.38194228,
             "test": [
              0.08833062455
             ]
            },
            {
             "iteration": 59,
             "learn": [
              0.08596782764
             ],
             "passed_time": 25.43773447,
             "remaining_time": 16.95848964,
             "test": [
              0.08560710003
             ]
            },
            {
             "iteration": 60,
             "learn": [
              0.08312229405
             ],
             "passed_time": 25.86514667,
             "remaining_time": 16.53673311,
             "test": [
              0.08297103548
             ]
            },
            {
             "iteration": 61,
             "learn": [
              0.08056169186
             ],
             "passed_time": 26.28327969,
             "remaining_time": 16.1091069,
             "test": [
              0.08041924511
             ]
            },
            {
             "iteration": 62,
             "learn": [
              0.07838554279
             ],
             "passed_time": 26.63326809,
             "remaining_time": 15.64176063,
             "test": [
              0.07794857598
             ]
            },
            {
             "iteration": 63,
             "learn": [
              0.07595595284
             ],
             "passed_time": 27.05362704,
             "remaining_time": 15.21766521,
             "test": [
              0.07555717583
             ]
            },
            {
             "iteration": 64,
             "learn": [
              0.07344425902
             ],
             "passed_time": 27.46150272,
             "remaining_time": 14.786963,
             "test": [
              0.07323994409
             ]
            },
            {
             "iteration": 65,
             "learn": [
              0.07117014933
             ],
             "passed_time": 27.86717294,
             "remaining_time": 14.35581636,
             "test": [
              0.07099895473
             ]
            },
            {
             "iteration": 66,
             "learn": [
              0.06898270173
             ],
             "passed_time": 28.2994374,
             "remaining_time": 13.93852887,
             "test": [
              0.0688307783
             ]
            },
            {
             "iteration": 67,
             "learn": [
              0.06689140249
             ],
             "passed_time": 28.66131065,
             "remaining_time": 13.4876756,
             "test": [
              0.06672950082
             ]
            },
            {
             "iteration": 68,
             "learn": [
              0.06489493912
             ],
             "passed_time": 29.06171077,
             "remaining_time": 13.05671064,
             "test": [
              0.06469656168
             ]
            },
            {
             "iteration": 69,
             "learn": [
              0.0629432961
             ],
             "passed_time": 29.39358116,
             "remaining_time": 12.59724907,
             "test": [
              0.06272613674
             ]
            },
            {
             "iteration": 70,
             "learn": [
              0.06101331814
             ],
             "passed_time": 29.75414693,
             "remaining_time": 12.15310227,
             "test": [
              0.06081811255
             ]
            },
            {
             "iteration": 71,
             "learn": [
              0.05913541616
             ],
             "passed_time": 30.13238156,
             "remaining_time": 11.71814838,
             "test": [
              0.05897044459
             ]
            },
            {
             "iteration": 72,
             "learn": [
              0.05739635536
             ],
             "passed_time": 30.53247994,
             "remaining_time": 11.29283505,
             "test": [
              0.05718033753
             ]
            },
            {
             "iteration": 73,
             "learn": [
              0.05586367585
             ],
             "passed_time": 30.93086945,
             "remaining_time": 10.86760278,
             "test": [
              0.05545080628
             ]
            },
            {
             "iteration": 74,
             "learn": [
              0.05411857457
             ],
             "passed_time": 31.37973719,
             "remaining_time": 10.4599124,
             "test": [
              0.05377164912
             ]
            },
            {
             "iteration": 75,
             "learn": [
              0.05233101985
             ],
             "passed_time": 31.78764759,
             "remaining_time": 10.0382045,
             "test": [
              0.05214341831
             ]
            },
            {
             "iteration": 76,
             "learn": [
              0.05098673876
             ],
             "passed_time": 32.28414485,
             "remaining_time": 9.643315994,
             "test": [
              0.05056773925
             ]
            },
            {
             "iteration": 77,
             "learn": [
              0.04928173911
             ],
             "passed_time": 32.68312616,
             "remaining_time": 9.218317636,
             "test": [
              0.04903712835
             ]
            },
            {
             "iteration": 78,
             "learn": [
              0.04784298492
             ],
             "passed_time": 33.08277807,
             "remaining_time": 8.794156197,
             "test": [
              0.04755521772
             ]
            },
            {
             "iteration": 79,
             "learn": [
              0.04636845263
             ],
             "passed_time": 33.47672091,
             "remaining_time": 8.369180226,
             "test": [
              0.04612043195
             ]
            },
            {
             "iteration": 80,
             "learn": [
              0.04510308738
             ],
             "passed_time": 33.84480206,
             "remaining_time": 7.938904186,
             "test": [
              0.04472849533
             ]
            },
            {
             "iteration": 81,
             "learn": [
              0.04359107269
             ],
             "passed_time": 34.20684513,
             "remaining_time": 7.508819663,
             "test": [
              0.04338100402
             ]
            },
            {
             "iteration": 82,
             "learn": [
              0.04237735732
             ],
             "passed_time": 34.60494762,
             "remaining_time": 7.087760356,
             "test": [
              0.04207200698
             ]
            },
            {
             "iteration": 83,
             "learn": [
              0.04115276321
             ],
             "passed_time": 35.00119519,
             "remaining_time": 6.666894321,
             "test": [
              0.04080720294
             ]
            },
            {
             "iteration": 84,
             "learn": [
              0.03981280694
             ],
             "passed_time": 35.37863984,
             "remaining_time": 6.243289384,
             "test": [
              0.03958013735
             ]
            },
            {
             "iteration": 85,
             "learn": [
              0.03859725123
             ],
             "passed_time": 35.86213532,
             "remaining_time": 5.838022028,
             "test": [
              0.03839039975
             ]
            },
            {
             "iteration": 86,
             "learn": [
              0.03751552297
             ],
             "passed_time": 36.20241585,
             "remaining_time": 5.409556392,
             "test": [
              0.03723808982
             ]
            },
            {
             "iteration": 87,
             "learn": [
              0.03646017033
             ],
             "passed_time": 36.56482821,
             "remaining_time": 4.986112938,
             "test": [
              0.03612047541
             ]
            },
            {
             "iteration": 88,
             "learn": [
              0.03533458387
             ],
             "passed_time": 36.95521168,
             "remaining_time": 4.567498073,
             "test": [
              0.03503559638
             ]
            },
            {
             "iteration": 89,
             "learn": [
              0.03429737039
             ],
             "passed_time": 37.40006054,
             "remaining_time": 4.155562282,
             "test": [
              0.03398711646
             ]
            },
            {
             "iteration": 90,
             "learn": [
              0.03324619692
             ],
             "passed_time": 37.7517115,
             "remaining_time": 3.733685753,
             "test": [
              0.03296643864
             ]
            },
            {
             "iteration": 91,
             "learn": [
              0.03225841905
             ],
             "passed_time": 38.18913427,
             "remaining_time": 3.320794285,
             "test": [
              0.03198046754
             ]
            },
            {
             "iteration": 92,
             "learn": [
              0.03127619138
             ],
             "passed_time": 38.56295795,
             "remaining_time": 2.902588233,
             "test": [
              0.03102184851
             ]
            },
            {
             "iteration": 93,
             "learn": [
              0.03033683293
             ],
             "passed_time": 38.95143212,
             "remaining_time": 2.486261624,
             "test": [
              0.03009183647
             ]
            },
            {
             "iteration": 94,
             "learn": [
              0.02943567661
             ],
             "passed_time": 39.49783891,
             "remaining_time": 2.078833627,
             "test": [
              0.02919435323
             ]
            },
            {
             "iteration": 95,
             "learn": [
              0.02861384919
             ],
             "passed_time": 40.14903849,
             "remaining_time": 1.672876604,
             "test": [
              0.02832415804
             ]
            },
            {
             "iteration": 96,
             "learn": [
              0.02772200193
             ],
             "passed_time": 40.65936252,
             "remaining_time": 1.257506057,
             "test": [
              0.02747909904
             ]
            },
            {
             "iteration": 97,
             "learn": [
              0.02689681621
             ],
             "passed_time": 41.10478343,
             "remaining_time": 0.8388731313,
             "test": [
              0.0266612874
             ]
            },
            {
             "iteration": 98,
             "learn": [
              0.02614559779
             ],
             "passed_time": 41.48897503,
             "remaining_time": 0.4190805558,
             "test": [
              0.0258643747
             ]
            },
            {
             "iteration": 99,
             "learn": [
              0.02529055618
             ],
             "passed_time": 41.85047212,
             "remaining_time": 0,
             "test": [
              0.02509204655
             ]
            }
           ],
           "meta": {
            "iteration_count": 100,
            "launch_mode": "Train",
            "learn_metrics": [
             {
              "best_value": "Min",
              "name": "CrossEntropy"
             }
            ],
            "learn_sets": [
             "learn"
            ],
            "name": "experiment",
            "parameters": "",
            "test_metrics": [
             {
              "best_value": "Min",
              "name": "CrossEntropy"
             }
            ],
            "test_sets": [
             "test"
            ]
           }
          },
          "passed_iterations": 99,
          "total_iterations": 100
         },
         "name": "catboost_info",
         "path": "catboost_info"
        }
       },
       "layout": "IPY_MODEL_f7bebcf88621409da6f2db463b5c2215"
      }
     },
     "094547ec3dad46f5b2f7bf10fdc2e770": {
      "model_module": "catboost-widget",
      "model_module_version": "^1.0.0",
      "model_name": "CatboostWidgetModel",
      "state": {
       "_dom_classes": [],
       "_model_module": "catboost-widget",
       "_model_module_version": "^1.0.0",
       "_model_name": "CatboostWidgetModel",
       "_view_count": null,
       "_view_module": "catboost-widget",
       "_view_module_version": "^1.0.0",
       "_view_name": "CatboostWidgetView",
       "data": {
        "catboost_info": {
         "content": {
          "data": {
           "iterations": [
            {
             "iteration": 0,
             "learn": [
              0.6638034068
             ],
             "passed_time": 0.4020087729,
             "remaining_time": 39.79886852,
             "test": [
              0.6649734128
             ]
            },
            {
             "iteration": 1,
             "learn": [
              0.6393228464
             ],
             "passed_time": 0.7528634709,
             "remaining_time": 36.89031007,
             "test": [
              0.6384312647
             ]
            },
            {
             "iteration": 2,
             "learn": [
              0.6131693266
             ],
             "passed_time": 1.114229843,
             "remaining_time": 36.02676492,
             "test": [
              0.6133491638
             ]
            },
            {
             "iteration": 3,
             "learn": [
              0.5891527754
             ],
             "passed_time": 1.436143766,
             "remaining_time": 34.46745038,
             "test": [
              0.5896255201
             ]
            },
            {
             "iteration": 4,
             "learn": [
              0.5682044491
             ],
             "passed_time": 1.832701368,
             "remaining_time": 34.82132599,
             "test": [
              0.5674053612
             ]
            },
            {
             "iteration": 5,
             "learn": [
              0.5472029952
             ],
             "passed_time": 2.183731368,
             "remaining_time": 34.21179143,
             "test": [
              0.5462040172
             ]
            },
            {
             "iteration": 6,
             "learn": [
              0.5259993445
             ],
             "passed_time": 2.569960138,
             "remaining_time": 34.14375612,
             "test": [
              0.5262297172
             ]
            },
            {
             "iteration": 7,
             "learn": [
              0.5084242452
             ],
             "passed_time": 2.936984352,
             "remaining_time": 33.77532005,
             "test": [
              0.5072266117
             ]
            },
            {
             "iteration": 8,
             "learn": [
              0.4896354063
             ],
             "passed_time": 3.282629025,
             "remaining_time": 33.1910268,
             "test": [
              0.4889384248
             ]
            },
            {
             "iteration": 9,
             "learn": [
              0.472165831
             ],
             "passed_time": 3.639549272,
             "remaining_time": 32.75594344,
             "test": [
              0.4716217835
             ]
            },
            {
             "iteration": 10,
             "learn": [
              0.455725899
             ],
             "passed_time": 3.993268239,
             "remaining_time": 32.3091703,
             "test": [
              0.4549067345
             ]
            },
            {
             "iteration": 11,
             "learn": [
              0.4398072031
             ],
             "passed_time": 4.343956451,
             "remaining_time": 31.85568064,
             "test": [
              0.4389759327
             ]
            },
            {
             "iteration": 12,
             "learn": [
              0.4247869772
             ],
             "passed_time": 4.700388228,
             "remaining_time": 31.4564443,
             "test": [
              0.4237743923
             ]
            },
            {
             "iteration": 13,
             "learn": [
              0.4103701716
             ],
             "passed_time": 5.100259955,
             "remaining_time": 31.3301683,
             "test": [
              0.4093227822
             ]
            },
            {
             "iteration": 14,
             "learn": [
              0.3955695274
             ],
             "passed_time": 5.421040637,
             "remaining_time": 30.71923028,
             "test": [
              0.3950149495
             ]
            },
            {
             "iteration": 15,
             "learn": [
              0.3824962103
             ],
             "passed_time": 5.806958211,
             "remaining_time": 30.48653061,
             "test": [
              0.3817620089
             ]
            },
            {
             "iteration": 16,
             "learn": [
              0.3703870845
             ],
             "passed_time": 6.223527775,
             "remaining_time": 30.38545914,
             "test": [
              0.3691542267
             ]
            },
            {
             "iteration": 17,
             "learn": [
              0.3580663496
             ],
             "passed_time": 6.580093546,
             "remaining_time": 29.97598171,
             "test": [
              0.3570422671
             ]
            },
            {
             "iteration": 18,
             "learn": [
              0.3466311699
             ],
             "passed_time": 6.935750777,
             "remaining_time": 29.56820068,
             "test": [
              0.345424206
             ]
            },
            {
             "iteration": 19,
             "learn": [
              0.3354874122
             ],
             "passed_time": 7.323817574,
             "remaining_time": 29.2952703,
             "test": [
              0.3342561948
             ]
            },
            {
             "iteration": 20,
             "learn": [
              0.324931466
             ],
             "passed_time": 7.681804231,
             "remaining_time": 28.89821592,
             "test": [
              0.3235953979
             ]
            },
            {
             "iteration": 21,
             "learn": [
              0.3143627771
             ],
             "passed_time": 8.046043861,
             "remaining_time": 28.52688278,
             "test": [
              0.313262216
             ]
            },
            {
             "iteration": 22,
             "learn": [
              0.304718373
             ],
             "passed_time": 8.427925765,
             "remaining_time": 28.21522973,
             "test": [
              0.3034448046
             ]
            },
            {
             "iteration": 23,
             "learn": [
              0.2954491521
             ],
             "passed_time": 8.756671331,
             "remaining_time": 27.72945921,
             "test": [
              0.2940192923
             ]
            },
            {
             "iteration": 24,
             "learn": [
              0.2862148101
             ],
             "passed_time": 9.117448857,
             "remaining_time": 27.35234657,
             "test": [
              0.2847517352
             ]
            },
            {
             "iteration": 25,
             "learn": [
              0.2769575054
             ],
             "passed_time": 9.43860318,
             "remaining_time": 26.86371674,
             "test": [
              0.2756117129
             ]
            },
            {
             "iteration": 26,
             "learn": [
              0.2687553363
             ],
             "passed_time": 9.821426047,
             "remaining_time": 26.55422598,
             "test": [
              0.267180011
             ]
            },
            {
             "iteration": 27,
             "learn": [
              0.2606603458
             ],
             "passed_time": 10.20726528,
             "remaining_time": 26.24725358,
             "test": [
              0.2590041984
             ]
            },
            {
             "iteration": 28,
             "learn": [
              0.252853184
             ],
             "passed_time": 10.58693387,
             "remaining_time": 25.91973465,
             "test": [
              0.251169483
             ]
            },
            {
             "iteration": 29,
             "learn": [
              0.2453370084
             ],
             "passed_time": 10.92588038,
             "remaining_time": 25.49372089,
             "test": [
              0.2435005069
             ]
            },
            {
             "iteration": 30,
             "learn": [
              0.2380935764
             ],
             "passed_time": 11.32513332,
             "remaining_time": 25.2075548,
             "test": [
              0.2360573934
             ]
            },
            {
             "iteration": 31,
             "learn": [
              0.2311256874
             ],
             "passed_time": 11.68638154,
             "remaining_time": 24.83356077,
             "test": [
              0.2290331598
             ]
            },
            {
             "iteration": 32,
             "learn": [
              0.2244691662
             ],
             "passed_time": 12.00771983,
             "remaining_time": 24.37930996,
             "test": [
              0.2221117623
             ]
            },
            {
             "iteration": 33,
             "learn": [
              0.2178313003
             ],
             "passed_time": 12.41632094,
             "remaining_time": 24.10227006,
             "test": [
              0.2154823097
             ]
            },
            {
             "iteration": 34,
             "learn": [
              0.2114791151
             ],
             "passed_time": 12.73988293,
             "remaining_time": 23.65978258,
             "test": [
              0.2090327984
             ]
            },
            {
             "iteration": 35,
             "learn": [
              0.2053611738
             ],
             "passed_time": 13.10074262,
             "remaining_time": 23.29020911,
             "test": [
              0.2029438207
             ]
            },
            {
             "iteration": 36,
             "learn": [
              0.1994432231
             ],
             "passed_time": 13.50539682,
             "remaining_time": 22.99567566,
             "test": [
              0.1968835655
             ]
            },
            {
             "iteration": 37,
             "learn": [
              0.1936864797
             ],
             "passed_time": 13.89400292,
             "remaining_time": 22.66916266,
             "test": [
              0.1911751119
             ]
            },
            {
             "iteration": 38,
             "learn": [
              0.1883067829
             ],
             "passed_time": 14.2426412,
             "remaining_time": 22.27695163,
             "test": [
              0.1855737639
             ]
            },
            {
             "iteration": 39,
             "learn": [
              0.1830957042
             ],
             "passed_time": 14.56840405,
             "remaining_time": 21.85260607,
             "test": [
              0.180333869
             ]
            },
            {
             "iteration": 40,
             "learn": [
              0.1778593924
             ],
             "passed_time": 14.96692839,
             "remaining_time": 21.537775,
             "test": [
              0.1750863047
             ]
            },
            {
             "iteration": 41,
             "learn": [
              0.1730838028
             ],
             "passed_time": 15.36730748,
             "remaining_time": 21.22151986,
             "test": [
              0.170092898
             ]
            },
            {
             "iteration": 42,
             "learn": [
              0.168391358
             ],
             "passed_time": 15.76819638,
             "remaining_time": 20.90202776,
             "test": [
              0.1651735756
             ]
            },
            {
             "iteration": 43,
             "learn": [
              0.1638197221
             ],
             "passed_time": 16.16698953,
             "remaining_time": 20.57616849,
             "test": [
              0.1605476606
             ]
            },
            {
             "iteration": 44,
             "learn": [
              0.1592576818
             ],
             "passed_time": 16.57760407,
             "remaining_time": 20.26151608,
             "test": [
              0.1559548723
             ]
            },
            {
             "iteration": 45,
             "learn": [
              0.1550432903
             ],
             "passed_time": 16.93639364,
             "remaining_time": 19.8818534,
             "test": [
              0.151545807
             ]
            },
            {
             "iteration": 46,
             "learn": [
              0.1509253617
             ],
             "passed_time": 17.33702112,
             "remaining_time": 19.55025785,
             "test": [
              0.1473085516
             ]
            },
            {
             "iteration": 47,
             "learn": [
              0.1468117279
             ],
             "passed_time": 17.72152967,
             "remaining_time": 19.19832381,
             "test": [
              0.1432936493
             ]
            },
            {
             "iteration": 48,
             "learn": [
              0.1430194777
             ],
             "passed_time": 18.10216794,
             "remaining_time": 18.84103194,
             "test": [
              0.139541248
             ]
            },
            {
             "iteration": 49,
             "learn": [
              0.1392899291
             ],
             "passed_time": 18.42951261,
             "remaining_time": 18.42951261,
             "test": [
              0.1356560053
             ]
            },
            {
             "iteration": 50,
             "learn": [
              0.1357245884
             ],
             "passed_time": 18.79847152,
             "remaining_time": 18.06127656,
             "test": [
              0.1321577865
             ]
            },
            {
             "iteration": 51,
             "learn": [
              0.1322753089
             ],
             "passed_time": 19.195917,
             "remaining_time": 17.719308,
             "test": [
              0.1285941685
             ]
            },
            {
             "iteration": 52,
             "learn": [
              0.1287497563
             ],
             "passed_time": 19.63199309,
             "remaining_time": 17.40950331,
             "test": [
              0.1252010393
             ]
            },
            {
             "iteration": 53,
             "learn": [
              0.1253400211
             ],
             "passed_time": 20.19975514,
             "remaining_time": 17.20719883,
             "test": [
              0.1218507955
             ]
            },
            {
             "iteration": 54,
             "learn": [
              0.1222316607
             ],
             "passed_time": 20.68970323,
             "remaining_time": 16.92793901,
             "test": [
              0.1185855319
             ]
            },
            {
             "iteration": 55,
             "learn": [
              0.1190803667
             ],
             "passed_time": 21.15257963,
             "remaining_time": 16.619884,
             "test": [
              0.1153525345
             ]
            },
            {
             "iteration": 56,
             "learn": [
              0.1160841767
             ],
             "passed_time": 21.55096935,
             "remaining_time": 16.2577488,
             "test": [
              0.1122846563
             ]
            },
            {
             "iteration": 57,
             "learn": [
              0.1132702627
             ],
             "passed_time": 21.96517184,
             "remaining_time": 15.90581409,
             "test": [
              0.1094309138
             ]
            },
            {
             "iteration": 58,
             "learn": [
              0.1102454607
             ],
             "passed_time": 22.33897184,
             "remaining_time": 15.52369229,
             "test": [
              0.1064161868
             ]
            },
            {
             "iteration": 59,
             "learn": [
              0.1075216131
             ],
             "passed_time": 22.83873838,
             "remaining_time": 15.22582559,
             "test": [
              0.1035892706
             ]
            },
            {
             "iteration": 60,
             "learn": [
              0.1049528106
             ],
             "passed_time": 23.39350591,
             "remaining_time": 14.95650378,
             "test": [
              0.1008400385
             ]
            },
            {
             "iteration": 61,
             "learn": [
              0.1021271017
             ],
             "passed_time": 24.1023342,
             "remaining_time": 14.77239838,
             "test": [
              0.09809285039
             ]
            },
            {
             "iteration": 62,
             "learn": [
              0.09976104943
             ],
             "passed_time": 24.6903912,
             "remaining_time": 14.50070594,
             "test": [
              0.09582176181
             ]
            },
            {
             "iteration": 63,
             "learn": [
              0.0974588747
             ],
             "passed_time": 25.33186883,
             "remaining_time": 14.24917622,
             "test": [
              0.09353170294
             ]
            },
            {
             "iteration": 64,
             "learn": [
              0.09502948693
             ],
             "passed_time": 25.94111045,
             "remaining_time": 13.96829024,
             "test": [
              0.09108328665
             ]
            },
            {
             "iteration": 65,
             "learn": [
              0.0927219382
             ],
             "passed_time": 26.37818668,
             "remaining_time": 13.58876283,
             "test": [
              0.08882272232
             ]
            },
            {
             "iteration": 66,
             "learn": [
              0.09046810017
             ],
             "passed_time": 26.70155003,
             "remaining_time": 13.15150972,
             "test": [
              0.08653269657
             ]
            },
            {
             "iteration": 67,
             "learn": [
              0.08833616203
             ],
             "passed_time": 27.10359371,
             "remaining_time": 12.75463233,
             "test": [
              0.08437247517
             ]
            },
            {
             "iteration": 68,
             "learn": [
              0.08624821447
             ],
             "passed_time": 27.48656818,
             "remaining_time": 12.34903788,
             "test": [
              0.08234674559
             ]
            },
            {
             "iteration": 69,
             "learn": [
              0.08428598526
             ],
             "passed_time": 27.81400218,
             "remaining_time": 11.92028665,
             "test": [
              0.08025481755
             ]
            },
            {
             "iteration": 70,
             "learn": [
              0.08243817705
             ],
             "passed_time": 28.24785794,
             "remaining_time": 11.53785747,
             "test": [
              0.07851309215
             ]
            },
            {
             "iteration": 71,
             "learn": [
              0.08044244832
             ],
             "passed_time": 28.60343844,
             "remaining_time": 11.12355939,
             "test": [
              0.07643891637
             ]
            },
            {
             "iteration": 72,
             "learn": [
              0.0785440105
             ],
             "passed_time": 28.98471769,
             "remaining_time": 10.72037504,
             "test": [
              0.07450297549
             ]
            },
            {
             "iteration": 73,
             "learn": [
              0.07668643938
             ],
             "passed_time": 29.30535598,
             "remaining_time": 10.29647642,
             "test": [
              0.07258624723
             ]
            },
            {
             "iteration": 74,
             "learn": [
              0.0749153082
             ],
             "passed_time": 29.68780679,
             "remaining_time": 9.895935598,
             "test": [
              0.07090207469
             ]
            },
            {
             "iteration": 75,
             "learn": [
              0.07312325154
             ],
             "passed_time": 29.99829393,
             "remaining_time": 9.47314545,
             "test": [
              0.06901755026
             ]
            },
            {
             "iteration": 76,
             "learn": [
              0.07152657452
             ],
             "passed_time": 30.34834202,
             "remaining_time": 9.065089176,
             "test": [
              0.06738142781
             ]
            },
            {
             "iteration": 77,
             "learn": [
              0.06967759511
             ],
             "passed_time": 30.72065131,
             "remaining_time": 8.664799088,
             "test": [
              0.06568452051
             ]
            },
            {
             "iteration": 78,
             "learn": [
              0.06805262265
             ],
             "passed_time": 31.02409225,
             "remaining_time": 8.246910598,
             "test": [
              0.06406586353
             ]
            },
            {
             "iteration": 79,
             "learn": [
              0.06664675025
             ],
             "passed_time": 31.38987554,
             "remaining_time": 7.847468885,
             "test": [
              0.06259329576
             ]
            },
            {
             "iteration": 80,
             "learn": [
              0.06503903051
             ],
             "passed_time": 31.70616465,
             "remaining_time": 7.437248498,
             "test": [
              0.06097249769
             ]
            },
            {
             "iteration": 81,
             "learn": [
              0.06338854255
             ],
             "passed_time": 32.11971181,
             "remaining_time": 7.050668447,
             "test": [
              0.05941102528
             ]
            },
            {
             "iteration": 82,
             "learn": [
              0.06208112141
             ],
             "passed_time": 32.49908856,
             "remaining_time": 6.656439825,
             "test": [
              0.05811080578
             ]
            },
            {
             "iteration": 83,
             "learn": [
              0.0608448528
             ],
             "passed_time": 32.88771779,
             "remaining_time": 6.264327198,
             "test": [
              0.05696388853
             ]
            },
            {
             "iteration": 84,
             "learn": [
              0.05944488472
             ],
             "passed_time": 33.31280541,
             "remaining_time": 5.878730367,
             "test": [
              0.05549977433
             ]
            },
            {
             "iteration": 85,
             "learn": [
              0.05801549671
             ],
             "passed_time": 33.73386675,
             "remaining_time": 5.491559703,
             "test": [
              0.05411646611
             ]
            },
            {
             "iteration": 86,
             "learn": [
              0.05695941955
             ],
             "passed_time": 34.10120639,
             "remaining_time": 5.095582564,
             "test": [
              0.05309350886
             ]
            },
            {
             "iteration": 87,
             "learn": [
              0.05560358513
             ],
             "passed_time": 34.50316957,
             "remaining_time": 4.704977669,
             "test": [
              0.05182177614
             ]
            },
            {
             "iteration": 88,
             "learn": [
              0.05456083977
             ],
             "passed_time": 34.8842166,
             "remaining_time": 4.311532389,
             "test": [
              0.05082617771
             ]
            },
            {
             "iteration": 89,
             "learn": [
              0.05325349052
             ],
             "passed_time": 35.30385905,
             "remaining_time": 3.922651006,
             "test": [
              0.04958046637
             ]
            },
            {
             "iteration": 90,
             "learn": [
              0.052079585
             ],
             "passed_time": 35.72955575,
             "remaining_time": 3.533692327,
             "test": [
              0.04833891868
             ]
            },
            {
             "iteration": 91,
             "learn": [
              0.05094313096
             ],
             "passed_time": 36.14923498,
             "remaining_time": 3.143411737,
             "test": [
              0.04717814062
             ]
            },
            {
             "iteration": 92,
             "learn": [
              0.04976412956
             ],
             "passed_time": 36.54760536,
             "remaining_time": 2.750895027,
             "test": [
              0.04607338559
             ]
            },
            {
             "iteration": 93,
             "learn": [
              0.04887219887
             ],
             "passed_time": 36.92729725,
             "remaining_time": 2.357061526,
             "test": [
              0.04523315441
             ]
            },
            {
             "iteration": 94,
             "learn": [
              0.04781715615
             ],
             "passed_time": 37.23494516,
             "remaining_time": 1.959733956,
             "test": [
              0.04415636753
             ]
            },
            {
             "iteration": 95,
             "learn": [
              0.04668673213
             ],
             "passed_time": 37.61264979,
             "remaining_time": 1.567193741,
             "test": [
              0.04319365746
             ]
            },
            {
             "iteration": 96,
             "learn": [
              0.04591775128
             ],
             "passed_time": 37.98090963,
             "remaining_time": 1.174667308,
             "test": [
              0.04245827654
             ]
            },
            {
             "iteration": 97,
             "learn": [
              0.04487122272
             ],
             "passed_time": 38.38021841,
             "remaining_time": 0.7832697634,
             "test": [
              0.04149681549
             ]
            },
            {
             "iteration": 98,
             "learn": [
              0.04389699506
             ],
             "passed_time": 38.79804024,
             "remaining_time": 0.3918993963,
             "test": [
              0.04057348225
             ]
            },
            {
             "iteration": 99,
             "learn": [
              0.04319470084
             ],
             "passed_time": 39.21472296,
             "remaining_time": 0,
             "test": [
              0.03990820726
             ]
            }
           ],
           "meta": {
            "iteration_count": 100,
            "launch_mode": "Train",
            "learn_metrics": [
             {
              "best_value": "Min",
              "name": "CrossEntropy"
             }
            ],
            "learn_sets": [
             "learn"
            ],
            "name": "experiment",
            "parameters": "",
            "test_metrics": [
             {
              "best_value": "Min",
              "name": "CrossEntropy"
             }
            ],
            "test_sets": [
             "test"
            ]
           }
          },
          "passed_iterations": 99,
          "total_iterations": 100
         },
         "name": "catboost_info",
         "path": "catboost_info"
        }
       },
       "layout": "IPY_MODEL_807af33ddc0f4c1ab415561f5beca5a9"
      }
     },
     "094c02ae5c4542deacc334b240345abb": {
      "model_module": "@jupyter-widgets/base",
      "model_module_version": "1.2.0",
      "model_name": "LayoutModel",
      "state": {
       "_model_module": "@jupyter-widgets/base",
       "_model_module_version": "1.2.0",
       "_model_name": "LayoutModel",
       "_view_count": null,
       "_view_module": "@jupyter-widgets/base",
       "_view_module_version": "1.2.0",
       "_view_name": "LayoutView",
       "align_content": null,
       "align_items": null,
       "align_self": "stretch",
       "border": null,
       "bottom": null,
       "display": null,
       "flex": null,
       "flex_flow": null,
       "grid_area": null,
       "grid_auto_columns": null,
       "grid_auto_flow": null,
       "grid_auto_rows": null,
       "grid_column": null,
       "grid_gap": null,
       "grid_row": null,
       "grid_template_areas": null,
       "grid_template_columns": null,
       "grid_template_rows": null,
       "height": "500px",
       "justify_content": null,
       "justify_items": null,
       "left": null,
       "margin": null,
       "max_height": null,
       "max_width": null,
       "min_height": null,
       "min_width": null,
       "object_fit": null,
       "object_position": null,
       "order": null,
       "overflow": null,
       "overflow_x": null,
       "overflow_y": null,
       "padding": null,
       "right": null,
       "top": null,
       "visibility": null,
       "width": null
      }
     },
     "0c3966132b214b1cb96a5a8d26bc449b": {
      "model_module": "@jupyter-widgets/base",
      "model_module_version": "1.2.0",
      "model_name": "LayoutModel",
      "state": {
       "_model_module": "@jupyter-widgets/base",
       "_model_module_version": "1.2.0",
       "_model_name": "LayoutModel",
       "_view_count": null,
       "_view_module": "@jupyter-widgets/base",
       "_view_module_version": "1.2.0",
       "_view_name": "LayoutView",
       "align_content": null,
       "align_items": null,
       "align_self": "stretch",
       "border": null,
       "bottom": null,
       "display": null,
       "flex": null,
       "flex_flow": null,
       "grid_area": null,
       "grid_auto_columns": null,
       "grid_auto_flow": null,
       "grid_auto_rows": null,
       "grid_column": null,
       "grid_gap": null,
       "grid_row": null,
       "grid_template_areas": null,
       "grid_template_columns": null,
       "grid_template_rows": null,
       "height": "500px",
       "justify_content": null,
       "justify_items": null,
       "left": null,
       "margin": null,
       "max_height": null,
       "max_width": null,
       "min_height": null,
       "min_width": null,
       "object_fit": null,
       "object_position": null,
       "order": null,
       "overflow": null,
       "overflow_x": null,
       "overflow_y": null,
       "padding": null,
       "right": null,
       "top": null,
       "visibility": null,
       "width": null
      }
     },
     "17ab94fcb0304566bef02bc2af8c078a": {
      "model_module": "catboost-widget",
      "model_module_version": "^1.0.0",
      "model_name": "CatboostWidgetModel",
      "state": {
       "_dom_classes": [],
       "_model_module": "catboost-widget",
       "_model_module_version": "^1.0.0",
       "_model_name": "CatboostWidgetModel",
       "_view_count": null,
       "_view_module": "catboost-widget",
       "_view_module_version": "^1.0.0",
       "_view_name": "CatboostWidgetView",
       "data": {
        "catboost_info": {
         "content": {
          "data": {
           "iterations": [
            {
             "iteration": 0,
             "learn": [
              0.6613833903
             ],
             "passed_time": 0.3687072902,
             "remaining_time": 36.50202173,
             "test": [
              0.6635990835
             ]
            },
            {
             "iteration": 1,
             "learn": [
              0.6362940914
             ],
             "passed_time": 0.7438286341,
             "remaining_time": 36.44760307,
             "test": [
              0.6357713193
             ]
            },
            {
             "iteration": 2,
             "learn": [
              0.6093756125
             ],
             "passed_time": 1.151833554,
             "remaining_time": 37.24261826,
             "test": [
              0.6095181277
             ]
            },
            {
             "iteration": 3,
             "learn": [
              0.5837155525
             ],
             "passed_time": 1.515455264,
             "remaining_time": 36.37092633,
             "test": [
              0.584710259
             ]
            },
            {
             "iteration": 4,
             "learn": [
              0.5621899661
             ],
             "passed_time": 2.008767524,
             "remaining_time": 38.16658295,
             "test": [
              0.5612346202
             ]
            },
            {
             "iteration": 5,
             "learn": [
              0.5376647564
             ],
             "passed_time": 2.411410583,
             "remaining_time": 37.7787658,
             "test": [
              0.5389887225
             ]
            },
            {
             "iteration": 6,
             "learn": [
              0.5168795874
             ],
             "passed_time": 2.873248906,
             "remaining_time": 38.17316404,
             "test": [
              0.5178839026
             ]
            },
            {
             "iteration": 7,
             "learn": [
              0.4986804725
             ],
             "passed_time": 3.24138323,
             "remaining_time": 37.27590714,
             "test": [
              0.497835274
             ]
            },
            {
             "iteration": 8,
             "learn": [
              0.4785225355
             ],
             "passed_time": 3.61348855,
             "remaining_time": 36.53638423,
             "test": [
              0.4787707762
             ]
            },
            {
             "iteration": 9,
             "learn": [
              0.4605786701
             ],
             "passed_time": 3.993611181,
             "remaining_time": 35.94250063,
             "test": [
              0.4606241833
             ]
            },
            {
             "iteration": 10,
             "learn": [
              0.4438173412
             ],
             "passed_time": 4.38147089,
             "remaining_time": 35.45008266,
             "test": [
              0.4433356472
             ]
            },
            {
             "iteration": 11,
             "learn": [
              0.4280486012
             ],
             "passed_time": 4.766435678,
             "remaining_time": 34.95386164,
             "test": [
              0.4268497504
             ]
            },
            {
             "iteration": 12,
             "learn": [
              0.4121031695
             ],
             "passed_time": 5.161756436,
             "remaining_time": 34.5440623,
             "test": [
              0.4111168153
             ]
            },
            {
             "iteration": 13,
             "learn": [
              0.3967726729
             ],
             "passed_time": 5.557965382,
             "remaining_time": 34.14178735,
             "test": [
              0.3960916114
             ]
            },
            {
             "iteration": 14,
             "learn": [
              0.3823884646
             ],
             "passed_time": 6.028547068,
             "remaining_time": 34.16176672,
             "test": [
              0.3817296108
             ]
            },
            {
             "iteration": 15,
             "learn": [
              0.36732901
             ],
             "passed_time": 6.530449899,
             "remaining_time": 34.28486197,
             "test": [
              0.3679952216
             ]
            },
            {
             "iteration": 16,
             "learn": [
              0.3538753236
             ],
             "passed_time": 6.982131741,
             "remaining_time": 34.08923144,
             "test": [
              0.3548510356
             ]
            },
            {
             "iteration": 17,
             "learn": [
              0.3431650856
             ],
             "passed_time": 7.327776209,
             "remaining_time": 33.38209162,
             "test": [
              0.3422644032
             ]
            },
            {
             "iteration": 18,
             "learn": [
              0.3300819036
             ],
             "passed_time": 7.724741171,
             "remaining_time": 32.93179131,
             "test": [
              0.3302044045
             ]
            },
            {
             "iteration": 19,
             "learn": [
              0.3196706335
             ],
             "passed_time": 8.182266119,
             "remaining_time": 32.72906448,
             "test": [
              0.3186430341
             ]
            },
            {
             "iteration": 20,
             "learn": [
              0.3069636013
             ],
             "passed_time": 8.63720626,
             "remaining_time": 32.49234736,
             "test": [
              0.3075545401
             ]
            },
            {
             "iteration": 21,
             "learn": [
              0.296878053
             ],
             "passed_time": 9.039280082,
             "remaining_time": 32.04835665,
             "test": [
              0.2969148466
             ]
            },
            {
             "iteration": 22,
             "learn": [
              0.2867627005
             ],
             "passed_time": 9.460549809,
             "remaining_time": 31.67227545,
             "test": [
              0.2866994474
             ]
            },
            {
             "iteration": 23,
             "learn": [
              0.276501
             ],
             "passed_time": 9.924296896,
             "remaining_time": 31.42694017,
             "test": [
              0.2768881323
             ]
            },
            {
             "iteration": 24,
             "learn": [
              0.266439592
             ],
             "passed_time": 10.30913687,
             "remaining_time": 30.92741061,
             "test": [
              0.2674609547
             ]
            },
            {
             "iteration": 25,
             "learn": [
              0.257975106
             ],
             "passed_time": 10.6866979,
             "remaining_time": 30.41598633,
             "test": [
              0.2583991348
             ]
            },
            {
             "iteration": 26,
             "learn": [
              0.2499589575
             ],
             "passed_time": 11.08271706,
             "remaining_time": 29.96438317,
             "test": [
              0.2496876728
             ]
            },
            {
             "iteration": 27,
             "learn": [
              0.2419681581
             ],
             "passed_time": 11.46118094,
             "remaining_time": 29.47160813,
             "test": [
              0.2413061341
             ]
            },
            {
             "iteration": 28,
             "learn": [
              0.2336735359
             ],
             "passed_time": 11.94021928,
             "remaining_time": 29.23295064,
             "test": [
              0.2332415983
             ]
            },
            {
             "iteration": 29,
             "learn": [
              0.2258396858
             ],
             "passed_time": 12.41860859,
             "remaining_time": 28.97675337,
             "test": [
              0.2254796851
             ]
            },
            {
             "iteration": 30,
             "learn": [
              0.2185184814
             ],
             "passed_time": 12.89625219,
             "remaining_time": 28.70456133,
             "test": [
              0.2180060788
             ]
            },
            {
             "iteration": 31,
             "learn": [
              0.2109259634
             ],
             "passed_time": 13.27012911,
             "remaining_time": 28.19902436,
             "test": [
              0.210807814
             ]
            },
            {
             "iteration": 32,
             "learn": [
              0.2033443423
             ],
             "passed_time": 13.76881439,
             "remaining_time": 27.95486557,
             "test": [
              0.2038727164
             ]
            },
            {
             "iteration": 33,
             "learn": [
              0.1964158988
             ],
             "passed_time": 14.20782176,
             "remaining_time": 27.57988929,
             "test": [
              0.197190011
             ]
            },
            {
             "iteration": 34,
             "learn": [
              0.1911690653
             ],
             "passed_time": 14.65415967,
             "remaining_time": 27.21486796,
             "test": [
              0.1907489702
             ]
            },
            {
             "iteration": 35,
             "learn": [
              0.183893571
             ],
             "passed_time": 15.0201061,
             "remaining_time": 26.70241084,
             "test": [
              0.1845388921
             ]
            },
            {
             "iteration": 36,
             "learn": [
              0.1787563317
             ],
             "passed_time": 15.42546192,
             "remaining_time": 26.2649757,
             "test": [
              0.1785505008
             ]
            },
            {
             "iteration": 37,
             "learn": [
              0.1721809697
             ],
             "passed_time": 15.80204971,
             "remaining_time": 25.78229163,
             "test": [
              0.1727739722
             ]
            },
            {
             "iteration": 38,
             "learn": [
              0.167660699
             ],
             "passed_time": 16.22813473,
             "remaining_time": 25.38246715,
             "test": [
              0.1672012996
             ]
            },
            {
             "iteration": 39,
             "learn": [
              0.1614171147
             ],
             "passed_time": 16.62860261,
             "remaining_time": 24.94290392,
             "test": [
              0.1618235045
             ]
            },
            {
             "iteration": 40,
             "learn": [
              0.1563213131
             ],
             "passed_time": 17.10157812,
             "remaining_time": 24.60958803,
             "test": [
              0.1566336462
             ]
            },
            {
             "iteration": 41,
             "learn": [
              0.1520095435
             ],
             "passed_time": 17.53011755,
             "remaining_time": 24.20825757,
             "test": [
              0.1516233426
             ]
            },
            {
             "iteration": 42,
             "learn": [
              0.1469947897
             ],
             "passed_time": 17.95692634,
             "remaining_time": 23.80336747,
             "test": [
              0.1467858291
             ]
            },
            {
             "iteration": 43,
             "learn": [
              0.1418588854
             ],
             "passed_time": 18.37641841,
             "remaining_time": 23.38816889,
             "test": [
              0.1421139551
             ]
            },
            {
             "iteration": 44,
             "learn": [
              0.1370974446
             ],
             "passed_time": 18.81015048,
             "remaining_time": 22.99018392,
             "test": [
              0.1376018494
             ]
            },
            {
             "iteration": 45,
             "learn": [
              0.132899761
             ],
             "passed_time": 19.26071724,
             "remaining_time": 22.6104072,
             "test": [
              0.1332424281
             ]
            },
            {
             "iteration": 46,
             "learn": [
              0.1289107031
             ],
             "passed_time": 19.62467703,
             "remaining_time": 22.12995495,
             "test": [
              0.1290306756
             ]
            },
            {
             "iteration": 47,
             "learn": [
              0.1249832983
             ],
             "passed_time": 20.14926665,
             "remaining_time": 21.82837221,
             "test": [
              0.1249620625
             ]
            },
            {
             "iteration": 48,
             "learn": [
              0.121074667
             ],
             "passed_time": 20.58370083,
             "remaining_time": 21.42385189,
             "test": [
              0.1210292282
             ]
            },
            {
             "iteration": 49,
             "learn": [
              0.117187083
             ],
             "passed_time": 20.9274625,
             "remaining_time": 20.9274625,
             "test": [
              0.1172276654
             ]
            },
            {
             "iteration": 50,
             "learn": [
              0.1133112007
             ],
             "passed_time": 21.33748233,
             "remaining_time": 20.50071832,
             "test": [
              0.1135529143
             ]
            },
            {
             "iteration": 51,
             "learn": [
              0.1097479395
             ],
             "passed_time": 21.69865773,
             "remaining_time": 20.02953022,
             "test": [
              0.1099995415
             ]
            },
            {
             "iteration": 52,
             "learn": [
              0.1069197991
             ],
             "passed_time": 22.03536354,
             "remaining_time": 19.54079409,
             "test": [
              0.106563595
             ]
            },
            {
             "iteration": 53,
             "learn": [
              0.1033973858
             ],
             "passed_time": 22.38146432,
             "remaining_time": 19.06569183,
             "test": [
              0.1032413547
             ]
            },
            {
             "iteration": 54,
             "learn": [
              0.09972364444
             ],
             "passed_time": 22.83992702,
             "remaining_time": 18.68721302,
             "test": [
              0.100028268
             ]
            },
            {
             "iteration": 55,
             "learn": [
              0.09713066155
             ],
             "passed_time": 23.25241857,
             "remaining_time": 18.26975745,
             "test": [
              0.09692016224
             ]
            },
            {
             "iteration": 56,
             "learn": [
              0.09375872225
             ],
             "passed_time": 23.67804514,
             "remaining_time": 17.86238493,
             "test": [
              0.09391280087
             ]
            },
            {
             "iteration": 57,
             "learn": [
              0.09121575996
             ],
             "passed_time": 24.13402083,
             "remaining_time": 17.47635991,
             "test": [
              0.09100446177
             ]
            },
            {
             "iteration": 58,
             "learn": [
              0.0879338195
             ],
             "passed_time": 24.54409357,
             "remaining_time": 17.05606502,
             "test": [
              0.08818926163
             ]
            },
            {
             "iteration": 59,
             "learn": [
              0.08546447831
             ],
             "passed_time": 24.96462294,
             "remaining_time": 16.64308196,
             "test": [
              0.08546557128
             ]
            },
            {
             "iteration": 60,
             "learn": [
              0.08256759891
             ],
             "passed_time": 25.38812313,
             "remaining_time": 16.23175086,
             "test": [
              0.08282922417
             ]
            },
            {
             "iteration": 61,
             "learn": [
              0.08009365571
             ],
             "passed_time": 25.94503254,
             "remaining_time": 15.90179414,
             "test": [
              0.08027771681
             ]
            },
            {
             "iteration": 62,
             "learn": [
              0.0779629682
             ],
             "passed_time": 26.52578289,
             "remaining_time": 15.57863439,
             "test": [
              0.07780797512
             ]
            },
            {
             "iteration": 63,
             "learn": [
              0.07548044682
             ],
             "passed_time": 27.07362951,
             "remaining_time": 15.2289166,
             "test": [
              0.07541726579
             ]
            },
            {
             "iteration": 64,
             "learn": [
              0.07294330947
             ],
             "passed_time": 27.52751828,
             "remaining_time": 14.82250984,
             "test": [
              0.07310307656
             ]
            },
            {
             "iteration": 65,
             "learn": [
              0.07052810809
             ],
             "passed_time": 28.00060513,
             "remaining_time": 14.42455416,
             "test": [
              0.07086206341
             ]
            },
            {
             "iteration": 66,
             "learn": [
              0.06843569683
             ],
             "passed_time": 28.44989846,
             "remaining_time": 14.01263656,
             "test": [
              0.06869235326
             ]
            },
            {
             "iteration": 67,
             "learn": [
              0.0664233325
             ],
             "passed_time": 28.80853975,
             "remaining_time": 13.55695988,
             "test": [
              0.06659134735
             ]
            },
            {
             "iteration": 68,
             "learn": [
              0.0644582826
             ],
             "passed_time": 29.22063548,
             "remaining_time": 13.12811159,
             "test": [
              0.06455675261
             ]
            },
            {
             "iteration": 69,
             "learn": [
              0.06250452201
             ],
             "passed_time": 29.56178057,
             "remaining_time": 12.66933453,
             "test": [
              0.06258634651
             ]
            },
            {
             "iteration": 70,
             "learn": [
              0.06055507112
             ],
             "passed_time": 29.91723734,
             "remaining_time": 12.21971666,
             "test": [
              0.060677913
             ]
            },
            {
             "iteration": 71,
             "learn": [
              0.05864528965
             ],
             "passed_time": 30.30055707,
             "remaining_time": 11.78354997,
             "test": [
              0.05882967087
             ]
            },
            {
             "iteration": 72,
             "learn": [
              0.05683236495
             ],
             "passed_time": 30.70389403,
             "remaining_time": 11.35623478,
             "test": [
              0.05703919269
             ]
            },
            {
             "iteration": 73,
             "learn": [
              0.05542297878
             ],
             "passed_time": 31.15299559,
             "remaining_time": 10.9456471,
             "test": [
              0.0553050447
             ]
            },
            {
             "iteration": 74,
             "learn": [
              0.05366380018
             ],
             "passed_time": 31.60672298,
             "remaining_time": 10.53557433,
             "test": [
              0.05362523157
             ]
            },
            {
             "iteration": 75,
             "learn": [
              0.05181646638
             ],
             "passed_time": 32.03889376,
             "remaining_time": 10.1175454,
             "test": [
              0.0519976395
             ]
            },
            {
             "iteration": 76,
             "learn": [
              0.05052210732
             ],
             "passed_time": 32.54784717,
             "remaining_time": 9.722084219,
             "test": [
              0.05042076248
             ]
            },
            {
             "iteration": 77,
             "learn": [
              0.04883185893
             ],
             "passed_time": 32.95668802,
             "remaining_time": 9.295476109,
             "test": [
              0.04889300463
             ]
            },
            {
             "iteration": 78,
             "learn": [
              0.04719655515
             ],
             "passed_time": 33.3496473,
             "remaining_time": 8.865096119,
             "test": [
              0.04741257346
             ]
            },
            {
             "iteration": 79,
             "learn": [
              0.04590323704
             ],
             "passed_time": 33.74996342,
             "remaining_time": 8.437490856,
             "test": [
              0.04597807281
             ]
            },
            {
             "iteration": 80,
             "learn": [
              0.04463971698
             ],
             "passed_time": 34.11704083,
             "remaining_time": 8.002762663,
             "test": [
              0.04458794742
             ]
            },
            {
             "iteration": 81,
             "learn": [
              0.04305400714
             ],
             "passed_time": 34.48624938,
             "remaining_time": 7.570152303,
             "test": [
              0.04324103836
             ]
            },
            {
             "iteration": 82,
             "learn": [
              0.04194385825
             ],
             "passed_time": 34.84567212,
             "remaining_time": 7.137065373,
             "test": [
              0.04193549156
             ]
            },
            {
             "iteration": 83,
             "learn": [
              0.04070491145
             ],
             "passed_time": 35.20576902,
             "remaining_time": 6.705860766,
             "test": [
              0.04067029481
             ]
            },
            {
             "iteration": 84,
             "learn": [
              0.03933765458
             ],
             "passed_time": 35.60064469,
             "remaining_time": 6.28246671,
             "test": [
              0.03944381641
             ]
            },
            {
             "iteration": 85,
             "learn": [
              0.03811595968
             ],
             "passed_time": 36.07713413,
             "remaining_time": 5.873021835,
             "test": [
              0.03825578156
             ]
            },
            {
             "iteration": 86,
             "learn": [
              0.0370969648
             ],
             "passed_time": 36.41923321,
             "remaining_time": 5.441954388,
             "test": [
              0.03710369386
             ]
            },
            {
             "iteration": 87,
             "learn": [
              0.03604596125
             ],
             "passed_time": 36.84972489,
             "remaining_time": 5.024962485,
             "test": [
              0.03598729149
             ]
            },
            {
             "iteration": 88,
             "learn": [
              0.03485668344
             ],
             "passed_time": 37.25097453,
             "remaining_time": 4.604053032,
             "test": [
              0.03490483088
             ]
            },
            {
             "iteration": 89,
             "learn": [
              0.03381343339
             ],
             "passed_time": 37.71035511,
             "remaining_time": 4.190039457,
             "test": [
              0.0338559517
             ]
            },
            {
             "iteration": 90,
             "learn": [
              0.03280831646
             ],
             "passed_time": 38.08633261,
             "remaining_time": 3.766780148,
             "test": [
              0.03283854905
             ]
            },
            {
             "iteration": 91,
             "learn": [
              0.03181806811
             ],
             "passed_time": 38.5273449,
             "remaining_time": 3.350203904,
             "test": [
              0.03185309385
             ]
            },
            {
             "iteration": 92,
             "learn": [
              0.03084148906
             ],
             "passed_time": 38.99114308,
             "remaining_time": 2.934817221,
             "test": [
              0.0308971388
             ]
            },
            {
             "iteration": 93,
             "learn": [
              0.02989309131
             ],
             "passed_time": 39.45335927,
             "remaining_time": 2.518299528,
             "test": [
              0.02997045341
             ]
            },
            {
             "iteration": 94,
             "learn": [
              0.02895940529
             ],
             "passed_time": 39.91563301,
             "remaining_time": 2.10082279,
             "test": [
              0.02907224189
             ]
            },
            {
             "iteration": 95,
             "learn": [
              0.02822589552
             ],
             "passed_time": 40.36563534,
             "remaining_time": 1.681901472,
             "test": [
              0.02820116802
             ]
            },
            {
             "iteration": 96,
             "learn": [
              0.02734192807
             ],
             "passed_time": 40.7941639,
             "remaining_time": 1.261675172,
             "test": [
              0.02735656149
             ]
            },
            {
             "iteration": 97,
             "learn": [
              0.02641714858
             ],
             "passed_time": 41.22489928,
             "remaining_time": 0.8413244752,
             "test": [
              0.02653763537
             ]
            },
            {
             "iteration": 98,
             "learn": [
              0.02576431346
             ],
             "passed_time": 41.60428244,
             "remaining_time": 0.4202452772,
             "test": [
              0.02574315574
             ]
            },
            {
             "iteration": 99,
             "learn": [
              0.02491004549
             ],
             "passed_time": 41.98254827,
             "remaining_time": 0,
             "test": [
              0.02497313533
             ]
            }
           ],
           "meta": {
            "iteration_count": 100,
            "launch_mode": "Train",
            "learn_metrics": [
             {
              "best_value": "Min",
              "name": "CrossEntropy"
             }
            ],
            "learn_sets": [
             "learn"
            ],
            "name": "experiment",
            "parameters": "",
            "test_metrics": [
             {
              "best_value": "Min",
              "name": "CrossEntropy"
             }
            ],
            "test_sets": [
             "test"
            ]
           }
          },
          "passed_iterations": 99,
          "total_iterations": 100
         },
         "name": "catboost_info",
         "path": "catboost_info"
        }
       },
       "layout": "IPY_MODEL_68d8172392b742198aa41fced2715f2d"
      }
     },
     "1a1b102a4f5b42b9be0685645d5e17b4": {
      "model_module": "catboost-widget",
      "model_module_version": "^1.0.0",
      "model_name": "CatboostWidgetModel",
      "state": {
       "_dom_classes": [],
       "_model_module": "catboost-widget",
       "_model_module_version": "^1.0.0",
       "_model_name": "CatboostWidgetModel",
       "_view_count": null,
       "_view_module": "catboost-widget",
       "_view_module_version": "^1.0.0",
       "_view_name": "CatboostWidgetView",
       "data": {
        "catboost_info": {
         "content": {
          "data": {
           "iterations": [
            {
             "iteration": 0,
             "learn": [
              0.6614482451
             ],
             "passed_time": 0.3611594386,
             "remaining_time": 35.75478442,
             "test": [
              0.6636133275
             ]
            },
            {
             "iteration": 1,
             "learn": [
              0.6363493922
             ],
             "passed_time": 0.7307441873,
             "remaining_time": 35.80646518,
             "test": [
              0.6358013085
             ]
            },
            {
             "iteration": 2,
             "learn": [
              0.6094422725
             ],
             "passed_time": 1.151617552,
             "remaining_time": 37.23563419,
             "test": [
              0.6095611463
             ]
            },
            {
             "iteration": 3,
             "learn": [
              0.5838526687
             ],
             "passed_time": 1.507831363,
             "remaining_time": 36.18795272,
             "test": [
              0.5847647893
             ]
            },
            {
             "iteration": 4,
             "learn": [
              0.5622988127
             ],
             "passed_time": 1.973025809,
             "remaining_time": 37.48749037,
             "test": [
              0.5613029863
             ]
            },
            {
             "iteration": 5,
             "learn": [
              0.5380421969
             ],
             "passed_time": 2.371094937,
             "remaining_time": 37.14715402,
             "test": [
              0.5390662177
             ]
            },
            {
             "iteration": 6,
             "learn": [
              0.5170451209
             ],
             "passed_time": 2.832327064,
             "remaining_time": 37.62948813,
             "test": [
              0.5179725769
             ]
            },
            {
             "iteration": 7,
             "learn": [
              0.4988505853
             ],
             "passed_time": 3.19785749,
             "remaining_time": 36.77536113,
             "test": [
              0.4979337432
             ]
            },
            {
             "iteration": 8,
             "learn": [
              0.4787444028
             ],
             "passed_time": 3.530709065,
             "remaining_time": 35.69939165,
             "test": [
              0.4788753229
             ]
            },
            {
             "iteration": 9,
             "learn": [
              0.4608003725
             ],
             "passed_time": 3.909643503,
             "remaining_time": 35.18679152,
             "test": [
              0.4607363499
             ]
            },
            {
             "iteration": 10,
             "learn": [
              0.4442176146
             ],
             "passed_time": 4.295532162,
             "remaining_time": 34.75476022,
             "test": [
              0.4434571749
             ]
            },
            {
             "iteration": 11,
             "learn": [
              0.4282623446
             ],
             "passed_time": 4.679226638,
             "remaining_time": 34.31432868,
             "test": [
              0.4269790371
             ]
            },
            {
             "iteration": 12,
             "learn": [
              0.4124215912
             ],
             "passed_time": 5.076835803,
             "remaining_time": 33.9757473,
             "test": [
              0.4112529931
             ]
            },
            {
             "iteration": 13,
             "learn": [
              0.3970303755
             ],
             "passed_time": 5.467246998,
             "remaining_time": 33.58451727,
             "test": [
              0.3962342472
             ]
            },
            {
             "iteration": 14,
             "learn": [
              0.3827030171
             ],
             "passed_time": 5.888596918,
             "remaining_time": 33.36871587,
             "test": [
              0.3818785685
             ]
            },
            {
             "iteration": 15,
             "learn": [
              0.367697902
             ],
             "passed_time": 6.389176529,
             "remaining_time": 33.54317678,
             "test": [
              0.3681502492
             ]
            },
            {
             "iteration": 16,
             "learn": [
              0.3542986344
             ],
             "passed_time": 6.838585739,
             "remaining_time": 33.38838919,
             "test": [
              0.3550118459
             ]
            },
            {
             "iteration": 17,
             "learn": [
              0.343474
             ],
             "passed_time": 7.194021747,
             "remaining_time": 32.77276574,
             "test": [
              0.3424235613
             ]
            },
            {
             "iteration": 18,
             "learn": [
              0.3304026038
             ],
             "passed_time": 7.584856374,
             "remaining_time": 32.33544033,
             "test": [
              0.3303591086
             ]
            },
            {
             "iteration": 19,
             "learn": [
              0.3199790065
             ],
             "passed_time": 8.047420439,
             "remaining_time": 32.18968176,
             "test": [
              0.3188034997
             ]
            },
            {
             "iteration": 20,
             "learn": [
              0.3073862068
             ],
             "passed_time": 8.502458429,
             "remaining_time": 31.98543885,
             "test": [
              0.3077208594
             ]
            },
            {
             "iteration": 21,
             "learn": [
              0.2972596905
             ],
             "passed_time": 8.909903724,
             "remaining_time": 31.58965866,
             "test": [
              0.2970872684
             ]
            },
            {
             "iteration": 22,
             "learn": [
              0.2871286464
             ],
             "passed_time": 9.347835175,
             "remaining_time": 31.29492645,
             "test": [
              0.2868679266
             ]
            },
            {
             "iteration": 23,
             "learn": [
              0.2769073016
             ],
             "passed_time": 9.816954266,
             "remaining_time": 31.08702184,
             "test": [
              0.2770605152
             ]
            },
            {
             "iteration": 24,
             "learn": [
              0.2669491645
             ],
             "passed_time": 10.20841047,
             "remaining_time": 30.62523142,
             "test": [
              0.2676383933
             ]
            },
            {
             "iteration": 25,
             "learn": [
              0.2583716608
             ],
             "passed_time": 10.55027826,
             "remaining_time": 30.02771505,
             "test": [
              0.2585722341
             ]
            },
            {
             "iteration": 26,
             "learn": [
              0.2503291813
             ],
             "passed_time": 10.94226501,
             "remaining_time": 29.58464243,
             "test": [
              0.2498601727
             ]
            },
            {
             "iteration": 27,
             "learn": [
              0.242354658
             ],
             "passed_time": 11.31663877,
             "remaining_time": 29.09992825,
             "test": [
              0.2414831785
             ]
            },
            {
             "iteration": 28,
             "learn": [
              0.2340928476
             ],
             "passed_time": 11.78296198,
             "remaining_time": 28.84794139,
             "test": [
              0.2334222992
             ]
            },
            {
             "iteration": 29,
             "learn": [
              0.2262760953
             ],
             "passed_time": 12.26567454,
             "remaining_time": 28.61990726,
             "test": [
              0.2256649279
             ]
            },
            {
             "iteration": 30,
             "learn": [
              0.2189486942
             ],
             "passed_time": 12.74612776,
             "remaining_time": 28.3704134,
             "test": [
              0.2181960851
             ]
            },
            {
             "iteration": 31,
             "learn": [
              0.2113533017
             ],
             "passed_time": 13.12307391,
             "remaining_time": 27.88653205,
             "test": [
              0.2109998262
             ]
            },
            {
             "iteration": 32,
             "learn": [
              0.2038109564
             ],
             "passed_time": 13.61609729,
             "remaining_time": 27.6448036,
             "test": [
              0.2040676318
             ]
            },
            {
             "iteration": 33,
             "learn": [
              0.1970860132
             ],
             "passed_time": 14.06138461,
             "remaining_time": 27.29562895,
             "test": [
              0.1973798264
             ]
            },
            {
             "iteration": 34,
             "learn": [
              0.191621187
             ],
             "passed_time": 14.51331036,
             "remaining_time": 26.95329067,
             "test": [
              0.1909418014
             ]
            },
            {
             "iteration": 35,
             "learn": [
              0.1844408681
             ],
             "passed_time": 14.88055861,
             "remaining_time": 26.45432641,
             "test": [
              0.1847339058
             ]
            },
            {
             "iteration": 36,
             "learn": [
              0.1792255762
             ],
             "passed_time": 15.28217883,
             "remaining_time": 26.0210072,
             "test": [
              0.1787446322
             ]
            },
            {
             "iteration": 37,
             "learn": [
              0.1727155463
             ],
             "passed_time": 15.65877324,
             "remaining_time": 25.54852476,
             "test": [
              0.1729711276
             ]
            },
            {
             "iteration": 38,
             "learn": [
              0.1681410372
             ],
             "passed_time": 16.0947871,
             "remaining_time": 25.17389777,
             "test": [
              0.1674017613
             ]
            },
            {
             "iteration": 39,
             "learn": [
              0.1619527161
             ],
             "passed_time": 16.4367724,
             "remaining_time": 24.65515861,
             "test": [
              0.1620197299
             ]
            },
            {
             "iteration": 40,
             "learn": [
              0.1568165042
             ],
             "passed_time": 16.8547,
             "remaining_time": 24.2543244,
             "test": [
              0.1568334679
             ]
            },
            {
             "iteration": 41,
             "learn": [
              0.1524981806
             ],
             "passed_time": 17.28220755,
             "remaining_time": 23.86590566,
             "test": [
              0.151825569
             ]
            },
            {
             "iteration": 42,
             "learn": [
              0.1475058953
             ],
             "passed_time": 17.6681588,
             "remaining_time": 23.42058259,
             "test": [
              0.146986181
             ]
            },
            {
             "iteration": 43,
             "learn": [
              0.1423798148
             ],
             "passed_time": 17.97390993,
             "remaining_time": 22.87588537,
             "test": [
              0.1423086086
             ]
            },
            {
             "iteration": 44,
             "learn": [
              0.137610279
             ],
             "passed_time": 18.40973348,
             "remaining_time": 22.50078537,
             "test": [
              0.1377991297
             ]
            },
            {
             "iteration": 45,
             "learn": [
              0.1333934395
             ],
             "passed_time": 18.79624702,
             "remaining_time": 22.06515955,
             "test": [
              0.1334367131
             ]
            },
            {
             "iteration": 46,
             "learn": [
              0.1293825937
             ],
             "passed_time": 19.1470648,
             "remaining_time": 21.59137094,
             "test": [
              0.1292234597
             ]
            },
            {
             "iteration": 47,
             "learn": [
              0.1254576523
             ],
             "passed_time": 19.62727193,
             "remaining_time": 21.26287792,
             "test": [
              0.1251569351
             ]
            },
            {
             "iteration": 48,
             "learn": [
              0.1215483002
             ],
             "passed_time": 20.10255776,
             "remaining_time": 20.92307032,
             "test": [
              0.1212260867
             ]
            },
            {
             "iteration": 49,
             "learn": [
              0.117678427
             ],
             "passed_time": 20.44627403,
             "remaining_time": 20.44627403,
             "test": [
              0.1174277621
             ]
            },
            {
             "iteration": 50,
             "learn": [
              0.1138325882
             ],
             "passed_time": 20.85778033,
             "remaining_time": 20.03982816,
             "test": [
              0.1137567426
             ]
            },
            {
             "iteration": 51,
             "learn": [
              0.1102624191
             ],
             "passed_time": 21.20103311,
             "remaining_time": 19.57018441,
             "test": [
              0.1101984906
             ]
            },
            {
             "iteration": 52,
             "learn": [
              0.1073997018
             ],
             "passed_time": 21.53770704,
             "remaining_time": 19.09947606,
             "test": [
              0.1067650711
             ]
            },
            {
             "iteration": 53,
             "learn": [
              0.1039029371
             ],
             "passed_time": 21.88454108,
             "remaining_time": 18.64238685,
             "test": [
              0.1034441738
             ]
            },
            {
             "iteration": 54,
             "learn": [
              0.1002620078
             ],
             "passed_time": 22.34380886,
             "remaining_time": 18.28129815,
             "test": [
              0.1002331684
             ]
            },
            {
             "iteration": 55,
             "learn": [
              0.09762408392
             ],
             "passed_time": 22.70016398,
             "remaining_time": 17.83584313,
             "test": [
              0.09711976228
             ]
            },
            {
             "iteration": 56,
             "learn": [
              0.09424918474
             ],
             "passed_time": 23.01255106,
             "remaining_time": 17.36034553,
             "test": [
              0.0941073587
             ]
            },
            {
             "iteration": 57,
             "learn": [
              0.09168271159
             ],
             "passed_time": 23.41539088,
             "remaining_time": 16.95597271,
             "test": [
              0.09119258066
             ]
            },
            {
             "iteration": 58,
             "learn": [
              0.08843411248
             ],
             "passed_time": 23.82235351,
             "remaining_time": 16.55451685,
             "test": [
              0.08837999195
             ]
            },
            {
             "iteration": 59,
             "learn": [
              0.08597068227
             ],
             "passed_time": 24.14154632,
             "remaining_time": 16.09436421,
             "test": [
              0.08565285278
             ]
            },
            {
             "iteration": 60,
             "learn": [
              0.08312184291
             ],
             "passed_time": 24.5667505,
             "remaining_time": 15.70661098,
             "test": [
              0.08301985829
             ]
            },
            {
             "iteration": 61,
             "learn": [
              0.08058322939
             ],
             "passed_time": 24.91646033,
             "remaining_time": 15.27137891,
             "test": [
              0.08046572264
             ]
            },
            {
             "iteration": 62,
             "learn": [
              0.07842701027
             ],
             "passed_time": 25.33143721,
             "remaining_time": 14.87719328,
             "test": [
              0.07799415768
             ]
            },
            {
             "iteration": 63,
             "learn": [
              0.0759497428
             ],
             "passed_time": 25.7175428,
             "remaining_time": 14.46611782,
             "test": [
              0.07559913449
             ]
            },
            {
             "iteration": 64,
             "learn": [
              0.07347989534
             ],
             "passed_time": 26.17074017,
             "remaining_time": 14.09193701,
             "test": [
              0.07328693199
             ]
            },
            {
             "iteration": 65,
             "learn": [
              0.0710955382
             ],
             "passed_time": 26.57455488,
             "remaining_time": 13.68992221,
             "test": [
              0.07104169549
             ]
            },
            {
             "iteration": 66,
             "learn": [
              0.06895131353
             ],
             "passed_time": 27.01303346,
             "remaining_time": 13.30492693,
             "test": [
              0.0688755099
             ]
            },
            {
             "iteration": 67,
             "learn": [
              0.06690615725
             ],
             "passed_time": 27.36866149,
             "remaining_time": 12.87937011,
             "test": [
              0.06677629959
             ]
            },
            {
             "iteration": 68,
             "learn": [
              0.0649133069
             ],
             "passed_time": 27.7437559,
             "remaining_time": 12.46458598,
             "test": [
              0.06473789352
             ]
            },
            {
             "iteration": 69,
             "learn": [
              0.06296378337
             ],
             "passed_time": 28.07937103,
             "remaining_time": 12.03401616,
             "test": [
              0.06276640477
             ]
            },
            {
             "iteration": 70,
             "learn": [
              0.06102694247
             ],
             "passed_time": 28.43996463,
             "remaining_time": 11.61632358,
             "test": [
              0.06086036032
             ]
            },
            {
             "iteration": 71,
             "learn": [
              0.05912446071
             ],
             "passed_time": 28.78252478,
             "remaining_time": 11.19320408,
             "test": [
              0.05900829534
             ]
            },
            {
             "iteration": 72,
             "learn": [
              0.05733383498
             ],
             "passed_time": 29.17983445,
             "remaining_time": 10.79254151,
             "test": [
              0.05722027696
             ]
            },
            {
             "iteration": 73,
             "learn": [
              0.05588733578
             ],
             "passed_time": 29.62537844,
             "remaining_time": 10.40891675,
             "test": [
              0.05548887553
             ]
            },
            {
             "iteration": 74,
             "learn": [
              0.0541261533
             ],
             "passed_time": 29.97010096,
             "remaining_time": 9.990033653,
             "test": [
              0.0538051619
             ]
            },
            {
             "iteration": 75,
             "learn": [
              0.05229057768
             ],
             "passed_time": 30.52054915,
             "remaining_time": 9.638068152,
             "test": [
              0.05217317498
             ]
            },
            {
             "iteration": 76,
             "learn": [
              0.05096582484
             ],
             "passed_time": 31.1787706,
             "remaining_time": 9.31313927,
             "test": [
              0.05059572772
             ]
            },
            {
             "iteration": 77,
             "learn": [
              0.04927031287
             ],
             "passed_time": 31.66832631,
             "remaining_time": 8.932092036,
             "test": [
              0.04906396923
             ]
            },
            {
             "iteration": 78,
             "learn": [
              0.04775753248
             ],
             "passed_time": 32.01578334,
             "remaining_time": 8.510524686,
             "test": [
              0.04757960039
             ]
            },
            {
             "iteration": 79,
             "learn": [
              0.04631571295
             ],
             "passed_time": 32.30527633,
             "remaining_time": 8.076319082,
             "test": [
              0.04614048935
             ]
            },
            {
             "iteration": 80,
             "learn": [
              0.04503741128
             ],
             "passed_time": 32.65519837,
             "remaining_time": 7.659861345,
             "test": [
              0.04474628752
             ]
            },
            {
             "iteration": 81,
             "learn": [
              0.0434954819
             ],
             "passed_time": 33.03693541,
             "remaining_time": 7.252010212,
             "test": [
              0.04339992629
             ]
            },
            {
             "iteration": 82,
             "learn": [
              0.04234250012
             ],
             "passed_time": 33.37148605,
             "remaining_time": 6.835123649,
             "test": [
              0.04209000865
             ]
            },
            {
             "iteration": 83,
             "learn": [
              0.04108429286
             ],
             "passed_time": 33.68840699,
             "remaining_time": 6.416839427,
             "test": [
              0.04082105506
             ]
            },
            {
             "iteration": 84,
             "learn": [
              0.03974890341
             ],
             "passed_time": 34.03685655,
             "remaining_time": 6.006504098,
             "test": [
              0.03959334622
             ]
            },
            {
             "iteration": 85,
             "learn": [
              0.03850780513
             ],
             "passed_time": 34.47557192,
             "remaining_time": 5.612302406,
             "test": [
              0.038401097
             ]
            },
            {
             "iteration": 86,
             "learn": [
              0.03745633084
             ],
             "passed_time": 34.80374447,
             "remaining_time": 5.200559518,
             "test": [
              0.03724538989
             ]
            },
            {
             "iteration": 87,
             "learn": [
              0.03641105657
             ],
             "passed_time": 35.23775032,
             "remaining_time": 4.805147771,
             "test": [
              0.03613208316
             ]
            },
            {
             "iteration": 88,
             "learn": [
              0.03524297228
             ],
             "passed_time": 35.63656471,
             "remaining_time": 4.404519233,
             "test": [
              0.03504885255
             ]
            },
            {
             "iteration": 89,
             "learn": [
              0.03419689629
             ],
             "passed_time": 36.05430186,
             "remaining_time": 4.00603354,
             "test": [
              0.03399854898
             ]
            },
            {
             "iteration": 90,
             "learn": [
              0.03318094287
             ],
             "passed_time": 36.41908742,
             "remaining_time": 3.601887767,
             "test": [
              0.03297960592
             ]
            },
            {
             "iteration": 91,
             "learn": [
              0.0321926951
             ],
             "passed_time": 36.85373268,
             "remaining_time": 3.204672407,
             "test": [
              0.03199565259
             ]
            },
            {
             "iteration": 92,
             "learn": [
              0.03120935509
             ],
             "passed_time": 37.16691084,
             "remaining_time": 2.797509418,
             "test": [
              0.03103635308
             ]
            },
            {
             "iteration": 93,
             "learn": [
              0.0302855134
             ],
             "passed_time": 37.6267767,
             "remaining_time": 2.401709151,
             "test": [
              0.03011166453
             ]
            },
            {
             "iteration": 94,
             "learn": [
              0.02936259677
             ],
             "passed_time": 37.93346957,
             "remaining_time": 1.996498399,
             "test": [
              0.02920881756
             ]
            },
            {
             "iteration": 95,
             "learn": [
              0.02857317159
             ],
             "passed_time": 38.30084229,
             "remaining_time": 1.595868429,
             "test": [
              0.02833444925
             ]
            },
            {
             "iteration": 96,
             "learn": [
              0.02769118132
             ],
             "passed_time": 38.7212819,
             "remaining_time": 1.19756542,
             "test": [
              0.02749208777
             ]
            },
            {
             "iteration": 97,
             "learn": [
              0.02682900192
             ],
             "passed_time": 39.15477912,
             "remaining_time": 0.799077125,
             "test": [
              0.02667555261
             ]
            },
            {
             "iteration": 98,
             "learn": [
              0.02611773091
             ],
             "passed_time": 39.47780602,
             "remaining_time": 0.3987657174,
             "test": [
              0.02587761447
             ]
            },
            {
             "iteration": 99,
             "learn": [
              0.02526694517
             ],
             "passed_time": 39.81462913,
             "remaining_time": 0,
             "test": [
              0.02510744392
             ]
            }
           ],
           "meta": {
            "iteration_count": 100,
            "launch_mode": "Train",
            "learn_metrics": [
             {
              "best_value": "Min",
              "name": "CrossEntropy"
             }
            ],
            "learn_sets": [
             "learn"
            ],
            "name": "experiment",
            "parameters": "",
            "test_metrics": [
             {
              "best_value": "Min",
              "name": "CrossEntropy"
             }
            ],
            "test_sets": [
             "test"
            ]
           }
          },
          "passed_iterations": 99,
          "total_iterations": 100
         },
         "name": "catboost_info",
         "path": "catboost_info"
        }
       },
       "layout": "IPY_MODEL_4adc574854254e9ebb70a147f2004435"
      }
     },
     "287e67d68dc440f288742a24eb585c33": {
      "model_module": "@jupyter-widgets/base",
      "model_module_version": "1.2.0",
      "model_name": "LayoutModel",
      "state": {
       "_model_module": "@jupyter-widgets/base",
       "_model_module_version": "1.2.0",
       "_model_name": "LayoutModel",
       "_view_count": null,
       "_view_module": "@jupyter-widgets/base",
       "_view_module_version": "1.2.0",
       "_view_name": "LayoutView",
       "align_content": null,
       "align_items": null,
       "align_self": "stretch",
       "border": null,
       "bottom": null,
       "display": null,
       "flex": null,
       "flex_flow": null,
       "grid_area": null,
       "grid_auto_columns": null,
       "grid_auto_flow": null,
       "grid_auto_rows": null,
       "grid_column": null,
       "grid_gap": null,
       "grid_row": null,
       "grid_template_areas": null,
       "grid_template_columns": null,
       "grid_template_rows": null,
       "height": "500px",
       "justify_content": null,
       "justify_items": null,
       "left": null,
       "margin": null,
       "max_height": null,
       "max_width": null,
       "min_height": null,
       "min_width": null,
       "object_fit": null,
       "object_position": null,
       "order": null,
       "overflow": null,
       "overflow_x": null,
       "overflow_y": null,
       "padding": null,
       "right": null,
       "top": null,
       "visibility": null,
       "width": null
      }
     },
     "2b238df8e37244aaa754b5b222f842ca": {
      "model_module": "@jupyter-widgets/base",
      "model_module_version": "1.2.0",
      "model_name": "LayoutModel",
      "state": {
       "_model_module": "@jupyter-widgets/base",
       "_model_module_version": "1.2.0",
       "_model_name": "LayoutModel",
       "_view_count": null,
       "_view_module": "@jupyter-widgets/base",
       "_view_module_version": "1.2.0",
       "_view_name": "LayoutView",
       "align_content": null,
       "align_items": null,
       "align_self": "stretch",
       "border": null,
       "bottom": null,
       "display": null,
       "flex": null,
       "flex_flow": null,
       "grid_area": null,
       "grid_auto_columns": null,
       "grid_auto_flow": null,
       "grid_auto_rows": null,
       "grid_column": null,
       "grid_gap": null,
       "grid_row": null,
       "grid_template_areas": null,
       "grid_template_columns": null,
       "grid_template_rows": null,
       "height": "500px",
       "justify_content": null,
       "justify_items": null,
       "left": null,
       "margin": null,
       "max_height": null,
       "max_width": null,
       "min_height": null,
       "min_width": null,
       "object_fit": null,
       "object_position": null,
       "order": null,
       "overflow": null,
       "overflow_x": null,
       "overflow_y": null,
       "padding": null,
       "right": null,
       "top": null,
       "visibility": null,
       "width": null
      }
     },
     "30a37cfd9f344544bd7201408eff373b": {
      "model_module": "@jupyter-widgets/base",
      "model_module_version": "1.2.0",
      "model_name": "LayoutModel",
      "state": {
       "_model_module": "@jupyter-widgets/base",
       "_model_module_version": "1.2.0",
       "_model_name": "LayoutModel",
       "_view_count": null,
       "_view_module": "@jupyter-widgets/base",
       "_view_module_version": "1.2.0",
       "_view_name": "LayoutView",
       "align_content": null,
       "align_items": null,
       "align_self": "stretch",
       "border": null,
       "bottom": null,
       "display": null,
       "flex": null,
       "flex_flow": null,
       "grid_area": null,
       "grid_auto_columns": null,
       "grid_auto_flow": null,
       "grid_auto_rows": null,
       "grid_column": null,
       "grid_gap": null,
       "grid_row": null,
       "grid_template_areas": null,
       "grid_template_columns": null,
       "grid_template_rows": null,
       "height": "500px",
       "justify_content": null,
       "justify_items": null,
       "left": null,
       "margin": null,
       "max_height": null,
       "max_width": null,
       "min_height": null,
       "min_width": null,
       "object_fit": null,
       "object_position": null,
       "order": null,
       "overflow": null,
       "overflow_x": null,
       "overflow_y": null,
       "padding": null,
       "right": null,
       "top": null,
       "visibility": null,
       "width": null
      }
     },
     "32dfb219994d40089d328995451c8778": {
      "model_module": "catboost-widget",
      "model_module_version": "^1.0.0",
      "model_name": "CatboostWidgetModel",
      "state": {
       "_dom_classes": [],
       "_model_module": "catboost-widget",
       "_model_module_version": "^1.0.0",
       "_model_name": "CatboostWidgetModel",
       "_view_count": null,
       "_view_module": "catboost-widget",
       "_view_module_version": "^1.0.0",
       "_view_name": "CatboostWidgetView",
       "data": {
        "catboost_info": {
         "content": {
          "data": {
           "iterations": [
            {
             "iteration": 0,
             "learn": [
              0.6613898058
             ],
             "passed_time": 0.3870247712,
             "remaining_time": 38.31545234,
             "test": [
              0.6636047573
             ]
            },
            {
             "iteration": 1,
             "learn": [
              0.636314849
             ],
             "passed_time": 0.7547502018,
             "remaining_time": 36.98275989,
             "test": [
              0.6357816482
             ]
            },
            {
             "iteration": 2,
             "learn": [
              0.6093938358
             ],
             "passed_time": 1.159099802,
             "remaining_time": 37.47756025,
             "test": [
              0.6095331724
             ]
            },
            {
             "iteration": 3,
             "learn": [
              0.5837494074
             ],
             "passed_time": 1.517597354,
             "remaining_time": 36.4223365,
             "test": [
              0.5847294752
             ]
            },
            {
             "iteration": 4,
             "learn": [
              0.5622291744
             ],
             "passed_time": 1.978844637,
             "remaining_time": 37.5980481,
             "test": [
              0.5612576434
             ]
            },
            {
             "iteration": 5,
             "learn": [
              0.5377926268
             ],
             "passed_time": 2.380699605,
             "remaining_time": 37.29762714,
             "test": [
              0.5390147508
             ]
            },
            {
             "iteration": 6,
             "learn": [
              0.5169325008
             ],
             "passed_time": 2.838514578,
             "remaining_time": 37.71169368,
             "test": [
              0.5179139855
             ]
            },
            {
             "iteration": 7,
             "learn": [
              0.4987399106
             ],
             "passed_time": 3.204270252,
             "remaining_time": 36.8491079,
             "test": [
              0.497868664
             ]
            },
            {
             "iteration": 8,
             "learn": [
              0.4785868293
             ],
             "passed_time": 3.573036707,
             "remaining_time": 36.12737115,
             "test": [
              0.4788068526
             ]
            },
            {
             "iteration": 9,
             "learn": [
              0.4606407616
             ],
             "passed_time": 3.955450821,
             "remaining_time": 35.59905739,
             "test": [
              0.4606631388
             ]
            },
            {
             "iteration": 10,
             "learn": [
              0.4439392454
             ],
             "passed_time": 4.341119031,
             "remaining_time": 35.12359943,
             "test": [
              0.4433776305
             ]
            },
            {
             "iteration": 11,
             "learn": [
              0.4281201235
             ],
             "passed_time": 4.723867614,
             "remaining_time": 34.64169584,
             "test": [
              0.4268939772
             ]
            },
            {
             "iteration": 12,
             "learn": [
              0.4122312556
             ],
             "passed_time": 5.117867194,
             "remaining_time": 34.25034199,
             "test": [
              0.4111623057
             ]
            },
            {
             "iteration": 13,
             "learn": [
              0.3968645671
             ],
             "passed_time": 5.513398024,
             "remaining_time": 33.86801643,
             "test": [
              0.3961374171
             ]
            },
            {
             "iteration": 14,
             "learn": [
              0.3825050315
             ],
             "passed_time": 5.936697506,
             "remaining_time": 33.64128587,
             "test": [
              0.3817767816
             ]
            },
            {
             "iteration": 15,
             "learn": [
              0.3674422986
             ],
             "passed_time": 6.437078566,
             "remaining_time": 33.79466247,
             "test": [
              0.3680488906
             ]
            },
            {
             "iteration": 16,
             "learn": [
              0.354052876
             ],
             "passed_time": 6.888745735,
             "remaining_time": 33.633288,
             "test": [
              0.3549053595
             ]
            },
            {
             "iteration": 17,
             "learn": [
              0.3432665822
             ],
             "passed_time": 7.229100202,
             "remaining_time": 32.93256759,
             "test": [
              0.3423180564
             ]
            },
            {
             "iteration": 18,
             "learn": [
              0.3302100391
             ],
             "passed_time": 7.627918729,
             "remaining_time": 32.51902195,
             "test": [
              0.3302584641
             ]
            },
            {
             "iteration": 19,
             "learn": [
              0.3197805598
             ],
             "passed_time": 8.084885605,
             "remaining_time": 32.33954242,
             "test": [
              0.3186981175
             ]
            },
            {
             "iteration": 20,
             "learn": [
              0.3071301949
             ],
             "passed_time": 8.533171361,
             "remaining_time": 32.10097798,
             "test": [
              0.307610923
             ]
            },
            {
             "iteration": 21,
             "learn": [
              0.2969995184
             ],
             "passed_time": 8.933110104,
             "remaining_time": 31.67193582,
             "test": [
              0.2969710092
             ]
            },
            {
             "iteration": 22,
             "learn": [
              0.2869323883
             ],
             "passed_time": 9.34795705,
             "remaining_time": 31.29533447,
             "test": [
              0.2867567122
             ]
            },
            {
             "iteration": 23,
             "learn": [
              0.2766499885
             ],
             "passed_time": 9.813104396,
             "remaining_time": 31.07483059,
             "test": [
              0.2769467267
             ]
            },
            {
             "iteration": 24,
             "learn": [
              0.2666437369
             ],
             "passed_time": 10.21100852,
             "remaining_time": 30.63302555,
             "test": [
              0.2675196852
             ]
            },
            {
             "iteration": 25,
             "learn": [
              0.2581451514
             ],
             "passed_time": 10.58828859,
             "remaining_time": 30.13589829,
             "test": [
              0.2584583636
             ]
            },
            {
             "iteration": 26,
             "learn": [
              0.2501037234
             ],
             "passed_time": 11.03617845,
             "remaining_time": 29.83855656,
             "test": [
              0.2497462202
             ]
            },
            {
             "iteration": 27,
             "learn": [
              0.2421100029
             ],
             "passed_time": 11.41193756,
             "remaining_time": 29.34498229,
             "test": [
              0.2413651284
             ]
            },
            {
             "iteration": 28,
             "learn": [
              0.2338240202
             ],
             "passed_time": 11.91249062,
             "remaining_time": 29.16506325,
             "test": [
              0.2333007551
             ]
            },
            {
             "iteration": 29,
             "learn": [
              0.2259959245
             ],
             "passed_time": 12.58759477,
             "remaining_time": 29.37105446,
             "test": [
              0.225539807
             ]
            },
            {
             "iteration": 30,
             "learn": [
              0.2186764527
             ],
             "passed_time": 13.26571354,
             "remaining_time": 29.52691078,
             "test": [
              0.2180667047
             ]
            },
            {
             "iteration": 31,
             "learn": [
              0.211106846
             ],
             "passed_time": 13.64379632,
             "remaining_time": 28.99306718,
             "test": [
              0.2108742778
             ]
            },
            {
             "iteration": 32,
             "learn": [
              0.2035505645
             ],
             "passed_time": 14.13192952,
             "remaining_time": 28.69209933,
             "test": [
              0.2039405498
             ]
            },
            {
             "iteration": 33,
             "learn": [
              0.1966578776
             ],
             "passed_time": 14.57235739,
             "remaining_time": 28.28751728,
             "test": [
              0.1972582075
             ]
            },
            {
             "iteration": 34,
             "learn": [
              0.19133775
             ],
             "passed_time": 15.01805774,
             "remaining_time": 27.89067866,
             "test": [
              0.1908173797
             ]
            },
            {
             "iteration": 35,
             "learn": [
              0.1841151789
             ],
             "passed_time": 15.38482847,
             "remaining_time": 27.35080617,
             "test": [
              0.1846081905
             ]
            },
            {
             "iteration": 36,
             "learn": [
              0.1789304047
             ],
             "passed_time": 15.7799531,
             "remaining_time": 26.86856879,
             "test": [
              0.178619858
             ]
            },
            {
             "iteration": 37,
             "learn": [
              0.1724090275
             ],
             "passed_time": 16.15111506,
             "remaining_time": 26.3518193,
             "test": [
              0.1728434121
             ]
            },
            {
             "iteration": 38,
             "learn": [
              0.1678495753
             ],
             "passed_time": 16.58226417,
             "remaining_time": 25.93636191,
             "test": [
              0.1672708445
             ]
            },
            {
             "iteration": 39,
             "learn": [
              0.1616474593
             ],
             "passed_time": 16.97406386,
             "remaining_time": 25.46109579,
             "test": [
              0.1618935514
             ]
            },
            {
             "iteration": 40,
             "learn": [
              0.1565403751
             ],
             "passed_time": 17.40374956,
             "remaining_time": 25.0444201,
             "test": [
              0.1567040291
             ]
            },
            {
             "iteration": 41,
             "learn": [
              0.1522168529
             ],
             "passed_time": 17.82645507,
             "remaining_time": 24.61748557,
             "test": [
              0.1516939963
             ]
            },
            {
             "iteration": 42,
             "learn": [
              0.1472151892
             ],
             "passed_time": 18.2538822,
             "remaining_time": 24.19700664,
             "test": [
              0.1468565699
             ]
            },
            {
             "iteration": 43,
             "learn": [
              0.1420907518
             ],
             "passed_time": 18.67919617,
             "remaining_time": 23.7735224,
             "test": [
              0.1421849847
             ]
            },
            {
             "iteration": 44,
             "learn": [
              0.1373470379
             ],
             "passed_time": 19.12279734,
             "remaining_time": 23.37230786,
             "test": [
              0.1376732515
             ]
            },
            {
             "iteration": 45,
             "learn": [
              0.1331385123
             ],
             "passed_time": 19.57465335,
             "remaining_time": 22.97894089,
             "test": [
              0.1333146536
             ]
            },
            {
             "iteration": 46,
             "learn": [
              0.1291453291
             ],
             "passed_time": 19.9488504,
             "remaining_time": 22.49551215,
             "test": [
              0.1291029824
             ]
            },
            {
             "iteration": 47,
             "learn": [
              0.125216336
             ],
             "passed_time": 20.42755314,
             "remaining_time": 22.12984924,
             "test": [
              0.1250339883
             ]
            },
            {
             "iteration": 48,
             "learn": [
              0.1213116534
             ],
             "passed_time": 20.83813006,
             "remaining_time": 21.68866599,
             "test": [
              0.1211021517
             ]
            },
            {
             "iteration": 49,
             "learn": [
              0.1174294377
             ],
             "passed_time": 21.1839136,
             "remaining_time": 21.1839136,
             "test": [
              0.1173005508
             ]
            },
            {
             "iteration": 50,
             "learn": [
              0.1135671982
             ],
             "passed_time": 21.60491972,
             "remaining_time": 20.75766797,
             "test": [
              0.1136263235
             ]
            },
            {
             "iteration": 51,
             "learn": [
              0.1100108028
             ],
             "passed_time": 21.99118837,
             "remaining_time": 20.2995585,
             "test": [
              0.1100730653
             ]
            },
            {
             "iteration": 52,
             "learn": [
              0.1071601832
             ],
             "passed_time": 22.34276304,
             "remaining_time": 19.81339364,
             "test": [
              0.1066365764
             ]
            },
            {
             "iteration": 53,
             "learn": [
              0.1036542963
             ],
             "passed_time": 22.6875431,
             "remaining_time": 19.3264256,
             "test": [
              0.1033143263
             ]
            },
            {
             "iteration": 54,
             "learn": [
              0.09998910272
             ],
             "passed_time": 23.14925957,
             "remaining_time": 18.94030329,
             "test": [
              0.1001013812
             ]
            },
            {
             "iteration": 55,
             "learn": [
              0.09739043581
             ],
             "passed_time": 23.57015208,
             "remaining_time": 18.51940521,
             "test": [
              0.0969938272
             ]
            },
            {
             "iteration": 56,
             "learn": [
              0.09402671421
             ],
             "passed_time": 23.99770337,
             "remaining_time": 18.10353062,
             "test": [
              0.09398672966
             ]
            },
            {
             "iteration": 57,
             "learn": [
              0.09148081019
             ],
             "passed_time": 24.45959113,
             "remaining_time": 17.71211771,
             "test": [
              0.09107777618
             ]
            },
            {
             "iteration": 58,
             "learn": [
              0.08821820261
             ],
             "passed_time": 24.86689211,
             "remaining_time": 17.28038265,
             "test": [
              0.08826290517
             ]
            },
            {
             "iteration": 59,
             "learn": [
              0.08574399413
             ],
             "passed_time": 25.28759683,
             "remaining_time": 16.85839788,
             "test": [
              0.08553913203
             ]
            },
            {
             "iteration": 60,
             "learn": [
              0.08286552104
             ],
             "passed_time": 25.71849415,
             "remaining_time": 16.44297167,
             "test": [
              0.08290315656
             ]
            },
            {
             "iteration": 61,
             "learn": [
              0.08038059688
             ],
             "passed_time": 26.13569571,
             "remaining_time": 16.01865221,
             "test": [
              0.08035309133
             ]
            },
            {
             "iteration": 62,
             "learn": [
              0.07824213567
             ],
             "passed_time": 26.54012873,
             "remaining_time": 15.58705973,
             "test": [
              0.07788442456
             ]
            },
            {
             "iteration": 63,
             "learn": [
              0.07577670297
             ],
             "passed_time": 26.93965974,
             "remaining_time": 15.1535586,
             "test": [
              0.07549359341
             ]
            },
            {
             "iteration": 64,
             "learn": [
              0.07324507589
             ],
             "passed_time": 27.38952998,
             "remaining_time": 14.74820845,
             "test": [
              0.07317957886
             ]
            },
            {
             "iteration": 65,
             "learn": [
              0.07086518289
             ],
             "passed_time": 27.81555498,
             "remaining_time": 14.32922529,
             "test": [
              0.07093926411
             ]
            },
            {
             "iteration": 66,
             "learn": [
              0.06875503965
             ],
             "passed_time": 28.2539327,
             "remaining_time": 13.91611611,
             "test": [
              0.06876924988
             ]
            },
            {
             "iteration": 67,
             "learn": [
              0.06673148264
             ],
             "passed_time": 28.62074155,
             "remaining_time": 13.46858426,
             "test": [
              0.06666828085
             ]
            },
            {
             "iteration": 68,
             "learn": [
              0.06476514262
             ],
             "passed_time": 29.0328442,
             "remaining_time": 13.0437416,
             "test": [
              0.06463338297
             ]
            },
            {
             "iteration": 69,
             "learn": [
              0.06281282105
             ],
             "passed_time": 29.3658467,
             "remaining_time": 12.58536287,
             "test": [
              0.06266365274
             ]
            },
            {
             "iteration": 70,
             "learn": [
              0.06086776007
             ],
             "passed_time": 29.72279567,
             "remaining_time": 12.14029682,
             "test": [
              0.06075579833
             ]
            },
            {
             "iteration": 71,
             "learn": [
              0.05896125783
             ],
             "passed_time": 30.11227206,
             "remaining_time": 11.71032802,
             "test": [
              0.05890776143
             ]
            },
            {
             "iteration": 72,
             "learn": [
              0.057157363
             ],
             "passed_time": 30.51884334,
             "remaining_time": 11.28779137,
             "test": [
              0.05711765917
             ]
            },
            {
             "iteration": 73,
             "learn": [
              0.05573208684
             ],
             "passed_time": 30.96630772,
             "remaining_time": 10.88005406,
             "test": [
              0.05538347848
             ]
            },
            {
             "iteration": 74,
             "learn": [
              0.05398460974
             ],
             "passed_time": 31.41446372,
             "remaining_time": 10.47148791,
             "test": [
              0.05370406891
             ]
            },
            {
             "iteration": 75,
             "learn": [
              0.05213280673
             ],
             "passed_time": 31.79507356,
             "remaining_time": 10.04054954,
             "test": [
              0.05207527233
             ]
            },
            {
             "iteration": 76,
             "learn": [
              0.05083442867
             ],
             "passed_time": 32.29842384,
             "remaining_time": 9.647581147,
             "test": [
              0.05049811354
             ]
            },
            {
             "iteration": 77,
             "learn": [
              0.04914810948
             ],
             "passed_time": 32.70973338,
             "remaining_time": 9.225822236,
             "test": [
              0.04897059688
             ]
            },
            {
             "iteration": 78,
             "learn": [
              0.04756719496
             ],
             "passed_time": 33.15161318,
             "remaining_time": 8.812454137,
             "test": [
              0.04748847913
             ]
            },
            {
             "iteration": 79,
             "learn": [
              0.04622229462
             ],
             "passed_time": 33.55346475,
             "remaining_time": 8.388366189,
             "test": [
              0.04605421681
             ]
            },
            {
             "iteration": 80,
             "learn": [
              0.04496419897
             ],
             "passed_time": 33.92421288,
             "remaining_time": 7.957531417,
             "test": [
              0.04466452608
             ]
            },
            {
             "iteration": 81,
             "learn": [
              0.04339604765
             ],
             "passed_time": 34.28762608,
             "remaining_time": 7.526552066,
             "test": [
              0.04331725945
             ]
            },
            {
             "iteration": 82,
             "learn": [
              0.04227943932
             ],
             "passed_time": 34.6167463,
             "remaining_time": 7.090176952,
             "test": [
              0.04201245552
             ]
            },
            {
             "iteration": 83,
             "learn": [
              0.04103779795
             ],
             "passed_time": 34.98371239,
             "remaining_time": 6.663564264,
             "test": [
              0.04074750384
             ]
            },
            {
             "iteration": 84,
             "learn": [
              0.03967685115
             ],
             "passed_time": 35.36867852,
             "remaining_time": 6.241531504,
             "test": [
              0.0395212066
             ]
            },
            {
             "iteration": 85,
             "learn": [
              0.03846087976
             ],
             "passed_time": 35.85737628,
             "remaining_time": 5.837247302,
             "test": [
              0.03833315664
             ]
            },
            {
             "iteration": 86,
             "learn": [
              0.03742961807
             ],
             "passed_time": 36.19571862,
             "remaining_time": 5.408555656,
             "test": [
              0.03717957793
             ]
            },
            {
             "iteration": 87,
             "learn": [
              0.03638063631
             ],
             "passed_time": 36.63045715,
             "remaining_time": 4.995062339,
             "test": [
              0.03606384271
             ]
            },
            {
             "iteration": 88,
             "learn": [
              0.03520909509
             ],
             "passed_time": 37.03297406,
             "remaining_time": 4.577109153,
             "test": [
              0.0349811959
             ]
            },
            {
             "iteration": 89,
             "learn": [
              0.03416707411
             ],
             "passed_time": 37.47842727,
             "remaining_time": 4.164269697,
             "test": [
              0.03393270454
             ]
            },
            {
             "iteration": 90,
             "learn": [
              0.03313847673
             ],
             "passed_time": 37.80188796,
             "remaining_time": 3.738648259,
             "test": [
              0.03291282576
             ]
            },
            {
             "iteration": 91,
             "learn": [
              0.03214433951
             ],
             "passed_time": 38.21212785,
             "remaining_time": 3.322793726,
             "test": [
              0.03192537223
             ]
            },
            {
             "iteration": 92,
             "learn": [
              0.03116889182
             ],
             "passed_time": 38.63536581,
             "remaining_time": 2.908038287,
             "test": [
              0.03096963115
             ]
            },
            {
             "iteration": 93,
             "learn": [
              0.03021176807
             ],
             "passed_time": 38.97755143,
             "remaining_time": 2.487928814,
             "test": [
              0.0300402062
             ]
            },
            {
             "iteration": 94,
             "learn": [
              0.02928920306
             ],
             "passed_time": 39.43197907,
             "remaining_time": 2.075367319,
             "test": [
              0.02914311076
             ]
            },
            {
             "iteration": 95,
             "learn": [
              0.02853306735
             ],
             "passed_time": 39.84411889,
             "remaining_time": 1.66017162,
             "test": [
              0.02827067026
             ]
            },
            {
             "iteration": 96,
             "learn": [
              0.02763289158
             ],
             "passed_time": 40.1585896,
             "remaining_time": 1.242018235,
             "test": [
              0.02743026066
             ]
            },
            {
             "iteration": 97,
             "learn": [
              0.02672806442
             ],
             "passed_time": 40.59662431,
             "remaining_time": 0.828502537,
             "test": [
              0.02661132735
             ]
            },
            {
             "iteration": 98,
             "learn": [
              0.02605376862
             ],
             "passed_time": 40.87555503,
             "remaining_time": 0.4128843943,
             "test": [
              0.02581459965
             ]
            },
            {
             "iteration": 99,
             "learn": [
              0.02518518761
             ],
             "passed_time": 41.14268103,
             "remaining_time": 0,
             "test": [
              0.02504908891
             ]
            }
           ],
           "meta": {
            "iteration_count": 100,
            "launch_mode": "Train",
            "learn_metrics": [
             {
              "best_value": "Min",
              "name": "CrossEntropy"
             }
            ],
            "learn_sets": [
             "learn"
            ],
            "name": "experiment",
            "parameters": "",
            "test_metrics": [
             {
              "best_value": "Min",
              "name": "CrossEntropy"
             }
            ],
            "test_sets": [
             "test"
            ]
           }
          },
          "passed_iterations": 99,
          "total_iterations": 100
         },
         "name": "catboost_info",
         "path": "catboost_info"
        }
       },
       "layout": "IPY_MODEL_96ddf297ad93419594db56b957bd15ca"
      }
     },
     "33848d97b13045e7b0db2101b6e67c27": {
      "model_module": "@jupyter-widgets/base",
      "model_module_version": "1.2.0",
      "model_name": "LayoutModel",
      "state": {
       "_model_module": "@jupyter-widgets/base",
       "_model_module_version": "1.2.0",
       "_model_name": "LayoutModel",
       "_view_count": null,
       "_view_module": "@jupyter-widgets/base",
       "_view_module_version": "1.2.0",
       "_view_name": "LayoutView",
       "align_content": null,
       "align_items": null,
       "align_self": "stretch",
       "border": null,
       "bottom": null,
       "display": null,
       "flex": null,
       "flex_flow": null,
       "grid_area": null,
       "grid_auto_columns": null,
       "grid_auto_flow": null,
       "grid_auto_rows": null,
       "grid_column": null,
       "grid_gap": null,
       "grid_row": null,
       "grid_template_areas": null,
       "grid_template_columns": null,
       "grid_template_rows": null,
       "height": "500px",
       "justify_content": null,
       "justify_items": null,
       "left": null,
       "margin": null,
       "max_height": null,
       "max_width": null,
       "min_height": null,
       "min_width": null,
       "object_fit": null,
       "object_position": null,
       "order": null,
       "overflow": null,
       "overflow_x": null,
       "overflow_y": null,
       "padding": null,
       "right": null,
       "top": null,
       "visibility": null,
       "width": null
      }
     },
     "3418d1e807b84273b8b538881587929e": {
      "model_module": "@jupyter-widgets/base",
      "model_module_version": "1.2.0",
      "model_name": "LayoutModel",
      "state": {
       "_model_module": "@jupyter-widgets/base",
       "_model_module_version": "1.2.0",
       "_model_name": "LayoutModel",
       "_view_count": null,
       "_view_module": "@jupyter-widgets/base",
       "_view_module_version": "1.2.0",
       "_view_name": "LayoutView",
       "align_content": null,
       "align_items": null,
       "align_self": "stretch",
       "border": null,
       "bottom": null,
       "display": null,
       "flex": null,
       "flex_flow": null,
       "grid_area": null,
       "grid_auto_columns": null,
       "grid_auto_flow": null,
       "grid_auto_rows": null,
       "grid_column": null,
       "grid_gap": null,
       "grid_row": null,
       "grid_template_areas": null,
       "grid_template_columns": null,
       "grid_template_rows": null,
       "height": "500px",
       "justify_content": null,
       "justify_items": null,
       "left": null,
       "margin": null,
       "max_height": null,
       "max_width": null,
       "min_height": null,
       "min_width": null,
       "object_fit": null,
       "object_position": null,
       "order": null,
       "overflow": null,
       "overflow_x": null,
       "overflow_y": null,
       "padding": null,
       "right": null,
       "top": null,
       "visibility": null,
       "width": null
      }
     },
     "351b1abe5aad4927877efe2e255a9f72": {
      "model_module": "@jupyter-widgets/base",
      "model_module_version": "1.2.0",
      "model_name": "LayoutModel",
      "state": {
       "_model_module": "@jupyter-widgets/base",
       "_model_module_version": "1.2.0",
       "_model_name": "LayoutModel",
       "_view_count": null,
       "_view_module": "@jupyter-widgets/base",
       "_view_module_version": "1.2.0",
       "_view_name": "LayoutView",
       "align_content": null,
       "align_items": null,
       "align_self": "stretch",
       "border": null,
       "bottom": null,
       "display": null,
       "flex": null,
       "flex_flow": null,
       "grid_area": null,
       "grid_auto_columns": null,
       "grid_auto_flow": null,
       "grid_auto_rows": null,
       "grid_column": null,
       "grid_gap": null,
       "grid_row": null,
       "grid_template_areas": null,
       "grid_template_columns": null,
       "grid_template_rows": null,
       "height": "500px",
       "justify_content": null,
       "justify_items": null,
       "left": null,
       "margin": null,
       "max_height": null,
       "max_width": null,
       "min_height": null,
       "min_width": null,
       "object_fit": null,
       "object_position": null,
       "order": null,
       "overflow": null,
       "overflow_x": null,
       "overflow_y": null,
       "padding": null,
       "right": null,
       "top": null,
       "visibility": null,
       "width": null
      }
     },
     "375934e843e54025b34db1084eb23dd5": {
      "model_module": "catboost-widget",
      "model_module_version": "^1.0.0",
      "model_name": "CatboostWidgetModel",
      "state": {
       "_dom_classes": [],
       "_model_module": "catboost-widget",
       "_model_module_version": "^1.0.0",
       "_model_name": "CatboostWidgetModel",
       "_view_count": null,
       "_view_module": "catboost-widget",
       "_view_module_version": "^1.0.0",
       "_view_name": "CatboostWidgetView",
       "data": {
        "catboost_info": {
         "content": {
          "data": {
           "iterations": [
            {
             "iteration": 0,
             "learn": [
              0.6613840749
             ],
             "passed_time": 0.5726038094,
             "remaining_time": 56.68777713,
             "test": [
              0.6635994004
             ]
            },
            {
             "iteration": 1,
             "learn": [
              0.6362954875
             ],
             "passed_time": 0.9826079012,
             "remaining_time": 48.14778716,
             "test": [
              0.6357727068
             ]
            },
            {
             "iteration": 2,
             "learn": [
              0.6093775106
             ],
             "passed_time": 1.388349583,
             "remaining_time": 44.88996986,
             "test": [
              0.6095202772
             ]
            },
            {
             "iteration": 3,
             "learn": [
              0.5837179925
             ],
             "passed_time": 1.746401125,
             "remaining_time": 41.91362701,
             "test": [
              0.5847128616
             ]
            },
            {
             "iteration": 4,
             "learn": [
              0.5621930539
             ],
             "passed_time": 2.222869826,
             "remaining_time": 42.2345267,
             "test": [
              0.5612380296
             ]
            },
            {
             "iteration": 5,
             "learn": [
              0.5376695177
             ],
             "passed_time": 2.624089851,
             "remaining_time": 41.110741,
             "test": [
              0.5389933309
             ]
            },
            {
             "iteration": 6,
             "learn": [
              0.5168849055
             ],
             "passed_time": 3.089745661,
             "remaining_time": 41.04947807,
             "test": [
              0.5178885924
             ]
            },
            {
             "iteration": 7,
             "learn": [
              0.498685283
             ],
             "passed_time": 3.459314997,
             "remaining_time": 39.78212246,
             "test": [
              0.4978405433
             ]
            },
            {
             "iteration": 8,
             "learn": [
              0.4785280219
             ],
             "passed_time": 3.825709898,
             "remaining_time": 38.68217786,
             "test": [
              0.4787764249
             ]
            },
            {
             "iteration": 9,
             "learn": [
              0.4605844778
             ],
             "passed_time": 4.206833258,
             "remaining_time": 37.86149932,
             "test": [
              0.4606302532
             ]
            },
            {
             "iteration": 10,
             "learn": [
              0.4438297273
             ],
             "passed_time": 4.596019484,
             "remaining_time": 37.18597582,
             "test": [
              0.4433420509
             ]
            },
            {
             "iteration": 11,
             "learn": [
              0.4280554471
             ],
             "passed_time": 4.977051783,
             "remaining_time": 36.49837974,
             "test": [
              0.4268566144
             ]
            },
            {
             "iteration": 12,
             "learn": [
              0.4121264432
             ],
             "passed_time": 5.375183139,
             "remaining_time": 35.97237947,
             "test": [
              0.4111238863
             ]
            },
            {
             "iteration": 13,
             "learn": [
              0.3967805686
             ],
             "passed_time": 5.770777847,
             "remaining_time": 35.44906392,
             "test": [
              0.3960977434
             ]
            },
            {
             "iteration": 14,
             "learn": [
              0.3823968673
             ],
             "passed_time": 6.193824901,
             "remaining_time": 35.0983411,
             "test": [
              0.3817360015
             ]
            },
            {
             "iteration": 15,
             "learn": [
              0.3673379265
             ],
             "passed_time": 6.693783164,
             "remaining_time": 35.14236161,
             "test": [
              0.368001872
             ]
            },
            {
             "iteration": 16,
             "learn": [
              0.3538860096
             ],
             "passed_time": 7.146031002,
             "remaining_time": 34.88944548,
             "test": [
              0.3548573229
             ]
            },
            {
             "iteration": 17,
             "learn": [
              0.3431866782
             ],
             "passed_time": 7.490655659,
             "remaining_time": 34.124098,
             "test": [
              0.3422698979
             ]
            },
            {
             "iteration": 18,
             "learn": [
              0.3300938437
             ],
             "passed_time": 7.886818646,
             "remaining_time": 33.62275317,
             "test": [
              0.3302095726
             ]
            },
            {
             "iteration": 19,
             "learn": [
              0.3196813797
             ],
             "passed_time": 8.349283984,
             "remaining_time": 33.39713594,
             "test": [
              0.3186484272
             ]
            },
            {
             "iteration": 20,
             "learn": [
              0.3069746588
             ],
             "passed_time": 8.798644851,
             "remaining_time": 33.09966396,
             "test": [
              0.3075608577
             ]
            },
            {
             "iteration": 21,
             "learn": [
              0.2968896586
             ],
             "passed_time": 9.20349472,
             "remaining_time": 32.63057219,
             "test": [
              0.2969212849
             ]
            },
            {
             "iteration": 22,
             "learn": [
              0.2867752618
             ],
             "passed_time": 9.622978203,
             "remaining_time": 32.21605746,
             "test": [
              0.2867071105
             ]
            },
            {
             "iteration": 23,
             "learn": [
              0.2765156739
             ],
             "passed_time": 10.08955397,
             "remaining_time": 31.95025423,
             "test": [
              0.2768964286
             ]
            },
            {
             "iteration": 24,
             "learn": [
              0.2664596712
             ],
             "passed_time": 10.48123295,
             "remaining_time": 31.44369884,
             "test": [
              0.267469448
             ]
            },
            {
             "iteration": 25,
             "learn": [
              0.2579889121
             ],
             "passed_time": 10.85640388,
             "remaining_time": 30.89899566,
             "test": [
              0.2584079489
             ]
            },
            {
             "iteration": 26,
             "learn": [
              0.2499727211
             ],
             "passed_time": 11.31128631,
             "remaining_time": 30.5823667,
             "test": [
              0.2496950163
             ]
            },
            {
             "iteration": 27,
             "learn": [
              0.2419825758
             ],
             "passed_time": 11.68571414,
             "remaining_time": 30.04897922,
             "test": [
              0.2413136295
             ]
            },
            {
             "iteration": 28,
             "learn": [
              0.2336883451
             ],
             "passed_time": 12.16111496,
             "remaining_time": 29.77376421,
             "test": [
              0.2332491978
             ]
            },
            {
             "iteration": 29,
             "learn": [
              0.2258553532
             ],
             "passed_time": 12.64543237,
             "remaining_time": 29.50600886,
             "test": [
              0.2254872975
             ]
            },
            {
             "iteration": 30,
             "learn": [
              0.2185345078
             ],
             "passed_time": 13.1329855,
             "remaining_time": 29.23148385,
             "test": [
              0.2180139583
             ]
            },
            {
             "iteration": 31,
             "learn": [
              0.2109424507
             ],
             "passed_time": 13.51502248,
             "remaining_time": 28.71942276,
             "test": [
              0.2108152496
             ]
            },
            {
             "iteration": 32,
             "learn": [
              0.2033621514
             ],
             "passed_time": 14.01289944,
             "remaining_time": 28.45043219,
             "test": [
              0.2038806966
             ]
            },
            {
             "iteration": 33,
             "learn": [
              0.1964422723
             ],
             "passed_time": 14.46768878,
             "remaining_time": 28.08433705,
             "test": [
              0.1971982603
             ]
            },
            {
             "iteration": 34,
             "learn": [
              0.1911927228
             ],
             "passed_time": 14.92368398,
             "remaining_time": 27.71541311,
             "test": [
              0.1907574638
             ]
            },
            {
             "iteration": 35,
             "learn": [
              0.1839137432
             ],
             "passed_time": 15.29774085,
             "remaining_time": 27.19598374,
             "test": [
              0.1845473935
             ]
            },
            {
             "iteration": 36,
             "learn": [
              0.1787807507
             ],
             "passed_time": 15.69770279,
             "remaining_time": 26.72852097,
             "test": [
              0.1785598319
             ]
            },
            {
             "iteration": 37,
             "learn": [
              0.1722008455
             ],
             "passed_time": 16.08000078,
             "remaining_time": 26.23579075,
             "test": [
              0.1727833786
             ]
            },
            {
             "iteration": 38,
             "learn": [
              0.1676819268
             ],
             "passed_time": 16.51624715,
             "remaining_time": 25.83310451,
             "test": [
              0.1672107989
             ]
            },
            {
             "iteration": 39,
             "learn": [
              0.1614393003
             ],
             "passed_time": 16.91510017,
             "remaining_time": 25.37265025,
             "test": [
              0.1618330084
             ]
            },
            {
             "iteration": 40,
             "learn": [
              0.1563416667
             ],
             "passed_time": 17.34932384,
             "remaining_time": 24.96610017,
             "test": [
              0.1566427782
             ]
            },
            {
             "iteration": 41,
             "learn": [
              0.1520297904
             ],
             "passed_time": 17.7763756,
             "remaining_time": 24.54832821,
             "test": [
              0.1516326281
             ]
            },
            {
             "iteration": 42,
             "learn": [
              0.147021502
             ],
             "passed_time": 18.20857917,
             "remaining_time": 24.13695378,
             "test": [
              0.1467950498
             ]
            },
            {
             "iteration": 43,
             "learn": [
              0.1418801348
             ],
             "passed_time": 18.63724976,
             "remaining_time": 23.72013606,
             "test": [
              0.1421233774
             ]
            },
            {
             "iteration": 44,
             "learn": [
              0.1371214463
             ],
             "passed_time": 19.07260793,
             "remaining_time": 23.31096525,
             "test": [
              0.137611456
             ]
            },
            {
             "iteration": 45,
             "learn": [
              0.1329224535
             ],
             "passed_time": 19.5301401,
             "remaining_time": 22.9266862,
             "test": [
              0.1332523196
             ]
            },
            {
             "iteration": 46,
             "learn": [
              0.128932931
             ],
             "passed_time": 19.89275966,
             "remaining_time": 22.43226089,
             "test": [
              0.1290407482
             ]
            },
            {
             "iteration": 47,
             "learn": [
              0.1250074277
             ],
             "passed_time": 20.42583723,
             "remaining_time": 22.12799034,
             "test": [
              0.1249719341
             ]
            },
            {
             "iteration": 48,
             "learn": [
              0.1210976287
             ],
             "passed_time": 20.85894255,
             "remaining_time": 21.71032796,
             "test": [
              0.1210392158
             ]
            },
            {
             "iteration": 49,
             "learn": [
              0.1172114205
             ],
             "passed_time": 21.20928048,
             "remaining_time": 21.20928048,
             "test": [
              0.1172384319
             ]
            },
            {
             "iteration": 50,
             "learn": [
              0.1133356062
             ],
             "passed_time": 21.62048603,
             "remaining_time": 20.77262383,
             "test": [
              0.1135636863
             ]
            },
            {
             "iteration": 51,
             "learn": [
              0.1097728866
             ],
             "passed_time": 21.97884376,
             "remaining_time": 20.28816347,
             "test": [
              0.110010359
             ]
            },
            {
             "iteration": 52,
             "learn": [
              0.1069439402
             ],
             "passed_time": 22.36871329,
             "remaining_time": 19.83640613,
             "test": [
              0.1065751763
             ]
            },
            {
             "iteration": 53,
             "learn": [
              0.1034244769
             ],
             "passed_time": 22.71725838,
             "remaining_time": 19.35173862,
             "test": [
              0.1032527069
             ]
            },
            {
             "iteration": 54,
             "learn": [
              0.09974952872
             ],
             "passed_time": 23.1768366,
             "remaining_time": 18.96286631,
             "test": [
              0.1000397053
             ]
            },
            {
             "iteration": 55,
             "learn": [
              0.09715597657
             ],
             "passed_time": 23.60135735,
             "remaining_time": 18.54392363,
             "test": [
              0.09693150281
             ]
            },
            {
             "iteration": 56,
             "learn": [
              0.09378576664
             ],
             "passed_time": 24.0281043,
             "remaining_time": 18.12646465,
             "test": [
              0.09392445381
             ]
            },
            {
             "iteration": 57,
             "learn": [
              0.09124300246
             ],
             "passed_time": 24.49636297,
             "remaining_time": 17.7387456,
             "test": [
              0.09101541561
             ]
            },
            {
             "iteration": 58,
             "learn": [
              0.08796199294
             ],
             "passed_time": 24.90440037,
             "remaining_time": 17.30644771,
             "test": [
              0.08820040065
             ]
            },
            {
             "iteration": 59,
             "learn": [
              0.08549421036
             ],
             "passed_time": 25.34493287,
             "remaining_time": 16.89662191,
             "test": [
              0.08547683135
             ]
            },
            {
             "iteration": 60,
             "learn": [
              0.08259743882
             ],
             "passed_time": 25.77630662,
             "remaining_time": 16.47993374,
             "test": [
              0.08284047162
             ]
            },
            {
             "iteration": 61,
             "learn": [
              0.08012469283
             ],
             "passed_time": 26.19573849,
             "remaining_time": 16.05545262,
             "test": [
              0.08028886821
             ]
            },
            {
             "iteration": 62,
             "learn": [
              0.07799304034
             ],
             "passed_time": 26.59936413,
             "remaining_time": 15.62184877,
             "test": [
              0.07781931579
             ]
            },
            {
             "iteration": 63,
             "learn": [
              0.07551250983
             ],
             "passed_time": 26.99936045,
             "remaining_time": 15.18714025,
             "test": [
              0.07542892491
             ]
            },
            {
             "iteration": 64,
             "learn": [
              0.07298400452
             ],
             "passed_time": 27.45436465,
             "remaining_time": 14.78311943,
             "test": [
              0.07311470549
             ]
            },
            {
             "iteration": 65,
             "learn": [
              0.07059644677
             ],
             "passed_time": 27.88510349,
             "remaining_time": 14.36505331,
             "test": [
              0.07087373532
             ]
            },
            {
             "iteration": 66,
             "learn": [
              0.06847512764
             ],
             "passed_time": 28.33494676,
             "remaining_time": 13.95601855,
             "test": [
              0.06870420119
             ]
            },
            {
             "iteration": 67,
             "learn": [
              0.06645620725
             ],
             "passed_time": 28.69131741,
             "remaining_time": 13.50179643,
             "test": [
              0.06660332851
             ]
            },
            {
             "iteration": 68,
             "learn": [
              0.06448842629
             ],
             "passed_time": 29.1043996,
             "remaining_time": 13.07588968,
             "test": [
              0.06456872336
             ]
            },
            {
             "iteration": 69,
             "learn": [
              0.06253481821
             ],
             "passed_time": 29.44283691,
             "remaining_time": 12.61835868,
             "test": [
              0.06259862138
             ]
            },
            {
             "iteration": 70,
             "learn": [
              0.06058695094
             ],
             "passed_time": 29.79883458,
             "remaining_time": 12.17135497,
             "test": [
              0.06069026888
             ]
            },
            {
             "iteration": 71,
             "learn": [
              0.05867792993
             ],
             "passed_time": 30.18101408,
             "remaining_time": 11.73706103,
             "test": [
              0.05884214793
             ]
            },
            {
             "iteration": 72,
             "learn": [
              0.05687121401
             ],
             "passed_time": 30.58651153,
             "remaining_time": 11.31281933,
             "test": [
              0.05705172355
             ]
            },
            {
             "iteration": 73,
             "learn": [
              0.05545522757
             ],
             "passed_time": 31.05782325,
             "remaining_time": 10.91220817,
             "test": [
              0.05531768765
             ]
            },
            {
             "iteration": 74,
             "learn": [
              0.05369850676
             ],
             "passed_time": 31.69033887,
             "remaining_time": 10.56344629,
             "test": [
              0.05363780304
             ]
            },
            {
             "iteration": 75,
             "learn": [
              0.05185107915
             ],
             "passed_time": 32.28223909,
             "remaining_time": 10.19439129,
             "test": [
              0.05201021775
             ]
            },
            {
             "iteration": 76,
             "learn": [
              0.05055613832
             ],
             "passed_time": 32.83739553,
             "remaining_time": 9.808572692,
             "test": [
              0.05043359108
             ]
            },
            {
             "iteration": 77,
             "learn": [
              0.04886494425
             ],
             "passed_time": 33.29271275,
             "remaining_time": 9.390252315,
             "test": [
              0.04890590368
             ]
            },
            {
             "iteration": 78,
             "learn": [
              0.04729084501
             ],
             "passed_time": 33.68189326,
             "remaining_time": 8.953414663,
             "test": [
              0.04742537552
             ]
            },
            {
             "iteration": 79,
             "learn": [
              0.04593757588
             ],
             "passed_time": 34.07571657,
             "remaining_time": 8.518929142,
             "test": [
              0.04599109808
             ]
            },
            {
             "iteration": 80,
             "learn": [
              0.04467508759
             ],
             "passed_time": 34.44539285,
             "remaining_time": 8.079783508,
             "test": [
              0.04460126438
             ]
            },
            {
             "iteration": 81,
             "learn": [
              0.04309482056
             ],
             "passed_time": 34.80969206,
             "remaining_time": 7.641151915,
             "test": [
              0.04325440601
             ]
            },
            {
             "iteration": 82,
             "learn": [
              0.04198480983
             ],
             "passed_time": 35.17078053,
             "remaining_time": 7.203653843,
             "test": [
              0.0419486982
             ]
            },
            {
             "iteration": 83,
             "learn": [
              0.04074138331
             ],
             "passed_time": 35.53516249,
             "remaining_time": 6.768602379,
             "test": [
              0.04068342974
             ]
            },
            {
             "iteration": 84,
             "learn": [
              0.03937797278
             ],
             "passed_time": 35.91937348,
             "remaining_time": 6.338712968,
             "test": [
              0.03945685713
             ]
            },
            {
             "iteration": 85,
             "learn": [
              0.03815621629
             ],
             "passed_time": 36.4020056,
             "remaining_time": 5.925907888,
             "test": [
              0.03826888362
             ]
            },
            {
             "iteration": 86,
             "learn": [
              0.03713507075
             ],
             "passed_time": 36.74426259,
             "remaining_time": 5.490521996,
             "test": [
              0.03711673812
             ]
            },
            {
             "iteration": 87,
             "learn": [
              0.03608480414
             ],
             "passed_time": 37.17554152,
             "remaining_time": 5.069392026,
             "test": [
              0.03600062203
             ]
            },
            {
             "iteration": 88,
             "learn": [
              0.03490496972
             ],
             "passed_time": 37.57981636,
             "remaining_time": 4.644696404,
             "test": [
              0.03491810977
             ]
            },
            {
             "iteration": 89,
             "learn": [
              0.03385625339
             ],
             "passed_time": 38.03011834,
             "remaining_time": 4.225568704,
             "test": [
              0.03386898813
             ]
            },
            {
             "iteration": 90,
             "learn": [
              0.03284851595
             ],
             "passed_time": 38.40808561,
             "remaining_time": 3.798601873,
             "test": [
              0.03285158102
             ]
            },
            {
             "iteration": 91,
             "learn": [
              0.03185882068
             ],
             "passed_time": 38.84492246,
             "remaining_time": 3.377819345,
             "test": [
              0.03186595682
             ]
            },
            {
             "iteration": 92,
             "learn": [
              0.03088238388
             ],
             "passed_time": 39.2634046,
             "remaining_time": 2.955310023,
             "test": [
              0.03090994562
             ]
            },
            {
             "iteration": 93,
             "learn": [
              0.02994340331
             ],
             "passed_time": 39.73070303,
             "remaining_time": 2.536002321,
             "test": [
              0.02998306337
             ]
            },
            {
             "iteration": 94,
             "learn": [
              0.02902537061
             ],
             "passed_time": 40.18988711,
             "remaining_time": 2.115257216,
             "test": [
              0.02908438536
             ]
            },
            {
             "iteration": 95,
             "learn": [
              0.02826765925
             ],
             "passed_time": 40.64428975,
             "remaining_time": 1.693512073,
             "test": [
              0.02821333693
             ]
            },
            {
             "iteration": 96,
             "learn": [
              0.02738256898
             ],
             "passed_time": 41.06750086,
             "remaining_time": 1.270128893,
             "test": [
              0.02736878108
             ]
            },
            {
             "iteration": 97,
             "learn": [
              0.02647255518
             ],
             "passed_time": 41.50901564,
             "remaining_time": 0.8471227681,
             "test": [
              0.02654979294
             ]
            },
            {
             "iteration": 98,
             "learn": [
              0.02580700935
             ],
             "passed_time": 41.88332391,
             "remaining_time": 0.4230638779,
             "test": [
              0.0257554621
             ]
            },
            {
             "iteration": 99,
             "learn": [
              0.02495298479
             ],
             "passed_time": 42.26732605,
             "remaining_time": 0,
             "test": [
              0.02498523421
             ]
            }
           ],
           "meta": {
            "iteration_count": 100,
            "launch_mode": "Train",
            "learn_metrics": [
             {
              "best_value": "Min",
              "name": "CrossEntropy"
             }
            ],
            "learn_sets": [
             "learn"
            ],
            "name": "experiment",
            "parameters": "",
            "test_metrics": [
             {
              "best_value": "Min",
              "name": "CrossEntropy"
             }
            ],
            "test_sets": [
             "test"
            ]
           }
          },
          "passed_iterations": 99,
          "total_iterations": 100
         },
         "name": "catboost_info",
         "path": "catboost_info"
        }
       },
       "layout": "IPY_MODEL_5d41601f5440498e91290413034cb104"
      }
     },
     "3ad50232e3944399874f58169b94d0a1": {
      "model_module": "@jupyter-widgets/base",
      "model_module_version": "1.2.0",
      "model_name": "LayoutModel",
      "state": {
       "_model_module": "@jupyter-widgets/base",
       "_model_module_version": "1.2.0",
       "_model_name": "LayoutModel",
       "_view_count": null,
       "_view_module": "@jupyter-widgets/base",
       "_view_module_version": "1.2.0",
       "_view_name": "LayoutView",
       "align_content": null,
       "align_items": null,
       "align_self": "stretch",
       "border": null,
       "bottom": null,
       "display": null,
       "flex": null,
       "flex_flow": null,
       "grid_area": null,
       "grid_auto_columns": null,
       "grid_auto_flow": null,
       "grid_auto_rows": null,
       "grid_column": null,
       "grid_gap": null,
       "grid_row": null,
       "grid_template_areas": null,
       "grid_template_columns": null,
       "grid_template_rows": null,
       "height": "500px",
       "justify_content": null,
       "justify_items": null,
       "left": null,
       "margin": null,
       "max_height": null,
       "max_width": null,
       "min_height": null,
       "min_width": null,
       "object_fit": null,
       "object_position": null,
       "order": null,
       "overflow": null,
       "overflow_x": null,
       "overflow_y": null,
       "padding": null,
       "right": null,
       "top": null,
       "visibility": null,
       "width": null
      }
     },
     "3b318cfdc00b4856b560614cf0fcb150": {
      "model_module": "catboost-widget",
      "model_module_version": "^1.0.0",
      "model_name": "CatboostWidgetModel",
      "state": {
       "_dom_classes": [],
       "_model_module": "catboost-widget",
       "_model_module_version": "^1.0.0",
       "_model_name": "CatboostWidgetModel",
       "_view_count": null,
       "_view_module": "catboost-widget",
       "_view_module_version": "^1.0.0",
       "_view_name": "CatboostWidgetView",
       "data": {
        "catboost_info": {
         "content": {
          "data": {
           "iterations": [
            {
             "iteration": 0,
             "learn": [
              0.674892168
             ],
             "passed_time": 0.476068887,
             "remaining_time": 47.13081982,
             "test": [
              0.6747054407
             ]
            },
            {
             "iteration": 1,
             "learn": [
              0.6586447132
             ],
             "passed_time": 0.9105343566,
             "remaining_time": 44.61618347,
             "test": [
              0.6573132303
             ]
            },
            {
             "iteration": 2,
             "learn": [
              0.6411829672
             ],
             "passed_time": 1.348514466,
             "remaining_time": 43.60196774,
             "test": [
              0.6408161175
             ]
            },
            {
             "iteration": 3,
             "learn": [
              0.6259286818
             ],
             "passed_time": 1.782010816,
             "remaining_time": 42.7682596,
             "test": [
              0.6250778139
             ]
            },
            {
             "iteration": 4,
             "learn": [
              0.6109337339
             ],
             "passed_time": 2.215807577,
             "remaining_time": 42.10034396,
             "test": [
              0.6103570739
             ]
            },
            {
             "iteration": 5,
             "learn": [
              0.5972436565
             ],
             "passed_time": 2.649431251,
             "remaining_time": 41.50775626,
             "test": [
              0.5961919031
             ]
            },
            {
             "iteration": 6,
             "learn": [
              0.5833977525
             ],
             "passed_time": 3.059694054,
             "remaining_time": 40.65022101,
             "test": [
              0.5830100849
             ]
            },
            {
             "iteration": 7,
             "learn": [
              0.5713163888
             ],
             "passed_time": 3.494688443,
             "remaining_time": 40.18891709,
             "test": [
              0.5702980212
             ]
            },
            {
             "iteration": 8,
             "learn": [
              0.5588058434
             ],
             "passed_time": 3.881331897,
             "remaining_time": 39.24457807,
             "test": [
              0.5578026732
             ]
            },
            {
             "iteration": 9,
             "learn": [
              0.5472307814
             ],
             "passed_time": 4.293596975,
             "remaining_time": 38.64237278,
             "test": [
              0.5464923071
             ]
            },
            {
             "iteration": 10,
             "learn": [
              0.5361058374
             ],
             "passed_time": 4.679684512,
             "remaining_time": 37.86290196,
             "test": [
              0.5351844201
             ]
            },
            {
             "iteration": 11,
             "learn": [
              0.5258161841
             ],
             "passed_time": 5.077570592,
             "remaining_time": 37.23551768,
             "test": [
              0.5243394877
             ]
            },
            {
             "iteration": 12,
             "learn": [
              0.5157456509
             ],
             "passed_time": 5.531219936,
             "remaining_time": 37.01662573,
             "test": [
              0.5142398742
             ]
            },
            {
             "iteration": 13,
             "learn": [
              0.5061513307
             ],
             "passed_time": 5.907330393,
             "remaining_time": 36.2878867,
             "test": [
              0.5042792961
             ]
            },
            {
             "iteration": 14,
             "learn": [
              0.4967519903
             ],
             "passed_time": 6.339454499,
             "remaining_time": 35.9235755,
             "test": [
              0.4948165236
             ]
            },
            {
             "iteration": 15,
             "learn": [
              0.4873572275
             ],
             "passed_time": 6.710891077,
             "remaining_time": 35.23217815,
             "test": [
              0.4855475412
             ]
            },
            {
             "iteration": 16,
             "learn": [
              0.4783308133
             ],
             "passed_time": 7.137564134,
             "remaining_time": 34.84810724,
             "test": [
              0.4767921576
             ]
            },
            {
             "iteration": 17,
             "learn": [
              0.4699551813
             ],
             "passed_time": 7.54544032,
             "remaining_time": 34.37367257,
             "test": [
              0.4686726334
             ]
            },
            {
             "iteration": 18,
             "learn": [
              0.4621770246
             ],
             "passed_time": 7.923170928,
             "remaining_time": 33.77772869,
             "test": [
              0.4604562802
             ]
            },
            {
             "iteration": 19,
             "learn": [
              0.4543259668
             ],
             "passed_time": 8.337898657,
             "remaining_time": 33.35159463,
             "test": [
              0.452638247
             ]
            },
            {
             "iteration": 20,
             "learn": [
              0.4461816489
             ],
             "passed_time": 8.719419563,
             "remaining_time": 32.80162597,
             "test": [
              0.4449243574
             ]
            },
            {
             "iteration": 21,
             "learn": [
              0.4357697934
             ],
             "passed_time": 9.142799254,
             "remaining_time": 32.41537917,
             "test": [
              0.4349858556
             ]
            },
            {
             "iteration": 22,
             "learn": [
              0.4262976471
             ],
             "passed_time": 9.655364115,
             "remaining_time": 32.32447986,
             "test": [
              0.4257334075
             ]
            },
            {
             "iteration": 23,
             "learn": [
              0.4172403227
             ],
             "passed_time": 10.23981724,
             "remaining_time": 32.42608792,
             "test": [
              0.416944932
             ]
            },
            {
             "iteration": 24,
             "learn": [
              0.4104634004
             ],
             "passed_time": 10.86291734,
             "remaining_time": 32.58875201,
             "test": [
              0.4100296097
             ]
            },
            {
             "iteration": 25,
             "learn": [
              0.4032219643
             ],
             "passed_time": 11.2680255,
             "remaining_time": 32.07053413,
             "test": [
              0.4024232582
             ]
            },
            {
             "iteration": 26,
             "learn": [
              0.3975136249
             ],
             "passed_time": 11.65879502,
             "remaining_time": 31.52192727,
             "test": [
              0.3968758109
             ]
            },
            {
             "iteration": 27,
             "learn": [
              0.3905030875
             ],
             "passed_time": 12.05436442,
             "remaining_time": 30.99693707,
             "test": [
              0.3898551752
             ]
            },
            {
             "iteration": 28,
             "learn": [
              0.3825623136
             ],
             "passed_time": 12.46924085,
             "remaining_time": 30.52814139,
             "test": [
              0.3822939685
             ]
            },
            {
             "iteration": 29,
             "learn": [
              0.3770430911
             ],
             "passed_time": 12.93497939,
             "remaining_time": 30.18161859,
             "test": [
              0.3769269253
             ]
            },
            {
             "iteration": 30,
             "learn": [
              0.3717406939
             ],
             "passed_time": 13.31597431,
             "remaining_time": 29.63878152,
             "test": [
              0.3714202271
             ]
            },
            {
             "iteration": 31,
             "learn": [
              0.3645973298
             ],
             "passed_time": 13.73584766,
             "remaining_time": 29.18867628,
             "test": [
              0.3645436182
             ]
            },
            {
             "iteration": 32,
             "learn": [
              0.3577395183
             ],
             "passed_time": 14.15278895,
             "remaining_time": 28.7344503,
             "test": [
              0.3578349643
             ]
            },
            {
             "iteration": 33,
             "learn": [
              0.351112529
             ],
             "passed_time": 14.56982168,
             "remaining_time": 28.28259503,
             "test": [
              0.3512466089
             ]
            },
            {
             "iteration": 34,
             "learn": [
              0.3458339091
             ],
             "passed_time": 15.01476626,
             "remaining_time": 27.88456592,
             "test": [
              0.3459638572
             ]
            },
            {
             "iteration": 35,
             "learn": [
              0.3403494996
             ],
             "passed_time": 15.40993061,
             "remaining_time": 27.39543219,
             "test": [
              0.3402683998
             ]
            },
            {
             "iteration": 36,
             "learn": [
              0.3348539242
             ],
             "passed_time": 15.80087886,
             "remaining_time": 26.90419914,
             "test": [
              0.3348231244
             ]
            },
            {
             "iteration": 37,
             "learn": [
              0.3302952944
             ],
             "passed_time": 16.29503879,
             "remaining_time": 26.58664224,
             "test": [
              0.3300457456
             ]
            },
            {
             "iteration": 38,
             "learn": [
              0.324989258
             ],
             "passed_time": 16.74429045,
             "remaining_time": 26.18978762,
             "test": [
              0.3245491181
             ]
            },
            {
             "iteration": 39,
             "learn": [
              0.3208273607
             ],
             "passed_time": 17.12249067,
             "remaining_time": 25.683736,
             "test": [
              0.3201118101
             ]
            },
            {
             "iteration": 40,
             "learn": [
              0.3161300027
             ],
             "passed_time": 17.56867781,
             "remaining_time": 25.28175587,
             "test": [
              0.3147199092
             ]
            },
            {
             "iteration": 41,
             "learn": [
              0.310773111
             ],
             "passed_time": 17.97613875,
             "remaining_time": 24.82419161,
             "test": [
              0.3095499088
             ]
            },
            {
             "iteration": 42,
             "learn": [
              0.3067478509
             ],
             "passed_time": 18.42390073,
             "remaining_time": 24.42238003,
             "test": [
              0.3053154776
             ]
            },
            {
             "iteration": 43,
             "learn": [
              0.3022980271
             ],
             "passed_time": 18.81816486,
             "remaining_time": 23.95039163,
             "test": [
              0.3008490393
             ]
            },
            {
             "iteration": 44,
             "learn": [
              0.2983157106
             ],
             "passed_time": 19.26532126,
             "remaining_time": 23.54650376,
             "test": [
              0.2967410522
             ]
            },
            {
             "iteration": 45,
             "learn": [
              0.2945924622
             ],
             "passed_time": 19.70755465,
             "remaining_time": 23.13495546,
             "test": [
              0.2930003189
             ]
            },
            {
             "iteration": 46,
             "learn": [
              0.2899045444
             ],
             "passed_time": 20.11836139,
             "remaining_time": 22.68666285,
             "test": [
              0.2883202707
             ]
            },
            {
             "iteration": 47,
             "learn": [
              0.2853445945
             ],
             "passed_time": 20.52879024,
             "remaining_time": 22.23952276,
             "test": [
              0.2837368284
             ]
            },
            {
             "iteration": 48,
             "learn": [
              0.2810499368
             ],
             "passed_time": 20.93609468,
             "remaining_time": 21.79062916,
             "test": [
              0.2795461617
             ]
            },
            {
             "iteration": 49,
             "learn": [
              0.2766940532
             ],
             "passed_time": 21.35456273,
             "remaining_time": 21.35456273,
             "test": [
              0.2753594061
             ]
            },
            {
             "iteration": 50,
             "learn": [
              0.2728813631
             ],
             "passed_time": 21.81698444,
             "remaining_time": 20.96141642,
             "test": [
              0.2716562546
             ]
            },
            {
             "iteration": 51,
             "learn": [
              0.2694668199
             ],
             "passed_time": 22.25007001,
             "remaining_time": 20.53852616,
             "test": [
              0.2682148878
             ]
            },
            {
             "iteration": 52,
             "learn": [
              0.266420652
             ],
             "passed_time": 22.65512007,
             "remaining_time": 20.0903895,
             "test": [
              0.2650447543
             ]
            },
            {
             "iteration": 53,
             "learn": [
              0.2624011989
             ],
             "passed_time": 23.06842432,
             "remaining_time": 19.65087997,
             "test": [
              0.2608290048
             ]
            },
            {
             "iteration": 54,
             "learn": [
              0.2591220787
             ],
             "passed_time": 23.53822601,
             "remaining_time": 19.25854855,
             "test": [
              0.2575143312
             ]
            },
            {
             "iteration": 55,
             "learn": [
              0.2555173678
             ],
             "passed_time": 23.95171048,
             "remaining_time": 18.81920109,
             "test": [
              0.253972173
             ]
            },
            {
             "iteration": 56,
             "learn": [
              0.252261121
             ],
             "passed_time": 24.42371645,
             "remaining_time": 18.4249089,
             "test": [
              0.2507437311
             ]
            },
            {
             "iteration": 57,
             "learn": [
              0.249234478
             ],
             "passed_time": 24.86193159,
             "remaining_time": 18.0034677,
             "test": [
              0.2477383873
             ]
            },
            {
             "iteration": 58,
             "learn": [
              0.2459340029
             ],
             "passed_time": 25.28877819,
             "remaining_time": 17.57355772,
             "test": [
              0.244474067
             ]
            },
            {
             "iteration": 59,
             "learn": [
              0.2427202599
             ],
             "passed_time": 25.70740044,
             "remaining_time": 17.13826696,
             "test": [
              0.2411175295
             ]
            },
            {
             "iteration": 60,
             "learn": [
              0.2400209824
             ],
             "passed_time": 26.13775589,
             "remaining_time": 16.71102426,
             "test": [
              0.2384865114
             ]
            },
            {
             "iteration": 61,
             "learn": [
              0.2371356063
             ],
             "passed_time": 26.60451576,
             "remaining_time": 16.30599353,
             "test": [
              0.2358249426
             ]
            },
            {
             "iteration": 62,
             "learn": [
              0.234236763
             ],
             "passed_time": 27.04767225,
             "remaining_time": 15.88514085,
             "test": [
              0.233135145
             ]
            },
            {
             "iteration": 63,
             "learn": [
              0.2314715943
             ],
             "passed_time": 27.5380562,
             "remaining_time": 15.49015661,
             "test": [
              0.2301978466
             ]
            },
            {
             "iteration": 64,
             "learn": [
              0.2288801973
             ],
             "passed_time": 28.03532176,
             "remaining_time": 15.09594249,
             "test": [
              0.2277368494
             ]
            },
            {
             "iteration": 65,
             "learn": [
              0.2263249884
             ],
             "passed_time": 28.50785993,
             "remaining_time": 14.68586724,
             "test": [
              0.2252973073
             ]
            },
            {
             "iteration": 66,
             "learn": [
              0.2236169608
             ],
             "passed_time": 28.92427925,
             "remaining_time": 14.2462868,
             "test": [
              0.2225200952
             ]
            },
            {
             "iteration": 67,
             "learn": [
              0.2214236802
             ],
             "passed_time": 29.35151625,
             "remaining_time": 13.81247823,
             "test": [
              0.2205184555
             ]
            },
            {
             "iteration": 68,
             "learn": [
              0.2189227769
             ],
             "passed_time": 29.79891335,
             "remaining_time": 13.38791759,
             "test": [
              0.2178785444
             ]
            },
            {
             "iteration": 69,
             "learn": [
              0.217075606
             ],
             "passed_time": 30.15407902,
             "remaining_time": 12.92317672,
             "test": [
              0.2158924791
             ]
            },
            {
             "iteration": 70,
             "learn": [
              0.2147508663
             ],
             "passed_time": 30.61538059,
             "remaining_time": 12.50487376,
             "test": [
              0.2134856865
             ]
            },
            {
             "iteration": 71,
             "learn": [
              0.2123921698
             ],
             "passed_time": 31.02249061,
             "remaining_time": 12.0643019,
             "test": [
              0.2109949613
             ]
            },
            {
             "iteration": 72,
             "learn": [
              0.2100955459
             ],
             "passed_time": 31.45506861,
             "remaining_time": 11.63406647,
             "test": [
              0.2088961501
             ]
            },
            {
             "iteration": 73,
             "learn": [
              0.2077793383
             ],
             "passed_time": 31.8997392,
             "remaining_time": 11.20801648,
             "test": [
              0.2065092362
             ]
            },
            {
             "iteration": 74,
             "learn": [
              0.2059642334
             ],
             "passed_time": 32.32366769,
             "remaining_time": 10.7745559,
             "test": [
              0.2049937557
             ]
            },
            {
             "iteration": 75,
             "learn": [
              0.2036704317
             ],
             "passed_time": 32.74228663,
             "remaining_time": 10.33966946,
             "test": [
              0.2029201624
             ]
            },
            {
             "iteration": 76,
             "learn": [
              0.2017876965
             ],
             "passed_time": 33.15013214,
             "remaining_time": 9.901987521,
             "test": [
              0.2010976216
             ]
            },
            {
             "iteration": 77,
             "learn": [
              0.1998351651
             ],
             "passed_time": 33.53290496,
             "remaining_time": 9.457998836,
             "test": [
              0.199031567
             ]
            },
            {
             "iteration": 78,
             "learn": [
              0.1978148604
             ],
             "passed_time": 33.96266508,
             "remaining_time": 9.02805021,
             "test": [
              0.1972289927
             ]
            },
            {
             "iteration": 79,
             "learn": [
              0.1951336363
             ],
             "passed_time": 34.4560394,
             "remaining_time": 8.614009849,
             "test": [
              0.1947474108
             ]
            },
            {
             "iteration": 80,
             "learn": [
              0.1931301519
             ],
             "passed_time": 34.87332165,
             "remaining_time": 8.180161868,
             "test": [
              0.1929427764
             ]
            },
            {
             "iteration": 81,
             "learn": [
              0.1911159082
             ],
             "passed_time": 35.30934272,
             "remaining_time": 7.750831329,
             "test": [
              0.1909580207
             ]
            },
            {
             "iteration": 82,
             "learn": [
              0.1886228246
             ],
             "passed_time": 35.80636986,
             "remaining_time": 7.33383479,
             "test": [
              0.1886654947
             ]
            },
            {
             "iteration": 83,
             "learn": [
              0.1866743857
             ],
             "passed_time": 36.19952615,
             "remaining_time": 6.895147837,
             "test": [
              0.1866366438
             ]
            },
            {
             "iteration": 84,
             "learn": [
              0.1848923782
             ],
             "passed_time": 36.59389653,
             "remaining_time": 6.457746446,
             "test": [
              0.1849556355
             ]
            },
            {
             "iteration": 85,
             "learn": [
              0.1827650622
             ],
             "passed_time": 37.05616364,
             "remaining_time": 6.032398733,
             "test": [
              0.1826700483
             ]
            },
            {
             "iteration": 86,
             "learn": [
              0.1811481729
             ],
             "passed_time": 37.47233652,
             "remaining_time": 5.599314653,
             "test": [
              0.181089572
             ]
            },
            {
             "iteration": 87,
             "learn": [
              0.1795058093
             ],
             "passed_time": 37.87209627,
             "remaining_time": 5.164376764,
             "test": [
              0.1794528789
             ]
            },
            {
             "iteration": 88,
             "learn": [
              0.178066415
             ],
             "passed_time": 38.3261924,
             "remaining_time": 4.736945128,
             "test": [
              0.1780792601
             ]
            },
            {
             "iteration": 89,
             "learn": [
              0.1765523897
             ],
             "passed_time": 38.75023435,
             "remaining_time": 4.305581595,
             "test": [
              0.1765717337
             ]
            },
            {
             "iteration": 90,
             "learn": [
              0.174339047
             ],
             "passed_time": 39.25584046,
             "remaining_time": 3.882445759,
             "test": [
              0.1743181757
             ]
            },
            {
             "iteration": 91,
             "learn": [
              0.1727901094
             ],
             "passed_time": 39.66122731,
             "remaining_time": 3.448802375,
             "test": [
              0.1728124528
             ]
            },
            {
             "iteration": 92,
             "learn": [
              0.1712534713
             ],
             "passed_time": 40.07049976,
             "remaining_time": 3.016059121,
             "test": [
              0.17134554
             ]
            },
            {
             "iteration": 93,
             "learn": [
              0.1700813164
             ],
             "passed_time": 40.46433906,
             "remaining_time": 2.582830153,
             "test": [
              0.1701265795
             ]
            },
            {
             "iteration": 94,
             "learn": [
              0.1687425158
             ],
             "passed_time": 40.787704,
             "remaining_time": 2.146721263,
             "test": [
              0.1686409941
             ]
            },
            {
             "iteration": 95,
             "learn": [
              0.1672699367
             ],
             "passed_time": 41.25857291,
             "remaining_time": 1.719107205,
             "test": [
              0.1671154182
             ]
            },
            {
             "iteration": 96,
             "learn": [
              0.1662234116
             ],
             "passed_time": 41.82475856,
             "remaining_time": 1.293549234,
             "test": [
              0.1661101689
             ]
            },
            {
             "iteration": 97,
             "learn": [
              0.1648782677
             ],
             "passed_time": 42.41652216,
             "remaining_time": 0.8656433095,
             "test": [
              0.1648645798
             ]
            },
            {
             "iteration": 98,
             "learn": [
              0.1634297078
             ],
             "passed_time": 42.88505174,
             "remaining_time": 0.4331823408,
             "test": [
              0.1635782694
             ]
            },
            {
             "iteration": 99,
             "learn": [
              0.1622197638
             ],
             "passed_time": 43.20421868,
             "remaining_time": 0,
             "test": [
              0.1622087913
             ]
            }
           ],
           "meta": {
            "iteration_count": 100,
            "launch_mode": "Train",
            "learn_metrics": [
             {
              "best_value": "Min",
              "name": "CrossEntropy"
             }
            ],
            "learn_sets": [
             "learn"
            ],
            "name": "experiment",
            "parameters": "",
            "test_metrics": [
             {
              "best_value": "Min",
              "name": "CrossEntropy"
             }
            ],
            "test_sets": [
             "test"
            ]
           }
          },
          "passed_iterations": 99,
          "total_iterations": 100
         },
         "name": "catboost_info",
         "path": "catboost_info"
        }
       },
       "layout": "IPY_MODEL_33848d97b13045e7b0db2101b6e67c27"
      }
     },
     "41d673044b5147ebb434da4dd24bfdff": {
      "model_module": "catboost-widget",
      "model_module_version": "^1.0.0",
      "model_name": "CatboostWidgetModel",
      "state": {
       "_dom_classes": [],
       "_model_module": "catboost-widget",
       "_model_module_version": "^1.0.0",
       "_model_name": "CatboostWidgetModel",
       "_view_count": null,
       "_view_module": "catboost-widget",
       "_view_module_version": "^1.0.0",
       "_view_name": "CatboostWidgetView",
       "data": {
        "catboost_info": {
         "content": {
          "data": {
           "iterations": [
            {
             "iteration": 0,
             "learn": [
              0.6746877469
             ],
             "passed_time": 0.6273868966,
             "remaining_time": 62.11130276,
             "test": [
              0.6744473896
             ]
            },
            {
             "iteration": 1,
             "learn": [
              0.6550027242
             ],
             "passed_time": 1.142262153,
             "remaining_time": 55.97084547,
             "test": [
              0.6564336888
             ]
            },
            {
             "iteration": 2,
             "learn": [
              0.6379319239
             ],
             "passed_time": 1.560951762,
             "remaining_time": 50.47077363,
             "test": [
              0.6394143154
             ]
            },
            {
             "iteration": 3,
             "learn": [
              0.6218908937
             ],
             "passed_time": 1.93070607,
             "remaining_time": 46.33694567,
             "test": [
              0.6238091041
             ]
            },
            {
             "iteration": 4,
             "learn": [
              0.6057440029
             ],
             "passed_time": 2.373187102,
             "remaining_time": 45.09055493,
             "test": [
              0.6083147189
             ]
            },
            {
             "iteration": 5,
             "learn": [
              0.5912366281
             ],
             "passed_time": 2.74322602,
             "remaining_time": 42.97720765,
             "test": [
              0.5940657949
             ]
            },
            {
             "iteration": 6,
             "learn": [
              0.5771457909
             ],
             "passed_time": 3.122328222,
             "remaining_time": 41.48236066,
             "test": [
              0.5801364677
             ]
            },
            {
             "iteration": 7,
             "learn": [
              0.5638876994
             ],
             "passed_time": 3.483013263,
             "remaining_time": 40.05465253,
             "test": [
              0.5669280172
             ]
            },
            {
             "iteration": 8,
             "learn": [
              0.5497476802
             ],
             "passed_time": 3.930798018,
             "remaining_time": 39.74473551,
             "test": [
              0.5536090738
             ]
            },
            {
             "iteration": 9,
             "learn": [
              0.5368909853
             ],
             "passed_time": 4.343084683,
             "remaining_time": 39.08776215,
             "test": [
              0.5411878993
             ]
            },
            {
             "iteration": 10,
             "learn": [
              0.5253450677
             ],
             "passed_time": 4.723280344,
             "remaining_time": 38.21563187,
             "test": [
              0.5300348996
             ]
            },
            {
             "iteration": 11,
             "learn": [
              0.5146671005
             ],
             "passed_time": 5.085517846,
             "remaining_time": 37.29379753,
             "test": [
              0.5191534295
             ]
            },
            {
             "iteration": 12,
             "learn": [
              0.5042551728
             ],
             "passed_time": 5.467242479,
             "remaining_time": 36.5884689,
             "test": [
              0.5085440018
             ]
            },
            {
             "iteration": 13,
             "learn": [
              0.492544542
             ],
             "passed_time": 5.904626302,
             "remaining_time": 36.27127585,
             "test": [
              0.4979318833
             ]
            },
            {
             "iteration": 14,
             "learn": [
              0.4828771851
             ],
             "passed_time": 6.275230947,
             "remaining_time": 35.55964203,
             "test": [
              0.4882006455
             ]
            },
            {
             "iteration": 15,
             "learn": [
              0.4724545404
             ],
             "passed_time": 6.745884113,
             "remaining_time": 35.4158916,
             "test": [
              0.4786124285
             ]
            },
            {
             "iteration": 16,
             "learn": [
              0.4635072604
             ],
             "passed_time": 7.20284421,
             "remaining_time": 35.16682761,
             "test": [
              0.4692466958
             ]
            },
            {
             "iteration": 17,
             "learn": [
              0.4539241435
             ],
             "passed_time": 7.602086482,
             "remaining_time": 34.63172731,
             "test": [
              0.4602015662
             ]
            },
            {
             "iteration": 18,
             "learn": [
              0.4455421026
             ],
             "passed_time": 7.972105617,
             "remaining_time": 33.986345,
             "test": [
              0.4517494308
             ]
            },
            {
             "iteration": 19,
             "learn": [
              0.4368272413
             ],
             "passed_time": 8.403725519,
             "remaining_time": 33.61490207,
             "test": [
              0.4432406619
             ]
            },
            {
             "iteration": 20,
             "learn": [
              0.4284367547
             ],
             "passed_time": 8.835620382,
             "remaining_time": 33.23876239,
             "test": [
              0.4351850904
             ]
            },
            {
             "iteration": 21,
             "learn": [
              0.4195623292
             ],
             "passed_time": 9.221876881,
             "remaining_time": 32.69574531,
             "test": [
              0.4269136258
             ]
            },
            {
             "iteration": 22,
             "learn": [
              0.4123053167
             ],
             "passed_time": 9.689131768,
             "remaining_time": 32.43752809,
             "test": [
              0.4192353863
             ]
            },
            {
             "iteration": 23,
             "learn": [
              0.4042550479
             ],
             "passed_time": 10.11598586,
             "remaining_time": 32.03395521,
             "test": [
              0.4116313943
             ]
            },
            {
             "iteration": 24,
             "learn": [
              0.3962892133
             ],
             "passed_time": 10.5120167,
             "remaining_time": 31.5360501,
             "test": [
              0.4044225853
             ]
            },
            {
             "iteration": 25,
             "learn": [
              0.3895190121
             ],
             "passed_time": 10.93346346,
             "remaining_time": 31.11831908,
             "test": [
              0.397456028
             ]
            },
            {
             "iteration": 26,
             "learn": [
              0.3816977815
             ],
             "passed_time": 11.38745212,
             "remaining_time": 30.78829648,
             "test": [
              0.3901764947
             ]
            },
            {
             "iteration": 27,
             "learn": [
              0.3753573075
             ],
             "passed_time": 11.85518434,
             "remaining_time": 30.48475974,
             "test": [
              0.3835870604
             ]
            },
            {
             "iteration": 28,
             "learn": [
              0.3678164423
             ],
             "passed_time": 12.2651329,
             "remaining_time": 30.02842882,
             "test": [
              0.3761250586
             ]
            },
            {
             "iteration": 29,
             "learn": [
              0.3604458462
             ],
             "passed_time": 12.71264231,
             "remaining_time": 29.66283205,
             "test": [
              0.3690094178
             ]
            },
            {
             "iteration": 30,
             "learn": [
              0.3546616547
             ],
             "passed_time": 13.17669175,
             "remaining_time": 29.32876551,
             "test": [
              0.3630821959
             ]
            },
            {
             "iteration": 31,
             "learn": [
              0.3487563654
             ],
             "passed_time": 13.57401105,
             "remaining_time": 28.84477348,
             "test": [
              0.3570670046
             ]
            },
            {
             "iteration": 32,
             "learn": [
              0.3421172046
             ],
             "passed_time": 13.98068155,
             "remaining_time": 28.38502012,
             "test": [
              0.3504503567
             ]
            },
            {
             "iteration": 33,
             "learn": [
              0.3357984472
             ],
             "passed_time": 14.41378332,
             "remaining_time": 27.97969704,
             "test": [
              0.3441304706
             ]
            },
            {
             "iteration": 34,
             "learn": [
              0.3295379305
             ],
             "passed_time": 14.86055593,
             "remaining_time": 27.5981753,
             "test": [
              0.3381050832
             ]
            },
            {
             "iteration": 35,
             "learn": [
              0.3240130106
             ],
             "passed_time": 15.25292049,
             "remaining_time": 27.1163031,
             "test": [
              0.3326865784
             ]
            },
            {
             "iteration": 36,
             "learn": [
              0.3182899731
             ],
             "passed_time": 15.70747096,
             "remaining_time": 26.74515325,
             "test": [
              0.3272184697
             ]
            },
            {
             "iteration": 37,
             "learn": [
              0.3127325079
             ],
             "passed_time": 16.12164992,
             "remaining_time": 26.30374461,
             "test": [
              0.3218500557
             ]
            },
            {
             "iteration": 38,
             "learn": [
              0.3078310274
             ],
             "passed_time": 16.51871081,
             "remaining_time": 25.83695793,
             "test": [
              0.31691754
             ]
            },
            {
             "iteration": 39,
             "learn": [
              0.3030355887
             ],
             "passed_time": 16.90550798,
             "remaining_time": 25.35826197,
             "test": [
              0.312278472
             ]
            },
            {
             "iteration": 40,
             "learn": [
              0.2979993333
             ],
             "passed_time": 17.36779091,
             "remaining_time": 24.99267472,
             "test": [
              0.3075129613
             ]
            },
            {
             "iteration": 41,
             "learn": [
              0.2934637412
             ],
             "passed_time": 17.85891899,
             "remaining_time": 24.66231669,
             "test": [
              0.3028868833
             ]
            },
            {
             "iteration": 42,
             "learn": [
              0.2891614167
             ],
             "passed_time": 18.2513226,
             "remaining_time": 24.19361368,
             "test": [
              0.2985589601
             ]
            },
            {
             "iteration": 43,
             "learn": [
              0.2850470113
             ],
             "passed_time": 18.70415997,
             "remaining_time": 23.80529451,
             "test": [
              0.2942826542
             ]
            },
            {
             "iteration": 44,
             "learn": [
              0.2809954303
             ],
             "passed_time": 19.10782773,
             "remaining_time": 23.35401166,
             "test": [
              0.2900618793
             ]
            },
            {
             "iteration": 45,
             "learn": [
              0.2766272317
             ],
             "passed_time": 19.5167215,
             "remaining_time": 22.91093394,
             "test": [
              0.2855393402
             ]
            },
            {
             "iteration": 46,
             "learn": [
              0.2717988462
             ],
             "passed_time": 19.9860806,
             "remaining_time": 22.53749514,
             "test": [
              0.280675852
             ]
            },
            {
             "iteration": 47,
             "learn": [
              0.2678520721
             ],
             "passed_time": 20.44291606,
             "remaining_time": 22.14649239,
             "test": [
              0.2767915834
             ]
            },
            {
             "iteration": 48,
             "learn": [
              0.2641192673
             ],
             "passed_time": 20.88786492,
             "remaining_time": 21.74043084,
             "test": [
              0.2732029901
             ]
            },
            {
             "iteration": 49,
             "learn": [
              0.2597596
             ],
             "passed_time": 21.32800787,
             "remaining_time": 21.32800787,
             "test": [
              0.2688677954
             ]
            },
            {
             "iteration": 50,
             "learn": [
              0.255699851
             ],
             "passed_time": 21.76934301,
             "remaining_time": 20.91564328,
             "test": [
              0.2646320527
             ]
            },
            {
             "iteration": 51,
             "learn": [
              0.2518261614
             ],
             "passed_time": 22.24536461,
             "remaining_time": 20.53418271,
             "test": [
              0.2606712782
             ]
            },
            {
             "iteration": 52,
             "learn": [
              0.2478456246
             ],
             "passed_time": 22.63880143,
             "remaining_time": 20.07591825,
             "test": [
              0.2567263522
             ]
            },
            {
             "iteration": 53,
             "learn": [
              0.2445506022
             ],
             "passed_time": 23.08334867,
             "remaining_time": 19.66359332,
             "test": [
              0.2532807523
             ]
            },
            {
             "iteration": 54,
             "learn": [
              0.2414645024
             ],
             "passed_time": 23.49237878,
             "remaining_time": 19.22103718,
             "test": [
              0.2499755689
             ]
            },
            {
             "iteration": 55,
             "learn": [
              0.2380639189
             ],
             "passed_time": 23.89906901,
             "remaining_time": 18.77783993,
             "test": [
              0.2464486181
             ]
            },
            {
             "iteration": 56,
             "learn": [
              0.2347015036
             ],
             "passed_time": 24.29281255,
             "remaining_time": 18.32615684,
             "test": [
              0.2431469135
             ]
            },
            {
             "iteration": 57,
             "learn": [
              0.2318448996
             ],
             "passed_time": 24.70031737,
             "remaining_time": 17.88643671,
             "test": [
              0.2401694586
             ]
            },
            {
             "iteration": 58,
             "learn": [
              0.2285926337
             ],
             "passed_time": 25.09565862,
             "remaining_time": 17.43935599,
             "test": [
              0.2366574688
             ]
            },
            {
             "iteration": 59,
             "learn": [
              0.225575106
             ],
             "passed_time": 25.49096461,
             "remaining_time": 16.99397641,
             "test": [
              0.2336651493
             ]
            },
            {
             "iteration": 60,
             "learn": [
              0.2220378943
             ],
             "passed_time": 25.9388334,
             "remaining_time": 16.58384431,
             "test": [
              0.2299376812
             ]
            },
            {
             "iteration": 61,
             "learn": [
              0.2189542846
             ],
             "passed_time": 26.40386843,
             "remaining_time": 16.18301614,
             "test": [
              0.2268903776
             ]
            },
            {
             "iteration": 62,
             "learn": [
              0.2161624184
             ],
             "passed_time": 26.87853201,
             "remaining_time": 15.78580451,
             "test": [
              0.2240715879
             ]
            },
            {
             "iteration": 63,
             "learn": [
              0.2136514625
             ],
             "passed_time": 27.30902094,
             "remaining_time": 15.36132428,
             "test": [
              0.2215338996
             ]
            },
            {
             "iteration": 64,
             "learn": [
              0.2106336077
             ],
             "passed_time": 27.70228735,
             "remaining_time": 14.91661627,
             "test": [
              0.2185519083
             ]
            },
            {
             "iteration": 65,
             "learn": [
              0.2078965043
             ],
             "passed_time": 28.07077789,
             "remaining_time": 14.46070376,
             "test": [
              0.2155284574
             ]
            },
            {
             "iteration": 66,
             "learn": [
              0.2051487272
             ],
             "passed_time": 28.59475923,
             "remaining_time": 14.08398589,
             "test": [
              0.2128226958
             ]
            },
            {
             "iteration": 67,
             "learn": [
              0.2023764202
             ],
             "passed_time": 28.97810756,
             "remaining_time": 13.6367565,
             "test": [
              0.2100469191
             ]
            },
            {
             "iteration": 68,
             "learn": [
              0.2000276946
             ],
             "passed_time": 29.4295304,
             "remaining_time": 13.22196293,
             "test": [
              0.2076067978
             ]
            },
            {
             "iteration": 69,
             "learn": [
              0.1976483039
             ],
             "passed_time": 29.7783219,
             "remaining_time": 12.76213796,
             "test": [
              0.204950404
             ]
            },
            {
             "iteration": 70,
             "learn": [
              0.1950607059
             ],
             "passed_time": 30.15807909,
             "remaining_time": 12.31808864,
             "test": [
              0.2022187946
             ]
            },
            {
             "iteration": 71,
             "learn": [
              0.1929016647
             ],
             "passed_time": 30.57513725,
             "remaining_time": 11.89033115,
             "test": [
              0.19998488
             ]
            },
            {
             "iteration": 72,
             "learn": [
              0.1906662795
             ],
             "passed_time": 30.92493158,
             "remaining_time": 11.43798839,
             "test": [
              0.1975003415
             ]
            },
            {
             "iteration": 73,
             "learn": [
              0.1882417312
             ],
             "passed_time": 31.33131445,
             "remaining_time": 11.00829967,
             "test": [
              0.1948860169
             ]
            },
            {
             "iteration": 74,
             "learn": [
              0.1858619503
             ],
             "passed_time": 31.89403124,
             "remaining_time": 10.63134375,
             "test": [
              0.1925997846
             ]
            },
            {
             "iteration": 75,
             "learn": [
              0.1836701103
             ],
             "passed_time": 32.50759288,
             "remaining_time": 10.26555565,
             "test": [
              0.1904087172
             ]
            },
            {
             "iteration": 76,
             "learn": [
              0.1817270387
             ],
             "passed_time": 33.11345196,
             "remaining_time": 9.891031105,
             "test": [
              0.1884643261
             ]
            },
            {
             "iteration": 77,
             "learn": [
              0.1794230007
             ],
             "passed_time": 33.53604145,
             "remaining_time": 9.458883485,
             "test": [
              0.1859954839
             ]
            },
            {
             "iteration": 78,
             "learn": [
              0.1770176691
             ],
             "passed_time": 33.95514363,
             "remaining_time": 9.026050839,
             "test": [
              0.1837103527
             ]
            },
            {
             "iteration": 79,
             "learn": [
              0.1750067207
             ],
             "passed_time": 34.32736691,
             "remaining_time": 8.581841728,
             "test": [
              0.1815819235
             ]
            },
            {
             "iteration": 80,
             "learn": [
              0.1729631763
             ],
             "passed_time": 34.7350907,
             "remaining_time": 8.147737326,
             "test": [
              0.1793990924
             ]
            },
            {
             "iteration": 81,
             "learn": [
              0.1709121134
             ],
             "passed_time": 35.13198017,
             "remaining_time": 7.711898086,
             "test": [
              0.1772129786
             ]
            },
            {
             "iteration": 82,
             "learn": [
              0.168938433
             ],
             "passed_time": 35.59627209,
             "remaining_time": 7.290802717,
             "test": [
              0.1750207691
             ]
            },
            {
             "iteration": 83,
             "learn": [
              0.1669010643
             ],
             "passed_time": 35.98496823,
             "remaining_time": 6.854279664,
             "test": [
              0.1730017733
             ]
            },
            {
             "iteration": 84,
             "learn": [
              0.1656090665
             ],
             "passed_time": 36.34082368,
             "remaining_time": 6.413086531,
             "test": [
              0.1717259261
             ]
            },
            {
             "iteration": 85,
             "learn": [
              0.163839886
             ],
             "passed_time": 36.72400072,
             "remaining_time": 5.978325699,
             "test": [
              0.1697788855
             ]
            },
            {
             "iteration": 86,
             "learn": [
              0.1622488751
             ],
             "passed_time": 37.15207895,
             "remaining_time": 5.551460073,
             "test": [
              0.1680314072
             ]
            },
            {
             "iteration": 87,
             "learn": [
              0.160712597
             ],
             "passed_time": 37.55869774,
             "remaining_time": 5.121640601,
             "test": [
              0.1662065986
             ]
            },
            {
             "iteration": 88,
             "learn": [
              0.1590536674
             ],
             "passed_time": 37.93719271,
             "remaining_time": 4.688866514,
             "test": [
              0.1644378341
             ]
            },
            {
             "iteration": 89,
             "learn": [
              0.1570178598
             ],
             "passed_time": 38.35325069,
             "remaining_time": 4.261472299,
             "test": [
              0.1625615002
             ]
            },
            {
             "iteration": 90,
             "learn": [
              0.1553103139
             ],
             "passed_time": 38.7527141,
             "remaining_time": 3.83268601,
             "test": [
              0.1607174353
             ]
            },
            {
             "iteration": 91,
             "learn": [
              0.1533899446
             ],
             "passed_time": 39.13466949,
             "remaining_time": 3.403014738,
             "test": [
              0.1590407251
             ]
            },
            {
             "iteration": 92,
             "learn": [
              0.1517236758
             ],
             "passed_time": 39.59157754,
             "remaining_time": 2.980011212,
             "test": [
              0.1572447544
             ]
            },
            {
             "iteration": 93,
             "learn": [
              0.1500339709
             ],
             "passed_time": 40.04979224,
             "remaining_time": 2.556369718,
             "test": [
              0.1554655338
             ]
            },
            {
             "iteration": 94,
             "learn": [
              0.1482831134
             ],
             "passed_time": 40.46305147,
             "remaining_time": 2.129634288,
             "test": [
              0.1535286576
             ]
            },
            {
             "iteration": 95,
             "learn": [
              0.1465466522
             ],
             "passed_time": 40.84371665,
             "remaining_time": 1.701821527,
             "test": [
              0.1520049162
             ]
            },
            {
             "iteration": 96,
             "learn": [
              0.1450980391
             ],
             "passed_time": 41.21588341,
             "remaining_time": 1.274718044,
             "test": [
              0.1504753959
             ]
            },
            {
             "iteration": 97,
             "learn": [
              0.1435648523
             ],
             "passed_time": 41.61425063,
             "remaining_time": 0.849270421,
             "test": [
              0.1488580258
             ]
            },
            {
             "iteration": 98,
             "learn": [
              0.1421871306
             ],
             "passed_time": 42.07535415,
             "remaining_time": 0.4250035773,
             "test": [
              0.1473267305
             ]
            },
            {
             "iteration": 99,
             "learn": [
              0.1405540919
             ],
             "passed_time": 42.4618447,
             "remaining_time": 0,
             "test": [
              0.1459051549
             ]
            }
           ],
           "meta": {
            "iteration_count": 100,
            "launch_mode": "Train",
            "learn_metrics": [
             {
              "best_value": "Min",
              "name": "CrossEntropy"
             }
            ],
            "learn_sets": [
             "learn"
            ],
            "name": "experiment",
            "parameters": "",
            "test_metrics": [
             {
              "best_value": "Min",
              "name": "CrossEntropy"
             }
            ],
            "test_sets": [
             "test"
            ]
           }
          },
          "passed_iterations": 99,
          "total_iterations": 100
         },
         "name": "catboost_info",
         "path": "catboost_info"
        }
       },
       "layout": "IPY_MODEL_287e67d68dc440f288742a24eb585c33"
      }
     },
     "45e6cc4ddb6141ed82211b5b1e765693": {
      "model_module": "@jupyter-widgets/base",
      "model_module_version": "1.2.0",
      "model_name": "LayoutModel",
      "state": {
       "_model_module": "@jupyter-widgets/base",
       "_model_module_version": "1.2.0",
       "_model_name": "LayoutModel",
       "_view_count": null,
       "_view_module": "@jupyter-widgets/base",
       "_view_module_version": "1.2.0",
       "_view_name": "LayoutView",
       "align_content": null,
       "align_items": null,
       "align_self": "stretch",
       "border": null,
       "bottom": null,
       "display": null,
       "flex": null,
       "flex_flow": null,
       "grid_area": null,
       "grid_auto_columns": null,
       "grid_auto_flow": null,
       "grid_auto_rows": null,
       "grid_column": null,
       "grid_gap": null,
       "grid_row": null,
       "grid_template_areas": null,
       "grid_template_columns": null,
       "grid_template_rows": null,
       "height": "500px",
       "justify_content": null,
       "justify_items": null,
       "left": null,
       "margin": null,
       "max_height": null,
       "max_width": null,
       "min_height": null,
       "min_width": null,
       "object_fit": null,
       "object_position": null,
       "order": null,
       "overflow": null,
       "overflow_x": null,
       "overflow_y": null,
       "padding": null,
       "right": null,
       "top": null,
       "visibility": null,
       "width": null
      }
     },
     "4adc574854254e9ebb70a147f2004435": {
      "model_module": "@jupyter-widgets/base",
      "model_module_version": "1.2.0",
      "model_name": "LayoutModel",
      "state": {
       "_model_module": "@jupyter-widgets/base",
       "_model_module_version": "1.2.0",
       "_model_name": "LayoutModel",
       "_view_count": null,
       "_view_module": "@jupyter-widgets/base",
       "_view_module_version": "1.2.0",
       "_view_name": "LayoutView",
       "align_content": null,
       "align_items": null,
       "align_self": "stretch",
       "border": null,
       "bottom": null,
       "display": null,
       "flex": null,
       "flex_flow": null,
       "grid_area": null,
       "grid_auto_columns": null,
       "grid_auto_flow": null,
       "grid_auto_rows": null,
       "grid_column": null,
       "grid_gap": null,
       "grid_row": null,
       "grid_template_areas": null,
       "grid_template_columns": null,
       "grid_template_rows": null,
       "height": "500px",
       "justify_content": null,
       "justify_items": null,
       "left": null,
       "margin": null,
       "max_height": null,
       "max_width": null,
       "min_height": null,
       "min_width": null,
       "object_fit": null,
       "object_position": null,
       "order": null,
       "overflow": null,
       "overflow_x": null,
       "overflow_y": null,
       "padding": null,
       "right": null,
       "top": null,
       "visibility": null,
       "width": null
      }
     },
     "5040985d75364f1d8e0e834d5e4da683": {
      "model_module": "catboost-widget",
      "model_module_version": "^1.0.0",
      "model_name": "CatboostWidgetModel",
      "state": {
       "_dom_classes": [],
       "_model_module": "catboost-widget",
       "_model_module_version": "^1.0.0",
       "_model_name": "CatboostWidgetModel",
       "_view_count": null,
       "_view_module": "catboost-widget",
       "_view_module_version": "^1.0.0",
       "_view_name": "CatboostWidgetView",
       "data": {
        "catboost_info": {
         "content": {
          "data": {
           "iterations": [
            {
             "iteration": 0,
             "learn": [
              0.6634767721
             ],
             "passed_time": 0.3453313439,
             "remaining_time": 34.18780305,
             "test": [
              0.6645256525
             ]
            },
            {
             "iteration": 1,
             "learn": [
              0.638085868
             ],
             "passed_time": 0.6932240969,
             "remaining_time": 33.96798075,
             "test": [
              0.637411933
             ]
            },
            {
             "iteration": 2,
             "learn": [
              0.6116538233
             ],
             "passed_time": 1.044093782,
             "remaining_time": 33.75903227,
             "test": [
              0.6118940829
             ]
            },
            {
             "iteration": 3,
             "learn": [
              0.5878126028
             ],
             "passed_time": 1.367113593,
             "remaining_time": 32.81072624,
             "test": [
              0.5878371041
             ]
            },
            {
             "iteration": 4,
             "learn": [
              0.565963094
             ],
             "passed_time": 1.713351535,
             "remaining_time": 32.55367916,
             "test": [
              0.5650594485
             ]
            },
            {
             "iteration": 5,
             "learn": [
              0.54494659
             ],
             "passed_time": 2.031901784,
             "remaining_time": 31.83312794,
             "test": [
              0.5435170852
             ]
            },
            {
             "iteration": 6,
             "learn": [
              0.5222250437
             ],
             "passed_time": 2.357750753,
             "remaining_time": 31.32440286,
             "test": [
              0.5230503456
             ]
            },
            {
             "iteration": 7,
             "learn": [
              0.5048391302
             ],
             "passed_time": 2.710107929,
             "remaining_time": 31.16624119,
             "test": [
              0.5034597921
             ]
            },
            {
             "iteration": 8,
             "learn": [
              0.4853877312
             ],
             "passed_time": 3.057810446,
             "remaining_time": 30.91786118,
             "test": [
              0.4849978245
             ]
            },
            {
             "iteration": 9,
             "learn": [
              0.4682171876
             ],
             "passed_time": 3.384404951,
             "remaining_time": 30.45964456,
             "test": [
              0.4673147353
             ]
            },
            {
             "iteration": 10,
             "learn": [
              0.4522248438
             ],
             "passed_time": 3.73839768,
             "remaining_time": 30.24703577,
             "test": [
              0.4504120685
             ]
            },
            {
             "iteration": 11,
             "learn": [
              0.4364153769
             ],
             "passed_time": 4.081900316,
             "remaining_time": 29.93393565,
             "test": [
              0.4342946677
             ]
            },
            {
             "iteration": 12,
             "learn": [
              0.4212519648
             ],
             "passed_time": 4.43289961,
             "remaining_time": 29.66632816,
             "test": [
              0.4190672172
             ]
            },
            {
             "iteration": 13,
             "learn": [
              0.4066767783
             ],
             "passed_time": 4.802065087,
             "remaining_time": 29.49839982,
             "test": [
              0.4043868398
             ]
            },
            {
             "iteration": 14,
             "learn": [
              0.392028148
             ],
             "passed_time": 5.12286378,
             "remaining_time": 29.02956142,
             "test": [
              0.3904111416
             ]
            },
            {
             "iteration": 15,
             "learn": [
              0.378402222
             ],
             "passed_time": 5.474408688,
             "remaining_time": 28.74064561,
             "test": [
              0.3770552897
             ]
            },
            {
             "iteration": 16,
             "learn": [
              0.3662564301
             ],
             "passed_time": 5.811516484,
             "remaining_time": 28.3738746,
             "test": [
              0.364375461
             ]
            },
            {
             "iteration": 17,
             "learn": [
              0.3539651513
             ],
             "passed_time": 6.133733233,
             "remaining_time": 27.94256251,
             "test": [
              0.3521801521
             ]
            },
            {
             "iteration": 18,
             "learn": [
              0.3414962887
             ],
             "passed_time": 6.472119128,
             "remaining_time": 27.59166575,
             "test": [
              0.3405491652
             ]
            },
            {
             "iteration": 19,
             "learn": [
              0.3312921553
             ],
             "passed_time": 6.787257867,
             "remaining_time": 27.14903147,
             "test": [
              0.3292267996
             ]
            },
            {
             "iteration": 20,
             "learn": [
              0.3204515765
             ],
             "passed_time": 7.118975795,
             "remaining_time": 26.78090894,
             "test": [
              0.3186229649
             ]
            },
            {
             "iteration": 21,
             "learn": [
              0.3094565745
             ],
             "passed_time": 7.469836923,
             "remaining_time": 26.48396727,
             "test": [
              0.3082304162
             ]
            },
            {
             "iteration": 22,
             "learn": [
              0.3007264655
             ],
             "passed_time": 7.793731769,
             "remaining_time": 26.09205853,
             "test": [
              0.2981930641
             ]
            },
            {
             "iteration": 23,
             "learn": [
              0.2908657138
             ],
             "passed_time": 8.120739542,
             "remaining_time": 25.71567522,
             "test": [
              0.2887675246
             ]
            },
            {
             "iteration": 24,
             "learn": [
              0.2813389576
             ],
             "passed_time": 8.4234775,
             "remaining_time": 25.2704325,
             "test": [
              0.2796438315
             ]
            },
            {
             "iteration": 25,
             "learn": [
              0.2727079177
             ],
             "passed_time": 8.782262915,
             "remaining_time": 24.99567137,
             "test": [
              0.2707581503
             ]
            },
            {
             "iteration": 26,
             "learn": [
              0.2638508827
             ],
             "passed_time": 9.09858076,
             "remaining_time": 24.5998665,
             "test": [
              0.2621789645
             ]
            },
            {
             "iteration": 27,
             "learn": [
              0.2560387967
             ],
             "passed_time": 9.420814344,
             "remaining_time": 24.22495117,
             "test": [
              0.2540198313
             ]
            },
            {
             "iteration": 28,
             "learn": [
              0.2480778452
             ],
             "passed_time": 9.77295002,
             "remaining_time": 23.92687763,
             "test": [
              0.2461133761
             ]
            },
            {
             "iteration": 29,
             "learn": [
              0.2406285932
             ],
             "passed_time": 10.0922105,
             "remaining_time": 23.54849116,
             "test": [
              0.2385684383
             ]
            },
            {
             "iteration": 30,
             "learn": [
              0.2333738969
             ],
             "passed_time": 10.45028007,
             "remaining_time": 23.26030079,
             "test": [
              0.2312621485
             ]
            },
            {
             "iteration": 31,
             "learn": [
              0.2261381681
             ],
             "passed_time": 10.8643981,
             "remaining_time": 23.08684597,
             "test": [
              0.2242173215
             ]
            },
            {
             "iteration": 32,
             "learn": [
              0.2199718057
             ],
             "passed_time": 11.35590979,
             "remaining_time": 23.05593805,
             "test": [
              0.2174934135
             ]
            },
            {
             "iteration": 33,
             "learn": [
              0.2137573621
             ],
             "passed_time": 11.86040324,
             "remaining_time": 23.0231357,
             "test": [
              0.211218868
             ]
            },
            {
             "iteration": 34,
             "learn": [
              0.2071553241
             ],
             "passed_time": 12.24794384,
             "remaining_time": 22.74618141,
             "test": [
              0.2049897181
             ]
            },
            {
             "iteration": 35,
             "learn": [
              0.2014565957
             ],
             "passed_time": 12.56116448,
             "remaining_time": 22.33095907,
             "test": [
              0.1989563839
             ]
            },
            {
             "iteration": 36,
             "learn": [
              0.1952681266
             ],
             "passed_time": 12.86366664,
             "remaining_time": 21.90299996,
             "test": [
              0.1932070674
             ]
            },
            {
             "iteration": 37,
             "learn": [
              0.1900969931
             ],
             "passed_time": 13.22118975,
             "remaining_time": 21.57141485,
             "test": [
              0.1878736778
             ]
            },
            {
             "iteration": 38,
             "learn": [
              0.1845462111
             ],
             "passed_time": 13.58197409,
             "remaining_time": 21.24360049,
             "test": [
              0.1827359283
             ]
            },
            {
             "iteration": 39,
             "learn": [
              0.1796076233
             ],
             "passed_time": 13.928867,
             "remaining_time": 20.89330049,
             "test": [
              0.1773791306
             ]
            },
            {
             "iteration": 40,
             "learn": [
              0.1743167361
             ],
             "passed_time": 14.26452474,
             "remaining_time": 20.52699901,
             "test": [
              0.1725186257
             ]
            },
            {
             "iteration": 41,
             "learn": [
              0.1693421489
             ],
             "passed_time": 14.63239724,
             "remaining_time": 20.2066438,
             "test": [
              0.1677853887
             ]
            },
            {
             "iteration": 42,
             "learn": [
              0.1648583428
             ],
             "passed_time": 14.9326995,
             "remaining_time": 19.79450864,
             "test": [
              0.1631154265
             ]
            },
            {
             "iteration": 43,
             "learn": [
              0.1602460879
             ],
             "passed_time": 15.28661107,
             "remaining_time": 19.45568682,
             "test": [
              0.1584434224
             ]
            },
            {
             "iteration": 44,
             "learn": [
              0.1558350152
             ],
             "passed_time": 15.67163083,
             "remaining_time": 19.15421546,
             "test": [
              0.1542268217
             ]
            },
            {
             "iteration": 45,
             "learn": [
              0.1516126809
             ],
             "passed_time": 16.01416376,
             "remaining_time": 18.79923572,
             "test": [
              0.1501451435
             ]
            },
            {
             "iteration": 46,
             "learn": [
              0.1476042793
             ],
             "passed_time": 16.34665062,
             "remaining_time": 18.43345709,
             "test": [
              0.1460594277
             ]
            },
            {
             "iteration": 47,
             "learn": [
              0.1433866353
             ],
             "passed_time": 16.68645912,
             "remaining_time": 18.07699738,
             "test": [
              0.1420181129
             ]
            },
            {
             "iteration": 48,
             "learn": [
              0.1396059252
             ],
             "passed_time": 17.02280488,
             "remaining_time": 17.71761324,
             "test": [
              0.138313313
             ]
            },
            {
             "iteration": 49,
             "learn": [
              0.1360686964
             ],
             "passed_time": 17.3746359,
             "remaining_time": 17.3746359,
             "test": [
              0.1347484924
             ]
            },
            {
             "iteration": 50,
             "learn": [
              0.1325184549
             ],
             "passed_time": 17.71690378,
             "remaining_time": 17.02212324,
             "test": [
              0.1311166625
             ]
            },
            {
             "iteration": 51,
             "learn": [
              0.128979307
             ],
             "passed_time": 18.04566117,
             "remaining_time": 16.65753339,
             "test": [
              0.1277181611
             ]
            },
            {
             "iteration": 52,
             "learn": [
              0.1256504951
             ],
             "passed_time": 18.38454305,
             "remaining_time": 16.30327402,
             "test": [
              0.1245111223
             ]
            },
            {
             "iteration": 53,
             "learn": [
              0.1223023356
             ],
             "passed_time": 18.756191,
             "remaining_time": 15.97749603,
             "test": [
              0.1210337636
             ]
            },
            {
             "iteration": 54,
             "learn": [
              0.1192762541
             ],
             "passed_time": 19.11958184,
             "remaining_time": 15.64329423,
             "test": [
              0.1180445817
             ]
            },
            {
             "iteration": 55,
             "learn": [
              0.1161404438
             ],
             "passed_time": 19.48242828,
             "remaining_time": 15.30762222,
             "test": [
              0.1150866156
             ]
            },
            {
             "iteration": 56,
             "learn": [
              0.1132413784
             ],
             "passed_time": 19.81286148,
             "remaining_time": 14.94654462,
             "test": [
              0.1120503983
             ]
            },
            {
             "iteration": 57,
             "learn": [
              0.1102513254
             ],
             "passed_time": 20.14155604,
             "remaining_time": 14.58526472,
             "test": [
              0.1092281146
             ]
            },
            {
             "iteration": 58,
             "learn": [
              0.1076590921
             ],
             "passed_time": 20.49385208,
             "remaining_time": 14.24149043,
             "test": [
              0.1065911433
             ]
            },
            {
             "iteration": 59,
             "learn": [
              0.1048335277
             ],
             "passed_time": 20.83067156,
             "remaining_time": 13.88711437,
             "test": [
              0.1038083197
             ]
            },
            {
             "iteration": 60,
             "learn": [
              0.1023713698
             ],
             "passed_time": 21.16982122,
             "remaining_time": 13.53480373,
             "test": [
              0.1013520089
             ]
            },
            {
             "iteration": 61,
             "learn": [
              0.09995873014
             ],
             "passed_time": 21.53772088,
             "remaining_time": 13.2005386,
             "test": [
              0.0989508027
             ]
            },
            {
             "iteration": 62,
             "learn": [
              0.0976114769
             ],
             "passed_time": 21.90587117,
             "remaining_time": 12.86535291,
             "test": [
              0.09669777033
             ]
            },
            {
             "iteration": 63,
             "learn": [
              0.09516446248
             ],
             "passed_time": 22.20946098,
             "remaining_time": 12.4928218,
             "test": [
              0.09427987601
             ]
            },
            {
             "iteration": 64,
             "learn": [
              0.09278564841
             ],
             "passed_time": 22.57740553,
             "remaining_time": 12.15706452,
             "test": [
              0.09174579778
             ]
            },
            {
             "iteration": 65,
             "learn": [
              0.09043417777
             ],
             "passed_time": 22.9241784,
             "remaining_time": 11.80942524,
             "test": [
              0.08951653129
             ]
            },
            {
             "iteration": 66,
             "learn": [
              0.08829975858
             ],
             "passed_time": 23.22684736,
             "remaining_time": 11.440089,
             "test": [
              0.08739974834
             ]
            },
            {
             "iteration": 67,
             "learn": [
              0.08614959238
             ],
             "passed_time": 23.57874359,
             "remaining_time": 11.09587933,
             "test": [
              0.08530565089
             ]
            },
            {
             "iteration": 68,
             "learn": [
              0.08414764211
             ],
             "passed_time": 23.91490034,
             "remaining_time": 10.74437552,
             "test": [
              0.08331358134
             ]
            },
            {
             "iteration": 69,
             "learn": [
              0.08202047683
             ],
             "passed_time": 24.26976072,
             "remaining_time": 10.40132602,
             "test": [
              0.08136628763
             ]
            },
            {
             "iteration": 70,
             "learn": [
              0.08031085816
             ],
             "passed_time": 24.62277471,
             "remaining_time": 10.05718967,
             "test": [
              0.07972397674
             ]
            },
            {
             "iteration": 71,
             "learn": [
              0.07840694924
             ],
             "passed_time": 24.97394978,
             "remaining_time": 9.712091583,
             "test": [
              0.07787250246
             ]
            },
            {
             "iteration": 72,
             "learn": [
              0.07639951175
             ],
             "passed_time": 25.33676317,
             "remaining_time": 9.371131583,
             "test": [
              0.07581567552
             ]
            },
            {
             "iteration": 73,
             "learn": [
              0.07446402113
             ],
             "passed_time": 25.71205348,
             "remaining_time": 9.033964737,
             "test": [
              0.07359068904
             ]
            },
            {
             "iteration": 74,
             "learn": [
              0.07248548758
             ],
             "passed_time": 26.1201878,
             "remaining_time": 8.706729265,
             "test": [
              0.07158790289
             ]
            },
            {
             "iteration": 75,
             "learn": [
              0.07087562572
             ],
             "passed_time": 26.47363052,
             "remaining_time": 8.360093849,
             "test": [
              0.0699899141
             ]
            },
            {
             "iteration": 76,
             "learn": [
              0.06896588681
             ],
             "passed_time": 26.93312911,
             "remaining_time": 8.044960644,
             "test": [
              0.06812183555
             ]
            },
            {
             "iteration": 77,
             "learn": [
              0.06723226703
             ],
             "passed_time": 27.33789589,
             "remaining_time": 7.710688585,
             "test": [
              0.06631178334
             ]
            },
            {
             "iteration": 78,
             "learn": [
              0.06561635304
             ],
             "passed_time": 27.68622492,
             "remaining_time": 7.35962941,
             "test": [
              0.06475687226
             ]
            },
            {
             "iteration": 79,
             "learn": [
              0.0641443235
             ],
             "passed_time": 28.03838356,
             "remaining_time": 7.00959589,
             "test": [
              0.06331500997
             ]
            },
            {
             "iteration": 80,
             "learn": [
              0.06277038774
             ],
             "passed_time": 28.3653753,
             "remaining_time": 6.653606551,
             "test": [
              0.06203906088
             ]
            },
            {
             "iteration": 81,
             "learn": [
              0.06125521985
             ],
             "passed_time": 28.80613883,
             "remaining_time": 6.323298768,
             "test": [
              0.06043603906
             ]
            },
            {
             "iteration": 82,
             "learn": [
              0.05963284407
             ],
             "passed_time": 29.20761129,
             "remaining_time": 5.982281831,
             "test": [
              0.05886634439
             ]
            },
            {
             "iteration": 83,
             "learn": [
              0.05823256783
             ],
             "passed_time": 29.57030975,
             "remaining_time": 5.632439953,
             "test": [
              0.05740932752
             ]
            },
            {
             "iteration": 84,
             "learn": [
              0.05708387223
             ],
             "passed_time": 29.90258977,
             "remaining_time": 5.276927606,
             "test": [
              0.05622114936
             ]
            },
            {
             "iteration": 85,
             "learn": [
              0.05570241385
             ],
             "passed_time": 30.26442796,
             "remaining_time": 4.926767343,
             "test": [
              0.05488120315
             ]
            },
            {
             "iteration": 86,
             "learn": [
              0.05447430744
             ],
             "passed_time": 30.6491829,
             "remaining_time": 4.579762962,
             "test": [
              0.05377261055
             ]
            },
            {
             "iteration": 87,
             "learn": [
              0.05330909213
             ],
             "passed_time": 30.95085572,
             "remaining_time": 4.220571235,
             "test": [
              0.05260400689
             ]
            },
            {
             "iteration": 88,
             "learn": [
              0.05209519685
             ],
             "passed_time": 31.3121774,
             "remaining_time": 3.870044397,
             "test": [
              0.05133920984
             ]
            },
            {
             "iteration": 89,
             "learn": [
              0.05098855484
             ],
             "passed_time": 31.68270003,
             "remaining_time": 3.520300003,
             "test": [
              0.05028929688
             ]
            },
            {
             "iteration": 90,
             "learn": [
              0.04972313728
             ],
             "passed_time": 32.04981402,
             "remaining_time": 3.169761826,
             "test": [
              0.0489960027
             ]
            },
            {
             "iteration": 91,
             "learn": [
              0.04870001733
             ],
             "passed_time": 32.38938778,
             "remaining_time": 2.816468503,
             "test": [
              0.04802784439
             ]
            },
            {
             "iteration": 92,
             "learn": [
              0.04755379282
             ],
             "passed_time": 32.76179292,
             "remaining_time": 2.465941403,
             "test": [
              0.0466947971
             ]
            },
            {
             "iteration": 93,
             "learn": [
              0.04657826102
             ],
             "passed_time": 33.0963234,
             "remaining_time": 2.112531281,
             "test": [
              0.04579136529
             ]
            },
            {
             "iteration": 94,
             "learn": [
              0.04562736958
             ],
             "passed_time": 33.43495794,
             "remaining_time": 1.759734628,
             "test": [
              0.04492751259
             ]
            },
            {
             "iteration": 95,
             "learn": [
              0.04471278741
             ],
             "passed_time": 33.74371311,
             "remaining_time": 1.405988046,
             "test": [
              0.04401836915
             ]
            },
            {
             "iteration": 96,
             "learn": [
              0.04367788877
             ],
             "passed_time": 34.13104223,
             "remaining_time": 1.055599244,
             "test": [
              0.04299651859
             ]
            },
            {
             "iteration": 97,
             "learn": [
              0.04275780918
             ],
             "passed_time": 34.4903087,
             "remaining_time": 0.703883851,
             "test": [
              0.04209246434
             ]
            },
            {
             "iteration": 98,
             "learn": [
              0.04186739774
             ],
             "passed_time": 34.82451818,
             "remaining_time": 0.3517628099,
             "test": [
              0.04119230529
             ]
            },
            {
             "iteration": 99,
             "learn": [
              0.04102461666
             ],
             "passed_time": 35.15625401,
             "remaining_time": 0,
             "test": [
              0.04040003818
             ]
            }
           ],
           "meta": {
            "iteration_count": 100,
            "launch_mode": "Train",
            "learn_metrics": [
             {
              "best_value": "Min",
              "name": "CrossEntropy"
             }
            ],
            "learn_sets": [
             "learn"
            ],
            "name": "experiment",
            "parameters": "",
            "test_metrics": [
             {
              "best_value": "Min",
              "name": "CrossEntropy"
             }
            ],
            "test_sets": [
             "test"
            ]
           }
          },
          "passed_iterations": 99,
          "total_iterations": 100
         },
         "name": "catboost_info",
         "path": "catboost_info"
        }
       },
       "layout": "IPY_MODEL_3418d1e807b84273b8b538881587929e"
      }
     },
     "567c38d54c2f4f9baca026dedeb74f66": {
      "model_module": "@jupyter-widgets/base",
      "model_module_version": "1.2.0",
      "model_name": "LayoutModel",
      "state": {
       "_model_module": "@jupyter-widgets/base",
       "_model_module_version": "1.2.0",
       "_model_name": "LayoutModel",
       "_view_count": null,
       "_view_module": "@jupyter-widgets/base",
       "_view_module_version": "1.2.0",
       "_view_name": "LayoutView",
       "align_content": null,
       "align_items": null,
       "align_self": "stretch",
       "border": null,
       "bottom": null,
       "display": null,
       "flex": null,
       "flex_flow": null,
       "grid_area": null,
       "grid_auto_columns": null,
       "grid_auto_flow": null,
       "grid_auto_rows": null,
       "grid_column": null,
       "grid_gap": null,
       "grid_row": null,
       "grid_template_areas": null,
       "grid_template_columns": null,
       "grid_template_rows": null,
       "height": "500px",
       "justify_content": null,
       "justify_items": null,
       "left": null,
       "margin": null,
       "max_height": null,
       "max_width": null,
       "min_height": null,
       "min_width": null,
       "object_fit": null,
       "object_position": null,
       "order": null,
       "overflow": null,
       "overflow_x": null,
       "overflow_y": null,
       "padding": null,
       "right": null,
       "top": null,
       "visibility": null,
       "width": null
      }
     },
     "5af493f3084042cebbd0cf08fefc79a3": {
      "model_module": "catboost-widget",
      "model_module_version": "^1.0.0",
      "model_name": "CatboostWidgetModel",
      "state": {
       "_dom_classes": [],
       "_model_module": "catboost-widget",
       "_model_module_version": "^1.0.0",
       "_model_name": "CatboostWidgetModel",
       "_view_count": null,
       "_view_module": "catboost-widget",
       "_view_module_version": "^1.0.0",
       "_view_name": "CatboostWidgetView",
       "data": {
        "catboost_info": {
         "content": {
          "data": {
           "iterations": [
            {
             "iteration": 0,
             "learn": [
              0.6613835875
             ],
             "passed_time": 0.3679021645,
             "remaining_time": 36.42231429,
             "test": [
              0.6635990316
             ]
            },
            {
             "iteration": 1,
             "learn": [
              0.63629442
             ],
             "passed_time": 0.7351499758,
             "remaining_time": 36.02234881,
             "test": [
              0.6357726463
             ]
            },
            {
             "iteration": 2,
             "learn": [
              0.6093760857
             ],
             "passed_time": 1.140943107,
             "remaining_time": 36.8904938,
             "test": [
              0.6095197078
             ]
            },
            {
             "iteration": 3,
             "learn": [
              0.583716236
             ],
             "passed_time": 1.50330769,
             "remaining_time": 36.07938457,
             "test": [
              0.5847121326
             ]
            },
            {
             "iteration": 4,
             "learn": [
              0.5621908074
             ],
             "passed_time": 1.966000926,
             "remaining_time": 37.35401759,
             "test": [
              0.5612365962
             ]
            },
            {
             "iteration": 5,
             "learn": [
              0.5376657291
             ],
             "passed_time": 2.36853026,
             "remaining_time": 37.10697407,
             "test": [
              0.5389907366
             ]
            },
            {
             "iteration": 6,
             "learn": [
              0.5168810202
             ],
             "passed_time": 2.827884096,
             "remaining_time": 37.57046013,
             "test": [
              0.5178861829
             ]
            },
            {
             "iteration": 7,
             "learn": [
              0.4986817343
             ],
             "passed_time": 3.241999659,
             "remaining_time": 37.28299608,
             "test": [
              0.497837807
             ]
            },
            {
             "iteration": 8,
             "learn": [
              0.4785238631
             ],
             "passed_time": 3.616425054,
             "remaining_time": 36.56607555,
             "test": [
              0.4787734021
             ]
            },
            {
             "iteration": 9,
             "learn": [
              0.4605802211
             ],
             "passed_time": 3.994845718,
             "remaining_time": 35.95361146,
             "test": [
              0.460627939
             ]
            },
            {
             "iteration": 10,
             "learn": [
              0.4438191288
             ],
             "passed_time": 4.379966834,
             "remaining_time": 35.43791347,
             "test": [
              0.4433394183
             ]
            },
            {
             "iteration": 11,
             "learn": [
              0.4280503166
             ],
             "passed_time": 4.761873046,
             "remaining_time": 34.92040234,
             "test": [
              0.4268535287
             ]
            },
            {
             "iteration": 12,
             "learn": [
              0.4121068696
             ],
             "passed_time": 5.155850667,
             "remaining_time": 34.50453908,
             "test": [
              0.411120246
             ]
            },
            {
             "iteration": 13,
             "learn": [
              0.3967746708
             ],
             "passed_time": 5.550280884,
             "remaining_time": 34.09458258,
             "test": [
              0.3960936544
             ]
            },
            {
             "iteration": 14,
             "learn": [
              0.3823905742
             ],
             "passed_time": 5.970223483,
             "remaining_time": 33.8312664,
             "test": [
              0.3817316657
             ]
            },
            {
             "iteration": 15,
             "learn": [
              0.3673312773
             ],
             "passed_time": 6.473623237,
             "remaining_time": 33.986522,
             "test": [
              0.3679967877
             ]
            },
            {
             "iteration": 16,
             "learn": [
              0.3538781562
             ],
             "passed_time": 6.926101624,
             "remaining_time": 33.81567264,
             "test": [
              0.3548524149
             ]
            },
            {
             "iteration": 17,
             "learn": [
              0.3431676224
             ],
             "passed_time": 7.282914345,
             "remaining_time": 33.1777209,
             "test": [
              0.3422660145
             ]
            },
            {
             "iteration": 18,
             "learn": [
              0.3300848873
             ],
             "passed_time": 7.683231683,
             "remaining_time": 32.75482981,
             "test": [
              0.3302056491
             ]
            },
            {
             "iteration": 19,
             "learn": [
              0.3196733412
             ],
             "passed_time": 8.142252986,
             "remaining_time": 32.56901194,
             "test": [
              0.3186445082
             ]
            },
            {
             "iteration": 20,
             "learn": [
              0.3069666639
             ],
             "passed_time": 8.59510089,
             "remaining_time": 32.33395097,
             "test": [
              0.3075566928
             ]
            },
            {
             "iteration": 21,
             "learn": [
              0.2968810368
             ],
             "passed_time": 8.999764242,
             "remaining_time": 31.90825504,
             "test": [
              0.2969159526
             ]
            },
            {
             "iteration": 22,
             "learn": [
              0.2867659865
             ],
             "passed_time": 9.422942412,
             "remaining_time": 31.54637242,
             "test": [
              0.2867068279
             ]
            },
            {
             "iteration": 23,
             "learn": [
              0.2765075984
             ],
             "passed_time": 9.890781883,
             "remaining_time": 31.32080929,
             "test": [
              0.27689545
             ]
            },
            {
             "iteration": 24,
             "learn": [
              0.2664447642
             ],
             "passed_time": 10.27582325,
             "remaining_time": 30.82746974,
             "test": [
              0.2674681001
             ]
            },
            {
             "iteration": 25,
             "learn": [
              0.2579786615
             ],
             "passed_time": 10.72950774,
             "remaining_time": 30.53782971,
             "test": [
              0.2584064588
             ]
            },
            {
             "iteration": 26,
             "learn": [
              0.2499625525
             ],
             "passed_time": 11.25919604,
             "remaining_time": 30.44153003,
             "test": [
              0.249693512
             ]
            },
            {
             "iteration": 27,
             "learn": [
              0.2419719042
             ],
             "passed_time": 11.81176722,
             "remaining_time": 30.3731157,
             "test": [
              0.2413119301
             ]
            },
            {
             "iteration": 28,
             "learn": [
              0.2336773412
             ],
             "passed_time": 12.6901061,
             "remaining_time": 31.06888045,
             "test": [
              0.2332481647
             ]
            },
            {
             "iteration": 29,
             "learn": [
              0.2258436554
             ],
             "passed_time": 13.7828222,
             "remaining_time": 32.15991846,
             "test": [
              0.2254863721
             ]
            },
            {
             "iteration": 30,
             "learn": [
              0.2185226087
             ],
             "passed_time": 14.49416079,
             "remaining_time": 32.2611966,
             "test": [
              0.218012763
             ]
            },
            {
             "iteration": 31,
             "learn": [
              0.2109302846
             ],
             "passed_time": 14.93912774,
             "remaining_time": 31.74564646,
             "test": [
              0.2108145698
             ]
            },
            {
             "iteration": 32,
             "learn": [
              0.203348532
             ],
             "passed_time": 15.42630976,
             "remaining_time": 31.32008346,
             "test": [
              0.203879566
             ]
            },
            {
             "iteration": 33,
             "learn": [
              0.1964216691
             ],
             "passed_time": 15.88531653,
             "remaining_time": 30.83620267,
             "test": [
              0.1971968903
             ]
            },
            {
             "iteration": 34,
             "learn": [
              0.1911768237
             ],
             "passed_time": 16.33179245,
             "remaining_time": 30.33047168,
             "test": [
              0.1907561951
             ]
            },
            {
             "iteration": 35,
             "learn": [
              0.1838987827
             ],
             "passed_time": 16.79154918,
             "remaining_time": 29.85164299,
             "test": [
              0.1845462622
             ]
            },
            {
             "iteration": 36,
             "learn": [
              0.178764859
             ],
             "passed_time": 17.35337384,
             "remaining_time": 29.54763654,
             "test": [
              0.17855777
             ]
            },
            {
             "iteration": 37,
             "learn": [
              0.1721860631
             ],
             "passed_time": 17.879145,
             "remaining_time": 29.17123658,
             "test": [
              0.1727814876
             ]
            },
            {
             "iteration": 38,
             "learn": [
              0.1676661275
             ],
             "passed_time": 18.33679275,
             "remaining_time": 28.68062456,
             "test": [
              0.1672086815
             ]
            },
            {
             "iteration": 39,
             "learn": [
              0.1614230263
             ],
             "passed_time": 18.72946615,
             "remaining_time": 28.09419922,
             "test": [
              0.1618309412
             ]
            },
            {
             "iteration": 40,
             "learn": [
              0.1563265215
             ],
             "passed_time": 19.15448829,
             "remaining_time": 27.56377583,
             "test": [
              0.1566407305
             ]
            },
            {
             "iteration": 41,
             "learn": [
              0.1520146961
             ],
             "passed_time": 19.58251207,
             "remaining_time": 27.04251667,
             "test": [
              0.1516300312
             ]
            },
            {
             "iteration": 42,
             "learn": [
              0.1470001098
             ],
             "passed_time": 20.01215508,
             "remaining_time": 26.52774045,
             "test": [
              0.1467922599
             ]
            },
            {
             "iteration": 43,
             "learn": [
              0.1418646294
             ],
             "passed_time": 20.4305013,
             "remaining_time": 26.0024562,
             "test": [
              0.142120194
             ]
            },
            {
             "iteration": 44,
             "learn": [
              0.137103527
             ],
             "passed_time": 20.8693539,
             "remaining_time": 25.5069881,
             "test": [
              0.1376080586
             ]
            },
            {
             "iteration": 45,
             "learn": [
              0.1329053801
             ],
             "passed_time": 21.319434,
             "remaining_time": 25.02716165,
             "test": [
              0.1332486345
             ]
            },
            {
             "iteration": 46,
             "learn": [
              0.1289163846
             ],
             "passed_time": 21.68369116,
             "remaining_time": 24.45182194,
             "test": [
              0.1290371491
             ]
            },
            {
             "iteration": 47,
             "learn": [
              0.1249891606
             ],
             "passed_time": 22.21193784,
             "remaining_time": 24.06293266,
             "test": [
              0.1249682154
             ]
            },
            {
             "iteration": 48,
             "learn": [
              0.1210804537
             ],
             "passed_time": 22.64329608,
             "remaining_time": 23.56751225,
             "test": [
              0.1210359721
             ]
            },
            {
             "iteration": 49,
             "learn": [
              0.1171932706
             ],
             "passed_time": 22.99190983,
             "remaining_time": 22.99190983,
             "test": [
              0.1172347493
             ]
            },
            {
             "iteration": 50,
             "learn": [
              0.1133175461
             ],
             "passed_time": 23.40535448,
             "remaining_time": 22.48749744,
             "test": [
              0.1135603336
             ]
            },
            {
             "iteration": 51,
             "learn": [
              0.1097541583
             ],
             "passed_time": 23.75994487,
             "remaining_time": 21.9322568,
             "test": [
              0.1100068354
             ]
            },
            {
             "iteration": 52,
             "learn": [
              0.1069259621
             ],
             "passed_time": 24.10790931,
             "remaining_time": 21.37871203,
             "test": [
              0.1065708313
             ]
            },
            {
             "iteration": 53,
             "learn": [
              0.1034038429
             ],
             "passed_time": 24.45332222,
             "remaining_time": 20.83060782,
             "test": [
              0.1032479886
             ]
            },
            {
             "iteration": 54,
             "learn": [
              0.09973014259
             ],
             "passed_time": 24.90991775,
             "remaining_time": 20.38084179,
             "test": [
              0.1000347552
             ]
            },
            {
             "iteration": 55,
             "learn": [
              0.09713714162
             ],
             "passed_time": 25.37292575,
             "remaining_time": 19.93587024,
             "test": [
              0.09692664683
             ]
            },
            {
             "iteration": 56,
             "learn": [
              0.09376562786
             ],
             "passed_time": 25.8155598,
             "remaining_time": 19.47489599,
             "test": [
              0.09391917709
             ]
            },
            {
             "iteration": 57,
             "learn": [
              0.09122236326
             ],
             "passed_time": 26.27227454,
             "remaining_time": 19.02475053,
             "test": [
              0.09101020393
             ]
            },
            {
             "iteration": 58,
             "learn": [
              0.08794095842
             ],
             "passed_time": 26.67838764,
             "remaining_time": 18.53921853,
             "test": [
              0.0881948585
             ]
            },
            {
             "iteration": 59,
             "learn": [
              0.08547187682
             ],
             "passed_time": 27.10797285,
             "remaining_time": 18.0719819,
             "test": [
              0.0854709629
             ]
            },
            {
             "iteration": 60,
             "learn": [
              0.08257546405
             ],
             "passed_time": 27.53879679,
             "remaining_time": 17.60677172,
             "test": [
              0.08283454058
             ]
            },
            {
             "iteration": 61,
             "learn": [
              0.08010074862
             ],
             "passed_time": 27.95647672,
             "remaining_time": 17.13461476,
             "test": [
              0.08028309051
             ]
            },
            {
             "iteration": 62,
             "learn": [
              0.07797036506
             ],
             "passed_time": 28.35898782,
             "remaining_time": 16.65527856,
             "test": [
              0.07781347692
             ]
            },
            {
             "iteration": 63,
             "learn": [
              0.07548909896
             ],
             "passed_time": 28.77859494,
             "remaining_time": 16.18795965,
             "test": [
              0.07542290248
             ]
            },
            {
             "iteration": 64,
             "learn": [
              0.07295572908
             ],
             "passed_time": 29.23139979,
             "remaining_time": 15.7399845,
             "test": [
              0.07310866729
             ]
            },
            {
             "iteration": 65,
             "learn": [
              0.07053935457
             ],
             "passed_time": 29.66556748,
             "remaining_time": 15.28226203,
             "test": [
              0.07086762445
             ]
            },
            {
             "iteration": 66,
             "learn": [
              0.06844705172
             ],
             "passed_time": 30.10629191,
             "remaining_time": 14.82847214,
             "test": [
              0.06869795864
             ]
            },
            {
             "iteration": 67,
             "learn": [
              0.06643113022
             ],
             "passed_time": 30.46703497,
             "remaining_time": 14.33742822,
             "test": [
              0.06659692905
             ]
            },
            {
             "iteration": 68,
             "learn": [
              0.06446597517
             ],
             "passed_time": 30.88207221,
             "remaining_time": 13.87455418,
             "test": [
              0.06456228084
             ]
            },
            {
             "iteration": 69,
             "learn": [
              0.06251226222
             ],
             "passed_time": 31.21780707,
             "remaining_time": 13.37906017,
             "test": [
              0.06259238536
             ]
            },
            {
             "iteration": 70,
             "learn": [
              0.06056302
             ],
             "passed_time": 31.57567328,
             "remaining_time": 12.89710599,
             "test": [
              0.06068429491
             ]
            },
            {
             "iteration": 71,
             "learn": [
              0.05865345542
             ],
             "passed_time": 31.96152606,
             "remaining_time": 12.42948236,
             "test": [
              0.05883607897
             ]
            },
            {
             "iteration": 72,
             "learn": [
              0.0568414163
             ],
             "passed_time": 32.36068987,
             "remaining_time": 11.96902228,
             "test": [
              0.05704547017
             ]
            },
            {
             "iteration": 73,
             "learn": [
              0.05543113797
             ],
             "passed_time": 32.80962468,
             "remaining_time": 11.52770597,
             "test": [
              0.05531127493
             ]
            },
            {
             "iteration": 74,
             "learn": [
              0.05367274555
             ],
             "passed_time": 33.25907422,
             "remaining_time": 11.08635807,
             "test": [
              0.05363135379
             ]
            },
            {
             "iteration": 75,
             "learn": [
              0.05182508479
             ],
             "passed_time": 33.68439367,
             "remaining_time": 10.63717695,
             "test": [
              0.05200378487
             ]
            },
            {
             "iteration": 76,
             "learn": [
              0.05053053103
             ],
             "passed_time": 34.18769625,
             "remaining_time": 10.21190927,
             "test": [
              0.05042680755
             ]
            },
            {
             "iteration": 77,
             "learn": [
              0.04884030728
             ],
             "passed_time": 34.60104268,
             "remaining_time": 9.759268449,
             "test": [
              0.0488989154
             ]
            },
            {
             "iteration": 78,
             "learn": [
              0.04721120842
             ],
             "passed_time": 34.99175573,
             "remaining_time": 9.301605952,
             "test": [
              0.0474185139
             ]
            },
            {
             "iteration": 79,
             "learn": [
              0.04591186202
             ],
             "passed_time": 35.39162034,
             "remaining_time": 8.847905085,
             "test": [
              0.04598413677
             ]
            },
            {
             "iteration": 80,
             "learn": [
              0.04464893838
             ],
             "passed_time": 35.76014716,
             "remaining_time": 8.388182668,
             "test": [
              0.04459394561
             ]
            },
            {
             "iteration": 81,
             "learn": [
              0.04306356043
             ],
             "passed_time": 36.1432501,
             "remaining_time": 7.933884169,
             "test": [
              0.0432467743
             ]
            },
            {
             "iteration": 82,
             "learn": [
              0.04195492474
             ],
             "passed_time": 36.53649016,
             "remaining_time": 7.483377502,
             "test": [
              0.04194114425
             ]
            },
            {
             "iteration": 83,
             "learn": [
              0.04071426097
             ],
             "passed_time": 36.89711234,
             "remaining_time": 7.028021398,
             "test": [
              0.04067587168
             ]
            },
            {
             "iteration": 84,
             "learn": [
              0.03934897326
             ],
             "passed_time": 37.2998054,
             "remaining_time": 6.582318599,
             "test": [
              0.03944928999
             ]
            },
            {
             "iteration": 85,
             "learn": [
              0.03812603951
             ],
             "passed_time": 37.78562966,
             "remaining_time": 6.151149014,
             "test": [
              0.03826102833
             ]
            },
            {
             "iteration": 86,
             "learn": [
              0.03710692798
             ],
             "passed_time": 38.12882619,
             "remaining_time": 5.69741081,
             "test": [
              0.03710901216
             ]
            },
            {
             "iteration": 87,
             "learn": [
              0.03605576997
             ],
             "passed_time": 38.56197615,
             "remaining_time": 5.258451293,
             "test": [
              0.03599265929
             ]
            },
            {
             "iteration": 88,
             "learn": [
              0.03486706723
             ],
             "passed_time": 38.96423156,
             "remaining_time": 4.8158039,
             "test": [
              0.03490999865
             ]
            },
            {
             "iteration": 89,
             "learn": [
              0.0338237646
             ],
             "passed_time": 39.4100548,
             "remaining_time": 4.378894977,
             "test": [
              0.03386091099
             ]
            },
            {
             "iteration": 90,
             "learn": [
              0.03281911176
             ],
             "passed_time": 39.7880225,
             "remaining_time": 3.935079149,
             "test": [
              0.03284352134
             ]
            },
            {
             "iteration": 91,
             "learn": [
              0.03182867036
             ],
             "passed_time": 40.22661961,
             "remaining_time": 3.497966922,
             "test": [
              0.03185826395
             ]
            },
            {
             "iteration": 92,
             "learn": [
              0.03085150064
             ],
             "passed_time": 40.64504113,
             "remaining_time": 3.059304171,
             "test": [
              0.03090222143
             ]
            },
            {
             "iteration": 93,
             "learn": [
              0.02990729591
             ],
             "passed_time": 41.10572184,
             "remaining_time": 2.623769479,
             "test": [
              0.0299755015
             ]
            },
            {
             "iteration": 94,
             "learn": [
              0.0289709301
             ],
             "passed_time": 41.56679781,
             "remaining_time": 2.1877262,
             "test": [
              0.02907714247
             ]
            },
            {
             "iteration": 95,
             "learn": [
              0.028238301
             ],
             "passed_time": 42.01723608,
             "remaining_time": 1.75071817,
             "test": [
              0.02820648408
             ]
            },
            {
             "iteration": 96,
             "learn": [
              0.02735212326
             ],
             "passed_time": 42.4438396,
             "remaining_time": 1.31269607,
             "test": [
              0.02736196339
             ]
            },
            {
             "iteration": 97,
             "learn": [
              0.02642953269
             ],
             "passed_time": 42.88091535,
             "remaining_time": 0.8751207214,
             "test": [
              0.02654273552
             ]
            },
            {
             "iteration": 98,
             "learn": [
              0.02577633363
             ],
             "passed_time": 43.25701187,
             "remaining_time": 0.4369395138,
             "test": [
              0.02574834726
             ]
            },
            {
             "iteration": 99,
             "learn": [
              0.02492069577
             ],
             "passed_time": 43.63850011,
             "remaining_time": 0,
             "test": [
              0.02497838442
             ]
            }
           ],
           "meta": {
            "iteration_count": 100,
            "launch_mode": "Train",
            "learn_metrics": [
             {
              "best_value": "Min",
              "name": "CrossEntropy"
             }
            ],
            "learn_sets": [
             "learn"
            ],
            "name": "experiment",
            "parameters": "",
            "test_metrics": [
             {
              "best_value": "Min",
              "name": "CrossEntropy"
             }
            ],
            "test_sets": [
             "test"
            ]
           }
          },
          "passed_iterations": 99,
          "total_iterations": 100
         },
         "name": "catboost_info",
         "path": "catboost_info"
        }
       },
       "layout": "IPY_MODEL_f6e6d135eeb841bb840f92f990057c95"
      }
     },
     "5d41601f5440498e91290413034cb104": {
      "model_module": "@jupyter-widgets/base",
      "model_module_version": "1.2.0",
      "model_name": "LayoutModel",
      "state": {
       "_model_module": "@jupyter-widgets/base",
       "_model_module_version": "1.2.0",
       "_model_name": "LayoutModel",
       "_view_count": null,
       "_view_module": "@jupyter-widgets/base",
       "_view_module_version": "1.2.0",
       "_view_name": "LayoutView",
       "align_content": null,
       "align_items": null,
       "align_self": "stretch",
       "border": null,
       "bottom": null,
       "display": null,
       "flex": null,
       "flex_flow": null,
       "grid_area": null,
       "grid_auto_columns": null,
       "grid_auto_flow": null,
       "grid_auto_rows": null,
       "grid_column": null,
       "grid_gap": null,
       "grid_row": null,
       "grid_template_areas": null,
       "grid_template_columns": null,
       "grid_template_rows": null,
       "height": "500px",
       "justify_content": null,
       "justify_items": null,
       "left": null,
       "margin": null,
       "max_height": null,
       "max_width": null,
       "min_height": null,
       "min_width": null,
       "object_fit": null,
       "object_position": null,
       "order": null,
       "overflow": null,
       "overflow_x": null,
       "overflow_y": null,
       "padding": null,
       "right": null,
       "top": null,
       "visibility": null,
       "width": null
      }
     },
     "5f25f7c6b97f4b4bbc25a4f1da00e1ff": {
      "model_module": "@jupyter-widgets/base",
      "model_module_version": "1.2.0",
      "model_name": "LayoutModel",
      "state": {
       "_model_module": "@jupyter-widgets/base",
       "_model_module_version": "1.2.0",
       "_model_name": "LayoutModel",
       "_view_count": null,
       "_view_module": "@jupyter-widgets/base",
       "_view_module_version": "1.2.0",
       "_view_name": "LayoutView",
       "align_content": null,
       "align_items": null,
       "align_self": "stretch",
       "border": null,
       "bottom": null,
       "display": null,
       "flex": null,
       "flex_flow": null,
       "grid_area": null,
       "grid_auto_columns": null,
       "grid_auto_flow": null,
       "grid_auto_rows": null,
       "grid_column": null,
       "grid_gap": null,
       "grid_row": null,
       "grid_template_areas": null,
       "grid_template_columns": null,
       "grid_template_rows": null,
       "height": "500px",
       "justify_content": null,
       "justify_items": null,
       "left": null,
       "margin": null,
       "max_height": null,
       "max_width": null,
       "min_height": null,
       "min_width": null,
       "object_fit": null,
       "object_position": null,
       "order": null,
       "overflow": null,
       "overflow_x": null,
       "overflow_y": null,
       "padding": null,
       "right": null,
       "top": null,
       "visibility": null,
       "width": null
      }
     },
     "6648f9d03de54607a1c9e9ac6155138a": {
      "model_module": "catboost-widget",
      "model_module_version": "^1.0.0",
      "model_name": "CatboostWidgetModel",
      "state": {
       "_dom_classes": [],
       "_model_module": "catboost-widget",
       "_model_module_version": "^1.0.0",
       "_model_name": "CatboostWidgetModel",
       "_view_count": null,
       "_view_module": "catboost-widget",
       "_view_module_version": "^1.0.0",
       "_view_name": "CatboostWidgetView",
       "data": {
        "catboost_info": {
         "content": {
          "data": {
           "iterations": [
            {
             "iteration": 0,
             "learn": [
              0.6696474104
             ],
             "passed_time": 0.4463140086,
             "remaining_time": 44.18508685,
             "test": [
              0.6693332976
             ]
            },
            {
             "iteration": 1,
             "learn": [
              0.6457479867
             ],
             "passed_time": 1.073487171,
             "remaining_time": 52.6008714,
             "test": [
              0.64682803
             ]
            },
            {
             "iteration": 2,
             "learn": [
              0.6217657813
             ],
             "passed_time": 1.650928827,
             "remaining_time": 53.38003206,
             "test": [
              0.6240509804
             ]
            },
            {
             "iteration": 3,
             "learn": [
              0.6018988335
             ],
             "passed_time": 2.251137229,
             "remaining_time": 54.02729349,
             "test": [
              0.6040635309
             ]
            },
            {
             "iteration": 4,
             "learn": [
              0.5828463042
             ],
             "passed_time": 2.679259257,
             "remaining_time": 50.90592589,
             "test": [
              0.5850344682
             ]
            },
            {
             "iteration": 5,
             "learn": [
              0.5640741863
             ],
             "passed_time": 3.12819187,
             "remaining_time": 49.0083393,
             "test": [
              0.5669160038
             ]
            },
            {
             "iteration": 6,
             "learn": [
              0.5464977018
             ],
             "passed_time": 3.594223985,
             "remaining_time": 47.75183294,
             "test": [
              0.5496398291
             ]
            },
            {
             "iteration": 7,
             "learn": [
              0.5299569189
             ],
             "passed_time": 4.025947137,
             "remaining_time": 46.29839208,
             "test": [
              0.5332323319
             ]
            },
            {
             "iteration": 8,
             "learn": [
              0.5130507976
             ],
             "passed_time": 4.488585694,
             "remaining_time": 45.38458868,
             "test": [
              0.5176491319
             ]
            },
            {
             "iteration": 9,
             "learn": [
              0.4984085826
             ],
             "passed_time": 4.943548413,
             "remaining_time": 44.49193572,
             "test": [
              0.5028498424
             ]
            },
            {
             "iteration": 10,
             "learn": [
              0.4827826485
             ],
             "passed_time": 5.354474035,
             "remaining_time": 43.32256265,
             "test": [
              0.4873041596
             ]
            },
            {
             "iteration": 11,
             "learn": [
              0.468112434
             ],
             "passed_time": 5.768305756,
             "remaining_time": 42.30090887,
             "test": [
              0.4725148784
             ]
            },
            {
             "iteration": 12,
             "learn": [
              0.455068933
             ],
             "passed_time": 6.195421866,
             "remaining_time": 41.46166941,
             "test": [
              0.4595839731
             ]
            },
            {
             "iteration": 13,
             "learn": [
              0.4419547359
             ],
             "passed_time": 6.625472668,
             "remaining_time": 40.6993321,
             "test": [
              0.4472088272
             ]
            },
            {
             "iteration": 14,
             "learn": [
              0.4298983956
             ],
             "passed_time": 7.050351897,
             "remaining_time": 39.95199408,
             "test": [
              0.4353588033
             ]
            },
            {
             "iteration": 15,
             "learn": [
              0.4170103863
             ],
             "passed_time": 7.465736485,
             "remaining_time": 39.19511655,
             "test": [
              0.4228108473
             ]
            },
            {
             "iteration": 16,
             "learn": [
              0.4053322601
             ],
             "passed_time": 7.879784199,
             "remaining_time": 38.47188756,
             "test": [
              0.411079105
             ]
            },
            {
             "iteration": 17,
             "learn": [
              0.3937945951
             ],
             "passed_time": 8.298865011,
             "remaining_time": 37.80594061,
             "test": [
              0.3996657005
             ]
            },
            {
             "iteration": 18,
             "learn": [
              0.3823630703
             ],
             "passed_time": 8.711662318,
             "remaining_time": 37.13919199,
             "test": [
              0.3886044258
             ]
            },
            {
             "iteration": 19,
             "learn": [
              0.3726837409
             ],
             "passed_time": 9.117164983,
             "remaining_time": 36.46865993,
             "test": [
              0.3788625721
             ]
            },
            {
             "iteration": 20,
             "learn": [
              0.3630236879
             ],
             "passed_time": 9.53294713,
             "remaining_time": 35.8620392,
             "test": [
              0.3686805473
             ]
            },
            {
             "iteration": 21,
             "learn": [
              0.352833547
             ],
             "passed_time": 9.945481847,
             "remaining_time": 35.26125382,
             "test": [
              0.3590636542
             ]
            },
            {
             "iteration": 22,
             "learn": [
              0.3435220735
             ],
             "passed_time": 10.35892118,
             "remaining_time": 34.67986655,
             "test": [
              0.3497057857
             ]
            },
            {
             "iteration": 23,
             "learn": [
              0.3347262105
             ],
             "passed_time": 10.78182008,
             "remaining_time": 34.14243025,
             "test": [
              0.3408539048
             ]
            },
            {
             "iteration": 24,
             "learn": [
              0.3256011893
             ],
             "passed_time": 11.20681168,
             "remaining_time": 33.62043503,
             "test": [
              0.332356568
             ]
            },
            {
             "iteration": 25,
             "learn": [
              0.3179785786
             ],
             "passed_time": 11.62562127,
             "remaining_time": 33.08830671,
             "test": [
              0.3250085899
             ]
            },
            {
             "iteration": 26,
             "learn": [
              0.3089457631
             ],
             "passed_time": 12.04740413,
             "remaining_time": 32.57261117,
             "test": [
              0.3161457831
             ]
            },
            {
             "iteration": 27,
             "learn": [
              0.3002927184
             ],
             "passed_time": 12.46729658,
             "remaining_time": 32.05876263,
             "test": [
              0.307654466
             ]
            },
            {
             "iteration": 28,
             "learn": [
              0.2919394289
             ],
             "passed_time": 12.88425381,
             "remaining_time": 31.54420761,
             "test": [
              0.2995435502
             ]
            },
            {
             "iteration": 29,
             "learn": [
              0.2837794851
             ],
             "passed_time": 13.36969363,
             "remaining_time": 31.19595179,
             "test": [
              0.2917381883
             ]
            },
            {
             "iteration": 30,
             "learn": [
              0.2759792212
             ],
             "passed_time": 13.7895738,
             "remaining_time": 30.69292233,
             "test": [
              0.2841909529
             ]
            },
            {
             "iteration": 31,
             "learn": [
              0.2698341027
             ],
             "passed_time": 14.22188432,
             "remaining_time": 30.22150419,
             "test": [
              0.2784159664
             ]
            },
            {
             "iteration": 32,
             "learn": [
              0.26258956
             ],
             "passed_time": 14.64485799,
             "remaining_time": 29.73349955,
             "test": [
              0.2713988181
             ]
            },
            {
             "iteration": 33,
             "learn": [
              0.2568023927
             ],
             "passed_time": 15.06003329,
             "remaining_time": 29.23418227,
             "test": [
              0.2659989605
             ]
            },
            {
             "iteration": 34,
             "learn": [
              0.2502168331
             ],
             "passed_time": 15.48176911,
             "remaining_time": 28.75185691,
             "test": [
              0.2595576989
             ]
            },
            {
             "iteration": 35,
             "learn": [
              0.2435633016
             ],
             "passed_time": 15.90029599,
             "remaining_time": 28.26719287,
             "test": [
              0.2533190811
             ]
            },
            {
             "iteration": 36,
             "learn": [
              0.23742955
             ],
             "passed_time": 16.32153307,
             "remaining_time": 27.79071847,
             "test": [
              0.2473192259
             ]
            },
            {
             "iteration": 37,
             "learn": [
              0.2317622831
             ],
             "passed_time": 16.77234241,
             "remaining_time": 27.36540077,
             "test": [
              0.2420832293
             ]
            },
            {
             "iteration": 38,
             "learn": [
              0.2261108934
             ],
             "passed_time": 17.19406127,
             "remaining_time": 26.89327532,
             "test": [
              0.2364972382
             ]
            },
            {
             "iteration": 39,
             "learn": [
              0.2214478974
             ],
             "passed_time": 17.61511111,
             "remaining_time": 26.42266667,
             "test": [
              0.2321600294
             ]
            },
            {
             "iteration": 40,
             "learn": [
              0.2168350581
             ],
             "passed_time": 18.07542347,
             "remaining_time": 26.01097524,
             "test": [
              0.2278043236
             ]
            },
            {
             "iteration": 41,
             "learn": [
              0.2114148677
             ],
             "passed_time": 18.56155162,
             "remaining_time": 25.63261891,
             "test": [
              0.2228737913
             ]
            },
            {
             "iteration": 42,
             "learn": [
              0.2065751177
             ],
             "passed_time": 18.99242327,
             "remaining_time": 25.17600294,
             "test": [
              0.2176043642
             ]
            },
            {
             "iteration": 43,
             "learn": [
              0.2017137944
             ],
             "passed_time": 19.40077246,
             "remaining_time": 24.69189222,
             "test": [
              0.2123925795
             ]
            },
            {
             "iteration": 44,
             "learn": [
              0.1968027808
             ],
             "passed_time": 19.88393572,
             "remaining_time": 24.3025881,
             "test": [
              0.2079530949
             ]
            },
            {
             "iteration": 45,
             "learn": [
              0.1924835211
             ],
             "passed_time": 20.29668948,
             "remaining_time": 23.82654851,
             "test": [
              0.2031136783
             ]
            },
            {
             "iteration": 46,
             "learn": [
              0.1880111857
             ],
             "passed_time": 20.71396038,
             "remaining_time": 23.35829575,
             "test": [
              0.1982165486
             ]
            },
            {
             "iteration": 47,
             "learn": [
              0.1837255987
             ],
             "passed_time": 21.13355655,
             "remaining_time": 22.89468626,
             "test": [
              0.1938552853
             ]
            },
            {
             "iteration": 48,
             "learn": [
              0.1794935521
             ],
             "passed_time": 21.61481334,
             "remaining_time": 22.49705062,
             "test": [
              0.1899725271
             ]
            },
            {
             "iteration": 49,
             "learn": [
              0.1757235541
             ],
             "passed_time": 22.04427479,
             "remaining_time": 22.04427479,
             "test": [
              0.1859089174
             ]
            },
            {
             "iteration": 50,
             "learn": [
              0.1721712959
             ],
             "passed_time": 22.43654607,
             "remaining_time": 21.55668152,
             "test": [
              0.182103091
             ]
            },
            {
             "iteration": 51,
             "learn": [
              0.1689492465
             ],
             "passed_time": 22.80911492,
             "remaining_time": 21.05456762,
             "test": [
              0.178691858
             ]
            },
            {
             "iteration": 52,
             "learn": [
              0.1653157298
             ],
             "passed_time": 23.25373702,
             "remaining_time": 20.62123849,
             "test": [
              0.1751806041
             ]
            },
            {
             "iteration": 53,
             "learn": [
              0.1621254615
             ],
             "passed_time": 23.64611123,
             "remaining_time": 20.14298364,
             "test": [
              0.1718276267
             ]
            },
            {
             "iteration": 54,
             "learn": [
              0.1584557008
             ],
             "passed_time": 24.17320693,
             "remaining_time": 19.7780784,
             "test": [
              0.1683783353
             ]
            },
            {
             "iteration": 55,
             "learn": [
              0.155493415
             ],
             "passed_time": 24.57371026,
             "remaining_time": 19.30791521,
             "test": [
              0.1653228621
             ]
            },
            {
             "iteration": 56,
             "learn": [
              0.1527344748
             ],
             "passed_time": 24.94673901,
             "remaining_time": 18.81946978,
             "test": [
              0.1624542817
             ]
            },
            {
             "iteration": 57,
             "learn": [
              0.149894554
             ],
             "passed_time": 25.33560046,
             "remaining_time": 18.3464693,
             "test": [
              0.159520017
             ]
            },
            {
             "iteration": 58,
             "learn": [
              0.1467583679
             ],
             "passed_time": 25.80656978,
             "remaining_time": 17.933379,
             "test": [
              0.1563647688
             ]
            },
            {
             "iteration": 59,
             "learn": [
              0.1441721069
             ],
             "passed_time": 26.20137964,
             "remaining_time": 17.46758643,
             "test": [
              0.1536432194
             ]
            },
            {
             "iteration": 60,
             "learn": [
              0.1420266031
             ],
             "passed_time": 26.58875851,
             "remaining_time": 16.99937019,
             "test": [
              0.1513843142
             ]
            },
            {
             "iteration": 61,
             "learn": [
              0.1392435164
             ],
             "passed_time": 27.03224731,
             "remaining_time": 16.56815158,
             "test": [
              0.148525558
             ]
            },
            {
             "iteration": 62,
             "learn": [
              0.136384772
             ],
             "passed_time": 27.5028043,
             "remaining_time": 16.15244062,
             "test": [
              0.1456061429
             ]
            },
            {
             "iteration": 63,
             "learn": [
              0.1340769155
             ],
             "passed_time": 27.90123578,
             "remaining_time": 15.69444513,
             "test": [
              0.1432366658
             ]
            },
            {
             "iteration": 64,
             "learn": [
              0.1322267783
             ],
             "passed_time": 28.27222972,
             "remaining_time": 15.22350831,
             "test": [
              0.1410235625
             ]
            },
            {
             "iteration": 65,
             "learn": [
              0.1298829653
             ],
             "passed_time": 28.70733551,
             "remaining_time": 14.78862739,
             "test": [
              0.1387159532
             ]
            },
            {
             "iteration": 66,
             "learn": [
              0.1280261193
             ],
             "passed_time": 29.06179676,
             "remaining_time": 14.3140193,
             "test": [
              0.1365888963
             ]
            },
            {
             "iteration": 67,
             "learn": [
              0.1264868787
             ],
             "passed_time": 29.39435606,
             "remaining_time": 13.83263814,
             "test": [
              0.1346632627
             ]
            },
            {
             "iteration": 68,
             "learn": [
              0.1247889466
             ],
             "passed_time": 29.74935161,
             "remaining_time": 13.36565072,
             "test": [
              0.1327372228
             ]
            },
            {
             "iteration": 69,
             "learn": [
              0.1223842773
             ],
             "passed_time": 30.20435384,
             "remaining_time": 12.94472308,
             "test": [
              0.13041666
             ]
            },
            {
             "iteration": 70,
             "learn": [
              0.1207592486
             ],
             "passed_time": 30.56465142,
             "remaining_time": 12.4841534,
             "test": [
              0.1286052828
             ]
            },
            {
             "iteration": 71,
             "learn": [
              0.1190880861
             ],
             "passed_time": 30.92427184,
             "remaining_time": 12.02610572,
             "test": [
              0.1267216065
             ]
            },
            {
             "iteration": 72,
             "learn": [
              0.1169853448
             ],
             "passed_time": 31.36321771,
             "remaining_time": 11.60009422,
             "test": [
              0.1246535978
             ]
            },
            {
             "iteration": 73,
             "learn": [
              0.1148116283
             ],
             "passed_time": 31.81856283,
             "remaining_time": 11.17949505,
             "test": [
              0.1225216181
             ]
            },
            {
             "iteration": 74,
             "learn": [
              0.1127208476
             ],
             "passed_time": 32.25430723,
             "remaining_time": 10.75143574,
             "test": [
              0.1205297252
             ]
            },
            {
             "iteration": 75,
             "learn": [
              0.1114953582
             ],
             "passed_time": 32.67706658,
             "remaining_time": 10.31907366,
             "test": [
              0.1189441221
             ]
            },
            {
             "iteration": 76,
             "learn": [
              0.1102821755
             ],
             "passed_time": 33.13373829,
             "remaining_time": 9.897090659,
             "test": [
              0.1173756182
             ]
            },
            {
             "iteration": 77,
             "learn": [
              0.1086716254
             ],
             "passed_time": 33.70929102,
             "remaining_time": 9.507748749,
             "test": [
              0.1158032402
             ]
            },
            {
             "iteration": 78,
             "learn": [
              0.1075428552
             ],
             "passed_time": 34.07851363,
             "remaining_time": 9.058845394,
             "test": [
              0.1143407052
             ]
            },
            {
             "iteration": 79,
             "learn": [
              0.1065046435
             ],
             "passed_time": 34.39862582,
             "remaining_time": 8.599656455,
             "test": [
              0.1129838937
             ]
            },
            {
             "iteration": 80,
             "learn": [
              0.1044991408
             ],
             "passed_time": 34.86471909,
             "remaining_time": 8.178143985,
             "test": [
              0.1110675244
             ]
            },
            {
             "iteration": 81,
             "learn": [
              0.1032349993
             ],
             "passed_time": 35.25975179,
             "remaining_time": 7.739945515,
             "test": [
              0.1096560721
             ]
            },
            {
             "iteration": 82,
             "learn": [
              0.101749936
             ],
             "passed_time": 35.66076574,
             "remaining_time": 7.30401226,
             "test": [
              0.1080636007
             ]
            },
            {
             "iteration": 83,
             "learn": [
              0.09999941916
             ],
             "passed_time": 36.09521702,
             "remaining_time": 6.875279432,
             "test": [
              0.1064439097
             ]
            },
            {
             "iteration": 84,
             "learn": [
              0.09898440609
             ],
             "passed_time": 36.42657914,
             "remaining_time": 6.428219849,
             "test": [
              0.1051700781
             ]
            },
            {
             "iteration": 85,
             "learn": [
              0.09745957332
             ],
             "passed_time": 36.81765344,
             "remaining_time": 5.99357149,
             "test": [
              0.1034274699
             ]
            },
            {
             "iteration": 86,
             "learn": [
              0.09582870848
             ],
             "passed_time": 37.26619146,
             "remaining_time": 5.568511368,
             "test": [
              0.1018881582
             ]
            },
            {
             "iteration": 87,
             "learn": [
              0.0944308166
             ],
             "passed_time": 37.7075639,
             "remaining_time": 5.141940532,
             "test": [
              0.1005428672
             ]
            },
            {
             "iteration": 88,
             "learn": [
              0.09349895246
             ],
             "passed_time": 38.04174848,
             "remaining_time": 4.701789138,
             "test": [
              0.09933606582
             ]
            },
            {
             "iteration": 89,
             "learn": [
              0.09180571246
             ],
             "passed_time": 38.5261056,
             "remaining_time": 4.2806784,
             "test": [
              0.09778834727
             ]
            },
            {
             "iteration": 90,
             "learn": [
              0.09102716587
             ],
             "passed_time": 38.84738018,
             "remaining_time": 3.842048589,
             "test": [
              0.09675094971
             ]
            },
            {
             "iteration": 91,
             "learn": [
              0.08966108552
             ],
             "passed_time": 39.23788007,
             "remaining_time": 3.411989571,
             "test": [
              0.09522228501
             ]
            },
            {
             "iteration": 92,
             "learn": [
              0.08807800188
             ],
             "passed_time": 39.71635213,
             "remaining_time": 2.989402849,
             "test": [
              0.09377233536
             ]
            },
            {
             "iteration": 93,
             "learn": [
              0.08737051073
             ],
             "passed_time": 40.03909631,
             "remaining_time": 2.555686999,
             "test": [
              0.09280653836
             ]
            },
            {
             "iteration": 94,
             "learn": [
              0.08606536457
             ],
             "passed_time": 40.47825919,
             "remaining_time": 2.130434694,
             "test": [
              0.09159027149
             ]
            },
            {
             "iteration": 95,
             "learn": [
              0.08478144598
             ],
             "passed_time": 40.92617842,
             "remaining_time": 1.705257434,
             "test": [
              0.09037694571
             ]
            },
            {
             "iteration": 96,
             "learn": [
              0.08393783029
             ],
             "passed_time": 41.29092864,
             "remaining_time": 1.27703903,
             "test": [
              0.08934876787
             ]
            },
            {
             "iteration": 97,
             "learn": [
              0.08295228267
             ],
             "passed_time": 41.70997192,
             "remaining_time": 0.8512239167,
             "test": [
              0.08836003289
             ]
            },
            {
             "iteration": 98,
             "learn": [
              0.08229191946
             ],
             "passed_time": 42.02790144,
             "remaining_time": 0.4245242569,
             "test": [
              0.08744241093
             ]
            },
            {
             "iteration": 99,
             "learn": [
              0.08088964407
             ],
             "passed_time": 42.50757498,
             "remaining_time": 0,
             "test": [
              0.08619264564
             ]
            }
           ],
           "meta": {
            "iteration_count": 100,
            "launch_mode": "Train",
            "learn_metrics": [
             {
              "best_value": "Min",
              "name": "CrossEntropy"
             }
            ],
            "learn_sets": [
             "learn"
            ],
            "name": "experiment",
            "parameters": "",
            "test_metrics": [
             {
              "best_value": "Min",
              "name": "CrossEntropy"
             }
            ],
            "test_sets": [
             "test"
            ]
           }
          },
          "passed_iterations": 99,
          "total_iterations": 100
         },
         "name": "catboost_info",
         "path": "catboost_info"
        }
       },
       "layout": "IPY_MODEL_351b1abe5aad4927877efe2e255a9f72"
      }
     },
     "68d8172392b742198aa41fced2715f2d": {
      "model_module": "@jupyter-widgets/base",
      "model_module_version": "1.2.0",
      "model_name": "LayoutModel",
      "state": {
       "_model_module": "@jupyter-widgets/base",
       "_model_module_version": "1.2.0",
       "_model_name": "LayoutModel",
       "_view_count": null,
       "_view_module": "@jupyter-widgets/base",
       "_view_module_version": "1.2.0",
       "_view_name": "LayoutView",
       "align_content": null,
       "align_items": null,
       "align_self": "stretch",
       "border": null,
       "bottom": null,
       "display": null,
       "flex": null,
       "flex_flow": null,
       "grid_area": null,
       "grid_auto_columns": null,
       "grid_auto_flow": null,
       "grid_auto_rows": null,
       "grid_column": null,
       "grid_gap": null,
       "grid_row": null,
       "grid_template_areas": null,
       "grid_template_columns": null,
       "grid_template_rows": null,
       "height": "500px",
       "justify_content": null,
       "justify_items": null,
       "left": null,
       "margin": null,
       "max_height": null,
       "max_width": null,
       "min_height": null,
       "min_width": null,
       "object_fit": null,
       "object_position": null,
       "order": null,
       "overflow": null,
       "overflow_x": null,
       "overflow_y": null,
       "padding": null,
       "right": null,
       "top": null,
       "visibility": null,
       "width": null
      }
     },
     "693b98dcfdb546ef9f74134885e1f583": {
      "model_module": "catboost-widget",
      "model_module_version": "^1.0.0",
      "model_name": "CatboostWidgetModel",
      "state": {
       "_dom_classes": [],
       "_model_module": "catboost-widget",
       "_model_module_version": "^1.0.0",
       "_model_name": "CatboostWidgetModel",
       "_view_count": null,
       "_view_module": "catboost-widget",
       "_view_module_version": "^1.0.0",
       "_view_name": "CatboostWidgetView",
       "data": {
        "catboost_info": {
         "content": {
          "data": {
           "iterations": [
            {
             "iteration": 0,
             "learn": [
              0.6613835875
             ],
             "passed_time": 0.3648944301,
             "remaining_time": 36.12454858,
             "test": [
              0.6635991952
             ]
            },
            {
             "iteration": 1,
             "learn": [
              0.63629442
             ],
             "passed_time": 0.7323020801,
             "remaining_time": 35.88280193,
             "test": [
              0.6357718124
             ]
            },
            {
             "iteration": 2,
             "learn": [
              0.6093760857
             ],
             "passed_time": 1.133970138,
             "remaining_time": 36.66503447,
             "test": [
              0.6095186517
             ]
            },
            {
             "iteration": 3,
             "learn": [
              0.583716236
             ],
             "passed_time": 1.493620837,
             "remaining_time": 35.8469001,
             "test": [
              0.584710976
             ]
            },
            {
             "iteration": 4,
             "learn": [
              0.5621908074
             ],
             "passed_time": 1.959938759,
             "remaining_time": 37.23883642,
             "test": [
              0.5612356696
             ]
            },
            {
             "iteration": 5,
             "learn": [
              0.5376657291
             ],
             "passed_time": 2.356340209,
             "remaining_time": 36.91599661,
             "test": [
              0.5389907265
             ]
            },
            {
             "iteration": 6,
             "learn": [
              0.5168810202
             ],
             "passed_time": 2.839916557,
             "remaining_time": 37.73031998,
             "test": [
              0.5178861557
             ]
            },
            {
             "iteration": 7,
             "learn": [
              0.4986817343
             ],
             "passed_time": 3.218780774,
             "remaining_time": 37.0159789,
             "test": [
              0.497838218
             ]
            },
            {
             "iteration": 8,
             "learn": [
              0.4785238631
             ],
             "passed_time": 3.585924184,
             "remaining_time": 36.25767786,
             "test": [
              0.4787737355
             ]
            },
            {
             "iteration": 9,
             "learn": [
              0.4605802211
             ],
             "passed_time": 3.9647129,
             "remaining_time": 35.6824161,
             "test": [
              0.4606274033
             ]
            },
            {
             "iteration": 10,
             "learn": [
              0.4438191288
             ],
             "passed_time": 4.34633599,
             "remaining_time": 35.16580937,
             "test": [
              0.4433393509
             ]
            },
            {
             "iteration": 11,
             "learn": [
              0.4280503166
             ],
             "passed_time": 4.728171095,
             "remaining_time": 34.6732547,
             "test": [
              0.4268535504
             ]
            },
            {
             "iteration": 12,
             "learn": [
              0.4121068696
             ],
             "passed_time": 5.125844035,
             "remaining_time": 34.30372546,
             "test": [
              0.4111204225
             ]
            },
            {
             "iteration": 13,
             "learn": [
              0.3967746708
             ],
             "passed_time": 5.519438347,
             "remaining_time": 33.90512128,
             "test": [
              0.3960949459
             ]
            },
            {
             "iteration": 14,
             "learn": [
              0.3823905742
             ],
             "passed_time": 5.938557302,
             "remaining_time": 33.65182471,
             "test": [
              0.3817330081
             ]
            },
            {
             "iteration": 15,
             "learn": [
              0.3673312773
             ],
             "passed_time": 6.440097924,
             "remaining_time": 33.8105141,
             "test": [
              0.367998954
             ]
            },
            {
             "iteration": 16,
             "learn": [
              0.3538781562
             ],
             "passed_time": 6.888547323,
             "remaining_time": 33.63231928,
             "test": [
              0.3548542804
             ]
            },
            {
             "iteration": 17,
             "learn": [
              0.3431676224
             ],
             "passed_time": 7.230362474,
             "remaining_time": 32.93831794,
             "test": [
              0.3422667536
             ]
            },
            {
             "iteration": 18,
             "learn": [
              0.3300848873
             ],
             "passed_time": 7.626971213,
             "remaining_time": 32.51498254,
             "test": [
              0.3302062663
             ]
            },
            {
             "iteration": 19,
             "learn": [
              0.3196733412
             ],
             "passed_time": 8.08314475,
             "remaining_time": 32.332579,
             "test": [
              0.3186465345
             ]
            },
            {
             "iteration": 20,
             "learn": [
              0.3069666639
             ],
             "passed_time": 8.533251552,
             "remaining_time": 32.10127965,
             "test": [
              0.3075581154
             ]
            },
            {
             "iteration": 21,
             "learn": [
              0.2968810368
             ],
             "passed_time": 8.932206225,
             "remaining_time": 31.66873116,
             "test": [
              0.2969177339
             ]
            },
            {
             "iteration": 22,
             "learn": [
              0.2867659865
             ],
             "passed_time": 9.345667949,
             "remaining_time": 31.28767096,
             "test": [
              0.2867027484
             ]
            },
            {
             "iteration": 23,
             "learn": [
              0.2765075984
             ],
             "passed_time": 9.972229015,
             "remaining_time": 31.57872522,
             "test": [
              0.276891532
             ]
            },
            {
             "iteration": 24,
             "learn": [
              0.2664447642
             ],
             "passed_time": 10.5182841,
             "remaining_time": 31.55485229,
             "test": [
              0.2674664973
             ]
            },
            {
             "iteration": 25,
             "learn": [
              0.2579786615
             ],
             "passed_time": 11.02978722,
             "remaining_time": 31.39247133,
             "test": [
              0.2584046782
             ]
            },
            {
             "iteration": 26,
             "learn": [
              0.2499625525
             ],
             "passed_time": 11.42723568,
             "remaining_time": 30.89585942,
             "test": [
              0.2496915655
             ]
            },
            {
             "iteration": 27,
             "learn": [
              0.2419719042
             ],
             "passed_time": 11.8007549,
             "remaining_time": 30.34479833,
             "test": [
              0.2413103189
             ]
            },
            {
             "iteration": 28,
             "learn": [
              0.2336773412
             ],
             "passed_time": 12.26376273,
             "remaining_time": 30.02507428,
             "test": [
              0.2332459687
             ]
            },
            {
             "iteration": 29,
             "learn": [
              0.2258436554
             ],
             "passed_time": 12.74094804,
             "remaining_time": 29.72887875,
             "test": [
              0.2254846639
             ]
            },
            {
             "iteration": 30,
             "learn": [
              0.2185226087
             ],
             "passed_time": 13.21714924,
             "remaining_time": 29.41881605,
             "test": [
              0.2180111807
             ]
            },
            {
             "iteration": 31,
             "learn": [
              0.2109302846
             ],
             "passed_time": 13.59278704,
             "remaining_time": 28.88467247,
             "test": [
              0.2108128333
             ]
            },
            {
             "iteration": 32,
             "learn": [
              0.203348532
             ],
             "passed_time": 14.14195708,
             "remaining_time": 28.71245832,
             "test": [
              0.20387785
             ]
            },
            {
             "iteration": 33,
             "learn": [
              0.1964216691
             ],
             "passed_time": 14.58618526,
             "remaining_time": 28.31435962,
             "test": [
              0.197195743
             ]
            },
            {
             "iteration": 34,
             "learn": [
              0.1911768237
             ],
             "passed_time": 15.04355303,
             "remaining_time": 27.93802705,
             "test": [
              0.1907549449
             ]
            },
            {
             "iteration": 35,
             "learn": [
              0.1838987827
             ],
             "passed_time": 15.4118175,
             "remaining_time": 27.39878666,
             "test": [
              0.1845450796
             ]
            },
            {
             "iteration": 36,
             "learn": [
              0.178764859
             ],
             "passed_time": 15.80484656,
             "remaining_time": 26.91095495,
             "test": [
              0.1785571068
             ]
            },
            {
             "iteration": 37,
             "learn": [
              0.1721860631
             ],
             "passed_time": 16.17426389,
             "remaining_time": 26.38958844,
             "test": [
              0.1727803611
             ]
            },
            {
             "iteration": 38,
             "learn": [
              0.1676661275
             ],
             "passed_time": 16.60022255,
             "remaining_time": 25.96445065,
             "test": [
              0.167207279
             ]
            },
            {
             "iteration": 39,
             "learn": [
              0.1614230263
             ],
             "passed_time": 16.9935245,
             "remaining_time": 25.49028675,
             "test": [
              0.1618294483
             ]
            },
            {
             "iteration": 40,
             "learn": [
              0.1563265215
             ],
             "passed_time": 17.42038492,
             "remaining_time": 25.06835879,
             "test": [
              0.1566391627
             ]
            },
            {
             "iteration": 41,
             "learn": [
              0.1520146961
             ],
             "passed_time": 17.84159117,
             "remaining_time": 24.63838781,
             "test": [
              0.1516285688
             ]
            },
            {
             "iteration": 42,
             "learn": [
              0.1470001098
             ],
             "passed_time": 18.26710682,
             "remaining_time": 24.21453695,
             "test": [
              0.1467909398
             ]
            },
            {
             "iteration": 43,
             "learn": [
              0.1418646294
             ],
             "passed_time": 18.68897651,
             "remaining_time": 23.7859701,
             "test": [
              0.1421190503
             ]
            },
            {
             "iteration": 44,
             "learn": [
              0.137103527
             ],
             "passed_time": 19.11896847,
             "remaining_time": 23.36762813,
             "test": [
              0.1376069808
             ]
            },
            {
             "iteration": 45,
             "learn": [
              0.1329053801
             ],
             "passed_time": 19.57166387,
             "remaining_time": 22.9754315,
             "test": [
              0.1332475456
             ]
            },
            {
             "iteration": 46,
             "learn": [
              0.1289163846
             ],
             "passed_time": 19.93049936,
             "remaining_time": 22.47481843,
             "test": [
              0.1290358899
             ]
            },
            {
             "iteration": 47,
             "learn": [
              0.1249891606
             ],
             "passed_time": 20.45881649,
             "remaining_time": 22.16371787,
             "test": [
              0.124967301
             ]
            },
            {
             "iteration": 48,
             "learn": [
              0.1210804537
             ],
             "passed_time": 20.88699802,
             "remaining_time": 21.73952855,
             "test": [
              0.1210344211
             ]
            },
            {
             "iteration": 49,
             "learn": [
              0.1171932706
             ],
             "passed_time": 21.22875975,
             "remaining_time": 21.22875975,
             "test": [
              0.1172330319
             ]
            },
            {
             "iteration": 50,
             "learn": [
              0.1133175461
             ],
             "passed_time": 21.64127627,
             "remaining_time": 20.79259877,
             "test": [
              0.1135585968
             ]
            },
            {
             "iteration": 51,
             "learn": [
              0.1097541583
             ],
             "passed_time": 21.98987048,
             "remaining_time": 20.29834199,
             "test": [
              0.1100052595
             ]
            },
            {
             "iteration": 52,
             "learn": [
              0.1069259621
             ],
             "passed_time": 22.3287719,
             "remaining_time": 19.8009864,
             "test": [
              0.1065702032
             ]
            },
            {
             "iteration": 53,
             "learn": [
              0.1034038429
             ],
             "passed_time": 22.68249712,
             "remaining_time": 19.32212718,
             "test": [
              0.1032475095
             ]
            },
            {
             "iteration": 54,
             "learn": [
              0.09973014259
             ],
             "passed_time": 23.13527063,
             "remaining_time": 18.92885779,
             "test": [
              0.1000347657
             ]
            },
            {
             "iteration": 55,
             "learn": [
              0.09713714162
             ],
             "passed_time": 23.54875345,
             "remaining_time": 18.502592,
             "test": [
              0.09692651245
             ]
            },
            {
             "iteration": 56,
             "learn": [
              0.09376562786
             ],
             "passed_time": 23.97472697,
             "remaining_time": 18.08619754,
             "test": [
              0.09391904833
             ]
            },
            {
             "iteration": 57,
             "learn": [
              0.09122236326
             ],
             "passed_time": 24.43838241,
             "remaining_time": 17.69675968,
             "test": [
              0.09100993903
             ]
            },
            {
             "iteration": 58,
             "learn": [
              0.08794095842
             ],
             "passed_time": 24.89485682,
             "remaining_time": 17.29981575,
             "test": [
              0.08819511001
             ]
            },
            {
             "iteration": 59,
             "learn": [
              0.08547187682
             ],
             "passed_time": 25.31805625,
             "remaining_time": 16.87870417,
             "test": [
              0.08547131099
             ]
            },
            {
             "iteration": 60,
             "learn": [
              0.08257546405
             ],
             "passed_time": 25.74724263,
             "remaining_time": 16.46135184,
             "test": [
              0.08283479395
             ]
            },
            {
             "iteration": 61,
             "learn": [
              0.08010074862
             ],
             "passed_time": 26.16282428,
             "remaining_time": 16.0352794,
             "test": [
              0.0802832043
             ]
            },
            {
             "iteration": 62,
             "learn": [
              0.07797036506
             ],
             "passed_time": 26.56447355,
             "remaining_time": 15.60135748,
             "test": [
              0.07781343727
             ]
            },
            {
             "iteration": 63,
             "learn": [
              0.07548909896
             ],
             "passed_time": 26.96172353,
             "remaining_time": 15.16596949,
             "test": [
              0.0754226821
             ]
            },
            {
             "iteration": 64,
             "learn": [
              0.07295572908
             ],
             "passed_time": 27.41059475,
             "remaining_time": 14.75955102,
             "test": [
              0.0731083371
             ]
            },
            {
             "iteration": 65,
             "learn": [
              0.07053935457
             ],
             "passed_time": 27.83743923,
             "remaining_time": 14.340499,
             "test": [
              0.07086730993
             ]
            },
            {
             "iteration": 66,
             "learn": [
              0.06844705172
             ],
             "passed_time": 28.27415992,
             "remaining_time": 13.92607877,
             "test": [
              0.06869791063
             ]
            },
            {
             "iteration": 67,
             "learn": [
              0.06643113022
             ],
             "passed_time": 28.64031604,
             "remaining_time": 13.47779578,
             "test": [
              0.06659703818
             ]
            },
            {
             "iteration": 68,
             "learn": [
              0.06446597517
             ],
             "passed_time": 29.05231723,
             "remaining_time": 13.05249035,
             "test": [
              0.06456243488
             ]
            },
            {
             "iteration": 69,
             "learn": [
              0.06251226222
             ],
             "passed_time": 29.38392131,
             "remaining_time": 12.59310913,
             "test": [
              0.06259205034
             ]
            },
            {
             "iteration": 70,
             "learn": [
              0.06056302
             ],
             "passed_time": 29.73943803,
             "remaining_time": 12.14709441,
             "test": [
              0.06068377431
             ]
            },
            {
             "iteration": 71,
             "learn": [
              0.05865345542
             ],
             "passed_time": 30.1187246,
             "remaining_time": 11.71283734,
             "test": [
              0.05883561673
             ]
            },
            {
             "iteration": 72,
             "learn": [
              0.0568414163
             ],
             "passed_time": 30.51785139,
             "remaining_time": 11.28742449,
             "test": [
              0.05704496611
             ]
            },
            {
             "iteration": 73,
             "learn": [
              0.05543113797
             ],
             "passed_time": 30.96286694,
             "remaining_time": 10.87884514,
             "test": [
              0.05531082922
             ]
            },
            {
             "iteration": 74,
             "learn": [
              0.05367274555
             ],
             "passed_time": 31.41131326,
             "remaining_time": 10.47043775,
             "test": [
              0.05363101652
             ]
            },
            {
             "iteration": 75,
             "learn": [
              0.05182508479
             ],
             "passed_time": 31.82860508,
             "remaining_time": 10.05113845,
             "test": [
              0.05200356606
             ]
            },
            {
             "iteration": 76,
             "learn": [
              0.05053053103
             ],
             "passed_time": 32.32298305,
             "remaining_time": 9.654917014,
             "test": [
              0.05042661047
             ]
            },
            {
             "iteration": 77,
             "learn": [
              0.04884030728
             ],
             "passed_time": 32.73791839,
             "remaining_time": 9.233771852,
             "test": [
              0.04889878607
             ]
            },
            {
             "iteration": 78,
             "learn": [
              0.04721120842
             ],
             "passed_time": 33.12706524,
             "remaining_time": 8.805928734,
             "test": [
              0.04741825698
             ]
            },
            {
             "iteration": 79,
             "learn": [
              0.04591186202
             ],
             "passed_time": 33.52554404,
             "remaining_time": 8.381386009,
             "test": [
              0.04598403006
             ]
            },
            {
             "iteration": 80,
             "learn": [
              0.04464893838
             ],
             "passed_time": 33.89101921,
             "remaining_time": 7.949745247,
             "test": [
              0.04459439501
             ]
            },
            {
             "iteration": 81,
             "learn": [
              0.04306356043
             ],
             "passed_time": 34.25486151,
             "remaining_time": 7.519359844,
             "test": [
              0.04324719874
             ]
            },
            {
             "iteration": 82,
             "learn": [
              0.04195492474
             ],
             "passed_time": 34.61639181,
             "remaining_time": 7.090104346,
             "test": [
              0.04194163565
             ]
            },
            {
             "iteration": 83,
             "learn": [
              0.04071426097
             ],
             "passed_time": 34.9893507,
             "remaining_time": 6.664638229,
             "test": [
              0.04067612913
             ]
            },
            {
             "iteration": 84,
             "learn": [
              0.03934897326
             ],
             "passed_time": 35.37345088,
             "remaining_time": 6.242373684,
             "test": [
              0.03944957601
             ]
            },
            {
             "iteration": 85,
             "learn": [
              0.03812603951
             ],
             "passed_time": 35.90700592,
             "remaining_time": 5.845326545,
             "test": [
              0.0382613262
             ]
            },
            {
             "iteration": 86,
             "learn": [
              0.03710692798
             ],
             "passed_time": 36.24968708,
             "remaining_time": 5.416619908,
             "test": [
              0.03710932721
             ]
            },
            {
             "iteration": 87,
             "learn": [
              0.03605576997
             ],
             "passed_time": 36.68519139,
             "remaining_time": 5.002526098,
             "test": [
              0.03599323608
             ]
            },
            {
             "iteration": 88,
             "learn": [
              0.03486706723
             ],
             "passed_time": 37.0882176,
             "remaining_time": 4.583937007,
             "test": [
              0.03491059673
             ]
            },
            {
             "iteration": 89,
             "learn": [
              0.0338237646
             ],
             "passed_time": 37.53937209,
             "remaining_time": 4.171041343,
             "test": [
              0.03386294801
             ]
            },
            {
             "iteration": 90,
             "learn": [
              0.03281911176
             ],
             "passed_time": 37.91477835,
             "remaining_time": 3.749813243,
             "test": [
              0.03284545106
             ]
            },
            {
             "iteration": 91,
             "learn": [
              0.03182867036
             ],
             "passed_time": 38.35069053,
             "remaining_time": 3.334842655,
             "test": [
              0.03185966922
             ]
            },
            {
             "iteration": 92,
             "learn": [
              0.03085150064
             ],
             "passed_time": 38.77029495,
             "remaining_time": 2.918194244,
             "test": [
              0.030903709
             ]
            },
            {
             "iteration": 93,
             "learn": [
              0.02990729591
             ],
             "passed_time": 39.22753382,
             "remaining_time": 2.503885138,
             "test": [
              0.02997676401
             ]
            },
            {
             "iteration": 94,
             "learn": [
              0.0289709301
             ],
             "passed_time": 39.69459366,
             "remaining_time": 2.08918914,
             "test": [
              0.02907825404
             ]
            },
            {
             "iteration": 95,
             "learn": [
              0.028238301
             ],
             "passed_time": 40.14446332,
             "remaining_time": 1.672685972,
             "test": [
              0.02820708704
             ]
            },
            {
             "iteration": 96,
             "learn": [
              0.02735212326
             ],
             "passed_time": 40.56931782,
             "remaining_time": 1.25472117,
             "test": [
              0.02736251623
             ]
            },
            {
             "iteration": 97,
             "learn": [
              0.02642953269
             ],
             "passed_time": 40.99904985,
             "remaining_time": 0.836715303,
             "test": [
              0.02654350625
             ]
            },
            {
             "iteration": 98,
             "learn": [
              0.02577633363
             ],
             "passed_time": 41.42707818,
             "remaining_time": 0.4184553352,
             "test": [
              0.02574903693
             ]
            },
            {
             "iteration": 99,
             "learn": [
              0.02492069577
             ],
             "passed_time": 41.97148872,
             "remaining_time": 0,
             "test": [
              0.02497862548
             ]
            }
           ],
           "meta": {
            "iteration_count": 100,
            "launch_mode": "Train",
            "learn_metrics": [
             {
              "best_value": "Min",
              "name": "CrossEntropy"
             }
            ],
            "learn_sets": [
             "learn"
            ],
            "name": "experiment",
            "parameters": "",
            "test_metrics": [
             {
              "best_value": "Min",
              "name": "CrossEntropy"
             }
            ],
            "test_sets": [
             "test"
            ]
           }
          },
          "passed_iterations": 99,
          "total_iterations": 100
         },
         "name": "catboost_info",
         "path": "catboost_info"
        }
       },
       "layout": "IPY_MODEL_d091b28493b14f30a191e89d76637a0b"
      }
     },
     "6f8579502ed744ee95215c40434f71bf": {
      "model_module": "catboost-widget",
      "model_module_version": "^1.0.0",
      "model_name": "CatboostWidgetModel",
      "state": {
       "_dom_classes": [],
       "_model_module": "catboost-widget",
       "_model_module_version": "^1.0.0",
       "_model_name": "CatboostWidgetModel",
       "_view_count": null,
       "_view_module": "catboost-widget",
       "_view_module_version": "^1.0.0",
       "_view_name": "CatboostWidgetView",
       "data": {
        "catboost_info": {
         "content": {
          "data": {
           "iterations": [
            {
             "iteration": 0,
             "learn": [
              0.6613869797
             ],
             "passed_time": 0.4132187941,
             "remaining_time": 40.90866062,
             "test": [
              0.66360149
             ]
            },
            {
             "iteration": 1,
             "learn": [
              0.636309749
             ],
             "passed_time": 0.7880773447,
             "remaining_time": 38.61578989,
             "test": [
              0.6357774283
             ]
            },
            {
             "iteration": 2,
             "learn": [
              0.6093865407
             ],
             "passed_time": 1.193066872,
             "remaining_time": 38.57582887,
             "test": [
              0.6095268227
             ]
            },
            {
             "iteration": 3,
             "learn": [
              0.5837393388
             ],
             "passed_time": 1.554761088,
             "remaining_time": 37.31426611,
             "test": [
              0.584720388
             ]
            },
            {
             "iteration": 4,
             "learn": [
              0.5622176731
             ],
             "passed_time": 2.017647392,
             "remaining_time": 38.33530045,
             "test": [
              0.561247159
             ]
            },
            {
             "iteration": 5,
             "learn": [
              0.537745807
             ],
             "passed_time": 2.42008717,
             "remaining_time": 37.914699,
             "test": [
              0.5390025082
             ]
            },
            {
             "iteration": 6,
             "learn": [
              0.5169077765
             ],
             "passed_time": 2.879845028,
             "remaining_time": 38.26079822,
             "test": [
              0.5178992834
             ]
            },
            {
             "iteration": 7,
             "learn": [
              0.4987153702
             ],
             "passed_time": 3.247366997,
             "remaining_time": 37.34472047,
             "test": [
              0.497852669
             ]
            },
            {
             "iteration": 8,
             "learn": [
              0.4785654305
             ],
             "passed_time": 3.621802386,
             "remaining_time": 36.62044635,
             "test": [
              0.4787924844
             ]
            },
            {
             "iteration": 9,
             "learn": [
              0.460611463
             ],
             "passed_time": 4.001963975,
             "remaining_time": 36.01767577,
             "test": [
              0.460647207
             ]
            },
            {
             "iteration": 10,
             "learn": [
              0.4438728406
             ],
             "passed_time": 4.389193978,
             "remaining_time": 35.51256946,
             "test": [
              0.443360486
             ]
            },
            {
             "iteration": 11,
             "learn": [
              0.4280875849
             ],
             "passed_time": 4.769127193,
             "remaining_time": 34.97359942,
             "test": [
              0.4268755719
             ]
            },
            {
             "iteration": 12,
             "learn": [
              0.4121958646
             ],
             "passed_time": 5.164285762,
             "remaining_time": 34.56098933,
             "test": [
              0.4111437371
             ]
            },
            {
             "iteration": 13,
             "learn": [
              0.3968246545
             ],
             "passed_time": 5.708699083,
             "remaining_time": 35.06772294,
             "test": [
              0.3961183715
             ]
            },
            {
             "iteration": 14,
             "learn": [
              0.3824594471
             ],
             "passed_time": 6.308563101,
             "remaining_time": 35.74852424,
             "test": [
              0.3817573953
             ]
            },
            {
             "iteration": 15,
             "learn": [
              0.3673956496
             ],
             "passed_time": 6.935484989,
             "remaining_time": 36.41129619,
             "test": [
              0.3680255377
             ]
            },
            {
             "iteration": 16,
             "learn": [
              0.3540040582
             ],
             "passed_time": 7.389296231,
             "remaining_time": 36.07715219,
             "test": [
              0.3548815869
             ]
            },
            {
             "iteration": 17,
             "learn": [
              0.3432302383
             ],
             "passed_time": 7.73277977,
             "remaining_time": 35.22710784,
             "test": [
              0.3422945818
             ]
            },
            {
             "iteration": 18,
             "learn": [
              0.3301454679
             ],
             "passed_time": 8.133641169,
             "remaining_time": 34.67499656,
             "test": [
              0.3302349312
             ]
            },
            {
             "iteration": 19,
             "learn": [
              0.3197405092
             ],
             "passed_time": 8.60182836,
             "remaining_time": 34.40731344,
             "test": [
              0.3186739604
             ]
            },
            {
             "iteration": 20,
             "learn": [
              0.3070702899
             ],
             "passed_time": 9.051342902,
             "remaining_time": 34.05028997,
             "test": [
              0.3075861739
             ]
            },
            {
             "iteration": 21,
             "learn": [
              0.2969480323
             ],
             "passed_time": 9.454054149,
             "remaining_time": 33.51891926,
             "test": [
              0.2969464804
             ]
            },
            {
             "iteration": 22,
             "learn": [
              0.2868724504
             ],
             "passed_time": 9.868858917,
             "remaining_time": 33.03922333,
             "test": [
              0.2867325348
             ]
            },
            {
             "iteration": 23,
             "learn": [
              0.2765989625
             ],
             "passed_time": 10.33694923,
             "remaining_time": 32.73367256,
             "test": [
              0.2769218294
             ]
            },
            {
             "iteration": 24,
             "learn": [
              0.2665723701
             ],
             "passed_time": 10.72625104,
             "remaining_time": 32.17875313,
             "test": [
              0.2674948793
             ]
            },
            {
             "iteration": 25,
             "learn": [
              0.2580609295
             ],
             "passed_time": 11.10284956,
             "remaining_time": 31.60041799,
             "test": [
              0.2584336631
             ]
            },
            {
             "iteration": 26,
             "learn": [
              0.2500385476
             ],
             "passed_time": 11.547902,
             "remaining_time": 31.2221054,
             "test": [
              0.2497213182
             ]
            },
            {
             "iteration": 27,
             "learn": [
              0.2420533446
             ],
             "passed_time": 11.92322941,
             "remaining_time": 30.65973277,
             "test": [
              0.2413402628
             ]
            },
            {
             "iteration": 28,
             "learn": [
              0.2337644767
             ],
             "passed_time": 12.38875063,
             "remaining_time": 30.33107914,
             "test": [
              0.2332769171
             ]
            },
            {
             "iteration": 29,
             "learn": [
              0.225933141
             ],
             "passed_time": 12.86237237,
             "remaining_time": 30.0122022,
             "test": [
              0.2255155251
             ]
            },
            {
             "iteration": 30,
             "learn": [
              0.2186123777
             ],
             "passed_time": 13.34104187,
             "remaining_time": 29.69457708,
             "test": [
              0.2180422528
             ]
            },
            {
             "iteration": 31,
             "learn": [
              0.2110194005
             ],
             "passed_time": 13.7137231,
             "remaining_time": 29.14166159,
             "test": [
              0.2108442877
             ]
            },
            {
             "iteration": 32,
             "learn": [
              0.2034707361
             ],
             "passed_time": 14.19999652,
             "remaining_time": 28.83029597,
             "test": [
              0.203909576
             ]
            },
            {
             "iteration": 33,
             "learn": [
              0.1965832182
             ],
             "passed_time": 14.63918986,
             "remaining_time": 28.41725091,
             "test": [
              0.1972272873
             ]
            },
            {
             "iteration": 34,
             "learn": [
              0.1912692815
             ],
             "passed_time": 15.08353978,
             "remaining_time": 28.01228817,
             "test": [
              0.1907867229
             ]
            },
            {
             "iteration": 35,
             "learn": [
              0.1840347328
             ],
             "passed_time": 15.45115776,
             "remaining_time": 27.46872491,
             "test": [
              0.1845772815
             ]
            },
            {
             "iteration": 36,
             "learn": [
              0.1788614368
             ],
             "passed_time": 15.84359587,
             "remaining_time": 26.97693351,
             "test": [
              0.1785892556
             ]
            },
            {
             "iteration": 37,
             "learn": [
              0.1723284697
             ],
             "passed_time": 16.21526886,
             "remaining_time": 26.45649129,
             "test": [
              0.1728135289
             ]
            },
            {
             "iteration": 38,
             "learn": [
              0.1677686296
             ],
             "passed_time": 16.64935306,
             "remaining_time": 26.04129581,
             "test": [
              0.1672409573
             ]
            },
            {
             "iteration": 39,
             "learn": [
              0.1615688829
             ],
             "passed_time": 17.0447723,
             "remaining_time": 25.56715846,
             "test": [
              0.1618631499
             ]
            },
            {
             "iteration": 40,
             "learn": [
              0.1564508462
             ],
             "passed_time": 17.48082509,
             "remaining_time": 25.15533366,
             "test": [
              0.1566732353
             ]
            },
            {
             "iteration": 41,
             "learn": [
              0.1521266373
             ],
             "passed_time": 17.9045484,
             "remaining_time": 24.72532875,
             "test": [
              0.1516631969
             ]
            },
            {
             "iteration": 42,
             "learn": [
              0.1471330508
             ],
             "passed_time": 18.34694955,
             "remaining_time": 24.32037498,
             "test": [
              0.1468257782
             ]
            },
            {
             "iteration": 43,
             "learn": [
              0.1419968361
             ],
             "passed_time": 18.77038545,
             "remaining_time": 23.88958148,
             "test": [
              0.1421542546
             ]
            },
            {
             "iteration": 44,
             "learn": [
              0.137255222
             ],
             "passed_time": 19.20706947,
             "remaining_time": 23.47530713,
             "test": [
              0.1376424522
             ]
            },
            {
             "iteration": 45,
             "learn": [
              0.1330499364
             ],
             "passed_time": 19.66715415,
             "remaining_time": 23.08752879,
             "test": [
              0.1332835728
             ]
            },
            {
             "iteration": 46,
             "learn": [
              0.1290526752
             ],
             "passed_time": 20.03657748,
             "remaining_time": 22.59443844,
             "test": [
              0.1290718858
             ]
            },
            {
             "iteration": 47,
             "learn": [
              0.1251296529
             ],
             "passed_time": 20.57212911,
             "remaining_time": 22.2864732,
             "test": [
              0.1250032456
             ]
            },
            {
             "iteration": 48,
             "learn": [
              0.1212201003
             ],
             "passed_time": 21.01023688,
             "remaining_time": 21.86779757,
             "test": [
              0.1210711101
             ]
            },
            {
             "iteration": 49,
             "learn": [
              0.1173356962
             ],
             "passed_time": 21.36906229,
             "remaining_time": 21.36906229,
             "test": [
              0.1172694183
             ]
            },
            {
             "iteration": 50,
             "learn": [
              0.1134722934
             ],
             "passed_time": 21.78692295,
             "remaining_time": 20.93253382,
             "test": [
              0.1135951048
             ]
            },
            {
             "iteration": 51,
             "learn": [
              0.1099071996
             ],
             "passed_time": 22.14487523,
             "remaining_time": 20.44142329,
             "test": [
              0.1100423391
             ]
            },
            {
             "iteration": 52,
             "learn": [
              0.1070571534
             ],
             "passed_time": 22.53366966,
             "remaining_time": 19.98268819,
             "test": [
              0.1066068146
             ]
            },
            {
             "iteration": 53,
             "learn": [
              0.1035535011
             ],
             "passed_time": 22.88263991,
             "remaining_time": 19.49261918,
             "test": [
              0.1032847882
             ]
            },
            {
             "iteration": 54,
             "learn": [
              0.09988521042
             ],
             "passed_time": 23.3485708,
             "remaining_time": 19.10337611,
             "test": [
              0.1000718833
             ]
            },
            {
             "iteration": 55,
             "learn": [
              0.09727709443
             ],
             "passed_time": 23.77451926,
             "remaining_time": 18.67997942,
             "test": [
              0.09696408531
             ]
            },
            {
             "iteration": 56,
             "learn": [
              0.09392471468
             ],
             "passed_time": 24.20702425,
             "remaining_time": 18.26143935,
             "test": [
              0.09395677952
             ]
            },
            {
             "iteration": 57,
             "learn": [
              0.09136417947
             ],
             "passed_time": 24.67365719,
             "remaining_time": 17.86713107,
             "test": [
              0.09104787537
             ]
            },
            {
             "iteration": 58,
             "learn": [
              0.08811001379
             ],
             "passed_time": 25.08280003,
             "remaining_time": 17.43042036,
             "test": [
              0.08823255766
             ]
            },
            {
             "iteration": 59,
             "learn": [
              0.08563335391
             ],
             "passed_time": 25.51087727,
             "remaining_time": 17.00725152,
             "test": [
              0.0855090221
             ]
            },
            {
             "iteration": 60,
             "learn": [
              0.0827479883
             ],
             "passed_time": 25.93436674,
             "remaining_time": 16.58098857,
             "test": [
              0.0828731284
             ]
            },
            {
             "iteration": 61,
             "learn": [
              0.08026913844
             ],
             "passed_time": 26.35220226,
             "remaining_time": 16.15134977,
             "test": [
              0.08032183407
             ]
            },
            {
             "iteration": 62,
             "learn": [
              0.0781309549
             ],
             "passed_time": 26.75704427,
             "remaining_time": 15.71445457,
             "test": [
              0.07785277617
             ]
            },
            {
             "iteration": 63,
             "learn": [
              0.07566131276
             ],
             "passed_time": 27.15677862,
             "remaining_time": 15.27568798,
             "test": [
              0.0754621771
             ]
            },
            {
             "iteration": 64,
             "learn": [
              0.07312248099
             ],
             "passed_time": 27.61327858,
             "remaining_time": 14.86868847,
             "test": [
              0.07314838868
             ]
            },
            {
             "iteration": 65,
             "learn": [
              0.07074298888
             ],
             "passed_time": 28.03677567,
             "remaining_time": 14.44318747,
             "test": [
              0.07090728173
             ]
            },
            {
             "iteration": 66,
             "learn": [
              0.06863711588
             ],
             "passed_time": 28.49379285,
             "remaining_time": 14.03425618,
             "test": [
              0.06873785039
             ]
            },
            {
             "iteration": 67,
             "learn": [
              0.0666133042
             ],
             "passed_time": 28.8496808,
             "remaining_time": 13.57632037,
             "test": [
              0.0666374729
             ]
            },
            {
             "iteration": 68,
             "learn": [
              0.06464522915
             ],
             "passed_time": 29.26257375,
             "remaining_time": 13.14695342,
             "test": [
              0.06460313708
             ]
            },
            {
             "iteration": 69,
             "learn": [
              0.06269201046
             ],
             "passed_time": 29.60283774,
             "remaining_time": 12.68693046,
             "test": [
              0.06263284204
             ]
            },
            {
             "iteration": 70,
             "learn": [
              0.06074707436
             ],
             "passed_time": 29.95589296,
             "remaining_time": 12.23550558,
             "test": [
              0.0607247115
             ]
            },
            {
             "iteration": 71,
             "learn": [
              0.05883970953
             ],
             "passed_time": 30.33821845,
             "remaining_time": 11.79819606,
             "test": [
              0.05887702191
             ]
            },
            {
             "iteration": 72,
             "learn": [
              0.05703288681
             ],
             "passed_time": 30.74262215,
             "remaining_time": 11.37055888,
             "test": [
              0.05708665876
             ]
            },
            {
             "iteration": 73,
             "learn": [
              0.05560801485
             ],
             "passed_time": 31.18836455,
             "remaining_time": 10.95807403,
             "test": [
              0.05535269232
             ]
            },
            {
             "iteration": 74,
             "learn": [
              0.05385562344
             ],
             "passed_time": 31.6424582,
             "remaining_time": 10.54748607,
             "test": [
              0.05367285877
             ]
            },
            {
             "iteration": 75,
             "learn": [
              0.05201508177
             ],
             "passed_time": 32.05448783,
             "remaining_time": 10.12246984,
             "test": [
              0.05204398126
             ]
            },
            {
             "iteration": 76,
             "learn": [
              0.05071296828
             ],
             "passed_time": 32.55729753,
             "remaining_time": 9.724907054,
             "test": [
              0.05046712072
             ]
            },
            {
             "iteration": 77,
             "learn": [
              0.0490265045
             ],
             "passed_time": 32.96731601,
             "remaining_time": 9.298473748,
             "test": [
              0.04893931811
             ]
            },
            {
             "iteration": 78,
             "learn": [
              0.04743488153
             ],
             "passed_time": 33.39666642,
             "remaining_time": 8.877594871,
             "test": [
              0.04745753621
             ]
            },
            {
             "iteration": 79,
             "learn": [
              0.04609820127
             ],
             "passed_time": 33.79939108,
             "remaining_time": 8.449847771,
             "test": [
              0.04602325189
             ]
            },
            {
             "iteration": 80,
             "learn": [
              0.0448364507
             ],
             "passed_time": 34.16550229,
             "remaining_time": 8.014130166,
             "test": [
              0.04463344164
             ]
            },
            {
             "iteration": 81,
             "learn": [
              0.04326902149
             ],
             "passed_time": 34.5421663,
             "remaining_time": 7.582426749,
             "test": [
              0.0432864655
             ]
            },
            {
             "iteration": 82,
             "learn": [
              0.04215199666
             ],
             "passed_time": 34.89618264,
             "remaining_time": 7.147410902,
             "test": [
              0.04198026098
             ]
            },
            {
             "iteration": 83,
             "learn": [
              0.04090701336
             ],
             "passed_time": 35.26001783,
             "remaining_time": 6.716193873,
             "test": [
              0.04071529441
             ]
            },
            {
             "iteration": 84,
             "learn": [
              0.03954648225
             ],
             "passed_time": 35.65051592,
             "remaining_time": 6.291267515,
             "test": [
              0.0394887824
             ]
            },
            {
             "iteration": 85,
             "learn": [
              0.03833006807
             ],
             "passed_time": 36.13205527,
             "remaining_time": 5.881962486,
             "test": [
              0.03830028907
             ]
            },
            {
             "iteration": 86,
             "learn": [
              0.0372991013
             ],
             "passed_time": 36.46859055,
             "remaining_time": 5.449329623,
             "test": [
              0.03714685488
             ]
            },
            {
             "iteration": 87,
             "learn": [
              0.03624847487
             ],
             "passed_time": 36.90043511,
             "remaining_time": 5.031877515,
             "test": [
              0.03603067741
             ]
            },
            {
             "iteration": 88,
             "learn": [
              0.03507045435
             ],
             "passed_time": 37.40476613,
             "remaining_time": 4.623060982,
             "test": [
              0.03494830067
             ]
            },
            {
             "iteration": 89,
             "learn": [
              0.03403028425
             ],
             "passed_time": 38.04204382,
             "remaining_time": 4.226893758,
             "test": [
              0.03389963421
             ]
            },
            {
             "iteration": 90,
             "learn": [
              0.03302486759
             ],
             "passed_time": 38.56975743,
             "remaining_time": 3.814591394,
             "test": [
              0.03288246731
             ]
            },
            {
             "iteration": 91,
             "learn": [
              0.03203568084
             ],
             "passed_time": 39.01478716,
             "remaining_time": 3.392590188,
             "test": [
              0.03189712439
             ]
            },
            {
             "iteration": 92,
             "learn": [
              0.03105933441
             ],
             "passed_time": 39.43408533,
             "remaining_time": 2.96815696,
             "test": [
              0.03094111569
             ]
            },
            {
             "iteration": 93,
             "learn": [
              0.03011738159
             ],
             "passed_time": 39.90088756,
             "remaining_time": 2.546865163,
             "test": [
              0.03001435727
             ]
            },
            {
             "iteration": 94,
             "learn": [
              0.02919620331
             ],
             "passed_time": 40.36465248,
             "remaining_time": 2.124455394,
             "test": [
              0.02911656627
             ]
            },
            {
             "iteration": 95,
             "learn": [
              0.02844438714
             ],
             "passed_time": 40.82014668,
             "remaining_time": 1.700839445,
             "test": [
              0.02824552368
             ]
            },
            {
             "iteration": 96,
             "learn": [
              0.0275407187
             ],
             "passed_time": 41.14098061,
             "remaining_time": 1.272401462,
             "test": [
              0.02739904115
             ]
            },
            {
             "iteration": 97,
             "learn": [
              0.02663343068
             ],
             "passed_time": 41.57285703,
             "remaining_time": 0.8484256538,
             "test": [
              0.02658021576
             ]
            },
            {
             "iteration": 98,
             "learn": [
              0.0259724488
             ],
             "passed_time": 41.94913381,
             "remaining_time": 0.4237286243,
             "test": [
              0.02578612696
             ]
            },
            {
             "iteration": 99,
             "learn": [
              0.02511821269
             ],
             "passed_time": 42.32280027,
             "remaining_time": 0,
             "test": [
              0.0250159502
             ]
            }
           ],
           "meta": {
            "iteration_count": 100,
            "launch_mode": "Train",
            "learn_metrics": [
             {
              "best_value": "Min",
              "name": "CrossEntropy"
             }
            ],
            "learn_sets": [
             "learn"
            ],
            "name": "experiment",
            "parameters": "",
            "test_metrics": [
             {
              "best_value": "Min",
              "name": "CrossEntropy"
             }
            ],
            "test_sets": [
             "test"
            ]
           }
          },
          "passed_iterations": 99,
          "total_iterations": 100
         },
         "name": "catboost_info",
         "path": "catboost_info"
        }
       },
       "layout": "IPY_MODEL_3ad50232e3944399874f58169b94d0a1"
      }
     },
     "7163abaf0bc24e7eb398bef6a9b5cd9d": {
      "model_module": "catboost-widget",
      "model_module_version": "^1.0.0",
      "model_name": "CatboostWidgetModel",
      "state": {
       "_dom_classes": [],
       "_model_module": "catboost-widget",
       "_model_module_version": "^1.0.0",
       "_model_name": "CatboostWidgetModel",
       "_view_count": null,
       "_view_module": "catboost-widget",
       "_view_module_version": "^1.0.0",
       "_view_name": "CatboostWidgetView",
       "data": {
        "catboost_info": {
         "content": {
          "data": {
           "iterations": [
            {
             "iteration": 0,
             "learn": [
              0.666147923
             ],
             "passed_time": 0.489551471,
             "remaining_time": 48.46559563,
             "test": [
              0.6677843274
             ]
            },
            {
             "iteration": 1,
             "learn": [
              0.6437879005
             ],
             "passed_time": 0.9753219243,
             "remaining_time": 47.79077429,
             "test": [
              0.6441166275
             ]
            },
            {
             "iteration": 2,
             "learn": [
              0.6202368017
             ],
             "passed_time": 1.452083156,
             "remaining_time": 46.95068871,
             "test": [
              0.621447929
             ]
            },
            {
             "iteration": 3,
             "learn": [
              0.5979981917
             ],
             "passed_time": 1.913754217,
             "remaining_time": 45.93010122,
             "test": [
              0.6000641466
             ]
            },
            {
             "iteration": 4,
             "learn": [
              0.5786020584
             ],
             "passed_time": 2.392953119,
             "remaining_time": 45.46610925,
             "test": [
              0.5793867363
             ]
            },
            {
             "iteration": 5,
             "learn": [
              0.5589894669
             ],
             "passed_time": 2.883683677,
             "remaining_time": 45.17771095,
             "test": [
              0.5602828732
             ]
            },
            {
             "iteration": 6,
             "learn": [
              0.5394931364
             ],
             "passed_time": 3.365036399,
             "remaining_time": 44.70691216,
             "test": [
              0.5415525687
             ]
            },
            {
             "iteration": 7,
             "learn": [
              0.5230788215
             ],
             "passed_time": 3.833629328,
             "remaining_time": 44.08673728,
             "test": [
              0.5240530112
             ]
            },
            {
             "iteration": 8,
             "learn": [
              0.5059093306
             ],
             "passed_time": 4.305514237,
             "remaining_time": 43.53353284,
             "test": [
              0.507694828
             ]
            },
            {
             "iteration": 9,
             "learn": [
              0.4900855362
             ],
             "passed_time": 4.777646794,
             "remaining_time": 42.99882114,
             "test": [
              0.4918852527
             ]
            },
            {
             "iteration": 10,
             "learn": [
              0.4753358378
             ],
             "passed_time": 5.258947182,
             "remaining_time": 42.54966356,
             "test": [
              0.4766218612
             ]
            },
            {
             "iteration": 11,
             "learn": [
              0.4609545595
             ],
             "passed_time": 5.733498641,
             "remaining_time": 42.0456567,
             "test": [
              0.4619597591
             ]
            },
            {
             "iteration": 12,
             "learn": [
              0.4469573255
             ],
             "passed_time": 6.213350898,
             "remaining_time": 41.58165601,
             "test": [
              0.4481390571
             ]
            },
            {
             "iteration": 13,
             "learn": [
              0.4333319886
             ],
             "passed_time": 6.646783685,
             "remaining_time": 40.83024263,
             "test": [
              0.434978823
             ]
            },
            {
             "iteration": 14,
             "learn": [
              0.4202123286
             ],
             "passed_time": 7.148816414,
             "remaining_time": 40.50995968,
             "test": [
              0.4218188487
             ]
            },
            {
             "iteration": 15,
             "learn": [
              0.407268738
             ],
             "passed_time": 7.645650635,
             "remaining_time": 40.13966583,
             "test": [
              0.409228717
             ]
            },
            {
             "iteration": 16,
             "learn": [
              0.3957603122
             ],
             "passed_time": 8.123336699,
             "remaining_time": 39.66099683,
             "test": [
              0.3978689355
             ]
            },
            {
             "iteration": 17,
             "learn": [
              0.384740753
             ],
             "passed_time": 8.619753126,
             "remaining_time": 39.26776424,
             "test": [
              0.3862643837
             ]
            },
            {
             "iteration": 18,
             "learn": [
              0.3729065244
             ],
             "passed_time": 9.090990924,
             "remaining_time": 38.75632973,
             "test": [
              0.3750879081
             ]
            },
            {
             "iteration": 19,
             "learn": [
              0.3633684497
             ],
             "passed_time": 9.564357293,
             "remaining_time": 38.25742917,
             "test": [
              0.3644984437
             ]
            },
            {
             "iteration": 20,
             "learn": [
              0.3525469099
             ],
             "passed_time": 10.06020081,
             "remaining_time": 37.84551732,
             "test": [
              0.3541840173
             ]
            },
            {
             "iteration": 21,
             "learn": [
              0.3432353471
             ],
             "passed_time": 10.5369207,
             "remaining_time": 37.35817338,
             "test": [
              0.3443282329
             ]
            },
            {
             "iteration": 22,
             "learn": [
              0.3343734238
             ],
             "passed_time": 11.01686553,
             "remaining_time": 36.88254981,
             "test": [
              0.3348979042
             ]
            },
            {
             "iteration": 23,
             "learn": [
              0.3249906963
             ],
             "passed_time": 11.50473381,
             "remaining_time": 36.43165708,
             "test": [
              0.3262194075
             ]
            },
            {
             "iteration": 24,
             "learn": [
              0.3163106666
             ],
             "passed_time": 11.99021348,
             "remaining_time": 35.97064045,
             "test": [
              0.3181318888
             ]
            },
            {
             "iteration": 25,
             "learn": [
              0.3085108234
             ],
             "passed_time": 12.46615097,
             "remaining_time": 35.48058354,
             "test": [
              0.3099308729
             ]
            },
            {
             "iteration": 26,
             "learn": [
              0.3009787151
             ],
             "passed_time": 12.91896077,
             "remaining_time": 34.92904209,
             "test": [
              0.3022477817
             ]
            },
            {
             "iteration": 27,
             "learn": [
              0.2934605602
             ],
             "passed_time": 13.3666819,
             "remaining_time": 34.37146774,
             "test": [
              0.2945469456
             ]
            },
            {
             "iteration": 28,
             "learn": [
              0.2861996122
             ],
             "passed_time": 13.83339302,
             "remaining_time": 33.86796221,
             "test": [
              0.2873711005
             ]
            },
            {
             "iteration": 29,
             "learn": [
              0.2791608742
             ],
             "passed_time": 14.33631411,
             "remaining_time": 33.45139959,
             "test": [
              0.2801189366
             ]
            },
            {
             "iteration": 30,
             "learn": [
              0.2720619068
             ],
             "passed_time": 14.81477952,
             "remaining_time": 32.97483184,
             "test": [
              0.2728277015
             ]
            },
            {
             "iteration": 31,
             "learn": [
              0.2655245776
             ],
             "passed_time": 15.27143637,
             "remaining_time": 32.45180229,
             "test": [
              0.2664069131
             ]
            },
            {
             "iteration": 32,
             "learn": [
              0.2591817371
             ],
             "passed_time": 15.71570032,
             "remaining_time": 31.90763398,
             "test": [
              0.2602271895
             ]
            },
            {
             "iteration": 33,
             "learn": [
              0.2529523381
             ],
             "passed_time": 16.19078369,
             "remaining_time": 31.42916833,
             "test": [
              0.253949626
             ]
            },
            {
             "iteration": 34,
             "learn": [
              0.247209363
             ],
             "passed_time": 16.6718108,
             "remaining_time": 30.96193435,
             "test": [
              0.2480637344
             ]
            },
            {
             "iteration": 35,
             "learn": [
              0.2416238659
             ],
             "passed_time": 17.15004571,
             "remaining_time": 30.48897015,
             "test": [
              0.2424402767
             ]
            },
            {
             "iteration": 36,
             "learn": [
              0.2357423616
             ],
             "passed_time": 17.62718086,
             "remaining_time": 30.0138485,
             "test": [
              0.2365479306
             ]
            },
            {
             "iteration": 37,
             "learn": [
              0.2299547154
             ],
             "passed_time": 18.32059641,
             "remaining_time": 29.89149941,
             "test": [
              0.2309356776
             ]
            },
            {
             "iteration": 38,
             "learn": [
              0.2248468943
             ],
             "passed_time": 18.96079415,
             "remaining_time": 29.65662674,
             "test": [
              0.225917879
             ]
            },
            {
             "iteration": 39,
             "learn": [
              0.2197195135
             ],
             "passed_time": 19.56285174,
             "remaining_time": 29.3442776,
             "test": [
              0.2207077625
             ]
            },
            {
             "iteration": 40,
             "learn": [
              0.214744884
             ],
             "passed_time": 20.03575294,
             "remaining_time": 28.83193716,
             "test": [
              0.2155176736
             ]
            },
            {
             "iteration": 41,
             "learn": [
              0.2098949366
             ],
             "passed_time": 20.52416923,
             "remaining_time": 28.34290037,
             "test": [
              0.2107846038
             ]
            },
            {
             "iteration": 42,
             "learn": [
              0.2056675741
             ],
             "passed_time": 20.9646235,
             "remaining_time": 27.79031487,
             "test": [
              0.206392115
             ]
            },
            {
             "iteration": 43,
             "learn": [
              0.2008405242
             ],
             "passed_time": 21.44408361,
             "remaining_time": 27.29247005,
             "test": [
              0.2015674674
             ]
            },
            {
             "iteration": 44,
             "learn": [
              0.1963379685
             ],
             "passed_time": 21.919562,
             "remaining_time": 26.79057578,
             "test": [
              0.1969943549
             ]
            },
            {
             "iteration": 45,
             "learn": [
              0.1919908975
             ],
             "passed_time": 22.36939128,
             "remaining_time": 26.2597202,
             "test": [
              0.1924569297
             ]
            },
            {
             "iteration": 46,
             "learn": [
              0.1878231375
             ],
             "passed_time": 22.85415939,
             "remaining_time": 25.77171165,
             "test": [
              0.188162698
             ]
            },
            {
             "iteration": 47,
             "learn": [
              0.1837487827
             ],
             "passed_time": 23.31882853,
             "remaining_time": 25.26206425,
             "test": [
              0.1839897646
             ]
            },
            {
             "iteration": 48,
             "learn": [
              0.1798281919
             ],
             "passed_time": 23.76241513,
             "remaining_time": 24.73230962,
             "test": [
              0.1800022255
             ]
            },
            {
             "iteration": 49,
             "learn": [
              0.1762594773
             ],
             "passed_time": 24.19332352,
             "remaining_time": 24.19332352,
             "test": [
              0.1764493126
             ]
            },
            {
             "iteration": 50,
             "learn": [
              0.1728810412
             ],
             "passed_time": 24.62708933,
             "remaining_time": 23.66132113,
             "test": [
              0.1731738428
             ]
            },
            {
             "iteration": 51,
             "learn": [
              0.1693609435
             ],
             "passed_time": 25.08982752,
             "remaining_time": 23.15984079,
             "test": [
              0.1695021936
             ]
            },
            {
             "iteration": 52,
             "learn": [
              0.1660960353
             ],
             "passed_time": 25.5572321,
             "remaining_time": 22.66396054,
             "test": [
              0.166041894
             ]
            },
            {
             "iteration": 53,
             "learn": [
              0.1627504405
             ],
             "passed_time": 25.99727753,
             "remaining_time": 22.145829,
             "test": [
              0.162629803
             ]
            },
            {
             "iteration": 54,
             "learn": [
              0.1596219897
             ],
             "passed_time": 26.46671667,
             "remaining_time": 21.65458636,
             "test": [
              0.1593450253
             ]
            },
            {
             "iteration": 55,
             "learn": [
              0.1565948091
             ],
             "passed_time": 26.93024233,
             "remaining_time": 21.15947612,
             "test": [
              0.1562858748
             ]
            },
            {
             "iteration": 56,
             "learn": [
              0.1536315513
             ],
             "passed_time": 27.37025979,
             "remaining_time": 20.64773984,
             "test": [
              0.1531370625
             ]
            },
            {
             "iteration": 57,
             "learn": [
              0.1508372827
             ],
             "passed_time": 27.80696735,
             "remaining_time": 20.13607981,
             "test": [
              0.1503359268
             ]
            },
            {
             "iteration": 58,
             "learn": [
              0.148079236
             ],
             "passed_time": 28.23276067,
             "remaining_time": 19.61937606,
             "test": [
              0.1476879367
             ]
            },
            {
             "iteration": 59,
             "learn": [
              0.1453846358
             ],
             "passed_time": 28.70787431,
             "remaining_time": 19.13858287,
             "test": [
              0.1446961593
             ]
            },
            {
             "iteration": 60,
             "learn": [
              0.1427458982
             ],
             "passed_time": 29.20691129,
             "remaining_time": 18.67327115,
             "test": [
              0.1420361013
             ]
            },
            {
             "iteration": 61,
             "learn": [
              0.1401767108
             ],
             "passed_time": 29.6522203,
             "remaining_time": 18.17394147,
             "test": [
              0.1394266045
             ]
            },
            {
             "iteration": 62,
             "learn": [
              0.1377919443
             ],
             "passed_time": 30.14018341,
             "remaining_time": 17.70137756,
             "test": [
              0.1368283344
             ]
            },
            {
             "iteration": 63,
             "learn": [
              0.1354431781
             ],
             "passed_time": 30.60540526,
             "remaining_time": 17.21554046,
             "test": [
              0.1344977823
             ]
            },
            {
             "iteration": 64,
             "learn": [
              0.1329708067
             ],
             "passed_time": 31.05402948,
             "remaining_time": 16.72140049,
             "test": [
              0.1319007931
             ]
            },
            {
             "iteration": 65,
             "learn": [
              0.130798658
             ],
             "passed_time": 31.48937204,
             "remaining_time": 16.22179772,
             "test": [
              0.1297725624
             ]
            },
            {
             "iteration": 66,
             "learn": [
              0.1286293619
             ],
             "passed_time": 31.91814866,
             "remaining_time": 15.72087919,
             "test": [
              0.1275825525
             ]
            },
            {
             "iteration": 67,
             "learn": [
              0.1266268316
             ],
             "passed_time": 32.34924363,
             "remaining_time": 15.22317347,
             "test": [
              0.1255253947
             ]
            },
            {
             "iteration": 68,
             "learn": [
              0.1244105856
             ],
             "passed_time": 32.86451255,
             "remaining_time": 14.76521579,
             "test": [
              0.1232689656
             ]
            },
            {
             "iteration": 69,
             "learn": [
              0.1221104245
             ],
             "passed_time": 33.33151023,
             "remaining_time": 14.28493296,
             "test": [
              0.1209391573
             ]
            },
            {
             "iteration": 70,
             "learn": [
              0.1200683255
             ],
             "passed_time": 33.7938282,
             "remaining_time": 13.80311293,
             "test": [
              0.1188219701
             ]
            },
            {
             "iteration": 71,
             "learn": [
              0.1180059186
             ],
             "passed_time": 34.20899406,
             "remaining_time": 13.30349769,
             "test": [
              0.1168170962
             ]
            },
            {
             "iteration": 72,
             "learn": [
              0.1161236818
             ],
             "passed_time": 34.66827512,
             "remaining_time": 12.82251272,
             "test": [
              0.1150294785
             ]
            },
            {
             "iteration": 73,
             "learn": [
              0.1142845517
             ],
             "passed_time": 35.11164552,
             "remaining_time": 12.3365241,
             "test": [
              0.1131474007
             ]
            },
            {
             "iteration": 74,
             "learn": [
              0.1125139723
             ],
             "passed_time": 35.58841666,
             "remaining_time": 11.86280555,
             "test": [
              0.1113710624
             ]
            },
            {
             "iteration": 75,
             "learn": [
              0.1107251682
             ],
             "passed_time": 36.00425138,
             "remaining_time": 11.36976359,
             "test": [
              0.1095746492
             ]
            },
            {
             "iteration": 76,
             "learn": [
              0.1090740754
             ],
             "passed_time": 36.42843171,
             "remaining_time": 10.88121986,
             "test": [
              0.1079238247
             ]
            },
            {
             "iteration": 77,
             "learn": [
              0.1073652547
             ],
             "passed_time": 36.86726048,
             "remaining_time": 10.39845808,
             "test": [
              0.1061261599
             ]
            },
            {
             "iteration": 78,
             "learn": [
              0.1058869937
             ],
             "passed_time": 37.29687012,
             "remaining_time": 9.914357879,
             "test": [
              0.1046107688
             ]
            },
            {
             "iteration": 79,
             "learn": [
              0.1041171628
             ],
             "passed_time": 37.75461842,
             "remaining_time": 9.438654606,
             "test": [
              0.1027330868
             ]
            },
            {
             "iteration": 80,
             "learn": [
              0.1026220368
             ],
             "passed_time": 38.21719509,
             "remaining_time": 8.964527243,
             "test": [
              0.1012507082
             ]
            },
            {
             "iteration": 81,
             "learn": [
              0.1010780316
             ],
             "passed_time": 38.62647879,
             "remaining_time": 8.478983149,
             "test": [
              0.0995440503
             ]
            },
            {
             "iteration": 82,
             "learn": [
              0.09950449814
             ],
             "passed_time": 39.04681462,
             "remaining_time": 7.997540343,
             "test": [
              0.09796295053
             ]
            },
            {
             "iteration": 83,
             "learn": [
              0.09806840639
             ],
             "passed_time": 39.45397652,
             "remaining_time": 7.515043146,
             "test": [
              0.09639671825
             ]
            },
            {
             "iteration": 84,
             "learn": [
              0.09666318832
             ],
             "passed_time": 39.94238329,
             "remaining_time": 7.048655874,
             "test": [
              0.09495359273
             ]
            },
            {
             "iteration": 85,
             "learn": [
              0.09528466963
             ],
             "passed_time": 40.38475339,
             "remaining_time": 6.57426218,
             "test": [
              0.09359783773
             ]
            },
            {
             "iteration": 86,
             "learn": [
              0.09399933027
             ],
             "passed_time": 40.79887246,
             "remaining_time": 6.09638324,
             "test": [
              0.0923168614
             ]
            },
            {
             "iteration": 87,
             "learn": [
              0.09258143902
             ],
             "passed_time": 41.23872479,
             "remaining_time": 5.623462471,
             "test": [
              0.09082355489
             ]
            },
            {
             "iteration": 88,
             "learn": [
              0.09131524432
             ],
             "passed_time": 41.66152241,
             "remaining_time": 5.149176927,
             "test": [
              0.08952978905
             ]
            },
            {
             "iteration": 89,
             "learn": [
              0.09015461048
             ],
             "passed_time": 42.09548361,
             "remaining_time": 4.677275957,
             "test": [
              0.08837553016
             ]
            },
            {
             "iteration": 90,
             "learn": [
              0.08916211164
             ],
             "passed_time": 42.53200699,
             "remaining_time": 4.20646223,
             "test": [
              0.08746314593
             ]
            },
            {
             "iteration": 91,
             "learn": [
              0.08789492824
             ],
             "passed_time": 42.97506377,
             "remaining_time": 3.736962067,
             "test": [
              0.08614792051
             ]
            },
            {
             "iteration": 92,
             "learn": [
              0.08685620836
             ],
             "passed_time": 43.41539552,
             "remaining_time": 3.267825469,
             "test": [
              0.08518029067
             ]
            },
            {
             "iteration": 93,
             "learn": [
              0.08582165081
             ],
             "passed_time": 43.74569661,
             "remaining_time": 2.792278507,
             "test": [
              0.08437633482
             ]
            },
            {
             "iteration": 94,
             "learn": [
              0.08472975395
             ],
             "passed_time": 44.18871621,
             "remaining_time": 2.325721906,
             "test": [
              0.08329212841
             ]
            },
            {
             "iteration": 95,
             "learn": [
              0.0837084508
             ],
             "passed_time": 44.6393074,
             "remaining_time": 1.859971142,
             "test": [
              0.08216550731
             ]
            },
            {
             "iteration": 96,
             "learn": [
              0.08256015472
             ],
             "passed_time": 45.06069602,
             "remaining_time": 1.393629774,
             "test": [
              0.08100593086
             ]
            },
            {
             "iteration": 97,
             "learn": [
              0.08165865519
             ],
             "passed_time": 45.43965411,
             "remaining_time": 0.9273398798,
             "test": [
              0.0800947921
             ]
            },
            {
             "iteration": 98,
             "learn": [
              0.08049917512
             ],
             "passed_time": 45.92593097,
             "remaining_time": 0.4638982926,
             "test": [
              0.07896060283
             ]
            },
            {
             "iteration": 99,
             "learn": [
              0.07961122207
             ],
             "passed_time": 46.25104049,
             "remaining_time": 0,
             "test": [
              0.07826186758
             ]
            }
           ],
           "meta": {
            "iteration_count": 100,
            "launch_mode": "Train",
            "learn_metrics": [
             {
              "best_value": "Min",
              "name": "CrossEntropy"
             }
            ],
            "learn_sets": [
             "learn"
            ],
            "name": "experiment",
            "parameters": "",
            "test_metrics": [
             {
              "best_value": "Min",
              "name": "CrossEntropy"
             }
            ],
            "test_sets": [
             "test"
            ]
           }
          },
          "passed_iterations": 99,
          "total_iterations": 100
         },
         "name": "catboost_info",
         "path": "catboost_info"
        }
       },
       "layout": "IPY_MODEL_bcf27f3ebe4a45f88c19eeba8a5fc924"
      }
     },
     "802524fc95ca46baa337972832aea2d7": {
      "model_module": "catboost-widget",
      "model_module_version": "^1.0.0",
      "model_name": "CatboostWidgetModel",
      "state": {
       "_dom_classes": [],
       "_model_module": "catboost-widget",
       "_model_module_version": "^1.0.0",
       "_model_name": "CatboostWidgetModel",
       "_view_count": null,
       "_view_module": "catboost-widget",
       "_view_module_version": "^1.0.0",
       "_view_name": "CatboostWidgetView",
       "data": {
        "catboost_info": {
         "content": {
          "data": {
           "iterations": [
            {
             "iteration": 0,
             "learn": [
              0.6667939295
             ],
             "passed_time": 0.3572091028,
             "remaining_time": 35.36370118,
             "test": [
              0.6685081007
             ]
            },
            {
             "iteration": 1,
             "learn": [
              0.6455589382
             ],
             "passed_time": 0.7290342543,
             "remaining_time": 35.72267846,
             "test": [
              0.6451418451
             ]
            },
            {
             "iteration": 2,
             "learn": [
              0.6211602651
             ],
             "passed_time": 1.073377492,
             "remaining_time": 34.70587224,
             "test": [
              0.6231894343
             ]
            },
            {
             "iteration": 3,
             "learn": [
              0.6014347006
             ],
             "passed_time": 1.414591706,
             "remaining_time": 33.95020094,
             "test": [
              0.6024369519
             ]
            },
            {
             "iteration": 4,
             "learn": [
              0.580706663
             ],
             "passed_time": 1.8084213,
             "remaining_time": 34.3600047,
             "test": [
              0.5827568516
             ]
            },
            {
             "iteration": 5,
             "learn": [
              0.5622360883
             ],
             "passed_time": 2.144463792,
             "remaining_time": 33.59659941,
             "test": [
              0.5643040367
             ]
            },
            {
             "iteration": 6,
             "learn": [
              0.5448063267
             ],
             "passed_time": 2.488428655,
             "remaining_time": 33.06055213,
             "test": [
              0.5466370793
             ]
            },
            {
             "iteration": 7,
             "learn": [
              0.5270353014
             ],
             "passed_time": 2.836852283,
             "remaining_time": 32.62380125,
             "test": [
              0.5298691431
             ]
            },
            {
             "iteration": 8,
             "learn": [
              0.5112945966
             ],
             "passed_time": 3.212699937,
             "remaining_time": 32.48396603,
             "test": [
              0.5139529711
             ]
            },
            {
             "iteration": 9,
             "learn": [
              0.4953941574
             ],
             "passed_time": 3.559830029,
             "remaining_time": 32.03847026,
             "test": [
              0.4987744015
             ]
            },
            {
             "iteration": 10,
             "learn": [
              0.4806421507
             ],
             "passed_time": 3.935299686,
             "remaining_time": 31.840152,
             "test": [
              0.4846069984
             ]
            },
            {
             "iteration": 11,
             "learn": [
              0.4666398487
             ],
             "passed_time": 4.322073519,
             "remaining_time": 31.69520581,
             "test": [
              0.4707410374
             ]
            },
            {
             "iteration": 12,
             "learn": [
              0.4534767272
             ],
             "passed_time": 4.705528619,
             "remaining_time": 31.49084537,
             "test": [
              0.4582024702
             ]
            },
            {
             "iteration": 13,
             "learn": [
              0.4415061714
             ],
             "passed_time": 5.012603923,
             "remaining_time": 30.79170981,
             "test": [
              0.4459453989
             ]
            },
            {
             "iteration": 14,
             "learn": [
              0.4292474329
             ],
             "passed_time": 5.392933054,
             "remaining_time": 30.55995397,
             "test": [
              0.4345060844
             ]
            },
            {
             "iteration": 15,
             "learn": [
              0.4177349581
             ],
             "passed_time": 5.761363613,
             "remaining_time": 30.24715897,
             "test": [
              0.4231035664
             ]
            },
            {
             "iteration": 16,
             "learn": [
              0.4063904246
             ],
             "passed_time": 6.108423657,
             "remaining_time": 29.82348021,
             "test": [
              0.4122082741
             ]
            },
            {
             "iteration": 17,
             "learn": [
              0.3958375466
             ],
             "passed_time": 6.465103214,
             "remaining_time": 29.45213686,
             "test": [
              0.4020376289
             ]
            },
            {
             "iteration": 18,
             "learn": [
              0.3855692847
             ],
             "passed_time": 6.878203768,
             "remaining_time": 29.32286869,
             "test": [
              0.3918947177
             ]
            },
            {
             "iteration": 19,
             "learn": [
              0.3756172215
             ],
             "passed_time": 7.258992391,
             "remaining_time": 29.03596957,
             "test": [
              0.3823834988
             ]
            },
            {
             "iteration": 20,
             "learn": [
              0.3662032842
             ],
             "passed_time": 7.619949632,
             "remaining_time": 28.66552481,
             "test": [
              0.3730677562
             ]
            },
            {
             "iteration": 21,
             "learn": [
              0.3573009869
             ],
             "passed_time": 7.970376235,
             "remaining_time": 28.25860665,
             "test": [
              0.3642713553
             ]
            },
            {
             "iteration": 22,
             "learn": [
              0.3483384315
             ],
             "passed_time": 8.353529087,
             "remaining_time": 27.9661626,
             "test": [
              0.3561245436
             ]
            },
            {
             "iteration": 23,
             "learn": [
              0.3401441407
             ],
             "passed_time": 8.690125341,
             "remaining_time": 27.51873025,
             "test": [
              0.3481082409
             ]
            },
            {
             "iteration": 24,
             "learn": [
              0.3323551956
             ],
             "passed_time": 9.047826699,
             "remaining_time": 27.1434801,
             "test": [
              0.3402423378
             ]
            },
            {
             "iteration": 25,
             "learn": [
              0.3243156977
             ],
             "passed_time": 9.407893054,
             "remaining_time": 26.776311,
             "test": [
              0.3329436228
             ]
            },
            {
             "iteration": 26,
             "learn": [
              0.3169754219
             ],
             "passed_time": 9.773345427,
             "remaining_time": 26.42423023,
             "test": [
              0.325877065
             ]
            },
            {
             "iteration": 27,
             "learn": [
              0.3098275299
             ],
             "passed_time": 10.1137822,
             "remaining_time": 26.00686851,
             "test": [
              0.3189803127
             ]
            },
            {
             "iteration": 28,
             "learn": [
              0.3030471622
             ],
             "passed_time": 10.50977125,
             "remaining_time": 25.73081926,
             "test": [
              0.3125300031
             ]
            },
            {
             "iteration": 29,
             "learn": [
              0.2964375466
             ],
             "passed_time": 10.82675112,
             "remaining_time": 25.26241928,
             "test": [
              0.3060870715
             ]
            },
            {
             "iteration": 30,
             "learn": [
              0.2898112054
             ],
             "passed_time": 11.19091735,
             "remaining_time": 24.90881604,
             "test": [
              0.2997985301
             ]
            },
            {
             "iteration": 31,
             "learn": [
              0.2835649978
             ],
             "passed_time": 11.6225533,
             "remaining_time": 24.69792577,
             "test": [
              0.2937800931
             ]
            },
            {
             "iteration": 32,
             "learn": [
              0.2777339629
             ],
             "passed_time": 12.0000937,
             "remaining_time": 24.36382661,
             "test": [
              0.2879692441
             ]
            },
            {
             "iteration": 33,
             "learn": [
              0.2719731798
             ],
             "passed_time": 12.33789891,
             "remaining_time": 23.95003905,
             "test": [
              0.2824549499
             ]
            },
            {
             "iteration": 34,
             "learn": [
              0.2662816539
             ],
             "passed_time": 12.66844315,
             "remaining_time": 23.5271087,
             "test": [
              0.2771693318
             ]
            },
            {
             "iteration": 35,
             "learn": [
              0.2607919269
             ],
             "passed_time": 12.99169328,
             "remaining_time": 23.0963436,
             "test": [
              0.271849613
             ]
            },
            {
             "iteration": 36,
             "learn": [
              0.2553431577
             ],
             "passed_time": 13.32760407,
             "remaining_time": 22.69294747,
             "test": [
              0.2666568974
             ]
            },
            {
             "iteration": 37,
             "learn": [
              0.2503716099
             ],
             "passed_time": 13.67499767,
             "remaining_time": 22.3118383,
             "test": [
              0.261723276
             ]
            },
            {
             "iteration": 38,
             "learn": [
              0.2455226286
             ],
             "passed_time": 14.05544749,
             "remaining_time": 21.98416145,
             "test": [
              0.2574267192
             ]
            },
            {
             "iteration": 39,
             "learn": [
              0.2407577867
             ],
             "passed_time": 14.45459775,
             "remaining_time": 21.68189663,
             "test": [
              0.2528465624
             ]
            },
            {
             "iteration": 40,
             "learn": [
              0.2362377805
             ],
             "passed_time": 14.8697604,
             "remaining_time": 21.39794789,
             "test": [
              0.248558945
             ]
            },
            {
             "iteration": 41,
             "learn": [
              0.2322095409
             ],
             "passed_time": 15.23516638,
             "remaining_time": 21.03903929,
             "test": [
              0.245067934
             ]
            },
            {
             "iteration": 42,
             "learn": [
              0.2276298362
             ],
             "passed_time": 15.60603675,
             "remaining_time": 20.68707197,
             "test": [
              0.2407790325
             ]
            },
            {
             "iteration": 43,
             "learn": [
              0.2237444605
             ],
             "passed_time": 15.94677324,
             "remaining_time": 20.29589322,
             "test": [
              0.2368587972
             ]
            },
            {
             "iteration": 44,
             "learn": [
              0.2190796877
             ],
             "passed_time": 16.36043456,
             "remaining_time": 19.99608669,
             "test": [
              0.2324423798
             ]
            },
            {
             "iteration": 45,
             "learn": [
              0.2153663776
             ],
             "passed_time": 16.70125118,
             "remaining_time": 19.6058166,
             "test": [
              0.2291518591
             ]
            },
            {
             "iteration": 46,
             "learn": [
              0.2109556775
             ],
             "passed_time": 17.09990011,
             "remaining_time": 19.28286609,
             "test": [
              0.2250059491
             ]
            },
            {
             "iteration": 47,
             "learn": [
              0.2074958091
             ],
             "passed_time": 17.4237995,
             "remaining_time": 18.87578279,
             "test": [
              0.2219055035
             ]
            },
            {
             "iteration": 48,
             "learn": [
              0.2040255528
             ],
             "passed_time": 17.86431114,
             "remaining_time": 18.5934667,
             "test": [
              0.2187874572
             ]
            },
            {
             "iteration": 49,
             "learn": [
              0.2005383017
             ],
             "passed_time": 18.21446255,
             "remaining_time": 18.21446255,
             "test": [
              0.2155839708
             ]
            },
            {
             "iteration": 50,
             "learn": [
              0.1970777031
             ],
             "passed_time": 18.59549575,
             "remaining_time": 17.86626063,
             "test": [
              0.2121678225
             ]
            },
            {
             "iteration": 51,
             "learn": [
              0.1936131174
             ],
             "passed_time": 18.97525053,
             "remaining_time": 17.51561587,
             "test": [
              0.208992108
             ]
            },
            {
             "iteration": 52,
             "learn": [
              0.1907820714
             ],
             "passed_time": 19.2865025,
             "remaining_time": 17.10312486,
             "test": [
              0.2063914044
             ]
            },
            {
             "iteration": 53,
             "learn": [
              0.1878661552
             ],
             "passed_time": 19.65173633,
             "remaining_time": 16.74036798,
             "test": [
              0.2036872756
             ]
            },
            {
             "iteration": 54,
             "learn": [
              0.1845786832
             ],
             "passed_time": 20.05575488,
             "remaining_time": 16.409254,
             "test": [
              0.2005076702
             ]
            },
            {
             "iteration": 55,
             "learn": [
              0.1813416623
             ],
             "passed_time": 20.45420082,
             "remaining_time": 16.07115779,
             "test": [
              0.1972101983
             ]
            },
            {
             "iteration": 56,
             "learn": [
              0.1786591488
             ],
             "passed_time": 20.82229414,
             "remaining_time": 15.70804645,
             "test": [
              0.1949906963
             ]
            },
            {
             "iteration": 57,
             "learn": [
              0.1755534666
             ],
             "passed_time": 21.20819813,
             "remaining_time": 15.35766071,
             "test": [
              0.1922807622
             ]
            },
            {
             "iteration": 58,
             "learn": [
              0.1733168325
             ],
             "passed_time": 21.4975907,
             "remaining_time": 14.93900371,
             "test": [
              0.1903783899
             ]
            },
            {
             "iteration": 59,
             "learn": [
              0.1708662111
             ],
             "passed_time": 21.85771394,
             "remaining_time": 14.57180929,
             "test": [
              0.1881409262
             ]
            },
            {
             "iteration": 60,
             "learn": [
              0.1681465943
             ],
             "passed_time": 22.2560881,
             "remaining_time": 14.22930223,
             "test": [
              0.1855525963
             ]
            },
            {
             "iteration": 61,
             "learn": [
              0.165901919
             ],
             "passed_time": 22.56873122,
             "remaining_time": 13.83244816,
             "test": [
              0.183590255
             ]
            },
            {
             "iteration": 62,
             "learn": [
              0.1635817592
             ],
             "passed_time": 22.90830578,
             "remaining_time": 13.45408435,
             "test": [
              0.1815921749
             ]
            },
            {
             "iteration": 63,
             "learn": [
              0.1611039869
             ],
             "passed_time": 23.26868571,
             "remaining_time": 13.08863571,
             "test": [
              0.1793903339
             ]
            },
            {
             "iteration": 64,
             "learn": [
              0.1586182532
             ],
             "passed_time": 23.67604803,
             "remaining_time": 12.74864124,
             "test": [
              0.1770060141
             ]
            },
            {
             "iteration": 65,
             "learn": [
              0.1560463457
             ],
             "passed_time": 24.14280589,
             "remaining_time": 12.43720303,
             "test": [
              0.1745068687
             ]
            },
            {
             "iteration": 66,
             "learn": [
              0.1539617521
             ],
             "passed_time": 24.4791064,
             "remaining_time": 12.0568733,
             "test": [
              0.1726591799
             ]
            },
            {
             "iteration": 67,
             "learn": [
              0.1521367123
             ],
             "passed_time": 24.78742857,
             "remaining_time": 11.66467227,
             "test": [
              0.1709987698
             ]
            },
            {
             "iteration": 68,
             "learn": [
              0.1497971583
             ],
             "passed_time": 25.21064971,
             "remaining_time": 11.32652378,
             "test": [
              0.1687749497
             ]
            },
            {
             "iteration": 69,
             "learn": [
              0.1480764468
             ],
             "passed_time": 25.50682917,
             "remaining_time": 10.93149822,
             "test": [
              0.1672566416
             ]
            },
            {
             "iteration": 70,
             "learn": [
              0.1461987817
             ],
             "passed_time": 25.99320294,
             "remaining_time": 10.61694205,
             "test": [
              0.1656182455
             ]
            },
            {
             "iteration": 71,
             "learn": [
              0.1438018488
             ],
             "passed_time": 26.63066563,
             "remaining_time": 10.35636997,
             "test": [
              0.1633316743
             ]
            },
            {
             "iteration": 72,
             "learn": [
              0.1420198925
             ],
             "passed_time": 27.11684578,
             "remaining_time": 10.0295183,
             "test": [
              0.1617756148
             ]
            },
            {
             "iteration": 73,
             "learn": [
              0.1400862636
             ],
             "passed_time": 27.44344043,
             "remaining_time": 9.64228988,
             "test": [
              0.1599124702
             ]
            },
            {
             "iteration": 74,
             "learn": [
              0.138292473
             ],
             "passed_time": 27.79286984,
             "remaining_time": 9.264289945,
             "test": [
              0.1583178197
             ]
            },
            {
             "iteration": 75,
             "learn": [
              0.1367178287
             ],
             "passed_time": 28.1280292,
             "remaining_time": 8.882535536,
             "test": [
              0.1569343842
             ]
            },
            {
             "iteration": 76,
             "learn": [
              0.1350683298
             ],
             "passed_time": 28.51786412,
             "remaining_time": 8.518323048,
             "test": [
              0.1555550479
             ]
            },
            {
             "iteration": 77,
             "learn": [
              0.1338935704
             ],
             "passed_time": 28.85087217,
             "remaining_time": 8.137425484,
             "test": [
              0.1545939043
             ]
            },
            {
             "iteration": 78,
             "learn": [
              0.1321421982
             ],
             "passed_time": 29.22669213,
             "remaining_time": 7.769120694,
             "test": [
              0.1525725567
             ]
            },
            {
             "iteration": 79,
             "learn": [
              0.1307578054
             ],
             "passed_time": 29.58335783,
             "remaining_time": 7.395839458,
             "test": [
              0.1512375848
             ]
            },
            {
             "iteration": 80,
             "learn": [
              0.1289660275
             ],
             "passed_time": 29.9555692,
             "remaining_time": 7.026614997,
             "test": [
              0.1498063716
             ]
            },
            {
             "iteration": 81,
             "learn": [
              0.127051626
             ],
             "passed_time": 30.40846974,
             "remaining_time": 6.675029944,
             "test": [
              0.1479347684
             ]
            },
            {
             "iteration": 82,
             "learn": [
              0.1257338023
             ],
             "passed_time": 30.78865201,
             "remaining_time": 6.306109448,
             "test": [
              0.1467998481
             ]
            },
            {
             "iteration": 83,
             "learn": [
              0.1239593051
             ],
             "passed_time": 31.19909376,
             "remaining_time": 5.942684525,
             "test": [
              0.1448496058
             ]
            },
            {
             "iteration": 84,
             "learn": [
              0.1227921427
             ],
             "passed_time": 31.53244599,
             "remaining_time": 5.564549293,
             "test": [
              0.1437606157
             ]
            },
            {
             "iteration": 85,
             "learn": [
              0.1210399211
             ],
             "passed_time": 32.00687332,
             "remaining_time": 5.210421239,
             "test": [
              0.1420021805
             ]
            },
            {
             "iteration": 86,
             "learn": [
              0.120062626
             ],
             "passed_time": 32.33418442,
             "remaining_time": 4.831544799,
             "test": [
              0.1410902563
             ]
            },
            {
             "iteration": 87,
             "learn": [
              0.1188993928
             ],
             "passed_time": 32.7069922,
             "remaining_time": 4.460044391,
             "test": [
              0.1402481627
             ]
            },
            {
             "iteration": 88,
             "learn": [
              0.1173750523
             ],
             "passed_time": 33.12140771,
             "remaining_time": 4.093657133,
             "test": [
              0.1385339858
             ]
            },
            {
             "iteration": 89,
             "learn": [
              0.1158089989
             ],
             "passed_time": 33.57144154,
             "remaining_time": 3.730160171,
             "test": [
              0.1371770645
             ]
            },
            {
             "iteration": 90,
             "learn": [
              0.1144329709
             ],
             "passed_time": 33.99965904,
             "remaining_time": 3.362603642,
             "test": [
              0.1359968039
             ]
            },
            {
             "iteration": 91,
             "learn": [
              0.1136518541
             ],
             "passed_time": 34.32819286,
             "remaining_time": 2.985060248,
             "test": [
              0.1350899392
             ]
            },
            {
             "iteration": 92,
             "learn": [
              0.1126737697
             ],
             "passed_time": 34.64220056,
             "remaining_time": 2.607477461,
             "test": [
              0.1342297104
             ]
            },
            {
             "iteration": 93,
             "learn": [
              0.1112135271
             ],
             "passed_time": 35.06032397,
             "remaining_time": 2.23789302,
             "test": [
              0.1325558926
             ]
            },
            {
             "iteration": 94,
             "learn": [
              0.1102098184
             ],
             "passed_time": 35.40655402,
             "remaining_time": 1.863502843,
             "test": [
              0.1317319462
             ]
            },
            {
             "iteration": 95,
             "learn": [
              0.1093712172
             ],
             "passed_time": 35.75558138,
             "remaining_time": 1.489815891,
             "test": [
              0.1310703345
             ]
            },
            {
             "iteration": 96,
             "learn": [
              0.1083229222
             ],
             "passed_time": 36.12908334,
             "remaining_time": 1.11739433,
             "test": [
              0.1300908718
             ]
            },
            {
             "iteration": 97,
             "learn": [
              0.1072671623
             ],
             "passed_time": 36.52632302,
             "remaining_time": 0.7454351637,
             "test": [
              0.129102465
             ]
            },
            {
             "iteration": 98,
             "learn": [
              0.106244043
             ],
             "passed_time": 36.95230573,
             "remaining_time": 0.3732556135,
             "test": [
              0.1282378428
             ]
            },
            {
             "iteration": 99,
             "learn": [
              0.1051470107
             ],
             "passed_time": 37.38434814,
             "remaining_time": 0,
             "test": [
              0.127272383
             ]
            }
           ],
           "meta": {
            "iteration_count": 100,
            "launch_mode": "Train",
            "learn_metrics": [
             {
              "best_value": "Min",
              "name": "CrossEntropy"
             }
            ],
            "learn_sets": [
             "learn"
            ],
            "name": "experiment",
            "parameters": "",
            "test_metrics": [
             {
              "best_value": "Min",
              "name": "CrossEntropy"
             }
            ],
            "test_sets": [
             "test"
            ]
           }
          },
          "passed_iterations": 99,
          "total_iterations": 100
         },
         "name": "catboost_info",
         "path": "catboost_info"
        }
       },
       "layout": "IPY_MODEL_5f25f7c6b97f4b4bbc25a4f1da00e1ff"
      }
     },
     "807af33ddc0f4c1ab415561f5beca5a9": {
      "model_module": "@jupyter-widgets/base",
      "model_module_version": "1.2.0",
      "model_name": "LayoutModel",
      "state": {
       "_model_module": "@jupyter-widgets/base",
       "_model_module_version": "1.2.0",
       "_model_name": "LayoutModel",
       "_view_count": null,
       "_view_module": "@jupyter-widgets/base",
       "_view_module_version": "1.2.0",
       "_view_name": "LayoutView",
       "align_content": null,
       "align_items": null,
       "align_self": "stretch",
       "border": null,
       "bottom": null,
       "display": null,
       "flex": null,
       "flex_flow": null,
       "grid_area": null,
       "grid_auto_columns": null,
       "grid_auto_flow": null,
       "grid_auto_rows": null,
       "grid_column": null,
       "grid_gap": null,
       "grid_row": null,
       "grid_template_areas": null,
       "grid_template_columns": null,
       "grid_template_rows": null,
       "height": "500px",
       "justify_content": null,
       "justify_items": null,
       "left": null,
       "margin": null,
       "max_height": null,
       "max_width": null,
       "min_height": null,
       "min_width": null,
       "object_fit": null,
       "object_position": null,
       "order": null,
       "overflow": null,
       "overflow_x": null,
       "overflow_y": null,
       "padding": null,
       "right": null,
       "top": null,
       "visibility": null,
       "width": null
      }
     },
     "8a02849f861146fdb467e037f0499901": {
      "model_module": "catboost-widget",
      "model_module_version": "^1.0.0",
      "model_name": "CatboostWidgetModel",
      "state": {
       "_dom_classes": [],
       "_model_module": "catboost-widget",
       "_model_module_version": "^1.0.0",
       "_model_name": "CatboostWidgetModel",
       "_view_count": null,
       "_view_module": "catboost-widget",
       "_view_module_version": "^1.0.0",
       "_view_name": "CatboostWidgetView",
       "data": {
        "catboost_info": {
         "content": {
          "data": {
           "iterations": [
            {
             "iteration": 0,
             "learn": [
              0.6613856916
             ],
             "passed_time": 0.3697707985,
             "remaining_time": 36.60730905,
             "test": [
              0.6636007267
             ]
            },
            {
             "iteration": 1,
             "learn": [
              0.6362983267
             ],
             "passed_time": 0.739908081,
             "remaining_time": 36.25549597,
             "test": [
              0.6357744309
             ]
            },
            {
             "iteration": 2,
             "learn": [
              0.6093824134
             ],
             "passed_time": 1.144947066,
             "remaining_time": 37.01995513,
             "test": [
              0.6095230813
             ]
            },
            {
             "iteration": 3,
             "learn": [
              0.5837241835
             ],
             "passed_time": 1.505252547,
             "remaining_time": 36.12606112,
             "test": [
              0.5847169567
             ]
            },
            {
             "iteration": 4,
             "learn": [
              0.5622008616
             ],
             "passed_time": 1.967102198,
             "remaining_time": 37.37494176,
             "test": [
              0.5612434332
             ]
            },
            {
             "iteration": 5,
             "learn": [
              0.5376811767
             ],
             "passed_time": 2.368046259,
             "remaining_time": 37.09939139,
             "test": [
              0.5389993537
             ]
            },
            {
             "iteration": 6,
             "learn": [
              0.5168955392
             ],
             "passed_time": 2.828350488,
             "remaining_time": 37.57665648,
             "test": [
              0.5178961534
             ]
            },
            {
             "iteration": 7,
             "learn": [
              0.498697586
             ],
             "passed_time": 3.196222198,
             "remaining_time": 36.75655528,
             "test": [
              0.497849181
             ]
            },
            {
             "iteration": 8,
             "learn": [
              0.4785413633
             ],
             "passed_time": 3.565421599,
             "remaining_time": 36.05037394,
             "test": [
              0.4787860173
             ]
            },
            {
             "iteration": 9,
             "learn": [
              0.4605986342
             ],
             "passed_time": 3.943760249,
             "remaining_time": 35.49384224,
             "test": [
              0.4606406394
             ]
            },
            {
             "iteration": 10,
             "learn": [
              0.4438753511
             ],
             "passed_time": 4.331376857,
             "remaining_time": 35.04477639,
             "test": [
              0.443353136
             ]
            },
            {
             "iteration": 11,
             "learn": [
              0.4280724164
             ],
             "passed_time": 4.713999701,
             "remaining_time": 34.56933114,
             "test": [
              0.4268678366
             ]
            },
            {
             "iteration": 12,
             "learn": [
              0.412176214
             ],
             "passed_time": 5.108340655,
             "remaining_time": 34.18658746,
             "test": [
              0.4111356346
             ]
            },
            {
             "iteration": 13,
             "learn": [
              0.3968003113
             ],
             "passed_time": 5.559123581,
             "remaining_time": 34.148902,
             "test": [
              0.3961095909
             ]
            },
            {
             "iteration": 14,
             "learn": [
              0.3824191008
             ],
             "passed_time": 5.976960466,
             "remaining_time": 33.86944264,
             "test": [
              0.3817483339
             ]
            },
            {
             "iteration": 15,
             "learn": [
              0.3673602389
             ],
             "passed_time": 6.476608101,
             "remaining_time": 34.00219253,
             "test": [
              0.3680147221
             ]
            },
            {
             "iteration": 16,
             "learn": [
              0.3539117264
             ],
             "passed_time": 6.926212093,
             "remaining_time": 33.81621198,
             "test": [
              0.3548709194
             ]
            },
            {
             "iteration": 17,
             "learn": [
              0.3432118232
             ],
             "passed_time": 7.277561017,
             "remaining_time": 33.15333352,
             "test": [
              0.3422837435
             ]
            },
            {
             "iteration": 18,
             "learn": [
              0.3301181081
             ],
             "passed_time": 7.676931979,
             "remaining_time": 32.72797317,
             "test": [
              0.3302236439
             ]
            },
            {
             "iteration": 19,
             "learn": [
              0.3197071885
             ],
             "passed_time": 8.136753451,
             "remaining_time": 32.5470138,
             "test": [
              0.3186635503
             ]
            },
            {
             "iteration": 20,
             "learn": [
              0.3070061788
             ],
             "passed_time": 8.588289471,
             "remaining_time": 32.30832706,
             "test": [
              0.3075754634
             ]
            },
            {
             "iteration": 21,
             "learn": [
              0.2969178991
             ],
             "passed_time": 8.989504633,
             "remaining_time": 31.87188006,
             "test": [
              0.2969356736
             ]
            },
            {
             "iteration": 22,
             "learn": [
              0.2868075507
             ],
             "passed_time": 9.408860642,
             "remaining_time": 31.49922911,
             "test": [
              0.2867213543
             ]
            },
            {
             "iteration": 23,
             "learn": [
              0.2765495401
             ],
             "passed_time": 9.872818969,
             "remaining_time": 31.26392673,
             "test": [
              0.2769105672
             ]
            },
            {
             "iteration": 24,
             "learn": [
              0.2665124389
             ],
             "passed_time": 10.25952496,
             "remaining_time": 30.77857489,
             "test": [
              0.2674836232
             ]
            },
            {
             "iteration": 25,
             "learn": [
              0.2580215625
             ],
             "passed_time": 10.63749202,
             "remaining_time": 30.27593882,
             "test": [
              0.2584219338
             ]
            },
            {
             "iteration": 26,
             "learn": [
              0.2500060945
             ],
             "passed_time": 11.03529536,
             "remaining_time": 29.83616895,
             "test": [
              0.2497094742
             ]
            },
            {
             "iteration": 27,
             "learn": [
              0.242017119
             ],
             "passed_time": 11.40904512,
             "remaining_time": 29.33754458,
             "test": [
              0.2413285146
             ]
            },
            {
             "iteration": 28,
             "learn": [
              0.2337283366
             ],
             "passed_time": 11.87210396,
             "remaining_time": 29.06618556,
             "test": [
              0.2332650184
             ]
            },
            {
             "iteration": 29,
             "learn": [
              0.2259011742
             ],
             "passed_time": 12.3454963,
             "remaining_time": 28.80615803,
             "test": [
              0.225503696
             ]
            },
            {
             "iteration": 30,
             "learn": [
              0.2185719362
             ],
             "passed_time": 12.82079766,
             "remaining_time": 28.53661414,
             "test": [
              0.2180302398
             ]
            },
            {
             "iteration": 31,
             "learn": [
              0.2109806776
             ],
             "passed_time": 13.19406856,
             "remaining_time": 28.03739569,
             "test": [
              0.210832021
             ]
            },
            {
             "iteration": 32,
             "learn": [
              0.2034032503
             ],
             "passed_time": 13.68479462,
             "remaining_time": 27.78427999,
             "test": [
              0.2038972323
             ]
            },
            {
             "iteration": 33,
             "learn": [
              0.1965066431
             ],
             "passed_time": 14.12352941,
             "remaining_time": 27.41626297,
             "test": [
              0.1972145647
             ]
            },
            {
             "iteration": 34,
             "learn": [
              0.1912381363
             ],
             "passed_time": 14.57396744,
             "remaining_time": 27.06593954,
             "test": [
              0.1907734443
             ]
            },
            {
             "iteration": 35,
             "learn": [
              0.1839803715
             ],
             "passed_time": 14.93716443,
             "remaining_time": 26.55495898,
             "test": [
              0.1845635058
             ]
            },
            {
             "iteration": 36,
             "learn": [
              0.1788344024
             ],
             "passed_time": 15.33228154,
             "remaining_time": 26.10631721,
             "test": [
              0.178576067
             ]
            },
            {
             "iteration": 37,
             "learn": [
              0.172257021
             ],
             "passed_time": 15.70266586,
             "remaining_time": 25.62013903,
             "test": [
              0.1728000304
             ]
            },
            {
             "iteration": 38,
             "learn": [
              0.167727807
             ],
             "passed_time": 16.14955976,
             "remaining_time": 25.25956782,
             "test": [
              0.1672284302
             ]
            },
            {
             "iteration": 39,
             "learn": [
              0.1614905959
             ],
             "passed_time": 16.56696898,
             "remaining_time": 24.85045347,
             "test": [
              0.1618505881
             ]
            },
            {
             "iteration": 40,
             "learn": [
              0.1563898373
             ],
             "passed_time": 16.99153638,
             "remaining_time": 24.45123527,
             "test": [
              0.1566609004
             ]
            },
            {
             "iteration": 41,
             "learn": [
              0.1520789271
             ],
             "passed_time": 17.43253901,
             "remaining_time": 24.07350625,
             "test": [
              0.1516508236
             ]
            },
            {
             "iteration": 42,
             "learn": [
              0.1470744538
             ],
             "passed_time": 17.85730624,
             "remaining_time": 23.67131292,
             "test": [
              0.146813481
             ]
            },
            {
             "iteration": 43,
             "learn": [
              0.1419477589
             ],
             "passed_time": 18.27541649,
             "remaining_time": 23.25962099,
             "test": [
              0.1421419922
             ]
            },
            {
             "iteration": 44,
             "learn": [
              0.1371808684
             ],
             "passed_time": 18.71203554,
             "remaining_time": 22.87026566,
             "test": [
              0.1376297064
             ]
            },
            {
             "iteration": 45,
             "learn": [
              0.1329781097
             ],
             "passed_time": 19.16071478,
             "remaining_time": 22.493013,
             "test": [
              0.1332706437
             ]
            },
            {
             "iteration": 46,
             "learn": [
              0.1289858171
             ],
             "passed_time": 19.52615175,
             "remaining_time": 22.01885198,
             "test": [
              0.1290595334
             ]
            },
            {
             "iteration": 47,
             "learn": [
              0.1250611419
             ],
             "passed_time": 20.05259225,
             "remaining_time": 21.7236416,
             "test": [
              0.124990491
             ]
            },
            {
             "iteration": 48,
             "learn": [
              0.1211517142
             ],
             "passed_time": 20.48743276,
             "remaining_time": 21.3236545,
             "test": [
              0.1210580466
             ]
            },
            {
             "iteration": 49,
             "learn": [
              0.1172661665
             ],
             "passed_time": 20.83231969,
             "remaining_time": 20.83231969,
             "test": [
              0.1172564723
             ]
            },
            {
             "iteration": 50,
             "learn": [
              0.1134004043
             ],
             "passed_time": 21.24813991,
             "remaining_time": 20.41487952,
             "test": [
              0.1135821134
             ]
            },
            {
             "iteration": 51,
             "learn": [
              0.1098292888
             ],
             "passed_time": 21.58391192,
             "remaining_time": 19.92361101,
             "test": [
              0.110028406
             ]
            },
            {
             "iteration": 52,
             "learn": [
              0.1070014826
             ],
             "passed_time": 21.92121872,
             "remaining_time": 19.43957132,
             "test": [
              0.1065926328
             ]
            },
            {
             "iteration": 53,
             "learn": [
              0.1034830923
             ],
             "passed_time": 22.26515977,
             "remaining_time": 18.96661758,
             "test": [
              0.1032697171
             ]
            },
            {
             "iteration": 54,
             "learn": [
              0.09981240115
             ],
             "passed_time": 22.7247172,
             "remaining_time": 18.59295044,
             "test": [
              0.1000567009
             ]
            },
            {
             "iteration": 55,
             "learn": [
              0.09721779582
             ],
             "passed_time": 23.14177861,
             "remaining_time": 18.18282605,
             "test": [
              0.096948751
             ]
            },
            {
             "iteration": 56,
             "learn": [
              0.09384658856
             ],
             "passed_time": 23.59564946,
             "remaining_time": 17.80022678,
             "test": [
              0.09394171573
             ]
            },
            {
             "iteration": 57,
             "learn": [
              0.09130417599
             ],
             "passed_time": 24.18827758,
             "remaining_time": 17.51564928,
             "test": [
              0.09103382445
             ]
            },
            {
             "iteration": 58,
             "learn": [
              0.08803748877
             ],
             "passed_time": 24.75594205,
             "remaining_time": 17.20328177,
             "test": [
              0.08821897888
             ]
            },
            {
             "iteration": 59,
             "learn": [
              0.08557626517
             ],
             "passed_time": 25.24184618,
             "remaining_time": 16.82789746,
             "test": [
              0.08549525419
             ]
            },
            {
             "iteration": 60,
             "learn": [
              0.08267876412
             ],
             "passed_time": 25.66853864,
             "remaining_time": 16.4110329,
             "test": [
              0.08285901716
             ]
            },
            {
             "iteration": 61,
             "learn": [
              0.08019031238
             ],
             "passed_time": 26.08546908,
             "remaining_time": 15.98786815,
             "test": [
              0.08030760004
             ]
            },
            {
             "iteration": 62,
             "learn": [
              0.07805812919
             ],
             "passed_time": 26.49062091,
             "remaining_time": 15.55798371,
             "test": [
              0.07783805747
             ]
            },
            {
             "iteration": 63,
             "learn": [
              0.07558744866
             ],
             "passed_time": 26.89080425,
             "remaining_time": 15.12607739,
             "test": [
              0.07544754262
             ]
            },
            {
             "iteration": 64,
             "learn": [
              0.07306105464
             ],
             "passed_time": 27.39767156,
             "remaining_time": 14.75259238,
             "test": [
              0.0731334537
             ]
            },
            {
             "iteration": 65,
             "learn": [
              0.0707200062
             ],
             "passed_time": 27.82460886,
             "remaining_time": 14.33388941,
             "test": [
              0.07089331559
             ]
            },
            {
             "iteration": 66,
             "learn": [
              0.06858005508
             ],
             "passed_time": 28.2651012,
             "remaining_time": 13.92161701,
             "test": [
              0.06872345856
             ]
            },
            {
             "iteration": 67,
             "learn": [
              0.06652928944
             ],
             "passed_time": 28.63132292,
             "remaining_time": 13.47356373,
             "test": [
              0.06662253055
             ]
            },
            {
             "iteration": 68,
             "learn": [
              0.06455873341
             ],
             "passed_time": 29.0444337,
             "remaining_time": 13.04894847,
             "test": [
              0.06458822733
             ]
            },
            {
             "iteration": 69,
             "learn": [
              0.06260417564
             ],
             "passed_time": 29.36402019,
             "remaining_time": 12.58458008,
             "test": [
              0.06261810739
             ]
            },
            {
             "iteration": 70,
             "learn": [
              0.06065702145
             ],
             "passed_time": 29.72826604,
             "remaining_time": 12.1425312,
             "test": [
              0.06070943669
             ]
            },
            {
             "iteration": 71,
             "learn": [
              0.05875296568
             ],
             "passed_time": 30.11293961,
             "remaining_time": 11.71058763,
             "test": [
              0.05886104094
             ]
            },
            {
             "iteration": 72,
             "learn": [
              0.05694975271
             ],
             "passed_time": 30.51629265,
             "remaining_time": 11.28684797,
             "test": [
              0.0570706343
             ]
            },
            {
             "iteration": 73,
             "learn": [
              0.05552698054
             ],
             "passed_time": 30.96337373,
             "remaining_time": 10.8790232,
             "test": [
              0.05533655769
             ]
            },
            {
             "iteration": 74,
             "learn": [
              0.05377432624
             ],
             "passed_time": 31.41741948,
             "remaining_time": 10.47247316,
             "test": [
              0.05365684085
             ]
            },
            {
             "iteration": 75,
             "learn": [
              0.05192854906
             ],
             "passed_time": 31.83378807,
             "remaining_time": 10.05277518,
             "test": [
              0.05202917541
             ]
            },
            {
             "iteration": 76,
             "learn": [
              0.05063060723
             ],
             "passed_time": 32.33445606,
             "remaining_time": 9.658344017,
             "test": [
              0.05045261669
             ]
            },
            {
             "iteration": 77,
             "learn": [
              0.04893676295
             ],
             "passed_time": 32.75653324,
             "remaining_time": 9.239022197,
             "test": [
              0.04892424469
             ]
            },
            {
             "iteration": 78,
             "learn": [
              0.04746947263
             ],
             "passed_time": 33.15541873,
             "remaining_time": 8.813465738,
             "test": [
              0.04744346767
             ]
            },
            {
             "iteration": 79,
             "learn": [
              0.04600981553
             ],
             "passed_time": 33.55360564,
             "remaining_time": 8.388401411,
             "test": [
              0.04600916967
             ]
            },
            {
             "iteration": 80,
             "learn": [
              0.04475716077
             ],
             "passed_time": 33.91587959,
             "remaining_time": 7.955576695,
             "test": [
              0.04461931104
             ]
            },
            {
             "iteration": 81,
             "learn": [
              0.04319001416
             ],
             "passed_time": 34.28067739,
             "remaining_time": 7.525026745,
             "test": [
              0.0432719664
             ]
            },
            {
             "iteration": 82,
             "learn": [
              0.04207274369
             ],
             "passed_time": 34.64493918,
             "remaining_time": 7.095951397,
             "test": [
              0.04196659255
             ]
            },
            {
             "iteration": 83,
             "learn": [
              0.04082353616
             ],
             "passed_time": 35.00503251,
             "remaining_time": 6.66762524,
             "test": [
              0.0407014572
             ]
            },
            {
             "iteration": 84,
             "learn": [
              0.03945997939
             ],
             "passed_time": 35.38953039,
             "remaining_time": 6.245211246,
             "test": [
              0.03947516148
             ]
            },
            {
             "iteration": 85,
             "learn": [
              0.03824934621
             ],
             "passed_time": 35.86501051,
             "remaining_time": 5.838490082,
             "test": [
              0.03828679063
             ]
            },
            {
             "iteration": 86,
             "learn": [
              0.03721494551
             ],
             "passed_time": 36.20834315,
             "remaining_time": 5.410442079,
             "test": [
              0.03713505163
             ]
            },
            {
             "iteration": 87,
             "learn": [
              0.03616535171
             ],
             "passed_time": 36.64126136,
             "remaining_time": 4.99653564,
             "test": [
              0.03601900429
             ]
            },
            {
             "iteration": 88,
             "learn": [
              0.03499426067
             ],
             "passed_time": 37.03280441,
             "remaining_time": 4.577088185,
             "test": [
              0.03493628601
             ]
            },
            {
             "iteration": 89,
             "learn": [
              0.03395071495
             ],
             "passed_time": 37.48121795,
             "remaining_time": 4.164579772,
             "test": [
              0.03388670375
             ]
            },
            {
             "iteration": 90,
             "learn": [
              0.03293724414
             ],
             "passed_time": 37.84655676,
             "remaining_time": 3.743066053,
             "test": [
              0.03286928717
             ]
            },
            {
             "iteration": 91,
             "learn": [
              0.03194767784
             ],
             "passed_time": 38.3277162,
             "remaining_time": 3.332844887,
             "test": [
              0.0318839673
             ]
            },
            {
             "iteration": 92,
             "learn": [
              0.0309699414
             ],
             "passed_time": 38.74797894,
             "remaining_time": 2.916514544,
             "test": [
              0.03092824261
             ]
            },
            {
             "iteration": 93,
             "learn": [
              0.03003965985
             ],
             "passed_time": 39.20872227,
             "remaining_time": 2.502684401,
             "test": [
              0.0300016123
             ]
            },
            {
             "iteration": 94,
             "learn": [
              0.02914317797
             ],
             "passed_time": 39.56778995,
             "remaining_time": 2.082515261,
             "test": [
              0.02910223444
             ]
            },
            {
             "iteration": 95,
             "learn": [
              0.02835295921
             ],
             "passed_time": 39.98202634,
             "remaining_time": 1.665917764,
             "test": [
              0.02823032811
             ]
            },
            {
             "iteration": 96,
             "learn": [
              0.02746056812
             ],
             "passed_time": 40.40451252,
             "remaining_time": 1.249624099,
             "test": [
              0.02738609927
             ]
            },
            {
             "iteration": 97,
             "learn": [
              0.02657802252
             ],
             "passed_time": 40.83261257,
             "remaining_time": 0.8333186239,
             "test": [
              0.02656740059
             ]
            },
            {
             "iteration": 98,
             "learn": [
              0.0258961696
             ],
             "passed_time": 41.24933851,
             "remaining_time": 0.4166599849,
             "test": [
              0.02577275411
             ]
            },
            {
             "iteration": 99,
             "learn": [
              0.02503468649
             ],
             "passed_time": 41.58719848,
             "remaining_time": 0,
             "test": [
              0.02500206239
             ]
            }
           ],
           "meta": {
            "iteration_count": 100,
            "launch_mode": "Train",
            "learn_metrics": [
             {
              "best_value": "Min",
              "name": "CrossEntropy"
             }
            ],
            "learn_sets": [
             "learn"
            ],
            "name": "experiment",
            "parameters": "",
            "test_metrics": [
             {
              "best_value": "Min",
              "name": "CrossEntropy"
             }
            ],
            "test_sets": [
             "test"
            ]
           }
          },
          "passed_iterations": 99,
          "total_iterations": 100
         },
         "name": "catboost_info",
         "path": "catboost_info"
        }
       },
       "layout": "IPY_MODEL_8eb4fb6aa787406aad9cb17967af6106"
      }
     },
     "8eb4fb6aa787406aad9cb17967af6106": {
      "model_module": "@jupyter-widgets/base",
      "model_module_version": "1.2.0",
      "model_name": "LayoutModel",
      "state": {
       "_model_module": "@jupyter-widgets/base",
       "_model_module_version": "1.2.0",
       "_model_name": "LayoutModel",
       "_view_count": null,
       "_view_module": "@jupyter-widgets/base",
       "_view_module_version": "1.2.0",
       "_view_name": "LayoutView",
       "align_content": null,
       "align_items": null,
       "align_self": "stretch",
       "border": null,
       "bottom": null,
       "display": null,
       "flex": null,
       "flex_flow": null,
       "grid_area": null,
       "grid_auto_columns": null,
       "grid_auto_flow": null,
       "grid_auto_rows": null,
       "grid_column": null,
       "grid_gap": null,
       "grid_row": null,
       "grid_template_areas": null,
       "grid_template_columns": null,
       "grid_template_rows": null,
       "height": "500px",
       "justify_content": null,
       "justify_items": null,
       "left": null,
       "margin": null,
       "max_height": null,
       "max_width": null,
       "min_height": null,
       "min_width": null,
       "object_fit": null,
       "object_position": null,
       "order": null,
       "overflow": null,
       "overflow_x": null,
       "overflow_y": null,
       "padding": null,
       "right": null,
       "top": null,
       "visibility": null,
       "width": null
      }
     },
     "9525eca2421040d3a773940ddcd25c82": {
      "model_module": "catboost-widget",
      "model_module_version": "^1.0.0",
      "model_name": "CatboostWidgetModel",
      "state": {
       "_dom_classes": [],
       "_model_module": "catboost-widget",
       "_model_module_version": "^1.0.0",
       "_model_name": "CatboostWidgetModel",
       "_view_count": null,
       "_view_module": "catboost-widget",
       "_view_module_version": "^1.0.0",
       "_view_name": "CatboostWidgetView",
       "data": {
        "catboost_info": {
         "content": {
          "data": {
           "iterations": [
            {
             "iteration": 0,
             "learn": [
              0.6700426406
             ],
             "passed_time": 0.4447702943,
             "remaining_time": 44.03225913,
             "test": [
              0.6701595046
             ]
            },
            {
             "iteration": 1,
             "learn": [
              0.6486200724
             ],
             "passed_time": 0.8301050236,
             "remaining_time": 40.67514615,
             "test": [
              0.6477311838
             ]
            },
            {
             "iteration": 2,
             "learn": [
              0.6268472797
             ],
             "passed_time": 1.272819852,
             "remaining_time": 41.15450854,
             "test": [
              0.6272034529
             ]
            },
            {
             "iteration": 3,
             "learn": [
              0.6065831678
             ],
             "passed_time": 1.697552512,
             "remaining_time": 40.74126028,
             "test": [
              0.6070956086
             ]
            },
            {
             "iteration": 4,
             "learn": [
              0.5886410475
             ],
             "passed_time": 2.098213442,
             "remaining_time": 39.86605539,
             "test": [
              0.5882305251
             ]
            },
            {
             "iteration": 5,
             "learn": [
              0.570779025
             ],
             "passed_time": 2.539363897,
             "remaining_time": 39.78336772,
             "test": [
              0.5700957129
             ]
            },
            {
             "iteration": 6,
             "learn": [
              0.5533503503
             ],
             "passed_time": 2.904660002,
             "remaining_time": 38.59048288,
             "test": [
              0.5530200707
             ]
            },
            {
             "iteration": 7,
             "learn": [
              0.5376071289
             ],
             "passed_time": 3.297336929,
             "remaining_time": 37.91937469,
             "test": [
              0.536760855
             ]
            },
            {
             "iteration": 8,
             "learn": [
              0.5229054482
             ],
             "passed_time": 3.743395101,
             "remaining_time": 37.8498838,
             "test": [
              0.5216320284
             ]
            },
            {
             "iteration": 9,
             "learn": [
              0.5073695497
             ],
             "passed_time": 4.130124239,
             "remaining_time": 37.17111815,
             "test": [
              0.5063226174
             ]
            },
            {
             "iteration": 10,
             "learn": [
              0.492976868
             ],
             "passed_time": 4.52182083,
             "remaining_time": 36.58564126,
             "test": [
              0.4926094247
             ]
            },
            {
             "iteration": 11,
             "learn": [
              0.479416941
             ],
             "passed_time": 4.977689412,
             "remaining_time": 36.50305569,
             "test": [
              0.4789940113
             ]
            },
            {
             "iteration": 12,
             "learn": [
              0.466066625
             ],
             "passed_time": 5.374386436,
             "remaining_time": 35.96704768,
             "test": [
              0.4655385942
             ]
            },
            {
             "iteration": 13,
             "learn": [
              0.4538193175
             ],
             "passed_time": 5.771785887,
             "remaining_time": 35.45525616,
             "test": [
              0.4536221451
             ]
            },
            {
             "iteration": 14,
             "learn": [
              0.4422080349
             ],
             "passed_time": 6.174216797,
             "remaining_time": 34.98722852,
             "test": [
              0.4418544439
             ]
            },
            {
             "iteration": 15,
             "learn": [
              0.4306080362
             ],
             "passed_time": 6.599232685,
             "remaining_time": 34.6459716,
             "test": [
              0.4300140656
             ]
            },
            {
             "iteration": 16,
             "learn": [
              0.4202628746
             ],
             "passed_time": 7.011235159,
             "remaining_time": 34.2313246,
             "test": [
              0.4196803241
             ]
            },
            {
             "iteration": 17,
             "learn": [
              0.4092251187
             ],
             "passed_time": 7.405355312,
             "remaining_time": 33.73550753,
             "test": [
              0.4089310562
             ]
            },
            {
             "iteration": 18,
             "learn": [
              0.3991033237
             ],
             "passed_time": 7.803195021,
             "remaining_time": 33.26625246,
             "test": [
              0.3984430442
             ]
            },
            {
             "iteration": 19,
             "learn": [
              0.3890480593
             ],
             "passed_time": 8.183275542,
             "remaining_time": 32.73310217,
             "test": [
              0.3885232283
             ]
            },
            {
             "iteration": 20,
             "learn": [
              0.3803428034
             ],
             "passed_time": 8.598952854,
             "remaining_time": 32.34844169,
             "test": [
              0.3792603338
             ]
            },
            {
             "iteration": 21,
             "learn": [
              0.3709685723
             ],
             "passed_time": 8.993199225,
             "remaining_time": 31.88497907,
             "test": [
              0.3700528471
             ]
            },
            {
             "iteration": 22,
             "learn": [
              0.3621048628
             ],
             "passed_time": 9.392032609,
             "remaining_time": 31.44289178,
             "test": [
              0.3611355402
             ]
            },
            {
             "iteration": 23,
             "learn": [
              0.3541642627
             ],
             "passed_time": 9.811920031,
             "remaining_time": 31.0710801,
             "test": [
              0.352914717
             ]
            },
            {
             "iteration": 24,
             "learn": [
              0.3459505444
             ],
             "passed_time": 10.20822454,
             "remaining_time": 30.62467361,
             "test": [
              0.344638248
             ]
            },
            {
             "iteration": 25,
             "learn": [
              0.3382247436
             ],
             "passed_time": 10.60739793,
             "remaining_time": 30.19028642,
             "test": [
              0.3368885709
             ]
            },
            {
             "iteration": 26,
             "learn": [
              0.3305968716
             ],
             "passed_time": 10.99094265,
             "remaining_time": 29.71625235,
             "test": [
              0.3294225003
             ]
            },
            {
             "iteration": 27,
             "learn": [
              0.3235265816
             ],
             "passed_time": 11.39315083,
             "remaining_time": 29.29667355,
             "test": [
              0.3223528894
             ]
            },
            {
             "iteration": 28,
             "learn": [
              0.3164712771
             ],
             "passed_time": 11.79446831,
             "remaining_time": 28.87611207,
             "test": [
              0.3152794099
             ]
            },
            {
             "iteration": 29,
             "learn": [
              0.3095524234
             ],
             "passed_time": 12.22504876,
             "remaining_time": 28.52511376,
             "test": [
              0.3084446868
             ]
            },
            {
             "iteration": 30,
             "learn": [
              0.3035676068
             ],
             "passed_time": 12.60077893,
             "remaining_time": 28.04689503,
             "test": [
              0.3021557591
             ]
            },
            {
             "iteration": 31,
             "learn": [
              0.2970785544
             ],
             "passed_time": 13.05101478,
             "remaining_time": 27.73340641,
             "test": [
              0.2956241958
             ]
            },
            {
             "iteration": 32,
             "learn": [
              0.2911549883
             ],
             "passed_time": 13.447324,
             "remaining_time": 27.30214267,
             "test": [
              0.289533124
             ]
            },
            {
             "iteration": 33,
             "learn": [
              0.2855878848
             ],
             "passed_time": 13.81621371,
             "remaining_time": 26.81970897,
             "test": [
              0.2841534429
             ]
            },
            {
             "iteration": 34,
             "learn": [
              0.2798849665
             ],
             "passed_time": 14.2608976,
             "remaining_time": 26.48452411,
             "test": [
              0.2785109545
             ]
            },
            {
             "iteration": 35,
             "learn": [
              0.2744654382
             ],
             "passed_time": 14.71797177,
             "remaining_time": 26.16528314,
             "test": [
              0.2732969255
             ]
            },
            {
             "iteration": 36,
             "learn": [
              0.2693853483
             ],
             "passed_time": 15.08959891,
             "remaining_time": 25.69310084,
             "test": [
              0.2683073887
             ]
            },
            {
             "iteration": 37,
             "learn": [
              0.2645659283
             ],
             "passed_time": 15.55613648,
             "remaining_time": 25.38106479,
             "test": [
              0.2634085654
             ]
            },
            {
             "iteration": 38,
             "learn": [
              0.2599270198
             ],
             "passed_time": 15.95994715,
             "remaining_time": 24.96299426,
             "test": [
              0.2585569124
             ]
            },
            {
             "iteration": 39,
             "learn": [
              0.2549180152
             ],
             "passed_time": 16.3860789,
             "remaining_time": 24.57911835,
             "test": [
              0.2536323753
             ]
            },
            {
             "iteration": 40,
             "learn": [
              0.250364634
             ],
             "passed_time": 16.85412828,
             "remaining_time": 24.25350167,
             "test": [
              0.2492121141
             ]
            },
            {
             "iteration": 41,
             "learn": [
              0.2459484461
             ],
             "passed_time": 17.30936132,
             "remaining_time": 23.90340372,
             "test": [
              0.2449205894
             ]
            },
            {
             "iteration": 42,
             "learn": [
              0.2415969149
             ],
             "passed_time": 17.81021621,
             "remaining_time": 23.60889126,
             "test": [
              0.2407549267
             ]
            },
            {
             "iteration": 43,
             "learn": [
              0.2378972376
             ],
             "passed_time": 18.17409019,
             "remaining_time": 23.13066024,
             "test": [
              0.236684923
             ]
            },
            {
             "iteration": 44,
             "learn": [
              0.2340360886
             ],
             "passed_time": 18.61357191,
             "remaining_time": 22.74992122,
             "test": [
              0.2326633085
             ]
            },
            {
             "iteration": 45,
             "learn": [
              0.2298614139
             ],
             "passed_time": 19.06234043,
             "remaining_time": 22.37753008,
             "test": [
              0.2286415672
             ]
            },
            {
             "iteration": 46,
             "learn": [
              0.2263414116
             ],
             "passed_time": 19.73452754,
             "remaining_time": 22.25382893,
             "test": [
              0.2247792992
             ]
            },
            {
             "iteration": 47,
             "learn": [
              0.222316013
             ],
             "passed_time": 20.2963332,
             "remaining_time": 21.9876943,
             "test": [
              0.2208068621
             ]
            },
            {
             "iteration": 48,
             "learn": [
              0.2190260353
             ],
             "passed_time": 20.73934693,
             "remaining_time": 21.58585089,
             "test": [
              0.217370676
             ]
            },
            {
             "iteration": 49,
             "learn": [
              0.2156683796
             ],
             "passed_time": 21.14417214,
             "remaining_time": 21.14417214,
             "test": [
              0.2141761232
             ]
            },
            {
             "iteration": 50,
             "learn": [
              0.2127009729
             ],
             "passed_time": 21.54493354,
             "remaining_time": 20.70003418,
             "test": [
              0.2112056729
             ]
            },
            {
             "iteration": 51,
             "learn": [
              0.2093064682
             ],
             "passed_time": 21.95568179,
             "remaining_time": 20.26678319,
             "test": [
              0.2077362831
             ]
            },
            {
             "iteration": 52,
             "learn": [
              0.2061535016
             ],
             "passed_time": 22.38726084,
             "remaining_time": 19.85285395,
             "test": [
              0.2044369788
             ]
            },
            {
             "iteration": 53,
             "learn": [
              0.2029303733
             ],
             "passed_time": 22.80179749,
             "remaining_time": 19.42375342,
             "test": [
              0.2011652396
             ]
            },
            {
             "iteration": 54,
             "learn": [
              0.2001043997
             ],
             "passed_time": 23.13468034,
             "remaining_time": 18.92837483,
             "test": [
              0.1981114337
             ]
            },
            {
             "iteration": 55,
             "learn": [
              0.1969338817
             ],
             "passed_time": 23.53781589,
             "remaining_time": 18.4939982,
             "test": [
              0.1949838453
             ]
            },
            {
             "iteration": 56,
             "learn": [
              0.1939818653
             ],
             "passed_time": 23.92838671,
             "remaining_time": 18.0512391,
             "test": [
              0.1921507271
             ]
            },
            {
             "iteration": 57,
             "learn": [
              0.1912901129
             ],
             "passed_time": 24.3409835,
             "remaining_time": 17.62622943,
             "test": [
              0.1893398551
             ]
            },
            {
             "iteration": 58,
             "learn": [
              0.1883063606
             ],
             "passed_time": 24.75122204,
             "remaining_time": 17.20000176,
             "test": [
              0.1864498767
             ]
            },
            {
             "iteration": 59,
             "learn": [
              0.1855316986
             ],
             "passed_time": 25.15018893,
             "remaining_time": 16.76679262,
             "test": [
              0.1837365012
             ]
            },
            {
             "iteration": 60,
             "learn": [
              0.182796153
             ],
             "passed_time": 25.62782594,
             "remaining_time": 16.38500347,
             "test": [
              0.1809948714
             ]
            },
            {
             "iteration": 61,
             "learn": [
              0.1801336122
             ],
             "passed_time": 26.06539917,
             "remaining_time": 15.97556723,
             "test": [
              0.1785604452
             ]
            },
            {
             "iteration": 62,
             "learn": [
              0.1776649402
             ],
             "passed_time": 26.4854213,
             "remaining_time": 15.55492997,
             "test": [
              0.176095588
             ]
            },
            {
             "iteration": 63,
             "learn": [
              0.1755899617
             ],
             "passed_time": 26.84941575,
             "remaining_time": 15.10279636,
             "test": [
              0.1739213907
             ]
            },
            {
             "iteration": 64,
             "learn": [
              0.1731866708
             ],
             "passed_time": 27.24525721,
             "remaining_time": 14.67052311,
             "test": [
              0.1716681451
             ]
            },
            {
             "iteration": 65,
             "learn": [
              0.170781047
             ],
             "passed_time": 27.72896804,
             "remaining_time": 14.2846199,
             "test": [
              0.169352057
             ]
            },
            {
             "iteration": 66,
             "learn": [
              0.1686441825
             ],
             "passed_time": 28.14980637,
             "remaining_time": 13.86483,
             "test": [
              0.167146734
             ]
            },
            {
             "iteration": 67,
             "learn": [
              0.1663529858
             ],
             "passed_time": 28.6429184,
             "remaining_time": 13.47902042,
             "test": [
              0.1650026488
             ]
            },
            {
             "iteration": 68,
             "learn": [
              0.1644261617
             ],
             "passed_time": 29.01105432,
             "remaining_time": 13.03395194,
             "test": [
              0.1630927439
             ]
            },
            {
             "iteration": 69,
             "learn": [
              0.1625750449
             ],
             "passed_time": 29.39017028,
             "remaining_time": 12.59578726,
             "test": [
              0.1609580308
             ]
            },
            {
             "iteration": 70,
             "learn": [
              0.1603452267
             ],
             "passed_time": 29.88196105,
             "remaining_time": 12.20530803,
             "test": [
              0.1588569865
             ]
            },
            {
             "iteration": 71,
             "learn": [
              0.1584887821
             ],
             "passed_time": 30.25142671,
             "remaining_time": 11.76444372,
             "test": [
              0.156940523
             ]
            },
            {
             "iteration": 72,
             "learn": [
              0.1564539206
             ],
             "passed_time": 30.71655487,
             "remaining_time": 11.36091756,
             "test": [
              0.1550214907
             ]
            },
            {
             "iteration": 73,
             "learn": [
              0.1547798475
             ],
             "passed_time": 31.09660273,
             "remaining_time": 10.92583339,
             "test": [
              0.153091035
             ]
            },
            {
             "iteration": 74,
             "learn": [
              0.1526772392
             ],
             "passed_time": 31.57372244,
             "remaining_time": 10.52457415,
             "test": [
              0.1508922872
             ]
            },
            {
             "iteration": 75,
             "learn": [
              0.1511325006
             ],
             "passed_time": 31.93332128,
             "remaining_time": 10.08420672,
             "test": [
              0.1493421194
             ]
            },
            {
             "iteration": 76,
             "learn": [
              0.1494215103
             ],
             "passed_time": 32.38385456,
             "remaining_time": 9.673099413,
             "test": [
              0.1478039359
             ]
            },
            {
             "iteration": 77,
             "learn": [
              0.1474212482
             ],
             "passed_time": 32.85629914,
             "remaining_time": 9.267161297,
             "test": [
              0.1459224293
             ]
            },
            {
             "iteration": 78,
             "learn": [
              0.1457202045
             ],
             "passed_time": 33.29487107,
             "remaining_time": 8.850535349,
             "test": [
              0.1440183134
             ]
            },
            {
             "iteration": 79,
             "learn": [
              0.1438389994
             ],
             "passed_time": 33.75770304,
             "remaining_time": 8.43942576,
             "test": [
              0.1422064008
             ]
            },
            {
             "iteration": 80,
             "learn": [
              0.1420754257
             ],
             "passed_time": 34.22779318,
             "remaining_time": 8.028741611,
             "test": [
              0.1403832257
             ]
            },
            {
             "iteration": 81,
             "learn": [
              0.1407829917
             ],
             "passed_time": 34.6263564,
             "remaining_time": 7.600907502,
             "test": [
              0.1391531426
             ]
            },
            {
             "iteration": 82,
             "learn": [
              0.1390438827
             ],
             "passed_time": 35.09173038,
             "remaining_time": 7.187462848,
             "test": [
              0.1375016912
             ]
            },
            {
             "iteration": 83,
             "learn": [
              0.1374679277
             ],
             "passed_time": 35.55539437,
             "remaining_time": 6.77245607,
             "test": [
              0.1360586034
             ]
            },
            {
             "iteration": 84,
             "learn": [
              0.135740054
             ],
             "passed_time": 36.01364497,
             "remaining_time": 6.355349113,
             "test": [
              0.1344913085
             ]
            },
            {
             "iteration": 85,
             "learn": [
              0.1345887097
             ],
             "passed_time": 36.38061767,
             "remaining_time": 5.922426132,
             "test": [
              0.1334085942
             ]
            },
            {
             "iteration": 86,
             "learn": [
              0.133026294
             ],
             "passed_time": 36.8547279,
             "remaining_time": 5.507028306,
             "test": [
              0.131826814
             ]
            },
            {
             "iteration": 87,
             "learn": [
              0.1315653753
             ],
             "passed_time": 37.26739173,
             "remaining_time": 5.081917053,
             "test": [
              0.1303354126
             ]
            },
            {
             "iteration": 88,
             "learn": [
              0.1301738749
             ],
             "passed_time": 37.71114566,
             "remaining_time": 4.660928115,
             "test": [
              0.1288830607
             ]
            },
            {
             "iteration": 89,
             "learn": [
              0.1288257194
             ],
             "passed_time": 38.15399129,
             "remaining_time": 4.239332365,
             "test": [
              0.127511233
             ]
            },
            {
             "iteration": 90,
             "learn": [
              0.1274296492
             ],
             "passed_time": 38.59104257,
             "remaining_time": 3.816696518,
             "test": [
              0.126250655
             ]
            },
            {
             "iteration": 91,
             "learn": [
              0.1263704962
             ],
             "passed_time": 38.95895234,
             "remaining_time": 3.387734986,
             "test": [
              0.125269105
             ]
            },
            {
             "iteration": 92,
             "learn": [
              0.125067288
             ],
             "passed_time": 39.37487821,
             "remaining_time": 2.96370051,
             "test": [
              0.1239239593
             ]
            },
            {
             "iteration": 93,
             "learn": [
              0.1241044767
             ],
             "passed_time": 39.79486627,
             "remaining_time": 2.540097847,
             "test": [
              0.1230424695
             ]
            },
            {
             "iteration": 94,
             "learn": [
              0.1230827736
             ],
             "passed_time": 40.16376785,
             "remaining_time": 2.113882518,
             "test": [
              0.1220347972
             ]
            },
            {
             "iteration": 95,
             "learn": [
              0.1219038508
             ],
             "passed_time": 40.60120815,
             "remaining_time": 1.691717006,
             "test": [
              0.1206079151
             ]
            },
            {
             "iteration": 96,
             "learn": [
              0.1205349679
             ],
             "passed_time": 41.07100374,
             "remaining_time": 1.270237229,
             "test": [
              0.1194003942
             ]
            },
            {
             "iteration": 97,
             "learn": [
              0.1196001424
             ],
             "passed_time": 41.44327725,
             "remaining_time": 0.8457811683,
             "test": [
              0.1184477545
             ]
            },
            {
             "iteration": 98,
             "learn": [
              0.1186607441
             ],
             "passed_time": 41.83579306,
             "remaining_time": 0.4225837682,
             "test": [
              0.1173048527
             ]
            },
            {
             "iteration": 99,
             "learn": [
              0.1175471238
             ],
             "passed_time": 42.29251752,
             "remaining_time": 0,
             "test": [
              0.1161615384
             ]
            }
           ],
           "meta": {
            "iteration_count": 100,
            "launch_mode": "Train",
            "learn_metrics": [
             {
              "best_value": "Min",
              "name": "CrossEntropy"
             }
            ],
            "learn_sets": [
             "learn"
            ],
            "name": "experiment",
            "parameters": "",
            "test_metrics": [
             {
              "best_value": "Min",
              "name": "CrossEntropy"
             }
            ],
            "test_sets": [
             "test"
            ]
           }
          },
          "passed_iterations": 99,
          "total_iterations": 100
         },
         "name": "catboost_info",
         "path": "catboost_info"
        }
       },
       "layout": "IPY_MODEL_e4df8f77557d464281b299d4958e1d98"
      }
     },
     "96ddf297ad93419594db56b957bd15ca": {
      "model_module": "@jupyter-widgets/base",
      "model_module_version": "1.2.0",
      "model_name": "LayoutModel",
      "state": {
       "_model_module": "@jupyter-widgets/base",
       "_model_module_version": "1.2.0",
       "_model_name": "LayoutModel",
       "_view_count": null,
       "_view_module": "@jupyter-widgets/base",
       "_view_module_version": "1.2.0",
       "_view_name": "LayoutView",
       "align_content": null,
       "align_items": null,
       "align_self": "stretch",
       "border": null,
       "bottom": null,
       "display": null,
       "flex": null,
       "flex_flow": null,
       "grid_area": null,
       "grid_auto_columns": null,
       "grid_auto_flow": null,
       "grid_auto_rows": null,
       "grid_column": null,
       "grid_gap": null,
       "grid_row": null,
       "grid_template_areas": null,
       "grid_template_columns": null,
       "grid_template_rows": null,
       "height": "500px",
       "justify_content": null,
       "justify_items": null,
       "left": null,
       "margin": null,
       "max_height": null,
       "max_width": null,
       "min_height": null,
       "min_width": null,
       "object_fit": null,
       "object_position": null,
       "order": null,
       "overflow": null,
       "overflow_x": null,
       "overflow_y": null,
       "padding": null,
       "right": null,
       "top": null,
       "visibility": null,
       "width": null
      }
     },
     "9a021a82861f4695abb8b0af9bde57fb": {
      "model_module": "catboost-widget",
      "model_module_version": "^1.0.0",
      "model_name": "CatboostWidgetModel",
      "state": {
       "_dom_classes": [],
       "_model_module": "catboost-widget",
       "_model_module_version": "^1.0.0",
       "_model_name": "CatboostWidgetModel",
       "_view_count": null,
       "_view_module": "catboost-widget",
       "_view_module_version": "^1.0.0",
       "_view_name": "CatboostWidgetView",
       "data": {
        "catboost_info": {
         "content": {
          "data": {
           "iterations": [
            {
             "iteration": 0,
             "learn": [
              0.6633988789
             ],
             "passed_time": 0.4188950556,
             "remaining_time": 41.47061051,
             "test": [
              0.6643342073
             ]
            },
            {
             "iteration": 1,
             "learn": [
              0.6376182468
             ],
             "passed_time": 0.8481816242,
             "remaining_time": 41.56089959,
             "test": [
              0.6372415143
             ]
            },
            {
             "iteration": 2,
             "learn": [
              0.6112175095
             ],
             "passed_time": 1.295488841,
             "remaining_time": 41.88747253,
             "test": [
              0.6115374944
             ]
            },
            {
             "iteration": 3,
             "learn": [
              0.587357269
             ],
             "passed_time": 1.729428875,
             "remaining_time": 41.506293,
             "test": [
              0.5872477552
             ]
            },
            {
             "iteration": 4,
             "learn": [
              0.5648857863
             ],
             "passed_time": 2.202167421,
             "remaining_time": 41.84118099,
             "test": [
              0.5642548213
             ]
            },
            {
             "iteration": 5,
             "learn": [
              0.5427285849
             ],
             "passed_time": 2.647298953,
             "remaining_time": 41.47435026,
             "test": [
              0.5424288351
             ]
            },
            {
             "iteration": 6,
             "learn": [
              0.5211126247
             ],
             "passed_time": 3.079219571,
             "remaining_time": 40.90963144,
             "test": [
              0.5217316646
             ]
            },
            {
             "iteration": 7,
             "learn": [
              0.5027584127
             ],
             "passed_time": 3.504418918,
             "remaining_time": 40.30081756,
             "test": [
              0.5019285074
             ]
            },
            {
             "iteration": 8,
             "learn": [
              0.4837783774
             ],
             "passed_time": 3.956345515,
             "remaining_time": 40.0030491,
             "test": [
              0.4832863659
             ]
            },
            {
             "iteration": 9,
             "learn": [
              0.4658745684
             ],
             "passed_time": 4.417496488,
             "remaining_time": 39.7574684,
             "test": [
              0.4655092214
             ]
            },
            {
             "iteration": 10,
             "learn": [
              0.4495669331
             ],
             "passed_time": 4.892836696,
             "remaining_time": 39.58749691,
             "test": [
              0.4483324183
             ]
            },
            {
             "iteration": 11,
             "learn": [
              0.4333106663
             ],
             "passed_time": 5.34142345,
             "remaining_time": 39.17043863,
             "test": [
              0.4321118403
             ]
            },
            {
             "iteration": 12,
             "learn": [
              0.4178171153
             ],
             "passed_time": 5.758219184,
             "remaining_time": 38.53577454,
             "test": [
              0.4167422071
             ]
            },
            {
             "iteration": 13,
             "learn": [
              0.4027646863
             ],
             "passed_time": 6.225504854,
             "remaining_time": 38.24238696,
             "test": [
              0.4018353809
             ]
            },
            {
             "iteration": 14,
             "learn": [
              0.3886253368
             ],
             "passed_time": 6.75289494,
             "remaining_time": 38.26640466,
             "test": [
              0.3877589985
             ]
            },
            {
             "iteration": 15,
             "learn": [
              0.374289633
             ],
             "passed_time": 7.430148638,
             "remaining_time": 39.00828035,
             "test": [
              0.3742761684
             ]
            },
            {
             "iteration": 16,
             "learn": [
              0.3620877908
             ],
             "passed_time": 8.071574797,
             "remaining_time": 39.40827695,
             "test": [
              0.3614592521
             ]
            },
            {
             "iteration": 17,
             "learn": [
              0.3500362174
             ],
             "passed_time": 8.684824,
             "remaining_time": 39.56419822,
             "test": [
              0.3489369017
             ]
            },
            {
             "iteration": 18,
             "learn": [
              0.3379751674
             ],
             "passed_time": 9.139141216,
             "remaining_time": 38.96160203,
             "test": [
              0.3371289773
             ]
            },
            {
             "iteration": 19,
             "learn": [
              0.3269922035
             ],
             "passed_time": 9.604185148,
             "remaining_time": 38.41674059,
             "test": [
              0.3257960906
             ]
            },
            {
             "iteration": 20,
             "learn": [
              0.3156927393
             ],
             "passed_time": 10.04965842,
             "remaining_time": 37.80585786,
             "test": [
              0.3149559387
             ]
            },
            {
             "iteration": 21,
             "learn": [
              0.3049751455
             ],
             "passed_time": 10.49849107,
             "remaining_time": 37.22192289,
             "test": [
              0.3045197858
             ]
            },
            {
             "iteration": 22,
             "learn": [
              0.294998014
             ],
             "passed_time": 10.88977137,
             "remaining_time": 36.45706068,
             "test": [
              0.2943555012
             ]
            },
            {
             "iteration": 23,
             "learn": [
              0.285442669
             ],
             "passed_time": 11.32489688,
             "remaining_time": 35.86217346,
             "test": [
              0.2847459892
             ]
            },
            {
             "iteration": 24,
             "learn": [
              0.275796445
             ],
             "passed_time": 11.7105137,
             "remaining_time": 35.13154109,
             "test": [
              0.2754057772
             ]
            },
            {
             "iteration": 25,
             "learn": [
              0.2668116534
             ],
             "passed_time": 12.17244742,
             "remaining_time": 34.64465805,
             "test": [
              0.2664398378
             ]
            },
            {
             "iteration": 26,
             "learn": [
              0.2586822575
             ],
             "passed_time": 12.63369078,
             "remaining_time": 34.15775655,
             "test": [
              0.2578976451
             ]
            },
            {
             "iteration": 27,
             "learn": [
              0.2506458313
             ],
             "passed_time": 13.09006001,
             "remaining_time": 33.66015432,
             "test": [
              0.2495994785
             ]
            },
            {
             "iteration": 28,
             "learn": [
              0.2426775715
             ],
             "passed_time": 13.5915959,
             "remaining_time": 33.27597618,
             "test": [
              0.2416982675
             ]
            },
            {
             "iteration": 29,
             "learn": [
              0.2350477704
             ],
             "passed_time": 14.03371395,
             "remaining_time": 32.74533255,
             "test": [
              0.2341196631
             ]
            },
            {
             "iteration": 30,
             "learn": [
              0.2276973799
             ],
             "passed_time": 14.47144137,
             "remaining_time": 32.21062757,
             "test": [
              0.2267322193
             ]
            },
            {
             "iteration": 31,
             "learn": [
              0.220186423
             ],
             "passed_time": 14.9003605,
             "remaining_time": 31.66326607,
             "test": [
              0.2195475404
             ]
            },
            {
             "iteration": 32,
             "learn": [
              0.2131286177
             ],
             "passed_time": 15.35662897,
             "remaining_time": 31.17861032,
             "test": [
              0.212712902
             ]
            },
            {
             "iteration": 33,
             "learn": [
              0.2066899171
             ],
             "passed_time": 15.8512671,
             "remaining_time": 30.77010672,
             "test": [
              0.2061572948
             ]
            },
            {
             "iteration": 34,
             "learn": [
              0.2006658261
             ],
             "passed_time": 16.29232164,
             "remaining_time": 30.25716875,
             "test": [
              0.1998423763
             ]
            },
            {
             "iteration": 35,
             "learn": [
              0.1941887872
             ],
             "passed_time": 16.75690855,
             "remaining_time": 29.79005965,
             "test": [
              0.1937189021
             ]
            },
            {
             "iteration": 36,
             "learn": [
              0.1885756416
             ],
             "passed_time": 17.21841043,
             "remaining_time": 29.31783398,
             "test": [
              0.1877898637
             ]
            },
            {
             "iteration": 37,
             "learn": [
              0.1826396637
             ],
             "passed_time": 17.70218522,
             "remaining_time": 28.88251273,
             "test": [
              0.1821565337
             ]
            },
            {
             "iteration": 38,
             "learn": [
              0.1775293491
             ],
             "passed_time": 18.1649221,
             "remaining_time": 28.41180123,
             "test": [
              0.1766891647
             ]
            },
            {
             "iteration": 39,
             "learn": [
              0.1719051763
             ],
             "passed_time": 18.62163558,
             "remaining_time": 27.93245338,
             "test": [
              0.1712673825
             ]
            },
            {
             "iteration": 40,
             "learn": [
              0.1666217618
             ],
             "passed_time": 19.05504092,
             "remaining_time": 27.42066864,
             "test": [
              0.1661676048
             ]
            },
            {
             "iteration": 41,
             "learn": [
              0.1618814879
             ],
             "passed_time": 19.50386924,
             "remaining_time": 26.93391466,
             "test": [
              0.1610277443
             ]
            },
            {
             "iteration": 42,
             "learn": [
              0.1569025308
             ],
             "passed_time": 19.93608895,
             "remaining_time": 26.42690861,
             "test": [
              0.1561350807
             ]
            },
            {
             "iteration": 43,
             "learn": [
              0.1522786004
             ],
             "passed_time": 20.38422146,
             "remaining_time": 25.94355459,
             "test": [
              0.1515144014
             ]
            },
            {
             "iteration": 44,
             "learn": [
              0.1475237534
             ],
             "passed_time": 20.87746034,
             "remaining_time": 25.51689597,
             "test": [
              0.1469349067
             ]
            },
            {
             "iteration": 45,
             "learn": [
              0.1431833974
             ],
             "passed_time": 21.32716728,
             "remaining_time": 25.03623985,
             "test": [
              0.1426441678
             ]
            },
            {
             "iteration": 46,
             "learn": [
              0.1390534547
             ],
             "passed_time": 21.80958873,
             "remaining_time": 24.59379154,
             "test": [
              0.1384866487
             ]
            },
            {
             "iteration": 47,
             "learn": [
              0.1350920381
             ],
             "passed_time": 22.23333477,
             "remaining_time": 24.08611266,
             "test": [
              0.1344634378
             ]
            },
            {
             "iteration": 48,
             "learn": [
              0.1311349034
             ],
             "passed_time": 22.6757919,
             "remaining_time": 23.60133443,
             "test": [
              0.1305663198
             ]
            },
            {
             "iteration": 49,
             "learn": [
              0.1272692495
             ],
             "passed_time": 23.10768327,
             "remaining_time": 23.10768327,
             "test": [
              0.1266570448
             ]
            },
            {
             "iteration": 50,
             "learn": [
              0.123637672
             ],
             "passed_time": 23.5422322,
             "remaining_time": 22.61900741,
             "test": [
              0.1230665992
             ]
            },
            {
             "iteration": 51,
             "learn": [
              0.1201699475
             ],
             "passed_time": 23.93508535,
             "remaining_time": 22.09392494,
             "test": [
              0.1196177367
             ]
            },
            {
             "iteration": 52,
             "learn": [
              0.1169219854
             ],
             "passed_time": 24.38379417,
             "remaining_time": 21.62336464,
             "test": [
              0.1162879209
             ]
            },
            {
             "iteration": 53,
             "learn": [
              0.1135923941
             ],
             "passed_time": 24.85051168,
             "remaining_time": 21.1689544,
             "test": [
              0.1129760839
             ]
            },
            {
             "iteration": 54,
             "learn": [
              0.1103253811
             ],
             "passed_time": 25.27654818,
             "remaining_time": 20.68081214,
             "test": [
              0.1098394017
             ]
            },
            {
             "iteration": 55,
             "learn": [
              0.1074320497
             ],
             "passed_time": 25.70364888,
             "remaining_time": 20.19572412,
             "test": [
              0.1067989686
             ]
            },
            {
             "iteration": 56,
             "learn": [
              0.1042758906
             ],
             "passed_time": 26.17883744,
             "remaining_time": 19.74894754,
             "test": [
              0.1038060098
             ]
            },
            {
             "iteration": 57,
             "learn": [
              0.1015498544
             ],
             "passed_time": 26.60911584,
             "remaining_time": 19.26867009,
             "test": [
              0.1010195927
             ]
            },
            {
             "iteration": 58,
             "learn": [
              0.09864126129
             ],
             "passed_time": 27.03656282,
             "remaining_time": 18.78811993,
             "test": [
              0.09826126573
             ]
            },
            {
             "iteration": 59,
             "learn": [
              0.09603833615
             ],
             "passed_time": 27.53418411,
             "remaining_time": 18.35612274,
             "test": [
              0.09558384262
             ]
            },
            {
             "iteration": 60,
             "learn": [
              0.09318565547
             ],
             "passed_time": 27.9597518,
             "remaining_time": 17.87590689,
             "test": [
              0.09288156157
             ]
            },
            {
             "iteration": 61,
             "learn": [
              0.09062512561
             ],
             "passed_time": 28.43158021,
             "remaining_time": 17.42580722,
             "test": [
              0.09028846222
             ]
            },
            {
             "iteration": 62,
             "learn": [
              0.08823416995
             ],
             "passed_time": 28.8738406,
             "remaining_time": 16.95765242,
             "test": [
              0.08788049601
             ]
            },
            {
             "iteration": 63,
             "learn": [
              0.08588842547
             ],
             "passed_time": 29.31389931,
             "remaining_time": 16.48906836,
             "test": [
              0.08547242704
             ]
            },
            {
             "iteration": 64,
             "learn": [
              0.0834837751
             ],
             "passed_time": 29.77848624,
             "remaining_time": 16.03456951,
             "test": [
              0.08319583059
             ]
            },
            {
             "iteration": 65,
             "learn": [
              0.08127442215
             ],
             "passed_time": 30.19765126,
             "remaining_time": 15.5563658,
             "test": [
              0.08098475091
             ]
            },
            {
             "iteration": 66,
             "learn": [
              0.07901222135
             ],
             "passed_time": 30.63892691,
             "remaining_time": 15.09081475,
             "test": [
              0.07879805793
             ]
            },
            {
             "iteration": 67,
             "learn": [
              0.07691642506
             ],
             "passed_time": 31.0964764,
             "remaining_time": 14.63363595,
             "test": [
              0.07673800477
             ]
            },
            {
             "iteration": 68,
             "learn": [
              0.07491728204
             ],
             "passed_time": 31.54248485,
             "remaining_time": 14.17126131,
             "test": [
              0.07474799267
             ]
            },
            {
             "iteration": 69,
             "learn": [
              0.07288302401
             ],
             "passed_time": 31.99259243,
             "remaining_time": 13.71111104,
             "test": [
              0.07276914053
             ]
            },
            {
             "iteration": 70,
             "learn": [
              0.07094918
             ],
             "passed_time": 32.45658959,
             "remaining_time": 13.25691687,
             "test": [
              0.07087938911
             ]
            },
            {
             "iteration": 71,
             "learn": [
              0.06907878494
             ],
             "passed_time": 32.92344872,
             "remaining_time": 12.80356339,
             "test": [
              0.06904514416
             ]
            },
            {
             "iteration": 72,
             "learn": [
              0.06720875653
             ],
             "passed_time": 33.34683412,
             "remaining_time": 12.33376056,
             "test": [
              0.06720555026
             ]
            },
            {
             "iteration": 73,
             "learn": [
              0.06551450939
             ],
             "passed_time": 33.77134763,
             "remaining_time": 11.86560863,
             "test": [
              0.06550726584
             ]
            },
            {
             "iteration": 74,
             "learn": [
              0.06379746362
             ],
             "passed_time": 34.22993875,
             "remaining_time": 11.40997958,
             "test": [
              0.06381821208
             ]
            },
            {
             "iteration": 75,
             "learn": [
              0.06211896932
             ],
             "passed_time": 34.66062954,
             "remaining_time": 10.94546196,
             "test": [
              0.06221832364
             ]
            },
            {
             "iteration": 76,
             "learn": [
              0.06061383137
             ],
             "passed_time": 35.09970304,
             "remaining_time": 10.48432688,
             "test": [
              0.06071467431
             ]
            },
            {
             "iteration": 77,
             "learn": [
              0.05903603935
             ],
             "passed_time": 35.557649,
             "remaining_time": 10.02908049,
             "test": [
              0.05923828429
             ]
            },
            {
             "iteration": 78,
             "learn": [
              0.0575546448
             ],
             "passed_time": 36.01555171,
             "remaining_time": 9.573754252,
             "test": [
              0.05778838934
             ]
            },
            {
             "iteration": 79,
             "learn": [
              0.05610535363
             ],
             "passed_time": 36.4791843,
             "remaining_time": 9.119796074,
             "test": [
              0.05638339048
             ]
            },
            {
             "iteration": 80,
             "learn": [
              0.0547814719
             ],
             "passed_time": 36.9409613,
             "remaining_time": 8.665163761,
             "test": [
              0.05496185737
             ]
            },
            {
             "iteration": 81,
             "learn": [
              0.05334444043
             ],
             "passed_time": 37.38473898,
             "remaining_time": 8.206406117,
             "test": [
              0.05362627623
             ]
            },
            {
             "iteration": 82,
             "learn": [
              0.05205031489
             ],
             "passed_time": 37.85203417,
             "remaining_time": 7.752826276,
             "test": [
              0.05234614911
             ]
            },
            {
             "iteration": 83,
             "learn": [
              0.05085468337
             ],
             "passed_time": 38.30809899,
             "remaining_time": 7.296780759,
             "test": [
              0.05114444993
             ]
            },
            {
             "iteration": 84,
             "learn": [
              0.04949354267
             ],
             "passed_time": 38.8048748,
             "remaining_time": 6.847919083,
             "test": [
              0.04988906031
             ]
            },
            {
             "iteration": 85,
             "learn": [
              0.04826222625
             ],
             "passed_time": 39.42753289,
             "remaining_time": 6.418435587,
             "test": [
              0.04870727942
             ]
            },
            {
             "iteration": 86,
             "learn": [
              0.04711750588
             ],
             "passed_time": 40.08170366,
             "remaining_time": 5.989220087,
             "test": [
              0.04751842987
             ]
            },
            {
             "iteration": 87,
             "learn": [
              0.04596775288
             ],
             "passed_time": 40.5941708,
             "remaining_time": 5.535568745,
             "test": [
              0.04637288129
             ]
            },
            {
             "iteration": 88,
             "learn": [
              0.0448495412
             ],
             "passed_time": 41.02022507,
             "remaining_time": 5.069915458,
             "test": [
              0.04529482487
             ]
            },
            {
             "iteration": 89,
             "learn": [
              0.04382041476
             ],
             "passed_time": 41.47624622,
             "remaining_time": 4.608471803,
             "test": [
              0.04430336857
             ]
            },
            {
             "iteration": 90,
             "learn": [
              0.04283182114
             ],
             "passed_time": 41.89691608,
             "remaining_time": 4.143651041,
             "test": [
              0.0433314396
             ]
            },
            {
             "iteration": 91,
             "learn": [
              0.04186784427
             ],
             "passed_time": 42.31056912,
             "remaining_time": 3.679179923,
             "test": [
              0.04240300336
             ]
            },
            {
             "iteration": 92,
             "learn": [
              0.04088222292
             ],
             "passed_time": 42.75326661,
             "remaining_time": 3.21798781,
             "test": [
              0.04143414101
             ]
            },
            {
             "iteration": 93,
             "learn": [
              0.039886814
             ],
             "passed_time": 43.2020578,
             "remaining_time": 2.757578158,
             "test": [
              0.04043182237
             ]
            },
            {
             "iteration": 94,
             "learn": [
              0.03894071348
             ],
             "passed_time": 43.63540584,
             "remaining_time": 2.296600307,
             "test": [
              0.03953518906
             ]
            },
            {
             "iteration": 95,
             "learn": [
              0.03801567
             ],
             "passed_time": 44.07818779,
             "remaining_time": 1.836591158,
             "test": [
              0.03862596863
             ]
            },
            {
             "iteration": 96,
             "learn": [
              0.03710543686
             ],
             "passed_time": 44.50631761,
             "remaining_time": 1.37648405,
             "test": [
              0.03778079782
             ]
            },
            {
             "iteration": 97,
             "learn": [
              0.0362220338
             ],
             "passed_time": 44.95868448,
             "remaining_time": 0.9175241731,
             "test": [
              0.03690371654
             ]
            },
            {
             "iteration": 98,
             "learn": [
              0.03546827812
             ],
             "passed_time": 45.3788709,
             "remaining_time": 0.4583724333,
             "test": [
              0.03614019178
             ]
            },
            {
             "iteration": 99,
             "learn": [
              0.03467007645
             ],
             "passed_time": 45.83398826,
             "remaining_time": 0,
             "test": [
              0.03530895709
             ]
            }
           ],
           "meta": {
            "iteration_count": 100,
            "launch_mode": "Train",
            "learn_metrics": [
             {
              "best_value": "Min",
              "name": "CrossEntropy"
             }
            ],
            "learn_sets": [
             "learn"
            ],
            "name": "experiment",
            "parameters": "",
            "test_metrics": [
             {
              "best_value": "Min",
              "name": "CrossEntropy"
             }
            ],
            "test_sets": [
             "test"
            ]
           }
          },
          "passed_iterations": 99,
          "total_iterations": 100
         },
         "name": "catboost_info",
         "path": "catboost_info"
        }
       },
       "layout": "IPY_MODEL_f616e67ee5e041d2bb50738c64e8c588"
      }
     },
     "9b3e96189834419991912f32dde2c896": {
      "model_module": "catboost-widget",
      "model_module_version": "^1.0.0",
      "model_name": "CatboostWidgetModel",
      "state": {
       "_dom_classes": [],
       "_model_module": "catboost-widget",
       "_model_module_version": "^1.0.0",
       "_model_name": "CatboostWidgetModel",
       "_view_count": null,
       "_view_module": "catboost-widget",
       "_view_module_version": "^1.0.0",
       "_view_name": "CatboostWidgetView",
       "data": {
        "catboost_info": {
         "content": {
          "data": {
           "iterations": [
            {
             "iteration": 0,
             "learn": [
              0.6613914094
             ],
             "passed_time": 0.3797419567,
             "remaining_time": 37.59445371,
             "test": [
              0.6636129448
             ]
            },
            {
             "iteration": 1,
             "learn": [
              0.6363170047
             ],
             "passed_time": 0.7496238567,
             "remaining_time": 36.73156898,
             "test": [
              0.6358000927
             ]
            },
            {
             "iteration": 2,
             "learn": [
              0.6093981603
             ],
             "passed_time": 1.164557939,
             "remaining_time": 37.65404002,
             "test": [
              0.6095513532
             ]
            },
            {
             "iteration": 3,
             "learn": [
              0.5837561635
             ],
             "passed_time": 1.525888798,
             "remaining_time": 36.62133115,
             "test": [
              0.584753233
             ]
            },
            {
             "iteration": 4,
             "learn": [
              0.5622366272
             ],
             "passed_time": 1.989047253,
             "remaining_time": 37.79189781,
             "test": [
              0.561282052
             ]
            },
            {
             "iteration": 5,
             "learn": [
              0.5377995407
             ],
             "passed_time": 2.39003778,
             "remaining_time": 37.44392523,
             "test": [
              0.5390396808
             ]
            },
            {
             "iteration": 6,
             "learn": [
              0.5169355898
             ],
             "passed_time": 2.850985953,
             "remaining_time": 37.8773848,
             "test": [
              0.517938544
             ]
            },
            {
             "iteration": 7,
             "learn": [
              0.4987552499
             ],
             "passed_time": 3.262022293,
             "remaining_time": 37.51325637,
             "test": [
              0.4978954277
             ]
            },
            {
             "iteration": 8,
             "learn": [
              0.4785925208
             ],
             "passed_time": 3.635535535,
             "remaining_time": 36.75930375,
             "test": [
              0.4788339347
             ]
            },
            {
             "iteration": 9,
             "learn": [
              0.4606488979
             ],
             "passed_time": 4.016713569,
             "remaining_time": 36.15042212,
             "test": [
              0.4606912991
             ]
            },
            {
             "iteration": 10,
             "learn": [
              0.4440411923
             ],
             "passed_time": 4.405818139,
             "remaining_time": 35.64707404,
             "test": [
              0.4434059477
             ]
            },
            {
             "iteration": 11,
             "learn": [
              0.4281258611
             ],
             "passed_time": 4.74332828,
             "remaining_time": 34.78440739,
             "test": [
              0.4269199677
             ]
            },
            {
             "iteration": 12,
             "learn": [
              0.4122729032
             ],
             "passed_time": 5.139467194,
             "remaining_time": 34.39489584,
             "test": [
              0.4111888858
             ]
            },
            {
             "iteration": 13,
             "learn": [
              0.3968722039
             ],
             "passed_time": 5.540915734,
             "remaining_time": 34.03705379,
             "test": [
              0.3961701874
             ]
            },
            {
             "iteration": 14,
             "learn": [
              0.3825220007
             ],
             "passed_time": 5.960550816,
             "remaining_time": 33.77645463,
             "test": [
              0.3818099474
             ]
            },
            {
             "iteration": 15,
             "learn": [
              0.3674635858
             ],
             "passed_time": 6.465437047,
             "remaining_time": 33.94354449,
             "test": [
              0.3680783415
             ]
            },
            {
             "iteration": 16,
             "learn": [
              0.3540729802
             ],
             "passed_time": 6.926063975,
             "remaining_time": 33.81548882,
             "test": [
              0.3549349621
             ]
            },
            {
             "iteration": 17,
             "learn": [
              0.3432942704
             ],
             "passed_time": 7.269563122,
             "remaining_time": 33.11689867,
             "test": [
              0.3423462999
             ]
            },
            {
             "iteration": 18,
             "learn": [
              0.3302102623
             ],
             "passed_time": 7.668533969,
             "remaining_time": 32.69217113,
             "test": [
              0.330287685
             ]
            },
            {
             "iteration": 19,
             "learn": [
              0.3198007098
             ],
             "passed_time": 8.127342246,
             "remaining_time": 32.50936898,
             "test": [
              0.3187283284
             ]
            },
            {
             "iteration": 20,
             "learn": [
              0.3071633971
             ],
             "passed_time": 8.58354979,
             "remaining_time": 32.29049683,
             "test": [
              0.3076408372
             ]
            },
            {
             "iteration": 21,
             "learn": [
              0.2970184197
             ],
             "passed_time": 8.98661127,
             "remaining_time": 31.86162178,
             "test": [
              0.2970031133
             ]
            },
            {
             "iteration": 22,
             "learn": [
              0.2869616078
             ],
             "passed_time": 9.405612266,
             "remaining_time": 31.48835411,
             "test": [
              0.2867886469
             ]
            },
            {
             "iteration": 23,
             "learn": [
              0.2766910182
             ],
             "passed_time": 9.868967425,
             "remaining_time": 31.25173018,
             "test": [
              0.2769789596
             ]
            },
            {
             "iteration": 24,
             "learn": [
              0.2667237984
             ],
             "passed_time": 10.25450809,
             "remaining_time": 30.76352426,
             "test": [
              0.2675523747
             ]
            },
            {
             "iteration": 25,
             "learn": [
              0.2581596954
             ],
             "passed_time": 10.64708135,
             "remaining_time": 30.30323152,
             "test": [
              0.2584987995
             ]
            },
            {
             "iteration": 26,
             "learn": [
              0.2501240643
             ],
             "passed_time": 11.2289577,
             "remaining_time": 30.35977452,
             "test": [
              0.2497894044
             ]
            },
            {
             "iteration": 27,
             "learn": [
              0.2421375402
             ],
             "passed_time": 11.74832752,
             "remaining_time": 30.20998506,
             "test": [
              0.2414087043
             ]
            },
            {
             "iteration": 28,
             "learn": [
              0.2338599239
             ],
             "passed_time": 12.30648331,
             "remaining_time": 30.12966604,
             "test": [
              0.2333445965
             ]
            },
            {
             "iteration": 29,
             "learn": [
              0.2260373093
             ],
             "passed_time": 12.77875763,
             "remaining_time": 29.81710115,
             "test": [
              0.2255829877
             ]
            },
            {
             "iteration": 30,
             "learn": [
              0.2187104345
             ],
             "passed_time": 13.25869534,
             "remaining_time": 29.51128964,
             "test": [
              0.2181096439
             ]
            },
            {
             "iteration": 31,
             "learn": [
              0.2111181638
             ],
             "passed_time": 13.63429721,
             "remaining_time": 28.97288158,
             "test": [
              0.2109119616
             ]
            },
            {
             "iteration": 32,
             "learn": [
              0.2035879309
             ],
             "passed_time": 14.15591438,
             "remaining_time": 28.74079585,
             "test": [
              0.2039785995
             ]
            },
            {
             "iteration": 33,
             "learn": [
              0.1967393068
             ],
             "passed_time": 14.60552235,
             "remaining_time": 28.35189633,
             "test": [
              0.1972948388
             ]
            },
            {
             "iteration": 34,
             "learn": [
              0.1913838836
             ],
             "passed_time": 15.05035857,
             "remaining_time": 27.95066592,
             "test": [
              0.1908542452
             ]
            },
            {
             "iteration": 35,
             "learn": [
              0.1841907984
             ],
             "passed_time": 15.41468051,
             "remaining_time": 27.40387646,
             "test": [
              0.1846446351
             ]
            },
            {
             "iteration": 36,
             "learn": [
              0.1789815232
             ],
             "passed_time": 15.81313287,
             "remaining_time": 26.92506407,
             "test": [
              0.1786563684
             ]
            },
            {
             "iteration": 37,
             "learn": [
              0.1724632452
             ],
             "passed_time": 16.1881123,
             "remaining_time": 26.41218323,
             "test": [
              0.1728840652
             ]
            },
            {
             "iteration": 38,
             "learn": [
              0.1678845234
             ],
             "passed_time": 16.61809761,
             "remaining_time": 25.99240908,
             "test": [
              0.1673105181
             ]
            },
            {
             "iteration": 39,
             "learn": [
              0.1616821675
             ],
             "passed_time": 16.99165807,
             "remaining_time": 25.48748711,
             "test": [
              0.1619303304
             ]
            },
            {
             "iteration": 40,
             "learn": [
              0.1565720666
             ],
             "passed_time": 17.36975873,
             "remaining_time": 24.99550646,
             "test": [
              0.1567392096
             ]
            },
            {
             "iteration": 41,
             "learn": [
              0.1522370761
             ],
             "passed_time": 17.79599515,
             "remaining_time": 24.57542187,
             "test": [
              0.1517282613
             ]
            },
            {
             "iteration": 42,
             "learn": [
              0.147245172
             ],
             "passed_time": 18.22158518,
             "remaining_time": 24.15419431,
             "test": [
              0.1468913263
             ]
            },
            {
             "iteration": 43,
             "learn": [
              0.1421293572
             ],
             "passed_time": 18.61180804,
             "remaining_time": 23.68775569,
             "test": [
              0.1422184169
             ]
            },
            {
             "iteration": 44,
             "learn": [
              0.1373715987
             ],
             "passed_time": 19.04653002,
             "remaining_time": 23.27909225,
             "test": [
              0.1377065304
             ]
            },
            {
             "iteration": 45,
             "learn": [
              0.13316119
             ],
             "passed_time": 19.505033,
             "remaining_time": 22.89721265,
             "test": [
              0.1333456238
             ]
            },
            {
             "iteration": 46,
             "learn": [
              0.1291486716
             ],
             "passed_time": 19.86591092,
             "remaining_time": 22.40198466,
             "test": [
              0.1291321617
             ]
            },
            {
             "iteration": 47,
             "learn": [
              0.1252141383
             ],
             "passed_time": 20.27668713,
             "remaining_time": 21.96641106,
             "test": [
              0.1250600953
             ]
            },
            {
             "iteration": 48,
             "learn": [
              0.1213057852
             ],
             "passed_time": 20.73795781,
             "remaining_time": 21.58440507,
             "test": [
              0.1211280931
             ]
            },
            {
             "iteration": 49,
             "learn": [
              0.1174119138
             ],
             "passed_time": 21.05459138,
             "remaining_time": 21.05459138,
             "test": [
              0.1173246899
             ]
            },
            {
             "iteration": 50,
             "learn": [
              0.1135572683
             ],
             "passed_time": 21.475821,
             "remaining_time": 20.63363194,
             "test": [
              0.1136502926
             ]
            },
            {
             "iteration": 51,
             "learn": [
              0.1099931801
             ],
             "passed_time": 21.82447979,
             "remaining_time": 20.14567365,
             "test": [
              0.1100970173
             ]
            },
            {
             "iteration": 52,
             "learn": [
              0.107137352
             ],
             "passed_time": 22.16480979,
             "remaining_time": 19.65558604,
             "test": [
              0.1066616277
             ]
            },
            {
             "iteration": 53,
             "learn": [
              0.1036466254
             ],
             "passed_time": 22.5121877,
             "remaining_time": 19.17704878,
             "test": [
              0.1033394183
             ]
            },
            {
             "iteration": 54,
             "learn": [
              0.0999829303
             ],
             "passed_time": 22.9665555,
             "remaining_time": 18.79081813,
             "test": [
              0.1001270596
             ]
            },
            {
             "iteration": 55,
             "learn": [
              0.0973805452
             ],
             "passed_time": 23.38209313,
             "remaining_time": 18.3716446,
             "test": [
              0.09701929572
             ]
            },
            {
             "iteration": 56,
             "learn": [
              0.09400595164
             ],
             "passed_time": 23.71614313,
             "remaining_time": 17.89112552,
             "test": [
              0.09400990906
             ]
            },
            {
             "iteration": 57,
             "learn": [
              0.0914459734
             ],
             "passed_time": 24.11218259,
             "remaining_time": 17.46054602,
             "test": [
              0.09110097491
             ]
            },
            {
             "iteration": 58,
             "learn": [
              0.08818722036
             ],
             "passed_time": 24.54063464,
             "remaining_time": 17.05366136,
             "test": [
              0.0882843258
             ]
            },
            {
             "iteration": 59,
             "learn": [
              0.08573119859
             ],
             "passed_time": 24.96000853,
             "remaining_time": 16.64000569,
             "test": [
              0.08556042556
             ]
            },
            {
             "iteration": 60,
             "learn": [
              0.08283666156
             ],
             "passed_time": 25.43436384,
             "remaining_time": 16.26131459,
             "test": [
              0.08292448852
             ]
            },
            {
             "iteration": 61,
             "learn": [
              0.08034494347
             ],
             "passed_time": 25.85030511,
             "remaining_time": 15.84373539,
             "test": [
              0.08037284036
             ]
            },
            {
             "iteration": 62,
             "learn": [
              0.07819444374
             ],
             "passed_time": 26.27956883,
             "remaining_time": 15.43403249,
             "test": [
              0.07790083732
             ]
            },
            {
             "iteration": 63,
             "learn": [
              0.07572363504
             ],
             "passed_time": 26.67060115,
             "remaining_time": 15.00221315,
             "test": [
              0.07550859802
             ]
            },
            {
             "iteration": 64,
             "learn": [
              0.07320556296
             ],
             "passed_time": 27.12111095,
             "remaining_time": 14.60367513,
             "test": [
              0.07319542925
             ]
            },
            {
             "iteration": 65,
             "learn": [
              0.07084419513
             ],
             "passed_time": 27.51667901,
             "remaining_time": 14.17525888,
             "test": [
              0.07095269685
             ]
            },
            {
             "iteration": 66,
             "learn": [
              0.06871682801
             ],
             "passed_time": 27.95390193,
             "remaining_time": 13.76833976,
             "test": [
              0.06878354426
             ]
            },
            {
             "iteration": 67,
             "learn": [
              0.06667251786
             ],
             "passed_time": 28.30749096,
             "remaining_time": 13.32117222,
             "test": [
              0.06668397005
             ]
            },
            {
             "iteration": 68,
             "learn": [
              0.0646949362
             ],
             "passed_time": 28.70837586,
             "remaining_time": 12.89796597,
             "test": [
              0.0646474113
             ]
            },
            {
             "iteration": 69,
             "learn": [
              0.06274041786
             ],
             "passed_time": 29.03919232,
             "remaining_time": 12.44536814,
             "test": [
              0.06267661609
             ]
            },
            {
             "iteration": 70,
             "learn": [
              0.060797828
             ],
             "passed_time": 29.39300364,
             "remaining_time": 12.00559304,
             "test": [
              0.06076983293
             ]
            },
            {
             "iteration": 71,
             "learn": [
              0.05888590375
             ],
             "passed_time": 29.73130302,
             "remaining_time": 11.5621734,
             "test": [
              0.05892167563
             ]
            },
            {
             "iteration": 72,
             "learn": [
              0.05708720417
             ],
             "passed_time": 30.13249578,
             "remaining_time": 11.1448957,
             "test": [
              0.05713166986
             ]
            },
            {
             "iteration": 73,
             "learn": [
              0.05564186331
             ],
             "passed_time": 30.54292642,
             "remaining_time": 10.73129847,
             "test": [
              0.0553966036
             ]
            },
            {
             "iteration": 74,
             "learn": [
              0.05388843594
             ],
             "passed_time": 30.94351746,
             "remaining_time": 10.31450582,
             "test": [
              0.05371489092
             ]
            },
            {
             "iteration": 75,
             "learn": [
              0.05205269356
             ],
             "passed_time": 31.40286305,
             "remaining_time": 9.916693593,
             "test": [
              0.05208727763
             ]
            },
            {
             "iteration": 76,
             "learn": [
              0.05073465334
             ],
             "passed_time": 31.82312713,
             "remaining_time": 9.505609402,
             "test": [
              0.05050927787
             ]
            },
            {
             "iteration": 77,
             "learn": [
              0.04905149533
             ],
             "passed_time": 32.2146846,
             "remaining_time": 9.086193093,
             "test": [
              0.04898200596
             ]
            },
            {
             "iteration": 78,
             "learn": [
              0.04754010076
             ],
             "passed_time": 32.60514846,
             "remaining_time": 8.667191362,
             "test": [
              0.04750130231
             ]
            },
            {
             "iteration": 79,
             "learn": [
              0.04612256278
             ],
             "passed_time": 32.99313115,
             "remaining_time": 8.248282788,
             "test": [
              0.04606702005
             ]
            },
            {
             "iteration": 80,
             "learn": [
              0.0448529733
             ],
             "passed_time": 33.38097358,
             "remaining_time": 7.830104914,
             "test": [
              0.0446757301
             ]
            },
            {
             "iteration": 81,
             "learn": [
              0.04329600362
             ],
             "passed_time": 33.73338882,
             "remaining_time": 7.404890228,
             "test": [
              0.04332691259
             ]
            },
            {
             "iteration": 82,
             "learn": [
              0.04215905865
             ],
             "passed_time": 34.10187324,
             "remaining_time": 6.984721026,
             "test": [
              0.04202207017
             ]
            },
            {
             "iteration": 83,
             "learn": [
              0.04091337049
             ],
             "passed_time": 34.46340307,
             "remaining_time": 6.564457727,
             "test": [
              0.04075639088
             ]
            },
            {
             "iteration": 84,
             "learn": [
              0.03954825366
             ],
             "passed_time": 34.80402133,
             "remaining_time": 6.141886117,
             "test": [
              0.03952807975
             ]
            },
            {
             "iteration": 85,
             "learn": [
              0.03832942094
             ],
             "passed_time": 35.16020318,
             "remaining_time": 5.723754006,
             "test": [
              0.03833760369
             ]
            },
            {
             "iteration": 86,
             "learn": [
              0.03728338756
             ],
             "passed_time": 35.52385393,
             "remaining_time": 5.308162081,
             "test": [
              0.03718383359
             ]
            },
            {
             "iteration": 87,
             "learn": [
              0.03623431707
             ],
             "passed_time": 35.95370452,
             "remaining_time": 4.902777889,
             "test": [
              0.03606806178
             ]
            },
            {
             "iteration": 88,
             "learn": [
              0.0350674018
             ],
             "passed_time": 36.39769969,
             "remaining_time": 4.498592097,
             "test": [
              0.03498444954
             ]
            },
            {
             "iteration": 89,
             "learn": [
              0.03402010257
             ],
             "passed_time": 36.78094283,
             "remaining_time": 4.086771426,
             "test": [
              0.03393335106
             ]
            },
            {
             "iteration": 90,
             "learn": [
              0.03300094112
             ],
             "passed_time": 37.14423721,
             "remaining_time": 3.673605878,
             "test": [
              0.03291537919
             ]
            },
            {
             "iteration": 91,
             "learn": [
              0.03200958967
             ],
             "passed_time": 37.60014918,
             "remaining_time": 3.26957819,
             "test": [
              0.03192872627
             ]
            },
            {
             "iteration": 92,
             "learn": [
              0.0310290116
             ],
             "passed_time": 37.94433363,
             "remaining_time": 2.856025112,
             "test": [
              0.03097194224
             ]
            },
            {
             "iteration": 93,
             "learn": [
              0.03010382181
             ],
             "passed_time": 38.40433775,
             "remaining_time": 2.451340707,
             "test": [
              0.03004649355
             ]
            },
            {
             "iteration": 94,
             "learn": [
              0.02918625986
             ],
             "passed_time": 38.86837328,
             "remaining_time": 2.045703857,
             "test": [
              0.02914880363
             ]
            },
            {
             "iteration": 95,
             "learn": [
              0.02840572101
             ],
             "passed_time": 39.25065578,
             "remaining_time": 1.635443991,
             "test": [
              0.02827558531
             ]
            },
            {
             "iteration": 96,
             "learn": [
              0.02751029278
             ],
             "passed_time": 39.57336725,
             "remaining_time": 1.223918575,
             "test": [
              0.02742946657
             ]
            },
            {
             "iteration": 97,
             "learn": [
              0.0266300729
             ],
             "passed_time": 40.00948608,
             "remaining_time": 0.816520124,
             "test": [
              0.02661080054
             ]
            },
            {
             "iteration": 98,
             "learn": [
              0.02594034122
             ],
             "passed_time": 40.376943,
             "remaining_time": 0.4078479091,
             "test": [
              0.02581461793
             ]
            },
            {
             "iteration": 99,
             "learn": [
              0.0250796098
             ],
             "passed_time": 40.72993697,
             "remaining_time": 0,
             "test": [
              0.0250428627
             ]
            }
           ],
           "meta": {
            "iteration_count": 100,
            "launch_mode": "Train",
            "learn_metrics": [
             {
              "best_value": "Min",
              "name": "CrossEntropy"
             }
            ],
            "learn_sets": [
             "learn"
            ],
            "name": "experiment",
            "parameters": "",
            "test_metrics": [
             {
              "best_value": "Min",
              "name": "CrossEntropy"
             }
            ],
            "test_sets": [
             "test"
            ]
           }
          },
          "passed_iterations": 99,
          "total_iterations": 100
         },
         "name": "catboost_info",
         "path": "catboost_info"
        }
       },
       "layout": "IPY_MODEL_a03f3a5084e64eb3bc7647f3282bcc68"
      }
     },
     "a03f3a5084e64eb3bc7647f3282bcc68": {
      "model_module": "@jupyter-widgets/base",
      "model_module_version": "1.2.0",
      "model_name": "LayoutModel",
      "state": {
       "_model_module": "@jupyter-widgets/base",
       "_model_module_version": "1.2.0",
       "_model_name": "LayoutModel",
       "_view_count": null,
       "_view_module": "@jupyter-widgets/base",
       "_view_module_version": "1.2.0",
       "_view_name": "LayoutView",
       "align_content": null,
       "align_items": null,
       "align_self": "stretch",
       "border": null,
       "bottom": null,
       "display": null,
       "flex": null,
       "flex_flow": null,
       "grid_area": null,
       "grid_auto_columns": null,
       "grid_auto_flow": null,
       "grid_auto_rows": null,
       "grid_column": null,
       "grid_gap": null,
       "grid_row": null,
       "grid_template_areas": null,
       "grid_template_columns": null,
       "grid_template_rows": null,
       "height": "500px",
       "justify_content": null,
       "justify_items": null,
       "left": null,
       "margin": null,
       "max_height": null,
       "max_width": null,
       "min_height": null,
       "min_width": null,
       "object_fit": null,
       "object_position": null,
       "order": null,
       "overflow": null,
       "overflow_x": null,
       "overflow_y": null,
       "padding": null,
       "right": null,
       "top": null,
       "visibility": null,
       "width": null
      }
     },
     "af0993faa2c643feaeb66165e048d061": {
      "model_module": "catboost-widget",
      "model_module_version": "^1.0.0",
      "model_name": "CatboostWidgetModel",
      "state": {
       "_dom_classes": [],
       "_model_module": "catboost-widget",
       "_model_module_version": "^1.0.0",
       "_model_name": "CatboostWidgetModel",
       "_view_count": null,
       "_view_module": "catboost-widget",
       "_view_module_version": "^1.0.0",
       "_view_name": "CatboostWidgetView",
       "data": {
        "catboost_info": {
         "content": {
          "data": {
           "iterations": [
            {
             "iteration": 0,
             "learn": [
              0.6613839697
             ],
             "passed_time": 0.3729417924,
             "remaining_time": 36.92123745,
             "test": [
              0.6635998523
             ]
            },
            {
             "iteration": 1,
             "learn": [
              0.6362951983
             ],
             "passed_time": 0.7383293688,
             "remaining_time": 36.17813907,
             "test": [
              0.6357736186
             ]
            },
            {
             "iteration": 2,
             "learn": [
              0.6093773003
             ],
             "passed_time": 1.141934015,
             "remaining_time": 36.92253316,
             "test": [
              0.6095208322
             ]
            },
            {
             "iteration": 3,
             "learn": [
              0.5837178742
             ],
             "passed_time": 1.555079394,
             "remaining_time": 37.32190545,
             "test": [
              0.5847135467
             ]
            },
            {
             "iteration": 4,
             "learn": [
              0.5621927516
             ],
             "passed_time": 2.015363687,
             "remaining_time": 38.29191006,
             "test": [
              0.5612399696
             ]
            },
            {
             "iteration": 5,
             "learn": [
              0.537668545
             ],
             "passed_time": 2.412630214,
             "remaining_time": 37.79787336,
             "test": [
              0.5389948384
             ]
            },
            {
             "iteration": 6,
             "learn": [
              0.5168844848
             ],
             "passed_time": 2.866451387,
             "remaining_time": 38.08285414,
             "test": [
              0.5178900021
             ]
            },
            {
             "iteration": 7,
             "learn": [
              0.4986853619
             ],
             "passed_time": 3.230885883,
             "remaining_time": 37.15518765,
             "test": [
              0.4978426431
             ]
            },
            {
             "iteration": 8,
             "learn": [
              0.4785281665
             ],
             "passed_time": 3.597745556,
             "remaining_time": 36.37720506,
             "test": [
              0.4787784379
             ]
            },
            {
             "iteration": 9,
             "learn": [
              0.4605839258
             ],
             "passed_time": 3.974661588,
             "remaining_time": 35.77195429,
             "test": [
              0.460632117
             ]
            },
            {
             "iteration": 10,
             "learn": [
              0.4438252977
             ],
             "passed_time": 4.356772263,
             "remaining_time": 35.25024831,
             "test": [
              0.4433438012
             ]
            },
            {
             "iteration": 11,
             "learn": [
              0.4280547702
             ],
             "passed_time": 4.735032381,
             "remaining_time": 34.7235708,
             "test": [
              0.426858135
             ]
            },
            {
             "iteration": 12,
             "learn": [
              0.4121207386
             ],
             "passed_time": 5.12642203,
             "remaining_time": 34.30759358,
             "test": [
              0.4111251208
             ]
            },
            {
             "iteration": 13,
             "learn": [
              0.3967799639
             ],
             "passed_time": 5.518958246,
             "remaining_time": 33.90217208,
             "test": [
              0.3961004754
             ]
            },
            {
             "iteration": 14,
             "learn": [
              0.3824006265
             ],
             "passed_time": 5.938578908,
             "remaining_time": 33.65194715,
             "test": [
              0.3817387041
             ]
            },
            {
             "iteration": 15,
             "learn": [
              0.3673374796
             ],
             "passed_time": 6.43982815,
             "remaining_time": 33.80909779,
             "test": [
              0.3680039975
             ]
            },
            {
             "iteration": 16,
             "learn": [
              0.353884222
             ],
             "passed_time": 6.888299646,
             "remaining_time": 33.63111004,
             "test": [
              0.3548594571
             ]
            },
            {
             "iteration": 17,
             "learn": [
              0.3431754333
             ],
             "passed_time": 7.23020512,
             "remaining_time": 32.9376011,
             "test": [
              0.3422722528
             ]
            },
            {
             "iteration": 18,
             "learn": [
              0.3300917275
             ],
             "passed_time": 7.623378695,
             "remaining_time": 32.49966707,
             "test": [
              0.3302119596
             ]
            },
            {
             "iteration": 19,
             "learn": [
              0.3196802888
             ],
             "passed_time": 8.078630116,
             "remaining_time": 32.31452046,
             "test": [
              0.3186508809
             ]
            },
            {
             "iteration": 20,
             "learn": [
              0.306979003
             ],
             "passed_time": 8.542395526,
             "remaining_time": 32.13567841,
             "test": [
              0.3075628812
             ]
            },
            {
             "iteration": 21,
             "learn": [
              0.2968885611
             ],
             "passed_time": 8.939125093,
             "remaining_time": 31.69326169,
             "test": [
              0.2969223418
             ]
            },
            {
             "iteration": 22,
             "learn": [
              0.2867744928
             ],
             "passed_time": 9.352741465,
             "remaining_time": 31.31135186,
             "test": [
              0.2867077023
             ]
            },
            {
             "iteration": 23,
             "learn": [
              0.2765143463
             ],
             "passed_time": 9.812670307,
             "remaining_time": 31.07345597,
             "test": [
              0.2768966093
             ]
            },
            {
             "iteration": 24,
             "learn": [
              0.2664626878
             ],
             "passed_time": 10.19798947,
             "remaining_time": 30.5939684,
             "test": [
              0.2674692445
             ]
            },
            {
             "iteration": 25,
             "learn": [
              0.2579876897
             ],
             "passed_time": 10.57696958,
             "remaining_time": 30.10368264,
             "test": [
              0.2584075202
             ]
            },
            {
             "iteration": 26,
             "learn": [
              0.2499714001
             ],
             "passed_time": 10.97147026,
             "remaining_time": 29.66360479,
             "test": [
              0.2496947912
             ]
            },
            {
             "iteration": 27,
             "learn": [
              0.2419815375
             ],
             "passed_time": 11.34987627,
             "remaining_time": 29.18539612,
             "test": [
              0.241313328
             ]
            },
            {
             "iteration": 28,
             "learn": [
              0.2336872213
             ],
             "passed_time": 11.8110716,
             "remaining_time": 28.91676151,
             "test": [
              0.2332488974
             ]
            },
            {
             "iteration": 29,
             "learn": [
              0.225854328
             ],
             "passed_time": 12.32839525,
             "remaining_time": 28.76625557,
             "test": [
              0.2254870151
             ]
            },
            {
             "iteration": 30,
             "learn": [
              0.2185334497
             ],
             "passed_time": 12.81192088,
             "remaining_time": 28.51685616,
             "test": [
              0.2180133543
             ]
            },
            {
             "iteration": 31,
             "learn": [
              0.2109410574
             ],
             "passed_time": 13.18527529,
             "remaining_time": 28.01870999,
             "test": [
              0.2108171913
             ]
            },
            {
             "iteration": 32,
             "learn": [
              0.2033604624
             ],
             "passed_time": 13.66866921,
             "remaining_time": 27.75154052,
             "test": [
              0.2038822119
             ]
            },
            {
             "iteration": 33,
             "learn": [
              0.1964488839
             ],
             "passed_time": 14.10597582,
             "remaining_time": 27.38218835,
             "test": [
              0.1971997008
             ]
            },
            {
             "iteration": 34,
             "learn": [
              0.1911913821
             ],
             "passed_time": 14.55072904,
             "remaining_time": 27.02278251,
             "test": [
              0.1907593387
             ]
            },
            {
             "iteration": 35,
             "learn": [
              0.1839150609
             ],
             "passed_time": 14.91289387,
             "remaining_time": 26.51181133,
             "test": [
              0.1845497171
             ]
            },
            {
             "iteration": 36,
             "learn": [
              0.1787804616
             ],
             "passed_time": 15.30726788,
             "remaining_time": 26.06372639,
             "test": [
              0.1785616161
             ]
            },
            {
             "iteration": 37,
             "learn": [
              0.1722010788
             ],
             "passed_time": 15.68164438,
             "remaining_time": 25.58584083,
             "test": [
              0.172785101
             ]
            },
            {
             "iteration": 38,
             "learn": [
              0.1676792651
             ],
             "passed_time": 16.1069152,
             "remaining_time": 25.19286736,
             "test": [
              0.1672122411
             ]
            },
            {
             "iteration": 39,
             "learn": [
              0.1614363592
             ],
             "passed_time": 16.50201863,
             "remaining_time": 24.75302794,
             "test": [
              0.1618358202
             ]
            },
            {
             "iteration": 40,
             "learn": [
              0.156341762
             ],
             "passed_time": 16.92468682,
             "remaining_time": 24.35503712,
             "test": [
              0.1566457807
             ]
            },
            {
             "iteration": 41,
             "learn": [
              0.1520281441
             ],
             "passed_time": 17.34620639,
             "remaining_time": 23.95428502,
             "test": [
              0.1516354586
             ]
            },
            {
             "iteration": 42,
             "learn": [
              0.147014943
             ],
             "passed_time": 17.77465517,
             "remaining_time": 23.5617522,
             "test": [
              0.1467976941
             ]
            },
            {
             "iteration": 43,
             "learn": [
              0.1418824712
             ],
             "passed_time": 18.19093675,
             "remaining_time": 23.15210132,
             "test": [
              0.1421257544
             ]
            },
            {
             "iteration": 44,
             "learn": [
              0.1371184527
             ],
             "passed_time": 18.632928,
             "remaining_time": 22.77357867,
             "test": [
              0.13761377
             ]
            },
            {
             "iteration": 45,
             "learn": [
              0.1329235905
             ],
             "passed_time": 19.08256351,
             "remaining_time": 22.40127021,
             "test": [
              0.1332546664
             ]
            },
            {
             "iteration": 46,
             "learn": [
              0.1289307918
             ],
             "passed_time": 19.44288684,
             "remaining_time": 21.9249575,
             "test": [
              0.1290431083
             ]
            },
            {
             "iteration": 47,
             "learn": [
              0.1250051242
             ],
             "passed_time": 19.96809248,
             "remaining_time": 21.63210018,
             "test": [
              0.1249747031
             ]
            },
            {
             "iteration": 48,
             "learn": [
              0.121096127
             ],
             "passed_time": 20.39687008,
             "remaining_time": 21.22939539,
             "test": [
              0.1210417909
             ]
            },
            {
             "iteration": 49,
             "learn": [
              0.1172087785
             ],
             "passed_time": 20.74221917,
             "remaining_time": 20.74221917,
             "test": [
              0.1172404406
             ]
            },
            {
             "iteration": 50,
             "learn": [
              0.1133370521
             ],
             "passed_time": 21.15135994,
             "remaining_time": 20.32189485,
             "test": [
              0.1135655846
             ]
            },
            {
             "iteration": 51,
             "learn": [
              0.1097705551
             ],
             "passed_time": 21.50727421,
             "remaining_time": 19.8528685,
             "test": [
              0.1100123654
             ]
            },
            {
             "iteration": 52,
             "learn": [
              0.10694222
             ],
             "passed_time": 21.84159665,
             "remaining_time": 19.36896307,
             "test": [
              0.1065773961
             ]
            },
            {
             "iteration": 53,
             "learn": [
              0.1034240892
             ],
             "passed_time": 22.18617989,
             "remaining_time": 18.89933843,
             "test": [
              0.1032563868
             ]
            },
            {
             "iteration": 54,
             "learn": [
              0.09974667972
             ],
             "passed_time": 22.64393278,
             "remaining_time": 18.52685409,
             "test": [
              0.100043432
             ]
            },
            {
             "iteration": 55,
             "learn": [
              0.09715708071
             ],
             "passed_time": 23.05741553,
             "remaining_time": 18.11654078,
             "test": [
              0.09693520031
             ]
            },
            {
             "iteration": 56,
             "learn": [
              0.0937835995
             ],
             "passed_time": 23.52535753,
             "remaining_time": 17.74719954,
             "test": [
              0.093927538
             ]
            },
            {
             "iteration": 57,
             "learn": [
              0.09124137588
             ],
             "passed_time": 23.99965216,
             "remaining_time": 17.37905846,
             "test": [
              0.09101831788
             ]
            },
            {
             "iteration": 58,
             "learn": [
              0.08796238893
             ],
             "passed_time": 24.59453214,
             "remaining_time": 17.09111555,
             "test": [
              0.08820310413
             ]
            },
            {
             "iteration": 59,
             "learn": [
              0.08549355974
             ],
             "passed_time": 25.28444857,
             "remaining_time": 16.85629905,
             "test": [
              0.08547925873
             ]
            },
            {
             "iteration": 60,
             "learn": [
              0.08259767379
             ],
             "passed_time": 25.8722317,
             "remaining_time": 16.54126289,
             "test": [
              0.08284275562
             ]
            },
            {
             "iteration": 61,
             "learn": [
              0.08012202292
             ],
             "passed_time": 26.35967714,
             "remaining_time": 16.15593115,
             "test": [
              0.0802912551
             ]
            },
            {
             "iteration": 62,
             "learn": [
              0.07799006976
             ],
             "passed_time": 26.76129938,
             "remaining_time": 15.71695361,
             "test": [
              0.07782154691
             ]
            },
            {
             "iteration": 63,
             "learn": [
              0.07551331658
             ],
             "passed_time": 27.15820746,
             "remaining_time": 15.2764917,
             "test": [
              0.07543087645
             ]
            },
            {
             "iteration": 64,
             "learn": [
              0.07298403411
             ],
             "passed_time": 27.61744517,
             "remaining_time": 14.87093202,
             "test": [
              0.07311657659
             ]
            },
            {
             "iteration": 65,
             "learn": [
              0.07057366124
             ],
             "passed_time": 28.03987984,
             "remaining_time": 14.44478658,
             "test": [
              0.07087552522
             ]
            },
            {
             "iteration": 66,
             "learn": [
              0.06846802813
             ],
             "passed_time": 28.49487369,
             "remaining_time": 14.03478853,
             "test": [
              0.06870586059
             ]
            },
            {
             "iteration": 67,
             "learn": [
              0.06645328762
             ],
             "passed_time": 28.84560079,
             "remaining_time": 13.57440037,
             "test": [
              0.0666049226
             ]
            },
            {
             "iteration": 68,
             "learn": [
              0.06448634462
             ],
             "passed_time": 29.25454404,
             "remaining_time": 13.14334587,
             "test": [
              0.0645702459
             ]
            },
            {
             "iteration": 69,
             "learn": [
              0.06253253608
             ],
             "passed_time": 29.59545616,
             "remaining_time": 12.68376693,
             "test": [
              0.06259978649
             ]
            },
            {
             "iteration": 70,
             "learn": [
              0.06058542131
             ],
             "passed_time": 29.95640231,
             "remaining_time": 12.23571362,
             "test": [
              0.060691338
             ]
            },
            {
             "iteration": 71,
             "learn": [
              0.0586748115
             ],
             "passed_time": 30.33638453,
             "remaining_time": 11.79748287,
             "test": [
              0.05884300602
             ]
            },
            {
             "iteration": 72,
             "learn": [
              0.0568660615
             ],
             "passed_time": 30.7410435,
             "remaining_time": 11.36997499,
             "test": [
              0.05705248458
             ]
            },
            {
             "iteration": 73,
             "learn": [
              0.05545395097
             ],
             "passed_time": 31.19302921,
             "remaining_time": 10.95971297,
             "test": [
              0.05531829435
             ]
            },
            {
             "iteration": 74,
             "learn": [
              0.0536962731
             ],
             "passed_time": 31.64674229,
             "remaining_time": 10.5489141,
             "test": [
              0.05363839887
             ]
            },
            {
             "iteration": 75,
             "learn": [
              0.0518475861
             ],
             "passed_time": 32.06376079,
             "remaining_time": 10.12539815,
             "test": [
              0.05201078242
             ]
            },
            {
             "iteration": 76,
             "learn": [
              0.0505551131
             ],
             "passed_time": 32.562227,
             "remaining_time": 9.726379494,
             "test": [
              0.05043386474
             ]
            },
            {
             "iteration": 77,
             "learn": [
              0.04886291597
             ],
             "passed_time": 32.96799111,
             "remaining_time": 9.298664159,
             "test": [
              0.04890601996
             ]
            },
            {
             "iteration": 78,
             "learn": [
              0.04726269416
             ],
             "passed_time": 33.36304773,
             "remaining_time": 8.868658257,
             "test": [
              0.04742556156
             ]
            },
            {
             "iteration": 79,
             "learn": [
              0.04593539479
             ],
             "passed_time": 33.75804507,
             "remaining_time": 8.439511267,
             "test": [
              0.04599091242
             ]
            },
            {
             "iteration": 80,
             "learn": [
              0.04467382167
             ],
             "passed_time": 34.1222012,
             "remaining_time": 8.003973121,
             "test": [
              0.04460073748
             ]
            },
            {
             "iteration": 81,
             "learn": [
              0.04309198472
             ],
             "passed_time": 34.5390006,
             "remaining_time": 7.581731839,
             "test": [
              0.0432536339
             ]
            },
            {
             "iteration": 82,
             "learn": [
              0.04197909704
             ],
             "passed_time": 34.89814076,
             "remaining_time": 7.147811963,
             "test": [
              0.04194799632
             ]
            },
            {
             "iteration": 83,
             "learn": [
              0.04073994487
             ],
             "passed_time": 35.25897614,
             "remaining_time": 6.715995455,
             "test": [
              0.04068256589
             ]
            },
            {
             "iteration": 84,
             "learn": [
              0.03937593053
             ],
             "passed_time": 35.64417247,
             "remaining_time": 6.290148083,
             "test": [
              0.03945604354
             ]
            },
            {
             "iteration": 85,
             "learn": [
              0.03815179164
             ],
             "passed_time": 36.12051007,
             "remaining_time": 5.880083035,
             "test": [
              0.03826781761
             ]
            },
            {
             "iteration": 86,
             "learn": [
              0.0371321659
             ],
             "passed_time": 36.46105157,
             "remaining_time": 5.448203108,
             "test": [
              0.03711568934
             ]
            },
            {
             "iteration": 87,
             "learn": [
              0.03608194037
             ],
             "passed_time": 36.89297231,
             "remaining_time": 5.03085986,
             "test": [
              0.03599950392
             ]
            },
            {
             "iteration": 88,
             "learn": [
              0.03489521671
             ],
             "passed_time": 37.29517498,
             "remaining_time": 4.609516009,
             "test": [
              0.03491698176
             ]
            },
            {
             "iteration": 89,
             "learn": [
              0.03385006494
             ],
             "passed_time": 37.73982534,
             "remaining_time": 4.193313926,
             "test": [
              0.03386788137
             ]
            },
            {
             "iteration": 90,
             "learn": [
              0.03284671603
             ],
             "passed_time": 38.11225738,
             "remaining_time": 3.769344137,
             "test": [
              0.0328505188
             ]
            },
            {
             "iteration": 91,
             "learn": [
              0.03185567759
             ],
             "passed_time": 38.55997397,
             "remaining_time": 3.353041215,
             "test": [
              0.03186453122
             ]
            },
            {
             "iteration": 92,
             "learn": [
              0.03087798962
             ],
             "passed_time": 38.97445406,
             "remaining_time": 2.933561058,
             "test": [
              0.03090841513
             ]
            },
            {
             "iteration": 93,
             "learn": [
              0.02993572956
             ],
             "passed_time": 39.43434302,
             "remaining_time": 2.517085725,
             "test": [
              0.0299815796
             ]
            },
            {
             "iteration": 94,
             "learn": [
              0.02900954825
             ],
             "passed_time": 39.89488212,
             "remaining_time": 2.099730638,
             "test": [
              0.02908296019
             ]
            },
            {
             "iteration": 95,
             "learn": [
              0.02826511422
             ],
             "passed_time": 40.34440289,
             "remaining_time": 1.681016787,
             "test": [
              0.02821194919
             ]
            },
            {
             "iteration": 96,
             "learn": [
              0.02737908085
             ],
             "passed_time": 40.77016798,
             "remaining_time": 1.26093303,
             "test": [
              0.0273674653
             ]
            },
            {
             "iteration": 97,
             "learn": [
              0.02645826247
             ],
             "passed_time": 41.19690877,
             "remaining_time": 0.8407532402,
             "test": [
              0.02654838062
             ]
            },
            {
             "iteration": 98,
             "learn": [
              0.02580340826
             ],
             "passed_time": 41.57112365,
             "remaining_time": 0.4199103399,
             "test": [
              0.02575396894
             ]
            },
            {
             "iteration": 99,
             "learn": [
              0.02494909412
             ],
             "passed_time": 41.94008946,
             "remaining_time": 0,
             "test": [
              0.02498367097
             ]
            }
           ],
           "meta": {
            "iteration_count": 100,
            "launch_mode": "Train",
            "learn_metrics": [
             {
              "best_value": "Min",
              "name": "CrossEntropy"
             }
            ],
            "learn_sets": [
             "learn"
            ],
            "name": "experiment",
            "parameters": "",
            "test_metrics": [
             {
              "best_value": "Min",
              "name": "CrossEntropy"
             }
            ],
            "test_sets": [
             "test"
            ]
           }
          },
          "passed_iterations": 99,
          "total_iterations": 100
         },
         "name": "catboost_info",
         "path": "catboost_info"
        }
       },
       "layout": "IPY_MODEL_2b238df8e37244aaa754b5b222f842ca"
      }
     },
     "b65c7bb099214d45982596cd815bafb5": {
      "model_module": "catboost-widget",
      "model_module_version": "^1.0.0",
      "model_name": "CatboostWidgetModel",
      "state": {
       "_dom_classes": [],
       "_model_module": "catboost-widget",
       "_model_module_version": "^1.0.0",
       "_model_name": "CatboostWidgetModel",
       "_view_count": null,
       "_view_module": "catboost-widget",
       "_view_module_version": "^1.0.0",
       "_view_name": "CatboostWidgetView",
       "data": {
        "catboost_info": {
         "content": {
          "data": {
           "iterations": [
            {
             "iteration": 0,
             "learn": [
              0.6636694929
             ],
             "passed_time": 0.4624864445,
             "remaining_time": 45.78615801,
             "test": [
              0.6657778294
             ]
            },
            {
             "iteration": 1,
             "learn": [
              0.6409402994
             ],
             "passed_time": 0.9101865487,
             "remaining_time": 44.59914089,
             "test": [
              0.6398892907
             ]
            },
            {
             "iteration": 2,
             "learn": [
              0.6150904116
             ],
             "passed_time": 1.363246942,
             "remaining_time": 44.07831779,
             "test": [
              0.6153609556
             ]
            },
            {
             "iteration": 3,
             "learn": [
              0.5912518463
             ],
             "passed_time": 1.812852556,
             "remaining_time": 43.50846134,
             "test": [
              0.5924789371
             ]
            },
            {
             "iteration": 4,
             "learn": [
              0.571228284
             ],
             "passed_time": 2.265140227,
             "remaining_time": 43.03766432,
             "test": [
              0.570818801
             ]
            },
            {
             "iteration": 5,
             "learn": [
              0.5488645593
             ],
             "passed_time": 2.704092839,
             "remaining_time": 42.36412115,
             "test": [
              0.550051509
             ]
            },
            {
             "iteration": 6,
             "learn": [
              0.5296416423
             ],
             "passed_time": 3.151266378,
             "remaining_time": 41.86682474,
             "test": [
              0.5303334437
             ]
            },
            {
             "iteration": 7,
             "learn": [
              0.5122858154
             ],
             "passed_time": 3.6060698,
             "remaining_time": 41.4698027,
             "test": [
              0.5117666737
             ]
            },
            {
             "iteration": 8,
             "learn": [
              0.4940427522
             ],
             "passed_time": 4.056275977,
             "remaining_time": 41.0134571,
             "test": [
              0.4939500667
             ]
            },
            {
             "iteration": 9,
             "learn": [
              0.4769533354
             ],
             "passed_time": 4.49794421,
             "remaining_time": 40.48149789,
             "test": [
              0.4769114712
             ]
            },
            {
             "iteration": 10,
             "learn": [
              0.4608819284
             ],
             "passed_time": 5.00533881,
             "remaining_time": 40.49774128,
             "test": [
              0.4605956628
             ]
            },
            {
             "iteration": 11,
             "learn": [
              0.4459494852
             ],
             "passed_time": 5.458582115,
             "remaining_time": 40.02960218,
             "test": [
              0.4451660645
             ]
            },
            {
             "iteration": 12,
             "learn": [
              0.4314289312
             ],
             "passed_time": 5.908497741,
             "remaining_time": 39.54148489,
             "test": [
              0.4305754842
             ]
            },
            {
             "iteration": 13,
             "learn": [
              0.4171910912
             ],
             "passed_time": 6.332968982,
             "remaining_time": 38.90252375,
             "test": [
              0.4166367284
             ]
            },
            {
             "iteration": 14,
             "learn": [
              0.4035829077
             ],
             "passed_time": 6.784144287,
             "remaining_time": 38.44348429,
             "test": [
              0.4032154627
             ]
            },
            {
             "iteration": 15,
             "learn": [
              0.3899073144
             ],
             "passed_time": 7.217441443,
             "remaining_time": 37.89156757,
             "test": [
              0.3902921539
             ]
            },
            {
             "iteration": 16,
             "learn": [
              0.3774503454
             ],
             "passed_time": 7.67793555,
             "remaining_time": 37.48639122,
             "test": [
              0.3778572964
             ]
            },
            {
             "iteration": 17,
             "learn": [
              0.3663775528
             ],
             "passed_time": 8.125182318,
             "remaining_time": 37.01471945,
             "test": [
              0.3660416631
             ]
            },
            {
             "iteration": 18,
             "learn": [
              0.3547813304
             ],
             "passed_time": 8.571502887,
             "remaining_time": 36.5416702,
             "test": [
              0.3546865062
             ]
            },
            {
             "iteration": 19,
             "learn": [
              0.3439302631
             ],
             "passed_time": 9.018699637,
             "remaining_time": 36.07479855,
             "test": [
              0.3438785786
             ]
            },
            {
             "iteration": 20,
             "learn": [
              0.3335767188
             ],
             "passed_time": 9.467551888,
             "remaining_time": 35.61602853,
             "test": [
              0.3334841141
             ]
            },
            {
             "iteration": 21,
             "learn": [
              0.3234157455
             ],
             "passed_time": 9.917020999,
             "remaining_time": 35.16034718,
             "test": [
              0.3235603609
             ]
            },
            {
             "iteration": 22,
             "learn": [
              0.3140546002
             ],
             "passed_time": 10.35767649,
             "remaining_time": 34.67569956,
             "test": [
              0.3139853308
             ]
            },
            {
             "iteration": 23,
             "learn": [
              0.3043249829
             ],
             "passed_time": 10.80575451,
             "remaining_time": 34.2182226,
             "test": [
              0.3048090964
             ]
            },
            {
             "iteration": 24,
             "learn": [
              0.2954569652
             ],
             "passed_time": 11.24755162,
             "remaining_time": 33.74265487,
             "test": [
              0.2959205953
             ]
            },
            {
             "iteration": 25,
             "learn": [
              0.2864276672
             ],
             "passed_time": 11.71227613,
             "remaining_time": 33.33493977,
             "test": [
              0.2869357764
             ]
            },
            {
             "iteration": 26,
             "learn": [
              0.2780445148
             ],
             "passed_time": 12.17531996,
             "remaining_time": 32.91845767,
             "test": [
              0.278372616
             ]
            },
            {
             "iteration": 27,
             "learn": [
              0.2701707426
             ],
             "passed_time": 12.6263878,
             "remaining_time": 32.46785433,
             "test": [
              0.2705367315
             ]
            },
            {
             "iteration": 28,
             "learn": [
              0.2624689766
             ],
             "passed_time": 13.07216449,
             "remaining_time": 32.00426477,
             "test": [
              0.2628457487
             ]
            },
            {
             "iteration": 29,
             "learn": [
              0.2551477897
             ],
             "passed_time": 13.52252684,
             "remaining_time": 31.55256263,
             "test": [
              0.2556403181
             ]
            },
            {
             "iteration": 30,
             "learn": [
              0.2479319345
             ],
             "passed_time": 13.98305341,
             "remaining_time": 31.12357049,
             "test": [
              0.2485022976
             ]
            },
            {
             "iteration": 31,
             "learn": [
              0.2407129244
             ],
             "passed_time": 14.44678202,
             "remaining_time": 30.69941179,
             "test": [
              0.241382543
             ]
            },
            {
             "iteration": 32,
             "learn": [
              0.2336299115
             ],
             "passed_time": 14.92476638,
             "remaining_time": 30.3017984,
             "test": [
              0.2344379715
             ]
            },
            {
             "iteration": 33,
             "learn": [
              0.2271645743
             ],
             "passed_time": 15.34591439,
             "remaining_time": 29.78912794,
             "test": [
              0.2280660188
             ]
            },
            {
             "iteration": 34,
             "learn": [
              0.2206659654
             ],
             "passed_time": 15.85125531,
             "remaining_time": 29.43804557,
             "test": [
              0.2216199958
             ]
            },
            {
             "iteration": 35,
             "learn": [
              0.2151135365
             ],
             "passed_time": 16.26762649,
             "remaining_time": 28.92022487,
             "test": [
              0.2158521041
             ]
            },
            {
             "iteration": 36,
             "learn": [
              0.2093989833
             ],
             "passed_time": 16.6953325,
             "remaining_time": 28.42718777,
             "test": [
              0.2101159202
             ]
            },
            {
             "iteration": 37,
             "learn": [
              0.2037192398
             ],
             "passed_time": 17.12076878,
             "remaining_time": 27.9338859,
             "test": [
              0.2048027379
             ]
            },
            {
             "iteration": 38,
             "learn": [
              0.1987193927
             ],
             "passed_time": 17.55224627,
             "remaining_time": 27.45351339,
             "test": [
              0.1998230593
             ]
            },
            {
             "iteration": 39,
             "learn": [
              0.1932203957
             ],
             "passed_time": 18.01415758,
             "remaining_time": 27.02123636,
             "test": [
              0.1943688246
             ]
            },
            {
             "iteration": 40,
             "learn": [
              0.1882168289
             ],
             "passed_time": 18.47543256,
             "remaining_time": 26.58659807,
             "test": [
              0.1893719006
             ]
            },
            {
             "iteration": 41,
             "learn": [
              0.183460513
             ],
             "passed_time": 18.90581862,
             "remaining_time": 26.10803524,
             "test": [
              0.1844347909
             ]
            },
            {
             "iteration": 42,
             "learn": [
              0.1786597628
             ],
             "passed_time": 19.35433824,
             "remaining_time": 25.65575069,
             "test": [
              0.1796896718
             ]
            },
            {
             "iteration": 43,
             "learn": [
              0.1739700752
             ],
             "passed_time": 19.81255931,
             "remaining_time": 25.21598458,
             "test": [
              0.1750595738
             ]
            },
            {
             "iteration": 44,
             "learn": [
              0.1690916655
             ],
             "passed_time": 20.28476496,
             "remaining_time": 24.79249051,
             "test": [
              0.1702174851
             ]
            },
            {
             "iteration": 45,
             "learn": [
              0.1646402967
             ],
             "passed_time": 20.73142519,
             "remaining_time": 24.33689044,
             "test": [
              0.1658009109
             ]
            },
            {
             "iteration": 46,
             "learn": [
              0.1603693062
             ],
             "passed_time": 21.17756683,
             "remaining_time": 23.881086,
             "test": [
              0.161409629
             ]
            },
            {
             "iteration": 47,
             "learn": [
              0.1559884662
             ],
             "passed_time": 21.66079831,
             "remaining_time": 23.46586484,
             "test": [
              0.1569834626
             ]
            },
            {
             "iteration": 48,
             "learn": [
              0.1517482107
             ],
             "passed_time": 22.14638966,
             "remaining_time": 23.05032394,
             "test": [
              0.1527558704
             ]
            },
            {
             "iteration": 49,
             "learn": [
              0.1476752489
             ],
             "passed_time": 22.62540723,
             "remaining_time": 22.62540723,
             "test": [
              0.1486464817
             ]
            },
            {
             "iteration": 50,
             "learn": [
              0.1437429997
             ],
             "passed_time": 23.10498267,
             "remaining_time": 22.19890492,
             "test": [
              0.1446802482
             ]
            },
            {
             "iteration": 51,
             "learn": [
              0.1398735045
             ],
             "passed_time": 23.57701739,
             "remaining_time": 21.76340067,
             "test": [
              0.1408035122
             ]
            },
            {
             "iteration": 52,
             "learn": [
              0.1362838969
             ],
             "passed_time": 24.0198134,
             "remaining_time": 21.30058924,
             "test": [
              0.1371909532
             ]
            },
            {
             "iteration": 53,
             "learn": [
              0.1327484599
             ],
             "passed_time": 24.47452026,
             "remaining_time": 20.8486654,
             "test": [
              0.1336379215
             ]
            },
            {
             "iteration": 54,
             "learn": [
              0.1292741867
             ],
             "passed_time": 24.96072363,
             "remaining_time": 20.42241024,
             "test": [
              0.130221913
             ]
            },
            {
             "iteration": 55,
             "learn": [
              0.1258917032
             ],
             "passed_time": 25.44051752,
             "remaining_time": 19.98897805,
             "test": [
              0.1269328003
             ]
            },
            {
             "iteration": 56,
             "learn": [
              0.1226849879
             ],
             "passed_time": 25.90212082,
             "remaining_time": 19.54019641,
             "test": [
              0.1236826612
             ]
            },
            {
             "iteration": 57,
             "learn": [
              0.1198519428
             ],
             "passed_time": 26.34758469,
             "remaining_time": 19.07928546,
             "test": [
              0.1208531833
             ]
            },
            {
             "iteration": 58,
             "learn": [
              0.1168279478
             ],
             "passed_time": 26.86460749,
             "remaining_time": 18.66862555,
             "test": [
              0.1178881882
             ]
            },
            {
             "iteration": 59,
             "learn": [
              0.113931319
             ],
             "passed_time": 27.31307754,
             "remaining_time": 18.20871836,
             "test": [
              0.1149457173
             ]
            },
            {
             "iteration": 60,
             "learn": [
              0.1113754553
             ],
             "passed_time": 27.76698219,
             "remaining_time": 17.75266074,
             "test": [
              0.1121695025
             ]
            },
            {
             "iteration": 61,
             "learn": [
              0.1088333288
             ],
             "passed_time": 28.21466554,
             "remaining_time": 17.29285953,
             "test": [
              0.1095658048
             ]
            },
            {
             "iteration": 62,
             "learn": [
              0.1061262126
             ],
             "passed_time": 28.71834858,
             "remaining_time": 16.8663317,
             "test": [
              0.1069231622
             ]
            },
            {
             "iteration": 63,
             "learn": [
              0.1035477327
             ],
             "passed_time": 29.39018031,
             "remaining_time": 16.53197642,
             "test": [
              0.1043677618
             ]
            },
            {
             "iteration": 64,
             "learn": [
              0.1010446943
             ],
             "passed_time": 30.02482122,
             "remaining_time": 16.16721143,
             "test": [
              0.1017988935
             ]
            },
            {
             "iteration": 65,
             "learn": [
              0.09882788375
             ],
             "passed_time": 30.53062552,
             "remaining_time": 15.72789799,
             "test": [
              0.09943255889
             ]
            },
            {
             "iteration": 66,
             "learn": [
              0.09650542792
             ],
             "passed_time": 31.00814879,
             "remaining_time": 15.2726703,
             "test": [
              0.0971241615
             ]
            },
            {
             "iteration": 67,
             "learn": [
              0.09419322303
             ],
             "passed_time": 31.43980066,
             "remaining_time": 14.79520031,
             "test": [
              0.09483099901
             ]
            },
            {
             "iteration": 68,
             "learn": [
              0.09216091346
             ],
             "passed_time": 31.89763403,
             "remaining_time": 14.33082109,
             "test": [
              0.09282437871
             ]
            },
            {
             "iteration": 69,
             "learn": [
              0.09020339512
             ],
             "passed_time": 32.31693647,
             "remaining_time": 13.85011563,
             "test": [
              0.0910479055
             ]
            },
            {
             "iteration": 70,
             "learn": [
              0.08814256433
             ],
             "passed_time": 32.78873349,
             "remaining_time": 13.39258129,
             "test": [
              0.08887218767
             ]
            },
            {
             "iteration": 71,
             "learn": [
              0.08636357126
             ],
             "passed_time": 33.20852148,
             "remaining_time": 12.91442502,
             "test": [
              0.08710613809
             ]
            },
            {
             "iteration": 72,
             "learn": [
              0.08436171395
             ],
             "passed_time": 33.70251265,
             "remaining_time": 12.4653129,
             "test": [
              0.08506199768
             ]
            },
            {
             "iteration": 73,
             "learn": [
              0.08252451338
             ],
             "passed_time": 34.13291779,
             "remaining_time": 11.99264679,
             "test": [
              0.083200615
             ]
            },
            {
             "iteration": 74,
             "learn": [
              0.08079386182
             ],
             "passed_time": 34.5835951,
             "remaining_time": 11.52786503,
             "test": [
              0.08156117625
             ]
            },
            {
             "iteration": 75,
             "learn": [
              0.07910021664
             ],
             "passed_time": 35.03149927,
             "remaining_time": 11.06257872,
             "test": [
              0.07985076458
             ]
            },
            {
             "iteration": 76,
             "learn": [
              0.07730905534
             ],
             "passed_time": 35.51954633,
             "remaining_time": 10.60973462,
             "test": [
              0.07813502389
             ]
            },
            {
             "iteration": 77,
             "learn": [
              0.0757802025
             ],
             "passed_time": 35.97450234,
             "remaining_time": 10.14665451,
             "test": [
              0.07658876354
             ]
            },
            {
             "iteration": 78,
             "learn": [
              0.07416881221
             ],
             "passed_time": 36.42603048,
             "remaining_time": 9.682868861,
             "test": [
              0.07489886078
             ]
            },
            {
             "iteration": 79,
             "learn": [
              0.07260117752
             ],
             "passed_time": 36.88568984,
             "remaining_time": 9.221422459,
             "test": [
              0.07328306354
             ]
            },
            {
             "iteration": 80,
             "learn": [
              0.07106899195
             ],
             "passed_time": 37.37934562,
             "remaining_time": 8.767994653,
             "test": [
              0.07168329403
             ]
            },
            {
             "iteration": 81,
             "learn": [
              0.06966957392
             ],
             "passed_time": 37.84828481,
             "remaining_time": 8.30816008,
             "test": [
              0.07038571086
             ]
            },
            {
             "iteration": 82,
             "learn": [
              0.06822428917
             ],
             "passed_time": 38.35182645,
             "remaining_time": 7.855193369,
             "test": [
              0.06900688522
             ]
            },
            {
             "iteration": 83,
             "learn": [
              0.06685756214
             ],
             "passed_time": 38.81055264,
             "remaining_time": 7.392486218,
             "test": [
              0.06754357736
             ]
            },
            {
             "iteration": 84,
             "learn": [
              0.06540584272
             ],
             "passed_time": 39.29297039,
             "remaining_time": 6.934053598,
             "test": [
              0.06612324689
             ]
            },
            {
             "iteration": 85,
             "learn": [
              0.0642836811
             ],
             "passed_time": 39.72337378,
             "remaining_time": 6.466595732,
             "test": [
              0.06498939163
             ]
            },
            {
             "iteration": 86,
             "learn": [
              0.06304207807
             ],
             "passed_time": 40.1498706,
             "remaining_time": 5.999405952,
             "test": [
              0.06386533884
             ]
            },
            {
             "iteration": 87,
             "learn": [
              0.06187495943
             ],
             "passed_time": 40.58293371,
             "remaining_time": 5.534036414,
             "test": [
              0.06277715061
             ]
            },
            {
             "iteration": 88,
             "learn": [
              0.06064140769
             ],
             "passed_time": 41.01911438,
             "remaining_time": 5.069778182,
             "test": [
              0.0614139924
             ]
            },
            {
             "iteration": 89,
             "learn": [
              0.05955265223
             ],
             "passed_time": 41.38539122,
             "remaining_time": 4.598376802,
             "test": [
              0.06045496465
             ]
            },
            {
             "iteration": 90,
             "learn": [
              0.05837326065
             ],
             "passed_time": 41.83009594,
             "remaining_time": 4.137042456,
             "test": [
              0.05909529407
             ]
            },
            {
             "iteration": 91,
             "learn": [
              0.05723391309
             ],
             "passed_time": 42.27063388,
             "remaining_time": 3.675707294,
             "test": [
              0.05783546022
             ]
            },
            {
             "iteration": 92,
             "learn": [
              0.05612425249
             ],
             "passed_time": 42.70574096,
             "remaining_time": 3.21441061,
             "test": [
              0.05679777243
             ]
            },
            {
             "iteration": 93,
             "learn": [
              0.05501139869
             ],
             "passed_time": 43.1320593,
             "remaining_time": 2.753110168,
             "test": [
              0.05580003306
             ]
            },
            {
             "iteration": 94,
             "learn": [
              0.05397650844
             ],
             "passed_time": 43.59879455,
             "remaining_time": 2.294673397,
             "test": [
              0.05478861408
             ]
            },
            {
             "iteration": 95,
             "learn": [
              0.0529353774
             ],
             "passed_time": 44.18227422,
             "remaining_time": 1.840928092,
             "test": [
              0.05374820404
             ]
            },
            {
             "iteration": 96,
             "learn": [
              0.05193957004
             ],
             "passed_time": 44.70644059,
             "remaining_time": 1.38267342,
             "test": [
              0.05274385867
             ]
            },
            {
             "iteration": 97,
             "learn": [
              0.05095726116
             ],
             "passed_time": 45.23669792,
             "remaining_time": 0.9231979166,
             "test": [
              0.05160719111
             ]
            },
            {
             "iteration": 98,
             "learn": [
              0.05003720664
             ],
             "passed_time": 45.75164617,
             "remaining_time": 0.4621378401,
             "test": [
              0.05074355017
             ]
            },
            {
             "iteration": 99,
             "learn": [
              0.04910345269
             ],
             "passed_time": 46.28799948,
             "remaining_time": 0,
             "test": [
              0.04977489384
             ]
            }
           ],
           "meta": {
            "iteration_count": 100,
            "launch_mode": "Train",
            "learn_metrics": [
             {
              "best_value": "Min",
              "name": "CrossEntropy"
             }
            ],
            "learn_sets": [
             "learn"
            ],
            "name": "experiment",
            "parameters": "",
            "test_metrics": [
             {
              "best_value": "Min",
              "name": "CrossEntropy"
             }
            ],
            "test_sets": [
             "test"
            ]
           }
          },
          "passed_iterations": 99,
          "total_iterations": 100
         },
         "name": "catboost_info",
         "path": "catboost_info"
        }
       },
       "layout": "IPY_MODEL_45e6cc4ddb6141ed82211b5b1e765693"
      }
     },
     "bcf27f3ebe4a45f88c19eeba8a5fc924": {
      "model_module": "@jupyter-widgets/base",
      "model_module_version": "1.2.0",
      "model_name": "LayoutModel",
      "state": {
       "_model_module": "@jupyter-widgets/base",
       "_model_module_version": "1.2.0",
       "_model_name": "LayoutModel",
       "_view_count": null,
       "_view_module": "@jupyter-widgets/base",
       "_view_module_version": "1.2.0",
       "_view_name": "LayoutView",
       "align_content": null,
       "align_items": null,
       "align_self": "stretch",
       "border": null,
       "bottom": null,
       "display": null,
       "flex": null,
       "flex_flow": null,
       "grid_area": null,
       "grid_auto_columns": null,
       "grid_auto_flow": null,
       "grid_auto_rows": null,
       "grid_column": null,
       "grid_gap": null,
       "grid_row": null,
       "grid_template_areas": null,
       "grid_template_columns": null,
       "grid_template_rows": null,
       "height": "500px",
       "justify_content": null,
       "justify_items": null,
       "left": null,
       "margin": null,
       "max_height": null,
       "max_width": null,
       "min_height": null,
       "min_width": null,
       "object_fit": null,
       "object_position": null,
       "order": null,
       "overflow": null,
       "overflow_x": null,
       "overflow_y": null,
       "padding": null,
       "right": null,
       "top": null,
       "visibility": null,
       "width": null
      }
     },
     "c82226184deb4af4b0f9fe61bfda7091": {
      "model_module": "@jupyter-widgets/base",
      "model_module_version": "1.2.0",
      "model_name": "LayoutModel",
      "state": {
       "_model_module": "@jupyter-widgets/base",
       "_model_module_version": "1.2.0",
       "_model_name": "LayoutModel",
       "_view_count": null,
       "_view_module": "@jupyter-widgets/base",
       "_view_module_version": "1.2.0",
       "_view_name": "LayoutView",
       "align_content": null,
       "align_items": null,
       "align_self": "stretch",
       "border": null,
       "bottom": null,
       "display": null,
       "flex": null,
       "flex_flow": null,
       "grid_area": null,
       "grid_auto_columns": null,
       "grid_auto_flow": null,
       "grid_auto_rows": null,
       "grid_column": null,
       "grid_gap": null,
       "grid_row": null,
       "grid_template_areas": null,
       "grid_template_columns": null,
       "grid_template_rows": null,
       "height": "500px",
       "justify_content": null,
       "justify_items": null,
       "left": null,
       "margin": null,
       "max_height": null,
       "max_width": null,
       "min_height": null,
       "min_width": null,
       "object_fit": null,
       "object_position": null,
       "order": null,
       "overflow": null,
       "overflow_x": null,
       "overflow_y": null,
       "padding": null,
       "right": null,
       "top": null,
       "visibility": null,
       "width": null
      }
     },
     "cbdbf54ec32641acacba36e2e516746e": {
      "model_module": "catboost-widget",
      "model_module_version": "^1.0.0",
      "model_name": "CatboostWidgetModel",
      "state": {
       "_dom_classes": [],
       "_model_module": "catboost-widget",
       "_model_module_version": "^1.0.0",
       "_model_name": "CatboostWidgetModel",
       "_view_count": null,
       "_view_module": "catboost-widget",
       "_view_module_version": "^1.0.0",
       "_view_name": "CatboostWidgetView",
       "data": {
        "catboost_info": {
         "content": {
          "data": {
           "iterations": [
            {
             "iteration": 0,
             "learn": [
              0.6685797191
             ],
             "passed_time": 0.4279543338,
             "remaining_time": 42.36747904,
             "test": [
              0.6685574666
             ]
            },
            {
             "iteration": 1,
             "learn": [
              0.6461552984
             ],
             "passed_time": 0.7819143627,
             "remaining_time": 38.31380377,
             "test": [
              0.6448740399
             ]
            },
            {
             "iteration": 2,
             "learn": [
              0.6236506241
             ],
             "passed_time": 1.212026476,
             "remaining_time": 39.18885607,
             "test": [
              0.6227726473
             ]
            },
            {
             "iteration": 3,
             "learn": [
              0.6035618413
             ],
             "passed_time": 1.633361492,
             "remaining_time": 39.20067581,
             "test": [
              0.6018554128
             ]
            },
            {
             "iteration": 4,
             "learn": [
              0.584882334
             ],
             "passed_time": 2.090092739,
             "remaining_time": 39.71176204,
             "test": [
              0.5828284511
             ]
            },
            {
             "iteration": 5,
             "learn": [
              0.5663043925
             ],
             "passed_time": 2.515094118,
             "remaining_time": 39.40314118,
             "test": [
              0.5639942464
             ]
            },
            {
             "iteration": 6,
             "learn": [
              0.5485794264
             ],
             "passed_time": 2.974356176,
             "remaining_time": 39.51644634,
             "test": [
              0.5466400677
             ]
            },
            {
             "iteration": 7,
             "learn": [
              0.5321957561
             ],
             "passed_time": 3.336941982,
             "remaining_time": 38.3748328,
             "test": [
              0.5292303144
             ]
            },
            {
             "iteration": 8,
             "learn": [
              0.5150175811
             ],
             "passed_time": 3.701614604,
             "remaining_time": 37.42743656,
             "test": [
              0.5123188004
             ]
            },
            {
             "iteration": 9,
             "learn": [
              0.5003920758
             ],
             "passed_time": 4.152537769,
             "remaining_time": 37.37283992,
             "test": [
              0.4972817041
             ]
            },
            {
             "iteration": 10,
             "learn": [
              0.486697263
             ],
             "passed_time": 4.66305009,
             "remaining_time": 37.72831437,
             "test": [
              0.4829051033
             ]
            },
            {
             "iteration": 11,
             "learn": [
              0.4721027971
             ],
             "passed_time": 5.070211943,
             "remaining_time": 37.18155425,
             "test": [
              0.4686251015
             ]
            },
            {
             "iteration": 12,
             "learn": [
              0.4586137109
             ],
             "passed_time": 5.484307265,
             "remaining_time": 36.70267169,
             "test": [
              0.4548207114
             ]
            },
            {
             "iteration": 13,
             "learn": [
              0.4452591569
             ],
             "passed_time": 5.849482804,
             "remaining_time": 35.93253722,
             "test": [
              0.4408507335
             ]
            },
            {
             "iteration": 14,
             "learn": [
              0.4322643875
             ],
             "passed_time": 6.213256983,
             "remaining_time": 35.20845624,
             "test": [
              0.4278193301
             ]
            },
            {
             "iteration": 15,
             "learn": [
              0.4198975322
             ],
             "passed_time": 6.581803416,
             "remaining_time": 34.55446793,
             "test": [
              0.4155398802
             ]
            },
            {
             "iteration": 16,
             "learn": [
              0.4082314178
             ],
             "passed_time": 6.940556811,
             "remaining_time": 33.88624796,
             "test": [
              0.4038866913
             ]
            },
            {
             "iteration": 17,
             "learn": [
              0.3980504495
             ],
             "passed_time": 7.405835632,
             "remaining_time": 33.73769566,
             "test": [
              0.3933108252
             ]
            },
            {
             "iteration": 18,
             "learn": [
              0.3873959012
             ],
             "passed_time": 7.874819321,
             "remaining_time": 33.57159816,
             "test": [
              0.3831479041
             ]
            },
            {
             "iteration": 19,
             "learn": [
              0.3773370999
             ],
             "passed_time": 8.234162397,
             "remaining_time": 32.93664959,
             "test": [
              0.3727130494
             ]
            },
            {
             "iteration": 20,
             "learn": [
              0.3675356283
             ],
             "passed_time": 8.577323594,
             "remaining_time": 32.26707447,
             "test": [
              0.362935848
             ]
            },
            {
             "iteration": 21,
             "learn": [
              0.3580130427
             ],
             "passed_time": 8.941003288,
             "remaining_time": 31.69992075,
             "test": [
              0.3531894611
             ]
            },
            {
             "iteration": 22,
             "learn": [
              0.3489809536
             ],
             "passed_time": 9.281824698,
             "remaining_time": 31.07393486,
             "test": [
              0.3441204657
             ]
            },
            {
             "iteration": 23,
             "learn": [
              0.3406155035
             ],
             "passed_time": 9.674840926,
             "remaining_time": 30.63699627,
             "test": [
              0.3354707924
             ]
            },
            {
             "iteration": 24,
             "learn": [
              0.3322459907
             ],
             "passed_time": 10.01214271,
             "remaining_time": 30.03642814,
             "test": [
              0.3270602614
             ]
            },
            {
             "iteration": 25,
             "learn": [
              0.3243023455
             ],
             "passed_time": 10.44253341,
             "remaining_time": 29.72105664,
             "test": [
              0.3189112268
             ]
            },
            {
             "iteration": 26,
             "learn": [
              0.3160735016
             ],
             "passed_time": 10.89673291,
             "remaining_time": 29.46153712,
             "test": [
              0.3103750606
             ]
            },
            {
             "iteration": 27,
             "learn": [
              0.3086091048
             ],
             "passed_time": 11.28760642,
             "remaining_time": 29.02527365,
             "test": [
              0.3029952835
             ]
            },
            {
             "iteration": 28,
             "learn": [
              0.3014205471
             ],
             "passed_time": 11.62950146,
             "remaining_time": 28.47222771,
             "test": [
              0.2956893881
             ]
            },
            {
             "iteration": 29,
             "learn": [
              0.2940596388
             ],
             "passed_time": 11.99408005,
             "remaining_time": 27.98618677,
             "test": [
              0.2883507523
             ]
            },
            {
             "iteration": 30,
             "learn": [
              0.2867978317
             ],
             "passed_time": 12.44966756,
             "remaining_time": 27.71055037,
             "test": [
              0.2809810154
             ]
            },
            {
             "iteration": 31,
             "learn": [
              0.2803898188
             ],
             "passed_time": 12.77713917,
             "remaining_time": 27.15142074,
             "test": [
              0.2743702452
             ]
            },
            {
             "iteration": 32,
             "learn": [
              0.2735914456
             ],
             "passed_time": 13.23542815,
             "remaining_time": 26.87192989,
             "test": [
              0.2674900381
             ]
            },
            {
             "iteration": 33,
             "learn": [
              0.2675728888
             ],
             "passed_time": 13.56917176,
             "remaining_time": 26.34015695,
             "test": [
              0.2614739882
             ]
            },
            {
             "iteration": 34,
             "learn": [
              0.2614866901
             ],
             "passed_time": 14.03074738,
             "remaining_time": 26.05710228,
             "test": [
              0.2554537458
             ]
            },
            {
             "iteration": 35,
             "learn": [
              0.2558915918
             ],
             "passed_time": 14.49401648,
             "remaining_time": 25.7671404,
             "test": [
              0.2499080372
             ]
            },
            {
             "iteration": 36,
             "learn": [
              0.2502022596
             ],
             "passed_time": 14.95670482,
             "remaining_time": 25.46682171,
             "test": [
              0.2442700149
             ]
            },
            {
             "iteration": 37,
             "learn": [
              0.2446238919
             ],
             "passed_time": 15.32152564,
             "remaining_time": 24.99827868,
             "test": [
              0.2385116822
             ]
            },
            {
             "iteration": 38,
             "learn": [
              0.239083932
             ],
             "passed_time": 15.73527451,
             "remaining_time": 24.6115832,
             "test": [
              0.2329110348
             ]
            },
            {
             "iteration": 39,
             "learn": [
              0.2338162506
             ],
             "passed_time": 16.22014786,
             "remaining_time": 24.3302218,
             "test": [
              0.2276005976
             ]
            },
            {
             "iteration": 40,
             "learn": [
              0.2291341064
             ],
             "passed_time": 16.55674112,
             "remaining_time": 23.82555429,
             "test": [
              0.222745872
             ]
            },
            {
             "iteration": 41,
             "learn": [
              0.2242960161
             ],
             "passed_time": 17.03671467,
             "remaining_time": 23.52689169,
             "test": [
              0.2178216212
             ]
            },
            {
             "iteration": 42,
             "learn": [
              0.2197009639
             ],
             "passed_time": 17.3750245,
             "remaining_time": 23.03200922,
             "test": [
              0.2132025977
             ]
            },
            {
             "iteration": 43,
             "learn": [
              0.2146603148
             ],
             "passed_time": 17.87578743,
             "remaining_time": 22.75100219,
             "test": [
              0.208340653
             ]
            },
            {
             "iteration": 44,
             "learn": [
              0.2105578499
             ],
             "passed_time": 18.32786655,
             "remaining_time": 22.40072578,
             "test": [
              0.204320404
             ]
            },
            {
             "iteration": 45,
             "learn": [
              0.206555804
             ],
             "passed_time": 18.81088145,
             "remaining_time": 22.08233909,
             "test": [
              0.200512683
             ]
            },
            {
             "iteration": 46,
             "learn": [
              0.2021710371
             ],
             "passed_time": 19.50903067,
             "remaining_time": 21.99954523,
             "test": [
              0.1960350405
             ]
            },
            {
             "iteration": 47,
             "learn": [
              0.1982358696
             ],
             "passed_time": 19.9485917,
             "remaining_time": 21.61097434,
             "test": [
              0.1921515651
             ]
            },
            {
             "iteration": 48,
             "learn": [
              0.1942881729
             ],
             "passed_time": 20.32618986,
             "remaining_time": 21.15583026,
             "test": [
              0.1881488643
             ]
            },
            {
             "iteration": 49,
             "learn": [
              0.1905831002
             ],
             "passed_time": 20.83741562,
             "remaining_time": 20.83741562,
             "test": [
              0.1843515912
             ]
            },
            {
             "iteration": 50,
             "learn": [
              0.1869022496
             ],
             "passed_time": 21.17367568,
             "remaining_time": 20.34333546,
             "test": [
              0.180499081
             ]
            },
            {
             "iteration": 51,
             "learn": [
              0.1829847939
             ],
             "passed_time": 21.67456435,
             "remaining_time": 20.00729017,
             "test": [
              0.1766185519
             ]
            },
            {
             "iteration": 52,
             "learn": [
              0.1796371092
             ],
             "passed_time": 22.11640345,
             "remaining_time": 19.61265966,
             "test": [
              0.1734232905
             ]
            },
            {
             "iteration": 53,
             "learn": [
              0.1759850306
             ],
             "passed_time": 22.60694151,
             "remaining_time": 19.25776499,
             "test": [
              0.1697983974
             ]
            },
            {
             "iteration": 54,
             "learn": [
              0.1727996709
             ],
             "passed_time": 22.9426154,
             "remaining_time": 18.77123078,
             "test": [
              0.1663954428
             ]
            },
            {
             "iteration": 55,
             "learn": [
              0.1692649795
             ],
             "passed_time": 23.44317513,
             "remaining_time": 18.4196376,
             "test": [
              0.1629670883
             ]
            },
            {
             "iteration": 56,
             "learn": [
              0.1662450291
             ],
             "passed_time": 23.7763571,
             "remaining_time": 17.93655009,
             "test": [
              0.1597725277
             ]
            },
            {
             "iteration": 57,
             "learn": [
              0.1629375099
             ],
             "passed_time": 24.27105552,
             "remaining_time": 17.57559193,
             "test": [
              0.1565388336
             ]
            },
            {
             "iteration": 58,
             "learn": [
              0.159767198
             ],
             "passed_time": 24.68528497,
             "remaining_time": 17.15418108,
             "test": [
              0.1532055442
             ]
            },
            {
             "iteration": 59,
             "learn": [
              0.1567281149
             ],
             "passed_time": 25.16999286,
             "remaining_time": 16.77999524,
             "test": [
              0.1503079499
             ]
            },
            {
             "iteration": 60,
             "learn": [
              0.1539709381
             ],
             "passed_time": 25.51310256,
             "remaining_time": 16.31165573,
             "test": [
              0.1474430093
             ]
            },
            {
             "iteration": 61,
             "learn": [
              0.1508131613
             ],
             "passed_time": 25.92476128,
             "remaining_time": 15.88936982,
             "test": [
              0.1441557657
             ]
            },
            {
             "iteration": 62,
             "learn": [
              0.1480501942
             ],
             "passed_time": 26.41467924,
             "remaining_time": 15.51338305,
             "test": [
              0.1415315831
             ]
            },
            {
             "iteration": 63,
             "learn": [
              0.1448711405
             ],
             "passed_time": 26.89790754,
             "remaining_time": 15.13007299,
             "test": [
              0.1383206916
             ]
            },
            {
             "iteration": 64,
             "learn": [
              0.142291321
             ],
             "passed_time": 27.36821857,
             "remaining_time": 14.73673308,
             "test": [
              0.1356356216
             ]
            },
            {
             "iteration": 65,
             "learn": [
              0.1399120077
             ],
             "passed_time": 27.73870492,
             "remaining_time": 14.28963587,
             "test": [
              0.1334240296
             ]
            },
            {
             "iteration": 66,
             "learn": [
              0.1377984274
             ],
             "passed_time": 28.07517474,
             "remaining_time": 13.82807114,
             "test": [
              0.1313144374
             ]
            },
            {
             "iteration": 67,
             "learn": [
              0.1353885077
             ],
             "passed_time": 28.57851066,
             "remaining_time": 13.4487109,
             "test": [
              0.1289783664
             ]
            },
            {
             "iteration": 68,
             "learn": [
              0.1325609932
             ],
             "passed_time": 29.06189462,
             "remaining_time": 13.05679323,
             "test": [
              0.1263089683
             ]
            },
            {
             "iteration": 69,
             "learn": [
              0.1300485998
             ],
             "passed_time": 29.55670167,
             "remaining_time": 12.66715786,
             "test": [
              0.1237998261
             ]
            },
            {
             "iteration": 70,
             "learn": [
              0.1278345408
             ],
             "passed_time": 29.91570559,
             "remaining_time": 12.21909102,
             "test": [
              0.1215116918
             ]
            },
            {
             "iteration": 71,
             "learn": [
              0.1258622668
             ],
             "passed_time": 30.35913607,
             "remaining_time": 11.80633069,
             "test": [
              0.119523089
             ]
            },
            {
             "iteration": 72,
             "learn": [
              0.1238877439
             ],
             "passed_time": 30.80681258,
             "remaining_time": 11.39430054,
             "test": [
              0.1176690462
             ]
            },
            {
             "iteration": 73,
             "learn": [
              0.1221266705
             ],
             "passed_time": 31.13842566,
             "remaining_time": 10.94052793,
             "test": [
              0.1159302363
             ]
            },
            {
             "iteration": 74,
             "learn": [
              0.1200404913
             ],
             "passed_time": 31.59592453,
             "remaining_time": 10.53197484,
             "test": [
              0.1138042779
             ]
            },
            {
             "iteration": 75,
             "learn": [
              0.1178953461
             ],
             "passed_time": 32.0089015,
             "remaining_time": 10.10807416,
             "test": [
              0.1115720853
             ]
            },
            {
             "iteration": 76,
             "learn": [
              0.1158960888
             ],
             "passed_time": 32.46351218,
             "remaining_time": 9.696893248,
             "test": [
              0.1095512519
             ]
            },
            {
             "iteration": 77,
             "learn": [
              0.1136931298
             ],
             "passed_time": 32.86580744,
             "remaining_time": 9.269843125,
             "test": [
              0.1074522741
             ]
            },
            {
             "iteration": 78,
             "learn": [
              0.1119050042
             ],
             "passed_time": 33.19732543,
             "remaining_time": 8.824605493,
             "test": [
              0.1056073315
             ]
            },
            {
             "iteration": 79,
             "learn": [
              0.1098401966
             ],
             "passed_time": 33.65576519,
             "remaining_time": 8.413941298,
             "test": [
              0.1036177117
             ]
            },
            {
             "iteration": 80,
             "learn": [
              0.1081446525
             ],
             "passed_time": 34.11358225,
             "remaining_time": 8.001951393,
             "test": [
              0.1018313625
             ]
            },
            {
             "iteration": 81,
             "learn": [
              0.106657929
             ],
             "passed_time": 34.53119413,
             "remaining_time": 7.580018224,
             "test": [
              0.100210584
             ]
            },
            {
             "iteration": 82,
             "learn": [
              0.1049371052
             ],
             "passed_time": 34.91892326,
             "remaining_time": 7.15206862,
             "test": [
              0.09871192287
             ]
            },
            {
             "iteration": 83,
             "learn": [
              0.103193747
             ],
             "passed_time": 35.29744699,
             "remaining_time": 6.723323237,
             "test": [
              0.09701238036
             ]
            },
            {
             "iteration": 84,
             "learn": [
              0.1017696053
             ],
             "passed_time": 35.70695388,
             "remaining_time": 6.301227156,
             "test": [
              0.09554556898
             ]
            },
            {
             "iteration": 85,
             "learn": [
              0.1000088033
             ],
             "passed_time": 36.11280337,
             "remaining_time": 5.878828456,
             "test": [
              0.09372663028
             ]
            },
            {
             "iteration": 86,
             "learn": [
              0.09849483411
             ],
             "passed_time": 36.60084532,
             "remaining_time": 5.46909183,
             "test": [
              0.09228939057
             ]
            },
            {
             "iteration": 87,
             "learn": [
              0.09719522782
             ],
             "passed_time": 36.96527715,
             "remaining_time": 5.040719612,
             "test": [
              0.09099224526
             ]
            },
            {
             "iteration": 88,
             "learn": [
              0.09601586999
             ],
             "passed_time": 37.32194182,
             "remaining_time": 4.612824269,
             "test": [
              0.08984130721
             ]
            },
            {
             "iteration": 89,
             "learn": [
              0.09473141992
             ],
             "passed_time": 37.75139715,
             "remaining_time": 4.194599683,
             "test": [
              0.08855195978
             ]
            },
            {
             "iteration": 90,
             "learn": [
              0.09310271285
             ],
             "passed_time": 38.18631302,
             "remaining_time": 3.776668321,
             "test": [
              0.08695658945
             ]
            },
            {
             "iteration": 91,
             "learn": [
              0.09154025299
             ],
             "passed_time": 38.62612808,
             "remaining_time": 3.358793746,
             "test": [
              0.08545248939
             ]
            },
            {
             "iteration": 92,
             "learn": [
              0.0899391509
             ],
             "passed_time": 39.12138236,
             "remaining_time": 2.944620178,
             "test": [
              0.08395413182
             ]
            },
            {
             "iteration": 93,
             "learn": [
              0.08863575971
             ],
             "passed_time": 39.48951777,
             "remaining_time": 2.520607517,
             "test": [
              0.08273403999
             ]
            },
            {
             "iteration": 94,
             "learn": [
              0.08724222814
             ],
             "passed_time": 39.86036584,
             "remaining_time": 2.097913992,
             "test": [
              0.08134169444
             ]
            },
            {
             "iteration": 95,
             "learn": [
              0.08613309785
             ],
             "passed_time": 40.24175554,
             "remaining_time": 1.676739814,
             "test": [
              0.08023370949
             ]
            },
            {
             "iteration": 96,
             "learn": [
              0.08487183173
             ],
             "passed_time": 40.64063783,
             "remaining_time": 1.256926943,
             "test": [
              0.07894734515
             ]
            },
            {
             "iteration": 97,
             "learn": [
              0.08365812174
             ],
             "passed_time": 40.97748034,
             "remaining_time": 0.8362751091,
             "test": [
              0.07778782741
             ]
            },
            {
             "iteration": 98,
             "learn": [
              0.08242575899
             ],
             "passed_time": 41.35042937,
             "remaining_time": 0.4176811047,
             "test": [
              0.07663729887
             ]
            },
            {
             "iteration": 99,
             "learn": [
              0.08127505178
             ],
             "passed_time": 41.72276059,
             "remaining_time": 0,
             "test": [
              0.07555961872
             ]
            }
           ],
           "meta": {
            "iteration_count": 100,
            "launch_mode": "Train",
            "learn_metrics": [
             {
              "best_value": "Min",
              "name": "CrossEntropy"
             }
            ],
            "learn_sets": [
             "learn"
            ],
            "name": "experiment",
            "parameters": "",
            "test_metrics": [
             {
              "best_value": "Min",
              "name": "CrossEntropy"
             }
            ],
            "test_sets": [
             "test"
            ]
           }
          },
          "passed_iterations": 99,
          "total_iterations": 100
         },
         "name": "catboost_info",
         "path": "catboost_info"
        }
       },
       "layout": "IPY_MODEL_567c38d54c2f4f9baca026dedeb74f66"
      }
     },
     "d091b28493b14f30a191e89d76637a0b": {
      "model_module": "@jupyter-widgets/base",
      "model_module_version": "1.2.0",
      "model_name": "LayoutModel",
      "state": {
       "_model_module": "@jupyter-widgets/base",
       "_model_module_version": "1.2.0",
       "_model_name": "LayoutModel",
       "_view_count": null,
       "_view_module": "@jupyter-widgets/base",
       "_view_module_version": "1.2.0",
       "_view_name": "LayoutView",
       "align_content": null,
       "align_items": null,
       "align_self": "stretch",
       "border": null,
       "bottom": null,
       "display": null,
       "flex": null,
       "flex_flow": null,
       "grid_area": null,
       "grid_auto_columns": null,
       "grid_auto_flow": null,
       "grid_auto_rows": null,
       "grid_column": null,
       "grid_gap": null,
       "grid_row": null,
       "grid_template_areas": null,
       "grid_template_columns": null,
       "grid_template_rows": null,
       "height": "500px",
       "justify_content": null,
       "justify_items": null,
       "left": null,
       "margin": null,
       "max_height": null,
       "max_width": null,
       "min_height": null,
       "min_width": null,
       "object_fit": null,
       "object_position": null,
       "order": null,
       "overflow": null,
       "overflow_x": null,
       "overflow_y": null,
       "padding": null,
       "right": null,
       "top": null,
       "visibility": null,
       "width": null
      }
     },
     "e0f148be8d0c42da820cdb437c5d25dc": {
      "model_module": "@jupyter-widgets/base",
      "model_module_version": "1.2.0",
      "model_name": "LayoutModel",
      "state": {
       "_model_module": "@jupyter-widgets/base",
       "_model_module_version": "1.2.0",
       "_model_name": "LayoutModel",
       "_view_count": null,
       "_view_module": "@jupyter-widgets/base",
       "_view_module_version": "1.2.0",
       "_view_name": "LayoutView",
       "align_content": null,
       "align_items": null,
       "align_self": "stretch",
       "border": null,
       "bottom": null,
       "display": null,
       "flex": null,
       "flex_flow": null,
       "grid_area": null,
       "grid_auto_columns": null,
       "grid_auto_flow": null,
       "grid_auto_rows": null,
       "grid_column": null,
       "grid_gap": null,
       "grid_row": null,
       "grid_template_areas": null,
       "grid_template_columns": null,
       "grid_template_rows": null,
       "height": "500px",
       "justify_content": null,
       "justify_items": null,
       "left": null,
       "margin": null,
       "max_height": null,
       "max_width": null,
       "min_height": null,
       "min_width": null,
       "object_fit": null,
       "object_position": null,
       "order": null,
       "overflow": null,
       "overflow_x": null,
       "overflow_y": null,
       "padding": null,
       "right": null,
       "top": null,
       "visibility": null,
       "width": null
      }
     },
     "e10c2279b21549f8b56069efdba49b16": {
      "model_module": "catboost-widget",
      "model_module_version": "^1.0.0",
      "model_name": "CatboostWidgetModel",
      "state": {
       "_dom_classes": [],
       "_model_module": "catboost-widget",
       "_model_module_version": "^1.0.0",
       "_model_name": "CatboostWidgetModel",
       "_view_count": null,
       "_view_module": "catboost-widget",
       "_view_module_version": "^1.0.0",
       "_view_name": "CatboostWidgetView",
       "data": {
        "catboost_info": {
         "content": {
          "data": {
           "iterations": [
            {
             "iteration": 0,
             "learn": [
              0.662111754
             ],
             "passed_time": 0.4044918843,
             "remaining_time": 40.04469655,
             "test": [
              0.6641379178
             ]
            },
            {
             "iteration": 1,
             "learn": [
              0.6371195534
             ],
             "passed_time": 0.8275078815,
             "remaining_time": 40.54788619,
             "test": [
              0.6367393648
             ]
            },
            {
             "iteration": 2,
             "learn": [
              0.6107758228
             ],
             "passed_time": 1.243239891,
             "remaining_time": 40.19808979,
             "test": [
              0.6109331252
             ]
            },
            {
             "iteration": 3,
             "learn": [
              0.5857953106
             ],
             "passed_time": 1.630200925,
             "remaining_time": 39.1248222,
             "test": [
              0.5865117526
             ]
            },
            {
             "iteration": 4,
             "learn": [
              0.5643332936
             ],
             "passed_time": 2.210552427,
             "remaining_time": 42.00049612,
             "test": [
              0.563359437
             ]
            },
            {
             "iteration": 5,
             "learn": [
              0.5405975058
             ],
             "passed_time": 2.750955016,
             "remaining_time": 43.09829525,
             "test": [
              0.5414754516
             ]
            },
            {
             "iteration": 6,
             "learn": [
              0.5197837001
             ],
             "passed_time": 3.28192489,
             "remaining_time": 43.60271639,
             "test": [
              0.5207240333
             ]
            },
            {
             "iteration": 7,
             "learn": [
              0.5017635493
             ],
             "passed_time": 3.711600183,
             "remaining_time": 42.68340211,
             "test": [
              0.5009418613
             ]
            },
            {
             "iteration": 8,
             "learn": [
              0.4819587393
             ],
             "passed_time": 4.114954522,
             "remaining_time": 41.60676239,
             "test": [
              0.4822438548
             ]
            },
            {
             "iteration": 9,
             "learn": [
              0.4643926982
             ],
             "passed_time": 4.51326123,
             "remaining_time": 40.61935107,
             "test": [
              0.4643917638
             ]
            },
            {
             "iteration": 10,
             "learn": [
              0.4478444965
             ],
             "passed_time": 4.894066907,
             "remaining_time": 39.59745043,
             "test": [
              0.4473786301
             ]
            },
            {
             "iteration": 11,
             "learn": [
              0.4321358389
             ],
             "passed_time": 5.322730256,
             "remaining_time": 39.03335521,
             "test": [
              0.4311264732
             ]
            },
            {
             "iteration": 12,
             "learn": [
              0.416490577
             ],
             "passed_time": 5.691269846,
             "remaining_time": 38.08772897,
             "test": [
              0.4156175133
             ]
            },
            {
             "iteration": 13,
             "learn": [
              0.401408718
             ],
             "passed_time": 6.115539038,
             "remaining_time": 37.56688266,
             "test": [
              0.4008177589
             ]
            },
            {
             "iteration": 14,
             "learn": [
              0.3873118966
             ],
             "passed_time": 6.518967877,
             "remaining_time": 36.94081797,
             "test": [
              0.3866756704
             ]
            },
            {
             "iteration": 15,
             "learn": [
              0.3725850522
             ],
             "passed_time": 6.902559459,
             "remaining_time": 36.23843716,
             "test": [
              0.3731651913
             ]
            },
            {
             "iteration": 16,
             "learn": [
              0.359561546
             ],
             "passed_time": 7.302589542,
             "remaining_time": 35.65381953,
             "test": [
              0.360215757
             ]
            },
            {
             "iteration": 17,
             "learn": [
              0.3486018725
             ],
             "passed_time": 7.726547127,
             "remaining_time": 35.19871469,
             "test": [
              0.3477996229
             ]
            },
            {
             "iteration": 18,
             "learn": [
              0.3359969134
             ],
             "passed_time": 8.132451819,
             "remaining_time": 34.66992618,
             "test": [
              0.3359138314
             ]
            },
            {
             "iteration": 19,
             "learn": [
              0.3254273381
             ],
             "passed_time": 8.54974353,
             "remaining_time": 34.19897412,
             "test": [
              0.3245495109
             ]
            },
            {
             "iteration": 20,
             "learn": [
              0.3132565018
             ],
             "passed_time": 8.921837846,
             "remaining_time": 33.56310428,
             "test": [
              0.3136457617
             ]
            },
            {
             "iteration": 21,
             "learn": [
              0.3030045893
             ],
             "passed_time": 9.359270052,
             "remaining_time": 33.18286655,
             "test": [
              0.3031522022
             ]
            },
            {
             "iteration": 22,
             "learn": [
              0.2930495994
             ],
             "passed_time": 9.758863786,
             "remaining_time": 32.67097876,
             "test": [
              0.2930551828
             ]
            },
            {
             "iteration": 23,
             "learn": [
              0.2830644176
             ],
             "passed_time": 10.17308258,
             "remaining_time": 32.21476149,
             "test": [
              0.2833984897
             ]
            },
            {
             "iteration": 24,
             "learn": [
              0.2732587684
             ],
             "passed_time": 10.57550404,
             "remaining_time": 31.72651212,
             "test": [
              0.2741449386
             ]
            },
            {
             "iteration": 25,
             "learn": [
              0.2647006591
             ],
             "passed_time": 10.96347097,
             "remaining_time": 31.20372508,
             "test": [
              0.2651911879
             ]
            },
            {
             "iteration": 26,
             "learn": [
              0.2566883522
             ],
             "passed_time": 11.36754086,
             "remaining_time": 30.73446232,
             "test": [
              0.256636991
             ]
            },
            {
             "iteration": 27,
             "learn": [
              0.2487795764
             ],
             "passed_time": 11.7415845,
             "remaining_time": 30.19264585,
             "test": [
              0.248368974
             ]
            },
            {
             "iteration": 28,
             "learn": [
              0.240583402
             ],
             "passed_time": 12.15001389,
             "remaining_time": 29.74658573,
             "test": [
              0.2404474971
             ]
            },
            {
             "iteration": 29,
             "learn": [
              0.2328444441
             ],
             "passed_time": 12.5532556,
             "remaining_time": 29.29092973,
             "test": [
              0.232786397
             ]
            },
            {
             "iteration": 30,
             "learn": [
              0.2256353806
             ],
             "passed_time": 12.99802047,
             "remaining_time": 28.93107783,
             "test": [
              0.2254349439
             ]
            },
            {
             "iteration": 31,
             "learn": [
              0.218172147
             ],
             "passed_time": 13.4297292,
             "remaining_time": 28.53817455,
             "test": [
              0.2183456298
             ]
            },
            {
             "iteration": 32,
             "learn": [
              0.2107574127
             ],
             "passed_time": 13.83614151,
             "remaining_time": 28.09156004,
             "test": [
              0.2114763584
             ]
            },
            {
             "iteration": 33,
             "learn": [
              0.2040132953
             ],
             "passed_time": 14.22323679,
             "remaining_time": 27.6098126,
             "test": [
              0.2048879833
             ]
            },
            {
             "iteration": 34,
             "learn": [
              0.1985594632
             ],
             "passed_time": 14.60515438,
             "remaining_time": 27.12385814,
             "test": [
              0.1985304462
             ]
            },
            {
             "iteration": 35,
             "learn": [
              0.1915342366
             ],
             "passed_time": 14.98682747,
             "remaining_time": 26.64324883,
             "test": [
              0.1924005206
             ]
            },
            {
             "iteration": 36,
             "learn": [
              0.1862606763
             ],
             "passed_time": 15.41524686,
             "remaining_time": 26.24758249,
             "test": [
              0.186530735
             ]
            },
            {
             "iteration": 37,
             "learn": [
              0.1799749492
             ],
             "passed_time": 15.8263148,
             "remaining_time": 25.82188204,
             "test": [
              0.1808203658
             ]
            },
            {
             "iteration": 38,
             "learn": [
              0.1753294874
             ],
             "passed_time": 16.22712606,
             "remaining_time": 25.38088949,
             "test": [
              0.175333894
             ]
            },
            {
             "iteration": 39,
             "learn": [
              0.1693160032
             ],
             "passed_time": 16.61294136,
             "remaining_time": 24.91941204,
             "test": [
              0.1700263538
             ]
            },
            {
             "iteration": 40,
             "learn": [
              0.1642275114
             ],
             "passed_time": 17.03419079,
             "remaining_time": 24.51261602,
             "test": [
              0.1648884054
             ]
            },
            {
             "iteration": 41,
             "learn": [
              0.1598519806
             ],
             "passed_time": 17.42701909,
             "remaining_time": 24.0658835,
             "test": [
              0.1599613021
             ]
            },
            {
             "iteration": 42,
             "learn": [
              0.1548823362
             ],
             "passed_time": 17.86230172,
             "remaining_time": 23.67793484,
             "test": [
              0.1552153232
             ]
            },
            {
             "iteration": 43,
             "learn": [
              0.1500082573
             ],
             "passed_time": 18.27442041,
             "remaining_time": 23.25835325,
             "test": [
              0.150595169
             ]
            },
            {
             "iteration": 44,
             "learn": [
              0.1452945945
             ],
             "passed_time": 18.67814988,
             "remaining_time": 22.82884985,
             "test": [
              0.1461584305
             ]
            },
            {
             "iteration": 45,
             "learn": [
              0.1410722639
             ],
             "passed_time": 19.06929951,
             "remaining_time": 22.38569942,
             "test": [
              0.1418486004
             ]
            },
            {
             "iteration": 46,
             "learn": [
              0.1370667579
             ],
             "passed_time": 19.47425033,
             "remaining_time": 21.96032484,
             "test": [
              0.1376512344
             ]
            },
            {
             "iteration": 47,
             "learn": [
              0.1331640965
             ],
             "passed_time": 19.87507566,
             "remaining_time": 21.53133197,
             "test": [
              0.1336601341
             ]
            },
            {
             "iteration": 48,
             "learn": [
              0.1292809149
             ],
             "passed_time": 20.25272569,
             "remaining_time": 21.07936755,
             "test": [
              0.1297824047
             ]
            },
            {
             "iteration": 49,
             "learn": [
              0.1254472246
             ],
             "passed_time": 20.66224563,
             "remaining_time": 20.66224563,
             "test": [
              0.1260473081
             ]
            },
            {
             "iteration": 50,
             "learn": [
              0.1216240631
             ],
             "passed_time": 21.05623434,
             "remaining_time": 20.23049966,
             "test": [
              0.1224258636
             ]
            },
            {
             "iteration": 51,
             "learn": [
              0.118108497
             ],
             "passed_time": 21.47662402,
             "remaining_time": 19.82457602,
             "test": [
              0.1189138387
             ]
            },
            {
             "iteration": 52,
             "learn": [
              0.1149991753
             ],
             "passed_time": 21.84196969,
             "remaining_time": 19.36929388,
             "test": [
              0.1155204764
             ]
            },
            {
             "iteration": 53,
             "learn": [
              0.1117413943
             ],
             "passed_time": 22.26099182,
             "remaining_time": 18.9630671,
             "test": [
              0.1122439039
             ]
            },
            {
             "iteration": 54,
             "learn": [
              0.1081983388
             ],
             "passed_time": 22.65057958,
             "remaining_time": 18.53229238,
             "test": [
              0.1090605301
             ]
            },
            {
             "iteration": 55,
             "learn": [
              0.1055104866
             ],
             "passed_time": 23.11171167,
             "remaining_time": 18.15920202,
             "test": [
              0.1060040328
             ]
            },
            {
             "iteration": 56,
             "learn": [
              0.1022429514
             ],
             "passed_time": 23.4991623,
             "remaining_time": 17.72743823,
             "test": [
              0.1030221701
             ]
            },
            {
             "iteration": 57,
             "learn": [
              0.09963135718
             ],
             "passed_time": 23.92284175,
             "remaining_time": 17.32343713,
             "test": [
              0.1001193799
             ]
            },
            {
             "iteration": 58,
             "learn": [
              0.09647108733
             ],
             "passed_time": 24.39923101,
             "remaining_time": 16.95539782,
             "test": [
              0.09734937013
             ]
            },
            {
             "iteration": 59,
             "learn": [
              0.09396265141
             ],
             "passed_time": 24.77656954,
             "remaining_time": 16.51771303,
             "test": [
              0.09466735768
             ]
            },
            {
             "iteration": 60,
             "learn": [
              0.09120431351
             ],
             "passed_time": 25.18708416,
             "remaining_time": 16.10321774,
             "test": [
              0.09204292388
             ]
            },
            {
             "iteration": 61,
             "learn": [
              0.08867298834
             ],
             "passed_time": 25.59690627,
             "remaining_time": 15.68842642,
             "test": [
              0.08949076646
             ]
            },
            {
             "iteration": 62,
             "learn": [
              0.08647209999
             ],
             "passed_time": 25.99582337,
             "remaining_time": 15.26738833,
             "test": [
              0.08702593815
             ]
            },
            {
             "iteration": 63,
             "learn": [
              0.08399111094
             ],
             "passed_time": 26.40037394,
             "remaining_time": 14.85021034,
             "test": [
              0.08465446841
             ]
            },
            {
             "iteration": 64,
             "learn": [
              0.08156575011
             ],
             "passed_time": 26.83757317,
             "remaining_time": 14.45100094,
             "test": [
              0.08237452872
             ]
            },
            {
             "iteration": 65,
             "learn": [
              0.07918686416
             ],
             "passed_time": 27.23112533,
             "remaining_time": 14.02815548,
             "test": [
              0.08011733713
             ]
            },
            {
             "iteration": 66,
             "learn": [
              0.07707174103
             ],
             "passed_time": 27.62939375,
             "remaining_time": 13.60850737,
             "test": [
              0.07795403239
             ]
            },
            {
             "iteration": 67,
             "learn": [
              0.07501778004
             ],
             "passed_time": 28.03735179,
             "remaining_time": 13.1940479,
             "test": [
              0.07586310447
             ]
            },
            {
             "iteration": 68,
             "learn": [
              0.07304158006
             ],
             "passed_time": 28.4426334,
             "remaining_time": 12.77857442,
             "test": [
              0.07382903003
             ]
            },
            {
             "iteration": 69,
             "learn": [
              0.07107752871
             ],
             "passed_time": 28.84937009,
             "remaining_time": 12.36401575,
             "test": [
              0.07184312458
             ]
            },
            {
             "iteration": 70,
             "learn": [
              0.06913683649
             ],
             "passed_time": 29.25558931,
             "remaining_time": 11.94946606,
             "test": [
              0.07001018864
             ]
            },
            {
             "iteration": 71,
             "learn": [
              0.0672602604
             ],
             "passed_time": 29.64335997,
             "remaining_time": 11.52797332,
             "test": [
              0.06818159089
             ]
            },
            {
             "iteration": 72,
             "learn": [
              0.06548082197
             ],
             "passed_time": 30.03352114,
             "remaining_time": 11.10828864,
             "test": [
              0.06640739847
             ]
            },
            {
             "iteration": 73,
             "learn": [
              0.06396565894
             ],
             "passed_time": 30.43132204,
             "remaining_time": 10.69208612,
             "test": [
              0.06469708591
             ]
            },
            {
             "iteration": 74,
             "learn": [
              0.06223805419
             ],
             "passed_time": 30.83234613,
             "remaining_time": 10.27744871,
             "test": [
              0.06301343496
             ]
            },
            {
             "iteration": 75,
             "learn": [
              0.06047034727
             ],
             "passed_time": 31.24224015,
             "remaining_time": 9.865970573,
             "test": [
              0.06140135858
             ]
            },
            {
             "iteration": 76,
             "learn": [
              0.05908953244
             ],
             "passed_time": 31.64415381,
             "remaining_time": 9.452149839,
             "test": [
              0.05988034256
             ]
            },
            {
             "iteration": 77,
             "learn": [
              0.05740073138
             ],
             "passed_time": 32.10649866,
             "remaining_time": 9.055679109,
             "test": [
              0.05836628307
             ]
            },
            {
             "iteration": 78,
             "learn": [
              0.0559297372
             ],
             "passed_time": 32.48865507,
             "remaining_time": 8.636224765,
             "test": [
              0.05687907358
             ]
            },
            {
             "iteration": 79,
             "learn": [
              0.054455052
             ],
             "passed_time": 32.90646724,
             "remaining_time": 8.226616809,
             "test": [
              0.05546490874
             ]
            },
            {
             "iteration": 80,
             "learn": [
              0.05315159221
             ],
             "passed_time": 33.32212529,
             "remaining_time": 7.816300994,
             "test": [
              0.05408220727
             ]
            },
            {
             "iteration": 81,
             "learn": [
              0.05173174915
             ],
             "passed_time": 33.83027576,
             "remaining_time": 7.426158094,
             "test": [
              0.05275189878
             ]
            },
            {
             "iteration": 82,
             "learn": [
              0.05046025321
             ],
             "passed_time": 34.40585742,
             "remaining_time": 7.046982846,
             "test": [
              0.05144834094
             ]
            },
            {
             "iteration": 83,
             "learn": [
              0.04924764657
             ],
             "passed_time": 34.96763201,
             "remaining_time": 6.660501336,
             "test": [
              0.05020510126
             ]
            },
            {
             "iteration": 84,
             "learn": [
              0.04791912655
             ],
             "passed_time": 35.41515653,
             "remaining_time": 6.249733506,
             "test": [
              0.04891207883
             ]
            },
            {
             "iteration": 85,
             "learn": [
              0.0467003637
             ],
             "passed_time": 35.8260656,
             "remaining_time": 5.832150213,
             "test": [
              0.04775048948
             ]
            },
            {
             "iteration": 86,
             "learn": [
              0.04556084847
             ],
             "passed_time": 36.2087604,
             "remaining_time": 5.410504428,
             "test": [
              0.0465818993
             ]
            },
            {
             "iteration": 87,
             "learn": [
              0.04449805694
             ],
             "passed_time": 36.61660954,
             "remaining_time": 4.993174028,
             "test": [
              0.04547320676
             ]
            },
            {
             "iteration": 88,
             "learn": [
              0.04338278043
             ],
             "passed_time": 36.99653895,
             "remaining_time": 4.572605937,
             "test": [
              0.04430016213
             ]
            },
            {
             "iteration": 89,
             "learn": [
              0.04233281625
             ],
             "passed_time": 37.41633996,
             "remaining_time": 4.157371106,
             "test": [
              0.04323690155
             ]
            },
            {
             "iteration": 90,
             "learn": [
              0.04127706729
             ],
             "passed_time": 37.80764619,
             "remaining_time": 3.739217755,
             "test": [
              0.04225801022
             ]
            },
            {
             "iteration": 91,
             "learn": [
              0.04026849435
             ],
             "passed_time": 38.19274608,
             "remaining_time": 3.321108355,
             "test": [
              0.04128012762
             ]
            },
            {
             "iteration": 92,
             "learn": [
              0.03927096004
             ],
             "passed_time": 38.65186502,
             "remaining_time": 2.909280162,
             "test": [
              0.04032959951
             ]
            },
            {
             "iteration": 93,
             "learn": [
              0.03837158786
             ],
             "passed_time": 39.0556649,
             "remaining_time": 2.492914781,
             "test": [
              0.03939687905
             ]
            },
            {
             "iteration": 94,
             "learn": [
              0.03743585057
             ],
             "passed_time": 39.44486285,
             "remaining_time": 2.076045413,
             "test": [
              0.03850077804
             ]
            },
            {
             "iteration": 95,
             "learn": [
              0.03659133114
             ],
             "passed_time": 39.86079197,
             "remaining_time": 1.660866332,
             "test": [
              0.03763287623
             ]
            },
            {
             "iteration": 96,
             "learn": [
              0.03570798443
             ],
             "passed_time": 40.25022499,
             "remaining_time": 1.244852319,
             "test": [
              0.0368185662
             ]
            },
            {
             "iteration": 97,
             "learn": [
              0.03488690697
             ],
             "passed_time": 40.6441977,
             "remaining_time": 0.8294734224,
             "test": [
              0.03596446914
             ]
            },
            {
             "iteration": 98,
             "learn": [
              0.0340734269
             ],
             "passed_time": 41.03591118,
             "remaining_time": 0.4145041533,
             "test": [
              0.03514181231
             ]
            },
            {
             "iteration": 99,
             "learn": [
              0.03324002348
             ],
             "passed_time": 41.43197532,
             "remaining_time": 0,
             "test": [
              0.03433490808
             ]
            }
           ],
           "meta": {
            "iteration_count": 100,
            "launch_mode": "Train",
            "learn_metrics": [
             {
              "best_value": "Min",
              "name": "CrossEntropy"
             }
            ],
            "learn_sets": [
             "learn"
            ],
            "name": "experiment",
            "parameters": "",
            "test_metrics": [
             {
              "best_value": "Min",
              "name": "CrossEntropy"
             }
            ],
            "test_sets": [
             "test"
            ]
           }
          },
          "passed_iterations": 99,
          "total_iterations": 100
         },
         "name": "catboost_info",
         "path": "catboost_info"
        }
       },
       "layout": "IPY_MODEL_c82226184deb4af4b0f9fe61bfda7091"
      }
     },
     "e4df8f77557d464281b299d4958e1d98": {
      "model_module": "@jupyter-widgets/base",
      "model_module_version": "1.2.0",
      "model_name": "LayoutModel",
      "state": {
       "_model_module": "@jupyter-widgets/base",
       "_model_module_version": "1.2.0",
       "_model_name": "LayoutModel",
       "_view_count": null,
       "_view_module": "@jupyter-widgets/base",
       "_view_module_version": "1.2.0",
       "_view_name": "LayoutView",
       "align_content": null,
       "align_items": null,
       "align_self": "stretch",
       "border": null,
       "bottom": null,
       "display": null,
       "flex": null,
       "flex_flow": null,
       "grid_area": null,
       "grid_auto_columns": null,
       "grid_auto_flow": null,
       "grid_auto_rows": null,
       "grid_column": null,
       "grid_gap": null,
       "grid_row": null,
       "grid_template_areas": null,
       "grid_template_columns": null,
       "grid_template_rows": null,
       "height": "500px",
       "justify_content": null,
       "justify_items": null,
       "left": null,
       "margin": null,
       "max_height": null,
       "max_width": null,
       "min_height": null,
       "min_width": null,
       "object_fit": null,
       "object_position": null,
       "order": null,
       "overflow": null,
       "overflow_x": null,
       "overflow_y": null,
       "padding": null,
       "right": null,
       "top": null,
       "visibility": null,
       "width": null
      }
     },
     "ed424852b09c496e86b4831f2bd6b89f": {
      "model_module": "catboost-widget",
      "model_module_version": "^1.0.0",
      "model_name": "CatboostWidgetModel",
      "state": {
       "_dom_classes": [],
       "_model_module": "catboost-widget",
       "_model_module_version": "^1.0.0",
       "_model_name": "CatboostWidgetModel",
       "_view_count": null,
       "_view_module": "catboost-widget",
       "_view_module_version": "^1.0.0",
       "_view_name": "CatboostWidgetView",
       "data": {
        "catboost_info": {
         "content": {
          "data": {
           "iterations": [
            {
             "iteration": 0,
             "learn": [
              0.6729191055
             ],
             "passed_time": 0.4086569443,
             "remaining_time": 40.45703749,
             "test": [
              0.6726959781
             ]
            },
            {
             "iteration": 1,
             "learn": [
              0.6527450233
             ],
             "passed_time": 0.8153043969,
             "remaining_time": 39.94991545,
             "test": [
              0.654177883
             ]
            },
            {
             "iteration": 2,
             "learn": [
              0.6333907492
             ],
             "passed_time": 1.219686593,
             "remaining_time": 39.43653316,
             "test": [
              0.6364943413
             ]
            },
            {
             "iteration": 3,
             "learn": [
              0.6160111382
             ],
             "passed_time": 1.576372887,
             "remaining_time": 37.83294929,
             "test": [
              0.6187224598
             ]
            },
            {
             "iteration": 4,
             "learn": [
              0.5997785479
             ],
             "passed_time": 1.980298934,
             "remaining_time": 37.62567974,
             "test": [
              0.6029133686
             ]
            },
            {
             "iteration": 5,
             "learn": [
              0.5840601355
             ],
             "passed_time": 2.355063507,
             "remaining_time": 36.89599495,
             "test": [
              0.588154141
             ]
            },
            {
             "iteration": 6,
             "learn": [
              0.5688990527
             ],
             "passed_time": 2.766515715,
             "remaining_time": 36.75513735,
             "test": [
              0.5739623453
             ]
            },
            {
             "iteration": 7,
             "learn": [
              0.5559592333
             ],
             "passed_time": 3.192195457,
             "remaining_time": 36.71024775,
             "test": [
              0.5609163794
             ]
            },
            {
             "iteration": 8,
             "learn": [
              0.5414771052
             ],
             "passed_time": 3.583985166,
             "remaining_time": 36.23807224,
             "test": [
              0.5473104785
             ]
            },
            {
             "iteration": 9,
             "learn": [
              0.528371273
             ],
             "passed_time": 3.994374815,
             "remaining_time": 35.94937334,
             "test": [
              0.5350983398
             ]
            },
            {
             "iteration": 10,
             "learn": [
              0.5156462566
             ],
             "passed_time": 4.353369856,
             "remaining_time": 35.22271974,
             "test": [
              0.5225527462
             ]
            },
            {
             "iteration": 11,
             "learn": [
              0.5026778891
             ],
             "passed_time": 4.705700061,
             "remaining_time": 34.50846711,
             "test": [
              0.5104524733
             ]
            },
            {
             "iteration": 12,
             "learn": [
              0.4916628489
             ],
             "passed_time": 5.096618133,
             "remaining_time": 34.10813674,
             "test": [
              0.4996053278
             ]
            },
            {
             "iteration": 13,
             "learn": [
              0.4807093442
             ],
             "passed_time": 5.503247627,
             "remaining_time": 33.805664,
             "test": [
              0.4896355239
             ]
            },
            {
             "iteration": 14,
             "learn": [
              0.4696378049
             ],
             "passed_time": 5.892029704,
             "remaining_time": 33.38816832,
             "test": [
              0.4793132865
             ]
            },
            {
             "iteration": 15,
             "learn": [
              0.4594530998
             ],
             "passed_time": 6.268233111,
             "remaining_time": 32.90822383,
             "test": [
              0.4691013537
             ]
            },
            {
             "iteration": 16,
             "learn": [
              0.4500245605
             ],
             "passed_time": 6.655494363,
             "remaining_time": 32.49447248,
             "test": [
              0.4599319733
             ]
            },
            {
             "iteration": 17,
             "learn": [
              0.4401403354
             ],
             "passed_time": 7.03923705,
             "remaining_time": 32.06763545,
             "test": [
              0.4504131762
             ]
            },
            {
             "iteration": 18,
             "learn": [
              0.4303686588
             ],
             "passed_time": 7.427609651,
             "remaining_time": 31.66507272,
             "test": [
              0.4409545187
             ]
            },
            {
             "iteration": 19,
             "learn": [
              0.4213023033
             ],
             "passed_time": 7.808224687,
             "remaining_time": 31.23289875,
             "test": [
              0.4322036676
             ]
            },
            {
             "iteration": 20,
             "learn": [
              0.4125777272
             ],
             "passed_time": 8.207407782,
             "remaining_time": 30.87548642,
             "test": [
              0.4234546507
             ]
            },
            {
             "iteration": 21,
             "learn": [
              0.4036137005
             ],
             "passed_time": 8.596567616,
             "remaining_time": 30.47873973,
             "test": [
              0.415052869
             ]
            },
            {
             "iteration": 22,
             "learn": [
              0.3956252208
             ],
             "passed_time": 8.982593394,
             "remaining_time": 30.07216049,
             "test": [
              0.4072963953
             ]
            },
            {
             "iteration": 23,
             "learn": [
              0.3879525462
             ],
             "passed_time": 9.379748407,
             "remaining_time": 29.70253662,
             "test": [
              0.3997081479
             ]
            },
            {
             "iteration": 24,
             "learn": [
              0.3805158037
             ],
             "passed_time": 9.764947865,
             "remaining_time": 29.29484359,
             "test": [
              0.3923350902
             ]
            },
            {
             "iteration": 25,
             "learn": [
              0.3732253903
             ],
             "passed_time": 10.18235253,
             "remaining_time": 28.98054181,
             "test": [
              0.3850512331
             ]
            },
            {
             "iteration": 26,
             "learn": [
              0.366078573
             ],
             "passed_time": 10.58795197,
             "remaining_time": 28.62668496,
             "test": [
              0.3782959093
             ]
            },
            {
             "iteration": 27,
             "learn": [
              0.3597439443
             ],
             "passed_time": 11.00847068,
             "remaining_time": 28.30749603,
             "test": [
              0.3719058018
             ]
            },
            {
             "iteration": 28,
             "learn": [
              0.3526196625
             ],
             "passed_time": 11.47178899,
             "remaining_time": 28.08610408,
             "test": [
              0.3649525534
             ]
            },
            {
             "iteration": 29,
             "learn": [
              0.3463258474
             ],
             "passed_time": 11.88628539,
             "remaining_time": 27.73466592,
             "test": [
              0.3587638601
             ]
            },
            {
             "iteration": 30,
             "learn": [
              0.3398339157
             ],
             "passed_time": 12.35177171,
             "remaining_time": 27.49265317,
             "test": [
              0.3525649748
             ]
            },
            {
             "iteration": 31,
             "learn": [
              0.3341932048
             ],
             "passed_time": 12.77465668,
             "remaining_time": 27.14614544,
             "test": [
              0.3470296978
             ]
            },
            {
             "iteration": 32,
             "learn": [
              0.3281429392
             ],
             "passed_time": 13.25353037,
             "remaining_time": 26.90868287,
             "test": [
              0.3410473397
             ]
            },
            {
             "iteration": 33,
             "learn": [
              0.3227174133
             ],
             "passed_time": 13.67270331,
             "remaining_time": 26.54112995,
             "test": [
              0.335882568
             ]
            },
            {
             "iteration": 34,
             "learn": [
              0.3170349843
             ],
             "passed_time": 14.17927581,
             "remaining_time": 26.33294079,
             "test": [
              0.3304298997
             ]
            },
            {
             "iteration": 35,
             "learn": [
              0.3116117803
             ],
             "passed_time": 14.66144767,
             "remaining_time": 26.06479586,
             "test": [
              0.3250436311
             ]
            },
            {
             "iteration": 36,
             "learn": [
              0.3067214231
             ],
             "passed_time": 15.07956575,
             "remaining_time": 25.67601735,
             "test": [
              0.3205721162
             ]
            },
            {
             "iteration": 37,
             "learn": [
              0.3017071634
             ],
             "passed_time": 15.54182863,
             "remaining_time": 25.3577204,
             "test": [
              0.3154614107
             ]
            },
            {
             "iteration": 38,
             "learn": [
              0.2965666784
             ],
             "passed_time": 15.95246974,
             "remaining_time": 24.95129882,
             "test": [
              0.3103166652
             ]
            },
            {
             "iteration": 39,
             "learn": [
              0.2918489804
             ],
             "passed_time": 16.36662339,
             "remaining_time": 24.54993508,
             "test": [
              0.3056300751
             ]
            },
            {
             "iteration": 40,
             "learn": [
              0.2873824692
             ],
             "passed_time": 16.7767343,
             "remaining_time": 24.14212984,
             "test": [
              0.3011660697
             ]
            },
            {
             "iteration": 41,
             "learn": [
              0.2829673385
             ],
             "passed_time": 17.19717944,
             "remaining_time": 23.74848589,
             "test": [
              0.2969234395
             ]
            },
            {
             "iteration": 42,
             "learn": [
              0.2785650022
             ],
             "passed_time": 17.59291505,
             "remaining_time": 23.32084088,
             "test": [
              0.2924309012
             ]
            },
            {
             "iteration": 43,
             "learn": [
              0.274275422
             ],
             "passed_time": 18.03007616,
             "remaining_time": 22.94736965,
             "test": [
              0.2885483675
             ]
            },
            {
             "iteration": 44,
             "learn": [
              0.270109949
             ],
             "passed_time": 18.44707065,
             "remaining_time": 22.54641969,
             "test": [
              0.2843454102
             ]
            },
            {
             "iteration": 45,
             "learn": [
              0.2660315108
             ],
             "passed_time": 18.83864666,
             "remaining_time": 22.11493304,
             "test": [
              0.2803443974
             ]
            },
            {
             "iteration": 46,
             "learn": [
              0.2624820862
             ],
             "passed_time": 19.2554382,
             "remaining_time": 21.71357925,
             "test": [
              0.2767062402
             ]
            },
            {
             "iteration": 47,
             "learn": [
              0.2587368756
             ],
             "passed_time": 19.6448143,
             "remaining_time": 21.28188216,
             "test": [
              0.2730019113
             ]
            },
            {
             "iteration": 48,
             "learn": [
              0.254929485
             ],
             "passed_time": 20.0451117,
             "remaining_time": 20.86327952,
             "test": [
              0.2691973622
             ]
            },
            {
             "iteration": 49,
             "learn": [
              0.2513991786
             ],
             "passed_time": 20.47021181,
             "remaining_time": 20.47021181,
             "test": [
              0.2658654717
             ]
            },
            {
             "iteration": 50,
             "learn": [
              0.2478120892
             ],
             "passed_time": 21.03372113,
             "remaining_time": 20.20886932,
             "test": [
              0.2623899344
             ]
            },
            {
             "iteration": 51,
             "learn": [
              0.2445015821
             ],
             "passed_time": 21.69392076,
             "remaining_time": 20.02515762,
             "test": [
              0.2589728036
             ]
            },
            {
             "iteration": 52,
             "learn": [
              0.2413380893
             ],
             "passed_time": 22.21231839,
             "remaining_time": 19.69771631,
             "test": [
              0.2558968353
             ]
            },
            {
             "iteration": 53,
             "learn": [
              0.2381953139
             ],
             "passed_time": 22.62998971,
             "remaining_time": 19.27739864,
             "test": [
              0.2527884427
             ]
            },
            {
             "iteration": 54,
             "learn": [
              0.2352653961
             ],
             "passed_time": 23.10206377,
             "remaining_time": 18.90168854,
             "test": [
              0.2497726966
             ]
            },
            {
             "iteration": 55,
             "learn": [
              0.232589767
             ],
             "passed_time": 23.5045119,
             "remaining_time": 18.46783078,
             "test": [
              0.2470258034
             ]
            },
            {
             "iteration": 56,
             "learn": [
              0.2297696057
             ],
             "passed_time": 23.91049522,
             "remaining_time": 18.03774201,
             "test": [
              0.2443131518
             ]
            },
            {
             "iteration": 57,
             "learn": [
              0.2268449691
             ],
             "passed_time": 24.34917754,
             "remaining_time": 17.63216304,
             "test": [
              0.2413314431
             ]
            },
            {
             "iteration": 58,
             "learn": [
              0.2241138224
             ],
             "passed_time": 24.77617749,
             "remaining_time": 17.21734368,
             "test": [
              0.2386286033
             ]
            },
            {
             "iteration": 59,
             "learn": [
              0.2217491967
             ],
             "passed_time": 25.20945548,
             "remaining_time": 16.80630365,
             "test": [
              0.2362337902
             ]
            },
            {
             "iteration": 60,
             "learn": [
              0.2193937281
             ],
             "passed_time": 25.59944922,
             "remaining_time": 16.36686098,
             "test": [
              0.2336928847
             ]
            },
            {
             "iteration": 61,
             "learn": [
              0.2167558859
             ],
             "passed_time": 25.99368532,
             "remaining_time": 15.93161359,
             "test": [
              0.2310305788
             ]
            },
            {
             "iteration": 62,
             "learn": [
              0.2143113295
             ],
             "passed_time": 26.44879457,
             "remaining_time": 15.53341903,
             "test": [
              0.2288830718
             ]
            },
            {
             "iteration": 63,
             "learn": [
              0.2122292276
             ],
             "passed_time": 26.84601831,
             "remaining_time": 15.1008853,
             "test": [
              0.2268288884
             ]
            },
            {
             "iteration": 64,
             "learn": [
              0.2099646207
             ],
             "passed_time": 27.2094279,
             "remaining_time": 14.65123041,
             "test": [
              0.2244538683
             ]
            },
            {
             "iteration": 65,
             "learn": [
              0.2076872207
             ],
             "passed_time": 27.6286155,
             "remaining_time": 14.23292314,
             "test": [
              0.2221896053
             ]
            },
            {
             "iteration": 66,
             "learn": [
              0.2057257759
             ],
             "passed_time": 28.00671329,
             "remaining_time": 13.79435132,
             "test": [
              0.2202080545
             ]
            },
            {
             "iteration": 67,
             "learn": [
              0.203555553
             ],
             "passed_time": 28.46831022,
             "remaining_time": 13.39685187,
             "test": [
              0.2181573081
             ]
            },
            {
             "iteration": 68,
             "learn": [
              0.201527329
             ],
             "passed_time": 28.85418576,
             "remaining_time": 12.96347476,
             "test": [
              0.21599519
             ]
            },
            {
             "iteration": 69,
             "learn": [
              0.1993525265
             ],
             "passed_time": 29.28130895,
             "remaining_time": 12.54913241,
             "test": [
              0.2138288511
             ]
            },
            {
             "iteration": 70,
             "learn": [
              0.1977036626
             ],
             "passed_time": 29.60353795,
             "remaining_time": 12.09158592,
             "test": [
              0.2120941981
             ]
            },
            {
             "iteration": 71,
             "learn": [
              0.1956601169
             ],
             "passed_time": 30.03169092,
             "remaining_time": 11.67899091,
             "test": [
              0.2099970058
             ]
            },
            {
             "iteration": 72,
             "learn": [
              0.193473717
             ],
             "passed_time": 30.46903692,
             "remaining_time": 11.26936982,
             "test": [
              0.2077832261
             ]
            },
            {
             "iteration": 73,
             "learn": [
              0.1916680805
             ],
             "passed_time": 30.81706417,
             "remaining_time": 10.82761714,
             "test": [
              0.2057070159
             ]
            },
            {
             "iteration": 74,
             "learn": [
              0.1895750721
             ],
             "passed_time": 31.27125958,
             "remaining_time": 10.42375319,
             "test": [
              0.2036162302
             ]
            },
            {
             "iteration": 75,
             "learn": [
              0.1877430382
             ],
             "passed_time": 31.68682947,
             "remaining_time": 10.0063672,
             "test": [
              0.2017424371
             ]
            },
            {
             "iteration": 76,
             "learn": [
              0.1861026636
             ],
             "passed_time": 32.09344643,
             "remaining_time": 9.586354128,
             "test": [
              0.200130425
             ]
            },
            {
             "iteration": 77,
             "learn": [
              0.1844851185
             ],
             "passed_time": 32.491829,
             "remaining_time": 9.164362026,
             "test": [
              0.1983206535
             ]
            },
            {
             "iteration": 78,
             "learn": [
              0.1825344825
             ],
             "passed_time": 32.92961754,
             "remaining_time": 8.753442638,
             "test": [
              0.196390465
             ]
            },
            {
             "iteration": 79,
             "learn": [
              0.1808551431
             ],
             "passed_time": 33.3643833,
             "remaining_time": 8.341095825,
             "test": [
              0.1945269649
             ]
            },
            {
             "iteration": 80,
             "learn": [
              0.1794915644
             ],
             "passed_time": 33.66568428,
             "remaining_time": 7.896888906,
             "test": [
              0.1931350708
             ]
            },
            {
             "iteration": 81,
             "learn": [
              0.1776694477
             ],
             "passed_time": 34.10606985,
             "remaining_time": 7.48669826,
             "test": [
              0.1913325967
             ]
            },
            {
             "iteration": 82,
             "learn": [
              0.176419018
             ],
             "passed_time": 34.40524462,
             "remaining_time": 7.046857332,
             "test": [
              0.1899760755
             ]
            },
            {
             "iteration": 83,
             "learn": [
              0.1748073936
             ],
             "passed_time": 34.79159,
             "remaining_time": 6.626969523,
             "test": [
              0.188494502
             ]
            },
            {
             "iteration": 84,
             "learn": [
              0.1730664371
             ],
             "passed_time": 35.21289131,
             "remaining_time": 6.214039643,
             "test": [
              0.1867435019
             ]
            },
            {
             "iteration": 85,
             "learn": [
              0.1715118103
             ],
             "passed_time": 35.61837312,
             "remaining_time": 5.798339811,
             "test": [
              0.1855008344
             ]
            },
            {
             "iteration": 86,
             "learn": [
              0.1698791744
             ],
             "passed_time": 36.08880163,
             "remaining_time": 5.392579554,
             "test": [
              0.1838956417
             ]
            },
            {
             "iteration": 87,
             "learn": [
              0.1685129165
             ],
             "passed_time": 36.50372974,
             "remaining_time": 4.977781328,
             "test": [
              0.1824817982
             ]
            },
            {
             "iteration": 88,
             "learn": [
              0.1670330974
             ],
             "passed_time": 36.90011434,
             "remaining_time": 4.560688289,
             "test": [
              0.181212394
             ]
            },
            {
             "iteration": 89,
             "learn": [
              0.1659659136
             ],
             "passed_time": 37.19882719,
             "remaining_time": 4.133203021,
             "test": [
              0.1800565676
             ]
            },
            {
             "iteration": 90,
             "learn": [
              0.1645095255
             ],
             "passed_time": 37.62875186,
             "remaining_time": 3.721524909,
             "test": [
              0.178578566
             ]
            },
            {
             "iteration": 91,
             "learn": [
              0.1632815024
             ],
             "passed_time": 38.02293866,
             "remaining_time": 3.306342492,
             "test": [
              0.1772249578
             ]
            },
            {
             "iteration": 92,
             "learn": [
              0.1619477677
             ],
             "passed_time": 38.39325307,
             "remaining_time": 2.889814747,
             "test": [
              0.1758601563
             ]
            },
            {
             "iteration": 93,
             "learn": [
              0.1609336687
             ],
             "passed_time": 38.69469774,
             "remaining_time": 2.469874324,
             "test": [
              0.1747813347
             ]
            },
            {
             "iteration": 94,
             "learn": [
              0.1593435498
             ],
             "passed_time": 39.15080247,
             "remaining_time": 2.060568551,
             "test": [
              0.1731918098
             ]
            },
            {
             "iteration": 95,
             "learn": [
              0.1585425377
             ],
             "passed_time": 39.44063391,
             "remaining_time": 1.643359746,
             "test": [
              0.1723194472
             ]
            },
            {
             "iteration": 96,
             "learn": [
              0.1571145623
             ],
             "passed_time": 39.85743509,
             "remaining_time": 1.232704178,
             "test": [
              0.1708037609
             ]
            },
            {
             "iteration": 97,
             "learn": [
              0.1557858668
             ],
             "passed_time": 40.2980812,
             "remaining_time": 0.8224098204,
             "test": [
              0.1693197523
             ]
            },
            {
             "iteration": 98,
             "learn": [
              0.1544058393
             ],
             "passed_time": 40.69784063,
             "remaining_time": 0.4110892993,
             "test": [
              0.1680587709
             ]
            },
            {
             "iteration": 99,
             "learn": [
              0.1535055548
             ],
             "passed_time": 41.0231852,
             "remaining_time": 0,
             "test": [
              0.1671075813
             ]
            }
           ],
           "meta": {
            "iteration_count": 100,
            "launch_mode": "Train",
            "learn_metrics": [
             {
              "best_value": "Min",
              "name": "CrossEntropy"
             }
            ],
            "learn_sets": [
             "learn"
            ],
            "name": "experiment",
            "parameters": "",
            "test_metrics": [
             {
              "best_value": "Min",
              "name": "CrossEntropy"
             }
            ],
            "test_sets": [
             "test"
            ]
           }
          },
          "passed_iterations": 99,
          "total_iterations": 100
         },
         "name": "catboost_info",
         "path": "catboost_info"
        }
       },
       "layout": "IPY_MODEL_0c3966132b214b1cb96a5a8d26bc449b"
      }
     },
     "f11e6fef14364c1495638cc806ea2f5d": {
      "model_module": "catboost-widget",
      "model_module_version": "^1.0.0",
      "model_name": "CatboostWidgetModel",
      "state": {
       "_dom_classes": [],
       "_model_module": "catboost-widget",
       "_model_module_version": "^1.0.0",
       "_model_name": "CatboostWidgetModel",
       "_view_count": null,
       "_view_module": "catboost-widget",
       "_view_module_version": "^1.0.0",
       "_view_name": "CatboostWidgetView",
       "data": {
        "catboost_info": {
         "content": {
          "data": {
           "iterations": [
            {
             "iteration": 0,
             "learn": [
              0.6717912257
             ],
             "passed_time": 0.4725213359,
             "remaining_time": 46.77961226,
             "test": [
              0.6711737256
             ]
            },
            {
             "iteration": 1,
             "learn": [
              0.6517072109
             ],
             "passed_time": 0.9082607464,
             "remaining_time": 44.50477657,
             "test": [
              0.6506464062
             ]
            },
            {
             "iteration": 2,
             "learn": [
              0.6319985053
             ],
             "passed_time": 1.332213538,
             "remaining_time": 43.07490439,
             "test": [
              0.630872977
             ]
            },
            {
             "iteration": 3,
             "learn": [
              0.6148024438
             ],
             "passed_time": 1.749695698,
             "remaining_time": 41.99269674,
             "test": [
              0.6122252084
             ]
            },
            {
             "iteration": 4,
             "learn": [
              0.598284328
             ],
             "passed_time": 2.124683204,
             "remaining_time": 40.36898087,
             "test": [
              0.5963899489
             ]
            },
            {
             "iteration": 5,
             "learn": [
              0.5819531882
             ],
             "passed_time": 2.540968503,
             "remaining_time": 39.80850655,
             "test": [
              0.5792114945
             ]
            },
            {
             "iteration": 6,
             "learn": [
              0.5678277887
             ],
             "passed_time": 3.008545436,
             "remaining_time": 39.97067507,
             "test": [
              0.5649247146
             ]
            },
            {
             "iteration": 7,
             "learn": [
              0.5543087338
             ],
             "passed_time": 3.558274349,
             "remaining_time": 40.92015502,
             "test": [
              0.551307686
             ]
            },
            {
             "iteration": 8,
             "learn": [
              0.541567506
             ],
             "passed_time": 4.083442715,
             "remaining_time": 41.28814301,
             "test": [
              0.5379861989
             ]
            },
            {
             "iteration": 9,
             "learn": [
              0.529170201
             ],
             "passed_time": 4.505866637,
             "remaining_time": 40.55279973,
             "test": [
              0.5253776134
             ]
            },
            {
             "iteration": 10,
             "learn": [
              0.5162733031
             ],
             "passed_time": 4.920034465,
             "remaining_time": 39.80755158,
             "test": [
              0.5116484283
             ]
            },
            {
             "iteration": 11,
             "learn": [
              0.5049692194
             ],
             "passed_time": 5.32833682,
             "remaining_time": 39.07447002,
             "test": [
              0.500059187
             ]
            },
            {
             "iteration": 12,
             "learn": [
              0.4938806986
             ],
             "passed_time": 5.74586648,
             "remaining_time": 38.45310644,
             "test": [
              0.4890909748
             ]
            },
            {
             "iteration": 13,
             "learn": [
              0.4824698662
             ],
             "passed_time": 6.159206715,
             "remaining_time": 37.83512696,
             "test": [
              0.4770800205
             ]
            },
            {
             "iteration": 14,
             "learn": [
              0.4721841617
             ],
             "passed_time": 6.569923902,
             "remaining_time": 37.22956878,
             "test": [
              0.4673660071
             ]
            },
            {
             "iteration": 15,
             "learn": [
              0.4614175364
             ],
             "passed_time": 6.989525891,
             "remaining_time": 36.69501093,
             "test": [
              0.4561087077
             ]
            },
            {
             "iteration": 16,
             "learn": [
              0.4524564593
             ],
             "passed_time": 7.40160327,
             "remaining_time": 36.1372395,
             "test": [
              0.4470892592
             ]
            },
            {
             "iteration": 17,
             "learn": [
              0.4421586786
             ],
             "passed_time": 7.828222733,
             "remaining_time": 35.66190356,
             "test": [
              0.4366628406
             ]
            },
            {
             "iteration": 18,
             "learn": [
              0.4335895438
             ],
             "passed_time": 8.230755337,
             "remaining_time": 35.08900959,
             "test": [
              0.4284272013
             ]
            },
            {
             "iteration": 19,
             "learn": [
              0.4242527722
             ],
             "passed_time": 8.647086913,
             "remaining_time": 34.58834765,
             "test": [
              0.4185594487
             ]
            },
            {
             "iteration": 20,
             "learn": [
              0.4155317966
             ],
             "passed_time": 9.078475338,
             "remaining_time": 34.1523596,
             "test": [
              0.4096346947
             ]
            },
            {
             "iteration": 21,
             "learn": [
              0.4067095779
             ],
             "passed_time": 9.480238598,
             "remaining_time": 33.61175503,
             "test": [
              0.4003942227
             ]
            },
            {
             "iteration": 22,
             "learn": [
              0.398707075
             ],
             "passed_time": 9.899849762,
             "remaining_time": 33.14297529,
             "test": [
              0.39272378
             ]
            },
            {
             "iteration": 23,
             "learn": [
              0.3914372572
             ],
             "passed_time": 10.30938143,
             "remaining_time": 32.64637453,
             "test": [
              0.3854606362
             ]
            },
            {
             "iteration": 24,
             "learn": [
              0.3846339405
             ],
             "passed_time": 10.70883029,
             "remaining_time": 32.12649086,
             "test": [
              0.3789224023
             ]
            },
            {
             "iteration": 25,
             "learn": [
              0.3770137715
             ],
             "passed_time": 11.11272304,
             "remaining_time": 31.62851943,
             "test": [
              0.370992119
             ]
            },
            {
             "iteration": 26,
             "learn": [
              0.3692932599
             ],
             "passed_time": 11.51672393,
             "remaining_time": 31.13780915,
             "test": [
              0.3632264311
             ]
            },
            {
             "iteration": 27,
             "learn": [
              0.362515027
             ],
             "passed_time": 11.92317769,
             "remaining_time": 30.65959978,
             "test": [
              0.3569941073
             ]
            },
            {
             "iteration": 28,
             "learn": [
              0.3556896854
             ],
             "passed_time": 12.35465409,
             "remaining_time": 30.24760139,
             "test": [
              0.3498734775
             ]
            },
            {
             "iteration": 29,
             "learn": [
              0.3494236228
             ],
             "passed_time": 12.76437326,
             "remaining_time": 29.78353761,
             "test": [
              0.3438334117
             ]
            },
            {
             "iteration": 30,
             "learn": [
              0.3428654717
             ],
             "passed_time": 13.1849635,
             "remaining_time": 29.34717683,
             "test": [
              0.3374292927
             ]
            },
            {
             "iteration": 31,
             "learn": [
              0.3373658438
             ],
             "passed_time": 13.58963927,
             "remaining_time": 28.87798345,
             "test": [
              0.3321378447
             ]
            },
            {
             "iteration": 32,
             "learn": [
              0.3316494844
             ],
             "passed_time": 13.99396538,
             "remaining_time": 28.41199032,
             "test": [
              0.3264154864
             ]
            },
            {
             "iteration": 33,
             "learn": [
              0.3262795802
             ],
             "passed_time": 14.35618717,
             "remaining_time": 27.86789275,
             "test": [
              0.321378956
             ]
            },
            {
             "iteration": 34,
             "learn": [
              0.3214342295
             ],
             "passed_time": 14.73769143,
             "remaining_time": 27.36999837,
             "test": [
              0.3164603003
             ]
            },
            {
             "iteration": 35,
             "learn": [
              0.3157171732
             ],
             "passed_time": 15.16458224,
             "remaining_time": 26.95925731,
             "test": [
              0.3106498336
             ]
            },
            {
             "iteration": 36,
             "learn": [
              0.3099108152
             ],
             "passed_time": 15.58972423,
             "remaining_time": 26.54466558,
             "test": [
              0.3048232767
             ]
            },
            {
             "iteration": 37,
             "learn": [
              0.3053576663
             ],
             "passed_time": 15.96760521,
             "remaining_time": 26.0524085,
             "test": [
              0.3003997648
             ]
            },
            {
             "iteration": 38,
             "learn": [
              0.3002372294
             ],
             "passed_time": 16.38199982,
             "remaining_time": 25.62312793,
             "test": [
              0.2955331
             ]
            },
            {
             "iteration": 39,
             "learn": [
              0.2952276303
             ],
             "passed_time": 16.8737316,
             "remaining_time": 25.3105974,
             "test": [
              0.2905824093
             ]
            },
            {
             "iteration": 40,
             "learn": [
              0.2901255029
             ],
             "passed_time": 17.29114308,
             "remaining_time": 24.88237662,
             "test": [
              0.2854736685
             ]
            },
            {
             "iteration": 41,
             "learn": [
              0.2860542157
             ],
             "passed_time": 17.68470054,
             "remaining_time": 24.42172932,
             "test": [
              0.2816254932
             ]
            },
            {
             "iteration": 42,
             "learn": [
              0.2820217115
             ],
             "passed_time": 18.10606356,
             "remaining_time": 24.00106099,
             "test": [
              0.2777403318
             ]
            },
            {
             "iteration": 43,
             "learn": [
              0.2774662072
             ],
             "passed_time": 18.54383223,
             "remaining_time": 23.60124102,
             "test": [
              0.273090622
             ]
            },
            {
             "iteration": 44,
             "learn": [
              0.2728180369
             ],
             "passed_time": 18.96067473,
             "remaining_time": 23.17415801,
             "test": [
              0.2684090264
             ]
            },
            {
             "iteration": 45,
             "learn": [
              0.2684097627
             ],
             "passed_time": 19.38478067,
             "remaining_time": 22.75604687,
             "test": [
              0.2639304635
             ]
            },
            {
             "iteration": 46,
             "learn": [
              0.2650126268
             ],
             "passed_time": 19.73417067,
             "remaining_time": 22.2534265,
             "test": [
              0.260706875
             ]
            },
            {
             "iteration": 47,
             "learn": [
              0.2609299942
             ],
             "passed_time": 20.16994665,
             "remaining_time": 21.85077554,
             "test": [
              0.2565963465
             ]
            },
            {
             "iteration": 48,
             "learn": [
              0.2569222101
             ],
             "passed_time": 20.59705979,
             "remaining_time": 21.43775611,
             "test": [
              0.2524727514
             ]
            },
            {
             "iteration": 49,
             "learn": [
              0.2535165031
             ],
             "passed_time": 21.03840762,
             "remaining_time": 21.03840762,
             "test": [
              0.2491437996
             ]
            },
            {
             "iteration": 50,
             "learn": [
              0.2498019215
             ],
             "passed_time": 21.45886837,
             "remaining_time": 20.61734412,
             "test": [
              0.2456079253
             ]
            },
            {
             "iteration": 51,
             "learn": [
              0.2461009836
             ],
             "passed_time": 21.84870506,
             "remaining_time": 20.16803544,
             "test": [
              0.2420831629
             ]
            },
            {
             "iteration": 52,
             "learn": [
              0.2424072644
             ],
             "passed_time": 22.29725627,
             "remaining_time": 19.77303858,
             "test": [
              0.2384717778
             ]
            },
            {
             "iteration": 53,
             "learn": [
              0.2392021142
             ],
             "passed_time": 22.69839212,
             "remaining_time": 19.33566736,
             "test": [
              0.2354121159
             ]
            },
            {
             "iteration": 54,
             "learn": [
              0.2364434417
             ],
             "passed_time": 23.04754688,
             "remaining_time": 18.85708381,
             "test": [
              0.2327600059
             ]
            },
            {
             "iteration": 55,
             "learn": [
              0.2329586226
             ],
             "passed_time": 23.51089899,
             "remaining_time": 18.47284921,
             "test": [
              0.2294157356
             ]
            },
            {
             "iteration": 56,
             "learn": [
              0.2298249028
             ],
             "passed_time": 23.93121814,
             "remaining_time": 18.05337509,
             "test": [
              0.2262857694
             ]
            },
            {
             "iteration": 57,
             "learn": [
              0.2268772872
             ],
             "passed_time": 24.37849474,
             "remaining_time": 17.65339274,
             "test": [
              0.2234324064
             ]
            },
            {
             "iteration": 58,
             "learn": [
              0.2237483295
             ],
             "passed_time": 24.81962596,
             "remaining_time": 17.24753668,
             "test": [
              0.2203320225
             ]
            },
            {
             "iteration": 59,
             "learn": [
              0.2210008518
             ],
             "passed_time": 25.21605027,
             "remaining_time": 16.81070018,
             "test": [
              0.2176723831
             ]
            },
            {
             "iteration": 60,
             "learn": [
              0.2182811954
             ],
             "passed_time": 25.65786228,
             "remaining_time": 16.40420703,
             "test": [
              0.2150431445
             ]
            },
            {
             "iteration": 61,
             "learn": [
              0.2151033216
             ],
             "passed_time": 26.09243246,
             "remaining_time": 15.99213602,
             "test": [
              0.2118265324
             ]
            },
            {
             "iteration": 62,
             "learn": [
              0.2120781925
             ],
             "passed_time": 26.55556779,
             "remaining_time": 15.59612711,
             "test": [
              0.2088576769
             ]
            },
            {
             "iteration": 63,
             "learn": [
              0.2096082397
             ],
             "passed_time": 26.95208622,
             "remaining_time": 15.1605485,
             "test": [
              0.2064485577
             ]
            },
            {
             "iteration": 64,
             "learn": [
              0.2072175803
             ],
             "passed_time": 27.31640915,
             "remaining_time": 14.7088357,
             "test": [
              0.2041617245
             ]
            },
            {
             "iteration": 65,
             "learn": [
              0.2047657193
             ],
             "passed_time": 27.76980245,
             "remaining_time": 14.30565581,
             "test": [
              0.2018003129
             ]
            },
            {
             "iteration": 66,
             "learn": [
              0.202386851
             ],
             "passed_time": 28.16567597,
             "remaining_time": 13.87264637,
             "test": [
              0.1995150753
             ]
            },
            {
             "iteration": 67,
             "learn": [
              0.200047558
             ],
             "passed_time": 28.59057818,
             "remaining_time": 13.45438973,
             "test": [
              0.1971639545
             ]
            },
            {
             "iteration": 68,
             "learn": [
              0.1979022801
             ],
             "passed_time": 28.95321427,
             "remaining_time": 13.00796583,
             "test": [
              0.1951999117
             ]
            },
            {
             "iteration": 69,
             "learn": [
              0.1955762229
             ],
             "passed_time": 29.40249691,
             "remaining_time": 12.6010701,
             "test": [
              0.1928581326
             ]
            },
            {
             "iteration": 70,
             "learn": [
              0.1935982893
             ],
             "passed_time": 29.78841494,
             "remaining_time": 12.16709906,
             "test": [
              0.1908478907
             ]
            },
            {
             "iteration": 71,
             "learn": [
              0.1911617884
             ],
             "passed_time": 30.31991454,
             "remaining_time": 11.79107788,
             "test": [
              0.1884390723
             ]
            },
            {
             "iteration": 72,
             "learn": [
              0.1891345339
             ],
             "passed_time": 30.73627049,
             "remaining_time": 11.36820963,
             "test": [
              0.1863203682
             ]
            },
            {
             "iteration": 73,
             "learn": [
              0.18705596
             ],
             "passed_time": 31.11319391,
             "remaining_time": 10.93166273,
             "test": [
              0.1843946069
             ]
            },
            {
             "iteration": 74,
             "learn": [
              0.1849682967
             ],
             "passed_time": 31.51822187,
             "remaining_time": 10.50607396,
             "test": [
              0.1823897517
             ]
            },
            {
             "iteration": 75,
             "learn": [
              0.183084929
             ],
             "passed_time": 31.89921479,
             "remaining_time": 10.07343625,
             "test": [
              0.1805224975
             ]
            },
            {
             "iteration": 76,
             "learn": [
              0.1808866641
             ],
             "passed_time": 32.44448028,
             "remaining_time": 9.691208394,
             "test": [
              0.1784038128
             ]
            },
            {
             "iteration": 77,
             "learn": [
              0.1790161147
             ],
             "passed_time": 32.85020441,
             "remaining_time": 9.265442271,
             "test": [
              0.1765026396
             ]
            },
            {
             "iteration": 78,
             "learn": [
              0.1771116011
             ],
             "passed_time": 33.24901801,
             "remaining_time": 8.83834656,
             "test": [
              0.1748429476
             ]
            },
            {
             "iteration": 79,
             "learn": [
              0.1755695539
             ],
             "passed_time": 33.58417775,
             "remaining_time": 8.396044437,
             "test": [
              0.1733648758
             ]
            },
            {
             "iteration": 80,
             "learn": [
              0.173532468
             ],
             "passed_time": 34.11354337,
             "remaining_time": 8.001942272,
             "test": [
              0.171385588
             ]
            },
            {
             "iteration": 81,
             "learn": [
              0.1717932724
             ],
             "passed_time": 34.51492356,
             "remaining_time": 7.576446636,
             "test": [
              0.1697819886
             ]
            },
            {
             "iteration": 82,
             "learn": [
              0.1699360722
             ],
             "passed_time": 35.03895082,
             "remaining_time": 7.176652578,
             "test": [
              0.167858324
             ]
            },
            {
             "iteration": 83,
             "learn": [
              0.1679970018
             ],
             "passed_time": 35.61299668,
             "remaining_time": 6.783427938,
             "test": [
              0.1659655284
             ]
            },
            {
             "iteration": 84,
             "learn": [
              0.1660495275
             ],
             "passed_time": 36.24592939,
             "remaining_time": 6.39634048,
             "test": [
              0.1641030963
             ]
            },
            {
             "iteration": 85,
             "learn": [
              0.1645190007
             ],
             "passed_time": 36.63651762,
             "remaining_time": 5.964084263,
             "test": [
              0.162680037
             ]
            },
            {
             "iteration": 86,
             "learn": [
              0.1626709185
             ],
             "passed_time": 37.09220407,
             "remaining_time": 5.542513251,
             "test": [
              0.1608771594
             ]
            },
            {
             "iteration": 87,
             "learn": [
              0.1609844492
             ],
             "passed_time": 37.47670152,
             "remaining_time": 5.110459298,
             "test": [
              0.159131798
             ]
            },
            {
             "iteration": 88,
             "learn": [
              0.1592358009
             ],
             "passed_time": 38.00684866,
             "remaining_time": 4.697475677,
             "test": [
              0.1574364167
             ]
            },
            {
             "iteration": 89,
             "learn": [
              0.1572948361
             ],
             "passed_time": 38.41434701,
             "remaining_time": 4.268260779,
             "test": [
              0.1554470435
             ]
            },
            {
             "iteration": 90,
             "learn": [
              0.155966119
             ],
             "passed_time": 38.83492669,
             "remaining_time": 3.840816925,
             "test": [
              0.1541275017
             ]
            },
            {
             "iteration": 91,
             "learn": [
              0.1542558227
             ],
             "passed_time": 39.23811439,
             "remaining_time": 3.412009947,
             "test": [
              0.1525613127
             ]
            },
            {
             "iteration": 92,
             "learn": [
              0.1522414201
             ],
             "passed_time": 39.78681507,
             "remaining_time": 2.994706511,
             "test": [
              0.1504810164
             ]
            },
            {
             "iteration": 93,
             "learn": [
              0.1504580293
             ],
             "passed_time": 40.22388649,
             "remaining_time": 2.567482117,
             "test": [
              0.1487382698
             ]
            },
            {
             "iteration": 94,
             "learn": [
              0.1490438764
             ],
             "passed_time": 40.60197577,
             "remaining_time": 2.136946093,
             "test": [
              0.1472896885
             ]
            },
            {
             "iteration": 95,
             "learn": [
              0.1470506623
             ],
             "passed_time": 41.09843199,
             "remaining_time": 1.712434666,
             "test": [
              0.1453709724
             ]
            },
            {
             "iteration": 96,
             "learn": [
              0.1459176389
             ],
             "passed_time": 41.5051966,
             "remaining_time": 1.283665874,
             "test": [
              0.1442290519
             ]
            },
            {
             "iteration": 97,
             "learn": [
              0.1446405518
             ],
             "passed_time": 41.85061063,
             "remaining_time": 0.8540940945,
             "test": [
              0.142953085
             ]
            },
            {
             "iteration": 98,
             "learn": [
              0.1434785745
             ],
             "passed_time": 42.19995095,
             "remaining_time": 0.4262621308,
             "test": [
              0.1418384412
             ]
            },
            {
             "iteration": 99,
             "learn": [
              0.14208264
             ],
             "passed_time": 42.70871757,
             "remaining_time": 0,
             "test": [
              0.1405028388
             ]
            }
           ],
           "meta": {
            "iteration_count": 100,
            "launch_mode": "Train",
            "learn_metrics": [
             {
              "best_value": "Min",
              "name": "CrossEntropy"
             }
            ],
            "learn_sets": [
             "learn"
            ],
            "name": "experiment",
            "parameters": "",
            "test_metrics": [
             {
              "best_value": "Min",
              "name": "CrossEntropy"
             }
            ],
            "test_sets": [
             "test"
            ]
           }
          },
          "passed_iterations": 99,
          "total_iterations": 100
         },
         "name": "catboost_info",
         "path": "catboost_info"
        }
       },
       "layout": "IPY_MODEL_30a37cfd9f344544bd7201408eff373b"
      }
     },
     "f616e67ee5e041d2bb50738c64e8c588": {
      "model_module": "@jupyter-widgets/base",
      "model_module_version": "1.2.0",
      "model_name": "LayoutModel",
      "state": {
       "_model_module": "@jupyter-widgets/base",
       "_model_module_version": "1.2.0",
       "_model_name": "LayoutModel",
       "_view_count": null,
       "_view_module": "@jupyter-widgets/base",
       "_view_module_version": "1.2.0",
       "_view_name": "LayoutView",
       "align_content": null,
       "align_items": null,
       "align_self": "stretch",
       "border": null,
       "bottom": null,
       "display": null,
       "flex": null,
       "flex_flow": null,
       "grid_area": null,
       "grid_auto_columns": null,
       "grid_auto_flow": null,
       "grid_auto_rows": null,
       "grid_column": null,
       "grid_gap": null,
       "grid_row": null,
       "grid_template_areas": null,
       "grid_template_columns": null,
       "grid_template_rows": null,
       "height": "500px",
       "justify_content": null,
       "justify_items": null,
       "left": null,
       "margin": null,
       "max_height": null,
       "max_width": null,
       "min_height": null,
       "min_width": null,
       "object_fit": null,
       "object_position": null,
       "order": null,
       "overflow": null,
       "overflow_x": null,
       "overflow_y": null,
       "padding": null,
       "right": null,
       "top": null,
       "visibility": null,
       "width": null
      }
     },
     "f6e6d135eeb841bb840f92f990057c95": {
      "model_module": "@jupyter-widgets/base",
      "model_module_version": "1.2.0",
      "model_name": "LayoutModel",
      "state": {
       "_model_module": "@jupyter-widgets/base",
       "_model_module_version": "1.2.0",
       "_model_name": "LayoutModel",
       "_view_count": null,
       "_view_module": "@jupyter-widgets/base",
       "_view_module_version": "1.2.0",
       "_view_name": "LayoutView",
       "align_content": null,
       "align_items": null,
       "align_self": "stretch",
       "border": null,
       "bottom": null,
       "display": null,
       "flex": null,
       "flex_flow": null,
       "grid_area": null,
       "grid_auto_columns": null,
       "grid_auto_flow": null,
       "grid_auto_rows": null,
       "grid_column": null,
       "grid_gap": null,
       "grid_row": null,
       "grid_template_areas": null,
       "grid_template_columns": null,
       "grid_template_rows": null,
       "height": "500px",
       "justify_content": null,
       "justify_items": null,
       "left": null,
       "margin": null,
       "max_height": null,
       "max_width": null,
       "min_height": null,
       "min_width": null,
       "object_fit": null,
       "object_position": null,
       "order": null,
       "overflow": null,
       "overflow_x": null,
       "overflow_y": null,
       "padding": null,
       "right": null,
       "top": null,
       "visibility": null,
       "width": null
      }
     },
     "f7bebcf88621409da6f2db463b5c2215": {
      "model_module": "@jupyter-widgets/base",
      "model_module_version": "1.2.0",
      "model_name": "LayoutModel",
      "state": {
       "_model_module": "@jupyter-widgets/base",
       "_model_module_version": "1.2.0",
       "_model_name": "LayoutModel",
       "_view_count": null,
       "_view_module": "@jupyter-widgets/base",
       "_view_module_version": "1.2.0",
       "_view_name": "LayoutView",
       "align_content": null,
       "align_items": null,
       "align_self": "stretch",
       "border": null,
       "bottom": null,
       "display": null,
       "flex": null,
       "flex_flow": null,
       "grid_area": null,
       "grid_auto_columns": null,
       "grid_auto_flow": null,
       "grid_auto_rows": null,
       "grid_column": null,
       "grid_gap": null,
       "grid_row": null,
       "grid_template_areas": null,
       "grid_template_columns": null,
       "grid_template_rows": null,
       "height": "500px",
       "justify_content": null,
       "justify_items": null,
       "left": null,
       "margin": null,
       "max_height": null,
       "max_width": null,
       "min_height": null,
       "min_width": null,
       "object_fit": null,
       "object_position": null,
       "order": null,
       "overflow": null,
       "overflow_x": null,
       "overflow_y": null,
       "padding": null,
       "right": null,
       "top": null,
       "visibility": null,
       "width": null
      }
     },
     "f83701773b4d4191ae4ccbb28002af8a": {
      "model_module": "catboost-widget",
      "model_module_version": "^1.0.0",
      "model_name": "CatboostWidgetModel",
      "state": {
       "_dom_classes": [],
       "_model_module": "catboost-widget",
       "_model_module_version": "^1.0.0",
       "_model_name": "CatboostWidgetModel",
       "_view_count": null,
       "_view_module": "catboost-widget",
       "_view_module_version": "^1.0.0",
       "_view_name": "CatboostWidgetView",
       "data": {
        "catboost_info": {
         "content": {
          "data": {
           "iterations": [
            {
             "iteration": 0,
             "learn": [
              0.6621856248
             ],
             "passed_time": 0.3891263936,
             "remaining_time": 38.52351297,
             "test": [
              0.664497528
             ]
            },
            {
             "iteration": 1,
             "learn": [
              0.6377442345
             ],
             "passed_time": 0.8001231601,
             "remaining_time": 39.20603485,
             "test": [
              0.6375023144
             ]
            },
            {
             "iteration": 2,
             "learn": [
              0.6114166058
             ],
             "passed_time": 1.13965621,
             "remaining_time": 36.84888412,
             "test": [
              0.612125688
             ]
            },
            {
             "iteration": 3,
             "learn": [
              0.586310198
             ],
             "passed_time": 1.49638503,
             "remaining_time": 35.91324073,
             "test": [
              0.5877744672
             ]
            },
            {
             "iteration": 4,
             "learn": [
              0.5650648245
             ],
             "passed_time": 1.847254018,
             "remaining_time": 35.09782635,
             "test": [
              0.5650896776
             ]
            },
            {
             "iteration": 5,
             "learn": [
              0.5426828029
             ],
             "passed_time": 2.23181505,
             "remaining_time": 34.96510245,
             "test": [
              0.5433777143
             ]
            },
            {
             "iteration": 6,
             "learn": [
              0.5211015443
             ],
             "passed_time": 2.591018246,
             "remaining_time": 34.42352812,
             "test": [
              0.5226777079
             ]
            },
            {
             "iteration": 7,
             "learn": [
              0.5031930802
             ],
             "passed_time": 2.967302477,
             "remaining_time": 34.12397848,
             "test": [
              0.5031892486
             ]
            },
            {
             "iteration": 8,
             "learn": [
              0.4837373154
             ],
             "passed_time": 3.346201693,
             "remaining_time": 33.83381712,
             "test": [
              0.4846031338
             ]
            },
            {
             "iteration": 9,
             "learn": [
              0.4661514922
             ],
             "passed_time": 3.687256608,
             "remaining_time": 33.18530948,
             "test": [
              0.4670416878
             ]
            },
            {
             "iteration": 10,
             "learn": [
              0.4500656269
             ],
             "passed_time": 4.061368072,
             "remaining_time": 32.86015986,
             "test": [
              0.4503060055
             ]
            },
            {
             "iteration": 11,
             "learn": [
              0.4341424102
             ],
             "passed_time": 4.375891953,
             "remaining_time": 32.08987432,
             "test": [
              0.4343739477
             ]
            },
            {
             "iteration": 12,
             "learn": [
              0.4187120108
             ],
             "passed_time": 4.710063678,
             "remaining_time": 31.52119539,
             "test": [
              0.4190111994
             ]
            },
            {
             "iteration": 13,
             "learn": [
              0.4040701951
             ],
             "passed_time": 5.070469178,
             "remaining_time": 31.14716781,
             "test": [
              0.4043230905
             ]
            },
            {
             "iteration": 14,
             "learn": [
              0.3894719404
             ],
             "passed_time": 5.406248566,
             "remaining_time": 30.63540854,
             "test": [
              0.3900816512
             ]
            },
            {
             "iteration": 15,
             "learn": [
              0.3752225214
             ],
             "passed_time": 5.76785498,
             "remaining_time": 30.28123864,
             "test": [
              0.37657227
             ]
            },
            {
             "iteration": 16,
             "learn": [
              0.3628001743
             ],
             "passed_time": 6.099906154,
             "remaining_time": 29.78189475,
             "test": [
              0.3635755783
             ]
            },
            {
             "iteration": 17,
             "learn": [
              0.3509873401
             ],
             "passed_time": 6.474863872,
             "remaining_time": 29.49660209,
             "test": [
              0.3511967389
             ]
            },
            {
             "iteration": 18,
             "learn": [
              0.3386509641
             ],
             "passed_time": 6.832646391,
             "remaining_time": 29.1286504,
             "test": [
              0.3393833411
             ]
            },
            {
             "iteration": 19,
             "learn": [
              0.327954571
             ],
             "passed_time": 7.187826098,
             "remaining_time": 28.75130439,
             "test": [
              0.3282101201
             ]
            },
            {
             "iteration": 20,
             "learn": [
              0.3163675173
             ],
             "passed_time": 7.564466751,
             "remaining_time": 28.45680349,
             "test": [
              0.317177595
             ]
            },
            {
             "iteration": 21,
             "learn": [
              0.30597852
             ],
             "passed_time": 7.932438626,
             "remaining_time": 28.12410058,
             "test": [
              0.3068790617
             ]
            },
            {
             "iteration": 22,
             "learn": [
              0.2967074462
             ],
             "passed_time": 8.47660269,
             "remaining_time": 28.37819161,
             "test": [
              0.2969325296
             ]
            },
            {
             "iteration": 23,
             "learn": [
              0.2866657242
             ],
             "passed_time": 8.975299905,
             "remaining_time": 28.42178303,
             "test": [
              0.287383517
             ]
            },
            {
             "iteration": 24,
             "learn": [
              0.2775304572
             ],
             "passed_time": 9.440068066,
             "remaining_time": 28.3202042,
             "test": [
              0.2782162129
             ]
            },
            {
             "iteration": 25,
             "learn": [
              0.2683419296
             ],
             "passed_time": 9.814063843,
             "remaining_time": 27.93233555,
             "test": [
              0.2693091427
             ]
            },
            {
             "iteration": 26,
             "learn": [
              0.2599203763
             ],
             "passed_time": 10.15151088,
             "remaining_time": 27.44667757,
             "test": [
              0.2608112985
             ]
            },
            {
             "iteration": 27,
             "learn": [
              0.2519166858
             ],
             "passed_time": 10.50948798,
             "remaining_time": 27.02439767,
             "test": [
              0.2526231621
             ]
            },
            {
             "iteration": 28,
             "learn": [
              0.2440107822
             ],
             "passed_time": 10.87770485,
             "remaining_time": 26.63162221,
             "test": [
              0.2446405534
             ]
            },
            {
             "iteration": 29,
             "learn": [
              0.2363342725
             ],
             "passed_time": 11.24074203,
             "remaining_time": 26.22839807,
             "test": [
              0.236981672
             ]
            },
            {
             "iteration": 30,
             "learn": [
              0.2289031206
             ],
             "passed_time": 11.59909783,
             "remaining_time": 25.81734679,
             "test": [
              0.2295430791
             ]
            },
            {
             "iteration": 31,
             "learn": [
              0.2216894736
             ],
             "passed_time": 11.97139858,
             "remaining_time": 25.43922199,
             "test": [
              0.222568294
             ]
            },
            {
             "iteration": 32,
             "learn": [
              0.2151037313
             ],
             "passed_time": 12.29838279,
             "remaining_time": 24.96944385,
             "test": [
              0.2158495793
             ]
            },
            {
             "iteration": 33,
             "learn": [
              0.2087244885
             ],
             "passed_time": 12.67922066,
             "remaining_time": 24.6126048,
             "test": [
              0.209132788
             ]
            },
            {
             "iteration": 34,
             "learn": [
              0.2022466775
             ],
             "passed_time": 12.98876379,
             "remaining_time": 24.1219899,
             "test": [
              0.2028873984
             ]
            },
            {
             "iteration": 35,
             "learn": [
              0.1961656291
             ],
             "passed_time": 13.38055155,
             "remaining_time": 23.78764721,
             "test": [
              0.1967575361
             ]
            },
            {
             "iteration": 36,
             "learn": [
              0.1903352418
             ],
             "passed_time": 13.73351355,
             "remaining_time": 23.38409065,
             "test": [
              0.1907948017
             ]
            },
            {
             "iteration": 37,
             "learn": [
              0.1846859269
             ],
             "passed_time": 14.05154241,
             "remaining_time": 22.92620078,
             "test": [
              0.1852594786
             ]
            },
            {
             "iteration": 38,
             "learn": [
              0.1792508011
             ],
             "passed_time": 14.36355965,
             "remaining_time": 22.46608047,
             "test": [
              0.1799708506
             ]
            },
            {
             "iteration": 39,
             "learn": [
              0.1740645981
             ],
             "passed_time": 14.68062328,
             "remaining_time": 22.02093493,
             "test": [
              0.1745016756
             ]
            },
            {
             "iteration": 40,
             "learn": [
              0.1689336572
             ],
             "passed_time": 15.04470716,
             "remaining_time": 21.64970054,
             "test": [
              0.1694813903
             ]
            },
            {
             "iteration": 41,
             "learn": [
              0.1640509127
             ],
             "passed_time": 15.35955354,
             "remaining_time": 21.21081203,
             "test": [
              0.1643573256
             ]
            },
            {
             "iteration": 42,
             "learn": [
              0.1593722428
             ],
             "passed_time": 15.67149584,
             "remaining_time": 20.77384332,
             "test": [
              0.1596896822
             ]
            },
            {
             "iteration": 43,
             "learn": [
              0.1546843948
             ],
             "passed_time": 16.04368369,
             "remaining_time": 20.41923379,
             "test": [
              0.1550088523
             ]
            },
            {
             "iteration": 44,
             "learn": [
              0.1502321085
             ],
             "passed_time": 16.42202094,
             "remaining_time": 20.07135892,
             "test": [
              0.1504549128
             ]
            },
            {
             "iteration": 45,
             "learn": [
              0.1459927794
             ],
             "passed_time": 16.76016466,
             "remaining_time": 19.6749759,
             "test": [
              0.1462702164
             ]
            },
            {
             "iteration": 46,
             "learn": [
              0.1417353736
             ],
             "passed_time": 17.1068704,
             "remaining_time": 19.29072619,
             "test": [
              0.1418546802
             ]
            },
            {
             "iteration": 47,
             "learn": [
              0.137608658
             ],
             "passed_time": 17.50291731,
             "remaining_time": 18.96149375,
             "test": [
              0.1376663409
             ]
            },
            {
             "iteration": 48,
             "learn": [
              0.1336661573
             ],
             "passed_time": 17.87513614,
             "remaining_time": 18.60473353,
             "test": [
              0.1336873271
             ]
            },
            {
             "iteration": 49,
             "learn": [
              0.1298159444
             ],
             "passed_time": 18.26725397,
             "remaining_time": 18.26725397,
             "test": [
              0.1297401445
             ]
            },
            {
             "iteration": 50,
             "learn": [
              0.1261049193
             ],
             "passed_time": 18.67198278,
             "remaining_time": 17.93974817,
             "test": [
              0.126000574
             ]
            },
            {
             "iteration": 51,
             "learn": [
              0.1227240372
             ],
             "passed_time": 18.99729698,
             "remaining_time": 17.53596644,
             "test": [
              0.1225030672
             ]
            },
            {
             "iteration": 52,
             "learn": [
              0.1192551675
             ],
             "passed_time": 19.3670896,
             "remaining_time": 17.17458889,
             "test": [
              0.1189228179
             ]
            },
            {
             "iteration": 53,
             "learn": [
              0.1158051335
             ],
             "passed_time": 19.75251634,
             "remaining_time": 16.82621762,
             "test": [
              0.1154519201
             ]
            },
            {
             "iteration": 54,
             "learn": [
              0.1127600349
             ],
             "passed_time": 20.0672024,
             "remaining_time": 16.41862015,
             "test": [
              0.1124083939
             ]
            },
            {
             "iteration": 55,
             "learn": [
              0.109629073
             ],
             "passed_time": 20.39706636,
             "remaining_time": 16.02626642,
             "test": [
              0.1091693911
             ]
            },
            {
             "iteration": 56,
             "learn": [
              0.1067353128
             ],
             "passed_time": 20.73758161,
             "remaining_time": 15.64414051,
             "test": [
              0.106249804
             ]
            },
            {
             "iteration": 57,
             "learn": [
              0.1037796019
             ],
             "passed_time": 21.15020804,
             "remaining_time": 15.31566789,
             "test": [
              0.1032227724
             ]
            },
            {
             "iteration": 58,
             "learn": [
              0.1009022183
             ],
             "passed_time": 21.56018782,
             "remaining_time": 14.9825034,
             "test": [
              0.1003660673
             ]
            },
            {
             "iteration": 59,
             "learn": [
              0.09811680942
             ],
             "passed_time": 21.91019415,
             "remaining_time": 14.6067961,
             "test": [
              0.09748924815
             ]
            },
            {
             "iteration": 60,
             "learn": [
              0.09547181082
             ],
             "passed_time": 22.30464832,
             "remaining_time": 14.26034893,
             "test": [
              0.09469046226
             ]
            },
            {
             "iteration": 61,
             "learn": [
              0.09278748147
             ],
             "passed_time": 22.73862068,
             "remaining_time": 13.93657396,
             "test": [
              0.09199830972
             ]
            },
            {
             "iteration": 62,
             "learn": [
              0.0903272568
             ],
             "passed_time": 23.08087382,
             "remaining_time": 13.55543383,
             "test": [
              0.08952462651
             ]
            },
            {
             "iteration": 63,
             "learn": [
              0.08801542757
             ],
             "passed_time": 23.40169622,
             "remaining_time": 13.16345412,
             "test": [
              0.08714998921
             ]
            },
            {
             "iteration": 64,
             "learn": [
              0.08571271398
             ],
             "passed_time": 23.73214995,
             "remaining_time": 12.77884997,
             "test": [
              0.08484012482
             ]
            },
            {
             "iteration": 65,
             "learn": [
              0.08337896526
             ],
             "passed_time": 24.16036612,
             "remaining_time": 12.44624921,
             "test": [
              0.08246462256
             ]
            },
            {
             "iteration": 66,
             "learn": [
              0.08126412108
             ],
             "passed_time": 24.54432012,
             "remaining_time": 12.08899349,
             "test": [
              0.08033781973
             ]
            },
            {
             "iteration": 67,
             "learn": [
              0.0791739094
             ],
             "passed_time": 24.95432631,
             "remaining_time": 11.74321238,
             "test": [
              0.07830386781
             ]
            },
            {
             "iteration": 68,
             "learn": [
              0.07707891864
             ],
             "passed_time": 25.33378237,
             "remaining_time": 11.38184425,
             "test": [
              0.07615691937
             ]
            },
            {
             "iteration": 69,
             "learn": [
              0.07501342472
             ],
             "passed_time": 25.73228271,
             "remaining_time": 11.02812116,
             "test": [
              0.07406882582
             ]
            },
            {
             "iteration": 70,
             "learn": [
              0.07316137576
             ],
             "passed_time": 26.14624098,
             "remaining_time": 10.67945054,
             "test": [
              0.07221481948
             ]
            },
            {
             "iteration": 71,
             "learn": [
              0.07135918469
             ],
             "passed_time": 26.50708419,
             "remaining_time": 10.30831052,
             "test": [
              0.07045151953
             ]
            },
            {
             "iteration": 72,
             "learn": [
              0.06959480971
             ],
             "passed_time": 26.87383409,
             "remaining_time": 9.939637265,
             "test": [
              0.06864342327
             ]
            },
            {
             "iteration": 73,
             "learn": [
              0.0679165708
             ],
             "passed_time": 27.21293892,
             "remaining_time": 9.561302863,
             "test": [
              0.0669644165
             ]
            },
            {
             "iteration": 74,
             "learn": [
              0.06620662297
             ],
             "passed_time": 27.58533634,
             "remaining_time": 9.195112113,
             "test": [
              0.06525709657
             ]
            },
            {
             "iteration": 75,
             "learn": [
              0.06448570869
             ],
             "passed_time": 27.98101757,
             "remaining_time": 8.83611081,
             "test": [
              0.0634998353
             ]
            },
            {
             "iteration": 76,
             "learn": [
              0.06297864235
             ],
             "passed_time": 28.35210382,
             "remaining_time": 8.468810231,
             "test": [
              0.06193919523
             ]
            },
            {
             "iteration": 77,
             "learn": [
              0.0613952451
             ],
             "passed_time": 28.7663778,
             "remaining_time": 8.113593739,
             "test": [
              0.06035725688
             ]
            },
            {
             "iteration": 78,
             "learn": [
              0.05984198174
             ],
             "passed_time": 29.1724991,
             "remaining_time": 7.75471495,
             "test": [
              0.05872185579
             ]
            },
            {
             "iteration": 79,
             "learn": [
              0.05841881802
             ],
             "passed_time": 29.54196597,
             "remaining_time": 7.385491493,
             "test": [
              0.05728080015
             ]
            },
            {
             "iteration": 80,
             "learn": [
              0.05700849689
             ],
             "passed_time": 29.90366717,
             "remaining_time": 7.014440448,
             "test": [
              0.05590188362
             ]
            },
            {
             "iteration": 81,
             "learn": [
              0.05564921999
             ],
             "passed_time": 30.31482505,
             "remaining_time": 6.654473792,
             "test": [
              0.05461672566
             ]
            },
            {
             "iteration": 82,
             "learn": [
              0.0543760371
             ],
             "passed_time": 30.68818731,
             "remaining_time": 6.28553234,
             "test": [
              0.05329741782
             ]
            },
            {
             "iteration": 83,
             "learn": [
              0.05299286109
             ],
             "passed_time": 31.08357995,
             "remaining_time": 5.920681896,
             "test": [
              0.05192065588
             ]
            },
            {
             "iteration": 84,
             "learn": [
              0.05174590533
             ],
             "passed_time": 31.46478272,
             "remaining_time": 5.552608715,
             "test": [
              0.05067731194
             ]
            },
            {
             "iteration": 85,
             "learn": [
              0.05060702815
             ],
             "passed_time": 31.78040807,
             "remaining_time": 5.173554802,
             "test": [
              0.04944397901
             ]
            },
            {
             "iteration": 86,
             "learn": [
              0.04940893198
             ],
             "passed_time": 32.17171382,
             "remaining_time": 4.807267583,
             "test": [
              0.04825227
             ]
            },
            {
             "iteration": 87,
             "learn": [
              0.04827468254
             ],
             "passed_time": 32.54117791,
             "remaining_time": 4.437433352,
             "test": [
              0.04705057817
             ]
            },
            {
             "iteration": 88,
             "learn": [
              0.04718807951
             ],
             "passed_time": 32.96567758,
             "remaining_time": 4.074409588,
             "test": [
              0.04596774388
             ]
            },
            {
             "iteration": 89,
             "learn": [
              0.04613004468
             ],
             "passed_time": 33.33097978,
             "remaining_time": 3.703442198,
             "test": [
              0.04490702676
             ]
            },
            {
             "iteration": 90,
             "learn": [
              0.04502901087
             ],
             "passed_time": 33.785121,
             "remaining_time": 3.341385594,
             "test": [
              0.04381789356
             ]
            },
            {
             "iteration": 91,
             "learn": [
              0.04402509065
             ],
             "passed_time": 34.10385545,
             "remaining_time": 2.965552648,
             "test": [
              0.04275123813
             ]
            },
            {
             "iteration": 92,
             "learn": [
              0.04301269012
             ],
             "passed_time": 34.53242391,
             "remaining_time": 2.599214703,
             "test": [
              0.04175106338
             ]
            },
            {
             "iteration": 93,
             "learn": [
              0.04208713388
             ],
             "passed_time": 34.94316944,
             "remaining_time": 2.230415071,
             "test": [
              0.04082531342
             ]
            },
            {
             "iteration": 94,
             "learn": [
              0.04114967869
             ],
             "passed_time": 35.32297244,
             "remaining_time": 1.859103813,
             "test": [
              0.03982586532
             ]
            },
            {
             "iteration": 95,
             "learn": [
              0.04019295603
             ],
             "passed_time": 35.69791994,
             "remaining_time": 1.487413331,
             "test": [
              0.03889392835
             ]
            },
            {
             "iteration": 96,
             "learn": [
              0.03933108379
             ],
             "passed_time": 36.0430556,
             "remaining_time": 1.114733678,
             "test": [
              0.03805787972
             ]
            },
            {
             "iteration": 97,
             "learn": [
              0.03846105708
             ],
             "passed_time": 36.42006337,
             "remaining_time": 0.7432665994,
             "test": [
              0.03713651429
             ]
            },
            {
             "iteration": 98,
             "learn": [
              0.03758264851
             ],
             "passed_time": 36.8174484,
             "remaining_time": 0.3718934181,
             "test": [
              0.03620063694
             ]
            },
            {
             "iteration": 99,
             "learn": [
              0.03679432013
             ],
             "passed_time": 37.16248243,
             "remaining_time": 0,
             "test": [
              0.03543033747
             ]
            }
           ],
           "meta": {
            "iteration_count": 100,
            "launch_mode": "Train",
            "learn_metrics": [
             {
              "best_value": "Min",
              "name": "CrossEntropy"
             }
            ],
            "learn_sets": [
             "learn"
            ],
            "name": "experiment",
            "parameters": "",
            "test_metrics": [
             {
              "best_value": "Min",
              "name": "CrossEntropy"
             }
            ],
            "test_sets": [
             "test"
            ]
           }
          },
          "passed_iterations": 99,
          "total_iterations": 100
         },
         "name": "catboost_info",
         "path": "catboost_info"
        }
       },
       "layout": "IPY_MODEL_e0f148be8d0c42da820cdb437c5d25dc"
      }
     },
     "f9ce5fff22f7467a81e58b3185556ac9": {
      "model_module": "catboost-widget",
      "model_module_version": "^1.0.0",
      "model_name": "CatboostWidgetModel",
      "state": {
       "_dom_classes": [],
       "_model_module": "catboost-widget",
       "_model_module_version": "^1.0.0",
       "_model_name": "CatboostWidgetModel",
       "_view_count": null,
       "_view_module": "catboost-widget",
       "_view_module_version": "^1.0.0",
       "_view_name": "CatboostWidgetView",
       "data": {
        "catboost_info": {
         "content": {
          "data": {
           "iterations": [
            {
             "iteration": 0,
             "learn": [
              0.6613880707
             ],
             "passed_time": 0.5684445061,
             "remaining_time": 56.2760061,
             "test": [
              0.6636028545
             ]
            },
            {
             "iteration": 1,
             "learn": [
              0.6363114972
             ],
             "passed_time": 0.9327333557,
             "remaining_time": 45.70393443,
             "test": [
              0.6357803772
             ]
            },
            {
             "iteration": 2,
             "learn": [
              0.609389025
             ],
             "passed_time": 1.368480826,
             "remaining_time": 44.24754671,
             "test": [
              0.6095311118
             ]
            },
            {
             "iteration": 3,
             "learn": [
              0.583732517
             ],
             "passed_time": 1.72283124,
             "remaining_time": 41.34794975,
             "test": [
              0.58472613
             ]
            },
            {
             "iteration": 4,
             "learn": [
              0.5622122314
             ],
             "passed_time": 2.20419729,
             "remaining_time": 41.87974851,
             "test": [
              0.5612537201
             ]
            },
            {
             "iteration": 5,
             "learn": [
              0.53777688
             ],
             "passed_time": 2.600099326,
             "remaining_time": 40.73488945,
             "test": [
              0.5390108855
             ]
            },
            {
             "iteration": 6,
             "learn": [
              0.5169110888
             ],
             "passed_time": 3.037556277,
             "remaining_time": 40.35610482,
             "test": [
              0.5179050105
             ]
            },
            {
             "iteration": 7,
             "learn": [
              0.4987245186
             ],
             "passed_time": 3.407555096,
             "remaining_time": 39.1868836,
             "test": [
              0.4978587113
             ]
            },
            {
             "iteration": 8,
             "learn": [
              0.4785612901
             ],
             "passed_time": 3.774482805,
             "remaining_time": 38.16421502,
             "test": [
              0.4787964591
             ]
            },
            {
             "iteration": 9,
             "learn": [
              0.4606141839
             ],
             "passed_time": 4.15251638,
             "remaining_time": 37.37264742,
             "test": [
              0.4606526548
             ]
            },
            {
             "iteration": 10,
             "learn": [
              0.4439325023
             ],
             "passed_time": 4.541509575,
             "remaining_time": 36.74494111,
             "test": [
              0.4433658765
             ]
            },
            {
             "iteration": 11,
             "learn": [
              0.4280918896
             ],
             "passed_time": 4.922166958,
             "remaining_time": 36.09589103,
             "test": [
              0.4268818256
             ]
            },
            {
             "iteration": 12,
             "learn": [
              0.4122239079
             ],
             "passed_time": 5.31971077,
             "remaining_time": 35.60114131,
             "test": [
              0.4111512436
             ]
            },
            {
             "iteration": 13,
             "learn": [
              0.3968281574
             ],
             "passed_time": 5.775315034,
             "remaining_time": 35.47693521,
             "test": [
              0.3961240709
             ]
            },
            {
             "iteration": 14,
             "learn": [
              0.3824624769
             ],
             "passed_time": 6.197772945,
             "remaining_time": 35.12071335,
             "test": [
              0.3817639858
             ]
            },
            {
             "iteration": 15,
             "learn": [
              0.3673975884
             ],
             "passed_time": 6.694730542,
             "remaining_time": 35.14733534,
             "test": [
              0.3680312504
             ]
            },
            {
             "iteration": 16,
             "learn": [
              0.3539468018
             ],
             "passed_time": 7.149197807,
             "remaining_time": 34.90490694,
             "test": [
              0.3548884815
             ]
            },
            {
             "iteration": 17,
             "learn": [
              0.3432404974
             ],
             "passed_time": 7.492767716,
             "remaining_time": 34.13371959,
             "test": [
              0.3423025311
             ]
            },
            {
             "iteration": 18,
             "learn": [
              0.3301473081
             ],
             "passed_time": 7.939226511,
             "remaining_time": 33.84617618,
             "test": [
              0.3302415878
             ]
            },
            {
             "iteration": 19,
             "learn": [
              0.3197410942
             ],
             "passed_time": 8.398363096,
             "remaining_time": 33.59345238,
             "test": [
              0.3186823921
             ]
            },
            {
             "iteration": 20,
             "learn": [
              0.3070682066
             ],
             "passed_time": 8.846480791,
             "remaining_time": 33.27961821,
             "test": [
              0.3075946781
             ]
            },
            {
             "iteration": 21,
             "learn": [
              0.2969494651
             ],
             "passed_time": 9.217919784,
             "remaining_time": 32.6817156,
             "test": [
              0.2969539165
             ]
            },
            {
             "iteration": 22,
             "learn": [
              0.2868587936
             ],
             "passed_time": 9.631856933,
             "remaining_time": 32.24578191,
             "test": [
              0.2867398571
             ]
            },
            {
             "iteration": 23,
             "learn": [
              0.2765853976
             ],
             "passed_time": 10.09911657,
             "remaining_time": 31.98053581,
             "test": [
              0.2769297552
             ]
            },
            {
             "iteration": 24,
             "learn": [
              0.2666527998
             ],
             "passed_time": 10.49714549,
             "remaining_time": 31.49143648,
             "test": [
              0.2675015508
             ]
            },
            {
             "iteration": 25,
             "learn": [
              0.2580533519
             ],
             "passed_time": 10.8712162,
             "remaining_time": 30.9411538,
             "test": [
              0.2584390043
             ]
            },
            {
             "iteration": 26,
             "learn": [
              0.2500346306
             ],
             "passed_time": 11.26874453,
             "remaining_time": 30.46734631,
             "test": [
              0.2497311679
             ]
            },
            {
             "iteration": 27,
             "learn": [
              0.2420467396
             ],
             "passed_time": 11.641353,
             "remaining_time": 29.93490772,
             "test": [
              0.2413508535
             ]
            },
            {
             "iteration": 28,
             "learn": [
              0.2337795926
             ],
             "passed_time": 12.10213338,
             "remaining_time": 29.62936105,
             "test": [
              0.2332876358
             ]
            },
            {
             "iteration": 29,
             "learn": [
              0.2259567283
             ],
             "passed_time": 12.57788276,
             "remaining_time": 29.34839311,
             "test": [
              0.2255266629
             ]
            },
            {
             "iteration": 30,
             "learn": [
              0.2186109944
             ],
             "passed_time": 13.05302673,
             "remaining_time": 29.05351112,
             "test": [
              0.2180536778
             ]
            },
            {
             "iteration": 31,
             "learn": [
              0.2110166863
             ],
             "passed_time": 13.42619524,
             "remaining_time": 28.53066488,
             "test": [
              0.2108565311
             ]
            },
            {
             "iteration": 32,
             "learn": [
              0.2034527943
             ],
             "passed_time": 13.90783772,
             "remaining_time": 28.23712506,
             "test": [
              0.2039222061
             ]
            },
            {
             "iteration": 33,
             "learn": [
              0.1966528007
             ],
             "passed_time": 14.34225972,
             "remaining_time": 27.84085711,
             "test": [
              0.1972576237
             ]
            },
            {
             "iteration": 34,
             "learn": [
              0.1912745756
             ],
             "passed_time": 14.78533758,
             "remaining_time": 27.45848408,
             "test": [
              0.1908168733
             ]
            },
            {
             "iteration": 35,
             "learn": [
              0.1840730781
             ],
             "passed_time": 15.14924789,
             "remaining_time": 26.93199626,
             "test": [
              0.1846099227
             ]
            },
            {
             "iteration": 36,
             "learn": [
              0.1788814064
             ],
             "passed_time": 15.55788347,
             "remaining_time": 26.49045024,
             "test": [
              0.178623293
             ]
            },
            {
             "iteration": 37,
             "learn": [
              0.1723283617
             ],
             "passed_time": 15.9283294,
             "remaining_time": 25.98832692,
             "test": [
              0.1728475592
             ]
            },
            {
             "iteration": 38,
             "learn": [
              0.1677646277
             ],
             "passed_time": 16.36642704,
             "remaining_time": 25.5987705,
             "test": [
              0.1672775434
             ]
            },
            {
             "iteration": 39,
             "learn": [
              0.1615340708
             ],
             "passed_time": 16.79286504,
             "remaining_time": 25.18929757,
             "test": [
              0.1618992671
             ]
            },
            {
             "iteration": 40,
             "learn": [
              0.1564369861
             ],
             "passed_time": 17.21684844,
             "remaining_time": 24.77546483,
             "test": [
              0.1567080951
             ]
            },
            {
             "iteration": 41,
             "learn": [
              0.1521205585
             ],
             "passed_time": 17.64447844,
             "remaining_time": 24.36618451,
             "test": [
              0.1516978825
             ]
            },
            {
             "iteration": 42,
             "learn": [
              0.1471134104
             ],
             "passed_time": 18.09262083,
             "remaining_time": 23.98324156,
             "test": [
              0.14686027
             ]
            },
            {
             "iteration": 43,
             "learn": [
              0.1419954333
             ],
             "passed_time": 18.51437736,
             "remaining_time": 23.56375301,
             "test": [
              0.1421882294
             ]
            },
            {
             "iteration": 44,
             "learn": [
              0.1372524457
             ],
             "passed_time": 18.9559558,
             "remaining_time": 23.16839042,
             "test": [
              0.137675256
             ]
            },
            {
             "iteration": 45,
             "learn": [
              0.1330236252
             ],
             "passed_time": 19.41154375,
             "remaining_time": 22.7874644,
             "test": [
              0.1333152702
             ]
            },
            {
             "iteration": 46,
             "learn": [
              0.1290220692
             ],
             "passed_time": 19.76936124,
             "remaining_time": 22.29310948,
             "test": [
              0.1291036629
             ]
            },
            {
             "iteration": 47,
             "learn": [
              0.1250899379
             ],
             "passed_time": 20.26270538,
             "remaining_time": 21.95126416,
             "test": [
              0.1250320037
             ]
            },
            {
             "iteration": 48,
             "learn": [
              0.1211803196
             ],
             "passed_time": 20.69120925,
             "remaining_time": 21.5357484,
             "test": [
              0.1211000234
             ]
            },
            {
             "iteration": 49,
             "learn": [
              0.117293234
             ],
             "passed_time": 21.0096498,
             "remaining_time": 21.0096498,
             "test": [
              0.1172978446
             ]
            },
            {
             "iteration": 50,
             "learn": [
              0.1134362028
             ],
             "passed_time": 21.42676118,
             "remaining_time": 20.58649603,
             "test": [
              0.1136232939
             ]
            },
            {
             "iteration": 51,
             "learn": [
              0.1098597853
             ],
             "passed_time": 21.84959689,
             "remaining_time": 20.16885867,
             "test": [
              0.1100680799
             ]
            },
            {
             "iteration": 52,
             "learn": [
              0.1070250505
             ],
             "passed_time": 22.18398882,
             "remaining_time": 19.67259386,
             "test": [
              0.1066335537
             ]
            },
            {
             "iteration": 53,
             "learn": [
              0.1035084723
             ],
             "passed_time": 22.5253211,
             "remaining_time": 19.18823649,
             "test": [
              0.1033108875
             ]
            },
            {
             "iteration": 54,
             "learn": [
              0.09985005631
             ],
             "passed_time": 22.98188912,
             "remaining_time": 18.80336383,
             "test": [
              0.1000972247
             ]
            },
            {
             "iteration": 55,
             "learn": [
              0.09724263368
             ],
             "passed_time": 23.42011275,
             "remaining_time": 18.40151716,
             "test": [
              0.09698747007
             ]
            },
            {
             "iteration": 56,
             "learn": [
              0.09386891094
             ],
             "passed_time": 23.84439021,
             "remaining_time": 17.98787332,
             "test": [
              0.09398011827
             ]
            },
            {
             "iteration": 57,
             "learn": [
              0.09132692883
             ],
             "passed_time": 24.24797363,
             "remaining_time": 17.55887746,
             "test": [
              0.09107371613
             ]
            },
            {
             "iteration": 58,
             "learn": [
              0.08806095633
             ],
             "passed_time": 24.66226137,
             "remaining_time": 17.13818163,
             "test": [
              0.08825836772
             ]
            },
            {
             "iteration": 59,
             "learn": [
              0.08560431514
             ],
             "passed_time": 25.09244202,
             "remaining_time": 16.72829468,
             "test": [
              0.08553348191
             ]
            },
            {
             "iteration": 60,
             "learn": [
              0.08269842148
             ],
             "passed_time": 25.52896407,
             "remaining_time": 16.3217967,
             "test": [
              0.08289734671
             ]
            },
            {
             "iteration": 61,
             "learn": [
              0.08019931139
             ],
             "passed_time": 25.94153714,
             "remaining_time": 15.89965179,
             "test": [
              0.08034345657
             ]
            },
            {
             "iteration": 62,
             "learn": [
              0.07806663038
             ],
             "passed_time": 26.34704359,
             "remaining_time": 15.47366052,
             "test": [
              0.07787385545
             ]
            },
            {
             "iteration": 63,
             "learn": [
              0.07559359866
             ],
             "passed_time": 26.78561314,
             "remaining_time": 15.06690739,
             "test": [
              0.07548110482
             ]
            },
            {
             "iteration": 64,
             "learn": [
              0.07306356532
             ],
             "passed_time": 27.1941666,
             "remaining_time": 14.64301279,
             "test": [
              0.07316531503
             ]
            },
            {
             "iteration": 65,
             "learn": [
              0.07072846464
             ],
             "passed_time": 27.78385406,
             "remaining_time": 14.31289452,
             "test": [
              0.07092278684
             ]
            },
            {
             "iteration": 66,
             "learn": [
              0.06856197858
             ],
             "passed_time": 28.39734387,
             "remaining_time": 13.98675146,
             "test": [
              0.0687526899
             ]
            },
            {
             "iteration": 67,
             "learn": [
              0.06652856666
             ],
             "passed_time": 28.89257307,
             "remaining_time": 13.59650498,
             "test": [
              0.06665240755
             ]
            },
            {
             "iteration": 68,
             "learn": [
              0.06455480013
             ],
             "passed_time": 29.33243753,
             "remaining_time": 13.1783415,
             "test": [
              0.06461691836
             ]
            },
            {
             "iteration": 69,
             "learn": [
              0.06259855497
             ],
             "passed_time": 29.66302531,
             "remaining_time": 12.71272513,
             "test": [
              0.06264549801
             ]
            },
            {
             "iteration": 70,
             "learn": [
              0.0606547197
             ],
             "passed_time": 30.0169175,
             "remaining_time": 12.26043109,
             "test": [
              0.06073727036
             ]
            },
            {
             "iteration": 71,
             "learn": [
              0.05874896339
             ],
             "passed_time": 30.40912238,
             "remaining_time": 11.82576981,
             "test": [
              0.05888757158
             ]
            },
            {
             "iteration": 72,
             "learn": [
              0.05694957045
             ],
             "passed_time": 30.8054616,
             "remaining_time": 11.39380086,
             "test": [
              0.05709720172
             ]
            },
            {
             "iteration": 73,
             "learn": [
              0.05552007336
             ],
             "passed_time": 31.24957075,
             "remaining_time": 10.97957891,
             "test": [
              0.05536314168
             ]
            },
            {
             "iteration": 74,
             "learn": [
              0.05375779335
             ],
             "passed_time": 31.65490721,
             "remaining_time": 10.55163574,
             "test": [
              0.05368163377
             ]
            },
            {
             "iteration": 75,
             "learn": [
              0.05192191215
             ],
             "passed_time": 32.07896072,
             "remaining_time": 10.13019812,
             "test": [
              0.05205415081
             ]
            },
            {
             "iteration": 76,
             "learn": [
              0.05061653066
             ],
             "passed_time": 32.50994683,
             "remaining_time": 9.710763338,
             "test": [
              0.05047732945
             ]
            },
            {
             "iteration": 77,
             "learn": [
              0.04892386279
             ],
             "passed_time": 32.90716468,
             "remaining_time": 9.281507987,
             "test": [
              0.04895123121
             ]
            },
            {
             "iteration": 78,
             "learn": [
              0.04743619113
             ],
             "passed_time": 33.29186008,
             "remaining_time": 8.849734958,
             "test": [
              0.04747053325
             ]
            },
            {
             "iteration": 79,
             "learn": [
              0.04599280826
             ],
             "passed_time": 33.66980426,
             "remaining_time": 8.417451066,
             "test": [
              0.0460350562
             ]
            },
            {
             "iteration": 80,
             "learn": [
              0.04473585452
             ],
             "passed_time": 34.10006764,
             "remaining_time": 7.998781297,
             "test": [
              0.04464418046
             ]
            },
            {
             "iteration": 81,
             "learn": [
              0.04317883555
             ],
             "passed_time": 34.47209984,
             "remaining_time": 7.567046306,
             "test": [
              0.04329650511
             ]
            },
            {
             "iteration": 82,
             "learn": [
              0.0420417419
             ],
             "passed_time": 34.79205827,
             "remaining_time": 7.126084224,
             "test": [
              0.04198956955
             ]
            },
            {
             "iteration": 83,
             "learn": [
              0.04079675367
             ],
             "passed_time": 35.16370679,
             "remaining_time": 6.697848912,
             "test": [
              0.04072293828
             ]
            },
            {
             "iteration": 84,
             "learn": [
              0.03942649744
             ],
             "passed_time": 35.61055573,
             "remaining_time": 6.284215718,
             "test": [
              0.03949538816
             ]
            },
            {
             "iteration": 85,
             "learn": [
              0.03820959528
             ],
             "passed_time": 36.02020609,
             "remaining_time": 5.86375448,
             "test": [
              0.03830567609
             ]
            },
            {
             "iteration": 86,
             "learn": [
              0.0371692468
             ],
             "passed_time": 36.38260084,
             "remaining_time": 5.436480585,
             "test": [
              0.03715224916
             ]
            },
            {
             "iteration": 87,
             "learn": [
              0.03611945831
             ],
             "passed_time": 36.78661852,
             "remaining_time": 5.01635707,
             "test": [
              0.03603747677
             ]
            },
            {
             "iteration": 88,
             "learn": [
              0.03494536628
             ],
             "passed_time": 37.21199843,
             "remaining_time": 4.599235761,
             "test": [
              0.03495366872
             ]
            },
            {
             "iteration": 89,
             "learn": [
              0.03390219107
             ],
             "passed_time": 37.66762039,
             "remaining_time": 4.185291154,
             "test": [
              0.03390504913
             ]
            },
            {
             "iteration": 90,
             "learn": [
              0.03289324026
             ],
             "passed_time": 38.03412761,
             "remaining_time": 3.761617016,
             "test": [
              0.03288706605
             ]
            },
            {
             "iteration": 91,
             "learn": [
              0.03189996646
             ],
             "passed_time": 38.52413761,
             "remaining_time": 3.349925009,
             "test": [
              0.03190009371
             ]
            },
            {
             "iteration": 92,
             "learn": [
              0.03092063135
             ],
             "passed_time": 38.91103073,
             "remaining_time": 2.928787259,
             "test": [
              0.03094286915
             ]
            },
            {
             "iteration": 93,
             "learn": [
              0.02998643857
             ],
             "passed_time": 39.37394294,
             "remaining_time": 2.5132304,
             "test": [
              0.03001665445
             ]
            },
            {
             "iteration": 94,
             "learn": [
              0.02908014369
             ],
             "passed_time": 39.8111773,
             "remaining_time": 2.095325121,
             "test": [
              0.02911757151
             ]
            },
            {
             "iteration": 95,
             "learn": [
              0.028298389
             ],
             "passed_time": 40.1967039,
             "remaining_time": 1.674862663,
             "test": [
              0.0282457926
             ]
            },
            {
             "iteration": 96,
             "learn": [
              0.02740620124
             ],
             "passed_time": 40.59417511,
             "remaining_time": 1.255489952,
             "test": [
              0.0274009927
             ]
            },
            {
             "iteration": 97,
             "learn": [
              0.0265178274
             ],
             "passed_time": 41.02042802,
             "remaining_time": 0.8371515923,
             "test": [
              0.02658228683
             ]
            },
            {
             "iteration": 98,
             "learn": [
              0.02583811576
             ],
             "passed_time": 41.39615582,
             "remaining_time": 0.4181429881,
             "test": [
              0.02578682877
             ]
            },
            {
             "iteration": 99,
             "learn": [
              0.02497591753
             ],
             "passed_time": 41.79609766,
             "remaining_time": 0,
             "test": [
              0.02501554096
             ]
            }
           ],
           "meta": {
            "iteration_count": 100,
            "launch_mode": "Train",
            "learn_metrics": [
             {
              "best_value": "Min",
              "name": "CrossEntropy"
             }
            ],
            "learn_sets": [
             "learn"
            ],
            "name": "experiment",
            "parameters": "",
            "test_metrics": [
             {
              "best_value": "Min",
              "name": "CrossEntropy"
             }
            ],
            "test_sets": [
             "test"
            ]
           }
          },
          "passed_iterations": 99,
          "total_iterations": 100
         },
         "name": "catboost_info",
         "path": "catboost_info"
        }
       },
       "layout": "IPY_MODEL_094c02ae5c4542deacc334b240345abb"
      }
     }
    },
    "version_major": 2,
    "version_minor": 0
   }
  }
 },
 "nbformat": 4,
 "nbformat_minor": 5
}
