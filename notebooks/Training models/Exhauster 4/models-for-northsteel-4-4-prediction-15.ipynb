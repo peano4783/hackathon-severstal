{
 "cells": [
  {
   "cell_type": "code",
   "execution_count": 1,
   "id": "c4814d79",
   "metadata": {
    "execution": {
     "iopub.execute_input": "2023-05-28T20:09:29.353098Z",
     "iopub.status.busy": "2023-05-28T20:09:29.352706Z",
     "iopub.status.idle": "2023-05-28T20:09:29.433490Z",
     "shell.execute_reply": "2023-05-28T20:09:29.432466Z"
    },
    "papermill": {
     "duration": 0.090939,
     "end_time": "2023-05-28T20:09:29.436754",
     "exception": false,
     "start_time": "2023-05-28T20:09:29.345815",
     "status": "completed"
    },
    "tags": []
   },
   "outputs": [
    {
     "name": "stdout",
     "output_type": "stream",
     "text": [
      "/kaggle/input/y-train-northsteel-short/y_short_ТСМТ-101-010-50М-80 ТЕРМОПРЕОБР.МАСЛО.csv\n",
      "/kaggle/input/y-train-northsteel-short/y_short_ЗАДВИЖКА ЭКСГ.d.csv\n",
      "/kaggle/input/y-train-northsteel-short/y_short_КОРПУС ЭКСГ.d.csv\n",
      "/kaggle/input/y-train-northsteel-short/y_short_ГАЗОВАЯ ЗАДВИЖКА ЭКСГ.d.csv\n",
      "/kaggle/input/y-train-northsteel-short/y_short_ТИРИСТ. ВОЗБУДИТЕЛЬ ВТ-РЭМ-400 ЭКСГ.d.csv\n",
      "/kaggle/input/y-train-northsteel-short/y_short_КЛ2 ТР№n ДО ЭД ЭКСГАУСТЕРА №d.csv\n",
      "/kaggle/input/y-train-northsteel-short/y_short_РЕДУКТОР ГАЗ. ЗАДВИЖКИ ЭКСГ.d.csv\n",
      "/kaggle/input/y-train-northsteel-short/y_short_МАСЛОНАСОС ШЕСТЕРЕНЧАТЫЙ (РЕЗ.) ЭКСГ.d.csv\n",
      "/kaggle/input/y-train-northsteel-short/y_short_УЛИТА ЭКСГ.d.csv\n",
      "/kaggle/input/y-train-northsteel-short/y_short_ВК 310С ВИБРОПРЕОБРАЗОВАТЕЛЬ ЭКСГ.d.csv\n",
      "/kaggle/input/y-train-northsteel-short/y_short_ДВИГАТЕЛЬ РЕЗЕРВНОГО МАСЛОНАСОСА ЭКСГ.d.csv\n",
      "/kaggle/input/y-train-northsteel-short/y_short_ЗАПОРНАЯ АРМАТУРА ЭКСГАУСТЕРА №d.csv\n",
      "/kaggle/input/y-train-northsteel-short/y_short_МАСЛОНАСОС РАБОЧИЙ ЭКСГ.d.csv\n",
      "/kaggle/input/y-train-northsteel-short/y_short_МЕТРАН-100 ДАТЧИКИ ДАВЛЕНИЯ ЭКСГ.d.csv\n",
      "/kaggle/input/y-train-northsteel-short/y_short_ЭКСГАУСТЕР Н-8000 АМ №5.csv\n",
      "/kaggle/input/y-train-northsteel-short/y_short_ПОДШИПНИК ОПОРНО-УПОРНЫЙ ЭКСГ.d.csv\n",
      "/kaggle/input/y-train-northsteel-short/y_short_ПОДШИПНИК ОПОРНЫЙ ЭКСГ.d.csv\n",
      "/kaggle/input/y-train-northsteel-short/y_short_МАСЛООХЛАДИТЕЛЬ  М-05-1 ЭКСГ.d.csv\n",
      "/kaggle/input/y-train-northsteel-short/y_short_ТИРИСТОРНЫЙ ВОЗБУДИТЕЛЬ ТВ-400 ЭКСГ.d ВУ1.csv\n",
      "/kaggle/input/y-train-northsteel-short/y_short_КЛ1 ТР№n ДО ЭД ЭКСГАУСТЕРА №d.csv\n",
      "/kaggle/input/y-train-northsteel-short/y_short_ЭЛДВИГАТЕЛЬ ГАЗ. ЗАДВИЖКИ ЭКСГ.d.csv\n",
      "/kaggle/input/y-train-northsteel-short/y_short_ТСМТ-101-010-50М-200 ТЕРМОПР.ПОДШ.csv\n",
      "/kaggle/input/y-train-northsteel-short/y_short_МАСЛОБАК ЭКСГ.d.csv\n",
      "/kaggle/input/y-train-northsteel-short/y_short_ЗАП. И РЕГ. АРМАТУРА ЭКСГ.d.csv\n",
      "/kaggle/input/y-train-northsteel-short/y_short_КОЖУХ МУФТЫ ЭКСГ.d.csv\n",
      "/kaggle/input/y-train-northsteel-short/y_short_РЕГУЛИРУЮЩАЯ АППАРАТУРА ЭКСГАУСТЕРА №d.csv\n",
      "/kaggle/input/y-train-northsteel-short/y_short_МАСЛЯНЫЙ ФИЛЬТР ЭКСГАУСТЕРА №d.csv\n",
      "/kaggle/input/y-train-northsteel-short/y_short_ТР-Р ТМ-4000-106 ЭКСГ.d.csv\n",
      "/kaggle/input/y-train-northsteel-short/y_short_ЭЛЕКТРОДВИГАТЕЛЬ ДСПУ-140-84-4 ЭКСГ.d.csv\n",
      "/kaggle/input/y-train-northsteel-short/y_short_ДВИГАТЕЛЬ ПУСКОВОГО МАСЛОНАСОСА ЭКСГ.d.csv\n",
      "/kaggle/input/y-train-northsteel-short/y_short_САПФИР 22 МДД РАЗРЕЖЕНИЕ В КОЛЛЕКТОРЕ.csv\n",
      "/kaggle/input/y-train-northsteel-short/y_short_САПФИР 22 МДД ПЕРЕПАД ДАВЛ. НА ЦИКЛОНЕ.csv\n",
      "/kaggle/input/y-train-northsteel-short/y_short_МАСЛОНАСОС ШЕСТЕРЕНЧАТЫЙ (ПУСК.) ЭКСГ.d.csv\n",
      "/kaggle/input/y-train-northsteel-short/y_short_ТР-Р ТМ-6300-106 ЭКСГ.d.csv\n",
      "/kaggle/input/y-train-northsteel-short/y_short_ТСМТ-101-010-50М-400 ТЕРМОПР.ПОДШ.csv\n",
      "/kaggle/input/y-train-northsteel-short/y_short_ЭКСГАУСТЕР №d.csv\n",
      "/kaggle/input/y-train-northsteel-short/y_short_МАСЛОСТАНЦИЯ ЖИДКОЙ СМАЗКИ ЭКСГ.d.csv\n",
      "/kaggle/input/y-train-northsteel-short/y_short_ЭЛЕКТРООБОРУДОВАНИЯ ЭКСГАУСТЕРА №d.csv\n",
      "/kaggle/input/y-train-northsteel-short/dict_short.csv\n",
      "/kaggle/input/y-train-northsteel-short/y_short_ГСМ ЭКСГ.d.csv\n",
      "/kaggle/input/y-train-northsteel-short/y_short_ТИРИСТОРНЫЙ ВОЗБУДИТЕЛЬ СПВД-М10-400-5.csv\n",
      "/kaggle/input/y-train-northsteel-short/y_short_МАСЛОПРОВОДЫ ЭКСГАУСТЕРА №d.csv\n",
      "/kaggle/input/y-train-northsteel-short/y_short_РОТОР ЭКСГ.d.csv\n",
      "/kaggle/input/x-test-northsteel/ВИБРАЦИЯ НА ОПОРЕ 4. ПРОДОЛЬНАЯ.csv\n",
      "/kaggle/input/x-test-northsteel/ВИБРАЦИЯ НА ОПОРЕ 4.csv\n",
      "/kaggle/input/x-test-northsteel/ЭКСГАУСТЕР 9.csv\n",
      "/kaggle/input/x-test-northsteel/ЭКСГАУСТЕР 4.csv\n",
      "/kaggle/input/x-test-northsteel/ЭКСГАУСТЕР 7.csv\n",
      "/kaggle/input/x-test-northsteel/ВИБРАЦИЯ НА ОПОРЕ 3.csv\n",
      "/kaggle/input/x-test-northsteel/ВИБРАЦИЯ НА ОПОРЕ 2.csv\n",
      "/kaggle/input/x-test-northsteel/ТОК СТАТОРА.csv\n",
      "/kaggle/input/x-test-northsteel/ДАВЛЕНИЕ МАСЛА В СИСТЕМЕ.csv\n",
      "/kaggle/input/x-test-northsteel/ВИБРАЦИЯ НА ОПОРЕ 1.csv\n",
      "/kaggle/input/x-test-northsteel/ТЕМПЕРАТУРА ПОДШИПНИКА НА ОПОРЕ 3.csv\n",
      "/kaggle/input/x-test-northsteel/ТЕМПЕРАТУРА ПОДШИПНИКА НА ОПОРЕ 1.csv\n",
      "/kaggle/input/x-test-northsteel/ЭКСГАУСТЕР 6.csv\n",
      "/kaggle/input/x-test-northsteel/ТОК РОТОРА 2.csv\n",
      "/kaggle/input/x-test-northsteel/ТЕМПЕРАТУРА ПОДШИПНИКА НА ОПОРЕ 2.csv\n",
      "/kaggle/input/x-test-northsteel/ТЕМПЕРАТУРА ПОДШИПНИКА НА ОПОРЕ 4.csv\n",
      "/kaggle/input/x-test-northsteel/ЭКСГАУСТЕР 5.csv\n",
      "/kaggle/input/x-test-northsteel/ТОК РОТОРА 1.csv\n",
      "/kaggle/input/x-test-northsteel/ЭКСГАУСТЕР 8.csv\n",
      "/kaggle/input/x-test-northsteel/ВИБРАЦИЯ НА ОПОРЕ 3. ПРОДОЛЬНАЯ.csv\n",
      "/kaggle/input/x-test-northsteel/ТЕМПЕРАТУРА МАСЛА В МАСЛОБЛОКЕ.csv\n",
      "/kaggle/input/x-test-northsteel/ТЕМПЕРАТУРА МАСЛА В СИСТЕМЕ.csv\n",
      "/kaggle/input/x-train-northsteel/ВИБРАЦИЯ НА ОПОРЕ 4. ПРОДОЛЬНАЯ.csv\n",
      "/kaggle/input/x-train-northsteel/ВИБРАЦИЯ НА ОПОРЕ 4.csv\n",
      "/kaggle/input/x-train-northsteel/ЭКСГАУСТЕР 9.csv\n",
      "/kaggle/input/x-train-northsteel/ЭКСГАУСТЕР 4.csv\n",
      "/kaggle/input/x-train-northsteel/ЭКСГАУСТЕР 7.csv\n",
      "/kaggle/input/x-train-northsteel/ВИБРАЦИЯ НА ОПОРЕ 3.csv\n",
      "/kaggle/input/x-train-northsteel/ВИБРАЦИЯ НА ОПОРЕ 2.csv\n",
      "/kaggle/input/x-train-northsteel/ТОК СТАТОРА.csv\n",
      "/kaggle/input/x-train-northsteel/ДАВЛЕНИЕ МАСЛА В СИСТЕМЕ.csv\n",
      "/kaggle/input/x-train-northsteel/ВИБРАЦИЯ НА ОПОРЕ 1.csv\n",
      "/kaggle/input/x-train-northsteel/ТЕМПЕРАТУРА ПОДШИПНИКА НА ОПОРЕ 3.csv\n",
      "/kaggle/input/x-train-northsteel/ТЕМПЕРАТУРА ПОДШИПНИКА НА ОПОРЕ 1.csv\n",
      "/kaggle/input/x-train-northsteel/ЭКСГАУСТЕР 6.csv\n",
      "/kaggle/input/x-train-northsteel/ТОК РОТОРА 2.csv\n",
      "/kaggle/input/x-train-northsteel/ТЕМПЕРАТУРА ПОДШИПНИКА НА ОПОРЕ 2.csv\n",
      "/kaggle/input/x-train-northsteel/ТЕМПЕРАТУРА ПОДШИПНИКА НА ОПОРЕ 4.csv\n",
      "/kaggle/input/x-train-northsteel/ЭКСГАУСТЕР 5.csv\n",
      "/kaggle/input/x-train-northsteel/ТОК РОТОРА 1.csv\n",
      "/kaggle/input/x-train-northsteel/ЭКСГАУСТЕР 8.csv\n",
      "/kaggle/input/x-train-northsteel/ВИБРАЦИЯ НА ОПОРЕ 3. ПРОДОЛЬНАЯ.csv\n",
      "/kaggle/input/x-train-northsteel/ТЕМПЕРАТУРА МАСЛА В МАСЛОБЛОКЕ.csv\n",
      "/kaggle/input/x-train-northsteel/ТЕМПЕРАТУРА МАСЛА В СИСТЕМЕ.csv\n",
      "/kaggle/input/y-train-northsteel-instances/y_ЭКСГАУСТЕР АМ 6.csv\n",
      "/kaggle/input/y-train-northsteel-instances/y_ЭКСГАУСТЕР АМ 7.csv\n",
      "/kaggle/input/y-train-northsteel-instances/y_ЭКСГАУСТЕР АМ 5.csv\n",
      "/kaggle/input/y-train-northsteel-instances/y_ЭКСГАУСТЕР АМ 8.csv\n",
      "/kaggle/input/y-train-northsteel-instances/y_ЭКСГАУСТЕР АМ 4.csv\n",
      "/kaggle/input/y-train-northsteel-instances/dict_short.csv\n",
      "/kaggle/input/y-train-northsteel-instances/y_ЭКСГАУСТЕР АМ 9.csv\n",
      "/kaggle/input/y-train-northsteel/y_long_МАСЛООХЛАДИТЕЛЬ  М-05-1 ЭКСГ.d.csv\n",
      "/kaggle/input/y-train-northsteel/y_long_КЛ2 ТР№8 ДО ЭД ЭКСГАУСТЕРА №d.csv\n",
      "/kaggle/input/y-train-northsteel/y_long_САПФИР 22 МДД РАЗРЕЖЕНИЕ В КОЛЛЕКТОРЕ.csv\n",
      "/kaggle/input/y-train-northsteel/y_long_ВК 310С ВИБРОПРЕОБРАЗОВАТЕЛЬ ЭКСГ.d Т.2.csv\n",
      "/kaggle/input/y-train-northsteel/y_long_ЗАП. И РЕГ. АРМАТУРА ЭКСГ.d.csv\n",
      "/kaggle/input/y-train-northsteel/y_long_ЭКСГАУСТЕР Н-8000 АМ №5.csv\n",
      "/kaggle/input/y-train-northsteel/y_long_ЭЛЕКТРОДВИГАТЕЛЬ ДСПУ-140-84-4 ЭКСГ.d.csv\n",
      "/kaggle/input/y-train-northsteel/y_long_РЕДУКТОР ГАЗ. ЗАДВИЖКИ ЭКСГ.d.csv\n",
      "/kaggle/input/y-train-northsteel/y_long_КЛ1 ТР№4 ДО ЭД ЭКСГАУСТЕРА №d.csv\n",
      "/kaggle/input/y-train-northsteel/y_long_ТСМТ-101-010-50М-200 ТЕРМОПР.ПОДШ.Т.3.csv\n",
      "/kaggle/input/y-train-northsteel/y_long_ЭЛЕКТРООБОРУДОВАНИЯ ЭКСГАУСТЕРА №d.csv\n",
      "/kaggle/input/y-train-northsteel/y_long_МАСЛЯНЫЙ ФИЛЬТР ЭКСГАУСТЕРА №d.csv\n",
      "/kaggle/input/y-train-northsteel/y_long_УЛИТА ЭКСГ.d.csv\n",
      "/kaggle/input/y-train-northsteel/y_long_РЕГУЛИРУЮЩАЯ АППАРАТУРА ЭКСГАУСТЕРА №d.csv\n",
      "/kaggle/input/y-train-northsteel/y_long_ПОДШИПНИК ОПОРНЫЙ ЭКСГ.d.csv\n",
      "/kaggle/input/y-train-northsteel/y_long_ТСМТ-101-010-50М-200 ТЕРМОПР.ПОДШ.Т.4.csv\n",
      "/kaggle/input/y-train-northsteel/y_long_КЛ1 ТР№6 ДО ЭД ЭКСГАУСТЕРА №d.csv\n",
      "/kaggle/input/y-train-northsteel/y_long_ГАЗОВАЯ ЗАДВИЖКА ЭКСГ.d.csv\n",
      "/kaggle/input/y-train-northsteel/y_long_ГСМ ЭКСГ.d.csv\n",
      "/kaggle/input/y-train-northsteel/y_long_ВК 310С ВИБРОПРЕОБРАЗОВАТЕЛЬ ЭКСГ.d Т.3.csv\n",
      "/kaggle/input/y-train-northsteel/y_long_ТСМТ-101-010-50М-80 ТЕРМОПРЕОБР.МАСЛО.csv\n",
      "/kaggle/input/y-train-northsteel/y_long_КЛ2 ТР№6 ДО ЭД ЭКСГАУСТЕРА №d.csv\n",
      "/kaggle/input/y-train-northsteel/y_long_ТИРИСТОРНЫЙ ВОЗБУДИТЕЛЬ ТВ-400 ЭКСГ.d ВУ1.csv\n",
      "/kaggle/input/y-train-northsteel/y_long_КЛ1 ТР№5 ДО ЭД ЭКСГАУСТЕРА №d.csv\n",
      "/kaggle/input/y-train-northsteel/y_long_ДВИГАТЕЛЬ РЕЗЕРВНОГО МАСЛОНАСОСА ЭКСГ.d.csv\n",
      "/kaggle/input/y-train-northsteel/y_long_КЛ1 ТР№8 ДО ЭД ЭКСГАУСТЕРА №d.csv\n",
      "/kaggle/input/y-train-northsteel/y_long_МЕТРАН-100 ДАТЧИКИ ДАВЛЕНИЯ ЭКСГ.d.csv\n",
      "/kaggle/input/y-train-northsteel/y_long_ЗАДВИЖКА ЭКСГ.d.csv\n",
      "/kaggle/input/y-train-northsteel/y_long_КЛ2 ТР№5 ДО ЭД ЭКСГАУСТЕРА №d.csv\n",
      "/kaggle/input/y-train-northsteel/y_long_САПФИР 22 МДД ПЕРЕПАД ДАВЛ. НА ЦИКЛОНЕ.csv\n",
      "/kaggle/input/y-train-northsteel/y_long_ПОДШИПНИК ОПОРНЫЙ №2 ЭКСГ.d.csv\n",
      "/kaggle/input/y-train-northsteel/y_long_МАСЛОНАСОС ШЕСТЕРЕНЧАТЫЙ (РЕЗ.) ЭКСГ.d.csv\n",
      "/kaggle/input/y-train-northsteel/y_long_ПОДШИПНИК ОПОРНО-УПОРНЫЙ ЭКСГ.d.csv\n",
      "/kaggle/input/y-train-northsteel/y_long_ЗАПОРНАЯ АРМАТУРА ЭКСГАУСТЕРА №d.csv\n",
      "/kaggle/input/y-train-northsteel/y_long_КОРПУС ЭКСГ.d.csv\n",
      "/kaggle/input/y-train-northsteel/y_long_ВК 310С ВИБРОПРЕОБРАЗОВАТЕЛЬ ЭКСГ.d Т.4.csv\n",
      "/kaggle/input/y-train-northsteel/y_long_ТИРИСТОРНЫЙ ВОЗБУДИТЕЛЬ СПВД-М10-400-5.csv\n",
      "/kaggle/input/y-train-northsteel/y_long_КЛ1 ТР№9 ДО ЭД ЭКСГАУСТЕРА №d.csv\n",
      "/kaggle/input/y-train-northsteel/y_long_ЭЛДВИГАТЕЛЬ ГАЗ. ЗАДВИЖКИ ЭКСГ.d.csv\n",
      "/kaggle/input/y-train-northsteel/y_long_ДВИГАТЕЛЬ ПУСКОВОГО МАСЛОНАСОСА ЭКСГ.d.csv\n",
      "/kaggle/input/y-train-northsteel/y_long_ТИРИСТ. ВОЗБУДИТЕЛЬ ВТ-РЭМ-400 ЭКСГ.d ВУ1.csv\n",
      "/kaggle/input/y-train-northsteel/y_long_ЭКСГАУСТЕР №d.csv\n",
      "/kaggle/input/y-train-northsteel/y_long_ТР-Р ТМ-4000-106 ЭКСГ.d.csv\n",
      "/kaggle/input/y-train-northsteel/y_long_МАСЛОНАСОС РАБОЧИЙ ЭКСГ.d.csv\n",
      "/kaggle/input/y-train-northsteel/y_long_КЛ1 ТР№7 ДО ЭД ЭКСГАУСТЕРА №d.csv\n",
      "/kaggle/input/y-train-northsteel/y_long_МАСЛОБАК ЭКСГ.d.csv\n",
      "/kaggle/input/y-train-northsteel/y_long_ТИРИСТ. ВОЗБУДИТЕЛЬ ВТ-РЭМ-400 ЭКСГ.d ВУ2.csv\n",
      "/kaggle/input/y-train-northsteel/y_long_ТР-Р ТМ-6300-106 ЭКСГ.d.csv\n",
      "/kaggle/input/y-train-northsteel/y_long_МАСЛОСТАНЦИЯ ЖИДКОЙ СМАЗКИ ЭКСГ.d.csv\n",
      "/kaggle/input/y-train-northsteel/y_long_КОЖУХ МУФТЫ ЭКСГ.d.csv\n",
      "/kaggle/input/y-train-northsteel/y_long_ПОДШИПНИК ОПОРНЫЙ №1 ЭКСГ.d.csv\n",
      "/kaggle/input/y-train-northsteel/y_long_РОТОР ЭКСГ.d.csv\n",
      "/kaggle/input/y-train-northsteel/dict_long.csv\n",
      "/kaggle/input/y-train-northsteel/y_long_ТСМТ-101-010-50М-400 ТЕРМОПР.ПОДШ.Т.1.csv\n",
      "/kaggle/input/y-train-northsteel/y_long_МАСЛОПРОВОДЫ ЭКСГАУСТЕРА №d.csv\n",
      "/kaggle/input/y-train-northsteel/y_long_МАСЛОНАСОС ШЕСТЕРЕНЧАТЫЙ (ПУСК.) ЭКСГ.d.csv\n",
      "/kaggle/input/y-train-northsteel/y_long_КЛ2 ТР№4 ДО ЭД ЭКСГАУСТЕРА №d.csv\n",
      "/kaggle/input/y-train-northsteel/y_long_ВК 310С ВИБРОПРЕОБРАЗОВАТЕЛЬ ЭКСГ.d Т.1.csv\n",
      "/kaggle/input/y-train-northsteel/y_long_ТСМТ-101-010-50М-400 ТЕРМОПР.ПОДШ.Т.2.csv\n"
     ]
    }
   ],
   "source": [
    "# This Python 3 environment comes with many helpful analytics libraries installed\n",
    "# It is defined by the kaggle/python Docker image: https://github.com/kaggle/docker-python\n",
    "# For example, here's several helpful packages to load\n",
    "\n",
    "import numpy as np # linear algebra\n",
    "import pandas as pd # data processing, CSV file I/O (e.g. pd.read_csv)\n",
    "\n",
    "# Input data files are available in the read-only \"../input/\" directory\n",
    "# For example, running this (by clicking run or pressing Shift+Enter) will list all files under the input directory\n",
    "\n",
    "import os\n",
    "for dirname, _, filenames in os.walk('/kaggle/input'):\n",
    "    for filename in filenames:\n",
    "        print(os.path.join(dirname, filename))\n",
    "\n",
    "# You can write up to 20GB to the current directory (/kaggle/working/) that gets preserved as output when you create a version using \"Save & Run All\" \n",
    "# You can also write temporary files to /kaggle/temp/, but they won't be saved outside of the current session"
   ]
  },
  {
   "cell_type": "code",
   "execution_count": 2,
   "id": "62b953a1",
   "metadata": {
    "execution": {
     "iopub.execute_input": "2023-05-28T20:09:29.449879Z",
     "iopub.status.busy": "2023-05-28T20:09:29.449144Z",
     "iopub.status.idle": "2023-05-28T20:09:59.563895Z",
     "shell.execute_reply": "2023-05-28T20:09:59.562593Z"
    },
    "papermill": {
     "duration": 30.124394,
     "end_time": "2023-05-28T20:09:59.566720",
     "exception": false,
     "start_time": "2023-05-28T20:09:29.442326",
     "status": "completed"
    },
    "tags": []
   },
   "outputs": [],
   "source": [
    "X_train = pd.read_csv(\"/kaggle/input/x-train-northsteel/ЭКСГАУСТЕР 4.csv\",parse_dates=True)\n"
   ]
  },
  {
   "cell_type": "code",
   "execution_count": 3,
   "id": "91268d86",
   "metadata": {
    "execution": {
     "iopub.execute_input": "2023-05-28T20:09:59.579762Z",
     "iopub.status.busy": "2023-05-28T20:09:59.579348Z",
     "iopub.status.idle": "2023-05-28T20:10:42.457820Z",
     "shell.execute_reply": "2023-05-28T20:10:42.456711Z"
    },
    "papermill": {
     "duration": 42.894417,
     "end_time": "2023-05-28T20:10:42.466638",
     "exception": false,
     "start_time": "2023-05-28T20:09:59.572221",
     "status": "completed"
    },
    "tags": []
   },
   "outputs": [
    {
     "data": {
      "text/html": [
       "<div>\n",
       "<style scoped>\n",
       "    .dataframe tbody tr th:only-of-type {\n",
       "        vertical-align: middle;\n",
       "    }\n",
       "\n",
       "    .dataframe tbody tr th {\n",
       "        vertical-align: top;\n",
       "    }\n",
       "\n",
       "    .dataframe thead th {\n",
       "        text-align: right;\n",
       "    }\n",
       "</style>\n",
       "<table border=\"1\" class=\"dataframe\">\n",
       "  <thead>\n",
       "    <tr style=\"text-align: right;\">\n",
       "      <th></th>\n",
       "      <th>ТОК РОТОРА 1</th>\n",
       "      <th>ТОК РОТОРА 2</th>\n",
       "      <th>ТОК СТАТОРА</th>\n",
       "      <th>ВИБРАЦИЯ НА ОПОРЕ 1</th>\n",
       "      <th>ВИБРАЦИЯ НА ОПОРЕ 2</th>\n",
       "      <th>ВИБРАЦИЯ НА ОПОРЕ 3</th>\n",
       "      <th>ВИБРАЦИЯ НА ОПОРЕ 3. ПРОДОЛЬНАЯ</th>\n",
       "      <th>ВИБРАЦИЯ НА ОПОРЕ 4</th>\n",
       "      <th>ВИБРАЦИЯ НА ОПОРЕ 4. ПРОДОЛЬНАЯ</th>\n",
       "      <th>ТЕМПЕРАТУРА ПОДШИПНИКА НА ОПОРЕ 1</th>\n",
       "      <th>ТЕМПЕРАТУРА ПОДШИПНИКА НА ОПОРЕ 2</th>\n",
       "      <th>ТЕМПЕРАТУРА ПОДШИПНИКА НА ОПОРЕ 3</th>\n",
       "      <th>ТЕМПЕРАТУРА ПОДШИПНИКА НА ОПОРЕ 4</th>\n",
       "      <th>ТЕМПЕРАТУРА МАСЛА В МАСЛОБЛОКЕ</th>\n",
       "      <th>ТЕМПЕРАТУРА МАСЛА В СИСТЕМЕ</th>\n",
       "      <th>ДАВЛЕНИЕ МАСЛА В СИСТЕМЕ</th>\n",
       "    </tr>\n",
       "    <tr>\n",
       "      <th>DT</th>\n",
       "      <th></th>\n",
       "      <th></th>\n",
       "      <th></th>\n",
       "      <th></th>\n",
       "      <th></th>\n",
       "      <th></th>\n",
       "      <th></th>\n",
       "      <th></th>\n",
       "      <th></th>\n",
       "      <th></th>\n",
       "      <th></th>\n",
       "      <th></th>\n",
       "      <th></th>\n",
       "      <th></th>\n",
       "      <th></th>\n",
       "      <th></th>\n",
       "    </tr>\n",
       "  </thead>\n",
       "  <tbody>\n",
       "    <tr>\n",
       "      <th>2019-01-16 13:21:00</th>\n",
       "      <td>363.676667</td>\n",
       "      <td>363.676667</td>\n",
       "      <td>244.078000</td>\n",
       "      <td>1.600000</td>\n",
       "      <td>0.760000</td>\n",
       "      <td>0.670000</td>\n",
       "      <td>1.630000</td>\n",
       "      <td>3.450000</td>\n",
       "      <td>0.740000</td>\n",
       "      <td>41.370000</td>\n",
       "      <td>39.750000</td>\n",
       "      <td>39.750000</td>\n",
       "      <td>44.538548</td>\n",
       "      <td>40.560000</td>\n",
       "      <td>33.260000</td>\n",
       "      <td>119.385000</td>\n",
       "    </tr>\n",
       "    <tr>\n",
       "      <th>2019-01-16 13:21:10</th>\n",
       "      <td>363.103333</td>\n",
       "      <td>363.103333</td>\n",
       "      <td>243.032500</td>\n",
       "      <td>1.572917</td>\n",
       "      <td>0.751736</td>\n",
       "      <td>0.642361</td>\n",
       "      <td>1.558160</td>\n",
       "      <td>3.470000</td>\n",
       "      <td>0.734375</td>\n",
       "      <td>41.374596</td>\n",
       "      <td>39.752083</td>\n",
       "      <td>39.995457</td>\n",
       "      <td>44.863054</td>\n",
       "      <td>40.401081</td>\n",
       "      <td>33.343074</td>\n",
       "      <td>119.444440</td>\n",
       "    </tr>\n",
       "    <tr>\n",
       "      <th>2019-01-16 13:21:20</th>\n",
       "      <td>363.266667</td>\n",
       "      <td>363.266667</td>\n",
       "      <td>242.940000</td>\n",
       "      <td>1.553819</td>\n",
       "      <td>0.735918</td>\n",
       "      <td>0.638503</td>\n",
       "      <td>1.581790</td>\n",
       "      <td>2.900000</td>\n",
       "      <td>0.748457</td>\n",
       "      <td>41.374596</td>\n",
       "      <td>39.752083</td>\n",
       "      <td>39.932360</td>\n",
       "      <td>44.799956</td>\n",
       "      <td>40.383053</td>\n",
       "      <td>33.261948</td>\n",
       "      <td>119.330000</td>\n",
       "    </tr>\n",
       "    <tr>\n",
       "      <th>2019-01-16 13:21:30</th>\n",
       "      <td>363.414372</td>\n",
       "      <td>363.414372</td>\n",
       "      <td>243.836802</td>\n",
       "      <td>1.546007</td>\n",
       "      <td>0.736979</td>\n",
       "      <td>0.653646</td>\n",
       "      <td>1.657986</td>\n",
       "      <td>3.297743</td>\n",
       "      <td>0.730903</td>\n",
       "      <td>41.374596</td>\n",
       "      <td>39.752083</td>\n",
       "      <td>39.833208</td>\n",
       "      <td>44.781928</td>\n",
       "      <td>40.563330</td>\n",
       "      <td>33.586453</td>\n",
       "      <td>119.398146</td>\n",
       "    </tr>\n",
       "    <tr>\n",
       "      <th>2019-01-16 13:21:40</th>\n",
       "      <td>363.103333</td>\n",
       "      <td>363.103333</td>\n",
       "      <td>242.050000</td>\n",
       "      <td>1.545139</td>\n",
       "      <td>0.742188</td>\n",
       "      <td>0.677083</td>\n",
       "      <td>1.740000</td>\n",
       "      <td>2.990000</td>\n",
       "      <td>0.739583</td>\n",
       "      <td>41.536849</td>\n",
       "      <td>39.752083</td>\n",
       "      <td>39.752083</td>\n",
       "      <td>43.810000</td>\n",
       "      <td>39.750000</td>\n",
       "      <td>33.505327</td>\n",
       "      <td>119.326667</td>\n",
       "    </tr>\n",
       "    <tr>\n",
       "      <th>...</th>\n",
       "      <td>...</td>\n",
       "      <td>...</td>\n",
       "      <td>...</td>\n",
       "      <td>...</td>\n",
       "      <td>...</td>\n",
       "      <td>...</td>\n",
       "      <td>...</td>\n",
       "      <td>...</td>\n",
       "      <td>...</td>\n",
       "      <td>...</td>\n",
       "      <td>...</td>\n",
       "      <td>...</td>\n",
       "      <td>...</td>\n",
       "      <td>...</td>\n",
       "      <td>...</td>\n",
       "      <td>...</td>\n",
       "    </tr>\n",
       "    <tr>\n",
       "      <th>2021-04-29 20:17:50</th>\n",
       "      <td>227.802000</td>\n",
       "      <td>227.802000</td>\n",
       "      <td>256.457000</td>\n",
       "      <td>0.691667</td>\n",
       "      <td>0.422857</td>\n",
       "      <td>0.824444</td>\n",
       "      <td>1.900000</td>\n",
       "      <td>0.802222</td>\n",
       "      <td>0.810000</td>\n",
       "      <td>38.670000</td>\n",
       "      <td>36.915000</td>\n",
       "      <td>29.615000</td>\n",
       "      <td>32.045000</td>\n",
       "      <td>32.045000</td>\n",
       "      <td>28.800000</td>\n",
       "      <td>143.218000</td>\n",
       "    </tr>\n",
       "    <tr>\n",
       "      <th>2021-06-18 01:21:30</th>\n",
       "      <td>243.908000</td>\n",
       "      <td>243.908000</td>\n",
       "      <td>262.240000</td>\n",
       "      <td>1.410000</td>\n",
       "      <td>1.122000</td>\n",
       "      <td>2.508000</td>\n",
       "      <td>6.800000</td>\n",
       "      <td>1.262000</td>\n",
       "      <td>2.678000</td>\n",
       "      <td>44.080000</td>\n",
       "      <td>47.455000</td>\n",
       "      <td>40.560000</td>\n",
       "      <td>41.780000</td>\n",
       "      <td>43.000000</td>\n",
       "      <td>40.290000</td>\n",
       "      <td>119.744000</td>\n",
       "    </tr>\n",
       "    <tr>\n",
       "      <th>2021-06-21 19:43:00</th>\n",
       "      <td>243.866667</td>\n",
       "      <td>243.866667</td>\n",
       "      <td>248.206667</td>\n",
       "      <td>0.983333</td>\n",
       "      <td>0.910000</td>\n",
       "      <td>2.290000</td>\n",
       "      <td>5.083333</td>\n",
       "      <td>1.353333</td>\n",
       "      <td>2.223333</td>\n",
       "      <td>46.645000</td>\n",
       "      <td>49.085000</td>\n",
       "      <td>45.970000</td>\n",
       "      <td>45.700000</td>\n",
       "      <td>47.455000</td>\n",
       "      <td>48.270000</td>\n",
       "      <td>113.846667</td>\n",
       "    </tr>\n",
       "    <tr>\n",
       "      <th>2021-07-01 23:41:10</th>\n",
       "      <td>244.760000</td>\n",
       "      <td>244.760000</td>\n",
       "      <td>266.060000</td>\n",
       "      <td>0.816000</td>\n",
       "      <td>0.426667</td>\n",
       "      <td>0.149000</td>\n",
       "      <td>0.640000</td>\n",
       "      <td>1.203000</td>\n",
       "      <td>0.270000</td>\n",
       "      <td>49.895000</td>\n",
       "      <td>49.760000</td>\n",
       "      <td>37.680000</td>\n",
       "      <td>41.167500</td>\n",
       "      <td>39.345000</td>\n",
       "      <td>36.186000</td>\n",
       "      <td>152.590000</td>\n",
       "    </tr>\n",
       "    <tr>\n",
       "      <th>2021-09-17 14:14:30</th>\n",
       "      <td>247.005000</td>\n",
       "      <td>247.005000</td>\n",
       "      <td>274.508333</td>\n",
       "      <td>0.346667</td>\n",
       "      <td>1.013333</td>\n",
       "      <td>1.536667</td>\n",
       "      <td>3.618333</td>\n",
       "      <td>2.110000</td>\n",
       "      <td>1.923333</td>\n",
       "      <td>49.760000</td>\n",
       "      <td>44.620000</td>\n",
       "      <td>39.480000</td>\n",
       "      <td>40.290000</td>\n",
       "      <td>39.345000</td>\n",
       "      <td>33.260000</td>\n",
       "      <td>164.408333</td>\n",
       "    </tr>\n",
       "  </tbody>\n",
       "</table>\n",
       "<p>4755649 rows × 16 columns</p>\n",
       "</div>"
      ],
      "text/plain": [
       "                     ТОК РОТОРА 1  ТОК РОТОРА 2  ТОК СТАТОРА  \\\n",
       "DT                                                             \n",
       "2019-01-16 13:21:00    363.676667    363.676667   244.078000   \n",
       "2019-01-16 13:21:10    363.103333    363.103333   243.032500   \n",
       "2019-01-16 13:21:20    363.266667    363.266667   242.940000   \n",
       "2019-01-16 13:21:30    363.414372    363.414372   243.836802   \n",
       "2019-01-16 13:21:40    363.103333    363.103333   242.050000   \n",
       "...                           ...           ...          ...   \n",
       "2021-04-29 20:17:50    227.802000    227.802000   256.457000   \n",
       "2021-06-18 01:21:30    243.908000    243.908000   262.240000   \n",
       "2021-06-21 19:43:00    243.866667    243.866667   248.206667   \n",
       "2021-07-01 23:41:10    244.760000    244.760000   266.060000   \n",
       "2021-09-17 14:14:30    247.005000    247.005000   274.508333   \n",
       "\n",
       "                     ВИБРАЦИЯ НА ОПОРЕ 1  ВИБРАЦИЯ НА ОПОРЕ 2  \\\n",
       "DT                                                              \n",
       "2019-01-16 13:21:00             1.600000             0.760000   \n",
       "2019-01-16 13:21:10             1.572917             0.751736   \n",
       "2019-01-16 13:21:20             1.553819             0.735918   \n",
       "2019-01-16 13:21:30             1.546007             0.736979   \n",
       "2019-01-16 13:21:40             1.545139             0.742188   \n",
       "...                                  ...                  ...   \n",
       "2021-04-29 20:17:50             0.691667             0.422857   \n",
       "2021-06-18 01:21:30             1.410000             1.122000   \n",
       "2021-06-21 19:43:00             0.983333             0.910000   \n",
       "2021-07-01 23:41:10             0.816000             0.426667   \n",
       "2021-09-17 14:14:30             0.346667             1.013333   \n",
       "\n",
       "                     ВИБРАЦИЯ НА ОПОРЕ 3  ВИБРАЦИЯ НА ОПОРЕ 3. ПРОДОЛЬНАЯ  \\\n",
       "DT                                                                          \n",
       "2019-01-16 13:21:00             0.670000                         1.630000   \n",
       "2019-01-16 13:21:10             0.642361                         1.558160   \n",
       "2019-01-16 13:21:20             0.638503                         1.581790   \n",
       "2019-01-16 13:21:30             0.653646                         1.657986   \n",
       "2019-01-16 13:21:40             0.677083                         1.740000   \n",
       "...                                  ...                              ...   \n",
       "2021-04-29 20:17:50             0.824444                         1.900000   \n",
       "2021-06-18 01:21:30             2.508000                         6.800000   \n",
       "2021-06-21 19:43:00             2.290000                         5.083333   \n",
       "2021-07-01 23:41:10             0.149000                         0.640000   \n",
       "2021-09-17 14:14:30             1.536667                         3.618333   \n",
       "\n",
       "                     ВИБРАЦИЯ НА ОПОРЕ 4  ВИБРАЦИЯ НА ОПОРЕ 4. ПРОДОЛЬНАЯ  \\\n",
       "DT                                                                          \n",
       "2019-01-16 13:21:00             3.450000                         0.740000   \n",
       "2019-01-16 13:21:10             3.470000                         0.734375   \n",
       "2019-01-16 13:21:20             2.900000                         0.748457   \n",
       "2019-01-16 13:21:30             3.297743                         0.730903   \n",
       "2019-01-16 13:21:40             2.990000                         0.739583   \n",
       "...                                  ...                              ...   \n",
       "2021-04-29 20:17:50             0.802222                         0.810000   \n",
       "2021-06-18 01:21:30             1.262000                         2.678000   \n",
       "2021-06-21 19:43:00             1.353333                         2.223333   \n",
       "2021-07-01 23:41:10             1.203000                         0.270000   \n",
       "2021-09-17 14:14:30             2.110000                         1.923333   \n",
       "\n",
       "                     ТЕМПЕРАТУРА ПОДШИПНИКА НА ОПОРЕ 1  \\\n",
       "DT                                                       \n",
       "2019-01-16 13:21:00                          41.370000   \n",
       "2019-01-16 13:21:10                          41.374596   \n",
       "2019-01-16 13:21:20                          41.374596   \n",
       "2019-01-16 13:21:30                          41.374596   \n",
       "2019-01-16 13:21:40                          41.536849   \n",
       "...                                                ...   \n",
       "2021-04-29 20:17:50                          38.670000   \n",
       "2021-06-18 01:21:30                          44.080000   \n",
       "2021-06-21 19:43:00                          46.645000   \n",
       "2021-07-01 23:41:10                          49.895000   \n",
       "2021-09-17 14:14:30                          49.760000   \n",
       "\n",
       "                     ТЕМПЕРАТУРА ПОДШИПНИКА НА ОПОРЕ 2  \\\n",
       "DT                                                       \n",
       "2019-01-16 13:21:00                          39.750000   \n",
       "2019-01-16 13:21:10                          39.752083   \n",
       "2019-01-16 13:21:20                          39.752083   \n",
       "2019-01-16 13:21:30                          39.752083   \n",
       "2019-01-16 13:21:40                          39.752083   \n",
       "...                                                ...   \n",
       "2021-04-29 20:17:50                          36.915000   \n",
       "2021-06-18 01:21:30                          47.455000   \n",
       "2021-06-21 19:43:00                          49.085000   \n",
       "2021-07-01 23:41:10                          49.760000   \n",
       "2021-09-17 14:14:30                          44.620000   \n",
       "\n",
       "                     ТЕМПЕРАТУРА ПОДШИПНИКА НА ОПОРЕ 3  \\\n",
       "DT                                                       \n",
       "2019-01-16 13:21:00                          39.750000   \n",
       "2019-01-16 13:21:10                          39.995457   \n",
       "2019-01-16 13:21:20                          39.932360   \n",
       "2019-01-16 13:21:30                          39.833208   \n",
       "2019-01-16 13:21:40                          39.752083   \n",
       "...                                                ...   \n",
       "2021-04-29 20:17:50                          29.615000   \n",
       "2021-06-18 01:21:30                          40.560000   \n",
       "2021-06-21 19:43:00                          45.970000   \n",
       "2021-07-01 23:41:10                          37.680000   \n",
       "2021-09-17 14:14:30                          39.480000   \n",
       "\n",
       "                     ТЕМПЕРАТУРА ПОДШИПНИКА НА ОПОРЕ 4  \\\n",
       "DT                                                       \n",
       "2019-01-16 13:21:00                          44.538548   \n",
       "2019-01-16 13:21:10                          44.863054   \n",
       "2019-01-16 13:21:20                          44.799956   \n",
       "2019-01-16 13:21:30                          44.781928   \n",
       "2019-01-16 13:21:40                          43.810000   \n",
       "...                                                ...   \n",
       "2021-04-29 20:17:50                          32.045000   \n",
       "2021-06-18 01:21:30                          41.780000   \n",
       "2021-06-21 19:43:00                          45.700000   \n",
       "2021-07-01 23:41:10                          41.167500   \n",
       "2021-09-17 14:14:30                          40.290000   \n",
       "\n",
       "                     ТЕМПЕРАТУРА МАСЛА В МАСЛОБЛОКЕ  \\\n",
       "DT                                                    \n",
       "2019-01-16 13:21:00                       40.560000   \n",
       "2019-01-16 13:21:10                       40.401081   \n",
       "2019-01-16 13:21:20                       40.383053   \n",
       "2019-01-16 13:21:30                       40.563330   \n",
       "2019-01-16 13:21:40                       39.750000   \n",
       "...                                             ...   \n",
       "2021-04-29 20:17:50                       32.045000   \n",
       "2021-06-18 01:21:30                       43.000000   \n",
       "2021-06-21 19:43:00                       47.455000   \n",
       "2021-07-01 23:41:10                       39.345000   \n",
       "2021-09-17 14:14:30                       39.345000   \n",
       "\n",
       "                     ТЕМПЕРАТУРА МАСЛА В СИСТЕМЕ  ДАВЛЕНИЕ МАСЛА В СИСТЕМЕ  \n",
       "DT                                                                          \n",
       "2019-01-16 13:21:00                    33.260000                119.385000  \n",
       "2019-01-16 13:21:10                    33.343074                119.444440  \n",
       "2019-01-16 13:21:20                    33.261948                119.330000  \n",
       "2019-01-16 13:21:30                    33.586453                119.398146  \n",
       "2019-01-16 13:21:40                    33.505327                119.326667  \n",
       "...                                          ...                       ...  \n",
       "2021-04-29 20:17:50                    28.800000                143.218000  \n",
       "2021-06-18 01:21:30                    40.290000                119.744000  \n",
       "2021-06-21 19:43:00                    48.270000                113.846667  \n",
       "2021-07-01 23:41:10                    36.186000                152.590000  \n",
       "2021-09-17 14:14:30                    33.260000                164.408333  \n",
       "\n",
       "[4755649 rows x 16 columns]"
      ]
     },
     "execution_count": 3,
     "metadata": {},
     "output_type": "execute_result"
    }
   ],
   "source": [
    "import re\n",
    "\n",
    "def reduced(x):\n",
    "    answer = re.sub(r\"ЭКСГАУСТЕР\\s?\\n?№\\d+.\", \"\", x).strip()\n",
    "    answer = re.sub(r\"ЭКСГАУСТЕР\\s?\\n?\\d+.\", \"\", x).strip()\n",
    "    return answer\n",
    "\n",
    "\n",
    "if \"DT\" in X_train.columns:\n",
    "    X_train = X_train.set_index(\"DT\")\n",
    "for col in X_train.columns:\n",
    "    X_train = X_train.rename(columns={col: reduced(col).strip()})\n",
    "X_train = X_train[[\"ТОК РОТОРА 1\",\"ТОК РОТОРА 2\",\"ТОК СТАТОРА\",\n",
    "                   \"ВИБРАЦИЯ НА ОПОРЕ 1\",\"ВИБРАЦИЯ НА ОПОРЕ 2\",\n",
    "                   \"ВИБРАЦИЯ НА ОПОРЕ 3\",\"ВИБРАЦИЯ НА ОПОРЕ 3. ПРОДОЛЬНАЯ\",\n",
    "                   \"ВИБРАЦИЯ НА ОПОРЕ 4\",\"ВИБРАЦИЯ НА ОПОРЕ 4. ПРОДОЛЬНАЯ\",\n",
    "                   \"ТЕМПЕРАТУРА ПОДШИПНИКА НА ОПОРЕ 1\",\n",
    "                   \"ТЕМПЕРАТУРА ПОДШИПНИКА НА ОПОРЕ 2\",\n",
    "                   \"ТЕМПЕРАТУРА ПОДШИПНИКА НА ОПОРЕ 3\",\n",
    "                   \"ТЕМПЕРАТУРА ПОДШИПНИКА НА ОПОРЕ 4\",\n",
    "                   \"ТЕМПЕРАТУРА МАСЛА В МАСЛОБЛОКЕ\",\n",
    "                   \"ТЕМПЕРАТУРА МАСЛА В СИСТЕМЕ\",\n",
    "                   \"ДАВЛЕНИЕ МАСЛА В СИСТЕМЕ\"]]\n",
    "for i,x in enumerate(X_train.index.values):\n",
    "    X_train.index.values[i] = pd.Timestamp(X_train.index.values[i])\n",
    "X_train"
   ]
  },
  {
   "cell_type": "code",
   "execution_count": 4,
   "id": "1050c01f",
   "metadata": {
    "execution": {
     "iopub.execute_input": "2023-05-28T20:10:42.481006Z",
     "iopub.status.busy": "2023-05-28T20:10:42.479957Z",
     "iopub.status.idle": "2023-05-28T20:11:30.304232Z",
     "shell.execute_reply": "2023-05-28T20:11:30.302221Z"
    },
    "papermill": {
     "duration": 47.84159,
     "end_time": "2023-05-28T20:11:30.314264",
     "exception": false,
     "start_time": "2023-05-28T20:10:42.472674",
     "status": "completed"
    },
    "tags": []
   },
   "outputs": [
    {
     "data": {
      "text/html": [
       "<div>\n",
       "<style scoped>\n",
       "    .dataframe tbody tr th:only-of-type {\n",
       "        vertical-align: middle;\n",
       "    }\n",
       "\n",
       "    .dataframe tbody tr th {\n",
       "        vertical-align: top;\n",
       "    }\n",
       "\n",
       "    .dataframe thead th {\n",
       "        text-align: right;\n",
       "    }\n",
       "</style>\n",
       "<table border=\"1\" class=\"dataframe\">\n",
       "  <thead>\n",
       "    <tr style=\"text-align: right;\">\n",
       "      <th></th>\n",
       "      <th>Y_ЭКСГАУСТЕР А/М №4_ЭЛЕКТРОДВИГАТЕЛЬ ДСПУ-140-84-4 ЭКСГ. №4</th>\n",
       "      <th>Y_ЭКСГАУСТЕР А/М №4_ПОДШИПНИК ОПОРНЫЙ ЭКСГ. №4</th>\n",
       "      <th>Y_ЭКСГАУСТЕР А/М №4_УЛИТА ЭКСГ. №4</th>\n",
       "      <th>Y_ЭКСГАУСТЕР А/М №4_РЕДУКТОР ГАЗ. ЗАДВИЖКИ ЭКСГ. №4</th>\n",
       "      <th>Y_ЭКСГАУСТЕР А/М №4_МАСЛОНАСОС РАБОЧИЙ ЭКСГ. №4</th>\n",
       "      <th>Y_ЭКСГАУСТЕР А/М №4_ЭЛЕКТРОАППАРАТУРА ЭКСГ. №4</th>\n",
       "      <th>Y_ЭКСГАУСТЕР А/М №4_ПОДШИПНИК ОПОРНЫЙ №2 ЭКСГ. №4</th>\n",
       "      <th>Y_ЭКСГАУСТЕР А/М №4_ЗАДВИЖКА ЭКСГ. №4</th>\n",
       "      <th>Y_ЭКСГАУСТЕР А/М №4_ГСМ ЭКСГ. №4</th>\n",
       "      <th>Y_ЭКСГАУСТЕР А/М №4_ВК 310С ВИБРОПРЕОБРАЗОВАТЕЛЬ ЭКСГ.№4 Т.1</th>\n",
       "      <th>...</th>\n",
       "      <th>Y_ЭКСГАУСТЕР А/М №4_ПОДШИПНИК ОПОРНО-УПОРНЫЙ ЭКСГ. №4</th>\n",
       "      <th>Y_ЭКСГАУСТЕР А/М №4_ЭКСГАУСТЕР А/М №4</th>\n",
       "      <th>Y_ЭКСГАУСТЕР А/М №4_ЗАП. И РЕГ. АРМАТУРА ЭКСГ.№4</th>\n",
       "      <th>Y_ЭКСГАУСТЕР А/М №4_ПОДШИПНИК ОПОРНЫЙ №1 ЭКСГ. №4</th>\n",
       "      <th>Y_ЭКСГАУСТЕР А/М №4_ЭЛ/ДВИГАТЕЛЬ ГАЗ. ЗАДВИЖКИ ЭКСГ. №4</th>\n",
       "      <th>Y_ЭКСГАУСТЕР А/М №4_КЛ1 ТР№4 ДО ЭД ЭКСГАУСТЕРА №4</th>\n",
       "      <th>Y_ЭКСГАУСТЕР А/М №4_КЛ2 ТР№4 ДО ЭД ЭКСГАУСТЕРА №4</th>\n",
       "      <th>Y_ЭКСГАУСТЕР А/М №4_ТР-Р ТМ-4000-10/6 ЭКСГ. №4</th>\n",
       "      <th>Y_ЭКСГАУСТЕР А/М №4_ТИРИСТ. ВОЗБУДИТЕЛЬ ВТ-РЭМ-400 ЭКСГ4 ВУ1</th>\n",
       "      <th>Y_ЭКСГАУСТЕР А/М №4_МАСЛОПРОВОДЫ ЭКСГ №4</th>\n",
       "    </tr>\n",
       "    <tr>\n",
       "      <th>DT</th>\n",
       "      <th></th>\n",
       "      <th></th>\n",
       "      <th></th>\n",
       "      <th></th>\n",
       "      <th></th>\n",
       "      <th></th>\n",
       "      <th></th>\n",
       "      <th></th>\n",
       "      <th></th>\n",
       "      <th></th>\n",
       "      <th></th>\n",
       "      <th></th>\n",
       "      <th></th>\n",
       "      <th></th>\n",
       "      <th></th>\n",
       "      <th></th>\n",
       "      <th></th>\n",
       "      <th></th>\n",
       "      <th></th>\n",
       "      <th></th>\n",
       "      <th></th>\n",
       "    </tr>\n",
       "  </thead>\n",
       "  <tbody>\n",
       "    <tr>\n",
       "      <th>2019-01-16 13:21:00</th>\n",
       "      <td>0.0</td>\n",
       "      <td>0.0</td>\n",
       "      <td>0.0</td>\n",
       "      <td>0.0</td>\n",
       "      <td>0.0</td>\n",
       "      <td>0.0</td>\n",
       "      <td>0.0</td>\n",
       "      <td>0.0</td>\n",
       "      <td>0.0</td>\n",
       "      <td>0.0</td>\n",
       "      <td>...</td>\n",
       "      <td>0.0</td>\n",
       "      <td>0.0</td>\n",
       "      <td>0.0</td>\n",
       "      <td>0.0</td>\n",
       "      <td>0.0</td>\n",
       "      <td>0.0</td>\n",
       "      <td>0.0</td>\n",
       "      <td>0.0</td>\n",
       "      <td>0.0</td>\n",
       "      <td>0.0</td>\n",
       "    </tr>\n",
       "    <tr>\n",
       "      <th>2019-01-16 13:21:10</th>\n",
       "      <td>0.0</td>\n",
       "      <td>0.0</td>\n",
       "      <td>0.0</td>\n",
       "      <td>0.0</td>\n",
       "      <td>0.0</td>\n",
       "      <td>0.0</td>\n",
       "      <td>0.0</td>\n",
       "      <td>0.0</td>\n",
       "      <td>0.0</td>\n",
       "      <td>0.0</td>\n",
       "      <td>...</td>\n",
       "      <td>0.0</td>\n",
       "      <td>0.0</td>\n",
       "      <td>0.0</td>\n",
       "      <td>0.0</td>\n",
       "      <td>0.0</td>\n",
       "      <td>0.0</td>\n",
       "      <td>0.0</td>\n",
       "      <td>0.0</td>\n",
       "      <td>0.0</td>\n",
       "      <td>0.0</td>\n",
       "    </tr>\n",
       "    <tr>\n",
       "      <th>2019-01-16 13:21:20</th>\n",
       "      <td>0.0</td>\n",
       "      <td>0.0</td>\n",
       "      <td>0.0</td>\n",
       "      <td>0.0</td>\n",
       "      <td>0.0</td>\n",
       "      <td>0.0</td>\n",
       "      <td>0.0</td>\n",
       "      <td>0.0</td>\n",
       "      <td>0.0</td>\n",
       "      <td>0.0</td>\n",
       "      <td>...</td>\n",
       "      <td>0.0</td>\n",
       "      <td>0.0</td>\n",
       "      <td>0.0</td>\n",
       "      <td>0.0</td>\n",
       "      <td>0.0</td>\n",
       "      <td>0.0</td>\n",
       "      <td>0.0</td>\n",
       "      <td>0.0</td>\n",
       "      <td>0.0</td>\n",
       "      <td>0.0</td>\n",
       "    </tr>\n",
       "    <tr>\n",
       "      <th>2019-01-16 13:21:30</th>\n",
       "      <td>0.0</td>\n",
       "      <td>0.0</td>\n",
       "      <td>0.0</td>\n",
       "      <td>0.0</td>\n",
       "      <td>0.0</td>\n",
       "      <td>0.0</td>\n",
       "      <td>0.0</td>\n",
       "      <td>0.0</td>\n",
       "      <td>0.0</td>\n",
       "      <td>0.0</td>\n",
       "      <td>...</td>\n",
       "      <td>0.0</td>\n",
       "      <td>0.0</td>\n",
       "      <td>0.0</td>\n",
       "      <td>0.0</td>\n",
       "      <td>0.0</td>\n",
       "      <td>0.0</td>\n",
       "      <td>0.0</td>\n",
       "      <td>0.0</td>\n",
       "      <td>0.0</td>\n",
       "      <td>0.0</td>\n",
       "    </tr>\n",
       "    <tr>\n",
       "      <th>2019-01-16 13:21:40</th>\n",
       "      <td>0.0</td>\n",
       "      <td>0.0</td>\n",
       "      <td>0.0</td>\n",
       "      <td>0.0</td>\n",
       "      <td>0.0</td>\n",
       "      <td>0.0</td>\n",
       "      <td>0.0</td>\n",
       "      <td>0.0</td>\n",
       "      <td>0.0</td>\n",
       "      <td>0.0</td>\n",
       "      <td>...</td>\n",
       "      <td>0.0</td>\n",
       "      <td>0.0</td>\n",
       "      <td>0.0</td>\n",
       "      <td>0.0</td>\n",
       "      <td>0.0</td>\n",
       "      <td>0.0</td>\n",
       "      <td>0.0</td>\n",
       "      <td>0.0</td>\n",
       "      <td>0.0</td>\n",
       "      <td>0.0</td>\n",
       "    </tr>\n",
       "    <tr>\n",
       "      <th>...</th>\n",
       "      <td>...</td>\n",
       "      <td>...</td>\n",
       "      <td>...</td>\n",
       "      <td>...</td>\n",
       "      <td>...</td>\n",
       "      <td>...</td>\n",
       "      <td>...</td>\n",
       "      <td>...</td>\n",
       "      <td>...</td>\n",
       "      <td>...</td>\n",
       "      <td>...</td>\n",
       "      <td>...</td>\n",
       "      <td>...</td>\n",
       "      <td>...</td>\n",
       "      <td>...</td>\n",
       "      <td>...</td>\n",
       "      <td>...</td>\n",
       "      <td>...</td>\n",
       "      <td>...</td>\n",
       "      <td>...</td>\n",
       "      <td>...</td>\n",
       "    </tr>\n",
       "    <tr>\n",
       "      <th>2021-12-31 23:59:10</th>\n",
       "      <td>2.0</td>\n",
       "      <td>2.0</td>\n",
       "      <td>2.0</td>\n",
       "      <td>0.0</td>\n",
       "      <td>0.0</td>\n",
       "      <td>0.0</td>\n",
       "      <td>0.0</td>\n",
       "      <td>2.0</td>\n",
       "      <td>2.0</td>\n",
       "      <td>0.0</td>\n",
       "      <td>...</td>\n",
       "      <td>2.0</td>\n",
       "      <td>0.0</td>\n",
       "      <td>0.0</td>\n",
       "      <td>0.0</td>\n",
       "      <td>0.0</td>\n",
       "      <td>2.0</td>\n",
       "      <td>2.0</td>\n",
       "      <td>2.0</td>\n",
       "      <td>0.0</td>\n",
       "      <td>0.0</td>\n",
       "    </tr>\n",
       "    <tr>\n",
       "      <th>2021-12-31 23:59:20</th>\n",
       "      <td>2.0</td>\n",
       "      <td>2.0</td>\n",
       "      <td>2.0</td>\n",
       "      <td>0.0</td>\n",
       "      <td>0.0</td>\n",
       "      <td>0.0</td>\n",
       "      <td>0.0</td>\n",
       "      <td>2.0</td>\n",
       "      <td>2.0</td>\n",
       "      <td>0.0</td>\n",
       "      <td>...</td>\n",
       "      <td>2.0</td>\n",
       "      <td>0.0</td>\n",
       "      <td>0.0</td>\n",
       "      <td>0.0</td>\n",
       "      <td>0.0</td>\n",
       "      <td>2.0</td>\n",
       "      <td>2.0</td>\n",
       "      <td>2.0</td>\n",
       "      <td>0.0</td>\n",
       "      <td>0.0</td>\n",
       "    </tr>\n",
       "    <tr>\n",
       "      <th>2021-12-31 23:59:30</th>\n",
       "      <td>2.0</td>\n",
       "      <td>2.0</td>\n",
       "      <td>2.0</td>\n",
       "      <td>0.0</td>\n",
       "      <td>0.0</td>\n",
       "      <td>0.0</td>\n",
       "      <td>0.0</td>\n",
       "      <td>2.0</td>\n",
       "      <td>2.0</td>\n",
       "      <td>0.0</td>\n",
       "      <td>...</td>\n",
       "      <td>2.0</td>\n",
       "      <td>0.0</td>\n",
       "      <td>0.0</td>\n",
       "      <td>0.0</td>\n",
       "      <td>0.0</td>\n",
       "      <td>2.0</td>\n",
       "      <td>2.0</td>\n",
       "      <td>2.0</td>\n",
       "      <td>0.0</td>\n",
       "      <td>0.0</td>\n",
       "    </tr>\n",
       "    <tr>\n",
       "      <th>2021-12-31 23:59:40</th>\n",
       "      <td>2.0</td>\n",
       "      <td>2.0</td>\n",
       "      <td>2.0</td>\n",
       "      <td>0.0</td>\n",
       "      <td>0.0</td>\n",
       "      <td>0.0</td>\n",
       "      <td>0.0</td>\n",
       "      <td>2.0</td>\n",
       "      <td>2.0</td>\n",
       "      <td>0.0</td>\n",
       "      <td>...</td>\n",
       "      <td>2.0</td>\n",
       "      <td>0.0</td>\n",
       "      <td>0.0</td>\n",
       "      <td>0.0</td>\n",
       "      <td>0.0</td>\n",
       "      <td>2.0</td>\n",
       "      <td>2.0</td>\n",
       "      <td>2.0</td>\n",
       "      <td>0.0</td>\n",
       "      <td>0.0</td>\n",
       "    </tr>\n",
       "    <tr>\n",
       "      <th>2021-12-31 23:59:50</th>\n",
       "      <td>2.0</td>\n",
       "      <td>2.0</td>\n",
       "      <td>2.0</td>\n",
       "      <td>0.0</td>\n",
       "      <td>0.0</td>\n",
       "      <td>0.0</td>\n",
       "      <td>0.0</td>\n",
       "      <td>2.0</td>\n",
       "      <td>2.0</td>\n",
       "      <td>0.0</td>\n",
       "      <td>...</td>\n",
       "      <td>2.0</td>\n",
       "      <td>0.0</td>\n",
       "      <td>0.0</td>\n",
       "      <td>0.0</td>\n",
       "      <td>0.0</td>\n",
       "      <td>2.0</td>\n",
       "      <td>2.0</td>\n",
       "      <td>2.0</td>\n",
       "      <td>0.0</td>\n",
       "      <td>0.0</td>\n",
       "    </tr>\n",
       "  </tbody>\n",
       "</table>\n",
       "<p>9335034 rows × 23 columns</p>\n",
       "</div>"
      ],
      "text/plain": [
       "                     Y_ЭКСГАУСТЕР А/М №4_ЭЛЕКТРОДВИГАТЕЛЬ ДСПУ-140-84-4 ЭКСГ. №4  \\\n",
       "DT                                                                                 \n",
       "2019-01-16 13:21:00                                                0.0             \n",
       "2019-01-16 13:21:10                                                0.0             \n",
       "2019-01-16 13:21:20                                                0.0             \n",
       "2019-01-16 13:21:30                                                0.0             \n",
       "2019-01-16 13:21:40                                                0.0             \n",
       "...                                                                ...             \n",
       "2021-12-31 23:59:10                                                2.0             \n",
       "2021-12-31 23:59:20                                                2.0             \n",
       "2021-12-31 23:59:30                                                2.0             \n",
       "2021-12-31 23:59:40                                                2.0             \n",
       "2021-12-31 23:59:50                                                2.0             \n",
       "\n",
       "                     Y_ЭКСГАУСТЕР А/М №4_ПОДШИПНИК ОПОРНЫЙ ЭКСГ. №4  \\\n",
       "DT                                                                    \n",
       "2019-01-16 13:21:00                                             0.0   \n",
       "2019-01-16 13:21:10                                             0.0   \n",
       "2019-01-16 13:21:20                                             0.0   \n",
       "2019-01-16 13:21:30                                             0.0   \n",
       "2019-01-16 13:21:40                                             0.0   \n",
       "...                                                             ...   \n",
       "2021-12-31 23:59:10                                             2.0   \n",
       "2021-12-31 23:59:20                                             2.0   \n",
       "2021-12-31 23:59:30                                             2.0   \n",
       "2021-12-31 23:59:40                                             2.0   \n",
       "2021-12-31 23:59:50                                             2.0   \n",
       "\n",
       "                     Y_ЭКСГАУСТЕР А/М №4_УЛИТА ЭКСГ. №4  \\\n",
       "DT                                                        \n",
       "2019-01-16 13:21:00                                 0.0   \n",
       "2019-01-16 13:21:10                                 0.0   \n",
       "2019-01-16 13:21:20                                 0.0   \n",
       "2019-01-16 13:21:30                                 0.0   \n",
       "2019-01-16 13:21:40                                 0.0   \n",
       "...                                                 ...   \n",
       "2021-12-31 23:59:10                                 2.0   \n",
       "2021-12-31 23:59:20                                 2.0   \n",
       "2021-12-31 23:59:30                                 2.0   \n",
       "2021-12-31 23:59:40                                 2.0   \n",
       "2021-12-31 23:59:50                                 2.0   \n",
       "\n",
       "                     Y_ЭКСГАУСТЕР А/М №4_РЕДУКТОР ГАЗ. ЗАДВИЖКИ ЭКСГ. №4  \\\n",
       "DT                                                                         \n",
       "2019-01-16 13:21:00                                                0.0     \n",
       "2019-01-16 13:21:10                                                0.0     \n",
       "2019-01-16 13:21:20                                                0.0     \n",
       "2019-01-16 13:21:30                                                0.0     \n",
       "2019-01-16 13:21:40                                                0.0     \n",
       "...                                                                ...     \n",
       "2021-12-31 23:59:10                                                0.0     \n",
       "2021-12-31 23:59:20                                                0.0     \n",
       "2021-12-31 23:59:30                                                0.0     \n",
       "2021-12-31 23:59:40                                                0.0     \n",
       "2021-12-31 23:59:50                                                0.0     \n",
       "\n",
       "                     Y_ЭКСГАУСТЕР А/М №4_МАСЛОНАСОС РАБОЧИЙ ЭКСГ. №4  \\\n",
       "DT                                                                     \n",
       "2019-01-16 13:21:00                                              0.0   \n",
       "2019-01-16 13:21:10                                              0.0   \n",
       "2019-01-16 13:21:20                                              0.0   \n",
       "2019-01-16 13:21:30                                              0.0   \n",
       "2019-01-16 13:21:40                                              0.0   \n",
       "...                                                              ...   \n",
       "2021-12-31 23:59:10                                              0.0   \n",
       "2021-12-31 23:59:20                                              0.0   \n",
       "2021-12-31 23:59:30                                              0.0   \n",
       "2021-12-31 23:59:40                                              0.0   \n",
       "2021-12-31 23:59:50                                              0.0   \n",
       "\n",
       "                     Y_ЭКСГАУСТЕР А/М №4_ЭЛЕКТРОАППАРАТУРА ЭКСГ. №4  \\\n",
       "DT                                                                    \n",
       "2019-01-16 13:21:00                                             0.0   \n",
       "2019-01-16 13:21:10                                             0.0   \n",
       "2019-01-16 13:21:20                                             0.0   \n",
       "2019-01-16 13:21:30                                             0.0   \n",
       "2019-01-16 13:21:40                                             0.0   \n",
       "...                                                             ...   \n",
       "2021-12-31 23:59:10                                             0.0   \n",
       "2021-12-31 23:59:20                                             0.0   \n",
       "2021-12-31 23:59:30                                             0.0   \n",
       "2021-12-31 23:59:40                                             0.0   \n",
       "2021-12-31 23:59:50                                             0.0   \n",
       "\n",
       "                     Y_ЭКСГАУСТЕР А/М №4_ПОДШИПНИК ОПОРНЫЙ №2 ЭКСГ. №4  \\\n",
       "DT                                                                       \n",
       "2019-01-16 13:21:00                                                0.0   \n",
       "2019-01-16 13:21:10                                                0.0   \n",
       "2019-01-16 13:21:20                                                0.0   \n",
       "2019-01-16 13:21:30                                                0.0   \n",
       "2019-01-16 13:21:40                                                0.0   \n",
       "...                                                                ...   \n",
       "2021-12-31 23:59:10                                                0.0   \n",
       "2021-12-31 23:59:20                                                0.0   \n",
       "2021-12-31 23:59:30                                                0.0   \n",
       "2021-12-31 23:59:40                                                0.0   \n",
       "2021-12-31 23:59:50                                                0.0   \n",
       "\n",
       "                     Y_ЭКСГАУСТЕР А/М №4_ЗАДВИЖКА ЭКСГ. №4  \\\n",
       "DT                                                           \n",
       "2019-01-16 13:21:00                                    0.0   \n",
       "2019-01-16 13:21:10                                    0.0   \n",
       "2019-01-16 13:21:20                                    0.0   \n",
       "2019-01-16 13:21:30                                    0.0   \n",
       "2019-01-16 13:21:40                                    0.0   \n",
       "...                                                    ...   \n",
       "2021-12-31 23:59:10                                    2.0   \n",
       "2021-12-31 23:59:20                                    2.0   \n",
       "2021-12-31 23:59:30                                    2.0   \n",
       "2021-12-31 23:59:40                                    2.0   \n",
       "2021-12-31 23:59:50                                    2.0   \n",
       "\n",
       "                     Y_ЭКСГАУСТЕР А/М №4_ГСМ ЭКСГ. №4  \\\n",
       "DT                                                      \n",
       "2019-01-16 13:21:00                               0.0   \n",
       "2019-01-16 13:21:10                               0.0   \n",
       "2019-01-16 13:21:20                               0.0   \n",
       "2019-01-16 13:21:30                               0.0   \n",
       "2019-01-16 13:21:40                               0.0   \n",
       "...                                               ...   \n",
       "2021-12-31 23:59:10                               2.0   \n",
       "2021-12-31 23:59:20                               2.0   \n",
       "2021-12-31 23:59:30                               2.0   \n",
       "2021-12-31 23:59:40                               2.0   \n",
       "2021-12-31 23:59:50                               2.0   \n",
       "\n",
       "                     Y_ЭКСГАУСТЕР А/М №4_ВК 310С ВИБРОПРЕОБРАЗОВАТЕЛЬ ЭКСГ.№4 Т.1  \\\n",
       "DT                                                                                  \n",
       "2019-01-16 13:21:00                                                0.0              \n",
       "2019-01-16 13:21:10                                                0.0              \n",
       "2019-01-16 13:21:20                                                0.0              \n",
       "2019-01-16 13:21:30                                                0.0              \n",
       "2019-01-16 13:21:40                                                0.0              \n",
       "...                                                                ...              \n",
       "2021-12-31 23:59:10                                                0.0              \n",
       "2021-12-31 23:59:20                                                0.0              \n",
       "2021-12-31 23:59:30                                                0.0              \n",
       "2021-12-31 23:59:40                                                0.0              \n",
       "2021-12-31 23:59:50                                                0.0              \n",
       "\n",
       "                     ...  \\\n",
       "DT                   ...   \n",
       "2019-01-16 13:21:00  ...   \n",
       "2019-01-16 13:21:10  ...   \n",
       "2019-01-16 13:21:20  ...   \n",
       "2019-01-16 13:21:30  ...   \n",
       "2019-01-16 13:21:40  ...   \n",
       "...                  ...   \n",
       "2021-12-31 23:59:10  ...   \n",
       "2021-12-31 23:59:20  ...   \n",
       "2021-12-31 23:59:30  ...   \n",
       "2021-12-31 23:59:40  ...   \n",
       "2021-12-31 23:59:50  ...   \n",
       "\n",
       "                     Y_ЭКСГАУСТЕР А/М №4_ПОДШИПНИК ОПОРНО-УПОРНЫЙ ЭКСГ. №4  \\\n",
       "DT                                                                           \n",
       "2019-01-16 13:21:00                                                0.0       \n",
       "2019-01-16 13:21:10                                                0.0       \n",
       "2019-01-16 13:21:20                                                0.0       \n",
       "2019-01-16 13:21:30                                                0.0       \n",
       "2019-01-16 13:21:40                                                0.0       \n",
       "...                                                                ...       \n",
       "2021-12-31 23:59:10                                                2.0       \n",
       "2021-12-31 23:59:20                                                2.0       \n",
       "2021-12-31 23:59:30                                                2.0       \n",
       "2021-12-31 23:59:40                                                2.0       \n",
       "2021-12-31 23:59:50                                                2.0       \n",
       "\n",
       "                     Y_ЭКСГАУСТЕР А/М №4_ЭКСГАУСТЕР А/М №4  \\\n",
       "DT                                                           \n",
       "2019-01-16 13:21:00                                    0.0   \n",
       "2019-01-16 13:21:10                                    0.0   \n",
       "2019-01-16 13:21:20                                    0.0   \n",
       "2019-01-16 13:21:30                                    0.0   \n",
       "2019-01-16 13:21:40                                    0.0   \n",
       "...                                                    ...   \n",
       "2021-12-31 23:59:10                                    0.0   \n",
       "2021-12-31 23:59:20                                    0.0   \n",
       "2021-12-31 23:59:30                                    0.0   \n",
       "2021-12-31 23:59:40                                    0.0   \n",
       "2021-12-31 23:59:50                                    0.0   \n",
       "\n",
       "                     Y_ЭКСГАУСТЕР А/М №4_ЗАП. И РЕГ. АРМАТУРА ЭКСГ.№4  \\\n",
       "DT                                                                      \n",
       "2019-01-16 13:21:00                                               0.0   \n",
       "2019-01-16 13:21:10                                               0.0   \n",
       "2019-01-16 13:21:20                                               0.0   \n",
       "2019-01-16 13:21:30                                               0.0   \n",
       "2019-01-16 13:21:40                                               0.0   \n",
       "...                                                               ...   \n",
       "2021-12-31 23:59:10                                               0.0   \n",
       "2021-12-31 23:59:20                                               0.0   \n",
       "2021-12-31 23:59:30                                               0.0   \n",
       "2021-12-31 23:59:40                                               0.0   \n",
       "2021-12-31 23:59:50                                               0.0   \n",
       "\n",
       "                     Y_ЭКСГАУСТЕР А/М №4_ПОДШИПНИК ОПОРНЫЙ №1 ЭКСГ. №4  \\\n",
       "DT                                                                       \n",
       "2019-01-16 13:21:00                                                0.0   \n",
       "2019-01-16 13:21:10                                                0.0   \n",
       "2019-01-16 13:21:20                                                0.0   \n",
       "2019-01-16 13:21:30                                                0.0   \n",
       "2019-01-16 13:21:40                                                0.0   \n",
       "...                                                                ...   \n",
       "2021-12-31 23:59:10                                                0.0   \n",
       "2021-12-31 23:59:20                                                0.0   \n",
       "2021-12-31 23:59:30                                                0.0   \n",
       "2021-12-31 23:59:40                                                0.0   \n",
       "2021-12-31 23:59:50                                                0.0   \n",
       "\n",
       "                     Y_ЭКСГАУСТЕР А/М №4_ЭЛ/ДВИГАТЕЛЬ ГАЗ. ЗАДВИЖКИ ЭКСГ. №4  \\\n",
       "DT                                                                             \n",
       "2019-01-16 13:21:00                                                0.0         \n",
       "2019-01-16 13:21:10                                                0.0         \n",
       "2019-01-16 13:21:20                                                0.0         \n",
       "2019-01-16 13:21:30                                                0.0         \n",
       "2019-01-16 13:21:40                                                0.0         \n",
       "...                                                                ...         \n",
       "2021-12-31 23:59:10                                                0.0         \n",
       "2021-12-31 23:59:20                                                0.0         \n",
       "2021-12-31 23:59:30                                                0.0         \n",
       "2021-12-31 23:59:40                                                0.0         \n",
       "2021-12-31 23:59:50                                                0.0         \n",
       "\n",
       "                     Y_ЭКСГАУСТЕР А/М №4_КЛ1 ТР№4 ДО ЭД ЭКСГАУСТЕРА №4  \\\n",
       "DT                                                                       \n",
       "2019-01-16 13:21:00                                                0.0   \n",
       "2019-01-16 13:21:10                                                0.0   \n",
       "2019-01-16 13:21:20                                                0.0   \n",
       "2019-01-16 13:21:30                                                0.0   \n",
       "2019-01-16 13:21:40                                                0.0   \n",
       "...                                                                ...   \n",
       "2021-12-31 23:59:10                                                2.0   \n",
       "2021-12-31 23:59:20                                                2.0   \n",
       "2021-12-31 23:59:30                                                2.0   \n",
       "2021-12-31 23:59:40                                                2.0   \n",
       "2021-12-31 23:59:50                                                2.0   \n",
       "\n",
       "                     Y_ЭКСГАУСТЕР А/М №4_КЛ2 ТР№4 ДО ЭД ЭКСГАУСТЕРА №4  \\\n",
       "DT                                                                       \n",
       "2019-01-16 13:21:00                                                0.0   \n",
       "2019-01-16 13:21:10                                                0.0   \n",
       "2019-01-16 13:21:20                                                0.0   \n",
       "2019-01-16 13:21:30                                                0.0   \n",
       "2019-01-16 13:21:40                                                0.0   \n",
       "...                                                                ...   \n",
       "2021-12-31 23:59:10                                                2.0   \n",
       "2021-12-31 23:59:20                                                2.0   \n",
       "2021-12-31 23:59:30                                                2.0   \n",
       "2021-12-31 23:59:40                                                2.0   \n",
       "2021-12-31 23:59:50                                                2.0   \n",
       "\n",
       "                     Y_ЭКСГАУСТЕР А/М №4_ТР-Р ТМ-4000-10/6 ЭКСГ. №4  \\\n",
       "DT                                                                    \n",
       "2019-01-16 13:21:00                                             0.0   \n",
       "2019-01-16 13:21:10                                             0.0   \n",
       "2019-01-16 13:21:20                                             0.0   \n",
       "2019-01-16 13:21:30                                             0.0   \n",
       "2019-01-16 13:21:40                                             0.0   \n",
       "...                                                             ...   \n",
       "2021-12-31 23:59:10                                             2.0   \n",
       "2021-12-31 23:59:20                                             2.0   \n",
       "2021-12-31 23:59:30                                             2.0   \n",
       "2021-12-31 23:59:40                                             2.0   \n",
       "2021-12-31 23:59:50                                             2.0   \n",
       "\n",
       "                     Y_ЭКСГАУСТЕР А/М №4_ТИРИСТ. ВОЗБУДИТЕЛЬ ВТ-РЭМ-400 ЭКСГ4 ВУ1  \\\n",
       "DT                                                                                  \n",
       "2019-01-16 13:21:00                                                0.0              \n",
       "2019-01-16 13:21:10                                                0.0              \n",
       "2019-01-16 13:21:20                                                0.0              \n",
       "2019-01-16 13:21:30                                                0.0              \n",
       "2019-01-16 13:21:40                                                0.0              \n",
       "...                                                                ...              \n",
       "2021-12-31 23:59:10                                                0.0              \n",
       "2021-12-31 23:59:20                                                0.0              \n",
       "2021-12-31 23:59:30                                                0.0              \n",
       "2021-12-31 23:59:40                                                0.0              \n",
       "2021-12-31 23:59:50                                                0.0              \n",
       "\n",
       "                     Y_ЭКСГАУСТЕР А/М №4_МАСЛОПРОВОДЫ ЭКСГ №4  \n",
       "DT                                                             \n",
       "2019-01-16 13:21:00                                       0.0  \n",
       "2019-01-16 13:21:10                                       0.0  \n",
       "2019-01-16 13:21:20                                       0.0  \n",
       "2019-01-16 13:21:30                                       0.0  \n",
       "2019-01-16 13:21:40                                       0.0  \n",
       "...                                                       ...  \n",
       "2021-12-31 23:59:10                                       0.0  \n",
       "2021-12-31 23:59:20                                       0.0  \n",
       "2021-12-31 23:59:30                                       0.0  \n",
       "2021-12-31 23:59:40                                       0.0  \n",
       "2021-12-31 23:59:50                                       0.0  \n",
       "\n",
       "[9335034 rows x 23 columns]"
      ]
     },
     "execution_count": 4,
     "metadata": {},
     "output_type": "execute_result"
    }
   ],
   "source": [
    "y_train = pd.read_csv(\"/kaggle/input/y-train-northsteel-instances/y_ЭКСГАУСТЕР АМ 4.csv\", parse_dates=True)\n",
    "y_train = y_train.set_index(\"DT\")\n",
    "y_train"
   ]
  },
  {
   "cell_type": "code",
   "execution_count": 5,
   "id": "1ca5dcff",
   "metadata": {
    "execution": {
     "iopub.execute_input": "2023-05-28T20:11:30.330430Z",
     "iopub.status.busy": "2023-05-28T20:11:30.330011Z",
     "iopub.status.idle": "2023-05-28T20:11:36.135007Z",
     "shell.execute_reply": "2023-05-28T20:11:36.133698Z"
    },
    "papermill": {
     "duration": 5.816416,
     "end_time": "2023-05-28T20:11:36.137772",
     "exception": false,
     "start_time": "2023-05-28T20:11:30.321356",
     "status": "completed"
    },
    "tags": []
   },
   "outputs": [
    {
     "name": "stdout",
     "output_type": "stream",
     "text": [
      "Y_ЭКСГАУСТЕР А/М №4_ЭЛЕКТРОДВИГАТЕЛЬ ДСПУ-140-84-4 ЭКСГ. №4 M1 [0 1]\n",
      "Y_ЭКСГАУСТЕР А/М №4_ЭЛЕКТРОДВИГАТЕЛЬ ДСПУ-140-84-4 ЭКСГ. №4 M3 [0 1]\n",
      "Y_ЭКСГАУСТЕР А/М №4_ПОДШИПНИК ОПОРНЫЙ ЭКСГ. №4 M1 [0]\n",
      "Y_ЭКСГАУСТЕР А/М №4_ПОДШИПНИК ОПОРНЫЙ ЭКСГ. №4 M3 [0 1]\n",
      "Y_ЭКСГАУСТЕР А/М №4_УЛИТА ЭКСГ. №4 M1 [0]\n",
      "Y_ЭКСГАУСТЕР А/М №4_УЛИТА ЭКСГ. №4 M3 [0 1]\n",
      "Y_ЭКСГАУСТЕР А/М №4_РЕДУКТОР ГАЗ. ЗАДВИЖКИ ЭКСГ. №4 M1 [0 1]\n",
      "Y_ЭКСГАУСТЕР А/М №4_РЕДУКТОР ГАЗ. ЗАДВИЖКИ ЭКСГ. №4 M3 [0 1]\n",
      "Y_ЭКСГАУСТЕР А/М №4_МАСЛОНАСОС РАБОЧИЙ ЭКСГ. №4 M1 [0]\n",
      "Y_ЭКСГАУСТЕР А/М №4_МАСЛОНАСОС РАБОЧИЙ ЭКСГ. №4 M3 [0 1]\n",
      "Y_ЭКСГАУСТЕР А/М №4_ЭЛЕКТРОАППАРАТУРА ЭКСГ. №4 M1 [0 1]\n",
      "Y_ЭКСГАУСТЕР А/М №4_ЭЛЕКТРОАППАРАТУРА ЭКСГ. №4 M3 [0 1]\n",
      "Y_ЭКСГАУСТЕР А/М №4_ПОДШИПНИК ОПОРНЫЙ №2 ЭКСГ. №4 M1 [0 1]\n",
      "Y_ЭКСГАУСТЕР А/М №4_ПОДШИПНИК ОПОРНЫЙ №2 ЭКСГ. №4 M3 [0 1]\n",
      "Y_ЭКСГАУСТЕР А/М №4_ЗАДВИЖКА ЭКСГ. №4 M1 [0 1]\n",
      "Y_ЭКСГАУСТЕР А/М №4_ЗАДВИЖКА ЭКСГ. №4 M3 [0 1]\n",
      "Y_ЭКСГАУСТЕР А/М №4_ГСМ ЭКСГ. №4 M1 [0]\n",
      "Y_ЭКСГАУСТЕР А/М №4_ГСМ ЭКСГ. №4 M3 [0 1]\n",
      "Y_ЭКСГАУСТЕР А/М №4_ВК 310С ВИБРОПРЕОБРАЗОВАТЕЛЬ ЭКСГ.№4 Т.1 M1 [0]\n",
      "Y_ЭКСГАУСТЕР А/М №4_ВК 310С ВИБРОПРЕОБРАЗОВАТЕЛЬ ЭКСГ.№4 Т.1 M3 [0 1]\n",
      "Y_ЭКСГАУСТЕР А/М №4_ТСМТ-101-010-50М-400 ТЕРМОПР.ПОДШ.Т.1 M1 [0]\n",
      "Y_ЭКСГАУСТЕР А/М №4_ТСМТ-101-010-50М-400 ТЕРМОПР.ПОДШ.Т.1 M3 [0 1]\n",
      "Y_ЭКСГАУСТЕР А/М №4_РОТОР ЭКСГ. №4 M1 [0 1]\n",
      "Y_ЭКСГАУСТЕР А/М №4_РОТОР ЭКСГ. №4 M3 [0 1]\n",
      "Y_ЭКСГАУСТЕР А/М №4_МАСЛООХЛАДИТЕЛЬ  М-05-1 ЭКСГ. №4 M1 [0]\n",
      "Y_ЭКСГАУСТЕР А/М №4_МАСЛООХЛАДИТЕЛЬ  М-05-1 ЭКСГ. №4 M3 [0 1]\n",
      "Y_ЭКСГАУСТЕР А/М №4_ПОДШИПНИК ОПОРНО-УПОРНЫЙ ЭКСГ. №4 M1 [0 1]\n",
      "Y_ЭКСГАУСТЕР А/М №4_ПОДШИПНИК ОПОРНО-УПОРНЫЙ ЭКСГ. №4 M3 [0 1]\n",
      "Y_ЭКСГАУСТЕР А/М №4_ЭКСГАУСТЕР А/М №4 M1 [0 1]\n",
      "Y_ЭКСГАУСТЕР А/М №4_ЭКСГАУСТЕР А/М №4 M3 [0]\n",
      "Y_ЭКСГАУСТЕР А/М №4_ЗАП. И РЕГ. АРМАТУРА ЭКСГ.№4 M1 [0]\n",
      "Y_ЭКСГАУСТЕР А/М №4_ЗАП. И РЕГ. АРМАТУРА ЭКСГ.№4 M3 [0 1]\n",
      "Y_ЭКСГАУСТЕР А/М №4_ПОДШИПНИК ОПОРНЫЙ №1 ЭКСГ. №4 M1 [0]\n",
      "Y_ЭКСГАУСТЕР А/М №4_ПОДШИПНИК ОПОРНЫЙ №1 ЭКСГ. №4 M3 [0 1]\n",
      "Y_ЭКСГАУСТЕР А/М №4_ЭЛ/ДВИГАТЕЛЬ ГАЗ. ЗАДВИЖКИ ЭКСГ. №4 M1 [0]\n",
      "Y_ЭКСГАУСТЕР А/М №4_ЭЛ/ДВИГАТЕЛЬ ГАЗ. ЗАДВИЖКИ ЭКСГ. №4 M3 [0 1]\n",
      "Y_ЭКСГАУСТЕР А/М №4_КЛ1 ТР№4 ДО ЭД ЭКСГАУСТЕРА №4 M1 [0]\n",
      "Y_ЭКСГАУСТЕР А/М №4_КЛ1 ТР№4 ДО ЭД ЭКСГАУСТЕРА №4 M3 [0 1]\n",
      "Y_ЭКСГАУСТЕР А/М №4_КЛ2 ТР№4 ДО ЭД ЭКСГАУСТЕРА №4 M1 [0]\n",
      "Y_ЭКСГАУСТЕР А/М №4_КЛ2 ТР№4 ДО ЭД ЭКСГАУСТЕРА №4 M3 [0 1]\n",
      "Y_ЭКСГАУСТЕР А/М №4_ТР-Р ТМ-4000-10/6 ЭКСГ. №4 M1 [0]\n",
      "Y_ЭКСГАУСТЕР А/М №4_ТР-Р ТМ-4000-10/6 ЭКСГ. №4 M3 [0 1]\n",
      "Y_ЭКСГАУСТЕР А/М №4_ТИРИСТ. ВОЗБУДИТЕЛЬ ВТ-РЭМ-400 ЭКСГ4 ВУ1 M1 [0]\n",
      "Y_ЭКСГАУСТЕР А/М №4_ТИРИСТ. ВОЗБУДИТЕЛЬ ВТ-РЭМ-400 ЭКСГ4 ВУ1 M3 [0 1]\n",
      "Y_ЭКСГАУСТЕР А/М №4_МАСЛОПРОВОДЫ ЭКСГ №4 M1 [0]\n",
      "Y_ЭКСГАУСТЕР А/М №4_МАСЛОПРОВОДЫ ЭКСГ №4 M3 [0]\n"
     ]
    }
   ],
   "source": [
    "for col in y_train.columns:\n",
    "    if not ((col[-2:] == \"M1\") or (col[-2:] ==\"M3\")):\n",
    "        y_train[col+\" M1\"] = 1*(y_train[col]==1)\n",
    "        y_train[col+\" M3\"] = 1*(y_train[col]==2)\n",
    "        del y_train[col]\n",
    "for col in y_train.columns:\n",
    "    print(col, y_train[col].unique())"
   ]
  },
  {
   "cell_type": "code",
   "execution_count": 6,
   "id": "88edf201",
   "metadata": {
    "execution": {
     "iopub.execute_input": "2023-05-28T20:11:36.156035Z",
     "iopub.status.busy": "2023-05-28T20:11:36.155641Z",
     "iopub.status.idle": "2023-05-28T20:12:53.616207Z",
     "shell.execute_reply": "2023-05-28T20:12:53.614666Z"
    },
    "papermill": {
     "duration": 77.485816,
     "end_time": "2023-05-28T20:12:53.631939",
     "exception": false,
     "start_time": "2023-05-28T20:11:36.146123",
     "status": "completed"
    },
    "tags": []
   },
   "outputs": [
    {
     "data": {
      "text/plain": [
       "array([Timestamp('2019-01-16 13:21:00'), Timestamp('2019-01-16 13:21:10'),\n",
       "       Timestamp('2019-01-16 13:21:20'), ...,\n",
       "       Timestamp('2021-12-31 23:59:30'), Timestamp('2021-12-31 23:59:40'),\n",
       "       Timestamp('2021-12-31 23:59:50')], dtype=object)"
      ]
     },
     "execution_count": 6,
     "metadata": {},
     "output_type": "execute_result"
    }
   ],
   "source": [
    "for i,x in enumerate(y_train.index.values):\n",
    "    y_train.index.values[i] = pd.Timestamp(y_train.index.values[i])\n",
    "y_train.index.values"
   ]
  },
  {
   "cell_type": "code",
   "execution_count": 7,
   "id": "3dadd930",
   "metadata": {
    "execution": {
     "iopub.execute_input": "2023-05-28T20:12:53.651885Z",
     "iopub.status.busy": "2023-05-28T20:12:53.651393Z",
     "iopub.status.idle": "2023-05-28T20:14:11.263296Z",
     "shell.execute_reply": "2023-05-28T20:14:11.262343Z"
    },
    "papermill": {
     "duration": 77.632235,
     "end_time": "2023-05-28T20:14:11.272723",
     "exception": false,
     "start_time": "2023-05-28T20:12:53.640488",
     "status": "completed"
    },
    "tags": []
   },
   "outputs": [],
   "source": [
    "shifted = y_train.index.values+pd.Timedelta(minutes = 15)"
   ]
  },
  {
   "cell_type": "code",
   "execution_count": 8,
   "id": "7acc736c",
   "metadata": {
    "execution": {
     "iopub.execute_input": "2023-05-28T20:14:11.292042Z",
     "iopub.status.busy": "2023-05-28T20:14:11.290959Z",
     "iopub.status.idle": "2023-05-28T20:17:30.072003Z",
     "shell.execute_reply": "2023-05-28T20:17:30.070624Z"
    },
    "papermill": {
     "duration": 198.793761,
     "end_time": "2023-05-28T20:17:30.074945",
     "exception": false,
     "start_time": "2023-05-28T20:14:11.281184",
     "status": "completed"
    },
    "tags": []
   },
   "outputs": [],
   "source": [
    "\n",
    "index = sorted(set(shifted).intersection(X_train.index.values))\n",
    "y_train = y_train.loc[index]\n",
    "y_train = y_train.dropna()\n",
    "index = y_train.index.values\n",
    "X_train = X_train.loc[index]"
   ]
  },
  {
   "cell_type": "code",
   "execution_count": 9,
   "id": "5fdfdc9f",
   "metadata": {
    "execution": {
     "iopub.execute_input": "2023-05-28T20:17:30.094336Z",
     "iopub.status.busy": "2023-05-28T20:17:30.093948Z",
     "iopub.status.idle": "2023-05-28T20:17:30.100096Z",
     "shell.execute_reply": "2023-05-28T20:17:30.099212Z"
    },
    "papermill": {
     "duration": 0.018618,
     "end_time": "2023-05-28T20:17:30.102362",
     "exception": false,
     "start_time": "2023-05-28T20:17:30.083744",
     "status": "completed"
    },
    "tags": []
   },
   "outputs": [
    {
     "data": {
      "text/plain": [
       "array([Timestamp('2019-01-16 13:36:00'), Timestamp('2019-01-16 13:36:10'),\n",
       "       Timestamp('2019-01-16 13:36:20'), ...,\n",
       "       Timestamp('2022-01-01 00:14:30'), Timestamp('2022-01-01 00:14:40'),\n",
       "       Timestamp('2022-01-01 00:14:50')], dtype=object)"
      ]
     },
     "execution_count": 9,
     "metadata": {},
     "output_type": "execute_result"
    }
   ],
   "source": [
    "shifted"
   ]
  },
  {
   "cell_type": "code",
   "execution_count": 10,
   "id": "c0db6641",
   "metadata": {
    "execution": {
     "iopub.execute_input": "2023-05-28T20:17:30.121848Z",
     "iopub.status.busy": "2023-05-28T20:17:30.121125Z",
     "iopub.status.idle": "2023-05-28T20:17:30.127598Z",
     "shell.execute_reply": "2023-05-28T20:17:30.126440Z"
    },
    "papermill": {
     "duration": 0.019337,
     "end_time": "2023-05-28T20:17:30.130239",
     "exception": false,
     "start_time": "2023-05-28T20:17:30.110902",
     "status": "completed"
    },
    "tags": []
   },
   "outputs": [
    {
     "data": {
      "text/plain": [
       "array([Timestamp('2019-01-16 13:36:00'), Timestamp('2019-01-16 13:36:10'),\n",
       "       Timestamp('2019-01-16 13:36:20'), ...,\n",
       "       Timestamp('2021-06-21 19:43:00'), Timestamp('2021-07-01 23:41:10'),\n",
       "       Timestamp('2021-09-17 14:14:30')], dtype=object)"
      ]
     },
     "execution_count": 10,
     "metadata": {},
     "output_type": "execute_result"
    }
   ],
   "source": [
    "X_train.index.values"
   ]
  },
  {
   "cell_type": "code",
   "execution_count": 11,
   "id": "2598f5d6",
   "metadata": {
    "execution": {
     "iopub.execute_input": "2023-05-28T20:17:30.150566Z",
     "iopub.status.busy": "2023-05-28T20:17:30.149873Z",
     "iopub.status.idle": "2023-05-28T20:17:30.154074Z",
     "shell.execute_reply": "2023-05-28T20:17:30.153306Z"
    },
    "papermill": {
     "duration": 0.017167,
     "end_time": "2023-05-28T20:17:30.156451",
     "exception": false,
     "start_time": "2023-05-28T20:17:30.139284",
     "status": "completed"
    },
    "tags": []
   },
   "outputs": [],
   "source": [
    "def featurize(df):\n",
    "    return df"
   ]
  },
  {
   "cell_type": "code",
   "execution_count": 12,
   "id": "79fc2131",
   "metadata": {
    "execution": {
     "iopub.execute_input": "2023-05-28T20:17:30.176147Z",
     "iopub.status.busy": "2023-05-28T20:17:30.175496Z",
     "iopub.status.idle": "2023-05-28T20:56:39.484972Z",
     "shell.execute_reply": "2023-05-28T20:56:39.483852Z"
    },
    "papermill": {
     "duration": 2349.322801,
     "end_time": "2023-05-28T20:56:39.487918",
     "exception": false,
     "start_time": "2023-05-28T20:17:30.165117",
     "status": "completed"
    },
    "tags": []
   },
   "outputs": [
    {
     "data": {
      "application/vnd.jupyter.widget-view+json": {
       "model_id": "acd7f2769de44ec283b2afa2221cb101",
       "version_major": 2,
       "version_minor": 0
      },
      "text/plain": [
       "MetricVisualizer(layout=Layout(align_self='stretch', height='500px'))"
      ]
     },
     "metadata": {},
     "output_type": "display_data"
    },
    {
     "name": "stdout",
     "output_type": "stream",
     "text": [
      "0:\tlearn: 0.6613828\ttest: 0.6636636\tbest: 0.6636636 (0)\ttotal: 637ms\tremaining: 1m 3s\n",
      "50:\tlearn: 0.1134394\ttest: 0.1152228\tbest: 0.1152228 (50)\ttotal: 21.9s\tremaining: 21s\n",
      "99:\tlearn: 0.0249812\ttest: 0.0256104\tbest: 0.0256104 (99)\ttotal: 42.6s\tremaining: 0us\n",
      "\n",
      "bestTest = 0.02561043884\n",
      "bestIteration = 99\n",
      "\n",
      "                                           0\n",
      "ТОК РОТОРА 1                        1.064417\n",
      "ТОК РОТОРА 2                        4.124927\n",
      "ТОК СТАТОРА                         1.676592\n",
      "ВИБРАЦИЯ НА ОПОРЕ 1                 1.458549\n",
      "ВИБРАЦИЯ НА ОПОРЕ 2                 1.047476\n",
      "ВИБРАЦИЯ НА ОПОРЕ 3                 3.035955\n",
      "ВИБРАЦИЯ НА ОПОРЕ 3. ПРОДОЛЬНАЯ     4.542801\n",
      "ВИБРАЦИЯ НА ОПОРЕ 4                 3.155106\n",
      "ВИБРАЦИЯ НА ОПОРЕ 4. ПРОДОЛЬНАЯ     5.233533\n",
      "ТЕМПЕРАТУРА ПОДШИПНИКА НА ОПОРЕ 1   8.331604\n",
      "ТЕМПЕРАТУРА ПОДШИПНИКА НА ОПОРЕ 2  15.497123\n",
      "ТЕМПЕРАТУРА ПОДШИПНИКА НА ОПОРЕ 3  38.109825\n",
      "ТЕМПЕРАТУРА ПОДШИПНИКА НА ОПОРЕ 4   4.604017\n",
      "ТЕМПЕРАТУРА МАСЛА В МАСЛОБЛОКЕ      2.201218\n",
      "ТЕМПЕРАТУРА МАСЛА В СИСТЕМЕ         3.254658\n",
      "ДАВЛЕНИЕ МАСЛА В СИСТЕМЕ            2.662200\n",
      "Y_ЭКСГАУСТЕР А/М №4_ЭЛЕКТРОДВИГАТЕЛЬ ДСПУ-140-84-4 ЭКСГ. №4 M1 1.0 1 0 0\n"
     ]
    },
    {
     "data": {
      "application/vnd.jupyter.widget-view+json": {
       "model_id": "7ab978952eef4fd09fa6e60e75301924",
       "version_major": 2,
       "version_minor": 0
      },
      "text/plain": [
       "MetricVisualizer(layout=Layout(align_self='stretch', height='500px'))"
      ]
     },
     "metadata": {},
     "output_type": "display_data"
    },
    {
     "name": "stdout",
     "output_type": "stream",
     "text": [
      "0:\tlearn: 0.6719616\ttest: 0.6713031\tbest: 0.6713031 (0)\ttotal: 498ms\tremaining: 49.3s\n",
      "50:\tlearn: 0.2501028\ttest: 0.2469733\tbest: 0.2469733 (50)\ttotal: 21.5s\tremaining: 20.7s\n",
      "99:\tlearn: 0.1432419\ttest: 0.1401783\tbest: 0.1401783 (99)\ttotal: 42.1s\tremaining: 0us\n",
      "\n",
      "bestTest = 0.1401782993\n",
      "bestIteration = 99\n",
      "\n",
      "                                           0\n",
      "ТОК РОТОРА 1                        9.306228\n",
      "ТОК РОТОРА 2                       10.993435\n",
      "ТОК СТАТОРА                         1.676547\n",
      "ВИБРАЦИЯ НА ОПОРЕ 1                 0.702175\n",
      "ВИБРАЦИЯ НА ОПОРЕ 2                 1.043295\n",
      "ВИБРАЦИЯ НА ОПОРЕ 3                 2.880561\n",
      "ВИБРАЦИЯ НА ОПОРЕ 3. ПРОДОЛЬНАЯ     9.426707\n",
      "ВИБРАЦИЯ НА ОПОРЕ 4                 6.577194\n",
      "ВИБРАЦИЯ НА ОПОРЕ 4. ПРОДОЛЬНАЯ     5.588620\n",
      "ТЕМПЕРАТУРА ПОДШИПНИКА НА ОПОРЕ 1   2.344190\n",
      "ТЕМПЕРАТУРА ПОДШИПНИКА НА ОПОРЕ 2  13.234310\n",
      "ТЕМПЕРАТУРА ПОДШИПНИКА НА ОПОРЕ 3   1.840994\n",
      "ТЕМПЕРАТУРА ПОДШИПНИКА НА ОПОРЕ 4   0.397307\n",
      "ТЕМПЕРАТУРА МАСЛА В МАСЛОБЛОКЕ      0.000000\n",
      "ТЕМПЕРАТУРА МАСЛА В СИСТЕМЕ        25.424885\n",
      "ДАВЛЕНИЕ МАСЛА В СИСТЕМЕ            8.563553\n",
      "Y_ЭКСГАУСТЕР А/М №4_ЭЛЕКТРОДВИГАТЕЛЬ ДСПУ-140-84-4 ЭКСГ. №4 M3 0.9617834394904459 4530 49 131\n"
     ]
    },
    {
     "data": {
      "application/vnd.jupyter.widget-view+json": {
       "model_id": "5b1d322784a34c05a24f6ee15a82c84f",
       "version_major": 2,
       "version_minor": 0
      },
      "text/plain": [
       "MetricVisualizer(layout=Layout(align_self='stretch', height='500px'))"
      ]
     },
     "metadata": {},
     "output_type": "display_data"
    },
    {
     "name": "stdout",
     "output_type": "stream",
     "text": [
      "0:\tlearn: 0.6745754\ttest: 0.6734724\tbest: 0.6734724 (0)\ttotal: 475ms\tremaining: 47s\n",
      "50:\tlearn: 0.2749761\ttest: 0.2649172\tbest: 0.2649172 (50)\ttotal: 21.9s\tremaining: 21s\n",
      "99:\tlearn: 0.1627577\ttest: 0.1535036\tbest: 0.1535036 (99)\ttotal: 42.8s\tremaining: 0us\n",
      "\n",
      "bestTest = 0.1535035765\n",
      "bestIteration = 99\n",
      "\n",
      "                                           0\n",
      "ТОК РОТОРА 1                        7.608932\n",
      "ТОК РОТОРА 2                        7.526446\n",
      "ТОК СТАТОРА                         1.913277\n",
      "ВИБРАЦИЯ НА ОПОРЕ 1                 0.417148\n",
      "ВИБРАЦИЯ НА ОПОРЕ 2                 2.148652\n",
      "ВИБРАЦИЯ НА ОПОРЕ 3                 0.361974\n",
      "ВИБРАЦИЯ НА ОПОРЕ 3. ПРОДОЛЬНАЯ     4.926464\n",
      "ВИБРАЦИЯ НА ОПОРЕ 4                 7.022787\n",
      "ВИБРАЦИЯ НА ОПОРЕ 4. ПРОДОЛЬНАЯ    15.125871\n",
      "ТЕМПЕРАТУРА ПОДШИПНИКА НА ОПОРЕ 1   4.806963\n",
      "ТЕМПЕРАТУРА ПОДШИПНИКА НА ОПОРЕ 2  14.806034\n",
      "ТЕМПЕРАТУРА ПОДШИПНИКА НА ОПОРЕ 3   4.340124\n",
      "ТЕМПЕРАТУРА ПОДШИПНИКА НА ОПОРЕ 4   0.111277\n",
      "ТЕМПЕРАТУРА МАСЛА В МАСЛОБЛОКЕ      0.000000\n",
      "ТЕМПЕРАТУРА МАСЛА В СИСТЕМЕ        19.861070\n",
      "ДАВЛЕНИЕ МАСЛА В СИСТЕМЕ            9.022979\n",
      "Y_ЭКСГАУСТЕР А/М №4_ПОДШИПНИК ОПОРНЫЙ ЭКСГ. №4 M3 0.9564397510842919 5072 133 98\n"
     ]
    },
    {
     "data": {
      "application/vnd.jupyter.widget-view+json": {
       "model_id": "596aae96e5aa4301861d9f7ce502430d",
       "version_major": 2,
       "version_minor": 0
      },
      "text/plain": [
       "MetricVisualizer(layout=Layout(align_self='stretch', height='500px'))"
      ]
     },
     "metadata": {},
     "output_type": "display_data"
    },
    {
     "name": "stdout",
     "output_type": "stream",
     "text": [
      "0:\tlearn: 0.6665141\ttest: 0.6674652\tbest: 0.6674652 (0)\ttotal: 486ms\tremaining: 48.1s\n",
      "50:\tlearn: 0.1732057\ttest: 0.1733373\tbest: 0.1733373 (50)\ttotal: 24.2s\tremaining: 23.3s\n",
      "99:\tlearn: 0.0800520\ttest: 0.0820227\tbest: 0.0820227 (99)\ttotal: 46.9s\tremaining: 0us\n",
      "\n",
      "bestTest = 0.0820226505\n",
      "bestIteration = 99\n",
      "\n",
      "                                           0\n",
      "ТОК РОТОРА 1                        1.080538\n",
      "ТОК РОТОРА 2                        1.732358\n",
      "ТОК СТАТОРА                         0.803796\n",
      "ВИБРАЦИЯ НА ОПОРЕ 1                18.710504\n",
      "ВИБРАЦИЯ НА ОПОРЕ 2                 0.730343\n",
      "ВИБРАЦИЯ НА ОПОРЕ 3                 2.300436\n",
      "ВИБРАЦИЯ НА ОПОРЕ 3. ПРОДОЛЬНАЯ    11.388071\n",
      "ВИБРАЦИЯ НА ОПОРЕ 4                 5.703959\n",
      "ВИБРАЦИЯ НА ОПОРЕ 4. ПРОДОЛЬНАЯ    31.020909\n",
      "ТЕМПЕРАТУРА ПОДШИПНИКА НА ОПОРЕ 1   1.875451\n",
      "ТЕМПЕРАТУРА ПОДШИПНИКА НА ОПОРЕ 2   1.544497\n",
      "ТЕМПЕРАТУРА ПОДШИПНИКА НА ОПОРЕ 3   0.228582\n",
      "ТЕМПЕРАТУРА ПОДШИПНИКА НА ОПОРЕ 4   4.479031\n",
      "ТЕМПЕРАТУРА МАСЛА В МАСЛОБЛОКЕ      0.430749\n",
      "ТЕМПЕРАТУРА МАСЛА В СИСТЕМЕ         2.509328\n",
      "ДАВЛЕНИЕ МАСЛА В СИСТЕМЕ           15.461449\n",
      "Y_ЭКСГАУСТЕР А/М №4_УЛИТА ЭКСГ. №4 M3 0.9821871476888387 8712 111 47\n"
     ]
    },
    {
     "data": {
      "application/vnd.jupyter.widget-view+json": {
       "model_id": "ed10ca24857d443b9124138ac0c0be60",
       "version_major": 2,
       "version_minor": 0
      },
      "text/plain": [
       "MetricVisualizer(layout=Layout(align_self='stretch', height='500px'))"
      ]
     },
     "metadata": {},
     "output_type": "display_data"
    },
    {
     "name": "stdout",
     "output_type": "stream",
     "text": [
      "0:\tlearn: 0.6727746\ttest: 0.6720750\tbest: 0.6720750 (0)\ttotal: 560ms\tremaining: 55.4s\n",
      "50:\tlearn: 0.2480396\ttest: 0.2579135\tbest: 0.2579135 (50)\ttotal: 21.8s\tremaining: 21s\n",
      "99:\tlearn: 0.1536046\ttest: 0.1653195\tbest: 0.1653195 (99)\ttotal: 42.2s\tremaining: 0us\n",
      "\n",
      "bestTest = 0.1653195045\n",
      "bestIteration = 99\n",
      "\n",
      "                                           0\n",
      "ТОК РОТОРА 1                       18.048482\n",
      "ТОК РОТОРА 2                       25.813955\n",
      "ТОК СТАТОРА                         0.218650\n",
      "ВИБРАЦИЯ НА ОПОРЕ 1                11.658849\n",
      "ВИБРАЦИЯ НА ОПОРЕ 2                 3.802685\n",
      "ВИБРАЦИЯ НА ОПОРЕ 3                 1.139839\n",
      "ВИБРАЦИЯ НА ОПОРЕ 3. ПРОДОЛЬНАЯ     5.158720\n",
      "ВИБРАЦИЯ НА ОПОРЕ 4                 4.032927\n",
      "ВИБРАЦИЯ НА ОПОРЕ 4. ПРОДОЛЬНАЯ     3.543961\n",
      "ТЕМПЕРАТУРА ПОДШИПНИКА НА ОПОРЕ 1   8.117913\n",
      "ТЕМПЕРАТУРА ПОДШИПНИКА НА ОПОРЕ 2   1.732085\n",
      "ТЕМПЕРАТУРА ПОДШИПНИКА НА ОПОРЕ 3   0.510055\n",
      "ТЕМПЕРАТУРА ПОДШИПНИКА НА ОПОРЕ 4   1.095524\n",
      "ТЕМПЕРАТУРА МАСЛА В МАСЛОБЛОКЕ      0.000000\n",
      "ТЕМПЕРАТУРА МАСЛА В СИСТЕМЕ         6.959990\n",
      "ДАВЛЕНИЕ МАСЛА В СИСТЕМЕ            8.166365\n",
      "Y_ЭКСГАУСТЕР А/М №4_РЕДУКТОР ГАЗ. ЗАДВИЖКИ ЭКСГ. №4 M3 0.9403616775682955 7332 311 154\n"
     ]
    },
    {
     "data": {
      "application/vnd.jupyter.widget-view+json": {
       "model_id": "5f2863000f1a49d9af1b0bcceed293a4",
       "version_major": 2,
       "version_minor": 0
      },
      "text/plain": [
       "MetricVisualizer(layout=Layout(align_self='stretch', height='500px'))"
      ]
     },
     "metadata": {},
     "output_type": "display_data"
    },
    {
     "name": "stdout",
     "output_type": "stream",
     "text": [
      "0:\tlearn: 0.6641601\ttest: 0.6658722\tbest: 0.6658722 (0)\ttotal: 454ms\tremaining: 44.9s\n",
      "50:\tlearn: 0.1437278\ttest: 0.1406844\tbest: 0.1406844 (50)\ttotal: 23.5s\tremaining: 22.6s\n",
      "99:\tlearn: 0.0498665\ttest: 0.0478242\tbest: 0.0478242 (99)\ttotal: 48.7s\tremaining: 0us\n",
      "\n",
      "bestTest = 0.04782417908\n",
      "bestIteration = 99\n",
      "\n",
      "                                           0\n",
      "ТОК РОТОРА 1                        9.754934\n",
      "ТОК РОТОРА 2                       17.130407\n",
      "ТОК СТАТОРА                         0.000000\n",
      "ВИБРАЦИЯ НА ОПОРЕ 1                 1.682893\n",
      "ВИБРАЦИЯ НА ОПОРЕ 2                 1.250803\n",
      "ВИБРАЦИЯ НА ОПОРЕ 3                11.786462\n",
      "ВИБРАЦИЯ НА ОПОРЕ 3. ПРОДОЛЬНАЯ     1.198567\n",
      "ВИБРАЦИЯ НА ОПОРЕ 4                 1.193957\n",
      "ВИБРАЦИЯ НА ОПОРЕ 4. ПРОДОЛЬНАЯ    12.063379\n",
      "ТЕМПЕРАТУРА ПОДШИПНИКА НА ОПОРЕ 1  10.207234\n",
      "ТЕМПЕРАТУРА ПОДШИПНИКА НА ОПОРЕ 2   0.452845\n",
      "ТЕМПЕРАТУРА ПОДШИПНИКА НА ОПОРЕ 3   0.571351\n",
      "ТЕМПЕРАТУРА ПОДШИПНИКА НА ОПОРЕ 4   4.423174\n",
      "ТЕМПЕРАТУРА МАСЛА В МАСЛОБЛОКЕ      0.035452\n",
      "ТЕМПЕРАТУРА МАСЛА В СИСТЕМЕ         1.244163\n",
      "ДАВЛЕНИЕ МАСЛА В СИСТЕМЕ           27.004379\n",
      "Y_ЭКСГАУСТЕР А/М №4_МАСЛОНАСОС РАБОЧИЙ ЭКСГ. №4 M3 0.9562383612662942 1027 0 47\n"
     ]
    },
    {
     "data": {
      "application/vnd.jupyter.widget-view+json": {
       "model_id": "c006a8033f744d12bbee0b3d2cd5bf06",
       "version_major": 2,
       "version_minor": 0
      },
      "text/plain": [
       "MetricVisualizer(layout=Layout(align_self='stretch', height='500px'))"
      ]
     },
     "metadata": {},
     "output_type": "display_data"
    },
    {
     "name": "stdout",
     "output_type": "stream",
     "text": [
      "0:\tlearn: 0.6613789\ttest: 0.6636006\tbest: 0.6636006 (0)\ttotal: 410ms\tremaining: 40.5s\n",
      "50:\tlearn: 0.1133379\ttest: 0.1135645\tbest: 0.1135645 (50)\ttotal: 21.8s\tremaining: 20.9s\n",
      "99:\tlearn: 0.0249530\ttest: 0.0249851\tbest: 0.0249851 (99)\ttotal: 42.6s\tremaining: 0us\n",
      "\n",
      "bestTest = 0.02498509664\n",
      "bestIteration = 99\n",
      "\n",
      "                                          0\n",
      "ТОК РОТОРА 1                       4.053642\n",
      "ТОК РОТОРА 2                       4.120456\n",
      "ТОК СТАТОРА                        4.809121\n",
      "ВИБРАЦИЯ НА ОПОРЕ 1                7.620260\n",
      "ВИБРАЦИЯ НА ОПОРЕ 2                8.455100\n",
      "ВИБРАЦИЯ НА ОПОРЕ 3                8.169876\n",
      "ВИБРАЦИЯ НА ОПОРЕ 3. ПРОДОЛЬНАЯ    7.970618\n",
      "ВИБРАЦИЯ НА ОПОРЕ 4                7.936205\n",
      "ВИБРАЦИЯ НА ОПОРЕ 4. ПРОДОЛЬНАЯ    9.194613\n",
      "ТЕМПЕРАТУРА ПОДШИПНИКА НА ОПОРЕ 1  5.386198\n",
      "ТЕМПЕРАТУРА ПОДШИПНИКА НА ОПОРЕ 2  5.904563\n",
      "ТЕМПЕРАТУРА ПОДШИПНИКА НА ОПОРЕ 3  5.945419\n",
      "ТЕМПЕРАТУРА ПОДШИПНИКА НА ОПОРЕ 4  5.420539\n",
      "ТЕМПЕРАТУРА МАСЛА В МАСЛОБЛОКЕ     5.158737\n",
      "ТЕМПЕРАТУРА МАСЛА В СИСТЕМЕ        3.824871\n",
      "ДАВЛЕНИЕ МАСЛА В СИСТЕМЕ           6.029783\n",
      "Y_ЭКСГАУСТЕР А/М №4_ЭЛЕКТРОАППАРАТУРА ЭКСГ. №4 M1 None 0 0 0\n"
     ]
    },
    {
     "data": {
      "application/vnd.jupyter.widget-view+json": {
       "model_id": "9bf25a595e7d460997c7cd0d786dbc5c",
       "version_major": 2,
       "version_minor": 0
      },
      "text/plain": [
       "MetricVisualizer(layout=Layout(align_self='stretch', height='500px'))"
      ]
     },
     "metadata": {},
     "output_type": "display_data"
    },
    {
     "name": "stdout",
     "output_type": "stream",
     "text": [
      "0:\tlearn: 0.6636329\ttest: 0.6648914\tbest: 0.6648914 (0)\ttotal: 331ms\tremaining: 32.8s\n",
      "50:\tlearn: 0.1342540\ttest: 0.1348675\tbest: 0.1348675 (50)\ttotal: 18.1s\tremaining: 17.3s\n",
      "99:\tlearn: 0.0419262\ttest: 0.0414738\tbest: 0.0414738 (99)\ttotal: 35.6s\tremaining: 0us\n",
      "\n",
      "bestTest = 0.04147376334\n",
      "bestIteration = 99\n",
      "\n",
      "                                           0\n",
      "ТОК РОТОРА 1                       29.693452\n",
      "ТОК РОТОРА 2                       35.247589\n",
      "ТОК СТАТОРА                         0.008406\n",
      "ВИБРАЦИЯ НА ОПОРЕ 1                 0.369253\n",
      "ВИБРАЦИЯ НА ОПОРЕ 2                 0.836024\n",
      "ВИБРАЦИЯ НА ОПОРЕ 3                 0.859114\n",
      "ВИБРАЦИЯ НА ОПОРЕ 3. ПРОДОЛЬНАЯ     6.961429\n",
      "ВИБРАЦИЯ НА ОПОРЕ 4                 5.402160\n",
      "ВИБРАЦИЯ НА ОПОРЕ 4. ПРОДОЛЬНАЯ    10.077746\n",
      "ТЕМПЕРАТУРА ПОДШИПНИКА НА ОПОРЕ 1   0.000000\n",
      "ТЕМПЕРАТУРА ПОДШИПНИКА НА ОПОРЕ 2   0.133165\n",
      "ТЕМПЕРАТУРА ПОДШИПНИКА НА ОПОРЕ 3   0.000000\n",
      "ТЕМПЕРАТУРА ПОДШИПНИКА НА ОПОРЕ 4   0.686174\n",
      "ТЕМПЕРАТУРА МАСЛА В МАСЛОБЛОКЕ      0.179274\n",
      "ТЕМПЕРАТУРА МАСЛА В СИСТЕМЕ         4.666909\n",
      "ДАВЛЕНИЕ МАСЛА В СИСТЕМЕ            4.879306\n",
      "Y_ЭКСГАУСТЕР А/М №4_ЭЛЕКТРОАППАРАТУРА ЭКСГ. №4 M3 0.965412004069176 949 4 30\n"
     ]
    },
    {
     "data": {
      "application/vnd.jupyter.widget-view+json": {
       "model_id": "963580e66caa4fa28a8c598a9c2c210c",
       "version_major": 2,
       "version_minor": 0
      },
      "text/plain": [
       "MetricVisualizer(layout=Layout(align_self='stretch', height='500px'))"
      ]
     },
     "metadata": {},
     "output_type": "display_data"
    },
    {
     "name": "stdout",
     "output_type": "stream",
     "text": [
      "0:\tlearn: 0.6613787\ttest: 0.6636015\tbest: 0.6636015 (0)\ttotal: 417ms\tremaining: 41.3s\n",
      "50:\tlearn: 0.1133361\ttest: 0.1135605\tbest: 0.1135605 (50)\ttotal: 21.3s\tremaining: 20.5s\n",
      "99:\tlearn: 0.0249486\ttest: 0.0249820\tbest: 0.0249820 (99)\ttotal: 42.2s\tremaining: 0us\n",
      "\n",
      "bestTest = 0.02498201238\n",
      "bestIteration = 99\n",
      "\n",
      "                                           0\n",
      "ТОК РОТОРА 1                        8.708380\n",
      "ТОК РОТОРА 2                        3.296473\n",
      "ТОК СТАТОРА                         9.898328\n",
      "ВИБРАЦИЯ НА ОПОРЕ 1                10.996101\n",
      "ВИБРАЦИЯ НА ОПОРЕ 2                 4.690878\n",
      "ВИБРАЦИЯ НА ОПОРЕ 3                 4.955939\n",
      "ВИБРАЦИЯ НА ОПОРЕ 3. ПРОДОЛЬНАЯ     5.531414\n",
      "ВИБРАЦИЯ НА ОПОРЕ 4                 4.206409\n",
      "ВИБРАЦИЯ НА ОПОРЕ 4. ПРОДОЛЬНАЯ     5.583565\n",
      "ТЕМПЕРАТУРА ПОДШИПНИКА НА ОПОРЕ 1  12.510321\n",
      "ТЕМПЕРАТУРА ПОДШИПНИКА НА ОПОРЕ 2   3.640757\n",
      "ТЕМПЕРАТУРА ПОДШИПНИКА НА ОПОРЕ 3   3.457106\n",
      "ТЕМПЕРАТУРА ПОДШИПНИКА НА ОПОРЕ 4   6.165441\n",
      "ТЕМПЕРАТУРА МАСЛА В МАСЛОБЛОКЕ      3.113690\n",
      "ТЕМПЕРАТУРА МАСЛА В СИСТЕМЕ         2.364027\n",
      "ДАВЛЕНИЕ МАСЛА В СИСТЕМЕ           10.881171\n",
      "Y_ЭКСГАУСТЕР А/М №4_ПОДШИПНИК ОПОРНЫЙ №2 ЭКСГ. №4 M1 None 0 0 0\n"
     ]
    },
    {
     "data": {
      "application/vnd.jupyter.widget-view+json": {
       "model_id": "0a673927f43f41d296705e41f7d0923c",
       "version_major": 2,
       "version_minor": 0
      },
      "text/plain": [
       "MetricVisualizer(layout=Layout(align_self='stretch', height='500px'))"
      ]
     },
     "metadata": {},
     "output_type": "display_data"
    },
    {
     "name": "stdout",
     "output_type": "stream",
     "text": [
      "0:\tlearn: 0.6695598\ttest: 0.6691941\tbest: 0.6691941 (0)\ttotal: 475ms\tremaining: 47s\n",
      "50:\tlearn: 0.1723063\ttest: 0.1774234\tbest: 0.1774234 (50)\ttotal: 22.8s\tremaining: 21.9s\n",
      "99:\tlearn: 0.0815599\ttest: 0.0873268\tbest: 0.0873268 (99)\ttotal: 42.9s\tremaining: 0us\n",
      "\n",
      "bestTest = 0.08732678709\n",
      "bestIteration = 99\n",
      "\n",
      "                                           0\n",
      "ТОК РОТОРА 1                        8.713919\n",
      "ТОК РОТОРА 2                        9.397961\n",
      "ТОК СТАТОРА                         0.056949\n",
      "ВИБРАЦИЯ НА ОПОРЕ 1                 4.005743\n",
      "ВИБРАЦИЯ НА ОПОРЕ 2                 2.933841\n",
      "ВИБРАЦИЯ НА ОПОРЕ 3                17.986548\n",
      "ВИБРАЦИЯ НА ОПОРЕ 3. ПРОДОЛЬНАЯ     3.475311\n",
      "ВИБРАЦИЯ НА ОПОРЕ 4                 0.000000\n",
      "ВИБРАЦИЯ НА ОПОРЕ 4. ПРОДОЛЬНАЯ     2.580018\n",
      "ТЕМПЕРАТУРА ПОДШИПНИКА НА ОПОРЕ 1   0.506463\n",
      "ТЕМПЕРАТУРА ПОДШИПНИКА НА ОПОРЕ 2  21.736839\n",
      "ТЕМПЕРАТУРА ПОДШИПНИКА НА ОПОРЕ 3   1.140157\n",
      "ТЕМПЕРАТУРА ПОДШИПНИКА НА ОПОРЕ 4   0.000000\n",
      "ТЕМПЕРАТУРА МАСЛА В МАСЛОБЛОКЕ      0.183125\n",
      "ТЕМПЕРАТУРА МАСЛА В СИСТЕМЕ        10.200374\n",
      "ДАВЛЕНИЕ МАСЛА В СИСТЕМЕ           17.082753\n",
      "Y_ЭКСГАУСТЕР А/М №4_ПОДШИПНИК ОПОРНЫЙ №2 ЭКСГ. №4 M3 0.9191279887482419 1307 9 106\n"
     ]
    },
    {
     "data": {
      "application/vnd.jupyter.widget-view+json": {
       "model_id": "c942e0d84aaa47d9abea0bc293c07f35",
       "version_major": 2,
       "version_minor": 0
      },
      "text/plain": [
       "MetricVisualizer(layout=Layout(align_self='stretch', height='500px'))"
      ]
     },
     "metadata": {},
     "output_type": "display_data"
    },
    {
     "name": "stdout",
     "output_type": "stream",
     "text": [
      "0:\tlearn: 0.6614027\ttest: 0.6636066\tbest: 0.6636066 (0)\ttotal: 411ms\tremaining: 40.6s\n",
      "50:\tlearn: 0.1137167\ttest: 0.1136754\tbest: 0.1136754 (50)\ttotal: 21.7s\tremaining: 20.9s\n",
      "99:\tlearn: 0.0253049\ttest: 0.0250824\tbest: 0.0250824 (99)\ttotal: 41.5s\tremaining: 0us\n",
      "\n",
      "bestTest = 0.02508241126\n",
      "bestIteration = 99\n",
      "\n",
      "                                           0\n",
      "ТОК РОТОРА 1                        4.970095\n",
      "ТОК РОТОРА 2                        3.682640\n",
      "ТОК СТАТОРА                         4.494497\n",
      "ВИБРАЦИЯ НА ОПОРЕ 1                 5.263255\n",
      "ВИБРАЦИЯ НА ОПОРЕ 2                 3.179703\n",
      "ВИБРАЦИЯ НА ОПОРЕ 3                 3.653612\n",
      "ВИБРАЦИЯ НА ОПОРЕ 3. ПРОДОЛЬНАЯ     5.013287\n",
      "ВИБРАЦИЯ НА ОПОРЕ 4                 4.399580\n",
      "ВИБРАЦИЯ НА ОПОРЕ 4. ПРОДОЛЬНАЯ     1.465282\n",
      "ТЕМПЕРАТУРА ПОДШИПНИКА НА ОПОРЕ 1   6.505881\n",
      "ТЕМПЕРАТУРА ПОДШИПНИКА НА ОПОРЕ 2   2.002505\n",
      "ТЕМПЕРАТУРА ПОДШИПНИКА НА ОПОРЕ 3   2.574374\n",
      "ТЕМПЕРАТУРА ПОДШИПНИКА НА ОПОРЕ 4   5.200817\n",
      "ТЕМПЕРАТУРА МАСЛА В МАСЛОБЛОКЕ      4.156429\n",
      "ТЕМПЕРАТУРА МАСЛА В СИСТЕМЕ        18.039365\n",
      "ДАВЛЕНИЕ МАСЛА В СИСТЕМЕ           25.398677\n",
      "Y_ЭКСГАУСТЕР А/М №4_ЗАДВИЖКА ЭКСГ. №4 M1 None 0 0 0\n"
     ]
    },
    {
     "data": {
      "application/vnd.jupyter.widget-view+json": {
       "model_id": "3264454006a742af91a7a7bd0728f591",
       "version_major": 2,
       "version_minor": 0
      },
      "text/plain": [
       "MetricVisualizer(layout=Layout(align_self='stretch', height='500px'))"
      ]
     },
     "metadata": {},
     "output_type": "display_data"
    },
    {
     "name": "stdout",
     "output_type": "stream",
     "text": [
      "0:\tlearn: 0.6694956\ttest: 0.6700801\tbest: 0.6700801 (0)\ttotal: 467ms\tremaining: 46.3s\n",
      "50:\tlearn: 0.2115871\ttest: 0.2129652\tbest: 0.2129652 (50)\ttotal: 21.3s\tremaining: 20.5s\n",
      "99:\tlearn: 0.1179262\ttest: 0.1184692\tbest: 0.1184692 (99)\ttotal: 42.6s\tremaining: 0us\n",
      "\n",
      "bestTest = 0.118469212\n",
      "bestIteration = 99\n",
      "\n",
      "                                           0\n",
      "ТОК РОТОРА 1                        2.856528\n",
      "ТОК РОТОРА 2                        3.675043\n",
      "ТОК СТАТОРА                         1.066772\n",
      "ВИБРАЦИЯ НА ОПОРЕ 1                 2.119706\n",
      "ВИБРАЦИЯ НА ОПОРЕ 2                 2.026630\n",
      "ВИБРАЦИЯ НА ОПОРЕ 3                 4.655345\n",
      "ВИБРАЦИЯ НА ОПОРЕ 3. ПРОДОЛЬНАЯ    12.902063\n",
      "ВИБРАЦИЯ НА ОПОРЕ 4                 4.088182\n",
      "ВИБРАЦИЯ НА ОПОРЕ 4. ПРОДОЛЬНАЯ    17.906471\n",
      "ТЕМПЕРАТУРА ПОДШИПНИКА НА ОПОРЕ 1   7.022679\n",
      "ТЕМПЕРАТУРА ПОДШИПНИКА НА ОПОРЕ 2   6.114623\n",
      "ТЕМПЕРАТУРА ПОДШИПНИКА НА ОПОРЕ 3   2.073801\n",
      "ТЕМПЕРАТУРА ПОДШИПНИКА НА ОПОРЕ 4   1.476106\n",
      "ТЕМПЕРАТУРА МАСЛА В МАСЛОБЛОКЕ      1.990582\n",
      "ТЕМПЕРАТУРА МАСЛА В СИСТЕМЕ         2.733736\n",
      "ДАВЛЕНИЕ МАСЛА В СИСТЕМЕ           27.291734\n",
      "Y_ЭКСГАУСТЕР А/М №4_ЗАДВИЖКА ЭКСГ. №4 M3 0.7663335895465027 997 91 213\n"
     ]
    },
    {
     "data": {
      "application/vnd.jupyter.widget-view+json": {
       "model_id": "25acd5c4d67e4f2b9327516e1174e637",
       "version_major": 2,
       "version_minor": 0
      },
      "text/plain": [
       "MetricVisualizer(layout=Layout(align_self='stretch', height='500px'))"
      ]
     },
     "metadata": {},
     "output_type": "display_data"
    },
    {
     "name": "stdout",
     "output_type": "stream",
     "text": [
      "0:\tlearn: 0.6692396\ttest: 0.6687460\tbest: 0.6687460 (0)\ttotal: 381ms\tremaining: 37.7s\n",
      "50:\tlearn: 0.1960450\ttest: 0.1947895\tbest: 0.1947895 (50)\ttotal: 18.6s\tremaining: 17.9s\n",
      "99:\tlearn: 0.1045086\ttest: 0.0986560\tbest: 0.0986560 (99)\ttotal: 37.6s\tremaining: 0us\n",
      "\n",
      "bestTest = 0.09865601709\n",
      "bestIteration = 99\n",
      "\n",
      "                                           0\n",
      "ТОК РОТОРА 1                        6.459319\n",
      "ТОК РОТОРА 2                        5.832863\n",
      "ТОК СТАТОРА                         0.662305\n",
      "ВИБРАЦИЯ НА ОПОРЕ 1                 8.946741\n",
      "ВИБРАЦИЯ НА ОПОРЕ 2                 1.093361\n",
      "ВИБРАЦИЯ НА ОПОРЕ 3                11.180803\n",
      "ВИБРАЦИЯ НА ОПОРЕ 3. ПРОДОЛЬНАЯ    19.091258\n",
      "ВИБРАЦИЯ НА ОПОРЕ 4                11.961319\n",
      "ВИБРАЦИЯ НА ОПОРЕ 4. ПРОДОЛЬНАЯ    14.610170\n",
      "ТЕМПЕРАТУРА ПОДШИПНИКА НА ОПОРЕ 1   4.001252\n",
      "ТЕМПЕРАТУРА ПОДШИПНИКА НА ОПОРЕ 2   1.458299\n",
      "ТЕМПЕРАТУРА ПОДШИПНИКА НА ОПОРЕ 3   2.499476\n",
      "ТЕМПЕРАТУРА ПОДШИПНИКА НА ОПОРЕ 4   4.213657\n",
      "ТЕМПЕРАТУРА МАСЛА В МАСЛОБЛОКЕ      0.000000\n",
      "ТЕМПЕРАТУРА МАСЛА В СИСТЕМЕ         0.541180\n",
      "ДАВЛЕНИЕ МАСЛА В СИСТЕМЕ            7.447996\n",
      "Y_ЭКСГАУСТЕР А/М №4_ГСМ ЭКСГ. №4 M3 0.7518181818181818 827 28 245\n"
     ]
    },
    {
     "data": {
      "application/vnd.jupyter.widget-view+json": {
       "model_id": "e02312b600504548a4eca54cc1d217f1",
       "version_major": 2,
       "version_minor": 0
      },
      "text/plain": [
       "MetricVisualizer(layout=Layout(align_self='stretch', height='500px'))"
      ]
     },
     "metadata": {},
     "output_type": "display_data"
    },
    {
     "name": "stdout",
     "output_type": "stream",
     "text": [
      "0:\tlearn: 0.6613833\ttest: 0.6636022\tbest: 0.6636022 (0)\ttotal: 409ms\tremaining: 40.5s\n",
      "50:\tlearn: 0.1134724\ttest: 0.1135930\tbest: 0.1135930 (50)\ttotal: 21.7s\tremaining: 20.9s\n",
      "99:\tlearn: 0.0251072\ttest: 0.0250137\tbest: 0.0250137 (99)\ttotal: 42.4s\tremaining: 0us\n",
      "\n",
      "bestTest = 0.02501369653\n",
      "bestIteration = 99\n",
      "\n",
      "                                           0\n",
      "ТОК РОТОРА 1                        0.282202\n",
      "ТОК РОТОРА 2                        0.519003\n",
      "ТОК СТАТОРА                         0.588148\n",
      "ВИБРАЦИЯ НА ОПОРЕ 1                 0.857083\n",
      "ВИБРАЦИЯ НА ОПОРЕ 2                 4.812766\n",
      "ВИБРАЦИЯ НА ОПОРЕ 3                 0.902067\n",
      "ВИБРАЦИЯ НА ОПОРЕ 3. ПРОДОЛЬНАЯ     3.993906\n",
      "ВИБРАЦИЯ НА ОПОРЕ 4                43.380965\n",
      "ВИБРАЦИЯ НА ОПОРЕ 4. ПРОДОЛЬНАЯ    13.071791\n",
      "ТЕМПЕРАТУРА ПОДШИПНИКА НА ОПОРЕ 1   0.680918\n",
      "ТЕМПЕРАТУРА ПОДШИПНИКА НА ОПОРЕ 2  26.374167\n",
      "ТЕМПЕРАТУРА ПОДШИПНИКА НА ОПОРЕ 3   0.648789\n",
      "ТЕМПЕРАТУРА ПОДШИПНИКА НА ОПОРЕ 4   1.039174\n",
      "ТЕМПЕРАТУРА МАСЛА В МАСЛОБЛОКЕ      0.754802\n",
      "ТЕМПЕРАТУРА МАСЛА В СИСТЕМЕ         0.612498\n",
      "ДАВЛЕНИЕ МАСЛА В СИСТЕМЕ            1.481721\n",
      "Y_ЭКСГАУСТЕР А/М №4_ВК 310С ВИБРОПРЕОБРАЗОВАТЕЛЬ ЭКСГ.№4 Т.1 M3 0.0 0 0 1\n"
     ]
    },
    {
     "data": {
      "application/vnd.jupyter.widget-view+json": {
       "model_id": "855bb0d9a3a543c68a40d1712dd8cb6a",
       "version_major": 2,
       "version_minor": 0
      },
      "text/plain": [
       "MetricVisualizer(layout=Layout(align_self='stretch', height='500px'))"
      ]
     },
     "metadata": {},
     "output_type": "display_data"
    },
    {
     "name": "stdout",
     "output_type": "stream",
     "text": [
      "0:\tlearn: 0.6613855\ttest: 0.6636049\tbest: 0.6636049 (0)\ttotal: 404ms\tremaining: 40s\n",
      "50:\tlearn: 0.1135686\ttest: 0.1136301\tbest: 0.1136301 (50)\ttotal: 21.7s\tremaining: 20.9s\n",
      "99:\tlearn: 0.0251656\ttest: 0.0250755\tbest: 0.0250755 (99)\ttotal: 41.4s\tremaining: 0us\n",
      "\n",
      "bestTest = 0.02507548676\n",
      "bestIteration = 99\n",
      "\n",
      "                                           0\n",
      "ТОК РОТОРА 1                        0.101101\n",
      "ТОК РОТОРА 2                        0.388249\n",
      "ТОК СТАТОРА                         0.709481\n",
      "ВИБРАЦИЯ НА ОПОРЕ 1                 0.324602\n",
      "ВИБРАЦИЯ НА ОПОРЕ 2                 2.210103\n",
      "ВИБРАЦИЯ НА ОПОРЕ 3                 0.317218\n",
      "ВИБРАЦИЯ НА ОПОРЕ 3. ПРОДОЛЬНАЯ     1.754221\n",
      "ВИБРАЦИЯ НА ОПОРЕ 4                18.125821\n",
      "ВИБРАЦИЯ НА ОПОРЕ 4. ПРОДОЛЬНАЯ     3.882093\n",
      "ТЕМПЕРАТУРА ПОДШИПНИКА НА ОПОРЕ 1   0.373400\n",
      "ТЕМПЕРАТУРА ПОДШИПНИКА НА ОПОРЕ 2  29.004577\n",
      "ТЕМПЕРАТУРА ПОДШИПНИКА НА ОПОРЕ 3   9.370361\n",
      "ТЕМПЕРАТУРА ПОДШИПНИКА НА ОПОРЕ 4   0.363074\n",
      "ТЕМПЕРАТУРА МАСЛА В МАСЛОБЛОКЕ     31.021829\n",
      "ТЕМПЕРАТУРА МАСЛА В СИСТЕМЕ         1.391071\n",
      "ДАВЛЕНИЕ МАСЛА В СИСТЕМЕ            0.662800\n",
      "Y_ЭКСГАУСТЕР А/М №4_ТСМТ-101-010-50М-400 ТЕРМОПР.ПОДШ.Т.1 M3 0.0 0 0 2\n"
     ]
    },
    {
     "data": {
      "application/vnd.jupyter.widget-view+json": {
       "model_id": "f90817f46ffe49229c99458d5479e7cd",
       "version_major": 2,
       "version_minor": 0
      },
      "text/plain": [
       "MetricVisualizer(layout=Layout(align_self='stretch', height='500px'))"
      ]
     },
     "metadata": {},
     "output_type": "display_data"
    },
    {
     "name": "stdout",
     "output_type": "stream",
     "text": [
      "0:\tlearn: 0.6613811\ttest: 0.6636012\tbest: 0.6636012 (0)\ttotal: 405ms\tremaining: 40s\n",
      "50:\tlearn: 0.1133938\ttest: 0.1135872\tbest: 0.1135872 (50)\ttotal: 21.2s\tremaining: 20.4s\n",
      "99:\tlearn: 0.0250364\ttest: 0.0250062\tbest: 0.0250062 (99)\ttotal: 41.8s\tremaining: 0us\n",
      "\n",
      "bestTest = 0.02500622148\n",
      "bestIteration = 99\n",
      "\n",
      "                                           0\n",
      "ТОК РОТОРА 1                        1.541686\n",
      "ТОК РОТОРА 2                        1.463909\n",
      "ТОК СТАТОРА                         1.903850\n",
      "ВИБРАЦИЯ НА ОПОРЕ 1                 4.652105\n",
      "ВИБРАЦИЯ НА ОПОРЕ 2                 5.965558\n",
      "ВИБРАЦИЯ НА ОПОРЕ 3                 9.322910\n",
      "ВИБРАЦИЯ НА ОПОРЕ 3. ПРОДОЛЬНАЯ     7.381780\n",
      "ВИБРАЦИЯ НА ОПОРЕ 4                 2.879840\n",
      "ВИБРАЦИЯ НА ОПОРЕ 4. ПРОДОЛЬНАЯ    11.408407\n",
      "ТЕМПЕРАТУРА ПОДШИПНИКА НА ОПОРЕ 1   3.787052\n",
      "ТЕМПЕРАТУРА ПОДШИПНИКА НА ОПОРЕ 2  10.411568\n",
      "ТЕМПЕРАТУРА ПОДШИПНИКА НА ОПОРЕ 3   9.635987\n",
      "ТЕМПЕРАТУРА ПОДШИПНИКА НА ОПОРЕ 4   4.038619\n",
      "ТЕМПЕРАТУРА МАСЛА В МАСЛОБЛОКЕ      2.764343\n",
      "ТЕМПЕРАТУРА МАСЛА В СИСТЕМЕ         3.803548\n",
      "ДАВЛЕНИЕ МАСЛА В СИСТЕМЕ           19.038838\n",
      "Y_ЭКСГАУСТЕР А/М №4_РОТОР ЭКСГ. №4 M1 None 0 0 0\n"
     ]
    },
    {
     "data": {
      "application/vnd.jupyter.widget-view+json": {
       "model_id": "d04cec660c494069b66c5d8f3e060f2a",
       "version_major": 2,
       "version_minor": 0
      },
      "text/plain": [
       "MetricVisualizer(layout=Layout(align_self='stretch', height='500px'))"
      ]
     },
     "metadata": {},
     "output_type": "display_data"
    },
    {
     "name": "stdout",
     "output_type": "stream",
     "text": [
      "0:\tlearn: 0.6744518\ttest: 0.6747800\tbest: 0.6747800 (0)\ttotal: 385ms\tremaining: 38.1s\n",
      "50:\tlearn: 0.2570557\ttest: 0.2659824\tbest: 0.2659824 (50)\ttotal: 21.8s\tremaining: 20.9s\n",
      "99:\tlearn: 0.1400239\ttest: 0.1489972\tbest: 0.1489972 (99)\ttotal: 42.4s\tremaining: 0us\n",
      "\n",
      "bestTest = 0.1489972383\n",
      "bestIteration = 99\n",
      "\n",
      "                                           0\n",
      "ТОК РОТОРА 1                        7.434065\n",
      "ТОК РОТОРА 2                       13.160336\n",
      "ТОК СТАТОРА                         2.014829\n",
      "ВИБРАЦИЯ НА ОПОРЕ 1                 1.178614\n",
      "ВИБРАЦИЯ НА ОПОРЕ 2                 4.519033\n",
      "ВИБРАЦИЯ НА ОПОРЕ 3                 0.119485\n",
      "ВИБРАЦИЯ НА ОПОРЕ 3. ПРОДОЛЬНАЯ     2.630337\n",
      "ВИБРАЦИЯ НА ОПОРЕ 4                 5.194664\n",
      "ВИБРАЦИЯ НА ОПОРЕ 4. ПРОДОЛЬНАЯ    13.654875\n",
      "ТЕМПЕРАТУРА ПОДШИПНИКА НА ОПОРЕ 1   6.230197\n",
      "ТЕМПЕРАТУРА ПОДШИПНИКА НА ОПОРЕ 2  15.252923\n",
      "ТЕМПЕРАТУРА ПОДШИПНИКА НА ОПОРЕ 3   4.402862\n",
      "ТЕМПЕРАТУРА ПОДШИПНИКА НА ОПОРЕ 4   0.046840\n",
      "ТЕМПЕРАТУРА МАСЛА В МАСЛОБЛОКЕ      0.151248\n",
      "ТЕМПЕРАТУРА МАСЛА В СИСТЕМЕ        18.232393\n",
      "ДАВЛЕНИЕ МАСЛА В СИСТЕМЕ            5.777298\n",
      "Y_ЭКСГАУСТЕР А/М №4_РОТОР ЭКСГ. №4 M3 0.969311207092521 4264 39 96\n"
     ]
    },
    {
     "data": {
      "application/vnd.jupyter.widget-view+json": {
       "model_id": "66452198384b42c98ddf454aec725312",
       "version_major": 2,
       "version_minor": 0
      },
      "text/plain": [
       "MetricVisualizer(layout=Layout(align_self='stretch', height='500px'))"
      ]
     },
     "metadata": {},
     "output_type": "display_data"
    },
    {
     "name": "stdout",
     "output_type": "stream",
     "text": [
      "0:\tlearn: 0.6622219\ttest: 0.6642972\tbest: 0.6642972 (0)\ttotal: 475ms\tremaining: 47s\n",
      "50:\tlearn: 0.1237400\ttest: 0.1231540\tbest: 0.1231540 (50)\ttotal: 23.4s\tremaining: 22.5s\n",
      "99:\tlearn: 0.0346989\ttest: 0.0330222\tbest: 0.0330222 (99)\ttotal: 45.5s\tremaining: 0us\n",
      "\n",
      "bestTest = 0.03302221221\n",
      "bestIteration = 99\n",
      "\n",
      "                                           0\n",
      "ТОК РОТОРА 1                        6.383352\n",
      "ТОК РОТОРА 2                        8.789798\n",
      "ТОК СТАТОРА                         0.956750\n",
      "ВИБРАЦИЯ НА ОПОРЕ 1                 0.699823\n",
      "ВИБРАЦИЯ НА ОПОРЕ 2                16.932974\n",
      "ВИБРАЦИЯ НА ОПОРЕ 3                24.732103\n",
      "ВИБРАЦИЯ НА ОПОРЕ 3. ПРОДОЛЬНАЯ     5.612000\n",
      "ВИБРАЦИЯ НА ОПОРЕ 4                 0.997049\n",
      "ВИБРАЦИЯ НА ОПОРЕ 4. ПРОДОЛЬНАЯ     4.694200\n",
      "ТЕМПЕРАТУРА ПОДШИПНИКА НА ОПОРЕ 1   3.701930\n",
      "ТЕМПЕРАТУРА ПОДШИПНИКА НА ОПОРЕ 2   4.214059\n",
      "ТЕМПЕРАТУРА ПОДШИПНИКА НА ОПОРЕ 3   3.192538\n",
      "ТЕМПЕРАТУРА ПОДШИПНИКА НА ОПОРЕ 4   1.692482\n",
      "ТЕМПЕРАТУРА МАСЛА В МАСЛОБЛОКЕ      0.418402\n",
      "ТЕМПЕРАТУРА МАСЛА В СИСТЕМЕ         7.471842\n",
      "ДАВЛЕНИЕ МАСЛА В СИСТЕМЕ            9.510700\n",
      "Y_ЭКСГАУСТЕР А/М №4_МАСЛООХЛАДИТЕЛЬ  М-05-1 ЭКСГ. №4 M3 0.7777777777777778 98 1 27\n"
     ]
    },
    {
     "data": {
      "application/vnd.jupyter.widget-view+json": {
       "model_id": "247ef6b02ba04ab5ae555ed71666eb84",
       "version_major": 2,
       "version_minor": 0
      },
      "text/plain": [
       "MetricVisualizer(layout=Layout(align_self='stretch', height='500px'))"
      ]
     },
     "metadata": {},
     "output_type": "display_data"
    },
    {
     "name": "stdout",
     "output_type": "stream",
     "text": [
      "0:\tlearn: 0.6613877\ttest: 0.6636047\tbest: 0.6636047 (0)\ttotal: 415ms\tremaining: 41.1s\n",
      "50:\tlearn: 0.1135479\ttest: 0.1136318\tbest: 0.1136318 (50)\ttotal: 21.4s\tremaining: 20.6s\n",
      "99:\tlearn: 0.0250790\ttest: 0.0250252\tbest: 0.0250252 (99)\ttotal: 40.7s\tremaining: 0us\n",
      "\n",
      "bestTest = 0.02502524375\n",
      "bestIteration = 99\n",
      "\n",
      "                                           0\n",
      "ТОК РОТОРА 1                        2.253610\n",
      "ТОК РОТОРА 2                        2.409061\n",
      "ТОК СТАТОРА                         3.682631\n",
      "ВИБРАЦИЯ НА ОПОРЕ 1                 0.944996\n",
      "ВИБРАЦИЯ НА ОПОРЕ 2                 3.574739\n",
      "ВИБРАЦИЯ НА ОПОРЕ 3                 1.512360\n",
      "ВИБРАЦИЯ НА ОПОРЕ 3. ПРОДОЛЬНАЯ     3.913413\n",
      "ВИБРАЦИЯ НА ОПОРЕ 4                 0.492632\n",
      "ВИБРАЦИЯ НА ОПОРЕ 4. ПРОДОЛЬНАЯ     2.001435\n",
      "ТЕМПЕРАТУРА ПОДШИПНИКА НА ОПОРЕ 1   1.756586\n",
      "ТЕМПЕРАТУРА ПОДШИПНИКА НА ОПОРЕ 2   2.323561\n",
      "ТЕМПЕРАТУРА ПОДШИПНИКА НА ОПОРЕ 3  32.687098\n",
      "ТЕМПЕРАТУРА ПОДШИПНИКА НА ОПОРЕ 4  19.775846\n",
      "ТЕМПЕРАТУРА МАСЛА В МАСЛОБЛОКЕ     15.036108\n",
      "ТЕМПЕРАТУРА МАСЛА В СИСТЕМЕ         3.508162\n",
      "ДАВЛЕНИЕ МАСЛА В СИСТЕМЕ            4.127764\n",
      "Y_ЭКСГАУСТЕР А/М №4_ПОДШИПНИК ОПОРНО-УПОРНЫЙ ЭКСГ. №4 M1 None 0 0 0\n"
     ]
    },
    {
     "data": {
      "application/vnd.jupyter.widget-view+json": {
       "model_id": "8f1780341f8a4a83bbae69d014bf64b1",
       "version_major": 2,
       "version_minor": 0
      },
      "text/plain": [
       "MetricVisualizer(layout=Layout(align_self='stretch', height='500px'))"
      ]
     },
     "metadata": {},
     "output_type": "display_data"
    },
    {
     "name": "stdout",
     "output_type": "stream",
     "text": [
      "0:\tlearn: 0.6690527\ttest: 0.6688947\tbest: 0.6688947 (0)\ttotal: 436ms\tremaining: 43.2s\n",
      "50:\tlearn: 0.1873996\ttest: 0.1825510\tbest: 0.1825510 (50)\ttotal: 21s\tremaining: 20.2s\n",
      "99:\tlearn: 0.0828912\ttest: 0.0773467\tbest: 0.0773467 (99)\ttotal: 42.2s\tremaining: 0us\n",
      "\n",
      "bestTest = 0.07734673771\n",
      "bestIteration = 99\n",
      "\n",
      "                                           0\n",
      "ТОК РОТОРА 1                       16.832072\n",
      "ТОК РОТОРА 2                       19.365522\n",
      "ТОК СТАТОРА                         0.000000\n",
      "ВИБРАЦИЯ НА ОПОРЕ 1                 0.146503\n",
      "ВИБРАЦИЯ НА ОПОРЕ 2                 0.074561\n",
      "ВИБРАЦИЯ НА ОПОРЕ 3                 4.100948\n",
      "ВИБРАЦИЯ НА ОПОРЕ 3. ПРОДОЛЬНАЯ    14.595381\n",
      "ВИБРАЦИЯ НА ОПОРЕ 4                11.645995\n",
      "ВИБРАЦИЯ НА ОПОРЕ 4. ПРОДОЛЬНАЯ     8.320081\n",
      "ТЕМПЕРАТУРА ПОДШИПНИКА НА ОПОРЕ 1   8.370617\n",
      "ТЕМПЕРАТУРА ПОДШИПНИКА НА ОПОРЕ 2   1.722808\n",
      "ТЕМПЕРАТУРА ПОДШИПНИКА НА ОПОРЕ 3   0.000000\n",
      "ТЕМПЕРАТУРА ПОДШИПНИКА НА ОПОРЕ 4   3.825941\n",
      "ТЕМПЕРАТУРА МАСЛА В МАСЛОБЛОКЕ      0.387510\n",
      "ТЕМПЕРАТУРА МАСЛА В СИСТЕМЕ         6.273116\n",
      "ДАВЛЕНИЕ МАСЛА В СИСТЕМЕ            4.338945\n",
      "Y_ЭКСГАУСТЕР А/М №4_ПОДШИПНИК ОПОРНО-УПОРНЫЙ ЭКСГ. №4 M3 0.9549902152641878 1952 32 60\n"
     ]
    },
    {
     "data": {
      "application/vnd.jupyter.widget-view+json": {
       "model_id": "34b00aafa3bc4ffa942c78ec07b42cc0",
       "version_major": 2,
       "version_minor": 0
      },
      "text/plain": [
       "MetricVisualizer(layout=Layout(align_self='stretch', height='500px'))"
      ]
     },
     "metadata": {},
     "output_type": "display_data"
    },
    {
     "name": "stdout",
     "output_type": "stream",
     "text": [
      "0:\tlearn: 0.6613984\ttest: 0.6636169\tbest: 0.6636169 (0)\ttotal: 409ms\tremaining: 40.5s\n",
      "50:\tlearn: 0.1138635\ttest: 0.1137742\tbest: 0.1137742 (50)\ttotal: 21.1s\tremaining: 20.3s\n",
      "99:\tlearn: 0.0252815\ttest: 0.0251264\tbest: 0.0251264 (99)\ttotal: 40.4s\tremaining: 0us\n",
      "\n",
      "bestTest = 0.02512640358\n",
      "bestIteration = 99\n",
      "\n",
      "                                           0\n",
      "ТОК РОТОРА 1                        1.361641\n",
      "ТОК РОТОРА 2                        0.487451\n",
      "ТОК СТАТОРА                         3.295055\n",
      "ВИБРАЦИЯ НА ОПОРЕ 1                 0.975564\n",
      "ВИБРАЦИЯ НА ОПОРЕ 2                 1.944636\n",
      "ВИБРАЦИЯ НА ОПОРЕ 3                 0.457953\n",
      "ВИБРАЦИЯ НА ОПОРЕ 3. ПРОДОЛЬНАЯ     1.099325\n",
      "ВИБРАЦИЯ НА ОПОРЕ 4                 0.431276\n",
      "ВИБРАЦИЯ НА ОПОРЕ 4. ПРОДОЛЬНАЯ     3.866770\n",
      "ТЕМПЕРАТУРА ПОДШИПНИКА НА ОПОРЕ 1   2.331917\n",
      "ТЕМПЕРАТУРА ПОДШИПНИКА НА ОПОРЕ 2   0.589171\n",
      "ТЕМПЕРАТУРА ПОДШИПНИКА НА ОПОРЕ 3  16.383498\n",
      "ТЕМПЕРАТУРА ПОДШИПНИКА НА ОПОРЕ 4  12.058771\n",
      "ТЕМПЕРАТУРА МАСЛА В МАСЛОБЛОКЕ     39.631738\n",
      "ТЕМПЕРАТУРА МАСЛА В СИСТЕМЕ         9.910833\n",
      "ДАВЛЕНИЕ МАСЛА В СИСТЕМЕ            5.174399\n",
      "Y_ЭКСГАУСТЕР А/М №4_ЭКСГАУСТЕР А/М №4 M1 0.6666666666666666 2 0 1\n"
     ]
    },
    {
     "data": {
      "application/vnd.jupyter.widget-view+json": {
       "model_id": "79e4cf91c08d4b4595980ad2f3a099e8",
       "version_major": 2,
       "version_minor": 0
      },
      "text/plain": [
       "MetricVisualizer(layout=Layout(align_self='stretch', height='500px'))"
      ]
     },
     "metadata": {},
     "output_type": "display_data"
    },
    {
     "name": "stdout",
     "output_type": "stream",
     "text": [
      "0:\tlearn: 0.6627164\ttest: 0.6644444\tbest: 0.6644444 (0)\ttotal: 389ms\tremaining: 38.5s\n",
      "50:\tlearn: 0.1258189\ttest: 0.1256800\tbest: 0.1256800 (50)\ttotal: 19s\tremaining: 18.2s\n",
      "99:\tlearn: 0.0367423\ttest: 0.0353636\tbest: 0.0353636 (99)\ttotal: 37.4s\tremaining: 0us\n",
      "\n",
      "bestTest = 0.03536357362\n",
      "bestIteration = 99\n",
      "\n",
      "                                           0\n",
      "ТОК РОТОРА 1                        2.729845\n",
      "ТОК РОТОРА 2                        2.363139\n",
      "ТОК СТАТОРА                         1.678218\n",
      "ВИБРАЦИЯ НА ОПОРЕ 1                 0.145105\n",
      "ВИБРАЦИЯ НА ОПОРЕ 2                 1.997473\n",
      "ВИБРАЦИЯ НА ОПОРЕ 3                 2.213621\n",
      "ВИБРАЦИЯ НА ОПОРЕ 3. ПРОДОЛЬНАЯ     6.423612\n",
      "ВИБРАЦИЯ НА ОПОРЕ 4                17.680999\n",
      "ВИБРАЦИЯ НА ОПОРЕ 4. ПРОДОЛЬНАЯ    44.444795\n",
      "ТЕМПЕРАТУРА ПОДШИПНИКА НА ОПОРЕ 1   6.015953\n",
      "ТЕМПЕРАТУРА ПОДШИПНИКА НА ОПОРЕ 2   0.747797\n",
      "ТЕМПЕРАТУРА ПОДШИПНИКА НА ОПОРЕ 3   0.000000\n",
      "ТЕМПЕРАТУРА ПОДШИПНИКА НА ОПОРЕ 4   6.777755\n",
      "ТЕМПЕРАТУРА МАСЛА В МАСЛОБЛОКЕ      0.000000\n",
      "ТЕМПЕРАТУРА МАСЛА В СИСТЕМЕ         0.531722\n",
      "ДАВЛЕНИЕ МАСЛА В СИСТЕМЕ            6.249966\n",
      "Y_ЭКСГАУСТЕР А/М №4_ЗАП. И РЕГ. АРМАТУРА ЭКСГ.№4 M3 0.934156378600823 454 1 31\n"
     ]
    },
    {
     "data": {
      "application/vnd.jupyter.widget-view+json": {
       "model_id": "cfe3ff465517429a9786d1747265325a",
       "version_major": 2,
       "version_minor": 0
      },
      "text/plain": [
       "MetricVisualizer(layout=Layout(align_self='stretch', height='500px'))"
      ]
     },
     "metadata": {},
     "output_type": "display_data"
    },
    {
     "name": "stdout",
     "output_type": "stream",
     "text": [
      "0:\tlearn: 0.6640228\ttest: 0.6651322\tbest: 0.6651322 (0)\ttotal: 375ms\tremaining: 37.1s\n",
      "50:\tlearn: 0.1359502\ttest: 0.1367520\tbest: 0.1367520 (50)\ttotal: 18.7s\tremaining: 18s\n",
      "99:\tlearn: 0.0434711\ttest: 0.0433898\tbest: 0.0433898 (99)\ttotal: 37.2s\tremaining: 0us\n",
      "\n",
      "bestTest = 0.04338976592\n",
      "bestIteration = 99\n",
      "\n",
      "                                           0\n",
      "ТОК РОТОРА 1                        5.636385\n",
      "ТОК РОТОРА 2                        6.203962\n",
      "ТОК СТАТОРА                         0.733179\n",
      "ВИБРАЦИЯ НА ОПОРЕ 1                 1.843497\n",
      "ВИБРАЦИЯ НА ОПОРЕ 2                13.174188\n",
      "ВИБРАЦИЯ НА ОПОРЕ 3                 9.786637\n",
      "ВИБРАЦИЯ НА ОПОРЕ 3. ПРОДОЛЬНАЯ     5.843627\n",
      "ВИБРАЦИЯ НА ОПОРЕ 4                12.681745\n",
      "ВИБРАЦИЯ НА ОПОРЕ 4. ПРОДОЛЬНАЯ    15.383343\n",
      "ТЕМПЕРАТУРА ПОДШИПНИКА НА ОПОРЕ 1   0.138972\n",
      "ТЕМПЕРАТУРА ПОДШИПНИКА НА ОПОРЕ 2   0.364996\n",
      "ТЕМПЕРАТУРА ПОДШИПНИКА НА ОПОРЕ 3   0.821226\n",
      "ТЕМПЕРАТУРА ПОДШИПНИКА НА ОПОРЕ 4   1.779583\n",
      "ТЕМПЕРАТУРА МАСЛА В МАСЛОБЛОКЕ      2.042271\n",
      "ТЕМПЕРАТУРА МАСЛА В СИСТЕМЕ         0.000000\n",
      "ДАВЛЕНИЕ МАСЛА В СИСТЕМЕ           23.566387\n",
      "Y_ЭКСГАУСТЕР А/М №4_ПОДШИПНИК ОПОРНЫЙ №1 ЭКСГ. №4 M3 0.9168831168831169 353 2 30\n"
     ]
    },
    {
     "data": {
      "application/vnd.jupyter.widget-view+json": {
       "model_id": "6f66782e7dd3446bbbe625c653372525",
       "version_major": 2,
       "version_minor": 0
      },
      "text/plain": [
       "MetricVisualizer(layout=Layout(align_self='stretch', height='500px'))"
      ]
     },
     "metadata": {},
     "output_type": "display_data"
    },
    {
     "name": "stdout",
     "output_type": "stream",
     "text": [
      "0:\tlearn: 0.6624270\ttest: 0.6640953\tbest: 0.6640953 (0)\ttotal: 439ms\tremaining: 43.5s\n",
      "50:\tlearn: 0.1219155\ttest: 0.1234706\tbest: 0.1234706 (50)\ttotal: 21.1s\tremaining: 20.2s\n",
      "99:\tlearn: 0.0333657\ttest: 0.0359012\tbest: 0.0359012 (99)\ttotal: 41.5s\tremaining: 0us\n",
      "\n",
      "bestTest = 0.0359012216\n",
      "bestIteration = 99\n",
      "\n",
      "                                           0\n",
      "ТОК РОТОРА 1                       22.891177\n",
      "ТОК РОТОРА 2                       23.114711\n",
      "ТОК СТАТОРА                         0.838343\n",
      "ВИБРАЦИЯ НА ОПОРЕ 1                 1.655395\n",
      "ВИБРАЦИЯ НА ОПОРЕ 2                 6.119509\n",
      "ВИБРАЦИЯ НА ОПОРЕ 3                 3.144216\n",
      "ВИБРАЦИЯ НА ОПОРЕ 3. ПРОДОЛЬНАЯ     0.078826\n",
      "ВИБРАЦИЯ НА ОПОРЕ 4                 0.000000\n",
      "ВИБРАЦИЯ НА ОПОРЕ 4. ПРОДОЛЬНАЯ    18.556605\n",
      "ТЕМПЕРАТУРА ПОДШИПНИКА НА ОПОРЕ 1   0.988807\n",
      "ТЕМПЕРАТУРА ПОДШИПНИКА НА ОПОРЕ 2  11.191344\n",
      "ТЕМПЕРАТУРА ПОДШИПНИКА НА ОПОРЕ 3   4.308019\n",
      "ТЕМПЕРАТУРА ПОДШИПНИКА НА ОПОРЕ 4   1.068140\n",
      "ТЕМПЕРАТУРА МАСЛА В МАСЛОБЛОКЕ      2.644940\n",
      "ТЕМПЕРАТУРА МАСЛА В СИСТЕМЕ         0.988063\n",
      "ДАВЛЕНИЕ МАСЛА В СИСТЕМЕ            2.411903\n",
      "Y_ЭКСГАУСТЕР А/М №4_ЭЛ/ДВИГАТЕЛЬ ГАЗ. ЗАДВИЖКИ ЭКСГ. №4 M3 0.8571428571428571 138 7 16\n"
     ]
    },
    {
     "data": {
      "application/vnd.jupyter.widget-view+json": {
       "model_id": "5f55ce969a9740e8b464ef52d9fa1f4a",
       "version_major": 2,
       "version_minor": 0
      },
      "text/plain": [
       "MetricVisualizer(layout=Layout(align_self='stretch', height='500px'))"
      ]
     },
     "metadata": {},
     "output_type": "display_data"
    },
    {
     "name": "stdout",
     "output_type": "stream",
     "text": [
      "0:\tlearn: 0.6613784\ttest: 0.6635989\tbest: 0.6635989 (0)\ttotal: 408ms\tremaining: 40.4s\n",
      "50:\tlearn: 0.1133176\ttest: 0.1135558\tbest: 0.1135558 (50)\ttotal: 21.7s\tremaining: 20.8s\n",
      "99:\tlearn: 0.0249204\ttest: 0.0249760\tbest: 0.0249760 (99)\ttotal: 42.1s\tremaining: 0us\n",
      "\n",
      "bestTest = 0.02497598938\n",
      "bestIteration = 99\n",
      "\n",
      "                                          0\n",
      "ТОК РОТОРА 1                       3.929822\n",
      "ТОК РОТОРА 2                       4.045468\n",
      "ТОК СТАТОРА                        4.455211\n",
      "ВИБРАЦИЯ НА ОПОРЕ 1                7.140432\n",
      "ВИБРАЦИЯ НА ОПОРЕ 2                8.018992\n",
      "ВИБРАЦИЯ НА ОПОРЕ 3                8.457671\n",
      "ВИБРАЦИЯ НА ОПОРЕ 3. ПРОДОЛЬНАЯ    8.021971\n",
      "ВИБРАЦИЯ НА ОПОРЕ 4                8.267455\n",
      "ВИБРАЦИЯ НА ОПОРЕ 4. ПРОДОЛЬНАЯ    9.713940\n",
      "ТЕМПЕРАТУРА ПОДШИПНИКА НА ОПОРЕ 1  5.706965\n",
      "ТЕМПЕРАТУРА ПОДШИПНИКА НА ОПОРЕ 2  6.064147\n",
      "ТЕМПЕРАТУРА ПОДШИПНИКА НА ОПОРЕ 3  5.890010\n",
      "ТЕМПЕРАТУРА ПОДШИПНИКА НА ОПОРЕ 4  5.339558\n",
      "ТЕМПЕРАТУРА МАСЛА В МАСЛОБЛОКЕ     5.244111\n",
      "ТЕМПЕРАТУРА МАСЛА В СИСТЕМЕ        3.950813\n",
      "ДАВЛЕНИЕ МАСЛА В СИСТЕМЕ           5.753433\n",
      "Y_ЭКСГАУСТЕР А/М №4_КЛ1 ТР№4 ДО ЭД ЭКСГАУСТЕРА №4 M3 None 0 0 0\n"
     ]
    },
    {
     "data": {
      "application/vnd.jupyter.widget-view+json": {
       "model_id": "8dc5df27bba94d588ebb6efdb83d6c2b",
       "version_major": 2,
       "version_minor": 0
      },
      "text/plain": [
       "MetricVisualizer(layout=Layout(align_self='stretch', height='500px'))"
      ]
     },
     "metadata": {},
     "output_type": "display_data"
    },
    {
     "name": "stdout",
     "output_type": "stream",
     "text": [
      "0:\tlearn: 0.6613784\ttest: 0.6635992\tbest: 0.6635992 (0)\ttotal: 407ms\tremaining: 40.3s\n",
      "50:\tlearn: 0.1133176\ttest: 0.1135553\tbest: 0.1135553 (50)\ttotal: 21.7s\tremaining: 20.8s\n",
      "99:\tlearn: 0.0249204\ttest: 0.0249781\tbest: 0.0249781 (99)\ttotal: 42.1s\tremaining: 0us\n",
      "\n",
      "bestTest = 0.0249780536\n",
      "bestIteration = 99\n",
      "\n",
      "                                          0\n",
      "ТОК РОТОРА 1                       3.929822\n",
      "ТОК РОТОРА 2                       4.045468\n",
      "ТОК СТАТОРА                        4.455211\n",
      "ВИБРАЦИЯ НА ОПОРЕ 1                7.140432\n",
      "ВИБРАЦИЯ НА ОПОРЕ 2                8.018992\n",
      "ВИБРАЦИЯ НА ОПОРЕ 3                8.457671\n",
      "ВИБРАЦИЯ НА ОПОРЕ 3. ПРОДОЛЬНАЯ    8.021971\n",
      "ВИБРАЦИЯ НА ОПОРЕ 4                8.267455\n",
      "ВИБРАЦИЯ НА ОПОРЕ 4. ПРОДОЛЬНАЯ    9.713940\n",
      "ТЕМПЕРАТУРА ПОДШИПНИКА НА ОПОРЕ 1  5.706965\n",
      "ТЕМПЕРАТУРА ПОДШИПНИКА НА ОПОРЕ 2  6.064147\n",
      "ТЕМПЕРАТУРА ПОДШИПНИКА НА ОПОРЕ 3  5.890010\n",
      "ТЕМПЕРАТУРА ПОДШИПНИКА НА ОПОРЕ 4  5.339558\n",
      "ТЕМПЕРАТУРА МАСЛА В МАСЛОБЛОКЕ     5.244111\n",
      "ТЕМПЕРАТУРА МАСЛА В СИСТЕМЕ        3.950813\n",
      "ДАВЛЕНИЕ МАСЛА В СИСТЕМЕ           5.753433\n",
      "Y_ЭКСГАУСТЕР А/М №4_КЛ2 ТР№4 ДО ЭД ЭКСГАУСТЕРА №4 M3 None 0 0 0\n"
     ]
    },
    {
     "data": {
      "application/vnd.jupyter.widget-view+json": {
       "model_id": "f4ea9f6e885e43a28bfa91348bf16f88",
       "version_major": 2,
       "version_minor": 0
      },
      "text/plain": [
       "MetricVisualizer(layout=Layout(align_self='stretch', height='500px'))"
      ]
     },
     "metadata": {},
     "output_type": "display_data"
    },
    {
     "name": "stdout",
     "output_type": "stream",
     "text": [
      "0:\tlearn: 0.6613782\ttest: 0.6635993\tbest: 0.6635993 (0)\ttotal: 406ms\tremaining: 40.2s\n",
      "50:\tlearn: 0.1133114\ttest: 0.1135528\tbest: 0.1135528 (50)\ttotal: 21.2s\tremaining: 20.4s\n",
      "99:\tlearn: 0.0249098\ttest: 0.0249740\tbest: 0.0249740 (99)\ttotal: 42s\tremaining: 0us\n",
      "\n",
      "bestTest = 0.02497403789\n",
      "bestIteration = 99\n",
      "\n",
      "                                          0\n",
      "ТОК РОТОРА 1                       3.886851\n",
      "ТОК РОТОРА 2                       4.133913\n",
      "ТОК СТАТОРА                        4.470953\n",
      "ВИБРАЦИЯ НА ОПОРЕ 1                7.252727\n",
      "ВИБРАЦИЯ НА ОПОРЕ 2                8.171066\n",
      "ВИБРАЦИЯ НА ОПОРЕ 3                8.507705\n",
      "ВИБРАЦИЯ НА ОПОРЕ 3. ПРОДОЛЬНАЯ    7.713670\n",
      "ВИБРАЦИЯ НА ОПОРЕ 4                8.254010\n",
      "ВИБРАЦИЯ НА ОПОРЕ 4. ПРОДОЛЬНАЯ    9.521082\n",
      "ТЕМПЕРАТУРА ПОДШИПНИКА НА ОПОРЕ 1  5.590425\n",
      "ТЕМПЕРАТУРА ПОДШИПНИКА НА ОПОРЕ 2  6.196676\n",
      "ТЕМПЕРАТУРА ПОДШИПНИКА НА ОПОРЕ 3  5.972141\n",
      "ТЕМПЕРАТУРА ПОДШИПНИКА НА ОПОРЕ 4  5.315702\n",
      "ТЕМПЕРАТУРА МАСЛА В МАСЛОБЛОКЕ     5.271566\n",
      "ТЕМПЕРАТУРА МАСЛА В СИСТЕМЕ        4.006660\n",
      "ДАВЛЕНИЕ МАСЛА В СИСТЕМЕ           5.734854\n",
      "Y_ЭКСГАУСТЕР А/М №4_ТР-Р ТМ-4000-10/6 ЭКСГ. №4 M3 None 0 0 0\n"
     ]
    }
   ],
   "source": [
    "import catboost\n",
    "\n",
    "summary = dict()\n",
    "summary[\"model\"] = []\n",
    "summary[\"f1\"] = []\n",
    "summary[\"score\"] = []\n",
    "summary[\"TP\"] = []\n",
    "summary[\"FP\"] = []\n",
    "summary[\"FN\"] = []\n",
    "\n",
    "\n",
    "for col in y_train.columns:\n",
    "\n",
    "    target_train = y_train[col]\n",
    "    if len(target_train.unique())>1:\n",
    "        model = catboost.CatBoostClassifier(iterations=100, loss_function='CrossEntropy')\n",
    "\n",
    "        X_test = X_train.sample(10000)\n",
    "        target_test = target_train.loc[X_test.index.values]\n",
    "\n",
    "        X_val = X_train.sample(1000)\n",
    "        target_val = target_train.loc[X_val.index.values]\n",
    "\n",
    "        X_train = X_train#.sample(1000000)\n",
    "        target_train = target_train.loc[X_train.index.values]\n",
    "\n",
    "        model.fit(X_train.values, target_train.values, eval_set=(X_val.values, target_val.values), verbose=50, use_best_model=True, plot=True, early_stopping_rounds=100)\n",
    "        print(pd.DataFrame(model.feature_importances_, index=X_train.columns ))\n",
    "\n",
    "        model.save_model(\"ЭКСГАУСТЕР 4 \" +col.replace(\"/\", \"\"),format=\"cbm\",export_parameters=None, pool=None)\n",
    "        \n",
    "        pred = model.predict(X_test.values)\n",
    "        TP = sum((pred == 1)*(target_test == 1))\n",
    "        FP = sum((pred == 1)*(target_test == 0))\n",
    "        FN = sum((pred == 0)*(target_test == 1))\n",
    "        summary[\"model\"].append(\" ЭКСГАУСТЕР 4 \" + col.replace(\"/\", \"\"))\n",
    "        summary[\"TP\"].append(TP)\n",
    "        summary[\"FP\"].append(FP)\n",
    "        summary[\"FN\"].append(FN)\n",
    "        if (TP+FP+FN)!=0:\n",
    "            print(col, TP/(TP+FP+FN), TP, FP, FN)\n",
    "            summary[\"f1\"].append(2*TP/(2*TP+FP+FN))\n",
    "            summary[\"score\"].append(TP/(TP+FP+FN))\n",
    "        else:\n",
    "            print(col, None, TP, FP, FN)\n",
    "            summary[\"f1\"].append(None)\n",
    "            summary[\"score\"].append(None)\n",
    "    else:\n",
    "        summary[\"model\"].append(\"ЭКСГАУСТЕР 4 \" + col.replace(\"/\", \"\")+\"__15\")\n",
    "        summary[\"TP\"].append(0)\n",
    "        summary[\"FP\"].append(0)\n",
    "        summary[\"FN\"].append(0)\n",
    "        summary[\"f1\"].append(None)\n",
    "        summary[\"score\"].append(None)\n",
    "        \n",
    "            \n",
    "pd.DataFrame(summary).to_csv(\"summary ЭКСГАУСТЕР 4__15.csv\")"
   ]
  }
 ],
 "metadata": {
  "kernelspec": {
   "display_name": "Python 3",
   "language": "python",
   "name": "python3"
  },
  "language_info": {
   "codemirror_mode": {
    "name": "ipython",
    "version": 3
   },
   "file_extension": ".py",
   "mimetype": "text/x-python",
   "name": "python",
   "nbconvert_exporter": "python",
   "pygments_lexer": "ipython3",
   "version": "3.10.10"
  },
  "papermill": {
   "default_parameters": {},
   "duration": 2846.378988,
   "end_time": "2023-05-28T20:56:42.572460",
   "environment_variables": {},
   "exception": null,
   "input_path": "__notebook__.ipynb",
   "output_path": "__notebook__.ipynb",
   "parameters": {},
   "start_time": "2023-05-28T20:09:16.193472",
   "version": "2.4.0"
  },
  "widgets": {
   "application/vnd.jupyter.widget-state+json": {
    "state": {
     "0077bebb8ad14b40bb036c89bf2a59f8": {
      "model_module": "@jupyter-widgets/base",
      "model_module_version": "1.2.0",
      "model_name": "LayoutModel",
      "state": {
       "_model_module": "@jupyter-widgets/base",
       "_model_module_version": "1.2.0",
       "_model_name": "LayoutModel",
       "_view_count": null,
       "_view_module": "@jupyter-widgets/base",
       "_view_module_version": "1.2.0",
       "_view_name": "LayoutView",
       "align_content": null,
       "align_items": null,
       "align_self": "stretch",
       "border": null,
       "bottom": null,
       "display": null,
       "flex": null,
       "flex_flow": null,
       "grid_area": null,
       "grid_auto_columns": null,
       "grid_auto_flow": null,
       "grid_auto_rows": null,
       "grid_column": null,
       "grid_gap": null,
       "grid_row": null,
       "grid_template_areas": null,
       "grid_template_columns": null,
       "grid_template_rows": null,
       "height": "500px",
       "justify_content": null,
       "justify_items": null,
       "left": null,
       "margin": null,
       "max_height": null,
       "max_width": null,
       "min_height": null,
       "min_width": null,
       "object_fit": null,
       "object_position": null,
       "order": null,
       "overflow": null,
       "overflow_x": null,
       "overflow_y": null,
       "padding": null,
       "right": null,
       "top": null,
       "visibility": null,
       "width": null
      }
     },
     "083aa5f8ddc3463999cd333576c35ae4": {
      "model_module": "@jupyter-widgets/base",
      "model_module_version": "1.2.0",
      "model_name": "LayoutModel",
      "state": {
       "_model_module": "@jupyter-widgets/base",
       "_model_module_version": "1.2.0",
       "_model_name": "LayoutModel",
       "_view_count": null,
       "_view_module": "@jupyter-widgets/base",
       "_view_module_version": "1.2.0",
       "_view_name": "LayoutView",
       "align_content": null,
       "align_items": null,
       "align_self": "stretch",
       "border": null,
       "bottom": null,
       "display": null,
       "flex": null,
       "flex_flow": null,
       "grid_area": null,
       "grid_auto_columns": null,
       "grid_auto_flow": null,
       "grid_auto_rows": null,
       "grid_column": null,
       "grid_gap": null,
       "grid_row": null,
       "grid_template_areas": null,
       "grid_template_columns": null,
       "grid_template_rows": null,
       "height": "500px",
       "justify_content": null,
       "justify_items": null,
       "left": null,
       "margin": null,
       "max_height": null,
       "max_width": null,
       "min_height": null,
       "min_width": null,
       "object_fit": null,
       "object_position": null,
       "order": null,
       "overflow": null,
       "overflow_x": null,
       "overflow_y": null,
       "padding": null,
       "right": null,
       "top": null,
       "visibility": null,
       "width": null
      }
     },
     "0a673927f43f41d296705e41f7d0923c": {
      "model_module": "catboost-widget",
      "model_module_version": "^1.0.0",
      "model_name": "CatboostWidgetModel",
      "state": {
       "_dom_classes": [],
       "_model_module": "catboost-widget",
       "_model_module_version": "^1.0.0",
       "_model_name": "CatboostWidgetModel",
       "_view_count": null,
       "_view_module": "catboost-widget",
       "_view_module_version": "^1.0.0",
       "_view_name": "CatboostWidgetView",
       "data": {
        "catboost_info": {
         "content": {
          "data": {
           "iterations": [
            {
             "iteration": 0,
             "learn": [
              0.6695598065
             ],
             "passed_time": 0.4747695506,
             "remaining_time": 47.0021855,
             "test": [
              0.6691941202
             ]
            },
            {
             "iteration": 1,
             "learn": [
              0.6453751387
             ],
             "passed_time": 0.9404476326,
             "remaining_time": 46.081934,
             "test": [
              0.6466673312
             ]
            },
            {
             "iteration": 2,
             "learn": [
              0.6238533644
             ],
             "passed_time": 1.390595008,
             "remaining_time": 44.96257192,
             "test": [
              0.6250370315
             ]
            },
            {
             "iteration": 3,
             "learn": [
              0.6033015142
             ],
             "passed_time": 1.852960439,
             "remaining_time": 44.47105054,
             "test": [
              0.6049159132
             ]
            },
            {
             "iteration": 4,
             "learn": [
              0.5837335041
             ],
             "passed_time": 2.285851134,
             "remaining_time": 43.43117154,
             "test": [
              0.5852610659
             ]
            },
            {
             "iteration": 5,
             "learn": [
              0.5647759038
             ],
             "passed_time": 2.718943927,
             "remaining_time": 42.59678818,
             "test": [
              0.5667165259
             ]
            },
            {
             "iteration": 6,
             "learn": [
              0.5478480029
             ],
             "passed_time": 3.14381822,
             "remaining_time": 41.76787064,
             "test": [
              0.5490848336
             ]
            },
            {
             "iteration": 7,
             "learn": [
              0.5308080159
             ],
             "passed_time": 3.575426366,
             "remaining_time": 41.11740321,
             "test": [
              0.5322470143
             ]
            },
            {
             "iteration": 8,
             "learn": [
              0.5131712082
             ],
             "passed_time": 3.998424858,
             "remaining_time": 40.42851801,
             "test": [
              0.5152833273
             ]
            },
            {
             "iteration": 9,
             "learn": [
              0.4969905664
             ],
             "passed_time": 4.470013313,
             "remaining_time": 40.23011982,
             "test": [
              0.499225649
             ]
            },
            {
             "iteration": 10,
             "learn": [
              0.4819584106
             ],
             "passed_time": 5.073821829,
             "remaining_time": 41.05183116,
             "test": [
              0.4840022016
             ]
            },
            {
             "iteration": 11,
             "learn": [
              0.4672209505
             ],
             "passed_time": 5.666094439,
             "remaining_time": 41.55135922,
             "test": [
              0.4694209688
             ]
            },
            {
             "iteration": 12,
             "learn": [
              0.4537548513
             ],
             "passed_time": 6.169143587,
             "remaining_time": 41.28580708,
             "test": [
              0.456327693
             ]
            },
            {
             "iteration": 13,
             "learn": [
              0.4409747249
             ],
             "passed_time": 6.632226586,
             "remaining_time": 40.74082046,
             "test": [
              0.4440519512
             ]
            },
            {
             "iteration": 14,
             "learn": [
              0.4289242466
             ],
             "passed_time": 7.078072931,
             "remaining_time": 40.10907994,
             "test": [
              0.4319003468
             ]
            },
            {
             "iteration": 15,
             "learn": [
              0.416160099
             ],
             "passed_time": 7.502783102,
             "remaining_time": 39.38961128,
             "test": [
              0.4196242235
             ]
            },
            {
             "iteration": 16,
             "learn": [
              0.4041923837
             ],
             "passed_time": 7.919943467,
             "remaining_time": 38.66795928,
             "test": [
              0.4078680791
             ]
            },
            {
             "iteration": 17,
             "learn": [
              0.3929880694
             ],
             "passed_time": 8.338435228,
             "remaining_time": 37.98620493,
             "test": [
              0.3965631223
             ]
            },
            {
             "iteration": 18,
             "learn": [
              0.38274833
             ],
             "passed_time": 8.746625906,
             "remaining_time": 37.28824728,
             "test": [
              0.3861165606
             ]
            },
            {
             "iteration": 19,
             "learn": [
              0.3728259461
             ],
             "passed_time": 9.157004892,
             "remaining_time": 36.62801957,
             "test": [
              0.3761785854
             ]
            },
            {
             "iteration": 20,
             "learn": [
              0.3628300943
             ],
             "passed_time": 9.578908921,
             "remaining_time": 36.03494308,
             "test": [
              0.3661520171
             ]
            },
            {
             "iteration": 21,
             "learn": [
              0.3533919714
             ],
             "passed_time": 10.04838354,
             "remaining_time": 35.62608711,
             "test": [
              0.3573868236
             ]
            },
            {
             "iteration": 22,
             "learn": [
              0.3441180605
             ],
             "passed_time": 10.46745081,
             "remaining_time": 35.04320488,
             "test": [
              0.3482669608
             ]
            },
            {
             "iteration": 23,
             "learn": [
              0.335180387
             ],
             "passed_time": 10.9342774,
             "remaining_time": 34.62521175,
             "test": [
              0.3394524266
             ]
            },
            {
             "iteration": 24,
             "learn": [
              0.3263910605
             ],
             "passed_time": 11.36253595,
             "remaining_time": 34.08760784,
             "test": [
              0.3309793072
             ]
            },
            {
             "iteration": 25,
             "learn": [
              0.3166904514
             ],
             "passed_time": 11.78667268,
             "remaining_time": 33.54668378,
             "test": [
              0.3214491961
             ]
            },
            {
             "iteration": 26,
             "learn": [
              0.3095104872
             ],
             "passed_time": 12.20930648,
             "remaining_time": 33.01034714,
             "test": [
              0.3140868433
             ]
            },
            {
             "iteration": 27,
             "learn": [
              0.3007803484
             ],
             "passed_time": 12.64352508,
             "remaining_time": 32.51192165,
             "test": [
              0.3052329853
             ]
            },
            {
             "iteration": 28,
             "learn": [
              0.2923508911
             ],
             "passed_time": 13.06448119,
             "remaining_time": 31.98545394,
             "test": [
              0.2968285578
             ]
            },
            {
             "iteration": 29,
             "learn": [
              0.2841694664
             ],
             "passed_time": 13.49302919,
             "remaining_time": 31.48373477,
             "test": [
              0.2887169248
             ]
            },
            {
             "iteration": 30,
             "learn": [
              0.2772697855
             ],
             "passed_time": 13.9120032,
             "remaining_time": 30.96542648,
             "test": [
              0.2820490476
             ]
            },
            {
             "iteration": 31,
             "learn": [
              0.2699450778
             ],
             "passed_time": 14.39392302,
             "remaining_time": 30.58708642,
             "test": [
              0.2746616268
             ]
            },
            {
             "iteration": 32,
             "learn": [
              0.2626934478
             ],
             "passed_time": 14.81902049,
             "remaining_time": 30.08710222,
             "test": [
              0.2673786961
             ]
            },
            {
             "iteration": 33,
             "learn": [
              0.256767221
             ],
             "passed_time": 15.22579792,
             "remaining_time": 29.55596067,
             "test": [
              0.2614414276
             ]
            },
            {
             "iteration": 34,
             "learn": [
              0.2500823689
             ],
             "passed_time": 15.65961434,
             "remaining_time": 29.08214092,
             "test": [
              0.2546488585
             ]
            },
            {
             "iteration": 35,
             "learn": [
              0.2435871309
             ],
             "passed_time": 16.09289469,
             "remaining_time": 28.60959055,
             "test": [
              0.2481921471
             ]
            },
            {
             "iteration": 36,
             "learn": [
              0.2372609291
             ],
             "passed_time": 16.5223401,
             "remaining_time": 28.13263313,
             "test": [
              0.2419623692
             ]
            },
            {
             "iteration": 37,
             "learn": [
              0.2312799977
             ],
             "passed_time": 16.96348202,
             "remaining_time": 27.67726014,
             "test": [
              0.2358942106
             ]
            },
            {
             "iteration": 38,
             "learn": [
              0.2256860544
             ],
             "passed_time": 17.44483088,
             "remaining_time": 27.28550471,
             "test": [
              0.2302004597
             ]
            },
            {
             "iteration": 39,
             "learn": [
              0.2208540966
             ],
             "passed_time": 17.93156282,
             "remaining_time": 26.89734423,
             "test": [
              0.2256370193
             ]
            },
            {
             "iteration": 40,
             "learn": [
              0.215508162
             ],
             "passed_time": 18.43648778,
             "remaining_time": 26.53055559,
             "test": [
              0.2201937959
             ]
            },
            {
             "iteration": 41,
             "learn": [
              0.210565179
             ],
             "passed_time": 18.86235326,
             "remaining_time": 26.04801164,
             "test": [
              0.2152167318
             ]
            },
            {
             "iteration": 42,
             "learn": [
              0.2052419471
             ],
             "passed_time": 19.29454778,
             "remaining_time": 25.57649357,
             "test": [
              0.2099824135
             ]
            },
            {
             "iteration": 43,
             "learn": [
              0.2004699746
             ],
             "passed_time": 19.73551319,
             "remaining_time": 25.11792588,
             "test": [
              0.2053304876
             ]
            },
            {
             "iteration": 44,
             "learn": [
              0.1958790662
             ],
             "passed_time": 20.15667168,
             "remaining_time": 24.63593206,
             "test": [
              0.2007519094
             ]
            },
            {
             "iteration": 45,
             "learn": [
              0.1913975274
             ],
             "passed_time": 20.61470485,
             "remaining_time": 24.19987091,
             "test": [
              0.1964084436
             ]
            },
            {
             "iteration": 46,
             "learn": [
              0.1869522449
             ],
             "passed_time": 21.11714758,
             "remaining_time": 23.81295365,
             "test": [
              0.1920453066
             ]
            },
            {
             "iteration": 47,
             "learn": [
              0.1829111485
             ],
             "passed_time": 21.55566949,
             "remaining_time": 23.35197529,
             "test": [
              0.1880535784
             ]
            },
            {
             "iteration": 48,
             "learn": [
              0.1791966885
             ],
             "passed_time": 22.03566316,
             "remaining_time": 22.93507799,
             "test": [
              0.1843402554
             ]
            },
            {
             "iteration": 49,
             "learn": [
              0.1757976823
             ],
             "passed_time": 22.41386449,
             "remaining_time": 22.41386449,
             "test": [
              0.18097367
             ]
            },
            {
             "iteration": 50,
             "learn": [
              0.172306283
             ],
             "passed_time": 22.80623644,
             "remaining_time": 21.91187422,
             "test": [
              0.1774234366
             ]
            },
            {
             "iteration": 51,
             "learn": [
              0.168843762
             ],
             "passed_time": 23.23484322,
             "remaining_time": 21.44754758,
             "test": [
              0.1740055044
             ]
            },
            {
             "iteration": 52,
             "learn": [
              0.1651351913
             ],
             "passed_time": 23.71352366,
             "remaining_time": 21.02897381,
             "test": [
              0.1704537462
             ]
            },
            {
             "iteration": 53,
             "learn": [
              0.1618233189
             ],
             "passed_time": 24.10783857,
             "remaining_time": 20.53630693,
             "test": [
              0.1672185001
             ]
            },
            {
             "iteration": 54,
             "learn": [
              0.1583631647
             ],
             "passed_time": 24.57125537,
             "remaining_time": 20.10375439,
             "test": [
              0.163727943
             ]
            },
            {
             "iteration": 55,
             "learn": [
              0.1554423376
             ],
             "passed_time": 24.96446401,
             "remaining_time": 19.61493601,
             "test": [
              0.1607462092
             ]
            },
            {
             "iteration": 56,
             "learn": [
              0.1526789466
             ],
             "passed_time": 25.36381948,
             "remaining_time": 19.13410944,
             "test": [
              0.1578383088
             ]
            },
            {
             "iteration": 57,
             "learn": [
              0.1499082289
             ],
             "passed_time": 25.75939139,
             "remaining_time": 18.65335239,
             "test": [
              0.1551177922
             ]
            },
            {
             "iteration": 58,
             "learn": [
              0.1476782492
             ],
             "passed_time": 26.14689908,
             "remaining_time": 18.16987902,
             "test": [
              0.1528175085
             ]
            },
            {
             "iteration": 59,
             "learn": [
              0.1445472288
             ],
             "passed_time": 26.62266986,
             "remaining_time": 17.74844657,
             "test": [
              0.1497482151
             ]
            },
            {
             "iteration": 60,
             "learn": [
              0.1419220653
             ],
             "passed_time": 27.02683011,
             "remaining_time": 17.27944876,
             "test": [
              0.1470941303
             ]
            },
            {
             "iteration": 61,
             "learn": [
              0.1398185931
             ],
             "passed_time": 27.42046827,
             "remaining_time": 16.80609346,
             "test": [
              0.1449955502
             ]
            },
            {
             "iteration": 62,
             "learn": [
              0.137475992
             ],
             "passed_time": 27.81528385,
             "remaining_time": 16.33596036,
             "test": [
              0.1426764158
             ]
            },
            {
             "iteration": 63,
             "learn": [
              0.1346277444
             ],
             "passed_time": 28.29008759,
             "remaining_time": 15.91317427,
             "test": [
              0.1398155309
             ]
            },
            {
             "iteration": 64,
             "learn": [
              0.1324697379
             ],
             "passed_time": 28.70740552,
             "remaining_time": 15.45783374,
             "test": [
              0.1376424556
             ]
            },
            {
             "iteration": 65,
             "learn": [
              0.1304079199
             ],
             "passed_time": 29.0880738,
             "remaining_time": 14.98476529,
             "test": [
              0.1357371771
             ]
            },
            {
             "iteration": 66,
             "learn": [
              0.1281176693
             ],
             "passed_time": 29.51913475,
             "remaining_time": 14.53927532,
             "test": [
              0.1334728533
             ]
            },
            {
             "iteration": 67,
             "learn": [
              0.1265456597
             ],
             "passed_time": 29.88585545,
             "remaining_time": 14.06393198,
             "test": [
              0.1318044831
             ]
            },
            {
             "iteration": 68,
             "learn": [
              0.124749528
             ],
             "passed_time": 30.22996513,
             "remaining_time": 13.58157854,
             "test": [
              0.1300074483
             ]
            },
            {
             "iteration": 69,
             "learn": [
              0.1222561507
             ],
             "passed_time": 30.69457286,
             "remaining_time": 13.15481694,
             "test": [
              0.1274297067
             ]
            },
            {
             "iteration": 70,
             "learn": [
              0.1208573856
             ],
             "passed_time": 31.02825508,
             "remaining_time": 12.67351264,
             "test": [
              0.1260151808
             ]
            },
            {
             "iteration": 71,
             "learn": [
              0.1192693939
             ],
             "passed_time": 31.38755488,
             "remaining_time": 12.20627134,
             "test": [
              0.1244710353
             ]
            },
            {
             "iteration": 72,
             "learn": [
              0.1170113909
             ],
             "passed_time": 31.83756703,
             "remaining_time": 11.77553849,
             "test": [
              0.1221683097
             ]
            },
            {
             "iteration": 73,
             "learn": [
              0.114848786
             ],
             "passed_time": 32.28613075,
             "remaining_time": 11.34377567,
             "test": [
              0.1199315324
             ]
            },
            {
             "iteration": 74,
             "learn": [
              0.1136680203
             ],
             "passed_time": 32.58293709,
             "remaining_time": 10.86097903,
             "test": [
              0.1187555904
             ]
            },
            {
             "iteration": 75,
             "learn": [
              0.1116458827
             ],
             "passed_time": 33.0763595,
             "remaining_time": 10.44516616,
             "test": [
              0.1166806947
             ]
            },
            {
             "iteration": 76,
             "learn": [
              0.1101467661
             ],
             "passed_time": 33.44024251,
             "remaining_time": 9.988643868,
             "test": [
              0.115200196
             ]
            },
            {
             "iteration": 77,
             "learn": [
              0.1089445808
             ],
             "passed_time": 33.77497984,
             "remaining_time": 9.526276364,
             "test": [
              0.1140777463
             ]
            },
            {
             "iteration": 78,
             "learn": [
              0.1078622981
             ],
             "passed_time": 34.09829833,
             "remaining_time": 9.064104619,
             "test": [
              0.113043332
             ]
            },
            {
             "iteration": 79,
             "learn": [
              0.1059777225
             ],
             "passed_time": 34.54215603,
             "remaining_time": 8.635539008,
             "test": [
              0.1111490329
             ]
            },
            {
             "iteration": 80,
             "learn": [
              0.1040356994
             ],
             "passed_time": 35.03777007,
             "remaining_time": 8.218736188,
             "test": [
              0.1092762067
             ]
            },
            {
             "iteration": 81,
             "learn": [
              0.1030710471
             ],
             "passed_time": 35.36568643,
             "remaining_time": 7.76319946,
             "test": [
              0.1082962305
             ]
            },
            {
             "iteration": 82,
             "learn": [
              0.1016539657
             ],
             "passed_time": 35.78533345,
             "remaining_time": 7.329526129,
             "test": [
              0.1069259147
             ]
            },
            {
             "iteration": 83,
             "learn": [
              0.1004223772
             ],
             "passed_time": 36.18117213,
             "remaining_time": 6.891651835,
             "test": [
              0.1056985193
             ]
            },
            {
             "iteration": 84,
             "learn": [
              0.0988068093
             ],
             "passed_time": 36.82962444,
             "remaining_time": 6.49934549,
             "test": [
              0.1040736371
             ]
            },
            {
             "iteration": 85,
             "learn": [
              0.09780415374
             ],
             "passed_time": 37.2979552,
             "remaining_time": 6.071760148,
             "test": [
              0.1031107075
             ]
            },
            {
             "iteration": 86,
             "learn": [
              0.09652844158
             ],
             "passed_time": 37.78463203,
             "remaining_time": 5.645979499,
             "test": [
              0.1018744968
             ]
            },
            {
             "iteration": 87,
             "learn": [
              0.09519265015
             ],
             "passed_time": 38.18325906,
             "remaining_time": 5.206808054,
             "test": [
              0.1005850986
             ]
            },
            {
             "iteration": 88,
             "learn": [
              0.09371897604
             ],
             "passed_time": 38.62860778,
             "remaining_time": 4.77432231,
             "test": [
              0.09908209465
             ]
            },
            {
             "iteration": 89,
             "learn": [
              0.09294985491
             ],
             "passed_time": 38.95048538,
             "remaining_time": 4.327831709,
             "test": [
              0.09830711862
             ]
            },
            {
             "iteration": 90,
             "learn": [
              0.0913341752
             ],
             "passed_time": 39.40684438,
             "remaining_time": 3.897380213,
             "test": [
              0.09668457106
             ]
            },
            {
             "iteration": 91,
             "learn": [
              0.09034995379
             ],
             "passed_time": 39.77332204,
             "remaining_time": 3.458549742,
             "test": [
              0.09579019756
             ]
            },
            {
             "iteration": 92,
             "learn": [
              0.08899790024
             ],
             "passed_time": 40.16522477,
             "remaining_time": 3.023188961,
             "test": [
              0.09452502292
             ]
            },
            {
             "iteration": 93,
             "learn": [
              0.08792036183
             ],
             "passed_time": 40.58120711,
             "remaining_time": 2.590289816,
             "test": [
              0.09348189077
             ]
            },
            {
             "iteration": 94,
             "learn": [
              0.08673232577
             ],
             "passed_time": 40.99565348,
             "remaining_time": 2.157665973,
             "test": [
              0.09223903495
             ]
            },
            {
             "iteration": 95,
             "learn": [
              0.0861014659
             ],
             "passed_time": 41.30778546,
             "remaining_time": 1.721157727,
             "test": [
              0.0916793302
             ]
            },
            {
             "iteration": 96,
             "learn": [
              0.08499451564
             ],
             "passed_time": 41.71738615,
             "remaining_time": 1.290228438,
             "test": [
              0.09059665899
             ]
            },
            {
             "iteration": 97,
             "learn": [
              0.08357984963
             ],
             "passed_time": 42.18363684,
             "remaining_time": 0.8608905478,
             "test": [
              0.08914574028
             ]
            },
            {
             "iteration": 98,
             "learn": [
              0.08240465847
             ],
             "passed_time": 42.58128072,
             "remaining_time": 0.4301139467,
             "test": [
              0.08804584804
             ]
            },
            {
             "iteration": 99,
             "learn": [
              0.08155991034
             ],
             "passed_time": 42.90678812,
             "remaining_time": 0,
             "test": [
              0.08732678709
             ]
            }
           ],
           "meta": {
            "iteration_count": 100,
            "launch_mode": "Train",
            "learn_metrics": [
             {
              "best_value": "Min",
              "name": "CrossEntropy"
             }
            ],
            "learn_sets": [
             "learn"
            ],
            "name": "experiment",
            "parameters": "",
            "test_metrics": [
             {
              "best_value": "Min",
              "name": "CrossEntropy"
             }
            ],
            "test_sets": [
             "test"
            ]
           }
          },
          "passed_iterations": 99,
          "total_iterations": 100
         },
         "name": "catboost_info",
         "path": "catboost_info"
        }
       },
       "layout": "IPY_MODEL_2e305eb0906645b7833cad5b0b2d4d95"
      }
     },
     "0d38fa3bfdd94f739714930d11ddc49f": {
      "model_module": "@jupyter-widgets/base",
      "model_module_version": "1.2.0",
      "model_name": "LayoutModel",
      "state": {
       "_model_module": "@jupyter-widgets/base",
       "_model_module_version": "1.2.0",
       "_model_name": "LayoutModel",
       "_view_count": null,
       "_view_module": "@jupyter-widgets/base",
       "_view_module_version": "1.2.0",
       "_view_name": "LayoutView",
       "align_content": null,
       "align_items": null,
       "align_self": "stretch",
       "border": null,
       "bottom": null,
       "display": null,
       "flex": null,
       "flex_flow": null,
       "grid_area": null,
       "grid_auto_columns": null,
       "grid_auto_flow": null,
       "grid_auto_rows": null,
       "grid_column": null,
       "grid_gap": null,
       "grid_row": null,
       "grid_template_areas": null,
       "grid_template_columns": null,
       "grid_template_rows": null,
       "height": "500px",
       "justify_content": null,
       "justify_items": null,
       "left": null,
       "margin": null,
       "max_height": null,
       "max_width": null,
       "min_height": null,
       "min_width": null,
       "object_fit": null,
       "object_position": null,
       "order": null,
       "overflow": null,
       "overflow_x": null,
       "overflow_y": null,
       "padding": null,
       "right": null,
       "top": null,
       "visibility": null,
       "width": null
      }
     },
     "0e84db77959e489d9f961c136b822505": {
      "model_module": "@jupyter-widgets/base",
      "model_module_version": "1.2.0",
      "model_name": "LayoutModel",
      "state": {
       "_model_module": "@jupyter-widgets/base",
       "_model_module_version": "1.2.0",
       "_model_name": "LayoutModel",
       "_view_count": null,
       "_view_module": "@jupyter-widgets/base",
       "_view_module_version": "1.2.0",
       "_view_name": "LayoutView",
       "align_content": null,
       "align_items": null,
       "align_self": "stretch",
       "border": null,
       "bottom": null,
       "display": null,
       "flex": null,
       "flex_flow": null,
       "grid_area": null,
       "grid_auto_columns": null,
       "grid_auto_flow": null,
       "grid_auto_rows": null,
       "grid_column": null,
       "grid_gap": null,
       "grid_row": null,
       "grid_template_areas": null,
       "grid_template_columns": null,
       "grid_template_rows": null,
       "height": "500px",
       "justify_content": null,
       "justify_items": null,
       "left": null,
       "margin": null,
       "max_height": null,
       "max_width": null,
       "min_height": null,
       "min_width": null,
       "object_fit": null,
       "object_position": null,
       "order": null,
       "overflow": null,
       "overflow_x": null,
       "overflow_y": null,
       "padding": null,
       "right": null,
       "top": null,
       "visibility": null,
       "width": null
      }
     },
     "0f7cd032d39141c1825566ed8d6f089e": {
      "model_module": "@jupyter-widgets/base",
      "model_module_version": "1.2.0",
      "model_name": "LayoutModel",
      "state": {
       "_model_module": "@jupyter-widgets/base",
       "_model_module_version": "1.2.0",
       "_model_name": "LayoutModel",
       "_view_count": null,
       "_view_module": "@jupyter-widgets/base",
       "_view_module_version": "1.2.0",
       "_view_name": "LayoutView",
       "align_content": null,
       "align_items": null,
       "align_self": "stretch",
       "border": null,
       "bottom": null,
       "display": null,
       "flex": null,
       "flex_flow": null,
       "grid_area": null,
       "grid_auto_columns": null,
       "grid_auto_flow": null,
       "grid_auto_rows": null,
       "grid_column": null,
       "grid_gap": null,
       "grid_row": null,
       "grid_template_areas": null,
       "grid_template_columns": null,
       "grid_template_rows": null,
       "height": "500px",
       "justify_content": null,
       "justify_items": null,
       "left": null,
       "margin": null,
       "max_height": null,
       "max_width": null,
       "min_height": null,
       "min_width": null,
       "object_fit": null,
       "object_position": null,
       "order": null,
       "overflow": null,
       "overflow_x": null,
       "overflow_y": null,
       "padding": null,
       "right": null,
       "top": null,
       "visibility": null,
       "width": null
      }
     },
     "247ef6b02ba04ab5ae555ed71666eb84": {
      "model_module": "catboost-widget",
      "model_module_version": "^1.0.0",
      "model_name": "CatboostWidgetModel",
      "state": {
       "_dom_classes": [],
       "_model_module": "catboost-widget",
       "_model_module_version": "^1.0.0",
       "_model_name": "CatboostWidgetModel",
       "_view_count": null,
       "_view_module": "catboost-widget",
       "_view_module_version": "^1.0.0",
       "_view_name": "CatboostWidgetView",
       "data": {
        "catboost_info": {
         "content": {
          "data": {
           "iterations": [
            {
             "iteration": 0,
             "learn": [
              0.6613876954
             ],
             "passed_time": 0.414683715,
             "remaining_time": 41.05368779,
             "test": [
              0.6636046558
             ]
            },
            {
             "iteration": 1,
             "learn": [
              0.6363201492
             ],
             "passed_time": 0.8218211968,
             "remaining_time": 40.26923864,
             "test": [
              0.6357829337
             ]
            },
            {
             "iteration": 2,
             "learn": [
              0.6093978155
             ],
             "passed_time": 1.20366135,
             "remaining_time": 38.91838366,
             "test": [
              0.6095356152
             ]
            },
            {
             "iteration": 3,
             "learn": [
              0.5837534488
             ],
             "passed_time": 1.657815962,
             "remaining_time": 39.78758309,
             "test": [
              0.5847307903
             ]
            },
            {
             "iteration": 4,
             "learn": [
              0.5622346244
             ],
             "passed_time": 2.048449527,
             "remaining_time": 38.92054101,
             "test": [
              0.5612605752
             ]
            },
            {
             "iteration": 5,
             "learn": [
              0.5378407323
             ],
             "passed_time": 2.45043416,
             "remaining_time": 38.39013517,
             "test": [
              0.53901888
             ]
            },
            {
             "iteration": 6,
             "learn": [
              0.5169342736
             ],
             "passed_time": 2.852579216,
             "remaining_time": 37.89855244,
             "test": [
              0.5179158257
             ]
            },
            {
             "iteration": 7,
             "learn": [
              0.4987568069
             ],
             "passed_time": 3.216707883,
             "remaining_time": 36.99214066,
             "test": [
              0.4978695946
             ]
            },
            {
             "iteration": 8,
             "learn": [
              0.4785986203
             ],
             "passed_time": 3.676435906,
             "remaining_time": 37.17285194,
             "test": [
              0.4788092014
             ]
            },
            {
             "iteration": 9,
             "learn": [
              0.4606544098
             ],
             "passed_time": 4.06153261,
             "remaining_time": 36.55379349,
             "test": [
              0.4606668397
             ]
            },
            {
             "iteration": 10,
             "learn": [
              0.4440157778
             ],
             "passed_time": 4.455303612,
             "remaining_time": 36.0474565,
             "test": [
              0.4433801024
             ]
            },
            {
             "iteration": 11,
             "learn": [
              0.4281375598
             ],
             "passed_time": 4.863091055,
             "remaining_time": 35.66266773,
             "test": [
              0.4268950953
             ]
            },
            {
             "iteration": 12,
             "learn": [
              0.4122863704
             ],
             "passed_time": 5.325873623,
             "remaining_time": 35.64238501,
             "test": [
              0.4111653218
             ]
            },
            {
             "iteration": 13,
             "learn": [
              0.3968788799
             ],
             "passed_time": 5.698170393,
             "remaining_time": 35.0030467,
             "test": [
              0.3961409789
             ]
            },
            {
             "iteration": 14,
             "learn": [
              0.3825145314
             ],
             "passed_time": 6.127176259,
             "remaining_time": 34.72066547,
             "test": [
              0.3817821139
             ]
            },
            {
             "iteration": 15,
             "learn": [
              0.3674492344
             ],
             "passed_time": 6.566836224,
             "remaining_time": 34.47589018,
             "test": [
              0.3680491832
             ]
            },
            {
             "iteration": 16,
             "learn": [
              0.3540780675
             ],
             "passed_time": 6.955388377,
             "remaining_time": 33.9586609,
             "test": [
              0.3549057364
             ]
            },
            {
             "iteration": 17,
             "learn": [
              0.3433129633
             ],
             "passed_time": 7.398846882,
             "remaining_time": 33.70585802,
             "test": [
              0.3423179806
             ]
            },
            {
             "iteration": 18,
             "learn": [
              0.3302106282
             ],
             "passed_time": 7.788731951,
             "remaining_time": 33.20459411,
             "test": [
              0.3302665785
             ]
            },
            {
             "iteration": 19,
             "learn": [
              0.3198029953
             ],
             "passed_time": 8.191261729,
             "remaining_time": 32.76504692,
             "test": [
              0.31870688
             ]
            },
            {
             "iteration": 20,
             "learn": [
              0.3071935715
             ],
             "passed_time": 8.661411146,
             "remaining_time": 32.58340384,
             "test": [
              0.3076203025
             ]
            },
            {
             "iteration": 21,
             "learn": [
              0.2970188647
             ],
             "passed_time": 9.069233882,
             "remaining_time": 32.15455649,
             "test": [
              0.2969793127
             ]
            },
            {
             "iteration": 22,
             "learn": [
              0.2869826084
             ],
             "passed_time": 9.527049692,
             "remaining_time": 31.89490549,
             "test": [
              0.286764686
             ]
            },
            {
             "iteration": 23,
             "learn": [
              0.2767034922
             ],
             "passed_time": 9.945458371,
             "remaining_time": 31.49395151,
             "test": [
              0.2769560222
             ]
            },
            {
             "iteration": 24,
             "learn": [
              0.2667331139
             ],
             "passed_time": 10.31219914,
             "remaining_time": 30.93659741,
             "test": [
              0.2675316561
             ]
            },
            {
             "iteration": 25,
             "learn": [
              0.258150809
             ],
             "passed_time": 10.67963588,
             "remaining_time": 30.39588674,
             "test": [
              0.2584719115
             ]
            },
            {
             "iteration": 26,
             "learn": [
              0.2501237561
             ],
             "passed_time": 11.12142145,
             "remaining_time": 30.06902837,
             "test": [
              0.2497601028
             ]
            },
            {
             "iteration": 27,
             "learn": [
              0.2421344556
             ],
             "passed_time": 11.49210362,
             "remaining_time": 29.55112358,
             "test": [
              0.2413796131
             ]
            },
            {
             "iteration": 28,
             "learn": [
              0.2338715284
             ],
             "passed_time": 11.86956693,
             "remaining_time": 29.0599742,
             "test": [
              0.233316536
             ]
            },
            {
             "iteration": 29,
             "learn": [
              0.2260495462
             ],
             "passed_time": 12.29351413,
             "remaining_time": 28.6848663,
             "test": [
              0.2255550347
             ]
            },
            {
             "iteration": 30,
             "learn": [
              0.2186970215
             ],
             "passed_time": 12.86570657,
             "remaining_time": 28.63657268,
             "test": [
              0.2180803511
             ]
            },
            {
             "iteration": 31,
             "learn": [
              0.2111092528
             ],
             "passed_time": 13.55437108,
             "remaining_time": 28.80303853,
             "test": [
              0.210882311
             ]
            },
            {
             "iteration": 32,
             "learn": [
              0.2035735552
             ],
             "passed_time": 14.11182087,
             "remaining_time": 28.65127268,
             "test": [
              0.2039456437
             ]
            },
            {
             "iteration": 33,
             "learn": [
              0.196774476
             ],
             "passed_time": 14.53458065,
             "remaining_time": 28.21418596,
             "test": [
              0.1972640003
             ]
            },
            {
             "iteration": 34,
             "learn": [
              0.1913601517
             ],
             "passed_time": 14.97440433,
             "remaining_time": 27.80960805,
             "test": [
              0.1908235232
             ]
            },
            {
             "iteration": 35,
             "learn": [
              0.1841921432
             ],
             "passed_time": 15.36083257,
             "remaining_time": 27.30814679,
             "test": [
              0.1846159809
             ]
            },
            {
             "iteration": 36,
             "learn": [
              0.178979636
             ],
             "passed_time": 15.77513024,
             "remaining_time": 26.86035689,
             "test": [
              0.1786274597
             ]
            },
            {
             "iteration": 37,
             "learn": [
              0.1724591631
             ],
             "passed_time": 16.15727524,
             "remaining_time": 26.36187012,
             "test": [
              0.172849567
             ]
            },
            {
             "iteration": 38,
             "learn": [
              0.1678548559
             ],
             "passed_time": 16.657292,
             "remaining_time": 26.05371312,
             "test": [
              0.1672778509
             ]
            },
            {
             "iteration": 39,
             "learn": [
              0.1616863171
             ],
             "passed_time": 17.02494622,
             "remaining_time": 25.53741933,
             "test": [
              0.1618996878
             ]
            },
            {
             "iteration": 40,
             "learn": [
              0.1565500507
             ],
             "passed_time": 17.40710423,
             "remaining_time": 25.04924756,
             "test": [
              0.156707986
             ]
            },
            {
             "iteration": 41,
             "learn": [
              0.1522119427
             ],
             "passed_time": 17.90573622,
             "remaining_time": 24.72696907,
             "test": [
              0.1516991998
             ]
            },
            {
             "iteration": 42,
             "learn": [
              0.1472215555
             ],
             "passed_time": 18.22150632,
             "remaining_time": 24.15408977,
             "test": [
              0.146860297
             ]
            },
            {
             "iteration": 43,
             "learn": [
              0.1421023686
             ],
             "passed_time": 18.62747175,
             "remaining_time": 23.70769131,
             "test": [
              0.1421894612
             ]
            },
            {
             "iteration": 44,
             "learn": [
              0.1373681985
             ],
             "passed_time": 19.01481655,
             "remaining_time": 23.24033134,
             "test": [
              0.1376776768
             ]
            },
            {
             "iteration": 45,
             "learn": [
              0.1331369663
             ],
             "passed_time": 19.36644657,
             "remaining_time": 22.73452423,
             "test": [
              0.1333186661
             ]
            },
            {
             "iteration": 46,
             "learn": [
              0.1291282436
             ],
             "passed_time": 19.81536711,
             "remaining_time": 22.34498844,
             "test": [
              0.1291087091
             ]
            },
            {
             "iteration": 47,
             "learn": [
              0.1252018426
             ],
             "passed_time": 20.18910609,
             "remaining_time": 21.8715316,
             "test": [
              0.1250381615
             ]
            },
            {
             "iteration": 48,
             "learn": [
              0.1212926914
             ],
             "passed_time": 20.66082978,
             "remaining_time": 21.50412895,
             "test": [
              0.1211055721
             ]
            },
            {
             "iteration": 49,
             "learn": [
              0.1174044632
             ],
             "passed_time": 21.06503322,
             "remaining_time": 21.06503322,
             "test": [
              0.117305316
             ]
            },
            {
             "iteration": 50,
             "learn": [
              0.1135479087
             ],
             "passed_time": 21.42845321,
             "remaining_time": 20.58812171,
             "test": [
              0.1136317523
             ]
            },
            {
             "iteration": 51,
             "learn": [
              0.1099837079
             ],
             "passed_time": 21.8881927,
             "remaining_time": 20.20448557,
             "test": [
              0.1100782012
             ]
            },
            {
             "iteration": 52,
             "learn": [
              0.1071252406
             ],
             "passed_time": 22.25467487,
             "remaining_time": 19.73527771,
             "test": [
              0.1066428187
             ]
            },
            {
             "iteration": 53,
             "learn": [
              0.1036224962
             ],
             "passed_time": 22.63829535,
             "remaining_time": 19.28447381,
             "test": [
              0.1033210005
             ]
            },
            {
             "iteration": 54,
             "learn": [
              0.09997737745
             ],
             "passed_time": 23.09680054,
             "remaining_time": 18.89738226,
             "test": [
              0.100107945
             ]
            },
            {
             "iteration": 55,
             "learn": [
              0.09735090719
             ],
             "passed_time": 23.51453975,
             "remaining_time": 18.47570981,
             "test": [
              0.09699774487
             ]
            },
            {
             "iteration": 56,
             "learn": [
              0.09400183211
             ],
             "passed_time": 24.00269919,
             "remaining_time": 18.10729939,
             "test": [
              0.09399183396
             ]
            },
            {
             "iteration": 57,
             "learn": [
              0.09143979989
             ],
             "passed_time": 24.42381745,
             "remaining_time": 17.68621264,
             "test": [
              0.09108223397
             ]
            },
            {
             "iteration": 58,
             "learn": [
              0.08820353878
             ],
             "passed_time": 24.80798566,
             "remaining_time": 17.23944766,
             "test": [
              0.08826678661
             ]
            },
            {
             "iteration": 59,
             "learn": [
              0.08572227908
             ],
             "passed_time": 25.18116202,
             "remaining_time": 16.78744135,
             "test": [
              0.08554123908
             ]
            },
            {
             "iteration": 60,
             "learn": [
              0.08283926765
             ],
             "passed_time": 25.62503995,
             "remaining_time": 16.38322226,
             "test": [
              0.08290581762
             ]
            },
            {
             "iteration": 61,
             "learn": [
              0.08034564274
             ],
             "passed_time": 26.0536492,
             "remaining_time": 15.96836564,
             "test": [
              0.08035473731
             ]
            },
            {
             "iteration": 62,
             "learn": [
              0.07820094678
             ],
             "passed_time": 26.47994139,
             "remaining_time": 15.55171161,
             "test": [
              0.07788540405
             ]
            },
            {
             "iteration": 63,
             "learn": [
              0.07572740387
             ],
             "passed_time": 26.90623073,
             "remaining_time": 15.13475478,
             "test": [
              0.07549281984
             ]
            },
            {
             "iteration": 64,
             "learn": [
              0.07319876273
             ],
             "passed_time": 27.29050207,
             "remaining_time": 14.69488573,
             "test": [
              0.0731778491
             ]
            },
            {
             "iteration": 65,
             "learn": [
              0.07087250984
             ],
             "passed_time": 27.75899331,
             "remaining_time": 14.30008746,
             "test": [
              0.07093799707
             ]
            },
            {
             "iteration": 66,
             "learn": [
              0.068717734
             ],
             "passed_time": 28.14781861,
             "remaining_time": 13.86385096,
             "test": [
              0.06876706161
             ]
            },
            {
             "iteration": 67,
             "learn": [
              0.06666585595
             ],
             "passed_time": 28.59695429,
             "remaining_time": 13.45739025,
             "test": [
              0.06666631313
             ]
            },
            {
             "iteration": 68,
             "learn": [
              0.06469739845
             ],
             "passed_time": 28.9524294,
             "remaining_time": 13.00761321,
             "test": [
              0.06463226494
             ]
            },
            {
             "iteration": 69,
             "learn": [
              0.06273819665
             ],
             "passed_time": 29.34109772,
             "remaining_time": 12.57475617,
             "test": [
              0.06266086768
             ]
            },
            {
             "iteration": 70,
             "learn": [
              0.06080156064
             ],
             "passed_time": 29.67122604,
             "remaining_time": 12.11923317,
             "test": [
              0.06075210178
             ]
            },
            {
             "iteration": 71,
             "learn": [
              0.05890172541
             ],
             "passed_time": 30.02598075,
             "remaining_time": 11.67677029,
             "test": [
              0.05890443398
             ]
            },
            {
             "iteration": 72,
             "learn": [
              0.05709906272
             ],
             "passed_time": 30.3623013,
             "remaining_time": 11.22989226,
             "test": [
              0.05711252562
             ]
            },
            {
             "iteration": 73,
             "learn": [
              0.05565244396
             ],
             "passed_time": 30.76618345,
             "remaining_time": 10.80974013,
             "test": [
              0.05537899768
             ]
            },
            {
             "iteration": 74,
             "learn": [
              0.05389951517
             ],
             "passed_time": 31.15096121,
             "remaining_time": 10.38365374,
             "test": [
              0.05369871911
             ]
            },
            {
             "iteration": 75,
             "learn": [
              0.0520633081
             ],
             "passed_time": 31.55635123,
             "remaining_time": 9.965163547,
             "test": [
              0.05206977674
             ]
            },
            {
             "iteration": 76,
             "learn": [
              0.05075059782
             ],
             "passed_time": 32.01185162,
             "remaining_time": 9.561981654,
             "test": [
              0.05049312131
             ]
            },
            {
             "iteration": 77,
             "learn": [
              0.04904834432
             ],
             "passed_time": 32.36532785,
             "remaining_time": 9.128682215,
             "test": [
              0.04896348987
             ]
            },
            {
             "iteration": 78,
             "learn": [
              0.04756531541
             ],
             "passed_time": 32.76138109,
             "remaining_time": 8.708721555,
             "test": [
              0.04748413987
             ]
            },
            {
             "iteration": 79,
             "learn": [
              0.04613039146
             ],
             "passed_time": 33.14109711,
             "remaining_time": 8.285274279,
             "test": [
              0.0460493969
             ]
            },
            {
             "iteration": 80,
             "learn": [
              0.04486082011
             ],
             "passed_time": 33.5389378,
             "remaining_time": 7.86715825,
             "test": [
              0.04465773483
             ]
            },
            {
             "iteration": 81,
             "learn": [
              0.04330820344
             ],
             "passed_time": 33.93017056,
             "remaining_time": 7.44808622,
             "test": [
              0.04330957196
             ]
            },
            {
             "iteration": 82,
             "learn": [
              0.04216214309
             ],
             "passed_time": 34.27174194,
             "remaining_time": 7.019513409,
             "test": [
              0.04200219267
             ]
            },
            {
             "iteration": 83,
             "learn": [
              0.04091119487
             ],
             "passed_time": 34.65230458,
             "remaining_time": 6.600438968,
             "test": [
              0.04073496017
             ]
            },
            {
             "iteration": 84,
             "learn": [
              0.0395589286
             ],
             "passed_time": 35.01095249,
             "remaining_time": 6.178403381,
             "test": [
              0.039508323
             ]
            },
            {
             "iteration": 85,
             "learn": [
              0.03833599376
             ],
             "passed_time": 35.35156923,
             "remaining_time": 5.754906618,
             "test": [
              0.03831801092
             ]
            },
            {
             "iteration": 86,
             "learn": [
              0.03728471253
             ],
             "passed_time": 35.70724493,
             "remaining_time": 5.335565335,
             "test": [
              0.03716418681
             ]
            },
            {
             "iteration": 87,
             "learn": [
              0.0362292972
             ],
             "passed_time": 36.02877966,
             "remaining_time": 4.913015408,
             "test": [
              0.03604623731
             ]
            },
            {
             "iteration": 88,
             "learn": [
              0.03506827197
             ],
             "passed_time": 36.46300489,
             "remaining_time": 4.506663525,
             "test": [
              0.03496541047
             ]
            },
            {
             "iteration": 89,
             "learn": [
              0.0340257282
             ],
             "passed_time": 36.86192315,
             "remaining_time": 4.095769239,
             "test": [
              0.03391624863
             ]
            },
            {
             "iteration": 90,
             "learn": [
              0.03300515547
             ],
             "passed_time": 37.2418134,
             "remaining_time": 3.68325627,
             "test": [
              0.03289788459
             ]
            },
            {
             "iteration": 91,
             "learn": [
              0.03200832227
             ],
             "passed_time": 37.62191944,
             "remaining_time": 3.271471256,
             "test": [
              0.03191064567
             ]
            },
            {
             "iteration": 92,
             "learn": [
              0.03103417967
             ],
             "passed_time": 38.03584329,
             "remaining_time": 2.862912936,
             "test": [
              0.03095479327
             ]
            },
            {
             "iteration": 93,
             "learn": [
              0.03010084051
             ],
             "passed_time": 38.36572647,
             "remaining_time": 2.448876157,
             "test": [
              0.03002651761
             ]
            },
            {
             "iteration": 94,
             "learn": [
              0.02918907811
             ],
             "passed_time": 38.83102607,
             "remaining_time": 2.043738214,
             "test": [
              0.02912896495
             ]
            },
            {
             "iteration": 95,
             "learn": [
              0.02840320461
             ],
             "passed_time": 39.15194741,
             "remaining_time": 1.631331142,
             "test": [
              0.02825597929
             ]
            },
            {
             "iteration": 96,
             "learn": [
              0.0275058128
             ],
             "passed_time": 39.5398213,
             "remaining_time": 1.222881071,
             "test": [
              0.02740966852
             ]
            },
            {
             "iteration": 97,
             "learn": [
              0.02662278745
             ],
             "passed_time": 39.86302305,
             "remaining_time": 0.8135310826,
             "test": [
              0.02659013589
             ]
            },
            {
             "iteration": 98,
             "learn": [
              0.02593905069
             ],
             "passed_time": 40.30305141,
             "remaining_time": 0.4071015294,
             "test": [
              0.02579688206
             ]
            },
            {
             "iteration": 99,
             "learn": [
              0.02507900017
             ],
             "passed_time": 40.65445675,
             "remaining_time": 0,
             "test": [
              0.02502524375
             ]
            }
           ],
           "meta": {
            "iteration_count": 100,
            "launch_mode": "Train",
            "learn_metrics": [
             {
              "best_value": "Min",
              "name": "CrossEntropy"
             }
            ],
            "learn_sets": [
             "learn"
            ],
            "name": "experiment",
            "parameters": "",
            "test_metrics": [
             {
              "best_value": "Min",
              "name": "CrossEntropy"
             }
            ],
            "test_sets": [
             "test"
            ]
           }
          },
          "passed_iterations": 99,
          "total_iterations": 100
         },
         "name": "catboost_info",
         "path": "catboost_info"
        }
       },
       "layout": "IPY_MODEL_0d38fa3bfdd94f739714930d11ddc49f"
      }
     },
     "25acd5c4d67e4f2b9327516e1174e637": {
      "model_module": "catboost-widget",
      "model_module_version": "^1.0.0",
      "model_name": "CatboostWidgetModel",
      "state": {
       "_dom_classes": [],
       "_model_module": "catboost-widget",
       "_model_module_version": "^1.0.0",
       "_model_name": "CatboostWidgetModel",
       "_view_count": null,
       "_view_module": "catboost-widget",
       "_view_module_version": "^1.0.0",
       "_view_name": "CatboostWidgetView",
       "data": {
        "catboost_info": {
         "content": {
          "data": {
           "iterations": [
            {
             "iteration": 0,
             "learn": [
              0.6692396393
             ],
             "passed_time": 0.3806984816,
             "remaining_time": 37.68914968,
             "test": [
              0.6687460409
             ]
            },
            {
             "iteration": 1,
             "learn": [
              0.6458580484
             ],
             "passed_time": 0.7622615616,
             "remaining_time": 37.35081652,
             "test": [
              0.6453656287
             ]
            },
            {
             "iteration": 2,
             "learn": [
              0.6214962013
             ],
             "passed_time": 1.111990839,
             "remaining_time": 35.95437045,
             "test": [
              0.6235015924
             ]
            },
            {
             "iteration": 3,
             "learn": [
              0.6016026004
             ],
             "passed_time": 1.498915535,
             "remaining_time": 35.97397284,
             "test": [
              0.6025277171
             ]
            },
            {
             "iteration": 4,
             "learn": [
              0.581632211
             ],
             "passed_time": 1.847713367,
             "remaining_time": 35.10655397,
             "test": [
              0.5827913652
             ]
            },
            {
             "iteration": 5,
             "learn": [
              0.5625083539
             ],
             "passed_time": 2.208322241,
             "remaining_time": 34.59704844,
             "test": [
              0.5644447555
             ]
            },
            {
             "iteration": 6,
             "learn": [
              0.545296774
             ],
             "passed_time": 2.589640813,
             "remaining_time": 34.40522794,
             "test": [
              0.5464638975
             ]
            },
            {
             "iteration": 7,
             "learn": [
              0.5280680871
             ],
             "passed_time": 2.940584661,
             "remaining_time": 33.8167236,
             "test": [
              0.5294897168
             ]
            },
            {
             "iteration": 8,
             "learn": [
              0.5124473728
             ],
             "passed_time": 3.288307574,
             "remaining_time": 33.24844324,
             "test": [
              0.5134104869
             ]
            },
            {
             "iteration": 9,
             "learn": [
              0.4966767351
             ],
             "passed_time": 3.703938131,
             "remaining_time": 33.33544317,
             "test": [
              0.4978569841
             ]
            },
            {
             "iteration": 10,
             "learn": [
              0.4823465529
             ],
             "passed_time": 4.077452409,
             "remaining_time": 32.99029676,
             "test": [
              0.4836948837
             ]
            },
            {
             "iteration": 11,
             "learn": [
              0.4677272009
             ],
             "passed_time": 4.426052148,
             "remaining_time": 32.45771575,
             "test": [
              0.4696831754
             ]
            },
            {
             "iteration": 12,
             "learn": [
              0.4543039536
             ],
             "passed_time": 4.807670279,
             "remaining_time": 32.17440879,
             "test": [
              0.4563163724
             ]
            },
            {
             "iteration": 13,
             "learn": [
              0.4412750766
             ],
             "passed_time": 5.154890894,
             "remaining_time": 31.66575835,
             "test": [
              0.443391321
             ]
            },
            {
             "iteration": 14,
             "learn": [
              0.4295696403
             ],
             "passed_time": 5.551584138,
             "remaining_time": 31.45897678,
             "test": [
              0.4312420541
             ]
            },
            {
             "iteration": 15,
             "learn": [
              0.4180629712
             ],
             "passed_time": 5.898088058,
             "remaining_time": 30.96496231,
             "test": [
              0.4198818453
             ]
            },
            {
             "iteration": 16,
             "learn": [
              0.4069394275
             ],
             "passed_time": 6.284565555,
             "remaining_time": 30.68346712,
             "test": [
              0.4087843478
             ]
            },
            {
             "iteration": 17,
             "learn": [
              0.3962856557
             ],
             "passed_time": 6.642540305,
             "remaining_time": 30.26046139,
             "test": [
              0.3981731862
             ]
            },
            {
             "iteration": 18,
             "learn": [
              0.3863438979
             ],
             "passed_time": 7.004338074,
             "remaining_time": 29.86059916,
             "test": [
              0.3879346969
             ]
            },
            {
             "iteration": 19,
             "learn": [
              0.376564321
             ],
             "passed_time": 7.336596871,
             "remaining_time": 29.34638748,
             "test": [
              0.3780551365
             ]
            },
            {
             "iteration": 20,
             "learn": [
              0.3669159212
             ],
             "passed_time": 7.68211514,
             "remaining_time": 28.89938553,
             "test": [
              0.3680109417
             ]
            },
            {
             "iteration": 21,
             "learn": [
              0.3577353559
             ],
             "passed_time": 8.022113139,
             "remaining_time": 28.44203749,
             "test": [
              0.3591675117
             ]
            },
            {
             "iteration": 22,
             "learn": [
              0.349131019
             ],
             "passed_time": 8.357430435,
             "remaining_time": 27.97922363,
             "test": [
              0.3503394072
             ]
            },
            {
             "iteration": 23,
             "learn": [
              0.3409031338
             ],
             "passed_time": 8.723823007,
             "remaining_time": 27.62543952,
             "test": [
              0.341895968
             ]
            },
            {
             "iteration": 24,
             "learn": [
              0.3331009315
             ],
             "passed_time": 9.082791567,
             "remaining_time": 27.2483747,
             "test": [
              0.3337345551
             ]
            },
            {
             "iteration": 25,
             "learn": [
              0.3248853092
             ],
             "passed_time": 9.454896749,
             "remaining_time": 26.91009075,
             "test": [
              0.3258719151
             ]
            },
            {
             "iteration": 26,
             "learn": [
              0.3173490533
             ],
             "passed_time": 9.844501486,
             "remaining_time": 26.61661513,
             "test": [
              0.3184610951
             ]
            },
            {
             "iteration": 27,
             "learn": [
              0.3100352945
             ],
             "passed_time": 10.18001964,
             "remaining_time": 26.17719337,
             "test": [
              0.3110810276
             ]
            },
            {
             "iteration": 28,
             "learn": [
              0.3033103174
             ],
             "passed_time": 10.49515376,
             "remaining_time": 25.69503161,
             "test": [
              0.3042510171
             ]
            },
            {
             "iteration": 29,
             "learn": [
              0.296060237
             ],
             "passed_time": 10.8394177,
             "remaining_time": 25.29197463,
             "test": [
              0.2967762187
             ]
            },
            {
             "iteration": 30,
             "learn": [
              0.2897425655
             ],
             "passed_time": 11.17124422,
             "remaining_time": 24.86502745,
             "test": [
              0.2903276064
             ]
            },
            {
             "iteration": 31,
             "learn": [
              0.2831973394
             ],
             "passed_time": 11.51397166,
             "remaining_time": 24.46718978,
             "test": [
              0.2835374169
             ]
            },
            {
             "iteration": 32,
             "learn": [
              0.2769436106
             ],
             "passed_time": 11.88139592,
             "remaining_time": 24.12283415,
             "test": [
              0.2772744925
             ]
            },
            {
             "iteration": 33,
             "learn": [
              0.2709961126
             ],
             "passed_time": 12.28365613,
             "remaining_time": 23.84474425,
             "test": [
              0.2713407755
             ]
            },
            {
             "iteration": 34,
             "learn": [
              0.2654348909
             ],
             "passed_time": 12.70125718,
             "remaining_time": 23.58804905,
             "test": [
              0.2658668397
             ]
            },
            {
             "iteration": 35,
             "learn": [
              0.2600153771
             ],
             "passed_time": 13.03181244,
             "remaining_time": 23.16766657,
             "test": [
              0.2601105208
             ]
            },
            {
             "iteration": 36,
             "learn": [
              0.2548454342
             ],
             "passed_time": 13.40260548,
             "remaining_time": 22.82065257,
             "test": [
              0.2551857469
             ]
            },
            {
             "iteration": 37,
             "learn": [
              0.249963315
             ],
             "passed_time": 13.74955113,
             "remaining_time": 22.43347816,
             "test": [
              0.2499691863
             ]
            },
            {
             "iteration": 38,
             "learn": [
              0.2447416677
             ],
             "passed_time": 14.14666395,
             "remaining_time": 22.12683336,
             "test": [
              0.2446679324
             ]
            },
            {
             "iteration": 39,
             "learn": [
              0.2397746728
             ],
             "passed_time": 14.55489084,
             "remaining_time": 21.83233626,
             "test": [
              0.24004309
             ]
            },
            {
             "iteration": 40,
             "learn": [
              0.2354104557
             ],
             "passed_time": 14.90655537,
             "remaining_time": 21.45089675,
             "test": [
              0.2357084785
             ]
            },
            {
             "iteration": 41,
             "learn": [
              0.2307582582
             ],
             "passed_time": 15.34165538,
             "remaining_time": 21.18609553,
             "test": [
              0.2311083196
             ]
            },
            {
             "iteration": 42,
             "learn": [
              0.2266364268
             ],
             "passed_time": 15.68263059,
             "remaining_time": 20.78860334,
             "test": [
              0.2269013286
             ]
            },
            {
             "iteration": 43,
             "learn": [
              0.2223746935
             ],
             "passed_time": 16.09181909,
             "remaining_time": 20.48049703,
             "test": [
              0.2223474054
             ]
            },
            {
             "iteration": 44,
             "learn": [
              0.2185713809
             ],
             "passed_time": 16.41324506,
             "remaining_time": 20.06063285,
             "test": [
              0.2183711546
             ]
            },
            {
             "iteration": 45,
             "learn": [
              0.2141813802
             ],
             "passed_time": 16.83202126,
             "remaining_time": 19.75932931,
             "test": [
              0.2137198887
             ]
            },
            {
             "iteration": 46,
             "learn": [
              0.2103630895
             ],
             "passed_time": 17.17634587,
             "remaining_time": 19.36907088,
             "test": [
              0.2099068784
             ]
            },
            {
             "iteration": 47,
             "learn": [
              0.2064437767
             ],
             "passed_time": 17.53412418,
             "remaining_time": 18.99530119,
             "test": [
              0.2056357526
             ]
            },
            {
             "iteration": 48,
             "learn": [
              0.2028490127
             ],
             "passed_time": 17.90240967,
             "remaining_time": 18.63312027,
             "test": [
              0.2020061244
             ]
            },
            {
             "iteration": 49,
             "learn": [
              0.1996178361
             ],
             "passed_time": 18.24170925,
             "remaining_time": 18.24170925,
             "test": [
              0.1984912978
             ]
            },
            {
             "iteration": 50,
             "learn": [
              0.1960450076
             ],
             "passed_time": 18.63517342,
             "remaining_time": 17.90438231,
             "test": [
              0.1947894883
             ]
            },
            {
             "iteration": 51,
             "learn": [
              0.1929505475
             ],
             "passed_time": 19.0019967,
             "remaining_time": 17.54030465,
             "test": [
              0.1914825509
             ]
            },
            {
             "iteration": 52,
             "learn": [
              0.1891933301
             ],
             "passed_time": 19.45050385,
             "remaining_time": 17.24856002,
             "test": [
              0.1878469444
             ]
            },
            {
             "iteration": 53,
             "learn": [
              0.186336729
             ],
             "passed_time": 19.77977909,
             "remaining_time": 16.84944145,
             "test": [
              0.1844313899
             ]
            },
            {
             "iteration": 54,
             "learn": [
              0.1831293871
             ],
             "passed_time": 20.18299477,
             "remaining_time": 16.51335936,
             "test": [
              0.181298549
             ]
            },
            {
             "iteration": 55,
             "learn": [
              0.180367848
             ],
             "passed_time": 20.52325724,
             "remaining_time": 16.1254164,
             "test": [
              0.1783731015
             ]
            },
            {
             "iteration": 56,
             "learn": [
              0.1775006961
             ],
             "passed_time": 20.87797354,
             "remaining_time": 15.75005021,
             "test": [
              0.1750675921
             ]
            },
            {
             "iteration": 57,
             "learn": [
              0.1745733718
             ],
             "passed_time": 21.27681068,
             "remaining_time": 15.40734566,
             "test": [
              0.1722291075
             ]
            },
            {
             "iteration": 58,
             "learn": [
              0.1717495435
             ],
             "passed_time": 21.68138374,
             "remaining_time": 15.06672429,
             "test": [
              0.169697435
             ]
            },
            {
             "iteration": 59,
             "learn": [
              0.1694009254
             ],
             "passed_time": 22.01831334,
             "remaining_time": 14.67887556,
             "test": [
              0.1669347055
             ]
            },
            {
             "iteration": 60,
             "learn": [
              0.166882371
             ],
             "passed_time": 22.40469313,
             "remaining_time": 14.324312,
             "test": [
              0.1643800965
             ]
            },
            {
             "iteration": 61,
             "learn": [
              0.1644813867
             ],
             "passed_time": 22.79534434,
             "remaining_time": 13.97134008,
             "test": [
              0.1618576639
             ]
            },
            {
             "iteration": 62,
             "learn": [
              0.1616232784
             ],
             "passed_time": 23.18889564,
             "remaining_time": 13.61887522,
             "test": [
              0.1589143758
             ]
            },
            {
             "iteration": 63,
             "learn": [
              0.159183379
             ],
             "passed_time": 23.59178736,
             "remaining_time": 13.27038039,
             "test": [
              0.1562959289
             ]
            },
            {
             "iteration": 64,
             "learn": [
              0.1571220363
             ],
             "passed_time": 23.9454817,
             "remaining_time": 12.89372092,
             "test": [
              0.1542216048
             ]
            },
            {
             "iteration": 65,
             "learn": [
              0.1544072072
             ],
             "passed_time": 24.36184523,
             "remaining_time": 12.55004148,
             "test": [
              0.1512647106
             ]
            },
            {
             "iteration": 66,
             "learn": [
              0.1519783947
             ],
             "passed_time": 24.76760705,
             "remaining_time": 12.19897064,
             "test": [
              0.1487911677
             ]
            },
            {
             "iteration": 67,
             "learn": [
              0.1500353279
             ],
             "passed_time": 25.10776643,
             "remaining_time": 11.81541949,
             "test": [
              0.1466354178
             ]
            },
            {
             "iteration": 68,
             "learn": [
              0.1476105544
             ],
             "passed_time": 25.59171087,
             "remaining_time": 11.49772517,
             "test": [
              0.1443193096
             ]
            },
            {
             "iteration": 69,
             "learn": [
              0.1458896049
             ],
             "passed_time": 25.9396131,
             "remaining_time": 11.11697704,
             "test": [
              0.1425625062
             ]
            },
            {
             "iteration": 70,
             "learn": [
              0.1442418346
             ],
             "passed_time": 26.30241489,
             "remaining_time": 10.74323989,
             "test": [
              0.1405680905
             ]
            },
            {
             "iteration": 71,
             "learn": [
              0.1422693843
             ],
             "passed_time": 26.68165837,
             "remaining_time": 10.37620048,
             "test": [
              0.1386459035
             ]
            },
            {
             "iteration": 72,
             "learn": [
              0.1403320045
             ],
             "passed_time": 27.05819102,
             "remaining_time": 10.00782408,
             "test": [
              0.1368344568
             ]
            },
            {
             "iteration": 73,
             "learn": [
              0.1382596677
             ],
             "passed_time": 27.53788695,
             "remaining_time": 9.675473795,
             "test": [
              0.1347979837
             ]
            },
            {
             "iteration": 74,
             "learn": [
              0.1367810919
             ],
             "passed_time": 28.02779479,
             "remaining_time": 9.342598264,
             "test": [
              0.1330358388
             ]
            },
            {
             "iteration": 75,
             "learn": [
              0.1351604692
             ],
             "passed_time": 28.48763842,
             "remaining_time": 8.996096344,
             "test": [
              0.1313639533
             ]
            },
            {
             "iteration": 76,
             "learn": [
              0.1336610379
             ],
             "passed_time": 28.93248782,
             "remaining_time": 8.642171688,
             "test": [
              0.1295927185
             ]
            },
            {
             "iteration": 77,
             "learn": [
              0.1322621549
             ],
             "passed_time": 29.24503081,
             "remaining_time": 8.248598434,
             "test": [
              0.1279812471
             ]
            },
            {
             "iteration": 78,
             "learn": [
              0.1304947197
             ],
             "passed_time": 29.61367569,
             "remaining_time": 7.871989741,
             "test": [
              0.1259948233
             ]
            },
            {
             "iteration": 79,
             "learn": [
              0.1290494336
             ],
             "passed_time": 30.00261748,
             "remaining_time": 7.50065437,
             "test": [
              0.1245180302
             ]
            },
            {
             "iteration": 80,
             "learn": [
              0.1270311512
             ],
             "passed_time": 30.45609863,
             "remaining_time": 7.144023135,
             "test": [
              0.1226122721
             ]
            },
            {
             "iteration": 81,
             "learn": [
              0.1255720589
             ],
             "passed_time": 30.83755745,
             "remaining_time": 6.769219927,
             "test": [
              0.1210862096
             ]
            },
            {
             "iteration": 82,
             "learn": [
              0.1242811664
             ],
             "passed_time": 31.2254654,
             "remaining_time": 6.39557725,
             "test": [
              0.1196418081
             ]
            },
            {
             "iteration": 83,
             "learn": [
              0.1225365947
             ],
             "passed_time": 31.69401016,
             "remaining_time": 6.036954316,
             "test": [
              0.117916537
             ]
            },
            {
             "iteration": 84,
             "learn": [
              0.1214662902
             ],
             "passed_time": 32.02193398,
             "remaining_time": 5.650929525,
             "test": [
              0.1168697921
             ]
            },
            {
             "iteration": 85,
             "learn": [
              0.1198204462
             ],
             "passed_time": 32.49378082,
             "remaining_time": 5.289685249,
             "test": [
              0.1152573533
             ]
            },
            {
             "iteration": 86,
             "learn": [
              0.1188332643
             ],
             "passed_time": 32.82330428,
             "remaining_time": 4.904631674,
             "test": [
              0.1140779537
             ]
            },
            {
             "iteration": 87,
             "learn": [
              0.1173299705
             ],
             "passed_time": 33.21725919,
             "remaining_time": 4.529626253,
             "test": [
              0.1123813445
             ]
            },
            {
             "iteration": 88,
             "learn": [
              0.1163740329
             ],
             "passed_time": 33.52808503,
             "remaining_time": 4.143920622,
             "test": [
              0.1113862955
             ]
            },
            {
             "iteration": 89,
             "learn": [
              0.1151676268
             ],
             "passed_time": 33.90467963,
             "remaining_time": 3.767186626,
             "test": [
              0.1099944067
             ]
            },
            {
             "iteration": 90,
             "learn": [
              0.1135687787
             ],
             "passed_time": 34.34814126,
             "remaining_time": 3.397068916,
             "test": [
              0.1084080361
             ]
            },
            {
             "iteration": 91,
             "learn": [
              0.1124395696
             ],
             "passed_time": 34.74624265,
             "remaining_time": 3.021412404,
             "test": [
              0.1071294941
             ]
            },
            {
             "iteration": 92,
             "learn": [
              0.1116137194
             ],
             "passed_time": 35.04259085,
             "remaining_time": 2.637614365,
             "test": [
              0.10607861
             ]
            },
            {
             "iteration": 93,
             "learn": [
              0.1104668052
             ],
             "passed_time": 35.3860221,
             "remaining_time": 2.258682262,
             "test": [
              0.1047794136
             ]
            },
            {
             "iteration": 94,
             "learn": [
              0.1097352256
             ],
             "passed_time": 35.73240931,
             "remaining_time": 1.880653122,
             "test": [
              0.1038986582
             ]
            },
            {
             "iteration": 95,
             "learn": [
              0.1087533258
             ],
             "passed_time": 36.11167239,
             "remaining_time": 1.504653016,
             "test": [
              0.1027790642
             ]
            },
            {
             "iteration": 96,
             "learn": [
              0.1076506519
             ],
             "passed_time": 36.456299,
             "remaining_time": 1.127514402,
             "test": [
              0.1015382891
             ]
            },
            {
             "iteration": 97,
             "learn": [
              0.1067746129
             ],
             "passed_time": 36.85163718,
             "remaining_time": 0.7520742281,
             "test": [
              0.1007536428
             ]
            },
            {
             "iteration": 98,
             "learn": [
              0.1053025034
             ],
             "passed_time": 37.30490107,
             "remaining_time": 0.3768171825,
             "test": [
              0.09934985691
             ]
            },
            {
             "iteration": 99,
             "learn": [
              0.104508606
             ],
             "passed_time": 37.64110507,
             "remaining_time": 0,
             "test": [
              0.09865601709
             ]
            }
           ],
           "meta": {
            "iteration_count": 100,
            "launch_mode": "Train",
            "learn_metrics": [
             {
              "best_value": "Min",
              "name": "CrossEntropy"
             }
            ],
            "learn_sets": [
             "learn"
            ],
            "name": "experiment",
            "parameters": "",
            "test_metrics": [
             {
              "best_value": "Min",
              "name": "CrossEntropy"
             }
            ],
            "test_sets": [
             "test"
            ]
           }
          },
          "passed_iterations": 99,
          "total_iterations": 100
         },
         "name": "catboost_info",
         "path": "catboost_info"
        }
       },
       "layout": "IPY_MODEL_a75e1580fb7d40baaa7617569bea6dda"
      }
     },
     "2e305eb0906645b7833cad5b0b2d4d95": {
      "model_module": "@jupyter-widgets/base",
      "model_module_version": "1.2.0",
      "model_name": "LayoutModel",
      "state": {
       "_model_module": "@jupyter-widgets/base",
       "_model_module_version": "1.2.0",
       "_model_name": "LayoutModel",
       "_view_count": null,
       "_view_module": "@jupyter-widgets/base",
       "_view_module_version": "1.2.0",
       "_view_name": "LayoutView",
       "align_content": null,
       "align_items": null,
       "align_self": "stretch",
       "border": null,
       "bottom": null,
       "display": null,
       "flex": null,
       "flex_flow": null,
       "grid_area": null,
       "grid_auto_columns": null,
       "grid_auto_flow": null,
       "grid_auto_rows": null,
       "grid_column": null,
       "grid_gap": null,
       "grid_row": null,
       "grid_template_areas": null,
       "grid_template_columns": null,
       "grid_template_rows": null,
       "height": "500px",
       "justify_content": null,
       "justify_items": null,
       "left": null,
       "margin": null,
       "max_height": null,
       "max_width": null,
       "min_height": null,
       "min_width": null,
       "object_fit": null,
       "object_position": null,
       "order": null,
       "overflow": null,
       "overflow_x": null,
       "overflow_y": null,
       "padding": null,
       "right": null,
       "top": null,
       "visibility": null,
       "width": null
      }
     },
     "2f0c1abf95fc49efb115ecbf3bbbace5": {
      "model_module": "@jupyter-widgets/base",
      "model_module_version": "1.2.0",
      "model_name": "LayoutModel",
      "state": {
       "_model_module": "@jupyter-widgets/base",
       "_model_module_version": "1.2.0",
       "_model_name": "LayoutModel",
       "_view_count": null,
       "_view_module": "@jupyter-widgets/base",
       "_view_module_version": "1.2.0",
       "_view_name": "LayoutView",
       "align_content": null,
       "align_items": null,
       "align_self": "stretch",
       "border": null,
       "bottom": null,
       "display": null,
       "flex": null,
       "flex_flow": null,
       "grid_area": null,
       "grid_auto_columns": null,
       "grid_auto_flow": null,
       "grid_auto_rows": null,
       "grid_column": null,
       "grid_gap": null,
       "grid_row": null,
       "grid_template_areas": null,
       "grid_template_columns": null,
       "grid_template_rows": null,
       "height": "500px",
       "justify_content": null,
       "justify_items": null,
       "left": null,
       "margin": null,
       "max_height": null,
       "max_width": null,
       "min_height": null,
       "min_width": null,
       "object_fit": null,
       "object_position": null,
       "order": null,
       "overflow": null,
       "overflow_x": null,
       "overflow_y": null,
       "padding": null,
       "right": null,
       "top": null,
       "visibility": null,
       "width": null
      }
     },
     "3264454006a742af91a7a7bd0728f591": {
      "model_module": "catboost-widget",
      "model_module_version": "^1.0.0",
      "model_name": "CatboostWidgetModel",
      "state": {
       "_dom_classes": [],
       "_model_module": "catboost-widget",
       "_model_module_version": "^1.0.0",
       "_model_name": "CatboostWidgetModel",
       "_view_count": null,
       "_view_module": "catboost-widget",
       "_view_module_version": "^1.0.0",
       "_view_name": "CatboostWidgetView",
       "data": {
        "catboost_info": {
         "content": {
          "data": {
           "iterations": [
            {
             "iteration": 0,
             "learn": [
              0.6694955759
             ],
             "passed_time": 0.4674599329,
             "remaining_time": 46.27853336,
             "test": [
              0.6700800805
             ]
            },
            {
             "iteration": 1,
             "learn": [
              0.6490338641
             ],
             "passed_time": 0.9080267975,
             "remaining_time": 44.49331308,
             "test": [
              0.648396708
             ]
            },
            {
             "iteration": 2,
             "learn": [
              0.6263463807
             ],
             "passed_time": 1.313773283,
             "remaining_time": 42.47866949,
             "test": [
              0.6275622317
             ]
            },
            {
             "iteration": 3,
             "learn": [
              0.606428274
             ],
             "passed_time": 1.749182302,
             "remaining_time": 41.98037524,
             "test": [
              0.6079087332
             ]
            },
            {
             "iteration": 4,
             "learn": [
              0.5884356417
             ],
             "passed_time": 2.137048493,
             "remaining_time": 40.60392137,
             "test": [
              0.5889866304
             ]
            },
            {
             "iteration": 5,
             "learn": [
              0.5712237667
             ],
             "passed_time": 2.554748954,
             "remaining_time": 40.02440027,
             "test": [
              0.5711534885
             ]
            },
            {
             "iteration": 6,
             "learn": [
              0.55335227
             ],
             "passed_time": 3.006385005,
             "remaining_time": 39.94197221,
             "test": [
              0.5543824816
             ]
            },
            {
             "iteration": 7,
             "learn": [
              0.5372077127
             ],
             "passed_time": 3.400873829,
             "remaining_time": 39.11004904,
             "test": [
              0.5376154035
             ]
            },
            {
             "iteration": 8,
             "learn": [
              0.5214609429
             ],
             "passed_time": 3.849321425,
             "remaining_time": 38.92091663,
             "test": [
              0.5218773868
             ]
            },
            {
             "iteration": 9,
             "learn": [
              0.5067976561
             ],
             "passed_time": 4.287947647,
             "remaining_time": 38.59152883,
             "test": [
              0.5073377356
             ]
            },
            {
             "iteration": 10,
             "learn": [
              0.492059629
             ],
             "passed_time": 4.713332243,
             "remaining_time": 38.13514269,
             "test": [
              0.4927583855
             ]
            },
            {
             "iteration": 11,
             "learn": [
              0.4787974048
             ],
             "passed_time": 5.080039258,
             "remaining_time": 37.25362123,
             "test": [
              0.4795275368
             ]
            },
            {
             "iteration": 12,
             "learn": [
              0.4655433904
             ],
             "passed_time": 5.483467779,
             "remaining_time": 36.6970536,
             "test": [
              0.466100243
             ]
            },
            {
             "iteration": 13,
             "learn": [
              0.4526430555
             ],
             "passed_time": 5.951210226,
             "remaining_time": 36.55743424,
             "test": [
              0.4531886183
             ]
            },
            {
             "iteration": 14,
             "learn": [
              0.4411331552
             ],
             "passed_time": 6.35773779,
             "remaining_time": 36.02718081,
             "test": [
              0.4416854726
             ]
            },
            {
             "iteration": 15,
             "learn": [
              0.4297083623
             ],
             "passed_time": 6.786414065,
             "remaining_time": 35.62867384,
             "test": [
              0.4301700604
             ]
            },
            {
             "iteration": 16,
             "learn": [
              0.4187603336
             ],
             "passed_time": 7.253576289,
             "remaining_time": 35.41451953,
             "test": [
              0.4189104953
             ]
            },
            {
             "iteration": 17,
             "learn": [
              0.4081386274
             ],
             "passed_time": 7.647513335,
             "remaining_time": 34.83867186,
             "test": [
              0.4084779806
             ]
            },
            {
             "iteration": 18,
             "learn": [
              0.3986337931
             ],
             "passed_time": 8.056331236,
             "remaining_time": 34.34541211,
             "test": [
              0.3988852118
             ]
            },
            {
             "iteration": 19,
             "learn": [
              0.3884138152
             ],
             "passed_time": 8.454717661,
             "remaining_time": 33.81887065,
             "test": [
              0.388841341
             ]
            },
            {
             "iteration": 20,
             "learn": [
              0.3790994639
             ],
             "passed_time": 8.848875709,
             "remaining_time": 33.28862767,
             "test": [
              0.3792516814
             ]
            },
            {
             "iteration": 21,
             "learn": [
              0.369608918
             ],
             "passed_time": 9.311758,
             "remaining_time": 33.01441473,
             "test": [
              0.3698837076
             ]
            },
            {
             "iteration": 22,
             "learn": [
              0.3606982468
             ],
             "passed_time": 9.713418706,
             "remaining_time": 32.51883654,
             "test": [
              0.3610067151
             ]
            },
            {
             "iteration": 23,
             "learn": [
              0.3523368083
             ],
             "passed_time": 10.11424655,
             "remaining_time": 32.02844741,
             "test": [
              0.3525020405
             ]
            },
            {
             "iteration": 24,
             "learn": [
              0.3441194252
             ],
             "passed_time": 10.50735441,
             "remaining_time": 31.52206324,
             "test": [
              0.3442849386
             ]
            },
            {
             "iteration": 25,
             "learn": [
              0.3362360333
             ],
             "passed_time": 10.906171,
             "remaining_time": 31.04064054,
             "test": [
              0.336459689
             ]
            },
            {
             "iteration": 26,
             "learn": [
              0.3287149228
             ],
             "passed_time": 11.29609788,
             "remaining_time": 30.54130168,
             "test": [
              0.329163929
             ]
            },
            {
             "iteration": 27,
             "learn": [
              0.3219869604
             ],
             "passed_time": 11.66118243,
             "remaining_time": 29.98589767,
             "test": [
              0.3226492701
             ]
            },
            {
             "iteration": 28,
             "learn": [
              0.3148889692
             ],
             "passed_time": 12.06426873,
             "remaining_time": 29.53665794,
             "test": [
              0.3157491166
             ]
            },
            {
             "iteration": 29,
             "learn": [
              0.3085568015
             ],
             "passed_time": 12.46335242,
             "remaining_time": 29.08115565,
             "test": [
              0.3092249056
             ]
            },
            {
             "iteration": 30,
             "learn": [
              0.3019226386
             ],
             "passed_time": 12.91306036,
             "remaining_time": 28.74197306,
             "test": [
              0.3027126322
             ]
            },
            {
             "iteration": 31,
             "learn": [
              0.2956464398
             ],
             "passed_time": 13.31533929,
             "remaining_time": 28.29509599,
             "test": [
              0.2964731113
             ]
            },
            {
             "iteration": 32,
             "learn": [
              0.2896756605
             ],
             "passed_time": 13.73442681,
             "remaining_time": 27.88504836,
             "test": [
              0.2904830619
             ]
            },
            {
             "iteration": 33,
             "learn": [
              0.2838527148
             ],
             "passed_time": 14.17386296,
             "remaining_time": 27.51396927,
             "test": [
              0.284703341
             ]
            },
            {
             "iteration": 34,
             "learn": [
              0.2781978533
             ],
             "passed_time": 14.56641534,
             "remaining_time": 27.0519142,
             "test": [
              0.2791493246
             ]
            },
            {
             "iteration": 35,
             "learn": [
              0.2726150635
             ],
             "passed_time": 15.0433677,
             "remaining_time": 26.74376481,
             "test": [
              0.2736680259
             ]
            },
            {
             "iteration": 36,
             "learn": [
              0.2671248991
             ],
             "passed_time": 15.47528319,
             "remaining_time": 26.34980652,
             "test": [
              0.2683698647
             ]
            },
            {
             "iteration": 37,
             "learn": [
              0.262422685
             ],
             "passed_time": 15.93516382,
             "remaining_time": 25.99947781,
             "test": [
              0.26349083
             ]
            },
            {
             "iteration": 38,
             "learn": [
              0.2579277441
             ],
             "passed_time": 16.30394593,
             "remaining_time": 25.50104364,
             "test": [
              0.2590740083
             ]
            },
            {
             "iteration": 39,
             "learn": [
              0.2534544181
             ],
             "passed_time": 16.73278589,
             "remaining_time": 25.09917883,
             "test": [
              0.2548110371
             ]
            },
            {
             "iteration": 40,
             "learn": [
              0.2489071261
             ],
             "passed_time": 17.19030481,
             "remaining_time": 24.73726789,
             "test": [
              0.2502232306
             ]
            },
            {
             "iteration": 41,
             "learn": [
              0.2446598909
             ],
             "passed_time": 17.64042019,
             "remaining_time": 24.36058026,
             "test": [
              0.2457360033
             ]
            },
            {
             "iteration": 42,
             "learn": [
              0.2402539513
             ],
             "passed_time": 18.09329538,
             "remaining_time": 23.98413574,
             "test": [
              0.2413750808
             ]
            },
            {
             "iteration": 43,
             "learn": [
              0.2360807266
             ],
             "passed_time": 18.54954027,
             "remaining_time": 23.60850579,
             "test": [
              0.2372037427
             ]
            },
            {
             "iteration": 44,
             "learn": [
              0.2321274242
             ],
             "passed_time": 18.95646389,
             "remaining_time": 23.16901143,
             "test": [
              0.2329760868
             ]
            },
            {
             "iteration": 45,
             "learn": [
              0.2281746557
             ],
             "passed_time": 19.32004066,
             "remaining_time": 22.68004773,
             "test": [
              0.2293037485
             ]
            },
            {
             "iteration": 46,
             "learn": [
              0.2250321358
             ],
             "passed_time": 19.6905057,
             "remaining_time": 22.20418728,
             "test": [
              0.2259624658
             ]
            },
            {
             "iteration": 47,
             "learn": [
              0.2213185816
             ],
             "passed_time": 20.05379018,
             "remaining_time": 21.72493936,
             "test": [
              0.2225564544
             ]
            },
            {
             "iteration": 48,
             "learn": [
              0.2180629806
             ],
             "passed_time": 20.5254813,
             "remaining_time": 21.36325605,
             "test": [
              0.2191903664
             ]
            },
            {
             "iteration": 49,
             "learn": [
              0.2145253678
             ],
             "passed_time": 20.8977172,
             "remaining_time": 20.8977172,
             "test": [
              0.2159706369
             ]
            },
            {
             "iteration": 50,
             "learn": [
              0.2115870899
             ],
             "passed_time": 21.31852973,
             "remaining_time": 20.48250896,
             "test": [
              0.2129651636
             ]
            },
            {
             "iteration": 51,
             "learn": [
              0.208400484
             ],
             "passed_time": 21.83753067,
             "remaining_time": 20.15772062,
             "test": [
              0.2098573697
             ]
            },
            {
             "iteration": 52,
             "learn": [
              0.2055180656
             ],
             "passed_time": 22.3501977,
             "remaining_time": 19.81998664,
             "test": [
              0.2070691604
             ]
            },
            {
             "iteration": 53,
             "learn": [
              0.2023256281
             ],
             "passed_time": 22.82349474,
             "remaining_time": 19.44223626,
             "test": [
              0.2038541576
             ]
            },
            {
             "iteration": 54,
             "learn": [
              0.1991346798
             ],
             "passed_time": 23.25876661,
             "remaining_time": 19.02989995,
             "test": [
              0.2005024238
             ]
            },
            {
             "iteration": 55,
             "learn": [
              0.1964008335
             ],
             "passed_time": 23.68253979,
             "remaining_time": 18.60770983,
             "test": [
              0.1978398294
             ]
            },
            {
             "iteration": 56,
             "learn": [
              0.1938227264
             ],
             "passed_time": 24.07220158,
             "remaining_time": 18.15973102,
             "test": [
              0.1952945395
             ]
            },
            {
             "iteration": 57,
             "learn": [
              0.1909024539
             ],
             "passed_time": 24.47762893,
             "remaining_time": 17.72517957,
             "test": [
              0.192418144
             ]
            },
            {
             "iteration": 58,
             "learn": [
              0.1882150507
             ],
             "passed_time": 24.89475587,
             "remaining_time": 17.2997456,
             "test": [
              0.1898603569
             ]
            },
            {
             "iteration": 59,
             "learn": [
              0.1860039358
             ],
             "passed_time": 25.2359498,
             "remaining_time": 16.82396653,
             "test": [
              0.1876524381
             ]
            },
            {
             "iteration": 60,
             "learn": [
              0.1833749612
             ],
             "passed_time": 25.64163724,
             "remaining_time": 16.39383364,
             "test": [
              0.1851590504
             ]
            },
            {
             "iteration": 61,
             "learn": [
              0.1804408793
             ],
             "passed_time": 26.16192892,
             "remaining_time": 16.03473063,
             "test": [
              0.1822137579
             ]
            },
            {
             "iteration": 62,
             "learn": [
              0.17789517
             ],
             "passed_time": 26.56629894,
             "remaining_time": 15.60242954,
             "test": [
              0.1797842571
             ]
            },
            {
             "iteration": 63,
             "learn": [
              0.1755046044
             ],
             "passed_time": 27.02358174,
             "remaining_time": 15.20076473,
             "test": [
              0.1774185111
             ]
            },
            {
             "iteration": 64,
             "learn": [
              0.1731727408
             ],
             "passed_time": 27.47271195,
             "remaining_time": 14.79299874,
             "test": [
              0.1751008565
             ]
            },
            {
             "iteration": 65,
             "learn": [
              0.171099911
             ],
             "passed_time": 27.84723863,
             "remaining_time": 14.34554717,
             "test": [
              0.1730384948
             ]
            },
            {
             "iteration": 66,
             "learn": [
              0.1691024429
             ],
             "passed_time": 28.26986732,
             "remaining_time": 13.9239645,
             "test": [
              0.1710646062
             ]
            },
            {
             "iteration": 67,
             "learn": [
              0.1670569792
             ],
             "passed_time": 28.74910186,
             "remaining_time": 13.52898911,
             "test": [
              0.1687731076
             ]
            },
            {
             "iteration": 68,
             "learn": [
              0.1650506433
             ],
             "passed_time": 29.11397226,
             "remaining_time": 13.08019043,
             "test": [
              0.1669310946
             ]
            },
            {
             "iteration": 69,
             "learn": [
              0.162863714
             ],
             "passed_time": 29.56599926,
             "remaining_time": 12.67114254,
             "test": [
              0.1645695718
             ]
            },
            {
             "iteration": 70,
             "learn": [
              0.1610865282
             ],
             "passed_time": 29.93691153,
             "remaining_time": 12.2277526,
             "test": [
              0.1628996754
             ]
            },
            {
             "iteration": 71,
             "learn": [
              0.1592123256
             ],
             "passed_time": 30.3508534,
             "remaining_time": 11.80310966,
             "test": [
              0.1609952681
             ]
            },
            {
             "iteration": 72,
             "learn": [
              0.1573052745
             ],
             "passed_time": 30.75042173,
             "remaining_time": 11.37344365,
             "test": [
              0.1592603252
             ]
            },
            {
             "iteration": 73,
             "learn": [
              0.1550914839
             ],
             "passed_time": 31.23382881,
             "remaining_time": 10.97404796,
             "test": [
              0.15694072
             ]
            },
            {
             "iteration": 74,
             "learn": [
              0.1535677505
             ],
             "passed_time": 31.60846978,
             "remaining_time": 10.53615659,
             "test": [
              0.1552133293
             ]
            },
            {
             "iteration": 75,
             "learn": [
              0.1517898714
             ],
             "passed_time": 32.06652158,
             "remaining_time": 10.12626997,
             "test": [
              0.15357247
             ]
            },
            {
             "iteration": 76,
             "learn": [
              0.1500230337
             ],
             "passed_time": 32.50009498,
             "remaining_time": 9.707820579,
             "test": [
              0.1516501816
             ]
            },
            {
             "iteration": 77,
             "learn": [
              0.1480501672
             ],
             "passed_time": 32.9802487,
             "remaining_time": 9.302121428,
             "test": [
              0.1495439594
             ]
            },
            {
             "iteration": 78,
             "learn": [
              0.1464288593
             ],
             "passed_time": 33.42673523,
             "remaining_time": 8.885587847,
             "test": [
              0.1480297982
             ]
            },
            {
             "iteration": 79,
             "learn": [
              0.1450469616
             ],
             "passed_time": 33.81347467,
             "remaining_time": 8.453368667,
             "test": [
              0.1466742735
             ]
            },
            {
             "iteration": 80,
             "learn": [
              0.1431506756
             ],
             "passed_time": 34.29406332,
             "remaining_time": 8.044286457,
             "test": [
              0.144721923
             ]
            },
            {
             "iteration": 81,
             "learn": [
              0.141459148
             ],
             "passed_time": 34.78894351,
             "remaining_time": 7.636597355,
             "test": [
              0.1428608358
             ]
            },
            {
             "iteration": 82,
             "learn": [
              0.1398295659
             ],
             "passed_time": 35.25743216,
             "remaining_time": 7.221401768,
             "test": [
              0.1411495976
             ]
            },
            {
             "iteration": 83,
             "learn": [
              0.1380496429
             ],
             "passed_time": 35.73533217,
             "remaining_time": 6.806729937,
             "test": [
              0.1392192129
             ]
            },
            {
             "iteration": 84,
             "learn": [
              0.1364926798
             ],
             "passed_time": 36.2118347,
             "remaining_time": 6.390323771,
             "test": [
              0.1375928683
             ]
            },
            {
             "iteration": 85,
             "learn": [
              0.1351827397
             ],
             "passed_time": 36.62049543,
             "remaining_time": 5.961476,
             "test": [
              0.136357488
             ]
            },
            {
             "iteration": 86,
             "learn": [
              0.1339785967
             ],
             "passed_time": 37.05797464,
             "remaining_time": 5.537398509,
             "test": [
              0.1352759939
             ]
            },
            {
             "iteration": 87,
             "learn": [
              0.1326149391
             ],
             "passed_time": 37.50212728,
             "remaining_time": 5.113926448,
             "test": [
              0.1339759294
             ]
            },
            {
             "iteration": 88,
             "learn": [
              0.1315622956
             ],
             "passed_time": 37.90456347,
             "remaining_time": 4.684833687,
             "test": [
              0.1329767041
             ]
            },
            {
             "iteration": 89,
             "learn": [
              0.1299530391
             ],
             "passed_time": 38.36147773,
             "remaining_time": 4.262386414,
             "test": [
              0.1312412508
             ]
            },
            {
             "iteration": 90,
             "learn": [
              0.1285324875
             ],
             "passed_time": 38.75890163,
             "remaining_time": 3.833297963,
             "test": [
              0.1296911707
             ]
            },
            {
             "iteration": 91,
             "learn": [
              0.1270287704
             ],
             "passed_time": 39.22642533,
             "remaining_time": 3.410993507,
             "test": [
              0.1279627934
             ]
            },
            {
             "iteration": 92,
             "learn": [
              0.1255330891
             ],
             "passed_time": 39.70880652,
             "remaining_time": 2.988834899,
             "test": [
              0.1263423677
             ]
            },
            {
             "iteration": 93,
             "learn": [
              0.1245484997
             ],
             "passed_time": 40.09770806,
             "remaining_time": 2.559428174,
             "test": [
              0.125297442
             ]
            },
            {
             "iteration": 94,
             "learn": [
              0.1234351567
             ],
             "passed_time": 40.5401996,
             "remaining_time": 2.133694716,
             "test": [
              0.1242145505
             ]
            },
            {
             "iteration": 95,
             "learn": [
              0.122407896
             ],
             "passed_time": 40.90921049,
             "remaining_time": 1.704550437,
             "test": [
              0.1232389639
             ]
            },
            {
             "iteration": 96,
             "learn": [
              0.1210098408
             ],
             "passed_time": 41.38832863,
             "remaining_time": 1.280051401,
             "test": [
              0.121666556
             ]
            },
            {
             "iteration": 97,
             "learn": [
              0.1201334942
             ],
             "passed_time": 41.80359335,
             "remaining_time": 0.8531345582,
             "test": [
              0.1208136856
             ]
            },
            {
             "iteration": 98,
             "learn": [
              0.1190152221
             ],
             "passed_time": 42.18739224,
             "remaining_time": 0.4261352751,
             "test": [
              0.1196885883
             ]
            },
            {
             "iteration": 99,
             "learn": [
              0.1179261862
             ],
             "passed_time": 42.59364013,
             "remaining_time": 0,
             "test": [
              0.118469212
             ]
            }
           ],
           "meta": {
            "iteration_count": 100,
            "launch_mode": "Train",
            "learn_metrics": [
             {
              "best_value": "Min",
              "name": "CrossEntropy"
             }
            ],
            "learn_sets": [
             "learn"
            ],
            "name": "experiment",
            "parameters": "",
            "test_metrics": [
             {
              "best_value": "Min",
              "name": "CrossEntropy"
             }
            ],
            "test_sets": [
             "test"
            ]
           }
          },
          "passed_iterations": 99,
          "total_iterations": 100
         },
         "name": "catboost_info",
         "path": "catboost_info"
        }
       },
       "layout": "IPY_MODEL_9ffa02e7be344c37b4a0964ebbdcdc53"
      }
     },
     "34b00aafa3bc4ffa942c78ec07b42cc0": {
      "model_module": "catboost-widget",
      "model_module_version": "^1.0.0",
      "model_name": "CatboostWidgetModel",
      "state": {
       "_dom_classes": [],
       "_model_module": "catboost-widget",
       "_model_module_version": "^1.0.0",
       "_model_name": "CatboostWidgetModel",
       "_view_count": null,
       "_view_module": "catboost-widget",
       "_view_module_version": "^1.0.0",
       "_view_name": "CatboostWidgetView",
       "data": {
        "catboost_info": {
         "content": {
          "data": {
           "iterations": [
            {
             "iteration": 0,
             "learn": [
              0.6613983803
             ],
             "passed_time": 0.4090182314,
             "remaining_time": 40.4928049,
             "test": [
              0.663616873
             ]
            },
            {
             "iteration": 1,
             "learn": [
              0.6363406515
             ],
             "passed_time": 0.9213729498,
             "remaining_time": 45.14727454,
             "test": [
              0.6358143545
             ]
            },
            {
             "iteration": 2,
             "learn": [
              0.6094372693
             ],
             "passed_time": 1.457106699,
             "remaining_time": 47.1131166,
             "test": [
              0.609573748
             ]
            },
            {
             "iteration": 3,
             "learn": [
              0.5837918644
             ],
             "passed_time": 1.957242409,
             "remaining_time": 46.97381783,
             "test": [
              0.5847649986
             ]
            },
            {
             "iteration": 4,
             "learn": [
              0.5622767198
             ],
             "passed_time": 2.378958352,
             "remaining_time": 45.20020869,
             "test": [
              0.5613018476
             ]
            },
            {
             "iteration": 5,
             "learn": [
              0.5379222553
             ],
             "passed_time": 2.779364201,
             "remaining_time": 43.54337247,
             "test": [
              0.539067865
             ]
            },
            {
             "iteration": 6,
             "learn": [
              0.516997752
             ],
             "passed_time": 3.185793438,
             "remaining_time": 42.32554139,
             "test": [
              0.5179715553
             ]
            },
            {
             "iteration": 7,
             "learn": [
              0.4988298399
             ],
             "passed_time": 3.55683415,
             "remaining_time": 40.90359272,
             "test": [
              0.4979329722
             ]
            },
            {
             "iteration": 8,
             "learn": [
              0.4787148921
             ],
             "passed_time": 3.97974826,
             "remaining_time": 40.23967685,
             "test": [
              0.4788711271
             ]
            },
            {
             "iteration": 9,
             "learn": [
              0.4607473931
             ],
             "passed_time": 4.368942831,
             "remaining_time": 39.32048548,
             "test": [
              0.460732869
             ]
            },
            {
             "iteration": 10,
             "learn": [
              0.4442740808
             ],
             "passed_time": 4.760601519,
             "remaining_time": 38.51759411,
             "test": [
              0.4434528714
             ]
            },
            {
             "iteration": 11,
             "learn": [
              0.4282362863
             ],
             "passed_time": 5.185024403,
             "remaining_time": 38.02351229,
             "test": [
              0.426976414
             ]
            },
            {
             "iteration": 12,
             "learn": [
              0.4124202335
             ],
             "passed_time": 5.652327236,
             "remaining_time": 37.82711304,
             "test": [
              0.411250152
             ]
            },
            {
             "iteration": 13,
             "learn": [
              0.3970138601
             ],
             "passed_time": 6.013432232,
             "remaining_time": 36.93965514,
             "test": [
              0.3962225646
             ]
            },
            {
             "iteration": 14,
             "learn": [
              0.3826751329
             ],
             "passed_time": 6.446499459,
             "remaining_time": 36.5301636,
             "test": [
              0.3818668494
             ]
            },
            {
             "iteration": 15,
             "learn": [
              0.3676042307
             ],
             "passed_time": 6.853491213,
             "remaining_time": 35.98082887,
             "test": [
              0.368141761
             ]
            },
            {
             "iteration": 16,
             "learn": [
              0.3542665574
             ],
             "passed_time": 7.249990737,
             "remaining_time": 35.3970136,
             "test": [
              0.3550063553
             ]
            },
            {
             "iteration": 17,
             "learn": [
              0.3434537656
             ],
             "passed_time": 7.686911528,
             "remaining_time": 35.01815252,
             "test": [
              0.3424215829
             ]
            },
            {
             "iteration": 18,
             "learn": [
              0.3303886633
             ],
             "passed_time": 8.079627713,
             "remaining_time": 34.44472867,
             "test": [
              0.3303641317
             ]
            },
            {
             "iteration": 19,
             "learn": [
              0.3199424505
             ],
             "passed_time": 8.515114914,
             "remaining_time": 34.06045966,
             "test": [
              0.3187971078
             ]
            },
            {
             "iteration": 20,
             "learn": [
              0.3074158837
             ],
             "passed_time": 8.985890235,
             "remaining_time": 33.80406327,
             "test": [
              0.3077126055
             ]
            },
            {
             "iteration": 21,
             "learn": [
              0.2972192946
             ],
             "passed_time": 9.397177683,
             "remaining_time": 33.31726633,
             "test": [
              0.2970764431
             ]
            },
            {
             "iteration": 22,
             "learn": [
              0.2871431114
             ],
             "passed_time": 9.854498611,
             "remaining_time": 32.99114752,
             "test": [
              0.2868683035
             ]
            },
            {
             "iteration": 23,
             "learn": [
              0.2769083643
             ],
             "passed_time": 10.27847529,
             "remaining_time": 32.54850507,
             "test": [
              0.2770649655
             ]
            },
            {
             "iteration": 24,
             "learn": [
              0.2669695608
             ],
             "passed_time": 10.64892686,
             "remaining_time": 31.94678059,
             "test": [
              0.2676419634
             ]
            },
            {
             "iteration": 25,
             "learn": [
              0.2583937549
             ],
             "passed_time": 11.01472111,
             "remaining_time": 31.34959086,
             "test": [
              0.2585848147
             ]
            },
            {
             "iteration": 26,
             "learn": [
              0.2503533361
             ],
             "passed_time": 11.4638132,
             "remaining_time": 30.99475421,
             "test": [
              0.2498762746
             ]
            },
            {
             "iteration": 27,
             "learn": [
              0.2423603491
             ],
             "passed_time": 11.82247548,
             "remaining_time": 30.40065123,
             "test": [
              0.241493026
             ]
            },
            {
             "iteration": 28,
             "learn": [
              0.2341040655
             ],
             "passed_time": 12.21371535,
             "remaining_time": 29.90254447,
             "test": [
              0.2334310415
             ]
            },
            {
             "iteration": 29,
             "learn": [
              0.2263002068
             ],
             "passed_time": 12.63643005,
             "remaining_time": 29.48500345,
             "test": [
              0.2256716739
             ]
            },
            {
             "iteration": 30,
             "learn": [
              0.2189425729
             ],
             "passed_time": 13.03528955,
             "remaining_time": 29.01403158,
             "test": [
              0.2182075449
             ]
            },
            {
             "iteration": 31,
             "learn": [
              0.2113382513
             ],
             "passed_time": 13.48005929,
             "remaining_time": 28.64512598,
             "test": [
              0.2110068978
             ]
            },
            {
             "iteration": 32,
             "learn": [
              0.2038037397
             ],
             "passed_time": 13.90029601,
             "remaining_time": 28.22181311,
             "test": [
              0.2040698833
             ]
            },
            {
             "iteration": 33,
             "learn": [
              0.1970704027
             ],
             "passed_time": 14.31520499,
             "remaining_time": 27.7883391,
             "test": [
              0.1973899782
             ]
            },
            {
             "iteration": 34,
             "learn": [
              0.1916033802
             ],
             "passed_time": 14.6861978,
             "remaining_time": 27.27436733,
             "test": [
              0.1909495086
             ]
            },
            {
             "iteration": 35,
             "learn": [
              0.1844397284
             ],
             "passed_time": 15.07683207,
             "remaining_time": 26.80325702,
             "test": [
              0.1847425041
             ]
            },
            {
             "iteration": 36,
             "learn": [
              0.179230336
             ],
             "passed_time": 15.49251097,
             "remaining_time": 26.3791403,
             "test": [
              0.1787564051
             ]
            },
            {
             "iteration": 37,
             "learn": [
              0.1726981695
             ],
             "passed_time": 15.84542978,
             "remaining_time": 25.85306964,
             "test": [
              0.1729775027
             ]
            },
            {
             "iteration": 38,
             "learn": [
              0.1681125937
             ],
             "passed_time": 16.29650442,
             "remaining_time": 25.48940434,
             "test": [
              0.1674063618
             ]
            },
            {
             "iteration": 39,
             "learn": [
              0.1619214432
             ],
             "passed_time": 16.65208999,
             "remaining_time": 24.97813499,
             "test": [
              0.1620254447
             ]
            },
            {
             "iteration": 40,
             "learn": [
              0.1567884493
             ],
             "passed_time": 17.04658968,
             "remaining_time": 24.53045833,
             "test": [
              0.156832196
             ]
            },
            {
             "iteration": 41,
             "learn": [
              0.1524572904
             ],
             "passed_time": 17.46825096,
             "remaining_time": 24.12282275,
             "test": [
              0.1518301122
             ]
            },
            {
             "iteration": 42,
             "learn": [
              0.1474741743
             ],
             "passed_time": 17.79641316,
             "remaining_time": 23.59059419,
             "test": [
              0.1469924898
             ]
            },
            {
             "iteration": 43,
             "learn": [
              0.1423807106
             ],
             "passed_time": 18.20058154,
             "remaining_time": 23.16437651,
             "test": [
              0.1423226201
             ]
            },
            {
             "iteration": 44,
             "learn": [
              0.1376215434
             ],
             "passed_time": 18.59825143,
             "remaining_time": 22.73119619,
             "test": [
              0.1378123692
             ]
            },
            {
             "iteration": 45,
             "learn": [
              0.1334133534
             ],
             "passed_time": 18.99859622,
             "remaining_time": 22.30269991,
             "test": [
              0.1334547994
             ]
            },
            {
             "iteration": 46,
             "learn": [
              0.1294095395
             ],
             "passed_time": 19.49689937,
             "remaining_time": 21.98586525,
             "test": [
              0.1292488713
             ]
            },
            {
             "iteration": 47,
             "learn": [
              0.1254879848
             ],
             "passed_time": 19.89190216,
             "remaining_time": 21.54956067,
             "test": [
              0.1251814637
             ]
            },
            {
             "iteration": 48,
             "learn": [
              0.1215769377
             ],
             "passed_time": 20.33778441,
             "remaining_time": 21.16789806,
             "test": [
              0.1212461995
             ]
            },
            {
             "iteration": 49,
             "learn": [
              0.1177067772
             ],
             "passed_time": 20.77502007,
             "remaining_time": 20.77502007,
             "test": [
              0.1174474895
             ]
            },
            {
             "iteration": 50,
             "learn": [
              0.1138634703
             ],
             "passed_time": 21.1354639,
             "remaining_time": 20.30662218,
             "test": [
              0.1137742092
             ]
            },
            {
             "iteration": 51,
             "learn": [
              0.1102781939
             ],
             "passed_time": 21.45756927,
             "remaining_time": 19.80698702,
             "test": [
              0.1102204909
             ]
            },
            {
             "iteration": 52,
             "learn": [
              0.1074228824
             ],
             "passed_time": 21.82388564,
             "remaining_time": 19.35325708,
             "test": [
              0.1067865767
             ]
            },
            {
             "iteration": 53,
             "learn": [
              0.1039222983
             ],
             "passed_time": 22.20352571,
             "remaining_time": 18.91411449,
             "test": [
              0.1034660923
             ]
            },
            {
             "iteration": 54,
             "learn": [
              0.1002841435
             ],
             "passed_time": 22.6678955,
             "remaining_time": 18.54645995,
             "test": [
              0.1002537245
             ]
            },
            {
             "iteration": 55,
             "learn": [
              0.09766694852
             ],
             "passed_time": 23.01684247,
             "remaining_time": 18.08466194,
             "test": [
              0.09714856842
             ]
            },
            {
             "iteration": 56,
             "learn": [
              0.09432142356
             ],
             "passed_time": 23.50810813,
             "remaining_time": 17.73418683,
             "test": [
              0.09414407967
             ]
            },
            {
             "iteration": 57,
             "learn": [
              0.09176933693
             ],
             "passed_time": 23.9364874,
             "remaining_time": 17.33331846,
             "test": [
              0.09123938915
             ]
            },
            {
             "iteration": 58,
             "learn": [
              0.0885056014
             ],
             "passed_time": 24.28726419,
             "remaining_time": 16.87759037,
             "test": [
              0.08841935704
             ]
            },
            {
             "iteration": 59,
             "learn": [
              0.08601664347
             ],
             "passed_time": 24.66643193,
             "remaining_time": 16.44428795,
             "test": [
              0.08568921547
             ]
            },
            {
             "iteration": 60,
             "learn": [
              0.08314498224
             ],
             "passed_time": 25.11189907,
             "remaining_time": 16.05514858,
             "test": [
              0.08305218866
             ]
            },
            {
             "iteration": 61,
             "learn": [
              0.08065074292
             ],
             "passed_time": 25.55033191,
             "remaining_time": 15.65988085,
             "test": [
              0.0805029543
             ]
            },
            {
             "iteration": 62,
             "learn": [
              0.07848482836
             ],
             "passed_time": 25.89869639,
             "remaining_time": 15.2103455,
             "test": [
              0.07802858794
             ]
            },
            {
             "iteration": 63,
             "learn": [
              0.07600689257
             ],
             "passed_time": 26.30162177,
             "remaining_time": 14.79466225,
             "test": [
              0.07563337102
             ]
            },
            {
             "iteration": 64,
             "learn": [
              0.0734842937
             ],
             "passed_time": 26.69301635,
             "remaining_time": 14.37316265,
             "test": [
              0.07331359796
             ]
            },
            {
             "iteration": 65,
             "learn": [
              0.07111672731
             ],
             "passed_time": 27.14502777,
             "remaining_time": 13.98380218,
             "test": [
              0.07107434112
             ]
            },
            {
             "iteration": 66,
             "learn": [
              0.06898916141
             ],
             "passed_time": 27.56658262,
             "remaining_time": 13.57757054,
             "test": [
              0.06890317963
             ]
            },
            {
             "iteration": 67,
             "learn": [
              0.06694692338
             ],
             "passed_time": 28.00492301,
             "remaining_time": 13.1787873,
             "test": [
              0.06680368567
             ]
            },
            {
             "iteration": 68,
             "learn": [
              0.06498239056
             ],
             "passed_time": 28.37228096,
             "remaining_time": 12.74696681,
             "test": [
              0.06477077136
             ]
            },
            {
             "iteration": 69,
             "learn": [
              0.06300669491
             ],
             "passed_time": 28.76583481,
             "remaining_time": 12.32821492,
             "test": [
              0.06279505725
             ]
            },
            {
             "iteration": 70,
             "learn": [
              0.06106680449
             ],
             "passed_time": 29.09396112,
             "remaining_time": 11.88344891,
             "test": [
              0.06088538033
             ]
            },
            {
             "iteration": 71,
             "learn": [
              0.05917363908
             ],
             "passed_time": 29.46992875,
             "remaining_time": 11.46052785,
             "test": [
              0.0590376497
             ]
            },
            {
             "iteration": 72,
             "learn": [
              0.05737820805
             ],
             "passed_time": 29.81857471,
             "remaining_time": 11.02878791,
             "test": [
              0.05724658826
             ]
            },
            {
             "iteration": 73,
             "learn": [
              0.05592834309
             ],
             "passed_time": 30.22903199,
             "remaining_time": 10.62101124,
             "test": [
              0.05551325489
             ]
            },
            {
             "iteration": 74,
             "learn": [
              0.05418270676
             ],
             "passed_time": 30.71164645,
             "remaining_time": 10.23721548,
             "test": [
              0.05383438302
             ]
            },
            {
             "iteration": 75,
             "learn": [
              0.05233810408
             ],
             "passed_time": 31.00776637,
             "remaining_time": 9.791926223,
             "test": [
              0.0522004605
             ]
            },
            {
             "iteration": 76,
             "learn": [
              0.05100370537
             ],
             "passed_time": 31.4031224,
             "remaining_time": 9.380153444,
             "test": [
              0.05062080456
             ]
            },
            {
             "iteration": 77,
             "learn": [
              0.04931663065
             ],
             "passed_time": 31.84649443,
             "remaining_time": 8.982344584,
             "test": [
              0.04909194059
             ]
            },
            {
             "iteration": 78,
             "learn": [
              0.04779830506
             ],
             "passed_time": 32.22465949,
             "remaining_time": 8.566048726,
             "test": [
              0.04760663633
             ]
            },
            {
             "iteration": 79,
             "learn": [
              0.04636711194
             ],
             "passed_time": 32.70037786,
             "remaining_time": 8.175094464,
             "test": [
              0.04617022362
             ]
            },
            {
             "iteration": 80,
             "learn": [
              0.04508168087
             ],
             "passed_time": 33.1006267,
             "remaining_time": 7.764344536,
             "test": [
              0.04477453478
             ]
            },
            {
             "iteration": 81,
             "learn": [
              0.04351819123
             ],
             "passed_time": 33.56136905,
             "remaining_time": 7.367129793,
             "test": [
              0.04342231614
             ]
            },
            {
             "iteration": 82,
             "learn": [
              0.04238123865
             ],
             "passed_time": 34.00909829,
             "remaining_time": 6.965718927,
             "test": [
              0.04211649589
             ]
            },
            {
             "iteration": 83,
             "learn": [
              0.04112502767
             ],
             "passed_time": 34.34849919,
             "remaining_time": 6.542571274,
             "test": [
              0.04084709391
             ]
            },
            {
             "iteration": 84,
             "learn": [
              0.0397719211
             ],
             "passed_time": 34.66937589,
             "remaining_time": 6.118125157,
             "test": [
              0.0396156735
             ]
            },
            {
             "iteration": 85,
             "learn": [
              0.03853829565
             ],
             "passed_time": 35.0188133,
             "remaining_time": 5.70073705,
             "test": [
              0.0384255593
             ]
            },
            {
             "iteration": 86,
             "learn": [
              0.03749078714
             ],
             "passed_time": 35.45429813,
             "remaining_time": 5.297768686,
             "test": [
              0.03727129228
             ]
            },
            {
             "iteration": 87,
             "learn": [
              0.03642709039
             ],
             "passed_time": 35.75193454,
             "remaining_time": 4.875263801,
             "test": [
              0.03615056194
             ]
            },
            {
             "iteration": 88,
             "learn": [
              0.03526491519
             ],
             "passed_time": 36.1875802,
             "remaining_time": 4.472622272,
             "test": [
              0.03507032955
             ]
            },
            {
             "iteration": 89,
             "learn": [
              0.03422615977
             ],
             "passed_time": 36.63487606,
             "remaining_time": 4.070541784,
             "test": [
              0.03402224417
             ]
            },
            {
             "iteration": 90,
             "learn": [
              0.0332155737
             ],
             "passed_time": 37.05736457,
             "remaining_time": 3.665014078,
             "test": [
              0.03300472391
             ]
            },
            {
             "iteration": 91,
             "learn": [
              0.03221837006
             ],
             "passed_time": 37.42661644,
             "remaining_time": 3.254488387,
             "test": [
              0.03201605825
             ]
            },
            {
             "iteration": 92,
             "learn": [
              0.03124834107
             ],
             "passed_time": 37.86962577,
             "remaining_time": 2.85040194,
             "test": [
              0.03106043191
             ]
            },
            {
             "iteration": 93,
             "learn": [
              0.03030455771
             ],
             "passed_time": 38.18367218,
             "remaining_time": 2.437255671,
             "test": [
              0.03012974664
             ]
            },
            {
             "iteration": 94,
             "learn": [
              0.0293889002
             ],
             "passed_time": 38.63993756,
             "remaining_time": 2.033680924,
             "test": [
              0.02923607073
             ]
            },
            {
             "iteration": 95,
             "learn": [
              0.02860087296
             ],
             "passed_time": 38.94355955,
             "remaining_time": 1.622648315,
             "test": [
              0.0283608448
             ]
            },
            {
             "iteration": 96,
             "learn": [
              0.02770040581
             ],
             "passed_time": 39.25897789,
             "remaining_time": 1.214195193,
             "test": [
              0.02751234657
             ]
            },
            {
             "iteration": 97,
             "learn": [
              0.02682524998
             ],
             "passed_time": 39.68608513,
             "remaining_time": 0.8099201047,
             "test": [
              0.02669362408
             ]
            },
            {
             "iteration": 98,
             "learn": [
              0.02614285499
             ],
             "passed_time": 40.11462008,
             "remaining_time": 0.4051981826,
             "test": [
              0.02590048937
             ]
            },
            {
             "iteration": 99,
             "learn": [
              0.02528149514
             ],
             "passed_time": 40.41092976,
             "remaining_time": 0,
             "test": [
              0.02512640358
             ]
            }
           ],
           "meta": {
            "iteration_count": 100,
            "launch_mode": "Train",
            "learn_metrics": [
             {
              "best_value": "Min",
              "name": "CrossEntropy"
             }
            ],
            "learn_sets": [
             "learn"
            ],
            "name": "experiment",
            "parameters": "",
            "test_metrics": [
             {
              "best_value": "Min",
              "name": "CrossEntropy"
             }
            ],
            "test_sets": [
             "test"
            ]
           }
          },
          "passed_iterations": 99,
          "total_iterations": 100
         },
         "name": "catboost_info",
         "path": "catboost_info"
        }
       },
       "layout": "IPY_MODEL_985ef2953a814db3a786e40205e7c5db"
      }
     },
     "36dbff3ba016471a9da2dbd3a85ef785": {
      "model_module": "@jupyter-widgets/base",
      "model_module_version": "1.2.0",
      "model_name": "LayoutModel",
      "state": {
       "_model_module": "@jupyter-widgets/base",
       "_model_module_version": "1.2.0",
       "_model_name": "LayoutModel",
       "_view_count": null,
       "_view_module": "@jupyter-widgets/base",
       "_view_module_version": "1.2.0",
       "_view_name": "LayoutView",
       "align_content": null,
       "align_items": null,
       "align_self": "stretch",
       "border": null,
       "bottom": null,
       "display": null,
       "flex": null,
       "flex_flow": null,
       "grid_area": null,
       "grid_auto_columns": null,
       "grid_auto_flow": null,
       "grid_auto_rows": null,
       "grid_column": null,
       "grid_gap": null,
       "grid_row": null,
       "grid_template_areas": null,
       "grid_template_columns": null,
       "grid_template_rows": null,
       "height": "500px",
       "justify_content": null,
       "justify_items": null,
       "left": null,
       "margin": null,
       "max_height": null,
       "max_width": null,
       "min_height": null,
       "min_width": null,
       "object_fit": null,
       "object_position": null,
       "order": null,
       "overflow": null,
       "overflow_x": null,
       "overflow_y": null,
       "padding": null,
       "right": null,
       "top": null,
       "visibility": null,
       "width": null
      }
     },
     "4c5263f3e4aa4923ac8128f9065391ba": {
      "model_module": "@jupyter-widgets/base",
      "model_module_version": "1.2.0",
      "model_name": "LayoutModel",
      "state": {
       "_model_module": "@jupyter-widgets/base",
       "_model_module_version": "1.2.0",
       "_model_name": "LayoutModel",
       "_view_count": null,
       "_view_module": "@jupyter-widgets/base",
       "_view_module_version": "1.2.0",
       "_view_name": "LayoutView",
       "align_content": null,
       "align_items": null,
       "align_self": "stretch",
       "border": null,
       "bottom": null,
       "display": null,
       "flex": null,
       "flex_flow": null,
       "grid_area": null,
       "grid_auto_columns": null,
       "grid_auto_flow": null,
       "grid_auto_rows": null,
       "grid_column": null,
       "grid_gap": null,
       "grid_row": null,
       "grid_template_areas": null,
       "grid_template_columns": null,
       "grid_template_rows": null,
       "height": "500px",
       "justify_content": null,
       "justify_items": null,
       "left": null,
       "margin": null,
       "max_height": null,
       "max_width": null,
       "min_height": null,
       "min_width": null,
       "object_fit": null,
       "object_position": null,
       "order": null,
       "overflow": null,
       "overflow_x": null,
       "overflow_y": null,
       "padding": null,
       "right": null,
       "top": null,
       "visibility": null,
       "width": null
      }
     },
     "596aae96e5aa4301861d9f7ce502430d": {
      "model_module": "catboost-widget",
      "model_module_version": "^1.0.0",
      "model_name": "CatboostWidgetModel",
      "state": {
       "_dom_classes": [],
       "_model_module": "catboost-widget",
       "_model_module_version": "^1.0.0",
       "_model_name": "CatboostWidgetModel",
       "_view_count": null,
       "_view_module": "catboost-widget",
       "_view_module_version": "^1.0.0",
       "_view_name": "CatboostWidgetView",
       "data": {
        "catboost_info": {
         "content": {
          "data": {
           "iterations": [
            {
             "iteration": 0,
             "learn": [
              0.6665140795
             ],
             "passed_time": 0.4858706039,
             "remaining_time": 48.10118978,
             "test": [
              0.6674651758
             ]
            },
            {
             "iteration": 1,
             "learn": [
              0.6440917613
             ],
             "passed_time": 0.9719447857,
             "remaining_time": 47.6252945,
             "test": [
              0.6432321682
             ]
            },
            {
             "iteration": 2,
             "learn": [
              0.6199551729
             ],
             "passed_time": 1.445305219,
             "remaining_time": 46.7315354,
             "test": [
              0.6203041388
             ]
            },
            {
             "iteration": 3,
             "learn": [
              0.5979469948
             ],
             "passed_time": 2.015307013,
             "remaining_time": 48.36736832,
             "test": [
              0.598587291
             ]
            },
            {
             "iteration": 4,
             "learn": [
              0.5786725971
             ],
             "passed_time": 2.495625455,
             "remaining_time": 47.41688364,
             "test": [
              0.578141579
             ]
            },
            {
             "iteration": 5,
             "learn": [
              0.5589126803
             ],
             "passed_time": 2.969810281,
             "remaining_time": 46.52702773,
             "test": [
              0.5584231173
             ]
            },
            {
             "iteration": 6,
             "learn": [
              0.5395300585
             ],
             "passed_time": 3.452416341,
             "remaining_time": 45.8678171,
             "test": [
              0.5398907575
             ]
            },
            {
             "iteration": 7,
             "learn": [
              0.5230222041
             ],
             "passed_time": 3.931695678,
             "remaining_time": 45.21450029,
             "test": [
              0.5224805874
             ]
            },
            {
             "iteration": 8,
             "learn": [
              0.5058708302
             ],
             "passed_time": 4.405949894,
             "remaining_time": 44.54904893,
             "test": [
              0.505581213
             ]
            },
            {
             "iteration": 9,
             "learn": [
              0.4902084774
             ],
             "passed_time": 4.85880101,
             "remaining_time": 43.72920909,
             "test": [
              0.4897018893
             ]
            },
            {
             "iteration": 10,
             "learn": [
              0.4753036586
             ],
             "passed_time": 5.345008179,
             "remaining_time": 43.24597526,
             "test": [
              0.4744705853
             ]
            },
            {
             "iteration": 11,
             "learn": [
              0.4611865201
             ],
             "passed_time": 5.82169536,
             "remaining_time": 42.69243264,
             "test": [
              0.4599879475
             ]
            },
            {
             "iteration": 12,
             "learn": [
              0.4472295771
             ],
             "passed_time": 6.306185551,
             "remaining_time": 42.20293407,
             "test": [
              0.4459652494
             ]
            },
            {
             "iteration": 13,
             "learn": [
              0.4336910101
             ],
             "passed_time": 6.79372273,
             "remaining_time": 41.7328682,
             "test": [
              0.4328244059
             ]
            },
            {
             "iteration": 14,
             "learn": [
              0.4207700237
             ],
             "passed_time": 7.257478093,
             "remaining_time": 41.1257092,
             "test": [
              0.4197469631
             ]
            },
            {
             "iteration": 15,
             "learn": [
              0.40760139
             ],
             "passed_time": 7.735418789,
             "remaining_time": 40.61094864,
             "test": [
              0.4071221001
             ]
            },
            {
             "iteration": 16,
             "learn": [
              0.3963083633
             ],
             "passed_time": 8.224682992,
             "remaining_time": 40.1558052,
             "test": [
              0.3953313558
             ]
            },
            {
             "iteration": 17,
             "learn": [
              0.3851620255
             ],
             "passed_time": 8.708172,
             "remaining_time": 39.67056133,
             "test": [
              0.3839072723
             ]
            },
            {
             "iteration": 18,
             "learn": [
              0.3734159041
             ],
             "passed_time": 9.194795996,
             "remaining_time": 39.19886714,
             "test": [
              0.3730922591
             ]
            },
            {
             "iteration": 19,
             "learn": [
              0.3637325627
             ],
             "passed_time": 9.682244402,
             "remaining_time": 38.72897761,
             "test": [
              0.3626325766
             ]
            },
            {
             "iteration": 20,
             "learn": [
              0.3533884928
             ],
             "passed_time": 10.16388045,
             "remaining_time": 38.23555028,
             "test": [
              0.3528373546
             ]
            },
            {
             "iteration": 21,
             "learn": [
              0.3436129568
             ],
             "passed_time": 10.63802503,
             "remaining_time": 37.7166342,
             "test": [
              0.3432572012
             ]
            },
            {
             "iteration": 22,
             "learn": [
              0.3350026287
             ],
             "passed_time": 11.11898302,
             "remaining_time": 37.22442142,
             "test": [
              0.3341302064
             ]
            },
            {
             "iteration": 23,
             "learn": [
              0.3258402714
             ],
             "passed_time": 11.58056604,
             "remaining_time": 36.67179245,
             "test": [
              0.3255148518
             ]
            },
            {
             "iteration": 24,
             "learn": [
              0.3167732163
             ],
             "passed_time": 12.05074281,
             "remaining_time": 36.15222842,
             "test": [
              0.3167236616
             ]
            },
            {
             "iteration": 25,
             "learn": [
              0.30857366
             ],
             "passed_time": 12.5199415,
             "remaining_time": 35.63367966,
             "test": [
              0.3083215515
             ]
            },
            {
             "iteration": 26,
             "learn": [
              0.3010212397
             ],
             "passed_time": 13.05403847,
             "remaining_time": 35.29425216,
             "test": [
              0.3004240644
             ]
            },
            {
             "iteration": 27,
             "learn": [
              0.29338068
             ],
             "passed_time": 13.54592396,
             "remaining_time": 34.8323759,
             "test": [
              0.2927358274
             ]
            },
            {
             "iteration": 28,
             "learn": [
              0.2858778091
             ],
             "passed_time": 14.02395597,
             "remaining_time": 34.33451289,
             "test": [
              0.2853462628
             ]
            },
            {
             "iteration": 29,
             "learn": [
              0.2787378419
             ],
             "passed_time": 14.49872142,
             "remaining_time": 33.83034998,
             "test": [
              0.2782411315
             ]
            },
            {
             "iteration": 30,
             "learn": [
              0.271858263
             ],
             "passed_time": 14.93299066,
             "remaining_time": 33.23794696,
             "test": [
              0.2713573907
             ]
            },
            {
             "iteration": 31,
             "learn": [
              0.2648031108
             ],
             "passed_time": 15.39586997,
             "remaining_time": 32.71622368,
             "test": [
              0.264346703
             ]
            },
            {
             "iteration": 32,
             "learn": [
              0.2583021945
             ],
             "passed_time": 15.88522954,
             "remaining_time": 32.25182967,
             "test": [
              0.2579916097
             ]
            },
            {
             "iteration": 33,
             "learn": [
              0.2525782772
             ],
             "passed_time": 16.33753099,
             "remaining_time": 31.71403074,
             "test": [
              0.2520712191
             ]
            },
            {
             "iteration": 34,
             "learn": [
              0.2465002622
             ],
             "passed_time": 16.83374953,
             "remaining_time": 31.2626777,
             "test": [
              0.2460393612
             ]
            },
            {
             "iteration": 35,
             "learn": [
              0.2412593402
             ],
             "passed_time": 17.27747428,
             "remaining_time": 30.71550982,
             "test": [
              0.2405819656
             ]
            },
            {
             "iteration": 36,
             "learn": [
              0.2354759278
             ],
             "passed_time": 17.76460348,
             "remaining_time": 30.24783837,
             "test": [
              0.2350170835
             ]
            },
            {
             "iteration": 37,
             "learn": [
              0.2300294114
             ],
             "passed_time": 18.20317345,
             "remaining_time": 29.69991458,
             "test": [
              0.2296686654
             ]
            },
            {
             "iteration": 38,
             "learn": [
              0.2245930914
             ],
             "passed_time": 18.69144116,
             "remaining_time": 29.23533104,
             "test": [
              0.2241187994
             ]
            },
            {
             "iteration": 39,
             "learn": [
              0.2196494022
             ],
             "passed_time": 19.13102716,
             "remaining_time": 28.69654074,
             "test": [
              0.2190641185
             ]
            },
            {
             "iteration": 40,
             "learn": [
              0.2148862074
             ],
             "passed_time": 19.57054096,
             "remaining_time": 28.16248577,
             "test": [
              0.2142748768
             ]
            },
            {
             "iteration": 41,
             "learn": [
              0.2100215097
             ],
             "passed_time": 20.02231008,
             "remaining_time": 27.64985678,
             "test": [
              0.2094204325
             ]
            },
            {
             "iteration": 42,
             "learn": [
              0.2052971448
             ],
             "passed_time": 20.48194511,
             "remaining_time": 27.15048538,
             "test": [
              0.2048280369
             ]
            },
            {
             "iteration": 43,
             "learn": [
              0.2009187588
             ],
             "passed_time": 20.95922909,
             "remaining_time": 26.67538247,
             "test": [
              0.2004568109
             ]
            },
            {
             "iteration": 44,
             "learn": [
              0.1964911613
             ],
             "passed_time": 21.43736738,
             "remaining_time": 26.2012268,
             "test": [
              0.196051165
             ]
            },
            {
             "iteration": 45,
             "learn": [
              0.1925769211
             ],
             "passed_time": 21.8748967,
             "remaining_time": 25.67922656,
             "test": [
              0.1919541913
             ]
            },
            {
             "iteration": 46,
             "learn": [
              0.1883321343
             ],
             "passed_time": 22.32684038,
             "remaining_time": 25.17707533,
             "test": [
              0.1879369977
             ]
            },
            {
             "iteration": 47,
             "learn": [
              0.184408533
             ],
             "passed_time": 22.79571419,
             "remaining_time": 24.69535704,
             "test": [
              0.1841418195
             ]
            },
            {
             "iteration": 48,
             "learn": [
              0.1806285134
             ],
             "passed_time": 23.26246484,
             "remaining_time": 24.2119532,
             "test": [
              0.1804742038
             ]
            },
            {
             "iteration": 49,
             "learn": [
              0.1768523795
             ],
             "passed_time": 23.76938605,
             "remaining_time": 23.76938605,
             "test": [
              0.1768943462
             ]
            },
            {
             "iteration": 50,
             "learn": [
              0.1732056831
             ],
             "passed_time": 24.21698711,
             "remaining_time": 23.26730134,
             "test": [
              0.1733373086
             ]
            },
            {
             "iteration": 51,
             "learn": [
              0.16979221
             ],
             "passed_time": 24.69179793,
             "remaining_time": 22.79242886,
             "test": [
              0.1700760335
             ]
            },
            {
             "iteration": 52,
             "learn": [
              0.166487172
             ],
             "passed_time": 25.17423685,
             "remaining_time": 22.32432324,
             "test": [
              0.1668150366
             ]
            },
            {
             "iteration": 53,
             "learn": [
              0.1632596826
             ],
             "passed_time": 25.62892685,
             "remaining_time": 21.83204879,
             "test": [
              0.1635807565
             ]
            },
            {
             "iteration": 54,
             "learn": [
              0.1602023582
             ],
             "passed_time": 26.09748329,
             "remaining_time": 21.35248633,
             "test": [
              0.1606289666
             ]
            },
            {
             "iteration": 55,
             "learn": [
              0.1570742977
             ],
             "passed_time": 26.57381319,
             "remaining_time": 20.87942465,
             "test": [
              0.1577632655
             ]
            },
            {
             "iteration": 56,
             "learn": [
              0.1540700488
             ],
             "passed_time": 27.03237531,
             "remaining_time": 20.39284453,
             "test": [
              0.1548013823
             ]
            },
            {
             "iteration": 57,
             "learn": [
              0.1512253173
             ],
             "passed_time": 27.50492648,
             "remaining_time": 19.91736056,
             "test": [
              0.1520775122
             ]
            },
            {
             "iteration": 58,
             "learn": [
              0.148567775
             ],
             "passed_time": 27.95467654,
             "remaining_time": 19.42613115,
             "test": [
              0.1493803676
             ]
            },
            {
             "iteration": 59,
             "learn": [
              0.145884104
             ],
             "passed_time": 28.40784821,
             "remaining_time": 18.93856547,
             "test": [
              0.1467060988
             ]
            },
            {
             "iteration": 60,
             "learn": [
              0.1433859597
             ],
             "passed_time": 28.84235469,
             "remaining_time": 18.44019398,
             "test": [
              0.1441505602
             ]
            },
            {
             "iteration": 61,
             "learn": [
              0.1409985887
             ],
             "passed_time": 29.48063891,
             "remaining_time": 18.06877869,
             "test": [
              0.1416406022
             ]
            },
            {
             "iteration": 62,
             "learn": [
              0.1384667717
             ],
             "passed_time": 30.09559591,
             "remaining_time": 17.67519125,
             "test": [
              0.1393053577
             ]
            },
            {
             "iteration": 63,
             "learn": [
              0.1361201462
             ],
             "passed_time": 30.68619214,
             "remaining_time": 17.26098308,
             "test": [
              0.1370259645
             ]
            },
            {
             "iteration": 64,
             "learn": [
              0.1337637423
             ],
             "passed_time": 31.11723041,
             "remaining_time": 16.75543176,
             "test": [
              0.1347568225
             ]
            },
            {
             "iteration": 65,
             "learn": [
              0.1313460488
             ],
             "passed_time": 31.62668464,
             "remaining_time": 16.29253451,
             "test": [
              0.132427653
             ]
            },
            {
             "iteration": 66,
             "learn": [
              0.1292856815
             ],
             "passed_time": 32.05810621,
             "remaining_time": 15.78981351,
             "test": [
              0.1302884826
             ]
            },
            {
             "iteration": 67,
             "learn": [
              0.1271867158
             ],
             "passed_time": 32.52924556,
             "remaining_time": 15.30788026,
             "test": [
              0.1284045675
             ]
            },
            {
             "iteration": 68,
             "learn": [
              0.1251766441
             ],
             "passed_time": 33.032548,
             "remaining_time": 14.84070997,
             "test": [
              0.1263920696
             ]
            },
            {
             "iteration": 69,
             "learn": [
              0.122949571
             ],
             "passed_time": 33.42410076,
             "remaining_time": 14.32461461,
             "test": [
              0.1243661053
             ]
            },
            {
             "iteration": 70,
             "learn": [
              0.1210412282
             ],
             "passed_time": 33.90764639,
             "remaining_time": 13.84960205,
             "test": [
              0.122545832
             ]
            },
            {
             "iteration": 71,
             "learn": [
              0.1187088174
             ],
             "passed_time": 34.37878075,
             "remaining_time": 13.36952585,
             "test": [
              0.1203395402
             ]
            },
            {
             "iteration": 72,
             "learn": [
              0.1166571591
             ],
             "passed_time": 34.86979794,
             "remaining_time": 12.89704855,
             "test": [
              0.1182102537
             ]
            },
            {
             "iteration": 73,
             "learn": [
              0.1147917283
             ],
             "passed_time": 35.28389006,
             "remaining_time": 12.39704245,
             "test": [
              0.1164199871
             ]
            },
            {
             "iteration": 74,
             "learn": [
              0.1128883978
             ],
             "passed_time": 35.7107108,
             "remaining_time": 11.90357027,
             "test": [
              0.1146184578
             ]
            },
            {
             "iteration": 75,
             "learn": [
              0.1113742839
             ],
             "passed_time": 36.19192206,
             "remaining_time": 11.42902802,
             "test": [
              0.113145636
             ]
            },
            {
             "iteration": 76,
             "learn": [
              0.1096215128
             ],
             "passed_time": 36.63957101,
             "remaining_time": 10.94428745,
             "test": [
              0.1114627563
             ]
            },
            {
             "iteration": 77,
             "learn": [
              0.1078127403
             ],
             "passed_time": 37.10850415,
             "remaining_time": 10.46650117,
             "test": [
              0.1095691514
             ]
            },
            {
             "iteration": 78,
             "learn": [
              0.1059442877
             ],
             "passed_time": 37.58298515,
             "remaining_time": 9.990413774,
             "test": [
              0.1077547905
             ]
            },
            {
             "iteration": 79,
             "learn": [
              0.1042525128
             ],
             "passed_time": 38.04354627,
             "remaining_time": 9.510886569,
             "test": [
              0.1061607097
             ]
            },
            {
             "iteration": 80,
             "learn": [
              0.102847322
             ],
             "passed_time": 38.48355552,
             "remaining_time": 9.02700685,
             "test": [
              0.1046232474
             ]
            },
            {
             "iteration": 81,
             "learn": [
              0.1013242329
             ],
             "passed_time": 38.93761462,
             "remaining_time": 8.547281257,
             "test": [
              0.1031866514
             ]
            },
            {
             "iteration": 82,
             "learn": [
              0.09968849202
             ],
             "passed_time": 39.41086935,
             "remaining_time": 8.072105771,
             "test": [
              0.1015108393
             ]
            },
            {
             "iteration": 83,
             "learn": [
              0.09830016614
             ],
             "passed_time": 39.83345185,
             "remaining_time": 7.587324162,
             "test": [
              0.1000841668
             ]
            },
            {
             "iteration": 84,
             "learn": [
              0.09680202562
             ],
             "passed_time": 40.24581956,
             "remaining_time": 7.102203452,
             "test": [
              0.09870335366
             ]
            },
            {
             "iteration": 85,
             "learn": [
              0.09556713574
             ],
             "passed_time": 40.68556318,
             "remaining_time": 6.623231215,
             "test": [
              0.09732577894
             ]
            },
            {
             "iteration": 86,
             "learn": [
              0.09419568778
             ],
             "passed_time": 41.14940134,
             "remaining_time": 6.148761119,
             "test": [
              0.09600767805
             ]
            },
            {
             "iteration": 87,
             "learn": [
              0.09286250162
             ],
             "passed_time": 41.57052722,
             "remaining_time": 5.668708257,
             "test": [
              0.09475250253
             ]
            },
            {
             "iteration": 88,
             "learn": [
              0.09152758763
             ],
             "passed_time": 42.02476827,
             "remaining_time": 5.194072483,
             "test": [
              0.0934208984
             ]
            },
            {
             "iteration": 89,
             "learn": [
              0.09056363462
             ],
             "passed_time": 42.46750954,
             "remaining_time": 4.718612171,
             "test": [
              0.09240871937
             ]
            },
            {
             "iteration": 90,
             "learn": [
              0.08936780234
             ],
             "passed_time": 42.90086715,
             "remaining_time": 4.242942905,
             "test": [
              0.09117841312
             ]
            },
            {
             "iteration": 91,
             "learn": [
              0.08829177958
             ],
             "passed_time": 43.31457968,
             "remaining_time": 3.766485189,
             "test": [
              0.09010219541
             ]
            },
            {
             "iteration": 92,
             "learn": [
              0.0873399141
             ],
             "passed_time": 43.76063523,
             "remaining_time": 3.293811254,
             "test": [
              0.08921581687
             ]
            },
            {
             "iteration": 93,
             "learn": [
              0.0861234704
             ],
             "passed_time": 44.25185949,
             "remaining_time": 2.824586776,
             "test": [
              0.08792103513
             ]
            },
            {
             "iteration": 94,
             "learn": [
              0.08496596954
             ],
             "passed_time": 44.71280069,
             "remaining_time": 2.353305299,
             "test": [
              0.0867993356
             ]
            },
            {
             "iteration": 95,
             "learn": [
              0.08393933522
             ],
             "passed_time": 45.13720883,
             "remaining_time": 1.880717035,
             "test": [
              0.0857489285
             ]
            },
            {
             "iteration": 96,
             "learn": [
              0.0829675041
             ],
             "passed_time": 45.54600848,
             "remaining_time": 1.408639437,
             "test": [
              0.08487583586
             ]
            },
            {
             "iteration": 97,
             "learn": [
              0.08205476651
             ],
             "passed_time": 45.99022438,
             "remaining_time": 0.9385760077,
             "test": [
              0.0839879064
             ]
            },
            {
             "iteration": 98,
             "learn": [
              0.08099295877
             ],
             "passed_time": 46.42402028,
             "remaining_time": 0.4689294978,
             "test": [
              0.08306888823
             ]
            },
            {
             "iteration": 99,
             "learn": [
              0.08005195302
             ],
             "passed_time": 46.87581124,
             "remaining_time": 0,
             "test": [
              0.0820226505
             ]
            }
           ],
           "meta": {
            "iteration_count": 100,
            "launch_mode": "Train",
            "learn_metrics": [
             {
              "best_value": "Min",
              "name": "CrossEntropy"
             }
            ],
            "learn_sets": [
             "learn"
            ],
            "name": "experiment",
            "parameters": "",
            "test_metrics": [
             {
              "best_value": "Min",
              "name": "CrossEntropy"
             }
            ],
            "test_sets": [
             "test"
            ]
           }
          },
          "passed_iterations": 99,
          "total_iterations": 100
         },
         "name": "catboost_info",
         "path": "catboost_info"
        }
       },
       "layout": "IPY_MODEL_4c5263f3e4aa4923ac8128f9065391ba"
      }
     },
     "5b1d322784a34c05a24f6ee15a82c84f": {
      "model_module": "catboost-widget",
      "model_module_version": "^1.0.0",
      "model_name": "CatboostWidgetModel",
      "state": {
       "_dom_classes": [],
       "_model_module": "catboost-widget",
       "_model_module_version": "^1.0.0",
       "_model_name": "CatboostWidgetModel",
       "_view_count": null,
       "_view_module": "catboost-widget",
       "_view_module_version": "^1.0.0",
       "_view_name": "CatboostWidgetView",
       "data": {
        "catboost_info": {
         "content": {
          "data": {
           "iterations": [
            {
             "iteration": 0,
             "learn": [
              0.6745754003
             ],
             "passed_time": 0.4751242764,
             "remaining_time": 47.03730336,
             "test": [
              0.673472442
             ]
            },
            {
             "iteration": 1,
             "learn": [
              0.6585000336
             ],
             "passed_time": 0.9221091597,
             "remaining_time": 45.18334883,
             "test": [
              0.6549330954
             ]
            },
            {
             "iteration": 2,
             "learn": [
              0.6401339883
             ],
             "passed_time": 1.361215317,
             "remaining_time": 44.01262857,
             "test": [
              0.6380473695
             ]
            },
            {
             "iteration": 3,
             "learn": [
              0.6250751065
             ],
             "passed_time": 1.796114401,
             "remaining_time": 43.10674562,
             "test": [
              0.6214544115
             ]
            },
            {
             "iteration": 4,
             "learn": [
              0.6111986446
             ],
             "passed_time": 2.234116358,
             "remaining_time": 42.44821081,
             "test": [
              0.6058124614
             ]
            },
            {
             "iteration": 5,
             "learn": [
              0.59692486
             ],
             "passed_time": 2.669070105,
             "remaining_time": 41.81543164,
             "test": [
              0.5908819711
             ]
            },
            {
             "iteration": 6,
             "learn": [
              0.5830092238
             ],
             "passed_time": 3.106477124,
             "remaining_time": 41.27176751,
             "test": [
              0.5767304024
             ]
            },
            {
             "iteration": 7,
             "learn": [
              0.5711374064
             ],
             "passed_time": 3.497930785,
             "remaining_time": 40.22620403,
             "test": [
              0.5632663351
             ]
            },
            {
             "iteration": 8,
             "learn": [
              0.5587673442
             ],
             "passed_time": 3.934682179,
             "remaining_time": 39.7840087,
             "test": [
              0.5504347057
             ]
            },
            {
             "iteration": 9,
             "learn": [
              0.5461411193
             ],
             "passed_time": 4.355973999,
             "remaining_time": 39.20376599,
             "test": [
              0.5376961252
             ]
            },
            {
             "iteration": 10,
             "learn": [
              0.5351479875
             ],
             "passed_time": 4.764400014,
             "remaining_time": 38.54832738,
             "test": [
              0.5262238993
             ]
            },
            {
             "iteration": 11,
             "learn": [
              0.5249971827
             ],
             "passed_time": 5.206107818,
             "remaining_time": 38.178124,
             "test": [
              0.5154455493
             ]
            },
            {
             "iteration": 12,
             "learn": [
              0.5147226507
             ],
             "passed_time": 5.58597044,
             "remaining_time": 37.38303294,
             "test": [
              0.5052709658
             ]
            },
            {
             "iteration": 13,
             "learn": [
              0.5048577522
             ],
             "passed_time": 5.992303095,
             "remaining_time": 36.80986187,
             "test": [
              0.4951942578
             ]
            },
            {
             "iteration": 14,
             "learn": [
              0.495648846
             ],
             "passed_time": 6.426311134,
             "remaining_time": 36.41576309,
             "test": [
              0.4850756167
             ]
            },
            {
             "iteration": 15,
             "learn": [
              0.4860023832
             ],
             "passed_time": 6.804705707,
             "remaining_time": 35.72470496,
             "test": [
              0.4759981516
             ]
            },
            {
             "iteration": 16,
             "learn": [
              0.4773115828
             ],
             "passed_time": 7.246570311,
             "remaining_time": 35.38031387,
             "test": [
              0.4670646926
             ]
            },
            {
             "iteration": 17,
             "learn": [
              0.4692100361
             ],
             "passed_time": 7.625330624,
             "remaining_time": 34.73761729,
             "test": [
              0.4581087026
             ]
            },
            {
             "iteration": 18,
             "learn": [
              0.4605191173
             ],
             "passed_time": 8.051581292,
             "remaining_time": 34.32516235,
             "test": [
              0.44930406
             ]
            },
            {
             "iteration": 19,
             "learn": [
              0.4523920484
             ],
             "passed_time": 8.436855539,
             "remaining_time": 33.74742216,
             "test": [
              0.4412390701
             ]
            },
            {
             "iteration": 20,
             "learn": [
              0.4451110486
             ],
             "passed_time": 8.836758189,
             "remaining_time": 33.24304271,
             "test": [
              0.4336974667
             ]
            },
            {
             "iteration": 21,
             "learn": [
              0.4374522439
             ],
             "passed_time": 9.207699405,
             "remaining_time": 32.64547971,
             "test": [
              0.4261164905
             ]
            },
            {
             "iteration": 22,
             "learn": [
              0.4302272369
             ],
             "passed_time": 9.700881422,
             "remaining_time": 32.47686389,
             "test": [
              0.418316848
             ]
            },
            {
             "iteration": 23,
             "learn": [
              0.4229200518
             ],
             "passed_time": 10.07140329,
             "remaining_time": 31.89277707,
             "test": [
              0.4114150661
             ]
            },
            {
             "iteration": 24,
             "learn": [
              0.4165162835
             ],
             "passed_time": 10.45455778,
             "remaining_time": 31.36367333,
             "test": [
              0.4050347698
             ]
            },
            {
             "iteration": 25,
             "learn": [
              0.4088856991
             ],
             "passed_time": 10.84587028,
             "remaining_time": 30.86901542,
             "test": [
              0.3973257924
             ]
            },
            {
             "iteration": 26,
             "learn": [
              0.4031600972
             ],
             "passed_time": 11.26718822,
             "remaining_time": 30.46313852,
             "test": [
              0.391601038
             ]
            },
            {
             "iteration": 27,
             "learn": [
              0.3972708938
             ],
             "passed_time": 11.65099841,
             "remaining_time": 29.95971019,
             "test": [
              0.3853864134
             ]
            },
            {
             "iteration": 28,
             "learn": [
              0.3916155335
             ],
             "passed_time": 12.02405421,
             "remaining_time": 29.43820168,
             "test": [
              0.3798876872
             ]
            },
            {
             "iteration": 29,
             "learn": [
              0.3844706182
             ],
             "passed_time": 12.44332086,
             "remaining_time": 29.03441534,
             "test": [
              0.3729013016
             ]
            },
            {
             "iteration": 30,
             "learn": [
              0.3777908106
             ],
             "passed_time": 12.83599631,
             "remaining_time": 28.57044339,
             "test": [
              0.3661627521
             ]
            },
            {
             "iteration": 31,
             "learn": [
              0.3727930749
             ],
             "passed_time": 13.28278454,
             "remaining_time": 28.22591715,
             "test": [
              0.36074641
             ]
            },
            {
             "iteration": 32,
             "learn": [
              0.3651148189
             ],
             "passed_time": 13.69484027,
             "remaining_time": 27.80467571,
             "test": [
              0.3535461823
             ]
            },
            {
             "iteration": 33,
             "learn": [
              0.3579984009
             ],
             "passed_time": 14.11097021,
             "remaining_time": 27.39188335,
             "test": [
              0.3465972514
             ]
            },
            {
             "iteration": 34,
             "learn": [
              0.3511566217
             ],
             "passed_time": 14.52705598,
             "remaining_time": 26.97881825,
             "test": [
              0.3399905727
             ]
            },
            {
             "iteration": 35,
             "learn": [
              0.3446277581
             ],
             "passed_time": 14.94141874,
             "remaining_time": 26.56252221,
             "test": [
              0.3336933788
             ]
            },
            {
             "iteration": 36,
             "learn": [
              0.3398312109
             ],
             "passed_time": 15.38670493,
             "remaining_time": 26.19898407,
             "test": [
              0.3286197105
             ]
            },
            {
             "iteration": 37,
             "learn": [
              0.3346089093
             ],
             "passed_time": 15.78080596,
             "remaining_time": 25.74763078,
             "test": [
              0.3233328837
             ]
            },
            {
             "iteration": 38,
             "learn": [
              0.329422366
             ],
             "passed_time": 16.24214948,
             "remaining_time": 25.40438765,
             "test": [
              0.3180811597
             ]
            },
            {
             "iteration": 39,
             "learn": [
              0.3250597484
             ],
             "passed_time": 16.68132274,
             "remaining_time": 25.02198411,
             "test": [
              0.3134297387
             ]
            },
            {
             "iteration": 40,
             "learn": [
              0.3199209298
             ],
             "passed_time": 17.13037597,
             "remaining_time": 24.65102883,
             "test": [
              0.3082576825
             ]
            },
            {
             "iteration": 41,
             "learn": [
              0.3154075815
             ],
             "passed_time": 17.58555762,
             "remaining_time": 24.28481767,
             "test": [
              0.3038367152
             ]
            },
            {
             "iteration": 42,
             "learn": [
              0.3101111715
             ],
             "passed_time": 17.99822586,
             "remaining_time": 23.85811335,
             "test": [
              0.2986652872
             ]
            },
            {
             "iteration": 43,
             "learn": [
              0.3048830438
             ],
             "passed_time": 18.4171682,
             "remaining_time": 23.44003225,
             "test": [
              0.2937715078
             ]
            },
            {
             "iteration": 44,
             "learn": [
              0.3011540969
             ],
             "passed_time": 18.82000588,
             "remaining_time": 23.00222941,
             "test": [
              0.2903877394
             ]
            },
            {
             "iteration": 45,
             "learn": [
              0.2960886202
             ],
             "passed_time": 19.23938298,
             "remaining_time": 22.58536263,
             "test": [
              0.2855847278
             ]
            },
            {
             "iteration": 46,
             "learn": [
              0.2912534509
             ],
             "passed_time": 19.83540314,
             "remaining_time": 22.36758227,
             "test": [
              0.2810052934
             ]
            },
            {
             "iteration": 47,
             "learn": [
              0.2877049078
             ],
             "passed_time": 20.50969491,
             "remaining_time": 22.21883615,
             "test": [
              0.2774215499
             ]
            },
            {
             "iteration": 48,
             "learn": [
              0.2834780298
             ],
             "passed_time": 20.99650128,
             "remaining_time": 21.85350133,
             "test": [
              0.2731174682
             ]
            },
            {
             "iteration": 49,
             "learn": [
              0.2791526464
             ],
             "passed_time": 21.44067378,
             "remaining_time": 21.44067378,
             "test": [
              0.2689664061
             ]
            },
            {
             "iteration": 50,
             "learn": [
              0.2749761188
             ],
             "passed_time": 21.85536405,
             "remaining_time": 20.99829095,
             "test": [
              0.2649172042
             ]
            },
            {
             "iteration": 51,
             "learn": [
              0.2709074629
             ],
             "passed_time": 22.27603262,
             "remaining_time": 20.56249164,
             "test": [
              0.2610372103
             ]
            },
            {
             "iteration": 52,
             "learn": [
              0.2679568765
             ],
             "passed_time": 22.67949467,
             "remaining_time": 20.11200471,
             "test": [
              0.2579567774
             ]
            },
            {
             "iteration": 53,
             "learn": [
              0.2639186741
             ],
             "passed_time": 23.11806479,
             "remaining_time": 19.69316631,
             "test": [
              0.2541188277
             ]
            },
            {
             "iteration": 54,
             "learn": [
              0.2603118047
             ],
             "passed_time": 23.59562542,
             "remaining_time": 19.30551171,
             "test": [
              0.2507890534
             ]
            },
            {
             "iteration": 55,
             "learn": [
              0.2571372344
             ],
             "passed_time": 24.02859227,
             "remaining_time": 18.87960821,
             "test": [
              0.2473300254
             ]
            },
            {
             "iteration": 56,
             "learn": [
              0.2540281924
             ],
             "passed_time": 24.4766336,
             "remaining_time": 18.46482886,
             "test": [
              0.2441952872
             ]
            },
            {
             "iteration": 57,
             "learn": [
              0.2507008843
             ],
             "passed_time": 24.89497676,
             "remaining_time": 18.02739696,
             "test": [
              0.2407890733
             ]
            },
            {
             "iteration": 58,
             "learn": [
              0.2472503485
             ],
             "passed_time": 25.31959083,
             "remaining_time": 17.5949699,
             "test": [
              0.2375159443
             ]
            },
            {
             "iteration": 59,
             "learn": [
              0.2442132603
             ],
             "passed_time": 25.76391594,
             "remaining_time": 17.17594396,
             "test": [
              0.2347340326
             ]
            },
            {
             "iteration": 60,
             "learn": [
              0.2413087808
             ],
             "passed_time": 26.22831601,
             "remaining_time": 16.76892335,
             "test": [
              0.2317107948
             ]
            },
            {
             "iteration": 61,
             "learn": [
              0.2386106019
             ],
             "passed_time": 26.65747104,
             "remaining_time": 16.33844999,
             "test": [
              0.2287937906
             ]
            },
            {
             "iteration": 62,
             "learn": [
              0.2353731634
             ],
             "passed_time": 27.06928982,
             "remaining_time": 15.89783688,
             "test": [
              0.225666068
             ]
            },
            {
             "iteration": 63,
             "learn": [
              0.2329721621
             ],
             "passed_time": 27.47670831,
             "remaining_time": 15.45564842,
             "test": [
              0.2231956058
             ]
            },
            {
             "iteration": 64,
             "learn": [
              0.2301552606
             ],
             "passed_time": 27.91860034,
             "remaining_time": 15.03309249,
             "test": [
              0.2205711823
             ]
            },
            {
             "iteration": 65,
             "learn": [
              0.2275503148
             ],
             "passed_time": 28.34600792,
             "remaining_time": 14.60248893,
             "test": [
              0.2181520743
             ]
            },
            {
             "iteration": 66,
             "learn": [
              0.2248926806
             ],
             "passed_time": 28.75614624,
             "remaining_time": 14.16347501,
             "test": [
              0.2154401553
             ]
            },
            {
             "iteration": 67,
             "learn": [
              0.222596191
             ],
             "passed_time": 29.23714582,
             "remaining_time": 13.75865686,
             "test": [
              0.2129610791
             ]
            },
            {
             "iteration": 68,
             "learn": [
              0.2199471239
             ],
             "passed_time": 29.69759677,
             "remaining_time": 13.34239855,
             "test": [
              0.2104014085
             ]
            },
            {
             "iteration": 69,
             "learn": [
              0.2175874114
             ],
             "passed_time": 30.12616005,
             "remaining_time": 12.91121145,
             "test": [
              0.2082396313
             ]
            },
            {
             "iteration": 70,
             "learn": [
              0.2151396848
             ],
             "passed_time": 30.55089161,
             "remaining_time": 12.47853319,
             "test": [
              0.2058436339
             ]
            },
            {
             "iteration": 71,
             "learn": [
              0.2127015477
             ],
             "passed_time": 31.00791745,
             "remaining_time": 12.05863456,
             "test": [
              0.2036044108
             ]
            },
            {
             "iteration": 72,
             "learn": [
              0.2106454055
             ],
             "passed_time": 31.4512082,
             "remaining_time": 11.63263865,
             "test": [
              0.2014543299
             ]
            },
            {
             "iteration": 73,
             "learn": [
              0.2087055434
             ],
             "passed_time": 31.87204791,
             "remaining_time": 11.1982871,
             "test": [
              0.1994102448
             ]
            },
            {
             "iteration": 74,
             "learn": [
              0.2064134058
             ],
             "passed_time": 32.33559149,
             "remaining_time": 10.7785305,
             "test": [
              0.1972367848
             ]
            },
            {
             "iteration": 75,
             "learn": [
              0.2041363961
             ],
             "passed_time": 32.76165108,
             "remaining_time": 10.34578455,
             "test": [
              0.1949334418
             ]
            },
            {
             "iteration": 76,
             "learn": [
              0.2020839784
             ],
             "passed_time": 33.2636339,
             "remaining_time": 9.935890646,
             "test": [
              0.1928614589
             ]
            },
            {
             "iteration": 77,
             "learn": [
              0.1999680753
             ],
             "passed_time": 33.71199085,
             "remaining_time": 9.508510241,
             "test": [
              0.1908430505
             ]
            },
            {
             "iteration": 78,
             "learn": [
              0.1979641902
             ],
             "passed_time": 34.14064729,
             "remaining_time": 9.075361937,
             "test": [
              0.1888043102
             ]
            },
            {
             "iteration": 79,
             "learn": [
              0.1963645453
             ],
             "passed_time": 34.50141694,
             "remaining_time": 8.625354234,
             "test": [
              0.1871325406
             ]
            },
            {
             "iteration": 80,
             "learn": [
              0.1943597302
             ],
             "passed_time": 34.95870766,
             "remaining_time": 8.200190686,
             "test": [
              0.1850583619
             ]
            },
            {
             "iteration": 81,
             "learn": [
              0.1921114995
             ],
             "passed_time": 35.40453651,
             "remaining_time": 7.771727526,
             "test": [
              0.1828149422
             ]
            },
            {
             "iteration": 82,
             "learn": [
              0.1902935925
             ],
             "passed_time": 35.78960148,
             "remaining_time": 7.330400304,
             "test": [
              0.1809214945
             ]
            },
            {
             "iteration": 83,
             "learn": [
              0.1884243781
             ],
             "passed_time": 36.23924732,
             "remaining_time": 6.902713774,
             "test": [
              0.1789553402
             ]
            },
            {
             "iteration": 84,
             "learn": [
              0.1864153537
             ],
             "passed_time": 36.63735396,
             "remaining_time": 6.465415405,
             "test": [
              0.1769556712
             ]
            },
            {
             "iteration": 85,
             "learn": [
              0.1847910363
             ],
             "passed_time": 36.99847683,
             "remaining_time": 6.023007856,
             "test": [
              0.1752415914
             ]
            },
            {
             "iteration": 86,
             "learn": [
              0.183082504
             ],
             "passed_time": 37.42612577,
             "remaining_time": 5.592409598,
             "test": [
              0.1737252948
             ]
            },
            {
             "iteration": 87,
             "learn": [
              0.1813483178
             ],
             "passed_time": 37.81908168,
             "remaining_time": 5.157147501,
             "test": [
              0.1721554887
             ]
            },
            {
             "iteration": 88,
             "learn": [
              0.1799395925
             ],
             "passed_time": 38.17545498,
             "remaining_time": 4.718314661,
             "test": [
              0.1705964485
             ]
            },
            {
             "iteration": 89,
             "learn": [
              0.178386001
             ],
             "passed_time": 38.63769074,
             "remaining_time": 4.293076749,
             "test": [
              0.1689997383
             ]
            },
            {
             "iteration": 90,
             "learn": [
              0.1764634788
             ],
             "passed_time": 39.04956277,
             "remaining_time": 3.86204467,
             "test": [
              0.1672262052
             ]
            },
            {
             "iteration": 91,
             "learn": [
              0.1742230472
             ],
             "passed_time": 39.54906707,
             "remaining_time": 3.439049311,
             "test": [
              0.165090311
             ]
            },
            {
             "iteration": 92,
             "learn": [
              0.1725967654
             ],
             "passed_time": 39.95355401,
             "remaining_time": 3.007256753,
             "test": [
              0.163302192
             ]
            },
            {
             "iteration": 93,
             "learn": [
              0.171165228
             ],
             "passed_time": 40.36377709,
             "remaining_time": 2.576411304,
             "test": [
              0.1619250601
             ]
            },
            {
             "iteration": 94,
             "learn": [
              0.1700232669
             ],
             "passed_time": 40.76192134,
             "remaining_time": 2.145364281,
             "test": [
              0.1608290005
             ]
            },
            {
             "iteration": 95,
             "learn": [
              0.1687055973
             ],
             "passed_time": 41.11030651,
             "remaining_time": 1.712929438,
             "test": [
              0.1593846303
             ]
            },
            {
             "iteration": 96,
             "learn": [
              0.1670697473
             ],
             "passed_time": 41.58723233,
             "remaining_time": 1.286203062,
             "test": [
              0.1577898741
             ]
            },
            {
             "iteration": 97,
             "learn": [
              0.1656848927
             ],
             "passed_time": 41.96280738,
             "remaining_time": 0.8563838241,
             "test": [
              0.15640591
             ]
            },
            {
             "iteration": 98,
             "learn": [
              0.1641496432
             ],
             "passed_time": 42.42810802,
             "remaining_time": 0.4285667477,
             "test": [
              0.1547964774
             ]
            },
            {
             "iteration": 99,
             "learn": [
              0.162757674
             ],
             "passed_time": 42.80770205,
             "remaining_time": 0,
             "test": [
              0.1535035765
             ]
            }
           ],
           "meta": {
            "iteration_count": 100,
            "launch_mode": "Train",
            "learn_metrics": [
             {
              "best_value": "Min",
              "name": "CrossEntropy"
             }
            ],
            "learn_sets": [
             "learn"
            ],
            "name": "experiment",
            "parameters": "",
            "test_metrics": [
             {
              "best_value": "Min",
              "name": "CrossEntropy"
             }
            ],
            "test_sets": [
             "test"
            ]
           }
          },
          "passed_iterations": 99,
          "total_iterations": 100
         },
         "name": "catboost_info",
         "path": "catboost_info"
        }
       },
       "layout": "IPY_MODEL_cb90d3b3c978438da4d52d4f08c496d7"
      }
     },
     "5f2863000f1a49d9af1b0bcceed293a4": {
      "model_module": "catboost-widget",
      "model_module_version": "^1.0.0",
      "model_name": "CatboostWidgetModel",
      "state": {
       "_dom_classes": [],
       "_model_module": "catboost-widget",
       "_model_module_version": "^1.0.0",
       "_model_name": "CatboostWidgetModel",
       "_view_count": null,
       "_view_module": "catboost-widget",
       "_view_module_version": "^1.0.0",
       "_view_name": "CatboostWidgetView",
       "data": {
        "catboost_info": {
         "content": {
          "data": {
           "iterations": [
            {
             "iteration": 0,
             "learn": [
              0.6641601087
             ],
             "passed_time": 0.4536022104,
             "remaining_time": 44.90661883,
             "test": [
              0.6658722192
             ]
            },
            {
             "iteration": 1,
             "learn": [
              0.6407519363
             ],
             "passed_time": 0.9038537854,
             "remaining_time": 44.28883549,
             "test": [
              0.6397964101
             ]
            },
            {
             "iteration": 2,
             "learn": [
              0.6154591166
             ],
             "passed_time": 1.349902801,
             "remaining_time": 43.64685723,
             "test": [
              0.6151432263
             ]
            },
            {
             "iteration": 3,
             "learn": [
              0.5915707081
             ],
             "passed_time": 1.79811548,
             "remaining_time": 43.15477151,
             "test": [
              0.5919706446
             ]
            },
            {
             "iteration": 4,
             "learn": [
              0.5713556341
             ],
             "passed_time": 2.244073741,
             "remaining_time": 42.63740107,
             "test": [
              0.5699241188
             ]
            },
            {
             "iteration": 5,
             "learn": [
              0.5492150392
             ],
             "passed_time": 2.697392713,
             "remaining_time": 42.2591525,
             "test": [
              0.5489161425
             ]
            },
            {
             "iteration": 6,
             "learn": [
              0.529791976
             ],
             "passed_time": 3.14559084,
             "remaining_time": 41.79142116,
             "test": [
              0.5289876548
             ]
            },
            {
             "iteration": 7,
             "learn": [
              0.5125198183
             ],
             "passed_time": 3.596421592,
             "remaining_time": 41.3588483,
             "test": [
              0.5102150088
             ]
            },
            {
             "iteration": 8,
             "learn": [
              0.494246623
             ],
             "passed_time": 4.045265008,
             "remaining_time": 40.90212397,
             "test": [
              0.4922485033
             ]
            },
            {
             "iteration": 9,
             "learn": [
              0.4768596025
             ],
             "passed_time": 4.496076141,
             "remaining_time": 40.46468527,
             "test": [
              0.4751428471
             ]
            },
            {
             "iteration": 10,
             "learn": [
              0.4612964224
             ],
             "passed_time": 4.945660129,
             "remaining_time": 40.0148865,
             "test": [
              0.4588437969
             ]
            },
            {
             "iteration": 11,
             "learn": [
              0.4465395236
             ],
             "passed_time": 5.406182937,
             "remaining_time": 39.64534154,
             "test": [
              0.4433235895
             ]
            },
            {
             "iteration": 12,
             "learn": [
              0.4316451428
             ],
             "passed_time": 5.862715009,
             "remaining_time": 39.23509275,
             "test": [
              0.4286214935
             ]
            },
            {
             "iteration": 13,
             "learn": [
              0.4176192261
             ],
             "passed_time": 6.364915988,
             "remaining_time": 39.09876964,
             "test": [
              0.4146306553
             ]
            },
            {
             "iteration": 14,
             "learn": [
              0.4038497275
             ],
             "passed_time": 7.015318973,
             "remaining_time": 39.75347418,
             "test": [
              0.4010592751
             ]
            },
            {
             "iteration": 15,
             "learn": [
              0.390315954
             ],
             "passed_time": 7.622475646,
             "remaining_time": 40.01799714,
             "test": [
              0.3882343662
             ]
            },
            {
             "iteration": 16,
             "learn": [
              0.3786944573
             ],
             "passed_time": 8.073102735,
             "remaining_time": 39.41573688,
             "test": [
              0.3758045367
             ]
            },
            {
             "iteration": 17,
             "learn": [
              0.3666674286
             ],
             "passed_time": 8.576042357,
             "remaining_time": 39.0686374,
             "test": [
              0.3638910983
             ]
            },
            {
             "iteration": 18,
             "learn": [
              0.3551742502
             ],
             "passed_time": 9.022827029,
             "remaining_time": 38.46573628,
             "test": [
              0.3525089951
             ]
            },
            {
             "iteration": 19,
             "learn": [
              0.3443810881
             ],
             "passed_time": 9.483099771,
             "remaining_time": 37.93239909,
             "test": [
              0.3415376915
             ]
            },
            {
             "iteration": 20,
             "learn": [
              0.3338422804
             ],
             "passed_time": 9.935981309,
             "remaining_time": 37.3782154,
             "test": [
              0.3309228365
             ]
            },
            {
             "iteration": 21,
             "learn": [
              0.3236091297
             ],
             "passed_time": 10.3829167,
             "remaining_time": 36.81215922,
             "test": [
              0.3209148216
             ]
            },
            {
             "iteration": 22,
             "learn": [
              0.3144253106
             ],
             "passed_time": 10.82871256,
             "remaining_time": 36.25264639,
             "test": [
              0.3112444488
             ]
            },
            {
             "iteration": 23,
             "learn": [
              0.3044474273
             ],
             "passed_time": 11.28922057,
             "remaining_time": 35.74919846,
             "test": [
              0.3017281077
             ]
            },
            {
             "iteration": 24,
             "learn": [
              0.2955295155
             ],
             "passed_time": 11.71453626,
             "remaining_time": 35.14360878,
             "test": [
              0.2929148691
             ]
            },
            {
             "iteration": 25,
             "learn": [
              0.2869908633
             ],
             "passed_time": 12.16797718,
             "remaining_time": 34.63193505,
             "test": [
              0.2842448751
             ]
            },
            {
             "iteration": 26,
             "learn": [
              0.2785193239
             ],
             "passed_time": 12.63800414,
             "remaining_time": 34.16941859,
             "test": [
              0.2758078951
             ]
            },
            {
             "iteration": 27,
             "learn": [
              0.2706860124
             ],
             "passed_time": 13.08653924,
             "remaining_time": 33.6511009,
             "test": [
              0.2678522961
             ]
            },
            {
             "iteration": 28,
             "learn": [
              0.2631052741
             ],
             "passed_time": 13.54110267,
             "remaining_time": 33.15235481,
             "test": [
              0.2603760159
             ]
            },
            {
             "iteration": 29,
             "learn": [
              0.2558172393
             ],
             "passed_time": 13.96948566,
             "remaining_time": 32.59546654,
             "test": [
              0.2531021516
             ]
            },
            {
             "iteration": 30,
             "learn": [
              0.248574047
             ],
             "passed_time": 14.39599971,
             "remaining_time": 32.04270902,
             "test": [
              0.2457392892
             ]
            },
            {
             "iteration": 31,
             "learn": [
              0.2415820481
             ],
             "passed_time": 14.81849232,
             "remaining_time": 31.48929619,
             "test": [
              0.2386125538
             ]
            },
            {
             "iteration": 32,
             "learn": [
              0.234953365
             ],
             "passed_time": 15.271434,
             "remaining_time": 31.00563873,
             "test": [
              0.2320004389
             ]
            },
            {
             "iteration": 33,
             "learn": [
              0.2285694487
             ],
             "passed_time": 15.6941248,
             "remaining_time": 30.46506579,
             "test": [
              0.2255381213
             ]
            },
            {
             "iteration": 34,
             "learn": [
              0.2223453128
             ],
             "passed_time": 16.15718722,
             "remaining_time": 30.00620483,
             "test": [
              0.2194185661
             ]
            },
            {
             "iteration": 35,
             "learn": [
              0.2164435097
             ],
             "passed_time": 16.63551284,
             "remaining_time": 29.57424504,
             "test": [
              0.2131877177
             ]
            },
            {
             "iteration": 36,
             "learn": [
              0.2105909065
             ],
             "passed_time": 17.08572096,
             "remaining_time": 29.09190326,
             "test": [
              0.2074803918
             ]
            },
            {
             "iteration": 37,
             "learn": [
              0.2049113217
             ],
             "passed_time": 17.51692771,
             "remaining_time": 28.58025047,
             "test": [
              0.2018152381
             ]
            },
            {
             "iteration": 38,
             "learn": [
              0.1990615114
             ],
             "passed_time": 17.95511954,
             "remaining_time": 28.08364851,
             "test": [
              0.1959554122
             ]
            },
            {
             "iteration": 39,
             "learn": [
              0.1937890422
             ],
             "passed_time": 18.40065709,
             "remaining_time": 27.60098564,
             "test": [
              0.1904297646
             ]
            },
            {
             "iteration": 40,
             "learn": [
              0.1887023269
             ],
             "passed_time": 18.82974537,
             "remaining_time": 27.09646284,
             "test": [
              0.1853715469
             ]
            },
            {
             "iteration": 41,
             "learn": [
              0.1837404847
             ],
             "passed_time": 19.32452726,
             "remaining_time": 26.68625193,
             "test": [
              0.1804255074
             ]
            },
            {
             "iteration": 42,
             "learn": [
              0.1786883805
             ],
             "passed_time": 19.80515841,
             "remaining_time": 26.25334952,
             "test": [
              0.1752973214
             ]
            },
            {
             "iteration": 43,
             "learn": [
              0.173957825
             ],
             "passed_time": 20.26145358,
             "remaining_time": 25.78730455,
             "test": [
              0.1707806361
             ]
            },
            {
             "iteration": 44,
             "learn": [
              0.1691131955
             ],
             "passed_time": 20.74676264,
             "remaining_time": 25.35715434,
             "test": [
              0.1659806753
             ]
            },
            {
             "iteration": 45,
             "learn": [
              0.1645611744
             ],
             "passed_time": 21.22685909,
             "remaining_time": 24.91848676,
             "test": [
              0.161414156
             ]
            },
            {
             "iteration": 46,
             "learn": [
              0.1600370088
             ],
             "passed_time": 21.71061198,
             "remaining_time": 24.48217947,
             "test": [
              0.1569441074
             ]
            },
            {
             "iteration": 47,
             "learn": [
              0.1557072474
             ],
             "passed_time": 22.16255531,
             "remaining_time": 24.00943492,
             "test": [
              0.1526874945
             ]
            },
            {
             "iteration": 48,
             "learn": [
              0.1517766178
             ],
             "passed_time": 22.58953951,
             "remaining_time": 23.51156153,
             "test": [
              0.1486045009
             ]
            },
            {
             "iteration": 49,
             "learn": [
              0.1476560991
             ],
             "passed_time": 23.07139419,
             "remaining_time": 23.07139419,
             "test": [
              0.1445564036
             ]
            },
            {
             "iteration": 50,
             "learn": [
              0.1437278388
             ],
             "passed_time": 23.53117905,
             "remaining_time": 22.60838771,
             "test": [
              0.1406844173
             ]
            },
            {
             "iteration": 51,
             "learn": [
              0.1398514688
             ],
             "passed_time": 24.00562976,
             "remaining_time": 22.15904286,
             "test": [
              0.1369117738
             ]
            },
            {
             "iteration": 52,
             "learn": [
              0.1362418229
             ],
             "passed_time": 24.46866864,
             "remaining_time": 21.69863068,
             "test": [
              0.1332915058
             ]
            },
            {
             "iteration": 53,
             "learn": [
              0.1327081738
             ],
             "passed_time": 24.94632018,
             "remaining_time": 21.25056904,
             "test": [
              0.1297655454
             ]
            },
            {
             "iteration": 54,
             "learn": [
              0.1292992048
             ],
             "passed_time": 25.42711653,
             "remaining_time": 20.80400443,
             "test": [
              0.1263690353
             ]
            },
            {
             "iteration": 55,
             "learn": [
              0.1259309843
             ],
             "passed_time": 25.901241,
             "remaining_time": 20.35097507,
             "test": [
              0.1230402904
             ]
            },
            {
             "iteration": 56,
             "learn": [
              0.122957741
             ],
             "passed_time": 26.36208928,
             "remaining_time": 19.88719016,
             "test": [
              0.1203368087
             ]
            },
            {
             "iteration": 57,
             "learn": [
              0.1197965283
             ],
             "passed_time": 26.83634792,
             "remaining_time": 19.43321746,
             "test": [
              0.1172124802
             ]
            },
            {
             "iteration": 58,
             "learn": [
              0.116854817
             ],
             "passed_time": 27.29171876,
             "remaining_time": 18.96543168,
             "test": [
              0.1141446796
             ]
            },
            {
             "iteration": 59,
             "learn": [
              0.1138109984
             ],
             "passed_time": 27.76927739,
             "remaining_time": 18.51285159,
             "test": [
              0.1112078812
             ]
            },
            {
             "iteration": 60,
             "learn": [
              0.1109703535
             ],
             "passed_time": 28.24493751,
             "remaining_time": 18.05823873,
             "test": [
              0.1084057971
             ]
            },
            {
             "iteration": 61,
             "learn": [
              0.1083325405
             ],
             "passed_time": 28.73860165,
             "remaining_time": 17.61398166,
             "test": [
              0.1057107994
             ]
            },
            {
             "iteration": 62,
             "learn": [
              0.1057621522
             ],
             "passed_time": 29.18863271,
             "remaining_time": 17.14253032,
             "test": [
              0.1032100799
             ]
            },
            {
             "iteration": 63,
             "learn": [
              0.1035412067
             ],
             "passed_time": 29.61198342,
             "remaining_time": 16.65674067,
             "test": [
              0.100947397
             ]
            },
            {
             "iteration": 64,
             "learn": [
              0.101257849
             ],
             "passed_time": 30.06178254,
             "remaining_time": 16.18711368,
             "test": [
              0.09862216087
             ]
            },
            {
             "iteration": 65,
             "learn": [
              0.09895407165
             ],
             "passed_time": 30.57513042,
             "remaining_time": 15.75082476,
             "test": [
              0.09654142491
             ]
            },
            {
             "iteration": 66,
             "learn": [
              0.09690020279
             ],
             "passed_time": 31.0270693,
             "remaining_time": 15.28198936,
             "test": [
              0.09438038243
             ]
            },
            {
             "iteration": 67,
             "learn": [
              0.09453805272
             ],
             "passed_time": 31.52109923,
             "remaining_time": 14.83345846,
             "test": [
              0.09208632052
             ]
            },
            {
             "iteration": 68,
             "learn": [
              0.09253265956
             ],
             "passed_time": 31.96218229,
             "remaining_time": 14.35982103,
             "test": [
              0.09003874731
             ]
            },
            {
             "iteration": 69,
             "learn": [
              0.09031104103
             ],
             "passed_time": 32.44553139,
             "remaining_time": 13.90522774,
             "test": [
              0.08785332979
             ]
            },
            {
             "iteration": 70,
             "learn": [
              0.0885111729
             ],
             "passed_time": 32.86014763,
             "remaining_time": 13.42175044,
             "test": [
              0.08610040931
             ]
            },
            {
             "iteration": 71,
             "learn": [
              0.08635353064
             ],
             "passed_time": 33.31157561,
             "remaining_time": 12.95450162,
             "test": [
              0.08400142418
             ]
            },
            {
             "iteration": 72,
             "learn": [
              0.08466755527
             ],
             "passed_time": 33.92556902,
             "remaining_time": 12.5478132,
             "test": [
              0.08230131728
             ]
            },
            {
             "iteration": 73,
             "learn": [
              0.0826783182
             ],
             "passed_time": 34.49899517,
             "remaining_time": 12.12126857,
             "test": [
              0.08030583946
             ]
            },
            {
             "iteration": 74,
             "learn": [
              0.0809190422
             ],
             "passed_time": 35.00335598,
             "remaining_time": 11.66778533,
             "test": [
              0.07847055972
             ]
            },
            {
             "iteration": 75,
             "learn": [
              0.07929729982
             ],
             "passed_time": 35.53518929,
             "remaining_time": 11.22163872,
             "test": [
              0.07696819108
             ]
            },
            {
             "iteration": 76,
             "learn": [
              0.07776442357
             ],
             "passed_time": 36.03069827,
             "remaining_time": 10.76241637,
             "test": [
              0.07545379589
             ]
            },
            {
             "iteration": 77,
             "learn": [
              0.07607198403
             ],
             "passed_time": 36.62025559,
             "remaining_time": 10.32879004,
             "test": [
              0.07372174368
             ]
            },
            {
             "iteration": 78,
             "learn": [
              0.07436525724
             ],
             "passed_time": 37.19912317,
             "remaining_time": 9.888374513,
             "test": [
              0.07198833006
             ]
            },
            {
             "iteration": 79,
             "learn": [
              0.07294015465
             ],
             "passed_time": 37.69392178,
             "remaining_time": 9.423480446,
             "test": [
              0.07055610853
             ]
            },
            {
             "iteration": 80,
             "learn": [
              0.07167857321
             ],
             "passed_time": 38.30906753,
             "remaining_time": 8.986077569,
             "test": [
              0.06929504682
             ]
            },
            {
             "iteration": 81,
             "learn": [
              0.07018853688
             ],
             "passed_time": 39.07992795,
             "remaining_time": 8.57852077,
             "test": [
              0.067845068
             ]
            },
            {
             "iteration": 82,
             "learn": [
              0.06870372235
             ],
             "passed_time": 39.734037,
             "remaining_time": 8.138296735,
             "test": [
              0.06630864948
             ]
            },
            {
             "iteration": 83,
             "learn": [
              0.06732762348
             ],
             "passed_time": 40.34401694,
             "remaining_time": 7.684574655,
             "test": [
              0.06492226894
             ]
            },
            {
             "iteration": 84,
             "learn": [
              0.0660623474
             ],
             "passed_time": 40.78240472,
             "remaining_time": 7.19689495,
             "test": [
              0.06372462227
             ]
            },
            {
             "iteration": 85,
             "learn": [
              0.0649057704
             ],
             "passed_time": 41.33123037,
             "remaining_time": 6.728339828,
             "test": [
              0.06257977542
             ]
            },
            {
             "iteration": 86,
             "learn": [
              0.06372864948
             ],
             "passed_time": 41.78991412,
             "remaining_time": 6.244469926,
             "test": [
              0.06149301953
             ]
            },
            {
             "iteration": 87,
             "learn": [
              0.0624118696
             ],
             "passed_time": 42.33102074,
             "remaining_time": 5.772411919,
             "test": [
              0.06022832116
             ]
            },
            {
             "iteration": 88,
             "learn": [
              0.06115809205
             ],
             "passed_time": 42.90123787,
             "remaining_time": 5.302400187,
             "test": [
              0.0589013683
             ]
            },
            {
             "iteration": 89,
             "learn": [
              0.0599246334
             ],
             "passed_time": 43.43854978,
             "remaining_time": 4.826505531,
             "test": [
              0.05759609719
             ]
            },
            {
             "iteration": 90,
             "learn": [
              0.05887869387
             ],
             "passed_time": 43.8738807,
             "remaining_time": 4.339175014,
             "test": [
              0.05661062807
             ]
            },
            {
             "iteration": 91,
             "learn": [
              0.05789986089
             ],
             "passed_time": 44.3561987,
             "remaining_time": 3.857060757,
             "test": [
              0.055642054
             ]
            },
            {
             "iteration": 92,
             "learn": [
              0.05701405908
             ],
             "passed_time": 44.79100421,
             "remaining_time": 3.371365908,
             "test": [
              0.05489769711
             ]
            },
            {
             "iteration": 93,
             "learn": [
              0.05591402174
             ],
             "passed_time": 45.42102057,
             "remaining_time": 2.899214079,
             "test": [
              0.05384985293
             ]
            },
            {
             "iteration": 94,
             "learn": [
              0.05482137548
             ],
             "passed_time": 46.06468708,
             "remaining_time": 2.424457215,
             "test": [
              0.05277612363
             ]
            },
            {
             "iteration": 95,
             "learn": [
              0.05374059452
             ],
             "passed_time": 46.69751153,
             "remaining_time": 1.945729647,
             "test": [
              0.05163903022
             ]
            },
            {
             "iteration": 96,
             "learn": [
              0.05273559658
             ],
             "passed_time": 47.29122943,
             "remaining_time": 1.462615343,
             "test": [
              0.05066561565
             ]
            },
            {
             "iteration": 97,
             "learn": [
              0.05172046593
             ],
             "passed_time": 47.85391855,
             "remaining_time": 0.9766105826,
             "test": [
              0.04971795871
             ]
            },
            {
             "iteration": 98,
             "learn": [
              0.05075489237
             ],
             "passed_time": 48.30010963,
             "remaining_time": 0.4878798953,
             "test": [
              0.04869662569
             ]
            },
            {
             "iteration": 99,
             "learn": [
              0.04986650151
             ],
             "passed_time": 48.7318457,
             "remaining_time": 0,
             "test": [
              0.04782417908
             ]
            }
           ],
           "meta": {
            "iteration_count": 100,
            "launch_mode": "Train",
            "learn_metrics": [
             {
              "best_value": "Min",
              "name": "CrossEntropy"
             }
            ],
            "learn_sets": [
             "learn"
            ],
            "name": "experiment",
            "parameters": "",
            "test_metrics": [
             {
              "best_value": "Min",
              "name": "CrossEntropy"
             }
            ],
            "test_sets": [
             "test"
            ]
           }
          },
          "passed_iterations": 99,
          "total_iterations": 100
         },
         "name": "catboost_info",
         "path": "catboost_info"
        }
       },
       "layout": "IPY_MODEL_0f7cd032d39141c1825566ed8d6f089e"
      }
     },
     "5f55ce969a9740e8b464ef52d9fa1f4a": {
      "model_module": "catboost-widget",
      "model_module_version": "^1.0.0",
      "model_name": "CatboostWidgetModel",
      "state": {
       "_dom_classes": [],
       "_model_module": "catboost-widget",
       "_model_module_version": "^1.0.0",
       "_model_name": "CatboostWidgetModel",
       "_view_count": null,
       "_view_module": "catboost-widget",
       "_view_module_version": "^1.0.0",
       "_view_name": "CatboostWidgetView",
       "data": {
        "catboost_info": {
         "content": {
          "data": {
           "iterations": [
            {
             "iteration": 0,
             "learn": [
              0.6613783506
             ],
             "passed_time": 0.4081644239,
             "remaining_time": 40.40827796,
             "test": [
              0.6635989142
             ]
            },
            {
             "iteration": 1,
             "learn": [
              0.6362972929
             ],
             "passed_time": 0.8159685558,
             "remaining_time": 39.98245923,
             "test": [
              0.6357713157
             ]
            },
            {
             "iteration": 2,
             "learn": [
              0.6093763774
             ],
             "passed_time": 1.197218723,
             "remaining_time": 38.71007205,
             "test": [
              0.6095190899
             ]
            },
            {
             "iteration": 3,
             "learn": [
              0.5837155679
             ],
             "passed_time": 1.595039847,
             "remaining_time": 38.28095634,
             "test": [
              0.5847124161
             ]
            },
            {
             "iteration": 4,
             "learn": [
              0.5621912086
             ],
             "passed_time": 1.982463021,
             "remaining_time": 37.66679741,
             "test": [
              0.5612367069
             ]
            },
            {
             "iteration": 5,
             "learn": [
              0.5376754308
             ],
             "passed_time": 2.385306867,
             "remaining_time": 37.36980758,
             "test": [
              0.5389914266
             ]
            },
            {
             "iteration": 6,
             "learn": [
              0.5168812463
             ],
             "passed_time": 2.791554475,
             "remaining_time": 37.08779517,
             "test": [
              0.5178881682
             ]
            },
            {
             "iteration": 7,
             "learn": [
              0.4986834456
             ],
             "passed_time": 3.159634137,
             "remaining_time": 36.33579258,
             "test": [
              0.4978408058
             ]
            },
            {
             "iteration": 8,
             "learn": [
              0.4785252825
             ],
             "passed_time": 3.625824603,
             "remaining_time": 36.66111543,
             "test": [
              0.4787766982
             ]
            },
            {
             "iteration": 9,
             "learn": [
              0.4605803331
             ],
             "passed_time": 4.011124286,
             "remaining_time": 36.10011858,
             "test": [
              0.4606312706
             ]
            },
            {
             "iteration": 10,
             "learn": [
              0.4438385161
             ],
             "passed_time": 4.463217035,
             "remaining_time": 36.11148328,
             "test": [
              0.4433435432
             ]
            },
            {
             "iteration": 11,
             "learn": [
              0.4280519769
             ],
             "passed_time": 4.888299789,
             "remaining_time": 35.84753178,
             "test": [
              0.4268577562
             ]
            },
            {
             "iteration": 12,
             "learn": [
              0.412117237
             ],
             "passed_time": 5.355347904,
             "remaining_time": 35.83963597,
             "test": [
              0.4111246151
             ]
            },
            {
             "iteration": 13,
             "learn": [
              0.3967774071
             ],
             "passed_time": 5.725539003,
             "remaining_time": 35.17116816,
             "test": [
              0.396098192
             ]
            },
            {
             "iteration": 14,
             "learn": [
              0.3823932228
             ],
             "passed_time": 6.154352632,
             "remaining_time": 34.87466492,
             "test": [
              0.3817361403
             ]
            },
            {
             "iteration": 15,
             "learn": [
              0.3673325152
             ],
             "passed_time": 6.598388442,
             "remaining_time": 34.64153932,
             "test": [
              0.3680010029
             ]
            },
            {
             "iteration": 16,
             "learn": [
              0.3538748271
             ],
             "passed_time": 6.987641285,
             "remaining_time": 34.11613098,
             "test": [
              0.3548562728
             ]
            },
            {
             "iteration": 17,
             "learn": [
              0.3431694515
             ],
             "passed_time": 7.421103082,
             "remaining_time": 33.80724737,
             "test": [
              0.3422686343
             ]
            },
            {
             "iteration": 18,
             "learn": [
              0.3300852159
             ],
             "passed_time": 7.81407554,
             "remaining_time": 33.31263783,
             "test": [
              0.3302109663
             ]
            },
            {
             "iteration": 19,
             "learn": [
              0.3196734256
             ],
             "passed_time": 8.220680412,
             "remaining_time": 32.88272165,
             "test": [
              0.3186489326
             ]
            },
            {
             "iteration": 20,
             "learn": [
              0.3069699757
             ],
             "passed_time": 8.693149252,
             "remaining_time": 32.70279957,
             "test": [
              0.3075603222
             ]
            },
            {
             "iteration": 21,
             "learn": [
              0.296881177
             ],
             "passed_time": 9.101130622,
             "remaining_time": 32.26764493,
             "test": [
              0.2969199452
             ]
            },
            {
             "iteration": 22,
             "learn": [
              0.2867678549
             ],
             "passed_time": 9.564383654,
             "remaining_time": 32.0198931,
             "test": [
              0.286706642
             ]
            },
            {
             "iteration": 23,
             "learn": [
              0.2765025993
             ],
             "passed_time": 9.98463959,
             "remaining_time": 31.61802537,
             "test": [
              0.2768952794
             ]
            },
            {
             "iteration": 24,
             "learn": [
              0.2664431231
             ],
             "passed_time": 10.35122736,
             "remaining_time": 31.05368207,
             "test": [
              0.2674680414
             ]
            },
            {
             "iteration": 25,
             "learn": [
              0.2579789842
             ],
             "passed_time": 10.71728212,
             "remaining_time": 30.50303372,
             "test": [
              0.2584060508
             ]
            },
            {
             "iteration": 26,
             "learn": [
              0.2499626441
             ],
             "passed_time": 11.16261014,
             "remaining_time": 30.18039039,
             "test": [
              0.2496930612
             ]
            },
            {
             "iteration": 27,
             "learn": [
              0.2419720046
             ],
             "passed_time": 11.53936359,
             "remaining_time": 29.67264924,
             "test": [
              0.2413118031
             ]
            },
            {
             "iteration": 28,
             "learn": [
              0.2336775828
             ],
             "passed_time": 11.91634636,
             "remaining_time": 29.17450315,
             "test": [
              0.2332469245
             ]
            },
            {
             "iteration": 29,
             "learn": [
              0.2258446345
             ],
             "passed_time": 12.3386078,
             "remaining_time": 28.79008486,
             "test": [
              0.2254843283
             ]
            },
            {
             "iteration": 30,
             "learn": [
              0.2185226478
             ],
             "passed_time": 12.78696513,
             "remaining_time": 28.46130949,
             "test": [
              0.2180105379
             ]
            },
            {
             "iteration": 31,
             "learn": [
              0.2109298895
             ],
             "passed_time": 13.30063501,
             "remaining_time": 28.2638494,
             "test": [
              0.2108122705
             ]
            },
            {
             "iteration": 32,
             "learn": [
              0.2033494559
             ],
             "passed_time": 13.94122477,
             "remaining_time": 28.30491089,
             "test": [
              0.2038775776
             ]
            },
            {
             "iteration": 33,
             "learn": [
              0.1964212528
             ],
             "passed_time": 14.53588692,
             "remaining_time": 28.21672167,
             "test": [
              0.1971948302
             ]
            },
            {
             "iteration": 34,
             "learn": [
              0.1911687862
             ],
             "passed_time": 15.0272107,
             "remaining_time": 27.90767702,
             "test": [
              0.1907533303
             ]
            },
            {
             "iteration": 35,
             "learn": [
              0.1838971895
             ],
             "passed_time": 15.47042416,
             "remaining_time": 27.50297628,
             "test": [
              0.184543464
             ]
            },
            {
             "iteration": 36,
             "learn": [
              0.1787563987
             ],
             "passed_time": 15.87301048,
             "remaining_time": 27.02701785,
             "test": [
              0.1785547303
             ]
            },
            {
             "iteration": 37,
             "learn": [
              0.1721857322
             ],
             "passed_time": 16.27237131,
             "remaining_time": 26.54965846,
             "test": [
              0.1727782064
             ]
            },
            {
             "iteration": 38,
             "learn": [
              0.1676662049
             ],
             "passed_time": 16.77186947,
             "remaining_time": 26.23292404,
             "test": [
              0.1672057426
             ]
            },
            {
             "iteration": 39,
             "learn": [
              0.161422183
             ],
             "passed_time": 17.14253024,
             "remaining_time": 25.71379536,
             "test": [
              0.1618277958
             ]
            },
            {
             "iteration": 40,
             "learn": [
              0.1563262026
             ],
             "passed_time": 17.57029204,
             "remaining_time": 25.28407879,
             "test": [
              0.1566372238
             ]
            },
            {
             "iteration": 41,
             "learn": [
              0.1520146202
             ],
             "passed_time": 18.06798691,
             "remaining_time": 24.95102954,
             "test": [
              0.1516270496
             ]
            },
            {
             "iteration": 42,
             "learn": [
              0.1470007875
             ],
             "passed_time": 18.3919795,
             "remaining_time": 24.38006585,
             "test": [
              0.146789047
             ]
            },
            {
             "iteration": 43,
             "learn": [
              0.141863629
             ],
             "passed_time": 18.79618542,
             "remaining_time": 23.9224178,
             "test": [
              0.1421173507
             ]
            },
            {
             "iteration": 44,
             "learn": [
              0.1371035064
             ],
             "passed_time": 19.18464979,
             "remaining_time": 23.44790529,
             "test": [
              0.1376050687
             ]
            },
            {
             "iteration": 45,
             "learn": [
              0.1329058507
             ],
             "passed_time": 19.58807039,
             "remaining_time": 22.99469133,
             "test": [
              0.1332461539
             ]
            },
            {
             "iteration": 46,
             "learn": [
              0.1289167669
             ],
             "passed_time": 20.04118911,
             "remaining_time": 22.59963878,
             "test": [
              0.1290352456
             ]
            },
            {
             "iteration": 47,
             "learn": [
              0.1249900347
             ],
             "passed_time": 20.43667279,
             "remaining_time": 22.13972885,
             "test": [
              0.1249654007
             ]
            },
            {
             "iteration": 48,
             "learn": [
              0.1210811994
             ],
             "passed_time": 20.88002321,
             "remaining_time": 21.73226906,
             "test": [
              0.1210322101
             ]
            },
            {
             "iteration": 49,
             "learn": [
              0.1171937406
             ],
             "passed_time": 21.31590963,
             "remaining_time": 21.31590963,
             "test": [
              0.1172310344
             ]
            },
            {
             "iteration": 50,
             "learn": [
              0.1133176305
             ],
             "passed_time": 21.68442342,
             "remaining_time": 20.83405387,
             "test": [
              0.1135558278
             ]
            },
            {
             "iteration": 51,
             "learn": [
              0.10975402
             ],
             "passed_time": 22.12124593,
             "remaining_time": 20.41961163,
             "test": [
              0.1100024951
             ]
            },
            {
             "iteration": 52,
             "learn": [
              0.106926121
             ],
             "passed_time": 22.49126252,
             "remaining_time": 19.94508186,
             "test": [
              0.1065665278
             ]
            },
            {
             "iteration": 53,
             "learn": [
              0.1034041759
             ],
             "passed_time": 22.87271453,
             "remaining_time": 19.48416423,
             "test": [
              0.1032440982
             ]
            },
            {
             "iteration": 54,
             "learn": [
              0.09972940969
             ],
             "passed_time": 23.33558091,
             "remaining_time": 19.09274801,
             "test": [
              0.1000305396
             ]
            },
            {
             "iteration": 55,
             "learn": [
              0.09713690008
             ],
             "passed_time": 23.73834066,
             "remaining_time": 18.65155337,
             "test": [
              0.09692179586
             ]
            },
            {
             "iteration": 56,
             "learn": [
              0.09376556687
             ],
             "passed_time": 24.23636804,
             "remaining_time": 18.28357589,
             "test": [
              0.09391515248
             ]
            },
            {
             "iteration": 57,
             "learn": [
              0.09122251772
             ],
             "passed_time": 24.67538699,
             "remaining_time": 17.86838369,
             "test": [
              0.09100578053
             ]
            },
            {
             "iteration": 58,
             "learn": [
              0.08794053249
             ],
             "passed_time": 25.06632635,
             "remaining_time": 17.41897255,
             "test": [
              0.08819048587
             ]
            },
            {
             "iteration": 59,
             "learn": [
              0.08546993662
             ],
             "passed_time": 25.46259986,
             "remaining_time": 16.97506657,
             "test": [
              0.08546624385
             ]
            },
            {
             "iteration": 60,
             "learn": [
              0.08257307492
             ],
             "passed_time": 25.90728037,
             "remaining_time": 16.56367106,
             "test": [
              0.08283004526
             ]
            },
            {
             "iteration": 61,
             "learn": [
              0.08010084795
             ],
             "passed_time": 26.37898468,
             "remaining_time": 16.1677648,
             "test": [
              0.08027844393
             ]
            },
            {
             "iteration": 62,
             "learn": [
              0.07797058437
             ],
             "passed_time": 26.80057647,
             "remaining_time": 15.7400211,
             "test": [
              0.07780851427
             ]
            },
            {
             "iteration": 63,
             "learn": [
              0.07548814587
             ],
             "passed_time": 27.2022318,
             "remaining_time": 15.30125539,
             "test": [
              0.07541798047
             ]
            },
            {
             "iteration": 64,
             "learn": [
              0.0729485096
             ],
             "passed_time": 27.60652822,
             "remaining_time": 14.86505366,
             "test": [
              0.07310365427
             ]
            },
            {
             "iteration": 65,
             "learn": [
              0.07053177564
             ],
             "passed_time": 28.05960134,
             "remaining_time": 14.45494614,
             "test": [
              0.07086306961
             ]
            },
            {
             "iteration": 66,
             "learn": [
              0.06844087422
             ],
             "passed_time": 28.49564143,
             "remaining_time": 14.03516668,
             "test": [
              0.06869332944
             ]
            },
            {
             "iteration": 67,
             "learn": [
              0.06643112464
             ],
             "passed_time": 28.93276406,
             "remaining_time": 13.61541838,
             "test": [
              0.06659251212
             ]
            },
            {
             "iteration": 68,
             "learn": [
              0.06446575578
             ],
             "passed_time": 29.28852663,
             "remaining_time": 13.15861342,
             "test": [
              0.06455815523
             ]
            },
            {
             "iteration": 69,
             "learn": [
              0.06251212985
             ],
             "passed_time": 29.70390667,
             "remaining_time": 12.73024571,
             "test": [
              0.0625878618
             ]
            },
            {
             "iteration": 70,
             "learn": [
              0.06056296587
             ],
             "passed_time": 30.04075093,
             "remaining_time": 12.27016587,
             "test": [
              0.06067967238
             ]
            },
            {
             "iteration": 71,
             "learn": [
              0.05865226684
             ],
             "passed_time": 30.39848111,
             "remaining_time": 11.82163154,
             "test": [
              0.05883135544
             ]
            },
            {
             "iteration": 72,
             "learn": [
              0.05684118485
             ],
             "passed_time": 30.78370623,
             "remaining_time": 11.38575436,
             "test": [
              0.05704119555
             ]
            },
            {
             "iteration": 73,
             "learn": [
              0.05543099232
             ],
             "passed_time": 31.19529901,
             "remaining_time": 10.96051046,
             "test": [
              0.05530679715
             ]
            },
            {
             "iteration": 74,
             "learn": [
              0.05367320418
             ],
             "passed_time": 31.64973504,
             "remaining_time": 10.54991168,
             "test": [
              0.05362700685
             ]
            },
            {
             "iteration": 75,
             "learn": [
              0.05182401402
             ],
             "passed_time": 32.10057077,
             "remaining_time": 10.13702235,
             "test": [
              0.05199968121
             ]
            },
            {
             "iteration": 76,
             "learn": [
              0.0505304853
             ],
             "passed_time": 32.52314295,
             "remaining_time": 9.714705036,
             "test": [
              0.05042294337
             ]
            },
            {
             "iteration": 77,
             "learn": [
              0.04884022194
             ],
             "passed_time": 33.0203516,
             "remaining_time": 9.313432502,
             "test": [
              0.04889515287
             ]
            },
            {
             "iteration": 78,
             "learn": [
              0.04720844365
             ],
             "passed_time": 33.43893616,
             "remaining_time": 8.888831131,
             "test": [
              0.04741493775
             ]
            },
            {
             "iteration": 79,
             "learn": [
              0.0459116492
             ],
             "passed_time": 33.8390355,
             "remaining_time": 8.459758876,
             "test": [
              0.0459805299
             ]
            },
            {
             "iteration": 80,
             "learn": [
              0.04464866228
             ],
             "passed_time": 34.24823853,
             "remaining_time": 8.033537432,
             "test": [
              0.04459062298
             ]
            },
            {
             "iteration": 81,
             "learn": [
              0.04306120894
             ],
             "passed_time": 34.62096574,
             "remaining_time": 7.599724187,
             "test": [
              0.04324350532
             ]
            },
            {
             "iteration": 82,
             "learn": [
              0.04195372763
             ],
             "passed_time": 34.98582158,
             "remaining_time": 7.165770685,
             "test": [
              0.04193817011
             ]
            },
            {
             "iteration": 83,
             "learn": [
              0.04071430787
             ],
             "passed_time": 35.34480324,
             "remaining_time": 6.732343474,
             "test": [
              0.04067353258
             ]
            },
            {
             "iteration": 84,
             "learn": [
              0.03934799554
             ],
             "passed_time": 35.71389445,
             "remaining_time": 6.302451961,
             "test": [
              0.03944713222
             ]
            },
            {
             "iteration": 85,
             "learn": [
              0.03812529725
             ],
             "passed_time": 36.09782348,
             "remaining_time": 5.876389868,
             "test": [
              0.03825842149
             ]
            },
            {
             "iteration": 86,
             "learn": [
              0.03710677864
             ],
             "passed_time": 36.57973683,
             "remaining_time": 5.465937687,
             "test": [
              0.03710662363
             ]
            },
            {
             "iteration": 87,
             "learn": [
              0.03605572658
             ],
             "passed_time": 36.92261101,
             "remaining_time": 5.034901502,
             "test": [
              0.03598991181
             ]
            },
            {
             "iteration": 88,
             "learn": [
              0.03486689833
             ],
             "passed_time": 37.40250414,
             "remaining_time": 4.622781411,
             "test": [
              0.0349078952
             ]
            },
            {
             "iteration": 89,
             "learn": [
              0.03382325301
             ],
             "passed_time": 37.81369004,
             "remaining_time": 4.201521115,
             "test": [
              0.03385854271
             ]
            },
            {
             "iteration": 90,
             "learn": [
              0.03281883731
             ],
             "passed_time": 38.26588835,
             "remaining_time": 3.784538408,
             "test": [
              0.03284145624
             ]
            },
            {
             "iteration": 91,
             "learn": [
              0.03182789509
             ],
             "passed_time": 38.64611253,
             "remaining_time": 3.360531525,
             "test": [
              0.03185523427
             ]
            },
            {
             "iteration": 92,
             "learn": [
              0.03085135135
             ],
             "passed_time": 39.0811696,
             "remaining_time": 2.941593411,
             "test": [
              0.03089983809
             ]
            },
            {
             "iteration": 93,
             "learn": [
              0.02990347487
             ],
             "passed_time": 39.49774729,
             "remaining_time": 2.521132806,
             "test": [
              0.02997302473
             ]
            },
            {
             "iteration": 94,
             "learn": [
              0.02897004204
             ],
             "passed_time": 39.96444933,
             "remaining_time": 2.10339207,
             "test": [
              0.02907444076
             ]
            },
            {
             "iteration": 95,
             "learn": [
              0.02823737346
             ],
             "passed_time": 40.42101033,
             "remaining_time": 1.684208764,
             "test": [
              0.02820334229
             ]
            },
            {
             "iteration": 96,
             "learn": [
              0.02735179865
             ],
             "passed_time": 40.88146862,
             "remaining_time": 1.264375318,
             "test": [
              0.02735874175
             ]
            },
            {
             "iteration": 97,
             "learn": [
              0.02642825726
             ],
             "passed_time": 41.3081199,
             "remaining_time": 0.8430228551,
             "test": [
              0.02654023551
             ]
            },
            {
             "iteration": 98,
             "learn": [
              0.02577590227
             ],
             "passed_time": 41.74697949,
             "remaining_time": 0.4216866615,
             "test": [
              0.02574620187
             ]
            },
            {
             "iteration": 99,
             "learn": [
              0.02492040879
             ],
             "passed_time": 42.11996134,
             "remaining_time": 0,
             "test": [
              0.02497598938
             ]
            }
           ],
           "meta": {
            "iteration_count": 100,
            "launch_mode": "Train",
            "learn_metrics": [
             {
              "best_value": "Min",
              "name": "CrossEntropy"
             }
            ],
            "learn_sets": [
             "learn"
            ],
            "name": "experiment",
            "parameters": "",
            "test_metrics": [
             {
              "best_value": "Min",
              "name": "CrossEntropy"
             }
            ],
            "test_sets": [
             "test"
            ]
           }
          },
          "passed_iterations": 99,
          "total_iterations": 100
         },
         "name": "catboost_info",
         "path": "catboost_info"
        }
       },
       "layout": "IPY_MODEL_bde08210dca04726ac9602d65ad126ed"
      }
     },
     "64e3fefe57fd4673855218e69f96dc0e": {
      "model_module": "@jupyter-widgets/base",
      "model_module_version": "1.2.0",
      "model_name": "LayoutModel",
      "state": {
       "_model_module": "@jupyter-widgets/base",
       "_model_module_version": "1.2.0",
       "_model_name": "LayoutModel",
       "_view_count": null,
       "_view_module": "@jupyter-widgets/base",
       "_view_module_version": "1.2.0",
       "_view_name": "LayoutView",
       "align_content": null,
       "align_items": null,
       "align_self": "stretch",
       "border": null,
       "bottom": null,
       "display": null,
       "flex": null,
       "flex_flow": null,
       "grid_area": null,
       "grid_auto_columns": null,
       "grid_auto_flow": null,
       "grid_auto_rows": null,
       "grid_column": null,
       "grid_gap": null,
       "grid_row": null,
       "grid_template_areas": null,
       "grid_template_columns": null,
       "grid_template_rows": null,
       "height": "500px",
       "justify_content": null,
       "justify_items": null,
       "left": null,
       "margin": null,
       "max_height": null,
       "max_width": null,
       "min_height": null,
       "min_width": null,
       "object_fit": null,
       "object_position": null,
       "order": null,
       "overflow": null,
       "overflow_x": null,
       "overflow_y": null,
       "padding": null,
       "right": null,
       "top": null,
       "visibility": null,
       "width": null
      }
     },
     "66452198384b42c98ddf454aec725312": {
      "model_module": "catboost-widget",
      "model_module_version": "^1.0.0",
      "model_name": "CatboostWidgetModel",
      "state": {
       "_dom_classes": [],
       "_model_module": "catboost-widget",
       "_model_module_version": "^1.0.0",
       "_model_name": "CatboostWidgetModel",
       "_view_count": null,
       "_view_module": "catboost-widget",
       "_view_module_version": "^1.0.0",
       "_view_name": "CatboostWidgetView",
       "data": {
        "catboost_info": {
         "content": {
          "data": {
           "iterations": [
            {
             "iteration": 0,
             "learn": [
              0.6622218771
             ],
             "passed_time": 0.4749769082,
             "remaining_time": 47.02271391,
             "test": [
              0.6642972244
             ]
            },
            {
             "iteration": 1,
             "learn": [
              0.6374062225
             ],
             "passed_time": 0.9437893025,
             "remaining_time": 46.24567582,
             "test": [
              0.6370789638
             ]
            },
            {
             "iteration": 2,
             "learn": [
              0.6110587424
             ],
             "passed_time": 1.384078369,
             "remaining_time": 44.75186727,
             "test": [
              0.6114526548
             ]
            },
            {
             "iteration": 3,
             "learn": [
              0.5864130096
             ],
             "passed_time": 1.795228051,
             "remaining_time": 43.08547323,
             "test": [
              0.5869575521
             ]
            },
            {
             "iteration": 4,
             "learn": [
              0.5645411772
             ],
             "passed_time": 2.236705924,
             "remaining_time": 42.49741256,
             "test": [
              0.5640791095
             ]
            },
            {
             "iteration": 5,
             "learn": [
              0.5421097523
             ],
             "passed_time": 2.61577246,
             "remaining_time": 40.98043521,
             "test": [
              0.542485665
             ]
            },
            {
             "iteration": 6,
             "learn": [
              0.5207610611
             ],
             "passed_time": 3.059413616,
             "remaining_time": 40.64649519,
             "test": [
              0.5219007313
             ]
            },
            {
             "iteration": 7,
             "learn": [
              0.5026025195
             ],
             "passed_time": 3.539456587,
             "remaining_time": 40.70375075,
             "test": [
              0.5020278945
             ]
            },
            {
             "iteration": 8,
             "learn": [
              0.4830732678
             ],
             "passed_time": 3.973280504,
             "remaining_time": 40.17428065,
             "test": [
              0.4834996193
             ]
            },
            {
             "iteration": 9,
             "learn": [
              0.4652257861
             ],
             "passed_time": 4.422899435,
             "remaining_time": 39.80609491,
             "test": [
              0.4657916809
             ]
            },
            {
             "iteration": 10,
             "learn": [
              0.449162954
             ],
             "passed_time": 4.844317366,
             "remaining_time": 39.19493142,
             "test": [
              0.4489954068
             ]
            },
            {
             "iteration": 11,
             "learn": [
              0.4330753558
             ],
             "passed_time": 5.272378904,
             "remaining_time": 38.66411196,
             "test": [
              0.4329255975
             ]
            },
            {
             "iteration": 12,
             "learn": [
              0.4175050288
             ],
             "passed_time": 5.796558766,
             "remaining_time": 38.79235482,
             "test": [
              0.4172590518
             ]
            },
            {
             "iteration": 13,
             "learn": [
              0.4025492399
             ],
             "passed_time": 6.288688917,
             "remaining_time": 38.63051763,
             "test": [
              0.4023829019
             ]
            },
            {
             "iteration": 14,
             "learn": [
              0.3882749372
             ],
             "passed_time": 6.780310569,
             "remaining_time": 38.42175989,
             "test": [
              0.388327946
             ]
            },
            {
             "iteration": 15,
             "learn": [
              0.3739526259
             ],
             "passed_time": 7.239317588,
             "remaining_time": 38.00641733,
             "test": [
              0.3748971753
             ]
            },
            {
             "iteration": 16,
             "learn": [
              0.3613179654
             ],
             "passed_time": 7.714857385,
             "remaining_time": 37.66665665,
             "test": [
              0.3618556081
             ]
            },
            {
             "iteration": 17,
             "learn": [
              0.3497260145
             ],
             "passed_time": 8.204145448,
             "remaining_time": 37.37444038,
             "test": [
              0.3495177738
             ]
            },
            {
             "iteration": 18,
             "learn": [
              0.3376263215
             ],
             "passed_time": 8.689316817,
             "remaining_time": 37.04392959,
             "test": [
              0.3375849048
             ]
            },
            {
             "iteration": 19,
             "learn": [
              0.3265396477
             ],
             "passed_time": 9.291810312,
             "remaining_time": 37.16724125,
             "test": [
              0.3262570937
             ]
            },
            {
             "iteration": 20,
             "learn": [
              0.3152600575
             ],
             "passed_time": 9.920640067,
             "remaining_time": 37.32050311,
             "test": [
              0.3153728857
             ]
            },
            {
             "iteration": 21,
             "learn": [
              0.3046046303
             ],
             "passed_time": 10.42654694,
             "remaining_time": 36.96684823,
             "test": [
              0.3049157481
             ]
            },
            {
             "iteration": 22,
             "learn": [
              0.294889176
             ],
             "passed_time": 10.85249109,
             "remaining_time": 36.33225279,
             "test": [
              0.2949470312
             ]
            },
            {
             "iteration": 23,
             "learn": [
              0.2852196686
             ],
             "passed_time": 11.29302595,
             "remaining_time": 35.76124886,
             "test": [
              0.2853500301
             ]
            },
            {
             "iteration": 24,
             "learn": [
              0.2759560156
             ],
             "passed_time": 11.73607436,
             "remaining_time": 35.20822308,
             "test": [
              0.2761628018
             ]
            },
            {
             "iteration": 25,
             "learn": [
              0.2666503927
             ],
             "passed_time": 12.20186035,
             "remaining_time": 34.72837175,
             "test": [
              0.2671035256
             ]
            },
            {
             "iteration": 26,
             "learn": [
              0.2584568634
             ],
             "passed_time": 12.64415854,
             "remaining_time": 34.18605827,
             "test": [
              0.2585308678
             ]
            },
            {
             "iteration": 27,
             "learn": [
              0.2503416798
             ],
             "passed_time": 13.09848123,
             "remaining_time": 33.68180889,
             "test": [
              0.250072692
             ]
            },
            {
             "iteration": 28,
             "learn": [
              0.2424611411
             ],
             "passed_time": 13.56426204,
             "remaining_time": 33.20905534,
             "test": [
              0.242187703
             ]
            },
            {
             "iteration": 29,
             "learn": [
              0.2348976785
             ],
             "passed_time": 13.99958854,
             "remaining_time": 32.6657066,
             "test": [
              0.2346837572
             ]
            },
            {
             "iteration": 30,
             "learn": [
              0.2274734517
             ],
             "passed_time": 14.46741076,
             "remaining_time": 32.20165621,
             "test": [
              0.2274031473
             ]
            },
            {
             "iteration": 31,
             "learn": [
              0.2201678887
             ],
             "passed_time": 14.92432939,
             "remaining_time": 31.71419995,
             "test": [
              0.2203327834
             ]
            },
            {
             "iteration": 32,
             "learn": [
              0.2130574993
             ],
             "passed_time": 15.4357446,
             "remaining_time": 31.33923903,
             "test": [
              0.2132381419
             ]
            },
            {
             "iteration": 33,
             "learn": [
              0.2065441908
             ],
             "passed_time": 15.90937734,
             "remaining_time": 30.88290894,
             "test": [
              0.206713908
             ]
            },
            {
             "iteration": 34,
             "learn": [
              0.200513959
             ],
             "passed_time": 16.2911491,
             "remaining_time": 30.25499119,
             "test": [
              0.2004474454
             ]
            },
            {
             "iteration": 35,
             "learn": [
              0.1941165748
             ],
             "passed_time": 16.74809788,
             "remaining_time": 29.77439623,
             "test": [
              0.1941166763
             ]
            },
            {
             "iteration": 36,
             "learn": [
              0.1884184515
             ],
             "passed_time": 17.19752414,
             "remaining_time": 29.28227084,
             "test": [
              0.1883022141
             ]
            },
            {
             "iteration": 37,
             "learn": [
              0.182594263
             ],
             "passed_time": 17.57900552,
             "remaining_time": 28.68153532,
             "test": [
              0.1825430955
             ]
            },
            {
             "iteration": 38,
             "learn": [
              0.1771640373
             ],
             "passed_time": 18.03381599,
             "remaining_time": 28.20673784,
             "test": [
              0.1768144137
             ]
            },
            {
             "iteration": 39,
             "learn": [
              0.1715877101
             ],
             "passed_time": 18.49994639,
             "remaining_time": 27.74991959,
             "test": [
              0.1714538151
             ]
            },
            {
             "iteration": 40,
             "learn": [
              0.1665014213
             ],
             "passed_time": 18.916651,
             "remaining_time": 27.22152216,
             "test": [
              0.1663445311
             ]
            },
            {
             "iteration": 41,
             "learn": [
              0.1616261884
             ],
             "passed_time": 19.35081443,
             "remaining_time": 26.72255326,
             "test": [
              0.1611744999
             ]
            },
            {
             "iteration": 42,
             "learn": [
              0.156705476
             ],
             "passed_time": 19.81273547,
             "remaining_time": 26.26339353,
             "test": [
              0.1562341538
             ]
            },
            {
             "iteration": 43,
             "learn": [
              0.1520797148
             ],
             "passed_time": 20.29398436,
             "remaining_time": 25.82870736,
             "test": [
              0.1516602431
             ]
            },
            {
             "iteration": 44,
             "learn": [
              0.1474812672
             ],
             "passed_time": 20.71871331,
             "remaining_time": 25.32287182,
             "test": [
              0.1471193926
             ]
            },
            {
             "iteration": 45,
             "learn": [
              0.1432213645
             ],
             "passed_time": 21.17154141,
             "remaining_time": 24.85354861,
             "test": [
              0.1428687664
             ]
            },
            {
             "iteration": 46,
             "learn": [
              0.139008223
             ],
             "passed_time": 21.6525804,
             "remaining_time": 24.4167396,
             "test": [
              0.1386557016
             ]
            },
            {
             "iteration": 47,
             "learn": [
              0.1350182778
             ],
             "passed_time": 22.07479206,
             "remaining_time": 23.91435807,
             "test": [
              0.134548006
             ]
            },
            {
             "iteration": 48,
             "learn": [
              0.1311276803
             ],
             "passed_time": 22.54440735,
             "remaining_time": 23.46458724,
             "test": [
              0.1305620268
             ]
            },
            {
             "iteration": 49,
             "learn": [
              0.1273592234
             ],
             "passed_time": 22.98041007,
             "remaining_time": 22.98041007,
             "test": [
              0.1267606194
             ]
            },
            {
             "iteration": 50,
             "learn": [
              0.1237399967
             ],
             "passed_time": 23.39002505,
             "remaining_time": 22.47276916,
             "test": [
              0.1231539637
             ]
            },
            {
             "iteration": 51,
             "learn": [
              0.1201977027
             ],
             "passed_time": 23.83715633,
             "remaining_time": 22.00352892,
             "test": [
              0.1196551136
             ]
            },
            {
             "iteration": 52,
             "learn": [
              0.1168564483
             ],
             "passed_time": 24.24877286,
             "remaining_time": 21.50362876,
             "test": [
              0.116197796
             ]
            },
            {
             "iteration": 53,
             "learn": [
              0.1136602682
             ],
             "passed_time": 24.70536038,
             "remaining_time": 21.04530699,
             "test": [
              0.1128529327
             ]
            },
            {
             "iteration": 54,
             "learn": [
              0.1103483136
             ],
             "passed_time": 25.13880071,
             "remaining_time": 20.56810967,
             "test": [
              0.1095789094
             ]
            },
            {
             "iteration": 55,
             "learn": [
              0.1073084405
             ],
             "passed_time": 25.57215518,
             "remaining_time": 20.09240764,
             "test": [
              0.106307294
             ]
            },
            {
             "iteration": 56,
             "learn": [
              0.1041854335
             ],
             "passed_time": 26.03630212,
             "remaining_time": 19.6414209,
             "test": [
              0.103295256
             ]
            },
            {
             "iteration": 57,
             "learn": [
              0.101442457
             ],
             "passed_time": 26.53430699,
             "remaining_time": 19.21449817,
             "test": [
              0.100391921
             ]
            },
            {
             "iteration": 58,
             "learn": [
              0.09860798566
             ],
             "passed_time": 26.94994916,
             "remaining_time": 18.72793078,
             "test": [
              0.09765094109
             ]
            },
            {
             "iteration": 59,
             "learn": [
              0.09587622453
             ],
             "passed_time": 27.42861364,
             "remaining_time": 18.28574243,
             "test": [
              0.09487237748
             ]
            },
            {
             "iteration": 60,
             "learn": [
              0.09316273492
             ],
             "passed_time": 27.82559524,
             "remaining_time": 17.79013466,
             "test": [
              0.09226700095
             ]
            },
            {
             "iteration": 61,
             "learn": [
              0.09059905858
             ],
             "passed_time": 28.2528975,
             "remaining_time": 17.31629202,
             "test": [
              0.08955345292
             ]
            },
            {
             "iteration": 62,
             "learn": [
              0.08808884122
             ],
             "passed_time": 28.75360741,
             "remaining_time": 16.88703927,
             "test": [
              0.0869773429
             ]
            },
            {
             "iteration": 63,
             "learn": [
              0.08578657162
             ],
             "passed_time": 29.16899802,
             "remaining_time": 16.40756139,
             "test": [
              0.08461216653
             ]
            },
            {
             "iteration": 64,
             "learn": [
              0.08340411655
             ],
             "passed_time": 29.59043926,
             "remaining_time": 15.93331345,
             "test": [
              0.08235829676
             ]
            },
            {
             "iteration": 65,
             "learn": [
              0.08110277017
             ],
             "passed_time": 30.04771151,
             "remaining_time": 15.47912411,
             "test": [
              0.08000180077
             ]
            },
            {
             "iteration": 66,
             "learn": [
              0.07894434242
             ],
             "passed_time": 30.47768583,
             "remaining_time": 15.0113975,
             "test": [
              0.07787297963
             ]
            },
            {
             "iteration": 67,
             "learn": [
              0.07687050992
             ],
             "passed_time": 30.89307166,
             "remaining_time": 14.53791607,
             "test": [
              0.07580537757
             ]
            },
            {
             "iteration": 68,
             "learn": [
              0.07475377182
             ],
             "passed_time": 31.35122665,
             "remaining_time": 14.08533371,
             "test": [
              0.07365812634
             ]
            },
            {
             "iteration": 69,
             "learn": [
              0.07283197539
             ],
             "passed_time": 31.78130056,
             "remaining_time": 13.62055738,
             "test": [
              0.07167552816
             ]
            },
            {
             "iteration": 70,
             "learn": [
              0.07092451075
             ],
             "passed_time": 32.19876366,
             "remaining_time": 13.15160769,
             "test": [
              0.06979722994
             ]
            },
            {
             "iteration": 71,
             "learn": [
              0.06909207699
             ],
             "passed_time": 32.64067319,
             "remaining_time": 12.69359513,
             "test": [
              0.06793702302
             ]
            },
            {
             "iteration": 72,
             "learn": [
              0.06720802745
             ],
             "passed_time": 33.06776805,
             "remaining_time": 12.23054435,
             "test": [
              0.06599753302
             ]
            },
            {
             "iteration": 73,
             "learn": [
              0.06541766442
             ],
             "passed_time": 33.49559573,
             "remaining_time": 11.76872282,
             "test": [
              0.06412397345
             ]
            },
            {
             "iteration": 74,
             "learn": [
              0.0637292956
             ],
             "passed_time": 33.94917728,
             "remaining_time": 11.31639243,
             "test": [
              0.06236079983
             ]
            },
            {
             "iteration": 75,
             "learn": [
              0.06207161546
             ],
             "passed_time": 34.40412675,
             "remaining_time": 10.86446108,
             "test": [
              0.06067497391
             ]
            },
            {
             "iteration": 76,
             "learn": [
              0.06046577853
             ],
             "passed_time": 34.83050911,
             "remaining_time": 10.40391831,
             "test": [
              0.05911046567
             ]
            },
            {
             "iteration": 77,
             "learn": [
              0.05895965663
             ],
             "passed_time": 35.26250544,
             "remaining_time": 9.945834868,
             "test": [
              0.05756222155
             ]
            },
            {
             "iteration": 78,
             "learn": [
              0.05745766046
             ],
             "passed_time": 35.71530342,
             "remaining_time": 9.493941415,
             "test": [
              0.05603679981
             ]
            },
            {
             "iteration": 79,
             "learn": [
              0.05603984085
             ],
             "passed_time": 36.17008966,
             "remaining_time": 9.042522415,
             "test": [
              0.05457301645
             ]
            },
            {
             "iteration": 80,
             "learn": [
              0.05467610493
             ],
             "passed_time": 36.56929403,
             "remaining_time": 8.57798255,
             "test": [
              0.05319839983
             ]
            },
            {
             "iteration": 81,
             "learn": [
              0.05331662084
             ],
             "passed_time": 37.02331952,
             "remaining_time": 8.127070139,
             "test": [
              0.05183891466
             ]
            },
            {
             "iteration": 82,
             "learn": [
              0.05200762849
             ],
             "passed_time": 37.53590855,
             "remaining_time": 7.688077654,
             "test": [
              0.05046793733
             ]
            },
            {
             "iteration": 83,
             "learn": [
              0.05071102304
             ],
             "passed_time": 37.96374935,
             "remaining_time": 7.231190352,
             "test": [
              0.04918729592
             ]
            },
            {
             "iteration": 84,
             "learn": [
              0.04946956558
             ],
             "passed_time": 38.43278578,
             "remaining_time": 6.782256315,
             "test": [
              0.04791848306
             ]
            },
            {
             "iteration": 85,
             "learn": [
              0.04823459944
             ],
             "passed_time": 38.91238112,
             "remaining_time": 6.33457367,
             "test": [
              0.04672180571
             ]
            },
            {
             "iteration": 86,
             "learn": [
              0.04704567571
             ],
             "passed_time": 39.33958383,
             "remaining_time": 5.878328619,
             "test": [
              0.04556378286
             ]
            },
            {
             "iteration": 87,
             "learn": [
              0.0459467876
             ],
             "passed_time": 39.7767065,
             "remaining_time": 5.424096341,
             "test": [
              0.04442778548
             ]
            },
            {
             "iteration": 88,
             "learn": [
              0.04481055065
             ],
             "passed_time": 40.22805585,
             "remaining_time": 4.972006903,
             "test": [
              0.04326703277
             ]
            },
            {
             "iteration": 89,
             "learn": [
              0.04369462479
             ],
             "passed_time": 40.77983062,
             "remaining_time": 4.531092291,
             "test": [
              0.04211850911
             ]
            },
            {
             "iteration": 90,
             "learn": [
              0.04268633365
             ],
             "passed_time": 41.38707,
             "remaining_time": 4.093226704,
             "test": [
              0.04110252446
             ]
            },
            {
             "iteration": 91,
             "learn": [
              0.0417227297
             ],
             "passed_time": 41.96441617,
             "remaining_time": 3.649079667,
             "test": [
              0.04013301464
             ]
            },
            {
             "iteration": 92,
             "learn": [
              0.040785139
             ],
             "passed_time": 42.38744625,
             "remaining_time": 3.190452943,
             "test": [
              0.03915819808
             ]
            },
            {
             "iteration": 93,
             "learn": [
              0.03981527749
             ],
             "passed_time": 42.81947299,
             "remaining_time": 2.73315785,
             "test": [
              0.03821436962
             ]
            },
            {
             "iteration": 94,
             "learn": [
              0.03890252133
             ],
             "passed_time": 43.27273535,
             "remaining_time": 2.277512387,
             "test": [
              0.03727482516
             ]
            },
            {
             "iteration": 95,
             "learn": [
              0.03798140467
             ],
             "passed_time": 43.70181571,
             "remaining_time": 1.820908988,
             "test": [
              0.03637287597
             ]
            },
            {
             "iteration": 96,
             "learn": [
              0.03705786333
             ],
             "passed_time": 44.14611105,
             "remaining_time": 1.365343641,
             "test": [
              0.03542823579
             ]
            },
            {
             "iteration": 97,
             "learn": [
              0.03628656252
             ],
             "passed_time": 44.61011069,
             "remaining_time": 0.9104104222,
             "test": [
              0.03464317964
             ]
            },
            {
             "iteration": 98,
             "learn": [
              0.03545919932
             ],
             "passed_time": 45.01732056,
             "remaining_time": 0.4547204097,
             "test": [
              0.03381998529
             ]
            },
            {
             "iteration": 99,
             "learn": [
              0.03469890794
             ],
             "passed_time": 45.47422433,
             "remaining_time": 0,
             "test": [
              0.03302221221
             ]
            }
           ],
           "meta": {
            "iteration_count": 100,
            "launch_mode": "Train",
            "learn_metrics": [
             {
              "best_value": "Min",
              "name": "CrossEntropy"
             }
            ],
            "learn_sets": [
             "learn"
            ],
            "name": "experiment",
            "parameters": "",
            "test_metrics": [
             {
              "best_value": "Min",
              "name": "CrossEntropy"
             }
            ],
            "test_sets": [
             "test"
            ]
           }
          },
          "passed_iterations": 99,
          "total_iterations": 100
         },
         "name": "catboost_info",
         "path": "catboost_info"
        }
       },
       "layout": "IPY_MODEL_8ce54709229649bcaba86b4a4dfe72d9"
      }
     },
     "6f66782e7dd3446bbbe625c653372525": {
      "model_module": "catboost-widget",
      "model_module_version": "^1.0.0",
      "model_name": "CatboostWidgetModel",
      "state": {
       "_dom_classes": [],
       "_model_module": "catboost-widget",
       "_model_module_version": "^1.0.0",
       "_model_name": "CatboostWidgetModel",
       "_view_count": null,
       "_view_module": "catboost-widget",
       "_view_module_version": "^1.0.0",
       "_view_name": "CatboostWidgetView",
       "data": {
        "catboost_info": {
         "content": {
          "data": {
           "iterations": [
            {
             "iteration": 0,
             "learn": [
              0.6624269529
             ],
             "passed_time": 0.4394386379,
             "remaining_time": 43.50442515,
             "test": [
              0.6640952805
             ]
            },
            {
             "iteration": 1,
             "learn": [
              0.6370256657
             ],
             "passed_time": 0.8092327094,
             "remaining_time": 39.65240276,
             "test": [
              0.6367322497
             ]
            },
            {
             "iteration": 2,
             "learn": [
              0.6108542952
             ],
             "passed_time": 1.260399679,
             "remaining_time": 40.75292296,
             "test": [
              0.6110369425
             ]
            },
            {
             "iteration": 3,
             "learn": [
              0.5859829062
             ],
             "passed_time": 1.660968873,
             "remaining_time": 39.86325295,
             "test": [
              0.5865316075
             ]
            },
            {
             "iteration": 4,
             "learn": [
              0.564294793
             ],
             "passed_time": 2.024978193,
             "remaining_time": 38.47458567,
             "test": [
              0.5633710501
             ]
            },
            {
             "iteration": 5,
             "learn": [
              0.5407239376
             ],
             "passed_time": 2.438120338,
             "remaining_time": 38.19721862,
             "test": [
              0.5415122521
             ]
            },
            {
             "iteration": 6,
             "learn": [
              0.5199901584
             ],
             "passed_time": 2.798067998,
             "remaining_time": 37.17433197,
             "test": [
              0.5207789102
             ]
            },
            {
             "iteration": 7,
             "learn": [
              0.5018521718
             ],
             "passed_time": 3.249743189,
             "remaining_time": 37.37204667,
             "test": [
              0.5011102501
             ]
            },
            {
             "iteration": 8,
             "learn": [
              0.4821984737
             ],
             "passed_time": 3.645023404,
             "remaining_time": 36.85523664,
             "test": [
              0.4824307647
             ]
            },
            {
             "iteration": 9,
             "learn": [
              0.4645616928
             ],
             "passed_time": 4.031480011,
             "remaining_time": 36.2833201,
             "test": [
              0.4645543283
             ]
            },
            {
             "iteration": 10,
             "learn": [
              0.4481762382
             ],
             "passed_time": 4.44724387,
             "remaining_time": 35.98224585,
             "test": [
              0.4475032984
             ]
            },
            {
             "iteration": 11,
             "learn": [
              0.4323041511
             ],
             "passed_time": 4.814044345,
             "remaining_time": 35.30299186,
             "test": [
              0.4312798841
             ]
            },
            {
             "iteration": 12,
             "learn": [
              0.4166172694
             ],
             "passed_time": 5.229772138,
             "remaining_time": 34.99924431,
             "test": [
              0.4158233133
             ]
            },
            {
             "iteration": 13,
             "learn": [
              0.4015458855
             ],
             "passed_time": 5.828802314,
             "remaining_time": 35.80549993,
             "test": [
              0.4010973411
             ]
            },
            {
             "iteration": 14,
             "learn": [
              0.3874935009
             ],
             "passed_time": 6.439024556,
             "remaining_time": 36.48780582,
             "test": [
              0.3870328417
             ]
            },
            {
             "iteration": 15,
             "learn": [
              0.3727893668
             ],
             "passed_time": 6.908137346,
             "remaining_time": 36.26772106,
             "test": [
              0.3735328478
             ]
            },
            {
             "iteration": 16,
             "learn": [
              0.3596164021
             ],
             "passed_time": 7.283818727,
             "remaining_time": 35.56217379,
             "test": [
              0.3605534938
             ]
            },
            {
             "iteration": 17,
             "learn": [
              0.3487292499
             ],
             "passed_time": 7.648132479,
             "remaining_time": 34.8414924,
             "test": [
              0.3481699641
             ]
            },
            {
             "iteration": 18,
             "learn": [
              0.3360429956
             ],
             "passed_time": 8.056265526,
             "remaining_time": 34.34513198,
             "test": [
              0.3363397441
             ]
            },
            {
             "iteration": 19,
             "learn": [
              0.3255426298
             ],
             "passed_time": 8.454910373,
             "remaining_time": 33.81964149,
             "test": [
              0.3250026802
             ]
            },
            {
             "iteration": 20,
             "learn": [
              0.3133878712
             ],
             "passed_time": 8.857576909,
             "remaining_time": 33.32136075,
             "test": [
              0.3140961413
             ]
            },
            {
             "iteration": 21,
             "learn": [
              0.3031614485
             ],
             "passed_time": 9.220158526,
             "remaining_time": 32.68965295,
             "test": [
              0.303651061
             ]
            },
            {
             "iteration": 22,
             "learn": [
              0.2931732741
             ],
             "passed_time": 9.628172954,
             "remaining_time": 32.23344858,
             "test": [
              0.2936863313
             ]
            },
            {
             "iteration": 23,
             "learn": [
              0.2831663063
             ],
             "passed_time": 10.04245497,
             "remaining_time": 31.80110742,
             "test": [
              0.2840618498
             ]
            },
            {
             "iteration": 24,
             "learn": [
              0.2733973895
             ],
             "passed_time": 10.45114,
             "remaining_time": 31.35342,
             "test": [
              0.2747833018
             ]
            },
            {
             "iteration": 25,
             "learn": [
              0.2648467712
             ],
             "passed_time": 10.83768965,
             "remaining_time": 30.84573209,
             "test": [
              0.265882256
             ]
            },
            {
             "iteration": 26,
             "learn": [
              0.2568081857
             ],
             "passed_time": 11.26199922,
             "remaining_time": 30.449109,
             "test": [
              0.257350476
             ]
            },
            {
             "iteration": 27,
             "learn": [
              0.2489040092
             ],
             "passed_time": 11.65082513,
             "remaining_time": 29.95926462,
             "test": [
              0.2491439501
             ]
            },
            {
             "iteration": 28,
             "learn": [
              0.2407707591
             ],
             "passed_time": 12.04781588,
             "remaining_time": 29.4963768,
             "test": [
              0.241219908
             ]
            },
            {
             "iteration": 29,
             "learn": [
              0.2330251413
             ],
             "passed_time": 12.50275324,
             "remaining_time": 29.1730909,
             "test": [
              0.2335552977
             ]
            },
            {
             "iteration": 30,
             "learn": [
              0.2257311502
             ],
             "passed_time": 12.92166244,
             "remaining_time": 28.76111963,
             "test": [
              0.2262242016
             ]
            },
            {
             "iteration": 31,
             "learn": [
              0.2182571068
             ],
             "passed_time": 13.3563817,
             "remaining_time": 28.38231111,
             "test": [
              0.219124818
             ]
            },
            {
             "iteration": 32,
             "learn": [
              0.210954232
             ],
             "passed_time": 13.80885494,
             "remaining_time": 28.03616002,
             "test": [
              0.2123243611
             ]
            },
            {
             "iteration": 33,
             "learn": [
              0.2042100637
             ],
             "passed_time": 14.25051223,
             "remaining_time": 27.66275903,
             "test": [
              0.2056649297
             ]
            },
            {
             "iteration": 34,
             "learn": [
              0.1986949461
             ],
             "passed_time": 14.67051408,
             "remaining_time": 27.24524044,
             "test": [
              0.1993859314
             ]
            },
            {
             "iteration": 35,
             "learn": [
              0.1919856114
             ],
             "passed_time": 15.06597159,
             "remaining_time": 26.7839495,
             "test": [
              0.1932729392
             ]
            },
            {
             "iteration": 36,
             "learn": [
              0.1865371007
             ],
             "passed_time": 15.47449062,
             "remaining_time": 26.348457,
             "test": [
              0.1874187752
             ]
            },
            {
             "iteration": 37,
             "learn": [
              0.1803011236
             ],
             "passed_time": 15.87262153,
             "remaining_time": 25.89743513,
             "test": [
              0.1817148897
             ]
            },
            {
             "iteration": 38,
             "learn": [
              0.1754753584
             ],
             "passed_time": 16.25386015,
             "remaining_time": 25.42270434,
             "test": [
              0.1762019017
             ]
            },
            {
             "iteration": 39,
             "learn": [
              0.1695627174
             ],
             "passed_time": 16.64120411,
             "remaining_time": 24.96180617,
             "test": [
              0.1708550251
             ]
            },
            {
             "iteration": 40,
             "learn": [
              0.1644234578
             ],
             "passed_time": 17.04649948,
             "remaining_time": 24.53032852,
             "test": [
              0.1657566445
             ]
            },
            {
             "iteration": 41,
             "learn": [
              0.1600206293
             ],
             "passed_time": 17.43625318,
             "remaining_time": 24.07863534,
             "test": [
              0.1608120579
             ]
            },
            {
             "iteration": 42,
             "learn": [
              0.1550524069
             ],
             "passed_time": 17.83808705,
             "remaining_time": 23.64583633,
             "test": [
              0.1560525827
             ]
            },
            {
             "iteration": 43,
             "learn": [
              0.1502516663
             ],
             "passed_time": 18.24295231,
             "remaining_time": 23.21830294,
             "test": [
              0.1515017259
             ]
            },
            {
             "iteration": 44,
             "learn": [
              0.1454975425
             ],
             "passed_time": 18.65495464,
             "remaining_time": 22.80050011,
             "test": [
              0.1471012605
             ]
            },
            {
             "iteration": 45,
             "learn": [
              0.1412848971
             ],
             "passed_time": 19.03777797,
             "remaining_time": 22.34869588,
             "test": [
              0.1427909851
             ]
            },
            {
             "iteration": 46,
             "learn": [
              0.1372489532
             ],
             "passed_time": 19.48694327,
             "remaining_time": 21.97463816,
             "test": [
              0.1386406534
             ]
            },
            {
             "iteration": 47,
             "learn": [
              0.1333431074
             ],
             "passed_time": 19.87731736,
             "remaining_time": 21.53376047,
             "test": [
              0.13463105
             ]
            },
            {
             "iteration": 48,
             "learn": [
              0.1294770538
             ],
             "passed_time": 20.28042367,
             "remaining_time": 21.10819606,
             "test": [
              0.1307580109
             ]
            },
            {
             "iteration": 49,
             "learn": [
              0.1256876114
             ],
             "passed_time": 20.66018103,
             "remaining_time": 20.66018103,
             "test": [
              0.1270443086
             ]
            },
            {
             "iteration": 50,
             "learn": [
              0.1219155138
             ],
             "passed_time": 21.05389012,
             "remaining_time": 20.22824737,
             "test": [
              0.1234706137
             ]
            },
            {
             "iteration": 51,
             "learn": [
              0.1183592862
             ],
             "passed_time": 21.47742981,
             "remaining_time": 19.82531982,
             "test": [
              0.1199415668
             ]
            },
            {
             "iteration": 52,
             "learn": [
              0.1152634173
             ],
             "passed_time": 21.89259244,
             "remaining_time": 19.41418575,
             "test": [
              0.1166037771
             ]
            },
            {
             "iteration": 53,
             "learn": [
              0.1119413281
             ],
             "passed_time": 22.26745336,
             "remaining_time": 18.96857138,
             "test": [
              0.1132517734
             ]
            },
            {
             "iteration": 54,
             "learn": [
              0.1084248794
             ],
             "passed_time": 22.67632723,
             "remaining_time": 18.55335864,
             "test": [
              0.1101032467
             ]
            },
            {
             "iteration": 55,
             "learn": [
              0.1057192223
             ],
             "passed_time": 23.07394463,
             "remaining_time": 18.12952792,
             "test": [
              0.1071122402
             ]
            },
            {
             "iteration": 56,
             "learn": [
              0.102447407
             ],
             "passed_time": 23.48738393,
             "remaining_time": 17.71855279,
             "test": [
              0.1041815826
             ]
            },
            {
             "iteration": 57,
             "learn": [
              0.09987079147
             ],
             "passed_time": 23.87650929,
             "remaining_time": 17.28988604,
             "test": [
              0.1014247579
             ]
            },
            {
             "iteration": 58,
             "learn": [
              0.09676887143
             ],
             "passed_time": 24.27800392,
             "remaining_time": 16.87115527,
             "test": [
              0.09864712991
             ]
            },
            {
             "iteration": 59,
             "learn": [
              0.09425913181
             ],
             "passed_time": 24.68031163,
             "remaining_time": 16.45354109,
             "test": [
              0.09597112511
             ]
            },
            {
             "iteration": 60,
             "learn": [
              0.09147248448
             ],
             "passed_time": 25.14980915,
             "remaining_time": 16.07938618,
             "test": [
              0.09340816135
             ]
            },
            {
             "iteration": 61,
             "learn": [
              0.08886288428
             ],
             "passed_time": 25.55579174,
             "remaining_time": 15.6632272,
             "test": [
              0.0908550341
             ]
            },
            {
             "iteration": 62,
             "learn": [
              0.08663300192
             ],
             "passed_time": 25.97213022,
             "remaining_time": 15.2534733,
             "test": [
              0.0883736151
             ]
            },
            {
             "iteration": 63,
             "learn": [
              0.08420974872
             ],
             "passed_time": 26.36598582,
             "remaining_time": 14.83086702,
             "test": [
              0.08600630995
             ]
            },
            {
             "iteration": 64,
             "learn": [
              0.08180469037
             ],
             "passed_time": 26.78525188,
             "remaining_time": 14.42282793,
             "test": [
              0.08373940365
             ]
            },
            {
             "iteration": 65,
             "learn": [
              0.0794807685
             ],
             "passed_time": 27.24129807,
             "remaining_time": 14.03339598,
             "test": [
              0.08156174545
             ]
            },
            {
             "iteration": 66,
             "learn": [
              0.07728812265
             ],
             "passed_time": 27.68843838,
             "remaining_time": 13.63758905,
             "test": [
              0.07937957547
             ]
            },
            {
             "iteration": 67,
             "learn": [
              0.07520916923
             ],
             "passed_time": 28.09917147,
             "remaining_time": 13.22313951,
             "test": [
              0.07732579359
             ]
            },
            {
             "iteration": 68,
             "learn": [
              0.07320534346
             ],
             "passed_time": 28.48991476,
             "remaining_time": 12.79981678,
             "test": [
              0.07532146165
             ]
            },
            {
             "iteration": 69,
             "learn": [
              0.07123922037
             ],
             "passed_time": 28.88167542,
             "remaining_time": 12.3778609,
             "test": [
              0.07342217128
             ]
            },
            {
             "iteration": 70,
             "learn": [
              0.06931869861
             ],
             "passed_time": 29.26455551,
             "remaining_time": 11.95312831,
             "test": [
              0.07149435119
             ]
            },
            {
             "iteration": 71,
             "learn": [
              0.06744807085
             ],
             "passed_time": 29.64513819,
             "remaining_time": 11.52866485,
             "test": [
              0.06967608982
             ]
            },
            {
             "iteration": 72,
             "learn": [
              0.06569737034
             ],
             "passed_time": 30.03916171,
             "remaining_time": 11.11037488,
             "test": [
              0.06786103671
             ]
            },
            {
             "iteration": 73,
             "learn": [
              0.06411638734
             ],
             "passed_time": 30.41596558,
             "remaining_time": 10.68669061,
             "test": [
              0.06614657989
             ]
            },
            {
             "iteration": 74,
             "learn": [
              0.0623643702
             ],
             "passed_time": 30.82685505,
             "remaining_time": 10.27561835,
             "test": [
              0.06449138975
             ]
            },
            {
             "iteration": 75,
             "learn": [
              0.06063744323
             ],
             "passed_time": 31.25291082,
             "remaining_time": 9.86934026,
             "test": [
              0.06283279323
             ]
            },
            {
             "iteration": 76,
             "learn": [
              0.05924565036
             ],
             "passed_time": 31.66823778,
             "remaining_time": 9.459343754,
             "test": [
              0.06136528886
             ]
            },
            {
             "iteration": 77,
             "learn": [
              0.05757354651
             ],
             "passed_time": 32.10659844,
             "remaining_time": 9.055707251,
             "test": [
              0.05985407189
             ]
            },
            {
             "iteration": 78,
             "learn": [
              0.05617505273
             ],
             "passed_time": 32.48707244,
             "remaining_time": 8.635804066,
             "test": [
              0.05837733064
             ]
            },
            {
             "iteration": 79,
             "learn": [
              0.05465483623
             ],
             "passed_time": 32.90340568,
             "remaining_time": 8.225851421,
             "test": [
              0.05697060706
             ]
            },
            {
             "iteration": 80,
             "learn": [
              0.05337446081
             ],
             "passed_time": 33.31254216,
             "remaining_time": 7.814053099,
             "test": [
              0.055561264
             ]
            },
            {
             "iteration": 81,
             "learn": [
              0.05189992454
             ],
             "passed_time": 33.6970261,
             "remaining_time": 7.396908169,
             "test": [
              0.05416999695
             ]
            },
            {
             "iteration": 82,
             "learn": [
              0.05062924843
             ],
             "passed_time": 34.07928983,
             "remaining_time": 6.980095506,
             "test": [
              0.05289811622
             ]
            },
            {
             "iteration": 83,
             "learn": [
              0.04938496912
             ],
             "passed_time": 34.49822799,
             "remaining_time": 6.571091045,
             "test": [
              0.05164277911
             ]
            },
            {
             "iteration": 84,
             "learn": [
              0.04808289239
             ],
             "passed_time": 34.89988863,
             "remaining_time": 6.158803876,
             "test": [
              0.05044292996
             ]
            },
            {
             "iteration": 85,
             "learn": [
              0.04684791399
             ],
             "passed_time": 35.31755832,
             "remaining_time": 5.74936996,
             "test": [
              0.04923289182
             ]
            },
            {
             "iteration": 86,
             "learn": [
              0.04571612163
             ],
             "passed_time": 35.71370036,
             "remaining_time": 5.33652994,
             "test": [
              0.04811250644
             ]
            },
            {
             "iteration": 87,
             "learn": [
              0.04463046366
             ],
             "passed_time": 36.16841774,
             "remaining_time": 4.932056965,
             "test": [
              0.04701006156
             ]
            },
            {
             "iteration": 88,
             "learn": [
              0.04352579017
             ],
             "passed_time": 36.59533797,
             "remaining_time": 4.5230193,
             "test": [
              0.04597627275
             ]
            },
            {
             "iteration": 89,
             "learn": [
              0.04245969165
             ],
             "passed_time": 36.98838713,
             "remaining_time": 4.109820792,
             "test": [
              0.04497228105
             ]
            },
            {
             "iteration": 90,
             "learn": [
              0.04144586353
             ],
             "passed_time": 37.59490004,
             "remaining_time": 3.718176928,
             "test": [
              0.04395379619
             ]
            },
            {
             "iteration": 91,
             "learn": [
              0.0404361703
             ],
             "passed_time": 38.14939589,
             "remaining_time": 3.317338773,
             "test": [
              0.04297805214
             ]
            },
            {
             "iteration": 92,
             "learn": [
              0.03945609942
             ],
             "passed_time": 38.62701104,
             "remaining_time": 2.907409433,
             "test": [
              0.04194552776
             ]
            },
            {
             "iteration": 93,
             "learn": [
              0.03850571268
             ],
             "passed_time": 39.02254392,
             "remaining_time": 2.490800676,
             "test": [
              0.04105448922
             ]
            },
            {
             "iteration": 94,
             "learn": [
              0.03759095061
             ],
             "passed_time": 39.43731849,
             "remaining_time": 2.075648342,
             "test": [
              0.04013708863
             ]
            },
            {
             "iteration": 95,
             "learn": [
              0.03670883849
             ],
             "passed_time": 39.8405865,
             "remaining_time": 1.660024437,
             "test": [
              0.03918612894
             ]
            },
            {
             "iteration": 96,
             "learn": [
              0.03584861953
             ],
             "passed_time": 40.26338104,
             "remaining_time": 1.245259207,
             "test": [
              0.03837833769
             ]
            },
            {
             "iteration": 97,
             "learn": [
              0.03500875906
             ],
             "passed_time": 40.65973576,
             "remaining_time": 0.8297905257,
             "test": [
              0.03757280001
             ]
            },
            {
             "iteration": 98,
             "learn": [
              0.03420135773
             ],
             "passed_time": 41.07027158,
             "remaining_time": 0.4148512281,
             "test": [
              0.03681124212
             ]
            },
            {
             "iteration": 99,
             "learn": [
              0.03336567991
             ],
             "passed_time": 41.46701441,
             "remaining_time": 0,
             "test": [
              0.0359012216
             ]
            }
           ],
           "meta": {
            "iteration_count": 100,
            "launch_mode": "Train",
            "learn_metrics": [
             {
              "best_value": "Min",
              "name": "CrossEntropy"
             }
            ],
            "learn_sets": [
             "learn"
            ],
            "name": "experiment",
            "parameters": "",
            "test_metrics": [
             {
              "best_value": "Min",
              "name": "CrossEntropy"
             }
            ],
            "test_sets": [
             "test"
            ]
           }
          },
          "passed_iterations": 99,
          "total_iterations": 100
         },
         "name": "catboost_info",
         "path": "catboost_info"
        }
       },
       "layout": "IPY_MODEL_9c003edb46574b2bb2322ecfe07c94d3"
      }
     },
     "76c2dcca51ec4f13b25ea12fe7ee3e0e": {
      "model_module": "@jupyter-widgets/base",
      "model_module_version": "1.2.0",
      "model_name": "LayoutModel",
      "state": {
       "_model_module": "@jupyter-widgets/base",
       "_model_module_version": "1.2.0",
       "_model_name": "LayoutModel",
       "_view_count": null,
       "_view_module": "@jupyter-widgets/base",
       "_view_module_version": "1.2.0",
       "_view_name": "LayoutView",
       "align_content": null,
       "align_items": null,
       "align_self": "stretch",
       "border": null,
       "bottom": null,
       "display": null,
       "flex": null,
       "flex_flow": null,
       "grid_area": null,
       "grid_auto_columns": null,
       "grid_auto_flow": null,
       "grid_auto_rows": null,
       "grid_column": null,
       "grid_gap": null,
       "grid_row": null,
       "grid_template_areas": null,
       "grid_template_columns": null,
       "grid_template_rows": null,
       "height": "500px",
       "justify_content": null,
       "justify_items": null,
       "left": null,
       "margin": null,
       "max_height": null,
       "max_width": null,
       "min_height": null,
       "min_width": null,
       "object_fit": null,
       "object_position": null,
       "order": null,
       "overflow": null,
       "overflow_x": null,
       "overflow_y": null,
       "padding": null,
       "right": null,
       "top": null,
       "visibility": null,
       "width": null
      }
     },
     "77eaa9fefbdd4a9a9295724e31054903": {
      "model_module": "@jupyter-widgets/base",
      "model_module_version": "1.2.0",
      "model_name": "LayoutModel",
      "state": {
       "_model_module": "@jupyter-widgets/base",
       "_model_module_version": "1.2.0",
       "_model_name": "LayoutModel",
       "_view_count": null,
       "_view_module": "@jupyter-widgets/base",
       "_view_module_version": "1.2.0",
       "_view_name": "LayoutView",
       "align_content": null,
       "align_items": null,
       "align_self": "stretch",
       "border": null,
       "bottom": null,
       "display": null,
       "flex": null,
       "flex_flow": null,
       "grid_area": null,
       "grid_auto_columns": null,
       "grid_auto_flow": null,
       "grid_auto_rows": null,
       "grid_column": null,
       "grid_gap": null,
       "grid_row": null,
       "grid_template_areas": null,
       "grid_template_columns": null,
       "grid_template_rows": null,
       "height": "500px",
       "justify_content": null,
       "justify_items": null,
       "left": null,
       "margin": null,
       "max_height": null,
       "max_width": null,
       "min_height": null,
       "min_width": null,
       "object_fit": null,
       "object_position": null,
       "order": null,
       "overflow": null,
       "overflow_x": null,
       "overflow_y": null,
       "padding": null,
       "right": null,
       "top": null,
       "visibility": null,
       "width": null
      }
     },
     "79e4cf91c08d4b4595980ad2f3a099e8": {
      "model_module": "catboost-widget",
      "model_module_version": "^1.0.0",
      "model_name": "CatboostWidgetModel",
      "state": {
       "_dom_classes": [],
       "_model_module": "catboost-widget",
       "_model_module_version": "^1.0.0",
       "_model_name": "CatboostWidgetModel",
       "_view_count": null,
       "_view_module": "catboost-widget",
       "_view_module_version": "^1.0.0",
       "_view_name": "CatboostWidgetView",
       "data": {
        "catboost_info": {
         "content": {
          "data": {
           "iterations": [
            {
             "iteration": 0,
             "learn": [
              0.6627163867
             ],
             "passed_time": 0.3892552009,
             "remaining_time": 38.53626488,
             "test": [
              0.6644443653
             ]
            },
            {
             "iteration": 1,
             "learn": [
              0.6379708025
             ],
             "passed_time": 0.7038017112,
             "remaining_time": 34.48628385,
             "test": [
              0.6374275188
             ]
            },
            {
             "iteration": 2,
             "learn": [
              0.6111936241
             ],
             "passed_time": 1.034004127,
             "remaining_time": 33.43280009,
             "test": [
              0.6118229649
             ]
            },
            {
             "iteration": 3,
             "learn": [
              0.5869465118
             ],
             "passed_time": 1.385651469,
             "remaining_time": 33.25563526,
             "test": [
              0.5878348566
             ]
            },
            {
             "iteration": 4,
             "learn": [
              0.5651187261
             ],
             "passed_time": 1.75012745,
             "remaining_time": 33.25242156,
             "test": [
              0.5647857496
             ]
            },
            {
             "iteration": 5,
             "learn": [
              0.5424526868
             ],
             "passed_time": 2.119294775,
             "remaining_time": 33.20228482,
             "test": [
              0.5430282064
             ]
            },
            {
             "iteration": 6,
             "learn": [
              0.5212287274
             ],
             "passed_time": 2.502532565,
             "remaining_time": 33.24793264,
             "test": [
              0.5224564857
             ]
            },
            {
             "iteration": 7,
             "learn": [
              0.5034235554
             ],
             "passed_time": 2.892296763,
             "remaining_time": 33.26141277,
             "test": [
              0.502845234
             ]
            },
            {
             "iteration": 8,
             "learn": [
              0.4838872715
             ],
             "passed_time": 3.280073371,
             "remaining_time": 33.16518631,
             "test": [
              0.4841882208
             ]
            },
            {
             "iteration": 9,
             "learn": [
              0.4661682215
             ],
             "passed_time": 3.653946987,
             "remaining_time": 32.88552289,
             "test": [
              0.4663821531
             ]
            },
            {
             "iteration": 10,
             "learn": [
              0.4498492777
             ],
             "passed_time": 4.037216178,
             "remaining_time": 32.66474907,
             "test": [
              0.4494018754
             ]
            },
            {
             "iteration": 11,
             "learn": [
              0.4339048512
             ],
             "passed_time": 4.389074594,
             "remaining_time": 32.18654702,
             "test": [
              0.4331759946
             ]
            },
            {
             "iteration": 12,
             "learn": [
              0.4184926105
             ],
             "passed_time": 4.736958713,
             "remaining_time": 31.70118524,
             "test": [
              0.4179827242
             ]
            },
            {
             "iteration": 13,
             "learn": [
              0.4038414152
             ],
             "passed_time": 5.119913663,
             "remaining_time": 31.45089821,
             "test": [
              0.4033577357
             ]
            },
            {
             "iteration": 14,
             "learn": [
              0.3892385189
             ],
             "passed_time": 5.482355414,
             "remaining_time": 31.06668068,
             "test": [
              0.389234353
             ]
            },
            {
             "iteration": 15,
             "learn": [
              0.3750944032
             ],
             "passed_time": 5.792308834,
             "remaining_time": 30.40962138,
             "test": [
              0.3758456452
             ]
            },
            {
             "iteration": 16,
             "learn": [
              0.3628058184
             ],
             "passed_time": 6.162503076,
             "remaining_time": 30.08751502,
             "test": [
              0.3628850118
             ]
            },
            {
             "iteration": 17,
             "learn": [
              0.3507879847
             ],
             "passed_time": 6.549697519,
             "remaining_time": 29.83751092,
             "test": [
              0.3505168714
             ]
            },
            {
             "iteration": 18,
             "learn": [
              0.3385165335
             ],
             "passed_time": 6.889346209,
             "remaining_time": 29.37037068,
             "test": [
              0.3387620426
             ]
            },
            {
             "iteration": 19,
             "learn": [
              0.3277212949
             ],
             "passed_time": 7.273133007,
             "remaining_time": 29.09253203,
             "test": [
              0.3274670369
             ]
            },
            {
             "iteration": 20,
             "learn": [
              0.316422772
             ],
             "passed_time": 7.648221824,
             "remaining_time": 28.7718821,
             "test": [
              0.3166424022
             ]
            },
            {
             "iteration": 21,
             "learn": [
              0.3056838044
             ],
             "passed_time": 7.996169232,
             "remaining_time": 28.35005455,
             "test": [
              0.3061747635
             ]
            },
            {
             "iteration": 22,
             "learn": [
              0.2963873257
             ],
             "passed_time": 8.389869191,
             "remaining_time": 28.08782294,
             "test": [
              0.2960940417
             ]
            },
            {
             "iteration": 23,
             "learn": [
              0.2864107182
             ],
             "passed_time": 8.694893899,
             "remaining_time": 27.53383068,
             "test": [
              0.2865570253
             ]
            },
            {
             "iteration": 24,
             "learn": [
              0.2772220034
             ],
             "passed_time": 9.066434144,
             "remaining_time": 27.19930243,
             "test": [
              0.2772873742
             ]
            },
            {
             "iteration": 25,
             "learn": [
              0.2679856938
             ],
             "passed_time": 9.428226674,
             "remaining_time": 26.83418361,
             "test": [
              0.2682676079
             ]
            },
            {
             "iteration": 26,
             "learn": [
              0.2596154056
             ],
             "passed_time": 9.882937367,
             "remaining_time": 26.72053436,
             "test": [
              0.259687755
             ]
            },
            {
             "iteration": 27,
             "learn": [
              0.2515822664
             ],
             "passed_time": 10.39386232,
             "remaining_time": 26.72707455,
             "test": [
              0.2513580036
             ]
            },
            {
             "iteration": 28,
             "learn": [
              0.2436124083
             ],
             "passed_time": 10.98971191,
             "remaining_time": 26.90584641,
             "test": [
              0.2434461056
             ]
            },
            {
             "iteration": 29,
             "learn": [
              0.2360577444
             ],
             "passed_time": 11.34709486,
             "remaining_time": 26.47655467,
             "test": [
              0.2359105363
             ]
            },
            {
             "iteration": 30,
             "learn": [
              0.228657449
             ],
             "passed_time": 11.66093112,
             "remaining_time": 25.95497573,
             "test": [
              0.2286357952
             ]
            },
            {
             "iteration": 31,
             "learn": [
              0.2215758872
             ],
             "passed_time": 11.99827804,
             "remaining_time": 25.49634084,
             "test": [
              0.2216435738
             ]
            },
            {
             "iteration": 32,
             "learn": [
              0.2148643691
             ],
             "passed_time": 12.34674948,
             "remaining_time": 25.06764288,
             "test": [
              0.2148340166
             ]
            },
            {
             "iteration": 33,
             "learn": [
              0.2086169054
             ],
             "passed_time": 12.75848448,
             "remaining_time": 24.76646988,
             "test": [
              0.2082114171
             ]
            },
            {
             "iteration": 34,
             "learn": [
              0.2019429285
             ],
             "passed_time": 13.11808868,
             "remaining_time": 24.36216469,
             "test": [
              0.2017450715
             ]
            },
            {
             "iteration": 35,
             "learn": [
              0.1958961926
             ],
             "passed_time": 13.45944988,
             "remaining_time": 23.9279109,
             "test": [
              0.195740989
             ]
            },
            {
             "iteration": 36,
             "learn": [
              0.1900851378
             ],
             "passed_time": 13.81218435,
             "remaining_time": 23.51804363,
             "test": [
              0.1899077605
             ]
            },
            {
             "iteration": 37,
             "learn": [
              0.184246484
             ],
             "passed_time": 14.18234691,
             "remaining_time": 23.13961865,
             "test": [
              0.1842296565
             ]
            },
            {
             "iteration": 38,
             "learn": [
              0.1787437115
             ],
             "passed_time": 14.5667322,
             "remaining_time": 22.78386319,
             "test": [
              0.1787103568
             ]
            },
            {
             "iteration": 39,
             "learn": [
              0.1736334102
             ],
             "passed_time": 14.9304075,
             "remaining_time": 22.39561126,
             "test": [
              0.1734437811
             ]
            },
            {
             "iteration": 40,
             "learn": [
              0.1682882211
             ],
             "passed_time": 15.26969406,
             "remaining_time": 21.97346219,
             "test": [
              0.1683409197
             ]
            },
            {
             "iteration": 41,
             "learn": [
              0.1633567395
             ],
             "passed_time": 15.62980164,
             "remaining_time": 21.58401179,
             "test": [
              0.1633326285
             ]
            },
            {
             "iteration": 42,
             "learn": [
              0.1586775868
             ],
             "passed_time": 16.0301654,
             "remaining_time": 21.24928903,
             "test": [
              0.1585620451
             ]
            },
            {
             "iteration": 43,
             "learn": [
              0.1539117238
             ],
             "passed_time": 16.4344777,
             "remaining_time": 20.91660799,
             "test": [
              0.1539058213
             ]
            },
            {
             "iteration": 44,
             "learn": [
              0.1494079885
             ],
             "passed_time": 16.79752149,
             "remaining_time": 20.53030404,
             "test": [
              0.1492604108
             ]
            },
            {
             "iteration": 45,
             "learn": [
              0.1451138063
             ],
             "passed_time": 17.16651531,
             "remaining_time": 20.15199623,
             "test": [
              0.1449890754
             ]
            },
            {
             "iteration": 46,
             "learn": [
              0.1410508904
             ],
             "passed_time": 17.4769663,
             "remaining_time": 19.70806839,
             "test": [
              0.1409416194
             ]
            },
            {
             "iteration": 47,
             "learn": [
              0.1371521001
             ],
             "passed_time": 17.7872306,
             "remaining_time": 19.26949982,
             "test": [
              0.1370145527
             ]
            },
            {
             "iteration": 48,
             "learn": [
              0.1332478735
             ],
             "passed_time": 18.15979526,
             "remaining_time": 18.9010114,
             "test": [
              0.1331331361
             ]
            },
            {
             "iteration": 49,
             "learn": [
              0.1295243042
             ],
             "passed_time": 18.52817597,
             "remaining_time": 18.52817597,
             "test": [
              0.1294458507
             ]
            },
            {
             "iteration": 50,
             "learn": [
              0.1258188653
             ],
             "passed_time": 18.956165,
             "remaining_time": 18.21278598,
             "test": [
              0.1256800356
             ]
            },
            {
             "iteration": 51,
             "learn": [
              0.1222418721
             ],
             "passed_time": 19.37818137,
             "remaining_time": 17.88755203,
             "test": [
              0.1220917843
             ]
            },
            {
             "iteration": 52,
             "learn": [
              0.1189319865
             ],
             "passed_time": 19.69017042,
             "remaining_time": 17.46109452,
             "test": [
              0.1187340565
             ]
            },
            {
             "iteration": 53,
             "learn": [
              0.1157513701
             ],
             "passed_time": 19.99524213,
             "remaining_time": 17.03298403,
             "test": [
              0.1155430864
             ]
            },
            {
             "iteration": 54,
             "learn": [
              0.1124472009
             ],
             "passed_time": 20.36773177,
             "remaining_time": 16.66450781,
             "test": [
              0.1121587775
             ]
            },
            {
             "iteration": 55,
             "learn": [
              0.1093230613
             ],
             "passed_time": 20.80736944,
             "remaining_time": 16.34864742,
             "test": [
              0.1089482703
             ]
            },
            {
             "iteration": 56,
             "learn": [
              0.1062692362
             ],
             "passed_time": 21.24432491,
             "remaining_time": 16.02642054,
             "test": [
              0.1058182968
             ]
            },
            {
             "iteration": 57,
             "learn": [
              0.103409785
             ],
             "passed_time": 21.71233822,
             "remaining_time": 15.72272768,
             "test": [
              0.1029822664
             ]
            },
            {
             "iteration": 58,
             "learn": [
              0.100531449
             ],
             "passed_time": 22.14641989,
             "remaining_time": 15.38988501,
             "test": [
              0.1001442162
             ]
            },
            {
             "iteration": 59,
             "learn": [
              0.09782292014
             ],
             "passed_time": 22.48433539,
             "remaining_time": 14.98955693,
             "test": [
              0.09744607177
             ]
            },
            {
             "iteration": 60,
             "learn": [
              0.09526045888
             ],
             "passed_time": 22.81178152,
             "remaining_time": 14.58458163,
             "test": [
              0.09490547965
             ]
            },
            {
             "iteration": 61,
             "learn": [
              0.09281051362
             ],
             "passed_time": 23.12364065,
             "remaining_time": 14.17255395,
             "test": [
              0.09245571768
             ]
            },
            {
             "iteration": 62,
             "learn": [
              0.09025159906
             ],
             "passed_time": 23.51509849,
             "remaining_time": 13.81045467,
             "test": [
              0.08981558464
             ]
            },
            {
             "iteration": 63,
             "learn": [
              0.08785724236
             ],
             "passed_time": 23.88201839,
             "remaining_time": 13.43363534,
             "test": [
              0.08735927026
             ]
            },
            {
             "iteration": 64,
             "learn": [
              0.08551503396
             ],
             "passed_time": 24.28979569,
             "remaining_time": 13.07912075,
             "test": [
              0.08498378741
             ]
            },
            {
             "iteration": 65,
             "learn": [
              0.0832948466
             ],
             "passed_time": 24.71096291,
             "remaining_time": 12.72988999,
             "test": [
              0.08279102445
             ]
            },
            {
             "iteration": 66,
             "learn": [
              0.08119119447
             ],
             "passed_time": 25.07510502,
             "remaining_time": 12.35042486,
             "test": [
              0.08072368853
             ]
            },
            {
             "iteration": 67,
             "learn": [
              0.07914870611
             ],
             "passed_time": 25.4682671,
             "remaining_time": 11.98506687,
             "test": [
              0.07869775823
             ]
            },
            {
             "iteration": 68,
             "learn": [
              0.07706414347
             ],
             "passed_time": 25.8563248,
             "remaining_time": 11.61660969,
             "test": [
              0.07662333273
             ]
            },
            {
             "iteration": 69,
             "learn": [
              0.07514149046
             ],
             "passed_time": 26.23135591,
             "remaining_time": 11.24200967,
             "test": [
              0.07473075987
             ]
            },
            {
             "iteration": 70,
             "learn": [
              0.07319391218
             ],
             "passed_time": 26.62768302,
             "remaining_time": 10.87609588,
             "test": [
              0.0726912652
             ]
            },
            {
             "iteration": 71,
             "learn": [
              0.07130460801
             ],
             "passed_time": 27.06642777,
             "remaining_time": 10.52583302,
             "test": [
              0.07079294122
             ]
            },
            {
             "iteration": 72,
             "learn": [
              0.06951727969
             ],
             "passed_time": 27.42876614,
             "remaining_time": 10.14488611,
             "test": [
              0.06904930348
             ]
            },
            {
             "iteration": 73,
             "learn": [
              0.0677775395
             ],
             "passed_time": 27.79107308,
             "remaining_time": 9.764431081,
             "test": [
              0.06717479173
             ]
            },
            {
             "iteration": 74,
             "learn": [
              0.06608408077
             ],
             "passed_time": 28.15889455,
             "remaining_time": 9.386298183,
             "test": [
              0.06532508774
             ]
            },
            {
             "iteration": 75,
             "learn": [
              0.0644345915
             ],
             "passed_time": 28.53566223,
             "remaining_time": 9.011261758,
             "test": [
              0.06370809486
             ]
            },
            {
             "iteration": 76,
             "learn": [
              0.06288869091
             ],
             "passed_time": 28.94983326,
             "remaining_time": 8.647352793,
             "test": [
              0.06216568016
             ]
            },
            {
             "iteration": 77,
             "learn": [
              0.06135003388
             ],
             "passed_time": 29.26953588,
             "remaining_time": 8.25551012,
             "test": [
              0.06066200142
             ]
            },
            {
             "iteration": 78,
             "learn": [
              0.05989775542
             ],
             "passed_time": 29.56789391,
             "remaining_time": 7.8598199,
             "test": [
              0.05919411056
             ]
            },
            {
             "iteration": 79,
             "learn": [
              0.05833165479
             ],
             "passed_time": 29.96994675,
             "remaining_time": 7.492486687,
             "test": [
              0.0575738
             ]
            },
            {
             "iteration": 80,
             "learn": [
              0.05691252709
             ],
             "passed_time": 30.36797067,
             "remaining_time": 7.123351146,
             "test": [
              0.055880253
             ]
            },
            {
             "iteration": 81,
             "learn": [
              0.05546948306
             ],
             "passed_time": 30.84595849,
             "remaining_time": 6.77106406,
             "test": [
              0.05446743608
             ]
            },
            {
             "iteration": 82,
             "learn": [
              0.0541503763
             ],
             "passed_time": 31.21962412,
             "remaining_time": 6.394380844,
             "test": [
              0.053083539
             ]
            },
            {
             "iteration": 83,
             "learn": [
              0.05280396072
             ],
             "passed_time": 31.6363836,
             "remaining_time": 6.02597783,
             "test": [
              0.05172740614
             ]
            },
            {
             "iteration": 84,
             "learn": [
              0.0515731835
             ],
             "passed_time": 31.98118046,
             "remaining_time": 5.643737729,
             "test": [
              0.0505204177
             ]
            },
            {
             "iteration": 85,
             "learn": [
              0.05037735953
             ],
             "passed_time": 32.29455733,
             "remaining_time": 5.257253518,
             "test": [
              0.04935980384
             ]
            },
            {
             "iteration": 86,
             "learn": [
              0.04926664466
             ],
             "passed_time": 32.63222931,
             "remaining_time": 4.876080242,
             "test": [
              0.04829678152
             ]
            },
            {
             "iteration": 87,
             "learn": [
              0.04816214676
             ],
             "passed_time": 32.95583989,
             "remaining_time": 4.493978167,
             "test": [
              0.04721774795
             ]
            },
            {
             "iteration": 88,
             "learn": [
              0.04700876559
             ],
             "passed_time": 33.32901476,
             "remaining_time": 4.119316431,
             "test": [
              0.04594439671
             ]
            },
            {
             "iteration": 89,
             "learn": [
              0.04588701254
             ],
             "passed_time": 33.72239966,
             "remaining_time": 3.746933295,
             "test": [
              0.04483701365
             ]
            },
            {
             "iteration": 90,
             "learn": [
              0.04480848142
             ],
             "passed_time": 34.11152385,
             "remaining_time": 3.373667194,
             "test": [
              0.04352935683
             ]
            },
            {
             "iteration": 91,
             "learn": [
              0.04381952054
             ],
             "passed_time": 34.50308306,
             "remaining_time": 3.000268092,
             "test": [
              0.04255059531
             ]
            },
            {
             "iteration": 92,
             "learn": [
              0.04282547745
             ],
             "passed_time": 34.88512302,
             "remaining_time": 2.625761948,
             "test": [
              0.04149712061
             ]
            },
            {
             "iteration": 93,
             "learn": [
              0.04188128701
             ],
             "passed_time": 35.25173392,
             "remaining_time": 2.250110676,
             "test": [
              0.04042102944
             ]
            },
            {
             "iteration": 94,
             "learn": [
              0.040909429
             ],
             "passed_time": 35.63620864,
             "remaining_time": 1.875589928,
             "test": [
              0.03946120522
             ]
            },
            {
             "iteration": 95,
             "learn": [
              0.04003847187
             ],
             "passed_time": 35.96228006,
             "remaining_time": 1.498428336,
             "test": [
              0.03859092953
             ]
            },
            {
             "iteration": 96,
             "learn": [
              0.03914352581
             ],
             "passed_time": 36.37980573,
             "remaining_time": 1.125148631,
             "test": [
              0.03771496207
             ]
            },
            {
             "iteration": 97,
             "learn": [
              0.0383068358
             ],
             "passed_time": 36.76836681,
             "remaining_time": 0.7503748329,
             "test": [
              0.0368911652
             ]
            },
            {
             "iteration": 98,
             "learn": [
              0.03747422658
             ],
             "passed_time": 37.1610359,
             "remaining_time": 0.3753639989,
             "test": [
              0.03606608146
             ]
            },
            {
             "iteration": 99,
             "learn": [
              0.03674226928
             ],
             "passed_time": 37.44937208,
             "remaining_time": 0,
             "test": [
              0.03536357362
             ]
            }
           ],
           "meta": {
            "iteration_count": 100,
            "launch_mode": "Train",
            "learn_metrics": [
             {
              "best_value": "Min",
              "name": "CrossEntropy"
             }
            ],
            "learn_sets": [
             "learn"
            ],
            "name": "experiment",
            "parameters": "",
            "test_metrics": [
             {
              "best_value": "Min",
              "name": "CrossEntropy"
             }
            ],
            "test_sets": [
             "test"
            ]
           }
          },
          "passed_iterations": 99,
          "total_iterations": 100
         },
         "name": "catboost_info",
         "path": "catboost_info"
        }
       },
       "layout": "IPY_MODEL_0077bebb8ad14b40bb036c89bf2a59f8"
      }
     },
     "7ab978952eef4fd09fa6e60e75301924": {
      "model_module": "catboost-widget",
      "model_module_version": "^1.0.0",
      "model_name": "CatboostWidgetModel",
      "state": {
       "_dom_classes": [],
       "_model_module": "catboost-widget",
       "_model_module_version": "^1.0.0",
       "_model_name": "CatboostWidgetModel",
       "_view_count": null,
       "_view_module": "catboost-widget",
       "_view_module_version": "^1.0.0",
       "_view_name": "CatboostWidgetView",
       "data": {
        "catboost_info": {
         "content": {
          "data": {
           "iterations": [
            {
             "iteration": 0,
             "learn": [
              0.6719615533
             ],
             "passed_time": 0.4978207804,
             "remaining_time": 49.28425726,
             "test": [
              0.6713030966
             ]
            },
            {
             "iteration": 1,
             "learn": [
              0.652098403
             ],
             "passed_time": 0.936082327,
             "remaining_time": 45.86803402,
             "test": [
              0.6506587171
             ]
            },
            {
             "iteration": 2,
             "learn": [
              0.63190666
             ],
             "passed_time": 1.366669509,
             "remaining_time": 44.18898079,
             "test": [
              0.631278732
             ]
            },
            {
             "iteration": 3,
             "learn": [
              0.6141573288
             ],
             "passed_time": 1.793616964,
             "remaining_time": 43.04680713,
             "test": [
              0.6130537484
             ]
            },
            {
             "iteration": 4,
             "learn": [
              0.5984806487
             ],
             "passed_time": 2.169214946,
             "remaining_time": 41.21508397,
             "test": [
              0.5980052671
             ]
            },
            {
             "iteration": 5,
             "learn": [
              0.5819142612
             ],
             "passed_time": 2.587156022,
             "remaining_time": 40.53211101,
             "test": [
              0.581074086
             ]
            },
            {
             "iteration": 6,
             "learn": [
              0.5681449034
             ],
             "passed_time": 2.961841915,
             "remaining_time": 39.35018544,
             "test": [
              0.5674586496
             ]
            },
            {
             "iteration": 7,
             "learn": [
              0.5549566437
             ],
             "passed_time": 3.330407924,
             "remaining_time": 38.29969113,
             "test": [
              0.5546347246
             ]
            },
            {
             "iteration": 8,
             "learn": [
              0.5413342039
             ],
             "passed_time": 3.745033762,
             "remaining_time": 37.86645248,
             "test": [
              0.5414733021
             ]
            },
            {
             "iteration": 9,
             "learn": [
              0.5275756748
             ],
             "passed_time": 4.167568078,
             "remaining_time": 37.5081127,
             "test": [
              0.5273772036
             ]
            },
            {
             "iteration": 10,
             "learn": [
              0.5160464246
             ],
             "passed_time": 4.544613861,
             "remaining_time": 36.77005761,
             "test": [
              0.515658636
             ]
            },
            {
             "iteration": 11,
             "learn": [
              0.5042843754
             ],
             "passed_time": 4.95440405,
             "remaining_time": 36.33229636,
             "test": [
              0.5041147972
             ]
            },
            {
             "iteration": 12,
             "learn": [
              0.4923361576
             ],
             "passed_time": 5.372051163,
             "remaining_time": 35.95141932,
             "test": [
              0.491707304
             ]
            },
            {
             "iteration": 13,
             "learn": [
              0.4801341272
             ],
             "passed_time": 5.789441058,
             "remaining_time": 35.56370936,
             "test": [
              0.4794842673
             ]
            },
            {
             "iteration": 14,
             "learn": [
              0.4703703266
             ],
             "passed_time": 6.199149893,
             "remaining_time": 35.12851606,
             "test": [
              0.4697790364
             ]
            },
            {
             "iteration": 15,
             "learn": [
              0.4594585041
             ],
             "passed_time": 6.618181253,
             "remaining_time": 34.74545158,
             "test": [
              0.4585069171
             ]
            },
            {
             "iteration": 16,
             "learn": [
              0.4500182579
             ],
             "passed_time": 7.030664956,
             "remaining_time": 34.32618772,
             "test": [
              0.4484320305
             ]
            },
            {
             "iteration": 17,
             "learn": [
              0.4401587959
             ],
             "passed_time": 7.468148409,
             "remaining_time": 34.02156497,
             "test": [
              0.4385180705
             ]
            },
            {
             "iteration": 18,
             "learn": [
              0.4316712209
             ],
             "passed_time": 7.87849429,
             "remaining_time": 33.58726513,
             "test": [
              0.4300864188
             ]
            },
            {
             "iteration": 19,
             "learn": [
              0.422768364
             ],
             "passed_time": 8.317526696,
             "remaining_time": 33.27010679,
             "test": [
              0.4211521921
             ]
            },
            {
             "iteration": 20,
             "learn": [
              0.4148597312
             ],
             "passed_time": 8.723267888,
             "remaining_time": 32.81610301,
             "test": [
              0.4134011666
             ]
            },
            {
             "iteration": 21,
             "learn": [
              0.4058775812
             ],
             "passed_time": 9.133073883,
             "remaining_time": 32.38089831,
             "test": [
              0.4043643316
             ]
            },
            {
             "iteration": 22,
             "learn": [
              0.3981542857
             ],
             "passed_time": 9.524899125,
             "remaining_time": 31.88770577,
             "test": [
              0.3969072722
             ]
            },
            {
             "iteration": 23,
             "learn": [
              0.3906644318
             ],
             "passed_time": 9.947462652,
             "remaining_time": 31.5002984,
             "test": [
              0.388910676
             ]
            },
            {
             "iteration": 24,
             "learn": [
              0.3837650351
             ],
             "passed_time": 10.35588908,
             "remaining_time": 31.06766725,
             "test": [
              0.3820308404
             ]
            },
            {
             "iteration": 25,
             "learn": [
              0.377083891
             ],
             "passed_time": 10.72202155,
             "remaining_time": 30.51652287,
             "test": [
              0.3758382853
             ]
            },
            {
             "iteration": 26,
             "learn": [
              0.369894007
             ],
             "passed_time": 11.17887715,
             "remaining_time": 30.22437154,
             "test": [
              0.3681998505
             ]
            },
            {
             "iteration": 27,
             "learn": [
              0.362654261
             ],
             "passed_time": 11.59068587,
             "remaining_time": 29.80462081,
             "test": [
              0.3609947431
             ]
            },
            {
             "iteration": 28,
             "learn": [
              0.3561651281
             ],
             "passed_time": 12.00644779,
             "remaining_time": 29.39509632,
             "test": [
              0.3545047123
             ]
            },
            {
             "iteration": 29,
             "learn": [
              0.3501959413
             ],
             "passed_time": 12.40840748,
             "remaining_time": 28.95295078,
             "test": [
              0.3486905273
             ]
            },
            {
             "iteration": 30,
             "learn": [
              0.3434804548
             ],
             "passed_time": 12.82089163,
             "remaining_time": 28.5368233,
             "test": [
              0.341678089
             ]
            },
            {
             "iteration": 31,
             "learn": [
              0.3382122568
             ],
             "passed_time": 13.19563384,
             "remaining_time": 28.04072191,
             "test": [
              0.3366689755
             ]
            },
            {
             "iteration": 32,
             "learn": [
              0.3321407609
             ],
             "passed_time": 13.62409861,
             "remaining_time": 27.6610487,
             "test": [
              0.3299821567
             ]
            },
            {
             "iteration": 33,
             "learn": [
              0.3268369629
             ],
             "passed_time": 13.99739847,
             "remaining_time": 27.17142055,
             "test": [
              0.3250132151
             ]
            },
            {
             "iteration": 34,
             "learn": [
              0.3210813735
             ],
             "passed_time": 14.41655405,
             "remaining_time": 26.77360038,
             "test": [
              0.3189935153
             ]
            },
            {
             "iteration": 35,
             "learn": [
              0.3164251187
             ],
             "passed_time": 14.87472038,
             "remaining_time": 26.44394735,
             "test": [
              0.3148105367
             ]
            },
            {
             "iteration": 36,
             "learn": [
              0.3116554828
             ],
             "passed_time": 15.47299689,
             "remaining_time": 26.34591362,
             "test": [
              0.3100872079
             ]
            },
            {
             "iteration": 37,
             "learn": [
              0.3062166287
             ],
             "passed_time": 16.07059601,
             "remaining_time": 26.22044612,
             "test": [
              0.3042551818
             ]
            },
            {
             "iteration": 38,
             "learn": [
              0.3011154305
             ],
             "passed_time": 16.50836878,
             "remaining_time": 25.82078193,
             "test": [
              0.2989859057
             ]
            },
            {
             "iteration": 39,
             "learn": [
              0.2957769465
             ],
             "passed_time": 16.93716154,
             "remaining_time": 25.40574232,
             "test": [
              0.2934628183
             ]
            },
            {
             "iteration": 40,
             "learn": [
              0.2916200238
             ],
             "passed_time": 17.31863663,
             "remaining_time": 24.92194051,
             "test": [
              0.289318028
             ]
            },
            {
             "iteration": 41,
             "learn": [
              0.2868520891
             ],
             "passed_time": 17.75135332,
             "remaining_time": 24.51377363,
             "test": [
              0.2842598685
             ]
            },
            {
             "iteration": 42,
             "learn": [
              0.2820094775
             ],
             "passed_time": 18.17372753,
             "remaining_time": 24.0907551,
             "test": [
              0.2792928111
             ]
            },
            {
             "iteration": 43,
             "learn": [
              0.2773354582
             ],
             "passed_time": 18.60016917,
             "remaining_time": 23.67294258,
             "test": [
              0.2746026934
             ]
            },
            {
             "iteration": 44,
             "learn": [
              0.2734436081
             ],
             "passed_time": 19.00727321,
             "remaining_time": 23.2311117,
             "test": [
              0.2708104825
             ]
            },
            {
             "iteration": 45,
             "learn": [
              0.26985125
             ],
             "passed_time": 19.37050804,
             "remaining_time": 22.73929205,
             "test": [
              0.2674020506
             ]
            },
            {
             "iteration": 46,
             "learn": [
              0.2657019188
             ],
             "passed_time": 19.79508157,
             "remaining_time": 22.32211326,
             "test": [
              0.2630593533
             ]
            },
            {
             "iteration": 47,
             "learn": [
              0.2616623633
             ],
             "passed_time": 20.23613716,
             "remaining_time": 21.92248192,
             "test": [
              0.2587173298
             ]
            },
            {
             "iteration": 48,
             "learn": [
              0.2576282474
             ],
             "passed_time": 20.665395,
             "remaining_time": 21.50888051,
             "test": [
              0.2545176157
             ]
            },
            {
             "iteration": 49,
             "learn": [
              0.253660764
             ],
             "passed_time": 21.1029258,
             "remaining_time": 21.1029258,
             "test": [
              0.2505320199
             ]
            },
            {
             "iteration": 50,
             "learn": [
              0.2501027839
             ],
             "passed_time": 21.53165113,
             "remaining_time": 20.68727266,
             "test": [
              0.2469733223
             ]
            },
            {
             "iteration": 51,
             "learn": [
              0.24650418
             ],
             "passed_time": 22.00447589,
             "remaining_time": 20.3118239,
             "test": [
              0.243564322
             ]
            },
            {
             "iteration": 52,
             "learn": [
              0.2430799952
             ],
             "passed_time": 22.40609685,
             "remaining_time": 19.86955758,
             "test": [
              0.2400843073
             ]
            },
            {
             "iteration": 53,
             "learn": [
              0.239859526
             ],
             "passed_time": 22.82820593,
             "remaining_time": 19.4462495,
             "test": [
              0.2368548677
             ]
            },
            {
             "iteration": 54,
             "learn": [
              0.236708886
             ],
             "passed_time": 23.23065356,
             "remaining_time": 19.00689836,
             "test": [
              0.2337649869
             ]
            },
            {
             "iteration": 55,
             "learn": [
              0.2332371249
             ],
             "passed_time": 23.68274353,
             "remaining_time": 18.60786992,
             "test": [
              0.2303177433
             ]
            },
            {
             "iteration": 56,
             "learn": [
              0.2302290122
             ],
             "passed_time": 24.07808449,
             "remaining_time": 18.164169,
             "test": [
              0.2273575678
             ]
            },
            {
             "iteration": 57,
             "learn": [
              0.227213386
             ],
             "passed_time": 24.52065407,
             "remaining_time": 17.75633571,
             "test": [
              0.2243171064
             ]
            },
            {
             "iteration": 58,
             "learn": [
              0.2242183971
             ],
             "passed_time": 24.96233206,
             "remaining_time": 17.34670533,
             "test": [
              0.2212669957
             ]
            },
            {
             "iteration": 59,
             "learn": [
              0.2214325667
             ],
             "passed_time": 25.39992729,
             "remaining_time": 16.93328486,
             "test": [
              0.2184764429
             ]
            },
            {
             "iteration": 60,
             "learn": [
              0.21874619
             ],
             "passed_time": 25.80234959,
             "remaining_time": 16.49658417,
             "test": [
              0.2158108932
             ]
            },
            {
             "iteration": 61,
             "learn": [
              0.2162920642
             ],
             "passed_time": 26.14800733,
             "remaining_time": 16.02619804,
             "test": [
              0.213591891
             ]
            },
            {
             "iteration": 62,
             "learn": [
              0.2136494613
             ],
             "passed_time": 26.56694345,
             "remaining_time": 15.60280806,
             "test": [
              0.2110891374
             ]
            },
            {
             "iteration": 63,
             "learn": [
              0.2110828139
             ],
             "passed_time": 26.98716998,
             "remaining_time": 15.18028311,
             "test": [
              0.2083502424
             ]
            },
            {
             "iteration": 64,
             "learn": [
              0.2086531539
             ],
             "passed_time": 27.37108514,
             "remaining_time": 14.73827661,
             "test": [
              0.2059999468
             ]
            },
            {
             "iteration": 65,
             "learn": [
              0.2063358794
             ],
             "passed_time": 27.73129981,
             "remaining_time": 14.28582111,
             "test": [
              0.2039650811
             ]
            },
            {
             "iteration": 66,
             "learn": [
              0.2038937974
             ],
             "passed_time": 28.12729818,
             "remaining_time": 13.85374388,
             "test": [
              0.2015193758
             ]
            },
            {
             "iteration": 67,
             "learn": [
              0.2015617042
             ],
             "passed_time": 28.56130343,
             "remaining_time": 13.44061338,
             "test": [
              0.1993053728
             ]
            },
            {
             "iteration": 68,
             "learn": [
              0.1991845852
             ],
             "passed_time": 28.96269603,
             "remaining_time": 13.01222575,
             "test": [
              0.1969065027
             ]
            },
            {
             "iteration": 69,
             "learn": [
              0.1973442975
             ],
             "passed_time": 29.28929191,
             "remaining_time": 12.55255368,
             "test": [
              0.1951509991
             ]
            },
            {
             "iteration": 70,
             "learn": [
              0.1949737176
             ],
             "passed_time": 29.78261325,
             "remaining_time": 12.16472935,
             "test": [
              0.1926837757
             ]
            },
            {
             "iteration": 71,
             "learn": [
              0.192346668
             ],
             "passed_time": 30.24071191,
             "remaining_time": 11.76027685,
             "test": [
              0.1899311019
             ]
            },
            {
             "iteration": 72,
             "learn": [
              0.1901729445
             ],
             "passed_time": 30.66762708,
             "remaining_time": 11.34282097,
             "test": [
              0.1875642562
             ]
            },
            {
             "iteration": 73,
             "learn": [
              0.1874705429
             ],
             "passed_time": 31.1180122,
             "remaining_time": 10.93335564,
             "test": [
              0.1845830665
             ]
            },
            {
             "iteration": 74,
             "learn": [
              0.185171251
             ],
             "passed_time": 31.64247873,
             "remaining_time": 10.54749291,
             "test": [
              0.1821359935
             ]
            },
            {
             "iteration": 75,
             "learn": [
              0.1833232193
             ],
             "passed_time": 32.06189301,
             "remaining_time": 10.12480832,
             "test": [
              0.1803862811
             ]
            },
            {
             "iteration": 76,
             "learn": [
              0.1811119064
             ],
             "passed_time": 32.5797636,
             "remaining_time": 9.731617697,
             "test": [
              0.178177575
             ]
            },
            {
             "iteration": 77,
             "learn": [
              0.1794025681
             ],
             "passed_time": 33.01432661,
             "remaining_time": 9.311733145,
             "test": [
              0.1764618619
             ]
            },
            {
             "iteration": 78,
             "learn": [
              0.1772619551
             ],
             "passed_time": 33.52613273,
             "remaining_time": 8.912009966,
             "test": [
              0.1742355054
             ]
            },
            {
             "iteration": 79,
             "learn": [
              0.1757407846
             ],
             "passed_time": 33.85645902,
             "remaining_time": 8.464114754,
             "test": [
              0.1727699695
             ]
            },
            {
             "iteration": 80,
             "learn": [
              0.1738085509
             ],
             "passed_time": 34.26055004,
             "remaining_time": 8.036425319,
             "test": [
              0.1708319796
             ]
            },
            {
             "iteration": 81,
             "learn": [
              0.1716860042
             ],
             "passed_time": 34.77422308,
             "remaining_time": 7.633366042,
             "test": [
              0.1686316481
             ]
            },
            {
             "iteration": 82,
             "learn": [
              0.1701374584
             ],
             "passed_time": 35.1226678,
             "remaining_time": 7.193799429,
             "test": [
              0.1671130299
             ]
            },
            {
             "iteration": 83,
             "learn": [
              0.168020435
             ],
             "passed_time": 35.63942336,
             "remaining_time": 6.788461592,
             "test": [
              0.1649119311
             ]
            },
            {
             "iteration": 84,
             "learn": [
              0.1662638542
             ],
             "passed_time": 36.01411258,
             "remaining_time": 6.355431631,
             "test": [
              0.1633782332
             ]
            },
            {
             "iteration": 85,
             "learn": [
              0.1644022937
             ],
             "passed_time": 36.5182884,
             "remaining_time": 5.944837647,
             "test": [
              0.1614811277
             ]
            },
            {
             "iteration": 86,
             "learn": [
              0.1631195256
             ],
             "passed_time": 36.8487615,
             "remaining_time": 5.506136776,
             "test": [
              0.1602751796
             ]
            },
            {
             "iteration": 87,
             "learn": [
              0.1613810008
             ],
             "passed_time": 37.26324318,
             "remaining_time": 5.081351343,
             "test": [
              0.158351323
             ]
            },
            {
             "iteration": 88,
             "learn": [
              0.159739057
             ],
             "passed_time": 37.72139527,
             "remaining_time": 4.662194921,
             "test": [
              0.1566697553
             ]
            },
            {
             "iteration": 89,
             "learn": [
              0.1581214088
             ],
             "passed_time": 38.09195906,
             "remaining_time": 4.232439896,
             "test": [
              0.1551861373
             ]
            },
            {
             "iteration": 90,
             "learn": [
              0.1562671056
             ],
             "passed_time": 38.56856558,
             "remaining_time": 3.814473518,
             "test": [
              0.1531601697
             ]
            },
            {
             "iteration": 91,
             "learn": [
              0.1550629012
             ],
             "passed_time": 38.97104346,
             "remaining_time": 3.388786388,
             "test": [
              0.1520829143
             ]
            },
            {
             "iteration": 92,
             "learn": [
              0.1532108335
             ],
             "passed_time": 39.37823729,
             "remaining_time": 2.963953344,
             "test": [
              0.1501232977
             ]
            },
            {
             "iteration": 93,
             "learn": [
              0.1519818013
             ],
             "passed_time": 39.71335045,
             "remaining_time": 2.53489471,
             "test": [
              0.1490583234
             ]
            },
            {
             "iteration": 94,
             "learn": [
              0.1506352909
             ],
             "passed_time": 40.05565468,
             "remaining_time": 2.108192351,
             "test": [
              0.1477541483
             ]
            },
            {
             "iteration": 95,
             "learn": [
              0.149241896
             ],
             "passed_time": 40.46103645,
             "remaining_time": 1.685876519,
             "test": [
              0.1463279003
             ]
            },
            {
             "iteration": 96,
             "learn": [
              0.1476687129
             ],
             "passed_time": 40.89114131,
             "remaining_time": 1.264674474,
             "test": [
              0.1447065063
             ]
            },
            {
             "iteration": 97,
             "learn": [
              0.146010178
             ],
             "passed_time": 41.31711832,
             "remaining_time": 0.8432064963,
             "test": [
              0.143048624
             ]
            },
            {
             "iteration": 98,
             "learn": [
              0.1444299933
             ],
             "passed_time": 41.73411604,
             "remaining_time": 0.4215567277,
             "test": [
              0.1412920647
             ]
            },
            {
             "iteration": 99,
             "learn": [
              0.1432418657
             ],
             "passed_time": 42.10306028,
             "remaining_time": 0,
             "test": [
              0.1401782993
             ]
            }
           ],
           "meta": {
            "iteration_count": 100,
            "launch_mode": "Train",
            "learn_metrics": [
             {
              "best_value": "Min",
              "name": "CrossEntropy"
             }
            ],
            "learn_sets": [
             "learn"
            ],
            "name": "experiment",
            "parameters": "",
            "test_metrics": [
             {
              "best_value": "Min",
              "name": "CrossEntropy"
             }
            ],
            "test_sets": [
             "test"
            ]
           }
          },
          "passed_iterations": 99,
          "total_iterations": 100
         },
         "name": "catboost_info",
         "path": "catboost_info"
        }
       },
       "layout": "IPY_MODEL_36dbff3ba016471a9da2dbd3a85ef785"
      }
     },
     "7bb4638498364d69b3b662250a588b18": {
      "model_module": "@jupyter-widgets/base",
      "model_module_version": "1.2.0",
      "model_name": "LayoutModel",
      "state": {
       "_model_module": "@jupyter-widgets/base",
       "_model_module_version": "1.2.0",
       "_model_name": "LayoutModel",
       "_view_count": null,
       "_view_module": "@jupyter-widgets/base",
       "_view_module_version": "1.2.0",
       "_view_name": "LayoutView",
       "align_content": null,
       "align_items": null,
       "align_self": "stretch",
       "border": null,
       "bottom": null,
       "display": null,
       "flex": null,
       "flex_flow": null,
       "grid_area": null,
       "grid_auto_columns": null,
       "grid_auto_flow": null,
       "grid_auto_rows": null,
       "grid_column": null,
       "grid_gap": null,
       "grid_row": null,
       "grid_template_areas": null,
       "grid_template_columns": null,
       "grid_template_rows": null,
       "height": "500px",
       "justify_content": null,
       "justify_items": null,
       "left": null,
       "margin": null,
       "max_height": null,
       "max_width": null,
       "min_height": null,
       "min_width": null,
       "object_fit": null,
       "object_position": null,
       "order": null,
       "overflow": null,
       "overflow_x": null,
       "overflow_y": null,
       "padding": null,
       "right": null,
       "top": null,
       "visibility": null,
       "width": null
      }
     },
     "855bb0d9a3a543c68a40d1712dd8cb6a": {
      "model_module": "catboost-widget",
      "model_module_version": "^1.0.0",
      "model_name": "CatboostWidgetModel",
      "state": {
       "_dom_classes": [],
       "_model_module": "catboost-widget",
       "_model_module_version": "^1.0.0",
       "_model_name": "CatboostWidgetModel",
       "_view_count": null,
       "_view_module": "catboost-widget",
       "_view_module_version": "^1.0.0",
       "_view_name": "CatboostWidgetView",
       "data": {
        "catboost_info": {
         "content": {
          "data": {
           "iterations": [
            {
             "iteration": 0,
             "learn": [
              0.6613854874
             ],
             "passed_time": 0.4042769683,
             "remaining_time": 40.02341986,
             "test": [
              0.663604915
             ]
            },
            {
             "iteration": 1,
             "learn": [
              0.6363176915
             ],
             "passed_time": 0.8074538236,
             "remaining_time": 39.56523736,
             "test": [
              0.6357818992
             ]
            },
            {
             "iteration": 2,
             "learn": [
              0.6093929659
             ],
             "passed_time": 1.186123864,
             "remaining_time": 38.35133826,
             "test": [
              0.6095336838
             ]
            },
            {
             "iteration": 3,
             "learn": [
              0.583745905
             ],
             "passed_time": 1.583180865,
             "remaining_time": 37.99634075,
             "test": [
              0.5847303931
             ]
            },
            {
             "iteration": 4,
             "learn": [
              0.5622269097
             ],
             "passed_time": 1.968651178,
             "remaining_time": 37.40437238,
             "test": [
              0.5612586756
             ]
            },
            {
             "iteration": 5,
             "learn": [
              0.5377771751
             ],
             "passed_time": 2.369968874,
             "remaining_time": 37.12951236,
             "test": [
              0.5390168251
             ]
            },
            {
             "iteration": 6,
             "learn": [
              0.51692924
             ],
             "passed_time": 2.776581363,
             "remaining_time": 36.88886668,
             "test": [
              0.5179138076
             ]
            },
            {
             "iteration": 7,
             "learn": [
              0.4987413645
             ],
             "passed_time": 3.141160899,
             "remaining_time": 36.12335034,
             "test": [
              0.497885013
             ]
            },
            {
             "iteration": 8,
             "learn": [
              0.4785833093
             ],
             "passed_time": 3.600725758,
             "remaining_time": 36.40733822,
             "test": [
              0.4788223212
             ]
            },
            {
             "iteration": 9,
             "learn": [
              0.460630451
             ],
             "passed_time": 3.98521066,
             "remaining_time": 35.86689594,
             "test": [
              0.4606791382
             ]
            },
            {
             "iteration": 10,
             "learn": [
              0.4439591204
             ],
             "passed_time": 4.380361936,
             "remaining_time": 35.44111021,
             "test": [
              0.443392764
             ]
            },
            {
             "iteration": 11,
             "learn": [
              0.4281196925
             ],
             "passed_time": 4.823622616,
             "remaining_time": 35.37323252,
             "test": [
              0.4269089396
             ]
            },
            {
             "iteration": 12,
             "learn": [
              0.4122460097
             ],
             "passed_time": 5.291223195,
             "remaining_time": 35.41049369,
             "test": [
              0.4111772449
             ]
            },
            {
             "iteration": 13,
             "learn": [
              0.3968571093
             ],
             "passed_time": 5.679338852,
             "remaining_time": 34.88736724,
             "test": [
              0.3961526881
             ]
            },
            {
             "iteration": 14,
             "learn": [
              0.3824953762
             ],
             "passed_time": 6.111782143,
             "remaining_time": 34.63343214,
             "test": [
              0.3817929858
             ]
            },
            {
             "iteration": 15,
             "learn": [
              0.3674319454
             ],
             "passed_time": 6.556243022,
             "remaining_time": 34.42027587,
             "test": [
              0.3680585342
             ]
            },
            {
             "iteration": 16,
             "learn": [
              0.3540509807
             ],
             "passed_time": 6.948827656,
             "remaining_time": 33.92662914,
             "test": [
              0.3549141868
             ]
            },
            {
             "iteration": 17,
             "learn": [
              0.3432794827
             ],
             "passed_time": 7.387447624,
             "remaining_time": 33.65392806,
             "test": [
              0.3423277933
             ]
            },
            {
             "iteration": 18,
             "learn": [
              0.3301871687
             ],
             "passed_time": 7.783510537,
             "remaining_time": 33.18233439,
             "test": [
              0.330268862
             ]
            },
            {
             "iteration": 19,
             "learn": [
              0.3197782676
             ],
             "passed_time": 8.186407132,
             "remaining_time": 32.74562853,
             "test": [
              0.318707631
             ]
            },
            {
             "iteration": 20,
             "learn": [
              0.3071252172
             ],
             "passed_time": 8.702587282,
             "remaining_time": 32.73830454,
             "test": [
              0.3076200068
             ]
            },
            {
             "iteration": 21,
             "learn": [
              0.2969963844
             ],
             "passed_time": 9.110642459,
             "remaining_time": 32.30136872,
             "test": [
              0.2969801021
             ]
            },
            {
             "iteration": 22,
             "learn": [
              0.2869382852
             ],
             "passed_time": 9.572182749,
             "remaining_time": 32.04600312,
             "test": [
              0.2867655249
             ]
            },
            {
             "iteration": 23,
             "learn": [
              0.2766434834
             ],
             "passed_time": 9.989901285,
             "remaining_time": 31.6346874,
             "test": [
              0.2769548089
             ]
            },
            {
             "iteration": 24,
             "learn": [
              0.2666501451
             ],
             "passed_time": 10.35979224,
             "remaining_time": 31.07937671,
             "test": [
              0.2675282142
             ]
            },
            {
             "iteration": 25,
             "learn": [
              0.2581435411
             ],
             "passed_time": 10.72637098,
             "remaining_time": 30.52890202,
             "test": [
              0.2584671445
             ]
            },
            {
             "iteration": 26,
             "learn": [
              0.2500958085
             ],
             "passed_time": 11.17493619,
             "remaining_time": 30.21371636,
             "test": [
              0.2497547324
             ]
            },
            {
             "iteration": 27,
             "learn": [
              0.2421062057
             ],
             "passed_time": 11.54275048,
             "remaining_time": 29.68135838,
             "test": [
              0.241374463
             ]
            },
            {
             "iteration": 28,
             "learn": [
              0.2338220731
             ],
             "passed_time": 11.92354248,
             "remaining_time": 29.19212123,
             "test": [
              0.2333109345
             ]
            },
            {
             "iteration": 29,
             "learn": [
              0.2259934276
             ],
             "passed_time": 12.34815665,
             "remaining_time": 28.81236552,
             "test": [
              0.2255486431
             ]
            },
            {
             "iteration": 30,
             "learn": [
              0.2186691856
             ],
             "passed_time": 12.78687565,
             "remaining_time": 28.46111031,
             "test": [
              0.2180752783
             ]
            },
            {
             "iteration": 31,
             "learn": [
              0.2110893977
             ],
             "passed_time": 13.26357929,
             "remaining_time": 28.185106,
             "test": [
              0.2108783828
             ]
            },
            {
             "iteration": 32,
             "learn": [
              0.2035488866
             ],
             "passed_time": 13.71471687,
             "remaining_time": 27.84503122,
             "test": [
              0.2039443696
             ]
            },
            {
             "iteration": 33,
             "learn": [
              0.1966869534
             ],
             "passed_time": 14.29449856,
             "remaining_time": 27.74814427,
             "test": [
              0.1972619988
             ]
            },
            {
             "iteration": 34,
             "learn": [
              0.1913339028
             ],
             "passed_time": 14.92626816,
             "remaining_time": 27.7202123,
             "test": [
              0.1908211156
             ]
            },
            {
             "iteration": 35,
             "learn": [
              0.1841259837
             ],
             "passed_time": 15.43564734,
             "remaining_time": 27.44115082,
             "test": [
              0.1846113009
             ]
            },
            {
             "iteration": 36,
             "learn": [
              0.1789321126
             ],
             "passed_time": 15.85633781,
             "remaining_time": 26.99862925,
             "test": [
              0.1786228386
             ]
            },
            {
             "iteration": 37,
             "learn": [
              0.1724128587
             ],
             "passed_time": 16.25619757,
             "remaining_time": 26.52326973,
             "test": [
              0.1728467698
             ]
            },
            {
             "iteration": 38,
             "learn": [
              0.1678469736
             ],
             "passed_time": 16.75295023,
             "remaining_time": 26.2033324,
             "test": [
              0.1672745668
             ]
            },
            {
             "iteration": 39,
             "learn": [
              0.1616483713
             ],
             "passed_time": 17.12175952,
             "remaining_time": 25.68263928,
             "test": [
              0.1618970229
             ]
            },
            {
             "iteration": 40,
             "learn": [
              0.1565422145
             ],
             "passed_time": 17.5498939,
             "remaining_time": 25.25472537,
             "test": [
              0.156706853
             ]
            },
            {
             "iteration": 41,
             "learn": [
              0.15221534
             ],
             "passed_time": 18.04639345,
             "remaining_time": 24.92121001,
             "test": [
              0.1516974897
             ]
            },
            {
             "iteration": 42,
             "learn": [
              0.1472201952
             ],
             "passed_time": 18.37317612,
             "remaining_time": 24.35514044,
             "test": [
              0.1468597217
             ]
            },
            {
             "iteration": 43,
             "learn": [
              0.1420879578
             ],
             "passed_time": 18.78015504,
             "remaining_time": 23.90201551,
             "test": [
              0.1421885796
             ]
            },
            {
             "iteration": 44,
             "learn": [
              0.1373421401
             ],
             "passed_time": 19.17038403,
             "remaining_time": 23.43046937,
             "test": [
              0.1376767003
             ]
            },
            {
             "iteration": 45,
             "learn": [
              0.1331455089
             ],
             "passed_time": 19.6243724,
             "remaining_time": 23.03730673,
             "test": [
              0.1333186428
             ]
            },
            {
             "iteration": 46,
             "learn": [
              0.1291486046
             ],
             "passed_time": 20.07497791,
             "remaining_time": 22.63774104,
             "test": [
              0.1291082579
             ]
            },
            {
             "iteration": 47,
             "learn": [
              0.125218619
             ],
             "passed_time": 20.47343488,
             "remaining_time": 22.17955445,
             "test": [
              0.1250386567
             ]
            },
            {
             "iteration": 48,
             "learn": [
              0.1213121817
             ],
             "passed_time": 20.91657567,
             "remaining_time": 21.77031345,
             "test": [
              0.1211059177
             ]
            },
            {
             "iteration": 49,
             "learn": [
              0.1174273213
             ],
             "passed_time": 21.35885545,
             "remaining_time": 21.35885545,
             "test": [
              0.1173045707
             ]
            },
            {
             "iteration": 50,
             "learn": [
              0.1135686442
             ],
             "passed_time": 21.72267081,
             "remaining_time": 20.87080137,
             "test": [
              0.1136301264
             ]
            },
            {
             "iteration": 51,
             "learn": [
              0.1100066908
             ],
             "passed_time": 22.12285322,
             "remaining_time": 20.42109528,
             "test": [
              0.1100779447
             ]
            },
            {
             "iteration": 52,
             "learn": [
              0.1071514516
             ],
             "passed_time": 22.50189083,
             "remaining_time": 19.95450696,
             "test": [
              0.1066421479
             ]
            },
            {
             "iteration": 53,
             "learn": [
              0.1036556892
             ],
             "passed_time": 22.88578477,
             "remaining_time": 19.49529814,
             "test": [
              0.1033196891
             ]
            },
            {
             "iteration": 54,
             "learn": [
              0.09998657882
             ],
             "passed_time": 23.34844956,
             "remaining_time": 19.10327691,
             "test": [
              0.1001065655
             ]
            },
            {
             "iteration": 55,
             "learn": [
              0.09739237179
             ],
             "passed_time": 23.70922259,
             "remaining_time": 18.6286749,
             "test": [
              0.09699865092
             ]
            },
            {
             "iteration": 56,
             "learn": [
              0.094028927
             ],
             "passed_time": 24.19847103,
             "remaining_time": 18.25498692,
             "test": [
              0.09399211121
             ]
            },
            {
             "iteration": 57,
             "learn": [
              0.09148597607
             ],
             "passed_time": 24.6353265,
             "remaining_time": 17.83937436,
             "test": [
              0.09108798185
             ]
            },
            {
             "iteration": 58,
             "learn": [
              0.08821985353
             ],
             "passed_time": 25.01992247,
             "remaining_time": 17.38672578,
             "test": [
              0.08827719294
             ]
            },
            {
             "iteration": 59,
             "learn": [
              0.08574051428
             ],
             "passed_time": 25.41400958,
             "remaining_time": 16.94267306,
             "test": [
              0.08555242215
             ]
            },
            {
             "iteration": 60,
             "learn": [
              0.08286552636
             ],
             "passed_time": 25.86501213,
             "remaining_time": 16.5366471,
             "test": [
              0.08291617718
             ]
            },
            {
             "iteration": 61,
             "learn": [
              0.08038381514
             ],
             "passed_time": 26.29603037,
             "remaining_time": 16.11692184,
             "test": [
              0.08036420643
             ]
            },
            {
             "iteration": 62,
             "learn": [
              0.07824360405
             ],
             "passed_time": 26.72174915,
             "remaining_time": 15.69372569,
             "test": [
              0.0778942274
             ]
            },
            {
             "iteration": 63,
             "learn": [
              0.07577702011
             ],
             "passed_time": 27.1206628,
             "remaining_time": 15.25537283,
             "test": [
              0.07550297574
             ]
            },
            {
             "iteration": 64,
             "learn": [
              0.0732321611
             ],
             "passed_time": 27.52238745,
             "remaining_time": 14.81974709,
             "test": [
              0.07318838315
             ]
            },
            {
             "iteration": 65,
             "learn": [
              0.07086801834
             ],
             "passed_time": 27.97362483,
             "remaining_time": 14.41065521,
             "test": [
              0.07094769737
             ]
            },
            {
             "iteration": 66,
             "learn": [
              0.0687536771
             ],
             "passed_time": 28.39610219,
             "remaining_time": 13.98613988,
             "test": [
              0.0687778235
             ]
            },
            {
             "iteration": 67,
             "learn": [
              0.06672909275
             ],
             "passed_time": 28.84442435,
             "remaining_time": 13.57384675,
             "test": [
              0.06667713972
             ]
            },
            {
             "iteration": 68,
             "learn": [
              0.06476085045
             ],
             "passed_time": 29.20033916,
             "remaining_time": 13.11899296,
             "test": [
              0.0646424426
             ]
            },
            {
             "iteration": 69,
             "learn": [
              0.06280876697
             ],
             "passed_time": 29.62516506,
             "remaining_time": 12.69649931,
             "test": [
              0.06267200691
             ]
            },
            {
             "iteration": 70,
             "learn": [
              0.06086713188
             ],
             "passed_time": 29.95794937,
             "remaining_time": 12.23634552,
             "test": [
              0.06076371293
             ]
            },
            {
             "iteration": 71,
             "learn": [
              0.05896014712
             ],
             "passed_time": 30.31257438,
             "remaining_time": 11.78822337,
             "test": [
              0.05891535392
             ]
            },
            {
             "iteration": 72,
             "learn": [
              0.05715824505
             ],
             "passed_time": 30.74061573,
             "remaining_time": 11.36981678,
             "test": [
              0.05712544339
             ]
            },
            {
             "iteration": 73,
             "learn": [
              0.05573411478
             ],
             "passed_time": 31.14035591,
             "remaining_time": 10.94120613,
             "test": [
              0.05539125915
             ]
            },
            {
             "iteration": 74,
             "learn": [
              0.05398618672
             ],
             "passed_time": 31.59125106,
             "remaining_time": 10.53041702,
             "test": [
              0.05371631617
             ]
            },
            {
             "iteration": 75,
             "learn": [
              0.05214074704
             ],
             "passed_time": 32.04392776,
             "remaining_time": 10.11913508,
             "test": [
              0.0520884355
             ]
            },
            {
             "iteration": 76,
             "learn": [
              0.0508365835
             ],
             "passed_time": 32.42448748,
             "remaining_time": 9.685236521,
             "test": [
              0.05052407975
             ]
            },
            {
             "iteration": 77,
             "learn": [
              0.04914576645
             ],
             "passed_time": 32.91852856,
             "remaining_time": 9.284713183,
             "test": [
              0.04899591326
             ]
            },
            {
             "iteration": 78,
             "learn": [
              0.04757192277
             ],
             "passed_time": 33.32894302,
             "remaining_time": 8.85959245,
             "test": [
              0.04751524993
             ]
            },
            {
             "iteration": 79,
             "learn": [
              0.04622071335
             ],
             "passed_time": 33.72356225,
             "remaining_time": 8.430890563,
             "test": [
              0.04609042929
             ]
            },
            {
             "iteration": 80,
             "learn": [
              0.04496377527
             ],
             "passed_time": 34.11709484,
             "remaining_time": 8.002775332,
             "test": [
              0.04469980425
             ]
            },
            {
             "iteration": 81,
             "learn": [
              0.04339266297
             ],
             "passed_time": 34.48475411,
             "remaining_time": 7.569824072,
             "test": [
              0.04335195997
             ]
            },
            {
             "iteration": 82,
             "learn": [
              0.04227963305
             ],
             "passed_time": 34.84449683,
             "remaining_time": 7.136824651,
             "test": [
              0.0420458939
             ]
            },
            {
             "iteration": 83,
             "learn": [
              0.04102889264
             ],
             "passed_time": 35.16582047,
             "remaining_time": 6.698251518,
             "test": [
              0.04078259712
             ]
            },
            {
             "iteration": 84,
             "learn": [
              0.03966591687
             ],
             "passed_time": 35.54245109,
             "remaining_time": 6.272197251,
             "test": [
              0.03955503472
             ]
            },
            {
             "iteration": 85,
             "learn": [
              0.03845258675
             ],
             "passed_time": 35.92805585,
             "remaining_time": 5.848753278,
             "test": [
              0.03836593464
             ]
            },
            {
             "iteration": 86,
             "learn": [
              0.03742499901
             ],
             "passed_time": 36.4147145,
             "remaining_time": 5.441279178,
             "test": [
              0.03721414546
             ]
            },
            {
             "iteration": 87,
             "learn": [
              0.0363722015
             ],
             "passed_time": 36.756423,
             "remaining_time": 5.0122395,
             "test": [
              0.03610843624
             ]
            },
            {
             "iteration": 88,
             "learn": [
              0.03519918537
             ],
             "passed_time": 37.19138554,
             "remaining_time": 4.596688101,
             "test": [
              0.03502561057
             ]
            },
            {
             "iteration": 89,
             "learn": [
              0.03415546863
             ],
             "passed_time": 37.59795607,
             "remaining_time": 4.177550674,
             "test": [
              0.03397509567
             ]
            },
            {
             "iteration": 90,
             "learn": [
              0.03313021962
             ],
             "passed_time": 37.97524205,
             "remaining_time": 3.75579317,
             "test": [
              0.03295419478
             ]
            },
            {
             "iteration": 91,
             "learn": [
              0.03212044926
             ],
             "passed_time": 38.29289784,
             "remaining_time": 3.329817203,
             "test": [
              0.03196647737
             ]
            },
            {
             "iteration": 92,
             "learn": [
              0.03113668388
             ],
             "passed_time": 38.70554611,
             "remaining_time": 2.913320675,
             "test": [
              0.03100700915
             ]
            },
            {
             "iteration": 93,
             "learn": [
              0.03019384268
             ],
             "passed_time": 39.12292659,
             "remaining_time": 2.49720808,
             "test": [
              0.03007995446
             ]
            },
            {
             "iteration": 94,
             "learn": [
              0.02925540098
             ],
             "passed_time": 39.4683826,
             "remaining_time": 2.077283295,
             "test": [
              0.02917971538
             ]
            },
            {
             "iteration": 95,
             "learn": [
              0.02850518558
             ],
             "passed_time": 39.921199,
             "remaining_time": 1.663383292,
             "test": [
              0.02831085743
             ]
            },
            {
             "iteration": 96,
             "learn": [
              0.02761466197
             ],
             "passed_time": 40.32827723,
             "remaining_time": 1.247266306,
             "test": [
              0.02746265963
             ]
            },
            {
             "iteration": 97,
             "learn": [
              0.02669115726
             ],
             "passed_time": 40.64144799,
             "remaining_time": 0.8294173058,
             "test": [
              0.02664223266
             ]
            },
            {
             "iteration": 98,
             "learn": [
              0.02603331126
             ],
             "passed_time": 41.07196423,
             "remaining_time": 0.4148683256,
             "test": [
              0.02584745049
             ]
            },
            {
             "iteration": 99,
             "learn": [
              0.02516558509
             ],
             "passed_time": 41.36165003,
             "remaining_time": 0,
             "test": [
              0.02507548676
             ]
            }
           ],
           "meta": {
            "iteration_count": 100,
            "launch_mode": "Train",
            "learn_metrics": [
             {
              "best_value": "Min",
              "name": "CrossEntropy"
             }
            ],
            "learn_sets": [
             "learn"
            ],
            "name": "experiment",
            "parameters": "",
            "test_metrics": [
             {
              "best_value": "Min",
              "name": "CrossEntropy"
             }
            ],
            "test_sets": [
             "test"
            ]
           }
          },
          "passed_iterations": 99,
          "total_iterations": 100
         },
         "name": "catboost_info",
         "path": "catboost_info"
        }
       },
       "layout": "IPY_MODEL_64e3fefe57fd4673855218e69f96dc0e"
      }
     },
     "8ce54709229649bcaba86b4a4dfe72d9": {
      "model_module": "@jupyter-widgets/base",
      "model_module_version": "1.2.0",
      "model_name": "LayoutModel",
      "state": {
       "_model_module": "@jupyter-widgets/base",
       "_model_module_version": "1.2.0",
       "_model_name": "LayoutModel",
       "_view_count": null,
       "_view_module": "@jupyter-widgets/base",
       "_view_module_version": "1.2.0",
       "_view_name": "LayoutView",
       "align_content": null,
       "align_items": null,
       "align_self": "stretch",
       "border": null,
       "bottom": null,
       "display": null,
       "flex": null,
       "flex_flow": null,
       "grid_area": null,
       "grid_auto_columns": null,
       "grid_auto_flow": null,
       "grid_auto_rows": null,
       "grid_column": null,
       "grid_gap": null,
       "grid_row": null,
       "grid_template_areas": null,
       "grid_template_columns": null,
       "grid_template_rows": null,
       "height": "500px",
       "justify_content": null,
       "justify_items": null,
       "left": null,
       "margin": null,
       "max_height": null,
       "max_width": null,
       "min_height": null,
       "min_width": null,
       "object_fit": null,
       "object_position": null,
       "order": null,
       "overflow": null,
       "overflow_x": null,
       "overflow_y": null,
       "padding": null,
       "right": null,
       "top": null,
       "visibility": null,
       "width": null
      }
     },
     "8dc5df27bba94d588ebb6efdb83d6c2b": {
      "model_module": "catboost-widget",
      "model_module_version": "^1.0.0",
      "model_name": "CatboostWidgetModel",
      "state": {
       "_dom_classes": [],
       "_model_module": "catboost-widget",
       "_model_module_version": "^1.0.0",
       "_model_name": "CatboostWidgetModel",
       "_view_count": null,
       "_view_module": "catboost-widget",
       "_view_module_version": "^1.0.0",
       "_view_name": "CatboostWidgetView",
       "data": {
        "catboost_info": {
         "content": {
          "data": {
           "iterations": [
            {
             "iteration": 0,
             "learn": [
              0.6613783506
             ],
             "passed_time": 0.4073257469,
             "remaining_time": 40.32524895,
             "test": [
              0.6635991653
             ]
            },
            {
             "iteration": 1,
             "learn": [
              0.6362972929
             ],
             "passed_time": 0.8133015103,
             "remaining_time": 39.85177401,
             "test": [
              0.6357725014
             ]
            },
            {
             "iteration": 2,
             "learn": [
              0.6093763774
             ],
             "passed_time": 1.194328988,
             "remaining_time": 38.61663727,
             "test": [
              0.609520372
             ]
            },
            {
             "iteration": 3,
             "learn": [
              0.5837155679
             ],
             "passed_time": 1.595298076,
             "remaining_time": 38.28715383,
             "test": [
              0.5847127591
             ]
            },
            {
             "iteration": 4,
             "learn": [
              0.5621912086
             ],
             "passed_time": 1.985063919,
             "remaining_time": 37.71621446,
             "test": [
              0.5612380837
             ]
            },
            {
             "iteration": 5,
             "learn": [
              0.5376754308
             ],
             "passed_time": 2.393232502,
             "remaining_time": 37.49397586,
             "test": [
              0.5389926766
             ]
            },
            {
             "iteration": 6,
             "learn": [
              0.5168812463
             ],
             "passed_time": 2.800322123,
             "remaining_time": 37.20427964,
             "test": [
              0.5178865375
             ]
            },
            {
             "iteration": 7,
             "learn": [
              0.4986834456
             ],
             "passed_time": 3.173312997,
             "remaining_time": 36.49309947,
             "test": [
              0.4978383519
             ]
            },
            {
             "iteration": 8,
             "learn": [
              0.4785252825
             ],
             "passed_time": 3.637724303,
             "remaining_time": 36.78143462,
             "test": [
              0.478774385
             ]
            },
            {
             "iteration": 9,
             "learn": [
              0.4605803331
             ],
             "passed_time": 4.029828253,
             "remaining_time": 36.26845427,
             "test": [
              0.4606291149
             ]
            },
            {
             "iteration": 10,
             "learn": [
              0.4438385161
             ],
             "passed_time": 4.470708663,
             "remaining_time": 36.17209737,
             "test": [
              0.4433410049
             ]
            },
            {
             "iteration": 11,
             "learn": [
              0.4280519769
             ],
             "passed_time": 4.894540243,
             "remaining_time": 35.89329511,
             "test": [
              0.4268551908
             ]
            },
            {
             "iteration": 12,
             "learn": [
              0.412117237
             ],
             "passed_time": 5.360965766,
             "remaining_time": 35.87723243,
             "test": [
              0.411122928
             ]
            },
            {
             "iteration": 13,
             "learn": [
              0.3967774071
             ],
             "passed_time": 5.728541197,
             "remaining_time": 35.18961021,
             "test": [
              0.3960971318
             ]
            },
            {
             "iteration": 14,
             "learn": [
              0.3823932228
             ],
             "passed_time": 6.160411882,
             "remaining_time": 34.90900067,
             "test": [
              0.3817356218
             ]
            },
            {
             "iteration": 15,
             "learn": [
              0.3673325152
             ],
             "passed_time": 6.609460662,
             "remaining_time": 34.69966848,
             "test": [
              0.3679996274
             ]
            },
            {
             "iteration": 16,
             "learn": [
              0.3538748271
             ],
             "passed_time": 7.000560934,
             "remaining_time": 34.17920927,
             "test": [
              0.3548543492
             ]
            },
            {
             "iteration": 17,
             "learn": [
              0.3431694515
             ],
             "passed_time": 7.437400362,
             "remaining_time": 33.88149054,
             "test": [
              0.3422667598
             ]
            },
            {
             "iteration": 18,
             "learn": [
              0.3300852159
             ],
             "passed_time": 7.830954496,
             "remaining_time": 33.38459549,
             "test": [
              0.3302062424
             ]
            },
            {
             "iteration": 19,
             "learn": [
              0.3196734256
             ],
             "passed_time": 8.234283467,
             "remaining_time": 32.93713387,
             "test": [
              0.3186448075
             ]
            },
            {
             "iteration": 20,
             "learn": [
              0.3069699757
             ],
             "passed_time": 8.706284646,
             "remaining_time": 32.75221367,
             "test": [
              0.3075562722
             ]
            },
            {
             "iteration": 21,
             "learn": [
              0.296881177
             ],
             "passed_time": 9.114140069,
             "remaining_time": 32.31376934,
             "test": [
              0.2969155677
             ]
            },
            {
             "iteration": 22,
             "learn": [
              0.2867678549
             ],
             "passed_time": 9.572390325,
             "remaining_time": 32.04669805,
             "test": [
              0.2867009564
             ]
            },
            {
             "iteration": 23,
             "learn": [
              0.2765025993
             ],
             "passed_time": 9.992792632,
             "remaining_time": 31.64384333,
             "test": [
              0.2768895515
             ]
            },
            {
             "iteration": 24,
             "learn": [
              0.2664431231
             ],
             "passed_time": 10.36204641,
             "remaining_time": 31.08613922,
             "test": [
              0.2674624988
             ]
            },
            {
             "iteration": 25,
             "learn": [
              0.2579789842
             ],
             "passed_time": 10.72782622,
             "remaining_time": 30.53304385,
             "test": [
              0.2584006723
             ]
            },
            {
             "iteration": 26,
             "learn": [
              0.2499626441
             ],
             "passed_time": 11.17401517,
             "remaining_time": 30.21122621,
             "test": [
              0.2496890746
             ]
            },
            {
             "iteration": 27,
             "learn": [
              0.2419720046
             ],
             "passed_time": 11.54170131,
             "remaining_time": 29.67866052,
             "test": [
              0.2413089685
             ]
            },
            {
             "iteration": 28,
             "learn": [
              0.2336775828
             ],
             "passed_time": 11.92034107,
             "remaining_time": 29.18428332,
             "test": [
              0.2332442924
             ]
            },
            {
             "iteration": 29,
             "learn": [
              0.2258446345
             ],
             "passed_time": 12.34693417,
             "remaining_time": 28.80951307,
             "test": [
              0.2254816729
             ]
            },
            {
             "iteration": 30,
             "learn": [
              0.2185226478
             ],
             "passed_time": 12.78604407,
             "remaining_time": 28.45925937,
             "test": [
              0.2180080235
             ]
            },
            {
             "iteration": 31,
             "learn": [
              0.2109298895
             ],
             "passed_time": 13.26664565,
             "remaining_time": 28.191622,
             "test": [
              0.2108097829
             ]
            },
            {
             "iteration": 32,
             "learn": [
              0.2033494559
             ],
             "passed_time": 13.71301196,
             "remaining_time": 27.84156974,
             "test": [
              0.2038750746
             ]
            },
            {
             "iteration": 33,
             "learn": [
              0.1964212528
             ],
             "passed_time": 14.13184152,
             "remaining_time": 27.43239825,
             "test": [
              0.1971924246
             ]
            },
            {
             "iteration": 34,
             "learn": [
              0.1911687862
             ],
             "passed_time": 14.58654101,
             "remaining_time": 27.08929045,
             "test": [
              0.1907509847
             ]
            },
            {
             "iteration": 35,
             "learn": [
              0.1838971895
             ],
             "passed_time": 14.97404812,
             "remaining_time": 26.62052998,
             "test": [
              0.1845424465
             ]
            },
            {
             "iteration": 36,
             "learn": [
              0.1787563987
             ],
             "passed_time": 15.4348791,
             "remaining_time": 26.28101035,
             "test": [
              0.1785538851
             ]
            },
            {
             "iteration": 37,
             "learn": [
              0.1721857322
             ],
             "passed_time": 15.83145122,
             "remaining_time": 25.83026252,
             "test": [
              0.1727774466
             ]
            },
            {
             "iteration": 38,
             "learn": [
              0.1676662049
             ],
             "passed_time": 16.33677014,
             "remaining_time": 25.55238406,
             "test": [
              0.167205032
             ]
            },
            {
             "iteration": 39,
             "learn": [
              0.161422183
             ],
             "passed_time": 16.70678028,
             "remaining_time": 25.06017042,
             "test": [
              0.1618268681
             ]
            },
            {
             "iteration": 40,
             "learn": [
              0.1563262026
             ],
             "passed_time": 17.13241394,
             "remaining_time": 24.65396153,
             "test": [
              0.1566363048
             ]
            },
            {
             "iteration": 41,
             "learn": [
              0.1520146202
             ],
             "passed_time": 17.63357377,
             "remaining_time": 24.35112568,
             "test": [
              0.1516262227
             ]
            },
            {
             "iteration": 42,
             "learn": [
              0.1470007875
             ],
             "passed_time": 17.96063701,
             "remaining_time": 23.80828627,
             "test": [
              0.1467883627
             ]
            },
            {
             "iteration": 43,
             "learn": [
              0.141863629
             ],
             "passed_time": 18.36870151,
             "remaining_time": 23.37834737,
             "test": [
              0.1421166898
             ]
            },
            {
             "iteration": 44,
             "learn": [
              0.1371035064
             ],
             "passed_time": 18.75836323,
             "remaining_time": 22.92688839,
             "test": [
              0.1376043849
             ]
            },
            {
             "iteration": 45,
             "learn": [
              0.1329058507
             ],
             "passed_time": 19.16041593,
             "remaining_time": 22.49266218,
             "test": [
              0.1332456793
             ]
            },
            {
             "iteration": 46,
             "learn": [
              0.1289167669
             ],
             "passed_time": 19.71617125,
             "remaining_time": 22.23312928,
             "test": [
              0.12903502
             ]
            },
            {
             "iteration": 47,
             "learn": [
              0.1249900347
             ],
             "passed_time": 20.27754316,
             "remaining_time": 21.96733843,
             "test": [
              0.1249651548
             ]
            },
            {
             "iteration": 48,
             "learn": [
              0.1210811994
             ],
             "passed_time": 20.89894405,
             "remaining_time": 21.75196217,
             "test": [
              0.1210319574
             ]
            },
            {
             "iteration": 49,
             "learn": [
              0.1171937406
             ],
             "passed_time": 21.33894699,
             "remaining_time": 21.33894699,
             "test": [
              0.1172305639
             ]
            },
            {
             "iteration": 50,
             "learn": [
              0.1133176305
             ],
             "passed_time": 21.70063331,
             "remaining_time": 20.84962808,
             "test": [
              0.1135553365
             ]
            },
            {
             "iteration": 51,
             "learn": [
              0.10975402
             ],
             "passed_time": 22.13881228,
             "remaining_time": 20.43582672,
             "test": [
              0.1100020042
             ]
            },
            {
             "iteration": 52,
             "learn": [
              0.106926121
             ],
             "passed_time": 22.50898196,
             "remaining_time": 19.96079532,
             "test": [
              0.106566144
             ]
            },
            {
             "iteration": 53,
             "learn": [
              0.1034041759
             ],
             "passed_time": 22.88672405,
             "remaining_time": 19.49609826,
             "test": [
              0.1032433917
             ]
            },
            {
             "iteration": 54,
             "learn": [
              0.09972940969
             ],
             "passed_time": 23.34868216,
             "remaining_time": 19.10346722,
             "test": [
              0.1000299052
             ]
            },
            {
             "iteration": 55,
             "learn": [
              0.09713690008
             ],
             "passed_time": 23.74819422,
             "remaining_time": 18.65929546,
             "test": [
              0.09692250634
             ]
            },
            {
             "iteration": 56,
             "learn": [
              0.09376556687
             ],
             "passed_time": 24.23888311,
             "remaining_time": 18.28547322,
             "test": [
              0.09391583207
             ]
            },
            {
             "iteration": 57,
             "learn": [
              0.09122251772
             ],
             "passed_time": 24.67354792,
             "remaining_time": 17.86705194,
             "test": [
              0.09100651705
             ]
            },
            {
             "iteration": 58,
             "learn": [
              0.08794053249
             ],
             "passed_time": 25.05825369,
             "remaining_time": 17.41336274,
             "test": [
              0.08819137108
             ]
            },
            {
             "iteration": 59,
             "learn": [
              0.08546993662
             ],
             "passed_time": 25.44633455,
             "remaining_time": 16.96422303,
             "test": [
              0.08546705236
             ]
            },
            {
             "iteration": 60,
             "learn": [
              0.08257307492
             ],
             "passed_time": 25.89325117,
             "remaining_time": 16.55470157,
             "test": [
              0.0828308394
             ]
            },
            {
             "iteration": 61,
             "learn": [
              0.08010084795
             ],
             "passed_time": 26.38670342,
             "remaining_time": 16.17249564,
             "test": [
              0.08027920638
             ]
            },
            {
             "iteration": 62,
             "learn": [
              0.07797058437
             ],
             "passed_time": 26.80935793,
             "remaining_time": 15.74517847,
             "test": [
              0.0778095718
             ]
            },
            {
             "iteration": 63,
             "learn": [
              0.07548814587
             ],
             "passed_time": 27.21495296,
             "remaining_time": 15.30841104,
             "test": [
              0.0754187961
             ]
            },
            {
             "iteration": 64,
             "learn": [
              0.0729485096
             ],
             "passed_time": 27.61681681,
             "remaining_time": 14.87059367,
             "test": [
              0.07310503965
             ]
            },
            {
             "iteration": 65,
             "learn": [
              0.07053177564
             ],
             "passed_time": 28.07312977,
             "remaining_time": 14.46191534,
             "test": [
              0.07086457825
             ]
            },
            {
             "iteration": 66,
             "learn": [
              0.06844087422
             ],
             "passed_time": 28.51558156,
             "remaining_time": 14.04498793,
             "test": [
              0.06869476382
             ]
            },
            {
             "iteration": 67,
             "learn": [
              0.06643112464
             ],
             "passed_time": 28.95604743,
             "remaining_time": 13.62637526,
             "test": [
              0.06659405661
             ]
            },
            {
             "iteration": 68,
             "learn": [
              0.06446575578
             ],
             "passed_time": 29.31394762,
             "remaining_time": 13.17003444,
             "test": [
              0.0645595337
             ]
            },
            {
             "iteration": 69,
             "learn": [
              0.06251212985
             ],
             "passed_time": 29.73454818,
             "remaining_time": 12.74337779,
             "test": [
              0.0625899126
             ]
            },
            {
             "iteration": 70,
             "learn": [
              0.06056296587
             ],
             "passed_time": 30.06852355,
             "remaining_time": 12.28150962,
             "test": [
              0.06068179432
             ]
            },
            {
             "iteration": 71,
             "learn": [
              0.05865226684
             ],
             "passed_time": 30.42431532,
             "remaining_time": 11.83167818,
             "test": [
              0.05883343977
             ]
            },
            {
             "iteration": 72,
             "learn": [
              0.05684118485
             ],
             "passed_time": 30.80508414,
             "remaining_time": 11.39366126,
             "test": [
              0.05704329547
             ]
            },
            {
             "iteration": 73,
             "learn": [
              0.05543099232
             ],
             "passed_time": 31.21117054,
             "remaining_time": 10.96608695,
             "test": [
              0.05530877393
             ]
            },
            {
             "iteration": 74,
             "learn": [
              0.05367320418
             ],
             "passed_time": 31.66844133,
             "remaining_time": 10.55614711,
             "test": [
              0.05362875347
             ]
            },
            {
             "iteration": 75,
             "learn": [
              0.05182401402
             ],
             "passed_time": 32.11943239,
             "remaining_time": 10.14297865,
             "test": [
              0.05200137323
             ]
            },
            {
             "iteration": 76,
             "learn": [
              0.0505304853
             ],
             "passed_time": 32.54366335,
             "remaining_time": 9.720834506,
             "test": [
              0.05042485566
             ]
            },
            {
             "iteration": 77,
             "learn": [
              0.04884022194
             ],
             "passed_time": 33.03963428,
             "remaining_time": 9.318871208,
             "test": [
              0.04889713314
             ]
            },
            {
             "iteration": 78,
             "learn": [
              0.04720844365
             ],
             "passed_time": 33.45353694,
             "remaining_time": 8.892712351,
             "test": [
              0.0474168361
             ]
            },
            {
             "iteration": 79,
             "learn": [
              0.0459116492
             ],
             "passed_time": 33.84490546,
             "remaining_time": 8.461226366,
             "test": [
              0.04598248151
             ]
            },
            {
             "iteration": 80,
             "learn": [
              0.04464866228
             ],
             "passed_time": 34.24049938,
             "remaining_time": 8.031722077,
             "test": [
              0.04459268509
             ]
            },
            {
             "iteration": 81,
             "learn": [
              0.04306120894
             ],
             "passed_time": 34.60850588,
             "remaining_time": 7.596989096,
             "test": [
              0.04324552492
             ]
            },
            {
             "iteration": 82,
             "learn": [
              0.04195372763
             ],
             "passed_time": 34.97140556,
             "remaining_time": 7.162818006,
             "test": [
              0.04193995954
             ]
            },
            {
             "iteration": 83,
             "learn": [
              0.04071430787
             ],
             "passed_time": 35.33413156,
             "remaining_time": 6.730310774,
             "test": [
              0.04067452559
             ]
            },
            {
             "iteration": 84,
             "learn": [
              0.03934799554
             ],
             "passed_time": 35.70338055,
             "remaining_time": 6.300596567,
             "test": [
              0.03944810075
             ]
            },
            {
             "iteration": 85,
             "learn": [
              0.03812529725
             ],
             "passed_time": 36.08951949,
             "remaining_time": 5.875038057,
             "test": [
              0.03825932246
             ]
            },
            {
             "iteration": 86,
             "learn": [
              0.03710677864
             ],
             "passed_time": 36.58090641,
             "remaining_time": 5.466112452,
             "test": [
              0.03710745757
             ]
            },
            {
             "iteration": 87,
             "learn": [
              0.03605572658
             ],
             "passed_time": 36.92435702,
             "remaining_time": 5.035139594,
             "test": [
              0.03599069895
             ]
            },
            {
             "iteration": 88,
             "learn": [
              0.03486689833
             ],
             "passed_time": 37.41346891,
             "remaining_time": 4.624136607,
             "test": [
              0.03490877243
             ]
            },
            {
             "iteration": 89,
             "learn": [
              0.03382325301
             ],
             "passed_time": 37.81776643,
             "remaining_time": 4.201974048,
             "test": [
              0.0338595887
             ]
            },
            {
             "iteration": 90,
             "learn": [
              0.03281883731
             ],
             "passed_time": 38.26644495,
             "remaining_time": 3.784593456,
             "test": [
              0.03284273146
             ]
            },
            {
             "iteration": 91,
             "learn": [
              0.03182789509
             ],
             "passed_time": 38.64685989,
             "remaining_time": 3.360596512,
             "test": [
              0.03185654493
             ]
            },
            {
             "iteration": 92,
             "learn": [
              0.03085135135
             ],
             "passed_time": 39.08015442,
             "remaining_time": 2.941516999,
             "test": [
              0.03090085743
             ]
            },
            {
             "iteration": 93,
             "learn": [
              0.02990347487
             ],
             "passed_time": 39.50130505,
             "remaining_time": 2.521359897,
             "test": [
              0.02997402696
             ]
            },
            {
             "iteration": 94,
             "learn": [
              0.02897004204
             ],
             "passed_time": 39.96516822,
             "remaining_time": 2.103429906,
             "test": [
              0.02907567784
             ]
            },
            {
             "iteration": 95,
             "learn": [
              0.02823737346
             ],
             "passed_time": 40.42139356,
             "remaining_time": 1.684224732,
             "test": [
              0.02820448834
             ]
            },
            {
             "iteration": 96,
             "learn": [
              0.02735179865
             ],
             "passed_time": 40.87375765,
             "remaining_time": 1.264136834,
             "test": [
              0.02735983241
             ]
            },
            {
             "iteration": 97,
             "learn": [
              0.02642825726
             ],
             "passed_time": 41.30020422,
             "remaining_time": 0.8428613107,
             "test": [
              0.02654214461
             ]
            },
            {
             "iteration": 98,
             "learn": [
              0.02577590227
             ],
             "passed_time": 41.73692311,
             "remaining_time": 0.4215850819,
             "test": [
              0.02574825037
             ]
            },
            {
             "iteration": 99,
             "learn": [
              0.02492040879
             ],
             "passed_time": 42.1156549,
             "remaining_time": 0,
             "test": [
              0.0249780536
             ]
            }
           ],
           "meta": {
            "iteration_count": 100,
            "launch_mode": "Train",
            "learn_metrics": [
             {
              "best_value": "Min",
              "name": "CrossEntropy"
             }
            ],
            "learn_sets": [
             "learn"
            ],
            "name": "experiment",
            "parameters": "",
            "test_metrics": [
             {
              "best_value": "Min",
              "name": "CrossEntropy"
             }
            ],
            "test_sets": [
             "test"
            ]
           }
          },
          "passed_iterations": 99,
          "total_iterations": 100
         },
         "name": "catboost_info",
         "path": "catboost_info"
        }
       },
       "layout": "IPY_MODEL_c77a2bc6690246319a0ecfbf63747876"
      }
     },
     "8f1780341f8a4a83bbae69d014bf64b1": {
      "model_module": "catboost-widget",
      "model_module_version": "^1.0.0",
      "model_name": "CatboostWidgetModel",
      "state": {
       "_dom_classes": [],
       "_model_module": "catboost-widget",
       "_model_module_version": "^1.0.0",
       "_model_name": "CatboostWidgetModel",
       "_view_count": null,
       "_view_module": "catboost-widget",
       "_view_module_version": "^1.0.0",
       "_view_name": "CatboostWidgetView",
       "data": {
        "catboost_info": {
         "content": {
          "data": {
           "iterations": [
            {
             "iteration": 0,
             "learn": [
              0.669052667
             ],
             "passed_time": 0.4359052154,
             "remaining_time": 43.15461632,
             "test": [
              0.6688947036
             ]
            },
            {
             "iteration": 1,
             "learn": [
              0.6463682083
             ],
             "passed_time": 0.8695545718,
             "remaining_time": 42.60817402,
             "test": [
              0.6459441436
             ]
            },
            {
             "iteration": 2,
             "learn": [
              0.6252352173
             ],
             "passed_time": 1.323597091,
             "remaining_time": 42.79630595,
             "test": [
              0.6244267074
             ]
            },
            {
             "iteration": 3,
             "learn": [
              0.6048193231
             ],
             "passed_time": 1.77992827,
             "remaining_time": 42.71827849,
             "test": [
              0.6040747674
             ]
            },
            {
             "iteration": 4,
             "learn": [
              0.5852955291
             ],
             "passed_time": 2.140329518,
             "remaining_time": 40.66626084,
             "test": [
              0.5839974053
             ]
            },
            {
             "iteration": 5,
             "learn": [
              0.566820862
             ],
             "passed_time": 2.558422904,
             "remaining_time": 40.08195882,
             "test": [
              0.5655231805
             ]
            },
            {
             "iteration": 6,
             "learn": [
              0.5489053278
             ],
             "passed_time": 2.984274827,
             "remaining_time": 39.6482227,
             "test": [
              0.5481223615
             ]
            },
            {
             "iteration": 7,
             "learn": [
              0.5318051713
             ],
             "passed_time": 3.344980398,
             "remaining_time": 38.46727457,
             "test": [
              0.5304257317
             ]
            },
            {
             "iteration": 8,
             "learn": [
              0.5151235652
             ],
             "passed_time": 3.704418425,
             "remaining_time": 37.45578629,
             "test": [
              0.5135533781
             ]
            },
            {
             "iteration": 9,
             "learn": [
              0.4991915206
             ],
             "passed_time": 4.066035687,
             "remaining_time": 36.59432119,
             "test": [
              0.497857771
             ]
            },
            {
             "iteration": 10,
             "learn": [
              0.4846494873
             ],
             "passed_time": 4.534557504,
             "remaining_time": 36.68869253,
             "test": [
              0.4834259518
             ]
            },
            {
             "iteration": 11,
             "learn": [
              0.4709180473
             ],
             "passed_time": 4.966079463,
             "remaining_time": 36.41791606,
             "test": [
              0.4695041562
             ]
            },
            {
             "iteration": 12,
             "learn": [
              0.4569360052
             ],
             "passed_time": 5.337452524,
             "remaining_time": 35.71987458,
             "test": [
              0.4554458157
             ]
            },
            {
             "iteration": 13,
             "learn": [
              0.4445776815
             ],
             "passed_time": 5.797232875,
             "remaining_time": 35.61157337,
             "test": [
              0.4429663839
             ]
            },
            {
             "iteration": 14,
             "learn": [
              0.432842775
             ],
             "passed_time": 6.263482053,
             "remaining_time": 35.49306497,
             "test": [
              0.4308242995
             ]
            },
            {
             "iteration": 15,
             "learn": [
              0.4206262895
             ],
             "passed_time": 6.627203883,
             "remaining_time": 34.79282039,
             "test": [
              0.4186848226
             ]
            },
            {
             "iteration": 16,
             "learn": [
              0.4093687283
             ],
             "passed_time": 7.051743107,
             "remaining_time": 34.4290987,
             "test": [
              0.4073181463
             ]
            },
            {
             "iteration": 17,
             "learn": [
              0.3982265722
             ],
             "passed_time": 7.461336879,
             "remaining_time": 33.99053467,
             "test": [
              0.396334439
             ]
            },
            {
             "iteration": 18,
             "learn": [
              0.3883202386
             ],
             "passed_time": 7.934136101,
             "remaining_time": 33.82447496,
             "test": [
              0.3860478823
             ]
            },
            {
             "iteration": 19,
             "learn": [
              0.3784015783
             ],
             "passed_time": 8.377485948,
             "remaining_time": 33.50994379,
             "test": [
              0.3759246794
             ]
            },
            {
             "iteration": 20,
             "learn": [
              0.3684324174
             ],
             "passed_time": 8.736662532,
             "remaining_time": 32.86649238,
             "test": [
              0.3655799511
             ]
            },
            {
             "iteration": 21,
             "learn": [
              0.3589366147
             ],
             "passed_time": 9.099096614,
             "remaining_time": 32.26043345,
             "test": [
              0.3560723164
             ]
            },
            {
             "iteration": 22,
             "learn": [
              0.3495535657
             ],
             "passed_time": 9.460678396,
             "remaining_time": 31.67270593,
             "test": [
              0.3469575778
             ]
            },
            {
             "iteration": 23,
             "learn": [
              0.3412414652
             ],
             "passed_time": 9.804453654,
             "remaining_time": 31.04743657,
             "test": [
              0.3383630541
             ]
            },
            {
             "iteration": 24,
             "learn": [
              0.3325707673
             ],
             "passed_time": 10.21678032,
             "remaining_time": 30.65034096,
             "test": [
              0.3300375749
             ]
            },
            {
             "iteration": 25,
             "learn": [
              0.324068631
             ],
             "passed_time": 10.67416898,
             "remaining_time": 30.3803271,
             "test": [
              0.3211093423
             ]
            },
            {
             "iteration": 26,
             "learn": [
              0.316440452
             ],
             "passed_time": 11.03400053,
             "remaining_time": 29.83266811,
             "test": [
              0.3134326521
             ]
            },
            {
             "iteration": 27,
             "learn": [
              0.30829049
             ],
             "passed_time": 11.49845383,
             "remaining_time": 29.56745271,
             "test": [
              0.305252733
             ]
            },
            {
             "iteration": 28,
             "learn": [
              0.3011374205
             ],
             "passed_time": 11.86029059,
             "remaining_time": 29.03726317,
             "test": [
              0.298178577
             ]
            },
            {
             "iteration": 29,
             "learn": [
              0.2940979343
             ],
             "passed_time": 12.26070995,
             "remaining_time": 28.60832322,
             "test": [
              0.2909327111
             ]
            },
            {
             "iteration": 30,
             "learn": [
              0.2873903267
             ],
             "passed_time": 12.5963038,
             "remaining_time": 28.03693428,
             "test": [
              0.2841510298
             ]
            },
            {
             "iteration": 31,
             "learn": [
              0.2806844556
             ],
             "passed_time": 13.06144693,
             "remaining_time": 27.75557473,
             "test": [
              0.2774615831
             ]
            },
            {
             "iteration": 32,
             "learn": [
              0.2742148681
             ],
             "passed_time": 13.4315258,
             "remaining_time": 27.27006752,
             "test": [
              0.2710232226
             ]
            },
            {
             "iteration": 33,
             "learn": [
              0.267710055
             ],
             "passed_time": 13.89414993,
             "remaining_time": 26.97099693,
             "test": [
              0.2642329438
             ]
            },
            {
             "iteration": 34,
             "learn": [
              0.26189777
             ],
             "passed_time": 14.22501528,
             "remaining_time": 26.41788551,
             "test": [
              0.2582663655
             ]
            },
            {
             "iteration": 35,
             "learn": [
              0.2562545028
             ],
             "passed_time": 14.59453669,
             "remaining_time": 25.94584301,
             "test": [
              0.2524102679
             ]
            },
            {
             "iteration": 36,
             "learn": [
              0.2505168577
             ],
             "passed_time": 15.07701118,
             "remaining_time": 25.67166768,
             "test": [
              0.2466104851
             ]
            },
            {
             "iteration": 37,
             "learn": [
              0.2451383102
             ],
             "passed_time": 15.55588359,
             "remaining_time": 25.38065217,
             "test": [
              0.241084351
             ]
            },
            {
             "iteration": 38,
             "learn": [
              0.2399163417
             ],
             "passed_time": 15.88626768,
             "remaining_time": 24.84775201,
             "test": [
              0.2359416829
             ]
            },
            {
             "iteration": 39,
             "learn": [
              0.2348223397
             ],
             "passed_time": 16.2276522,
             "remaining_time": 24.3414783,
             "test": [
              0.2309096292
             ]
            },
            {
             "iteration": 40,
             "learn": [
              0.2299359331
             ],
             "passed_time": 16.73717554,
             "remaining_time": 24.08520382,
             "test": [
              0.2258791337
             ]
            },
            {
             "iteration": 41,
             "learn": [
              0.2249965812
             ],
             "passed_time": 17.18495771,
             "remaining_time": 23.73160826,
             "test": [
              0.220736017
             ]
            },
            {
             "iteration": 42,
             "learn": [
              0.2205313257
             ],
             "passed_time": 17.64986748,
             "remaining_time": 23.39633596,
             "test": [
              0.216099029
             ]
            },
            {
             "iteration": 43,
             "learn": [
              0.2160726336
             ],
             "passed_time": 18.1122933,
             "remaining_time": 23.05200966,
             "test": [
              0.2114450594
             ]
            },
            {
             "iteration": 44,
             "learn": [
              0.2116692785
             ],
             "passed_time": 18.49436396,
             "remaining_time": 22.60422262,
             "test": [
              0.2072065361
             ]
            },
            {
             "iteration": 45,
             "learn": [
              0.2074222868
             ],
             "passed_time": 18.83766966,
             "remaining_time": 22.11378612,
             "test": [
              0.2030854418
             ]
            },
            {
             "iteration": 46,
             "learn": [
              0.2028557109
             ],
             "passed_time": 19.33909804,
             "remaining_time": 21.80791907,
             "test": [
              0.1983473437
             ]
            },
            {
             "iteration": 47,
             "learn": [
              0.1990138581
             ],
             "passed_time": 19.70720254,
             "remaining_time": 21.34946942,
             "test": [
              0.1943726378
             ]
            },
            {
             "iteration": 48,
             "learn": [
              0.1948433717
             ],
             "passed_time": 20.20425747,
             "remaining_time": 21.02892104,
             "test": [
              0.1899286756
             ]
            },
            {
             "iteration": 49,
             "learn": [
              0.1910976119
             ],
             "passed_time": 20.55127334,
             "remaining_time": 20.55127334,
             "test": [
              0.1863510816
             ]
            },
            {
             "iteration": 50,
             "learn": [
              0.187399635
             ],
             "passed_time": 21.03225649,
             "remaining_time": 20.20746212,
             "test": [
              0.1825509904
             ]
            },
            {
             "iteration": 51,
             "learn": [
              0.1838059312
             ],
             "passed_time": 21.37716963,
             "remaining_time": 19.73277197,
             "test": [
              0.1792270886
             ]
            },
            {
             "iteration": 52,
             "learn": [
              0.1805762657
             ],
             "passed_time": 21.82894339,
             "remaining_time": 19.35774225,
             "test": [
              0.175757278
             ]
            },
            {
             "iteration": 53,
             "learn": [
              0.1775183429
             ],
             "passed_time": 22.28433652,
             "remaining_time": 18.98295333,
             "test": [
              0.172356104
             ]
            },
            {
             "iteration": 54,
             "learn": [
              0.1744203489
             ],
             "passed_time": 22.62730365,
             "remaining_time": 18.51324844,
             "test": [
              0.169576888
             ]
            },
            {
             "iteration": 55,
             "learn": [
              0.1711626991
             ],
             "passed_time": 23.11402547,
             "remaining_time": 18.16102002,
             "test": [
              0.1662199536
             ]
            },
            {
             "iteration": 56,
             "learn": [
              0.1684099284
             ],
             "passed_time": 23.4616215,
             "remaining_time": 17.69911797,
             "test": [
              0.1635491637
             ]
            },
            {
             "iteration": 57,
             "learn": [
              0.1651292527
             ],
             "passed_time": 23.94604081,
             "remaining_time": 17.34023645,
             "test": [
              0.1602567605
             ]
            },
            {
             "iteration": 58,
             "learn": [
              0.1619430203
             ],
             "passed_time": 24.44453471,
             "remaining_time": 16.98688005,
             "test": [
              0.1568127726
             ]
            },
            {
             "iteration": 59,
             "learn": [
              0.1590343185
             ],
             "passed_time": 24.97356674,
             "remaining_time": 16.6490445,
             "test": [
              0.1537926213
             ]
            },
            {
             "iteration": 60,
             "learn": [
              0.1563117718
             ],
             "passed_time": 25.47659615,
             "remaining_time": 16.28831557,
             "test": [
              0.1511149096
             ]
            },
            {
             "iteration": 61,
             "learn": [
              0.1533861924
             ],
             "passed_time": 26.05335317,
             "remaining_time": 15.9681842,
             "test": [
              0.1481910955
             ]
            },
            {
             "iteration": 62,
             "learn": [
              0.1507963581
             ],
             "passed_time": 26.55443429,
             "remaining_time": 15.59546141,
             "test": [
              0.1454351389
             ]
            },
            {
             "iteration": 63,
             "learn": [
              0.1482704691
             ],
             "passed_time": 26.89146769,
             "remaining_time": 15.12645058,
             "test": [
              0.1429878725
             ]
            },
            {
             "iteration": 64,
             "learn": [
              0.1455809238
             ],
             "passed_time": 27.36202598,
             "remaining_time": 14.73339861,
             "test": [
              0.1402330609
             ]
            },
            {
             "iteration": 65,
             "learn": [
              0.1428633849
             ],
             "passed_time": 27.81353916,
             "remaining_time": 14.32818684,
             "test": [
              0.1375407004
             ]
            },
            {
             "iteration": 66,
             "learn": [
              0.1399667231
             ],
             "passed_time": 28.31393432,
             "remaining_time": 13.94566914,
             "test": [
              0.1345489224
             ]
            },
            {
             "iteration": 67,
             "learn": [
              0.1377622295
             ],
             "passed_time": 28.72407718,
             "remaining_time": 13.51721279,
             "test": [
              0.1322007626
             ]
            },
            {
             "iteration": 68,
             "learn": [
              0.1351464553
             ],
             "passed_time": 29.12768513,
             "remaining_time": 13.08635129,
             "test": [
              0.1296349105
             ]
            },
            {
             "iteration": 69,
             "learn": [
              0.1328631157
             ],
             "passed_time": 29.54493021,
             "remaining_time": 12.66211295,
             "test": [
              0.1272288755
             ]
            },
            {
             "iteration": 70,
             "learn": [
              0.1304685755
             ],
             "passed_time": 29.93470143,
             "remaining_time": 12.22684988,
             "test": [
              0.1248489511
             ]
            },
            {
             "iteration": 71,
             "learn": [
              0.1282024479
             ],
             "passed_time": 30.38209798,
             "remaining_time": 11.81526033,
             "test": [
              0.122602196
             ]
            },
            {
             "iteration": 72,
             "learn": [
              0.1263881534
             ],
             "passed_time": 30.72017466,
             "remaining_time": 11.36225638,
             "test": [
              0.1209760848
             ]
            },
            {
             "iteration": 73,
             "learn": [
              0.123984191
             ],
             "passed_time": 31.22825565,
             "remaining_time": 10.97208982,
             "test": [
              0.118546418
             ]
            },
            {
             "iteration": 74,
             "learn": [
              0.1218727089
             ],
             "passed_time": 31.68091401,
             "remaining_time": 10.56030467,
             "test": [
              0.1164592733
             ]
            },
            {
             "iteration": 75,
             "learn": [
              0.1195991813
             ],
             "passed_time": 32.18941043,
             "remaining_time": 10.16507698,
             "test": [
              0.1141840078
             ]
            },
            {
             "iteration": 76,
             "learn": [
              0.1179815075
             ],
             "passed_time": 32.53565406,
             "remaining_time": 9.718442122,
             "test": [
              0.112790731
             ]
            },
            {
             "iteration": 77,
             "learn": [
              0.1156923551
             ],
             "passed_time": 33.03888341,
             "remaining_time": 9.318659423,
             "test": [
              0.1104371721
             ]
            },
            {
             "iteration": 78,
             "learn": [
              0.1136179042
             ],
             "passed_time": 33.55033986,
             "remaining_time": 8.918444772,
             "test": [
              0.1083454189
             ]
            },
            {
             "iteration": 79,
             "learn": [
              0.1115921642
             ],
             "passed_time": 33.98695339,
             "remaining_time": 8.496738347,
             "test": [
              0.1062080832
             ]
            },
            {
             "iteration": 80,
             "learn": [
              0.1097597014
             ],
             "passed_time": 34.43823897,
             "remaining_time": 8.078105437,
             "test": [
              0.1044006045
             ]
            },
            {
             "iteration": 81,
             "learn": [
              0.1083718535
             ],
             "passed_time": 34.83257581,
             "remaining_time": 7.646175178,
             "test": [
              0.1029685487
             ]
            },
            {
             "iteration": 82,
             "learn": [
              0.1068151898
             ],
             "passed_time": 35.24086576,
             "remaining_time": 7.218008649,
             "test": [
              0.1014334336
             ]
            },
            {
             "iteration": 83,
             "learn": [
              0.1054642267
             ],
             "passed_time": 35.59358918,
             "remaining_time": 6.779731273,
             "test": [
              0.1002422392
             ]
            },
            {
             "iteration": 84,
             "learn": [
              0.1037772821
             ],
             "passed_time": 35.95133958,
             "remaining_time": 6.344354044,
             "test": [
              0.0986062366
             ]
            },
            {
             "iteration": 85,
             "learn": [
              0.1023624855
             ],
             "passed_time": 36.33682687,
             "remaining_time": 5.915297398,
             "test": [
              0.09705788809
             ]
            },
            {
             "iteration": 86,
             "learn": [
              0.1005655361
             ],
             "passed_time": 36.75980373,
             "remaining_time": 5.492844235,
             "test": [
              0.09531657323
             ]
            },
            {
             "iteration": 87,
             "learn": [
              0.09911806692
             ],
             "passed_time": 37.09775966,
             "remaining_time": 5.058785409,
             "test": [
              0.09391456796
             ]
            },
            {
             "iteration": 88,
             "learn": [
              0.09779005323
             ],
             "passed_time": 37.48833038,
             "remaining_time": 4.633389149,
             "test": [
              0.09252314195
             ]
            },
            {
             "iteration": 89,
             "learn": [
              0.09626510408
             ],
             "passed_time": 37.92353956,
             "remaining_time": 4.213726618,
             "test": [
              0.09087456162
             ]
            },
            {
             "iteration": 90,
             "learn": [
              0.09475000408
             ],
             "passed_time": 38.41809109,
             "remaining_time": 3.799591427,
             "test": [
              0.08926007595
             ]
            },
            {
             "iteration": 91,
             "learn": [
              0.0930826001
             ],
             "passed_time": 38.84805946,
             "remaining_time": 3.378092127,
             "test": [
              0.0875635845
             ]
            },
            {
             "iteration": 92,
             "learn": [
              0.09197731932
             ],
             "passed_time": 39.17785553,
             "remaining_time": 2.948870846,
             "test": [
              0.08652809351
             ]
            },
            {
             "iteration": 93,
             "learn": [
              0.09081827755
             ],
             "passed_time": 39.58706669,
             "remaining_time": 2.526834044,
             "test": [
              0.08525708082
             ]
            },
            {
             "iteration": 94,
             "learn": [
              0.0892652449
             ],
             "passed_time": 40.01780629,
             "remaining_time": 2.106200331,
             "test": [
              0.08368626184
             ]
            },
            {
             "iteration": 95,
             "learn": [
              0.0882044619
             ],
             "passed_time": 40.38597647,
             "remaining_time": 1.682749019,
             "test": [
              0.08273463799
             ]
            },
            {
             "iteration": 96,
             "learn": [
              0.08670885727
             ],
             "passed_time": 40.90974296,
             "remaining_time": 1.265249782,
             "test": [
              0.0812057039
             ]
            },
            {
             "iteration": 97,
             "learn": [
              0.0852978568
             ],
             "passed_time": 41.41720544,
             "remaining_time": 0.8452490905,
             "test": [
              0.07970194754
             ]
            },
            {
             "iteration": 98,
             "learn": [
              0.08396677566
             ],
             "passed_time": 41.85371279,
             "remaining_time": 0.4227647756,
             "test": [
              0.07829926575
             ]
            },
            {
             "iteration": 99,
             "learn": [
              0.08289117385
             ],
             "passed_time": 42.20417686,
             "remaining_time": 0,
             "test": [
              0.07734673771
             ]
            }
           ],
           "meta": {
            "iteration_count": 100,
            "launch_mode": "Train",
            "learn_metrics": [
             {
              "best_value": "Min",
              "name": "CrossEntropy"
             }
            ],
            "learn_sets": [
             "learn"
            ],
            "name": "experiment",
            "parameters": "",
            "test_metrics": [
             {
              "best_value": "Min",
              "name": "CrossEntropy"
             }
            ],
            "test_sets": [
             "test"
            ]
           }
          },
          "passed_iterations": 99,
          "total_iterations": 100
         },
         "name": "catboost_info",
         "path": "catboost_info"
        }
       },
       "layout": "IPY_MODEL_76c2dcca51ec4f13b25ea12fe7ee3e0e"
      }
     },
     "9211323204b14bb4a0c3af59f1b255b5": {
      "model_module": "@jupyter-widgets/base",
      "model_module_version": "1.2.0",
      "model_name": "LayoutModel",
      "state": {
       "_model_module": "@jupyter-widgets/base",
       "_model_module_version": "1.2.0",
       "_model_name": "LayoutModel",
       "_view_count": null,
       "_view_module": "@jupyter-widgets/base",
       "_view_module_version": "1.2.0",
       "_view_name": "LayoutView",
       "align_content": null,
       "align_items": null,
       "align_self": "stretch",
       "border": null,
       "bottom": null,
       "display": null,
       "flex": null,
       "flex_flow": null,
       "grid_area": null,
       "grid_auto_columns": null,
       "grid_auto_flow": null,
       "grid_auto_rows": null,
       "grid_column": null,
       "grid_gap": null,
       "grid_row": null,
       "grid_template_areas": null,
       "grid_template_columns": null,
       "grid_template_rows": null,
       "height": "500px",
       "justify_content": null,
       "justify_items": null,
       "left": null,
       "margin": null,
       "max_height": null,
       "max_width": null,
       "min_height": null,
       "min_width": null,
       "object_fit": null,
       "object_position": null,
       "order": null,
       "overflow": null,
       "overflow_x": null,
       "overflow_y": null,
       "padding": null,
       "right": null,
       "top": null,
       "visibility": null,
       "width": null
      }
     },
     "92cbc2e2a56c498c9033a95987a99c30": {
      "model_module": "@jupyter-widgets/base",
      "model_module_version": "1.2.0",
      "model_name": "LayoutModel",
      "state": {
       "_model_module": "@jupyter-widgets/base",
       "_model_module_version": "1.2.0",
       "_model_name": "LayoutModel",
       "_view_count": null,
       "_view_module": "@jupyter-widgets/base",
       "_view_module_version": "1.2.0",
       "_view_name": "LayoutView",
       "align_content": null,
       "align_items": null,
       "align_self": "stretch",
       "border": null,
       "bottom": null,
       "display": null,
       "flex": null,
       "flex_flow": null,
       "grid_area": null,
       "grid_auto_columns": null,
       "grid_auto_flow": null,
       "grid_auto_rows": null,
       "grid_column": null,
       "grid_gap": null,
       "grid_row": null,
       "grid_template_areas": null,
       "grid_template_columns": null,
       "grid_template_rows": null,
       "height": "500px",
       "justify_content": null,
       "justify_items": null,
       "left": null,
       "margin": null,
       "max_height": null,
       "max_width": null,
       "min_height": null,
       "min_width": null,
       "object_fit": null,
       "object_position": null,
       "order": null,
       "overflow": null,
       "overflow_x": null,
       "overflow_y": null,
       "padding": null,
       "right": null,
       "top": null,
       "visibility": null,
       "width": null
      }
     },
     "963580e66caa4fa28a8c598a9c2c210c": {
      "model_module": "catboost-widget",
      "model_module_version": "^1.0.0",
      "model_name": "CatboostWidgetModel",
      "state": {
       "_dom_classes": [],
       "_model_module": "catboost-widget",
       "_model_module_version": "^1.0.0",
       "_model_name": "CatboostWidgetModel",
       "_view_count": null,
       "_view_module": "catboost-widget",
       "_view_module_version": "^1.0.0",
       "_view_name": "CatboostWidgetView",
       "data": {
        "catboost_info": {
         "content": {
          "data": {
           "iterations": [
            {
             "iteration": 0,
             "learn": [
              0.6613787453
             ],
             "passed_time": 0.4171564237,
             "remaining_time": 41.29848595,
             "test": [
              0.6636015313
             ]
            },
            {
             "iteration": 1,
             "learn": [
              0.6362981355
             ],
             "passed_time": 0.8329740416,
             "remaining_time": 40.81572804,
             "test": [
              0.6357743736
             ]
            },
            {
             "iteration": 2,
             "learn": [
              0.6093776154
             ],
             "passed_time": 1.217211232,
             "remaining_time": 39.35649651,
             "test": [
              0.6095217363
             ]
            },
            {
             "iteration": 3,
             "learn": [
              0.5837171886
             ],
             "passed_time": 1.622170796,
             "remaining_time": 38.93209911,
             "test": [
              0.584714661
             ]
            },
            {
             "iteration": 4,
             "learn": [
              0.5621933963
             ],
             "passed_time": 2.02074914,
             "remaining_time": 38.39423365,
             "test": [
              0.5612390262
             ]
            },
            {
             "iteration": 5,
             "learn": [
              0.5376674088
             ],
             "passed_time": 2.435180718,
             "remaining_time": 38.15116458,
             "test": [
              0.5389939601
             ]
            },
            {
             "iteration": 6,
             "learn": [
              0.5168842401
             ],
             "passed_time": 2.847639456,
             "remaining_time": 37.8329242,
             "test": [
              0.5178880124
             ]
            },
            {
             "iteration": 7,
             "learn": [
              0.4986879402
             ],
             "passed_time": 3.222770869,
             "remaining_time": 37.061865,
             "test": [
              0.4978401319
             ]
            },
            {
             "iteration": 8,
             "learn": [
              0.4785291358
             ],
             "passed_time": 3.694293627,
             "remaining_time": 37.35341333,
             "test": [
              0.478776678
             ]
            },
            {
             "iteration": 9,
             "learn": [
              0.4605840973
             ],
             "passed_time": 4.086683314,
             "remaining_time": 36.78014982,
             "test": [
              0.4606313776
             ]
            },
            {
             "iteration": 10,
             "learn": [
              0.4438480268
             ],
             "passed_time": 4.481155231,
             "remaining_time": 36.2566196,
             "test": [
              0.443344728
             ]
            },
            {
             "iteration": 11,
             "learn": [
              0.4280564113
             ],
             "passed_time": 4.934813665,
             "remaining_time": 36.18863354,
             "test": [
              0.4268590643
             ]
            },
            {
             "iteration": 12,
             "learn": [
              0.412135928
             ],
             "passed_time": 5.414204715,
             "remaining_time": 36.23352386,
             "test": [
              0.4111262176
             ]
            },
            {
             "iteration": 13,
             "learn": [
              0.3967827949
             ],
             "passed_time": 5.783828523,
             "remaining_time": 35.52923236,
             "test": [
              0.3961001455
             ]
            },
            {
             "iteration": 14,
             "learn": [
              0.3824016043
             ],
             "passed_time": 6.21729176,
             "remaining_time": 35.23131998,
             "test": [
              0.3817387513
             ]
            },
            {
             "iteration": 15,
             "learn": [
              0.3673393696
             ],
             "passed_time": 6.661330023,
             "remaining_time": 34.97198262,
             "test": [
              0.3680029728
             ]
            },
            {
             "iteration": 16,
             "learn": [
              0.3538816
             ],
             "passed_time": 7.05304875,
             "remaining_time": 34.43547331,
             "test": [
              0.3548581478
             ]
            },
            {
             "iteration": 17,
             "learn": [
              0.343177004
             ],
             "passed_time": 7.488417935,
             "remaining_time": 34.11390393,
             "test": [
              0.3422706471
             ]
            },
            {
             "iteration": 18,
             "learn": [
              0.3300930158
             ],
             "passed_time": 7.88382025,
             "remaining_time": 33.60997054,
             "test": [
              0.3302103282
             ]
            },
            {
             "iteration": 19,
             "learn": [
              0.3196805596
             ],
             "passed_time": 8.29393879,
             "remaining_time": 33.17575516,
             "test": [
              0.3186486927
             ]
            },
            {
             "iteration": 20,
             "learn": [
              0.3069825027
             ],
             "passed_time": 8.76533181,
             "remaining_time": 32.97434348,
             "test": [
              0.3075603606
             ]
            },
            {
             "iteration": 21,
             "learn": [
              0.2968888195
             ],
             "passed_time": 9.176475596,
             "remaining_time": 32.53477711,
             "test": [
              0.296919707
             ]
            },
            {
             "iteration": 22,
             "learn": [
              0.2867763958
             ],
             "passed_time": 9.635409528,
             "remaining_time": 32.25767538,
             "test": [
              0.2867045385
             ]
            },
            {
             "iteration": 23,
             "learn": [
              0.2765119466
             ],
             "passed_time": 10.06021834,
             "remaining_time": 31.85735809,
             "test": [
              0.2768932597
             ]
            },
            {
             "iteration": 24,
             "learn": [
              0.2664521335
             ],
             "passed_time": 10.43318687,
             "remaining_time": 31.2995606,
             "test": [
              0.267466092
             ]
            },
            {
             "iteration": 25,
             "learn": [
              0.2579884463
             ],
             "passed_time": 10.81521934,
             "remaining_time": 30.78177813,
             "test": [
              0.2584044247
             ]
            },
            {
             "iteration": 26,
             "learn": [
              0.2499718089
             ],
             "passed_time": 11.30167419,
             "remaining_time": 30.55637837,
             "test": [
              0.2496917003
             ]
            },
            {
             "iteration": 27,
             "learn": [
              0.241981503
             ],
             "passed_time": 11.67003427,
             "remaining_time": 30.00865956,
             "test": [
              0.2413108864
             ]
            },
            {
             "iteration": 28,
             "learn": [
              0.2336872441
             ],
             "passed_time": 12.04894743,
             "remaining_time": 29.49914716,
             "test": [
              0.2332463105
             ]
            },
            {
             "iteration": 29,
             "learn": [
              0.2258543469
             ],
             "passed_time": 12.47556964,
             "remaining_time": 29.10966248,
             "test": [
              0.225483696
             ]
            },
            {
             "iteration": 30,
             "learn": [
              0.2185334497
             ],
             "passed_time": 12.91491531,
             "remaining_time": 28.74610181,
             "test": [
              0.2180101129
             ]
            },
            {
             "iteration": 31,
             "learn": [
              0.2109405653
             ],
             "passed_time": 13.39557288,
             "remaining_time": 28.46559238,
             "test": [
              0.2108120769
             ]
            },
            {
             "iteration": 32,
             "learn": [
              0.2033602948
             ],
             "passed_time": 13.84195177,
             "remaining_time": 28.10335663,
             "test": [
              0.2038775715
             ]
            },
            {
             "iteration": 33,
             "learn": [
              0.1964354287
             ],
             "passed_time": 14.26337117,
             "remaining_time": 27.68772051,
             "test": [
              0.1971950308
             ]
            },
            {
             "iteration": 34,
             "learn": [
              0.1911888489
             ],
             "passed_time": 14.7055871,
             "remaining_time": 27.31037604,
             "test": [
              0.190753773
             ]
            },
            {
             "iteration": 35,
             "learn": [
              0.1839087512
             ],
             "passed_time": 15.10274581,
             "remaining_time": 26.84932589,
             "test": [
              0.1845437824
             ]
            },
            {
             "iteration": 36,
             "learn": [
              0.1787755393
             ],
             "passed_time": 15.51081846,
             "remaining_time": 26.41031252,
             "test": [
              0.1785549062
             ]
            },
            {
             "iteration": 37,
             "learn": [
              0.1721984123
             ],
             "passed_time": 15.91317827,
             "remaining_time": 25.96360665,
             "test": [
              0.1727785723
             ]
            },
            {
             "iteration": 38,
             "learn": [
              0.1676808095
             ],
             "passed_time": 16.41457659,
             "remaining_time": 25.67408133,
             "test": [
              0.1672059079
             ]
            },
            {
             "iteration": 39,
             "learn": [
              0.161435847
             ],
             "passed_time": 16.78371382,
             "remaining_time": 25.17557072,
             "test": [
              0.1618283104
             ]
            },
            {
             "iteration": 40,
             "learn": [
              0.1563397836
             ],
             "passed_time": 17.21295099,
             "remaining_time": 24.7698563,
             "test": [
              0.1566379923
             ]
            },
            {
             "iteration": 41,
             "learn": [
              0.1520285093
             ],
             "passed_time": 17.71079127,
             "remaining_time": 24.45775938,
             "test": [
              0.151627933
             ]
            },
            {
             "iteration": 42,
             "learn": [
              0.1470162989
             ],
             "passed_time": 18.03956842,
             "remaining_time": 23.91291627,
             "test": [
              0.1467900552
             ]
            },
            {
             "iteration": 43,
             "learn": [
              0.1418816893
             ],
             "passed_time": 18.45334222,
             "remaining_time": 23.48607191,
             "test": [
              0.1421188413
             ]
            },
            {
             "iteration": 44,
             "learn": [
              0.137118425
             ],
             "passed_time": 18.84555786,
             "remaining_time": 23.03345961,
             "test": [
              0.1376072565
             ]
            },
            {
             "iteration": 45,
             "learn": [
              0.1329207916
             ],
             "passed_time": 19.25242169,
             "remaining_time": 22.60066894,
             "test": [
              0.1332490954
             ]
            },
            {
             "iteration": 46,
             "learn": [
              0.1289312209
             ],
             "passed_time": 19.7041227,
             "remaining_time": 22.21954262,
             "test": [
              0.1290382914
             ]
            },
            {
             "iteration": 47,
             "learn": [
              0.125005799
             ],
             "passed_time": 20.09700119,
             "remaining_time": 21.77175129,
             "test": [
              0.1249684658
             ]
            },
            {
             "iteration": 48,
             "learn": [
              0.1210961615
             ],
             "passed_time": 20.54502811,
             "remaining_time": 21.38360069,
             "test": [
              0.1210354002
             ]
            },
            {
             "iteration": 49,
             "learn": [
              0.1172093724
             ],
             "passed_time": 20.98471652,
             "remaining_time": 20.98471652,
             "test": [
              0.1172355083
             ]
            },
            {
             "iteration": 50,
             "learn": [
              0.1133361269
             ],
             "passed_time": 21.34767262,
             "remaining_time": 20.51050899,
             "test": [
              0.1135604615
             ]
            },
            {
             "iteration": 51,
             "learn": [
              0.1097699219
             ],
             "passed_time": 21.80322547,
             "remaining_time": 20.12605428,
             "test": [
              0.1100071698
             ]
            },
            {
             "iteration": 52,
             "learn": [
              0.1069423247
             ],
             "passed_time": 22.20258059,
             "remaining_time": 19.6890809,
             "test": [
              0.1065714252
             ]
            },
            {
             "iteration": 53,
             "learn": [
              0.1034231012
             ],
             "passed_time": 22.5842477,
             "remaining_time": 19.23843323,
             "test": [
              0.1032487428
             ]
            },
            {
             "iteration": 54,
             "learn": [
              0.09974603305
             ],
             "passed_time": 23.04488609,
             "remaining_time": 18.8549068,
             "test": [
              0.1000352046
             ]
            },
            {
             "iteration": 55,
             "learn": [
              0.0971556932
             ],
             "passed_time": 23.44417449,
             "remaining_time": 18.42042281,
             "test": [
              0.09692652874
             ]
            },
            {
             "iteration": 56,
             "learn": [
              0.09378324909
             ],
             "passed_time": 23.93829687,
             "remaining_time": 18.05871518,
             "test": [
              0.09391995593
             ]
            },
            {
             "iteration": 57,
             "learn": [
              0.09124076964
             ],
             "passed_time": 24.37311876,
             "remaining_time": 17.64949979,
             "test": [
              0.09101055178
             ]
            },
            {
             "iteration": 58,
             "learn": [
              0.08796129923
             ],
             "passed_time": 24.75664829,
             "remaining_time": 17.20377254,
             "test": [
              0.08819540705
             ]
            },
            {
             "iteration": 59,
             "learn": [
              0.08549056833
             ],
             "passed_time": 25.14146327,
             "remaining_time": 16.76097551,
             "test": [
              0.08547236314
             ]
            },
            {
             "iteration": 60,
             "learn": [
              0.08259529822
             ],
             "passed_time": 25.59726197,
             "remaining_time": 16.36546257,
             "test": [
              0.08283620532
             ]
            },
            {
             "iteration": 61,
             "learn": [
              0.08012000219
             ],
             "passed_time": 26.03060284,
             "remaining_time": 15.95424045,
             "test": [
              0.0802846122
             ]
            },
            {
             "iteration": 62,
             "learn": [
              0.07798939992
             ],
             "passed_time": 26.45298857,
             "remaining_time": 15.53588218,
             "test": [
              0.07781476048
             ]
            },
            {
             "iteration": 63,
             "learn": [
              0.0755122609
             ],
             "passed_time": 26.85610694,
             "remaining_time": 15.10656016,
             "test": [
              0.07542411656
             ]
            },
            {
             "iteration": 64,
             "learn": [
              0.07296917942
             ],
             "passed_time": 27.25568801,
             "remaining_time": 14.6761397,
             "test": [
              0.07310979418
             ]
            },
            {
             "iteration": 65,
             "learn": [
              0.07056885696
             ],
             "passed_time": 27.70695,
             "remaining_time": 14.27327727,
             "test": [
              0.07086918419
             ]
            },
            {
             "iteration": 66,
             "learn": [
              0.06846245217
             ],
             "passed_time": 28.13117032,
             "remaining_time": 13.85565105,
             "test": [
              0.06869939636
             ]
            },
            {
             "iteration": 67,
             "learn": [
              0.06645264657
             ],
             "passed_time": 28.58021976,
             "remaining_time": 13.44951518,
             "test": [
              0.0665985752
             ]
            },
            {
             "iteration": 68,
             "learn": [
              0.06448592717
             ],
             "passed_time": 28.9386039,
             "remaining_time": 13.00140175,
             "test": [
              0.06456397675
             ]
            },
            {
             "iteration": 69,
             "learn": [
              0.0625323931
             ],
             "passed_time": 29.3895368,
             "remaining_time": 12.59551577,
             "test": [
              0.06259357101
             ]
            },
            {
             "iteration": 70,
             "learn": [
              0.06058485866
             ],
             "passed_time": 29.88998493,
             "remaining_time": 12.20858539,
             "test": [
              0.06068533146
             ]
            },
            {
             "iteration": 71,
             "learn": [
              0.05867322637
             ],
             "passed_time": 30.37173389,
             "remaining_time": 11.81122984,
             "test": [
              0.05883700614
             ]
            },
            {
             "iteration": 72,
             "learn": [
              0.05686455427
             ],
             "passed_time": 30.87251037,
             "remaining_time": 11.41859973,
             "test": [
              0.05704712254
             ]
            },
            {
             "iteration": 73,
             "learn": [
              0.05545342522
             ],
             "passed_time": 31.27773738,
             "remaining_time": 10.9894753,
             "test": [
              0.05531286628
             ]
            },
            {
             "iteration": 74,
             "learn": [
              0.05369633847
             ],
             "passed_time": 31.73060047,
             "remaining_time": 10.57686682,
             "test": [
              0.05363290955
             ]
            },
            {
             "iteration": 75,
             "learn": [
              0.05184608369
             ],
             "passed_time": 32.18568017,
             "remaining_time": 10.163899,
             "test": [
              0.0520056518
             ]
            },
            {
             "iteration": 76,
             "learn": [
              0.0505547456
             ],
             "passed_time": 32.61014322,
             "remaining_time": 9.740692132,
             "test": [
              0.05042896636
             ]
            },
            {
             "iteration": 77,
             "learn": [
              0.0488625798
             ],
             "passed_time": 33.1550378,
             "remaining_time": 9.351420917,
             "test": [
              0.04890126375
             ]
            },
            {
             "iteration": 78,
             "learn": [
              0.0472654328
             ],
             "passed_time": 33.56987379,
             "remaining_time": 8.923637337,
             "test": [
              0.04742107926
             ]
            },
            {
             "iteration": 79,
             "learn": [
              0.0459349138
             ],
             "passed_time": 33.96329071,
             "remaining_time": 8.490822678,
             "test": [
              0.04598663787
             ]
            },
            {
             "iteration": 80,
             "learn": [
              0.04467381281
             ],
             "passed_time": 34.36259183,
             "remaining_time": 8.060361048,
             "test": [
              0.04459648612
             ]
            },
            {
             "iteration": 81,
             "learn": [
              0.04308989477
             ],
             "passed_time": 34.73030737,
             "remaining_time": 7.623726009,
             "test": [
              0.04324930946
             ]
            },
            {
             "iteration": 82,
             "learn": [
              0.04197818321
             ],
             "passed_time": 35.10347213,
             "remaining_time": 7.189867785,
             "test": [
              0.04194394229
             ]
            },
            {
             "iteration": 83,
             "learn": [
              0.04073958895
             ],
             "passed_time": 35.46812016,
             "remaining_time": 6.755832411,
             "test": [
              0.04067875509
             ]
            },
            {
             "iteration": 84,
             "learn": [
              0.03937381793
             ],
             "passed_time": 35.83332336,
             "remaining_time": 6.323527652,
             "test": [
              0.03945281393
             ]
            },
            {
             "iteration": 85,
             "learn": [
              0.03815139482
             ],
             "passed_time": 36.21950453,
             "remaining_time": 5.896198412,
             "test": [
              0.03826407885
             ]
            },
            {
             "iteration": 86,
             "learn": [
              0.03713215915
             ],
             "passed_time": 36.70283407,
             "remaining_time": 5.484331527,
             "test": [
              0.03711222006
             ]
            },
            {
             "iteration": 87,
             "learn": [
              0.03608189897
             ],
             "passed_time": 37.04591106,
             "remaining_time": 5.051715145,
             "test": [
              0.03599570255
             ]
            },
            {
             "iteration": 88,
             "learn": [
              0.03489528198
             ],
             "passed_time": 37.48288639,
             "remaining_time": 4.632716295,
             "test": [
              0.03491383701
             ]
            },
            {
             "iteration": 89,
             "learn": [
              0.03384972611
             ],
             "passed_time": 37.8850277,
             "remaining_time": 4.209447522,
             "test": [
              0.03386450577
             ]
            },
            {
             "iteration": 90,
             "learn": [
              0.03284688016
             ],
             "passed_time": 38.33993434,
             "remaining_time": 3.791861638,
             "test": [
              0.03284813584
             ]
            },
            {
             "iteration": 91,
             "learn": [
              0.03185603256
             ],
             "passed_time": 38.71766284,
             "remaining_time": 3.36675329,
             "test": [
              0.03186179414
             ]
            },
            {
             "iteration": 92,
             "learn": [
              0.03087766712
             ],
             "passed_time": 39.15339664,
             "remaining_time": 2.947029855,
             "test": [
              0.03090613322
             ]
            },
            {
             "iteration": 93,
             "learn": [
              0.02993022358
             ],
             "passed_time": 39.57658108,
             "remaining_time": 2.52616475,
             "test": [
              0.02997934839
             ]
            },
            {
             "iteration": 94,
             "learn": [
              0.02900913903
             ],
             "passed_time": 40.03792691,
             "remaining_time": 2.107259311,
             "test": [
              0.02908110425
             ]
            },
            {
             "iteration": 95,
             "learn": [
              0.02826331734
             ],
             "passed_time": 40.502015,
             "remaining_time": 1.687583958,
             "test": [
              0.02821004068
             ]
            },
            {
             "iteration": 96,
             "learn": [
              0.02737841709
             ],
             "passed_time": 40.95246265,
             "remaining_time": 1.26657101,
             "test": [
              0.02736533776
             ]
            },
            {
             "iteration": 97,
             "learn": [
              0.02645648086
             ],
             "passed_time": 41.38671895,
             "remaining_time": 0.8446269174,
             "test": [
              0.0265465548
             ]
            },
            {
             "iteration": 98,
             "learn": [
              0.02580301213
             ],
             "passed_time": 41.82100258,
             "remaining_time": 0.4224343695,
             "test": [
              0.02575237805
             ]
            },
            {
             "iteration": 99,
             "learn": [
              0.02494863507
             ],
             "passed_time": 42.19416043,
             "remaining_time": 0,
             "test": [
              0.02498201238
             ]
            }
           ],
           "meta": {
            "iteration_count": 100,
            "launch_mode": "Train",
            "learn_metrics": [
             {
              "best_value": "Min",
              "name": "CrossEntropy"
             }
            ],
            "learn_sets": [
             "learn"
            ],
            "name": "experiment",
            "parameters": "",
            "test_metrics": [
             {
              "best_value": "Min",
              "name": "CrossEntropy"
             }
            ],
            "test_sets": [
             "test"
            ]
           }
          },
          "passed_iterations": 99,
          "total_iterations": 100
         },
         "name": "catboost_info",
         "path": "catboost_info"
        }
       },
       "layout": "IPY_MODEL_efa301890fef41fe8cb9336d326a90af"
      }
     },
     "985ef2953a814db3a786e40205e7c5db": {
      "model_module": "@jupyter-widgets/base",
      "model_module_version": "1.2.0",
      "model_name": "LayoutModel",
      "state": {
       "_model_module": "@jupyter-widgets/base",
       "_model_module_version": "1.2.0",
       "_model_name": "LayoutModel",
       "_view_count": null,
       "_view_module": "@jupyter-widgets/base",
       "_view_module_version": "1.2.0",
       "_view_name": "LayoutView",
       "align_content": null,
       "align_items": null,
       "align_self": "stretch",
       "border": null,
       "bottom": null,
       "display": null,
       "flex": null,
       "flex_flow": null,
       "grid_area": null,
       "grid_auto_columns": null,
       "grid_auto_flow": null,
       "grid_auto_rows": null,
       "grid_column": null,
       "grid_gap": null,
       "grid_row": null,
       "grid_template_areas": null,
       "grid_template_columns": null,
       "grid_template_rows": null,
       "height": "500px",
       "justify_content": null,
       "justify_items": null,
       "left": null,
       "margin": null,
       "max_height": null,
       "max_width": null,
       "min_height": null,
       "min_width": null,
       "object_fit": null,
       "object_position": null,
       "order": null,
       "overflow": null,
       "overflow_x": null,
       "overflow_y": null,
       "padding": null,
       "right": null,
       "top": null,
       "visibility": null,
       "width": null
      }
     },
     "9bf25a595e7d460997c7cd0d786dbc5c": {
      "model_module": "catboost-widget",
      "model_module_version": "^1.0.0",
      "model_name": "CatboostWidgetModel",
      "state": {
       "_dom_classes": [],
       "_model_module": "catboost-widget",
       "_model_module_version": "^1.0.0",
       "_model_name": "CatboostWidgetModel",
       "_view_count": null,
       "_view_module": "catboost-widget",
       "_view_module_version": "^1.0.0",
       "_view_name": "CatboostWidgetView",
       "data": {
        "catboost_info": {
         "content": {
          "data": {
           "iterations": [
            {
             "iteration": 0,
             "learn": [
              0.6636329496
             ],
             "passed_time": 0.3313927184,
             "remaining_time": 32.80787913,
             "test": [
              0.6648913888
             ]
            },
            {
             "iteration": 1,
             "learn": [
              0.6382722204
             ],
             "passed_time": 0.6670871896,
             "remaining_time": 32.68727229,
             "test": [
              0.6382508659
             ]
            },
            {
             "iteration": 2,
             "learn": [
              0.6119521052
             ],
             "passed_time": 1.018037016,
             "remaining_time": 32.9165302,
             "test": [
              0.6129302861
             ]
            },
            {
             "iteration": 3,
             "learn": [
              0.5880686124
             ],
             "passed_time": 1.331782673,
             "remaining_time": 31.96278415,
             "test": [
              0.588987292
             ]
            },
            {
             "iteration": 4,
             "learn": [
              0.5661728477
             ],
             "passed_time": 1.679657002,
             "remaining_time": 31.91348305,
             "test": [
              0.5663532749
             ]
            },
            {
             "iteration": 5,
             "learn": [
              0.5452966162
             ],
             "passed_time": 2.034409021,
             "remaining_time": 31.872408,
             "test": [
              0.545160404
             ]
            },
            {
             "iteration": 6,
             "learn": [
              0.523252689
             ],
             "passed_time": 2.35582099,
             "remaining_time": 31.29876458,
             "test": [
              0.5250053343
             ]
            },
            {
             "iteration": 7,
             "learn": [
              0.505451979
             ],
             "passed_time": 2.670880194,
             "remaining_time": 30.71512224,
             "test": [
              0.5056856435
             ]
            },
            {
             "iteration": 8,
             "learn": [
              0.487295292
             ],
             "passed_time": 2.987826114,
             "remaining_time": 30.21024182,
             "test": [
              0.4874336985
             ]
            },
            {
             "iteration": 9,
             "learn": [
              0.4688237513
             ],
             "passed_time": 3.332934754,
             "remaining_time": 29.99641279,
             "test": [
              0.4699429455
             ]
            },
            {
             "iteration": 10,
             "learn": [
              0.4528788863
             ],
             "passed_time": 3.689550703,
             "remaining_time": 29.85181932,
             "test": [
              0.453230708
             ]
            },
            {
             "iteration": 11,
             "learn": [
              0.4374623452
             ],
             "passed_time": 4.014535755,
             "remaining_time": 29.43992887,
             "test": [
              0.4373887845
             ]
            },
            {
             "iteration": 12,
             "learn": [
              0.4223906062
             ],
             "passed_time": 4.370748401,
             "remaining_time": 29.25039315,
             "test": [
              0.422384166
             ]
            },
            {
             "iteration": 13,
             "learn": [
              0.4073997542
             ],
             "passed_time": 4.770782037,
             "remaining_time": 29.30623251,
             "test": [
              0.4078654246
             ]
            },
            {
             "iteration": 14,
             "learn": [
              0.3927199131
             ],
             "passed_time": 5.094231664,
             "remaining_time": 28.86731276,
             "test": [
              0.394045005
             ]
            },
            {
             "iteration": 15,
             "learn": [
              0.3797144027
             ],
             "passed_time": 5.445538111,
             "remaining_time": 28.58907508,
             "test": [
              0.3807228876
             ]
            },
            {
             "iteration": 16,
             "learn": [
              0.3678567028
             ],
             "passed_time": 5.76970264,
             "remaining_time": 28.16972465,
             "test": [
              0.3682852955
             ]
            },
            {
             "iteration": 17,
             "learn": [
              0.3548229707
             ],
             "passed_time": 6.09338494,
             "remaining_time": 27.75875362,
             "test": [
              0.3561299191
             ]
            },
            {
             "iteration": 18,
             "learn": [
              0.3436489395
             ],
             "passed_time": 6.450273908,
             "remaining_time": 27.49853614,
             "test": [
              0.3446329763
             ]
            },
            {
             "iteration": 19,
             "learn": [
              0.3320931047
             ],
             "passed_time": 6.809737196,
             "remaining_time": 27.23894878,
             "test": [
              0.3336218466
             ]
            },
            {
             "iteration": 20,
             "learn": [
              0.3216308209
             ],
             "passed_time": 7.168794642,
             "remaining_time": 26.9683227,
             "test": [
              0.3230691326
             ]
            },
            {
             "iteration": 21,
             "learn": [
              0.3106265926
             ],
             "passed_time": 7.530069994,
             "remaining_time": 26.69752089,
             "test": [
              0.3128185702
             ]
            },
            {
             "iteration": 22,
             "learn": [
              0.3015708958
             ],
             "passed_time": 7.875832573,
             "remaining_time": 26.36691774,
             "test": [
              0.3028955334
             ]
            },
            {
             "iteration": 23,
             "learn": [
              0.2926313402
             ],
             "passed_time": 8.216402913,
             "remaining_time": 26.01860922,
             "test": [
              0.2934699005
             ]
            },
            {
             "iteration": 24,
             "learn": [
              0.2832553662
             ],
             "passed_time": 8.574371228,
             "remaining_time": 25.72311369,
             "test": [
              0.2844997398
             ]
            },
            {
             "iteration": 25,
             "learn": [
              0.2743347081
             ],
             "passed_time": 8.907495136,
             "remaining_time": 25.35210154,
             "test": [
              0.2756160648
             ]
            },
            {
             "iteration": 26,
             "learn": [
              0.2658335719
             ],
             "passed_time": 9.235716026,
             "remaining_time": 24.97063962,
             "test": [
              0.2673310507
             ]
            },
            {
             "iteration": 27,
             "learn": [
              0.2573824115
             ],
             "passed_time": 9.576565139,
             "remaining_time": 24.62545321,
             "test": [
              0.2593536751
             ]
            },
            {
             "iteration": 28,
             "learn": [
              0.2499002522
             ],
             "passed_time": 9.94424904,
             "remaining_time": 24.34626489,
             "test": [
              0.251499578
             ]
            },
            {
             "iteration": 29,
             "learn": [
              0.2425171156
             ],
             "passed_time": 10.27655294,
             "remaining_time": 23.97862353,
             "test": [
              0.2438731915
             ]
            },
            {
             "iteration": 30,
             "learn": [
              0.2349839006
             ],
             "passed_time": 10.6093047,
             "remaining_time": 23.61425886,
             "test": [
              0.2367754872
             ]
            },
            {
             "iteration": 31,
             "learn": [
              0.2285062361
             ],
             "passed_time": 10.94560515,
             "remaining_time": 23.25941095,
             "test": [
              0.2297598588
             ]
            },
            {
             "iteration": 32,
             "learn": [
              0.2219088675
             ],
             "passed_time": 11.27523398,
             "remaining_time": 22.89214171,
             "test": [
              0.2231965282
             ]
            },
            {
             "iteration": 33,
             "learn": [
              0.2153805883
             ],
             "passed_time": 11.61349582,
             "remaining_time": 22.54384483,
             "test": [
              0.216719345
             ]
            },
            {
             "iteration": 34,
             "learn": [
              0.2090264364
             ],
             "passed_time": 11.98200526,
             "remaining_time": 22.25229548,
             "test": [
              0.2103979375
             ]
            },
            {
             "iteration": 35,
             "learn": [
              0.2033121333
             ],
             "passed_time": 12.30790284,
             "remaining_time": 21.88071616,
             "test": [
              0.2042257778
             ]
            },
            {
             "iteration": 36,
             "learn": [
              0.1970539347
             ],
             "passed_time": 12.63733073,
             "remaining_time": 21.51761719,
             "test": [
              0.1985445308
             ]
            },
            {
             "iteration": 37,
             "learn": [
              0.191696064
             ],
             "passed_time": 12.95767833,
             "remaining_time": 21.14147517,
             "test": [
              0.1928957562
             ]
            },
            {
             "iteration": 38,
             "learn": [
              0.1859010702
             ],
             "passed_time": 13.3028331,
             "remaining_time": 20.80699536,
             "test": [
              0.1873486582
             ]
            },
            {
             "iteration": 39,
             "learn": [
              0.181083756
             ],
             "passed_time": 13.67629661,
             "remaining_time": 20.51444492,
             "test": [
              0.1820848511
             ]
            },
            {
             "iteration": 40,
             "learn": [
              0.1760019589
             ],
             "passed_time": 14.01603719,
             "remaining_time": 20.16941938,
             "test": [
              0.1769053674
             ]
            },
            {
             "iteration": 41,
             "learn": [
              0.1710230338
             ],
             "passed_time": 14.37912628,
             "remaining_time": 19.85688867,
             "test": [
              0.1721111096
             ]
            },
            {
             "iteration": 42,
             "learn": [
              0.1663918117
             ],
             "passed_time": 14.72107551,
             "remaining_time": 19.51398381,
             "test": [
              0.1672962472
             ]
            },
            {
             "iteration": 43,
             "learn": [
              0.1619005241
             ],
             "passed_time": 15.05251257,
             "remaining_time": 19.15774327,
             "test": [
              0.1627926575
             ]
            },
            {
             "iteration": 44,
             "learn": [
              0.1574849696
             ],
             "passed_time": 15.40439131,
             "remaining_time": 18.82758938,
             "test": [
              0.1582868945
             ]
            },
            {
             "iteration": 45,
             "learn": [
              0.1530303914
             ],
             "passed_time": 15.80188042,
             "remaining_time": 18.55003354,
             "test": [
              0.1540941008
             ]
            },
            {
             "iteration": 46,
             "learn": [
              0.1490475924
             ],
             "passed_time": 16.17452955,
             "remaining_time": 18.23936311,
             "test": [
              0.1499602843
             ]
            },
            {
             "iteration": 47,
             "learn": [
              0.1451179572
             ],
             "passed_time": 16.64297425,
             "remaining_time": 18.02988877,
             "test": [
              0.1459138264
             ]
            },
            {
             "iteration": 48,
             "learn": [
              0.1414163296
             ],
             "passed_time": 17.14718768,
             "remaining_time": 17.84707289,
             "test": [
              0.1421079917
             ]
            },
            {
             "iteration": 49,
             "learn": [
              0.1377963757
             ],
             "passed_time": 17.66135764,
             "remaining_time": 17.66135764,
             "test": [
              0.1384096168
             ]
            },
            {
             "iteration": 50,
             "learn": [
              0.1342539718
             ],
             "passed_time": 18.05628294,
             "remaining_time": 17.34819342,
             "test": [
              0.1348675457
             ]
            },
            {
             "iteration": 51,
             "learn": [
              0.1306861862
             ],
             "passed_time": 18.40261372,
             "remaining_time": 16.98702805,
             "test": [
              0.131352883
             ]
            },
            {
             "iteration": 52,
             "learn": [
              0.1274432415
             ],
             "passed_time": 18.75611625,
             "remaining_time": 16.63278233,
             "test": [
              0.1280819967
             ]
            },
            {
             "iteration": 53,
             "learn": [
              0.1242827228
             ],
             "passed_time": 19.12149707,
             "remaining_time": 16.28868269,
             "test": [
              0.1248487017
             ]
            },
            {
             "iteration": 54,
             "learn": [
              0.1211401812
             ],
             "passed_time": 19.46912764,
             "remaining_time": 15.92928625,
             "test": [
              0.1215800677
             ]
            },
            {
             "iteration": 55,
             "learn": [
              0.1180063567
             ],
             "passed_time": 19.78227646,
             "remaining_time": 15.54321722,
             "test": [
              0.118408869
             ]
            },
            {
             "iteration": 56,
             "learn": [
              0.1150737353
             ],
             "passed_time": 20.11352951,
             "remaining_time": 15.17336437,
             "test": [
              0.1154289573
             ]
            },
            {
             "iteration": 57,
             "learn": [
              0.1120532005
             ],
             "passed_time": 20.46174184,
             "remaining_time": 14.8171234,
             "test": [
              0.1124847181
             ]
            },
            {
             "iteration": 58,
             "learn": [
              0.1093301346
             ],
             "passed_time": 20.81809929,
             "remaining_time": 14.46681476,
             "test": [
              0.1097318715
             ]
            },
            {
             "iteration": 59,
             "learn": [
              0.1063884385
             ],
             "passed_time": 21.15630542,
             "remaining_time": 14.10420361,
             "test": [
              0.1068208252
             ]
            },
            {
             "iteration": 60,
             "learn": [
              0.1036988654
             ],
             "passed_time": 21.50444243,
             "remaining_time": 13.74874188,
             "test": [
              0.1040020162
             ]
            },
            {
             "iteration": 61,
             "learn": [
              0.1010114064
             ],
             "passed_time": 21.83781331,
             "remaining_time": 13.38446622,
             "test": [
              0.1012399538
             ]
            },
            {
             "iteration": 62,
             "learn": [
              0.09834689975
             ],
             "passed_time": 22.19368513,
             "remaining_time": 13.0343865,
             "test": [
              0.09857767954
             ]
            },
            {
             "iteration": 63,
             "learn": [
              0.09595415406
             ],
             "passed_time": 22.53129604,
             "remaining_time": 12.67385402,
             "test": [
              0.09598915618
             ]
            },
            {
             "iteration": 64,
             "learn": [
              0.09367071383
             ],
             "passed_time": 22.91323046,
             "remaining_time": 12.33789332,
             "test": [
              0.09372672859
             ]
            },
            {
             "iteration": 65,
             "learn": [
              0.09144322063
             ],
             "passed_time": 23.2775186,
             "remaining_time": 11.99144897,
             "test": [
              0.09151318996
             ]
            },
            {
             "iteration": 66,
             "learn": [
              0.08892510939
             ],
             "passed_time": 23.69216771,
             "remaining_time": 11.66927663,
             "test": [
              0.08897529457
             ]
            },
            {
             "iteration": 67,
             "learn": [
              0.08676034444
             ],
             "passed_time": 24.03714015,
             "remaining_time": 11.31159536,
             "test": [
              0.08672401477
             ]
            },
            {
             "iteration": 68,
             "learn": [
              0.08474816568
             ],
             "passed_time": 24.38890868,
             "remaining_time": 10.95733579,
             "test": [
              0.08460873201
             ]
            },
            {
             "iteration": 69,
             "learn": [
              0.08271474591
             ],
             "passed_time": 24.73277693,
             "remaining_time": 10.59976154,
             "test": [
              0.08253814858
             ]
            },
            {
             "iteration": 70,
             "learn": [
              0.08070927793
             ],
             "passed_time": 25.0736726,
             "remaining_time": 10.24135923,
             "test": [
              0.08044978852
             ]
            },
            {
             "iteration": 71,
             "learn": [
              0.07868731431
             ],
             "passed_time": 25.44551649,
             "remaining_time": 9.895478634,
             "test": [
              0.0784211693
             ]
            },
            {
             "iteration": 72,
             "learn": [
              0.07682617936
             ],
             "passed_time": 25.83266591,
             "remaining_time": 9.554547667,
             "test": [
              0.07652745059
             ]
            },
            {
             "iteration": 73,
             "learn": [
              0.07492811901
             ],
             "passed_time": 26.18174002,
             "remaining_time": 9.198989735,
             "test": [
              0.07468803876
             ]
            },
            {
             "iteration": 74,
             "learn": [
              0.07319272228
             ],
             "passed_time": 26.55473926,
             "remaining_time": 8.851579754,
             "test": [
              0.07297609122
             ]
            },
            {
             "iteration": 75,
             "learn": [
              0.07136789711
             ],
             "passed_time": 26.93054999,
             "remaining_time": 8.504384208,
             "test": [
              0.07123925747
             ]
            },
            {
             "iteration": 76,
             "learn": [
              0.06951786511
             ],
             "passed_time": 27.30277748,
             "remaining_time": 8.155375093,
             "test": [
              0.06945934768
             ]
            },
            {
             "iteration": 77,
             "learn": [
              0.06809149663
             ],
             "passed_time": 27.6401595,
             "remaining_time": 7.795942422,
             "test": [
              0.06790117565
             ]
            },
            {
             "iteration": 78,
             "learn": [
              0.06639632246
             ],
             "passed_time": 28.0071398,
             "remaining_time": 7.444935896,
             "test": [
              0.06622490937
             ]
            },
            {
             "iteration": 79,
             "learn": [
              0.06496673824
             ],
             "passed_time": 28.38968886,
             "remaining_time": 7.097422216,
             "test": [
              0.0647883756
             ]
            },
            {
             "iteration": 80,
             "learn": [
              0.06332116525
             ],
             "passed_time": 28.76184541,
             "remaining_time": 6.746605713,
             "test": [
              0.0632125929
             ]
            },
            {
             "iteration": 81,
             "learn": [
              0.06180130991
             ],
             "passed_time": 29.12778221,
             "remaining_time": 6.393903412,
             "test": [
              0.06169302342
             ]
            },
            {
             "iteration": 82,
             "learn": [
              0.06049388878
             ],
             "passed_time": 29.5062347,
             "remaining_time": 6.043445661,
             "test": [
              0.0603865492
             ]
            },
            {
             "iteration": 83,
             "learn": [
              0.05910901444
             ],
             "passed_time": 29.89080135,
             "remaining_time": 5.693485971,
             "test": [
              0.0590038041
             ]
            },
            {
             "iteration": 84,
             "learn": [
              0.05771411877
             ],
             "passed_time": 30.2565522,
             "remaining_time": 5.339391565,
             "test": [
              0.05756746967
             ]
            },
            {
             "iteration": 85,
             "learn": [
              0.05645588419
             ],
             "passed_time": 30.62008974,
             "remaining_time": 4.984665771,
             "test": [
              0.05619734545
             ]
            },
            {
             "iteration": 86,
             "learn": [
              0.05511894315
             ],
             "passed_time": 30.99724629,
             "remaining_time": 4.631772434,
             "test": [
              0.05486481072
             ]
            },
            {
             "iteration": 87,
             "learn": [
              0.0539323179
             ],
             "passed_time": 31.3406425,
             "remaining_time": 4.273723977,
             "test": [
              0.05363411681
             ]
            },
            {
             "iteration": 88,
             "learn": [
              0.05288273477
             ],
             "passed_time": 31.68751562,
             "remaining_time": 3.916434515,
             "test": [
              0.05255455215
             ]
            },
            {
             "iteration": 89,
             "learn": [
              0.0517915374
             ],
             "passed_time": 31.9936188,
             "remaining_time": 3.554846534,
             "test": [
              0.05146811363
             ]
            },
            {
             "iteration": 90,
             "learn": [
              0.0507122029
             ],
             "passed_time": 32.34155526,
             "remaining_time": 3.198615356,
             "test": [
              0.05032256735
             ]
            },
            {
             "iteration": 91,
             "learn": [
              0.04970183588
             ],
             "passed_time": 32.72749092,
             "remaining_time": 2.845868776,
             "test": [
              0.04932647368
             ]
            },
            {
             "iteration": 92,
             "learn": [
              0.04871504986
             ],
             "passed_time": 33.109256,
             "remaining_time": 2.492094537,
             "test": [
              0.04835392739
             ]
            },
            {
             "iteration": 93,
             "learn": [
              0.04760828882
             ],
             "passed_time": 33.48282083,
             "remaining_time": 2.13720133,
             "test": [
              0.04726176878
             ]
            },
            {
             "iteration": 94,
             "learn": [
              0.04673156982
             ],
             "passed_time": 33.82347097,
             "remaining_time": 1.780182683,
             "test": [
              0.0463715649
             ]
            },
            {
             "iteration": 95,
             "learn": [
              0.04569538643
             ],
             "passed_time": 34.1956769,
             "remaining_time": 1.424819871,
             "test": [
              0.04527865172
             ]
            },
            {
             "iteration": 96,
             "learn": [
              0.04479626907
             ],
             "passed_time": 34.52583028,
             "remaining_time": 1.067809184,
             "test": [
              0.04435430158
             ]
            },
            {
             "iteration": 97,
             "learn": [
              0.04368542863
             ],
             "passed_time": 34.93418152,
             "remaining_time": 0.7129424799,
             "test": [
              0.04323058699
             ]
            },
            {
             "iteration": 98,
             "learn": [
              0.04276651058
             ],
             "passed_time": 35.28074793,
             "remaining_time": 0.3563711912,
             "test": [
              0.04238648483
             ]
            },
            {
             "iteration": 99,
             "learn": [
              0.04192616291
             ],
             "passed_time": 35.64379554,
             "remaining_time": 0,
             "test": [
              0.04147376334
             ]
            }
           ],
           "meta": {
            "iteration_count": 100,
            "launch_mode": "Train",
            "learn_metrics": [
             {
              "best_value": "Min",
              "name": "CrossEntropy"
             }
            ],
            "learn_sets": [
             "learn"
            ],
            "name": "experiment",
            "parameters": "",
            "test_metrics": [
             {
              "best_value": "Min",
              "name": "CrossEntropy"
             }
            ],
            "test_sets": [
             "test"
            ]
           }
          },
          "passed_iterations": 99,
          "total_iterations": 100
         },
         "name": "catboost_info",
         "path": "catboost_info"
        }
       },
       "layout": "IPY_MODEL_9211323204b14bb4a0c3af59f1b255b5"
      }
     },
     "9c003edb46574b2bb2322ecfe07c94d3": {
      "model_module": "@jupyter-widgets/base",
      "model_module_version": "1.2.0",
      "model_name": "LayoutModel",
      "state": {
       "_model_module": "@jupyter-widgets/base",
       "_model_module_version": "1.2.0",
       "_model_name": "LayoutModel",
       "_view_count": null,
       "_view_module": "@jupyter-widgets/base",
       "_view_module_version": "1.2.0",
       "_view_name": "LayoutView",
       "align_content": null,
       "align_items": null,
       "align_self": "stretch",
       "border": null,
       "bottom": null,
       "display": null,
       "flex": null,
       "flex_flow": null,
       "grid_area": null,
       "grid_auto_columns": null,
       "grid_auto_flow": null,
       "grid_auto_rows": null,
       "grid_column": null,
       "grid_gap": null,
       "grid_row": null,
       "grid_template_areas": null,
       "grid_template_columns": null,
       "grid_template_rows": null,
       "height": "500px",
       "justify_content": null,
       "justify_items": null,
       "left": null,
       "margin": null,
       "max_height": null,
       "max_width": null,
       "min_height": null,
       "min_width": null,
       "object_fit": null,
       "object_position": null,
       "order": null,
       "overflow": null,
       "overflow_x": null,
       "overflow_y": null,
       "padding": null,
       "right": null,
       "top": null,
       "visibility": null,
       "width": null
      }
     },
     "9ffa02e7be344c37b4a0964ebbdcdc53": {
      "model_module": "@jupyter-widgets/base",
      "model_module_version": "1.2.0",
      "model_name": "LayoutModel",
      "state": {
       "_model_module": "@jupyter-widgets/base",
       "_model_module_version": "1.2.0",
       "_model_name": "LayoutModel",
       "_view_count": null,
       "_view_module": "@jupyter-widgets/base",
       "_view_module_version": "1.2.0",
       "_view_name": "LayoutView",
       "align_content": null,
       "align_items": null,
       "align_self": "stretch",
       "border": null,
       "bottom": null,
       "display": null,
       "flex": null,
       "flex_flow": null,
       "grid_area": null,
       "grid_auto_columns": null,
       "grid_auto_flow": null,
       "grid_auto_rows": null,
       "grid_column": null,
       "grid_gap": null,
       "grid_row": null,
       "grid_template_areas": null,
       "grid_template_columns": null,
       "grid_template_rows": null,
       "height": "500px",
       "justify_content": null,
       "justify_items": null,
       "left": null,
       "margin": null,
       "max_height": null,
       "max_width": null,
       "min_height": null,
       "min_width": null,
       "object_fit": null,
       "object_position": null,
       "order": null,
       "overflow": null,
       "overflow_x": null,
       "overflow_y": null,
       "padding": null,
       "right": null,
       "top": null,
       "visibility": null,
       "width": null
      }
     },
     "a75e1580fb7d40baaa7617569bea6dda": {
      "model_module": "@jupyter-widgets/base",
      "model_module_version": "1.2.0",
      "model_name": "LayoutModel",
      "state": {
       "_model_module": "@jupyter-widgets/base",
       "_model_module_version": "1.2.0",
       "_model_name": "LayoutModel",
       "_view_count": null,
       "_view_module": "@jupyter-widgets/base",
       "_view_module_version": "1.2.0",
       "_view_name": "LayoutView",
       "align_content": null,
       "align_items": null,
       "align_self": "stretch",
       "border": null,
       "bottom": null,
       "display": null,
       "flex": null,
       "flex_flow": null,
       "grid_area": null,
       "grid_auto_columns": null,
       "grid_auto_flow": null,
       "grid_auto_rows": null,
       "grid_column": null,
       "grid_gap": null,
       "grid_row": null,
       "grid_template_areas": null,
       "grid_template_columns": null,
       "grid_template_rows": null,
       "height": "500px",
       "justify_content": null,
       "justify_items": null,
       "left": null,
       "margin": null,
       "max_height": null,
       "max_width": null,
       "min_height": null,
       "min_width": null,
       "object_fit": null,
       "object_position": null,
       "order": null,
       "overflow": null,
       "overflow_x": null,
       "overflow_y": null,
       "padding": null,
       "right": null,
       "top": null,
       "visibility": null,
       "width": null
      }
     },
     "acd7f2769de44ec283b2afa2221cb101": {
      "model_module": "catboost-widget",
      "model_module_version": "^1.0.0",
      "model_name": "CatboostWidgetModel",
      "state": {
       "_dom_classes": [],
       "_model_module": "catboost-widget",
       "_model_module_version": "^1.0.0",
       "_model_name": "CatboostWidgetModel",
       "_view_count": null,
       "_view_module": "catboost-widget",
       "_view_module_version": "^1.0.0",
       "_view_name": "CatboostWidgetView",
       "data": {
        "catboost_info": {
         "content": {
          "data": {
           "iterations": [
            {
             "iteration": 0,
             "learn": [
              0.6613828195
             ],
             "passed_time": 0.6366659604,
             "remaining_time": 63.02993008,
             "test": [
              0.6636635886
             ]
            },
            {
             "iteration": 1,
             "learn": [
              0.6363155756
             ],
             "passed_time": 1.125479578,
             "remaining_time": 55.14849933,
             "test": [
              0.6358983559
             ]
            },
            {
             "iteration": 2,
             "learn": [
              0.6093889968
             ],
             "passed_time": 1.531474885,
             "remaining_time": 49.51768795,
             "test": [
              0.609706217
             ]
            },
            {
             "iteration": 3,
             "learn": [
              0.5837331042
             ],
             "passed_time": 1.928171082,
             "remaining_time": 46.27610597,
             "test": [
              0.5849352475
             ]
            },
            {
             "iteration": 4,
             "learn": [
              0.5622132941
             ],
             "passed_time": 2.318752601,
             "remaining_time": 44.05629943,
             "test": [
              0.5615165827
             ]
            },
            {
             "iteration": 5,
             "learn": [
              0.5378058126
             ],
             "passed_time": 2.720302179,
             "remaining_time": 42.61806747,
             "test": [
              0.5393218911
             ]
            },
            {
             "iteration": 6,
             "learn": [
              0.5169120102
             ],
             "passed_time": 3.130487666,
             "remaining_time": 41.59076471,
             "test": [
              0.5182671812
             ]
            },
            {
             "iteration": 7,
             "learn": [
              0.4987253043
             ],
             "passed_time": 3.497646815,
             "remaining_time": 40.22293837,
             "test": [
              0.4982711223
             ]
            },
            {
             "iteration": 8,
             "learn": [
              0.4785614007
             ],
             "passed_time": 3.964788113,
             "remaining_time": 40.08841315,
             "test": [
              0.4792585013
             ]
            },
            {
             "iteration": 9,
             "learn": [
              0.4606171508
             ],
             "passed_time": 4.353577414,
             "remaining_time": 39.18219673,
             "test": [
              0.4611628233
             ]
            },
            {
             "iteration": 10,
             "learn": [
              0.4440265021
             ],
             "passed_time": 4.744280178,
             "remaining_time": 38.38553962,
             "test": [
              0.4439252877
             ]
            },
            {
             "iteration": 11,
             "learn": [
              0.4280956811
             ],
             "passed_time": 5.168812994,
             "remaining_time": 37.90462863,
             "test": [
              0.427485528
             ]
            },
            {
             "iteration": 12,
             "learn": [
              0.4122013646
             ],
             "passed_time": 5.611662632,
             "remaining_time": 37.554973,
             "test": [
              0.4117975805
             ]
            },
            {
             "iteration": 13,
             "learn": [
              0.3968261061
             ],
             "passed_time": 5.97928853,
             "remaining_time": 36.72991525,
             "test": [
              0.396817503
             ]
            },
            {
             "iteration": 14,
             "learn": [
              0.3824553309
             ],
             "passed_time": 6.412004831,
             "remaining_time": 36.33469404,
             "test": [
              0.3824845481
             ]
            },
            {
             "iteration": 15,
             "learn": [
              0.3673956261
             ],
             "passed_time": 6.857825087,
             "remaining_time": 36.00358171,
             "test": [
              0.3687942413
             ]
            },
            {
             "iteration": 16,
             "learn": [
              0.3539572155
             ],
             "passed_time": 7.251903708,
             "remaining_time": 35.4063534,
             "test": [
              0.3556925205
             ]
            },
            {
             "iteration": 17,
             "learn": [
              0.343237361
             ],
             "passed_time": 7.684105659,
             "remaining_time": 35.00537023,
             "test": [
              0.3431484348
             ]
            },
            {
             "iteration": 18,
             "learn": [
              0.3301482209
             ],
             "passed_time": 8.077474222,
             "remaining_time": 34.435548,
             "test": [
              0.3311311459
             ]
            },
            {
             "iteration": 19,
             "learn": [
              0.3197420337
             ],
             "passed_time": 8.483151773,
             "remaining_time": 33.93260709,
             "test": [
              0.3196109469
             ]
            },
            {
             "iteration": 20,
             "learn": [
              0.3070770302
             ],
             "passed_time": 9.001327305,
             "remaining_time": 33.86213605,
             "test": [
              0.3085642566
             ]
            },
            {
             "iteration": 21,
             "learn": [
              0.2969504776
             ],
             "passed_time": 9.598127375,
             "remaining_time": 34.02972433,
             "test": [
              0.2979639844
             ]
            },
            {
             "iteration": 22,
             "learn": [
              0.2868699705
             ],
             "passed_time": 10.20411517,
             "remaining_time": 34.16160296,
             "test": [
              0.2876916836
             ]
            },
            {
             "iteration": 23,
             "learn": [
              0.2766103314
             ],
             "passed_time": 10.66782034,
             "remaining_time": 33.78143107,
             "test": [
              0.2779163498
             ]
            },
            {
             "iteration": 24,
             "learn": [
              0.2666097122
             ],
             "passed_time": 11.03754995,
             "remaining_time": 33.11264986,
             "test": [
              0.26852689
             ]
            },
            {
             "iteration": 25,
             "learn": [
              0.2580616107
             ],
             "passed_time": 11.40545907,
             "remaining_time": 32.46169121,
             "test": [
              0.259503671
             ]
            },
            {
             "iteration": 26,
             "learn": [
              0.2500430676
             ],
             "passed_time": 11.86537851,
             "remaining_time": 32.08046781,
             "test": [
              0.2508274443
             ]
            },
            {
             "iteration": 27,
             "learn": [
              0.2420552851
             ],
             "passed_time": 12.26439331,
             "remaining_time": 31.53701136,
             "test": [
              0.2424840338
             ]
            },
            {
             "iteration": 28,
             "learn": [
              0.233783789
             ],
             "passed_time": 12.64293396,
             "remaining_time": 30.95339003,
             "test": [
              0.2344570294
             ]
            },
            {
             "iteration": 29,
             "learn": [
              0.2259577785
             ],
             "passed_time": 13.06592502,
             "remaining_time": 30.48715838,
             "test": [
              0.2267319859
             ]
            },
            {
             "iteration": 30,
             "learn": [
              0.2186150253
             ],
             "passed_time": 13.50815344,
             "remaining_time": 30.06653508,
             "test": [
              0.2192948431
             ]
            },
            {
             "iteration": 31,
             "learn": [
              0.2110240959
             ],
             "passed_time": 13.98592002,
             "remaining_time": 29.72008003,
             "test": [
              0.212133636
             ]
            },
            {
             "iteration": 32,
             "learn": [
              0.2034584399
             ],
             "passed_time": 14.3919716,
             "remaining_time": 29.22006354,
             "test": [
              0.2051414994
             ]
            },
            {
             "iteration": 33,
             "learn": [
              0.1966635861
             ],
             "passed_time": 14.80967614,
             "remaining_time": 28.74819485,
             "test": [
              0.1984942576
             ]
            },
            {
             "iteration": 34,
             "learn": [
              0.1912824794
             ],
             "passed_time": 15.25150633,
             "remaining_time": 28.32422603,
             "test": [
              0.1920875895
             ]
            },
            {
             "iteration": 35,
             "learn": [
              0.1840681271
             ],
             "passed_time": 15.60975824,
             "remaining_time": 27.75068132,
             "test": [
              0.1859112267
             ]
            },
            {
             "iteration": 36,
             "learn": [
              0.1788863997
             ],
             "passed_time": 16.01191687,
             "remaining_time": 27.26353414,
             "test": [
              0.1799575687
             ]
            },
            {
             "iteration": 37,
             "learn": [
              0.172320733
             ],
             "passed_time": 16.41386456,
             "remaining_time": 26.78051586,
             "test": [
              0.1742139435
             ]
            },
            {
             "iteration": 38,
             "learn": [
              0.1677710033
             ],
             "passed_time": 16.86156945,
             "remaining_time": 26.37322401,
             "test": [
              0.1686663765
             ]
            },
            {
             "iteration": 39,
             "learn": [
              0.1615610492
             ],
             "passed_time": 17.23670015,
             "remaining_time": 25.85505023,
             "test": [
              0.1633040926
             ]
            },
            {
             "iteration": 40,
             "learn": [
              0.1564398836
             ],
             "passed_time": 17.66077059,
             "remaining_time": 25.41427962,
             "test": [
              0.1581477325
             ]
            },
            {
             "iteration": 41,
             "learn": [
              0.1521271373
             ],
             "passed_time": 18.16984708,
             "remaining_time": 25.09169358,
             "test": [
              0.1531716067
             ]
            },
            {
             "iteration": 42,
             "learn": [
              0.1471217676
             ],
             "passed_time": 18.49384929,
             "remaining_time": 24.51510255,
             "test": [
              0.1483611766
             ]
            },
            {
             "iteration": 43,
             "learn": [
              0.1420002348
             ],
             "passed_time": 18.94460427,
             "remaining_time": 24.11131453,
             "test": [
              0.143721861
             ]
            },
            {
             "iteration": 44,
             "learn": [
              0.1372456248
             ],
             "passed_time": 19.35608022,
             "remaining_time": 23.65743138,
             "test": [
              0.1392418841
             ]
            },
            {
             "iteration": 45,
             "learn": [
              0.1330259613
             ],
             "passed_time": 19.75764911,
             "remaining_time": 23.193762,
             "test": [
              0.1349161305
             ]
            },
            {
             "iteration": 46,
             "learn": [
              0.1290299343
             ],
             "passed_time": 20.21644372,
             "remaining_time": 22.79726632,
             "test": [
              0.1307375702
             ]
            },
            {
             "iteration": 47,
             "learn": [
              0.1251058563
             ],
             "passed_time": 20.61117167,
             "remaining_time": 22.32876931,
             "test": [
              0.1266862885
             ]
            },
            {
             "iteration": 48,
             "learn": [
              0.1211888524
             ],
             "passed_time": 21.08043403,
             "remaining_time": 21.94085991,
             "test": [
              0.1226358885
             ]
            },
            {
             "iteration": 49,
             "learn": [
              0.1173044191
             ],
             "passed_time": 21.51964319,
             "remaining_time": 21.51964319,
             "test": [
              0.1188660734
             ]
            },
            {
             "iteration": 50,
             "learn": [
              0.1134393614
             ],
             "passed_time": 21.8874761,
             "remaining_time": 21.0291437,
             "test": [
              0.1152228455
             ]
            },
            {
             "iteration": 51,
             "learn": [
              0.1098745823
             ],
             "passed_time": 22.33696936,
             "remaining_time": 20.61874095,
             "test": [
              0.1117026544
             ]
            },
            {
             "iteration": 52,
             "learn": [
              0.1070372071
             ],
             "passed_time": 22.70137811,
             "remaining_time": 20.13141078,
             "test": [
              0.1081713924
             ]
            },
            {
             "iteration": 53,
             "learn": [
              0.103526104
             ],
             "passed_time": 23.13553511,
             "remaining_time": 19.70804843,
             "test": [
              0.104879616
             ]
            },
            {
             "iteration": 54,
             "learn": [
              0.0998592476
             ],
             "passed_time": 23.58968829,
             "remaining_time": 19.30065405,
             "test": [
              0.1015632983
             ]
            },
            {
             "iteration": 55,
             "learn": [
              0.09725271125
             ],
             "passed_time": 24.00026814,
             "remaining_time": 18.85735354,
             "test": [
              0.0984827361
             ]
            },
            {
             "iteration": 56,
             "learn": [
              0.09387733799
             ],
             "passed_time": 24.49446276,
             "remaining_time": 18.47827892,
             "test": [
              0.09538546706
             ]
            },
            {
             "iteration": 57,
             "learn": [
              0.09133426877
             ],
             "passed_time": 24.92652202,
             "remaining_time": 18.05024008,
             "test": [
              0.09250501797
             ]
            },
            {
             "iteration": 58,
             "learn": [
              0.08806167519
             ],
             "passed_time": 25.32439961,
             "remaining_time": 17.59831159,
             "test": [
              0.08960448463
             ]
            },
            {
             "iteration": 59,
             "learn": [
              0.08561114269
             ],
             "passed_time": 25.71279641,
             "remaining_time": 17.14186427,
             "test": [
              0.08690736044
             ]
            },
            {
             "iteration": 60,
             "learn": [
              0.08270448295
             ],
             "passed_time": 26.16795349,
             "remaining_time": 16.73033092,
             "test": [
              0.08420059148
             ]
            },
            {
             "iteration": 61,
             "learn": [
              0.08020932201
             ],
             "passed_time": 26.59993866,
             "remaining_time": 16.30318821,
             "test": [
              0.0816765092
             ]
            },
            {
             "iteration": 62,
             "learn": [
              0.07806871336
             ],
             "passed_time": 27.01150597,
             "remaining_time": 15.86390033,
             "test": [
              0.07913873178
             ]
            },
            {
             "iteration": 63,
             "learn": [
              0.07560384451
             ],
             "passed_time": 27.41552013,
             "remaining_time": 15.42123007,
             "test": [
              0.07677439218
             ]
            },
            {
             "iteration": 64,
             "learn": [
              0.07308067723
             ],
             "passed_time": 27.84830601,
             "remaining_time": 14.9952417,
             "test": [
              0.07448625256
             ]
            },
            {
             "iteration": 65,
             "learn": [
              0.0707451523
             ],
             "passed_time": 28.27127947,
             "remaining_time": 14.56399245,
             "test": [
              0.07217738857
             ]
            },
            {
             "iteration": 66,
             "learn": [
              0.0685790739
             ],
             "passed_time": 28.71507791,
             "remaining_time": 14.14324733,
             "test": [
              0.0699476092
             ]
            },
            {
             "iteration": 67,
             "learn": [
              0.06653235591
             ],
             "passed_time": 29.11847628,
             "remaining_time": 13.70281237,
             "test": [
              0.0677915152
             ]
            },
            {
             "iteration": 68,
             "learn": [
              0.06456336121
             ],
             "passed_time": 29.48193539,
             "remaining_time": 13.2455072,
             "test": [
              0.06578178669
             ]
            },
            {
             "iteration": 69,
             "learn": [
              0.062606392
             ],
             "passed_time": 29.90867804,
             "remaining_time": 12.81800488,
             "test": [
              0.06383546171
             ]
            },
            {
             "iteration": 70,
             "learn": [
              0.06065862757
             ],
             "passed_time": 30.24970595,
             "remaining_time": 12.3555137,
             "test": [
              0.06195103007
             ]
            },
            {
             "iteration": 71,
             "learn": [
              0.05876248374
             ],
             "passed_time": 30.60460365,
             "remaining_time": 11.90179031,
             "test": [
              0.06012842111
             ]
            },
            {
             "iteration": 72,
             "learn": [
              0.05695749647
             ],
             "passed_time": 31.00984183,
             "remaining_time": 11.46939355,
             "test": [
              0.05829803422
             ]
            },
            {
             "iteration": 73,
             "learn": [
              0.05552276675
             ],
             "passed_time": 31.41132059,
             "remaining_time": 11.03640994,
             "test": [
              0.05658876001
             ]
            },
            {
             "iteration": 74,
             "learn": [
              0.05376631741
             ],
             "passed_time": 31.85849024,
             "remaining_time": 10.61949675,
             "test": [
              0.05493406296
             ]
            },
            {
             "iteration": 75,
             "learn": [
              0.05193103853
             ],
             "passed_time": 32.27397805,
             "remaining_time": 10.19178254,
             "test": [
              0.05325136846
             ]
            },
            {
             "iteration": 76,
             "learn": [
              0.05062088282
             ],
             "passed_time": 32.7074684,
             "remaining_time": 9.769763288,
             "test": [
              0.0516094887
             ]
            },
            {
             "iteration": 77,
             "learn": [
              0.04892610249
             ],
             "passed_time": 33.18574205,
             "remaining_time": 9.36008109,
             "test": [
              0.05002978502
             ]
            },
            {
             "iteration": 78,
             "learn": [
              0.04744409705
             ],
             "passed_time": 33.59517192,
             "remaining_time": 8.930362156,
             "test": [
              0.04849973938
             ]
            },
            {
             "iteration": 79,
             "learn": [
              0.04599825414
             ],
             "passed_time": 34.02588656,
             "remaining_time": 8.50647164,
             "test": [
              0.04701731684
             ]
            },
            {
             "iteration": 80,
             "learn": [
              0.04473800083
             ],
             "passed_time": 34.42264654,
             "remaining_time": 8.074447954,
             "test": [
              0.04559078908
             ]
            },
            {
             "iteration": 81,
             "learn": [
              0.04317945935
             ],
             "passed_time": 34.85762735,
             "remaining_time": 7.651674296,
             "test": [
              0.04426424513
             ]
            },
            {
             "iteration": 82,
             "learn": [
              0.04204716908
             ],
             "passed_time": 35.22242588,
             "remaining_time": 7.214231807,
             "test": [
              0.0429118027
             ]
            },
            {
             "iteration": 83,
             "learn": [
              0.04079983833
             ],
             "passed_time": 35.54458234,
             "remaining_time": 6.770396636,
             "test": [
              0.04160486545
             ]
            },
            {
             "iteration": 84,
             "learn": [
              0.03943728804
             ],
             "passed_time": 35.92247174,
             "remaining_time": 6.339259718,
             "test": [
              0.0403351657
             ]
            },
            {
             "iteration": 85,
             "learn": [
              0.03821589663
             ],
             "passed_time": 36.29515404,
             "remaining_time": 5.908513449,
             "test": [
              0.03911126018
             ]
            },
            {
             "iteration": 86,
             "learn": [
              0.03717681493
             ],
             "passed_time": 36.73158851,
             "remaining_time": 5.488628168,
             "test": [
              0.03792113315
             ]
            },
            {
             "iteration": 87,
             "learn": [
              0.0361232026
             ],
             "passed_time": 37.09062275,
             "remaining_time": 5.057812193,
             "test": [
              0.03677255474
             ]
            },
            {
             "iteration": 88,
             "learn": [
              0.03495496541
             ],
             "passed_time": 37.50959744,
             "remaining_time": 4.636017661,
             "test": [
              0.03566082591
             ]
            },
            {
             "iteration": 89,
             "learn": [
              0.03390448192
             ],
             "passed_time": 37.94112154,
             "remaining_time": 4.215680171,
             "test": [
              0.03458077977
             ]
            },
            {
             "iteration": 90,
             "learn": [
              0.03289768747
             ],
             "passed_time": 38.39205091,
             "remaining_time": 3.797016024,
             "test": [
              0.03358116979
             ]
            },
            {
             "iteration": 91,
             "learn": [
              0.03190451775
             ],
             "passed_time": 38.79989937,
             "remaining_time": 3.373904293,
             "test": [
              0.03256774762
             ]
            },
            {
             "iteration": 92,
             "learn": [
              0.0309272382
             ],
             "passed_time": 39.22305115,
             "remaining_time": 2.952272667,
             "test": [
              0.03162807968
             ]
            },
            {
             "iteration": 93,
             "learn": [
              0.02998775162
             ],
             "passed_time": 39.6500869,
             "remaining_time": 2.53085661,
             "test": [
              0.03067607989
             ]
            },
            {
             "iteration": 94,
             "learn": [
              0.02908366527
             ],
             "passed_time": 40.1176495,
             "remaining_time": 2.111455237,
             "test": [
              0.02979557722
             ]
            },
            {
             "iteration": 95,
             "learn": [
              0.02830341348
             ],
             "passed_time": 40.54946046,
             "remaining_time": 1.689560852,
             "test": [
              0.02890039663
             ]
            },
            {
             "iteration": 96,
             "learn": [
              0.02740835078
             ],
             "passed_time": 41.111915,
             "remaining_time": 1.271502526,
             "test": [
              0.02802580851
             ]
            },
            {
             "iteration": 97,
             "learn": [
              0.02651739515
             ],
             "passed_time": 41.66241181,
             "remaining_time": 0.8502533022,
             "test": [
              0.02718553324
             ]
            },
            {
             "iteration": 98,
             "learn": [
              0.02584247086
             ],
             "passed_time": 42.21976692,
             "remaining_time": 0.4264622921,
             "test": [
              0.02640748478
             ]
            },
            {
             "iteration": 99,
             "learn": [
              0.02498116276
             ],
             "passed_time": 42.59272004,
             "remaining_time": 0,
             "test": [
              0.02561043884
             ]
            }
           ],
           "meta": {
            "iteration_count": 100,
            "launch_mode": "Train",
            "learn_metrics": [
             {
              "best_value": "Min",
              "name": "CrossEntropy"
             }
            ],
            "learn_sets": [
             "learn"
            ],
            "name": "experiment",
            "parameters": "",
            "test_metrics": [
             {
              "best_value": "Min",
              "name": "CrossEntropy"
             }
            ],
            "test_sets": [
             "test"
            ]
           }
          },
          "passed_iterations": 99,
          "total_iterations": 100
         },
         "name": "catboost_info",
         "path": "catboost_info"
        }
       },
       "layout": "IPY_MODEL_77eaa9fefbdd4a9a9295724e31054903"
      }
     },
     "af55ac31ad4a4f8b9db850a0eb388924": {
      "model_module": "@jupyter-widgets/base",
      "model_module_version": "1.2.0",
      "model_name": "LayoutModel",
      "state": {
       "_model_module": "@jupyter-widgets/base",
       "_model_module_version": "1.2.0",
       "_model_name": "LayoutModel",
       "_view_count": null,
       "_view_module": "@jupyter-widgets/base",
       "_view_module_version": "1.2.0",
       "_view_name": "LayoutView",
       "align_content": null,
       "align_items": null,
       "align_self": "stretch",
       "border": null,
       "bottom": null,
       "display": null,
       "flex": null,
       "flex_flow": null,
       "grid_area": null,
       "grid_auto_columns": null,
       "grid_auto_flow": null,
       "grid_auto_rows": null,
       "grid_column": null,
       "grid_gap": null,
       "grid_row": null,
       "grid_template_areas": null,
       "grid_template_columns": null,
       "grid_template_rows": null,
       "height": "500px",
       "justify_content": null,
       "justify_items": null,
       "left": null,
       "margin": null,
       "max_height": null,
       "max_width": null,
       "min_height": null,
       "min_width": null,
       "object_fit": null,
       "object_position": null,
       "order": null,
       "overflow": null,
       "overflow_x": null,
       "overflow_y": null,
       "padding": null,
       "right": null,
       "top": null,
       "visibility": null,
       "width": null
      }
     },
     "af6b350c303144f49bd8a29d10f7db13": {
      "model_module": "@jupyter-widgets/base",
      "model_module_version": "1.2.0",
      "model_name": "LayoutModel",
      "state": {
       "_model_module": "@jupyter-widgets/base",
       "_model_module_version": "1.2.0",
       "_model_name": "LayoutModel",
       "_view_count": null,
       "_view_module": "@jupyter-widgets/base",
       "_view_module_version": "1.2.0",
       "_view_name": "LayoutView",
       "align_content": null,
       "align_items": null,
       "align_self": "stretch",
       "border": null,
       "bottom": null,
       "display": null,
       "flex": null,
       "flex_flow": null,
       "grid_area": null,
       "grid_auto_columns": null,
       "grid_auto_flow": null,
       "grid_auto_rows": null,
       "grid_column": null,
       "grid_gap": null,
       "grid_row": null,
       "grid_template_areas": null,
       "grid_template_columns": null,
       "grid_template_rows": null,
       "height": "500px",
       "justify_content": null,
       "justify_items": null,
       "left": null,
       "margin": null,
       "max_height": null,
       "max_width": null,
       "min_height": null,
       "min_width": null,
       "object_fit": null,
       "object_position": null,
       "order": null,
       "overflow": null,
       "overflow_x": null,
       "overflow_y": null,
       "padding": null,
       "right": null,
       "top": null,
       "visibility": null,
       "width": null
      }
     },
     "bde08210dca04726ac9602d65ad126ed": {
      "model_module": "@jupyter-widgets/base",
      "model_module_version": "1.2.0",
      "model_name": "LayoutModel",
      "state": {
       "_model_module": "@jupyter-widgets/base",
       "_model_module_version": "1.2.0",
       "_model_name": "LayoutModel",
       "_view_count": null,
       "_view_module": "@jupyter-widgets/base",
       "_view_module_version": "1.2.0",
       "_view_name": "LayoutView",
       "align_content": null,
       "align_items": null,
       "align_self": "stretch",
       "border": null,
       "bottom": null,
       "display": null,
       "flex": null,
       "flex_flow": null,
       "grid_area": null,
       "grid_auto_columns": null,
       "grid_auto_flow": null,
       "grid_auto_rows": null,
       "grid_column": null,
       "grid_gap": null,
       "grid_row": null,
       "grid_template_areas": null,
       "grid_template_columns": null,
       "grid_template_rows": null,
       "height": "500px",
       "justify_content": null,
       "justify_items": null,
       "left": null,
       "margin": null,
       "max_height": null,
       "max_width": null,
       "min_height": null,
       "min_width": null,
       "object_fit": null,
       "object_position": null,
       "order": null,
       "overflow": null,
       "overflow_x": null,
       "overflow_y": null,
       "padding": null,
       "right": null,
       "top": null,
       "visibility": null,
       "width": null
      }
     },
     "c006a8033f744d12bbee0b3d2cd5bf06": {
      "model_module": "catboost-widget",
      "model_module_version": "^1.0.0",
      "model_name": "CatboostWidgetModel",
      "state": {
       "_dom_classes": [],
       "_model_module": "catboost-widget",
       "_model_module_version": "^1.0.0",
       "_model_name": "CatboostWidgetModel",
       "_view_count": null,
       "_view_module": "catboost-widget",
       "_view_module_version": "^1.0.0",
       "_view_name": "CatboostWidgetView",
       "data": {
        "catboost_info": {
         "content": {
          "data": {
           "iterations": [
            {
             "iteration": 0,
             "learn": [
              0.6613788636
             ],
             "passed_time": 0.4095760188,
             "remaining_time": 40.54802586,
             "test": [
              0.6636006298
             ]
            },
            {
             "iteration": 1,
             "learn": [
              0.636299292
             ],
             "passed_time": 0.8212134089,
             "remaining_time": 40.23945703,
             "test": [
              0.635773474
             ]
            },
            {
             "iteration": 2,
             "learn": [
              0.6093777731
             ],
             "passed_time": 1.256282132,
             "remaining_time": 40.61978893,
             "test": [
              0.6095215344
             ]
            },
            {
             "iteration": 3,
             "learn": [
              0.583717412
             ],
             "passed_time": 1.656547731,
             "remaining_time": 39.75714554,
             "test": [
              0.584714961
             ]
            },
            {
             "iteration": 4,
             "learn": [
              0.5621935146
             ],
             "passed_time": 2.050003324,
             "remaining_time": 38.95006316,
             "test": [
              0.5612418267
             ]
            },
            {
             "iteration": 5,
             "learn": [
              0.5376757806
             ],
             "passed_time": 2.458871815,
             "remaining_time": 38.5223251,
             "test": [
              0.5389969432
             ]
            },
            {
             "iteration": 6,
             "learn": [
              0.5168853703
             ],
             "passed_time": 2.868629418,
             "remaining_time": 38.11179084,
             "test": [
              0.5178907453
             ]
            },
            {
             "iteration": 7,
             "learn": [
              0.4986877167
             ],
             "passed_time": 3.238560869,
             "remaining_time": 37.24344999,
             "test": [
              0.4978422166
             ]
            },
            {
             "iteration": 8,
             "learn": [
              0.4785298718
             ],
             "passed_time": 3.707148325,
             "remaining_time": 37.48338862,
             "test": [
              0.4787786278
             ]
            },
            {
             "iteration": 9,
             "learn": [
              0.4605846887
             ],
             "passed_time": 4.10053947,
             "remaining_time": 36.90485523,
             "test": [
              0.4606333734
             ]
            },
            {
             "iteration": 10,
             "learn": [
              0.4438477639
             ],
             "passed_time": 4.502783439,
             "remaining_time": 36.43161146,
             "test": [
              0.4433459182
             ]
            },
            {
             "iteration": 11,
             "learn": [
              0.4280570816
             ],
             "passed_time": 4.933318687,
             "remaining_time": 36.17767037,
             "test": [
              0.4268604425
             ]
            },
            {
             "iteration": 12,
             "learn": [
              0.4121314464
             ],
             "passed_time": 5.402637556,
             "remaining_time": 36.15611287,
             "test": [
              0.4111279339
             ]
            },
            {
             "iteration": 13,
             "learn": [
              0.3967834323
             ],
             "passed_time": 5.771938301,
             "remaining_time": 35.45619242,
             "test": [
              0.3961020586
             ]
            },
            {
             "iteration": 14,
             "learn": [
              0.3824001324
             ],
             "passed_time": 6.378899281,
             "remaining_time": 36.14709593,
             "test": [
              0.3817424828
             ]
            },
            {
             "iteration": 15,
             "learn": [
              0.3673391527
             ],
             "passed_time": 6.99719687,
             "remaining_time": 36.73528357,
             "test": [
              0.3680068062
             ]
            },
            {
             "iteration": 16,
             "learn": [
              0.3538828288
             ],
             "passed_time": 7.490145236,
             "remaining_time": 36.56953262,
             "test": [
              0.3548614767
             ]
            },
            {
             "iteration": 17,
             "learn": [
              0.3431822412
             ],
             "passed_time": 7.928931789,
             "remaining_time": 36.12068926,
             "test": [
              0.3422740942
             ]
            },
            {
             "iteration": 18,
             "learn": [
              0.3300937058
             ],
             "passed_time": 8.321570204,
             "remaining_time": 35.47616771,
             "test": [
              0.3302140453
             ]
            },
            {
             "iteration": 19,
             "learn": [
              0.3196814993
             ],
             "passed_time": 8.729608912,
             "remaining_time": 34.91843565,
             "test": [
              0.3186532963
             ]
            },
            {
             "iteration": 20,
             "learn": [
              0.3069789016
             ],
             "passed_time": 9.199285691,
             "remaining_time": 34.60683665,
             "test": [
              0.3075651294
             ]
            },
            {
             "iteration": 21,
             "learn": [
              0.2968899432
             ],
             "passed_time": 9.613799649,
             "remaining_time": 34.08528966,
             "test": [
              0.2969255761
             ]
            },
            {
             "iteration": 22,
             "learn": [
              0.2867774603
             ],
             "passed_time": 10.07779525,
             "remaining_time": 33.73870584,
             "test": [
              0.2867102008
             ]
            },
            {
             "iteration": 23,
             "learn": [
              0.2765113354
             ],
             "passed_time": 10.50274551,
             "remaining_time": 33.25869411,
             "test": [
              0.2768990032
             ]
            },
            {
             "iteration": 24,
             "learn": [
              0.2664572722
             ],
             "passed_time": 10.88688164,
             "remaining_time": 32.66064493,
             "test": [
              0.2674716404
             ]
            },
            {
             "iteration": 25,
             "learn": [
              0.2579891955
             ],
             "passed_time": 11.2569566,
             "remaining_time": 32.03903031,
             "test": [
              0.2584100001
             ]
            },
            {
             "iteration": 26,
             "learn": [
              0.249973248
             ],
             "passed_time": 11.70866859,
             "remaining_time": 31.65677064,
             "test": [
              0.2496983058
             ]
            },
            {
             "iteration": 27,
             "learn": [
              0.241982745
             ],
             "passed_time": 12.12660715,
             "remaining_time": 31.1827041,
             "test": [
              0.2413171456
             ]
            },
            {
             "iteration": 28,
             "learn": [
              0.2336887686
             ],
             "passed_time": 12.50651884,
             "remaining_time": 30.61940819,
             "test": [
              0.2332525897
             ]
            },
            {
             "iteration": 29,
             "learn": [
              0.2258560686
             ],
             "passed_time": 12.9301539,
             "remaining_time": 30.17035909,
             "test": [
              0.2254898444
             ]
            },
            {
             "iteration": 30,
             "learn": [
              0.2185346983
             ],
             "passed_time": 13.37096997,
             "remaining_time": 29.76119122,
             "test": [
              0.2180161926
             ]
            },
            {
             "iteration": 31,
             "learn": [
              0.2109419321
             ],
             "passed_time": 13.84771646,
             "remaining_time": 29.42639748,
             "test": [
              0.2108184753
             ]
            },
            {
             "iteration": 32,
             "learn": [
              0.2033625356
             ],
             "passed_time": 14.29151281,
             "remaining_time": 29.01610177,
             "test": [
              0.2038839058
             ]
            },
            {
             "iteration": 33,
             "learn": [
              0.1964480915
             ],
             "passed_time": 14.70801199,
             "remaining_time": 28.55084681,
             "test": [
              0.1972013172
             ]
            },
            {
             "iteration": 34,
             "learn": [
              0.1911859016
             ],
             "passed_time": 15.150569,
             "remaining_time": 28.136771,
             "test": [
              0.1907602495
             ]
            },
            {
             "iteration": 35,
             "learn": [
              0.1839114946
             ],
             "passed_time": 15.54654494,
             "remaining_time": 27.63830212,
             "test": [
              0.1845501097
             ]
            },
            {
             "iteration": 36,
             "learn": [
              0.1787735712
             ],
             "passed_time": 15.95109899,
             "remaining_time": 27.15997936,
             "test": [
              0.1785615519
             ]
            },
            {
             "iteration": 37,
             "learn": [
              0.1721999697
             ],
             "passed_time": 16.34883769,
             "remaining_time": 26.6744194,
             "test": [
              0.172785119
             ]
            },
            {
             "iteration": 38,
             "learn": [
              0.1676817525
             ],
             "passed_time": 16.84128736,
             "remaining_time": 26.34150074,
             "test": [
              0.1672136361
             ]
            },
            {
             "iteration": 39,
             "learn": [
              0.1614368852
             ],
             "passed_time": 17.20877509,
             "remaining_time": 25.81316263,
             "test": [
              0.1618357844
             ]
            },
            {
             "iteration": 40,
             "learn": [
              0.1563407299
             ],
             "passed_time": 17.63572501,
             "remaining_time": 25.37823843,
             "test": [
              0.1566452461
             ]
            },
            {
             "iteration": 41,
             "learn": [
              0.1520314827
             ],
             "passed_time": 18.1297453,
             "remaining_time": 25.03631494,
             "test": [
              0.1516350519
             ]
            },
            {
             "iteration": 42,
             "learn": [
              0.1470211518
             ],
             "passed_time": 18.45681817,
             "remaining_time": 24.46601479,
             "test": [
              0.1467969421
             ]
            },
            {
             "iteration": 43,
             "learn": [
              0.1418789885
             ],
             "passed_time": 18.86000959,
             "remaining_time": 24.00364857,
             "test": [
              0.1421255984
             ]
            },
            {
             "iteration": 44,
             "learn": [
              0.1371210633
             ],
             "passed_time": 19.25574714,
             "remaining_time": 23.53480206,
             "test": [
              0.1376132938
             ]
            },
            {
             "iteration": 45,
             "learn": [
              0.1329223884
             ],
             "passed_time": 19.6611882,
             "remaining_time": 23.08052528,
             "test": [
              0.1332547304
             ]
            },
            {
             "iteration": 46,
             "learn": [
              0.1289331167
             ],
             "passed_time": 20.11188043,
             "remaining_time": 22.67935453,
             "test": [
              0.1290437376
             ]
            },
            {
             "iteration": 47,
             "learn": [
              0.1250075995
             ],
             "passed_time": 20.50466049,
             "remaining_time": 22.2133822,
             "test": [
              0.1249740105
             ]
            },
            {
             "iteration": 48,
             "learn": [
              0.1210982774
             ],
             "passed_time": 20.96335475,
             "remaining_time": 21.81900188,
             "test": [
              0.1210409409
             ]
            },
            {
             "iteration": 49,
             "learn": [
              0.1172110119
             ],
             "passed_time": 21.40076053,
             "remaining_time": 21.40076053,
             "test": [
              0.1172397344
             ]
            },
            {
             "iteration": 50,
             "learn": [
              0.1133378945
             ],
             "passed_time": 21.76249546,
             "remaining_time": 20.90906427,
             "test": [
              0.1135645489
             ]
            },
            {
             "iteration": 51,
             "learn": [
              0.1097721347
             ],
             "passed_time": 22.2014321,
             "remaining_time": 20.49362963,
             "test": [
              0.11001131
             ]
            },
            {
             "iteration": 52,
             "learn": [
              0.1069441367
             ],
             "passed_time": 22.57188303,
             "remaining_time": 20.01657552,
             "test": [
              0.1065755828
             ]
            },
            {
             "iteration": 53,
             "learn": [
              0.1034253223
             ],
             "passed_time": 23.00045008,
             "remaining_time": 19.59297599,
             "test": [
              0.1032529116
             ]
            },
            {
             "iteration": 54,
             "learn": [
              0.09974947307
             ],
             "passed_time": 23.46620112,
             "remaining_time": 19.19961909,
             "test": [
              0.1000392824
             ]
            },
            {
             "iteration": 55,
             "learn": [
              0.09715775491
             ],
             "passed_time": 23.86298347,
             "remaining_time": 18.74948701,
             "test": [
              0.09693059325
             ]
            },
            {
             "iteration": 56,
             "learn": [
              0.09378630469
             ],
             "passed_time": 24.35222744,
             "remaining_time": 18.3709786,
             "test": [
              0.09392405699
             ]
            },
            {
             "iteration": 57,
             "learn": [
              0.09124396489
             ],
             "passed_time": 24.78747018,
             "remaining_time": 17.94954737,
             "test": [
              0.09101458531
             ]
            },
            {
             "iteration": 58,
             "learn": [
              0.08796124499
             ],
             "passed_time": 25.17064624,
             "remaining_time": 17.49146603,
             "test": [
              0.0881993737
             ]
            },
            {
             "iteration": 59,
             "learn": [
              0.08549109893
             ],
             "passed_time": 25.55316948,
             "remaining_time": 17.03544632,
             "test": [
              0.0854752545
             ]
            },
            {
             "iteration": 60,
             "learn": [
              0.0825943815
             ],
             "passed_time": 25.99850499,
             "remaining_time": 16.62199499,
             "test": [
              0.08283907294
             ]
            },
            {
             "iteration": 61,
             "learn": [
              0.08012429648
             ],
             "passed_time": 26.43094652,
             "remaining_time": 16.19961238,
             "test": [
              0.08028751746
             ]
            },
            {
             "iteration": 62,
             "learn": [
              0.07799383879
             ],
             "passed_time": 26.85094693,
             "remaining_time": 15.76960375,
             "test": [
              0.07781832939
             ]
            },
            {
             "iteration": 63,
             "learn": [
              0.07551133761
             ],
             "passed_time": 27.24991387,
             "remaining_time": 15.32807655,
             "test": [
              0.07542760584
             ]
            },
            {
             "iteration": 64,
             "learn": [
              0.07297453826
             ],
             "passed_time": 27.65064463,
             "remaining_time": 14.88880865,
             "test": [
              0.07311315549
             ]
            },
            {
             "iteration": 65,
             "learn": [
              0.07058069506
             ],
             "passed_time": 28.10315464,
             "remaining_time": 14.47738269,
             "test": [
              0.07087248404
             ]
            },
            {
             "iteration": 66,
             "learn": [
              0.06846676616
             ],
             "passed_time": 28.53997009,
             "remaining_time": 14.05700019,
             "test": [
              0.0687029182
             ]
            },
            {
             "iteration": 67,
             "learn": [
              0.06645589438
             ],
             "passed_time": 28.97714456,
             "remaining_time": 13.63630332,
             "test": [
              0.06660197629
             ]
            },
            {
             "iteration": 68,
             "learn": [
              0.06448878727
             ],
             "passed_time": 29.33194117,
             "remaining_time": 13.17811849,
             "test": [
              0.06456733745
             ]
            },
            {
             "iteration": 69,
             "learn": [
              0.06253490655
             ],
             "passed_time": 29.74740139,
             "remaining_time": 12.74888631,
             "test": [
              0.06259708711
             ]
            },
            {
             "iteration": 70,
             "learn": [
              0.06058767768
             ],
             "passed_time": 30.08521073,
             "remaining_time": 12.28832551,
             "test": [
              0.06068920311
             ]
            },
            {
             "iteration": 71,
             "learn": [
              0.0586763066
             ],
             "passed_time": 30.44646851,
             "remaining_time": 11.84029331,
             "test": [
              0.05884114457
             ]
            },
            {
             "iteration": 72,
             "learn": [
              0.05687066877
             ],
             "passed_time": 30.83803126,
             "remaining_time": 11.40584718,
             "test": [
              0.05705103153
             ]
            },
            {
             "iteration": 73,
             "learn": [
              0.05545615881
             ],
             "passed_time": 31.24214204,
             "remaining_time": 10.97696883,
             "test": [
              0.05531659618
             ]
            },
            {
             "iteration": 74,
             "learn": [
              0.05369901538
             ],
             "passed_time": 31.69152199,
             "remaining_time": 10.56384066,
             "test": [
              0.05363664134
             ]
            },
            {
             "iteration": 75,
             "learn": [
              0.0518495549
             ],
             "passed_time": 32.1422911,
             "remaining_time": 10.15019719,
             "test": [
              0.05200936934
             ]
            },
            {
             "iteration": 76,
             "learn": [
              0.05055707259
             ],
             "passed_time": 32.57229038,
             "remaining_time": 9.729385437,
             "test": [
              0.0504326757
             ]
            },
            {
             "iteration": 77,
             "learn": [
              0.04886505465
             ],
             "passed_time": 33.06983062,
             "remaining_time": 9.327388123,
             "test": [
              0.04890481468
             ]
            },
            {
             "iteration": 78,
             "learn": [
              0.04728981705
             ],
             "passed_time": 33.48658961,
             "remaining_time": 8.901498504,
             "test": [
              0.0474245988
             ]
            },
            {
             "iteration": 79,
             "learn": [
              0.04593761126
             ],
             "passed_time": 33.92904937,
             "remaining_time": 8.482262342,
             "test": [
              0.04599019447
             ]
            },
            {
             "iteration": 80,
             "learn": [
              0.04467500216
             ],
             "passed_time": 34.32749258,
             "remaining_time": 8.052127889,
             "test": [
              0.04460034624
             ]
            },
            {
             "iteration": 81,
             "learn": [
              0.04309100937
             ],
             "passed_time": 34.70127087,
             "remaining_time": 7.617352143,
             "test": [
              0.04325317454
             ]
            },
            {
             "iteration": 82,
             "learn": [
              0.04198222449
             ],
             "passed_time": 35.06662039,
             "remaining_time": 7.182319838,
             "test": [
              0.04194798644
             ]
            },
            {
             "iteration": 83,
             "learn": [
              0.04074135329
             ],
             "passed_time": 35.42738878,
             "remaining_time": 6.748074053,
             "test": [
              0.04068261467
             ]
            },
            {
             "iteration": 84,
             "learn": [
              0.03937725712
             ],
             "passed_time": 35.79522048,
             "remaining_time": 6.316803614,
             "test": [
              0.0394561096
             ]
            },
            {
             "iteration": 85,
             "learn": [
              0.03815550264
             ],
             "passed_time": 36.17865871,
             "remaining_time": 5.889549093,
             "test": [
              0.03826730757
             ]
            },
            {
             "iteration": 86,
             "learn": [
              0.03713490425
             ],
             "passed_time": 36.66432941,
             "remaining_time": 5.478577958,
             "test": [
              0.03711581708
             ]
            },
            {
             "iteration": 87,
             "learn": [
              0.0360847295
             ],
             "passed_time": 37.00675867,
             "remaining_time": 5.046376182,
             "test": [
              0.03599903447
             ]
            },
            {
             "iteration": 88,
             "learn": [
              0.03490451127
             ],
             "passed_time": 37.43911466,
             "remaining_time": 4.627306306,
             "test": [
              0.03491700192
             ]
            },
            {
             "iteration": 89,
             "learn": [
              0.03385596055
             ],
             "passed_time": 37.95540224,
             "remaining_time": 4.217266916,
             "test": [
              0.03386764824
             ]
            },
            {
             "iteration": 90,
             "learn": [
              0.03284861658
             ],
             "passed_time": 38.60439511,
             "remaining_time": 3.818017099,
             "test": [
              0.03285121389
             ]
            },
            {
             "iteration": 91,
             "learn": [
              0.03185850414
             ],
             "passed_time": 39.1274924,
             "remaining_time": 3.402390643,
             "test": [
              0.03186482297
             ]
            },
            {
             "iteration": 92,
             "learn": [
              0.03088228092
             ],
             "passed_time": 39.57200569,
             "remaining_time": 2.978538063,
             "test": [
              0.03090925193
             ]
            },
            {
             "iteration": 93,
             "learn": [
              0.02994011081
             ],
             "passed_time": 39.99497512,
             "remaining_time": 2.552870752,
             "test": [
              0.02998245396
             ]
            },
            {
             "iteration": 94,
             "learn": [
              0.02902458062
             ],
             "passed_time": 40.46053223,
             "remaining_time": 2.129501696,
             "test": [
              0.02908404163
             ]
            },
            {
             "iteration": 95,
             "learn": [
              0.02826615033
             ],
             "passed_time": 40.93211593,
             "remaining_time": 1.70550483,
             "test": [
              0.02821285798
             ]
            },
            {
             "iteration": 96,
             "learn": [
              0.02738214952
             ],
             "passed_time": 41.38584526,
             "remaining_time": 1.279974596,
             "test": [
              0.02736816175
             ]
            },
            {
             "iteration": 97,
             "learn": [
              0.02647042749
             ],
             "passed_time": 41.81902207,
             "remaining_time": 0.85344943,
             "test": [
              0.02654922299
             ]
            },
            {
             "iteration": 98,
             "learn": [
              0.02580683944
             ],
             "passed_time": 42.24884764,
             "remaining_time": 0.4267560368,
             "test": [
              0.02575530275
             ]
            },
            {
             "iteration": 99,
             "learn": [
              0.02495301477
             ],
             "passed_time": 42.6306603,
             "remaining_time": 0,
             "test": [
              0.02498509664
             ]
            }
           ],
           "meta": {
            "iteration_count": 100,
            "launch_mode": "Train",
            "learn_metrics": [
             {
              "best_value": "Min",
              "name": "CrossEntropy"
             }
            ],
            "learn_sets": [
             "learn"
            ],
            "name": "experiment",
            "parameters": "",
            "test_metrics": [
             {
              "best_value": "Min",
              "name": "CrossEntropy"
             }
            ],
            "test_sets": [
             "test"
            ]
           }
          },
          "passed_iterations": 99,
          "total_iterations": 100
         },
         "name": "catboost_info",
         "path": "catboost_info"
        }
       },
       "layout": "IPY_MODEL_083aa5f8ddc3463999cd333576c35ae4"
      }
     },
     "c77a2bc6690246319a0ecfbf63747876": {
      "model_module": "@jupyter-widgets/base",
      "model_module_version": "1.2.0",
      "model_name": "LayoutModel",
      "state": {
       "_model_module": "@jupyter-widgets/base",
       "_model_module_version": "1.2.0",
       "_model_name": "LayoutModel",
       "_view_count": null,
       "_view_module": "@jupyter-widgets/base",
       "_view_module_version": "1.2.0",
       "_view_name": "LayoutView",
       "align_content": null,
       "align_items": null,
       "align_self": "stretch",
       "border": null,
       "bottom": null,
       "display": null,
       "flex": null,
       "flex_flow": null,
       "grid_area": null,
       "grid_auto_columns": null,
       "grid_auto_flow": null,
       "grid_auto_rows": null,
       "grid_column": null,
       "grid_gap": null,
       "grid_row": null,
       "grid_template_areas": null,
       "grid_template_columns": null,
       "grid_template_rows": null,
       "height": "500px",
       "justify_content": null,
       "justify_items": null,
       "left": null,
       "margin": null,
       "max_height": null,
       "max_width": null,
       "min_height": null,
       "min_width": null,
       "object_fit": null,
       "object_position": null,
       "order": null,
       "overflow": null,
       "overflow_x": null,
       "overflow_y": null,
       "padding": null,
       "right": null,
       "top": null,
       "visibility": null,
       "width": null
      }
     },
     "c942e0d84aaa47d9abea0bc293c07f35": {
      "model_module": "catboost-widget",
      "model_module_version": "^1.0.0",
      "model_name": "CatboostWidgetModel",
      "state": {
       "_dom_classes": [],
       "_model_module": "catboost-widget",
       "_model_module_version": "^1.0.0",
       "_model_name": "CatboostWidgetModel",
       "_view_count": null,
       "_view_module": "catboost-widget",
       "_view_module_version": "^1.0.0",
       "_view_name": "CatboostWidgetView",
       "data": {
        "catboost_info": {
         "content": {
          "data": {
           "iterations": [
            {
             "iteration": 0,
             "learn": [
              0.6614027304
             ],
             "passed_time": 0.4105888208,
             "remaining_time": 40.64829326,
             "test": [
              0.6636065821
             ]
            },
            {
             "iteration": 1,
             "learn": [
              0.6363319906
             ],
             "passed_time": 0.815144663,
             "remaining_time": 39.94208849,
             "test": [
              0.6357866271
             ]
            },
            {
             "iteration": 2,
             "learn": [
              0.6094039662
             ],
             "passed_time": 1.195941091,
             "remaining_time": 38.66876194,
             "test": [
              0.6095451401
             ]
            },
            {
             "iteration": 3,
             "learn": [
              0.5837563271
             ],
             "passed_time": 1.592727767,
             "remaining_time": 38.2254664,
             "test": [
              0.5847442282
             ]
            },
            {
             "iteration": 4,
             "learn": [
              0.562239934
             ],
             "passed_time": 1.980923241,
             "remaining_time": 37.63754157,
             "test": [
              0.5612749564
             ]
            },
            {
             "iteration": 5,
             "learn": [
              0.5378435448
             ],
             "passed_time": 2.383619531,
             "remaining_time": 37.34337266,
             "test": [
              0.53903454
             ]
            },
            {
             "iteration": 6,
             "learn": [
              0.5169535275
             ],
             "passed_time": 2.788215852,
             "remaining_time": 37.04343918,
             "test": [
              0.5179330118
             ]
            },
            {
             "iteration": 7,
             "learn": [
              0.4987709747
             ],
             "passed_time": 3.156426449,
             "remaining_time": 36.29890417,
             "test": [
              0.4978892323
             ]
            },
            {
             "iteration": 8,
             "learn": [
              0.4786155611
             ],
             "passed_time": 3.617705539,
             "remaining_time": 36.57902267,
             "test": [
              0.478829107
             ]
            },
            {
             "iteration": 9,
             "learn": [
              0.4606767916
             ],
             "passed_time": 4.004790598,
             "remaining_time": 36.04311538,
             "test": [
              0.4606879323
             ]
            },
            {
             "iteration": 10,
             "learn": [
              0.4441621855
             ],
             "passed_time": 4.395743335,
             "remaining_time": 35.56555971,
             "test": [
              0.4434042966
             ]
            },
            {
             "iteration": 11,
             "learn": [
              0.4281618801
             ],
             "passed_time": 4.81951174,
             "remaining_time": 35.3430861,
             "test": [
              0.4269217614
             ]
            },
            {
             "iteration": 12,
             "learn": [
              0.4123984761
             ],
             "passed_time": 5.282672965,
             "remaining_time": 35.35327292,
             "test": [
              0.4111922877
             ]
            },
            {
             "iteration": 13,
             "learn": [
              0.3969166318
             ],
             "passed_time": 5.649132474,
             "remaining_time": 34.70181377,
             "test": [
              0.396168751
             ]
            },
            {
             "iteration": 14,
             "learn": [
              0.3826055894
             ],
             "passed_time": 6.076585375,
             "remaining_time": 34.43398379,
             "test": [
              0.3818122534
             ]
            },
            {
             "iteration": 15,
             "learn": [
              0.3675168396
             ],
             "passed_time": 6.516249022,
             "remaining_time": 34.21030737,
             "test": [
              0.3680810992
             ]
            },
            {
             "iteration": 16,
             "learn": [
              0.3540566124
             ],
             "passed_time": 6.913893248,
             "remaining_time": 33.75606703,
             "test": [
              0.3549377862
             ]
            },
            {
             "iteration": 17,
             "learn": [
              0.343377756
             ],
             "passed_time": 7.349096702,
             "remaining_time": 33.47921831,
             "test": [
              0.3423524289
             ]
            },
            {
             "iteration": 18,
             "learn": [
              0.3302512649
             ],
             "passed_time": 7.741903242,
             "remaining_time": 33.00495593,
             "test": [
              0.3302945627
             ]
            },
            {
             "iteration": 19,
             "learn": [
              0.3198505976
             ],
             "passed_time": 8.145405649,
             "remaining_time": 32.5816226,
             "test": [
              0.3187349139
             ]
            },
            {
             "iteration": 20,
             "learn": [
              0.3072454123
             ],
             "passed_time": 8.634196843,
             "remaining_time": 32.48102622,
             "test": [
              0.3076483662
             ]
            },
            {
             "iteration": 21,
             "learn": [
              0.2970646994
             ],
             "passed_time": 9.043701105,
             "remaining_time": 32.06403119,
             "test": [
              0.2970087805
             ]
            },
            {
             "iteration": 22,
             "learn": [
              0.2870438264
             ],
             "passed_time": 9.507983204,
             "remaining_time": 31.8310742,
             "test": [
              0.2867977405
             ]
            },
            {
             "iteration": 23,
             "learn": [
              0.2767682586
             ],
             "passed_time": 9.926718892,
             "remaining_time": 31.43460982,
             "test": [
              0.2769874373
             ]
            },
            {
             "iteration": 24,
             "learn": [
              0.2669814746
             ],
             "passed_time": 10.29508755,
             "remaining_time": 30.88526264,
             "test": [
              0.267561331
             ]
            },
            {
             "iteration": 25,
             "learn": [
              0.2582136237
             ],
             "passed_time": 10.78050083,
             "remaining_time": 30.68296389,
             "test": [
              0.2584993321
             ]
            },
            {
             "iteration": 26,
             "learn": [
              0.2501834824
             ],
             "passed_time": 11.43024784,
             "remaining_time": 30.90400342,
             "test": [
              0.2497865095
             ]
            },
            {
             "iteration": 27,
             "learn": [
              0.2422036511
             ],
             "passed_time": 11.93940244,
             "remaining_time": 30.70132057,
             "test": [
              0.2414060776
             ]
            },
            {
             "iteration": 28,
             "learn": [
              0.2339337912
             ],
             "passed_time": 12.34511263,
             "remaining_time": 30.22424127,
             "test": [
              0.2333430753
             ]
            },
            {
             "iteration": 29,
             "learn": [
              0.2261185379
             ],
             "passed_time": 12.76635964,
             "remaining_time": 29.78817249,
             "test": [
              0.2255814545
             ]
            },
            {
             "iteration": 30,
             "learn": [
              0.2187890159
             ],
             "passed_time": 13.20336819,
             "remaining_time": 29.3881421,
             "test": [
              0.2181084235
             ]
            },
            {
             "iteration": 31,
             "learn": [
              0.2111777188
             ],
             "passed_time": 13.68724794,
             "remaining_time": 29.08540188,
             "test": [
              0.2109129342
             ]
            },
            {
             "iteration": 32,
             "learn": [
              0.2036495518
             ],
             "passed_time": 14.13236824,
             "remaining_time": 28.69299006,
             "test": [
              0.2039806476
             ]
            },
            {
             "iteration": 33,
             "learn": [
              0.1970783803
             ],
             "passed_time": 14.55346711,
             "remaining_time": 28.25084793,
             "test": [
              0.1972991636
             ]
            },
            {
             "iteration": 34,
             "learn": [
              0.191474012
             ],
             "passed_time": 14.99478101,
             "remaining_time": 27.84745045,
             "test": [
              0.1908591091
             ]
            },
            {
             "iteration": 35,
             "learn": [
              0.1843032107
             ],
             "passed_time": 15.38722126,
             "remaining_time": 27.35506002,
             "test": [
              0.1846496293
             ]
            },
            {
             "iteration": 36,
             "learn": [
              0.1791043651
             ],
             "passed_time": 15.79148277,
             "remaining_time": 26.8882004,
             "test": [
              0.178661928
             ]
            },
            {
             "iteration": 37,
             "learn": [
              0.1725749619
             ],
             "passed_time": 16.18876747,
             "remaining_time": 26.41325218,
             "test": [
              0.17288513
             ]
            },
            {
             "iteration": 38,
             "learn": [
              0.1679731649
             ],
             "passed_time": 16.68631797,
             "remaining_time": 26.09911272,
             "test": [
              0.1673140028
             ]
            },
            {
             "iteration": 39,
             "learn": [
              0.1618268534
             ],
             "passed_time": 17.05384465,
             "remaining_time": 25.58076697,
             "test": [
              0.1619372139
             ]
            },
            {
             "iteration": 40,
             "learn": [
              0.1566623339
             ],
             "passed_time": 17.48556293,
             "remaining_time": 25.16215154,
             "test": [
              0.1567475028
             ]
            },
            {
             "iteration": 41,
             "learn": [
              0.1523468802
             ],
             "passed_time": 17.98072334,
             "remaining_time": 24.83052271,
             "test": [
              0.151738593
             ]
            },
            {
             "iteration": 42,
             "learn": [
              0.1473573539
             ],
             "passed_time": 18.32936749,
             "remaining_time": 24.29706853,
             "test": [
              0.1469057966
             ]
            },
            {
             "iteration": 43,
             "learn": [
              0.1422811036
             ],
             "passed_time": 18.7405222,
             "remaining_time": 23.85157371,
             "test": [
              0.1422349389
             ]
            },
            {
             "iteration": 44,
             "learn": [
              0.1375766651
             ],
             "passed_time": 19.12927277,
             "remaining_time": 23.38022228,
             "test": [
              0.1377233893
             ]
            },
            {
             "iteration": 45,
             "learn": [
              0.1332858481
             ],
             "passed_time": 19.54238747,
             "remaining_time": 22.94106355,
             "test": [
              0.1333650906
             ]
            },
            {
             "iteration": 46,
             "learn": [
              0.1292732879
             ],
             "passed_time": 19.99511325,
             "remaining_time": 22.5476809,
             "test": [
              0.1291546508
             ]
            },
            {
             "iteration": 47,
             "learn": [
              0.1253420307
             ],
             "passed_time": 20.39937641,
             "remaining_time": 22.09932444,
             "test": [
              0.1250854322
             ]
            },
            {
             "iteration": 48,
             "learn": [
              0.121437775
             ],
             "passed_time": 20.84264009,
             "remaining_time": 21.6933601,
             "test": [
              0.121152544
             ]
            },
            {
             "iteration": 49,
             "learn": [
              0.1175610926
             ],
             "passed_time": 21.2792197,
             "remaining_time": 21.2792197,
             "test": [
              0.1173513722
             ]
            },
            {
             "iteration": 50,
             "learn": [
              0.1137166817
             ],
             "passed_time": 21.70904362,
             "remaining_time": 20.85770857,
             "test": [
              0.1136754398
             ]
            },
            {
             "iteration": 51,
             "learn": [
              0.1101746787
             ],
             "passed_time": 22.14845278,
             "remaining_time": 20.44472564,
             "test": [
              0.1101229129
             ]
            },
            {
             "iteration": 52,
             "learn": [
              0.1072964548
             ],
             "passed_time": 22.52277355,
             "remaining_time": 19.9730256,
             "test": [
              0.1066887456
             ]
            },
            {
             "iteration": 53,
             "learn": [
              0.1037970519
             ],
             "passed_time": 22.90160761,
             "remaining_time": 19.50877685,
             "test": [
              0.1033677373
             ]
            },
            {
             "iteration": 54,
             "learn": [
              0.1001535432
             ],
             "passed_time": 23.3649749,
             "remaining_time": 19.11679764,
             "test": [
              0.1001546619
             ]
            },
            {
             "iteration": 55,
             "learn": [
              0.09754069021
             ],
             "passed_time": 23.76187351,
             "remaining_time": 18.67004347,
             "test": [
              0.09704723742
             ]
            },
            {
             "iteration": 56,
             "learn": [
              0.09417226276
             ],
             "passed_time": 24.24717959,
             "remaining_time": 18.29173197,
             "test": [
              0.09403936188
             ]
            },
            {
             "iteration": 57,
             "learn": [
              0.09163124214
             ],
             "passed_time": 24.68469394,
             "remaining_time": 17.8751232,
             "test": [
              0.09113041725
             ]
            },
            {
             "iteration": 58,
             "learn": [
              0.08839478388
             ],
             "passed_time": 25.07343411,
             "remaining_time": 17.42391184,
             "test": [
              0.08831595704
             ]
            },
            {
             "iteration": 59,
             "learn": [
              0.08596717852
             ],
             "passed_time": 25.45937673,
             "remaining_time": 16.97291782,
             "test": [
              0.08559186269
             ]
            },
            {
             "iteration": 60,
             "learn": [
              0.08310820803
             ],
             "passed_time": 25.90168247,
             "remaining_time": 16.56009207,
             "test": [
              0.08295589939
             ]
            },
            {
             "iteration": 61,
             "learn": [
              0.08054781423
             ],
             "passed_time": 26.33260285,
             "remaining_time": 16.13933723,
             "test": [
              0.08040475415
             ]
            },
            {
             "iteration": 62,
             "learn": [
              0.07839654865
             ],
             "passed_time": 26.75225651,
             "remaining_time": 15.71164271,
             "test": [
              0.07793541783
             ]
            },
            {
             "iteration": 63,
             "learn": [
              0.07594298237
             ],
             "passed_time": 27.0975841,
             "remaining_time": 15.24239106,
             "test": [
              0.07554386944
             ]
            },
            {
             "iteration": 64,
             "learn": [
              0.07345887135
             ],
             "passed_time": 27.522272,
             "remaining_time": 14.81968492,
             "test": [
              0.07322929046
             ]
            },
            {
             "iteration": 65,
             "learn": [
              0.07116189833
             ],
             "passed_time": 27.93145987,
             "remaining_time": 14.38893387,
             "test": [
              0.07098668598
             ]
            },
            {
             "iteration": 66,
             "learn": [
              0.0689857084
             ],
             "passed_time": 28.34548637,
             "remaining_time": 13.96120971,
             "test": [
              0.06881683778
             ]
            },
            {
             "iteration": 67,
             "learn": [
              0.06689933138
             ],
             "passed_time": 28.78933401,
             "remaining_time": 13.54792189,
             "test": [
              0.06671848526
             ]
            },
            {
             "iteration": 68,
             "learn": [
              0.06491357669
             ],
             "passed_time": 29.14677455,
             "remaining_time": 13.0949277,
             "test": [
              0.06468395406
             ]
            },
            {
             "iteration": 69,
             "learn": [
              0.06295475766
             ],
             "passed_time": 29.55605781,
             "remaining_time": 12.66688192,
             "test": [
              0.0627134819
             ]
            },
            {
             "iteration": 70,
             "learn": [
              0.0610268795
             ],
             "passed_time": 29.88774118,
             "remaining_time": 12.20766893,
             "test": [
              0.06080554484
             ]
            },
            {
             "iteration": 71,
             "learn": [
              0.05913863103
             ],
             "passed_time": 30.24309166,
             "remaining_time": 11.76120231,
             "test": [
              0.05895853119
             ]
            },
            {
             "iteration": 72,
             "learn": [
              0.05739775788
             ],
             "passed_time": 30.62900644,
             "remaining_time": 11.32853663,
             "test": [
              0.05716900057
             ]
            },
            {
             "iteration": 73,
             "learn": [
              0.05587903599
             ],
             "passed_time": 31.02996956,
             "remaining_time": 10.90242174,
             "test": [
              0.05543499021
             ]
            },
            {
             "iteration": 74,
             "learn": [
              0.0541274272
             ],
             "passed_time": 31.43941738,
             "remaining_time": 10.47980579,
             "test": [
              0.05375193919
             ]
            },
            {
             "iteration": 75,
             "learn": [
              0.05234623634
             ],
             "passed_time": 31.89065552,
             "remaining_time": 10.07073332,
             "test": [
              0.05212502926
             ]
            },
            {
             "iteration": 76,
             "learn": [
              0.05099425459
             ],
             "passed_time": 32.29816161,
             "remaining_time": 9.647502819,
             "test": [
              0.05054849
             ]
            },
            {
             "iteration": 77,
             "learn": [
              0.04928494355
             ],
             "passed_time": 32.81734227,
             "remaining_time": 9.25617346,
             "test": [
              0.04901877652
             ]
            },
            {
             "iteration": 78,
             "learn": [
              0.04780667798
             ],
             "passed_time": 33.21385135,
             "remaining_time": 8.82899846,
             "test": [
              0.04753674724
             ]
            },
            {
             "iteration": 79,
             "learn": [
              0.04634919268
             ],
             "passed_time": 33.61035475,
             "remaining_time": 8.402588687,
             "test": [
              0.04610191433
             ]
            },
            {
             "iteration": 80,
             "learn": [
              0.04509812517
             ],
             "passed_time": 34.00600416,
             "remaining_time": 7.976717024,
             "test": [
              0.04471343703
             ]
            },
            {
             "iteration": 81,
             "learn": [
              0.0435800544
             ],
             "passed_time": 34.37313923,
             "remaining_time": 7.545323245,
             "test": [
              0.04336489197
             ]
            },
            {
             "iteration": 82,
             "learn": [
              0.0423874868
             ],
             "passed_time": 34.73253784,
             "remaining_time": 7.113893293,
             "test": [
              0.04205903786
             ]
            },
            {
             "iteration": 83,
             "learn": [
              0.04115772676
             ],
             "passed_time": 35.0678831,
             "remaining_time": 6.679596781,
             "test": [
              0.04079329011
             ]
            },
            {
             "iteration": 84,
             "learn": [
              0.03982835885
             ],
             "passed_time": 35.44001547,
             "remaining_time": 6.254120378,
             "test": [
              0.03956853025
             ]
            },
            {
             "iteration": 85,
             "learn": [
              0.03861785025
             ],
             "passed_time": 35.8306608,
             "remaining_time": 5.83289827,
             "test": [
              0.03838061015
             ]
            },
            {
             "iteration": 86,
             "learn": [
              0.03754292645
             ],
             "passed_time": 36.30641007,
             "remaining_time": 5.425095758,
             "test": [
              0.03722992681
             ]
            },
            {
             "iteration": 87,
             "learn": [
              0.03648626586
             ],
             "passed_time": 36.65361649,
             "remaining_time": 4.99822043,
             "test": [
              0.03611309681
             ]
            },
            {
             "iteration": 88,
             "learn": [
              0.03536273128
             ],
             "passed_time": 37.01535479,
             "remaining_time": 4.574931491,
             "test": [
              0.03503003387
             ]
            },
            {
             "iteration": 89,
             "learn": [
              0.03431282029
             ],
             "passed_time": 37.41353284,
             "remaining_time": 4.157059204,
             "test": [
              0.03397878181
             ]
            },
            {
             "iteration": 90,
             "learn": [
              0.03328478918
             ],
             "passed_time": 37.85353375,
             "remaining_time": 3.743756086,
             "test": [
              0.03296140953
             ]
            },
            {
             "iteration": 91,
             "learn": [
              0.03227031296
             ],
             "passed_time": 38.20239898,
             "remaining_time": 3.321947737,
             "test": [
              0.03197198046
             ]
            },
            {
             "iteration": 92,
             "learn": [
              0.0313025675
             ],
             "passed_time": 38.69603282,
             "remaining_time": 2.912604621,
             "test": [
              0.03101489023
             ]
            },
            {
             "iteration": 93,
             "learn": [
              0.03035932052
             ],
             "passed_time": 39.05104744,
             "remaining_time": 2.49262005,
             "test": [
              0.03008488689
             ]
            },
            {
             "iteration": 94,
             "learn": [
              0.0294362038
             ],
             "passed_time": 39.44601507,
             "remaining_time": 2.076106056,
             "test": [
              0.02918363265
             ]
            },
            {
             "iteration": 95,
             "learn": [
              0.02861752164
             ],
             "passed_time": 39.9035777,
             "remaining_time": 1.662649071,
             "test": [
              0.02831352161
             ]
            },
            {
             "iteration": 96,
             "learn": [
              0.02772458925
             ],
             "passed_time": 40.32241307,
             "remaining_time": 1.24708494,
             "test": [
              0.02746721244
             ]
            },
            {
             "iteration": 97,
             "learn": [
              0.02689249523
             ],
             "passed_time": 40.69750769,
             "remaining_time": 0.8305613815,
             "test": [
              0.02664833942
             ]
            },
            {
             "iteration": 98,
             "learn": [
              0.02616027574
             ],
             "passed_time": 41.13076464,
             "remaining_time": 0.4154622691,
             "test": [
              0.02585503665
             ]
            },
            {
             "iteration": 99,
             "learn": [
              0.02530486205
             ],
             "passed_time": 41.52076862,
             "remaining_time": 0,
             "test": [
              0.02508241126
             ]
            }
           ],
           "meta": {
            "iteration_count": 100,
            "launch_mode": "Train",
            "learn_metrics": [
             {
              "best_value": "Min",
              "name": "CrossEntropy"
             }
            ],
            "learn_sets": [
             "learn"
            ],
            "name": "experiment",
            "parameters": "",
            "test_metrics": [
             {
              "best_value": "Min",
              "name": "CrossEntropy"
             }
            ],
            "test_sets": [
             "test"
            ]
           }
          },
          "passed_iterations": 99,
          "total_iterations": 100
         },
         "name": "catboost_info",
         "path": "catboost_info"
        }
       },
       "layout": "IPY_MODEL_92cbc2e2a56c498c9033a95987a99c30"
      }
     },
     "ca4c900889534b718453ef6b89f4753f": {
      "model_module": "@jupyter-widgets/base",
      "model_module_version": "1.2.0",
      "model_name": "LayoutModel",
      "state": {
       "_model_module": "@jupyter-widgets/base",
       "_model_module_version": "1.2.0",
       "_model_name": "LayoutModel",
       "_view_count": null,
       "_view_module": "@jupyter-widgets/base",
       "_view_module_version": "1.2.0",
       "_view_name": "LayoutView",
       "align_content": null,
       "align_items": null,
       "align_self": "stretch",
       "border": null,
       "bottom": null,
       "display": null,
       "flex": null,
       "flex_flow": null,
       "grid_area": null,
       "grid_auto_columns": null,
       "grid_auto_flow": null,
       "grid_auto_rows": null,
       "grid_column": null,
       "grid_gap": null,
       "grid_row": null,
       "grid_template_areas": null,
       "grid_template_columns": null,
       "grid_template_rows": null,
       "height": "500px",
       "justify_content": null,
       "justify_items": null,
       "left": null,
       "margin": null,
       "max_height": null,
       "max_width": null,
       "min_height": null,
       "min_width": null,
       "object_fit": null,
       "object_position": null,
       "order": null,
       "overflow": null,
       "overflow_x": null,
       "overflow_y": null,
       "padding": null,
       "right": null,
       "top": null,
       "visibility": null,
       "width": null
      }
     },
     "cb90d3b3c978438da4d52d4f08c496d7": {
      "model_module": "@jupyter-widgets/base",
      "model_module_version": "1.2.0",
      "model_name": "LayoutModel",
      "state": {
       "_model_module": "@jupyter-widgets/base",
       "_model_module_version": "1.2.0",
       "_model_name": "LayoutModel",
       "_view_count": null,
       "_view_module": "@jupyter-widgets/base",
       "_view_module_version": "1.2.0",
       "_view_name": "LayoutView",
       "align_content": null,
       "align_items": null,
       "align_self": "stretch",
       "border": null,
       "bottom": null,
       "display": null,
       "flex": null,
       "flex_flow": null,
       "grid_area": null,
       "grid_auto_columns": null,
       "grid_auto_flow": null,
       "grid_auto_rows": null,
       "grid_column": null,
       "grid_gap": null,
       "grid_row": null,
       "grid_template_areas": null,
       "grid_template_columns": null,
       "grid_template_rows": null,
       "height": "500px",
       "justify_content": null,
       "justify_items": null,
       "left": null,
       "margin": null,
       "max_height": null,
       "max_width": null,
       "min_height": null,
       "min_width": null,
       "object_fit": null,
       "object_position": null,
       "order": null,
       "overflow": null,
       "overflow_x": null,
       "overflow_y": null,
       "padding": null,
       "right": null,
       "top": null,
       "visibility": null,
       "width": null
      }
     },
     "cfe3ff465517429a9786d1747265325a": {
      "model_module": "catboost-widget",
      "model_module_version": "^1.0.0",
      "model_name": "CatboostWidgetModel",
      "state": {
       "_dom_classes": [],
       "_model_module": "catboost-widget",
       "_model_module_version": "^1.0.0",
       "_model_name": "CatboostWidgetModel",
       "_view_count": null,
       "_view_module": "catboost-widget",
       "_view_module_version": "^1.0.0",
       "_view_name": "CatboostWidgetView",
       "data": {
        "catboost_info": {
         "content": {
          "data": {
           "iterations": [
            {
             "iteration": 0,
             "learn": [
              0.6640228301
             ],
             "passed_time": 0.3748776086,
             "remaining_time": 37.11288325,
             "test": [
              0.6651321785
             ]
            },
            {
             "iteration": 1,
             "learn": [
              0.6389483655
             ],
             "passed_time": 0.7142562302,
             "remaining_time": 34.99855528,
             "test": [
              0.6388237009
             ]
            },
            {
             "iteration": 2,
             "learn": [
              0.6130266436
             ],
             "passed_time": 1.061731516,
             "remaining_time": 34.32931901,
             "test": [
              0.6138506391
             ]
            },
            {
             "iteration": 3,
             "learn": [
              0.5894376663
             ],
             "passed_time": 1.421576063,
             "remaining_time": 34.11782551,
             "test": [
              0.5907032485
             ]
            },
            {
             "iteration": 4,
             "learn": [
              0.5679567204
             ],
             "passed_time": 1.775271573,
             "remaining_time": 33.7301599,
             "test": [
              0.5684045433
             ]
            },
            {
             "iteration": 5,
             "learn": [
              0.5467995682
             ],
             "passed_time": 2.120710203,
             "remaining_time": 33.22445984,
             "test": [
              0.5470653886
             ]
            },
            {
             "iteration": 6,
             "learn": [
              0.5256485366
             ],
             "passed_time": 2.507010799,
             "remaining_time": 33.30742919,
             "test": [
              0.5271936605
             ]
            },
            {
             "iteration": 7,
             "learn": [
              0.5079536019
             ],
             "passed_time": 2.863922243,
             "remaining_time": 32.9351058,
             "test": [
              0.5081103923
             ]
            },
            {
             "iteration": 8,
             "learn": [
              0.4890354899
             ],
             "passed_time": 3.221125324,
             "remaining_time": 32.56915606,
             "test": [
              0.4898531282
             ]
            },
            {
             "iteration": 9,
             "learn": [
              0.4719441217
             ],
             "passed_time": 3.598236836,
             "remaining_time": 32.38413152,
             "test": [
              0.4727835979
             ]
            },
            {
             "iteration": 10,
             "learn": [
              0.4553623367
             ],
             "passed_time": 3.944990275,
             "remaining_time": 31.91855768,
             "test": [
              0.4560415854
             ]
            },
            {
             "iteration": 11,
             "learn": [
              0.4399702583
             ],
             "passed_time": 4.332474093,
             "remaining_time": 31.77147668,
             "test": [
              0.4405227876
             ]
            },
            {
             "iteration": 12,
             "learn": [
              0.4249247926
             ],
             "passed_time": 4.739656701,
             "remaining_time": 31.719241,
             "test": [
              0.4253617767
             ]
            },
            {
             "iteration": 13,
             "learn": [
              0.4103273413
             ],
             "passed_time": 5.103348149,
             "remaining_time": 31.34913863,
             "test": [
              0.4109272706
             ]
            },
            {
             "iteration": 14,
             "learn": [
              0.3960564503
             ],
             "passed_time": 5.46346487,
             "remaining_time": 30.95963426,
             "test": [
              0.3973329461
             ]
            },
            {
             "iteration": 15,
             "learn": [
              0.3829963764
             ],
             "passed_time": 5.846350196,
             "remaining_time": 30.69333853,
             "test": [
              0.3843551297
             ]
            },
            {
             "iteration": 16,
             "learn": [
              0.3705785914
             ],
             "passed_time": 6.18177464,
             "remaining_time": 30.18160559,
             "test": [
              0.3717145323
             ]
            },
            {
             "iteration": 17,
             "learn": [
              0.3584804268
             ],
             "passed_time": 6.573003169,
             "remaining_time": 29.9436811,
             "test": [
              0.3598428949
             ]
            },
            {
             "iteration": 18,
             "learn": [
              0.3468318633
             ],
             "passed_time": 6.94239837,
             "remaining_time": 29.59654042,
             "test": [
              0.3483219987
             ]
            },
            {
             "iteration": 19,
             "learn": [
              0.3358589651
             ],
             "passed_time": 7.320318189,
             "remaining_time": 29.28127276,
             "test": [
              0.337422479
             ]
            },
            {
             "iteration": 20,
             "learn": [
              0.3252534051
             ],
             "passed_time": 7.677886539,
             "remaining_time": 28.88347793,
             "test": [
              0.3266660554
             ]
            },
            {
             "iteration": 21,
             "learn": [
              0.3149803913
             ],
             "passed_time": 8.040878837,
             "remaining_time": 28.50857042,
             "test": [
              0.3166355869
             ]
            },
            {
             "iteration": 22,
             "learn": [
              0.3054388695
             ],
             "passed_time": 8.425112515,
             "remaining_time": 28.20581146,
             "test": [
              0.3069615252
             ]
            },
            {
             "iteration": 23,
             "learn": [
              0.2958317934
             ],
             "passed_time": 8.782974533,
             "remaining_time": 27.81275269,
             "test": [
              0.297338047
             ]
            },
            {
             "iteration": 24,
             "learn": [
              0.2868511792
             ],
             "passed_time": 9.170681285,
             "remaining_time": 27.51204386,
             "test": [
              0.2883915147
             ]
            },
            {
             "iteration": 25,
             "learn": [
              0.277908018
             ],
             "passed_time": 9.534000424,
             "remaining_time": 27.13523198,
             "test": [
              0.2795031517
             ]
            },
            {
             "iteration": 26,
             "learn": [
              0.2693679158
             ],
             "passed_time": 9.875895793,
             "remaining_time": 26.70149603,
             "test": [
              0.2710798176
             ]
            },
            {
             "iteration": 27,
             "learn": [
              0.2611545499
             ],
             "passed_time": 10.22440582,
             "remaining_time": 26.29132924,
             "test": [
              0.2627787673
             ]
            },
            {
             "iteration": 28,
             "learn": [
              0.2533780415
             ],
             "passed_time": 10.57971372,
             "remaining_time": 25.90205772,
             "test": [
              0.254842341
             ]
            },
            {
             "iteration": 29,
             "learn": [
              0.245918263
             ],
             "passed_time": 10.95766451,
             "remaining_time": 25.56788387,
             "test": [
              0.2473560487
             ]
            },
            {
             "iteration": 30,
             "learn": [
              0.238841044
             ],
             "passed_time": 11.33838571,
             "remaining_time": 25.23705207,
             "test": [
              0.2402627183
             ]
            },
            {
             "iteration": 31,
             "learn": [
              0.2319092512
             ],
             "passed_time": 11.76169401,
             "remaining_time": 24.99359976,
             "test": [
              0.2332406495
             ]
            },
            {
             "iteration": 32,
             "learn": [
              0.2251792444
             ],
             "passed_time": 12.10632053,
             "remaining_time": 24.57949925,
             "test": [
              0.2265135782
             ]
            },
            {
             "iteration": 33,
             "learn": [
              0.218798746
             ],
             "passed_time": 12.46796376,
             "remaining_time": 24.20251789,
             "test": [
              0.2199855839
             ]
            },
            {
             "iteration": 34,
             "learn": [
              0.2122449429
             ],
             "passed_time": 12.76743278,
             "remaining_time": 23.71094659,
             "test": [
              0.2132607898
             ]
            },
            {
             "iteration": 35,
             "learn": [
              0.2060988221
             ],
             "passed_time": 13.17015368,
             "remaining_time": 23.41360654,
             "test": [
              0.2070932726
             ]
            },
            {
             "iteration": 36,
             "learn": [
              0.2000540313
             ],
             "passed_time": 13.54296522,
             "remaining_time": 23.05964349,
             "test": [
              0.2011530358
             ]
            },
            {
             "iteration": 37,
             "learn": [
              0.1944247047
             ],
             "passed_time": 13.94666096,
             "remaining_time": 22.7550784,
             "test": [
              0.1954934727
             ]
            },
            {
             "iteration": 38,
             "learn": [
              0.1889818896
             ],
             "passed_time": 14.3792011,
             "remaining_time": 22.4905453,
             "test": [
              0.1900157668
             ]
            },
            {
             "iteration": 39,
             "learn": [
              0.1837166166
             ],
             "passed_time": 14.71487094,
             "remaining_time": 22.07230641,
             "test": [
              0.1846357821
             ]
            },
            {
             "iteration": 40,
             "learn": [
              0.1784514591
             ],
             "passed_time": 15.10959618,
             "remaining_time": 21.74307743,
             "test": [
              0.1795310287
             ]
            },
            {
             "iteration": 41,
             "learn": [
              0.1735172467
             ],
             "passed_time": 15.43024198,
             "remaining_time": 21.3084294,
             "test": [
              0.1745088249
             ]
            },
            {
             "iteration": 42,
             "learn": [
              0.168883157
             ],
             "passed_time": 15.80254335,
             "remaining_time": 20.94755746,
             "test": [
              0.1697006105
             ]
            },
            {
             "iteration": 43,
             "learn": [
              0.1642543088
             ],
             "passed_time": 16.1563114,
             "remaining_time": 20.56257815,
             "test": [
              0.16517047
             ]
            },
            {
             "iteration": 44,
             "learn": [
              0.1597513294
             ],
             "passed_time": 16.48610472,
             "remaining_time": 20.14968355,
             "test": [
              0.1606346401
             ]
            },
            {
             "iteration": 45,
             "learn": [
              0.1554208075
             ],
             "passed_time": 16.89125678,
             "remaining_time": 19.82886665,
             "test": [
              0.1562876381
             ]
            },
            {
             "iteration": 46,
             "learn": [
              0.1512765339
             ],
             "passed_time": 17.20839337,
             "remaining_time": 19.40520954,
             "test": [
              0.1520689877
             ]
            },
            {
             "iteration": 47,
             "learn": [
              0.1472744494
             ],
             "passed_time": 17.5388183,
             "remaining_time": 19.00038649,
             "test": [
              0.1479843134
             ]
            },
            {
             "iteration": 48,
             "learn": [
              0.1433768523
             ],
             "passed_time": 17.9375588,
             "remaining_time": 18.66970406,
             "test": [
              0.1442319558
             ]
            },
            {
             "iteration": 49,
             "learn": [
              0.1395936742
             ],
             "passed_time": 18.33715941,
             "remaining_time": 18.33715941,
             "test": [
              0.1403998385
             ]
            },
            {
             "iteration": 50,
             "learn": [
              0.1359501902
             ],
             "passed_time": 18.74577082,
             "remaining_time": 18.01064255,
             "test": [
              0.1367520379
             ]
            },
            {
             "iteration": 51,
             "learn": [
              0.1324259751
             ],
             "passed_time": 19.15715058,
             "remaining_time": 17.68352361,
             "test": [
              0.1332020498
             ]
            },
            {
             "iteration": 52,
             "learn": [
              0.1289594403
             ],
             "passed_time": 19.56418823,
             "remaining_time": 17.34937447,
             "test": [
              0.1297171885
             ]
            },
            {
             "iteration": 53,
             "learn": [
              0.1256423729
             ],
             "passed_time": 19.88411255,
             "remaining_time": 16.9383181,
             "test": [
              0.1263764753
             ]
            },
            {
             "iteration": 54,
             "learn": [
              0.1224878898
             ],
             "passed_time": 20.23161791,
             "remaining_time": 16.55314193,
             "test": [
              0.1231712923
             ]
            },
            {
             "iteration": 55,
             "learn": [
              0.119191633
             ],
             "passed_time": 20.60306563,
             "remaining_time": 16.18812299,
             "test": [
              0.1199922209
             ]
            },
            {
             "iteration": 56,
             "learn": [
              0.1162604539
             ],
             "passed_time": 21.01177612,
             "remaining_time": 15.850989,
             "test": [
              0.1169809416
             ]
            },
            {
             "iteration": 57,
             "learn": [
              0.1134986241
             ],
             "passed_time": 21.5675754,
             "remaining_time": 15.61789943,
             "test": [
              0.1142294146
             ]
            },
            {
             "iteration": 58,
             "learn": [
              0.1105940869
             ],
             "passed_time": 22.169849,
             "remaining_time": 15.40616626,
             "test": [
              0.1113748938
             ]
            },
            {
             "iteration": 59,
             "learn": [
              0.1077745143
             ],
             "passed_time": 22.59204177,
             "remaining_time": 15.06136118,
             "test": [
              0.1086681852
             ]
            },
            {
             "iteration": 60,
             "learn": [
              0.1051846021
             ],
             "passed_time": 22.91580197,
             "remaining_time": 14.6510865,
             "test": [
              0.1059821428
             ]
            },
            {
             "iteration": 61,
             "learn": [
              0.1024731047
             ],
             "passed_time": 23.28480843,
             "remaining_time": 14.2713342,
             "test": [
              0.103361742
             ]
            },
            {
             "iteration": 62,
             "learn": [
              0.09984888886
             ],
             "passed_time": 23.61461591,
             "remaining_time": 13.86890141,
             "test": [
              0.100715283
             ]
            },
            {
             "iteration": 63,
             "learn": [
              0.09746598643
             ],
             "passed_time": 23.929423,
             "remaining_time": 13.46030044,
             "test": [
              0.09828431949
             ]
            },
            {
             "iteration": 64,
             "learn": [
              0.09510852397
             ],
             "passed_time": 24.3250695,
             "remaining_time": 13.09811435,
             "test": [
              0.09589703635
             ]
            },
            {
             "iteration": 65,
             "learn": [
              0.09278427743
             ],
             "passed_time": 24.67597455,
             "remaining_time": 12.71186568,
             "test": [
              0.09361572539
             ]
            },
            {
             "iteration": 66,
             "learn": [
              0.09049339033
             ],
             "passed_time": 25.04565219,
             "remaining_time": 12.33591825,
             "test": [
              0.09138849289
             ]
            },
            {
             "iteration": 67,
             "learn": [
              0.08835351363
             ],
             "passed_time": 25.39164193,
             "remaining_time": 11.94900797,
             "test": [
              0.08923632611
             ]
            },
            {
             "iteration": 68,
             "learn": [
              0.08643623039
             ],
             "passed_time": 25.76419913,
             "remaining_time": 11.5752199,
             "test": [
              0.08731712653
             ]
            },
            {
             "iteration": 69,
             "learn": [
              0.08454323178
             ],
             "passed_time": 26.14139316,
             "remaining_time": 11.20345421,
             "test": [
              0.08539462453
             ]
            },
            {
             "iteration": 70,
             "learn": [
              0.08240424772
             ],
             "passed_time": 26.46856835,
             "remaining_time": 10.81110538,
             "test": [
              0.08324560851
             ]
            },
            {
             "iteration": 71,
             "learn": [
              0.08054443996
             ],
             "passed_time": 26.86216536,
             "remaining_time": 10.44639764,
             "test": [
              0.08132991731
             ]
            },
            {
             "iteration": 72,
             "learn": [
              0.07842728528
             ],
             "passed_time": 27.2617486,
             "remaining_time": 10.0831125,
             "test": [
              0.07903381543
             ]
            },
            {
             "iteration": 73,
             "learn": [
              0.07670653304
             ],
             "passed_time": 27.64072739,
             "remaining_time": 9.711606919,
             "test": [
              0.07726337773
             ]
            },
            {
             "iteration": 74,
             "learn": [
              0.07498024659
             ],
             "passed_time": 27.99051342,
             "remaining_time": 9.330171139,
             "test": [
              0.0756233571
             ]
            },
            {
             "iteration": 75,
             "learn": [
              0.07321208516
             ],
             "passed_time": 28.41645838,
             "remaining_time": 8.973618437,
             "test": [
              0.07386128584
             ]
            },
            {
             "iteration": 76,
             "learn": [
              0.0713934609
             ],
             "passed_time": 28.7468975,
             "remaining_time": 8.586735617,
             "test": [
              0.07206867831
             ]
            },
            {
             "iteration": 77,
             "learn": [
              0.06995578023
             ],
             "passed_time": 29.07800913,
             "remaining_time": 8.201489753,
             "test": [
              0.07067082805
             ]
            },
            {
             "iteration": 78,
             "learn": [
              0.06847741426
             ],
             "passed_time": 29.44871484,
             "remaining_time": 7.828139389,
             "test": [
              0.06919031758
             ]
            },
            {
             "iteration": 79,
             "learn": [
              0.06712084827
             ],
             "passed_time": 29.84075489,
             "remaining_time": 7.460188722,
             "test": [
              0.06783879971
             ]
            },
            {
             "iteration": 80,
             "learn": [
              0.06541896238
             ],
             "passed_time": 30.21781358,
             "remaining_time": 7.088129111,
             "test": [
              0.06597852101
             ]
            },
            {
             "iteration": 81,
             "learn": [
              0.06389070518
             ],
             "passed_time": 30.53332612,
             "remaining_time": 6.702437442,
             "test": [
              0.06436625102
             ]
            },
            {
             "iteration": 82,
             "learn": [
              0.06244381776
             ],
             "passed_time": 30.85886981,
             "remaining_time": 6.320491406,
             "test": [
              0.06291069047
             ]
            },
            {
             "iteration": 83,
             "learn": [
              0.06092136946
             ],
             "passed_time": 31.26131752,
             "remaining_time": 5.954536671,
             "test": [
              0.06121345935
             ]
            },
            {
             "iteration": 84,
             "learn": [
              0.05973945882
             ],
             "passed_time": 31.63655707,
             "remaining_time": 5.582921836,
             "test": [
              0.06005448136
             ]
            },
            {
             "iteration": 85,
             "learn": [
              0.05854970048
             ],
             "passed_time": 32.00185233,
             "remaining_time": 5.209603867,
             "test": [
              0.05883468858
             ]
            },
            {
             "iteration": 86,
             "learn": [
              0.05723382613
             ],
             "passed_time": 32.42847525,
             "remaining_time": 4.845634233,
             "test": [
              0.05759883907
             ]
            },
            {
             "iteration": 87,
             "learn": [
              0.05593728267
             ],
             "passed_time": 32.73711621,
             "remaining_time": 4.464152211,
             "test": [
              0.0562940599
             ]
            },
            {
             "iteration": 88,
             "learn": [
              0.05459596324
             ],
             "passed_time": 33.13795593,
             "remaining_time": 4.095702418,
             "test": [
              0.0548106234
             ]
            },
            {
             "iteration": 89,
             "learn": [
              0.05363028752
             ],
             "passed_time": 33.50837524,
             "remaining_time": 3.723152805,
             "test": [
              0.05385672632
             ]
            },
            {
             "iteration": 90,
             "learn": [
              0.05238625281
             ],
             "passed_time": 33.91156857,
             "remaining_time": 3.353891397,
             "test": [
              0.05249589638
             ]
            },
            {
             "iteration": 91,
             "learn": [
              0.05144622315
             ],
             "passed_time": 34.28596324,
             "remaining_time": 2.981388108,
             "test": [
              0.05156281557
             ]
            },
            {
             "iteration": 92,
             "learn": [
              0.0503472977
             ],
             "passed_time": 34.60826139,
             "remaining_time": 2.6049229,
             "test": [
              0.05046420102
             ]
            },
            {
             "iteration": 93,
             "learn": [
              0.04918352236
             ],
             "passed_time": 35.01365124,
             "remaining_time": 2.234913909,
             "test": [
              0.0491954706
             ]
            },
            {
             "iteration": 94,
             "learn": [
              0.04840869253
             ],
             "passed_time": 35.37259713,
             "remaining_time": 1.861715638,
             "test": [
              0.04842679769
             ]
            },
            {
             "iteration": 95,
             "learn": [
              0.04735870126
             ],
             "passed_time": 35.68601918,
             "remaining_time": 1.486917466,
             "test": [
              0.04739698842
             ]
            },
            {
             "iteration": 96,
             "learn": [
              0.04628168874
             ],
             "passed_time": 36.10381555,
             "remaining_time": 1.116612852,
             "test": [
              0.04623596588
             ]
            },
            {
             "iteration": 97,
             "learn": [
              0.0452542982
             ],
             "passed_time": 36.49005832,
             "remaining_time": 0.7446950678,
             "test": [
              0.04514287067
             ]
            },
            {
             "iteration": 98,
             "learn": [
              0.04435168865
             ],
             "passed_time": 36.81970303,
             "remaining_time": 0.3719161922,
             "test": [
              0.04423767397
             ]
            },
            {
             "iteration": 99,
             "learn": [
              0.04347111548
             ],
             "passed_time": 37.21853361,
             "remaining_time": 0,
             "test": [
              0.04338976592
             ]
            }
           ],
           "meta": {
            "iteration_count": 100,
            "launch_mode": "Train",
            "learn_metrics": [
             {
              "best_value": "Min",
              "name": "CrossEntropy"
             }
            ],
            "learn_sets": [
             "learn"
            ],
            "name": "experiment",
            "parameters": "",
            "test_metrics": [
             {
              "best_value": "Min",
              "name": "CrossEntropy"
             }
            ],
            "test_sets": [
             "test"
            ]
           }
          },
          "passed_iterations": 99,
          "total_iterations": 100
         },
         "name": "catboost_info",
         "path": "catboost_info"
        }
       },
       "layout": "IPY_MODEL_0e84db77959e489d9f961c136b822505"
      }
     },
     "d04cec660c494069b66c5d8f3e060f2a": {
      "model_module": "catboost-widget",
      "model_module_version": "^1.0.0",
      "model_name": "CatboostWidgetModel",
      "state": {
       "_dom_classes": [],
       "_model_module": "catboost-widget",
       "_model_module_version": "^1.0.0",
       "_model_name": "CatboostWidgetModel",
       "_view_count": null,
       "_view_module": "catboost-widget",
       "_view_module_version": "^1.0.0",
       "_view_name": "CatboostWidgetView",
       "data": {
        "catboost_info": {
         "content": {
          "data": {
           "iterations": [
            {
             "iteration": 0,
             "learn": [
              0.6744518342
             ],
             "passed_time": 0.38460013,
             "remaining_time": 38.07541287,
             "test": [
              0.6747800459
             ]
            },
            {
             "iteration": 1,
             "learn": [
              0.657149941
             ],
             "passed_time": 0.7556923786,
             "remaining_time": 37.02892655,
             "test": [
              0.6577076976
             ]
            },
            {
             "iteration": 2,
             "learn": [
              0.6392059658
             ],
             "passed_time": 1.123207945,
             "remaining_time": 36.31705687,
             "test": [
              0.6411044912
             ]
            },
            {
             "iteration": 3,
             "learn": [
              0.6231460478
             ],
             "passed_time": 1.559182653,
             "remaining_time": 37.42038367,
             "test": [
              0.6243874073
             ]
            },
            {
             "iteration": 4,
             "learn": [
              0.6071872526
             ],
             "passed_time": 2.064660867,
             "remaining_time": 39.22855647,
             "test": [
              0.6091662255
             ]
            },
            {
             "iteration": 5,
             "learn": [
              0.5922766267
             ],
             "passed_time": 2.596791979,
             "remaining_time": 40.68307433,
             "test": [
              0.594550858
             ]
            },
            {
             "iteration": 6,
             "learn": [
              0.5782315284
             ],
             "passed_time": 3.126193512,
             "remaining_time": 41.5337138,
             "test": [
              0.5810562467
             ]
            },
            {
             "iteration": 7,
             "learn": [
              0.5639361512
             ],
             "passed_time": 3.574215975,
             "remaining_time": 41.10348371,
             "test": [
              0.5671482824
             ]
            },
            {
             "iteration": 8,
             "learn": [
              0.5510923717
             ],
             "passed_time": 3.944929954,
             "remaining_time": 39.88762509,
             "test": [
              0.5544769406
             ]
            },
            {
             "iteration": 9,
             "learn": [
              0.5378036721
             ],
             "passed_time": 4.424638539,
             "remaining_time": 39.82174685,
             "test": [
              0.5417037324
             ]
            },
            {
             "iteration": 10,
             "learn": [
              0.526404703
             ],
             "passed_time": 4.79814587,
             "remaining_time": 38.82136204,
             "test": [
              0.5305874302
             ]
            },
            {
             "iteration": 11,
             "learn": [
              0.5139900956
             ],
             "passed_time": 5.246897922,
             "remaining_time": 38.47725143,
             "test": [
              0.5190629871
             ]
            },
            {
             "iteration": 12,
             "learn": [
              0.5023570019
             ],
             "passed_time": 5.646528801,
             "remaining_time": 37.78830813,
             "test": [
              0.5078234939
             ]
            },
            {
             "iteration": 13,
             "learn": [
              0.4917604605
             ],
             "passed_time": 6.07278007,
             "remaining_time": 37.30422043,
             "test": [
              0.4968185777
             ]
            },
            {
             "iteration": 14,
             "learn": [
              0.4821953085
             ],
             "passed_time": 6.434260139,
             "remaining_time": 36.46080745,
             "test": [
              0.4882286302
             ]
            },
            {
             "iteration": 15,
             "learn": [
              0.472932894
             ],
             "passed_time": 6.803801081,
             "remaining_time": 35.71995567,
             "test": [
              0.4789184647
             ]
            },
            {
             "iteration": 16,
             "learn": [
              0.4629723949
             ],
             "passed_time": 7.229838536,
             "remaining_time": 35.29862344,
             "test": [
              0.4689716321
             ]
            },
            {
             "iteration": 17,
             "learn": [
              0.4539355357
             ],
             "passed_time": 7.690533953,
             "remaining_time": 35.03465467,
             "test": [
              0.460732504
             ]
            },
            {
             "iteration": 18,
             "learn": [
              0.4456388476
             ],
             "passed_time": 8.068565964,
             "remaining_time": 34.39757069,
             "test": [
              0.4525111997
             ]
            },
            {
             "iteration": 19,
             "learn": [
              0.4373257027
             ],
             "passed_time": 8.44114208,
             "remaining_time": 33.76456832,
             "test": [
              0.44428513
             ]
            },
            {
             "iteration": 20,
             "learn": [
              0.4288729246
             ],
             "passed_time": 8.871302793,
             "remaining_time": 33.37299622,
             "test": [
              0.4359809486
             ]
            },
            {
             "iteration": 21,
             "learn": [
              0.4204857817
             ],
             "passed_time": 9.296961229,
             "remaining_time": 32.96195345,
             "test": [
              0.4276522364
             ]
            },
            {
             "iteration": 22,
             "learn": [
              0.4129510574
             ],
             "passed_time": 9.761660313,
             "remaining_time": 32.68034105,
             "test": [
              0.4203774868
             ]
            },
            {
             "iteration": 23,
             "learn": [
              0.4039917741
             ],
             "passed_time": 10.16663129,
             "remaining_time": 32.19433241,
             "test": [
              0.4118474609
             ]
            },
            {
             "iteration": 24,
             "learn": [
              0.3958576435
             ],
             "passed_time": 10.61735343,
             "remaining_time": 31.8520603,
             "test": [
              0.4035196992
             ]
            },
            {
             "iteration": 25,
             "learn": [
              0.3889900007
             ],
             "passed_time": 11.05614696,
             "remaining_time": 31.4674952,
             "test": [
              0.3965327778
             ]
            },
            {
             "iteration": 26,
             "learn": [
              0.382243775
             ],
             "passed_time": 11.43478193,
             "remaining_time": 30.91626226,
             "test": [
              0.3898825201
             ]
            },
            {
             "iteration": 27,
             "learn": [
              0.3755560279
             ],
             "passed_time": 11.82813369,
             "remaining_time": 30.41520091,
             "test": [
              0.3832890092
             ]
            },
            {
             "iteration": 28,
             "learn": [
              0.3682453295
             ],
             "passed_time": 12.23361904,
             "remaining_time": 29.95127419,
             "test": [
              0.3760161323
             ]
            },
            {
             "iteration": 29,
             "learn": [
              0.3608159411
             ],
             "passed_time": 12.68992232,
             "remaining_time": 29.60981875,
             "test": [
              0.3686117869
             ]
            },
            {
             "iteration": 30,
             "learn": [
              0.3541823749
             ],
             "passed_time": 13.13392165,
             "remaining_time": 29.23356754,
             "test": [
              0.3619340705
             ]
            },
            {
             "iteration": 31,
             "learn": [
              0.3471569681
             ],
             "passed_time": 13.58628445,
             "remaining_time": 28.87085446,
             "test": [
              0.3551956339
             ]
            },
            {
             "iteration": 32,
             "learn": [
              0.3407930745
             ],
             "passed_time": 14.03471416,
             "remaining_time": 28.49472268,
             "test": [
              0.3486960589
             ]
            },
            {
             "iteration": 33,
             "learn": [
              0.3354634108
             ],
             "passed_time": 14.39090868,
             "remaining_time": 27.93529332,
             "test": [
              0.3435246169
             ]
            },
            {
             "iteration": 34,
             "learn": [
              0.3291489164
             ],
             "passed_time": 14.83848501,
             "remaining_time": 27.55718644,
             "test": [
              0.3374542356
             ]
            },
            {
             "iteration": 35,
             "learn": [
              0.3241354703
             ],
             "passed_time": 15.36945099,
             "remaining_time": 27.32346843,
             "test": [
              0.332723623
             ]
            },
            {
             "iteration": 36,
             "learn": [
              0.3187959892
             ],
             "passed_time": 15.78133941,
             "remaining_time": 26.87092926,
             "test": [
              0.3272804175
             ]
            },
            {
             "iteration": 37,
             "learn": [
              0.312849624
             ],
             "passed_time": 16.23819967,
             "remaining_time": 26.49390473,
             "test": [
              0.3217892821
             ]
            },
            {
             "iteration": 38,
             "learn": [
              0.3072070746
             ],
             "passed_time": 16.69648827,
             "remaining_time": 26.11502012,
             "test": [
              0.3163319695
             ]
            },
            {
             "iteration": 39,
             "learn": [
              0.3027704359
             ],
             "passed_time": 17.16476639,
             "remaining_time": 25.74714958,
             "test": [
              0.3119741285
             ]
            },
            {
             "iteration": 40,
             "learn": [
              0.2978979029
             ],
             "passed_time": 17.59804532,
             "remaining_time": 25.32401644,
             "test": [
              0.3071967044
             ]
            },
            {
             "iteration": 41,
             "learn": [
              0.2931683924
             ],
             "passed_time": 17.98806612,
             "remaining_time": 24.84066274,
             "test": [
              0.3021452949
             ]
            },
            {
             "iteration": 42,
             "learn": [
              0.2887188902
             ],
             "passed_time": 18.38013226,
             "remaining_time": 24.36436137,
             "test": [
              0.2973930775
             ]
            },
            {
             "iteration": 43,
             "learn": [
              0.2846202787
             ],
             "passed_time": 18.78755535,
             "remaining_time": 23.91143408,
             "test": [
              0.293433335
             ]
            },
            {
             "iteration": 44,
             "learn": [
              0.2805780917
             ],
             "passed_time": 19.17635064,
             "remaining_time": 23.43776189,
             "test": [
              0.2891148969
             ]
            },
            {
             "iteration": 45,
             "learn": [
              0.2762689985
             ],
             "passed_time": 19.58725372,
             "remaining_time": 22.99373263,
             "test": [
              0.2846998166
             ]
            },
            {
             "iteration": 46,
             "learn": [
              0.2717237245
             ],
             "passed_time": 20.04976604,
             "remaining_time": 22.60931065,
             "test": [
              0.2806580442
             ]
            },
            {
             "iteration": 47,
             "learn": [
              0.2678265652
             ],
             "passed_time": 20.4477227,
             "remaining_time": 22.15169959,
             "test": [
              0.27640939
             ]
            },
            {
             "iteration": 48,
             "learn": [
              0.2641729514
             ],
             "passed_time": 20.8929423,
             "remaining_time": 21.74571545,
             "test": [
              0.2730144702
             ]
            },
            {
             "iteration": 49,
             "learn": [
              0.2605309989
             ],
             "passed_time": 21.31068831,
             "remaining_time": 21.31068831,
             "test": [
              0.2695231861
             ]
            },
            {
             "iteration": 50,
             "learn": [
              0.2570556982
             ],
             "passed_time": 21.75909864,
             "remaining_time": 20.90580066,
             "test": [
              0.2659824394
             ]
            },
            {
             "iteration": 51,
             "learn": [
              0.2531000295
             ],
             "passed_time": 22.23848484,
             "remaining_time": 20.52783216,
             "test": [
              0.262255604
             ]
            },
            {
             "iteration": 52,
             "learn": [
              0.2488870971
             ],
             "passed_time": 22.71505965,
             "remaining_time": 20.14354346,
             "test": [
              0.2581363572
             ]
            },
            {
             "iteration": 53,
             "learn": [
              0.2453308415
             ],
             "passed_time": 23.11805716,
             "remaining_time": 19.6931598,
             "test": [
              0.2544700303
             ]
            },
            {
             "iteration": 54,
             "learn": [
              0.2419806971
             ],
             "passed_time": 23.56866684,
             "remaining_time": 19.28345469,
             "test": [
              0.2512171575
             ]
            },
            {
             "iteration": 55,
             "learn": [
              0.2381329803
             ],
             "passed_time": 24.00645815,
             "remaining_time": 18.86221712,
             "test": [
              0.2475225117
             ]
            },
            {
             "iteration": 56,
             "learn": [
              0.2347394853
             ],
             "passed_time": 24.47396961,
             "remaining_time": 18.46281918,
             "test": [
              0.2441707858
             ]
            },
            {
             "iteration": 57,
             "learn": [
              0.2311600888
             ],
             "passed_time": 24.86142173,
             "remaining_time": 18.00309849,
             "test": [
              0.2406315445
             ]
            },
            {
             "iteration": 58,
             "learn": [
              0.227737121
             ],
             "passed_time": 25.25250094,
             "remaining_time": 17.54834811,
             "test": [
              0.2372694843
             ]
            },
            {
             "iteration": 59,
             "learn": [
              0.2250629913
             ],
             "passed_time": 25.66067608,
             "remaining_time": 17.10711739,
             "test": [
              0.2345067518
             ]
            },
            {
             "iteration": 60,
             "learn": [
              0.221970129
             ],
             "passed_time": 26.18116358,
             "remaining_time": 16.73877672,
             "test": [
              0.2315167926
             ]
            },
            {
             "iteration": 61,
             "learn": [
              0.2188430058
             ],
             "passed_time": 26.57246154,
             "remaining_time": 16.2863474,
             "test": [
              0.2283904858
             ]
            },
            {
             "iteration": 62,
             "learn": [
              0.2159966765
             ],
             "passed_time": 26.92379265,
             "remaining_time": 15.81238616,
             "test": [
              0.2254862451
             ]
            },
            {
             "iteration": 63,
             "learn": [
              0.2134129338
             ],
             "passed_time": 27.3710334,
             "remaining_time": 15.39620629,
             "test": [
              0.2227225912
             ]
            },
            {
             "iteration": 64,
             "learn": [
              0.2105583486
             ],
             "passed_time": 27.81166366,
             "remaining_time": 14.9755112,
             "test": [
              0.2200018136
             ]
            },
            {
             "iteration": 65,
             "learn": [
              0.2076658121
             ],
             "passed_time": 28.19899846,
             "remaining_time": 14.52675678,
             "test": [
              0.2170761
             ]
            },
            {
             "iteration": 66,
             "learn": [
              0.2053108153
             ],
             "passed_time": 28.60728755,
             "remaining_time": 14.09015656,
             "test": [
              0.2148822148
             ]
            },
            {
             "iteration": 67,
             "learn": [
              0.2028282515
             ],
             "passed_time": 28.95888481,
             "remaining_time": 13.6277105,
             "test": [
              0.2123333029
             ]
            },
            {
             "iteration": 68,
             "learn": [
              0.2000528563
             ],
             "passed_time": 29.37553468,
             "remaining_time": 13.19770399,
             "test": [
              0.2094328796
             ]
            },
            {
             "iteration": 69,
             "learn": [
              0.1976568919
             ],
             "passed_time": 29.80724221,
             "remaining_time": 12.77453238,
             "test": [
              0.2068573513
             ]
            },
            {
             "iteration": 70,
             "learn": [
              0.195361008
             ],
             "passed_time": 30.15883552,
             "remaining_time": 12.31839761,
             "test": [
              0.2045344063
             ]
            },
            {
             "iteration": 71,
             "learn": [
              0.1930242148
             ],
             "passed_time": 30.59340316,
             "remaining_time": 11.89743456,
             "test": [
              0.2020056986
             ]
            },
            {
             "iteration": 72,
             "learn": [
              0.19087733
             ],
             "passed_time": 30.99761024,
             "remaining_time": 11.46486954,
             "test": [
              0.1998666545
             ]
            },
            {
             "iteration": 73,
             "learn": [
              0.1881057877
             ],
             "passed_time": 31.40420918,
             "remaining_time": 11.03391133,
             "test": [
              0.1971838984
             ]
            },
            {
             "iteration": 74,
             "learn": [
              0.1859610571
             ],
             "passed_time": 31.78629171,
             "remaining_time": 10.59543057,
             "test": [
              0.194943084
             ]
            },
            {
             "iteration": 75,
             "learn": [
              0.1839266415
             ],
             "passed_time": 32.16471812,
             "remaining_time": 10.15727941,
             "test": [
              0.1928270314
             ]
            },
            {
             "iteration": 76,
             "learn": [
              0.1814333401
             ],
             "passed_time": 32.5679537,
             "remaining_time": 9.728090065,
             "test": [
              0.1903281318
             ]
            },
            {
             "iteration": 77,
             "learn": [
              0.1793485746
             ],
             "passed_time": 33.03296776,
             "remaining_time": 9.316990907,
             "test": [
              0.1883142563
             ]
            },
            {
             "iteration": 78,
             "learn": [
              0.1772154804
             ],
             "passed_time": 33.4677018,
             "remaining_time": 8.896477694,
             "test": [
              0.186020853
             ]
            },
            {
             "iteration": 79,
             "learn": [
              0.1749349384
             ],
             "passed_time": 34.05373175,
             "remaining_time": 8.513432937,
             "test": [
              0.1838467379
             ]
            },
            {
             "iteration": 80,
             "learn": [
              0.1731449361
             ],
             "passed_time": 34.5499386,
             "remaining_time": 8.104306585,
             "test": [
              0.1820783671
             ]
            },
            {
             "iteration": 81,
             "learn": [
              0.171156697
             ],
             "passed_time": 35.10820958,
             "remaining_time": 7.706680152,
             "test": [
              0.1801410382
             ]
            },
            {
             "iteration": 82,
             "learn": [
              0.1692999173
             ],
             "passed_time": 35.49276146,
             "remaining_time": 7.269601745,
             "test": [
              0.1781888052
             ]
            },
            {
             "iteration": 83,
             "learn": [
              0.167906881
             ],
             "passed_time": 35.8431447,
             "remaining_time": 6.827265657,
             "test": [
              0.1769288515
             ]
            },
            {
             "iteration": 84,
             "learn": [
              0.1656628714
             ],
             "passed_time": 36.28746583,
             "remaining_time": 6.40367044,
             "test": [
              0.1747686062
             ]
            },
            {
             "iteration": 85,
             "learn": [
              0.1637552315
             ],
             "passed_time": 36.68706044,
             "remaining_time": 5.972312164,
             "test": [
              0.1728821625
             ]
            },
            {
             "iteration": 86,
             "learn": [
              0.1619448848
             ],
             "passed_time": 37.15393096,
             "remaining_time": 5.55173681,
             "test": [
              0.1712515944
             ]
            },
            {
             "iteration": 87,
             "learn": [
              0.1599830672
             ],
             "passed_time": 37.57446787,
             "remaining_time": 5.123791073,
             "test": [
              0.1691778526
             ]
            },
            {
             "iteration": 88,
             "learn": [
              0.1580598542
             ],
             "passed_time": 37.97733515,
             "remaining_time": 4.69382794,
             "test": [
              0.1670940813
             ]
            },
            {
             "iteration": 89,
             "learn": [
              0.1560603693
             ],
             "passed_time": 38.42722827,
             "remaining_time": 4.26969203,
             "test": [
              0.1651242995
             ]
            },
            {
             "iteration": 90,
             "learn": [
              0.1543404207
             ],
             "passed_time": 38.80536222,
             "remaining_time": 3.837892967,
             "test": [
              0.1634435087
             ]
            },
            {
             "iteration": 91,
             "learn": [
              0.1531392823
             ],
             "passed_time": 39.18821439,
             "remaining_time": 3.407670817,
             "test": [
              0.1623088541
             ]
            },
            {
             "iteration": 92,
             "learn": [
              0.1512493075
             ],
             "passed_time": 39.60806216,
             "remaining_time": 2.981251991,
             "test": [
              0.160406158
             ]
            },
            {
             "iteration": 93,
             "learn": [
              0.1494064197
             ],
             "passed_time": 40.03614951,
             "remaining_time": 2.555498905,
             "test": [
              0.158521385
             ]
            },
            {
             "iteration": 94,
             "learn": [
              0.1476124669
             ],
             "passed_time": 40.41941815,
             "remaining_time": 2.127337797,
             "test": [
              0.1566687369
             ]
            },
            {
             "iteration": 95,
             "learn": [
              0.1462474338
             ],
             "passed_time": 40.79570314,
             "remaining_time": 1.699820964,
             "test": [
              0.1552501974
             ]
            },
            {
             "iteration": 96,
             "learn": [
              0.1445015979
             ],
             "passed_time": 41.2129967,
             "remaining_time": 1.274628764,
             "test": [
              0.1534342386
             ]
            },
            {
             "iteration": 97,
             "learn": [
              0.1429110587
             ],
             "passed_time": 41.6173374,
             "remaining_time": 0.8493334163,
             "test": [
              0.1518558876
             ]
            },
            {
             "iteration": 98,
             "learn": [
              0.1416697379
             ],
             "passed_time": 41.9757853,
             "remaining_time": 0.4239978313,
             "test": [
              0.1506821578
             ]
            },
            {
             "iteration": 99,
             "learn": [
              0.1400239395
             ],
             "passed_time": 42.35991331,
             "remaining_time": 0,
             "test": [
              0.1489972383
             ]
            }
           ],
           "meta": {
            "iteration_count": 100,
            "launch_mode": "Train",
            "learn_metrics": [
             {
              "best_value": "Min",
              "name": "CrossEntropy"
             }
            ],
            "learn_sets": [
             "learn"
            ],
            "name": "experiment",
            "parameters": "",
            "test_metrics": [
             {
              "best_value": "Min",
              "name": "CrossEntropy"
             }
            ],
            "test_sets": [
             "test"
            ]
           }
          },
          "passed_iterations": 99,
          "total_iterations": 100
         },
         "name": "catboost_info",
         "path": "catboost_info"
        }
       },
       "layout": "IPY_MODEL_ca4c900889534b718453ef6b89f4753f"
      }
     },
     "e02312b600504548a4eca54cc1d217f1": {
      "model_module": "catboost-widget",
      "model_module_version": "^1.0.0",
      "model_name": "CatboostWidgetModel",
      "state": {
       "_dom_classes": [],
       "_model_module": "catboost-widget",
       "_model_module_version": "^1.0.0",
       "_model_name": "CatboostWidgetModel",
       "_view_count": null,
       "_view_module": "catboost-widget",
       "_view_module_version": "^1.0.0",
       "_view_name": "CatboostWidgetView",
       "data": {
        "catboost_info": {
         "content": {
          "data": {
           "iterations": [
            {
             "iteration": 0,
             "learn": [
              0.6613833058
             ],
             "passed_time": 0.4088486083,
             "remaining_time": 40.47601222,
             "test": [
              0.6636021965
             ]
            },
            {
             "iteration": 1,
             "learn": [
              0.6363130522
             ],
             "passed_time": 0.8156900768,
             "remaining_time": 39.96881377,
             "test": [
              0.6357764014
             ]
            },
            {
             "iteration": 2,
             "learn": [
              0.6093859609
             ],
             "passed_time": 1.19533158,
             "remaining_time": 38.64905443,
             "test": [
              0.6095255038
             ]
            },
            {
             "iteration": 3,
             "learn": [
              0.5837362715
             ],
             "passed_time": 1.595275789,
             "remaining_time": 38.28661894,
             "test": [
              0.5847189361
             ]
            },
            {
             "iteration": 4,
             "learn": [
              0.5622071959
             ],
             "passed_time": 1.985362902,
             "remaining_time": 37.72189513,
             "test": [
              0.561246671
             ]
            },
            {
             "iteration": 5,
             "learn": [
              0.5377494312
             ],
             "passed_time": 2.393920859,
             "remaining_time": 37.50476012,
             "test": [
              0.5390031244
             ]
            },
            {
             "iteration": 6,
             "learn": [
              0.5169066612
             ],
             "passed_time": 2.798009312,
             "remaining_time": 37.17355229,
             "test": [
              0.517898703
             ]
            },
            {
             "iteration": 7,
             "learn": [
              0.4987223473
             ],
             "passed_time": 3.165107694,
             "remaining_time": 36.39873848,
             "test": [
              0.4978522161
             ]
            },
            {
             "iteration": 8,
             "learn": [
              0.4785554209
             ],
             "passed_time": 3.64274923,
             "remaining_time": 36.83224221,
             "test": [
              0.4787901013
             ]
            },
            {
             "iteration": 9,
             "learn": [
              0.4606099355
             ],
             "passed_time": 4.029352698,
             "remaining_time": 36.26417428,
             "test": [
              0.4606461734
             ]
            },
            {
             "iteration": 10,
             "learn": [
              0.4439058013
             ],
             "passed_time": 4.423991266,
             "remaining_time": 35.79411116,
             "test": [
              0.4433599288
             ]
            },
            {
             "iteration": 11,
             "learn": [
              0.4280867114
             ],
             "passed_time": 4.8504526,
             "remaining_time": 35.56998574,
             "test": [
              0.4268755071
             ]
            },
            {
             "iteration": 12,
             "learn": [
              0.4121933936
             ],
             "passed_time": 5.314034188,
             "remaining_time": 35.56315188,
             "test": [
              0.4111433577
             ]
            },
            {
             "iteration": 13,
             "learn": [
              0.3968280512
             ],
             "passed_time": 5.683978666,
             "remaining_time": 34.91586895,
             "test": [
              0.3961181559
             ]
            },
            {
             "iteration": 14,
             "learn": [
              0.3824523738
             ],
             "passed_time": 6.111551197,
             "remaining_time": 34.63212345,
             "test": [
              0.3817603099
             ]
            },
            {
             "iteration": 15,
             "learn": [
              0.3673901982
             ],
             "passed_time": 6.553823403,
             "remaining_time": 34.40757287,
             "test": [
              0.368026244
             ]
            },
            {
             "iteration": 16,
             "learn": [
              0.3540004872
             ],
             "passed_time": 6.946081439,
             "remaining_time": 33.91322115,
             "test": [
              0.3548809895
             ]
            },
            {
             "iteration": 17,
             "learn": [
              0.3432373412
             ],
             "passed_time": 7.53322541,
             "remaining_time": 34.31802687,
             "test": [
              0.3422942535
             ]
            },
            {
             "iteration": 18,
             "learn": [
              0.3301426091
             ],
             "passed_time": 8.084584724,
             "remaining_time": 34.46586119,
             "test": [
              0.3302339324
             ]
            },
            {
             "iteration": 19,
             "learn": [
              0.3197387744
             ],
             "passed_time": 8.651262295,
             "remaining_time": 34.60504918,
             "test": [
              0.3186723601
             ]
            },
            {
             "iteration": 20,
             "learn": [
              0.3070638154
             ],
             "passed_time": 9.121175735,
             "remaining_time": 34.31299443,
             "test": [
              0.3075839924
             ]
            },
            {
             "iteration": 21,
             "learn": [
              0.2969468831
             ],
             "passed_time": 9.535872885,
             "remaining_time": 33.80900386,
             "test": [
              0.2969438936
             ]
            },
            {
             "iteration": 22,
             "learn": [
              0.2868773434
             ],
             "passed_time": 9.993450293,
             "remaining_time": 33.45633359,
             "test": [
              0.2867299949
             ]
            },
            {
             "iteration": 23,
             "learn": [
              0.2765920305
             ],
             "passed_time": 10.41625565,
             "remaining_time": 32.98480957,
             "test": [
              0.2769187467
             ]
            },
            {
             "iteration": 24,
             "learn": [
              0.2665713032
             ],
             "passed_time": 10.78603314,
             "remaining_time": 32.35809943,
             "test": [
              0.2674921393
             ]
            },
            {
             "iteration": 25,
             "learn": [
              0.2580613413
             ],
             "passed_time": 11.15191507,
             "remaining_time": 31.74006598,
             "test": [
              0.258430624
             ]
            },
            {
             "iteration": 26,
             "learn": [
              0.2500362204
             ],
             "passed_time": 11.60283967,
             "remaining_time": 31.37064058,
             "test": [
              0.2497183783
             ]
            },
            {
             "iteration": 27,
             "learn": [
              0.2420518286
             ],
             "passed_time": 11.96917604,
             "remaining_time": 30.77788124,
             "test": [
              0.2413375163
             ]
            },
            {
             "iteration": 28,
             "learn": [
              0.2337643118
             ],
             "passed_time": 12.35035535,
             "remaining_time": 30.23707689,
             "test": [
              0.2332734098
             ]
            },
            {
             "iteration": 29,
             "learn": [
              0.2259327289
             ],
             "passed_time": 12.77902697,
             "remaining_time": 29.81772959,
             "test": [
              0.2255112218
             ]
            },
            {
             "iteration": 30,
             "learn": [
              0.2186097749
             ],
             "passed_time": 13.21733382,
             "remaining_time": 29.4192269,
             "test": [
              0.2180378412
             ]
            },
            {
             "iteration": 31,
             "learn": [
              0.2110185366
             ],
             "passed_time": 13.71845456,
             "remaining_time": 29.15171594,
             "test": [
              0.2108403657
             ]
            },
            {
             "iteration": 32,
             "learn": [
              0.2034532682
             ],
             "passed_time": 14.16700939,
             "remaining_time": 28.7633221,
             "test": [
              0.2039063397
             ]
            },
            {
             "iteration": 33,
             "learn": [
              0.1965941016
             ],
             "passed_time": 14.58945049,
             "remaining_time": 28.32069801,
             "test": [
              0.1972238257
             ]
            },
            {
             "iteration": 34,
             "learn": [
              0.1912676119
             ],
             "passed_time": 15.03194896,
             "remaining_time": 27.91647664,
             "test": [
              0.1907824623
             ]
            },
            {
             "iteration": 35,
             "learn": [
              0.1840361645
             ],
             "passed_time": 15.42279594,
             "remaining_time": 27.4183039,
             "test": [
              0.1845729868
             ]
            },
            {
             "iteration": 36,
             "learn": [
              0.1788613172
             ],
             "passed_time": 15.82809325,
             "remaining_time": 26.95053716,
             "test": [
              0.1785847459
             ]
            },
            {
             "iteration": 37,
             "learn": [
              0.1723271005
             ],
             "passed_time": 16.22813574,
             "remaining_time": 26.47748463,
             "test": [
              0.172809024
             ]
            },
            {
             "iteration": 38,
             "learn": [
              0.16776618
             ],
             "passed_time": 16.72681656,
             "remaining_time": 26.16245667,
             "test": [
              0.1672369873
             ]
            },
            {
             "iteration": 39,
             "learn": [
              0.1615620283
             ],
             "passed_time": 17.09732482,
             "remaining_time": 25.64598723,
             "test": [
              0.1618601528
             ]
            },
            {
             "iteration": 40,
             "learn": [
              0.1564519582
             ],
             "passed_time": 17.52952608,
             "remaining_time": 25.22541558,
             "test": [
              0.1566696949
             ]
            },
            {
             "iteration": 41,
             "learn": [
              0.1521248768
             ],
             "passed_time": 18.03102011,
             "remaining_time": 24.89998015,
             "test": [
              0.1516598802
             ]
            },
            {
             "iteration": 42,
             "learn": [
              0.147135012
             ],
             "passed_time": 18.35997025,
             "remaining_time": 24.33763499,
             "test": [
              0.1468221077
             ]
            },
            {
             "iteration": 43,
             "learn": [
              0.1419946098
             ],
             "passed_time": 18.77067707,
             "remaining_time": 23.88995264,
             "test": [
              0.1421505413
             ]
            },
            {
             "iteration": 44,
             "learn": [
              0.1372560599
             ],
             "passed_time": 19.16216686,
             "remaining_time": 23.42042617,
             "test": [
              0.1376389524
             ]
            },
            {
             "iteration": 45,
             "learn": [
              0.1330486683
             ],
             "passed_time": 19.61774346,
             "remaining_time": 23.02952493,
             "test": [
              0.1332816505
             ]
            },
            {
             "iteration": 46,
             "learn": [
              0.1290536631
             ],
             "passed_time": 20.06977081,
             "remaining_time": 22.63186921,
             "test": [
              0.1290708915
             ]
            },
            {
             "iteration": 47,
             "learn": [
              0.1251317437
             ],
             "passed_time": 20.4703677,
             "remaining_time": 22.17623168,
             "test": [
              0.1250010393
             ]
            },
            {
             "iteration": 48,
             "learn": [
              0.1212235519
             ],
             "passed_time": 20.91719978,
             "remaining_time": 21.77096304,
             "test": [
              0.1210683429
             ]
            },
            {
             "iteration": 49,
             "learn": [
              0.1173366807
             ],
             "passed_time": 21.35414011,
             "remaining_time": 21.35414011,
             "test": [
              0.1172675857
             ]
            },
            {
             "iteration": 50,
             "learn": [
              0.1134724476
             ],
             "passed_time": 21.72018324,
             "remaining_time": 20.86841135,
             "test": [
              0.1135930121
             ]
            },
            {
             "iteration": 51,
             "learn": [
              0.1099110133
             ],
             "passed_time": 22.12040746,
             "remaining_time": 20.41883765,
             "test": [
              0.1100413647
             ]
            },
            {
             "iteration": 52,
             "learn": [
              0.1070505303
             ],
             "passed_time": 22.49810002,
             "remaining_time": 19.9511453,
             "test": [
              0.1066057938
             ]
            },
            {
             "iteration": 53,
             "learn": [
              0.103552619
             ],
             "passed_time": 22.87946928,
             "remaining_time": 19.48991827,
             "test": [
              0.1032832528
             ]
            },
            {
             "iteration": 54,
             "learn": [
              0.09988938172
             ],
             "passed_time": 23.34033819,
             "remaining_time": 19.09664034,
             "test": [
              0.100069904
             ]
            },
            {
             "iteration": 55,
             "learn": [
              0.09727701831
             ],
             "passed_time": 23.75025387,
             "remaining_time": 18.66091376,
             "test": [
              0.09696135507
             ]
            },
            {
             "iteration": 56,
             "learn": [
              0.09392550693
             ],
             "passed_time": 24.23782272,
             "remaining_time": 18.28467328,
             "test": [
              0.09395508244
             ]
            },
            {
             "iteration": 57,
             "learn": [
              0.09136714968
             ],
             "passed_time": 24.67104485,
             "remaining_time": 17.86523937,
             "test": [
              0.09104531184
             ]
            },
            {
             "iteration": 58,
             "learn": [
              0.08811192721
             ],
             "passed_time": 25.05528851,
             "remaining_time": 17.41130219,
             "test": [
              0.08822992901
             ]
            },
            {
             "iteration": 59,
             "learn": [
              0.08562035392
             ],
             "passed_time": 25.44058685,
             "remaining_time": 16.96039123,
             "test": [
              0.08550541992
             ]
            },
            {
             "iteration": 60,
             "learn": [
              0.08274680839
             ],
             "passed_time": 25.88659369,
             "remaining_time": 16.55044515,
             "test": [
              0.08286951313
             ]
            },
            {
             "iteration": 61,
             "learn": [
              0.08026817581
             ],
             "passed_time": 26.31748069,
             "remaining_time": 16.13006881,
             "test": [
              0.08031797522
             ]
            },
            {
             "iteration": 62,
             "learn": [
              0.07813040758
             ],
             "passed_time": 26.74056157,
             "remaining_time": 15.70477425,
             "test": [
              0.07784892566
             ]
            },
            {
             "iteration": 63,
             "learn": [
              0.07565820686
             ],
             "passed_time": 27.14121605,
             "remaining_time": 15.26693403,
             "test": [
              0.0754579557
             ]
            },
            {
             "iteration": 64,
             "learn": [
              0.07311566258
             ],
             "passed_time": 27.54583029,
             "remaining_time": 14.83237016,
             "test": [
              0.07314359739
             ]
            },
            {
             "iteration": 65,
             "learn": [
              0.07073647985
             ],
             "passed_time": 27.99827055,
             "remaining_time": 14.42335149,
             "test": [
              0.07090345692
             ]
            },
            {
             "iteration": 66,
             "learn": [
              0.0686360056
             ],
             "passed_time": 28.42401008,
             "remaining_time": 13.99988556,
             "test": [
              0.06873395958
             ]
            },
            {
             "iteration": 67,
             "learn": [
              0.06660999364
             ],
             "passed_time": 28.86788653,
             "remaining_time": 13.58488778,
             "test": [
              0.06663338324
             ]
            },
            {
             "iteration": 68,
             "learn": [
              0.06464239369
             ],
             "passed_time": 29.22338075,
             "remaining_time": 13.12934497,
             "test": [
              0.06459865182
             ]
            },
            {
             "iteration": 69,
             "learn": [
              0.06268849161
             ],
             "passed_time": 29.6424157,
             "remaining_time": 12.70389244,
             "test": [
              0.06262806519
             ]
            },
            {
             "iteration": 70,
             "learn": [
              0.06074503464
             ],
             "passed_time": 29.97410143,
             "remaining_time": 12.24294284,
             "test": [
              0.06071960949
             ]
            },
            {
             "iteration": 71,
             "learn": [
              0.05883742726
             ],
             "passed_time": 30.33085223,
             "remaining_time": 11.79533142,
             "test": [
              0.05887175445
             ]
            },
            {
             "iteration": 72,
             "learn": [
              0.05703177629
             ],
             "passed_time": 30.76072889,
             "remaining_time": 11.37725589,
             "test": [
              0.05708217499
             ]
            },
            {
             "iteration": 73,
             "learn": [
              0.05560830642
             ],
             "passed_time": 31.16385569,
             "remaining_time": 10.94946281,
             "test": [
              0.05534802581
             ]
            },
            {
             "iteration": 74,
             "learn": [
              0.05385743443
             ],
             "passed_time": 31.61984671,
             "remaining_time": 10.5399489,
             "test": [
              0.05366869312
             ]
            },
            {
             "iteration": 75,
             "learn": [
              0.05201270445
             ],
             "passed_time": 32.07070687,
             "remaining_time": 10.12759164,
             "test": [
              0.05204127344
             ]
            },
            {
             "iteration": 76,
             "learn": [
              0.05071343731
             ],
             "passed_time": 32.49290748,
             "remaining_time": 9.705673662,
             "test": [
              0.05046334767
             ]
            },
            {
             "iteration": 77,
             "learn": [
              0.04902438793
             ],
             "passed_time": 32.99593685,
             "remaining_time": 9.306546292,
             "test": [
              0.04893502976
             ]
            },
            {
             "iteration": 78,
             "learn": [
              0.04743491945
             ],
             "passed_time": 33.40679748,
             "remaining_time": 8.880287938,
             "test": [
              0.04745500963
             ]
            },
            {
             "iteration": 79,
             "learn": [
              0.04609705297
             ],
             "passed_time": 33.80785768,
             "remaining_time": 8.451964421,
             "test": [
              0.04601926697
             ]
            },
            {
             "iteration": 80,
             "learn": [
              0.04483596266
             ],
             "passed_time": 34.20517397,
             "remaining_time": 8.023435869,
             "test": [
              0.04462967412
             ]
            },
            {
             "iteration": 81,
             "learn": [
              0.04326413738
             ],
             "passed_time": 34.57829641,
             "remaining_time": 7.590357748,
             "test": [
              0.04328301015
             ]
            },
            {
             "iteration": 82,
             "learn": [
              0.04215270263
             ],
             "passed_time": 34.94310046,
             "remaining_time": 7.157020577,
             "test": [
              0.04197788255
             ]
            },
            {
             "iteration": 83,
             "learn": [
              0.04089662391
             ],
             "passed_time": 35.26352213,
             "remaining_time": 6.716861358,
             "test": [
              0.04071124879
             ]
            },
            {
             "iteration": 84,
             "learn": [
              0.039533175
             ],
             "passed_time": 35.63501057,
             "remaining_time": 6.288531277,
             "test": [
              0.03948520747
             ]
            },
            {
             "iteration": 85,
             "learn": [
              0.03831805339
             ],
             "passed_time": 36.02283302,
             "remaining_time": 5.86418212,
             "test": [
              0.03829715944
             ]
            },
            {
             "iteration": 86,
             "learn": [
              0.03729257831
             ],
             "passed_time": 36.50763402,
             "remaining_time": 5.455163704,
             "test": [
              0.03714557786
             ]
            },
            {
             "iteration": 87,
             "learn": [
              0.03623772236
             ],
             "passed_time": 36.84840579,
             "remaining_time": 5.024782607,
             "test": [
              0.03602765555
             ]
            },
            {
             "iteration": 88,
             "learn": [
              0.03506014249
             ],
             "passed_time": 37.28171586,
             "remaining_time": 4.607852522,
             "test": [
              0.03494588352
             ]
            },
            {
             "iteration": 89,
             "learn": [
              0.03401827473
             ],
             "passed_time": 37.68842413,
             "remaining_time": 4.187602681,
             "test": [
              0.03389631421
             ]
            },
            {
             "iteration": 90,
             "learn": [
              0.03301349027
             ],
             "passed_time": 38.13974447,
             "remaining_time": 3.77206264,
             "test": [
              0.03287926643
             ]
            },
            {
             "iteration": 91,
             "learn": [
              0.03202210054
             ],
             "passed_time": 38.52420041,
             "remaining_time": 3.349930471,
             "test": [
              0.03189359212
             ]
            },
            {
             "iteration": 92,
             "learn": [
              0.03104725975
             ],
             "passed_time": 39.01965181,
             "remaining_time": 2.936963039,
             "test": [
              0.0309381922
             ]
            },
            {
             "iteration": 93,
             "learn": [
              0.03010663389
             ],
             "passed_time": 39.62684553,
             "remaining_time": 2.529373119,
             "test": [
              0.03001178197
             ]
            },
            {
             "iteration": 94,
             "learn": [
              0.02918377838
             ],
             "passed_time": 40.278269,
             "remaining_time": 2.119908894,
             "test": [
              0.02911343234
             ]
            },
            {
             "iteration": 95,
             "learn": [
              0.02843191935
             ],
             "passed_time": 40.7617528,
             "remaining_time": 1.698406367,
             "test": [
              0.02824285587
             ]
            },
            {
             "iteration": 96,
             "learn": [
              0.02754641742
             ],
             "passed_time": 41.21313987,
             "remaining_time": 1.274633192,
             "test": [
              0.02739858079
             ]
            },
            {
             "iteration": 97,
             "learn": [
              0.02664126337
             ],
             "passed_time": 41.6897649,
             "remaining_time": 0.8508115286,
             "test": [
              0.02657990515
             ]
            },
            {
             "iteration": 98,
             "learn": [
              0.02597877765
             ],
             "passed_time": 42.15967707,
             "remaining_time": 0.4258553239,
             "test": [
              0.02578539245
             ]
            },
            {
             "iteration": 99,
             "learn": [
              0.02510717732
             ],
             "passed_time": 42.44802463,
             "remaining_time": 0,
             "test": [
              0.02501369653
             ]
            }
           ],
           "meta": {
            "iteration_count": 100,
            "launch_mode": "Train",
            "learn_metrics": [
             {
              "best_value": "Min",
              "name": "CrossEntropy"
             }
            ],
            "learn_sets": [
             "learn"
            ],
            "name": "experiment",
            "parameters": "",
            "test_metrics": [
             {
              "best_value": "Min",
              "name": "CrossEntropy"
             }
            ],
            "test_sets": [
             "test"
            ]
           }
          },
          "passed_iterations": 99,
          "total_iterations": 100
         },
         "name": "catboost_info",
         "path": "catboost_info"
        }
       },
       "layout": "IPY_MODEL_af55ac31ad4a4f8b9db850a0eb388924"
      }
     },
     "ed10ca24857d443b9124138ac0c0be60": {
      "model_module": "catboost-widget",
      "model_module_version": "^1.0.0",
      "model_name": "CatboostWidgetModel",
      "state": {
       "_dom_classes": [],
       "_model_module": "catboost-widget",
       "_model_module_version": "^1.0.0",
       "_model_name": "CatboostWidgetModel",
       "_view_count": null,
       "_view_module": "catboost-widget",
       "_view_module_version": "^1.0.0",
       "_view_name": "CatboostWidgetView",
       "data": {
        "catboost_info": {
         "content": {
          "data": {
           "iterations": [
            {
             "iteration": 0,
             "learn": [
              0.6727745522
             ],
             "passed_time": 0.5598409107,
             "remaining_time": 55.42425016,
             "test": [
              0.6720749522
             ]
            },
            {
             "iteration": 1,
             "learn": [
              0.6522475026
             ],
             "passed_time": 1.060200688,
             "remaining_time": 51.9498337,
             "test": [
              0.653039654
             ]
            },
            {
             "iteration": 2,
             "learn": [
              0.634222017
             ],
             "passed_time": 1.444673801,
             "remaining_time": 46.71111956,
             "test": [
              0.6353195362
             ]
            },
            {
             "iteration": 3,
             "learn": [
              0.6174582115
             ],
             "passed_time": 1.853846115,
             "remaining_time": 44.49230675,
             "test": [
              0.6182413527
             ]
            },
            {
             "iteration": 4,
             "learn": [
              0.6009215627
             ],
             "passed_time": 2.262416069,
             "remaining_time": 42.9859053,
             "test": [
              0.6019987505
             ]
            },
            {
             "iteration": 5,
             "learn": [
              0.5845117297
             ],
             "passed_time": 2.642266717,
             "remaining_time": 41.39551189,
             "test": [
              0.5862609269
             ]
            },
            {
             "iteration": 6,
             "learn": [
              0.5695408288
             ],
             "passed_time": 3.041773092,
             "remaining_time": 40.41212822,
             "test": [
              0.5716343843
             ]
            },
            {
             "iteration": 7,
             "learn": [
              0.5560243865
             ],
             "passed_time": 3.459495815,
             "remaining_time": 39.78420188,
             "test": [
              0.5578970839
             ]
            },
            {
             "iteration": 8,
             "learn": [
              0.5425938727
             ],
             "passed_time": 3.864191111,
             "remaining_time": 39.07126568,
             "test": [
              0.5447138395
             ]
            },
            {
             "iteration": 9,
             "learn": [
              0.5289363904
             ],
             "passed_time": 4.227078896,
             "remaining_time": 38.04371006,
             "test": [
              0.5313905333
             ]
            },
            {
             "iteration": 10,
             "learn": [
              0.5169323781
             ],
             "passed_time": 4.658641186,
             "remaining_time": 37.69264233,
             "test": [
              0.5196243568
             ]
            },
            {
             "iteration": 11,
             "learn": [
              0.5047819452
             ],
             "passed_time": 5.060546739,
             "remaining_time": 37.11067608,
             "test": [
              0.5080306428
             ]
            },
            {
             "iteration": 12,
             "learn": [
              0.4927213869
             ],
             "passed_time": 5.442448852,
             "remaining_time": 36.42254231,
             "test": [
              0.4962270545
             ]
            },
            {
             "iteration": 13,
             "learn": [
              0.4816270575
             ],
             "passed_time": 5.854265377,
             "remaining_time": 35.96191589,
             "test": [
              0.4858777624
             ]
            },
            {
             "iteration": 14,
             "learn": [
              0.4702884239
             ],
             "passed_time": 6.279976159,
             "remaining_time": 35.58653157,
             "test": [
              0.4749083734
             ]
            },
            {
             "iteration": 15,
             "learn": [
              0.4598964927
             ],
             "passed_time": 6.65708622,
             "remaining_time": 34.94970266,
             "test": [
              0.4646478665
             ]
            },
            {
             "iteration": 16,
             "learn": [
              0.4493952358
             ],
             "passed_time": 7.080220393,
             "remaining_time": 34.56813486,
             "test": [
              0.4547005782
             ]
            },
            {
             "iteration": 17,
             "learn": [
              0.4395197456
             ],
             "passed_time": 7.549629937,
             "remaining_time": 34.3927586,
             "test": [
              0.444799602
             ]
            },
            {
             "iteration": 18,
             "learn": [
              0.4297863361
             ],
             "passed_time": 7.946935623,
             "remaining_time": 33.87904134,
             "test": [
              0.435488759
             ]
            },
            {
             "iteration": 19,
             "learn": [
              0.4207757212
             ],
             "passed_time": 8.389152875,
             "remaining_time": 33.5566115,
             "test": [
              0.4268811414
             ]
            },
            {
             "iteration": 20,
             "learn": [
              0.412333278
             ],
             "passed_time": 8.826759002,
             "remaining_time": 33.20542672,
             "test": [
              0.4185220905
             ]
            },
            {
             "iteration": 21,
             "learn": [
              0.4034948303
             ],
             "passed_time": 9.216877963,
             "remaining_time": 32.67802187,
             "test": [
              0.4103836083
             ]
            },
            {
             "iteration": 22,
             "learn": [
              0.3953612432
             ],
             "passed_time": 9.678455173,
             "remaining_time": 32.40178471,
             "test": [
              0.4026377657
             ]
            },
            {
             "iteration": 23,
             "learn": [
              0.3876454888
             ],
             "passed_time": 10.06917972,
             "remaining_time": 31.88573578,
             "test": [
              0.3949323624
             ]
            },
            {
             "iteration": 24,
             "learn": [
              0.3795813022
             ],
             "passed_time": 10.5290146,
             "remaining_time": 31.58704381,
             "test": [
              0.3871541731
             ]
            },
            {
             "iteration": 25,
             "learn": [
              0.3719046197
             ],
             "passed_time": 10.98871073,
             "remaining_time": 31.27556132,
             "test": [
              0.379666155
             ]
            },
            {
             "iteration": 26,
             "learn": [
              0.3646765517
             ],
             "passed_time": 11.45319334,
             "remaining_time": 30.96604125,
             "test": [
              0.3721634076
             ]
            },
            {
             "iteration": 27,
             "learn": [
              0.3579206686
             ],
             "passed_time": 11.84548668,
             "remaining_time": 30.4598229,
             "test": [
              0.3658009423
             ]
            },
            {
             "iteration": 28,
             "learn": [
              0.3517847852
             ],
             "passed_time": 12.26021461,
             "remaining_time": 30.01638749,
             "test": [
              0.3597104332
             ]
            },
            {
             "iteration": 29,
             "learn": [
              0.3450978242
             ],
             "passed_time": 12.72231233,
             "remaining_time": 29.68539543,
             "test": [
              0.3531959217
             ]
            },
            {
             "iteration": 30,
             "learn": [
              0.3388191123
             ],
             "passed_time": 13.19441062,
             "remaining_time": 29.36820427,
             "test": [
              0.3470405658
             ]
            },
            {
             "iteration": 31,
             "learn": [
              0.3326838313
             ],
             "passed_time": 13.63317382,
             "remaining_time": 28.97049438,
             "test": [
              0.3410808034
             ]
            },
            {
             "iteration": 32,
             "learn": [
              0.3270967205
             ],
             "passed_time": 14.0527711,
             "remaining_time": 28.53138375,
             "test": [
              0.3354863556
             ]
            },
            {
             "iteration": 33,
             "learn": [
              0.3214381234
             ],
             "passed_time": 14.53319057,
             "remaining_time": 28.21148758,
             "test": [
              0.329788131
             ]
            },
            {
             "iteration": 34,
             "learn": [
              0.3158520466
             ],
             "passed_time": 14.99666648,
             "remaining_time": 27.85095203,
             "test": [
              0.3243925444
             ]
            },
            {
             "iteration": 35,
             "learn": [
              0.310866676
             ],
             "passed_time": 15.41126172,
             "remaining_time": 27.39779861,
             "test": [
              0.3195743443
             ]
            },
            {
             "iteration": 36,
             "learn": [
              0.3057602401
             ],
             "passed_time": 15.8146068,
             "remaining_time": 26.92757374,
             "test": [
              0.314602867
             ]
            },
            {
             "iteration": 37,
             "learn": [
              0.3010008229
             ],
             "passed_time": 16.23241339,
             "remaining_time": 26.48446395,
             "test": [
              0.3101331705
             ]
            },
            {
             "iteration": 38,
             "learn": [
              0.2959588042
             ],
             "passed_time": 16.65058214,
             "remaining_time": 26.04321822,
             "test": [
              0.3051347667
             ]
            },
            {
             "iteration": 39,
             "learn": [
              0.2911268709
             ],
             "passed_time": 17.06290666,
             "remaining_time": 25.59436,
             "test": [
              0.3003119955
             ]
            },
            {
             "iteration": 40,
             "learn": [
              0.2867885803
             ],
             "passed_time": 17.4773007,
             "remaining_time": 25.15026199,
             "test": [
              0.2962097659
             ]
            },
            {
             "iteration": 41,
             "learn": [
              0.2822750276
             ],
             "passed_time": 17.963264,
             "remaining_time": 24.8064122,
             "test": [
              0.2915792911
             ]
            },
            {
             "iteration": 42,
             "learn": [
              0.2777838492
             ],
             "passed_time": 18.37524253,
             "remaining_time": 24.35787963,
             "test": [
              0.2871608333
             ]
            },
            {
             "iteration": 43,
             "learn": [
              0.2738035164
             ],
             "passed_time": 18.82685328,
             "remaining_time": 23.96144963,
             "test": [
              0.283192921
             ]
            },
            {
             "iteration": 44,
             "learn": [
              0.269890922
             ],
             "passed_time": 19.34819179,
             "remaining_time": 23.64778996,
             "test": [
              0.2791233882
             ]
            },
            {
             "iteration": 45,
             "learn": [
              0.2664056858
             ],
             "passed_time": 19.77182351,
             "remaining_time": 23.21040152,
             "test": [
              0.2759374315
             ]
            },
            {
             "iteration": 46,
             "learn": [
              0.2624561467
             ],
             "passed_time": 20.16269952,
             "remaining_time": 22.73666116,
             "test": [
              0.2721013294
             ]
            },
            {
             "iteration": 47,
             "learn": [
              0.2586815349
             ],
             "passed_time": 20.55653044,
             "remaining_time": 22.26957464,
             "test": [
              0.2683165346
             ]
            },
            {
             "iteration": 48,
             "learn": [
              0.255130036
             ],
             "passed_time": 21.01880275,
             "remaining_time": 21.87671306,
             "test": [
              0.2649437559
             ]
            },
            {
             "iteration": 49,
             "learn": [
              0.2515347344
             ],
             "passed_time": 21.41769031,
             "remaining_time": 21.41769031,
             "test": [
              0.2613314324
             ]
            },
            {
             "iteration": 50,
             "learn": [
              0.2480396446
             ],
             "passed_time": 21.81701963,
             "remaining_time": 20.96145023,
             "test": [
              0.2579135206
             ]
            },
            {
             "iteration": 51,
             "learn": [
              0.24462576
             ],
             "passed_time": 22.24481922,
             "remaining_time": 20.53367928,
             "test": [
              0.2547071544
             ]
            },
            {
             "iteration": 52,
             "learn": [
              0.241482986
             ],
             "passed_time": 22.68668339,
             "remaining_time": 20.11837961,
             "test": [
              0.2517009365
             ]
            },
            {
             "iteration": 53,
             "learn": [
              0.2386968261
             ],
             "passed_time": 23.07846659,
             "remaining_time": 19.6594345,
             "test": [
              0.2488276366
             ]
            },
            {
             "iteration": 54,
             "learn": [
              0.2354810153
             ],
             "passed_time": 23.48293965,
             "remaining_time": 19.21331426,
             "test": [
              0.2458484412
             ]
            },
            {
             "iteration": 55,
             "learn": [
              0.2326688295
             ],
             "passed_time": 23.90618732,
             "remaining_time": 18.7834329,
             "test": [
              0.2429114668
             ]
            },
            {
             "iteration": 56,
             "learn": [
              0.2297642447
             ],
             "passed_time": 24.34886291,
             "remaining_time": 18.36844044,
             "test": [
              0.2400187468
             ]
            },
            {
             "iteration": 57,
             "learn": [
              0.2269478185
             ],
             "passed_time": 24.78360577,
             "remaining_time": 17.946749,
             "test": [
              0.2371610994
             ]
            },
            {
             "iteration": 58,
             "learn": [
              0.2244986674
             ],
             "passed_time": 25.18626568,
             "remaining_time": 17.50232022,
             "test": [
              0.2347512339
             ]
            },
            {
             "iteration": 59,
             "learn": [
              0.2217601112
             ],
             "passed_time": 25.61185523,
             "remaining_time": 17.07457015,
             "test": [
              0.2321082065
             ]
            },
            {
             "iteration": 60,
             "learn": [
              0.219423998
             ],
             "passed_time": 25.98033199,
             "remaining_time": 16.61037619,
             "test": [
              0.2298035781
             ]
            },
            {
             "iteration": 61,
             "learn": [
              0.2170153016
             ],
             "passed_time": 26.34376725,
             "remaining_time": 16.14617993,
             "test": [
              0.2272436578
             ]
            },
            {
             "iteration": 62,
             "learn": [
              0.2147436099
             ],
             "passed_time": 26.74255102,
             "remaining_time": 15.70594266,
             "test": [
              0.2249315633
             ]
            },
            {
             "iteration": 63,
             "learn": [
              0.2127408775
             ],
             "passed_time": 27.0954308,
             "remaining_time": 15.24117983,
             "test": [
              0.2227955901
             ]
            },
            {
             "iteration": 64,
             "learn": [
              0.210267808
             ],
             "passed_time": 27.53736676,
             "remaining_time": 14.82781287,
             "test": [
              0.2203412157
             ]
            },
            {
             "iteration": 65,
             "learn": [
              0.2079130848
             ],
             "passed_time": 27.95803238,
             "remaining_time": 14.40262274,
             "test": [
              0.218073754
             ]
            },
            {
             "iteration": 66,
             "learn": [
              0.2056064164
             ],
             "passed_time": 28.41253727,
             "remaining_time": 13.99423478,
             "test": [
              0.2158302952
             ]
            },
            {
             "iteration": 67,
             "learn": [
              0.2033461556
             ],
             "passed_time": 28.85291291,
             "remaining_time": 13.57784137,
             "test": [
              0.21369401
             ]
            },
            {
             "iteration": 68,
             "learn": [
              0.2011346421
             ],
             "passed_time": 29.28879496,
             "remaining_time": 13.15873397,
             "test": [
              0.2115234896
             ]
            },
            {
             "iteration": 69,
             "learn": [
              0.1993511853
             ],
             "passed_time": 29.67678902,
             "remaining_time": 12.71862387,
             "test": [
              0.2098758873
             ]
            },
            {
             "iteration": 70,
             "learn": [
              0.1972307969
             ],
             "passed_time": 30.10257632,
             "remaining_time": 12.2954185,
             "test": [
              0.2078975563
             ]
            },
            {
             "iteration": 71,
             "learn": [
              0.1953568967
             ],
             "passed_time": 30.54595131,
             "remaining_time": 11.87898107,
             "test": [
              0.2060286897
             ]
            },
            {
             "iteration": 72,
             "learn": [
              0.1934985037
             ],
             "passed_time": 30.89868969,
             "remaining_time": 11.42828249,
             "test": [
              0.2042275947
             ]
            },
            {
             "iteration": 73,
             "learn": [
              0.1914888672
             ],
             "passed_time": 31.46486967,
             "remaining_time": 11.05522448,
             "test": [
              0.2022984592
             ]
            },
            {
             "iteration": 74,
             "learn": [
              0.1894395329
             ],
             "passed_time": 32.10174634,
             "remaining_time": 10.70058211,
             "test": [
              0.2003228389
             ]
            },
            {
             "iteration": 75,
             "learn": [
              0.187649505
             ],
             "passed_time": 32.67363408,
             "remaining_time": 10.31798971,
             "test": [
              0.1985669117
             ]
            },
            {
             "iteration": 76,
             "learn": [
              0.1858668183
             ],
             "passed_time": 33.06928044,
             "remaining_time": 9.877837014,
             "test": [
              0.1967832852
             ]
            },
            {
             "iteration": 77,
             "learn": [
              0.1844650692
             ],
             "passed_time": 33.38847661,
             "remaining_time": 9.417262634,
             "test": [
              0.1952921929
             ]
            },
            {
             "iteration": 78,
             "learn": [
              0.1826706485
             ],
             "passed_time": 33.87470609,
             "remaining_time": 9.004668707,
             "test": [
              0.1934944169
             ]
            },
            {
             "iteration": 79,
             "learn": [
              0.1810835476
             ],
             "passed_time": 34.24385887,
             "remaining_time": 8.560964717,
             "test": [
              0.1920019587
             ]
            },
            {
             "iteration": 80,
             "learn": [
              0.1792558207
             ],
             "passed_time": 34.69703402,
             "remaining_time": 8.138810449,
             "test": [
              0.1901504095
             ]
            },
            {
             "iteration": 81,
             "learn": [
              0.1777326354
             ],
             "passed_time": 35.09693299,
             "remaining_time": 7.704204802,
             "test": [
              0.1887071527
             ]
            },
            {
             "iteration": 82,
             "learn": [
              0.1765033873
             ],
             "passed_time": 35.41762444,
             "remaining_time": 7.254212234,
             "test": [
              0.18743928
             ]
            },
            {
             "iteration": 83,
             "learn": [
              0.1747323725
             ],
             "passed_time": 35.83442861,
             "remaining_time": 6.82560545,
             "test": [
              0.185574541
             ]
            },
            {
             "iteration": 84,
             "learn": [
              0.1731983118
             ],
             "passed_time": 36.26510216,
             "remaining_time": 6.39972391,
             "test": [
              0.183984922
             ]
            },
            {
             "iteration": 85,
             "learn": [
              0.1718763135
             ],
             "passed_time": 36.67556298,
             "remaining_time": 5.970440485,
             "test": [
              0.1828597349
             ]
            },
            {
             "iteration": 86,
             "learn": [
              0.1706587671
             ],
             "passed_time": 37.05633405,
             "remaining_time": 5.537153364,
             "test": [
              0.1816554648
             ]
            },
            {
             "iteration": 87,
             "learn": [
              0.1690084441
             ],
             "passed_time": 37.47423682,
             "remaining_time": 5.110123203,
             "test": [
              0.1799530429
             ]
            },
            {
             "iteration": 88,
             "learn": [
              0.1679269163
             ],
             "passed_time": 37.77807066,
             "remaining_time": 4.669199745,
             "test": [
              0.1788204797
             ]
            },
            {
             "iteration": 89,
             "learn": [
              0.166494422
             ],
             "passed_time": 38.18137764,
             "remaining_time": 4.242375293,
             "test": [
              0.1773544805
             ]
            },
            {
             "iteration": 90,
             "learn": [
              0.1650015831
             ],
             "passed_time": 38.61697259,
             "remaining_time": 3.819261025,
             "test": [
              0.175921871
             ]
            },
            {
             "iteration": 91,
             "learn": [
              0.1634425873
             ],
             "passed_time": 39.02615181,
             "remaining_time": 3.393578418,
             "test": [
              0.1742978708
             ]
            },
            {
             "iteration": 92,
             "learn": [
              0.1623368331
             ],
             "passed_time": 39.39663157,
             "remaining_time": 2.96533786,
             "test": [
              0.173355168
             ]
            },
            {
             "iteration": 93,
             "learn": [
              0.1609485872
             ],
             "passed_time": 39.84233531,
             "remaining_time": 2.543127786,
             "test": [
              0.1720836401
             ]
            },
            {
             "iteration": 94,
             "learn": [
              0.1599976373
             ],
             "passed_time": 40.14972994,
             "remaining_time": 2.113143681,
             "test": [
              0.1710748548
             ]
            },
            {
             "iteration": 95,
             "learn": [
              0.1584012071
             ],
             "passed_time": 40.61011494,
             "remaining_time": 1.692088122,
             "test": [
              0.1696684133
             ]
            },
            {
             "iteration": 96,
             "learn": [
              0.1574074466
             ],
             "passed_time": 40.98082115,
             "remaining_time": 1.267448077,
             "test": [
              0.1688292328
             ]
            },
            {
             "iteration": 97,
             "learn": [
              0.1559617898
             ],
             "passed_time": 41.43876358,
             "remaining_time": 0.8456890527,
             "test": [
              0.1673217679
             ]
            },
            {
             "iteration": 98,
             "learn": [
              0.155077436
             ],
             "passed_time": 41.74919314,
             "remaining_time": 0.4217090216,
             "test": [
              0.1665773219
             ]
            },
            {
             "iteration": 99,
             "learn": [
              0.1536045741
             ],
             "passed_time": 42.21055135,
             "remaining_time": 0,
             "test": [
              0.1653195045
             ]
            }
           ],
           "meta": {
            "iteration_count": 100,
            "launch_mode": "Train",
            "learn_metrics": [
             {
              "best_value": "Min",
              "name": "CrossEntropy"
             }
            ],
            "learn_sets": [
             "learn"
            ],
            "name": "experiment",
            "parameters": "",
            "test_metrics": [
             {
              "best_value": "Min",
              "name": "CrossEntropy"
             }
            ],
            "test_sets": [
             "test"
            ]
           }
          },
          "passed_iterations": 99,
          "total_iterations": 100
         },
         "name": "catboost_info",
         "path": "catboost_info"
        }
       },
       "layout": "IPY_MODEL_7bb4638498364d69b3b662250a588b18"
      }
     },
     "efa301890fef41fe8cb9336d326a90af": {
      "model_module": "@jupyter-widgets/base",
      "model_module_version": "1.2.0",
      "model_name": "LayoutModel",
      "state": {
       "_model_module": "@jupyter-widgets/base",
       "_model_module_version": "1.2.0",
       "_model_name": "LayoutModel",
       "_view_count": null,
       "_view_module": "@jupyter-widgets/base",
       "_view_module_version": "1.2.0",
       "_view_name": "LayoutView",
       "align_content": null,
       "align_items": null,
       "align_self": "stretch",
       "border": null,
       "bottom": null,
       "display": null,
       "flex": null,
       "flex_flow": null,
       "grid_area": null,
       "grid_auto_columns": null,
       "grid_auto_flow": null,
       "grid_auto_rows": null,
       "grid_column": null,
       "grid_gap": null,
       "grid_row": null,
       "grid_template_areas": null,
       "grid_template_columns": null,
       "grid_template_rows": null,
       "height": "500px",
       "justify_content": null,
       "justify_items": null,
       "left": null,
       "margin": null,
       "max_height": null,
       "max_width": null,
       "min_height": null,
       "min_width": null,
       "object_fit": null,
       "object_position": null,
       "order": null,
       "overflow": null,
       "overflow_x": null,
       "overflow_y": null,
       "padding": null,
       "right": null,
       "top": null,
       "visibility": null,
       "width": null
      }
     },
     "f4ea9f6e885e43a28bfa91348bf16f88": {
      "model_module": "catboost-widget",
      "model_module_version": "^1.0.0",
      "model_name": "CatboostWidgetModel",
      "state": {
       "_dom_classes": [],
       "_model_module": "catboost-widget",
       "_model_module_version": "^1.0.0",
       "_model_name": "CatboostWidgetModel",
       "_view_count": null,
       "_view_module": "catboost-widget",
       "_view_module_version": "^1.0.0",
       "_view_name": "CatboostWidgetView",
       "data": {
        "catboost_info": {
         "content": {
          "data": {
           "iterations": [
            {
             "iteration": 0,
             "learn": [
              0.6613781666
             ],
             "passed_time": 0.4056197484,
             "remaining_time": 40.15635509,
             "test": [
              0.6635993178
             ]
            },
            {
             "iteration": 1,
             "learn": [
              0.6362970038
             ],
             "passed_time": 0.8093620364,
             "remaining_time": 39.65873979,
             "test": [
              0.6357725161
             ]
            },
            {
             "iteration": 2,
             "learn": [
              0.6093759043
             ],
             "passed_time": 1.189695143,
             "remaining_time": 38.46680963,
             "test": [
              0.6095201401
             ]
            },
            {
             "iteration": 3,
             "learn": [
              0.5837149239
             ],
             "passed_time": 1.590902891,
             "remaining_time": 38.18166939,
             "test": [
              0.584713732
             ]
            },
            {
             "iteration": 4,
             "learn": [
              0.5621904332
             ],
             "passed_time": 1.981017569,
             "remaining_time": 37.63933382,
             "test": [
              0.5612380105
             ]
            },
            {
             "iteration": 5,
             "learn": [
              0.5376637734
             ],
             "passed_time": 2.385994418,
             "remaining_time": 37.38057922,
             "test": [
              0.5389928926
             ]
            },
            {
             "iteration": 6,
             "learn": [
              0.5168801029
             ],
             "passed_time": 2.790182409,
             "remaining_time": 37.06956629,
             "test": [
              0.5178863572
             ]
            },
            {
             "iteration": 7,
             "learn": [
              0.4986821971
             ],
             "passed_time": 3.156599622,
             "remaining_time": 36.30089566,
             "test": [
              0.4978388434
             ]
            },
            {
             "iteration": 8,
             "learn": [
              0.4785239551
             ],
             "passed_time": 3.623647593,
             "remaining_time": 36.63910344,
             "test": [
              0.4787748133
             ]
            },
            {
             "iteration": 9,
             "learn": [
              0.4605788085
             ],
             "passed_time": 4.013727501,
             "remaining_time": 36.12354751,
             "test": [
              0.4606292938
             ]
            },
            {
             "iteration": 10,
             "learn": [
              0.443836203
             ],
             "passed_time": 4.40670518,
             "remaining_time": 35.654251,
             "test": [
              0.443341575
             ]
            },
            {
             "iteration": 11,
             "learn": [
              0.4280500909
             ],
             "passed_time": 4.871762499,
             "remaining_time": 35.72625833,
             "test": [
              0.4268557093
             ]
            },
            {
             "iteration": 12,
             "learn": [
              0.4121151408
             ],
             "passed_time": 5.344008091,
             "remaining_time": 35.76374646,
             "test": [
              0.4111226478
             ]
            },
            {
             "iteration": 13,
             "learn": [
              0.3967753503
             ],
             "passed_time": 5.715385737,
             "remaining_time": 35.1087981,
             "test": [
              0.3960961563
             ]
            },
            {
             "iteration": 14,
             "learn": [
              0.3823910805
             ],
             "passed_time": 6.14424499,
             "remaining_time": 34.81738828,
             "test": [
              0.381735306
             ]
            },
            {
             "iteration": 15,
             "learn": [
              0.3673302284
             ],
             "passed_time": 6.588881367,
             "remaining_time": 34.59162718,
             "test": [
              0.367999257
             ]
            },
            {
             "iteration": 16,
             "learn": [
              0.3538723168
             ],
             "passed_time": 6.980196125,
             "remaining_time": 34.07978108,
             "test": [
              0.3548542121
             ]
            },
            {
             "iteration": 17,
             "learn": [
              0.3431668689
             ],
             "passed_time": 7.42045916,
             "remaining_time": 33.80431395,
             "test": [
              0.3422666204
             ]
            },
            {
             "iteration": 18,
             "learn": [
              0.3300820616
             ],
             "passed_time": 7.813377695,
             "remaining_time": 33.30966281,
             "test": [
              0.3302063368
             ]
            },
            {
             "iteration": 19,
             "learn": [
              0.3196706985
             ],
             "passed_time": 8.21881698,
             "remaining_time": 32.87526792,
             "test": [
              0.3186443541
             ]
            },
            {
             "iteration": 20,
             "learn": [
              0.3069671369
             ],
             "passed_time": 8.702538082,
             "remaining_time": 32.73811945,
             "test": [
              0.3075559038
             ]
            },
            {
             "iteration": 21,
             "learn": [
              0.2968782528
             ],
             "passed_time": 9.112944699,
             "remaining_time": 32.3095312,
             "test": [
              0.2969155111
             ]
            },
            {
             "iteration": 22,
             "learn": [
              0.2867646744
             ],
             "passed_time": 9.5797257,
             "remaining_time": 32.07125561,
             "test": [
              0.2867004545
             ]
            },
            {
             "iteration": 23,
             "learn": [
              0.2764974737
             ],
             "passed_time": 10.00274641,
             "remaining_time": 31.67536362,
             "test": [
              0.2768894492
             ]
            },
            {
             "iteration": 24,
             "learn": [
              0.2664395154
             ],
             "passed_time": 10.3755223,
             "remaining_time": 31.12656689,
             "test": [
              0.2674621397
             ]
            },
            {
             "iteration": 25,
             "learn": [
              0.2579754883
             ],
             "passed_time": 10.74007912,
             "remaining_time": 30.56791749,
             "test": [
              0.2584004707
             ]
            },
            {
             "iteration": 26,
             "learn": [
              0.2499591547
             ],
             "passed_time": 11.18275069,
             "remaining_time": 30.23484445,
             "test": [
              0.2496877146
             ]
            },
            {
             "iteration": 27,
             "learn": [
              0.2419682392
             ],
             "passed_time": 11.54979271,
             "remaining_time": 29.69946697,
             "test": [
              0.2413065378
             ]
            },
            {
             "iteration": 28,
             "learn": [
              0.2336738503
             ],
             "passed_time": 11.92855303,
             "remaining_time": 29.20438846,
             "test": [
              0.2332420568
             ]
            },
            {
             "iteration": 29,
             "learn": [
              0.2258405866
             ],
             "passed_time": 12.35017181,
             "remaining_time": 28.81706755,
             "test": [
              0.2254791557
             ]
            },
            {
             "iteration": 30,
             "learn": [
              0.2185186163
             ],
             "passed_time": 12.78850271,
             "remaining_time": 28.46473184,
             "test": [
              0.2180055609
             ]
            },
            {
             "iteration": 31,
             "learn": [
              0.210925766
             ],
             "passed_time": 13.26848623,
             "remaining_time": 28.19553324,
             "test": [
              0.2108078967
             ]
            },
            {
             "iteration": 32,
             "learn": [
              0.2033452503
             ],
             "passed_time": 13.71956859,
             "remaining_time": 27.85488168,
             "test": [
              0.2038731225
             ]
            },
            {
             "iteration": 33,
             "learn": [
              0.1964147078
             ],
             "passed_time": 14.13680203,
             "remaining_time": 27.44202747,
             "test": [
              0.1971905056
             ]
            },
            {
             "iteration": 34,
             "learn": [
              0.1911607758
             ],
             "passed_time": 14.58661881,
             "remaining_time": 27.08943493,
             "test": [
              0.190749129
             ]
            },
            {
             "iteration": 35,
             "learn": [
              0.1838925501
             ],
             "passed_time": 14.9720298,
             "remaining_time": 26.61694186,
             "test": [
              0.1845393843
             ]
            },
            {
             "iteration": 36,
             "learn": [
              0.1787488253
             ],
             "passed_time": 15.37777621,
             "remaining_time": 26.18378112,
             "test": [
              0.1785506662
             ]
            },
            {
             "iteration": 37,
             "learn": [
              0.1721807216
             ],
             "passed_time": 15.82938213,
             "remaining_time": 25.82688664,
             "test": [
              0.1727742076
             ]
            },
            {
             "iteration": 38,
             "learn": [
              0.1676606292
             ],
             "passed_time": 16.32581871,
             "remaining_time": 25.53525491,
             "test": [
              0.1672018175
             ]
            },
            {
             "iteration": 39,
             "learn": [
              0.1614164758
             ],
             "passed_time": 16.69812078,
             "remaining_time": 25.04718117,
             "test": [
              0.1618236728
             ]
            },
            {
             "iteration": 40,
             "learn": [
              0.1563210671
             ],
             "passed_time": 17.12096883,
             "remaining_time": 24.63749173,
             "test": [
              0.1566332882
             ]
            },
            {
             "iteration": 41,
             "learn": [
              0.1520095209
             ],
             "passed_time": 17.62546221,
             "remaining_time": 24.339924,
             "test": [
              0.1516232634
             ]
            },
            {
             "iteration": 42,
             "learn": [
              0.1469955667
             ],
             "passed_time": 17.9462185,
             "remaining_time": 23.78917336,
             "test": [
              0.1467852397
             ]
            },
            {
             "iteration": 43,
             "learn": [
              0.1418580664
             ],
             "passed_time": 18.34956045,
             "remaining_time": 23.35398603,
             "test": [
              0.1421142214
             ]
            },
            {
             "iteration": 44,
             "learn": [
              0.1370976777
             ],
             "passed_time": 18.75399276,
             "remaining_time": 22.92154671,
             "test": [
              0.1376019286
             ]
            },
            {
             "iteration": 45,
             "learn": [
              0.1329002586
             ],
             "passed_time": 19.15643288,
             "remaining_time": 22.48798643,
             "test": [
              0.1332430686
             ]
            },
            {
             "iteration": 46,
             "learn": [
              0.1289111025
             ],
             "passed_time": 19.60992644,
             "remaining_time": 22.1133213,
             "test": [
              0.1290320903
             ]
            },
            {
             "iteration": 47,
             "learn": [
              0.1249842487
             ],
             "passed_time": 20.00278043,
             "remaining_time": 21.6696788,
             "test": [
              0.1249623593
             ]
            },
            {
             "iteration": 48,
             "learn": [
              0.121075374
             ],
             "passed_time": 20.44932576,
             "remaining_time": 21.28399212,
             "test": [
              0.1210292816
             ]
            },
            {
             "iteration": 49,
             "learn": [
              0.1171874651
             ],
             "passed_time": 20.8838799,
             "remaining_time": 20.8838799,
             "test": [
              0.1172281538
             ]
            },
            {
             "iteration": 50,
             "learn": [
              0.1133113517
             ],
             "passed_time": 21.24695768,
             "remaining_time": 20.41374365,
             "test": [
              0.1135528301
             ]
            },
            {
             "iteration": 51,
             "learn": [
              0.1097479449
             ],
             "passed_time": 21.68882201,
             "remaining_time": 20.02045109,
             "test": [
              0.1099994086
             ]
            },
            {
             "iteration": 52,
             "learn": [
              0.1069198406
             ],
             "passed_time": 22.05555328,
             "remaining_time": 19.55869819,
             "test": [
              0.10656365
             ]
            },
            {
             "iteration": 53,
             "learn": [
              0.1033978264
             ],
             "passed_time": 22.43873726,
             "remaining_time": 19.11447989,
             "test": [
              0.1032409345
             ]
            },
            {
             "iteration": 54,
             "learn": [
              0.09972294851
             ],
             "passed_time": 22.89721361,
             "remaining_time": 18.73408386,
             "test": [
              0.1000273897
             ]
            },
            {
             "iteration": 55,
             "learn": [
              0.0971304734
             ],
             "passed_time": 23.2924415,
             "remaining_time": 18.30120403,
             "test": [
              0.096919049
             ]
            },
            {
             "iteration": 56,
             "learn": [
              0.09375880999
             ],
             "passed_time": 23.78440618,
             "remaining_time": 17.94262221,
             "test": [
              0.09391244758
             ]
            },
            {
             "iteration": 57,
             "learn": [
              0.09121587584
             ],
             "passed_time": 24.2132405,
             "remaining_time": 17.53372588,
             "test": [
              0.09100303011
             ]
            },
            {
             "iteration": 58,
             "learn": [
              0.08793342077
             ],
             "passed_time": 24.59712665,
             "remaining_time": 17.09291852,
             "test": [
              0.08818792415
             ]
            },
            {
             "iteration": 59,
             "learn": [
              0.08546284461
             ],
             "passed_time": 24.97477947,
             "remaining_time": 16.64985298,
             "test": [
              0.0854636817
             ]
            },
            {
             "iteration": 60,
             "learn": [
              0.08256553114
             ],
             "passed_time": 25.42462615,
             "remaining_time": 16.25508885,
             "test": [
              0.08282755948
             ]
            },
            {
             "iteration": 61,
             "learn": [
              0.0800936853
             ],
             "passed_time": 25.85376463,
             "remaining_time": 15.84585574,
             "test": [
              0.08027590924
             ]
            },
            {
             "iteration": 62,
             "learn": [
              0.07796325087
             ],
             "passed_time": 26.45505469,
             "remaining_time": 15.53709561,
             "test": [
              0.07780640111
             ]
            },
            {
             "iteration": 63,
             "learn": [
              0.07547959669
             ],
             "passed_time": 27.0263259,
             "remaining_time": 15.20230832,
             "test": [
              0.07541577036
             ]
            },
            {
             "iteration": 64,
             "learn": [
              0.07293488577
             ],
             "passed_time": 27.55266191,
             "remaining_time": 14.83604872,
             "test": [
              0.0731021327
             ]
            },
            {
             "iteration": 65,
             "learn": [
              0.0705215048
             ],
             "passed_time": 28.00531586,
             "remaining_time": 14.4269809,
             "test": [
              0.0708617944
             ]
            },
            {
             "iteration": 66,
             "learn": [
              0.06843073317
             ],
             "passed_time": 28.44814979,
             "remaining_time": 14.01177527,
             "test": [
              0.06869260172
             ]
            },
            {
             "iteration": 67,
             "learn": [
              0.06642336403
             ],
             "passed_time": 28.89099337,
             "remaining_time": 13.59576159,
             "test": [
              0.06659169331
             ]
            },
            {
             "iteration": 68,
             "learn": [
              0.06445814961
             ],
             "passed_time": 29.24555647,
             "remaining_time": 13.13930798,
             "test": [
              0.06455716307
             ]
            },
            {
             "iteration": 69,
             "learn": [
              0.06250447275
             ],
             "passed_time": 29.67127201,
             "remaining_time": 12.71625943,
             "test": [
              0.06258697168
             ]
            },
            {
             "iteration": 70,
             "learn": [
              0.06055504099
             ],
             "passed_time": 30.00266242,
             "remaining_time": 12.2546086,
             "test": [
              0.06067875792
             ]
            },
            {
             "iteration": 71,
             "learn": [
              0.0586442319
             ],
             "passed_time": 30.3581688,
             "remaining_time": 11.80595453,
             "test": [
              0.05883034528
             ]
            },
            {
             "iteration": 72,
             "learn": [
              0.05683193751
             ],
             "passed_time": 30.73913157,
             "remaining_time": 11.36926784,
             "test": [
              0.05704020279
             ]
            },
            {
             "iteration": 73,
             "learn": [
              0.05542284402
             ],
             "passed_time": 31.13738663,
             "remaining_time": 10.94016287,
             "test": [
              0.05530580557
             ]
            },
            {
             "iteration": 74,
             "learn": [
              0.05366444968
             ],
             "passed_time": 31.58460191,
             "remaining_time": 10.52820064,
             "test": [
              0.05362582061
             ]
            },
            {
             "iteration": 75,
             "learn": [
              0.05181562423
             ],
             "passed_time": 32.03569036,
             "remaining_time": 10.1165338,
             "test": [
              0.05199848873
             ]
            },
            {
             "iteration": 76,
             "learn": [
              0.05052207827
             ],
             "passed_time": 32.4609551,
             "remaining_time": 9.696129444,
             "test": [
              0.05042173471
             ]
            },
            {
             "iteration": 77,
             "learn": [
              0.04883183052
             ],
             "passed_time": 32.95076033,
             "remaining_time": 9.293804197,
             "test": [
              0.04889384204
             ]
            },
            {
             "iteration": 78,
             "learn": [
              0.04719357543
             ],
             "passed_time": 33.36234083,
             "remaining_time": 8.868470349,
             "test": [
              0.04741366818
             ]
            },
            {
             "iteration": 79,
             "learn": [
              0.04590308693
             ],
             "passed_time": 33.75265382,
             "remaining_time": 8.438163455,
             "test": [
              0.04597918137
             ]
            },
            {
             "iteration": 80,
             "learn": [
              0.04463953734
             ],
             "passed_time": 34.14654211,
             "remaining_time": 8.009682718,
             "test": [
              0.04458941263
             ]
            },
            {
             "iteration": 81,
             "learn": [
              0.04305211438
             ],
             "passed_time": 34.51647179,
             "remaining_time": 7.576786491,
             "test": [
              0.04324224364
             ]
            },
            {
             "iteration": 82,
             "learn": [
              0.04194279396
             ],
             "passed_time": 34.87559473,
             "remaining_time": 7.143194102,
             "test": [
              0.04193676748
             ]
            },
            {
             "iteration": 83,
             "learn": [
              0.04070510079
             ],
             "passed_time": 35.23545818,
             "remaining_time": 6.711515844,
             "test": [
              0.04067143974
             ]
            },
            {
             "iteration": 84,
             "learn": [
              0.03933662077
             ],
             "passed_time": 35.59961405,
             "remaining_time": 6.282284832,
             "test": [
              0.03944581434
             ]
            },
            {
             "iteration": 85,
             "learn": [
              0.03811556694
             ],
             "passed_time": 35.98441106,
             "remaining_time": 5.857927382,
             "test": [
              0.03825718571
             ]
            },
            {
             "iteration": 86,
             "learn": [
              0.03709719044
             ],
             "passed_time": 36.46782148,
             "remaining_time": 5.449214704,
             "test": [
              0.03710529399
             ]
            },
            {
             "iteration": 87,
             "learn": [
              0.03604594207
             ],
             "passed_time": 36.80960327,
             "remaining_time": 5.019491355,
             "test": [
              0.03598879942
             ]
            },
            {
             "iteration": 88,
             "learn": [
              0.03485643451
             ],
             "passed_time": 37.24154856,
             "remaining_time": 4.602888024,
             "test": [
              0.03490663129
             ]
            },
            {
             "iteration": 89,
             "learn": [
              0.03381317608
             ],
             "passed_time": 37.68788499,
             "remaining_time": 4.187542777,
             "test": [
              0.03385732445
             ]
            },
            {
             "iteration": 90,
             "learn": [
              0.03280826178
             ],
             "passed_time": 38.13584196,
             "remaining_time": 3.771676677,
             "test": [
              0.03284022539
             ]
            },
            {
             "iteration": 91,
             "learn": [
              0.03181743133
             ],
             "passed_time": 38.52578029,
             "remaining_time": 3.350067851,
             "test": [
              0.03185396794
             ]
            },
            {
             "iteration": 92,
             "learn": [
              0.03084122848
             ],
             "passed_time": 38.95925798,
             "remaining_time": 2.932417267,
             "test": [
              0.03089851582
             ]
            },
            {
             "iteration": 93,
             "learn": [
              0.0298879036
             ],
             "passed_time": 39.37721149,
             "remaining_time": 2.513439031,
             "test": [
              0.02997167867
             ]
            },
            {
             "iteration": 94,
             "learn": [
              0.02895832728
             ],
             "passed_time": 39.8443943,
             "remaining_time": 2.097073384,
             "test": [
              0.02907339517
             ]
            },
            {
             "iteration": 95,
             "learn": [
              0.02822473873
             ],
             "passed_time": 40.29993741,
             "remaining_time": 1.679164059,
             "test": [
              0.0282021781
             ]
            },
            {
             "iteration": 96,
             "learn": [
              0.0273416462
             ],
             "passed_time": 40.75211555,
             "remaining_time": 1.260374708,
             "test": [
              0.02735758317
             ]
            },
            {
             "iteration": 97,
             "learn": [
              0.02641608005
             ],
             "passed_time": 41.17449025,
             "remaining_time": 0.8402957195,
             "test": [
              0.02653866287
             ]
            },
            {
             "iteration": 98,
             "learn": [
              0.02576426677
             ],
             "passed_time": 41.60729872,
             "remaining_time": 0.4202757446,
             "test": [
              0.02574447661
             ]
            },
            {
             "iteration": 99,
             "learn": [
              0.02490981896
             ],
             "passed_time": 41.97921156,
             "remaining_time": 0,
             "test": [
              0.02497403789
             ]
            }
           ],
           "meta": {
            "iteration_count": 100,
            "launch_mode": "Train",
            "learn_metrics": [
             {
              "best_value": "Min",
              "name": "CrossEntropy"
             }
            ],
            "learn_sets": [
             "learn"
            ],
            "name": "experiment",
            "parameters": "",
            "test_metrics": [
             {
              "best_value": "Min",
              "name": "CrossEntropy"
             }
            ],
            "test_sets": [
             "test"
            ]
           }
          },
          "passed_iterations": 99,
          "total_iterations": 100
         },
         "name": "catboost_info",
         "path": "catboost_info"
        }
       },
       "layout": "IPY_MODEL_af6b350c303144f49bd8a29d10f7db13"
      }
     },
     "f90817f46ffe49229c99458d5479e7cd": {
      "model_module": "catboost-widget",
      "model_module_version": "^1.0.0",
      "model_name": "CatboostWidgetModel",
      "state": {
       "_dom_classes": [],
       "_model_module": "catboost-widget",
       "_model_module_version": "^1.0.0",
       "_model_name": "CatboostWidgetModel",
       "_view_count": null,
       "_view_module": "catboost-widget",
       "_view_module_version": "^1.0.0",
       "_view_name": "CatboostWidgetView",
       "data": {
        "catboost_info": {
         "content": {
          "data": {
           "iterations": [
            {
             "iteration": 0,
             "learn": [
              0.6613811373
             ],
             "passed_time": 0.4045141166,
             "remaining_time": 40.04689754,
             "test": [
              0.663601233
             ]
            },
            {
             "iteration": 1,
             "learn": [
              0.6363024068
             ],
             "passed_time": 0.8095424454,
             "remaining_time": 39.66757982,
             "test": [
              0.6357754705
             ]
            },
            {
             "iteration": 2,
             "learn": [
              0.6093828856
             ],
             "passed_time": 1.193283681,
             "remaining_time": 38.58283902,
             "test": [
              0.6095244385
             ]
            },
            {
             "iteration": 3,
             "learn": [
              0.5837231422
             ],
             "passed_time": 1.591240851,
             "remaining_time": 38.18978043,
             "test": [
              0.5847194836
             ]
            },
            {
             "iteration": 4,
             "learn": [
              0.5622008087
             ],
             "passed_time": 1.982009627,
             "remaining_time": 37.65818292,
             "test": [
              0.5612452278
             ]
            },
            {
             "iteration": 5,
             "learn": [
              0.5377068758
             ],
             "passed_time": 2.382586856,
             "remaining_time": 37.32719407,
             "test": [
              0.5390024379
             ]
            },
            {
             "iteration": 6,
             "learn": [
              0.5168975272
             ],
             "passed_time": 2.845802721,
             "remaining_time": 37.80852187,
             "test": [
              0.5178975561
             ]
            },
            {
             "iteration": 7,
             "learn": [
              0.498701569
             ],
             "passed_time": 3.212305783,
             "remaining_time": 36.9415165,
             "test": [
              0.4978521455
             ]
            },
            {
             "iteration": 8,
             "learn": [
              0.4785431589
             ],
             "passed_time": 3.673272066,
             "remaining_time": 37.140862,
             "test": [
              0.4787890801
             ]
            },
            {
             "iteration": 9,
             "learn": [
              0.4606049414
             ],
             "passed_time": 4.05948504,
             "remaining_time": 36.53536536,
             "test": [
              0.4606445918
             ]
            },
            {
             "iteration": 10,
             "learn": [
              0.4438961284
             ],
             "passed_time": 4.451683387,
             "remaining_time": 36.01816559,
             "test": [
              0.4433571443
             ]
            },
            {
             "iteration": 11,
             "learn": [
              0.4280735294
             ],
             "passed_time": 4.876275813,
             "remaining_time": 35.75935596,
             "test": [
              0.4268723025
             ]
            },
            {
             "iteration": 12,
             "learn": [
              0.4121583952
             ],
             "passed_time": 5.340557173,
             "remaining_time": 35.74065185,
             "test": [
              0.4111405408
             ]
            },
            {
             "iteration": 13,
             "learn": [
              0.3968028899
             ],
             "passed_time": 5.711692209,
             "remaining_time": 35.08610928,
             "test": [
              0.3961149237
             ]
            },
            {
             "iteration": 14,
             "learn": [
              0.3824211604
             ],
             "passed_time": 6.142466352,
             "remaining_time": 34.80730933,
             "test": [
              0.3817528264
             ]
            },
            {
             "iteration": 15,
             "learn": [
              0.3673620141
             ],
             "passed_time": 6.584576666,
             "remaining_time": 34.5690275,
             "test": [
              0.3680183097
             ]
            },
            {
             "iteration": 16,
             "learn": [
              0.3539082334
             ],
             "passed_time": 6.977578211,
             "remaining_time": 34.0669995,
             "test": [
              0.3548734226
             ]
            },
            {
             "iteration": 17,
             "learn": [
              0.3432035584
             ],
             "passed_time": 7.409639572,
             "remaining_time": 33.75502472,
             "test": [
              0.3422866639
             ]
            },
            {
             "iteration": 18,
             "learn": [
              0.3301202537
             ],
             "passed_time": 7.800082257,
             "remaining_time": 33.25298226,
             "test": [
              0.3302299548
             ]
            },
            {
             "iteration": 19,
             "learn": [
              0.3197074098
             ],
             "passed_time": 8.202577332,
             "remaining_time": 32.81030933,
             "test": [
              0.3186684852
             ]
            },
            {
             "iteration": 20,
             "learn": [
              0.3070195054
             ],
             "passed_time": 8.673828485,
             "remaining_time": 32.63011668,
             "test": [
              0.3075807238
             ]
            },
            {
             "iteration": 21,
             "learn": [
              0.2969187976
             ],
             "passed_time": 9.082321121,
             "remaining_time": 32.2009567,
             "test": [
              0.2969401722
             ]
            },
            {
             "iteration": 22,
             "learn": [
              0.2868093901
             ],
             "passed_time": 9.542579654,
             "remaining_time": 31.9468971,
             "test": [
              0.2867260537
             ]
            },
            {
             "iteration": 23,
             "learn": [
              0.2765457097
             ],
             "passed_time": 9.961264763,
             "remaining_time": 31.54400508,
             "test": [
              0.2769159942
             ]
            },
            {
             "iteration": 24,
             "learn": [
              0.2665044013
             ],
             "passed_time": 10.32929441,
             "remaining_time": 30.98788323,
             "test": [
              0.2674889017
             ]
            },
            {
             "iteration": 25,
             "learn": [
              0.2580228929
             ],
             "passed_time": 10.69858302,
             "remaining_time": 30.44981321,
             "test": [
              0.2584274387
             ]
            },
            {
             "iteration": 26,
             "learn": [
              0.2500069126
             ],
             "passed_time": 11.1424837,
             "remaining_time": 30.12597446,
             "test": [
              0.2497155164
             ]
            },
            {
             "iteration": 27,
             "learn": [
              0.2420179932
             ],
             "passed_time": 11.51188823,
             "remaining_time": 29.6019983,
             "test": [
              0.2413351226
             ]
            },
            {
             "iteration": 28,
             "learn": [
              0.2337304107
             ],
             "passed_time": 11.89199417,
             "remaining_time": 29.11488227,
             "test": [
              0.2332707639
             ]
            },
            {
             "iteration": 29,
             "learn": [
              0.2259005429
             ],
             "passed_time": 12.31443015,
             "remaining_time": 28.73367036,
             "test": [
              0.22550822
             ]
            },
            {
             "iteration": 30,
             "learn": [
              0.2185723056
             ],
             "passed_time": 12.76542395,
             "remaining_time": 28.41336299,
             "test": [
              0.2180348201
             ]
            },
            {
             "iteration": 31,
             "learn": [
              0.210981271
             ],
             "passed_time": 13.24535414,
             "remaining_time": 28.14637754,
             "test": [
              0.2108373157
             ]
            },
            {
             "iteration": 32,
             "learn": [
              0.2034033004
             ],
             "passed_time": 13.70419714,
             "remaining_time": 27.82367298,
             "test": [
              0.2039028532
             ]
            },
            {
             "iteration": 33,
             "learn": [
              0.1965122205
             ],
             "passed_time": 14.16019196,
             "remaining_time": 27.48743146,
             "test": [
              0.1972204686
             ]
            },
            {
             "iteration": 34,
             "learn": [
              0.191237693
             ],
             "passed_time": 14.60343469,
             "remaining_time": 27.12066443,
             "test": [
              0.1907798093
             ]
            },
            {
             "iteration": 35,
             "learn": [
              0.1839766257
             ],
             "passed_time": 14.99217603,
             "remaining_time": 26.65275738,
             "test": [
              0.1845709369
             ]
            },
            {
             "iteration": 36,
             "learn": [
              0.1788295386
             ],
             "passed_time": 15.39603282,
             "remaining_time": 26.2148667,
             "test": [
              0.1785846059
             ]
            },
            {
             "iteration": 37,
             "learn": [
              0.1722517282
             ],
             "passed_time": 15.79444727,
             "remaining_time": 25.76988765,
             "test": [
              0.172808746
             ]
            },
            {
             "iteration": 38,
             "learn": [
              0.1677270975
             ],
             "passed_time": 16.28979598,
             "remaining_time": 25.47891166,
             "test": [
              0.1672359575
             ]
            },
            {
             "iteration": 39,
             "learn": [
              0.1614877698
             ],
             "passed_time": 16.66358462,
             "remaining_time": 24.99537693,
             "test": [
              0.1618582013
             ]
            },
            {
             "iteration": 40,
             "learn": [
              0.1563890451
             ],
             "passed_time": 17.09115637,
             "remaining_time": 24.59459087,
             "test": [
              0.1566679389
             ]
            },
            {
             "iteration": 41,
             "learn": [
              0.1520765945
             ],
             "passed_time": 17.59421837,
             "remaining_time": 24.29677775,
             "test": [
              0.1516579531
             ]
            },
            {
             "iteration": 42,
             "learn": [
              0.1470697594
             ],
             "passed_time": 17.91976601,
             "remaining_time": 23.75410843,
             "test": [
              0.1468204885
             ]
            },
            {
             "iteration": 43,
             "learn": [
              0.141937108
             ],
             "passed_time": 18.32302904,
             "remaining_time": 23.32021877,
             "test": [
              0.1421487211
             ]
            },
            {
             "iteration": 44,
             "learn": [
              0.1371757263
             ],
             "passed_time": 18.71504904,
             "remaining_time": 22.87394883,
             "test": [
              0.1376364972
             ]
            },
            {
             "iteration": 45,
             "learn": [
              0.1329762005
             ],
             "passed_time": 19.11624441,
             "remaining_time": 22.44080865,
             "test": [
              0.133277513
             ]
            },
            {
             "iteration": 46,
             "learn": [
              0.1289853287
             ],
             "passed_time": 19.57165617,
             "remaining_time": 22.07016547,
             "test": [
              0.1290665519
             ]
            },
            {
             "iteration": 47,
             "learn": [
              0.1250612046
             ],
             "passed_time": 19.96466049,
             "remaining_time": 21.6283822,
             "test": [
              0.1249967909
             ]
            },
            {
             "iteration": 48,
             "learn": [
              0.1211517905
             ],
             "passed_time": 20.4139373,
             "remaining_time": 21.24715923,
             "test": [
              0.1210637636
             ]
            },
            {
             "iteration": 49,
             "learn": [
              0.1172664931
             ],
             "passed_time": 20.85189114,
             "remaining_time": 20.85189114,
             "test": [
              0.1172627067
             ]
            },
            {
             "iteration": 50,
             "learn": [
              0.113393816
             ],
             "passed_time": 21.21336864,
             "remaining_time": 20.38147183,
             "test": [
              0.113587232
             ]
            },
            {
             "iteration": 51,
             "learn": [
              0.1098287232
             ],
             "passed_time": 21.65455026,
             "remaining_time": 19.98881563,
             "test": [
              0.1100355968
             ]
            },
            {
             "iteration": 52,
             "learn": [
              0.1070011293
             ],
             "passed_time": 22.01398264,
             "remaining_time": 19.52183366,
             "test": [
              0.1065993829
             ]
            },
            {
             "iteration": 53,
             "learn": [
              0.1034832693
             ],
             "passed_time": 22.39777682,
             "remaining_time": 19.07958766,
             "test": [
              0.1032776609
             ]
            },
            {
             "iteration": 54,
             "learn": [
              0.0998098022
             ],
             "passed_time": 22.8685154,
             "remaining_time": 18.71060351,
             "test": [
              0.1000641565
             ]
            },
            {
             "iteration": 55,
             "learn": [
              0.09721579888
             ],
             "passed_time": 23.2655556,
             "remaining_time": 18.2800794,
             "test": [
              0.09695592341
             ]
            },
            {
             "iteration": 56,
             "learn": [
              0.09384704124
             ],
             "passed_time": 23.76355555,
             "remaining_time": 17.92689278,
             "test": [
              0.09394932538
             ]
            },
            {
             "iteration": 57,
             "learn": [
              0.0913038751
             ],
             "passed_time": 24.19440432,
             "remaining_time": 17.52008589,
             "test": [
              0.09103947616
             ]
            },
            {
             "iteration": 58,
             "learn": [
              0.08803109586
             ],
             "passed_time": 24.58291569,
             "remaining_time": 17.08304311,
             "test": [
              0.0882243067
             ]
            },
            {
             "iteration": 59,
             "learn": [
              0.08556697894
             ],
             "passed_time": 25.00795487,
             "remaining_time": 16.67196991,
             "test": [
              0.08549996074
             ]
            },
            {
             "iteration": 60,
             "learn": [
              0.08267505031
             ],
             "passed_time": 25.487616,
             "remaining_time": 16.29536105,
             "test": [
              0.08286371394
             ]
            },
            {
             "iteration": 61,
             "learn": [
              0.08019003211
             ],
             "passed_time": 26.10060588,
             "remaining_time": 15.99714554,
             "test": [
              0.08031207478
             ]
            },
            {
             "iteration": 62,
             "learn": [
              0.07805704612
             ],
             "passed_time": 26.6851586,
             "remaining_time": 15.672236,
             "test": [
              0.07784327718
             ]
            },
            {
             "iteration": 63,
             "learn": [
              0.07558802424
             ],
             "passed_time": 27.1331062,
             "remaining_time": 15.26237224,
             "test": [
              0.07545258149
             ]
            },
            {
             "iteration": 64,
             "learn": [
              0.07305890832
             ],
             "passed_time": 27.53770884,
             "remaining_time": 14.82799707,
             "test": [
              0.07313896091
             ]
            },
            {
             "iteration": 65,
             "learn": [
              0.07071703555
             ],
             "passed_time": 27.99166008,
             "remaining_time": 14.4199461,
             "test": [
              0.07089826945
             ]
            },
            {
             "iteration": 66,
             "learn": [
              0.06857934006
             ],
             "passed_time": 28.4114349,
             "remaining_time": 13.99369182,
             "test": [
              0.06872838966
             ]
            },
            {
             "iteration": 67,
             "learn": [
              0.06652817661
             ],
             "passed_time": 28.85640429,
             "remaining_time": 13.57948437,
             "test": [
              0.06662746613
             ]
            },
            {
             "iteration": 68,
             "learn": [
              0.0645590242
             ],
             "passed_time": 29.21238449,
             "remaining_time": 13.12440463,
             "test": [
              0.06459306055
             ]
            },
            {
             "iteration": 69,
             "learn": [
              0.06260582525
             ],
             "passed_time": 29.62879949,
             "remaining_time": 12.69805693,
             "test": [
              0.06262281951
             ]
            },
            {
             "iteration": 70,
             "learn": [
              0.06065841074
             ],
             "passed_time": 29.9450653,
             "remaining_time": 12.23108301,
             "test": [
              0.06071397318
             ]
            },
            {
             "iteration": 71,
             "learn": [
              0.05875087892
             ],
             "passed_time": 30.30035629,
             "remaining_time": 11.78347189,
             "test": [
              0.0588652866
             ]
            },
            {
             "iteration": 72,
             "learn": [
              0.05694612493
             ],
             "passed_time": 30.68306586,
             "remaining_time": 11.34853121,
             "test": [
              0.05707505332
             ]
            },
            {
             "iteration": 73,
             "learn": [
              0.05552675224
             ],
             "passed_time": 31.08920376,
             "remaining_time": 10.92323375,
             "test": [
              0.05534073927
             ]
            },
            {
             "iteration": 74,
             "learn": [
              0.05377251248
             ],
             "passed_time": 31.53871602,
             "remaining_time": 10.51290534,
             "test": [
              0.05366103794
             ]
            },
            {
             "iteration": 75,
             "learn": [
              0.05192877392
             ],
             "passed_time": 31.98953587,
             "remaining_time": 10.1019587,
             "test": [
              0.05203386115
             ]
            },
            {
             "iteration": 76,
             "learn": [
              0.05063145928
             ],
             "passed_time": 32.40406179,
             "remaining_time": 9.679135339,
             "test": [
              0.05045698082
             ]
            },
            {
             "iteration": 77,
             "learn": [
              0.04893751924
             ],
             "passed_time": 32.91062801,
             "remaining_time": 9.282484824,
             "test": [
              0.04892925302
             ]
            },
            {
             "iteration": 78,
             "learn": [
              0.04748587794
             ],
             "passed_time": 33.31688527,
             "remaining_time": 8.856387223,
             "test": [
              0.04744819956
             ]
            },
            {
             "iteration": 79,
             "learn": [
              0.04600944418
             ],
             "passed_time": 33.7012629,
             "remaining_time": 8.425315726,
             "test": [
              0.04601310392
             ]
            },
            {
             "iteration": 80,
             "learn": [
              0.04475471895
             ],
             "passed_time": 34.09537055,
             "remaining_time": 7.997679513,
             "test": [
              0.04462318423
             ]
            },
            {
             "iteration": 81,
             "learn": [
              0.04318730709
             ],
             "passed_time": 34.47635227,
             "remaining_time": 7.567979767,
             "test": [
              0.04327592555
             ]
            },
            {
             "iteration": 82,
             "learn": [
              0.04207263189
             ],
             "passed_time": 34.84162152,
             "remaining_time": 7.136235733,
             "test": [
              0.04197017754
             ]
            },
            {
             "iteration": 83,
             "learn": [
              0.04082183316
             ],
             "passed_time": 35.20093244,
             "remaining_time": 6.704939512,
             "test": [
              0.04070492051
             ]
            },
            {
             "iteration": 84,
             "learn": [
              0.03945838508
             ],
             "passed_time": 35.56801393,
             "remaining_time": 6.27670834,
             "test": [
              0.03947855161
             ]
            },
            {
             "iteration": 85,
             "learn": [
              0.03824917842
             ],
             "passed_time": 35.99924712,
             "remaining_time": 5.860342554,
             "test": [
              0.03828991526
             ]
            },
            {
             "iteration": 86,
             "learn": [
              0.03721471385
             ],
             "passed_time": 36.47415654,
             "remaining_time": 5.450161322,
             "test": [
              0.03713798855
             ]
            },
            {
             "iteration": 87,
             "learn": [
              0.0361634721
             ],
             "passed_time": 36.81848649,
             "remaining_time": 5.020702703,
             "test": [
              0.03602172452
             ]
            },
            {
             "iteration": 88,
             "learn": [
              0.03499414983
             ],
             "passed_time": 37.25278235,
             "remaining_time": 4.60427647,
             "test": [
              0.03493966841
             ]
            },
            {
             "iteration": 89,
             "learn": [
              0.03395353883
             ],
             "passed_time": 37.62350437,
             "remaining_time": 4.180389374,
             "test": [
              0.0338899202
             ]
            },
            {
             "iteration": 90,
             "learn": [
              0.03293836603
             ],
             "passed_time": 38.06426814,
             "remaining_time": 3.764597948,
             "test": [
              0.0328734548
             ]
            },
            {
             "iteration": 91,
             "learn": [
              0.03194640213
             ],
             "passed_time": 38.42988576,
             "remaining_time": 3.341729197,
             "test": [
              0.03188691037
             ]
            },
            {
             "iteration": 92,
             "learn": [
              0.0309693879
             ],
             "passed_time": 38.86237494,
             "remaining_time": 2.925124995,
             "test": [
              0.03093205524
             ]
            },
            {
             "iteration": 93,
             "learn": [
              0.03003849736
             ],
             "passed_time": 39.28154305,
             "remaining_time": 2.507332535,
             "test": [
              0.03000522557
             ]
            },
            {
             "iteration": 94,
             "learn": [
              0.02914923987
             ],
             "passed_time": 39.74657381,
             "remaining_time": 2.091924938,
             "test": [
              0.02910663617
             ]
            },
            {
             "iteration": 95,
             "learn": [
              0.02835404751
             ],
             "passed_time": 40.10367287,
             "remaining_time": 1.67098637,
             "test": [
              0.02823471783
             ]
            },
            {
             "iteration": 96,
             "learn": [
              0.02746084242
             ],
             "passed_time": 40.51920373,
             "remaining_time": 1.253171249,
             "test": [
              0.02738929038
             ]
            },
            {
             "iteration": 97,
             "learn": [
              0.02657718664
             ],
             "passed_time": 40.94480171,
             "remaining_time": 0.8356081983,
             "test": [
              0.02657060465
             ]
            },
            {
             "iteration": 98,
             "learn": [
              0.02589711418
             ],
             "passed_time": 41.37626994,
             "remaining_time": 0.4179421206,
             "test": [
              0.02577683165
             ]
            },
            {
             "iteration": 99,
             "learn": [
              0.02503635889
             ],
             "passed_time": 41.79738712,
             "remaining_time": 0,
             "test": [
              0.02500622148
             ]
            }
           ],
           "meta": {
            "iteration_count": 100,
            "launch_mode": "Train",
            "learn_metrics": [
             {
              "best_value": "Min",
              "name": "CrossEntropy"
             }
            ],
            "learn_sets": [
             "learn"
            ],
            "name": "experiment",
            "parameters": "",
            "test_metrics": [
             {
              "best_value": "Min",
              "name": "CrossEntropy"
             }
            ],
            "test_sets": [
             "test"
            ]
           }
          },
          "passed_iterations": 99,
          "total_iterations": 100
         },
         "name": "catboost_info",
         "path": "catboost_info"
        }
       },
       "layout": "IPY_MODEL_2f0c1abf95fc49efb115ecbf3bbbace5"
      }
     }
    },
    "version_major": 2,
    "version_minor": 0
   }
  }
 },
 "nbformat": 4,
 "nbformat_minor": 5
}
