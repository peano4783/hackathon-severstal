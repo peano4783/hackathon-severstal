{
 "cells": [
  {
   "cell_type": "code",
   "execution_count": 1,
   "id": "97d43533",
   "metadata": {
    "execution": {
     "iopub.execute_input": "2023-05-28T20:45:24.222167Z",
     "iopub.status.busy": "2023-05-28T20:45:24.221773Z",
     "iopub.status.idle": "2023-05-28T20:45:24.283523Z",
     "shell.execute_reply": "2023-05-28T20:45:24.282431Z"
    },
    "papermill": {
     "duration": 0.070798,
     "end_time": "2023-05-28T20:45:24.287151",
     "exception": false,
     "start_time": "2023-05-28T20:45:24.216353",
     "status": "completed"
    },
    "tags": []
   },
   "outputs": [
    {
     "name": "stdout",
     "output_type": "stream",
     "text": [
      "/kaggle/input/x-test-northsteel/ВИБРАЦИЯ НА ОПОРЕ 4. ПРОДОЛЬНАЯ.csv\n",
      "/kaggle/input/x-test-northsteel/ВИБРАЦИЯ НА ОПОРЕ 4.csv\n",
      "/kaggle/input/x-test-northsteel/ЭКСГАУСТЕР 9.csv\n",
      "/kaggle/input/x-test-northsteel/ЭКСГАУСТЕР 4.csv\n",
      "/kaggle/input/x-test-northsteel/ЭКСГАУСТЕР 7.csv\n",
      "/kaggle/input/x-test-northsteel/ВИБРАЦИЯ НА ОПОРЕ 3.csv\n",
      "/kaggle/input/x-test-northsteel/ВИБРАЦИЯ НА ОПОРЕ 2.csv\n",
      "/kaggle/input/x-test-northsteel/ТОК СТАТОРА.csv\n",
      "/kaggle/input/x-test-northsteel/ДАВЛЕНИЕ МАСЛА В СИСТЕМЕ.csv\n",
      "/kaggle/input/x-test-northsteel/ВИБРАЦИЯ НА ОПОРЕ 1.csv\n",
      "/kaggle/input/x-test-northsteel/ТЕМПЕРАТУРА ПОДШИПНИКА НА ОПОРЕ 3.csv\n",
      "/kaggle/input/x-test-northsteel/ТЕМПЕРАТУРА ПОДШИПНИКА НА ОПОРЕ 1.csv\n",
      "/kaggle/input/x-test-northsteel/ЭКСГАУСТЕР 6.csv\n",
      "/kaggle/input/x-test-northsteel/ТОК РОТОРА 2.csv\n",
      "/kaggle/input/x-test-northsteel/ТЕМПЕРАТУРА ПОДШИПНИКА НА ОПОРЕ 2.csv\n",
      "/kaggle/input/x-test-northsteel/ТЕМПЕРАТУРА ПОДШИПНИКА НА ОПОРЕ 4.csv\n",
      "/kaggle/input/x-test-northsteel/ЭКСГАУСТЕР 5.csv\n",
      "/kaggle/input/x-test-northsteel/ТОК РОТОРА 1.csv\n",
      "/kaggle/input/x-test-northsteel/ЭКСГАУСТЕР 8.csv\n",
      "/kaggle/input/x-test-northsteel/ВИБРАЦИЯ НА ОПОРЕ 3. ПРОДОЛЬНАЯ.csv\n",
      "/kaggle/input/x-test-northsteel/ТЕМПЕРАТУРА МАСЛА В МАСЛОБЛОКЕ.csv\n",
      "/kaggle/input/x-test-northsteel/ТЕМПЕРАТУРА МАСЛА В СИСТЕМЕ.csv\n",
      "/kaggle/input/y-train-northsteel/y_long_МАСЛООХЛАДИТЕЛЬ  М-05-1 ЭКСГ.d.csv\n",
      "/kaggle/input/y-train-northsteel/y_long_КЛ2 ТР№8 ДО ЭД ЭКСГАУСТЕРА №d.csv\n",
      "/kaggle/input/y-train-northsteel/y_long_САПФИР 22 МДД РАЗРЕЖЕНИЕ В КОЛЛЕКТОРЕ.csv\n",
      "/kaggle/input/y-train-northsteel/y_long_ВК 310С ВИБРОПРЕОБРАЗОВАТЕЛЬ ЭКСГ.d Т.2.csv\n",
      "/kaggle/input/y-train-northsteel/y_long_ЗАП. И РЕГ. АРМАТУРА ЭКСГ.d.csv\n",
      "/kaggle/input/y-train-northsteel/y_long_ЭКСГАУСТЕР Н-8000 АМ №5.csv\n",
      "/kaggle/input/y-train-northsteel/y_long_ЭЛЕКТРОДВИГАТЕЛЬ ДСПУ-140-84-4 ЭКСГ.d.csv\n",
      "/kaggle/input/y-train-northsteel/y_long_РЕДУКТОР ГАЗ. ЗАДВИЖКИ ЭКСГ.d.csv\n",
      "/kaggle/input/y-train-northsteel/y_long_КЛ1 ТР№4 ДО ЭД ЭКСГАУСТЕРА №d.csv\n",
      "/kaggle/input/y-train-northsteel/y_long_ТСМТ-101-010-50М-200 ТЕРМОПР.ПОДШ.Т.3.csv\n",
      "/kaggle/input/y-train-northsteel/y_long_ЭЛЕКТРООБОРУДОВАНИЯ ЭКСГАУСТЕРА №d.csv\n",
      "/kaggle/input/y-train-northsteel/y_long_МАСЛЯНЫЙ ФИЛЬТР ЭКСГАУСТЕРА №d.csv\n",
      "/kaggle/input/y-train-northsteel/y_long_УЛИТА ЭКСГ.d.csv\n",
      "/kaggle/input/y-train-northsteel/y_long_РЕГУЛИРУЮЩАЯ АППАРАТУРА ЭКСГАУСТЕРА №d.csv\n",
      "/kaggle/input/y-train-northsteel/y_long_ПОДШИПНИК ОПОРНЫЙ ЭКСГ.d.csv\n",
      "/kaggle/input/y-train-northsteel/y_long_ТСМТ-101-010-50М-200 ТЕРМОПР.ПОДШ.Т.4.csv\n",
      "/kaggle/input/y-train-northsteel/y_long_КЛ1 ТР№6 ДО ЭД ЭКСГАУСТЕРА №d.csv\n",
      "/kaggle/input/y-train-northsteel/y_long_ГАЗОВАЯ ЗАДВИЖКА ЭКСГ.d.csv\n",
      "/kaggle/input/y-train-northsteel/y_long_ГСМ ЭКСГ.d.csv\n",
      "/kaggle/input/y-train-northsteel/y_long_ВК 310С ВИБРОПРЕОБРАЗОВАТЕЛЬ ЭКСГ.d Т.3.csv\n",
      "/kaggle/input/y-train-northsteel/y_long_ТСМТ-101-010-50М-80 ТЕРМОПРЕОБР.МАСЛО.csv\n",
      "/kaggle/input/y-train-northsteel/y_long_КЛ2 ТР№6 ДО ЭД ЭКСГАУСТЕРА №d.csv\n",
      "/kaggle/input/y-train-northsteel/y_long_ТИРИСТОРНЫЙ ВОЗБУДИТЕЛЬ ТВ-400 ЭКСГ.d ВУ1.csv\n",
      "/kaggle/input/y-train-northsteel/y_long_КЛ1 ТР№5 ДО ЭД ЭКСГАУСТЕРА №d.csv\n",
      "/kaggle/input/y-train-northsteel/y_long_ДВИГАТЕЛЬ РЕЗЕРВНОГО МАСЛОНАСОСА ЭКСГ.d.csv\n",
      "/kaggle/input/y-train-northsteel/y_long_КЛ1 ТР№8 ДО ЭД ЭКСГАУСТЕРА №d.csv\n",
      "/kaggle/input/y-train-northsteel/y_long_МЕТРАН-100 ДАТЧИКИ ДАВЛЕНИЯ ЭКСГ.d.csv\n",
      "/kaggle/input/y-train-northsteel/y_long_ЗАДВИЖКА ЭКСГ.d.csv\n",
      "/kaggle/input/y-train-northsteel/y_long_КЛ2 ТР№5 ДО ЭД ЭКСГАУСТЕРА №d.csv\n",
      "/kaggle/input/y-train-northsteel/y_long_САПФИР 22 МДД ПЕРЕПАД ДАВЛ. НА ЦИКЛОНЕ.csv\n",
      "/kaggle/input/y-train-northsteel/y_long_ПОДШИПНИК ОПОРНЫЙ №2 ЭКСГ.d.csv\n",
      "/kaggle/input/y-train-northsteel/y_long_МАСЛОНАСОС ШЕСТЕРЕНЧАТЫЙ (РЕЗ.) ЭКСГ.d.csv\n",
      "/kaggle/input/y-train-northsteel/y_long_ПОДШИПНИК ОПОРНО-УПОРНЫЙ ЭКСГ.d.csv\n",
      "/kaggle/input/y-train-northsteel/y_long_ЗАПОРНАЯ АРМАТУРА ЭКСГАУСТЕРА №d.csv\n",
      "/kaggle/input/y-train-northsteel/y_long_КОРПУС ЭКСГ.d.csv\n",
      "/kaggle/input/y-train-northsteel/y_long_ВК 310С ВИБРОПРЕОБРАЗОВАТЕЛЬ ЭКСГ.d Т.4.csv\n",
      "/kaggle/input/y-train-northsteel/y_long_ТИРИСТОРНЫЙ ВОЗБУДИТЕЛЬ СПВД-М10-400-5.csv\n",
      "/kaggle/input/y-train-northsteel/y_long_КЛ1 ТР№9 ДО ЭД ЭКСГАУСТЕРА №d.csv\n",
      "/kaggle/input/y-train-northsteel/y_long_ЭЛДВИГАТЕЛЬ ГАЗ. ЗАДВИЖКИ ЭКСГ.d.csv\n",
      "/kaggle/input/y-train-northsteel/y_long_ДВИГАТЕЛЬ ПУСКОВОГО МАСЛОНАСОСА ЭКСГ.d.csv\n",
      "/kaggle/input/y-train-northsteel/y_long_ТИРИСТ. ВОЗБУДИТЕЛЬ ВТ-РЭМ-400 ЭКСГ.d ВУ1.csv\n",
      "/kaggle/input/y-train-northsteel/y_long_ЭКСГАУСТЕР №d.csv\n",
      "/kaggle/input/y-train-northsteel/y_long_ТР-Р ТМ-4000-106 ЭКСГ.d.csv\n",
      "/kaggle/input/y-train-northsteel/y_long_МАСЛОНАСОС РАБОЧИЙ ЭКСГ.d.csv\n",
      "/kaggle/input/y-train-northsteel/y_long_КЛ1 ТР№7 ДО ЭД ЭКСГАУСТЕРА №d.csv\n",
      "/kaggle/input/y-train-northsteel/y_long_МАСЛОБАК ЭКСГ.d.csv\n",
      "/kaggle/input/y-train-northsteel/y_long_ТИРИСТ. ВОЗБУДИТЕЛЬ ВТ-РЭМ-400 ЭКСГ.d ВУ2.csv\n",
      "/kaggle/input/y-train-northsteel/y_long_ТР-Р ТМ-6300-106 ЭКСГ.d.csv\n",
      "/kaggle/input/y-train-northsteel/y_long_МАСЛОСТАНЦИЯ ЖИДКОЙ СМАЗКИ ЭКСГ.d.csv\n",
      "/kaggle/input/y-train-northsteel/y_long_КОЖУХ МУФТЫ ЭКСГ.d.csv\n",
      "/kaggle/input/y-train-northsteel/y_long_ПОДШИПНИК ОПОРНЫЙ №1 ЭКСГ.d.csv\n",
      "/kaggle/input/y-train-northsteel/y_long_РОТОР ЭКСГ.d.csv\n",
      "/kaggle/input/y-train-northsteel/dict_long.csv\n",
      "/kaggle/input/y-train-northsteel/y_long_ТСМТ-101-010-50М-400 ТЕРМОПР.ПОДШ.Т.1.csv\n",
      "/kaggle/input/y-train-northsteel/y_long_МАСЛОПРОВОДЫ ЭКСГАУСТЕРА №d.csv\n",
      "/kaggle/input/y-train-northsteel/y_long_МАСЛОНАСОС ШЕСТЕРЕНЧАТЫЙ (ПУСК.) ЭКСГ.d.csv\n",
      "/kaggle/input/y-train-northsteel/y_long_КЛ2 ТР№4 ДО ЭД ЭКСГАУСТЕРА №d.csv\n",
      "/kaggle/input/y-train-northsteel/y_long_ВК 310С ВИБРОПРЕОБРАЗОВАТЕЛЬ ЭКСГ.d Т.1.csv\n",
      "/kaggle/input/y-train-northsteel/y_long_ТСМТ-101-010-50М-400 ТЕРМОПР.ПОДШ.Т.2.csv\n",
      "/kaggle/input/y-train-northsteel-instances/y_ЭКСГАУСТЕР АМ 6.csv\n",
      "/kaggle/input/y-train-northsteel-instances/y_ЭКСГАУСТЕР АМ 7.csv\n",
      "/kaggle/input/y-train-northsteel-instances/y_ЭКСГАУСТЕР АМ 5.csv\n",
      "/kaggle/input/y-train-northsteel-instances/y_ЭКСГАУСТЕР АМ 8.csv\n",
      "/kaggle/input/y-train-northsteel-instances/y_ЭКСГАУСТЕР АМ 4.csv\n",
      "/kaggle/input/y-train-northsteel-instances/dict_short.csv\n",
      "/kaggle/input/y-train-northsteel-instances/y_ЭКСГАУСТЕР АМ 9.csv\n",
      "/kaggle/input/x-train-northsteel/ВИБРАЦИЯ НА ОПОРЕ 4. ПРОДОЛЬНАЯ.csv\n",
      "/kaggle/input/x-train-northsteel/ВИБРАЦИЯ НА ОПОРЕ 4.csv\n",
      "/kaggle/input/x-train-northsteel/ЭКСГАУСТЕР 9.csv\n",
      "/kaggle/input/x-train-northsteel/ЭКСГАУСТЕР 4.csv\n",
      "/kaggle/input/x-train-northsteel/ЭКСГАУСТЕР 7.csv\n",
      "/kaggle/input/x-train-northsteel/ВИБРАЦИЯ НА ОПОРЕ 3.csv\n",
      "/kaggle/input/x-train-northsteel/ВИБРАЦИЯ НА ОПОРЕ 2.csv\n",
      "/kaggle/input/x-train-northsteel/ТОК СТАТОРА.csv\n",
      "/kaggle/input/x-train-northsteel/ДАВЛЕНИЕ МАСЛА В СИСТЕМЕ.csv\n",
      "/kaggle/input/x-train-northsteel/ВИБРАЦИЯ НА ОПОРЕ 1.csv\n",
      "/kaggle/input/x-train-northsteel/ТЕМПЕРАТУРА ПОДШИПНИКА НА ОПОРЕ 3.csv\n",
      "/kaggle/input/x-train-northsteel/ТЕМПЕРАТУРА ПОДШИПНИКА НА ОПОРЕ 1.csv\n",
      "/kaggle/input/x-train-northsteel/ЭКСГАУСТЕР 6.csv\n",
      "/kaggle/input/x-train-northsteel/ТОК РОТОРА 2.csv\n",
      "/kaggle/input/x-train-northsteel/ТЕМПЕРАТУРА ПОДШИПНИКА НА ОПОРЕ 2.csv\n",
      "/kaggle/input/x-train-northsteel/ТЕМПЕРАТУРА ПОДШИПНИКА НА ОПОРЕ 4.csv\n",
      "/kaggle/input/x-train-northsteel/ЭКСГАУСТЕР 5.csv\n",
      "/kaggle/input/x-train-northsteel/ТОК РОТОРА 1.csv\n",
      "/kaggle/input/x-train-northsteel/ЭКСГАУСТЕР 8.csv\n",
      "/kaggle/input/x-train-northsteel/ВИБРАЦИЯ НА ОПОРЕ 3. ПРОДОЛЬНАЯ.csv\n",
      "/kaggle/input/x-train-northsteel/ТЕМПЕРАТУРА МАСЛА В МАСЛОБЛОКЕ.csv\n",
      "/kaggle/input/x-train-northsteel/ТЕМПЕРАТУРА МАСЛА В СИСТЕМЕ.csv\n",
      "/kaggle/input/y-train-northsteel-short/y_short_ТСМТ-101-010-50М-80 ТЕРМОПРЕОБР.МАСЛО.csv\n",
      "/kaggle/input/y-train-northsteel-short/y_short_ЗАДВИЖКА ЭКСГ.d.csv\n",
      "/kaggle/input/y-train-northsteel-short/y_short_КОРПУС ЭКСГ.d.csv\n",
      "/kaggle/input/y-train-northsteel-short/y_short_ГАЗОВАЯ ЗАДВИЖКА ЭКСГ.d.csv\n",
      "/kaggle/input/y-train-northsteel-short/y_short_ТИРИСТ. ВОЗБУДИТЕЛЬ ВТ-РЭМ-400 ЭКСГ.d.csv\n",
      "/kaggle/input/y-train-northsteel-short/y_short_КЛ2 ТР№n ДО ЭД ЭКСГАУСТЕРА №d.csv\n",
      "/kaggle/input/y-train-northsteel-short/y_short_РЕДУКТОР ГАЗ. ЗАДВИЖКИ ЭКСГ.d.csv\n",
      "/kaggle/input/y-train-northsteel-short/y_short_МАСЛОНАСОС ШЕСТЕРЕНЧАТЫЙ (РЕЗ.) ЭКСГ.d.csv\n",
      "/kaggle/input/y-train-northsteel-short/y_short_УЛИТА ЭКСГ.d.csv\n",
      "/kaggle/input/y-train-northsteel-short/y_short_ВК 310С ВИБРОПРЕОБРАЗОВАТЕЛЬ ЭКСГ.d.csv\n",
      "/kaggle/input/y-train-northsteel-short/y_short_ДВИГАТЕЛЬ РЕЗЕРВНОГО МАСЛОНАСОСА ЭКСГ.d.csv\n",
      "/kaggle/input/y-train-northsteel-short/y_short_ЗАПОРНАЯ АРМАТУРА ЭКСГАУСТЕРА №d.csv\n",
      "/kaggle/input/y-train-northsteel-short/y_short_МАСЛОНАСОС РАБОЧИЙ ЭКСГ.d.csv\n",
      "/kaggle/input/y-train-northsteel-short/y_short_МЕТРАН-100 ДАТЧИКИ ДАВЛЕНИЯ ЭКСГ.d.csv\n",
      "/kaggle/input/y-train-northsteel-short/y_short_ЭКСГАУСТЕР Н-8000 АМ №5.csv\n",
      "/kaggle/input/y-train-northsteel-short/y_short_ПОДШИПНИК ОПОРНО-УПОРНЫЙ ЭКСГ.d.csv\n",
      "/kaggle/input/y-train-northsteel-short/y_short_ПОДШИПНИК ОПОРНЫЙ ЭКСГ.d.csv\n",
      "/kaggle/input/y-train-northsteel-short/y_short_МАСЛООХЛАДИТЕЛЬ  М-05-1 ЭКСГ.d.csv\n",
      "/kaggle/input/y-train-northsteel-short/y_short_ТИРИСТОРНЫЙ ВОЗБУДИТЕЛЬ ТВ-400 ЭКСГ.d ВУ1.csv\n",
      "/kaggle/input/y-train-northsteel-short/y_short_КЛ1 ТР№n ДО ЭД ЭКСГАУСТЕРА №d.csv\n",
      "/kaggle/input/y-train-northsteel-short/y_short_ЭЛДВИГАТЕЛЬ ГАЗ. ЗАДВИЖКИ ЭКСГ.d.csv\n",
      "/kaggle/input/y-train-northsteel-short/y_short_ТСМТ-101-010-50М-200 ТЕРМОПР.ПОДШ.csv\n",
      "/kaggle/input/y-train-northsteel-short/y_short_МАСЛОБАК ЭКСГ.d.csv\n",
      "/kaggle/input/y-train-northsteel-short/y_short_ЗАП. И РЕГ. АРМАТУРА ЭКСГ.d.csv\n",
      "/kaggle/input/y-train-northsteel-short/y_short_КОЖУХ МУФТЫ ЭКСГ.d.csv\n",
      "/kaggle/input/y-train-northsteel-short/y_short_РЕГУЛИРУЮЩАЯ АППАРАТУРА ЭКСГАУСТЕРА №d.csv\n",
      "/kaggle/input/y-train-northsteel-short/y_short_МАСЛЯНЫЙ ФИЛЬТР ЭКСГАУСТЕРА №d.csv\n",
      "/kaggle/input/y-train-northsteel-short/y_short_ТР-Р ТМ-4000-106 ЭКСГ.d.csv\n",
      "/kaggle/input/y-train-northsteel-short/y_short_ЭЛЕКТРОДВИГАТЕЛЬ ДСПУ-140-84-4 ЭКСГ.d.csv\n",
      "/kaggle/input/y-train-northsteel-short/y_short_ДВИГАТЕЛЬ ПУСКОВОГО МАСЛОНАСОСА ЭКСГ.d.csv\n",
      "/kaggle/input/y-train-northsteel-short/y_short_САПФИР 22 МДД РАЗРЕЖЕНИЕ В КОЛЛЕКТОРЕ.csv\n",
      "/kaggle/input/y-train-northsteel-short/y_short_САПФИР 22 МДД ПЕРЕПАД ДАВЛ. НА ЦИКЛОНЕ.csv\n",
      "/kaggle/input/y-train-northsteel-short/y_short_МАСЛОНАСОС ШЕСТЕРЕНЧАТЫЙ (ПУСК.) ЭКСГ.d.csv\n",
      "/kaggle/input/y-train-northsteel-short/y_short_ТР-Р ТМ-6300-106 ЭКСГ.d.csv\n",
      "/kaggle/input/y-train-northsteel-short/y_short_ТСМТ-101-010-50М-400 ТЕРМОПР.ПОДШ.csv\n",
      "/kaggle/input/y-train-northsteel-short/y_short_ЭКСГАУСТЕР №d.csv\n",
      "/kaggle/input/y-train-northsteel-short/y_short_МАСЛОСТАНЦИЯ ЖИДКОЙ СМАЗКИ ЭКСГ.d.csv\n",
      "/kaggle/input/y-train-northsteel-short/y_short_ЭЛЕКТРООБОРУДОВАНИЯ ЭКСГАУСТЕРА №d.csv\n",
      "/kaggle/input/y-train-northsteel-short/dict_short.csv\n",
      "/kaggle/input/y-train-northsteel-short/y_short_ГСМ ЭКСГ.d.csv\n",
      "/kaggle/input/y-train-northsteel-short/y_short_ТИРИСТОРНЫЙ ВОЗБУДИТЕЛЬ СПВД-М10-400-5.csv\n",
      "/kaggle/input/y-train-northsteel-short/y_short_МАСЛОПРОВОДЫ ЭКСГАУСТЕРА №d.csv\n",
      "/kaggle/input/y-train-northsteel-short/y_short_РОТОР ЭКСГ.d.csv\n"
     ]
    }
   ],
   "source": [
    "##### This Python 3 environment comes with many helpful analytics libraries installed\n",
    "# It is defined by the kaggle/python Docker image: https://github.com/kaggle/docker-python\n",
    "# For example, here's several helpful packages to load\n",
    "\n",
    "import numpy as np # linear algebra\n",
    "import pandas as pd # data processing, CSV file I/O (e.g. pd.read_csv)\n",
    "\n",
    "# Input data files are available in the read-only \"../input/\" directory\n",
    "# For example, running this (by clicking run or pressing Shift+Enter) will list all files under the input directory\n",
    "\n",
    "import os\n",
    "for dirname, _, filenames in os.walk('/kaggle/input'):\n",
    "    for filename in filenames:\n",
    "        print(os.path.join(dirname, filename))\n",
    "\n",
    "# You can write up to 20GB to the current directory (/kaggle/working/) that gets preserved as output when you create a version using \"Save & Run All\" \n",
    "# You can also write temporary files to /kaggle/temp/, but they won't be saved outside of the current session"
   ]
  },
  {
   "cell_type": "code",
   "execution_count": 2,
   "id": "479cd771",
   "metadata": {
    "execution": {
     "iopub.execute_input": "2023-05-28T20:45:24.296618Z",
     "iopub.status.busy": "2023-05-28T20:45:24.296288Z",
     "iopub.status.idle": "2023-05-28T20:45:50.129316Z",
     "shell.execute_reply": "2023-05-28T20:45:50.128160Z"
    },
    "papermill": {
     "duration": 25.840537,
     "end_time": "2023-05-28T20:45:50.131765",
     "exception": false,
     "start_time": "2023-05-28T20:45:24.291228",
     "status": "completed"
    },
    "tags": []
   },
   "outputs": [],
   "source": [
    "X_train = pd.read_csv(\"/kaggle/input/x-train-northsteel/ЭКСГАУСТЕР 4.csv\",parse_dates=True)\n"
   ]
  },
  {
   "cell_type": "code",
   "execution_count": 3,
   "id": "930a3bf1",
   "metadata": {
    "execution": {
     "iopub.execute_input": "2023-05-28T20:45:50.141310Z",
     "iopub.status.busy": "2023-05-28T20:45:50.140924Z",
     "iopub.status.idle": "2023-05-28T20:46:17.531256Z",
     "shell.execute_reply": "2023-05-28T20:46:17.530159Z"
    },
    "papermill": {
     "duration": 27.39784,
     "end_time": "2023-05-28T20:46:17.533743",
     "exception": false,
     "start_time": "2023-05-28T20:45:50.135903",
     "status": "completed"
    },
    "tags": []
   },
   "outputs": [
    {
     "data": {
      "text/html": [
       "<div>\n",
       "<style scoped>\n",
       "    .dataframe tbody tr th:only-of-type {\n",
       "        vertical-align: middle;\n",
       "    }\n",
       "\n",
       "    .dataframe tbody tr th {\n",
       "        vertical-align: top;\n",
       "    }\n",
       "\n",
       "    .dataframe thead th {\n",
       "        text-align: right;\n",
       "    }\n",
       "</style>\n",
       "<table border=\"1\" class=\"dataframe\">\n",
       "  <thead>\n",
       "    <tr style=\"text-align: right;\">\n",
       "      <th></th>\n",
       "      <th>ТОК РОТОРА 1</th>\n",
       "      <th>ТОК РОТОРА 2</th>\n",
       "      <th>ТОК СТАТОРА</th>\n",
       "      <th>ВИБРАЦИЯ НА ОПОРЕ 1</th>\n",
       "      <th>ВИБРАЦИЯ НА ОПОРЕ 2</th>\n",
       "      <th>ВИБРАЦИЯ НА ОПОРЕ 3</th>\n",
       "      <th>ВИБРАЦИЯ НА ОПОРЕ 3. ПРОДОЛЬНАЯ</th>\n",
       "      <th>ВИБРАЦИЯ НА ОПОРЕ 4</th>\n",
       "      <th>ВИБРАЦИЯ НА ОПОРЕ 4. ПРОДОЛЬНАЯ</th>\n",
       "      <th>ТЕМПЕРАТУРА ПОДШИПНИКА НА ОПОРЕ 1</th>\n",
       "      <th>ТЕМПЕРАТУРА ПОДШИПНИКА НА ОПОРЕ 2</th>\n",
       "      <th>ТЕМПЕРАТУРА ПОДШИПНИКА НА ОПОРЕ 3</th>\n",
       "      <th>ТЕМПЕРАТУРА ПОДШИПНИКА НА ОПОРЕ 4</th>\n",
       "      <th>ТЕМПЕРАТУРА МАСЛА В МАСЛОБЛОКЕ</th>\n",
       "      <th>ТЕМПЕРАТУРА МАСЛА В СИСТЕМЕ</th>\n",
       "      <th>ДАВЛЕНИЕ МАСЛА В СИСТЕМЕ</th>\n",
       "    </tr>\n",
       "    <tr>\n",
       "      <th>DT</th>\n",
       "      <th></th>\n",
       "      <th></th>\n",
       "      <th></th>\n",
       "      <th></th>\n",
       "      <th></th>\n",
       "      <th></th>\n",
       "      <th></th>\n",
       "      <th></th>\n",
       "      <th></th>\n",
       "      <th></th>\n",
       "      <th></th>\n",
       "      <th></th>\n",
       "      <th></th>\n",
       "      <th></th>\n",
       "      <th></th>\n",
       "      <th></th>\n",
       "    </tr>\n",
       "  </thead>\n",
       "  <tbody>\n",
       "    <tr>\n",
       "      <th>2019-01-16 13:21:00</th>\n",
       "      <td>363.676667</td>\n",
       "      <td>363.676667</td>\n",
       "      <td>244.078000</td>\n",
       "      <td>1.600000</td>\n",
       "      <td>0.760000</td>\n",
       "      <td>0.670000</td>\n",
       "      <td>1.630000</td>\n",
       "      <td>3.450000</td>\n",
       "      <td>0.740000</td>\n",
       "      <td>41.370000</td>\n",
       "      <td>39.750000</td>\n",
       "      <td>39.750000</td>\n",
       "      <td>44.538548</td>\n",
       "      <td>40.560000</td>\n",
       "      <td>33.260000</td>\n",
       "      <td>119.385000</td>\n",
       "    </tr>\n",
       "    <tr>\n",
       "      <th>2019-01-16 13:21:10</th>\n",
       "      <td>363.103333</td>\n",
       "      <td>363.103333</td>\n",
       "      <td>243.032500</td>\n",
       "      <td>1.572917</td>\n",
       "      <td>0.751736</td>\n",
       "      <td>0.642361</td>\n",
       "      <td>1.558160</td>\n",
       "      <td>3.470000</td>\n",
       "      <td>0.734375</td>\n",
       "      <td>41.374596</td>\n",
       "      <td>39.752083</td>\n",
       "      <td>39.995457</td>\n",
       "      <td>44.863054</td>\n",
       "      <td>40.401081</td>\n",
       "      <td>33.343074</td>\n",
       "      <td>119.444440</td>\n",
       "    </tr>\n",
       "    <tr>\n",
       "      <th>2019-01-16 13:21:20</th>\n",
       "      <td>363.266667</td>\n",
       "      <td>363.266667</td>\n",
       "      <td>242.940000</td>\n",
       "      <td>1.553819</td>\n",
       "      <td>0.735918</td>\n",
       "      <td>0.638503</td>\n",
       "      <td>1.581790</td>\n",
       "      <td>2.900000</td>\n",
       "      <td>0.748457</td>\n",
       "      <td>41.374596</td>\n",
       "      <td>39.752083</td>\n",
       "      <td>39.932360</td>\n",
       "      <td>44.799956</td>\n",
       "      <td>40.383053</td>\n",
       "      <td>33.261948</td>\n",
       "      <td>119.330000</td>\n",
       "    </tr>\n",
       "    <tr>\n",
       "      <th>2019-01-16 13:21:30</th>\n",
       "      <td>363.414372</td>\n",
       "      <td>363.414372</td>\n",
       "      <td>243.836802</td>\n",
       "      <td>1.546007</td>\n",
       "      <td>0.736979</td>\n",
       "      <td>0.653646</td>\n",
       "      <td>1.657986</td>\n",
       "      <td>3.297743</td>\n",
       "      <td>0.730903</td>\n",
       "      <td>41.374596</td>\n",
       "      <td>39.752083</td>\n",
       "      <td>39.833208</td>\n",
       "      <td>44.781928</td>\n",
       "      <td>40.563330</td>\n",
       "      <td>33.586453</td>\n",
       "      <td>119.398146</td>\n",
       "    </tr>\n",
       "    <tr>\n",
       "      <th>2019-01-16 13:21:40</th>\n",
       "      <td>363.103333</td>\n",
       "      <td>363.103333</td>\n",
       "      <td>242.050000</td>\n",
       "      <td>1.545139</td>\n",
       "      <td>0.742188</td>\n",
       "      <td>0.677083</td>\n",
       "      <td>1.740000</td>\n",
       "      <td>2.990000</td>\n",
       "      <td>0.739583</td>\n",
       "      <td>41.536849</td>\n",
       "      <td>39.752083</td>\n",
       "      <td>39.752083</td>\n",
       "      <td>43.810000</td>\n",
       "      <td>39.750000</td>\n",
       "      <td>33.505327</td>\n",
       "      <td>119.326667</td>\n",
       "    </tr>\n",
       "    <tr>\n",
       "      <th>...</th>\n",
       "      <td>...</td>\n",
       "      <td>...</td>\n",
       "      <td>...</td>\n",
       "      <td>...</td>\n",
       "      <td>...</td>\n",
       "      <td>...</td>\n",
       "      <td>...</td>\n",
       "      <td>...</td>\n",
       "      <td>...</td>\n",
       "      <td>...</td>\n",
       "      <td>...</td>\n",
       "      <td>...</td>\n",
       "      <td>...</td>\n",
       "      <td>...</td>\n",
       "      <td>...</td>\n",
       "      <td>...</td>\n",
       "    </tr>\n",
       "    <tr>\n",
       "      <th>2021-04-29 20:17:50</th>\n",
       "      <td>227.802000</td>\n",
       "      <td>227.802000</td>\n",
       "      <td>256.457000</td>\n",
       "      <td>0.691667</td>\n",
       "      <td>0.422857</td>\n",
       "      <td>0.824444</td>\n",
       "      <td>1.900000</td>\n",
       "      <td>0.802222</td>\n",
       "      <td>0.810000</td>\n",
       "      <td>38.670000</td>\n",
       "      <td>36.915000</td>\n",
       "      <td>29.615000</td>\n",
       "      <td>32.045000</td>\n",
       "      <td>32.045000</td>\n",
       "      <td>28.800000</td>\n",
       "      <td>143.218000</td>\n",
       "    </tr>\n",
       "    <tr>\n",
       "      <th>2021-06-18 01:21:30</th>\n",
       "      <td>243.908000</td>\n",
       "      <td>243.908000</td>\n",
       "      <td>262.240000</td>\n",
       "      <td>1.410000</td>\n",
       "      <td>1.122000</td>\n",
       "      <td>2.508000</td>\n",
       "      <td>6.800000</td>\n",
       "      <td>1.262000</td>\n",
       "      <td>2.678000</td>\n",
       "      <td>44.080000</td>\n",
       "      <td>47.455000</td>\n",
       "      <td>40.560000</td>\n",
       "      <td>41.780000</td>\n",
       "      <td>43.000000</td>\n",
       "      <td>40.290000</td>\n",
       "      <td>119.744000</td>\n",
       "    </tr>\n",
       "    <tr>\n",
       "      <th>2021-06-21 19:43:00</th>\n",
       "      <td>243.866667</td>\n",
       "      <td>243.866667</td>\n",
       "      <td>248.206667</td>\n",
       "      <td>0.983333</td>\n",
       "      <td>0.910000</td>\n",
       "      <td>2.290000</td>\n",
       "      <td>5.083333</td>\n",
       "      <td>1.353333</td>\n",
       "      <td>2.223333</td>\n",
       "      <td>46.645000</td>\n",
       "      <td>49.085000</td>\n",
       "      <td>45.970000</td>\n",
       "      <td>45.700000</td>\n",
       "      <td>47.455000</td>\n",
       "      <td>48.270000</td>\n",
       "      <td>113.846667</td>\n",
       "    </tr>\n",
       "    <tr>\n",
       "      <th>2021-07-01 23:41:10</th>\n",
       "      <td>244.760000</td>\n",
       "      <td>244.760000</td>\n",
       "      <td>266.060000</td>\n",
       "      <td>0.816000</td>\n",
       "      <td>0.426667</td>\n",
       "      <td>0.149000</td>\n",
       "      <td>0.640000</td>\n",
       "      <td>1.203000</td>\n",
       "      <td>0.270000</td>\n",
       "      <td>49.895000</td>\n",
       "      <td>49.760000</td>\n",
       "      <td>37.680000</td>\n",
       "      <td>41.167500</td>\n",
       "      <td>39.345000</td>\n",
       "      <td>36.186000</td>\n",
       "      <td>152.590000</td>\n",
       "    </tr>\n",
       "    <tr>\n",
       "      <th>2021-09-17 14:14:30</th>\n",
       "      <td>247.005000</td>\n",
       "      <td>247.005000</td>\n",
       "      <td>274.508333</td>\n",
       "      <td>0.346667</td>\n",
       "      <td>1.013333</td>\n",
       "      <td>1.536667</td>\n",
       "      <td>3.618333</td>\n",
       "      <td>2.110000</td>\n",
       "      <td>1.923333</td>\n",
       "      <td>49.760000</td>\n",
       "      <td>44.620000</td>\n",
       "      <td>39.480000</td>\n",
       "      <td>40.290000</td>\n",
       "      <td>39.345000</td>\n",
       "      <td>33.260000</td>\n",
       "      <td>164.408333</td>\n",
       "    </tr>\n",
       "  </tbody>\n",
       "</table>\n",
       "<p>4755649 rows × 16 columns</p>\n",
       "</div>"
      ],
      "text/plain": [
       "                     ТОК РОТОРА 1  ТОК РОТОРА 2  ТОК СТАТОРА  \\\n",
       "DT                                                             \n",
       "2019-01-16 13:21:00    363.676667    363.676667   244.078000   \n",
       "2019-01-16 13:21:10    363.103333    363.103333   243.032500   \n",
       "2019-01-16 13:21:20    363.266667    363.266667   242.940000   \n",
       "2019-01-16 13:21:30    363.414372    363.414372   243.836802   \n",
       "2019-01-16 13:21:40    363.103333    363.103333   242.050000   \n",
       "...                           ...           ...          ...   \n",
       "2021-04-29 20:17:50    227.802000    227.802000   256.457000   \n",
       "2021-06-18 01:21:30    243.908000    243.908000   262.240000   \n",
       "2021-06-21 19:43:00    243.866667    243.866667   248.206667   \n",
       "2021-07-01 23:41:10    244.760000    244.760000   266.060000   \n",
       "2021-09-17 14:14:30    247.005000    247.005000   274.508333   \n",
       "\n",
       "                     ВИБРАЦИЯ НА ОПОРЕ 1  ВИБРАЦИЯ НА ОПОРЕ 2  \\\n",
       "DT                                                              \n",
       "2019-01-16 13:21:00             1.600000             0.760000   \n",
       "2019-01-16 13:21:10             1.572917             0.751736   \n",
       "2019-01-16 13:21:20             1.553819             0.735918   \n",
       "2019-01-16 13:21:30             1.546007             0.736979   \n",
       "2019-01-16 13:21:40             1.545139             0.742188   \n",
       "...                                  ...                  ...   \n",
       "2021-04-29 20:17:50             0.691667             0.422857   \n",
       "2021-06-18 01:21:30             1.410000             1.122000   \n",
       "2021-06-21 19:43:00             0.983333             0.910000   \n",
       "2021-07-01 23:41:10             0.816000             0.426667   \n",
       "2021-09-17 14:14:30             0.346667             1.013333   \n",
       "\n",
       "                     ВИБРАЦИЯ НА ОПОРЕ 3  ВИБРАЦИЯ НА ОПОРЕ 3. ПРОДОЛЬНАЯ  \\\n",
       "DT                                                                          \n",
       "2019-01-16 13:21:00             0.670000                         1.630000   \n",
       "2019-01-16 13:21:10             0.642361                         1.558160   \n",
       "2019-01-16 13:21:20             0.638503                         1.581790   \n",
       "2019-01-16 13:21:30             0.653646                         1.657986   \n",
       "2019-01-16 13:21:40             0.677083                         1.740000   \n",
       "...                                  ...                              ...   \n",
       "2021-04-29 20:17:50             0.824444                         1.900000   \n",
       "2021-06-18 01:21:30             2.508000                         6.800000   \n",
       "2021-06-21 19:43:00             2.290000                         5.083333   \n",
       "2021-07-01 23:41:10             0.149000                         0.640000   \n",
       "2021-09-17 14:14:30             1.536667                         3.618333   \n",
       "\n",
       "                     ВИБРАЦИЯ НА ОПОРЕ 4  ВИБРАЦИЯ НА ОПОРЕ 4. ПРОДОЛЬНАЯ  \\\n",
       "DT                                                                          \n",
       "2019-01-16 13:21:00             3.450000                         0.740000   \n",
       "2019-01-16 13:21:10             3.470000                         0.734375   \n",
       "2019-01-16 13:21:20             2.900000                         0.748457   \n",
       "2019-01-16 13:21:30             3.297743                         0.730903   \n",
       "2019-01-16 13:21:40             2.990000                         0.739583   \n",
       "...                                  ...                              ...   \n",
       "2021-04-29 20:17:50             0.802222                         0.810000   \n",
       "2021-06-18 01:21:30             1.262000                         2.678000   \n",
       "2021-06-21 19:43:00             1.353333                         2.223333   \n",
       "2021-07-01 23:41:10             1.203000                         0.270000   \n",
       "2021-09-17 14:14:30             2.110000                         1.923333   \n",
       "\n",
       "                     ТЕМПЕРАТУРА ПОДШИПНИКА НА ОПОРЕ 1  \\\n",
       "DT                                                       \n",
       "2019-01-16 13:21:00                          41.370000   \n",
       "2019-01-16 13:21:10                          41.374596   \n",
       "2019-01-16 13:21:20                          41.374596   \n",
       "2019-01-16 13:21:30                          41.374596   \n",
       "2019-01-16 13:21:40                          41.536849   \n",
       "...                                                ...   \n",
       "2021-04-29 20:17:50                          38.670000   \n",
       "2021-06-18 01:21:30                          44.080000   \n",
       "2021-06-21 19:43:00                          46.645000   \n",
       "2021-07-01 23:41:10                          49.895000   \n",
       "2021-09-17 14:14:30                          49.760000   \n",
       "\n",
       "                     ТЕМПЕРАТУРА ПОДШИПНИКА НА ОПОРЕ 2  \\\n",
       "DT                                                       \n",
       "2019-01-16 13:21:00                          39.750000   \n",
       "2019-01-16 13:21:10                          39.752083   \n",
       "2019-01-16 13:21:20                          39.752083   \n",
       "2019-01-16 13:21:30                          39.752083   \n",
       "2019-01-16 13:21:40                          39.752083   \n",
       "...                                                ...   \n",
       "2021-04-29 20:17:50                          36.915000   \n",
       "2021-06-18 01:21:30                          47.455000   \n",
       "2021-06-21 19:43:00                          49.085000   \n",
       "2021-07-01 23:41:10                          49.760000   \n",
       "2021-09-17 14:14:30                          44.620000   \n",
       "\n",
       "                     ТЕМПЕРАТУРА ПОДШИПНИКА НА ОПОРЕ 3  \\\n",
       "DT                                                       \n",
       "2019-01-16 13:21:00                          39.750000   \n",
       "2019-01-16 13:21:10                          39.995457   \n",
       "2019-01-16 13:21:20                          39.932360   \n",
       "2019-01-16 13:21:30                          39.833208   \n",
       "2019-01-16 13:21:40                          39.752083   \n",
       "...                                                ...   \n",
       "2021-04-29 20:17:50                          29.615000   \n",
       "2021-06-18 01:21:30                          40.560000   \n",
       "2021-06-21 19:43:00                          45.970000   \n",
       "2021-07-01 23:41:10                          37.680000   \n",
       "2021-09-17 14:14:30                          39.480000   \n",
       "\n",
       "                     ТЕМПЕРАТУРА ПОДШИПНИКА НА ОПОРЕ 4  \\\n",
       "DT                                                       \n",
       "2019-01-16 13:21:00                          44.538548   \n",
       "2019-01-16 13:21:10                          44.863054   \n",
       "2019-01-16 13:21:20                          44.799956   \n",
       "2019-01-16 13:21:30                          44.781928   \n",
       "2019-01-16 13:21:40                          43.810000   \n",
       "...                                                ...   \n",
       "2021-04-29 20:17:50                          32.045000   \n",
       "2021-06-18 01:21:30                          41.780000   \n",
       "2021-06-21 19:43:00                          45.700000   \n",
       "2021-07-01 23:41:10                          41.167500   \n",
       "2021-09-17 14:14:30                          40.290000   \n",
       "\n",
       "                     ТЕМПЕРАТУРА МАСЛА В МАСЛОБЛОКЕ  \\\n",
       "DT                                                    \n",
       "2019-01-16 13:21:00                       40.560000   \n",
       "2019-01-16 13:21:10                       40.401081   \n",
       "2019-01-16 13:21:20                       40.383053   \n",
       "2019-01-16 13:21:30                       40.563330   \n",
       "2019-01-16 13:21:40                       39.750000   \n",
       "...                                             ...   \n",
       "2021-04-29 20:17:50                       32.045000   \n",
       "2021-06-18 01:21:30                       43.000000   \n",
       "2021-06-21 19:43:00                       47.455000   \n",
       "2021-07-01 23:41:10                       39.345000   \n",
       "2021-09-17 14:14:30                       39.345000   \n",
       "\n",
       "                     ТЕМПЕРАТУРА МАСЛА В СИСТЕМЕ  ДАВЛЕНИЕ МАСЛА В СИСТЕМЕ  \n",
       "DT                                                                          \n",
       "2019-01-16 13:21:00                    33.260000                119.385000  \n",
       "2019-01-16 13:21:10                    33.343074                119.444440  \n",
       "2019-01-16 13:21:20                    33.261948                119.330000  \n",
       "2019-01-16 13:21:30                    33.586453                119.398146  \n",
       "2019-01-16 13:21:40                    33.505327                119.326667  \n",
       "...                                          ...                       ...  \n",
       "2021-04-29 20:17:50                    28.800000                143.218000  \n",
       "2021-06-18 01:21:30                    40.290000                119.744000  \n",
       "2021-06-21 19:43:00                    48.270000                113.846667  \n",
       "2021-07-01 23:41:10                    36.186000                152.590000  \n",
       "2021-09-17 14:14:30                    33.260000                164.408333  \n",
       "\n",
       "[4755649 rows x 16 columns]"
      ]
     },
     "execution_count": 3,
     "metadata": {},
     "output_type": "execute_result"
    }
   ],
   "source": [
    "import re\n",
    "\n",
    "def reduced(x):\n",
    "    answer = re.sub(r\"ЭКСГАУСТЕР\\s?\\n?№\\d+.\", \"\", x).strip()\n",
    "    answer = re.sub(r\"ЭКСГАУСТЕР\\s?\\n?\\d+.\", \"\", x).strip()\n",
    "    return answer\n",
    "\n",
    "\n",
    "if \"DT\" in X_train.columns:\n",
    "    X_train = X_train.set_index(\"DT\")\n",
    "for col in X_train.columns:\n",
    "    X_train = X_train.rename(columns={col: reduced(col).strip()})\n",
    "X_train = X_train[[\"ТОК РОТОРА 1\",\"ТОК РОТОРА 2\",\"ТОК СТАТОРА\",\n",
    "                   \"ВИБРАЦИЯ НА ОПОРЕ 1\",\"ВИБРАЦИЯ НА ОПОРЕ 2\",\n",
    "                   \"ВИБРАЦИЯ НА ОПОРЕ 3\",\"ВИБРАЦИЯ НА ОПОРЕ 3. ПРОДОЛЬНАЯ\",\n",
    "                   \"ВИБРАЦИЯ НА ОПОРЕ 4\",\"ВИБРАЦИЯ НА ОПОРЕ 4. ПРОДОЛЬНАЯ\",\n",
    "                   \"ТЕМПЕРАТУРА ПОДШИПНИКА НА ОПОРЕ 1\",\n",
    "                   \"ТЕМПЕРАТУРА ПОДШИПНИКА НА ОПОРЕ 2\",\n",
    "                   \"ТЕМПЕРАТУРА ПОДШИПНИКА НА ОПОРЕ 3\",\n",
    "                   \"ТЕМПЕРАТУРА ПОДШИПНИКА НА ОПОРЕ 4\",\n",
    "                   \"ТЕМПЕРАТУРА МАСЛА В МАСЛОБЛОКЕ\",\n",
    "                   \"ТЕМПЕРАТУРА МАСЛА В СИСТЕМЕ\",\n",
    "                   \"ДАВЛЕНИЕ МАСЛА В СИСТЕМЕ\"]]\n",
    "for i,x in enumerate(X_train.index.values):\n",
    "    X_train.index.values[i] = pd.Timestamp(X_train.index.values[i])\n",
    "X_train"
   ]
  },
  {
   "cell_type": "code",
   "execution_count": 4,
   "id": "c6f23a98",
   "metadata": {
    "execution": {
     "iopub.execute_input": "2023-05-28T20:46:17.543674Z",
     "iopub.status.busy": "2023-05-28T20:46:17.543370Z",
     "iopub.status.idle": "2023-05-28T20:46:50.733146Z",
     "shell.execute_reply": "2023-05-28T20:46:50.732150Z"
    },
    "papermill": {
     "duration": 33.2026,
     "end_time": "2023-05-28T20:46:50.740832",
     "exception": false,
     "start_time": "2023-05-28T20:46:17.538232",
     "status": "completed"
    },
    "tags": []
   },
   "outputs": [
    {
     "data": {
      "text/html": [
       "<div>\n",
       "<style scoped>\n",
       "    .dataframe tbody tr th:only-of-type {\n",
       "        vertical-align: middle;\n",
       "    }\n",
       "\n",
       "    .dataframe tbody tr th {\n",
       "        vertical-align: top;\n",
       "    }\n",
       "\n",
       "    .dataframe thead th {\n",
       "        text-align: right;\n",
       "    }\n",
       "</style>\n",
       "<table border=\"1\" class=\"dataframe\">\n",
       "  <thead>\n",
       "    <tr style=\"text-align: right;\">\n",
       "      <th></th>\n",
       "      <th>Y_ЭКСГАУСТЕР А/М №4_ЭЛЕКТРОДВИГАТЕЛЬ ДСПУ-140-84-4 ЭКСГ. №4</th>\n",
       "      <th>Y_ЭКСГАУСТЕР А/М №4_ПОДШИПНИК ОПОРНЫЙ ЭКСГ. №4</th>\n",
       "      <th>Y_ЭКСГАУСТЕР А/М №4_УЛИТА ЭКСГ. №4</th>\n",
       "      <th>Y_ЭКСГАУСТЕР А/М №4_РЕДУКТОР ГАЗ. ЗАДВИЖКИ ЭКСГ. №4</th>\n",
       "      <th>Y_ЭКСГАУСТЕР А/М №4_МАСЛОНАСОС РАБОЧИЙ ЭКСГ. №4</th>\n",
       "      <th>Y_ЭКСГАУСТЕР А/М №4_ЭЛЕКТРОАППАРАТУРА ЭКСГ. №4</th>\n",
       "      <th>Y_ЭКСГАУСТЕР А/М №4_ПОДШИПНИК ОПОРНЫЙ №2 ЭКСГ. №4</th>\n",
       "      <th>Y_ЭКСГАУСТЕР А/М №4_ЗАДВИЖКА ЭКСГ. №4</th>\n",
       "      <th>Y_ЭКСГАУСТЕР А/М №4_ГСМ ЭКСГ. №4</th>\n",
       "      <th>Y_ЭКСГАУСТЕР А/М №4_ВК 310С ВИБРОПРЕОБРАЗОВАТЕЛЬ ЭКСГ.№4 Т.1</th>\n",
       "      <th>...</th>\n",
       "      <th>Y_ЭКСГАУСТЕР А/М №4_ПОДШИПНИК ОПОРНО-УПОРНЫЙ ЭКСГ. №4</th>\n",
       "      <th>Y_ЭКСГАУСТЕР А/М №4_ЭКСГАУСТЕР А/М №4</th>\n",
       "      <th>Y_ЭКСГАУСТЕР А/М №4_ЗАП. И РЕГ. АРМАТУРА ЭКСГ.№4</th>\n",
       "      <th>Y_ЭКСГАУСТЕР А/М №4_ПОДШИПНИК ОПОРНЫЙ №1 ЭКСГ. №4</th>\n",
       "      <th>Y_ЭКСГАУСТЕР А/М №4_ЭЛ/ДВИГАТЕЛЬ ГАЗ. ЗАДВИЖКИ ЭКСГ. №4</th>\n",
       "      <th>Y_ЭКСГАУСТЕР А/М №4_КЛ1 ТР№4 ДО ЭД ЭКСГАУСТЕРА №4</th>\n",
       "      <th>Y_ЭКСГАУСТЕР А/М №4_КЛ2 ТР№4 ДО ЭД ЭКСГАУСТЕРА №4</th>\n",
       "      <th>Y_ЭКСГАУСТЕР А/М №4_ТР-Р ТМ-4000-10/6 ЭКСГ. №4</th>\n",
       "      <th>Y_ЭКСГАУСТЕР А/М №4_ТИРИСТ. ВОЗБУДИТЕЛЬ ВТ-РЭМ-400 ЭКСГ4 ВУ1</th>\n",
       "      <th>Y_ЭКСГАУСТЕР А/М №4_МАСЛОПРОВОДЫ ЭКСГ №4</th>\n",
       "    </tr>\n",
       "    <tr>\n",
       "      <th>DT</th>\n",
       "      <th></th>\n",
       "      <th></th>\n",
       "      <th></th>\n",
       "      <th></th>\n",
       "      <th></th>\n",
       "      <th></th>\n",
       "      <th></th>\n",
       "      <th></th>\n",
       "      <th></th>\n",
       "      <th></th>\n",
       "      <th></th>\n",
       "      <th></th>\n",
       "      <th></th>\n",
       "      <th></th>\n",
       "      <th></th>\n",
       "      <th></th>\n",
       "      <th></th>\n",
       "      <th></th>\n",
       "      <th></th>\n",
       "      <th></th>\n",
       "      <th></th>\n",
       "    </tr>\n",
       "  </thead>\n",
       "  <tbody>\n",
       "    <tr>\n",
       "      <th>2019-01-16 13:21:00</th>\n",
       "      <td>0.0</td>\n",
       "      <td>0.0</td>\n",
       "      <td>0.0</td>\n",
       "      <td>0.0</td>\n",
       "      <td>0.0</td>\n",
       "      <td>0.0</td>\n",
       "      <td>0.0</td>\n",
       "      <td>0.0</td>\n",
       "      <td>0.0</td>\n",
       "      <td>0.0</td>\n",
       "      <td>...</td>\n",
       "      <td>0.0</td>\n",
       "      <td>0.0</td>\n",
       "      <td>0.0</td>\n",
       "      <td>0.0</td>\n",
       "      <td>0.0</td>\n",
       "      <td>0.0</td>\n",
       "      <td>0.0</td>\n",
       "      <td>0.0</td>\n",
       "      <td>0.0</td>\n",
       "      <td>0.0</td>\n",
       "    </tr>\n",
       "    <tr>\n",
       "      <th>2019-01-16 13:21:10</th>\n",
       "      <td>0.0</td>\n",
       "      <td>0.0</td>\n",
       "      <td>0.0</td>\n",
       "      <td>0.0</td>\n",
       "      <td>0.0</td>\n",
       "      <td>0.0</td>\n",
       "      <td>0.0</td>\n",
       "      <td>0.0</td>\n",
       "      <td>0.0</td>\n",
       "      <td>0.0</td>\n",
       "      <td>...</td>\n",
       "      <td>0.0</td>\n",
       "      <td>0.0</td>\n",
       "      <td>0.0</td>\n",
       "      <td>0.0</td>\n",
       "      <td>0.0</td>\n",
       "      <td>0.0</td>\n",
       "      <td>0.0</td>\n",
       "      <td>0.0</td>\n",
       "      <td>0.0</td>\n",
       "      <td>0.0</td>\n",
       "    </tr>\n",
       "    <tr>\n",
       "      <th>2019-01-16 13:21:20</th>\n",
       "      <td>0.0</td>\n",
       "      <td>0.0</td>\n",
       "      <td>0.0</td>\n",
       "      <td>0.0</td>\n",
       "      <td>0.0</td>\n",
       "      <td>0.0</td>\n",
       "      <td>0.0</td>\n",
       "      <td>0.0</td>\n",
       "      <td>0.0</td>\n",
       "      <td>0.0</td>\n",
       "      <td>...</td>\n",
       "      <td>0.0</td>\n",
       "      <td>0.0</td>\n",
       "      <td>0.0</td>\n",
       "      <td>0.0</td>\n",
       "      <td>0.0</td>\n",
       "      <td>0.0</td>\n",
       "      <td>0.0</td>\n",
       "      <td>0.0</td>\n",
       "      <td>0.0</td>\n",
       "      <td>0.0</td>\n",
       "    </tr>\n",
       "    <tr>\n",
       "      <th>2019-01-16 13:21:30</th>\n",
       "      <td>0.0</td>\n",
       "      <td>0.0</td>\n",
       "      <td>0.0</td>\n",
       "      <td>0.0</td>\n",
       "      <td>0.0</td>\n",
       "      <td>0.0</td>\n",
       "      <td>0.0</td>\n",
       "      <td>0.0</td>\n",
       "      <td>0.0</td>\n",
       "      <td>0.0</td>\n",
       "      <td>...</td>\n",
       "      <td>0.0</td>\n",
       "      <td>0.0</td>\n",
       "      <td>0.0</td>\n",
       "      <td>0.0</td>\n",
       "      <td>0.0</td>\n",
       "      <td>0.0</td>\n",
       "      <td>0.0</td>\n",
       "      <td>0.0</td>\n",
       "      <td>0.0</td>\n",
       "      <td>0.0</td>\n",
       "    </tr>\n",
       "    <tr>\n",
       "      <th>2019-01-16 13:21:40</th>\n",
       "      <td>0.0</td>\n",
       "      <td>0.0</td>\n",
       "      <td>0.0</td>\n",
       "      <td>0.0</td>\n",
       "      <td>0.0</td>\n",
       "      <td>0.0</td>\n",
       "      <td>0.0</td>\n",
       "      <td>0.0</td>\n",
       "      <td>0.0</td>\n",
       "      <td>0.0</td>\n",
       "      <td>...</td>\n",
       "      <td>0.0</td>\n",
       "      <td>0.0</td>\n",
       "      <td>0.0</td>\n",
       "      <td>0.0</td>\n",
       "      <td>0.0</td>\n",
       "      <td>0.0</td>\n",
       "      <td>0.0</td>\n",
       "      <td>0.0</td>\n",
       "      <td>0.0</td>\n",
       "      <td>0.0</td>\n",
       "    </tr>\n",
       "    <tr>\n",
       "      <th>...</th>\n",
       "      <td>...</td>\n",
       "      <td>...</td>\n",
       "      <td>...</td>\n",
       "      <td>...</td>\n",
       "      <td>...</td>\n",
       "      <td>...</td>\n",
       "      <td>...</td>\n",
       "      <td>...</td>\n",
       "      <td>...</td>\n",
       "      <td>...</td>\n",
       "      <td>...</td>\n",
       "      <td>...</td>\n",
       "      <td>...</td>\n",
       "      <td>...</td>\n",
       "      <td>...</td>\n",
       "      <td>...</td>\n",
       "      <td>...</td>\n",
       "      <td>...</td>\n",
       "      <td>...</td>\n",
       "      <td>...</td>\n",
       "      <td>...</td>\n",
       "    </tr>\n",
       "    <tr>\n",
       "      <th>2021-12-31 23:59:10</th>\n",
       "      <td>2.0</td>\n",
       "      <td>2.0</td>\n",
       "      <td>2.0</td>\n",
       "      <td>0.0</td>\n",
       "      <td>0.0</td>\n",
       "      <td>0.0</td>\n",
       "      <td>0.0</td>\n",
       "      <td>2.0</td>\n",
       "      <td>2.0</td>\n",
       "      <td>0.0</td>\n",
       "      <td>...</td>\n",
       "      <td>2.0</td>\n",
       "      <td>0.0</td>\n",
       "      <td>0.0</td>\n",
       "      <td>0.0</td>\n",
       "      <td>0.0</td>\n",
       "      <td>2.0</td>\n",
       "      <td>2.0</td>\n",
       "      <td>2.0</td>\n",
       "      <td>0.0</td>\n",
       "      <td>0.0</td>\n",
       "    </tr>\n",
       "    <tr>\n",
       "      <th>2021-12-31 23:59:20</th>\n",
       "      <td>2.0</td>\n",
       "      <td>2.0</td>\n",
       "      <td>2.0</td>\n",
       "      <td>0.0</td>\n",
       "      <td>0.0</td>\n",
       "      <td>0.0</td>\n",
       "      <td>0.0</td>\n",
       "      <td>2.0</td>\n",
       "      <td>2.0</td>\n",
       "      <td>0.0</td>\n",
       "      <td>...</td>\n",
       "      <td>2.0</td>\n",
       "      <td>0.0</td>\n",
       "      <td>0.0</td>\n",
       "      <td>0.0</td>\n",
       "      <td>0.0</td>\n",
       "      <td>2.0</td>\n",
       "      <td>2.0</td>\n",
       "      <td>2.0</td>\n",
       "      <td>0.0</td>\n",
       "      <td>0.0</td>\n",
       "    </tr>\n",
       "    <tr>\n",
       "      <th>2021-12-31 23:59:30</th>\n",
       "      <td>2.0</td>\n",
       "      <td>2.0</td>\n",
       "      <td>2.0</td>\n",
       "      <td>0.0</td>\n",
       "      <td>0.0</td>\n",
       "      <td>0.0</td>\n",
       "      <td>0.0</td>\n",
       "      <td>2.0</td>\n",
       "      <td>2.0</td>\n",
       "      <td>0.0</td>\n",
       "      <td>...</td>\n",
       "      <td>2.0</td>\n",
       "      <td>0.0</td>\n",
       "      <td>0.0</td>\n",
       "      <td>0.0</td>\n",
       "      <td>0.0</td>\n",
       "      <td>2.0</td>\n",
       "      <td>2.0</td>\n",
       "      <td>2.0</td>\n",
       "      <td>0.0</td>\n",
       "      <td>0.0</td>\n",
       "    </tr>\n",
       "    <tr>\n",
       "      <th>2021-12-31 23:59:40</th>\n",
       "      <td>2.0</td>\n",
       "      <td>2.0</td>\n",
       "      <td>2.0</td>\n",
       "      <td>0.0</td>\n",
       "      <td>0.0</td>\n",
       "      <td>0.0</td>\n",
       "      <td>0.0</td>\n",
       "      <td>2.0</td>\n",
       "      <td>2.0</td>\n",
       "      <td>0.0</td>\n",
       "      <td>...</td>\n",
       "      <td>2.0</td>\n",
       "      <td>0.0</td>\n",
       "      <td>0.0</td>\n",
       "      <td>0.0</td>\n",
       "      <td>0.0</td>\n",
       "      <td>2.0</td>\n",
       "      <td>2.0</td>\n",
       "      <td>2.0</td>\n",
       "      <td>0.0</td>\n",
       "      <td>0.0</td>\n",
       "    </tr>\n",
       "    <tr>\n",
       "      <th>2021-12-31 23:59:50</th>\n",
       "      <td>2.0</td>\n",
       "      <td>2.0</td>\n",
       "      <td>2.0</td>\n",
       "      <td>0.0</td>\n",
       "      <td>0.0</td>\n",
       "      <td>0.0</td>\n",
       "      <td>0.0</td>\n",
       "      <td>2.0</td>\n",
       "      <td>2.0</td>\n",
       "      <td>0.0</td>\n",
       "      <td>...</td>\n",
       "      <td>2.0</td>\n",
       "      <td>0.0</td>\n",
       "      <td>0.0</td>\n",
       "      <td>0.0</td>\n",
       "      <td>0.0</td>\n",
       "      <td>2.0</td>\n",
       "      <td>2.0</td>\n",
       "      <td>2.0</td>\n",
       "      <td>0.0</td>\n",
       "      <td>0.0</td>\n",
       "    </tr>\n",
       "  </tbody>\n",
       "</table>\n",
       "<p>9335034 rows × 23 columns</p>\n",
       "</div>"
      ],
      "text/plain": [
       "                     Y_ЭКСГАУСТЕР А/М №4_ЭЛЕКТРОДВИГАТЕЛЬ ДСПУ-140-84-4 ЭКСГ. №4  \\\n",
       "DT                                                                                 \n",
       "2019-01-16 13:21:00                                                0.0             \n",
       "2019-01-16 13:21:10                                                0.0             \n",
       "2019-01-16 13:21:20                                                0.0             \n",
       "2019-01-16 13:21:30                                                0.0             \n",
       "2019-01-16 13:21:40                                                0.0             \n",
       "...                                                                ...             \n",
       "2021-12-31 23:59:10                                                2.0             \n",
       "2021-12-31 23:59:20                                                2.0             \n",
       "2021-12-31 23:59:30                                                2.0             \n",
       "2021-12-31 23:59:40                                                2.0             \n",
       "2021-12-31 23:59:50                                                2.0             \n",
       "\n",
       "                     Y_ЭКСГАУСТЕР А/М №4_ПОДШИПНИК ОПОРНЫЙ ЭКСГ. №4  \\\n",
       "DT                                                                    \n",
       "2019-01-16 13:21:00                                             0.0   \n",
       "2019-01-16 13:21:10                                             0.0   \n",
       "2019-01-16 13:21:20                                             0.0   \n",
       "2019-01-16 13:21:30                                             0.0   \n",
       "2019-01-16 13:21:40                                             0.0   \n",
       "...                                                             ...   \n",
       "2021-12-31 23:59:10                                             2.0   \n",
       "2021-12-31 23:59:20                                             2.0   \n",
       "2021-12-31 23:59:30                                             2.0   \n",
       "2021-12-31 23:59:40                                             2.0   \n",
       "2021-12-31 23:59:50                                             2.0   \n",
       "\n",
       "                     Y_ЭКСГАУСТЕР А/М №4_УЛИТА ЭКСГ. №4  \\\n",
       "DT                                                        \n",
       "2019-01-16 13:21:00                                 0.0   \n",
       "2019-01-16 13:21:10                                 0.0   \n",
       "2019-01-16 13:21:20                                 0.0   \n",
       "2019-01-16 13:21:30                                 0.0   \n",
       "2019-01-16 13:21:40                                 0.0   \n",
       "...                                                 ...   \n",
       "2021-12-31 23:59:10                                 2.0   \n",
       "2021-12-31 23:59:20                                 2.0   \n",
       "2021-12-31 23:59:30                                 2.0   \n",
       "2021-12-31 23:59:40                                 2.0   \n",
       "2021-12-31 23:59:50                                 2.0   \n",
       "\n",
       "                     Y_ЭКСГАУСТЕР А/М №4_РЕДУКТОР ГАЗ. ЗАДВИЖКИ ЭКСГ. №4  \\\n",
       "DT                                                                         \n",
       "2019-01-16 13:21:00                                                0.0     \n",
       "2019-01-16 13:21:10                                                0.0     \n",
       "2019-01-16 13:21:20                                                0.0     \n",
       "2019-01-16 13:21:30                                                0.0     \n",
       "2019-01-16 13:21:40                                                0.0     \n",
       "...                                                                ...     \n",
       "2021-12-31 23:59:10                                                0.0     \n",
       "2021-12-31 23:59:20                                                0.0     \n",
       "2021-12-31 23:59:30                                                0.0     \n",
       "2021-12-31 23:59:40                                                0.0     \n",
       "2021-12-31 23:59:50                                                0.0     \n",
       "\n",
       "                     Y_ЭКСГАУСТЕР А/М №4_МАСЛОНАСОС РАБОЧИЙ ЭКСГ. №4  \\\n",
       "DT                                                                     \n",
       "2019-01-16 13:21:00                                              0.0   \n",
       "2019-01-16 13:21:10                                              0.0   \n",
       "2019-01-16 13:21:20                                              0.0   \n",
       "2019-01-16 13:21:30                                              0.0   \n",
       "2019-01-16 13:21:40                                              0.0   \n",
       "...                                                              ...   \n",
       "2021-12-31 23:59:10                                              0.0   \n",
       "2021-12-31 23:59:20                                              0.0   \n",
       "2021-12-31 23:59:30                                              0.0   \n",
       "2021-12-31 23:59:40                                              0.0   \n",
       "2021-12-31 23:59:50                                              0.0   \n",
       "\n",
       "                     Y_ЭКСГАУСТЕР А/М №4_ЭЛЕКТРОАППАРАТУРА ЭКСГ. №4  \\\n",
       "DT                                                                    \n",
       "2019-01-16 13:21:00                                             0.0   \n",
       "2019-01-16 13:21:10                                             0.0   \n",
       "2019-01-16 13:21:20                                             0.0   \n",
       "2019-01-16 13:21:30                                             0.0   \n",
       "2019-01-16 13:21:40                                             0.0   \n",
       "...                                                             ...   \n",
       "2021-12-31 23:59:10                                             0.0   \n",
       "2021-12-31 23:59:20                                             0.0   \n",
       "2021-12-31 23:59:30                                             0.0   \n",
       "2021-12-31 23:59:40                                             0.0   \n",
       "2021-12-31 23:59:50                                             0.0   \n",
       "\n",
       "                     Y_ЭКСГАУСТЕР А/М №4_ПОДШИПНИК ОПОРНЫЙ №2 ЭКСГ. №4  \\\n",
       "DT                                                                       \n",
       "2019-01-16 13:21:00                                                0.0   \n",
       "2019-01-16 13:21:10                                                0.0   \n",
       "2019-01-16 13:21:20                                                0.0   \n",
       "2019-01-16 13:21:30                                                0.0   \n",
       "2019-01-16 13:21:40                                                0.0   \n",
       "...                                                                ...   \n",
       "2021-12-31 23:59:10                                                0.0   \n",
       "2021-12-31 23:59:20                                                0.0   \n",
       "2021-12-31 23:59:30                                                0.0   \n",
       "2021-12-31 23:59:40                                                0.0   \n",
       "2021-12-31 23:59:50                                                0.0   \n",
       "\n",
       "                     Y_ЭКСГАУСТЕР А/М №4_ЗАДВИЖКА ЭКСГ. №4  \\\n",
       "DT                                                           \n",
       "2019-01-16 13:21:00                                    0.0   \n",
       "2019-01-16 13:21:10                                    0.0   \n",
       "2019-01-16 13:21:20                                    0.0   \n",
       "2019-01-16 13:21:30                                    0.0   \n",
       "2019-01-16 13:21:40                                    0.0   \n",
       "...                                                    ...   \n",
       "2021-12-31 23:59:10                                    2.0   \n",
       "2021-12-31 23:59:20                                    2.0   \n",
       "2021-12-31 23:59:30                                    2.0   \n",
       "2021-12-31 23:59:40                                    2.0   \n",
       "2021-12-31 23:59:50                                    2.0   \n",
       "\n",
       "                     Y_ЭКСГАУСТЕР А/М №4_ГСМ ЭКСГ. №4  \\\n",
       "DT                                                      \n",
       "2019-01-16 13:21:00                               0.0   \n",
       "2019-01-16 13:21:10                               0.0   \n",
       "2019-01-16 13:21:20                               0.0   \n",
       "2019-01-16 13:21:30                               0.0   \n",
       "2019-01-16 13:21:40                               0.0   \n",
       "...                                               ...   \n",
       "2021-12-31 23:59:10                               2.0   \n",
       "2021-12-31 23:59:20                               2.0   \n",
       "2021-12-31 23:59:30                               2.0   \n",
       "2021-12-31 23:59:40                               2.0   \n",
       "2021-12-31 23:59:50                               2.0   \n",
       "\n",
       "                     Y_ЭКСГАУСТЕР А/М №4_ВК 310С ВИБРОПРЕОБРАЗОВАТЕЛЬ ЭКСГ.№4 Т.1  \\\n",
       "DT                                                                                  \n",
       "2019-01-16 13:21:00                                                0.0              \n",
       "2019-01-16 13:21:10                                                0.0              \n",
       "2019-01-16 13:21:20                                                0.0              \n",
       "2019-01-16 13:21:30                                                0.0              \n",
       "2019-01-16 13:21:40                                                0.0              \n",
       "...                                                                ...              \n",
       "2021-12-31 23:59:10                                                0.0              \n",
       "2021-12-31 23:59:20                                                0.0              \n",
       "2021-12-31 23:59:30                                                0.0              \n",
       "2021-12-31 23:59:40                                                0.0              \n",
       "2021-12-31 23:59:50                                                0.0              \n",
       "\n",
       "                     ...  \\\n",
       "DT                   ...   \n",
       "2019-01-16 13:21:00  ...   \n",
       "2019-01-16 13:21:10  ...   \n",
       "2019-01-16 13:21:20  ...   \n",
       "2019-01-16 13:21:30  ...   \n",
       "2019-01-16 13:21:40  ...   \n",
       "...                  ...   \n",
       "2021-12-31 23:59:10  ...   \n",
       "2021-12-31 23:59:20  ...   \n",
       "2021-12-31 23:59:30  ...   \n",
       "2021-12-31 23:59:40  ...   \n",
       "2021-12-31 23:59:50  ...   \n",
       "\n",
       "                     Y_ЭКСГАУСТЕР А/М №4_ПОДШИПНИК ОПОРНО-УПОРНЫЙ ЭКСГ. №4  \\\n",
       "DT                                                                           \n",
       "2019-01-16 13:21:00                                                0.0       \n",
       "2019-01-16 13:21:10                                                0.0       \n",
       "2019-01-16 13:21:20                                                0.0       \n",
       "2019-01-16 13:21:30                                                0.0       \n",
       "2019-01-16 13:21:40                                                0.0       \n",
       "...                                                                ...       \n",
       "2021-12-31 23:59:10                                                2.0       \n",
       "2021-12-31 23:59:20                                                2.0       \n",
       "2021-12-31 23:59:30                                                2.0       \n",
       "2021-12-31 23:59:40                                                2.0       \n",
       "2021-12-31 23:59:50                                                2.0       \n",
       "\n",
       "                     Y_ЭКСГАУСТЕР А/М №4_ЭКСГАУСТЕР А/М №4  \\\n",
       "DT                                                           \n",
       "2019-01-16 13:21:00                                    0.0   \n",
       "2019-01-16 13:21:10                                    0.0   \n",
       "2019-01-16 13:21:20                                    0.0   \n",
       "2019-01-16 13:21:30                                    0.0   \n",
       "2019-01-16 13:21:40                                    0.0   \n",
       "...                                                    ...   \n",
       "2021-12-31 23:59:10                                    0.0   \n",
       "2021-12-31 23:59:20                                    0.0   \n",
       "2021-12-31 23:59:30                                    0.0   \n",
       "2021-12-31 23:59:40                                    0.0   \n",
       "2021-12-31 23:59:50                                    0.0   \n",
       "\n",
       "                     Y_ЭКСГАУСТЕР А/М №4_ЗАП. И РЕГ. АРМАТУРА ЭКСГ.№4  \\\n",
       "DT                                                                      \n",
       "2019-01-16 13:21:00                                               0.0   \n",
       "2019-01-16 13:21:10                                               0.0   \n",
       "2019-01-16 13:21:20                                               0.0   \n",
       "2019-01-16 13:21:30                                               0.0   \n",
       "2019-01-16 13:21:40                                               0.0   \n",
       "...                                                               ...   \n",
       "2021-12-31 23:59:10                                               0.0   \n",
       "2021-12-31 23:59:20                                               0.0   \n",
       "2021-12-31 23:59:30                                               0.0   \n",
       "2021-12-31 23:59:40                                               0.0   \n",
       "2021-12-31 23:59:50                                               0.0   \n",
       "\n",
       "                     Y_ЭКСГАУСТЕР А/М №4_ПОДШИПНИК ОПОРНЫЙ №1 ЭКСГ. №4  \\\n",
       "DT                                                                       \n",
       "2019-01-16 13:21:00                                                0.0   \n",
       "2019-01-16 13:21:10                                                0.0   \n",
       "2019-01-16 13:21:20                                                0.0   \n",
       "2019-01-16 13:21:30                                                0.0   \n",
       "2019-01-16 13:21:40                                                0.0   \n",
       "...                                                                ...   \n",
       "2021-12-31 23:59:10                                                0.0   \n",
       "2021-12-31 23:59:20                                                0.0   \n",
       "2021-12-31 23:59:30                                                0.0   \n",
       "2021-12-31 23:59:40                                                0.0   \n",
       "2021-12-31 23:59:50                                                0.0   \n",
       "\n",
       "                     Y_ЭКСГАУСТЕР А/М №4_ЭЛ/ДВИГАТЕЛЬ ГАЗ. ЗАДВИЖКИ ЭКСГ. №4  \\\n",
       "DT                                                                             \n",
       "2019-01-16 13:21:00                                                0.0         \n",
       "2019-01-16 13:21:10                                                0.0         \n",
       "2019-01-16 13:21:20                                                0.0         \n",
       "2019-01-16 13:21:30                                                0.0         \n",
       "2019-01-16 13:21:40                                                0.0         \n",
       "...                                                                ...         \n",
       "2021-12-31 23:59:10                                                0.0         \n",
       "2021-12-31 23:59:20                                                0.0         \n",
       "2021-12-31 23:59:30                                                0.0         \n",
       "2021-12-31 23:59:40                                                0.0         \n",
       "2021-12-31 23:59:50                                                0.0         \n",
       "\n",
       "                     Y_ЭКСГАУСТЕР А/М №4_КЛ1 ТР№4 ДО ЭД ЭКСГАУСТЕРА №4  \\\n",
       "DT                                                                       \n",
       "2019-01-16 13:21:00                                                0.0   \n",
       "2019-01-16 13:21:10                                                0.0   \n",
       "2019-01-16 13:21:20                                                0.0   \n",
       "2019-01-16 13:21:30                                                0.0   \n",
       "2019-01-16 13:21:40                                                0.0   \n",
       "...                                                                ...   \n",
       "2021-12-31 23:59:10                                                2.0   \n",
       "2021-12-31 23:59:20                                                2.0   \n",
       "2021-12-31 23:59:30                                                2.0   \n",
       "2021-12-31 23:59:40                                                2.0   \n",
       "2021-12-31 23:59:50                                                2.0   \n",
       "\n",
       "                     Y_ЭКСГАУСТЕР А/М №4_КЛ2 ТР№4 ДО ЭД ЭКСГАУСТЕРА №4  \\\n",
       "DT                                                                       \n",
       "2019-01-16 13:21:00                                                0.0   \n",
       "2019-01-16 13:21:10                                                0.0   \n",
       "2019-01-16 13:21:20                                                0.0   \n",
       "2019-01-16 13:21:30                                                0.0   \n",
       "2019-01-16 13:21:40                                                0.0   \n",
       "...                                                                ...   \n",
       "2021-12-31 23:59:10                                                2.0   \n",
       "2021-12-31 23:59:20                                                2.0   \n",
       "2021-12-31 23:59:30                                                2.0   \n",
       "2021-12-31 23:59:40                                                2.0   \n",
       "2021-12-31 23:59:50                                                2.0   \n",
       "\n",
       "                     Y_ЭКСГАУСТЕР А/М №4_ТР-Р ТМ-4000-10/6 ЭКСГ. №4  \\\n",
       "DT                                                                    \n",
       "2019-01-16 13:21:00                                             0.0   \n",
       "2019-01-16 13:21:10                                             0.0   \n",
       "2019-01-16 13:21:20                                             0.0   \n",
       "2019-01-16 13:21:30                                             0.0   \n",
       "2019-01-16 13:21:40                                             0.0   \n",
       "...                                                             ...   \n",
       "2021-12-31 23:59:10                                             2.0   \n",
       "2021-12-31 23:59:20                                             2.0   \n",
       "2021-12-31 23:59:30                                             2.0   \n",
       "2021-12-31 23:59:40                                             2.0   \n",
       "2021-12-31 23:59:50                                             2.0   \n",
       "\n",
       "                     Y_ЭКСГАУСТЕР А/М №4_ТИРИСТ. ВОЗБУДИТЕЛЬ ВТ-РЭМ-400 ЭКСГ4 ВУ1  \\\n",
       "DT                                                                                  \n",
       "2019-01-16 13:21:00                                                0.0              \n",
       "2019-01-16 13:21:10                                                0.0              \n",
       "2019-01-16 13:21:20                                                0.0              \n",
       "2019-01-16 13:21:30                                                0.0              \n",
       "2019-01-16 13:21:40                                                0.0              \n",
       "...                                                                ...              \n",
       "2021-12-31 23:59:10                                                0.0              \n",
       "2021-12-31 23:59:20                                                0.0              \n",
       "2021-12-31 23:59:30                                                0.0              \n",
       "2021-12-31 23:59:40                                                0.0              \n",
       "2021-12-31 23:59:50                                                0.0              \n",
       "\n",
       "                     Y_ЭКСГАУСТЕР А/М №4_МАСЛОПРОВОДЫ ЭКСГ №4  \n",
       "DT                                                             \n",
       "2019-01-16 13:21:00                                       0.0  \n",
       "2019-01-16 13:21:10                                       0.0  \n",
       "2019-01-16 13:21:20                                       0.0  \n",
       "2019-01-16 13:21:30                                       0.0  \n",
       "2019-01-16 13:21:40                                       0.0  \n",
       "...                                                       ...  \n",
       "2021-12-31 23:59:10                                       0.0  \n",
       "2021-12-31 23:59:20                                       0.0  \n",
       "2021-12-31 23:59:30                                       0.0  \n",
       "2021-12-31 23:59:40                                       0.0  \n",
       "2021-12-31 23:59:50                                       0.0  \n",
       "\n",
       "[9335034 rows x 23 columns]"
      ]
     },
     "execution_count": 4,
     "metadata": {},
     "output_type": "execute_result"
    }
   ],
   "source": [
    "y_train = pd.read_csv(\"/kaggle/input/y-train-northsteel-instances/y_ЭКСГАУСТЕР АМ 4.csv\", parse_dates=True)\n",
    "y_train = y_train.set_index(\"DT\")\n",
    "y_train"
   ]
  },
  {
   "cell_type": "code",
   "execution_count": 5,
   "id": "9fb5436d",
   "metadata": {
    "execution": {
     "iopub.execute_input": "2023-05-28T20:46:50.752631Z",
     "iopub.status.busy": "2023-05-28T20:46:50.751956Z",
     "iopub.status.idle": "2023-05-28T20:46:56.627057Z",
     "shell.execute_reply": "2023-05-28T20:46:56.625573Z"
    },
    "papermill": {
     "duration": 5.883899,
     "end_time": "2023-05-28T20:46:56.629753",
     "exception": false,
     "start_time": "2023-05-28T20:46:50.745854",
     "status": "completed"
    },
    "tags": []
   },
   "outputs": [
    {
     "name": "stdout",
     "output_type": "stream",
     "text": [
      "Y_ЭКСГАУСТЕР А/М №4_ЭЛЕКТРОДВИГАТЕЛЬ ДСПУ-140-84-4 ЭКСГ. №4 M1 [0 1]\n",
      "Y_ЭКСГАУСТЕР А/М №4_ЭЛЕКТРОДВИГАТЕЛЬ ДСПУ-140-84-4 ЭКСГ. №4 M3 [0 1]\n",
      "Y_ЭКСГАУСТЕР А/М №4_ПОДШИПНИК ОПОРНЫЙ ЭКСГ. №4 M1 [0]\n",
      "Y_ЭКСГАУСТЕР А/М №4_ПОДШИПНИК ОПОРНЫЙ ЭКСГ. №4 M3 [0 1]\n",
      "Y_ЭКСГАУСТЕР А/М №4_УЛИТА ЭКСГ. №4 M1 [0]\n",
      "Y_ЭКСГАУСТЕР А/М №4_УЛИТА ЭКСГ. №4 M3 [0 1]\n",
      "Y_ЭКСГАУСТЕР А/М №4_РЕДУКТОР ГАЗ. ЗАДВИЖКИ ЭКСГ. №4 M1 [0 1]\n",
      "Y_ЭКСГАУСТЕР А/М №4_РЕДУКТОР ГАЗ. ЗАДВИЖКИ ЭКСГ. №4 M3 [0 1]\n",
      "Y_ЭКСГАУСТЕР А/М №4_МАСЛОНАСОС РАБОЧИЙ ЭКСГ. №4 M1 [0]\n",
      "Y_ЭКСГАУСТЕР А/М №4_МАСЛОНАСОС РАБОЧИЙ ЭКСГ. №4 M3 [0 1]\n",
      "Y_ЭКСГАУСТЕР А/М №4_ЭЛЕКТРОАППАРАТУРА ЭКСГ. №4 M1 [0 1]\n",
      "Y_ЭКСГАУСТЕР А/М №4_ЭЛЕКТРОАППАРАТУРА ЭКСГ. №4 M3 [0 1]\n",
      "Y_ЭКСГАУСТЕР А/М №4_ПОДШИПНИК ОПОРНЫЙ №2 ЭКСГ. №4 M1 [0 1]\n",
      "Y_ЭКСГАУСТЕР А/М №4_ПОДШИПНИК ОПОРНЫЙ №2 ЭКСГ. №4 M3 [0 1]\n",
      "Y_ЭКСГАУСТЕР А/М №4_ЗАДВИЖКА ЭКСГ. №4 M1 [0 1]\n",
      "Y_ЭКСГАУСТЕР А/М №4_ЗАДВИЖКА ЭКСГ. №4 M3 [0 1]\n",
      "Y_ЭКСГАУСТЕР А/М №4_ГСМ ЭКСГ. №4 M1 [0]\n",
      "Y_ЭКСГАУСТЕР А/М №4_ГСМ ЭКСГ. №4 M3 [0 1]\n",
      "Y_ЭКСГАУСТЕР А/М №4_ВК 310С ВИБРОПРЕОБРАЗОВАТЕЛЬ ЭКСГ.№4 Т.1 M1 [0]\n",
      "Y_ЭКСГАУСТЕР А/М №4_ВК 310С ВИБРОПРЕОБРАЗОВАТЕЛЬ ЭКСГ.№4 Т.1 M3 [0 1]\n",
      "Y_ЭКСГАУСТЕР А/М №4_ТСМТ-101-010-50М-400 ТЕРМОПР.ПОДШ.Т.1 M1 [0]\n",
      "Y_ЭКСГАУСТЕР А/М №4_ТСМТ-101-010-50М-400 ТЕРМОПР.ПОДШ.Т.1 M3 [0 1]\n",
      "Y_ЭКСГАУСТЕР А/М №4_РОТОР ЭКСГ. №4 M1 [0 1]\n",
      "Y_ЭКСГАУСТЕР А/М №4_РОТОР ЭКСГ. №4 M3 [0 1]\n",
      "Y_ЭКСГАУСТЕР А/М №4_МАСЛООХЛАДИТЕЛЬ  М-05-1 ЭКСГ. №4 M1 [0]\n",
      "Y_ЭКСГАУСТЕР А/М №4_МАСЛООХЛАДИТЕЛЬ  М-05-1 ЭКСГ. №4 M3 [0 1]\n",
      "Y_ЭКСГАУСТЕР А/М №4_ПОДШИПНИК ОПОРНО-УПОРНЫЙ ЭКСГ. №4 M1 [0 1]\n",
      "Y_ЭКСГАУСТЕР А/М №4_ПОДШИПНИК ОПОРНО-УПОРНЫЙ ЭКСГ. №4 M3 [0 1]\n",
      "Y_ЭКСГАУСТЕР А/М №4_ЭКСГАУСТЕР А/М №4 M1 [0 1]\n",
      "Y_ЭКСГАУСТЕР А/М №4_ЭКСГАУСТЕР А/М №4 M3 [0]\n",
      "Y_ЭКСГАУСТЕР А/М №4_ЗАП. И РЕГ. АРМАТУРА ЭКСГ.№4 M1 [0]\n",
      "Y_ЭКСГАУСТЕР А/М №4_ЗАП. И РЕГ. АРМАТУРА ЭКСГ.№4 M3 [0 1]\n",
      "Y_ЭКСГАУСТЕР А/М №4_ПОДШИПНИК ОПОРНЫЙ №1 ЭКСГ. №4 M1 [0]\n",
      "Y_ЭКСГАУСТЕР А/М №4_ПОДШИПНИК ОПОРНЫЙ №1 ЭКСГ. №4 M3 [0 1]\n",
      "Y_ЭКСГАУСТЕР А/М №4_ЭЛ/ДВИГАТЕЛЬ ГАЗ. ЗАДВИЖКИ ЭКСГ. №4 M1 [0]\n",
      "Y_ЭКСГАУСТЕР А/М №4_ЭЛ/ДВИГАТЕЛЬ ГАЗ. ЗАДВИЖКИ ЭКСГ. №4 M3 [0 1]\n",
      "Y_ЭКСГАУСТЕР А/М №4_КЛ1 ТР№4 ДО ЭД ЭКСГАУСТЕРА №4 M1 [0]\n",
      "Y_ЭКСГАУСТЕР А/М №4_КЛ1 ТР№4 ДО ЭД ЭКСГАУСТЕРА №4 M3 [0 1]\n",
      "Y_ЭКСГАУСТЕР А/М №4_КЛ2 ТР№4 ДО ЭД ЭКСГАУСТЕРА №4 M1 [0]\n",
      "Y_ЭКСГАУСТЕР А/М №4_КЛ2 ТР№4 ДО ЭД ЭКСГАУСТЕРА №4 M3 [0 1]\n",
      "Y_ЭКСГАУСТЕР А/М №4_ТР-Р ТМ-4000-10/6 ЭКСГ. №4 M1 [0]\n",
      "Y_ЭКСГАУСТЕР А/М №4_ТР-Р ТМ-4000-10/6 ЭКСГ. №4 M3 [0 1]\n",
      "Y_ЭКСГАУСТЕР А/М №4_ТИРИСТ. ВОЗБУДИТЕЛЬ ВТ-РЭМ-400 ЭКСГ4 ВУ1 M1 [0]\n",
      "Y_ЭКСГАУСТЕР А/М №4_ТИРИСТ. ВОЗБУДИТЕЛЬ ВТ-РЭМ-400 ЭКСГ4 ВУ1 M3 [0 1]\n",
      "Y_ЭКСГАУСТЕР А/М №4_МАСЛОПРОВОДЫ ЭКСГ №4 M1 [0]\n",
      "Y_ЭКСГАУСТЕР А/М №4_МАСЛОПРОВОДЫ ЭКСГ №4 M3 [0]\n"
     ]
    }
   ],
   "source": [
    "for col in y_train.columns:\n",
    "    if not ((col[-2:] == \"M1\") or (col[-2:] ==\"M3\")):\n",
    "        y_train[col+\" M1\"] = 1*(y_train[col]==1)\n",
    "        y_train[col+\" M3\"] = 1*(y_train[col]==2)\n",
    "        del y_train[col]\n",
    "for col in y_train.columns:\n",
    "    print(col, y_train[col].unique())"
   ]
  },
  {
   "cell_type": "code",
   "execution_count": 6,
   "id": "dfea028d",
   "metadata": {
    "execution": {
     "iopub.execute_input": "2023-05-28T20:46:56.646256Z",
     "iopub.status.busy": "2023-05-28T20:46:56.645442Z",
     "iopub.status.idle": "2023-05-28T20:47:43.376182Z",
     "shell.execute_reply": "2023-05-28T20:47:43.375324Z"
    },
    "papermill": {
     "duration": 46.756747,
     "end_time": "2023-05-28T20:47:43.394795",
     "exception": false,
     "start_time": "2023-05-28T20:46:56.638048",
     "status": "completed"
    },
    "tags": []
   },
   "outputs": [
    {
     "data": {
      "text/plain": [
       "array([Timestamp('2019-01-16 13:21:00'), Timestamp('2019-01-16 13:21:10'),\n",
       "       Timestamp('2019-01-16 13:21:20'), ...,\n",
       "       Timestamp('2021-12-31 23:59:30'), Timestamp('2021-12-31 23:59:40'),\n",
       "       Timestamp('2021-12-31 23:59:50')], dtype=object)"
      ]
     },
     "execution_count": 6,
     "metadata": {},
     "output_type": "execute_result"
    }
   ],
   "source": [
    "for i,x in enumerate(y_train.index.values):\n",
    "    y_train.index.values[i] = pd.Timestamp(y_train.index.values[i])\n",
    "y_train.index.values"
   ]
  },
  {
   "cell_type": "code",
   "execution_count": 7,
   "id": "028eb5ca",
   "metadata": {
    "execution": {
     "iopub.execute_input": "2023-05-28T20:47:43.409287Z",
     "iopub.status.busy": "2023-05-28T20:47:43.408346Z",
     "iopub.status.idle": "2023-05-28T20:48:30.320414Z",
     "shell.execute_reply": "2023-05-28T20:48:30.319290Z"
    },
    "papermill": {
     "duration": 46.922222,
     "end_time": "2023-05-28T20:48:30.323117",
     "exception": false,
     "start_time": "2023-05-28T20:47:43.400895",
     "status": "completed"
    },
    "tags": []
   },
   "outputs": [],
   "source": [
    "shifted = y_train.index.values+pd.Timedelta(minutes = 90)"
   ]
  },
  {
   "cell_type": "code",
   "execution_count": 8,
   "id": "8f86aa5f",
   "metadata": {
    "execution": {
     "iopub.execute_input": "2023-05-28T20:48:30.337655Z",
     "iopub.status.busy": "2023-05-28T20:48:30.337154Z",
     "iopub.status.idle": "2023-05-28T20:50:30.955018Z",
     "shell.execute_reply": "2023-05-28T20:50:30.953919Z"
    },
    "papermill": {
     "duration": 120.627981,
     "end_time": "2023-05-28T20:50:30.957781",
     "exception": false,
     "start_time": "2023-05-28T20:48:30.329800",
     "status": "completed"
    },
    "tags": []
   },
   "outputs": [],
   "source": [
    "\n",
    "index = sorted(set(shifted).intersection(X_train.index.values))\n",
    "y_train = y_train.loc[index]\n",
    "y_train = y_train.dropna()\n",
    "index = y_train.index.values\n",
    "X_train = X_train.loc[index]"
   ]
  },
  {
   "cell_type": "code",
   "execution_count": 9,
   "id": "108c4853",
   "metadata": {
    "execution": {
     "iopub.execute_input": "2023-05-28T20:50:30.972079Z",
     "iopub.status.busy": "2023-05-28T20:50:30.971725Z",
     "iopub.status.idle": "2023-05-28T20:50:30.977889Z",
     "shell.execute_reply": "2023-05-28T20:50:30.976986Z"
    },
    "papermill": {
     "duration": 0.01556,
     "end_time": "2023-05-28T20:50:30.979940",
     "exception": false,
     "start_time": "2023-05-28T20:50:30.964380",
     "status": "completed"
    },
    "tags": []
   },
   "outputs": [
    {
     "data": {
      "text/plain": [
       "array([Timestamp('2019-01-16 14:51:00'), Timestamp('2019-01-16 14:51:10'),\n",
       "       Timestamp('2019-01-16 14:51:20'), ...,\n",
       "       Timestamp('2022-01-01 01:29:30'), Timestamp('2022-01-01 01:29:40'),\n",
       "       Timestamp('2022-01-01 01:29:50')], dtype=object)"
      ]
     },
     "execution_count": 9,
     "metadata": {},
     "output_type": "execute_result"
    }
   ],
   "source": [
    "shifted"
   ]
  },
  {
   "cell_type": "code",
   "execution_count": 10,
   "id": "351f726f",
   "metadata": {
    "execution": {
     "iopub.execute_input": "2023-05-28T20:50:30.993245Z",
     "iopub.status.busy": "2023-05-28T20:50:30.992908Z",
     "iopub.status.idle": "2023-05-28T20:50:30.999075Z",
     "shell.execute_reply": "2023-05-28T20:50:30.998199Z"
    },
    "papermill": {
     "duration": 0.014973,
     "end_time": "2023-05-28T20:50:31.000978",
     "exception": false,
     "start_time": "2023-05-28T20:50:30.986005",
     "status": "completed"
    },
    "tags": []
   },
   "outputs": [
    {
     "data": {
      "text/plain": [
       "array([Timestamp('2019-01-16 14:51:00'), Timestamp('2019-01-16 14:51:10'),\n",
       "       Timestamp('2019-01-16 14:51:20'), ...,\n",
       "       Timestamp('2021-06-21 19:43:00'), Timestamp('2021-07-01 23:41:10'),\n",
       "       Timestamp('2021-09-17 14:14:30')], dtype=object)"
      ]
     },
     "execution_count": 10,
     "metadata": {},
     "output_type": "execute_result"
    }
   ],
   "source": [
    "X_train.index.values"
   ]
  },
  {
   "cell_type": "code",
   "execution_count": 11,
   "id": "765ecabf",
   "metadata": {
    "execution": {
     "iopub.execute_input": "2023-05-28T20:50:31.014668Z",
     "iopub.status.busy": "2023-05-28T20:50:31.014337Z",
     "iopub.status.idle": "2023-05-28T20:50:31.018286Z",
     "shell.execute_reply": "2023-05-28T20:50:31.017545Z"
    },
    "papermill": {
     "duration": 0.013179,
     "end_time": "2023-05-28T20:50:31.020347",
     "exception": false,
     "start_time": "2023-05-28T20:50:31.007168",
     "status": "completed"
    },
    "tags": []
   },
   "outputs": [],
   "source": [
    "def featurize(df):\n",
    "    return df"
   ]
  },
  {
   "cell_type": "code",
   "execution_count": 12,
   "id": "eef0f114",
   "metadata": {
    "execution": {
     "iopub.execute_input": "2023-05-28T20:50:31.034420Z",
     "iopub.status.busy": "2023-05-28T20:50:31.033735Z",
     "iopub.status.idle": "2023-05-28T21:20:15.027567Z",
     "shell.execute_reply": "2023-05-28T21:20:15.026401Z"
    },
    "papermill": {
     "duration": 1784.00401,
     "end_time": "2023-05-28T21:20:15.030518",
     "exception": false,
     "start_time": "2023-05-28T20:50:31.026508",
     "status": "completed"
    },
    "tags": []
   },
   "outputs": [
    {
     "data": {
      "application/vnd.jupyter.widget-view+json": {
       "model_id": "5abce979b85e473b801dcb5a1401887e",
       "version_major": 2,
       "version_minor": 0
      },
      "text/plain": [
       "MetricVisualizer(layout=Layout(align_self='stretch', height='500px'))"
      ]
     },
     "metadata": {},
     "output_type": "display_data"
    },
    {
     "name": "stdout",
     "output_type": "stream",
     "text": [
      "0:\tlearn: 0.6613846\ttest: 0.6636030\tbest: 0.6636030 (0)\ttotal: 596ms\tremaining: 59s\n",
      "50:\tlearn: 0.1134354\ttest: 0.1136130\tbest: 0.1136130 (50)\ttotal: 21.6s\tremaining: 20.8s\n",
      "99:\tlearn: 0.0249767\ttest: 0.0250103\tbest: 0.0250103 (99)\ttotal: 41.5s\tremaining: 0us\n",
      "\n",
      "bestTest = 0.02501030475\n",
      "bestIteration = 99\n",
      "\n",
      "                                           0\n",
      "ТОК РОТОРА 1                        1.324666\n",
      "ТОК РОТОРА 2                        3.070358\n",
      "ТОК СТАТОРА                         0.646424\n",
      "ВИБРАЦИЯ НА ОПОРЕ 1                 3.027169\n",
      "ВИБРАЦИЯ НА ОПОРЕ 2                 5.116405\n",
      "ВИБРАЦИЯ НА ОПОРЕ 3                 3.776292\n",
      "ВИБРАЦИЯ НА ОПОРЕ 3. ПРОДОЛЬНАЯ     3.682038\n",
      "ВИБРАЦИЯ НА ОПОРЕ 4                 3.079217\n",
      "ВИБРАЦИЯ НА ОПОРЕ 4. ПРОДОЛЬНАЯ     4.049736\n",
      "ТЕМПЕРАТУРА ПОДШИПНИКА НА ОПОРЕ 1   3.768571\n",
      "ТЕМПЕРАТУРА ПОДШИПНИКА НА ОПОРЕ 2  18.957854\n",
      "ТЕМПЕРАТУРА ПОДШИПНИКА НА ОПОРЕ 3  35.525717\n",
      "ТЕМПЕРАТУРА ПОДШИПНИКА НА ОПОРЕ 4   3.117961\n",
      "ТЕМПЕРАТУРА МАСЛА В МАСЛОБЛОКЕ      4.188782\n",
      "ТЕМПЕРАТУРА МАСЛА В СИСТЕМЕ         3.949578\n",
      "ДАВЛЕНИЕ МАСЛА В СИСТЕМЕ            2.719232\n",
      "Y_ЭКСГАУСТЕР А/М №4_ЭЛЕКТРОДВИГАТЕЛЬ ДСПУ-140-84-4 ЭКСГ. №4 M1 None 0 0 0\n"
     ]
    },
    {
     "data": {
      "application/vnd.jupyter.widget-view+json": {
       "model_id": "77fce8a6dd4b4f048863bf7908896b8b",
       "version_major": 2,
       "version_minor": 0
      },
      "text/plain": [
       "MetricVisualizer(layout=Layout(align_self='stretch', height='500px'))"
      ]
     },
     "metadata": {},
     "output_type": "display_data"
    },
    {
     "name": "stdout",
     "output_type": "stream",
     "text": [
      "0:\tlearn: 0.6718219\ttest: 0.6724297\tbest: 0.6724297 (0)\ttotal: 478ms\tremaining: 47.4s\n",
      "50:\tlearn: 0.2505867\ttest: 0.2648890\tbest: 0.2648890 (50)\ttotal: 21s\tremaining: 20.2s\n",
      "99:\tlearn: 0.1421182\ttest: 0.1547519\tbest: 0.1547519 (99)\ttotal: 41.4s\tremaining: 0us\n",
      "\n",
      "bestTest = 0.1547519374\n",
      "bestIteration = 99\n",
      "\n",
      "                                           0\n",
      "ТОК РОТОРА 1                        9.010891\n",
      "ТОК РОТОРА 2                       10.985295\n",
      "ТОК СТАТОРА                         1.536063\n",
      "ВИБРАЦИЯ НА ОПОРЕ 1                 1.016276\n",
      "ВИБРАЦИЯ НА ОПОРЕ 2                 1.162132\n",
      "ВИБРАЦИЯ НА ОПОРЕ 3                 2.543940\n",
      "ВИБРАЦИЯ НА ОПОРЕ 3. ПРОДОЛЬНАЯ     9.477027\n",
      "ВИБРАЦИЯ НА ОПОРЕ 4                 6.707900\n",
      "ВИБРАЦИЯ НА ОПОРЕ 4. ПРОДОЛЬНАЯ     5.713552\n",
      "ТЕМПЕРАТУРА ПОДШИПНИКА НА ОПОРЕ 1   2.088396\n",
      "ТЕМПЕРАТУРА ПОДШИПНИКА НА ОПОРЕ 2  13.647488\n",
      "ТЕМПЕРАТУРА ПОДШИПНИКА НА ОПОРЕ 3   1.753291\n",
      "ТЕМПЕРАТУРА ПОДШИПНИКА НА ОПОРЕ 4   0.671676\n",
      "ТЕМПЕРАТУРА МАСЛА В МАСЛОБЛОКЕ      0.000000\n",
      "ТЕМПЕРАТУРА МАСЛА В СИСТЕМЕ        24.958728\n",
      "ДАВЛЕНИЕ МАСЛА В СИСТЕМЕ            8.727344\n",
      "Y_ЭКСГАУСТЕР А/М №4_ЭЛЕКТРОДВИГАТЕЛЬ ДСПУ-140-84-4 ЭКСГ. №4 M3 0.9647381756756757 4569 50 117\n"
     ]
    },
    {
     "data": {
      "application/vnd.jupyter.widget-view+json": {
       "model_id": "4d3c6a089eed4d678fb5083ebbf57196",
       "version_major": 2,
       "version_minor": 0
      },
      "text/plain": [
       "MetricVisualizer(layout=Layout(align_self='stretch', height='500px'))"
      ]
     },
     "metadata": {},
     "output_type": "display_data"
    },
    {
     "name": "stdout",
     "output_type": "stream",
     "text": [
      "0:\tlearn: 0.6748656\ttest: 0.6757070\tbest: 0.6757070 (0)\ttotal: 459ms\tremaining: 45.4s\n",
      "50:\tlearn: 0.2773820\ttest: 0.2891446\tbest: 0.2891446 (50)\ttotal: 21.5s\tremaining: 20.6s\n",
      "99:\tlearn: 0.1636583\ttest: 0.1746971\tbest: 0.1746971 (99)\ttotal: 42s\tremaining: 0us\n",
      "\n",
      "bestTest = 0.1746970837\n",
      "bestIteration = 99\n",
      "\n",
      "                                           0\n",
      "ТОК РОТОРА 1                        8.313558\n",
      "ТОК РОТОРА 2                        6.953954\n",
      "ТОК СТАТОРА                         2.156658\n",
      "ВИБРАЦИЯ НА ОПОРЕ 1                 0.573122\n",
      "ВИБРАЦИЯ НА ОПОРЕ 2                 1.910513\n",
      "ВИБРАЦИЯ НА ОПОРЕ 3                 0.515975\n",
      "ВИБРАЦИЯ НА ОПОРЕ 3. ПРОДОЛЬНАЯ     4.562979\n",
      "ВИБРАЦИЯ НА ОПОРЕ 4                 6.846896\n",
      "ВИБРАЦИЯ НА ОПОРЕ 4. ПРОДОЛЬНАЯ    14.946072\n",
      "ТЕМПЕРАТУРА ПОДШИПНИКА НА ОПОРЕ 1   5.142476\n",
      "ТЕМПЕРАТУРА ПОДШИПНИКА НА ОПОРЕ 2  14.634825\n",
      "ТЕМПЕРАТУРА ПОДШИПНИКА НА ОПОРЕ 3   4.424403\n",
      "ТЕМПЕРАТУРА ПОДШИПНИКА НА ОПОРЕ 4   0.000000\n",
      "ТЕМПЕРАТУРА МАСЛА В МАСЛОБЛОКЕ      0.000000\n",
      "ТЕМПЕРАТУРА МАСЛА В СИСТЕМЕ        19.921455\n",
      "ДАВЛЕНИЕ МАСЛА В СИСТЕМЕ            9.097116\n",
      "Y_ЭКСГАУСТЕР А/М №4_ПОДШИПНИК ОПОРНЫЙ ЭКСГ. №4 M3 0.9511737089201878 5065 170 90\n"
     ]
    },
    {
     "data": {
      "application/vnd.jupyter.widget-view+json": {
       "model_id": "2f693ee2f01d4c8ea3e6b1bd85fb77e3",
       "version_major": 2,
       "version_minor": 0
      },
      "text/plain": [
       "MetricVisualizer(layout=Layout(align_self='stretch', height='500px'))"
      ]
     },
     "metadata": {},
     "output_type": "display_data"
    },
    {
     "name": "stdout",
     "output_type": "stream",
     "text": [
      "0:\tlearn: 0.6658308\ttest: 0.6671164\tbest: 0.6671164 (0)\ttotal: 485ms\tremaining: 48s\n",
      "50:\tlearn: 0.1732996\ttest: 0.1642192\tbest: 0.1642192 (50)\ttotal: 24.1s\tremaining: 23.2s\n",
      "99:\tlearn: 0.0796865\ttest: 0.0687513\tbest: 0.0687513 (99)\ttotal: 46.1s\tremaining: 0us\n",
      "\n",
      "bestTest = 0.0687512965\n",
      "bestIteration = 99\n",
      "\n",
      "                                           0\n",
      "ТОК РОТОРА 1                        1.635802\n",
      "ТОК РОТОРА 2                        1.293358\n",
      "ТОК СТАТОРА                         0.746613\n",
      "ВИБРАЦИЯ НА ОПОРЕ 1                18.355282\n",
      "ВИБРАЦИЯ НА ОПОРЕ 2                 1.167924\n",
      "ВИБРАЦИЯ НА ОПОРЕ 3                 2.247136\n",
      "ВИБРАЦИЯ НА ОПОРЕ 3. ПРОДОЛЬНАЯ    11.127210\n",
      "ВИБРАЦИЯ НА ОПОРЕ 4                 5.531182\n",
      "ВИБРАЦИЯ НА ОПОРЕ 4. ПРОДОЛЬНАЯ    30.220997\n",
      "ТЕМПЕРАТУРА ПОДШИПНИКА НА ОПОРЕ 1   1.966678\n",
      "ТЕМПЕРАТУРА ПОДШИПНИКА НА ОПОРЕ 2   1.815607\n",
      "ТЕМПЕРАТУРА ПОДШИПНИКА НА ОПОРЕ 3   0.312336\n",
      "ТЕМПЕРАТУРА ПОДШИПНИКА НА ОПОРЕ 4   3.871828\n",
      "ТЕМПЕРАТУРА МАСЛА В МАСЛОБЛОКЕ      0.969298\n",
      "ТЕМПЕРАТУРА МАСЛА В СИСТЕМЕ         2.893041\n",
      "ДАВЛЕНИЕ МАСЛА В СИСТЕМЕ           15.845706\n",
      "Y_ЭКСГАУСТЕР А/М №4_УЛИТА ЭКСГ. №4 M3 0.9816606660666066 8725 124 39\n"
     ]
    },
    {
     "data": {
      "application/vnd.jupyter.widget-view+json": {
       "model_id": "a0f0d56976e647e38440098fd55108b3",
       "version_major": 2,
       "version_minor": 0
      },
      "text/plain": [
       "MetricVisualizer(layout=Layout(align_self='stretch', height='500px'))"
      ]
     },
     "metadata": {},
     "output_type": "display_data"
    },
    {
     "name": "stdout",
     "output_type": "stream",
     "text": [
      "0:\tlearn: 0.6728652\ttest: 0.6719398\tbest: 0.6719398 (0)\ttotal: 390ms\tremaining: 38.6s\n",
      "50:\tlearn: 0.2478344\ttest: 0.2401425\tbest: 0.2401425 (50)\ttotal: 21s\tremaining: 20.2s\n",
      "99:\tlearn: 0.1533987\ttest: 0.1461334\tbest: 0.1461334 (99)\ttotal: 41s\tremaining: 0us\n",
      "\n",
      "bestTest = 0.1461333772\n",
      "bestIteration = 99\n",
      "\n",
      "                                           0\n",
      "ТОК РОТОРА 1                       24.694025\n",
      "ТОК РОТОРА 2                       20.294652\n",
      "ТОК СТАТОРА                         0.308938\n",
      "ВИБРАЦИЯ НА ОПОРЕ 1                11.184531\n",
      "ВИБРАЦИЯ НА ОПОРЕ 2                 2.993104\n",
      "ВИБРАЦИЯ НА ОПОРЕ 3                 1.061483\n",
      "ВИБРАЦИЯ НА ОПОРЕ 3. ПРОДОЛЬНАЯ     5.729449\n",
      "ВИБРАЦИЯ НА ОПОРЕ 4                 4.015559\n",
      "ВИБРАЦИЯ НА ОПОРЕ 4. ПРОДОЛЬНАЯ     3.887502\n",
      "ТЕМПЕРАТУРА ПОДШИПНИКА НА ОПОРЕ 1   8.058813\n",
      "ТЕМПЕРАТУРА ПОДШИПНИКА НА ОПОРЕ 2   1.278915\n",
      "ТЕМПЕРАТУРА ПОДШИПНИКА НА ОПОРЕ 3   0.062693\n",
      "ТЕМПЕРАТУРА ПОДШИПНИКА НА ОПОРЕ 4   1.825153\n",
      "ТЕМПЕРАТУРА МАСЛА В МАСЛОБЛОКЕ      0.027926\n",
      "ТЕМПЕРАТУРА МАСЛА В СИСТЕМЕ         6.004337\n",
      "ДАВЛЕНИЕ МАСЛА В СИСТЕМЕ            8.572921\n",
      "Y_ЭКСГАУСТЕР А/М №4_РЕДУКТОР ГАЗ. ЗАДВИЖКИ ЭКСГ. №4 M3 0.943524579643178 7351 295 145\n"
     ]
    },
    {
     "data": {
      "application/vnd.jupyter.widget-view+json": {
       "model_id": "addca691b47942e1bb1db54ed7d97a62",
       "version_major": 2,
       "version_minor": 0
      },
      "text/plain": [
       "MetricVisualizer(layout=Layout(align_self='stretch', height='500px'))"
      ]
     },
     "metadata": {},
     "output_type": "display_data"
    },
    {
     "name": "stdout",
     "output_type": "stream",
     "text": [
      "0:\tlearn: 0.6636730\ttest: 0.6659171\tbest: 0.6659171 (0)\ttotal: 592ms\tremaining: 58.6s\n",
      "50:\tlearn: 0.1439724\ttest: 0.1466183\tbest: 0.1466183 (50)\ttotal: 23.1s\tremaining: 22.2s\n",
      "99:\tlearn: 0.0489757\ttest: 0.0521934\tbest: 0.0521934 (99)\ttotal: 47.8s\tremaining: 0us\n",
      "\n",
      "bestTest = 0.05219340613\n",
      "bestIteration = 99\n",
      "\n",
      "                                           0\n",
      "ТОК РОТОРА 1                       14.527357\n",
      "ТОК РОТОРА 2                       12.228329\n",
      "ТОК СТАТОРА                         0.000000\n",
      "ВИБРАЦИЯ НА ОПОРЕ 1                 1.659357\n",
      "ВИБРАЦИЯ НА ОПОРЕ 2                 1.530893\n",
      "ВИБРАЦИЯ НА ОПОРЕ 3                12.139056\n",
      "ВИБРАЦИЯ НА ОПОРЕ 3. ПРОДОЛЬНАЯ     1.525937\n",
      "ВИБРАЦИЯ НА ОПОРЕ 4                 1.236751\n",
      "ВИБРАЦИЯ НА ОПОРЕ 4. ПРОДОЛЬНАЯ    11.961038\n",
      "ТЕМПЕРАТУРА ПОДШИПНИКА НА ОПОРЕ 1  10.334709\n",
      "ТЕМПЕРАТУРА ПОДШИПНИКА НА ОПОРЕ 2   0.342077\n",
      "ТЕМПЕРАТУРА ПОДШИПНИКА НА ОПОРЕ 3   0.688763\n",
      "ТЕМПЕРАТУРА ПОДШИПНИКА НА ОПОРЕ 4   4.074822\n",
      "ТЕМПЕРАТУРА МАСЛА В МАСЛОБЛОКЕ      0.013686\n",
      "ТЕМПЕРАТУРА МАСЛА В СИСТЕМЕ         1.515460\n",
      "ДАВЛЕНИЕ МАСЛА В СИСТЕМЕ           26.221768\n",
      "Y_ЭКСГАУСТЕР А/М №4_МАСЛОНАСОС РАБОЧИЙ ЭКСГ. №4 M3 0.9501495513459621 953 3 47\n"
     ]
    },
    {
     "data": {
      "application/vnd.jupyter.widget-view+json": {
       "model_id": "bd6f6ff9fbaf4fe8873f409eeabd24bc",
       "version_major": 2,
       "version_minor": 0
      },
      "text/plain": [
       "MetricVisualizer(layout=Layout(align_self='stretch', height='500px'))"
      ]
     },
     "metadata": {},
     "output_type": "display_data"
    },
    {
     "name": "stdout",
     "output_type": "stream",
     "text": [
      "0:\tlearn: 0.6613807\ttest: 0.6635993\tbest: 0.6635993 (0)\ttotal: 376ms\tremaining: 37.2s\n",
      "50:\tlearn: 0.1133359\ttest: 0.1135679\tbest: 0.1135679 (50)\ttotal: 24.2s\tremaining: 23.2s\n",
      "99:\tlearn: 0.0249531\ttest: 0.0249870\tbest: 0.0249870 (99)\ttotal: 44s\tremaining: 0us\n",
      "\n",
      "bestTest = 0.02498702141\n",
      "bestIteration = 99\n",
      "\n",
      "                                          0\n",
      "ТОК РОТОРА 1                       3.966725\n",
      "ТОК РОТОРА 2                       3.695913\n",
      "ТОК СТАТОРА                        3.972793\n",
      "ВИБРАЦИЯ НА ОПОРЕ 1                6.448324\n",
      "ВИБРАЦИЯ НА ОПОРЕ 2                8.642747\n",
      "ВИБРАЦИЯ НА ОПОРЕ 3                6.647237\n",
      "ВИБРАЦИЯ НА ОПОРЕ 3. ПРОДОЛЬНАЯ    8.345256\n",
      "ВИБРАЦИЯ НА ОПОРЕ 4                7.586683\n",
      "ВИБРАЦИЯ НА ОПОРЕ 4. ПРОДОЛЬНАЯ    8.886400\n",
      "ТЕМПЕРАТУРА ПОДШИПНИКА НА ОПОРЕ 1  5.573155\n",
      "ТЕМПЕРАТУРА ПОДШИПНИКА НА ОПОРЕ 2  7.628744\n",
      "ТЕМПЕРАТУРА ПОДШИПНИКА НА ОПОРЕ 3  4.948057\n",
      "ТЕМПЕРАТУРА ПОДШИПНИКА НА ОПОРЕ 4  5.883784\n",
      "ТЕМПЕРАТУРА МАСЛА В МАСЛОБЛОКЕ     4.762882\n",
      "ТЕМПЕРАТУРА МАСЛА В СИСТЕМЕ        5.818336\n",
      "ДАВЛЕНИЕ МАСЛА В СИСТЕМЕ           7.192964\n",
      "Y_ЭКСГАУСТЕР А/М №4_ЭЛЕКТРОАППАРАТУРА ЭКСГ. №4 M1 None 0 0 0\n"
     ]
    },
    {
     "data": {
      "application/vnd.jupyter.widget-view+json": {
       "model_id": "f6fc577c966b40bc9547586c3bba7174",
       "version_major": 2,
       "version_minor": 0
      },
      "text/plain": [
       "MetricVisualizer(layout=Layout(align_self='stretch', height='500px'))"
      ]
     },
     "metadata": {},
     "output_type": "display_data"
    },
    {
     "name": "stdout",
     "output_type": "stream",
     "text": [
      "0:\tlearn: 0.6633985\ttest: 0.6646415\tbest: 0.6646415 (0)\ttotal: 329ms\tremaining: 32.6s\n",
      "50:\tlearn: 0.1324708\ttest: 0.1308714\tbest: 0.1308714 (50)\ttotal: 16.9s\tremaining: 16.3s\n",
      "99:\tlearn: 0.0413185\ttest: 0.0401388\tbest: 0.0401388 (99)\ttotal: 34.4s\tremaining: 0us\n",
      "\n",
      "bestTest = 0.0401387879\n",
      "bestIteration = 99\n",
      "\n",
      "                                           0\n",
      "ТОК РОТОРА 1                       34.913821\n",
      "ТОК РОТОРА 2                       31.406046\n",
      "ТОК СТАТОРА                         0.000000\n",
      "ВИБРАЦИЯ НА ОПОРЕ 1                 0.281146\n",
      "ВИБРАЦИЯ НА ОПОРЕ 2                 1.105244\n",
      "ВИБРАЦИЯ НА ОПОРЕ 3                 1.256583\n",
      "ВИБРАЦИЯ НА ОПОРЕ 3. ПРОДОЛЬНАЯ     6.623049\n",
      "ВИБРАЦИЯ НА ОПОРЕ 4                 5.591014\n",
      "ВИБРАЦИЯ НА ОПОРЕ 4. ПРОДОЛЬНАЯ    10.030750\n",
      "ТЕМПЕРАТУРА ПОДШИПНИКА НА ОПОРЕ 1   0.000000\n",
      "ТЕМПЕРАТУРА ПОДШИПНИКА НА ОПОРЕ 2   0.077916\n",
      "ТЕМПЕРАТУРА ПОДШИПНИКА НА ОПОРЕ 3   0.000000\n",
      "ТЕМПЕРАТУРА ПОДШИПНИКА НА ОПОРЕ 4   0.413041\n",
      "ТЕМПЕРАТУРА МАСЛА В МАСЛОБЛОКЕ      0.180301\n",
      "ТЕМПЕРАТУРА МАСЛА В СИСТЕМЕ         3.746940\n",
      "ДАВЛЕНИЕ МАСЛА В СИСТЕМЕ            4.374150\n",
      "Y_ЭКСГАУСТЕР А/М №4_ЭЛЕКТРОАППАРАТУРА ЭКСГ. №4 M3 0.9695181907571289 986 5 26\n"
     ]
    },
    {
     "data": {
      "application/vnd.jupyter.widget-view+json": {
       "model_id": "dbad3c3751ff43ef880a8dca07090049",
       "version_major": 2,
       "version_minor": 0
      },
      "text/plain": [
       "MetricVisualizer(layout=Layout(align_self='stretch', height='500px'))"
      ]
     },
     "metadata": {},
     "output_type": "display_data"
    },
    {
     "name": "stdout",
     "output_type": "stream",
     "text": [
      "0:\tlearn: 0.6613830\ttest: 0.6636002\tbest: 0.6636002 (0)\ttotal: 379ms\tremaining: 37.5s\n",
      "50:\tlearn: 0.1133373\ttest: 0.1135624\tbest: 0.1135624 (50)\ttotal: 21s\tremaining: 20.1s\n",
      "99:\tlearn: 0.0249491\ttest: 0.0249829\tbest: 0.0249829 (99)\ttotal: 41.1s\tremaining: 0us\n",
      "\n",
      "bestTest = 0.02498286731\n",
      "bestIteration = 99\n",
      "\n",
      "                                           0\n",
      "ТОК РОТОРА 1                        2.428634\n",
      "ТОК РОТОРА 2                        9.189251\n",
      "ТОК СТАТОРА                         8.436468\n",
      "ВИБРАЦИЯ НА ОПОРЕ 1                10.301045\n",
      "ВИБРАЦИЯ НА ОПОРЕ 2                 5.617303\n",
      "ВИБРАЦИЯ НА ОПОРЕ 3                 4.676267\n",
      "ВИБРАЦИЯ НА ОПОРЕ 3. ПРОДОЛЬНАЯ     6.278386\n",
      "ВИБРАЦИЯ НА ОПОРЕ 4                 4.743622\n",
      "ВИБРАЦИЯ НА ОПОРЕ 4. ПРОДОЛЬНАЯ     6.356978\n",
      "ТЕМПЕРАТУРА ПОДШИПНИКА НА ОПОРЕ 1  11.881481\n",
      "ТЕМПЕРАТУРА ПОДШИПНИКА НА ОПОРЕ 2   5.413884\n",
      "ТЕМПЕРАТУРА ПОДШИПНИКА НА ОПОРЕ 3   3.386056\n",
      "ТЕМПЕРАТУРА ПОДШИПНИКА НА ОПОРЕ 4   9.872895\n",
      "ТЕМПЕРАТУРА МАСЛА В МАСЛОБЛОКЕ      3.343474\n",
      "ТЕМПЕРАТУРА МАСЛА В СИСТЕМЕ         3.860623\n",
      "ДАВЛЕНИЕ МАСЛА В СИСТЕМЕ            4.213634\n",
      "Y_ЭКСГАУСТЕР А/М №4_ПОДШИПНИК ОПОРНЫЙ №2 ЭКСГ. №4 M1 None 0 0 0\n"
     ]
    },
    {
     "data": {
      "application/vnd.jupyter.widget-view+json": {
       "model_id": "2b9a2bbd37154debaccb8fa6112f7b8b",
       "version_major": 2,
       "version_minor": 0
      },
      "text/plain": [
       "MetricVisualizer(layout=Layout(align_self='stretch', height='500px'))"
      ]
     },
     "metadata": {},
     "output_type": "display_data"
    },
    {
     "name": "stdout",
     "output_type": "stream",
     "text": [
      "0:\tlearn: 0.6677248\ttest: 0.6686692\tbest: 0.6686692 (0)\ttotal: 465ms\tremaining: 46.1s\n",
      "50:\tlearn: 0.1713651\ttest: 0.1723814\tbest: 0.1723814 (50)\ttotal: 22.2s\tremaining: 21.3s\n",
      "99:\tlearn: 0.0817008\ttest: 0.0829820\tbest: 0.0829820 (99)\ttotal: 41.4s\tremaining: 0us\n",
      "\n",
      "bestTest = 0.08298201466\n",
      "bestIteration = 99\n",
      "\n",
      "                                           0\n",
      "ТОК РОТОРА 1                       10.385538\n",
      "ТОК РОТОРА 2                        7.485255\n",
      "ТОК СТАТОРА                         0.034666\n",
      "ВИБРАЦИЯ НА ОПОРЕ 1                 3.262039\n",
      "ВИБРАЦИЯ НА ОПОРЕ 2                 2.999938\n",
      "ВИБРАЦИЯ НА ОПОРЕ 3                18.139397\n",
      "ВИБРАЦИЯ НА ОПОРЕ 3. ПРОДОЛЬНАЯ     3.835825\n",
      "ВИБРАЦИЯ НА ОПОРЕ 4                 0.000000\n",
      "ВИБРАЦИЯ НА ОПОРЕ 4. ПРОДОЛЬНАЯ     3.065695\n",
      "ТЕМПЕРАТУРА ПОДШИПНИКА НА ОПОРЕ 1   0.659272\n",
      "ТЕМПЕРАТУРА ПОДШИПНИКА НА ОПОРЕ 2  22.007368\n",
      "ТЕМПЕРАТУРА ПОДШИПНИКА НА ОПОРЕ 3   1.233294\n",
      "ТЕМПЕРАТУРА ПОДШИПНИКА НА ОПОРЕ 4   0.000000\n",
      "ТЕМПЕРАТУРА МАСЛА В МАСЛОБЛОКЕ      0.376320\n",
      "ТЕМПЕРАТУРА МАСЛА В СИСТЕМЕ         9.812883\n",
      "ДАВЛЕНИЕ МАСЛА В СИСТЕМЕ           16.702511\n",
      "Y_ЭКСГАУСТЕР А/М №4_ПОДШИПНИК ОПОРНЫЙ №2 ЭКСГ. №4 M3 0.9363376251788269 1309 9 80\n"
     ]
    },
    {
     "data": {
      "application/vnd.jupyter.widget-view+json": {
       "model_id": "d77fe436b6b94a41978f1b1161b3a4b7",
       "version_major": 2,
       "version_minor": 0
      },
      "text/plain": [
       "MetricVisualizer(layout=Layout(align_self='stretch', height='500px'))"
      ]
     },
     "metadata": {},
     "output_type": "display_data"
    },
    {
     "name": "stdout",
     "output_type": "stream",
     "text": [
      "0:\tlearn: 0.6613995\ttest: 0.6636028\tbest: 0.6636028 (0)\ttotal: 375ms\tremaining: 37.1s\n",
      "50:\tlearn: 0.1137146\ttest: 0.1136743\tbest: 0.1136743 (50)\ttotal: 21.5s\tremaining: 20.6s\n",
      "99:\tlearn: 0.0252926\ttest: 0.0250888\tbest: 0.0250888 (99)\ttotal: 40.8s\tremaining: 0us\n",
      "\n",
      "bestTest = 0.0250887564\n",
      "bestIteration = 99\n",
      "\n",
      "                                           0\n",
      "ТОК РОТОРА 1                        9.105064\n",
      "ТОК РОТОРА 2                        1.550916\n",
      "ТОК СТАТОРА                         4.447874\n",
      "ВИБРАЦИЯ НА ОПОРЕ 1                 5.808982\n",
      "ВИБРАЦИЯ НА ОПОРЕ 2                 3.398070\n",
      "ВИБРАЦИЯ НА ОПОРЕ 3                 1.781558\n",
      "ВИБРАЦИЯ НА ОПОРЕ 3. ПРОДОЛЬНАЯ     4.501176\n",
      "ВИБРАЦИЯ НА ОПОРЕ 4                 4.340642\n",
      "ВИБРАЦИЯ НА ОПОРЕ 4. ПРОДОЛЬНАЯ     1.381842\n",
      "ТЕМПЕРАТУРА ПОДШИПНИКА НА ОПОРЕ 1   5.443938\n",
      "ТЕМПЕРАТУРА ПОДШИПНИКА НА ОПОРЕ 2   1.647798\n",
      "ТЕМПЕРАТУРА ПОДШИПНИКА НА ОПОРЕ 3   2.526263\n",
      "ТЕМПЕРАТУРА ПОДШИПНИКА НА ОПОРЕ 4   5.462152\n",
      "ТЕМПЕРАТУРА МАСЛА В МАСЛОБЛОКЕ      3.839770\n",
      "ТЕМПЕРАТУРА МАСЛА В СИСТЕМЕ        18.649818\n",
      "ДАВЛЕНИЕ МАСЛА В СИСТЕМЕ           26.114138\n",
      "Y_ЭКСГАУСТЕР А/М №4_ЗАДВИЖКА ЭКСГ. №4 M1 0.0 0 0 1\n"
     ]
    },
    {
     "data": {
      "application/vnd.jupyter.widget-view+json": {
       "model_id": "ba25097878fd43f99184925b102bfba9",
       "version_major": 2,
       "version_minor": 0
      },
      "text/plain": [
       "MetricVisualizer(layout=Layout(align_self='stretch', height='500px'))"
      ]
     },
     "metadata": {},
     "output_type": "display_data"
    },
    {
     "name": "stdout",
     "output_type": "stream",
     "text": [
      "0:\tlearn: 0.6700426\ttest: 0.6698288\tbest: 0.6698288 (0)\ttotal: 436ms\tremaining: 43.2s\n",
      "50:\tlearn: 0.2119035\ttest: 0.2043660\tbest: 0.2043660 (50)\ttotal: 21.3s\tremaining: 20.4s\n",
      "99:\tlearn: 0.1180477\ttest: 0.1135580\tbest: 0.1135580 (99)\ttotal: 41.6s\tremaining: 0us\n",
      "\n",
      "bestTest = 0.1135579915\n",
      "bestIteration = 99\n",
      "\n",
      "                                           0\n",
      "ТОК РОТОРА 1                        2.628956\n",
      "ТОК РОТОРА 2                        3.634916\n",
      "ТОК СТАТОРА                         1.086302\n",
      "ВИБРАЦИЯ НА ОПОРЕ 1                 1.992635\n",
      "ВИБРАЦИЯ НА ОПОРЕ 2                 1.925651\n",
      "ВИБРАЦИЯ НА ОПОРЕ 3                 4.844668\n",
      "ВИБРАЦИЯ НА ОПОРЕ 3. ПРОДОЛЬНАЯ    12.505705\n",
      "ВИБРАЦИЯ НА ОПОРЕ 4                 3.672361\n",
      "ВИБРАЦИЯ НА ОПОРЕ 4. ПРОДОЛЬНАЯ    18.489449\n",
      "ТЕМПЕРАТУРА ПОДШИПНИКА НА ОПОРЕ 1   6.896816\n",
      "ТЕМПЕРАТУРА ПОДШИПНИКА НА ОПОРЕ 2   6.914068\n",
      "ТЕМПЕРАТУРА ПОДШИПНИКА НА ОПОРЕ 3   2.236950\n",
      "ТЕМПЕРАТУРА ПОДШИПНИКА НА ОПОРЕ 4   1.063407\n",
      "ТЕМПЕРАТУРА МАСЛА В МАСЛОБЛОКЕ      2.324583\n",
      "ТЕМПЕРАТУРА МАСЛА В СИСТЕМЕ         2.622700\n",
      "ДАВЛЕНИЕ МАСЛА В СИСТЕМЕ           27.160831\n",
      "Y_ЭКСГАУСТЕР А/М №4_ЗАДВИЖКА ЭКСГ. №4 M3 0.7598455598455598 984 95 216\n"
     ]
    },
    {
     "data": {
      "application/vnd.jupyter.widget-view+json": {
       "model_id": "a32601e5917b4abe93cfd33af0897993",
       "version_major": 2,
       "version_minor": 0
      },
      "text/plain": [
       "MetricVisualizer(layout=Layout(align_self='stretch', height='500px'))"
      ]
     },
     "metadata": {},
     "output_type": "display_data"
    },
    {
     "name": "stdout",
     "output_type": "stream",
     "text": [
      "0:\tlearn: 0.6667754\ttest: 0.6685306\tbest: 0.6685306 (0)\ttotal: 353ms\tremaining: 35s\n",
      "50:\tlearn: 0.1971813\ttest: 0.2058375\tbest: 0.2058375 (50)\ttotal: 18.6s\tremaining: 17.9s\n",
      "99:\tlearn: 0.1050419\ttest: 0.1147617\tbest: 0.1147617 (99)\ttotal: 36.5s\tremaining: 0us\n",
      "\n",
      "bestTest = 0.1147617022\n",
      "bestIteration = 99\n",
      "\n",
      "                                           0\n",
      "ТОК РОТОРА 1                        6.119327\n",
      "ТОК РОТОРА 2                        5.611183\n",
      "ТОК СТАТОРА                         0.899848\n",
      "ВИБРАЦИЯ НА ОПОРЕ 1                 9.579529\n",
      "ВИБРАЦИЯ НА ОПОРЕ 2                 1.236172\n",
      "ВИБРАЦИЯ НА ОПОРЕ 3                11.534194\n",
      "ВИБРАЦИЯ НА ОПОРЕ 3. ПРОДОЛЬНАЯ    17.984502\n",
      "ВИБРАЦИЯ НА ОПОРЕ 4                12.337086\n",
      "ВИБРАЦИЯ НА ОПОРЕ 4. ПРОДОЛЬНАЯ    14.274714\n",
      "ТЕМПЕРАТУРА ПОДШИПНИКА НА ОПОРЕ 1   4.853873\n",
      "ТЕМПЕРАТУРА ПОДШИПНИКА НА ОПОРЕ 2   0.787073\n",
      "ТЕМПЕРАТУРА ПОДШИПНИКА НА ОПОРЕ 3   3.732175\n",
      "ТЕМПЕРАТУРА ПОДШИПНИКА НА ОПОРЕ 4   2.760755\n",
      "ТЕМПЕРАТУРА МАСЛА В МАСЛОБЛОКЕ      0.000000\n",
      "ТЕМПЕРАТУРА МАСЛА В СИСТЕМЕ         0.324311\n",
      "ДАВЛЕНИЕ МАСЛА В СИСТЕМЕ            7.965259\n",
      "Y_ЭКСГАУСТЕР А/М №4_ГСМ ЭКСГ. №4 M3 0.7648601398601399 875 31 238\n"
     ]
    },
    {
     "data": {
      "application/vnd.jupyter.widget-view+json": {
       "model_id": "068337a157764862a1dadddf5eaf4963",
       "version_major": 2,
       "version_minor": 0
      },
      "text/plain": [
       "MetricVisualizer(layout=Layout(align_self='stretch', height='500px'))"
      ]
     },
     "metadata": {},
     "output_type": "display_data"
    },
    {
     "name": "stdout",
     "output_type": "stream",
     "text": [
      "0:\tlearn: 0.6613836\ttest: 0.6636019\tbest: 0.6636019 (0)\ttotal: 374ms\tremaining: 37s\n",
      "50:\tlearn: 0.1134726\ttest: 0.1136166\tbest: 0.1136166 (50)\ttotal: 21.3s\tremaining: 20.5s\n",
      "99:\tlearn: 0.0250999\ttest: 0.0250308\tbest: 0.0250308 (99)\ttotal: 40.9s\tremaining: 0us\n",
      "\n",
      "bestTest = 0.02503077147\n",
      "bestIteration = 99\n",
      "\n",
      "                                           0\n",
      "ТОК РОТОРА 1                        0.291278\n",
      "ТОК РОТОРА 2                        0.205713\n",
      "ТОК СТАТОРА                         0.559927\n",
      "ВИБРАЦИЯ НА ОПОРЕ 1                 0.635067\n",
      "ВИБРАЦИЯ НА ОПОРЕ 2                 3.639235\n",
      "ВИБРАЦИЯ НА ОПОРЕ 3                 0.574341\n",
      "ВИБРАЦИЯ НА ОПОРЕ 3. ПРОДОЛЬНАЯ     2.958524\n",
      "ВИБРАЦИЯ НА ОПОРЕ 4                41.596842\n",
      "ВИБРАЦИЯ НА ОПОРЕ 4. ПРОДОЛЬНАЯ    10.945319\n",
      "ТЕМПЕРАТУРА ПОДШИПНИКА НА ОПОРЕ 1   0.603330\n",
      "ТЕМПЕРАТУРА ПОДШИПНИКА НА ОПОРЕ 2  28.890670\n",
      "ТЕМПЕРАТУРА ПОДШИПНИКА НА ОПОРЕ 3   0.402197\n",
      "ТЕМПЕРАТУРА ПОДШИПНИКА НА ОПОРЕ 4   1.205786\n",
      "ТЕМПЕРАТУРА МАСЛА В МАСЛОБЛОКЕ      5.894837\n",
      "ТЕМПЕРАТУРА МАСЛА В СИСТЕМЕ         0.551892\n",
      "ДАВЛЕНИЕ МАСЛА В СИСТЕМЕ            1.045043\n",
      "Y_ЭКСГАУСТЕР А/М №4_ВК 310С ВИБРОПРЕОБРАЗОВАТЕЛЬ ЭКСГ.№4 Т.1 M3 0.0 0 0 1\n"
     ]
    },
    {
     "data": {
      "application/vnd.jupyter.widget-view+json": {
       "model_id": "7c1c32f8231a4cf3bfa99fa214779dbb",
       "version_major": 2,
       "version_minor": 0
      },
      "text/plain": [
       "MetricVisualizer(layout=Layout(align_self='stretch', height='500px'))"
      ]
     },
     "metadata": {},
     "output_type": "display_data"
    },
    {
     "name": "stdout",
     "output_type": "stream",
     "text": [
      "0:\tlearn: 0.6613862\ttest: 0.6636078\tbest: 0.6636078 (0)\ttotal: 375ms\tremaining: 37.2s\n",
      "50:\tlearn: 0.1135659\ttest: 0.1136530\tbest: 0.1136530 (50)\ttotal: 21.3s\tremaining: 20.4s\n",
      "99:\tlearn: 0.0251873\ttest: 0.0250552\tbest: 0.0250552 (99)\ttotal: 40.5s\tremaining: 0us\n",
      "\n",
      "bestTest = 0.02505522119\n",
      "bestIteration = 99\n",
      "\n",
      "                                           0\n",
      "ТОК РОТОРА 1                        0.138125\n",
      "ТОК РОТОРА 2                        0.169862\n",
      "ТОК СТАТОРА                         0.458573\n",
      "ВИБРАЦИЯ НА ОПОРЕ 1                 1.646612\n",
      "ВИБРАЦИЯ НА ОПОРЕ 2                 2.651303\n",
      "ВИБРАЦИЯ НА ОПОРЕ 3                 0.334108\n",
      "ВИБРАЦИЯ НА ОПОРЕ 3. ПРОДОЛЬНАЯ     2.054064\n",
      "ВИБРАЦИЯ НА ОПОРЕ 4                26.901643\n",
      "ВИБРАЦИЯ НА ОПОРЕ 4. ПРОДОЛЬНАЯ     7.434777\n",
      "ТЕМПЕРАТУРА ПОДШИПНИКА НА ОПОРЕ 1   0.543217\n",
      "ТЕМПЕРАТУРА ПОДШИПНИКА НА ОПОРЕ 2  28.441865\n",
      "ТЕМПЕРАТУРА ПОДШИПНИКА НА ОПОРЕ 3   8.335107\n",
      "ТЕМПЕРАТУРА ПОДШИПНИКА НА ОПОРЕ 4   1.600194\n",
      "ТЕМПЕРАТУРА МАСЛА В МАСЛОБЛОКЕ      1.762612\n",
      "ТЕМПЕРАТУРА МАСЛА В СИСТЕМЕ        16.788448\n",
      "ДАВЛЕНИЕ МАСЛА В СИСТЕМЕ            0.739491\n",
      "Y_ЭКСГАУСТЕР А/М №4_ТСМТ-101-010-50М-400 ТЕРМОПР.ПОДШ.Т.1 M3 None 0 0 0\n"
     ]
    },
    {
     "data": {
      "application/vnd.jupyter.widget-view+json": {
       "model_id": "1dbeaed7ec17454aa01dcbee2c19b3d7",
       "version_major": 2,
       "version_minor": 0
      },
      "text/plain": [
       "MetricVisualizer(layout=Layout(align_self='stretch', height='500px'))"
      ]
     },
     "metadata": {},
     "output_type": "display_data"
    },
    {
     "name": "stdout",
     "output_type": "stream",
     "text": [
      "0:\tlearn: 0.6613824\ttest: 0.6636011\tbest: 0.6636011 (0)\ttotal: 376ms\tremaining: 37.2s\n",
      "50:\tlearn: 0.1133992\ttest: 0.1135800\tbest: 0.1135800 (50)\ttotal: 21.4s\tremaining: 20.5s\n",
      "99:\tlearn: 0.0250346\ttest: 0.0250017\tbest: 0.0250017 (99)\ttotal: 40.8s\tremaining: 0us\n",
      "\n",
      "bestTest = 0.0250017203\n",
      "bestIteration = 99\n",
      "\n",
      "                                           0\n",
      "ТОК РОТОРА 1                        6.955479\n",
      "ТОК РОТОРА 2                        1.687306\n",
      "ТОК СТАТОРА                         1.627823\n",
      "ВИБРАЦИЯ НА ОПОРЕ 1                 3.858722\n",
      "ВИБРАЦИЯ НА ОПОРЕ 2                 5.118311\n",
      "ВИБРАЦИЯ НА ОПОРЕ 3                 7.080047\n",
      "ВИБРАЦИЯ НА ОПОРЕ 3. ПРОДОЛЬНАЯ     7.381248\n",
      "ВИБРАЦИЯ НА ОПОРЕ 4                 2.881572\n",
      "ВИБРАЦИЯ НА ОПОРЕ 4. ПРОДОЛЬНАЯ    11.336559\n",
      "ТЕМПЕРАТУРА ПОДШИПНИКА НА ОПОРЕ 1   3.330192\n",
      "ТЕМПЕРАТУРА ПОДШИПНИКА НА ОПОРЕ 2  14.666142\n",
      "ТЕМПЕРАТУРА ПОДШИПНИКА НА ОПОРЕ 3   7.001075\n",
      "ТЕМПЕРАТУРА ПОДШИПНИКА НА ОПОРЕ 4   4.568304\n",
      "ТЕМПЕРАТУРА МАСЛА В МАСЛОБЛОКЕ      2.004793\n",
      "ТЕМПЕРАТУРА МАСЛА В СИСТЕМЕ         7.460003\n",
      "ДАВЛЕНИЕ МАСЛА В СИСТЕМЕ           13.042424\n",
      "Y_ЭКСГАУСТЕР А/М №4_РОТОР ЭКСГ. №4 M1 None 0 0 0\n"
     ]
    },
    {
     "data": {
      "application/vnd.jupyter.widget-view+json": {
       "model_id": "f7fbac0ef6ff4f64bf32e44f4b4bd101",
       "version_major": 2,
       "version_minor": 0
      },
      "text/plain": [
       "MetricVisualizer(layout=Layout(align_self='stretch', height='500px'))"
      ]
     },
     "metadata": {},
     "output_type": "display_data"
    },
    {
     "name": "stdout",
     "output_type": "stream",
     "text": [
      "0:\tlearn: 0.6745238\ttest: 0.6735771\tbest: 0.6735771 (0)\ttotal: 375ms\tremaining: 37.1s\n",
      "50:\tlearn: 0.2587305\ttest: 0.2518694\tbest: 0.2518694 (50)\ttotal: 21.3s\tremaining: 20.4s\n",
      "99:\tlearn: 0.1419505\ttest: 0.1362750\tbest: 0.1362750 (99)\ttotal: 41.2s\tremaining: 0us\n",
      "\n",
      "bestTest = 0.1362750128\n",
      "bestIteration = 99\n",
      "\n",
      "                                           0\n",
      "ТОК РОТОРА 1                        9.857317\n",
      "ТОК РОТОРА 2                        9.822043\n",
      "ТОК СТАТОРА                         2.305432\n",
      "ВИБРАЦИЯ НА ОПОРЕ 1                 1.683456\n",
      "ВИБРАЦИЯ НА ОПОРЕ 2                 4.276574\n",
      "ВИБРАЦИЯ НА ОПОРЕ 3                 0.153820\n",
      "ВИБРАЦИЯ НА ОПОРЕ 3. ПРОДОЛЬНАЯ     2.669261\n",
      "ВИБРАЦИЯ НА ОПОРЕ 4                 5.368773\n",
      "ВИБРАЦИЯ НА ОПОРЕ 4. ПРОДОЛЬНАЯ    13.289165\n",
      "ТЕМПЕРАТУРА ПОДШИПНИКА НА ОПОРЕ 1   6.484539\n",
      "ТЕМПЕРАТУРА ПОДШИПНИКА НА ОПОРЕ 2  15.305722\n",
      "ТЕМПЕРАТУРА ПОДШИПНИКА НА ОПОРЕ 3   5.022930\n",
      "ТЕМПЕРАТУРА ПОДШИПНИКА НА ОПОРЕ 4   0.000000\n",
      "ТЕМПЕРАТУРА МАСЛА В МАСЛОБЛОКЕ      0.000000\n",
      "ТЕМПЕРАТУРА МАСЛА В СИСТЕМЕ        18.333310\n",
      "ДАВЛЕНИЕ МАСЛА В СИСТЕМЕ            5.427658\n",
      "Y_ЭКСГАУСТЕР А/М №4_РОТОР ЭКСГ. №4 M3 0.9698767685988133 4250 39 93\n"
     ]
    },
    {
     "data": {
      "application/vnd.jupyter.widget-view+json": {
       "model_id": "c6f35680d39542f683aa7917f8c8404b",
       "version_major": 2,
       "version_minor": 0
      },
      "text/plain": [
       "MetricVisualizer(layout=Layout(align_self='stretch', height='500px'))"
      ]
     },
     "metadata": {},
     "output_type": "display_data"
    },
    {
     "name": "stdout",
     "output_type": "stream",
     "text": [
      "0:\tlearn: 0.6628796\ttest: 0.6643181\tbest: 0.6643181 (0)\ttotal: 424ms\tremaining: 42s\n",
      "50:\tlearn: 0.1240026\ttest: 0.1224886\tbest: 0.1224886 (50)\ttotal: 24.2s\tremaining: 23.2s\n",
      "99:\tlearn: 0.0348582\ttest: 0.0324635\tbest: 0.0324635 (99)\ttotal: 46s\tremaining: 0us\n",
      "\n",
      "bestTest = 0.03246354372\n",
      "bestIteration = 99\n",
      "\n",
      "                                           0\n",
      "ТОК РОТОРА 1                        6.648895\n",
      "ТОК РОТОРА 2                        7.579138\n",
      "ТОК СТАТОРА                         1.512254\n",
      "ВИБРАЦИЯ НА ОПОРЕ 1                 0.501089\n",
      "ВИБРАЦИЯ НА ОПОРЕ 2                17.012539\n",
      "ВИБРАЦИЯ НА ОПОРЕ 3                23.701209\n",
      "ВИБРАЦИЯ НА ОПОРЕ 3. ПРОДОЛЬНАЯ     7.577405\n",
      "ВИБРАЦИЯ НА ОПОРЕ 4                 0.285988\n",
      "ВИБРАЦИЯ НА ОПОРЕ 4. ПРОДОЛЬНАЯ     4.428075\n",
      "ТЕМПЕРАТУРА ПОДШИПНИКА НА ОПОРЕ 1   3.262922\n",
      "ТЕМПЕРАТУРА ПОДШИПНИКА НА ОПОРЕ 2   4.723677\n",
      "ТЕМПЕРАТУРА ПОДШИПНИКА НА ОПОРЕ 3   3.482729\n",
      "ТЕМПЕРАТУРА ПОДШИПНИКА НА ОПОРЕ 4   1.404332\n",
      "ТЕМПЕРАТУРА МАСЛА В МАСЛОБЛОКЕ      1.154699\n",
      "ТЕМПЕРАТУРА МАСЛА В СИСТЕМЕ         6.915048\n",
      "ДАВЛЕНИЕ МАСЛА В СИСТЕМЕ            9.810003\n",
      "Y_ЭКСГАУСТЕР А/М №4_МАСЛООХЛАДИТЕЛЬ  М-05-1 ЭКСГ. №4 M3 0.7920792079207921 80 4 17\n"
     ]
    },
    {
     "data": {
      "application/vnd.jupyter.widget-view+json": {
       "model_id": "22c0fd9a8ecd4bb78f3cd31181c0aa98",
       "version_major": 2,
       "version_minor": 0
      },
      "text/plain": [
       "MetricVisualizer(layout=Layout(align_self='stretch', height='500px'))"
      ]
     },
     "metadata": {},
     "output_type": "display_data"
    },
    {
     "name": "stdout",
     "output_type": "stream",
     "text": [
      "0:\tlearn: 0.6613893\ttest: 0.6636072\tbest: 0.6636072 (0)\ttotal: 543ms\tremaining: 53.7s\n",
      "50:\tlearn: 0.1135540\ttest: 0.1136428\tbest: 0.1136428 (50)\ttotal: 21.1s\tremaining: 20.3s\n",
      "99:\tlearn: 0.0250774\ttest: 0.0250341\tbest: 0.0250341 (99)\ttotal: 40.3s\tremaining: 0us\n",
      "\n",
      "bestTest = 0.02503413062\n",
      "bestIteration = 99\n",
      "\n",
      "                                           0\n",
      "ТОК РОТОРА 1                        3.990869\n",
      "ТОК РОТОРА 2                        3.246563\n",
      "ТОК СТАТОРА                         7.291870\n",
      "ВИБРАЦИЯ НА ОПОРЕ 1                 0.900787\n",
      "ВИБРАЦИЯ НА ОПОРЕ 2                 3.213257\n",
      "ВИБРАЦИЯ НА ОПОРЕ 3                 0.915450\n",
      "ВИБРАЦИЯ НА ОПОРЕ 3. ПРОДОЛЬНАЯ     2.690224\n",
      "ВИБРАЦИЯ НА ОПОРЕ 4                 0.976767\n",
      "ВИБРАЦИЯ НА ОПОРЕ 4. ПРОДОЛЬНАЯ     1.594606\n",
      "ТЕМПЕРАТУРА ПОДШИПНИКА НА ОПОРЕ 1   2.841517\n",
      "ТЕМПЕРАТУРА ПОДШИПНИКА НА ОПОРЕ 2   3.165749\n",
      "ТЕМПЕРАТУРА ПОДШИПНИКА НА ОПОРЕ 3  30.310734\n",
      "ТЕМПЕРАТУРА ПОДШИПНИКА НА ОПОРЕ 4  17.052618\n",
      "ТЕМПЕРАТУРА МАСЛА В МАСЛОБЛОКЕ     18.071494\n",
      "ТЕМПЕРАТУРА МАСЛА В СИСТЕМЕ         2.125370\n",
      "ДАВЛЕНИЕ МАСЛА В СИСТЕМЕ            1.612126\n",
      "Y_ЭКСГАУСТЕР А/М №4_ПОДШИПНИК ОПОРНО-УПОРНЫЙ ЭКСГ. №4 M1 1.0 2 0 0\n"
     ]
    },
    {
     "data": {
      "application/vnd.jupyter.widget-view+json": {
       "model_id": "46ebd77de67049cc932eb4ce119b271a",
       "version_major": 2,
       "version_minor": 0
      },
      "text/plain": [
       "MetricVisualizer(layout=Layout(align_self='stretch', height='500px'))"
      ]
     },
     "metadata": {},
     "output_type": "display_data"
    },
    {
     "name": "stdout",
     "output_type": "stream",
     "text": [
      "0:\tlearn: 0.6691337\ttest: 0.6696462\tbest: 0.6696462 (0)\ttotal: 428ms\tremaining: 42.3s\n",
      "50:\tlearn: 0.1869928\ttest: 0.1888260\tbest: 0.1888260 (50)\ttotal: 20.8s\tremaining: 20s\n",
      "99:\tlearn: 0.0814073\ttest: 0.0801266\tbest: 0.0801266 (99)\ttotal: 41.6s\tremaining: 0us\n",
      "\n",
      "bestTest = 0.08012660077\n",
      "bestIteration = 99\n",
      "\n",
      "                                           0\n",
      "ТОК РОТОРА 1                       18.966756\n",
      "ТОК РОТОРА 2                       16.953046\n",
      "ТОК СТАТОРА                         0.000000\n",
      "ВИБРАЦИЯ НА ОПОРЕ 1                 0.078415\n",
      "ВИБРАЦИЯ НА ОПОРЕ 2                 0.023706\n",
      "ВИБРАЦИЯ НА ОПОРЕ 3                 4.107055\n",
      "ВИБРАЦИЯ НА ОПОРЕ 3. ПРОДОЛЬНАЯ    14.998996\n",
      "ВИБРАЦИЯ НА ОПОРЕ 4                11.094279\n",
      "ВИБРАЦИЯ НА ОПОРЕ 4. ПРОДОЛЬНАЯ     8.501993\n",
      "ТЕМПЕРАТУРА ПОДШИПНИКА НА ОПОРЕ 1   8.575089\n",
      "ТЕМПЕРАТУРА ПОДШИПНИКА НА ОПОРЕ 2   1.732107\n",
      "ТЕМПЕРАТУРА ПОДШИПНИКА НА ОПОРЕ 3   0.000000\n",
      "ТЕМПЕРАТУРА ПОДШИПНИКА НА ОПОРЕ 4   3.877312\n",
      "ТЕМПЕРАТУРА МАСЛА В МАСЛОБЛОКЕ      0.423863\n",
      "ТЕМПЕРАТУРА МАСЛА В СИСТЕМЕ         6.214054\n",
      "ДАВЛЕНИЕ МАСЛА В СИСТЕМЕ            4.453329\n",
      "Y_ЭКСГАУСТЕР А/М №4_ПОДШИПНИК ОПОРНО-УПОРНЫЙ ЭКСГ. №4 M3 0.9485259709873655 2027 36 74\n"
     ]
    },
    {
     "data": {
      "application/vnd.jupyter.widget-view+json": {
       "model_id": "0959573c8922452dbec1050c0ffcbcc7",
       "version_major": 2,
       "version_minor": 0
      },
      "text/plain": [
       "MetricVisualizer(layout=Layout(align_self='stretch', height='500px'))"
      ]
     },
     "metadata": {},
     "output_type": "display_data"
    },
    {
     "name": "stdout",
     "output_type": "stream",
     "text": [
      "0:\tlearn: 0.6614478\ttest: 0.6636173\tbest: 0.6636173 (0)\ttotal: 376ms\tremaining: 37.2s\n",
      "50:\tlearn: 0.1138501\ttest: 0.1137537\tbest: 0.1137537 (50)\ttotal: 20.6s\tremaining: 19.8s\n",
      "99:\tlearn: 0.0252635\ttest: 0.0251055\tbest: 0.0251055 (99)\ttotal: 39.2s\tremaining: 0us\n",
      "\n",
      "bestTest = 0.02510554352\n",
      "bestIteration = 99\n",
      "\n",
      "                                           0\n",
      "ТОК РОТОРА 1                        1.068394\n",
      "ТОК РОТОРА 2                        0.421760\n",
      "ТОК СТАТОРА                         3.550468\n",
      "ВИБРАЦИЯ НА ОПОРЕ 1                 0.797151\n",
      "ВИБРАЦИЯ НА ОПОРЕ 2                 4.470518\n",
      "ВИБРАЦИЯ НА ОПОРЕ 3                 0.293478\n",
      "ВИБРАЦИЯ НА ОПОРЕ 3. ПРОДОЛЬНАЯ     1.206784\n",
      "ВИБРАЦИЯ НА ОПОРЕ 4                 0.417042\n",
      "ВИБРАЦИЯ НА ОПОРЕ 4. ПРОДОЛЬНАЯ     3.892093\n",
      "ТЕМПЕРАТУРА ПОДШИПНИКА НА ОПОРЕ 1   1.394579\n",
      "ТЕМПЕРАТУРА ПОДШИПНИКА НА ОПОРЕ 2   1.090085\n",
      "ТЕМПЕРАТУРА ПОДШИПНИКА НА ОПОРЕ 3  11.852812\n",
      "ТЕМПЕРАТУРА ПОДШИПНИКА НА ОПОРЕ 4  16.450728\n",
      "ТЕМПЕРАТУРА МАСЛА В МАСЛОБЛОКЕ     36.120061\n",
      "ТЕМПЕРАТУРА МАСЛА В СИСТЕМЕ        11.986456\n",
      "ДАВЛЕНИЕ МАСЛА В СИСТЕМЕ            4.987592\n",
      "Y_ЭКСГАУСТЕР А/М №4_ЭКСГАУСТЕР А/М №4 M1 0.5 1 0 1\n"
     ]
    },
    {
     "data": {
      "application/vnd.jupyter.widget-view+json": {
       "model_id": "d602cd70362d4becaa8afbadcfca2a93",
       "version_major": 2,
       "version_minor": 0
      },
      "text/plain": [
       "MetricVisualizer(layout=Layout(align_self='stretch', height='500px'))"
      ]
     },
     "metadata": {},
     "output_type": "display_data"
    },
    {
     "name": "stdout",
     "output_type": "stream",
     "text": [
      "0:\tlearn: 0.6621403\ttest: 0.6645591\tbest: 0.6645591 (0)\ttotal: 374ms\tremaining: 37s\n",
      "50:\tlearn: 0.1259591\ttest: 0.1310534\tbest: 0.1310534 (50)\ttotal: 18s\tremaining: 17.3s\n",
      "99:\tlearn: 0.0366581\ttest: 0.0414267\tbest: 0.0414267 (99)\ttotal: 36.7s\tremaining: 0us\n",
      "\n",
      "bestTest = 0.04142668968\n",
      "bestIteration = 99\n",
      "\n",
      "                                           0\n",
      "ТОК РОТОРА 1                        2.366600\n",
      "ТОК РОТОРА 2                        2.734262\n",
      "ТОК СТАТОРА                         1.969484\n",
      "ВИБРАЦИЯ НА ОПОРЕ 1                 0.598089\n",
      "ВИБРАЦИЯ НА ОПОРЕ 2                 2.172659\n",
      "ВИБРАЦИЯ НА ОПОРЕ 3                 1.960079\n",
      "ВИБРАЦИЯ НА ОПОРЕ 3. ПРОДОЛЬНАЯ     6.839184\n",
      "ВИБРАЦИЯ НА ОПОРЕ 4                18.007305\n",
      "ВИБРАЦИЯ НА ОПОРЕ 4. ПРОДОЛЬНАЯ    43.801738\n",
      "ТЕМПЕРАТУРА ПОДШИПНИКА НА ОПОРЕ 1   5.766531\n",
      "ТЕМПЕРАТУРА ПОДШИПНИКА НА ОПОРЕ 2   0.577751\n",
      "ТЕМПЕРАТУРА ПОДШИПНИКА НА ОПОРЕ 3   0.000000\n",
      "ТЕМПЕРАТУРА ПОДШИПНИКА НА ОПОРЕ 4   6.371243\n",
      "ТЕМПЕРАТУРА МАСЛА В МАСЛОБЛОКЕ      0.021573\n",
      "ТЕМПЕРАТУРА МАСЛА В СИСТЕМЕ         0.557727\n",
      "ДАВЛЕНИЕ МАСЛА В СИСТЕМЕ            6.255775\n",
      "Y_ЭКСГАУСТЕР А/М №4_ЗАП. И РЕГ. АРМАТУРА ЭКСГ.№4 M3 0.9318681318681319 424 3 28\n"
     ]
    },
    {
     "data": {
      "application/vnd.jupyter.widget-view+json": {
       "model_id": "7287fc00a70d463a94c388b88e8cec63",
       "version_major": 2,
       "version_minor": 0
      },
      "text/plain": [
       "MetricVisualizer(layout=Layout(align_self='stretch', height='500px'))"
      ]
     },
     "metadata": {},
     "output_type": "display_data"
    },
    {
     "name": "stdout",
     "output_type": "stream",
     "text": [
      "0:\tlearn: 0.6637203\ttest: 0.6651773\tbest: 0.6651773 (0)\ttotal: 391ms\tremaining: 38.7s\n",
      "50:\tlearn: 0.1364483\ttest: 0.1333719\tbest: 0.1333719 (50)\ttotal: 18.7s\tremaining: 17.9s\n",
      "99:\tlearn: 0.0433802\ttest: 0.0412563\tbest: 0.0412563 (99)\ttotal: 37.1s\tremaining: 0us\n",
      "\n",
      "bestTest = 0.04125630361\n",
      "bestIteration = 99\n",
      "\n",
      "                                           0\n",
      "ТОК РОТОРА 1                        5.458508\n",
      "ТОК РОТОРА 2                        5.777810\n",
      "ТОК СТАТОРА                         0.992551\n",
      "ВИБРАЦИЯ НА ОПОРЕ 1                 1.798985\n",
      "ВИБРАЦИЯ НА ОПОРЕ 2                13.912296\n",
      "ВИБРАЦИЯ НА ОПОРЕ 3                10.081789\n",
      "ВИБРАЦИЯ НА ОПОРЕ 3. ПРОДОЛЬНАЯ     4.954661\n",
      "ВИБРАЦИЯ НА ОПОРЕ 4                11.906600\n",
      "ВИБРАЦИЯ НА ОПОРЕ 4. ПРОДОЛЬНАЯ    15.517668\n",
      "ТЕМПЕРАТУРА ПОДШИПНИКА НА ОПОРЕ 1   0.144219\n",
      "ТЕМПЕРАТУРА ПОДШИПНИКА НА ОПОРЕ 2   0.336414\n",
      "ТЕМПЕРАТУРА ПОДШИПНИКА НА ОПОРЕ 3   0.958702\n",
      "ТЕМПЕРАТУРА ПОДШИПНИКА НА ОПОРЕ 4   1.902847\n",
      "ТЕМПЕРАТУРА МАСЛА В МАСЛОБЛОКЕ      2.249172\n",
      "ТЕМПЕРАТУРА МАСЛА В СИСТЕМЕ         0.000000\n",
      "ДАВЛЕНИЕ МАСЛА В СИСТЕМЕ           24.007776\n",
      "Y_ЭКСГАУСТЕР А/М №4_ПОДШИПНИК ОПОРНЫЙ №1 ЭКСГ. №4 M3 0.9105882352941177 387 2 36\n"
     ]
    },
    {
     "data": {
      "application/vnd.jupyter.widget-view+json": {
       "model_id": "835216224a3e40d3ac933fbc09f95a25",
       "version_major": 2,
       "version_minor": 0
      },
      "text/plain": [
       "MetricVisualizer(layout=Layout(align_self='stretch', height='500px'))"
      ]
     },
     "metadata": {},
     "output_type": "display_data"
    },
    {
     "name": "stdout",
     "output_type": "stream",
     "text": [
      "0:\tlearn: 0.6622397\ttest: 0.6641809\tbest: 0.6641809 (0)\ttotal: 410ms\tremaining: 40.5s\n",
      "50:\tlearn: 0.1216530\ttest: 0.1235021\tbest: 0.1235021 (50)\ttotal: 20.9s\tremaining: 20s\n",
      "99:\tlearn: 0.0333126\ttest: 0.0360560\tbest: 0.0360560 (99)\ttotal: 40.7s\tremaining: 0us\n",
      "\n",
      "bestTest = 0.03605601056\n",
      "bestIteration = 99\n",
      "\n",
      "                                           0\n",
      "ТОК РОТОРА 1                       27.442743\n",
      "ТОК РОТОРА 2                       20.232779\n",
      "ТОК СТАТОРА                         0.765971\n",
      "ВИБРАЦИЯ НА ОПОРЕ 1                 1.343789\n",
      "ВИБРАЦИЯ НА ОПОРЕ 2                 5.867352\n",
      "ВИБРАЦИЯ НА ОПОРЕ 3                 3.600826\n",
      "ВИБРАЦИЯ НА ОПОРЕ 3. ПРОДОЛЬНАЯ     0.178762\n",
      "ВИБРАЦИЯ НА ОПОРЕ 4                 0.000000\n",
      "ВИБРАЦИЯ НА ОПОРЕ 4. ПРОДОЛЬНАЯ    16.254066\n",
      "ТЕМПЕРАТУРА ПОДШИПНИКА НА ОПОРЕ 1   0.758129\n",
      "ТЕМПЕРАТУРА ПОДШИПНИКА НА ОПОРЕ 2  10.628883\n",
      "ТЕМПЕРАТУРА ПОДШИПНИКА НА ОПОРЕ 3   4.120010\n",
      "ТЕМПЕРАТУРА ПОДШИПНИКА НА ОПОРЕ 4   1.527006\n",
      "ТЕМПЕРАТУРА МАСЛА В МАСЛОБЛОКЕ      2.120753\n",
      "ТЕМПЕРАТУРА МАСЛА В СИСТЕМЕ         0.975023\n",
      "ДАВЛЕНИЕ МАСЛА В СИСТЕМЕ            4.183908\n",
      "Y_ЭКСГАУСТЕР А/М №4_ЭЛ/ДВИГАТЕЛЬ ГАЗ. ЗАДВИЖКИ ЭКСГ. №4 M3 0.8 136 12 22\n"
     ]
    },
    {
     "data": {
      "application/vnd.jupyter.widget-view+json": {
       "model_id": "e9a748ad6f2e4080be9b61cafa14464f",
       "version_major": 2,
       "version_minor": 0
      },
      "text/plain": [
       "MetricVisualizer(layout=Layout(align_self='stretch', height='500px'))"
      ]
     },
     "metadata": {},
     "output_type": "display_data"
    },
    {
     "name": "stdout",
     "output_type": "stream",
     "text": [
      "0:\tlearn: 0.6613802\ttest: 0.6635997\tbest: 0.6635997 (0)\ttotal: 376ms\tremaining: 37.2s\n",
      "50:\tlearn: 0.1133178\ttest: 0.1135566\tbest: 0.1135566 (50)\ttotal: 21.3s\tremaining: 20.5s\n",
      "99:\tlearn: 0.0249208\ttest: 0.0249779\tbest: 0.0249779 (99)\ttotal: 41.6s\tremaining: 0us\n",
      "\n",
      "bestTest = 0.02497792749\n",
      "bestIteration = 99\n",
      "\n",
      "                                          0\n",
      "ТОК РОТОРА 1                       3.836812\n",
      "ТОК РОТОРА 2                       3.651373\n",
      "ТОК СТАТОРА                        3.697732\n",
      "ВИБРАЦИЯ НА ОПОРЕ 1                5.867080\n",
      "ВИБРАЦИЯ НА ОПОРЕ 2                8.292509\n",
      "ВИБРАЦИЯ НА ОПОРЕ 3                7.056380\n",
      "ВИБРАЦИЯ НА ОПОРЕ 3. ПРОДОЛЬНАЯ    7.648081\n",
      "ВИБРАЦИЯ НА ОПОРЕ 4                7.882800\n",
      "ВИБРАЦИЯ НА ОПОРЕ 4. ПРОДОЛЬНАЯ    9.504900\n",
      "ТЕМПЕРАТУРА ПОДШИПНИКА НА ОПОРЕ 1  6.605085\n",
      "ТЕМПЕРАТУРА ПОДШИПНИКА НА ОПОРЕ 2  8.409675\n",
      "ТЕМПЕРАТУРА ПОДШИПНИКА НА ОПОРЕ 3  4.918894\n",
      "ТЕМПЕРАТУРА ПОДШИПНИКА НА ОПОРЕ 4  5.932281\n",
      "ТЕМПЕРАТУРА МАСЛА В МАСЛОБЛОКЕ     4.882336\n",
      "ТЕМПЕРАТУРА МАСЛА В СИСТЕМЕ        5.502093\n",
      "ДАВЛЕНИЕ МАСЛА В СИСТЕМЕ           6.311971\n",
      "Y_ЭКСГАУСТЕР А/М №4_КЛ1 ТР№4 ДО ЭД ЭКСГАУСТЕРА №4 M3 None 0 0 0\n"
     ]
    },
    {
     "data": {
      "application/vnd.jupyter.widget-view+json": {
       "model_id": "4a448e538f474c92bd5c198577d23937",
       "version_major": 2,
       "version_minor": 0
      },
      "text/plain": [
       "MetricVisualizer(layout=Layout(align_self='stretch', height='500px'))"
      ]
     },
     "metadata": {},
     "output_type": "display_data"
    },
    {
     "name": "stdout",
     "output_type": "stream",
     "text": [
      "0:\tlearn: 0.6613802\ttest: 0.6635997\tbest: 0.6635997 (0)\ttotal: 381ms\tremaining: 37.7s\n",
      "50:\tlearn: 0.1133178\ttest: 0.1135555\tbest: 0.1135555 (50)\ttotal: 21s\tremaining: 20.2s\n",
      "99:\tlearn: 0.0249208\ttest: 0.0249767\tbest: 0.0249767 (99)\ttotal: 41.3s\tremaining: 0us\n",
      "\n",
      "bestTest = 0.02497672494\n",
      "bestIteration = 99\n",
      "\n",
      "                                          0\n",
      "ТОК РОТОРА 1                       3.836812\n",
      "ТОК РОТОРА 2                       3.651373\n",
      "ТОК СТАТОРА                        3.697732\n",
      "ВИБРАЦИЯ НА ОПОРЕ 1                5.867080\n",
      "ВИБРАЦИЯ НА ОПОРЕ 2                8.292509\n",
      "ВИБРАЦИЯ НА ОПОРЕ 3                7.056380\n",
      "ВИБРАЦИЯ НА ОПОРЕ 3. ПРОДОЛЬНАЯ    7.648081\n",
      "ВИБРАЦИЯ НА ОПОРЕ 4                7.882800\n",
      "ВИБРАЦИЯ НА ОПОРЕ 4. ПРОДОЛЬНАЯ    9.504900\n",
      "ТЕМПЕРАТУРА ПОДШИПНИКА НА ОПОРЕ 1  6.605085\n",
      "ТЕМПЕРАТУРА ПОДШИПНИКА НА ОПОРЕ 2  8.409675\n",
      "ТЕМПЕРАТУРА ПОДШИПНИКА НА ОПОРЕ 3  4.918894\n",
      "ТЕМПЕРАТУРА ПОДШИПНИКА НА ОПОРЕ 4  5.932281\n",
      "ТЕМПЕРАТУРА МАСЛА В МАСЛОБЛОКЕ     4.882336\n",
      "ТЕМПЕРАТУРА МАСЛА В СИСТЕМЕ        5.502093\n",
      "ДАВЛЕНИЕ МАСЛА В СИСТЕМЕ           6.311971\n",
      "Y_ЭКСГАУСТЕР А/М №4_КЛ2 ТР№4 ДО ЭД ЭКСГАУСТЕРА №4 M3 0.0 0 0 1\n"
     ]
    },
    {
     "data": {
      "application/vnd.jupyter.widget-view+json": {
       "model_id": "22dfd3259e4f4934b7f735615f0a01cd",
       "version_major": 2,
       "version_minor": 0
      },
      "text/plain": [
       "MetricVisualizer(layout=Layout(align_self='stretch', height='500px'))"
      ]
     },
     "metadata": {},
     "output_type": "display_data"
    },
    {
     "name": "stdout",
     "output_type": "stream",
     "text": [
      "0:\tlearn: 0.6613800\ttest: 0.6636008\tbest: 0.6636008 (0)\ttotal: 386ms\tremaining: 38.2s\n",
      "50:\tlearn: 0.1133115\ttest: 0.1135568\tbest: 0.1135568 (50)\ttotal: 21.1s\tremaining: 20.2s\n",
      "99:\tlearn: 0.0249101\ttest: 0.0249778\tbest: 0.0249778 (99)\ttotal: 41.4s\tremaining: 0us\n",
      "\n",
      "bestTest = 0.02497778154\n",
      "bestIteration = 99\n",
      "\n",
      "                                          0\n",
      "ТОК РОТОРА 1                       3.893767\n",
      "ТОК РОТОРА 2                       3.755787\n",
      "ТОК СТАТОРА                        3.745268\n",
      "ВИБРАЦИЯ НА ОПОРЕ 1                6.023068\n",
      "ВИБРАЦИЯ НА ОПОРЕ 2                8.542953\n",
      "ВИБРАЦИЯ НА ОПОРЕ 3                7.088542\n",
      "ВИБРАЦИЯ НА ОПОРЕ 3. ПРОДОЛЬНАЯ    7.474477\n",
      "ВИБРАЦИЯ НА ОПОРЕ 4                7.983142\n",
      "ВИБРАЦИЯ НА ОПОРЕ 4. ПРОДОЛЬНАЯ    9.411848\n",
      "ТЕМПЕРАТУРА ПОДШИПНИКА НА ОПОРЕ 1  5.879398\n",
      "ТЕМПЕРАТУРА ПОДШИПНИКА НА ОПОРЕ 2  8.094358\n",
      "ТЕМПЕРАТУРА ПОДШИПНИКА НА ОПОРЕ 3  5.062319\n",
      "ТЕМПЕРАТУРА ПОДШИПНИКА НА ОПОРЕ 4  5.981084\n",
      "ТЕМПЕРАТУРА МАСЛА В МАСЛОБЛОКЕ     4.945091\n",
      "ТЕМПЕРАТУРА МАСЛА В СИСТЕМЕ        5.719730\n",
      "ДАВЛЕНИЕ МАСЛА В СИСТЕМЕ           6.399166\n",
      "Y_ЭКСГАУСТЕР А/М №4_ТР-Р ТМ-4000-10/6 ЭКСГ. №4 M3 None 0 0 0\n"
     ]
    }
   ],
   "source": [
    "import catboost\n",
    "\n",
    "summary = dict()\n",
    "summary[\"model\"] = []\n",
    "summary[\"f1\"] = []\n",
    "summary[\"score\"] = []\n",
    "summary[\"TP\"] = []\n",
    "summary[\"FP\"] = []\n",
    "summary[\"FN\"] = []\n",
    "\n",
    "\n",
    "for col in y_train.columns:\n",
    "\n",
    "    target_train = y_train[col]\n",
    "    if len(target_train.unique())>1:\n",
    "        model = catboost.CatBoostClassifier(iterations=100, loss_function='CrossEntropy')\n",
    "\n",
    "        X_test = X_train.sample(10000)\n",
    "        target_test = target_train.loc[X_test.index.values]\n",
    "\n",
    "        X_val = X_train.sample(1000)\n",
    "        target_val = target_train.loc[X_val.index.values]\n",
    "\n",
    "        X_train = X_train#.sample(1000000)\n",
    "        target_train = target_train.loc[X_train.index.values]\n",
    "\n",
    "        model.fit(X_train.values, target_train.values, eval_set=(X_val.values, target_val.values), verbose=50, use_best_model=True, plot=True, early_stopping_rounds=100)\n",
    "        print(pd.DataFrame(model.feature_importances_, index=X_train.columns ))\n",
    "\n",
    "        model.save_model(\"ЭКСГАУСТЕР 4 \" +col.replace(\"/\", \"\")+\"__90\",format=\"cbm\",export_parameters=None, pool=None)\n",
    "        \n",
    "        pred = model.predict(X_test.values)\n",
    "        TP = sum((pred == 1)*(target_test == 1))\n",
    "        FP = sum((pred == 1)*(target_test == 0))\n",
    "        FN = sum((pred == 0)*(target_test == 1))\n",
    "        summary[\"model\"].append(\" ЭКСГАУСТЕР 4 \" + col.replace(\"/\", \"\")+\"__90\")\n",
    "        summary[\"TP\"].append(TP)\n",
    "        summary[\"FP\"].append(FP)\n",
    "        summary[\"FN\"].append(FN)\n",
    "        if (TP+FP+FN)!=0:\n",
    "            print(col, TP/(TP+FP+FN), TP, FP, FN)\n",
    "            summary[\"f1\"].append(2*TP/(2*TP+FP+FN))\n",
    "            summary[\"score\"].append(TP/(TP+FP+FN))\n",
    "        else:\n",
    "            print(col, None, TP, FP, FN)\n",
    "            summary[\"f1\"].append(None)\n",
    "            summary[\"score\"].append(None)\n",
    "    else:\n",
    "        summary[\"model\"].append(\"ЭКСГАУСТЕР 4 \" + col.replace(\"/\", \"\")+\"__90\")\n",
    "        summary[\"TP\"].append(0)\n",
    "        summary[\"FP\"].append(0)\n",
    "        summary[\"FN\"].append(0)\n",
    "        summary[\"f1\"].append(None)\n",
    "        summary[\"score\"].append(None)\n",
    "        \n",
    "            \n",
    "pd.DataFrame(summary).to_csv(\"summary ЭКСГАУСТЕР 4__90.csv\")"
   ]
  }
 ],
 "metadata": {
  "kernelspec": {
   "display_name": "Python 3",
   "language": "python",
   "name": "python3"
  },
  "language_info": {
   "codemirror_mode": {
    "name": "ipython",
    "version": 3
   },
   "file_extension": ".py",
   "mimetype": "text/x-python",
   "name": "python",
   "nbconvert_exporter": "python",
   "pygments_lexer": "ipython3",
   "version": "3.10.10"
  },
  "papermill": {
   "default_parameters": {},
   "duration": 2103.374039,
   "end_time": "2023-05-28T21:20:18.098575",
   "environment_variables": {},
   "exception": null,
   "input_path": "__notebook__.ipynb",
   "output_path": "__notebook__.ipynb",
   "parameters": {},
   "start_time": "2023-05-28T20:45:14.724536",
   "version": "2.4.0"
  },
  "widgets": {
   "application/vnd.jupyter.widget-state+json": {
    "state": {
     "068337a157764862a1dadddf5eaf4963": {
      "model_module": "catboost-widget",
      "model_module_version": "^1.0.0",
      "model_name": "CatboostWidgetModel",
      "state": {
       "_dom_classes": [],
       "_model_module": "catboost-widget",
       "_model_module_version": "^1.0.0",
       "_model_name": "CatboostWidgetModel",
       "_view_count": null,
       "_view_module": "catboost-widget",
       "_view_module_version": "^1.0.0",
       "_view_name": "CatboostWidgetView",
       "data": {
        "catboost_info": {
         "content": {
          "data": {
           "iterations": [
            {
             "iteration": 0,
             "learn": [
              0.6613836238
             ],
             "passed_time": 0.3737233827,
             "remaining_time": 36.99861489,
             "test": [
              0.6636019046
             ]
            },
            {
             "iteration": 1,
             "learn": [
              0.6363098425
             ],
             "passed_time": 0.7483675066,
             "remaining_time": 36.67000782,
             "test": [
              0.6357773562
             ]
            },
            {
             "iteration": 2,
             "learn": [
              0.609386422
             ],
             "passed_time": 1.141603579,
             "remaining_time": 36.91184906,
             "test": [
              0.6095269054
             ]
            },
            {
             "iteration": 3,
             "learn": [
              0.5837396838
             ],
             "passed_time": 1.495218319,
             "remaining_time": 35.88523966,
             "test": [
              0.5847215908
             ]
            },
            {
             "iteration": 4,
             "learn": [
              0.5622177616
             ],
             "passed_time": 1.99138684,
             "remaining_time": 37.83634996,
             "test": [
              0.5612482159
             ]
            },
            {
             "iteration": 5,
             "learn": [
              0.5377535063
             ],
             "passed_time": 2.391626075,
             "remaining_time": 37.4688085,
             "test": [
              0.5390041061
             ]
            },
            {
             "iteration": 6,
             "learn": [
              0.5169082687
             ],
             "passed_time": 2.846132568,
             "remaining_time": 37.81290412,
             "test": [
              0.5179011059
             ]
            },
            {
             "iteration": 7,
             "learn": [
              0.4987154958
             ],
             "passed_time": 3.209006939,
             "remaining_time": 36.90357979,
             "test": [
              0.4978562413
             ]
            },
            {
             "iteration": 8,
             "learn": [
              0.4785651856
             ],
             "passed_time": 3.575020803,
             "remaining_time": 36.14743256,
             "test": [
              0.4787985597
             ]
            },
            {
             "iteration": 9,
             "learn": [
              0.4606113568
             ],
             "passed_time": 3.953743919,
             "remaining_time": 35.58369527,
             "test": [
              0.4606540149
             ]
            },
            {
             "iteration": 10,
             "learn": [
              0.4438721836
             ],
             "passed_time": 4.333325376,
             "remaining_time": 35.06054168,
             "test": [
              0.4433673134
             ]
            },
            {
             "iteration": 11,
             "learn": [
              0.4280877614
             ],
             "passed_time": 4.711125505,
             "remaining_time": 34.5482537,
             "test": [
              0.4268824321
             ]
            },
            {
             "iteration": 12,
             "learn": [
              0.4121986404
             ],
             "passed_time": 5.101127822,
             "remaining_time": 34.13831696,
             "test": [
              0.4111509042
             ]
            },
            {
             "iteration": 13,
             "learn": [
              0.3968244375
             ],
             "passed_time": 5.489852364,
             "remaining_time": 33.72337881,
             "test": [
              0.3961260121
             ]
            },
            {
             "iteration": 14,
             "learn": [
              0.3824609317
             ],
             "passed_time": 5.901947598,
             "remaining_time": 33.44436972,
             "test": [
              0.3817708555
             ]
            },
            {
             "iteration": 15,
             "learn": [
              0.367396293
             ],
             "passed_time": 6.394917148,
             "remaining_time": 33.57331502,
             "test": [
              0.3680368371
             ]
            },
            {
             "iteration": 16,
             "learn": [
              0.3540055984
             ],
             "passed_time": 6.840619445,
             "remaining_time": 33.39831847,
             "test": [
              0.3548928945
             ]
            },
            {
             "iteration": 17,
             "learn": [
              0.3432312754
             ],
             "passed_time": 7.177909625,
             "remaining_time": 32.69936607,
             "test": [
              0.3423067772
             ]
            },
            {
             "iteration": 18,
             "learn": [
              0.3301451697
             ],
             "passed_time": 7.568290127,
             "remaining_time": 32.2648158,
             "test": [
              0.3302468039
             ]
            },
            {
             "iteration": 19,
             "learn": [
              0.3197405032
             ],
             "passed_time": 8.016705497,
             "remaining_time": 32.06682199,
             "test": [
              0.3186885067
             ]
            },
            {
             "iteration": 20,
             "learn": [
              0.3070713062
             ],
             "passed_time": 8.457897054,
             "remaining_time": 31.8178032,
             "test": [
              0.307600656
             ]
            },
            {
             "iteration": 21,
             "learn": [
              0.2969481282
             ],
             "passed_time": 8.851527499,
             "remaining_time": 31.3826884,
             "test": [
              0.2969609863
             ]
            },
            {
             "iteration": 22,
             "learn": [
              0.2868731819
             ],
             "passed_time": 9.265117671,
             "remaining_time": 31.01800264,
             "test": [
              0.2867472205
             ]
            },
            {
             "iteration": 23,
             "learn": [
              0.2765993189
             ],
             "passed_time": 9.72310307,
             "remaining_time": 30.78982639,
             "test": [
              0.2769363621
             ]
            },
            {
             "iteration": 24,
             "learn": [
              0.266571626
             ],
             "passed_time": 10.1021126,
             "remaining_time": 30.30633779,
             "test": [
              0.2675098014
             ]
            },
            {
             "iteration": 25,
             "learn": [
              0.2580612229
             ],
             "passed_time": 10.47071837,
             "remaining_time": 29.80127536,
             "test": [
              0.2584484426
             ]
            },
            {
             "iteration": 26,
             "learn": [
              0.2500389467
             ],
             "passed_time": 10.86651237,
             "remaining_time": 29.37982973,
             "test": [
              0.2497374439
             ]
            },
            {
             "iteration": 27,
             "learn": [
              0.2420534869
             ],
             "passed_time": 11.2334046,
             "remaining_time": 28.88589754,
             "test": [
              0.2413561228
             ]
            },
            {
             "iteration": 28,
             "learn": [
              0.2337645777
             ],
             "passed_time": 11.69417279,
             "remaining_time": 28.63056097,
             "test": [
              0.2333030298
             ]
            },
            {
             "iteration": 29,
             "learn": [
              0.2259330192
             ],
             "passed_time": 12.15860621,
             "remaining_time": 28.37008115,
             "test": [
              0.225541163
             ]
            },
            {
             "iteration": 30,
             "learn": [
              0.21861277
             ],
             "passed_time": 12.66569238,
             "remaining_time": 28.19137982,
             "test": [
              0.2180676393
             ]
            },
            {
             "iteration": 31,
             "learn": [
              0.2110196043
             ],
             "passed_time": 13.02896331,
             "remaining_time": 27.68654703,
             "test": [
              0.2108732773
             ]
            },
            {
             "iteration": 32,
             "learn": [
              0.2034699514
             ],
             "passed_time": 13.51324175,
             "remaining_time": 27.43597567,
             "test": [
              0.2039381253
             ]
            },
            {
             "iteration": 33,
             "learn": [
              0.1965828595
             ],
             "passed_time": 13.94662386,
             "remaining_time": 27.07285808,
             "test": [
              0.1972555117
             ]
            },
            {
             "iteration": 34,
             "learn": [
              0.1912693255
             ],
             "passed_time": 14.38749258,
             "remaining_time": 26.71962908,
             "test": [
              0.1908149448
             ]
            },
            {
             "iteration": 35,
             "learn": [
              0.1840344999
             ],
             "passed_time": 14.74798057,
             "remaining_time": 26.21863212,
             "test": [
              0.1846054448
             ]
            },
            {
             "iteration": 36,
             "learn": [
              0.1788614769
             ],
             "passed_time": 15.28820828,
             "remaining_time": 26.03127356,
             "test": [
              0.1786168528
             ]
            },
            {
             "iteration": 37,
             "learn": [
              0.1723290972
             ],
             "passed_time": 15.79936182,
             "remaining_time": 25.77790613,
             "test": [
              0.1728402239
             ]
            },
            {
             "iteration": 38,
             "learn": [
              0.1677687942
             ],
             "passed_time": 16.33301818,
             "remaining_time": 25.54651562,
             "test": [
              0.167267583
             ]
            },
            {
             "iteration": 39,
             "learn": [
              0.161569672
             ],
             "passed_time": 16.73133899,
             "remaining_time": 25.09700848,
             "test": [
              0.161889278
             ]
            },
            {
             "iteration": 40,
             "learn": [
              0.1564511675
             ],
             "passed_time": 17.15259138,
             "remaining_time": 24.68299735,
             "test": [
              0.1566987558
             ]
            },
            {
             "iteration": 41,
             "learn": [
              0.152126819
             ],
             "passed_time": 17.5681036,
             "remaining_time": 24.2607145,
             "test": [
              0.1516883826
             ]
            },
            {
             "iteration": 42,
             "learn": [
              0.1471334273
             ],
             "passed_time": 17.99138945,
             "remaining_time": 23.84905114,
             "test": [
              0.1468504382
             ]
            },
            {
             "iteration": 43,
             "learn": [
              0.1419968675
             ],
             "passed_time": 18.40560718,
             "remaining_time": 23.42531823,
             "test": [
              0.1421784125
             ]
            },
            {
             "iteration": 44,
             "learn": [
              0.1372547817
             ],
             "passed_time": 18.83707581,
             "remaining_time": 23.02309266,
             "test": [
              0.1376659179
             ]
            },
            {
             "iteration": 45,
             "learn": [
              0.1330439538
             ],
             "passed_time": 19.28407386,
             "remaining_time": 22.63782584,
             "test": [
              0.1333062932
             ]
            },
            {
             "iteration": 46,
             "learn": [
              0.1290529391
             ],
             "passed_time": 19.6429548,
             "remaining_time": 22.15056605,
             "test": [
              0.1290945195
             ]
            },
            {
             "iteration": 47,
             "learn": [
              0.1251298286
             ],
             "passed_time": 20.16176423,
             "remaining_time": 21.84191125,
             "test": [
              0.1250253083
             ]
            },
            {
             "iteration": 48,
             "learn": [
              0.1212203189
             ],
             "passed_time": 20.59713543,
             "remaining_time": 21.43783484,
             "test": [
              0.1210926237
             ]
            },
            {
             "iteration": 49,
             "learn": [
              0.1173354967
             ],
             "passed_time": 20.93247979,
             "remaining_time": 20.93247979,
             "test": [
              0.1172905316
             ]
            },
            {
             "iteration": 50,
             "learn": [
              0.1134726215
             ],
             "passed_time": 21.33454271,
             "remaining_time": 20.49789397,
             "test": [
              0.1136165806
             ]
            },
            {
             "iteration": 51,
             "learn": [
              0.1099074247
             ],
             "passed_time": 21.68144377,
             "remaining_time": 20.01364041,
             "test": [
              0.1100632811
             ]
            },
            {
             "iteration": 52,
             "learn": [
              0.1070572239
             ],
             "passed_time": 22.00857975,
             "remaining_time": 19.51704242,
             "test": [
              0.1066271445
             ]
            },
            {
             "iteration": 53,
             "learn": [
              0.1035531822
             ],
             "passed_time": 22.3480424,
             "remaining_time": 19.03722131,
             "test": [
              0.1033046621
             ]
            },
            {
             "iteration": 54,
             "learn": [
              0.09988509672
             ],
             "passed_time": 22.80013449,
             "remaining_time": 18.65465549,
             "test": [
              0.1000913547
             ]
            },
            {
             "iteration": 55,
             "learn": [
              0.09727736766
             ],
             "passed_time": 23.20909193,
             "remaining_time": 18.23571509,
             "test": [
              0.09698340175
             ]
            },
            {
             "iteration": 56,
             "learn": [
              0.0939248954
             ],
             "passed_time": 23.67208486,
             "remaining_time": 17.85788858,
             "test": [
              0.09397572034
             ]
            },
            {
             "iteration": 57,
             "learn": [
              0.09136422137
             ],
             "passed_time": 24.12087244,
             "remaining_time": 17.46683866,
             "test": [
              0.09106742098
             ]
            },
            {
             "iteration": 58,
             "learn": [
              0.08811032766
             ],
             "passed_time": 24.52105078,
             "remaining_time": 17.04005224,
             "test": [
              0.08825198493
             ]
            },
            {
             "iteration": 59,
             "learn": [
              0.08563232
             ],
             "passed_time": 24.93852161,
             "remaining_time": 16.62568107,
             "test": [
              0.08552815739
             ]
            },
            {
             "iteration": 60,
             "learn": [
              0.08274822133
             ],
             "passed_time": 25.36064775,
             "remaining_time": 16.21418463,
             "test": [
              0.08289127835
             ]
            },
            {
             "iteration": 61,
             "learn": [
              0.08026940401
             ],
             "passed_time": 25.77261832,
             "remaining_time": 15.79612091,
             "test": [
              0.08033933925
             ]
            },
            {
             "iteration": 62,
             "learn": [
              0.07813098717
             ],
             "passed_time": 26.16510607,
             "remaining_time": 15.36680833,
             "test": [
              0.07786936122
             ]
            },
            {
             "iteration": 63,
             "learn": [
              0.07566147265
             ],
             "passed_time": 26.56186333,
             "remaining_time": 14.94104812,
             "test": [
              0.07547881464
             ]
            },
            {
             "iteration": 64,
             "learn": [
              0.0731227794
             ],
             "passed_time": 27.00101923,
             "remaining_time": 14.53901035,
             "test": [
              0.07316442037
             ]
            },
            {
             "iteration": 65,
             "learn": [
              0.07074349707
             ],
             "passed_time": 27.41645829,
             "remaining_time": 14.12363003,
             "test": [
              0.07092320913
             ]
            },
            {
             "iteration": 66,
             "learn": [
              0.06863745387
             ],
             "passed_time": 27.84985131,
             "remaining_time": 13.71709094,
             "test": [
              0.06875342616
             ]
            },
            {
             "iteration": 67,
             "learn": [
              0.06661351002
             ],
             "passed_time": 28.19835172,
             "remaining_time": 13.26981258,
             "test": [
              0.06665323248
             ]
            },
            {
             "iteration": 68,
             "learn": [
              0.06464572462
             ],
             "passed_time": 28.61417864,
             "remaining_time": 12.85564548,
             "test": [
              0.06461832124
             ]
            },
            {
             "iteration": 69,
             "learn": [
              0.06269230056
             ],
             "passed_time": 28.94283523,
             "remaining_time": 12.40407224,
             "test": [
              0.06264782696
             ]
            },
            {
             "iteration": 70,
             "learn": [
              0.06074776179
             ],
             "passed_time": 29.29495781,
             "remaining_time": 11.96554615,
             "test": [
              0.06073935931
             ]
            },
            {
             "iteration": 71,
             "learn": [
              0.0588393241
             ],
             "passed_time": 29.66758624,
             "remaining_time": 11.53739465,
             "test": [
              0.05889095523
             ]
            },
            {
             "iteration": 72,
             "learn": [
              0.05703265371
             ],
             "passed_time": 30.05900959,
             "remaining_time": 11.11771587,
             "test": [
              0.05710061957
             ]
            },
            {
             "iteration": 73,
             "learn": [
              0.05560819239
             ],
             "passed_time": 30.50758353,
             "remaining_time": 10.7188807,
             "test": [
              0.05536619965
             ]
            },
            {
             "iteration": 74,
             "learn": [
              0.05385571968
             ],
             "passed_time": 30.94749551,
             "remaining_time": 10.31583184,
             "test": [
              0.05368635484
             ]
            },
            {
             "iteration": 75,
             "learn": [
              0.05201510584
             ],
             "passed_time": 31.35938329,
             "remaining_time": 9.902963145,
             "test": [
              0.05206103615
             ]
            },
            {
             "iteration": 76,
             "learn": [
              0.05071289984
             ],
             "passed_time": 31.85218956,
             "remaining_time": 9.514290387,
             "test": [
              0.05048395426
             ]
            },
            {
             "iteration": 77,
             "learn": [
              0.04902619303
             ],
             "passed_time": 32.25421892,
             "remaining_time": 9.097343799,
             "test": [
              0.04895593601
             ]
            },
            {
             "iteration": 78,
             "learn": [
              0.04743513921
             ],
             "passed_time": 32.63977846,
             "remaining_time": 8.676396805,
             "test": [
              0.047478169
             ]
            },
            {
             "iteration": 79,
             "learn": [
              0.04609806146
             ],
             "passed_time": 33.02631024,
             "remaining_time": 8.25657756,
             "test": [
              0.04604358555
             ]
            },
            {
             "iteration": 80,
             "learn": [
              0.04483578819
             ],
             "passed_time": 33.38385917,
             "remaining_time": 7.83078178,
             "test": [
              0.0446539319
             ]
            },
            {
             "iteration": 81,
             "learn": [
              0.04326863488
             ],
             "passed_time": 33.74732284,
             "remaining_time": 7.407948916,
             "test": [
              0.04330663417
             ]
            },
            {
             "iteration": 82,
             "learn": [
              0.04215103101
             ],
             "passed_time": 34.09669267,
             "remaining_time": 6.983659944,
             "test": [
              0.04199898311
             ]
            },
            {
             "iteration": 83,
             "learn": [
              0.04090680934
             ],
             "passed_time": 34.45024251,
             "remaining_time": 6.561950954,
             "test": [
              0.04073352325
             ]
            },
            {
             "iteration": 84,
             "learn": [
              0.03954563044
             ],
             "passed_time": 34.86949144,
             "remaining_time": 6.153439666,
             "test": [
              0.03950677854
             ]
            },
            {
             "iteration": 85,
             "learn": [
              0.03832943135
             ],
             "passed_time": 35.34017336,
             "remaining_time": 5.753051477,
             "test": [
              0.03831771357
             ]
            },
            {
             "iteration": 86,
             "learn": [
              0.03729807218
             ],
             "passed_time": 35.67405611,
             "remaining_time": 5.330606085,
             "test": [
              0.03716563343
             ]
            },
            {
             "iteration": 87,
             "learn": [
              0.0362479709
             ],
             "passed_time": 36.09934993,
             "remaining_time": 4.922638627,
             "test": [
              0.03604922442
             ]
            },
            {
             "iteration": 88,
             "learn": [
              0.0350700565
             ],
             "passed_time": 36.49605784,
             "remaining_time": 4.510748722,
             "test": [
              0.03496673868
             ]
            },
            {
             "iteration": 89,
             "learn": [
              0.03402902208
             ],
             "passed_time": 36.93538854,
             "remaining_time": 4.10393206,
             "test": [
              0.03391850463
             ]
            },
            {
             "iteration": 90,
             "learn": [
              0.03302405994
             ],
             "passed_time": 37.30346926,
             "remaining_time": 3.689354102,
             "test": [
              0.03290185396
             ]
            },
            {
             "iteration": 91,
             "learn": [
              0.03203485805
             ],
             "passed_time": 37.73470609,
             "remaining_time": 3.281278791,
             "test": [
              0.03191629441
             ]
            },
            {
             "iteration": 92,
             "learn": [
              0.03105815428
             ],
             "passed_time": 38.1435142,
             "remaining_time": 2.871017198,
             "test": [
              0.03096025845
             ]
            },
            {
             "iteration": 93,
             "learn": [
              0.0301161123
             ],
             "passed_time": 38.59990207,
             "remaining_time": 2.463823537,
             "test": [
              0.03003353593
             ]
            },
            {
             "iteration": 94,
             "learn": [
              0.02919556289
             ],
             "passed_time": 39.04928621,
             "remaining_time": 2.05522559,
             "test": [
              0.02913489959
             ]
            },
            {
             "iteration": 95,
             "learn": [
              0.02844346557
             ],
             "passed_time": 39.49364376,
             "remaining_time": 1.64556849,
             "test": [
              0.02826348021
             ]
            },
            {
             "iteration": 96,
             "learn": [
              0.0275409844
             ],
             "passed_time": 39.80912741,
             "remaining_time": 1.231210126,
             "test": [
              0.02741649104
             ]
            },
            {
             "iteration": 97,
             "learn": [
              0.02663293443
             ],
             "passed_time": 40.23304341,
             "remaining_time": 0.8210825185,
             "test": [
              0.0265974525
             ]
            },
            {
             "iteration": 98,
             "learn": [
              0.02595302523
             ],
             "passed_time": 40.52052495,
             "remaining_time": 0.4092982318,
             "test": [
              0.0258010421
             ]
            },
            {
             "iteration": 99,
             "learn": [
              0.02509993105
             ],
             "passed_time": 40.88211769,
             "remaining_time": 0,
             "test": [
              0.02503077147
             ]
            }
           ],
           "meta": {
            "iteration_count": 100,
            "launch_mode": "Train",
            "learn_metrics": [
             {
              "best_value": "Min",
              "name": "CrossEntropy"
             }
            ],
            "learn_sets": [
             "learn"
            ],
            "name": "experiment",
            "parameters": "",
            "test_metrics": [
             {
              "best_value": "Min",
              "name": "CrossEntropy"
             }
            ],
            "test_sets": [
             "test"
            ]
           }
          },
          "passed_iterations": 99,
          "total_iterations": 100
         },
         "name": "catboost_info",
         "path": "catboost_info"
        }
       },
       "layout": "IPY_MODEL_dd106c56d97a4aa39a579367cafe9b88"
      }
     },
     "0959573c8922452dbec1050c0ffcbcc7": {
      "model_module": "catboost-widget",
      "model_module_version": "^1.0.0",
      "model_name": "CatboostWidgetModel",
      "state": {
       "_dom_classes": [],
       "_model_module": "catboost-widget",
       "_model_module_version": "^1.0.0",
       "_model_name": "CatboostWidgetModel",
       "_view_count": null,
       "_view_module": "catboost-widget",
       "_view_module_version": "^1.0.0",
       "_view_name": "CatboostWidgetView",
       "data": {
        "catboost_info": {
         "content": {
          "data": {
           "iterations": [
            {
             "iteration": 0,
             "learn": [
              0.6614477522
             ],
             "passed_time": 0.375912654,
             "remaining_time": 37.21535274,
             "test": [
              0.6636173075
             ]
            },
            {
             "iteration": 1,
             "learn": [
              0.6363496682
             ],
             "passed_time": 0.7370539208,
             "remaining_time": 36.11564212,
             "test": [
              0.6358061831
             ]
            },
            {
             "iteration": 2,
             "learn": [
              0.60944227
             ],
             "passed_time": 1.174949515,
             "remaining_time": 37.99003431,
             "test": [
              0.6095653386
             ]
            },
            {
             "iteration": 3,
             "learn": [
              0.5838534563
             ],
             "passed_time": 1.531614644,
             "remaining_time": 36.75875145,
             "test": [
              0.5847710132
             ]
            },
            {
             "iteration": 4,
             "learn": [
              0.5622985827
             ],
             "passed_time": 1.989286192,
             "remaining_time": 37.79643765,
             "test": [
              0.5613072536
             ]
            },
            {
             "iteration": 5,
             "learn": [
              0.5380409736
             ],
             "passed_time": 2.388479965,
             "remaining_time": 37.41951945,
             "test": [
              0.5390723509
             ]
            },
            {
             "iteration": 6,
             "learn": [
              0.5170452005
             ],
             "passed_time": 2.839613265,
             "remaining_time": 37.72629052,
             "test": [
              0.5179759358
             ]
            },
            {
             "iteration": 7,
             "learn": [
              0.4988521385
             ],
             "passed_time": 3.205732667,
             "remaining_time": 36.86592567,
             "test": [
              0.4979373916
             ]
            },
            {
             "iteration": 8,
             "learn": [
              0.4787428631
             ],
             "passed_time": 3.530392046,
             "remaining_time": 35.69618624,
             "test": [
              0.478880149
             ]
            },
            {
             "iteration": 9,
             "learn": [
              0.4608038605
             ],
             "passed_time": 3.909710888,
             "remaining_time": 35.187398,
             "test": [
              0.4607409185
             ]
            },
            {
             "iteration": 10,
             "learn": [
              0.4441900525
             ],
             "passed_time": 4.291420694,
             "remaining_time": 34.7214947,
             "test": [
              0.4434585441
             ]
            },
            {
             "iteration": 11,
             "learn": [
              0.4282623567
             ],
             "passed_time": 4.665611435,
             "remaining_time": 34.21448386,
             "test": [
              0.426978747
             ]
            },
            {
             "iteration": 12,
             "learn": [
              0.4124171425
             ],
             "passed_time": 5.057405544,
             "remaining_time": 33.84571403,
             "test": [
              0.4112531477
             ]
            },
            {
             "iteration": 13,
             "learn": [
              0.3970309394
             ],
             "passed_time": 5.45123945,
             "remaining_time": 33.48618519,
             "test": [
              0.396235906
             ]
            },
            {
             "iteration": 14,
             "learn": [
              0.38270327
             ],
             "passed_time": 5.865768017,
             "remaining_time": 33.2393521,
             "test": [
              0.3818811372
             ]
            },
            {
             "iteration": 15,
             "learn": [
              0.3676983106
             ],
             "passed_time": 6.363861679,
             "remaining_time": 33.41027381,
             "test": [
              0.368152146
             ]
            },
            {
             "iteration": 16,
             "learn": [
              0.3542966015
             ],
             "passed_time": 6.812516973,
             "remaining_time": 33.26111228,
             "test": [
              0.3550133601
             ]
            },
            {
             "iteration": 17,
             "learn": [
              0.3434824528
             ],
             "passed_time": 7.172596377,
             "remaining_time": 32.67516127,
             "test": [
              0.342425624
             ]
            },
            {
             "iteration": 18,
             "learn": [
              0.3304187506
             ],
             "passed_time": 7.557969233,
             "remaining_time": 32.2208162,
             "test": [
              0.3303596952
             ]
            },
            {
             "iteration": 19,
             "learn": [
              0.3199926926
             ],
             "passed_time": 8.015610483,
             "remaining_time": 32.06244193,
             "test": [
              0.3188058444
             ]
            },
            {
             "iteration": 20,
             "learn": [
              0.307403344
             ],
             "passed_time": 8.45991633,
             "remaining_time": 31.82539953,
             "test": [
              0.3077220122
             ]
            },
            {
             "iteration": 21,
             "learn": [
              0.2972761965
             ],
             "passed_time": 8.855336258,
             "remaining_time": 31.39619219,
             "test": [
              0.2970858332
             ]
            },
            {
             "iteration": 22,
             "learn": [
              0.2871441472
             ],
             "passed_time": 9.238578959,
             "remaining_time": 30.92915565,
             "test": [
              0.2868654653
             ]
            },
            {
             "iteration": 23,
             "learn": [
              0.2769219589
             ],
             "passed_time": 9.695133151,
             "remaining_time": 30.70125498,
             "test": [
              0.2770575271
             ]
            },
            {
             "iteration": 24,
             "learn": [
              0.2669568763
             ],
             "passed_time": 10.07389634,
             "remaining_time": 30.22168902,
             "test": [
              0.2676330831
             ]
            },
            {
             "iteration": 25,
             "learn": [
              0.2583864653
             ],
             "passed_time": 10.41329555,
             "remaining_time": 29.63784119,
             "test": [
              0.2585667943
             ]
            },
            {
             "iteration": 26,
             "learn": [
              0.2503418908
             ],
             "passed_time": 10.79485013,
             "remaining_time": 29.18607629,
             "test": [
              0.2498545475
             ]
            },
            {
             "iteration": 27,
             "learn": [
              0.2423674454
             ],
             "passed_time": 11.15719659,
             "remaining_time": 28.68993409,
             "test": [
              0.2414778502
             ]
            },
            {
             "iteration": 28,
             "learn": [
              0.2341052706
             ],
             "passed_time": 11.61833649,
             "remaining_time": 28.44489279,
             "test": [
              0.2334183052
             ]
            },
            {
             "iteration": 29,
             "learn": [
              0.2262879403
             ],
             "passed_time": 12.12880286,
             "remaining_time": 28.30054001,
             "test": [
              0.2256613321
             ]
            },
            {
             "iteration": 30,
             "learn": [
              0.2189613032
             ],
             "passed_time": 12.59934626,
             "remaining_time": 28.04370619,
             "test": [
              0.2181907844
             ]
            },
            {
             "iteration": 31,
             "learn": [
              0.2113663631
             ],
             "passed_time": 12.96683335,
             "remaining_time": 27.55452088,
             "test": [
              0.2109964325
             ]
            },
            {
             "iteration": 32,
             "learn": [
              0.203825786
             ],
             "passed_time": 13.45558876,
             "remaining_time": 27.31892264,
             "test": [
              0.2040649574
             ]
            },
            {
             "iteration": 33,
             "learn": [
              0.1970940631
             ],
             "passed_time": 13.88657025,
             "remaining_time": 26.95628343,
             "test": [
              0.1973769674
             ]
            },
            {
             "iteration": 34,
             "learn": [
              0.1916327572
             ],
             "passed_time": 14.33004223,
             "remaining_time": 26.61293558,
             "test": [
              0.1909399281
             ]
            },
            {
             "iteration": 35,
             "learn": [
              0.1844516896
             ],
             "passed_time": 14.69118888,
             "remaining_time": 26.11766911,
             "test": [
              0.1847325497
             ]
            },
            {
             "iteration": 36,
             "learn": [
              0.1792356765
             ],
             "passed_time": 15.07706967,
             "remaining_time": 25.67176728,
             "test": [
              0.1787433631
             ]
            },
            {
             "iteration": 37,
             "learn": [
              0.1727272683
             ],
             "passed_time": 15.44886799,
             "remaining_time": 25.20604777,
             "test": [
              0.1729718859
             ]
            },
            {
             "iteration": 38,
             "learn": [
              0.1681518959
             ],
             "passed_time": 15.87086494,
             "remaining_time": 24.82366055,
             "test": [
              0.1674011622
             ]
            },
            {
             "iteration": 39,
             "learn": [
              0.1619631408
             ],
             "passed_time": 16.2070089,
             "remaining_time": 24.31051336,
             "test": [
              0.1620182061
             ]
            },
            {
             "iteration": 40,
             "learn": [
              0.1568238396
             ],
             "passed_time": 16.6375526,
             "remaining_time": 23.94184399,
             "test": [
              0.1568301389
             ]
            },
            {
             "iteration": 41,
             "learn": [
              0.1525069074
             ],
             "passed_time": 17.05146284,
             "remaining_time": 23.54725821,
             "test": [
              0.1518210792
             ]
            },
            {
             "iteration": 42,
             "learn": [
              0.1475150568
             ],
             "passed_time": 17.43936549,
             "remaining_time": 23.11729844,
             "test": [
              0.1469833541
             ]
            },
            {
             "iteration": 43,
             "learn": [
              0.1423868334
             ],
             "passed_time": 17.74087719,
             "remaining_time": 22.57929824,
             "test": [
              0.1423053854
             ]
            },
            {
             "iteration": 44,
             "learn": [
              0.1376170866
             ],
             "passed_time": 18.17387921,
             "remaining_time": 22.21251904,
             "test": [
              0.1377972234
             ]
            },
            {
             "iteration": 45,
             "learn": [
              0.1334100375
             ],
             "passed_time": 18.57290802,
             "remaining_time": 21.80297897,
             "test": [
              0.1334367736
             ]
            },
            {
             "iteration": 46,
             "learn": [
              0.1294006051
             ],
             "passed_time": 18.91299845,
             "remaining_time": 21.32742379,
             "test": [
              0.1292234248
             ]
            },
            {
             "iteration": 47,
             "learn": [
              0.1254756447
             ],
             "passed_time": 19.39482784,
             "remaining_time": 21.01106349,
             "test": [
              0.1251555044
             ]
            },
            {
             "iteration": 48,
             "learn": [
              0.1215683431
             ],
             "passed_time": 19.81971199,
             "remaining_time": 20.62867982,
             "test": [
              0.121224797
             ]
            },
            {
             "iteration": 49,
             "learn": [
              0.1176961191
             ],
             "passed_time": 20.15866117,
             "remaining_time": 20.15866117,
             "test": [
              0.1174256938
             ]
            },
            {
             "iteration": 50,
             "learn": [
              0.1138501304
             ],
             "passed_time": 20.56283114,
             "remaining_time": 19.7564456,
             "test": [
              0.1137536526
             ]
            },
            {
             "iteration": 51,
             "learn": [
              0.1102780184
             ],
             "passed_time": 20.88755756,
             "remaining_time": 19.28082236,
             "test": [
              0.1101983508
             ]
            },
            {
             "iteration": 52,
             "learn": [
              0.1074158765
             ],
             "passed_time": 21.22005087,
             "remaining_time": 18.81778096,
             "test": [
              0.1067657603
             ]
            },
            {
             "iteration": 53,
             "learn": [
              0.103903638
             ],
             "passed_time": 21.55235699,
             "remaining_time": 18.35941522,
             "test": [
              0.1034391859
             ]
            },
            {
             "iteration": 54,
             "learn": [
              0.1002587693
             ],
             "passed_time": 22.01033783,
             "remaining_time": 18.00845822,
             "test": [
              0.1002279859
             ]
            },
            {
             "iteration": 55,
             "learn": [
              0.09762503863
             ],
             "passed_time": 22.36685765,
             "remaining_time": 17.57395958,
             "test": [
              0.09711452967
             ]
            },
            {
             "iteration": 56,
             "learn": [
              0.09424674874
             ],
             "passed_time": 22.67382207,
             "remaining_time": 17.10481314,
             "test": [
              0.09410212771
             ]
            },
            {
             "iteration": 57,
             "learn": [
              0.09168006799
             ],
             "passed_time": 23.11304147,
             "remaining_time": 16.73703003,
             "test": [
              0.09118718518
             ]
            },
            {
             "iteration": 58,
             "learn": [
              0.08843177844
             ],
             "passed_time": 23.51574895,
             "remaining_time": 16.34145266,
             "test": [
              0.08837303223
             ]
            },
            {
             "iteration": 59,
             "learn": [
              0.08597169885
             ],
             "passed_time": 23.83032786,
             "remaining_time": 15.88688524,
             "test": [
              0.08564642935
             ]
            },
            {
             "iteration": 60,
             "learn": [
              0.08312089005
             ],
             "passed_time": 24.25834461,
             "remaining_time": 15.50943344,
             "test": [
              0.0830123714
             ]
            },
            {
             "iteration": 61,
             "learn": [
              0.08057884139
             ],
             "passed_time": 24.60464612,
             "remaining_time": 15.08026697,
             "test": [
              0.0804581984
             ]
            },
            {
             "iteration": 62,
             "learn": [
              0.07841818201
             ],
             "passed_time": 25.00194093,
             "remaining_time": 14.68367959,
             "test": [
              0.07798551645
             ]
            },
            {
             "iteration": 63,
             "learn": [
              0.07593996303
             ],
             "passed_time": 25.38830327,
             "remaining_time": 14.28092059,
             "test": [
              0.07559143979
             ]
            },
            {
             "iteration": 64,
             "learn": [
              0.0734699919
             ],
             "passed_time": 25.83169474,
             "remaining_time": 13.90937409,
             "test": [
              0.07327921578
             ]
            },
            {
             "iteration": 65,
             "learn": [
              0.07107799461
             ],
             "passed_time": 26.23078296,
             "remaining_time": 13.51282759,
             "test": [
              0.07103415448
             ]
            },
            {
             "iteration": 66,
             "learn": [
              0.06893938775
             ],
             "passed_time": 26.66297029,
             "remaining_time": 13.13250776,
             "test": [
              0.06886627112
             ]
            },
            {
             "iteration": 67,
             "learn": [
              0.06689414448
             ],
             "passed_time": 27.01269972,
             "remaining_time": 12.71185869,
             "test": [
              0.06676928519
             ]
            },
            {
             "iteration": 68,
             "learn": [
              0.06490697696
             ],
             "passed_time": 27.38825837,
             "remaining_time": 12.3048697,
             "test": [
              0.06473014083
             ]
            },
            {
             "iteration": 69,
             "learn": [
              0.06295528621
             ],
             "passed_time": 27.71361022,
             "remaining_time": 11.87726152,
             "test": [
              0.06276088138
             ]
            },
            {
             "iteration": 70,
             "learn": [
              0.06101892448
             ],
             "passed_time": 28.07606432,
             "remaining_time": 11.46768824,
             "test": [
              0.06085436631
             ]
            },
            {
             "iteration": 71,
             "learn": [
              0.05911662985
             ],
             "passed_time": 28.43507775,
             "remaining_time": 11.05808579,
             "test": [
              0.05900548628
             ]
            },
            {
             "iteration": 72,
             "learn": [
              0.0573302107
             ],
             "passed_time": 28.82723291,
             "remaining_time": 10.66212724,
             "test": [
              0.05721685321
             ]
            },
            {
             "iteration": 73,
             "learn": [
              0.05587897883
             ],
             "passed_time": 29.26845831,
             "remaining_time": 10.28351238,
             "test": [
              0.05548577848
             ]
            },
            {
             "iteration": 74,
             "learn": [
              0.05411686762
             ],
             "passed_time": 29.60681788,
             "remaining_time": 9.868939293,
             "test": [
              0.05380151494
             ]
            },
            {
             "iteration": 75,
             "learn": [
              0.05228200827
             ],
             "passed_time": 30.1107435,
             "remaining_time": 9.508655842,
             "test": [
              0.0521689337
             ]
            },
            {
             "iteration": 76,
             "learn": [
              0.05094896618
             ],
             "passed_time": 30.6670341,
             "remaining_time": 9.160282913,
             "test": [
              0.05058862425
             ]
            },
            {
             "iteration": 77,
             "learn": [
              0.04925817247
             ],
             "passed_time": 31.1983879,
             "remaining_time": 8.799545304,
             "test": [
              0.0490581689
             ]
            },
            {
             "iteration": 78,
             "learn": [
              0.04775538563
             ],
             "passed_time": 31.54604623,
             "remaining_time": 8.385657857,
             "test": [
              0.04757491095
             ]
            },
            {
             "iteration": 79,
             "learn": [
              0.04630748544
             ],
             "passed_time": 31.82675589,
             "remaining_time": 7.956688971,
             "test": [
              0.04613590149
             ]
            },
            {
             "iteration": 80,
             "learn": [
              0.0450273958
             ],
             "passed_time": 32.17319577,
             "remaining_time": 7.546799007,
             "test": [
              0.04474162605
             ]
            },
            {
             "iteration": 81,
             "learn": [
              0.04349174641
             ],
             "passed_time": 32.5518499,
             "remaining_time": 7.145528027,
             "test": [
              0.04339576474
             ]
            },
            {
             "iteration": 82,
             "learn": [
              0.04234069249
             ],
             "passed_time": 32.88390697,
             "remaining_time": 6.735258054,
             "test": [
              0.04208604547
             ]
            },
            {
             "iteration": 83,
             "learn": [
              0.04107762179
             ],
             "passed_time": 33.19144965,
             "remaining_time": 6.322180885,
             "test": [
              0.04081635536
             ]
            },
            {
             "iteration": 84,
             "learn": [
              0.03974293741
             ],
             "passed_time": 33.535774,
             "remaining_time": 5.918077764,
             "test": [
              0.03958955213
             ]
            },
            {
             "iteration": 85,
             "learn": [
              0.03850316416
             ],
             "passed_time": 33.98818866,
             "remaining_time": 5.532960945,
             "test": [
              0.03839713686
             ]
            },
            {
             "iteration": 86,
             "learn": [
              0.03745117339
             ],
             "passed_time": 34.31466456,
             "remaining_time": 5.127478613,
             "test": [
              0.03724142039
             ]
            },
            {
             "iteration": 87,
             "learn": [
              0.03640313649
             ],
             "passed_time": 34.74171144,
             "remaining_time": 4.737506106,
             "test": [
              0.03612753918
             ]
            },
            {
             "iteration": 88,
             "learn": [
              0.03523659062
             ],
             "passed_time": 35.13697661,
             "remaining_time": 4.342772389,
             "test": [
              0.03504462641
             ]
            },
            {
             "iteration": 89,
             "learn": [
              0.03419103473
             ],
             "passed_time": 35.55777398,
             "remaining_time": 3.950863775,
             "test": [
              0.0339958606
             ]
            },
            {
             "iteration": 90,
             "learn": [
              0.03317382344
             ],
             "passed_time": 35.92519156,
             "remaining_time": 3.553040923,
             "test": [
              0.03297744186
             ]
            },
            {
             "iteration": 91,
             "learn": [
              0.03218602792
             ],
             "passed_time": 36.35704457,
             "remaining_time": 3.161482136,
             "test": [
              0.03199245223
             ]
            },
            {
             "iteration": 92,
             "learn": [
              0.03120418822
             ],
             "passed_time": 36.66855266,
             "remaining_time": 2.759998588,
             "test": [
              0.0310332342
             ]
            },
            {
             "iteration": 93,
             "learn": [
              0.03028042016
             ],
             "passed_time": 37.12232324,
             "remaining_time": 2.369509994,
             "test": [
              0.03010898143
             ]
            },
            {
             "iteration": 94,
             "learn": [
              0.02936223418
             ],
             "passed_time": 37.42402103,
             "remaining_time": 1.969685317,
             "test": [
              0.02920731844
             ]
            },
            {
             "iteration": 95,
             "learn": [
              0.02857027839
             ],
             "passed_time": 37.73288863,
             "remaining_time": 1.572203693,
             "test": [
              0.02833277114
             ]
            },
            {
             "iteration": 96,
             "learn": [
              0.02768700192
             ],
             "passed_time": 38.15336967,
             "remaining_time": 1.180001124,
             "test": [
              0.02749033585
             ]
            },
            {
             "iteration": 97,
             "learn": [
              0.02682711602
             ],
             "passed_time": 38.58296095,
             "remaining_time": 0.7874073664,
             "test": [
              0.02667353111
             ]
            },
            {
             "iteration": 98,
             "learn": [
              0.02611508512
             ],
             "passed_time": 38.87095824,
             "remaining_time": 0.3926359418,
             "test": [
              0.02587570645
             ]
            },
            {
             "iteration": 99,
             "learn": [
              0.02526347618
             ],
             "passed_time": 39.20197765,
             "remaining_time": 0,
             "test": [
              0.02510554352
             ]
            }
           ],
           "meta": {
            "iteration_count": 100,
            "launch_mode": "Train",
            "learn_metrics": [
             {
              "best_value": "Min",
              "name": "CrossEntropy"
             }
            ],
            "learn_sets": [
             "learn"
            ],
            "name": "experiment",
            "parameters": "",
            "test_metrics": [
             {
              "best_value": "Min",
              "name": "CrossEntropy"
             }
            ],
            "test_sets": [
             "test"
            ]
           }
          },
          "passed_iterations": 99,
          "total_iterations": 100
         },
         "name": "catboost_info",
         "path": "catboost_info"
        }
       },
       "layout": "IPY_MODEL_dee80362e85a4e5f9b0f0a10af509bf8"
      }
     },
     "0a73b09f834c45ca8c7eca7f20c41d2c": {
      "model_module": "@jupyter-widgets/base",
      "model_module_version": "1.2.0",
      "model_name": "LayoutModel",
      "state": {
       "_model_module": "@jupyter-widgets/base",
       "_model_module_version": "1.2.0",
       "_model_name": "LayoutModel",
       "_view_count": null,
       "_view_module": "@jupyter-widgets/base",
       "_view_module_version": "1.2.0",
       "_view_name": "LayoutView",
       "align_content": null,
       "align_items": null,
       "align_self": "stretch",
       "border": null,
       "bottom": null,
       "display": null,
       "flex": null,
       "flex_flow": null,
       "grid_area": null,
       "grid_auto_columns": null,
       "grid_auto_flow": null,
       "grid_auto_rows": null,
       "grid_column": null,
       "grid_gap": null,
       "grid_row": null,
       "grid_template_areas": null,
       "grid_template_columns": null,
       "grid_template_rows": null,
       "height": "500px",
       "justify_content": null,
       "justify_items": null,
       "left": null,
       "margin": null,
       "max_height": null,
       "max_width": null,
       "min_height": null,
       "min_width": null,
       "object_fit": null,
       "object_position": null,
       "order": null,
       "overflow": null,
       "overflow_x": null,
       "overflow_y": null,
       "padding": null,
       "right": null,
       "top": null,
       "visibility": null,
       "width": null
      }
     },
     "183f0c55cd9449b2b32574d98a162f41": {
      "model_module": "@jupyter-widgets/base",
      "model_module_version": "1.2.0",
      "model_name": "LayoutModel",
      "state": {
       "_model_module": "@jupyter-widgets/base",
       "_model_module_version": "1.2.0",
       "_model_name": "LayoutModel",
       "_view_count": null,
       "_view_module": "@jupyter-widgets/base",
       "_view_module_version": "1.2.0",
       "_view_name": "LayoutView",
       "align_content": null,
       "align_items": null,
       "align_self": "stretch",
       "border": null,
       "bottom": null,
       "display": null,
       "flex": null,
       "flex_flow": null,
       "grid_area": null,
       "grid_auto_columns": null,
       "grid_auto_flow": null,
       "grid_auto_rows": null,
       "grid_column": null,
       "grid_gap": null,
       "grid_row": null,
       "grid_template_areas": null,
       "grid_template_columns": null,
       "grid_template_rows": null,
       "height": "500px",
       "justify_content": null,
       "justify_items": null,
       "left": null,
       "margin": null,
       "max_height": null,
       "max_width": null,
       "min_height": null,
       "min_width": null,
       "object_fit": null,
       "object_position": null,
       "order": null,
       "overflow": null,
       "overflow_x": null,
       "overflow_y": null,
       "padding": null,
       "right": null,
       "top": null,
       "visibility": null,
       "width": null
      }
     },
     "1dbeaed7ec17454aa01dcbee2c19b3d7": {
      "model_module": "catboost-widget",
      "model_module_version": "^1.0.0",
      "model_name": "CatboostWidgetModel",
      "state": {
       "_dom_classes": [],
       "_model_module": "catboost-widget",
       "_model_module_version": "^1.0.0",
       "_model_name": "CatboostWidgetModel",
       "_view_count": null,
       "_view_module": "catboost-widget",
       "_view_module_version": "^1.0.0",
       "_view_name": "CatboostWidgetView",
       "data": {
        "catboost_info": {
         "content": {
          "data": {
           "iterations": [
            {
             "iteration": 0,
             "learn": [
              0.6613823751
             ],
             "passed_time": 0.3762288154,
             "remaining_time": 37.24665272,
             "test": [
              0.663601121
             ]
            },
            {
             "iteration": 1,
             "learn": [
              0.6362983811
             ],
             "passed_time": 0.7376803156,
             "remaining_time": 36.14633546,
             "test": [
              0.635774806
             ]
            },
            {
             "iteration": 2,
             "learn": [
              0.6093825446
             ],
             "passed_time": 1.130083993,
             "remaining_time": 36.53938243,
             "test": [
              0.6095234649
             ]
            },
            {
             "iteration": 3,
             "learn": [
              0.5837248445
             ],
             "passed_time": 1.482861447,
             "remaining_time": 35.58867472,
             "test": [
              0.5847173453
             ]
            },
            {
             "iteration": 4,
             "learn": [
              0.5622010296
             ],
             "passed_time": 1.952068113,
             "remaining_time": 37.08929414,
             "test": [
              0.5612428601
             ]
            },
            {
             "iteration": 5,
             "learn": [
              0.5376822803
             ],
             "passed_time": 2.349036017,
             "remaining_time": 36.80156427,
             "test": [
              0.5389976635
             ]
            },
            {
             "iteration": 6,
             "learn": [
              0.5168959004
             ],
             "passed_time": 2.801899319,
             "remaining_time": 37.2252338,
             "test": [
              0.5178942155
             ]
            },
            {
             "iteration": 7,
             "learn": [
              0.4986981855
             ],
             "passed_time": 3.164850887,
             "remaining_time": 36.3957852,
             "test": [
              0.4978463721
             ]
            },
            {
             "iteration": 8,
             "learn": [
              0.4785425784
             ],
             "passed_time": 3.527673946,
             "remaining_time": 35.66870323,
             "test": [
              0.4787827852
             ]
            },
            {
             "iteration": 9,
             "learn": [
              0.4605984759
             ],
             "passed_time": 3.905966405,
             "remaining_time": 35.15369764,
             "test": [
              0.4606380772
             ]
            },
            {
             "iteration": 10,
             "learn": [
              0.4438723282
             ],
             "passed_time": 4.282573717,
             "remaining_time": 34.64991462,
             "test": [
              0.4433505223
             ]
            },
            {
             "iteration": 11,
             "learn": [
              0.428072462
             ],
             "passed_time": 4.702018192,
             "remaining_time": 34.48146674,
             "test": [
              0.4268653747
             ]
            },
            {
             "iteration": 12,
             "learn": [
              0.4121765655
             ],
             "passed_time": 5.088971827,
             "remaining_time": 34.0569653,
             "test": [
              0.4111328997
             ]
            },
            {
             "iteration": 13,
             "learn": [
              0.3968002464
             ],
             "passed_time": 5.477685255,
             "remaining_time": 33.64863799,
             "test": [
              0.3961071619
             ]
            },
            {
             "iteration": 14,
             "learn": [
              0.3824192463
             ],
             "passed_time": 5.890825549,
             "remaining_time": 33.38134478,
             "test": [
              0.3817461634
             ]
            },
            {
             "iteration": 15,
             "learn": [
              0.3673604368
             ],
             "passed_time": 6.385068317,
             "remaining_time": 33.52160866,
             "test": [
              0.3680130889
             ]
            },
            {
             "iteration": 16,
             "learn": [
              0.3539127772
             ],
             "passed_time": 6.830925187,
             "remaining_time": 33.35098768,
             "test": [
              0.3548692652
             ]
            },
            {
             "iteration": 17,
             "learn": [
              0.3432123352
             ],
             "passed_time": 7.168388817,
             "remaining_time": 32.6559935,
             "test": [
              0.3422822712
             ]
            },
            {
             "iteration": 18,
             "learn": [
              0.330118179
             ],
             "passed_time": 7.558436115,
             "remaining_time": 32.22280659,
             "test": [
              0.3302225205
             ]
            },
            {
             "iteration": 19,
             "learn": [
              0.3197071378
             ],
             "passed_time": 8.011553805,
             "remaining_time": 32.04621522,
             "test": [
              0.3186616772
             ]
            },
            {
             "iteration": 20,
             "learn": [
              0.3070064812
             ],
             "passed_time": 8.456024804,
             "remaining_time": 31.81075998,
             "test": [
              0.3075738104
             ]
            },
            {
             "iteration": 21,
             "learn": [
              0.2969180092
             ],
             "passed_time": 8.850179526,
             "remaining_time": 31.37790923,
             "test": [
              0.2969332254
             ]
            },
            {
             "iteration": 22,
             "learn": [
              0.2868080546
             ],
             "passed_time": 9.261867997,
             "remaining_time": 31.00712329,
             "test": [
              0.286719039
             ]
            },
            {
             "iteration": 23,
             "learn": [
              0.2765498852
             ],
             "passed_time": 9.730621848,
             "remaining_time": 30.81363585,
             "test": [
              0.2769083558
             ]
            },
            {
             "iteration": 24,
             "learn": [
              0.2665133006
             ],
             "passed_time": 10.10992889,
             "remaining_time": 30.32978668,
             "test": [
              0.2674816076
             ]
            },
            {
             "iteration": 25,
             "learn": [
              0.2580222714
             ],
             "passed_time": 10.48020745,
             "remaining_time": 29.82828273,
             "test": [
              0.2584198172
             ]
            },
            {
             "iteration": 26,
             "learn": [
              0.2500061334
             ],
             "passed_time": 10.87059309,
             "remaining_time": 29.3908628,
             "test": [
              0.2497077058
             ]
            },
            {
             "iteration": 27,
             "learn": [
              0.2420173219
             ],
             "passed_time": 11.24103183,
             "remaining_time": 28.90551042,
             "test": [
              0.2413265857
             ]
            },
            {
             "iteration": 28,
             "learn": [
              0.2337283667
             ],
             "passed_time": 11.70935492,
             "remaining_time": 28.66773101,
             "test": [
              0.23326225
             ]
            },
            {
             "iteration": 29,
             "learn": [
              0.225899621
             ],
             "passed_time": 12.17352631,
             "remaining_time": 28.40489473,
             "test": [
              0.2255008809
             ]
            },
            {
             "iteration": 30,
             "learn": [
              0.2185722741
             ],
             "passed_time": 12.64211593,
             "remaining_time": 28.1389032,
             "test": [
              0.2180275829
             ]
            },
            {
             "iteration": 31,
             "learn": [
              0.2109809584
             ],
             "passed_time": 13.06619518,
             "remaining_time": 27.76566475,
             "test": [
              0.2108297585
             ]
            },
            {
             "iteration": 32,
             "learn": [
              0.2034031911
             ],
             "passed_time": 13.75804375,
             "remaining_time": 27.93299792,
             "test": [
              0.2038951707
             ]
            },
            {
             "iteration": 33,
             "learn": [
              0.1965077561
             ],
             "passed_time": 14.35141384,
             "remaining_time": 27.85862686,
             "test": [
              0.1972126103
             ]
            },
            {
             "iteration": 34,
             "learn": [
              0.1912381815
             ],
             "passed_time": 14.79791459,
             "remaining_time": 27.48184139,
             "test": [
              0.1907715494
             ]
            },
            {
             "iteration": 35,
             "learn": [
              0.1839802689
             ],
             "passed_time": 15.15852291,
             "remaining_time": 26.94848518,
             "test": [
              0.1845622111
             ]
            },
            {
             "iteration": 36,
             "learn": [
              0.1788333526
             ],
             "passed_time": 15.54708333,
             "remaining_time": 26.47206081,
             "test": [
              0.178574
             ]
            },
            {
             "iteration": 37,
             "learn": [
              0.1722563599
             ],
             "passed_time": 15.95444724,
             "remaining_time": 26.03094023,
             "test": [
              0.1727975838
             ]
            },
            {
             "iteration": 38,
             "learn": [
              0.1677280126
             ],
             "passed_time": 16.37832808,
             "remaining_time": 25.61738495,
             "test": [
              0.1672252235
             ]
            },
            {
             "iteration": 39,
             "learn": [
              0.1614906092
             ],
             "passed_time": 16.76481373,
             "remaining_time": 25.1472206,
             "test": [
              0.1618474913
             ]
            },
            {
             "iteration": 40,
             "learn": [
              0.156389921
             ],
             "passed_time": 17.18611026,
             "remaining_time": 24.73123183,
             "test": [
              0.1566574287
             ]
            },
            {
             "iteration": 41,
             "learn": [
              0.1520789167
             ],
             "passed_time": 17.60176619,
             "remaining_time": 24.30720093,
             "test": [
              0.1516477235
             ]
            },
            {
             "iteration": 42,
             "learn": [
              0.1470746058
             ],
             "passed_time": 18.0241023,
             "remaining_time": 23.89241468,
             "test": [
              0.146810833
             ]
            },
            {
             "iteration": 43,
             "learn": [
              0.1419460506
             ],
             "passed_time": 18.43709066,
             "remaining_time": 23.46538811,
             "test": [
              0.1421393198
             ]
            },
            {
             "iteration": 44,
             "learn": [
              0.1371802502
             ],
             "passed_time": 18.86478633,
             "remaining_time": 23.05696108,
             "test": [
              0.1376278581
             ]
            },
            {
             "iteration": 45,
             "learn": [
              0.1329778343
             ],
             "passed_time": 19.30980695,
             "remaining_time": 22.66803425,
             "test": [
              0.1332688514
             ]
            },
            {
             "iteration": 46,
             "learn": [
              0.1289860507
             ],
             "passed_time": 19.6703497,
             "remaining_time": 22.18145817,
             "test": [
              0.1290576548
             ]
            },
            {
             "iteration": 47,
             "learn": [
              0.1250613103
             ],
             "passed_time": 20.19051804,
             "remaining_time": 21.87306121,
             "test": [
              0.1249889438
             ]
            },
            {
             "iteration": 48,
             "learn": [
              0.1211519353
             ],
             "passed_time": 20.6180163,
             "remaining_time": 21.45956799,
             "test": [
              0.121056179
             ]
            },
            {
             "iteration": 49,
             "learn": [
              0.1172663573
             ],
             "passed_time": 20.95456805,
             "remaining_time": 20.95456805,
             "test": [
              0.117254582
             ]
            },
            {
             "iteration": 50,
             "learn": [
              0.1133991513
             ],
             "passed_time": 21.35754524,
             "remaining_time": 20.51999445,
             "test": [
              0.1135800076
             ]
            },
            {
             "iteration": 51,
             "learn": [
              0.1098294068
             ],
             "passed_time": 21.69440691,
             "remaining_time": 20.02560638,
             "test": [
              0.1100264155
             ]
            },
            {
             "iteration": 52,
             "learn": [
              0.1070016654
             ],
             "passed_time": 22.02226379,
             "remaining_time": 19.52917732,
             "test": [
              0.10659071
             ]
            },
            {
             "iteration": 53,
             "learn": [
              0.1034833068
             ],
             "passed_time": 22.36325051,
             "remaining_time": 19.05017636,
             "test": [
              0.1032679189
             ]
            },
            {
             "iteration": 54,
             "learn": [
              0.09981209638
             ],
             "passed_time": 22.81326604,
             "remaining_time": 18.66539949,
             "test": [
              0.1000554239
             ]
            },
            {
             "iteration": 55,
             "learn": [
              0.09721827669
             ],
             "passed_time": 23.2216549,
             "remaining_time": 18.24558599,
             "test": [
              0.09694756839
             ]
            },
            {
             "iteration": 56,
             "learn": [
              0.09384687414
             ],
             "passed_time": 23.64390936,
             "remaining_time": 17.83663338,
             "test": [
              0.093940534
             ]
            },
            {
             "iteration": 57,
             "learn": [
              0.09130436313
             ],
             "passed_time": 24.03953701,
             "remaining_time": 17.40794059,
             "test": [
              0.09103078015
             ]
            },
            {
             "iteration": 58,
             "learn": [
              0.08803772656
             ],
             "passed_time": 24.43616244,
             "remaining_time": 16.98106203,
             "test": [
              0.08821589489
             ]
            },
            {
             "iteration": 59,
             "learn": [
              0.08557599415
             ],
             "passed_time": 24.85189319,
             "remaining_time": 16.56792879,
             "test": [
              0.08549216841
             ]
            },
            {
             "iteration": 60,
             "learn": [
              0.08267856442
             ],
             "passed_time": 25.27325875,
             "remaining_time": 16.15831297,
             "test": [
              0.08285593357
             ]
            },
            {
             "iteration": 61,
             "learn": [
              0.08019073048
             ],
             "passed_time": 25.69086846,
             "remaining_time": 15.74601615,
             "test": [
              0.08030388319
             ]
            },
            {
             "iteration": 62,
             "learn": [
              0.07805810675
             ],
             "passed_time": 26.08393993,
             "remaining_time": 15.31913932,
             "test": [
              0.07783448707
             ]
            },
            {
             "iteration": 63,
             "learn": [
              0.07558752266
             ],
             "passed_time": 26.47514052,
             "remaining_time": 14.89226654,
             "test": [
              0.07544404249
             ]
            },
            {
             "iteration": 64,
             "learn": [
              0.07306091016
             ],
             "passed_time": 26.95528126,
             "remaining_time": 14.51438222,
             "test": [
              0.07313006735
             ]
            },
            {
             "iteration": 65,
             "learn": [
              0.07072224533
             ],
             "passed_time": 27.36971989,
             "remaining_time": 14.09955267,
             "test": [
              0.07088913918
             ]
            },
            {
             "iteration": 66,
             "learn": [
              0.06857925503
             ],
             "passed_time": 27.80671225,
             "remaining_time": 13.69584335,
             "test": [
              0.06872004007
             ]
            },
            {
             "iteration": 67,
             "learn": [
              0.06652932925
             ],
             "passed_time": 28.1555077,
             "remaining_time": 13.24965068,
             "test": [
              0.06661950355
             ]
            },
            {
             "iteration": 68,
             "learn": [
              0.06455872945
             ],
             "passed_time": 28.56732465,
             "remaining_time": 12.83459513,
             "test": [
              0.06458518019
             ]
            },
            {
             "iteration": 69,
             "learn": [
              0.06260418651
             ],
             "passed_time": 28.87895444,
             "remaining_time": 12.37669476,
             "test": [
              0.06261521992
             ]
            },
            {
             "iteration": 70,
             "learn": [
              0.06065863074
             ],
             "passed_time": 29.23067629,
             "remaining_time": 11.93929032,
             "test": [
              0.06070708554
             ]
            },
            {
             "iteration": 71,
             "learn": [
              0.05875417561
             ],
             "passed_time": 29.60633835,
             "remaining_time": 11.51357603,
             "test": [
              0.05886003239
             ]
            },
            {
             "iteration": 72,
             "learn": [
              0.05695079444
             ],
             "passed_time": 29.99858631,
             "remaining_time": 11.09536754,
             "test": [
              0.05706967059
             ]
            },
            {
             "iteration": 73,
             "learn": [
              0.05552812889
             ],
             "passed_time": 30.43778795,
             "remaining_time": 10.69435793,
             "test": [
              0.05533572576
             ]
            },
            {
             "iteration": 74,
             "learn": [
              0.05377526269
             ],
             "passed_time": 30.8795024,
             "remaining_time": 10.29316747,
             "test": [
              0.05365595647
             ]
            },
            {
             "iteration": 75,
             "learn": [
              0.05192956222
             ],
             "passed_time": 31.28895268,
             "remaining_time": 9.8807219,
             "test": [
              0.05202834664
             ]
            },
            {
             "iteration": 76,
             "learn": [
              0.05063180949
             ],
             "passed_time": 31.79318013,
             "remaining_time": 9.496664195,
             "test": [
              0.05045154241
             ]
            },
            {
             "iteration": 77,
             "learn": [
              0.04893825641
             ],
             "passed_time": 32.18851903,
             "remaining_time": 9.078813059,
             "test": [
              0.04892308627
             ]
            },
            {
             "iteration": 78,
             "learn": [
              0.04746835432
             ],
             "passed_time": 32.56643185,
             "remaining_time": 8.656899605,
             "test": [
              0.04744226126
             ]
            },
            {
             "iteration": 79,
             "learn": [
              0.0460110884
             ],
             "passed_time": 32.95308142,
             "remaining_time": 8.238270356,
             "test": [
              0.04600800311
             ]
            },
            {
             "iteration": 80,
             "learn": [
              0.04475751549
             ],
             "passed_time": 33.30932582,
             "remaining_time": 7.813298649,
             "test": [
              0.04461792951
             ]
            },
            {
             "iteration": 81,
             "learn": [
              0.0431905084
             ],
             "passed_time": 33.67352996,
             "remaining_time": 7.391750478,
             "test": [
              0.04327052505
             ]
            },
            {
             "iteration": 82,
             "learn": [
              0.04207397739
             ],
             "passed_time": 34.02446857,
             "remaining_time": 6.968867056,
             "test": [
              0.04196538019
             ]
            },
            {
             "iteration": 83,
             "learn": [
              0.04082412445
             ],
             "passed_time": 34.37946443,
             "remaining_time": 6.548469415,
             "test": [
              0.04070000617
             ]
            },
            {
             "iteration": 84,
             "learn": [
              0.03946096741
             ],
             "passed_time": 34.76142009,
             "remaining_time": 6.134368251,
             "test": [
              0.03947375735
             ]
            },
            {
             "iteration": 85,
             "learn": [
              0.03825032238
             ],
             "passed_time": 35.22942733,
             "remaining_time": 5.735023054,
             "test": [
              0.03828536825
             ]
            },
            {
             "iteration": 86,
             "learn": [
              0.03721555241
             ],
             "passed_time": 35.57065929,
             "remaining_time": 5.315155987,
             "test": [
              0.03713369578
             ]
            },
            {
             "iteration": 87,
             "learn": [
              0.03616564829
             ],
             "passed_time": 35.99739548,
             "remaining_time": 4.908735748,
             "test": [
              0.03601740128
             ]
            },
            {
             "iteration": 88,
             "learn": [
              0.03499369951
             ],
             "passed_time": 36.36123898,
             "remaining_time": 4.494085716,
             "test": [
              0.03493476613
             ]
            },
            {
             "iteration": 89,
             "learn": [
              0.03395182552
             ],
             "passed_time": 36.80030316,
             "remaining_time": 4.088922573,
             "test": [
              0.03388542394
             ]
            },
            {
             "iteration": 90,
             "learn": [
              0.0329369382
             ],
             "passed_time": 37.15844678,
             "remaining_time": 3.67501122,
             "test": [
              0.03286792429
             ]
            },
            {
             "iteration": 91,
             "learn": [
              0.03194727628
             ],
             "passed_time": 37.61421705,
             "remaining_time": 3.270801483,
             "test": [
              0.03188282091
             ]
            },
            {
             "iteration": 92,
             "learn": [
              0.0309698833
             ],
             "passed_time": 38.03603656,
             "remaining_time": 2.862927483,
             "test": [
              0.03092715264
             ]
            },
            {
             "iteration": 93,
             "learn": [
              0.03004016523
             ],
             "passed_time": 38.49002864,
             "remaining_time": 2.456810339,
             "test": [
              0.03000078692
             ]
            },
            {
             "iteration": 94,
             "learn": [
              0.02914316614
             ],
             "passed_time": 38.83902153,
             "remaining_time": 2.044159028,
             "test": [
              0.02910152678
             ]
            },
            {
             "iteration": 95,
             "learn": [
              0.0283529971
             ],
             "passed_time": 39.24769108,
             "remaining_time": 1.635320462,
             "test": [
              0.02822981362
             ]
            },
            {
             "iteration": 96,
             "learn": [
              0.02746080626
             ],
             "passed_time": 39.67876125,
             "remaining_time": 1.227178183,
             "test": [
              0.02738564608
             ]
            },
            {
             "iteration": 97,
             "learn": [
              0.0265786113
             ],
             "passed_time": 40.10218715,
             "remaining_time": 0.8184119827,
             "test": [
              0.02656674431
             ]
            },
            {
             "iteration": 98,
             "learn": [
              0.02589606267
             ],
             "passed_time": 40.50774478,
             "remaining_time": 0.4091691392,
             "test": [
              0.02577240979
             ]
            },
            {
             "iteration": 99,
             "learn": [
              0.02503462303
             ],
             "passed_time": 40.83595878,
             "remaining_time": 0,
             "test": [
              0.0250017203
             ]
            }
           ],
           "meta": {
            "iteration_count": 100,
            "launch_mode": "Train",
            "learn_metrics": [
             {
              "best_value": "Min",
              "name": "CrossEntropy"
             }
            ],
            "learn_sets": [
             "learn"
            ],
            "name": "experiment",
            "parameters": "",
            "test_metrics": [
             {
              "best_value": "Min",
              "name": "CrossEntropy"
             }
            ],
            "test_sets": [
             "test"
            ]
           }
          },
          "passed_iterations": 99,
          "total_iterations": 100
         },
         "name": "catboost_info",
         "path": "catboost_info"
        }
       },
       "layout": "IPY_MODEL_de24b4b7247b48d08270a6e76fd4ab82"
      }
     },
     "1ea2a58e70ec4613bac324ab3c78e26c": {
      "model_module": "@jupyter-widgets/base",
      "model_module_version": "1.2.0",
      "model_name": "LayoutModel",
      "state": {
       "_model_module": "@jupyter-widgets/base",
       "_model_module_version": "1.2.0",
       "_model_name": "LayoutModel",
       "_view_count": null,
       "_view_module": "@jupyter-widgets/base",
       "_view_module_version": "1.2.0",
       "_view_name": "LayoutView",
       "align_content": null,
       "align_items": null,
       "align_self": "stretch",
       "border": null,
       "bottom": null,
       "display": null,
       "flex": null,
       "flex_flow": null,
       "grid_area": null,
       "grid_auto_columns": null,
       "grid_auto_flow": null,
       "grid_auto_rows": null,
       "grid_column": null,
       "grid_gap": null,
       "grid_row": null,
       "grid_template_areas": null,
       "grid_template_columns": null,
       "grid_template_rows": null,
       "height": "500px",
       "justify_content": null,
       "justify_items": null,
       "left": null,
       "margin": null,
       "max_height": null,
       "max_width": null,
       "min_height": null,
       "min_width": null,
       "object_fit": null,
       "object_position": null,
       "order": null,
       "overflow": null,
       "overflow_x": null,
       "overflow_y": null,
       "padding": null,
       "right": null,
       "top": null,
       "visibility": null,
       "width": null
      }
     },
     "1fcb027313e847b98a487320666b401f": {
      "model_module": "@jupyter-widgets/base",
      "model_module_version": "1.2.0",
      "model_name": "LayoutModel",
      "state": {
       "_model_module": "@jupyter-widgets/base",
       "_model_module_version": "1.2.0",
       "_model_name": "LayoutModel",
       "_view_count": null,
       "_view_module": "@jupyter-widgets/base",
       "_view_module_version": "1.2.0",
       "_view_name": "LayoutView",
       "align_content": null,
       "align_items": null,
       "align_self": "stretch",
       "border": null,
       "bottom": null,
       "display": null,
       "flex": null,
       "flex_flow": null,
       "grid_area": null,
       "grid_auto_columns": null,
       "grid_auto_flow": null,
       "grid_auto_rows": null,
       "grid_column": null,
       "grid_gap": null,
       "grid_row": null,
       "grid_template_areas": null,
       "grid_template_columns": null,
       "grid_template_rows": null,
       "height": "500px",
       "justify_content": null,
       "justify_items": null,
       "left": null,
       "margin": null,
       "max_height": null,
       "max_width": null,
       "min_height": null,
       "min_width": null,
       "object_fit": null,
       "object_position": null,
       "order": null,
       "overflow": null,
       "overflow_x": null,
       "overflow_y": null,
       "padding": null,
       "right": null,
       "top": null,
       "visibility": null,
       "width": null
      }
     },
     "2298d9af08414150b2546e60586e15ec": {
      "model_module": "@jupyter-widgets/base",
      "model_module_version": "1.2.0",
      "model_name": "LayoutModel",
      "state": {
       "_model_module": "@jupyter-widgets/base",
       "_model_module_version": "1.2.0",
       "_model_name": "LayoutModel",
       "_view_count": null,
       "_view_module": "@jupyter-widgets/base",
       "_view_module_version": "1.2.0",
       "_view_name": "LayoutView",
       "align_content": null,
       "align_items": null,
       "align_self": "stretch",
       "border": null,
       "bottom": null,
       "display": null,
       "flex": null,
       "flex_flow": null,
       "grid_area": null,
       "grid_auto_columns": null,
       "grid_auto_flow": null,
       "grid_auto_rows": null,
       "grid_column": null,
       "grid_gap": null,
       "grid_row": null,
       "grid_template_areas": null,
       "grid_template_columns": null,
       "grid_template_rows": null,
       "height": "500px",
       "justify_content": null,
       "justify_items": null,
       "left": null,
       "margin": null,
       "max_height": null,
       "max_width": null,
       "min_height": null,
       "min_width": null,
       "object_fit": null,
       "object_position": null,
       "order": null,
       "overflow": null,
       "overflow_x": null,
       "overflow_y": null,
       "padding": null,
       "right": null,
       "top": null,
       "visibility": null,
       "width": null
      }
     },
     "22c0fd9a8ecd4bb78f3cd31181c0aa98": {
      "model_module": "catboost-widget",
      "model_module_version": "^1.0.0",
      "model_name": "CatboostWidgetModel",
      "state": {
       "_dom_classes": [],
       "_model_module": "catboost-widget",
       "_model_module_version": "^1.0.0",
       "_model_name": "CatboostWidgetModel",
       "_view_count": null,
       "_view_module": "catboost-widget",
       "_view_module_version": "^1.0.0",
       "_view_name": "CatboostWidgetView",
       "data": {
        "catboost_info": {
         "content": {
          "data": {
           "iterations": [
            {
             "iteration": 0,
             "learn": [
              0.6613893019
             ],
             "passed_time": 0.5426294861,
             "remaining_time": 53.72031912,
             "test": [
              0.663607179
             ]
            },
            {
             "iteration": 1,
             "learn": [
              0.636317295
             ],
             "passed_time": 1.049451769,
             "remaining_time": 51.4231367,
             "test": [
              0.6357856635
             ]
            },
            {
             "iteration": 2,
             "learn": [
              0.6093983829
             ],
             "passed_time": 1.520665343,
             "remaining_time": 49.16817943,
             "test": [
              0.6095387347
             ]
            },
            {
             "iteration": 3,
             "learn": [
              0.5837569416
             ],
             "passed_time": 1.874860022,
             "remaining_time": 44.99664054,
             "test": [
              0.5847363865
             ]
            },
            {
             "iteration": 4,
             "learn": [
              0.5622369646
             ],
             "passed_time": 2.329322711,
             "remaining_time": 44.25713152,
             "test": [
              0.5612654249
             ]
            },
            {
             "iteration": 5,
             "learn": [
              0.5378006662
             ],
             "passed_time": 2.725928166,
             "remaining_time": 42.70620793,
             "test": [
              0.5390254573
             ]
            },
            {
             "iteration": 6,
             "learn": [
              0.5169357392
             ],
             "passed_time": 3.176896698,
             "remaining_time": 42.20734184,
             "test": [
              0.5179255009
             ]
            },
            {
             "iteration": 7,
             "learn": [
              0.4987558735
             ],
             "passed_time": 3.541065321,
             "remaining_time": 40.7222512,
             "test": [
              0.4978805036
             ]
            },
            {
             "iteration": 8,
             "learn": [
              0.4785933002
             ],
             "passed_time": 3.906349929,
             "remaining_time": 39.49753818,
             "test": [
              0.4788198684
             ]
            },
            {
             "iteration": 9,
             "learn": [
              0.4606496183
             ],
             "passed_time": 4.283497656,
             "remaining_time": 38.5514789,
             "test": [
              0.460678284
             ]
            },
            {
             "iteration": 10,
             "learn": [
              0.4440456024
             ],
             "passed_time": 4.66472064,
             "remaining_time": 37.74183063,
             "test": [
              0.443393262
             ]
            },
            {
             "iteration": 11,
             "learn": [
              0.4281246954
             ],
             "passed_time": 4.998570046,
             "remaining_time": 36.65618034,
             "test": [
              0.4269071873
             ]
            },
            {
             "iteration": 12,
             "learn": [
              0.4122697614
             ],
             "passed_time": 5.388448861,
             "remaining_time": 36.06115776,
             "test": [
              0.4111772841
             ]
            },
            {
             "iteration": 13,
             "learn": [
              0.3968710848
             ],
             "passed_time": 5.775034264,
             "remaining_time": 35.47521048,
             "test": [
              0.3961516844
             ]
            },
            {
             "iteration": 14,
             "learn": [
              0.382521978
             ],
             "passed_time": 6.18870824,
             "remaining_time": 35.06934669,
             "test": [
              0.3817924213
             ]
            },
            {
             "iteration": 15,
             "learn": [
              0.3674633525
             ],
             "passed_time": 6.686555083,
             "remaining_time": 35.10441419,
             "test": [
              0.3680599218
             ]
            },
            {
             "iteration": 16,
             "learn": [
              0.3540735912
             ],
             "passed_time": 7.132856738,
             "remaining_time": 34.82512407,
             "test": [
              0.3549173534
             ]
            },
            {
             "iteration": 17,
             "learn": [
              0.3432935832
             ],
             "passed_time": 7.475395653,
             "remaining_time": 34.0545802,
             "test": [
              0.3423292863
             ]
            },
            {
             "iteration": 18,
             "learn": [
              0.330208483
             ],
             "passed_time": 7.871482014,
             "remaining_time": 33.55737069,
             "test": [
              0.3302707953
             ]
            },
            {
             "iteration": 19,
             "learn": [
              0.3197996763
             ],
             "passed_time": 8.32108366,
             "remaining_time": 33.28433464,
             "test": [
              0.3187118841
             ]
            },
            {
             "iteration": 20,
             "learn": [
              0.3071666509
             ],
             "passed_time": 8.766112064,
             "remaining_time": 32.97727872,
             "test": [
              0.3076256606
             ]
            },
            {
             "iteration": 21,
             "learn": [
              0.2970175599
             ],
             "passed_time": 9.161533833,
             "remaining_time": 32.48180177,
             "test": [
              0.2969865184
             ]
            },
            {
             "iteration": 22,
             "learn": [
              0.2869596612
             ],
             "passed_time": 9.573707024,
             "remaining_time": 32.05110612,
             "test": [
              0.2867730573
             ]
            },
            {
             "iteration": 23,
             "learn": [
              0.276690129
             ],
             "passed_time": 10.06682354,
             "remaining_time": 31.87827455,
             "test": [
              0.2769638323
             ]
            },
            {
             "iteration": 24,
             "learn": [
              0.266721537
             ],
             "passed_time": 10.44986044,
             "remaining_time": 31.34958131,
             "test": [
              0.2675382852
             ]
            },
            {
             "iteration": 25,
             "learn": [
              0.2581598996
             ],
             "passed_time": 10.81880312,
             "remaining_time": 30.79197811,
             "test": [
              0.2584786638
             ]
            },
            {
             "iteration": 26,
             "learn": [
              0.2501223702
             ],
             "passed_time": 11.21187764,
             "remaining_time": 30.31359509,
             "test": [
              0.2497679185
             ]
            },
            {
             "iteration": 27,
             "learn": [
              0.2421364109
             ],
             "passed_time": 11.58605082,
             "remaining_time": 29.7927021,
             "test": [
              0.2413878764
             ]
            },
            {
             "iteration": 28,
             "learn": [
              0.233858273
             ],
             "passed_time": 12.04500013,
             "remaining_time": 29.48948308,
             "test": [
              0.2333243549
             ]
            },
            {
             "iteration": 29,
             "learn": [
              0.226035889
             ],
             "passed_time": 12.51357668,
             "remaining_time": 29.19834559,
             "test": [
              0.2255656776
             ]
            },
            {
             "iteration": 30,
             "learn": [
              0.2187098931
             ],
             "passed_time": 12.98286717,
             "remaining_time": 28.8973495,
             "test": [
              0.2180926977
             ]
            },
            {
             "iteration": 31,
             "learn": [
              0.2111168654
             ],
             "passed_time": 13.34904461,
             "remaining_time": 28.36671981,
             "test": [
              0.2108959354
             ]
            },
            {
             "iteration": 32,
             "learn": [
              0.2035872239
             ],
             "passed_time": 13.83994889,
             "remaining_time": 28.09929018,
             "test": [
              0.2039616654
             ]
            },
            {
             "iteration": 33,
             "learn": [
              0.1967401284
             ],
             "passed_time": 14.27385719,
             "remaining_time": 27.70807572,
             "test": [
              0.1972786679
             ]
            },
            {
             "iteration": 34,
             "learn": [
              0.19138276
             ],
             "passed_time": 14.71677371,
             "remaining_time": 27.33115117,
             "test": [
              0.1908392764
             ]
            },
            {
             "iteration": 35,
             "learn": [
              0.1841882989
             ],
             "passed_time": 15.07918681,
             "remaining_time": 26.80744322,
             "test": [
              0.1846304738
             ]
            },
            {
             "iteration": 36,
             "learn": [
              0.1789802017
             ],
             "passed_time": 15.47253507,
             "remaining_time": 26.34512727,
             "test": [
              0.1786427519
             ]
            },
            {
             "iteration": 37,
             "learn": [
              0.1724610581
             ],
             "passed_time": 15.84191457,
             "remaining_time": 25.8473343,
             "test": [
              0.172866174
             ]
            },
            {
             "iteration": 38,
             "learn": [
              0.167881506
             ],
             "passed_time": 16.26305282,
             "remaining_time": 25.43708262,
             "test": [
              0.1672952811
             ]
            },
            {
             "iteration": 39,
             "learn": [
              0.1616817595
             ],
             "passed_time": 16.6362552,
             "remaining_time": 24.95438279,
             "test": [
              0.1619191298
             ]
            },
            {
             "iteration": 40,
             "learn": [
              0.1565707699
             ],
             "passed_time": 17.00985564,
             "remaining_time": 24.47759715,
             "test": [
              0.1567280735
             ]
            },
            {
             "iteration": 41,
             "learn": [
              0.1522359129
             ],
             "passed_time": 17.42811139,
             "remaining_time": 24.06739192,
             "test": [
              0.1517177166
             ]
            },
            {
             "iteration": 42,
             "learn": [
              0.1472435333
             ],
             "passed_time": 17.86110929,
             "remaining_time": 23.67635418,
             "test": [
              0.1468813571
             ]
            },
            {
             "iteration": 43,
             "learn": [
              0.142129239
             ],
             "passed_time": 18.2421613,
             "remaining_time": 23.2172962,
             "test": [
              0.1422077377
             ]
            },
            {
             "iteration": 44,
             "learn": [
              0.1373714366
             ],
             "passed_time": 18.6750153,
             "remaining_time": 22.8250187,
             "test": [
              0.1376961494
             ]
            },
            {
             "iteration": 45,
             "learn": [
              0.1331605889
             ],
             "passed_time": 19.12374543,
             "remaining_time": 22.4496142,
             "test": [
              0.1333358896
             ]
            },
            {
             "iteration": 46,
             "learn": [
              0.1291448541
             ],
             "passed_time": 19.46446033,
             "remaining_time": 21.94928505,
             "test": [
              0.1291221371
             ]
            },
            {
             "iteration": 47,
             "learn": [
              0.1252106568
             ],
             "passed_time": 19.87205115,
             "remaining_time": 21.52805541,
             "test": [
              0.1250506574
             ]
            },
            {
             "iteration": 48,
             "learn": [
              0.1213021986
             ],
             "passed_time": 20.31913075,
             "remaining_time": 21.14848303,
             "test": [
              0.1211191248
             ]
            },
            {
             "iteration": 49,
             "learn": [
              0.117408501
             ],
             "passed_time": 20.63360051,
             "remaining_time": 20.63360051,
             "test": [
              0.1173154466
             ]
            },
            {
             "iteration": 50,
             "learn": [
              0.1135539622
             ],
             "passed_time": 21.07997326,
             "remaining_time": 20.25330764,
             "test": [
              0.1136427913
             ]
            },
            {
             "iteration": 51,
             "learn": [
              0.1099898071
             ],
             "passed_time": 21.42990568,
             "remaining_time": 19.78145139,
             "test": [
              0.110090506
             ]
            },
            {
             "iteration": 52,
             "learn": [
              0.1071341565
             ],
             "passed_time": 21.75946165,
             "remaining_time": 19.29612636,
             "test": [
              0.1066559299
             ]
            },
            {
             "iteration": 53,
             "learn": [
              0.103643579
             ],
             "passed_time": 22.0982519,
             "remaining_time": 18.8244368,
             "test": [
              0.1033343829
             ]
            },
            {
             "iteration": 54,
             "learn": [
              0.09997846067
             ],
             "passed_time": 22.55212654,
             "remaining_time": 18.4517399,
             "test": [
              0.1001222933
             ]
            },
            {
             "iteration": 55,
             "learn": [
              0.09737732319
             ],
             "passed_time": 22.96210334,
             "remaining_time": 18.04165263,
             "test": [
              0.09701475101
             ]
            },
            {
             "iteration": 56,
             "learn": [
              0.09400292056
             ],
             "passed_time": 23.2918052,
             "remaining_time": 17.57101094,
             "test": [
              0.094005334
             ]
            },
            {
             "iteration": 57,
             "learn": [
              0.09144180455
             ],
             "passed_time": 23.68333472,
             "remaining_time": 17.150001,
             "test": [
              0.09109466885
             ]
            },
            {
             "iteration": 58,
             "learn": [
              0.0881827059
             ],
             "passed_time": 24.09760479,
             "remaining_time": 16.74579316,
             "test": [
              0.08827746889
             ]
            },
            {
             "iteration": 59,
             "learn": [
              0.08572651193
             ],
             "passed_time": 24.5184494,
             "remaining_time": 16.34563293,
             "test": [
              0.08555434565
             ]
            },
            {
             "iteration": 60,
             "learn": [
              0.0828308106
             ],
             "passed_time": 24.94083546,
             "remaining_time": 15.94578005,
             "test": [
              0.08291869976
             ]
            },
            {
             "iteration": 61,
             "learn": [
              0.0803393457
             ],
             "passed_time": 25.35092691,
             "remaining_time": 15.53766488,
             "test": [
              0.08036710323
             ]
            },
            {
             "iteration": 62,
             "learn": [
              0.07819062249
             ],
             "passed_time": 25.77317879,
             "remaining_time": 15.13662881,
             "test": [
              0.07789557138
             ]
            },
            {
             "iteration": 63,
             "learn": [
              0.07571611826
             ],
             "passed_time": 26.15843175,
             "remaining_time": 14.71411786,
             "test": [
              0.07550340168
             ]
            },
            {
             "iteration": 64,
             "learn": [
              0.07319884275
             ],
             "passed_time": 26.60217035,
             "remaining_time": 14.32424557,
             "test": [
              0.07319072965
             ]
            },
            {
             "iteration": 65,
             "learn": [
              0.07083681487
             ],
             "passed_time": 26.99153664,
             "remaining_time": 13.904731,
             "test": [
              0.07094818062
             ]
            },
            {
             "iteration": 66,
             "learn": [
              0.06871361087
             ],
             "passed_time": 27.42530866,
             "remaining_time": 13.50798785,
             "test": [
              0.06878013245
             ]
            },
            {
             "iteration": 67,
             "learn": [
              0.06666872409
             ],
             "passed_time": 27.7838146,
             "remaining_time": 13.07473628,
             "test": [
              0.06667974536
             ]
            },
            {
             "iteration": 68,
             "learn": [
              0.06470021578
             ],
             "passed_time": 28.18892533,
             "remaining_time": 12.66458964,
             "test": [
              0.06464665618
             ]
            },
            {
             "iteration": 69,
             "learn": [
              0.06274589463
             ],
             "passed_time": 28.52690859,
             "remaining_time": 12.22581797,
             "test": [
              0.06267643715
             ]
            },
            {
             "iteration": 70,
             "learn": [
              0.06080345064
             ],
             "passed_time": 28.87392778,
             "remaining_time": 11.79357614,
             "test": [
              0.06076922668
             ]
            },
            {
             "iteration": 71,
             "learn": [
              0.05889250741
             ],
             "passed_time": 29.20411328,
             "remaining_time": 11.35715516,
             "test": [
              0.05891898046
             ]
            },
            {
             "iteration": 72,
             "learn": [
              0.05709677755
             ],
             "passed_time": 29.60192854,
             "remaining_time": 10.9486585,
             "test": [
              0.05712924381
             ]
            },
            {
             "iteration": 73,
             "learn": [
              0.05564758625
             ],
             "passed_time": 30.00206934,
             "remaining_time": 10.54126761,
             "test": [
              0.05539344618
             ]
            },
            {
             "iteration": 74,
             "learn": [
              0.05388878644
             ],
             "passed_time": 30.38065234,
             "remaining_time": 10.12688411,
             "test": [
              0.05371128444
             ]
            },
            {
             "iteration": 75,
             "learn": [
              0.05205497284
             ],
             "passed_time": 30.79144713,
             "remaining_time": 9.723614882,
             "test": [
              0.0520831439
             ]
            },
            {
             "iteration": 76,
             "learn": [
              0.05073942099
             ],
             "passed_time": 31.19621096,
             "remaining_time": 9.318348729,
             "test": [
              0.05050464059
             ]
            },
            {
             "iteration": 77,
             "learn": [
              0.04905376402
             ],
             "passed_time": 31.58770012,
             "remaining_time": 8.909351316,
             "test": [
              0.04897751943
             ]
            },
            {
             "iteration": 78,
             "learn": [
              0.04754587813
             ],
             "passed_time": 32.06235539,
             "remaining_time": 8.522904597,
             "test": [
              0.04749734217
             ]
            },
            {
             "iteration": 79,
             "learn": [
              0.04612236373
             ],
             "passed_time": 32.56669466,
             "remaining_time": 8.141673666,
             "test": [
              0.04606061143
             ]
            },
            {
             "iteration": 80,
             "learn": [
              0.04485131289
             ],
             "passed_time": 33.06894219,
             "remaining_time": 7.756912364,
             "test": [
              0.04466875966
             ]
            },
            {
             "iteration": 81,
             "learn": [
              0.04329547141
             ],
             "passed_time": 33.49847339,
             "remaining_time": 7.353323426,
             "test": [
              0.04331989485
             ]
            },
            {
             "iteration": 82,
             "learn": [
              0.04215717432
             ],
             "passed_time": 33.85696568,
             "remaining_time": 6.934559235,
             "test": [
              0.04201287194
             ]
            },
            {
             "iteration": 83,
             "learn": [
              0.04091025155
             ],
             "passed_time": 34.20632241,
             "remaining_time": 6.515489982,
             "test": [
              0.04074740566
             ]
            },
            {
             "iteration": 84,
             "learn": [
              0.03954872843
             ],
             "passed_time": 34.54032528,
             "remaining_time": 6.09535152,
             "test": [
              0.03951905753
             ]
            },
            {
             "iteration": 85,
             "learn": [
              0.03832556972
             ],
             "passed_time": 34.88546159,
             "remaining_time": 5.679028631,
             "test": [
              0.03832865774
             ]
            },
            {
             "iteration": 86,
             "learn": [
              0.03728143071
             ],
             "passed_time": 35.22315478,
             "remaining_time": 5.263230025,
             "test": [
              0.03717507051
             ]
            },
            {
             "iteration": 87,
             "learn": [
              0.0362312366
             ],
             "passed_time": 35.65170325,
             "remaining_time": 4.861595898,
             "test": [
              0.0360602494
             ]
            },
            {
             "iteration": 88,
             "learn": [
              0.03506279309
             ],
             "passed_time": 36.04573394,
             "remaining_time": 4.455090712,
             "test": [
              0.03497672795
             ]
            },
            {
             "iteration": 89,
             "learn": [
              0.03401610356
             ],
             "passed_time": 36.38548651,
             "remaining_time": 4.042831835,
             "test": [
              0.03392588458
             ]
            },
            {
             "iteration": 90,
             "learn": [
              0.03299808966
             ],
             "passed_time": 36.74239273,
             "remaining_time": 3.633863018,
             "test": [
              0.03290677132
             ]
            },
            {
             "iteration": 91,
             "learn": [
              0.03200644713
             ],
             "passed_time": 37.18963992,
             "remaining_time": 3.233881732,
             "test": [
              0.0319203388
             ]
            },
            {
             "iteration": 92,
             "learn": [
              0.03102632023
             ],
             "passed_time": 37.53461522,
             "remaining_time": 2.825186092,
             "test": [
              0.03096239154
             ]
            },
            {
             "iteration": 93,
             "learn": [
              0.03009990864
             ],
             "passed_time": 38.00076993,
             "remaining_time": 2.425581059,
             "test": [
              0.03003663684
             ]
            },
            {
             "iteration": 94,
             "learn": [
              0.02918604201
             ],
             "passed_time": 38.45066012,
             "remaining_time": 2.023718954,
             "test": [
              0.02913854562
             ]
            },
            {
             "iteration": 95,
             "learn": [
              0.02840172604
             ],
             "passed_time": 38.82748213,
             "remaining_time": 1.617811756,
             "test": [
              0.02826538977
             ]
            },
            {
             "iteration": 96,
             "learn": [
              0.02750850711
             ],
             "passed_time": 39.14221176,
             "remaining_time": 1.210583869,
             "test": [
              0.02741966818
             ]
            },
            {
             "iteration": 97,
             "learn": [
              0.02662684119
             ],
             "passed_time": 39.57547737,
             "remaining_time": 0.8076628035,
             "test": [
              0.02660131115
             ]
            },
            {
             "iteration": 98,
             "learn": [
              0.02593731733
             ],
             "passed_time": 39.93005761,
             "remaining_time": 0.4033339153,
             "test": [
              0.02580573763
             ]
            },
            {
             "iteration": 99,
             "learn": [
              0.02507744671
             ],
             "passed_time": 40.2684622,
             "remaining_time": 0,
             "test": [
              0.02503413062
             ]
            }
           ],
           "meta": {
            "iteration_count": 100,
            "launch_mode": "Train",
            "learn_metrics": [
             {
              "best_value": "Min",
              "name": "CrossEntropy"
             }
            ],
            "learn_sets": [
             "learn"
            ],
            "name": "experiment",
            "parameters": "",
            "test_metrics": [
             {
              "best_value": "Min",
              "name": "CrossEntropy"
             }
            ],
            "test_sets": [
             "test"
            ]
           }
          },
          "passed_iterations": 99,
          "total_iterations": 100
         },
         "name": "catboost_info",
         "path": "catboost_info"
        }
       },
       "layout": "IPY_MODEL_e640754536824012b4b944b47ac18db0"
      }
     },
     "22dfd3259e4f4934b7f735615f0a01cd": {
      "model_module": "catboost-widget",
      "model_module_version": "^1.0.0",
      "model_name": "CatboostWidgetModel",
      "state": {
       "_dom_classes": [],
       "_model_module": "catboost-widget",
       "_model_module_version": "^1.0.0",
       "_model_name": "CatboostWidgetModel",
       "_view_count": null,
       "_view_module": "catboost-widget",
       "_view_module_version": "^1.0.0",
       "_view_name": "CatboostWidgetView",
       "data": {
        "catboost_info": {
         "content": {
          "data": {
           "iterations": [
            {
             "iteration": 0,
             "learn": [
              0.6613800345
             ],
             "passed_time": 0.385780328,
             "remaining_time": 38.19225247,
             "test": [
              0.6636008164
             ]
            },
            {
             "iteration": 1,
             "learn": [
              0.6362941986
             ],
             "passed_time": 0.7544257949,
             "remaining_time": 36.96686395,
             "test": [
              0.6357731427
             ]
            },
            {
             "iteration": 2,
             "learn": [
              0.6093757177
             ],
             "passed_time": 1.151911407,
             "remaining_time": 37.24513548,
             "test": [
              0.6095200563
             ]
            },
            {
             "iteration": 3,
             "learn": [
              0.5837161875
             ],
             "passed_time": 1.516673264,
             "remaining_time": 36.40015834,
             "test": [
              0.5847121825
             ]
            },
            {
             "iteration": 4,
             "learn": [
              0.5621900556
             ],
             "passed_time": 1.973650656,
             "remaining_time": 37.49936245,
             "test": [
              0.5612369714
             ]
            },
            {
             "iteration": 5,
             "learn": [
              0.5376654006
             ],
             "passed_time": 2.371517549,
             "remaining_time": 37.15377493,
             "test": [
              0.5389913586
             ]
            },
            {
             "iteration": 6,
             "learn": [
              0.5168803698
             ],
             "passed_time": 2.828780292,
             "remaining_time": 37.58236673,
             "test": [
              0.5178863997
             ]
            },
            {
             "iteration": 7,
             "learn": [
              0.4986808097
             ],
             "passed_time": 3.196132772,
             "remaining_time": 36.75552688,
             "test": [
              0.4978384598
             ]
            },
            {
             "iteration": 8,
             "learn": [
              0.4785233701
             ],
             "passed_time": 3.564915822,
             "remaining_time": 36.04525998,
             "test": [
              0.4787738306
             ]
            },
            {
             "iteration": 9,
             "learn": [
              0.4605785388
             ],
             "passed_time": 3.943570746,
             "remaining_time": 35.49213671,
             "test": [
              0.4606276973
             ]
            },
            {
             "iteration": 10,
             "learn": [
              0.4438160817
             ],
             "passed_time": 4.323313736,
             "remaining_time": 34.97953841,
             "test": [
              0.4433398766
             ]
            },
            {
             "iteration": 11,
             "learn": [
              0.4280487463
             ],
             "passed_time": 4.701820384,
             "remaining_time": 34.48001615,
             "test": [
              0.4268539945
             ]
            },
            {
             "iteration": 12,
             "learn": [
              0.4121066585
             ],
             "passed_time": 5.093841212,
             "remaining_time": 34.08955273,
             "test": [
              0.4111208485
             ]
            },
            {
             "iteration": 13,
             "learn": [
              0.3967725894
             ],
             "passed_time": 5.489445634,
             "remaining_time": 33.72088032,
             "test": [
              0.3960946226
             ]
            },
            {
             "iteration": 14,
             "learn": [
              0.3823885717
             ],
             "passed_time": 5.907369492,
             "remaining_time": 33.47509379,
             "test": [
              0.3817325173
             ]
            },
            {
             "iteration": 15,
             "learn": [
              0.3673290579
             ],
             "passed_time": 6.404537805,
             "remaining_time": 33.62382348,
             "test": [
              0.3679977592
             ]
            },
            {
             "iteration": 16,
             "learn": [
              0.3538765335
             ],
             "passed_time": 6.853205838,
             "remaining_time": 33.45976968,
             "test": [
              0.354853012
             ]
            },
            {
             "iteration": 17,
             "learn": [
              0.3431661514
             ],
             "passed_time": 7.195155043,
             "remaining_time": 32.77792853,
             "test": [
              0.342266737
             ]
            },
            {
             "iteration": 18,
             "learn": [
              0.330082127
             ],
             "passed_time": 7.594570919,
             "remaining_time": 32.37685497,
             "test": [
              0.3302060744
             ]
            },
            {
             "iteration": 19,
             "learn": [
              0.3196706039
             ],
             "passed_time": 8.047746147,
             "remaining_time": 32.19098459,
             "test": [
              0.3186457742
             ]
            },
            {
             "iteration": 20,
             "learn": [
              0.3069638002
             ],
             "passed_time": 8.491989371,
             "remaining_time": 31.94605525,
             "test": [
              0.3075574611
             ]
            },
            {
             "iteration": 21,
             "learn": [
              0.296878099
             ],
             "passed_time": 8.89139307,
             "remaining_time": 31.52402998,
             "test": [
              0.2969170792
             ]
            },
            {
             "iteration": 22,
             "learn": [
              0.2867633113
             ],
             "passed_time": 9.306182238,
             "remaining_time": 31.15547967,
             "test": [
              0.2867029505
             ]
            },
            {
             "iteration": 23,
             "learn": [
              0.2765011301
             ],
             "passed_time": 9.777685983,
             "remaining_time": 30.96267228,
             "test": [
              0.2768915146
             ]
            },
            {
             "iteration": 24,
             "learn": [
              0.2664400096
             ],
             "passed_time": 10.16110207,
             "remaining_time": 30.48330621,
             "test": [
              0.2674644955
             ]
            },
            {
             "iteration": 25,
             "learn": [
              0.2579753764
             ],
             "passed_time": 10.57638615,
             "remaining_time": 30.10202212,
             "test": [
              0.2584027404
             ]
            },
            {
             "iteration": 26,
             "learn": [
              0.2499589852
             ],
             "passed_time": 10.97088069,
             "remaining_time": 29.66201075,
             "test": [
              0.2496899354
             ]
            },
            {
             "iteration": 27,
             "learn": [
              0.2419682971
             ],
             "passed_time": 11.34075978,
             "remaining_time": 29.16195373,
             "test": [
              0.2413083761
             ]
            },
            {
             "iteration": 28,
             "learn": [
              0.2336736733
             ],
             "passed_time": 11.80800108,
             "remaining_time": 28.90924403,
             "test": [
              0.2332437284
             ]
            },
            {
             "iteration": 29,
             "learn": [
              0.2258398832
             ],
             "passed_time": 12.27819064,
             "remaining_time": 28.6491115,
             "test": [
              0.2254815929
             ]
            },
            {
             "iteration": 30,
             "learn": [
              0.2185186341
             ],
             "passed_time": 12.7519147,
             "remaining_time": 28.38329401,
             "test": [
              0.2180092289
             ]
            },
            {
             "iteration": 31,
             "learn": [
              0.2109260788
             ],
             "passed_time": 13.12190888,
             "remaining_time": 27.88405636,
             "test": [
              0.210810807
             ]
            },
            {
             "iteration": 32,
             "learn": [
              0.203344752
             ],
             "passed_time": 13.6111559,
             "remaining_time": 27.63477108,
             "test": [
              0.2038761234
             ]
            },
            {
             "iteration": 33,
             "learn": [
              0.1964159046
             ],
             "passed_time": 14.04740236,
             "remaining_time": 27.26848693,
             "test": [
              0.1971933824
             ]
            },
            {
             "iteration": 34,
             "learn": [
              0.1911689424
             ],
             "passed_time": 14.49296231,
             "remaining_time": 26.91550143,
             "test": [
              0.1907525409
             ]
            },
            {
             "iteration": 35,
             "learn": [
              0.1838937182
             ],
             "passed_time": 14.85733617,
             "remaining_time": 26.41304207,
             "test": [
              0.1845425326
             ]
            },
            {
             "iteration": 36,
             "learn": [
              0.1787564975
             ],
             "passed_time": 15.24917386,
             "remaining_time": 25.96480955,
             "test": [
              0.1785539256
             ]
            },
            {
             "iteration": 37,
             "learn": [
              0.172181363
             ],
             "passed_time": 15.62151411,
             "remaining_time": 25.48773356,
             "test": [
              0.1727772399
             ]
            },
            {
             "iteration": 38,
             "learn": [
              0.167660825
             ],
             "passed_time": 16.04651922,
             "remaining_time": 25.09840186,
             "test": [
              0.1672043832
             ]
            },
            {
             "iteration": 39,
             "learn": [
              0.1614170421
             ],
             "passed_time": 16.43770594,
             "remaining_time": 24.65655891,
             "test": [
              0.1618265182
             ]
            },
            {
             "iteration": 40,
             "learn": [
              0.1563214225
             ],
             "passed_time": 16.85975152,
             "remaining_time": 24.26159365,
             "test": [
              0.1566362784
             ]
            },
            {
             "iteration": 41,
             "learn": [
              0.152009664
             ],
             "passed_time": 17.27553048,
             "remaining_time": 23.85668495,
             "test": [
              0.1516258536
             ]
            },
            {
             "iteration": 42,
             "learn": [
              0.1469949514
             ],
             "passed_time": 17.70503103,
             "remaining_time": 23.46945974,
             "test": [
              0.1467883333
             ]
            },
            {
             "iteration": 43,
             "learn": [
              0.1418592868
             ],
             "passed_time": 18.12077402,
             "remaining_time": 23.0628033,
             "test": [
              0.1421166832
             ]
            },
            {
             "iteration": 44,
             "learn": [
              0.1370973916
             ],
             "passed_time": 18.55077021,
             "remaining_time": 22.6731636,
             "test": [
              0.1376046146
             ]
            },
            {
             "iteration": 45,
             "learn": [
              0.1328997843
             ],
             "passed_time": 18.99815717,
             "remaining_time": 22.3021845,
             "test": [
              0.1332456942
             ]
            },
            {
             "iteration": 46,
             "learn": [
              0.1289110283
             ],
             "passed_time": 19.35622419,
             "remaining_time": 21.82723153,
             "test": [
              0.129034022
             ]
            },
            {
             "iteration": 47,
             "learn": [
              0.1249834041
             ],
             "passed_time": 19.88112789,
             "remaining_time": 21.53788855,
             "test": [
              0.1249654843
             ]
            },
            {
             "iteration": 48,
             "learn": [
              0.1210748024
             ],
             "passed_time": 20.30571684,
             "remaining_time": 21.13452161,
             "test": [
              0.1210330453
             ]
            },
            {
             "iteration": 49,
             "learn": [
              0.1171872704
             ],
             "passed_time": 20.65059867,
             "remaining_time": 20.65059867,
             "test": [
              0.1172315472
             ]
            },
            {
             "iteration": 50,
             "learn": [
              0.1133114989
             ],
             "passed_time": 21.05750694,
             "remaining_time": 20.23172235,
             "test": [
              0.1135568135
             ]
            },
            {
             "iteration": 51,
             "learn": [
              0.1097481561
             ],
             "passed_time": 21.42972053,
             "remaining_time": 19.78128049,
             "test": [
              0.110003398
             ]
            },
            {
             "iteration": 52,
             "learn": [
              0.1069198685
             ],
             "passed_time": 21.77721067,
             "remaining_time": 19.31186607,
             "test": [
              0.1065684629
             ]
            },
            {
             "iteration": 53,
             "learn": [
              0.1033975694
             ],
             "passed_time": 22.12217983,
             "remaining_time": 18.84481986,
             "test": [
              0.1032456802
             ]
            },
            {
             "iteration": 54,
             "learn": [
              0.09972368338
             ],
             "passed_time": 22.57418301,
             "remaining_time": 18.4697861,
             "test": [
              0.100032373
             ]
            },
            {
             "iteration": 55,
             "learn": [
              0.0971307566
             ],
             "passed_time": 22.98593117,
             "remaining_time": 18.06037449,
             "test": [
              0.09692439219
             ]
            },
            {
             "iteration": 56,
             "learn": [
              0.09375898019
             ],
             "passed_time": 23.40508405,
             "remaining_time": 17.65646691,
             "test": [
              0.09391692041
             ]
            },
            {
             "iteration": 57,
             "learn": [
              0.09121581763
             ],
             "passed_time": 23.85610886,
             "remaining_time": 17.27511331,
             "test": [
              0.09100791526
             ]
            },
            {
             "iteration": 58,
             "learn": [
              0.08793412554
             ],
             "passed_time": 24.25516279,
             "remaining_time": 16.85528262,
             "test": [
              0.08819268688
             ]
            },
            {
             "iteration": 59,
             "learn": [
              0.08546411813
             ],
             "passed_time": 24.67788347,
             "remaining_time": 16.45192232,
             "test": [
              0.08546864121
             ]
            },
            {
             "iteration": 60,
             "learn": [
              0.08256758769
             ],
             "passed_time": 25.10608892,
             "remaining_time": 16.0514339,
             "test": [
              0.08283209649
             ]
            },
            {
             "iteration": 61,
             "learn": [
              0.08009383128
             ],
             "passed_time": 25.5214902,
             "remaining_time": 15.64220367,
             "test": [
              0.08028053274
             ]
            },
            {
             "iteration": 62,
             "learn": [
              0.07796307941
             ],
             "passed_time": 25.91687838,
             "remaining_time": 15.22102381,
             "test": [
              0.07781064047
             ]
            },
            {
             "iteration": 63,
             "learn": [
              0.07548033784
             ],
             "passed_time": 26.30902789,
             "remaining_time": 14.79882819,
             "test": [
              0.07542058998
             ]
            },
            {
             "iteration": 64,
             "learn": [
              0.07294338823
             ],
             "passed_time": 26.78185813,
             "remaining_time": 14.42100053,
             "test": [
              0.0731061728
             ]
            },
            {
             "iteration": 65,
             "learn": [
              0.0705281351
             ],
             "passed_time": 27.37550876,
             "remaining_time": 14.10253482,
             "test": [
              0.07086518123
             ]
            },
            {
             "iteration": 66,
             "learn": [
              0.06843603452
             ],
             "passed_time": 27.97386778,
             "remaining_time": 13.77817368,
             "test": [
              0.06869608026
             ]
            },
            {
             "iteration": 67,
             "learn": [
              0.066423324
             ],
             "passed_time": 28.36675858,
             "remaining_time": 13.34906286,
             "test": [
              0.06659485916
             ]
            },
            {
             "iteration": 68,
             "learn": [
              0.06445840757
             ],
             "passed_time": 28.78327148,
             "remaining_time": 12.93161472,
             "test": [
              0.06456048073
             ]
            },
            {
             "iteration": 69,
             "learn": [
              0.06250460099
             ],
             "passed_time": 29.11410849,
             "remaining_time": 12.47747507,
             "test": [
              0.06259006559
             ]
            },
            {
             "iteration": 70,
             "learn": [
              0.06055519929
             ],
             "passed_time": 29.470012,
             "remaining_time": 12.03704716,
             "test": [
              0.06068201478
             ]
            },
            {
             "iteration": 71,
             "learn": [
              0.05864526512
             ],
             "passed_time": 29.84424597,
             "remaining_time": 11.60609565,
             "test": [
              0.05883398108
             ]
            },
            {
             "iteration": 72,
             "learn": [
              0.05683224652
             ],
             "passed_time": 30.24176225,
             "remaining_time": 11.18530932,
             "test": [
              0.05704339743
             ]
            },
            {
             "iteration": 73,
             "learn": [
              0.05542305355
             ],
             "passed_time": 30.68726211,
             "remaining_time": 10.78201101,
             "test": [
              0.05530918329
             ]
            },
            {
             "iteration": 74,
             "learn": [
              0.05366393684
             ],
             "passed_time": 31.13191019,
             "remaining_time": 10.3773034,
             "test": [
              0.05362921294
             ]
            },
            {
             "iteration": 75,
             "learn": [
              0.05181657713
             ],
             "passed_time": 31.5597191,
             "remaining_time": 9.966227085,
             "test": [
              0.05200185544
             ]
            },
            {
             "iteration": 76,
             "learn": [
              0.05052213102
             ],
             "passed_time": 32.05316146,
             "remaining_time": 9.574320956,
             "test": [
              0.0504249039
             ]
            },
            {
             "iteration": 77,
             "learn": [
              0.04883199626
             ],
             "passed_time": 32.50040208,
             "remaining_time": 9.166780073,
             "test": [
              0.04889702354
             ]
            },
            {
             "iteration": 78,
             "learn": [
              0.04719691251
             ],
             "passed_time": 32.89215202,
             "remaining_time": 8.743483448,
             "test": [
              0.04741665401
             ]
            },
            {
             "iteration": 79,
             "learn": [
              0.04590337763
             ],
             "passed_time": 33.28190154,
             "remaining_time": 8.320475385,
             "test": [
              0.04598375777
             ]
            },
            {
             "iteration": 80,
             "learn": [
              0.04463969968
             ],
             "passed_time": 33.64699686,
             "remaining_time": 7.892505436,
             "test": [
              0.04459350819
             ]
            },
            {
             "iteration": 81,
             "learn": [
              0.04305387293
             ],
             "passed_time": 34.00716105,
             "remaining_time": 7.464986571,
             "test": [
              0.0432463415
             ]
            },
            {
             "iteration": 82,
             "learn": [
              0.04194408698
             ],
             "passed_time": 34.36312681,
             "remaining_time": 7.038230793,
             "test": [
              0.0419407302
             ]
            },
            {
             "iteration": 83,
             "learn": [
              0.04070499383
             ],
             "passed_time": 34.72289167,
             "remaining_time": 6.613884128,
             "test": [
              0.04067552422
             ]
            },
            {
             "iteration": 84,
             "learn": [
              0.03933750673
             ],
             "passed_time": 35.10870856,
             "remaining_time": 6.195654452,
             "test": [
              0.03944891142
             ]
            },
            {
             "iteration": 85,
             "learn": [
              0.03811622264
             ],
             "passed_time": 35.58471075,
             "remaining_time": 5.79285989,
             "test": [
              0.03826086032
             ]
            },
            {
             "iteration": 86,
             "learn": [
              0.03709708382
             ],
             "passed_time": 35.92699896,
             "remaining_time": 5.368402143,
             "test": [
              0.0371085521
             ]
            },
            {
             "iteration": 87,
             "learn": [
              0.03604594825
             ],
             "passed_time": 36.35562418,
             "remaining_time": 4.957585115,
             "test": [
              0.03599247854
             ]
            },
            {
             "iteration": 88,
             "learn": [
              0.03485684106
             ],
             "passed_time": 36.75826881,
             "remaining_time": 4.543156819,
             "test": [
              0.03491032927
             ]
            },
            {
             "iteration": 89,
             "learn": [
              0.03381358526
             ],
             "passed_time": 37.20236246,
             "remaining_time": 4.133595829,
             "test": [
              0.03386103927
             ]
            },
            {
             "iteration": 90,
             "learn": [
              0.03280842254
             ],
             "passed_time": 37.5886753,
             "remaining_time": 3.717561293,
             "test": [
              0.03284359399
             ]
            },
            {
             "iteration": 91,
             "learn": [
              0.03181812214
             ],
             "passed_time": 38.02049749,
             "remaining_time": 3.306130216,
             "test": [
              0.0318579673
             ]
            },
            {
             "iteration": 92,
             "learn": [
              0.03084143877
             ],
             "passed_time": 38.43576191,
             "remaining_time": 2.893014337,
             "test": [
              0.03090186418
             ]
            },
            {
             "iteration": 93,
             "learn": [
              0.02989304494
             ],
             "passed_time": 38.89376749,
             "remaining_time": 2.482580903,
             "test": [
              0.02997571878
             ]
            },
            {
             "iteration": 94,
             "learn": [
              0.02895993486
             ],
             "passed_time": 39.34892245,
             "remaining_time": 2.070995918,
             "test": [
              0.02907721971
             ]
            },
            {
             "iteration": 95,
             "learn": [
              0.02822589518
             ],
             "passed_time": 39.80654443,
             "remaining_time": 1.658606018,
             "test": [
              0.02820596456
             ]
            },
            {
             "iteration": 96,
             "learn": [
              0.02734197527
             ],
             "passed_time": 40.22731011,
             "remaining_time": 1.244143612,
             "test": [
              0.02736178025
             ]
            },
            {
             "iteration": 97,
             "learn": [
              0.0264173073
             ],
             "passed_time": 40.65975035,
             "remaining_time": 0.8297908234,
             "test": [
              0.02654273138
             ]
            },
            {
             "iteration": 98,
             "learn": [
              0.02576436644
             ],
             "passed_time": 41.02993035,
             "remaining_time": 0.4144437409,
             "test": [
              0.02574812598
             ]
            },
            {
             "iteration": 99,
             "learn": [
              0.02491010464
             ],
             "passed_time": 41.40863372,
             "remaining_time": 0,
             "test": [
              0.02497778154
             ]
            }
           ],
           "meta": {
            "iteration_count": 100,
            "launch_mode": "Train",
            "learn_metrics": [
             {
              "best_value": "Min",
              "name": "CrossEntropy"
             }
            ],
            "learn_sets": [
             "learn"
            ],
            "name": "experiment",
            "parameters": "",
            "test_metrics": [
             {
              "best_value": "Min",
              "name": "CrossEntropy"
             }
            ],
            "test_sets": [
             "test"
            ]
           }
          },
          "passed_iterations": 99,
          "total_iterations": 100
         },
         "name": "catboost_info",
         "path": "catboost_info"
        }
       },
       "layout": "IPY_MODEL_2298d9af08414150b2546e60586e15ec"
      }
     },
     "260a0759089b4436befdde2381826890": {
      "model_module": "@jupyter-widgets/base",
      "model_module_version": "1.2.0",
      "model_name": "LayoutModel",
      "state": {
       "_model_module": "@jupyter-widgets/base",
       "_model_module_version": "1.2.0",
       "_model_name": "LayoutModel",
       "_view_count": null,
       "_view_module": "@jupyter-widgets/base",
       "_view_module_version": "1.2.0",
       "_view_name": "LayoutView",
       "align_content": null,
       "align_items": null,
       "align_self": "stretch",
       "border": null,
       "bottom": null,
       "display": null,
       "flex": null,
       "flex_flow": null,
       "grid_area": null,
       "grid_auto_columns": null,
       "grid_auto_flow": null,
       "grid_auto_rows": null,
       "grid_column": null,
       "grid_gap": null,
       "grid_row": null,
       "grid_template_areas": null,
       "grid_template_columns": null,
       "grid_template_rows": null,
       "height": "500px",
       "justify_content": null,
       "justify_items": null,
       "left": null,
       "margin": null,
       "max_height": null,
       "max_width": null,
       "min_height": null,
       "min_width": null,
       "object_fit": null,
       "object_position": null,
       "order": null,
       "overflow": null,
       "overflow_x": null,
       "overflow_y": null,
       "padding": null,
       "right": null,
       "top": null,
       "visibility": null,
       "width": null
      }
     },
     "2b9a2bbd37154debaccb8fa6112f7b8b": {
      "model_module": "catboost-widget",
      "model_module_version": "^1.0.0",
      "model_name": "CatboostWidgetModel",
      "state": {
       "_dom_classes": [],
       "_model_module": "catboost-widget",
       "_model_module_version": "^1.0.0",
       "_model_name": "CatboostWidgetModel",
       "_view_count": null,
       "_view_module": "catboost-widget",
       "_view_module_version": "^1.0.0",
       "_view_name": "CatboostWidgetView",
       "data": {
        "catboost_info": {
         "content": {
          "data": {
           "iterations": [
            {
             "iteration": 0,
             "learn": [
              0.6677247583
             ],
             "passed_time": 0.4652629075,
             "remaining_time": 46.06102785,
             "test": [
              0.668669233
             ]
            },
            {
             "iteration": 1,
             "learn": [
              0.6457995796
             ],
             "passed_time": 0.9169769436,
             "remaining_time": 44.93187024,
             "test": [
              0.6456936188
             ]
            },
            {
             "iteration": 2,
             "learn": [
              0.6221619424
             ],
             "passed_time": 1.324231503,
             "remaining_time": 42.8168186,
             "test": [
              0.6230948364
             ]
            },
            {
             "iteration": 3,
             "learn": [
              0.6021542188
             ],
             "passed_time": 1.777797546,
             "remaining_time": 42.6671411,
             "test": [
              0.602495215
             ]
            },
            {
             "iteration": 4,
             "learn": [
              0.5826146385
             ],
             "passed_time": 2.219728388,
             "remaining_time": 42.17483937,
             "test": [
              0.5830325995
             ]
            },
            {
             "iteration": 5,
             "learn": [
              0.5637475405
             ],
             "passed_time": 2.663884747,
             "remaining_time": 41.73419437,
             "test": [
              0.5645009999
             ]
            },
            {
             "iteration": 6,
             "learn": [
              0.5465669436
             ],
             "passed_time": 3.081266715,
             "remaining_time": 40.93682921,
             "test": [
              0.5465908728
             ]
            },
            {
             "iteration": 7,
             "learn": [
              0.5296699111
             ],
             "passed_time": 3.507800635,
             "remaining_time": 40.3397073,
             "test": [
              0.5296479278
             ]
            },
            {
             "iteration": 8,
             "learn": [
              0.5133847157
             ],
             "passed_time": 3.934735555,
             "remaining_time": 39.78454839,
             "test": [
              0.5135256163
             ]
            },
            {
             "iteration": 9,
             "learn": [
              0.4967240592
             ],
             "passed_time": 4.344939072,
             "remaining_time": 39.10445165,
             "test": [
              0.4974106856
             ]
            },
            {
             "iteration": 10,
             "learn": [
              0.4819148996
             ],
             "passed_time": 4.7578126,
             "remaining_time": 38.49502921,
             "test": [
              0.4821690113
             ]
            },
            {
             "iteration": 11,
             "learn": [
              0.4673454573
             ],
             "passed_time": 5.168402616,
             "remaining_time": 37.90161918,
             "test": [
              0.4675179476
             ]
            },
            {
             "iteration": 12,
             "learn": [
              0.4537942788
             ],
             "passed_time": 5.59214545,
             "remaining_time": 37.42435801,
             "test": [
              0.4541102492
             ]
            },
            {
             "iteration": 13,
             "learn": [
              0.4400178589
             ],
             "passed_time": 6.006300754,
             "remaining_time": 36.89584749,
             "test": [
              0.440837564
             ]
            },
            {
             "iteration": 14,
             "learn": [
              0.4278467257
             ],
             "passed_time": 6.465418504,
             "remaining_time": 36.63737152,
             "test": [
              0.4287344696
             ]
            },
            {
             "iteration": 15,
             "learn": [
              0.4152051019
             ],
             "passed_time": 6.876834025,
             "remaining_time": 36.10337863,
             "test": [
              0.4163244128
             ]
            },
            {
             "iteration": 16,
             "learn": [
              0.4041427642
             ],
             "passed_time": 7.298446747,
             "remaining_time": 35.63359294,
             "test": [
              0.4050525977
             ]
            },
            {
             "iteration": 17,
             "learn": [
              0.3927558002
             ],
             "passed_time": 7.713183078,
             "remaining_time": 35.13783402,
             "test": [
              0.3939714534
             ]
            },
            {
             "iteration": 18,
             "learn": [
              0.3814400238
             ],
             "passed_time": 8.15915734,
             "remaining_time": 34.78377603,
             "test": [
              0.382940957
             ]
            },
            {
             "iteration": 19,
             "learn": [
              0.3718523608
             ],
             "passed_time": 8.569734777,
             "remaining_time": 34.27893911,
             "test": [
              0.3728909381
             ]
            },
            {
             "iteration": 20,
             "learn": [
              0.3619297054
             ],
             "passed_time": 8.980467129,
             "remaining_time": 33.78366206,
             "test": [
              0.3627848891
             ]
            },
            {
             "iteration": 21,
             "learn": [
              0.3520345611
             ],
             "passed_time": 9.386052634,
             "remaining_time": 33.27782297,
             "test": [
              0.3529965851
             ]
            },
            {
             "iteration": 22,
             "learn": [
              0.3427045451
             ],
             "passed_time": 9.799834816,
             "remaining_time": 32.80814265,
             "test": [
              0.3437909224
             ]
            },
            {
             "iteration": 23,
             "learn": [
              0.3328077746
             ],
             "passed_time": 10.22443955,
             "remaining_time": 32.37739189,
             "test": [
              0.3335846131
             ]
            },
            {
             "iteration": 24,
             "learn": [
              0.3238593562
             ],
             "passed_time": 10.63854942,
             "remaining_time": 31.91564827,
             "test": [
              0.3253217461
             ]
            },
            {
             "iteration": 25,
             "learn": [
              0.3163248347
             ],
             "passed_time": 11.05093312,
             "remaining_time": 31.45265581,
             "test": [
              0.3177300244
             ]
            },
            {
             "iteration": 26,
             "learn": [
              0.3072973811
             ],
             "passed_time": 11.47173736,
             "remaining_time": 31.01617879,
             "test": [
              0.3085352134
             ]
            },
            {
             "iteration": 27,
             "learn": [
              0.2987267531
             ],
             "passed_time": 11.89461221,
             "remaining_time": 30.58614568,
             "test": [
              0.2998989856
             ]
            },
            {
             "iteration": 28,
             "learn": [
              0.2904855938
             ],
             "passed_time": 12.31088708,
             "remaining_time": 30.14044767,
             "test": [
              0.2915562063
             ]
            },
            {
             "iteration": 29,
             "learn": [
              0.2823688339
             ],
             "passed_time": 12.72912336,
             "remaining_time": 29.70128784,
             "test": [
              0.2834815374
             ]
            },
            {
             "iteration": 30,
             "learn": [
              0.2747040095
             ],
             "passed_time": 13.14620697,
             "remaining_time": 29.26091229,
             "test": [
              0.2756898597
             ]
            },
            {
             "iteration": 31,
             "learn": [
              0.2686718596
             ],
             "passed_time": 13.57755442,
             "remaining_time": 28.85230315,
             "test": [
              0.2696668565
             ]
            },
            {
             "iteration": 32,
             "learn": [
              0.262628712
             ],
             "passed_time": 13.97828542,
             "remaining_time": 28.38015525,
             "test": [
              0.263419263
             ]
            },
            {
             "iteration": 33,
             "learn": [
              0.2557415722
             ],
             "passed_time": 14.39146302,
             "remaining_time": 27.93636938,
             "test": [
              0.2565302102
             ]
            },
            {
             "iteration": 34,
             "learn": [
              0.2491931122
             ],
             "passed_time": 14.8070687,
             "remaining_time": 27.49884186,
             "test": [
              0.2498420611
             ]
            },
            {
             "iteration": 35,
             "learn": [
              0.242638342
             ],
             "passed_time": 15.22119117,
             "remaining_time": 27.05989541,
             "test": [
              0.2433523886
             ]
            },
            {
             "iteration": 36,
             "learn": [
              0.2372945178
             ],
             "passed_time": 15.6801225,
             "remaining_time": 26.69858697,
             "test": [
              0.2382787773
             ]
            },
            {
             "iteration": 37,
             "learn": [
              0.2314162621
             ],
             "passed_time": 16.09718795,
             "remaining_time": 26.26383298,
             "test": [
              0.2323368424
             ]
            },
            {
             "iteration": 38,
             "learn": [
              0.2257498983
             ],
             "passed_time": 16.51573401,
             "remaining_time": 25.83230191,
             "test": [
              0.2269071789
             ]
            },
            {
             "iteration": 39,
             "learn": [
              0.2210936773
             ],
             "passed_time": 16.9706742,
             "remaining_time": 25.4560113,
             "test": [
              0.222290026
             ]
            },
            {
             "iteration": 40,
             "learn": [
              0.2155280277
             ],
             "passed_time": 17.4449931,
             "remaining_time": 25.10377055,
             "test": [
              0.2168375455
             ]
            },
            {
             "iteration": 41,
             "learn": [
              0.2103144347
             ],
             "passed_time": 17.91558519,
             "remaining_time": 24.74057003,
             "test": [
              0.2116094402
             ]
            },
            {
             "iteration": 42,
             "learn": [
              0.2054762653
             ],
             "passed_time": 18.33929024,
             "remaining_time": 24.31022195,
             "test": [
              0.20669877
             ]
            },
            {
             "iteration": 43,
             "learn": [
              0.2006482974
             ],
             "passed_time": 18.74745828,
             "remaining_time": 23.86040145,
             "test": [
              0.2018038513
             ]
            },
            {
             "iteration": 44,
             "learn": [
              0.1960643247
             ],
             "passed_time": 19.23945728,
             "remaining_time": 23.51489223,
             "test": [
              0.1972499359
             ]
            },
            {
             "iteration": 45,
             "learn": [
              0.1916501284
             ],
             "passed_time": 19.6678684,
             "remaining_time": 23.08836725,
             "test": [
              0.1926380733
             ]
            },
            {
             "iteration": 46,
             "learn": [
              0.1871265936
             ],
             "passed_time": 20.08503572,
             "remaining_time": 22.64908283,
             "test": [
              0.1883331387
             ]
            },
            {
             "iteration": 47,
             "learn": [
              0.1830638198
             ],
             "passed_time": 20.62920151,
             "remaining_time": 22.34830163,
             "test": [
              0.1842414357
             ]
            },
            {
             "iteration": 48,
             "learn": [
              0.1788273633
             ],
             "passed_time": 21.28945492,
             "remaining_time": 22.15841226,
             "test": [
              0.1800777344
             ]
            },
            {
             "iteration": 49,
             "learn": [
              0.1749180337
             ],
             "passed_time": 21.79225642,
             "remaining_time": 21.79225642,
             "test": [
              0.1759897514
             ]
            },
            {
             "iteration": 50,
             "learn": [
              0.1713650708
             ],
             "passed_time": 22.19628528,
             "remaining_time": 21.32584272,
             "test": [
              0.172381387
             ]
            },
            {
             "iteration": 51,
             "learn": [
              0.1682287582
             ],
             "passed_time": 22.56094738,
             "remaining_time": 20.82548989,
             "test": [
              0.169216906
             ]
            },
            {
             "iteration": 52,
             "learn": [
              0.1645076997
             ],
             "passed_time": 23.00327625,
             "remaining_time": 20.39913177,
             "test": [
              0.1656683252
             ]
            },
            {
             "iteration": 53,
             "learn": [
              0.161413142
             ],
             "passed_time": 23.39267408,
             "remaining_time": 19.92709273,
             "test": [
              0.162618739
             ]
            },
            {
             "iteration": 54,
             "learn": [
              0.1580083315
             ],
             "passed_time": 23.84244697,
             "remaining_time": 19.50745661,
             "test": [
              0.1592207274
             ]
            },
            {
             "iteration": 55,
             "learn": [
              0.155145886
             ],
             "passed_time": 24.20892617,
             "remaining_time": 19.02129914,
             "test": [
              0.1563909583
             ]
            },
            {
             "iteration": 56,
             "learn": [
              0.152452785
             ],
             "passed_time": 24.58293855,
             "remaining_time": 18.54502382,
             "test": [
              0.1536643333
             ]
            },
            {
             "iteration": 57,
             "learn": [
              0.1496761376
             ],
             "passed_time": 24.96860883,
             "remaining_time": 18.08071674,
             "test": [
              0.1507615982
             ]
            },
            {
             "iteration": 58,
             "learn": [
              0.1469551624
             ],
             "passed_time": 25.35986423,
             "remaining_time": 17.6229565,
             "test": [
              0.1481355526
             ]
            },
            {
             "iteration": 59,
             "learn": [
              0.1444561231
             ],
             "passed_time": 25.75260212,
             "remaining_time": 17.16840141,
             "test": [
              0.1456275016
             ]
            },
            {
             "iteration": 60,
             "learn": [
              0.1422938346
             ],
             "passed_time": 26.13541779,
             "remaining_time": 16.70952941,
             "test": [
              0.143422487
             ]
            },
            {
             "iteration": 61,
             "learn": [
              0.1403456514
             ],
             "passed_time": 26.49660987,
             "remaining_time": 16.23985766,
             "test": [
              0.1413654404
             ]
            },
            {
             "iteration": 62,
             "learn": [
              0.1374178784
             ],
             "passed_time": 26.96488884,
             "remaining_time": 15.83652201,
             "test": [
              0.138209568
             ]
            },
            {
             "iteration": 63,
             "learn": [
              0.135070877
             ],
             "passed_time": 27.35722478,
             "remaining_time": 15.38843894,
             "test": [
              0.1357845272
             ]
            },
            {
             "iteration": 64,
             "learn": [
              0.1324382768
             ],
             "passed_time": 27.80462247,
             "remaining_time": 14.97171979,
             "test": [
              0.1331847296
             ]
            },
            {
             "iteration": 65,
             "learn": [
              0.1305858643
             ],
             "passed_time": 28.15792757,
             "remaining_time": 14.50559905,
             "test": [
              0.1314946524
             ]
            },
            {
             "iteration": 66,
             "learn": [
              0.1279385664
             ],
             "passed_time": 28.63411302,
             "remaining_time": 14.1033691,
             "test": [
              0.1286660594
             ]
            },
            {
             "iteration": 67,
             "learn": [
              0.1256296187
             ],
             "passed_time": 29.04422595,
             "remaining_time": 13.66787104,
             "test": [
              0.1263653894
             ]
            },
            {
             "iteration": 68,
             "learn": [
              0.1239447418
             ],
             "passed_time": 29.39610725,
             "remaining_time": 13.20694674,
             "test": [
              0.1248498825
             ]
            },
            {
             "iteration": 69,
             "learn": [
              0.1224173947
             ],
             "passed_time": 29.72798946,
             "remaining_time": 12.74056691,
             "test": [
              0.123331299
             ]
            },
            {
             "iteration": 70,
             "learn": [
              0.1207372291
             ],
             "passed_time": 30.07758034,
             "remaining_time": 12.28520887,
             "test": [
              0.1217414771
             ]
            },
            {
             "iteration": 71,
             "learn": [
              0.1193716547
             ],
             "passed_time": 30.44117334,
             "remaining_time": 11.83823408,
             "test": [
              0.1203385557
             ]
            },
            {
             "iteration": 72,
             "learn": [
              0.1171275064
             ],
             "passed_time": 30.88080275,
             "remaining_time": 11.42166677,
             "test": [
              0.1181452088
             ]
            },
            {
             "iteration": 73,
             "learn": [
              0.1157336528
             ],
             "passed_time": 31.19758735,
             "remaining_time": 10.96131447,
             "test": [
              0.116814531
             ]
            },
            {
             "iteration": 74,
             "learn": [
              0.1137168629
             ],
             "passed_time": 31.64136837,
             "remaining_time": 10.54712279,
             "test": [
              0.1148896144
             ]
            },
            {
             "iteration": 75,
             "learn": [
              0.1125909775
             ],
             "passed_time": 31.95005412,
             "remaining_time": 10.08949077,
             "test": [
              0.1137405866
             ]
            },
            {
             "iteration": 76,
             "learn": [
              0.111146318
             ],
             "passed_time": 32.33163722,
             "remaining_time": 9.657502026,
             "test": [
              0.1122228746
             ]
            },
            {
             "iteration": 77,
             "learn": [
              0.1101174009
             ],
             "passed_time": 32.64558182,
             "remaining_time": 9.207728205,
             "test": [
              0.1111725996
             ]
            },
            {
             "iteration": 78,
             "learn": [
              0.1082518294
             ],
             "passed_time": 33.07353977,
             "remaining_time": 8.791700445,
             "test": [
              0.1094002339
             ]
            },
            {
             "iteration": 79,
             "learn": [
              0.107214042
             ],
             "passed_time": 33.38908105,
             "remaining_time": 8.347270262,
             "test": [
              0.108469509
             ]
            },
            {
             "iteration": 80,
             "learn": [
              0.1053407828
             ],
             "passed_time": 33.82899666,
             "remaining_time": 7.935196746,
             "test": [
              0.1066849537
             ]
            },
            {
             "iteration": 81,
             "learn": [
              0.1035349671
             ],
             "passed_time": 34.25049236,
             "remaining_time": 7.518400762,
             "test": [
              0.1047186752
             ]
            },
            {
             "iteration": 82,
             "learn": [
              0.1023866039
             ],
             "passed_time": 34.5734206,
             "remaining_time": 7.081303014,
             "test": [
              0.1035757414
             ]
            },
            {
             "iteration": 83,
             "learn": [
              0.1007146035
             ],
             "passed_time": 34.99856354,
             "remaining_time": 6.666393055,
             "test": [
              0.1018006255
             ]
            },
            {
             "iteration": 84,
             "learn": [
              0.09912130712
             ],
             "passed_time": 35.43099202,
             "remaining_time": 6.252528003,
             "test": [
              0.1002376937
             ]
            },
            {
             "iteration": 85,
             "learn": [
              0.098131695
             ],
             "passed_time": 35.78485954,
             "remaining_time": 5.82544225,
             "test": [
              0.0992655979
             ]
            },
            {
             "iteration": 86,
             "learn": [
              0.09683869406
             ],
             "passed_time": 36.1934776,
             "remaining_time": 5.408220791,
             "test": [
              0.09811945685
             ]
            },
            {
             "iteration": 87,
             "learn": [
              0.09600173262
             ],
             "passed_time": 36.51382466,
             "remaining_time": 4.979157908,
             "test": [
              0.09733187188
             ]
            },
            {
             "iteration": 88,
             "learn": [
              0.09426923416
             ],
             "passed_time": 36.97926972,
             "remaining_time": 4.570471538,
             "test": [
              0.09581580113
             ]
            },
            {
             "iteration": 89,
             "learn": [
              0.09275116604
             ],
             "passed_time": 37.41191144,
             "remaining_time": 4.156879049,
             "test": [
              0.09414866576
             ]
            },
            {
             "iteration": 90,
             "learn": [
              0.09198243509
             ],
             "passed_time": 37.73442079,
             "remaining_time": 3.731975683,
             "test": [
              0.09344331685
             ]
            },
            {
             "iteration": 91,
             "learn": [
              0.09047901498
             ],
             "passed_time": 38.18046726,
             "remaining_time": 3.320040632,
             "test": [
              0.09187461228
             ]
            },
            {
             "iteration": 92,
             "learn": [
              0.08890078392
             ],
             "passed_time": 38.63828171,
             "remaining_time": 2.908257763,
             "test": [
              0.09043316845
             ]
            },
            {
             "iteration": 93,
             "learn": [
              0.08820929355
             ],
             "passed_time": 38.96001193,
             "remaining_time": 2.486809272,
             "test": [
              0.08983979009
             ]
            },
            {
             "iteration": 94,
             "learn": [
              0.08756310968
             ],
             "passed_time": 39.26800427,
             "remaining_time": 2.066737067,
             "test": [
              0.08918688477
             ]
            },
            {
             "iteration": 95,
             "learn": [
              0.08614777248
             ],
             "passed_time": 39.73056358,
             "remaining_time": 1.655440149,
             "test": [
              0.08761465157
             ]
            },
            {
             "iteration": 96,
             "learn": [
              0.08463321485
             ],
             "passed_time": 40.20438159,
             "remaining_time": 1.243434482,
             "test": [
              0.08597404884
             ]
            },
            {
             "iteration": 97,
             "learn": [
              0.0840345654
             ],
             "passed_time": 40.51426241,
             "remaining_time": 0.8268216817,
             "test": [
              0.0853636277
             ]
            },
            {
             "iteration": 98,
             "learn": [
              0.08261039903
             ],
             "passed_time": 40.99092938,
             "remaining_time": 0.4140497917,
             "test": [
              0.08396153979
             ]
            },
            {
             "iteration": 99,
             "learn": [
              0.08170079745
             ],
             "passed_time": 41.39828709,
             "remaining_time": 0,
             "test": [
              0.08298201466
             ]
            }
           ],
           "meta": {
            "iteration_count": 100,
            "launch_mode": "Train",
            "learn_metrics": [
             {
              "best_value": "Min",
              "name": "CrossEntropy"
             }
            ],
            "learn_sets": [
             "learn"
            ],
            "name": "experiment",
            "parameters": "",
            "test_metrics": [
             {
              "best_value": "Min",
              "name": "CrossEntropy"
             }
            ],
            "test_sets": [
             "test"
            ]
           }
          },
          "passed_iterations": 99,
          "total_iterations": 100
         },
         "name": "catboost_info",
         "path": "catboost_info"
        }
       },
       "layout": "IPY_MODEL_f898dfc7e09a4fbea8e9c42e2dc2c7d7"
      }
     },
     "2e4de5d0d38245b6acb7ca5d6b8907cf": {
      "model_module": "@jupyter-widgets/base",
      "model_module_version": "1.2.0",
      "model_name": "LayoutModel",
      "state": {
       "_model_module": "@jupyter-widgets/base",
       "_model_module_version": "1.2.0",
       "_model_name": "LayoutModel",
       "_view_count": null,
       "_view_module": "@jupyter-widgets/base",
       "_view_module_version": "1.2.0",
       "_view_name": "LayoutView",
       "align_content": null,
       "align_items": null,
       "align_self": "stretch",
       "border": null,
       "bottom": null,
       "display": null,
       "flex": null,
       "flex_flow": null,
       "grid_area": null,
       "grid_auto_columns": null,
       "grid_auto_flow": null,
       "grid_auto_rows": null,
       "grid_column": null,
       "grid_gap": null,
       "grid_row": null,
       "grid_template_areas": null,
       "grid_template_columns": null,
       "grid_template_rows": null,
       "height": "500px",
       "justify_content": null,
       "justify_items": null,
       "left": null,
       "margin": null,
       "max_height": null,
       "max_width": null,
       "min_height": null,
       "min_width": null,
       "object_fit": null,
       "object_position": null,
       "order": null,
       "overflow": null,
       "overflow_x": null,
       "overflow_y": null,
       "padding": null,
       "right": null,
       "top": null,
       "visibility": null,
       "width": null
      }
     },
     "2f693ee2f01d4c8ea3e6b1bd85fb77e3": {
      "model_module": "catboost-widget",
      "model_module_version": "^1.0.0",
      "model_name": "CatboostWidgetModel",
      "state": {
       "_dom_classes": [],
       "_model_module": "catboost-widget",
       "_model_module_version": "^1.0.0",
       "_model_name": "CatboostWidgetModel",
       "_view_count": null,
       "_view_module": "catboost-widget",
       "_view_module_version": "^1.0.0",
       "_view_name": "CatboostWidgetView",
       "data": {
        "catboost_info": {
         "content": {
          "data": {
           "iterations": [
            {
             "iteration": 0,
             "learn": [
              0.6658308023
             ],
             "passed_time": 0.4851011043,
             "remaining_time": 48.02500932,
             "test": [
              0.6671164236
             ]
            },
            {
             "iteration": 1,
             "learn": [
              0.6449378485
             ],
             "passed_time": 0.953368321,
             "remaining_time": 46.71504773,
             "test": [
              0.6429716421
             ]
            },
            {
             "iteration": 2,
             "learn": [
              0.6196763659
             ],
             "passed_time": 1.415328303,
             "remaining_time": 45.7622818,
             "test": [
              0.6198506866
             ]
            },
            {
             "iteration": 3,
             "learn": [
              0.5980191999
             ],
             "passed_time": 1.875298645,
             "remaining_time": 45.00716748,
             "test": [
              0.5980040276
             ]
            },
            {
             "iteration": 4,
             "learn": [
              0.5786037589
             ],
             "passed_time": 2.345038838,
             "remaining_time": 44.55573793,
             "test": [
              0.5770966185
             ]
            },
            {
             "iteration": 5,
             "learn": [
              0.558633544
             ],
             "passed_time": 2.812886308,
             "remaining_time": 44.06855215,
             "test": [
              0.5577490015
             ]
            },
            {
             "iteration": 6,
             "learn": [
              0.5393629851
             ],
             "passed_time": 3.28528751,
             "remaining_time": 43.64739121,
             "test": [
              0.5387163041
             ]
            },
            {
             "iteration": 7,
             "learn": [
              0.522991718
             ],
             "passed_time": 3.753546893,
             "remaining_time": 43.16578927,
             "test": [
              0.5210489833
             ]
            },
            {
             "iteration": 8,
             "learn": [
              0.5057895258
             ],
             "passed_time": 4.235934403,
             "remaining_time": 42.8300034,
             "test": [
              0.5041230985
             ]
            },
            {
             "iteration": 9,
             "learn": [
              0.4892593393
             ],
             "passed_time": 4.714367688,
             "remaining_time": 42.42930919,
             "test": [
              0.4874539149
             ]
            },
            {
             "iteration": 10,
             "learn": [
              0.4746183995
             ],
             "passed_time": 5.22222303,
             "remaining_time": 42.25253179,
             "test": [
              0.4721853351
             ]
            },
            {
             "iteration": 11,
             "learn": [
              0.4601760991
             ],
             "passed_time": 5.689274906,
             "remaining_time": 41.72134931,
             "test": [
              0.4569977197
             ]
            },
            {
             "iteration": 12,
             "learn": [
              0.4463560457
             ],
             "passed_time": 6.160580242,
             "remaining_time": 41.22849854,
             "test": [
              0.4427950577
             ]
            },
            {
             "iteration": 13,
             "learn": [
              0.4325647787
             ],
             "passed_time": 6.587916175,
             "remaining_time": 40.46862793,
             "test": [
              0.4290028298
             ]
            },
            {
             "iteration": 14,
             "learn": [
              0.4194685306
             ],
             "passed_time": 7.046409866,
             "remaining_time": 39.92965591,
             "test": [
              0.4157644552
             ]
            },
            {
             "iteration": 15,
             "learn": [
              0.4066202615
             ],
             "passed_time": 7.53686644,
             "remaining_time": 39.56854881,
             "test": [
              0.4031589007
             ]
            },
            {
             "iteration": 16,
             "learn": [
              0.3951781509
             ],
             "passed_time": 8.011078201,
             "remaining_time": 39.11291122,
             "test": [
              0.3914247177
             ]
            },
            {
             "iteration": 17,
             "learn": [
              0.3847010796
             ],
             "passed_time": 8.484833781,
             "remaining_time": 38.65313167,
             "test": [
              0.3803316809
             ]
            },
            {
             "iteration": 18,
             "learn": [
              0.3733285501
             ],
             "passed_time": 8.957355554,
             "remaining_time": 38.18662104,
             "test": [
              0.3694964601
             ]
            },
            {
             "iteration": 19,
             "learn": [
              0.3633162577
             ],
             "passed_time": 9.424451029,
             "remaining_time": 37.69780412,
             "test": [
              0.3585954318
             ]
            },
            {
             "iteration": 20,
             "learn": [
              0.3528045097
             ],
             "passed_time": 9.978809275,
             "remaining_time": 37.53933013,
             "test": [
              0.3481770517
             ]
            },
            {
             "iteration": 21,
             "learn": [
              0.3432694621
             ],
             "passed_time": 10.63751881,
             "remaining_time": 37.71483941,
             "test": [
              0.3380980374
             ]
            },
            {
             "iteration": 22,
             "learn": [
              0.3343884035
             ],
             "passed_time": 11.26481618,
             "remaining_time": 37.71264547,
             "test": [
              0.3284777793
             ]
            },
            {
             "iteration": 23,
             "learn": [
              0.3253496482
             ],
             "passed_time": 11.74495351,
             "remaining_time": 37.19235279,
             "test": [
              0.3195731561
             ]
            },
            {
             "iteration": 24,
             "learn": [
              0.3164056022
             ],
             "passed_time": 12.23410187,
             "remaining_time": 36.70230562,
             "test": [
              0.3106128806
             ]
            },
            {
             "iteration": 25,
             "learn": [
              0.3083408206
             ],
             "passed_time": 12.70714155,
             "remaining_time": 36.16647981,
             "test": [
              0.3025243486
             ]
            },
            {
             "iteration": 26,
             "learn": [
              0.3002723278
             ],
             "passed_time": 13.17350241,
             "remaining_time": 35.61724725,
             "test": [
              0.2945164655
             ]
            },
            {
             "iteration": 27,
             "learn": [
              0.2930758405
             ],
             "passed_time": 13.61834867,
             "remaining_time": 35.01861086,
             "test": [
              0.2868057151
             ]
            },
            {
             "iteration": 28,
             "learn": [
              0.2857601194
             ],
             "passed_time": 14.09823107,
             "remaining_time": 34.51635883,
             "test": [
              0.2790663935
             ]
            },
            {
             "iteration": 29,
             "learn": [
              0.2785882715
             ],
             "passed_time": 14.52327622,
             "remaining_time": 33.88764451,
             "test": [
              0.2718123765
             ]
            },
            {
             "iteration": 30,
             "learn": [
              0.271815822
             ],
             "passed_time": 14.96679951,
             "remaining_time": 33.31319892,
             "test": [
              0.265095838
             ]
            },
            {
             "iteration": 31,
             "learn": [
              0.2652327385
             ],
             "passed_time": 15.43767351,
             "remaining_time": 32.80505622,
             "test": [
              0.2583251681
             ]
            },
            {
             "iteration": 32,
             "learn": [
              0.2589321311
             ],
             "passed_time": 15.88285483,
             "remaining_time": 32.2470083,
             "test": [
              0.2519961787
             ]
            },
            {
             "iteration": 33,
             "learn": [
              0.2526859488
             ],
             "passed_time": 16.37368278,
             "remaining_time": 31.78420775,
             "test": [
              0.2454633484
             ]
            },
            {
             "iteration": 34,
             "learn": [
              0.2469254127
             ],
             "passed_time": 16.84944232,
             "remaining_time": 31.29182145,
             "test": [
              0.2395875545
             ]
            },
            {
             "iteration": 35,
             "learn": [
              0.2414567556
             ],
             "passed_time": 17.32154643,
             "remaining_time": 30.79386032,
             "test": [
              0.2337529508
             ]
            },
            {
             "iteration": 36,
             "learn": [
              0.2360074789
             ],
             "passed_time": 17.77228503,
             "remaining_time": 30.26091776,
             "test": [
              0.2281499864
             ]
            },
            {
             "iteration": 37,
             "learn": [
              0.2300151576
             ],
             "passed_time": 18.2418796,
             "remaining_time": 29.76306672,
             "test": [
              0.2223541354
             ]
            },
            {
             "iteration": 38,
             "learn": [
              0.2249476317
             ],
             "passed_time": 18.66631602,
             "remaining_time": 29.19603275,
             "test": [
              0.2170704217
             ]
            },
            {
             "iteration": 39,
             "learn": [
              0.2197509414
             ],
             "passed_time": 19.10321939,
             "remaining_time": 28.65482908,
             "test": [
              0.2117474537
             ]
            },
            {
             "iteration": 40,
             "learn": [
              0.2147218594
             ],
             "passed_time": 19.60732847,
             "remaining_time": 28.2154239,
             "test": [
              0.2067669487
             ]
            },
            {
             "iteration": 41,
             "learn": [
              0.2103885874
             ],
             "passed_time": 20.05503576,
             "remaining_time": 27.69504938,
             "test": [
              0.2022283089
             ]
            },
            {
             "iteration": 42,
             "learn": [
              0.205977669
             ],
             "passed_time": 20.49300715,
             "remaining_time": 27.16514902,
             "test": [
              0.1977410095
             ]
            },
            {
             "iteration": 43,
             "learn": [
              0.201244998
             ],
             "passed_time": 20.92852139,
             "remaining_time": 26.63629995,
             "test": [
              0.19306005
             ]
            },
            {
             "iteration": 44,
             "learn": [
              0.196747691
             ],
             "passed_time": 21.39134993,
             "remaining_time": 26.14498324,
             "test": [
              0.188424338
             ]
            },
            {
             "iteration": 45,
             "learn": [
              0.1923751561
             ],
             "passed_time": 21.86154833,
             "remaining_time": 25.66355673,
             "test": [
              0.1839555213
             ]
            },
            {
             "iteration": 46,
             "learn": [
              0.1881149366
             ],
             "passed_time": 22.32582326,
             "remaining_time": 25.17592836,
             "test": [
              0.179624852
             ]
            },
            {
             "iteration": 47,
             "learn": [
              0.1842202335
             ],
             "passed_time": 22.78913817,
             "remaining_time": 24.68823302,
             "test": [
              0.1754418052
             ]
            },
            {
             "iteration": 48,
             "learn": [
              0.1803114447
             ],
             "passed_time": 23.22545335,
             "remaining_time": 24.17343104,
             "test": [
              0.1714847446
             ]
            },
            {
             "iteration": 49,
             "learn": [
              0.1766658606
             ],
             "passed_time": 23.65316128,
             "remaining_time": 23.65316128,
             "test": [
              0.1678117665
             ]
            },
            {
             "iteration": 50,
             "learn": [
              0.1732996399
             ],
             "passed_time": 24.13421854,
             "remaining_time": 23.1877786,
             "test": [
              0.164219211
             ]
            },
            {
             "iteration": 51,
             "learn": [
              0.1698601776
             ],
             "passed_time": 24.59617008,
             "remaining_time": 22.704157,
             "test": [
              0.1605975861
             ]
            },
            {
             "iteration": 52,
             "learn": [
              0.1664269787
             ],
             "passed_time": 25.05768173,
             "remaining_time": 22.22096305,
             "test": [
              0.15713312
             ]
            },
            {
             "iteration": 53,
             "learn": [
              0.1631106075
             ],
             "passed_time": 25.5057436,
             "remaining_time": 21.72711492,
             "test": [
              0.1537253483
             ]
            },
            {
             "iteration": 54,
             "learn": [
              0.1600304305
             ],
             "passed_time": 25.97639039,
             "remaining_time": 21.25341032,
             "test": [
              0.1504715861
             ]
            },
            {
             "iteration": 55,
             "learn": [
              0.1570242285
             ],
             "passed_time": 26.41264017,
             "remaining_time": 20.7527887,
             "test": [
              0.1473412428
             ]
            },
            {
             "iteration": 56,
             "learn": [
              0.1539449679
             ],
             "passed_time": 26.87672909,
             "remaining_time": 20.27542721,
             "test": [
              0.1441822
             ]
            },
            {
             "iteration": 57,
             "learn": [
              0.1511435331
             ],
             "passed_time": 27.32275062,
             "remaining_time": 19.7854401,
             "test": [
              0.1412090273
             ]
            },
            {
             "iteration": 58,
             "learn": [
              0.1484096639
             ],
             "passed_time": 27.7508502,
             "remaining_time": 19.28448912,
             "test": [
              0.1383379245
             ]
            },
            {
             "iteration": 59,
             "learn": [
              0.1457065009
             ],
             "passed_time": 28.20018002,
             "remaining_time": 18.80012001,
             "test": [
              0.135508049
             ]
            },
            {
             "iteration": 60,
             "learn": [
              0.1430181073
             ],
             "passed_time": 28.67300646,
             "remaining_time": 18.33192216,
             "test": [
              0.1328351861
             ]
            },
            {
             "iteration": 61,
             "learn": [
              0.1405816941
             ],
             "passed_time": 29.13410633,
             "remaining_time": 17.85638775,
             "test": [
              0.1302729387
             ]
            },
            {
             "iteration": 62,
             "learn": [
              0.1380825439
             ],
             "passed_time": 29.58582665,
             "remaining_time": 17.37580295,
             "test": [
              0.1276468309
             ]
            },
            {
             "iteration": 63,
             "learn": [
              0.135724919
             ],
             "passed_time": 30.01186727,
             "remaining_time": 16.88167534,
             "test": [
              0.1252118577
             ]
            },
            {
             "iteration": 64,
             "learn": [
              0.1333064068
             ],
             "passed_time": 30.5109221,
             "remaining_time": 16.42895806,
             "test": [
              0.1227423302
             ]
            },
            {
             "iteration": 65,
             "learn": [
              0.1308829684
             ],
             "passed_time": 30.9203543,
             "remaining_time": 15.92866737,
             "test": [
              0.1203886911
             ]
            },
            {
             "iteration": 66,
             "learn": [
              0.1288382624
             ],
             "passed_time": 31.37869903,
             "remaining_time": 15.45518012,
             "test": [
              0.1181864969
             ]
            },
            {
             "iteration": 67,
             "learn": [
              0.1265636531
             ],
             "passed_time": 31.83179313,
             "remaining_time": 14.97966736,
             "test": [
              0.1159204295
             ]
            },
            {
             "iteration": 68,
             "learn": [
              0.1245608462
             ],
             "passed_time": 32.23652933,
             "remaining_time": 14.4830784,
             "test": [
              0.1138426987
             ]
            },
            {
             "iteration": 69,
             "learn": [
              0.1224200043
             ],
             "passed_time": 32.73373798,
             "remaining_time": 14.02874485,
             "test": [
              0.1117087827
             ]
            },
            {
             "iteration": 70,
             "learn": [
              0.1204275441
             ],
             "passed_time": 33.18380827,
             "remaining_time": 13.55394986,
             "test": [
              0.1096439038
             ]
            },
            {
             "iteration": 71,
             "learn": [
              0.1182545408
             ],
             "passed_time": 33.60035021,
             "remaining_time": 13.06680286,
             "test": [
              0.1075666038
             ]
            },
            {
             "iteration": 72,
             "learn": [
              0.1164155583
             ],
             "passed_time": 34.08013129,
             "remaining_time": 12.60498007,
             "test": [
              0.1056778253
             ]
            },
            {
             "iteration": 73,
             "learn": [
              0.1144627833
             ],
             "passed_time": 34.49207744,
             "remaining_time": 12.11883802,
             "test": [
              0.1037454219
             ]
            },
            {
             "iteration": 74,
             "learn": [
              0.1126476223
             ],
             "passed_time": 34.98458273,
             "remaining_time": 11.66152758,
             "test": [
              0.1018623813
             ]
            },
            {
             "iteration": 75,
             "learn": [
              0.1108809857
             ],
             "passed_time": 35.41821723,
             "remaining_time": 11.18470018,
             "test": [
              0.1000830167
             ]
            },
            {
             "iteration": 76,
             "learn": [
              0.1091730105
             ],
             "passed_time": 35.91873059,
             "remaining_time": 10.72897147,
             "test": [
              0.09834723476
             ]
            },
            {
             "iteration": 77,
             "learn": [
              0.1074677382
             ],
             "passed_time": 36.35553247,
             "remaining_time": 10.25412454,
             "test": [
              0.09661997193
             ]
            },
            {
             "iteration": 78,
             "learn": [
              0.1058197146
             ],
             "passed_time": 36.76257823,
             "remaining_time": 9.772330921,
             "test": [
              0.09504430167
             ]
            },
            {
             "iteration": 79,
             "learn": [
              0.104242365
             ],
             "passed_time": 37.17111832,
             "remaining_time": 9.292779579,
             "test": [
              0.09353162906
             ]
            },
            {
             "iteration": 80,
             "learn": [
              0.1027585311
             ],
             "passed_time": 37.63309674,
             "remaining_time": 8.827516519,
             "test": [
              0.09196536443
             ]
            },
            {
             "iteration": 81,
             "learn": [
              0.1009830466
             ],
             "passed_time": 38.1312054,
             "remaining_time": 8.370264599,
             "test": [
              0.09011486119
             ]
            },
            {
             "iteration": 82,
             "learn": [
              0.09958084596
             ],
             "passed_time": 38.55605494,
             "remaining_time": 7.8970233,
             "test": [
              0.08861480991
             ]
            },
            {
             "iteration": 83,
             "learn": [
              0.09822905421
             ],
             "passed_time": 38.96034284,
             "remaining_time": 7.421017684,
             "test": [
              0.08730568809
             ]
            },
            {
             "iteration": 84,
             "learn": [
              0.09702593316
             ],
             "passed_time": 39.38953299,
             "remaining_time": 6.951094058,
             "test": [
              0.08626246108
             ]
            },
            {
             "iteration": 85,
             "learn": [
              0.09554052817
             ],
             "passed_time": 39.86108381,
             "remaining_time": 6.489013643,
             "test": [
              0.08480608585
             ]
            },
            {
             "iteration": 86,
             "learn": [
              0.0942026241
             ],
             "passed_time": 40.27988699,
             "remaining_time": 6.018833688,
             "test": [
              0.0834674077
             ]
            },
            {
             "iteration": 87,
             "learn": [
              0.09298031893
             ],
             "passed_time": 40.72407265,
             "remaining_time": 5.553282634,
             "test": [
              0.08208529456
             ]
            },
            {
             "iteration": 88,
             "learn": [
              0.09179969394
             ],
             "passed_time": 41.08775498,
             "remaining_time": 5.078261852,
             "test": [
              0.08094907157
             ]
            },
            {
             "iteration": 89,
             "learn": [
              0.09057785492
             ],
             "passed_time": 41.54856625,
             "remaining_time": 4.616507361,
             "test": [
              0.07960637141
             ]
            },
            {
             "iteration": 90,
             "learn": [
              0.08959661328
             ],
             "passed_time": 42.07597896,
             "remaining_time": 4.161360557,
             "test": [
              0.07873814749
             ]
            },
            {
             "iteration": 91,
             "learn": [
              0.08816749252
             ],
             "passed_time": 42.71217798,
             "remaining_time": 3.714102433,
             "test": [
              0.07724912385
             ]
            },
            {
             "iteration": 92,
             "learn": [
              0.08713918591
             ],
             "passed_time": 43.26572072,
             "remaining_time": 3.256559624,
             "test": [
              0.0760718181
             ]
            },
            {
             "iteration": 93,
             "learn": [
              0.08605115417
             ],
             "passed_time": 43.69298354,
             "remaining_time": 2.788913843,
             "test": [
              0.07499931476
             ]
            },
            {
             "iteration": 94,
             "learn": [
              0.08477160159
             ],
             "passed_time": 44.18060608,
             "remaining_time": 2.325295057,
             "test": [
              0.07385060488
             ]
            },
            {
             "iteration": 95,
             "learn": [
              0.0836247338
             ],
             "passed_time": 44.63617092,
             "remaining_time": 1.859840455,
             "test": [
              0.07282599116
             ]
            },
            {
             "iteration": 96,
             "learn": [
              0.08258379353
             ],
             "passed_time": 44.95588677,
             "remaining_time": 1.390388251,
             "test": [
              0.07180084383
             ]
            },
            {
             "iteration": 97,
             "learn": [
              0.08145332852
             ],
             "passed_time": 45.37587623,
             "remaining_time": 0.9260382905,
             "test": [
              0.07060441085
             ]
            },
            {
             "iteration": 98,
             "learn": [
              0.08067342666
             ],
             "passed_time": 45.71438982,
             "remaining_time": 0.4617615133,
             "test": [
              0.06980357573
             ]
            },
            {
             "iteration": 99,
             "learn": [
              0.07968654782
             ],
             "passed_time": 46.13666007,
             "remaining_time": 0,
             "test": [
              0.0687512965
             ]
            }
           ],
           "meta": {
            "iteration_count": 100,
            "launch_mode": "Train",
            "learn_metrics": [
             {
              "best_value": "Min",
              "name": "CrossEntropy"
             }
            ],
            "learn_sets": [
             "learn"
            ],
            "name": "experiment",
            "parameters": "",
            "test_metrics": [
             {
              "best_value": "Min",
              "name": "CrossEntropy"
             }
            ],
            "test_sets": [
             "test"
            ]
           }
          },
          "passed_iterations": 99,
          "total_iterations": 100
         },
         "name": "catboost_info",
         "path": "catboost_info"
        }
       },
       "layout": "IPY_MODEL_1fcb027313e847b98a487320666b401f"
      }
     },
     "359cf23e4ba24c47ba8a7e8cce7070dd": {
      "model_module": "@jupyter-widgets/base",
      "model_module_version": "1.2.0",
      "model_name": "LayoutModel",
      "state": {
       "_model_module": "@jupyter-widgets/base",
       "_model_module_version": "1.2.0",
       "_model_name": "LayoutModel",
       "_view_count": null,
       "_view_module": "@jupyter-widgets/base",
       "_view_module_version": "1.2.0",
       "_view_name": "LayoutView",
       "align_content": null,
       "align_items": null,
       "align_self": "stretch",
       "border": null,
       "bottom": null,
       "display": null,
       "flex": null,
       "flex_flow": null,
       "grid_area": null,
       "grid_auto_columns": null,
       "grid_auto_flow": null,
       "grid_auto_rows": null,
       "grid_column": null,
       "grid_gap": null,
       "grid_row": null,
       "grid_template_areas": null,
       "grid_template_columns": null,
       "grid_template_rows": null,
       "height": "500px",
       "justify_content": null,
       "justify_items": null,
       "left": null,
       "margin": null,
       "max_height": null,
       "max_width": null,
       "min_height": null,
       "min_width": null,
       "object_fit": null,
       "object_position": null,
       "order": null,
       "overflow": null,
       "overflow_x": null,
       "overflow_y": null,
       "padding": null,
       "right": null,
       "top": null,
       "visibility": null,
       "width": null
      }
     },
     "3664a18593114594bccbcc9a1bf83bb6": {
      "model_module": "@jupyter-widgets/base",
      "model_module_version": "1.2.0",
      "model_name": "LayoutModel",
      "state": {
       "_model_module": "@jupyter-widgets/base",
       "_model_module_version": "1.2.0",
       "_model_name": "LayoutModel",
       "_view_count": null,
       "_view_module": "@jupyter-widgets/base",
       "_view_module_version": "1.2.0",
       "_view_name": "LayoutView",
       "align_content": null,
       "align_items": null,
       "align_self": "stretch",
       "border": null,
       "bottom": null,
       "display": null,
       "flex": null,
       "flex_flow": null,
       "grid_area": null,
       "grid_auto_columns": null,
       "grid_auto_flow": null,
       "grid_auto_rows": null,
       "grid_column": null,
       "grid_gap": null,
       "grid_row": null,
       "grid_template_areas": null,
       "grid_template_columns": null,
       "grid_template_rows": null,
       "height": "500px",
       "justify_content": null,
       "justify_items": null,
       "left": null,
       "margin": null,
       "max_height": null,
       "max_width": null,
       "min_height": null,
       "min_width": null,
       "object_fit": null,
       "object_position": null,
       "order": null,
       "overflow": null,
       "overflow_x": null,
       "overflow_y": null,
       "padding": null,
       "right": null,
       "top": null,
       "visibility": null,
       "width": null
      }
     },
     "3db54c3eba25431d8935dc7544e4ad86": {
      "model_module": "@jupyter-widgets/base",
      "model_module_version": "1.2.0",
      "model_name": "LayoutModel",
      "state": {
       "_model_module": "@jupyter-widgets/base",
       "_model_module_version": "1.2.0",
       "_model_name": "LayoutModel",
       "_view_count": null,
       "_view_module": "@jupyter-widgets/base",
       "_view_module_version": "1.2.0",
       "_view_name": "LayoutView",
       "align_content": null,
       "align_items": null,
       "align_self": "stretch",
       "border": null,
       "bottom": null,
       "display": null,
       "flex": null,
       "flex_flow": null,
       "grid_area": null,
       "grid_auto_columns": null,
       "grid_auto_flow": null,
       "grid_auto_rows": null,
       "grid_column": null,
       "grid_gap": null,
       "grid_row": null,
       "grid_template_areas": null,
       "grid_template_columns": null,
       "grid_template_rows": null,
       "height": "500px",
       "justify_content": null,
       "justify_items": null,
       "left": null,
       "margin": null,
       "max_height": null,
       "max_width": null,
       "min_height": null,
       "min_width": null,
       "object_fit": null,
       "object_position": null,
       "order": null,
       "overflow": null,
       "overflow_x": null,
       "overflow_y": null,
       "padding": null,
       "right": null,
       "top": null,
       "visibility": null,
       "width": null
      }
     },
     "43e89acb859b449ea794e01b519bd3ed": {
      "model_module": "@jupyter-widgets/base",
      "model_module_version": "1.2.0",
      "model_name": "LayoutModel",
      "state": {
       "_model_module": "@jupyter-widgets/base",
       "_model_module_version": "1.2.0",
       "_model_name": "LayoutModel",
       "_view_count": null,
       "_view_module": "@jupyter-widgets/base",
       "_view_module_version": "1.2.0",
       "_view_name": "LayoutView",
       "align_content": null,
       "align_items": null,
       "align_self": "stretch",
       "border": null,
       "bottom": null,
       "display": null,
       "flex": null,
       "flex_flow": null,
       "grid_area": null,
       "grid_auto_columns": null,
       "grid_auto_flow": null,
       "grid_auto_rows": null,
       "grid_column": null,
       "grid_gap": null,
       "grid_row": null,
       "grid_template_areas": null,
       "grid_template_columns": null,
       "grid_template_rows": null,
       "height": "500px",
       "justify_content": null,
       "justify_items": null,
       "left": null,
       "margin": null,
       "max_height": null,
       "max_width": null,
       "min_height": null,
       "min_width": null,
       "object_fit": null,
       "object_position": null,
       "order": null,
       "overflow": null,
       "overflow_x": null,
       "overflow_y": null,
       "padding": null,
       "right": null,
       "top": null,
       "visibility": null,
       "width": null
      }
     },
     "46ebd77de67049cc932eb4ce119b271a": {
      "model_module": "catboost-widget",
      "model_module_version": "^1.0.0",
      "model_name": "CatboostWidgetModel",
      "state": {
       "_dom_classes": [],
       "_model_module": "catboost-widget",
       "_model_module_version": "^1.0.0",
       "_model_name": "CatboostWidgetModel",
       "_view_count": null,
       "_view_module": "catboost-widget",
       "_view_module_version": "^1.0.0",
       "_view_name": "CatboostWidgetView",
       "data": {
        "catboost_info": {
         "content": {
          "data": {
           "iterations": [
            {
             "iteration": 0,
             "learn": [
              0.6691336844
             ],
             "passed_time": 0.4277372462,
             "remaining_time": 42.34598737,
             "test": [
              0.6696461691
             ]
            },
            {
             "iteration": 1,
             "learn": [
              0.6458756326
             ],
             "passed_time": 0.7801808858,
             "remaining_time": 38.2288634,
             "test": [
              0.646127743
             ]
            },
            {
             "iteration": 2,
             "learn": [
              0.6234069876
             ],
             "passed_time": 1.234425588,
             "remaining_time": 39.913094,
             "test": [
              0.6249876362
             ]
            },
            {
             "iteration": 3,
             "learn": [
              0.6040359112
             ],
             "passed_time": 1.839587956,
             "remaining_time": 44.15011093,
             "test": [
              0.6046976511
             ]
            },
            {
             "iteration": 4,
             "learn": [
              0.5848631763
             ],
             "passed_time": 2.4934928,
             "remaining_time": 47.3763632,
             "test": [
              0.5859207414
             ]
            },
            {
             "iteration": 5,
             "learn": [
              0.5661337281
             ],
             "passed_time": 2.917824597,
             "remaining_time": 45.71258536,
             "test": [
              0.5680210925
             ]
            },
            {
             "iteration": 6,
             "learn": [
              0.5481395822
             ],
             "passed_time": 3.339116522,
             "remaining_time": 44.36254808,
             "test": [
              0.5508149286
             ]
            },
            {
             "iteration": 7,
             "learn": [
              0.5315028812
             ],
             "passed_time": 3.701264807,
             "remaining_time": 42.56454528,
             "test": [
              0.5334327017
             ]
            },
            {
             "iteration": 8,
             "learn": [
              0.5148818354
             ],
             "passed_time": 4.054955197,
             "remaining_time": 41.00010255,
             "test": [
              0.5167756074
             ]
            },
            {
             "iteration": 9,
             "learn": [
              0.5001829743
             ],
             "passed_time": 4.510920344,
             "remaining_time": 40.59828309,
             "test": [
              0.5021203456
             ]
            },
            {
             "iteration": 10,
             "learn": [
              0.4846700263
             ],
             "passed_time": 4.867188127,
             "remaining_time": 39.37997666,
             "test": [
              0.4868901957
             ]
            },
            {
             "iteration": 11,
             "learn": [
              0.4710304432
             ],
             "passed_time": 5.294584708,
             "remaining_time": 38.82695452,
             "test": [
              0.4733372696
             ]
            },
            {
             "iteration": 12,
             "learn": [
              0.4581229552
             ],
             "passed_time": 5.758491988,
             "remaining_time": 38.53760023,
             "test": [
              0.4605486393
             ]
            },
            {
             "iteration": 13,
             "learn": [
              0.4453924117
             ],
             "passed_time": 6.174969871,
             "remaining_time": 37.93195778,
             "test": [
              0.447977242
             ]
            },
            {
             "iteration": 14,
             "learn": [
              0.4325506221
             ],
             "passed_time": 6.530659498,
             "remaining_time": 37.00707049,
             "test": [
              0.4352135957
             ]
            },
            {
             "iteration": 15,
             "learn": [
              0.4201648239
             ],
             "passed_time": 6.88447377,
             "remaining_time": 36.14348729,
             "test": [
              0.4229065934
             ]
            },
            {
             "iteration": 16,
             "learn": [
              0.4085075854
             ],
             "passed_time": 7.235673022,
             "remaining_time": 35.32710946,
             "test": [
              0.4112288943
             ]
            },
            {
             "iteration": 17,
             "learn": [
              0.3976805698
             ],
             "passed_time": 7.654268155,
             "remaining_time": 34.86944382,
             "test": [
              0.4005264808
             ]
            },
            {
             "iteration": 18,
             "learn": [
              0.387306023
             ],
             "passed_time": 8.086564719,
             "remaining_time": 34.47430222,
             "test": [
              0.390287537
             ]
            },
            {
             "iteration": 19,
             "learn": [
              0.3772615583
             ],
             "passed_time": 8.441015128,
             "remaining_time": 33.76406051,
             "test": [
              0.3798460581
             ]
            },
            {
             "iteration": 20,
             "learn": [
              0.3673760351
             ],
             "passed_time": 8.801396526,
             "remaining_time": 33.1100155,
             "test": [
              0.3698848592
             ]
            },
            {
             "iteration": 21,
             "learn": [
              0.3580047834
             ],
             "passed_time": 9.159081838,
             "remaining_time": 32.47310834,
             "test": [
              0.3604960217
             ]
            },
            {
             "iteration": 22,
             "learn": [
              0.3489276618
             ],
             "passed_time": 9.517584495,
             "remaining_time": 31.86321766,
             "test": [
              0.3517172327
             ]
            },
            {
             "iteration": 23,
             "learn": [
              0.3401243948
             ],
             "passed_time": 9.904491522,
             "remaining_time": 31.36422315,
             "test": [
              0.3430266772
             ]
            },
            {
             "iteration": 24,
             "learn": [
              0.3321000377
             ],
             "passed_time": 10.3469845,
             "remaining_time": 31.04095351,
             "test": [
              0.3349821998
             ]
            },
            {
             "iteration": 25,
             "learn": [
              0.3239045485
             ],
             "passed_time": 10.68354421,
             "remaining_time": 30.40701044,
             "test": [
              0.3267358319
             ]
            },
            {
             "iteration": 26,
             "learn": [
              0.3162599254
             ],
             "passed_time": 11.06974868,
             "remaining_time": 29.92932049,
             "test": [
              0.3189580865
             ]
            },
            {
             "iteration": 27,
             "learn": [
              0.30875672
             ],
             "passed_time": 11.39353844,
             "remaining_time": 29.29767026,
             "test": [
              0.3114707697
             ]
            },
            {
             "iteration": 28,
             "learn": [
              0.301503186
             ],
             "passed_time": 11.71884813,
             "remaining_time": 28.69097301,
             "test": [
              0.3041270323
             ]
            },
            {
             "iteration": 29,
             "learn": [
              0.2944515242
             ],
             "passed_time": 12.04230923,
             "remaining_time": 28.09872154,
             "test": [
              0.2971913678
             ]
            },
            {
             "iteration": 30,
             "learn": [
              0.2871274728
             ],
             "passed_time": 12.49061016,
             "remaining_time": 27.80168068,
             "test": [
              0.2900782522
             ]
            },
            {
             "iteration": 31,
             "learn": [
              0.2799956177
             ],
             "passed_time": 12.93618951,
             "remaining_time": 27.48940271,
             "test": [
              0.283228288
             ]
            },
            {
             "iteration": 32,
             "learn": [
              0.2733826455
             ],
             "passed_time": 13.44022727,
             "remaining_time": 27.28773415,
             "test": [
              0.2767275359
             ]
            },
            {
             "iteration": 33,
             "learn": [
              0.2673056241
             ],
             "passed_time": 13.76158822,
             "remaining_time": 26.71367125,
             "test": [
              0.2705729092
             ]
            },
            {
             "iteration": 34,
             "learn": [
              0.2612627814
             ],
             "passed_time": 14.21614008,
             "remaining_time": 26.40140301,
             "test": [
              0.2644713164
             ]
            },
            {
             "iteration": 35,
             "learn": [
              0.2556615415
             ],
             "passed_time": 14.66003625,
             "remaining_time": 26.06228666,
             "test": [
              0.2586937864
             ]
            },
            {
             "iteration": 36,
             "learn": [
              0.2500762395
             ],
             "passed_time": 14.98455069,
             "remaining_time": 25.51423496,
             "test": [
              0.253263571
             ]
            },
            {
             "iteration": 37,
             "learn": [
              0.2445710642
             ],
             "passed_time": 15.44501358,
             "remaining_time": 25.199759,
             "test": [
              0.2476761327
             ]
            },
            {
             "iteration": 38,
             "learn": [
              0.2391338403
             ],
             "passed_time": 15.90288832,
             "remaining_time": 24.8737484,
             "test": [
              0.2422570722
             ]
            },
            {
             "iteration": 39,
             "learn": [
              0.2342865868
             ],
             "passed_time": 16.33978797,
             "remaining_time": 24.50968195,
             "test": [
              0.2373973832
             ]
            },
            {
             "iteration": 40,
             "learn": [
              0.2294837228
             ],
             "passed_time": 16.66495831,
             "remaining_time": 23.98128146,
             "test": [
              0.232649899
             ]
            },
            {
             "iteration": 41,
             "learn": [
              0.2242949992
             ],
             "passed_time": 17.15558175,
             "remaining_time": 23.69104147,
             "test": [
              0.2271685183
             ]
            },
            {
             "iteration": 42,
             "learn": [
              0.219847547
             ],
             "passed_time": 17.47857429,
             "remaining_time": 23.1692729,
             "test": [
              0.2227216086
             ]
            },
            {
             "iteration": 43,
             "learn": [
              0.2149388222
             ],
             "passed_time": 17.96953856,
             "remaining_time": 22.8703218,
             "test": [
              0.2175531382
             ]
            },
            {
             "iteration": 44,
             "learn": [
              0.2107354295
             ],
             "passed_time": 18.29146708,
             "remaining_time": 22.35623755,
             "test": [
              0.2132210959
             ]
            },
            {
             "iteration": 45,
             "learn": [
              0.2060120576
             ],
             "passed_time": 18.68877787,
             "remaining_time": 21.93900011,
             "test": [
              0.2082707021
             ]
            },
            {
             "iteration": 46,
             "learn": [
              0.2015325065
             ],
             "passed_time": 19.17880928,
             "remaining_time": 21.62716791,
             "test": [
              0.2035928366
             ]
            },
            {
             "iteration": 47,
             "learn": [
              0.1975449154
             ],
             "passed_time": 19.54005672,
             "remaining_time": 21.16839478,
             "test": [
              0.1996086886
             ]
            },
            {
             "iteration": 48,
             "learn": [
              0.1938104504
             ],
             "passed_time": 19.99354945,
             "remaining_time": 20.8096127,
             "test": [
              0.195875143
             ]
            },
            {
             "iteration": 49,
             "learn": [
              0.190496063
             ],
             "passed_time": 20.33959524,
             "remaining_time": 20.33959524,
             "test": [
              0.1924844925
             ]
            },
            {
             "iteration": 50,
             "learn": [
              0.1869928254
             ],
             "passed_time": 20.77128483,
             "remaining_time": 19.95672464,
             "test": [
              0.1888259919
             ]
            },
            {
             "iteration": 51,
             "learn": [
              0.1837211129
             ],
             "passed_time": 21.11528384,
             "remaining_time": 19.49103124,
             "test": [
              0.1855568994
             ]
            },
            {
             "iteration": 52,
             "learn": [
              0.180376736
             ],
             "passed_time": 21.55314246,
             "remaining_time": 19.11316407,
             "test": [
              0.1821000786
             ]
            },
            {
             "iteration": 53,
             "learn": [
              0.1767070779
             ],
             "passed_time": 22.0405266,
             "remaining_time": 18.7752634,
             "test": [
              0.1782354295
             ]
            },
            {
             "iteration": 54,
             "learn": [
              0.1734396122
             ],
             "passed_time": 22.36787976,
             "remaining_time": 18.30099253,
             "test": [
              0.1749534066
             ]
            },
            {
             "iteration": 55,
             "learn": [
              0.1703150409
             ],
             "passed_time": 22.8656529,
             "remaining_time": 17.96587014,
             "test": [
              0.1716983109
             ]
            },
            {
             "iteration": 56,
             "learn": [
              0.16656852
             ],
             "passed_time": 23.27722917,
             "remaining_time": 17.56001498,
             "test": [
              0.1677823229
             ]
            },
            {
             "iteration": 57,
             "learn": [
              0.1631493292
             ],
             "passed_time": 23.68760594,
             "remaining_time": 17.15309396,
             "test": [
              0.1643768829
             ]
            },
            {
             "iteration": 58,
             "learn": [
              0.1602415888
             ],
             "passed_time": 24.17734348,
             "remaining_time": 16.80120479,
             "test": [
              0.161370184
             ]
            },
            {
             "iteration": 59,
             "learn": [
              0.1572142351
             ],
             "passed_time": 24.67062335,
             "remaining_time": 16.44708223,
             "test": [
              0.1582207832
             ]
            },
            {
             "iteration": 60,
             "learn": [
              0.154444209
             ],
             "passed_time": 25.00072433,
             "remaining_time": 15.98406965,
             "test": [
              0.155457329
             ]
            },
            {
             "iteration": 61,
             "learn": [
              0.1517861845
             ],
             "passed_time": 25.33884948,
             "remaining_time": 15.53026258,
             "test": [
              0.1527848053
             ]
            },
            {
             "iteration": 62,
             "learn": [
              0.1490113477
             ],
             "passed_time": 25.8241344,
             "remaining_time": 15.16655512,
             "test": [
              0.1498850176
             ]
            },
            {
             "iteration": 63,
             "learn": [
              0.145953191
             ],
             "passed_time": 26.23121044,
             "remaining_time": 14.75505587,
             "test": [
              0.1466125668
             ]
            },
            {
             "iteration": 64,
             "learn": [
              0.1430075111
             ],
             "passed_time": 26.71834158,
             "remaining_time": 14.38679931,
             "test": [
              0.1434698277
             ]
            },
            {
             "iteration": 65,
             "learn": [
              0.1402831683
             ],
             "passed_time": 27.11556504,
             "remaining_time": 13.96862441,
             "test": [
              0.1405711466
             ]
            },
            {
             "iteration": 66,
             "learn": [
              0.1377451405
             ],
             "passed_time": 27.5909753,
             "remaining_time": 13.58958485,
             "test": [
              0.1379303569
             ]
            },
            {
             "iteration": 67,
             "learn": [
              0.1352772392
             ],
             "passed_time": 27.9930025,
             "remaining_time": 13.17317765,
             "test": [
              0.1352196508
             ]
            },
            {
             "iteration": 68,
             "learn": [
              0.1328861452
             ],
             "passed_time": 28.3582874,
             "remaining_time": 12.74067985,
             "test": [
              0.1328967993
             ]
            },
            {
             "iteration": 69,
             "learn": [
              0.1307908237
             ],
             "passed_time": 28.75725673,
             "remaining_time": 12.3245386,
             "test": [
              0.1307233535
             ]
            },
            {
             "iteration": 70,
             "learn": [
              0.1286452045
             ],
             "passed_time": 29.12288448,
             "remaining_time": 11.89526267,
             "test": [
              0.1285744376
             ]
            },
            {
             "iteration": 71,
             "learn": [
              0.1265843265
             ],
             "passed_time": 29.49597272,
             "remaining_time": 11.47065606,
             "test": [
              0.1264534784
             ]
            },
            {
             "iteration": 72,
             "learn": [
              0.1244987986
             ],
             "passed_time": 29.86716047,
             "remaining_time": 11.04675798,
             "test": [
              0.1243613969
             ]
            },
            {
             "iteration": 73,
             "learn": [
              0.1226179709
             ],
             "passed_time": 30.30511293,
             "remaining_time": 10.64774238,
             "test": [
              0.1225274995
             ]
            },
            {
             "iteration": 74,
             "learn": [
              0.1205336947
             ],
             "passed_time": 30.74471907,
             "remaining_time": 10.24823969,
             "test": [
              0.1203533899
             ]
            },
            {
             "iteration": 75,
             "learn": [
              0.1184372786
             ],
             "passed_time": 31.11910463,
             "remaining_time": 9.827085672,
             "test": [
              0.1183066748
             ]
            },
            {
             "iteration": 76,
             "learn": [
              0.1167705232
             ],
             "passed_time": 31.43370396,
             "remaining_time": 9.389288196,
             "test": [
              0.1167557539
             ]
            },
            {
             "iteration": 77,
             "learn": [
              0.1147022147
             ],
             "passed_time": 31.94362117,
             "remaining_time": 9.009739303,
             "test": [
              0.1144279332
             ]
            },
            {
             "iteration": 78,
             "learn": [
              0.1127971027
             ],
             "passed_time": 32.39397948,
             "remaining_time": 8.611057837,
             "test": [
              0.1124903059
             ]
            },
            {
             "iteration": 79,
             "learn": [
              0.1105769214
             ],
             "passed_time": 32.88112804,
             "remaining_time": 8.22028201,
             "test": [
              0.1101480982
             ]
            },
            {
             "iteration": 80,
             "learn": [
              0.1090284187
             ],
             "passed_time": 33.32106947,
             "remaining_time": 7.816053333,
             "test": [
              0.1085106281
             ]
            },
            {
             "iteration": 81,
             "learn": [
              0.107112116
             ],
             "passed_time": 34.02809383,
             "remaining_time": 7.469581572,
             "test": [
              0.1064201382
             ]
            },
            {
             "iteration": 82,
             "learn": [
              0.1053892253
             ],
             "passed_time": 34.50765208,
             "remaining_time": 7.067832354,
             "test": [
              0.1045944651
             ]
            },
            {
             "iteration": 83,
             "learn": [
              0.1039251826
             ],
             "passed_time": 34.90350274,
             "remaining_time": 6.648286237,
             "test": [
              0.1031001154
             ]
            },
            {
             "iteration": 84,
             "learn": [
              0.1025683146
             ],
             "passed_time": 35.28315198,
             "remaining_time": 6.226438584,
             "test": [
              0.1016947773
             ]
            },
            {
             "iteration": 85,
             "learn": [
              0.1013265641
             ],
             "passed_time": 35.63599738,
             "remaining_time": 5.801208875,
             "test": [
              0.100393039
             ]
            },
            {
             "iteration": 86,
             "learn": [
              0.0995437673
             ],
             "passed_time": 36.06291913,
             "remaining_time": 5.388712054,
             "test": [
              0.09860854048
             ]
            },
            {
             "iteration": 87,
             "learn": [
              0.09798462613
             ],
             "passed_time": 36.51159029,
             "remaining_time": 4.978853221,
             "test": [
              0.09698273289
             ]
            },
            {
             "iteration": 88,
             "learn": [
              0.09622104367
             ],
             "passed_time": 36.93263394,
             "remaining_time": 4.564707565,
             "test": [
              0.09521502478
             ]
            },
            {
             "iteration": 89,
             "learn": [
              0.09454532286
             ],
             "passed_time": 37.42721145,
             "remaining_time": 4.15857905,
             "test": [
              0.093375548
             ]
            },
            {
             "iteration": 90,
             "learn": [
              0.09297236975
             ],
             "passed_time": 37.85825736,
             "remaining_time": 3.744223256,
             "test": [
              0.09179514137
             ]
            },
            {
             "iteration": 91,
             "learn": [
              0.09184193475
             ],
             "passed_time": 38.18997733,
             "remaining_time": 3.320867594,
             "test": [
              0.0906339054
             ]
            },
            {
             "iteration": 92,
             "learn": [
              0.09064996148
             ],
             "passed_time": 38.57028806,
             "remaining_time": 2.903139961,
             "test": [
              0.0894735585
             ]
            },
            {
             "iteration": 93,
             "learn": [
              0.08916927946
             ],
             "passed_time": 38.99899106,
             "remaining_time": 2.489297302,
             "test": [
              0.08805246489
             ]
            },
            {
             "iteration": 94,
             "learn": [
              0.08802239609
             ],
             "passed_time": 39.4595619,
             "remaining_time": 2.076819047,
             "test": [
              0.08680057153
             ]
            },
            {
             "iteration": 95,
             "learn": [
              0.0866700362
             ],
             "passed_time": 39.94657495,
             "remaining_time": 1.664440623,
             "test": [
              0.08532068261
             ]
            },
            {
             "iteration": 96,
             "learn": [
              0.08545317218
             ],
             "passed_time": 40.29075451,
             "remaining_time": 1.246105809,
             "test": [
              0.08421063517
             ]
            },
            {
             "iteration": 97,
             "learn": [
              0.08409569425
             ],
             "passed_time": 40.72050955,
             "remaining_time": 0.8310308072,
             "test": [
              0.08290498609
             ]
            },
            {
             "iteration": 98,
             "learn": [
              0.08280476087
             ],
             "passed_time": 41.15792278,
             "remaining_time": 0.4157365937,
             "test": [
              0.08164824323
             ]
            },
            {
             "iteration": 99,
             "learn": [
              0.08140734406
             ],
             "passed_time": 41.61196728,
             "remaining_time": 0,
             "test": [
              0.08012660077
             ]
            }
           ],
           "meta": {
            "iteration_count": 100,
            "launch_mode": "Train",
            "learn_metrics": [
             {
              "best_value": "Min",
              "name": "CrossEntropy"
             }
            ],
            "learn_sets": [
             "learn"
            ],
            "name": "experiment",
            "parameters": "",
            "test_metrics": [
             {
              "best_value": "Min",
              "name": "CrossEntropy"
             }
            ],
            "test_sets": [
             "test"
            ]
           }
          },
          "passed_iterations": 99,
          "total_iterations": 100
         },
         "name": "catboost_info",
         "path": "catboost_info"
        }
       },
       "layout": "IPY_MODEL_3664a18593114594bccbcc9a1bf83bb6"
      }
     },
     "4a448e538f474c92bd5c198577d23937": {
      "model_module": "catboost-widget",
      "model_module_version": "^1.0.0",
      "model_name": "CatboostWidgetModel",
      "state": {
       "_dom_classes": [],
       "_model_module": "catboost-widget",
       "_model_module_version": "^1.0.0",
       "_model_name": "CatboostWidgetModel",
       "_view_count": null,
       "_view_module": "catboost-widget",
       "_view_module_version": "^1.0.0",
       "_view_name": "CatboostWidgetView",
       "data": {
        "catboost_info": {
         "content": {
          "data": {
           "iterations": [
            {
             "iteration": 0,
             "learn": [
              0.6613801917
             ],
             "passed_time": 0.3805564881,
             "remaining_time": 37.67509232,
             "test": [
              0.6635997017
             ]
            },
            {
             "iteration": 1,
             "learn": [
              0.6362945126
             ],
             "passed_time": 0.7843504382,
             "remaining_time": 38.43317147,
             "test": [
              0.6357722964
             ]
            },
            {
             "iteration": 2,
             "learn": [
              0.6093762145
             ],
             "passed_time": 1.179312086,
             "remaining_time": 38.13109078,
             "test": [
              0.6095192778
             ]
            },
            {
             "iteration": 3,
             "learn": [
              0.5837168142
             ],
             "passed_time": 1.531653771,
             "remaining_time": 36.75969051,
             "test": [
              0.5847115336
             ]
            },
            {
             "iteration": 4,
             "learn": [
              0.5621908382
             ],
             "passed_time": 1.987507921,
             "remaining_time": 37.7626505,
             "test": [
              0.5612363041
             ]
            },
            {
             "iteration": 5,
             "learn": [
              0.5376672984
             ],
             "passed_time": 2.38731833,
             "remaining_time": 37.4013205,
             "test": [
              0.5389905695
             ]
            },
            {
             "iteration": 6,
             "learn": [
              0.5168814898
             ],
             "passed_time": 2.839176832,
             "remaining_time": 37.72049219,
             "test": [
              0.5178863512
             ]
            },
            {
             "iteration": 7,
             "learn": [
              0.4986820454
             ],
             "passed_time": 3.206315752,
             "remaining_time": 36.87263114,
             "test": [
              0.4978385904
             ]
            },
            {
             "iteration": 8,
             "learn": [
              0.478524695
             ],
             "passed_time": 3.567352445,
             "remaining_time": 36.06989695,
             "test": [
              0.478774182
             ]
            },
            {
             "iteration": 9,
             "learn": [
              0.4605800316
             ],
             "passed_time": 3.943922464,
             "remaining_time": 35.49530218,
             "test": [
              0.4606285152
             ]
            },
            {
             "iteration": 10,
             "learn": [
              0.4438177686
             ],
             "passed_time": 4.325831733,
             "remaining_time": 34.9999113,
             "test": [
              0.4433402804
             ]
            },
            {
             "iteration": 11,
             "learn": [
              0.4280504758
             ],
             "passed_time": 4.700373196,
             "remaining_time": 34.46940344,
             "test": [
              0.4268543572
             ]
            },
            {
             "iteration": 12,
             "learn": [
              0.4121086409
             ],
             "passed_time": 5.092484965,
             "remaining_time": 34.0804763,
             "test": [
              0.4111210405
             ]
            },
            {
             "iteration": 13,
             "learn": [
              0.3967745747
             ],
             "passed_time": 5.479096754,
             "remaining_time": 33.65730863,
             "test": [
              0.396094687
             ]
            },
            {
             "iteration": 14,
             "learn": [
              0.3823906847
             ],
             "passed_time": 5.893187422,
             "remaining_time": 33.39472873,
             "test": [
              0.38173264
             ]
            },
            {
             "iteration": 15,
             "learn": [
              0.3673313049
             ],
             "passed_time": 6.390941849,
             "remaining_time": 33.55244471,
             "test": [
              0.3679977213
             ]
            },
            {
             "iteration": 16,
             "learn": [
              0.3538793877
             ],
             "passed_time": 6.837586407,
             "remaining_time": 33.3835101,
             "test": [
              0.3548530857
             ]
            },
            {
             "iteration": 17,
             "learn": [
              0.3431686861
             ],
             "passed_time": 7.179349429,
             "remaining_time": 32.70592517,
             "test": [
              0.3422652896
             ]
            },
            {
             "iteration": 18,
             "learn": [
              0.3300849071
             ],
             "passed_time": 7.567124585,
             "remaining_time": 32.25984691,
             "test": [
              0.3302046928
             ]
            },
            {
             "iteration": 19,
             "learn": [
              0.3196733139
             ],
             "passed_time": 8.015307448,
             "remaining_time": 32.06122979,
             "test": [
              0.3186433499
             ]
            },
            {
             "iteration": 20,
             "learn": [
              0.3069668935
             ],
             "passed_time": 8.457728232,
             "remaining_time": 31.81716811,
             "test": [
              0.3075548563
             ]
            },
            {
             "iteration": 21,
             "learn": [
              0.2968810957
             ],
             "passed_time": 8.858800366,
             "remaining_time": 31.40847403,
             "test": [
              0.2969142584
             ]
            },
            {
             "iteration": 22,
             "learn": [
              0.2867664676
             ],
             "passed_time": 9.274351675,
             "remaining_time": 31.04891648,
             "test": [
              0.2866994097
             ]
            },
            {
             "iteration": 23,
             "learn": [
              0.2765079028
             ],
             "passed_time": 9.732734619,
             "remaining_time": 30.82032629,
             "test": [
              0.2768894132
             ]
            },
            {
             "iteration": 24,
             "learn": [
              0.2664441158
             ],
             "passed_time": 10.1163205,
             "remaining_time": 30.34896149,
             "test": [
              0.2674620674
             ]
            },
            {
             "iteration": 25,
             "learn": [
              0.2579789585
             ],
             "passed_time": 10.48586827,
             "remaining_time": 29.84439431,
             "test": [
              0.2584003038
             ]
            },
            {
             "iteration": 26,
             "learn": [
              0.2499625361
             ],
             "passed_time": 10.87754208,
             "remaining_time": 29.40965082,
             "test": [
              0.2496875151
             ]
            },
            {
             "iteration": 27,
             "learn": [
              0.2419720993
             ],
             "passed_time": 11.24643842,
             "remaining_time": 28.91941307,
             "test": [
              0.2413064036
             ]
            },
            {
             "iteration": 28,
             "learn": [
              0.2336774901
             ],
             "passed_time": 11.74751529,
             "remaining_time": 28.76115813,
             "test": [
              0.233241954
             ]
            },
            {
             "iteration": 29,
             "learn": [
              0.2258438854
             ],
             "passed_time": 12.21778755,
             "remaining_time": 28.50817095,
             "test": [
              0.2254799895
             ]
            },
            {
             "iteration": 30,
             "learn": [
              0.2185227559
             ],
             "passed_time": 12.68768887,
             "remaining_time": 28.24033974,
             "test": [
              0.2180064153
             ]
            },
            {
             "iteration": 31,
             "learn": [
              0.2109303761
             ],
             "passed_time": 13.05524862,
             "remaining_time": 27.74240331,
             "test": [
              0.2108094656
             ]
            },
            {
             "iteration": 32,
             "learn": [
              0.2033489617
             ],
             "passed_time": 13.54231361,
             "remaining_time": 27.49500037,
             "test": [
              0.20387462
             ]
            },
            {
             "iteration": 33,
             "learn": [
              0.1964209994
             ],
             "passed_time": 13.97562985,
             "remaining_time": 27.12916383,
             "test": [
              0.1971920187
             ]
            },
            {
             "iteration": 34,
             "learn": [
              0.1911768018
             ],
             "passed_time": 14.42073257,
             "remaining_time": 26.78136049,
             "test": [
              0.190751179
             ]
            },
            {
             "iteration": 35,
             "learn": [
              0.1838986674
             ],
             "passed_time": 14.78939816,
             "remaining_time": 26.29226339,
             "test": [
              0.1845413477
             ]
            },
            {
             "iteration": 36,
             "learn": [
              0.1787647401
             ],
             "passed_time": 15.17990926,
             "remaining_time": 25.84687253,
             "test": [
              0.1785528102
             ]
            },
            {
             "iteration": 37,
             "learn": [
              0.1721866099
             ],
             "passed_time": 15.54918595,
             "remaining_time": 25.36972444,
             "test": [
              0.1727763267
             ]
            },
            {
             "iteration": 38,
             "learn": [
              0.1676662798
             ],
             "passed_time": 15.97149314,
             "remaining_time": 24.98105337,
             "test": [
              0.1672036284
             ]
            },
            {
             "iteration": 39,
             "learn": [
              0.1614232403
             ],
             "passed_time": 16.36259754,
             "remaining_time": 24.54389632,
             "test": [
              0.1618258297
             ]
            },
            {
             "iteration": 40,
             "learn": [
              0.1563265701
             ],
             "passed_time": 16.78899573,
             "remaining_time": 24.15977435,
             "test": [
              0.1566354732
             ]
            },
            {
             "iteration": 41,
             "learn": [
              0.1520149209
             ],
             "passed_time": 17.20878582,
             "remaining_time": 23.76451375,
             "test": [
              0.1516250656
             ]
            },
            {
             "iteration": 42,
             "learn": [
              0.1470002747
             ],
             "passed_time": 17.63335085,
             "remaining_time": 23.37444183,
             "test": [
              0.1467874574
             ]
            },
            {
             "iteration": 43,
             "learn": [
              0.141865232
             ],
             "passed_time": 18.04697251,
             "remaining_time": 22.96887411,
             "test": [
              0.142115579
             ]
            },
            {
             "iteration": 44,
             "learn": [
              0.1371035641
             ],
             "passed_time": 18.47821052,
             "remaining_time": 22.58447953,
             "test": [
              0.1376038009
             ]
            },
            {
             "iteration": 45,
             "learn": [
              0.1329054482
             ],
             "passed_time": 18.93143209,
             "remaining_time": 22.22385506,
             "test": [
              0.1332445115
             ]
            },
            {
             "iteration": 46,
             "learn": [
              0.1289166797
             ],
             "passed_time": 19.29490408,
             "remaining_time": 21.75808333,
             "test": [
              0.129033014
             ]
            },
            {
             "iteration": 47,
             "learn": [
              0.1249893058
             ],
             "passed_time": 19.81468429,
             "remaining_time": 21.46590798,
             "test": [
              0.1249640406
             ]
            },
            {
             "iteration": 48,
             "learn": [
              0.1210805928
             ],
             "passed_time": 20.24549644,
             "remaining_time": 21.07184324,
             "test": [
              0.1210318593
             ]
            },
            {
             "iteration": 49,
             "learn": [
              0.1171934227
             ],
             "passed_time": 20.58608098,
             "remaining_time": 20.58608098,
             "test": [
              0.117230122
             ]
            },
            {
             "iteration": 50,
             "learn": [
              0.1133177635
             ],
             "passed_time": 20.99139786,
             "remaining_time": 20.16820578,
             "test": [
              0.1135555131
             ]
            },
            {
             "iteration": 51,
             "learn": [
              0.1097543045
             ],
             "passed_time": 21.34205555,
             "remaining_time": 19.70035897,
             "test": [
              0.110002311
             ]
            },
            {
             "iteration": 52,
             "learn": [
              0.106926024
             ],
             "passed_time": 21.67607642,
             "remaining_time": 19.22218098,
             "test": [
              0.1065663529
             ]
            },
            {
             "iteration": 53,
             "learn": [
              0.1034039668
             ],
             "passed_time": 22.01688064,
             "remaining_time": 18.75512054,
             "test": [
              0.103243814
             ]
            },
            {
             "iteration": 54,
             "learn": [
              0.09973015679
             ],
             "passed_time": 22.47301572,
             "remaining_time": 18.38701286,
             "test": [
              0.1000306401
             ]
            },
            {
             "iteration": 55,
             "learn": [
              0.09713723698
             ],
             "passed_time": 22.92126351,
             "remaining_time": 18.00956418,
             "test": [
              0.09692253637
             ]
            },
            {
             "iteration": 56,
             "learn": [
              0.09376589305
             ],
             "passed_time": 23.34510938,
             "remaining_time": 17.61122287,
             "test": [
              0.09391521894
             ]
            },
            {
             "iteration": 57,
             "learn": [
              0.09122238909
             ],
             "passed_time": 23.79664382,
             "remaining_time": 17.23205242,
             "test": [
              0.09100658469
             ]
            },
            {
             "iteration": 58,
             "learn": [
              0.08794123131
             ],
             "passed_time": 24.1989416,
             "remaining_time": 16.81621366,
             "test": [
              0.08819155225
             ]
            },
            {
             "iteration": 59,
             "learn": [
              0.08547141478
             ],
             "passed_time": 24.61605835,
             "remaining_time": 16.41070557,
             "test": [
              0.08546790383
             ]
            },
            {
             "iteration": 60,
             "learn": [
              0.08257524774
             ],
             "passed_time": 25.04031791,
             "remaining_time": 16.00938358,
             "test": [
              0.08283145063
             ]
            },
            {
             "iteration": 61,
             "learn": [
              0.08010094779
             ],
             "passed_time": 25.4524557,
             "remaining_time": 15.59989221,
             "test": [
              0.08027998961
             ]
            },
            {
             "iteration": 62,
             "learn": [
              0.07797047384
             ],
             "passed_time": 25.84631314,
             "remaining_time": 15.17958074,
             "test": [
              0.07781030815
             ]
            },
            {
             "iteration": 63,
             "learn": [
              0.07548901402
             ],
             "passed_time": 26.24448163,
             "remaining_time": 14.76252092,
             "test": [
              0.07541956763
             ]
            },
            {
             "iteration": 64,
             "learn": [
              0.07295568083
             ],
             "passed_time": 26.68780975,
             "remaining_time": 14.3703591,
             "test": [
              0.07310554162
             ]
            },
            {
             "iteration": 65,
             "learn": [
              0.07053921705
             ],
             "passed_time": 27.10760742,
             "remaining_time": 13.96452503,
             "test": [
              0.07086457207
             ]
            },
            {
             "iteration": 66,
             "learn": [
              0.06844744689
             ],
             "passed_time": 27.54493998,
             "remaining_time": 13.56691074,
             "test": [
              0.06869490076
             ]
            },
            {
             "iteration": 67,
             "learn": [
              0.06643111379
             ],
             "passed_time": 27.89663738,
             "remaining_time": 13.12782936,
             "test": [
              0.06659519825
             ]
            },
            {
             "iteration": 68,
             "learn": [
              0.06446606773
             ],
             "passed_time": 28.31729592,
             "remaining_time": 12.72226339,
             "test": [
              0.06456061371
             ]
            },
            {
             "iteration": 69,
             "learn": [
              0.06251230894
             ],
             "passed_time": 28.65694999,
             "remaining_time": 12.28154999,
             "test": [
              0.06259036843
             ]
            },
            {
             "iteration": 70,
             "learn": [
              0.06056313082
             ],
             "passed_time": 29.00780374,
             "remaining_time": 11.84825787,
             "test": [
              0.06068196945
             ]
            },
            {
             "iteration": 71,
             "learn": [
              0.05865345307
             ],
             "passed_time": 29.38577141,
             "remaining_time": 11.42779999,
             "test": [
              0.05883383028
             ]
            },
            {
             "iteration": 72,
             "learn": [
              0.05684123472
             ],
             "passed_time": 29.78102845,
             "remaining_time": 11.01490093,
             "test": [
              0.0570432665
             ]
            },
            {
             "iteration": 73,
             "learn": [
              0.05543120722
             ],
             "passed_time": 30.22835744,
             "remaining_time": 10.62077424,
             "test": [
              0.05530924928
             ]
            },
            {
             "iteration": 74,
             "learn": [
              0.0536728595
             ],
             "passed_time": 30.82922108,
             "remaining_time": 10.27640703,
             "test": [
              0.05362941893
             ]
            },
            {
             "iteration": 75,
             "learn": [
              0.05182519757
             ],
             "passed_time": 31.41337743,
             "remaining_time": 9.920013925,
             "test": [
              0.0520018836
             ]
            },
            {
             "iteration": 76,
             "learn": [
              0.05053055519
             ],
             "passed_time": 32.00370439,
             "remaining_time": 9.559548064,
             "test": [
              0.05042562437
             ]
            },
            {
             "iteration": 77,
             "learn": [
              0.04884044759
             ],
             "passed_time": 32.41356442,
             "remaining_time": 9.142287401,
             "test": [
              0.04889799597
             ]
            },
            {
             "iteration": 78,
             "learn": [
              0.0472115201
             ],
             "passed_time": 32.80279917,
             "remaining_time": 8.719731426,
             "test": [
              0.04741755316
             ]
            },
            {
             "iteration": 79,
             "learn": [
              0.04591196788
             ],
             "passed_time": 33.19688971,
             "remaining_time": 8.299222427,
             "test": [
              0.04598314044
             ]
            },
            {
             "iteration": 80,
             "learn": [
              0.04464896769
             ],
             "passed_time": 33.59850724,
             "remaining_time": 7.881131328,
             "test": [
              0.04459302526
             ]
            },
            {
             "iteration": 81,
             "learn": [
              0.04306331511
             ],
             "passed_time": 33.96567237,
             "remaining_time": 7.455879302,
             "test": [
              0.04324579348
             ]
            },
            {
             "iteration": 82,
             "learn": [
              0.0419552715
             ],
             "passed_time": 34.32672922,
             "remaining_time": 7.030775864,
             "test": [
              0.04194008837
             ]
            },
            {
             "iteration": 83,
             "learn": [
              0.04071436309
             ],
             "passed_time": 34.68433655,
             "remaining_time": 6.606540294,
             "test": [
              0.04067489543
             ]
            },
            {
             "iteration": 84,
             "learn": [
              0.03934893134
             ],
             "passed_time": 35.06295855,
             "remaining_time": 6.187580921,
             "test": [
              0.03944831203
             ]
            },
            {
             "iteration": 85,
             "learn": [
              0.03812621539
             ],
             "passed_time": 35.54071921,
             "remaining_time": 5.785698475,
             "test": [
              0.03826044905
             ]
            },
            {
             "iteration": 86,
             "learn": [
              0.03710698038
             ],
             "passed_time": 35.87911049,
             "remaining_time": 5.361246395,
             "test": [
              0.03710829299
             ]
            },
            {
             "iteration": 87,
             "learn": [
              0.03605576098
             ],
             "passed_time": 36.3153737,
             "remaining_time": 4.952096414,
             "test": [
              0.03599208569
             ]
            },
            {
             "iteration": 88,
             "learn": [
              0.03486709243
             ],
             "passed_time": 36.71312669,
             "remaining_time": 4.537577456,
             "test": [
              0.03490944103
             ]
            },
            {
             "iteration": 89,
             "learn": [
              0.03382386767
             ],
             "passed_time": 37.16042813,
             "remaining_time": 4.128936459,
             "test": [
              0.0338602376
             ]
            },
            {
             "iteration": 90,
             "learn": [
              0.03281929221
             ],
             "passed_time": 37.53164442,
             "remaining_time": 3.711920876,
             "test": [
              0.03284293669
             ]
            },
            {
             "iteration": 91,
             "learn": [
              0.03182868451
             ],
             "passed_time": 37.96225154,
             "remaining_time": 3.301065352,
             "test": [
              0.03185715145
             ]
            },
            {
             "iteration": 92,
             "learn": [
              0.03085151469
             ],
             "passed_time": 38.38049682,
             "remaining_time": 2.8888546,
             "test": [
              0.03090112323
             ]
            },
            {
             "iteration": 93,
             "learn": [
              0.02990729721
             ],
             "passed_time": 38.84828776,
             "remaining_time": 2.479677942,
             "test": [
              0.02997466472
             ]
            },
            {
             "iteration": 94,
             "learn": [
              0.02897141456
             ],
             "passed_time": 39.30559858,
             "remaining_time": 2.068715715,
             "test": [
              0.02907639468
             ]
            },
            {
             "iteration": 95,
             "learn": [
              0.02823820284
             ],
             "passed_time": 39.75354165,
             "remaining_time": 1.656397569,
             "test": [
              0.02820522806
             ]
            },
            {
             "iteration": 96,
             "learn": [
              0.02735216957
             ],
             "passed_time": 40.17763547,
             "remaining_time": 1.242607283,
             "test": [
              0.0273606036
             ]
            },
            {
             "iteration": 97,
             "learn": [
              0.02642969611
             ],
             "passed_time": 40.60376463,
             "remaining_time": 0.8286482577,
             "test": [
              0.02654145906
             ]
            },
            {
             "iteration": 98,
             "learn": [
              0.02577639244
             ],
             "passed_time": 40.96909494,
             "remaining_time": 0.4138292419,
             "test": [
              0.0257471236
             ]
            },
            {
             "iteration": 99,
             "learn": [
              0.02492078536
             ],
             "passed_time": 41.33649207,
             "remaining_time": 0,
             "test": [
              0.02497672494
             ]
            }
           ],
           "meta": {
            "iteration_count": 100,
            "launch_mode": "Train",
            "learn_metrics": [
             {
              "best_value": "Min",
              "name": "CrossEntropy"
             }
            ],
            "learn_sets": [
             "learn"
            ],
            "name": "experiment",
            "parameters": "",
            "test_metrics": [
             {
              "best_value": "Min",
              "name": "CrossEntropy"
             }
            ],
            "test_sets": [
             "test"
            ]
           }
          },
          "passed_iterations": 99,
          "total_iterations": 100
         },
         "name": "catboost_info",
         "path": "catboost_info"
        }
       },
       "layout": "IPY_MODEL_db1d501c430946c49e933f05cee5f552"
      }
     },
     "4bc291952e694212add22392b6b6936f": {
      "model_module": "@jupyter-widgets/base",
      "model_module_version": "1.2.0",
      "model_name": "LayoutModel",
      "state": {
       "_model_module": "@jupyter-widgets/base",
       "_model_module_version": "1.2.0",
       "_model_name": "LayoutModel",
       "_view_count": null,
       "_view_module": "@jupyter-widgets/base",
       "_view_module_version": "1.2.0",
       "_view_name": "LayoutView",
       "align_content": null,
       "align_items": null,
       "align_self": "stretch",
       "border": null,
       "bottom": null,
       "display": null,
       "flex": null,
       "flex_flow": null,
       "grid_area": null,
       "grid_auto_columns": null,
       "grid_auto_flow": null,
       "grid_auto_rows": null,
       "grid_column": null,
       "grid_gap": null,
       "grid_row": null,
       "grid_template_areas": null,
       "grid_template_columns": null,
       "grid_template_rows": null,
       "height": "500px",
       "justify_content": null,
       "justify_items": null,
       "left": null,
       "margin": null,
       "max_height": null,
       "max_width": null,
       "min_height": null,
       "min_width": null,
       "object_fit": null,
       "object_position": null,
       "order": null,
       "overflow": null,
       "overflow_x": null,
       "overflow_y": null,
       "padding": null,
       "right": null,
       "top": null,
       "visibility": null,
       "width": null
      }
     },
     "4d3c6a089eed4d678fb5083ebbf57196": {
      "model_module": "catboost-widget",
      "model_module_version": "^1.0.0",
      "model_name": "CatboostWidgetModel",
      "state": {
       "_dom_classes": [],
       "_model_module": "catboost-widget",
       "_model_module_version": "^1.0.0",
       "_model_name": "CatboostWidgetModel",
       "_view_count": null,
       "_view_module": "catboost-widget",
       "_view_module_version": "^1.0.0",
       "_view_name": "CatboostWidgetView",
       "data": {
        "catboost_info": {
         "content": {
          "data": {
           "iterations": [
            {
             "iteration": 0,
             "learn": [
              0.6748655791
             ],
             "passed_time": 0.4586334432,
             "remaining_time": 45.40471088,
             "test": [
              0.6757069778
             ]
            },
            {
             "iteration": 1,
             "learn": [
              0.6586334266
             ],
             "passed_time": 0.8891665831,
             "remaining_time": 43.56916257,
             "test": [
              0.6592590052
             ]
            },
            {
             "iteration": 2,
             "learn": [
              0.6411288952
             ],
             "passed_time": 1.318823456,
             "remaining_time": 42.64195842,
             "test": [
              0.6436830965
             ]
            },
            {
             "iteration": 3,
             "learn": [
              0.6257726737
             ],
             "passed_time": 1.748506864,
             "remaining_time": 41.96416475,
             "test": [
              0.6290346273
             ]
            },
            {
             "iteration": 4,
             "learn": [
              0.6110680692
             ],
             "passed_time": 2.175801392,
             "remaining_time": 41.34022645,
             "test": [
              0.6151889145
             ]
            },
            {
             "iteration": 5,
             "learn": [
              0.5972122115
             ],
             "passed_time": 2.608649,
             "remaining_time": 40.86883433,
             "test": [
              0.6020477234
             ]
            },
            {
             "iteration": 6,
             "learn": [
              0.5831405965
             ],
             "passed_time": 3.015154505,
             "remaining_time": 40.05848128,
             "test": [
              0.5892286744
             ]
            },
            {
             "iteration": 7,
             "learn": [
              0.5713854132
             ],
             "passed_time": 3.441025542,
             "remaining_time": 39.57179374,
             "test": [
              0.576930311
             ]
            },
            {
             "iteration": 8,
             "learn": [
              0.5588177524
             ],
             "passed_time": 3.833984741,
             "remaining_time": 38.76584571,
             "test": [
              0.5648304685
             ]
            },
            {
             "iteration": 9,
             "learn": [
              0.5471819667
             ],
             "passed_time": 4.241012609,
             "remaining_time": 38.16911348,
             "test": [
              0.5539043094
             ]
            },
            {
             "iteration": 10,
             "learn": [
              0.5360414767
             ],
             "passed_time": 4.620124072,
             "remaining_time": 37.38100385,
             "test": [
              0.5428022365
             ]
            },
            {
             "iteration": 11,
             "learn": [
              0.5256562746
             ],
             "passed_time": 5.048897081,
             "remaining_time": 37.02524526,
             "test": [
              0.5329290373
             ]
            },
            {
             "iteration": 12,
             "learn": [
              0.5158406344
             ],
             "passed_time": 5.445082231,
             "remaining_time": 36.4401657,
             "test": [
              0.523309193
             ]
            },
            {
             "iteration": 13,
             "learn": [
              0.5064142248
             ],
             "passed_time": 5.816814805,
             "remaining_time": 35.73186238,
             "test": [
              0.5138039953
             ]
            },
            {
             "iteration": 14,
             "learn": [
              0.4970339308
             ],
             "passed_time": 6.253357056,
             "remaining_time": 35.43568998,
             "test": [
              0.504167168
             ]
            },
            {
             "iteration": 15,
             "learn": [
              0.4868100637
             ],
             "passed_time": 6.667995709,
             "remaining_time": 35.00697747,
             "test": [
              0.4943751106
             ]
            },
            {
             "iteration": 16,
             "learn": [
              0.4779007685
             ],
             "passed_time": 7.086008594,
             "remaining_time": 34.5963949,
             "test": [
              0.4857799842
             ]
            },
            {
             "iteration": 17,
             "learn": [
              0.4698235155
             ],
             "passed_time": 7.461343849,
             "remaining_time": 33.99056642,
             "test": [
              0.4777043285
             ]
            },
            {
             "iteration": 18,
             "learn": [
              0.4611589472
             ],
             "passed_time": 7.882030375,
             "remaining_time": 33.60234002,
             "test": [
              0.4698480071
             ]
            },
            {
             "iteration": 19,
             "learn": [
              0.4539488798
             ],
             "passed_time": 8.284256887,
             "remaining_time": 33.13702755,
             "test": [
              0.4620843312
             ]
            },
            {
             "iteration": 20,
             "learn": [
              0.4455104829
             ],
             "passed_time": 8.661464392,
             "remaining_time": 32.58360414,
             "test": [
              0.4542896143
             ]
            },
            {
             "iteration": 21,
             "learn": [
              0.438755196
             ],
             "passed_time": 9.090513273,
             "remaining_time": 32.2300016,
             "test": [
              0.4477876226
             ]
            },
            {
             "iteration": 22,
             "learn": [
              0.4318884201
             ],
             "passed_time": 9.46934508,
             "remaining_time": 31.70172049,
             "test": [
              0.4407968465
             ]
            },
            {
             "iteration": 23,
             "learn": [
              0.4248936313
             ],
             "passed_time": 9.880239697,
             "remaining_time": 31.28742571,
             "test": [
              0.4340852408
             ]
            },
            {
             "iteration": 24,
             "learn": [
              0.4180923889
             ],
             "passed_time": 10.2431646,
             "remaining_time": 30.7294938,
             "test": [
              0.4272720255
             ]
            },
            {
             "iteration": 25,
             "learn": [
              0.4110476664
             ],
             "passed_time": 10.64954518,
             "remaining_time": 30.31024397,
             "test": [
              0.4204991591
             ]
            },
            {
             "iteration": 26,
             "learn": [
              0.4028339453
             ],
             "passed_time": 11.18939625,
             "remaining_time": 30.25281208,
             "test": [
              0.4124972392
             ]
            },
            {
             "iteration": 27,
             "learn": [
              0.3956759924
             ],
             "passed_time": 11.75620214,
             "remaining_time": 30.23023407,
             "test": [
              0.4049129504
             ]
            },
            {
             "iteration": 28,
             "learn": [
              0.388713492
             ],
             "passed_time": 12.26779408,
             "remaining_time": 30.03494412,
             "test": [
              0.397971604
             ]
            },
            {
             "iteration": 29,
             "learn": [
              0.3835494849
             ],
             "passed_time": 12.63758325,
             "remaining_time": 29.48769426,
             "test": [
              0.393124815
             ]
            },
            {
             "iteration": 30,
             "learn": [
              0.3775330778
             ],
             "passed_time": 13.0180889,
             "remaining_time": 28.97574625,
             "test": [
              0.3872971647
             ]
            },
            {
             "iteration": 31,
             "learn": [
              0.3721699657
             ],
             "passed_time": 13.38935122,
             "remaining_time": 28.45237135,
             "test": [
              0.3821852137
             ]
            },
            {
             "iteration": 32,
             "learn": [
              0.3647126747
             ],
             "passed_time": 13.79649174,
             "remaining_time": 28.01105899,
             "test": [
              0.3753072616
             ]
            },
            {
             "iteration": 33,
             "learn": [
              0.3575599156
             ],
             "passed_time": 14.20061992,
             "remaining_time": 27.56590926,
             "test": [
              0.3688229893
             ]
            },
            {
             "iteration": 34,
             "learn": [
              0.3508648686
             ],
             "passed_time": 14.64796073,
             "remaining_time": 27.20335565,
             "test": [
              0.3624973825
             ]
            },
            {
             "iteration": 35,
             "learn": [
              0.3457995727
             ],
             "passed_time": 15.0878222,
             "remaining_time": 26.82279502,
             "test": [
              0.3573502701
             ]
            },
            {
             "iteration": 36,
             "learn": [
              0.3406013359
             ],
             "passed_time": 15.48399442,
             "remaining_time": 26.36463915,
             "test": [
              0.3518561967
             ]
            },
            {
             "iteration": 37,
             "learn": [
              0.3360155467
             ],
             "passed_time": 15.92353977,
             "remaining_time": 25.98051225,
             "test": [
              0.3471753581
             ]
            },
            {
             "iteration": 38,
             "learn": [
              0.3306018306
             ],
             "passed_time": 16.38890157,
             "remaining_time": 25.63392297,
             "test": [
              0.3415640544
             ]
            },
            {
             "iteration": 39,
             "learn": [
              0.3256986974
             ],
             "passed_time": 16.7784803,
             "remaining_time": 25.16772046,
             "test": [
              0.3366937035
             ]
            },
            {
             "iteration": 40,
             "learn": [
              0.3213843355
             ],
             "passed_time": 17.21791067,
             "remaining_time": 24.7769934,
             "test": [
              0.3325260239
             ]
            },
            {
             "iteration": 41,
             "learn": [
              0.3169617161
             ],
             "passed_time": 17.66269537,
             "remaining_time": 24.39134123,
             "test": [
              0.3282052328
             ]
            },
            {
             "iteration": 42,
             "learn": [
              0.3126860625
             ],
             "passed_time": 18.12762908,
             "remaining_time": 24.02964786,
             "test": [
              0.3239760281
             ]
            },
            {
             "iteration": 43,
             "learn": [
              0.3088821061
             ],
             "passed_time": 18.55224577,
             "remaining_time": 23.61194916,
             "test": [
              0.3201472653
             ]
            },
            {
             "iteration": 44,
             "learn": [
              0.3038792367
             ],
             "passed_time": 18.97613511,
             "remaining_time": 23.19305403,
             "test": [
              0.3154847868
             ]
            },
            {
             "iteration": 45,
             "learn": [
              0.3001808
             ],
             "passed_time": 19.39274937,
             "remaining_time": 22.76540143,
             "test": [
              0.3118589479
             ]
            },
            {
             "iteration": 46,
             "learn": [
              0.2952558746
             ],
             "passed_time": 19.8001976,
             "remaining_time": 22.3278824,
             "test": [
              0.3070597034
             ]
            },
            {
             "iteration": 47,
             "learn": [
              0.2903027839
             ],
             "passed_time": 20.20475928,
             "remaining_time": 21.88848922,
             "test": [
              0.302156153
             ]
            },
            {
             "iteration": 48,
             "learn": [
              0.2857602269
             ],
             "passed_time": 20.61246724,
             "remaining_time": 21.45379243,
             "test": [
              0.2974815682
             ]
            },
            {
             "iteration": 49,
             "learn": [
              0.2813541947
             ],
             "passed_time": 21.01914507,
             "remaining_time": 21.01914507,
             "test": [
              0.293289542
             ]
            },
            {
             "iteration": 50,
             "learn": [
              0.2773820085
             ],
             "passed_time": 21.47760222,
             "remaining_time": 20.63534331,
             "test": [
              0.2891445971
             ]
            },
            {
             "iteration": 51,
             "learn": [
              0.2739267341
             ],
             "passed_time": 21.90503772,
             "remaining_time": 20.22003482,
             "test": [
              0.2857312688
             ]
            },
            {
             "iteration": 52,
             "learn": [
              0.2709279356
             ],
             "passed_time": 22.29922469,
             "remaining_time": 19.77478416,
             "test": [
              0.2828970184
             ]
            },
            {
             "iteration": 53,
             "learn": [
              0.2668622099
             ],
             "passed_time": 22.71251219,
             "remaining_time": 19.34769557,
             "test": [
              0.2791218925
             ]
            },
            {
             "iteration": 54,
             "learn": [
              0.2633006187
             ],
             "passed_time": 23.16997954,
             "remaining_time": 18.95725599,
             "test": [
              0.275382435
             ]
            },
            {
             "iteration": 55,
             "learn": [
              0.2600225808
             ],
             "passed_time": 23.52870015,
             "remaining_time": 18.48683583,
             "test": [
              0.2724952823
             ]
            },
            {
             "iteration": 56,
             "learn": [
              0.2563777312
             ],
             "passed_time": 23.94664086,
             "remaining_time": 18.06500977,
             "test": [
              0.2690973676
             ]
            },
            {
             "iteration": 57,
             "learn": [
              0.2527561295
             ],
             "passed_time": 24.35287465,
             "remaining_time": 17.63484026,
             "test": [
              0.2653587253
             ]
            },
            {
             "iteration": 58,
             "learn": [
              0.2497503426
             ],
             "passed_time": 24.79132723,
             "remaining_time": 17.22787146,
             "test": [
              0.2623998471
             ]
            },
            {
             "iteration": 59,
             "learn": [
              0.2465494462
             ],
             "passed_time": 25.20559687,
             "remaining_time": 16.80373125,
             "test": [
              0.2591303815
             ]
            },
            {
             "iteration": 60,
             "learn": [
              0.2434940346
             ],
             "passed_time": 25.67965664,
             "remaining_time": 16.41814113,
             "test": [
              0.2560180444
             ]
            },
            {
             "iteration": 61,
             "learn": [
              0.2408057791
             ],
             "passed_time": 26.09910984,
             "remaining_time": 15.99622861,
             "test": [
              0.2532426127
             ]
            },
            {
             "iteration": 62,
             "learn": [
              0.2379535853
             ],
             "passed_time": 26.52406464,
             "remaining_time": 15.57762526,
             "test": [
              0.2502713702
             ]
            },
            {
             "iteration": 63,
             "learn": [
              0.2352285037
             ],
             "passed_time": 26.96202958,
             "remaining_time": 15.16614164,
             "test": [
              0.2475810242
             ]
            },
            {
             "iteration": 64,
             "learn": [
              0.2325331748
             ],
             "passed_time": 27.38330561,
             "remaining_time": 14.74485687,
             "test": [
              0.2447088859
             ]
            },
            {
             "iteration": 65,
             "learn": [
              0.230182134
             ],
             "passed_time": 27.80550759,
             "remaining_time": 14.32404937,
             "test": [
              0.2422850507
             ]
            },
            {
             "iteration": 66,
             "learn": [
              0.227450691
             ],
             "passed_time": 28.21987598,
             "remaining_time": 13.8993419,
             "test": [
              0.2395068611
             ]
            },
            {
             "iteration": 67,
             "learn": [
              0.2247929225
             ],
             "passed_time": 28.64725603,
             "remaining_time": 13.48106166,
             "test": [
              0.2368012187
             ]
            },
            {
             "iteration": 68,
             "learn": [
              0.2221780715
             ],
             "passed_time": 29.08333491,
             "remaining_time": 13.06642583,
             "test": [
              0.2342002025
             ]
            },
            {
             "iteration": 69,
             "learn": [
              0.2199924707
             ],
             "passed_time": 29.50854189,
             "remaining_time": 12.64651795,
             "test": [
              0.2324500326
             ]
            },
            {
             "iteration": 70,
             "learn": [
              0.2176485801
             ],
             "passed_time": 29.9310255,
             "remaining_time": 12.22534844,
             "test": [
              0.2299682632
             ]
            },
            {
             "iteration": 71,
             "learn": [
              0.2151482598
             ],
             "passed_time": 30.36322343,
             "remaining_time": 11.80792022,
             "test": [
              0.2274560526
             ]
            },
            {
             "iteration": 72,
             "learn": [
              0.2132550545
             ],
             "passed_time": 30.76296008,
             "remaining_time": 11.37808112,
             "test": [
              0.2257622863
             ]
            },
            {
             "iteration": 73,
             "learn": [
              0.2112154364
             ],
             "passed_time": 31.23617791,
             "remaining_time": 10.97487332,
             "test": [
              0.2237608279
             ]
            },
            {
             "iteration": 74,
             "learn": [
              0.208569283
             ],
             "passed_time": 31.64933545,
             "remaining_time": 10.54977848,
             "test": [
              0.2208796775
             ]
            },
            {
             "iteration": 75,
             "learn": [
              0.2064437866
             ],
             "passed_time": 32.07486159,
             "remaining_time": 10.12890366,
             "test": [
              0.2186116653
             ]
            },
            {
             "iteration": 76,
             "learn": [
              0.2043955137
             ],
             "passed_time": 32.50702576,
             "remaining_time": 9.709890812,
             "test": [
              0.2167409657
             ]
            },
            {
             "iteration": 77,
             "learn": [
              0.2023839183
             ],
             "passed_time": 32.93396869,
             "remaining_time": 9.289068091,
             "test": [
              0.2145806339
             ]
            },
            {
             "iteration": 78,
             "learn": [
              0.2001786034
             ],
             "passed_time": 33.32957974,
             "remaining_time": 8.859761704,
             "test": [
              0.2122104478
             ]
            },
            {
             "iteration": 79,
             "learn": [
              0.198011667
             ],
             "passed_time": 33.77404915,
             "remaining_time": 8.443512288,
             "test": [
              0.2100531628
             ]
            },
            {
             "iteration": 80,
             "learn": [
              0.1956327626
             ],
             "passed_time": 34.22880162,
             "remaining_time": 8.028978158,
             "test": [
              0.2076130203
             ]
            },
            {
             "iteration": 81,
             "learn": [
              0.1942553369
             ],
             "passed_time": 34.52500155,
             "remaining_time": 7.578658876,
             "test": [
              0.2064009539
             ]
            },
            {
             "iteration": 82,
             "learn": [
              0.1921972722
             ],
             "passed_time": 34.94455903,
             "remaining_time": 7.157319319,
             "test": [
              0.2043194047
             ]
            },
            {
             "iteration": 83,
             "learn": [
              0.1901919227
             ],
             "passed_time": 35.33895007,
             "remaining_time": 6.731228585,
             "test": [
              0.2022710039
             ]
            },
            {
             "iteration": 84,
             "learn": [
              0.1882106328
             ],
             "passed_time": 35.81306257,
             "remaining_time": 6.319952219,
             "test": [
              0.2002324794
             ]
            },
            {
             "iteration": 85,
             "learn": [
              0.1860671731
             ],
             "passed_time": 36.26916651,
             "remaining_time": 5.904282921,
             "test": [
              0.1980356487
             ]
            },
            {
             "iteration": 86,
             "learn": [
              0.1843790974
             ],
             "passed_time": 36.68139205,
             "remaining_time": 5.481127548,
             "test": [
              0.1963642306
             ]
            },
            {
             "iteration": 87,
             "learn": [
              0.1823540205
             ],
             "passed_time": 37.13989763,
             "remaining_time": 5.064531495,
             "test": [
              0.1942972642
             ]
            },
            {
             "iteration": 88,
             "learn": [
              0.1807766017
             ],
             "passed_time": 37.55805478,
             "remaining_time": 4.64200677,
             "test": [
              0.1924404501
             ]
            },
            {
             "iteration": 89,
             "learn": [
              0.1794890744
             ],
             "passed_time": 37.93522677,
             "remaining_time": 4.215025197,
             "test": [
              0.1913266635
             ]
            },
            {
             "iteration": 90,
             "learn": [
              0.1774360258
             ],
             "passed_time": 38.34472011,
             "remaining_time": 3.792334956,
             "test": [
              0.189087884
             ]
            },
            {
             "iteration": 91,
             "learn": [
              0.1756111407
             ],
             "passed_time": 38.80393604,
             "remaining_time": 3.374255308,
             "test": [
              0.1870846938
             ]
            },
            {
             "iteration": 92,
             "learn": [
              0.1739116582
             ],
             "passed_time": 39.21799857,
             "remaining_time": 2.951892366,
             "test": [
              0.1853552436
             ]
            },
            {
             "iteration": 93,
             "learn": [
              0.1725228954
             ],
             "passed_time": 39.58354647,
             "remaining_time": 2.526609349,
             "test": [
              0.1838719993
             ]
            },
            {
             "iteration": 94,
             "learn": [
              0.1709067424
             ],
             "passed_time": 39.9777928,
             "remaining_time": 2.104094358,
             "test": [
              0.1821854803
             ]
            },
            {
             "iteration": 95,
             "learn": [
              0.1696250048
             ],
             "passed_time": 40.36686156,
             "remaining_time": 1.681952565,
             "test": [
              0.1807922407
             ]
            },
            {
             "iteration": 96,
             "learn": [
              0.1685787791
             ],
             "passed_time": 40.70748334,
             "remaining_time": 1.25899433,
             "test": [
              0.1797518169
             ]
            },
            {
             "iteration": 97,
             "learn": [
              0.1664624943
             ],
             "passed_time": 41.20176493,
             "remaining_time": 0.8408523455,
             "test": [
              0.1776055696
             ]
            },
            {
             "iteration": 98,
             "learn": [
              0.165189891
             ],
             "passed_time": 41.61083643,
             "remaining_time": 0.4203114791,
             "test": [
              0.1765237204
             ]
            },
            {
             "iteration": 99,
             "learn": [
              0.1636582929
             ],
             "passed_time": 42.02062481,
             "remaining_time": 0,
             "test": [
              0.1746970837
             ]
            }
           ],
           "meta": {
            "iteration_count": 100,
            "launch_mode": "Train",
            "learn_metrics": [
             {
              "best_value": "Min",
              "name": "CrossEntropy"
             }
            ],
            "learn_sets": [
             "learn"
            ],
            "name": "experiment",
            "parameters": "",
            "test_metrics": [
             {
              "best_value": "Min",
              "name": "CrossEntropy"
             }
            ],
            "test_sets": [
             "test"
            ]
           }
          },
          "passed_iterations": 99,
          "total_iterations": 100
         },
         "name": "catboost_info",
         "path": "catboost_info"
        }
       },
       "layout": "IPY_MODEL_b615ab1947df4afdbdd96f84edfebeba"
      }
     },
     "544e21143bb84fb6aa19c5fe855c5c38": {
      "model_module": "@jupyter-widgets/base",
      "model_module_version": "1.2.0",
      "model_name": "LayoutModel",
      "state": {
       "_model_module": "@jupyter-widgets/base",
       "_model_module_version": "1.2.0",
       "_model_name": "LayoutModel",
       "_view_count": null,
       "_view_module": "@jupyter-widgets/base",
       "_view_module_version": "1.2.0",
       "_view_name": "LayoutView",
       "align_content": null,
       "align_items": null,
       "align_self": "stretch",
       "border": null,
       "bottom": null,
       "display": null,
       "flex": null,
       "flex_flow": null,
       "grid_area": null,
       "grid_auto_columns": null,
       "grid_auto_flow": null,
       "grid_auto_rows": null,
       "grid_column": null,
       "grid_gap": null,
       "grid_row": null,
       "grid_template_areas": null,
       "grid_template_columns": null,
       "grid_template_rows": null,
       "height": "500px",
       "justify_content": null,
       "justify_items": null,
       "left": null,
       "margin": null,
       "max_height": null,
       "max_width": null,
       "min_height": null,
       "min_width": null,
       "object_fit": null,
       "object_position": null,
       "order": null,
       "overflow": null,
       "overflow_x": null,
       "overflow_y": null,
       "padding": null,
       "right": null,
       "top": null,
       "visibility": null,
       "width": null
      }
     },
     "5abce979b85e473b801dcb5a1401887e": {
      "model_module": "catboost-widget",
      "model_module_version": "^1.0.0",
      "model_name": "CatboostWidgetModel",
      "state": {
       "_dom_classes": [],
       "_model_module": "catboost-widget",
       "_model_module_version": "^1.0.0",
       "_model_name": "CatboostWidgetModel",
       "_view_count": null,
       "_view_module": "catboost-widget",
       "_view_module_version": "^1.0.0",
       "_view_name": "CatboostWidgetView",
       "data": {
        "catboost_info": {
         "content": {
          "data": {
           "iterations": [
            {
             "iteration": 0,
             "learn": [
              0.6613845701
             ],
             "passed_time": 0.5963168193,
             "remaining_time": 59.03536511,
             "test": [
              0.6636030088
             ]
            },
            {
             "iteration": 1,
             "learn": [
              0.6363120507
             ],
             "passed_time": 0.9568134027,
             "remaining_time": 46.88385673,
             "test": [
              0.6357808145
             ]
            },
            {
             "iteration": 2,
             "learn": [
              0.6093889851
             ],
             "passed_time": 1.37946378,
             "remaining_time": 44.60266221,
             "test": [
              0.6095318369
             ]
            },
            {
             "iteration": 3,
             "learn": [
              0.5837330857
             ],
             "passed_time": 1.729837844,
             "remaining_time": 41.51610825,
             "test": [
              0.5847282711
             ]
            },
            {
             "iteration": 4,
             "learn": [
              0.5622124909
             ],
             "passed_time": 2.184752144,
             "remaining_time": 41.51029073,
             "test": [
              0.5612552431
             ]
            },
            {
             "iteration": 5,
             "learn": [
              0.5377785715
             ],
             "passed_time": 2.604327794,
             "remaining_time": 40.80113544,
             "test": [
              0.5390124764
             ]
            },
            {
             "iteration": 6,
             "learn": [
              0.5169111209
             ],
             "passed_time": 3.043952564,
             "remaining_time": 40.44108406,
             "test": [
              0.517906766
             ]
            },
            {
             "iteration": 7,
             "learn": [
              0.4987252485
             ],
             "passed_time": 3.434998942,
             "remaining_time": 39.50248784,
             "test": [
              0.4978606925
             ]
            },
            {
             "iteration": 8,
             "learn": [
              0.4785614002
             ],
             "passed_time": 3.796471395,
             "remaining_time": 38.3865441,
             "test": [
              0.4787982513
             ]
            },
            {
             "iteration": 9,
             "learn": [
              0.4606138147
             ],
             "passed_time": 4.172002481,
             "remaining_time": 37.54802233,
             "test": [
              0.4606542112
             ]
            },
            {
             "iteration": 10,
             "learn": [
              0.4439404786
             ],
             "passed_time": 4.550926494,
             "remaining_time": 36.82113254,
             "test": [
              0.4433684167
             ]
            },
            {
             "iteration": 11,
             "learn": [
              0.4280918097
             ],
             "passed_time": 4.926224413,
             "remaining_time": 36.12564569,
             "test": [
              0.4268839659
             ]
            },
            {
             "iteration": 12,
             "learn": [
              0.4122241525
             ],
             "passed_time": 5.315441479,
             "remaining_time": 35.5725699,
             "test": [
              0.4111556112
             ]
            },
            {
             "iteration": 13,
             "learn": [
              0.3968278812
             ],
             "passed_time": 5.746262073,
             "remaining_time": 35.29846702,
             "test": [
              0.3961426243
             ]
            },
            {
             "iteration": 14,
             "learn": [
              0.3824623709
             ],
             "passed_time": 6.161209433,
             "remaining_time": 34.91352012,
             "test": [
              0.3817827668
             ]
            },
            {
             "iteration": 15,
             "learn": [
              0.3673968056
             ],
             "passed_time": 6.664126263,
             "remaining_time": 34.98666288,
             "test": [
              0.3680490474
             ]
            },
            {
             "iteration": 16,
             "learn": [
              0.3539481865
             ],
             "passed_time": 7.107630723,
             "remaining_time": 34.70196176,
             "test": [
              0.3549057582
             ]
            },
            {
             "iteration": 17,
             "learn": [
              0.343240476
             ],
             "passed_time": 7.448366795,
             "remaining_time": 33.93144873,
             "test": [
              0.3423188092
             ]
            },
            {
             "iteration": 18,
             "learn": [
              0.330146931
             ],
             "passed_time": 7.879636399,
             "remaining_time": 33.59213412,
             "test": [
              0.3302569998
             ]
            },
            {
             "iteration": 19,
             "learn": [
              0.3197410093
             ],
             "passed_time": 8.329581549,
             "remaining_time": 33.31832619,
             "test": [
              0.3186994677
             ]
            },
            {
             "iteration": 20,
             "learn": [
              0.3070690258
             ],
             "passed_time": 8.77287514,
             "remaining_time": 33.00272077,
             "test": [
              0.3076114885
             ]
            },
            {
             "iteration": 21,
             "learn": [
              0.2969495609
             ],
             "passed_time": 9.135392909,
             "remaining_time": 32.38912031,
             "test": [
              0.2969720739
             ]
            },
            {
             "iteration": 22,
             "learn": [
              0.2868595322
             ],
             "passed_time": 9.548053001,
             "remaining_time": 31.96522092,
             "test": [
              0.2867580108
             ]
            },
            {
             "iteration": 23,
             "learn": [
              0.2765856954
             ],
             "passed_time": 10.0064554,
             "remaining_time": 31.68710875,
             "test": [
              0.2769473536
             ]
            },
            {
             "iteration": 24,
             "learn": [
              0.2666517504
             ],
             "passed_time": 10.40095448,
             "remaining_time": 31.20286343,
             "test": [
              0.2675187875
             ]
            },
            {
             "iteration": 25,
             "learn": [
              0.258053455
             ],
             "passed_time": 10.77209771,
             "remaining_time": 30.65904732,
             "test": [
              0.2584557074
             ]
            },
            {
             "iteration": 26,
             "learn": [
              0.2500346225
             ],
             "passed_time": 11.16363754,
             "remaining_time": 30.18316816,
             "test": [
              0.2497423261
             ]
            },
            {
             "iteration": 27,
             "learn": [
              0.2420468428
             ],
             "passed_time": 11.53407437,
             "remaining_time": 29.65904839,
             "test": [
              0.2413614192
             ]
            },
            {
             "iteration": 28,
             "learn": [
              0.233778957
             ],
             "passed_time": 11.99198644,
             "remaining_time": 29.35969094,
             "test": [
              0.2332987581
             ]
            },
            {
             "iteration": 29,
             "learn": [
              0.2259571513
             ],
             "passed_time": 12.46225545,
             "remaining_time": 29.07859606,
             "test": [
              0.2255378486
             ]
            },
            {
             "iteration": 30,
             "learn": [
              0.2186109661
             ],
             "passed_time": 12.94215229,
             "remaining_time": 28.80672607,
             "test": [
              0.2180642686
             ]
            },
            {
             "iteration": 31,
             "learn": [
              0.2110164499
             ],
             "passed_time": 13.31151529,
             "remaining_time": 28.28697,
             "test": [
              0.2108669142
             ]
            },
            {
             "iteration": 32,
             "learn": [
              0.2034517573
             ],
             "passed_time": 13.79414814,
             "remaining_time": 28.00630077,
             "test": [
              0.2039322489
             ]
            },
            {
             "iteration": 33,
             "learn": [
              0.1966542236
             ],
             "passed_time": 14.22481209,
             "remaining_time": 27.61287053,
             "test": [
              0.1972485576
             ]
            },
            {
             "iteration": 34,
             "learn": [
              0.1912743336
             ],
             "passed_time": 14.66446665,
             "remaining_time": 27.23400949,
             "test": [
              0.1908097867
             ]
            },
            {
             "iteration": 35,
             "learn": [
              0.1840729983
             ],
             "passed_time": 15.02571027,
             "remaining_time": 26.71237382,
             "test": [
              0.1846002613
             ]
            },
            {
             "iteration": 36,
             "learn": [
              0.1788804271
             ],
             "passed_time": 15.41615171,
             "remaining_time": 26.24912319,
             "test": [
              0.1786115431
             ]
            },
            {
             "iteration": 37,
             "learn": [
              0.1723291996
             ],
             "passed_time": 15.78672233,
             "remaining_time": 25.75728379,
             "test": [
              0.1728380727
             ]
            },
            {
             "iteration": 38,
             "learn": [
              0.1677646084
             ],
             "passed_time": 16.21612948,
             "remaining_time": 25.3636897,
             "test": [
              0.1672644423
             ]
            },
            {
             "iteration": 39,
             "learn": [
              0.1615354297
             ],
             "passed_time": 16.60271702,
             "remaining_time": 24.90407553,
             "test": [
              0.1618864568
             ]
            },
            {
             "iteration": 40,
             "learn": [
              0.1564371337
             ],
             "passed_time": 17.06729523,
             "remaining_time": 24.56025411,
             "test": [
              0.1566973424
             ]
            },
            {
             "iteration": 41,
             "learn": [
              0.152121023
             ],
             "passed_time": 17.48405458,
             "remaining_time": 24.1446468,
             "test": [
              0.1516868048
             ]
            },
            {
             "iteration": 42,
             "learn": [
              0.1471136496
             ],
             "passed_time": 17.9255512,
             "remaining_time": 23.76177718,
             "test": [
              0.1468482179
             ]
            },
            {
             "iteration": 43,
             "learn": [
              0.141996421
             ],
             "passed_time": 18.52094768,
             "remaining_time": 23.57211523,
             "test": [
              0.142176938
             ]
            },
            {
             "iteration": 44,
             "learn": [
              0.1372504677
             ],
             "passed_time": 19.12812058,
             "remaining_time": 23.37881404,
             "test": [
              0.137664598
             ]
            },
            {
             "iteration": 45,
             "learn": [
              0.1330221422
             ],
             "passed_time": 19.65367579,
             "remaining_time": 23.07170636,
             "test": [
              0.133303445
             ]
            },
            {
             "iteration": 46,
             "learn": [
              0.1290213091
             ],
             "passed_time": 20.01075414,
             "remaining_time": 22.56531849,
             "test": [
              0.1290920804
             ]
            },
            {
             "iteration": 47,
             "learn": [
              0.1250896255
             ],
             "passed_time": 20.49661251,
             "remaining_time": 22.20466355,
             "test": [
              0.1250206547
             ]
            },
            {
             "iteration": 48,
             "learn": [
              0.1211796163
             ],
             "passed_time": 20.92344385,
             "remaining_time": 21.77746197,
             "test": [
              0.1210886148
             ]
            },
            {
             "iteration": 49,
             "learn": [
              0.1172928258
             ],
             "passed_time": 21.23971101,
             "remaining_time": 21.23971101,
             "test": [
              0.1172864389
             ]
            },
            {
             "iteration": 50,
             "learn": [
              0.113435425
             ],
             "passed_time": 21.64445176,
             "remaining_time": 20.79564973,
             "test": [
              0.1136129795
             ]
            },
            {
             "iteration": 51,
             "learn": [
              0.1098599547
             ],
             "passed_time": 22.05919822,
             "remaining_time": 20.36233682,
             "test": [
              0.1100577255
             ]
            },
            {
             "iteration": 52,
             "learn": [
              0.1070277165
             ],
             "passed_time": 22.39429425,
             "remaining_time": 19.85909112,
             "test": [
              0.1066227684
             ]
            },
            {
             "iteration": 53,
             "learn": [
              0.1035082045
             ],
             "passed_time": 22.73930827,
             "remaining_time": 19.37052186,
             "test": [
              0.1033002726
             ]
            },
            {
             "iteration": 54,
             "learn": [
              0.09984926219
             ],
             "passed_time": 23.18626838,
             "remaining_time": 18.97058322,
             "test": [
              0.1000868713
             ]
            },
            {
             "iteration": 55,
             "learn": [
              0.09724171713
             ],
             "passed_time": 23.61792438,
             "remaining_time": 18.55694059,
             "test": [
              0.09697715058
             ]
            },
            {
             "iteration": 56,
             "learn": [
              0.09386855496
             ],
             "passed_time": 24.04009601,
             "remaining_time": 18.13551103,
             "test": [
              0.09397045309
             ]
            },
            {
             "iteration": 57,
             "learn": [
              0.09132629861
             ],
             "passed_time": 24.4421291,
             "remaining_time": 17.6994728,
             "test": [
              0.09106780401
             ]
            },
            {
             "iteration": 58,
             "learn": [
              0.08806084003
             ],
             "passed_time": 24.85189141,
             "remaining_time": 17.26995844,
             "test": [
              0.08825247446
             ]
            },
            {
             "iteration": 59,
             "learn": [
              0.08560423204
             ],
             "passed_time": 25.28223458,
             "remaining_time": 16.85482305,
             "test": [
              0.08552691083
             ]
            },
            {
             "iteration": 60,
             "learn": [
              0.08270075125
             ],
             "passed_time": 25.70663939,
             "remaining_time": 16.4353924,
             "test": [
              0.08289071133
             ]
            },
            {
             "iteration": 61,
             "learn": [
              0.08019892906
             ],
             "passed_time": 26.11416986,
             "remaining_time": 16.00545895,
             "test": [
              0.08033720666
             ]
            },
            {
             "iteration": 62,
             "learn": [
              0.07806629549
             ],
             "passed_time": 26.51100403,
             "remaining_time": 15.56995475,
             "test": [
              0.0778682054
             ]
            },
            {
             "iteration": 63,
             "learn": [
              0.07559300378
             ],
             "passed_time": 26.94576194,
             "remaining_time": 15.15699109,
             "test": [
              0.07547595355
             ]
            },
            {
             "iteration": 64,
             "learn": [
              0.07306639949
             ],
             "passed_time": 27.35553424,
             "remaining_time": 14.72990305,
             "test": [
              0.07316153057
             ]
            },
            {
             "iteration": 65,
             "learn": [
              0.07072452263
             ],
             "passed_time": 27.82854919,
             "remaining_time": 14.33591928,
             "test": [
              0.07091928512
             ]
            },
            {
             "iteration": 66,
             "learn": [
              0.06856287644
             ],
             "passed_time": 28.26306642,
             "remaining_time": 13.9206148,
             "test": [
              0.06874925925
             ]
            },
            {
             "iteration": 67,
             "learn": [
              0.06652847015
             ],
             "passed_time": 28.61182625,
             "remaining_time": 13.46438882,
             "test": [
              0.06664915792
             ]
            },
            {
             "iteration": 68,
             "learn": [
              0.06455471749
             ],
             "passed_time": 29.01599259,
             "remaining_time": 13.03617058,
             "test": [
              0.06461403757
             ]
            },
            {
             "iteration": 69,
             "learn": [
              0.06259839685
             ],
             "passed_time": 29.34768464,
             "remaining_time": 12.57757913,
             "test": [
              0.06264295115
             ]
            },
            {
             "iteration": 70,
             "learn": [
              0.06065482907
             ],
             "passed_time": 29.69503994,
             "remaining_time": 12.12895998,
             "test": [
              0.06073541307
             ]
            },
            {
             "iteration": 71,
             "learn": [
              0.05874989912
             ],
             "passed_time": 30.07890984,
             "remaining_time": 11.69735383,
             "test": [
              0.05888525154
             ]
            },
            {
             "iteration": 72,
             "learn": [
              0.05695053336
             ],
             "passed_time": 30.48242279,
             "remaining_time": 11.27432076,
             "test": [
              0.05709470673
             ]
            },
            {
             "iteration": 73,
             "learn": [
              0.05551992077
             ],
             "passed_time": 30.92093791,
             "remaining_time": 10.86411332,
             "test": [
              0.05536100152
             ]
            },
            {
             "iteration": 74,
             "learn": [
              0.05375763869
             ],
             "passed_time": 31.33358321,
             "remaining_time": 10.44452774,
             "test": [
              0.0536796627
             ]
            },
            {
             "iteration": 75,
             "learn": [
              0.05192216653
             ],
             "passed_time": 31.7588613,
             "remaining_time": 10.02911409,
             "test": [
              0.05205233102
             ]
            },
            {
             "iteration": 76,
             "learn": [
              0.05061631231
             ],
             "passed_time": 32.22895958,
             "remaining_time": 9.626832084,
             "test": [
              0.05047515944
             ]
            },
            {
             "iteration": 77,
             "learn": [
              0.04892358318
             ],
             "passed_time": 32.6254928,
             "remaining_time": 9.202062072,
             "test": [
              0.04894817175
             ]
            },
            {
             "iteration": 78,
             "learn": [
              0.04743283263
             ],
             "passed_time": 32.99923432,
             "remaining_time": 8.771948364,
             "test": [
              0.04746670526
             ]
            },
            {
             "iteration": 79,
             "learn": [
              0.04599156101
             ],
             "passed_time": 33.38445059,
             "remaining_time": 8.346112648,
             "test": [
              0.0460307364
             ]
            },
            {
             "iteration": 80,
             "learn": [
              0.04473440642
             ],
             "passed_time": 33.86369517,
             "remaining_time": 7.943335905,
             "test": [
              0.04463987595
             ]
            },
            {
             "iteration": 81,
             "learn": [
              0.04317582282
             ],
             "passed_time": 34.22227219,
             "remaining_time": 7.51220609,
             "test": [
              0.04329226338
             ]
            },
            {
             "iteration": 82,
             "learn": [
              0.04204073446
             ],
             "passed_time": 34.54209395,
             "remaining_time": 7.074886714,
             "test": [
              0.04198532061
             ]
            },
            {
             "iteration": 83,
             "learn": [
              0.04079568879
             ],
             "passed_time": 34.90990865,
             "remaining_time": 6.64950641,
             "test": [
              0.04071884128
             ]
            },
            {
             "iteration": 84,
             "learn": [
              0.03942742046
             ],
             "passed_time": 35.34257781,
             "remaining_time": 6.236925496,
             "test": [
              0.03949102853
             ]
            },
            {
             "iteration": 85,
             "learn": [
              0.03820952173
             ],
             "passed_time": 35.76192749,
             "remaining_time": 5.821709126,
             "test": [
              0.03830126042
             ]
            },
            {
             "iteration": 86,
             "learn": [
              0.03716884774
             ],
             "passed_time": 36.11639508,
             "remaining_time": 5.396702713,
             "test": [
              0.03714802314
             ]
            },
            {
             "iteration": 87,
             "learn": [
              0.03611995732
             ],
             "passed_time": 36.54567596,
             "remaining_time": 4.983501267,
             "test": [
              0.03603145769
             ]
            },
            {
             "iteration": 88,
             "learn": [
              0.03494703919
             ],
             "passed_time": 36.96642795,
             "remaining_time": 4.568884354,
             "test": [
              0.03494775694
             ]
            },
            {
             "iteration": 89,
             "learn": [
              0.03390331441
             ],
             "passed_time": 37.41370695,
             "remaining_time": 4.15707855,
             "test": [
              0.03389909325
             ]
            },
            {
             "iteration": 90,
             "learn": [
              0.03289340774
             ],
             "passed_time": 37.81866039,
             "remaining_time": 3.740307071,
             "test": [
              0.03288108326
             ]
            },
            {
             "iteration": 91,
             "learn": [
              0.031901099
             ],
             "passed_time": 38.25361709,
             "remaining_time": 3.326401486,
             "test": [
              0.03189442599
             ]
            },
            {
             "iteration": 92,
             "learn": [
              0.03092161614
             ],
             "passed_time": 38.64503389,
             "remaining_time": 2.908765992,
             "test": [
              0.03093730478
             ]
            },
            {
             "iteration": 93,
             "learn": [
              0.02998805024
             ],
             "passed_time": 39.12316994,
             "remaining_time": 2.497223614,
             "test": [
              0.03001138283
             ]
            },
            {
             "iteration": 94,
             "learn": [
              0.02908098221
             ],
             "passed_time": 39.55119738,
             "remaining_time": 2.081641967,
             "test": [
              0.0291123609
             ]
            },
            {
             "iteration": 95,
             "learn": [
              0.02829853922
             ],
             "passed_time": 39.93725323,
             "remaining_time": 1.664052218,
             "test": [
              0.02824004454
             ]
            },
            {
             "iteration": 96,
             "learn": [
              0.02740637015
             ],
             "passed_time": 40.32857181,
             "remaining_time": 1.247275417,
             "test": [
              0.02739538813
             ]
            },
            {
             "iteration": 97,
             "learn": [
              0.02651880104
             ],
             "passed_time": 40.75975311,
             "remaining_time": 0.8318316962,
             "test": [
              0.02657687225
             ]
            },
            {
             "iteration": 98,
             "learn": [
              0.02583816729
             ],
             "passed_time": 41.12752026,
             "remaining_time": 0.4154294975,
             "test": [
              0.02578144576
             ]
            },
            {
             "iteration": 99,
             "learn": [
              0.02497674288
             ],
             "passed_time": 41.50397031,
             "remaining_time": 0,
             "test": [
              0.02501030475
             ]
            }
           ],
           "meta": {
            "iteration_count": 100,
            "launch_mode": "Train",
            "learn_metrics": [
             {
              "best_value": "Min",
              "name": "CrossEntropy"
             }
            ],
            "learn_sets": [
             "learn"
            ],
            "name": "experiment",
            "parameters": "",
            "test_metrics": [
             {
              "best_value": "Min",
              "name": "CrossEntropy"
             }
            ],
            "test_sets": [
             "test"
            ]
           }
          },
          "passed_iterations": 99,
          "total_iterations": 100
         },
         "name": "catboost_info",
         "path": "catboost_info"
        }
       },
       "layout": "IPY_MODEL_260a0759089b4436befdde2381826890"
      }
     },
     "7287fc00a70d463a94c388b88e8cec63": {
      "model_module": "catboost-widget",
      "model_module_version": "^1.0.0",
      "model_name": "CatboostWidgetModel",
      "state": {
       "_dom_classes": [],
       "_model_module": "catboost-widget",
       "_model_module_version": "^1.0.0",
       "_model_name": "CatboostWidgetModel",
       "_view_count": null,
       "_view_module": "catboost-widget",
       "_view_module_version": "^1.0.0",
       "_view_name": "CatboostWidgetView",
       "data": {
        "catboost_info": {
         "content": {
          "data": {
           "iterations": [
            {
             "iteration": 0,
             "learn": [
              0.6637202952
             ],
             "passed_time": 0.3909224523,
             "remaining_time": 38.70132278,
             "test": [
              0.6651773331
             ]
            },
            {
             "iteration": 1,
             "learn": [
              0.6395563123
             ],
             "passed_time": 0.7382019217,
             "remaining_time": 36.17189416,
             "test": [
              0.6384208206
             ]
            },
            {
             "iteration": 2,
             "learn": [
              0.6136168342
             ],
             "passed_time": 1.140579553,
             "remaining_time": 36.87873888,
             "test": [
              0.6135523545
             ]
            },
            {
             "iteration": 3,
             "learn": [
              0.5904494167
             ],
             "passed_time": 1.48918013,
             "remaining_time": 35.74032311,
             "test": [
              0.590042316
             ]
            },
            {
             "iteration": 4,
             "learn": [
              0.5690535172
             ],
             "passed_time": 1.881769845,
             "remaining_time": 35.75362706,
             "test": [
              0.5678565131
             ]
            },
            {
             "iteration": 5,
             "learn": [
              0.5478891609
             ],
             "passed_time": 2.231480486,
             "remaining_time": 34.95986095,
             "test": [
              0.5464405682
             ]
            },
            {
             "iteration": 6,
             "learn": [
              0.5269457399
             ],
             "passed_time": 2.615651061,
             "remaining_time": 34.75079267,
             "test": [
              0.526524566
             ]
            },
            {
             "iteration": 7,
             "learn": [
              0.5090186027
             ],
             "passed_time": 2.967084199,
             "remaining_time": 34.12146829,
             "test": [
              0.5075196955
             ]
            },
            {
             "iteration": 8,
             "learn": [
              0.4904929269
             ],
             "passed_time": 3.308675917,
             "remaining_time": 33.45438983,
             "test": [
              0.4889938798
             ]
            },
            {
             "iteration": 9,
             "learn": [
              0.4729839495
             ],
             "passed_time": 3.663275398,
             "remaining_time": 32.96947858,
             "test": [
              0.4716226486
             ]
            },
            {
             "iteration": 10,
             "learn": [
              0.4563444989
             ],
             "passed_time": 4.013062446,
             "remaining_time": 32.46932343,
             "test": [
              0.4549847949
             ]
            },
            {
             "iteration": 11,
             "learn": [
              0.4406868757
             ],
             "passed_time": 4.390809216,
             "remaining_time": 32.19926758,
             "test": [
              0.4392189935
             ]
            },
            {
             "iteration": 12,
             "learn": [
              0.4259455898
             ],
             "passed_time": 4.780288341,
             "remaining_time": 31.99116043,
             "test": [
              0.4241335911
             ]
            },
            {
             "iteration": 13,
             "learn": [
              0.4115434139
             ],
             "passed_time": 5.165734701,
             "remaining_time": 31.73237031,
             "test": [
              0.4096421376
             ]
            },
            {
             "iteration": 14,
             "learn": [
              0.3968005658
             ],
             "passed_time": 5.479106683,
             "remaining_time": 31.0482712,
             "test": [
              0.395497026
             ]
            },
            {
             "iteration": 15,
             "learn": [
              0.3836954647
             ],
             "passed_time": 5.830766276,
             "remaining_time": 30.61152295,
             "test": [
              0.3823492783
             ]
            },
            {
             "iteration": 16,
             "learn": [
              0.3717022934
             ],
             "passed_time": 6.253506157,
             "remaining_time": 30.53182418,
             "test": [
              0.3698197202
             ]
            },
            {
             "iteration": 17,
             "learn": [
              0.359192495
             ],
             "passed_time": 6.620745709,
             "remaining_time": 30.1611749,
             "test": [
              0.3578568536
             ]
            },
            {
             "iteration": 18,
             "learn": [
              0.3479938986
             ],
             "passed_time": 6.996052076,
             "remaining_time": 29.82527464,
             "test": [
              0.3461485356
             ]
            },
            {
             "iteration": 19,
             "learn": [
              0.3367926744
             ],
             "passed_time": 7.383248839,
             "remaining_time": 29.53299536,
             "test": [
              0.3349492498
             ]
            },
            {
             "iteration": 20,
             "learn": [
              0.3261137448
             ],
             "passed_time": 7.736396548,
             "remaining_time": 29.10358701,
             "test": [
              0.3241166172
             ]
            },
            {
             "iteration": 21,
             "learn": [
              0.3158018427
             ],
             "passed_time": 8.09079436,
             "remaining_time": 28.68554364,
             "test": [
              0.3138424598
             ]
            },
            {
             "iteration": 22,
             "learn": [
              0.3059591864
             ],
             "passed_time": 8.465633395,
             "remaining_time": 28.34146832,
             "test": [
              0.3039635749
             ]
            },
            {
             "iteration": 23,
             "learn": [
              0.2966171508
             ],
             "passed_time": 8.800356133,
             "remaining_time": 27.86779442,
             "test": [
              0.2943228735
             ]
            },
            {
             "iteration": 24,
             "learn": [
              0.2873608125
             ],
             "passed_time": 9.157058408,
             "remaining_time": 27.47117522,
             "test": [
              0.2852461081
             ]
            },
            {
             "iteration": 25,
             "learn": [
              0.278220613
             ],
             "passed_time": 9.472842199,
             "remaining_time": 26.96116626,
             "test": [
              0.2762161224
             ]
            },
            {
             "iteration": 26,
             "learn": [
              0.2696853953
             ],
             "passed_time": 9.899660966,
             "remaining_time": 26.76575002,
             "test": [
              0.2676249672
             ]
            },
            {
             "iteration": 27,
             "learn": [
              0.2614103979
             ],
             "passed_time": 10.25480683,
             "remaining_time": 26.36950328,
             "test": [
              0.2594522337
             ]
            },
            {
             "iteration": 28,
             "learn": [
              0.2536841073
             ],
             "passed_time": 10.63055135,
             "remaining_time": 26.02652227,
             "test": [
              0.2515869063
             ]
            },
            {
             "iteration": 29,
             "learn": [
              0.2462608135
             ],
             "passed_time": 11.01152387,
             "remaining_time": 25.6935557,
             "test": [
              0.2440027336
             ]
            },
            {
             "iteration": 30,
             "learn": [
              0.2390343027
             ],
             "passed_time": 11.41606406,
             "remaining_time": 25.40994903,
             "test": [
              0.236685552
             ]
            },
            {
             "iteration": 31,
             "learn": [
              0.2322645084
             ],
             "passed_time": 11.79864651,
             "remaining_time": 25.07212384,
             "test": [
              0.2297540362
             ]
            },
            {
             "iteration": 32,
             "learn": [
              0.2254346305
             ],
             "passed_time": 12.11919015,
             "remaining_time": 24.60562849,
             "test": [
              0.2229052158
             ]
            },
            {
             "iteration": 33,
             "learn": [
              0.2189602197
             ],
             "passed_time": 12.44969022,
             "remaining_time": 24.16704571,
             "test": [
              0.2163850853
             ]
            },
            {
             "iteration": 34,
             "learn": [
              0.2126750201
             ],
             "passed_time": 12.8255143,
             "remaining_time": 23.81881226,
             "test": [
              0.2100453629
             ]
            },
            {
             "iteration": 35,
             "learn": [
              0.2067656041
             ],
             "passed_time": 13.23194706,
             "remaining_time": 23.52346144,
             "test": [
              0.2040289111
             ]
            },
            {
             "iteration": 36,
             "learn": [
              0.2007537174
             ],
             "passed_time": 13.62897914,
             "remaining_time": 23.20609961,
             "test": [
              0.1981071559
             ]
            },
            {
             "iteration": 37,
             "learn": [
              0.1950253869
             ],
             "passed_time": 14.00508197,
             "remaining_time": 22.8503969,
             "test": [
              0.1923478843
             ]
            },
            {
             "iteration": 38,
             "learn": [
              0.1895827499
             ],
             "passed_time": 14.32551554,
             "remaining_time": 22.40657559,
             "test": [
              0.1867999594
             ]
            },
            {
             "iteration": 39,
             "learn": [
              0.1843278914
             ],
             "passed_time": 14.64265488,
             "remaining_time": 21.96398232,
             "test": [
              0.181531856
             ]
            },
            {
             "iteration": 40,
             "learn": [
              0.1790451594
             ],
             "passed_time": 15.03596951,
             "remaining_time": 21.63712686,
             "test": [
              0.1763888373
             ]
            },
            {
             "iteration": 41,
             "learn": [
              0.1741620958
             ],
             "passed_time": 15.44543939,
             "remaining_time": 21.3294163,
             "test": [
              0.1713353293
             ]
            },
            {
             "iteration": 42,
             "learn": [
              0.1694591979
             ],
             "passed_time": 15.84011781,
             "remaining_time": 20.99736547,
             "test": [
              0.1665308727
             ]
            },
            {
             "iteration": 43,
             "learn": [
              0.1649529376
             ],
             "passed_time": 16.19660818,
             "remaining_time": 20.61386495,
             "test": [
              0.1618678538
             ]
            },
            {
             "iteration": 44,
             "learn": [
              0.1604175477
             ],
             "passed_time": 16.59447884,
             "remaining_time": 20.2821408,
             "test": [
              0.1573685587
             ]
            },
            {
             "iteration": 45,
             "learn": [
              0.1560479332
             ],
             "passed_time": 16.91144268,
             "remaining_time": 19.85256315,
             "test": [
              0.153044022
             ]
            },
            {
             "iteration": 46,
             "learn": [
              0.151886664
             ],
             "passed_time": 17.2631783,
             "remaining_time": 19.4669883,
             "test": [
              0.1488739451
             ]
            },
            {
             "iteration": 47,
             "learn": [
              0.1477710102
             ],
             "passed_time": 17.62534004,
             "remaining_time": 19.09411838,
             "test": [
              0.1447223893
             ]
            },
            {
             "iteration": 48,
             "learn": [
              0.1438362872
             ],
             "passed_time": 17.96523155,
             "remaining_time": 18.69850631,
             "test": [
              0.1408076597
             ]
            },
            {
             "iteration": 49,
             "learn": [
              0.1400755058
             ],
             "passed_time": 18.28879818,
             "remaining_time": 18.28879818,
             "test": [
              0.1370028524
             ]
            },
            {
             "iteration": 50,
             "learn": [
              0.1364483417
             ],
             "passed_time": 18.65601643,
             "remaining_time": 17.92440794,
             "test": [
              0.1333719286
             ]
            },
            {
             "iteration": 51,
             "learn": [
              0.1329670895
             ],
             "passed_time": 19.05058046,
             "remaining_time": 17.58515119,
             "test": [
              0.1298649259
             ]
            },
            {
             "iteration": 52,
             "learn": [
              0.1294319546
             ],
             "passed_time": 19.42756558,
             "remaining_time": 17.22821854,
             "test": [
              0.1262950942
             ]
            },
            {
             "iteration": 53,
             "learn": [
              0.1260922358
             ],
             "passed_time": 19.76476118,
             "remaining_time": 16.83664841,
             "test": [
              0.1230323808
             ]
            },
            {
             "iteration": 54,
             "learn": [
              0.1228739753
             ],
             "passed_time": 20.16097924,
             "remaining_time": 16.49534665,
             "test": [
              0.1196783176
             ]
            },
            {
             "iteration": 55,
             "learn": [
              0.1196802535
             ],
             "passed_time": 20.55915377,
             "remaining_time": 16.15362082,
             "test": [
              0.1165458177
             ]
            },
            {
             "iteration": 56,
             "learn": [
              0.1167717792
             ],
             "passed_time": 20.95176083,
             "remaining_time": 15.80571431,
             "test": [
              0.1135465118
             ]
            },
            {
             "iteration": 57,
             "learn": [
              0.1138593189
             ],
             "passed_time": 21.28097351,
             "remaining_time": 15.41036012,
             "test": [
              0.1106216789
             ]
            },
            {
             "iteration": 58,
             "learn": [
              0.1108921609
             ],
             "passed_time": 21.64687713,
             "remaining_time": 15.04274513,
             "test": [
              0.1076936927
             ]
            },
            {
             "iteration": 59,
             "learn": [
              0.1081433539
             ],
             "passed_time": 21.96268264,
             "remaining_time": 14.64178842,
             "test": [
              0.1049376642
             ]
            },
            {
             "iteration": 60,
             "learn": [
              0.1055400795
             ],
             "passed_time": 22.36542696,
             "remaining_time": 14.2992074,
             "test": [
              0.10221194
             ]
            },
            {
             "iteration": 61,
             "learn": [
              0.1029609773
             ],
             "passed_time": 22.70404108,
             "remaining_time": 13.91538002,
             "test": [
              0.09970007957
             ]
            },
            {
             "iteration": 62,
             "learn": [
              0.1005077213
             ],
             "passed_time": 23.01412531,
             "remaining_time": 13.51623232,
             "test": [
              0.09722154958
             ]
            },
            {
             "iteration": 63,
             "learn": [
              0.09822012483
             ],
             "passed_time": 23.38750795,
             "remaining_time": 13.15547322,
             "test": [
              0.09486793791
             ]
            },
            {
             "iteration": 64,
             "learn": [
              0.09581298744
             ],
             "passed_time": 23.80897894,
             "remaining_time": 12.82021943,
             "test": [
              0.09246390461
             ]
            },
            {
             "iteration": 65,
             "learn": [
              0.09347257083
             ],
             "passed_time": 24.18198147,
             "remaining_time": 12.45738439,
             "test": [
              0.09011729144
             ]
            },
            {
             "iteration": 66,
             "learn": [
              0.0911665319
             ],
             "passed_time": 24.52392736,
             "remaining_time": 12.0789493,
             "test": [
              0.08792656532
             ]
            },
            {
             "iteration": 67,
             "learn": [
              0.0890175136
             ],
             "passed_time": 24.91299123,
             "remaining_time": 11.72376058,
             "test": [
              0.08570719622
             ]
            },
            {
             "iteration": 68,
             "learn": [
              0.08702406203
             ],
             "passed_time": 25.29085127,
             "remaining_time": 11.36255637,
             "test": [
              0.08371930564
             ]
            },
            {
             "iteration": 69,
             "learn": [
              0.08498487627
             ],
             "passed_time": 25.63339124,
             "remaining_time": 10.9857391,
             "test": [
              0.08172735779
             ]
            },
            {
             "iteration": 70,
             "learn": [
              0.08294951086
             ],
             "passed_time": 26.0529809,
             "remaining_time": 10.6413584,
             "test": [
              0.07966976727
             ]
            },
            {
             "iteration": 71,
             "learn": [
              0.08077420384
             ],
             "passed_time": 26.42107002,
             "remaining_time": 10.27486056,
             "test": [
              0.07768604024
             ]
            },
            {
             "iteration": 72,
             "learn": [
              0.07895350391
             ],
             "passed_time": 26.78914501,
             "remaining_time": 9.908313909,
             "test": [
              0.07586558125
             ]
            },
            {
             "iteration": 73,
             "learn": [
              0.07710780486
             ],
             "passed_time": 27.08187812,
             "remaining_time": 9.515254473,
             "test": [
              0.07398644512
             ]
            },
            {
             "iteration": 74,
             "learn": [
              0.07548164471
             ],
             "passed_time": 27.45987891,
             "remaining_time": 9.153292969,
             "test": [
              0.07243721083
             ]
            },
            {
             "iteration": 75,
             "learn": [
              0.07366682711
             ],
             "passed_time": 27.76560674,
             "remaining_time": 8.76808634,
             "test": [
              0.07064194973
             ]
            },
            {
             "iteration": 76,
             "learn": [
              0.07199550539
             ],
             "passed_time": 28.14130459,
             "remaining_time": 8.405844227,
             "test": [
              0.06861636115
             ]
            },
            {
             "iteration": 77,
             "learn": [
              0.07030053266
             ],
             "passed_time": 28.58242177,
             "remaining_time": 8.061708703,
             "test": [
              0.06689566663
             ]
            },
            {
             "iteration": 78,
             "learn": [
              0.06861667808
             ],
             "passed_time": 28.88810024,
             "remaining_time": 7.679115254,
             "test": [
              0.06524474412
             ]
            },
            {
             "iteration": 79,
             "learn": [
              0.06726971888
             ],
             "passed_time": 29.2630328,
             "remaining_time": 7.315758201,
             "test": [
              0.06392609242
             ]
            },
            {
             "iteration": 80,
             "learn": [
              0.06569517392
             ],
             "passed_time": 29.5706143,
             "remaining_time": 6.936316935,
             "test": [
              0.06234522734
             ]
            },
            {
             "iteration": 81,
             "learn": [
              0.06403117739
             ],
             "passed_time": 29.96799746,
             "remaining_time": 6.578340907,
             "test": [
              0.06090913638
             ]
            },
            {
             "iteration": 82,
             "learn": [
              0.06269790568
             ],
             "passed_time": 30.34397658,
             "remaining_time": 6.215031347,
             "test": [
              0.05956821045
             ]
            },
            {
             "iteration": 83,
             "learn": [
              0.06141118591
             ],
             "passed_time": 30.75915604,
             "remaining_time": 5.858886865,
             "test": [
              0.0582785759
             ]
            },
            {
             "iteration": 84,
             "learn": [
              0.05998872817
             ],
             "passed_time": 31.36775854,
             "remaining_time": 5.535486801,
             "test": [
              0.05683943464
             ]
            },
            {
             "iteration": 85,
             "learn": [
              0.05853410189
             ],
             "passed_time": 31.93903903,
             "remaining_time": 5.199378446,
             "test": [
              0.0555499396
             ]
            },
            {
             "iteration": 86,
             "learn": [
              0.05713582293
             ],
             "passed_time": 32.33382184,
             "remaining_time": 4.83149062,
             "test": [
              0.05426405872
             ]
            },
            {
             "iteration": 87,
             "learn": [
              0.0560653375
             ],
             "passed_time": 32.70523352,
             "remaining_time": 4.459804571,
             "test": [
              0.05324104191
             ]
            },
            {
             "iteration": 88,
             "learn": [
              0.05475903407
             ],
             "passed_time": 33.10719062,
             "remaining_time": 4.091899965,
             "test": [
              0.05208579861
             ]
            },
            {
             "iteration": 89,
             "learn": [
              0.05345424928
             ],
             "passed_time": 33.4840585,
             "remaining_time": 3.720450944,
             "test": [
              0.05090576366
             ]
            },
            {
             "iteration": 90,
             "learn": [
              0.05248891902
             ],
             "passed_time": 33.85487518,
             "remaining_time": 3.348284359,
             "test": [
              0.04997816011
             ]
            },
            {
             "iteration": 91,
             "learn": [
              0.05133368937
             ],
             "passed_time": 34.27579529,
             "remaining_time": 2.980503938,
             "test": [
              0.04878594616
             ]
            },
            {
             "iteration": 92,
             "learn": [
              0.05015397117
             ],
             "passed_time": 34.59776838,
             "remaining_time": 2.604133104,
             "test": [
              0.04769058016
             ]
            },
            {
             "iteration": 93,
             "learn": [
              0.04928178192
             ],
             "passed_time": 34.96285346,
             "remaining_time": 2.231671498,
             "test": [
              0.04685322678
             ]
            },
            {
             "iteration": 94,
             "learn": [
              0.04817411297
             ],
             "passed_time": 35.36024483,
             "remaining_time": 1.861065517,
             "test": [
              0.04586598114
             ]
            },
            {
             "iteration": 95,
             "learn": [
              0.04712888434
             ],
             "passed_time": 35.66297058,
             "remaining_time": 1.485957107,
             "test": [
              0.04474276737
             ]
            },
            {
             "iteration": 96,
             "learn": [
              0.0460776825
             ],
             "passed_time": 36.03556078,
             "remaining_time": 1.11450188,
             "test": [
              0.04377758652
             ]
            },
            {
             "iteration": 97,
             "learn": [
              0.04534371968
             ],
             "passed_time": 36.39318288,
             "remaining_time": 0.742718018,
             "test": [
              0.04307089046
             ]
            },
            {
             "iteration": 98,
             "learn": [
              0.04434927042
             ],
             "passed_time": 36.71522635,
             "remaining_time": 0.3708608722,
             "test": [
              0.04214153263
             ]
            },
            {
             "iteration": 99,
             "learn": [
              0.04338018599
             ],
             "passed_time": 37.08916093,
             "remaining_time": 0,
             "test": [
              0.04125630361
             ]
            }
           ],
           "meta": {
            "iteration_count": 100,
            "launch_mode": "Train",
            "learn_metrics": [
             {
              "best_value": "Min",
              "name": "CrossEntropy"
             }
            ],
            "learn_sets": [
             "learn"
            ],
            "name": "experiment",
            "parameters": "",
            "test_metrics": [
             {
              "best_value": "Min",
              "name": "CrossEntropy"
             }
            ],
            "test_sets": [
             "test"
            ]
           }
          },
          "passed_iterations": 99,
          "total_iterations": 100
         },
         "name": "catboost_info",
         "path": "catboost_info"
        }
       },
       "layout": "IPY_MODEL_916ec0c29ff848bbb6d1de680c8e3da2"
      }
     },
     "77fce8a6dd4b4f048863bf7908896b8b": {
      "model_module": "catboost-widget",
      "model_module_version": "^1.0.0",
      "model_name": "CatboostWidgetModel",
      "state": {
       "_dom_classes": [],
       "_model_module": "catboost-widget",
       "_model_module_version": "^1.0.0",
       "_model_name": "CatboostWidgetModel",
       "_view_count": null,
       "_view_module": "catboost-widget",
       "_view_module_version": "^1.0.0",
       "_view_name": "CatboostWidgetView",
       "data": {
        "catboost_info": {
         "content": {
          "data": {
           "iterations": [
            {
             "iteration": 0,
             "learn": [
              0.6718219016
             ],
             "passed_time": 0.4784388525,
             "remaining_time": 47.36544639,
             "test": [
              0.6724297233
             ]
            },
            {
             "iteration": 1,
             "learn": [
              0.6516164274
             ],
             "passed_time": 0.8924889174,
             "remaining_time": 43.73195695,
             "test": [
              0.6528057524
             ]
            },
            {
             "iteration": 2,
             "learn": [
              0.6317364344
             ],
             "passed_time": 1.31176789,
             "remaining_time": 42.41382845,
             "test": [
              0.6345788527
             ]
            },
            {
             "iteration": 3,
             "learn": [
              0.6143174316
             ],
             "passed_time": 1.723602994,
             "remaining_time": 41.36647185,
             "test": [
              0.6168914008
             ]
            },
            {
             "iteration": 4,
             "learn": [
              0.5979414159
             ],
             "passed_time": 2.091121529,
             "remaining_time": 39.73130906,
             "test": [
              0.6017275082
             ]
            },
            {
             "iteration": 5,
             "learn": [
              0.5822802591
             ],
             "passed_time": 2.505669023,
             "remaining_time": 39.25548135,
             "test": [
              0.5858948235
             ]
            },
            {
             "iteration": 6,
             "learn": [
              0.5679826819
             ],
             "passed_time": 2.877394201,
             "remaining_time": 38.22823724,
             "test": [
              0.5722699388
             ]
            },
            {
             "iteration": 7,
             "learn": [
              0.5544239956
             ],
             "passed_time": 3.260360825,
             "remaining_time": 37.49414949,
             "test": [
              0.5593343361
             ]
            },
            {
             "iteration": 8,
             "learn": [
              0.54148417
             ],
             "passed_time": 3.662572405,
             "remaining_time": 37.03267654,
             "test": [
              0.547104034
             ]
            },
            {
             "iteration": 9,
             "learn": [
              0.5295483069
             ],
             "passed_time": 4.025085292,
             "remaining_time": 36.22576762,
             "test": [
              0.5354001459
             ]
            },
            {
             "iteration": 10,
             "learn": [
              0.5165256343
             ],
             "passed_time": 4.473256915,
             "remaining_time": 36.19271504,
             "test": [
              0.5227065694
             ]
            },
            {
             "iteration": 11,
             "learn": [
              0.5050978971
             ],
             "passed_time": 4.841574463,
             "remaining_time": 35.50487939,
             "test": [
              0.5119213797
             ]
            },
            {
             "iteration": 12,
             "learn": [
              0.4943048756
             ],
             "passed_time": 5.217570539,
             "remaining_time": 34.91758745,
             "test": [
              0.5016625422
             ]
            },
            {
             "iteration": 13,
             "learn": [
              0.4836924475
             ],
             "passed_time": 5.622932357,
             "remaining_time": 34.54087019,
             "test": [
              0.4914118049
             ]
            },
            {
             "iteration": 14,
             "learn": [
              0.4722536418
             ],
             "passed_time": 6.044237183,
             "remaining_time": 34.25067737,
             "test": [
              0.4806111271
             ]
            },
            {
             "iteration": 15,
             "learn": [
              0.4616741049
             ],
             "passed_time": 6.452258064,
             "remaining_time": 33.87435484,
             "test": [
              0.4700849908
             ]
            },
            {
             "iteration": 16,
             "learn": [
              0.4523293996
             ],
             "passed_time": 6.855356775,
             "remaining_time": 33.47027131,
             "test": [
              0.4611747456
             ]
            },
            {
             "iteration": 17,
             "learn": [
              0.4424845197
             ],
             "passed_time": 7.277766299,
             "remaining_time": 33.15426869,
             "test": [
              0.4514430572
             ]
            },
            {
             "iteration": 18,
             "learn": [
              0.4339992823
             ],
             "passed_time": 7.679097574,
             "remaining_time": 32.73720545,
             "test": [
              0.4431607732
             ]
            },
            {
             "iteration": 19,
             "learn": [
              0.4245622088
             ],
             "passed_time": 8.088325635,
             "remaining_time": 32.35330254,
             "test": [
              0.4341079808
             ]
            },
            {
             "iteration": 20,
             "learn": [
              0.4154082789
             ],
             "passed_time": 8.480806689,
             "remaining_time": 31.90398707,
             "test": [
              0.4251719528
             ]
            },
            {
             "iteration": 21,
             "learn": [
              0.4076952576
             ],
             "passed_time": 8.876160776,
             "remaining_time": 31.47002457,
             "test": [
              0.4176591217
             ]
            },
            {
             "iteration": 22,
             "learn": [
              0.3991446863
             ],
             "passed_time": 9.278311603,
             "remaining_time": 31.06217363,
             "test": [
              0.4095907379
             ]
            },
            {
             "iteration": 23,
             "learn": [
              0.3906936735
             ],
             "passed_time": 9.67486943,
             "remaining_time": 30.63708653,
             "test": [
              0.4016170972
             ]
            },
            {
             "iteration": 24,
             "learn": [
              0.3835215765
             ],
             "passed_time": 10.09596615,
             "remaining_time": 30.28789846,
             "test": [
              0.3940573736
             ]
            },
            {
             "iteration": 25,
             "learn": [
              0.3765884138
             ],
             "passed_time": 10.49172321,
             "remaining_time": 29.86105838,
             "test": [
              0.3880126711
             ]
            },
            {
             "iteration": 26,
             "learn": [
              0.3697734073
             ],
             "passed_time": 10.90068469,
             "remaining_time": 29.47222157,
             "test": [
              0.3810655078
             ]
            },
            {
             "iteration": 27,
             "learn": [
              0.3628101841
             ],
             "passed_time": 11.30361536,
             "remaining_time": 29.06643951,
             "test": [
              0.3742624955
             ]
            },
            {
             "iteration": 28,
             "learn": [
              0.3566653802
             ],
             "passed_time": 11.69762234,
             "remaining_time": 28.63900642,
             "test": [
              0.3686019149
             ]
            },
            {
             "iteration": 29,
             "learn": [
              0.349653067
             ],
             "passed_time": 12.10469127,
             "remaining_time": 28.24427962,
             "test": [
              0.3618850736
             ]
            },
            {
             "iteration": 30,
             "learn": [
              0.3431033816
             ],
             "passed_time": 12.52887465,
             "remaining_time": 27.88685002,
             "test": [
              0.3554715841
             ]
            },
            {
             "iteration": 31,
             "learn": [
              0.3379489244
             ],
             "passed_time": 12.90511415,
             "remaining_time": 27.42336756,
             "test": [
              0.3504566064
             ]
            },
            {
             "iteration": 32,
             "learn": [
              0.3326340195
             ],
             "passed_time": 13.28060473,
             "remaining_time": 26.96365202,
             "test": [
              0.3451093091
             ]
            },
            {
             "iteration": 33,
             "learn": [
              0.3265518906
             ],
             "passed_time": 13.70456188,
             "remaining_time": 26.60297307,
             "test": [
              0.3392971842
             ]
            },
            {
             "iteration": 34,
             "learn": [
              0.321409407
             ],
             "passed_time": 14.15676818,
             "remaining_time": 26.2911409,
             "test": [
              0.3341515554
             ]
            },
            {
             "iteration": 35,
             "learn": [
              0.3155798587
             ],
             "passed_time": 14.7540481,
             "remaining_time": 26.22941884,
             "test": [
              0.3285090004
             ]
            },
            {
             "iteration": 36,
             "learn": [
              0.3098508373
             ],
             "passed_time": 15.38006216,
             "remaining_time": 26.18767342,
             "test": [
              0.3226853299
             ]
            },
            {
             "iteration": 37,
             "learn": [
              0.3054341852
             ],
             "passed_time": 15.76886806,
             "remaining_time": 25.72815315,
             "test": [
              0.3181958221
             ]
            },
            {
             "iteration": 38,
             "learn": [
              0.3001385613
             ],
             "passed_time": 16.17768145,
             "remaining_time": 25.30355304,
             "test": [
              0.3132342137
             ]
            },
            {
             "iteration": 39,
             "learn": [
              0.2950088897
             ],
             "passed_time": 16.5929446,
             "remaining_time": 24.8894169,
             "test": [
              0.3078862338
             ]
            },
            {
             "iteration": 40,
             "learn": [
              0.2900802581
             ],
             "passed_time": 17.01697274,
             "remaining_time": 24.48783882,
             "test": [
              0.302989846
             ]
            },
            {
             "iteration": 41,
             "learn": [
              0.2861485378
             ],
             "passed_time": 17.39655031,
             "remaining_time": 24.02380757,
             "test": [
              0.2992803076
             ]
            },
            {
             "iteration": 42,
             "learn": [
              0.2822611134
             ],
             "passed_time": 17.74595849,
             "remaining_time": 23.52371241,
             "test": [
              0.2956269197
             ]
            },
            {
             "iteration": 43,
             "learn": [
              0.2779035868
             ],
             "passed_time": 18.15010634,
             "remaining_time": 23.10013535,
             "test": [
              0.2914591251
             ]
            },
            {
             "iteration": 44,
             "learn": [
              0.273443275
             ],
             "passed_time": 18.57500831,
             "remaining_time": 22.70278793,
             "test": [
              0.2872757666
             ]
            },
            {
             "iteration": 45,
             "learn": [
              0.2689552304
             ],
             "passed_time": 18.99068307,
             "remaining_time": 22.29341057,
             "test": [
              0.2827418946
             ]
            },
            {
             "iteration": 46,
             "learn": [
              0.2652529208
             ],
             "passed_time": 19.40531378,
             "remaining_time": 21.88258788,
             "test": [
              0.278923029
             ]
            },
            {
             "iteration": 47,
             "learn": [
              0.2613786308
             ],
             "passed_time": 19.79448506,
             "remaining_time": 21.44402548,
             "test": [
              0.2754681565
             ]
            },
            {
             "iteration": 48,
             "learn": [
              0.2578874296
             ],
             "passed_time": 20.1808988,
             "remaining_time": 21.00460895,
             "test": [
              0.272188558
             ]
            },
            {
             "iteration": 49,
             "learn": [
              0.2548301149
             ],
             "passed_time": 20.5539489,
             "remaining_time": 20.5539489,
             "test": [
              0.2692245825
             ]
            },
            {
             "iteration": 50,
             "learn": [
              0.2505867314
             ],
             "passed_time": 20.98730036,
             "remaining_time": 20.16426897,
             "test": [
              0.2648889568
             ]
            },
            {
             "iteration": 51,
             "learn": [
              0.2468313673
             ],
             "passed_time": 21.41838757,
             "remaining_time": 19.7708193,
             "test": [
              0.2608059859
             ]
            },
            {
             "iteration": 52,
             "learn": [
              0.2435658488
             ],
             "passed_time": 21.84970516,
             "remaining_time": 19.37615364,
             "test": [
              0.2572885847
             ]
            },
            {
             "iteration": 53,
             "learn": [
              0.2404411916
             ],
             "passed_time": 22.23599932,
             "remaining_time": 18.9417772,
             "test": [
              0.2544141164
             ]
            },
            {
             "iteration": 54,
             "learn": [
              0.2371017436
             ],
             "passed_time": 22.62012694,
             "remaining_time": 18.50737659,
             "test": [
              0.2511762754
             ]
            },
            {
             "iteration": 55,
             "learn": [
              0.2336079007
             ],
             "passed_time": 23.07135176,
             "remaining_time": 18.12749067,
             "test": [
              0.2476105112
             ]
            },
            {
             "iteration": 56,
             "learn": [
              0.2303047578
             ],
             "passed_time": 23.51056335,
             "remaining_time": 17.73603902,
             "test": [
              0.2440257799
             ]
            },
            {
             "iteration": 57,
             "learn": [
              0.2275045622
             ],
             "passed_time": 23.92032847,
             "remaining_time": 17.32161717,
             "test": [
              0.2412255718
             ]
            },
            {
             "iteration": 58,
             "learn": [
              0.2241254724
             ],
             "passed_time": 24.36352778,
             "remaining_time": 16.9305871,
             "test": [
              0.2379782458
             ]
            },
            {
             "iteration": 59,
             "learn": [
              0.220966802
             ],
             "passed_time": 24.79492685,
             "remaining_time": 16.52995123,
             "test": [
              0.2347577687
             ]
            },
            {
             "iteration": 60,
             "learn": [
              0.2182315671
             ],
             "passed_time": 25.21058691,
             "remaining_time": 16.11824409,
             "test": [
              0.2320281869
             ]
            },
            {
             "iteration": 61,
             "learn": [
              0.2156634126
             ],
             "passed_time": 25.61176176,
             "remaining_time": 15.6975314,
             "test": [
              0.2294967869
             ]
            },
            {
             "iteration": 62,
             "learn": [
              0.2133656486
             ],
             "passed_time": 25.98141104,
             "remaining_time": 15.25892394,
             "test": [
              0.2272019894
             ]
            },
            {
             "iteration": 63,
             "learn": [
              0.2102508122
             ],
             "passed_time": 26.45179321,
             "remaining_time": 14.87913368,
             "test": [
              0.223941479
             ]
            },
            {
             "iteration": 64,
             "learn": [
              0.2074746814
             ],
             "passed_time": 26.95549522,
             "remaining_time": 14.51449743,
             "test": [
              0.2209620902
             ]
            },
            {
             "iteration": 65,
             "learn": [
              0.205123875
             ],
             "passed_time": 27.35947851,
             "remaining_time": 14.09427681,
             "test": [
              0.21869932
             ]
            },
            {
             "iteration": 66,
             "learn": [
              0.2028333119
             ],
             "passed_time": 27.71797216,
             "remaining_time": 13.65213554,
             "test": [
              0.2162037474
             ]
            },
            {
             "iteration": 67,
             "learn": [
              0.2003326946
             ],
             "passed_time": 28.1697254,
             "remaining_time": 13.25634136,
             "test": [
              0.2136154665
             ]
            },
            {
             "iteration": 68,
             "learn": [
              0.1978800295
             ],
             "passed_time": 28.57232356,
             "remaining_time": 12.83684102,
             "test": [
              0.2114778985
             ]
            },
            {
             "iteration": 69,
             "learn": [
              0.1956398237
             ],
             "passed_time": 28.97780202,
             "remaining_time": 12.41905801,
             "test": [
              0.209269703
             ]
            },
            {
             "iteration": 70,
             "learn": [
              0.1934954927
             ],
             "passed_time": 29.3831355,
             "remaining_time": 12.00156239,
             "test": [
              0.2072081348
             ]
            },
            {
             "iteration": 71,
             "learn": [
              0.1912400791
             ],
             "passed_time": 29.83760905,
             "remaining_time": 11.60351463,
             "test": [
              0.2048680561
             ]
            },
            {
             "iteration": 72,
             "learn": [
              0.1892381446
             ],
             "passed_time": 30.23812438,
             "remaining_time": 11.18396381,
             "test": [
              0.2027815035
             ]
            },
            {
             "iteration": 73,
             "learn": [
              0.1870070939
             ],
             "passed_time": 30.6831216,
             "remaining_time": 10.78055624,
             "test": [
              0.2004655153
             ]
            },
            {
             "iteration": 74,
             "learn": [
              0.1851135927
             ],
             "passed_time": 31.02336986,
             "remaining_time": 10.34112329,
             "test": [
              0.1987212342
             ]
            },
            {
             "iteration": 75,
             "learn": [
              0.1832895563
             ],
             "passed_time": 31.38790939,
             "remaining_time": 9.911971386,
             "test": [
              0.1969543308
             ]
            },
            {
             "iteration": 76,
             "learn": [
              0.1807663043
             ],
             "passed_time": 31.82104154,
             "remaining_time": 9.504986435,
             "test": [
              0.1942113972
             ]
            },
            {
             "iteration": 77,
             "learn": [
              0.1789021852
             ],
             "passed_time": 32.20772511,
             "remaining_time": 9.084230158,
             "test": [
              0.1924419835
             ]
            },
            {
             "iteration": 78,
             "learn": [
              0.1769547721
             ],
             "passed_time": 32.57278795,
             "remaining_time": 8.658589203,
             "test": [
              0.1905715391
             ]
            },
            {
             "iteration": 79,
             "learn": [
              0.1750017016
             ],
             "passed_time": 33.0290547,
             "remaining_time": 8.257263676,
             "test": [
              0.1885197694
             ]
            },
            {
             "iteration": 80,
             "learn": [
              0.1731802027
             ],
             "passed_time": 33.39849916,
             "remaining_time": 7.834215851,
             "test": [
              0.1867656218
             ]
            },
            {
             "iteration": 81,
             "learn": [
              0.1715272314
             ],
             "passed_time": 33.77693714,
             "remaining_time": 7.414449617,
             "test": [
              0.1850270831
             ]
            },
            {
             "iteration": 82,
             "learn": [
              0.1697810949
             ],
             "passed_time": 34.16877164,
             "remaining_time": 6.998423107,
             "test": [
              0.1834194675
             ]
            },
            {
             "iteration": 83,
             "learn": [
              0.1673628013
             ],
             "passed_time": 34.69580673,
             "remaining_time": 6.608725092,
             "test": [
              0.1808418509
             ]
            },
            {
             "iteration": 84,
             "learn": [
              0.1657065848
             ],
             "passed_time": 35.06504699,
             "remaining_time": 6.187949469,
             "test": [
              0.1792552452
             ]
            },
            {
             "iteration": 85,
             "learn": [
              0.1637087057
             ],
             "passed_time": 35.58196564,
             "remaining_time": 5.792413011,
             "test": [
              0.1770512243
             ]
            },
            {
             "iteration": 86,
             "learn": [
              0.1622199965
             ],
             "passed_time": 35.91957748,
             "remaining_time": 5.367293187,
             "test": [
              0.1757469051
             ]
            },
            {
             "iteration": 87,
             "learn": [
              0.1608885749
             ],
             "passed_time": 36.24678161,
             "remaining_time": 4.942742947,
             "test": [
              0.1744419182
             ]
            },
            {
             "iteration": 88,
             "learn": [
              0.1589899742
             ],
             "passed_time": 36.67738171,
             "remaining_time": 4.533159538,
             "test": [
              0.1725008299
             ]
            },
            {
             "iteration": 89,
             "learn": [
              0.1574400873
             ],
             "passed_time": 37.03620036,
             "remaining_time": 4.115133374,
             "test": [
              0.171036104
             ]
            },
            {
             "iteration": 90,
             "learn": [
              0.1557067342
             ],
             "passed_time": 37.60825909,
             "remaining_time": 3.719498151,
             "test": [
              0.16892049
             ]
            },
            {
             "iteration": 91,
             "learn": [
              0.1543214195
             ],
             "passed_time": 37.98517904,
             "remaining_time": 3.303059047,
             "test": [
              0.1674367736
             ]
            },
            {
             "iteration": 92,
             "learn": [
              0.1525314991
             ],
             "passed_time": 38.40479492,
             "remaining_time": 2.890683489,
             "test": [
              0.1655431902
             ]
            },
            {
             "iteration": 93,
             "learn": [
              0.1506762081
             ],
             "passed_time": 38.82347274,
             "remaining_time": 2.478094004,
             "test": [
              0.1633105991
             ]
            },
            {
             "iteration": 94,
             "learn": [
              0.1494953957
             ],
             "passed_time": 39.21867103,
             "remaining_time": 2.064140581,
             "test": [
              0.1621805265
             ]
            },
            {
             "iteration": 95,
             "learn": [
              0.1482693814
             ],
             "passed_time": 39.56154936,
             "remaining_time": 1.64839789,
             "test": [
              0.1610833491
             ]
            },
            {
             "iteration": 96,
             "learn": [
              0.1463411216
             ],
             "passed_time": 40.09327415,
             "remaining_time": 1.23999817,
             "test": [
              0.1590233188
             ]
            },
            {
             "iteration": 97,
             "learn": [
              0.1451327091
             ],
             "passed_time": 40.49888327,
             "remaining_time": 0.8265078218,
             "test": [
              0.1579072347
             ]
            },
            {
             "iteration": 98,
             "learn": [
              0.1436905804
             ],
             "passed_time": 40.98404527,
             "remaining_time": 0.4139802552,
             "test": [
              0.1563861393
             ]
            },
            {
             "iteration": 99,
             "learn": [
              0.1421182395
             ],
             "passed_time": 41.39224554,
             "remaining_time": 0,
             "test": [
              0.1547519374
             ]
            }
           ],
           "meta": {
            "iteration_count": 100,
            "launch_mode": "Train",
            "learn_metrics": [
             {
              "best_value": "Min",
              "name": "CrossEntropy"
             }
            ],
            "learn_sets": [
             "learn"
            ],
            "name": "experiment",
            "parameters": "",
            "test_metrics": [
             {
              "best_value": "Min",
              "name": "CrossEntropy"
             }
            ],
            "test_sets": [
             "test"
            ]
           }
          },
          "passed_iterations": 99,
          "total_iterations": 100
         },
         "name": "catboost_info",
         "path": "catboost_info"
        }
       },
       "layout": "IPY_MODEL_d2a367ff45f445daa6285ab1fa106320"
      }
     },
     "7bacc925341c48d9a8ee2e4d11b51880": {
      "model_module": "@jupyter-widgets/base",
      "model_module_version": "1.2.0",
      "model_name": "LayoutModel",
      "state": {
       "_model_module": "@jupyter-widgets/base",
       "_model_module_version": "1.2.0",
       "_model_name": "LayoutModel",
       "_view_count": null,
       "_view_module": "@jupyter-widgets/base",
       "_view_module_version": "1.2.0",
       "_view_name": "LayoutView",
       "align_content": null,
       "align_items": null,
       "align_self": "stretch",
       "border": null,
       "bottom": null,
       "display": null,
       "flex": null,
       "flex_flow": null,
       "grid_area": null,
       "grid_auto_columns": null,
       "grid_auto_flow": null,
       "grid_auto_rows": null,
       "grid_column": null,
       "grid_gap": null,
       "grid_row": null,
       "grid_template_areas": null,
       "grid_template_columns": null,
       "grid_template_rows": null,
       "height": "500px",
       "justify_content": null,
       "justify_items": null,
       "left": null,
       "margin": null,
       "max_height": null,
       "max_width": null,
       "min_height": null,
       "min_width": null,
       "object_fit": null,
       "object_position": null,
       "order": null,
       "overflow": null,
       "overflow_x": null,
       "overflow_y": null,
       "padding": null,
       "right": null,
       "top": null,
       "visibility": null,
       "width": null
      }
     },
     "7c1c32f8231a4cf3bfa99fa214779dbb": {
      "model_module": "catboost-widget",
      "model_module_version": "^1.0.0",
      "model_name": "CatboostWidgetModel",
      "state": {
       "_dom_classes": [],
       "_model_module": "catboost-widget",
       "_model_module_version": "^1.0.0",
       "_model_name": "CatboostWidgetModel",
       "_view_count": null,
       "_view_module": "catboost-widget",
       "_view_module_version": "^1.0.0",
       "_view_name": "CatboostWidgetView",
       "data": {
        "catboost_info": {
         "content": {
          "data": {
           "iterations": [
            {
             "iteration": 0,
             "learn": [
              0.6613862131
             ],
             "passed_time": 0.3754116283,
             "remaining_time": 37.16575121,
             "test": [
              0.6636077549
             ]
            },
            {
             "iteration": 1,
             "learn": [
              0.6363146926
             ],
             "passed_time": 0.7347700007,
             "remaining_time": 36.00373003,
             "test": [
              0.635786546
             ]
            },
            {
             "iteration": 2,
             "learn": [
              0.6093937168
             ],
             "passed_time": 1.126744405,
             "remaining_time": 36.43140243,
             "test": [
              0.6095380318
             ]
            },
            {
             "iteration": 3,
             "learn": [
              0.5837495942
             ],
             "passed_time": 1.519954814,
             "remaining_time": 36.47891553,
             "test": [
              0.5847345179
             ]
            },
            {
             "iteration": 4,
             "learn": [
              0.5622290126
             ],
             "passed_time": 1.974769327,
             "remaining_time": 37.52061721,
             "test": [
              0.5612627728
             ]
            },
            {
             "iteration": 5,
             "learn": [
              0.5377940811
             ],
             "passed_time": 2.37255492,
             "remaining_time": 37.17002707,
             "test": [
              0.5390195923
             ]
            },
            {
             "iteration": 6,
             "learn": [
              0.516933255
             ],
             "passed_time": 2.82599113,
             "remaining_time": 37.54531072,
             "test": [
              0.5179182693
             ]
            },
            {
             "iteration": 7,
             "learn": [
              0.4987398512
             ],
             "passed_time": 3.188463977,
             "remaining_time": 36.66733574,
             "test": [
              0.4978753385
             ]
            },
            {
             "iteration": 8,
             "learn": [
              0.4785869386
             ],
             "passed_time": 3.551234751,
             "remaining_time": 35.90692915,
             "test": [
              0.4788139867
             ]
            },
            {
             "iteration": 9,
             "learn": [
              0.4606400891
             ],
             "passed_time": 3.93006271,
             "remaining_time": 35.37056439,
             "test": [
              0.4606704545
             ]
            },
            {
             "iteration": 10,
             "learn": [
              0.4439379287
             ],
             "passed_time": 4.314795519,
             "remaining_time": 34.91061829,
             "test": [
              0.4433844301
             ]
            },
            {
             "iteration": 11,
             "learn": [
              0.4281201608
             ],
             "passed_time": 4.691390608,
             "remaining_time": 34.40353113,
             "test": [
              0.4269005183
             ]
            },
            {
             "iteration": 12,
             "learn": [
              0.4122343258
             ],
             "passed_time": 5.07808388,
             "remaining_time": 33.98409982,
             "test": [
              0.4111710223
             ]
            },
            {
             "iteration": 13,
             "learn": [
              0.3968644472
             ],
             "passed_time": 5.471144891,
             "remaining_time": 33.60846148,
             "test": [
              0.3961478455
             ]
            },
            {
             "iteration": 14,
             "learn": [
              0.3825060214
             ],
             "passed_time": 5.884657228,
             "remaining_time": 33.34639096,
             "test": [
              0.3817884416
             ]
            },
            {
             "iteration": 15,
             "learn": [
              0.3674437354
             ],
             "passed_time": 6.380784328,
             "remaining_time": 33.49911772,
             "test": [
              0.3680554453
             ]
            },
            {
             "iteration": 16,
             "learn": [
              0.3540541843
             ],
             "passed_time": 6.826721628,
             "remaining_time": 33.33046442,
             "test": [
              0.3549123502
             ]
            },
            {
             "iteration": 17,
             "learn": [
              0.3432677033
             ],
             "passed_time": 7.16187072,
             "remaining_time": 32.62629994,
             "test": [
              0.342326433
             ]
            },
            {
             "iteration": 18,
             "learn": [
              0.3302107768
             ],
             "passed_time": 7.553485482,
             "remaining_time": 32.20170127,
             "test": [
              0.3302682385
             ]
            },
            {
             "iteration": 19,
             "learn": [
              0.319780526
             ],
             "passed_time": 8.003177967,
             "remaining_time": 32.01271187,
             "test": [
              0.3187088612
             ]
            },
            {
             "iteration": 20,
             "learn": [
              0.3071305911
             ],
             "passed_time": 8.449881256,
             "remaining_time": 31.78764854,
             "test": [
              0.3076221784
             ]
            },
            {
             "iteration": 21,
             "learn": [
              0.2969995137
             ],
             "passed_time": 8.844017678,
             "remaining_time": 31.35606268,
             "test": [
              0.2969835278
             ]
            },
            {
             "iteration": 22,
             "learn": [
              0.286933157
             ],
             "passed_time": 9.255322857,
             "remaining_time": 30.9852113,
             "test": [
              0.2867715355
             ]
            },
            {
             "iteration": 23,
             "learn": [
              0.2766501918
             ],
             "passed_time": 9.713184033,
             "remaining_time": 30.7584161,
             "test": [
              0.2769609937
             ]
            },
            {
             "iteration": 24,
             "learn": [
              0.2666423592
             ],
             "passed_time": 10.0931562,
             "remaining_time": 30.27946859,
             "test": [
              0.2675348396
             ]
            },
            {
             "iteration": 25,
             "learn": [
              0.2581458556
             ],
             "passed_time": 10.46394534,
             "remaining_time": 29.78199827,
             "test": [
              0.2584748212
             ]
            },
            {
             "iteration": 26,
             "learn": [
              0.2501042581
             ],
             "passed_time": 10.85448205,
             "remaining_time": 29.34730333,
             "test": [
              0.2497639122
             ]
            },
            {
             "iteration": 27,
             "learn": [
              0.2421103008
             ],
             "passed_time": 11.22100247,
             "remaining_time": 28.85400635,
             "test": [
              0.2413843019
             ]
            },
            {
             "iteration": 28,
             "learn": [
              0.2338242306
             ],
             "passed_time": 11.68307716,
             "remaining_time": 28.60339581,
             "test": [
              0.2333218298
             ]
            },
            {
             "iteration": 29,
             "learn": [
              0.2259958004
             ],
             "passed_time": 12.19584562,
             "remaining_time": 28.45697311,
             "test": [
              0.2255606417
             ]
            },
            {
             "iteration": 30,
             "learn": [
              0.2186767177
             ],
             "passed_time": 12.88942864,
             "remaining_time": 28.68937341,
             "test": [
              0.2180880829
             ]
            },
            {
             "iteration": 31,
             "learn": [
              0.2111037276
             ],
             "passed_time": 13.39926522,
             "remaining_time": 28.4734386,
             "test": [
              0.2108917815
             ]
            },
            {
             "iteration": 32,
             "learn": [
              0.2035511109
             ],
             "passed_time": 13.90321649,
             "remaining_time": 28.22774257,
             "test": [
              0.2039573755
             ]
            },
            {
             "iteration": 33,
             "learn": [
              0.1966571644
             ],
             "passed_time": 14.34682719,
             "remaining_time": 27.84972338,
             "test": [
              0.1972753115
             ]
            },
            {
             "iteration": 34,
             "learn": [
              0.1913380608
             ],
             "passed_time": 14.78773488,
             "remaining_time": 27.46293621,
             "test": [
              0.190840054
             ]
            },
            {
             "iteration": 35,
             "learn": [
              0.1841149693
             ],
             "passed_time": 15.14827595,
             "remaining_time": 26.93026836,
             "test": [
              0.1846352063
             ]
            },
            {
             "iteration": 36,
             "learn": [
              0.1789306492
             ],
             "passed_time": 15.5358148,
             "remaining_time": 26.45287385,
             "test": [
              0.178647299
             ]
            },
            {
             "iteration": 37,
             "learn": [
              0.1724079039
             ],
             "passed_time": 15.90464054,
             "remaining_time": 25.94967668,
             "test": [
              0.1728718412
             ]
            },
            {
             "iteration": 38,
             "learn": [
              0.1678497565
             ],
             "passed_time": 16.32787297,
             "remaining_time": 25.53846798,
             "test": [
              0.1672999005
             ]
            },
            {
             "iteration": 39,
             "learn": [
              0.1616476868
             ],
             "passed_time": 16.74630145,
             "remaining_time": 25.11945218,
             "test": [
              0.1619221371
             ]
            },
            {
             "iteration": 40,
             "learn": [
              0.1565406502
             ],
             "passed_time": 17.1678237,
             "remaining_time": 24.70491703,
             "test": [
              0.1567315999
             ]
            },
            {
             "iteration": 41,
             "learn": [
              0.1522171429
             ],
             "passed_time": 17.5818219,
             "remaining_time": 24.27965881,
             "test": [
              0.1517212664
             ]
            },
            {
             "iteration": 42,
             "learn": [
              0.1472152045
             ],
             "passed_time": 18.00722051,
             "remaining_time": 23.87003649,
             "test": [
              0.1468839227
             ]
            },
            {
             "iteration": 43,
             "learn": [
              0.1420914204
             ],
             "passed_time": 18.42189005,
             "remaining_time": 23.44604189,
             "test": [
              0.1422135807
             ]
            },
            {
             "iteration": 44,
             "learn": [
              0.1373467585
             ],
             "passed_time": 18.85122003,
             "remaining_time": 23.04038004,
             "test": [
              0.1377014966
             ]
            },
            {
             "iteration": 45,
             "learn": [
              0.133138865
             ],
             "passed_time": 19.29561968,
             "remaining_time": 22.65137963,
             "test": [
              0.1333419983
             ]
            },
            {
             "iteration": 46,
             "learn": [
              0.1291459904
             ],
             "passed_time": 19.65256816,
             "remaining_time": 22.16140665,
             "test": [
              0.1291307395
             ]
            },
            {
             "iteration": 47,
             "learn": [
              0.1252153321
             ],
             "passed_time": 20.11809937,
             "remaining_time": 21.79460765,
             "test": [
              0.1250604349
             ]
            },
            {
             "iteration": 48,
             "learn": [
              0.1213079484
             ],
             "passed_time": 20.54430711,
             "remaining_time": 21.38285026,
             "test": [
              0.1211280378
             ]
            },
            {
             "iteration": 49,
             "learn": [
              0.1174264844
             ],
             "passed_time": 20.88353462,
             "remaining_time": 20.88353462,
             "test": [
              0.1173265295
             ]
            },
            {
             "iteration": 50,
             "learn": [
              0.1135658567
             ],
             "passed_time": 21.28567366,
             "remaining_time": 20.45094136,
             "test": [
              0.1136529583
             ]
            },
            {
             "iteration": 51,
             "learn": [
              0.1100098673
             ],
             "passed_time": 21.63569156,
             "remaining_time": 19.97140759,
             "test": [
              0.1101008913
             ]
            },
            {
             "iteration": 52,
             "learn": [
              0.1071602497
             ],
             "passed_time": 21.96696946,
             "remaining_time": 19.48014273,
             "test": [
              0.1066653182
             ]
            },
            {
             "iteration": 53,
             "learn": [
              0.1036536647
             ],
             "passed_time": 22.30748108,
             "remaining_time": 19.00266907,
             "test": [
              0.1033426313
             ]
            },
            {
             "iteration": 54,
             "learn": [
              0.09998802884
             ],
             "passed_time": 22.76304116,
             "remaining_time": 18.62430641,
             "test": [
              0.1001308786
             ]
            },
            {
             "iteration": 55,
             "learn": [
              0.09739167734
             ],
             "passed_time": 23.17546468,
             "remaining_time": 18.20929368,
             "test": [
              0.09702299495
             ]
            },
            {
             "iteration": 56,
             "learn": [
              0.09402757122
             ],
             "passed_time": 23.6399198,
             "remaining_time": 17.83362371,
             "test": [
              0.09401551929
             ]
            },
            {
             "iteration": 57,
             "learn": [
              0.09148068334
             ],
             "passed_time": 24.09266105,
             "remaining_time": 17.44640973,
             "test": [
              0.0911095531
             ]
            },
            {
             "iteration": 58,
             "learn": [
              0.08821859285
             ],
             "passed_time": 24.5041643,
             "remaining_time": 17.02831756,
             "test": [
              0.0882941485
             ]
            },
            {
             "iteration": 59,
             "learn": [
              0.0857435869
             ],
             "passed_time": 24.92023057,
             "remaining_time": 16.61348705,
             "test": [
              0.08557072148
             ]
            },
            {
             "iteration": 60,
             "learn": [
              0.08286531584
             ],
             "passed_time": 25.34066385,
             "remaining_time": 16.20140803,
             "test": [
              0.08293448639
             ]
            },
            {
             "iteration": 61,
             "learn": [
              0.08037998743
             ],
             "passed_time": 25.75525581,
             "remaining_time": 15.78547936,
             "test": [
              0.08038282615
             ]
            },
            {
             "iteration": 62,
             "learn": [
              0.0782380612
             ],
             "passed_time": 26.14472871,
             "remaining_time": 15.35484067,
             "test": [
              0.07790954872
             ]
            },
            {
             "iteration": 63,
             "learn": [
              0.075773216
             ],
             "passed_time": 26.53831691,
             "remaining_time": 14.92780326,
             "test": [
              0.07551937573
             ]
            },
            {
             "iteration": 64,
             "learn": [
              0.07324062145
             ],
             "passed_time": 26.97985867,
             "remaining_time": 14.52761621,
             "test": [
              0.07320632303
             ]
            },
            {
             "iteration": 65,
             "learn": [
              0.07086567492
             ],
             "passed_time": 27.39658382,
             "remaining_time": 14.11339166,
             "test": [
              0.07096516963
             ]
            },
            {
             "iteration": 66,
             "learn": [
              0.06875130679
             ],
             "passed_time": 27.83163171,
             "remaining_time": 13.70811711,
             "test": [
              0.06879536833
             ]
            },
            {
             "iteration": 67,
             "learn": [
              0.06672806778
             ],
             "passed_time": 28.18008928,
             "remaining_time": 13.26121849,
             "test": [
              0.06669518273
             ]
            },
            {
             "iteration": 68,
             "learn": [
              0.06476135689
             ],
             "passed_time": 28.59426837,
             "remaining_time": 12.84670028,
             "test": [
              0.06466105353
             ]
            },
            {
             "iteration": 69,
             "learn": [
              0.06280961523
             ],
             "passed_time": 28.92592574,
             "remaining_time": 12.39682532,
             "test": [
              0.06269155396
             ]
            },
            {
             "iteration": 70,
             "learn": [
              0.06086407918
             ],
             "passed_time": 29.27679754,
             "remaining_time": 11.95812857,
             "test": [
              0.06078275564
             ]
            },
            {
             "iteration": 71,
             "learn": [
              0.05895845425
             ],
             "passed_time": 29.64970468,
             "remaining_time": 11.53044071,
             "test": [
              0.05893420354
             ]
            },
            {
             "iteration": 72,
             "learn": [
              0.05715360756
             ],
             "passed_time": 30.04417767,
             "remaining_time": 11.1122301,
             "test": [
              0.05714335683
             ]
            },
            {
             "iteration": 73,
             "learn": [
              0.05572849727
             ],
             "passed_time": 30.4854436,
             "remaining_time": 10.7111018,
             "test": [
              0.05540838293
             ]
            },
            {
             "iteration": 74,
             "learn": [
              0.05398175113
             ],
             "passed_time": 30.92680086,
             "remaining_time": 10.30893362,
             "test": [
              0.0537288778
             ]
            },
            {
             "iteration": 75,
             "learn": [
              0.05213036187
             ],
             "passed_time": 31.30049562,
             "remaining_time": 9.884367037,
             "test": [
              0.05209859363
             ]
            },
            {
             "iteration": 76,
             "learn": [
              0.05083118879
             ],
             "passed_time": 31.79482739,
             "remaining_time": 9.497156233,
             "test": [
              0.05052237549
             ]
            },
            {
             "iteration": 77,
             "learn": [
              0.04914485575
             ],
             "passed_time": 32.19490771,
             "remaining_time": 9.080614996,
             "test": [
              0.0489950235
             ]
            },
            {
             "iteration": 78,
             "learn": [
              0.04756605109
             ],
             "passed_time": 32.5798979,
             "remaining_time": 8.660479187,
             "test": [
              0.0475126798
             ]
            },
            {
             "iteration": 79,
             "learn": [
              0.0462192749
             ],
             "passed_time": 32.96835515,
             "remaining_time": 8.242088787,
             "test": [
              0.04607854861
             ]
            },
            {
             "iteration": 80,
             "learn": [
              0.04496029825
             ],
             "passed_time": 33.32921438,
             "remaining_time": 7.817963867,
             "test": [
              0.0446886799
             ]
            },
            {
             "iteration": 81,
             "learn": [
              0.04339522987
             ],
             "passed_time": 33.68886785,
             "remaining_time": 7.395117333,
             "test": [
              0.04334188575
             ]
            },
            {
             "iteration": 82,
             "learn": [
              0.04227591402
             ],
             "passed_time": 34.00674655,
             "remaining_time": 6.965237246,
             "test": [
              0.04203607288
             ]
            },
            {
             "iteration": 83,
             "learn": [
              0.04103362201
             ],
             "passed_time": 34.40780872,
             "remaining_time": 6.553868329,
             "test": [
              0.04077145988
             ]
            },
            {
             "iteration": 84,
             "learn": [
              0.03967329581
             ],
             "passed_time": 34.79089675,
             "remaining_time": 6.139570014,
             "test": [
              0.03954440481
             ]
            },
            {
             "iteration": 85,
             "learn": [
              0.0384574056
             ],
             "passed_time": 35.26157654,
             "remaining_time": 5.740256646,
             "test": [
              0.03835561729
             ]
            },
            {
             "iteration": 86,
             "learn": [
              0.03742613351
             ],
             "passed_time": 35.59968466,
             "remaining_time": 5.31949311,
             "test": [
              0.03720184819
             ]
            },
            {
             "iteration": 87,
             "learn": [
              0.03637678717
             ],
             "passed_time": 36.02649913,
             "remaining_time": 4.912704427,
             "test": [
              0.03608557396
             ]
            },
            {
             "iteration": 88,
             "learn": [
              0.03520433153
             ],
             "passed_time": 36.42558246,
             "remaining_time": 4.502038282,
             "test": [
              0.03500422174
             ]
            },
            {
             "iteration": 89,
             "learn": [
              0.03416346634
             ],
             "passed_time": 36.86866779,
             "remaining_time": 4.096518643,
             "test": [
              0.0339548408
             ]
            },
            {
             "iteration": 90,
             "learn": [
              0.03313648922
             ],
             "passed_time": 37.17978115,
             "remaining_time": 3.677121212,
             "test": [
              0.03293434095
             ]
            },
            {
             "iteration": 91,
             "learn": [
              0.03214689055
             ],
             "passed_time": 37.60940297,
             "remaining_time": 3.270382867,
             "test": [
              0.03194783915
             ]
            },
            {
             "iteration": 92,
             "learn": [
              0.03117144037
             ],
             "passed_time": 38.02630256,
             "remaining_time": 2.862194816,
             "test": [
              0.03099189699
             ]
            },
            {
             "iteration": 93,
             "learn": [
              0.03023219061
             ],
             "passed_time": 38.48846877,
             "remaining_time": 2.456710773,
             "test": [
              0.03006523055
             ]
            },
            {
             "iteration": 94,
             "learn": [
              0.02931500845
             ],
             "passed_time": 38.93935973,
             "remaining_time": 2.049439986,
             "test": [
              0.02916560706
             ]
            },
            {
             "iteration": 95,
             "learn": [
              0.02853859435
             ],
             "passed_time": 39.21047944,
             "remaining_time": 1.633769977,
             "test": [
              0.0282912715
             ]
            },
            {
             "iteration": 96,
             "learn": [
              0.02763678967
             ],
             "passed_time": 39.50976989,
             "remaining_time": 1.221951646,
             "test": [
              0.02744381209
             ]
            },
            {
             "iteration": 97,
             "learn": [
              0.02673323035
             ],
             "passed_time": 39.93532546,
             "remaining_time": 0.815006642,
             "test": [
              0.02662531783
             ]
            },
            {
             "iteration": 98,
             "learn": [
              0.02605484911
             ],
             "passed_time": 40.21573178,
             "remaining_time": 0.406219513,
             "test": [
              0.02582832399
             ]
            },
            {
             "iteration": 99,
             "learn": [
              0.02518732555
             ],
             "passed_time": 40.47931444,
             "remaining_time": 0,
             "test": [
              0.02505522119
             ]
            }
           ],
           "meta": {
            "iteration_count": 100,
            "launch_mode": "Train",
            "learn_metrics": [
             {
              "best_value": "Min",
              "name": "CrossEntropy"
             }
            ],
            "learn_sets": [
             "learn"
            ],
            "name": "experiment",
            "parameters": "",
            "test_metrics": [
             {
              "best_value": "Min",
              "name": "CrossEntropy"
             }
            ],
            "test_sets": [
             "test"
            ]
           }
          },
          "passed_iterations": 99,
          "total_iterations": 100
         },
         "name": "catboost_info",
         "path": "catboost_info"
        }
       },
       "layout": "IPY_MODEL_359cf23e4ba24c47ba8a7e8cce7070dd"
      }
     },
     "835216224a3e40d3ac933fbc09f95a25": {
      "model_module": "catboost-widget",
      "model_module_version": "^1.0.0",
      "model_name": "CatboostWidgetModel",
      "state": {
       "_dom_classes": [],
       "_model_module": "catboost-widget",
       "_model_module_version": "^1.0.0",
       "_model_name": "CatboostWidgetModel",
       "_view_count": null,
       "_view_module": "catboost-widget",
       "_view_module_version": "^1.0.0",
       "_view_name": "CatboostWidgetView",
       "data": {
        "catboost_info": {
         "content": {
          "data": {
           "iterations": [
            {
             "iteration": 0,
             "learn": [
              0.6622397206
             ],
             "passed_time": 0.4095023851,
             "remaining_time": 40.54073613,
             "test": [
              0.6641809197
             ]
            },
            {
             "iteration": 1,
             "learn": [
              0.6369720556
             ],
             "passed_time": 0.8156304062,
             "remaining_time": 39.9658899,
             "test": [
              0.6368507701
             ]
            },
            {
             "iteration": 2,
             "learn": [
              0.6106945456
             ],
             "passed_time": 1.21126225,
             "remaining_time": 39.16414609,
             "test": [
              0.6110667064
             ]
            },
            {
             "iteration": 3,
             "learn": [
              0.5860344302
             ],
             "passed_time": 1.592623948,
             "remaining_time": 38.22297476,
             "test": [
              0.5868283752
             ]
            },
            {
             "iteration": 4,
             "learn": [
              0.5643112243
             ],
             "passed_time": 2.003855036,
             "remaining_time": 38.07324568,
             "test": [
              0.5638424379
             ]
            },
            {
             "iteration": 5,
             "learn": [
              0.5404903297
             ],
             "passed_time": 2.407265978,
             "remaining_time": 37.71383366,
             "test": [
              0.5419635797
             ]
            },
            {
             "iteration": 6,
             "learn": [
              0.5198948102
             ],
             "passed_time": 2.782105928,
             "remaining_time": 36.96226447,
             "test": [
              0.5212181624
             ]
            },
            {
             "iteration": 7,
             "learn": [
              0.5016908001
             ],
             "passed_time": 3.247635154,
             "remaining_time": 37.34780427,
             "test": [
              0.5015196877
             ]
            },
            {
             "iteration": 8,
             "learn": [
              0.4819527043
             ],
             "passed_time": 3.845171758,
             "remaining_time": 38.87895888,
             "test": [
              0.4827567735
             ]
            },
            {
             "iteration": 9,
             "learn": [
              0.4644786618
             ],
             "passed_time": 4.373427556,
             "remaining_time": 39.36084801,
             "test": [
              0.4650079789
             ]
            },
            {
             "iteration": 10,
             "learn": [
              0.4478151334
             ],
             "passed_time": 4.791640188,
             "remaining_time": 38.76872516,
             "test": [
              0.448006345
             ]
            },
            {
             "iteration": 11,
             "learn": [
              0.4322552623
             ],
             "passed_time": 5.202640013,
             "remaining_time": 38.15269343,
             "test": [
              0.4318599671
             ]
            },
            {
             "iteration": 12,
             "learn": [
              0.4165646088
             ],
             "passed_time": 5.562906021,
             "remaining_time": 37.22867875,
             "test": [
              0.4164064348
             ]
            },
            {
             "iteration": 13,
             "learn": [
              0.4014882434
             ],
             "passed_time": 5.983461901,
             "remaining_time": 36.75555168,
             "test": [
              0.4016346246
             ]
            },
            {
             "iteration": 14,
             "learn": [
              0.3874650884
             ],
             "passed_time": 6.364451981,
             "remaining_time": 36.06522789,
             "test": [
              0.3876857575
             ]
            },
            {
             "iteration": 15,
             "learn": [
              0.3727089861
             ],
             "passed_time": 6.742846618,
             "remaining_time": 35.39994474,
             "test": [
              0.3742044061
             ]
            },
            {
             "iteration": 16,
             "learn": [
              0.3596100959
             ],
             "passed_time": 7.135371473,
             "remaining_time": 34.8374019,
             "test": [
              0.3613400605
             ]
            },
            {
             "iteration": 17,
             "learn": [
              0.3487673723
             ],
             "passed_time": 7.543827528,
             "remaining_time": 34.3663254,
             "test": [
              0.348963832
             ]
            },
            {
             "iteration": 18,
             "learn": [
              0.3360330131
             ],
             "passed_time": 7.940860024,
             "remaining_time": 33.8531401,
             "test": [
              0.3371157331
             ]
            },
            {
             "iteration": 19,
             "learn": [
              0.325576976
             ],
             "passed_time": 8.350329859,
             "remaining_time": 33.40131944,
             "test": [
              0.3256974401
             ]
            },
            {
             "iteration": 20,
             "learn": [
              0.3133304755
             ],
             "passed_time": 8.715832356,
             "remaining_time": 32.78813125,
             "test": [
              0.3147472665
             ]
            },
            {
             "iteration": 21,
             "learn": [
              0.3031491033
             ],
             "passed_time": 9.141751143,
             "remaining_time": 32.41166314,
             "test": [
              0.3042420609
             ]
            },
            {
             "iteration": 22,
             "learn": [
              0.2931330737
             ],
             "passed_time": 9.54066706,
             "remaining_time": 31.94049407,
             "test": [
              0.2941331771
             ]
            },
            {
             "iteration": 23,
             "learn": [
              0.2830926633
             ],
             "passed_time": 9.981906715,
             "remaining_time": 31.60937126,
             "test": [
              0.2844108208
             ]
            },
            {
             "iteration": 24,
             "learn": [
              0.2733302456
             ],
             "passed_time": 10.37930294,
             "remaining_time": 31.13790882,
             "test": [
              0.2750885983
             ]
            },
            {
             "iteration": 25,
             "learn": [
              0.2648022165
             ],
             "passed_time": 10.76211865,
             "remaining_time": 30.63064539,
             "test": [
              0.2662415785
             ]
            },
            {
             "iteration": 26,
             "learn": [
              0.2567733092
             ],
             "passed_time": 11.17108111,
             "remaining_time": 30.20329338,
             "test": [
              0.2576274892
             ]
            },
            {
             "iteration": 27,
             "learn": [
              0.2488076436
             ],
             "passed_time": 11.57710185,
             "remaining_time": 29.76969048,
             "test": [
              0.2493431486
             ]
            },
            {
             "iteration": 28,
             "learn": [
              0.2406152554
             ],
             "passed_time": 11.96062524,
             "remaining_time": 29.28291007,
             "test": [
              0.2413500412
             ]
            },
            {
             "iteration": 29,
             "learn": [
              0.2328644652
             ],
             "passed_time": 12.35350016,
             "remaining_time": 28.8248337,
             "test": [
              0.2337164511
             ]
            },
            {
             "iteration": 30,
             "learn": [
              0.2256529408
             ],
             "passed_time": 12.8336817,
             "remaining_time": 28.56529152,
             "test": [
              0.2263679748
             ]
            },
            {
             "iteration": 31,
             "learn": [
              0.2181927076
             ],
             "passed_time": 13.22058894,
             "remaining_time": 28.09375149,
             "test": [
              0.2192601708
             ]
            },
            {
             "iteration": 32,
             "learn": [
              0.2107926535
             ],
             "passed_time": 13.65833194,
             "remaining_time": 27.73055273,
             "test": [
              0.212371322
             ]
            },
            {
             "iteration": 33,
             "learn": [
              0.2040822858
             ],
             "passed_time": 14.03853218,
             "remaining_time": 27.25126835,
             "test": [
              0.2058020242
             ]
            },
            {
             "iteration": 34,
             "learn": [
              0.1986359372
             ],
             "passed_time": 14.45018549,
             "remaining_time": 26.83605877,
             "test": [
              0.1994286077
             ]
            },
            {
             "iteration": 35,
             "learn": [
              0.191596646
             ],
             "passed_time": 14.85232926,
             "remaining_time": 26.40414091,
             "test": [
              0.1932313952
             ]
            },
            {
             "iteration": 36,
             "learn": [
              0.186333083
             ],
             "passed_time": 15.27738342,
             "remaining_time": 26.01284205,
             "test": [
              0.1873704934
             ]
            },
            {
             "iteration": 37,
             "learn": [
              0.1800435157
             ],
             "passed_time": 15.68476277,
             "remaining_time": 25.59092873,
             "test": [
              0.181702432
             ]
            },
            {
             "iteration": 38,
             "learn": [
              0.1753592147
             ],
             "passed_time": 16.06820674,
             "remaining_time": 25.13232336,
             "test": [
              0.1761373877
             ]
            },
            {
             "iteration": 39,
             "learn": [
              0.1694298495
             ],
             "passed_time": 16.4925784,
             "remaining_time": 24.7388676,
             "test": [
              0.1707974331
             ]
            },
            {
             "iteration": 40,
             "learn": [
              0.1642427119
             ],
             "passed_time": 16.91429282,
             "remaining_time": 24.34007991,
             "test": [
              0.1657405197
             ]
            },
            {
             "iteration": 41,
             "learn": [
              0.1598675115
             ],
             "passed_time": 17.30250085,
             "remaining_time": 23.89392974,
             "test": [
              0.1608305854
             ]
            },
            {
             "iteration": 42,
             "learn": [
              0.1549107872
             ],
             "passed_time": 17.73692929,
             "remaining_time": 23.51174348,
             "test": [
              0.1560251501
             ]
            },
            {
             "iteration": 43,
             "learn": [
              0.1499934453
             ],
             "passed_time": 18.11799995,
             "remaining_time": 23.05927267,
             "test": [
              0.1514474993
             ]
            },
            {
             "iteration": 44,
             "learn": [
              0.1453031392
             ],
             "passed_time": 18.51526359,
             "remaining_time": 22.62976661,
             "test": [
              0.1470087352
             ]
            },
            {
             "iteration": 45,
             "learn": [
              0.1411015708
             ],
             "passed_time": 18.9122109,
             "remaining_time": 22.20129106,
             "test": [
              0.1427323535
             ]
            },
            {
             "iteration": 46,
             "learn": [
              0.1370922169
             ],
             "passed_time": 19.30820147,
             "remaining_time": 21.77307825,
             "test": [
              0.1386013581
             ]
            },
            {
             "iteration": 47,
             "learn": [
              0.1331840013
             ],
             "passed_time": 19.66923503,
             "remaining_time": 21.30833794,
             "test": [
              0.1346596045
             ]
            },
            {
             "iteration": 48,
             "learn": [
              0.1292901426
             ],
             "passed_time": 20.04449939,
             "remaining_time": 20.86264222,
             "test": [
              0.1308300421
             ]
            },
            {
             "iteration": 49,
             "learn": [
              0.1254657004
             ],
             "passed_time": 20.44592235,
             "remaining_time": 20.44592235,
             "test": [
              0.1271237388
             ]
            },
            {
             "iteration": 50,
             "learn": [
              0.1216530216
             ],
             "passed_time": 20.85568498,
             "remaining_time": 20.03781498,
             "test": [
              0.1235020893
             ]
            },
            {
             "iteration": 51,
             "learn": [
              0.1181460827
             ],
             "passed_time": 21.22934641,
             "remaining_time": 19.59631976,
             "test": [
              0.1199991214
             ]
            },
            {
             "iteration": 52,
             "learn": [
              0.1149477664
             ],
             "passed_time": 21.64409831,
             "remaining_time": 19.19382303,
             "test": [
              0.1166762909
             ]
            },
            {
             "iteration": 53,
             "learn": [
              0.1117563338
             ],
             "passed_time": 22.04288755,
             "remaining_time": 18.77727458,
             "test": [
              0.113438968
             ]
            },
            {
             "iteration": 54,
             "learn": [
              0.1081814211
             ],
             "passed_time": 22.40984375,
             "remaining_time": 18.3353267,
             "test": [
              0.1102360548
             ]
            },
            {
             "iteration": 55,
             "learn": [
              0.1054831623
             ],
             "passed_time": 22.81682213,
             "remaining_time": 17.92750311,
             "test": [
              0.1071943022
             ]
            },
            {
             "iteration": 56,
             "learn": [
              0.1022167963
             ],
             "passed_time": 23.20562567,
             "remaining_time": 17.50599832,
             "test": [
              0.1042293834
             ]
            },
            {
             "iteration": 57,
             "learn": [
              0.09959551815
             ],
             "passed_time": 23.60021808,
             "remaining_time": 17.08981309,
             "test": [
              0.1012699367
             ]
            },
            {
             "iteration": 58,
             "learn": [
              0.09641993673
             ],
             "passed_time": 24.10199991,
             "remaining_time": 16.7488474,
             "test": [
              0.09847890746
             ]
            },
            {
             "iteration": 59,
             "learn": [
              0.09394923845
             ],
             "passed_time": 24.4825813,
             "remaining_time": 16.32172087,
             "test": [
              0.09580302492
             ]
            },
            {
             "iteration": 60,
             "learn": [
              0.09113906647
             ],
             "passed_time": 24.88554445,
             "remaining_time": 15.91043006,
             "test": [
              0.09321421326
             ]
            },
            {
             "iteration": 61,
             "learn": [
              0.08863054063
             ],
             "passed_time": 25.27323444,
             "remaining_time": 15.49004692,
             "test": [
              0.09071430172
             ]
            },
            {
             "iteration": 62,
             "learn": [
              0.0864590777
             ],
             "passed_time": 25.69185129,
             "remaining_time": 15.08886505,
             "test": [
              0.08829246899
             ]
            },
            {
             "iteration": 63,
             "learn": [
              0.08397861079
             ],
             "passed_time": 26.09738719,
             "remaining_time": 14.67978029,
             "test": [
              0.08595436423
             ]
            },
            {
             "iteration": 64,
             "learn": [
              0.08155377437
             ],
             "passed_time": 26.53072662,
             "remaining_time": 14.28577587,
             "test": [
              0.08367079464
             ]
            },
            {
             "iteration": 65,
             "learn": [
              0.07916640014
             ],
             "passed_time": 26.92811913,
             "remaining_time": 13.87206137,
             "test": [
              0.08142201428
             ]
            },
            {
             "iteration": 66,
             "learn": [
              0.07708081333
             ],
             "passed_time": 27.33037062,
             "remaining_time": 13.46122732,
             "test": [
              0.07931265159
             ]
            },
            {
             "iteration": 67,
             "learn": [
              0.07507177429
             ],
             "passed_time": 27.7404052,
             "remaining_time": 13.05430833,
             "test": [
              0.0773062097
             ]
            },
            {
             "iteration": 68,
             "learn": [
              0.07308861037
             ],
             "passed_time": 28.14199468,
             "remaining_time": 12.64350486,
             "test": [
              0.07521847328
             ]
            },
            {
             "iteration": 69,
             "learn": [
              0.0711226616
             ],
             "passed_time": 28.53777696,
             "remaining_time": 12.23047584,
             "test": [
              0.07329657306
             ]
            },
            {
             "iteration": 70,
             "learn": [
              0.06917412351
             ],
             "passed_time": 28.93644864,
             "remaining_time": 11.81911283,
             "test": [
              0.07142491167
             ]
            },
            {
             "iteration": 71,
             "learn": [
              0.06732277552
             ],
             "passed_time": 29.32057052,
             "remaining_time": 11.40244409,
             "test": [
              0.06963240474
             ]
            },
            {
             "iteration": 72,
             "learn": [
              0.0655268844
             ],
             "passed_time": 29.71061086,
             "remaining_time": 10.98885607,
             "test": [
              0.06788983706
             ]
            },
            {
             "iteration": 73,
             "learn": [
              0.06396865736
             ],
             "passed_time": 30.13068544,
             "remaining_time": 10.58645705,
             "test": [
              0.06616594753
             ]
            },
            {
             "iteration": 74,
             "learn": [
              0.06223431783
             ],
             "passed_time": 30.58626784,
             "remaining_time": 10.19542261,
             "test": [
              0.06451437506
             ]
            },
            {
             "iteration": 75,
             "learn": [
              0.06055418337
             ],
             "passed_time": 30.95739906,
             "remaining_time": 9.776020755,
             "test": [
              0.06296364406
             ]
            },
            {
             "iteration": 76,
             "learn": [
              0.05910020702
             ],
             "passed_time": 31.33503753,
             "remaining_time": 9.359816406,
             "test": [
              0.06139020811
             ]
            },
            {
             "iteration": 77,
             "learn": [
              0.05741414747
             ],
             "passed_time": 31.75395888,
             "remaining_time": 8.956244813,
             "test": [
              0.05979959417
             ]
            },
            {
             "iteration": 78,
             "learn": [
              0.05591762982
             ],
             "passed_time": 32.14788206,
             "remaining_time": 8.545639534,
             "test": [
              0.05836496189
             ]
            },
            {
             "iteration": 79,
             "learn": [
              0.05444979686
             ],
             "passed_time": 32.55779634,
             "remaining_time": 8.139449085,
             "test": [
              0.05689391852
             ]
            },
            {
             "iteration": 80,
             "learn": [
              0.05317133219
             ],
             "passed_time": 32.91658964,
             "remaining_time": 7.721175347,
             "test": [
              0.05555747535
             ]
            },
            {
             "iteration": 81,
             "learn": [
              0.05173069652
             ],
             "passed_time": 33.28625439,
             "remaining_time": 7.306738768,
             "test": [
              0.05425674944
             ]
            },
            {
             "iteration": 82,
             "learn": [
              0.05049003479
             ],
             "passed_time": 33.6924085,
             "remaining_time": 6.900854753,
             "test": [
              0.05298470984
             ]
            },
            {
             "iteration": 83,
             "learn": [
              0.04923455726
             ],
             "passed_time": 34.09220882,
             "remaining_time": 6.49375406,
             "test": [
              0.05174142187
             ]
            },
            {
             "iteration": 84,
             "learn": [
              0.04792429317
             ],
             "passed_time": 34.48963472,
             "remaining_time": 6.086406126,
             "test": [
              0.05052427546
             ]
            },
            {
             "iteration": 85,
             "learn": [
              0.04667621385
             ],
             "passed_time": 34.91288667,
             "remaining_time": 5.68349318,
             "test": [
              0.04935407862
             ]
            },
            {
             "iteration": 86,
             "learn": [
              0.04558605743
             ],
             "passed_time": 35.41149563,
             "remaining_time": 5.29137291,
             "test": [
              0.04827512452
             ]
            },
            {
             "iteration": 87,
             "learn": [
              0.04451763525
             ],
             "passed_time": 35.95914182,
             "remaining_time": 4.903519339,
             "test": [
              0.04715202341
             ]
            },
            {
             "iteration": 88,
             "learn": [
              0.04338978581
             ],
             "passed_time": 36.51207008,
             "remaining_time": 4.512727763,
             "test": [
              0.04603364749
             ]
            },
            {
             "iteration": 89,
             "learn": [
              0.04233861576
             ],
             "passed_time": 36.93248672,
             "remaining_time": 4.103609636,
             "test": [
              0.04500993226
             ]
            },
            {
             "iteration": 90,
             "learn": [
              0.04131242751
             ],
             "passed_time": 37.31693995,
             "remaining_time": 3.690686368,
             "test": [
              0.04401822841
             ]
            },
            {
             "iteration": 91,
             "learn": [
              0.04029970413
             ],
             "passed_time": 37.69858797,
             "remaining_time": 3.278138084,
             "test": [
              0.04299917368
             ]
            },
            {
             "iteration": 92,
             "learn": [
              0.0393319636
             ],
             "passed_time": 38.07463592,
             "remaining_time": 2.865832811,
             "test": [
              0.0420084613
             ]
            },
            {
             "iteration": 93,
             "learn": [
              0.03835297176
             ],
             "passed_time": 38.43970554,
             "remaining_time": 2.453598226,
             "test": [
              0.04107662131
             ]
            },
            {
             "iteration": 94,
             "learn": [
              0.0374594612
             ],
             "passed_time": 38.81693878,
             "remaining_time": 2.042996778,
             "test": [
              0.04015399487
             ]
            },
            {
             "iteration": 95,
             "learn": [
              0.03663926907
             ],
             "passed_time": 39.21636434,
             "remaining_time": 1.634015181,
             "test": [
              0.03932662453
             ]
            },
            {
             "iteration": 96,
             "learn": [
              0.03574104491
             ],
             "passed_time": 39.60512171,
             "remaining_time": 1.224900671,
             "test": [
              0.0385363735
             ]
            },
            {
             "iteration": 97,
             "learn": [
              0.03489597707
             ],
             "passed_time": 39.99663257,
             "remaining_time": 0.8162578076,
             "test": [
              0.03767997753
             ]
            },
            {
             "iteration": 98,
             "learn": [
              0.03415316371
             ],
             "passed_time": 40.3717593,
             "remaining_time": 0.4077955485,
             "test": [
              0.03689311219
             ]
            },
            {
             "iteration": 99,
             "learn": [
              0.03331256934
             ],
             "passed_time": 40.73886254,
             "remaining_time": 0,
             "test": [
              0.03605601056
             ]
            }
           ],
           "meta": {
            "iteration_count": 100,
            "launch_mode": "Train",
            "learn_metrics": [
             {
              "best_value": "Min",
              "name": "CrossEntropy"
             }
            ],
            "learn_sets": [
             "learn"
            ],
            "name": "experiment",
            "parameters": "",
            "test_metrics": [
             {
              "best_value": "Min",
              "name": "CrossEntropy"
             }
            ],
            "test_sets": [
             "test"
            ]
           }
          },
          "passed_iterations": 99,
          "total_iterations": 100
         },
         "name": "catboost_info",
         "path": "catboost_info"
        }
       },
       "layout": "IPY_MODEL_bbe7a99a91774457874e85917829d28f"
      }
     },
     "851a49eb9fd940008bdf87e6f28c4f58": {
      "model_module": "@jupyter-widgets/base",
      "model_module_version": "1.2.0",
      "model_name": "LayoutModel",
      "state": {
       "_model_module": "@jupyter-widgets/base",
       "_model_module_version": "1.2.0",
       "_model_name": "LayoutModel",
       "_view_count": null,
       "_view_module": "@jupyter-widgets/base",
       "_view_module_version": "1.2.0",
       "_view_name": "LayoutView",
       "align_content": null,
       "align_items": null,
       "align_self": "stretch",
       "border": null,
       "bottom": null,
       "display": null,
       "flex": null,
       "flex_flow": null,
       "grid_area": null,
       "grid_auto_columns": null,
       "grid_auto_flow": null,
       "grid_auto_rows": null,
       "grid_column": null,
       "grid_gap": null,
       "grid_row": null,
       "grid_template_areas": null,
       "grid_template_columns": null,
       "grid_template_rows": null,
       "height": "500px",
       "justify_content": null,
       "justify_items": null,
       "left": null,
       "margin": null,
       "max_height": null,
       "max_width": null,
       "min_height": null,
       "min_width": null,
       "object_fit": null,
       "object_position": null,
       "order": null,
       "overflow": null,
       "overflow_x": null,
       "overflow_y": null,
       "padding": null,
       "right": null,
       "top": null,
       "visibility": null,
       "width": null
      }
     },
     "916ec0c29ff848bbb6d1de680c8e3da2": {
      "model_module": "@jupyter-widgets/base",
      "model_module_version": "1.2.0",
      "model_name": "LayoutModel",
      "state": {
       "_model_module": "@jupyter-widgets/base",
       "_model_module_version": "1.2.0",
       "_model_name": "LayoutModel",
       "_view_count": null,
       "_view_module": "@jupyter-widgets/base",
       "_view_module_version": "1.2.0",
       "_view_name": "LayoutView",
       "align_content": null,
       "align_items": null,
       "align_self": "stretch",
       "border": null,
       "bottom": null,
       "display": null,
       "flex": null,
       "flex_flow": null,
       "grid_area": null,
       "grid_auto_columns": null,
       "grid_auto_flow": null,
       "grid_auto_rows": null,
       "grid_column": null,
       "grid_gap": null,
       "grid_row": null,
       "grid_template_areas": null,
       "grid_template_columns": null,
       "grid_template_rows": null,
       "height": "500px",
       "justify_content": null,
       "justify_items": null,
       "left": null,
       "margin": null,
       "max_height": null,
       "max_width": null,
       "min_height": null,
       "min_width": null,
       "object_fit": null,
       "object_position": null,
       "order": null,
       "overflow": null,
       "overflow_x": null,
       "overflow_y": null,
       "padding": null,
       "right": null,
       "top": null,
       "visibility": null,
       "width": null
      }
     },
     "a0f0d56976e647e38440098fd55108b3": {
      "model_module": "catboost-widget",
      "model_module_version": "^1.0.0",
      "model_name": "CatboostWidgetModel",
      "state": {
       "_dom_classes": [],
       "_model_module": "catboost-widget",
       "_model_module_version": "^1.0.0",
       "_model_name": "CatboostWidgetModel",
       "_view_count": null,
       "_view_module": "catboost-widget",
       "_view_module_version": "^1.0.0",
       "_view_name": "CatboostWidgetView",
       "data": {
        "catboost_info": {
         "content": {
          "data": {
           "iterations": [
            {
             "iteration": 0,
             "learn": [
              0.6728652485
             ],
             "passed_time": 0.3895354802,
             "remaining_time": 38.56401254,
             "test": [
              0.6719397587
             ]
            },
            {
             "iteration": 1,
             "learn": [
              0.6529136153
             ],
             "passed_time": 0.7810873573,
             "remaining_time": 38.27328051,
             "test": [
              0.651823273
             ]
            },
            {
             "iteration": 2,
             "learn": [
              0.633386698
             ],
             "passed_time": 1.157227333,
             "remaining_time": 37.41701709,
             "test": [
              0.6324544764
             ]
            },
            {
             "iteration": 3,
             "learn": [
              0.6161644049
             ],
             "passed_time": 1.535768932,
             "remaining_time": 36.85845437,
             "test": [
              0.6146510824
             ]
            },
            {
             "iteration": 4,
             "learn": [
              0.5999381004
             ],
             "passed_time": 1.936158811,
             "remaining_time": 36.7870174,
             "test": [
              0.5977670827
             ]
            },
            {
             "iteration": 5,
             "learn": [
              0.5832436488
             ],
             "passed_time": 2.315693953,
             "remaining_time": 36.27920527,
             "test": [
              0.5810748316
             ]
            },
            {
             "iteration": 6,
             "learn": [
              0.5686165199
             ],
             "passed_time": 2.844096888,
             "remaining_time": 37.78585865,
             "test": [
              0.5656978546
             ]
            },
            {
             "iteration": 7,
             "learn": [
              0.5551621835
             ],
             "passed_time": 3.358404615,
             "remaining_time": 38.62165307,
             "test": [
              0.5516351427
             ]
            },
            {
             "iteration": 8,
             "learn": [
              0.5412263665
             ],
             "passed_time": 3.900819355,
             "remaining_time": 39.44161793,
             "test": [
              0.5372425868
             ]
            },
            {
             "iteration": 9,
             "learn": [
              0.5286494967
             ],
             "passed_time": 4.293410681,
             "remaining_time": 38.64069613,
             "test": [
              0.5237407764
             ]
            },
            {
             "iteration": 10,
             "learn": [
              0.5155727784
             ],
             "passed_time": 4.677251506,
             "remaining_time": 37.84321673,
             "test": [
              0.5106121546
             ]
            },
            {
             "iteration": 11,
             "learn": [
              0.5034059502
             ],
             "passed_time": 5.060112431,
             "remaining_time": 37.10749116,
             "test": [
              0.4981225545
             ]
            },
            {
             "iteration": 12,
             "learn": [
              0.491884132
             ],
             "passed_time": 5.466582536,
             "remaining_time": 36.58405236,
             "test": [
              0.4863693686
             ]
            },
            {
             "iteration": 13,
             "learn": [
              0.4800386478
             ],
             "passed_time": 5.837848565,
             "remaining_time": 35.86106976,
             "test": [
              0.4742815087
             ]
            },
            {
             "iteration": 14,
             "learn": [
              0.4700975634
             ],
             "passed_time": 6.219936373,
             "remaining_time": 35.24630611,
             "test": [
              0.463981338
             ]
            },
            {
             "iteration": 15,
             "learn": [
              0.4596230886
             ],
             "passed_time": 6.59469312,
             "remaining_time": 34.62213888,
             "test": [
              0.4529599811
             ]
            },
            {
             "iteration": 16,
             "learn": [
              0.4493134525
             ],
             "passed_time": 6.967897325,
             "remaining_time": 34.019734,
             "test": [
              0.4429860087
             ]
            },
            {
             "iteration": 17,
             "learn": [
              0.4398725779
             ],
             "passed_time": 7.399273596,
             "remaining_time": 33.70780194,
             "test": [
              0.4334012892
             ]
            },
            {
             "iteration": 18,
             "learn": [
              0.4298992956
             ],
             "passed_time": 7.781252083,
             "remaining_time": 33.17270625,
             "test": [
              0.4235721981
             ]
            },
            {
             "iteration": 19,
             "learn": [
              0.4210979502
             ],
             "passed_time": 8.158801587,
             "remaining_time": 32.63520635,
             "test": [
              0.4140186389
             ]
            },
            {
             "iteration": 20,
             "learn": [
              0.4121759268
             ],
             "passed_time": 8.548384757,
             "remaining_time": 32.15820932,
             "test": [
              0.4048684322
             ]
            },
            {
             "iteration": 21,
             "learn": [
              0.4034430863
             ],
             "passed_time": 8.931111909,
             "remaining_time": 31.66485131,
             "test": [
              0.3960862643
             ]
            },
            {
             "iteration": 22,
             "learn": [
              0.3953492128
             ],
             "passed_time": 9.315853909,
             "remaining_time": 31.18785874,
             "test": [
              0.3877726789
             ]
            },
            {
             "iteration": 23,
             "learn": [
              0.3875898219
             ],
             "passed_time": 9.699567348,
             "remaining_time": 30.7152966,
             "test": [
              0.3797323629
             ]
            },
            {
             "iteration": 24,
             "learn": [
              0.3800477296
             ],
             "passed_time": 10.10736876,
             "remaining_time": 30.32210628,
             "test": [
              0.3720389193
             ]
            },
            {
             "iteration": 25,
             "learn": [
              0.3726746797
             ],
             "passed_time": 10.53338377,
             "remaining_time": 29.97963072,
             "test": [
              0.3649400036
             ]
            },
            {
             "iteration": 26,
             "learn": [
              0.3658535438
             ],
             "passed_time": 10.96792912,
             "remaining_time": 29.65403058,
             "test": [
              0.3580076679
             ]
            },
            {
             "iteration": 27,
             "learn": [
              0.3593488315
             ],
             "passed_time": 11.37779715,
             "remaining_time": 29.25719268,
             "test": [
              0.3513658642
             ]
            },
            {
             "iteration": 28,
             "learn": [
              0.3524846631
             ],
             "passed_time": 11.84215031,
             "remaining_time": 28.99285076,
             "test": [
              0.3446023286
             ]
            },
            {
             "iteration": 29,
             "learn": [
              0.3462700684
             ],
             "passed_time": 12.23674451,
             "remaining_time": 28.55240386,
             "test": [
              0.3383954492
             ]
            },
            {
             "iteration": 30,
             "learn": [
              0.3398302019
             ],
             "passed_time": 12.70115309,
             "remaining_time": 28.2703085,
             "test": [
              0.3320992284
             ]
            },
            {
             "iteration": 31,
             "learn": [
              0.3340307262
             ],
             "passed_time": 13.10429183,
             "remaining_time": 27.84662015,
             "test": [
              0.3261187863
             ]
            },
            {
             "iteration": 32,
             "learn": [
              0.3280496697
             ],
             "passed_time": 13.55787515,
             "remaining_time": 27.52659501,
             "test": [
              0.3201782664
             ]
            },
            {
             "iteration": 33,
             "learn": [
              0.3222712568
             ],
             "passed_time": 13.9814037,
             "remaining_time": 27.14037189,
             "test": [
              0.3145833663
             ]
            },
            {
             "iteration": 34,
             "learn": [
              0.317036916
             ],
             "passed_time": 14.38927689,
             "remaining_time": 26.72294279,
             "test": [
              0.3091553738
             ]
            },
            {
             "iteration": 35,
             "learn": [
              0.3114928343
             ],
             "passed_time": 14.86172854,
             "remaining_time": 26.42085074,
             "test": [
              0.3037874747
             ]
            },
            {
             "iteration": 36,
             "learn": [
              0.3068052552
             ],
             "passed_time": 15.26992288,
             "remaining_time": 26.00013895,
             "test": [
              0.2987766218
             ]
            },
            {
             "iteration": 37,
             "learn": [
              0.3017123242
             ],
             "passed_time": 15.72201499,
             "remaining_time": 25.65170868,
             "test": [
              0.2936826197
             ]
            },
            {
             "iteration": 38,
             "learn": [
              0.2967118198
             ],
             "passed_time": 16.10634939,
             "remaining_time": 25.19198238,
             "test": [
              0.2888468287
             ]
            },
            {
             "iteration": 39,
             "learn": [
              0.291761688
             ],
             "passed_time": 16.51084586,
             "remaining_time": 24.76626878,
             "test": [
              0.2839282536
             ]
            },
            {
             "iteration": 40,
             "learn": [
              0.286968539
             ],
             "passed_time": 16.91643851,
             "remaining_time": 24.34316762,
             "test": [
              0.2791493984
             ]
            },
            {
             "iteration": 41,
             "learn": [
              0.2825848017
             ],
             "passed_time": 17.33358262,
             "remaining_time": 23.93685218,
             "test": [
              0.27473701
             ]
            },
            {
             "iteration": 42,
             "learn": [
              0.2783278286
             ],
             "passed_time": 17.76193546,
             "remaining_time": 23.54489119,
             "test": [
              0.2703313773
             ]
            },
            {
             "iteration": 43,
             "learn": [
              0.2741962818
             ],
             "passed_time": 18.16604734,
             "remaining_time": 23.12042388,
             "test": [
              0.2661558191
             ]
            },
            {
             "iteration": 44,
             "learn": [
              0.2703420755
             ],
             "passed_time": 18.59419953,
             "remaining_time": 22.72624387,
             "test": [
              0.2620728136
             ]
            },
            {
             "iteration": 45,
             "learn": [
              0.2661513601
             ],
             "passed_time": 18.9843317,
             "remaining_time": 22.2859546,
             "test": [
              0.2580521605
             ]
            },
            {
             "iteration": 46,
             "learn": [
              0.2623832622
             ],
             "passed_time": 19.44325348,
             "remaining_time": 21.92537094,
             "test": [
              0.2542796384
             ]
            },
            {
             "iteration": 47,
             "learn": [
              0.2586385724
             ],
             "passed_time": 19.82614236,
             "remaining_time": 21.47832089,
             "test": [
              0.250645618
             ]
            },
            {
             "iteration": 48,
             "learn": [
              0.2549640559
             ],
             "passed_time": 20.21280382,
             "remaining_time": 21.03781623,
             "test": [
              0.2470510142
             ]
            },
            {
             "iteration": 49,
             "learn": [
              0.2513852235
             ],
             "passed_time": 20.63730665,
             "remaining_time": 20.63730665,
             "test": [
              0.2436040155
             ]
            },
            {
             "iteration": 50,
             "learn": [
              0.2478344362
             ],
             "passed_time": 21.0296079,
             "remaining_time": 20.2049174,
             "test": [
              0.2401424982
             ]
            },
            {
             "iteration": 51,
             "learn": [
              0.2444640648
             ],
             "passed_time": 21.51093798,
             "remaining_time": 19.85625044,
             "test": [
              0.237025571
             ]
            },
            {
             "iteration": 52,
             "learn": [
              0.2412490914
             ],
             "passed_time": 21.9607333,
             "remaining_time": 19.47461255,
             "test": [
              0.2339253638
             ]
            },
            {
             "iteration": 53,
             "learn": [
              0.2382360583
             ],
             "passed_time": 22.36154888,
             "remaining_time": 19.04872683,
             "test": [
              0.2308386236
             ]
            },
            {
             "iteration": 54,
             "learn": [
              0.2352893095
             ],
             "passed_time": 22.79309296,
             "remaining_time": 18.64889424,
             "test": [
              0.2278085663
             ]
            },
            {
             "iteration": 55,
             "learn": [
              0.2323173826
             ],
             "passed_time": 23.25866363,
             "remaining_time": 18.27466428,
             "test": [
              0.2250692309
             ]
            },
            {
             "iteration": 56,
             "learn": [
              0.2297795535
             ],
             "passed_time": 23.65812258,
             "remaining_time": 17.84735563,
             "test": [
              0.222379024
             ]
            },
            {
             "iteration": 57,
             "learn": [
              0.2268040786
             ],
             "passed_time": 24.05253458,
             "remaining_time": 17.41735263,
             "test": [
              0.2195207431
             ]
            },
            {
             "iteration": 58,
             "learn": [
              0.2243571783
             ],
             "passed_time": 24.44261515,
             "remaining_time": 16.98554612,
             "test": [
              0.217143376
             ]
            },
            {
             "iteration": 59,
             "learn": [
              0.221611366
             ],
             "passed_time": 24.85689478,
             "remaining_time": 16.57126319,
             "test": [
              0.2143862185
             ]
            },
            {
             "iteration": 60,
             "learn": [
              0.2189556463
             ],
             "passed_time": 25.31858237,
             "remaining_time": 16.18729037,
             "test": [
              0.211905726
             ]
            },
            {
             "iteration": 61,
             "learn": [
              0.2166836832
             ],
             "passed_time": 25.70667548,
             "remaining_time": 15.75570432,
             "test": [
              0.2097547481
             ]
            },
            {
             "iteration": 62,
             "learn": [
              0.2141309462
             ],
             "passed_time": 26.13615636,
             "remaining_time": 15.34980612,
             "test": [
              0.2071803542
             ]
            },
            {
             "iteration": 63,
             "learn": [
              0.2120318302
             ],
             "passed_time": 26.52946899,
             "remaining_time": 14.92282631,
             "test": [
              0.2047596616
             ]
            },
            {
             "iteration": 64,
             "learn": [
              0.2096346336
             ],
             "passed_time": 26.93970318,
             "remaining_time": 14.50599402,
             "test": [
              0.2022936112
             ]
            },
            {
             "iteration": 65,
             "learn": [
              0.2075404697
             ],
             "passed_time": 27.32599974,
             "remaining_time": 14.07703017,
             "test": [
              0.1999084811
             ]
            },
            {
             "iteration": 66,
             "learn": [
              0.2051513039
             ],
             "passed_time": 27.76342088,
             "remaining_time": 13.67452073,
             "test": [
              0.1976557641
             ]
            },
            {
             "iteration": 67,
             "learn": [
              0.2028901672
             ],
             "passed_time": 28.18926753,
             "remaining_time": 13.26553766,
             "test": [
              0.195331764
             ]
            },
            {
             "iteration": 68,
             "learn": [
              0.2011736286
             ],
             "passed_time": 28.49778213,
             "remaining_time": 12.80335139,
             "test": [
              0.1935028053
             ]
            },
            {
             "iteration": 69,
             "learn": [
              0.1990769081
             ],
             "passed_time": 28.87990242,
             "remaining_time": 12.37710104,
             "test": [
              0.1914143145
             ]
            },
            {
             "iteration": 70,
             "learn": [
              0.1967456118
             ],
             "passed_time": 29.35237889,
             "remaining_time": 11.98899983,
             "test": [
              0.1891702308
             ]
            },
            {
             "iteration": 71,
             "learn": [
              0.194811737
             ],
             "passed_time": 29.73250898,
             "remaining_time": 11.56264238,
             "test": [
              0.1873239332
             ]
            },
            {
             "iteration": 72,
             "learn": [
              0.1931613555
             ],
             "passed_time": 30.10396532,
             "remaining_time": 11.13434334,
             "test": [
              0.1857193816
             ]
            },
            {
             "iteration": 73,
             "learn": [
              0.1912548636
             ],
             "passed_time": 30.48031916,
             "remaining_time": 10.70930133,
             "test": [
              0.1838094739
             ]
            },
            {
             "iteration": 74,
             "learn": [
              0.1892019404
             ],
             "passed_time": 30.90926014,
             "remaining_time": 10.30308671,
             "test": [
              0.1818562973
             ]
            },
            {
             "iteration": 75,
             "learn": [
              0.1875475717
             ],
             "passed_time": 31.31398377,
             "remaining_time": 9.888626454,
             "test": [
              0.1800746557
             ]
            },
            {
             "iteration": 76,
             "learn": [
              0.1861272236
             ],
             "passed_time": 31.61602375,
             "remaining_time": 9.443747353,
             "test": [
              0.1785207894
             ]
            },
            {
             "iteration": 77,
             "learn": [
              0.1842066836
             ],
             "passed_time": 32.03998804,
             "remaining_time": 9.036919703,
             "test": [
              0.1767074904
             ]
            },
            {
             "iteration": 78,
             "learn": [
              0.1828880224
             ],
             "passed_time": 32.34861356,
             "remaining_time": 8.598998542,
             "test": [
              0.1752462237
             ]
            },
            {
             "iteration": 79,
             "learn": [
              0.1810998168
             ],
             "passed_time": 32.82828893,
             "remaining_time": 8.207072234,
             "test": [
              0.1733201834
             ]
            },
            {
             "iteration": 80,
             "learn": [
              0.1793153116
             ],
             "passed_time": 33.30725395,
             "remaining_time": 7.812812654,
             "test": [
              0.1719170989
             ]
            },
            {
             "iteration": 81,
             "learn": [
              0.1775865202
             ],
             "passed_time": 33.74061145,
             "remaining_time": 7.406475683,
             "test": [
              0.1700675386
             ]
            },
            {
             "iteration": 82,
             "learn": [
              0.1763573631
             ],
             "passed_time": 34.03386377,
             "remaining_time": 6.970791374,
             "test": [
              0.1688234224
             ]
            },
            {
             "iteration": 83,
             "learn": [
              0.1746238752
             ],
             "passed_time": 34.45055079,
             "remaining_time": 6.562009675,
             "test": [
              0.1670424147
             ]
            },
            {
             "iteration": 84,
             "learn": [
              0.173409005
             ],
             "passed_time": 34.89367011,
             "remaining_time": 6.157706489,
             "test": [
              0.165759712
             ]
            },
            {
             "iteration": 85,
             "learn": [
              0.1718649241
             ],
             "passed_time": 35.43123591,
             "remaining_time": 5.767875614,
             "test": [
              0.1641914305
             ]
            },
            {
             "iteration": 86,
             "learn": [
              0.1704657548
             ],
             "passed_time": 35.95351909,
             "remaining_time": 5.372364922,
             "test": [
              0.1624034088
             ]
            },
            {
             "iteration": 87,
             "learn": [
              0.168962196
             ],
             "passed_time": 36.32620017,
             "remaining_time": 4.95357275,
             "test": [
              0.160985128
             ]
            },
            {
             "iteration": 88,
             "learn": [
              0.1674447087
             ],
             "passed_time": 36.75973936,
             "remaining_time": 4.543338573,
             "test": [
              0.1593299601
             ]
            },
            {
             "iteration": 89,
             "learn": [
              0.1663044127
             ],
             "passed_time": 37.05719014,
             "remaining_time": 4.117465571,
             "test": [
              0.1582576875
             ]
            },
            {
             "iteration": 90,
             "learn": [
              0.1648240419
             ],
             "passed_time": 37.48241781,
             "remaining_time": 3.70705231,
             "test": [
              0.1568560109
             ]
            },
            {
             "iteration": 91,
             "learn": [
              0.1635333008
             ],
             "passed_time": 37.86627438,
             "remaining_time": 3.292719512,
             "test": [
              0.1556892438
             ]
            },
            {
             "iteration": 92,
             "learn": [
              0.1623512291
             ],
             "passed_time": 38.17070075,
             "remaining_time": 2.873063497,
             "test": [
              0.1545466253
             ]
            },
            {
             "iteration": 93,
             "learn": [
              0.1607802302
             ],
             "passed_time": 38.63578143,
             "remaining_time": 2.466113708,
             "test": [
              0.1530154239
             ]
            },
            {
             "iteration": 94,
             "learn": [
              0.1591670387
             ],
             "passed_time": 39.12150441,
             "remaining_time": 2.059026548,
             "test": [
              0.1515587461
             ]
            },
            {
             "iteration": 95,
             "learn": [
              0.1581422354
             ],
             "passed_time": 39.48548386,
             "remaining_time": 1.645228494,
             "test": [
              0.1505347944
             ]
            },
            {
             "iteration": 96,
             "learn": [
              0.1566908036
             ],
             "passed_time": 39.89342219,
             "remaining_time": 1.233817181,
             "test": [
              0.1490808541
             ]
            },
            {
             "iteration": 97,
             "learn": [
              0.1555384528
             ],
             "passed_time": 40.28800953,
             "remaining_time": 0.8222042762,
             "test": [
              0.1480904845
             ]
            },
            {
             "iteration": 98,
             "learn": [
              0.1547084233
             ],
             "passed_time": 40.57798241,
             "remaining_time": 0.4098786102,
             "test": [
              0.1473495149
             ]
            },
            {
             "iteration": 99,
             "learn": [
              0.1533986615
             ],
             "passed_time": 40.98609101,
             "remaining_time": 0,
             "test": [
              0.1461333772
             ]
            }
           ],
           "meta": {
            "iteration_count": 100,
            "launch_mode": "Train",
            "learn_metrics": [
             {
              "best_value": "Min",
              "name": "CrossEntropy"
             }
            ],
            "learn_sets": [
             "learn"
            ],
            "name": "experiment",
            "parameters": "",
            "test_metrics": [
             {
              "best_value": "Min",
              "name": "CrossEntropy"
             }
            ],
            "test_sets": [
             "test"
            ]
           }
          },
          "passed_iterations": 99,
          "total_iterations": 100
         },
         "name": "catboost_info",
         "path": "catboost_info"
        }
       },
       "layout": "IPY_MODEL_4bc291952e694212add22392b6b6936f"
      }
     },
     "a32601e5917b4abe93cfd33af0897993": {
      "model_module": "catboost-widget",
      "model_module_version": "^1.0.0",
      "model_name": "CatboostWidgetModel",
      "state": {
       "_dom_classes": [],
       "_model_module": "catboost-widget",
       "_model_module_version": "^1.0.0",
       "_model_name": "CatboostWidgetModel",
       "_view_count": null,
       "_view_module": "catboost-widget",
       "_view_module_version": "^1.0.0",
       "_view_name": "CatboostWidgetView",
       "data": {
        "catboost_info": {
         "content": {
          "data": {
           "iterations": [
            {
             "iteration": 0,
             "learn": [
              0.6667754031
             ],
             "passed_time": 0.3530317906,
             "remaining_time": 34.95014727,
             "test": [
              0.6685305635
             ]
            },
            {
             "iteration": 1,
             "learn": [
              0.6462474185
             ],
             "passed_time": 0.6848156375,
             "remaining_time": 33.55596624,
             "test": [
              0.6450966991
             ]
            },
            {
             "iteration": 2,
             "learn": [
              0.6213734598
             ],
             "passed_time": 1.021617938,
             "remaining_time": 33.03231332,
             "test": [
              0.6231719997
             ]
            },
            {
             "iteration": 3,
             "learn": [
              0.6018215816
             ],
             "passed_time": 1.356586154,
             "remaining_time": 32.55806769,
             "test": [
              0.6024251927
             ]
            },
            {
             "iteration": 4,
             "learn": [
              0.5811177601
             ],
             "passed_time": 1.737433318,
             "remaining_time": 33.01123304,
             "test": [
              0.5824430489
             ]
            },
            {
             "iteration": 5,
             "learn": [
              0.5621038199
             ],
             "passed_time": 2.122784805,
             "remaining_time": 33.25696195,
             "test": [
              0.563544653
             ]
            },
            {
             "iteration": 6,
             "learn": [
              0.5451581962
             ],
             "passed_time": 2.511055335,
             "remaining_time": 33.36116374,
             "test": [
              0.545727875
             ]
            },
            {
             "iteration": 7,
             "learn": [
              0.5268274302
             ],
             "passed_time": 2.853785347,
             "remaining_time": 32.81853149,
             "test": [
              0.5287251545
             ]
            },
            {
             "iteration": 8,
             "learn": [
              0.5114238145
             ],
             "passed_time": 3.228218903,
             "remaining_time": 32.64088002,
             "test": [
              0.5126185131
             ]
            },
            {
             "iteration": 9,
             "learn": [
              0.4952916166
             ],
             "passed_time": 3.569784632,
             "remaining_time": 32.12806169,
             "test": [
              0.4972532179
             ]
            },
            {
             "iteration": 10,
             "learn": [
              0.4807730849
             ],
             "passed_time": 3.907493837,
             "remaining_time": 31.61517741,
             "test": [
              0.4827011396
             ]
            },
            {
             "iteration": 11,
             "learn": [
              0.4668348077
             ],
             "passed_time": 4.244712002,
             "remaining_time": 31.12788801,
             "test": [
              0.4687540017
             ]
            },
            {
             "iteration": 12,
             "learn": [
              0.4537461722
             ],
             "passed_time": 4.62215544,
             "remaining_time": 30.93288641,
             "test": [
              0.4558076898
             ]
            },
            {
             "iteration": 13,
             "learn": [
              0.4407754571
             ],
             "passed_time": 4.958164026,
             "remaining_time": 30.4572933,
             "test": [
              0.4432529604
             ]
            },
            {
             "iteration": 14,
             "learn": [
              0.4289245866
             ],
             "passed_time": 5.295616028,
             "remaining_time": 30.00849083,
             "test": [
              0.4312794257
             ]
            },
            {
             "iteration": 15,
             "learn": [
              0.4172716215
             ],
             "passed_time": 5.679390284,
             "remaining_time": 29.81679899,
             "test": [
              0.4199883756
             ]
            },
            {
             "iteration": 16,
             "learn": [
              0.4061798239
             ],
             "passed_time": 6.02152297,
             "remaining_time": 29.39920038,
             "test": [
              0.4090090307
             ]
            },
            {
             "iteration": 17,
             "learn": [
              0.3959576639
             ],
             "passed_time": 6.351048895,
             "remaining_time": 28.93255608,
             "test": [
              0.3987727464
             ]
            },
            {
             "iteration": 18,
             "learn": [
              0.3855441115
             ],
             "passed_time": 6.734059405,
             "remaining_time": 28.70835852,
             "test": [
              0.388819434
             ]
            },
            {
             "iteration": 19,
             "learn": [
              0.3758071553
             ],
             "passed_time": 7.113180356,
             "remaining_time": 28.45272142,
             "test": [
              0.378913049
             ]
            },
            {
             "iteration": 20,
             "learn": [
              0.3660237598
             ],
             "passed_time": 7.474388136,
             "remaining_time": 28.11793632,
             "test": [
              0.3696966372
             ]
            },
            {
             "iteration": 21,
             "learn": [
              0.3573582758
             ],
             "passed_time": 7.801453387,
             "remaining_time": 27.65969837,
             "test": [
              0.3610042664
             ]
            },
            {
             "iteration": 22,
             "learn": [
              0.3487380809
             ],
             "passed_time": 8.086974374,
             "remaining_time": 27.07378377,
             "test": [
              0.3527661055
             ]
            },
            {
             "iteration": 23,
             "learn": [
              0.3406321917
             ],
             "passed_time": 8.417603578,
             "remaining_time": 26.65574466,
             "test": [
              0.3446814924
             ]
            },
            {
             "iteration": 24,
             "learn": [
              0.3329412421
             ],
             "passed_time": 8.790409759,
             "remaining_time": 26.37122928,
             "test": [
              0.3372395685
             ]
            },
            {
             "iteration": 25,
             "learn": [
              0.3250622157
             ],
             "passed_time": 9.142321576,
             "remaining_time": 26.02045372,
             "test": [
              0.3295657254
             ]
            },
            {
             "iteration": 26,
             "learn": [
              0.3174171035
             ],
             "passed_time": 9.502246164,
             "remaining_time": 25.69125815,
             "test": [
              0.3220784797
             ]
            },
            {
             "iteration": 27,
             "learn": [
              0.3104863666
             ],
             "passed_time": 9.837162206,
             "remaining_time": 25.29555996,
             "test": [
              0.3151940049
             ]
            },
            {
             "iteration": 28,
             "learn": [
              0.3037387274
             ],
             "passed_time": 10.19627534,
             "remaining_time": 24.96329481,
             "test": [
              0.3087882912
             ]
            },
            {
             "iteration": 29,
             "learn": [
              0.2972888361
             ],
             "passed_time": 10.50884391,
             "remaining_time": 24.52063579,
             "test": [
              0.3026308255
             ]
            },
            {
             "iteration": 30,
             "learn": [
              0.2906621627
             ],
             "passed_time": 10.90250511,
             "remaining_time": 24.26686622,
             "test": [
              0.2960538423
             ]
            },
            {
             "iteration": 31,
             "learn": [
              0.2843441255
             ],
             "passed_time": 11.32681205,
             "remaining_time": 24.0694756,
             "test": [
              0.2902236042
             ]
            },
            {
             "iteration": 32,
             "learn": [
              0.278135259
             ],
             "passed_time": 11.71232677,
             "remaining_time": 23.77957253,
             "test": [
              0.2841709905
             ]
            },
            {
             "iteration": 33,
             "learn": [
              0.2722596684
             ],
             "passed_time": 12.0659123,
             "remaining_time": 23.42206506,
             "test": [
              0.2783260556
             ]
            },
            {
             "iteration": 34,
             "learn": [
              0.2666965925
             ],
             "passed_time": 12.40170507,
             "remaining_time": 23.03173799,
             "test": [
              0.2731837261
             ]
            },
            {
             "iteration": 35,
             "learn": [
              0.2611193355
             ],
             "passed_time": 12.77916169,
             "remaining_time": 22.71850967,
             "test": [
              0.2676451097
             ]
            },
            {
             "iteration": 36,
             "learn": [
              0.2558497165
             ],
             "passed_time": 13.1124671,
             "remaining_time": 22.32663317,
             "test": [
              0.2625301894
             ]
            },
            {
             "iteration": 37,
             "learn": [
              0.250897234
             ],
             "passed_time": 13.55722143,
             "remaining_time": 22.11967708,
             "test": [
              0.2577981635
             ]
            },
            {
             "iteration": 38,
             "learn": [
              0.2459110157
             ],
             "passed_time": 14.10872478,
             "remaining_time": 22.06749261,
             "test": [
              0.2530672462
             ]
            },
            {
             "iteration": 39,
             "learn": [
              0.2409451471
             ],
             "passed_time": 14.67263982,
             "remaining_time": 22.00895973,
             "test": [
              0.2480109322
             ]
            },
            {
             "iteration": 40,
             "learn": [
              0.2360100434
             ],
             "passed_time": 15.00690447,
             "remaining_time": 21.59530155,
             "test": [
              0.2430576253
             ]
            },
            {
             "iteration": 41,
             "learn": [
              0.2316221425
             ],
             "passed_time": 15.41176792,
             "remaining_time": 21.2829176,
             "test": [
              0.2388184462
             ]
            },
            {
             "iteration": 42,
             "learn": [
              0.2271065513
             ],
             "passed_time": 15.77411665,
             "remaining_time": 20.90987556,
             "test": [
              0.2344316764
             ]
            },
            {
             "iteration": 43,
             "learn": [
              0.2231943227
             ],
             "passed_time": 16.0989672,
             "remaining_time": 20.48959461,
             "test": [
              0.2308204364
             ]
            },
            {
             "iteration": 44,
             "learn": [
              0.2191184164
             ],
             "passed_time": 16.43871642,
             "remaining_time": 20.09176452,
             "test": [
              0.2269391166
             ]
            },
            {
             "iteration": 45,
             "learn": [
              0.2151216154
             ],
             "passed_time": 16.83293754,
             "remaining_time": 19.76040494,
             "test": [
              0.2230471273
             ]
            },
            {
             "iteration": 46,
             "learn": [
              0.2112339589
             ],
             "passed_time": 17.1664456,
             "remaining_time": 19.35790674,
             "test": [
              0.2192884448
             ]
            },
            {
             "iteration": 47,
             "learn": [
              0.2072974629
             ],
             "passed_time": 17.54930289,
             "remaining_time": 19.01174479,
             "test": [
              0.2154433622
             ]
            },
            {
             "iteration": 48,
             "learn": [
              0.2039747012
             ],
             "passed_time": 17.87031959,
             "remaining_time": 18.59972039,
             "test": [
              0.2122105249
             ]
            },
            {
             "iteration": 49,
             "learn": [
              0.2006529361
             ],
             "passed_time": 18.18496977,
             "remaining_time": 18.18496977,
             "test": [
              0.209357216
             ]
            },
            {
             "iteration": 50,
             "learn": [
              0.1971813178
             ],
             "passed_time": 18.5885403,
             "remaining_time": 17.85957793,
             "test": [
              0.2058375044
             ]
            },
            {
             "iteration": 51,
             "learn": [
              0.1939519784
             ],
             "passed_time": 18.9451643,
             "remaining_time": 17.48784397,
             "test": [
              0.2027565141
             ]
            },
            {
             "iteration": 52,
             "learn": [
              0.1904429366
             ],
             "passed_time": 19.28726164,
             "remaining_time": 17.10379806,
             "test": [
              0.1991474932
             ]
            },
            {
             "iteration": 53,
             "learn": [
              0.1874587694
             ],
             "passed_time": 19.68764474,
             "remaining_time": 16.77095663,
             "test": [
              0.1965526549
             ]
            },
            {
             "iteration": 54,
             "learn": [
              0.1844401506
             ],
             "passed_time": 20.0231932,
             "remaining_time": 16.38261262,
             "test": [
              0.1935949479
             ]
            },
            {
             "iteration": 55,
             "learn": [
              0.1818440739
             ],
             "passed_time": 20.32585109,
             "remaining_time": 15.97031157,
             "test": [
              0.1912266986
             ]
            },
            {
             "iteration": 56,
             "learn": [
              0.1792385128
             ],
             "passed_time": 20.67343741,
             "remaining_time": 15.59575103,
             "test": [
              0.1888123651
             ]
            },
            {
             "iteration": 57,
             "learn": [
              0.1766335074
             ],
             "passed_time": 21.0279179,
             "remaining_time": 15.22711296,
             "test": [
              0.1862871264
             ]
            },
            {
             "iteration": 58,
             "learn": [
              0.1737037596
             ],
             "passed_time": 21.38811399,
             "remaining_time": 14.86292667,
             "test": [
              0.1831821297
             ]
            },
            {
             "iteration": 59,
             "learn": [
              0.1711293615
             ],
             "passed_time": 21.7236855,
             "remaining_time": 14.482457,
             "test": [
              0.1806570651
             ]
            },
            {
             "iteration": 60,
             "learn": [
              0.1684407746
             ],
             "passed_time": 22.09920848,
             "remaining_time": 14.12900214,
             "test": [
              0.1781276364
             ]
            },
            {
             "iteration": 61,
             "learn": [
              0.1660456248
             ],
             "passed_time": 22.47925584,
             "remaining_time": 13.77760842,
             "test": [
              0.1758133612
             ]
            },
            {
             "iteration": 62,
             "learn": [
              0.1638600228
             ],
             "passed_time": 22.81641911,
             "remaining_time": 13.40011916,
             "test": [
              0.1736677787
             ]
            },
            {
             "iteration": 63,
             "learn": [
              0.1611493193
             ],
             "passed_time": 23.22020576,
             "remaining_time": 13.06136574,
             "test": [
              0.1708983776
             ]
            },
            {
             "iteration": 64,
             "learn": [
              0.159015442
             ],
             "passed_time": 23.55157515,
             "remaining_time": 12.68161739,
             "test": [
              0.1688725268
             ]
            },
            {
             "iteration": 65,
             "learn": [
              0.1566036284
             ],
             "passed_time": 23.94765953,
             "remaining_time": 12.33667309,
             "test": [
              0.1663903623
             ]
            },
            {
             "iteration": 66,
             "learn": [
              0.154191779
             ],
             "passed_time": 24.34659615,
             "remaining_time": 11.99160706,
             "test": [
              0.1639189176
             ]
            },
            {
             "iteration": 67,
             "learn": [
              0.152249925
             ],
             "passed_time": 24.68491563,
             "remaining_time": 11.61643088,
             "test": [
              0.1620826927
             ]
            },
            {
             "iteration": 68,
             "learn": [
              0.1498219921
             ],
             "passed_time": 25.07325953,
             "remaining_time": 11.26479776,
             "test": [
              0.1595954665
             ]
            },
            {
             "iteration": 69,
             "learn": [
              0.147866494
             ],
             "passed_time": 25.45583488,
             "remaining_time": 10.90964352,
             "test": [
              0.1575716699
             ]
            },
            {
             "iteration": 70,
             "learn": [
              0.1454993632
             ],
             "passed_time": 25.85738915,
             "remaining_time": 10.56146881,
             "test": [
              0.1549171117
             ]
            },
            {
             "iteration": 71,
             "learn": [
              0.1436589883
             ],
             "passed_time": 26.24214565,
             "remaining_time": 10.20527887,
             "test": [
              0.1529694919
             ]
            },
            {
             "iteration": 72,
             "learn": [
              0.1415142297
             ],
             "passed_time": 26.61784241,
             "remaining_time": 9.844955411,
             "test": [
              0.1507889827
             ]
            },
            {
             "iteration": 73,
             "learn": [
              0.1399494525
             ],
             "passed_time": 26.95343495,
             "remaining_time": 9.470125794,
             "test": [
              0.1494824461
             ]
            },
            {
             "iteration": 74,
             "learn": [
              0.138395583
             ],
             "passed_time": 27.30032395,
             "remaining_time": 9.100107983,
             "test": [
              0.1480213693
             ]
            },
            {
             "iteration": 75,
             "learn": [
              0.1363706875
             ],
             "passed_time": 27.70315467,
             "remaining_time": 8.748364632,
             "test": [
              0.1456811517
             ]
            },
            {
             "iteration": 76,
             "learn": [
              0.1344813473
             ],
             "passed_time": 28.07557719,
             "remaining_time": 8.386211367,
             "test": [
              0.1439181646
             ]
            },
            {
             "iteration": 77,
             "learn": [
              0.1332922257
             ],
             "passed_time": 28.35883352,
             "remaining_time": 7.998645352,
             "test": [
              0.1428876176
             ]
            },
            {
             "iteration": 78,
             "learn": [
              0.1315351084
             ],
             "passed_time": 28.74718489,
             "remaining_time": 7.641656744,
             "test": [
              0.141266133
             ]
            },
            {
             "iteration": 79,
             "learn": [
              0.1298602926
             ],
             "passed_time": 29.14545648,
             "remaining_time": 7.286364121,
             "test": [
              0.1395281021
             ]
            },
            {
             "iteration": 80,
             "learn": [
              0.1281068686
             ],
             "passed_time": 29.53302476,
             "remaining_time": 6.927499634,
             "test": [
              0.1376666543
             ]
            },
            {
             "iteration": 81,
             "learn": [
              0.1266917179
             ],
             "passed_time": 29.866116,
             "remaining_time": 6.555976683,
             "test": [
              0.1363450043
             ]
            },
            {
             "iteration": 82,
             "learn": [
              0.125105726
             ],
             "passed_time": 30.24297736,
             "remaining_time": 6.194344759,
             "test": [
              0.1348403593
             ]
            },
            {
             "iteration": 83,
             "learn": [
              0.1237696494
             ],
             "passed_time": 30.65476712,
             "remaining_time": 5.83900326,
             "test": [
              0.1335268152
             ]
            },
            {
             "iteration": 84,
             "learn": [
              0.1221469734
             ],
             "passed_time": 31.03841495,
             "remaining_time": 5.477367345,
             "test": [
              0.1319233365
             ]
            },
            {
             "iteration": 85,
             "learn": [
              0.1210899114
             ],
             "passed_time": 31.33716814,
             "remaining_time": 5.101399464,
             "test": [
              0.1310137729
             ]
            },
            {
             "iteration": 86,
             "learn": [
              0.119597326
             ],
             "passed_time": 31.72548313,
             "remaining_time": 4.740589433,
             "test": [
              0.1294987772
             ]
            },
            {
             "iteration": 87,
             "learn": [
              0.1181948233
             ],
             "passed_time": 32.1162807,
             "remaining_time": 4.379492823,
             "test": [
              0.1279355159
             ]
            },
            {
             "iteration": 88,
             "learn": [
              0.1170745649
             ],
             "passed_time": 32.47617061,
             "remaining_time": 4.013908727,
             "test": [
              0.126906787
             ]
            },
            {
             "iteration": 89,
             "learn": [
              0.1159820469
             ],
             "passed_time": 32.82155459,
             "remaining_time": 3.646839399,
             "test": [
              0.1258160558
             ]
            },
            {
             "iteration": 90,
             "learn": [
              0.1149172692
             ],
             "passed_time": 33.13490189,
             "remaining_time": 3.277078209,
             "test": [
              0.1248443175
             ]
            },
            {
             "iteration": 91,
             "learn": [
              0.113999061
             ],
             "passed_time": 33.4649296,
             "remaining_time": 2.909993879,
             "test": [
              0.1240569963
             ]
            },
            {
             "iteration": 92,
             "learn": [
              0.1124388108
             ],
             "passed_time": 33.9221824,
             "remaining_time": 2.553282546,
             "test": [
              0.1221687978
             ]
            },
            {
             "iteration": 93,
             "learn": [
              0.1116051496
             ],
             "passed_time": 34.21678832,
             "remaining_time": 2.184050319,
             "test": [
              0.1214429755
             ]
            },
            {
             "iteration": 94,
             "learn": [
              0.1105156452
             ],
             "passed_time": 34.55433914,
             "remaining_time": 1.818649428,
             "test": [
              0.1203394044
             ]
            },
            {
             "iteration": 95,
             "learn": [
              0.1094387866
             ],
             "passed_time": 34.92049015,
             "remaining_time": 1.455020423,
             "test": [
              0.1191948508
             ]
            },
            {
             "iteration": 96,
             "learn": [
              0.1080100083
             ],
             "passed_time": 35.37558351,
             "remaining_time": 1.094090212,
             "test": [
              0.1174166383
             ]
            },
            {
             "iteration": 97,
             "learn": [
              0.1067996592
             ],
             "passed_time": 35.79456478,
             "remaining_time": 0.7305013221,
             "test": [
              0.1163225222
             ]
            },
            {
             "iteration": 98,
             "learn": [
              0.1060911568
             ],
             "passed_time": 36.09058922,
             "remaining_time": 0.3645514062,
             "test": [
              0.1157206389
             ]
            },
            {
             "iteration": 99,
             "learn": [
              0.105041855
             ],
             "passed_time": 36.50965097,
             "remaining_time": 0,
             "test": [
              0.1147617022
             ]
            }
           ],
           "meta": {
            "iteration_count": 100,
            "launch_mode": "Train",
            "learn_metrics": [
             {
              "best_value": "Min",
              "name": "CrossEntropy"
             }
            ],
            "learn_sets": [
             "learn"
            ],
            "name": "experiment",
            "parameters": "",
            "test_metrics": [
             {
              "best_value": "Min",
              "name": "CrossEntropy"
             }
            ],
            "test_sets": [
             "test"
            ]
           }
          },
          "passed_iterations": 99,
          "total_iterations": 100
         },
         "name": "catboost_info",
         "path": "catboost_info"
        }
       },
       "layout": "IPY_MODEL_183f0c55cd9449b2b32574d98a162f41"
      }
     },
     "addca691b47942e1bb1db54ed7d97a62": {
      "model_module": "catboost-widget",
      "model_module_version": "^1.0.0",
      "model_name": "CatboostWidgetModel",
      "state": {
       "_dom_classes": [],
       "_model_module": "catboost-widget",
       "_model_module_version": "^1.0.0",
       "_model_name": "CatboostWidgetModel",
       "_view_count": null,
       "_view_module": "catboost-widget",
       "_view_module_version": "^1.0.0",
       "_view_name": "CatboostWidgetView",
       "data": {
        "catboost_info": {
         "content": {
          "data": {
           "iterations": [
            {
             "iteration": 0,
             "learn": [
              0.6636730168
             ],
             "passed_time": 0.5922768622,
             "remaining_time": 58.63540936,
             "test": [
              0.6659170558
             ]
            },
            {
             "iteration": 1,
             "learn": [
              0.6409410982
             ],
             "passed_time": 1.205041577,
             "remaining_time": 59.04703728,
             "test": [
              0.6400997864
             ]
            },
            {
             "iteration": 2,
             "learn": [
              0.6152199111
             ],
             "passed_time": 1.751282391,
             "remaining_time": 56.62479732,
             "test": [
              0.615787522
             ]
            },
            {
             "iteration": 3,
             "learn": [
              0.5912697693
             ],
             "passed_time": 2.193362117,
             "remaining_time": 52.6406908,
             "test": [
              0.5930007153
             ]
            },
            {
             "iteration": 4,
             "learn": [
              0.5712235231
             ],
             "passed_time": 2.642850783,
             "remaining_time": 50.21416488,
             "test": [
              0.5713509906
             ]
            },
            {
             "iteration": 5,
             "learn": [
              0.5488901076
             ],
             "passed_time": 3.071767227,
             "remaining_time": 48.12435322,
             "test": [
              0.5505024743
             ]
            },
            {
             "iteration": 6,
             "learn": [
              0.5292960505
             ],
             "passed_time": 3.514607235,
             "remaining_time": 46.69406755,
             "test": [
              0.5307555971
             ]
            },
            {
             "iteration": 7,
             "learn": [
              0.5121403728
             ],
             "passed_time": 3.955257794,
             "remaining_time": 45.48546463,
             "test": [
              0.5123081961
             ]
            },
            {
             "iteration": 8,
             "learn": [
              0.4936956361
             ],
             "passed_time": 4.398950604,
             "remaining_time": 44.47827833,
             "test": [
              0.4946982181
             ]
            },
            {
             "iteration": 9,
             "learn": [
              0.4767246457
             ],
             "passed_time": 4.839852151,
             "remaining_time": 43.55866936,
             "test": [
              0.477938182
             ]
            },
            {
             "iteration": 10,
             "learn": [
              0.4606422266
             ],
             "passed_time": 5.281027622,
             "remaining_time": 42.72831439,
             "test": [
              0.4617849564
             ]
            },
            {
             "iteration": 11,
             "learn": [
              0.4454403225
             ],
             "passed_time": 5.740235644,
             "remaining_time": 42.09506139,
             "test": [
              0.4459681021
             ]
            },
            {
             "iteration": 12,
             "learn": [
              0.4305248234
             ],
             "passed_time": 6.180125597,
             "remaining_time": 41.35930208,
             "test": [
              0.4312991533
             ]
            },
            {
             "iteration": 13,
             "learn": [
              0.4163290703
             ],
             "passed_time": 6.610465882,
             "remaining_time": 40.60714756,
             "test": [
              0.4174582204
             ]
            },
            {
             "iteration": 14,
             "learn": [
              0.4027398107
             ],
             "passed_time": 7.054148089,
             "remaining_time": 39.97350584,
             "test": [
              0.4041665275
             ]
            },
            {
             "iteration": 15,
             "learn": [
              0.3892710544
             ],
             "passed_time": 7.473411447,
             "remaining_time": 39.23541009,
             "test": [
              0.3915075007
             ]
            },
            {
             "iteration": 16,
             "learn": [
              0.3777218988
             ],
             "passed_time": 7.920055711,
             "remaining_time": 38.6685073,
             "test": [
              0.3791975315
             ]
            },
            {
             "iteration": 17,
             "learn": [
              0.3657902353
             ],
             "passed_time": 8.359840517,
             "remaining_time": 38.08371791,
             "test": [
              0.3675007129
             ]
            },
            {
             "iteration": 18,
             "learn": [
              0.3542547917
             ],
             "passed_time": 8.795881813,
             "remaining_time": 37.49823299,
             "test": [
              0.3562525029
             ]
            },
            {
             "iteration": 19,
             "learn": [
              0.3433829566
             ],
             "passed_time": 9.221703813,
             "remaining_time": 36.88681525,
             "test": [
              0.3452483454
             ]
            },
            {
             "iteration": 20,
             "learn": [
              0.3330233872
             ],
             "passed_time": 9.66807119,
             "remaining_time": 36.37036305,
             "test": [
              0.3349252547
             ]
            },
            {
             "iteration": 21,
             "learn": [
              0.3229533768
             ],
             "passed_time": 10.11205928,
             "remaining_time": 35.85184652,
             "test": [
              0.3250408992
             ]
            },
            {
             "iteration": 22,
             "learn": [
              0.3133248582
             ],
             "passed_time": 10.59637392,
             "remaining_time": 35.47481702,
             "test": [
              0.3154431565
             ]
            },
            {
             "iteration": 23,
             "learn": [
              0.303877259
             ],
             "passed_time": 11.03294722,
             "remaining_time": 34.93766621,
             "test": [
              0.3063293588
             ]
            },
            {
             "iteration": 24,
             "learn": [
              0.2949447114
             ],
             "passed_time": 11.4733597,
             "remaining_time": 34.42007909,
             "test": [
              0.297287807
             ]
            },
            {
             "iteration": 25,
             "learn": [
              0.2866820293
             ],
             "passed_time": 11.88311704,
             "remaining_time": 33.82117927,
             "test": [
              0.2889914766
             ]
            },
            {
             "iteration": 26,
             "learn": [
              0.2785499304
             ],
             "passed_time": 12.32728334,
             "remaining_time": 33.32932161,
             "test": [
              0.2808117939
             ]
            },
            {
             "iteration": 27,
             "learn": [
              0.2707707559
             ],
             "passed_time": 12.7683427,
             "remaining_time": 32.83288123,
             "test": [
              0.2729858145
             ]
            },
            {
             "iteration": 28,
             "learn": [
              0.2631076019
             ],
             "passed_time": 13.21064447,
             "remaining_time": 32.34330197,
             "test": [
              0.2655853409
             ]
            },
            {
             "iteration": 29,
             "learn": [
              0.2557836233
             ],
             "passed_time": 13.65226515,
             "remaining_time": 31.85528535,
             "test": [
              0.2583449304
             ]
            },
            {
             "iteration": 30,
             "learn": [
              0.2484817599
             ],
             "passed_time": 14.10178028,
             "remaining_time": 31.38783352,
             "test": [
              0.2508974302
             ]
            },
            {
             "iteration": 31,
             "learn": [
              0.2417450848
             ],
             "passed_time": 14.52520338,
             "remaining_time": 30.86605719,
             "test": [
              0.2442334583
             ]
            },
            {
             "iteration": 32,
             "learn": [
              0.2345734429
             ],
             "passed_time": 14.98090108,
             "remaining_time": 30.41576886,
             "test": [
              0.2371195388
             ]
            },
            {
             "iteration": 33,
             "learn": [
              0.2281223173
             ],
             "passed_time": 15.39993439,
             "remaining_time": 29.89399028,
             "test": [
              0.2308561573
             ]
            },
            {
             "iteration": 34,
             "learn": [
              0.2217094292
             ],
             "passed_time": 15.85845544,
             "remaining_time": 29.45141724,
             "test": [
              0.2242313337
             ]
            },
            {
             "iteration": 35,
             "learn": [
              0.2160282421
             ],
             "passed_time": 16.26764186,
             "remaining_time": 28.9202522,
             "test": [
              0.2183354767
             ]
            },
            {
             "iteration": 36,
             "learn": [
              0.2102302137
             ],
             "passed_time": 16.68536293,
             "remaining_time": 28.41021255,
             "test": [
              0.2126026168
             ]
            },
            {
             "iteration": 37,
             "learn": [
              0.2045778094
             ],
             "passed_time": 17.10019576,
             "remaining_time": 27.9003194,
             "test": [
              0.2071466423
             ]
            },
            {
             "iteration": 38,
             "learn": [
              0.199602676
             ],
             "passed_time": 17.52128616,
             "remaining_time": 27.40508861,
             "test": [
              0.201784124
             ]
            },
            {
             "iteration": 39,
             "learn": [
              0.1942771741
             ],
             "passed_time": 17.97514565,
             "remaining_time": 26.96271847,
             "test": [
              0.1963255792
             ]
            },
            {
             "iteration": 40,
             "learn": [
              0.1891636672
             ],
             "passed_time": 18.4199341,
             "remaining_time": 26.50673444,
             "test": [
              0.191410339
             ]
            },
            {
             "iteration": 41,
             "learn": [
              0.1838838793
             ],
             "passed_time": 18.88936774,
             "remaining_time": 26.08531736,
             "test": [
              0.186106372
             ]
            },
            {
             "iteration": 42,
             "learn": [
              0.1788378337
             ],
             "passed_time": 19.32483953,
             "remaining_time": 25.61664775,
             "test": [
              0.1811651894
             ]
            },
            {
             "iteration": 43,
             "learn": [
              0.1742213731
             ],
             "passed_time": 19.77264402,
             "remaining_time": 25.1651833,
             "test": [
              0.1765106401
             ]
            },
            {
             "iteration": 44,
             "learn": [
              0.1693356656
             ],
             "passed_time": 20.24173777,
             "remaining_time": 24.73990172,
             "test": [
              0.1717014277
             ]
            },
            {
             "iteration": 45,
             "learn": [
              0.1646732477
             ],
             "passed_time": 20.71652958,
             "remaining_time": 24.31940429,
             "test": [
              0.1670651813
             ]
            },
            {
             "iteration": 46,
             "learn": [
              0.1603844645
             ],
             "passed_time": 21.17265271,
             "remaining_time": 23.87554455,
             "test": [
              0.1628725069
             ]
            },
            {
             "iteration": 47,
             "learn": [
              0.1562241023
             ],
             "passed_time": 21.67396966,
             "remaining_time": 23.48013379,
             "test": [
              0.1587628882
             ]
            },
            {
             "iteration": 48,
             "learn": [
              0.1520415377
             ],
             "passed_time": 22.13779704,
             "remaining_time": 23.04138059,
             "test": [
              0.15463229
             ]
            },
            {
             "iteration": 49,
             "learn": [
              0.1479632981
             ],
             "passed_time": 22.61047801,
             "remaining_time": 22.61047801,
             "test": [
              0.1505482698
             ]
            },
            {
             "iteration": 50,
             "learn": [
              0.1439723827
             ],
             "passed_time": 23.07740153,
             "remaining_time": 22.17240539,
             "test": [
              0.1466182879
             ]
            },
            {
             "iteration": 51,
             "learn": [
              0.1401473748
             ],
             "passed_time": 23.55584506,
             "remaining_time": 21.74385698,
             "test": [
              0.1428466239
             ]
            },
            {
             "iteration": 52,
             "learn": [
              0.1364083469
             ],
             "passed_time": 24.02423431,
             "remaining_time": 21.30450967,
             "test": [
              0.1391909932
             ]
            },
            {
             "iteration": 53,
             "learn": [
              0.1328969657
             ],
             "passed_time": 24.47246597,
             "remaining_time": 20.84691545,
             "test": [
              0.1356686705
             ]
            },
            {
             "iteration": 54,
             "learn": [
              0.1294956933
             ],
             "passed_time": 24.92019414,
             "remaining_time": 20.38924975,
             "test": [
              0.1322884638
             ]
            },
            {
             "iteration": 55,
             "learn": [
              0.1261518248
             ],
             "passed_time": 25.36272609,
             "remaining_time": 19.92785621,
             "test": [
              0.1289993731
             ]
            },
            {
             "iteration": 56,
             "learn": [
              0.1228957211
             ],
             "passed_time": 25.83365877,
             "remaining_time": 19.4885496,
             "test": [
              0.1257789831
             ]
            },
            {
             "iteration": 57,
             "learn": [
              0.119742538
             ],
             "passed_time": 26.3109277,
             "remaining_time": 19.05274075,
             "test": [
              0.1226865425
             ]
            },
            {
             "iteration": 58,
             "learn": [
              0.1168236177
             ],
             "passed_time": 26.76719345,
             "remaining_time": 18.60093104,
             "test": [
              0.1197610337
             ]
            },
            {
             "iteration": 59,
             "learn": [
              0.1138834344
             ],
             "passed_time": 27.23880306,
             "remaining_time": 18.15920204,
             "test": [
              0.1169058772
             ]
            },
            {
             "iteration": 60,
             "learn": [
              0.1110364701
             ],
             "passed_time": 27.70996874,
             "remaining_time": 17.71620952,
             "test": [
              0.114108147
             ]
            },
            {
             "iteration": 61,
             "learn": [
              0.1085288699
             ],
             "passed_time": 28.15809707,
             "remaining_time": 17.25818852,
             "test": [
              0.1114459233
             ]
            },
            {
             "iteration": 62,
             "learn": [
              0.1058778416
             ],
             "passed_time": 28.92440286,
             "remaining_time": 16.98734771,
             "test": [
              0.1088433777
             ]
            },
            {
             "iteration": 63,
             "learn": [
              0.1032535706
             ],
             "passed_time": 29.48506797,
             "remaining_time": 16.58535073,
             "test": [
              0.1061845709
             ]
            },
            {
             "iteration": 64,
             "learn": [
              0.1009103727
             ],
             "passed_time": 30.04224021,
             "remaining_time": 16.17659088,
             "test": [
              0.1038254803
             ]
            },
            {
             "iteration": 65,
             "learn": [
              0.09874215287
             ],
             "passed_time": 30.54680105,
             "remaining_time": 15.73623084,
             "test": [
              0.1016783955
             ]
            },
            {
             "iteration": 66,
             "learn": [
              0.09659004725
             ],
             "passed_time": 31.0804594,
             "remaining_time": 15.30828597,
             "test": [
              0.09952993181
             ]
            },
            {
             "iteration": 67,
             "learn": [
              0.09456220009
             ],
             "passed_time": 31.62270232,
             "remaining_time": 14.88127168,
             "test": [
              0.09747117708
             ]
            },
            {
             "iteration": 68,
             "learn": [
              0.09233774345
             ],
             "passed_time": 32.23101075,
             "remaining_time": 14.48059903,
             "test": [
              0.0952615208
             ]
            },
            {
             "iteration": 69,
             "learn": [
              0.09023983957
             ],
             "passed_time": 33.0725221,
             "remaining_time": 14.17393804,
             "test": [
              0.09324422026
             ]
            },
            {
             "iteration": 70,
             "learn": [
              0.08817959303
             ],
             "passed_time": 33.8306169,
             "remaining_time": 13.8181393,
             "test": [
              0.0911638682
             ]
            },
            {
             "iteration": 71,
             "learn": [
              0.08630177892
             ],
             "passed_time": 34.3777525,
             "remaining_time": 13.36912597,
             "test": [
              0.08932227098
             ]
            },
            {
             "iteration": 72,
             "learn": [
              0.08431918248
             ],
             "passed_time": 34.98902033,
             "remaining_time": 12.94114451,
             "test": [
              0.08735288336
             ]
            },
            {
             "iteration": 73,
             "learn": [
              0.08245394685
             ],
             "passed_time": 35.51329367,
             "remaining_time": 12.47764372,
             "test": [
              0.08547065151
             ]
            },
            {
             "iteration": 74,
             "learn": [
              0.08075579141
             ],
             "passed_time": 36.06594525,
             "remaining_time": 12.02198175,
             "test": [
              0.08379860372
             ]
            },
            {
             "iteration": 75,
             "learn": [
              0.07909323926
             ],
             "passed_time": 36.61535215,
             "remaining_time": 11.56274278,
             "test": [
              0.08206998671
             ]
            },
            {
             "iteration": 76,
             "learn": [
              0.07733436973
             ],
             "passed_time": 37.17214409,
             "remaining_time": 11.10336771,
             "test": [
              0.0803650328
             ]
            },
            {
             "iteration": 77,
             "learn": [
              0.07559949412
             ],
             "passed_time": 37.79044575,
             "remaining_time": 10.65884367,
             "test": [
              0.07855458964
             ]
            },
            {
             "iteration": 78,
             "learn": [
              0.07389191823
             ],
             "passed_time": 38.44874323,
             "remaining_time": 10.220552,
             "test": [
              0.07689135167
             ]
            },
            {
             "iteration": 79,
             "learn": [
              0.07238170587
             ],
             "passed_time": 39.03045619,
             "remaining_time": 9.757614049,
             "test": [
              0.07542004779
             ]
            },
            {
             "iteration": 80,
             "learn": [
              0.07094550948
             ],
             "passed_time": 39.52456382,
             "remaining_time": 9.271193983,
             "test": [
              0.07395946249
             ]
            },
            {
             "iteration": 81,
             "learn": [
              0.06967611049
             ],
             "passed_time": 39.92039289,
             "remaining_time": 8.763013072,
             "test": [
              0.07271121898
             ]
            },
            {
             "iteration": 82,
             "learn": [
              0.06814550333
             ],
             "passed_time": 40.39355113,
             "remaining_time": 8.273377943,
             "test": [
              0.07116170192
             ]
            },
            {
             "iteration": 83,
             "learn": [
              0.06672906871
             ],
             "passed_time": 40.83610207,
             "remaining_time": 7.778305156,
             "test": [
              0.06971293067
             ]
            },
            {
             "iteration": 84,
             "learn": [
              0.06544739635
             ],
             "passed_time": 41.25760847,
             "remaining_time": 7.280754436,
             "test": [
              0.06844792335
             ]
            },
            {
             "iteration": 85,
             "learn": [
              0.06411535221
             ],
             "passed_time": 41.69712129,
             "remaining_time": 6.787903466,
             "test": [
              0.0671107975
             ]
            },
            {
             "iteration": 86,
             "learn": [
              0.06280842946
             ],
             "passed_time": 42.1349376,
             "remaining_time": 6.296025159,
             "test": [
              0.06584074655
             ]
            },
            {
             "iteration": 87,
             "learn": [
              0.0615867429
             ],
             "passed_time": 42.54797009,
             "remaining_time": 5.801995921,
             "test": [
              0.06466656432
             ]
            },
            {
             "iteration": 88,
             "learn": [
              0.06039370056
             ],
             "passed_time": 43.03288246,
             "remaining_time": 5.318670866,
             "test": [
              0.0634899174
             ]
            },
            {
             "iteration": 89,
             "learn": [
              0.05918285013
             ],
             "passed_time": 43.51235319,
             "remaining_time": 4.83470591,
             "test": [
              0.06228136487
             ]
            },
            {
             "iteration": 90,
             "learn": [
              0.05821547298
             ],
             "passed_time": 43.90863379,
             "remaining_time": 4.342612133,
             "test": [
              0.06126828033
             ]
            },
            {
             "iteration": 91,
             "learn": [
              0.05712449984
             ],
             "passed_time": 44.294385,
             "remaining_time": 3.851685652,
             "test": [
              0.06019166644
             ]
            },
            {
             "iteration": 92,
             "learn": [
              0.05601166718
             ],
             "passed_time": 44.72764361,
             "remaining_time": 3.366596831,
             "test": [
              0.05911390443
             ]
            },
            {
             "iteration": 93,
             "learn": [
              0.05493608482
             ],
             "passed_time": 45.16010435,
             "remaining_time": 2.882559852,
             "test": [
              0.05807342617
             ]
            },
            {
             "iteration": 94,
             "learn": [
              0.05387022037
             ],
             "passed_time": 45.59750966,
             "remaining_time": 2.39986893,
             "test": [
              0.05699314102
             ]
            },
            {
             "iteration": 95,
             "learn": [
              0.05286911028
             ],
             "passed_time": 46.03521309,
             "remaining_time": 1.918133879,
             "test": [
              0.05601847965
             ]
            },
            {
             "iteration": 96,
             "learn": [
              0.05187146444
             ],
             "passed_time": 46.49825885,
             "remaining_time": 1.43809048,
             "test": [
              0.05502504828
             ]
            },
            {
             "iteration": 97,
             "learn": [
              0.05077404432
             ],
             "passed_time": 46.95325093,
             "remaining_time": 0.9582296109,
             "test": [
              0.05394545596
             ]
            },
            {
             "iteration": 98,
             "learn": [
              0.04985773369
             ],
             "passed_time": 47.40016668,
             "remaining_time": 0.4787895624,
             "test": [
              0.05303553637
             ]
            },
            {
             "iteration": 99,
             "learn": [
              0.04897573161
             ],
             "passed_time": 47.8220742,
             "remaining_time": 0,
             "test": [
              0.05219340613
             ]
            }
           ],
           "meta": {
            "iteration_count": 100,
            "launch_mode": "Train",
            "learn_metrics": [
             {
              "best_value": "Min",
              "name": "CrossEntropy"
             }
            ],
            "learn_sets": [
             "learn"
            ],
            "name": "experiment",
            "parameters": "",
            "test_metrics": [
             {
              "best_value": "Min",
              "name": "CrossEntropy"
             }
            ],
            "test_sets": [
             "test"
            ]
           }
          },
          "passed_iterations": 99,
          "total_iterations": 100
         },
         "name": "catboost_info",
         "path": "catboost_info"
        }
       },
       "layout": "IPY_MODEL_851a49eb9fd940008bdf87e6f28c4f58"
      }
     },
     "b615ab1947df4afdbdd96f84edfebeba": {
      "model_module": "@jupyter-widgets/base",
      "model_module_version": "1.2.0",
      "model_name": "LayoutModel",
      "state": {
       "_model_module": "@jupyter-widgets/base",
       "_model_module_version": "1.2.0",
       "_model_name": "LayoutModel",
       "_view_count": null,
       "_view_module": "@jupyter-widgets/base",
       "_view_module_version": "1.2.0",
       "_view_name": "LayoutView",
       "align_content": null,
       "align_items": null,
       "align_self": "stretch",
       "border": null,
       "bottom": null,
       "display": null,
       "flex": null,
       "flex_flow": null,
       "grid_area": null,
       "grid_auto_columns": null,
       "grid_auto_flow": null,
       "grid_auto_rows": null,
       "grid_column": null,
       "grid_gap": null,
       "grid_row": null,
       "grid_template_areas": null,
       "grid_template_columns": null,
       "grid_template_rows": null,
       "height": "500px",
       "justify_content": null,
       "justify_items": null,
       "left": null,
       "margin": null,
       "max_height": null,
       "max_width": null,
       "min_height": null,
       "min_width": null,
       "object_fit": null,
       "object_position": null,
       "order": null,
       "overflow": null,
       "overflow_x": null,
       "overflow_y": null,
       "padding": null,
       "right": null,
       "top": null,
       "visibility": null,
       "width": null
      }
     },
     "ba25097878fd43f99184925b102bfba9": {
      "model_module": "catboost-widget",
      "model_module_version": "^1.0.0",
      "model_name": "CatboostWidgetModel",
      "state": {
       "_dom_classes": [],
       "_model_module": "catboost-widget",
       "_model_module_version": "^1.0.0",
       "_model_name": "CatboostWidgetModel",
       "_view_count": null,
       "_view_module": "catboost-widget",
       "_view_module_version": "^1.0.0",
       "_view_name": "CatboostWidgetView",
       "data": {
        "catboost_info": {
         "content": {
          "data": {
           "iterations": [
            {
             "iteration": 0,
             "learn": [
              0.6700426497
             ],
             "passed_time": 0.4363765402,
             "remaining_time": 43.20127747,
             "test": [
              0.6698288423
             ]
            },
            {
             "iteration": 1,
             "learn": [
              0.6485709226
             ],
             "passed_time": 0.8171337521,
             "remaining_time": 40.03955385,
             "test": [
              0.6472088186
             ]
            },
            {
             "iteration": 2,
             "learn": [
              0.6265946207
             ],
             "passed_time": 1.259985898,
             "remaining_time": 40.73954404,
             "test": [
              0.6264677637
             ]
            },
            {
             "iteration": 3,
             "learn": [
              0.6065361788
             ],
             "passed_time": 1.690751395,
             "remaining_time": 40.57803348,
             "test": [
              0.6066078866
             ]
            },
            {
             "iteration": 4,
             "learn": [
              0.5884589529
             ],
             "passed_time": 2.088862075,
             "remaining_time": 39.68837942,
             "test": [
              0.5879619833
             ]
            },
            {
             "iteration": 5,
             "learn": [
              0.5711142272
             ],
             "passed_time": 2.530733193,
             "remaining_time": 39.64815335,
             "test": [
              0.5701729303
             ]
            },
            {
             "iteration": 6,
             "learn": [
              0.5532233791
             ],
             "passed_time": 2.913927534,
             "remaining_time": 38.71360867,
             "test": [
              0.5525140422
             ]
            },
            {
             "iteration": 7,
             "learn": [
              0.5376426924
             ],
             "passed_time": 3.300523999,
             "remaining_time": 37.95602599,
             "test": [
              0.535744379
             ]
            },
            {
             "iteration": 8,
             "learn": [
              0.5222286073
             ],
             "passed_time": 3.710059612,
             "remaining_time": 37.51282497,
             "test": [
              0.519763624
             ]
            },
            {
             "iteration": 9,
             "learn": [
              0.5068559974
             ],
             "passed_time": 4.093515603,
             "remaining_time": 36.84164043,
             "test": [
              0.5040854235
             ]
            },
            {
             "iteration": 10,
             "learn": [
              0.4923947335
             ],
             "passed_time": 4.48484629,
             "remaining_time": 36.28648362,
             "test": [
              0.4900364444
             ]
            },
            {
             "iteration": 11,
             "learn": [
              0.4788166862
             ],
             "passed_time": 4.934422532,
             "remaining_time": 36.18576524,
             "test": [
              0.4760763955
             ]
            },
            {
             "iteration": 12,
             "learn": [
              0.4657530307
             ],
             "passed_time": 5.349524596,
             "remaining_time": 35.8006646,
             "test": [
              0.4626064172
             ]
            },
            {
             "iteration": 13,
             "learn": [
              0.4528403919
             ],
             "passed_time": 5.737363255,
             "remaining_time": 35.24380285,
             "test": [
              0.4495065924
             ]
            },
            {
             "iteration": 14,
             "learn": [
              0.4413389118
             ],
             "passed_time": 6.132237734,
             "remaining_time": 34.74934716,
             "test": [
              0.43808528
             ]
            },
            {
             "iteration": 15,
             "learn": [
              0.4295731403
             ],
             "passed_time": 6.522832603,
             "remaining_time": 34.24487117,
             "test": [
              0.4259730514
             ]
            },
            {
             "iteration": 16,
             "learn": [
              0.4194960346
             ],
             "passed_time": 6.906407851,
             "remaining_time": 33.71952068,
             "test": [
              0.4153447367
             ]
            },
            {
             "iteration": 17,
             "learn": [
              0.4084351015
             ],
             "passed_time": 7.289578594,
             "remaining_time": 33.20808026,
             "test": [
              0.404611682
             ]
            },
            {
             "iteration": 18,
             "learn": [
              0.3989050801
             ],
             "passed_time": 7.692792253,
             "remaining_time": 32.79558803,
             "test": [
              0.3947987698
             ]
            },
            {
             "iteration": 19,
             "learn": [
              0.3887401293
             ],
             "passed_time": 8.070112588,
             "remaining_time": 32.28045035,
             "test": [
              0.3845660808
             ]
            },
            {
             "iteration": 20,
             "learn": [
              0.3795635641
             ],
             "passed_time": 8.45812381,
             "remaining_time": 31.81865624,
             "test": [
              0.3746909659
             ]
            },
            {
             "iteration": 21,
             "learn": [
              0.3699684353
             ],
             "passed_time": 8.853314027,
             "remaining_time": 31.38902246,
             "test": [
              0.3653166781
             ]
            },
            {
             "iteration": 22,
             "learn": [
              0.3611790405
             ],
             "passed_time": 9.244925944,
             "remaining_time": 30.95040425,
             "test": [
              0.3559873404
             ]
            },
            {
             "iteration": 23,
             "learn": [
              0.3533529141
             ],
             "passed_time": 9.650252455,
             "remaining_time": 30.55913278,
             "test": [
              0.3479769807
             ]
            },
            {
             "iteration": 24,
             "learn": [
              0.345047743
             ],
             "passed_time": 10.08886543,
             "remaining_time": 30.26659628,
             "test": [
              0.3392939897
             ]
            },
            {
             "iteration": 25,
             "learn": [
              0.3372374582
             ],
             "passed_time": 10.47931131,
             "remaining_time": 29.82573219,
             "test": [
              0.3314646728
             ]
            },
            {
             "iteration": 26,
             "learn": [
              0.3300489157
             ],
             "passed_time": 10.86377794,
             "remaining_time": 29.37243666,
             "test": [
              0.32442179
             ]
            },
            {
             "iteration": 27,
             "learn": [
              0.3228941933
             ],
             "passed_time": 11.24728171,
             "remaining_time": 28.92158155,
             "test": [
              0.3168872156
             ]
            },
            {
             "iteration": 28,
             "learn": [
              0.3157907717
             ],
             "passed_time": 11.64562485,
             "remaining_time": 28.51170221,
             "test": [
              0.3093698777
             ]
            },
            {
             "iteration": 29,
             "learn": [
              0.3089208639
             ],
             "passed_time": 12.06199021,
             "remaining_time": 28.14464383,
             "test": [
              0.3023878186
             ]
            },
            {
             "iteration": 30,
             "learn": [
              0.3026520602
             ],
             "passed_time": 12.43065556,
             "remaining_time": 27.66823333,
             "test": [
              0.2961031197
             ]
            },
            {
             "iteration": 31,
             "learn": [
              0.2965640936
             ],
             "passed_time": 12.87515454,
             "remaining_time": 27.35970339,
             "test": [
              0.2896263974
             ]
            },
            {
             "iteration": 32,
             "learn": [
              0.2905238474
             ],
             "passed_time": 13.26691031,
             "remaining_time": 26.93584821,
             "test": [
              0.2832607369
             ]
            },
            {
             "iteration": 33,
             "learn": [
              0.2846375399
             ],
             "passed_time": 13.71710049,
             "remaining_time": 26.62731271,
             "test": [
              0.2773525841
             ]
            },
            {
             "iteration": 34,
             "learn": [
              0.2791292881
             ],
             "passed_time": 14.17137834,
             "remaining_time": 26.31827407,
             "test": [
              0.2717067483
             ]
            },
            {
             "iteration": 35,
             "learn": [
              0.273789379
             ],
             "passed_time": 14.61875105,
             "remaining_time": 25.98889075,
             "test": [
              0.2663129088
             ]
            },
            {
             "iteration": 36,
             "learn": [
              0.2682326685
             ],
             "passed_time": 15.01588306,
             "remaining_time": 25.56758467,
             "test": [
              0.2607528037
             ]
            },
            {
             "iteration": 37,
             "learn": [
              0.2631740122
             ],
             "passed_time": 15.43828686,
             "remaining_time": 25.18878382,
             "test": [
              0.2554775902
             ]
            },
            {
             "iteration": 38,
             "learn": [
              0.2586508038
             ],
             "passed_time": 15.79606838,
             "remaining_time": 24.70667106,
             "test": [
              0.2512048889
             ]
            },
            {
             "iteration": 39,
             "learn": [
              0.2537101232
             ],
             "passed_time": 16.21588541,
             "remaining_time": 24.32382811,
             "test": [
              0.2462576016
             ]
            },
            {
             "iteration": 40,
             "learn": [
              0.2491081084
             ],
             "passed_time": 16.6701341,
             "remaining_time": 23.98872955,
             "test": [
              0.2415271001
             ]
            },
            {
             "iteration": 41,
             "learn": [
              0.2449093855
             ],
             "passed_time": 17.24377112,
             "remaining_time": 23.81282678,
             "test": [
              0.2371016603
             ]
            },
            {
             "iteration": 42,
             "learn": [
              0.2405852366
             ],
             "passed_time": 17.87462207,
             "remaining_time": 23.69426646,
             "test": [
              0.2327298162
             ]
            },
            {
             "iteration": 43,
             "learn": [
              0.236778489
             ],
             "passed_time": 18.34097922,
             "remaining_time": 23.34306446,
             "test": [
              0.2291942984
             ]
            },
            {
             "iteration": 44,
             "learn": [
              0.2327398729
             ],
             "passed_time": 18.77453942,
             "remaining_time": 22.94665929,
             "test": [
              0.2250907899
             ]
            },
            {
             "iteration": 45,
             "learn": [
              0.2285955974
             ],
             "passed_time": 19.17559524,
             "remaining_time": 22.51048137,
             "test": [
              0.2208548333
             ]
            },
            {
             "iteration": 46,
             "learn": [
              0.2253817509
             ],
             "passed_time": 19.60104273,
             "remaining_time": 22.1033035,
             "test": [
              0.2175393052
             ]
            },
            {
             "iteration": 47,
             "learn": [
              0.2213816621
             ],
             "passed_time": 20.0032923,
             "remaining_time": 21.67023333,
             "test": [
              0.2136158242
             ]
            },
            {
             "iteration": 48,
             "learn": [
              0.2183532268
             ],
             "passed_time": 20.43282385,
             "remaining_time": 21.26681666,
             "test": [
              0.2104715178
             ]
            },
            {
             "iteration": 49,
             "learn": [
              0.2149016453
             ],
             "passed_time": 20.87169093,
             "remaining_time": 20.87169093,
             "test": [
              0.2073729565
             ]
            },
            {
             "iteration": 50,
             "learn": [
              0.2119035268
             ],
             "passed_time": 21.26559097,
             "remaining_time": 20.43164622,
             "test": [
              0.2043660024
             ]
            },
            {
             "iteration": 51,
             "learn": [
              0.2085781233
             ],
             "passed_time": 21.72367355,
             "remaining_time": 20.05262174,
             "test": [
              0.2012122053
             ]
            },
            {
             "iteration": 52,
             "learn": [
              0.2054472538
             ],
             "passed_time": 22.1245976,
             "remaining_time": 19.61992618,
             "test": [
              0.1980163355
             ]
            },
            {
             "iteration": 53,
             "learn": [
              0.2023189006
             ],
             "passed_time": 22.54147112,
             "remaining_time": 19.20199391,
             "test": [
              0.1947711299
             ]
            },
            {
             "iteration": 54,
             "learn": [
              0.1995029218
             ],
             "passed_time": 22.91246879,
             "remaining_time": 18.74656537,
             "test": [
              0.1921606215
             ]
            },
            {
             "iteration": 55,
             "learn": [
              0.196803453
             ],
             "passed_time": 23.3111274,
             "remaining_time": 18.31588581,
             "test": [
              0.1895665792
             ]
            },
            {
             "iteration": 56,
             "learn": [
              0.1938789977
             ],
             "passed_time": 23.70279165,
             "remaining_time": 17.88105335,
             "test": [
              0.1867957727
             ]
            },
            {
             "iteration": 57,
             "learn": [
              0.1913585143
             ],
             "passed_time": 24.06408875,
             "remaining_time": 17.42571944,
             "test": [
              0.1845209899
             ]
            },
            {
             "iteration": 58,
             "learn": [
              0.1883182861
             ],
             "passed_time": 24.54343233,
             "remaining_time": 17.05560552,
             "test": [
              0.1812411002
             ]
            },
            {
             "iteration": 59,
             "learn": [
              0.1854623818
             ],
             "passed_time": 24.93865037,
             "remaining_time": 16.62576691,
             "test": [
              0.1786687123
             ]
            },
            {
             "iteration": 60,
             "learn": [
              0.1826386654
             ],
             "passed_time": 25.40406164,
             "remaining_time": 16.24194105,
             "test": [
              0.1757700547
             ]
            },
            {
             "iteration": 61,
             "learn": [
              0.1798906524
             ],
             "passed_time": 25.87142435,
             "remaining_time": 15.85667944,
             "test": [
              0.1728732146
             ]
            },
            {
             "iteration": 62,
             "learn": [
              0.1775769216
             ],
             "passed_time": 26.2480191,
             "remaining_time": 15.41550328,
             "test": [
              0.1709534664
             ]
            },
            {
             "iteration": 63,
             "learn": [
              0.1753189867
             ],
             "passed_time": 26.60438047,
             "remaining_time": 14.96496401,
             "test": [
              0.1685835908
             ]
            },
            {
             "iteration": 64,
             "learn": [
              0.173189201
             ],
             "passed_time": 26.99375441,
             "remaining_time": 14.53509853,
             "test": [
              0.1666612411
             ]
            },
            {
             "iteration": 65,
             "learn": [
              0.1708037173
             ],
             "passed_time": 27.39113896,
             "remaining_time": 14.11058674,
             "test": [
              0.1645030236
             ]
            },
            {
             "iteration": 66,
             "learn": [
              0.1689137667
             ],
             "passed_time": 27.75701967,
             "remaining_time": 13.6713679,
             "test": [
              0.1627607652
             ]
            },
            {
             "iteration": 67,
             "learn": [
              0.1664753608
             ],
             "passed_time": 28.22391451,
             "remaining_time": 13.28184212,
             "test": [
              0.1602875398
             ]
            },
            {
             "iteration": 68,
             "learn": [
              0.1641303452
             ],
             "passed_time": 28.69687544,
             "remaining_time": 12.89279911,
             "test": [
              0.1579061004
             ]
            },
            {
             "iteration": 69,
             "learn": [
              0.1620152119
             ],
             "passed_time": 29.09912038,
             "remaining_time": 12.47105159,
             "test": [
              0.1556559787
             ]
            },
            {
             "iteration": 70,
             "learn": [
              0.1598112649
             ],
             "passed_time": 29.57652681,
             "remaining_time": 12.08055321,
             "test": [
              0.1533724071
             ]
            },
            {
             "iteration": 71,
             "learn": [
              0.1578737199
             ],
             "passed_time": 29.95848988,
             "remaining_time": 11.65052384,
             "test": [
              0.1517158223
             ]
            },
            {
             "iteration": 72,
             "learn": [
              0.1559318712
             ],
             "passed_time": 30.39509562,
             "remaining_time": 11.24202167,
             "test": [
              0.149955171
             ]
            },
            {
             "iteration": 73,
             "learn": [
              0.1542649735
             ],
             "passed_time": 30.75902448,
             "remaining_time": 10.80722482,
             "test": [
              0.1482964522
             ]
            },
            {
             "iteration": 74,
             "learn": [
              0.152624334
             ],
             "passed_time": 31.17252837,
             "remaining_time": 10.39084279,
             "test": [
              0.1465886763
             ]
            },
            {
             "iteration": 75,
             "learn": [
              0.1509780492
             ],
             "passed_time": 31.55035205,
             "remaining_time": 9.963269067,
             "test": [
              0.1452663269
             ]
            },
            {
             "iteration": 76,
             "learn": [
              0.1490721027
             ],
             "passed_time": 32.06658276,
             "remaining_time": 9.578329915,
             "test": [
              0.1432771356
             ]
            },
            {
             "iteration": 77,
             "learn": [
              0.147354842
             ],
             "passed_time": 32.50146481,
             "remaining_time": 9.167079818,
             "test": [
              0.141742612
             ]
            },
            {
             "iteration": 78,
             "learn": [
              0.145419571
             ],
             "passed_time": 32.96026211,
             "remaining_time": 8.761588663,
             "test": [
              0.1397641352
             ]
            },
            {
             "iteration": 79,
             "learn": [
              0.1437056064
             ],
             "passed_time": 33.36497173,
             "remaining_time": 8.341242932,
             "test": [
              0.1381751699
             ]
            },
            {
             "iteration": 80,
             "learn": [
              0.1424076276
             ],
             "passed_time": 33.73220561,
             "remaining_time": 7.912492675,
             "test": [
              0.1369575609
             ]
            },
            {
             "iteration": 81,
             "learn": [
              0.1409152311
             ],
             "passed_time": 34.14272484,
             "remaining_time": 7.494744476,
             "test": [
              0.1355573242
             ]
            },
            {
             "iteration": 82,
             "learn": [
              0.1393564496
             ],
             "passed_time": 34.55544641,
             "remaining_time": 7.077621554,
             "test": [
              0.1340552474
             ]
            },
            {
             "iteration": 83,
             "learn": [
              0.1378472678
             ],
             "passed_time": 35.00917419,
             "remaining_time": 6.668414131,
             "test": [
              0.1326109904
             ]
            },
            {
             "iteration": 84,
             "learn": [
              0.1366685853
             ],
             "passed_time": 35.358318,
             "remaining_time": 6.239703177,
             "test": [
              0.1316395026
             ]
            },
            {
             "iteration": 85,
             "learn": [
              0.1354552255
             ],
             "passed_time": 35.74108577,
             "remaining_time": 5.818316288,
             "test": [
              0.1306499492
             ]
            },
            {
             "iteration": 86,
             "learn": [
              0.1341385838
             ],
             "passed_time": 36.17976386,
             "remaining_time": 5.406171612,
             "test": [
              0.1293566616
             ]
            },
            {
             "iteration": 87,
             "learn": [
              0.1330542178
             ],
             "passed_time": 36.57300601,
             "remaining_time": 4.987228093,
             "test": [
              0.1284394795
             ]
            },
            {
             "iteration": 88,
             "learn": [
              0.1314137743
             ],
             "passed_time": 37.00266234,
             "remaining_time": 4.573362761,
             "test": [
              0.1266448655
             ]
            },
            {
             "iteration": 89,
             "learn": [
              0.1297925963
             ],
             "passed_time": 37.43461732,
             "remaining_time": 4.159401925,
             "test": [
              0.124991465
             ]
            },
            {
             "iteration": 90,
             "learn": [
              0.1284770748
             ],
             "passed_time": 37.84453346,
             "remaining_time": 3.742865946,
             "test": [
              0.1236928181
             ]
            },
            {
             "iteration": 91,
             "learn": [
              0.1269518699
             ],
             "passed_time": 38.31250155,
             "remaining_time": 3.331521874,
             "test": [
              0.1221247077
             ]
            },
            {
             "iteration": 92,
             "learn": [
              0.1256234002
             ],
             "passed_time": 38.77850757,
             "remaining_time": 2.918812398,
             "test": [
              0.1205266195
             ]
            },
            {
             "iteration": 93,
             "learn": [
              0.1242566504
             ],
             "passed_time": 39.24233734,
             "remaining_time": 2.504830043,
             "test": [
              0.1191166356
             ]
            },
            {
             "iteration": 94,
             "learn": [
              0.1230385711
             ],
             "passed_time": 39.64608012,
             "remaining_time": 2.086635796,
             "test": [
              0.1179527941
             ]
            },
            {
             "iteration": 95,
             "learn": [
              0.121952735
             ],
             "passed_time": 40.04889682,
             "remaining_time": 1.668704034,
             "test": [
              0.1169551399
             ]
            },
            {
             "iteration": 96,
             "learn": [
              0.1210393468
             ],
             "passed_time": 40.42242745,
             "remaining_time": 1.250178169,
             "test": [
              0.1160317363
             ]
            },
            {
             "iteration": 97,
             "learn": [
              0.1201583299
             ],
             "passed_time": 40.81956592,
             "remaining_time": 0.8330523658,
             "test": [
              0.1153135253
             ]
            },
            {
             "iteration": 98,
             "learn": [
              0.1192059543
             ],
             "passed_time": 41.19658519,
             "remaining_time": 0.4161271232,
             "test": [
              0.1145894556
             ]
            },
            {
             "iteration": 99,
             "learn": [
              0.1180477069
             ],
             "passed_time": 41.59805456,
             "remaining_time": 0,
             "test": [
              0.1135579915
             ]
            }
           ],
           "meta": {
            "iteration_count": 100,
            "launch_mode": "Train",
            "learn_metrics": [
             {
              "best_value": "Min",
              "name": "CrossEntropy"
             }
            ],
            "learn_sets": [
             "learn"
            ],
            "name": "experiment",
            "parameters": "",
            "test_metrics": [
             {
              "best_value": "Min",
              "name": "CrossEntropy"
             }
            ],
            "test_sets": [
             "test"
            ]
           }
          },
          "passed_iterations": 99,
          "total_iterations": 100
         },
         "name": "catboost_info",
         "path": "catboost_info"
        }
       },
       "layout": "IPY_MODEL_ca2830baf90e4b61aaca58a6c89fbdf4"
      }
     },
     "bbe7a99a91774457874e85917829d28f": {
      "model_module": "@jupyter-widgets/base",
      "model_module_version": "1.2.0",
      "model_name": "LayoutModel",
      "state": {
       "_model_module": "@jupyter-widgets/base",
       "_model_module_version": "1.2.0",
       "_model_name": "LayoutModel",
       "_view_count": null,
       "_view_module": "@jupyter-widgets/base",
       "_view_module_version": "1.2.0",
       "_view_name": "LayoutView",
       "align_content": null,
       "align_items": null,
       "align_self": "stretch",
       "border": null,
       "bottom": null,
       "display": null,
       "flex": null,
       "flex_flow": null,
       "grid_area": null,
       "grid_auto_columns": null,
       "grid_auto_flow": null,
       "grid_auto_rows": null,
       "grid_column": null,
       "grid_gap": null,
       "grid_row": null,
       "grid_template_areas": null,
       "grid_template_columns": null,
       "grid_template_rows": null,
       "height": "500px",
       "justify_content": null,
       "justify_items": null,
       "left": null,
       "margin": null,
       "max_height": null,
       "max_width": null,
       "min_height": null,
       "min_width": null,
       "object_fit": null,
       "object_position": null,
       "order": null,
       "overflow": null,
       "overflow_x": null,
       "overflow_y": null,
       "padding": null,
       "right": null,
       "top": null,
       "visibility": null,
       "width": null
      }
     },
     "bd6f6ff9fbaf4fe8873f409eeabd24bc": {
      "model_module": "catboost-widget",
      "model_module_version": "^1.0.0",
      "model_name": "CatboostWidgetModel",
      "state": {
       "_dom_classes": [],
       "_model_module": "catboost-widget",
       "_model_module_version": "^1.0.0",
       "_model_name": "CatboostWidgetModel",
       "_view_count": null,
       "_view_module": "catboost-widget",
       "_view_module_version": "^1.0.0",
       "_view_name": "CatboostWidgetView",
       "data": {
        "catboost_info": {
         "content": {
          "data": {
           "iterations": [
            {
             "iteration": 0,
             "learn": [
              0.661380719
             ],
             "passed_time": 0.3761559524,
             "remaining_time": 37.23943929,
             "test": [
              0.6635992741
             ]
            },
            {
             "iteration": 1,
             "learn": [
              0.6362955815
             ],
             "passed_time": 0.7368438917,
             "remaining_time": 36.10535069,
             "test": [
              0.6357728146
             ]
            },
            {
             "iteration": 2,
             "learn": [
              0.6093775894
             ],
             "passed_time": 1.131131665,
             "remaining_time": 36.57325716,
             "test": [
              0.6095204784
             ]
            },
            {
             "iteration": 3,
             "learn": [
              0.5837186275
             ],
             "passed_time": 1.486069749,
             "remaining_time": 35.66567397,
             "test": [
              0.5847137914
             ]
            },
            {
             "iteration": 4,
             "learn": [
              0.5621931301
             ],
             "passed_time": 1.941064647,
             "remaining_time": 36.88022828,
             "test": [
              0.5612386401
             ]
            },
            {
             "iteration": 5,
             "learn": [
              0.53767028
             ],
             "passed_time": 2.338639038,
             "remaining_time": 36.63867826,
             "test": [
              0.5389933996
             ]
            },
            {
             "iteration": 6,
             "learn": [
              0.516885898
             ],
             "passed_time": 2.83971348,
             "remaining_time": 37.72762195,
             "test": [
              0.5178891189
             ]
            },
            {
             "iteration": 7,
             "learn": [
              0.4986856726
             ],
             "passed_time": 3.202034655,
             "remaining_time": 36.82339854,
             "test": [
              0.4978413411
             ]
            },
            {
             "iteration": 8,
             "learn": [
              0.4785288431
             ],
             "passed_time": 3.565272692,
             "remaining_time": 36.04886833,
             "test": [
              0.4787770552
             ]
            },
            {
             "iteration": 9,
             "learn": [
              0.4605843332
             ],
             "passed_time": 3.942262683,
             "remaining_time": 35.48036414,
             "test": [
              0.4606307474
             ]
            },
            {
             "iteration": 10,
             "learn": [
              0.443824314
             ],
             "passed_time": 4.319913726,
             "remaining_time": 34.95202924,
             "test": [
              0.443343027
             ]
            },
            {
             "iteration": 11,
             "learn": [
              0.4280555919
             ],
             "passed_time": 4.697580356,
             "remaining_time": 34.44892261,
             "test": [
              0.4268571991
             ]
            },
            {
             "iteration": 12,
             "learn": [
              0.4121263694
             ],
             "passed_time": 5.083084987,
             "remaining_time": 34.01756876,
             "test": [
              0.4111247418
             ]
            },
            {
             "iteration": 13,
             "learn": [
              0.3967804782
             ],
             "passed_time": 5.472191452,
             "remaining_time": 33.61489035,
             "test": [
              0.3960985623
             ]
            },
            {
             "iteration": 14,
             "learn": [
              0.3823969609
             ],
             "passed_time": 5.884684465,
             "remaining_time": 33.3465453,
             "test": [
              0.3817366953
             ]
            },
            {
             "iteration": 15,
             "learn": [
              0.3673379741
             ],
             "passed_time": 6.379369132,
             "remaining_time": 33.49168794,
             "test": [
              0.3680028598
             ]
            },
            {
             "iteration": 16,
             "learn": [
              0.3538866539
             ],
             "passed_time": 6.825254574,
             "remaining_time": 33.32330175,
             "test": [
              0.3548583807
             ]
            },
            {
             "iteration": 17,
             "learn": [
              0.3431863631
             ],
             "passed_time": 7.164841692,
             "remaining_time": 32.63983438,
             "test": [
              0.342270716
             ]
            },
            {
             "iteration": 18,
             "learn": [
              0.3300939681
             ],
             "passed_time": 7.552463249,
             "remaining_time": 32.19734332,
             "test": [
              0.3302105178
             ]
            },
            {
             "iteration": 19,
             "learn": [
              0.3196813562
             ],
             "passed_time": 8.000256231,
             "remaining_time": 32.00102492,
             "test": [
              0.318649649
             ]
            },
            {
             "iteration": 20,
             "learn": [
              0.3069749229
             ],
             "passed_time": 8.443534414,
             "remaining_time": 31.76377232,
             "test": [
              0.3075615355
             ]
            },
            {
             "iteration": 21,
             "learn": [
              0.2968896449
             ],
             "passed_time": 8.837051771,
             "remaining_time": 31.33136537,
             "test": [
              0.2969211433
             ]
            },
            {
             "iteration": 22,
             "learn": [
              0.2867758721
             ],
             "passed_time": 9.247985226,
             "remaining_time": 30.96064619,
             "test": [
              0.286706533
             ]
            },
            {
             "iteration": 23,
             "learn": [
              0.27651581
             ],
             "passed_time": 9.959029904,
             "remaining_time": 31.53692803,
             "test": [
              0.2768953085
             ]
            },
            {
             "iteration": 24,
             "learn": [
              0.2664611132
             ],
             "passed_time": 11.68498039,
             "remaining_time": 35.05494118,
             "test": [
              0.2674681731
             ]
            },
            {
             "iteration": 25,
             "learn": [
              0.2579892082
             ],
             "passed_time": 13.16035421,
             "remaining_time": 37.45639276,
             "test": [
              0.2584065747
             ]
            },
            {
             "iteration": 26,
             "learn": [
              0.2499727481
             ],
             "passed_time": 13.57111704,
             "remaining_time": 36.6922794,
             "test": [
              0.249693773
             ]
            },
            {
             "iteration": 27,
             "learn": [
              0.2419827668
             ],
             "passed_time": 14.01877676,
             "remaining_time": 36.04828309,
             "test": [
              0.2413124672
             ]
            },
            {
             "iteration": 28,
             "learn": [
              0.2336884818
             ],
             "passed_time": 14.51787404,
             "remaining_time": 35.54376059,
             "test": [
              0.2332502684
             ]
            },
            {
             "iteration": 29,
             "learn": [
              0.2258557273
             ],
             "passed_time": 15.02837419,
             "remaining_time": 35.06620644,
             "test": [
              0.2254884979
             ]
            },
            {
             "iteration": 30,
             "learn": [
              0.2185346435
             ],
             "passed_time": 15.5012321,
             "remaining_time": 34.50274241,
             "test": [
              0.2180149295
             ]
            },
            {
             "iteration": 31,
             "learn": [
              0.2109425555
             ],
             "passed_time": 15.86666207,
             "remaining_time": 33.71665691,
             "test": [
              0.210820694
             ]
            },
            {
             "iteration": 32,
             "learn": [
              0.203362488
             ],
             "passed_time": 16.35334808,
             "remaining_time": 33.20225216,
             "test": [
              0.2038858248
             ]
            },
            {
             "iteration": 33,
             "learn": [
              0.1964427831
             ],
             "passed_time": 16.78802831,
             "remaining_time": 32.58852555,
             "test": [
              0.1972030466
             ]
            },
            {
             "iteration": 34,
             "learn": [
              0.1911929241
             ],
             "passed_time": 17.22635401,
             "remaining_time": 31.99180031,
             "test": [
              0.1907629046
             ]
            },
            {
             "iteration": 35,
             "learn": [
              0.1839125784
             ],
             "passed_time": 17.591463,
             "remaining_time": 31.273712,
             "test": [
              0.184553287
             ]
            },
            {
             "iteration": 36,
             "learn": [
              0.1787816154
             ],
             "passed_time": 17.9762917,
             "remaining_time": 30.60828046,
             "test": [
              0.1785647477
             ]
            },
            {
             "iteration": 37,
             "learn": [
              0.172200847
             ],
             "passed_time": 18.34331205,
             "remaining_time": 29.92856177,
             "test": [
              0.17278815
             ]
            },
            {
             "iteration": 38,
             "learn": [
              0.1676819928
             ],
             "passed_time": 18.77095954,
             "remaining_time": 29.35970594,
             "test": [
              0.1672151155
             ]
            },
            {
             "iteration": 39,
             "learn": [
              0.1614393516
             ],
             "passed_time": 19.16012719,
             "remaining_time": 28.74019078,
             "test": [
              0.161837131
             ]
            },
            {
             "iteration": 40,
             "learn": [
              0.1563418409
             ],
             "passed_time": 19.58622479,
             "remaining_time": 28.18505519,
             "test": [
              0.1566467059
             ]
            },
            {
             "iteration": 41,
             "learn": [
              0.1520300349
             ],
             "passed_time": 19.99895673,
             "remaining_time": 27.61760691,
             "test": [
              0.1516367203
             ]
            },
            {
             "iteration": 42,
             "learn": [
              0.1470215935
             ],
             "passed_time": 20.42350918,
             "remaining_time": 27.07302379,
             "test": [
              0.1467997268
             ]
            },
            {
             "iteration": 43,
             "learn": [
              0.1418805945
             ],
             "passed_time": 20.83810012,
             "remaining_time": 26.52121834,
             "test": [
              0.1421277701
             ]
            },
            {
             "iteration": 44,
             "learn": [
              0.1371223353
             ],
             "passed_time": 21.26605968,
             "remaining_time": 25.99185072,
             "test": [
              0.1376158545
             ]
            },
            {
             "iteration": 45,
             "learn": [
              0.1329224923
             ],
             "passed_time": 21.71495797,
             "remaining_time": 25.49147239,
             "test": [
              0.1332568444
             ]
            },
            {
             "iteration": 46,
             "learn": [
              0.1289331863
             ],
             "passed_time": 22.07438952,
             "remaining_time": 24.89239669,
             "test": [
              0.129045202
             ]
            },
            {
             "iteration": 47,
             "learn": [
              0.125007539
             ],
             "passed_time": 22.77611793,
             "remaining_time": 24.67412776,
             "test": [
              0.1249761733
             ]
            },
            {
             "iteration": 48,
             "learn": [
              0.1210977369
             ],
             "passed_time": 23.36123889,
             "remaining_time": 24.31475884,
             "test": [
              0.1210433471
             ]
            },
            {
             "iteration": 49,
             "learn": [
              0.117211689
             ],
             "passed_time": 23.783855,
             "remaining_time": 23.783855,
             "test": [
              0.1172422249
             ]
            },
            {
             "iteration": 50,
             "learn": [
              0.1133358967
             ],
             "passed_time": 24.18827247,
             "remaining_time": 23.23971276,
             "test": [
              0.1135678506
             ]
            },
            {
             "iteration": 51,
             "learn": [
              0.1097731036
             ],
             "passed_time": 24.5460047,
             "remaining_time": 22.65785049,
             "test": [
              0.1100146194
             ]
            },
            {
             "iteration": 52,
             "learn": [
              0.1069440413
             ],
             "passed_time": 24.91852318,
             "remaining_time": 22.09755829,
             "test": [
              0.1065786563
             ]
            },
            {
             "iteration": 53,
             "learn": [
              0.1034245869
             ],
             "passed_time": 25.25886657,
             "remaining_time": 21.51681226,
             "test": [
              0.1032559307
             ]
            },
            {
             "iteration": 54,
             "learn": [
              0.09974963212
             ],
             "passed_time": 25.71244627,
             "remaining_time": 21.03745604,
             "test": [
              0.1000427662
             ]
            },
            {
             "iteration": 55,
             "learn": [
              0.09715596524
             ],
             "passed_time": 26.1230757,
             "remaining_time": 20.52527377,
             "test": [
              0.09693463102
             ]
            },
            {
             "iteration": 56,
             "learn": [
              0.09378606601
             ],
             "passed_time": 26.54821023,
             "remaining_time": 20.02759719,
             "test": [
              0.09392723197
             ]
            },
            {
             "iteration": 57,
             "learn": [
              0.09124310976
             ],
             "passed_time": 26.99918872,
             "remaining_time": 19.55113666,
             "test": [
              0.09101843244
             ]
            },
            {
             "iteration": 58,
             "learn": [
              0.08796225657
             ],
             "passed_time": 27.39612464,
             "remaining_time": 19.03798492,
             "test": [
              0.08820404472
             ]
            },
            {
             "iteration": 59,
             "learn": [
              0.0854935859
             ],
             "passed_time": 27.81822714,
             "remaining_time": 18.54548476,
             "test": [
              0.08548015849
             ]
            },
            {
             "iteration": 60,
             "learn": [
              0.08259763321
             ],
             "passed_time": 28.23975832,
             "remaining_time": 18.05492745,
             "test": [
              0.08284369081
             ]
            },
            {
             "iteration": 61,
             "learn": [
              0.08012486202
             ],
             "passed_time": 28.6544829,
             "remaining_time": 17.562425,
             "test": [
              0.08029195913
             ]
            },
            {
             "iteration": 62,
             "learn": [
              0.07799317314
             ],
             "passed_time": 29.0475617,
             "remaining_time": 17.05967909,
             "test": [
              0.0778220644
             ]
            },
            {
             "iteration": 63,
             "learn": [
              0.07551242236
             ],
             "passed_time": 29.43951253,
             "remaining_time": 16.5597258,
             "test": [
              0.0754313492
             ]
            },
            {
             "iteration": 64,
             "learn": [
              0.07298388266
             ],
             "passed_time": 29.88455293,
             "remaining_time": 16.09168234,
             "test": [
              0.07311696419
             ]
            },
            {
             "iteration": 65,
             "learn": [
              0.07059522718
             ],
             "passed_time": 30.30135661,
             "remaining_time": 15.60978977,
             "test": [
              0.07087591928
             ]
            },
            {
             "iteration": 66,
             "learn": [
              0.06847521875
             ],
             "passed_time": 30.73651731,
             "remaining_time": 15.13888166,
             "test": [
              0.06870627641
             ]
            },
            {
             "iteration": 67,
             "learn": [
              0.06645629252
             ],
             "passed_time": 31.08605108,
             "remaining_time": 14.62872992,
             "test": [
              0.06660523224
             ]
            },
            {
             "iteration": 68,
             "learn": [
              0.0644885252
             ],
             "passed_time": 31.4891501,
             "remaining_time": 14.14729932,
             "test": [
              0.06457065854
             ]
            },
            {
             "iteration": 69,
             "learn": [
              0.06253492204
             ],
             "passed_time": 31.81754774,
             "remaining_time": 13.63609189,
             "test": [
              0.06260017283
             ]
            },
            {
             "iteration": 70,
             "learn": [
              0.06058687552
             ],
             "passed_time": 32.16516011,
             "remaining_time": 13.1378823,
             "test": [
              0.06069173222
             ]
            },
            {
             "iteration": 71,
             "learn": [
              0.05867788416
             ],
             "passed_time": 32.54145783,
             "remaining_time": 12.65501138,
             "test": [
              0.05884363659
             ]
            },
            {
             "iteration": 72,
             "learn": [
              0.05687124334
             ],
             "passed_time": 32.9400022,
             "remaining_time": 12.18328848,
             "test": [
              0.05705310408
             ]
            },
            {
             "iteration": 73,
             "learn": [
              0.05545524168
             ],
             "passed_time": 33.37930588,
             "remaining_time": 11.72786423,
             "test": [
              0.05531894095
             ]
            },
            {
             "iteration": 74,
             "learn": [
              0.05369858596
             ],
             "passed_time": 33.8236309,
             "remaining_time": 11.27454363,
             "test": [
              0.05363925432
             ]
            },
            {
             "iteration": 75,
             "learn": [
              0.05185111273
             ],
             "passed_time": 34.23764767,
             "remaining_time": 10.81188874,
             "test": [
              0.05201186571
             ]
            },
            {
             "iteration": 76,
             "learn": [
              0.05055605283
             ],
             "passed_time": 34.73280528,
             "remaining_time": 10.37473405,
             "test": [
              0.0504349729
             ]
            },
            {
             "iteration": 77,
             "learn": [
              0.04886509154
             ],
             "passed_time": 35.13240957,
             "remaining_time": 9.909141161,
             "test": [
              0.04890737694
             ]
            },
            {
             "iteration": 78,
             "learn": [
              0.04729080255
             ],
             "passed_time": 35.51509973,
             "remaining_time": 9.440722713,
             "test": [
              0.04742701604
             ]
            },
            {
             "iteration": 79,
             "learn": [
              0.04593766641
             ],
             "passed_time": 35.94188246,
             "remaining_time": 8.985470616,
             "test": [
              0.04599257645
             ]
            },
            {
             "iteration": 80,
             "learn": [
              0.0446751656
             ],
             "passed_time": 36.30251383,
             "remaining_time": 8.515404479,
             "test": [
              0.04460261334
             ]
            },
            {
             "iteration": 81,
             "learn": [
              0.04309462948
             ],
             "passed_time": 36.66203722,
             "remaining_time": 8.047764268,
             "test": [
              0.0432555887
             ]
            },
            {
             "iteration": 82,
             "learn": [
              0.04198500305
             ],
             "passed_time": 37.01539012,
             "remaining_time": 7.581465447,
             "test": [
              0.0419499002
             ]
            },
            {
             "iteration": 83,
             "learn": [
              0.04074147964
             ],
             "passed_time": 37.37063129,
             "remaining_time": 7.118215484,
             "test": [
              0.04068439929
             ]
            },
            {
             "iteration": 84,
             "learn": [
              0.0393782996
             ],
             "passed_time": 37.7479951,
             "remaining_time": 6.661410901,
             "test": [
              0.03945785036
             ]
            },
            {
             "iteration": 85,
             "learn": [
              0.03815637724
             ],
             "passed_time": 38.21646488,
             "remaining_time": 6.221284981,
             "test": [
              0.03827007817
             ]
            },
            {
             "iteration": 86,
             "learn": [
              0.03713522255
             ],
             "passed_time": 38.55192995,
             "remaining_time": 5.760633211,
             "test": [
              0.03711794499
             ]
            },
            {
             "iteration": 87,
             "learn": [
              0.03608483129
             ],
             "passed_time": 38.97797699,
             "remaining_time": 5.31517868,
             "test": [
              0.03600200591
             ]
            },
            {
             "iteration": 88,
             "learn": [
              0.03490499298
             ],
             "passed_time": 39.37273453,
             "remaining_time": 4.866293032,
             "test": [
              0.03491954244
             ]
            },
            {
             "iteration": 89,
             "learn": [
              0.03385641979
             ],
             "passed_time": 39.81729386,
             "remaining_time": 4.424143762,
             "test": [
              0.03387052013
             ]
            },
            {
             "iteration": 90,
             "learn": [
              0.03284871882
             ],
             "passed_time": 40.1857069,
             "remaining_time": 3.974410573,
             "test": [
              0.0328532473
             ]
            },
            {
             "iteration": 91,
             "learn": [
              0.03185890247
             ],
             "passed_time": 40.61387009,
             "remaining_time": 3.531640877,
             "test": [
              0.03186762329
             ]
            },
            {
             "iteration": 92,
             "learn": [
              0.03088250019
             ],
             "passed_time": 41.02386739,
             "remaining_time": 3.087817976,
             "test": [
              0.0309116142
             ]
            },
            {
             "iteration": 93,
             "learn": [
              0.02994324058
             ],
             "passed_time": 41.47896551,
             "remaining_time": 2.647593543,
             "test": [
              0.02998507859
             ]
            },
            {
             "iteration": 94,
             "learn": [
              0.02902578158
             ],
             "passed_time": 41.9341678,
             "remaining_time": 2.207061463,
             "test": [
              0.02908673727
             ]
            },
            {
             "iteration": 95,
             "learn": [
              0.02826747055
             ],
             "passed_time": 42.3777161,
             "remaining_time": 1.765738171,
             "test": [
              0.02821560069
             ]
            },
            {
             "iteration": 96,
             "learn": [
              0.02738260818
             ],
             "passed_time": 42.80175459,
             "remaining_time": 1.323765606,
             "test": [
              0.0273711636
             ]
            },
            {
             "iteration": 97,
             "learn": [
              0.02647275506
             ],
             "passed_time": 43.22553676,
             "remaining_time": 0.8821538115,
             "test": [
              0.02655201291
             ]
            },
            {
             "iteration": 98,
             "learn": [
              0.02580704153
             ],
             "passed_time": 43.59364067,
             "remaining_time": 0.4403398047,
             "test": [
              0.02575748731
             ]
            },
            {
             "iteration": 99,
             "learn": [
              0.02495305029
             ],
             "passed_time": 43.95494534,
             "remaining_time": 0,
             "test": [
              0.02498702141
             ]
            }
           ],
           "meta": {
            "iteration_count": 100,
            "launch_mode": "Train",
            "learn_metrics": [
             {
              "best_value": "Min",
              "name": "CrossEntropy"
             }
            ],
            "learn_sets": [
             "learn"
            ],
            "name": "experiment",
            "parameters": "",
            "test_metrics": [
             {
              "best_value": "Min",
              "name": "CrossEntropy"
             }
            ],
            "test_sets": [
             "test"
            ]
           }
          },
          "passed_iterations": 99,
          "total_iterations": 100
         },
         "name": "catboost_info",
         "path": "catboost_info"
        }
       },
       "layout": "IPY_MODEL_c226b1daed8648acb11920854ceb98e4"
      }
     },
     "c226b1daed8648acb11920854ceb98e4": {
      "model_module": "@jupyter-widgets/base",
      "model_module_version": "1.2.0",
      "model_name": "LayoutModel",
      "state": {
       "_model_module": "@jupyter-widgets/base",
       "_model_module_version": "1.2.0",
       "_model_name": "LayoutModel",
       "_view_count": null,
       "_view_module": "@jupyter-widgets/base",
       "_view_module_version": "1.2.0",
       "_view_name": "LayoutView",
       "align_content": null,
       "align_items": null,
       "align_self": "stretch",
       "border": null,
       "bottom": null,
       "display": null,
       "flex": null,
       "flex_flow": null,
       "grid_area": null,
       "grid_auto_columns": null,
       "grid_auto_flow": null,
       "grid_auto_rows": null,
       "grid_column": null,
       "grid_gap": null,
       "grid_row": null,
       "grid_template_areas": null,
       "grid_template_columns": null,
       "grid_template_rows": null,
       "height": "500px",
       "justify_content": null,
       "justify_items": null,
       "left": null,
       "margin": null,
       "max_height": null,
       "max_width": null,
       "min_height": null,
       "min_width": null,
       "object_fit": null,
       "object_position": null,
       "order": null,
       "overflow": null,
       "overflow_x": null,
       "overflow_y": null,
       "padding": null,
       "right": null,
       "top": null,
       "visibility": null,
       "width": null
      }
     },
     "c6f35680d39542f683aa7917f8c8404b": {
      "model_module": "catboost-widget",
      "model_module_version": "^1.0.0",
      "model_name": "CatboostWidgetModel",
      "state": {
       "_dom_classes": [],
       "_model_module": "catboost-widget",
       "_model_module_version": "^1.0.0",
       "_model_name": "CatboostWidgetModel",
       "_view_count": null,
       "_view_module": "catboost-widget",
       "_view_module_version": "^1.0.0",
       "_view_name": "CatboostWidgetView",
       "data": {
        "catboost_info": {
         "content": {
          "data": {
           "iterations": [
            {
             "iteration": 0,
             "learn": [
              0.6628796332
             ],
             "passed_time": 0.4238819406,
             "remaining_time": 41.96431212,
             "test": [
              0.6643180997
             ]
            },
            {
             "iteration": 1,
             "learn": [
              0.6375870746
             ],
             "passed_time": 0.847454056,
             "remaining_time": 41.52524875,
             "test": [
              0.6373103871
             ]
            },
            {
             "iteration": 2,
             "learn": [
              0.6113586172
             ],
             "passed_time": 1.249304934,
             "remaining_time": 40.39419287,
             "test": [
              0.6117283812
             ]
            },
            {
             "iteration": 3,
             "learn": [
              0.5871281714
             ],
             "passed_time": 1.67393656,
             "remaining_time": 40.17447743,
             "test": [
              0.5873985977
             ]
            },
            {
             "iteration": 4,
             "learn": [
              0.5649211179
             ],
             "passed_time": 2.121494722,
             "remaining_time": 40.30839972,
             "test": [
              0.5643827309
             ]
            },
            {
             "iteration": 5,
             "learn": [
              0.5430214332
             ],
             "passed_time": 2.572001999,
             "remaining_time": 40.29469799,
             "test": [
              0.5425455441
             ]
            },
            {
             "iteration": 6,
             "learn": [
              0.5211056233
             ],
             "passed_time": 2.995802571,
             "remaining_time": 39.80137701,
             "test": [
              0.5219628993
             ]
            },
            {
             "iteration": 7,
             "learn": [
              0.5027922696
             ],
             "passed_time": 3.424152873,
             "remaining_time": 39.37775804,
             "test": [
              0.5022742997
             ]
            },
            {
             "iteration": 8,
             "learn": [
              0.4837196293
             ],
             "passed_time": 3.863294566,
             "remaining_time": 39.06220061,
             "test": [
              0.4836207474
             ]
            },
            {
             "iteration": 9,
             "learn": [
              0.4659544002
             ],
             "passed_time": 4.34981821,
             "remaining_time": 39.14836389,
             "test": [
              0.4657461259
             ]
            },
            {
             "iteration": 10,
             "learn": [
              0.4495711206
             ],
             "passed_time": 4.816081652,
             "remaining_time": 38.96647882,
             "test": [
              0.4486351108
             ]
            },
            {
             "iteration": 11,
             "learn": [
              0.4333581069
             ],
             "passed_time": 5.259980096,
             "remaining_time": 38.57318737,
             "test": [
              0.4324265959
             ]
            },
            {
             "iteration": 12,
             "learn": [
              0.4180116034
             ],
             "passed_time": 5.642528184,
             "remaining_time": 37.76153477,
             "test": [
              0.4171312097
             ]
            },
            {
             "iteration": 13,
             "learn": [
              0.4028937499
             ],
             "passed_time": 6.103128536,
             "remaining_time": 37.49064672,
             "test": [
              0.4022912945
             ]
            },
            {
             "iteration": 14,
             "learn": [
              0.3887547002
             ],
             "passed_time": 6.572120854,
             "remaining_time": 37.24201817,
             "test": [
              0.388265795
             ]
            },
            {
             "iteration": 15,
             "learn": [
              0.3744631457
             ],
             "passed_time": 7.059773373,
             "remaining_time": 37.06381021,
             "test": [
              0.3747318992
             ]
            },
            {
             "iteration": 16,
             "learn": [
              0.3619698741
             ],
             "passed_time": 7.672874927,
             "remaining_time": 37.46168347,
             "test": [
              0.3616244318
             ]
            },
            {
             "iteration": 17,
             "learn": [
              0.3500130988
             ],
             "passed_time": 8.385176203,
             "remaining_time": 38.19913603,
             "test": [
              0.3490733989
             ]
            },
            {
             "iteration": 18,
             "learn": [
              0.3379178484
             ],
             "passed_time": 8.888267172,
             "remaining_time": 37.89208637,
             "test": [
              0.3372292048
             ]
            },
            {
             "iteration": 19,
             "learn": [
              0.3269188547
             ],
             "passed_time": 9.353817633,
             "remaining_time": 37.41527053,
             "test": [
              0.3259710573
             ]
            },
            {
             "iteration": 20,
             "learn": [
              0.3156177914
             ],
             "passed_time": 9.789778167,
             "remaining_time": 36.82821311,
             "test": [
              0.3150901766
             ]
            },
            {
             "iteration": 21,
             "learn": [
              0.3049060031
             ],
             "passed_time": 10.22634247,
             "remaining_time": 36.25703238,
             "test": [
              0.304624472
             ]
            },
            {
             "iteration": 22,
             "learn": [
              0.2949102876
             ],
             "passed_time": 10.63835649,
             "remaining_time": 35.6153674,
             "test": [
              0.2942640635
             ]
            },
            {
             "iteration": 23,
             "learn": [
              0.2852695002
             ],
             "passed_time": 11.07328302,
             "remaining_time": 35.06539623,
             "test": [
              0.2846494722
             ]
            },
            {
             "iteration": 24,
             "learn": [
              0.2757590473
             ],
             "passed_time": 11.50037217,
             "remaining_time": 34.50111651,
             "test": [
              0.2754390639
             ]
            },
            {
             "iteration": 25,
             "learn": [
              0.2667284273
             ],
             "passed_time": 11.97254008,
             "remaining_time": 34.07569101,
             "test": [
              0.2664321311
             ]
            },
            {
             "iteration": 26,
             "learn": [
              0.2584985981
             ],
             "passed_time": 12.42174546,
             "remaining_time": 33.58471921,
             "test": [
              0.2578391079
             ]
            },
            {
             "iteration": 27,
             "learn": [
              0.2504890392
             ],
             "passed_time": 12.86858567,
             "remaining_time": 33.09064888,
             "test": [
              0.2494764311
             ]
            },
            {
             "iteration": 28,
             "learn": [
              0.2425625298
             ],
             "passed_time": 13.34974408,
             "remaining_time": 32.68385621,
             "test": [
              0.2415604657
             ]
            },
            {
             "iteration": 29,
             "learn": [
              0.2349382227
             ],
             "passed_time": 13.78247628,
             "remaining_time": 32.15911131,
             "test": [
              0.2339215356
             ]
            },
            {
             "iteration": 30,
             "learn": [
              0.2275925868
             ],
             "passed_time": 14.23969485,
             "remaining_time": 31.69480466,
             "test": [
              0.226501087
             ]
            },
            {
             "iteration": 31,
             "learn": [
              0.2202759204
             ],
             "passed_time": 14.68618804,
             "remaining_time": 31.20814959,
             "test": [
              0.2193788747
             ]
            },
            {
             "iteration": 32,
             "learn": [
              0.2132575053
             ],
             "passed_time": 15.18246788,
             "remaining_time": 30.82501054,
             "test": [
              0.2124573397
             ]
            },
            {
             "iteration": 33,
             "learn": [
              0.2067487662
             ],
             "passed_time": 15.62176837,
             "remaining_time": 30.32460919,
             "test": [
              0.2058151998
             ]
            },
            {
             "iteration": 34,
             "learn": [
              0.2006756878
             ],
             "passed_time": 16.0477216,
             "remaining_time": 29.80291154,
             "test": [
              0.1994734839
             ]
            },
            {
             "iteration": 35,
             "learn": [
              0.1942471396
             ],
             "passed_time": 16.50547091,
             "remaining_time": 29.34305939,
             "test": [
              0.1933615534
             ]
            },
            {
             "iteration": 36,
             "learn": [
              0.1885545371
             ],
             "passed_time": 16.93803462,
             "remaining_time": 28.84043733,
             "test": [
              0.1873743601
             ]
            },
            {
             "iteration": 37,
             "learn": [
              0.1826772129
             ],
             "passed_time": 17.36236734,
             "remaining_time": 28.32807302,
             "test": [
              0.1816962163
             ]
            },
            {
             "iteration": 38,
             "learn": [
              0.1775657533
             ],
             "passed_time": 17.82736031,
             "remaining_time": 27.88381997,
             "test": [
              0.1761920224
             ]
            },
            {
             "iteration": 39,
             "learn": [
              0.1718965284
             ],
             "passed_time": 18.27603321,
             "remaining_time": 27.41404981,
             "test": [
              0.1706551246
             ]
            },
            {
             "iteration": 40,
             "learn": [
              0.166661225
             ],
             "passed_time": 18.70933059,
             "remaining_time": 26.92318305,
             "test": [
              0.1655586071
             ]
            },
            {
             "iteration": 41,
             "learn": [
              0.1619226378
             ],
             "passed_time": 19.15616657,
             "remaining_time": 26.45375383,
             "test": [
              0.1604129882
             ]
            },
            {
             "iteration": 42,
             "learn": [
              0.157024759
             ],
             "passed_time": 19.55769592,
             "remaining_time": 25.92531785,
             "test": [
              0.1555937394
             ]
            },
            {
             "iteration": 43,
             "learn": [
              0.1524216093
             ],
             "passed_time": 20.01645617,
             "remaining_time": 25.47548967,
             "test": [
              0.1510020559
             ]
            },
            {
             "iteration": 44,
             "learn": [
              0.1478778703
             ],
             "passed_time": 20.47747549,
             "remaining_time": 25.0280256,
             "test": [
              0.1465350511
             ]
            },
            {
             "iteration": 45,
             "learn": [
              0.1435936251
             ],
             "passed_time": 20.91432257,
             "remaining_time": 24.55159606,
             "test": [
              0.1422814298
             ]
            },
            {
             "iteration": 46,
             "learn": [
              0.1394430581
             ],
             "passed_time": 21.38697231,
             "remaining_time": 24.1172241,
             "test": [
              0.1380875327
             ]
            },
            {
             "iteration": 47,
             "learn": [
              0.1354369184
             ],
             "passed_time": 22.15444665,
             "remaining_time": 24.00065054,
             "test": [
              0.1339934884
             ]
            },
            {
             "iteration": 48,
             "learn": [
              0.1314648356
             ],
             "passed_time": 23.17945108,
             "remaining_time": 24.12555113,
             "test": [
              0.1299423723
             ]
            },
            {
             "iteration": 49,
             "learn": [
              0.1276692659
             ],
             "passed_time": 23.69754382,
             "remaining_time": 23.69754382,
             "test": [
              0.1261728491
             ]
            },
            {
             "iteration": 50,
             "learn": [
              0.1240025777
             ],
             "passed_time": 24.15275127,
             "remaining_time": 23.20558455,
             "test": [
              0.1224885972
             ]
            },
            {
             "iteration": 51,
             "learn": [
              0.1205293497
             ],
             "passed_time": 24.54009723,
             "remaining_time": 22.65239744,
             "test": [
              0.1189540791
             ]
            },
            {
             "iteration": 52,
             "learn": [
              0.1172151209
             ],
             "passed_time": 24.97870422,
             "remaining_time": 22.15092639,
             "test": [
              0.1155776431
             ]
            },
            {
             "iteration": 53,
             "learn": [
              0.113959335
             ],
             "passed_time": 25.43218,
             "remaining_time": 21.66444963,
             "test": [
              0.1122145966
             ]
            },
            {
             "iteration": 54,
             "learn": [
              0.1106864328
             ],
             "passed_time": 25.85237985,
             "remaining_time": 21.15194715,
             "test": [
              0.1090444253
             ]
            },
            {
             "iteration": 55,
             "learn": [
              0.1077516776
             ],
             "passed_time": 26.3056145,
             "remaining_time": 20.66869711,
             "test": [
              0.1059573185
             ]
            },
            {
             "iteration": 56,
             "learn": [
              0.1046389064
             ],
             "passed_time": 26.76996717,
             "remaining_time": 20.19488751,
             "test": [
              0.1029481407
             ]
            },
            {
             "iteration": 57,
             "learn": [
              0.1017878457
             ],
             "passed_time": 27.18997705,
             "remaining_time": 19.68929372,
             "test": [
              0.09993050813
             ]
            },
            {
             "iteration": 58,
             "learn": [
              0.09888957431
             ],
             "passed_time": 27.6218864,
             "remaining_time": 19.19487021,
             "test": [
              0.09713819034
             ]
            },
            {
             "iteration": 59,
             "learn": [
              0.09631738323
             ],
             "passed_time": 28.08144588,
             "remaining_time": 18.72096392,
             "test": [
              0.09447922999
             ]
            },
            {
             "iteration": 60,
             "learn": [
              0.09355777755
             ],
             "passed_time": 28.51617697,
             "remaining_time": 18.23165413,
             "test": [
              0.09181822963
             ]
            },
            {
             "iteration": 61,
             "learn": [
              0.09093780456
             ],
             "passed_time": 28.94227426,
             "remaining_time": 17.73881325,
             "test": [
              0.08916464896
             ]
            },
            {
             "iteration": 62,
             "learn": [
              0.0885944899
             ],
             "passed_time": 29.36366144,
             "remaining_time": 17.24532497,
             "test": [
              0.0867331408
             ]
            },
            {
             "iteration": 63,
             "learn": [
              0.08619960423
             ],
             "passed_time": 29.79788863,
             "remaining_time": 16.76131235,
             "test": [
              0.08431137622
             ]
            },
            {
             "iteration": 64,
             "learn": [
              0.08371866133
             ],
             "passed_time": 30.24532097,
             "remaining_time": 16.28594206,
             "test": [
              0.08187761893
             ]
            },
            {
             "iteration": 65,
             "learn": [
              0.08155138808
             ],
             "passed_time": 30.6687125,
             "remaining_time": 15.79903371,
             "test": [
              0.07963791334
             ]
            },
            {
             "iteration": 66,
             "learn": [
              0.0792583255
             ],
             "passed_time": 31.08161526,
             "remaining_time": 15.30885528,
             "test": [
              0.0773655564
             ]
            },
            {
             "iteration": 67,
             "learn": [
              0.07705551637
             ],
             "passed_time": 31.53934452,
             "remaining_time": 14.84204448,
             "test": [
              0.07511926255
             ]
            },
            {
             "iteration": 68,
             "learn": [
              0.07507204582
             ],
             "passed_time": 31.95272119,
             "remaining_time": 14.35557039,
             "test": [
              0.07310898223
             ]
            },
            {
             "iteration": 69,
             "learn": [
              0.07305036765
             ],
             "passed_time": 32.39436692,
             "remaining_time": 13.88330011,
             "test": [
              0.07104571986
             ]
            },
            {
             "iteration": 70,
             "learn": [
              0.07109968571
             ],
             "passed_time": 32.84429836,
             "remaining_time": 13.4152768,
             "test": [
              0.06906261517
             ]
            },
            {
             "iteration": 71,
             "learn": [
              0.06929266384
             ],
             "passed_time": 33.29404087,
             "remaining_time": 12.94768256,
             "test": [
              0.06722528179
             ]
            },
            {
             "iteration": 72,
             "learn": [
              0.06740469004
             ],
             "passed_time": 33.75653541,
             "remaining_time": 12.48529392,
             "test": [
              0.06530589005
             ]
            },
            {
             "iteration": 73,
             "learn": [
              0.0656943189
             ],
             "passed_time": 34.21609243,
             "remaining_time": 12.02187031,
             "test": [
              0.06357056562
             ]
            },
            {
             "iteration": 74,
             "learn": [
              0.06398635647
             ],
             "passed_time": 34.66912194,
             "remaining_time": 11.55637398,
             "test": [
              0.06182961857
             ]
            },
            {
             "iteration": 75,
             "learn": [
              0.06229209336
             ],
             "passed_time": 35.0877298,
             "remaining_time": 11.08033573,
             "test": [
              0.06012512285
             ]
            },
            {
             "iteration": 76,
             "learn": [
              0.06078154011
             ],
             "passed_time": 35.5169012,
             "remaining_time": 10.60894451,
             "test": [
              0.05855691679
             ]
            },
            {
             "iteration": 77,
             "learn": [
              0.05918913986
             ],
             "passed_time": 35.9581654,
             "remaining_time": 10.14204665,
             "test": [
              0.05698485865
             ]
            },
            {
             "iteration": 78,
             "learn": [
              0.05772408714
             ],
             "passed_time": 36.40566416,
             "remaining_time": 9.67745503,
             "test": [
              0.05552299432
             ]
            },
            {
             "iteration": 79,
             "learn": [
              0.05620625894
             ],
             "passed_time": 36.85739069,
             "remaining_time": 9.214347673,
             "test": [
              0.05400549231
             ]
            },
            {
             "iteration": 80,
             "learn": [
              0.05480985985
             ],
             "passed_time": 37.33153855,
             "remaining_time": 8.756780648,
             "test": [
              0.05249932379
             ]
            },
            {
             "iteration": 81,
             "learn": [
              0.05337978895
             ],
             "passed_time": 37.72854075,
             "remaining_time": 8.2818748,
             "test": [
              0.05116570913
             ]
            },
            {
             "iteration": 82,
             "learn": [
              0.05204796474
             ],
             "passed_time": 38.14692206,
             "remaining_time": 7.813225,
             "test": [
              0.04981081637
             ]
            },
            {
             "iteration": 83,
             "learn": [
              0.05086692849
             ],
             "passed_time": 38.59907444,
             "remaining_time": 7.352204655,
             "test": [
              0.04855241206
             ]
            },
            {
             "iteration": 84,
             "learn": [
              0.04957731905
             ],
             "passed_time": 39.06147143,
             "remaining_time": 6.893200841,
             "test": [
              0.04734198346
             ]
            },
            {
             "iteration": 85,
             "learn": [
              0.04836032465
             ],
             "passed_time": 39.61364344,
             "remaining_time": 6.448732653,
             "test": [
              0.04610063702
             ]
            },
            {
             "iteration": 86,
             "learn": [
              0.04720517434
             ],
             "passed_time": 40.24470339,
             "remaining_time": 6.013576369,
             "test": [
              0.04494097775
             ]
            },
            {
             "iteration": 87,
             "learn": [
              0.04612000971
             ],
             "passed_time": 40.77838502,
             "remaining_time": 5.560688867,
             "test": [
              0.04383160109
             ]
            },
            {
             "iteration": 88,
             "learn": [
              0.04498931826
             ],
             "passed_time": 41.19878113,
             "remaining_time": 5.091984185,
             "test": [
              0.04267654549
             ]
            },
            {
             "iteration": 89,
             "learn": [
              0.04393769323
             ],
             "passed_time": 41.62285455,
             "remaining_time": 4.624761617,
             "test": [
              0.04158222286
             ]
            },
            {
             "iteration": 90,
             "learn": [
              0.04294289466
             ],
             "passed_time": 42.03607915,
             "remaining_time": 4.157414421,
             "test": [
              0.04056949953
             ]
            },
            {
             "iteration": 91,
             "learn": [
              0.04197765225
             ],
             "passed_time": 42.49221275,
             "remaining_time": 3.694975022,
             "test": [
              0.03959675404
             ]
            },
            {
             "iteration": 92,
             "learn": [
              0.04096582486
             ],
             "passed_time": 42.95208741,
             "remaining_time": 3.232952816,
             "test": [
              0.03862111558
             ]
            },
            {
             "iteration": 93,
             "learn": [
              0.04002704339
             ],
             "passed_time": 43.40760806,
             "remaining_time": 2.770698387,
             "test": [
              0.03767993091
             ]
            },
            {
             "iteration": 94,
             "learn": [
              0.03905917224
             ],
             "passed_time": 43.83287924,
             "remaining_time": 2.306993644,
             "test": [
              0.03670300382
             ]
            },
            {
             "iteration": 95,
             "learn": [
              0.0382066665
             ],
             "passed_time": 44.28427617,
             "remaining_time": 1.845178174,
             "test": [
              0.03581819748
             ]
            },
            {
             "iteration": 96,
             "learn": [
              0.03733666895
             ],
             "passed_time": 44.73368126,
             "remaining_time": 1.383515915,
             "test": [
              0.0349768137
             ]
            },
            {
             "iteration": 97,
             "learn": [
              0.03646124803
             ],
             "passed_time": 45.19338079,
             "remaining_time": 0.9223138937,
             "test": [
              0.03407863083
             ]
            },
            {
             "iteration": 98,
             "learn": [
              0.0357018063
             ],
             "passed_time": 45.5956224,
             "remaining_time": 0.4605618425,
             "test": [
              0.03329097285
             ]
            },
            {
             "iteration": 99,
             "learn": [
              0.03485817991
             ],
             "passed_time": 46.03599543,
             "remaining_time": 0,
             "test": [
              0.03246354372
             ]
            }
           ],
           "meta": {
            "iteration_count": 100,
            "launch_mode": "Train",
            "learn_metrics": [
             {
              "best_value": "Min",
              "name": "CrossEntropy"
             }
            ],
            "learn_sets": [
             "learn"
            ],
            "name": "experiment",
            "parameters": "",
            "test_metrics": [
             {
              "best_value": "Min",
              "name": "CrossEntropy"
             }
            ],
            "test_sets": [
             "test"
            ]
           }
          },
          "passed_iterations": 99,
          "total_iterations": 100
         },
         "name": "catboost_info",
         "path": "catboost_info"
        }
       },
       "layout": "IPY_MODEL_544e21143bb84fb6aa19c5fe855c5c38"
      }
     },
     "ca2830baf90e4b61aaca58a6c89fbdf4": {
      "model_module": "@jupyter-widgets/base",
      "model_module_version": "1.2.0",
      "model_name": "LayoutModel",
      "state": {
       "_model_module": "@jupyter-widgets/base",
       "_model_module_version": "1.2.0",
       "_model_name": "LayoutModel",
       "_view_count": null,
       "_view_module": "@jupyter-widgets/base",
       "_view_module_version": "1.2.0",
       "_view_name": "LayoutView",
       "align_content": null,
       "align_items": null,
       "align_self": "stretch",
       "border": null,
       "bottom": null,
       "display": null,
       "flex": null,
       "flex_flow": null,
       "grid_area": null,
       "grid_auto_columns": null,
       "grid_auto_flow": null,
       "grid_auto_rows": null,
       "grid_column": null,
       "grid_gap": null,
       "grid_row": null,
       "grid_template_areas": null,
       "grid_template_columns": null,
       "grid_template_rows": null,
       "height": "500px",
       "justify_content": null,
       "justify_items": null,
       "left": null,
       "margin": null,
       "max_height": null,
       "max_width": null,
       "min_height": null,
       "min_width": null,
       "object_fit": null,
       "object_position": null,
       "order": null,
       "overflow": null,
       "overflow_x": null,
       "overflow_y": null,
       "padding": null,
       "right": null,
       "top": null,
       "visibility": null,
       "width": null
      }
     },
     "d2a367ff45f445daa6285ab1fa106320": {
      "model_module": "@jupyter-widgets/base",
      "model_module_version": "1.2.0",
      "model_name": "LayoutModel",
      "state": {
       "_model_module": "@jupyter-widgets/base",
       "_model_module_version": "1.2.0",
       "_model_name": "LayoutModel",
       "_view_count": null,
       "_view_module": "@jupyter-widgets/base",
       "_view_module_version": "1.2.0",
       "_view_name": "LayoutView",
       "align_content": null,
       "align_items": null,
       "align_self": "stretch",
       "border": null,
       "bottom": null,
       "display": null,
       "flex": null,
       "flex_flow": null,
       "grid_area": null,
       "grid_auto_columns": null,
       "grid_auto_flow": null,
       "grid_auto_rows": null,
       "grid_column": null,
       "grid_gap": null,
       "grid_row": null,
       "grid_template_areas": null,
       "grid_template_columns": null,
       "grid_template_rows": null,
       "height": "500px",
       "justify_content": null,
       "justify_items": null,
       "left": null,
       "margin": null,
       "max_height": null,
       "max_width": null,
       "min_height": null,
       "min_width": null,
       "object_fit": null,
       "object_position": null,
       "order": null,
       "overflow": null,
       "overflow_x": null,
       "overflow_y": null,
       "padding": null,
       "right": null,
       "top": null,
       "visibility": null,
       "width": null
      }
     },
     "d602cd70362d4becaa8afbadcfca2a93": {
      "model_module": "catboost-widget",
      "model_module_version": "^1.0.0",
      "model_name": "CatboostWidgetModel",
      "state": {
       "_dom_classes": [],
       "_model_module": "catboost-widget",
       "_model_module_version": "^1.0.0",
       "_model_name": "CatboostWidgetModel",
       "_view_count": null,
       "_view_module": "catboost-widget",
       "_view_module_version": "^1.0.0",
       "_view_name": "CatboostWidgetView",
       "data": {
        "catboost_info": {
         "content": {
          "data": {
           "iterations": [
            {
             "iteration": 0,
             "learn": [
              0.6621403103
             ],
             "passed_time": 0.3740538247,
             "remaining_time": 37.03132865,
             "test": [
              0.6645591326
             ]
            },
            {
             "iteration": 1,
             "learn": [
              0.6378150281
             ],
             "passed_time": 0.6893591328,
             "remaining_time": 33.77859751,
             "test": [
              0.6379935188
             ]
            },
            {
             "iteration": 2,
             "learn": [
              0.6111419319
             ],
             "passed_time": 1.023943391,
             "remaining_time": 33.10750296,
             "test": [
              0.6129663334
             ]
            },
            {
             "iteration": 3,
             "learn": [
              0.5863402205
             ],
             "passed_time": 1.367584605,
             "remaining_time": 32.82203052,
             "test": [
              0.5891826065
             ]
            },
            {
             "iteration": 4,
             "learn": [
              0.5649998265
             ],
             "passed_time": 1.715604729,
             "remaining_time": 32.59648984,
             "test": [
              0.566783489
             ]
            },
            {
             "iteration": 5,
             "learn": [
              0.5437545695
             ],
             "passed_time": 2.09446708,
             "remaining_time": 32.81331759,
             "test": [
              0.5453977104
             ]
            },
            {
             "iteration": 6,
             "learn": [
              0.5213437009
             ],
             "passed_time": 2.491069642,
             "remaining_time": 33.09563953,
             "test": [
              0.5246961215
             ]
            },
            {
             "iteration": 7,
             "learn": [
              0.5033850186
             ],
             "passed_time": 2.860656411,
             "remaining_time": 32.89754873,
             "test": [
              0.5052591967
             ]
            },
            {
             "iteration": 8,
             "learn": [
              0.4839377123
             ],
             "passed_time": 3.20234304,
             "remaining_time": 32.37924629,
             "test": [
              0.4865577658
             ]
            },
            {
             "iteration": 9,
             "learn": [
              0.4663667251
             ],
             "passed_time": 3.556872965,
             "remaining_time": 32.01185669,
             "test": [
              0.4690072477
             ]
            },
            {
             "iteration": 10,
             "learn": [
              0.4499572101
             ],
             "passed_time": 3.908114306,
             "remaining_time": 31.62019757,
             "test": [
              0.4524088655
             ]
            },
            {
             "iteration": 11,
             "learn": [
              0.4339126906
             ],
             "passed_time": 4.260827301,
             "remaining_time": 31.24606687,
             "test": [
              0.4362970264
             ]
            },
            {
             "iteration": 12,
             "learn": [
              0.4185067313
             ],
             "passed_time": 4.618436907,
             "remaining_time": 30.90800084,
             "test": [
              0.4208232341
             ]
            },
            {
             "iteration": 13,
             "learn": [
              0.4037996195
             ],
             "passed_time": 4.993583884,
             "remaining_time": 30.67487243,
             "test": [
              0.4062531993
             ]
            },
            {
             "iteration": 14,
             "learn": [
              0.3892777334
             ],
             "passed_time": 5.324522021,
             "remaining_time": 30.17229145,
             "test": [
              0.3922176204
             ]
            },
            {
             "iteration": 15,
             "learn": [
              0.3749264725
             ],
             "passed_time": 5.673708577,
             "remaining_time": 29.78697003,
             "test": [
              0.3786542136
             ]
            },
            {
             "iteration": 16,
             "learn": [
              0.3626130366
             ],
             "passed_time": 6.00036554,
             "remaining_time": 29.29590234,
             "test": [
              0.3658417845
             ]
            },
            {
             "iteration": 17,
             "learn": [
              0.3507558965
             ],
             "passed_time": 6.377288946,
             "remaining_time": 29.05209409,
             "test": [
              0.3535814907
             ]
            },
            {
             "iteration": 18,
             "learn": [
              0.3383373283
             ],
             "passed_time": 6.750672615,
             "remaining_time": 28.77918325,
             "test": [
              0.3418813466
             ]
            },
            {
             "iteration": 19,
             "learn": [
              0.3277223415
             ],
             "passed_time": 7.102202043,
             "remaining_time": 28.40880817,
             "test": [
              0.330791058
             ]
            },
            {
             "iteration": 20,
             "learn": [
              0.3162624945
             ],
             "passed_time": 7.453658986,
             "remaining_time": 28.03995523,
             "test": [
              0.3202614413
             ]
            },
            {
             "iteration": 21,
             "learn": [
              0.3057535988
             ],
             "passed_time": 7.796162795,
             "remaining_time": 27.64094082,
             "test": [
              0.3100850587
             ]
            },
            {
             "iteration": 22,
             "learn": [
              0.2966774363
             ],
             "passed_time": 8.111251097,
             "remaining_time": 27.15505802,
             "test": [
              0.3003451506
             ]
            },
            {
             "iteration": 23,
             "learn": [
              0.2869662113
             ],
             "passed_time": 8.448110052,
             "remaining_time": 26.7523485,
             "test": [
              0.2909773921
             ]
            },
            {
             "iteration": 24,
             "learn": [
              0.2773991669
             ],
             "passed_time": 8.787852344,
             "remaining_time": 26.36355703,
             "test": [
              0.2819939309
             ]
            },
            {
             "iteration": 25,
             "learn": [
              0.2681212989
             ],
             "passed_time": 9.136967336,
             "remaining_time": 26.00521473,
             "test": [
              0.2730719664
             ]
            },
            {
             "iteration": 26,
             "learn": [
              0.2598065927
             ],
             "passed_time": 9.472902893,
             "remaining_time": 25.61192264,
             "test": [
              0.2646187871
             ]
            },
            {
             "iteration": 27,
             "learn": [
              0.2518882308
             ],
             "passed_time": 9.817980631,
             "remaining_time": 25.24623591,
             "test": [
              0.2565091248
             ]
            },
            {
             "iteration": 28,
             "learn": [
              0.2439634618
             ],
             "passed_time": 10.1827921,
             "remaining_time": 24.93028411,
             "test": [
              0.2485091213
             ]
            },
            {
             "iteration": 29,
             "learn": [
              0.2362955232
             ],
             "passed_time": 10.55483154,
             "remaining_time": 24.62794025,
             "test": [
              0.2408475647
             ]
            },
            {
             "iteration": 30,
             "learn": [
              0.2288532267
             ],
             "passed_time": 10.95593112,
             "remaining_time": 24.38578216,
             "test": [
              0.2335881604
             ]
            },
            {
             "iteration": 31,
             "learn": [
              0.2216816997
             ],
             "passed_time": 11.27401954,
             "remaining_time": 23.95729152,
             "test": [
              0.2267574262
             ]
            },
            {
             "iteration": 32,
             "learn": [
              0.2149871271
             ],
             "passed_time": 11.60439017,
             "remaining_time": 23.56042852,
             "test": [
              0.2200829292
             ]
            },
            {
             "iteration": 33,
             "learn": [
              0.2087111629
             ],
             "passed_time": 11.98225084,
             "remaining_time": 23.25966339,
             "test": [
              0.2134051341
             ]
            },
            {
             "iteration": 34,
             "learn": [
              0.2022052829
             ],
             "passed_time": 12.28474838,
             "remaining_time": 22.81453271,
             "test": [
              0.2073919974
             ]
            },
            {
             "iteration": 35,
             "learn": [
              0.1964090769
             ],
             "passed_time": 12.59137529,
             "remaining_time": 22.38466718,
             "test": [
              0.2016172437
             ]
            },
            {
             "iteration": 36,
             "learn": [
              0.1904506549
             ],
             "passed_time": 12.9031818,
             "remaining_time": 21.97028252,
             "test": [
              0.195926521
             ]
            },
            {
             "iteration": 37,
             "learn": [
              0.184954505
             ],
             "passed_time": 13.2472452,
             "remaining_time": 21.61392639,
             "test": [
              0.1904749197
             ]
            },
            {
             "iteration": 38,
             "learn": [
              0.1792218749
             ],
             "passed_time": 13.6455029,
             "remaining_time": 21.34296608,
             "test": [
              0.1849126826
             ]
            },
            {
             "iteration": 39,
             "learn": [
              0.1740029541
             ],
             "passed_time": 14.01089253,
             "remaining_time": 21.0163388,
             "test": [
              0.17953685
             ]
            },
            {
             "iteration": 40,
             "learn": [
              0.1687710541
             ],
             "passed_time": 14.36945752,
             "remaining_time": 20.67799984,
             "test": [
              0.1746402609
             ]
            },
            {
             "iteration": 41,
             "learn": [
              0.1638783196
             ],
             "passed_time": 14.68494525,
             "remaining_time": 20.27921011,
             "test": [
              0.1694930121
             ]
            },
            {
             "iteration": 42,
             "learn": [
              0.1593299387
             ],
             "passed_time": 14.98718161,
             "remaining_time": 19.86672911,
             "test": [
              0.1650399661
             ]
            },
            {
             "iteration": 43,
             "learn": [
              0.1546179901
             ],
             "passed_time": 15.35680307,
             "remaining_time": 19.54502209,
             "test": [
              0.1603017219
             ]
            },
            {
             "iteration": 44,
             "learn": [
              0.1500627476
             ],
             "passed_time": 15.73181117,
             "remaining_time": 19.22776921,
             "test": [
              0.1556052458
             ]
            },
            {
             "iteration": 45,
             "learn": [
              0.1456116893
             ],
             "passed_time": 16.07663731,
             "remaining_time": 18.87257424,
             "test": [
              0.151158962
             ]
            },
            {
             "iteration": 46,
             "learn": [
              0.1414048139
             ],
             "passed_time": 16.49145036,
             "remaining_time": 18.59674189,
             "test": [
              0.1467488086
             ]
            },
            {
             "iteration": 47,
             "learn": [
              0.1373678873
             ],
             "passed_time": 16.85441553,
             "remaining_time": 18.25895016,
             "test": [
              0.1425902962
             ]
            },
            {
             "iteration": 48,
             "learn": [
              0.1334134262
             ],
             "passed_time": 17.25016328,
             "remaining_time": 17.95425158,
             "test": [
              0.1385159249
             ]
            },
            {
             "iteration": 49,
             "learn": [
              0.1296216571
             ],
             "passed_time": 17.62633253,
             "remaining_time": 17.62633253,
             "test": [
              0.1346033073
             ]
            },
            {
             "iteration": 50,
             "learn": [
              0.1259590593
             ],
             "passed_time": 18.02952819,
             "remaining_time": 17.32248787,
             "test": [
              0.1310534081
             ]
            },
            {
             "iteration": 51,
             "learn": [
              0.1225402289
             ],
             "passed_time": 18.33240643,
             "remaining_time": 16.92222132,
             "test": [
              0.1276986067
             ]
            },
            {
             "iteration": 52,
             "learn": [
              0.1190698623
             ],
             "passed_time": 18.74440513,
             "remaining_time": 16.622397,
             "test": [
              0.1240772615
             ]
            },
            {
             "iteration": 53,
             "learn": [
              0.1156711156
             ],
             "passed_time": 19.11225742,
             "remaining_time": 16.28081187,
             "test": [
              0.1206456479
             ]
            },
            {
             "iteration": 54,
             "learn": [
              0.1126356645
             ],
             "passed_time": 19.42030532,
             "remaining_time": 15.88934072,
             "test": [
              0.1176641138
             ]
            },
            {
             "iteration": 55,
             "learn": [
              0.109451025
             ],
             "passed_time": 19.78079105,
             "remaining_time": 15.54205011,
             "test": [
              0.1143923087
             ]
            },
            {
             "iteration": 56,
             "learn": [
              0.1065333704
             ],
             "passed_time": 20.17203629,
             "remaining_time": 15.21750106,
             "test": [
              0.1112071293
             ]
            },
            {
             "iteration": 57,
             "learn": [
              0.1035104752
             ],
             "passed_time": 20.51397002,
             "remaining_time": 14.85494381,
             "test": [
              0.1082105627
             ]
            },
            {
             "iteration": 58,
             "learn": [
              0.1006586717
             ],
             "passed_time": 20.91948087,
             "remaining_time": 14.53726637,
             "test": [
              0.105196343
             ]
            },
            {
             "iteration": 59,
             "learn": [
              0.09786034142
             ],
             "passed_time": 21.24657731,
             "remaining_time": 14.16438487,
             "test": [
              0.1024408179
             ]
            },
            {
             "iteration": 60,
             "learn": [
              0.09522893211
             ],
             "passed_time": 21.57659164,
             "remaining_time": 13.79487007,
             "test": [
              0.09974862342
             ]
            },
            {
             "iteration": 61,
             "learn": [
              0.09262471388
             ],
             "passed_time": 21.97726244,
             "remaining_time": 13.46993505,
             "test": [
              0.09692544334
             ]
            },
            {
             "iteration": 62,
             "learn": [
              0.09007283514
             ],
             "passed_time": 22.37724368,
             "remaining_time": 13.14219073,
             "test": [
              0.0944880923
             ]
            },
            {
             "iteration": 63,
             "learn": [
              0.0876768816
             ],
             "passed_time": 22.78219412,
             "remaining_time": 12.81498419,
             "test": [
              0.0921682314
             ]
            },
            {
             "iteration": 64,
             "learn": [
              0.0854093001
             ],
             "passed_time": 23.09411861,
             "remaining_time": 12.43529464,
             "test": [
              0.08994057648
             ]
            },
            {
             "iteration": 65,
             "learn": [
              0.08316145646
             ],
             "passed_time": 23.51329359,
             "remaining_time": 12.11290882,
             "test": [
              0.08757914393
             ]
            },
            {
             "iteration": 66,
             "learn": [
              0.08106591563
             ],
             "passed_time": 23.88887923,
             "remaining_time": 11.7661644,
             "test": [
              0.08556907372
             ]
            },
            {
             "iteration": 67,
             "learn": [
              0.07887733677
             ],
             "passed_time": 24.29314508,
             "remaining_time": 11.43206827,
             "test": [
              0.08347319177
             ]
            },
            {
             "iteration": 68,
             "learn": [
              0.07685985223
             ],
             "passed_time": 24.68816593,
             "remaining_time": 11.09178469,
             "test": [
              0.08160502969
             ]
            },
            {
             "iteration": 69,
             "learn": [
              0.07492356189
             ],
             "passed_time": 25.04774719,
             "remaining_time": 10.7347488,
             "test": [
              0.07957768658
             ]
            },
            {
             "iteration": 70,
             "learn": [
              0.07298556396
             ],
             "passed_time": 25.43471914,
             "remaining_time": 10.38882895,
             "test": [
              0.07773945926
             ]
            },
            {
             "iteration": 71,
             "learn": [
              0.07121338855
             ],
             "passed_time": 25.78451447,
             "remaining_time": 10.02731118,
             "test": [
              0.0761501822
             ]
            },
            {
             "iteration": 72,
             "learn": [
              0.06942932095
             ],
             "passed_time": 26.14466972,
             "remaining_time": 9.669946336,
             "test": [
              0.07440511689
             ]
            },
            {
             "iteration": 73,
             "learn": [
              0.06766355969
             ],
             "passed_time": 26.51789378,
             "remaining_time": 9.317097814,
             "test": [
              0.0725921692
             ]
            },
            {
             "iteration": 74,
             "learn": [
              0.06594567466
             ],
             "passed_time": 26.89071628,
             "remaining_time": 8.963572094,
             "test": [
              0.0707750279
             ]
            },
            {
             "iteration": 75,
             "learn": [
              0.0642587342
             ],
             "passed_time": 27.30557761,
             "remaining_time": 8.622813983,
             "test": [
              0.06906074212
             ]
            },
            {
             "iteration": 76,
             "learn": [
              0.06259567726
             ],
             "passed_time": 27.69604044,
             "remaining_time": 8.272843248,
             "test": [
              0.06730295468
             ]
            },
            {
             "iteration": 77,
             "learn": [
              0.0610924856
             ],
             "passed_time": 28.05461805,
             "remaining_time": 7.912840989,
             "test": [
              0.06577075206
             ]
            },
            {
             "iteration": 78,
             "learn": [
              0.05960714887
             ],
             "passed_time": 28.38896678,
             "remaining_time": 7.546434207,
             "test": [
              0.06435748658
             ]
            },
            {
             "iteration": 79,
             "learn": [
              0.05818508877
             ],
             "passed_time": 28.78312993,
             "remaining_time": 7.195782483,
             "test": [
              0.06295974034
             ]
            },
            {
             "iteration": 80,
             "learn": [
              0.05674594316
             ],
             "passed_time": 29.39148365,
             "remaining_time": 6.894298634,
             "test": [
              0.06142843255
             ]
            },
            {
             "iteration": 81,
             "learn": [
              0.0552817811
             ],
             "passed_time": 29.9218322,
             "remaining_time": 6.568207068,
             "test": [
              0.05988672427
             ]
            },
            {
             "iteration": 82,
             "learn": [
              0.0539652329
             ],
             "passed_time": 30.40022574,
             "remaining_time": 6.22655226,
             "test": [
              0.05835358464
             ]
            },
            {
             "iteration": 83,
             "learn": [
              0.05271130868
             ],
             "passed_time": 30.74482893,
             "remaining_time": 5.856157891,
             "test": [
              0.05711623191
             ]
            },
            {
             "iteration": 84,
             "learn": [
              0.0515512907
             ],
             "passed_time": 31.09056203,
             "remaining_time": 5.48656977,
             "test": [
              0.05596498999
             ]
            },
            {
             "iteration": 85,
             "learn": [
              0.05039218406
             ],
             "passed_time": 31.42527892,
             "remaining_time": 5.115743081,
             "test": [
              0.05483935757
             ]
            },
            {
             "iteration": 86,
             "learn": [
              0.04919406275
             ],
             "passed_time": 31.81080746,
             "remaining_time": 4.753339046,
             "test": [
              0.05365393267
             ]
            },
            {
             "iteration": 87,
             "learn": [
              0.04803277632
             ],
             "passed_time": 32.2025506,
             "remaining_time": 4.3912569,
             "test": [
              0.05247043691
             ]
            },
            {
             "iteration": 88,
             "learn": [
              0.04696774497
             ],
             "passed_time": 32.56009936,
             "remaining_time": 4.024281943,
             "test": [
              0.05154064256
             ]
            },
            {
             "iteration": 89,
             "learn": [
              0.0459033929
             ],
             "passed_time": 32.91876673,
             "remaining_time": 3.657640748,
             "test": [
              0.0504680827
             ]
            },
            {
             "iteration": 90,
             "learn": [
              0.04481918408
             ],
             "passed_time": 33.31917227,
             "remaining_time": 3.295302752,
             "test": [
              0.04938257567
             ]
            },
            {
             "iteration": 91,
             "learn": [
              0.04383600593
             ],
             "passed_time": 33.72950385,
             "remaining_time": 2.933000335,
             "test": [
              0.04845345129
             ]
            },
            {
             "iteration": 92,
             "learn": [
              0.04285577131
             ],
             "passed_time": 34.09700267,
             "remaining_time": 2.566441062,
             "test": [
              0.04742911819
             ]
            },
            {
             "iteration": 93,
             "learn": [
              0.0419310008
             ],
             "passed_time": 34.38121039,
             "remaining_time": 2.194545344,
             "test": [
              0.04666606191
             ]
            },
            {
             "iteration": 94,
             "learn": [
              0.04100745791
             ],
             "passed_time": 34.79089119,
             "remaining_time": 1.831099536,
             "test": [
              0.04578814751
             ]
            },
            {
             "iteration": 95,
             "learn": [
              0.04000440714
             ],
             "passed_time": 35.1943217,
             "remaining_time": 1.466430071,
             "test": [
              0.04464160176
             ]
            },
            {
             "iteration": 96,
             "learn": [
              0.03912550199
             ],
             "passed_time": 35.61773541,
             "remaining_time": 1.101579446,
             "test": [
              0.04369006315
             ]
            },
            {
             "iteration": 97,
             "learn": [
              0.0382842522
             ],
             "passed_time": 36.03344162,
             "remaining_time": 0.7353763597,
             "test": [
              0.04290794493
             ]
            },
            {
             "iteration": 98,
             "learn": [
              0.03751984659
             ],
             "passed_time": 36.31615695,
             "remaining_time": 0.3668298682,
             "test": [
              0.04226893929
             ]
            },
            {
             "iteration": 99,
             "learn": [
              0.0366580829
             ],
             "passed_time": 36.7114846,
             "remaining_time": 0,
             "test": [
              0.04142668968
             ]
            }
           ],
           "meta": {
            "iteration_count": 100,
            "launch_mode": "Train",
            "learn_metrics": [
             {
              "best_value": "Min",
              "name": "CrossEntropy"
             }
            ],
            "learn_sets": [
             "learn"
            ],
            "name": "experiment",
            "parameters": "",
            "test_metrics": [
             {
              "best_value": "Min",
              "name": "CrossEntropy"
             }
            ],
            "test_sets": [
             "test"
            ]
           }
          },
          "passed_iterations": 99,
          "total_iterations": 100
         },
         "name": "catboost_info",
         "path": "catboost_info"
        }
       },
       "layout": "IPY_MODEL_43e89acb859b449ea794e01b519bd3ed"
      }
     },
     "d77fe436b6b94a41978f1b1161b3a4b7": {
      "model_module": "catboost-widget",
      "model_module_version": "^1.0.0",
      "model_name": "CatboostWidgetModel",
      "state": {
       "_dom_classes": [],
       "_model_module": "catboost-widget",
       "_model_module_version": "^1.0.0",
       "_model_name": "CatboostWidgetModel",
       "_view_count": null,
       "_view_module": "catboost-widget",
       "_view_module_version": "^1.0.0",
       "_view_name": "CatboostWidgetView",
       "data": {
        "catboost_info": {
         "content": {
          "data": {
           "iterations": [
            {
             "iteration": 0,
             "learn": [
              0.6613995277
             ],
             "passed_time": 0.374615329,
             "remaining_time": 37.08691757,
             "test": [
              0.6636028243
             ]
            },
            {
             "iteration": 1,
             "learn": [
              0.6363147451
             ],
             "passed_time": 0.7369887504,
             "remaining_time": 36.11244877,
             "test": [
              0.6357853143
             ]
            },
            {
             "iteration": 2,
             "learn": [
              0.6094056119
             ],
             "passed_time": 1.13285895,
             "remaining_time": 36.62910606,
             "test": [
              0.6095392428
             ]
            },
            {
             "iteration": 3,
             "learn": [
              0.5837629614
             ],
             "passed_time": 1.496306128,
             "remaining_time": 35.91134707,
             "test": [
              0.5847377818
             ]
            },
            {
             "iteration": 4,
             "learn": [
              0.562238739
             ],
             "passed_time": 1.952947296,
             "remaining_time": 37.10599863,
             "test": [
              0.5612688166
             ]
            },
            {
             "iteration": 5,
             "learn": [
              0.5378788321
             ],
             "passed_time": 2.350668175,
             "remaining_time": 36.82713474,
             "test": [
              0.5390393657
             ]
            },
            {
             "iteration": 6,
             "learn": [
              0.5169548633
             ],
             "passed_time": 2.812575066,
             "remaining_time": 37.36706874,
             "test": [
              0.5179390196
             ]
            },
            {
             "iteration": 7,
             "learn": [
              0.498772014
             ],
             "passed_time": 3.176516008,
             "remaining_time": 36.5299341,
             "test": [
              0.4978931163
             ]
            },
            {
             "iteration": 8,
             "learn": [
              0.4786215198
             ],
             "passed_time": 3.545159216,
             "remaining_time": 35.84549874,
             "test": [
              0.4788325379
             ]
            },
            {
             "iteration": 9,
             "learn": [
              0.4606725804
             ],
             "passed_time": 3.923414054,
             "remaining_time": 35.31072648,
             "test": [
              0.4606904622
             ]
            },
            {
             "iteration": 10,
             "learn": [
              0.4442016188
             ],
             "passed_time": 4.301927494,
             "remaining_time": 34.80650427,
             "test": [
              0.4434061367
             ]
            },
            {
             "iteration": 11,
             "learn": [
              0.428161189
             ],
             "passed_time": 4.679870457,
             "remaining_time": 34.31905002,
             "test": [
              0.4269229773
             ]
            },
            {
             "iteration": 12,
             "learn": [
              0.4123723578
             ],
             "passed_time": 5.066087153,
             "remaining_time": 33.90381402,
             "test": [
              0.4111923014
             ]
            },
            {
             "iteration": 13,
             "learn": [
              0.396917485
             ],
             "passed_time": 5.454688637,
             "remaining_time": 33.50737305,
             "test": [
              0.3961697932
             ]
            },
            {
             "iteration": 14,
             "learn": [
              0.3825623385
             ],
             "passed_time": 5.870824243,
             "remaining_time": 33.26800405,
             "test": [
              0.3818111173
             ]
            },
            {
             "iteration": 15,
             "learn": [
              0.3674871322
             ],
             "passed_time": 6.371397693,
             "remaining_time": 33.44983789,
             "test": [
              0.368078468
             ]
            },
            {
             "iteration": 16,
             "learn": [
              0.3540480685
             ],
             "passed_time": 6.820952713,
             "remaining_time": 33.30229854,
             "test": [
              0.3549365048
             ]
            },
            {
             "iteration": 17,
             "learn": [
              0.3433637867
             ],
             "passed_time": 7.159559443,
             "remaining_time": 32.61577079,
             "test": [
              0.342350077
             ]
            },
            {
             "iteration": 18,
             "learn": [
              0.3302599632
             ],
             "passed_time": 7.593190538,
             "remaining_time": 32.37097019,
             "test": [
              0.3302918434
             ]
            },
            {
             "iteration": 19,
             "learn": [
              0.3198403916
             ],
             "passed_time": 8.046050947,
             "remaining_time": 32.18420379,
             "test": [
              0.3187326893
             ]
            },
            {
             "iteration": 20,
             "learn": [
              0.3072385498
             ],
             "passed_time": 8.493415077,
             "remaining_time": 31.95141862,
             "test": [
              0.3076460581
             ]
            },
            {
             "iteration": 21,
             "learn": [
              0.2970662272
             ],
             "passed_time": 8.889007381,
             "remaining_time": 31.51557162,
             "test": [
              0.2970072073
             ]
            },
            {
             "iteration": 22,
             "learn": [
              0.2870208872
             ],
             "passed_time": 9.300852338,
             "remaining_time": 31.13763609,
             "test": [
              0.2867923834
             ]
            },
            {
             "iteration": 23,
             "learn": [
              0.2767845495
             ],
             "passed_time": 9.762384971,
             "remaining_time": 30.91421907,
             "test": [
              0.276983015
             ]
            },
            {
             "iteration": 24,
             "learn": [
              0.2669514893
             ],
             "passed_time": 10.14240907,
             "remaining_time": 30.42722722,
             "test": [
              0.2675556743
             ]
            },
            {
             "iteration": 25,
             "learn": [
              0.2582038873
             ],
             "passed_time": 10.54309202,
             "remaining_time": 30.00726191,
             "test": [
              0.2584947748
             ]
            },
            {
             "iteration": 26,
             "learn": [
              0.2501828269
             ],
             "passed_time": 10.933828,
             "remaining_time": 29.56183125,
             "test": [
              0.2497834807
             ]
            },
            {
             "iteration": 27,
             "learn": [
              0.2421972553
             ],
             "passed_time": 11.30406083,
             "remaining_time": 29.06758498,
             "test": [
              0.2414044072
             ]
            },
            {
             "iteration": 28,
             "learn": [
              0.2339367826
             ],
             "passed_time": 11.76786971,
             "remaining_time": 28.81099135,
             "test": [
              0.233341334
             ]
            },
            {
             "iteration": 29,
             "learn": [
              0.2261183153
             ],
             "passed_time": 12.23457311,
             "remaining_time": 28.54733725,
             "test": [
              0.2255807837
             ]
            },
            {
             "iteration": 30,
             "learn": [
              0.2187777096
             ],
             "passed_time": 12.70852716,
             "remaining_time": 28.28672175,
             "test": [
              0.2181074062
             ]
            },
            {
             "iteration": 31,
             "learn": [
              0.2111777978
             ],
             "passed_time": 13.07582482,
             "remaining_time": 27.78612773,
             "test": [
              0.2109107863
             ]
            },
            {
             "iteration": 32,
             "learn": [
              0.203642396
             ],
             "passed_time": 13.57217361,
             "remaining_time": 27.55562521,
             "test": [
              0.2039773973
             ]
            },
            {
             "iteration": 33,
             "learn": [
              0.1971146971
             ],
             "passed_time": 14.00764269,
             "remaining_time": 27.19130639,
             "test": [
              0.1972952422
             ]
            },
            {
             "iteration": 34,
             "learn": [
              0.1914567342
             ],
             "passed_time": 14.44903783,
             "remaining_time": 26.83392739,
             "test": [
              0.1908561589
             ]
            },
            {
             "iteration": 35,
             "learn": [
              0.1843233389
             ],
             "passed_time": 14.81352348,
             "remaining_time": 26.33515286,
             "test": [
              0.1846477556
             ]
            },
            {
             "iteration": 36,
             "learn": [
              0.1790972709
             ],
             "passed_time": 15.20097941,
             "remaining_time": 25.88274873,
             "test": [
              0.1786585503
             ]
            },
            {
             "iteration": 37,
             "learn": [
              0.1725785706
             ],
             "passed_time": 15.5723053,
             "remaining_time": 25.4074455,
             "test": [
              0.172883443
             ]
            },
            {
             "iteration": 38,
             "learn": [
              0.1679596069
             ],
             "passed_time": 15.99671211,
             "remaining_time": 25.02049843,
             "test": [
              0.1673111899
             ]
            },
            {
             "iteration": 39,
             "learn": [
              0.1618159481
             ],
             "passed_time": 16.38027862,
             "remaining_time": 24.57041793,
             "test": [
              0.1619336123
             ]
            },
            {
             "iteration": 40,
             "learn": [
              0.1566563003
             ],
             "passed_time": 16.8084665,
             "remaining_time": 24.18779326,
             "test": [
              0.1567442493
             ]
            },
            {
             "iteration": 41,
             "learn": [
              0.1523327568
             ],
             "passed_time": 17.40508602,
             "remaining_time": 24.03559498,
             "test": [
              0.1517352077
             ]
            },
            {
             "iteration": 42,
             "learn": [
              0.1473526994
             ],
             "passed_time": 18.00198848,
             "remaining_time": 23.86310101,
             "test": [
              0.1468990525
             ]
            },
            {
             "iteration": 43,
             "learn": [
              0.1422589291
             ],
             "passed_time": 18.51081469,
             "remaining_time": 23.55921869,
             "test": [
              0.1422274534
             ]
            },
            {
             "iteration": 44,
             "learn": [
              0.137575494
             ],
             "passed_time": 18.94124114,
             "remaining_time": 23.15040584,
             "test": [
              0.1377171431
             ]
            },
            {
             "iteration": 45,
             "learn": [
              0.1332830236
             ],
             "passed_time": 19.39042901,
             "remaining_time": 22.76267754,
             "test": [
              0.1333586998
             ]
            },
            {
             "iteration": 46,
             "learn": [
              0.1292553608
             ],
             "passed_time": 19.75090523,
             "remaining_time": 22.27229739,
             "test": [
              0.1291482457
             ]
            },
            {
             "iteration": 47,
             "learn": [
              0.125328432
             ],
             "passed_time": 20.27021849,
             "remaining_time": 21.95940336,
             "test": [
              0.1250798871
             ]
            },
            {
             "iteration": 48,
             "learn": [
              0.1214209957
             ],
             "passed_time": 20.70620154,
             "remaining_time": 21.55135263,
             "test": [
              0.1211478907
             ]
            },
            {
             "iteration": 49,
             "learn": [
              0.1175411516
             ],
             "passed_time": 21.04764778,
             "remaining_time": 21.04764778,
             "test": [
              0.1173467305
             ]
            },
            {
             "iteration": 50,
             "learn": [
              0.1137145762
             ],
             "passed_time": 21.45192057,
             "remaining_time": 20.61066878,
             "test": [
              0.1136742764
             ]
            },
            {
             "iteration": 51,
             "learn": [
              0.1101922625
             ],
             "passed_time": 21.80088605,
             "remaining_time": 20.12389481,
             "test": [
              0.1101219244
             ]
            },
            {
             "iteration": 52,
             "learn": [
              0.1072892008
             ],
             "passed_time": 22.13186088,
             "remaining_time": 19.6263672,
             "test": [
              0.1066878487
             ]
            },
            {
             "iteration": 53,
             "learn": [
              0.103793995
             ],
             "passed_time": 22.47693912,
             "remaining_time": 19.14702221,
             "test": [
              0.1033671225
             ]
            },
            {
             "iteration": 54,
             "learn": [
              0.1001481569
             ],
             "passed_time": 22.92263697,
             "remaining_time": 18.75488479,
             "test": [
              0.1001553417
             ]
            },
            {
             "iteration": 55,
             "learn": [
              0.09754671877
             ],
             "passed_time": 23.33752305,
             "remaining_time": 18.33662525,
             "test": [
              0.09704454361
             ]
            },
            {
             "iteration": 56,
             "learn": [
              0.09417241966
             ],
             "passed_time": 23.76088243,
             "remaining_time": 17.92487622,
             "test": [
              0.09403818751
             ]
            },
            {
             "iteration": 57,
             "learn": [
              0.09163670067
             ],
             "passed_time": 24.21203218,
             "remaining_time": 17.53285089,
             "test": [
              0.09112910484
             ]
            },
            {
             "iteration": 58,
             "learn": [
              0.08841237381
             ],
             "passed_time": 24.61992966,
             "remaining_time": 17.10876468,
             "test": [
              0.0883146548
             ]
            },
            {
             "iteration": 59,
             "learn": [
              0.08596681313
             ],
             "passed_time": 25.03726833,
             "remaining_time": 16.69151222,
             "test": [
              0.08559171289
             ]
            },
            {
             "iteration": 60,
             "learn": [
              0.0831227454
             ],
             "passed_time": 25.46127034,
             "remaining_time": 16.2785171,
             "test": [
              0.0829559472
             ]
            },
            {
             "iteration": 61,
             "learn": [
              0.08056130969
             ],
             "passed_time": 25.87552445,
             "remaining_time": 15.8591924,
             "test": [
              0.08040508408
             ]
            },
            {
             "iteration": 62,
             "learn": [
              0.07838642711
             ],
             "passed_time": 26.22489674,
             "remaining_time": 15.40192348,
             "test": [
              0.07793517616
             ]
            },
            {
             "iteration": 63,
             "learn": [
              0.07595634385
             ],
             "passed_time": 26.64444524,
             "remaining_time": 14.98750045,
             "test": [
              0.07554373746
             ]
            },
            {
             "iteration": 64,
             "learn": [
              0.07344734231
             ],
             "passed_time": 27.04612155,
             "remaining_time": 14.56329622,
             "test": [
              0.07322720419
             ]
            },
            {
             "iteration": 65,
             "learn": [
              0.07118876894
             ],
             "passed_time": 27.44967095,
             "remaining_time": 14.14073958,
             "test": [
              0.07098574705
             ]
            },
            {
             "iteration": 66,
             "learn": [
              0.06899051432
             ],
             "passed_time": 27.87816801,
             "remaining_time": 13.73103797,
             "test": [
              0.06881612996
             ]
            },
            {
             "iteration": 67,
             "learn": [
              0.06690235824
             ],
             "passed_time": 28.23173621,
             "remaining_time": 13.28552292,
             "test": [
              0.06671821444
             ]
            },
            {
             "iteration": 68,
             "learn": [
              0.06490619215
             ],
             "passed_time": 28.64642873,
             "remaining_time": 12.87013465,
             "test": [
              0.06468184566
             ]
            },
            {
             "iteration": 69,
             "learn": [
              0.06295361912
             ],
             "passed_time": 28.97814671,
             "remaining_time": 12.41920573,
             "test": [
              0.06271272884
             ]
            },
            {
             "iteration": 70,
             "learn": [
              0.06102325587
             ],
             "passed_time": 29.37521131,
             "remaining_time": 11.99832575,
             "test": [
              0.06080610703
             ]
            },
            {
             "iteration": 71,
             "learn": [
              0.059144666
             ],
             "passed_time": 29.75517249,
             "remaining_time": 11.57145597,
             "test": [
              0.05895855325
             ]
            },
            {
             "iteration": 72,
             "learn": [
              0.05739807735
             ],
             "passed_time": 30.15135526,
             "remaining_time": 11.15187112,
             "test": [
              0.05716857929
             ]
            },
            {
             "iteration": 73,
             "learn": [
              0.05587451701
             ],
             "passed_time": 30.54889571,
             "remaining_time": 10.73339579,
             "test": [
              0.05543804069
             ]
            },
            {
             "iteration": 74,
             "learn": [
              0.05413097547
             ],
             "passed_time": 30.99213844,
             "remaining_time": 10.33071281,
             "test": [
              0.05375857985
             ]
            },
            {
             "iteration": 75,
             "learn": [
              0.0523390806
             ],
             "passed_time": 31.40255914,
             "remaining_time": 9.916597622,
             "test": [
              0.05213048139
             ]
            },
            {
             "iteration": 76,
             "learn": [
              0.05096866423
             ],
             "passed_time": 31.86996073,
             "remaining_time": 9.519598659,
             "test": [
              0.05055134398
             ]
            },
            {
             "iteration": 77,
             "learn": [
              0.04926606823
             ],
             "passed_time": 32.25836668,
             "remaining_time": 9.098513678,
             "test": [
              0.04902113475
             ]
            },
            {
             "iteration": 78,
             "learn": [
              0.04783816648
             ],
             "passed_time": 32.64834093,
             "remaining_time": 8.678672906,
             "test": [
              0.04753965486
             ]
            },
            {
             "iteration": 79,
             "learn": [
              0.04635237695
             ],
             "passed_time": 33.039497,
             "remaining_time": 8.259874249,
             "test": [
              0.04610612231
             ]
            },
            {
             "iteration": 80,
             "learn": [
              0.04509779358
             ],
             "passed_time": 33.37822195,
             "remaining_time": 7.829459471,
             "test": [
              0.0447157522
             ]
            },
            {
             "iteration": 81,
             "learn": [
              0.04359199037
             ],
             "passed_time": 33.74189972,
             "remaining_time": 7.406758476,
             "test": [
              0.04336889261
             ]
            },
            {
             "iteration": 82,
             "learn": [
              0.04237603272
             ],
             "passed_time": 34.12373173,
             "remaining_time": 6.989198065,
             "test": [
              0.04206027738
             ]
            },
            {
             "iteration": 83,
             "learn": [
              0.04115013095
             ],
             "passed_time": 34.47990527,
             "remaining_time": 6.567601003,
             "test": [
              0.04079501422
             ]
            },
            {
             "iteration": 84,
             "learn": [
              0.03982164301
             ],
             "passed_time": 34.86079347,
             "remaining_time": 6.151904729,
             "test": [
              0.03956923046
             ]
            },
            {
             "iteration": 85,
             "learn": [
              0.03860984213
             ],
             "passed_time": 35.33364051,
             "remaining_time": 5.751987991,
             "test": [
              0.03838175654
             ]
            },
            {
             "iteration": 86,
             "learn": [
              0.03752456641
             ],
             "passed_time": 35.67310466,
             "remaining_time": 5.330463915,
             "test": [
              0.03722804246
             ]
            },
            {
             "iteration": 87,
             "learn": [
              0.03646852248
             ],
             "passed_time": 36.03114735,
             "remaining_time": 4.913338274,
             "test": [
              0.0361101089
             ]
            },
            {
             "iteration": 88,
             "learn": [
              0.03534252097
             ],
             "passed_time": 36.41550353,
             "remaining_time": 4.500792572,
             "test": [
              0.0350326785
             ]
            },
            {
             "iteration": 89,
             "learn": [
              0.03430596773
             ],
             "passed_time": 36.86434921,
             "remaining_time": 4.096038801,
             "test": [
              0.03398459813
             ]
            },
            {
             "iteration": 90,
             "learn": [
              0.03325631103
             ],
             "passed_time": 37.20848962,
             "remaining_time": 3.679960512,
             "test": [
              0.03296408675
             ]
            },
            {
             "iteration": 91,
             "learn": [
              0.03226635007
             ],
             "passed_time": 37.64635156,
             "remaining_time": 3.273595788,
             "test": [
              0.0319791513
             ]
            },
            {
             "iteration": 92,
             "learn": [
              0.03128824072
             ],
             "passed_time": 37.99307272,
             "remaining_time": 2.859693646,
             "test": [
              0.03102104663
             ]
            },
            {
             "iteration": 93,
             "learn": [
              0.03034355035
             ],
             "passed_time": 38.37584704,
             "remaining_time": 2.449522152,
             "test": [
              0.03009123264
             ]
            },
            {
             "iteration": 94,
             "learn": [
              0.02944605095
             ],
             "passed_time": 38.8337357,
             "remaining_time": 2.043880826,
             "test": [
              0.02919304408
             ]
            },
            {
             "iteration": 95,
             "learn": [
              0.02861702811
             ],
             "passed_time": 39.24739751,
             "remaining_time": 1.63530823,
             "test": [
              0.02832115197
             ]
            },
            {
             "iteration": 96,
             "learn": [
              0.02771913451
             ],
             "passed_time": 39.61158137,
             "remaining_time": 1.225100455,
             "test": [
              0.0274763872
             ]
            },
            {
             "iteration": 97,
             "learn": [
              0.02689525714
             ],
             "passed_time": 40.03543201,
             "remaining_time": 0.8170496329,
             "test": [
              0.02665770616
             ]
            },
            {
             "iteration": 98,
             "learn": [
              0.02614741898
             ],
             "passed_time": 40.44656838,
             "remaining_time": 0.4085511958,
             "test": [
              0.02586101643
             ]
            },
            {
             "iteration": 99,
             "learn": [
              0.02529259186
             ],
             "passed_time": 40.83626692,
             "remaining_time": 0,
             "test": [
              0.0250887564
             ]
            }
           ],
           "meta": {
            "iteration_count": 100,
            "launch_mode": "Train",
            "learn_metrics": [
             {
              "best_value": "Min",
              "name": "CrossEntropy"
             }
            ],
            "learn_sets": [
             "learn"
            ],
            "name": "experiment",
            "parameters": "",
            "test_metrics": [
             {
              "best_value": "Min",
              "name": "CrossEntropy"
             }
            ],
            "test_sets": [
             "test"
            ]
           }
          },
          "passed_iterations": 99,
          "total_iterations": 100
         },
         "name": "catboost_info",
         "path": "catboost_info"
        }
       },
       "layout": "IPY_MODEL_7bacc925341c48d9a8ee2e4d11b51880"
      }
     },
     "db1d501c430946c49e933f05cee5f552": {
      "model_module": "@jupyter-widgets/base",
      "model_module_version": "1.2.0",
      "model_name": "LayoutModel",
      "state": {
       "_model_module": "@jupyter-widgets/base",
       "_model_module_version": "1.2.0",
       "_model_name": "LayoutModel",
       "_view_count": null,
       "_view_module": "@jupyter-widgets/base",
       "_view_module_version": "1.2.0",
       "_view_name": "LayoutView",
       "align_content": null,
       "align_items": null,
       "align_self": "stretch",
       "border": null,
       "bottom": null,
       "display": null,
       "flex": null,
       "flex_flow": null,
       "grid_area": null,
       "grid_auto_columns": null,
       "grid_auto_flow": null,
       "grid_auto_rows": null,
       "grid_column": null,
       "grid_gap": null,
       "grid_row": null,
       "grid_template_areas": null,
       "grid_template_columns": null,
       "grid_template_rows": null,
       "height": "500px",
       "justify_content": null,
       "justify_items": null,
       "left": null,
       "margin": null,
       "max_height": null,
       "max_width": null,
       "min_height": null,
       "min_width": null,
       "object_fit": null,
       "object_position": null,
       "order": null,
       "overflow": null,
       "overflow_x": null,
       "overflow_y": null,
       "padding": null,
       "right": null,
       "top": null,
       "visibility": null,
       "width": null
      }
     },
     "dbad3c3751ff43ef880a8dca07090049": {
      "model_module": "catboost-widget",
      "model_module_version": "^1.0.0",
      "model_name": "CatboostWidgetModel",
      "state": {
       "_dom_classes": [],
       "_model_module": "catboost-widget",
       "_model_module_version": "^1.0.0",
       "_model_name": "CatboostWidgetModel",
       "_view_count": null,
       "_view_module": "catboost-widget",
       "_view_module_version": "^1.0.0",
       "_view_name": "CatboostWidgetView",
       "data": {
        "catboost_info": {
         "content": {
          "data": {
           "iterations": [
            {
             "iteration": 0,
             "learn": [
              0.6613829534
             ],
             "passed_time": 0.3792107933,
             "remaining_time": 37.54186854,
             "test": [
              0.6636002377
             ]
            },
            {
             "iteration": 1,
             "learn": [
              0.6362960021
             ],
             "passed_time": 0.7489123276,
             "remaining_time": 36.69670405,
             "test": [
              0.6357730385
             ]
            },
            {
             "iteration": 2,
             "learn": [
              0.6093774317
             ],
             "passed_time": 1.142872027,
             "remaining_time": 36.9528622,
             "test": [
              0.6095204466
             ]
            },
            {
             "iteration": 3,
             "learn": [
              0.5837189955
             ],
             "passed_time": 1.49776741,
             "remaining_time": 35.94641784,
             "test": [
              0.5847130846
             ]
            },
            {
             "iteration": 4,
             "learn": [
              0.5621929067
             ],
             "passed_time": 1.95281212,
             "remaining_time": 37.10343028,
             "test": [
              0.5612379514
             ]
            },
            {
             "iteration": 5,
             "learn": [
              0.5376732111
             ],
             "passed_time": 2.350201756,
             "remaining_time": 36.81982751,
             "test": [
              0.538992063
             ]
            },
            {
             "iteration": 6,
             "learn": [
              0.5168848596
             ],
             "passed_time": 2.803307817,
             "remaining_time": 37.24394672,
             "test": [
              0.5178873744
             ]
            },
            {
             "iteration": 7,
             "learn": [
              0.4986858566
             ],
             "passed_time": 3.166767051,
             "remaining_time": 36.41782109,
             "test": [
              0.4978390937
             ]
            },
            {
             "iteration": 8,
             "learn": [
              0.4785291848
             ],
             "passed_time": 3.532959593,
             "remaining_time": 35.722147,
             "test": [
              0.4787751047
             ]
            },
            {
             "iteration": 9,
             "learn": [
              0.460584412
             ],
             "passed_time": 3.911269772,
             "remaining_time": 35.20142795,
             "test": [
              0.4606287082
             ]
            },
            {
             "iteration": 10,
             "learn": [
              0.4438250763
             ],
             "passed_time": 4.29095065,
             "remaining_time": 34.71769162,
             "test": [
              0.4433402349
             ]
            },
            {
             "iteration": 11,
             "learn": [
              0.4280549348
             ],
             "passed_time": 4.669704654,
             "remaining_time": 34.2445008,
             "test": [
              0.4268563593
             ]
            },
            {
             "iteration": 12,
             "learn": [
              0.4121221963
             ],
             "passed_time": 5.057316595,
             "remaining_time": 33.84511875,
             "test": [
              0.4111239865
             ]
            },
            {
             "iteration": 13,
             "learn": [
              0.3967798801
             ],
             "passed_time": 5.447953843,
             "remaining_time": 33.46600218,
             "test": [
              0.3960977012
             ]
            },
            {
             "iteration": 14,
             "learn": [
              0.3824016073
             ],
             "passed_time": 5.860804436,
             "remaining_time": 33.21122514,
             "test": [
              0.3817358582
             ]
            },
            {
             "iteration": 15,
             "learn": [
              0.3673377572
             ],
             "passed_time": 6.353874561,
             "remaining_time": 33.35784144,
             "test": [
              0.3680016391
             ]
            },
            {
             "iteration": 16,
             "learn": [
              0.3538853855
             ],
             "passed_time": 6.807424199,
             "remaining_time": 33.23624756,
             "test": [
              0.3548571366
             ]
            },
            {
             "iteration": 17,
             "learn": [
              0.3431762884
             ],
             "passed_time": 7.144679247,
             "remaining_time": 32.54798324,
             "test": [
              0.342270359
             ]
            },
            {
             "iteration": 18,
             "learn": [
              0.3300918848
             ],
             "passed_time": 7.538017634,
             "remaining_time": 32.13575939,
             "test": [
              0.3302105499
             ]
            },
            {
             "iteration": 19,
             "learn": [
              0.319680377
             ],
             "passed_time": 7.98620724,
             "remaining_time": 31.94482896,
             "test": [
              0.3186495783
             ]
            },
            {
             "iteration": 20,
             "learn": [
              0.3069796744
             ],
             "passed_time": 8.426006481,
             "remaining_time": 31.69783391,
             "test": [
              0.3075611274
             ]
            },
            {
             "iteration": 21,
             "learn": [
              0.2968886658
             ],
             "passed_time": 8.859025257,
             "remaining_time": 31.40927137,
             "test": [
              0.2969206171
             ]
            },
            {
             "iteration": 22,
             "learn": [
              0.2867751886
             ],
             "passed_time": 9.268467222,
             "remaining_time": 31.02921635,
             "test": [
              0.2867064511
             ]
            },
            {
             "iteration": 23,
             "learn": [
              0.2765147256
             ],
             "passed_time": 9.728698316,
             "remaining_time": 30.80754467,
             "test": [
              0.2768952182
             ]
            },
            {
             "iteration": 24,
             "learn": [
              0.2664616587
             ],
             "passed_time": 10.10857621,
             "remaining_time": 30.32572863,
             "test": [
              0.2674681353
             ]
            },
            {
             "iteration": 25,
             "learn": [
              0.2579880515
             ],
             "passed_time": 10.48076521,
             "remaining_time": 29.82987021,
             "test": [
              0.2584064599
             ]
            },
            {
             "iteration": 26,
             "learn": [
              0.2499715652
             ],
             "passed_time": 10.87034183,
             "remaining_time": 29.39018347,
             "test": [
              0.2496934677
             ]
            },
            {
             "iteration": 27,
             "learn": [
              0.2419819519
             ],
             "passed_time": 11.23657477,
             "remaining_time": 28.8940494,
             "test": [
              0.2413121215
             ]
            },
            {
             "iteration": 28,
             "learn": [
              0.2336874501
             ],
             "passed_time": 11.69669741,
             "remaining_time": 28.63674195,
             "test": [
              0.2332482902
             ]
            },
            {
             "iteration": 29,
             "learn": [
              0.225854643
             ],
             "passed_time": 12.16103287,
             "remaining_time": 28.37574335,
             "test": [
              0.2254863978
             ]
            },
            {
             "iteration": 30,
             "learn": [
              0.2185338319
             ],
             "passed_time": 12.63482391,
             "remaining_time": 28.12267257,
             "test": [
              0.218013059
             ]
            },
            {
             "iteration": 31,
             "learn": [
              0.2109412839
             ],
             "passed_time": 13.00296246,
             "remaining_time": 27.63129522,
             "test": [
              0.2108152692
             ]
            },
            {
             "iteration": 32,
             "learn": [
              0.2033609009
             ],
             "passed_time": 13.488716,
             "remaining_time": 27.38618096,
             "test": [
              0.2038804196
             ]
            },
            {
             "iteration": 33,
             "learn": [
              0.1964470023
             ],
             "passed_time": 13.92114232,
             "remaining_time": 27.02339392,
             "test": [
              0.1971978331
             ]
            },
            {
             "iteration": 34,
             "learn": [
              0.1911915605
             ],
             "passed_time": 14.35980785,
             "remaining_time": 26.66821457,
             "test": [
              0.190756922
             ]
            },
            {
             "iteration": 35,
             "learn": [
              0.183914711
             ],
             "passed_time": 14.72752092,
             "remaining_time": 26.18225941,
             "test": [
              0.1845472157
             ]
            },
            {
             "iteration": 36,
             "learn": [
              0.1787801006
             ],
             "passed_time": 15.11913577,
             "remaining_time": 25.74339333,
             "test": [
              0.1785590549
             ]
            },
            {
             "iteration": 37,
             "learn": [
              0.1722009554
             ],
             "passed_time": 15.49203202,
             "remaining_time": 25.27647329,
             "test": [
              0.1727822316
             ]
            },
            {
             "iteration": 38,
             "learn": [
              0.1676793575
             ],
             "passed_time": 15.91462521,
             "remaining_time": 24.8921061,
             "test": [
              0.1672098649
             ]
            },
            {
             "iteration": 39,
             "learn": [
              0.1614364469
             ],
             "passed_time": 16.30327732,
             "remaining_time": 24.45491598,
             "test": [
              0.1618320254
             ]
            },
            {
             "iteration": 40,
             "learn": [
              0.1563421564
             ],
             "passed_time": 16.73660568,
             "remaining_time": 24.08438378,
             "test": [
              0.1566419203
             ]
            },
            {
             "iteration": 41,
             "learn": [
              0.1520284182
             ],
             "passed_time": 17.14944456,
             "remaining_time": 23.6825663,
             "test": [
              0.151631212
             ]
            },
            {
             "iteration": 42,
             "learn": [
              0.1470153601
             ],
             "passed_time": 17.57743401,
             "remaining_time": 23.3003195,
             "test": [
              0.1467935566
             ]
            },
            {
             "iteration": 43,
             "learn": [
              0.1418826975
             ],
             "passed_time": 17.98931101,
             "remaining_time": 22.89548675,
             "test": [
              0.1421220844
             ]
            },
            {
             "iteration": 44,
             "learn": [
              0.1371182181
             ],
             "passed_time": 18.41865633,
             "remaining_time": 22.51169107,
             "test": [
              0.1376101134
             ]
            },
            {
             "iteration": 45,
             "learn": [
              0.132923511
             ],
             "passed_time": 18.86919109,
             "remaining_time": 22.15078954,
             "test": [
              0.1332513502
             ]
            },
            {
             "iteration": 46,
             "learn": [
              0.1289311654
             ],
             "passed_time": 19.2257881,
             "remaining_time": 21.68014403,
             "test": [
              0.1290396112
             ]
            },
            {
             "iteration": 47,
             "learn": [
              0.1250052849
             ],
             "passed_time": 19.78681371,
             "remaining_time": 21.43571485,
             "test": [
              0.1249708108
             ]
            },
            {
             "iteration": 48,
             "learn": [
              0.1210963042
             ],
             "passed_time": 20.21513092,
             "remaining_time": 21.04023831,
             "test": [
              0.1210381495
             ]
            },
            {
             "iteration": 49,
             "learn": [
              0.117209011
             ],
             "passed_time": 20.5576943,
             "remaining_time": 20.5576943,
             "test": [
              0.1172369561
             ]
            },
            {
             "iteration": 50,
             "learn": [
              0.1133373163
             ],
             "passed_time": 20.96182448,
             "remaining_time": 20.13979214,
             "test": [
              0.1135624057
             ]
            },
            {
             "iteration": 51,
             "learn": [
              0.1097708807
             ],
             "passed_time": 21.30675772,
             "remaining_time": 19.66777636,
             "test": [
              0.1100090201
             ]
            },
            {
             "iteration": 52,
             "learn": [
              0.1069423704
             ],
             "passed_time": 21.64082488,
             "remaining_time": 19.19092018,
             "test": [
              0.10657298
             ]
            },
            {
             "iteration": 53,
             "learn": [
              0.1034242796
             ],
             "passed_time": 21.98112618,
             "remaining_time": 18.72466304,
             "test": [
              0.1032502698
             ]
            },
            {
             "iteration": 54,
             "learn": [
              0.09974676188
             ],
             "passed_time": 22.43096337,
             "remaining_time": 18.35260639,
             "test": [
              0.1000379978
             ]
            },
            {
             "iteration": 55,
             "learn": [
              0.09715718599
             ],
             "passed_time": 22.84090199,
             "remaining_time": 17.946423,
             "test": [
              0.09693006052
             ]
            },
            {
             "iteration": 56,
             "learn": [
              0.09378396796
             ],
             "passed_time": 23.29962996,
             "remaining_time": 17.57691383,
             "test": [
              0.09392265511
             ]
            },
            {
             "iteration": 57,
             "learn": [
              0.0912415654
             ],
             "passed_time": 23.92622969,
             "remaining_time": 17.32589046,
             "test": [
              0.09101361136
             ]
            },
            {
             "iteration": 58,
             "learn": [
              0.08796283328
             ],
             "passed_time": 24.48339645,
             "remaining_time": 17.01388567,
             "test": [
              0.08819843324
             ]
            },
            {
             "iteration": 59,
             "learn": [
              0.08549304047
             ],
             "passed_time": 24.94123238,
             "remaining_time": 16.62748825,
             "test": [
              0.08547453892
             ]
            },
            {
             "iteration": 60,
             "learn": [
              0.08259785011
             ],
             "passed_time": 25.37239589,
             "remaining_time": 16.22169573,
             "test": [
              0.08283813112
             ]
            },
            {
             "iteration": 61,
             "learn": [
              0.08012214129
             ],
             "passed_time": 25.7847794,
             "remaining_time": 15.80357447,
             "test": [
              0.08028690071
             ]
            },
            {
             "iteration": 62,
             "learn": [
              0.07799020761
             ],
             "passed_time": 26.17744167,
             "remaining_time": 15.37405304,
             "test": [
              0.07781731576
             ]
            },
            {
             "iteration": 63,
             "learn": [
              0.07551336381
             ],
             "passed_time": 26.57984333,
             "remaining_time": 14.95116187,
             "test": [
              0.07542727402
             ]
            },
            {
             "iteration": 64,
             "learn": [
              0.0729841965
             ],
             "passed_time": 27.02008748,
             "remaining_time": 14.54927787,
             "test": [
              0.07311297211
             ]
            },
            {
             "iteration": 65,
             "learn": [
              0.07057316379
             ],
             "passed_time": 27.43775858,
             "remaining_time": 14.13460291,
             "test": [
              0.07087218608
             ]
            },
            {
             "iteration": 66,
             "learn": [
              0.06846818688
             ],
             "passed_time": 27.87044154,
             "remaining_time": 13.7272324,
             "test": [
              0.06870254775
             ]
            },
            {
             "iteration": 67,
             "learn": [
              0.06645329907
             ],
             "passed_time": 28.22107375,
             "remaining_time": 13.28050529,
             "test": [
              0.0666014212
             ]
            },
            {
             "iteration": 68,
             "learn": [
              0.06448655698
             ],
             "passed_time": 28.63012456,
             "remaining_time": 12.86280959,
             "test": [
              0.06456705077
             ]
            },
            {
             "iteration": 69,
             "learn": [
              0.06253263837
             ],
             "passed_time": 28.95905539,
             "remaining_time": 12.41102374,
             "test": [
              0.06259681483
             ]
            },
            {
             "iteration": 70,
             "learn": [
              0.06058543142
             ],
             "passed_time": 29.30756258,
             "remaining_time": 11.97069457,
             "test": [
              0.0606884735
             ]
            },
            {
             "iteration": 71,
             "learn": [
              0.05867480365
             ],
             "passed_time": 29.6890981,
             "remaining_time": 11.54576037,
             "test": [
              0.05884041681
             ]
            },
            {
             "iteration": 72,
             "learn": [
              0.0568658906
             ],
             "passed_time": 30.08317935,
             "remaining_time": 11.12665538,
             "test": [
              0.05704990755
             ]
            },
            {
             "iteration": 73,
             "learn": [
              0.05545398158
             ],
             "passed_time": 30.5425646,
             "remaining_time": 10.73117135,
             "test": [
              0.05531565482
             ]
            },
            {
             "iteration": 74,
             "learn": [
              0.053696299
             ],
             "passed_time": 31.00608032,
             "remaining_time": 10.33536011,
             "test": [
              0.05363579439
             ]
            },
            {
             "iteration": 75,
             "learn": [
              0.05184767897
             ],
             "passed_time": 31.42023514,
             "remaining_time": 9.922179518,
             "test": [
              0.05200830998
             ]
            },
            {
             "iteration": 76,
             "learn": [
              0.05055510735
             ],
             "passed_time": 31.91068638,
             "remaining_time": 9.531763463,
             "test": [
              0.0504313663
             ]
            },
            {
             "iteration": 77,
             "learn": [
              0.04886301242
             ],
             "passed_time": 32.30843749,
             "remaining_time": 9.112636215,
             "test": [
              0.04890351483
             ]
            },
            {
             "iteration": 78,
             "learn": [
              0.04726267414
             ],
             "passed_time": 32.6935184,
             "remaining_time": 8.690682106,
             "test": [
              0.04742311158
             ]
            },
            {
             "iteration": 79,
             "learn": [
              0.04593551582
             ],
             "passed_time": 33.08488379,
             "remaining_time": 8.271220948,
             "test": [
              0.04598837802
             ]
            },
            {
             "iteration": 80,
             "learn": [
              0.04467388331
             ],
             "passed_time": 33.44348402,
             "remaining_time": 7.844767857,
             "test": [
              0.04459816041
             ]
            },
            {
             "iteration": 81,
             "learn": [
              0.04309136248
             ],
             "passed_time": 33.8040073,
             "remaining_time": 7.420391847,
             "test": [
              0.04325078544
             ]
            },
            {
             "iteration": 82,
             "learn": [
              0.04197961663
             ],
             "passed_time": 34.15906033,
             "remaining_time": 6.996434043,
             "test": [
              0.04194550556
             ]
            },
            {
             "iteration": 83,
             "learn": [
              0.04073997966
             ],
             "passed_time": 34.51623903,
             "remaining_time": 6.57452172,
             "test": [
              0.04068072661
             ]
            },
            {
             "iteration": 84,
             "learn": [
              0.03937606932
             ],
             "passed_time": 34.89493293,
             "remaining_time": 6.157929341,
             "test": [
              0.03945420837
             ]
            },
            {
             "iteration": 85,
             "learn": [
              0.03815228875
             ],
             "passed_time": 35.36479793,
             "remaining_time": 5.757060129,
             "test": [
              0.03826605502
             ]
            },
            {
             "iteration": 86,
             "learn": [
              0.03713230386
             ],
             "passed_time": 35.70516317,
             "remaining_time": 5.335254267,
             "test": [
              0.03711417947
             ]
            },
            {
             "iteration": 87,
             "learn": [
              0.03608197914
             ],
             "passed_time": 36.13050216,
             "remaining_time": 4.926886658,
             "test": [
              0.03599795207
             ]
            },
            {
             "iteration": 88,
             "learn": [
              0.034895288
             ],
             "passed_time": 36.53763319,
             "remaining_time": 4.515887248,
             "test": [
              0.03491539891
             ]
            },
            {
             "iteration": 89,
             "learn": [
              0.03385038438
             ],
             "passed_time": 36.98447264,
             "remaining_time": 4.109385849,
             "test": [
              0.03386631858
             ]
            },
            {
             "iteration": 90,
             "learn": [
              0.03284698388
             ],
             "passed_time": 37.35585267,
             "remaining_time": 3.69453488,
             "test": [
              0.0328491615
             ]
            },
            {
             "iteration": 91,
             "learn": [
              0.03185565599
             ],
             "passed_time": 37.78732624,
             "remaining_time": 3.285854456,
             "test": [
              0.03186313501
             ]
            },
            {
             "iteration": 92,
             "learn": [
              0.03087798206
             ],
             "passed_time": 38.19963399,
             "remaining_time": 2.875241268,
             "test": [
              0.03090707502
             ]
            },
            {
             "iteration": 93,
             "learn": [
              0.02993572403
             ],
             "passed_time": 38.65818105,
             "remaining_time": 2.467543472,
             "test": [
              0.02998025827
             ]
            },
            {
             "iteration": 94,
             "learn": [
              0.02900940368
             ],
             "passed_time": 39.11055573,
             "remaining_time": 2.058450302,
             "test": [
              0.02908193717
             ]
            },
            {
             "iteration": 95,
             "learn": [
              0.02826508993
             ],
             "passed_time": 39.55613122,
             "remaining_time": 1.648172134,
             "test": [
              0.02821074501
             ]
            },
            {
             "iteration": 96,
             "learn": [
              0.02737911609
             ],
             "passed_time": 39.97251488,
             "remaining_time": 1.236263347,
             "test": [
              0.02736617477
             ]
            },
            {
             "iteration": 97,
             "learn": [
              0.02645848221
             ],
             "passed_time": 40.39695813,
             "remaining_time": 0.8244277168,
             "test": [
              0.02654730829
             ]
            },
            {
             "iteration": 98,
             "learn": [
              0.02580353301
             ],
             "passed_time": 40.76782401,
             "remaining_time": 0.4117962021,
             "test": [
              0.02575298438
             ]
            },
            {
             "iteration": 99,
             "learn": [
              0.02494913267
             ],
             "passed_time": 41.1309433,
             "remaining_time": 0,
             "test": [
              0.02498286731
             ]
            }
           ],
           "meta": {
            "iteration_count": 100,
            "launch_mode": "Train",
            "learn_metrics": [
             {
              "best_value": "Min",
              "name": "CrossEntropy"
             }
            ],
            "learn_sets": [
             "learn"
            ],
            "name": "experiment",
            "parameters": "",
            "test_metrics": [
             {
              "best_value": "Min",
              "name": "CrossEntropy"
             }
            ],
            "test_sets": [
             "test"
            ]
           }
          },
          "passed_iterations": 99,
          "total_iterations": 100
         },
         "name": "catboost_info",
         "path": "catboost_info"
        }
       },
       "layout": "IPY_MODEL_0a73b09f834c45ca8c7eca7f20c41d2c"
      }
     },
     "dd106c56d97a4aa39a579367cafe9b88": {
      "model_module": "@jupyter-widgets/base",
      "model_module_version": "1.2.0",
      "model_name": "LayoutModel",
      "state": {
       "_model_module": "@jupyter-widgets/base",
       "_model_module_version": "1.2.0",
       "_model_name": "LayoutModel",
       "_view_count": null,
       "_view_module": "@jupyter-widgets/base",
       "_view_module_version": "1.2.0",
       "_view_name": "LayoutView",
       "align_content": null,
       "align_items": null,
       "align_self": "stretch",
       "border": null,
       "bottom": null,
       "display": null,
       "flex": null,
       "flex_flow": null,
       "grid_area": null,
       "grid_auto_columns": null,
       "grid_auto_flow": null,
       "grid_auto_rows": null,
       "grid_column": null,
       "grid_gap": null,
       "grid_row": null,
       "grid_template_areas": null,
       "grid_template_columns": null,
       "grid_template_rows": null,
       "height": "500px",
       "justify_content": null,
       "justify_items": null,
       "left": null,
       "margin": null,
       "max_height": null,
       "max_width": null,
       "min_height": null,
       "min_width": null,
       "object_fit": null,
       "object_position": null,
       "order": null,
       "overflow": null,
       "overflow_x": null,
       "overflow_y": null,
       "padding": null,
       "right": null,
       "top": null,
       "visibility": null,
       "width": null
      }
     },
     "de24b4b7247b48d08270a6e76fd4ab82": {
      "model_module": "@jupyter-widgets/base",
      "model_module_version": "1.2.0",
      "model_name": "LayoutModel",
      "state": {
       "_model_module": "@jupyter-widgets/base",
       "_model_module_version": "1.2.0",
       "_model_name": "LayoutModel",
       "_view_count": null,
       "_view_module": "@jupyter-widgets/base",
       "_view_module_version": "1.2.0",
       "_view_name": "LayoutView",
       "align_content": null,
       "align_items": null,
       "align_self": "stretch",
       "border": null,
       "bottom": null,
       "display": null,
       "flex": null,
       "flex_flow": null,
       "grid_area": null,
       "grid_auto_columns": null,
       "grid_auto_flow": null,
       "grid_auto_rows": null,
       "grid_column": null,
       "grid_gap": null,
       "grid_row": null,
       "grid_template_areas": null,
       "grid_template_columns": null,
       "grid_template_rows": null,
       "height": "500px",
       "justify_content": null,
       "justify_items": null,
       "left": null,
       "margin": null,
       "max_height": null,
       "max_width": null,
       "min_height": null,
       "min_width": null,
       "object_fit": null,
       "object_position": null,
       "order": null,
       "overflow": null,
       "overflow_x": null,
       "overflow_y": null,
       "padding": null,
       "right": null,
       "top": null,
       "visibility": null,
       "width": null
      }
     },
     "dee80362e85a4e5f9b0f0a10af509bf8": {
      "model_module": "@jupyter-widgets/base",
      "model_module_version": "1.2.0",
      "model_name": "LayoutModel",
      "state": {
       "_model_module": "@jupyter-widgets/base",
       "_model_module_version": "1.2.0",
       "_model_name": "LayoutModel",
       "_view_count": null,
       "_view_module": "@jupyter-widgets/base",
       "_view_module_version": "1.2.0",
       "_view_name": "LayoutView",
       "align_content": null,
       "align_items": null,
       "align_self": "stretch",
       "border": null,
       "bottom": null,
       "display": null,
       "flex": null,
       "flex_flow": null,
       "grid_area": null,
       "grid_auto_columns": null,
       "grid_auto_flow": null,
       "grid_auto_rows": null,
       "grid_column": null,
       "grid_gap": null,
       "grid_row": null,
       "grid_template_areas": null,
       "grid_template_columns": null,
       "grid_template_rows": null,
       "height": "500px",
       "justify_content": null,
       "justify_items": null,
       "left": null,
       "margin": null,
       "max_height": null,
       "max_width": null,
       "min_height": null,
       "min_width": null,
       "object_fit": null,
       "object_position": null,
       "order": null,
       "overflow": null,
       "overflow_x": null,
       "overflow_y": null,
       "padding": null,
       "right": null,
       "top": null,
       "visibility": null,
       "width": null
      }
     },
     "e640754536824012b4b944b47ac18db0": {
      "model_module": "@jupyter-widgets/base",
      "model_module_version": "1.2.0",
      "model_name": "LayoutModel",
      "state": {
       "_model_module": "@jupyter-widgets/base",
       "_model_module_version": "1.2.0",
       "_model_name": "LayoutModel",
       "_view_count": null,
       "_view_module": "@jupyter-widgets/base",
       "_view_module_version": "1.2.0",
       "_view_name": "LayoutView",
       "align_content": null,
       "align_items": null,
       "align_self": "stretch",
       "border": null,
       "bottom": null,
       "display": null,
       "flex": null,
       "flex_flow": null,
       "grid_area": null,
       "grid_auto_columns": null,
       "grid_auto_flow": null,
       "grid_auto_rows": null,
       "grid_column": null,
       "grid_gap": null,
       "grid_row": null,
       "grid_template_areas": null,
       "grid_template_columns": null,
       "grid_template_rows": null,
       "height": "500px",
       "justify_content": null,
       "justify_items": null,
       "left": null,
       "margin": null,
       "max_height": null,
       "max_width": null,
       "min_height": null,
       "min_width": null,
       "object_fit": null,
       "object_position": null,
       "order": null,
       "overflow": null,
       "overflow_x": null,
       "overflow_y": null,
       "padding": null,
       "right": null,
       "top": null,
       "visibility": null,
       "width": null
      }
     },
     "e9a748ad6f2e4080be9b61cafa14464f": {
      "model_module": "catboost-widget",
      "model_module_version": "^1.0.0",
      "model_name": "CatboostWidgetModel",
      "state": {
       "_dom_classes": [],
       "_model_module": "catboost-widget",
       "_model_module_version": "^1.0.0",
       "_model_name": "CatboostWidgetModel",
       "_view_count": null,
       "_view_module": "catboost-widget",
       "_view_module_version": "^1.0.0",
       "_view_name": "CatboostWidgetView",
       "data": {
        "catboost_info": {
         "content": {
          "data": {
           "iterations": [
            {
             "iteration": 0,
             "learn": [
              0.6613801917
             ],
             "passed_time": 0.375707062,
             "remaining_time": 37.19499914,
             "test": [
              0.6635996862
             ]
            },
            {
             "iteration": 1,
             "learn": [
              0.6362945126
             ],
             "passed_time": 0.739961884,
             "remaining_time": 36.25813231,
             "test": [
              0.6357727565
             ]
            },
            {
             "iteration": 2,
             "learn": [
              0.6093762145
             ],
             "passed_time": 1.135259734,
             "remaining_time": 36.70673141,
             "test": [
              0.6095199707
             ]
            },
            {
             "iteration": 3,
             "learn": [
              0.5837168142
             ],
             "passed_time": 1.640400684,
             "remaining_time": 39.36961641,
             "test": [
              0.5847122547
             ]
            },
            {
             "iteration": 4,
             "learn": [
              0.5621908382
             ],
             "passed_time": 2.295316696,
             "remaining_time": 43.61101723,
             "test": [
              0.5612367973
             ]
            },
            {
             "iteration": 5,
             "learn": [
              0.5376672984
             ],
             "passed_time": 2.785752505,
             "remaining_time": 43.6434559,
             "test": [
              0.5389913955
             ]
            },
            {
             "iteration": 6,
             "learn": [
              0.5168814898
             ],
             "passed_time": 3.237625379,
             "remaining_time": 43.01416575,
             "test": [
              0.517886571
             ]
            },
            {
             "iteration": 7,
             "learn": [
              0.4986820454
             ],
             "passed_time": 3.6054636,
             "remaining_time": 41.4628314,
             "test": [
              0.4978383959
             ]
            },
            {
             "iteration": 8,
             "learn": [
              0.478524695
             ],
             "passed_time": 3.966731521,
             "remaining_time": 40.10806316,
             "test": [
              0.4787742355
             ]
            },
            {
             "iteration": 9,
             "learn": [
              0.4605800316
             ],
             "passed_time": 4.343386263,
             "remaining_time": 39.09047636,
             "test": [
              0.4606279233
             ]
            },
            {
             "iteration": 10,
             "learn": [
              0.4438177686
             ],
             "passed_time": 4.720924633,
             "remaining_time": 38.19657203,
             "test": [
              0.443339495
             ]
            },
            {
             "iteration": 11,
             "learn": [
              0.4280504758
             ],
             "passed_time": 5.094026998,
             "remaining_time": 37.35619798,
             "test": [
              0.426853598
             ]
            },
            {
             "iteration": 12,
             "learn": [
              0.4121086409
             ],
             "passed_time": 5.483392115,
             "remaining_time": 36.69654723,
             "test": [
              0.4111208005
             ]
            },
            {
             "iteration": 13,
             "learn": [
              0.3967745747
             ],
             "passed_time": 5.877167517,
             "remaining_time": 36.10260046,
             "test": [
              0.396094458
             ]
            },
            {
             "iteration": 14,
             "learn": [
              0.3823906847
             ],
             "passed_time": 6.290272637,
             "remaining_time": 35.64487828,
             "test": [
              0.3817325335
             ]
            },
            {
             "iteration": 15,
             "learn": [
              0.3673313049
             ],
             "passed_time": 6.783507082,
             "remaining_time": 35.61341218,
             "test": [
              0.3679991793
             ]
            },
            {
             "iteration": 16,
             "learn": [
              0.3538793877
             ],
             "passed_time": 7.229871266,
             "remaining_time": 35.29878324,
             "test": [
              0.3548545248
             ]
            },
            {
             "iteration": 17,
             "learn": [
              0.3431686861
             ],
             "passed_time": 7.56896631,
             "remaining_time": 34.48084652,
             "test": [
              0.3422683244
             ]
            },
            {
             "iteration": 18,
             "learn": [
              0.3300849071
             ],
             "passed_time": 7.956563309,
             "remaining_time": 33.92008569,
             "test": [
              0.3302080742
             ]
            },
            {
             "iteration": 19,
             "learn": [
              0.3196733139
             ],
             "passed_time": 8.406686291,
             "remaining_time": 33.62674516,
             "test": [
              0.3186465722
             ]
            },
            {
             "iteration": 20,
             "learn": [
              0.3069668935
             ],
             "passed_time": 8.848759295,
             "remaining_time": 33.28818973,
             "test": [
              0.3075583688
             ]
            },
            {
             "iteration": 21,
             "learn": [
              0.2968810957
             ],
             "passed_time": 9.24497638,
             "remaining_time": 32.77764353,
             "test": [
              0.2969175414
             ]
            },
            {
             "iteration": 22,
             "learn": [
              0.2867664676
             ],
             "passed_time": 9.65696042,
             "remaining_time": 32.32982401,
             "test": [
              0.2867029841
             ]
            },
            {
             "iteration": 23,
             "learn": [
              0.2765079028
             ],
             "passed_time": 10.11430829,
             "remaining_time": 32.02864291,
             "test": [
              0.2768917122
             ]
            },
            {
             "iteration": 24,
             "learn": [
              0.2664441158
             ],
             "passed_time": 10.49639539,
             "remaining_time": 31.48918617,
             "test": [
              0.267464411
             ]
            },
            {
             "iteration": 25,
             "learn": [
              0.2579789585
             ],
             "passed_time": 10.86358964,
             "remaining_time": 30.91944744,
             "test": [
              0.2584028808
             ]
            },
            {
             "iteration": 26,
             "learn": [
              0.2499625361
             ],
             "passed_time": 11.25464798,
             "remaining_time": 30.42923343,
             "test": [
              0.2496902921
             ]
            },
            {
             "iteration": 27,
             "learn": [
              0.2419720993
             ],
             "passed_time": 11.62588007,
             "remaining_time": 29.89512017,
             "test": [
              0.2413092397
             ]
            },
            {
             "iteration": 28,
             "learn": [
              0.2336774901
             ],
             "passed_time": 12.08313782,
             "remaining_time": 29.58285466,
             "test": [
              0.2332446556
             ]
            },
            {
             "iteration": 29,
             "learn": [
              0.2258438854
             ],
             "passed_time": 12.54952851,
             "remaining_time": 29.28223319,
             "test": [
              0.2254826061
             ]
            },
            {
             "iteration": 30,
             "learn": [
              0.2185227559
             ],
             "passed_time": 13.06139231,
             "remaining_time": 29.07213126,
             "test": [
              0.2180093181
             ]
            },
            {
             "iteration": 31,
             "learn": [
              0.2109303761
             ],
             "passed_time": 13.4278897,
             "remaining_time": 28.5342656,
             "test": [
              0.2108108584
             ]
            },
            {
             "iteration": 32,
             "learn": [
              0.2033489617
             ],
             "passed_time": 13.91011195,
             "remaining_time": 28.24174243,
             "test": [
              0.2038759164
             ]
            },
            {
             "iteration": 33,
             "learn": [
              0.1964209994
             ],
             "passed_time": 14.34462792,
             "remaining_time": 27.84545421,
             "test": [
              0.1971932111
             ]
            },
            {
             "iteration": 34,
             "learn": [
              0.1911768018
             ],
             "passed_time": 14.78931503,
             "remaining_time": 27.46587077,
             "test": [
              0.1907520256
             ]
            },
            {
             "iteration": 35,
             "learn": [
              0.1838986674
             ],
             "passed_time": 15.15130467,
             "remaining_time": 26.93565274,
             "test": [
              0.1845420046
             ]
            },
            {
             "iteration": 36,
             "learn": [
              0.1787647401
             ],
             "passed_time": 15.53883002,
             "remaining_time": 26.45800788,
             "test": [
              0.1785534578
             ]
            },
            {
             "iteration": 37,
             "learn": [
              0.1721866099
             ],
             "passed_time": 15.91921158,
             "remaining_time": 25.97345048,
             "test": [
              0.1727771088
             ]
            },
            {
             "iteration": 38,
             "learn": [
              0.1676662798
             ],
             "passed_time": 16.3416925,
             "remaining_time": 25.56008314,
             "test": [
              0.1672043112
             ]
            },
            {
             "iteration": 39,
             "learn": [
              0.1614232403
             ],
             "passed_time": 16.73124702,
             "remaining_time": 25.09687052,
             "test": [
              0.1618266029
             ]
            },
            {
             "iteration": 40,
             "learn": [
              0.1563265701
             ],
             "passed_time": 17.15288157,
             "remaining_time": 24.68341494,
             "test": [
              0.1566362261
             ]
            },
            {
             "iteration": 41,
             "learn": [
              0.1520149209
             ],
             "passed_time": 17.56925551,
             "remaining_time": 24.26230522,
             "test": [
              0.1516259396
             ]
            },
            {
             "iteration": 42,
             "learn": [
              0.1470002747
             ],
             "passed_time": 17.98902327,
             "remaining_time": 23.84591456,
             "test": [
              0.1467887013
             ]
            },
            {
             "iteration": 43,
             "learn": [
              0.141865232
             ],
             "passed_time": 18.39916505,
             "remaining_time": 23.41711916,
             "test": [
              0.142116907
             ]
            },
            {
             "iteration": 44,
             "learn": [
              0.1371035641
             ],
             "passed_time": 18.82760766,
             "remaining_time": 23.01152047,
             "test": [
              0.1376047882
             ]
            },
            {
             "iteration": 45,
             "learn": [
              0.1329054482
             ],
             "passed_time": 19.27537544,
             "remaining_time": 22.62761465,
             "test": [
              0.133245694
             ]
            },
            {
             "iteration": 46,
             "learn": [
              0.1289166797
             ],
             "passed_time": 19.63540607,
             "remaining_time": 22.14205365,
             "test": [
              0.1290339513
             ]
            },
            {
             "iteration": 47,
             "learn": [
              0.1249893058
             ],
             "passed_time": 20.15407546,
             "remaining_time": 21.83358175,
             "test": [
              0.1249649155
             ]
            },
            {
             "iteration": 48,
             "learn": [
              0.1210805928
             ],
             "passed_time": 20.58215734,
             "remaining_time": 21.4222454,
             "test": [
              0.1210320489
             ]
            },
            {
             "iteration": 49,
             "learn": [
              0.1171934227
             ],
             "passed_time": 20.92136521,
             "remaining_time": 20.92136521,
             "test": [
              0.1172307231
             ]
            },
            {
             "iteration": 50,
             "learn": [
              0.1133177635
             ],
             "passed_time": 21.32705883,
             "remaining_time": 20.49070358,
             "test": [
              0.1135565676
             ]
            },
            {
             "iteration": 51,
             "learn": [
              0.1097543045
             ],
             "passed_time": 21.67823502,
             "remaining_time": 20.01067848,
             "test": [
              0.1100032417
             ]
            },
            {
             "iteration": 52,
             "learn": [
              0.106926024
             ],
             "passed_time": 22.00795166,
             "remaining_time": 19.51648543,
             "test": [
              0.1065673274
             ]
            },
            {
             "iteration": 53,
             "learn": [
              0.1034039668
             ],
             "passed_time": 22.34828529,
             "remaining_time": 19.03742821,
             "test": [
              0.1032446586
             ]
            },
            {
             "iteration": 54,
             "learn": [
              0.09973015679
             ],
             "passed_time": 22.80544657,
             "remaining_time": 18.65900174,
             "test": [
              0.1000317634
             ]
            },
            {
             "iteration": 55,
             "learn": [
              0.09713723698
             ],
             "passed_time": 23.21526417,
             "remaining_time": 18.2405647,
             "test": [
              0.09692357527
             ]
            },
            {
             "iteration": 56,
             "learn": [
              0.09376589305
             ],
             "passed_time": 23.63787155,
             "remaining_time": 17.83207854,
             "test": [
              0.09391646359
             ]
            },
            {
             "iteration": 57,
             "learn": [
              0.09122238909
             ],
             "passed_time": 24.13342427,
             "remaining_time": 17.47592792,
             "test": [
              0.09100748123
             ]
            },
            {
             "iteration": 58,
             "learn": [
              0.08794123131
             ],
             "passed_time": 24.53446903,
             "remaining_time": 17.04937678,
             "test": [
              0.08819252791
             ]
            },
            {
             "iteration": 59,
             "learn": [
              0.08547141478
             ],
             "passed_time": 24.94957085,
             "remaining_time": 16.63304723,
             "test": [
              0.08546898949
             ]
            },
            {
             "iteration": 60,
             "learn": [
              0.08257524774
             ],
             "passed_time": 25.37120201,
             "remaining_time": 16.22093243,
             "test": [
              0.08283252665
             ]
            },
            {
             "iteration": 61,
             "learn": [
              0.08010094779
             ],
             "passed_time": 25.79204975,
             "remaining_time": 15.80803049,
             "test": [
              0.08028106764
             ]
            },
            {
             "iteration": 62,
             "learn": [
              0.07797047384
             ],
             "passed_time": 26.18296791,
             "remaining_time": 15.37729862,
             "test": [
              0.07781152414
             ]
            },
            {
             "iteration": 63,
             "learn": [
              0.07548901402
             ],
             "passed_time": 26.57972843,
             "remaining_time": 14.95109724,
             "test": [
              0.07542074561
             ]
            },
            {
             "iteration": 64,
             "learn": [
              0.07295568083
             ],
             "passed_time": 27.02046514,
             "remaining_time": 14.54948123,
             "test": [
              0.0731064248
             ]
            },
            {
             "iteration": 65,
             "learn": [
              0.07053921705
             ],
             "passed_time": 27.43649057,
             "remaining_time": 14.13394969,
             "test": [
              0.07086540234
             ]
            },
            {
             "iteration": 66,
             "learn": [
              0.06844744689
             ],
             "passed_time": 27.86728702,
             "remaining_time": 13.72567868,
             "test": [
              0.06869580858
             ]
            },
            {
             "iteration": 67,
             "learn": [
              0.06643111379
             ],
             "passed_time": 28.21622555,
             "remaining_time": 13.27822379,
             "test": [
              0.0665947765
             ]
            },
            {
             "iteration": 68,
             "learn": [
              0.06446606773
             ],
             "passed_time": 28.63415207,
             "remaining_time": 12.86461905,
             "test": [
              0.06456031946
             ]
            },
            {
             "iteration": 69,
             "learn": [
              0.06251230894
             ],
             "passed_time": 28.96358183,
             "remaining_time": 12.41296364,
             "test": [
              0.06259015708
             ]
            },
            {
             "iteration": 70,
             "learn": [
              0.06056313082
             ],
             "passed_time": 29.31209987,
             "remaining_time": 11.97254783,
             "test": [
              0.06068172725
             ]
            },
            {
             "iteration": 71,
             "learn": [
              0.05865345307
             ],
             "passed_time": 29.68570649,
             "remaining_time": 11.54444141,
             "test": [
              0.05883358326
             ]
            },
            {
             "iteration": 72,
             "learn": [
              0.05684123472
             ],
             "passed_time": 30.07848243,
             "remaining_time": 11.12491816,
             "test": [
              0.05704304246
             ]
            },
            {
             "iteration": 73,
             "learn": [
              0.05543120722
             ],
             "passed_time": 30.52352439,
             "remaining_time": 10.72448154,
             "test": [
              0.05530889698
             ]
            },
            {
             "iteration": 74,
             "learn": [
              0.0536728595
             ],
             "passed_time": 30.96305008,
             "remaining_time": 10.32101669,
             "test": [
              0.05362914842
             ]
            },
            {
             "iteration": 75,
             "learn": [
              0.05182519757
             ],
             "passed_time": 31.37574191,
             "remaining_time": 9.908129025,
             "test": [
              0.0520018594
             ]
            },
            {
             "iteration": 76,
             "learn": [
              0.05053055519
             ],
             "passed_time": 31.86874105,
             "remaining_time": 9.51923434,
             "test": [
              0.05042515217
             ]
            },
            {
             "iteration": 77,
             "learn": [
              0.04884044759
             ],
             "passed_time": 32.27051896,
             "remaining_time": 9.101941245,
             "test": [
              0.04889753548
             ]
            },
            {
             "iteration": 78,
             "learn": [
              0.0472115201
             ],
             "passed_time": 32.65798751,
             "remaining_time": 8.681237187,
             "test": [
              0.04741713763
             ]
            },
            {
             "iteration": 79,
             "learn": [
              0.04591196788
             ],
             "passed_time": 33.0466489,
             "remaining_time": 8.261662225,
             "test": [
              0.04598286424
             ]
            },
            {
             "iteration": 80,
             "learn": [
              0.04464896769
             ],
             "passed_time": 33.51613997,
             "remaining_time": 7.86181061,
             "test": [
              0.04459274643
             ]
            },
            {
             "iteration": 81,
             "learn": [
              0.04306331511
             ],
             "passed_time": 34.0272006,
             "remaining_time": 7.469385497,
             "test": [
              0.04324553507
             ]
            },
            {
             "iteration": 82,
             "learn": [
              0.0419552715
             ],
             "passed_time": 34.53497325,
             "remaining_time": 7.073428255,
             "test": [
              0.04194003147
             ]
            },
            {
             "iteration": 83,
             "learn": [
              0.04071436309
             ],
             "passed_time": 34.94671982,
             "remaining_time": 6.656518061,
             "test": [
              0.04067480919
             ]
            },
            {
             "iteration": 84,
             "learn": [
              0.03934893134
             ],
             "passed_time": 35.32413671,
             "remaining_time": 6.233671185,
             "test": [
              0.0394482911
             ]
            },
            {
             "iteration": 85,
             "learn": [
              0.03812621539
             ],
             "passed_time": 35.80927309,
             "remaining_time": 5.829416549,
             "test": [
              0.0382600516
             ]
            },
            {
             "iteration": 86,
             "learn": [
              0.03710698038
             ],
             "passed_time": 36.1466112,
             "remaining_time": 5.401217766,
             "test": [
              0.03710788078
             ]
            },
            {
             "iteration": 87,
             "learn": [
              0.03605576098
             ],
             "passed_time": 36.57958724,
             "remaining_time": 4.988125533,
             "test": [
              0.03599159168
             ]
            },
            {
             "iteration": 88,
             "learn": [
              0.03486709243
             ],
             "passed_time": 36.97560218,
             "remaining_time": 4.570018248,
             "test": [
              0.03490907988
             ]
            },
            {
             "iteration": 89,
             "learn": [
              0.03382386767
             ],
             "passed_time": 37.4171527,
             "remaining_time": 4.157461411,
             "test": [
              0.03386016631
             ]
            },
            {
             "iteration": 90,
             "learn": [
              0.03281929221
             ],
             "passed_time": 37.78978117,
             "remaining_time": 3.737450885,
             "test": [
              0.03284289915
             ]
            },
            {
             "iteration": 91,
             "learn": [
              0.03182868451
             ],
             "passed_time": 38.21783395,
             "remaining_time": 3.323289909,
             "test": [
              0.03185741713
             ]
            },
            {
             "iteration": 92,
             "learn": [
              0.03085151469
             ],
             "passed_time": 38.63079636,
             "remaining_time": 2.90769435,
             "test": [
              0.03090134919
             ]
            },
            {
             "iteration": 93,
             "learn": [
              0.02990729721
             ],
             "passed_time": 39.08467394,
             "remaining_time": 2.494766422,
             "test": [
              0.02997518246
             ]
            },
            {
             "iteration": 94,
             "learn": [
              0.02897141456
             ],
             "passed_time": 39.53978964,
             "remaining_time": 2.08104156,
             "test": [
              0.02907694638
             ]
            },
            {
             "iteration": 95,
             "learn": [
              0.02823820284
             ],
             "passed_time": 39.9811494,
             "remaining_time": 1.665881225,
             "test": [
              0.0282058164
             ]
            },
            {
             "iteration": 96,
             "learn": [
              0.02735216957
             ],
             "passed_time": 40.39687784,
             "remaining_time": 1.249387974,
             "test": [
              0.02736116072
             ]
            },
            {
             "iteration": 97,
             "learn": [
              0.02642969611
             ],
             "passed_time": 40.82590535,
             "remaining_time": 0.8331817419,
             "test": [
              0.02654232791
             ]
            },
            {
             "iteration": 98,
             "learn": [
              0.02577639244
             ],
             "passed_time": 41.1876614,
             "remaining_time": 0.4160369838,
             "test": [
              0.02574806738
             ]
            },
            {
             "iteration": 99,
             "learn": [
              0.02492078536
             ],
             "passed_time": 41.55217668,
             "remaining_time": 0,
             "test": [
              0.02497792749
             ]
            }
           ],
           "meta": {
            "iteration_count": 100,
            "launch_mode": "Train",
            "learn_metrics": [
             {
              "best_value": "Min",
              "name": "CrossEntropy"
             }
            ],
            "learn_sets": [
             "learn"
            ],
            "name": "experiment",
            "parameters": "",
            "test_metrics": [
             {
              "best_value": "Min",
              "name": "CrossEntropy"
             }
            ],
            "test_sets": [
             "test"
            ]
           }
          },
          "passed_iterations": 99,
          "total_iterations": 100
         },
         "name": "catboost_info",
         "path": "catboost_info"
        }
       },
       "layout": "IPY_MODEL_3db54c3eba25431d8935dc7544e4ad86"
      }
     },
     "f6fc577c966b40bc9547586c3bba7174": {
      "model_module": "catboost-widget",
      "model_module_version": "^1.0.0",
      "model_name": "CatboostWidgetModel",
      "state": {
       "_dom_classes": [],
       "_model_module": "catboost-widget",
       "_model_module_version": "^1.0.0",
       "_model_name": "CatboostWidgetModel",
       "_view_count": null,
       "_view_module": "catboost-widget",
       "_view_module_version": "^1.0.0",
       "_view_name": "CatboostWidgetView",
       "data": {
        "catboost_info": {
         "content": {
          "data": {
           "iterations": [
            {
             "iteration": 0,
             "learn": [
              0.663398523
             ],
             "passed_time": 0.3293019364,
             "remaining_time": 32.6008917,
             "test": [
              0.6646414973
             ]
            },
            {
             "iteration": 1,
             "learn": [
              0.6380725273
             ],
             "passed_time": 0.6720455566,
             "remaining_time": 32.93023227,
             "test": [
              0.6376020823
             ]
            },
            {
             "iteration": 2,
             "learn": [
              0.6116179996
             ],
             "passed_time": 1.013228855,
             "remaining_time": 32.7610663,
             "test": [
              0.6120332653
             ]
            },
            {
             "iteration": 3,
             "learn": [
              0.5878006625
             ],
             "passed_time": 1.334198424,
             "remaining_time": 32.02076218,
             "test": [
              0.5880757745
             ]
            },
            {
             "iteration": 4,
             "learn": [
              0.5659041835
             ],
             "passed_time": 1.675123185,
             "remaining_time": 31.82734052,
             "test": [
              0.5652591819
             ]
            },
            {
             "iteration": 5,
             "learn": [
              0.5449451456
             ],
             "passed_time": 1.988205416,
             "remaining_time": 31.14855152,
             "test": [
              0.5436832429
             ]
            },
            {
             "iteration": 6,
             "learn": [
              0.522252898
             ],
             "passed_time": 2.352659989,
             "remaining_time": 31.25676842,
             "test": [
              0.5232456211
             ]
            },
            {
             "iteration": 7,
             "learn": [
              0.5048568872
             ],
             "passed_time": 2.701123943,
             "remaining_time": 31.06292535,
             "test": [
              0.5037099533
             ]
            },
            {
             "iteration": 8,
             "learn": [
              0.4852467329
             ],
             "passed_time": 3.015637629,
             "remaining_time": 30.49144713,
             "test": [
              0.4853402292
             ]
            },
            {
             "iteration": 9,
             "learn": [
              0.468268237
             ],
             "passed_time": 3.331065547,
             "remaining_time": 29.97958992,
             "test": [
              0.4678409446
             ]
            },
            {
             "iteration": 10,
             "learn": [
              0.4522607426
             ],
             "passed_time": 3.675785475,
             "remaining_time": 29.74044612,
             "test": [
              0.4510586059
             ]
            },
            {
             "iteration": 11,
             "learn": [
              0.4367010264
             ],
             "passed_time": 4.014893331,
             "remaining_time": 29.44255109,
             "test": [
              0.434972349
             ]
            },
            {
             "iteration": 12,
             "learn": [
              0.421568865
             ],
             "passed_time": 4.357417368,
             "remaining_time": 29.16117777,
             "test": [
              0.4196283318
             ]
            },
            {
             "iteration": 13,
             "learn": [
              0.4067177588
             ],
             "passed_time": 4.672394373,
             "remaining_time": 28.70185115,
             "test": [
              0.4052306274
             ]
            },
            {
             "iteration": 14,
             "learn": [
              0.3919900278
             ],
             "passed_time": 4.989549827,
             "remaining_time": 28.27411568,
             "test": [
              0.3914423291
             ]
            },
            {
             "iteration": 15,
             "learn": [
              0.3784115716
             ],
             "passed_time": 5.331932932,
             "remaining_time": 27.99264789,
             "test": [
              0.3781005597
             ]
            },
            {
             "iteration": 16,
             "learn": [
              0.3667191687
             ],
             "passed_time": 5.663223406,
             "remaining_time": 27.64985546,
             "test": [
              0.365369197
             ]
            },
            {
             "iteration": 17,
             "learn": [
              0.353956431
             ],
             "passed_time": 5.980207393,
             "remaining_time": 27.24316701,
             "test": [
              0.3532144896
             ]
            },
            {
             "iteration": 18,
             "learn": [
              0.3415159003
             ],
             "passed_time": 6.31698787,
             "remaining_time": 26.93031671,
             "test": [
              0.3415970645
             ]
            },
            {
             "iteration": 19,
             "learn": [
              0.3313633388
             ],
             "passed_time": 6.630743507,
             "remaining_time": 26.52297403,
             "test": [
              0.3305322405
             ]
            },
            {
             "iteration": 20,
             "learn": [
              0.3207576723
             ],
             "passed_time": 6.920698443,
             "remaining_time": 26.03500843,
             "test": [
              0.3197403884
             ]
            },
            {
             "iteration": 21,
             "learn": [
              0.3099391642
             ],
             "passed_time": 7.23553087,
             "remaining_time": 25.65324581,
             "test": [
              0.3094925262
             ]
            },
            {
             "iteration": 22,
             "learn": [
              0.3006358156
             ],
             "passed_time": 7.578165187,
             "remaining_time": 25.37037911,
             "test": [
              0.2994728073
             ]
            },
            {
             "iteration": 23,
             "learn": [
              0.2909330851
             ],
             "passed_time": 7.923828831,
             "remaining_time": 25.09212463,
             "test": [
              0.2898794324
             ]
            },
            {
             "iteration": 24,
             "learn": [
              0.2810670308
             ],
             "passed_time": 8.2702367,
             "remaining_time": 24.8107101,
             "test": [
              0.28066775
             ]
            },
            {
             "iteration": 25,
             "learn": [
              0.2725474335
             ],
             "passed_time": 8.616168037,
             "remaining_time": 24.5229398,
             "test": [
              0.2717650461
             ]
            },
            {
             "iteration": 26,
             "learn": [
              0.2637181838
             ],
             "passed_time": 8.928519896,
             "remaining_time": 24.14007231,
             "test": [
              0.2633780809
             ]
            },
            {
             "iteration": 27,
             "learn": [
              0.2560118129
             ],
             "passed_time": 9.254725894,
             "remaining_time": 23.79786659,
             "test": [
              0.2554563975
             ]
            },
            {
             "iteration": 28,
             "learn": [
              0.2481589474
             ],
             "passed_time": 9.579361708,
             "remaining_time": 23.45292004,
             "test": [
              0.2475973257
             ]
            },
            {
             "iteration": 29,
             "learn": [
              0.2405693002
             ],
             "passed_time": 9.894268253,
             "remaining_time": 23.08662592,
             "test": [
              0.2399319161
             ]
            },
            {
             "iteration": 30,
             "learn": [
              0.2334401046
             ],
             "passed_time": 10.22468701,
             "remaining_time": 22.75817431,
             "test": [
              0.232507415
             ]
            },
            {
             "iteration": 31,
             "learn": [
              0.226400617
             ],
             "passed_time": 10.55897428,
             "remaining_time": 22.43782034,
             "test": [
              0.2255724025
             ]
            },
            {
             "iteration": 32,
             "learn": [
              0.2203373745
             ],
             "passed_time": 10.89890943,
             "remaining_time": 22.12808884,
             "test": [
              0.2187523417
             ]
            },
            {
             "iteration": 33,
             "learn": [
              0.2138859089
             ],
             "passed_time": 11.24699018,
             "remaining_time": 21.83239271,
             "test": [
              0.2122563987
             ]
            },
            {
             "iteration": 34,
             "learn": [
              0.2074198382
             ],
             "passed_time": 11.58711431,
             "remaining_time": 21.51892658,
             "test": [
              0.2059423331
             ]
            },
            {
             "iteration": 35,
             "learn": [
              0.2017575836
             ],
             "passed_time": 11.89125957,
             "remaining_time": 21.14001702,
             "test": [
              0.1998385168
             ]
            },
            {
             "iteration": 36,
             "learn": [
              0.1957787891
             ],
             "passed_time": 12.25977993,
             "remaining_time": 20.87476042,
             "test": [
              0.194082282
             ]
            },
            {
             "iteration": 37,
             "learn": [
              0.1903180397
             ],
             "passed_time": 12.58672875,
             "remaining_time": 20.53624165,
             "test": [
              0.1886067159
             ]
            },
            {
             "iteration": 38,
             "learn": [
              0.1847714612
             ],
             "passed_time": 12.91016713,
             "remaining_time": 20.19282551,
             "test": [
              0.1831098146
             ]
            },
            {
             "iteration": 39,
             "learn": [
              0.1797146469
             ],
             "passed_time": 13.24447085,
             "remaining_time": 19.86670628,
             "test": [
              0.1778852025
             ]
            },
            {
             "iteration": 40,
             "learn": [
              0.1744953822
             ],
             "passed_time": 13.60680449,
             "remaining_time": 19.58052354,
             "test": [
              0.1728566756
             ]
            },
            {
             "iteration": 41,
             "learn": [
              0.1695987508
             ],
             "passed_time": 13.960157,
             "remaining_time": 19.27831205,
             "test": [
              0.168062652
             ]
            },
            {
             "iteration": 42,
             "learn": [
              0.1653027437
             ],
             "passed_time": 14.31212367,
             "remaining_time": 18.97188486,
             "test": [
              0.1634280108
             ]
            },
            {
             "iteration": 43,
             "learn": [
              0.1605524387
             ],
             "passed_time": 14.6112855,
             "remaining_time": 18.59618154,
             "test": [
              0.1587915071
             ]
            },
            {
             "iteration": 44,
             "learn": [
              0.1560175642
             ],
             "passed_time": 14.92927517,
             "remaining_time": 18.24689187,
             "test": [
              0.1543793897
             ]
            },
            {
             "iteration": 45,
             "learn": [
              0.1518141655
             ],
             "passed_time": 15.26186527,
             "remaining_time": 17.91610271,
             "test": [
              0.1501621313
             ]
            },
            {
             "iteration": 46,
             "learn": [
              0.1477336119
             ],
             "passed_time": 15.60053727,
             "remaining_time": 17.59209522,
             "test": [
              0.146122514
             ]
            },
            {
             "iteration": 47,
             "learn": [
              0.1436641714
             ],
             "passed_time": 15.96227821,
             "remaining_time": 17.29246806,
             "test": [
              0.1420982511
             ]
            },
            {
             "iteration": 48,
             "learn": [
              0.1397905538
             ],
             "passed_time": 16.26761645,
             "remaining_time": 16.93160079,
             "test": [
              0.1382011919
             ]
            },
            {
             "iteration": 49,
             "learn": [
              0.1359792741
             ],
             "passed_time": 16.59315944,
             "remaining_time": 16.59315944,
             "test": [
              0.1344805036
             ]
            },
            {
             "iteration": 50,
             "learn": [
              0.1324707507
             ],
             "passed_time": 16.92798463,
             "remaining_time": 16.2641421,
             "test": [
              0.1308714292
             ]
            },
            {
             "iteration": 51,
             "learn": [
              0.1290648738
             ],
             "passed_time": 17.26374353,
             "remaining_time": 15.93576326,
             "test": [
              0.1274601859
             ]
            },
            {
             "iteration": 52,
             "learn": [
              0.1256045097
             ],
             "passed_time": 17.59836619,
             "remaining_time": 15.60609832,
             "test": [
              0.1241456705
             ]
            },
            {
             "iteration": 53,
             "learn": [
              0.1223241262
             ],
             "passed_time": 17.96099695,
             "remaining_time": 15.30010852,
             "test": [
              0.1208220395
             ]
            },
            {
             "iteration": 54,
             "learn": [
              0.1194026812
             ],
             "passed_time": 18.32567989,
             "remaining_time": 14.99373809,
             "test": [
              0.1177241874
             ]
            },
            {
             "iteration": 55,
             "learn": [
              0.1161724405
             ],
             "passed_time": 18.68435751,
             "remaining_time": 14.68056662,
             "test": [
              0.1146602652
             ]
            },
            {
             "iteration": 56,
             "learn": [
              0.1132494674
             ],
             "passed_time": 19.01524313,
             "remaining_time": 14.34483253,
             "test": [
              0.1116151385
             ]
            },
            {
             "iteration": 57,
             "learn": [
              0.1102020631
             ],
             "passed_time": 19.33438533,
             "remaining_time": 14.00076179,
             "test": [
              0.108813939
             ]
            },
            {
             "iteration": 58,
             "learn": [
              0.1077291344
             ],
             "passed_time": 19.83056519,
             "remaining_time": 13.78056225,
             "test": [
              0.1060958655
             ]
            },
            {
             "iteration": 59,
             "learn": [
              0.1050034044
             ],
             "passed_time": 20.32762343,
             "remaining_time": 13.55174895,
             "test": [
              0.1034023404
             ]
            },
            {
             "iteration": 60,
             "learn": [
              0.1025566985
             ],
             "passed_time": 20.83117962,
             "remaining_time": 13.31829517,
             "test": [
              0.100794455
             ]
            },
            {
             "iteration": 61,
             "learn": [
              0.1001339809
             ],
             "passed_time": 21.1942503,
             "remaining_time": 12.99002437,
             "test": [
              0.09830415869
             ]
            },
            {
             "iteration": 62,
             "learn": [
              0.09774121508
             ],
             "passed_time": 21.55492745,
             "remaining_time": 12.6592431,
             "test": [
              0.0959358542
             ]
            },
            {
             "iteration": 63,
             "learn": [
              0.09522461036
             ],
             "passed_time": 21.87722882,
             "remaining_time": 12.30594121,
             "test": [
              0.09351196407
             ]
            },
            {
             "iteration": 64,
             "learn": [
              0.09308515788
             ],
             "passed_time": 22.23236547,
             "remaining_time": 11.97127372,
             "test": [
              0.09129204935
             ]
            },
            {
             "iteration": 65,
             "learn": [
              0.09075700427
             ],
             "passed_time": 22.55598121,
             "remaining_time": 11.61974789,
             "test": [
              0.08903645234
             ]
            },
            {
             "iteration": 66,
             "learn": [
              0.08852517767
             ],
             "passed_time": 22.901835,
             "remaining_time": 11.28000828,
             "test": [
              0.08679449944
             ]
            },
            {
             "iteration": 67,
             "learn": [
              0.08633599881
             ],
             "passed_time": 23.2476131,
             "remaining_time": 10.94005322,
             "test": [
              0.0846495736
             ]
            },
            {
             "iteration": 68,
             "learn": [
              0.08425791024
             ],
             "passed_time": 23.58442184,
             "remaining_time": 10.59589967,
             "test": [
              0.08256844057
             ]
            },
            {
             "iteration": 69,
             "learn": [
              0.08222131272
             ],
             "passed_time": 23.96046124,
             "remaining_time": 10.2687691,
             "test": [
              0.08045544071
             ]
            },
            {
             "iteration": 70,
             "learn": [
              0.08020765562
             ],
             "passed_time": 24.32577712,
             "remaining_time": 9.935880795,
             "test": [
              0.07855507145
             ]
            },
            {
             "iteration": 71,
             "learn": [
              0.07831715969
             ],
             "passed_time": 24.68033476,
             "remaining_time": 9.597907963,
             "test": [
              0.07662724311
             ]
            },
            {
             "iteration": 72,
             "learn": [
              0.07643186688
             ],
             "passed_time": 25.057801,
             "remaining_time": 9.267953793,
             "test": [
              0.07469320532
             ]
            },
            {
             "iteration": 73,
             "learn": [
              0.07442253511
             ],
             "passed_time": 25.42137378,
             "remaining_time": 8.931834031,
             "test": [
              0.07274161469
             ]
            },
            {
             "iteration": 74,
             "learn": [
              0.07274347993
             ],
             "passed_time": 25.75588585,
             "remaining_time": 8.585295283,
             "test": [
              0.07102426446
             ]
            },
            {
             "iteration": 75,
             "learn": [
              0.0709775537
             ],
             "passed_time": 26.1011298,
             "remaining_time": 8.242462041,
             "test": [
              0.06932870497
             ]
            },
            {
             "iteration": 76,
             "learn": [
              0.06911681145
             ],
             "passed_time": 26.51290618,
             "remaining_time": 7.919439509,
             "test": [
              0.06751091546
             ]
            },
            {
             "iteration": 77,
             "learn": [
              0.06760366506
             ],
             "passed_time": 26.86012891,
             "remaining_time": 7.575933795,
             "test": [
              0.06593024072
             ]
            },
            {
             "iteration": 78,
             "learn": [
              0.06600165462
             ],
             "passed_time": 27.15409619,
             "remaining_time": 7.218177467,
             "test": [
              0.06440479708
             ]
            },
            {
             "iteration": 79,
             "learn": [
              0.06435336669
             ],
             "passed_time": 27.5170535,
             "remaining_time": 6.879263376,
             "test": [
              0.06278570185
             ]
            },
            {
             "iteration": 80,
             "learn": [
              0.06278036722
             ],
             "passed_time": 27.87540808,
             "remaining_time": 6.53867597,
             "test": [
              0.06123246625
             ]
            },
            {
             "iteration": 81,
             "learn": [
              0.06139375624
             ],
             "passed_time": 28.24947165,
             "remaining_time": 6.201103533,
             "test": [
              0.0598428863
             ]
            },
            {
             "iteration": 82,
             "learn": [
              0.0598946557
             ],
             "passed_time": 28.65766913,
             "remaining_time": 5.869643075,
             "test": [
              0.05830797644
             ]
            },
            {
             "iteration": 83,
             "learn": [
              0.05842428211
             ],
             "passed_time": 29.01506488,
             "remaining_time": 5.526679025,
             "test": [
              0.05690066817
             ]
            },
            {
             "iteration": 84,
             "learn": [
              0.05716678555
             ],
             "passed_time": 29.34562828,
             "remaining_time": 5.178640285,
             "test": [
              0.05562908326
             ]
            },
            {
             "iteration": 85,
             "learn": [
              0.05597710705
             ],
             "passed_time": 29.68194796,
             "remaining_time": 4.831945017,
             "test": [
              0.0543839211
             ]
            },
            {
             "iteration": 86,
             "learn": [
              0.05479435769
             ],
             "passed_time": 30.06196315,
             "remaining_time": 4.492017482,
             "test": [
              0.05320396719
             ]
            },
            {
             "iteration": 87,
             "learn": [
              0.05359746586
             ],
             "passed_time": 30.35978367,
             "remaining_time": 4.139970501,
             "test": [
              0.05203509735
             ]
            },
            {
             "iteration": 88,
             "learn": [
              0.05226448002
             ],
             "passed_time": 30.72559159,
             "remaining_time": 3.797545029,
             "test": [
              0.05082152741
             ]
            },
            {
             "iteration": 89,
             "learn": [
              0.05114424804
             ],
             "passed_time": 31.05734478,
             "remaining_time": 3.450816087,
             "test": [
              0.0497503386
             ]
            },
            {
             "iteration": 90,
             "learn": [
              0.05004726609
             ],
             "passed_time": 31.37495265,
             "remaining_time": 3.103017295,
             "test": [
              0.04869555295
             ]
            },
            {
             "iteration": 91,
             "learn": [
              0.04889643834
             ],
             "passed_time": 31.73271669,
             "remaining_time": 2.759366669,
             "test": [
              0.04757265919
             ]
            },
            {
             "iteration": 92,
             "learn": [
              0.04781449623
             ],
             "passed_time": 32.06037858,
             "remaining_time": 2.413146775,
             "test": [
              0.04648203091
             ]
            },
            {
             "iteration": 93,
             "learn": [
              0.04672439526
             ],
             "passed_time": 32.4153812,
             "remaining_time": 2.069066885,
             "test": [
              0.04543675926
             ]
            },
            {
             "iteration": 94,
             "learn": [
              0.04574996079
             ],
             "passed_time": 32.72240658,
             "remaining_time": 1.722231925,
             "test": [
              0.04445686222
             ]
            },
            {
             "iteration": 95,
             "learn": [
              0.04490688355
             ],
             "passed_time": 33.02259829,
             "remaining_time": 1.375941595,
             "test": [
              0.04364583949
             ]
            },
            {
             "iteration": 96,
             "learn": [
              0.04385401431
             ],
             "passed_time": 33.3823713,
             "remaining_time": 1.032444473,
             "test": [
              0.0426632959
             ]
            },
            {
             "iteration": 97,
             "learn": [
              0.04300249902
             ],
             "passed_time": 33.71827985,
             "remaining_time": 0.6881281601,
             "test": [
              0.04179627097
             ]
            },
            {
             "iteration": 98,
             "learn": [
              0.04212517883
             ],
             "passed_time": 34.01969006,
             "remaining_time": 0.3436332329,
             "test": [
              0.04098212387
             ]
            },
            {
             "iteration": 99,
             "learn": [
              0.04131848144
             ],
             "passed_time": 34.37920747,
             "remaining_time": 0,
             "test": [
              0.0401387879
             ]
            }
           ],
           "meta": {
            "iteration_count": 100,
            "launch_mode": "Train",
            "learn_metrics": [
             {
              "best_value": "Min",
              "name": "CrossEntropy"
             }
            ],
            "learn_sets": [
             "learn"
            ],
            "name": "experiment",
            "parameters": "",
            "test_metrics": [
             {
              "best_value": "Min",
              "name": "CrossEntropy"
             }
            ],
            "test_sets": [
             "test"
            ]
           }
          },
          "passed_iterations": 99,
          "total_iterations": 100
         },
         "name": "catboost_info",
         "path": "catboost_info"
        }
       },
       "layout": "IPY_MODEL_1ea2a58e70ec4613bac324ab3c78e26c"
      }
     },
     "f7fbac0ef6ff4f64bf32e44f4b4bd101": {
      "model_module": "catboost-widget",
      "model_module_version": "^1.0.0",
      "model_name": "CatboostWidgetModel",
      "state": {
       "_dom_classes": [],
       "_model_module": "catboost-widget",
       "_model_module_version": "^1.0.0",
       "_model_name": "CatboostWidgetModel",
       "_view_count": null,
       "_view_module": "catboost-widget",
       "_view_module_version": "^1.0.0",
       "_view_name": "CatboostWidgetView",
       "data": {
        "catboost_info": {
         "content": {
          "data": {
           "iterations": [
            {
             "iteration": 0,
             "learn": [
              0.6745237572
             ],
             "passed_time": 0.3745272537,
             "remaining_time": 37.07819811,
             "test": [
              0.6735770904
             ]
            },
            {
             "iteration": 1,
             "learn": [
              0.6552420797
             ],
             "passed_time": 0.8037499198,
             "remaining_time": 39.38374607,
             "test": [
              0.6542428014
             ]
            },
            {
             "iteration": 2,
             "learn": [
              0.6381986488
             ],
             "passed_time": 1.165565621,
             "remaining_time": 37.68662176,
             "test": [
              0.6370484339
             ]
            },
            {
             "iteration": 3,
             "learn": [
              0.6210803365
             ],
             "passed_time": 1.609093156,
             "remaining_time": 38.61823575,
             "test": [
              0.6193301639
             ]
            },
            {
             "iteration": 4,
             "learn": [
              0.6051262994
             ],
             "passed_time": 2.016700575,
             "remaining_time": 38.31731092,
             "test": [
              0.6026761037
             ]
            },
            {
             "iteration": 5,
             "learn": [
              0.5903844642
             ],
             "passed_time": 2.379012925,
             "remaining_time": 37.27120249,
             "test": [
              0.5874466807
             ]
            },
            {
             "iteration": 6,
             "learn": [
              0.5761796581
             ],
             "passed_time": 2.748181458,
             "remaining_time": 36.51155365,
             "test": [
              0.5728584952
             ]
            },
            {
             "iteration": 7,
             "learn": [
              0.5625790486
             ],
             "passed_time": 3.10283469,
             "remaining_time": 35.68259894,
             "test": [
              0.5589783825
             ]
            },
            {
             "iteration": 8,
             "learn": [
              0.5500468633
             ],
             "passed_time": 3.469647668,
             "remaining_time": 35.08199309,
             "test": [
              0.5460567981
             ]
            },
            {
             "iteration": 9,
             "learn": [
              0.5364814598
             ],
             "passed_time": 3.924513067,
             "remaining_time": 35.3206176,
             "test": [
              0.5327507257
             ]
            },
            {
             "iteration": 10,
             "learn": [
              0.525006389
             ],
             "passed_time": 4.290580432,
             "remaining_time": 34.71469623,
             "test": [
              0.5207771794
             ]
            },
            {
             "iteration": 11,
             "learn": [
              0.5134176894
             ],
             "passed_time": 4.742327543,
             "remaining_time": 34.77706865,
             "test": [
              0.508400158
             ]
            },
            {
             "iteration": 12,
             "learn": [
              0.5027677883
             ],
             "passed_time": 5.107229448,
             "remaining_time": 34.17915092,
             "test": [
              0.4975261407
             ]
            },
            {
             "iteration": 13,
             "learn": [
              0.4921742029
             ],
             "passed_time": 5.509694528,
             "remaining_time": 33.84526639,
             "test": [
              0.4863427078
             ]
            },
            {
             "iteration": 14,
             "learn": [
              0.4822634037
             ],
             "passed_time": 5.873241016,
             "remaining_time": 33.28169909,
             "test": [
              0.4762475454
             ]
            },
            {
             "iteration": 15,
             "learn": [
              0.4727551544
             ],
             "passed_time": 6.320172387,
             "remaining_time": 33.18090503,
             "test": [
              0.4663848764
             ]
            },
            {
             "iteration": 16,
             "learn": [
              0.4637141055
             ],
             "passed_time": 6.699486121,
             "remaining_time": 32.70925577,
             "test": [
              0.4572286157
             ]
            },
            {
             "iteration": 17,
             "learn": [
              0.4545015908
             ],
             "passed_time": 7.115759508,
             "remaining_time": 32.41623776,
             "test": [
              0.4481976557
             ]
            },
            {
             "iteration": 18,
             "learn": [
              0.4462338296
             ],
             "passed_time": 7.479351205,
             "remaining_time": 31.88565514,
             "test": [
              0.4396022236
             ]
            },
            {
             "iteration": 19,
             "learn": [
              0.43822662
             ],
             "passed_time": 7.929412713,
             "remaining_time": 31.71765085,
             "test": [
              0.4316116915
             ]
            },
            {
             "iteration": 20,
             "learn": [
              0.4301473148
             ],
             "passed_time": 8.296974465,
             "remaining_time": 31.21242775,
             "test": [
              0.4233638789
             ]
            },
            {
             "iteration": 21,
             "learn": [
              0.4221134018
             ],
             "passed_time": 8.716746297,
             "remaining_time": 30.90482778,
             "test": [
              0.4156244689
             ]
            },
            {
             "iteration": 22,
             "learn": [
              0.4146908272
             ],
             "passed_time": 9.172989232,
             "remaining_time": 30.70957265,
             "test": [
              0.407878107
             ]
            },
            {
             "iteration": 23,
             "learn": [
              0.4064420218
             ],
             "passed_time": 9.614420698,
             "remaining_time": 30.44566554,
             "test": [
              0.3994641519
             ]
            },
            {
             "iteration": 24,
             "learn": [
              0.3991812721
             ],
             "passed_time": 10.03793129,
             "remaining_time": 30.11379388,
             "test": [
              0.3924218608
             ]
            },
            {
             "iteration": 25,
             "learn": [
              0.3922715601
             ],
             "passed_time": 10.44641283,
             "remaining_time": 29.73209806,
             "test": [
              0.3854147559
             ]
            },
            {
             "iteration": 26,
             "learn": [
              0.3847361433
             ],
             "passed_time": 11.08033648,
             "remaining_time": 29.95794677,
             "test": [
              0.3779526568
             ]
            },
            {
             "iteration": 27,
             "learn": [
              0.3770750213
             ],
             "passed_time": 11.65732414,
             "remaining_time": 29.97597636,
             "test": [
              0.3700647747
             ]
            },
            {
             "iteration": 28,
             "learn": [
              0.3706051665
             ],
             "passed_time": 12.04356068,
             "remaining_time": 29.4859589,
             "test": [
              0.3634307447
             ]
            },
            {
             "iteration": 29,
             "learn": [
              0.3636284861
             ],
             "passed_time": 12.48842288,
             "remaining_time": 29.13965339,
             "test": [
              0.3566235194
             ]
            },
            {
             "iteration": 30,
             "learn": [
              0.3577814088
             ],
             "passed_time": 12.9197455,
             "remaining_time": 28.75685288,
             "test": [
              0.3510432465
             ]
            },
            {
             "iteration": 31,
             "learn": [
              0.3517289735
             ],
             "passed_time": 13.28560759,
             "remaining_time": 28.23191612,
             "test": [
              0.345047535
             ]
            },
            {
             "iteration": 32,
             "learn": [
              0.3451593566
             ],
             "passed_time": 13.68791337,
             "remaining_time": 27.790612,
             "test": [
              0.3386508279
             ]
            },
            {
             "iteration": 33,
             "learn": [
              0.3383327452
             ],
             "passed_time": 14.13099179,
             "remaining_time": 27.43074876,
             "test": [
              0.3319843015
             ]
            },
            {
             "iteration": 34,
             "learn": [
              0.3318664316
             ],
             "passed_time": 14.52999402,
             "remaining_time": 26.98427462,
             "test": [
              0.3252290145
             ]
            },
            {
             "iteration": 35,
             "learn": [
              0.3264787332
             ],
             "passed_time": 14.91552279,
             "remaining_time": 26.51648495,
             "test": [
              0.319712845
             ]
            },
            {
             "iteration": 36,
             "learn": [
              0.3207977756
             ],
             "passed_time": 15.35661377,
             "remaining_time": 26.14774777,
             "test": [
              0.313979688
             ]
            },
            {
             "iteration": 37,
             "learn": [
              0.3148762039
             ],
             "passed_time": 15.84217212,
             "remaining_time": 25.84775452,
             "test": [
              0.3084716069
             ]
            },
            {
             "iteration": 38,
             "learn": [
              0.3098700119
             ],
             "passed_time": 16.26626799,
             "remaining_time": 25.44211148,
             "test": [
              0.3038624253
             ]
            },
            {
             "iteration": 39,
             "learn": [
              0.3048773679
             ],
             "passed_time": 16.68356356,
             "remaining_time": 25.02534533,
             "test": [
              0.2991905608
             ]
            },
            {
             "iteration": 40,
             "learn": [
              0.2993740583
             ],
             "passed_time": 17.12664479,
             "remaining_time": 24.64565958,
             "test": [
              0.2937510476
             ]
            },
            {
             "iteration": 41,
             "learn": [
              0.2947579262
             ],
             "passed_time": 17.51437124,
             "remaining_time": 24.18651266,
             "test": [
              0.2889162459
             ]
            },
            {
             "iteration": 42,
             "learn": [
              0.29039906
             ],
             "passed_time": 17.9548442,
             "remaining_time": 23.80060742,
             "test": [
              0.2844188294
             ]
            },
            {
             "iteration": 43,
             "learn": [
              0.28610453
             ],
             "passed_time": 18.33849835,
             "remaining_time": 23.339907,
             "test": [
              0.2799104079
             ]
            },
            {
             "iteration": 44,
             "learn": [
              0.2819886534
             ],
             "passed_time": 18.78074791,
             "remaining_time": 22.95424745,
             "test": [
              0.2756915044
             ]
            },
            {
             "iteration": 45,
             "learn": [
              0.2780289324
             ],
             "passed_time": 19.16561988,
             "remaining_time": 22.49877116,
             "test": [
              0.2714811303
             ]
            },
            {
             "iteration": 46,
             "learn": [
              0.274069369
             ],
             "passed_time": 19.57691867,
             "remaining_time": 22.07609977,
             "test": [
              0.2675356602
             ]
            },
            {
             "iteration": 47,
             "learn": [
              0.269848812
             ],
             "passed_time": 20.02843849,
             "remaining_time": 21.69747503,
             "test": [
              0.2632713355
             ]
            },
            {
             "iteration": 48,
             "learn": [
              0.2661400315
             ],
             "passed_time": 20.38643119,
             "remaining_time": 21.21853042,
             "test": [
              0.2593980805
             ]
            },
            {
             "iteration": 49,
             "learn": [
              0.2625183608
             ],
             "passed_time": 20.82289558,
             "remaining_time": 20.82289558,
             "test": [
              0.2557339385
             ]
            },
            {
             "iteration": 50,
             "learn": [
              0.2587305223
             ],
             "passed_time": 21.26034503,
             "remaining_time": 20.42660601,
             "test": [
              0.251869398
             ]
            },
            {
             "iteration": 51,
             "learn": [
              0.2546982865
             ],
             "passed_time": 21.69480838,
             "remaining_time": 20.02597696,
             "test": [
              0.2480374699
             ]
            },
            {
             "iteration": 52,
             "learn": [
              0.2507777076
             ],
             "passed_time": 22.15942343,
             "remaining_time": 19.65080945,
             "test": [
              0.244265446
             ]
            },
            {
             "iteration": 53,
             "learn": [
              0.2467373851
             ],
             "passed_time": 22.59306185,
             "remaining_time": 19.24594157,
             "test": [
              0.2402673674
             ]
            },
            {
             "iteration": 54,
             "learn": [
              0.2430959645
             ],
             "passed_time": 23.02006732,
             "remaining_time": 18.83460054,
             "test": [
              0.2366651692
             ]
            },
            {
             "iteration": 55,
             "learn": [
              0.2396360357
             ],
             "passed_time": 23.45104088,
             "remaining_time": 18.42581784,
             "test": [
              0.2330858166
             ]
            },
            {
             "iteration": 56,
             "learn": [
              0.2364925289
             ],
             "passed_time": 23.79595698,
             "remaining_time": 17.95133596,
             "test": [
              0.2299489518
             ]
            },
            {
             "iteration": 57,
             "learn": [
              0.23308123
             ],
             "passed_time": 24.25791706,
             "remaining_time": 17.56607787,
             "test": [
              0.2266195735
             ]
            },
            {
             "iteration": 58,
             "learn": [
              0.2296666047
             ],
             "passed_time": 24.63227697,
             "remaining_time": 17.11734501,
             "test": [
              0.2230065727
             ]
            },
            {
             "iteration": 59,
             "learn": [
              0.2264897512
             ],
             "passed_time": 25.09250566,
             "remaining_time": 16.72833711,
             "test": [
              0.2199211287
             ]
            },
            {
             "iteration": 60,
             "learn": [
              0.2232038822
             ],
             "passed_time": 25.47048449,
             "remaining_time": 16.28440812,
             "test": [
              0.2165025426
             ]
            },
            {
             "iteration": 61,
             "learn": [
              0.2204169766
             ],
             "passed_time": 25.87778584,
             "remaining_time": 15.86057842,
             "test": [
              0.2136009758
             ]
            },
            {
             "iteration": 62,
             "learn": [
              0.2174309802
             ],
             "passed_time": 26.33510083,
             "remaining_time": 15.46664652,
             "test": [
              0.2107243642
             ]
            },
            {
             "iteration": 63,
             "learn": [
              0.2143759921
             ],
             "passed_time": 26.75981038,
             "remaining_time": 15.05239334,
             "test": [
              0.2074807366
             ]
            },
            {
             "iteration": 64,
             "learn": [
              0.2118451362
             ],
             "passed_time": 27.17366586,
             "remaining_time": 14.63197393,
             "test": [
              0.2050432022
             ]
            },
            {
             "iteration": 65,
             "learn": [
              0.209243109
             ],
             "passed_time": 27.5212644,
             "remaining_time": 14.17762105,
             "test": [
              0.2024870958
             ]
            },
            {
             "iteration": 66,
             "learn": [
              0.2068576522
             ],
             "passed_time": 27.91600103,
             "remaining_time": 13.74967215,
             "test": [
              0.2000317608
             ]
            },
            {
             "iteration": 67,
             "learn": [
              0.2043818424
             ],
             "passed_time": 28.28612663,
             "remaining_time": 13.31111842,
             "test": [
              0.1976084558
             ]
            },
            {
             "iteration": 68,
             "learn": [
              0.2017197968
             ],
             "passed_time": 28.75099331,
             "remaining_time": 12.91711294,
             "test": [
              0.1950368707
             ]
            },
            {
             "iteration": 69,
             "learn": [
              0.1990094762
             ],
             "passed_time": 29.15581813,
             "remaining_time": 12.49535063,
             "test": [
              0.1924126911
             ]
            },
            {
             "iteration": 70,
             "learn": [
              0.1965306154
             ],
             "passed_time": 29.59478345,
             "remaining_time": 12.08801014,
             "test": [
              0.1900998269
             ]
            },
            {
             "iteration": 71,
             "learn": [
              0.19437827
             ],
             "passed_time": 29.99007371,
             "remaining_time": 11.66280644,
             "test": [
              0.1878081118
             ]
            },
            {
             "iteration": 72,
             "learn": [
              0.1920771926
             ],
             "passed_time": 30.35941303,
             "remaining_time": 11.228824,
             "test": [
              0.1854569929
             ]
            },
            {
             "iteration": 73,
             "learn": [
              0.1899783176
             ],
             "passed_time": 30.70628142,
             "remaining_time": 10.78869347,
             "test": [
              0.1833784732
             ]
            },
            {
             "iteration": 74,
             "learn": [
              0.1877669566
             ],
             "passed_time": 31.09237005,
             "remaining_time": 10.36412335,
             "test": [
              0.1814640562
             ]
            },
            {
             "iteration": 75,
             "learn": [
              0.1857717992
             ],
             "passed_time": 31.50890259,
             "remaining_time": 9.950179764,
             "test": [
              0.1793943877
             ]
            },
            {
             "iteration": 76,
             "learn": [
              0.1839435683
             ],
             "passed_time": 31.8947746,
             "remaining_time": 9.527010595,
             "test": [
              0.1775631363
             ]
            },
            {
             "iteration": 77,
             "learn": [
              0.1816958943
             ],
             "passed_time": 32.28481039,
             "remaining_time": 9.105972162,
             "test": [
              0.1754580542
             ]
            },
            {
             "iteration": 78,
             "learn": [
              0.1795245002
             ],
             "passed_time": 32.6771972,
             "remaining_time": 8.68634356,
             "test": [
              0.1733508955
             ]
            },
            {
             "iteration": 79,
             "learn": [
              0.1778595396
             ],
             "passed_time": 33.0082254,
             "remaining_time": 8.25205635,
             "test": [
              0.1715041307
             ]
            },
            {
             "iteration": 80,
             "learn": [
              0.1754885044
             ],
             "passed_time": 33.50257588,
             "remaining_time": 7.858628911,
             "test": [
              0.16899627
             ]
            },
            {
             "iteration": 81,
             "learn": [
              0.1735624758
             ],
             "passed_time": 33.91541045,
             "remaining_time": 7.444846195,
             "test": [
              0.1670565348
             ]
            },
            {
             "iteration": 82,
             "learn": [
              0.1714582755
             ],
             "passed_time": 34.36629024,
             "remaining_time": 7.038878723,
             "test": [
              0.1650856019
             ]
            },
            {
             "iteration": 83,
             "learn": [
              0.1695453753
             ],
             "passed_time": 34.73445982,
             "remaining_time": 6.616087585,
             "test": [
              0.1631417938
             ]
            },
            {
             "iteration": 84,
             "learn": [
              0.1673937002
             ],
             "passed_time": 35.22994386,
             "remaining_time": 6.217048916,
             "test": [
              0.1608949988
             ]
            },
            {
             "iteration": 85,
             "learn": [
              0.1654830899
             ],
             "passed_time": 35.63743677,
             "remaining_time": 5.801443195,
             "test": [
              0.1589874884
             ]
            },
            {
             "iteration": 86,
             "learn": [
              0.1635798763
             ],
             "passed_time": 36.03058505,
             "remaining_time": 5.383880525,
             "test": [
              0.1571662996
             ]
            },
            {
             "iteration": 87,
             "learn": [
              0.1620878584
             ],
             "passed_time": 36.38881469,
             "remaining_time": 4.962111094,
             "test": [
              0.1556617059
             ]
            },
            {
             "iteration": 88,
             "learn": [
              0.1602470854
             ],
             "passed_time": 36.84182798,
             "remaining_time": 4.553484357,
             "test": [
              0.1539456521
             ]
            },
            {
             "iteration": 89,
             "learn": [
              0.1585219805
             ],
             "passed_time": 37.21113741,
             "remaining_time": 4.134570824,
             "test": [
              0.1521593868
             ]
            },
            {
             "iteration": 90,
             "learn": [
              0.1572244136
             ],
             "passed_time": 37.6093703,
             "remaining_time": 3.719608052,
             "test": [
              0.1507975566
             ]
            },
            {
             "iteration": 91,
             "learn": [
              0.155273702
             ],
             "passed_time": 38.05425846,
             "remaining_time": 3.309065953,
             "test": [
              0.1487429001
             ]
            },
            {
             "iteration": 92,
             "learn": [
              0.153702598
             ],
             "passed_time": 38.42527311,
             "remaining_time": 2.892224858,
             "test": [
              0.1472084466
             ]
            },
            {
             "iteration": 93,
             "learn": [
              0.1517942637
             ],
             "passed_time": 38.84911228,
             "remaining_time": 2.479730571,
             "test": [
              0.1454491128
             ]
            },
            {
             "iteration": 94,
             "learn": [
              0.1499761606
             ],
             "passed_time": 39.22552947,
             "remaining_time": 2.064501551,
             "test": [
              0.1438121866
             ]
            },
            {
             "iteration": 95,
             "learn": [
              0.1482418866
             ],
             "passed_time": 39.62617184,
             "remaining_time": 1.651090493,
             "test": [
              0.1421108395
             ]
            },
            {
             "iteration": 96,
             "learn": [
              0.1466547739
             ],
             "passed_time": 40.07213068,
             "remaining_time": 1.239344248,
             "test": [
              0.1406515034
             ]
            },
            {
             "iteration": 97,
             "learn": [
              0.1450275344
             ],
             "passed_time": 40.46381774,
             "remaining_time": 0.8257921989,
             "test": [
              0.1390635806
             ]
            },
            {
             "iteration": 98,
             "learn": [
              0.1432611027
             ],
             "passed_time": 40.84428145,
             "remaining_time": 0.4125684995,
             "test": [
              0.1374751453
             ]
            },
            {
             "iteration": 99,
             "learn": [
              0.1419504599
             ],
             "passed_time": 41.21120051,
             "remaining_time": 0,
             "test": [
              0.1362750128
             ]
            }
           ],
           "meta": {
            "iteration_count": 100,
            "launch_mode": "Train",
            "learn_metrics": [
             {
              "best_value": "Min",
              "name": "CrossEntropy"
             }
            ],
            "learn_sets": [
             "learn"
            ],
            "name": "experiment",
            "parameters": "",
            "test_metrics": [
             {
              "best_value": "Min",
              "name": "CrossEntropy"
             }
            ],
            "test_sets": [
             "test"
            ]
           }
          },
          "passed_iterations": 99,
          "total_iterations": 100
         },
         "name": "catboost_info",
         "path": "catboost_info"
        }
       },
       "layout": "IPY_MODEL_2e4de5d0d38245b6acb7ca5d6b8907cf"
      }
     },
     "f898dfc7e09a4fbea8e9c42e2dc2c7d7": {
      "model_module": "@jupyter-widgets/base",
      "model_module_version": "1.2.0",
      "model_name": "LayoutModel",
      "state": {
       "_model_module": "@jupyter-widgets/base",
       "_model_module_version": "1.2.0",
       "_model_name": "LayoutModel",
       "_view_count": null,
       "_view_module": "@jupyter-widgets/base",
       "_view_module_version": "1.2.0",
       "_view_name": "LayoutView",
       "align_content": null,
       "align_items": null,
       "align_self": "stretch",
       "border": null,
       "bottom": null,
       "display": null,
       "flex": null,
       "flex_flow": null,
       "grid_area": null,
       "grid_auto_columns": null,
       "grid_auto_flow": null,
       "grid_auto_rows": null,
       "grid_column": null,
       "grid_gap": null,
       "grid_row": null,
       "grid_template_areas": null,
       "grid_template_columns": null,
       "grid_template_rows": null,
       "height": "500px",
       "justify_content": null,
       "justify_items": null,
       "left": null,
       "margin": null,
       "max_height": null,
       "max_width": null,
       "min_height": null,
       "min_width": null,
       "object_fit": null,
       "object_position": null,
       "order": null,
       "overflow": null,
       "overflow_x": null,
       "overflow_y": null,
       "padding": null,
       "right": null,
       "top": null,
       "visibility": null,
       "width": null
      }
     }
    },
    "version_major": 2,
    "version_minor": 0
   }
  }
 },
 "nbformat": 4,
 "nbformat_minor": 5
}
