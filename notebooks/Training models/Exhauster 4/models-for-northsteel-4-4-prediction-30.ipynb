{
 "cells": [
  {
   "cell_type": "code",
   "execution_count": 1,
   "id": "fd120fda",
   "metadata": {
    "execution": {
     "iopub.execute_input": "2023-05-28T20:20:31.343210Z",
     "iopub.status.busy": "2023-05-28T20:20:31.342770Z",
     "iopub.status.idle": "2023-05-28T20:20:31.398110Z",
     "shell.execute_reply": "2023-05-28T20:20:31.396490Z"
    },
    "papermill": {
     "duration": 0.064887,
     "end_time": "2023-05-28T20:20:31.400552",
     "exception": false,
     "start_time": "2023-05-28T20:20:31.335665",
     "status": "completed"
    },
    "tags": []
   },
   "outputs": [
    {
     "name": "stdout",
     "output_type": "stream",
     "text": [
      "/kaggle/input/x-train-northsteel/ВИБРАЦИЯ НА ОПОРЕ 4. ПРОДОЛЬНАЯ.csv\n",
      "/kaggle/input/x-train-northsteel/ВИБРАЦИЯ НА ОПОРЕ 4.csv\n",
      "/kaggle/input/x-train-northsteel/ЭКСГАУСТЕР 9.csv\n",
      "/kaggle/input/x-train-northsteel/ЭКСГАУСТЕР 4.csv\n",
      "/kaggle/input/x-train-northsteel/ЭКСГАУСТЕР 7.csv\n",
      "/kaggle/input/x-train-northsteel/ВИБРАЦИЯ НА ОПОРЕ 3.csv\n",
      "/kaggle/input/x-train-northsteel/ВИБРАЦИЯ НА ОПОРЕ 2.csv\n",
      "/kaggle/input/x-train-northsteel/ТОК СТАТОРА.csv\n",
      "/kaggle/input/x-train-northsteel/ДАВЛЕНИЕ МАСЛА В СИСТЕМЕ.csv\n",
      "/kaggle/input/x-train-northsteel/ВИБРАЦИЯ НА ОПОРЕ 1.csv\n",
      "/kaggle/input/x-train-northsteel/ТЕМПЕРАТУРА ПОДШИПНИКА НА ОПОРЕ 3.csv\n",
      "/kaggle/input/x-train-northsteel/ТЕМПЕРАТУРА ПОДШИПНИКА НА ОПОРЕ 1.csv\n",
      "/kaggle/input/x-train-northsteel/ЭКСГАУСТЕР 6.csv\n",
      "/kaggle/input/x-train-northsteel/ТОК РОТОРА 2.csv\n",
      "/kaggle/input/x-train-northsteel/ТЕМПЕРАТУРА ПОДШИПНИКА НА ОПОРЕ 2.csv\n",
      "/kaggle/input/x-train-northsteel/ТЕМПЕРАТУРА ПОДШИПНИКА НА ОПОРЕ 4.csv\n",
      "/kaggle/input/x-train-northsteel/ЭКСГАУСТЕР 5.csv\n",
      "/kaggle/input/x-train-northsteel/ТОК РОТОРА 1.csv\n",
      "/kaggle/input/x-train-northsteel/ЭКСГАУСТЕР 8.csv\n",
      "/kaggle/input/x-train-northsteel/ВИБРАЦИЯ НА ОПОРЕ 3. ПРОДОЛЬНАЯ.csv\n",
      "/kaggle/input/x-train-northsteel/ТЕМПЕРАТУРА МАСЛА В МАСЛОБЛОКЕ.csv\n",
      "/kaggle/input/x-train-northsteel/ТЕМПЕРАТУРА МАСЛА В СИСТЕМЕ.csv\n",
      "/kaggle/input/x-test-northsteel/ВИБРАЦИЯ НА ОПОРЕ 4. ПРОДОЛЬНАЯ.csv\n",
      "/kaggle/input/x-test-northsteel/ВИБРАЦИЯ НА ОПОРЕ 4.csv\n",
      "/kaggle/input/x-test-northsteel/ЭКСГАУСТЕР 9.csv\n",
      "/kaggle/input/x-test-northsteel/ЭКСГАУСТЕР 4.csv\n",
      "/kaggle/input/x-test-northsteel/ЭКСГАУСТЕР 7.csv\n",
      "/kaggle/input/x-test-northsteel/ВИБРАЦИЯ НА ОПОРЕ 3.csv\n",
      "/kaggle/input/x-test-northsteel/ВИБРАЦИЯ НА ОПОРЕ 2.csv\n",
      "/kaggle/input/x-test-northsteel/ТОК СТАТОРА.csv\n",
      "/kaggle/input/x-test-northsteel/ДАВЛЕНИЕ МАСЛА В СИСТЕМЕ.csv\n",
      "/kaggle/input/x-test-northsteel/ВИБРАЦИЯ НА ОПОРЕ 1.csv\n",
      "/kaggle/input/x-test-northsteel/ТЕМПЕРАТУРА ПОДШИПНИКА НА ОПОРЕ 3.csv\n",
      "/kaggle/input/x-test-northsteel/ТЕМПЕРАТУРА ПОДШИПНИКА НА ОПОРЕ 1.csv\n",
      "/kaggle/input/x-test-northsteel/ЭКСГАУСТЕР 6.csv\n",
      "/kaggle/input/x-test-northsteel/ТОК РОТОРА 2.csv\n",
      "/kaggle/input/x-test-northsteel/ТЕМПЕРАТУРА ПОДШИПНИКА НА ОПОРЕ 2.csv\n",
      "/kaggle/input/x-test-northsteel/ТЕМПЕРАТУРА ПОДШИПНИКА НА ОПОРЕ 4.csv\n",
      "/kaggle/input/x-test-northsteel/ЭКСГАУСТЕР 5.csv\n",
      "/kaggle/input/x-test-northsteel/ТОК РОТОРА 1.csv\n",
      "/kaggle/input/x-test-northsteel/ЭКСГАУСТЕР 8.csv\n",
      "/kaggle/input/x-test-northsteel/ВИБРАЦИЯ НА ОПОРЕ 3. ПРОДОЛЬНАЯ.csv\n",
      "/kaggle/input/x-test-northsteel/ТЕМПЕРАТУРА МАСЛА В МАСЛОБЛОКЕ.csv\n",
      "/kaggle/input/x-test-northsteel/ТЕМПЕРАТУРА МАСЛА В СИСТЕМЕ.csv\n",
      "/kaggle/input/y-train-northsteel-instances/y_ЭКСГАУСТЕР АМ 6.csv\n",
      "/kaggle/input/y-train-northsteel-instances/y_ЭКСГАУСТЕР АМ 7.csv\n",
      "/kaggle/input/y-train-northsteel-instances/y_ЭКСГАУСТЕР АМ 5.csv\n",
      "/kaggle/input/y-train-northsteel-instances/y_ЭКСГАУСТЕР АМ 8.csv\n",
      "/kaggle/input/y-train-northsteel-instances/y_ЭКСГАУСТЕР АМ 4.csv\n",
      "/kaggle/input/y-train-northsteel-instances/dict_short.csv\n",
      "/kaggle/input/y-train-northsteel-instances/y_ЭКСГАУСТЕР АМ 9.csv\n",
      "/kaggle/input/y-train-northsteel-short/y_short_ТСМТ-101-010-50М-80 ТЕРМОПРЕОБР.МАСЛО.csv\n",
      "/kaggle/input/y-train-northsteel-short/y_short_ЗАДВИЖКА ЭКСГ.d.csv\n",
      "/kaggle/input/y-train-northsteel-short/y_short_КОРПУС ЭКСГ.d.csv\n",
      "/kaggle/input/y-train-northsteel-short/y_short_ГАЗОВАЯ ЗАДВИЖКА ЭКСГ.d.csv\n",
      "/kaggle/input/y-train-northsteel-short/y_short_ТИРИСТ. ВОЗБУДИТЕЛЬ ВТ-РЭМ-400 ЭКСГ.d.csv\n",
      "/kaggle/input/y-train-northsteel-short/y_short_КЛ2 ТР№n ДО ЭД ЭКСГАУСТЕРА №d.csv\n",
      "/kaggle/input/y-train-northsteel-short/y_short_РЕДУКТОР ГАЗ. ЗАДВИЖКИ ЭКСГ.d.csv\n",
      "/kaggle/input/y-train-northsteel-short/y_short_МАСЛОНАСОС ШЕСТЕРЕНЧАТЫЙ (РЕЗ.) ЭКСГ.d.csv\n",
      "/kaggle/input/y-train-northsteel-short/y_short_УЛИТА ЭКСГ.d.csv\n",
      "/kaggle/input/y-train-northsteel-short/y_short_ВК 310С ВИБРОПРЕОБРАЗОВАТЕЛЬ ЭКСГ.d.csv\n",
      "/kaggle/input/y-train-northsteel-short/y_short_ДВИГАТЕЛЬ РЕЗЕРВНОГО МАСЛОНАСОСА ЭКСГ.d.csv\n",
      "/kaggle/input/y-train-northsteel-short/y_short_ЗАПОРНАЯ АРМАТУРА ЭКСГАУСТЕРА №d.csv\n",
      "/kaggle/input/y-train-northsteel-short/y_short_МАСЛОНАСОС РАБОЧИЙ ЭКСГ.d.csv\n",
      "/kaggle/input/y-train-northsteel-short/y_short_МЕТРАН-100 ДАТЧИКИ ДАВЛЕНИЯ ЭКСГ.d.csv\n",
      "/kaggle/input/y-train-northsteel-short/y_short_ЭКСГАУСТЕР Н-8000 АМ №5.csv\n",
      "/kaggle/input/y-train-northsteel-short/y_short_ПОДШИПНИК ОПОРНО-УПОРНЫЙ ЭКСГ.d.csv\n",
      "/kaggle/input/y-train-northsteel-short/y_short_ПОДШИПНИК ОПОРНЫЙ ЭКСГ.d.csv\n",
      "/kaggle/input/y-train-northsteel-short/y_short_МАСЛООХЛАДИТЕЛЬ  М-05-1 ЭКСГ.d.csv\n",
      "/kaggle/input/y-train-northsteel-short/y_short_ТИРИСТОРНЫЙ ВОЗБУДИТЕЛЬ ТВ-400 ЭКСГ.d ВУ1.csv\n",
      "/kaggle/input/y-train-northsteel-short/y_short_КЛ1 ТР№n ДО ЭД ЭКСГАУСТЕРА №d.csv\n",
      "/kaggle/input/y-train-northsteel-short/y_short_ЭЛДВИГАТЕЛЬ ГАЗ. ЗАДВИЖКИ ЭКСГ.d.csv\n",
      "/kaggle/input/y-train-northsteel-short/y_short_ТСМТ-101-010-50М-200 ТЕРМОПР.ПОДШ.csv\n",
      "/kaggle/input/y-train-northsteel-short/y_short_МАСЛОБАК ЭКСГ.d.csv\n",
      "/kaggle/input/y-train-northsteel-short/y_short_ЗАП. И РЕГ. АРМАТУРА ЭКСГ.d.csv\n",
      "/kaggle/input/y-train-northsteel-short/y_short_КОЖУХ МУФТЫ ЭКСГ.d.csv\n",
      "/kaggle/input/y-train-northsteel-short/y_short_РЕГУЛИРУЮЩАЯ АППАРАТУРА ЭКСГАУСТЕРА №d.csv\n",
      "/kaggle/input/y-train-northsteel-short/y_short_МАСЛЯНЫЙ ФИЛЬТР ЭКСГАУСТЕРА №d.csv\n",
      "/kaggle/input/y-train-northsteel-short/y_short_ТР-Р ТМ-4000-106 ЭКСГ.d.csv\n",
      "/kaggle/input/y-train-northsteel-short/y_short_ЭЛЕКТРОДВИГАТЕЛЬ ДСПУ-140-84-4 ЭКСГ.d.csv\n",
      "/kaggle/input/y-train-northsteel-short/y_short_ДВИГАТЕЛЬ ПУСКОВОГО МАСЛОНАСОСА ЭКСГ.d.csv\n",
      "/kaggle/input/y-train-northsteel-short/y_short_САПФИР 22 МДД РАЗРЕЖЕНИЕ В КОЛЛЕКТОРЕ.csv\n",
      "/kaggle/input/y-train-northsteel-short/y_short_САПФИР 22 МДД ПЕРЕПАД ДАВЛ. НА ЦИКЛОНЕ.csv\n",
      "/kaggle/input/y-train-northsteel-short/y_short_МАСЛОНАСОС ШЕСТЕРЕНЧАТЫЙ (ПУСК.) ЭКСГ.d.csv\n",
      "/kaggle/input/y-train-northsteel-short/y_short_ТР-Р ТМ-6300-106 ЭКСГ.d.csv\n",
      "/kaggle/input/y-train-northsteel-short/y_short_ТСМТ-101-010-50М-400 ТЕРМОПР.ПОДШ.csv\n",
      "/kaggle/input/y-train-northsteel-short/y_short_ЭКСГАУСТЕР №d.csv\n",
      "/kaggle/input/y-train-northsteel-short/y_short_МАСЛОСТАНЦИЯ ЖИДКОЙ СМАЗКИ ЭКСГ.d.csv\n",
      "/kaggle/input/y-train-northsteel-short/y_short_ЭЛЕКТРООБОРУДОВАНИЯ ЭКСГАУСТЕРА №d.csv\n",
      "/kaggle/input/y-train-northsteel-short/dict_short.csv\n",
      "/kaggle/input/y-train-northsteel-short/y_short_ГСМ ЭКСГ.d.csv\n",
      "/kaggle/input/y-train-northsteel-short/y_short_ТИРИСТОРНЫЙ ВОЗБУДИТЕЛЬ СПВД-М10-400-5.csv\n",
      "/kaggle/input/y-train-northsteel-short/y_short_МАСЛОПРОВОДЫ ЭКСГАУСТЕРА №d.csv\n",
      "/kaggle/input/y-train-northsteel-short/y_short_РОТОР ЭКСГ.d.csv\n",
      "/kaggle/input/y-train-northsteel/y_long_МАСЛООХЛАДИТЕЛЬ  М-05-1 ЭКСГ.d.csv\n",
      "/kaggle/input/y-train-northsteel/y_long_КЛ2 ТР№8 ДО ЭД ЭКСГАУСТЕРА №d.csv\n",
      "/kaggle/input/y-train-northsteel/y_long_САПФИР 22 МДД РАЗРЕЖЕНИЕ В КОЛЛЕКТОРЕ.csv\n",
      "/kaggle/input/y-train-northsteel/y_long_ВК 310С ВИБРОПРЕОБРАЗОВАТЕЛЬ ЭКСГ.d Т.2.csv\n",
      "/kaggle/input/y-train-northsteel/y_long_ЗАП. И РЕГ. АРМАТУРА ЭКСГ.d.csv\n",
      "/kaggle/input/y-train-northsteel/y_long_ЭКСГАУСТЕР Н-8000 АМ №5.csv\n",
      "/kaggle/input/y-train-northsteel/y_long_ЭЛЕКТРОДВИГАТЕЛЬ ДСПУ-140-84-4 ЭКСГ.d.csv\n",
      "/kaggle/input/y-train-northsteel/y_long_РЕДУКТОР ГАЗ. ЗАДВИЖКИ ЭКСГ.d.csv\n",
      "/kaggle/input/y-train-northsteel/y_long_КЛ1 ТР№4 ДО ЭД ЭКСГАУСТЕРА №d.csv\n",
      "/kaggle/input/y-train-northsteel/y_long_ТСМТ-101-010-50М-200 ТЕРМОПР.ПОДШ.Т.3.csv\n",
      "/kaggle/input/y-train-northsteel/y_long_ЭЛЕКТРООБОРУДОВАНИЯ ЭКСГАУСТЕРА №d.csv\n",
      "/kaggle/input/y-train-northsteel/y_long_МАСЛЯНЫЙ ФИЛЬТР ЭКСГАУСТЕРА №d.csv\n",
      "/kaggle/input/y-train-northsteel/y_long_УЛИТА ЭКСГ.d.csv\n",
      "/kaggle/input/y-train-northsteel/y_long_РЕГУЛИРУЮЩАЯ АППАРАТУРА ЭКСГАУСТЕРА №d.csv\n",
      "/kaggle/input/y-train-northsteel/y_long_ПОДШИПНИК ОПОРНЫЙ ЭКСГ.d.csv\n",
      "/kaggle/input/y-train-northsteel/y_long_ТСМТ-101-010-50М-200 ТЕРМОПР.ПОДШ.Т.4.csv\n",
      "/kaggle/input/y-train-northsteel/y_long_КЛ1 ТР№6 ДО ЭД ЭКСГАУСТЕРА №d.csv\n",
      "/kaggle/input/y-train-northsteel/y_long_ГАЗОВАЯ ЗАДВИЖКА ЭКСГ.d.csv\n",
      "/kaggle/input/y-train-northsteel/y_long_ГСМ ЭКСГ.d.csv\n",
      "/kaggle/input/y-train-northsteel/y_long_ВК 310С ВИБРОПРЕОБРАЗОВАТЕЛЬ ЭКСГ.d Т.3.csv\n",
      "/kaggle/input/y-train-northsteel/y_long_ТСМТ-101-010-50М-80 ТЕРМОПРЕОБР.МАСЛО.csv\n",
      "/kaggle/input/y-train-northsteel/y_long_КЛ2 ТР№6 ДО ЭД ЭКСГАУСТЕРА №d.csv\n",
      "/kaggle/input/y-train-northsteel/y_long_ТИРИСТОРНЫЙ ВОЗБУДИТЕЛЬ ТВ-400 ЭКСГ.d ВУ1.csv\n",
      "/kaggle/input/y-train-northsteel/y_long_КЛ1 ТР№5 ДО ЭД ЭКСГАУСТЕРА №d.csv\n",
      "/kaggle/input/y-train-northsteel/y_long_ДВИГАТЕЛЬ РЕЗЕРВНОГО МАСЛОНАСОСА ЭКСГ.d.csv\n",
      "/kaggle/input/y-train-northsteel/y_long_КЛ1 ТР№8 ДО ЭД ЭКСГАУСТЕРА №d.csv\n",
      "/kaggle/input/y-train-northsteel/y_long_МЕТРАН-100 ДАТЧИКИ ДАВЛЕНИЯ ЭКСГ.d.csv\n",
      "/kaggle/input/y-train-northsteel/y_long_ЗАДВИЖКА ЭКСГ.d.csv\n",
      "/kaggle/input/y-train-northsteel/y_long_КЛ2 ТР№5 ДО ЭД ЭКСГАУСТЕРА №d.csv\n",
      "/kaggle/input/y-train-northsteel/y_long_САПФИР 22 МДД ПЕРЕПАД ДАВЛ. НА ЦИКЛОНЕ.csv\n",
      "/kaggle/input/y-train-northsteel/y_long_ПОДШИПНИК ОПОРНЫЙ №2 ЭКСГ.d.csv\n",
      "/kaggle/input/y-train-northsteel/y_long_МАСЛОНАСОС ШЕСТЕРЕНЧАТЫЙ (РЕЗ.) ЭКСГ.d.csv\n",
      "/kaggle/input/y-train-northsteel/y_long_ПОДШИПНИК ОПОРНО-УПОРНЫЙ ЭКСГ.d.csv\n",
      "/kaggle/input/y-train-northsteel/y_long_ЗАПОРНАЯ АРМАТУРА ЭКСГАУСТЕРА №d.csv\n",
      "/kaggle/input/y-train-northsteel/y_long_КОРПУС ЭКСГ.d.csv\n",
      "/kaggle/input/y-train-northsteel/y_long_ВК 310С ВИБРОПРЕОБРАЗОВАТЕЛЬ ЭКСГ.d Т.4.csv\n",
      "/kaggle/input/y-train-northsteel/y_long_ТИРИСТОРНЫЙ ВОЗБУДИТЕЛЬ СПВД-М10-400-5.csv\n",
      "/kaggle/input/y-train-northsteel/y_long_КЛ1 ТР№9 ДО ЭД ЭКСГАУСТЕРА №d.csv\n",
      "/kaggle/input/y-train-northsteel/y_long_ЭЛДВИГАТЕЛЬ ГАЗ. ЗАДВИЖКИ ЭКСГ.d.csv\n",
      "/kaggle/input/y-train-northsteel/y_long_ДВИГАТЕЛЬ ПУСКОВОГО МАСЛОНАСОСА ЭКСГ.d.csv\n",
      "/kaggle/input/y-train-northsteel/y_long_ТИРИСТ. ВОЗБУДИТЕЛЬ ВТ-РЭМ-400 ЭКСГ.d ВУ1.csv\n",
      "/kaggle/input/y-train-northsteel/y_long_ЭКСГАУСТЕР №d.csv\n",
      "/kaggle/input/y-train-northsteel/y_long_ТР-Р ТМ-4000-106 ЭКСГ.d.csv\n",
      "/kaggle/input/y-train-northsteel/y_long_МАСЛОНАСОС РАБОЧИЙ ЭКСГ.d.csv\n",
      "/kaggle/input/y-train-northsteel/y_long_КЛ1 ТР№7 ДО ЭД ЭКСГАУСТЕРА №d.csv\n",
      "/kaggle/input/y-train-northsteel/y_long_МАСЛОБАК ЭКСГ.d.csv\n",
      "/kaggle/input/y-train-northsteel/y_long_ТИРИСТ. ВОЗБУДИТЕЛЬ ВТ-РЭМ-400 ЭКСГ.d ВУ2.csv\n",
      "/kaggle/input/y-train-northsteel/y_long_ТР-Р ТМ-6300-106 ЭКСГ.d.csv\n",
      "/kaggle/input/y-train-northsteel/y_long_МАСЛОСТАНЦИЯ ЖИДКОЙ СМАЗКИ ЭКСГ.d.csv\n",
      "/kaggle/input/y-train-northsteel/y_long_КОЖУХ МУФТЫ ЭКСГ.d.csv\n",
      "/kaggle/input/y-train-northsteel/y_long_ПОДШИПНИК ОПОРНЫЙ №1 ЭКСГ.d.csv\n",
      "/kaggle/input/y-train-northsteel/y_long_РОТОР ЭКСГ.d.csv\n",
      "/kaggle/input/y-train-northsteel/dict_long.csv\n",
      "/kaggle/input/y-train-northsteel/y_long_ТСМТ-101-010-50М-400 ТЕРМОПР.ПОДШ.Т.1.csv\n",
      "/kaggle/input/y-train-northsteel/y_long_МАСЛОПРОВОДЫ ЭКСГАУСТЕРА №d.csv\n",
      "/kaggle/input/y-train-northsteel/y_long_МАСЛОНАСОС ШЕСТЕРЕНЧАТЫЙ (ПУСК.) ЭКСГ.d.csv\n",
      "/kaggle/input/y-train-northsteel/y_long_КЛ2 ТР№4 ДО ЭД ЭКСГАУСТЕРА №d.csv\n",
      "/kaggle/input/y-train-northsteel/y_long_ВК 310С ВИБРОПРЕОБРАЗОВАТЕЛЬ ЭКСГ.d Т.1.csv\n",
      "/kaggle/input/y-train-northsteel/y_long_ТСМТ-101-010-50М-400 ТЕРМОПР.ПОДШ.Т.2.csv\n"
     ]
    }
   ],
   "source": [
    "# This Python 3 environment comes with many helpful analytics libraries installed\n",
    "# It is defined by the kaggle/python Docker image: https://github.com/kaggle/docker-python\n",
    "# For example, here's several helpful packages to load\n",
    "\n",
    "import numpy as np # linear algebra\n",
    "import pandas as pd # data processing, CSV file I/O (e.g. pd.read_csv)\n",
    "\n",
    "# Input data files are available in the read-only \"../input/\" directory\n",
    "# For example, running this (by clicking run or pressing Shift+Enter) will list all files under the input directory\n",
    "\n",
    "import os\n",
    "for dirname, _, filenames in os.walk('/kaggle/input'):\n",
    "    for filename in filenames:\n",
    "        print(os.path.join(dirname, filename))\n",
    "\n",
    "# You can write up to 20GB to the current directory (/kaggle/working/) that gets preserved as output when you create a version using \"Save & Run All\" \n",
    "# You can also write temporary files to /kaggle/temp/, but they won't be saved outside of the current session"
   ]
  },
  {
   "cell_type": "code",
   "execution_count": 2,
   "id": "265e5070",
   "metadata": {
    "execution": {
     "iopub.execute_input": "2023-05-28T20:20:31.412459Z",
     "iopub.status.busy": "2023-05-28T20:20:31.412131Z",
     "iopub.status.idle": "2023-05-28T20:20:56.770114Z",
     "shell.execute_reply": "2023-05-28T20:20:56.769035Z"
    },
    "papermill": {
     "duration": 25.367327,
     "end_time": "2023-05-28T20:20:56.773082",
     "exception": false,
     "start_time": "2023-05-28T20:20:31.405755",
     "status": "completed"
    },
    "tags": []
   },
   "outputs": [],
   "source": [
    "X_train = pd.read_csv(\"/kaggle/input/x-train-northsteel/ЭКСГАУСТЕР 4.csv\",parse_dates=True)\n"
   ]
  },
  {
   "cell_type": "code",
   "execution_count": 3,
   "id": "3626c425",
   "metadata": {
    "execution": {
     "iopub.execute_input": "2023-05-28T20:20:56.785359Z",
     "iopub.status.busy": "2023-05-28T20:20:56.784991Z",
     "iopub.status.idle": "2023-05-28T20:21:38.466255Z",
     "shell.execute_reply": "2023-05-28T20:21:38.465170Z"
    },
    "papermill": {
     "duration": 41.696881,
     "end_time": "2023-05-28T20:21:38.475394",
     "exception": false,
     "start_time": "2023-05-28T20:20:56.778513",
     "status": "completed"
    },
    "tags": []
   },
   "outputs": [
    {
     "data": {
      "text/html": [
       "<div>\n",
       "<style scoped>\n",
       "    .dataframe tbody tr th:only-of-type {\n",
       "        vertical-align: middle;\n",
       "    }\n",
       "\n",
       "    .dataframe tbody tr th {\n",
       "        vertical-align: top;\n",
       "    }\n",
       "\n",
       "    .dataframe thead th {\n",
       "        text-align: right;\n",
       "    }\n",
       "</style>\n",
       "<table border=\"1\" class=\"dataframe\">\n",
       "  <thead>\n",
       "    <tr style=\"text-align: right;\">\n",
       "      <th></th>\n",
       "      <th>ТОК РОТОРА 1</th>\n",
       "      <th>ТОК РОТОРА 2</th>\n",
       "      <th>ТОК СТАТОРА</th>\n",
       "      <th>ВИБРАЦИЯ НА ОПОРЕ 1</th>\n",
       "      <th>ВИБРАЦИЯ НА ОПОРЕ 2</th>\n",
       "      <th>ВИБРАЦИЯ НА ОПОРЕ 3</th>\n",
       "      <th>ВИБРАЦИЯ НА ОПОРЕ 3. ПРОДОЛЬНАЯ</th>\n",
       "      <th>ВИБРАЦИЯ НА ОПОРЕ 4</th>\n",
       "      <th>ВИБРАЦИЯ НА ОПОРЕ 4. ПРОДОЛЬНАЯ</th>\n",
       "      <th>ТЕМПЕРАТУРА ПОДШИПНИКА НА ОПОРЕ 1</th>\n",
       "      <th>ТЕМПЕРАТУРА ПОДШИПНИКА НА ОПОРЕ 2</th>\n",
       "      <th>ТЕМПЕРАТУРА ПОДШИПНИКА НА ОПОРЕ 3</th>\n",
       "      <th>ТЕМПЕРАТУРА ПОДШИПНИКА НА ОПОРЕ 4</th>\n",
       "      <th>ТЕМПЕРАТУРА МАСЛА В МАСЛОБЛОКЕ</th>\n",
       "      <th>ТЕМПЕРАТУРА МАСЛА В СИСТЕМЕ</th>\n",
       "      <th>ДАВЛЕНИЕ МАСЛА В СИСТЕМЕ</th>\n",
       "    </tr>\n",
       "    <tr>\n",
       "      <th>DT</th>\n",
       "      <th></th>\n",
       "      <th></th>\n",
       "      <th></th>\n",
       "      <th></th>\n",
       "      <th></th>\n",
       "      <th></th>\n",
       "      <th></th>\n",
       "      <th></th>\n",
       "      <th></th>\n",
       "      <th></th>\n",
       "      <th></th>\n",
       "      <th></th>\n",
       "      <th></th>\n",
       "      <th></th>\n",
       "      <th></th>\n",
       "      <th></th>\n",
       "    </tr>\n",
       "  </thead>\n",
       "  <tbody>\n",
       "    <tr>\n",
       "      <th>2019-01-16 13:21:00</th>\n",
       "      <td>363.676667</td>\n",
       "      <td>363.676667</td>\n",
       "      <td>244.078000</td>\n",
       "      <td>1.600000</td>\n",
       "      <td>0.760000</td>\n",
       "      <td>0.670000</td>\n",
       "      <td>1.630000</td>\n",
       "      <td>3.450000</td>\n",
       "      <td>0.740000</td>\n",
       "      <td>41.370000</td>\n",
       "      <td>39.750000</td>\n",
       "      <td>39.750000</td>\n",
       "      <td>44.538548</td>\n",
       "      <td>40.560000</td>\n",
       "      <td>33.260000</td>\n",
       "      <td>119.385000</td>\n",
       "    </tr>\n",
       "    <tr>\n",
       "      <th>2019-01-16 13:21:10</th>\n",
       "      <td>363.103333</td>\n",
       "      <td>363.103333</td>\n",
       "      <td>243.032500</td>\n",
       "      <td>1.572917</td>\n",
       "      <td>0.751736</td>\n",
       "      <td>0.642361</td>\n",
       "      <td>1.558160</td>\n",
       "      <td>3.470000</td>\n",
       "      <td>0.734375</td>\n",
       "      <td>41.374596</td>\n",
       "      <td>39.752083</td>\n",
       "      <td>39.995457</td>\n",
       "      <td>44.863054</td>\n",
       "      <td>40.401081</td>\n",
       "      <td>33.343074</td>\n",
       "      <td>119.444440</td>\n",
       "    </tr>\n",
       "    <tr>\n",
       "      <th>2019-01-16 13:21:20</th>\n",
       "      <td>363.266667</td>\n",
       "      <td>363.266667</td>\n",
       "      <td>242.940000</td>\n",
       "      <td>1.553819</td>\n",
       "      <td>0.735918</td>\n",
       "      <td>0.638503</td>\n",
       "      <td>1.581790</td>\n",
       "      <td>2.900000</td>\n",
       "      <td>0.748457</td>\n",
       "      <td>41.374596</td>\n",
       "      <td>39.752083</td>\n",
       "      <td>39.932360</td>\n",
       "      <td>44.799956</td>\n",
       "      <td>40.383053</td>\n",
       "      <td>33.261948</td>\n",
       "      <td>119.330000</td>\n",
       "    </tr>\n",
       "    <tr>\n",
       "      <th>2019-01-16 13:21:30</th>\n",
       "      <td>363.414372</td>\n",
       "      <td>363.414372</td>\n",
       "      <td>243.836802</td>\n",
       "      <td>1.546007</td>\n",
       "      <td>0.736979</td>\n",
       "      <td>0.653646</td>\n",
       "      <td>1.657986</td>\n",
       "      <td>3.297743</td>\n",
       "      <td>0.730903</td>\n",
       "      <td>41.374596</td>\n",
       "      <td>39.752083</td>\n",
       "      <td>39.833208</td>\n",
       "      <td>44.781928</td>\n",
       "      <td>40.563330</td>\n",
       "      <td>33.586453</td>\n",
       "      <td>119.398146</td>\n",
       "    </tr>\n",
       "    <tr>\n",
       "      <th>2019-01-16 13:21:40</th>\n",
       "      <td>363.103333</td>\n",
       "      <td>363.103333</td>\n",
       "      <td>242.050000</td>\n",
       "      <td>1.545139</td>\n",
       "      <td>0.742188</td>\n",
       "      <td>0.677083</td>\n",
       "      <td>1.740000</td>\n",
       "      <td>2.990000</td>\n",
       "      <td>0.739583</td>\n",
       "      <td>41.536849</td>\n",
       "      <td>39.752083</td>\n",
       "      <td>39.752083</td>\n",
       "      <td>43.810000</td>\n",
       "      <td>39.750000</td>\n",
       "      <td>33.505327</td>\n",
       "      <td>119.326667</td>\n",
       "    </tr>\n",
       "    <tr>\n",
       "      <th>...</th>\n",
       "      <td>...</td>\n",
       "      <td>...</td>\n",
       "      <td>...</td>\n",
       "      <td>...</td>\n",
       "      <td>...</td>\n",
       "      <td>...</td>\n",
       "      <td>...</td>\n",
       "      <td>...</td>\n",
       "      <td>...</td>\n",
       "      <td>...</td>\n",
       "      <td>...</td>\n",
       "      <td>...</td>\n",
       "      <td>...</td>\n",
       "      <td>...</td>\n",
       "      <td>...</td>\n",
       "      <td>...</td>\n",
       "    </tr>\n",
       "    <tr>\n",
       "      <th>2021-04-29 20:17:50</th>\n",
       "      <td>227.802000</td>\n",
       "      <td>227.802000</td>\n",
       "      <td>256.457000</td>\n",
       "      <td>0.691667</td>\n",
       "      <td>0.422857</td>\n",
       "      <td>0.824444</td>\n",
       "      <td>1.900000</td>\n",
       "      <td>0.802222</td>\n",
       "      <td>0.810000</td>\n",
       "      <td>38.670000</td>\n",
       "      <td>36.915000</td>\n",
       "      <td>29.615000</td>\n",
       "      <td>32.045000</td>\n",
       "      <td>32.045000</td>\n",
       "      <td>28.800000</td>\n",
       "      <td>143.218000</td>\n",
       "    </tr>\n",
       "    <tr>\n",
       "      <th>2021-06-18 01:21:30</th>\n",
       "      <td>243.908000</td>\n",
       "      <td>243.908000</td>\n",
       "      <td>262.240000</td>\n",
       "      <td>1.410000</td>\n",
       "      <td>1.122000</td>\n",
       "      <td>2.508000</td>\n",
       "      <td>6.800000</td>\n",
       "      <td>1.262000</td>\n",
       "      <td>2.678000</td>\n",
       "      <td>44.080000</td>\n",
       "      <td>47.455000</td>\n",
       "      <td>40.560000</td>\n",
       "      <td>41.780000</td>\n",
       "      <td>43.000000</td>\n",
       "      <td>40.290000</td>\n",
       "      <td>119.744000</td>\n",
       "    </tr>\n",
       "    <tr>\n",
       "      <th>2021-06-21 19:43:00</th>\n",
       "      <td>243.866667</td>\n",
       "      <td>243.866667</td>\n",
       "      <td>248.206667</td>\n",
       "      <td>0.983333</td>\n",
       "      <td>0.910000</td>\n",
       "      <td>2.290000</td>\n",
       "      <td>5.083333</td>\n",
       "      <td>1.353333</td>\n",
       "      <td>2.223333</td>\n",
       "      <td>46.645000</td>\n",
       "      <td>49.085000</td>\n",
       "      <td>45.970000</td>\n",
       "      <td>45.700000</td>\n",
       "      <td>47.455000</td>\n",
       "      <td>48.270000</td>\n",
       "      <td>113.846667</td>\n",
       "    </tr>\n",
       "    <tr>\n",
       "      <th>2021-07-01 23:41:10</th>\n",
       "      <td>244.760000</td>\n",
       "      <td>244.760000</td>\n",
       "      <td>266.060000</td>\n",
       "      <td>0.816000</td>\n",
       "      <td>0.426667</td>\n",
       "      <td>0.149000</td>\n",
       "      <td>0.640000</td>\n",
       "      <td>1.203000</td>\n",
       "      <td>0.270000</td>\n",
       "      <td>49.895000</td>\n",
       "      <td>49.760000</td>\n",
       "      <td>37.680000</td>\n",
       "      <td>41.167500</td>\n",
       "      <td>39.345000</td>\n",
       "      <td>36.186000</td>\n",
       "      <td>152.590000</td>\n",
       "    </tr>\n",
       "    <tr>\n",
       "      <th>2021-09-17 14:14:30</th>\n",
       "      <td>247.005000</td>\n",
       "      <td>247.005000</td>\n",
       "      <td>274.508333</td>\n",
       "      <td>0.346667</td>\n",
       "      <td>1.013333</td>\n",
       "      <td>1.536667</td>\n",
       "      <td>3.618333</td>\n",
       "      <td>2.110000</td>\n",
       "      <td>1.923333</td>\n",
       "      <td>49.760000</td>\n",
       "      <td>44.620000</td>\n",
       "      <td>39.480000</td>\n",
       "      <td>40.290000</td>\n",
       "      <td>39.345000</td>\n",
       "      <td>33.260000</td>\n",
       "      <td>164.408333</td>\n",
       "    </tr>\n",
       "  </tbody>\n",
       "</table>\n",
       "<p>4755649 rows × 16 columns</p>\n",
       "</div>"
      ],
      "text/plain": [
       "                     ТОК РОТОРА 1  ТОК РОТОРА 2  ТОК СТАТОРА  \\\n",
       "DT                                                             \n",
       "2019-01-16 13:21:00    363.676667    363.676667   244.078000   \n",
       "2019-01-16 13:21:10    363.103333    363.103333   243.032500   \n",
       "2019-01-16 13:21:20    363.266667    363.266667   242.940000   \n",
       "2019-01-16 13:21:30    363.414372    363.414372   243.836802   \n",
       "2019-01-16 13:21:40    363.103333    363.103333   242.050000   \n",
       "...                           ...           ...          ...   \n",
       "2021-04-29 20:17:50    227.802000    227.802000   256.457000   \n",
       "2021-06-18 01:21:30    243.908000    243.908000   262.240000   \n",
       "2021-06-21 19:43:00    243.866667    243.866667   248.206667   \n",
       "2021-07-01 23:41:10    244.760000    244.760000   266.060000   \n",
       "2021-09-17 14:14:30    247.005000    247.005000   274.508333   \n",
       "\n",
       "                     ВИБРАЦИЯ НА ОПОРЕ 1  ВИБРАЦИЯ НА ОПОРЕ 2  \\\n",
       "DT                                                              \n",
       "2019-01-16 13:21:00             1.600000             0.760000   \n",
       "2019-01-16 13:21:10             1.572917             0.751736   \n",
       "2019-01-16 13:21:20             1.553819             0.735918   \n",
       "2019-01-16 13:21:30             1.546007             0.736979   \n",
       "2019-01-16 13:21:40             1.545139             0.742188   \n",
       "...                                  ...                  ...   \n",
       "2021-04-29 20:17:50             0.691667             0.422857   \n",
       "2021-06-18 01:21:30             1.410000             1.122000   \n",
       "2021-06-21 19:43:00             0.983333             0.910000   \n",
       "2021-07-01 23:41:10             0.816000             0.426667   \n",
       "2021-09-17 14:14:30             0.346667             1.013333   \n",
       "\n",
       "                     ВИБРАЦИЯ НА ОПОРЕ 3  ВИБРАЦИЯ НА ОПОРЕ 3. ПРОДОЛЬНАЯ  \\\n",
       "DT                                                                          \n",
       "2019-01-16 13:21:00             0.670000                         1.630000   \n",
       "2019-01-16 13:21:10             0.642361                         1.558160   \n",
       "2019-01-16 13:21:20             0.638503                         1.581790   \n",
       "2019-01-16 13:21:30             0.653646                         1.657986   \n",
       "2019-01-16 13:21:40             0.677083                         1.740000   \n",
       "...                                  ...                              ...   \n",
       "2021-04-29 20:17:50             0.824444                         1.900000   \n",
       "2021-06-18 01:21:30             2.508000                         6.800000   \n",
       "2021-06-21 19:43:00             2.290000                         5.083333   \n",
       "2021-07-01 23:41:10             0.149000                         0.640000   \n",
       "2021-09-17 14:14:30             1.536667                         3.618333   \n",
       "\n",
       "                     ВИБРАЦИЯ НА ОПОРЕ 4  ВИБРАЦИЯ НА ОПОРЕ 4. ПРОДОЛЬНАЯ  \\\n",
       "DT                                                                          \n",
       "2019-01-16 13:21:00             3.450000                         0.740000   \n",
       "2019-01-16 13:21:10             3.470000                         0.734375   \n",
       "2019-01-16 13:21:20             2.900000                         0.748457   \n",
       "2019-01-16 13:21:30             3.297743                         0.730903   \n",
       "2019-01-16 13:21:40             2.990000                         0.739583   \n",
       "...                                  ...                              ...   \n",
       "2021-04-29 20:17:50             0.802222                         0.810000   \n",
       "2021-06-18 01:21:30             1.262000                         2.678000   \n",
       "2021-06-21 19:43:00             1.353333                         2.223333   \n",
       "2021-07-01 23:41:10             1.203000                         0.270000   \n",
       "2021-09-17 14:14:30             2.110000                         1.923333   \n",
       "\n",
       "                     ТЕМПЕРАТУРА ПОДШИПНИКА НА ОПОРЕ 1  \\\n",
       "DT                                                       \n",
       "2019-01-16 13:21:00                          41.370000   \n",
       "2019-01-16 13:21:10                          41.374596   \n",
       "2019-01-16 13:21:20                          41.374596   \n",
       "2019-01-16 13:21:30                          41.374596   \n",
       "2019-01-16 13:21:40                          41.536849   \n",
       "...                                                ...   \n",
       "2021-04-29 20:17:50                          38.670000   \n",
       "2021-06-18 01:21:30                          44.080000   \n",
       "2021-06-21 19:43:00                          46.645000   \n",
       "2021-07-01 23:41:10                          49.895000   \n",
       "2021-09-17 14:14:30                          49.760000   \n",
       "\n",
       "                     ТЕМПЕРАТУРА ПОДШИПНИКА НА ОПОРЕ 2  \\\n",
       "DT                                                       \n",
       "2019-01-16 13:21:00                          39.750000   \n",
       "2019-01-16 13:21:10                          39.752083   \n",
       "2019-01-16 13:21:20                          39.752083   \n",
       "2019-01-16 13:21:30                          39.752083   \n",
       "2019-01-16 13:21:40                          39.752083   \n",
       "...                                                ...   \n",
       "2021-04-29 20:17:50                          36.915000   \n",
       "2021-06-18 01:21:30                          47.455000   \n",
       "2021-06-21 19:43:00                          49.085000   \n",
       "2021-07-01 23:41:10                          49.760000   \n",
       "2021-09-17 14:14:30                          44.620000   \n",
       "\n",
       "                     ТЕМПЕРАТУРА ПОДШИПНИКА НА ОПОРЕ 3  \\\n",
       "DT                                                       \n",
       "2019-01-16 13:21:00                          39.750000   \n",
       "2019-01-16 13:21:10                          39.995457   \n",
       "2019-01-16 13:21:20                          39.932360   \n",
       "2019-01-16 13:21:30                          39.833208   \n",
       "2019-01-16 13:21:40                          39.752083   \n",
       "...                                                ...   \n",
       "2021-04-29 20:17:50                          29.615000   \n",
       "2021-06-18 01:21:30                          40.560000   \n",
       "2021-06-21 19:43:00                          45.970000   \n",
       "2021-07-01 23:41:10                          37.680000   \n",
       "2021-09-17 14:14:30                          39.480000   \n",
       "\n",
       "                     ТЕМПЕРАТУРА ПОДШИПНИКА НА ОПОРЕ 4  \\\n",
       "DT                                                       \n",
       "2019-01-16 13:21:00                          44.538548   \n",
       "2019-01-16 13:21:10                          44.863054   \n",
       "2019-01-16 13:21:20                          44.799956   \n",
       "2019-01-16 13:21:30                          44.781928   \n",
       "2019-01-16 13:21:40                          43.810000   \n",
       "...                                                ...   \n",
       "2021-04-29 20:17:50                          32.045000   \n",
       "2021-06-18 01:21:30                          41.780000   \n",
       "2021-06-21 19:43:00                          45.700000   \n",
       "2021-07-01 23:41:10                          41.167500   \n",
       "2021-09-17 14:14:30                          40.290000   \n",
       "\n",
       "                     ТЕМПЕРАТУРА МАСЛА В МАСЛОБЛОКЕ  \\\n",
       "DT                                                    \n",
       "2019-01-16 13:21:00                       40.560000   \n",
       "2019-01-16 13:21:10                       40.401081   \n",
       "2019-01-16 13:21:20                       40.383053   \n",
       "2019-01-16 13:21:30                       40.563330   \n",
       "2019-01-16 13:21:40                       39.750000   \n",
       "...                                             ...   \n",
       "2021-04-29 20:17:50                       32.045000   \n",
       "2021-06-18 01:21:30                       43.000000   \n",
       "2021-06-21 19:43:00                       47.455000   \n",
       "2021-07-01 23:41:10                       39.345000   \n",
       "2021-09-17 14:14:30                       39.345000   \n",
       "\n",
       "                     ТЕМПЕРАТУРА МАСЛА В СИСТЕМЕ  ДАВЛЕНИЕ МАСЛА В СИСТЕМЕ  \n",
       "DT                                                                          \n",
       "2019-01-16 13:21:00                    33.260000                119.385000  \n",
       "2019-01-16 13:21:10                    33.343074                119.444440  \n",
       "2019-01-16 13:21:20                    33.261948                119.330000  \n",
       "2019-01-16 13:21:30                    33.586453                119.398146  \n",
       "2019-01-16 13:21:40                    33.505327                119.326667  \n",
       "...                                          ...                       ...  \n",
       "2021-04-29 20:17:50                    28.800000                143.218000  \n",
       "2021-06-18 01:21:30                    40.290000                119.744000  \n",
       "2021-06-21 19:43:00                    48.270000                113.846667  \n",
       "2021-07-01 23:41:10                    36.186000                152.590000  \n",
       "2021-09-17 14:14:30                    33.260000                164.408333  \n",
       "\n",
       "[4755649 rows x 16 columns]"
      ]
     },
     "execution_count": 3,
     "metadata": {},
     "output_type": "execute_result"
    }
   ],
   "source": [
    "import re\n",
    "\n",
    "def reduced(x):\n",
    "    answer = re.sub(r\"ЭКСГАУСТЕР\\s?\\n?№\\d+.\", \"\", x).strip()\n",
    "    answer = re.sub(r\"ЭКСГАУСТЕР\\s?\\n?\\d+.\", \"\", x).strip()\n",
    "    return answer\n",
    "\n",
    "\n",
    "if \"DT\" in X_train.columns:\n",
    "    X_train = X_train.set_index(\"DT\")\n",
    "for col in X_train.columns:\n",
    "    X_train = X_train.rename(columns={col: reduced(col).strip()})\n",
    "X_train = X_train[[\"ТОК РОТОРА 1\",\"ТОК РОТОРА 2\",\"ТОК СТАТОРА\",\n",
    "                   \"ВИБРАЦИЯ НА ОПОРЕ 1\",\"ВИБРАЦИЯ НА ОПОРЕ 2\",\n",
    "                   \"ВИБРАЦИЯ НА ОПОРЕ 3\",\"ВИБРАЦИЯ НА ОПОРЕ 3. ПРОДОЛЬНАЯ\",\n",
    "                   \"ВИБРАЦИЯ НА ОПОРЕ 4\",\"ВИБРАЦИЯ НА ОПОРЕ 4. ПРОДОЛЬНАЯ\",\n",
    "                   \"ТЕМПЕРАТУРА ПОДШИПНИКА НА ОПОРЕ 1\",\n",
    "                   \"ТЕМПЕРАТУРА ПОДШИПНИКА НА ОПОРЕ 2\",\n",
    "                   \"ТЕМПЕРАТУРА ПОДШИПНИКА НА ОПОРЕ 3\",\n",
    "                   \"ТЕМПЕРАТУРА ПОДШИПНИКА НА ОПОРЕ 4\",\n",
    "                   \"ТЕМПЕРАТУРА МАСЛА В МАСЛОБЛОКЕ\",\n",
    "                   \"ТЕМПЕРАТУРА МАСЛА В СИСТЕМЕ\",\n",
    "                   \"ДАВЛЕНИЕ МАСЛА В СИСТЕМЕ\"]]\n",
    "for i,x in enumerate(X_train.index.values):\n",
    "    X_train.index.values[i] = pd.Timestamp(X_train.index.values[i])\n",
    "X_train"
   ]
  },
  {
   "cell_type": "code",
   "execution_count": 4,
   "id": "fb952179",
   "metadata": {
    "execution": {
     "iopub.execute_input": "2023-05-28T20:21:38.488084Z",
     "iopub.status.busy": "2023-05-28T20:21:38.487424Z",
     "iopub.status.idle": "2023-05-28T20:22:19.590896Z",
     "shell.execute_reply": "2023-05-28T20:22:19.589869Z"
    },
    "papermill": {
     "duration": 41.120535,
     "end_time": "2023-05-28T20:22:19.601487",
     "exception": false,
     "start_time": "2023-05-28T20:21:38.480952",
     "status": "completed"
    },
    "tags": []
   },
   "outputs": [
    {
     "data": {
      "text/html": [
       "<div>\n",
       "<style scoped>\n",
       "    .dataframe tbody tr th:only-of-type {\n",
       "        vertical-align: middle;\n",
       "    }\n",
       "\n",
       "    .dataframe tbody tr th {\n",
       "        vertical-align: top;\n",
       "    }\n",
       "\n",
       "    .dataframe thead th {\n",
       "        text-align: right;\n",
       "    }\n",
       "</style>\n",
       "<table border=\"1\" class=\"dataframe\">\n",
       "  <thead>\n",
       "    <tr style=\"text-align: right;\">\n",
       "      <th></th>\n",
       "      <th>Y_ЭКСГАУСТЕР А/М №4_ЭЛЕКТРОДВИГАТЕЛЬ ДСПУ-140-84-4 ЭКСГ. №4</th>\n",
       "      <th>Y_ЭКСГАУСТЕР А/М №4_ПОДШИПНИК ОПОРНЫЙ ЭКСГ. №4</th>\n",
       "      <th>Y_ЭКСГАУСТЕР А/М №4_УЛИТА ЭКСГ. №4</th>\n",
       "      <th>Y_ЭКСГАУСТЕР А/М №4_РЕДУКТОР ГАЗ. ЗАДВИЖКИ ЭКСГ. №4</th>\n",
       "      <th>Y_ЭКСГАУСТЕР А/М №4_МАСЛОНАСОС РАБОЧИЙ ЭКСГ. №4</th>\n",
       "      <th>Y_ЭКСГАУСТЕР А/М №4_ЭЛЕКТРОАППАРАТУРА ЭКСГ. №4</th>\n",
       "      <th>Y_ЭКСГАУСТЕР А/М №4_ПОДШИПНИК ОПОРНЫЙ №2 ЭКСГ. №4</th>\n",
       "      <th>Y_ЭКСГАУСТЕР А/М №4_ЗАДВИЖКА ЭКСГ. №4</th>\n",
       "      <th>Y_ЭКСГАУСТЕР А/М №4_ГСМ ЭКСГ. №4</th>\n",
       "      <th>Y_ЭКСГАУСТЕР А/М №4_ВК 310С ВИБРОПРЕОБРАЗОВАТЕЛЬ ЭКСГ.№4 Т.1</th>\n",
       "      <th>...</th>\n",
       "      <th>Y_ЭКСГАУСТЕР А/М №4_ПОДШИПНИК ОПОРНО-УПОРНЫЙ ЭКСГ. №4</th>\n",
       "      <th>Y_ЭКСГАУСТЕР А/М №4_ЭКСГАУСТЕР А/М №4</th>\n",
       "      <th>Y_ЭКСГАУСТЕР А/М №4_ЗАП. И РЕГ. АРМАТУРА ЭКСГ.№4</th>\n",
       "      <th>Y_ЭКСГАУСТЕР А/М №4_ПОДШИПНИК ОПОРНЫЙ №1 ЭКСГ. №4</th>\n",
       "      <th>Y_ЭКСГАУСТЕР А/М №4_ЭЛ/ДВИГАТЕЛЬ ГАЗ. ЗАДВИЖКИ ЭКСГ. №4</th>\n",
       "      <th>Y_ЭКСГАУСТЕР А/М №4_КЛ1 ТР№4 ДО ЭД ЭКСГАУСТЕРА №4</th>\n",
       "      <th>Y_ЭКСГАУСТЕР А/М №4_КЛ2 ТР№4 ДО ЭД ЭКСГАУСТЕРА №4</th>\n",
       "      <th>Y_ЭКСГАУСТЕР А/М №4_ТР-Р ТМ-4000-10/6 ЭКСГ. №4</th>\n",
       "      <th>Y_ЭКСГАУСТЕР А/М №4_ТИРИСТ. ВОЗБУДИТЕЛЬ ВТ-РЭМ-400 ЭКСГ4 ВУ1</th>\n",
       "      <th>Y_ЭКСГАУСТЕР А/М №4_МАСЛОПРОВОДЫ ЭКСГ №4</th>\n",
       "    </tr>\n",
       "    <tr>\n",
       "      <th>DT</th>\n",
       "      <th></th>\n",
       "      <th></th>\n",
       "      <th></th>\n",
       "      <th></th>\n",
       "      <th></th>\n",
       "      <th></th>\n",
       "      <th></th>\n",
       "      <th></th>\n",
       "      <th></th>\n",
       "      <th></th>\n",
       "      <th></th>\n",
       "      <th></th>\n",
       "      <th></th>\n",
       "      <th></th>\n",
       "      <th></th>\n",
       "      <th></th>\n",
       "      <th></th>\n",
       "      <th></th>\n",
       "      <th></th>\n",
       "      <th></th>\n",
       "      <th></th>\n",
       "    </tr>\n",
       "  </thead>\n",
       "  <tbody>\n",
       "    <tr>\n",
       "      <th>2019-01-16 13:21:00</th>\n",
       "      <td>0.0</td>\n",
       "      <td>0.0</td>\n",
       "      <td>0.0</td>\n",
       "      <td>0.0</td>\n",
       "      <td>0.0</td>\n",
       "      <td>0.0</td>\n",
       "      <td>0.0</td>\n",
       "      <td>0.0</td>\n",
       "      <td>0.0</td>\n",
       "      <td>0.0</td>\n",
       "      <td>...</td>\n",
       "      <td>0.0</td>\n",
       "      <td>0.0</td>\n",
       "      <td>0.0</td>\n",
       "      <td>0.0</td>\n",
       "      <td>0.0</td>\n",
       "      <td>0.0</td>\n",
       "      <td>0.0</td>\n",
       "      <td>0.0</td>\n",
       "      <td>0.0</td>\n",
       "      <td>0.0</td>\n",
       "    </tr>\n",
       "    <tr>\n",
       "      <th>2019-01-16 13:21:10</th>\n",
       "      <td>0.0</td>\n",
       "      <td>0.0</td>\n",
       "      <td>0.0</td>\n",
       "      <td>0.0</td>\n",
       "      <td>0.0</td>\n",
       "      <td>0.0</td>\n",
       "      <td>0.0</td>\n",
       "      <td>0.0</td>\n",
       "      <td>0.0</td>\n",
       "      <td>0.0</td>\n",
       "      <td>...</td>\n",
       "      <td>0.0</td>\n",
       "      <td>0.0</td>\n",
       "      <td>0.0</td>\n",
       "      <td>0.0</td>\n",
       "      <td>0.0</td>\n",
       "      <td>0.0</td>\n",
       "      <td>0.0</td>\n",
       "      <td>0.0</td>\n",
       "      <td>0.0</td>\n",
       "      <td>0.0</td>\n",
       "    </tr>\n",
       "    <tr>\n",
       "      <th>2019-01-16 13:21:20</th>\n",
       "      <td>0.0</td>\n",
       "      <td>0.0</td>\n",
       "      <td>0.0</td>\n",
       "      <td>0.0</td>\n",
       "      <td>0.0</td>\n",
       "      <td>0.0</td>\n",
       "      <td>0.0</td>\n",
       "      <td>0.0</td>\n",
       "      <td>0.0</td>\n",
       "      <td>0.0</td>\n",
       "      <td>...</td>\n",
       "      <td>0.0</td>\n",
       "      <td>0.0</td>\n",
       "      <td>0.0</td>\n",
       "      <td>0.0</td>\n",
       "      <td>0.0</td>\n",
       "      <td>0.0</td>\n",
       "      <td>0.0</td>\n",
       "      <td>0.0</td>\n",
       "      <td>0.0</td>\n",
       "      <td>0.0</td>\n",
       "    </tr>\n",
       "    <tr>\n",
       "      <th>2019-01-16 13:21:30</th>\n",
       "      <td>0.0</td>\n",
       "      <td>0.0</td>\n",
       "      <td>0.0</td>\n",
       "      <td>0.0</td>\n",
       "      <td>0.0</td>\n",
       "      <td>0.0</td>\n",
       "      <td>0.0</td>\n",
       "      <td>0.0</td>\n",
       "      <td>0.0</td>\n",
       "      <td>0.0</td>\n",
       "      <td>...</td>\n",
       "      <td>0.0</td>\n",
       "      <td>0.0</td>\n",
       "      <td>0.0</td>\n",
       "      <td>0.0</td>\n",
       "      <td>0.0</td>\n",
       "      <td>0.0</td>\n",
       "      <td>0.0</td>\n",
       "      <td>0.0</td>\n",
       "      <td>0.0</td>\n",
       "      <td>0.0</td>\n",
       "    </tr>\n",
       "    <tr>\n",
       "      <th>2019-01-16 13:21:40</th>\n",
       "      <td>0.0</td>\n",
       "      <td>0.0</td>\n",
       "      <td>0.0</td>\n",
       "      <td>0.0</td>\n",
       "      <td>0.0</td>\n",
       "      <td>0.0</td>\n",
       "      <td>0.0</td>\n",
       "      <td>0.0</td>\n",
       "      <td>0.0</td>\n",
       "      <td>0.0</td>\n",
       "      <td>...</td>\n",
       "      <td>0.0</td>\n",
       "      <td>0.0</td>\n",
       "      <td>0.0</td>\n",
       "      <td>0.0</td>\n",
       "      <td>0.0</td>\n",
       "      <td>0.0</td>\n",
       "      <td>0.0</td>\n",
       "      <td>0.0</td>\n",
       "      <td>0.0</td>\n",
       "      <td>0.0</td>\n",
       "    </tr>\n",
       "    <tr>\n",
       "      <th>...</th>\n",
       "      <td>...</td>\n",
       "      <td>...</td>\n",
       "      <td>...</td>\n",
       "      <td>...</td>\n",
       "      <td>...</td>\n",
       "      <td>...</td>\n",
       "      <td>...</td>\n",
       "      <td>...</td>\n",
       "      <td>...</td>\n",
       "      <td>...</td>\n",
       "      <td>...</td>\n",
       "      <td>...</td>\n",
       "      <td>...</td>\n",
       "      <td>...</td>\n",
       "      <td>...</td>\n",
       "      <td>...</td>\n",
       "      <td>...</td>\n",
       "      <td>...</td>\n",
       "      <td>...</td>\n",
       "      <td>...</td>\n",
       "      <td>...</td>\n",
       "    </tr>\n",
       "    <tr>\n",
       "      <th>2021-12-31 23:59:10</th>\n",
       "      <td>2.0</td>\n",
       "      <td>2.0</td>\n",
       "      <td>2.0</td>\n",
       "      <td>0.0</td>\n",
       "      <td>0.0</td>\n",
       "      <td>0.0</td>\n",
       "      <td>0.0</td>\n",
       "      <td>2.0</td>\n",
       "      <td>2.0</td>\n",
       "      <td>0.0</td>\n",
       "      <td>...</td>\n",
       "      <td>2.0</td>\n",
       "      <td>0.0</td>\n",
       "      <td>0.0</td>\n",
       "      <td>0.0</td>\n",
       "      <td>0.0</td>\n",
       "      <td>2.0</td>\n",
       "      <td>2.0</td>\n",
       "      <td>2.0</td>\n",
       "      <td>0.0</td>\n",
       "      <td>0.0</td>\n",
       "    </tr>\n",
       "    <tr>\n",
       "      <th>2021-12-31 23:59:20</th>\n",
       "      <td>2.0</td>\n",
       "      <td>2.0</td>\n",
       "      <td>2.0</td>\n",
       "      <td>0.0</td>\n",
       "      <td>0.0</td>\n",
       "      <td>0.0</td>\n",
       "      <td>0.0</td>\n",
       "      <td>2.0</td>\n",
       "      <td>2.0</td>\n",
       "      <td>0.0</td>\n",
       "      <td>...</td>\n",
       "      <td>2.0</td>\n",
       "      <td>0.0</td>\n",
       "      <td>0.0</td>\n",
       "      <td>0.0</td>\n",
       "      <td>0.0</td>\n",
       "      <td>2.0</td>\n",
       "      <td>2.0</td>\n",
       "      <td>2.0</td>\n",
       "      <td>0.0</td>\n",
       "      <td>0.0</td>\n",
       "    </tr>\n",
       "    <tr>\n",
       "      <th>2021-12-31 23:59:30</th>\n",
       "      <td>2.0</td>\n",
       "      <td>2.0</td>\n",
       "      <td>2.0</td>\n",
       "      <td>0.0</td>\n",
       "      <td>0.0</td>\n",
       "      <td>0.0</td>\n",
       "      <td>0.0</td>\n",
       "      <td>2.0</td>\n",
       "      <td>2.0</td>\n",
       "      <td>0.0</td>\n",
       "      <td>...</td>\n",
       "      <td>2.0</td>\n",
       "      <td>0.0</td>\n",
       "      <td>0.0</td>\n",
       "      <td>0.0</td>\n",
       "      <td>0.0</td>\n",
       "      <td>2.0</td>\n",
       "      <td>2.0</td>\n",
       "      <td>2.0</td>\n",
       "      <td>0.0</td>\n",
       "      <td>0.0</td>\n",
       "    </tr>\n",
       "    <tr>\n",
       "      <th>2021-12-31 23:59:40</th>\n",
       "      <td>2.0</td>\n",
       "      <td>2.0</td>\n",
       "      <td>2.0</td>\n",
       "      <td>0.0</td>\n",
       "      <td>0.0</td>\n",
       "      <td>0.0</td>\n",
       "      <td>0.0</td>\n",
       "      <td>2.0</td>\n",
       "      <td>2.0</td>\n",
       "      <td>0.0</td>\n",
       "      <td>...</td>\n",
       "      <td>2.0</td>\n",
       "      <td>0.0</td>\n",
       "      <td>0.0</td>\n",
       "      <td>0.0</td>\n",
       "      <td>0.0</td>\n",
       "      <td>2.0</td>\n",
       "      <td>2.0</td>\n",
       "      <td>2.0</td>\n",
       "      <td>0.0</td>\n",
       "      <td>0.0</td>\n",
       "    </tr>\n",
       "    <tr>\n",
       "      <th>2021-12-31 23:59:50</th>\n",
       "      <td>2.0</td>\n",
       "      <td>2.0</td>\n",
       "      <td>2.0</td>\n",
       "      <td>0.0</td>\n",
       "      <td>0.0</td>\n",
       "      <td>0.0</td>\n",
       "      <td>0.0</td>\n",
       "      <td>2.0</td>\n",
       "      <td>2.0</td>\n",
       "      <td>0.0</td>\n",
       "      <td>...</td>\n",
       "      <td>2.0</td>\n",
       "      <td>0.0</td>\n",
       "      <td>0.0</td>\n",
       "      <td>0.0</td>\n",
       "      <td>0.0</td>\n",
       "      <td>2.0</td>\n",
       "      <td>2.0</td>\n",
       "      <td>2.0</td>\n",
       "      <td>0.0</td>\n",
       "      <td>0.0</td>\n",
       "    </tr>\n",
       "  </tbody>\n",
       "</table>\n",
       "<p>9335034 rows × 23 columns</p>\n",
       "</div>"
      ],
      "text/plain": [
       "                     Y_ЭКСГАУСТЕР А/М №4_ЭЛЕКТРОДВИГАТЕЛЬ ДСПУ-140-84-4 ЭКСГ. №4  \\\n",
       "DT                                                                                 \n",
       "2019-01-16 13:21:00                                                0.0             \n",
       "2019-01-16 13:21:10                                                0.0             \n",
       "2019-01-16 13:21:20                                                0.0             \n",
       "2019-01-16 13:21:30                                                0.0             \n",
       "2019-01-16 13:21:40                                                0.0             \n",
       "...                                                                ...             \n",
       "2021-12-31 23:59:10                                                2.0             \n",
       "2021-12-31 23:59:20                                                2.0             \n",
       "2021-12-31 23:59:30                                                2.0             \n",
       "2021-12-31 23:59:40                                                2.0             \n",
       "2021-12-31 23:59:50                                                2.0             \n",
       "\n",
       "                     Y_ЭКСГАУСТЕР А/М №4_ПОДШИПНИК ОПОРНЫЙ ЭКСГ. №4  \\\n",
       "DT                                                                    \n",
       "2019-01-16 13:21:00                                             0.0   \n",
       "2019-01-16 13:21:10                                             0.0   \n",
       "2019-01-16 13:21:20                                             0.0   \n",
       "2019-01-16 13:21:30                                             0.0   \n",
       "2019-01-16 13:21:40                                             0.0   \n",
       "...                                                             ...   \n",
       "2021-12-31 23:59:10                                             2.0   \n",
       "2021-12-31 23:59:20                                             2.0   \n",
       "2021-12-31 23:59:30                                             2.0   \n",
       "2021-12-31 23:59:40                                             2.0   \n",
       "2021-12-31 23:59:50                                             2.0   \n",
       "\n",
       "                     Y_ЭКСГАУСТЕР А/М №4_УЛИТА ЭКСГ. №4  \\\n",
       "DT                                                        \n",
       "2019-01-16 13:21:00                                 0.0   \n",
       "2019-01-16 13:21:10                                 0.0   \n",
       "2019-01-16 13:21:20                                 0.0   \n",
       "2019-01-16 13:21:30                                 0.0   \n",
       "2019-01-16 13:21:40                                 0.0   \n",
       "...                                                 ...   \n",
       "2021-12-31 23:59:10                                 2.0   \n",
       "2021-12-31 23:59:20                                 2.0   \n",
       "2021-12-31 23:59:30                                 2.0   \n",
       "2021-12-31 23:59:40                                 2.0   \n",
       "2021-12-31 23:59:50                                 2.0   \n",
       "\n",
       "                     Y_ЭКСГАУСТЕР А/М №4_РЕДУКТОР ГАЗ. ЗАДВИЖКИ ЭКСГ. №4  \\\n",
       "DT                                                                         \n",
       "2019-01-16 13:21:00                                                0.0     \n",
       "2019-01-16 13:21:10                                                0.0     \n",
       "2019-01-16 13:21:20                                                0.0     \n",
       "2019-01-16 13:21:30                                                0.0     \n",
       "2019-01-16 13:21:40                                                0.0     \n",
       "...                                                                ...     \n",
       "2021-12-31 23:59:10                                                0.0     \n",
       "2021-12-31 23:59:20                                                0.0     \n",
       "2021-12-31 23:59:30                                                0.0     \n",
       "2021-12-31 23:59:40                                                0.0     \n",
       "2021-12-31 23:59:50                                                0.0     \n",
       "\n",
       "                     Y_ЭКСГАУСТЕР А/М №4_МАСЛОНАСОС РАБОЧИЙ ЭКСГ. №4  \\\n",
       "DT                                                                     \n",
       "2019-01-16 13:21:00                                              0.0   \n",
       "2019-01-16 13:21:10                                              0.0   \n",
       "2019-01-16 13:21:20                                              0.0   \n",
       "2019-01-16 13:21:30                                              0.0   \n",
       "2019-01-16 13:21:40                                              0.0   \n",
       "...                                                              ...   \n",
       "2021-12-31 23:59:10                                              0.0   \n",
       "2021-12-31 23:59:20                                              0.0   \n",
       "2021-12-31 23:59:30                                              0.0   \n",
       "2021-12-31 23:59:40                                              0.0   \n",
       "2021-12-31 23:59:50                                              0.0   \n",
       "\n",
       "                     Y_ЭКСГАУСТЕР А/М №4_ЭЛЕКТРОАППАРАТУРА ЭКСГ. №4  \\\n",
       "DT                                                                    \n",
       "2019-01-16 13:21:00                                             0.0   \n",
       "2019-01-16 13:21:10                                             0.0   \n",
       "2019-01-16 13:21:20                                             0.0   \n",
       "2019-01-16 13:21:30                                             0.0   \n",
       "2019-01-16 13:21:40                                             0.0   \n",
       "...                                                             ...   \n",
       "2021-12-31 23:59:10                                             0.0   \n",
       "2021-12-31 23:59:20                                             0.0   \n",
       "2021-12-31 23:59:30                                             0.0   \n",
       "2021-12-31 23:59:40                                             0.0   \n",
       "2021-12-31 23:59:50                                             0.0   \n",
       "\n",
       "                     Y_ЭКСГАУСТЕР А/М №4_ПОДШИПНИК ОПОРНЫЙ №2 ЭКСГ. №4  \\\n",
       "DT                                                                       \n",
       "2019-01-16 13:21:00                                                0.0   \n",
       "2019-01-16 13:21:10                                                0.0   \n",
       "2019-01-16 13:21:20                                                0.0   \n",
       "2019-01-16 13:21:30                                                0.0   \n",
       "2019-01-16 13:21:40                                                0.0   \n",
       "...                                                                ...   \n",
       "2021-12-31 23:59:10                                                0.0   \n",
       "2021-12-31 23:59:20                                                0.0   \n",
       "2021-12-31 23:59:30                                                0.0   \n",
       "2021-12-31 23:59:40                                                0.0   \n",
       "2021-12-31 23:59:50                                                0.0   \n",
       "\n",
       "                     Y_ЭКСГАУСТЕР А/М №4_ЗАДВИЖКА ЭКСГ. №4  \\\n",
       "DT                                                           \n",
       "2019-01-16 13:21:00                                    0.0   \n",
       "2019-01-16 13:21:10                                    0.0   \n",
       "2019-01-16 13:21:20                                    0.0   \n",
       "2019-01-16 13:21:30                                    0.0   \n",
       "2019-01-16 13:21:40                                    0.0   \n",
       "...                                                    ...   \n",
       "2021-12-31 23:59:10                                    2.0   \n",
       "2021-12-31 23:59:20                                    2.0   \n",
       "2021-12-31 23:59:30                                    2.0   \n",
       "2021-12-31 23:59:40                                    2.0   \n",
       "2021-12-31 23:59:50                                    2.0   \n",
       "\n",
       "                     Y_ЭКСГАУСТЕР А/М №4_ГСМ ЭКСГ. №4  \\\n",
       "DT                                                      \n",
       "2019-01-16 13:21:00                               0.0   \n",
       "2019-01-16 13:21:10                               0.0   \n",
       "2019-01-16 13:21:20                               0.0   \n",
       "2019-01-16 13:21:30                               0.0   \n",
       "2019-01-16 13:21:40                               0.0   \n",
       "...                                               ...   \n",
       "2021-12-31 23:59:10                               2.0   \n",
       "2021-12-31 23:59:20                               2.0   \n",
       "2021-12-31 23:59:30                               2.0   \n",
       "2021-12-31 23:59:40                               2.0   \n",
       "2021-12-31 23:59:50                               2.0   \n",
       "\n",
       "                     Y_ЭКСГАУСТЕР А/М №4_ВК 310С ВИБРОПРЕОБРАЗОВАТЕЛЬ ЭКСГ.№4 Т.1  \\\n",
       "DT                                                                                  \n",
       "2019-01-16 13:21:00                                                0.0              \n",
       "2019-01-16 13:21:10                                                0.0              \n",
       "2019-01-16 13:21:20                                                0.0              \n",
       "2019-01-16 13:21:30                                                0.0              \n",
       "2019-01-16 13:21:40                                                0.0              \n",
       "...                                                                ...              \n",
       "2021-12-31 23:59:10                                                0.0              \n",
       "2021-12-31 23:59:20                                                0.0              \n",
       "2021-12-31 23:59:30                                                0.0              \n",
       "2021-12-31 23:59:40                                                0.0              \n",
       "2021-12-31 23:59:50                                                0.0              \n",
       "\n",
       "                     ...  \\\n",
       "DT                   ...   \n",
       "2019-01-16 13:21:00  ...   \n",
       "2019-01-16 13:21:10  ...   \n",
       "2019-01-16 13:21:20  ...   \n",
       "2019-01-16 13:21:30  ...   \n",
       "2019-01-16 13:21:40  ...   \n",
       "...                  ...   \n",
       "2021-12-31 23:59:10  ...   \n",
       "2021-12-31 23:59:20  ...   \n",
       "2021-12-31 23:59:30  ...   \n",
       "2021-12-31 23:59:40  ...   \n",
       "2021-12-31 23:59:50  ...   \n",
       "\n",
       "                     Y_ЭКСГАУСТЕР А/М №4_ПОДШИПНИК ОПОРНО-УПОРНЫЙ ЭКСГ. №4  \\\n",
       "DT                                                                           \n",
       "2019-01-16 13:21:00                                                0.0       \n",
       "2019-01-16 13:21:10                                                0.0       \n",
       "2019-01-16 13:21:20                                                0.0       \n",
       "2019-01-16 13:21:30                                                0.0       \n",
       "2019-01-16 13:21:40                                                0.0       \n",
       "...                                                                ...       \n",
       "2021-12-31 23:59:10                                                2.0       \n",
       "2021-12-31 23:59:20                                                2.0       \n",
       "2021-12-31 23:59:30                                                2.0       \n",
       "2021-12-31 23:59:40                                                2.0       \n",
       "2021-12-31 23:59:50                                                2.0       \n",
       "\n",
       "                     Y_ЭКСГАУСТЕР А/М №4_ЭКСГАУСТЕР А/М №4  \\\n",
       "DT                                                           \n",
       "2019-01-16 13:21:00                                    0.0   \n",
       "2019-01-16 13:21:10                                    0.0   \n",
       "2019-01-16 13:21:20                                    0.0   \n",
       "2019-01-16 13:21:30                                    0.0   \n",
       "2019-01-16 13:21:40                                    0.0   \n",
       "...                                                    ...   \n",
       "2021-12-31 23:59:10                                    0.0   \n",
       "2021-12-31 23:59:20                                    0.0   \n",
       "2021-12-31 23:59:30                                    0.0   \n",
       "2021-12-31 23:59:40                                    0.0   \n",
       "2021-12-31 23:59:50                                    0.0   \n",
       "\n",
       "                     Y_ЭКСГАУСТЕР А/М №4_ЗАП. И РЕГ. АРМАТУРА ЭКСГ.№4  \\\n",
       "DT                                                                      \n",
       "2019-01-16 13:21:00                                               0.0   \n",
       "2019-01-16 13:21:10                                               0.0   \n",
       "2019-01-16 13:21:20                                               0.0   \n",
       "2019-01-16 13:21:30                                               0.0   \n",
       "2019-01-16 13:21:40                                               0.0   \n",
       "...                                                               ...   \n",
       "2021-12-31 23:59:10                                               0.0   \n",
       "2021-12-31 23:59:20                                               0.0   \n",
       "2021-12-31 23:59:30                                               0.0   \n",
       "2021-12-31 23:59:40                                               0.0   \n",
       "2021-12-31 23:59:50                                               0.0   \n",
       "\n",
       "                     Y_ЭКСГАУСТЕР А/М №4_ПОДШИПНИК ОПОРНЫЙ №1 ЭКСГ. №4  \\\n",
       "DT                                                                       \n",
       "2019-01-16 13:21:00                                                0.0   \n",
       "2019-01-16 13:21:10                                                0.0   \n",
       "2019-01-16 13:21:20                                                0.0   \n",
       "2019-01-16 13:21:30                                                0.0   \n",
       "2019-01-16 13:21:40                                                0.0   \n",
       "...                                                                ...   \n",
       "2021-12-31 23:59:10                                                0.0   \n",
       "2021-12-31 23:59:20                                                0.0   \n",
       "2021-12-31 23:59:30                                                0.0   \n",
       "2021-12-31 23:59:40                                                0.0   \n",
       "2021-12-31 23:59:50                                                0.0   \n",
       "\n",
       "                     Y_ЭКСГАУСТЕР А/М №4_ЭЛ/ДВИГАТЕЛЬ ГАЗ. ЗАДВИЖКИ ЭКСГ. №4  \\\n",
       "DT                                                                             \n",
       "2019-01-16 13:21:00                                                0.0         \n",
       "2019-01-16 13:21:10                                                0.0         \n",
       "2019-01-16 13:21:20                                                0.0         \n",
       "2019-01-16 13:21:30                                                0.0         \n",
       "2019-01-16 13:21:40                                                0.0         \n",
       "...                                                                ...         \n",
       "2021-12-31 23:59:10                                                0.0         \n",
       "2021-12-31 23:59:20                                                0.0         \n",
       "2021-12-31 23:59:30                                                0.0         \n",
       "2021-12-31 23:59:40                                                0.0         \n",
       "2021-12-31 23:59:50                                                0.0         \n",
       "\n",
       "                     Y_ЭКСГАУСТЕР А/М №4_КЛ1 ТР№4 ДО ЭД ЭКСГАУСТЕРА №4  \\\n",
       "DT                                                                       \n",
       "2019-01-16 13:21:00                                                0.0   \n",
       "2019-01-16 13:21:10                                                0.0   \n",
       "2019-01-16 13:21:20                                                0.0   \n",
       "2019-01-16 13:21:30                                                0.0   \n",
       "2019-01-16 13:21:40                                                0.0   \n",
       "...                                                                ...   \n",
       "2021-12-31 23:59:10                                                2.0   \n",
       "2021-12-31 23:59:20                                                2.0   \n",
       "2021-12-31 23:59:30                                                2.0   \n",
       "2021-12-31 23:59:40                                                2.0   \n",
       "2021-12-31 23:59:50                                                2.0   \n",
       "\n",
       "                     Y_ЭКСГАУСТЕР А/М №4_КЛ2 ТР№4 ДО ЭД ЭКСГАУСТЕРА №4  \\\n",
       "DT                                                                       \n",
       "2019-01-16 13:21:00                                                0.0   \n",
       "2019-01-16 13:21:10                                                0.0   \n",
       "2019-01-16 13:21:20                                                0.0   \n",
       "2019-01-16 13:21:30                                                0.0   \n",
       "2019-01-16 13:21:40                                                0.0   \n",
       "...                                                                ...   \n",
       "2021-12-31 23:59:10                                                2.0   \n",
       "2021-12-31 23:59:20                                                2.0   \n",
       "2021-12-31 23:59:30                                                2.0   \n",
       "2021-12-31 23:59:40                                                2.0   \n",
       "2021-12-31 23:59:50                                                2.0   \n",
       "\n",
       "                     Y_ЭКСГАУСТЕР А/М №4_ТР-Р ТМ-4000-10/6 ЭКСГ. №4  \\\n",
       "DT                                                                    \n",
       "2019-01-16 13:21:00                                             0.0   \n",
       "2019-01-16 13:21:10                                             0.0   \n",
       "2019-01-16 13:21:20                                             0.0   \n",
       "2019-01-16 13:21:30                                             0.0   \n",
       "2019-01-16 13:21:40                                             0.0   \n",
       "...                                                             ...   \n",
       "2021-12-31 23:59:10                                             2.0   \n",
       "2021-12-31 23:59:20                                             2.0   \n",
       "2021-12-31 23:59:30                                             2.0   \n",
       "2021-12-31 23:59:40                                             2.0   \n",
       "2021-12-31 23:59:50                                             2.0   \n",
       "\n",
       "                     Y_ЭКСГАУСТЕР А/М №4_ТИРИСТ. ВОЗБУДИТЕЛЬ ВТ-РЭМ-400 ЭКСГ4 ВУ1  \\\n",
       "DT                                                                                  \n",
       "2019-01-16 13:21:00                                                0.0              \n",
       "2019-01-16 13:21:10                                                0.0              \n",
       "2019-01-16 13:21:20                                                0.0              \n",
       "2019-01-16 13:21:30                                                0.0              \n",
       "2019-01-16 13:21:40                                                0.0              \n",
       "...                                                                ...              \n",
       "2021-12-31 23:59:10                                                0.0              \n",
       "2021-12-31 23:59:20                                                0.0              \n",
       "2021-12-31 23:59:30                                                0.0              \n",
       "2021-12-31 23:59:40                                                0.0              \n",
       "2021-12-31 23:59:50                                                0.0              \n",
       "\n",
       "                     Y_ЭКСГАУСТЕР А/М №4_МАСЛОПРОВОДЫ ЭКСГ №4  \n",
       "DT                                                             \n",
       "2019-01-16 13:21:00                                       0.0  \n",
       "2019-01-16 13:21:10                                       0.0  \n",
       "2019-01-16 13:21:20                                       0.0  \n",
       "2019-01-16 13:21:30                                       0.0  \n",
       "2019-01-16 13:21:40                                       0.0  \n",
       "...                                                       ...  \n",
       "2021-12-31 23:59:10                                       0.0  \n",
       "2021-12-31 23:59:20                                       0.0  \n",
       "2021-12-31 23:59:30                                       0.0  \n",
       "2021-12-31 23:59:40                                       0.0  \n",
       "2021-12-31 23:59:50                                       0.0  \n",
       "\n",
       "[9335034 rows x 23 columns]"
      ]
     },
     "execution_count": 4,
     "metadata": {},
     "output_type": "execute_result"
    }
   ],
   "source": [
    "y_train = pd.read_csv(\"/kaggle/input/y-train-northsteel-instances/y_ЭКСГАУСТЕР АМ 4.csv\", parse_dates=True)\n",
    "y_train = y_train.set_index(\"DT\")\n",
    "y_train"
   ]
  },
  {
   "cell_type": "code",
   "execution_count": 5,
   "id": "1593b674",
   "metadata": {
    "execution": {
     "iopub.execute_input": "2023-05-28T20:22:19.616330Z",
     "iopub.status.busy": "2023-05-28T20:22:19.615640Z",
     "iopub.status.idle": "2023-05-28T20:22:24.584271Z",
     "shell.execute_reply": "2023-05-28T20:22:24.583042Z"
    },
    "papermill": {
     "duration": 4.978827,
     "end_time": "2023-05-28T20:22:24.586561",
     "exception": false,
     "start_time": "2023-05-28T20:22:19.607734",
     "status": "completed"
    },
    "tags": []
   },
   "outputs": [
    {
     "name": "stdout",
     "output_type": "stream",
     "text": [
      "Y_ЭКСГАУСТЕР А/М №4_ЭЛЕКТРОДВИГАТЕЛЬ ДСПУ-140-84-4 ЭКСГ. №4 M1 [0 1]\n",
      "Y_ЭКСГАУСТЕР А/М №4_ЭЛЕКТРОДВИГАТЕЛЬ ДСПУ-140-84-4 ЭКСГ. №4 M3 [0 1]\n",
      "Y_ЭКСГАУСТЕР А/М №4_ПОДШИПНИК ОПОРНЫЙ ЭКСГ. №4 M1 [0]\n",
      "Y_ЭКСГАУСТЕР А/М №4_ПОДШИПНИК ОПОРНЫЙ ЭКСГ. №4 M3 [0 1]\n",
      "Y_ЭКСГАУСТЕР А/М №4_УЛИТА ЭКСГ. №4 M1 [0]\n",
      "Y_ЭКСГАУСТЕР А/М №4_УЛИТА ЭКСГ. №4 M3 [0 1]\n",
      "Y_ЭКСГАУСТЕР А/М №4_РЕДУКТОР ГАЗ. ЗАДВИЖКИ ЭКСГ. №4 M1 [0 1]\n",
      "Y_ЭКСГАУСТЕР А/М №4_РЕДУКТОР ГАЗ. ЗАДВИЖКИ ЭКСГ. №4 M3 [0 1]\n",
      "Y_ЭКСГАУСТЕР А/М №4_МАСЛОНАСОС РАБОЧИЙ ЭКСГ. №4 M1 [0]\n",
      "Y_ЭКСГАУСТЕР А/М №4_МАСЛОНАСОС РАБОЧИЙ ЭКСГ. №4 M3 [0 1]\n",
      "Y_ЭКСГАУСТЕР А/М №4_ЭЛЕКТРОАППАРАТУРА ЭКСГ. №4 M1 [0 1]\n",
      "Y_ЭКСГАУСТЕР А/М №4_ЭЛЕКТРОАППАРАТУРА ЭКСГ. №4 M3 [0 1]\n",
      "Y_ЭКСГАУСТЕР А/М №4_ПОДШИПНИК ОПОРНЫЙ №2 ЭКСГ. №4 M1 [0 1]\n",
      "Y_ЭКСГАУСТЕР А/М №4_ПОДШИПНИК ОПОРНЫЙ №2 ЭКСГ. №4 M3 [0 1]\n",
      "Y_ЭКСГАУСТЕР А/М №4_ЗАДВИЖКА ЭКСГ. №4 M1 [0 1]\n",
      "Y_ЭКСГАУСТЕР А/М №4_ЗАДВИЖКА ЭКСГ. №4 M3 [0 1]\n",
      "Y_ЭКСГАУСТЕР А/М №4_ГСМ ЭКСГ. №4 M1 [0]\n",
      "Y_ЭКСГАУСТЕР А/М №4_ГСМ ЭКСГ. №4 M3 [0 1]\n",
      "Y_ЭКСГАУСТЕР А/М №4_ВК 310С ВИБРОПРЕОБРАЗОВАТЕЛЬ ЭКСГ.№4 Т.1 M1 [0]\n",
      "Y_ЭКСГАУСТЕР А/М №4_ВК 310С ВИБРОПРЕОБРАЗОВАТЕЛЬ ЭКСГ.№4 Т.1 M3 [0 1]\n",
      "Y_ЭКСГАУСТЕР А/М №4_ТСМТ-101-010-50М-400 ТЕРМОПР.ПОДШ.Т.1 M1 [0]\n",
      "Y_ЭКСГАУСТЕР А/М №4_ТСМТ-101-010-50М-400 ТЕРМОПР.ПОДШ.Т.1 M3 [0 1]\n",
      "Y_ЭКСГАУСТЕР А/М №4_РОТОР ЭКСГ. №4 M1 [0 1]\n",
      "Y_ЭКСГАУСТЕР А/М №4_РОТОР ЭКСГ. №4 M3 [0 1]\n",
      "Y_ЭКСГАУСТЕР А/М №4_МАСЛООХЛАДИТЕЛЬ  М-05-1 ЭКСГ. №4 M1 [0]\n",
      "Y_ЭКСГАУСТЕР А/М №4_МАСЛООХЛАДИТЕЛЬ  М-05-1 ЭКСГ. №4 M3 [0 1]\n",
      "Y_ЭКСГАУСТЕР А/М №4_ПОДШИПНИК ОПОРНО-УПОРНЫЙ ЭКСГ. №4 M1 [0 1]\n",
      "Y_ЭКСГАУСТЕР А/М №4_ПОДШИПНИК ОПОРНО-УПОРНЫЙ ЭКСГ. №4 M3 [0 1]\n",
      "Y_ЭКСГАУСТЕР А/М №4_ЭКСГАУСТЕР А/М №4 M1 [0 1]\n",
      "Y_ЭКСГАУСТЕР А/М №4_ЭКСГАУСТЕР А/М №4 M3 [0]\n",
      "Y_ЭКСГАУСТЕР А/М №4_ЗАП. И РЕГ. АРМАТУРА ЭКСГ.№4 M1 [0]\n",
      "Y_ЭКСГАУСТЕР А/М №4_ЗАП. И РЕГ. АРМАТУРА ЭКСГ.№4 M3 [0 1]\n",
      "Y_ЭКСГАУСТЕР А/М №4_ПОДШИПНИК ОПОРНЫЙ №1 ЭКСГ. №4 M1 [0]\n",
      "Y_ЭКСГАУСТЕР А/М №4_ПОДШИПНИК ОПОРНЫЙ №1 ЭКСГ. №4 M3 [0 1]\n",
      "Y_ЭКСГАУСТЕР А/М №4_ЭЛ/ДВИГАТЕЛЬ ГАЗ. ЗАДВИЖКИ ЭКСГ. №4 M1 [0]\n",
      "Y_ЭКСГАУСТЕР А/М №4_ЭЛ/ДВИГАТЕЛЬ ГАЗ. ЗАДВИЖКИ ЭКСГ. №4 M3 [0 1]\n",
      "Y_ЭКСГАУСТЕР А/М №4_КЛ1 ТР№4 ДО ЭД ЭКСГАУСТЕРА №4 M1 [0]\n",
      "Y_ЭКСГАУСТЕР А/М №4_КЛ1 ТР№4 ДО ЭД ЭКСГАУСТЕРА №4 M3 [0 1]\n",
      "Y_ЭКСГАУСТЕР А/М №4_КЛ2 ТР№4 ДО ЭД ЭКСГАУСТЕРА №4 M1 [0]\n",
      "Y_ЭКСГАУСТЕР А/М №4_КЛ2 ТР№4 ДО ЭД ЭКСГАУСТЕРА №4 M3 [0 1]\n",
      "Y_ЭКСГАУСТЕР А/М №4_ТР-Р ТМ-4000-10/6 ЭКСГ. №4 M1 [0]\n",
      "Y_ЭКСГАУСТЕР А/М №4_ТР-Р ТМ-4000-10/6 ЭКСГ. №4 M3 [0 1]\n",
      "Y_ЭКСГАУСТЕР А/М №4_ТИРИСТ. ВОЗБУДИТЕЛЬ ВТ-РЭМ-400 ЭКСГ4 ВУ1 M1 [0]\n",
      "Y_ЭКСГАУСТЕР А/М №4_ТИРИСТ. ВОЗБУДИТЕЛЬ ВТ-РЭМ-400 ЭКСГ4 ВУ1 M3 [0 1]\n",
      "Y_ЭКСГАУСТЕР А/М №4_МАСЛОПРОВОДЫ ЭКСГ №4 M1 [0]\n",
      "Y_ЭКСГАУСТЕР А/М №4_МАСЛОПРОВОДЫ ЭКСГ №4 M3 [0]\n"
     ]
    }
   ],
   "source": [
    "for col in y_train.columns:\n",
    "    if not ((col[-2:] == \"M1\") or (col[-2:] ==\"M3\")):\n",
    "        y_train[col+\" M1\"] = 1*(y_train[col]==1)\n",
    "        y_train[col+\" M3\"] = 1*(y_train[col]==2)\n",
    "        del y_train[col]\n",
    "for col in y_train.columns:\n",
    "    print(col, y_train[col].unique())"
   ]
  },
  {
   "cell_type": "code",
   "execution_count": 6,
   "id": "65621c72",
   "metadata": {
    "execution": {
     "iopub.execute_input": "2023-05-28T20:22:24.603487Z",
     "iopub.status.busy": "2023-05-28T20:22:24.603083Z",
     "iopub.status.idle": "2023-05-28T20:23:34.628863Z",
     "shell.execute_reply": "2023-05-28T20:23:34.627840Z"
    },
    "papermill": {
     "duration": 70.044991,
     "end_time": "2023-05-28T20:23:34.639179",
     "exception": false,
     "start_time": "2023-05-28T20:22:24.594188",
     "status": "completed"
    },
    "tags": []
   },
   "outputs": [
    {
     "data": {
      "text/plain": [
       "array([Timestamp('2019-01-16 13:21:00'), Timestamp('2019-01-16 13:21:10'),\n",
       "       Timestamp('2019-01-16 13:21:20'), ...,\n",
       "       Timestamp('2021-12-31 23:59:30'), Timestamp('2021-12-31 23:59:40'),\n",
       "       Timestamp('2021-12-31 23:59:50')], dtype=object)"
      ]
     },
     "execution_count": 6,
     "metadata": {},
     "output_type": "execute_result"
    }
   ],
   "source": [
    "for i,x in enumerate(y_train.index.values):\n",
    "    y_train.index.values[i] = pd.Timestamp(y_train.index.values[i])\n",
    "y_train.index.values"
   ]
  },
  {
   "cell_type": "code",
   "execution_count": 7,
   "id": "a307fe81",
   "metadata": {
    "execution": {
     "iopub.execute_input": "2023-05-28T20:23:34.656374Z",
     "iopub.status.busy": "2023-05-28T20:23:34.656025Z",
     "iopub.status.idle": "2023-05-28T20:24:49.277479Z",
     "shell.execute_reply": "2023-05-28T20:24:49.276472Z"
    },
    "papermill": {
     "duration": 74.632851,
     "end_time": "2023-05-28T20:24:49.279920",
     "exception": false,
     "start_time": "2023-05-28T20:23:34.647069",
     "status": "completed"
    },
    "tags": []
   },
   "outputs": [],
   "source": [
    "shifted = y_train.index.values+pd.Timedelta(minutes = 30)"
   ]
  },
  {
   "cell_type": "code",
   "execution_count": 8,
   "id": "2321dde5",
   "metadata": {
    "execution": {
     "iopub.execute_input": "2023-05-28T20:24:49.297723Z",
     "iopub.status.busy": "2023-05-28T20:24:49.297353Z",
     "iopub.status.idle": "2023-05-28T20:27:48.962550Z",
     "shell.execute_reply": "2023-05-28T20:27:48.961043Z"
    },
    "papermill": {
     "duration": 179.679646,
     "end_time": "2023-05-28T20:27:48.967889",
     "exception": false,
     "start_time": "2023-05-28T20:24:49.288243",
     "status": "completed"
    },
    "tags": []
   },
   "outputs": [],
   "source": [
    "\n",
    "index = sorted(set(shifted).intersection(X_train.index.values))\n",
    "y_train = y_train.loc[index]\n",
    "y_train = y_train.dropna()\n",
    "index = y_train.index.values\n",
    "X_train = X_train.loc[index]"
   ]
  },
  {
   "cell_type": "code",
   "execution_count": 9,
   "id": "b24d07a8",
   "metadata": {
    "execution": {
     "iopub.execute_input": "2023-05-28T20:27:48.987855Z",
     "iopub.status.busy": "2023-05-28T20:27:48.987468Z",
     "iopub.status.idle": "2023-05-28T20:27:48.994074Z",
     "shell.execute_reply": "2023-05-28T20:27:48.993206Z"
    },
    "papermill": {
     "duration": 0.0177,
     "end_time": "2023-05-28T20:27:48.996054",
     "exception": false,
     "start_time": "2023-05-28T20:27:48.978354",
     "status": "completed"
    },
    "tags": []
   },
   "outputs": [
    {
     "data": {
      "text/plain": [
       "array([Timestamp('2019-01-16 13:51:00'), Timestamp('2019-01-16 13:51:10'),\n",
       "       Timestamp('2019-01-16 13:51:20'), ...,\n",
       "       Timestamp('2022-01-01 00:29:30'), Timestamp('2022-01-01 00:29:40'),\n",
       "       Timestamp('2022-01-01 00:29:50')], dtype=object)"
      ]
     },
     "execution_count": 9,
     "metadata": {},
     "output_type": "execute_result"
    }
   ],
   "source": [
    "shifted"
   ]
  },
  {
   "cell_type": "code",
   "execution_count": 10,
   "id": "255a0d4e",
   "metadata": {
    "execution": {
     "iopub.execute_input": "2023-05-28T20:27:49.012736Z",
     "iopub.status.busy": "2023-05-28T20:27:49.012373Z",
     "iopub.status.idle": "2023-05-28T20:27:49.019480Z",
     "shell.execute_reply": "2023-05-28T20:27:49.018513Z"
    },
    "papermill": {
     "duration": 0.01797,
     "end_time": "2023-05-28T20:27:49.021601",
     "exception": false,
     "start_time": "2023-05-28T20:27:49.003631",
     "status": "completed"
    },
    "tags": []
   },
   "outputs": [
    {
     "data": {
      "text/plain": [
       "array([Timestamp('2019-01-16 13:51:00'), Timestamp('2019-01-16 13:51:10'),\n",
       "       Timestamp('2019-01-16 13:51:20'), ...,\n",
       "       Timestamp('2021-06-21 19:43:00'), Timestamp('2021-07-01 23:41:10'),\n",
       "       Timestamp('2021-09-17 14:14:30')], dtype=object)"
      ]
     },
     "execution_count": 10,
     "metadata": {},
     "output_type": "execute_result"
    }
   ],
   "source": [
    "X_train.index.values"
   ]
  },
  {
   "cell_type": "code",
   "execution_count": 11,
   "id": "9f4d5509",
   "metadata": {
    "execution": {
     "iopub.execute_input": "2023-05-28T20:27:49.039138Z",
     "iopub.status.busy": "2023-05-28T20:27:49.038767Z",
     "iopub.status.idle": "2023-05-28T20:27:49.043579Z",
     "shell.execute_reply": "2023-05-28T20:27:49.042613Z"
    },
    "papermill": {
     "duration": 0.015987,
     "end_time": "2023-05-28T20:27:49.045670",
     "exception": false,
     "start_time": "2023-05-28T20:27:49.029683",
     "status": "completed"
    },
    "tags": []
   },
   "outputs": [],
   "source": [
    "def featurize(df):\n",
    "    return df"
   ]
  },
  {
   "cell_type": "code",
   "execution_count": 12,
   "id": "58528aa4",
   "metadata": {
    "execution": {
     "iopub.execute_input": "2023-05-28T20:27:49.063048Z",
     "iopub.status.busy": "2023-05-28T20:27:49.062689Z",
     "iopub.status.idle": "2023-05-28T21:05:43.824110Z",
     "shell.execute_reply": "2023-05-28T21:05:43.823232Z"
    },
    "papermill": {
     "duration": 2274.77336,
     "end_time": "2023-05-28T21:05:43.826844",
     "exception": false,
     "start_time": "2023-05-28T20:27:49.053484",
     "status": "completed"
    },
    "tags": []
   },
   "outputs": [
    {
     "data": {
      "application/vnd.jupyter.widget-view+json": {
       "model_id": "09ec393f001c444c850ac3d6994fc5e9",
       "version_major": 2,
       "version_minor": 0
      },
      "text/plain": [
       "MetricVisualizer(layout=Layout(align_self='stretch', height='500px'))"
      ]
     },
     "metadata": {},
     "output_type": "display_data"
    },
    {
     "name": "stdout",
     "output_type": "stream",
     "text": [
      "0:\tlearn: 0.6613857\ttest: 0.6636034\tbest: 0.6636034 (0)\ttotal: 590ms\tremaining: 58.4s\n",
      "50:\tlearn: 0.1134345\ttest: 0.1136278\tbest: 0.1136278 (50)\ttotal: 21.3s\tremaining: 20.5s\n",
      "99:\tlearn: 0.0249754\ttest: 0.0250125\tbest: 0.0250125 (99)\ttotal: 41s\tremaining: 0us\n",
      "\n",
      "bestTest = 0.02501252159\n",
      "bestIteration = 99\n",
      "\n",
      "                                           0\n",
      "ТОК РОТОРА 1                        2.583562\n",
      "ТОК РОТОРА 2                        3.165067\n",
      "ТОК СТАТОРА                         0.756429\n",
      "ВИБРАЦИЯ НА ОПОРЕ 1                 3.479539\n",
      "ВИБРАЦИЯ НА ОПОРЕ 2                 3.957529\n",
      "ВИБРАЦИЯ НА ОПОРЕ 3                 3.207743\n",
      "ВИБРАЦИЯ НА ОПОРЕ 3. ПРОДОЛЬНАЯ     3.203188\n",
      "ВИБРАЦИЯ НА ОПОРЕ 4                 3.148576\n",
      "ВИБРАЦИЯ НА ОПОРЕ 4. ПРОДОЛЬНАЯ     5.654245\n",
      "ТЕМПЕРАТУРА ПОДШИПНИКА НА ОПОРЕ 1   5.632515\n",
      "ТЕМПЕРАТУРА ПОДШИПНИКА НА ОПОРЕ 2  18.113285\n",
      "ТЕМПЕРАТУРА ПОДШИПНИКА НА ОПОРЕ 3  34.359046\n",
      "ТЕМПЕРАТУРА ПОДШИПНИКА НА ОПОРЕ 4   1.906287\n",
      "ТЕМПЕРАТУРА МАСЛА В МАСЛОБЛОКЕ      3.370079\n",
      "ТЕМПЕРАТУРА МАСЛА В СИСТЕМЕ         3.477754\n",
      "ДАВЛЕНИЕ МАСЛА В СИСТЕМЕ            3.985153\n",
      "Y_ЭКСГАУСТЕР А/М №4_ЭЛЕКТРОДВИГАТЕЛЬ ДСПУ-140-84-4 ЭКСГ. №4 M1 None 0 0 0\n"
     ]
    },
    {
     "data": {
      "application/vnd.jupyter.widget-view+json": {
       "model_id": "1b367d3b918449a681df2b1214d5c8d0",
       "version_major": 2,
       "version_minor": 0
      },
      "text/plain": [
       "MetricVisualizer(layout=Layout(align_self='stretch', height='500px'))"
      ]
     },
     "metadata": {},
     "output_type": "display_data"
    },
    {
     "name": "stdout",
     "output_type": "stream",
     "text": [
      "0:\tlearn: 0.6719334\ttest: 0.6716685\tbest: 0.6716685 (0)\ttotal: 471ms\tremaining: 46.6s\n",
      "50:\tlearn: 0.2488741\ttest: 0.2455752\tbest: 0.2455752 (50)\ttotal: 21.6s\tremaining: 20.7s\n",
      "99:\tlearn: 0.1412827\ttest: 0.1365393\tbest: 0.1365393 (99)\ttotal: 41.8s\tremaining: 0us\n",
      "\n",
      "bestTest = 0.1365393143\n",
      "bestIteration = 99\n",
      "\n",
      "                                           0\n",
      "ТОК РОТОРА 1                        8.292084\n",
      "ТОК РОТОРА 2                       11.730617\n",
      "ТОК СТАТОРА                         1.531013\n",
      "ВИБРАЦИЯ НА ОПОРЕ 1                 0.631741\n",
      "ВИБРАЦИЯ НА ОПОРЕ 2                 1.072711\n",
      "ВИБРАЦИЯ НА ОПОРЕ 3                 2.842947\n",
      "ВИБРАЦИЯ НА ОПОРЕ 3. ПРОДОЛЬНАЯ     9.287861\n",
      "ВИБРАЦИЯ НА ОПОРЕ 4                 6.881600\n",
      "ВИБРАЦИЯ НА ОПОРЕ 4. ПРОДОЛЬНАЯ     5.963402\n",
      "ТЕМПЕРАТУРА ПОДШИПНИКА НА ОПОРЕ 1   2.171788\n",
      "ТЕМПЕРАТУРА ПОДШИПНИКА НА ОПОРЕ 2  13.362042\n",
      "ТЕМПЕРАТУРА ПОДШИПНИКА НА ОПОРЕ 3   1.655214\n",
      "ТЕМПЕРАТУРА ПОДШИПНИКА НА ОПОРЕ 4   0.616258\n",
      "ТЕМПЕРАТУРА МАСЛА В МАСЛОБЛОКЕ      0.000000\n",
      "ТЕМПЕРАТУРА МАСЛА В СИСТЕМЕ        24.928617\n",
      "ДАВЛЕНИЕ МАСЛА В СИСТЕМЕ            9.032105\n",
      "Y_ЭКСГАУСТЕР А/М №4_ЭЛЕКТРОДВИГАТЕЛЬ ДСПУ-140-84-4 ЭКСГ. №4 M3 0.9635866133445591 4578 41 132\n"
     ]
    },
    {
     "data": {
      "application/vnd.jupyter.widget-view+json": {
       "model_id": "b4cbcc5fed4741cd8c5a085b59c9aacc",
       "version_major": 2,
       "version_minor": 0
      },
      "text/plain": [
       "MetricVisualizer(layout=Layout(align_self='stretch', height='500px'))"
      ]
     },
     "metadata": {},
     "output_type": "display_data"
    },
    {
     "name": "stdout",
     "output_type": "stream",
     "text": [
      "0:\tlearn: 0.6743373\ttest: 0.6742992\tbest: 0.6742992 (0)\ttotal: 455ms\tremaining: 45.1s\n",
      "50:\tlearn: 0.2755281\ttest: 0.2689357\tbest: 0.2689357 (50)\ttotal: 20.9s\tremaining: 20.1s\n",
      "99:\tlearn: 0.1646458\ttest: 0.1552130\tbest: 0.1552130 (99)\ttotal: 41.7s\tremaining: 0us\n",
      "\n",
      "bestTest = 0.1552129865\n",
      "bestIteration = 99\n",
      "\n",
      "                                           0\n",
      "ТОК РОТОРА 1                        8.078212\n",
      "ТОК РОТОРА 2                        7.344703\n",
      "ТОК СТАТОРА                         2.230136\n",
      "ВИБРАЦИЯ НА ОПОРЕ 1                 0.343642\n",
      "ВИБРАЦИЯ НА ОПОРЕ 2                 1.555052\n",
      "ВИБРАЦИЯ НА ОПОРЕ 3                 0.729258\n",
      "ВИБРАЦИЯ НА ОПОРЕ 3. ПРОДОЛЬНАЯ     4.332374\n",
      "ВИБРАЦИЯ НА ОПОРЕ 4                 6.862417\n",
      "ВИБРАЦИЯ НА ОПОРЕ 4. ПРОДОЛЬНАЯ    14.988257\n",
      "ТЕМПЕРАТУРА ПОДШИПНИКА НА ОПОРЕ 1   4.895088\n",
      "ТЕМПЕРАТУРА ПОДШИПНИКА НА ОПОРЕ 2  14.778094\n",
      "ТЕМПЕРАТУРА ПОДШИПНИКА НА ОПОРЕ 3   4.445919\n",
      "ТЕМПЕРАТУРА ПОДШИПНИКА НА ОПОРЕ 4   0.000000\n",
      "ТЕМПЕРАТУРА МАСЛА В МАСЛОБЛОКЕ      0.083073\n",
      "ТЕМПЕРАТУРА МАСЛА В СИСТЕМЕ        20.396386\n",
      "ДАВЛЕНИЕ МАСЛА В СИСТЕМЕ            8.937390\n",
      "Y_ЭКСГАУСТЕР А/М №4_ПОДШИПНИК ОПОРНЫЙ ЭКСГ. №4 M3 0.9544851128389911 5033 152 88\n"
     ]
    },
    {
     "data": {
      "application/vnd.jupyter.widget-view+json": {
       "model_id": "51dd90bba3954ab9ae644dcffad02997",
       "version_major": 2,
       "version_minor": 0
      },
      "text/plain": [
       "MetricVisualizer(layout=Layout(align_self='stretch', height='500px'))"
      ]
     },
     "metadata": {},
     "output_type": "display_data"
    },
    {
     "name": "stdout",
     "output_type": "stream",
     "text": [
      "0:\tlearn: 0.6659040\ttest: 0.6672177\tbest: 0.6672177 (0)\ttotal: 471ms\tremaining: 46.6s\n",
      "50:\tlearn: 0.1734641\ttest: 0.1670028\tbest: 0.1670028 (50)\ttotal: 23.9s\tremaining: 23s\n",
      "99:\tlearn: 0.0799671\ttest: 0.0737526\tbest: 0.0737526 (99)\ttotal: 45.5s\tremaining: 0us\n",
      "\n",
      "bestTest = 0.07375263228\n",
      "bestIteration = 99\n",
      "\n",
      "                                           0\n",
      "ТОК РОТОРА 1                        1.360483\n",
      "ТОК РОТОРА 2                        1.658675\n",
      "ТОК СТАТОРА                         0.631397\n",
      "ВИБРАЦИЯ НА ОПОРЕ 1                18.695561\n",
      "ВИБРАЦИЯ НА ОПОРЕ 2                 1.059679\n",
      "ВИБРАЦИЯ НА ОПОРЕ 3                 2.518961\n",
      "ВИБРАЦИЯ НА ОПОРЕ 3. ПРОДОЛЬНАЯ    11.390667\n",
      "ВИБРАЦИЯ НА ОПОРЕ 4                 5.868950\n",
      "ВИБРАЦИЯ НА ОПОРЕ 4. ПРОДОЛЬНАЯ    29.948304\n",
      "ТЕМПЕРАТУРА ПОДШИПНИКА НА ОПОРЕ 1   1.947293\n",
      "ТЕМПЕРАТУРА ПОДШИПНИКА НА ОПОРЕ 2   1.303703\n",
      "ТЕМПЕРАТУРА ПОДШИПНИКА НА ОПОРЕ 3   0.158341\n",
      "ТЕМПЕРАТУРА ПОДШИПНИКА НА ОПОРЕ 4   4.359861\n",
      "ТЕМПЕРАТУРА МАСЛА В МАСЛОБЛОКЕ      0.828349\n",
      "ТЕМПЕРАТУРА МАСЛА В СИСТЕМЕ         2.726945\n",
      "ДАВЛЕНИЕ МАСЛА В СИСТЕМЕ           15.542830\n",
      "Y_ЭКСГАУСТЕР А/М №4_УЛИТА ЭКСГ. №4 M3 0.9824482448244825 8732 120 36\n"
     ]
    },
    {
     "data": {
      "application/vnd.jupyter.widget-view+json": {
       "model_id": "3bcafd09e1ed4a979c6aac5464ef11a8",
       "version_major": 2,
       "version_minor": 0
      },
      "text/plain": [
       "MetricVisualizer(layout=Layout(align_self='stretch', height='500px'))"
      ]
     },
     "metadata": {},
     "output_type": "display_data"
    },
    {
     "name": "stdout",
     "output_type": "stream",
     "text": [
      "0:\tlearn: 0.6731372\ttest: 0.6730511\tbest: 0.6730511 (0)\ttotal: 411ms\tremaining: 40.7s\n",
      "50:\tlearn: 0.2477592\ttest: 0.2619827\tbest: 0.2619827 (50)\ttotal: 21.1s\tremaining: 20.3s\n",
      "99:\tlearn: 0.1531664\ttest: 0.1629390\tbest: 0.1629390 (99)\ttotal: 40.4s\tremaining: 0us\n",
      "\n",
      "bestTest = 0.1629390319\n",
      "bestIteration = 99\n",
      "\n",
      "                                           0\n",
      "ТОК РОТОРА 1                       20.718953\n",
      "ТОК РОТОРА 2                       23.412089\n",
      "ТОК СТАТОРА                         0.304697\n",
      "ВИБРАЦИЯ НА ОПОРЕ 1                11.422071\n",
      "ВИБРАЦИЯ НА ОПОРЕ 2                 3.018162\n",
      "ВИБРАЦИЯ НА ОПОРЕ 3                 0.907400\n",
      "ВИБРАЦИЯ НА ОПОРЕ 3. ПРОДОЛЬНАЯ     5.436222\n",
      "ВИБРАЦИЯ НА ОПОРЕ 4                 3.793971\n",
      "ВИБРАЦИЯ НА ОПОРЕ 4. ПРОДОЛЬНАЯ     3.750449\n",
      "ТЕМПЕРАТУРА ПОДШИПНИКА НА ОПОРЕ 1   8.452756\n",
      "ТЕМПЕРАТУРА ПОДШИПНИКА НА ОПОРЕ 2   1.971582\n",
      "ТЕМПЕРАТУРА ПОДШИПНИКА НА ОПОРЕ 3   0.335820\n",
      "ТЕМПЕРАТУРА ПОДШИПНИКА НА ОПОРЕ 4   1.588239\n",
      "ТЕМПЕРАТУРА МАСЛА В МАСЛОБЛОКЕ      0.030239\n",
      "ТЕМПЕРАТУРА МАСЛА В СИСТЕМЕ         6.779893\n",
      "ДАВЛЕНИЕ МАСЛА В СИСТЕМЕ            8.077456\n",
      "Y_ЭКСГАУСТЕР А/М №4_РЕДУКТОР ГАЗ. ЗАДВИЖКИ ЭКСГ. №4 M3 0.9430346970481616 7284 275 165\n"
     ]
    },
    {
     "data": {
      "application/vnd.jupyter.widget-view+json": {
       "model_id": "486654cb96f943a8acd93174aad44097",
       "version_major": 2,
       "version_minor": 0
      },
      "text/plain": [
       "MetricVisualizer(layout=Layout(align_self='stretch', height='500px'))"
      ]
     },
     "metadata": {},
     "output_type": "display_data"
    },
    {
     "name": "stdout",
     "output_type": "stream",
     "text": [
      "0:\tlearn: 0.6636070\ttest: 0.6655073\tbest: 0.6655073 (0)\ttotal: 454ms\tremaining: 45s\n",
      "50:\tlearn: 0.1440555\ttest: 0.1453671\tbest: 0.1453671 (50)\ttotal: 22.6s\tremaining: 21.7s\n",
      "99:\tlearn: 0.0492861\ttest: 0.0522823\tbest: 0.0522823 (99)\ttotal: 45.1s\tremaining: 0us\n",
      "\n",
      "bestTest = 0.05228234011\n",
      "bestIteration = 99\n",
      "\n",
      "                                           0\n",
      "ТОК РОТОРА 1                       10.364643\n",
      "ТОК РОТОРА 2                       15.448750\n",
      "ТОК СТАТОРА                         0.000000\n",
      "ВИБРАЦИЯ НА ОПОРЕ 1                 1.496686\n",
      "ВИБРАЦИЯ НА ОПОРЕ 2                 1.172834\n",
      "ВИБРАЦИЯ НА ОПОРЕ 3                11.122570\n",
      "ВИБРАЦИЯ НА ОПОРЕ 3. ПРОДОЛЬНАЯ     1.267828\n",
      "ВИБРАЦИЯ НА ОПОРЕ 4                 2.465534\n",
      "ВИБРАЦИЯ НА ОПОРЕ 4. ПРОДОЛЬНАЯ    12.834572\n",
      "ТЕМПЕРАТУРА ПОДШИПНИКА НА ОПОРЕ 1  11.203205\n",
      "ТЕМПЕРАТУРА ПОДШИПНИКА НА ОПОРЕ 2   0.107158\n",
      "ТЕМПЕРАТУРА ПОДШИПНИКА НА ОПОРЕ 3   0.642572\n",
      "ТЕМПЕРАТУРА ПОДШИПНИКА НА ОПОРЕ 4   4.137468\n",
      "ТЕМПЕРАТУРА МАСЛА В МАСЛОБЛОКЕ      0.043909\n",
      "ТЕМПЕРАТУРА МАСЛА В СИСТЕМЕ         1.112684\n",
      "ДАВЛЕНИЕ МАСЛА В СИСТЕМЕ           26.579585\n",
      "Y_ЭКСГАУСТЕР А/М №4_МАСЛОНАСОС РАБОЧИЙ ЭКСГ. №4 M3 0.9544609665427509 1027 1 48\n"
     ]
    },
    {
     "data": {
      "application/vnd.jupyter.widget-view+json": {
       "model_id": "64d2a346216343f39d12646d02ae3008",
       "version_major": 2,
       "version_minor": 0
      },
      "text/plain": [
       "MetricVisualizer(layout=Layout(align_self='stretch', height='500px'))"
      ]
     },
     "metadata": {},
     "output_type": "display_data"
    },
    {
     "name": "stdout",
     "output_type": "stream",
     "text": [
      "0:\tlearn: 0.6613807\ttest: 0.6635994\tbest: 0.6635994 (0)\ttotal: 420ms\tremaining: 41.5s\n",
      "50:\tlearn: 0.1133351\ttest: 0.1135629\tbest: 0.1135629 (50)\ttotal: 21.4s\tremaining: 20.6s\n",
      "99:\tlearn: 0.0249529\ttest: 0.0249856\tbest: 0.0249856 (99)\ttotal: 41.7s\tremaining: 0us\n",
      "\n",
      "bestTest = 0.02498561259\n",
      "bestIteration = 99\n",
      "\n",
      "                                          0\n",
      "ТОК РОТОРА 1                       4.108466\n",
      "ТОК РОТОРА 2                       3.114435\n",
      "ТОК СТАТОРА                        4.405613\n",
      "ВИБРАЦИЯ НА ОПОРЕ 1                6.651507\n",
      "ВИБРАЦИЯ НА ОПОРЕ 2                8.611705\n",
      "ВИБРАЦИЯ НА ОПОРЕ 3                6.709782\n",
      "ВИБРАЦИЯ НА ОПОРЕ 3. ПРОДОЛЬНАЯ    8.617015\n",
      "ВИБРАЦИЯ НА ОПОРЕ 4                8.301721\n",
      "ВИБРАЦИЯ НА ОПОРЕ 4. ПРОДОЛЬНАЯ    9.355736\n",
      "ТЕМПЕРАТУРА ПОДШИПНИКА НА ОПОРЕ 1  5.236896\n",
      "ТЕМПЕРАТУРА ПОДШИПНИКА НА ОПОРЕ 2  7.004656\n",
      "ТЕМПЕРАТУРА ПОДШИПНИКА НА ОПОРЕ 3  4.691101\n",
      "ТЕМПЕРАТУРА ПОДШИПНИКА НА ОПОРЕ 4  5.542937\n",
      "ТЕМПЕРАТУРА МАСЛА В МАСЛОБЛОКЕ     4.573047\n",
      "ТЕМПЕРАТУРА МАСЛА В СИСТЕМЕ        5.740049\n",
      "ДАВЛЕНИЕ МАСЛА В СИСТЕМЕ           7.335334\n",
      "Y_ЭКСГАУСТЕР А/М №4_ЭЛЕКТРОАППАРАТУРА ЭКСГ. №4 M1 None 0 0 0\n"
     ]
    },
    {
     "data": {
      "application/vnd.jupyter.widget-view+json": {
       "model_id": "696525ca460c444b8a99f120ae9cebf2",
       "version_major": 2,
       "version_minor": 0
      },
      "text/plain": [
       "MetricVisualizer(layout=Layout(align_self='stretch', height='500px'))"
      ]
     },
     "metadata": {},
     "output_type": "display_data"
    },
    {
     "name": "stdout",
     "output_type": "stream",
     "text": [
      "0:\tlearn: 0.6635434\ttest: 0.6646924\tbest: 0.6646924 (0)\ttotal: 330ms\tremaining: 32.7s\n",
      "50:\tlearn: 0.1333092\ttest: 0.1299028\tbest: 0.1299028 (50)\ttotal: 17.5s\tremaining: 16.8s\n",
      "99:\tlearn: 0.0415527\ttest: 0.0379240\tbest: 0.0379240 (99)\ttotal: 34.6s\tremaining: 0us\n",
      "\n",
      "bestTest = 0.03792402733\n",
      "bestIteration = 99\n",
      "\n",
      "                                           0\n",
      "ТОК РОТОРА 1                       30.137441\n",
      "ТОК РОТОРА 2                       36.125541\n",
      "ТОК СТАТОРА                         0.000000\n",
      "ВИБРАЦИЯ НА ОПОРЕ 1                 0.271829\n",
      "ВИБРАЦИЯ НА ОПОРЕ 2                 0.968796\n",
      "ВИБРАЦИЯ НА ОПОРЕ 3                 1.171220\n",
      "ВИБРАЦИЯ НА ОПОРЕ 3. ПРОДОЛЬНАЯ     6.359730\n",
      "ВИБРАЦИЯ НА ОПОРЕ 4                 5.715050\n",
      "ВИБРАЦИЯ НА ОПОРЕ 4. ПРОДОЛЬНАЯ    10.260817\n",
      "ТЕМПЕРАТУРА ПОДШИПНИКА НА ОПОРЕ 1   0.000000\n",
      "ТЕМПЕРАТУРА ПОДШИПНИКА НА ОПОРЕ 2   0.048173\n",
      "ТЕМПЕРАТУРА ПОДШИПНИКА НА ОПОРЕ 3   0.000000\n",
      "ТЕМПЕРАТУРА ПОДШИПНИКА НА ОПОРЕ 4   0.339499\n",
      "ТЕМПЕРАТУРА МАСЛА В МАСЛОБЛОКЕ      0.296629\n",
      "ТЕМПЕРАТУРА МАСЛА В СИСТЕМЕ         3.823874\n",
      "ДАВЛЕНИЕ МАСЛА В СИСТЕМЕ            4.481402\n",
      "Y_ЭКСГАУСТЕР А/М №4_ЭЛЕКТРОАППАРАТУРА ЭКСГ. №4 M3 0.9725050916496945 955 2 25\n"
     ]
    },
    {
     "data": {
      "application/vnd.jupyter.widget-view+json": {
       "model_id": "9fd42447b273413eaec3ea27db8bd186",
       "version_major": 2,
       "version_minor": 0
      },
      "text/plain": [
       "MetricVisualizer(layout=Layout(align_self='stretch', height='500px'))"
      ]
     },
     "metadata": {},
     "output_type": "display_data"
    },
    {
     "name": "stdout",
     "output_type": "stream",
     "text": [
      "0:\tlearn: 0.6613806\ttest: 0.6635996\tbest: 0.6635996 (0)\ttotal: 425ms\tremaining: 42.1s\n",
      "50:\tlearn: 0.1133367\ttest: 0.1135746\tbest: 0.1135746 (50)\ttotal: 20.9s\tremaining: 20.1s\n",
      "99:\tlearn: 0.0249490\ttest: 0.0249911\tbest: 0.0249911 (99)\ttotal: 41.3s\tremaining: 0us\n",
      "\n",
      "bestTest = 0.02499113043\n",
      "bestIteration = 99\n",
      "\n",
      "                                           0\n",
      "ТОК РОТОРА 1                        2.523257\n",
      "ТОК РОТОРА 2                        8.808836\n",
      "ТОК СТАТОРА                         8.765715\n",
      "ВИБРАЦИЯ НА ОПОРЕ 1                10.448991\n",
      "ВИБРАЦИЯ НА ОПОРЕ 2                 5.620099\n",
      "ВИБРАЦИЯ НА ОПОРЕ 3                 4.701254\n",
      "ВИБРАЦИЯ НА ОПОРЕ 3. ПРОДОЛЬНАЯ     6.465969\n",
      "ВИБРАЦИЯ НА ОПОРЕ 4                 5.249622\n",
      "ВИБРАЦИЯ НА ОПОРЕ 4. ПРОДОЛЬНАЯ     6.671654\n",
      "ТЕМПЕРАТУРА ПОДШИПНИКА НА ОПОРЕ 1  11.649438\n",
      "ТЕМПЕРАТУРА ПОДШИПНИКА НА ОПОРЕ 2   4.959738\n",
      "ТЕМПЕРАТУРА ПОДШИПНИКА НА ОПОРЕ 3   3.213761\n",
      "ТЕМПЕРАТУРА ПОДШИПНИКА НА ОПОРЕ 4   9.623121\n",
      "ТЕМПЕРАТУРА МАСЛА В МАСЛОБЛОКЕ      3.205464\n",
      "ТЕМПЕРАТУРА МАСЛА В СИСТЕМЕ         3.790025\n",
      "ДАВЛЕНИЕ МАСЛА В СИСТЕМЕ            4.303054\n",
      "Y_ЭКСГАУСТЕР А/М №4_ПОДШИПНИК ОПОРНЫЙ №2 ЭКСГ. №4 M1 None 0 0 0\n"
     ]
    },
    {
     "data": {
      "application/vnd.jupyter.widget-view+json": {
       "model_id": "167a81f8825b43d1b7e658c3dc9a2d56",
       "version_major": 2,
       "version_minor": 0
      },
      "text/plain": [
       "MetricVisualizer(layout=Layout(align_self='stretch', height='500px'))"
      ]
     },
     "metadata": {},
     "output_type": "display_data"
    },
    {
     "name": "stdout",
     "output_type": "stream",
     "text": [
      "0:\tlearn: 0.6696010\ttest: 0.6681274\tbest: 0.6681274 (0)\ttotal: 461ms\tremaining: 45.6s\n",
      "50:\tlearn: 0.1709853\ttest: 0.1613392\tbest: 0.1613392 (50)\ttotal: 22.3s\tremaining: 21.5s\n",
      "99:\tlearn: 0.0807604\ttest: 0.0704695\tbest: 0.0704695 (99)\ttotal: 42s\tremaining: 0us\n",
      "\n",
      "bestTest = 0.07046954467\n",
      "bestIteration = 99\n",
      "\n",
      "                                           0\n",
      "ТОК РОТОРА 1                        7.550660\n",
      "ТОК РОТОРА 2                       10.011978\n",
      "ТОК СТАТОРА                         0.063170\n",
      "ВИБРАЦИЯ НА ОПОРЕ 1                 3.456878\n",
      "ВИБРАЦИЯ НА ОПОРЕ 2                 3.279135\n",
      "ВИБРАЦИЯ НА ОПОРЕ 3                18.765942\n",
      "ВИБРАЦИЯ НА ОПОРЕ 3. ПРОДОЛЬНАЯ     3.415745\n",
      "ВИБРАЦИЯ НА ОПОРЕ 4                 0.000000\n",
      "ВИБРАЦИЯ НА ОПОРЕ 4. ПРОДОЛЬНАЯ     2.485160\n",
      "ТЕМПЕРАТУРА ПОДШИПНИКА НА ОПОРЕ 1   0.663483\n",
      "ТЕМПЕРАТУРА ПОДШИПНИКА НА ОПОРЕ 2  21.918645\n",
      "ТЕМПЕРАТУРА ПОДШИПНИКА НА ОПОРЕ 3   1.859360\n",
      "ТЕМПЕРАТУРА ПОДШИПНИКА НА ОПОРЕ 4   0.000000\n",
      "ТЕМПЕРАТУРА МАСЛА В МАСЛОБЛОКЕ      0.105013\n",
      "ТЕМПЕРАТУРА МАСЛА В СИСТЕМЕ         9.805158\n",
      "ДАВЛЕНИЕ МАСЛА В СИСТЕМЕ           16.619672\n",
      "Y_ЭКСГАУСТЕР А/М №4_ПОДШИПНИК ОПОРНЫЙ №2 ЭКСГ. №4 M3 0.9393501805054152 1301 9 75\n"
     ]
    },
    {
     "data": {
      "application/vnd.jupyter.widget-view+json": {
       "model_id": "1ddae41ef28d47788584643e88022b63",
       "version_major": 2,
       "version_minor": 0
      },
      "text/plain": [
       "MetricVisualizer(layout=Layout(align_self='stretch', height='500px'))"
      ]
     },
     "metadata": {},
     "output_type": "display_data"
    },
    {
     "name": "stdout",
     "output_type": "stream",
     "text": [
      "0:\tlearn: 0.6613946\ttest: 0.6636086\tbest: 0.6636086 (0)\ttotal: 418ms\tremaining: 41.4s\n",
      "50:\tlearn: 0.1137135\ttest: 0.1136800\tbest: 0.1136800 (50)\ttotal: 21.4s\tremaining: 20.5s\n",
      "99:\tlearn: 0.0252973\ttest: 0.0250843\tbest: 0.0250843 (99)\ttotal: 40.8s\tremaining: 0us\n",
      "\n",
      "bestTest = 0.02508426634\n",
      "bestIteration = 99\n",
      "\n",
      "                                           0\n",
      "ТОК РОТОРА 1                        5.563343\n",
      "ТОК РОТОРА 2                        7.967898\n",
      "ТОК СТАТОРА                         2.882598\n",
      "ВИБРАЦИЯ НА ОПОРЕ 1                 4.596433\n",
      "ВИБРАЦИЯ НА ОПОРЕ 2                 1.136283\n",
      "ВИБРАЦИЯ НА ОПОРЕ 3                 2.004479\n",
      "ВИБРАЦИЯ НА ОПОРЕ 3. ПРОДОЛЬНАЯ     4.954137\n",
      "ВИБРАЦИЯ НА ОПОРЕ 4                 4.385976\n",
      "ВИБРАЦИЯ НА ОПОРЕ 4. ПРОДОЛЬНАЯ     2.155160\n",
      "ТЕМПЕРАТУРА ПОДШИПНИКА НА ОПОРЕ 1   4.213320\n",
      "ТЕМПЕРАТУРА ПОДШИПНИКА НА ОПОРЕ 2   2.462042\n",
      "ТЕМПЕРАТУРА ПОДШИПНИКА НА ОПОРЕ 3   2.145052\n",
      "ТЕМПЕРАТУРА ПОДШИПНИКА НА ОПОРЕ 4   6.690979\n",
      "ТЕМПЕРАТУРА МАСЛА В МАСЛОБЛОКЕ      3.365901\n",
      "ТЕМПЕРАТУРА МАСЛА В СИСТЕМЕ        17.841453\n",
      "ДАВЛЕНИЕ МАСЛА В СИСТЕМЕ           27.634947\n",
      "Y_ЭКСГАУСТЕР А/М №4_ЗАДВИЖКА ЭКСГ. №4 M1 0.0 0 0 1\n"
     ]
    },
    {
     "data": {
      "application/vnd.jupyter.widget-view+json": {
       "model_id": "894366f756a041df8a00fbfef648d932",
       "version_major": 2,
       "version_minor": 0
      },
      "text/plain": [
       "MetricVisualizer(layout=Layout(align_self='stretch', height='500px'))"
      ]
     },
     "metadata": {},
     "output_type": "display_data"
    },
    {
     "name": "stdout",
     "output_type": "stream",
     "text": [
      "0:\tlearn: 0.6698964\ttest: 0.6697990\tbest: 0.6697990 (0)\ttotal: 454ms\tremaining: 45s\n",
      "50:\tlearn: 0.2107770\ttest: 0.2072502\tbest: 0.2072502 (50)\ttotal: 20.9s\tremaining: 20.1s\n",
      "99:\tlearn: 0.1169692\ttest: 0.1124695\tbest: 0.1124695 (99)\ttotal: 41.7s\tremaining: 0us\n",
      "\n",
      "bestTest = 0.1124694886\n",
      "bestIteration = 99\n",
      "\n",
      "                                           0\n",
      "ТОК РОТОРА 1                        2.571659\n",
      "ТОК РОТОРА 2                        3.356304\n",
      "ТОК СТАТОРА                         0.997509\n",
      "ВИБРАЦИЯ НА ОПОРЕ 1                 2.075204\n",
      "ВИБРАЦИЯ НА ОПОРЕ 2                 1.146061\n",
      "ВИБРАЦИЯ НА ОПОРЕ 3                 5.366996\n",
      "ВИБРАЦИЯ НА ОПОРЕ 3. ПРОДОЛЬНАЯ    12.171583\n",
      "ВИБРАЦИЯ НА ОПОРЕ 4                 4.227463\n",
      "ВИБРАЦИЯ НА ОПОРЕ 4. ПРОДОЛЬНАЯ    19.190135\n",
      "ТЕМПЕРАТУРА ПОДШИПНИКА НА ОПОРЕ 1   6.995476\n",
      "ТЕМПЕРАТУРА ПОДШИПНИКА НА ОПОРЕ 2   6.288595\n",
      "ТЕМПЕРАТУРА ПОДШИПНИКА НА ОПОРЕ 3   1.729265\n",
      "ТЕМПЕРАТУРА ПОДШИПНИКА НА ОПОРЕ 4   1.171425\n",
      "ТЕМПЕРАТУРА МАСЛА В МАСЛОБЛОКЕ      1.603576\n",
      "ТЕМПЕРАТУРА МАСЛА В СИСТЕМЕ         2.784713\n",
      "ДАВЛЕНИЕ МАСЛА В СИСТЕМЕ           28.324036\n",
      "Y_ЭКСГАУСТЕР А/М №4_ЗАДВИЖКА ЭКСГ. №4 M3 0.7641277641277642 933 88 200\n"
     ]
    },
    {
     "data": {
      "application/vnd.jupyter.widget-view+json": {
       "model_id": "c5560c3730cb4447838928f4e8d6eaa0",
       "version_major": 2,
       "version_minor": 0
      },
      "text/plain": [
       "MetricVisualizer(layout=Layout(align_self='stretch', height='500px'))"
      ]
     },
     "metadata": {},
     "output_type": "display_data"
    },
    {
     "name": "stdout",
     "output_type": "stream",
     "text": [
      "0:\tlearn: 0.6692339\ttest: 0.6681638\tbest: 0.6681638 (0)\ttotal: 347ms\tremaining: 34.3s\n",
      "50:\tlearn: 0.1960610\ttest: 0.1923909\tbest: 0.1923909 (50)\ttotal: 18.8s\tremaining: 18.1s\n",
      "99:\tlearn: 0.1050338\ttest: 0.0982768\tbest: 0.0982768 (99)\ttotal: 37.1s\tremaining: 0us\n",
      "\n",
      "bestTest = 0.0982768228\n",
      "bestIteration = 99\n",
      "\n",
      "                                           0\n",
      "ТОК РОТОРА 1                        5.255229\n",
      "ТОК РОТОРА 2                        5.504453\n",
      "ТОК СТАТОРА                         0.752539\n",
      "ВИБРАЦИЯ НА ОПОРЕ 1                 9.326588\n",
      "ВИБРАЦИЯ НА ОПОРЕ 2                 1.339467\n",
      "ВИБРАЦИЯ НА ОПОРЕ 3                10.789550\n",
      "ВИБРАЦИЯ НА ОПОРЕ 3. ПРОДОЛЬНАЯ    16.717348\n",
      "ВИБРАЦИЯ НА ОПОРЕ 4                11.316062\n",
      "ВИБРАЦИЯ НА ОПОРЕ 4. ПРОДОЛЬНАЯ    15.299301\n",
      "ТЕМПЕРАТУРА ПОДШИПНИКА НА ОПОРЕ 1   7.067056\n",
      "ТЕМПЕРАТУРА ПОДШИПНИКА НА ОПОРЕ 2   1.000813\n",
      "ТЕМПЕРАТУРА ПОДШИПНИКА НА ОПОРЕ 3   5.219542\n",
      "ТЕМПЕРАТУРА ПОДШИПНИКА НА ОПОРЕ 4   2.424499\n",
      "ТЕМПЕРАТУРА МАСЛА В МАСЛОБЛОКЕ      0.000000\n",
      "ТЕМПЕРАТУРА МАСЛА В СИСТЕМЕ         0.326954\n",
      "ДАВЛЕНИЕ МАСЛА В СИСТЕМЕ            7.660601\n",
      "Y_ЭКСГАУСТЕР А/М №4_ГСМ ЭКСГ. №4 M3 0.7752161383285303 807 19 215\n"
     ]
    },
    {
     "data": {
      "application/vnd.jupyter.widget-view+json": {
       "model_id": "9fa0e6eea0234a85953c79fcb9d7f1d6",
       "version_major": 2,
       "version_minor": 0
      },
      "text/plain": [
       "MetricVisualizer(layout=Layout(align_self='stretch', height='500px'))"
      ]
     },
     "metadata": {},
     "output_type": "display_data"
    },
    {
     "name": "stdout",
     "output_type": "stream",
     "text": [
      "0:\tlearn: 0.6613838\ttest: 0.6636017\tbest: 0.6636017 (0)\ttotal: 417ms\tremaining: 41.3s\n",
      "50:\tlearn: 0.1134674\ttest: 0.1136039\tbest: 0.1136039 (50)\ttotal: 21s\tremaining: 20.2s\n",
      "99:\tlearn: 0.0251167\ttest: 0.0250238\tbest: 0.0250238 (99)\ttotal: 40.8s\tremaining: 0us\n",
      "\n",
      "bestTest = 0.02502382462\n",
      "bestIteration = 99\n",
      "\n",
      "                                           0\n",
      "ТОК РОТОРА 1                        0.380338\n",
      "ТОК РОТОРА 2                        0.220870\n",
      "ТОК СТАТОРА                         0.776339\n",
      "ВИБРАЦИЯ НА ОПОРЕ 1                 0.861338\n",
      "ВИБРАЦИЯ НА ОПОРЕ 2                 4.641811\n",
      "ВИБРАЦИЯ НА ОПОРЕ 3                 0.758157\n",
      "ВИБРАЦИЯ НА ОПОРЕ 3. ПРОДОЛЬНАЯ     3.667167\n",
      "ВИБРАЦИЯ НА ОПОРЕ 4                43.241844\n",
      "ВИБРАЦИЯ НА ОПОРЕ 4. ПРОДОЛЬНАЯ    13.827171\n",
      "ТЕМПЕРАТУРА ПОДШИПНИКА НА ОПОРЕ 1   0.764831\n",
      "ТЕМПЕРАТУРА ПОДШИПНИКА НА ОПОРЕ 2  20.907511\n",
      "ТЕМПЕРАТУРА ПОДШИПНИКА НА ОПОРЕ 3   0.571761\n",
      "ТЕМПЕРАТУРА ПОДШИПНИКА НА ОПОРЕ 4   1.478744\n",
      "ТЕМПЕРАТУРА МАСЛА В МАСЛОБЛОКЕ      5.804347\n",
      "ТЕМПЕРАТУРА МАСЛА В СИСТЕМЕ         0.735338\n",
      "ДАВЛЕНИЕ МАСЛА В СИСТЕМЕ            1.362433\n",
      "Y_ЭКСГАУСТЕР А/М №4_ВК 310С ВИБРОПРЕОБРАЗОВАТЕЛЬ ЭКСГ.№4 Т.1 M3 0.0 0 0 1\n"
     ]
    },
    {
     "data": {
      "application/vnd.jupyter.widget-view+json": {
       "model_id": "1d7de654ef5045479b0649d6a17986c0",
       "version_major": 2,
       "version_minor": 0
      },
      "text/plain": [
       "MetricVisualizer(layout=Layout(align_self='stretch', height='500px'))"
      ]
     },
     "metadata": {},
     "output_type": "display_data"
    },
    {
     "name": "stdout",
     "output_type": "stream",
     "text": [
      "0:\tlearn: 0.6614189\ttest: 0.6636049\tbest: 0.6636049 (0)\ttotal: 411ms\tremaining: 40.7s\n",
      "50:\tlearn: 0.1135608\ttest: 0.1136302\tbest: 0.1136302 (50)\ttotal: 20.6s\tremaining: 19.8s\n",
      "99:\tlearn: 0.0251866\ttest: 0.0250420\tbest: 0.0250420 (99)\ttotal: 40.2s\tremaining: 0us\n",
      "\n",
      "bestTest = 0.02504196136\n",
      "bestIteration = 99\n",
      "\n",
      "                                           0\n",
      "ТОК РОТОРА 1                        0.211269\n",
      "ТОК РОТОРА 2                        0.123574\n",
      "ТОК СТАТОРА                         0.348602\n",
      "ВИБРАЦИЯ НА ОПОРЕ 1                 0.329789\n",
      "ВИБРАЦИЯ НА ОПОРЕ 2                 2.277195\n",
      "ВИБРАЦИЯ НА ОПОРЕ 3                 0.284409\n",
      "ВИБРАЦИЯ НА ОПОРЕ 3. ПРОДОЛЬНАЯ     1.694815\n",
      "ВИБРАЦИЯ НА ОПОРЕ 4                19.460550\n",
      "ВИБРАЦИЯ НА ОПОРЕ 4. ПРОДОЛЬНАЯ     5.155729\n",
      "ТЕМПЕРАТУРА ПОДШИПНИКА НА ОПОРЕ 1   0.502460\n",
      "ТЕМПЕРАТУРА ПОДШИПНИКА НА ОПОРЕ 2  23.755666\n",
      "ТЕМПЕРАТУРА ПОДШИПНИКА НА ОПОРЕ 3  20.389524\n",
      "ТЕМПЕРАТУРА ПОДШИПНИКА НА ОПОРЕ 4   1.225382\n",
      "ТЕМПЕРАТУРА МАСЛА В МАСЛОБЛОКЕ      0.668630\n",
      "ТЕМПЕРАТУРА МАСЛА В СИСТЕМЕ        22.939783\n",
      "ДАВЛЕНИЕ МАСЛА В СИСТЕМЕ            0.632624\n",
      "Y_ЭКСГАУСТЕР А/М №4_ТСМТ-101-010-50М-400 ТЕРМОПР.ПОДШ.Т.1 M3 0.0 0 0 2\n"
     ]
    },
    {
     "data": {
      "application/vnd.jupyter.widget-view+json": {
       "model_id": "9cd7423416494ca4b5091e65521beaf1",
       "version_major": 2,
       "version_minor": 0
      },
      "text/plain": [
       "MetricVisualizer(layout=Layout(align_self='stretch', height='500px'))"
      ]
     },
     "metadata": {},
     "output_type": "display_data"
    },
    {
     "name": "stdout",
     "output_type": "stream",
     "text": [
      "0:\tlearn: 0.6613824\ttest: 0.6636031\tbest: 0.6636031 (0)\ttotal: 412ms\tremaining: 40.8s\n",
      "50:\tlearn: 0.1133959\ttest: 0.1135844\tbest: 0.1135844 (50)\ttotal: 21.2s\tremaining: 20.4s\n",
      "99:\tlearn: 0.0250348\ttest: 0.0250027\tbest: 0.0250027 (99)\ttotal: 40.8s\tremaining: 0us\n",
      "\n",
      "bestTest = 0.02500270584\n",
      "bestIteration = 99\n",
      "\n",
      "                                           0\n",
      "ТОК РОТОРА 1                        7.155295\n",
      "ТОК РОТОРА 2                        1.725760\n",
      "ТОК СТАТОРА                         1.720957\n",
      "ВИБРАЦИЯ НА ОПОРЕ 1                 3.581433\n",
      "ВИБРАЦИЯ НА ОПОРЕ 2                 5.820573\n",
      "ВИБРАЦИЯ НА ОПОРЕ 3                 6.398780\n",
      "ВИБРАЦИЯ НА ОПОРЕ 3. ПРОДОЛЬНАЯ     6.433049\n",
      "ВИБРАЦИЯ НА ОПОРЕ 4                 4.196197\n",
      "ВИБРАЦИЯ НА ОПОРЕ 4. ПРОДОЛЬНАЯ     9.254857\n",
      "ТЕМПЕРАТУРА ПОДШИПНИКА НА ОПОРЕ 1   3.407411\n",
      "ТЕМПЕРАТУРА ПОДШИПНИКА НА ОПОРЕ 2  14.823007\n",
      "ТЕМПЕРАТУРА ПОДШИПНИКА НА ОПОРЕ 3   5.381853\n",
      "ТЕМПЕРАТУРА ПОДШИПНИКА НА ОПОРЕ 4   5.827550\n",
      "ТЕМПЕРАТУРА МАСЛА В МАСЛОБЛОКЕ      2.278409\n",
      "ТЕМПЕРАТУРА МАСЛА В СИСТЕМЕ         6.104550\n",
      "ДАВЛЕНИЕ МАСЛА В СИСТЕМЕ           15.890319\n",
      "Y_ЭКСГАУСТЕР А/М №4_РОТОР ЭКСГ. №4 M1 None 0 0 0\n"
     ]
    },
    {
     "data": {
      "application/vnd.jupyter.widget-view+json": {
       "model_id": "012b1baf60554f9c94c8e0abb3773f65",
       "version_major": 2,
       "version_minor": 0
      },
      "text/plain": [
       "MetricVisualizer(layout=Layout(align_self='stretch', height='500px'))"
      ]
     },
     "metadata": {},
     "output_type": "display_data"
    },
    {
     "name": "stdout",
     "output_type": "stream",
     "text": [
      "0:\tlearn: 0.6745307\ttest: 0.6741699\tbest: 0.6741699 (0)\ttotal: 361ms\tremaining: 35.7s\n",
      "50:\tlearn: 0.2553389\ttest: 0.2532377\tbest: 0.2532377 (50)\ttotal: 20.6s\tremaining: 19.8s\n",
      "99:\tlearn: 0.1397176\ttest: 0.1389521\tbest: 0.1389521 (99)\ttotal: 40.9s\tremaining: 0us\n",
      "\n",
      "bestTest = 0.138952073\n",
      "bestIteration = 99\n",
      "\n",
      "                                           0\n",
      "ТОК РОТОРА 1                        8.386939\n",
      "ТОК РОТОРА 2                       11.252550\n",
      "ТОК СТАТОРА                         2.225287\n",
      "ВИБРАЦИЯ НА ОПОРЕ 1                 1.791627\n",
      "ВИБРАЦИЯ НА ОПОРЕ 2                 4.297474\n",
      "ВИБРАЦИЯ НА ОПОРЕ 3                 0.324122\n",
      "ВИБРАЦИЯ НА ОПОРЕ 3. ПРОДОЛЬНАЯ     2.963841\n",
      "ВИБРАЦИЯ НА ОПОРЕ 4                 5.318845\n",
      "ВИБРАЦИЯ НА ОПОРЕ 4. ПРОДОЛЬНАЯ    12.634463\n",
      "ТЕМПЕРАТУРА ПОДШИПНИКА НА ОПОРЕ 1   6.860164\n",
      "ТЕМПЕРАТУРА ПОДШИПНИКА НА ОПОРЕ 2  15.479609\n",
      "ТЕМПЕРАТУРА ПОДШИПНИКА НА ОПОРЕ 3   3.993196\n",
      "ТЕМПЕРАТУРА ПОДШИПНИКА НА ОПОРЕ 4   0.058021\n",
      "ТЕМПЕРАТУРА МАСЛА В МАСЛОБЛОКЕ      0.000000\n",
      "ТЕМПЕРАТУРА МАСЛА В СИСТЕМЕ        19.362360\n",
      "ДАВЛЕНИЕ МАСЛА В СИСТЕМЕ            5.051501\n",
      "Y_ЭКСГАУСТЕР А/М №4_РОТОР ЭКСГ. №4 M3 0.9675542626985902 4324 36 109\n"
     ]
    },
    {
     "data": {
      "application/vnd.jupyter.widget-view+json": {
       "model_id": "e879e97da3aa426c838c9727d5e70d8c",
       "version_major": 2,
       "version_minor": 0
      },
      "text/plain": [
       "MetricVisualizer(layout=Layout(align_self='stretch', height='500px'))"
      ]
     },
     "metadata": {},
     "output_type": "display_data"
    },
    {
     "name": "stdout",
     "output_type": "stream",
     "text": [
      "0:\tlearn: 0.6622142\ttest: 0.6641699\tbest: 0.6641699 (0)\ttotal: 443ms\tremaining: 43.9s\n",
      "50:\tlearn: 0.1240979\ttest: 0.1232397\tbest: 0.1232397 (50)\ttotal: 22.8s\tremaining: 21.9s\n",
      "99:\tlearn: 0.0349247\ttest: 0.0338433\tbest: 0.0338433 (99)\ttotal: 44.5s\tremaining: 0us\n",
      "\n",
      "bestTest = 0.0338432913\n",
      "bestIteration = 99\n",
      "\n",
      "                                           0\n",
      "ТОК РОТОРА 1                        6.997330\n",
      "ТОК РОТОРА 2                        7.349238\n",
      "ТОК СТАТОРА                         0.964416\n",
      "ВИБРАЦИЯ НА ОПОРЕ 1                 0.560463\n",
      "ВИБРАЦИЯ НА ОПОРЕ 2                17.172644\n",
      "ВИБРАЦИЯ НА ОПОРЕ 3                23.332119\n",
      "ВИБРАЦИЯ НА ОПОРЕ 3. ПРОДОЛЬНАЯ     7.517012\n",
      "ВИБРАЦИЯ НА ОПОРЕ 4                 0.339529\n",
      "ВИБРАЦИЯ НА ОПОРЕ 4. ПРОДОЛЬНАЯ     3.769182\n",
      "ТЕМПЕРАТУРА ПОДШИПНИКА НА ОПОРЕ 1   2.969979\n",
      "ТЕМПЕРАТУРА ПОДШИПНИКА НА ОПОРЕ 2   5.470179\n",
      "ТЕМПЕРАТУРА ПОДШИПНИКА НА ОПОРЕ 3   3.387789\n",
      "ТЕМПЕРАТУРА ПОДШИПНИКА НА ОПОРЕ 4   1.666781\n",
      "ТЕМПЕРАТУРА МАСЛА В МАСЛОБЛОКЕ      1.188987\n",
      "ТЕМПЕРАТУРА МАСЛА В СИСТЕМЕ         6.242412\n",
      "ДАВЛЕНИЕ МАСЛА В СИСТЕМЕ           11.071940\n",
      "Y_ЭКСГАУСТЕР А/М №4_МАСЛООХЛАДИТЕЛЬ  М-05-1 ЭКСГ. №4 M3 0.8518518518518519 115 1 19\n"
     ]
    },
    {
     "data": {
      "application/vnd.jupyter.widget-view+json": {
       "model_id": "21e7a80dba934bb88350326d9e8c1f39",
       "version_major": 2,
       "version_minor": 0
      },
      "text/plain": [
       "MetricVisualizer(layout=Layout(align_self='stretch', height='500px'))"
      ]
     },
     "metadata": {},
     "output_type": "display_data"
    },
    {
     "name": "stdout",
     "output_type": "stream",
     "text": [
      "0:\tlearn: 0.6613888\ttest: 0.6636061\tbest: 0.6636061 (0)\ttotal: 412ms\tremaining: 40.8s\n",
      "50:\tlearn: 0.1135505\ttest: 0.1136381\tbest: 0.1136381 (50)\ttotal: 21.1s\tremaining: 20.3s\n",
      "99:\tlearn: 0.0250729\ttest: 0.0250339\tbest: 0.0250339 (99)\ttotal: 39.8s\tremaining: 0us\n",
      "\n",
      "bestTest = 0.02503386803\n",
      "bestIteration = 99\n",
      "\n",
      "                                           0\n",
      "ТОК РОТОРА 1                        4.599218\n",
      "ТОК РОТОРА 2                        3.240515\n",
      "ТОК СТАТОРА                         7.656764\n",
      "ВИБРАЦИЯ НА ОПОРЕ 1                 1.489531\n",
      "ВИБРАЦИЯ НА ОПОРЕ 2                 2.724029\n",
      "ВИБРАЦИЯ НА ОПОРЕ 3                 1.187652\n",
      "ВИБРАЦИЯ НА ОПОРЕ 3. ПРОДОЛЬНАЯ     2.941536\n",
      "ВИБРАЦИЯ НА ОПОРЕ 4                 1.055787\n",
      "ВИБРАЦИЯ НА ОПОРЕ 4. ПРОДОЛЬНАЯ     2.261542\n",
      "ТЕМПЕРАТУРА ПОДШИПНИКА НА ОПОРЕ 1   3.384959\n",
      "ТЕМПЕРАТУРА ПОДШИПНИКА НА ОПОРЕ 2   2.227778\n",
      "ТЕМПЕРАТУРА ПОДШИПНИКА НА ОПОРЕ 3  29.564219\n",
      "ТЕМПЕРАТУРА ПОДШИПНИКА НА ОПОРЕ 4  15.327581\n",
      "ТЕМПЕРАТУРА МАСЛА В МАСЛОБЛОКЕ     18.819551\n",
      "ТЕМПЕРАТУРА МАСЛА В СИСТЕМЕ         2.206266\n",
      "ДАВЛЕНИЕ МАСЛА В СИСТЕМЕ            1.313070\n",
      "Y_ЭКСГАУСТЕР А/М №4_ПОДШИПНИК ОПОРНО-УПОРНЫЙ ЭКСГ. №4 M1 0.5 1 0 1\n"
     ]
    },
    {
     "data": {
      "application/vnd.jupyter.widget-view+json": {
       "model_id": "4f64c8665032404eb265488fb4ce8a5a",
       "version_major": 2,
       "version_minor": 0
      },
      "text/plain": [
       "MetricVisualizer(layout=Layout(align_self='stretch', height='500px'))"
      ]
     },
     "metadata": {},
     "output_type": "display_data"
    },
    {
     "name": "stdout",
     "output_type": "stream",
     "text": [
      "0:\tlearn: 0.6686639\ttest: 0.6691953\tbest: 0.6691953 (0)\ttotal: 457ms\tremaining: 45.2s\n",
      "50:\tlearn: 0.1868948\ttest: 0.1862701\tbest: 0.1862701 (50)\ttotal: 20.2s\tremaining: 19.4s\n",
      "99:\tlearn: 0.0814151\ttest: 0.0773582\tbest: 0.0773582 (99)\ttotal: 41.1s\tremaining: 0us\n",
      "\n",
      "bestTest = 0.07735820539\n",
      "bestIteration = 99\n",
      "\n",
      "                                           0\n",
      "ТОК РОТОРА 1                       16.233038\n",
      "ТОК РОТОРА 2                       19.684666\n",
      "ТОК СТАТОРА                         0.000000\n",
      "ВИБРАЦИЯ НА ОПОРЕ 1                 0.239536\n",
      "ВИБРАЦИЯ НА ОПОРЕ 2                 0.026274\n",
      "ВИБРАЦИЯ НА ОПОРЕ 3                 3.838524\n",
      "ВИБРАЦИЯ НА ОПОРЕ 3. ПРОДОЛЬНАЯ    15.154022\n",
      "ВИБРАЦИЯ НА ОПОРЕ 4                11.140554\n",
      "ВИБРАЦИЯ НА ОПОРЕ 4. ПРОДОЛЬНАЯ     8.236575\n",
      "ТЕМПЕРАТУРА ПОДШИПНИКА НА ОПОРЕ 1   8.674591\n",
      "ТЕМПЕРАТУРА ПОДШИПНИКА НА ОПОРЕ 2   1.565420\n",
      "ТЕМПЕРАТУРА ПОДШИПНИКА НА ОПОРЕ 3   0.000000\n",
      "ТЕМПЕРАТУРА ПОДШИПНИКА НА ОПОРЕ 4   4.324310\n",
      "ТЕМПЕРАТУРА МАСЛА В МАСЛОБЛОКЕ      0.330010\n",
      "ТЕМПЕРАТУРА МАСЛА В СИСТЕМЕ         6.265501\n",
      "ДАВЛЕНИЕ МАСЛА В СИСТЕМЕ            4.286980\n",
      "Y_ЭКСГАУСТЕР А/М №4_ПОДШИПНИК ОПОРНО-УПОРНЫЙ ЭКСГ. №4 M3 0.9490358126721763 2067 39 72\n"
     ]
    },
    {
     "data": {
      "application/vnd.jupyter.widget-view+json": {
       "model_id": "39bf1de269f94813a4107df340065f26",
       "version_major": 2,
       "version_minor": 0
      },
      "text/plain": [
       "MetricVisualizer(layout=Layout(align_self='stretch', height='500px'))"
      ]
     },
     "metadata": {},
     "output_type": "display_data"
    },
    {
     "name": "stdout",
     "output_type": "stream",
     "text": [
      "0:\tlearn: 0.6613991\ttest: 0.6636162\tbest: 0.6636162 (0)\ttotal: 416ms\tremaining: 41.2s\n",
      "50:\tlearn: 0.1138615\ttest: 0.1137335\tbest: 0.1137335 (50)\ttotal: 20.9s\tremaining: 20.1s\n",
      "99:\tlearn: 0.0252630\ttest: 0.0251117\tbest: 0.0251117 (99)\ttotal: 39.6s\tremaining: 0us\n",
      "\n",
      "bestTest = 0.02511172064\n",
      "bestIteration = 99\n",
      "\n",
      "                                           0\n",
      "ТОК РОТОРА 1                        1.009798\n",
      "ТОК РОТОРА 2                        0.857117\n",
      "ТОК СТАТОРА                         4.211797\n",
      "ВИБРАЦИЯ НА ОПОРЕ 1                 0.774546\n",
      "ВИБРАЦИЯ НА ОПОРЕ 2                 1.633394\n",
      "ВИБРАЦИЯ НА ОПОРЕ 3                 0.326852\n",
      "ВИБРАЦИЯ НА ОПОРЕ 3. ПРОДОЛЬНАЯ     1.299518\n",
      "ВИБРАЦИЯ НА ОПОРЕ 4                 0.630643\n",
      "ВИБРАЦИЯ НА ОПОРЕ 4. ПРОДОЛЬНАЯ     3.645614\n",
      "ТЕМПЕРАТУРА ПОДШИПНИКА НА ОПОРЕ 1   2.094329\n",
      "ТЕМПЕРАТУРА ПОДШИПНИКА НА ОПОРЕ 2   0.617984\n",
      "ТЕМПЕРАТУРА ПОДШИПНИКА НА ОПОРЕ 3  14.767426\n",
      "ТЕМПЕРАТУРА ПОДШИПНИКА НА ОПОРЕ 4  14.603725\n",
      "ТЕМПЕРАТУРА МАСЛА В МАСЛОБЛОКЕ     36.161784\n",
      "ТЕМПЕРАТУРА МАСЛА В СИСТЕМЕ        11.787119\n",
      "ДАВЛЕНИЕ МАСЛА В СИСТЕМЕ            5.578355\n",
      "Y_ЭКСГАУСТЕР А/М №4_ЭКСГАУСТЕР А/М №4 M1 0.6666666666666666 2 0 1\n"
     ]
    },
    {
     "data": {
      "application/vnd.jupyter.widget-view+json": {
       "model_id": "63176c2c99fc431482131ee7f22a3e6e",
       "version_major": 2,
       "version_minor": 0
      },
      "text/plain": [
       "MetricVisualizer(layout=Layout(align_self='stretch', height='500px'))"
      ]
     },
     "metadata": {},
     "output_type": "display_data"
    },
    {
     "name": "stdout",
     "output_type": "stream",
     "text": [
      "0:\tlearn: 0.6626252\ttest: 0.6643268\tbest: 0.6643268 (0)\ttotal: 374ms\tremaining: 37s\n",
      "50:\tlearn: 0.1262923\ttest: 0.1244634\tbest: 0.1244634 (50)\ttotal: 18.5s\tremaining: 17.8s\n",
      "99:\tlearn: 0.0366886\ttest: 0.0354388\tbest: 0.0354388 (99)\ttotal: 37.2s\tremaining: 0us\n",
      "\n",
      "bestTest = 0.035438834\n",
      "bestIteration = 99\n",
      "\n",
      "                                           0\n",
      "ТОК РОТОРА 1                        2.549504\n",
      "ТОК РОТОРА 2                        2.818202\n",
      "ТОК СТАТОРА                         2.396952\n",
      "ВИБРАЦИЯ НА ОПОРЕ 1                 0.531910\n",
      "ВИБРАЦИЯ НА ОПОРЕ 2                 2.607034\n",
      "ВИБРАЦИЯ НА ОПОРЕ 3                 2.085141\n",
      "ВИБРАЦИЯ НА ОПОРЕ 3. ПРОДОЛЬНАЯ     7.263867\n",
      "ВИБРАЦИЯ НА ОПОРЕ 4                18.962169\n",
      "ВИБРАЦИЯ НА ОПОРЕ 4. ПРОДОЛЬНАЯ    41.317115\n",
      "ТЕМПЕРАТУРА ПОДШИПНИКА НА ОПОРЕ 1   5.712545\n",
      "ТЕМПЕРАТУРА ПОДШИПНИКА НА ОПОРЕ 2   0.381353\n",
      "ТЕМПЕРАТУРА ПОДШИПНИКА НА ОПОРЕ 3   0.023430\n",
      "ТЕМПЕРАТУРА ПОДШИПНИКА НА ОПОРЕ 4   6.711417\n",
      "ТЕМПЕРАТУРА МАСЛА В МАСЛОБЛОКЕ      0.106238\n",
      "ТЕМПЕРАТУРА МАСЛА В СИСТЕМЕ         0.511037\n",
      "ДАВЛЕНИЕ МАСЛА В СИСТЕМЕ            6.022087\n",
      "Y_ЭКСГАУСТЕР А/М №4_ЗАП. И РЕГ. АРМАТУРА ЭКСГ.№4 M3 0.9279661016949152 438 4 30\n"
     ]
    },
    {
     "data": {
      "application/vnd.jupyter.widget-view+json": {
       "model_id": "d0a1e370c73f48cd8c1fee956d9a6b1f",
       "version_major": 2,
       "version_minor": 0
      },
      "text/plain": [
       "MetricVisualizer(layout=Layout(align_self='stretch', height='500px'))"
      ]
     },
     "metadata": {},
     "output_type": "display_data"
    },
    {
     "name": "stdout",
     "output_type": "stream",
     "text": [
      "0:\tlearn: 0.6636495\ttest: 0.6655350\tbest: 0.6655350 (0)\ttotal: 362ms\tremaining: 35.8s\n",
      "50:\tlearn: 0.1363632\ttest: 0.1385786\tbest: 0.1385786 (50)\ttotal: 18.6s\tremaining: 17.9s\n",
      "99:\tlearn: 0.0434621\ttest: 0.0467333\tbest: 0.0467333 (99)\ttotal: 36.9s\tremaining: 0us\n",
      "\n",
      "bestTest = 0.04673328818\n",
      "bestIteration = 99\n",
      "\n",
      "                                           0\n",
      "ТОК РОТОРА 1                        6.063500\n",
      "ТОК РОТОРА 2                        5.716885\n",
      "ТОК СТАТОРА                         0.666371\n",
      "ВИБРАЦИЯ НА ОПОРЕ 1                 1.578627\n",
      "ВИБРАЦИЯ НА ОПОРЕ 2                13.905384\n",
      "ВИБРАЦИЯ НА ОПОРЕ 3                10.940875\n",
      "ВИБРАЦИЯ НА ОПОРЕ 3. ПРОДОЛЬНАЯ     6.257884\n",
      "ВИБРАЦИЯ НА ОПОРЕ 4                11.835510\n",
      "ВИБРАЦИЯ НА ОПОРЕ 4. ПРОДОЛЬНАЯ    13.399422\n",
      "ТЕМПЕРАТУРА ПОДШИПНИКА НА ОПОРЕ 1   0.355662\n",
      "ТЕМПЕРАТУРА ПОДШИПНИКА НА ОПОРЕ 2   0.500858\n",
      "ТЕМПЕРАТУРА ПОДШИПНИКА НА ОПОРЕ 3   0.834404\n",
      "ТЕМПЕРАТУРА ПОДШИПНИКА НА ОПОРЕ 4   2.449875\n",
      "ТЕМПЕРАТУРА МАСЛА В МАСЛОБЛОКЕ      2.096816\n",
      "ТЕМПЕРАТУРА МАСЛА В СИСТЕМЕ         0.092353\n",
      "ДАВЛЕНИЕ МАСЛА В СИСТЕМЕ           23.305574\n",
      "Y_ЭКСГАУСТЕР А/М №4_ПОДШИПНИК ОПОРНЫЙ №1 ЭКСГ. №4 M3 0.917312661498708 355 2 30\n"
     ]
    },
    {
     "data": {
      "application/vnd.jupyter.widget-view+json": {
       "model_id": "9c2ee1087b354eb483319acebc11a015",
       "version_major": 2,
       "version_minor": 0
      },
      "text/plain": [
       "MetricVisualizer(layout=Layout(align_self='stretch', height='500px'))"
      ]
     },
     "metadata": {},
     "output_type": "display_data"
    },
    {
     "name": "stdout",
     "output_type": "stream",
     "text": [
      "0:\tlearn: 0.6621052\ttest: 0.6641501\tbest: 0.6641501 (0)\ttotal: 422ms\tremaining: 41.8s\n",
      "50:\tlearn: 0.1217142\ttest: 0.1224525\tbest: 0.1224525 (50)\ttotal: 21s\tremaining: 20.1s\n",
      "99:\tlearn: 0.0332446\ttest: 0.0334166\tbest: 0.0334166 (99)\ttotal: 40.5s\tremaining: 0us\n",
      "\n",
      "bestTest = 0.03341660755\n",
      "bestIteration = 99\n",
      "\n",
      "                                           0\n",
      "ТОК РОТОРА 1                       20.661071\n",
      "ТОК РОТОРА 2                       24.909821\n",
      "ТОК СТАТОРА                         0.831024\n",
      "ВИБРАЦИЯ НА ОПОРЕ 1                 1.687944\n",
      "ВИБРАЦИЯ НА ОПОРЕ 2                 6.078327\n",
      "ВИБРАЦИЯ НА ОПОРЕ 3                 2.331508\n",
      "ВИБРАЦИЯ НА ОПОРЕ 3. ПРОДОЛЬНАЯ     0.080408\n",
      "ВИБРАЦИЯ НА ОПОРЕ 4                 0.000000\n",
      "ВИБРАЦИЯ НА ОПОРЕ 4. ПРОДОЛЬНАЯ    18.679706\n",
      "ТЕМПЕРАТУРА ПОДШИПНИКА НА ОПОРЕ 1   0.986264\n",
      "ТЕМПЕРАТУРА ПОДШИПНИКА НА ОПОРЕ 2  10.556633\n",
      "ТЕМПЕРАТУРА ПОДШИПНИКА НА ОПОРЕ 3   4.473618\n",
      "ТЕМПЕРАТУРА ПОДШИПНИКА НА ОПОРЕ 4   1.082188\n",
      "ТЕМПЕРАТУРА МАСЛА В МАСЛОБЛОКЕ      2.090111\n",
      "ТЕМПЕРАТУРА МАСЛА В СИСТЕМЕ         0.783657\n",
      "ДАВЛЕНИЕ МАСЛА В СИСТЕМЕ            4.767720\n",
      "Y_ЭКСГАУСТЕР А/М №4_ЭЛ/ДВИГАТЕЛЬ ГАЗ. ЗАДВИЖКИ ЭКСГ. №4 M3 0.8693467336683417 173 8 18\n"
     ]
    },
    {
     "data": {
      "application/vnd.jupyter.widget-view+json": {
       "model_id": "3b12df8bab5f49b288b77ec0368ae2a2",
       "version_major": 2,
       "version_minor": 0
      },
      "text/plain": [
       "MetricVisualizer(layout=Layout(align_self='stretch', height='500px'))"
      ]
     },
     "metadata": {},
     "output_type": "display_data"
    },
    {
     "name": "stdout",
     "output_type": "stream",
     "text": [
      "0:\tlearn: 0.6613802\ttest: 0.6636005\tbest: 0.6636005 (0)\ttotal: 413ms\tremaining: 40.9s\n",
      "50:\tlearn: 0.1133172\ttest: 0.1135573\tbest: 0.1135573 (50)\ttotal: 20.8s\tremaining: 20s\n",
      "99:\tlearn: 0.0249207\ttest: 0.0249779\tbest: 0.0249779 (99)\ttotal: 41.1s\tremaining: 0us\n",
      "\n",
      "bestTest = 0.02497788216\n",
      "bestIteration = 99\n",
      "\n",
      "                                          0\n",
      "ТОК РОТОРА 1                       3.963194\n",
      "ТОК РОТОРА 2                       3.053651\n",
      "ТОК СТАТОРА                        4.171298\n",
      "ВИБРАЦИЯ НА ОПОРЕ 1                6.096099\n",
      "ВИБРАЦИЯ НА ОПОРЕ 2                8.332396\n",
      "ВИБРАЦИЯ НА ОПОРЕ 3                7.123144\n",
      "ВИБРАЦИЯ НА ОПОРЕ 3. ПРОДОЛЬНАЯ    7.923472\n",
      "ВИБРАЦИЯ НА ОПОРЕ 4                8.647205\n",
      "ВИБРАЦИЯ НА ОПОРЕ 4. ПРОДОЛЬНАЯ    9.902374\n",
      "ТЕМПЕРАТУРА ПОДШИПНИКА НА ОПОРЕ 1  6.227503\n",
      "ТЕМПЕРАТУРА ПОДШИПНИКА НА ОПОРЕ 2  7.821783\n",
      "ТЕМПЕРАТУРА ПОДШИПНИКА НА ОПОРЕ 3  4.660495\n",
      "ТЕМПЕРАТУРА ПОДШИПНИКА НА ОПОРЕ 4  5.532653\n",
      "ТЕМПЕРАТУРА МАСЛА В МАСЛОБЛОКЕ     4.686339\n",
      "ТЕМПЕРАТУРА МАСЛА В СИСТЕМЕ        5.410337\n",
      "ДАВЛЕНИЕ МАСЛА В СИСТЕМЕ           6.448054\n",
      "Y_ЭКСГАУСТЕР А/М №4_КЛ1 ТР№4 ДО ЭД ЭКСГАУСТЕРА №4 M3 None 0 0 0\n"
     ]
    },
    {
     "data": {
      "application/vnd.jupyter.widget-view+json": {
       "model_id": "1e453e33adb64ad2b968dbc72f37ac83",
       "version_major": 2,
       "version_minor": 0
      },
      "text/plain": [
       "MetricVisualizer(layout=Layout(align_self='stretch', height='500px'))"
      ]
     },
     "metadata": {},
     "output_type": "display_data"
    },
    {
     "name": "stdout",
     "output_type": "stream",
     "text": [
      "0:\tlearn: 0.6613802\ttest: 0.6635995\tbest: 0.6635995 (0)\ttotal: 416ms\tremaining: 41.2s\n",
      "50:\tlearn: 0.1133172\ttest: 0.1135572\tbest: 0.1135572 (50)\ttotal: 21.2s\tremaining: 20.4s\n",
      "99:\tlearn: 0.0249207\ttest: 0.0249773\tbest: 0.0249773 (99)\ttotal: 41.4s\tremaining: 0us\n",
      "\n",
      "bestTest = 0.0249773353\n",
      "bestIteration = 99\n",
      "\n",
      "                                          0\n",
      "ТОК РОТОРА 1                       3.963194\n",
      "ТОК РОТОРА 2                       3.053651\n",
      "ТОК СТАТОРА                        4.171298\n",
      "ВИБРАЦИЯ НА ОПОРЕ 1                6.096099\n",
      "ВИБРАЦИЯ НА ОПОРЕ 2                8.332396\n",
      "ВИБРАЦИЯ НА ОПОРЕ 3                7.123144\n",
      "ВИБРАЦИЯ НА ОПОРЕ 3. ПРОДОЛЬНАЯ    7.923472\n",
      "ВИБРАЦИЯ НА ОПОРЕ 4                8.647205\n",
      "ВИБРАЦИЯ НА ОПОРЕ 4. ПРОДОЛЬНАЯ    9.902374\n",
      "ТЕМПЕРАТУРА ПОДШИПНИКА НА ОПОРЕ 1  6.227503\n",
      "ТЕМПЕРАТУРА ПОДШИПНИКА НА ОПОРЕ 2  7.821783\n",
      "ТЕМПЕРАТУРА ПОДШИПНИКА НА ОПОРЕ 3  4.660495\n",
      "ТЕМПЕРАТУРА ПОДШИПНИКА НА ОПОРЕ 4  5.532653\n",
      "ТЕМПЕРАТУРА МАСЛА В МАСЛОБЛОКЕ     4.686339\n",
      "ТЕМПЕРАТУРА МАСЛА В СИСТЕМЕ        5.410337\n",
      "ДАВЛЕНИЕ МАСЛА В СИСТЕМЕ           6.448054\n",
      "Y_ЭКСГАУСТЕР А/М №4_КЛ2 ТР№4 ДО ЭД ЭКСГАУСТЕРА №4 M3 None 0 0 0\n"
     ]
    },
    {
     "data": {
      "application/vnd.jupyter.widget-view+json": {
       "model_id": "3c28ce493d5845c08d86d1f81e613fae",
       "version_major": 2,
       "version_minor": 0
      },
      "text/plain": [
       "MetricVisualizer(layout=Layout(align_self='stretch', height='500px'))"
      ]
     },
     "metadata": {},
     "output_type": "display_data"
    },
    {
     "name": "stdout",
     "output_type": "stream",
     "text": [
      "0:\tlearn: 0.6613800\ttest: 0.6635988\tbest: 0.6635988 (0)\ttotal: 421ms\tremaining: 41.7s\n",
      "50:\tlearn: 0.1133109\ttest: 0.1135538\tbest: 0.1135538 (50)\ttotal: 21.1s\tremaining: 20.3s\n",
      "99:\tlearn: 0.0249100\ttest: 0.0249756\tbest: 0.0249756 (99)\ttotal: 40.8s\tremaining: 0us\n",
      "\n",
      "bestTest = 0.0249756083\n",
      "bestIteration = 99\n",
      "\n",
      "                                          0\n",
      "ТОК РОТОРА 1                       4.044513\n",
      "ТОК РОТОРА 2                       3.125877\n",
      "ТОК СТАТОРА                        4.232346\n",
      "ВИБРАЦИЯ НА ОПОРЕ 1                6.243107\n",
      "ВИБРАЦИЯ НА ОПОРЕ 2                8.560434\n",
      "ВИБРАЦИЯ НА ОПОРЕ 3                7.158470\n",
      "ВИБРАЦИЯ НА ОПОРЕ 3. ПРОДОЛЬНАЯ    7.755847\n",
      "ВИБРАЦИЯ НА ОПОРЕ 4                8.758933\n",
      "ВИБРАЦИЯ НА ОПОРЕ 4. ПРОДОЛЬНАЯ    9.907860\n",
      "ТЕМПЕРАТУРА ПОДШИПНИКА НА ОПОРЕ 1  5.525308\n",
      "ТЕМПЕРАТУРА ПОДШИПНИКА НА ОПОРЕ 2  7.430941\n",
      "ТЕМПЕРАТУРА ПОДШИПНИКА НА ОПОРЕ 3  4.785841\n",
      "ТЕМПЕРАТУРА ПОДШИПНИКА НА ОПОРЕ 4  5.581061\n",
      "ТЕМПЕРАТУРА МАСЛА В МАСЛОБЛОКЕ     4.734912\n",
      "ТЕМПЕРАТУРА МАСЛА В СИСТЕМЕ        5.622465\n",
      "ДАВЛЕНИЕ МАСЛА В СИСТЕМЕ           6.532084\n",
      "Y_ЭКСГАУСТЕР А/М №4_ТР-Р ТМ-4000-10/6 ЭКСГ. №4 M3 None 0 0 0\n"
     ]
    }
   ],
   "source": [
    "import catboost\n",
    "\n",
    "summary = dict()\n",
    "summary[\"model\"] = []\n",
    "summary[\"f1\"] = []\n",
    "summary[\"score\"] = []\n",
    "summary[\"TP\"] = []\n",
    "summary[\"FP\"] = []\n",
    "summary[\"FN\"] = []\n",
    "\n",
    "\n",
    "for col in y_train.columns:\n",
    "\n",
    "    target_train = y_train[col]\n",
    "    if len(target_train.unique())>1:\n",
    "        model = catboost.CatBoostClassifier(iterations=100, loss_function='CrossEntropy')\n",
    "\n",
    "        X_test = X_train.sample(10000)\n",
    "        target_test = target_train.loc[X_test.index.values]\n",
    "\n",
    "        X_val = X_train.sample(1000)\n",
    "        target_val = target_train.loc[X_val.index.values]\n",
    "\n",
    "        X_train = X_train#.sample(1000000)\n",
    "        target_train = target_train.loc[X_train.index.values]\n",
    "\n",
    "        model.fit(X_train.values, target_train.values, eval_set=(X_val.values, target_val.values), verbose=50, use_best_model=True, plot=True, early_stopping_rounds=100)\n",
    "        print(pd.DataFrame(model.feature_importances_, index=X_train.columns ))\n",
    "\n",
    "        model.save_model(\"ЭКСГАУСТЕР 4 \" +col.replace(\"/\", \"\"),format=\"cbm\",export_parameters=None, pool=None)\n",
    "        \n",
    "        pred = model.predict(X_test.values)\n",
    "        TP = sum((pred == 1)*(target_test == 1))\n",
    "        FP = sum((pred == 1)*(target_test == 0))\n",
    "        FN = sum((pred == 0)*(target_test == 1))\n",
    "        summary[\"model\"].append(\" ЭКСГАУСТЕР 4 \" + col.replace(\"/\", \"\"))\n",
    "        summary[\"TP\"].append(TP)\n",
    "        summary[\"FP\"].append(FP)\n",
    "        summary[\"FN\"].append(FN)\n",
    "        if (TP+FP+FN)!=0:\n",
    "            print(col, TP/(TP+FP+FN), TP, FP, FN)\n",
    "            summary[\"f1\"].append(2*TP/(2*TP+FP+FN))\n",
    "            summary[\"score\"].append(TP/(TP+FP+FN))\n",
    "        else:\n",
    "            print(col, None, TP, FP, FN)\n",
    "            summary[\"f1\"].append(None)\n",
    "            summary[\"score\"].append(None)\n",
    "    else:\n",
    "        summary[\"model\"].append(\"ЭКСГАУСТЕР 4 \" + col.replace(\"/\", \"\")+\"__30\")\n",
    "        summary[\"TP\"].append(0)\n",
    "        summary[\"FP\"].append(0)\n",
    "        summary[\"FN\"].append(0)\n",
    "        summary[\"f1\"].append(None)\n",
    "        summary[\"score\"].append(None)\n",
    "        \n",
    "            \n",
    "pd.DataFrame(summary).to_csv(\"summary ЭКСГАУСТЕР 4__30.csv\")"
   ]
  }
 ],
 "metadata": {
  "kernelspec": {
   "display_name": "Python 3",
   "language": "python",
   "name": "python3"
  },
  "language_info": {
   "codemirror_mode": {
    "name": "ipython",
    "version": 3
   },
   "file_extension": ".py",
   "mimetype": "text/x-python",
   "name": "python",
   "nbconvert_exporter": "python",
   "pygments_lexer": "ipython3",
   "version": "3.10.10"
  },
  "papermill": {
   "default_parameters": {},
   "duration": 2727.114857,
   "end_time": "2023-05-28T21:05:47.009913",
   "environment_variables": {},
   "exception": null,
   "input_path": "__notebook__.ipynb",
   "output_path": "__notebook__.ipynb",
   "parameters": {},
   "start_time": "2023-05-28T20:20:19.895056",
   "version": "2.4.0"
  },
  "widgets": {
   "application/vnd.jupyter.widget-state+json": {
    "state": {
     "012b1baf60554f9c94c8e0abb3773f65": {
      "model_module": "catboost-widget",
      "model_module_version": "^1.0.0",
      "model_name": "CatboostWidgetModel",
      "state": {
       "_dom_classes": [],
       "_model_module": "catboost-widget",
       "_model_module_version": "^1.0.0",
       "_model_name": "CatboostWidgetModel",
       "_view_count": null,
       "_view_module": "catboost-widget",
       "_view_module_version": "^1.0.0",
       "_view_name": "CatboostWidgetView",
       "data": {
        "catboost_info": {
         "content": {
          "data": {
           "iterations": [
            {
             "iteration": 0,
             "learn": [
              0.6745306774
             ],
             "passed_time": 0.3606394363,
             "remaining_time": 35.7033042,
             "test": [
              0.6741699231
             ]
            },
            {
             "iteration": 1,
             "learn": [
              0.6568621202
             ],
             "passed_time": 0.7264128742,
             "remaining_time": 35.59423083,
             "test": [
              0.6564663986
             ]
            },
            {
             "iteration": 2,
             "learn": [
              0.6392783994
             ],
             "passed_time": 1.082911853,
             "remaining_time": 35.01414991,
             "test": [
              0.6393549161
             ]
            },
            {
             "iteration": 3,
             "learn": [
              0.6238144884
             ],
             "passed_time": 1.477744983,
             "remaining_time": 35.4658796,
             "test": [
              0.6228721318
             ]
            },
            {
             "iteration": 4,
             "learn": [
              0.6076808357
             ],
             "passed_time": 1.833623541,
             "remaining_time": 34.83884728,
             "test": [
              0.6077730511
             ]
            },
            {
             "iteration": 5,
             "learn": [
              0.5919533863
             ],
             "passed_time": 2.258297272,
             "remaining_time": 35.37999059,
             "test": [
              0.5916003512
             ]
            },
            {
             "iteration": 6,
             "learn": [
              0.5782212715
             ],
             "passed_time": 2.617309931,
             "remaining_time": 34.77283194,
             "test": [
              0.5775709944
             ]
            },
            {
             "iteration": 7,
             "learn": [
              0.563588628
             ],
             "passed_time": 3.043257098,
             "remaining_time": 34.99745663,
             "test": [
              0.5630644063
             ]
            },
            {
             "iteration": 8,
             "learn": [
              0.5506515062
             ],
             "passed_time": 3.393970941,
             "remaining_time": 34.31681729,
             "test": [
              0.5496849883
             ]
            },
            {
             "iteration": 9,
             "learn": [
              0.5374656709
             ],
             "passed_time": 3.819119909,
             "remaining_time": 34.37207918,
             "test": [
              0.5368165543
             ]
            },
            {
             "iteration": 10,
             "learn": [
              0.5261035258
             ],
             "passed_time": 4.18408324,
             "remaining_time": 33.85303712,
             "test": [
              0.5253652899
             ]
            },
            {
             "iteration": 11,
             "learn": [
              0.5146054187
             ],
             "passed_time": 4.549431551,
             "remaining_time": 33.36249804,
             "test": [
              0.5141566679
             ]
            },
            {
             "iteration": 12,
             "learn": [
              0.5026866118
             ],
             "passed_time": 4.967719423,
             "remaining_time": 33.24550691,
             "test": [
              0.5017437283
             ]
            },
            {
             "iteration": 13,
             "learn": [
              0.4927423616
             ],
             "passed_time": 5.327998616,
             "remaining_time": 32.72913435,
             "test": [
              0.4914128567
             ]
            },
            {
             "iteration": 14,
             "learn": [
              0.4826587187
             ],
             "passed_time": 5.745101087,
             "remaining_time": 32.55557283,
             "test": [
              0.4813459733
             ]
            },
            {
             "iteration": 15,
             "learn": [
              0.472294465
             ],
             "passed_time": 6.146424821,
             "remaining_time": 32.26873031,
             "test": [
              0.4712279231
             ]
            },
            {
             "iteration": 16,
             "learn": [
              0.4631488211
             ],
             "passed_time": 6.59071321,
             "remaining_time": 32.17818802,
             "test": [
              0.4617446797
             ]
            },
            {
             "iteration": 17,
             "learn": [
              0.4537007361
             ],
             "passed_time": 7.004158521,
             "remaining_time": 31.90783326,
             "test": [
              0.452171219
             ]
            },
            {
             "iteration": 18,
             "learn": [
              0.4448623309
             ],
             "passed_time": 7.426082921,
             "remaining_time": 31.65856403,
             "test": [
              0.4434887275
             ]
            },
            {
             "iteration": 19,
             "learn": [
              0.4362359384
             ],
             "passed_time": 7.775658138,
             "remaining_time": 31.10263255,
             "test": [
              0.4347755643
             ]
            },
            {
             "iteration": 20,
             "learn": [
              0.42841316
             ],
             "passed_time": 8.220556269,
             "remaining_time": 30.92494977,
             "test": [
              0.4266252843
             ]
            },
            {
             "iteration": 21,
             "learn": [
              0.4204826899
             ],
             "passed_time": 8.592672512,
             "remaining_time": 30.46492981,
             "test": [
              0.4181183661
             ]
            },
            {
             "iteration": 22,
             "learn": [
              0.4125350099
             ],
             "passed_time": 8.96821316,
             "remaining_time": 30.02401797,
             "test": [
              0.4103462564
             ]
            },
            {
             "iteration": 23,
             "learn": [
              0.4049958002
             ],
             "passed_time": 9.387120094,
             "remaining_time": 29.7258803,
             "test": [
              0.4030479699
             ]
            },
            {
             "iteration": 24,
             "learn": [
              0.3980763176
             ],
             "passed_time": 9.751683048,
             "remaining_time": 29.25504914,
             "test": [
              0.3961233377
             ]
            },
            {
             "iteration": 25,
             "learn": [
              0.3914084732
             ],
             "passed_time": 10.15635888,
             "remaining_time": 28.9065599,
             "test": [
              0.3893166808
             ]
            },
            {
             "iteration": 26,
             "learn": [
              0.3838520334
             ],
             "passed_time": 10.53948232,
             "remaining_time": 28.49563739,
             "test": [
              0.3820007264
             ]
            },
            {
             "iteration": 27,
             "learn": [
              0.3774712926
             ],
             "passed_time": 10.96358929,
             "remaining_time": 28.19208675,
             "test": [
              0.3758553418
             ]
            },
            {
             "iteration": 28,
             "learn": [
              0.3699631852
             ],
             "passed_time": 11.39876125,
             "remaining_time": 27.90731203,
             "test": [
              0.3680782333
             ]
            },
            {
             "iteration": 29,
             "learn": [
              0.3629172039
             ],
             "passed_time": 11.83740968,
             "remaining_time": 27.62062258,
             "test": [
              0.3610147915
             ]
            },
            {
             "iteration": 30,
             "learn": [
              0.3567497506
             ],
             "passed_time": 12.2180584,
             "remaining_time": 27.1950332,
             "test": [
              0.3546883487
             ]
            },
            {
             "iteration": 31,
             "learn": [
              0.349776521
             ],
             "passed_time": 12.71361798,
             "remaining_time": 27.01643821,
             "test": [
              0.3475504893
             ]
            },
            {
             "iteration": 32,
             "learn": [
              0.3431154191
             ],
             "passed_time": 13.11205665,
             "remaining_time": 26.62144834,
             "test": [
              0.340914394
             ]
            },
            {
             "iteration": 33,
             "learn": [
              0.3365547672
             ],
             "passed_time": 13.55333876,
             "remaining_time": 26.30942229,
             "test": [
              0.3341830841
             ]
            },
            {
             "iteration": 34,
             "learn": [
              0.3309576117
             ],
             "passed_time": 13.93069946,
             "remaining_time": 25.87129899,
             "test": [
              0.3291273682
             ]
            },
            {
             "iteration": 35,
             "learn": [
              0.3256072248
             ],
             "passed_time": 14.31012852,
             "remaining_time": 25.44022848,
             "test": [
              0.3242676459
             ]
            },
            {
             "iteration": 36,
             "learn": [
              0.3203680978
             ],
             "passed_time": 14.67914111,
             "remaining_time": 24.99421324,
             "test": [
              0.3186788636
             ]
            },
            {
             "iteration": 37,
             "learn": [
              0.3144367491
             ],
             "passed_time": 15.13451184,
             "remaining_time": 24.69315089,
             "test": [
              0.3128116184
             ]
            },
            {
             "iteration": 38,
             "learn": [
              0.3097006287
             ],
             "passed_time": 15.59440074,
             "remaining_time": 24.39124218,
             "test": [
              0.3080947353
             ]
            },
            {
             "iteration": 39,
             "learn": [
              0.3049296995
             ],
             "passed_time": 15.96161798,
             "remaining_time": 23.94242697,
             "test": [
              0.3029571416
             ]
            },
            {
             "iteration": 40,
             "learn": [
              0.2995441424
             ],
             "passed_time": 16.40183135,
             "remaining_time": 23.60263536,
             "test": [
              0.2974123311
             ]
            },
            {
             "iteration": 41,
             "learn": [
              0.2947580203
             ],
             "passed_time": 16.79933306,
             "remaining_time": 23.19907898,
             "test": [
              0.2926545642
             ]
            },
            {
             "iteration": 42,
             "learn": [
              0.2895005658
             ],
             "passed_time": 17.25087108,
             "remaining_time": 22.86743376,
             "test": [
              0.2873739606
             ]
            },
            {
             "iteration": 43,
             "learn": [
              0.284848237
             ],
             "passed_time": 17.65369363,
             "remaining_time": 22.46833735,
             "test": [
              0.2826596716
             ]
            },
            {
             "iteration": 44,
             "learn": [
              0.2806919491
             ],
             "passed_time": 18.05988276,
             "remaining_time": 22.07319004,
             "test": [
              0.2785195419
             ]
            },
            {
             "iteration": 45,
             "learn": [
              0.2757474896
             ],
             "passed_time": 18.52666776,
             "remaining_time": 21.74869694,
             "test": [
              0.2734060244
             ]
            },
            {
             "iteration": 46,
             "learn": [
              0.2712355848
             ],
             "passed_time": 18.95079984,
             "remaining_time": 21.37005088,
             "test": [
              0.2689836475
             ]
            },
            {
             "iteration": 47,
             "learn": [
              0.2674157188
             ],
             "passed_time": 19.35550975,
             "remaining_time": 20.9684689,
             "test": [
              0.2651532913
             ]
            },
            {
             "iteration": 48,
             "learn": [
              0.2632924916
             ],
             "passed_time": 19.76165526,
             "remaining_time": 20.56825343,
             "test": [
              0.2609481153
             ]
            },
            {
             "iteration": 49,
             "learn": [
              0.2589821837
             ],
             "passed_time": 20.19137505,
             "remaining_time": 20.19137505,
             "test": [
              0.2568006238
             ]
            },
            {
             "iteration": 50,
             "learn": [
              0.2553389434
             ],
             "passed_time": 20.60468407,
             "remaining_time": 19.79665725,
             "test": [
              0.2532377367
             ]
            },
            {
             "iteration": 51,
             "learn": [
              0.2515311691
             ],
             "passed_time": 21.01414876,
             "remaining_time": 19.39767578,
             "test": [
              0.2492097079
             ]
            },
            {
             "iteration": 52,
             "learn": [
              0.2480728639
             ],
             "passed_time": 21.44507624,
             "remaining_time": 19.01733176,
             "test": [
              0.2460220278
             ]
            },
            {
             "iteration": 53,
             "learn": [
              0.2447907028
             ],
             "passed_time": 21.84346841,
             "remaining_time": 18.60739902,
             "test": [
              0.2427287774
             ]
            },
            {
             "iteration": 54,
             "learn": [
              0.2413671996
             ],
             "passed_time": 22.2639031,
             "remaining_time": 18.21592072,
             "test": [
              0.239339976
             ]
            },
            {
             "iteration": 55,
             "learn": [
              0.2372991558
             ],
             "passed_time": 22.67617446,
             "remaining_time": 17.81699422,
             "test": [
              0.235467386
             ]
            },
            {
             "iteration": 56,
             "learn": [
              0.2342670554
             ],
             "passed_time": 23.068922,
             "remaining_time": 17.40287098,
             "test": [
              0.2323828255
             ]
            },
            {
             "iteration": 57,
             "learn": [
              0.2311603949
             ],
             "passed_time": 23.50558758,
             "remaining_time": 17.02128756,
             "test": [
              0.2296157772
             ]
            },
            {
             "iteration": 58,
             "learn": [
              0.2278837162
             ],
             "passed_time": 24.17230237,
             "remaining_time": 16.79770165,
             "test": [
              0.226154066
             ]
            },
            {
             "iteration": 59,
             "learn": [
              0.2248842152
             ],
             "passed_time": 24.73530169,
             "remaining_time": 16.49020113,
             "test": [
              0.2231242626
             ]
            },
            {
             "iteration": 60,
             "learn": [
              0.2215518578
             ],
             "passed_time": 25.16025861,
             "remaining_time": 16.08606698,
             "test": [
              0.2198677775
             ]
            },
            {
             "iteration": 61,
             "learn": [
              0.2184823951
             ],
             "passed_time": 25.6173787,
             "remaining_time": 15.70097404,
             "test": [
              0.2166077798
             ]
            },
            {
             "iteration": 62,
             "learn": [
              0.2153963659
             ],
             "passed_time": 25.99210864,
             "remaining_time": 15.26520666,
             "test": [
              0.2137049848
             ]
            },
            {
             "iteration": 63,
             "learn": [
              0.2129208807
             ],
             "passed_time": 26.42679417,
             "remaining_time": 14.86507172,
             "test": [
              0.2114449415
             ]
            },
            {
             "iteration": 64,
             "learn": [
              0.2103941123
             ],
             "passed_time": 26.90045372,
             "remaining_time": 14.4848597,
             "test": [
              0.208924029
             ]
            },
            {
             "iteration": 65,
             "learn": [
              0.2074605523
             ],
             "passed_time": 27.2808242,
             "remaining_time": 14.05375792,
             "test": [
              0.2061414558
             ]
            },
            {
             "iteration": 66,
             "learn": [
              0.2051367778
             ],
             "passed_time": 27.68097271,
             "remaining_time": 13.63391193,
             "test": [
              0.2039794245
             ]
            },
            {
             "iteration": 67,
             "learn": [
              0.2027187236
             ],
             "passed_time": 28.11189368,
             "remaining_time": 13.22912644,
             "test": [
              0.2016137
             ]
            },
            {
             "iteration": 68,
             "learn": [
              0.2000269801
             ],
             "passed_time": 28.5203773,
             "remaining_time": 12.81350284,
             "test": [
              0.1989978279
             ]
            },
            {
             "iteration": 69,
             "learn": [
              0.1978043128
             ],
             "passed_time": 28.91633208,
             "remaining_time": 12.39271375,
             "test": [
              0.1967747992
             ]
            },
            {
             "iteration": 70,
             "learn": [
              0.1954570151
             ],
             "passed_time": 29.25790702,
             "remaining_time": 11.95041273,
             "test": [
              0.1943514328
             ]
            },
            {
             "iteration": 71,
             "learn": [
              0.1932433006
             ],
             "passed_time": 29.62396925,
             "remaining_time": 11.52043249,
             "test": [
              0.192410497
             ]
            },
            {
             "iteration": 72,
             "learn": [
              0.1907101639
             ],
             "passed_time": 30.07738553,
             "remaining_time": 11.12451246,
             "test": [
              0.1896819355
             ]
            },
            {
             "iteration": 73,
             "learn": [
              0.1880800927
             ],
             "passed_time": 30.47540236,
             "remaining_time": 10.7075738,
             "test": [
              0.187247838
             ]
            },
            {
             "iteration": 74,
             "learn": [
              0.1852113621
             ],
             "passed_time": 30.91597828,
             "remaining_time": 10.30532609,
             "test": [
              0.1842888647
             ]
            },
            {
             "iteration": 75,
             "learn": [
              0.1830488063
             ],
             "passed_time": 31.34617664,
             "remaining_time": 9.898792623,
             "test": [
              0.1822556722
             ]
            },
            {
             "iteration": 76,
             "learn": [
              0.1807814754
             ],
             "passed_time": 31.71018507,
             "remaining_time": 9.471873461,
             "test": [
              0.1800943514
             ]
            },
            {
             "iteration": 77,
             "learn": [
              0.1786419493
             ],
             "passed_time": 32.1018881,
             "remaining_time": 9.054378695,
             "test": [
              0.1780743072
             ]
            },
            {
             "iteration": 78,
             "learn": [
              0.1763540703
             ],
             "passed_time": 32.49030883,
             "remaining_time": 8.636664374,
             "test": [
              0.1758105294
             ]
            },
            {
             "iteration": 79,
             "learn": [
              0.1745376322
             ],
             "passed_time": 32.88399191,
             "remaining_time": 8.220997978,
             "test": [
              0.1741198325
             ]
            },
            {
             "iteration": 80,
             "learn": [
              0.1725853564
             ],
             "passed_time": 33.25805802,
             "remaining_time": 7.80127287,
             "test": [
              0.1720502294
             ]
            },
            {
             "iteration": 81,
             "learn": [
              0.1706387954
             ],
             "passed_time": 33.72273037,
             "remaining_time": 7.402550568,
             "test": [
              0.1701228606
             ]
            },
            {
             "iteration": 82,
             "learn": [
              0.1686429353
             ],
             "passed_time": 34.15166548,
             "remaining_time": 6.994919436,
             "test": [
              0.1681091288
             ]
            },
            {
             "iteration": 83,
             "learn": [
              0.167039305
             ],
             "passed_time": 34.58093511,
             "remaining_time": 6.586844783,
             "test": [
              0.1665984039
             ]
            },
            {
             "iteration": 84,
             "learn": [
              0.1649391312
             ],
             "passed_time": 34.99027888,
             "remaining_time": 6.174755097,
             "test": [
              0.1645757691
             ]
            },
            {
             "iteration": 85,
             "learn": [
              0.1631424854
             ],
             "passed_time": 35.35363099,
             "remaining_time": 5.755242253,
             "test": [
              0.1628371413
             ]
            },
            {
             "iteration": 86,
             "learn": [
              0.1613879466
             ],
             "passed_time": 35.782672,
             "remaining_time": 5.346836046,
             "test": [
              0.1611484729
             ]
            },
            {
             "iteration": 87,
             "learn": [
              0.1591240394
             ],
             "passed_time": 36.18399629,
             "remaining_time": 4.934181312,
             "test": [
              0.1587560581
             ]
            },
            {
             "iteration": 88,
             "learn": [
              0.1574300517
             ],
             "passed_time": 36.55935094,
             "remaining_time": 4.518571465,
             "test": [
              0.1570500452
             ]
            },
            {
             "iteration": 89,
             "learn": [
              0.1556706492
             ],
             "passed_time": 36.92912352,
             "remaining_time": 4.103235947,
             "test": [
              0.1554002335
             ]
            },
            {
             "iteration": 90,
             "learn": [
              0.1544125618
             ],
             "passed_time": 37.29044647,
             "remaining_time": 3.688066134,
             "test": [
              0.1540177507
             ]
            },
            {
             "iteration": 91,
             "learn": [
              0.1521400527
             ],
             "passed_time": 37.75899382,
             "remaining_time": 3.283390767,
             "test": [
              0.1515827609
             ]
            },
            {
             "iteration": 92,
             "learn": [
              0.1502797861
             ],
             "passed_time": 38.13689204,
             "remaining_time": 2.870518756,
             "test": [
              0.1496227855
             ]
            },
            {
             "iteration": 93,
             "learn": [
              0.1488251907
             ],
             "passed_time": 38.50519763,
             "remaining_time": 2.457778572,
             "test": [
              0.1481215242
             ]
            },
            {
             "iteration": 94,
             "learn": [
              0.1471933191
             ],
             "passed_time": 38.89504387,
             "remaining_time": 2.047107572,
             "test": [
              0.1465572054
             ]
            },
            {
             "iteration": 95,
             "learn": [
              0.1455309203
             ],
             "passed_time": 39.34825651,
             "remaining_time": 1.639510688,
             "test": [
              0.1447814773
             ]
            },
            {
             "iteration": 96,
             "learn": [
              0.1438587777
             ],
             "passed_time": 39.73022038,
             "remaining_time": 1.228769702,
             "test": [
              0.142992802
             ]
            },
            {
             "iteration": 97,
             "learn": [
              0.1424332317
             ],
             "passed_time": 40.11952952,
             "remaining_time": 0.8187659086,
             "test": [
              0.1416880083
             ]
            },
            {
             "iteration": 98,
             "learn": [
              0.141300468
             ],
             "passed_time": 40.43006617,
             "remaining_time": 0.4083845067,
             "test": [
              0.1406113384
             ]
            },
            {
             "iteration": 99,
             "learn": [
              0.1397175568
             ],
             "passed_time": 40.88730553,
             "remaining_time": 0,
             "test": [
              0.138952073
             ]
            }
           ],
           "meta": {
            "iteration_count": 100,
            "launch_mode": "Train",
            "learn_metrics": [
             {
              "best_value": "Min",
              "name": "CrossEntropy"
             }
            ],
            "learn_sets": [
             "learn"
            ],
            "name": "experiment",
            "parameters": "",
            "test_metrics": [
             {
              "best_value": "Min",
              "name": "CrossEntropy"
             }
            ],
            "test_sets": [
             "test"
            ]
           }
          },
          "passed_iterations": 99,
          "total_iterations": 100
         },
         "name": "catboost_info",
         "path": "catboost_info"
        }
       },
       "layout": "IPY_MODEL_0401c69a62f145db814223603a67656a"
      }
     },
     "0401c69a62f145db814223603a67656a": {
      "model_module": "@jupyter-widgets/base",
      "model_module_version": "1.2.0",
      "model_name": "LayoutModel",
      "state": {
       "_model_module": "@jupyter-widgets/base",
       "_model_module_version": "1.2.0",
       "_model_name": "LayoutModel",
       "_view_count": null,
       "_view_module": "@jupyter-widgets/base",
       "_view_module_version": "1.2.0",
       "_view_name": "LayoutView",
       "align_content": null,
       "align_items": null,
       "align_self": "stretch",
       "border": null,
       "bottom": null,
       "display": null,
       "flex": null,
       "flex_flow": null,
       "grid_area": null,
       "grid_auto_columns": null,
       "grid_auto_flow": null,
       "grid_auto_rows": null,
       "grid_column": null,
       "grid_gap": null,
       "grid_row": null,
       "grid_template_areas": null,
       "grid_template_columns": null,
       "grid_template_rows": null,
       "height": "500px",
       "justify_content": null,
       "justify_items": null,
       "left": null,
       "margin": null,
       "max_height": null,
       "max_width": null,
       "min_height": null,
       "min_width": null,
       "object_fit": null,
       "object_position": null,
       "order": null,
       "overflow": null,
       "overflow_x": null,
       "overflow_y": null,
       "padding": null,
       "right": null,
       "top": null,
       "visibility": null,
       "width": null
      }
     },
     "09ec393f001c444c850ac3d6994fc5e9": {
      "model_module": "catboost-widget",
      "model_module_version": "^1.0.0",
      "model_name": "CatboostWidgetModel",
      "state": {
       "_dom_classes": [],
       "_model_module": "catboost-widget",
       "_model_module_version": "^1.0.0",
       "_model_name": "CatboostWidgetModel",
       "_view_count": null,
       "_view_module": "catboost-widget",
       "_view_module_version": "^1.0.0",
       "_view_name": "CatboostWidgetView",
       "data": {
        "catboost_info": {
         "content": {
          "data": {
           "iterations": [
            {
             "iteration": 0,
             "learn": [
              0.6613857069
             ],
             "passed_time": 0.5895474333,
             "remaining_time": 58.3651959,
             "test": [
              0.6636033826
             ]
            },
            {
             "iteration": 1,
             "learn": [
              0.6363080746
             ],
             "passed_time": 0.993853373,
             "remaining_time": 48.69881528,
             "test": [
              0.6357803523
             ]
            },
            {
             "iteration": 2,
             "learn": [
              0.6093894702
             ],
             "passed_time": 1.420791331,
             "remaining_time": 45.93891971,
             "test": [
              0.609533438
             ]
            },
            {
             "iteration": 3,
             "learn": [
              0.5837335044
             ],
             "passed_time": 1.743180865,
             "remaining_time": 41.83634075,
             "test": [
              0.5847272288
             ]
            },
            {
             "iteration": 4,
             "learn": [
              0.5622124755
             ],
             "passed_time": 2.125439903,
             "remaining_time": 40.38335816,
             "test": [
              0.5612544143
             ]
            },
            {
             "iteration": 5,
             "learn": [
              0.5377590862
             ],
             "passed_time": 2.526613513,
             "remaining_time": 39.5836117,
             "test": [
              0.5390142102
             ]
            },
            {
             "iteration": 6,
             "learn": [
              0.5169133592
             ],
             "passed_time": 2.963260145,
             "remaining_time": 39.36902764,
             "test": [
              0.5179098981
             ]
            },
            {
             "iteration": 7,
             "learn": [
              0.4987422372
             ],
             "passed_time": 3.362393511,
             "remaining_time": 38.66752538,
             "test": [
              0.497865596
             ]
            },
            {
             "iteration": 8,
             "learn": [
              0.4785622835
             ],
             "passed_time": 3.753588037,
             "remaining_time": 37.95294571,
             "test": [
              0.4788032386
             ]
            },
            {
             "iteration": 9,
             "learn": [
              0.4606187814
             ],
             "passed_time": 4.092628609,
             "remaining_time": 36.83365749,
             "test": [
              0.4606582632
             ]
            },
            {
             "iteration": 10,
             "learn": [
              0.4440131338
             ],
             "passed_time": 4.533406638,
             "remaining_time": 36.67938098,
             "test": [
              0.4433719225
             ]
            },
            {
             "iteration": 11,
             "learn": [
              0.4280983751
             ],
             "passed_time": 4.946386964,
             "remaining_time": 36.2735044,
             "test": [
              0.4268877962
             ]
            },
            {
             "iteration": 12,
             "learn": [
              0.412245611
             ],
             "passed_time": 5.407256909,
             "remaining_time": 36.18702701,
             "test": [
              0.4111541184
             ]
            },
            {
             "iteration": 13,
             "learn": [
              0.3968343125
             ],
             "passed_time": 5.777356553,
             "remaining_time": 35.48947597,
             "test": [
              0.3961293891
             ]
            },
            {
             "iteration": 14,
             "learn": [
              0.3824603592
             ],
             "passed_time": 6.21303137,
             "remaining_time": 35.20717777,
             "test": [
              0.3817669671
             ]
            },
            {
             "iteration": 15,
             "learn": [
              0.3673939796
             ],
             "passed_time": 6.699208637,
             "remaining_time": 35.17084534,
             "test": [
              0.3680334587
             ]
            },
            {
             "iteration": 16,
             "learn": [
              0.353948175
             ],
             "passed_time": 7.057782425,
             "remaining_time": 34.45858478,
             "test": [
              0.3548885047
             ]
            },
            {
             "iteration": 17,
             "learn": [
              0.3432374714
             ],
             "passed_time": 7.440126571,
             "remaining_time": 33.89390993,
             "test": [
              0.3423021892
             ]
            },
            {
             "iteration": 18,
             "learn": [
              0.3301489465
             ],
             "passed_time": 7.7755207,
             "remaining_time": 33.14827246,
             "test": [
              0.3302443385
             ]
            },
            {
             "iteration": 19,
             "learn": [
              0.3197439963
             ],
             "passed_time": 8.235062399,
             "remaining_time": 32.9402496,
             "test": [
              0.3186850824
             ]
            },
            {
             "iteration": 20,
             "learn": [
              0.3070680689
             ],
             "passed_time": 8.617961104,
             "remaining_time": 32.41994892,
             "test": [
              0.3076142964
             ]
            },
            {
             "iteration": 21,
             "learn": [
              0.2969517209
             ],
             "passed_time": 9.051648258,
             "remaining_time": 32.09220746,
             "test": [
              0.2969744725
             ]
            },
            {
             "iteration": 22,
             "learn": [
              0.2868533392
             ],
             "passed_time": 9.491501647,
             "remaining_time": 31.77589682,
             "test": [
              0.2867598596
             ]
            },
            {
             "iteration": 23,
             "learn": [
              0.2765819987
             ],
             "passed_time": 10.06449008,
             "remaining_time": 31.87088524,
             "test": [
              0.27694857
             ]
            },
            {
             "iteration": 24,
             "learn": [
              0.266632932
             ],
             "passed_time": 10.5807551,
             "remaining_time": 31.74226529,
             "test": [
              0.2675223461
             ]
            },
            {
             "iteration": 25,
             "learn": [
              0.2580614438
             ],
             "passed_time": 11.09510501,
             "remaining_time": 31.57837581,
             "test": [
              0.2584621185
             ]
            },
            {
             "iteration": 26,
             "learn": [
              0.2500439034
             ],
             "passed_time": 11.48204467,
             "remaining_time": 31.04404669,
             "test": [
              0.2497499305
             ]
            },
            {
             "iteration": 27,
             "learn": [
              0.2420565914
             ],
             "passed_time": 11.85994957,
             "remaining_time": 30.49701317,
             "test": [
              0.2413743291
             ]
            },
            {
             "iteration": 28,
             "learn": [
              0.2337807892
             ],
             "passed_time": 12.25786648,
             "remaining_time": 30.01063863,
             "test": [
              0.2333080296
             ]
            },
            {
             "iteration": 29,
             "learn": [
              0.2259597596
             ],
             "passed_time": 12.68075302,
             "remaining_time": 29.58842371,
             "test": [
              0.2255466133
             ]
            },
            {
             "iteration": 30,
             "learn": [
              0.2186144094
             ],
             "passed_time": 13.1001986,
             "remaining_time": 29.15850656,
             "test": [
              0.2180726583
             ]
            },
            {
             "iteration": 31,
             "learn": [
              0.2110185252
             ],
             "passed_time": 13.46770212,
             "remaining_time": 28.61886701,
             "test": [
              0.2108738231
             ]
            },
            {
             "iteration": 32,
             "learn": [
              0.2034518608
             ],
             "passed_time": 13.94517315,
             "remaining_time": 28.31292731,
             "test": [
              0.2039389278
             ]
            },
            {
             "iteration": 33,
             "learn": [
              0.1966203335
             ],
             "passed_time": 14.37194056,
             "remaining_time": 27.89847284,
             "test": [
              0.1972552465
             ]
            },
            {
             "iteration": 34,
             "learn": [
              0.1912814727
             ],
             "passed_time": 14.802073,
             "remaining_time": 27.48956414,
             "test": [
              0.1908298692
             ]
            },
            {
             "iteration": 35,
             "learn": [
              0.1840674057
             ],
             "passed_time": 15.15241241,
             "remaining_time": 26.93762206,
             "test": [
              0.1846194731
             ]
            },
            {
             "iteration": 36,
             "learn": [
              0.1788860674
             ],
             "passed_time": 15.54074418,
             "remaining_time": 26.46126712,
             "test": [
              0.1786324211
             ]
            },
            {
             "iteration": 37,
             "learn": [
              0.1723302492
             ],
             "passed_time": 15.90191134,
             "remaining_time": 25.94522377,
             "test": [
              0.1728589953
             ]
            },
            {
             "iteration": 38,
             "learn": [
              0.167766036
             ],
             "passed_time": 16.32749133,
             "remaining_time": 25.53787105,
             "test": [
              0.1672844754
             ]
            },
            {
             "iteration": 39,
             "learn": [
              0.161535774
             ],
             "passed_time": 16.71345034,
             "remaining_time": 25.07017551,
             "test": [
              0.1619066559
             ]
            },
            {
             "iteration": 40,
             "learn": [
              0.156436243
             ],
             "passed_time": 17.13089604,
             "remaining_time": 24.65177723,
             "test": [
              0.1567144929
             ]
            },
            {
             "iteration": 41,
             "learn": [
              0.1521224784
             ],
             "passed_time": 17.58751782,
             "remaining_time": 24.2875246,
             "test": [
              0.1517041089
             ]
            },
            {
             "iteration": 42,
             "learn": [
              0.1471143916
             ],
             "passed_time": 18.02296497,
             "remaining_time": 23.89090705,
             "test": [
              0.1468651419
             ]
            },
            {
             "iteration": 43,
             "learn": [
              0.1420067911
             ],
             "passed_time": 18.43975631,
             "remaining_time": 23.46878075,
             "test": [
              0.1421934646
             ]
            },
            {
             "iteration": 44,
             "learn": [
              0.1372540156
             ],
             "passed_time": 18.86367988,
             "remaining_time": 23.05560874,
             "test": [
              0.1376811257
             ]
            },
            {
             "iteration": 45,
             "learn": [
              0.1330228961
             ],
             "passed_time": 19.32300281,
             "remaining_time": 22.68352504,
             "test": [
              0.1333196969
             ]
            },
            {
             "iteration": 46,
             "learn": [
              0.1290237399
             ],
             "passed_time": 19.67788087,
             "remaining_time": 22.18995077,
             "test": [
              0.1291082122
             ]
            },
            {
             "iteration": 47,
             "learn": [
              0.1250904716
             ],
             "passed_time": 20.16527912,
             "remaining_time": 21.84571904,
             "test": [
              0.1250364356
             ]
            },
            {
             "iteration": 48,
             "learn": [
              0.1211813959
             ],
             "passed_time": 20.58956765,
             "remaining_time": 21.42995817,
             "test": [
              0.121103767
             ]
            },
            {
             "iteration": 49,
             "learn": [
              0.1172947385
             ],
             "passed_time": 20.90511463,
             "remaining_time": 20.90511463,
             "test": [
              0.1173021482
             ]
            },
            {
             "iteration": 50,
             "learn": [
              0.1134345309
             ],
             "passed_time": 21.30624574,
             "remaining_time": 20.47070669,
             "test": [
              0.1136278386
             ]
            },
            {
             "iteration": 51,
             "learn": [
              0.1098598088
             ],
             "passed_time": 21.71391298,
             "remaining_time": 20.04361198,
             "test": [
              0.1100722561
             ]
            },
            {
             "iteration": 52,
             "learn": [
              0.1070301795
             ],
             "passed_time": 22.03855988,
             "remaining_time": 19.54362858,
             "test": [
              0.1066362682
             ]
            },
            {
             "iteration": 53,
             "learn": [
              0.1035122441
             ],
             "passed_time": 22.37256079,
             "remaining_time": 19.05810734,
             "test": [
              0.1033142574
             ]
            },
            {
             "iteration": 54,
             "learn": [
              0.09985440885
             ],
             "passed_time": 22.81902165,
             "remaining_time": 18.67010863,
             "test": [
              0.1001008747
             ]
            },
            {
             "iteration": 55,
             "learn": [
              0.09724586389
             ],
             "passed_time": 23.24581087,
             "remaining_time": 18.26456569,
             "test": [
              0.09699107432
             ]
            },
            {
             "iteration": 56,
             "learn": [
              0.09387141953
             ],
             "passed_time": 23.66489162,
             "remaining_time": 17.8524621,
             "test": [
              0.09398394436
             ]
            },
            {
             "iteration": 57,
             "learn": [
              0.09133069949
             ],
             "passed_time": 24.0622619,
             "remaining_time": 17.42439655,
             "test": [
              0.09107802511
             ]
            },
            {
             "iteration": 58,
             "learn": [
              0.08806561446
             ],
             "passed_time": 24.4711629,
             "remaining_time": 17.00538439,
             "test": [
              0.08826208543
             ]
            },
            {
             "iteration": 59,
             "learn": [
              0.08561473673
             ],
             "passed_time": 24.89666615,
             "remaining_time": 16.59777743,
             "test": [
              0.08553620659
             ]
            },
            {
             "iteration": 60,
             "learn": [
              0.08270766716
             ],
             "passed_time": 25.31353586,
             "remaining_time": 16.18406391,
             "test": [
              0.08290067058
             ]
            },
            {
             "iteration": 61,
             "learn": [
              0.08020219444
             ],
             "passed_time": 25.71853829,
             "remaining_time": 15.76297508,
             "test": [
              0.08034715264
             ]
            },
            {
             "iteration": 62,
             "learn": [
              0.07806863891
             ],
             "passed_time": 26.10926645,
             "remaining_time": 15.33401363,
             "test": [
              0.07787749679
             ]
            },
            {
             "iteration": 63,
             "learn": [
              0.07559705976
             ],
             "passed_time": 26.53977374,
             "remaining_time": 14.92862273,
             "test": [
              0.07548459189
             ]
            },
            {
             "iteration": 64,
             "learn": [
              0.07306961239
             ],
             "passed_time": 26.94167868,
             "remaining_time": 14.50705775,
             "test": [
              0.07316863892
             ]
            },
            {
             "iteration": 65,
             "learn": [
              0.07072913725
             ],
             "passed_time": 27.38376373,
             "remaining_time": 14.10678738,
             "test": [
              0.07092599526
             ]
            },
            {
             "iteration": 66,
             "learn": [
              0.06858149112
             ],
             "passed_time": 27.81382252,
             "remaining_time": 13.69934542,
             "test": [
              0.06875595443
             ]
            },
            {
             "iteration": 67,
             "learn": [
              0.06653111293
             ],
             "passed_time": 28.160038,
             "remaining_time": 13.25178259,
             "test": [
              0.06665597233
             ]
            },
            {
             "iteration": 68,
             "learn": [
              0.06455725191
             ],
             "passed_time": 28.61080435,
             "remaining_time": 12.85412949,
             "test": [
              0.06462035149
             ]
            },
            {
             "iteration": 69,
             "learn": [
              0.06260051429
             ],
             "passed_time": 28.9381922,
             "remaining_time": 12.40208237,
             "test": [
              0.06264916529
             ]
            },
            {
             "iteration": 70,
             "learn": [
              0.06065722502
             ],
             "passed_time": 29.29150572,
             "remaining_time": 11.96413614,
             "test": [
              0.06074140185
             ]
            },
            {
             "iteration": 71,
             "learn": [
              0.05875224362
             ],
             "passed_time": 29.67487069,
             "remaining_time": 11.54022749,
             "test": [
              0.0588910195
             ]
            },
            {
             "iteration": 72,
             "learn": [
              0.05695273783
             ],
             "passed_time": 30.06700343,
             "remaining_time": 11.1206725,
             "test": [
              0.05710024041
             ]
            },
            {
             "iteration": 73,
             "learn": [
              0.05552270633
             ],
             "passed_time": 30.50647277,
             "remaining_time": 10.71849043,
             "test": [
              0.05536609932
             ]
            },
            {
             "iteration": 74,
             "learn": [
              0.05375924377
             ],
             "passed_time": 30.91252512,
             "remaining_time": 10.30417504,
             "test": [
              0.05368483463
             ]
            },
            {
             "iteration": 75,
             "learn": [
              0.05192489409
             ],
             "passed_time": 31.33195348,
             "remaining_time": 9.894301098,
             "test": [
              0.05205637684
             ]
            },
            {
             "iteration": 76,
             "learn": [
              0.05061792158
             ],
             "passed_time": 31.74740652,
             "remaining_time": 9.482991558,
             "test": [
              0.05047825446
             ]
            },
            {
             "iteration": 77,
             "learn": [
              0.04892150686
             ],
             "passed_time": 32.1359409,
             "remaining_time": 9.063983331,
             "test": [
              0.04895012852
             ]
            },
            {
             "iteration": 78,
             "learn": [
              0.04741646227
             ],
             "passed_time": 32.51541239,
             "remaining_time": 8.643337471,
             "test": [
              0.04746911498
             ]
            },
            {
             "iteration": 79,
             "learn": [
              0.04599009191
             ],
             "passed_time": 32.8972298,
             "remaining_time": 8.224307451,
             "test": [
              0.04603328018
             ]
            },
            {
             "iteration": 80,
             "learn": [
              0.0447354375
             ],
             "passed_time": 33.32803393,
             "remaining_time": 7.817686971,
             "test": [
              0.04464290446
             ]
            },
            {
             "iteration": 81,
             "learn": [
              0.04317074122
             ],
             "passed_time": 33.69277121,
             "remaining_time": 7.395974168,
             "test": [
              0.04329511194
             ]
            },
            {
             "iteration": 82,
             "learn": [
              0.04204312971
             ],
             "passed_time": 34.01068363,
             "remaining_time": 6.966043636,
             "test": [
              0.041988981
             ]
            },
            {
             "iteration": 83,
             "learn": [
              0.04079604392
             ],
             "passed_time": 34.38479311,
             "remaining_time": 6.549484401,
             "test": [
              0.04072318856
             ]
            },
            {
             "iteration": 84,
             "learn": [
              0.03942614394
             ],
             "passed_time": 34.81310051,
             "remaining_time": 6.143488326,
             "test": [
              0.03949519899
             ]
            },
            {
             "iteration": 85,
             "learn": [
              0.03821358091
             ],
             "passed_time": 35.26600995,
             "remaining_time": 5.740978363,
             "test": [
              0.03830560368
             ]
            },
            {
             "iteration": 86,
             "learn": [
              0.03716851255
             ],
             "passed_time": 35.62093476,
             "remaining_time": 5.322668412,
             "test": [
              0.03715201083
             ]
            },
            {
             "iteration": 87,
             "learn": [
              0.03611880726
             ],
             "passed_time": 36.02782335,
             "remaining_time": 4.912885002,
             "test": [
              0.03603428537
             ]
            },
            {
             "iteration": 88,
             "learn": [
              0.03494367074
             ],
             "passed_time": 36.49430399,
             "remaining_time": 4.510531953,
             "test": [
              0.03495069898
             ]
            },
            {
             "iteration": 89,
             "learn": [
              0.03390536106
             ],
             "passed_time": 36.93219138,
             "remaining_time": 4.10357682,
             "test": [
              0.03390214001
             ]
            },
            {
             "iteration": 90,
             "learn": [
              0.03289270113
             ],
             "passed_time": 37.29409323,
             "remaining_time": 3.688426803,
             "test": [
              0.032884235
             ]
            },
            {
             "iteration": 91,
             "learn": [
              0.03189902921
             ],
             "passed_time": 37.73194691,
             "remaining_time": 3.281038861,
             "test": [
              0.0318973704
             ]
            },
            {
             "iteration": 92,
             "learn": [
              0.03092115983
             ],
             "passed_time": 38.11235077,
             "remaining_time": 2.868671563,
             "test": [
              0.03093983927
             ]
            },
            {
             "iteration": 93,
             "learn": [
              0.0299877516
             ],
             "passed_time": 38.56946283,
             "remaining_time": 2.461880606,
             "test": [
              0.030013964
             ]
            },
            {
             "iteration": 94,
             "learn": [
              0.02907360902
             ],
             "passed_time": 38.98996386,
             "remaining_time": 2.052103361,
             "test": [
              0.02911487063
             ]
            },
            {
             "iteration": 95,
             "learn": [
              0.02829876742
             ],
             "passed_time": 39.42177308,
             "remaining_time": 1.642573878,
             "test": [
              0.02824229445
             ]
            },
            {
             "iteration": 96,
             "learn": [
              0.02740519656
             ],
             "passed_time": 39.80771452,
             "remaining_time": 1.231166429,
             "test": [
              0.02739765831
             ]
            },
            {
             "iteration": 97,
             "learn": [
              0.02652041534
             ],
             "passed_time": 40.22546789,
             "remaining_time": 0.8209279162,
             "test": [
              0.02657944197
             ]
            },
            {
             "iteration": 98,
             "learn": [
              0.02583951411
             ],
             "passed_time": 40.59545047,
             "remaining_time": 0.4100550552,
             "test": [
              0.02578393325
             ]
            },
            {
             "iteration": 99,
             "learn": [
              0.02497541838
             ],
             "passed_time": 40.96566989,
             "remaining_time": 0,
             "test": [
              0.02501252159
             ]
            }
           ],
           "meta": {
            "iteration_count": 100,
            "launch_mode": "Train",
            "learn_metrics": [
             {
              "best_value": "Min",
              "name": "CrossEntropy"
             }
            ],
            "learn_sets": [
             "learn"
            ],
            "name": "experiment",
            "parameters": "",
            "test_metrics": [
             {
              "best_value": "Min",
              "name": "CrossEntropy"
             }
            ],
            "test_sets": [
             "test"
            ]
           }
          },
          "passed_iterations": 99,
          "total_iterations": 100
         },
         "name": "catboost_info",
         "path": "catboost_info"
        }
       },
       "layout": "IPY_MODEL_f888fd6ce8e34aaab7bdecf9db9b73dd"
      }
     },
     "136d4bec87b044e69437227a24f737b2": {
      "model_module": "@jupyter-widgets/base",
      "model_module_version": "1.2.0",
      "model_name": "LayoutModel",
      "state": {
       "_model_module": "@jupyter-widgets/base",
       "_model_module_version": "1.2.0",
       "_model_name": "LayoutModel",
       "_view_count": null,
       "_view_module": "@jupyter-widgets/base",
       "_view_module_version": "1.2.0",
       "_view_name": "LayoutView",
       "align_content": null,
       "align_items": null,
       "align_self": "stretch",
       "border": null,
       "bottom": null,
       "display": null,
       "flex": null,
       "flex_flow": null,
       "grid_area": null,
       "grid_auto_columns": null,
       "grid_auto_flow": null,
       "grid_auto_rows": null,
       "grid_column": null,
       "grid_gap": null,
       "grid_row": null,
       "grid_template_areas": null,
       "grid_template_columns": null,
       "grid_template_rows": null,
       "height": "500px",
       "justify_content": null,
       "justify_items": null,
       "left": null,
       "margin": null,
       "max_height": null,
       "max_width": null,
       "min_height": null,
       "min_width": null,
       "object_fit": null,
       "object_position": null,
       "order": null,
       "overflow": null,
       "overflow_x": null,
       "overflow_y": null,
       "padding": null,
       "right": null,
       "top": null,
       "visibility": null,
       "width": null
      }
     },
     "144b658ac89c472d90c18563bb03b930": {
      "model_module": "@jupyter-widgets/base",
      "model_module_version": "1.2.0",
      "model_name": "LayoutModel",
      "state": {
       "_model_module": "@jupyter-widgets/base",
       "_model_module_version": "1.2.0",
       "_model_name": "LayoutModel",
       "_view_count": null,
       "_view_module": "@jupyter-widgets/base",
       "_view_module_version": "1.2.0",
       "_view_name": "LayoutView",
       "align_content": null,
       "align_items": null,
       "align_self": "stretch",
       "border": null,
       "bottom": null,
       "display": null,
       "flex": null,
       "flex_flow": null,
       "grid_area": null,
       "grid_auto_columns": null,
       "grid_auto_flow": null,
       "grid_auto_rows": null,
       "grid_column": null,
       "grid_gap": null,
       "grid_row": null,
       "grid_template_areas": null,
       "grid_template_columns": null,
       "grid_template_rows": null,
       "height": "500px",
       "justify_content": null,
       "justify_items": null,
       "left": null,
       "margin": null,
       "max_height": null,
       "max_width": null,
       "min_height": null,
       "min_width": null,
       "object_fit": null,
       "object_position": null,
       "order": null,
       "overflow": null,
       "overflow_x": null,
       "overflow_y": null,
       "padding": null,
       "right": null,
       "top": null,
       "visibility": null,
       "width": null
      }
     },
     "167a81f8825b43d1b7e658c3dc9a2d56": {
      "model_module": "catboost-widget",
      "model_module_version": "^1.0.0",
      "model_name": "CatboostWidgetModel",
      "state": {
       "_dom_classes": [],
       "_model_module": "catboost-widget",
       "_model_module_version": "^1.0.0",
       "_model_name": "CatboostWidgetModel",
       "_view_count": null,
       "_view_module": "catboost-widget",
       "_view_module_version": "^1.0.0",
       "_view_name": "CatboostWidgetView",
       "data": {
        "catboost_info": {
         "content": {
          "data": {
           "iterations": [
            {
             "iteration": 0,
             "learn": [
              0.6696010252
             ],
             "passed_time": 0.4609358858,
             "remaining_time": 45.63265269,
             "test": [
              0.6681274449
             ]
            },
            {
             "iteration": 1,
             "learn": [
              0.6456077771
             ],
             "passed_time": 0.8911920262,
             "remaining_time": 43.66840928,
             "test": [
              0.6442242058
             ]
            },
            {
             "iteration": 2,
             "learn": [
              0.6235028934
             ],
             "passed_time": 1.342459625,
             "remaining_time": 43.40619454,
             "test": [
              0.6219086658
             ]
            },
            {
             "iteration": 3,
             "learn": [
              0.6036791864
             ],
             "passed_time": 1.783957121,
             "remaining_time": 42.8149709,
             "test": [
              0.60094795
             ]
            },
            {
             "iteration": 4,
             "learn": [
              0.5837678578
             ],
             "passed_time": 2.210675682,
             "remaining_time": 42.00283796,
             "test": [
              0.5807647072
             ]
            },
            {
             "iteration": 5,
             "learn": [
              0.5642119882
             ],
             "passed_time": 2.62074314,
             "remaining_time": 41.0583092,
             "test": [
              0.5609081207
             ]
            },
            {
             "iteration": 6,
             "learn": [
              0.5453636989
             ],
             "passed_time": 3.027397264,
             "remaining_time": 40.22113508,
             "test": [
              0.5420376682
             ]
            },
            {
             "iteration": 7,
             "learn": [
              0.5286710854
             ],
             "passed_time": 3.500104328,
             "remaining_time": 40.25119977,
             "test": [
              0.5245841291
             ]
            },
            {
             "iteration": 8,
             "learn": [
              0.5118230059
             ],
             "passed_time": 3.95740094,
             "remaining_time": 40.01372061,
             "test": [
              0.5080457355
             ]
            },
            {
             "iteration": 9,
             "learn": [
              0.4962609464
             ],
             "passed_time": 4.368083354,
             "remaining_time": 39.31275018,
             "test": [
              0.4916087328
             ]
            },
            {
             "iteration": 10,
             "learn": [
              0.4820392418
             ],
             "passed_time": 4.824151611,
             "remaining_time": 39.03177213,
             "test": [
              0.4765339401
             ]
            },
            {
             "iteration": 11,
             "learn": [
              0.468249707
             ],
             "passed_time": 5.222933396,
             "remaining_time": 38.30151157,
             "test": [
              0.4622716112
             ]
            },
            {
             "iteration": 12,
             "learn": [
              0.4542464454
             ],
             "passed_time": 5.630939439,
             "remaining_time": 37.68397932,
             "test": [
              0.4479355314
             ]
            },
            {
             "iteration": 13,
             "learn": [
              0.4411285068
             ],
             "passed_time": 6.052082504,
             "remaining_time": 37.17707824,
             "test": [
              0.434381267
             ]
            },
            {
             "iteration": 14,
             "learn": [
              0.4290440428
             ],
             "passed_time": 6.477454107,
             "remaining_time": 36.70557327,
             "test": [
              0.4214187732
             ]
            },
            {
             "iteration": 15,
             "learn": [
              0.4170360593
             ],
             "passed_time": 6.931183576,
             "remaining_time": 36.38871378,
             "test": [
              0.4092531943
             ]
            },
            {
             "iteration": 16,
             "learn": [
              0.4050858683
             ],
             "passed_time": 7.421974209,
             "remaining_time": 36.23669761,
             "test": [
              0.3971044544
             ]
            },
            {
             "iteration": 17,
             "learn": [
              0.3937716554
             ],
             "passed_time": 7.999233914,
             "remaining_time": 36.4409545,
             "test": [
              0.3853571057
             ]
            },
            {
             "iteration": 18,
             "learn": [
              0.3827294846
             ],
             "passed_time": 8.580580403,
             "remaining_time": 36.58036909,
             "test": [
              0.3742129302
             ]
            },
            {
             "iteration": 19,
             "learn": [
              0.3720393626
             ],
             "passed_time": 9.040925846,
             "remaining_time": 36.16370338,
             "test": [
              0.3635000014
             ]
            },
            {
             "iteration": 20,
             "learn": [
              0.3620615328
             ],
             "passed_time": 9.457201936,
             "remaining_time": 35.577093,
             "test": [
              0.3532454681
             ]
            },
            {
             "iteration": 21,
             "learn": [
              0.3529692554
             ],
             "passed_time": 9.883664225,
             "remaining_time": 35.04208225,
             "test": [
              0.3438672408
             ]
            },
            {
             "iteration": 22,
             "learn": [
              0.344605333
             ],
             "passed_time": 10.30047516,
             "remaining_time": 34.48419943,
             "test": [
              0.3350951143
             ]
            },
            {
             "iteration": 23,
             "learn": [
              0.3354446739
             ],
             "passed_time": 10.71467452,
             "remaining_time": 33.92980263,
             "test": [
              0.3259451514
             ]
            },
            {
             "iteration": 24,
             "learn": [
              0.3253565564
             ],
             "passed_time": 11.13002884,
             "remaining_time": 33.39008651,
             "test": [
              0.3161025904
             ]
            },
            {
             "iteration": 25,
             "learn": [
              0.3160474893
             ],
             "passed_time": 11.55099168,
             "remaining_time": 32.87589939,
             "test": [
              0.3066727559
             ]
            },
            {
             "iteration": 26,
             "learn": [
              0.3071767598
             ],
             "passed_time": 11.97026967,
             "remaining_time": 32.36406244,
             "test": [
              0.2977452607
             ]
            },
            {
             "iteration": 27,
             "learn": [
              0.2984821565
             ],
             "passed_time": 12.38786645,
             "remaining_time": 31.85451373,
             "test": [
              0.2891545557
             ]
            },
            {
             "iteration": 28,
             "learn": [
              0.2912081834
             ],
             "passed_time": 12.83312492,
             "remaining_time": 31.41902999,
             "test": [
              0.2816360225
             ]
            },
            {
             "iteration": 29,
             "learn": [
              0.2831827768
             ],
             "passed_time": 13.25043315,
             "remaining_time": 30.91767736,
             "test": [
              0.2736960291
             ]
            },
            {
             "iteration": 30,
             "learn": [
              0.2767582837
             ],
             "passed_time": 13.68039779,
             "remaining_time": 30.44991766,
             "test": [
              0.266948244
             ]
            },
            {
             "iteration": 31,
             "learn": [
              0.2704644559
             ],
             "passed_time": 14.08832813,
             "remaining_time": 29.93769727,
             "test": [
              0.2605377937
             ]
            },
            {
             "iteration": 32,
             "learn": [
              0.2632444117
             ],
             "passed_time": 14.55090476,
             "remaining_time": 29.54274603,
             "test": [
              0.2532919276
             ]
            },
            {
             "iteration": 33,
             "learn": [
              0.2574591174
             ],
             "passed_time": 14.96174546,
             "remaining_time": 29.04338824,
             "test": [
              0.2475753769
             ]
            },
            {
             "iteration": 34,
             "learn": [
              0.2507945456
             ],
             "passed_time": 15.38396296,
             "remaining_time": 28.57021692,
             "test": [
              0.2408925934
             ]
            },
            {
             "iteration": 35,
             "learn": [
              0.2442561674
             ],
             "passed_time": 15.80532522,
             "remaining_time": 28.09835595,
             "test": [
              0.2343585588
             ]
            },
            {
             "iteration": 36,
             "learn": [
              0.2379709057
             ],
             "passed_time": 16.22583067,
             "remaining_time": 27.62776574,
             "test": [
              0.2280593661
             ]
            },
            {
             "iteration": 37,
             "learn": [
              0.2319616191
             ],
             "passed_time": 16.64865815,
             "remaining_time": 27.16360014,
             "test": [
              0.2220912327
             ]
            },
            {
             "iteration": 38,
             "learn": [
              0.2261612926
             ],
             "passed_time": 17.05964322,
             "remaining_time": 26.6830317,
             "test": [
              0.2165167038
             ]
            },
            {
             "iteration": 39,
             "learn": [
              0.2214137326
             ],
             "passed_time": 17.52717631,
             "remaining_time": 26.29076447,
             "test": [
              0.2114397378
             ]
            },
            {
             "iteration": 40,
             "learn": [
              0.2159230737
             ],
             "passed_time": 18.00174782,
             "remaining_time": 25.90495419,
             "test": [
              0.2058103096
             ]
            },
            {
             "iteration": 41,
             "learn": [
              0.2106155789
             ],
             "passed_time": 18.47803549,
             "remaining_time": 25.5172871,
             "test": [
              0.2004189837
             ]
            },
            {
             "iteration": 42,
             "learn": [
              0.2056477482
             ],
             "passed_time": 18.90503541,
             "remaining_time": 25.06016322,
             "test": [
              0.1954415413
             ]
            },
            {
             "iteration": 43,
             "learn": [
              0.2009137303
             ],
             "passed_time": 19.30763322,
             "remaining_time": 24.57335137,
             "test": [
              0.1908392035
             ]
            },
            {
             "iteration": 44,
             "learn": [
              0.196151601
             ],
             "passed_time": 19.78732377,
             "remaining_time": 24.18450683,
             "test": [
              0.1858979912
             ]
            },
            {
             "iteration": 45,
             "learn": [
              0.1916725891
             ],
             "passed_time": 20.19677882,
             "remaining_time": 23.70926209,
             "test": [
              0.1816008799
             ]
            },
            {
             "iteration": 46,
             "learn": [
              0.1871384136
             ],
             "passed_time": 20.61326913,
             "remaining_time": 23.2447503,
             "test": [
              0.1772142437
             ]
            },
            {
             "iteration": 47,
             "learn": [
              0.1830405746
             ],
             "passed_time": 21.04331109,
             "remaining_time": 22.79692034,
             "test": [
              0.173237713
             ]
            },
            {
             "iteration": 48,
             "learn": [
              0.1788880987
             ],
             "passed_time": 21.52622562,
             "remaining_time": 22.40484707,
             "test": [
              0.1689450094
             ]
            },
            {
             "iteration": 49,
             "learn": [
              0.174745203
             ],
             "passed_time": 21.93900913,
             "remaining_time": 21.93900913,
             "test": [
              0.1649538184
             ]
            },
            {
             "iteration": 50,
             "learn": [
              0.1709852941
             ],
             "passed_time": 22.34286143,
             "remaining_time": 21.46667078,
             "test": [
              0.1613392247
             ]
            },
            {
             "iteration": 51,
             "learn": [
              0.167482531
             ],
             "passed_time": 22.77140511,
             "remaining_time": 21.01975856,
             "test": [
              0.1579161589
             ]
            },
            {
             "iteration": 52,
             "learn": [
              0.163930649
             ],
             "passed_time": 23.2121868,
             "remaining_time": 20.58439207,
             "test": [
              0.1542674611
             ]
            },
            {
             "iteration": 53,
             "learn": [
              0.1607493372
             ],
             "passed_time": 23.61199362,
             "remaining_time": 20.11392049,
             "test": [
              0.1511505837
             ]
            },
            {
             "iteration": 54,
             "learn": [
              0.1570736286
             ],
             "passed_time": 24.08819761,
             "remaining_time": 19.70852531,
             "test": [
              0.147249419
             ]
            },
            {
             "iteration": 55,
             "learn": [
              0.1541713311
             ],
             "passed_time": 24.47705359,
             "remaining_time": 19.23197068,
             "test": [
              0.1442547064
             ]
            },
            {
             "iteration": 56,
             "learn": [
              0.1513455803
             ],
             "passed_time": 24.84486741,
             "remaining_time": 18.74261927,
             "test": [
              0.1414137905
             ]
            },
            {
             "iteration": 57,
             "learn": [
              0.1485098976
             ],
             "passed_time": 25.23135099,
             "remaining_time": 18.2709783,
             "test": [
              0.1386212704
             ]
            },
            {
             "iteration": 58,
             "learn": [
              0.1459013096
             ],
             "passed_time": 25.66994602,
             "remaining_time": 17.83843706,
             "test": [
              0.1358940209
             ]
            },
            {
             "iteration": 59,
             "learn": [
              0.143200533
             ],
             "passed_time": 26.11639438,
             "remaining_time": 17.41092959,
             "test": [
              0.133137332
             ]
            },
            {
             "iteration": 60,
             "learn": [
              0.1406545826
             ],
             "passed_time": 26.50879483,
             "remaining_time": 16.94824587,
             "test": [
              0.1306647407
             ]
            },
            {
             "iteration": 61,
             "learn": [
              0.1379370134
             ],
             "passed_time": 26.94778473,
             "remaining_time": 16.51638419,
             "test": [
              0.1278499025
             ]
            },
            {
             "iteration": 62,
             "learn": [
              0.1349839925
             ],
             "passed_time": 27.42870265,
             "remaining_time": 16.1089206,
             "test": [
              0.1246748293
             ]
            },
            {
             "iteration": 63,
             "learn": [
              0.1326839375
             ],
             "passed_time": 27.83307598,
             "remaining_time": 15.65610524,
             "test": [
              0.122210183
             ]
            },
            {
             "iteration": 64,
             "learn": [
              0.1305683363
             ],
             "passed_time": 28.22120559,
             "remaining_time": 15.19603378,
             "test": [
              0.1199458087
             ]
            },
            {
             "iteration": 65,
             "learn": [
              0.1284946063
             ],
             "passed_time": 28.61873962,
             "remaining_time": 14.74298708,
             "test": [
              0.1177203836
             ]
            },
            {
             "iteration": 66,
             "learn": [
              0.1264366394
             ],
             "passed_time": 28.99890307,
             "remaining_time": 14.28304181,
             "test": [
              0.1155660541
             ]
            },
            {
             "iteration": 67,
             "learn": [
              0.1247233696
             ],
             "passed_time": 29.34754809,
             "remaining_time": 13.81061087,
             "test": [
              0.1136735672
             ]
            },
            {
             "iteration": 68,
             "learn": [
              0.1226700932
             ],
             "passed_time": 29.748646,
             "remaining_time": 13.36533371,
             "test": [
              0.1114697117
             ]
            },
            {
             "iteration": 69,
             "learn": [
              0.1204020772
             ],
             "passed_time": 30.16947395,
             "remaining_time": 12.92977455,
             "test": [
              0.1093777226
             ]
            },
            {
             "iteration": 70,
             "learn": [
              0.1189733927
             ],
             "passed_time": 30.50356313,
             "remaining_time": 12.45920184,
             "test": [
              0.1079948331
             ]
            },
            {
             "iteration": 71,
             "learn": [
              0.1173412928
             ],
             "passed_time": 30.83994684,
             "remaining_time": 11.99331266,
             "test": [
              0.1064410373
             ]
            },
            {
             "iteration": 72,
             "learn": [
              0.1152417967
             ],
             "passed_time": 31.2437352,
             "remaining_time": 11.55590206,
             "test": [
              0.1043666289
             ]
            },
            {
             "iteration": 73,
             "learn": [
              0.1139438847
             ],
             "passed_time": 31.56528419,
             "remaining_time": 11.09050525,
             "test": [
              0.1031982219
             ]
            },
            {
             "iteration": 74,
             "learn": [
              0.1119418537
             ],
             "passed_time": 31.98491587,
             "remaining_time": 10.66163862,
             "test": [
              0.101361301
             ]
            },
            {
             "iteration": 75,
             "learn": [
              0.1106151834
             ],
             "passed_time": 32.30792499,
             "remaining_time": 10.20250263,
             "test": [
              0.1000428249
             ]
            },
            {
             "iteration": 76,
             "learn": [
              0.1093767178
             ],
             "passed_time": 32.6365736,
             "remaining_time": 9.748586919,
             "test": [
              0.09880173734
             ]
            },
            {
             "iteration": 77,
             "learn": [
              0.107718991
             ],
             "passed_time": 33.04138177,
             "remaining_time": 9.31936409,
             "test": [
              0.09709300489
             ]
            },
            {
             "iteration": 78,
             "learn": [
              0.1066086542
             ],
             "passed_time": 33.36010394,
             "remaining_time": 8.867875731,
             "test": [
              0.09611713597
             ]
            },
            {
             "iteration": 79,
             "learn": [
              0.104695543
             ],
             "passed_time": 33.79362308,
             "remaining_time": 8.448405769,
             "test": [
              0.09424746423
             ]
            },
            {
             "iteration": 80,
             "learn": [
              0.1036852259
             ],
             "passed_time": 34.11133052,
             "remaining_time": 8.001423207,
             "test": [
              0.09334861643
             ]
            },
            {
             "iteration": 81,
             "learn": [
              0.1020045634
             ],
             "passed_time": 34.51996721,
             "remaining_time": 7.577553778,
             "test": [
              0.09160068277
             ]
            },
            {
             "iteration": 82,
             "learn": [
              0.1002378906
             ],
             "passed_time": 34.95742801,
             "remaining_time": 7.159955134,
             "test": [
              0.0898523669
             ]
            },
            {
             "iteration": 83,
             "learn": [
              0.09867835013
             ],
             "passed_time": 35.37060399,
             "remaining_time": 6.737257903,
             "test": [
              0.08825756846
             ]
            },
            {
             "iteration": 84,
             "learn": [
              0.09777728065
             ],
             "passed_time": 35.69349312,
             "remaining_time": 6.298851727,
             "test": [
              0.08747222867
             ]
            },
            {
             "iteration": 85,
             "learn": [
              0.09682619445
             ],
             "passed_time": 36.02129816,
             "remaining_time": 5.863932259,
             "test": [
              0.086532252
             ]
            },
            {
             "iteration": 86,
             "learn": [
              0.09528629773
             ],
             "passed_time": 36.4943814,
             "remaining_time": 5.453183427,
             "test": [
              0.08498085045
             ]
            },
            {
             "iteration": 87,
             "learn": [
              0.09419251569
             ],
             "passed_time": 36.84250865,
             "remaining_time": 5.023978452,
             "test": [
              0.08385567628
             ]
            },
            {
             "iteration": 88,
             "learn": [
              0.09299096856
             ],
             "passed_time": 37.25115868,
             "remaining_time": 4.604075792,
             "test": [
              0.08267645104
             ]
            },
            {
             "iteration": 89,
             "learn": [
              0.09214057557
             ],
             "passed_time": 37.58560165,
             "remaining_time": 4.176177961,
             "test": [
              0.08181050353
             ]
            },
            {
             "iteration": 90,
             "learn": [
              0.09066610734
             ],
             "passed_time": 38.02223076,
             "remaining_time": 3.760440405,
             "test": [
              0.08045718969
             ]
            },
            {
             "iteration": 91,
             "learn": [
              0.08962724342
             ],
             "passed_time": 38.37975307,
             "remaining_time": 3.337369832,
             "test": [
              0.07942995548
             ]
            },
            {
             "iteration": 92,
             "learn": [
              0.08828317718
             ],
             "passed_time": 38.81718088,
             "remaining_time": 2.921723292,
             "test": [
              0.0780768897
             ]
            },
            {
             "iteration": 93,
             "learn": [
              0.08673518152
             ],
             "passed_time": 39.31988624,
             "remaining_time": 2.509779973,
             "test": [
              0.07651085742
             ]
            },
            {
             "iteration": 94,
             "learn": [
              0.08595405664
             ],
             "passed_time": 39.80015996,
             "remaining_time": 2.094745261,
             "test": [
              0.07572564733
             ]
            },
            {
             "iteration": 95,
             "learn": [
              0.08497900981
             ],
             "passed_time": 40.29744982,
             "remaining_time": 1.679060409,
             "test": [
              0.07476005167
             ]
            },
            {
             "iteration": 96,
             "learn": [
              0.08362064854
             ],
             "passed_time": 40.84530616,
             "remaining_time": 1.263256892,
             "test": [
              0.07339469475
             ]
            },
            {
             "iteration": 97,
             "learn": [
              0.08274500829
             ],
             "passed_time": 41.25164628,
             "remaining_time": 0.8418703322,
             "test": [
              0.07251616325
             ]
            },
            {
             "iteration": 98,
             "learn": [
              0.08190734567
             ],
             "passed_time": 41.6113962,
             "remaining_time": 0.4203171334,
             "test": [
              0.07166408876
             ]
            },
            {
             "iteration": 99,
             "learn": [
              0.08076037066
             ],
             "passed_time": 42.02400738,
             "remaining_time": 0,
             "test": [
              0.07046954467
             ]
            }
           ],
           "meta": {
            "iteration_count": 100,
            "launch_mode": "Train",
            "learn_metrics": [
             {
              "best_value": "Min",
              "name": "CrossEntropy"
             }
            ],
            "learn_sets": [
             "learn"
            ],
            "name": "experiment",
            "parameters": "",
            "test_metrics": [
             {
              "best_value": "Min",
              "name": "CrossEntropy"
             }
            ],
            "test_sets": [
             "test"
            ]
           }
          },
          "passed_iterations": 99,
          "total_iterations": 100
         },
         "name": "catboost_info",
         "path": "catboost_info"
        }
       },
       "layout": "IPY_MODEL_3376fdb54b6b48ed85228b77885d5fe9"
      }
     },
     "16b33afbf3cf4068b1e20470f45cea71": {
      "model_module": "@jupyter-widgets/base",
      "model_module_version": "1.2.0",
      "model_name": "LayoutModel",
      "state": {
       "_model_module": "@jupyter-widgets/base",
       "_model_module_version": "1.2.0",
       "_model_name": "LayoutModel",
       "_view_count": null,
       "_view_module": "@jupyter-widgets/base",
       "_view_module_version": "1.2.0",
       "_view_name": "LayoutView",
       "align_content": null,
       "align_items": null,
       "align_self": "stretch",
       "border": null,
       "bottom": null,
       "display": null,
       "flex": null,
       "flex_flow": null,
       "grid_area": null,
       "grid_auto_columns": null,
       "grid_auto_flow": null,
       "grid_auto_rows": null,
       "grid_column": null,
       "grid_gap": null,
       "grid_row": null,
       "grid_template_areas": null,
       "grid_template_columns": null,
       "grid_template_rows": null,
       "height": "500px",
       "justify_content": null,
       "justify_items": null,
       "left": null,
       "margin": null,
       "max_height": null,
       "max_width": null,
       "min_height": null,
       "min_width": null,
       "object_fit": null,
       "object_position": null,
       "order": null,
       "overflow": null,
       "overflow_x": null,
       "overflow_y": null,
       "padding": null,
       "right": null,
       "top": null,
       "visibility": null,
       "width": null
      }
     },
     "1b367d3b918449a681df2b1214d5c8d0": {
      "model_module": "catboost-widget",
      "model_module_version": "^1.0.0",
      "model_name": "CatboostWidgetModel",
      "state": {
       "_dom_classes": [],
       "_model_module": "catboost-widget",
       "_model_module_version": "^1.0.0",
       "_model_name": "CatboostWidgetModel",
       "_view_count": null,
       "_view_module": "catboost-widget",
       "_view_module_version": "^1.0.0",
       "_view_name": "CatboostWidgetView",
       "data": {
        "catboost_info": {
         "content": {
          "data": {
           "iterations": [
            {
             "iteration": 0,
             "learn": [
              0.6719333653
             ],
             "passed_time": 0.4708502998,
             "remaining_time": 46.61417968,
             "test": [
              0.6716684739
             ]
            },
            {
             "iteration": 1,
             "learn": [
              0.651731435
             ],
             "passed_time": 0.9029023382,
             "remaining_time": 44.24221457,
             "test": [
              0.651710362
             ]
            },
            {
             "iteration": 2,
             "learn": [
              0.631691608
             ],
             "passed_time": 1.318073959,
             "remaining_time": 42.61772469,
             "test": [
              0.6327032858
             ]
            },
            {
             "iteration": 3,
             "learn": [
              0.6144487451
             ],
             "passed_time": 1.728179092,
             "remaining_time": 41.4762982,
             "test": [
              0.6145503714
             ]
            },
            {
             "iteration": 4,
             "learn": [
              0.5982621538
             ],
             "passed_time": 2.099533874,
             "remaining_time": 39.89114361,
             "test": [
              0.5990180067
             ]
            },
            {
             "iteration": 5,
             "learn": [
              0.5822466677
             ],
             "passed_time": 2.533009076,
             "remaining_time": 39.68380886,
             "test": [
              0.5828081911
             ]
            },
            {
             "iteration": 6,
             "learn": [
              0.5681532453
             ],
             "passed_time": 3.268610055,
             "remaining_time": 43.4258193,
             "test": [
              0.5687584375
             ]
            },
            {
             "iteration": 7,
             "learn": [
              0.5539033458
             ],
             "passed_time": 3.641095692,
             "remaining_time": 41.87260045,
             "test": [
              0.5553720117
             ]
            },
            {
             "iteration": 8,
             "learn": [
              0.541587259
             ],
             "passed_time": 4.004906482,
             "remaining_time": 40.49405442,
             "test": [
              0.5424119862
             ]
            },
            {
             "iteration": 9,
             "learn": [
              0.5295568434
             ],
             "passed_time": 4.380701328,
             "remaining_time": 39.42631195,
             "test": [
              0.5299797596
             ]
            },
            {
             "iteration": 10,
             "learn": [
              0.5177354505
             ],
             "passed_time": 4.796686563,
             "remaining_time": 38.80955492,
             "test": [
              0.5182107645
             ]
            },
            {
             "iteration": 11,
             "learn": [
              0.5051364268
             ],
             "passed_time": 5.209536576,
             "remaining_time": 38.20326822,
             "test": [
              0.5052998204
             ]
            },
            {
             "iteration": 12,
             "learn": [
              0.4925762137
             ],
             "passed_time": 5.619593681,
             "remaining_time": 37.60805002,
             "test": [
              0.4926566739
             ]
            },
            {
             "iteration": 13,
             "learn": [
              0.4822131554
             ],
             "passed_time": 6.024621558,
             "remaining_time": 37.00838957,
             "test": [
              0.4822073539
             ]
            },
            {
             "iteration": 14,
             "learn": [
              0.470924689
             ],
             "passed_time": 6.434466786,
             "remaining_time": 36.46197845,
             "test": [
              0.4704082356
             ]
            },
            {
             "iteration": 15,
             "learn": [
              0.4611864313
             ],
             "passed_time": 6.832437976,
             "remaining_time": 35.87029937,
             "test": [
              0.4609909185
             ]
            },
            {
             "iteration": 16,
             "learn": [
              0.4508612771
             ],
             "passed_time": 7.233422582,
             "remaining_time": 35.31612202,
             "test": [
              0.4503497233
             ]
            },
            {
             "iteration": 17,
             "learn": [
              0.4403220997
             ],
             "passed_time": 7.654364131,
             "remaining_time": 34.86988104,
             "test": [
              0.4403193541
             ]
            },
            {
             "iteration": 18,
             "learn": [
              0.4322425248
             ],
             "passed_time": 8.054064076,
             "remaining_time": 34.33574685,
             "test": [
              0.4316920824
             ]
            },
            {
             "iteration": 19,
             "learn": [
              0.4234773515
             ],
             "passed_time": 8.464664244,
             "remaining_time": 33.85865698,
             "test": [
              0.4226500356
             ]
            },
            {
             "iteration": 20,
             "learn": [
              0.4148763638
             ],
             "passed_time": 8.906219789,
             "remaining_time": 33.50435064,
             "test": [
              0.4139829937
             ]
            },
            {
             "iteration": 21,
             "learn": [
              0.4057754716
             ],
             "passed_time": 9.302170118,
             "remaining_time": 32.98042133,
             "test": [
              0.4049304338
             ]
            },
            {
             "iteration": 22,
             "learn": [
              0.3985279258
             ],
             "passed_time": 9.741443673,
             "remaining_time": 32.61265925,
             "test": [
              0.3973626079
             ]
            },
            {
             "iteration": 23,
             "learn": [
              0.3907700072
             ],
             "passed_time": 10.16110653,
             "remaining_time": 32.17683735,
             "test": [
              0.3893907036
             ]
            },
            {
             "iteration": 24,
             "learn": [
              0.3833145593
             ],
             "passed_time": 10.57021257,
             "remaining_time": 31.71063771,
             "test": [
              0.3818644223
             ]
            },
            {
             "iteration": 25,
             "learn": [
              0.3767450225
             ],
             "passed_time": 10.96571036,
             "remaining_time": 31.21009872,
             "test": [
              0.374989287
             ]
            },
            {
             "iteration": 26,
             "learn": [
              0.3692115759
             ],
             "passed_time": 11.36547662,
             "remaining_time": 30.72888124,
             "test": [
              0.3675913249
             ]
            },
            {
             "iteration": 27,
             "learn": [
              0.362583169
             ],
             "passed_time": 11.77095454,
             "remaining_time": 30.26816881,
             "test": [
              0.3608222791
             ]
            },
            {
             "iteration": 28,
             "learn": [
              0.3555534126
             ],
             "passed_time": 12.18846771,
             "remaining_time": 29.8407313,
             "test": [
              0.3537221398
             ]
            },
            {
             "iteration": 29,
             "learn": [
              0.3496830251
             ],
             "passed_time": 12.59876753,
             "remaining_time": 29.39712425,
             "test": [
              0.347574696
             ]
            },
            {
             "iteration": 30,
             "learn": [
              0.3429555323
             ],
             "passed_time": 13.02079287,
             "remaining_time": 28.98176478,
             "test": [
              0.341000615
             ]
            },
            {
             "iteration": 31,
             "learn": [
              0.3376610083
             ],
             "passed_time": 13.38927306,
             "remaining_time": 28.45220525,
             "test": [
              0.3354986545
             ]
            },
            {
             "iteration": 32,
             "learn": [
              0.3322103613
             ],
             "passed_time": 13.78235517,
             "remaining_time": 27.98235748,
             "test": [
              0.3299775929
             ]
            },
            {
             "iteration": 33,
             "learn": [
              0.3261413154
             ],
             "passed_time": 14.18771363,
             "remaining_time": 27.54085588,
             "test": [
              0.3240117334
             ]
            },
            {
             "iteration": 34,
             "learn": [
              0.321004314
             ],
             "passed_time": 14.56181976,
             "remaining_time": 27.04337955,
             "test": [
              0.3191145379
             ]
            },
            {
             "iteration": 35,
             "learn": [
              0.3154041288
             ],
             "passed_time": 15.00040366,
             "remaining_time": 26.66738429,
             "test": [
              0.3134976088
             ]
            },
            {
             "iteration": 36,
             "learn": [
              0.3102341325
             ],
             "passed_time": 15.40451697,
             "remaining_time": 26.22931268,
             "test": [
              0.3084029682
             ]
            },
            {
             "iteration": 37,
             "learn": [
              0.3045671888
             ],
             "passed_time": 15.81299058,
             "remaining_time": 25.80014253,
             "test": [
              0.302683819
             ]
            },
            {
             "iteration": 38,
             "learn": [
              0.2995447802
             ],
             "passed_time": 16.2165433,
             "remaining_time": 25.36433696,
             "test": [
              0.297523998
             ]
            },
            {
             "iteration": 39,
             "learn": [
              0.2950704107
             ],
             "passed_time": 16.61477801,
             "remaining_time": 24.92216702,
             "test": [
              0.2929259686
             ]
            },
            {
             "iteration": 40,
             "learn": [
              0.2899928214
             ],
             "passed_time": 17.02256347,
             "remaining_time": 24.49588401,
             "test": [
              0.2876810632
             ]
            },
            {
             "iteration": 41,
             "learn": [
              0.2857678558
             ],
             "passed_time": 17.44266692,
             "remaining_time": 24.08749241,
             "test": [
              0.2834771034
             ]
            },
            {
             "iteration": 42,
             "learn": [
              0.2809051311
             ],
             "passed_time": 17.84789237,
             "remaining_time": 23.65883408,
             "test": [
              0.2785356959
             ]
            },
            {
             "iteration": 43,
             "learn": [
              0.2764609967
             ],
             "passed_time": 18.25442531,
             "remaining_time": 23.23290493,
             "test": [
              0.2743174062
             ]
            },
            {
             "iteration": 44,
             "learn": [
              0.272733051
             ],
             "passed_time": 18.60843733,
             "remaining_time": 22.74364563,
             "test": [
              0.2703532416
             ]
            },
            {
             "iteration": 45,
             "learn": [
              0.2683496232
             ],
             "passed_time": 19.02122692,
             "remaining_time": 22.32926638,
             "test": [
              0.2657286392
             ]
            },
            {
             "iteration": 46,
             "learn": [
              0.2641018747
             ],
             "passed_time": 19.43795323,
             "remaining_time": 21.91939407,
             "test": [
              0.2613203555
             ]
            },
            {
             "iteration": 47,
             "learn": [
              0.2601482613
             ],
             "passed_time": 19.95998998,
             "remaining_time": 21.62332248,
             "test": [
              0.2572113645
             ]
            },
            {
             "iteration": 48,
             "learn": [
              0.2563700284
             ],
             "passed_time": 20.549559,
             "remaining_time": 21.38831651,
             "test": [
              0.2533629787
             ]
            },
            {
             "iteration": 49,
             "learn": [
              0.2526843565
             ],
             "passed_time": 21.1481449,
             "remaining_time": 21.1481449,
             "test": [
              0.24951501
             ]
            },
            {
             "iteration": 50,
             "learn": [
              0.2488741476
             ],
             "passed_time": 21.56769673,
             "remaining_time": 20.7219047,
             "test": [
              0.2455751523
             ]
            },
            {
             "iteration": 51,
             "learn": [
              0.2449198869
             ],
             "passed_time": 22.04050578,
             "remaining_time": 20.34508226,
             "test": [
              0.2412687803
             ]
            },
            {
             "iteration": 52,
             "learn": [
              0.2417136744
             ],
             "passed_time": 22.47035309,
             "remaining_time": 19.92653953,
             "test": [
              0.2378514677
             ]
            },
            {
             "iteration": 53,
             "learn": [
              0.2385239447
             ],
             "passed_time": 22.86007698,
             "remaining_time": 19.47339891,
             "test": [
              0.2344875359
             ]
            },
            {
             "iteration": 54,
             "learn": [
              0.2353291027
             ],
             "passed_time": 23.25968243,
             "remaining_time": 19.03064926,
             "test": [
              0.2314091252
             ]
            },
            {
             "iteration": 55,
             "learn": [
              0.2322731729
             ],
             "passed_time": 23.65372245,
             "remaining_time": 18.58506764,
             "test": [
              0.2281630182
             ]
            },
            {
             "iteration": 56,
             "learn": [
              0.2288995926
             ],
             "passed_time": 24.10186604,
             "remaining_time": 18.18210947,
             "test": [
              0.2246835253
             ]
            },
            {
             "iteration": 57,
             "learn": [
              0.2261959527
             ],
             "passed_time": 24.46425579,
             "remaining_time": 17.71549557,
             "test": [
              0.2218936965
             ]
            },
            {
             "iteration": 58,
             "learn": [
              0.2228770725
             ],
             "passed_time": 24.90310098,
             "remaining_time": 17.30554475,
             "test": [
              0.2185135382
             ]
            },
            {
             "iteration": 59,
             "learn": [
              0.2196638439
             ],
             "passed_time": 25.3477981,
             "remaining_time": 16.89853207,
             "test": [
              0.2153508143
             ]
            },
            {
             "iteration": 60,
             "learn": [
              0.216765565
             ],
             "passed_time": 25.76368953,
             "remaining_time": 16.47186708,
             "test": [
              0.2126506852
             ]
            },
            {
             "iteration": 61,
             "learn": [
              0.2141089427
             ],
             "passed_time": 26.15397487,
             "remaining_time": 16.02985556,
             "test": [
              0.2099413439
             ]
            },
            {
             "iteration": 62,
             "learn": [
              0.2117124984
             ],
             "passed_time": 26.51578325,
             "remaining_time": 15.57276159,
             "test": [
              0.2074408568
             ]
            },
            {
             "iteration": 63,
             "learn": [
              0.2089135989
             ],
             "passed_time": 26.94661507,
             "remaining_time": 15.15747098,
             "test": [
              0.2046570676
             ]
            },
            {
             "iteration": 64,
             "learn": [
              0.2064612249
             ],
             "passed_time": 27.33667682,
             "remaining_time": 14.71974906,
             "test": [
              0.2021359746
             ]
            },
            {
             "iteration": 65,
             "learn": [
              0.2036172291
             ],
             "passed_time": 27.78679639,
             "remaining_time": 14.31441026,
             "test": [
              0.199319909
             ]
            },
            {
             "iteration": 66,
             "learn": [
              0.2012865698
             ],
             "passed_time": 28.16138153,
             "remaining_time": 13.8705312,
             "test": [
              0.1970389566
             ]
            },
            {
             "iteration": 67,
             "learn": [
              0.198938224
             ],
             "passed_time": 28.5715905,
             "remaining_time": 13.44545435,
             "test": [
              0.1947672389
             ]
            },
            {
             "iteration": 68,
             "learn": [
              0.1964151515
             ],
             "passed_time": 29.0905764,
             "remaining_time": 13.06967925,
             "test": [
              0.1921705611
             ]
            },
            {
             "iteration": 69,
             "learn": [
              0.1942190192
             ],
             "passed_time": 29.50194772,
             "remaining_time": 12.64369188,
             "test": [
              0.1897974876
             ]
            },
            {
             "iteration": 70,
             "learn": [
              0.1920698946
             ],
             "passed_time": 29.90959734,
             "remaining_time": 12.2165961,
             "test": [
              0.187663515
             ]
            },
            {
             "iteration": 71,
             "learn": [
              0.1897064967
             ],
             "passed_time": 30.45457282,
             "remaining_time": 11.84344499,
             "test": [
              0.1853014829
             ]
            },
            {
             "iteration": 72,
             "learn": [
              0.1879987232
             ],
             "passed_time": 30.78273772,
             "remaining_time": 11.38539614,
             "test": [
              0.1835546571
             ]
            },
            {
             "iteration": 73,
             "learn": [
              0.1854821201
             ],
             "passed_time": 31.1805503,
             "remaining_time": 10.95532848,
             "test": [
              0.1809869181
             ]
            },
            {
             "iteration": 74,
             "learn": [
              0.1835526243
             ],
             "passed_time": 31.59987386,
             "remaining_time": 10.53329129,
             "test": [
              0.1790665186
             ]
            },
            {
             "iteration": 75,
             "learn": [
              0.1814046899
             ],
             "passed_time": 32.05285328,
             "remaining_time": 10.12195367,
             "test": [
              0.1767722526
             ]
            },
            {
             "iteration": 76,
             "learn": [
              0.1796345662
             ],
             "passed_time": 32.39021311,
             "remaining_time": 9.674998721,
             "test": [
              0.1750173593
             ]
            },
            {
             "iteration": 77,
             "learn": [
              0.1776802804
             ],
             "passed_time": 32.79492589,
             "remaining_time": 9.249850891,
             "test": [
              0.1729775752
             ]
            },
            {
             "iteration": 78,
             "learn": [
              0.1757299767
             ],
             "passed_time": 33.15354631,
             "remaining_time": 8.812968007,
             "test": [
              0.1710098067
             ]
            },
            {
             "iteration": 79,
             "learn": [
              0.1736489544
             ],
             "passed_time": 33.65546855,
             "remaining_time": 8.413867137,
             "test": [
              0.1688194531
             ]
            },
            {
             "iteration": 80,
             "learn": [
              0.1719742117
             ],
             "passed_time": 34.00774418,
             "remaining_time": 7.977125179,
             "test": [
              0.1671184679
             ]
            },
            {
             "iteration": 81,
             "learn": [
              0.1705536865
             ],
             "passed_time": 34.32814948,
             "remaining_time": 7.535447447,
             "test": [
              0.1657148474
             ]
            },
            {
             "iteration": 82,
             "learn": [
              0.1685064049
             ],
             "passed_time": 34.7572658,
             "remaining_time": 7.118958055,
             "test": [
              0.1638223006
             ]
            },
            {
             "iteration": 83,
             "learn": [
              0.1664812986
             ],
             "passed_time": 35.2781363,
             "remaining_time": 6.71964501,
             "test": [
              0.1618608169
             ]
            },
            {
             "iteration": 84,
             "learn": [
              0.164423125
             ],
             "passed_time": 35.68760882,
             "remaining_time": 6.297813321,
             "test": [
              0.1597376095
             ]
            },
            {
             "iteration": 85,
             "learn": [
              0.1629952819
             ],
             "passed_time": 36.03154593,
             "remaining_time": 5.865600501,
             "test": [
              0.1582711478
             ]
            },
            {
             "iteration": 86,
             "learn": [
              0.1615265155
             ],
             "passed_time": 36.43912657,
             "remaining_time": 5.444926958,
             "test": [
              0.1568574132
             ]
            },
            {
             "iteration": 87,
             "learn": [
              0.1592955933
             ],
             "passed_time": 36.95931169,
             "remaining_time": 5.03990614,
             "test": [
              0.1544667065
             ]
            },
            {
             "iteration": 88,
             "learn": [
              0.1576924355
             ],
             "passed_time": 37.3227297,
             "remaining_time": 4.612921649,
             "test": [
              0.1528537252
             ]
            },
            {
             "iteration": 89,
             "learn": [
              0.1560333025
             ],
             "passed_time": 37.78140582,
             "remaining_time": 4.19793398,
             "test": [
              0.1513359703
             ]
            },
            {
             "iteration": 90,
             "learn": [
              0.1544652593
             ],
             "passed_time": 38.1896768,
             "remaining_time": 3.777001002,
             "test": [
              0.1498658617
             ]
            },
            {
             "iteration": 91,
             "learn": [
              0.1529685544
             ],
             "passed_time": 38.55113025,
             "remaining_time": 3.352272196,
             "test": [
              0.1482467193
             ]
            },
            {
             "iteration": 92,
             "learn": [
              0.1513393672
             ],
             "passed_time": 39.02142045,
             "remaining_time": 2.937096163,
             "test": [
              0.1467179788
             ]
            },
            {
             "iteration": 93,
             "learn": [
              0.14967386
             ],
             "passed_time": 39.43954118,
             "remaining_time": 2.517417522,
             "test": [
              0.1449362443
             ]
            },
            {
             "iteration": 94,
             "learn": [
              0.1479845941
             ],
             "passed_time": 39.85076598,
             "remaining_time": 2.097408736,
             "test": [
              0.1433328873
             ]
            },
            {
             "iteration": 95,
             "learn": [
              0.1466922534
             ],
             "passed_time": 40.22699739,
             "remaining_time": 1.676124891,
             "test": [
              0.1420202316
             ]
            },
            {
             "iteration": 96,
             "learn": [
              0.1455898222
             ],
             "passed_time": 40.62621532,
             "remaining_time": 1.256480886,
             "test": [
              0.1409166417
             ]
            },
            {
             "iteration": 97,
             "learn": [
              0.1439449541
             ],
             "passed_time": 41.02939711,
             "remaining_time": 0.8373346349,
             "test": [
              0.1392151261
             ]
            },
            {
             "iteration": 98,
             "learn": [
              0.1428640419
             ],
             "passed_time": 41.36236079,
             "remaining_time": 0.4178016242,
             "test": [
              0.1382372266
             ]
            },
            {
             "iteration": 99,
             "learn": [
              0.1412826622
             ],
             "passed_time": 41.83861265,
             "remaining_time": 0,
             "test": [
              0.1365393143
             ]
            }
           ],
           "meta": {
            "iteration_count": 100,
            "launch_mode": "Train",
            "learn_metrics": [
             {
              "best_value": "Min",
              "name": "CrossEntropy"
             }
            ],
            "learn_sets": [
             "learn"
            ],
            "name": "experiment",
            "parameters": "",
            "test_metrics": [
             {
              "best_value": "Min",
              "name": "CrossEntropy"
             }
            ],
            "test_sets": [
             "test"
            ]
           }
          },
          "passed_iterations": 99,
          "total_iterations": 100
         },
         "name": "catboost_info",
         "path": "catboost_info"
        }
       },
       "layout": "IPY_MODEL_8b415d61dd4d4c4282d4c8a7b43aa91d"
      }
     },
     "1d7de654ef5045479b0649d6a17986c0": {
      "model_module": "catboost-widget",
      "model_module_version": "^1.0.0",
      "model_name": "CatboostWidgetModel",
      "state": {
       "_dom_classes": [],
       "_model_module": "catboost-widget",
       "_model_module_version": "^1.0.0",
       "_model_name": "CatboostWidgetModel",
       "_view_count": null,
       "_view_module": "catboost-widget",
       "_view_module_version": "^1.0.0",
       "_view_name": "CatboostWidgetView",
       "data": {
        "catboost_info": {
         "content": {
          "data": {
           "iterations": [
            {
             "iteration": 0,
             "learn": [
              0.6614189318
             ],
             "passed_time": 0.4111593408,
             "remaining_time": 40.70477474,
             "test": [
              0.6636048713
             ]
            },
            {
             "iteration": 1,
             "learn": [
              0.6363193117
             ],
             "passed_time": 0.7923533455,
             "remaining_time": 38.82531393,
             "test": [
              0.6357824773
             ]
            },
            {
             "iteration": 2,
             "learn": [
              0.6094016667
             ],
             "passed_time": 1.272809904,
             "remaining_time": 41.15418689,
             "test": [
              0.6095368181
             ]
            },
            {
             "iteration": 3,
             "learn": [
              0.5837772173
             ],
             "passed_time": 1.595971245,
             "remaining_time": 38.30330989,
             "test": [
              0.5847318684
             ]
            },
            {
             "iteration": 4,
             "learn": [
              0.562228536
             ],
             "passed_time": 1.974671959,
             "remaining_time": 37.51876721,
             "test": [
              0.5612595118
             ]
            },
            {
             "iteration": 5,
             "learn": [
              0.5377870934
             ],
             "passed_time": 2.373420481,
             "remaining_time": 37.18358753,
             "test": [
              0.5390195704
             ]
            },
            {
             "iteration": 6,
             "learn": [
              0.5169294459
             ],
             "passed_time": 2.81112218,
             "remaining_time": 37.3477661,
             "test": [
              0.5179160438
             ]
            },
            {
             "iteration": 7,
             "learn": [
              0.4987509114
             ],
             "passed_time": 3.207728787,
             "remaining_time": 36.88888105,
             "test": [
              0.4978703265
             ]
            },
            {
             "iteration": 8,
             "learn": [
              0.4785843633
             ],
             "passed_time": 3.595343192,
             "remaining_time": 36.3529145,
             "test": [
              0.4788090306
             ]
            },
            {
             "iteration": 9,
             "learn": [
              0.4606393761
             ],
             "passed_time": 3.933813673,
             "remaining_time": 35.40432306,
             "test": [
              0.4606640122
             ]
            },
            {
             "iteration": 10,
             "learn": [
              0.4439341064
             ],
             "passed_time": 4.372575492,
             "remaining_time": 35.3781108,
             "test": [
              0.4433796604
             ]
            },
            {
             "iteration": 11,
             "learn": [
              0.4281177541
             ],
             "passed_time": 4.786355044,
             "remaining_time": 35.09993699,
             "test": [
              0.4268959516
             ]
            },
            {
             "iteration": 12,
             "learn": [
              0.4122223483
             ],
             "passed_time": 5.189115138,
             "remaining_time": 34.72715516,
             "test": [
              0.4111654065
             ]
            },
            {
             "iteration": 13,
             "learn": [
              0.3968626877
             ],
             "passed_time": 5.548153789,
             "remaining_time": 34.08151614,
             "test": [
              0.3961407282
             ]
            },
            {
             "iteration": 14,
             "learn": [
              0.3824907978
             ],
             "passed_time": 5.979068855,
             "remaining_time": 33.88139018,
             "test": [
              0.3817801936
             ]
            },
            {
             "iteration": 15,
             "learn": [
              0.3674343541
             ],
             "passed_time": 6.431910046,
             "remaining_time": 33.76752774,
             "test": [
              0.3680474783
             ]
            },
            {
             "iteration": 16,
             "learn": [
              0.3540501299
             ],
             "passed_time": 6.791489612,
             "remaining_time": 33.15844928,
             "test": [
              0.3549034978
             ]
            },
            {
             "iteration": 17,
             "learn": [
              0.3432726874
             ],
             "passed_time": 7.188193493,
             "remaining_time": 32.7462148,
             "test": [
              0.3423174738
             ]
            },
            {
             "iteration": 18,
             "learn": [
              0.3302031341
             ],
             "passed_time": 7.519178294,
             "remaining_time": 32.05544431,
             "test": [
              0.3302578822
             ]
            },
            {
             "iteration": 19,
             "learn": [
              0.3197829252
             ],
             "passed_time": 7.978629775,
             "remaining_time": 31.9145191,
             "test": [
              0.3186981314
             ]
            },
            {
             "iteration": 20,
             "learn": [
              0.3071256014
             ],
             "passed_time": 8.359345692,
             "remaining_time": 31.44706237,
             "test": [
              0.3076108266
             ]
            },
            {
             "iteration": 21,
             "learn": [
              0.2970029974
             ],
             "passed_time": 8.787125227,
             "remaining_time": 31.15435308,
             "test": [
              0.2969709247
             ]
            },
            {
             "iteration": 22,
             "learn": [
              0.2869207352
             ],
             "passed_time": 9.209567819,
             "remaining_time": 30.83203139,
             "test": [
              0.2867565452
             ]
            },
            {
             "iteration": 23,
             "learn": [
              0.2766381117
             ],
             "passed_time": 9.606637156,
             "remaining_time": 30.42101766,
             "test": [
              0.2769467928
             ]
            },
            {
             "iteration": 24,
             "learn": [
              0.2666444911
             ],
             "passed_time": 9.976562041,
             "remaining_time": 29.92968612,
             "test": [
              0.2675207729
             ]
            },
            {
             "iteration": 25,
             "learn": [
              0.2581362984
             ],
             "passed_time": 10.38088527,
             "remaining_time": 29.54559654,
             "test": [
              0.2584604699
             ]
            },
            {
             "iteration": 26,
             "learn": [
              0.2501021849
             ],
             "passed_time": 10.76631728,
             "remaining_time": 29.10893191,
             "test": [
              0.2497485778
             ]
            },
            {
             "iteration": 27,
             "learn": [
              0.2421080715
             ],
             "passed_time": 11.15349773,
             "remaining_time": 28.68042272,
             "test": [
              0.2413678064
             ]
            },
            {
             "iteration": 28,
             "learn": [
              0.2338249686
             ],
             "passed_time": 11.57027224,
             "remaining_time": 28.32721823,
             "test": [
              0.2333044476
             ]
            },
            {
             "iteration": 29,
             "learn": [
              0.226001317
             ],
             "passed_time": 12.01486098,
             "remaining_time": 28.03467562,
             "test": [
              0.2255426879
             ]
            },
            {
             "iteration": 30,
             "learn": [
              0.2186720535
             ],
             "passed_time": 12.46656083,
             "remaining_time": 27.74815153,
             "test": [
              0.2180701076
             ]
            },
            {
             "iteration": 31,
             "learn": [
              0.2110907644
             ],
             "passed_time": 12.82932212,
             "remaining_time": 27.26230951,
             "test": [
              0.2108730002
             ]
            },
            {
             "iteration": 32,
             "learn": [
              0.2035458479
             ],
             "passed_time": 13.30428018,
             "remaining_time": 27.01172037,
             "test": [
              0.2039397243
             ]
            },
            {
             "iteration": 33,
             "learn": [
              0.1967042237
             ],
             "passed_time": 13.73420447,
             "remaining_time": 26.66051457,
             "test": [
              0.197257735
             ]
            },
            {
             "iteration": 34,
             "learn": [
              0.1913364487
             ],
             "passed_time": 14.17230912,
             "remaining_time": 26.32000265,
             "test": [
              0.1908175652
             ]
            },
            {
             "iteration": 35,
             "learn": [
              0.1841257266
             ],
             "passed_time": 14.52332036,
             "remaining_time": 25.81923619,
             "test": [
              0.1846085098
             ]
            },
            {
             "iteration": 36,
             "learn": [
              0.1789314789
             ],
             "passed_time": 14.90474932,
             "remaining_time": 25.37835694,
             "test": [
              0.178620685
             ]
            },
            {
             "iteration": 37,
             "learn": [
              0.1724064673
             ],
             "passed_time": 15.27007662,
             "remaining_time": 24.91433554,
             "test": [
              0.1728444953
             ]
            },
            {
             "iteration": 38,
             "learn": [
              0.1678488025
             ],
             "passed_time": 15.68501983,
             "remaining_time": 24.53297973,
             "test": [
              0.1672722986
             ]
            },
            {
             "iteration": 39,
             "learn": [
              0.161646482
             ],
             "passed_time": 16.0717952,
             "remaining_time": 24.1076928,
             "test": [
              0.1618948914
             ]
            },
            {
             "iteration": 40,
             "learn": [
              0.1565357074
             ],
             "passed_time": 16.49042572,
             "remaining_time": 23.73012482,
             "test": [
              0.1567050896
             ]
            },
            {
             "iteration": 41,
             "learn": [
              0.1522165017
             ],
             "passed_time": 16.9015857,
             "remaining_time": 23.34028501,
             "test": [
              0.1516949131
             ]
            },
            {
             "iteration": 42,
             "learn": [
              0.1472098047
             ],
             "passed_time": 17.33895424,
             "remaining_time": 22.98419515,
             "test": [
              0.1468580591
             ]
            },
            {
             "iteration": 43,
             "learn": [
              0.1420897218
             ],
             "passed_time": 17.74902039,
             "remaining_time": 22.58966232,
             "test": [
              0.1421870323
             ]
            },
            {
             "iteration": 44,
             "learn": [
              0.13734198
             ],
             "passed_time": 18.1827653,
             "remaining_time": 22.22337982,
             "test": [
              0.1376759028
             ]
            },
            {
             "iteration": 45,
             "learn": [
              0.1331334201
             ],
             "passed_time": 18.62856068,
             "remaining_time": 21.86831036,
             "test": [
              0.1333175817
             ]
            },
            {
             "iteration": 46,
             "learn": [
              0.1291418867
             ],
             "passed_time": 18.98489911,
             "remaining_time": 21.40850325,
             "test": [
              0.1291060172
             ]
            },
            {
             "iteration": 47,
             "learn": [
              0.1252127288
             ],
             "passed_time": 19.4505879,
             "remaining_time": 21.07147023,
             "test": [
              0.1250375316
             ]
            },
            {
             "iteration": 48,
             "learn": [
              0.1213052697
             ],
             "passed_time": 19.87373249,
             "remaining_time": 20.68490525,
             "test": [
              0.1211052884
             ]
            },
            {
             "iteration": 49,
             "learn": [
              0.1174226767
             ],
             "passed_time": 20.21273407,
             "remaining_time": 20.21273407,
             "test": [
              0.1173047294
             ]
            },
            {
             "iteration": 50,
             "learn": [
              0.1135608361
             ],
             "passed_time": 20.61428761,
             "remaining_time": 19.80588417,
             "test": [
              0.1136302337
             ]
            },
            {
             "iteration": 51,
             "learn": [
              0.1100035249
             ],
             "passed_time": 20.9599615,
             "remaining_time": 19.34765677,
             "test": [
              0.1100772882
             ]
            },
            {
             "iteration": 52,
             "learn": [
              0.1071446726
             ],
             "passed_time": 21.29531991,
             "remaining_time": 18.88452898,
             "test": [
              0.1066422629
             ]
            },
            {
             "iteration": 53,
             "learn": [
              0.103648702
             ],
             "passed_time": 21.63382734,
             "remaining_time": 18.42881588,
             "test": [
              0.1033201321
             ]
            },
            {
             "iteration": 54,
             "learn": [
              0.09998416893
             ],
             "passed_time": 22.0924964,
             "remaining_time": 18.07567887,
             "test": [
              0.1001077102
             ]
            },
            {
             "iteration": 55,
             "learn": [
              0.09738608233
             ],
             "passed_time": 22.50185545,
             "remaining_time": 17.68002928,
             "test": [
              0.09699978976
             ]
            },
            {
             "iteration": 56,
             "learn": [
              0.09402319704
             ],
             "passed_time": 22.9206064,
             "remaining_time": 17.29098377,
             "test": [
              0.09399288239
             ]
            },
            {
             "iteration": 57,
             "learn": [
              0.09147672046
             ],
             "passed_time": 23.42326749,
             "remaining_time": 16.96167646,
             "test": [
              0.09108383255
             ]
            },
            {
             "iteration": 58,
             "learn": [
              0.08821507719
             ],
             "passed_time": 23.82426768,
             "remaining_time": 16.55584703,
             "test": [
              0.08826880595
             ]
            },
            {
             "iteration": 59,
             "learn": [
              0.08574263712
             ],
             "passed_time": 24.24586516,
             "remaining_time": 16.16391011,
             "test": [
              0.08554515678
             ]
            },
            {
             "iteration": 60,
             "learn": [
              0.08286473792
             ],
             "passed_time": 24.66699215,
             "remaining_time": 15.7706999,
             "test": [
              0.08290937279
             ]
            },
            {
             "iteration": 61,
             "learn": [
              0.08037602714
             ],
             "passed_time": 25.07389694,
             "remaining_time": 15.36787232,
             "test": [
              0.08035833899
             ]
            },
            {
             "iteration": 62,
             "learn": [
              0.0782369303
             ],
             "passed_time": 25.47061605,
             "remaining_time": 14.95893323,
             "test": [
              0.07789183458
             ]
            },
            {
             "iteration": 63,
             "learn": [
              0.07577096968
             ],
             "passed_time": 25.86331772,
             "remaining_time": 14.54811622,
             "test": [
              0.07550090135
             ]
            },
            {
             "iteration": 64,
             "learn": [
              0.07324596522
             ],
             "passed_time": 26.30658198,
             "remaining_time": 14.1650826,
             "test": [
              0.07318678153
             ]
            },
            {
             "iteration": 65,
             "learn": [
              0.07087257897
             ],
             "passed_time": 26.72110832,
             "remaining_time": 13.76541944,
             "test": [
              0.07094580357
             ]
            },
            {
             "iteration": 66,
             "learn": [
              0.06875413604
             ],
             "passed_time": 27.15729517,
             "remaining_time": 13.3759812,
             "test": [
              0.06877630424
             ]
            },
            {
             "iteration": 67,
             "learn": [
              0.0667254007
             ],
             "passed_time": 27.51546103,
             "remaining_time": 12.94845225,
             "test": [
              0.06667544268
             ]
            },
            {
             "iteration": 68,
             "learn": [
              0.06475844949
             ],
             "passed_time": 27.92108982,
             "remaining_time": 12.54425775,
             "test": [
              0.06464052227
             ]
            },
            {
             "iteration": 69,
             "learn": [
              0.06280574834
             ],
             "passed_time": 28.25834051,
             "remaining_time": 12.11071736,
             "test": [
              0.06266991892
             ]
            },
            {
             "iteration": 70,
             "learn": [
              0.06086199414
             ],
             "passed_time": 28.60785054,
             "remaining_time": 11.6848967,
             "test": [
              0.06076174653
             ]
            },
            {
             "iteration": 71,
             "learn": [
              0.05895539947
             ],
             "passed_time": 28.97966338,
             "remaining_time": 11.26986909,
             "test": [
              0.05891385173
             ]
            },
            {
             "iteration": 72,
             "learn": [
              0.05715240757
             ],
             "passed_time": 29.37580155,
             "remaining_time": 10.86502249,
             "test": [
              0.05712352362
             ]
            },
            {
             "iteration": 73,
             "learn": [
              0.05572742453
             ],
             "passed_time": 29.8143633,
             "remaining_time": 10.47531684,
             "test": [
              0.05538927345
             ]
            },
            {
             "iteration": 74,
             "learn": [
              0.05397985404
             ],
             "passed_time": 30.25586938,
             "remaining_time": 10.08528979,
             "test": [
              0.0537096131
             ]
            },
            {
             "iteration": 75,
             "learn": [
              0.0521290217
             ],
             "passed_time": 30.7855552,
             "remaining_time": 9.721754273,
             "test": [
              0.05208076575
             ]
            },
            {
             "iteration": 76,
             "learn": [
              0.05083008025
             ],
             "passed_time": 31.46418206,
             "remaining_time": 9.398392045,
             "test": [
              0.05050348593
             ]
            },
            {
             "iteration": 77,
             "learn": [
              0.04914248267
             ],
             "passed_time": 31.94786212,
             "remaining_time": 9.010935469,
             "test": [
              0.04897593597
             ]
            },
            {
             "iteration": 78,
             "learn": [
              0.04756934379
             ],
             "passed_time": 32.33457493,
             "remaining_time": 8.595266753,
             "test": [
              0.04749386374
             ]
            },
            {
             "iteration": 79,
             "learn": [
              0.04621776396
             ],
             "passed_time": 32.72382649,
             "remaining_time": 8.180956622,
             "test": [
              0.04605972127
             ]
            },
            {
             "iteration": 80,
             "learn": [
              0.04495956183
             ],
             "passed_time": 33.08522284,
             "remaining_time": 7.760731283,
             "test": [
              0.04466966062
             ]
            },
            {
             "iteration": 81,
             "learn": [
              0.04339481298
             ],
             "passed_time": 33.44997015,
             "remaining_time": 7.342676374,
             "test": [
              0.04332243131
             ]
            },
            {
             "iteration": 82,
             "learn": [
              0.04227580011
             ],
             "passed_time": 33.77150084,
             "remaining_time": 6.917054389,
             "test": [
              0.04201824756
             ]
            },
            {
             "iteration": 83,
             "learn": [
              0.04103196633
             ],
             "passed_time": 34.17127935,
             "remaining_time": 6.508815115,
             "test": [
              0.04075314762
             ]
            },
            {
             "iteration": 84,
             "learn": [
              0.03967427024
             ],
             "passed_time": 34.55686998,
             "remaining_time": 6.098271173,
             "test": [
              0.03952675902
             ]
            },
            {
             "iteration": 85,
             "learn": [
              0.03845756888
             ],
             "passed_time": 35.02410714,
             "remaining_time": 5.701598838,
             "test": [
              0.03833865857
             ]
            },
            {
             "iteration": 86,
             "learn": [
              0.03742518821
             ],
             "passed_time": 35.36102372,
             "remaining_time": 5.283831131,
             "test": [
              0.03718499981
             ]
            },
            {
             "iteration": 87,
             "learn": [
              0.03637637088
             ],
             "passed_time": 35.78704171,
             "remaining_time": 4.880051142,
             "test": [
              0.03606905433
             ]
            },
            {
             "iteration": 88,
             "learn": [
              0.03520552301
             ],
             "passed_time": 36.18522394,
             "remaining_time": 4.472331049,
             "test": [
              0.03498625979
             ]
            },
            {
             "iteration": 89,
             "learn": [
              0.03414224208
             ],
             "passed_time": 36.55847983,
             "remaining_time": 4.062053315,
             "test": [
              0.0339347439
             ]
            },
            {
             "iteration": 90,
             "learn": [
              0.03311869255
             ],
             "passed_time": 36.87153955,
             "remaining_time": 3.646635779,
             "test": [
              0.03291497267
             ]
            },
            {
             "iteration": 91,
             "learn": [
              0.03212568599
             ],
             "passed_time": 37.29245589,
             "remaining_time": 3.242822252,
             "test": [
              0.03192775845
             ]
            },
            {
             "iteration": 92,
             "learn": [
              0.03114946192
             ],
             "passed_time": 37.70325618,
             "remaining_time": 2.837879497,
             "test": [
              0.03097226025
             ]
            },
            {
             "iteration": 93,
             "learn": [
              0.03019574237
             ],
             "passed_time": 38.03999465,
             "remaining_time": 2.428084765,
             "test": [
              0.0300429429
             ]
            },
            {
             "iteration": 94,
             "learn": [
              0.02927158501
             ],
             "passed_time": 38.48958994,
             "remaining_time": 2.025767892,
             "test": [
              0.02914571163
             ]
            },
            {
             "iteration": 95,
             "learn": [
              0.02851570183
             ],
             "passed_time": 38.89112008,
             "remaining_time": 1.620463336,
             "test": [
              0.02827431863
             ]
            },
            {
             "iteration": 96,
             "learn": [
              0.02761889416
             ],
             "passed_time": 39.18835363,
             "remaining_time": 1.212010937,
             "test": [
              0.02742738004
             ]
            },
            {
             "iteration": 97,
             "learn": [
              0.02671220601
             ],
             "passed_time": 39.60980991,
             "remaining_time": 0.8083634675,
             "test": [
              0.02660851071
             ]
            },
            {
             "iteration": 98,
             "learn": [
              0.02604076018
             ],
             "passed_time": 39.8858613,
             "remaining_time": 0.4028874879,
             "test": [
              0.02581194254
             ]
            },
            {
             "iteration": 99,
             "learn": [
              0.025186586
             ],
             "passed_time": 40.24723773,
             "remaining_time": 0,
             "test": [
              0.02504196136
             ]
            }
           ],
           "meta": {
            "iteration_count": 100,
            "launch_mode": "Train",
            "learn_metrics": [
             {
              "best_value": "Min",
              "name": "CrossEntropy"
             }
            ],
            "learn_sets": [
             "learn"
            ],
            "name": "experiment",
            "parameters": "",
            "test_metrics": [
             {
              "best_value": "Min",
              "name": "CrossEntropy"
             }
            ],
            "test_sets": [
             "test"
            ]
           }
          },
          "passed_iterations": 99,
          "total_iterations": 100
         },
         "name": "catboost_info",
         "path": "catboost_info"
        }
       },
       "layout": "IPY_MODEL_523c6fec07884defa744768902987658"
      }
     },
     "1ddae41ef28d47788584643e88022b63": {
      "model_module": "catboost-widget",
      "model_module_version": "^1.0.0",
      "model_name": "CatboostWidgetModel",
      "state": {
       "_dom_classes": [],
       "_model_module": "catboost-widget",
       "_model_module_version": "^1.0.0",
       "_model_name": "CatboostWidgetModel",
       "_view_count": null,
       "_view_module": "catboost-widget",
       "_view_module_version": "^1.0.0",
       "_view_name": "CatboostWidgetView",
       "data": {
        "catboost_info": {
         "content": {
          "data": {
           "iterations": [
            {
             "iteration": 0,
             "learn": [
              0.6613945914
             ],
             "passed_time": 0.4176962331,
             "remaining_time": 41.35192707,
             "test": [
              0.6636085937
             ]
            },
            {
             "iteration": 1,
             "learn": [
              0.636317682
             ],
             "passed_time": 0.8071204718,
             "remaining_time": 39.54890312,
             "test": [
              0.6357887762
             ]
            },
            {
             "iteration": 2,
             "learn": [
              0.6094046501
             ],
             "passed_time": 1.246174248,
             "remaining_time": 40.29296734,
             "test": [
              0.6095447131
             ]
            },
            {
             "iteration": 3,
             "learn": [
              0.5837568986
             ],
             "passed_time": 1.574939141,
             "remaining_time": 37.79853938,
             "test": [
              0.5847429038
             ]
            },
            {
             "iteration": 4,
             "learn": [
              0.562242533
             ],
             "passed_time": 1.957233283,
             "remaining_time": 37.18743238,
             "test": [
              0.5612748143
             ]
            },
            {
             "iteration": 5,
             "learn": [
              0.5378383239
             ],
             "passed_time": 2.352596395,
             "remaining_time": 36.85734353,
             "test": [
              0.5390356985
             ]
            },
            {
             "iteration": 6,
             "learn": [
              0.5169548772
             ],
             "passed_time": 2.795092661,
             "remaining_time": 37.13480249,
             "test": [
              0.5179359903
             ]
            },
            {
             "iteration": 7,
             "learn": [
              0.4987769209
             ],
             "passed_time": 3.194222596,
             "remaining_time": 36.73355985,
             "test": [
              0.4978926977
             ]
            },
            {
             "iteration": 8,
             "learn": [
              0.4786163397
             ],
             "passed_time": 3.591455726,
             "remaining_time": 36.3136079,
             "test": [
              0.4788320174
             ]
            },
            {
             "iteration": 9,
             "learn": [
              0.4606740862
             ],
             "passed_time": 3.969017816,
             "remaining_time": 35.72116035,
             "test": [
              0.4606853558
             ]
            },
            {
             "iteration": 10,
             "learn": [
              0.4441982234
             ],
             "passed_time": 4.409179595,
             "remaining_time": 35.67427127,
             "test": [
              0.4434018198
             ]
            },
            {
             "iteration": 11,
             "learn": [
              0.4281621833
             ],
             "passed_time": 4.832160255,
             "remaining_time": 35.43584187,
             "test": [
              0.4269202342
             ]
            },
            {
             "iteration": 12,
             "learn": [
              0.4123699876
             ],
             "passed_time": 5.288923385,
             "remaining_time": 35.39510265,
             "test": [
              0.4111905473
             ]
            },
            {
             "iteration": 13,
             "learn": [
              0.3969174734
             ],
             "passed_time": 5.66712586,
             "remaining_time": 34.81234457,
             "test": [
              0.3961672552
             ]
            },
            {
             "iteration": 14,
             "learn": [
              0.3826039045
             ],
             "passed_time": 6.112057059,
             "remaining_time": 34.63499,
             "test": [
              0.3818085071
             ]
            },
            {
             "iteration": 15,
             "learn": [
              0.3675290281
             ],
             "passed_time": 6.569895617,
             "remaining_time": 34.49195199,
             "test": [
              0.3680740693
             ]
            },
            {
             "iteration": 16,
             "learn": [
              0.3540886646
             ],
             "passed_time": 6.934747167,
             "remaining_time": 33.85788323,
             "test": [
              0.3549318488
             ]
            },
            {
             "iteration": 17,
             "learn": [
              0.3433571297
             ],
             "passed_time": 7.319724075,
             "remaining_time": 33.34540967,
             "test": [
              0.3423477403
             ]
            },
            {
             "iteration": 18,
             "learn": [
              0.3302526429
             ],
             "passed_time": 7.661386144,
             "remaining_time": 32.66169882,
             "test": [
              0.3302896892
             ]
            },
            {
             "iteration": 19,
             "learn": [
              0.319844532
             ],
             "passed_time": 8.127569949,
             "remaining_time": 32.5102798,
             "test": [
              0.318733399
             ]
            },
            {
             "iteration": 20,
             "learn": [
              0.3072537302
             ],
             "passed_time": 8.522249771,
             "remaining_time": 32.059892,
             "test": [
              0.3076461739
             ]
            },
            {
             "iteration": 21,
             "learn": [
              0.297065281
             ],
             "passed_time": 8.960566999,
             "remaining_time": 31.769283,
             "test": [
              0.2970092488
             ]
            },
            {
             "iteration": 22,
             "learn": [
              0.2870258119
             ],
             "passed_time": 9.388568424,
             "remaining_time": 31.43129429,
             "test": [
              0.2867957605
             ]
            },
            {
             "iteration": 23,
             "learn": [
              0.2767309131
             ],
             "passed_time": 9.7954004,
             "remaining_time": 31.01876793,
             "test": [
              0.2769865658
             ]
            },
            {
             "iteration": 24,
             "learn": [
              0.2670064825
             ],
             "passed_time": 10.17487594,
             "remaining_time": 30.52462783,
             "test": [
              0.2675608031
             ]
            },
            {
             "iteration": 25,
             "learn": [
              0.2582012371
             ],
             "passed_time": 10.59257375,
             "remaining_time": 30.14809452,
             "test": [
              0.2585014597
             ]
            },
            {
             "iteration": 26,
             "learn": [
              0.2501802598
             ],
             "passed_time": 10.99651022,
             "remaining_time": 29.7313054,
             "test": [
              0.2497902338
             ]
            },
            {
             "iteration": 27,
             "learn": [
              0.2421961415
             ],
             "passed_time": 11.38229559,
             "remaining_time": 29.26876009,
             "test": [
              0.2414107022
             ]
            },
            {
             "iteration": 28,
             "learn": [
              0.2339253862
             ],
             "passed_time": 11.77473793,
             "remaining_time": 28.82780666,
             "test": [
              0.2333468427
             ]
            },
            {
             "iteration": 29,
             "learn": [
              0.2261292555
             ],
             "passed_time": 12.20599377,
             "remaining_time": 28.48065214,
             "test": [
              0.225586161
             ]
            },
            {
             "iteration": 30,
             "learn": [
              0.2187732793
             ],
             "passed_time": 12.63756259,
             "remaining_time": 28.12876836,
             "test": [
              0.218111574
             ]
            },
            {
             "iteration": 31,
             "learn": [
              0.2111700582
             ],
             "passed_time": 13.0080409,
             "remaining_time": 27.64208692,
             "test": [
              0.2109149239
             ]
            },
            {
             "iteration": 32,
             "learn": [
              0.2036199142
             ],
             "passed_time": 13.4983096,
             "remaining_time": 27.40565888,
             "test": [
              0.2039814656
             ]
            },
            {
             "iteration": 33,
             "learn": [
              0.1971577939
             ],
             "passed_time": 13.93176216,
             "remaining_time": 27.0440089,
             "test": [
              0.1972983806
             ]
            },
            {
             "iteration": 34,
             "learn": [
              0.191449457
             ],
             "passed_time": 14.37507555,
             "remaining_time": 26.69656889,
             "test": [
              0.1908584638
             ]
            },
            {
             "iteration": 35,
             "learn": [
              0.1843501132
             ],
             "passed_time": 14.73760808,
             "remaining_time": 26.20019214,
             "test": [
              0.1846500927
             ]
            },
            {
             "iteration": 36,
             "learn": [
              0.1790872734
             ],
             "passed_time": 15.12489966,
             "remaining_time": 25.75320752,
             "test": [
              0.1786615974
             ]
            },
            {
             "iteration": 37,
             "learn": [
              0.1725769193
             ],
             "passed_time": 15.49426897,
             "remaining_time": 25.28012306,
             "test": [
              0.1728864377
             ]
            },
            {
             "iteration": 38,
             "learn": [
              0.1679566292
             ],
             "passed_time": 15.95297047,
             "remaining_time": 24.95208202,
             "test": [
              0.1673154083
             ]
            },
            {
             "iteration": 39,
             "learn": [
              0.161789597
             ],
             "passed_time": 16.50298398,
             "remaining_time": 24.75447597,
             "test": [
              0.1619371794
             ]
            },
            {
             "iteration": 40,
             "learn": [
              0.1566489719
             ],
             "passed_time": 17.10630444,
             "remaining_time": 24.61638932,
             "test": [
              0.156748406
             ]
            },
            {
             "iteration": 41,
             "learn": [
              0.1523288298
             ],
             "passed_time": 17.60543164,
             "remaining_time": 24.31226274,
             "test": [
              0.1517393883
             ]
            },
            {
             "iteration": 42,
             "learn": [
              0.1473491839
             ],
             "passed_time": 18.02962362,
             "remaining_time": 23.89973364,
             "test": [
              0.146902199
             ]
            },
            {
             "iteration": 43,
             "learn": [
              0.14225216
             ],
             "passed_time": 18.43983548,
             "remaining_time": 23.46888152,
             "test": [
              0.142233455
             ]
            },
            {
             "iteration": 44,
             "learn": [
              0.1375815202
             ],
             "passed_time": 18.87292707,
             "remaining_time": 23.06691087,
             "test": [
              0.1377228627
             ]
            },
            {
             "iteration": 45,
             "learn": [
              0.1332794693
             ],
             "passed_time": 19.3194586,
             "remaining_time": 22.67936445,
             "test": [
              0.1333647625
             ]
            },
            {
             "iteration": 46,
             "learn": [
              0.1292519477
             ],
             "passed_time": 19.6844371,
             "remaining_time": 22.19734396,
             "test": [
              0.1291544431
             ]
            },
            {
             "iteration": 47,
             "learn": [
              0.1253218731
             ],
             "passed_time": 20.20404111,
             "remaining_time": 21.8877112,
             "test": [
              0.1250861396
             ]
            },
            {
             "iteration": 48,
             "learn": [
              0.1214163032
             ],
             "passed_time": 20.63712982,
             "remaining_time": 21.47946165,
             "test": [
              0.1211546536
             ]
            },
            {
             "iteration": 49,
             "learn": [
              0.1175355502
             ],
             "passed_time": 20.98303099,
             "remaining_time": 20.98303099,
             "test": [
              0.117353458
             ]
            },
            {
             "iteration": 50,
             "learn": [
              0.1137134829
             ],
             "passed_time": 21.38623325,
             "remaining_time": 20.54755744,
             "test": [
              0.1136799848
             ]
            },
            {
             "iteration": 51,
             "learn": [
              0.1101887706
             ],
             "passed_time": 21.73224933,
             "remaining_time": 20.06053784,
             "test": [
              0.1101279603
             ]
            },
            {
             "iteration": 52,
             "learn": [
              0.1072864307
             ],
             "passed_time": 22.06203046,
             "remaining_time": 19.56444211,
             "test": [
              0.1066927607
             ]
            },
            {
             "iteration": 53,
             "learn": [
              0.1037892427
             ],
             "passed_time": 22.40417169,
             "remaining_time": 19.08503514,
             "test": [
              0.1033708962
             ]
            },
            {
             "iteration": 54,
             "learn": [
              0.100149004
             ],
             "passed_time": 22.8544979,
             "remaining_time": 18.69913464,
             "test": [
              0.1001565676
             ]
            },
            {
             "iteration": 55,
             "learn": [
              0.09754195078
             ],
             "passed_time": 23.26170003,
             "remaining_time": 18.27705002,
             "test": [
              0.09704666722
             ]
            },
            {
             "iteration": 56,
             "learn": [
              0.09416990662
             ],
             "passed_time": 23.68658928,
             "remaining_time": 17.86883051,
             "test": [
              0.09404006109
             ]
            },
            {
             "iteration": 57,
             "learn": [
              0.09163402967
             ],
             "passed_time": 24.13615999,
             "remaining_time": 17.47790896,
             "test": [
              0.0911343761
             ]
            },
            {
             "iteration": 58,
             "learn": [
              0.0884089545
             ],
             "passed_time": 24.53756222,
             "remaining_time": 17.05152629,
             "test": [
              0.08832047878
             ]
            },
            {
             "iteration": 59,
             "learn": [
              0.08597201959
             ],
             "passed_time": 24.95471701,
             "remaining_time": 16.636478,
             "test": [
              0.08559817979
             ]
            },
            {
             "iteration": 60,
             "learn": [
              0.08311384603
             ],
             "passed_time": 25.37787221,
             "remaining_time": 16.22519699,
             "test": [
              0.08296258488
             ]
            },
            {
             "iteration": 61,
             "learn": [
              0.08055856551
             ],
             "passed_time": 25.79781635,
             "remaining_time": 15.81156486,
             "test": [
              0.08041154887
             ]
            },
            {
             "iteration": 62,
             "learn": [
              0.07838571148
             ],
             "passed_time": 26.14553884,
             "remaining_time": 15.35531646,
             "test": [
              0.0779413076
             ]
            },
            {
             "iteration": 63,
             "learn": [
              0.07595597396
             ],
             "passed_time": 26.56903579,
             "remaining_time": 14.94508263,
             "test": [
              0.07555095333
             ]
            },
            {
             "iteration": 64,
             "learn": [
              0.07343635474
             ],
             "passed_time": 27.00910457,
             "remaining_time": 14.543364,
             "test": [
              0.07323395542
             ]
            },
            {
             "iteration": 65,
             "learn": [
              0.07117693595
             ],
             "passed_time": 27.41476746,
             "remaining_time": 14.12275899,
             "test": [
              0.07099261354
             ]
            },
            {
             "iteration": 66,
             "learn": [
              0.06899129256
             ],
             "passed_time": 27.84225266,
             "remaining_time": 13.71334833,
             "test": [
              0.06882306885
             ]
            },
            {
             "iteration": 67,
             "learn": [
              0.06689946374
             ],
             "passed_time": 28.19240236,
             "remaining_time": 13.26701288,
             "test": [
              0.066721627
             ]
            },
            {
             "iteration": 68,
             "learn": [
              0.06490320088
             ],
             "passed_time": 28.60299666,
             "remaining_time": 12.85062169,
             "test": [
              0.06468526844
             ]
            },
            {
             "iteration": 69,
             "learn": [
              0.06295248099
             ],
             "passed_time": 28.93441866,
             "remaining_time": 12.40046514,
             "test": [
              0.0627152276
             ]
            },
            {
             "iteration": 70,
             "learn": [
              0.06102067027
             ],
             "passed_time": 29.28962343,
             "remaining_time": 11.96336732,
             "test": [
              0.06080823317
             ]
            },
            {
             "iteration": 71,
             "learn": [
              0.05914563794
             ],
             "passed_time": 29.66749596,
             "remaining_time": 11.53735954,
             "test": [
              0.05896065644
             ]
            },
            {
             "iteration": 72,
             "learn": [
              0.05740067625
             ],
             "passed_time": 30.06118234,
             "remaining_time": 11.1185195,
             "test": [
              0.05717091062
             ]
            },
            {
             "iteration": 73,
             "learn": [
              0.05586920232
             ],
             "passed_time": 30.45471906,
             "remaining_time": 10.7003067,
             "test": [
              0.05543381452
             ]
            },
            {
             "iteration": 74,
             "learn": [
              0.05412661786
             ],
             "passed_time": 30.908271,
             "remaining_time": 10.302757,
             "test": [
              0.05375480243
             ]
            },
            {
             "iteration": 75,
             "learn": [
              0.05233987373
             ],
             "passed_time": 31.31667848,
             "remaining_time": 9.889477415,
             "test": [
              0.05212698078
             ]
            },
            {
             "iteration": 76,
             "learn": [
              0.05099375633
             ],
             "passed_time": 31.81392898,
             "remaining_time": 9.502861904,
             "test": [
              0.05055071581
             ]
            },
            {
             "iteration": 77,
             "learn": [
              0.0492883347
             ],
             "passed_time": 32.20125124,
             "remaining_time": 9.082404196,
             "test": [
              0.04902112986
             ]
            },
            {
             "iteration": 78,
             "learn": [
              0.04786289693
             ],
             "passed_time": 32.59014355,
             "remaining_time": 8.663202715,
             "test": [
              0.04753844145
             ]
            },
            {
             "iteration": 79,
             "learn": [
              0.04637534946
             ],
             "passed_time": 32.97713353,
             "remaining_time": 8.244283383,
             "test": [
              0.0461037271
             ]
            },
            {
             "iteration": 80,
             "learn": [
              0.04512018986
             ],
             "passed_time": 33.30657729,
             "remaining_time": 7.812653933,
             "test": [
              0.04471396473
             ]
            },
            {
             "iteration": 81,
             "learn": [
              0.04361167067
             ],
             "passed_time": 33.66430022,
             "remaining_time": 7.389724439,
             "test": [
              0.04336681289
             ]
            },
            {
             "iteration": 82,
             "learn": [
              0.04239143568
             ],
             "passed_time": 34.04271709,
             "remaining_time": 6.972604706,
             "test": [
              0.04205785906
             ]
            },
            {
             "iteration": 83,
             "learn": [
              0.04116815059
             ],
             "passed_time": 34.40095897,
             "remaining_time": 6.552563613,
             "test": [
              0.04079389725
             ]
            },
            {
             "iteration": 84,
             "learn": [
              0.03982678354
             ],
             "passed_time": 34.76938447,
             "remaining_time": 6.13577373,
             "test": [
              0.03956662667
             ]
            },
            {
             "iteration": 85,
             "learn": [
              0.03862017827
             ],
             "passed_time": 35.23959219,
             "remaining_time": 5.736677799,
             "test": [
              0.03837944872
             ]
            },
            {
             "iteration": 86,
             "learn": [
              0.03753153835
             ],
             "passed_time": 35.5818302,
             "remaining_time": 5.316825202,
             "test": [
              0.03722586708
             ]
            },
            {
             "iteration": 87,
             "learn": [
              0.03647836171
             ],
             "passed_time": 35.93603881,
             "remaining_time": 4.900368928,
             "test": [
              0.0361091093
             ]
            },
            {
             "iteration": 88,
             "learn": [
              0.03535246453
             ],
             "passed_time": 36.32058383,
             "remaining_time": 4.489060923,
             "test": [
              0.03502407222
             ]
            },
            {
             "iteration": 89,
             "learn": [
              0.03431868827
             ],
             "passed_time": 36.77172401,
             "remaining_time": 4.085747112,
             "test": [
              0.0339759043
             ]
            },
            {
             "iteration": 90,
             "learn": [
              0.03325879488
             ],
             "passed_time": 37.1373779,
             "remaining_time": 3.672927484,
             "test": [
              0.0329558343
             ]
            },
            {
             "iteration": 91,
             "learn": [
              0.03227095259
             ],
             "passed_time": 37.57230025,
             "remaining_time": 3.267156544,
             "test": [
              0.03197083796
             ]
            },
            {
             "iteration": 92,
             "learn": [
              0.03128709503
             ],
             "passed_time": 37.99252009,
             "remaining_time": 2.85965205,
             "test": [
              0.03101219603
             ]
            },
            {
             "iteration": 93,
             "learn": [
              0.03034802889
             ],
             "passed_time": 38.3441328,
             "remaining_time": 2.447497838,
             "test": [
              0.03008458629
             ]
            },
            {
             "iteration": 94,
             "learn": [
              0.02945052996
             ],
             "passed_time": 38.80439972,
             "remaining_time": 2.042336827,
             "test": [
              0.02918730731
             ]
            },
            {
             "iteration": 95,
             "learn": [
              0.0286257286
             ],
             "passed_time": 39.24982235,
             "remaining_time": 1.635409265,
             "test": [
              0.02831686235
             ]
            },
            {
             "iteration": 96,
             "learn": [
              0.02773138271
             ],
             "passed_time": 39.6178686,
             "remaining_time": 1.225294905,
             "test": [
              0.02747221433
             ]
            },
            {
             "iteration": 97,
             "learn": [
              0.02690597227
             ],
             "passed_time": 40.04351891,
             "remaining_time": 0.8172146717,
             "test": [
              0.02665376652
             ]
            },
            {
             "iteration": 98,
             "learn": [
              0.02615474494
             ],
             "passed_time": 40.42113943,
             "remaining_time": 0.4082943377,
             "test": [
              0.02585697658
             ]
            },
            {
             "iteration": 99,
             "learn": [
              0.02529733641
             ],
             "passed_time": 40.78016934,
             "remaining_time": 0,
             "test": [
              0.02508426634
             ]
            }
           ],
           "meta": {
            "iteration_count": 100,
            "launch_mode": "Train",
            "learn_metrics": [
             {
              "best_value": "Min",
              "name": "CrossEntropy"
             }
            ],
            "learn_sets": [
             "learn"
            ],
            "name": "experiment",
            "parameters": "",
            "test_metrics": [
             {
              "best_value": "Min",
              "name": "CrossEntropy"
             }
            ],
            "test_sets": [
             "test"
            ]
           }
          },
          "passed_iterations": 99,
          "total_iterations": 100
         },
         "name": "catboost_info",
         "path": "catboost_info"
        }
       },
       "layout": "IPY_MODEL_9df6459253814758a3ed9365dcceb525"
      }
     },
     "1e453e33adb64ad2b968dbc72f37ac83": {
      "model_module": "catboost-widget",
      "model_module_version": "^1.0.0",
      "model_name": "CatboostWidgetModel",
      "state": {
       "_dom_classes": [],
       "_model_module": "catboost-widget",
       "_model_module_version": "^1.0.0",
       "_model_name": "CatboostWidgetModel",
       "_view_count": null,
       "_view_module": "catboost-widget",
       "_view_module_version": "^1.0.0",
       "_view_name": "CatboostWidgetView",
       "data": {
        "catboost_info": {
         "content": {
          "data": {
           "iterations": [
            {
             "iteration": 0,
             "learn": [
              0.6613802258
             ],
             "passed_time": 0.416130971,
             "remaining_time": 41.19696613,
             "test": [
              0.6635994505
             ]
            },
            {
             "iteration": 1,
             "learn": [
              0.6362956533
             ],
             "passed_time": 0.7975300166,
             "remaining_time": 39.07897081,
             "test": [
              0.6357718073
             ]
            },
            {
             "iteration": 2,
             "learn": [
              0.6093770739
             ],
             "passed_time": 1.414939603,
             "remaining_time": 45.74971383,
             "test": [
              0.6095215455
             ]
            },
            {
             "iteration": 3,
             "learn": [
              0.5837168221
             ],
             "passed_time": 1.879907635,
             "remaining_time": 45.11778325,
             "test": [
              0.5847129986
             ]
            },
            {
             "iteration": 4,
             "learn": [
              0.5621919668
             ],
             "passed_time": 2.37717892,
             "remaining_time": 45.16639949,
             "test": [
              0.5612381846
             ]
            },
            {
             "iteration": 5,
             "learn": [
              0.5376809444
             ],
             "passed_time": 2.771161163,
             "remaining_time": 43.41485822,
             "test": [
              0.5389938407
             ]
            },
            {
             "iteration": 6,
             "learn": [
              0.5168812804
             ],
             "passed_time": 3.208525287,
             "remaining_time": 42.62755024,
             "test": [
              0.5178878523
             ]
            },
            {
             "iteration": 7,
             "learn": [
              0.498685592
             ],
             "passed_time": 3.60758842,
             "remaining_time": 41.48726683,
             "test": [
              0.4978395016
             ]
            },
            {
             "iteration": 8,
             "learn": [
              0.4785251
             ],
             "passed_time": 4.002319519,
             "remaining_time": 40.46789736,
             "test": [
              0.4787752076
             ]
            },
            {
             "iteration": 9,
             "learn": [
              0.460579295
             ],
             "passed_time": 4.344564448,
             "remaining_time": 39.10108004,
             "test": [
              0.4606284249
             ]
            },
            {
             "iteration": 10,
             "learn": [
              0.4438347515
             ],
             "passed_time": 4.780794985,
             "remaining_time": 38.68097761,
             "test": [
              0.443340632
             ]
            },
            {
             "iteration": 11,
             "learn": [
              0.4280523043
             ],
             "passed_time": 5.194374114,
             "remaining_time": 38.09207684,
             "test": [
              0.4268552971
             ]
            },
            {
             "iteration": 12,
             "learn": [
              0.4121146542
             ],
             "passed_time": 5.605081756,
             "remaining_time": 37.51093175,
             "test": [
              0.4111219338
             ]
            },
            {
             "iteration": 13,
             "learn": [
              0.3967771355
             ],
             "passed_time": 5.974265972,
             "remaining_time": 36.6990624,
             "test": [
              0.3960959867
             ]
            },
            {
             "iteration": 14,
             "learn": [
              0.3823944845
             ],
             "passed_time": 6.409212919,
             "remaining_time": 36.31887321,
             "test": [
              0.3817345929
             ]
            },
            {
             "iteration": 15,
             "learn": [
              0.3673339232
             ],
             "passed_time": 6.86208912,
             "remaining_time": 36.02596788,
             "test": [
              0.3679996731
             ]
            },
            {
             "iteration": 16,
             "learn": [
              0.3538764241
             ],
             "passed_time": 7.222833612,
             "remaining_time": 35.26442293,
             "test": [
              0.3548542587
             ]
            },
            {
             "iteration": 17,
             "learn": [
              0.3431682069
             ],
             "passed_time": 7.604462528,
             "remaining_time": 34.64255152,
             "test": [
              0.3422666516
             ]
            },
            {
             "iteration": 18,
             "learn": [
              0.3300848362
             ],
             "passed_time": 7.947427812,
             "remaining_time": 33.88113962,
             "test": [
              0.3302063418
             ]
            },
            {
             "iteration": 19,
             "learn": [
              0.3196740398
             ],
             "passed_time": 8.409783796,
             "remaining_time": 33.63913518,
             "test": [
              0.3186453407
             ]
            },
            {
             "iteration": 20,
             "learn": [
              0.3069713426
             ],
             "passed_time": 8.797293442,
             "remaining_time": 33.09458009,
             "test": [
              0.307555936
             ]
            },
            {
             "iteration": 21,
             "learn": [
              0.2968813019
             ],
             "passed_time": 9.236416557,
             "remaining_time": 32.74729507,
             "test": [
              0.2969151201
             ]
            },
            {
             "iteration": 22,
             "learn": [
              0.286764923
             ],
             "passed_time": 9.666875375,
             "remaining_time": 32.36301756,
             "test": [
              0.2866993553
             ]
            },
            {
             "iteration": 23,
             "learn": [
              0.2765001492
             ],
             "passed_time": 10.10797713,
             "remaining_time": 32.00859424,
             "test": [
              0.2768886202
             ]
            },
            {
             "iteration": 24,
             "learn": [
              0.2664433202
             ],
             "passed_time": 10.49237792,
             "remaining_time": 31.47713376,
             "test": [
              0.2674613368
             ]
            },
            {
             "iteration": 25,
             "learn": [
              0.2579788617
             ],
             "passed_time": 10.89954143,
             "remaining_time": 31.02177177,
             "test": [
              0.2584001538
             ]
            },
            {
             "iteration": 26,
             "learn": [
              0.2499626568
             ],
             "passed_time": 11.29240032,
             "remaining_time": 30.53130456,
             "test": [
              0.2496873746
             ]
            },
            {
             "iteration": 27,
             "learn": [
              0.2419718964
             ],
             "passed_time": 11.67777454,
             "remaining_time": 30.02856309,
             "test": [
              0.2413100223
             ]
            },
            {
             "iteration": 28,
             "learn": [
              0.2336767561
             ],
             "passed_time": 12.10699403,
             "remaining_time": 29.64126124,
             "test": [
              0.2332457532
             ]
            },
            {
             "iteration": 29,
             "learn": [
              0.2258441294
             ],
             "passed_time": 12.53604511,
             "remaining_time": 29.25077193,
             "test": [
              0.225483331
             ]
            },
            {
             "iteration": 30,
             "learn": [
              0.2185228938
             ],
             "passed_time": 12.95541116,
             "remaining_time": 28.83623773,
             "test": [
              0.2180093739
             ]
            },
            {
             "iteration": 31,
             "learn": [
              0.2109296822
             ],
             "passed_time": 13.31827081,
             "remaining_time": 28.30132547,
             "test": [
              0.2108109468
             ]
            },
            {
             "iteration": 32,
             "learn": [
              0.203348286
             ],
             "passed_time": 13.80205102,
             "remaining_time": 28.02234601,
             "test": [
              0.2038758115
             ]
            },
            {
             "iteration": 33,
             "learn": [
              0.1964234101
             ],
             "passed_time": 14.22989313,
             "remaining_time": 27.62273372,
             "test": [
              0.1971934887
             ]
            },
            {
             "iteration": 34,
             "learn": [
              0.1911720808
             ],
             "passed_time": 14.66940322,
             "remaining_time": 27.2431774,
             "test": [
              0.1907524248
             ]
            },
            {
             "iteration": 35,
             "learn": [
              0.1838990039
             ],
             "passed_time": 15.02479003,
             "remaining_time": 26.71073782,
             "test": [
              0.1845423974
             ]
            },
            {
             "iteration": 36,
             "learn": [
              0.1787587574
             ],
             "passed_time": 15.4146749,
             "remaining_time": 26.24660862,
             "test": [
              0.1785538986
             ]
            },
            {
             "iteration": 37,
             "learn": [
              0.1721858053
             ],
             "passed_time": 15.77882437,
             "remaining_time": 25.74439766,
             "test": [
              0.1727777022
             ]
            },
            {
             "iteration": 38,
             "learn": [
              0.1676663803
             ],
             "passed_time": 16.19673784,
             "remaining_time": 25.33335919,
             "test": [
              0.167206681
             ]
            },
            {
             "iteration": 39,
             "learn": [
              0.1614218363
             ],
             "passed_time": 16.58221614,
             "remaining_time": 24.8733242,
             "test": [
              0.1618287437
             ]
            },
            {
             "iteration": 40,
             "learn": [
              0.1563260978
             ],
             "passed_time": 17.00266885,
             "remaining_time": 24.46725517,
             "test": [
              0.1566384953
             ]
            },
            {
             "iteration": 41,
             "learn": [
              0.152015255
             ],
             "passed_time": 17.41121574,
             "remaining_time": 24.04405984,
             "test": [
              0.1516278167
             ]
            },
            {
             "iteration": 42,
             "learn": [
              0.1470007947
             ],
             "passed_time": 17.82730784,
             "remaining_time": 23.6315476,
             "test": [
              0.1467909808
             ]
            },
            {
             "iteration": 43,
             "learn": [
              0.1418656641
             ],
             "passed_time": 18.23748213,
             "remaining_time": 23.2113409,
             "test": [
              0.1421189275
             ]
            },
            {
             "iteration": 44,
             "learn": [
              0.1371020959
             ],
             "passed_time": 18.66453267,
             "remaining_time": 22.81220659,
             "test": [
              0.1376066892
             ]
            },
            {
             "iteration": 45,
             "learn": [
              0.1329054045
             ],
             "passed_time": 19.10960939,
             "remaining_time": 22.43301972,
             "test": [
              0.1332473379
             ]
            },
            {
             "iteration": 46,
             "learn": [
              0.1289161553
             ],
             "passed_time": 19.46825379,
             "remaining_time": 21.95356279,
             "test": [
              0.1290355182
             ]
            },
            {
             "iteration": 47,
             "learn": [
              0.1249892585
             ],
             "passed_time": 19.98496455,
             "remaining_time": 21.65037826,
             "test": [
              0.1249663279
             ]
            },
            {
             "iteration": 48,
             "learn": [
              0.12108042
             ],
             "passed_time": 20.40917726,
             "remaining_time": 21.2422049,
             "test": [
              0.1210335338
             ]
            },
            {
             "iteration": 49,
             "learn": [
              0.1171927741
             ],
             "passed_time": 20.74570177,
             "remaining_time": 20.74570177,
             "test": [
              0.1172318788
             ]
            },
            {
             "iteration": 50,
             "learn": [
              0.1133171769
             ],
             "passed_time": 21.19245282,
             "remaining_time": 20.36137624,
             "test": [
              0.1135572262
             ]
            },
            {
             "iteration": 51,
             "learn": [
              0.1097536036
             ],
             "passed_time": 21.54187826,
             "remaining_time": 19.8848107,
             "test": [
              0.1100039565
             ]
            },
            {
             "iteration": 52,
             "learn": [
              0.1069257622
             ],
             "passed_time": 21.8732174,
             "remaining_time": 19.39700411,
             "test": [
              0.1065684603
             ]
            },
            {
             "iteration": 53,
             "learn": [
              0.1034040881
             ],
             "passed_time": 22.21888309,
             "remaining_time": 18.9271967,
             "test": [
              0.1032466535
             ]
            },
            {
             "iteration": 54,
             "learn": [
              0.0997299628
             ],
             "passed_time": 22.67503882,
             "remaining_time": 18.55230449,
             "test": [
              0.1000333799
             ]
            },
            {
             "iteration": 55,
             "learn": [
              0.09713721254
             ],
             "passed_time": 23.08521593,
             "remaining_time": 18.13838395,
             "test": [
              0.09692529771
             ]
            },
            {
             "iteration": 56,
             "learn": [
              0.0937655039
             ],
             "passed_time": 23.50799796,
             "remaining_time": 17.73410373,
             "test": [
              0.09391789137
             ]
            },
            {
             "iteration": 57,
             "learn": [
              0.09122256308
             ],
             "passed_time": 23.96061635,
             "remaining_time": 17.35079115,
             "test": [
              0.09100885973
             ]
            },
            {
             "iteration": 58,
             "learn": [
              0.08794107621
             ],
             "passed_time": 24.35638294,
             "remaining_time": 16.92562204,
             "test": [
              0.08819360776
             ]
            },
            {
             "iteration": 59,
             "learn": [
              0.08547205193
             ],
             "passed_time": 24.7772431,
             "remaining_time": 16.51816206,
             "test": [
              0.08547004697
             ]
            },
            {
             "iteration": 60,
             "learn": [
              0.08257516009
             ],
             "passed_time": 25.1987148,
             "remaining_time": 16.11065372,
             "test": [
              0.08283352011
             ]
            },
            {
             "iteration": 61,
             "learn": [
              0.08010097071
             ],
             "passed_time": 25.61109255,
             "remaining_time": 15.69712124,
             "test": [
              0.08028197273
             ]
            },
            {
             "iteration": 62,
             "learn": [
              0.07797067813
             ],
             "passed_time": 26.00739485,
             "remaining_time": 15.27418428,
             "test": [
              0.07781210684
             ]
            },
            {
             "iteration": 63,
             "learn": [
              0.07548902858
             ],
             "passed_time": 26.40089012,
             "remaining_time": 14.85050069,
             "test": [
              0.07542139704
             ]
            },
            {
             "iteration": 64,
             "learn": [
              0.07295933075
             ],
             "passed_time": 26.84227666,
             "remaining_time": 14.45353359,
             "test": [
              0.07310706091
             ]
            },
            {
             "iteration": 65,
             "learn": [
              0.07053749386
             ],
             "passed_time": 27.26248436,
             "remaining_time": 14.04431012,
             "test": [
              0.07086606701
             ]
            },
            {
             "iteration": 66,
             "learn": [
              0.06844816562
             ],
             "passed_time": 27.69919042,
             "remaining_time": 13.64288483,
             "test": [
              0.06869636575
             ]
            },
            {
             "iteration": 67,
             "learn": [
              0.06643136736
             ],
             "passed_time": 28.04839157,
             "remaining_time": 13.19924309,
             "test": [
              0.06659527835
             ]
            },
            {
             "iteration": 68,
             "learn": [
              0.06446576838
             ],
             "passed_time": 28.4567222,
             "remaining_time": 12.78490418,
             "test": [
              0.06456079479
             ]
            },
            {
             "iteration": 69,
             "learn": [
              0.06251198803
             ],
             "passed_time": 28.79594597,
             "remaining_time": 12.3411197,
             "test": [
              0.06259114552
             ]
            },
            {
             "iteration": 70,
             "learn": [
              0.06056297357
             ],
             "passed_time": 29.14274335,
             "remaining_time": 11.90337404,
             "test": [
              0.06068280964
             ]
            },
            {
             "iteration": 71,
             "learn": [
              0.05865338906
             ],
             "passed_time": 29.51564518,
             "remaining_time": 11.47830646,
             "test": [
              0.05883452042
             ]
            },
            {
             "iteration": 72,
             "learn": [
              0.05684142899
             ],
             "passed_time": 29.90435862,
             "remaining_time": 11.0605162,
             "test": [
              0.05704417012
             ]
            },
            {
             "iteration": 73,
             "learn": [
              0.05543111174
             ],
             "passed_time": 30.34436892,
             "remaining_time": 10.66153503,
             "test": [
              0.05531005051
             ]
            },
            {
             "iteration": 74,
             "learn": [
              0.05367284888
             ],
             "passed_time": 30.79115708,
             "remaining_time": 10.26371903,
             "test": [
              0.05363008721
             ]
            },
            {
             "iteration": 75,
             "learn": [
              0.05182508955
             ],
             "passed_time": 31.20809984,
             "remaining_time": 9.855189422,
             "test": [
              0.05200267063
             ]
            },
            {
             "iteration": 76,
             "learn": [
              0.05053065695
             ],
             "passed_time": 31.7032774,
             "remaining_time": 9.469810131,
             "test": [
              0.05042573308
             ]
            },
            {
             "iteration": 77,
             "learn": [
              0.04884017296
             ],
             "passed_time": 32.15896268,
             "remaining_time": 9.070476654,
             "test": [
              0.04889792496
             ]
            },
            {
             "iteration": 78,
             "learn": [
              0.04720918954
             ],
             "passed_time": 32.55009023,
             "remaining_time": 8.652555631,
             "test": [
              0.04741763174
             ]
            },
            {
             "iteration": 79,
             "learn": [
              0.04591181297
             ],
             "passed_time": 33.07842892,
             "remaining_time": 8.269607231,
             "test": [
              0.0459833816
             ]
            },
            {
             "iteration": 80,
             "learn": [
              0.04464906757
             ],
             "passed_time": 33.58920721,
             "remaining_time": 7.878949839,
             "test": [
              0.04459318887
             ]
            },
            {
             "iteration": 81,
             "learn": [
              0.04306328786
             ],
             "passed_time": 34.08845722,
             "remaining_time": 7.482832074,
             "test": [
              0.04324629588
             ]
            },
            {
             "iteration": 82,
             "learn": [
              0.04195531721
             ],
             "passed_time": 34.45142901,
             "remaining_time": 7.056316784,
             "test": [
              0.04194086102
             ]
            },
            {
             "iteration": 83,
             "learn": [
              0.04071431816
             ],
             "passed_time": 34.81084187,
             "remaining_time": 6.630636546,
             "test": [
              0.04067545393
             ]
            },
            {
             "iteration": 84,
             "learn": [
              0.03934780901
             ],
             "passed_time": 35.18659895,
             "remaining_time": 6.209399815,
             "test": [
              0.03944903178
             ]
            },
            {
             "iteration": 85,
             "learn": [
              0.03812639186
             ],
             "passed_time": 35.66057234,
             "remaining_time": 5.805209451,
             "test": [
              0.03826118545
             ]
            },
            {
             "iteration": 86,
             "learn": [
              0.03710706931
             ],
             "passed_time": 35.99706227,
             "remaining_time": 5.378871374,
             "test": [
              0.03710894679
             ]
            },
            {
             "iteration": 87,
             "learn": [
              0.03605583451
             ],
             "passed_time": 36.42284587,
             "remaining_time": 4.96675171,
             "test": [
              0.03599240281
             ]
            },
            {
             "iteration": 88,
             "learn": [
              0.03486727755
             ],
             "passed_time": 36.82634409,
             "remaining_time": 4.551570618,
             "test": [
              0.03490985419
             ]
            },
            {
             "iteration": 89,
             "learn": [
              0.03382406065
             ],
             "passed_time": 37.26717418,
             "remaining_time": 4.140797131,
             "test": [
              0.03386151921
             ]
            },
            {
             "iteration": 90,
             "learn": [
              0.03281918931
             ],
             "passed_time": 37.6403948,
             "remaining_time": 3.722676409,
             "test": [
              0.03284413143
             ]
            },
            {
             "iteration": 91,
             "learn": [
              0.03182888102
             ],
             "passed_time": 38.06689966,
             "remaining_time": 3.310165188,
             "test": [
              0.03185840646
             ]
            },
            {
             "iteration": 92,
             "learn": [
              0.03085154303
             ],
             "passed_time": 38.47803915,
             "remaining_time": 2.896196495,
             "test": [
              0.03090241702
             ]
            },
            {
             "iteration": 93,
             "learn": [
              0.02990825467
             ],
             "passed_time": 38.93135822,
             "remaining_time": 2.484980312,
             "test": [
              0.02997551829
             ]
            },
            {
             "iteration": 94,
             "learn": [
              0.02897118366
             ],
             "passed_time": 39.38376628,
             "remaining_time": 2.072829804,
             "test": [
              0.02907721984
             ]
            },
            {
             "iteration": 95,
             "learn": [
              0.02823786233
             ],
             "passed_time": 39.83329746,
             "remaining_time": 1.659720727,
             "test": [
              0.02820605069
             ]
            },
            {
             "iteration": 96,
             "learn": [
              0.02735208543
             ],
             "passed_time": 40.2487897,
             "remaining_time": 1.244807929,
             "test": [
              0.02736130109
             ]
            },
            {
             "iteration": 97,
             "learn": [
              0.02642991296
             ],
             "passed_time": 40.67487947,
             "remaining_time": 0.830099581,
             "test": [
              0.02654220771
             ]
            },
            {
             "iteration": 98,
             "learn": [
              0.0257764225
             ],
             "passed_time": 41.03641421,
             "remaining_time": 0.4145092345,
             "test": [
              0.02574770259
             ]
            },
            {
             "iteration": 99,
             "learn": [
              0.02492068462
             ],
             "passed_time": 41.39848198,
             "remaining_time": 0,
             "test": [
              0.0249773353
             ]
            }
           ],
           "meta": {
            "iteration_count": 100,
            "launch_mode": "Train",
            "learn_metrics": [
             {
              "best_value": "Min",
              "name": "CrossEntropy"
             }
            ],
            "learn_sets": [
             "learn"
            ],
            "name": "experiment",
            "parameters": "",
            "test_metrics": [
             {
              "best_value": "Min",
              "name": "CrossEntropy"
             }
            ],
            "test_sets": [
             "test"
            ]
           }
          },
          "passed_iterations": 99,
          "total_iterations": 100
         },
         "name": "catboost_info",
         "path": "catboost_info"
        }
       },
       "layout": "IPY_MODEL_136d4bec87b044e69437227a24f737b2"
      }
     },
     "21e7a80dba934bb88350326d9e8c1f39": {
      "model_module": "catboost-widget",
      "model_module_version": "^1.0.0",
      "model_name": "CatboostWidgetModel",
      "state": {
       "_dom_classes": [],
       "_model_module": "catboost-widget",
       "_model_module_version": "^1.0.0",
       "_model_name": "CatboostWidgetModel",
       "_view_count": null,
       "_view_module": "catboost-widget",
       "_view_module_version": "^1.0.0",
       "_view_name": "CatboostWidgetView",
       "data": {
        "catboost_info": {
         "content": {
          "data": {
           "iterations": [
            {
             "iteration": 0,
             "learn": [
              0.6613888086
             ],
             "passed_time": 0.4120275707,
             "remaining_time": 40.7907295,
             "test": [
              0.6636061101
             ]
            },
            {
             "iteration": 1,
             "learn": [
              0.6363197585
             ],
             "passed_time": 0.7951149519,
             "remaining_time": 38.96063264,
             "test": [
              0.6357859205
             ]
            },
            {
             "iteration": 2,
             "learn": [
              0.6093995375
             ],
             "passed_time": 1.220837529,
             "remaining_time": 39.47374678,
             "test": [
              0.6095431407
             ]
            },
            {
             "iteration": 3,
             "learn": [
              0.5837553871
             ],
             "passed_time": 1.545125848,
             "remaining_time": 37.08302035,
             "test": [
              0.5847392473
             ]
            },
            {
             "iteration": 4,
             "learn": [
              0.5622287725
             ],
             "passed_time": 1.924867732,
             "remaining_time": 36.57248691,
             "test": [
              0.5612690735
             ]
            },
            {
             "iteration": 5,
             "learn": [
              0.5378456839
             ],
             "passed_time": 2.31581551,
             "remaining_time": 36.28110965,
             "test": [
              0.5390297128
             ]
            },
            {
             "iteration": 6,
             "learn": [
              0.5169350842
             ],
             "passed_time": 2.757406753,
             "remaining_time": 36.63411828,
             "test": [
              0.5179283308
             ]
            },
            {
             "iteration": 7,
             "learn": [
              0.4987618856
             ],
             "passed_time": 3.157964509,
             "remaining_time": 36.31659185,
             "test": [
              0.4978813022
             ]
            },
            {
             "iteration": 8,
             "learn": [
              0.4786013307
             ],
             "passed_time": 3.55188956,
             "remaining_time": 35.91354999,
             "test": [
              0.4788214518
             ]
            },
            {
             "iteration": 9,
             "learn": [
              0.4606508366
             ],
             "passed_time": 3.897725832,
             "remaining_time": 35.07953249,
             "test": [
              0.4606776352
             ]
            },
            {
             "iteration": 10,
             "learn": [
              0.4441041606
             ],
             "passed_time": 4.384438482,
             "remaining_time": 35.47409317,
             "test": [
              0.4433934417
             ]
            },
            {
             "iteration": 11,
             "learn": [
              0.4281361606
             ],
             "passed_time": 4.803068357,
             "remaining_time": 35.22250129,
             "test": [
              0.426910772
             ]
            },
            {
             "iteration": 12,
             "learn": [
              0.412263334
             ],
             "passed_time": 5.251064585,
             "remaining_time": 35.14173992,
             "test": [
              0.4111810872
             ]
            },
            {
             "iteration": 13,
             "learn": [
              0.3968801676
             ],
             "passed_time": 5.624433428,
             "remaining_time": 34.55009106,
             "test": [
              0.3961568864
             ]
            },
            {
             "iteration": 14,
             "learn": [
              0.3825162422
             ],
             "passed_time": 6.062983862,
             "remaining_time": 34.35690855,
             "test": [
              0.3817946068
             ]
            },
            {
             "iteration": 15,
             "learn": [
              0.3674571042
             ],
             "passed_time": 6.518223737,
             "remaining_time": 34.22067462,
             "test": [
              0.3680623362
             ]
            },
            {
             "iteration": 16,
             "learn": [
              0.3540984296
             ],
             "passed_time": 6.877414833,
             "remaining_time": 33.57796654,
             "test": [
              0.3549180182
             ]
            },
            {
             "iteration": 17,
             "learn": [
              0.3432920664
             ],
             "passed_time": 7.237353142,
             "remaining_time": 32.97016431,
             "test": [
              0.3423300535
             ]
            },
            {
             "iteration": 18,
             "learn": [
              0.3302139243
             ],
             "passed_time": 7.571226636,
             "remaining_time": 32.27733461,
             "test": [
              0.3302711364
             ]
            },
            {
             "iteration": 19,
             "learn": [
              0.3197994982
             ],
             "passed_time": 8.030569127,
             "remaining_time": 32.12227651,
             "test": [
              0.3187125277
             ]
            },
            {
             "iteration": 20,
             "learn": [
              0.3071753861
             ],
             "passed_time": 8.414876013,
             "remaining_time": 31.65596215,
             "test": [
              0.3076247341
             ]
            },
            {
             "iteration": 21,
             "learn": [
              0.2970213315
             ],
             "passed_time": 8.864137853,
             "remaining_time": 31.42739784,
             "test": [
              0.2969858941
             ]
            },
            {
             "iteration": 22,
             "learn": [
              0.2869702309
             ],
             "passed_time": 9.480704926,
             "remaining_time": 31.73975127,
             "test": [
              0.2867720978
             ]
            },
            {
             "iteration": 23,
             "learn": [
              0.2766672821
             ],
             "passed_time": 9.989362677,
             "remaining_time": 31.63298181,
             "test": [
              0.2769624392
             ]
            },
            {
             "iteration": 24,
             "learn": [
              0.2667456247
             ],
             "passed_time": 10.43128332,
             "remaining_time": 31.29384997,
             "test": [
              0.267536993
             ]
            },
            {
             "iteration": 25,
             "learn": [
              0.2581529635
             ],
             "passed_time": 10.83763387,
             "remaining_time": 30.84557333,
             "test": [
              0.2584779483
             ]
            },
            {
             "iteration": 26,
             "learn": [
              0.2501239362
             ],
             "passed_time": 11.22254075,
             "remaining_time": 30.342425,
             "test": [
              0.2497663799
             ]
            },
            {
             "iteration": 27,
             "learn": [
              0.2421335817
             ],
             "passed_time": 11.60391802,
             "remaining_time": 29.83864634,
             "test": [
              0.2413863204
             ]
            },
            {
             "iteration": 28,
             "learn": [
              0.2338708763
             ],
             "passed_time": 11.98486595,
             "remaining_time": 29.34225803,
             "test": [
              0.2333225149
             ]
            },
            {
             "iteration": 29,
             "learn": [
              0.2260587246
             ],
             "passed_time": 12.40353903,
             "remaining_time": 28.94159108,
             "test": [
              0.2255617547
             ]
            },
            {
             "iteration": 30,
             "learn": [
              0.2187041847
             ],
             "passed_time": 12.82227699,
             "remaining_time": 28.53990684,
             "test": [
              0.2180891748
             ]
            },
            {
             "iteration": 31,
             "learn": [
              0.2111178061
             ],
             "passed_time": 13.18752296,
             "remaining_time": 28.02348628,
             "test": [
              0.2108921953
             ]
            },
            {
             "iteration": 32,
             "learn": [
              0.2035917396
             ],
             "passed_time": 13.67230911,
             "remaining_time": 27.75893062,
             "test": [
              0.2039587024
             ]
            },
            {
             "iteration": 33,
             "learn": [
              0.1967720901
             ],
             "passed_time": 14.10174053,
             "remaining_time": 27.37396692,
             "test": [
              0.1972763658
             ]
            },
            {
             "iteration": 34,
             "learn": [
              0.1913684617
             ],
             "passed_time": 14.54466888,
             "remaining_time": 27.01152791,
             "test": [
              0.1908380418
             ]
            },
            {
             "iteration": 35,
             "learn": [
              0.1842211764
             ],
             "passed_time": 14.91860087,
             "remaining_time": 26.52195711,
             "test": [
              0.1846288445
             ]
            },
            {
             "iteration": 36,
             "learn": [
              0.1789851412
             ],
             "passed_time": 15.35432681,
             "remaining_time": 26.14385375,
             "test": [
              0.1786412999
             ]
            },
            {
             "iteration": 37,
             "learn": [
              0.1724817199
             ],
             "passed_time": 15.74947324,
             "remaining_time": 25.69650898,
             "test": [
              0.1728663059
             ]
            },
            {
             "iteration": 38,
             "learn": [
              0.1678771551
             ],
             "passed_time": 16.16882384,
             "remaining_time": 25.28969882,
             "test": [
              0.1672908107
             ]
            },
            {
             "iteration": 39,
             "learn": [
              0.1616764117
             ],
             "passed_time": 16.63677879,
             "remaining_time": 24.95516818,
             "test": [
              0.1619112878
             ]
            },
            {
             "iteration": 40,
             "learn": [
              0.1565658605
             ],
             "passed_time": 17.03523106,
             "remaining_time": 24.51411299,
             "test": [
              0.1567206257
             ]
            },
            {
             "iteration": 41,
             "learn": [
              0.1522314618
             ],
             "passed_time": 17.4725254,
             "remaining_time": 24.12872555,
             "test": [
              0.1517116381
             ]
            },
            {
             "iteration": 42,
             "learn": [
              0.147241121
             ],
             "passed_time": 17.91275549,
             "remaining_time": 23.74481542,
             "test": [
              0.1468752531
             ]
            },
            {
             "iteration": 43,
             "learn": [
              0.1421289928
             ],
             "passed_time": 18.32326678,
             "remaining_time": 23.32052136,
             "test": [
              0.1422027389
             ]
            },
            {
             "iteration": 44,
             "learn": [
              0.1373824371
             ],
             "passed_time": 18.75354475,
             "remaining_time": 22.92099914,
             "test": [
              0.1376917478
             ]
            },
            {
             "iteration": 45,
             "learn": [
              0.1331597093
             ],
             "passed_time": 19.20699535,
             "remaining_time": 22.54734237,
             "test": [
              0.1333316959
             ]
            },
            {
             "iteration": 46,
             "learn": [
              0.1291470817
             ],
             "passed_time": 19.55085934,
             "remaining_time": 22.04671372,
             "test": [
              0.1291180876
             ]
            },
            {
             "iteration": 47,
             "learn": [
              0.1252129132
             ],
             "passed_time": 19.95553022,
             "remaining_time": 21.61849107,
             "test": [
              0.1250466791
             ]
            },
            {
             "iteration": 48,
             "learn": [
              0.1213041003
             ],
             "passed_time": 20.39638504,
             "remaining_time": 21.22889055,
             "test": [
              0.1211147777
             ]
            },
            {
             "iteration": 49,
             "learn": [
              0.1174105561
             ],
             "passed_time": 20.71263116,
             "remaining_time": 20.71263116,
             "test": [
              0.1173114644
             ]
            },
            {
             "iteration": 50,
             "learn": [
              0.1135505292
             ],
             "passed_time": 21.11836431,
             "remaining_time": 20.29019316,
             "test": [
              0.1136381459
             ]
            },
            {
             "iteration": 51,
             "learn": [
              0.1099900407
             ],
             "passed_time": 21.46877978,
             "remaining_time": 19.81733518,
             "test": [
              0.1100857036
             ]
            },
            {
             "iteration": 52,
             "learn": [
              0.1071362501
             ],
             "passed_time": 21.80002381,
             "remaining_time": 19.33209659,
             "test": [
              0.1066513026
             ]
            },
            {
             "iteration": 53,
             "learn": [
              0.1036407904
             ],
             "passed_time": 22.13546202,
             "remaining_time": 18.85613431,
             "test": [
              0.1033299164
             ]
            },
            {
             "iteration": 54,
             "learn": [
              0.09998141253
             ],
             "passed_time": 22.58437885,
             "remaining_time": 18.47812815,
             "test": [
              0.1001209407
             ]
            },
            {
             "iteration": 55,
             "learn": [
              0.09737340806
             ],
             "passed_time": 22.99092069,
             "remaining_time": 18.06429483,
             "test": [
              0.09701313256
             ]
            },
            {
             "iteration": 56,
             "learn": [
              0.09400346674
             ],
             "passed_time": 23.31882772,
             "remaining_time": 17.59139635,
             "test": [
              0.09400374508
             ]
            },
            {
             "iteration": 57,
             "learn": [
              0.09143934928
             ],
             "passed_time": 23.70716253,
             "remaining_time": 17.16725562,
             "test": [
              0.0910940374
             ]
            },
            {
             "iteration": 58,
             "learn": [
              0.08818592845
             ],
             "passed_time": 24.12087157,
             "remaining_time": 16.7619616,
             "test": [
              0.08827670947
             ]
            },
            {
             "iteration": 59,
             "learn": [
              0.08573340294
             ],
             "passed_time": 24.53357498,
             "remaining_time": 16.35571666,
             "test": [
              0.08555389062
             ]
            },
            {
             "iteration": 60,
             "learn": [
              0.08283626601
             ],
             "passed_time": 24.94740465,
             "remaining_time": 15.94998002,
             "test": [
              0.08291847968
             ]
            },
            {
             "iteration": 61,
             "learn": [
              0.08033915208
             ],
             "passed_time": 25.34642157,
             "remaining_time": 15.53490354,
             "test": [
              0.08036678622
             ]
            },
            {
             "iteration": 62,
             "learn": [
              0.07818943423
             ],
             "passed_time": 25.76423829,
             "remaining_time": 15.13137804,
             "test": [
              0.07789524585
             ]
            },
            {
             "iteration": 63,
             "learn": [
              0.07571829864
             ],
             "passed_time": 26.1441462,
             "remaining_time": 14.70608224,
             "test": [
              0.07550335678
             ]
            },
            {
             "iteration": 64,
             "learn": [
              0.07319828514
             ],
             "passed_time": 26.62740172,
             "remaining_time": 14.3378317,
             "test": [
              0.07319009598
             ]
            },
            {
             "iteration": 65,
             "learn": [
              0.07085801536
             ],
             "passed_time": 27.0120422,
             "remaining_time": 13.91529446,
             "test": [
              0.07094750856
             ]
            },
            {
             "iteration": 66,
             "learn": [
              0.06872185763
             ],
             "passed_time": 27.43681045,
             "remaining_time": 13.51365291,
             "test": [
              0.06877887495
             ]
            },
            {
             "iteration": 67,
             "learn": [
              0.0666688936
             ],
             "passed_time": 27.78354591,
             "remaining_time": 13.07460984,
             "test": [
              0.06667847515
             ]
            },
            {
             "iteration": 68,
             "learn": [
              0.06469070861
             ],
             "passed_time": 28.1545294,
             "remaining_time": 12.6491364,
             "test": [
              0.06464190553
             ]
            },
            {
             "iteration": 69,
             "learn": [
              0.06273870731
             ],
             "passed_time": 28.48395717,
             "remaining_time": 12.20741022,
             "test": [
              0.0626719438
             ]
            },
            {
             "iteration": 70,
             "learn": [
              0.06079599631
             ],
             "passed_time": 28.84150205,
             "remaining_time": 11.78033182,
             "test": [
              0.06076452595
             ]
            },
            {
             "iteration": 71,
             "learn": [
              0.05888650365
             ],
             "passed_time": 29.18070525,
             "remaining_time": 11.34805204,
             "test": [
              0.05891433205
             ]
            },
            {
             "iteration": 72,
             "learn": [
              0.05708859306
             ],
             "passed_time": 29.57786879,
             "remaining_time": 10.93975969,
             "test": [
              0.05712466488
             ]
            },
            {
             "iteration": 73,
             "learn": [
              0.05563884413
             ],
             "passed_time": 29.97356412,
             "remaining_time": 10.53125226,
             "test": [
              0.05538932511
             ]
            },
            {
             "iteration": 74,
             "learn": [
              0.0538819743
             ],
             "passed_time": 30.34816005,
             "remaining_time": 10.11605335,
             "test": [
              0.05370729289
             ]
            },
            {
             "iteration": 75,
             "learn": [
              0.05205389371
             ],
             "passed_time": 30.79059973,
             "remaining_time": 9.723347283,
             "test": [
              0.05208007878
             ]
            },
            {
             "iteration": 76,
             "learn": [
              0.05072979455
             ],
             "passed_time": 31.17677811,
             "remaining_time": 9.31254411,
             "test": [
              0.05050111182
             ]
            },
            {
             "iteration": 77,
             "learn": [
              0.04904539641
             ],
             "passed_time": 31.56251648,
             "remaining_time": 8.902248237,
             "test": [
              0.04897397702
             ]
            },
            {
             "iteration": 78,
             "learn": [
              0.04754137942
             ],
             "passed_time": 31.9308024,
             "remaining_time": 8.487934815,
             "test": [
              0.04749406292
             ]
            },
            {
             "iteration": 79,
             "learn": [
              0.04611345492
             ],
             "passed_time": 32.27623354,
             "remaining_time": 8.069058386,
             "test": [
              0.04605731333
             ]
            },
            {
             "iteration": 80,
             "learn": [
              0.04484778934
             ],
             "passed_time": 32.66019482,
             "remaining_time": 7.661033354,
             "test": [
              0.04466636602
             ]
            },
            {
             "iteration": 81,
             "learn": [
              0.04329357359
             ],
             "passed_time": 32.99744302,
             "remaining_time": 7.243341151,
             "test": [
              0.04331734068
             ]
            },
            {
             "iteration": 82,
             "learn": [
              0.04215436769
             ],
             "passed_time": 33.35473774,
             "remaining_time": 6.831693273,
             "test": [
              0.04201035568
             ]
            },
            {
             "iteration": 83,
             "learn": [
              0.04090476341
             ],
             "passed_time": 33.71322292,
             "remaining_time": 6.421566271,
             "test": [
              0.04074481642
             ]
            },
            {
             "iteration": 84,
             "learn": [
              0.03953880462
             ],
             "passed_time": 34.04274369,
             "remaining_time": 6.007543004,
             "test": [
              0.03951656088
             ]
            },
            {
             "iteration": 85,
             "learn": [
              0.03832353664
             ],
             "passed_time": 34.38654291,
             "remaining_time": 5.597809312,
             "test": [
              0.03832651098
             ]
            },
            {
             "iteration": 86,
             "learn": [
              0.03727475873
             ],
             "passed_time": 34.73963319,
             "remaining_time": 5.190979671,
             "test": [
              0.03717331569
             ]
            },
            {
             "iteration": 87,
             "learn": [
              0.03622538447
             ],
             "passed_time": 35.15823037,
             "remaining_time": 4.794304141,
             "test": [
              0.03605824315
             ]
            },
            {
             "iteration": 88,
             "learn": [
              0.03506277628
             ],
             "passed_time": 35.54976012,
             "remaining_time": 4.393790576,
             "test": [
              0.03497484934
             ]
            },
            {
             "iteration": 89,
             "learn": [
              0.03401462349
             ],
             "passed_time": 35.88528049,
             "remaining_time": 3.987253388,
             "test": [
              0.03392406757
             ]
            },
            {
             "iteration": 90,
             "learn": [
              0.03299358998
             ],
             "passed_time": 36.23455316,
             "remaining_time": 3.583637126,
             "test": [
              0.03290576622
             ]
            },
            {
             "iteration": 91,
             "learn": [
              0.032002692
             ],
             "passed_time": 36.68350379,
             "remaining_time": 3.189869895,
             "test": [
              0.03191979451
             ]
            },
            {
             "iteration": 92,
             "learn": [
              0.03102312721
             ],
             "passed_time": 36.98639354,
             "remaining_time": 2.783922094,
             "test": [
              0.03096218703
             ]
            },
            {
             "iteration": 93,
             "learn": [
              0.03009610471
             ],
             "passed_time": 37.4796848,
             "remaining_time": 2.392320307,
             "test": [
              0.0300364391
             ]
            },
            {
             "iteration": 94,
             "learn": [
              0.02918247799
             ],
             "passed_time": 37.93001498,
             "remaining_time": 1.996316578,
             "test": [
              0.02913846406
             ]
            },
            {
             "iteration": 95,
             "learn": [
              0.02839913876
             ],
             "passed_time": 38.2966418,
             "remaining_time": 1.595693409,
             "test": [
              0.02826566894
             ]
            },
            {
             "iteration": 96,
             "learn": [
              0.02750396202
             ],
             "passed_time": 38.61255299,
             "remaining_time": 1.19420267,
             "test": [
              0.02741980273
             ]
            },
            {
             "iteration": 97,
             "learn": [
              0.02662431593
             ],
             "passed_time": 39.04048849,
             "remaining_time": 0.7967446631,
             "test": [
              0.02660150391
             ]
            },
            {
             "iteration": 98,
             "learn": [
              0.0259362178
             ],
             "passed_time": 39.41537332,
             "remaining_time": 0.398135084,
             "test": [
              0.02580571661
             ]
            },
            {
             "iteration": 99,
             "learn": [
              0.02507294513
             ],
             "passed_time": 39.78226527,
             "remaining_time": 0,
             "test": [
              0.02503386803
             ]
            }
           ],
           "meta": {
            "iteration_count": 100,
            "launch_mode": "Train",
            "learn_metrics": [
             {
              "best_value": "Min",
              "name": "CrossEntropy"
             }
            ],
            "learn_sets": [
             "learn"
            ],
            "name": "experiment",
            "parameters": "",
            "test_metrics": [
             {
              "best_value": "Min",
              "name": "CrossEntropy"
             }
            ],
            "test_sets": [
             "test"
            ]
           }
          },
          "passed_iterations": 99,
          "total_iterations": 100
         },
         "name": "catboost_info",
         "path": "catboost_info"
        }
       },
       "layout": "IPY_MODEL_8bd92d62d2f74d488e456856b099859e"
      }
     },
     "3376fdb54b6b48ed85228b77885d5fe9": {
      "model_module": "@jupyter-widgets/base",
      "model_module_version": "1.2.0",
      "model_name": "LayoutModel",
      "state": {
       "_model_module": "@jupyter-widgets/base",
       "_model_module_version": "1.2.0",
       "_model_name": "LayoutModel",
       "_view_count": null,
       "_view_module": "@jupyter-widgets/base",
       "_view_module_version": "1.2.0",
       "_view_name": "LayoutView",
       "align_content": null,
       "align_items": null,
       "align_self": "stretch",
       "border": null,
       "bottom": null,
       "display": null,
       "flex": null,
       "flex_flow": null,
       "grid_area": null,
       "grid_auto_columns": null,
       "grid_auto_flow": null,
       "grid_auto_rows": null,
       "grid_column": null,
       "grid_gap": null,
       "grid_row": null,
       "grid_template_areas": null,
       "grid_template_columns": null,
       "grid_template_rows": null,
       "height": "500px",
       "justify_content": null,
       "justify_items": null,
       "left": null,
       "margin": null,
       "max_height": null,
       "max_width": null,
       "min_height": null,
       "min_width": null,
       "object_fit": null,
       "object_position": null,
       "order": null,
       "overflow": null,
       "overflow_x": null,
       "overflow_y": null,
       "padding": null,
       "right": null,
       "top": null,
       "visibility": null,
       "width": null
      }
     },
     "3879cc52d2e142f79d1c6a41723c7806": {
      "model_module": "@jupyter-widgets/base",
      "model_module_version": "1.2.0",
      "model_name": "LayoutModel",
      "state": {
       "_model_module": "@jupyter-widgets/base",
       "_model_module_version": "1.2.0",
       "_model_name": "LayoutModel",
       "_view_count": null,
       "_view_module": "@jupyter-widgets/base",
       "_view_module_version": "1.2.0",
       "_view_name": "LayoutView",
       "align_content": null,
       "align_items": null,
       "align_self": "stretch",
       "border": null,
       "bottom": null,
       "display": null,
       "flex": null,
       "flex_flow": null,
       "grid_area": null,
       "grid_auto_columns": null,
       "grid_auto_flow": null,
       "grid_auto_rows": null,
       "grid_column": null,
       "grid_gap": null,
       "grid_row": null,
       "grid_template_areas": null,
       "grid_template_columns": null,
       "grid_template_rows": null,
       "height": "500px",
       "justify_content": null,
       "justify_items": null,
       "left": null,
       "margin": null,
       "max_height": null,
       "max_width": null,
       "min_height": null,
       "min_width": null,
       "object_fit": null,
       "object_position": null,
       "order": null,
       "overflow": null,
       "overflow_x": null,
       "overflow_y": null,
       "padding": null,
       "right": null,
       "top": null,
       "visibility": null,
       "width": null
      }
     },
     "39bf1de269f94813a4107df340065f26": {
      "model_module": "catboost-widget",
      "model_module_version": "^1.0.0",
      "model_name": "CatboostWidgetModel",
      "state": {
       "_dom_classes": [],
       "_model_module": "catboost-widget",
       "_model_module_version": "^1.0.0",
       "_model_name": "CatboostWidgetModel",
       "_view_count": null,
       "_view_module": "catboost-widget",
       "_view_module_version": "^1.0.0",
       "_view_name": "CatboostWidgetView",
       "data": {
        "catboost_info": {
         "content": {
          "data": {
           "iterations": [
            {
             "iteration": 0,
             "learn": [
              0.6613990599
             ],
             "passed_time": 0.4157532189,
             "remaining_time": 41.15956867,
             "test": [
              0.6636162091
             ]
            },
            {
             "iteration": 1,
             "learn": [
              0.6363435075
             ],
             "passed_time": 0.8048198604,
             "remaining_time": 39.43617316,
             "test": [
              0.6358062714
             ]
            },
            {
             "iteration": 2,
             "learn": [
              0.6094341556
             ],
             "passed_time": 1.234133239,
             "remaining_time": 39.9036414,
             "test": [
              0.6095660665
             ]
            },
            {
             "iteration": 3,
             "learn": [
              0.5838214295
             ],
             "passed_time": 1.563099722,
             "remaining_time": 37.51439332,
             "test": [
              0.5847670906
             ]
            },
            {
             "iteration": 4,
             "learn": [
              0.5622933824
             ],
             "passed_time": 1.946771704,
             "remaining_time": 36.98866237,
             "test": [
              0.5613027975
             ]
            },
            {
             "iteration": 5,
             "learn": [
              0.5380804662
             ],
             "passed_time": 2.478552462,
             "remaining_time": 38.83065523,
             "test": [
              0.53906771
             ]
            },
            {
             "iteration": 6,
             "learn": [
              0.5170773152
             ],
             "passed_time": 3.094152187,
             "remaining_time": 41.10802191,
             "test": [
              0.5179712044
             ]
            },
            {
             "iteration": 7,
             "learn": [
              0.4988644254
             ],
             "passed_time": 3.62885986,
             "remaining_time": 41.73188838,
             "test": [
              0.4979313045
             ]
            },
            {
             "iteration": 8,
             "learn": [
              0.4787681255
             ],
             "passed_time": 4.044676649,
             "remaining_time": 40.89617501,
             "test": [
              0.4788699952
             ]
            },
            {
             "iteration": 9,
             "learn": [
              0.4607915693
             ],
             "passed_time": 4.387395888,
             "remaining_time": 39.48656299,
             "test": [
              0.4607397737
             ]
            },
            {
             "iteration": 10,
             "learn": [
              0.4442359562
             ],
             "passed_time": 4.873585205,
             "remaining_time": 39.43173484,
             "test": [
              0.4434597908
             ]
            },
            {
             "iteration": 11,
             "learn": [
              0.4282713996
             ],
             "passed_time": 5.29263648,
             "remaining_time": 38.81266752,
             "test": [
              0.4269802276
             ]
            },
            {
             "iteration": 12,
             "learn": [
              0.4124309569
             ],
             "passed_time": 5.745436697,
             "remaining_time": 38.4502302,
             "test": [
              0.4112537605
             ]
            },
            {
             "iteration": 13,
             "learn": [
              0.3970299819
             ],
             "passed_time": 6.089954139,
             "remaining_time": 37.40971828,
             "test": [
              0.3962248623
             ]
            },
            {
             "iteration": 14,
             "learn": [
              0.3826909752
             ],
             "passed_time": 6.536579383,
             "remaining_time": 37.0406165,
             "test": [
              0.3818697023
             ]
            },
            {
             "iteration": 15,
             "learn": [
              0.3676514134
             ],
             "passed_time": 6.986153008,
             "remaining_time": 36.67730329,
             "test": [
              0.3681388522
             ]
            },
            {
             "iteration": 16,
             "learn": [
              0.3543316479
             ],
             "passed_time": 7.346215971,
             "remaining_time": 35.86681915,
             "test": [
              0.3549968014
             ]
            },
            {
             "iteration": 17,
             "learn": [
              0.3434796202
             ],
             "passed_time": 7.727967197,
             "remaining_time": 35.2051839,
             "test": [
              0.3424154729
             ]
            },
            {
             "iteration": 18,
             "learn": [
              0.3304319496
             ],
             "passed_time": 8.058849519,
             "remaining_time": 34.35614795,
             "test": [
              0.3303583786
             ]
            },
            {
             "iteration": 19,
             "learn": [
              0.3199977305
             ],
             "passed_time": 8.523829297,
             "remaining_time": 34.09531719,
             "test": [
              0.3188001636
             ]
            },
            {
             "iteration": 20,
             "learn": [
              0.3074411525
             ],
             "passed_time": 8.907243088,
             "remaining_time": 33.50820019,
             "test": [
              0.3077164598
             ]
            },
            {
             "iteration": 21,
             "learn": [
              0.2972530844
             ],
             "passed_time": 9.346105631,
             "remaining_time": 33.13619269,
             "test": [
              0.2970784226
             ]
            },
            {
             "iteration": 22,
             "learn": [
              0.2872014121
             ],
             "passed_time": 9.777505332,
             "remaining_time": 32.73338742,
             "test": [
              0.2868651179
             ]
            },
            {
             "iteration": 23,
             "learn": [
              0.2769845484
             ],
             "passed_time": 10.14088771,
             "remaining_time": 32.11281107,
             "test": [
              0.2770517854
             ]
            },
            {
             "iteration": 24,
             "learn": [
              0.2670409162
             ],
             "passed_time": 10.51996164,
             "remaining_time": 31.55988491,
             "test": [
              0.2676273292
             ]
            },
            {
             "iteration": 25,
             "learn": [
              0.2584139721
             ],
             "passed_time": 10.92714369,
             "remaining_time": 31.10033205,
             "test": [
              0.2585683421
             ]
            },
            {
             "iteration": 26,
             "learn": [
              0.2503823032
             ],
             "passed_time": 11.31647195,
             "remaining_time": 30.59638713,
             "test": [
              0.2498594771
             ]
            },
            {
             "iteration": 27,
             "learn": [
              0.2424060574
             ],
             "passed_time": 11.70711821,
             "remaining_time": 30.10401825,
             "test": [
              0.2414805962
             ]
            },
            {
             "iteration": 28,
             "learn": [
              0.2341732781
             ],
             "passed_time": 12.09874275,
             "remaining_time": 29.62105983,
             "test": [
              0.2334171808
             ]
            },
            {
             "iteration": 29,
             "learn": [
              0.2263754849
             ],
             "passed_time": 12.5272108,
             "remaining_time": 29.23015854,
             "test": [
              0.2256576368
             ]
            },
            {
             "iteration": 30,
             "learn": [
              0.2189832445
             ],
             "passed_time": 12.9453882,
             "remaining_time": 28.81392858,
             "test": [
              0.2181830045
             ]
            },
            {
             "iteration": 31,
             "learn": [
              0.2113914938
             ],
             "passed_time": 13.312728,
             "remaining_time": 28.289547,
             "test": [
              0.2109857792
             ]
            },
            {
             "iteration": 32,
             "learn": [
              0.2038727906
             ],
             "passed_time": 13.79881167,
             "remaining_time": 28.01576914,
             "test": [
              0.2040530502
             ]
            },
            {
             "iteration": 33,
             "learn": [
              0.1972146196
             ],
             "passed_time": 14.23065406,
             "remaining_time": 27.62421083,
             "test": [
              0.1973653488
             ]
            },
            {
             "iteration": 34,
             "learn": [
              0.191661627
             ],
             "passed_time": 14.67920777,
             "remaining_time": 27.26138586,
             "test": [
              0.1909270837
             ]
            },
            {
             "iteration": 35,
             "learn": [
              0.1845459139
             ],
             "passed_time": 15.03973492,
             "remaining_time": 26.73730652,
             "test": [
              0.184720147
             ]
            },
            {
             "iteration": 36,
             "learn": [
              0.1793002352
             ],
             "passed_time": 15.42544661,
             "remaining_time": 26.26494964,
             "test": [
              0.1787299824
             ]
            },
            {
             "iteration": 37,
             "learn": [
              0.1727878802
             ],
             "passed_time": 15.83492478,
             "remaining_time": 25.8359299,
             "test": [
              0.1729570474
             ]
            },
            {
             "iteration": 38,
             "learn": [
              0.1681829803
             ],
             "passed_time": 16.25526528,
             "remaining_time": 25.42490211,
             "test": [
              0.1673860135
             ]
            },
            {
             "iteration": 39,
             "learn": [
              0.162008575
             ],
             "passed_time": 16.59117678,
             "remaining_time": 24.88676516,
             "test": [
              0.1620030187
             ]
            },
            {
             "iteration": 40,
             "learn": [
              0.1568562528
             ],
             "passed_time": 17.00372585,
             "remaining_time": 24.46877622,
             "test": [
              0.1568132485
             ]
            },
            {
             "iteration": 41,
             "learn": [
              0.1525294079
             ],
             "passed_time": 17.41758717,
             "remaining_time": 24.05285847,
             "test": [
              0.1518057768
             ]
            },
            {
             "iteration": 42,
             "learn": [
              0.1475397866
             ],
             "passed_time": 17.79171525,
             "remaining_time": 23.58436672,
             "test": [
              0.1469661695
             ]
            },
            {
             "iteration": 43,
             "learn": [
              0.1424432195
             ],
             "passed_time": 18.09405834,
             "remaining_time": 23.02880152,
             "test": [
              0.1422896308
             ]
            },
            {
             "iteration": 44,
             "learn": [
              0.1376677399
             ],
             "passed_time": 18.52528086,
             "remaining_time": 22.64200994,
             "test": [
              0.137780296
             ]
            },
            {
             "iteration": 45,
             "learn": [
              0.1334291717
             ],
             "passed_time": 18.90839024,
             "remaining_time": 22.19680594,
             "test": [
              0.1334177965
             ]
            },
            {
             "iteration": 46,
             "learn": [
              0.1294042294
             ],
             "passed_time": 19.2516446,
             "remaining_time": 21.70930136,
             "test": [
              0.1292047496
             ]
            },
            {
             "iteration": 47,
             "learn": [
              0.1254788238
             ],
             "passed_time": 19.73091073,
             "remaining_time": 21.37515329,
             "test": [
              0.1251360172
             ]
            },
            {
             "iteration": 48,
             "learn": [
              0.1215753272
             ],
             "passed_time": 20.15248963,
             "remaining_time": 20.97504023,
             "test": [
              0.1212055246
             ]
            },
            {
             "iteration": 49,
             "learn": [
              0.117699989
             ],
             "passed_time": 20.49040038,
             "remaining_time": 20.49040038,
             "test": [
              0.1174069374
             ]
            },
            {
             "iteration": 50,
             "learn": [
              0.1138614571
             ],
             "passed_time": 20.8937172,
             "remaining_time": 20.07435574,
             "test": [
              0.1137335042
             ]
            },
            {
             "iteration": 51,
             "learn": [
              0.1102951529
             ],
             "passed_time": 21.19917138,
             "remaining_time": 19.56846588,
             "test": [
              0.1101766903
             ]
            },
            {
             "iteration": 52,
             "learn": [
              0.1074155729
             ],
             "passed_time": 21.52708816,
             "remaining_time": 19.09005932,
             "test": [
              0.1067420144
             ]
            },
            {
             "iteration": 53,
             "learn": [
              0.1039232297
             ],
             "passed_time": 21.86563922,
             "remaining_time": 18.62628526,
             "test": [
              0.1034230246
             ]
            },
            {
             "iteration": 54,
             "learn": [
              0.100296901
             ],
             "passed_time": 22.30966174,
             "remaining_time": 18.25335961,
             "test": [
              0.1002111026
             ]
            },
            {
             "iteration": 55,
             "learn": [
              0.09764760853
             ],
             "passed_time": 22.66474699,
             "remaining_time": 17.80801549,
             "test": [
              0.09709943849
             ]
            },
            {
             "iteration": 56,
             "learn": [
              0.09426361268
             ],
             "passed_time": 22.97417385,
             "remaining_time": 17.3313943,
             "test": [
              0.09408758307
             ]
            },
            {
             "iteration": 57,
             "learn": [
              0.09170362698
             ],
             "passed_time": 23.36771907,
             "remaining_time": 16.92145174,
             "test": [
              0.09118698009
             ]
            },
            {
             "iteration": 58,
             "learn": [
              0.08845578526
             ],
             "passed_time": 23.77169016,
             "remaining_time": 16.51931011,
             "test": [
              0.08837190839
             ]
            },
            {
             "iteration": 59,
             "learn": [
              0.08600857929
             ],
             "passed_time": 24.08641886,
             "remaining_time": 16.05761257,
             "test": [
              0.08564720354
             ]
            },
            {
             "iteration": 60,
             "learn": [
              0.08314700504
             ],
             "passed_time": 24.52592561,
             "remaining_time": 15.68050982,
             "test": [
              0.08301326608
             ]
            },
            {
             "iteration": 61,
             "learn": [
              0.08059442701
             ],
             "passed_time": 24.87105994,
             "remaining_time": 15.24355286,
             "test": [
              0.08045807127
             ]
            },
            {
             "iteration": 62,
             "learn": [
              0.07843940279
             ],
             "passed_time": 25.27553225,
             "remaining_time": 14.84436021,
             "test": [
              0.07798557859
             ]
            },
            {
             "iteration": 63,
             "learn": [
              0.07596311524
             ],
             "passed_time": 25.67089187,
             "remaining_time": 14.43987668,
             "test": [
              0.07559216542
             ]
            },
            {
             "iteration": 64,
             "learn": [
              0.0734882767
             ],
             "passed_time": 26.11720602,
             "remaining_time": 14.06311093,
             "test": [
              0.07327965237
             ]
            },
            {
             "iteration": 65,
             "learn": [
              0.07113389653
             ],
             "passed_time": 26.57066384,
             "remaining_time": 13.68791774,
             "test": [
              0.07103476478
             ]
            },
            {
             "iteration": 66,
             "learn": [
              0.06895934058
             ],
             "passed_time": 27.00395616,
             "remaining_time": 13.30045602,
             "test": [
              0.06886736651
             ]
            },
            {
             "iteration": 67,
             "learn": [
              0.06691427042
             ],
             "passed_time": 27.35377943,
             "remaining_time": 12.87236679,
             "test": [
              0.06676747709
             ]
            },
            {
             "iteration": 68,
             "learn": [
              0.06492434567
             ],
             "passed_time": 27.72755284,
             "remaining_time": 12.45730635,
             "test": [
              0.06473063117
             ]
            },
            {
             "iteration": 69,
             "learn": [
              0.06297609006
             ],
             "passed_time": 28.05380635,
             "remaining_time": 12.02305986,
             "test": [
              0.06275920543
             ]
            },
            {
             "iteration": 70,
             "learn": [
              0.06104219622
             ],
             "passed_time": 28.38541942,
             "remaining_time": 11.59404455,
             "test": [
              0.06085164369
             ]
            },
            {
             "iteration": 71,
             "learn": [
              0.05914304856
             ],
             "passed_time": 28.74994353,
             "remaining_time": 11.1805336,
             "test": [
              0.058999409
             ]
            },
            {
             "iteration": 72,
             "learn": [
              0.05735332756
             ],
             "passed_time": 29.14466744,
             "remaining_time": 10.77953453,
             "test": [
              0.0572110175
             ]
            },
            {
             "iteration": 73,
             "learn": [
              0.055901484
             ],
             "passed_time": 29.59116446,
             "remaining_time": 10.39689562,
             "test": [
              0.05547819633
             ]
            },
            {
             "iteration": 74,
             "learn": [
              0.05413712198
             ],
             "passed_time": 29.93012719,
             "remaining_time": 9.976709065,
             "test": [
              0.05379550066
             ]
            },
            {
             "iteration": 75,
             "learn": [
              0.05230738295
             ],
             "passed_time": 30.3203679,
             "remaining_time": 9.57485302,
             "test": [
              0.05216663779
             ]
            },
            {
             "iteration": 76,
             "learn": [
              0.05096775068
             ],
             "passed_time": 30.72107523,
             "remaining_time": 9.176425069,
             "test": [
              0.05058542509
             ]
            },
            {
             "iteration": 77,
             "learn": [
              0.04927210974
             ],
             "passed_time": 31.10228697,
             "remaining_time": 8.772439915,
             "test": [
              0.04905922105
             ]
            },
            {
             "iteration": 78,
             "learn": [
              0.04776407682
             ],
             "passed_time": 31.4448719,
             "remaining_time": 8.358763415,
             "test": [
              0.04757649465
             ]
            },
            {
             "iteration": 79,
             "learn": [
              0.04631968198
             ],
             "passed_time": 31.73049092,
             "remaining_time": 7.93262273,
             "test": [
              0.04613744908
             ]
            },
            {
             "iteration": 80,
             "learn": [
              0.04503963082
             ],
             "passed_time": 32.08556234,
             "remaining_time": 7.526243018,
             "test": [
              0.04474404098
             ]
            },
            {
             "iteration": 81,
             "learn": [
              0.0435086293
             ],
             "passed_time": 32.46407898,
             "remaining_time": 7.126261239,
             "test": [
              0.04339621232
             ]
            },
            {
             "iteration": 82,
             "learn": [
              0.04235097754
             ],
             "passed_time": 32.79990728,
             "remaining_time": 6.718053298,
             "test": [
              0.0420939477
             ]
            },
            {
             "iteration": 83,
             "learn": [
              0.04108860754
             ],
             "passed_time": 33.11062138,
             "remaining_time": 6.306785025,
             "test": [
              0.04082497086
             ]
            },
            {
             "iteration": 84,
             "learn": [
              0.03975101576
             ],
             "passed_time": 33.45295914,
             "remaining_time": 5.903463378,
             "test": [
              0.03959702031
             ]
            },
            {
             "iteration": 85,
             "learn": [
              0.03851474976
             ],
             "passed_time": 33.86283983,
             "remaining_time": 5.512555322,
             "test": [
              0.03841172092
             ]
            },
            {
             "iteration": 86,
             "learn": [
              0.03745721959
             ],
             "passed_time": 34.2955737,
             "remaining_time": 5.124625955,
             "test": [
              0.03725614686
             ]
            },
            {
             "iteration": 87,
             "learn": [
              0.03641032028
             ],
             "passed_time": 34.91798125,
             "remaining_time": 4.761542898,
             "test": [
              0.03614128013
             ]
            },
            {
             "iteration": 88,
             "learn": [
              0.03525348013
             ],
             "passed_time": 35.50808664,
             "remaining_time": 4.388639922,
             "test": [
              0.03506086364
             ]
            },
            {
             "iteration": 89,
             "learn": [
              0.03420706465
             ],
             "passed_time": 35.92570989,
             "remaining_time": 3.991745543,
             "test": [
              0.03401069335
             ]
            },
            {
             "iteration": 90,
             "learn": [
              0.03318750723
             ],
             "passed_time": 36.28696428,
             "remaining_time": 3.588820643,
             "test": [
              0.03299055974
             ]
            },
            {
             "iteration": 91,
             "learn": [
              0.03219931339
             ],
             "passed_time": 36.72206195,
             "remaining_time": 3.193222778,
             "test": [
              0.0320058043
             ]
            },
            {
             "iteration": 92,
             "learn": [
              0.03121778128
             ],
             "passed_time": 37.03366163,
             "remaining_time": 2.787479907,
             "test": [
              0.03104592721
             ]
            },
            {
             "iteration": 93,
             "learn": [
              0.03027578097
             ],
             "passed_time": 37.49356762,
             "remaining_time": 2.393206444,
             "test": [
              0.03011972288
             ]
            },
            {
             "iteration": 94,
             "learn": [
              0.0293614659
             ],
             "passed_time": 37.80826611,
             "remaining_time": 1.989908743,
             "test": [
              0.02921801945
             ]
            },
            {
             "iteration": 95,
             "learn": [
              0.02857191179
             ],
             "passed_time": 38.12345587,
             "remaining_time": 1.588477328,
             "test": [
              0.02834290978
             ]
            },
            {
             "iteration": 96,
             "learn": [
              0.02768494024
             ],
             "passed_time": 38.54072556,
             "remaining_time": 1.191981203,
             "test": [
              0.02749964448
             ]
            },
            {
             "iteration": 97,
             "learn": [
              0.02681760111
             ],
             "passed_time": 38.96660805,
             "remaining_time": 0.7952368989,
             "test": [
              0.02668204241
             ]
            },
            {
             "iteration": 98,
             "learn": [
              0.02611637953
             ],
             "passed_time": 39.28855501,
             "remaining_time": 0.396854091,
             "test": [
              0.02588382555
             ]
            },
            {
             "iteration": 99,
             "learn": [
              0.02526302349
             ],
             "passed_time": 39.63306756,
             "remaining_time": 0,
             "test": [
              0.02511172064
             ]
            }
           ],
           "meta": {
            "iteration_count": 100,
            "launch_mode": "Train",
            "learn_metrics": [
             {
              "best_value": "Min",
              "name": "CrossEntropy"
             }
            ],
            "learn_sets": [
             "learn"
            ],
            "name": "experiment",
            "parameters": "",
            "test_metrics": [
             {
              "best_value": "Min",
              "name": "CrossEntropy"
             }
            ],
            "test_sets": [
             "test"
            ]
           }
          },
          "passed_iterations": 99,
          "total_iterations": 100
         },
         "name": "catboost_info",
         "path": "catboost_info"
        }
       },
       "layout": "IPY_MODEL_4924e0ec6e224cb6a49f6ade7f244d12"
      }
     },
     "3b12df8bab5f49b288b77ec0368ae2a2": {
      "model_module": "catboost-widget",
      "model_module_version": "^1.0.0",
      "model_name": "CatboostWidgetModel",
      "state": {
       "_dom_classes": [],
       "_model_module": "catboost-widget",
       "_model_module_version": "^1.0.0",
       "_model_name": "CatboostWidgetModel",
       "_view_count": null,
       "_view_module": "catboost-widget",
       "_view_module_version": "^1.0.0",
       "_view_name": "CatboostWidgetView",
       "data": {
        "catboost_info": {
         "content": {
          "data": {
           "iterations": [
            {
             "iteration": 0,
             "learn": [
              0.6613802258
             ],
             "passed_time": 0.4127807419,
             "remaining_time": 40.86529344,
             "test": [
              0.6636004851
             ]
            },
            {
             "iteration": 1,
             "learn": [
              0.6362956533
             ],
             "passed_time": 0.7971900143,
             "remaining_time": 39.0623107,
             "test": [
              0.6357733191
             ]
            },
            {
             "iteration": 2,
             "learn": [
              0.6093770739
             ],
             "passed_time": 1.222472899,
             "remaining_time": 39.52662373,
             "test": [
              0.6095228854
             ]
            },
            {
             "iteration": 3,
             "learn": [
              0.5837168221
             ],
             "passed_time": 1.547010133,
             "remaining_time": 37.1282432,
             "test": [
              0.5847144841
             ]
            },
            {
             "iteration": 4,
             "learn": [
              0.5621919668
             ],
             "passed_time": 1.927342915,
             "remaining_time": 36.61951539,
             "test": [
              0.5612389561
             ]
            },
            {
             "iteration": 5,
             "learn": [
              0.5376809444
             ],
             "passed_time": 2.323204011,
             "remaining_time": 36.39686283,
             "test": [
              0.5389944114
             ]
            },
            {
             "iteration": 6,
             "learn": [
              0.5168812804
             ],
             "passed_time": 2.754607428,
             "remaining_time": 36.59692726,
             "test": [
              0.5178885454
             ]
            },
            {
             "iteration": 7,
             "learn": [
              0.498685592
             ],
             "passed_time": 3.149668527,
             "remaining_time": 36.22118806,
             "test": [
              0.4978407572
             ]
            },
            {
             "iteration": 8,
             "learn": [
              0.4785251
             ],
             "passed_time": 3.541806248,
             "remaining_time": 35.81159651,
             "test": [
              0.4787764902
             ]
            },
            {
             "iteration": 9,
             "learn": [
              0.460579295
             ],
             "passed_time": 3.881473481,
             "remaining_time": 34.93326133,
             "test": [
              0.4606306363
             ]
            },
            {
             "iteration": 10,
             "learn": [
              0.4438347515
             ],
             "passed_time": 4.319027838,
             "remaining_time": 34.9448616,
             "test": [
              0.4433424255
             ]
            },
            {
             "iteration": 11,
             "learn": [
              0.4280523043
             ],
             "passed_time": 4.739080665,
             "remaining_time": 34.75325821,
             "test": [
              0.4268563572
             ]
            },
            {
             "iteration": 12,
             "learn": [
              0.4121146542
             ],
             "passed_time": 5.141092846,
             "remaining_time": 34.4057752,
             "test": [
              0.4111231022
             ]
            },
            {
             "iteration": 13,
             "learn": [
              0.3967771355
             ],
             "passed_time": 5.536947878,
             "remaining_time": 34.01267982,
             "test": [
              0.3960971853
             ]
            },
            {
             "iteration": 14,
             "learn": [
              0.3823944845
             ],
             "passed_time": 5.998689204,
             "remaining_time": 33.99257216,
             "test": [
              0.3817356866
             ]
            },
            {
             "iteration": 15,
             "learn": [
              0.3673339232
             ],
             "passed_time": 6.508983569,
             "remaining_time": 34.17216374,
             "test": [
              0.3680008009
             ]
            },
            {
             "iteration": 16,
             "learn": [
              0.3538764241
             ],
             "passed_time": 6.933678541,
             "remaining_time": 33.85266582,
             "test": [
              0.3548561754
             ]
            },
            {
             "iteration": 17,
             "learn": [
              0.3431682069
             ],
             "passed_time": 7.315237428,
             "remaining_time": 33.3249705,
             "test": [
              0.3422693796
             ]
            },
            {
             "iteration": 18,
             "learn": [
              0.3300848362
             ],
             "passed_time": 7.651603574,
             "remaining_time": 32.61999418,
             "test": [
              0.330209037
             ]
            },
            {
             "iteration": 19,
             "learn": [
              0.3196740398
             ],
             "passed_time": 8.113731701,
             "remaining_time": 32.45492681,
             "test": [
              0.3186485623
             ]
            },
            {
             "iteration": 20,
             "learn": [
              0.3069713426
             ],
             "passed_time": 8.497651757,
             "remaining_time": 31.96735661,
             "test": [
              0.3075590171
             ]
            },
            {
             "iteration": 21,
             "learn": [
              0.2968813019
             ],
             "passed_time": 8.933721916,
             "remaining_time": 31.67410498,
             "test": [
              0.2969182671
             ]
            },
            {
             "iteration": 22,
             "learn": [
              0.286764923
             ],
             "passed_time": 9.357610954,
             "remaining_time": 31.32765406,
             "test": [
              0.2867024347
             ]
            },
            {
             "iteration": 23,
             "learn": [
              0.2765001492
             ],
             "passed_time": 9.764217428,
             "remaining_time": 30.92002186,
             "test": [
              0.2768906732
             ]
            },
            {
             "iteration": 24,
             "learn": [
              0.2664433202
             ],
             "passed_time": 10.13840457,
             "remaining_time": 30.4152137,
             "test": [
              0.267463253
             ]
            },
            {
             "iteration": 25,
             "learn": [
              0.2579788617
             ],
             "passed_time": 10.54980456,
             "remaining_time": 30.02636682,
             "test": [
              0.2584020365
             ]
            },
            {
             "iteration": 26,
             "learn": [
              0.2499626568
             ],
             "passed_time": 10.93850016,
             "remaining_time": 29.5744634,
             "test": [
              0.2496891692
             ]
            },
            {
             "iteration": 27,
             "learn": [
              0.2419718964
             ],
             "passed_time": 11.32369222,
             "remaining_time": 29.11806571,
             "test": [
              0.2413087058
             ]
            },
            {
             "iteration": 28,
             "learn": [
              0.2336767561
             ],
             "passed_time": 11.74251298,
             "remaining_time": 28.74891108,
             "test": [
              0.2332445538
             ]
            },
            {
             "iteration": 29,
             "learn": [
              0.2258441294
             ],
             "passed_time": 12.16604104,
             "remaining_time": 28.38742908,
             "test": [
              0.2254820761
             ]
            },
            {
             "iteration": 30,
             "learn": [
              0.2185228938
             ],
             "passed_time": 12.59024132,
             "remaining_time": 28.02344037,
             "test": [
              0.2180083998
             ]
            },
            {
             "iteration": 31,
             "learn": [
              0.2109296822
             ],
             "passed_time": 12.9565422,
             "remaining_time": 27.53265218,
             "test": [
              0.2108104558
             ]
            },
            {
             "iteration": 32,
             "learn": [
              0.203348286
             ],
             "passed_time": 13.43850332,
             "remaining_time": 27.28423401,
             "test": [
              0.2038754022
             ]
            },
            {
             "iteration": 33,
             "learn": [
              0.1964234101
             ],
             "passed_time": 13.87051249,
             "remaining_time": 26.92511249,
             "test": [
              0.1971933749
             ]
            },
            {
             "iteration": 34,
             "learn": [
              0.1911720808
             ],
             "passed_time": 14.3073908,
             "remaining_time": 26.57086863,
             "test": [
              0.1907523037
             ]
            },
            {
             "iteration": 35,
             "learn": [
              0.1838990039
             ],
             "passed_time": 14.66597775,
             "remaining_time": 26.07284934,
             "test": [
              0.1845425019
             ]
            },
            {
             "iteration": 36,
             "learn": [
              0.1787587574
             ],
             "passed_time": 15.05000129,
             "remaining_time": 25.62567788,
             "test": [
              0.1785539487
             ]
            },
            {
             "iteration": 37,
             "learn": [
              0.1721858053
             ],
             "passed_time": 15.41264992,
             "remaining_time": 25.14695513,
             "test": [
              0.172777335
             ]
            },
            {
             "iteration": 38,
             "learn": [
              0.1676663803
             ],
             "passed_time": 15.83653607,
             "remaining_time": 24.76996668,
             "test": [
              0.1672045073
             ]
            },
            {
             "iteration": 39,
             "learn": [
              0.1614218363
             ],
             "passed_time": 16.22135691,
             "remaining_time": 24.33203537,
             "test": [
              0.1618269711
             ]
            },
            {
             "iteration": 40,
             "learn": [
              0.1563260978
             ],
             "passed_time": 16.65092541,
             "remaining_time": 23.96108778,
             "test": [
              0.1566365977
             ]
            },
            {
             "iteration": 41,
             "learn": [
              0.152015255
             ],
             "passed_time": 17.05917789,
             "remaining_time": 23.55791232,
             "test": [
              0.15162675
             ]
            },
            {
             "iteration": 42,
             "learn": [
              0.1470007947
             ],
             "passed_time": 17.51392982,
             "remaining_time": 23.21613952,
             "test": [
              0.1467893767
             ]
            },
            {
             "iteration": 43,
             "learn": [
              0.1418656641
             ],
             "passed_time": 17.93147773,
             "remaining_time": 22.82188074,
             "test": [
              0.1421176567
             ]
            },
            {
             "iteration": 44,
             "learn": [
              0.1371020959
             ],
             "passed_time": 18.35856325,
             "remaining_time": 22.43824397,
             "test": [
              0.1376059973
             ]
            },
            {
             "iteration": 45,
             "learn": [
              0.1329054045
             ],
             "passed_time": 18.80886363,
             "remaining_time": 22.07997034,
             "test": [
              0.133246782
             ]
            },
            {
             "iteration": 46,
             "learn": [
              0.1289161553
             ],
             "passed_time": 19.16268841,
             "remaining_time": 21.60898906,
             "test": [
              0.1290352982
             ]
            },
            {
             "iteration": 47,
             "learn": [
              0.1249892585
             ],
             "passed_time": 19.68304491,
             "remaining_time": 21.32329866,
             "test": [
              0.1249660776
             ]
            },
            {
             "iteration": 48,
             "learn": [
              0.12108042
             ],
             "passed_time": 20.10706861,
             "remaining_time": 20.92776529,
             "test": [
              0.1210334454
             ]
            },
            {
             "iteration": 49,
             "learn": [
              0.1171927741
             ],
             "passed_time": 20.44284271,
             "remaining_time": 20.44284271,
             "test": [
              0.1172321158
             ]
            },
            {
             "iteration": 50,
             "learn": [
              0.1133171769
             ],
             "passed_time": 20.84932422,
             "remaining_time": 20.03170366,
             "test": [
              0.1135573441
             ]
            },
            {
             "iteration": 51,
             "learn": [
              0.1097536036
             ],
             "passed_time": 21.19103741,
             "remaining_time": 19.56095761,
             "test": [
              0.110004733
             ]
            },
            {
             "iteration": 52,
             "learn": [
              0.1069257622
             ],
             "passed_time": 21.52596754,
             "remaining_time": 19.08906555,
             "test": [
              0.1065686729
             ]
            },
            {
             "iteration": 53,
             "learn": [
              0.1034040881
             ],
             "passed_time": 21.86649915,
             "remaining_time": 18.6270178,
             "test": [
              0.103247667
             ]
            },
            {
             "iteration": 54,
             "learn": [
              0.0997299628
             ],
             "passed_time": 22.47271281,
             "remaining_time": 18.38676502,
             "test": [
              0.1000346711
             ]
            },
            {
             "iteration": 55,
             "learn": [
              0.09713721254
             ],
             "passed_time": 23.04619651,
             "remaining_time": 18.10772583,
             "test": [
              0.09692641086
             ]
            },
            {
             "iteration": 56,
             "learn": [
              0.0937655039
             ],
             "passed_time": 23.5880954,
             "remaining_time": 17.79452811,
             "test": [
              0.09391895314
             ]
            },
            {
             "iteration": 57,
             "learn": [
              0.09122256308
             ],
             "passed_time": 24.03764926,
             "remaining_time": 17.4065736,
             "test": [
              0.09100988213
             ]
            },
            {
             "iteration": 58,
             "learn": [
              0.08794107621
             ],
             "passed_time": 24.43295355,
             "remaining_time": 16.97883213,
             "test": [
              0.0881959303
             ]
            },
            {
             "iteration": 59,
             "learn": [
              0.08547205193
             ],
             "passed_time": 24.84911851,
             "remaining_time": 16.56607901,
             "test": [
              0.0854721877
             ]
            },
            {
             "iteration": 60,
             "learn": [
              0.08257516009
             ],
             "passed_time": 25.26749963,
             "remaining_time": 16.15463091,
             "test": [
              0.08283571839
             ]
            },
            {
             "iteration": 61,
             "learn": [
              0.08010097071
             ],
             "passed_time": 25.68055769,
             "remaining_time": 15.73969665,
             "test": [
              0.08028405812
             ]
            },
            {
             "iteration": 62,
             "learn": [
              0.07797067813
             ],
             "passed_time": 26.07266889,
             "remaining_time": 15.31251982,
             "test": [
              0.07781432286
             ]
            },
            {
             "iteration": 63,
             "learn": [
              0.07548902858
             ],
             "passed_time": 26.4736181,
             "remaining_time": 14.89141018,
             "test": [
              0.07542354363
             ]
            },
            {
             "iteration": 64,
             "learn": [
              0.07295933075
             ],
             "passed_time": 26.91528695,
             "remaining_time": 14.49284682,
             "test": [
              0.07310946588
             ]
            },
            {
             "iteration": 65,
             "learn": [
              0.07053749386
             ],
             "passed_time": 27.33574581,
             "remaining_time": 14.08205087,
             "test": [
              0.07086838825
             ]
            },
            {
             "iteration": 66,
             "learn": [
              0.06844816562
             ],
             "passed_time": 27.78032897,
             "remaining_time": 13.6828486,
             "test": [
              0.06869871926
             ]
            },
            {
             "iteration": 67,
             "learn": [
              0.06643136736
             ],
             "passed_time": 28.12754179,
             "remaining_time": 13.23649025,
             "test": [
              0.0665975796
             ]
            },
            {
             "iteration": 68,
             "learn": [
              0.06446576838
             ],
             "passed_time": 28.59374021,
             "remaining_time": 12.84646299,
             "test": [
              0.06456325288
             ]
            },
            {
             "iteration": 69,
             "learn": [
              0.06251198803
             ],
             "passed_time": 28.92410903,
             "remaining_time": 12.39604673,
             "test": [
              0.06259284904
             ]
            },
            {
             "iteration": 70,
             "learn": [
              0.06056297357
             ],
             "passed_time": 29.27457256,
             "remaining_time": 11.95721978,
             "test": [
              0.06068436123
             ]
            },
            {
             "iteration": 71,
             "learn": [
              0.05865338906
             ],
             "passed_time": 29.64795304,
             "remaining_time": 11.52975952,
             "test": [
              0.0588360973
             ]
            },
            {
             "iteration": 72,
             "learn": [
              0.05684142899
             ],
             "passed_time": 30.03975827,
             "remaining_time": 11.11059552,
             "test": [
              0.05704549989
             ]
            },
            {
             "iteration": 73,
             "learn": [
              0.05543111174
             ],
             "passed_time": 30.48137275,
             "remaining_time": 10.70967151,
             "test": [
              0.05531130695
             ]
            },
            {
             "iteration": 74,
             "learn": [
              0.05367284888
             ],
             "passed_time": 30.92512499,
             "remaining_time": 10.308375,
             "test": [
              0.05363143637
             ]
            },
            {
             "iteration": 75,
             "learn": [
              0.05182508955
             ],
             "passed_time": 31.33904016,
             "remaining_time": 9.896538998,
             "test": [
              0.0520037939
             ]
            },
            {
             "iteration": 76,
             "learn": [
              0.05053065695
             ],
             "passed_time": 31.82766387,
             "remaining_time": 9.506964533,
             "test": [
              0.05042680933
             ]
            },
            {
             "iteration": 77,
             "learn": [
              0.04884017296
             ],
             "passed_time": 32.22360314,
             "remaining_time": 9.088708579,
             "test": [
              0.0488993528
             ]
            },
            {
             "iteration": 78,
             "learn": [
              0.04720918954
             ],
             "passed_time": 32.60752047,
             "remaining_time": 8.667821896,
             "test": [
              0.04741890394
             ]
            },
            {
             "iteration": 79,
             "learn": [
              0.04591181297
             ],
             "passed_time": 32.99381422,
             "remaining_time": 8.248453554,
             "test": [
              0.04598452981
             ]
            },
            {
             "iteration": 80,
             "learn": [
              0.04464906757
             ],
             "passed_time": 33.35139443,
             "remaining_time": 7.823166594,
             "test": [
              0.04459430292
             ]
            },
            {
             "iteration": 81,
             "learn": [
              0.04306328786
             ],
             "passed_time": 33.70917621,
             "remaining_time": 7.399575265,
             "test": [
              0.04324706008
             ]
            },
            {
             "iteration": 82,
             "learn": [
              0.04195531721
             ],
             "passed_time": 34.05878464,
             "remaining_time": 6.975895649,
             "test": [
              0.04194147204
             ]
            },
            {
             "iteration": 83,
             "learn": [
              0.04071431816
             ],
             "passed_time": 34.415863,
             "remaining_time": 6.555402476,
             "test": [
              0.04067605958
             ]
            },
            {
             "iteration": 84,
             "learn": [
              0.03934780901
             ],
             "passed_time": 34.79819928,
             "remaining_time": 6.140858697,
             "test": [
              0.03944948603
             ]
            },
            {
             "iteration": 85,
             "learn": [
              0.03812639186
             ],
             "passed_time": 35.26642087,
             "remaining_time": 5.741045258,
             "test": [
              0.03826106545
             ]
            },
            {
             "iteration": 86,
             "learn": [
              0.03710706931
             ],
             "passed_time": 35.60318827,
             "remaining_time": 5.320016639,
             "test": [
              0.03710885432
             ]
            },
            {
             "iteration": 87,
             "learn": [
              0.03605583451
             ],
             "passed_time": 36.02597862,
             "remaining_time": 4.912633449,
             "test": [
              0.03599259857
             ]
            },
            {
             "iteration": 88,
             "learn": [
              0.03486727755
             ],
             "passed_time": 36.42873134,
             "remaining_time": 4.502427469,
             "test": [
              0.03491021972
             ]
            },
            {
             "iteration": 89,
             "learn": [
              0.03382406065
             ],
             "passed_time": 36.88272314,
             "remaining_time": 4.098080348,
             "test": [
              0.03386114858
             ]
            },
            {
             "iteration": 90,
             "learn": [
              0.03281918931
             ],
             "passed_time": 37.25175347,
             "remaining_time": 3.684239354,
             "test": [
              0.03284389997
             ]
            },
            {
             "iteration": 91,
             "learn": [
              0.03182888102
             ],
             "passed_time": 37.68251498,
             "remaining_time": 3.276740433,
             "test": [
              0.03185838709
             ]
            },
            {
             "iteration": 92,
             "learn": [
              0.03085154303
             ],
             "passed_time": 38.09308904,
             "remaining_time": 2.867221756,
             "test": [
              0.03090235839
             ]
            },
            {
             "iteration": 93,
             "learn": [
              0.02990825467
             ],
             "passed_time": 38.54559314,
             "remaining_time": 2.460357009,
             "test": [
              0.02997547035
             ]
            },
            {
             "iteration": 94,
             "learn": [
              0.02897118366
             ],
             "passed_time": 38.99871557,
             "remaining_time": 2.052563977,
             "test": [
              0.02907713041
             ]
            },
            {
             "iteration": 95,
             "learn": [
              0.02823786233
             ],
             "passed_time": 39.46291575,
             "remaining_time": 1.644288156,
             "test": [
              0.02820597189
             ]
            },
            {
             "iteration": 96,
             "learn": [
              0.02735208543
             ],
             "passed_time": 39.9039986,
             "remaining_time": 1.234144287,
             "test": [
              0.02736137195
             ]
            },
            {
             "iteration": 97,
             "learn": [
              0.02642991296
             ],
             "passed_time": 40.32141193,
             "remaining_time": 0.8228859577,
             "test": [
              0.02654242153
             ]
            },
            {
             "iteration": 98,
             "learn": [
              0.0257764225
             ],
             "passed_time": 40.68984877,
             "remaining_time": 0.4110085734,
             "test": [
              0.02574794303
             ]
            },
            {
             "iteration": 99,
             "learn": [
              0.02492068462
             ],
             "passed_time": 41.05121342,
             "remaining_time": 0,
             "test": [
              0.02497788216
             ]
            }
           ],
           "meta": {
            "iteration_count": 100,
            "launch_mode": "Train",
            "learn_metrics": [
             {
              "best_value": "Min",
              "name": "CrossEntropy"
             }
            ],
            "learn_sets": [
             "learn"
            ],
            "name": "experiment",
            "parameters": "",
            "test_metrics": [
             {
              "best_value": "Min",
              "name": "CrossEntropy"
             }
            ],
            "test_sets": [
             "test"
            ]
           }
          },
          "passed_iterations": 99,
          "total_iterations": 100
         },
         "name": "catboost_info",
         "path": "catboost_info"
        }
       },
       "layout": "IPY_MODEL_f4e279bd337b4d8c8e214f02a3a8a4db"
      }
     },
     "3bcafd09e1ed4a979c6aac5464ef11a8": {
      "model_module": "catboost-widget",
      "model_module_version": "^1.0.0",
      "model_name": "CatboostWidgetModel",
      "state": {
       "_dom_classes": [],
       "_model_module": "catboost-widget",
       "_model_module_version": "^1.0.0",
       "_model_name": "CatboostWidgetModel",
       "_view_count": null,
       "_view_module": "catboost-widget",
       "_view_module_version": "^1.0.0",
       "_view_name": "CatboostWidgetView",
       "data": {
        "catboost_info": {
         "content": {
          "data": {
           "iterations": [
            {
             "iteration": 0,
             "learn": [
              0.6731372078
             ],
             "passed_time": 0.4111438297,
             "remaining_time": 40.70323914,
             "test": [
              0.6730510697
             ]
            },
            {
             "iteration": 1,
             "learn": [
              0.6531077153
             ],
             "passed_time": 0.8108942425,
             "remaining_time": 39.73381788,
             "test": [
              0.6541489182
             ]
            },
            {
             "iteration": 2,
             "learn": [
              0.633268363
             ],
             "passed_time": 1.156834411,
             "remaining_time": 37.40431262,
             "test": [
              0.6358438146
             ]
            },
            {
             "iteration": 3,
             "learn": [
              0.6163232937
             ],
             "passed_time": 1.55612225,
             "remaining_time": 37.34693399,
             "test": [
              0.6189049692
             ]
            },
            {
             "iteration": 4,
             "learn": [
              0.5997417163
             ],
             "passed_time": 1.926266825,
             "remaining_time": 36.59906968,
             "test": [
              0.6025776416
             ]
            },
            {
             "iteration": 5,
             "learn": [
              0.5839297237
             ],
             "passed_time": 2.309213564,
             "remaining_time": 36.17767917,
             "test": [
              0.5874661269
             ]
            },
            {
             "iteration": 6,
             "learn": [
              0.5683280591
             ],
             "passed_time": 2.690341533,
             "remaining_time": 35.74310894,
             "test": [
              0.5725810476
             ]
            },
            {
             "iteration": 7,
             "learn": [
              0.5545508057
             ],
             "passed_time": 3.056816812,
             "remaining_time": 35.15339333,
             "test": [
              0.5594355873
             ]
            },
            {
             "iteration": 8,
             "learn": [
              0.5413036892
             ],
             "passed_time": 3.45503299,
             "remaining_time": 34.93422246,
             "test": [
              0.5462548548
             ]
            },
            {
             "iteration": 9,
             "learn": [
              0.5280542458
             ],
             "passed_time": 3.847478987,
             "remaining_time": 34.62731088,
             "test": [
              0.5338745259
             ]
            },
            {
             "iteration": 10,
             "learn": [
              0.5149968215
             ],
             "passed_time": 4.190151849,
             "remaining_time": 33.90213769,
             "test": [
              0.5216698052
             ]
            },
            {
             "iteration": 11,
             "learn": [
              0.5034651924
             ],
             "passed_time": 4.57840099,
             "remaining_time": 33.5749406,
             "test": [
              0.510632532
             ]
            },
            {
             "iteration": 12,
             "learn": [
              0.4924529761
             ],
             "passed_time": 4.966700495,
             "remaining_time": 33.23868793,
             "test": [
              0.499703071
             ]
            },
            {
             "iteration": 13,
             "learn": [
              0.4808174605
             ],
             "passed_time": 5.330390478,
             "remaining_time": 32.74382722,
             "test": [
              0.488475852
             ]
            },
            {
             "iteration": 14,
             "learn": [
              0.4693248796
             ],
             "passed_time": 5.704202491,
             "remaining_time": 32.32381411,
             "test": [
              0.4776374192
             ]
            },
            {
             "iteration": 15,
             "learn": [
              0.4598276018
             ],
             "passed_time": 6.119231982,
             "remaining_time": 32.1259679,
             "test": [
              0.4682800566
             ]
            },
            {
             "iteration": 16,
             "learn": [
              0.4496902487
             ],
             "passed_time": 6.45353945,
             "remaining_time": 31.50845731,
             "test": [
              0.4591424575
             ]
            },
            {
             "iteration": 17,
             "learn": [
              0.4401211175
             ],
             "passed_time": 6.874806084,
             "remaining_time": 31.31856105,
             "test": [
              0.4498304264
             ]
            },
            {
             "iteration": 18,
             "learn": [
              0.4303707857
             ],
             "passed_time": 7.266388553,
             "remaining_time": 30.97776173,
             "test": [
              0.4410192894
             ]
            },
            {
             "iteration": 19,
             "learn": [
              0.4213109113
             ],
             "passed_time": 7.65551537,
             "remaining_time": 30.62206148,
             "test": [
              0.4323728291
             ]
            },
            {
             "iteration": 20,
             "learn": [
              0.4125287234
             ],
             "passed_time": 8.033063792,
             "remaining_time": 30.21962093,
             "test": [
              0.4240467702
             ]
            },
            {
             "iteration": 21,
             "learn": [
              0.4041281387
             ],
             "passed_time": 8.460834708,
             "remaining_time": 29.99750487,
             "test": [
              0.4161456811
             ]
            },
            {
             "iteration": 22,
             "learn": [
              0.396091968
             ],
             "passed_time": 8.877970592,
             "remaining_time": 29.72190155,
             "test": [
              0.408329613
             ]
            },
            {
             "iteration": 23,
             "learn": [
              0.3878511971
             ],
             "passed_time": 9.347613071,
             "remaining_time": 29.60077472,
             "test": [
              0.4001772307
             ]
            },
            {
             "iteration": 24,
             "learn": [
              0.3803374703
             ],
             "passed_time": 9.737044017,
             "remaining_time": 29.21113205,
             "test": [
              0.3932486736
             ]
            },
            {
             "iteration": 25,
             "learn": [
              0.3729439214
             ],
             "passed_time": 10.14109316,
             "remaining_time": 28.86311131,
             "test": [
              0.3861516732
             ]
            },
            {
             "iteration": 26,
             "learn": [
              0.3662891195
             ],
             "passed_time": 10.54893036,
             "remaining_time": 28.52118209,
             "test": [
              0.3799070749
             ]
            },
            {
             "iteration": 27,
             "learn": [
              0.3592314401
             ],
             "passed_time": 10.99091509,
             "remaining_time": 28.26235308,
             "test": [
              0.3729653893
             ]
            },
            {
             "iteration": 28,
             "learn": [
              0.3526666575
             ],
             "passed_time": 11.37154786,
             "remaining_time": 27.84068613,
             "test": [
              0.3668169156
             ]
            },
            {
             "iteration": 29,
             "learn": [
              0.346107192
             ],
             "passed_time": 11.83318491,
             "remaining_time": 27.61076479,
             "test": [
              0.3602199933
             ]
            },
            {
             "iteration": 30,
             "learn": [
              0.3396020892
             ],
             "passed_time": 12.28161254,
             "remaining_time": 27.33649244,
             "test": [
              0.3538524908
             ]
            },
            {
             "iteration": 31,
             "learn": [
              0.3338007059
             ],
             "passed_time": 12.68671284,
             "remaining_time": 26.95926479,
             "test": [
              0.3477890414
             ]
            },
            {
             "iteration": 32,
             "learn": [
              0.327909646
             ],
             "passed_time": 13.13738471,
             "remaining_time": 26.67287199,
             "test": [
              0.3418516574
             ]
            },
            {
             "iteration": 33,
             "learn": [
              0.3226489985
             ],
             "passed_time": 13.54338383,
             "remaining_time": 26.29009803,
             "test": [
              0.3364968825
             ]
            },
            {
             "iteration": 34,
             "learn": [
              0.3170108186
             ],
             "passed_time": 13.99024154,
             "remaining_time": 25.98187714,
             "test": [
              0.3309857629
             ]
            },
            {
             "iteration": 35,
             "learn": [
              0.3116716345
             ],
             "passed_time": 14.4387219,
             "remaining_time": 25.66883893,
             "test": [
              0.3260342264
             ]
            },
            {
             "iteration": 36,
             "learn": [
              0.3065510004
             ],
             "passed_time": 14.83097834,
             "remaining_time": 25.2527469,
             "test": [
              0.3211085877
             ]
            },
            {
             "iteration": 37,
             "learn": [
              0.3014732435
             ],
             "passed_time": 15.27570447,
             "remaining_time": 24.92351782,
             "test": [
              0.316037861
             ]
            },
            {
             "iteration": 38,
             "learn": [
              0.2965725528
             ],
             "passed_time": 15.67433521,
             "remaining_time": 24.5162679,
             "test": [
              0.3110668761
             ]
            },
            {
             "iteration": 39,
             "learn": [
              0.2918348324
             ],
             "passed_time": 16.08078633,
             "remaining_time": 24.12117949,
             "test": [
              0.3064329582
             ]
            },
            {
             "iteration": 40,
             "learn": [
              0.2875557456
             ],
             "passed_time": 16.48392078,
             "remaining_time": 23.72076405,
             "test": [
              0.3019990585
             ]
            },
            {
             "iteration": 41,
             "learn": [
              0.28319268
             ],
             "passed_time": 16.92857157,
             "remaining_time": 23.37755122,
             "test": [
              0.2978606155
             ]
            },
            {
             "iteration": 42,
             "learn": [
              0.278691852
             ],
             "passed_time": 17.50232451,
             "remaining_time": 23.20075574,
             "test": [
              0.2931746021
             ]
            },
            {
             "iteration": 43,
             "learn": [
              0.2747457634
             ],
             "passed_time": 18.09682109,
             "remaining_time": 23.03231776,
             "test": [
              0.289222549
             ]
            },
            {
             "iteration": 44,
             "learn": [
              0.2704999522
             ],
             "passed_time": 18.52957934,
             "remaining_time": 22.64726363,
             "test": [
              0.2849126014
             ]
            },
            {
             "iteration": 45,
             "learn": [
              0.2664351729
             ],
             "passed_time": 18.92273579,
             "remaining_time": 22.21364636,
             "test": [
              0.2809284283
             ]
            },
            {
             "iteration": 46,
             "learn": [
              0.2624482775
             ],
             "passed_time": 19.31430754,
             "remaining_time": 21.77996382,
             "test": [
              0.2769966259
             ]
            },
            {
             "iteration": 47,
             "learn": [
              0.2586099516
             ],
             "passed_time": 19.73050792,
             "remaining_time": 21.37471692,
             "test": [
              0.2730388346
             ]
            },
            {
             "iteration": 48,
             "learn": [
              0.2549875541
             ],
             "passed_time": 20.11275615,
             "remaining_time": 20.93368497,
             "test": [
              0.2693300593
             ]
            },
            {
             "iteration": 49,
             "learn": [
              0.2512593072
             ],
             "passed_time": 20.60245863,
             "remaining_time": 20.60245863,
             "test": [
              0.2655698193
             ]
            },
            {
             "iteration": 50,
             "learn": [
              0.2477592019
             ],
             "passed_time": 21.08586447,
             "remaining_time": 20.25896782,
             "test": [
              0.261982749
             ]
            },
            {
             "iteration": 51,
             "learn": [
              0.2443577215
             ],
             "passed_time": 21.48969784,
             "remaining_time": 19.83664416,
             "test": [
              0.2586579684
             ]
            },
            {
             "iteration": 52,
             "learn": [
              0.2411835944
             ],
             "passed_time": 21.95395105,
             "remaining_time": 19.4685981,
             "test": [
              0.255424102
             ]
            },
            {
             "iteration": 53,
             "learn": [
              0.2382335654
             ],
             "passed_time": 22.34004604,
             "remaining_time": 19.03040959,
             "test": [
              0.2521725239
             ]
            },
            {
             "iteration": 54,
             "learn": [
              0.2355944982
             ],
             "passed_time": 22.72885569,
             "remaining_time": 18.59633647,
             "test": [
              0.2495381664
             ]
            },
            {
             "iteration": 55,
             "learn": [
              0.2325774835
             ],
             "passed_time": 23.13640865,
             "remaining_time": 18.17860679,
             "test": [
              0.2462306995
             ]
            },
            {
             "iteration": 56,
             "learn": [
              0.2295765385
             ],
             "passed_time": 23.53203594,
             "remaining_time": 17.75223764,
             "test": [
              0.2431825024
             ]
            },
            {
             "iteration": 57,
             "learn": [
              0.2270068406
             ],
             "passed_time": 23.91361342,
             "remaining_time": 17.31675455,
             "test": [
              0.2406027705
             ]
            },
            {
             "iteration": 58,
             "learn": [
              0.2242551414
             ],
             "passed_time": 24.29246782,
             "remaining_time": 16.88120645,
             "test": [
              0.2377188953
             ]
            },
            {
             "iteration": 59,
             "learn": [
              0.2215190406
             ],
             "passed_time": 24.72190135,
             "remaining_time": 16.48126757,
             "test": [
              0.2347775563
             ]
            },
            {
             "iteration": 60,
             "learn": [
              0.218971456
             ],
             "passed_time": 25.12252198,
             "remaining_time": 16.06194028,
             "test": [
              0.2319547713
             ]
            },
            {
             "iteration": 61,
             "learn": [
              0.21641207
             ],
             "passed_time": 25.53916907,
             "remaining_time": 15.65303911,
             "test": [
              0.2294402768
             ]
            },
            {
             "iteration": 62,
             "learn": [
              0.2138737474
             ],
             "passed_time": 25.95913666,
             "remaining_time": 15.24584216,
             "test": [
              0.226927501
             ]
            },
            {
             "iteration": 63,
             "learn": [
              0.2117192698
             ],
             "passed_time": 26.35288877,
             "remaining_time": 14.82349993,
             "test": [
              0.2246140734
             ]
            },
            {
             "iteration": 64,
             "learn": [
              0.2096691937
             ],
             "passed_time": 26.73839782,
             "remaining_time": 14.39759883,
             "test": [
              0.2225370813
             ]
            },
            {
             "iteration": 65,
             "learn": [
              0.2071265737
             ],
             "passed_time": 27.20944415,
             "remaining_time": 14.01698638,
             "test": [
              0.2200549462
             ]
            },
            {
             "iteration": 66,
             "learn": [
              0.2048354539
             ],
             "passed_time": 27.62899667,
             "remaining_time": 13.60831179,
             "test": [
              0.2173135529
             ]
            },
            {
             "iteration": 67,
             "learn": [
              0.2026129649
             ],
             "passed_time": 28.04957387,
             "remaining_time": 13.19979947,
             "test": [
              0.2149460377
             ]
            },
            {
             "iteration": 68,
             "learn": [
              0.2005582112
             ],
             "passed_time": 28.41099241,
             "remaining_time": 12.76435891,
             "test": [
              0.2126960313
             ]
            },
            {
             "iteration": 69,
             "learn": [
              0.1986484313
             ],
             "passed_time": 28.87953518,
             "remaining_time": 12.37694365,
             "test": [
              0.2106293781
             ]
            },
            {
             "iteration": 70,
             "learn": [
              0.1971292584
             ],
             "passed_time": 29.18632603,
             "remaining_time": 11.92117542,
             "test": [
              0.2093158169
             ]
            },
            {
             "iteration": 71,
             "learn": [
              0.1950016863
             ],
             "passed_time": 29.60869414,
             "remaining_time": 11.51449217,
             "test": [
              0.2070245152
             ]
            },
            {
             "iteration": 72,
             "learn": [
              0.1931266172
             ],
             "passed_time": 29.97054854,
             "remaining_time": 11.08499741,
             "test": [
              0.2049516855
             ]
            },
            {
             "iteration": 73,
             "learn": [
              0.1914918263
             ],
             "passed_time": 30.34130062,
             "remaining_time": 10.66045698,
             "test": [
              0.2027855112
             ]
            },
            {
             "iteration": 74,
             "learn": [
              0.1894443431
             ],
             "passed_time": 30.76618342,
             "remaining_time": 10.25539447,
             "test": [
              0.2006568585
             ]
            },
            {
             "iteration": 75,
             "learn": [
              0.187687694
             ],
             "passed_time": 31.18215038,
             "remaining_time": 9.846994858,
             "test": [
              0.1987525165
             ]
            },
            {
             "iteration": 76,
             "learn": [
              0.1858870483
             ],
             "passed_time": 31.57402022,
             "remaining_time": 9.431200845,
             "test": [
              0.1970333103
             ]
            },
            {
             "iteration": 77,
             "learn": [
              0.1843210635
             ],
             "passed_time": 31.96774027,
             "remaining_time": 9.016542126,
             "test": [
              0.1952491435
             ]
            },
            {
             "iteration": 78,
             "learn": [
              0.1824453874
             ],
             "passed_time": 32.36400852,
             "remaining_time": 8.603090873,
             "test": [
              0.193369043
             ]
            },
            {
             "iteration": 79,
             "learn": [
              0.1808158838
             ],
             "passed_time": 32.70802943,
             "remaining_time": 8.177007357,
             "test": [
              0.191692291
             ]
            },
            {
             "iteration": 80,
             "learn": [
              0.1790467741
             ],
             "passed_time": 33.13468048,
             "remaining_time": 7.772332458,
             "test": [
              0.1899085255
             ]
            },
            {
             "iteration": 81,
             "learn": [
              0.177755901
             ],
             "passed_time": 33.42912874,
             "remaining_time": 7.338101431,
             "test": [
              0.1887061198
             ]
            },
            {
             "iteration": 82,
             "learn": [
              0.1760009015
             ],
             "passed_time": 33.90869295,
             "remaining_time": 6.945153978,
             "test": [
              0.1868433048
             ]
            },
            {
             "iteration": 83,
             "learn": [
              0.1742013208
             ],
             "passed_time": 34.34388231,
             "remaining_time": 6.541691869,
             "test": [
              0.1847276605
             ]
            },
            {
             "iteration": 84,
             "learn": [
              0.1730182266
             ],
             "passed_time": 34.6424292,
             "remaining_time": 6.11336986,
             "test": [
              0.1835604681
             ]
            },
            {
             "iteration": 85,
             "learn": [
              0.1713458754
             ],
             "passed_time": 35.04400087,
             "remaining_time": 5.704837351,
             "test": [
              0.1818115932
             ]
            },
            {
             "iteration": 86,
             "learn": [
              0.1697782783
             ],
             "passed_time": 35.46251644,
             "remaining_time": 5.298996709,
             "test": [
              0.1801179871
             ]
            },
            {
             "iteration": 87,
             "learn": [
              0.1683289154
             ],
             "passed_time": 35.82582991,
             "remaining_time": 4.885340443,
             "test": [
              0.1786869484
             ]
            },
            {
             "iteration": 88,
             "learn": [
              0.1674044249
             ],
             "passed_time": 36.10632224,
             "remaining_time": 4.462579154,
             "test": [
              0.1778656665
             ]
            },
            {
             "iteration": 89,
             "learn": [
              0.1658073324
             ],
             "passed_time": 36.49853457,
             "remaining_time": 4.05539273,
             "test": [
              0.1761868018
             ]
            },
            {
             "iteration": 90,
             "learn": [
              0.1643717889
             ],
             "passed_time": 36.92514285,
             "remaining_time": 3.651937205,
             "test": [
              0.1748179204
             ]
            },
            {
             "iteration": 91,
             "learn": [
              0.163339543
             ],
             "passed_time": 37.21749531,
             "remaining_time": 3.23630394,
             "test": [
              0.1738424808
             ]
            },
            {
             "iteration": 92,
             "learn": [
              0.1619525867
             ],
             "passed_time": 37.59968599,
             "remaining_time": 2.830083892,
             "test": [
              0.1723038998
             ]
            },
            {
             "iteration": 93,
             "learn": [
              0.1603971527
             ],
             "passed_time": 38.050714,
             "remaining_time": 2.428768979,
             "test": [
              0.1705665472
             ]
            },
            {
             "iteration": 94,
             "learn": [
              0.1591563238
             ],
             "passed_time": 38.43777988,
             "remaining_time": 2.023041046,
             "test": [
              0.1692147919
             ]
            },
            {
             "iteration": 95,
             "learn": [
              0.1582005025
             ],
             "passed_time": 38.7399249,
             "remaining_time": 1.614163537,
             "test": [
              0.1683055863
             ]
            },
            {
             "iteration": 96,
             "learn": [
              0.1566149281
             ],
             "passed_time": 39.21879976,
             "remaining_time": 1.21295257,
             "test": [
              0.1667241708
             ]
            },
            {
             "iteration": 97,
             "learn": [
              0.1553117426
             ],
             "passed_time": 39.65039496,
             "remaining_time": 0.8091917338,
             "test": [
              0.165205499
             ]
            },
            {
             "iteration": 98,
             "learn": [
              0.1542877059
             ],
             "passed_time": 39.98563453,
             "remaining_time": 0.4038952983,
             "test": [
              0.1642019586
             ]
            },
            {
             "iteration": 99,
             "learn": [
              0.1531664499
             ],
             "passed_time": 40.38394345,
             "remaining_time": 0,
             "test": [
              0.1629390319
             ]
            }
           ],
           "meta": {
            "iteration_count": 100,
            "launch_mode": "Train",
            "learn_metrics": [
             {
              "best_value": "Min",
              "name": "CrossEntropy"
             }
            ],
            "learn_sets": [
             "learn"
            ],
            "name": "experiment",
            "parameters": "",
            "test_metrics": [
             {
              "best_value": "Min",
              "name": "CrossEntropy"
             }
            ],
            "test_sets": [
             "test"
            ]
           }
          },
          "passed_iterations": 99,
          "total_iterations": 100
         },
         "name": "catboost_info",
         "path": "catboost_info"
        }
       },
       "layout": "IPY_MODEL_c94a62bb835942868f0850d51ec6ad3a"
      }
     },
     "3c28ce493d5845c08d86d1f81e613fae": {
      "model_module": "catboost-widget",
      "model_module_version": "^1.0.0",
      "model_name": "CatboostWidgetModel",
      "state": {
       "_dom_classes": [],
       "_model_module": "catboost-widget",
       "_model_module_version": "^1.0.0",
       "_model_name": "CatboostWidgetModel",
       "_view_count": null,
       "_view_module": "catboost-widget",
       "_view_module_version": "^1.0.0",
       "_view_name": "CatboostWidgetView",
       "data": {
        "catboost_info": {
         "content": {
          "data": {
           "iterations": [
            {
             "iteration": 0,
             "learn": [
              0.6613800418
             ],
             "passed_time": 0.4210088815,
             "remaining_time": 41.67987927,
             "test": [
              0.6635988113
             ]
            },
            {
             "iteration": 1,
             "learn": [
              0.636295351
             ],
             "passed_time": 0.8103925673,
             "remaining_time": 39.7092358,
             "test": [
              0.6357710571
             ]
            },
            {
             "iteration": 2,
             "learn": [
              0.6093766008
             ],
             "passed_time": 1.239341373,
             "remaining_time": 40.07203772,
             "test": [
              0.6095185896
             ]
            },
            {
             "iteration": 3,
             "learn": [
              0.5837161912
             ],
             "passed_time": 1.56674389,
             "remaining_time": 37.60185337,
             "test": [
              0.5847101348
             ]
            },
            {
             "iteration": 4,
             "learn": [
              0.5621911914
             ],
             "passed_time": 1.993379763,
             "remaining_time": 37.8742155,
             "test": [
              0.5612345514
             ]
            },
            {
             "iteration": 5,
             "learn": [
              0.5376799587
             ],
             "passed_time": 2.388413967,
             "remaining_time": 37.41848548,
             "test": [
              0.5389895407
             ]
            },
            {
             "iteration": 6,
             "learn": [
              0.5168800976
             ],
             "passed_time": 2.825086019,
             "remaining_time": 37.53328568,
             "test": [
              0.5178840118
             ]
            },
            {
             "iteration": 7,
             "learn": [
              0.4986843566
             ],
             "passed_time": 3.219178386,
             "remaining_time": 37.02055144,
             "test": [
              0.4978359295
             ]
            },
            {
             "iteration": 8,
             "learn": [
              0.4785236543
             ],
             "passed_time": 3.616625841,
             "remaining_time": 36.56810572,
             "test": [
              0.478772162
             ]
            },
            {
             "iteration": 9,
             "learn": [
              0.4605777573
             ],
             "passed_time": 3.952081327,
             "remaining_time": 35.56873194,
             "test": [
              0.4606253867
             ]
            },
            {
             "iteration": 10,
             "learn": [
              0.4438324778
             ],
             "passed_time": 4.387503808,
             "remaining_time": 35.49889444,
             "test": [
              0.4433384678
             ]
            },
            {
             "iteration": 11,
             "learn": [
              0.4280504577
             ],
             "passed_time": 4.805332952,
             "remaining_time": 35.23910831,
             "test": [
              0.4268524235
             ]
            },
            {
             "iteration": 12,
             "learn": [
              0.4121107442
             ],
             "passed_time": 5.210322928,
             "remaining_time": 34.86908421,
             "test": [
              0.4111189514
             ]
            },
            {
             "iteration": 13,
             "learn": [
              0.3967750918
             ],
             "passed_time": 5.573578429,
             "remaining_time": 34.23769606,
             "test": [
              0.3960927444
             ]
            },
            {
             "iteration": 14,
             "learn": [
              0.3823923685
             ],
             "passed_time": 6.00416861,
             "remaining_time": 34.02362212,
             "test": [
              0.3817313306
             ]
            },
            {
             "iteration": 15,
             "learn": [
              0.3673314918
             ],
             "passed_time": 6.458185688,
             "remaining_time": 33.90547486,
             "test": [
              0.3679965629
             ]
            },
            {
             "iteration": 16,
             "learn": [
              0.3538738481
             ],
             "passed_time": 6.826163597,
             "remaining_time": 33.32773992,
             "test": [
              0.3548520027
             ]
            },
            {
             "iteration": 17,
             "learn": [
              0.3431655849
             ],
             "passed_time": 7.206485114,
             "remaining_time": 32.8295433,
             "test": [
              0.342264584
             ]
            },
            {
             "iteration": 18,
             "learn": [
              0.3300812088
             ],
             "passed_time": 7.537580218,
             "remaining_time": 32.13389461,
             "test": [
              0.3302039129
             ]
            },
            {
             "iteration": 19,
             "learn": [
              0.3196712404
             ],
             "passed_time": 7.991655241,
             "remaining_time": 31.96662096,
             "test": [
              0.3186428734
             ]
            },
            {
             "iteration": 20,
             "learn": [
              0.3069679781
             ],
             "passed_time": 8.372504227,
             "remaining_time": 31.49656352,
             "test": [
              0.3075533905
             ]
            },
            {
             "iteration": 21,
             "learn": [
              0.2968783119
             ],
             "passed_time": 8.809865694,
             "remaining_time": 31.23497837,
             "test": [
              0.2969128392
             ]
            },
            {
             "iteration": 22,
             "learn": [
              0.2867617293
             ],
             "passed_time": 9.231672039,
             "remaining_time": 30.90603248,
             "test": [
              0.2866972217
             ]
            },
            {
             "iteration": 23,
             "learn": [
              0.2764911398
             ],
             "passed_time": 9.635999477,
             "remaining_time": 30.51399834,
             "test": [
              0.2768858865
             ]
            },
            {
             "iteration": 24,
             "learn": [
              0.2664392196
             ],
             "passed_time": 10.00544477,
             "remaining_time": 30.01633431,
             "test": [
              0.2674589243
             ]
            },
            {
             "iteration": 25,
             "learn": [
              0.2579753657
             ],
             "passed_time": 10.41261679,
             "remaining_time": 29.63590932,
             "test": [
              0.258397824
             ]
            },
            {
             "iteration": 26,
             "learn": [
              0.2499590755
             ],
             "passed_time": 10.80030547,
             "remaining_time": 29.20082589,
             "test": [
              0.2496850775
             ]
            },
            {
             "iteration": 27,
             "learn": [
              0.2419680719
             ],
             "passed_time": 11.3278973,
             "remaining_time": 29.12887877,
             "test": [
              0.2413037265
             ]
            },
            {
             "iteration": 28,
             "learn": [
              0.2336729644
             ],
             "passed_time": 11.91405533,
             "remaining_time": 29.1688941,
             "test": [
              0.2332395365
             ]
            },
            {
             "iteration": 29,
             "learn": [
              0.2258401274
             ],
             "passed_time": 12.4249771,
             "remaining_time": 28.99161323,
             "test": [
              0.2254770959
             ]
            },
            {
             "iteration": 30,
             "learn": [
              0.2185188426
             ],
             "passed_time": 12.87414706,
             "remaining_time": 28.65535959,
             "test": [
              0.2180035487
             ]
            },
            {
             "iteration": 31,
             "learn": [
              0.2109255357
             ],
             "passed_time": 13.24676843,
             "remaining_time": 28.14938292,
             "test": [
              0.2108056915
             ]
            },
            {
             "iteration": 32,
             "learn": [
              0.2033441197
             ],
             "passed_time": 13.72676427,
             "remaining_time": 27.86949109,
             "test": [
              0.2038710085
             ]
            },
            {
             "iteration": 33,
             "learn": [
              0.1964178902
             ],
             "passed_time": 14.15865447,
             "remaining_time": 27.48444691,
             "test": [
              0.1971886622
             ]
            },
            {
             "iteration": 34,
             "learn": [
              0.1911644876
             ],
             "passed_time": 14.59541997,
             "remaining_time": 27.10577995,
             "test": [
              0.1907475482
             ]
            },
            {
             "iteration": 35,
             "learn": [
              0.1838941575
             ],
             "passed_time": 14.95106169,
             "remaining_time": 26.57966523,
             "test": [
              0.1845376625
             ]
            },
            {
             "iteration": 36,
             "learn": [
              0.1787504118
             ],
             "passed_time": 15.33741926,
             "remaining_time": 26.11506523,
             "test": [
              0.1785491578
             ]
            },
            {
             "iteration": 37,
             "learn": [
              0.1721808933
             ],
             "passed_time": 15.70816207,
             "remaining_time": 25.62910654,
             "test": [
              0.1727727194
             ]
            },
            {
             "iteration": 38,
             "learn": [
              0.1676609655
             ],
             "passed_time": 16.1253474,
             "remaining_time": 25.22169721,
             "test": [
              0.1672009184
             ]
            },
            {
             "iteration": 39,
             "learn": [
              0.1614159517
             ],
             "passed_time": 16.51255088,
             "remaining_time": 24.76882632,
             "test": [
              0.1618237681
             ]
            },
            {
             "iteration": 40,
             "learn": [
              0.1563209689
             ],
             "passed_time": 16.94642485,
             "remaining_time": 24.38631869,
             "test": [
              0.1566334342
             ]
            },
            {
             "iteration": 41,
             "learn": [
              0.1520100374
             ],
             "passed_time": 17.35551199,
             "remaining_time": 23.96713561,
             "test": [
              0.1516226437
             ]
            },
            {
             "iteration": 42,
             "learn": [
              0.1469954095
             ],
             "passed_time": 17.78180676,
             "remaining_time": 23.57123222,
             "test": [
              0.1467852767
             ]
            },
            {
             "iteration": 43,
             "learn": [
              0.1418599602
             ],
             "passed_time": 18.19076102,
             "remaining_time": 23.15187766,
             "test": [
              0.1421134259
             ]
            },
            {
             "iteration": 44,
             "learn": [
              0.1370958794
             ],
             "passed_time": 18.61894595,
             "remaining_time": 22.7564895,
             "test": [
              0.1376013207
             ]
            },
            {
             "iteration": 45,
             "learn": [
              0.1328997532
             ],
             "passed_time": 19.06424319,
             "remaining_time": 22.37976374,
             "test": [
              0.1332422437
             ]
            },
            {
             "iteration": 46,
             "learn": [
              0.1289105335
             ],
             "passed_time": 19.41692515,
             "remaining_time": 21.89568155,
             "test": [
              0.1290306247
             ]
            },
            {
             "iteration": 47,
             "learn": [
              0.124983341
             ],
             "passed_time": 19.93976757,
             "remaining_time": 21.60141487,
             "test": [
              0.1249623647
             ]
            },
            {
             "iteration": 48,
             "learn": [
              0.1210746733
             ],
             "passed_time": 20.36199912,
             "remaining_time": 21.19310113,
             "test": [
              0.121029802
             ]
            },
            {
             "iteration": 49,
             "learn": [
              0.1171865872
             ],
             "passed_time": 20.70219284,
             "remaining_time": 20.70219284,
             "test": [
              0.1172282715
             ]
            },
            {
             "iteration": 50,
             "learn": [
              0.1133108947
             ],
             "passed_time": 21.10404943,
             "remaining_time": 20.27643964,
             "test": [
              0.113553797
             ]
            },
            {
             "iteration": 51,
             "learn": [
              0.1097473543
             ],
             "passed_time": 21.445002,
             "remaining_time": 19.79538646,
             "test": [
              0.1100004818
             ]
            },
            {
             "iteration": 52,
             "learn": [
              0.1069164687
             ],
             "passed_time": 21.77627038,
             "remaining_time": 19.31103222,
             "test": [
              0.1065645551
             ]
            },
            {
             "iteration": 53,
             "learn": [
              0.1033976744
             ],
             "passed_time": 22.11217487,
             "remaining_time": 18.83629711,
             "test": [
              0.1032427027
             ]
            },
            {
             "iteration": 54,
             "learn": [
              0.09972350319
             ],
             "passed_time": 22.5639715,
             "remaining_time": 18.46143122,
             "test": [
              0.1000296869
             ]
            },
            {
             "iteration": 55,
             "learn": [
              0.09713065764
             ],
             "passed_time": 22.96852189,
             "remaining_time": 18.04669577,
             "test": [
              0.09692137146
             ]
            },
            {
             "iteration": 56,
             "learn": [
              0.093758627
             ],
             "passed_time": 23.38247227,
             "remaining_time": 17.63940891,
             "test": [
              0.09391399019
             ]
            },
            {
             "iteration": 57,
             "learn": [
              0.09121593096
             ],
             "passed_time": 23.85872299,
             "remaining_time": 17.2770063,
             "test": [
              0.0910049858
             ]
            },
            {
             "iteration": 58,
             "learn": [
              0.08793395453
             ],
             "passed_time": 24.28039322,
             "remaining_time": 16.87281563,
             "test": [
              0.08818975127
             ]
            },
            {
             "iteration": 59,
             "learn": [
              0.08546465425
             ],
             "passed_time": 24.69917174,
             "remaining_time": 16.4661145,
             "test": [
              0.08546588759
             ]
            },
            {
             "iteration": 60,
             "learn": [
              0.08256733856
             ],
             "passed_time": 25.11804572,
             "remaining_time": 16.05907841,
             "test": [
              0.08282948548
             ]
            },
            {
             "iteration": 61,
             "learn": [
              0.0800938096
             ],
             "passed_time": 25.52658884,
             "remaining_time": 15.64532865,
             "test": [
              0.08027788099
             ]
            },
            {
             "iteration": 62,
             "learn": [
              0.07796334946
             ],
             "passed_time": 25.92115797,
             "remaining_time": 15.22353722,
             "test": [
              0.07780813451
             ]
            },
            {
             "iteration": 63,
             "learn": [
              0.07548058606
             ],
             "passed_time": 26.31882858,
             "remaining_time": 14.80434108,
             "test": [
              0.07541816443
             ]
            },
            {
             "iteration": 64,
             "learn": [
              0.0729462094
             ],
             "passed_time": 26.76537011,
             "remaining_time": 14.41212237,
             "test": [
              0.07310447284
             ]
            },
            {
             "iteration": 65,
             "learn": [
              0.07052624373
             ],
             "passed_time": 27.1897665,
             "remaining_time": 14.00684941,
             "test": [
              0.07086343864
             ]
            },
            {
             "iteration": 66,
             "learn": [
              0.068436628
             ],
             "passed_time": 27.62246477,
             "remaining_time": 13.60509459,
             "test": [
              0.06869390835
             ]
            },
            {
             "iteration": 67,
             "learn": [
              0.06642347686
             ],
             "passed_time": 27.97153667,
             "remaining_time": 13.16307608,
             "test": [
              0.06659289829
             ]
            },
            {
             "iteration": 68,
             "learn": [
              0.0644581161
             ],
             "passed_time": 28.37629829,
             "remaining_time": 12.74877169,
             "test": [
              0.06455834171
             ]
            },
            {
             "iteration": 69,
             "learn": [
              0.06250422404
             ],
             "passed_time": 28.72428555,
             "remaining_time": 12.31040809,
             "test": [
              0.06258788836
             ]
            },
            {
             "iteration": 70,
             "learn": [
              0.06055496479
             ],
             "passed_time": 29.06891308,
             "remaining_time": 11.87321802,
             "test": [
              0.0606794611
             ]
            },
            {
             "iteration": 71,
             "learn": [
              0.05864519464
             ],
             "passed_time": 29.44149966,
             "remaining_time": 11.44947209,
             "test": [
              0.05883111063
             ]
            },
            {
             "iteration": 72,
             "learn": [
              0.0568323195
             ],
             "passed_time": 29.83267076,
             "remaining_time": 11.03400151,
             "test": [
              0.05704078757
             ]
            },
            {
             "iteration": 73,
             "learn": [
              0.05542290417
             ],
             "passed_time": 30.27078465,
             "remaining_time": 10.63568109,
             "test": [
              0.05530652304
             ]
            },
            {
             "iteration": 74,
             "learn": [
              0.05366348968
             ],
             "passed_time": 30.71560913,
             "remaining_time": 10.23853638,
             "test": [
              0.05362671565
             ]
            },
            {
             "iteration": 75,
             "learn": [
              0.05181641789
             ],
             "passed_time": 31.12613571,
             "remaining_time": 9.829306015,
             "test": [
              0.05199962459
             ]
            },
            {
             "iteration": 76,
             "learn": [
              0.05052220872
             ],
             "passed_time": 31.62135691,
             "remaining_time": 9.445340376,
             "test": [
              0.05042273259
             ]
            },
            {
             "iteration": 77,
             "learn": [
              0.04883174033
             ],
             "passed_time": 32.01817622,
             "remaining_time": 9.030767652,
             "test": [
              0.04889527648
             ]
            },
            {
             "iteration": 78,
             "learn": [
              0.04719496013
             ],
             "passed_time": 32.39885777,
             "remaining_time": 8.612354597,
             "test": [
              0.04741485428
             ]
            },
            {
             "iteration": 79,
             "learn": [
              0.04590319881
             ],
             "passed_time": 32.78662201,
             "remaining_time": 8.196655502,
             "test": [
              0.04598049307
             ]
            },
            {
             "iteration": 80,
             "learn": [
              0.04463974124
             ],
             "passed_time": 33.14244106,
             "remaining_time": 7.774152841,
             "test": [
              0.0445903614
             ]
            },
            {
             "iteration": 81,
             "learn": [
              0.04305389253
             ],
             "passed_time": 33.49847841,
             "remaining_time": 7.353324528,
             "test": [
              0.04324334958
             ]
            },
            {
             "iteration": 82,
             "learn": [
              0.04194429632
             ],
             "passed_time": 33.85844812,
             "remaining_time": 6.934862868,
             "test": [
              0.04193804134
             ]
            },
            {
             "iteration": 83,
             "learn": [
              0.04070446041
             ],
             "passed_time": 34.21478595,
             "remaining_time": 6.517102086,
             "test": [
              0.0406728215
             ]
            },
            {
             "iteration": 84,
             "learn": [
              0.03933685549
             ],
             "passed_time": 34.60304085,
             "remaining_time": 6.106418974,
             "test": [
              0.0394462474
             ]
            },
            {
             "iteration": 85,
             "learn": [
              0.03811641583
             ],
             "passed_time": 35.11543557,
             "remaining_time": 5.716466256,
             "test": [
              0.03825782028
             ]
            },
            {
             "iteration": 86,
             "learn": [
              0.03709717214
             ],
             "passed_time": 35.44800656,
             "remaining_time": 5.296828567,
             "test": [
              0.03710613278
             ]
            },
            {
             "iteration": 87,
             "learn": [
              0.03604604905
             ],
             "passed_time": 35.8756674,
             "remaining_time": 4.892136464,
             "test": [
              0.03598965287
             ]
            },
            {
             "iteration": 88,
             "learn": [
              0.03485695817
             ],
             "passed_time": 36.27214317,
             "remaining_time": 4.483073875,
             "test": [
              0.03490757067
             ]
            },
            {
             "iteration": 89,
             "learn": [
              0.0338137076
             ],
             "passed_time": 36.72105325,
             "remaining_time": 4.080117028,
             "test": [
              0.03385847602
             ]
            },
            {
             "iteration": 90,
             "learn": [
              0.03280853731
             ],
             "passed_time": 37.0982437,
             "remaining_time": 3.66905707,
             "test": [
              0.03284120722
             ]
            },
            {
             "iteration": 91,
             "learn": [
              0.03181829392
             ],
             "passed_time": 37.52584994,
             "remaining_time": 3.263117386,
             "test": [
              0.03185572495
             ]
            },
            {
             "iteration": 92,
             "learn": [
              0.03084131817
             ],
             "passed_time": 37.93579504,
             "remaining_time": 2.855382422,
             "test": [
              0.03089974426
             ]
            },
            {
             "iteration": 93,
             "learn": [
              0.02989347749
             ],
             "passed_time": 38.38655724,
             "remaining_time": 2.450205781,
             "test": [
              0.02997276563
             ]
            },
            {
             "iteration": 94,
             "learn": [
              0.02895978006
             ],
             "passed_time": 38.83894724,
             "remaining_time": 2.044155118,
             "test": [
              0.02907456176
             ]
            },
            {
             "iteration": 95,
             "learn": [
              0.02822539992
             ],
             "passed_time": 39.28013577,
             "remaining_time": 1.636672324,
             "test": [
              0.02820340277
             ]
            },
            {
             "iteration": 96,
             "learn": [
              0.02734185195
             ],
             "passed_time": 39.69902071,
             "remaining_time": 1.227804764,
             "test": [
              0.02735903466
             ]
            },
            {
             "iteration": 97,
             "learn": [
              0.02641742016
             ],
             "passed_time": 40.11800499,
             "remaining_time": 0.8187347957,
             "test": [
              0.02654011488
             ]
            },
            {
             "iteration": 98,
             "learn": [
              0.02576449443
             ],
             "passed_time": 40.48069169,
             "remaining_time": 0.4088958756,
             "test": [
              0.02574555497
             ]
            },
            {
             "iteration": 99,
             "learn": [
              0.02490999567
             ],
             "passed_time": 40.84648049,
             "remaining_time": 0,
             "test": [
              0.0249756083
             ]
            }
           ],
           "meta": {
            "iteration_count": 100,
            "launch_mode": "Train",
            "learn_metrics": [
             {
              "best_value": "Min",
              "name": "CrossEntropy"
             }
            ],
            "learn_sets": [
             "learn"
            ],
            "name": "experiment",
            "parameters": "",
            "test_metrics": [
             {
              "best_value": "Min",
              "name": "CrossEntropy"
             }
            ],
            "test_sets": [
             "test"
            ]
           }
          },
          "passed_iterations": 99,
          "total_iterations": 100
         },
         "name": "catboost_info",
         "path": "catboost_info"
        }
       },
       "layout": "IPY_MODEL_16b33afbf3cf4068b1e20470f45cea71"
      }
     },
     "486654cb96f943a8acd93174aad44097": {
      "model_module": "catboost-widget",
      "model_module_version": "^1.0.0",
      "model_name": "CatboostWidgetModel",
      "state": {
       "_dom_classes": [],
       "_model_module": "catboost-widget",
       "_model_module_version": "^1.0.0",
       "_model_name": "CatboostWidgetModel",
       "_view_count": null,
       "_view_module": "catboost-widget",
       "_view_module_version": "^1.0.0",
       "_view_name": "CatboostWidgetView",
       "data": {
        "catboost_info": {
         "content": {
          "data": {
           "iterations": [
            {
             "iteration": 0,
             "learn": [
              0.6636069783
             ],
             "passed_time": 0.4540947286,
             "remaining_time": 44.95537813,
             "test": [
              0.6655073149
             ]
            },
            {
             "iteration": 1,
             "learn": [
              0.6403719614
             ],
             "passed_time": 0.8848870309,
             "remaining_time": 43.35946451,
             "test": [
              0.6393795418
             ]
            },
            {
             "iteration": 2,
             "learn": [
              0.6149632764
             ],
             "passed_time": 1.319357587,
             "remaining_time": 42.65922864,
             "test": [
              0.614684044
             ]
            },
            {
             "iteration": 3,
             "learn": [
              0.5908908952
             ],
             "passed_time": 1.756398651,
             "remaining_time": 42.15356763,
             "test": [
              0.5914157052
             ]
            },
            {
             "iteration": 4,
             "learn": [
              0.5709040735
             ],
             "passed_time": 2.185667537,
             "remaining_time": 41.5276832,
             "test": [
              0.5693764879
             ]
            },
            {
             "iteration": 5,
             "learn": [
              0.5489493994
             ],
             "passed_time": 2.618075386,
             "remaining_time": 41.01651439,
             "test": [
              0.5486679837
             ]
            },
            {
             "iteration": 6,
             "learn": [
              0.5292504047
             ],
             "passed_time": 3.052762276,
             "remaining_time": 40.55812739,
             "test": [
              0.5291293228
             ]
            },
            {
             "iteration": 7,
             "learn": [
              0.5121317157
             ],
             "passed_time": 3.486773396,
             "remaining_time": 40.09789405,
             "test": [
              0.5104372557
             ]
            },
            {
             "iteration": 8,
             "learn": [
              0.493911532
             ],
             "passed_time": 3.895005247,
             "remaining_time": 39.38283083,
             "test": [
              0.4928703356
             ]
            },
            {
             "iteration": 9,
             "learn": [
              0.4766519004
             ],
             "passed_time": 4.338489397,
             "remaining_time": 39.04640457,
             "test": [
              0.4757690134
             ]
            },
            {
             "iteration": 10,
             "learn": [
              0.4608845117
             ],
             "passed_time": 4.774696907,
             "remaining_time": 38.63163861,
             "test": [
              0.4595175597
             ]
            },
            {
             "iteration": 11,
             "learn": [
              0.4459325589
             ],
             "passed_time": 5.210659916,
             "remaining_time": 38.21150605,
             "test": [
              0.4440892903
             ]
            },
            {
             "iteration": 12,
             "learn": [
              0.4313133745
             ],
             "passed_time": 5.646379348,
             "remaining_time": 37.78730794,
             "test": [
              0.4295205044
             ]
            },
            {
             "iteration": 13,
             "learn": [
              0.4173000387
             ],
             "passed_time": 6.087093144,
             "remaining_time": 37.3921436,
             "test": [
              0.4154664093
             ]
            },
            {
             "iteration": 14,
             "learn": [
              0.4032086417
             ],
             "passed_time": 6.519460791,
             "remaining_time": 36.94361115,
             "test": [
              0.4021155696
             ]
            },
            {
             "iteration": 15,
             "learn": [
              0.3902792754
             ],
             "passed_time": 6.945521588,
             "remaining_time": 36.46398834,
             "test": [
              0.3891198129
             ]
            },
            {
             "iteration": 16,
             "learn": [
              0.3777980576
             ],
             "passed_time": 7.385949042,
             "remaining_time": 36.06081003,
             "test": [
              0.3768156148
             ]
            },
            {
             "iteration": 17,
             "learn": [
              0.3662112377
             ],
             "passed_time": 7.830677033,
             "remaining_time": 35.67308426,
             "test": [
              0.364919406
             ]
            },
            {
             "iteration": 18,
             "learn": [
              0.3548114658
             ],
             "passed_time": 8.27158423,
             "remaining_time": 35.26306961,
             "test": [
              0.3536448525
             ]
            },
            {
             "iteration": 19,
             "learn": [
              0.3440265583
             ],
             "passed_time": 8.717690518,
             "remaining_time": 34.87076207,
             "test": [
              0.3428404339
             ]
            },
            {
             "iteration": 20,
             "learn": [
              0.3334140972
             ],
             "passed_time": 9.156961004,
             "remaining_time": 34.44761521,
             "test": [
              0.3325014623
             ]
            },
            {
             "iteration": 21,
             "learn": [
              0.32326505
             ],
             "passed_time": 9.617213222,
             "remaining_time": 34.09739233,
             "test": [
              0.3220525494
             ]
            },
            {
             "iteration": 22,
             "learn": [
              0.3137609972
             ],
             "passed_time": 10.05721965,
             "remaining_time": 33.6698223,
             "test": [
              0.3124091849
             ]
            },
            {
             "iteration": 23,
             "learn": [
              0.3037426155
             ],
             "passed_time": 10.55968523,
             "remaining_time": 33.43900322,
             "test": [
              0.3027771177
             ]
            },
            {
             "iteration": 24,
             "learn": [
              0.2948320176
             ],
             "passed_time": 11.01337089,
             "remaining_time": 33.04011267,
             "test": [
              0.2939467361
             ]
            },
            {
             "iteration": 25,
             "learn": [
              0.2860097852
             ],
             "passed_time": 11.47515438,
             "remaining_time": 32.66005477,
             "test": [
              0.2849644195
             ]
            },
            {
             "iteration": 26,
             "learn": [
              0.277398711
             ],
             "passed_time": 11.91454428,
             "remaining_time": 32.2133975,
             "test": [
              0.2764415876
             ]
            },
            {
             "iteration": 27,
             "learn": [
              0.2695408816
             ],
             "passed_time": 12.33651508,
             "remaining_time": 31.72246734,
             "test": [
              0.2686052416
             ]
            },
            {
             "iteration": 28,
             "learn": [
              0.2616299948
             ],
             "passed_time": 12.79257647,
             "remaining_time": 31.31975617,
             "test": [
              0.2606218034
             ]
            },
            {
             "iteration": 29,
             "learn": [
              0.2542204388
             ],
             "passed_time": 13.24355076,
             "remaining_time": 30.90161843,
             "test": [
              0.2533551809
             ]
            },
            {
             "iteration": 30,
             "learn": [
              0.2468499365
             ],
             "passed_time": 13.7078047,
             "remaining_time": 30.51092013,
             "test": [
              0.245959552
             ]
            },
            {
             "iteration": 31,
             "learn": [
              0.2399913777
             ],
             "passed_time": 14.11698296,
             "remaining_time": 29.99858879,
             "test": [
              0.2391918872
             ]
            },
            {
             "iteration": 32,
             "learn": [
              0.2329923328
             ],
             "passed_time": 14.58397538,
             "remaining_time": 29.60988941,
             "test": [
              0.2323106792
             ]
            },
            {
             "iteration": 33,
             "learn": [
              0.2262319998
             ],
             "passed_time": 15.03333896,
             "remaining_time": 29.18236386,
             "test": [
              0.2256989744
             ]
            },
            {
             "iteration": 34,
             "learn": [
              0.2199172493
             ],
             "passed_time": 15.49212295,
             "remaining_time": 28.77108547,
             "test": [
              0.2193145302
             ]
            },
            {
             "iteration": 35,
             "learn": [
              0.2142353628
             ],
             "passed_time": 15.91698493,
             "remaining_time": 28.29686209,
             "test": [
              0.2135400777
             ]
            },
            {
             "iteration": 36,
             "learn": [
              0.2086253505
             ],
             "passed_time": 16.3302328,
             "remaining_time": 27.80553153,
             "test": [
              0.2081123888
             ]
            },
            {
             "iteration": 37,
             "learn": [
              0.2029574773
             ],
             "passed_time": 16.76061394,
             "remaining_time": 27.34626485,
             "test": [
              0.2027749764
             ]
            },
            {
             "iteration": 38,
             "learn": [
              0.1979677606
             ],
             "passed_time": 17.18130654,
             "remaining_time": 26.87332561,
             "test": [
              0.197809839
             ]
            },
            {
             "iteration": 39,
             "learn": [
              0.1924394666
             ],
             "passed_time": 17.62530507,
             "remaining_time": 26.43795761,
             "test": [
              0.1923917059
             ]
            },
            {
             "iteration": 40,
             "learn": [
              0.1874235666
             ],
             "passed_time": 18.05154068,
             "remaining_time": 25.97660731,
             "test": [
              0.187598335
             ]
            },
            {
             "iteration": 41,
             "learn": [
              0.1827154764
             ],
             "passed_time": 18.47685798,
             "remaining_time": 25.51566102,
             "test": [
              0.1829449361
             ]
            },
            {
             "iteration": 42,
             "learn": [
              0.1779115229
             ],
             "passed_time": 18.92971682,
             "remaining_time": 25.09288043,
             "test": [
              0.1783225469
             ]
            },
            {
             "iteration": 43,
             "learn": [
              0.1733977222
             ],
             "passed_time": 19.3546993,
             "remaining_time": 24.63325365,
             "test": [
              0.1738958838
             ]
            },
            {
             "iteration": 44,
             "learn": [
              0.1691539692
             ],
             "passed_time": 19.77397079,
             "remaining_time": 24.16818652,
             "test": [
              0.1697422437
             ]
            },
            {
             "iteration": 45,
             "learn": [
              0.1644327363
             ],
             "passed_time": 20.2451714,
             "remaining_time": 23.76607077,
             "test": [
              0.1651553439
             ]
            },
            {
             "iteration": 46,
             "learn": [
              0.1600894204
             ],
             "passed_time": 20.69072965,
             "remaining_time": 23.33209939,
             "test": [
              0.1609559456
             ]
            },
            {
             "iteration": 47,
             "learn": [
              0.1561221649
             ],
             "passed_time": 21.14542411,
             "remaining_time": 22.90754279,
             "test": [
              0.1571324418
             ]
            },
            {
             "iteration": 48,
             "learn": [
              0.1521025651
             ],
             "passed_time": 21.65828401,
             "remaining_time": 22.54229561,
             "test": [
              0.1531495967
             ]
            },
            {
             "iteration": 49,
             "learn": [
              0.1479604025
             ],
             "passed_time": 22.13130851,
             "remaining_time": 22.13130851,
             "test": [
              0.1491481566
             ]
            },
            {
             "iteration": 50,
             "learn": [
              0.1440555128
             ],
             "passed_time": 22.57795094,
             "remaining_time": 21.6925411,
             "test": [
              0.1453671495
             ]
            },
            {
             "iteration": 51,
             "learn": [
              0.1402084282
             ],
             "passed_time": 23.04919444,
             "remaining_time": 21.27617948,
             "test": [
              0.1417489338
             ]
            },
            {
             "iteration": 52,
             "learn": [
              0.1368246852
             ],
             "passed_time": 23.50906176,
             "remaining_time": 20.84765854,
             "test": [
              0.1384606883
             ]
            },
            {
             "iteration": 53,
             "learn": [
              0.1332866003
             ],
             "passed_time": 23.98530237,
             "remaining_time": 20.43192424,
             "test": [
              0.1349984154
             ]
            },
            {
             "iteration": 54,
             "learn": [
              0.1301419702
             ],
             "passed_time": 24.42466691,
             "remaining_time": 19.98381838,
             "test": [
              0.1318914531
             ]
            },
            {
             "iteration": 55,
             "learn": [
              0.1267493592
             ],
             "passed_time": 24.89517911,
             "remaining_time": 19.56049787,
             "test": [
              0.1286505806
             ]
            },
            {
             "iteration": 56,
             "learn": [
              0.1234249246
             ],
             "passed_time": 25.36509818,
             "remaining_time": 19.13507407,
             "test": [
              0.1255141767
             ]
            },
            {
             "iteration": 57,
             "learn": [
              0.1203128854
             ],
             "passed_time": 25.81415735,
             "remaining_time": 18.69301049,
             "test": [
              0.1224908008
             ]
            },
            {
             "iteration": 58,
             "learn": [
              0.117426739
             ],
             "passed_time": 26.26609181,
             "remaining_time": 18.25270787,
             "test": [
              0.119499355
             ]
            },
            {
             "iteration": 59,
             "learn": [
              0.1144371066
             ],
             "passed_time": 26.74455937,
             "remaining_time": 17.82970625,
             "test": [
              0.1166176113
             ]
            },
            {
             "iteration": 60,
             "learn": [
              0.1118260843
             ],
             "passed_time": 27.23084045,
             "remaining_time": 17.4098816,
             "test": [
              0.1140777612
             ]
            },
            {
             "iteration": 61,
             "learn": [
              0.1093151967
             ],
             "passed_time": 27.88350579,
             "remaining_time": 17.08989064,
             "test": [
              0.1115473199
             ]
            },
            {
             "iteration": 62,
             "learn": [
              0.1069230392
             ],
             "passed_time": 28.50949615,
             "remaining_time": 16.74367234,
             "test": [
              0.1091961399
             ]
            },
            {
             "iteration": 63,
             "learn": [
              0.104281419
             ],
             "passed_time": 28.98508466,
             "remaining_time": 16.30411012,
             "test": [
              0.1066862534
             ]
            },
            {
             "iteration": 64,
             "learn": [
              0.1019703163
             ],
             "passed_time": 29.4220109,
             "remaining_time": 15.84262125,
             "test": [
              0.1044059546
             ]
            },
            {
             "iteration": 65,
             "learn": [
              0.09976374285
             ],
             "passed_time": 29.86658862,
             "remaining_time": 15.38581838,
             "test": [
              0.1022464851
             ]
            },
            {
             "iteration": 66,
             "learn": [
              0.09734378522
             ],
             "passed_time": 30.33760368,
             "remaining_time": 14.94240181,
             "test": [
              0.09993376819
             ]
            },
            {
             "iteration": 67,
             "learn": [
              0.09506874791
             ],
             "passed_time": 30.77772898,
             "remaining_time": 14.48363717,
             "test": [
              0.09764863813
             ]
            },
            {
             "iteration": 68,
             "learn": [
              0.09284619131
             ],
             "passed_time": 31.25775687,
             "remaining_time": 14.04334004,
             "test": [
              0.09555174358
             ]
            },
            {
             "iteration": 69,
             "learn": [
              0.09076594292
             ],
             "passed_time": 31.70562998,
             "remaining_time": 13.58812713,
             "test": [
              0.09344376444
             ]
            },
            {
             "iteration": 70,
             "learn": [
              0.0887494583
             ],
             "passed_time": 32.1360549,
             "remaining_time": 13.12599425,
             "test": [
              0.09134818562
             ]
            },
            {
             "iteration": 71,
             "learn": [
              0.08696147385
             ],
             "passed_time": 32.63593055,
             "remaining_time": 12.69175077,
             "test": [
              0.08962927598
             ]
            },
            {
             "iteration": 72,
             "learn": [
              0.08499554945
             ],
             "passed_time": 33.12614686,
             "remaining_time": 12.25213651,
             "test": [
              0.08762586509
             ]
            },
            {
             "iteration": 73,
             "learn": [
              0.08318865743
             ],
             "passed_time": 33.55741039,
             "remaining_time": 11.79044149,
             "test": [
              0.08583856108
             ]
            },
            {
             "iteration": 74,
             "learn": [
              0.08127295977
             ],
             "passed_time": 34.02928925,
             "remaining_time": 11.34309642,
             "test": [
              0.08403240797
             ]
            },
            {
             "iteration": 75,
             "learn": [
              0.07961939616
             ],
             "passed_time": 34.46376544,
             "remaining_time": 10.88329435,
             "test": [
              0.08236090023
             ]
            },
            {
             "iteration": 76,
             "learn": [
              0.07796263888
             ],
             "passed_time": 34.92038803,
             "remaining_time": 10.43076525,
             "test": [
              0.08068941858
             ]
            },
            {
             "iteration": 77,
             "learn": [
              0.07619995258
             ],
             "passed_time": 35.39560103,
             "remaining_time": 9.98337465,
             "test": [
              0.07902964461
             ]
            },
            {
             "iteration": 78,
             "learn": [
              0.07465006897
             ],
             "passed_time": 35.85406696,
             "remaining_time": 9.530827926,
             "test": [
              0.07747534118
             ]
            },
            {
             "iteration": 79,
             "learn": [
              0.07311378813
             ],
             "passed_time": 36.27958523,
             "remaining_time": 9.069896308,
             "test": [
              0.07593026521
             ]
            },
            {
             "iteration": 80,
             "learn": [
              0.07168752784
             ],
             "passed_time": 36.7424596,
             "remaining_time": 8.618601634,
             "test": [
              0.07454641394
             ]
            },
            {
             "iteration": 81,
             "learn": [
              0.0702451447
             ],
             "passed_time": 37.16636102,
             "remaining_time": 8.158469491,
             "test": [
              0.07310065637
             ]
            },
            {
             "iteration": 82,
             "learn": [
              0.06877460399
             ],
             "passed_time": 37.65153163,
             "remaining_time": 7.71175949,
             "test": [
              0.07163745449
             ]
            },
            {
             "iteration": 83,
             "learn": [
              0.06737863039
             ],
             "passed_time": 38.0964428,
             "remaining_time": 7.256465294,
             "test": [
              0.07023455325
             ]
            },
            {
             "iteration": 84,
             "learn": [
              0.06596275291
             ],
             "passed_time": 38.51977286,
             "remaining_time": 6.797606976,
             "test": [
              0.06873900674
             ]
            },
            {
             "iteration": 85,
             "learn": [
              0.06463527695
             ],
             "passed_time": 38.96796378,
             "remaining_time": 6.343622011,
             "test": [
              0.06741143239
             ]
            },
            {
             "iteration": 86,
             "learn": [
              0.06324488002
             ],
             "passed_time": 39.44395821,
             "remaining_time": 5.89392479,
             "test": [
              0.06608560494
             ]
            },
            {
             "iteration": 87,
             "learn": [
              0.06202732605
             ],
             "passed_time": 39.87384036,
             "remaining_time": 5.437341868,
             "test": [
              0.06488178547
             ]
            },
            {
             "iteration": 88,
             "learn": [
              0.06077528547
             ],
             "passed_time": 40.30542915,
             "remaining_time": 4.981569895,
             "test": [
              0.06365089418
             ]
            },
            {
             "iteration": 89,
             "learn": [
              0.05957373528
             ],
             "passed_time": 40.74592143,
             "remaining_time": 4.527324604,
             "test": [
              0.06246810498
             ]
            },
            {
             "iteration": 90,
             "learn": [
              0.05837997546
             ],
             "passed_time": 41.17826916,
             "remaining_time": 4.072576071,
             "test": [
              0.06130844615
             ]
            },
            {
             "iteration": 91,
             "learn": [
              0.05723954077
             ],
             "passed_time": 41.61827213,
             "remaining_time": 3.618980185,
             "test": [
              0.06019544843
             ]
            },
            {
             "iteration": 92,
             "learn": [
              0.05611850399
             ],
             "passed_time": 42.04425588,
             "remaining_time": 3.164621411,
             "test": [
              0.05909593307
             ]
            },
            {
             "iteration": 93,
             "learn": [
              0.0550542464
             ],
             "passed_time": 42.47231704,
             "remaining_time": 2.71099896,
             "test": [
              0.05802299755
             ]
            },
            {
             "iteration": 94,
             "learn": [
              0.05410557126
             ],
             "passed_time": 42.88753713,
             "remaining_time": 2.257238796,
             "test": [
              0.05704258416
             ]
            },
            {
             "iteration": 95,
             "learn": [
              0.0531040556
             ],
             "passed_time": 43.36210933,
             "remaining_time": 1.806754556,
             "test": [
              0.05603917367
             ]
            },
            {
             "iteration": 96,
             "learn": [
              0.05208013153
             ],
             "passed_time": 43.81604975,
             "remaining_time": 1.355135559,
             "test": [
              0.0550754137
             ]
            },
            {
             "iteration": 97,
             "learn": [
              0.05111833987
             ],
             "passed_time": 44.26410428,
             "remaining_time": 0.903349067,
             "test": [
              0.05411161788
             ]
            },
            {
             "iteration": 98,
             "learn": [
              0.05017099705
             ],
             "passed_time": 44.69506718,
             "remaining_time": 0.4514653251,
             "test": [
              0.05318641309
             ]
            },
            {
             "iteration": 99,
             "learn": [
              0.04928606592
             ],
             "passed_time": 45.1145298,
             "remaining_time": 0,
             "test": [
              0.05228234011
             ]
            }
           ],
           "meta": {
            "iteration_count": 100,
            "launch_mode": "Train",
            "learn_metrics": [
             {
              "best_value": "Min",
              "name": "CrossEntropy"
             }
            ],
            "learn_sets": [
             "learn"
            ],
            "name": "experiment",
            "parameters": "",
            "test_metrics": [
             {
              "best_value": "Min",
              "name": "CrossEntropy"
             }
            ],
            "test_sets": [
             "test"
            ]
           }
          },
          "passed_iterations": 99,
          "total_iterations": 100
         },
         "name": "catboost_info",
         "path": "catboost_info"
        }
       },
       "layout": "IPY_MODEL_847e874fa56545af8e3cf39d225573a6"
      }
     },
     "4924e0ec6e224cb6a49f6ade7f244d12": {
      "model_module": "@jupyter-widgets/base",
      "model_module_version": "1.2.0",
      "model_name": "LayoutModel",
      "state": {
       "_model_module": "@jupyter-widgets/base",
       "_model_module_version": "1.2.0",
       "_model_name": "LayoutModel",
       "_view_count": null,
       "_view_module": "@jupyter-widgets/base",
       "_view_module_version": "1.2.0",
       "_view_name": "LayoutView",
       "align_content": null,
       "align_items": null,
       "align_self": "stretch",
       "border": null,
       "bottom": null,
       "display": null,
       "flex": null,
       "flex_flow": null,
       "grid_area": null,
       "grid_auto_columns": null,
       "grid_auto_flow": null,
       "grid_auto_rows": null,
       "grid_column": null,
       "grid_gap": null,
       "grid_row": null,
       "grid_template_areas": null,
       "grid_template_columns": null,
       "grid_template_rows": null,
       "height": "500px",
       "justify_content": null,
       "justify_items": null,
       "left": null,
       "margin": null,
       "max_height": null,
       "max_width": null,
       "min_height": null,
       "min_width": null,
       "object_fit": null,
       "object_position": null,
       "order": null,
       "overflow": null,
       "overflow_x": null,
       "overflow_y": null,
       "padding": null,
       "right": null,
       "top": null,
       "visibility": null,
       "width": null
      }
     },
     "4f0e9388cc9747a09a7a9df386b1108f": {
      "model_module": "@jupyter-widgets/base",
      "model_module_version": "1.2.0",
      "model_name": "LayoutModel",
      "state": {
       "_model_module": "@jupyter-widgets/base",
       "_model_module_version": "1.2.0",
       "_model_name": "LayoutModel",
       "_view_count": null,
       "_view_module": "@jupyter-widgets/base",
       "_view_module_version": "1.2.0",
       "_view_name": "LayoutView",
       "align_content": null,
       "align_items": null,
       "align_self": "stretch",
       "border": null,
       "bottom": null,
       "display": null,
       "flex": null,
       "flex_flow": null,
       "grid_area": null,
       "grid_auto_columns": null,
       "grid_auto_flow": null,
       "grid_auto_rows": null,
       "grid_column": null,
       "grid_gap": null,
       "grid_row": null,
       "grid_template_areas": null,
       "grid_template_columns": null,
       "grid_template_rows": null,
       "height": "500px",
       "justify_content": null,
       "justify_items": null,
       "left": null,
       "margin": null,
       "max_height": null,
       "max_width": null,
       "min_height": null,
       "min_width": null,
       "object_fit": null,
       "object_position": null,
       "order": null,
       "overflow": null,
       "overflow_x": null,
       "overflow_y": null,
       "padding": null,
       "right": null,
       "top": null,
       "visibility": null,
       "width": null
      }
     },
     "4f64c8665032404eb265488fb4ce8a5a": {
      "model_module": "catboost-widget",
      "model_module_version": "^1.0.0",
      "model_name": "CatboostWidgetModel",
      "state": {
       "_dom_classes": [],
       "_model_module": "catboost-widget",
       "_model_module_version": "^1.0.0",
       "_model_name": "CatboostWidgetModel",
       "_view_count": null,
       "_view_module": "catboost-widget",
       "_view_module_version": "^1.0.0",
       "_view_name": "CatboostWidgetView",
       "data": {
        "catboost_info": {
         "content": {
          "data": {
           "iterations": [
            {
             "iteration": 0,
             "learn": [
              0.6686639421
             ],
             "passed_time": 0.4566451406,
             "remaining_time": 45.20786892,
             "test": [
              0.6691952927
             ]
            },
            {
             "iteration": 1,
             "learn": [
              0.646450407
             ],
             "passed_time": 0.872952546,
             "remaining_time": 42.77467476,
             "test": [
              0.6461572768
             ]
            },
            {
             "iteration": 2,
             "learn": [
              0.6254593726
             ],
             "passed_time": 1.314886735,
             "remaining_time": 42.51467109,
             "test": [
              0.6253570092
             ]
            },
            {
             "iteration": 3,
             "learn": [
              0.6050114631
             ],
             "passed_time": 1.778298289,
             "remaining_time": 42.67915893,
             "test": [
              0.6047872254
             ]
            },
            {
             "iteration": 4,
             "learn": [
              0.5860766468
             ],
             "passed_time": 2.18394662,
             "remaining_time": 41.49498579,
             "test": [
              0.5855410933
             ]
            },
            {
             "iteration": 5,
             "learn": [
              0.5678437006
             ],
             "passed_time": 2.60410907,
             "remaining_time": 40.79770876,
             "test": [
              0.5669260835
             ]
            },
            {
             "iteration": 6,
             "learn": [
              0.5487604178
             ],
             "passed_time": 2.954545896,
             "remaining_time": 39.25325262,
             "test": [
              0.5487401724
             ]
            },
            {
             "iteration": 7,
             "learn": [
              0.5320812883
             ],
             "passed_time": 3.303603241,
             "remaining_time": 37.99143727,
             "test": [
              0.5314384165
             ]
            },
            {
             "iteration": 8,
             "learn": [
              0.515066059
             ],
             "passed_time": 3.658743278,
             "remaining_time": 36.99395981,
             "test": [
              0.5147619653
             ]
            },
            {
             "iteration": 9,
             "learn": [
              0.4998814066
             ],
             "passed_time": 4.072616172,
             "remaining_time": 36.65354555,
             "test": [
              0.4995139647
             ]
            },
            {
             "iteration": 10,
             "learn": [
              0.4848191529
             ],
             "passed_time": 4.433672809,
             "remaining_time": 35.87244364,
             "test": [
              0.4841493157
             ]
            },
            {
             "iteration": 11,
             "learn": [
              0.4708267214
             ],
             "passed_time": 4.887165482,
             "remaining_time": 35.83921353,
             "test": [
              0.4705380822
             ]
            },
            {
             "iteration": 12,
             "learn": [
              0.4570898764
             ],
             "passed_time": 5.235895966,
             "remaining_time": 35.04022685,
             "test": [
              0.4566805916
             ]
            },
            {
             "iteration": 13,
             "learn": [
              0.443807659
             ],
             "passed_time": 5.584404069,
             "remaining_time": 34.30419642,
             "test": [
              0.4435147528
             ]
            },
            {
             "iteration": 14,
             "learn": [
              0.4322700055
             ],
             "passed_time": 6.030960259,
             "remaining_time": 34.17544147,
             "test": [
              0.431456981
             ]
            },
            {
             "iteration": 15,
             "learn": [
              0.4199239669
             ],
             "passed_time": 6.384231054,
             "remaining_time": 33.51721303,
             "test": [
              0.4194096051
             ]
            },
            {
             "iteration": 16,
             "learn": [
              0.4088811727
             ],
             "passed_time": 6.811349674,
             "remaining_time": 33.25541312,
             "test": [
              0.4079113593
             ]
            },
            {
             "iteration": 17,
             "learn": [
              0.3985810029
             ],
             "passed_time": 7.27060622,
             "remaining_time": 33.12165056,
             "test": [
              0.3972305833
             ]
            },
            {
             "iteration": 18,
             "learn": [
              0.3879078761
             ],
             "passed_time": 7.683145712,
             "remaining_time": 32.7544633,
             "test": [
              0.3868503677
             ]
            },
            {
             "iteration": 19,
             "learn": [
              0.3786437832
             ],
             "passed_time": 8.128556427,
             "remaining_time": 32.51422571,
             "test": [
              0.3774730267
             ]
            },
            {
             "iteration": 20,
             "learn": [
              0.3688553005
             ],
             "passed_time": 8.482762713,
             "remaining_time": 31.91134544,
             "test": [
              0.3675820365
             ]
            },
            {
             "iteration": 21,
             "learn": [
              0.3587685955
             ],
             "passed_time": 8.92721617,
             "remaining_time": 31.65103915,
             "test": [
              0.3576891003
             ]
            },
            {
             "iteration": 22,
             "learn": [
              0.3498048802
             ],
             "passed_time": 9.310603047,
             "remaining_time": 31.17027976,
             "test": [
              0.3489554651
             ]
            },
            {
             "iteration": 23,
             "learn": [
              0.3409563881
             ],
             "passed_time": 9.674180957,
             "remaining_time": 30.63490637,
             "test": [
              0.3400292215
             ]
            },
            {
             "iteration": 24,
             "learn": [
              0.3325486778
             ],
             "passed_time": 10.01096854,
             "remaining_time": 30.03290563,
             "test": [
              0.3318957011
             ]
            },
            {
             "iteration": 25,
             "learn": [
              0.3244474186
             ],
             "passed_time": 10.33986879,
             "remaining_time": 29.42885732,
             "test": [
              0.3240573443
             ]
            },
            {
             "iteration": 26,
             "learn": [
              0.3164513136
             ],
             "passed_time": 10.69706639,
             "remaining_time": 28.92169801,
             "test": [
              0.3158923362
             ]
            },
            {
             "iteration": 27,
             "learn": [
              0.3083014157
             ],
             "passed_time": 11.14066201,
             "remaining_time": 28.64741661,
             "test": [
              0.3074719758
             ]
            },
            {
             "iteration": 28,
             "learn": [
              0.3010812075
             ],
             "passed_time": 11.4679797,
             "remaining_time": 28.07677788,
             "test": [
              0.3005272353
             ]
            },
            {
             "iteration": 29,
             "learn": [
              0.2934790539
             ],
             "passed_time": 11.91888241,
             "remaining_time": 27.81072562,
             "test": [
              0.2926890051
             ]
            },
            {
             "iteration": 30,
             "learn": [
              0.2865841357
             ],
             "passed_time": 12.27806188,
             "remaining_time": 27.32858935,
             "test": [
              0.2859998526
             ]
            },
            {
             "iteration": 31,
             "learn": [
              0.2799875902
             ],
             "passed_time": 12.60874882,
             "remaining_time": 26.79359124,
             "test": [
              0.2797045128
             ]
            },
            {
             "iteration": 32,
             "learn": [
              0.2733440169
             ],
             "passed_time": 13.09831696,
             "remaining_time": 26.59355261,
             "test": [
              0.2726934943
             ]
            },
            {
             "iteration": 33,
             "learn": [
              0.2673628288
             ],
             "passed_time": 13.41835664,
             "remaining_time": 26.04739818,
             "test": [
              0.2669293298
             ]
            },
            {
             "iteration": 34,
             "learn": [
              0.2612845854
             ],
             "passed_time": 13.86850005,
             "remaining_time": 25.7557858,
             "test": [
              0.2607985508
             ]
            },
            {
             "iteration": 35,
             "learn": [
              0.2558204731
             ],
             "passed_time": 14.18152836,
             "remaining_time": 25.21160597,
             "test": [
              0.2555082194
             ]
            },
            {
             "iteration": 36,
             "learn": [
              0.2496202103
             ],
             "passed_time": 14.67005001,
             "remaining_time": 24.9787338,
             "test": [
              0.2492291102
             ]
            },
            {
             "iteration": 37,
             "learn": [
              0.2443971133
             ],
             "passed_time": 14.98708121,
             "remaining_time": 24.45260618,
             "test": [
              0.2441954972
             ]
            },
            {
             "iteration": 38,
             "learn": [
              0.2390347391
             ],
             "passed_time": 15.45703291,
             "remaining_time": 24.17638481,
             "test": [
              0.2387228772
             ]
            },
            {
             "iteration": 39,
             "learn": [
              0.2342859811
             ],
             "passed_time": 15.89868667,
             "remaining_time": 23.84803,
             "test": [
              0.2337244407
             ]
            },
            {
             "iteration": 40,
             "learn": [
              0.2289217376
             ],
             "passed_time": 16.34769896,
             "remaining_time": 23.52473753,
             "test": [
              0.2281726164
             ]
            },
            {
             "iteration": 41,
             "learn": [
              0.2243211289
             ],
             "passed_time": 16.67226515,
             "remaining_time": 23.02360425,
             "test": [
              0.223708436
             ]
            },
            {
             "iteration": 42,
             "learn": [
              0.2193180533
             ],
             "passed_time": 17.15512366,
             "remaining_time": 22.74051275,
             "test": [
              0.2185459205
             ]
            },
            {
             "iteration": 43,
             "learn": [
              0.2147255143
             ],
             "passed_time": 17.51471032,
             "remaining_time": 22.2914495,
             "test": [
              0.2138575956
             ]
            },
            {
             "iteration": 44,
             "learn": [
              0.2102824752
             ],
             "passed_time": 17.99805986,
             "remaining_time": 21.99762872,
             "test": [
              0.2094623525
             ]
            },
            {
             "iteration": 45,
             "learn": [
              0.2061427921
             ],
             "passed_time": 18.32697981,
             "remaining_time": 21.51428065,
             "test": [
              0.2054291548
             ]
            },
            {
             "iteration": 46,
             "learn": [
              0.2023327799
             ],
             "passed_time": 18.65329068,
             "remaining_time": 21.03456183,
             "test": [
              0.2016883972
             ]
            },
            {
             "iteration": 47,
             "learn": [
              0.1985072458
             ],
             "passed_time": 19.08073741,
             "remaining_time": 20.67079886,
             "test": [
              0.1976860394
             ]
            },
            {
             "iteration": 48,
             "learn": [
              0.1942910474
             ],
             "passed_time": 19.57178217,
             "remaining_time": 20.37063042,
             "test": [
              0.1933395651
             ]
            },
            {
             "iteration": 49,
             "learn": [
              0.1905635807
             ],
             "passed_time": 19.90598166,
             "remaining_time": 19.90598166,
             "test": [
              0.1897267361
             ]
            },
            {
             "iteration": 50,
             "learn": [
              0.1868947868
             ],
             "passed_time": 20.23616621,
             "remaining_time": 19.44259107,
             "test": [
              0.1862701442
             ]
            },
            {
             "iteration": 51,
             "learn": [
              0.1838100973
             ],
             "passed_time": 20.58737501,
             "remaining_time": 19.00373078,
             "test": [
              0.1833388865
             ]
            },
            {
             "iteration": 52,
             "learn": [
              0.180161625
             ],
             "passed_time": 21.04047909,
             "remaining_time": 18.65853806,
             "test": [
              0.1796300664
             ]
            },
            {
             "iteration": 53,
             "learn": [
              0.1765043783
             ],
             "passed_time": 21.52934095,
             "remaining_time": 18.33980896,
             "test": [
              0.1757684046
             ]
            },
            {
             "iteration": 54,
             "learn": [
              0.1734208205
             ],
             "passed_time": 22.03097167,
             "remaining_time": 18.02534046,
             "test": [
              0.1725131232
             ]
            },
            {
             "iteration": 55,
             "learn": [
              0.1700214736
             ],
             "passed_time": 22.38772234,
             "remaining_time": 17.59035326,
             "test": [
              0.1692583786
             ]
            },
            {
             "iteration": 56,
             "learn": [
              0.1670065325
             ],
             "passed_time": 22.83236763,
             "remaining_time": 17.22441768,
             "test": [
              0.1659863236
             ]
            },
            {
             "iteration": 57,
             "learn": [
              0.1639098461
             ],
             "passed_time": 23.29775554,
             "remaining_time": 16.8707885,
             "test": [
              0.1629016037
             ]
            },
            {
             "iteration": 58,
             "learn": [
              0.161089618
             ],
             "passed_time": 23.63342855,
             "remaining_time": 16.42323001,
             "test": [
              0.1601253414
             ]
            },
            {
             "iteration": 59,
             "learn": [
              0.1580286537
             ],
             "passed_time": 24.27993649,
             "remaining_time": 16.18662433,
             "test": [
              0.1570305527
             ]
            },
            {
             "iteration": 60,
             "learn": [
              0.1547063957
             ],
             "passed_time": 24.85345151,
             "remaining_time": 15.88991162,
             "test": [
              0.1535967103
             ]
            },
            {
             "iteration": 61,
             "learn": [
              0.1518363752
             ],
             "passed_time": 25.46477622,
             "remaining_time": 15.60744349,
             "test": [
              0.1506354374
             ]
            },
            {
             "iteration": 62,
             "learn": [
              0.14924826
             ],
             "passed_time": 25.79352966,
             "remaining_time": 15.14858091,
             "test": [
              0.1481997522
             ]
            },
            {
             "iteration": 63,
             "learn": [
              0.1464101718
             ],
             "passed_time": 26.18735799,
             "remaining_time": 14.73038887,
             "test": [
              0.1451916123
             ]
            },
            {
             "iteration": 64,
             "learn": [
              0.1438108153
             ],
             "passed_time": 26.58652262,
             "remaining_time": 14.31581987,
             "test": [
              0.142710232
             ]
            },
            {
             "iteration": 65,
             "learn": [
              0.141229776
             ],
             "passed_time": 26.95296781,
             "remaining_time": 13.88486221,
             "test": [
              0.1398615155
             ]
            },
            {
             "iteration": 66,
             "learn": [
              0.1381955933
             ],
             "passed_time": 27.40697031,
             "remaining_time": 13.49895552,
             "test": [
              0.1366292779
             ]
            },
            {
             "iteration": 67,
             "learn": [
              0.1356974485
             ],
             "passed_time": 27.89983799,
             "remaining_time": 13.12933552,
             "test": [
              0.1339743876
             ]
            },
            {
             "iteration": 68,
             "learn": [
              0.1334569661
             ],
             "passed_time": 28.22450637,
             "remaining_time": 12.68057532,
             "test": [
              0.1317425193
             ]
            },
            {
             "iteration": 69,
             "learn": [
              0.1316275796
             ],
             "passed_time": 28.56379463,
             "remaining_time": 12.24162627,
             "test": [
              0.1300977818
             ]
            },
            {
             "iteration": 70,
             "learn": [
              0.1293008827
             ],
             "passed_time": 29.00833011,
             "remaining_time": 11.84847286,
             "test": [
              0.1275161579
             ]
            },
            {
             "iteration": 71,
             "learn": [
              0.1266035951
             ],
             "passed_time": 29.4785189,
             "remaining_time": 11.46386846,
             "test": [
              0.1246498647
             ]
            },
            {
             "iteration": 72,
             "learn": [
              0.1243890315
             ],
             "passed_time": 29.94395734,
             "remaining_time": 11.0751623,
             "test": [
              0.1222643686
             ]
            },
            {
             "iteration": 73,
             "learn": [
              0.1221772667
             ],
             "passed_time": 30.30924997,
             "remaining_time": 10.64919593,
             "test": [
              0.1199134013
             ]
            },
            {
             "iteration": 74,
             "learn": [
              0.1200732954
             ],
             "passed_time": 30.75201351,
             "remaining_time": 10.25067117,
             "test": [
              0.1175732135
             ]
            },
            {
             "iteration": 75,
             "learn": [
              0.1184024699
             ],
             "passed_time": 31.08268156,
             "remaining_time": 9.815583652,
             "test": [
              0.1160061031
             ]
            },
            {
             "iteration": 76,
             "learn": [
              0.11655962
             ],
             "passed_time": 31.53825361,
             "remaining_time": 9.420517312,
             "test": [
              0.1140431497
             ]
            },
            {
             "iteration": 77,
             "learn": [
              0.1144176755
             ],
             "passed_time": 31.96460984,
             "remaining_time": 9.015659185,
             "test": [
              0.1117876083
             ]
            },
            {
             "iteration": 78,
             "learn": [
              0.1125031517
             ],
             "passed_time": 32.45638811,
             "remaining_time": 8.627647473,
             "test": [
              0.10980795
             ]
            },
            {
             "iteration": 79,
             "learn": [
              0.1104374567
             ],
             "passed_time": 32.9051325,
             "remaining_time": 8.226283125,
             "test": [
              0.1075707912
             ]
            },
            {
             "iteration": 80,
             "learn": [
              0.1086403324
             ],
             "passed_time": 33.27311793,
             "remaining_time": 7.804805441,
             "test": [
              0.105882889
             ]
            },
            {
             "iteration": 81,
             "learn": [
              0.1070668657
             ],
             "passed_time": 33.65808853,
             "remaining_time": 7.388360898,
             "test": [
              0.1043746483
             ]
            },
            {
             "iteration": 82,
             "learn": [
              0.1053347804
             ],
             "passed_time": 34.00368254,
             "remaining_time": 6.964609676,
             "test": [
              0.1024819394
             ]
            },
            {
             "iteration": 83,
             "learn": [
              0.1039677483
             ],
             "passed_time": 34.33490752,
             "remaining_time": 6.539982384,
             "test": [
              0.1012071064
             ]
            },
            {
             "iteration": 84,
             "learn": [
              0.1025341762
             ],
             "passed_time": 34.8588011,
             "remaining_time": 6.151553136,
             "test": [
              0.09970020175
             ]
            },
            {
             "iteration": 85,
             "learn": [
              0.100645084
             ],
             "passed_time": 35.30992628,
             "remaining_time": 5.748127535,
             "test": [
              0.09763086595
             ]
            },
            {
             "iteration": 86,
             "learn": [
              0.09889410235
             ],
             "passed_time": 35.74776563,
             "remaining_time": 5.341620152,
             "test": [
              0.09578355303
             ]
            },
            {
             "iteration": 87,
             "learn": [
              0.09757187228
             ],
             "passed_time": 36.14984985,
             "remaining_time": 4.92952498,
             "test": [
              0.09432635632
             ]
            },
            {
             "iteration": 88,
             "learn": [
              0.09592314068
             ],
             "passed_time": 36.55544806,
             "remaining_time": 4.518089086,
             "test": [
              0.09256364159
             ]
            },
            {
             "iteration": 89,
             "learn": [
              0.09428718958
             ],
             "passed_time": 37.01501509,
             "remaining_time": 4.112779454,
             "test": [
              0.0907983992
             ]
            },
            {
             "iteration": 90,
             "learn": [
              0.09311835032
             ],
             "passed_time": 37.40758703,
             "remaining_time": 3.699651465,
             "test": [
              0.08945177504
             ]
            },
            {
             "iteration": 91,
             "learn": [
              0.09193385822
             ],
             "passed_time": 37.74197039,
             "remaining_time": 3.281910469,
             "test": [
              0.08838166235
             ]
            },
            {
             "iteration": 92,
             "learn": [
              0.09039052731
             ],
             "passed_time": 38.23923507,
             "remaining_time": 2.878221995,
             "test": [
              0.08667252569
             ]
            },
            {
             "iteration": 93,
             "learn": [
              0.08917594757
             ],
             "passed_time": 38.62814083,
             "remaining_time": 2.465626011,
             "test": [
              0.08563147235
             ]
            },
            {
             "iteration": 94,
             "learn": [
              0.08770705406
             ],
             "passed_time": 39.05554541,
             "remaining_time": 2.055555022,
             "test": [
              0.08406296408
             ]
            },
            {
             "iteration": 95,
             "learn": [
              0.08641133252
             ],
             "passed_time": 39.49544868,
             "remaining_time": 1.645643695,
             "test": [
              0.08256318995
             ]
            },
            {
             "iteration": 96,
             "learn": [
              0.08514156149
             ],
             "passed_time": 39.95416135,
             "remaining_time": 1.235695712,
             "test": [
              0.0811158483
             ]
            },
            {
             "iteration": 97,
             "learn": [
              0.08379579594
             ],
             "passed_time": 40.38120589,
             "remaining_time": 0.8241062427,
             "test": [
              0.07967660438
             ]
            },
            {
             "iteration": 98,
             "learn": [
              0.08255697483
             ],
             "passed_time": 40.75334738,
             "remaining_time": 0.4116499735,
             "test": [
              0.07843046955
             ]
            },
            {
             "iteration": 99,
             "learn": [
              0.08141512755
             ],
             "passed_time": 41.12608575,
             "remaining_time": 0,
             "test": [
              0.07735820539
             ]
            }
           ],
           "meta": {
            "iteration_count": 100,
            "launch_mode": "Train",
            "learn_metrics": [
             {
              "best_value": "Min",
              "name": "CrossEntropy"
             }
            ],
            "learn_sets": [
             "learn"
            ],
            "name": "experiment",
            "parameters": "",
            "test_metrics": [
             {
              "best_value": "Min",
              "name": "CrossEntropy"
             }
            ],
            "test_sets": [
             "test"
            ]
           }
          },
          "passed_iterations": 99,
          "total_iterations": 100
         },
         "name": "catboost_info",
         "path": "catboost_info"
        }
       },
       "layout": "IPY_MODEL_a80b86b333a742169c45734e16f00667"
      }
     },
     "51dd90bba3954ab9ae644dcffad02997": {
      "model_module": "catboost-widget",
      "model_module_version": "^1.0.0",
      "model_name": "CatboostWidgetModel",
      "state": {
       "_dom_classes": [],
       "_model_module": "catboost-widget",
       "_model_module_version": "^1.0.0",
       "_model_name": "CatboostWidgetModel",
       "_view_count": null,
       "_view_module": "catboost-widget",
       "_view_module_version": "^1.0.0",
       "_view_name": "CatboostWidgetView",
       "data": {
        "catboost_info": {
         "content": {
          "data": {
           "iterations": [
            {
             "iteration": 0,
             "learn": [
              0.6659039652
             ],
             "passed_time": 0.4710397255,
             "remaining_time": 46.63293282,
             "test": [
              0.6672177416
             ]
            },
            {
             "iteration": 1,
             "learn": [
              0.6450295724
             ],
             "passed_time": 0.9385571516,
             "remaining_time": 45.98930043,
             "test": [
              0.6428465505
             ]
            },
            {
             "iteration": 2,
             "learn": [
              0.6199915528
             ],
             "passed_time": 1.402689247,
             "remaining_time": 45.35361898,
             "test": [
              0.6198711271
             ]
            },
            {
             "iteration": 3,
             "learn": [
              0.5974052895
             ],
             "passed_time": 1.869853333,
             "remaining_time": 44.87647999,
             "test": [
              0.5977770584
             ]
            },
            {
             "iteration": 4,
             "learn": [
              0.5784014282
             ],
             "passed_time": 2.332638543,
             "remaining_time": 44.32013231,
             "test": [
              0.576866153
             ]
            },
            {
             "iteration": 5,
             "learn": [
              0.5584103091
             ],
             "passed_time": 2.801421569,
             "remaining_time": 43.88893791,
             "test": [
              0.5570899418
             ]
            },
            {
             "iteration": 6,
             "learn": [
              0.5399939823
             ],
             "passed_time": 3.262064059,
             "remaining_time": 43.33885107,
             "test": [
              0.53815976
             ]
            },
            {
             "iteration": 7,
             "learn": [
              0.5236221176
             ],
             "passed_time": 3.730217141,
             "remaining_time": 42.89749713,
             "test": [
              0.5201923025
             ]
            },
            {
             "iteration": 8,
             "learn": [
              0.5063364894
             ],
             "passed_time": 4.197243447,
             "remaining_time": 42.43879486,
             "test": [
              0.5032269621
             ]
            },
            {
             "iteration": 9,
             "learn": [
              0.4902915645
             ],
             "passed_time": 4.653872077,
             "remaining_time": 41.88484869,
             "test": [
              0.4870420091
             ]
            },
            {
             "iteration": 10,
             "learn": [
              0.4750356655
             ],
             "passed_time": 5.123155243,
             "remaining_time": 41.45098333,
             "test": [
              0.4714940387
             ]
            },
            {
             "iteration": 11,
             "learn": [
              0.4605506422
             ],
             "passed_time": 5.597687124,
             "remaining_time": 41.04970557,
             "test": [
              0.4564988586
             ]
            },
            {
             "iteration": 12,
             "learn": [
              0.4468887438
             ],
             "passed_time": 6.065622867,
             "remaining_time": 40.59301457,
             "test": [
              0.4424796755
             ]
            },
            {
             "iteration": 13,
             "learn": [
              0.4332171133
             ],
             "passed_time": 6.493640878,
             "remaining_time": 39.88950825,
             "test": [
              0.428965067
             ]
            },
            {
             "iteration": 14,
             "learn": [
              0.4204221512
             ],
             "passed_time": 6.956355479,
             "remaining_time": 39.41934771,
             "test": [
              0.4159217199
             ]
            },
            {
             "iteration": 15,
             "learn": [
              0.407537917
             ],
             "passed_time": 7.4861395,
             "remaining_time": 39.30223238,
             "test": [
              0.4034406911
             ]
            },
            {
             "iteration": 16,
             "learn": [
              0.3962370244
             ],
             "passed_time": 7.975746533,
             "remaining_time": 38.94040955,
             "test": [
              0.3914435298
             ]
            },
            {
             "iteration": 17,
             "learn": [
              0.385138583
             ],
             "passed_time": 8.457387973,
             "remaining_time": 38.52810077,
             "test": [
              0.3801250792
             ]
            },
            {
             "iteration": 18,
             "learn": [
              0.3740208416
             ],
             "passed_time": 8.930373259,
             "remaining_time": 38.07159126,
             "test": [
              0.3692458229
             ]
            },
            {
             "iteration": 19,
             "learn": [
              0.3645222033
             ],
             "passed_time": 9.376553212,
             "remaining_time": 37.50621285,
             "test": [
              0.3588961114
             ]
            },
            {
             "iteration": 20,
             "learn": [
              0.353705727
             ],
             "passed_time": 9.854269436,
             "remaining_time": 37.07082312,
             "test": [
              0.3487008313
             ]
            },
            {
             "iteration": 21,
             "learn": [
              0.3437432019
             ],
             "passed_time": 10.35895905,
             "remaining_time": 36.72721847,
             "test": [
              0.3389093857
             ]
            },
            {
             "iteration": 22,
             "learn": [
              0.3349656941
             ],
             "passed_time": 11.05585965,
             "remaining_time": 37.01309535,
             "test": [
              0.3295533788
             ]
            },
            {
             "iteration": 23,
             "learn": [
              0.3258829785
             ],
             "passed_time": 11.72313348,
             "remaining_time": 37.12325601,
             "test": [
              0.3207306057
             ]
            },
            {
             "iteration": 24,
             "learn": [
              0.3169951439
             ],
             "passed_time": 12.20935519,
             "remaining_time": 36.62806557,
             "test": [
              0.3121584751
             ]
            },
            {
             "iteration": 25,
             "learn": [
              0.3087858768
             ],
             "passed_time": 12.68162778,
             "remaining_time": 36.09386367,
             "test": [
              0.3039419041
             ]
            },
            {
             "iteration": 26,
             "learn": [
              0.3011107973
             ],
             "passed_time": 13.15300052,
             "remaining_time": 35.56181623,
             "test": [
              0.2959703669
             ]
            },
            {
             "iteration": 27,
             "learn": [
              0.2936427033
             ],
             "passed_time": 13.62453406,
             "remaining_time": 35.03451615,
             "test": [
              0.2881235478
             ]
            },
            {
             "iteration": 28,
             "learn": [
              0.2864942545
             ],
             "passed_time": 14.10090368,
             "remaining_time": 34.5229021,
             "test": [
              0.2807566448
             ]
            },
            {
             "iteration": 29,
             "learn": [
              0.2792694528
             ],
             "passed_time": 14.56336266,
             "remaining_time": 33.98117953,
             "test": [
              0.2735743819
             ]
            },
            {
             "iteration": 30,
             "learn": [
              0.2724173143
             ],
             "passed_time": 15.00537602,
             "remaining_time": 33.39906275,
             "test": [
              0.2668604342
             ]
            },
            {
             "iteration": 31,
             "learn": [
              0.2656934294
             ],
             "passed_time": 15.4809763,
             "remaining_time": 32.89707464,
             "test": [
              0.260421606
             ]
            },
            {
             "iteration": 32,
             "learn": [
              0.2595451911
             ],
             "passed_time": 15.91144421,
             "remaining_time": 32.3050534,
             "test": [
              0.2539316191
             ]
            },
            {
             "iteration": 33,
             "learn": [
              0.2531270333
             ],
             "passed_time": 16.3890294,
             "remaining_time": 31.81399825,
             "test": [
              0.2473880276
             ]
            },
            {
             "iteration": 34,
             "learn": [
              0.2474073279
             ],
             "passed_time": 16.82075106,
             "remaining_time": 31.23853769,
             "test": [
              0.2415383434
             ]
            },
            {
             "iteration": 35,
             "learn": [
              0.2418457498
             ],
             "passed_time": 17.26415629,
             "remaining_time": 30.69183341,
             "test": [
              0.2359814859
             ]
            },
            {
             "iteration": 36,
             "learn": [
              0.235895642
             ],
             "passed_time": 17.73254576,
             "remaining_time": 30.19325359,
             "test": [
              0.2299791672
             ]
            },
            {
             "iteration": 37,
             "learn": [
              0.2299854752
             ],
             "passed_time": 18.19422971,
             "remaining_time": 29.68532216,
             "test": [
              0.2241539049
             ]
            },
            {
             "iteration": 38,
             "learn": [
              0.2247591625
             ],
             "passed_time": 18.70133265,
             "remaining_time": 29.25080235,
             "test": [
              0.2190722109
             ]
            },
            {
             "iteration": 39,
             "learn": [
              0.220000857
             ],
             "passed_time": 19.12647182,
             "remaining_time": 28.68970773,
             "test": [
              0.2139707592
             ]
            },
            {
             "iteration": 40,
             "learn": [
              0.2149428145
             ],
             "passed_time": 19.58709571,
             "remaining_time": 28.18630846,
             "test": [
              0.2088660717
             ]
            },
            {
             "iteration": 41,
             "learn": [
              0.2101644269
             ],
             "passed_time": 20.01855008,
             "remaining_time": 27.6446644,
             "test": [
              0.2040173262
             ]
            },
            {
             "iteration": 42,
             "learn": [
              0.2055392413
             ],
             "passed_time": 20.47009371,
             "remaining_time": 27.13477538,
             "test": [
              0.1993108121
             ]
            },
            {
             "iteration": 43,
             "learn": [
              0.2008251056
             ],
             "passed_time": 20.89932062,
             "remaining_time": 26.59913533,
             "test": [
              0.1946820705
             ]
            },
            {
             "iteration": 44,
             "learn": [
              0.1964264651
             ],
             "passed_time": 21.33799305,
             "remaining_time": 26.07976928,
             "test": [
              0.190274302
             ]
            },
            {
             "iteration": 45,
             "learn": [
              0.1923404845
             ],
             "passed_time": 21.77180167,
             "remaining_time": 25.55820197,
             "test": [
              0.1859255282
             ]
            },
            {
             "iteration": 46,
             "learn": [
              0.188192608
             ],
             "passed_time": 22.22890314,
             "remaining_time": 25.06663545,
             "test": [
              0.1817523539
             ]
            },
            {
             "iteration": 47,
             "learn": [
              0.1844601874
             ],
             "passed_time": 22.6465383,
             "remaining_time": 24.53374982,
             "test": [
              0.1779340245
             ]
            },
            {
             "iteration": 48,
             "learn": [
              0.1805166021
             ],
             "passed_time": 23.07809082,
             "remaining_time": 24.02005371,
             "test": [
              0.1740099146
             ]
            },
            {
             "iteration": 49,
             "learn": [
              0.1768015892
             ],
             "passed_time": 23.53333342,
             "remaining_time": 23.53333342,
             "test": [
              0.1704253963
             ]
            },
            {
             "iteration": 50,
             "learn": [
              0.1734641186
             ],
             "passed_time": 23.95071022,
             "remaining_time": 23.01146668,
             "test": [
              0.1670027611
             ]
            },
            {
             "iteration": 51,
             "learn": [
              0.1700188083
             ],
             "passed_time": 24.4111538,
             "remaining_time": 22.53337273,
             "test": [
              0.1634676479
             ]
            },
            {
             "iteration": 52,
             "learn": [
              0.1666388341
             ],
             "passed_time": 24.86884202,
             "remaining_time": 22.05350141,
             "test": [
              0.1601096494
             ]
            },
            {
             "iteration": 53,
             "learn": [
              0.163237907
             ],
             "passed_time": 25.29746435,
             "remaining_time": 21.54969185,
             "test": [
              0.1567659891
             ]
            },
            {
             "iteration": 54,
             "learn": [
              0.1601983468
             ],
             "passed_time": 25.75734962,
             "remaining_time": 21.07419514,
             "test": [
              0.1537927217
             ]
            },
            {
             "iteration": 55,
             "learn": [
              0.1572096063
             ],
             "passed_time": 26.21062687,
             "remaining_time": 20.59406397,
             "test": [
              0.1508998923
             ]
            },
            {
             "iteration": 56,
             "learn": [
              0.1541150733
             ],
             "passed_time": 26.64968845,
             "remaining_time": 20.10415093,
             "test": [
              0.1479117128
             ]
            },
            {
             "iteration": 57,
             "learn": [
              0.1513243023
             ],
             "passed_time": 27.10032401,
             "remaining_time": 19.62437256,
             "test": [
              0.145101551
             ]
            },
            {
             "iteration": 58,
             "learn": [
              0.1486311624
             ],
             "passed_time": 27.5355066,
             "remaining_time": 19.13484357,
             "test": [
              0.14214872
             ]
            },
            {
             "iteration": 59,
             "learn": [
              0.1458418109
             ],
             "passed_time": 27.98550568,
             "remaining_time": 18.65700379,
             "test": [
              0.1393223499
             ]
            },
            {
             "iteration": 60,
             "learn": [
              0.1431705192
             ],
             "passed_time": 28.44053798,
             "remaining_time": 18.18329477,
             "test": [
              0.1369150457
             ]
            },
            {
             "iteration": 61,
             "learn": [
              0.1406661044
             ],
             "passed_time": 28.88049375,
             "remaining_time": 17.70094778,
             "test": [
              0.1343321732
             ]
            },
            {
             "iteration": 62,
             "learn": [
              0.1381581625
             ],
             "passed_time": 29.34514029,
             "remaining_time": 17.23444747,
             "test": [
              0.131856281
             ]
            },
            {
             "iteration": 63,
             "learn": [
              0.1358366474
             ],
             "passed_time": 29.8153894,
             "remaining_time": 16.77115654,
             "test": [
              0.129523737
             ]
            },
            {
             "iteration": 64,
             "learn": [
              0.1332914195
             ],
             "passed_time": 30.30191011,
             "remaining_time": 16.31641313,
             "test": [
              0.1272126874
             ]
            },
            {
             "iteration": 65,
             "learn": [
              0.1310643352
             ],
             "passed_time": 30.72269713,
             "remaining_time": 15.82684397,
             "test": [
              0.1247923627
             ]
            },
            {
             "iteration": 66,
             "learn": [
              0.1289089283
             ],
             "passed_time": 31.15545036,
             "remaining_time": 15.34522182,
             "test": [
              0.1225798305
             ]
            },
            {
             "iteration": 67,
             "learn": [
              0.1266903638
             ],
             "passed_time": 31.65214102,
             "remaining_time": 14.89512519,
             "test": [
              0.1205033873
             ]
            },
            {
             "iteration": 68,
             "learn": [
              0.1246736443
             ],
             "passed_time": 32.13991373,
             "remaining_time": 14.43967138,
             "test": [
              0.1185312637
             ]
            },
            {
             "iteration": 69,
             "learn": [
              0.1225391951
             ],
             "passed_time": 32.5768007,
             "remaining_time": 13.96148601,
             "test": [
              0.1164237146
             ]
            },
            {
             "iteration": 70,
             "learn": [
              0.1206340757
             ],
             "passed_time": 32.99503965,
             "remaining_time": 13.47684718,
             "test": [
              0.1144077062
             ]
            },
            {
             "iteration": 71,
             "learn": [
              0.1185365791
             ],
             "passed_time": 33.40323719,
             "remaining_time": 12.9901478,
             "test": [
              0.1124337843
             ]
            },
            {
             "iteration": 72,
             "learn": [
              0.1165131075
             ],
             "passed_time": 33.81987617,
             "remaining_time": 12.50872132,
             "test": [
              0.1102688546
             ]
            },
            {
             "iteration": 73,
             "learn": [
              0.1146074132
             ],
             "passed_time": 34.22923893,
             "remaining_time": 12.02648935,
             "test": [
              0.1081918828
             ]
            },
            {
             "iteration": 74,
             "learn": [
              0.1127551836
             ],
             "passed_time": 34.69861758,
             "remaining_time": 11.56620586,
             "test": [
              0.1065621972
             ]
            },
            {
             "iteration": 75,
             "learn": [
              0.1111308331
             ],
             "passed_time": 35.15124919,
             "remaining_time": 11.10039448,
             "test": [
              0.1048858144
             ]
            },
            {
             "iteration": 76,
             "learn": [
              0.1092183702
             ],
             "passed_time": 35.57855746,
             "remaining_time": 10.62736132,
             "test": [
              0.1031199427
             ]
            },
            {
             "iteration": 77,
             "learn": [
              0.1075995643
             ],
             "passed_time": 36.0685294,
             "remaining_time": 10.17317496,
             "test": [
              0.1014988874
             ]
            },
            {
             "iteration": 78,
             "learn": [
              0.1060085603
             ],
             "passed_time": 36.48946065,
             "remaining_time": 9.699730047,
             "test": [
              0.09977537172
             ]
            },
            {
             "iteration": 79,
             "learn": [
              0.1043331863
             ],
             "passed_time": 36.89245458,
             "remaining_time": 9.223113644,
             "test": [
              0.09806322533
             ]
            },
            {
             "iteration": 80,
             "learn": [
              0.1028887324
             ],
             "passed_time": 37.36047984,
             "remaining_time": 8.763569345,
             "test": [
              0.09663020242
             ]
            },
            {
             "iteration": 81,
             "learn": [
              0.1013013032
             ],
             "passed_time": 37.73505612,
             "remaining_time": 8.283305002,
             "test": [
              0.0950608676
             ]
            },
            {
             "iteration": 82,
             "learn": [
              0.09981979653
             ],
             "passed_time": 38.16023756,
             "remaining_time": 7.815952271,
             "test": [
              0.09353628377
             ]
            },
            {
             "iteration": 83,
             "learn": [
              0.09851426651
             ],
             "passed_time": 38.53265455,
             "remaining_time": 7.339553247,
             "test": [
              0.09209110697
             ]
            },
            {
             "iteration": 84,
             "learn": [
              0.09707076707
             ],
             "passed_time": 38.93164888,
             "remaining_time": 6.870290979,
             "test": [
              0.09062969798
             ]
            },
            {
             "iteration": 85,
             "learn": [
              0.09564237195
             ],
             "passed_time": 39.38936269,
             "remaining_time": 6.412221834,
             "test": [
              0.08928555457
             ]
            },
            {
             "iteration": 86,
             "learn": [
              0.09439107064
             ],
             "passed_time": 39.79529385,
             "remaining_time": 5.946423219,
             "test": [
              0.08791156839
             ]
            },
            {
             "iteration": 87,
             "learn": [
              0.09294359061
             ],
             "passed_time": 40.26734754,
             "remaining_time": 5.491001937,
             "test": [
              0.08637212702
             ]
            },
            {
             "iteration": 88,
             "learn": [
              0.09172012493
             ],
             "passed_time": 40.6642502,
             "remaining_time": 5.025918564,
             "test": [
              0.08522797776
             ]
            },
            {
             "iteration": 89,
             "learn": [
              0.09043947421
             ],
             "passed_time": 41.07546798,
             "remaining_time": 4.563940886,
             "test": [
              0.08398675424
             ]
            },
            {
             "iteration": 90,
             "learn": [
              0.08946211985
             ],
             "passed_time": 41.49505009,
             "remaining_time": 4.103906053,
             "test": [
              0.08312921113
             ]
            },
            {
             "iteration": 91,
             "learn": [
              0.08831043004
             ],
             "passed_time": 41.92195025,
             "remaining_time": 3.645386979,
             "test": [
              0.08181837886
             ]
            },
            {
             "iteration": 92,
             "learn": [
              0.08721575681
             ],
             "passed_time": 42.38159361,
             "remaining_time": 3.190012422,
             "test": [
              0.08058182075
             ]
            },
            {
             "iteration": 93,
             "learn": [
              0.08612401114
             ],
             "passed_time": 42.98468379,
             "remaining_time": 2.74370322,
             "test": [
              0.07935126068
             ]
            },
            {
             "iteration": 94,
             "learn": [
              0.08507858387
             ],
             "passed_time": 43.59416654,
             "remaining_time": 2.294429818,
             "test": [
              0.07830785729
             ]
            },
            {
             "iteration": 95,
             "learn": [
              0.08401392397
             ],
             "passed_time": 43.92588095,
             "remaining_time": 1.83024504,
             "test": [
              0.07748781559
             ]
            },
            {
             "iteration": 96,
             "learn": [
              0.08290385732
             ],
             "passed_time": 44.33316599,
             "remaining_time": 1.371128845,
             "test": [
              0.07648491947
             ]
            },
            {
             "iteration": 97,
             "learn": [
              0.08179386459
             ],
             "passed_time": 44.74936191,
             "remaining_time": 0.9132522838,
             "test": [
              0.07546519304
             ]
            },
            {
             "iteration": 98,
             "learn": [
              0.08091870937
             ],
             "passed_time": 45.06195988,
             "remaining_time": 0.4551713119,
             "test": [
              0.07469688083
             ]
            },
            {
             "iteration": 99,
             "learn": [
              0.07996711897
             ],
             "passed_time": 45.48362432,
             "remaining_time": 0,
             "test": [
              0.07375263228
             ]
            }
           ],
           "meta": {
            "iteration_count": 100,
            "launch_mode": "Train",
            "learn_metrics": [
             {
              "best_value": "Min",
              "name": "CrossEntropy"
             }
            ],
            "learn_sets": [
             "learn"
            ],
            "name": "experiment",
            "parameters": "",
            "test_metrics": [
             {
              "best_value": "Min",
              "name": "CrossEntropy"
             }
            ],
            "test_sets": [
             "test"
            ]
           }
          },
          "passed_iterations": 99,
          "total_iterations": 100
         },
         "name": "catboost_info",
         "path": "catboost_info"
        }
       },
       "layout": "IPY_MODEL_3879cc52d2e142f79d1c6a41723c7806"
      }
     },
     "523c6fec07884defa744768902987658": {
      "model_module": "@jupyter-widgets/base",
      "model_module_version": "1.2.0",
      "model_name": "LayoutModel",
      "state": {
       "_model_module": "@jupyter-widgets/base",
       "_model_module_version": "1.2.0",
       "_model_name": "LayoutModel",
       "_view_count": null,
       "_view_module": "@jupyter-widgets/base",
       "_view_module_version": "1.2.0",
       "_view_name": "LayoutView",
       "align_content": null,
       "align_items": null,
       "align_self": "stretch",
       "border": null,
       "bottom": null,
       "display": null,
       "flex": null,
       "flex_flow": null,
       "grid_area": null,
       "grid_auto_columns": null,
       "grid_auto_flow": null,
       "grid_auto_rows": null,
       "grid_column": null,
       "grid_gap": null,
       "grid_row": null,
       "grid_template_areas": null,
       "grid_template_columns": null,
       "grid_template_rows": null,
       "height": "500px",
       "justify_content": null,
       "justify_items": null,
       "left": null,
       "margin": null,
       "max_height": null,
       "max_width": null,
       "min_height": null,
       "min_width": null,
       "object_fit": null,
       "object_position": null,
       "order": null,
       "overflow": null,
       "overflow_x": null,
       "overflow_y": null,
       "padding": null,
       "right": null,
       "top": null,
       "visibility": null,
       "width": null
      }
     },
     "63176c2c99fc431482131ee7f22a3e6e": {
      "model_module": "catboost-widget",
      "model_module_version": "^1.0.0",
      "model_name": "CatboostWidgetModel",
      "state": {
       "_dom_classes": [],
       "_model_module": "catboost-widget",
       "_model_module_version": "^1.0.0",
       "_model_name": "CatboostWidgetModel",
       "_view_count": null,
       "_view_module": "catboost-widget",
       "_view_module_version": "^1.0.0",
       "_view_name": "CatboostWidgetView",
       "data": {
        "catboost_info": {
         "content": {
          "data": {
           "iterations": [
            {
             "iteration": 0,
             "learn": [
              0.6626251877
             ],
             "passed_time": 0.3739293473,
             "remaining_time": 37.01900538,
             "test": [
              0.6643267773
             ]
            },
            {
             "iteration": 1,
             "learn": [
              0.6377548431
             ],
             "passed_time": 0.7452126376,
             "remaining_time": 36.51541924,
             "test": [
              0.6370342205
             ]
            },
            {
             "iteration": 2,
             "learn": [
              0.6110912215
             ],
             "passed_time": 1.083318943,
             "remaining_time": 35.0273125,
             "test": [
              0.6114038782
             ]
            },
            {
             "iteration": 3,
             "learn": [
              0.5865731036
             ],
             "passed_time": 1.453783272,
             "remaining_time": 34.89079852,
             "test": [
              0.5872389479
             ]
            },
            {
             "iteration": 4,
             "learn": [
              0.5650746803
             ],
             "passed_time": 1.799409099,
             "remaining_time": 34.18877288,
             "test": [
              0.564300513
             ]
            },
            {
             "iteration": 5,
             "learn": [
              0.5423587511
             ],
             "passed_time": 2.174818699,
             "remaining_time": 34.07215962,
             "test": [
              0.542566825
             ]
            },
            {
             "iteration": 6,
             "learn": [
              0.5213361093
             ],
             "passed_time": 2.560323417,
             "remaining_time": 34.0157254,
             "test": [
              0.5219075197
             ]
            },
            {
             "iteration": 7,
             "learn": [
              0.503489193
             ],
             "passed_time": 2.885142095,
             "remaining_time": 33.1791341,
             "test": [
              0.5022263078
             ]
            },
            {
             "iteration": 8,
             "learn": [
              0.4840503335
             ],
             "passed_time": 3.23370424,
             "remaining_time": 32.69634287,
             "test": [
              0.4835081335
             ]
            },
            {
             "iteration": 9,
             "learn": [
              0.4662948781
             ],
             "passed_time": 3.543880311,
             "remaining_time": 31.8949228,
             "test": [
              0.4659622275
             ]
            },
            {
             "iteration": 10,
             "learn": [
              0.45027938
             ],
             "passed_time": 3.896241346,
             "remaining_time": 31.52413453,
             "test": [
              0.4490045891
             ]
            },
            {
             "iteration": 11,
             "learn": [
              0.4342943733
             ],
             "passed_time": 4.277651611,
             "remaining_time": 31.36944515,
             "test": [
              0.4329911691
             ]
            },
            {
             "iteration": 12,
             "learn": [
              0.4189112001
             ],
             "passed_time": 4.64430669,
             "remaining_time": 31.08112938,
             "test": [
              0.417523962
             ]
            },
            {
             "iteration": 13,
             "learn": [
              0.4040747068
             ],
             "passed_time": 5.024845576,
             "remaining_time": 30.86690854,
             "test": [
              0.4027843541
             ]
            },
            {
             "iteration": 14,
             "learn": [
              0.3894805728
             ],
             "passed_time": 5.363520334,
             "remaining_time": 30.39328189,
             "test": [
              0.388651421
             ]
            },
            {
             "iteration": 15,
             "learn": [
              0.37542292
             ],
             "passed_time": 5.73334514,
             "remaining_time": 30.10006198,
             "test": [
              0.3751457035
             ]
            },
            {
             "iteration": 16,
             "learn": [
              0.3631877873
             ],
             "passed_time": 6.10563413,
             "remaining_time": 29.80986075,
             "test": [
              0.3621962688
             ]
            },
            {
             "iteration": 17,
             "learn": [
              0.3510247033
             ],
             "passed_time": 6.422758198,
             "remaining_time": 29.25923179,
             "test": [
              0.3499206015
             ]
            },
            {
             "iteration": 18,
             "learn": [
              0.338912725
             ],
             "passed_time": 6.779710963,
             "remaining_time": 28.90297831,
             "test": [
              0.3380377619
             ]
            },
            {
             "iteration": 19,
             "learn": [
              0.3280412331
             ],
             "passed_time": 7.147036154,
             "remaining_time": 28.58814461,
             "test": [
              0.3266512171
             ]
            },
            {
             "iteration": 20,
             "learn": [
              0.3169168285
             ],
             "passed_time": 7.472188832,
             "remaining_time": 28.10966275,
             "test": [
              0.3159130161
             ]
            },
            {
             "iteration": 21,
             "learn": [
              0.3061754435
             ],
             "passed_time": 7.807287079,
             "remaining_time": 27.68038146,
             "test": [
              0.3054200991
             ]
            },
            {
             "iteration": 22,
             "learn": [
              0.2970348077
             ],
             "passed_time": 8.16055746,
             "remaining_time": 27.32012715,
             "test": [
              0.2953026366
             ]
            },
            {
             "iteration": 23,
             "learn": [
              0.2869337843
             ],
             "passed_time": 8.594632865,
             "remaining_time": 27.21633741,
             "test": [
              0.2856371103
             ]
            },
            {
             "iteration": 24,
             "learn": [
              0.2777943052
             ],
             "passed_time": 8.94195396,
             "remaining_time": 26.82586188,
             "test": [
              0.2762906778
             ]
            },
            {
             "iteration": 25,
             "learn": [
              0.2683589498
             ],
             "passed_time": 9.29158323,
             "remaining_time": 26.44527535,
             "test": [
              0.267371769
             ]
            },
            {
             "iteration": 26,
             "learn": [
              0.2600184851
             ],
             "passed_time": 9.644321725,
             "remaining_time": 26.07538837,
             "test": [
              0.2587817532
             ]
            },
            {
             "iteration": 27,
             "learn": [
              0.2518977411
             ],
             "passed_time": 9.988529924,
             "remaining_time": 25.68479123,
             "test": [
              0.2504302298
             ]
            },
            {
             "iteration": 28,
             "learn": [
              0.2440908413
             ],
             "passed_time": 10.31539864,
             "remaining_time": 25.25494151,
             "test": [
              0.2424953635
             ]
            },
            {
             "iteration": 29,
             "learn": [
              0.2364117206
             ],
             "passed_time": 10.67570833,
             "remaining_time": 24.90998611,
             "test": [
              0.2348405685
             ]
            },
            {
             "iteration": 30,
             "learn": [
              0.2289705662
             ],
             "passed_time": 11.07604829,
             "remaining_time": 24.65313974,
             "test": [
              0.2274610827
             ]
            },
            {
             "iteration": 31,
             "learn": [
              0.2218829949
             ],
             "passed_time": 11.40131965,
             "remaining_time": 24.22780426,
             "test": [
              0.220478728
             ]
            },
            {
             "iteration": 32,
             "learn": [
              0.2152057077
             ],
             "passed_time": 11.72151963,
             "remaining_time": 23.79823682,
             "test": [
              0.2136393009
             ]
            },
            {
             "iteration": 33,
             "learn": [
              0.2088447965
             ],
             "passed_time": 12.09908333,
             "remaining_time": 23.48645587,
             "test": [
              0.2070586934
             ]
            },
            {
             "iteration": 34,
             "learn": [
              0.2023439051
             ],
             "passed_time": 12.40406317,
             "remaining_time": 23.03611731,
             "test": [
              0.2007976305
             ]
            },
            {
             "iteration": 35,
             "learn": [
              0.1963531073
             ],
             "passed_time": 12.70705639,
             "remaining_time": 22.59032247,
             "test": [
              0.1948210772
             ]
            },
            {
             "iteration": 36,
             "learn": [
              0.1905830489
             ],
             "passed_time": 13.02660216,
             "remaining_time": 22.1804307,
             "test": [
              0.1890624337
             ]
            },
            {
             "iteration": 37,
             "learn": [
              0.1849655396
             ],
             "passed_time": 13.46008752,
             "remaining_time": 21.96119544,
             "test": [
              0.1834116233
             ]
            },
            {
             "iteration": 38,
             "learn": [
              0.1795157572
             ],
             "passed_time": 13.90464766,
             "remaining_time": 21.74829505,
             "test": [
              0.1780130344
             ]
            },
            {
             "iteration": 39,
             "learn": [
              0.1743403923
             ],
             "passed_time": 14.48503093,
             "remaining_time": 21.72754639,
             "test": [
              0.1725953682
             ]
            },
            {
             "iteration": 40,
             "learn": [
              0.1692381836
             ],
             "passed_time": 14.86226596,
             "remaining_time": 21.38716321,
             "test": [
              0.1675346391
             ]
            },
            {
             "iteration": 41,
             "learn": [
              0.1642275834
             ],
             "passed_time": 15.17599614,
             "remaining_time": 20.95732801,
             "test": [
              0.1625122844
             ]
            },
            {
             "iteration": 42,
             "learn": [
              0.1596710423
             ],
             "passed_time": 15.48626618,
             "remaining_time": 20.52830633,
             "test": [
              0.1578378113
             ]
            },
            {
             "iteration": 43,
             "learn": [
              0.1549632346
             ],
             "passed_time": 15.85797532,
             "remaining_time": 20.18287768,
             "test": [
              0.1531352191
             ]
            },
            {
             "iteration": 44,
             "learn": [
              0.1504339056
             ],
             "passed_time": 16.2683971,
             "remaining_time": 19.88359645,
             "test": [
              0.1485200933
             ]
            },
            {
             "iteration": 45,
             "learn": [
              0.1459431704
             ],
             "passed_time": 16.62082785,
             "remaining_time": 19.51140661,
             "test": [
              0.1441634317
             ]
            },
            {
             "iteration": 46,
             "learn": [
              0.1417331844
             ],
             "passed_time": 17.01644937,
             "remaining_time": 19.18876205,
             "test": [
              0.1398876421
             ]
            },
            {
             "iteration": 47,
             "learn": [
              0.1376956413
             ],
             "passed_time": 17.3841544,
             "remaining_time": 18.83283393,
             "test": [
              0.1357991747
             ]
            },
            {
             "iteration": 48,
             "learn": [
              0.1337584071
             ],
             "passed_time": 17.78726592,
             "remaining_time": 18.51327678,
             "test": [
              0.1317842717
             ]
            },
            {
             "iteration": 49,
             "learn": [
              0.1300346706
             ],
             "passed_time": 18.09002956,
             "remaining_time": 18.09002956,
             "test": [
              0.1282071889
             ]
            },
            {
             "iteration": 50,
             "learn": [
              0.1262922878
             ],
             "passed_time": 18.50989136,
             "remaining_time": 17.78401327,
             "test": [
              0.1244634025
             ]
            },
            {
             "iteration": 51,
             "learn": [
              0.1227332005
             ],
             "passed_time": 18.87250739,
             "remaining_time": 17.42077605,
             "test": [
              0.1208360208
             ]
            },
            {
             "iteration": 52,
             "learn": [
              0.1193190779
             ],
             "passed_time": 19.26104643,
             "remaining_time": 17.08055061,
             "test": [
              0.1173691087
             ]
            },
            {
             "iteration": 53,
             "learn": [
              0.1158865193
             ],
             "passed_time": 19.66831987,
             "remaining_time": 16.75449471,
             "test": [
              0.1139969419
             ]
            },
            {
             "iteration": 54,
             "learn": [
              0.1127201576
             ],
             "passed_time": 20.02887324,
             "remaining_time": 16.38725992,
             "test": [
              0.1107779488
             ]
            },
            {
             "iteration": 55,
             "learn": [
              0.1096390021
             ],
             "passed_time": 20.4412639,
             "remaining_time": 16.06099307,
             "test": [
              0.1076438263
             ]
            },
            {
             "iteration": 56,
             "learn": [
              0.1065327521
             ],
             "passed_time": 20.85122799,
             "remaining_time": 15.72987375,
             "test": [
              0.1045551604
             ]
            },
            {
             "iteration": 57,
             "learn": [
              0.1037384308
             ],
             "passed_time": 21.22982096,
             "remaining_time": 15.37331863,
             "test": [
              0.1018289997
             ]
            },
            {
             "iteration": 58,
             "learn": [
              0.1009105742
             ],
             "passed_time": 21.65558778,
             "remaining_time": 15.04879829,
             "test": [
              0.09893754497
             ]
            },
            {
             "iteration": 59,
             "learn": [
              0.09816428569
             ],
             "passed_time": 22.06562128,
             "remaining_time": 14.71041419,
             "test": [
              0.09618042057
             ]
            },
            {
             "iteration": 60,
             "learn": [
              0.0955791957
             ],
             "passed_time": 22.39745221,
             "remaining_time": 14.31968256,
             "test": [
              0.09359665186
             ]
            },
            {
             "iteration": 61,
             "learn": [
              0.09297118629
             ],
             "passed_time": 22.79978178,
             "remaining_time": 13.9740598,
             "test": [
              0.09101843806
             ]
            },
            {
             "iteration": 62,
             "learn": [
              0.0904166548
             ],
             "passed_time": 23.18202372,
             "remaining_time": 13.61483933,
             "test": [
              0.08858957343
             ]
            },
            {
             "iteration": 63,
             "learn": [
              0.08804689908
             ],
             "passed_time": 23.49642603,
             "remaining_time": 13.21673964,
             "test": [
              0.08620932322
             ]
            },
            {
             "iteration": 64,
             "learn": [
              0.08577435053
             ],
             "passed_time": 23.8195197,
             "remaining_time": 12.82589522,
             "test": [
              0.083912471
             ]
            },
            {
             "iteration": 65,
             "learn": [
              0.08358342864
             ],
             "passed_time": 24.2384903,
             "remaining_time": 12.486495,
             "test": [
              0.08169175601
             ]
            },
            {
             "iteration": 66,
             "learn": [
              0.08144123663
             ],
             "passed_time": 24.61999323,
             "remaining_time": 12.12626532,
             "test": [
              0.07963597289
             ]
            },
            {
             "iteration": 67,
             "learn": [
              0.07928589694
             ],
             "passed_time": 25.02711631,
             "remaining_time": 11.7774665,
             "test": [
              0.07745636821
             ]
            },
            {
             "iteration": 68,
             "learn": [
              0.07729845771
             ],
             "passed_time": 25.40154271,
             "remaining_time": 11.4122873,
             "test": [
              0.07553326288
             ]
            },
            {
             "iteration": 69,
             "learn": [
              0.07528771637
             ],
             "passed_time": 25.79482707,
             "remaining_time": 11.05492589,
             "test": [
              0.07360396648
             ]
            },
            {
             "iteration": 70,
             "learn": [
              0.07337312092
             ],
             "passed_time": 26.15886937,
             "remaining_time": 10.68460862,
             "test": [
              0.07162626388
             ]
            },
            {
             "iteration": 71,
             "learn": [
              0.07154752827
             ],
             "passed_time": 26.54869614,
             "remaining_time": 10.32449294,
             "test": [
              0.06978058848
             ]
            },
            {
             "iteration": 72,
             "learn": [
              0.069760922
             ],
             "passed_time": 26.93068124,
             "remaining_time": 9.960662924,
             "test": [
              0.06812644324
             ]
            },
            {
             "iteration": 73,
             "learn": [
              0.06795637915
             ],
             "passed_time": 27.35253305,
             "remaining_time": 9.610349451,
             "test": [
              0.06632224752
             ]
            },
            {
             "iteration": 74,
             "learn": [
              0.06623925215
             ],
             "passed_time": 27.73589619,
             "remaining_time": 9.245298729,
             "test": [
              0.06454777579
             ]
            },
            {
             "iteration": 75,
             "learn": [
              0.06453587082
             ],
             "passed_time": 28.11362411,
             "remaining_time": 8.877986562,
             "test": [
              0.06287951954
             ]
            },
            {
             "iteration": 76,
             "learn": [
              0.0629737973
             ],
             "passed_time": 28.50068046,
             "remaining_time": 8.513190267,
             "test": [
              0.0613030837
             ]
            },
            {
             "iteration": 77,
             "learn": [
              0.06134160376
             ],
             "passed_time": 28.8912215,
             "remaining_time": 8.148806064,
             "test": [
              0.05974754134
             ]
            },
            {
             "iteration": 78,
             "learn": [
              0.0597885215
             ],
             "passed_time": 29.26824717,
             "remaining_time": 7.780166969,
             "test": [
              0.05816160187
             ]
            },
            {
             "iteration": 79,
             "learn": [
              0.05838616701
             ],
             "passed_time": 29.6347065,
             "remaining_time": 7.408676624,
             "test": [
              0.05686772253
             ]
            },
            {
             "iteration": 80,
             "learn": [
              0.057015471
             ],
             "passed_time": 29.9876309,
             "remaining_time": 7.034135642,
             "test": [
              0.05548747747
             ]
            },
            {
             "iteration": 81,
             "learn": [
              0.0556009767
             ],
             "passed_time": 30.45732404,
             "remaining_time": 6.685754058,
             "test": [
              0.05413017752
             ]
            },
            {
             "iteration": 82,
             "learn": [
              0.05422388342
             ],
             "passed_time": 30.84378401,
             "remaining_time": 6.317401545,
             "test": [
              0.05277936232
             ]
            },
            {
             "iteration": 83,
             "learn": [
              0.05286657744
             ],
             "passed_time": 31.24614312,
             "remaining_time": 5.951646309,
             "test": [
              0.05137403684
             ]
            },
            {
             "iteration": 84,
             "learn": [
              0.05165068514
             ],
             "passed_time": 31.55996503,
             "remaining_time": 5.569405594,
             "test": [
              0.05019382362
             ]
            },
            {
             "iteration": 85,
             "learn": [
              0.05050140613
             ],
             "passed_time": 31.86908944,
             "remaining_time": 5.187991304,
             "test": [
              0.04906881233
             ]
            },
            {
             "iteration": 86,
             "learn": [
              0.04939550722
             ],
             "passed_time": 32.15287194,
             "remaining_time": 4.80445213,
             "test": [
              0.04802913346
             ]
            },
            {
             "iteration": 87,
             "learn": [
              0.04824662159
             ],
             "passed_time": 32.52683724,
             "remaining_time": 4.435477806,
             "test": [
              0.04693679139
             ]
            },
            {
             "iteration": 88,
             "learn": [
              0.04715785272
             ],
             "passed_time": 32.94308077,
             "remaining_time": 4.071616725,
             "test": [
              0.04574456027
             ]
            },
            {
             "iteration": 89,
             "learn": [
              0.04601142977
             ],
             "passed_time": 33.32790473,
             "remaining_time": 3.703100525,
             "test": [
              0.04473411552
             ]
            },
            {
             "iteration": 90,
             "learn": [
              0.04489751546
             ],
             "passed_time": 33.73467273,
             "remaining_time": 3.336396204,
             "test": [
              0.04370505397
             ]
            },
            {
             "iteration": 91,
             "learn": [
              0.04390724997
             ],
             "passed_time": 34.15682828,
             "remaining_time": 2.970158981,
             "test": [
              0.0426099299
             ]
            },
            {
             "iteration": 92,
             "learn": [
              0.04290165746
             ],
             "passed_time": 34.52937401,
             "remaining_time": 2.598985141,
             "test": [
              0.04164091564
             ]
            },
            {
             "iteration": 93,
             "learn": [
              0.04198686676
             ],
             "passed_time": 34.93796368,
             "remaining_time": 2.230082788,
             "test": [
              0.04068842088
             ]
            },
            {
             "iteration": 94,
             "learn": [
              0.04104446549
             ],
             "passed_time": 35.31088844,
             "remaining_time": 1.858467812,
             "test": [
              0.0397821856
             ]
            },
            {
             "iteration": 95,
             "learn": [
              0.04009390587
             ],
             "passed_time": 35.67305487,
             "remaining_time": 1.486377286,
             "test": [
              0.03878777708
             ]
            },
            {
             "iteration": 96,
             "learn": [
              0.03923593872
             ],
             "passed_time": 36.01202542,
             "remaining_time": 1.113773982,
             "test": [
              0.03796464318
             ]
            },
            {
             "iteration": 97,
             "learn": [
              0.03834572163
             ],
             "passed_time": 36.40017527,
             "remaining_time": 0.7428607199,
             "test": [
              0.03703949486
             ]
            },
            {
             "iteration": 98,
             "learn": [
              0.03754808383
             ],
             "passed_time": 36.74376046,
             "remaining_time": 0.3711490955,
             "test": [
              0.03628155963
             ]
            },
            {
             "iteration": 99,
             "learn": [
              0.03668863644
             ],
             "passed_time": 37.16208261,
             "remaining_time": 0,
             "test": [
              0.035438834
             ]
            }
           ],
           "meta": {
            "iteration_count": 100,
            "launch_mode": "Train",
            "learn_metrics": [
             {
              "best_value": "Min",
              "name": "CrossEntropy"
             }
            ],
            "learn_sets": [
             "learn"
            ],
            "name": "experiment",
            "parameters": "",
            "test_metrics": [
             {
              "best_value": "Min",
              "name": "CrossEntropy"
             }
            ],
            "test_sets": [
             "test"
            ]
           }
          },
          "passed_iterations": 99,
          "total_iterations": 100
         },
         "name": "catboost_info",
         "path": "catboost_info"
        }
       },
       "layout": "IPY_MODEL_4f0e9388cc9747a09a7a9df386b1108f"
      }
     },
     "64d2a346216343f39d12646d02ae3008": {
      "model_module": "catboost-widget",
      "model_module_version": "^1.0.0",
      "model_name": "CatboostWidgetModel",
      "state": {
       "_dom_classes": [],
       "_model_module": "catboost-widget",
       "_model_module_version": "^1.0.0",
       "_model_name": "CatboostWidgetModel",
       "_view_count": null,
       "_view_module": "catboost-widget",
       "_view_module_version": "^1.0.0",
       "_view_name": "CatboostWidgetView",
       "data": {
        "catboost_info": {
         "content": {
          "data": {
           "iterations": [
            {
             "iteration": 0,
             "learn": [
              0.6613807389
             ],
             "passed_time": 0.4196083442,
             "remaining_time": 41.54122607,
             "test": [
              0.6635993977
             ]
            },
            {
             "iteration": 1,
             "learn": [
              0.6362967587
             ],
             "passed_time": 0.9504226158,
             "remaining_time": 46.57070817,
             "test": [
              0.6357748966
             ]
            },
            {
             "iteration": 2,
             "learn": [
              0.6093784697
             ],
             "passed_time": 1.546963432,
             "remaining_time": 50.01848431,
             "test": [
              0.6095230203
             ]
            },
            {
             "iteration": 3,
             "learn": [
              0.5837186531
             ],
             "passed_time": 2.006092951,
             "remaining_time": 48.14623082,
             "test": [
              0.5847149447
             ]
            },
            {
             "iteration": 4,
             "learn": [
              0.5621945488
             ],
             "passed_time": 2.391537486,
             "remaining_time": 45.43921224,
             "test": [
              0.5612398052
             ]
            },
            {
             "iteration": 5,
             "learn": [
              0.5376862622
             ],
             "passed_time": 2.794764453,
             "remaining_time": 43.7846431,
             "test": [
              0.5389954175
             ]
            },
            {
             "iteration": 6,
             "learn": [
              0.5168852337
             ],
             "passed_time": 3.237784568,
             "remaining_time": 43.01628069,
             "test": [
              0.517889667
             ]
            },
            {
             "iteration": 7,
             "learn": [
              0.4986898107
             ],
             "passed_time": 3.638404941,
             "remaining_time": 41.84165682,
             "test": [
              0.4978421872
             ]
            },
            {
             "iteration": 8,
             "learn": [
              0.47852919
             ],
             "passed_time": 4.035478807,
             "remaining_time": 40.8031746,
             "test": [
              0.4787783559
             ]
            },
            {
             "iteration": 9,
             "learn": [
              0.4605835325
             ],
             "passed_time": 4.391263781,
             "remaining_time": 39.52137403,
             "test": [
              0.4606323926
             ]
            },
            {
             "iteration": 10,
             "learn": [
              0.4438433162
             ],
             "passed_time": 4.838460336,
             "remaining_time": 39.14754272,
             "test": [
              0.4433456985
             ]
            },
            {
             "iteration": 11,
             "learn": [
              0.4280573171
             ],
             "passed_time": 5.259689854,
             "remaining_time": 38.57105893,
             "test": [
              0.4268597582
             ]
            },
            {
             "iteration": 12,
             "learn": [
              0.4121196771
             ],
             "passed_time": 5.669568632,
             "remaining_time": 37.94249777,
             "test": [
              0.4111265373
             ]
            },
            {
             "iteration": 13,
             "learn": [
              0.3967833711
             ],
             "passed_time": 6.04127796,
             "remaining_time": 37.11070747,
             "test": [
              0.3961006276
             ]
            },
            {
             "iteration": 14,
             "learn": [
              0.3824007896
             ],
             "passed_time": 6.489614702,
             "remaining_time": 36.77448331,
             "test": [
              0.3817392439
             ]
            },
            {
             "iteration": 15,
             "learn": [
              0.3673405476
             ],
             "passed_time": 6.944937628,
             "remaining_time": 36.46092254,
             "test": [
              0.3680047796
             ]
            },
            {
             "iteration": 16,
             "learn": [
              0.3538837886
             ],
             "passed_time": 7.31574505,
             "remaining_time": 35.71804936,
             "test": [
              0.3548593925
             ]
            },
            {
             "iteration": 17,
             "learn": [
              0.3431811481
             ],
             "passed_time": 7.706189836,
             "remaining_time": 35.10597592,
             "test": [
              0.3422728606
             ]
            },
            {
             "iteration": 18,
             "learn": [
              0.3300924654
             ],
             "passed_time": 8.04070969,
             "remaining_time": 34.27881499,
             "test": [
              0.330212334
             ]
            },
            {
             "iteration": 19,
             "learn": [
              0.3196821859
             ],
             "passed_time": 8.550527517,
             "remaining_time": 34.20211007,
             "test": [
              0.3186512661
             ]
            },
            {
             "iteration": 20,
             "learn": [
              0.3069799073
             ],
             "passed_time": 8.937615091,
             "remaining_time": 33.62245677,
             "test": [
              0.3075619578
             ]
            },
            {
             "iteration": 21,
             "learn": [
              0.2968899959
             ],
             "passed_time": 9.380573286,
             "remaining_time": 33.2583962,
             "test": [
              0.2969210874
             ]
            },
            {
             "iteration": 22,
             "learn": [
              0.2867742657
             ],
             "passed_time": 9.811201304,
             "remaining_time": 32.84619567,
             "test": [
              0.2867059476
             ]
            },
            {
             "iteration": 23,
             "learn": [
              0.2765126246
             ],
             "passed_time": 10.21804572,
             "remaining_time": 32.35714479,
             "test": [
              0.2768968829
             ]
            },
            {
             "iteration": 24,
             "learn": [
              0.2664561684
             ],
             "passed_time": 10.60055886,
             "remaining_time": 31.80167657,
             "test": [
              0.2674696451
             ]
            },
            {
             "iteration": 25,
             "learn": [
              0.257989198
             ],
             "passed_time": 11.00915849,
             "remaining_time": 31.33375877,
             "test": [
              0.2584084338
             ]
            },
            {
             "iteration": 26,
             "learn": [
              0.2499728864
             ],
             "passed_time": 11.39924067,
             "remaining_time": 30.82016922,
             "test": [
              0.24969572
             ]
            },
            {
             "iteration": 27,
             "learn": [
              0.2419825384
             ],
             "passed_time": 11.78566844,
             "remaining_time": 30.30600456,
             "test": [
              0.2413142667
             ]
            },
            {
             "iteration": 28,
             "learn": [
              0.2336880933
             ],
             "passed_time": 12.20370065,
             "remaining_time": 29.87802574,
             "test": [
              0.2332501246
             ]
            },
            {
             "iteration": 29,
             "learn": [
              0.2258556557
             ],
             "passed_time": 12.63711644,
             "remaining_time": 29.48660502,
             "test": [
              0.2254876691
             ]
            },
            {
             "iteration": 30,
             "learn": [
              0.2185347609
             ],
             "passed_time": 13.06371431,
             "remaining_time": 29.0772996,
             "test": [
              0.2180140278
             ]
            },
            {
             "iteration": 31,
             "learn": [
              0.2109421394
             ],
             "passed_time": 13.43426235,
             "remaining_time": 28.54780749,
             "test": [
              0.2108156265
             ]
            },
            {
             "iteration": 32,
             "learn": [
              0.2033611986
             ],
             "passed_time": 13.92049558,
             "remaining_time": 28.26282435,
             "test": [
              0.2038807553
             ]
            },
            {
             "iteration": 33,
             "learn": [
              0.1964427189
             ],
             "passed_time": 14.36581523,
             "remaining_time": 27.88658251,
             "test": [
              0.1971989241
             ]
            },
            {
             "iteration": 34,
             "learn": [
              0.1911885927
             ],
             "passed_time": 14.80791564,
             "remaining_time": 27.50041475,
             "test": [
              0.1907577268
             ]
            },
            {
             "iteration": 35,
             "learn": [
              0.1839137306
             ],
             "passed_time": 15.16677909,
             "remaining_time": 26.96316282,
             "test": [
              0.1845477228
             ]
            },
            {
             "iteration": 36,
             "learn": [
              0.1787761215
             ],
             "passed_time": 15.55821333,
             "remaining_time": 26.49101189,
             "test": [
              0.1785596034
             ]
            },
            {
             "iteration": 37,
             "learn": [
              0.1722009769
             ],
             "passed_time": 15.92600973,
             "remaining_time": 25.98454218,
             "test": [
              0.1727829791
             ]
            },
            {
             "iteration": 38,
             "learn": [
              0.16768231
             ],
             "passed_time": 16.34941453,
             "remaining_time": 25.57216118,
             "test": [
              0.1672103393
             ]
            },
            {
             "iteration": 39,
             "learn": [
              0.1614371835
             ],
             "passed_time": 16.74081177,
             "remaining_time": 25.11121765,
             "test": [
              0.1618326336
             ]
            },
            {
             "iteration": 40,
             "learn": [
              0.1563415099
             ],
             "passed_time": 17.16336808,
             "remaining_time": 24.69850529,
             "test": [
              0.1566426588
             ]
            },
            {
             "iteration": 41,
             "learn": [
              0.1520302523
             ],
             "passed_time": 17.58057999,
             "remaining_time": 24.2779438,
             "test": [
              0.151632149
             ]
            },
            {
             "iteration": 42,
             "learn": [
              0.1470211108
             ],
             "passed_time": 18.00277878,
             "remaining_time": 23.86414862,
             "test": [
              0.1467946623
             ]
            },
            {
             "iteration": 43,
             "learn": [
              0.1418815339
             ],
             "passed_time": 18.41724532,
             "remaining_time": 23.4401304,
             "test": [
              0.1421231985
             ]
            },
            {
             "iteration": 44,
             "learn": [
              0.1371197064
             ],
             "passed_time": 18.85089194,
             "remaining_time": 23.03997904,
             "test": [
              0.1376110934
             ]
            },
            {
             "iteration": 45,
             "learn": [
              0.1329222751
             ],
             "passed_time": 19.29907519,
             "remaining_time": 22.65543609,
             "test": [
              0.1332520381
             ]
            },
            {
             "iteration": 46,
             "learn": [
              0.1289326703
             ],
             "passed_time": 19.69479835,
             "remaining_time": 22.20902792,
             "test": [
              0.1290406504
             ]
            },
            {
             "iteration": 47,
             "learn": [
              0.1250068211
             ],
             "passed_time": 20.21534286,
             "remaining_time": 21.89995477,
             "test": [
              0.124971753
             ]
            },
            {
             "iteration": 48,
             "learn": [
              0.12109766
             ],
             "passed_time": 20.64456242,
             "remaining_time": 21.48719762,
             "test": [
              0.121039142
             ]
            },
            {
             "iteration": 49,
             "learn": [
              0.1172106412
             ],
             "passed_time": 20.98368298,
             "remaining_time": 20.98368298,
             "test": [
              0.1172376354
             ]
            },
            {
             "iteration": 50,
             "learn": [
              0.1133351091
             ],
             "passed_time": 21.39037499,
             "remaining_time": 20.55153676,
             "test": [
              0.1135628504
             ]
            },
            {
             "iteration": 51,
             "learn": [
              0.1097718787
             ],
             "passed_time": 21.73605627,
             "remaining_time": 20.06405194,
             "test": [
              0.1100095227
             ]
            },
            {
             "iteration": 52,
             "learn": [
              0.1069437214
             ],
             "passed_time": 22.06839667,
             "remaining_time": 19.57008761,
             "test": [
              0.1065737214
             ]
            },
            {
             "iteration": 53,
             "learn": [
              0.103423762
             ],
             "passed_time": 22.40781622,
             "remaining_time": 19.08813974,
             "test": [
              0.1032509785
             ]
            },
            {
             "iteration": 54,
             "learn": [
              0.09974923876
             ],
             "passed_time": 22.86028455,
             "remaining_time": 18.70386918,
             "test": [
              0.1000379933
             ]
            },
            {
             "iteration": 55,
             "learn": [
              0.09715590163
             ],
             "passed_time": 23.27001178,
             "remaining_time": 18.28358068,
             "test": [
              0.09692994608
             ]
            },
            {
             "iteration": 56,
             "learn": [
              0.09378532125
             ],
             "passed_time": 23.69193914,
             "remaining_time": 17.87286637,
             "test": [
              0.09392264521
             ]
            },
            {
             "iteration": 57,
             "learn": [
              0.09124298793
             ],
             "passed_time": 24.14536438,
             "remaining_time": 17.48457421,
             "test": [
              0.09101355516
             ]
            },
            {
             "iteration": 58,
             "learn": [
              0.08796194266
             ],
             "passed_time": 24.55873385,
             "remaining_time": 17.06623878,
             "test": [
              0.08819850156
             ]
            },
            {
             "iteration": 59,
             "learn": [
              0.08549441469
             ],
             "passed_time": 24.98102727,
             "remaining_time": 16.65401818,
             "test": [
              0.08547503492
             ]
            },
            {
             "iteration": 60,
             "learn": [
              0.08259738784
             ],
             "passed_time": 25.4052337,
             "remaining_time": 16.2426904,
             "test": [
              0.08283859656
             ]
            },
            {
             "iteration": 61,
             "learn": [
              0.08012428081
             ],
             "passed_time": 25.81592064,
             "remaining_time": 15.82266103,
             "test": [
              0.08028724322
             ]
            },
            {
             "iteration": 62,
             "learn": [
              0.07799282484
             ],
             "passed_time": 26.20924372,
             "remaining_time": 15.39273044,
             "test": [
              0.07781774261
             ]
            },
            {
             "iteration": 63,
             "learn": [
              0.07551244004
             ],
             "passed_time": 26.60492924,
             "remaining_time": 14.9652727,
             "test": [
              0.07542739469
             ]
            },
            {
             "iteration": 64,
             "learn": [
              0.07298638909
             ],
             "passed_time": 27.04645857,
             "remaining_time": 14.56347769,
             "test": [
              0.07311306773
             ]
            },
            {
             "iteration": 65,
             "learn": [
              0.07059595667
             ],
             "passed_time": 27.46852154,
             "remaining_time": 14.15045049,
             "test": [
              0.07087211762
             ]
            },
            {
             "iteration": 66,
             "learn": [
              0.06847550126
             ],
             "passed_time": 27.90437775,
             "remaining_time": 13.74394725,
             "test": [
              0.06870247012
             ]
            },
            {
             "iteration": 67,
             "learn": [
              0.06645614821
             ],
             "passed_time": 28.25453308,
             "remaining_time": 13.29625086,
             "test": [
              0.06660147664
             ]
            },
            {
             "iteration": 68,
             "learn": [
              0.0644881538
             ],
             "passed_time": 28.670952,
             "remaining_time": 12.88115235,
             "test": [
              0.06456820001
             ]
            },
            {
             "iteration": 69,
             "learn": [
              0.06253459672
             ],
             "passed_time": 29.00387009,
             "remaining_time": 12.43023004,
             "test": [
              0.06259773283
             ]
            },
            {
             "iteration": 70,
             "learn": [
              0.06058648734
             ],
             "passed_time": 29.36187147,
             "remaining_time": 11.99287708,
             "test": [
              0.06068923837
             ]
            },
            {
             "iteration": 71,
             "learn": [
              0.05867745633
             ],
             "passed_time": 29.73994942,
             "remaining_time": 11.56553589,
             "test": [
              0.05884101939
             ]
            },
            {
             "iteration": 72,
             "learn": [
              0.05687060702
             ],
             "passed_time": 30.1325934,
             "remaining_time": 11.14493181,
             "test": [
              0.05705044514
             ]
            },
            {
             "iteration": 73,
             "learn": [
              0.05545482391
             ],
             "passed_time": 30.61766449,
             "remaining_time": 10.75755779,
             "test": [
              0.05531685039
             ]
            },
            {
             "iteration": 74,
             "learn": [
              0.05369833688
             ],
             "passed_time": 31.06051081,
             "remaining_time": 10.3535036,
             "test": [
              0.05363691773
             ]
            },
            {
             "iteration": 75,
             "learn": [
              0.05185064729
             ],
             "passed_time": 31.47805868,
             "remaining_time": 9.940439582,
             "test": [
              0.0520096972
             ]
            },
            {
             "iteration": 76,
             "learn": [
              0.0505558721
             ],
             "passed_time": 31.97163297,
             "remaining_time": 9.54996829,
             "test": [
              0.05043291166
             ]
            },
            {
             "iteration": 77,
             "learn": [
              0.04886482948
             ],
             "passed_time": 32.3718668,
             "remaining_time": 9.130526533,
             "test": [
              0.04890520969
             ]
            },
            {
             "iteration": 78,
             "learn": [
              0.04728932326
             ],
             "passed_time": 32.92261767,
             "remaining_time": 8.751581912,
             "test": [
              0.04742458821
             ]
            },
            {
             "iteration": 79,
             "learn": [
              0.04593736968
             ],
             "passed_time": 33.46598261,
             "remaining_time": 8.366495652,
             "test": [
              0.04599011787
             ]
            },
            {
             "iteration": 80,
             "learn": [
              0.044675274
             ],
             "passed_time": 33.94983848,
             "remaining_time": 7.963542359,
             "test": [
              0.04460035628
             ]
            },
            {
             "iteration": 81,
             "learn": [
              0.04309502656
             ],
             "passed_time": 34.31935979,
             "remaining_time": 7.533518003,
             "test": [
              0.04325304984
             ]
            },
            {
             "iteration": 82,
             "learn": [
              0.04198523991
             ],
             "passed_time": 34.68323598,
             "remaining_time": 7.103795322,
             "test": [
              0.04194758842
             ]
            },
            {
             "iteration": 83,
             "learn": [
              0.04074130756
             ],
             "passed_time": 35.04464012,
             "remaining_time": 6.675169547,
             "test": [
              0.04068216506
             ]
            },
            {
             "iteration": 84,
             "learn": [
              0.03937702694
             ],
             "passed_time": 35.42671516,
             "remaining_time": 6.251773264,
             "test": [
              0.03945560437
             ]
            },
            {
             "iteration": 85,
             "learn": [
              0.03815649037
             ],
             "passed_time": 35.90222015,
             "remaining_time": 5.844547466,
             "test": [
              0.03826729773
             ]
            },
            {
             "iteration": 86,
             "learn": [
              0.03713510526
             ],
             "passed_time": 36.24178058,
             "remaining_time": 5.415438478,
             "test": [
              0.0371153043
             ]
            },
            {
             "iteration": 87,
             "learn": [
              0.03608480362
             ],
             "passed_time": 36.67028841,
             "remaining_time": 5.000493874,
             "test": [
              0.03599890061
             ]
            },
            {
             "iteration": 88,
             "learn": [
              0.0349048667
             ],
             "passed_time": 37.06951222,
             "remaining_time": 4.581625106,
             "test": [
              0.0349164881
             ]
            },
            {
             "iteration": 89,
             "learn": [
              0.03385657427
             ],
             "passed_time": 37.51225054,
             "remaining_time": 4.168027838,
             "test": [
              0.03386756475
             ]
            },
            {
             "iteration": 90,
             "learn": [
              0.03284857181
             ],
             "passed_time": 37.88422884,
             "remaining_time": 3.746791864,
             "test": [
              0.03285058848
             ]
            },
            {
             "iteration": 91,
             "learn": [
              0.03185878358
             ],
             "passed_time": 38.31372708,
             "remaining_time": 3.331628442,
             "test": [
              0.03186483371
             ]
            },
            {
             "iteration": 92,
             "learn": [
              0.03088221698
             ],
             "passed_time": 38.73263087,
             "remaining_time": 2.915359313,
             "test": [
              0.03090881186
             ]
            },
            {
             "iteration": 93,
             "learn": [
              0.02994369622
             ],
             "passed_time": 39.19159258,
             "remaining_time": 2.501591016,
             "test": [
              0.02998213879
             ]
            },
            {
             "iteration": 94,
             "learn": [
              0.02902563217
             ],
             "passed_time": 39.64964586,
             "remaining_time": 2.086823466,
             "test": [
              0.0290839619
             ]
            },
            {
             "iteration": 95,
             "learn": [
              0.02826713523
             ],
             "passed_time": 40.09575846,
             "remaining_time": 1.670656603,
             "test": [
              0.02821289015
             ]
            },
            {
             "iteration": 96,
             "learn": [
              0.02738240452
             ],
             "passed_time": 40.51564367,
             "remaining_time": 1.253061144,
             "test": [
              0.02736829168
             ]
            },
            {
             "iteration": 97,
             "learn": [
              0.02647310959
             ],
             "passed_time": 40.94194568,
             "remaining_time": 0.8355499119,
             "test": [
              0.02655004779
             ]
            },
            {
             "iteration": 98,
             "learn": [
              0.02580696029
             ],
             "passed_time": 41.32165487,
             "remaining_time": 0.4173904533,
             "test": [
              0.02575566225
             ]
            },
            {
             "iteration": 99,
             "learn": [
              0.02495291302
             ],
             "passed_time": 41.72327589,
             "remaining_time": 0,
             "test": [
              0.02498561259
             ]
            }
           ],
           "meta": {
            "iteration_count": 100,
            "launch_mode": "Train",
            "learn_metrics": [
             {
              "best_value": "Min",
              "name": "CrossEntropy"
             }
            ],
            "learn_sets": [
             "learn"
            ],
            "name": "experiment",
            "parameters": "",
            "test_metrics": [
             {
              "best_value": "Min",
              "name": "CrossEntropy"
             }
            ],
            "test_sets": [
             "test"
            ]
           }
          },
          "passed_iterations": 99,
          "total_iterations": 100
         },
         "name": "catboost_info",
         "path": "catboost_info"
        }
       },
       "layout": "IPY_MODEL_f149b0fefa7a4f6ca21509bc46a0ffc3"
      }
     },
     "67cb431297664f3181a020a403901bbf": {
      "model_module": "@jupyter-widgets/base",
      "model_module_version": "1.2.0",
      "model_name": "LayoutModel",
      "state": {
       "_model_module": "@jupyter-widgets/base",
       "_model_module_version": "1.2.0",
       "_model_name": "LayoutModel",
       "_view_count": null,
       "_view_module": "@jupyter-widgets/base",
       "_view_module_version": "1.2.0",
       "_view_name": "LayoutView",
       "align_content": null,
       "align_items": null,
       "align_self": "stretch",
       "border": null,
       "bottom": null,
       "display": null,
       "flex": null,
       "flex_flow": null,
       "grid_area": null,
       "grid_auto_columns": null,
       "grid_auto_flow": null,
       "grid_auto_rows": null,
       "grid_column": null,
       "grid_gap": null,
       "grid_row": null,
       "grid_template_areas": null,
       "grid_template_columns": null,
       "grid_template_rows": null,
       "height": "500px",
       "justify_content": null,
       "justify_items": null,
       "left": null,
       "margin": null,
       "max_height": null,
       "max_width": null,
       "min_height": null,
       "min_width": null,
       "object_fit": null,
       "object_position": null,
       "order": null,
       "overflow": null,
       "overflow_x": null,
       "overflow_y": null,
       "padding": null,
       "right": null,
       "top": null,
       "visibility": null,
       "width": null
      }
     },
     "696525ca460c444b8a99f120ae9cebf2": {
      "model_module": "catboost-widget",
      "model_module_version": "^1.0.0",
      "model_name": "CatboostWidgetModel",
      "state": {
       "_dom_classes": [],
       "_model_module": "catboost-widget",
       "_model_module_version": "^1.0.0",
       "_model_name": "CatboostWidgetModel",
       "_view_count": null,
       "_view_module": "catboost-widget",
       "_view_module_version": "^1.0.0",
       "_view_name": "CatboostWidgetView",
       "data": {
        "catboost_info": {
         "content": {
          "data": {
           "iterations": [
            {
             "iteration": 0,
             "learn": [
              0.6635434334
             ],
             "passed_time": 0.3301361763,
             "remaining_time": 32.68348146,
             "test": [
              0.6646924329
             ]
            },
            {
             "iteration": 1,
             "learn": [
              0.6381572223
             ],
             "passed_time": 0.6537322677,
             "remaining_time": 32.03288112,
             "test": [
              0.6377698575
             ]
            },
            {
             "iteration": 2,
             "learn": [
              0.6117350203
             ],
             "passed_time": 0.9725695852,
             "remaining_time": 31.44641659,
             "test": [
              0.6122629588
             ]
            },
            {
             "iteration": 3,
             "learn": [
              0.5879780394
             ],
             "passed_time": 1.289264421,
             "remaining_time": 30.9423461,
             "test": [
              0.5882569229
             ]
            },
            {
             "iteration": 4,
             "learn": [
              0.5659790087
             ],
             "passed_time": 1.636480565,
             "remaining_time": 31.09313074,
             "test": [
              0.5652890384
             ]
            },
            {
             "iteration": 5,
             "learn": [
              0.5450899634
             ],
             "passed_time": 1.98520403,
             "remaining_time": 31.1015298,
             "test": [
              0.5435335059
             ]
            },
            {
             "iteration": 6,
             "learn": [
              0.523209533
             ],
             "passed_time": 2.310096412,
             "remaining_time": 30.6912809,
             "test": [
              0.5230183522
             ]
            },
            {
             "iteration": 7,
             "learn": [
              0.5051835756
             ],
             "passed_time": 2.632324807,
             "remaining_time": 30.27173528,
             "test": [
              0.5035164696
             ]
            },
            {
             "iteration": 8,
             "learn": [
              0.4854751459
             ],
             "passed_time": 2.97685576,
             "remaining_time": 30.09931935,
             "test": [
              0.4849430094
             ]
            },
            {
             "iteration": 9,
             "learn": [
              0.4685488806
             ],
             "passed_time": 3.36784636,
             "remaining_time": 30.31061724,
             "test": [
              0.4672730262
             ]
            },
            {
             "iteration": 10,
             "learn": [
              0.4525085689
             ],
             "passed_time": 3.68811486,
             "remaining_time": 29.84020205,
             "test": [
              0.4504557538
             ]
            },
            {
             "iteration": 11,
             "learn": [
              0.4371437828
             ],
             "passed_time": 4.005520007,
             "remaining_time": 29.37381338,
             "test": [
              0.4343542494
             ]
            },
            {
             "iteration": 12,
             "learn": [
              0.421996983
             ],
             "passed_time": 4.352037235,
             "remaining_time": 29.12517227,
             "test": [
              0.4189974779
             ]
            },
            {
             "iteration": 13,
             "learn": [
              0.4070146053
             ],
             "passed_time": 4.700469146,
             "remaining_time": 28.87431047,
             "test": [
              0.404246126
             ]
            },
            {
             "iteration": 14,
             "learn": [
              0.3922343242
             ],
             "passed_time": 5.015136178,
             "remaining_time": 28.41910501,
             "test": [
              0.3901385097
             ]
            },
            {
             "iteration": 15,
             "learn": [
              0.3787154064
             ],
             "passed_time": 5.355051169,
             "remaining_time": 28.11401864,
             "test": [
              0.3766765236
             ]
            },
            {
             "iteration": 16,
             "learn": [
              0.3666937123
             ],
             "passed_time": 5.701519666,
             "remaining_time": 27.83683131,
             "test": [
              0.363711708
             ]
            },
            {
             "iteration": 17,
             "learn": [
              0.354057568
             ],
             "passed_time": 6.017320848,
             "remaining_time": 27.41223942,
             "test": [
              0.3513376826
             ]
            },
            {
             "iteration": 18,
             "learn": [
              0.3428276145
             ],
             "passed_time": 6.362029418,
             "remaining_time": 27.12233594,
             "test": [
              0.3395831068
             ]
            },
            {
             "iteration": 19,
             "learn": [
              0.3313456346
             ],
             "passed_time": 6.680016739,
             "remaining_time": 26.72006696,
             "test": [
              0.3283269522
             ]
            },
            {
             "iteration": 20,
             "learn": [
              0.320909773
             ],
             "passed_time": 7.000532109,
             "remaining_time": 26.33533508,
             "test": [
              0.3174539068
             ]
            },
            {
             "iteration": 21,
             "learn": [
              0.3100918647
             ],
             "passed_time": 7.329857389,
             "remaining_time": 25.9876762,
             "test": [
              0.3071648028
             ]
            },
            {
             "iteration": 22,
             "learn": [
              0.3011421668
             ],
             "passed_time": 7.678407242,
             "remaining_time": 25.70597207,
             "test": [
              0.2975915777
             ]
            },
            {
             "iteration": 23,
             "learn": [
              0.2913700942
             ],
             "passed_time": 8.022741235,
             "remaining_time": 25.40534724,
             "test": [
              0.2879976113
             ]
            },
            {
             "iteration": 24,
             "learn": [
              0.2819014154
             ],
             "passed_time": 8.341764364,
             "remaining_time": 25.02529309,
             "test": [
              0.2787045577
             ]
            },
            {
             "iteration": 25,
             "learn": [
              0.2734150596
             ],
             "passed_time": 8.639393328,
             "remaining_time": 24.58904255,
             "test": [
              0.2698644466
             ]
            },
            {
             "iteration": 26,
             "learn": [
              0.2645515916
             ],
             "passed_time": 8.965588885,
             "remaining_time": 24.24029587,
             "test": [
              0.2615146371
             ]
            },
            {
             "iteration": 27,
             "learn": [
              0.2566066122
             ],
             "passed_time": 9.299973775,
             "remaining_time": 23.91421828,
             "test": [
              0.253508468
             ]
            },
            {
             "iteration": 28,
             "learn": [
              0.248873008
             ],
             "passed_time": 9.639536505,
             "remaining_time": 23.60024455,
             "test": [
              0.2457940942
             ]
            },
            {
             "iteration": 29,
             "learn": [
              0.2414419305
             ],
             "passed_time": 9.96836104,
             "remaining_time": 23.25950909,
             "test": [
              0.2383563699
             ]
            },
            {
             "iteration": 30,
             "learn": [
              0.2340550989
             ],
             "passed_time": 10.31857729,
             "remaining_time": 22.96715591,
             "test": [
              0.2309116499
             ]
            },
            {
             "iteration": 31,
             "learn": [
              0.2274476038
             ],
             "passed_time": 10.6536225,
             "remaining_time": 22.63894781,
             "test": [
              0.2240495058
             ]
            },
            {
             "iteration": 32,
             "learn": [
              0.2207369962
             ],
             "passed_time": 10.9966767,
             "remaining_time": 22.32658603,
             "test": [
              0.2174125825
             ]
            },
            {
             "iteration": 33,
             "learn": [
              0.2143427992
             ],
             "passed_time": 11.3257991,
             "remaining_time": 21.98537473,
             "test": [
              0.2110391373
             ]
            },
            {
             "iteration": 34,
             "learn": [
              0.2078819065
             ],
             "passed_time": 11.65953653,
             "remaining_time": 21.65342498,
             "test": [
              0.2048133788
             ]
            },
            {
             "iteration": 35,
             "learn": [
              0.2021081249
             ],
             "passed_time": 11.96681103,
             "remaining_time": 21.27433072,
             "test": [
              0.1988316926
             ]
            },
            {
             "iteration": 36,
             "learn": [
              0.1961761933
             ],
             "passed_time": 12.30758973,
             "remaining_time": 20.9561663,
             "test": [
              0.193024267
             ]
            },
            {
             "iteration": 37,
             "learn": [
              0.1907176563
             ],
             "passed_time": 12.644271,
             "remaining_time": 20.63012637,
             "test": [
              0.1874325184
             ]
            },
            {
             "iteration": 38,
             "learn": [
              0.1852622253
             ],
             "passed_time": 13.00387501,
             "remaining_time": 20.33939424,
             "test": [
              0.1823135699
             ]
            },
            {
             "iteration": 39,
             "learn": [
              0.1803062624
             ],
             "passed_time": 13.32498102,
             "remaining_time": 19.98747153,
             "test": [
              0.1768118114
             ]
            },
            {
             "iteration": 40,
             "learn": [
              0.175145887
             ],
             "passed_time": 13.78242526,
             "remaining_time": 19.8332461,
             "test": [
              0.1717868068
             ]
            },
            {
             "iteration": 41,
             "learn": [
              0.1700867536
             ],
             "passed_time": 14.257292,
             "remaining_time": 19.68864134,
             "test": [
              0.1668730055
             ]
            },
            {
             "iteration": 42,
             "learn": [
              0.1655697526
             ],
             "passed_time": 14.72850456,
             "remaining_time": 19.52383162,
             "test": [
              0.1619968897
             ]
            },
            {
             "iteration": 43,
             "learn": [
              0.1611183104
             ],
             "passed_time": 15.14066959,
             "remaining_time": 19.26994312,
             "test": [
              0.1576935564
             ]
            },
            {
             "iteration": 44,
             "learn": [
              0.1567429223
             ],
             "passed_time": 15.49370702,
             "remaining_time": 18.93675302,
             "test": [
              0.1535472974
             ]
            },
            {
             "iteration": 45,
             "learn": [
              0.1525394709
             ],
             "passed_time": 15.82690777,
             "remaining_time": 18.57941347,
             "test": [
              0.1492988031
             ]
            },
            {
             "iteration": 46,
             "learn": [
              0.1482706016
             ],
             "passed_time": 16.14876368,
             "remaining_time": 18.21030798,
             "test": [
              0.145126635
             ]
            },
            {
             "iteration": 47,
             "learn": [
              0.1442154867
             ],
             "passed_time": 16.48644591,
             "remaining_time": 17.8603164,
             "test": [
              0.1409685831
             ]
            },
            {
             "iteration": 48,
             "learn": [
              0.1404392211
             ],
             "passed_time": 16.81628733,
             "remaining_time": 17.50266641,
             "test": [
              0.137122275
             ]
            },
            {
             "iteration": 49,
             "learn": [
              0.1368988814
             ],
             "passed_time": 17.17388439,
             "remaining_time": 17.17388439,
             "test": [
              0.1336447555
             ]
            },
            {
             "iteration": 50,
             "learn": [
              0.1333091984
             ],
             "passed_time": 17.47434394,
             "remaining_time": 16.78907555,
             "test": [
              0.1299028367
             ]
            },
            {
             "iteration": 51,
             "learn": [
              0.1297416044
             ],
             "passed_time": 17.8239956,
             "remaining_time": 16.45291902,
             "test": [
              0.1261594824
             ]
            },
            {
             "iteration": 52,
             "learn": [
              0.1263810808
             ],
             "passed_time": 18.17383375,
             "remaining_time": 16.11641861,
             "test": [
              0.1230157816
             ]
            },
            {
             "iteration": 53,
             "learn": [
              0.1230851046
             ],
             "passed_time": 18.54366379,
             "remaining_time": 15.79645434,
             "test": [
              0.1195695372
             ]
            },
            {
             "iteration": 54,
             "learn": [
              0.1201427427
             ],
             "passed_time": 18.89810221,
             "remaining_time": 15.46208362,
             "test": [
              0.1166337835
             ]
            },
            {
             "iteration": 55,
             "learn": [
              0.1171055229
             ],
             "passed_time": 19.25450872,
             "remaining_time": 15.12854256,
             "test": [
              0.1137057551
             ]
            },
            {
             "iteration": 56,
             "learn": [
              0.1140230596
             ],
             "passed_time": 19.57905441,
             "remaining_time": 14.77016386,
             "test": [
              0.110489149
             ]
            },
            {
             "iteration": 57,
             "learn": [
              0.1111567632
             ],
             "passed_time": 19.93737109,
             "remaining_time": 14.43740665,
             "test": [
              0.1078347597
             ]
            },
            {
             "iteration": 58,
             "learn": [
              0.1085282621
             ],
             "passed_time": 20.2880577,
             "remaining_time": 14.09848077,
             "test": [
              0.1051843313
             ]
            },
            {
             "iteration": 59,
             "learn": [
              0.1058823551
             ],
             "passed_time": 20.6347946,
             "remaining_time": 13.75652973,
             "test": [
              0.102467828
             ]
            },
            {
             "iteration": 60,
             "learn": [
              0.1034247757
             ],
             "passed_time": 20.99218413,
             "remaining_time": 13.42123248,
             "test": [
              0.1000739036
             ]
            },
            {
             "iteration": 61,
             "learn": [
              0.1007356117
             ],
             "passed_time": 21.32256241,
             "remaining_time": 13.06866728,
             "test": [
              0.097444276
             ]
            },
            {
             "iteration": 62,
             "learn": [
              0.09825996966
             ],
             "passed_time": 21.67665228,
             "remaining_time": 12.73073229,
             "test": [
              0.09477101015
             ]
            },
            {
             "iteration": 63,
             "learn": [
              0.09574130618
             ],
             "passed_time": 21.9898451,
             "remaining_time": 12.36928787,
             "test": [
              0.09232615952
             ]
            },
            {
             "iteration": 64,
             "learn": [
              0.0934680839
             ],
             "passed_time": 22.32429898,
             "remaining_time": 12.02077638,
             "test": [
              0.08991567457
             ]
            },
            {
             "iteration": 65,
             "learn": [
              0.09119848145
             ],
             "passed_time": 22.66417555,
             "remaining_time": 11.67548438,
             "test": [
              0.08760555278
             ]
            },
            {
             "iteration": 66,
             "learn": [
              0.08888493413
             ],
             "passed_time": 22.99010222,
             "remaining_time": 11.32348318,
             "test": [
              0.08533928942
             ]
            },
            {
             "iteration": 67,
             "learn": [
              0.08677776572
             ],
             "passed_time": 23.28541348,
             "remaining_time": 10.95784164,
             "test": [
              0.08311421228
             ]
            },
            {
             "iteration": 68,
             "learn": [
              0.08467144985
             ],
             "passed_time": 23.62160462,
             "remaining_time": 10.61260498,
             "test": [
              0.08102754114
             ]
            },
            {
             "iteration": 69,
             "learn": [
              0.08265275355
             ],
             "passed_time": 24.00171301,
             "remaining_time": 10.28644843,
             "test": [
              0.07898747266
             ]
            },
            {
             "iteration": 70,
             "learn": [
              0.08063031482
             ],
             "passed_time": 24.34468361,
             "remaining_time": 9.943603166,
             "test": [
              0.0769382726
             ]
            },
            {
             "iteration": 71,
             "learn": [
              0.07869700213
             ],
             "passed_time": 24.69706925,
             "remaining_time": 9.604415819,
             "test": [
              0.07493950904
             ]
            },
            {
             "iteration": 72,
             "learn": [
              0.07687087852
             ],
             "passed_time": 25.00389964,
             "remaining_time": 9.248017676,
             "test": [
              0.07303726193
             ]
            },
            {
             "iteration": 73,
             "learn": [
              0.07505007516
             ],
             "passed_time": 25.33036743,
             "remaining_time": 8.899858828,
             "test": [
              0.07119206422
             ]
            },
            {
             "iteration": 74,
             "learn": [
              0.07301666393
             ],
             "passed_time": 25.73660543,
             "remaining_time": 8.578868476,
             "test": [
              0.06918367261
             ]
            },
            {
             "iteration": 75,
             "learn": [
              0.07132711331
             ],
             "passed_time": 26.08767933,
             "remaining_time": 8.238214526,
             "test": [
              0.0674333292
             ]
            },
            {
             "iteration": 76,
             "learn": [
              0.06948376442
             ],
             "passed_time": 26.45257471,
             "remaining_time": 7.901418421,
             "test": [
              0.06575455193
             ]
            },
            {
             "iteration": 77,
             "learn": [
              0.06778794057
             ],
             "passed_time": 26.81917169,
             "remaining_time": 7.564381758,
             "test": [
              0.06405560276
             ]
            },
            {
             "iteration": 78,
             "learn": [
              0.06606084599
             ],
             "passed_time": 27.22083419,
             "remaining_time": 7.23591795,
             "test": [
              0.06227281933
             ]
            },
            {
             "iteration": 79,
             "learn": [
              0.0645503071
             ],
             "passed_time": 27.60822902,
             "remaining_time": 6.902057254,
             "test": [
              0.06085509237
             ]
            },
            {
             "iteration": 80,
             "learn": [
              0.06301915086
             ],
             "passed_time": 27.96590372,
             "remaining_time": 6.559903343,
             "test": [
              0.05932448276
             ]
            },
            {
             "iteration": 81,
             "learn": [
              0.06163806969
             ],
             "passed_time": 28.29945457,
             "remaining_time": 6.212075394,
             "test": [
              0.05790991038
             ]
            },
            {
             "iteration": 82,
             "learn": [
              0.06008625361
             ],
             "passed_time": 28.70949264,
             "remaining_time": 5.880257528,
             "test": [
              0.05633422681
             ]
            },
            {
             "iteration": 83,
             "learn": [
              0.05862556228
             ],
             "passed_time": 29.06663899,
             "remaining_time": 5.536502666,
             "test": [
              0.05493567511
             ]
            },
            {
             "iteration": 84,
             "learn": [
              0.05739830886
             ],
             "passed_time": 29.39547655,
             "remaining_time": 5.187437038,
             "test": [
              0.05372312137
             ]
            },
            {
             "iteration": 85,
             "learn": [
              0.05609750589
             ],
             "passed_time": 29.75352493,
             "remaining_time": 4.843597081,
             "test": [
              0.05241099873
             ]
            },
            {
             "iteration": 86,
             "learn": [
              0.05474457605
             ],
             "passed_time": 30.11739407,
             "remaining_time": 4.500300263,
             "test": [
              0.05117640751
             ]
            },
            {
             "iteration": 87,
             "learn": [
              0.05357332249
             ],
             "passed_time": 30.49535363,
             "remaining_time": 4.158457313,
             "test": [
              0.05005121985
             ]
            },
            {
             "iteration": 88,
             "learn": [
              0.05244039787
             ],
             "passed_time": 30.82605209,
             "remaining_time": 3.809961494,
             "test": [
              0.04896828202
             ]
            },
            {
             "iteration": 89,
             "learn": [
              0.05136066727
             ],
             "passed_time": 31.20492436,
             "remaining_time": 3.467213818,
             "test": [
              0.04793338474
             ]
            },
            {
             "iteration": 90,
             "learn": [
              0.05025469998
             ],
             "passed_time": 31.54376394,
             "remaining_time": 3.119712917,
             "test": [
              0.04677912438
             ]
            },
            {
             "iteration": 91,
             "learn": [
              0.04920392822
             ],
             "passed_time": 31.88094224,
             "remaining_time": 2.772255847,
             "test": [
              0.0456591958
             ]
            },
            {
             "iteration": 92,
             "learn": [
              0.04809312226
             ],
             "passed_time": 32.22337802,
             "remaining_time": 2.42541555,
             "test": [
              0.04444589589
             ]
            },
            {
             "iteration": 93,
             "learn": [
              0.0470063591
             ],
             "passed_time": 32.58311078,
             "remaining_time": 2.079773029,
             "test": [
              0.04339094616
             ]
            },
            {
             "iteration": 94,
             "learn": [
              0.04601473521
             ],
             "passed_time": 32.89093585,
             "remaining_time": 1.731101887,
             "test": [
              0.0424020729
             ]
            },
            {
             "iteration": 95,
             "learn": [
              0.04510327487
             ],
             "passed_time": 33.20719424,
             "remaining_time": 1.383633093,
             "test": [
              0.0414591962
             ]
            },
            {
             "iteration": 96,
             "learn": [
              0.0441893443
             ],
             "passed_time": 33.50614302,
             "remaining_time": 1.036272465,
             "test": [
              0.04056023615
             ]
            },
            {
             "iteration": 97,
             "learn": [
              0.04327457626
             ],
             "passed_time": 33.86627704,
             "remaining_time": 0.691148511,
             "test": [
              0.03963404145
             ]
            },
            {
             "iteration": 98,
             "learn": [
              0.04236228706
             ],
             "passed_time": 34.2187513,
             "remaining_time": 0.3456439525,
             "test": [
              0.03872920065
             ]
            },
            {
             "iteration": 99,
             "learn": [
              0.04155274664
             ],
             "passed_time": 34.55411067,
             "remaining_time": 0,
             "test": [
              0.03792402733
             ]
            }
           ],
           "meta": {
            "iteration_count": 100,
            "launch_mode": "Train",
            "learn_metrics": [
             {
              "best_value": "Min",
              "name": "CrossEntropy"
             }
            ],
            "learn_sets": [
             "learn"
            ],
            "name": "experiment",
            "parameters": "",
            "test_metrics": [
             {
              "best_value": "Min",
              "name": "CrossEntropy"
             }
            ],
            "test_sets": [
             "test"
            ]
           }
          },
          "passed_iterations": 99,
          "total_iterations": 100
         },
         "name": "catboost_info",
         "path": "catboost_info"
        }
       },
       "layout": "IPY_MODEL_c97bc4e195844ab59eaadcb07c9cbbae"
      }
     },
     "786d87be50ba46029646f27a5ac669e2": {
      "model_module": "@jupyter-widgets/base",
      "model_module_version": "1.2.0",
      "model_name": "LayoutModel",
      "state": {
       "_model_module": "@jupyter-widgets/base",
       "_model_module_version": "1.2.0",
       "_model_name": "LayoutModel",
       "_view_count": null,
       "_view_module": "@jupyter-widgets/base",
       "_view_module_version": "1.2.0",
       "_view_name": "LayoutView",
       "align_content": null,
       "align_items": null,
       "align_self": "stretch",
       "border": null,
       "bottom": null,
       "display": null,
       "flex": null,
       "flex_flow": null,
       "grid_area": null,
       "grid_auto_columns": null,
       "grid_auto_flow": null,
       "grid_auto_rows": null,
       "grid_column": null,
       "grid_gap": null,
       "grid_row": null,
       "grid_template_areas": null,
       "grid_template_columns": null,
       "grid_template_rows": null,
       "height": "500px",
       "justify_content": null,
       "justify_items": null,
       "left": null,
       "margin": null,
       "max_height": null,
       "max_width": null,
       "min_height": null,
       "min_width": null,
       "object_fit": null,
       "object_position": null,
       "order": null,
       "overflow": null,
       "overflow_x": null,
       "overflow_y": null,
       "padding": null,
       "right": null,
       "top": null,
       "visibility": null,
       "width": null
      }
     },
     "78d73f1bec49450083f3040332ab9736": {
      "model_module": "@jupyter-widgets/base",
      "model_module_version": "1.2.0",
      "model_name": "LayoutModel",
      "state": {
       "_model_module": "@jupyter-widgets/base",
       "_model_module_version": "1.2.0",
       "_model_name": "LayoutModel",
       "_view_count": null,
       "_view_module": "@jupyter-widgets/base",
       "_view_module_version": "1.2.0",
       "_view_name": "LayoutView",
       "align_content": null,
       "align_items": null,
       "align_self": "stretch",
       "border": null,
       "bottom": null,
       "display": null,
       "flex": null,
       "flex_flow": null,
       "grid_area": null,
       "grid_auto_columns": null,
       "grid_auto_flow": null,
       "grid_auto_rows": null,
       "grid_column": null,
       "grid_gap": null,
       "grid_row": null,
       "grid_template_areas": null,
       "grid_template_columns": null,
       "grid_template_rows": null,
       "height": "500px",
       "justify_content": null,
       "justify_items": null,
       "left": null,
       "margin": null,
       "max_height": null,
       "max_width": null,
       "min_height": null,
       "min_width": null,
       "object_fit": null,
       "object_position": null,
       "order": null,
       "overflow": null,
       "overflow_x": null,
       "overflow_y": null,
       "padding": null,
       "right": null,
       "top": null,
       "visibility": null,
       "width": null
      }
     },
     "7c403b33df1846f7a374fd1e96bef1f6": {
      "model_module": "@jupyter-widgets/base",
      "model_module_version": "1.2.0",
      "model_name": "LayoutModel",
      "state": {
       "_model_module": "@jupyter-widgets/base",
       "_model_module_version": "1.2.0",
       "_model_name": "LayoutModel",
       "_view_count": null,
       "_view_module": "@jupyter-widgets/base",
       "_view_module_version": "1.2.0",
       "_view_name": "LayoutView",
       "align_content": null,
       "align_items": null,
       "align_self": "stretch",
       "border": null,
       "bottom": null,
       "display": null,
       "flex": null,
       "flex_flow": null,
       "grid_area": null,
       "grid_auto_columns": null,
       "grid_auto_flow": null,
       "grid_auto_rows": null,
       "grid_column": null,
       "grid_gap": null,
       "grid_row": null,
       "grid_template_areas": null,
       "grid_template_columns": null,
       "grid_template_rows": null,
       "height": "500px",
       "justify_content": null,
       "justify_items": null,
       "left": null,
       "margin": null,
       "max_height": null,
       "max_width": null,
       "min_height": null,
       "min_width": null,
       "object_fit": null,
       "object_position": null,
       "order": null,
       "overflow": null,
       "overflow_x": null,
       "overflow_y": null,
       "padding": null,
       "right": null,
       "top": null,
       "visibility": null,
       "width": null
      }
     },
     "847e874fa56545af8e3cf39d225573a6": {
      "model_module": "@jupyter-widgets/base",
      "model_module_version": "1.2.0",
      "model_name": "LayoutModel",
      "state": {
       "_model_module": "@jupyter-widgets/base",
       "_model_module_version": "1.2.0",
       "_model_name": "LayoutModel",
       "_view_count": null,
       "_view_module": "@jupyter-widgets/base",
       "_view_module_version": "1.2.0",
       "_view_name": "LayoutView",
       "align_content": null,
       "align_items": null,
       "align_self": "stretch",
       "border": null,
       "bottom": null,
       "display": null,
       "flex": null,
       "flex_flow": null,
       "grid_area": null,
       "grid_auto_columns": null,
       "grid_auto_flow": null,
       "grid_auto_rows": null,
       "grid_column": null,
       "grid_gap": null,
       "grid_row": null,
       "grid_template_areas": null,
       "grid_template_columns": null,
       "grid_template_rows": null,
       "height": "500px",
       "justify_content": null,
       "justify_items": null,
       "left": null,
       "margin": null,
       "max_height": null,
       "max_width": null,
       "min_height": null,
       "min_width": null,
       "object_fit": null,
       "object_position": null,
       "order": null,
       "overflow": null,
       "overflow_x": null,
       "overflow_y": null,
       "padding": null,
       "right": null,
       "top": null,
       "visibility": null,
       "width": null
      }
     },
     "894366f756a041df8a00fbfef648d932": {
      "model_module": "catboost-widget",
      "model_module_version": "^1.0.0",
      "model_name": "CatboostWidgetModel",
      "state": {
       "_dom_classes": [],
       "_model_module": "catboost-widget",
       "_model_module_version": "^1.0.0",
       "_model_name": "CatboostWidgetModel",
       "_view_count": null,
       "_view_module": "catboost-widget",
       "_view_module_version": "^1.0.0",
       "_view_name": "CatboostWidgetView",
       "data": {
        "catboost_info": {
         "content": {
          "data": {
           "iterations": [
            {
             "iteration": 0,
             "learn": [
              0.6698964081
             ],
             "passed_time": 0.4544143832,
             "remaining_time": 44.98702394,
             "test": [
              0.6697990447
             ]
            },
            {
             "iteration": 1,
             "learn": [
              0.6488263723
             ],
             "passed_time": 0.8987664006,
             "remaining_time": 44.03955363,
             "test": [
              0.6476818388
             ]
            },
            {
             "iteration": 2,
             "learn": [
              0.6265310896
             ],
             "passed_time": 1.332049247,
             "remaining_time": 43.06959232,
             "test": [
              0.6267710669
             ]
            },
            {
             "iteration": 3,
             "learn": [
              0.6074357282
             ],
             "passed_time": 1.722718266,
             "remaining_time": 41.34523838,
             "test": [
              0.6071013991
             ]
            },
            {
             "iteration": 4,
             "learn": [
              0.5880321166
             ],
             "passed_time": 2.129804956,
             "remaining_time": 40.46629416,
             "test": [
              0.5877844604
             ]
            },
            {
             "iteration": 5,
             "learn": [
              0.5706643325
             ],
             "passed_time": 2.572721301,
             "remaining_time": 40.30596705,
             "test": [
              0.5699138784
             ]
            },
            {
             "iteration": 6,
             "learn": [
              0.5528535586
             ],
             "passed_time": 2.930398647,
             "remaining_time": 38.93243917,
             "test": [
              0.5527989866
             ]
            },
            {
             "iteration": 7,
             "learn": [
              0.5365489719
             ],
             "passed_time": 3.317517781,
             "remaining_time": 38.15145449,
             "test": [
              0.5359959303
             ]
            },
            {
             "iteration": 8,
             "learn": [
              0.5218568576
             ],
             "passed_time": 3.757616164,
             "remaining_time": 37.99367455,
             "test": [
              0.5207338627
             ]
            },
            {
             "iteration": 9,
             "learn": [
              0.5073550903
             ],
             "passed_time": 4.126235849,
             "remaining_time": 37.13612264,
             "test": [
              0.5061647018
             ]
            },
            {
             "iteration": 10,
             "learn": [
              0.4924103865
             ],
             "passed_time": 4.576093776,
             "remaining_time": 37.02475874,
             "test": [
              0.4911990935
             ]
            },
            {
             "iteration": 11,
             "learn": [
              0.4786591631
             ],
             "passed_time": 4.981795194,
             "remaining_time": 36.53316475,
             "test": [
              0.4775062868
             ]
            },
            {
             "iteration": 12,
             "learn": [
              0.466086241
             ],
             "passed_time": 5.368087806,
             "remaining_time": 35.92489532,
             "test": [
              0.4643920034
             ]
            },
            {
             "iteration": 13,
             "learn": [
              0.4540220228
             ],
             "passed_time": 5.75325456,
             "remaining_time": 35.34142087,
             "test": [
              0.4517915209
             ]
            },
            {
             "iteration": 14,
             "learn": [
              0.4417640945
             ],
             "passed_time": 6.208351738,
             "remaining_time": 35.18065985,
             "test": [
              0.4393722038
             ]
            },
            {
             "iteration": 15,
             "learn": [
              0.4299357236
             ],
             "passed_time": 6.598079089,
             "remaining_time": 34.63991522,
             "test": [
              0.4274573749
             ]
            },
            {
             "iteration": 16,
             "learn": [
              0.4191512168
             ],
             "passed_time": 6.983460405,
             "remaining_time": 34.09571845,
             "test": [
              0.4160371037
             ]
            },
            {
             "iteration": 17,
             "learn": [
              0.4077712181
             ],
             "passed_time": 7.378765199,
             "remaining_time": 33.61437479,
             "test": [
              0.4050906869
             ]
            },
            {
             "iteration": 18,
             "learn": [
              0.3976028837
             ],
             "passed_time": 7.770298472,
             "remaining_time": 33.12600928,
             "test": [
              0.3947612206
             ]
            },
            {
             "iteration": 19,
             "learn": [
              0.3878941452
             ],
             "passed_time": 8.172586889,
             "remaining_time": 32.69034756,
             "test": [
              0.3852679151
             ]
            },
            {
             "iteration": 20,
             "learn": [
              0.3794265857
             ],
             "passed_time": 8.580431867,
             "remaining_time": 32.2787675,
             "test": [
              0.3763786374
             ]
            },
            {
             "iteration": 21,
             "learn": [
              0.369777338
             ],
             "passed_time": 8.963227083,
             "remaining_time": 31.7787142,
             "test": [
              0.366998958
             ]
            },
            {
             "iteration": 22,
             "learn": [
              0.3611643119
             ],
             "passed_time": 9.37310613,
             "remaining_time": 31.37952922,
             "test": [
              0.3581324982
             ]
            },
            {
             "iteration": 23,
             "learn": [
              0.3527419676
             ],
             "passed_time": 9.765055075,
             "remaining_time": 30.9226744,
             "test": [
              0.3495037193
             ]
            },
            {
             "iteration": 24,
             "learn": [
              0.3444894213
             ],
             "passed_time": 10.17713703,
             "remaining_time": 30.5314111,
             "test": [
              0.3412690679
             ]
            },
            {
             "iteration": 25,
             "learn": [
              0.3368766063
             ],
             "passed_time": 10.57276397,
             "remaining_time": 30.09171284,
             "test": [
              0.3336374837
             ]
            },
            {
             "iteration": 26,
             "learn": [
              0.3291371669
             ],
             "passed_time": 11.00126825,
             "remaining_time": 29.74416972,
             "test": [
              0.3259613424
             ]
            },
            {
             "iteration": 27,
             "learn": [
              0.3218666217
             ],
             "passed_time": 11.43979721,
             "remaining_time": 29.41662139,
             "test": [
              0.3186147902
             ]
            },
            {
             "iteration": 28,
             "learn": [
              0.3149443998
             ],
             "passed_time": 11.84496384,
             "remaining_time": 28.99973905,
             "test": [
              0.3118173672
             ]
            },
            {
             "iteration": 29,
             "learn": [
              0.3083315578
             ],
             "passed_time": 12.23849845,
             "remaining_time": 28.55649639,
             "test": [
              0.3052424823
             ]
            },
            {
             "iteration": 30,
             "learn": [
              0.3021198002
             ],
             "passed_time": 12.63952525,
             "remaining_time": 28.13313685,
             "test": [
              0.2990194867
             ]
            },
            {
             "iteration": 31,
             "learn": [
              0.2956946062
             ],
             "passed_time": 13.07107207,
             "remaining_time": 27.77602815,
             "test": [
              0.292478954
             ]
            },
            {
             "iteration": 32,
             "learn": [
              0.2898107147
             ],
             "passed_time": 13.46383485,
             "remaining_time": 27.33566469,
             "test": [
              0.2864368283
             ]
            },
            {
             "iteration": 33,
             "learn": [
              0.2839770752
             ],
             "passed_time": 13.85265864,
             "remaining_time": 26.890455,
             "test": [
              0.2807662717
             ]
            },
            {
             "iteration": 34,
             "learn": [
              0.2788086717
             ],
             "passed_time": 14.21900626,
             "remaining_time": 26.40672591,
             "test": [
              0.2756059739
             ]
            },
            {
             "iteration": 35,
             "learn": [
              0.2732759779
             ],
             "passed_time": 14.61391296,
             "remaining_time": 25.9802897,
             "test": [
              0.2700416702
             ]
            },
            {
             "iteration": 36,
             "learn": [
              0.2680950025
             ],
             "passed_time": 14.98407697,
             "remaining_time": 25.51342835,
             "test": [
              0.2651276394
             ]
            },
            {
             "iteration": 37,
             "learn": [
              0.2627983467
             ],
             "passed_time": 15.43607122,
             "remaining_time": 25.18516884,
             "test": [
              0.2596821295
             ]
            },
            {
             "iteration": 38,
             "learn": [
              0.2583215856
             ],
             "passed_time": 15.7935933,
             "remaining_time": 24.70279978,
             "test": [
              0.2552222485
             ]
            },
            {
             "iteration": 39,
             "learn": [
              0.2536149476
             ],
             "passed_time": 16.24348812,
             "remaining_time": 24.36523218,
             "test": [
              0.2506435599
             ]
            },
            {
             "iteration": 40,
             "learn": [
              0.2490620635
             ],
             "passed_time": 16.70549659,
             "remaining_time": 24.03961704,
             "test": [
              0.2460716865
             ]
            },
            {
             "iteration": 41,
             "learn": [
              0.2446890576
             ],
             "passed_time": 17.13773802,
             "remaining_time": 23.66640013,
             "test": [
              0.2417848771
             ]
            },
            {
             "iteration": 42,
             "learn": [
              0.2404432936
             ],
             "passed_time": 17.59319424,
             "remaining_time": 23.32121097,
             "test": [
              0.237516778
             ]
            },
            {
             "iteration": 43,
             "learn": [
              0.236244262
             ],
             "passed_time": 18.01973611,
             "remaining_time": 22.93420959,
             "test": [
              0.2335639769
             ]
            },
            {
             "iteration": 44,
             "learn": [
              0.2322065577
             ],
             "passed_time": 18.45807398,
             "remaining_time": 22.5598682,
             "test": [
              0.229137479
             ]
            },
            {
             "iteration": 45,
             "learn": [
              0.2280090974
             ],
             "passed_time": 18.85031759,
             "remaining_time": 22.12863369,
             "test": [
              0.2253052571
             ]
            },
            {
             "iteration": 46,
             "learn": [
              0.2245506307
             ],
             "passed_time": 19.30409532,
             "remaining_time": 21.76844791,
             "test": [
              0.2215049284
             ]
            },
            {
             "iteration": 47,
             "learn": [
              0.2205301796
             ],
             "passed_time": 19.70159137,
             "remaining_time": 21.34339065,
             "test": [
              0.217482149
             ]
            },
            {
             "iteration": 48,
             "learn": [
              0.2172006586
             ],
             "passed_time": 20.11257412,
             "remaining_time": 20.93349551,
             "test": [
              0.2139357279
             ]
            },
            {
             "iteration": 49,
             "learn": [
              0.2138036713
             ],
             "passed_time": 20.509802,
             "remaining_time": 20.509802,
             "test": [
              0.2105513
             ]
            },
            {
             "iteration": 50,
             "learn": [
              0.210776974
             ],
             "passed_time": 20.90810416,
             "remaining_time": 20.08817851,
             "test": [
              0.2072502233
             ]
            },
            {
             "iteration": 51,
             "learn": [
              0.2071811432
             ],
             "passed_time": 21.31637638,
             "remaining_time": 19.67665512,
             "test": [
              0.2037524647
             ]
            },
            {
             "iteration": 52,
             "learn": [
              0.2044912226
             ],
             "passed_time": 21.67715413,
             "remaining_time": 19.22313668,
             "test": [
              0.2009292319
             ]
            },
            {
             "iteration": 53,
             "learn": [
              0.2013888664
             ],
             "passed_time": 22.09173847,
             "remaining_time": 18.81888832,
             "test": [
              0.1976929096
             ]
            },
            {
             "iteration": 54,
             "learn": [
              0.198658673
             ],
             "passed_time": 22.5367387,
             "remaining_time": 18.43914984,
             "test": [
              0.1949043835
             ]
            },
            {
             "iteration": 55,
             "learn": [
              0.195950313
             ],
             "passed_time": 22.87250863,
             "remaining_time": 17.97125678,
             "test": [
              0.1921385303
             ]
            },
            {
             "iteration": 56,
             "learn": [
              0.1928161604
             ],
             "passed_time": 23.27714865,
             "remaining_time": 17.55995424,
             "test": [
              0.1892684165
             ]
            },
            {
             "iteration": 57,
             "learn": [
              0.1897977858
             ],
             "passed_time": 23.74450253,
             "remaining_time": 17.19429494,
             "test": [
              0.1860818432
             ]
            },
            {
             "iteration": 58,
             "learn": [
              0.1869850198
             ],
             "passed_time": 24.14622633,
             "remaining_time": 16.77958101,
             "test": [
              0.1833125028
             ]
            },
            {
             "iteration": 59,
             "learn": [
              0.1844034667
             ],
             "passed_time": 24.52374465,
             "remaining_time": 16.3491631,
             "test": [
              0.1808485494
             ]
            },
            {
             "iteration": 60,
             "learn": [
              0.1817776648
             ],
             "passed_time": 24.91915491,
             "remaining_time": 15.93191872,
             "test": [
              0.178069609
             ]
            },
            {
             "iteration": 61,
             "learn": [
              0.1791841271
             ],
             "passed_time": 25.31951383,
             "remaining_time": 15.5184117,
             "test": [
              0.1754404499
             ]
            },
            {
             "iteration": 62,
             "learn": [
              0.1767246703
             ],
             "passed_time": 25.72940234,
             "remaining_time": 15.11091883,
             "test": [
              0.1728068155
             ]
            },
            {
             "iteration": 63,
             "learn": [
              0.1746340761
             ],
             "passed_time": 26.08398792,
             "remaining_time": 14.6722432,
             "test": [
              0.1707475172
             ]
            },
            {
             "iteration": 64,
             "learn": [
              0.1722955863
             ],
             "passed_time": 26.47118471,
             "remaining_time": 14.25371484,
             "test": [
              0.1684964311
             ]
            },
            {
             "iteration": 65,
             "learn": [
              0.1698211118
             ],
             "passed_time": 26.93932133,
             "remaining_time": 13.8778322,
             "test": [
              0.1659411035
             ]
            },
            {
             "iteration": 66,
             "learn": [
              0.1678376578
             ],
             "passed_time": 27.38345816,
             "remaining_time": 13.48737491,
             "test": [
              0.1638660315
             ]
            },
            {
             "iteration": 67,
             "learn": [
              0.1660824999
             ],
             "passed_time": 27.77088872,
             "remaining_time": 13.06865352,
             "test": [
              0.162188622
             ]
            },
            {
             "iteration": 68,
             "learn": [
              0.1641040404
             ],
             "passed_time": 28.14470045,
             "remaining_time": 12.64472049,
             "test": [
              0.1600500328
             ]
            },
            {
             "iteration": 69,
             "learn": [
              0.1616634169
             ],
             "passed_time": 28.65088297,
             "remaining_time": 12.27894985,
             "test": [
              0.1573675595
             ]
            },
            {
             "iteration": 70,
             "learn": [
              0.1594880669
             ],
             "passed_time": 29.04886847,
             "remaining_time": 11.86503078,
             "test": [
              0.1553056756
             ]
            },
            {
             "iteration": 71,
             "learn": [
              0.1574414652
             ],
             "passed_time": 29.58475421,
             "remaining_time": 11.50518219,
             "test": [
              0.1531373223
             ]
            },
            {
             "iteration": 72,
             "learn": [
              0.1557530071
             ],
             "passed_time": 30.14206236,
             "remaining_time": 11.14843402,
             "test": [
              0.1513596283
             ]
            },
            {
             "iteration": 73,
             "learn": [
              0.1539359935
             ],
             "passed_time": 30.76193011,
             "remaining_time": 10.80824571,
             "test": [
              0.1496861329
             ]
            },
            {
             "iteration": 74,
             "learn": [
              0.1520688243
             ],
             "passed_time": 31.13417417,
             "remaining_time": 10.37805806,
             "test": [
              0.1478021505
             ]
            },
            {
             "iteration": 75,
             "learn": [
              0.150534853
             ],
             "passed_time": 31.49965371,
             "remaining_time": 9.947259067,
             "test": [
              0.1463181591
             ]
            },
            {
             "iteration": 76,
             "learn": [
              0.1488953604
             ],
             "passed_time": 31.93956087,
             "remaining_time": 9.540388312,
             "test": [
              0.1448197909
             ]
            },
            {
             "iteration": 77,
             "learn": [
              0.1469061761
             ],
             "passed_time": 32.42353597,
             "remaining_time": 9.14509989,
             "test": [
              0.1427565208
             ]
            },
            {
             "iteration": 78,
             "learn": [
              0.1451539492
             ],
             "passed_time": 32.82223709,
             "remaining_time": 8.724898467,
             "test": [
              0.1410991228
             ]
            },
            {
             "iteration": 79,
             "learn": [
              0.1433411118
             ],
             "passed_time": 33.29097508,
             "remaining_time": 8.322743769,
             "test": [
              0.1392161018
             ]
            },
            {
             "iteration": 80,
             "learn": [
              0.1415493717
             ],
             "passed_time": 33.79381617,
             "remaining_time": 7.926944533,
             "test": [
              0.1372959305
             ]
            },
            {
             "iteration": 81,
             "learn": [
              0.1399106741
             ],
             "passed_time": 34.19333951,
             "remaining_time": 7.505855015,
             "test": [
              0.1357025031
             ]
            },
            {
             "iteration": 82,
             "learn": [
              0.1386449352
             ],
             "passed_time": 34.55341403,
             "remaining_time": 7.077205283,
             "test": [
              0.1344216729
             ]
            },
            {
             "iteration": 83,
             "learn": [
              0.1369338686
             ],
             "passed_time": 35.02665151,
             "remaining_time": 6.671743145,
             "test": [
              0.132638872
             ]
            },
            {
             "iteration": 84,
             "learn": [
              0.1352554832
             ],
             "passed_time": 35.49294971,
             "remaining_time": 6.263461713,
             "test": [
              0.1310372394
             ]
            },
            {
             "iteration": 85,
             "learn": [
              0.1341487639
             ],
             "passed_time": 35.84749647,
             "remaining_time": 5.835638959,
             "test": [
              0.129859607
             ]
            },
            {
             "iteration": 86,
             "learn": [
              0.1326203485
             ],
             "passed_time": 36.31028527,
             "remaining_time": 5.42567481,
             "test": [
              0.1282657767
             ]
            },
            {
             "iteration": 87,
             "learn": [
              0.1310420713
             ],
             "passed_time": 36.72919913,
             "remaining_time": 5.008527154,
             "test": [
              0.1265616498
             ]
            },
            {
             "iteration": 88,
             "learn": [
              0.1297209944
             ],
             "passed_time": 37.17300092,
             "remaining_time": 4.594415844,
             "test": [
              0.1252289672
             ]
            },
            {
             "iteration": 89,
             "learn": [
              0.1286312675
             ],
             "passed_time": 37.53504394,
             "remaining_time": 4.170560438,
             "test": [
              0.12418151
             ]
            },
            {
             "iteration": 90,
             "learn": [
              0.1271478303
             ],
             "passed_time": 37.99320532,
             "remaining_time": 3.757569757,
             "test": [
              0.1226340494
             ]
            },
            {
             "iteration": 91,
             "learn": [
              0.1258949481
             ],
             "passed_time": 38.42584607,
             "remaining_time": 3.341377919,
             "test": [
              0.1215661059
             ]
            },
            {
             "iteration": 92,
             "learn": [
              0.1245455972
             ],
             "passed_time": 38.88897183,
             "remaining_time": 2.927126912,
             "test": [
              0.1201517641
             ]
            },
            {
             "iteration": 93,
             "learn": [
              0.1234114584
             ],
             "passed_time": 39.28687545,
             "remaining_time": 2.507672901,
             "test": [
              0.1189523135
             ]
            },
            {
             "iteration": 94,
             "learn": [
              0.1222945269
             ],
             "passed_time": 39.68065574,
             "remaining_time": 2.088455565,
             "test": [
              0.1178074583
             ]
            },
            {
             "iteration": 95,
             "learn": [
              0.1211510373
             ],
             "passed_time": 40.1086795,
             "remaining_time": 1.671194979,
             "test": [
              0.1167622443
             ]
            },
            {
             "iteration": 96,
             "learn": [
              0.1202513295
             ],
             "passed_time": 40.509381,
             "remaining_time": 1.252867454,
             "test": [
              0.115971921
             ]
            },
            {
             "iteration": 97,
             "learn": [
              0.1192427962
             ],
             "passed_time": 40.89345103,
             "remaining_time": 0.8345602251,
             "test": [
              0.1149128702
             ]
            },
            {
             "iteration": 98,
             "learn": [
              0.1182951927
             ],
             "passed_time": 41.27620912,
             "remaining_time": 0.4169314053,
             "test": [
              0.1139135197
             ]
            },
            {
             "iteration": 99,
             "learn": [
              0.1169691522
             ],
             "passed_time": 41.74159323,
             "remaining_time": 0,
             "test": [
              0.1124694886
             ]
            }
           ],
           "meta": {
            "iteration_count": 100,
            "launch_mode": "Train",
            "learn_metrics": [
             {
              "best_value": "Min",
              "name": "CrossEntropy"
             }
            ],
            "learn_sets": [
             "learn"
            ],
            "name": "experiment",
            "parameters": "",
            "test_metrics": [
             {
              "best_value": "Min",
              "name": "CrossEntropy"
             }
            ],
            "test_sets": [
             "test"
            ]
           }
          },
          "passed_iterations": 99,
          "total_iterations": 100
         },
         "name": "catboost_info",
         "path": "catboost_info"
        }
       },
       "layout": "IPY_MODEL_144b658ac89c472d90c18563bb03b930"
      }
     },
     "8b415d61dd4d4c4282d4c8a7b43aa91d": {
      "model_module": "@jupyter-widgets/base",
      "model_module_version": "1.2.0",
      "model_name": "LayoutModel",
      "state": {
       "_model_module": "@jupyter-widgets/base",
       "_model_module_version": "1.2.0",
       "_model_name": "LayoutModel",
       "_view_count": null,
       "_view_module": "@jupyter-widgets/base",
       "_view_module_version": "1.2.0",
       "_view_name": "LayoutView",
       "align_content": null,
       "align_items": null,
       "align_self": "stretch",
       "border": null,
       "bottom": null,
       "display": null,
       "flex": null,
       "flex_flow": null,
       "grid_area": null,
       "grid_auto_columns": null,
       "grid_auto_flow": null,
       "grid_auto_rows": null,
       "grid_column": null,
       "grid_gap": null,
       "grid_row": null,
       "grid_template_areas": null,
       "grid_template_columns": null,
       "grid_template_rows": null,
       "height": "500px",
       "justify_content": null,
       "justify_items": null,
       "left": null,
       "margin": null,
       "max_height": null,
       "max_width": null,
       "min_height": null,
       "min_width": null,
       "object_fit": null,
       "object_position": null,
       "order": null,
       "overflow": null,
       "overflow_x": null,
       "overflow_y": null,
       "padding": null,
       "right": null,
       "top": null,
       "visibility": null,
       "width": null
      }
     },
     "8bd92d62d2f74d488e456856b099859e": {
      "model_module": "@jupyter-widgets/base",
      "model_module_version": "1.2.0",
      "model_name": "LayoutModel",
      "state": {
       "_model_module": "@jupyter-widgets/base",
       "_model_module_version": "1.2.0",
       "_model_name": "LayoutModel",
       "_view_count": null,
       "_view_module": "@jupyter-widgets/base",
       "_view_module_version": "1.2.0",
       "_view_name": "LayoutView",
       "align_content": null,
       "align_items": null,
       "align_self": "stretch",
       "border": null,
       "bottom": null,
       "display": null,
       "flex": null,
       "flex_flow": null,
       "grid_area": null,
       "grid_auto_columns": null,
       "grid_auto_flow": null,
       "grid_auto_rows": null,
       "grid_column": null,
       "grid_gap": null,
       "grid_row": null,
       "grid_template_areas": null,
       "grid_template_columns": null,
       "grid_template_rows": null,
       "height": "500px",
       "justify_content": null,
       "justify_items": null,
       "left": null,
       "margin": null,
       "max_height": null,
       "max_width": null,
       "min_height": null,
       "min_width": null,
       "object_fit": null,
       "object_position": null,
       "order": null,
       "overflow": null,
       "overflow_x": null,
       "overflow_y": null,
       "padding": null,
       "right": null,
       "top": null,
       "visibility": null,
       "width": null
      }
     },
     "9c2ee1087b354eb483319acebc11a015": {
      "model_module": "catboost-widget",
      "model_module_version": "^1.0.0",
      "model_name": "CatboostWidgetModel",
      "state": {
       "_dom_classes": [],
       "_model_module": "catboost-widget",
       "_model_module_version": "^1.0.0",
       "_model_name": "CatboostWidgetModel",
       "_view_count": null,
       "_view_module": "catboost-widget",
       "_view_module_version": "^1.0.0",
       "_view_name": "CatboostWidgetView",
       "data": {
        "catboost_info": {
         "content": {
          "data": {
           "iterations": [
            {
             "iteration": 0,
             "learn": [
              0.6621051943
             ],
             "passed_time": 0.4223095951,
             "remaining_time": 41.80864991,
             "test": [
              0.6641500753
             ]
            },
            {
             "iteration": 1,
             "learn": [
              0.6371464908
             ],
             "passed_time": 0.8538721176,
             "remaining_time": 41.83973376,
             "test": [
              0.636915525
             ]
            },
            {
             "iteration": 2,
             "learn": [
              0.6108250936
             ],
             "passed_time": 1.298231635,
             "remaining_time": 41.9761562,
             "test": [
              0.6112236111
             ]
            },
            {
             "iteration": 3,
             "learn": [
              0.586155571
             ],
             "passed_time": 1.700967192,
             "remaining_time": 40.8232126,
             "test": [
              0.5869745055
             ]
            },
            {
             "iteration": 4,
             "learn": [
              0.5644132968
             ],
             "passed_time": 2.125301069,
             "remaining_time": 40.3807203,
             "test": [
              0.5641046064
             ]
            },
            {
             "iteration": 5,
             "learn": [
              0.5407497218
             ],
             "passed_time": 2.528175273,
             "remaining_time": 39.60807928,
             "test": [
              0.54232127
             ]
            },
            {
             "iteration": 6,
             "learn": [
              0.5199858611
             ],
             "passed_time": 2.92846423,
             "remaining_time": 38.90673906,
             "test": [
              0.5215413124
             ]
            },
            {
             "iteration": 7,
             "learn": [
              0.501782145
             ],
             "passed_time": 3.357537661,
             "remaining_time": 38.6116831,
             "test": [
              0.5018322973
             ]
            },
            {
             "iteration": 8,
             "learn": [
              0.4821403877
             ],
             "passed_time": 3.745397827,
             "remaining_time": 37.87013358,
             "test": [
              0.4829995646
             ]
            },
            {
             "iteration": 9,
             "learn": [
              0.464492072
             ],
             "passed_time": 4.127855776,
             "remaining_time": 37.15070199,
             "test": [
              0.4651918381
             ]
            },
            {
             "iteration": 10,
             "learn": [
              0.4477689055
             ],
             "passed_time": 4.496530925,
             "remaining_time": 36.38102294,
             "test": [
              0.4481699469
             ]
            },
            {
             "iteration": 11,
             "learn": [
              0.432087135
             ],
             "passed_time": 4.958882593,
             "remaining_time": 36.36513902,
             "test": [
              0.4319438865
             ]
            },
            {
             "iteration": 12,
             "learn": [
              0.4164719539
             ],
             "passed_time": 5.353662073,
             "remaining_time": 35.82835387,
             "test": [
              0.4163990661
             ]
            },
            {
             "iteration": 13,
             "learn": [
              0.4013541265
             ],
             "passed_time": 5.764021142,
             "remaining_time": 35.40755844,
             "test": [
              0.4015329604
             ]
            },
            {
             "iteration": 14,
             "learn": [
              0.3872826998
             ],
             "passed_time": 6.173755623,
             "remaining_time": 34.9846152,
             "test": [
              0.3874175941
             ]
            },
            {
             "iteration": 15,
             "learn": [
              0.3726147166
             ],
             "passed_time": 6.563790772,
             "remaining_time": 34.45990155,
             "test": [
              0.3739904205
             ]
            },
            {
             "iteration": 16,
             "learn": [
              0.3595390252
             ],
             "passed_time": 6.941942574,
             "remaining_time": 33.89301375,
             "test": [
              0.3610824067
             ]
            },
            {
             "iteration": 17,
             "learn": [
              0.3486053217
             ],
             "passed_time": 7.323332956,
             "remaining_time": 33.36185013,
             "test": [
              0.3486870926
             ]
            },
            {
             "iteration": 18,
             "learn": [
              0.3359917826
             ],
             "passed_time": 7.72626198,
             "remaining_time": 32.93827476,
             "test": [
              0.3368500664
             ]
            },
            {
             "iteration": 19,
             "learn": [
              0.3254580859
             ],
             "passed_time": 8.117106954,
             "remaining_time": 32.46842782,
             "test": [
              0.3255144269
             ]
            },
            {
             "iteration": 20,
             "learn": [
              0.3132534644
             ],
             "passed_time": 8.512874825,
             "remaining_time": 32.02462434,
             "test": [
              0.3146379087
             ]
            },
            {
             "iteration": 21,
             "learn": [
              0.3030885866
             ],
             "passed_time": 8.889464473,
             "remaining_time": 31.51719222,
             "test": [
              0.3041934347
             ]
            },
            {
             "iteration": 22,
             "learn": [
              0.2930323732
             ],
             "passed_time": 9.274493053,
             "remaining_time": 31.04938979,
             "test": [
              0.2941662732
             ]
            },
            {
             "iteration": 23,
             "learn": [
              0.283114251
             ],
             "passed_time": 9.639612056,
             "remaining_time": 30.52543818,
             "test": [
              0.2845556503
             ]
            },
            {
             "iteration": 24,
             "learn": [
              0.2732852302
             ],
             "passed_time": 10.02829724,
             "remaining_time": 30.08489173,
             "test": [
              0.2752216265
             ]
            },
            {
             "iteration": 25,
             "learn": [
              0.2647545633
             ],
             "passed_time": 10.42505356,
             "remaining_time": 29.67130629,
             "test": [
              0.2661793322
             ]
            },
            {
             "iteration": 26,
             "learn": [
              0.2567741051
             ],
             "passed_time": 10.8118279,
             "remaining_time": 29.23197914,
             "test": [
              0.2575808667
             ]
            },
            {
             "iteration": 27,
             "learn": [
              0.2488506996
             ],
             "passed_time": 11.20168345,
             "remaining_time": 28.80432888,
             "test": [
              0.2493581349
             ]
            },
            {
             "iteration": 28,
             "learn": [
              0.2406508231
             ],
             "passed_time": 11.61976294,
             "remaining_time": 28.44838514,
             "test": [
              0.2413882383
             ]
            },
            {
             "iteration": 29,
             "learn": [
              0.2328879173
             ],
             "passed_time": 12.14052762,
             "remaining_time": 28.32789777,
             "test": [
              0.2337312111
             ]
            },
            {
             "iteration": 30,
             "learn": [
              0.2256908238
             ],
             "passed_time": 12.77498573,
             "remaining_time": 28.43464565,
             "test": [
              0.2263758347
             ]
            },
            {
             "iteration": 31,
             "learn": [
              0.2182181793
             ],
             "passed_time": 13.29907432,
             "remaining_time": 28.26053294,
             "test": [
              0.2193220148
             ]
            },
            {
             "iteration": 32,
             "learn": [
              0.2108231132
             ],
             "passed_time": 13.73466789,
             "remaining_time": 27.88553784,
             "test": [
              0.2124065219
             ]
            },
            {
             "iteration": 33,
             "learn": [
              0.2042248798
             ],
             "passed_time": 14.15744818,
             "remaining_time": 27.48210529,
             "test": [
              0.2058021847
             ]
            },
            {
             "iteration": 34,
             "learn": [
              0.1986584091
             ],
             "passed_time": 14.57397117,
             "remaining_time": 27.06594645,
             "test": [
              0.1993665769
             ]
            },
            {
             "iteration": 35,
             "learn": [
              0.1916266388
             ],
             "passed_time": 14.97425291,
             "remaining_time": 26.62089406,
             "test": [
              0.1932536467
             ]
            },
            {
             "iteration": 36,
             "learn": [
              0.1863858395
             ],
             "passed_time": 15.38427489,
             "remaining_time": 26.19484643,
             "test": [
              0.1872315768
             ]
            },
            {
             "iteration": 37,
             "learn": [
              0.1801063512
             ],
             "passed_time": 15.78843676,
             "remaining_time": 25.76008102,
             "test": [
              0.1815885576
             ]
            },
            {
             "iteration": 38,
             "learn": [
              0.1754102865
             ],
             "passed_time": 16.17078673,
             "remaining_time": 25.29276899,
             "test": [
              0.1760138526
             ]
            },
            {
             "iteration": 39,
             "learn": [
              0.1694662803
             ],
             "passed_time": 16.59759963,
             "remaining_time": 24.89639944,
             "test": [
              0.1706509329
             ]
            },
            {
             "iteration": 40,
             "learn": [
              0.164304952
             ],
             "passed_time": 17.0154184,
             "remaining_time": 24.48560209,
             "test": [
              0.1654834585
             ]
            },
            {
             "iteration": 41,
             "learn": [
              0.1599250599
             ],
             "passed_time": 17.40314808,
             "remaining_time": 24.03291878,
             "test": [
              0.1604965089
             ]
            },
            {
             "iteration": 42,
             "learn": [
              0.1549638402
             ],
             "passed_time": 17.81111332,
             "remaining_time": 23.61008045,
             "test": [
              0.1555598552
             ]
            },
            {
             "iteration": 43,
             "learn": [
              0.1500218924
             ],
             "passed_time": 18.20677556,
             "remaining_time": 23.17225981,
             "test": [
              0.1509550393
             ]
            },
            {
             "iteration": 44,
             "learn": [
              0.145404241
             ],
             "passed_time": 18.61806595,
             "remaining_time": 22.75541394,
             "test": [
              0.1464188203
             ]
            },
            {
             "iteration": 45,
             "learn": [
              0.1411330919
             ],
             "passed_time": 19.01265531,
             "remaining_time": 22.31920406,
             "test": [
              0.1421186692
             ]
            },
            {
             "iteration": 46,
             "learn": [
              0.1371419887
             ],
             "passed_time": 19.40882453,
             "remaining_time": 21.88654682,
             "test": [
              0.137953827
             ]
            },
            {
             "iteration": 47,
             "learn": [
              0.1332419554
             ],
             "passed_time": 19.81886956,
             "remaining_time": 21.47044202,
             "test": [
              0.1338008036
             ]
            },
            {
             "iteration": 48,
             "learn": [
              0.1293481974
             ],
             "passed_time": 20.19035889,
             "remaining_time": 21.01445517,
             "test": [
              0.129928128
             ]
            },
            {
             "iteration": 49,
             "learn": [
              0.1255251609
             ],
             "passed_time": 20.57400118,
             "remaining_time": 20.57400118,
             "test": [
              0.1260712094
             ]
            },
            {
             "iteration": 50,
             "learn": [
              0.1217142221
             ],
             "passed_time": 20.96756123,
             "remaining_time": 20.14530393,
             "test": [
              0.1224525442
             ]
            },
            {
             "iteration": 51,
             "learn": [
              0.1181646239
             ],
             "passed_time": 21.31083429,
             "remaining_time": 19.67153935,
             "test": [
              0.1189394567
             ]
            },
            {
             "iteration": 52,
             "learn": [
              0.1149132416
             ],
             "passed_time": 21.67333388,
             "remaining_time": 19.21974891,
             "test": [
              0.1155473207
             ]
            },
            {
             "iteration": 53,
             "learn": [
              0.1118052666
             ],
             "passed_time": 22.07016565,
             "remaining_time": 18.80051148,
             "test": [
              0.1122628063
             ]
            },
            {
             "iteration": 54,
             "learn": [
              0.1082218539
             ],
             "passed_time": 22.47053178,
             "remaining_time": 18.38498054,
             "test": [
              0.108948532
             ]
            },
            {
             "iteration": 55,
             "learn": [
              0.105549404
             ],
             "passed_time": 22.92702454,
             "remaining_time": 18.01409071,
             "test": [
              0.1058522276
             ]
            },
            {
             "iteration": 56,
             "learn": [
              0.102299852
             ],
             "passed_time": 23.3043969,
             "remaining_time": 17.58050995,
             "test": [
              0.1028374458
             ]
            },
            {
             "iteration": 57,
             "learn": [
              0.09967496071
             ],
             "passed_time": 23.69905684,
             "remaining_time": 17.16138599,
             "test": [
              0.09990815511
             ]
            },
            {
             "iteration": 58,
             "learn": [
              0.09650381018
             ],
             "passed_time": 24.12884737,
             "remaining_time": 16.7675041,
             "test": [
              0.09709679333
             ]
            },
            {
             "iteration": 59,
             "learn": [
              0.09400151492
             ],
             "passed_time": 24.50485903,
             "remaining_time": 16.33657268,
             "test": [
              0.0943778559
             ]
            },
            {
             "iteration": 60,
             "learn": [
              0.09117687603
             ],
             "passed_time": 24.88247967,
             "remaining_time": 15.90847061,
             "test": [
              0.09174201596
             ]
            },
            {
             "iteration": 61,
             "learn": [
              0.08867037311
             ],
             "passed_time": 25.32751591,
             "remaining_time": 15.5233162,
             "test": [
              0.08924066932
             ]
            },
            {
             "iteration": 62,
             "learn": [
              0.08647942794
             ],
             "passed_time": 25.71482993,
             "remaining_time": 15.10236043,
             "test": [
              0.08680335568
             ]
            },
            {
             "iteration": 63,
             "learn": [
              0.08398370705
             ],
             "passed_time": 26.12009696,
             "remaining_time": 14.69255454,
             "test": [
              0.08442633275
             ]
            },
            {
             "iteration": 64,
             "learn": [
              0.08152780055
             ],
             "passed_time": 26.52042257,
             "remaining_time": 14.28022754,
             "test": [
              0.08212732307
             ]
            },
            {
             "iteration": 65,
             "learn": [
              0.07919418603
             ],
             "passed_time": 26.94378071,
             "remaining_time": 13.88012946,
             "test": [
              0.07983617832
             ]
            },
            {
             "iteration": 66,
             "learn": [
              0.07707980923
             ],
             "passed_time": 27.34252646,
             "remaining_time": 13.46721452,
             "test": [
              0.07761612799
             ]
            },
            {
             "iteration": 67,
             "learn": [
              0.07505977591
             ],
             "passed_time": 27.71782617,
             "remaining_time": 13.0436829,
             "test": [
              0.07550467317
             ]
            },
            {
             "iteration": 68,
             "learn": [
              0.07308661299
             ],
             "passed_time": 28.10070096,
             "remaining_time": 12.62495261,
             "test": [
              0.07345953994
             ]
            },
            {
             "iteration": 69,
             "learn": [
              0.07111616899
             ],
             "passed_time": 28.51380856,
             "remaining_time": 12.22020367,
             "test": [
              0.07147257174
             ]
            },
            {
             "iteration": 70,
             "learn": [
              0.06915570366
             ],
             "passed_time": 28.9050613,
             "remaining_time": 11.80629265,
             "test": [
              0.069541616
             ]
            },
            {
             "iteration": 71,
             "learn": [
              0.06723325049
             ],
             "passed_time": 29.3100211,
             "remaining_time": 11.39834154,
             "test": [
              0.06764623582
             ]
            },
            {
             "iteration": 72,
             "learn": [
              0.06546782219
             ],
             "passed_time": 29.68222917,
             "remaining_time": 10.97835873,
             "test": [
              0.06586004651
             ]
            },
            {
             "iteration": 73,
             "learn": [
              0.0639641369
             ],
             "passed_time": 30.08070632,
             "remaining_time": 10.56889682,
             "test": [
              0.0641394296
             ]
            },
            {
             "iteration": 74,
             "learn": [
              0.06224006822
             ],
             "passed_time": 30.48690234,
             "remaining_time": 10.16230078,
             "test": [
              0.06240056309
             ]
            },
            {
             "iteration": 75,
             "learn": [
              0.06048358933
             ],
             "passed_time": 30.88335138,
             "remaining_time": 9.752637277,
             "test": [
              0.06076243499
             ]
            },
            {
             "iteration": 76,
             "learn": [
              0.05910310186
             ],
             "passed_time": 31.30035415,
             "remaining_time": 9.349456433,
             "test": [
              0.05927150337
             ]
            },
            {
             "iteration": 77,
             "learn": [
              0.05740207979
             ],
             "passed_time": 31.70537886,
             "remaining_time": 8.942542754,
             "test": [
              0.05773504475
             ]
            },
            {
             "iteration": 78,
             "learn": [
              0.0559567706
             ],
             "passed_time": 32.10023436,
             "remaining_time": 8.532973691,
             "test": [
              0.05624393313
             ]
            },
            {
             "iteration": 79,
             "learn": [
              0.05445813795
             ],
             "passed_time": 32.49037974,
             "remaining_time": 8.122594935,
             "test": [
              0.05480999077
             ]
            },
            {
             "iteration": 80,
             "learn": [
              0.05315973366
             ],
             "passed_time": 32.90010502,
             "remaining_time": 7.717308586,
             "test": [
              0.05342024031
             ]
            },
            {
             "iteration": 81,
             "learn": [
              0.05173477693
             ],
             "passed_time": 33.2988951,
             "remaining_time": 7.309513558,
             "test": [
              0.05203009691
             ]
            },
            {
             "iteration": 82,
             "learn": [
              0.05047196162
             ],
             "passed_time": 33.68571512,
             "remaining_time": 6.899483819,
             "test": [
              0.05073292079
             ]
            },
            {
             "iteration": 83,
             "learn": [
              0.04926193011
             ],
             "passed_time": 34.08068361,
             "remaining_time": 6.491558783,
             "test": [
              0.04947323919
             ]
            },
            {
             "iteration": 84,
             "learn": [
              0.04791734713
             ],
             "passed_time": 34.48443517,
             "remaining_time": 6.085488559,
             "test": [
              0.04823920233
             ]
            },
            {
             "iteration": 85,
             "learn": [
              0.04670088801
             ],
             "passed_time": 34.88369162,
             "remaining_time": 5.678740496,
             "test": [
              0.04702090944
             ]
            },
            {
             "iteration": 86,
             "learn": [
              0.0455684892
             ],
             "passed_time": 35.29336244,
             "remaining_time": 5.273720824,
             "test": [
              0.04589037352
             ]
            },
            {
             "iteration": 87,
             "learn": [
              0.04450637791
             ],
             "passed_time": 35.69210745,
             "remaining_time": 4.867105562,
             "test": [
              0.04473958303
             ]
            },
            {
             "iteration": 88,
             "learn": [
              0.04340019426
             ],
             "passed_time": 36.13818746,
             "remaining_time": 4.466517552,
             "test": [
              0.04365283926
             ]
            },
            {
             "iteration": 89,
             "learn": [
              0.04234938747
             ],
             "passed_time": 36.54696967,
             "remaining_time": 4.060774408,
             "test": [
              0.04254545425
             ]
            },
            {
             "iteration": 90,
             "learn": [
              0.04128684162
             ],
             "passed_time": 36.95397344,
             "remaining_time": 3.654788582,
             "test": [
              0.04148625167
             ]
            },
            {
             "iteration": 91,
             "learn": [
              0.0402797204
             ],
             "passed_time": 37.33446837,
             "remaining_time": 3.24647551,
             "test": [
              0.04051345987
             ]
            },
            {
             "iteration": 92,
             "learn": [
              0.03928394717
             ],
             "passed_time": 37.75466606,
             "remaining_time": 2.841749058,
             "test": [
              0.03958006269
             ]
            },
            {
             "iteration": 93,
             "learn": [
              0.03836545011
             ],
             "passed_time": 38.11524327,
             "remaining_time": 2.432887868,
             "test": [
              0.03859893757
             ]
            },
            {
             "iteration": 94,
             "learn": [
              0.0374470114
             ],
             "passed_time": 38.50244023,
             "remaining_time": 2.026444223,
             "test": [
              0.03763758749
             ]
            },
            {
             "iteration": 95,
             "learn": [
              0.03658846182
             ],
             "passed_time": 38.89973104,
             "remaining_time": 1.620822127,
             "test": [
              0.03672244601
             ]
            },
            {
             "iteration": 96,
             "learn": [
              0.03570032333
             ],
             "passed_time": 39.28617691,
             "remaining_time": 1.215036399,
             "test": [
              0.03591645948
             ]
            },
            {
             "iteration": 97,
             "learn": [
              0.03488239678
             ],
             "passed_time": 39.67971791,
             "remaining_time": 0.8097901615,
             "test": [
              0.03507925098
             ]
            },
            {
             "iteration": 98,
             "learn": [
              0.03408247459
             ],
             "passed_time": 40.06656714,
             "remaining_time": 0.4047127994,
             "test": [
              0.03426184557
             ]
            },
            {
             "iteration": 99,
             "learn": [
              0.03324464256
             ],
             "passed_time": 40.45603327,
             "remaining_time": 0,
             "test": [
              0.03341660755
             ]
            }
           ],
           "meta": {
            "iteration_count": 100,
            "launch_mode": "Train",
            "learn_metrics": [
             {
              "best_value": "Min",
              "name": "CrossEntropy"
             }
            ],
            "learn_sets": [
             "learn"
            ],
            "name": "experiment",
            "parameters": "",
            "test_metrics": [
             {
              "best_value": "Min",
              "name": "CrossEntropy"
             }
            ],
            "test_sets": [
             "test"
            ]
           }
          },
          "passed_iterations": 99,
          "total_iterations": 100
         },
         "name": "catboost_info",
         "path": "catboost_info"
        }
       },
       "layout": "IPY_MODEL_786d87be50ba46029646f27a5ac669e2"
      }
     },
     "9cd7423416494ca4b5091e65521beaf1": {
      "model_module": "catboost-widget",
      "model_module_version": "^1.0.0",
      "model_name": "CatboostWidgetModel",
      "state": {
       "_dom_classes": [],
       "_model_module": "catboost-widget",
       "_model_module_version": "^1.0.0",
       "_model_name": "CatboostWidgetModel",
       "_view_count": null,
       "_view_module": "catboost-widget",
       "_view_module_version": "^1.0.0",
       "_view_name": "CatboostWidgetView",
       "data": {
        "catboost_info": {
         "content": {
          "data": {
           "iterations": [
            {
             "iteration": 0,
             "learn": [
              0.6613823555
             ],
             "passed_time": 0.4124077909,
             "remaining_time": 40.82837129,
             "test": [
              0.6636030649
             ]
            },
            {
             "iteration": 1,
             "learn": [
              0.6362996764
             ],
             "passed_time": 0.796112868,
             "remaining_time": 39.00953053,
             "test": [
              0.6357783493
             ]
            },
            {
             "iteration": 2,
             "learn": [
              0.6093829777
             ],
             "passed_time": 1.219226575,
             "remaining_time": 39.42165925,
             "test": [
              0.6095280543
             ]
            },
            {
             "iteration": 3,
             "learn": [
              0.5837244359
             ],
             "passed_time": 1.547938576,
             "remaining_time": 37.15052583,
             "test": [
              0.5847211142
             ]
            },
            {
             "iteration": 4,
             "learn": [
              0.5622017904
             ],
             "passed_time": 1.925385588,
             "remaining_time": 36.58232617,
             "test": [
              0.5612471194
             ]
            },
            {
             "iteration": 5,
             "learn": [
              0.5377027038
             ],
             "passed_time": 2.316312046,
             "remaining_time": 36.28888873,
             "test": [
              0.5390042623
             ]
            },
            {
             "iteration": 6,
             "learn": [
              0.5168970227
             ],
             "passed_time": 2.756992501,
             "remaining_time": 36.62861466,
             "test": [
              0.5178994105
             ]
            },
            {
             "iteration": 7,
             "learn": [
              0.4987018363
             ],
             "passed_time": 3.156209455,
             "remaining_time": 36.29640874,
             "test": [
              0.4978520122
             ]
            },
            {
             "iteration": 8,
             "learn": [
              0.4785423196
             ],
             "passed_time": 3.559293564,
             "remaining_time": 35.9884127,
             "test": [
              0.4787888576
             ]
            },
            {
             "iteration": 9,
             "learn": [
              0.4605973587
             ],
             "passed_time": 3.900311222,
             "remaining_time": 35.102801,
             "test": [
              0.460642905
             ]
            },
            {
             "iteration": 10,
             "learn": [
              0.4439140374
             ],
             "passed_time": 4.335900747,
             "remaining_time": 35.08137877,
             "test": [
              0.4433560632
             ]
            },
            {
             "iteration": 11,
             "learn": [
              0.4280742319
             ],
             "passed_time": 4.755693888,
             "remaining_time": 34.87508851,
             "test": [
              0.4268710876
             ]
            },
            {
             "iteration": 12,
             "learn": [
              0.4121836298
             ],
             "passed_time": 5.163851297,
             "remaining_time": 34.55808176,
             "test": [
              0.4111383666
             ]
            },
            {
             "iteration": 13,
             "learn": [
              0.3968026121
             ],
             "passed_time": 5.531356475,
             "remaining_time": 33.97833263,
             "test": [
              0.3961129795
             ]
            },
            {
             "iteration": 14,
             "learn": [
              0.3824230074
             ],
             "passed_time": 5.967062534,
             "remaining_time": 33.81335436,
             "test": [
              0.3817523824
             ]
            },
            {
             "iteration": 15,
             "learn": [
              0.3673640535
             ],
             "passed_time": 6.416633823,
             "remaining_time": 33.68732757,
             "test": [
              0.3680205548
             ]
            },
            {
             "iteration": 16,
             "learn": [
              0.3539070184
             ],
             "passed_time": 6.785383236,
             "remaining_time": 33.1286358,
             "test": [
              0.354876314
             ]
            },
            {
             "iteration": 17,
             "learn": [
              0.3432079856
             ],
             "passed_time": 7.172707488,
             "remaining_time": 32.67566744,
             "test": [
              0.3422894805
             ]
            },
            {
             "iteration": 18,
             "learn": [
              0.3301183764
             ],
             "passed_time": 7.50681764,
             "remaining_time": 32.00274889,
             "test": [
              0.3302295659
             ]
            },
            {
             "iteration": 19,
             "learn": [
              0.3197075974
             ],
             "passed_time": 7.96858705,
             "remaining_time": 31.8743482,
             "test": [
              0.318668647
             ]
            },
            {
             "iteration": 20,
             "learn": [
              0.3070248358
             ],
             "passed_time": 8.357263507,
             "remaining_time": 31.43922938,
             "test": [
              0.3075798838
             ]
            },
            {
             "iteration": 21,
             "learn": [
              0.2969177994
             ],
             "passed_time": 8.839107877,
             "remaining_time": 31.3386552,
             "test": [
              0.2969393062
             ]
            },
            {
             "iteration": 22,
             "learn": [
              0.2868087523
             ],
             "passed_time": 9.262411198,
             "remaining_time": 31.00894184,
             "test": [
              0.2867238982
             ]
            },
            {
             "iteration": 23,
             "learn": [
              0.2765453632
             ],
             "passed_time": 9.667412333,
             "remaining_time": 30.61347239,
             "test": [
              0.2769125412
             ]
            },
            {
             "iteration": 24,
             "learn": [
              0.2665044024
             ],
             "passed_time": 10.04308998,
             "remaining_time": 30.12926993,
             "test": [
              0.2674856218
             ]
            },
            {
             "iteration": 25,
             "learn": [
              0.2580222652
             ],
             "passed_time": 10.45467127,
             "remaining_time": 29.75560285,
             "test": [
              0.2584248082
             ]
            },
            {
             "iteration": 26,
             "learn": [
              0.2500058353
             ],
             "passed_time": 10.84312707,
             "remaining_time": 29.31660283,
             "test": [
              0.2497123347
             ]
            },
            {
             "iteration": 27,
             "learn": [
              0.2420167162
             ],
             "passed_time": 11.22926824,
             "remaining_time": 28.87526119,
             "test": [
              0.2413314185
             ]
            },
            {
             "iteration": 28,
             "learn": [
              0.233726641
             ],
             "passed_time": 11.64972801,
             "remaining_time": 28.5217479,
             "test": [
              0.2332675782
             ]
            },
            {
             "iteration": 29,
             "learn": [
              0.225897752
             ],
             "passed_time": 12.07533827,
             "remaining_time": 28.17578929,
             "test": [
              0.2255054796
             ]
            },
            {
             "iteration": 30,
             "learn": [
              0.2185717873
             ],
             "passed_time": 12.50170239,
             "remaining_time": 27.82636983,
             "test": [
              0.2180323779
             ]
            },
            {
             "iteration": 31,
             "learn": [
              0.2109798854
             ],
             "passed_time": 12.86438407,
             "remaining_time": 27.33681614,
             "test": [
              0.2108343905
             ]
            },
            {
             "iteration": 32,
             "learn": [
              0.2034024702
             ],
             "passed_time": 13.44314848,
             "remaining_time": 27.29366509,
             "test": [
              0.2038999813
             ]
            },
            {
             "iteration": 33,
             "learn": [
              0.196501375
             ],
             "passed_time": 14.05710939,
             "remaining_time": 27.28732999,
             "test": [
              0.1972182392
             ]
            },
            {
             "iteration": 34,
             "learn": [
              0.1912365079
             ],
             "passed_time": 14.6621763,
             "remaining_time": 27.22975599,
             "test": [
              0.1907775281
             ]
            },
            {
             "iteration": 35,
             "learn": [
              0.1839724327
             ],
             "passed_time": 15.01705216,
             "remaining_time": 26.69698161,
             "test": [
              0.1845677202
             ]
            },
            {
             "iteration": 36,
             "learn": [
              0.1788326979
             ],
             "passed_time": 15.40134242,
             "remaining_time": 26.22390736,
             "test": [
              0.1785794922
             ]
            },
            {
             "iteration": 37,
             "learn": [
              0.172256124
             ],
             "passed_time": 15.77308009,
             "remaining_time": 25.73502542,
             "test": [
              0.172804098
             ]
            },
            {
             "iteration": 38,
             "learn": [
              0.167727209
             ],
             "passed_time": 16.19454201,
             "remaining_time": 25.32992469,
             "test": [
              0.1672316054
             ]
            },
            {
             "iteration": 39,
             "learn": [
              0.1614880329
             ],
             "passed_time": 16.59349279,
             "remaining_time": 24.89023919,
             "test": [
              0.1618538115
             ]
            },
            {
             "iteration": 40,
             "learn": [
              0.1563900626
             ],
             "passed_time": 17.01508145,
             "remaining_time": 24.48511721,
             "test": [
              0.1566642425
             ]
            },
            {
             "iteration": 41,
             "learn": [
              0.1520783417
             ],
             "passed_time": 17.4269233,
             "remaining_time": 24.06575122,
             "test": [
              0.1516538226
             ]
            },
            {
             "iteration": 42,
             "learn": [
              0.1470746938
             ],
             "passed_time": 17.85561627,
             "remaining_time": 23.66907273,
             "test": [
              0.1468165415
             ]
            },
            {
             "iteration": 43,
             "learn": [
              0.1419429862
             ],
             "passed_time": 18.27019087,
             "remaining_time": 23.2529702,
             "test": [
              0.1421447609
             ]
            },
            {
             "iteration": 44,
             "learn": [
              0.1371802551
             ],
             "passed_time": 18.70195658,
             "remaining_time": 22.85794693,
             "test": [
              0.1376323974
             ]
            },
            {
             "iteration": 45,
             "learn": [
              0.1329791734
             ],
             "passed_time": 19.14706084,
             "remaining_time": 22.47698447,
             "test": [
              0.1332737714
             ]
            },
            {
             "iteration": 46,
             "learn": [
              0.1289858197
             ],
             "passed_time": 19.5062252,
             "remaining_time": 21.9963816,
             "test": [
              0.1290620854
             ]
            },
            {
             "iteration": 47,
             "learn": [
              0.1250615608
             ],
             "passed_time": 20.07389606,
             "remaining_time": 21.74672073,
             "test": [
              0.1249929491
             ]
            },
            {
             "iteration": 48,
             "learn": [
              0.1211519364
             ],
             "passed_time": 20.50221226,
             "remaining_time": 21.33903725,
             "test": [
              0.1210604736
             ]
            },
            {
             "iteration": 49,
             "learn": [
              0.1172660248
             ],
             "passed_time": 20.83943921,
             "remaining_time": 20.83943921,
             "test": [
              0.1172585335
             ]
            },
            {
             "iteration": 50,
             "learn": [
              0.1133959404
             ],
             "passed_time": 21.24590011,
             "remaining_time": 20.41272755,
             "test": [
              0.1135843694
             ]
            },
            {
             "iteration": 51,
             "learn": [
              0.1098288707
             ],
             "passed_time": 21.57489259,
             "remaining_time": 19.91528547,
             "test": [
              0.1100305362
             ]
            },
            {
             "iteration": 52,
             "learn": [
              0.1070014346
             ],
             "passed_time": 21.9061415,
             "remaining_time": 19.42620095,
             "test": [
              0.1065944983
             ]
            },
            {
             "iteration": 53,
             "learn": [
              0.1034831345
             ],
             "passed_time": 22.2481946,
             "remaining_time": 18.95216577,
             "test": [
              0.1032719659
             ]
            },
            {
             "iteration": 54,
             "learn": [
              0.09981285961
             ],
             "passed_time": 22.70474709,
             "remaining_time": 18.57661125,
             "test": [
              0.1000589406
             ]
            },
            {
             "iteration": 55,
             "learn": [
              0.09721758227
             ],
             "passed_time": 23.11978804,
             "remaining_time": 18.16554775,
             "test": [
              0.09695113556
             ]
            },
            {
             "iteration": 56,
             "learn": [
              0.09384651561
             ],
             "passed_time": 23.54411801,
             "remaining_time": 17.76135218,
             "test": [
              0.09394392151
             ]
            },
            {
             "iteration": 57,
             "learn": [
              0.0913041905
             ],
             "passed_time": 23.93911941,
             "remaining_time": 17.3352244,
             "test": [
              0.09103439005
             ]
            },
            {
             "iteration": 58,
             "learn": [
              0.08803408987
             ],
             "passed_time": 24.34760072,
             "remaining_time": 16.91951914,
             "test": [
              0.08821941808
             ]
            },
            {
             "iteration": 59,
             "learn": [
              0.08557386435
             ],
             "passed_time": 24.77090352,
             "remaining_time": 16.51393568,
             "test": [
              0.08549559655
             ]
            },
            {
             "iteration": 60,
             "learn": [
              0.08267865942
             ],
             "passed_time": 25.19220032,
             "remaining_time": 16.10648873,
             "test": [
              0.08285938588
             ]
            },
            {
             "iteration": 61,
             "learn": [
              0.08019034293
             ],
             "passed_time": 25.60743064,
             "remaining_time": 15.69487684,
             "test": [
              0.08030793195
             ]
            },
            {
             "iteration": 62,
             "learn": [
              0.07805794561
             ],
             "passed_time": 26.00031048,
             "remaining_time": 15.27002361,
             "test": [
              0.07783834149
             ]
            },
            {
             "iteration": 63,
             "learn": [
              0.07558757724
             ],
             "passed_time": 26.392437,
             "remaining_time": 14.84574581,
             "test": [
              0.07544745734
             ]
            },
            {
             "iteration": 64,
             "learn": [
              0.07305945465
             ],
             "passed_time": 26.84579504,
             "remaining_time": 14.4554281,
             "test": [
              0.07313321451
             ]
            },
            {
             "iteration": 65,
             "learn": [
              0.07072129102
             ],
             "passed_time": 27.26257439,
             "remaining_time": 14.04435651,
             "test": [
              0.07089234309
             ]
            },
            {
             "iteration": 66,
             "learn": [
              0.06858347073
             ],
             "passed_time": 27.70012852,
             "remaining_time": 13.64334688,
             "test": [
              0.06872302511
             ]
            },
            {
             "iteration": 67,
             "learn": [
              0.06652951442
             ],
             "passed_time": 28.04924201,
             "remaining_time": 13.1996433,
             "test": [
              0.06662288805
             ]
            },
            {
             "iteration": 68,
             "learn": [
              0.06455852346
             ],
             "passed_time": 28.45518564,
             "remaining_time": 12.78421384,
             "test": [
              0.06458839527
             ]
            },
            {
             "iteration": 69,
             "learn": [
              0.06260368826
             ],
             "passed_time": 28.777112,
             "remaining_time": 12.333048,
             "test": [
              0.06261792116
             ]
            },
            {
             "iteration": 70,
             "learn": [
              0.060657593
             ],
             "passed_time": 29.12796337,
             "remaining_time": 11.89733715,
             "test": [
              0.06070951452
             ]
            },
            {
             "iteration": 71,
             "learn": [
              0.05875307817
             ],
             "passed_time": 29.50365004,
             "remaining_time": 11.47364168,
             "test": [
              0.05886217027
             ]
            },
            {
             "iteration": 72,
             "learn": [
              0.05694914327
             ],
             "passed_time": 29.89992054,
             "remaining_time": 11.05887472,
             "test": [
              0.05707178454
             ]
            },
            {
             "iteration": 73,
             "learn": [
              0.05552767099
             ],
             "passed_time": 30.34722887,
             "remaining_time": 10.66253987,
             "test": [
              0.05533777217
             ]
            },
            {
             "iteration": 74,
             "learn": [
              0.05377330076
             ],
             "passed_time": 30.84699771,
             "remaining_time": 10.28233257,
             "test": [
              0.05365793981
             ]
            },
            {
             "iteration": 75,
             "learn": [
              0.05192896669
             ],
             "passed_time": 31.2748361,
             "remaining_time": 9.87626403,
             "test": [
              0.05203024238
             ]
            },
            {
             "iteration": 76,
             "learn": [
              0.05063176008
             ],
             "passed_time": 31.78691122,
             "remaining_time": 9.494791662,
             "test": [
              0.05045332636
             ]
            },
            {
             "iteration": 77,
             "learn": [
              0.04893680749
             ],
             "passed_time": 32.19113189,
             "remaining_time": 9.07955002,
             "test": [
              0.04892568255
             ]
            },
            {
             "iteration": 78,
             "learn": [
              0.04747224179
             ],
             "passed_time": 32.56911296,
             "remaining_time": 8.657612306,
             "test": [
              0.04744462805
             ]
            },
            {
             "iteration": 79,
             "learn": [
              0.04600967133
             ],
             "passed_time": 32.95374957,
             "remaining_time": 8.238437393,
             "test": [
              0.0460104698
             ]
            },
            {
             "iteration": 80,
             "learn": [
              0.04475617841
             ],
             "passed_time": 33.31381359,
             "remaining_time": 7.814351336,
             "test": [
              0.04462067587
             ]
            },
            {
             "iteration": 81,
             "learn": [
              0.04318974647
             ],
             "passed_time": 33.67918277,
             "remaining_time": 7.392991339,
             "test": [
              0.04327339849
             ]
            },
            {
             "iteration": 82,
             "learn": [
              0.04207391826
             ],
             "passed_time": 34.03275299,
             "remaining_time": 6.970563866,
             "test": [
              0.04196788935
             ]
            },
            {
             "iteration": 83,
             "learn": [
              0.04082384249
             ],
             "passed_time": 34.38909781,
             "remaining_time": 6.550304345,
             "test": [
              0.04070252523
             ]
            },
            {
             "iteration": 84,
             "learn": [
              0.03946056729
             ],
             "passed_time": 34.77147194,
             "remaining_time": 6.136142107,
             "test": [
              0.03947606801
             ]
            },
            {
             "iteration": 85,
             "learn": [
              0.03825019418
             ],
             "passed_time": 35.23391793,
             "remaining_time": 5.735754082,
             "test": [
              0.03828760009
             ]
            },
            {
             "iteration": 86,
             "learn": [
              0.03721482107
             ],
             "passed_time": 35.57552025,
             "remaining_time": 5.315882336,
             "test": [
              0.03713580423
             ]
            },
            {
             "iteration": 87,
             "learn": [
              0.03616444878
             ],
             "passed_time": 36.00032105,
             "remaining_time": 4.909134688,
             "test": [
              0.03601943703
             ]
            },
            {
             "iteration": 88,
             "learn": [
              0.0349938728
             ],
             "passed_time": 36.38474366,
             "remaining_time": 4.496990789,
             "test": [
              0.0349365679
             ]
            },
            {
             "iteration": 89,
             "learn": [
              0.03395170325
             ],
             "passed_time": 36.84091362,
             "remaining_time": 4.093434846,
             "test": [
              0.03388723214
             ]
            },
            {
             "iteration": 90,
             "learn": [
              0.0329379459
             ],
             "passed_time": 37.19472344,
             "remaining_time": 3.678599021,
             "test": [
              0.03286965093
             ]
            },
            {
             "iteration": 91,
             "learn": [
              0.03194821928
             ],
             "passed_time": 37.62767549,
             "remaining_time": 3.271971782,
             "test": [
              0.03188445911
             ]
            },
            {
             "iteration": 92,
             "learn": [
              0.03097068586
             ],
             "passed_time": 38.03552738,
             "remaining_time": 2.862889158,
             "test": [
              0.0309287312
             ]
            },
            {
             "iteration": 93,
             "learn": [
              0.03004064382
             ],
             "passed_time": 38.48909441,
             "remaining_time": 2.456750707,
             "test": [
              0.03000196536
             ]
            },
            {
             "iteration": 94,
             "learn": [
              0.02914313013
             ],
             "passed_time": 38.82796393,
             "remaining_time": 2.043577049,
             "test": [
              0.02910273606
             ]
            },
            {
             "iteration": 95,
             "learn": [
              0.02835358834
             ],
             "passed_time": 39.23433259,
             "remaining_time": 1.634763858,
             "test": [
              0.02823105187
             ]
            },
            {
             "iteration": 96,
             "learn": [
              0.02746108287
             ],
             "passed_time": 39.65522352,
             "remaining_time": 1.226450212,
             "test": [
              0.02738703557
             ]
            },
            {
             "iteration": 97,
             "learn": [
              0.02657820202
             ],
             "passed_time": 40.04668863,
             "remaining_time": 0.8172793598,
             "test": [
              0.02656785018
             ]
            },
            {
             "iteration": 98,
             "learn": [
              0.02589651427
             ],
             "passed_time": 40.45044129,
             "remaining_time": 0.408590316,
             "test": [
              0.02577335575
             ]
            },
            {
             "iteration": 99,
             "learn": [
              0.02503482613
             ],
             "passed_time": 40.78407007,
             "remaining_time": 0,
             "test": [
              0.02500270584
             ]
            }
           ],
           "meta": {
            "iteration_count": 100,
            "launch_mode": "Train",
            "learn_metrics": [
             {
              "best_value": "Min",
              "name": "CrossEntropy"
             }
            ],
            "learn_sets": [
             "learn"
            ],
            "name": "experiment",
            "parameters": "",
            "test_metrics": [
             {
              "best_value": "Min",
              "name": "CrossEntropy"
             }
            ],
            "test_sets": [
             "test"
            ]
           }
          },
          "passed_iterations": 99,
          "total_iterations": 100
         },
         "name": "catboost_info",
         "path": "catboost_info"
        }
       },
       "layout": "IPY_MODEL_cc8067157a234b1d8592c7ecf9236414"
      }
     },
     "9df6459253814758a3ed9365dcceb525": {
      "model_module": "@jupyter-widgets/base",
      "model_module_version": "1.2.0",
      "model_name": "LayoutModel",
      "state": {
       "_model_module": "@jupyter-widgets/base",
       "_model_module_version": "1.2.0",
       "_model_name": "LayoutModel",
       "_view_count": null,
       "_view_module": "@jupyter-widgets/base",
       "_view_module_version": "1.2.0",
       "_view_name": "LayoutView",
       "align_content": null,
       "align_items": null,
       "align_self": "stretch",
       "border": null,
       "bottom": null,
       "display": null,
       "flex": null,
       "flex_flow": null,
       "grid_area": null,
       "grid_auto_columns": null,
       "grid_auto_flow": null,
       "grid_auto_rows": null,
       "grid_column": null,
       "grid_gap": null,
       "grid_row": null,
       "grid_template_areas": null,
       "grid_template_columns": null,
       "grid_template_rows": null,
       "height": "500px",
       "justify_content": null,
       "justify_items": null,
       "left": null,
       "margin": null,
       "max_height": null,
       "max_width": null,
       "min_height": null,
       "min_width": null,
       "object_fit": null,
       "object_position": null,
       "order": null,
       "overflow": null,
       "overflow_x": null,
       "overflow_y": null,
       "padding": null,
       "right": null,
       "top": null,
       "visibility": null,
       "width": null
      }
     },
     "9fa0e6eea0234a85953c79fcb9d7f1d6": {
      "model_module": "catboost-widget",
      "model_module_version": "^1.0.0",
      "model_name": "CatboostWidgetModel",
      "state": {
       "_dom_classes": [],
       "_model_module": "catboost-widget",
       "_model_module_version": "^1.0.0",
       "_model_name": "CatboostWidgetModel",
       "_view_count": null,
       "_view_module": "catboost-widget",
       "_view_module_version": "^1.0.0",
       "_view_name": "CatboostWidgetView",
       "data": {
        "catboost_info": {
         "content": {
          "data": {
           "iterations": [
            {
             "iteration": 0,
             "learn": [
              0.6613837617
             ],
             "passed_time": 0.4171952393,
             "remaining_time": 41.30232869,
             "test": [
              0.6636017023
             ]
            },
            {
             "iteration": 1,
             "learn": [
              0.6363108477
             ],
             "passed_time": 0.8035252726,
             "remaining_time": 39.37273836,
             "test": [
              0.6357762506
             ]
            },
            {
             "iteration": 2,
             "learn": [
              0.6093871702
             ],
             "passed_time": 1.232479212,
             "remaining_time": 39.8501612,
             "test": [
              0.6095267333
             ]
            },
            {
             "iteration": 3,
             "learn": [
              0.5837378678
             ],
             "passed_time": 1.559281881,
             "remaining_time": 37.42276514,
             "test": [
              0.5847211242
             ]
            },
            {
             "iteration": 4,
             "learn": [
              0.5622164315
             ],
             "passed_time": 1.941731492,
             "remaining_time": 36.89289836,
             "test": [
              0.5612478791
             ]
            },
            {
             "iteration": 5,
             "learn": [
              0.5377581531
             ],
             "passed_time": 2.349512169,
             "remaining_time": 36.80902398,
             "test": [
              0.5390054436
             ]
            },
            {
             "iteration": 6,
             "learn": [
              0.516914358
             ],
             "passed_time": 2.796055111,
             "remaining_time": 37.14758933,
             "test": [
              0.5179023468
             ]
            },
            {
             "iteration": 7,
             "learn": [
              0.4987202625
             ],
             "passed_time": 3.196828171,
             "remaining_time": 36.76352397,
             "test": [
              0.4978566036
             ]
            },
            {
             "iteration": 8,
             "learn": [
              0.4785625332
             ],
             "passed_time": 3.595103113,
             "remaining_time": 36.35048703,
             "test": [
              0.4787941321
             ]
            },
            {
             "iteration": 9,
             "learn": [
              0.4606099494
             ],
             "passed_time": 3.934805289,
             "remaining_time": 35.4132476,
             "test": [
              0.4606490591
             ]
            },
            {
             "iteration": 10,
             "learn": [
              0.4439028266
             ],
             "passed_time": 4.370493588,
             "remaining_time": 35.3612663,
             "test": [
              0.4433631859
             ]
            },
            {
             "iteration": 11,
             "learn": [
              0.4280917446
             ],
             "passed_time": 4.786847609,
             "remaining_time": 35.10354913,
             "test": [
              0.426878661
             ]
            },
            {
             "iteration": 12,
             "learn": [
              0.4121856932
             ],
             "passed_time": 5.19664171,
             "remaining_time": 34.77752529,
             "test": [
              0.4111467648
             ]
            },
            {
             "iteration": 13,
             "learn": [
              0.3968257763
             ],
             "passed_time": 5.570228774,
             "remaining_time": 34.21711961,
             "test": [
              0.3961218801
             ]
            },
            {
             "iteration": 14,
             "learn": [
              0.382450627
             ],
             "passed_time": 6.006696784,
             "remaining_time": 34.03794844,
             "test": [
              0.38176192
             ]
            },
            {
             "iteration": 15,
             "learn": [
              0.3673944658
             ],
             "passed_time": 6.457338228,
             "remaining_time": 33.9010257,
             "test": [
              0.3680278391
             ]
            },
            {
             "iteration": 16,
             "learn": [
              0.3539944375
             ],
             "passed_time": 6.817344637,
             "remaining_time": 33.28468264,
             "test": [
              0.3548836553
             ]
            },
            {
             "iteration": 17,
             "learn": [
              0.3432293229
             ],
             "passed_time": 7.19976207,
             "remaining_time": 32.7989161,
             "test": [
              0.3422967774
             ]
            },
            {
             "iteration": 18,
             "learn": [
              0.3301467253
             ],
             "passed_time": 7.534607598,
             "remaining_time": 32.12122186,
             "test": [
              0.3302374248
             ]
            },
            {
             "iteration": 19,
             "learn": [
              0.3197392189
             ],
             "passed_time": 7.990898099,
             "remaining_time": 31.9635924,
             "test": [
              0.3186769185
             ]
            },
            {
             "iteration": 20,
             "learn": [
              0.3070601964
             ],
             "passed_time": 8.373241742,
             "remaining_time": 31.49933798,
             "test": [
              0.3075883381
             ]
            },
            {
             "iteration": 21,
             "learn": [
              0.2969493092
             ],
             "passed_time": 8.808448891,
             "remaining_time": 31.22995516,
             "test": [
              0.2969483957
             ]
            },
            {
             "iteration": 22,
             "learn": [
              0.2868644316
             ],
             "passed_time": 9.231595288,
             "remaining_time": 30.90577553,
             "test": [
              0.286733704
             ]
            },
            {
             "iteration": 23,
             "learn": [
              0.2765866775
             ],
             "passed_time": 9.676172512,
             "remaining_time": 30.64121295,
             "test": [
              0.2769223604
             ]
            },
            {
             "iteration": 24,
             "learn": [
              0.2665722847
             ],
             "passed_time": 10.05192387,
             "remaining_time": 30.15577161,
             "test": [
              0.2674957953
             ]
            },
            {
             "iteration": 25,
             "learn": [
              0.2580587692
             ],
             "passed_time": 10.46068919,
             "remaining_time": 29.77273076,
             "test": [
              0.2584356497
             ]
            },
            {
             "iteration": 26,
             "learn": [
              0.2500399408
             ],
             "passed_time": 10.84588888,
             "remaining_time": 29.32406994,
             "test": [
              0.2497235426
             ]
            },
            {
             "iteration": 27,
             "learn": [
              0.2420518074
             ],
             "passed_time": 11.23018116,
             "remaining_time": 28.87760869,
             "test": [
              0.2413428529
             ]
            },
            {
             "iteration": 28,
             "learn": [
              0.2337666147
             ],
             "passed_time": 11.64838461,
             "remaining_time": 28.51845888,
             "test": [
              0.2332793136
             ]
            },
            {
             "iteration": 29,
             "learn": [
              0.2259362866
             ],
             "passed_time": 12.07137438,
             "remaining_time": 28.16654022,
             "test": [
              0.225517736
             ]
            },
            {
             "iteration": 30,
             "learn": [
              0.2186108312
             ],
             "passed_time": 12.50772831,
             "remaining_time": 27.83978236,
             "test": [
              0.2180446655
             ]
            },
            {
             "iteration": 31,
             "learn": [
              0.2110209828
             ],
             "passed_time": 12.88004782,
             "remaining_time": 27.37010161,
             "test": [
              0.2108477858
             ]
            },
            {
             "iteration": 32,
             "learn": [
              0.2034524488
             ],
             "passed_time": 13.367804,
             "remaining_time": 27.14069297,
             "test": [
              0.2039137032
             ]
            },
            {
             "iteration": 33,
             "learn": [
              0.1966032709
             ],
             "passed_time": 13.80666807,
             "remaining_time": 26.80117919,
             "test": [
              0.1972318502
             ]
            },
            {
             "iteration": 34,
             "learn": [
              0.1912676759
             ],
             "passed_time": 14.24827527,
             "remaining_time": 26.46108264,
             "test": [
              0.1907923957
             ]
            },
            {
             "iteration": 35,
             "learn": [
              0.1840217148
             ],
             "passed_time": 14.61005269,
             "remaining_time": 25.97342701,
             "test": [
              0.1845830878
             ]
            },
            {
             "iteration": 36,
             "learn": [
              0.1788610468
             ],
             "passed_time": 14.98904188,
             "remaining_time": 25.52188212,
             "test": [
              0.1785954537
             ]
            },
            {
             "iteration": 37,
             "learn": [
              0.1723194819
             ],
             "passed_time": 15.35322656,
             "remaining_time": 25.05000123,
             "test": [
              0.1728193418
             ]
            },
            {
             "iteration": 38,
             "learn": [
              0.1677678792
             ],
             "passed_time": 15.77695739,
             "remaining_time": 24.67677951,
             "test": [
              0.1672470626
             ]
            },
            {
             "iteration": 39,
             "learn": [
              0.161551588
             ],
             "passed_time": 16.16498553,
             "remaining_time": 24.24747829,
             "test": [
              0.161869688
             ]
            },
            {
             "iteration": 40,
             "learn": [
              0.1564528061
             ],
             "passed_time": 16.58726027,
             "remaining_time": 23.8694721,
             "test": [
              0.156679922
             ]
            },
            {
             "iteration": 41,
             "learn": [
              0.1521247126
             ],
             "passed_time": 16.99150449,
             "remaining_time": 23.46445858,
             "test": [
              0.151669553
             ]
            },
            {
             "iteration": 42,
             "learn": [
              0.1471304553
             ],
             "passed_time": 17.40950549,
             "remaining_time": 23.07771658,
             "test": [
              0.1468324049
             ]
            },
            {
             "iteration": 43,
             "learn": [
              0.1419956854
             ],
             "passed_time": 17.8193257,
             "remaining_time": 22.6791418,
             "test": [
              0.1421609739
             ]
            },
            {
             "iteration": 44,
             "learn": [
              0.1372517024
             ],
             "passed_time": 18.24568812,
             "remaining_time": 22.30028548,
             "test": [
              0.1376496888
             ]
            },
            {
             "iteration": 45,
             "learn": [
              0.1330438851
             ],
             "passed_time": 18.69203849,
             "remaining_time": 21.94282779,
             "test": [
              0.1332907307
             ]
            },
            {
             "iteration": 46,
             "learn": [
              0.1290514283
             ],
             "passed_time": 19.04622129,
             "remaining_time": 21.4776538,
             "test": [
              0.1290797231
             ]
            },
            {
             "iteration": 47,
             "learn": [
              0.1251274093
             ],
             "passed_time": 19.58176214,
             "remaining_time": 21.21357566,
             "test": [
              0.1250106534
             ]
            },
            {
             "iteration": 48,
             "learn": [
              0.1212171606
             ],
             "passed_time": 20.00378807,
             "remaining_time": 20.82026921,
             "test": [
              0.1210784268
             ]
            },
            {
             "iteration": 49,
             "learn": [
              0.1173346957
             ],
             "passed_time": 20.35264508,
             "remaining_time": 20.35264508,
             "test": [
              0.1172768366
             ]
            },
            {
             "iteration": 50,
             "learn": [
              0.1134673648
             ],
             "passed_time": 20.97677026,
             "remaining_time": 20.15415181,
             "test": [
              0.1136038724
             ]
            },
            {
             "iteration": 51,
             "learn": [
              0.1099034148
             ],
             "passed_time": 21.44477608,
             "remaining_time": 19.79517792,
             "test": [
              0.1100509815
             ]
            },
            {
             "iteration": 52,
             "learn": [
              0.1070533304
             ],
             "passed_time": 21.87247829,
             "remaining_time": 19.39634867,
             "test": [
              0.1066152727
             ]
            },
            {
             "iteration": 53,
             "learn": [
              0.1035434482
             ],
             "passed_time": 22.20747013,
             "remaining_time": 18.91747455,
             "test": [
              0.1032929038
             ]
            },
            {
             "iteration": 54,
             "learn": [
              0.0998836728
             ],
             "passed_time": 22.68314081,
             "remaining_time": 18.55893339,
             "test": [
              0.1000807289
             ]
            },
            {
             "iteration": 55,
             "learn": [
              0.09727529377
             ],
             "passed_time": 23.08777037,
             "remaining_time": 18.14039101,
             "test": [
              0.0969728339
             ]
            },
            {
             "iteration": 56,
             "learn": [
              0.09392268612
             ],
             "passed_time": 23.50768477,
             "remaining_time": 17.73386746,
             "test": [
              0.09396532257
             ]
            },
            {
             "iteration": 57,
             "learn": [
              0.09136490512
             ],
             "passed_time": 23.95871304,
             "remaining_time": 17.34941289,
             "test": [
              0.09105747908
             ]
            },
            {
             "iteration": 58,
             "learn": [
              0.08810718168
             ],
             "passed_time": 24.35790228,
             "remaining_time": 16.92667785,
             "test": [
              0.08824218279
             ]
            },
            {
             "iteration": 59,
             "learn": [
              0.08562839366
             ],
             "passed_time": 24.77479705,
             "remaining_time": 16.51653137,
             "test": [
              0.08551851688
             ]
            },
            {
             "iteration": 60,
             "learn": [
              0.08274594377
             ],
             "passed_time": 25.19643325,
             "remaining_time": 16.10919503,
             "test": [
              0.08288223877
             ]
            },
            {
             "iteration": 61,
             "learn": [
              0.08026509073
             ],
             "passed_time": 25.60358177,
             "remaining_time": 15.69251786,
             "test": [
              0.08033090212
             ]
            },
            {
             "iteration": 62,
             "learn": [
              0.07812923522
             ],
             "passed_time": 25.99575859,
             "remaining_time": 15.26735028,
             "test": [
              0.07786097634
             ]
            },
            {
             "iteration": 63,
             "learn": [
              0.07565767086
             ],
             "passed_time": 26.3856815,
             "remaining_time": 14.84194584,
             "test": [
              0.07547057715
             ]
            },
            {
             "iteration": 64,
             "learn": [
              0.07312952199
             ],
             "passed_time": 26.82773286,
             "remaining_time": 14.44570231,
             "test": [
              0.07315705561
             ]
            },
            {
             "iteration": 65,
             "learn": [
              0.07074632302
             ],
             "passed_time": 27.25026191,
             "remaining_time": 14.03801371,
             "test": [
              0.0709160083
             ]
            },
            {
             "iteration": 66,
             "learn": [
              0.06864011436
             ],
             "passed_time": 27.68207347,
             "remaining_time": 13.6344541,
             "test": [
              0.06874685844
             ]
            },
            {
             "iteration": 67,
             "learn": [
              0.06661009103
             ],
             "passed_time": 28.02949711,
             "remaining_time": 13.19035158,
             "test": [
              0.06664627585
             ]
            },
            {
             "iteration": 68,
             "learn": [
              0.06464114212
             ],
             "passed_time": 28.43281683,
             "remaining_time": 12.77416408,
             "test": [
              0.06461203911
             ]
            },
            {
             "iteration": 69,
             "learn": [
              0.06268788733
             ],
             "passed_time": 28.77847923,
             "remaining_time": 12.33363396,
             "test": [
              0.06264184691
             ]
            },
            {
             "iteration": 70,
             "learn": [
              0.06074281886
             ],
             "passed_time": 29.13086584,
             "remaining_time": 11.89852267,
             "test": [
              0.06073332744
             ]
            },
            {
             "iteration": 71,
             "learn": [
              0.05883780789
             ],
             "passed_time": 29.5006459,
             "remaining_time": 11.4724734,
             "test": [
              0.05888584736
             ]
            },
            {
             "iteration": 72,
             "learn": [
              0.05703107358
             ],
             "passed_time": 29.89259748,
             "remaining_time": 11.05616619,
             "test": [
              0.05709521964
             ]
            },
            {
             "iteration": 73,
             "learn": [
              0.05560686761
             ],
             "passed_time": 30.33096507,
             "remaining_time": 10.65682557,
             "test": [
              0.05536085616
             ]
            },
            {
             "iteration": 74,
             "learn": [
              0.0538536753
             ],
             "passed_time": 30.78574013,
             "remaining_time": 10.26191338,
             "test": [
              0.05368112609
             ]
            },
            {
             "iteration": 75,
             "learn": [
              0.05201162068
             ],
             "passed_time": 31.19566486,
             "remaining_time": 9.851262587,
             "test": [
              0.0520518476
             ]
            },
            {
             "iteration": 76,
             "learn": [
              0.05071186027
             ],
             "passed_time": 31.73204112,
             "remaining_time": 9.478401892,
             "test": [
              0.0504751241
             ]
            },
            {
             "iteration": 77,
             "learn": [
              0.04902318499
             ],
             "passed_time": 32.13074178,
             "remaining_time": 9.062516913,
             "test": [
              0.04894773766
             ]
            },
            {
             "iteration": 78,
             "learn": [
              0.04743646306
             ],
             "passed_time": 32.51895991,
             "remaining_time": 8.644280483,
             "test": [
              0.04746548142
             ]
            },
            {
             "iteration": 79,
             "learn": [
              0.04609687108
             ],
             "passed_time": 32.90547854,
             "remaining_time": 8.226369634,
             "test": [
              0.04603108249
             ]
            },
            {
             "iteration": 80,
             "learn": [
              0.04483588761
             ],
             "passed_time": 33.26470817,
             "remaining_time": 7.802832781,
             "test": [
              0.04464111203
             ]
            },
            {
             "iteration": 81,
             "learn": [
              0.04326811428
             ],
             "passed_time": 33.62305229,
             "remaining_time": 7.380670014,
             "test": [
              0.04329418189
             ]
            },
            {
             "iteration": 82,
             "learn": [
              0.04215145561
             ],
             "passed_time": 33.97051463,
             "remaining_time": 6.95781625,
             "test": [
              0.04198917888
             ]
            },
            {
             "iteration": 83,
             "learn": [
              0.04090576131
             ],
             "passed_time": 34.32674229,
             "remaining_time": 6.538427102,
             "test": [
              0.0407240718
             ]
            },
            {
             "iteration": 84,
             "learn": [
              0.03954536602
             ],
             "passed_time": 34.70705184,
             "remaining_time": 6.124773854,
             "test": [
              0.03949708023
             ]
            },
            {
             "iteration": 85,
             "learn": [
              0.03832934234
             ],
             "passed_time": 35.17592971,
             "remaining_time": 5.726314138,
             "test": [
              0.03830878832
             ]
            },
            {
             "iteration": 86,
             "learn": [
              0.03729841394
             ],
             "passed_time": 35.50816331,
             "remaining_time": 5.305817506,
             "test": [
              0.03715503675
             ]
            },
            {
             "iteration": 87,
             "learn": [
              0.03624731634
             ],
             "passed_time": 35.9336026,
             "remaining_time": 4.900036718,
             "test": [
              0.0360386675
             ]
            },
            {
             "iteration": 88,
             "learn": [
              0.03506970487
             ],
             "passed_time": 36.32811891,
             "remaining_time": 4.489992225,
             "test": [
              0.03495635137
             ]
            },
            {
             "iteration": 89,
             "learn": [
              0.03403013185
             ],
             "passed_time": 36.77020031,
             "remaining_time": 4.085577813,
             "test": [
              0.03390715688
             ]
            },
            {
             "iteration": 90,
             "learn": [
              0.03302356195
             ],
             "passed_time": 37.13877075,
             "remaining_time": 3.673065239,
             "test": [
              0.03289000004
             ]
            },
            {
             "iteration": 91,
             "learn": [
              0.03203439718
             ],
             "passed_time": 37.56343259,
             "remaining_time": 3.266385443,
             "test": [
              0.03190442429
             ]
            },
            {
             "iteration": 92,
             "learn": [
              0.03105796036
             ],
             "passed_time": 37.97177966,
             "remaining_time": 2.858090942,
             "test": [
              0.03094859802
             ]
            },
            {
             "iteration": 93,
             "learn": [
              0.03011886871
             ],
             "passed_time": 38.42304137,
             "remaining_time": 2.452534555,
             "test": [
              0.0300222373
             ]
            },
            {
             "iteration": 94,
             "learn": [
              0.02919582355
             ],
             "passed_time": 38.8774103,
             "remaining_time": 2.04617949,
             "test": [
              0.02912437462
             ]
            },
            {
             "iteration": 95,
             "learn": [
              0.02844333532
             ],
             "passed_time": 39.32181224,
             "remaining_time": 1.638408844,
             "test": [
              0.02825341182
             ]
            },
            {
             "iteration": 96,
             "learn": [
              0.02753983675
             ],
             "passed_time": 39.63612038,
             "remaining_time": 1.225859393,
             "test": [
              0.02740671246
             ]
            },
            {
             "iteration": 97,
             "learn": [
              0.0266344752
             ],
             "passed_time": 40.0634295,
             "remaining_time": 0.8176210102,
             "test": [
              0.0265882002
             ]
            },
            {
             "iteration": 98,
             "learn": [
              0.02597151631
             ],
             "passed_time": 40.42289248,
             "remaining_time": 0.4083120453,
             "test": [
              0.0257938833
             ]
            },
            {
             "iteration": 99,
             "learn": [
              0.0251167429
             ],
             "passed_time": 40.78693706,
             "remaining_time": 0,
             "test": [
              0.02502382462
             ]
            }
           ],
           "meta": {
            "iteration_count": 100,
            "launch_mode": "Train",
            "learn_metrics": [
             {
              "best_value": "Min",
              "name": "CrossEntropy"
             }
            ],
            "learn_sets": [
             "learn"
            ],
            "name": "experiment",
            "parameters": "",
            "test_metrics": [
             {
              "best_value": "Min",
              "name": "CrossEntropy"
             }
            ],
            "test_sets": [
             "test"
            ]
           }
          },
          "passed_iterations": 99,
          "total_iterations": 100
         },
         "name": "catboost_info",
         "path": "catboost_info"
        }
       },
       "layout": "IPY_MODEL_d416a56386124817b41d0563461ef5a9"
      }
     },
     "9fd42447b273413eaec3ea27db8bd186": {
      "model_module": "catboost-widget",
      "model_module_version": "^1.0.0",
      "model_name": "CatboostWidgetModel",
      "state": {
       "_dom_classes": [],
       "_model_module": "catboost-widget",
       "_model_module_version": "^1.0.0",
       "_model_name": "CatboostWidgetModel",
       "_view_count": null,
       "_view_module": "catboost-widget",
       "_view_module_version": "^1.0.0",
       "_view_name": "CatboostWidgetView",
       "data": {
        "catboost_info": {
         "content": {
          "data": {
           "iterations": [
            {
             "iteration": 0,
             "learn": [
              0.6613806469
             ],
             "passed_time": 0.4250540143,
             "remaining_time": 42.08034741,
             "test": [
              0.6635995565
             ]
            },
            {
             "iteration": 1,
             "learn": [
              0.6362964827
             ],
             "passed_time": 0.8145580541,
             "remaining_time": 39.91334465,
             "test": [
              0.6357725829
             ]
            },
            {
             "iteration": 2,
             "learn": [
              0.6093782857
             ],
             "passed_time": 1.292007171,
             "remaining_time": 41.77489851,
             "test": [
              0.6095207221
             ]
            },
            {
             "iteration": 3,
             "learn": [
              0.5837184428
             ],
             "passed_time": 1.622083739,
             "remaining_time": 38.93000973,
             "test": [
              0.5847125523
             ]
            },
            {
             "iteration": 4,
             "learn": [
              0.5621940493
             ],
             "passed_time": 2.006559098,
             "remaining_time": 38.12462286,
             "test": [
              0.5612381654
             ]
            },
            {
             "iteration": 5,
             "learn": [
              0.537683673
             ],
             "passed_time": 2.405612476,
             "remaining_time": 37.68792879,
             "test": [
              0.538994281
             ]
            },
            {
             "iteration": 6,
             "learn": [
              0.5168852468
             ],
             "passed_time": 2.850124755,
             "remaining_time": 37.86594317,
             "test": [
              0.5178889441
             ]
            },
            {
             "iteration": 7,
             "learn": [
              0.4986894295
             ],
             "passed_time": 3.267268661,
             "remaining_time": 37.5735896,
             "test": [
              0.4978411018
             ]
            },
            {
             "iteration": 8,
             "learn": [
              0.4785289535
             ],
             "passed_time": 3.662963198,
             "remaining_time": 37.03662789,
             "test": [
              0.4787773349
             ]
            },
            {
             "iteration": 9,
             "learn": [
              0.4605829016
             ],
             "passed_time": 4.006211182,
             "remaining_time": 36.05590063,
             "test": [
              0.460630873
             ]
            },
            {
             "iteration": 10,
             "learn": [
              0.4438391499
             ],
             "passed_time": 4.450480835,
             "remaining_time": 36.00843585,
             "test": [
              0.4433438711
             ]
            },
            {
             "iteration": 11,
             "learn": [
              0.428056614
             ],
             "passed_time": 4.874067626,
             "remaining_time": 35.74316259,
             "test": [
              0.4268733613
             ]
            },
            {
             "iteration": 12,
             "learn": [
              0.4121461729
             ],
             "passed_time": 5.28794991,
             "remaining_time": 35.38858786,
             "test": [
              0.4111397435
             ]
            },
            {
             "iteration": 13,
             "learn": [
              0.396782254
             ],
             "passed_time": 5.659635445,
             "remaining_time": 34.76633202,
             "test": [
              0.3961134829
             ]
            },
            {
             "iteration": 14,
             "learn": [
              0.3824046996
             ],
             "passed_time": 6.099416616,
             "remaining_time": 34.56336083,
             "test": [
              0.3817514242
             ]
            },
            {
             "iteration": 15,
             "learn": [
              0.3673421248
             ],
             "passed_time": 6.555060201,
             "remaining_time": 34.41406606,
             "test": [
              0.3680162742
             ]
            },
            {
             "iteration": 16,
             "learn": [
              0.3538828094
             ],
             "passed_time": 6.920913466,
             "remaining_time": 33.79034222,
             "test": [
              0.3548711205
             ]
            },
            {
             "iteration": 17,
             "learn": [
              0.3431774287
             ],
             "passed_time": 7.30761038,
             "remaining_time": 33.29022506,
             "test": [
              0.3422833886
             ]
            },
            {
             "iteration": 18,
             "learn": [
              0.3300916243
             ],
             "passed_time": 7.642731416,
             "remaining_time": 32.58217077,
             "test": [
              0.3302230432
             ]
            },
            {
             "iteration": 19,
             "learn": [
              0.3196810688
             ],
             "passed_time": 8.108790074,
             "remaining_time": 32.43516029,
             "test": [
              0.318661601
             ]
            },
            {
             "iteration": 20,
             "learn": [
              0.3069913349
             ],
             "passed_time": 8.494033188,
             "remaining_time": 31.9537439,
             "test": [
              0.3075719663
             ]
            },
            {
             "iteration": 21,
             "learn": [
              0.2968889116
             ],
             "passed_time": 8.933296727,
             "remaining_time": 31.67259749,
             "test": [
              0.2969311927
             ]
            },
            {
             "iteration": 22,
             "learn": [
              0.2867732208
             ],
             "passed_time": 9.364576535,
             "remaining_time": 31.35097362,
             "test": [
              0.2867154274
             ]
            },
            {
             "iteration": 23,
             "learn": [
              0.2765127035
             ],
             "passed_time": 9.76885949,
             "remaining_time": 30.93472172,
             "test": [
              0.2769037347
             ]
            },
            {
             "iteration": 24,
             "learn": [
              0.2664529944
             ],
             "passed_time": 10.14674157,
             "remaining_time": 30.44022472,
             "test": [
              0.2674771237
             ]
            },
            {
             "iteration": 25,
             "learn": [
              0.2579881006
             ],
             "passed_time": 10.55946287,
             "remaining_time": 30.05385587,
             "test": [
              0.2584156192
             ]
            },
            {
             "iteration": 26,
             "learn": [
              0.2499719401
             ],
             "passed_time": 10.94972515,
             "remaining_time": 29.60481244,
             "test": [
              0.2497025119
             ]
            },
            {
             "iteration": 27,
             "learn": [
              0.2419814279
             ],
             "passed_time": 11.34372632,
             "remaining_time": 29.16958196,
             "test": [
              0.2413209095
             ]
            },
            {
             "iteration": 28,
             "learn": [
              0.233686365
             ],
             "passed_time": 11.76177442,
             "remaining_time": 28.7960684,
             "test": [
              0.233256651
             ]
            },
            {
             "iteration": 29,
             "learn": [
              0.2258541312
             ],
             "passed_time": 12.24108875,
             "remaining_time": 28.56254042,
             "test": [
              0.2254944052
             ]
            },
            {
             "iteration": 30,
             "learn": [
              0.2185337292
             ],
             "passed_time": 12.66649215,
             "remaining_time": 28.19315995,
             "test": [
              0.2180211841
             ]
            },
            {
             "iteration": 31,
             "learn": [
              0.2109401319
             ],
             "passed_time": 13.03775266,
             "remaining_time": 27.7052244,
             "test": [
              0.2108229231
             ]
            },
            {
             "iteration": 32,
             "learn": [
              0.2033594047
             ],
             "passed_time": 13.52955271,
             "remaining_time": 27.46909188,
             "test": [
              0.2038878019
             ]
            },
            {
             "iteration": 33,
             "learn": [
              0.196442778
             ],
             "passed_time": 13.96435274,
             "remaining_time": 27.10727296,
             "test": [
              0.1972051992
             ]
            },
            {
             "iteration": 34,
             "learn": [
              0.1911894634
             ],
             "passed_time": 14.40753775,
             "remaining_time": 26.75685582,
             "test": [
              0.1907645522
             ]
            },
            {
             "iteration": 35,
             "learn": [
              0.1839116704
             ],
             "passed_time": 14.76799378,
             "remaining_time": 26.25421117,
             "test": [
              0.1845547239
             ]
            },
            {
             "iteration": 36,
             "learn": [
              0.1787763515
             ],
             "passed_time": 15.15651696,
             "remaining_time": 25.8070424,
             "test": [
              0.178566231
             ]
            },
            {
             "iteration": 37,
             "learn": [
              0.1721986737
             ],
             "passed_time": 15.5248961,
             "remaining_time": 25.33009363,
             "test": [
              0.1727945964
             ]
            },
            {
             "iteration": 38,
             "learn": [
              0.1676801644
             ],
             "passed_time": 15.9489384,
             "remaining_time": 24.94577544,
             "test": [
              0.1672213539
             ]
            },
            {
             "iteration": 39,
             "learn": [
              0.1614349591
             ],
             "passed_time": 16.34073886,
             "remaining_time": 24.51110829,
             "test": [
              0.1618438816
             ]
            },
            {
             "iteration": 40,
             "learn": [
              0.1563420094
             ],
             "passed_time": 16.76348856,
             "remaining_time": 24.1230689,
             "test": [
              0.1566535395
             ]
            },
            {
             "iteration": 41,
             "learn": [
              0.1520289479
             ],
             "passed_time": 17.17604262,
             "remaining_time": 23.71929696,
             "test": [
              0.1516426563
             ]
            },
            {
             "iteration": 42,
             "learn": [
              0.1470159785
             ],
             "passed_time": 17.60228226,
             "remaining_time": 23.33325789,
             "test": [
              0.1468049291
             ]
            },
            {
             "iteration": 43,
             "learn": [
              0.141883916
             ],
             "passed_time": 18.01700121,
             "remaining_time": 22.93072882,
             "test": [
              0.1421328725
             ]
            },
            {
             "iteration": 44,
             "learn": [
              0.137116102
             ],
             "passed_time": 18.44963306,
             "remaining_time": 22.54955151,
             "test": [
              0.137620761
             ]
            },
            {
             "iteration": 45,
             "learn": [
              0.1329237438
             ],
             "passed_time": 18.89900022,
             "remaining_time": 22.18578287,
             "test": [
              0.1332617823
             ]
            },
            {
             "iteration": 46,
             "learn": [
              0.1289304131
             ],
             "passed_time": 19.25728078,
             "remaining_time": 21.71565705,
             "test": [
              0.1290500168
             ]
            },
            {
             "iteration": 47,
             "learn": [
              0.1250046493
             ],
             "passed_time": 19.77685483,
             "remaining_time": 21.42492607,
             "test": [
              0.1249808059
             ]
            },
            {
             "iteration": 48,
             "learn": [
              0.1210956492
             ],
             "passed_time": 20.20096216,
             "remaining_time": 21.02549123,
             "test": [
              0.1210479135
             ]
            },
            {
             "iteration": 49,
             "learn": [
              0.1172085581
             ],
             "passed_time": 20.53980282,
             "remaining_time": 20.53980282,
             "test": [
              0.1172463161
             ]
            },
            {
             "iteration": 50,
             "learn": [
              0.1133366797
             ],
             "passed_time": 20.94647396,
             "remaining_time": 20.12504361,
             "test": [
              0.1135745699
             ]
            },
            {
             "iteration": 51,
             "learn": [
              0.1097704331
             ],
             "passed_time": 21.29252333,
             "remaining_time": 19.65463692,
             "test": [
              0.1100210428
             ]
            },
            {
             "iteration": 52,
             "learn": [
              0.1069421016
             ],
             "passed_time": 21.62545764,
             "remaining_time": 19.17729263,
             "test": [
              0.10658553
             ]
            },
            {
             "iteration": 53,
             "learn": [
              0.1034246557
             ],
             "passed_time": 21.96822526,
             "remaining_time": 18.71367337,
             "test": [
              0.1032631464
             ]
            },
            {
             "iteration": 54,
             "learn": [
              0.09974627672
             ],
             "passed_time": 22.42505913,
             "remaining_time": 18.34777565,
             "test": [
              0.1000496621
             ]
            },
            {
             "iteration": 55,
             "learn": [
              0.09715752477
             ],
             "passed_time": 22.83602902,
             "remaining_time": 17.94259423,
             "test": [
              0.09694101512
             ]
            },
            {
             "iteration": 56,
             "learn": [
              0.09378387227
             ],
             "passed_time": 23.31223481,
             "remaining_time": 17.58642275,
             "test": [
              0.09393331625
             ]
            },
            {
             "iteration": 57,
             "learn": [
              0.09124168516
             ],
             "passed_time": 23.76987219,
             "remaining_time": 17.21266607,
             "test": [
              0.09102419169
             ]
            },
            {
             "iteration": 58,
             "learn": [
              0.0879629678
             ],
             "passed_time": 24.16960865,
             "remaining_time": 16.79582974,
             "test": [
              0.08820981384
             ]
            },
            {
             "iteration": 59,
             "learn": [
              0.08549241372
             ],
             "passed_time": 24.58856067,
             "remaining_time": 16.39237378,
             "test": [
              0.08548581699
             ]
            },
            {
             "iteration": 60,
             "learn": [
              0.08259800391
             ],
             "passed_time": 25.01069093,
             "remaining_time": 15.99044174,
             "test": [
              0.08284897737
             ]
            },
            {
             "iteration": 61,
             "learn": [
              0.08012290904
             ],
             "passed_time": 25.43095511,
             "remaining_time": 15.58671442,
             "test": [
              0.08029701113
             ]
            },
            {
             "iteration": 62,
             "learn": [
              0.07799060208
             ],
             "passed_time": 25.8254817,
             "remaining_time": 15.1673464,
             "test": [
              0.07782694973
             ]
            },
            {
             "iteration": 63,
             "learn": [
              0.07551253041
             ],
             "passed_time": 26.22084,
             "remaining_time": 14.7492225,
             "test": [
              0.07543606831
             ]
            },
            {
             "iteration": 64,
             "learn": [
              0.0729836209
             ],
             "passed_time": 26.66423896,
             "remaining_time": 14.35766713,
             "test": [
              0.07312161735
             ]
            },
            {
             "iteration": 65,
             "learn": [
              0.07057158345
             ],
             "passed_time": 27.08448939,
             "remaining_time": 13.95261575,
             "test": [
              0.07088064325
             ]
            },
            {
             "iteration": 66,
             "learn": [
              0.06846854548
             ],
             "passed_time": 27.52157227,
             "remaining_time": 13.55540127,
             "test": [
              0.06871133727
             ]
            },
            {
             "iteration": 67,
             "learn": [
              0.0664537891
             ],
             "passed_time": 27.87593141,
             "remaining_time": 13.11808537,
             "test": [
              0.06661008962
             ]
            },
            {
             "iteration": 68,
             "learn": [
              0.06448629576
             ],
             "passed_time": 28.29080022,
             "remaining_time": 12.71035952,
             "test": [
              0.06457538973
             ]
            },
            {
             "iteration": 69,
             "learn": [
              0.06253236412
             ],
             "passed_time": 28.62303418,
             "remaining_time": 12.26701465,
             "test": [
              0.06260510705
             ]
            },
            {
             "iteration": 70,
             "learn": [
              0.06058524537
             ],
             "passed_time": 28.97381284,
             "remaining_time": 11.83437426,
             "test": [
              0.06069719552
             ]
            },
            {
             "iteration": 71,
             "learn": [
              0.05867470458
             ],
             "passed_time": 29.35203755,
             "remaining_time": 11.41468127,
             "test": [
              0.05884950033
             ]
            },
            {
             "iteration": 72,
             "learn": [
              0.05686616807
             ],
             "passed_time": 29.80261936,
             "remaining_time": 11.02288661,
             "test": [
              0.05705876385
             ]
            },
            {
             "iteration": 73,
             "learn": [
              0.0554539253
             ],
             "passed_time": 30.42956455,
             "remaining_time": 10.69146862,
             "test": [
              0.0553244694
             ]
            },
            {
             "iteration": 74,
             "learn": [
              0.05369647555
             ],
             "passed_time": 31.04374152,
             "remaining_time": 10.34791384,
             "test": [
              0.05364441228
             ]
            },
            {
             "iteration": 75,
             "learn": [
              0.05184754398
             ],
             "passed_time": 31.46154872,
             "remaining_time": 9.935225912,
             "test": [
              0.0520167717
             ]
            },
            {
             "iteration": 76,
             "learn": [
              0.0505551468
             ],
             "passed_time": 31.95232831,
             "remaining_time": 9.544201964,
             "test": [
              0.05043955681
             ]
            },
            {
             "iteration": 77,
             "learn": [
              0.04886281783
             ],
             "passed_time": 32.35856429,
             "remaining_time": 9.126774544,
             "test": [
              0.04891158386
             ]
            },
            {
             "iteration": 78,
             "learn": [
              0.04726010363
             ],
             "passed_time": 32.74492424,
             "remaining_time": 8.704346949,
             "test": [
              0.04743110812
             ]
            },
            {
             "iteration": 79,
             "learn": [
              0.04593528164
             ],
             "passed_time": 33.14555157,
             "remaining_time": 8.286387893,
             "test": [
              0.04599751543
             ]
            },
            {
             "iteration": 80,
             "learn": [
              0.04467403203
             ],
             "passed_time": 33.51451254,
             "remaining_time": 7.861428867,
             "test": [
              0.04460717368
             ]
            },
            {
             "iteration": 81,
             "learn": [
              0.0430914427
             ],
             "passed_time": 33.87322583,
             "remaining_time": 7.435586157,
             "test": [
              0.04326103558
             ]
            },
            {
             "iteration": 82,
             "learn": [
              0.04197954008
             ],
             "passed_time": 34.26875588,
             "remaining_time": 7.018901807,
             "test": [
              0.04195521543
             ]
            },
            {
             "iteration": 83,
             "learn": [
              0.04073986434
             ],
             "passed_time": 34.6310172,
             "remaining_time": 6.596384229,
             "test": [
              0.04068968449
             ]
            },
            {
             "iteration": 84,
             "learn": [
              0.03937554265
             ],
             "passed_time": 35.01173112,
             "remaining_time": 6.178540786,
             "test": [
              0.03946293225
             ]
            },
            {
             "iteration": 85,
             "learn": [
              0.03815229045
             ],
             "passed_time": 35.48774161,
             "remaining_time": 5.777074215,
             "test": [
              0.03827478996
             ]
            },
            {
             "iteration": 86,
             "learn": [
              0.03713229683
             ],
             "passed_time": 35.82646058,
             "remaining_time": 5.353379168,
             "test": [
              0.03712271628
             ]
            },
            {
             "iteration": 87,
             "learn": [
              0.0360821989
             ],
             "passed_time": 36.25326455,
             "remaining_time": 4.943626984,
             "test": [
              0.03600662466
             ]
            },
            {
             "iteration": 88,
             "learn": [
              0.03489481004
             ],
             "passed_time": 36.65471797,
             "remaining_time": 4.5303584,
             "test": [
              0.03492379304
             ]
            },
            {
             "iteration": 89,
             "learn": [
              0.03385052697
             ],
             "passed_time": 37.09497718,
             "remaining_time": 4.121664132,
             "test": [
              0.03387482203
             ]
            },
            {
             "iteration": 90,
             "learn": [
              0.03284672198
             ],
             "passed_time": 37.47014714,
             "remaining_time": 3.705838729,
             "test": [
              0.03285817583
             ]
            },
            {
             "iteration": 91,
             "learn": [
              0.03185571476
             ],
             "passed_time": 37.90395338,
             "remaining_time": 3.295995946,
             "test": [
              0.03187199481
             ]
            },
            {
             "iteration": 92,
             "learn": [
              0.03087785852
             ],
             "passed_time": 38.31861597,
             "remaining_time": 2.884196901,
             "test": [
              0.03091600443
             ]
            },
            {
             "iteration": 93,
             "learn": [
              0.02993638967
             ],
             "passed_time": 38.77413372,
             "remaining_time": 2.474944706,
             "test": [
              0.02998922557
             ]
            },
            {
             "iteration": 94,
             "learn": [
              0.02900862134
             ],
             "passed_time": 39.226971,
             "remaining_time": 2.064577421,
             "test": [
              0.02909130768
             ]
            },
            {
             "iteration": 95,
             "learn": [
              0.02826452969
             ],
             "passed_time": 39.68140441,
             "remaining_time": 1.65339185,
             "test": [
              0.02821996698
             ]
            },
            {
             "iteration": 96,
             "learn": [
              0.02737897715
             ],
             "passed_time": 40.09964618,
             "remaining_time": 1.240195243,
             "test": [
              0.02737515256
             ]
            },
            {
             "iteration": 97,
             "learn": [
              0.02645899879
             ],
             "passed_time": 40.52544097,
             "remaining_time": 0.8270498157,
             "test": [
              0.02655606007
             ]
            },
            {
             "iteration": 98,
             "learn": [
              0.02580348198
             ],
             "passed_time": 40.89029965,
             "remaining_time": 0.4130333298,
             "test": [
              0.02576147912
             ]
            },
            {
             "iteration": 99,
             "learn": [
              0.02494902893
             ],
             "passed_time": 41.2535207,
             "remaining_time": 0,
             "test": [
              0.02499113043
             ]
            }
           ],
           "meta": {
            "iteration_count": 100,
            "launch_mode": "Train",
            "learn_metrics": [
             {
              "best_value": "Min",
              "name": "CrossEntropy"
             }
            ],
            "learn_sets": [
             "learn"
            ],
            "name": "experiment",
            "parameters": "",
            "test_metrics": [
             {
              "best_value": "Min",
              "name": "CrossEntropy"
             }
            ],
            "test_sets": [
             "test"
            ]
           }
          },
          "passed_iterations": 99,
          "total_iterations": 100
         },
         "name": "catboost_info",
         "path": "catboost_info"
        }
       },
       "layout": "IPY_MODEL_ad34c9a74a69455a8552eb21b8e54b0a"
      }
     },
     "a80b86b333a742169c45734e16f00667": {
      "model_module": "@jupyter-widgets/base",
      "model_module_version": "1.2.0",
      "model_name": "LayoutModel",
      "state": {
       "_model_module": "@jupyter-widgets/base",
       "_model_module_version": "1.2.0",
       "_model_name": "LayoutModel",
       "_view_count": null,
       "_view_module": "@jupyter-widgets/base",
       "_view_module_version": "1.2.0",
       "_view_name": "LayoutView",
       "align_content": null,
       "align_items": null,
       "align_self": "stretch",
       "border": null,
       "bottom": null,
       "display": null,
       "flex": null,
       "flex_flow": null,
       "grid_area": null,
       "grid_auto_columns": null,
       "grid_auto_flow": null,
       "grid_auto_rows": null,
       "grid_column": null,
       "grid_gap": null,
       "grid_row": null,
       "grid_template_areas": null,
       "grid_template_columns": null,
       "grid_template_rows": null,
       "height": "500px",
       "justify_content": null,
       "justify_items": null,
       "left": null,
       "margin": null,
       "max_height": null,
       "max_width": null,
       "min_height": null,
       "min_width": null,
       "object_fit": null,
       "object_position": null,
       "order": null,
       "overflow": null,
       "overflow_x": null,
       "overflow_y": null,
       "padding": null,
       "right": null,
       "top": null,
       "visibility": null,
       "width": null
      }
     },
     "ad34c9a74a69455a8552eb21b8e54b0a": {
      "model_module": "@jupyter-widgets/base",
      "model_module_version": "1.2.0",
      "model_name": "LayoutModel",
      "state": {
       "_model_module": "@jupyter-widgets/base",
       "_model_module_version": "1.2.0",
       "_model_name": "LayoutModel",
       "_view_count": null,
       "_view_module": "@jupyter-widgets/base",
       "_view_module_version": "1.2.0",
       "_view_name": "LayoutView",
       "align_content": null,
       "align_items": null,
       "align_self": "stretch",
       "border": null,
       "bottom": null,
       "display": null,
       "flex": null,
       "flex_flow": null,
       "grid_area": null,
       "grid_auto_columns": null,
       "grid_auto_flow": null,
       "grid_auto_rows": null,
       "grid_column": null,
       "grid_gap": null,
       "grid_row": null,
       "grid_template_areas": null,
       "grid_template_columns": null,
       "grid_template_rows": null,
       "height": "500px",
       "justify_content": null,
       "justify_items": null,
       "left": null,
       "margin": null,
       "max_height": null,
       "max_width": null,
       "min_height": null,
       "min_width": null,
       "object_fit": null,
       "object_position": null,
       "order": null,
       "overflow": null,
       "overflow_x": null,
       "overflow_y": null,
       "padding": null,
       "right": null,
       "top": null,
       "visibility": null,
       "width": null
      }
     },
     "b063fa210efd4ac99416cc3e869c908d": {
      "model_module": "@jupyter-widgets/base",
      "model_module_version": "1.2.0",
      "model_name": "LayoutModel",
      "state": {
       "_model_module": "@jupyter-widgets/base",
       "_model_module_version": "1.2.0",
       "_model_name": "LayoutModel",
       "_view_count": null,
       "_view_module": "@jupyter-widgets/base",
       "_view_module_version": "1.2.0",
       "_view_name": "LayoutView",
       "align_content": null,
       "align_items": null,
       "align_self": "stretch",
       "border": null,
       "bottom": null,
       "display": null,
       "flex": null,
       "flex_flow": null,
       "grid_area": null,
       "grid_auto_columns": null,
       "grid_auto_flow": null,
       "grid_auto_rows": null,
       "grid_column": null,
       "grid_gap": null,
       "grid_row": null,
       "grid_template_areas": null,
       "grid_template_columns": null,
       "grid_template_rows": null,
       "height": "500px",
       "justify_content": null,
       "justify_items": null,
       "left": null,
       "margin": null,
       "max_height": null,
       "max_width": null,
       "min_height": null,
       "min_width": null,
       "object_fit": null,
       "object_position": null,
       "order": null,
       "overflow": null,
       "overflow_x": null,
       "overflow_y": null,
       "padding": null,
       "right": null,
       "top": null,
       "visibility": null,
       "width": null
      }
     },
     "b4cbcc5fed4741cd8c5a085b59c9aacc": {
      "model_module": "catboost-widget",
      "model_module_version": "^1.0.0",
      "model_name": "CatboostWidgetModel",
      "state": {
       "_dom_classes": [],
       "_model_module": "catboost-widget",
       "_model_module_version": "^1.0.0",
       "_model_name": "CatboostWidgetModel",
       "_view_count": null,
       "_view_module": "catboost-widget",
       "_view_module_version": "^1.0.0",
       "_view_name": "CatboostWidgetView",
       "data": {
        "catboost_info": {
         "content": {
          "data": {
           "iterations": [
            {
             "iteration": 0,
             "learn": [
              0.6743372948
             ],
             "passed_time": 0.4553329605,
             "remaining_time": 45.07796309,
             "test": [
              0.6742991947
             ]
            },
            {
             "iteration": 1,
             "learn": [
              0.6585792087
             ],
             "passed_time": 0.9222686629,
             "remaining_time": 45.19116448,
             "test": [
              0.6566590066
             ]
            },
            {
             "iteration": 2,
             "learn": [
              0.640830244
             ],
             "passed_time": 1.375608633,
             "remaining_time": 44.47801248,
             "test": [
              0.6398092667
             ]
            },
            {
             "iteration": 3,
             "learn": [
              0.6258565579
             ],
             "passed_time": 1.794697618,
             "remaining_time": 43.07274283,
             "test": [
              0.6239795449
             ]
            },
            {
             "iteration": 4,
             "learn": [
              0.6110051656
             ],
             "passed_time": 2.209538085,
             "remaining_time": 41.98122361,
             "test": [
              0.6090070417
             ]
            },
            {
             "iteration": 5,
             "learn": [
              0.5971304384
             ],
             "passed_time": 2.63783799,
             "remaining_time": 41.3261285,
             "test": [
              0.5949393598
             ]
            },
            {
             "iteration": 6,
             "learn": [
              0.5829708422
             ],
             "passed_time": 3.034932228,
             "remaining_time": 40.32124246,
             "test": [
              0.5816324412
             ]
            },
            {
             "iteration": 7,
             "learn": [
              0.571035225
             ],
             "passed_time": 3.415756826,
             "remaining_time": 39.2812035,
             "test": [
              0.5689727116
             ]
            },
            {
             "iteration": 8,
             "learn": [
              0.5586949818
             ],
             "passed_time": 3.811887285,
             "remaining_time": 38.54241588,
             "test": [
              0.5567438889
             ]
            },
            {
             "iteration": 9,
             "learn": [
              0.5473190233
             ],
             "passed_time": 4.210627749,
             "remaining_time": 37.89564974,
             "test": [
              0.5452668003
             ]
            },
            {
             "iteration": 10,
             "learn": [
              0.5363633705
             ],
             "passed_time": 4.641381028,
             "remaining_time": 37.55299195,
             "test": [
              0.5341657055
             ]
            },
            {
             "iteration": 11,
             "learn": [
              0.5252583241
             ],
             "passed_time": 5.00582938,
             "remaining_time": 36.70941545,
             "test": [
              0.5237388743
             ]
            },
            {
             "iteration": 12,
             "learn": [
              0.5155390244
             ],
             "passed_time": 5.442439788,
             "remaining_time": 36.42248166,
             "test": [
              0.5135123355
             ]
            },
            {
             "iteration": 13,
             "learn": [
              0.5057258595
             ],
             "passed_time": 5.812312382,
             "remaining_time": 35.70420463,
             "test": [
              0.5036217466
             ]
            },
            {
             "iteration": 14,
             "learn": [
              0.4966033862
             ],
             "passed_time": 6.201564529,
             "remaining_time": 35.142199,
             "test": [
              0.4942077515
             ]
            },
            {
             "iteration": 15,
             "learn": [
              0.4876919988
             ],
             "passed_time": 6.572835086,
             "remaining_time": 34.5073842,
             "test": [
              0.4854632297
             ]
            },
            {
             "iteration": 16,
             "learn": [
              0.478319695
             ],
             "passed_time": 6.990133363,
             "remaining_time": 34.12829819,
             "test": [
              0.476429112
             ]
            },
            {
             "iteration": 17,
             "learn": [
              0.4697559076
             ],
             "passed_time": 7.356283856,
             "remaining_time": 33.51195979,
             "test": [
              0.4675954591
             ]
            },
            {
             "iteration": 18,
             "learn": [
              0.4614804525
             ],
             "passed_time": 7.776670724,
             "remaining_time": 33.15317519,
             "test": [
              0.4594142175
             ]
            },
            {
             "iteration": 19,
             "learn": [
              0.4535108103
             ],
             "passed_time": 8.208596431,
             "remaining_time": 32.83438572,
             "test": [
              0.4514724614
             ]
            },
            {
             "iteration": 20,
             "learn": [
              0.4460718994
             ],
             "passed_time": 8.576682265,
             "remaining_time": 32.26466185,
             "test": [
              0.4439929113
             ]
            },
            {
             "iteration": 21,
             "learn": [
              0.4393381503
             ],
             "passed_time": 8.993309177,
             "remaining_time": 31.8853689,
             "test": [
              0.4369408781
             ]
            },
            {
             "iteration": 22,
             "learn": [
              0.4322021866
             ],
             "passed_time": 9.370965336,
             "remaining_time": 31.37236221,
             "test": [
              0.4295345691
             ]
            },
            {
             "iteration": 23,
             "learn": [
              0.4225926827
             ],
             "passed_time": 9.778200264,
             "remaining_time": 30.96430084,
             "test": [
              0.4197343668
             ]
            },
            {
             "iteration": 24,
             "learn": [
              0.4153261721
             ],
             "passed_time": 10.21361232,
             "remaining_time": 30.64083697,
             "test": [
              0.4123653493
             ]
            },
            {
             "iteration": 25,
             "learn": [
              0.4064771415
             ],
             "passed_time": 10.62521563,
             "remaining_time": 30.24099834,
             "test": [
              0.4032986146
             ]
            },
            {
             "iteration": 26,
             "learn": [
              0.3980925697
             ],
             "passed_time": 11.03418781,
             "remaining_time": 29.83317446,
             "test": [
              0.3946151342
             ]
            },
            {
             "iteration": 27,
             "learn": [
              0.391861709
             ],
             "passed_time": 11.47193626,
             "remaining_time": 29.49926467,
             "test": [
              0.3880026498
             ]
            },
            {
             "iteration": 28,
             "learn": [
              0.3844884006
             ],
             "passed_time": 11.87443644,
             "remaining_time": 29.07189611,
             "test": [
              0.3809074644
             ]
            },
            {
             "iteration": 29,
             "learn": [
              0.3779269667
             ],
             "passed_time": 12.27630631,
             "remaining_time": 28.64471472,
             "test": [
              0.3742526616
             ]
            },
            {
             "iteration": 30,
             "learn": [
              0.3722788629
             ],
             "passed_time": 12.71324119,
             "remaining_time": 28.29721425,
             "test": [
              0.3683411419
             ]
            },
            {
             "iteration": 31,
             "learn": [
              0.3669755005
             ],
             "passed_time": 13.08002738,
             "remaining_time": 27.79505819,
             "test": [
              0.3632552118
             ]
            },
            {
             "iteration": 32,
             "learn": [
              0.3619341391
             ],
             "passed_time": 13.44681336,
             "remaining_time": 27.30110591,
             "test": [
              0.3579010477
             ]
            },
            {
             "iteration": 33,
             "learn": [
              0.3556738587
             ],
             "passed_time": 13.85624619,
             "remaining_time": 26.89741907,
             "test": [
              0.3517045119
             ]
            },
            {
             "iteration": 34,
             "learn": [
              0.349368203
             ],
             "passed_time": 14.25903589,
             "remaining_time": 26.48106666,
             "test": [
              0.3451684104
             ]
            },
            {
             "iteration": 35,
             "learn": [
              0.3444873609
             ],
             "passed_time": 14.69557844,
             "remaining_time": 26.12547278,
             "test": [
              0.3399985848
             ]
            },
            {
             "iteration": 36,
             "learn": [
              0.3400816296
             ],
             "passed_time": 15.07096381,
             "remaining_time": 25.66137081,
             "test": [
              0.3356864596
             ]
            },
            {
             "iteration": 37,
             "learn": [
              0.333844343
             ],
             "passed_time": 15.47134421,
             "remaining_time": 25.2427195,
             "test": [
              0.3292500579
             ]
            },
            {
             "iteration": 38,
             "learn": [
              0.3296372258
             ],
             "passed_time": 15.83213751,
             "remaining_time": 24.76308688,
             "test": [
              0.3247670614
             ]
            },
            {
             "iteration": 39,
             "learn": [
              0.3253625542
             ],
             "passed_time": 16.1864853,
             "remaining_time": 24.27972795,
             "test": [
              0.3202441749
             ]
            },
            {
             "iteration": 40,
             "learn": [
              0.3204811798
             ],
             "passed_time": 16.63522424,
             "remaining_time": 23.93849341,
             "test": [
              0.3155859921
             ]
            },
            {
             "iteration": 41,
             "learn": [
              0.3148506026
             ],
             "passed_time": 17.03271275,
             "remaining_time": 23.52136523,
             "test": [
              0.3098002807
             ]
            },
            {
             "iteration": 42,
             "learn": [
              0.3108205254
             ],
             "passed_time": 17.47333156,
             "remaining_time": 23.16232324,
             "test": [
              0.3055686685
             ]
            },
            {
             "iteration": 43,
             "learn": [
              0.3060546827
             ],
             "passed_time": 17.93825945,
             "remaining_time": 22.83051203,
             "test": [
              0.3007985973
             ]
            },
            {
             "iteration": 44,
             "learn": [
              0.3009465566
             ],
             "passed_time": 18.34956517,
             "remaining_time": 22.42724631,
             "test": [
              0.2954982504
             ]
            },
            {
             "iteration": 45,
             "learn": [
              0.2972314845
             ],
             "passed_time": 18.79776532,
             "remaining_time": 22.06694189,
             "test": [
              0.2916389662
             ]
            },
            {
             "iteration": 46,
             "learn": [
              0.2923617811
             ],
             "passed_time": 19.20570203,
             "remaining_time": 21.65749378,
             "test": [
              0.2865938598
             ]
            },
            {
             "iteration": 47,
             "learn": [
              0.287689364
             ],
             "passed_time": 19.61863572,
             "remaining_time": 21.25352203,
             "test": [
              0.2816496883
             ]
            },
            {
             "iteration": 48,
             "learn": [
              0.2832576896
             ],
             "passed_time": 20.04395159,
             "remaining_time": 20.86207206,
             "test": [
              0.2770400157
             ]
            },
            {
             "iteration": 49,
             "learn": [
              0.2790042111
             ],
             "passed_time": 20.4532047,
             "remaining_time": 20.4532047,
             "test": [
              0.2725378183
             ]
            },
            {
             "iteration": 50,
             "learn": [
              0.2755280678
             ],
             "passed_time": 20.87912749,
             "remaining_time": 20.06033818,
             "test": [
              0.26893575
             ]
            },
            {
             "iteration": 51,
             "learn": [
              0.2712578719
             ],
             "passed_time": 21.2878247,
             "remaining_time": 19.65029972,
             "test": [
              0.2645565432
             ]
            },
            {
             "iteration": 52,
             "learn": [
              0.2683325755
             ],
             "passed_time": 21.67789982,
             "remaining_time": 19.22379795,
             "test": [
              0.2614884736
             ]
            },
            {
             "iteration": 53,
             "learn": [
              0.264368849
             ],
             "passed_time": 22.09394333,
             "remaining_time": 18.82076654,
             "test": [
              0.2572493173
             ]
            },
            {
             "iteration": 54,
             "learn": [
              0.2610036702
             ],
             "passed_time": 22.55296757,
             "remaining_time": 18.45242801,
             "test": [
              0.2536847607
             ]
            },
            {
             "iteration": 55,
             "learn": [
              0.2574590269
             ],
             "passed_time": 23.04816949,
             "remaining_time": 18.10927603,
             "test": [
              0.2503082623
             ]
            },
            {
             "iteration": 56,
             "learn": [
              0.2541361349
             ],
             "passed_time": 23.51083416,
             "remaining_time": 17.73624331,
             "test": [
              0.2470821866
             ]
            },
            {
             "iteration": 57,
             "learn": [
              0.251114324
             ],
             "passed_time": 23.94841107,
             "remaining_time": 17.34195284,
             "test": [
              0.2440011755
             ]
            },
            {
             "iteration": 58,
             "learn": [
              0.2478497005
             ],
             "passed_time": 24.35629558,
             "remaining_time": 16.92556133,
             "test": [
              0.2404730285
             ]
            },
            {
             "iteration": 59,
             "learn": [
              0.2448870189
             ],
             "passed_time": 24.81176332,
             "remaining_time": 16.54117555,
             "test": [
              0.2373262847
             ]
            },
            {
             "iteration": 60,
             "learn": [
              0.2421077051
             ],
             "passed_time": 25.24308315,
             "remaining_time": 16.13902038,
             "test": [
              0.2345158536
             ]
            },
            {
             "iteration": 61,
             "learn": [
              0.2386821387
             ],
             "passed_time": 25.65296327,
             "remaining_time": 15.72278394,
             "test": [
              0.2310113812
             ]
            },
            {
             "iteration": 62,
             "learn": [
              0.2357895836
             ],
             "passed_time": 26.08442675,
             "remaining_time": 15.31942524,
             "test": [
              0.2281136885
             ]
            },
            {
             "iteration": 63,
             "learn": [
              0.2330723401
             ],
             "passed_time": 26.51947876,
             "remaining_time": 14.9172068,
             "test": [
              0.2251980642
             ]
            },
            {
             "iteration": 64,
             "learn": [
              0.2307748663
             ],
             "passed_time": 26.9385411,
             "remaining_time": 14.50536829,
             "test": [
              0.2228759208
             ]
            },
            {
             "iteration": 65,
             "learn": [
              0.2281851874
             ],
             "passed_time": 27.38871489,
             "remaining_time": 14.10933797,
             "test": [
              0.2199633723
             ]
            },
            {
             "iteration": 66,
             "learn": [
              0.2255953168
             ],
             "passed_time": 27.79394885,
             "remaining_time": 13.6895569,
             "test": [
              0.2172340915
             ]
            },
            {
             "iteration": 67,
             "learn": [
              0.223068256
             ],
             "passed_time": 28.21637737,
             "remaining_time": 13.27829523,
             "test": [
              0.2145462526
             ]
            },
            {
             "iteration": 68,
             "learn": [
              0.2205347843
             ],
             "passed_time": 28.71149504,
             "remaining_time": 12.89936734,
             "test": [
              0.2120330078
             ]
            },
            {
             "iteration": 69,
             "learn": [
              0.2183307098
             ],
             "passed_time": 29.3842034,
             "remaining_time": 12.59323003,
             "test": [
              0.2095820178
             ]
            },
            {
             "iteration": 70,
             "learn": [
              0.2158375471
             ],
             "passed_time": 29.99053869,
             "remaining_time": 12.24965665,
             "test": [
              0.2072233124
             ]
            },
            {
             "iteration": 71,
             "learn": [
              0.2137033333
             ],
             "passed_time": 30.41787465,
             "remaining_time": 11.82917347,
             "test": [
              0.2051238941
             ]
            },
            {
             "iteration": 72,
             "learn": [
              0.211856893
             ],
             "passed_time": 30.81130287,
             "remaining_time": 11.39596134,
             "test": [
              0.2032474541
             ]
            },
            {
             "iteration": 73,
             "learn": [
              0.2095767879
             ],
             "passed_time": 31.23083212,
             "remaining_time": 10.97299507,
             "test": [
              0.2008696562
             ]
            },
            {
             "iteration": 74,
             "learn": [
              0.2074341693
             ],
             "passed_time": 31.69219421,
             "remaining_time": 10.56406474,
             "test": [
              0.1987842482
             ]
            },
            {
             "iteration": 75,
             "learn": [
              0.2053251173
             ],
             "passed_time": 32.11103355,
             "remaining_time": 10.14032638,
             "test": [
              0.196562522
             ]
            },
            {
             "iteration": 76,
             "learn": [
              0.203146152
             ],
             "passed_time": 32.51336645,
             "remaining_time": 9.711784783,
             "test": [
              0.1942403099
             ]
            },
            {
             "iteration": 77,
             "learn": [
              0.2010663629
             ],
             "passed_time": 32.93758166,
             "remaining_time": 9.290087135,
             "test": [
              0.192106945
             ]
            },
            {
             "iteration": 78,
             "learn": [
              0.1989504009
             ],
             "passed_time": 33.37691629,
             "remaining_time": 8.872344838,
             "test": [
              0.1901391955
             ]
            },
            {
             "iteration": 79,
             "learn": [
              0.1974926742
             ],
             "passed_time": 33.68851742,
             "remaining_time": 8.422129355,
             "test": [
              0.1886689614
             ]
            },
            {
             "iteration": 80,
             "learn": [
              0.1953398071
             ],
             "passed_time": 34.16820759,
             "remaining_time": 8.014764743,
             "test": [
              0.1864064528
             ]
            },
            {
             "iteration": 81,
             "learn": [
              0.1940759954
             ],
             "passed_time": 34.46337003,
             "remaining_time": 7.565130007,
             "test": [
              0.1852866957
             ]
            },
            {
             "iteration": 82,
             "learn": [
              0.1921228786
             ],
             "passed_time": 34.9085734,
             "remaining_time": 7.149948769,
             "test": [
              0.183127201
             ]
            },
            {
             "iteration": 83,
             "learn": [
              0.1900837655
             ],
             "passed_time": 35.30324848,
             "remaining_time": 6.724428282,
             "test": [
              0.1809213458
             ]
            },
            {
             "iteration": 84,
             "learn": [
              0.1881685722
             ],
             "passed_time": 35.70103025,
             "remaining_time": 6.300181809,
             "test": [
              0.1787907814
             ]
            },
            {
             "iteration": 85,
             "learn": [
              0.1862755181
             ],
             "passed_time": 36.13860307,
             "remaining_time": 5.883028406,
             "test": [
              0.1770048998
             ]
            },
            {
             "iteration": 86,
             "learn": [
              0.1841274745
             ],
             "passed_time": 36.5994086,
             "remaining_time": 5.468877147,
             "test": [
              0.1748051365
             ]
            },
            {
             "iteration": 87,
             "learn": [
              0.1825670379
             ],
             "passed_time": 36.98947004,
             "remaining_time": 5.044018642,
             "test": [
              0.1731295505
             ]
            },
            {
             "iteration": 88,
             "learn": [
              0.1812451981
             ],
             "passed_time": 37.36575669,
             "remaining_time": 4.618239591,
             "test": [
              0.1720096654
             ]
            },
            {
             "iteration": 89,
             "learn": [
              0.1794893188
             ],
             "passed_time": 37.76873122,
             "remaining_time": 4.196525691,
             "test": [
              0.1703497808
             ]
            },
            {
             "iteration": 90,
             "learn": [
              0.178256951
             ],
             "passed_time": 38.07230364,
             "remaining_time": 3.765392668,
             "test": [
              0.1691051133
             ]
            },
            {
             "iteration": 91,
             "learn": [
              0.1763665551
             ],
             "passed_time": 38.51188239,
             "remaining_time": 3.348859339,
             "test": [
              0.1672781615
             ]
            },
            {
             "iteration": 92,
             "learn": [
              0.1749239032
             ],
             "passed_time": 38.90513943,
             "remaining_time": 2.928343828,
             "test": [
              0.1656484736
             ]
            },
            {
             "iteration": 93,
             "learn": [
              0.173010491
             ],
             "passed_time": 39.2899264,
             "remaining_time": 2.507867642,
             "test": [
              0.1635337402
             ]
            },
            {
             "iteration": 94,
             "learn": [
              0.1712842743
             ],
             "passed_time": 39.73875064,
             "remaining_time": 2.091513192,
             "test": [
              0.1619460297
             ]
            },
            {
             "iteration": 95,
             "learn": [
              0.1698916538
             ],
             "passed_time": 40.10238533,
             "remaining_time": 1.670932722,
             "test": [
              0.1605263084
             ]
            },
            {
             "iteration": 96,
             "learn": [
              0.1685138188
             ],
             "passed_time": 40.47172827,
             "remaining_time": 1.251702936,
             "test": [
              0.1590592024
             ]
            },
            {
             "iteration": 97,
             "learn": [
              0.1669896195
             ],
             "passed_time": 40.86924053,
             "remaining_time": 0.8340661332,
             "test": [
              0.1574730724
             ]
            },
            {
             "iteration": 98,
             "learn": [
              0.1656674672
             ],
             "passed_time": 41.27088849,
             "remaining_time": 0.4168776615,
             "test": [
              0.1561882037
             ]
            },
            {
             "iteration": 99,
             "learn": [
              0.1646458114
             ],
             "passed_time": 41.65857665,
             "remaining_time": 0,
             "test": [
              0.1552129865
             ]
            }
           ],
           "meta": {
            "iteration_count": 100,
            "launch_mode": "Train",
            "learn_metrics": [
             {
              "best_value": "Min",
              "name": "CrossEntropy"
             }
            ],
            "learn_sets": [
             "learn"
            ],
            "name": "experiment",
            "parameters": "",
            "test_metrics": [
             {
              "best_value": "Min",
              "name": "CrossEntropy"
             }
            ],
            "test_sets": [
             "test"
            ]
           }
          },
          "passed_iterations": 99,
          "total_iterations": 100
         },
         "name": "catboost_info",
         "path": "catboost_info"
        }
       },
       "layout": "IPY_MODEL_78d73f1bec49450083f3040332ab9736"
      }
     },
     "c5560c3730cb4447838928f4e8d6eaa0": {
      "model_module": "catboost-widget",
      "model_module_version": "^1.0.0",
      "model_name": "CatboostWidgetModel",
      "state": {
       "_dom_classes": [],
       "_model_module": "catboost-widget",
       "_model_module_version": "^1.0.0",
       "_model_name": "CatboostWidgetModel",
       "_view_count": null,
       "_view_module": "catboost-widget",
       "_view_module_version": "^1.0.0",
       "_view_name": "CatboostWidgetView",
       "data": {
        "catboost_info": {
         "content": {
          "data": {
           "iterations": [
            {
             "iteration": 0,
             "learn": [
              0.669233867
             ],
             "passed_time": 0.3466789544,
             "remaining_time": 34.32121649,
             "test": [
              0.668163802
             ]
            },
            {
             "iteration": 1,
             "learn": [
              0.6442370101
             ],
             "passed_time": 0.6879329563,
             "remaining_time": 33.70871486,
             "test": [
              0.6446158992
             ]
            },
            {
             "iteration": 2,
             "learn": [
              0.6217372501
             ],
             "passed_time": 1.031361689,
             "remaining_time": 33.34736128,
             "test": [
              0.6226525767
             ]
            },
            {
             "iteration": 3,
             "learn": [
              0.601687119
             ],
             "passed_time": 1.39678761,
             "remaining_time": 33.52290264,
             "test": [
              0.6016713437
             ]
            },
            {
             "iteration": 4,
             "learn": [
              0.5811877949
             ],
             "passed_time": 1.754063058,
             "remaining_time": 33.3271981,
             "test": [
              0.5822314336
             ]
            },
            {
             "iteration": 5,
             "learn": [
              0.5626038447
             ],
             "passed_time": 2.091160788,
             "remaining_time": 32.76151901,
             "test": [
              0.5632853159
             ]
            },
            {
             "iteration": 6,
             "learn": [
              0.5449668572
             ],
             "passed_time": 2.438974192,
             "remaining_time": 32.40351426,
             "test": [
              0.5454250516
             ]
            },
            {
             "iteration": 7,
             "learn": [
              0.5275905963
             ],
             "passed_time": 2.854261853,
             "remaining_time": 32.82401132,
             "test": [
              0.5279883404
             ]
            },
            {
             "iteration": 8,
             "learn": [
              0.5122417862
             ],
             "passed_time": 3.194660201,
             "remaining_time": 32.30156426,
             "test": [
              0.5118167507
             ]
            },
            {
             "iteration": 9,
             "learn": [
              0.4969060179
             ],
             "passed_time": 3.540647213,
             "remaining_time": 31.86582492,
             "test": [
              0.4964426106
             ]
            },
            {
             "iteration": 10,
             "learn": [
              0.4814210534
             ],
             "passed_time": 3.924632371,
             "remaining_time": 31.75384373,
             "test": [
              0.4812670622
             ]
            },
            {
             "iteration": 11,
             "learn": [
              0.4676593236
             ],
             "passed_time": 4.26724898,
             "remaining_time": 31.29315919,
             "test": [
              0.4673830697
             ]
            },
            {
             "iteration": 12,
             "learn": [
              0.4540339037
             ],
             "passed_time": 4.627994164,
             "remaining_time": 30.97196094,
             "test": [
              0.4539681356
             ]
            },
            {
             "iteration": 13,
             "learn": [
              0.441340942
             ],
             "passed_time": 5.004466431,
             "remaining_time": 30.74172236,
             "test": [
              0.441045522
             ]
            },
            {
             "iteration": 14,
             "learn": [
              0.4293150876
             ],
             "passed_time": 5.378163383,
             "remaining_time": 30.47625917,
             "test": [
              0.4287068007
             ]
            },
            {
             "iteration": 15,
             "learn": [
              0.4175417723
             ],
             "passed_time": 5.722246095,
             "remaining_time": 30.041792,
             "test": [
              0.4172479978
             ]
            },
            {
             "iteration": 16,
             "learn": [
              0.4065332165
             ],
             "passed_time": 6.101954608,
             "remaining_time": 29.79189603,
             "test": [
              0.4060557141
             ]
            },
            {
             "iteration": 17,
             "learn": [
              0.3963082162
             ],
             "passed_time": 6.409609173,
             "remaining_time": 29.19933068,
             "test": [
              0.3954451586
             ]
            },
            {
             "iteration": 18,
             "learn": [
              0.3859044223
             ],
             "passed_time": 6.769156499,
             "remaining_time": 28.85798297,
             "test": [
              0.3849554019
             ]
            },
            {
             "iteration": 19,
             "learn": [
              0.3762496677
             ],
             "passed_time": 7.278544967,
             "remaining_time": 29.11417987,
             "test": [
              0.3751461766
             ]
            },
            {
             "iteration": 20,
             "learn": [
              0.3668166658
             ],
             "passed_time": 7.816075586,
             "remaining_time": 29.40333197,
             "test": [
              0.3655266428
             ]
            },
            {
             "iteration": 21,
             "learn": [
              0.3577576989
             ],
             "passed_time": 8.273805473,
             "remaining_time": 29.33440122,
             "test": [
              0.3566052727
             ]
            },
            {
             "iteration": 22,
             "learn": [
              0.3493320026
             ],
             "passed_time": 8.636245404,
             "remaining_time": 28.91264766,
             "test": [
              0.347833484
             ]
            },
            {
             "iteration": 23,
             "learn": [
              0.3407394984
             ],
             "passed_time": 8.990829662,
             "remaining_time": 28.4709606,
             "test": [
              0.3392486724
             ]
            },
            {
             "iteration": 24,
             "learn": [
              0.3326260803
             ],
             "passed_time": 9.343705968,
             "remaining_time": 28.0311179,
             "test": [
              0.3310356648
             ]
            },
            {
             "iteration": 25,
             "learn": [
              0.3246218858
             ],
             "passed_time": 9.67897529,
             "remaining_time": 27.54785275,
             "test": [
              0.3229664231
             ]
            },
            {
             "iteration": 26,
             "learn": [
              0.3172409801
             ],
             "passed_time": 10.03886995,
             "remaining_time": 27.14212986,
             "test": [
              0.315281019
             ]
            },
            {
             "iteration": 27,
             "learn": [
              0.3100166069
             ],
             "passed_time": 10.41869994,
             "remaining_time": 26.79094269,
             "test": [
              0.3079076563
             ]
            },
            {
             "iteration": 28,
             "learn": [
              0.3027167327
             ],
             "passed_time": 10.79986906,
             "remaining_time": 26.44105874,
             "test": [
              0.3008616539
             ]
            },
            {
             "iteration": 29,
             "learn": [
              0.2962222269
             ],
             "passed_time": 11.12617519,
             "remaining_time": 25.96107545,
             "test": [
              0.2941668152
             ]
            },
            {
             "iteration": 30,
             "learn": [
              0.2898311882
             ],
             "passed_time": 11.49490595,
             "remaining_time": 25.58543583,
             "test": [
              0.2878414744
             ]
            },
            {
             "iteration": 31,
             "learn": [
              0.2835934662
             ],
             "passed_time": 11.84430767,
             "remaining_time": 25.16915379,
             "test": [
              0.2816052814
             ]
            },
            {
             "iteration": 32,
             "learn": [
              0.2777078524
             ],
             "passed_time": 12.20528861,
             "remaining_time": 24.78043446,
             "test": [
              0.2754399703
             ]
            },
            {
             "iteration": 33,
             "learn": [
              0.2719229839
             ],
             "passed_time": 12.56592249,
             "remaining_time": 24.39267307,
             "test": [
              0.2697461338
             ]
            },
            {
             "iteration": 34,
             "learn": [
              0.2661906205
             ],
             "passed_time": 12.91831404,
             "remaining_time": 23.99115464,
             "test": [
              0.2640011418
             ]
            },
            {
             "iteration": 35,
             "learn": [
              0.2610004622
             ],
             "passed_time": 13.25904579,
             "remaining_time": 23.57163697,
             "test": [
              0.258738902
             ]
            },
            {
             "iteration": 36,
             "learn": [
              0.2557491802
             ],
             "passed_time": 13.66054201,
             "remaining_time": 23.2598418,
             "test": [
              0.2534302188
             ]
            },
            {
             "iteration": 37,
             "learn": [
              0.2502886785
             ],
             "passed_time": 13.99110593,
             "remaining_time": 22.82759389,
             "test": [
              0.2481264663
             ]
            },
            {
             "iteration": 38,
             "learn": [
              0.2451067797
             ],
             "passed_time": 14.37032597,
             "remaining_time": 22.4766637,
             "test": [
              0.2429188021
             ]
            },
            {
             "iteration": 39,
             "learn": [
              0.2401487357
             ],
             "passed_time": 14.75105605,
             "remaining_time": 22.12658407,
             "test": [
              0.2377275874
             ]
            },
            {
             "iteration": 40,
             "learn": [
              0.2356030384
             ],
             "passed_time": 15.16417193,
             "remaining_time": 21.82161326,
             "test": [
              0.2332168962
             ]
            },
            {
             "iteration": 41,
             "learn": [
              0.2316145768
             ],
             "passed_time": 15.52143554,
             "remaining_time": 21.43436337,
             "test": [
              0.229280984
             ]
            },
            {
             "iteration": 42,
             "learn": [
              0.2271637116
             ],
             "passed_time": 15.87139883,
             "remaining_time": 21.03883101,
             "test": [
              0.2246551236
             ]
            },
            {
             "iteration": 43,
             "learn": [
              0.2231704516
             ],
             "passed_time": 16.21167774,
             "remaining_time": 20.6330444,
             "test": [
              0.220455354
             ]
            },
            {
             "iteration": 44,
             "learn": [
              0.2185079521
             ],
             "passed_time": 16.61879484,
             "remaining_time": 20.31186036,
             "test": [
              0.2155877254
             ]
            },
            {
             "iteration": 45,
             "learn": [
              0.2147786003
             ],
             "passed_time": 16.9459499,
             "remaining_time": 19.89307163,
             "test": [
              0.2118366703
             ]
            },
            {
             "iteration": 46,
             "learn": [
              0.2104396824
             ],
             "passed_time": 17.33491988,
             "remaining_time": 19.54788837,
             "test": [
              0.2071684588
             ]
            },
            {
             "iteration": 47,
             "learn": [
              0.2063957092
             ],
             "passed_time": 17.73858407,
             "remaining_time": 19.21679941,
             "test": [
              0.2028761795
             ]
            },
            {
             "iteration": 48,
             "learn": [
              0.2026764273
             ],
             "passed_time": 18.12647114,
             "remaining_time": 18.86632711,
             "test": [
              0.1991306342
             ]
            },
            {
             "iteration": 49,
             "learn": [
              0.1995495192
             ],
             "passed_time": 18.42386732,
             "remaining_time": 18.42386732,
             "test": [
              0.1958427524
             ]
            },
            {
             "iteration": 50,
             "learn": [
              0.1960610144
             ],
             "passed_time": 18.81218036,
             "remaining_time": 18.0744478,
             "test": [
              0.1923909379
             ]
            },
            {
             "iteration": 51,
             "learn": [
              0.1928943131
             ],
             "passed_time": 19.16594189,
             "remaining_time": 17.69163867,
             "test": [
              0.1889619021
             ]
            },
            {
             "iteration": 52,
             "learn": [
              0.1898510951
             ],
             "passed_time": 19.55913746,
             "remaining_time": 17.34489549,
             "test": [
              0.1858203881
             ]
            },
            {
             "iteration": 53,
             "learn": [
              0.1866603753
             ],
             "passed_time": 19.91614279,
             "remaining_time": 16.96560312,
             "test": [
              0.1824561285
             ]
            },
            {
             "iteration": 54,
             "learn": [
              0.1836728542
             ],
             "passed_time": 20.24354888,
             "remaining_time": 16.56290363,
             "test": [
              0.1796077382
             ]
            },
            {
             "iteration": 55,
             "learn": [
              0.1808316529
             ],
             "passed_time": 20.60619861,
             "remaining_time": 16.19058462,
             "test": [
              0.1766413812
             ]
            },
            {
             "iteration": 56,
             "learn": [
              0.1785467625
             ],
             "passed_time": 20.88620882,
             "remaining_time": 15.7562628,
             "test": [
              0.1742882126
             ]
            },
            {
             "iteration": 57,
             "learn": [
              0.1755763278
             ],
             "passed_time": 21.31059743,
             "remaining_time": 15.43181193,
             "test": [
              0.17132633
             ]
            },
            {
             "iteration": 58,
             "learn": [
              0.1729473331
             ],
             "passed_time": 21.64310789,
             "remaining_time": 15.04012582,
             "test": [
              0.1687989513
             ]
            },
            {
             "iteration": 59,
             "learn": [
              0.1702139069
             ],
             "passed_time": 22.02404909,
             "remaining_time": 14.68269939,
             "test": [
              0.1661161665
             ]
            },
            {
             "iteration": 60,
             "learn": [
              0.1676715987
             ],
             "passed_time": 22.40975689,
             "remaining_time": 14.32754949,
             "test": [
              0.1633491736
             ]
            },
            {
             "iteration": 61,
             "learn": [
              0.1653583279
             ],
             "passed_time": 22.7106406,
             "remaining_time": 13.91942488,
             "test": [
              0.1610561349
             ]
            },
            {
             "iteration": 62,
             "learn": [
              0.162869163
             ],
             "passed_time": 23.11797018,
             "remaining_time": 13.57722058,
             "test": [
              0.1586378505
             ]
            },
            {
             "iteration": 63,
             "learn": [
              0.1607261712
             ],
             "passed_time": 23.47300793,
             "remaining_time": 13.20356696,
             "test": [
              0.1563651743
             ]
            },
            {
             "iteration": 64,
             "learn": [
              0.1580287191
             ],
             "passed_time": 23.85605093,
             "remaining_time": 12.84556589,
             "test": [
              0.1535013898
             ]
            },
            {
             "iteration": 65,
             "learn": [
              0.1555544065
             ],
             "passed_time": 24.21915698,
             "remaining_time": 12.47653541,
             "test": [
              0.1508206798
             ]
            },
            {
             "iteration": 66,
             "learn": [
              0.1534811716
             ],
             "passed_time": 24.59646995,
             "remaining_time": 12.11467923,
             "test": [
              0.1488723571
             ]
            },
            {
             "iteration": 67,
             "learn": [
              0.1510260964
             ],
             "passed_time": 25.05707407,
             "remaining_time": 11.79156427,
             "test": [
              0.1462411057
             ]
            },
            {
             "iteration": 68,
             "learn": [
              0.1493674878
             ],
             "passed_time": 25.39379726,
             "remaining_time": 11.40880747,
             "test": [
              0.1445168287
             ]
            },
            {
             "iteration": 69,
             "learn": [
              0.1475487404
             ],
             "passed_time": 25.75138877,
             "remaining_time": 11.03630947,
             "test": [
              0.1425367785
             ]
            },
            {
             "iteration": 70,
             "learn": [
              0.1452560805
             ],
             "passed_time": 26.13247479,
             "remaining_time": 10.67382773,
             "test": [
              0.1400650815
             ]
            },
            {
             "iteration": 71,
             "learn": [
              0.1433467873
             ],
             "passed_time": 26.49675051,
             "remaining_time": 10.30429186,
             "test": [
              0.1380930362
             ]
            },
            {
             "iteration": 72,
             "learn": [
              0.141188024
             ],
             "passed_time": 26.87505329,
             "remaining_time": 9.940088203,
             "test": [
              0.1360107986
             ]
            },
            {
             "iteration": 73,
             "learn": [
              0.1394931924
             ],
             "passed_time": 27.2412715,
             "remaining_time": 9.571257553,
             "test": [
              0.1343008685
             ]
            },
            {
             "iteration": 74,
             "learn": [
              0.1375911499
             ],
             "passed_time": 27.64734702,
             "remaining_time": 9.21578234,
             "test": [
              0.1322453605
             ]
            },
            {
             "iteration": 75,
             "learn": [
              0.1358782913
             ],
             "passed_time": 28.02817868,
             "remaining_time": 8.851003794,
             "test": [
              0.130387572
             ]
            },
            {
             "iteration": 76,
             "learn": [
              0.1340924703
             ],
             "passed_time": 28.43863091,
             "remaining_time": 8.494655987,
             "test": [
              0.1284866035
             ]
            },
            {
             "iteration": 77,
             "learn": [
              0.1326846109
             ],
             "passed_time": 28.80452028,
             "remaining_time": 8.124351873,
             "test": [
              0.1269446906
             ]
            },
            {
             "iteration": 78,
             "learn": [
              0.1308370023
             ],
             "passed_time": 29.25740527,
             "remaining_time": 7.777284946,
             "test": [
              0.1249611928
             ]
            },
            {
             "iteration": 79,
             "learn": [
              0.1287925755
             ],
             "passed_time": 29.69959161,
             "remaining_time": 7.424897903,
             "test": [
              0.1229468039
             ]
            },
            {
             "iteration": 80,
             "learn": [
              0.1275893134
             ],
             "passed_time": 30.01754522,
             "remaining_time": 7.041152582,
             "test": [
              0.1216239448
             ]
            },
            {
             "iteration": 81,
             "learn": [
              0.126302705
             ],
             "passed_time": 30.38677674,
             "remaining_time": 6.670268065,
             "test": [
              0.1203306419
             ]
            },
            {
             "iteration": 82,
             "learn": [
              0.1247901009
             ],
             "passed_time": 30.76179066,
             "remaining_time": 6.300607725,
             "test": [
              0.1187839007
             ]
            },
            {
             "iteration": 83,
             "learn": [
              0.1236656664
             ],
             "passed_time": 31.09062196,
             "remaining_time": 5.92202323,
             "test": [
              0.1175908614
             ]
            },
            {
             "iteration": 84,
             "learn": [
              0.1226704724
             ],
             "passed_time": 31.36106568,
             "remaining_time": 5.534305709,
             "test": [
              0.1164307987
             ]
            },
            {
             "iteration": 85,
             "learn": [
              0.1211948922
             ],
             "passed_time": 31.76614863,
             "remaining_time": 5.171233498,
             "test": [
              0.1151074333
             ]
            },
            {
             "iteration": 86,
             "learn": [
              0.1195311557
             ],
             "passed_time": 32.21972182,
             "remaining_time": 4.814441191,
             "test": [
              0.113417836
             ]
            },
            {
             "iteration": 87,
             "learn": [
              0.1184724528
             ],
             "passed_time": 32.58978122,
             "remaining_time": 4.444061075,
             "test": [
              0.1122886851
             ]
            },
            {
             "iteration": 88,
             "learn": [
              0.1170322169
             ],
             "passed_time": 33.00873384,
             "remaining_time": 4.079731149,
             "test": [
              0.1107718259
             ]
            },
            {
             "iteration": 89,
             "learn": [
              0.1153937527
             ],
             "passed_time": 33.46417264,
             "remaining_time": 3.718241405,
             "test": [
              0.1091441839
             ]
            },
            {
             "iteration": 90,
             "learn": [
              0.1144589857
             ],
             "passed_time": 33.7995348,
             "remaining_time": 3.342811134,
             "test": [
              0.1081303069
             ]
            },
            {
             "iteration": 91,
             "learn": [
              0.1128979081
             ],
             "passed_time": 34.24520521,
             "remaining_time": 2.977843931,
             "test": [
              0.1066455813
             ]
            },
            {
             "iteration": 92,
             "learn": [
              0.1120828349
             ],
             "passed_time": 34.52906953,
             "remaining_time": 2.598962222,
             "test": [
              0.1056767976
             ]
            },
            {
             "iteration": 93,
             "learn": [
              0.1109191044
             ],
             "passed_time": 34.91366568,
             "remaining_time": 2.228531852,
             "test": [
              0.1045803867
             ]
            },
            {
             "iteration": 94,
             "learn": [
              0.110090144
             ],
             "passed_time": 35.24848857,
             "remaining_time": 1.855183609,
             "test": [
              0.1036827312
             ]
            },
            {
             "iteration": 95,
             "learn": [
              0.1092119736
             ],
             "passed_time": 35.64946116,
             "remaining_time": 1.485394215,
             "test": [
              0.1027046528
             ]
            },
            {
             "iteration": 96,
             "learn": [
              0.1080595888
             ],
             "passed_time": 36.04784483,
             "remaining_time": 1.114881799,
             "test": [
              0.1015437328
             ]
            },
            {
             "iteration": 97,
             "learn": [
              0.1067923946
             ],
             "passed_time": 36.42021942,
             "remaining_time": 0.743269784,
             "test": [
              0.1001403858
             ]
            },
            {
             "iteration": 98,
             "learn": [
              0.1058054361
             ],
             "passed_time": 36.7977038,
             "remaining_time": 0.3716939778,
             "test": [
              0.09908553757
             ]
            },
            {
             "iteration": 99,
             "learn": [
              0.1050338384
             ],
             "passed_time": 37.1239596,
             "remaining_time": 0,
             "test": [
              0.0982768228
             ]
            }
           ],
           "meta": {
            "iteration_count": 100,
            "launch_mode": "Train",
            "learn_metrics": [
             {
              "best_value": "Min",
              "name": "CrossEntropy"
             }
            ],
            "learn_sets": [
             "learn"
            ],
            "name": "experiment",
            "parameters": "",
            "test_metrics": [
             {
              "best_value": "Min",
              "name": "CrossEntropy"
             }
            ],
            "test_sets": [
             "test"
            ]
           }
          },
          "passed_iterations": 99,
          "total_iterations": 100
         },
         "name": "catboost_info",
         "path": "catboost_info"
        }
       },
       "layout": "IPY_MODEL_7c403b33df1846f7a374fd1e96bef1f6"
      }
     },
     "c94a62bb835942868f0850d51ec6ad3a": {
      "model_module": "@jupyter-widgets/base",
      "model_module_version": "1.2.0",
      "model_name": "LayoutModel",
      "state": {
       "_model_module": "@jupyter-widgets/base",
       "_model_module_version": "1.2.0",
       "_model_name": "LayoutModel",
       "_view_count": null,
       "_view_module": "@jupyter-widgets/base",
       "_view_module_version": "1.2.0",
       "_view_name": "LayoutView",
       "align_content": null,
       "align_items": null,
       "align_self": "stretch",
       "border": null,
       "bottom": null,
       "display": null,
       "flex": null,
       "flex_flow": null,
       "grid_area": null,
       "grid_auto_columns": null,
       "grid_auto_flow": null,
       "grid_auto_rows": null,
       "grid_column": null,
       "grid_gap": null,
       "grid_row": null,
       "grid_template_areas": null,
       "grid_template_columns": null,
       "grid_template_rows": null,
       "height": "500px",
       "justify_content": null,
       "justify_items": null,
       "left": null,
       "margin": null,
       "max_height": null,
       "max_width": null,
       "min_height": null,
       "min_width": null,
       "object_fit": null,
       "object_position": null,
       "order": null,
       "overflow": null,
       "overflow_x": null,
       "overflow_y": null,
       "padding": null,
       "right": null,
       "top": null,
       "visibility": null,
       "width": null
      }
     },
     "c97bc4e195844ab59eaadcb07c9cbbae": {
      "model_module": "@jupyter-widgets/base",
      "model_module_version": "1.2.0",
      "model_name": "LayoutModel",
      "state": {
       "_model_module": "@jupyter-widgets/base",
       "_model_module_version": "1.2.0",
       "_model_name": "LayoutModel",
       "_view_count": null,
       "_view_module": "@jupyter-widgets/base",
       "_view_module_version": "1.2.0",
       "_view_name": "LayoutView",
       "align_content": null,
       "align_items": null,
       "align_self": "stretch",
       "border": null,
       "bottom": null,
       "display": null,
       "flex": null,
       "flex_flow": null,
       "grid_area": null,
       "grid_auto_columns": null,
       "grid_auto_flow": null,
       "grid_auto_rows": null,
       "grid_column": null,
       "grid_gap": null,
       "grid_row": null,
       "grid_template_areas": null,
       "grid_template_columns": null,
       "grid_template_rows": null,
       "height": "500px",
       "justify_content": null,
       "justify_items": null,
       "left": null,
       "margin": null,
       "max_height": null,
       "max_width": null,
       "min_height": null,
       "min_width": null,
       "object_fit": null,
       "object_position": null,
       "order": null,
       "overflow": null,
       "overflow_x": null,
       "overflow_y": null,
       "padding": null,
       "right": null,
       "top": null,
       "visibility": null,
       "width": null
      }
     },
     "cc8067157a234b1d8592c7ecf9236414": {
      "model_module": "@jupyter-widgets/base",
      "model_module_version": "1.2.0",
      "model_name": "LayoutModel",
      "state": {
       "_model_module": "@jupyter-widgets/base",
       "_model_module_version": "1.2.0",
       "_model_name": "LayoutModel",
       "_view_count": null,
       "_view_module": "@jupyter-widgets/base",
       "_view_module_version": "1.2.0",
       "_view_name": "LayoutView",
       "align_content": null,
       "align_items": null,
       "align_self": "stretch",
       "border": null,
       "bottom": null,
       "display": null,
       "flex": null,
       "flex_flow": null,
       "grid_area": null,
       "grid_auto_columns": null,
       "grid_auto_flow": null,
       "grid_auto_rows": null,
       "grid_column": null,
       "grid_gap": null,
       "grid_row": null,
       "grid_template_areas": null,
       "grid_template_columns": null,
       "grid_template_rows": null,
       "height": "500px",
       "justify_content": null,
       "justify_items": null,
       "left": null,
       "margin": null,
       "max_height": null,
       "max_width": null,
       "min_height": null,
       "min_width": null,
       "object_fit": null,
       "object_position": null,
       "order": null,
       "overflow": null,
       "overflow_x": null,
       "overflow_y": null,
       "padding": null,
       "right": null,
       "top": null,
       "visibility": null,
       "width": null
      }
     },
     "d0a1e370c73f48cd8c1fee956d9a6b1f": {
      "model_module": "catboost-widget",
      "model_module_version": "^1.0.0",
      "model_name": "CatboostWidgetModel",
      "state": {
       "_dom_classes": [],
       "_model_module": "catboost-widget",
       "_model_module_version": "^1.0.0",
       "_model_name": "CatboostWidgetModel",
       "_view_count": null,
       "_view_module": "catboost-widget",
       "_view_module_version": "^1.0.0",
       "_view_name": "CatboostWidgetView",
       "data": {
        "catboost_info": {
         "content": {
          "data": {
           "iterations": [
            {
             "iteration": 0,
             "learn": [
              0.6636495348
             ],
             "passed_time": 0.3619739475,
             "remaining_time": 35.8354208,
             "test": [
              0.6655349711
             ]
            },
            {
             "iteration": 1,
             "learn": [
              0.6394169429
             ],
             "passed_time": 0.7077765186,
             "remaining_time": 34.68104941,
             "test": [
              0.6388257753
             ]
            },
            {
             "iteration": 2,
             "learn": [
              0.6131653469
             ],
             "passed_time": 1.073899788,
             "remaining_time": 34.72275981,
             "test": [
              0.6136365967
             ]
            },
            {
             "iteration": 3,
             "learn": [
              0.5897984693
             ],
             "passed_time": 1.45944255,
             "remaining_time": 35.0266212,
             "test": [
              0.5903269947
             ]
            },
            {
             "iteration": 4,
             "learn": [
              0.5681445934
             ],
             "passed_time": 1.804772995,
             "remaining_time": 34.29068691,
             "test": [
              0.5677615418
             ]
            },
            {
             "iteration": 5,
             "learn": [
              0.5470935894
             ],
             "passed_time": 2.156706604,
             "remaining_time": 33.78840347,
             "test": [
              0.5468563852
             ]
            },
            {
             "iteration": 6,
             "learn": [
              0.5262995661
             ],
             "passed_time": 2.533317523,
             "remaining_time": 33.65693281,
             "test": [
              0.5271186251
             ]
            },
            {
             "iteration": 7,
             "learn": [
              0.5083972334
             ],
             "passed_time": 2.868528419,
             "remaining_time": 32.98807682,
             "test": [
              0.5079501235
             ]
            },
            {
             "iteration": 8,
             "learn": [
              0.489514694
             ],
             "passed_time": 3.215648177,
             "remaining_time": 32.51377601,
             "test": [
              0.4895477508
             ]
            },
            {
             "iteration": 9,
             "learn": [
              0.4720956668
             ],
             "passed_time": 3.577329922,
             "remaining_time": 32.1959693,
             "test": [
              0.4721152897
             ]
            },
            {
             "iteration": 10,
             "learn": [
              0.4559528283
             ],
             "passed_time": 4.010527528,
             "remaining_time": 32.44881364,
             "test": [
              0.4559322579
             ]
            },
            {
             "iteration": 11,
             "learn": [
              0.4407189632
             ],
             "passed_time": 4.383724069,
             "remaining_time": 32.14730984,
             "test": [
              0.4405007671
             ]
            },
            {
             "iteration": 12,
             "learn": [
              0.4257912457
             ],
             "passed_time": 4.76880686,
             "remaining_time": 31.91432283,
             "test": [
              0.4257399895
             ]
            },
            {
             "iteration": 13,
             "learn": [
              0.4113383568
             ],
             "passed_time": 5.122892179,
             "remaining_time": 31.46919481,
             "test": [
              0.4112016984
             ]
            },
            {
             "iteration": 14,
             "learn": [
              0.3971187519
             ],
             "passed_time": 5.503356321,
             "remaining_time": 31.18568582,
             "test": [
              0.3977064622
             ]
            },
            {
             "iteration": 15,
             "learn": [
              0.3837394826
             ],
             "passed_time": 5.853180609,
             "remaining_time": 30.7291982,
             "test": [
              0.3843670361
             ]
            },
            {
             "iteration": 16,
             "learn": [
              0.3715214286
             ],
             "passed_time": 6.201117006,
             "remaining_time": 30.27604185,
             "test": [
              0.3716121955
             ]
            },
            {
             "iteration": 17,
             "learn": [
              0.3590284221
             ],
             "passed_time": 6.552716653,
             "remaining_time": 29.85126475,
             "test": [
              0.3593248387
             ]
            },
            {
             "iteration": 18,
             "learn": [
              0.3475254925
             ],
             "passed_time": 6.926325182,
             "remaining_time": 29.52801788,
             "test": [
              0.3478961855
             ]
            },
            {
             "iteration": 19,
             "learn": [
              0.336693225
             ],
             "passed_time": 7.269679397,
             "remaining_time": 29.07871759,
             "test": [
              0.3368900205
             ]
            },
            {
             "iteration": 20,
             "learn": [
              0.326112004
             ],
             "passed_time": 7.654485924,
             "remaining_time": 28.79544705,
             "test": [
              0.326298067
             ]
            },
            {
             "iteration": 21,
             "learn": [
              0.3155705403
             ],
             "passed_time": 8.002803204,
             "remaining_time": 28.373575,
             "test": [
              0.3158579247
             ]
            },
            {
             "iteration": 22,
             "learn": [
              0.3061551023
             ],
             "passed_time": 8.382000848,
             "remaining_time": 28.0614811,
             "test": [
              0.3061005282
             ]
            },
            {
             "iteration": 23,
             "learn": [
              0.2966938225
             ],
             "passed_time": 8.772532869,
             "remaining_time": 27.77968742,
             "test": [
              0.2967599599
             ]
            },
            {
             "iteration": 24,
             "learn": [
              0.2876327333
             ],
             "passed_time": 9.147830238,
             "remaining_time": 27.44349071,
             "test": [
              0.2878683025
             ]
            },
            {
             "iteration": 25,
             "learn": [
              0.2789333527
             ],
             "passed_time": 9.531721476,
             "remaining_time": 27.12874574,
             "test": [
              0.2793226013
             ]
            },
            {
             "iteration": 26,
             "learn": [
              0.2700020132
             ],
             "passed_time": 9.907913159,
             "remaining_time": 26.7880615,
             "test": [
              0.2706153752
             ]
            },
            {
             "iteration": 27,
             "learn": [
              0.2619353121
             ],
             "passed_time": 10.28114644,
             "remaining_time": 26.43723369,
             "test": [
              0.2626077694
             ]
            },
            {
             "iteration": 28,
             "learn": [
              0.254189492
             ],
             "passed_time": 10.67773784,
             "remaining_time": 26.1420478,
             "test": [
              0.2549825699
             ]
            },
            {
             "iteration": 29,
             "learn": [
              0.2464430144
             ],
             "passed_time": 11.08126477,
             "remaining_time": 25.85628447,
             "test": [
              0.2473563926
             ]
            },
            {
             "iteration": 30,
             "learn": [
              0.2391862099
             ],
             "passed_time": 11.44975188,
             "remaining_time": 25.4849316,
             "test": [
              0.2401319728
             ]
            },
            {
             "iteration": 31,
             "learn": [
              0.2323511403
             ],
             "passed_time": 11.79078099,
             "remaining_time": 25.05540959,
             "test": [
              0.2334085506
             ]
            },
            {
             "iteration": 32,
             "learn": [
              0.2255569645
             ],
             "passed_time": 12.1056605,
             "remaining_time": 24.57815919,
             "test": [
              0.2266450677
             ]
            },
            {
             "iteration": 33,
             "learn": [
              0.2190059384
             ],
             "passed_time": 12.50973327,
             "remaining_time": 24.28359988,
             "test": [
              0.2201005359
             ]
            },
            {
             "iteration": 34,
             "learn": [
              0.2126076818
             ],
             "passed_time": 12.83957099,
             "remaining_time": 23.84491756,
             "test": [
              0.2137020274
             ]
            },
            {
             "iteration": 35,
             "learn": [
              0.2064863794
             ],
             "passed_time": 13.17762542,
             "remaining_time": 23.42688964,
             "test": [
              0.2075934153
             ]
            },
            {
             "iteration": 36,
             "learn": [
              0.200555263
             ],
             "passed_time": 13.58021316,
             "remaining_time": 23.12306566,
             "test": [
              0.2018350776
             ]
            },
            {
             "iteration": 37,
             "learn": [
              0.1947377984
             ],
             "passed_time": 13.94086094,
             "remaining_time": 22.74561522,
             "test": [
              0.1960839396
             ]
            },
            {
             "iteration": 38,
             "learn": [
              0.1893026732
             ],
             "passed_time": 14.25290558,
             "remaining_time": 22.29300616,
             "test": [
              0.1906268473
             ]
            },
            {
             "iteration": 39,
             "learn": [
              0.184099692
             ],
             "passed_time": 14.56821615,
             "remaining_time": 21.85232422,
             "test": [
              0.1855505812
             ]
            },
            {
             "iteration": 40,
             "learn": [
              0.178830373
             ],
             "passed_time": 15.00783562,
             "remaining_time": 21.5966415,
             "test": [
              0.1805499072
             ]
            },
            {
             "iteration": 41,
             "learn": [
              0.1738940652
             ],
             "passed_time": 15.41177596,
             "remaining_time": 21.2829287,
             "test": [
              0.1756128333
             ]
            },
            {
             "iteration": 42,
             "learn": [
              0.1692789108
             ],
             "passed_time": 15.80733465,
             "remaining_time": 20.95390872,
             "test": [
              0.1709408921
             ]
            },
            {
             "iteration": 43,
             "learn": [
              0.1647554207
             ],
             "passed_time": 16.20068762,
             "remaining_time": 20.61905697,
             "test": [
              0.1664804868
             ]
            },
            {
             "iteration": 44,
             "learn": [
              0.1602393757
             ],
             "passed_time": 16.52095455,
             "remaining_time": 20.19227778,
             "test": [
              0.1620529551
             ]
            },
            {
             "iteration": 45,
             "learn": [
              0.1559035641
             ],
             "passed_time": 16.83125435,
             "remaining_time": 19.75842901,
             "test": [
              0.157842384
             ]
            },
            {
             "iteration": 46,
             "learn": [
              0.1517433497
             ],
             "passed_time": 17.14261769,
             "remaining_time": 19.33103697,
             "test": [
              0.153785615
             ]
            },
            {
             "iteration": 47,
             "learn": [
              0.1475776218
             ],
             "passed_time": 17.51466457,
             "remaining_time": 18.97421995,
             "test": [
              0.1496404218
             ]
            },
            {
             "iteration": 48,
             "learn": [
              0.1436325577
             ],
             "passed_time": 17.852218,
             "remaining_time": 18.58087996,
             "test": [
              0.1457291774
             ]
            },
            {
             "iteration": 49,
             "learn": [
              0.1398762766
             ],
             "passed_time": 18.24110473,
             "remaining_time": 18.24110473,
             "test": [
              0.1420581842
             ]
            },
            {
             "iteration": 50,
             "learn": [
              0.1363631888
             ],
             "passed_time": 18.61536257,
             "remaining_time": 17.88534835,
             "test": [
              0.1385785511
             ]
            },
            {
             "iteration": 51,
             "learn": [
              0.1328949574
             ],
             "passed_time": 19.01555773,
             "remaining_time": 17.55282252,
             "test": [
              0.1352109479
             ]
            },
            {
             "iteration": 52,
             "learn": [
              0.1293372369
             ],
             "passed_time": 19.37461257,
             "remaining_time": 17.1812602,
             "test": [
              0.131690004
             ]
            },
            {
             "iteration": 53,
             "learn": [
              0.1259738947
             ],
             "passed_time": 19.70908757,
             "remaining_time": 16.78922275,
             "test": [
              0.1283442826
             ]
            },
            {
             "iteration": 54,
             "learn": [
              0.1229176708
             ],
             "passed_time": 20.08420082,
             "remaining_time": 16.43252795,
             "test": [
              0.1254222682
             ]
            },
            {
             "iteration": 55,
             "learn": [
              0.1196736979
             ],
             "passed_time": 20.51241565,
             "remaining_time": 16.11689801,
             "test": [
              0.1222786056
             ]
            },
            {
             "iteration": 56,
             "learn": [
              0.1166484237
             ],
             "passed_time": 20.8541132,
             "remaining_time": 15.73205031,
             "test": [
              0.119217366
             ]
            },
            {
             "iteration": 57,
             "learn": [
              0.1138543143
             ],
             "passed_time": 21.16526851,
             "remaining_time": 15.32657375,
             "test": [
              0.1164187807
             ]
            },
            {
             "iteration": 58,
             "learn": [
              0.1108882565
             ],
             "passed_time": 21.54516871,
             "remaining_time": 14.97206639,
             "test": [
              0.1134880087
             ]
            },
            {
             "iteration": 59,
             "learn": [
              0.1081047748
             ],
             "passed_time": 21.86257401,
             "remaining_time": 14.57504934,
             "test": [
              0.1107796498
             ]
            },
            {
             "iteration": 60,
             "learn": [
              0.1055555597
             ],
             "passed_time": 22.25748717,
             "remaining_time": 14.23019671,
             "test": [
              0.1081919399
             ]
            },
            {
             "iteration": 61,
             "learn": [
              0.1028753653
             ],
             "passed_time": 22.64936985,
             "remaining_time": 13.88187184,
             "test": [
              0.1056350839
             ]
            },
            {
             "iteration": 62,
             "learn": [
              0.1003856556
             ],
             "passed_time": 22.96117763,
             "remaining_time": 13.48513607,
             "test": [
              0.1032108551
             ]
            },
            {
             "iteration": 63,
             "learn": [
              0.09813838541
             ],
             "passed_time": 23.33519782,
             "remaining_time": 13.12604877,
             "test": [
              0.1009572548
             ]
            },
            {
             "iteration": 64,
             "learn": [
              0.09567642182
             ],
             "passed_time": 23.76006961,
             "remaining_time": 12.79388364,
             "test": [
              0.09856896807
             ]
            },
            {
             "iteration": 65,
             "learn": [
              0.0933490285
             ],
             "passed_time": 24.12894974,
             "remaining_time": 12.43006502,
             "test": [
              0.09625564042
             ]
            },
            {
             "iteration": 66,
             "learn": [
              0.09109876679
             ],
             "passed_time": 24.46989101,
             "remaining_time": 12.05233438,
             "test": [
              0.09398834471
             ]
            },
            {
             "iteration": 67,
             "learn": [
              0.08891241182
             ],
             "passed_time": 24.85771169,
             "remaining_time": 11.69774668,
             "test": [
              0.09184925792
             ]
            },
            {
             "iteration": 68,
             "learn": [
              0.08692114474
             ],
             "passed_time": 25.23136744,
             "remaining_time": 11.33583175,
             "test": [
              0.08995932207
             ]
            },
            {
             "iteration": 69,
             "learn": [
              0.0848843298
             ],
             "passed_time": 25.54944078,
             "remaining_time": 10.94976033,
             "test": [
              0.08799378475
             ]
            },
            {
             "iteration": 70,
             "learn": [
              0.08284105367
             ],
             "passed_time": 26.01369911,
             "remaining_time": 10.62531372,
             "test": [
              0.08599098873
             ]
            },
            {
             "iteration": 71,
             "learn": [
              0.08067170716
             ],
             "passed_time": 26.52705038,
             "remaining_time": 10.31607515,
             "test": [
              0.08368737623
             ]
            },
            {
             "iteration": 72,
             "learn": [
              0.07887143569
             ],
             "passed_time": 27.04960638,
             "remaining_time": 10.00464894,
             "test": [
              0.08197076413
             ]
            },
            {
             "iteration": 73,
             "learn": [
              0.07703440554
             ],
             "passed_time": 27.60594078,
             "remaining_time": 9.699384599,
             "test": [
              0.08018023235
             ]
            },
            {
             "iteration": 74,
             "learn": [
              0.07538562419
             ],
             "passed_time": 27.97941704,
             "remaining_time": 9.326472345,
             "test": [
              0.07868805535
             ]
            },
            {
             "iteration": 75,
             "learn": [
              0.07357577505
             ],
             "passed_time": 28.28823015,
             "remaining_time": 8.933125309,
             "test": [
              0.07688015032
             ]
            },
            {
             "iteration": 76,
             "learn": [
              0.0718434025
             ],
             "passed_time": 28.60102253,
             "remaining_time": 8.543162575,
             "test": [
              0.07520012906
             ]
            },
            {
             "iteration": 77,
             "learn": [
              0.07016799237
             ],
             "passed_time": 29.02132951,
             "remaining_time": 8.185503196,
             "test": [
              0.0735685756
             ]
            },
            {
             "iteration": 78,
             "learn": [
              0.06847624988
             ],
             "passed_time": 29.33011006,
             "remaining_time": 7.796611534,
             "test": [
              0.0718946538
             ]
            },
            {
             "iteration": 79,
             "learn": [
              0.06702310104
             ],
             "passed_time": 29.70836211,
             "remaining_time": 7.427090527,
             "test": [
              0.07050383792
             ]
            },
            {
             "iteration": 80,
             "learn": [
              0.06534257749
             ],
             "passed_time": 30.03585873,
             "remaining_time": 7.045448344,
             "test": [
              0.06873566422
             ]
            },
            {
             "iteration": 81,
             "learn": [
              0.06373838142
             ],
             "passed_time": 30.43613079,
             "remaining_time": 6.681101881,
             "test": [
              0.06701474084
             ]
            },
            {
             "iteration": 82,
             "learn": [
              0.06248724267
             ],
             "passed_time": 30.81120571,
             "remaining_time": 6.310728881,
             "test": [
              0.0658727644
             ]
            },
            {
             "iteration": 83,
             "learn": [
              0.06127297183
             ],
             "passed_time": 31.1795466,
             "remaining_time": 5.938961257,
             "test": [
              0.06477559928
             ]
            },
            {
             "iteration": 84,
             "learn": [
              0.05989250832
             ],
             "passed_time": 31.48174053,
             "remaining_time": 5.55560127,
             "test": [
              0.06338021841
             ]
            },
            {
             "iteration": 85,
             "learn": [
              0.0584484009
             ],
             "passed_time": 31.89818999,
             "remaining_time": 5.192728603,
             "test": [
              0.06188708085
             ]
            },
            {
             "iteration": 86,
             "learn": [
              0.05704198534
             ],
             "passed_time": 32.24912856,
             "remaining_time": 4.818835302,
             "test": [
              0.06035400605
             ]
            },
            {
             "iteration": 87,
             "learn": [
              0.05580289191
             ],
             "passed_time": 32.59988102,
             "remaining_time": 4.445438321,
             "test": [
              0.05906466283
             ]
            },
            {
             "iteration": 88,
             "learn": [
              0.05462326046
             ],
             "passed_time": 32.9437714,
             "remaining_time": 4.071702084,
             "test": [
              0.05782106943
             ]
            },
            {
             "iteration": 89,
             "learn": [
              0.05333104646
             ],
             "passed_time": 33.32028378,
             "remaining_time": 3.702253753,
             "test": [
              0.05651145975
             ]
            },
            {
             "iteration": 90,
             "learn": [
              0.05236852612
             ],
             "passed_time": 33.69796948,
             "remaining_time": 3.332766213,
             "test": [
              0.05564074895
             ]
            },
            {
             "iteration": 91,
             "learn": [
              0.05117715337
             ],
             "passed_time": 34.01952464,
             "remaining_time": 2.958219534,
             "test": [
              0.05438355175
             ]
            },
            {
             "iteration": 92,
             "learn": [
              0.05003086523
             ],
             "passed_time": 34.34410745,
             "remaining_time": 2.585040345,
             "test": [
              0.05317085785
             ]
            },
            {
             "iteration": 93,
             "learn": [
              0.04897006262
             ],
             "passed_time": 34.74344078,
             "remaining_time": 2.217666433,
             "test": [
              0.05214380777
             ]
            },
            {
             "iteration": 94,
             "learn": [
              0.04811429029
             ],
             "passed_time": 35.07740245,
             "remaining_time": 1.846179076,
             "test": [
              0.05126935959
             ]
            },
            {
             "iteration": 95,
             "learn": [
              0.04715634287
             ],
             "passed_time": 35.43540843,
             "remaining_time": 1.476475351,
             "test": [
              0.05040293699
             ]
            },
            {
             "iteration": 96,
             "learn": [
              0.04644019685
             ],
             "passed_time": 35.79112183,
             "remaining_time": 1.106941912,
             "test": [
              0.04978117724
             ]
            },
            {
             "iteration": 97,
             "learn": [
              0.04537867947
             ],
             "passed_time": 36.1682583,
             "remaining_time": 0.7381277204,
             "test": [
              0.04869870667
             ]
            },
            {
             "iteration": 98,
             "learn": [
              0.0444476468
             ],
             "passed_time": 36.47218845,
             "remaining_time": 0.368405944,
             "test": [
              0.0477460101
             ]
            },
            {
             "iteration": 99,
             "learn": [
              0.04346206583
             ],
             "passed_time": 36.93832001,
             "remaining_time": 0,
             "test": [
              0.04673328818
             ]
            }
           ],
           "meta": {
            "iteration_count": 100,
            "launch_mode": "Train",
            "learn_metrics": [
             {
              "best_value": "Min",
              "name": "CrossEntropy"
             }
            ],
            "learn_sets": [
             "learn"
            ],
            "name": "experiment",
            "parameters": "",
            "test_metrics": [
             {
              "best_value": "Min",
              "name": "CrossEntropy"
             }
            ],
            "test_sets": [
             "test"
            ]
           }
          },
          "passed_iterations": 99,
          "total_iterations": 100
         },
         "name": "catboost_info",
         "path": "catboost_info"
        }
       },
       "layout": "IPY_MODEL_67cb431297664f3181a020a403901bbf"
      }
     },
     "d416a56386124817b41d0563461ef5a9": {
      "model_module": "@jupyter-widgets/base",
      "model_module_version": "1.2.0",
      "model_name": "LayoutModel",
      "state": {
       "_model_module": "@jupyter-widgets/base",
       "_model_module_version": "1.2.0",
       "_model_name": "LayoutModel",
       "_view_count": null,
       "_view_module": "@jupyter-widgets/base",
       "_view_module_version": "1.2.0",
       "_view_name": "LayoutView",
       "align_content": null,
       "align_items": null,
       "align_self": "stretch",
       "border": null,
       "bottom": null,
       "display": null,
       "flex": null,
       "flex_flow": null,
       "grid_area": null,
       "grid_auto_columns": null,
       "grid_auto_flow": null,
       "grid_auto_rows": null,
       "grid_column": null,
       "grid_gap": null,
       "grid_row": null,
       "grid_template_areas": null,
       "grid_template_columns": null,
       "grid_template_rows": null,
       "height": "500px",
       "justify_content": null,
       "justify_items": null,
       "left": null,
       "margin": null,
       "max_height": null,
       "max_width": null,
       "min_height": null,
       "min_width": null,
       "object_fit": null,
       "object_position": null,
       "order": null,
       "overflow": null,
       "overflow_x": null,
       "overflow_y": null,
       "padding": null,
       "right": null,
       "top": null,
       "visibility": null,
       "width": null
      }
     },
     "e879e97da3aa426c838c9727d5e70d8c": {
      "model_module": "catboost-widget",
      "model_module_version": "^1.0.0",
      "model_name": "CatboostWidgetModel",
      "state": {
       "_dom_classes": [],
       "_model_module": "catboost-widget",
       "_model_module_version": "^1.0.0",
       "_model_name": "CatboostWidgetModel",
       "_view_count": null,
       "_view_module": "catboost-widget",
       "_view_module_version": "^1.0.0",
       "_view_name": "CatboostWidgetView",
       "data": {
        "catboost_info": {
         "content": {
          "data": {
           "iterations": [
            {
             "iteration": 0,
             "learn": [
              0.6622141741
             ],
             "passed_time": 0.4429359186,
             "remaining_time": 43.85065594,
             "test": [
              0.6641699292
             ]
            },
            {
             "iteration": 1,
             "learn": [
              0.6374336866
             ],
             "passed_time": 0.9009042116,
             "remaining_time": 44.14430637,
             "test": [
              0.6367480381
             ]
            },
            {
             "iteration": 2,
             "learn": [
              0.6109555488
             ],
             "passed_time": 1.378717394,
             "remaining_time": 44.57852907,
             "test": [
              0.6111308392
             ]
            },
            {
             "iteration": 3,
             "learn": [
              0.5864926962
             ],
             "passed_time": 1.817466956,
             "remaining_time": 43.61920696,
             "test": [
              0.5868606987
             ]
            },
            {
             "iteration": 4,
             "learn": [
              0.5645253654
             ],
             "passed_time": 2.329006619,
             "remaining_time": 44.25112577,
             "test": [
              0.5639263068
             ]
            },
            {
             "iteration": 5,
             "learn": [
              0.5424135169
             ],
             "passed_time": 2.979904297,
             "remaining_time": 46.68516732,
             "test": [
              0.5421836919
             ]
            },
            {
             "iteration": 6,
             "learn": [
              0.5205732508
             ],
             "passed_time": 3.554919339,
             "remaining_time": 47.22964264,
             "test": [
              0.5213359927
             ]
            },
            {
             "iteration": 7,
             "learn": [
              0.502640094
             ],
             "passed_time": 3.985740851,
             "remaining_time": 45.83601978,
             "test": [
              0.5017073871
             ]
            },
            {
             "iteration": 8,
             "learn": [
              0.4833927507
             ],
             "passed_time": 4.463946903,
             "remaining_time": 45.13546313,
             "test": [
              0.4830692213
             ]
            },
            {
             "iteration": 9,
             "learn": [
              0.4655612379
             ],
             "passed_time": 4.934480113,
             "remaining_time": 44.41032102,
             "test": [
              0.4653572164
             ]
            },
            {
             "iteration": 10,
             "learn": [
              0.4492172627
             ],
             "passed_time": 5.368211876,
             "remaining_time": 43.43371427,
             "test": [
              0.4484694864
             ]
            },
            {
             "iteration": 11,
             "learn": [
              0.4332746676
             ],
             "passed_time": 5.832284165,
             "remaining_time": 42.77008388,
             "test": [
              0.4323498977
             ]
            },
            {
             "iteration": 12,
             "learn": [
              0.4178356639
             ],
             "passed_time": 6.236608704,
             "remaining_time": 41.7373044,
             "test": [
              0.4169389733
             ]
            },
            {
             "iteration": 13,
             "learn": [
              0.4027591049
             ],
             "passed_time": 6.655975315,
             "remaining_time": 40.88670551,
             "test": [
              0.4022556588
             ]
            },
            {
             "iteration": 14,
             "learn": [
              0.3885704401
             ],
             "passed_time": 7.060212179,
             "remaining_time": 40.00786902,
             "test": [
              0.3881931163
             ]
            },
            {
             "iteration": 15,
             "learn": [
              0.3744323599
             ],
             "passed_time": 7.533635409,
             "remaining_time": 39.5515859,
             "test": [
              0.3747353881
             ]
            },
            {
             "iteration": 16,
             "learn": [
              0.3620773454
             ],
             "passed_time": 7.949637044,
             "remaining_time": 38.8129338,
             "test": [
              0.361918286
             ]
            },
            {
             "iteration": 17,
             "learn": [
              0.3500881926
             ],
             "passed_time": 8.360647243,
             "remaining_time": 38.08739299,
             "test": [
              0.3495822989
             ]
            },
            {
             "iteration": 18,
             "learn": [
              0.3378829138
             ],
             "passed_time": 8.814244325,
             "remaining_time": 37.57651528,
             "test": [
              0.3375737324
             ]
            },
            {
             "iteration": 19,
             "learn": [
              0.3267923254
             ],
             "passed_time": 9.274512402,
             "remaining_time": 37.09804961,
             "test": [
              0.3260792885
             ]
            },
            {
             "iteration": 20,
             "learn": [
              0.3157181197
             ],
             "passed_time": 9.729109119,
             "remaining_time": 36.59998193,
             "test": [
              0.3151438317
             ]
            },
            {
             "iteration": 21,
             "learn": [
              0.3047897197
             ],
             "passed_time": 10.15707575,
             "remaining_time": 36.01145038,
             "test": [
              0.304676429
             ]
            },
            {
             "iteration": 22,
             "learn": [
              0.2952915087
             ],
             "passed_time": 10.63711534,
             "remaining_time": 35.61121221,
             "test": [
              0.2945623689
             ]
            },
            {
             "iteration": 23,
             "learn": [
              0.2856061317
             ],
             "passed_time": 11.05536206,
             "remaining_time": 35.00864654,
             "test": [
              0.2849843265
             ]
            },
            {
             "iteration": 24,
             "learn": [
              0.2759685944
             ],
             "passed_time": 11.52143983,
             "remaining_time": 34.56431948,
             "test": [
              0.2755721087
             ]
            },
            {
             "iteration": 25,
             "learn": [
              0.2667831419
             ],
             "passed_time": 11.97972958,
             "remaining_time": 34.09615341,
             "test": [
              0.2667460314
             ]
            },
            {
             "iteration": 26,
             "learn": [
              0.2586531191
             ],
             "passed_time": 12.38929137,
             "remaining_time": 33.49697297,
             "test": [
              0.2582310856
             ]
            },
            {
             "iteration": 27,
             "learn": [
              0.2507022322
             ],
             "passed_time": 12.81919514,
             "remaining_time": 32.96364465,
             "test": [
              0.2500051408
             ]
            },
            {
             "iteration": 28,
             "learn": [
              0.2427549004
             ],
             "passed_time": 13.2186974,
             "remaining_time": 32.36301778,
             "test": [
              0.2419962854
             ]
            },
            {
             "iteration": 29,
             "learn": [
              0.2351656565
             ],
             "passed_time": 13.62202855,
             "remaining_time": 31.78473327,
             "test": [
              0.2343944844
             ]
            },
            {
             "iteration": 30,
             "learn": [
              0.2277803521
             ],
             "passed_time": 14.01698713,
             "remaining_time": 31.19910038,
             "test": [
              0.2269955271
             ]
            },
            {
             "iteration": 31,
             "learn": [
              0.2202999435
             ],
             "passed_time": 14.43943767,
             "remaining_time": 30.68380504,
             "test": [
              0.219767539
             ]
            },
            {
             "iteration": 32,
             "learn": [
              0.2134140708
             ],
             "passed_time": 14.87892546,
             "remaining_time": 30.20872745,
             "test": [
              0.2128996346
             ]
            },
            {
             "iteration": 33,
             "learn": [
              0.206745862
             ],
             "passed_time": 15.31184948,
             "remaining_time": 29.72300194,
             "test": [
              0.2062793001
             ]
            },
            {
             "iteration": 34,
             "learn": [
              0.2006834294
             ],
             "passed_time": 15.79404875,
             "remaining_time": 29.33180482,
             "test": [
              0.1999615154
             ]
            },
            {
             "iteration": 35,
             "learn": [
              0.1944315243
             ],
             "passed_time": 16.24145261,
             "remaining_time": 28.87369352,
             "test": [
              0.1938605745
             ]
            },
            {
             "iteration": 36,
             "learn": [
              0.1886873734
             ],
             "passed_time": 16.68791356,
             "remaining_time": 28.41455552,
             "test": [
              0.1878979157
             ]
            },
            {
             "iteration": 37,
             "learn": [
              0.1828434297
             ],
             "passed_time": 17.10234212,
             "remaining_time": 27.90382136,
             "test": [
              0.182195959
             ]
            },
            {
             "iteration": 38,
             "learn": [
              0.1774398966
             ],
             "passed_time": 17.55274678,
             "remaining_time": 27.45429625,
             "test": [
              0.17669559
             ]
            },
            {
             "iteration": 39,
             "learn": [
              0.1718641178
             ],
             "passed_time": 18.00501872,
             "remaining_time": 27.00752807,
             "test": [
              0.1713039721
             ]
            },
            {
             "iteration": 40,
             "learn": [
              0.1666016658
             ],
             "passed_time": 18.42649092,
             "remaining_time": 26.51616987,
             "test": [
              0.166161782
             ]
            },
            {
             "iteration": 41,
             "learn": [
              0.1619945481
             ],
             "passed_time": 18.86836571,
             "remaining_time": 26.05631455,
             "test": [
              0.1611888451
             ]
            },
            {
             "iteration": 42,
             "learn": [
              0.1570756414
             ],
             "passed_time": 19.27052459,
             "remaining_time": 25.54464888,
             "test": [
              0.1563859463
             ]
            },
            {
             "iteration": 43,
             "learn": [
              0.1525106102
             ],
             "passed_time": 19.72924856,
             "remaining_time": 25.10995271,
             "test": [
              0.1517408942
             ]
            },
            {
             "iteration": 44,
             "learn": [
              0.1480717695
             ],
             "passed_time": 20.17091573,
             "remaining_time": 24.65334144,
             "test": [
              0.1472684608
             ]
            },
            {
             "iteration": 45,
             "learn": [
              0.1436658709
             ],
             "passed_time": 20.60870486,
             "remaining_time": 24.19282745,
             "test": [
              0.1429456426
             ]
            },
            {
             "iteration": 46,
             "learn": [
              0.1394900989
             ],
             "passed_time": 21.07818158,
             "remaining_time": 23.76901328,
             "test": [
              0.1386944436
             ]
            },
            {
             "iteration": 47,
             "learn": [
              0.1354801228
             ],
             "passed_time": 21.50579939,
             "remaining_time": 23.29794934,
             "test": [
              0.1346062202
             ]
            },
            {
             "iteration": 48,
             "learn": [
              0.131578108
             ],
             "passed_time": 21.9505976,
             "remaining_time": 22.84654036,
             "test": [
              0.1306615966
             ]
            },
            {
             "iteration": 49,
             "learn": [
              0.1277991128
             ],
             "passed_time": 22.39455409,
             "remaining_time": 22.39455409,
             "test": [
              0.1269141157
             ]
            },
            {
             "iteration": 50,
             "learn": [
              0.124097926
             ],
             "passed_time": 22.78917644,
             "remaining_time": 21.89548325,
             "test": [
              0.1232396517
             ]
            },
            {
             "iteration": 51,
             "learn": [
              0.1205449141
             ],
             "passed_time": 23.21165886,
             "remaining_time": 21.42614664,
             "test": [
              0.1197238392
             ]
            },
            {
             "iteration": 52,
             "learn": [
              0.11727527
             ],
             "passed_time": 23.6485746,
             "remaining_time": 20.97137747,
             "test": [
              0.1162178599
             ]
            },
            {
             "iteration": 53,
             "learn": [
              0.114020216
             ],
             "passed_time": 24.09491136,
             "remaining_time": 20.52529486,
             "test": [
              0.1128396378
             ]
            },
            {
             "iteration": 54,
             "learn": [
              0.1107206623
             ],
             "passed_time": 24.5162467,
             "remaining_time": 20.0587473,
             "test": [
              0.109638198
             ]
            },
            {
             "iteration": 55,
             "learn": [
              0.1077942366
             ],
             "passed_time": 24.9246917,
             "remaining_time": 19.58368634,
             "test": [
              0.1065014245
             ]
            },
            {
             "iteration": 56,
             "learn": [
              0.104641647
             ],
             "passed_time": 25.38911537,
             "remaining_time": 19.1531923,
             "test": [
              0.1034727379
             ]
            },
            {
             "iteration": 57,
             "learn": [
              0.1019280092
             ],
             "passed_time": 25.80987071,
             "remaining_time": 18.68990638,
             "test": [
              0.1005168249
             ]
            },
            {
             "iteration": 58,
             "learn": [
              0.0990843419
             ],
             "passed_time": 26.21339343,
             "remaining_time": 18.21608696,
             "test": [
              0.09776435049
             ]
            },
            {
             "iteration": 59,
             "learn": [
              0.09643279933
             ],
             "passed_time": 26.67165357,
             "remaining_time": 17.78110238,
             "test": [
              0.09506733374
             ]
            },
            {
             "iteration": 60,
             "learn": [
              0.09353342152
             ],
             "passed_time": 27.09973144,
             "remaining_time": 17.32605781,
             "test": [
              0.09234896736
             ]
            },
            {
             "iteration": 61,
             "learn": [
              0.09098446756
             ],
             "passed_time": 27.52559876,
             "remaining_time": 16.87052827,
             "test": [
              0.08978442273
             ]
            },
            {
             "iteration": 62,
             "learn": [
              0.0885591788
             ],
             "passed_time": 27.92940129,
             "remaining_time": 16.40298171,
             "test": [
              0.08733331135
             ]
            },
            {
             "iteration": 63,
             "learn": [
              0.08626790516
             ],
             "passed_time": 28.35654047,
             "remaining_time": 15.95055402,
             "test": [
              0.08490642342
             ]
            },
            {
             "iteration": 64,
             "learn": [
              0.08385480142
             ],
             "passed_time": 28.82509183,
             "remaining_time": 15.52120329,
             "test": [
              0.08259078533
             ]
            },
            {
             "iteration": 65,
             "learn": [
              0.08163082369
             ],
             "passed_time": 29.23482308,
             "remaining_time": 15.0603634,
             "test": [
              0.08034201691
             ]
            },
            {
             "iteration": 66,
             "learn": [
              0.07949028168
             ],
             "passed_time": 29.64014563,
             "remaining_time": 14.5988777,
             "test": [
              0.07822329558
             ]
            },
            {
             "iteration": 67,
             "learn": [
              0.07738072815
             ],
             "passed_time": 30.08856606,
             "remaining_time": 14.1593252,
             "test": [
              0.07613360199
             ]
            },
            {
             "iteration": 68,
             "learn": [
              0.07526823229
             ],
             "passed_time": 30.5411414,
             "remaining_time": 13.72138237,
             "test": [
              0.07403264963
             ]
            },
            {
             "iteration": 69,
             "learn": [
              0.07335713943
             ],
             "passed_time": 30.9800592,
             "remaining_time": 13.27716823,
             "test": [
              0.07205314659
             ]
            },
            {
             "iteration": 70,
             "learn": [
              0.0714405858
             ],
             "passed_time": 31.4103442,
             "remaining_time": 12.82957721,
             "test": [
              0.07012156947
             ]
            },
            {
             "iteration": 71,
             "learn": [
              0.06959907404
             ],
             "passed_time": 31.86733036,
             "remaining_time": 12.39285069,
             "test": [
              0.06828116486
             ]
            },
            {
             "iteration": 72,
             "learn": [
              0.06771290811
             ],
             "passed_time": 32.2860395,
             "remaining_time": 11.94141187,
             "test": [
              0.0663972553
             ]
            },
            {
             "iteration": 73,
             "learn": [
              0.06595695247
             ],
             "passed_time": 32.75078893,
             "remaining_time": 11.50703395,
             "test": [
              0.06470237685
             ]
            },
            {
             "iteration": 74,
             "learn": [
              0.0642568347
             ],
             "passed_time": 33.19816593,
             "remaining_time": 11.06605531,
             "test": [
              0.06300664479
             ]
            },
            {
             "iteration": 75,
             "learn": [
              0.06257084541
             ],
             "passed_time": 33.65203521,
             "remaining_time": 10.62695849,
             "test": [
              0.06136651444
             ]
            },
            {
             "iteration": 76,
             "learn": [
              0.06103487091
             ],
             "passed_time": 34.18492701,
             "remaining_time": 10.21108209,
             "test": [
              0.05972465178
             ]
            },
            {
             "iteration": 77,
             "learn": [
              0.05951621694
             ],
             "passed_time": 34.75553059,
             "remaining_time": 9.802841961,
             "test": [
              0.0581940654
             ]
            },
            {
             "iteration": 78,
             "learn": [
              0.05801952782
             ],
             "passed_time": 35.34049705,
             "remaining_time": 9.394309341,
             "test": [
              0.05669918994
             ]
            },
            {
             "iteration": 79,
             "learn": [
              0.05659164436
             ],
             "passed_time": 35.79221857,
             "remaining_time": 8.948054643,
             "test": [
              0.05528599408
             ]
            },
            {
             "iteration": 80,
             "learn": [
              0.05527715995
             ],
             "passed_time": 36.23261856,
             "remaining_time": 8.499009292,
             "test": [
              0.05391313778
             ]
            },
            {
             "iteration": 81,
             "learn": [
              0.05380133851
             ],
             "passed_time": 36.67639649,
             "remaining_time": 8.050916302,
             "test": [
              0.05257000158
             ]
            },
            {
             "iteration": 82,
             "learn": [
              0.05249252607
             ],
             "passed_time": 37.0896751,
             "remaining_time": 7.596680443,
             "test": [
              0.05124473157
             ]
            },
            {
             "iteration": 83,
             "learn": [
              0.05115887789
             ],
             "passed_time": 37.59027409,
             "remaining_time": 7.160052208,
             "test": [
              0.04991832042
             ]
            },
            {
             "iteration": 84,
             "learn": [
              0.04977053447
             ],
             "passed_time": 38.04089811,
             "remaining_time": 6.713099666,
             "test": [
              0.04863319712
             ]
            },
            {
             "iteration": 85,
             "learn": [
              0.04855069856
             ],
             "passed_time": 38.44818098,
             "remaining_time": 6.259006205,
             "test": [
              0.04742572782
             ]
            },
            {
             "iteration": 86,
             "learn": [
              0.04740841971
             ],
             "passed_time": 38.87643156,
             "remaining_time": 5.809121958,
             "test": [
              0.04625242733
             ]
            },
            {
             "iteration": 87,
             "learn": [
              0.04622722679
             ],
             "passed_time": 39.30970455,
             "remaining_time": 5.360414256,
             "test": [
              0.04511956363
             ]
            },
            {
             "iteration": 88,
             "learn": [
              0.04509798643
             ],
             "passed_time": 39.73160196,
             "remaining_time": 4.910647433,
             "test": [
              0.04400267392
             ]
            },
            {
             "iteration": 89,
             "learn": [
              0.0440122445
             ],
             "passed_time": 40.19339041,
             "remaining_time": 4.465932268,
             "test": [
              0.04296103763
             ]
            },
            {
             "iteration": 90,
             "learn": [
              0.04301697323
             ],
             "passed_time": 40.59989964,
             "remaining_time": 4.01537469,
             "test": [
              0.04192322999
             ]
            },
            {
             "iteration": 91,
             "learn": [
              0.04204660668
             ],
             "passed_time": 41.00625527,
             "remaining_time": 3.565761327,
             "test": [
              0.04085831436
             ]
            },
            {
             "iteration": 92,
             "learn": [
              0.04104288793
             ],
             "passed_time": 41.42887734,
             "remaining_time": 3.118302596,
             "test": [
              0.03989301813
             ]
            },
            {
             "iteration": 93,
             "learn": [
              0.04009723144
             ],
             "passed_time": 41.87166995,
             "remaining_time": 2.672659784,
             "test": [
              0.03894320442
             ]
            },
            {
             "iteration": 94,
             "learn": [
              0.03914154047
             ],
             "passed_time": 42.2859634,
             "remaining_time": 2.225577021,
             "test": [
              0.03800708903
             ]
            },
            {
             "iteration": 95,
             "learn": [
              0.0382155546
             ],
             "passed_time": 42.7206265,
             "remaining_time": 1.780026104,
             "test": [
              0.03711734855
             ]
            },
            {
             "iteration": 96,
             "learn": [
              0.0373782068
             ],
             "passed_time": 43.16608441,
             "remaining_time": 1.335033538,
             "test": [
              0.03629005191
             ]
            },
            {
             "iteration": 97,
             "learn": [
              0.03650079076
             ],
             "passed_time": 43.62345742,
             "remaining_time": 0.8902746413,
             "test": [
              0.03548758358
             ]
            },
            {
             "iteration": 98,
             "learn": [
              0.0357177653
             ],
             "passed_time": 44.07394022,
             "remaining_time": 0.4451913154,
             "test": [
              0.03463626025
             ]
            },
            {
             "iteration": 99,
             "learn": [
              0.03492471314
             ],
             "passed_time": 44.51581895,
             "remaining_time": 0,
             "test": [
              0.0338432913
             ]
            }
           ],
           "meta": {
            "iteration_count": 100,
            "launch_mode": "Train",
            "learn_metrics": [
             {
              "best_value": "Min",
              "name": "CrossEntropy"
             }
            ],
            "learn_sets": [
             "learn"
            ],
            "name": "experiment",
            "parameters": "",
            "test_metrics": [
             {
              "best_value": "Min",
              "name": "CrossEntropy"
             }
            ],
            "test_sets": [
             "test"
            ]
           }
          },
          "passed_iterations": 99,
          "total_iterations": 100
         },
         "name": "catboost_info",
         "path": "catboost_info"
        }
       },
       "layout": "IPY_MODEL_b063fa210efd4ac99416cc3e869c908d"
      }
     },
     "f149b0fefa7a4f6ca21509bc46a0ffc3": {
      "model_module": "@jupyter-widgets/base",
      "model_module_version": "1.2.0",
      "model_name": "LayoutModel",
      "state": {
       "_model_module": "@jupyter-widgets/base",
       "_model_module_version": "1.2.0",
       "_model_name": "LayoutModel",
       "_view_count": null,
       "_view_module": "@jupyter-widgets/base",
       "_view_module_version": "1.2.0",
       "_view_name": "LayoutView",
       "align_content": null,
       "align_items": null,
       "align_self": "stretch",
       "border": null,
       "bottom": null,
       "display": null,
       "flex": null,
       "flex_flow": null,
       "grid_area": null,
       "grid_auto_columns": null,
       "grid_auto_flow": null,
       "grid_auto_rows": null,
       "grid_column": null,
       "grid_gap": null,
       "grid_row": null,
       "grid_template_areas": null,
       "grid_template_columns": null,
       "grid_template_rows": null,
       "height": "500px",
       "justify_content": null,
       "justify_items": null,
       "left": null,
       "margin": null,
       "max_height": null,
       "max_width": null,
       "min_height": null,
       "min_width": null,
       "object_fit": null,
       "object_position": null,
       "order": null,
       "overflow": null,
       "overflow_x": null,
       "overflow_y": null,
       "padding": null,
       "right": null,
       "top": null,
       "visibility": null,
       "width": null
      }
     },
     "f4e279bd337b4d8c8e214f02a3a8a4db": {
      "model_module": "@jupyter-widgets/base",
      "model_module_version": "1.2.0",
      "model_name": "LayoutModel",
      "state": {
       "_model_module": "@jupyter-widgets/base",
       "_model_module_version": "1.2.0",
       "_model_name": "LayoutModel",
       "_view_count": null,
       "_view_module": "@jupyter-widgets/base",
       "_view_module_version": "1.2.0",
       "_view_name": "LayoutView",
       "align_content": null,
       "align_items": null,
       "align_self": "stretch",
       "border": null,
       "bottom": null,
       "display": null,
       "flex": null,
       "flex_flow": null,
       "grid_area": null,
       "grid_auto_columns": null,
       "grid_auto_flow": null,
       "grid_auto_rows": null,
       "grid_column": null,
       "grid_gap": null,
       "grid_row": null,
       "grid_template_areas": null,
       "grid_template_columns": null,
       "grid_template_rows": null,
       "height": "500px",
       "justify_content": null,
       "justify_items": null,
       "left": null,
       "margin": null,
       "max_height": null,
       "max_width": null,
       "min_height": null,
       "min_width": null,
       "object_fit": null,
       "object_position": null,
       "order": null,
       "overflow": null,
       "overflow_x": null,
       "overflow_y": null,
       "padding": null,
       "right": null,
       "top": null,
       "visibility": null,
       "width": null
      }
     },
     "f888fd6ce8e34aaab7bdecf9db9b73dd": {
      "model_module": "@jupyter-widgets/base",
      "model_module_version": "1.2.0",
      "model_name": "LayoutModel",
      "state": {
       "_model_module": "@jupyter-widgets/base",
       "_model_module_version": "1.2.0",
       "_model_name": "LayoutModel",
       "_view_count": null,
       "_view_module": "@jupyter-widgets/base",
       "_view_module_version": "1.2.0",
       "_view_name": "LayoutView",
       "align_content": null,
       "align_items": null,
       "align_self": "stretch",
       "border": null,
       "bottom": null,
       "display": null,
       "flex": null,
       "flex_flow": null,
       "grid_area": null,
       "grid_auto_columns": null,
       "grid_auto_flow": null,
       "grid_auto_rows": null,
       "grid_column": null,
       "grid_gap": null,
       "grid_row": null,
       "grid_template_areas": null,
       "grid_template_columns": null,
       "grid_template_rows": null,
       "height": "500px",
       "justify_content": null,
       "justify_items": null,
       "left": null,
       "margin": null,
       "max_height": null,
       "max_width": null,
       "min_height": null,
       "min_width": null,
       "object_fit": null,
       "object_position": null,
       "order": null,
       "overflow": null,
       "overflow_x": null,
       "overflow_y": null,
       "padding": null,
       "right": null,
       "top": null,
       "visibility": null,
       "width": null
      }
     }
    },
    "version_major": 2,
    "version_minor": 0
   }
  }
 },
 "nbformat": 4,
 "nbformat_minor": 5
}
