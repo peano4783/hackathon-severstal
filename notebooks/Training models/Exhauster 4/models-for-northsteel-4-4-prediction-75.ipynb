{
 "cells": [
  {
   "cell_type": "code",
   "execution_count": 1,
   "id": "f99dc7f0",
   "metadata": {
    "execution": {
     "iopub.execute_input": "2023-05-28T20:43:45.095978Z",
     "iopub.status.busy": "2023-05-28T20:43:45.095409Z",
     "iopub.status.idle": "2023-05-28T20:43:45.140657Z",
     "shell.execute_reply": "2023-05-28T20:43:45.139377Z"
    },
    "papermill": {
     "duration": 0.05886,
     "end_time": "2023-05-28T20:43:45.145039",
     "exception": false,
     "start_time": "2023-05-28T20:43:45.086179",
     "status": "completed"
    },
    "tags": []
   },
   "outputs": [
    {
     "name": "stdout",
     "output_type": "stream",
     "text": [
      "/kaggle/input/y-train-northsteel/y_long_МАСЛООХЛАДИТЕЛЬ  М-05-1 ЭКСГ.d.csv\n",
      "/kaggle/input/y-train-northsteel/y_long_КЛ2 ТР№8 ДО ЭД ЭКСГАУСТЕРА №d.csv\n",
      "/kaggle/input/y-train-northsteel/y_long_САПФИР 22 МДД РАЗРЕЖЕНИЕ В КОЛЛЕКТОРЕ.csv\n",
      "/kaggle/input/y-train-northsteel/y_long_ВК 310С ВИБРОПРЕОБРАЗОВАТЕЛЬ ЭКСГ.d Т.2.csv\n",
      "/kaggle/input/y-train-northsteel/y_long_ЗАП. И РЕГ. АРМАТУРА ЭКСГ.d.csv\n",
      "/kaggle/input/y-train-northsteel/y_long_ЭКСГАУСТЕР Н-8000 АМ №5.csv\n",
      "/kaggle/input/y-train-northsteel/y_long_ЭЛЕКТРОДВИГАТЕЛЬ ДСПУ-140-84-4 ЭКСГ.d.csv\n",
      "/kaggle/input/y-train-northsteel/y_long_РЕДУКТОР ГАЗ. ЗАДВИЖКИ ЭКСГ.d.csv\n",
      "/kaggle/input/y-train-northsteel/y_long_КЛ1 ТР№4 ДО ЭД ЭКСГАУСТЕРА №d.csv\n",
      "/kaggle/input/y-train-northsteel/y_long_ТСМТ-101-010-50М-200 ТЕРМОПР.ПОДШ.Т.3.csv\n",
      "/kaggle/input/y-train-northsteel/y_long_ЭЛЕКТРООБОРУДОВАНИЯ ЭКСГАУСТЕРА №d.csv\n",
      "/kaggle/input/y-train-northsteel/y_long_МАСЛЯНЫЙ ФИЛЬТР ЭКСГАУСТЕРА №d.csv\n",
      "/kaggle/input/y-train-northsteel/y_long_УЛИТА ЭКСГ.d.csv\n",
      "/kaggle/input/y-train-northsteel/y_long_РЕГУЛИРУЮЩАЯ АППАРАТУРА ЭКСГАУСТЕРА №d.csv\n",
      "/kaggle/input/y-train-northsteel/y_long_ПОДШИПНИК ОПОРНЫЙ ЭКСГ.d.csv\n",
      "/kaggle/input/y-train-northsteel/y_long_ТСМТ-101-010-50М-200 ТЕРМОПР.ПОДШ.Т.4.csv\n",
      "/kaggle/input/y-train-northsteel/y_long_КЛ1 ТР№6 ДО ЭД ЭКСГАУСТЕРА №d.csv\n",
      "/kaggle/input/y-train-northsteel/y_long_ГАЗОВАЯ ЗАДВИЖКА ЭКСГ.d.csv\n",
      "/kaggle/input/y-train-northsteel/y_long_ГСМ ЭКСГ.d.csv\n",
      "/kaggle/input/y-train-northsteel/y_long_ВК 310С ВИБРОПРЕОБРАЗОВАТЕЛЬ ЭКСГ.d Т.3.csv\n",
      "/kaggle/input/y-train-northsteel/y_long_ТСМТ-101-010-50М-80 ТЕРМОПРЕОБР.МАСЛО.csv\n",
      "/kaggle/input/y-train-northsteel/y_long_КЛ2 ТР№6 ДО ЭД ЭКСГАУСТЕРА №d.csv\n",
      "/kaggle/input/y-train-northsteel/y_long_ТИРИСТОРНЫЙ ВОЗБУДИТЕЛЬ ТВ-400 ЭКСГ.d ВУ1.csv\n",
      "/kaggle/input/y-train-northsteel/y_long_КЛ1 ТР№5 ДО ЭД ЭКСГАУСТЕРА №d.csv\n",
      "/kaggle/input/y-train-northsteel/y_long_ДВИГАТЕЛЬ РЕЗЕРВНОГО МАСЛОНАСОСА ЭКСГ.d.csv\n",
      "/kaggle/input/y-train-northsteel/y_long_КЛ1 ТР№8 ДО ЭД ЭКСГАУСТЕРА №d.csv\n",
      "/kaggle/input/y-train-northsteel/y_long_МЕТРАН-100 ДАТЧИКИ ДАВЛЕНИЯ ЭКСГ.d.csv\n",
      "/kaggle/input/y-train-northsteel/y_long_ЗАДВИЖКА ЭКСГ.d.csv\n",
      "/kaggle/input/y-train-northsteel/y_long_КЛ2 ТР№5 ДО ЭД ЭКСГАУСТЕРА №d.csv\n",
      "/kaggle/input/y-train-northsteel/y_long_САПФИР 22 МДД ПЕРЕПАД ДАВЛ. НА ЦИКЛОНЕ.csv\n",
      "/kaggle/input/y-train-northsteel/y_long_ПОДШИПНИК ОПОРНЫЙ №2 ЭКСГ.d.csv\n",
      "/kaggle/input/y-train-northsteel/y_long_МАСЛОНАСОС ШЕСТЕРЕНЧАТЫЙ (РЕЗ.) ЭКСГ.d.csv\n",
      "/kaggle/input/y-train-northsteel/y_long_ПОДШИПНИК ОПОРНО-УПОРНЫЙ ЭКСГ.d.csv\n",
      "/kaggle/input/y-train-northsteel/y_long_ЗАПОРНАЯ АРМАТУРА ЭКСГАУСТЕРА №d.csv\n",
      "/kaggle/input/y-train-northsteel/y_long_КОРПУС ЭКСГ.d.csv\n",
      "/kaggle/input/y-train-northsteel/y_long_ВК 310С ВИБРОПРЕОБРАЗОВАТЕЛЬ ЭКСГ.d Т.4.csv\n",
      "/kaggle/input/y-train-northsteel/y_long_ТИРИСТОРНЫЙ ВОЗБУДИТЕЛЬ СПВД-М10-400-5.csv\n",
      "/kaggle/input/y-train-northsteel/y_long_КЛ1 ТР№9 ДО ЭД ЭКСГАУСТЕРА №d.csv\n",
      "/kaggle/input/y-train-northsteel/y_long_ЭЛДВИГАТЕЛЬ ГАЗ. ЗАДВИЖКИ ЭКСГ.d.csv\n",
      "/kaggle/input/y-train-northsteel/y_long_ДВИГАТЕЛЬ ПУСКОВОГО МАСЛОНАСОСА ЭКСГ.d.csv\n",
      "/kaggle/input/y-train-northsteel/y_long_ТИРИСТ. ВОЗБУДИТЕЛЬ ВТ-РЭМ-400 ЭКСГ.d ВУ1.csv\n",
      "/kaggle/input/y-train-northsteel/y_long_ЭКСГАУСТЕР №d.csv\n",
      "/kaggle/input/y-train-northsteel/y_long_ТР-Р ТМ-4000-106 ЭКСГ.d.csv\n",
      "/kaggle/input/y-train-northsteel/y_long_МАСЛОНАСОС РАБОЧИЙ ЭКСГ.d.csv\n",
      "/kaggle/input/y-train-northsteel/y_long_КЛ1 ТР№7 ДО ЭД ЭКСГАУСТЕРА №d.csv\n",
      "/kaggle/input/y-train-northsteel/y_long_МАСЛОБАК ЭКСГ.d.csv\n",
      "/kaggle/input/y-train-northsteel/y_long_ТИРИСТ. ВОЗБУДИТЕЛЬ ВТ-РЭМ-400 ЭКСГ.d ВУ2.csv\n",
      "/kaggle/input/y-train-northsteel/y_long_ТР-Р ТМ-6300-106 ЭКСГ.d.csv\n",
      "/kaggle/input/y-train-northsteel/y_long_МАСЛОСТАНЦИЯ ЖИДКОЙ СМАЗКИ ЭКСГ.d.csv\n",
      "/kaggle/input/y-train-northsteel/y_long_КОЖУХ МУФТЫ ЭКСГ.d.csv\n",
      "/kaggle/input/y-train-northsteel/y_long_ПОДШИПНИК ОПОРНЫЙ №1 ЭКСГ.d.csv\n",
      "/kaggle/input/y-train-northsteel/y_long_РОТОР ЭКСГ.d.csv\n",
      "/kaggle/input/y-train-northsteel/dict_long.csv\n",
      "/kaggle/input/y-train-northsteel/y_long_ТСМТ-101-010-50М-400 ТЕРМОПР.ПОДШ.Т.1.csv\n",
      "/kaggle/input/y-train-northsteel/y_long_МАСЛОПРОВОДЫ ЭКСГАУСТЕРА №d.csv\n",
      "/kaggle/input/y-train-northsteel/y_long_МАСЛОНАСОС ШЕСТЕРЕНЧАТЫЙ (ПУСК.) ЭКСГ.d.csv\n",
      "/kaggle/input/y-train-northsteel/y_long_КЛ2 ТР№4 ДО ЭД ЭКСГАУСТЕРА №d.csv\n",
      "/kaggle/input/y-train-northsteel/y_long_ВК 310С ВИБРОПРЕОБРАЗОВАТЕЛЬ ЭКСГ.d Т.1.csv\n",
      "/kaggle/input/y-train-northsteel/y_long_ТСМТ-101-010-50М-400 ТЕРМОПР.ПОДШ.Т.2.csv\n",
      "/kaggle/input/y-train-northsteel-short/y_short_ТСМТ-101-010-50М-80 ТЕРМОПРЕОБР.МАСЛО.csv\n",
      "/kaggle/input/y-train-northsteel-short/y_short_ЗАДВИЖКА ЭКСГ.d.csv\n",
      "/kaggle/input/y-train-northsteel-short/y_short_КОРПУС ЭКСГ.d.csv\n",
      "/kaggle/input/y-train-northsteel-short/y_short_ГАЗОВАЯ ЗАДВИЖКА ЭКСГ.d.csv\n",
      "/kaggle/input/y-train-northsteel-short/y_short_ТИРИСТ. ВОЗБУДИТЕЛЬ ВТ-РЭМ-400 ЭКСГ.d.csv\n",
      "/kaggle/input/y-train-northsteel-short/y_short_КЛ2 ТР№n ДО ЭД ЭКСГАУСТЕРА №d.csv\n",
      "/kaggle/input/y-train-northsteel-short/y_short_РЕДУКТОР ГАЗ. ЗАДВИЖКИ ЭКСГ.d.csv\n",
      "/kaggle/input/y-train-northsteel-short/y_short_МАСЛОНАСОС ШЕСТЕРЕНЧАТЫЙ (РЕЗ.) ЭКСГ.d.csv\n",
      "/kaggle/input/y-train-northsteel-short/y_short_УЛИТА ЭКСГ.d.csv\n",
      "/kaggle/input/y-train-northsteel-short/y_short_ВК 310С ВИБРОПРЕОБРАЗОВАТЕЛЬ ЭКСГ.d.csv\n",
      "/kaggle/input/y-train-northsteel-short/y_short_ДВИГАТЕЛЬ РЕЗЕРВНОГО МАСЛОНАСОСА ЭКСГ.d.csv\n",
      "/kaggle/input/y-train-northsteel-short/y_short_ЗАПОРНАЯ АРМАТУРА ЭКСГАУСТЕРА №d.csv\n",
      "/kaggle/input/y-train-northsteel-short/y_short_МАСЛОНАСОС РАБОЧИЙ ЭКСГ.d.csv\n",
      "/kaggle/input/y-train-northsteel-short/y_short_МЕТРАН-100 ДАТЧИКИ ДАВЛЕНИЯ ЭКСГ.d.csv\n",
      "/kaggle/input/y-train-northsteel-short/y_short_ЭКСГАУСТЕР Н-8000 АМ №5.csv\n",
      "/kaggle/input/y-train-northsteel-short/y_short_ПОДШИПНИК ОПОРНО-УПОРНЫЙ ЭКСГ.d.csv\n",
      "/kaggle/input/y-train-northsteel-short/y_short_ПОДШИПНИК ОПОРНЫЙ ЭКСГ.d.csv\n",
      "/kaggle/input/y-train-northsteel-short/y_short_МАСЛООХЛАДИТЕЛЬ  М-05-1 ЭКСГ.d.csv\n",
      "/kaggle/input/y-train-northsteel-short/y_short_ТИРИСТОРНЫЙ ВОЗБУДИТЕЛЬ ТВ-400 ЭКСГ.d ВУ1.csv\n",
      "/kaggle/input/y-train-northsteel-short/y_short_КЛ1 ТР№n ДО ЭД ЭКСГАУСТЕРА №d.csv\n",
      "/kaggle/input/y-train-northsteel-short/y_short_ЭЛДВИГАТЕЛЬ ГАЗ. ЗАДВИЖКИ ЭКСГ.d.csv\n",
      "/kaggle/input/y-train-northsteel-short/y_short_ТСМТ-101-010-50М-200 ТЕРМОПР.ПОДШ.csv\n",
      "/kaggle/input/y-train-northsteel-short/y_short_МАСЛОБАК ЭКСГ.d.csv\n",
      "/kaggle/input/y-train-northsteel-short/y_short_ЗАП. И РЕГ. АРМАТУРА ЭКСГ.d.csv\n",
      "/kaggle/input/y-train-northsteel-short/y_short_КОЖУХ МУФТЫ ЭКСГ.d.csv\n",
      "/kaggle/input/y-train-northsteel-short/y_short_РЕГУЛИРУЮЩАЯ АППАРАТУРА ЭКСГАУСТЕРА №d.csv\n",
      "/kaggle/input/y-train-northsteel-short/y_short_МАСЛЯНЫЙ ФИЛЬТР ЭКСГАУСТЕРА №d.csv\n",
      "/kaggle/input/y-train-northsteel-short/y_short_ТР-Р ТМ-4000-106 ЭКСГ.d.csv\n",
      "/kaggle/input/y-train-northsteel-short/y_short_ЭЛЕКТРОДВИГАТЕЛЬ ДСПУ-140-84-4 ЭКСГ.d.csv\n",
      "/kaggle/input/y-train-northsteel-short/y_short_ДВИГАТЕЛЬ ПУСКОВОГО МАСЛОНАСОСА ЭКСГ.d.csv\n",
      "/kaggle/input/y-train-northsteel-short/y_short_САПФИР 22 МДД РАЗРЕЖЕНИЕ В КОЛЛЕКТОРЕ.csv\n",
      "/kaggle/input/y-train-northsteel-short/y_short_САПФИР 22 МДД ПЕРЕПАД ДАВЛ. НА ЦИКЛОНЕ.csv\n",
      "/kaggle/input/y-train-northsteel-short/y_short_МАСЛОНАСОС ШЕСТЕРЕНЧАТЫЙ (ПУСК.) ЭКСГ.d.csv\n",
      "/kaggle/input/y-train-northsteel-short/y_short_ТР-Р ТМ-6300-106 ЭКСГ.d.csv\n",
      "/kaggle/input/y-train-northsteel-short/y_short_ТСМТ-101-010-50М-400 ТЕРМОПР.ПОДШ.csv\n",
      "/kaggle/input/y-train-northsteel-short/y_short_ЭКСГАУСТЕР №d.csv\n",
      "/kaggle/input/y-train-northsteel-short/y_short_МАСЛОСТАНЦИЯ ЖИДКОЙ СМАЗКИ ЭКСГ.d.csv\n",
      "/kaggle/input/y-train-northsteel-short/y_short_ЭЛЕКТРООБОРУДОВАНИЯ ЭКСГАУСТЕРА №d.csv\n",
      "/kaggle/input/y-train-northsteel-short/dict_short.csv\n",
      "/kaggle/input/y-train-northsteel-short/y_short_ГСМ ЭКСГ.d.csv\n",
      "/kaggle/input/y-train-northsteel-short/y_short_ТИРИСТОРНЫЙ ВОЗБУДИТЕЛЬ СПВД-М10-400-5.csv\n",
      "/kaggle/input/y-train-northsteel-short/y_short_МАСЛОПРОВОДЫ ЭКСГАУСТЕРА №d.csv\n",
      "/kaggle/input/y-train-northsteel-short/y_short_РОТОР ЭКСГ.d.csv\n",
      "/kaggle/input/x-test-northsteel/ВИБРАЦИЯ НА ОПОРЕ 4. ПРОДОЛЬНАЯ.csv\n",
      "/kaggle/input/x-test-northsteel/ВИБРАЦИЯ НА ОПОРЕ 4.csv\n",
      "/kaggle/input/x-test-northsteel/ЭКСГАУСТЕР 9.csv\n",
      "/kaggle/input/x-test-northsteel/ЭКСГАУСТЕР 4.csv\n",
      "/kaggle/input/x-test-northsteel/ЭКСГАУСТЕР 7.csv\n",
      "/kaggle/input/x-test-northsteel/ВИБРАЦИЯ НА ОПОРЕ 3.csv\n",
      "/kaggle/input/x-test-northsteel/ВИБРАЦИЯ НА ОПОРЕ 2.csv\n",
      "/kaggle/input/x-test-northsteel/ТОК СТАТОРА.csv\n",
      "/kaggle/input/x-test-northsteel/ДАВЛЕНИЕ МАСЛА В СИСТЕМЕ.csv\n",
      "/kaggle/input/x-test-northsteel/ВИБРАЦИЯ НА ОПОРЕ 1.csv\n",
      "/kaggle/input/x-test-northsteel/ТЕМПЕРАТУРА ПОДШИПНИКА НА ОПОРЕ 3.csv\n",
      "/kaggle/input/x-test-northsteel/ТЕМПЕРАТУРА ПОДШИПНИКА НА ОПОРЕ 1.csv\n",
      "/kaggle/input/x-test-northsteel/ЭКСГАУСТЕР 6.csv\n",
      "/kaggle/input/x-test-northsteel/ТОК РОТОРА 2.csv\n",
      "/kaggle/input/x-test-northsteel/ТЕМПЕРАТУРА ПОДШИПНИКА НА ОПОРЕ 2.csv\n",
      "/kaggle/input/x-test-northsteel/ТЕМПЕРАТУРА ПОДШИПНИКА НА ОПОРЕ 4.csv\n",
      "/kaggle/input/x-test-northsteel/ЭКСГАУСТЕР 5.csv\n",
      "/kaggle/input/x-test-northsteel/ТОК РОТОРА 1.csv\n",
      "/kaggle/input/x-test-northsteel/ЭКСГАУСТЕР 8.csv\n",
      "/kaggle/input/x-test-northsteel/ВИБРАЦИЯ НА ОПОРЕ 3. ПРОДОЛЬНАЯ.csv\n",
      "/kaggle/input/x-test-northsteel/ТЕМПЕРАТУРА МАСЛА В МАСЛОБЛОКЕ.csv\n",
      "/kaggle/input/x-test-northsteel/ТЕМПЕРАТУРА МАСЛА В СИСТЕМЕ.csv\n",
      "/kaggle/input/x-train-northsteel/ВИБРАЦИЯ НА ОПОРЕ 4. ПРОДОЛЬНАЯ.csv\n",
      "/kaggle/input/x-train-northsteel/ВИБРАЦИЯ НА ОПОРЕ 4.csv\n",
      "/kaggle/input/x-train-northsteel/ЭКСГАУСТЕР 9.csv\n",
      "/kaggle/input/x-train-northsteel/ЭКСГАУСТЕР 4.csv\n",
      "/kaggle/input/x-train-northsteel/ЭКСГАУСТЕР 7.csv\n",
      "/kaggle/input/x-train-northsteel/ВИБРАЦИЯ НА ОПОРЕ 3.csv\n",
      "/kaggle/input/x-train-northsteel/ВИБРАЦИЯ НА ОПОРЕ 2.csv\n",
      "/kaggle/input/x-train-northsteel/ТОК СТАТОРА.csv\n",
      "/kaggle/input/x-train-northsteel/ДАВЛЕНИЕ МАСЛА В СИСТЕМЕ.csv\n",
      "/kaggle/input/x-train-northsteel/ВИБРАЦИЯ НА ОПОРЕ 1.csv\n",
      "/kaggle/input/x-train-northsteel/ТЕМПЕРАТУРА ПОДШИПНИКА НА ОПОРЕ 3.csv\n",
      "/kaggle/input/x-train-northsteel/ТЕМПЕРАТУРА ПОДШИПНИКА НА ОПОРЕ 1.csv\n",
      "/kaggle/input/x-train-northsteel/ЭКСГАУСТЕР 6.csv\n",
      "/kaggle/input/x-train-northsteel/ТОК РОТОРА 2.csv\n",
      "/kaggle/input/x-train-northsteel/ТЕМПЕРАТУРА ПОДШИПНИКА НА ОПОРЕ 2.csv\n",
      "/kaggle/input/x-train-northsteel/ТЕМПЕРАТУРА ПОДШИПНИКА НА ОПОРЕ 4.csv\n",
      "/kaggle/input/x-train-northsteel/ЭКСГАУСТЕР 5.csv\n",
      "/kaggle/input/x-train-northsteel/ТОК РОТОРА 1.csv\n",
      "/kaggle/input/x-train-northsteel/ЭКСГАУСТЕР 8.csv\n",
      "/kaggle/input/x-train-northsteel/ВИБРАЦИЯ НА ОПОРЕ 3. ПРОДОЛЬНАЯ.csv\n",
      "/kaggle/input/x-train-northsteel/ТЕМПЕРАТУРА МАСЛА В МАСЛОБЛОКЕ.csv\n",
      "/kaggle/input/x-train-northsteel/ТЕМПЕРАТУРА МАСЛА В СИСТЕМЕ.csv\n",
      "/kaggle/input/y-train-northsteel-instances/y_ЭКСГАУСТЕР АМ 6.csv\n",
      "/kaggle/input/y-train-northsteel-instances/y_ЭКСГАУСТЕР АМ 7.csv\n",
      "/kaggle/input/y-train-northsteel-instances/y_ЭКСГАУСТЕР АМ 5.csv\n",
      "/kaggle/input/y-train-northsteel-instances/y_ЭКСГАУСТЕР АМ 8.csv\n",
      "/kaggle/input/y-train-northsteel-instances/y_ЭКСГАУСТЕР АМ 4.csv\n",
      "/kaggle/input/y-train-northsteel-instances/dict_short.csv\n",
      "/kaggle/input/y-train-northsteel-instances/y_ЭКСГАУСТЕР АМ 9.csv\n"
     ]
    }
   ],
   "source": [
    "##### This Python 3 environment comes with many helpful analytics libraries installed\n",
    "# It is defined by the kaggle/python Docker image: https://github.com/kaggle/docker-python\n",
    "# For example, here's several helpful packages to load\n",
    "\n",
    "import numpy as np # linear algebra\n",
    "import pandas as pd # data processing, CSV file I/O (e.g. pd.read_csv)\n",
    "\n",
    "# Input data files are available in the read-only \"../input/\" directory\n",
    "# For example, running this (by clicking run or pressing Shift+Enter) will list all files under the input directory\n",
    "\n",
    "import os\n",
    "for dirname, _, filenames in os.walk('/kaggle/input'):\n",
    "    for filename in filenames:\n",
    "        print(os.path.join(dirname, filename))\n",
    "\n",
    "# You can write up to 20GB to the current directory (/kaggle/working/) that gets preserved as output when you create a version using \"Save & Run All\" \n",
    "# You can also write temporary files to /kaggle/temp/, but they won't be saved outside of the current session"
   ]
  },
  {
   "cell_type": "code",
   "execution_count": 2,
   "id": "0680014e",
   "metadata": {
    "execution": {
     "iopub.execute_input": "2023-05-28T20:43:45.159004Z",
     "iopub.status.busy": "2023-05-28T20:43:45.158273Z",
     "iopub.status.idle": "2023-05-28T20:44:15.728188Z",
     "shell.execute_reply": "2023-05-28T20:44:15.726610Z"
    },
    "papermill": {
     "duration": 30.580162,
     "end_time": "2023-05-28T20:44:15.731345",
     "exception": false,
     "start_time": "2023-05-28T20:43:45.151183",
     "status": "completed"
    },
    "tags": []
   },
   "outputs": [],
   "source": [
    "X_train = pd.read_csv(\"/kaggle/input/x-train-northsteel/ЭКСГАУСТЕР 4.csv\",parse_dates=True)\n"
   ]
  },
  {
   "cell_type": "code",
   "execution_count": 3,
   "id": "48aaf82e",
   "metadata": {
    "execution": {
     "iopub.execute_input": "2023-05-28T20:44:15.745828Z",
     "iopub.status.busy": "2023-05-28T20:44:15.744486Z",
     "iopub.status.idle": "2023-05-28T20:44:58.514400Z",
     "shell.execute_reply": "2023-05-28T20:44:58.513228Z"
    },
    "papermill": {
     "duration": 42.786039,
     "end_time": "2023-05-28T20:44:58.523307",
     "exception": false,
     "start_time": "2023-05-28T20:44:15.737268",
     "status": "completed"
    },
    "tags": []
   },
   "outputs": [
    {
     "data": {
      "text/html": [
       "<div>\n",
       "<style scoped>\n",
       "    .dataframe tbody tr th:only-of-type {\n",
       "        vertical-align: middle;\n",
       "    }\n",
       "\n",
       "    .dataframe tbody tr th {\n",
       "        vertical-align: top;\n",
       "    }\n",
       "\n",
       "    .dataframe thead th {\n",
       "        text-align: right;\n",
       "    }\n",
       "</style>\n",
       "<table border=\"1\" class=\"dataframe\">\n",
       "  <thead>\n",
       "    <tr style=\"text-align: right;\">\n",
       "      <th></th>\n",
       "      <th>ТОК РОТОРА 1</th>\n",
       "      <th>ТОК РОТОРА 2</th>\n",
       "      <th>ТОК СТАТОРА</th>\n",
       "      <th>ВИБРАЦИЯ НА ОПОРЕ 1</th>\n",
       "      <th>ВИБРАЦИЯ НА ОПОРЕ 2</th>\n",
       "      <th>ВИБРАЦИЯ НА ОПОРЕ 3</th>\n",
       "      <th>ВИБРАЦИЯ НА ОПОРЕ 3. ПРОДОЛЬНАЯ</th>\n",
       "      <th>ВИБРАЦИЯ НА ОПОРЕ 4</th>\n",
       "      <th>ВИБРАЦИЯ НА ОПОРЕ 4. ПРОДОЛЬНАЯ</th>\n",
       "      <th>ТЕМПЕРАТУРА ПОДШИПНИКА НА ОПОРЕ 1</th>\n",
       "      <th>ТЕМПЕРАТУРА ПОДШИПНИКА НА ОПОРЕ 2</th>\n",
       "      <th>ТЕМПЕРАТУРА ПОДШИПНИКА НА ОПОРЕ 3</th>\n",
       "      <th>ТЕМПЕРАТУРА ПОДШИПНИКА НА ОПОРЕ 4</th>\n",
       "      <th>ТЕМПЕРАТУРА МАСЛА В МАСЛОБЛОКЕ</th>\n",
       "      <th>ТЕМПЕРАТУРА МАСЛА В СИСТЕМЕ</th>\n",
       "      <th>ДАВЛЕНИЕ МАСЛА В СИСТЕМЕ</th>\n",
       "    </tr>\n",
       "    <tr>\n",
       "      <th>DT</th>\n",
       "      <th></th>\n",
       "      <th></th>\n",
       "      <th></th>\n",
       "      <th></th>\n",
       "      <th></th>\n",
       "      <th></th>\n",
       "      <th></th>\n",
       "      <th></th>\n",
       "      <th></th>\n",
       "      <th></th>\n",
       "      <th></th>\n",
       "      <th></th>\n",
       "      <th></th>\n",
       "      <th></th>\n",
       "      <th></th>\n",
       "      <th></th>\n",
       "    </tr>\n",
       "  </thead>\n",
       "  <tbody>\n",
       "    <tr>\n",
       "      <th>2019-01-16 13:21:00</th>\n",
       "      <td>363.676667</td>\n",
       "      <td>363.676667</td>\n",
       "      <td>244.078000</td>\n",
       "      <td>1.600000</td>\n",
       "      <td>0.760000</td>\n",
       "      <td>0.670000</td>\n",
       "      <td>1.630000</td>\n",
       "      <td>3.450000</td>\n",
       "      <td>0.740000</td>\n",
       "      <td>41.370000</td>\n",
       "      <td>39.750000</td>\n",
       "      <td>39.750000</td>\n",
       "      <td>44.538548</td>\n",
       "      <td>40.560000</td>\n",
       "      <td>33.260000</td>\n",
       "      <td>119.385000</td>\n",
       "    </tr>\n",
       "    <tr>\n",
       "      <th>2019-01-16 13:21:10</th>\n",
       "      <td>363.103333</td>\n",
       "      <td>363.103333</td>\n",
       "      <td>243.032500</td>\n",
       "      <td>1.572917</td>\n",
       "      <td>0.751736</td>\n",
       "      <td>0.642361</td>\n",
       "      <td>1.558160</td>\n",
       "      <td>3.470000</td>\n",
       "      <td>0.734375</td>\n",
       "      <td>41.374596</td>\n",
       "      <td>39.752083</td>\n",
       "      <td>39.995457</td>\n",
       "      <td>44.863054</td>\n",
       "      <td>40.401081</td>\n",
       "      <td>33.343074</td>\n",
       "      <td>119.444440</td>\n",
       "    </tr>\n",
       "    <tr>\n",
       "      <th>2019-01-16 13:21:20</th>\n",
       "      <td>363.266667</td>\n",
       "      <td>363.266667</td>\n",
       "      <td>242.940000</td>\n",
       "      <td>1.553819</td>\n",
       "      <td>0.735918</td>\n",
       "      <td>0.638503</td>\n",
       "      <td>1.581790</td>\n",
       "      <td>2.900000</td>\n",
       "      <td>0.748457</td>\n",
       "      <td>41.374596</td>\n",
       "      <td>39.752083</td>\n",
       "      <td>39.932360</td>\n",
       "      <td>44.799956</td>\n",
       "      <td>40.383053</td>\n",
       "      <td>33.261948</td>\n",
       "      <td>119.330000</td>\n",
       "    </tr>\n",
       "    <tr>\n",
       "      <th>2019-01-16 13:21:30</th>\n",
       "      <td>363.414372</td>\n",
       "      <td>363.414372</td>\n",
       "      <td>243.836802</td>\n",
       "      <td>1.546007</td>\n",
       "      <td>0.736979</td>\n",
       "      <td>0.653646</td>\n",
       "      <td>1.657986</td>\n",
       "      <td>3.297743</td>\n",
       "      <td>0.730903</td>\n",
       "      <td>41.374596</td>\n",
       "      <td>39.752083</td>\n",
       "      <td>39.833208</td>\n",
       "      <td>44.781928</td>\n",
       "      <td>40.563330</td>\n",
       "      <td>33.586453</td>\n",
       "      <td>119.398146</td>\n",
       "    </tr>\n",
       "    <tr>\n",
       "      <th>2019-01-16 13:21:40</th>\n",
       "      <td>363.103333</td>\n",
       "      <td>363.103333</td>\n",
       "      <td>242.050000</td>\n",
       "      <td>1.545139</td>\n",
       "      <td>0.742188</td>\n",
       "      <td>0.677083</td>\n",
       "      <td>1.740000</td>\n",
       "      <td>2.990000</td>\n",
       "      <td>0.739583</td>\n",
       "      <td>41.536849</td>\n",
       "      <td>39.752083</td>\n",
       "      <td>39.752083</td>\n",
       "      <td>43.810000</td>\n",
       "      <td>39.750000</td>\n",
       "      <td>33.505327</td>\n",
       "      <td>119.326667</td>\n",
       "    </tr>\n",
       "    <tr>\n",
       "      <th>...</th>\n",
       "      <td>...</td>\n",
       "      <td>...</td>\n",
       "      <td>...</td>\n",
       "      <td>...</td>\n",
       "      <td>...</td>\n",
       "      <td>...</td>\n",
       "      <td>...</td>\n",
       "      <td>...</td>\n",
       "      <td>...</td>\n",
       "      <td>...</td>\n",
       "      <td>...</td>\n",
       "      <td>...</td>\n",
       "      <td>...</td>\n",
       "      <td>...</td>\n",
       "      <td>...</td>\n",
       "      <td>...</td>\n",
       "    </tr>\n",
       "    <tr>\n",
       "      <th>2021-04-29 20:17:50</th>\n",
       "      <td>227.802000</td>\n",
       "      <td>227.802000</td>\n",
       "      <td>256.457000</td>\n",
       "      <td>0.691667</td>\n",
       "      <td>0.422857</td>\n",
       "      <td>0.824444</td>\n",
       "      <td>1.900000</td>\n",
       "      <td>0.802222</td>\n",
       "      <td>0.810000</td>\n",
       "      <td>38.670000</td>\n",
       "      <td>36.915000</td>\n",
       "      <td>29.615000</td>\n",
       "      <td>32.045000</td>\n",
       "      <td>32.045000</td>\n",
       "      <td>28.800000</td>\n",
       "      <td>143.218000</td>\n",
       "    </tr>\n",
       "    <tr>\n",
       "      <th>2021-06-18 01:21:30</th>\n",
       "      <td>243.908000</td>\n",
       "      <td>243.908000</td>\n",
       "      <td>262.240000</td>\n",
       "      <td>1.410000</td>\n",
       "      <td>1.122000</td>\n",
       "      <td>2.508000</td>\n",
       "      <td>6.800000</td>\n",
       "      <td>1.262000</td>\n",
       "      <td>2.678000</td>\n",
       "      <td>44.080000</td>\n",
       "      <td>47.455000</td>\n",
       "      <td>40.560000</td>\n",
       "      <td>41.780000</td>\n",
       "      <td>43.000000</td>\n",
       "      <td>40.290000</td>\n",
       "      <td>119.744000</td>\n",
       "    </tr>\n",
       "    <tr>\n",
       "      <th>2021-06-21 19:43:00</th>\n",
       "      <td>243.866667</td>\n",
       "      <td>243.866667</td>\n",
       "      <td>248.206667</td>\n",
       "      <td>0.983333</td>\n",
       "      <td>0.910000</td>\n",
       "      <td>2.290000</td>\n",
       "      <td>5.083333</td>\n",
       "      <td>1.353333</td>\n",
       "      <td>2.223333</td>\n",
       "      <td>46.645000</td>\n",
       "      <td>49.085000</td>\n",
       "      <td>45.970000</td>\n",
       "      <td>45.700000</td>\n",
       "      <td>47.455000</td>\n",
       "      <td>48.270000</td>\n",
       "      <td>113.846667</td>\n",
       "    </tr>\n",
       "    <tr>\n",
       "      <th>2021-07-01 23:41:10</th>\n",
       "      <td>244.760000</td>\n",
       "      <td>244.760000</td>\n",
       "      <td>266.060000</td>\n",
       "      <td>0.816000</td>\n",
       "      <td>0.426667</td>\n",
       "      <td>0.149000</td>\n",
       "      <td>0.640000</td>\n",
       "      <td>1.203000</td>\n",
       "      <td>0.270000</td>\n",
       "      <td>49.895000</td>\n",
       "      <td>49.760000</td>\n",
       "      <td>37.680000</td>\n",
       "      <td>41.167500</td>\n",
       "      <td>39.345000</td>\n",
       "      <td>36.186000</td>\n",
       "      <td>152.590000</td>\n",
       "    </tr>\n",
       "    <tr>\n",
       "      <th>2021-09-17 14:14:30</th>\n",
       "      <td>247.005000</td>\n",
       "      <td>247.005000</td>\n",
       "      <td>274.508333</td>\n",
       "      <td>0.346667</td>\n",
       "      <td>1.013333</td>\n",
       "      <td>1.536667</td>\n",
       "      <td>3.618333</td>\n",
       "      <td>2.110000</td>\n",
       "      <td>1.923333</td>\n",
       "      <td>49.760000</td>\n",
       "      <td>44.620000</td>\n",
       "      <td>39.480000</td>\n",
       "      <td>40.290000</td>\n",
       "      <td>39.345000</td>\n",
       "      <td>33.260000</td>\n",
       "      <td>164.408333</td>\n",
       "    </tr>\n",
       "  </tbody>\n",
       "</table>\n",
       "<p>4755649 rows × 16 columns</p>\n",
       "</div>"
      ],
      "text/plain": [
       "                     ТОК РОТОРА 1  ТОК РОТОРА 2  ТОК СТАТОРА  \\\n",
       "DT                                                             \n",
       "2019-01-16 13:21:00    363.676667    363.676667   244.078000   \n",
       "2019-01-16 13:21:10    363.103333    363.103333   243.032500   \n",
       "2019-01-16 13:21:20    363.266667    363.266667   242.940000   \n",
       "2019-01-16 13:21:30    363.414372    363.414372   243.836802   \n",
       "2019-01-16 13:21:40    363.103333    363.103333   242.050000   \n",
       "...                           ...           ...          ...   \n",
       "2021-04-29 20:17:50    227.802000    227.802000   256.457000   \n",
       "2021-06-18 01:21:30    243.908000    243.908000   262.240000   \n",
       "2021-06-21 19:43:00    243.866667    243.866667   248.206667   \n",
       "2021-07-01 23:41:10    244.760000    244.760000   266.060000   \n",
       "2021-09-17 14:14:30    247.005000    247.005000   274.508333   \n",
       "\n",
       "                     ВИБРАЦИЯ НА ОПОРЕ 1  ВИБРАЦИЯ НА ОПОРЕ 2  \\\n",
       "DT                                                              \n",
       "2019-01-16 13:21:00             1.600000             0.760000   \n",
       "2019-01-16 13:21:10             1.572917             0.751736   \n",
       "2019-01-16 13:21:20             1.553819             0.735918   \n",
       "2019-01-16 13:21:30             1.546007             0.736979   \n",
       "2019-01-16 13:21:40             1.545139             0.742188   \n",
       "...                                  ...                  ...   \n",
       "2021-04-29 20:17:50             0.691667             0.422857   \n",
       "2021-06-18 01:21:30             1.410000             1.122000   \n",
       "2021-06-21 19:43:00             0.983333             0.910000   \n",
       "2021-07-01 23:41:10             0.816000             0.426667   \n",
       "2021-09-17 14:14:30             0.346667             1.013333   \n",
       "\n",
       "                     ВИБРАЦИЯ НА ОПОРЕ 3  ВИБРАЦИЯ НА ОПОРЕ 3. ПРОДОЛЬНАЯ  \\\n",
       "DT                                                                          \n",
       "2019-01-16 13:21:00             0.670000                         1.630000   \n",
       "2019-01-16 13:21:10             0.642361                         1.558160   \n",
       "2019-01-16 13:21:20             0.638503                         1.581790   \n",
       "2019-01-16 13:21:30             0.653646                         1.657986   \n",
       "2019-01-16 13:21:40             0.677083                         1.740000   \n",
       "...                                  ...                              ...   \n",
       "2021-04-29 20:17:50             0.824444                         1.900000   \n",
       "2021-06-18 01:21:30             2.508000                         6.800000   \n",
       "2021-06-21 19:43:00             2.290000                         5.083333   \n",
       "2021-07-01 23:41:10             0.149000                         0.640000   \n",
       "2021-09-17 14:14:30             1.536667                         3.618333   \n",
       "\n",
       "                     ВИБРАЦИЯ НА ОПОРЕ 4  ВИБРАЦИЯ НА ОПОРЕ 4. ПРОДОЛЬНАЯ  \\\n",
       "DT                                                                          \n",
       "2019-01-16 13:21:00             3.450000                         0.740000   \n",
       "2019-01-16 13:21:10             3.470000                         0.734375   \n",
       "2019-01-16 13:21:20             2.900000                         0.748457   \n",
       "2019-01-16 13:21:30             3.297743                         0.730903   \n",
       "2019-01-16 13:21:40             2.990000                         0.739583   \n",
       "...                                  ...                              ...   \n",
       "2021-04-29 20:17:50             0.802222                         0.810000   \n",
       "2021-06-18 01:21:30             1.262000                         2.678000   \n",
       "2021-06-21 19:43:00             1.353333                         2.223333   \n",
       "2021-07-01 23:41:10             1.203000                         0.270000   \n",
       "2021-09-17 14:14:30             2.110000                         1.923333   \n",
       "\n",
       "                     ТЕМПЕРАТУРА ПОДШИПНИКА НА ОПОРЕ 1  \\\n",
       "DT                                                       \n",
       "2019-01-16 13:21:00                          41.370000   \n",
       "2019-01-16 13:21:10                          41.374596   \n",
       "2019-01-16 13:21:20                          41.374596   \n",
       "2019-01-16 13:21:30                          41.374596   \n",
       "2019-01-16 13:21:40                          41.536849   \n",
       "...                                                ...   \n",
       "2021-04-29 20:17:50                          38.670000   \n",
       "2021-06-18 01:21:30                          44.080000   \n",
       "2021-06-21 19:43:00                          46.645000   \n",
       "2021-07-01 23:41:10                          49.895000   \n",
       "2021-09-17 14:14:30                          49.760000   \n",
       "\n",
       "                     ТЕМПЕРАТУРА ПОДШИПНИКА НА ОПОРЕ 2  \\\n",
       "DT                                                       \n",
       "2019-01-16 13:21:00                          39.750000   \n",
       "2019-01-16 13:21:10                          39.752083   \n",
       "2019-01-16 13:21:20                          39.752083   \n",
       "2019-01-16 13:21:30                          39.752083   \n",
       "2019-01-16 13:21:40                          39.752083   \n",
       "...                                                ...   \n",
       "2021-04-29 20:17:50                          36.915000   \n",
       "2021-06-18 01:21:30                          47.455000   \n",
       "2021-06-21 19:43:00                          49.085000   \n",
       "2021-07-01 23:41:10                          49.760000   \n",
       "2021-09-17 14:14:30                          44.620000   \n",
       "\n",
       "                     ТЕМПЕРАТУРА ПОДШИПНИКА НА ОПОРЕ 3  \\\n",
       "DT                                                       \n",
       "2019-01-16 13:21:00                          39.750000   \n",
       "2019-01-16 13:21:10                          39.995457   \n",
       "2019-01-16 13:21:20                          39.932360   \n",
       "2019-01-16 13:21:30                          39.833208   \n",
       "2019-01-16 13:21:40                          39.752083   \n",
       "...                                                ...   \n",
       "2021-04-29 20:17:50                          29.615000   \n",
       "2021-06-18 01:21:30                          40.560000   \n",
       "2021-06-21 19:43:00                          45.970000   \n",
       "2021-07-01 23:41:10                          37.680000   \n",
       "2021-09-17 14:14:30                          39.480000   \n",
       "\n",
       "                     ТЕМПЕРАТУРА ПОДШИПНИКА НА ОПОРЕ 4  \\\n",
       "DT                                                       \n",
       "2019-01-16 13:21:00                          44.538548   \n",
       "2019-01-16 13:21:10                          44.863054   \n",
       "2019-01-16 13:21:20                          44.799956   \n",
       "2019-01-16 13:21:30                          44.781928   \n",
       "2019-01-16 13:21:40                          43.810000   \n",
       "...                                                ...   \n",
       "2021-04-29 20:17:50                          32.045000   \n",
       "2021-06-18 01:21:30                          41.780000   \n",
       "2021-06-21 19:43:00                          45.700000   \n",
       "2021-07-01 23:41:10                          41.167500   \n",
       "2021-09-17 14:14:30                          40.290000   \n",
       "\n",
       "                     ТЕМПЕРАТУРА МАСЛА В МАСЛОБЛОКЕ  \\\n",
       "DT                                                    \n",
       "2019-01-16 13:21:00                       40.560000   \n",
       "2019-01-16 13:21:10                       40.401081   \n",
       "2019-01-16 13:21:20                       40.383053   \n",
       "2019-01-16 13:21:30                       40.563330   \n",
       "2019-01-16 13:21:40                       39.750000   \n",
       "...                                             ...   \n",
       "2021-04-29 20:17:50                       32.045000   \n",
       "2021-06-18 01:21:30                       43.000000   \n",
       "2021-06-21 19:43:00                       47.455000   \n",
       "2021-07-01 23:41:10                       39.345000   \n",
       "2021-09-17 14:14:30                       39.345000   \n",
       "\n",
       "                     ТЕМПЕРАТУРА МАСЛА В СИСТЕМЕ  ДАВЛЕНИЕ МАСЛА В СИСТЕМЕ  \n",
       "DT                                                                          \n",
       "2019-01-16 13:21:00                    33.260000                119.385000  \n",
       "2019-01-16 13:21:10                    33.343074                119.444440  \n",
       "2019-01-16 13:21:20                    33.261948                119.330000  \n",
       "2019-01-16 13:21:30                    33.586453                119.398146  \n",
       "2019-01-16 13:21:40                    33.505327                119.326667  \n",
       "...                                          ...                       ...  \n",
       "2021-04-29 20:17:50                    28.800000                143.218000  \n",
       "2021-06-18 01:21:30                    40.290000                119.744000  \n",
       "2021-06-21 19:43:00                    48.270000                113.846667  \n",
       "2021-07-01 23:41:10                    36.186000                152.590000  \n",
       "2021-09-17 14:14:30                    33.260000                164.408333  \n",
       "\n",
       "[4755649 rows x 16 columns]"
      ]
     },
     "execution_count": 3,
     "metadata": {},
     "output_type": "execute_result"
    }
   ],
   "source": [
    "import re\n",
    "\n",
    "def reduced(x):\n",
    "    answer = re.sub(r\"ЭКСГАУСТЕР\\s?\\n?№\\d+.\", \"\", x).strip()\n",
    "    answer = re.sub(r\"ЭКСГАУСТЕР\\s?\\n?\\d+.\", \"\", x).strip()\n",
    "    return answer\n",
    "\n",
    "\n",
    "if \"DT\" in X_train.columns:\n",
    "    X_train = X_train.set_index(\"DT\")\n",
    "for col in X_train.columns:\n",
    "    X_train = X_train.rename(columns={col: reduced(col).strip()})\n",
    "X_train = X_train[[\"ТОК РОТОРА 1\",\"ТОК РОТОРА 2\",\"ТОК СТАТОРА\",\n",
    "                   \"ВИБРАЦИЯ НА ОПОРЕ 1\",\"ВИБРАЦИЯ НА ОПОРЕ 2\",\n",
    "                   \"ВИБРАЦИЯ НА ОПОРЕ 3\",\"ВИБРАЦИЯ НА ОПОРЕ 3. ПРОДОЛЬНАЯ\",\n",
    "                   \"ВИБРАЦИЯ НА ОПОРЕ 4\",\"ВИБРАЦИЯ НА ОПОРЕ 4. ПРОДОЛЬНАЯ\",\n",
    "                   \"ТЕМПЕРАТУРА ПОДШИПНИКА НА ОПОРЕ 1\",\n",
    "                   \"ТЕМПЕРАТУРА ПОДШИПНИКА НА ОПОРЕ 2\",\n",
    "                   \"ТЕМПЕРАТУРА ПОДШИПНИКА НА ОПОРЕ 3\",\n",
    "                   \"ТЕМПЕРАТУРА ПОДШИПНИКА НА ОПОРЕ 4\",\n",
    "                   \"ТЕМПЕРАТУРА МАСЛА В МАСЛОБЛОКЕ\",\n",
    "                   \"ТЕМПЕРАТУРА МАСЛА В СИСТЕМЕ\",\n",
    "                   \"ДАВЛЕНИЕ МАСЛА В СИСТЕМЕ\"]]\n",
    "for i,x in enumerate(X_train.index.values):\n",
    "    X_train.index.values[i] = pd.Timestamp(X_train.index.values[i])\n",
    "X_train"
   ]
  },
  {
   "cell_type": "code",
   "execution_count": 4,
   "id": "d342aa2b",
   "metadata": {
    "execution": {
     "iopub.execute_input": "2023-05-28T20:44:58.537787Z",
     "iopub.status.busy": "2023-05-28T20:44:58.536831Z",
     "iopub.status.idle": "2023-05-28T20:45:47.765117Z",
     "shell.execute_reply": "2023-05-28T20:45:47.762494Z"
    },
    "papermill": {
     "duration": 49.270555,
     "end_time": "2023-05-28T20:45:47.799970",
     "exception": false,
     "start_time": "2023-05-28T20:44:58.529415",
     "status": "completed"
    },
    "tags": []
   },
   "outputs": [
    {
     "data": {
      "text/html": [
       "<div>\n",
       "<style scoped>\n",
       "    .dataframe tbody tr th:only-of-type {\n",
       "        vertical-align: middle;\n",
       "    }\n",
       "\n",
       "    .dataframe tbody tr th {\n",
       "        vertical-align: top;\n",
       "    }\n",
       "\n",
       "    .dataframe thead th {\n",
       "        text-align: right;\n",
       "    }\n",
       "</style>\n",
       "<table border=\"1\" class=\"dataframe\">\n",
       "  <thead>\n",
       "    <tr style=\"text-align: right;\">\n",
       "      <th></th>\n",
       "      <th>Y_ЭКСГАУСТЕР А/М №4_ЭЛЕКТРОДВИГАТЕЛЬ ДСПУ-140-84-4 ЭКСГ. №4</th>\n",
       "      <th>Y_ЭКСГАУСТЕР А/М №4_ПОДШИПНИК ОПОРНЫЙ ЭКСГ. №4</th>\n",
       "      <th>Y_ЭКСГАУСТЕР А/М №4_УЛИТА ЭКСГ. №4</th>\n",
       "      <th>Y_ЭКСГАУСТЕР А/М №4_РЕДУКТОР ГАЗ. ЗАДВИЖКИ ЭКСГ. №4</th>\n",
       "      <th>Y_ЭКСГАУСТЕР А/М №4_МАСЛОНАСОС РАБОЧИЙ ЭКСГ. №4</th>\n",
       "      <th>Y_ЭКСГАУСТЕР А/М №4_ЭЛЕКТРОАППАРАТУРА ЭКСГ. №4</th>\n",
       "      <th>Y_ЭКСГАУСТЕР А/М №4_ПОДШИПНИК ОПОРНЫЙ №2 ЭКСГ. №4</th>\n",
       "      <th>Y_ЭКСГАУСТЕР А/М №4_ЗАДВИЖКА ЭКСГ. №4</th>\n",
       "      <th>Y_ЭКСГАУСТЕР А/М №4_ГСМ ЭКСГ. №4</th>\n",
       "      <th>Y_ЭКСГАУСТЕР А/М №4_ВК 310С ВИБРОПРЕОБРАЗОВАТЕЛЬ ЭКСГ.№4 Т.1</th>\n",
       "      <th>...</th>\n",
       "      <th>Y_ЭКСГАУСТЕР А/М №4_ПОДШИПНИК ОПОРНО-УПОРНЫЙ ЭКСГ. №4</th>\n",
       "      <th>Y_ЭКСГАУСТЕР А/М №4_ЭКСГАУСТЕР А/М №4</th>\n",
       "      <th>Y_ЭКСГАУСТЕР А/М №4_ЗАП. И РЕГ. АРМАТУРА ЭКСГ.№4</th>\n",
       "      <th>Y_ЭКСГАУСТЕР А/М №4_ПОДШИПНИК ОПОРНЫЙ №1 ЭКСГ. №4</th>\n",
       "      <th>Y_ЭКСГАУСТЕР А/М №4_ЭЛ/ДВИГАТЕЛЬ ГАЗ. ЗАДВИЖКИ ЭКСГ. №4</th>\n",
       "      <th>Y_ЭКСГАУСТЕР А/М №4_КЛ1 ТР№4 ДО ЭД ЭКСГАУСТЕРА №4</th>\n",
       "      <th>Y_ЭКСГАУСТЕР А/М №4_КЛ2 ТР№4 ДО ЭД ЭКСГАУСТЕРА №4</th>\n",
       "      <th>Y_ЭКСГАУСТЕР А/М №4_ТР-Р ТМ-4000-10/6 ЭКСГ. №4</th>\n",
       "      <th>Y_ЭКСГАУСТЕР А/М №4_ТИРИСТ. ВОЗБУДИТЕЛЬ ВТ-РЭМ-400 ЭКСГ4 ВУ1</th>\n",
       "      <th>Y_ЭКСГАУСТЕР А/М №4_МАСЛОПРОВОДЫ ЭКСГ №4</th>\n",
       "    </tr>\n",
       "    <tr>\n",
       "      <th>DT</th>\n",
       "      <th></th>\n",
       "      <th></th>\n",
       "      <th></th>\n",
       "      <th></th>\n",
       "      <th></th>\n",
       "      <th></th>\n",
       "      <th></th>\n",
       "      <th></th>\n",
       "      <th></th>\n",
       "      <th></th>\n",
       "      <th></th>\n",
       "      <th></th>\n",
       "      <th></th>\n",
       "      <th></th>\n",
       "      <th></th>\n",
       "      <th></th>\n",
       "      <th></th>\n",
       "      <th></th>\n",
       "      <th></th>\n",
       "      <th></th>\n",
       "      <th></th>\n",
       "    </tr>\n",
       "  </thead>\n",
       "  <tbody>\n",
       "    <tr>\n",
       "      <th>2019-01-16 13:21:00</th>\n",
       "      <td>0.0</td>\n",
       "      <td>0.0</td>\n",
       "      <td>0.0</td>\n",
       "      <td>0.0</td>\n",
       "      <td>0.0</td>\n",
       "      <td>0.0</td>\n",
       "      <td>0.0</td>\n",
       "      <td>0.0</td>\n",
       "      <td>0.0</td>\n",
       "      <td>0.0</td>\n",
       "      <td>...</td>\n",
       "      <td>0.0</td>\n",
       "      <td>0.0</td>\n",
       "      <td>0.0</td>\n",
       "      <td>0.0</td>\n",
       "      <td>0.0</td>\n",
       "      <td>0.0</td>\n",
       "      <td>0.0</td>\n",
       "      <td>0.0</td>\n",
       "      <td>0.0</td>\n",
       "      <td>0.0</td>\n",
       "    </tr>\n",
       "    <tr>\n",
       "      <th>2019-01-16 13:21:10</th>\n",
       "      <td>0.0</td>\n",
       "      <td>0.0</td>\n",
       "      <td>0.0</td>\n",
       "      <td>0.0</td>\n",
       "      <td>0.0</td>\n",
       "      <td>0.0</td>\n",
       "      <td>0.0</td>\n",
       "      <td>0.0</td>\n",
       "      <td>0.0</td>\n",
       "      <td>0.0</td>\n",
       "      <td>...</td>\n",
       "      <td>0.0</td>\n",
       "      <td>0.0</td>\n",
       "      <td>0.0</td>\n",
       "      <td>0.0</td>\n",
       "      <td>0.0</td>\n",
       "      <td>0.0</td>\n",
       "      <td>0.0</td>\n",
       "      <td>0.0</td>\n",
       "      <td>0.0</td>\n",
       "      <td>0.0</td>\n",
       "    </tr>\n",
       "    <tr>\n",
       "      <th>2019-01-16 13:21:20</th>\n",
       "      <td>0.0</td>\n",
       "      <td>0.0</td>\n",
       "      <td>0.0</td>\n",
       "      <td>0.0</td>\n",
       "      <td>0.0</td>\n",
       "      <td>0.0</td>\n",
       "      <td>0.0</td>\n",
       "      <td>0.0</td>\n",
       "      <td>0.0</td>\n",
       "      <td>0.0</td>\n",
       "      <td>...</td>\n",
       "      <td>0.0</td>\n",
       "      <td>0.0</td>\n",
       "      <td>0.0</td>\n",
       "      <td>0.0</td>\n",
       "      <td>0.0</td>\n",
       "      <td>0.0</td>\n",
       "      <td>0.0</td>\n",
       "      <td>0.0</td>\n",
       "      <td>0.0</td>\n",
       "      <td>0.0</td>\n",
       "    </tr>\n",
       "    <tr>\n",
       "      <th>2019-01-16 13:21:30</th>\n",
       "      <td>0.0</td>\n",
       "      <td>0.0</td>\n",
       "      <td>0.0</td>\n",
       "      <td>0.0</td>\n",
       "      <td>0.0</td>\n",
       "      <td>0.0</td>\n",
       "      <td>0.0</td>\n",
       "      <td>0.0</td>\n",
       "      <td>0.0</td>\n",
       "      <td>0.0</td>\n",
       "      <td>...</td>\n",
       "      <td>0.0</td>\n",
       "      <td>0.0</td>\n",
       "      <td>0.0</td>\n",
       "      <td>0.0</td>\n",
       "      <td>0.0</td>\n",
       "      <td>0.0</td>\n",
       "      <td>0.0</td>\n",
       "      <td>0.0</td>\n",
       "      <td>0.0</td>\n",
       "      <td>0.0</td>\n",
       "    </tr>\n",
       "    <tr>\n",
       "      <th>2019-01-16 13:21:40</th>\n",
       "      <td>0.0</td>\n",
       "      <td>0.0</td>\n",
       "      <td>0.0</td>\n",
       "      <td>0.0</td>\n",
       "      <td>0.0</td>\n",
       "      <td>0.0</td>\n",
       "      <td>0.0</td>\n",
       "      <td>0.0</td>\n",
       "      <td>0.0</td>\n",
       "      <td>0.0</td>\n",
       "      <td>...</td>\n",
       "      <td>0.0</td>\n",
       "      <td>0.0</td>\n",
       "      <td>0.0</td>\n",
       "      <td>0.0</td>\n",
       "      <td>0.0</td>\n",
       "      <td>0.0</td>\n",
       "      <td>0.0</td>\n",
       "      <td>0.0</td>\n",
       "      <td>0.0</td>\n",
       "      <td>0.0</td>\n",
       "    </tr>\n",
       "    <tr>\n",
       "      <th>...</th>\n",
       "      <td>...</td>\n",
       "      <td>...</td>\n",
       "      <td>...</td>\n",
       "      <td>...</td>\n",
       "      <td>...</td>\n",
       "      <td>...</td>\n",
       "      <td>...</td>\n",
       "      <td>...</td>\n",
       "      <td>...</td>\n",
       "      <td>...</td>\n",
       "      <td>...</td>\n",
       "      <td>...</td>\n",
       "      <td>...</td>\n",
       "      <td>...</td>\n",
       "      <td>...</td>\n",
       "      <td>...</td>\n",
       "      <td>...</td>\n",
       "      <td>...</td>\n",
       "      <td>...</td>\n",
       "      <td>...</td>\n",
       "      <td>...</td>\n",
       "    </tr>\n",
       "    <tr>\n",
       "      <th>2021-12-31 23:59:10</th>\n",
       "      <td>2.0</td>\n",
       "      <td>2.0</td>\n",
       "      <td>2.0</td>\n",
       "      <td>0.0</td>\n",
       "      <td>0.0</td>\n",
       "      <td>0.0</td>\n",
       "      <td>0.0</td>\n",
       "      <td>2.0</td>\n",
       "      <td>2.0</td>\n",
       "      <td>0.0</td>\n",
       "      <td>...</td>\n",
       "      <td>2.0</td>\n",
       "      <td>0.0</td>\n",
       "      <td>0.0</td>\n",
       "      <td>0.0</td>\n",
       "      <td>0.0</td>\n",
       "      <td>2.0</td>\n",
       "      <td>2.0</td>\n",
       "      <td>2.0</td>\n",
       "      <td>0.0</td>\n",
       "      <td>0.0</td>\n",
       "    </tr>\n",
       "    <tr>\n",
       "      <th>2021-12-31 23:59:20</th>\n",
       "      <td>2.0</td>\n",
       "      <td>2.0</td>\n",
       "      <td>2.0</td>\n",
       "      <td>0.0</td>\n",
       "      <td>0.0</td>\n",
       "      <td>0.0</td>\n",
       "      <td>0.0</td>\n",
       "      <td>2.0</td>\n",
       "      <td>2.0</td>\n",
       "      <td>0.0</td>\n",
       "      <td>...</td>\n",
       "      <td>2.0</td>\n",
       "      <td>0.0</td>\n",
       "      <td>0.0</td>\n",
       "      <td>0.0</td>\n",
       "      <td>0.0</td>\n",
       "      <td>2.0</td>\n",
       "      <td>2.0</td>\n",
       "      <td>2.0</td>\n",
       "      <td>0.0</td>\n",
       "      <td>0.0</td>\n",
       "    </tr>\n",
       "    <tr>\n",
       "      <th>2021-12-31 23:59:30</th>\n",
       "      <td>2.0</td>\n",
       "      <td>2.0</td>\n",
       "      <td>2.0</td>\n",
       "      <td>0.0</td>\n",
       "      <td>0.0</td>\n",
       "      <td>0.0</td>\n",
       "      <td>0.0</td>\n",
       "      <td>2.0</td>\n",
       "      <td>2.0</td>\n",
       "      <td>0.0</td>\n",
       "      <td>...</td>\n",
       "      <td>2.0</td>\n",
       "      <td>0.0</td>\n",
       "      <td>0.0</td>\n",
       "      <td>0.0</td>\n",
       "      <td>0.0</td>\n",
       "      <td>2.0</td>\n",
       "      <td>2.0</td>\n",
       "      <td>2.0</td>\n",
       "      <td>0.0</td>\n",
       "      <td>0.0</td>\n",
       "    </tr>\n",
       "    <tr>\n",
       "      <th>2021-12-31 23:59:40</th>\n",
       "      <td>2.0</td>\n",
       "      <td>2.0</td>\n",
       "      <td>2.0</td>\n",
       "      <td>0.0</td>\n",
       "      <td>0.0</td>\n",
       "      <td>0.0</td>\n",
       "      <td>0.0</td>\n",
       "      <td>2.0</td>\n",
       "      <td>2.0</td>\n",
       "      <td>0.0</td>\n",
       "      <td>...</td>\n",
       "      <td>2.0</td>\n",
       "      <td>0.0</td>\n",
       "      <td>0.0</td>\n",
       "      <td>0.0</td>\n",
       "      <td>0.0</td>\n",
       "      <td>2.0</td>\n",
       "      <td>2.0</td>\n",
       "      <td>2.0</td>\n",
       "      <td>0.0</td>\n",
       "      <td>0.0</td>\n",
       "    </tr>\n",
       "    <tr>\n",
       "      <th>2021-12-31 23:59:50</th>\n",
       "      <td>2.0</td>\n",
       "      <td>2.0</td>\n",
       "      <td>2.0</td>\n",
       "      <td>0.0</td>\n",
       "      <td>0.0</td>\n",
       "      <td>0.0</td>\n",
       "      <td>0.0</td>\n",
       "      <td>2.0</td>\n",
       "      <td>2.0</td>\n",
       "      <td>0.0</td>\n",
       "      <td>...</td>\n",
       "      <td>2.0</td>\n",
       "      <td>0.0</td>\n",
       "      <td>0.0</td>\n",
       "      <td>0.0</td>\n",
       "      <td>0.0</td>\n",
       "      <td>2.0</td>\n",
       "      <td>2.0</td>\n",
       "      <td>2.0</td>\n",
       "      <td>0.0</td>\n",
       "      <td>0.0</td>\n",
       "    </tr>\n",
       "  </tbody>\n",
       "</table>\n",
       "<p>9335034 rows × 23 columns</p>\n",
       "</div>"
      ],
      "text/plain": [
       "                     Y_ЭКСГАУСТЕР А/М №4_ЭЛЕКТРОДВИГАТЕЛЬ ДСПУ-140-84-4 ЭКСГ. №4  \\\n",
       "DT                                                                                 \n",
       "2019-01-16 13:21:00                                                0.0             \n",
       "2019-01-16 13:21:10                                                0.0             \n",
       "2019-01-16 13:21:20                                                0.0             \n",
       "2019-01-16 13:21:30                                                0.0             \n",
       "2019-01-16 13:21:40                                                0.0             \n",
       "...                                                                ...             \n",
       "2021-12-31 23:59:10                                                2.0             \n",
       "2021-12-31 23:59:20                                                2.0             \n",
       "2021-12-31 23:59:30                                                2.0             \n",
       "2021-12-31 23:59:40                                                2.0             \n",
       "2021-12-31 23:59:50                                                2.0             \n",
       "\n",
       "                     Y_ЭКСГАУСТЕР А/М №4_ПОДШИПНИК ОПОРНЫЙ ЭКСГ. №4  \\\n",
       "DT                                                                    \n",
       "2019-01-16 13:21:00                                             0.0   \n",
       "2019-01-16 13:21:10                                             0.0   \n",
       "2019-01-16 13:21:20                                             0.0   \n",
       "2019-01-16 13:21:30                                             0.0   \n",
       "2019-01-16 13:21:40                                             0.0   \n",
       "...                                                             ...   \n",
       "2021-12-31 23:59:10                                             2.0   \n",
       "2021-12-31 23:59:20                                             2.0   \n",
       "2021-12-31 23:59:30                                             2.0   \n",
       "2021-12-31 23:59:40                                             2.0   \n",
       "2021-12-31 23:59:50                                             2.0   \n",
       "\n",
       "                     Y_ЭКСГАУСТЕР А/М №4_УЛИТА ЭКСГ. №4  \\\n",
       "DT                                                        \n",
       "2019-01-16 13:21:00                                 0.0   \n",
       "2019-01-16 13:21:10                                 0.0   \n",
       "2019-01-16 13:21:20                                 0.0   \n",
       "2019-01-16 13:21:30                                 0.0   \n",
       "2019-01-16 13:21:40                                 0.0   \n",
       "...                                                 ...   \n",
       "2021-12-31 23:59:10                                 2.0   \n",
       "2021-12-31 23:59:20                                 2.0   \n",
       "2021-12-31 23:59:30                                 2.0   \n",
       "2021-12-31 23:59:40                                 2.0   \n",
       "2021-12-31 23:59:50                                 2.0   \n",
       "\n",
       "                     Y_ЭКСГАУСТЕР А/М №4_РЕДУКТОР ГАЗ. ЗАДВИЖКИ ЭКСГ. №4  \\\n",
       "DT                                                                         \n",
       "2019-01-16 13:21:00                                                0.0     \n",
       "2019-01-16 13:21:10                                                0.0     \n",
       "2019-01-16 13:21:20                                                0.0     \n",
       "2019-01-16 13:21:30                                                0.0     \n",
       "2019-01-16 13:21:40                                                0.0     \n",
       "...                                                                ...     \n",
       "2021-12-31 23:59:10                                                0.0     \n",
       "2021-12-31 23:59:20                                                0.0     \n",
       "2021-12-31 23:59:30                                                0.0     \n",
       "2021-12-31 23:59:40                                                0.0     \n",
       "2021-12-31 23:59:50                                                0.0     \n",
       "\n",
       "                     Y_ЭКСГАУСТЕР А/М №4_МАСЛОНАСОС РАБОЧИЙ ЭКСГ. №4  \\\n",
       "DT                                                                     \n",
       "2019-01-16 13:21:00                                              0.0   \n",
       "2019-01-16 13:21:10                                              0.0   \n",
       "2019-01-16 13:21:20                                              0.0   \n",
       "2019-01-16 13:21:30                                              0.0   \n",
       "2019-01-16 13:21:40                                              0.0   \n",
       "...                                                              ...   \n",
       "2021-12-31 23:59:10                                              0.0   \n",
       "2021-12-31 23:59:20                                              0.0   \n",
       "2021-12-31 23:59:30                                              0.0   \n",
       "2021-12-31 23:59:40                                              0.0   \n",
       "2021-12-31 23:59:50                                              0.0   \n",
       "\n",
       "                     Y_ЭКСГАУСТЕР А/М №4_ЭЛЕКТРОАППАРАТУРА ЭКСГ. №4  \\\n",
       "DT                                                                    \n",
       "2019-01-16 13:21:00                                             0.0   \n",
       "2019-01-16 13:21:10                                             0.0   \n",
       "2019-01-16 13:21:20                                             0.0   \n",
       "2019-01-16 13:21:30                                             0.0   \n",
       "2019-01-16 13:21:40                                             0.0   \n",
       "...                                                             ...   \n",
       "2021-12-31 23:59:10                                             0.0   \n",
       "2021-12-31 23:59:20                                             0.0   \n",
       "2021-12-31 23:59:30                                             0.0   \n",
       "2021-12-31 23:59:40                                             0.0   \n",
       "2021-12-31 23:59:50                                             0.0   \n",
       "\n",
       "                     Y_ЭКСГАУСТЕР А/М №4_ПОДШИПНИК ОПОРНЫЙ №2 ЭКСГ. №4  \\\n",
       "DT                                                                       \n",
       "2019-01-16 13:21:00                                                0.0   \n",
       "2019-01-16 13:21:10                                                0.0   \n",
       "2019-01-16 13:21:20                                                0.0   \n",
       "2019-01-16 13:21:30                                                0.0   \n",
       "2019-01-16 13:21:40                                                0.0   \n",
       "...                                                                ...   \n",
       "2021-12-31 23:59:10                                                0.0   \n",
       "2021-12-31 23:59:20                                                0.0   \n",
       "2021-12-31 23:59:30                                                0.0   \n",
       "2021-12-31 23:59:40                                                0.0   \n",
       "2021-12-31 23:59:50                                                0.0   \n",
       "\n",
       "                     Y_ЭКСГАУСТЕР А/М №4_ЗАДВИЖКА ЭКСГ. №4  \\\n",
       "DT                                                           \n",
       "2019-01-16 13:21:00                                    0.0   \n",
       "2019-01-16 13:21:10                                    0.0   \n",
       "2019-01-16 13:21:20                                    0.0   \n",
       "2019-01-16 13:21:30                                    0.0   \n",
       "2019-01-16 13:21:40                                    0.0   \n",
       "...                                                    ...   \n",
       "2021-12-31 23:59:10                                    2.0   \n",
       "2021-12-31 23:59:20                                    2.0   \n",
       "2021-12-31 23:59:30                                    2.0   \n",
       "2021-12-31 23:59:40                                    2.0   \n",
       "2021-12-31 23:59:50                                    2.0   \n",
       "\n",
       "                     Y_ЭКСГАУСТЕР А/М №4_ГСМ ЭКСГ. №4  \\\n",
       "DT                                                      \n",
       "2019-01-16 13:21:00                               0.0   \n",
       "2019-01-16 13:21:10                               0.0   \n",
       "2019-01-16 13:21:20                               0.0   \n",
       "2019-01-16 13:21:30                               0.0   \n",
       "2019-01-16 13:21:40                               0.0   \n",
       "...                                               ...   \n",
       "2021-12-31 23:59:10                               2.0   \n",
       "2021-12-31 23:59:20                               2.0   \n",
       "2021-12-31 23:59:30                               2.0   \n",
       "2021-12-31 23:59:40                               2.0   \n",
       "2021-12-31 23:59:50                               2.0   \n",
       "\n",
       "                     Y_ЭКСГАУСТЕР А/М №4_ВК 310С ВИБРОПРЕОБРАЗОВАТЕЛЬ ЭКСГ.№4 Т.1  \\\n",
       "DT                                                                                  \n",
       "2019-01-16 13:21:00                                                0.0              \n",
       "2019-01-16 13:21:10                                                0.0              \n",
       "2019-01-16 13:21:20                                                0.0              \n",
       "2019-01-16 13:21:30                                                0.0              \n",
       "2019-01-16 13:21:40                                                0.0              \n",
       "...                                                                ...              \n",
       "2021-12-31 23:59:10                                                0.0              \n",
       "2021-12-31 23:59:20                                                0.0              \n",
       "2021-12-31 23:59:30                                                0.0              \n",
       "2021-12-31 23:59:40                                                0.0              \n",
       "2021-12-31 23:59:50                                                0.0              \n",
       "\n",
       "                     ...  \\\n",
       "DT                   ...   \n",
       "2019-01-16 13:21:00  ...   \n",
       "2019-01-16 13:21:10  ...   \n",
       "2019-01-16 13:21:20  ...   \n",
       "2019-01-16 13:21:30  ...   \n",
       "2019-01-16 13:21:40  ...   \n",
       "...                  ...   \n",
       "2021-12-31 23:59:10  ...   \n",
       "2021-12-31 23:59:20  ...   \n",
       "2021-12-31 23:59:30  ...   \n",
       "2021-12-31 23:59:40  ...   \n",
       "2021-12-31 23:59:50  ...   \n",
       "\n",
       "                     Y_ЭКСГАУСТЕР А/М №4_ПОДШИПНИК ОПОРНО-УПОРНЫЙ ЭКСГ. №4  \\\n",
       "DT                                                                           \n",
       "2019-01-16 13:21:00                                                0.0       \n",
       "2019-01-16 13:21:10                                                0.0       \n",
       "2019-01-16 13:21:20                                                0.0       \n",
       "2019-01-16 13:21:30                                                0.0       \n",
       "2019-01-16 13:21:40                                                0.0       \n",
       "...                                                                ...       \n",
       "2021-12-31 23:59:10                                                2.0       \n",
       "2021-12-31 23:59:20                                                2.0       \n",
       "2021-12-31 23:59:30                                                2.0       \n",
       "2021-12-31 23:59:40                                                2.0       \n",
       "2021-12-31 23:59:50                                                2.0       \n",
       "\n",
       "                     Y_ЭКСГАУСТЕР А/М №4_ЭКСГАУСТЕР А/М №4  \\\n",
       "DT                                                           \n",
       "2019-01-16 13:21:00                                    0.0   \n",
       "2019-01-16 13:21:10                                    0.0   \n",
       "2019-01-16 13:21:20                                    0.0   \n",
       "2019-01-16 13:21:30                                    0.0   \n",
       "2019-01-16 13:21:40                                    0.0   \n",
       "...                                                    ...   \n",
       "2021-12-31 23:59:10                                    0.0   \n",
       "2021-12-31 23:59:20                                    0.0   \n",
       "2021-12-31 23:59:30                                    0.0   \n",
       "2021-12-31 23:59:40                                    0.0   \n",
       "2021-12-31 23:59:50                                    0.0   \n",
       "\n",
       "                     Y_ЭКСГАУСТЕР А/М №4_ЗАП. И РЕГ. АРМАТУРА ЭКСГ.№4  \\\n",
       "DT                                                                      \n",
       "2019-01-16 13:21:00                                               0.0   \n",
       "2019-01-16 13:21:10                                               0.0   \n",
       "2019-01-16 13:21:20                                               0.0   \n",
       "2019-01-16 13:21:30                                               0.0   \n",
       "2019-01-16 13:21:40                                               0.0   \n",
       "...                                                               ...   \n",
       "2021-12-31 23:59:10                                               0.0   \n",
       "2021-12-31 23:59:20                                               0.0   \n",
       "2021-12-31 23:59:30                                               0.0   \n",
       "2021-12-31 23:59:40                                               0.0   \n",
       "2021-12-31 23:59:50                                               0.0   \n",
       "\n",
       "                     Y_ЭКСГАУСТЕР А/М №4_ПОДШИПНИК ОПОРНЫЙ №1 ЭКСГ. №4  \\\n",
       "DT                                                                       \n",
       "2019-01-16 13:21:00                                                0.0   \n",
       "2019-01-16 13:21:10                                                0.0   \n",
       "2019-01-16 13:21:20                                                0.0   \n",
       "2019-01-16 13:21:30                                                0.0   \n",
       "2019-01-16 13:21:40                                                0.0   \n",
       "...                                                                ...   \n",
       "2021-12-31 23:59:10                                                0.0   \n",
       "2021-12-31 23:59:20                                                0.0   \n",
       "2021-12-31 23:59:30                                                0.0   \n",
       "2021-12-31 23:59:40                                                0.0   \n",
       "2021-12-31 23:59:50                                                0.0   \n",
       "\n",
       "                     Y_ЭКСГАУСТЕР А/М №4_ЭЛ/ДВИГАТЕЛЬ ГАЗ. ЗАДВИЖКИ ЭКСГ. №4  \\\n",
       "DT                                                                             \n",
       "2019-01-16 13:21:00                                                0.0         \n",
       "2019-01-16 13:21:10                                                0.0         \n",
       "2019-01-16 13:21:20                                                0.0         \n",
       "2019-01-16 13:21:30                                                0.0         \n",
       "2019-01-16 13:21:40                                                0.0         \n",
       "...                                                                ...         \n",
       "2021-12-31 23:59:10                                                0.0         \n",
       "2021-12-31 23:59:20                                                0.0         \n",
       "2021-12-31 23:59:30                                                0.0         \n",
       "2021-12-31 23:59:40                                                0.0         \n",
       "2021-12-31 23:59:50                                                0.0         \n",
       "\n",
       "                     Y_ЭКСГАУСТЕР А/М №4_КЛ1 ТР№4 ДО ЭД ЭКСГАУСТЕРА №4  \\\n",
       "DT                                                                       \n",
       "2019-01-16 13:21:00                                                0.0   \n",
       "2019-01-16 13:21:10                                                0.0   \n",
       "2019-01-16 13:21:20                                                0.0   \n",
       "2019-01-16 13:21:30                                                0.0   \n",
       "2019-01-16 13:21:40                                                0.0   \n",
       "...                                                                ...   \n",
       "2021-12-31 23:59:10                                                2.0   \n",
       "2021-12-31 23:59:20                                                2.0   \n",
       "2021-12-31 23:59:30                                                2.0   \n",
       "2021-12-31 23:59:40                                                2.0   \n",
       "2021-12-31 23:59:50                                                2.0   \n",
       "\n",
       "                     Y_ЭКСГАУСТЕР А/М №4_КЛ2 ТР№4 ДО ЭД ЭКСГАУСТЕРА №4  \\\n",
       "DT                                                                       \n",
       "2019-01-16 13:21:00                                                0.0   \n",
       "2019-01-16 13:21:10                                                0.0   \n",
       "2019-01-16 13:21:20                                                0.0   \n",
       "2019-01-16 13:21:30                                                0.0   \n",
       "2019-01-16 13:21:40                                                0.0   \n",
       "...                                                                ...   \n",
       "2021-12-31 23:59:10                                                2.0   \n",
       "2021-12-31 23:59:20                                                2.0   \n",
       "2021-12-31 23:59:30                                                2.0   \n",
       "2021-12-31 23:59:40                                                2.0   \n",
       "2021-12-31 23:59:50                                                2.0   \n",
       "\n",
       "                     Y_ЭКСГАУСТЕР А/М №4_ТР-Р ТМ-4000-10/6 ЭКСГ. №4  \\\n",
       "DT                                                                    \n",
       "2019-01-16 13:21:00                                             0.0   \n",
       "2019-01-16 13:21:10                                             0.0   \n",
       "2019-01-16 13:21:20                                             0.0   \n",
       "2019-01-16 13:21:30                                             0.0   \n",
       "2019-01-16 13:21:40                                             0.0   \n",
       "...                                                             ...   \n",
       "2021-12-31 23:59:10                                             2.0   \n",
       "2021-12-31 23:59:20                                             2.0   \n",
       "2021-12-31 23:59:30                                             2.0   \n",
       "2021-12-31 23:59:40                                             2.0   \n",
       "2021-12-31 23:59:50                                             2.0   \n",
       "\n",
       "                     Y_ЭКСГАУСТЕР А/М №4_ТИРИСТ. ВОЗБУДИТЕЛЬ ВТ-РЭМ-400 ЭКСГ4 ВУ1  \\\n",
       "DT                                                                                  \n",
       "2019-01-16 13:21:00                                                0.0              \n",
       "2019-01-16 13:21:10                                                0.0              \n",
       "2019-01-16 13:21:20                                                0.0              \n",
       "2019-01-16 13:21:30                                                0.0              \n",
       "2019-01-16 13:21:40                                                0.0              \n",
       "...                                                                ...              \n",
       "2021-12-31 23:59:10                                                0.0              \n",
       "2021-12-31 23:59:20                                                0.0              \n",
       "2021-12-31 23:59:30                                                0.0              \n",
       "2021-12-31 23:59:40                                                0.0              \n",
       "2021-12-31 23:59:50                                                0.0              \n",
       "\n",
       "                     Y_ЭКСГАУСТЕР А/М №4_МАСЛОПРОВОДЫ ЭКСГ №4  \n",
       "DT                                                             \n",
       "2019-01-16 13:21:00                                       0.0  \n",
       "2019-01-16 13:21:10                                       0.0  \n",
       "2019-01-16 13:21:20                                       0.0  \n",
       "2019-01-16 13:21:30                                       0.0  \n",
       "2019-01-16 13:21:40                                       0.0  \n",
       "...                                                       ...  \n",
       "2021-12-31 23:59:10                                       0.0  \n",
       "2021-12-31 23:59:20                                       0.0  \n",
       "2021-12-31 23:59:30                                       0.0  \n",
       "2021-12-31 23:59:40                                       0.0  \n",
       "2021-12-31 23:59:50                                       0.0  \n",
       "\n",
       "[9335034 rows x 23 columns]"
      ]
     },
     "execution_count": 4,
     "metadata": {},
     "output_type": "execute_result"
    }
   ],
   "source": [
    "y_train = pd.read_csv(\"/kaggle/input/y-train-northsteel-instances/y_ЭКСГАУСТЕР АМ 4.csv\", parse_dates=True)\n",
    "y_train = y_train.set_index(\"DT\")\n",
    "y_train"
   ]
  },
  {
   "cell_type": "code",
   "execution_count": 5,
   "id": "3dfadf46",
   "metadata": {
    "execution": {
     "iopub.execute_input": "2023-05-28T20:45:47.820050Z",
     "iopub.status.busy": "2023-05-28T20:45:47.818884Z",
     "iopub.status.idle": "2023-05-28T20:45:54.859507Z",
     "shell.execute_reply": "2023-05-28T20:45:54.858034Z"
    },
    "papermill": {
     "duration": 7.054655,
     "end_time": "2023-05-28T20:45:54.862859",
     "exception": false,
     "start_time": "2023-05-28T20:45:47.808204",
     "status": "completed"
    },
    "tags": []
   },
   "outputs": [
    {
     "name": "stdout",
     "output_type": "stream",
     "text": [
      "Y_ЭКСГАУСТЕР А/М №4_ЭЛЕКТРОДВИГАТЕЛЬ ДСПУ-140-84-4 ЭКСГ. №4 M1 [0 1]\n",
      "Y_ЭКСГАУСТЕР А/М №4_ЭЛЕКТРОДВИГАТЕЛЬ ДСПУ-140-84-4 ЭКСГ. №4 M3 [0 1]\n",
      "Y_ЭКСГАУСТЕР А/М №4_ПОДШИПНИК ОПОРНЫЙ ЭКСГ. №4 M1 [0]\n",
      "Y_ЭКСГАУСТЕР А/М №4_ПОДШИПНИК ОПОРНЫЙ ЭКСГ. №4 M3 [0 1]\n",
      "Y_ЭКСГАУСТЕР А/М №4_УЛИТА ЭКСГ. №4 M1 [0]\n",
      "Y_ЭКСГАУСТЕР А/М №4_УЛИТА ЭКСГ. №4 M3 [0 1]\n",
      "Y_ЭКСГАУСТЕР А/М №4_РЕДУКТОР ГАЗ. ЗАДВИЖКИ ЭКСГ. №4 M1 [0 1]\n",
      "Y_ЭКСГАУСТЕР А/М №4_РЕДУКТОР ГАЗ. ЗАДВИЖКИ ЭКСГ. №4 M3 [0 1]\n",
      "Y_ЭКСГАУСТЕР А/М №4_МАСЛОНАСОС РАБОЧИЙ ЭКСГ. №4 M1 [0]\n",
      "Y_ЭКСГАУСТЕР А/М №4_МАСЛОНАСОС РАБОЧИЙ ЭКСГ. №4 M3 [0 1]\n",
      "Y_ЭКСГАУСТЕР А/М №4_ЭЛЕКТРОАППАРАТУРА ЭКСГ. №4 M1 [0 1]\n",
      "Y_ЭКСГАУСТЕР А/М №4_ЭЛЕКТРОАППАРАТУРА ЭКСГ. №4 M3 [0 1]\n",
      "Y_ЭКСГАУСТЕР А/М №4_ПОДШИПНИК ОПОРНЫЙ №2 ЭКСГ. №4 M1 [0 1]\n",
      "Y_ЭКСГАУСТЕР А/М №4_ПОДШИПНИК ОПОРНЫЙ №2 ЭКСГ. №4 M3 [0 1]\n",
      "Y_ЭКСГАУСТЕР А/М №4_ЗАДВИЖКА ЭКСГ. №4 M1 [0 1]\n",
      "Y_ЭКСГАУСТЕР А/М №4_ЗАДВИЖКА ЭКСГ. №4 M3 [0 1]\n",
      "Y_ЭКСГАУСТЕР А/М №4_ГСМ ЭКСГ. №4 M1 [0]\n",
      "Y_ЭКСГАУСТЕР А/М №4_ГСМ ЭКСГ. №4 M3 [0 1]\n",
      "Y_ЭКСГАУСТЕР А/М №4_ВК 310С ВИБРОПРЕОБРАЗОВАТЕЛЬ ЭКСГ.№4 Т.1 M1 [0]\n",
      "Y_ЭКСГАУСТЕР А/М №4_ВК 310С ВИБРОПРЕОБРАЗОВАТЕЛЬ ЭКСГ.№4 Т.1 M3 [0 1]\n",
      "Y_ЭКСГАУСТЕР А/М №4_ТСМТ-101-010-50М-400 ТЕРМОПР.ПОДШ.Т.1 M1 [0]\n",
      "Y_ЭКСГАУСТЕР А/М №4_ТСМТ-101-010-50М-400 ТЕРМОПР.ПОДШ.Т.1 M3 [0 1]\n",
      "Y_ЭКСГАУСТЕР А/М №4_РОТОР ЭКСГ. №4 M1 [0 1]\n",
      "Y_ЭКСГАУСТЕР А/М №4_РОТОР ЭКСГ. №4 M3 [0 1]\n",
      "Y_ЭКСГАУСТЕР А/М №4_МАСЛООХЛАДИТЕЛЬ  М-05-1 ЭКСГ. №4 M1 [0]\n",
      "Y_ЭКСГАУСТЕР А/М №4_МАСЛООХЛАДИТЕЛЬ  М-05-1 ЭКСГ. №4 M3 [0 1]\n",
      "Y_ЭКСГАУСТЕР А/М №4_ПОДШИПНИК ОПОРНО-УПОРНЫЙ ЭКСГ. №4 M1 [0 1]\n",
      "Y_ЭКСГАУСТЕР А/М №4_ПОДШИПНИК ОПОРНО-УПОРНЫЙ ЭКСГ. №4 M3 [0 1]\n",
      "Y_ЭКСГАУСТЕР А/М №4_ЭКСГАУСТЕР А/М №4 M1 [0 1]\n",
      "Y_ЭКСГАУСТЕР А/М №4_ЭКСГАУСТЕР А/М №4 M3 [0]\n",
      "Y_ЭКСГАУСТЕР А/М №4_ЗАП. И РЕГ. АРМАТУРА ЭКСГ.№4 M1 [0]\n",
      "Y_ЭКСГАУСТЕР А/М №4_ЗАП. И РЕГ. АРМАТУРА ЭКСГ.№4 M3 [0 1]\n",
      "Y_ЭКСГАУСТЕР А/М №4_ПОДШИПНИК ОПОРНЫЙ №1 ЭКСГ. №4 M1 [0]\n",
      "Y_ЭКСГАУСТЕР А/М №4_ПОДШИПНИК ОПОРНЫЙ №1 ЭКСГ. №4 M3 [0 1]\n",
      "Y_ЭКСГАУСТЕР А/М №4_ЭЛ/ДВИГАТЕЛЬ ГАЗ. ЗАДВИЖКИ ЭКСГ. №4 M1 [0]\n",
      "Y_ЭКСГАУСТЕР А/М №4_ЭЛ/ДВИГАТЕЛЬ ГАЗ. ЗАДВИЖКИ ЭКСГ. №4 M3 [0 1]\n",
      "Y_ЭКСГАУСТЕР А/М №4_КЛ1 ТР№4 ДО ЭД ЭКСГАУСТЕРА №4 M1 [0]\n",
      "Y_ЭКСГАУСТЕР А/М №4_КЛ1 ТР№4 ДО ЭД ЭКСГАУСТЕРА №4 M3 [0 1]\n",
      "Y_ЭКСГАУСТЕР А/М №4_КЛ2 ТР№4 ДО ЭД ЭКСГАУСТЕРА №4 M1 [0]\n",
      "Y_ЭКСГАУСТЕР А/М №4_КЛ2 ТР№4 ДО ЭД ЭКСГАУСТЕРА №4 M3 [0 1]\n",
      "Y_ЭКСГАУСТЕР А/М №4_ТР-Р ТМ-4000-10/6 ЭКСГ. №4 M1 [0]\n",
      "Y_ЭКСГАУСТЕР А/М №4_ТР-Р ТМ-4000-10/6 ЭКСГ. №4 M3 [0 1]\n",
      "Y_ЭКСГАУСТЕР А/М №4_ТИРИСТ. ВОЗБУДИТЕЛЬ ВТ-РЭМ-400 ЭКСГ4 ВУ1 M1 [0]\n",
      "Y_ЭКСГАУСТЕР А/М №4_ТИРИСТ. ВОЗБУДИТЕЛЬ ВТ-РЭМ-400 ЭКСГ4 ВУ1 M3 [0 1]\n",
      "Y_ЭКСГАУСТЕР А/М №4_МАСЛОПРОВОДЫ ЭКСГ №4 M1 [0]\n",
      "Y_ЭКСГАУСТЕР А/М №4_МАСЛОПРОВОДЫ ЭКСГ №4 M3 [0]\n"
     ]
    }
   ],
   "source": [
    "for col in y_train.columns:\n",
    "    if not ((col[-2:] == \"M1\") or (col[-2:] ==\"M3\")):\n",
    "        y_train[col+\" M1\"] = 1*(y_train[col]==1)\n",
    "        y_train[col+\" M3\"] = 1*(y_train[col]==2)\n",
    "        del y_train[col]\n",
    "for col in y_train.columns:\n",
    "    print(col, y_train[col].unique())"
   ]
  },
  {
   "cell_type": "code",
   "execution_count": 6,
   "id": "742ea7db",
   "metadata": {
    "execution": {
     "iopub.execute_input": "2023-05-28T20:45:54.885496Z",
     "iopub.status.busy": "2023-05-28T20:45:54.885082Z",
     "iopub.status.idle": "2023-05-28T20:47:08.467526Z",
     "shell.execute_reply": "2023-05-28T20:47:08.466201Z"
    },
    "papermill": {
     "duration": 73.605186,
     "end_time": "2023-05-28T20:47:08.478823",
     "exception": false,
     "start_time": "2023-05-28T20:45:54.873637",
     "status": "completed"
    },
    "tags": []
   },
   "outputs": [
    {
     "data": {
      "text/plain": [
       "array([Timestamp('2019-01-16 13:21:00'), Timestamp('2019-01-16 13:21:10'),\n",
       "       Timestamp('2019-01-16 13:21:20'), ...,\n",
       "       Timestamp('2021-12-31 23:59:30'), Timestamp('2021-12-31 23:59:40'),\n",
       "       Timestamp('2021-12-31 23:59:50')], dtype=object)"
      ]
     },
     "execution_count": 6,
     "metadata": {},
     "output_type": "execute_result"
    }
   ],
   "source": [
    "for i,x in enumerate(y_train.index.values):\n",
    "    y_train.index.values[i] = pd.Timestamp(y_train.index.values[i])\n",
    "y_train.index.values"
   ]
  },
  {
   "cell_type": "code",
   "execution_count": 7,
   "id": "872b7b41",
   "metadata": {
    "execution": {
     "iopub.execute_input": "2023-05-28T20:47:08.498171Z",
     "iopub.status.busy": "2023-05-28T20:47:08.497759Z",
     "iopub.status.idle": "2023-05-28T20:48:26.436941Z",
     "shell.execute_reply": "2023-05-28T20:48:26.435838Z"
    },
    "papermill": {
     "duration": 77.952712,
     "end_time": "2023-05-28T20:48:26.439977",
     "exception": false,
     "start_time": "2023-05-28T20:47:08.487265",
     "status": "completed"
    },
    "tags": []
   },
   "outputs": [],
   "source": [
    "shifted = y_train.index.values+pd.Timedelta(minutes = 75)"
   ]
  },
  {
   "cell_type": "code",
   "execution_count": 8,
   "id": "ed84cfbc",
   "metadata": {
    "execution": {
     "iopub.execute_input": "2023-05-28T20:48:26.459548Z",
     "iopub.status.busy": "2023-05-28T20:48:26.459152Z",
     "iopub.status.idle": "2023-05-28T20:51:47.879858Z",
     "shell.execute_reply": "2023-05-28T20:51:47.878504Z"
    },
    "papermill": {
     "duration": 201.43417,
     "end_time": "2023-05-28T20:51:47.883025",
     "exception": false,
     "start_time": "2023-05-28T20:48:26.448855",
     "status": "completed"
    },
    "tags": []
   },
   "outputs": [],
   "source": [
    "\n",
    "index = sorted(set(shifted).intersection(X_train.index.values))\n",
    "y_train = y_train.loc[index]\n",
    "y_train = y_train.dropna()\n",
    "index = y_train.index.values\n",
    "X_train = X_train.loc[index]"
   ]
  },
  {
   "cell_type": "code",
   "execution_count": 9,
   "id": "cd3944eb",
   "metadata": {
    "execution": {
     "iopub.execute_input": "2023-05-28T20:51:47.903554Z",
     "iopub.status.busy": "2023-05-28T20:51:47.902521Z",
     "iopub.status.idle": "2023-05-28T20:51:47.910282Z",
     "shell.execute_reply": "2023-05-28T20:51:47.908907Z"
    },
    "papermill": {
     "duration": 0.020623,
     "end_time": "2023-05-28T20:51:47.912822",
     "exception": false,
     "start_time": "2023-05-28T20:51:47.892199",
     "status": "completed"
    },
    "tags": []
   },
   "outputs": [
    {
     "data": {
      "text/plain": [
       "array([Timestamp('2019-01-16 14:36:00'), Timestamp('2019-01-16 14:36:10'),\n",
       "       Timestamp('2019-01-16 14:36:20'), ...,\n",
       "       Timestamp('2022-01-01 01:14:30'), Timestamp('2022-01-01 01:14:40'),\n",
       "       Timestamp('2022-01-01 01:14:50')], dtype=object)"
      ]
     },
     "execution_count": 9,
     "metadata": {},
     "output_type": "execute_result"
    }
   ],
   "source": [
    "shifted"
   ]
  },
  {
   "cell_type": "code",
   "execution_count": 10,
   "id": "dee31ef6",
   "metadata": {
    "execution": {
     "iopub.execute_input": "2023-05-28T20:51:47.931871Z",
     "iopub.status.busy": "2023-05-28T20:51:47.931445Z",
     "iopub.status.idle": "2023-05-28T20:51:47.938942Z",
     "shell.execute_reply": "2023-05-28T20:51:47.937481Z"
    },
    "papermill": {
     "duration": 0.020114,
     "end_time": "2023-05-28T20:51:47.941529",
     "exception": false,
     "start_time": "2023-05-28T20:51:47.921415",
     "status": "completed"
    },
    "tags": []
   },
   "outputs": [
    {
     "data": {
      "text/plain": [
       "array([Timestamp('2019-01-16 14:36:00'), Timestamp('2019-01-16 14:36:10'),\n",
       "       Timestamp('2019-01-16 14:36:20'), ...,\n",
       "       Timestamp('2021-06-21 19:43:00'), Timestamp('2021-07-01 23:41:10'),\n",
       "       Timestamp('2021-09-17 14:14:30')], dtype=object)"
      ]
     },
     "execution_count": 10,
     "metadata": {},
     "output_type": "execute_result"
    }
   ],
   "source": [
    "X_train.index.values"
   ]
  },
  {
   "cell_type": "code",
   "execution_count": 11,
   "id": "eda07295",
   "metadata": {
    "execution": {
     "iopub.execute_input": "2023-05-28T20:51:47.961436Z",
     "iopub.status.busy": "2023-05-28T20:51:47.960957Z",
     "iopub.status.idle": "2023-05-28T20:51:47.966078Z",
     "shell.execute_reply": "2023-05-28T20:51:47.964979Z"
    },
    "papermill": {
     "duration": 0.018231,
     "end_time": "2023-05-28T20:51:47.968553",
     "exception": false,
     "start_time": "2023-05-28T20:51:47.950322",
     "status": "completed"
    },
    "tags": []
   },
   "outputs": [],
   "source": [
    "def featurize(df):\n",
    "    return df"
   ]
  },
  {
   "cell_type": "code",
   "execution_count": 12,
   "id": "5d779fe7",
   "metadata": {
    "execution": {
     "iopub.execute_input": "2023-05-28T20:51:47.988446Z",
     "iopub.status.busy": "2023-05-28T20:51:47.987753Z",
     "iopub.status.idle": "2023-05-28T21:31:29.518670Z",
     "shell.execute_reply": "2023-05-28T21:31:29.517347Z"
    },
    "papermill": {
     "duration": 2381.54516,
     "end_time": "2023-05-28T21:31:29.522470",
     "exception": false,
     "start_time": "2023-05-28T20:51:47.977310",
     "status": "completed"
    },
    "tags": []
   },
   "outputs": [
    {
     "data": {
      "application/vnd.jupyter.widget-view+json": {
       "model_id": "05df7d69c6974de394206c522c912dc7",
       "version_major": 2,
       "version_minor": 0
      },
      "text/plain": [
       "MetricVisualizer(layout=Layout(align_self='stretch', height='500px'))"
      ]
     },
     "metadata": {},
     "output_type": "display_data"
    },
    {
     "name": "stdout",
     "output_type": "stream",
     "text": [
      "0:\tlearn: 0.6613893\ttest: 0.6636716\tbest: 0.6636716 (0)\ttotal: 706ms\tremaining: 1m 9s\n",
      "50:\tlearn: 0.1134445\ttest: 0.1148827\tbest: 0.1148827 (50)\ttotal: 21.5s\tremaining: 20.6s\n",
      "99:\tlearn: 0.0249776\ttest: 0.0255490\tbest: 0.0255490 (99)\ttotal: 42.3s\tremaining: 0us\n",
      "\n",
      "bestTest = 0.02554904709\n",
      "bestIteration = 99\n",
      "\n",
      "                                           0\n",
      "ТОК РОТОРА 1                        1.848416\n",
      "ТОК РОТОРА 2                        2.782550\n",
      "ТОК СТАТОРА                         0.688749\n",
      "ВИБРАЦИЯ НА ОПОРЕ 1                 3.434144\n",
      "ВИБРАЦИЯ НА ОПОРЕ 2                 4.374304\n",
      "ВИБРАЦИЯ НА ОПОРЕ 3                 3.070250\n",
      "ВИБРАЦИЯ НА ОПОРЕ 3. ПРОДОЛЬНАЯ     3.264371\n",
      "ВИБРАЦИЯ НА ОПОРЕ 4                 3.240968\n",
      "ВИБРАЦИЯ НА ОПОРЕ 4. ПРОДОЛЬНАЯ     5.445254\n",
      "ТЕМПЕРАТУРА ПОДШИПНИКА НА ОПОРЕ 1   4.152636\n",
      "ТЕМПЕРАТУРА ПОДШИПНИКА НА ОПОРЕ 2  18.577741\n",
      "ТЕМПЕРАТУРА ПОДШИПНИКА НА ОПОРЕ 3  35.368642\n",
      "ТЕМПЕРАТУРА ПОДШИПНИКА НА ОПОРЕ 4   2.561989\n",
      "ТЕМПЕРАТУРА МАСЛА В МАСЛОБЛОКЕ      3.867628\n",
      "ТЕМПЕРАТУРА МАСЛА В СИСТЕМЕ         3.073943\n",
      "ДАВЛЕНИЕ МАСЛА В СИСТЕМЕ            4.248416\n",
      "Y_ЭКСГАУСТЕР А/М №4_ЭЛЕКТРОДВИГАТЕЛЬ ДСПУ-140-84-4 ЭКСГ. №4 M1 None 0 0 0\n"
     ]
    },
    {
     "data": {
      "application/vnd.jupyter.widget-view+json": {
       "model_id": "ed105ea98178453598220fd05a381f47",
       "version_major": 2,
       "version_minor": 0
      },
      "text/plain": [
       "MetricVisualizer(layout=Layout(align_self='stretch', height='500px'))"
      ]
     },
     "metadata": {},
     "output_type": "display_data"
    },
    {
     "name": "stdout",
     "output_type": "stream",
     "text": [
      "0:\tlearn: 0.6717626\ttest: 0.6725765\tbest: 0.6725765 (0)\ttotal: 499ms\tremaining: 49.4s\n",
      "50:\tlearn: 0.2506533\ttest: 0.2597448\tbest: 0.2597448 (50)\ttotal: 22s\tremaining: 21.1s\n",
      "99:\tlearn: 0.1427723\ttest: 0.1477214\tbest: 0.1477214 (99)\ttotal: 43.7s\tremaining: 0us\n",
      "\n",
      "bestTest = 0.1477214298\n",
      "bestIteration = 99\n",
      "\n",
      "                                           0\n",
      "ТОК РОТОРА 1                       11.488370\n",
      "ТОК РОТОРА 2                        8.420155\n",
      "ТОК СТАТОРА                         1.571729\n",
      "ВИБРАЦИЯ НА ОПОРЕ 1                 0.653459\n",
      "ВИБРАЦИЯ НА ОПОРЕ 2                 1.387766\n",
      "ВИБРАЦИЯ НА ОПОРЕ 3                 1.981624\n",
      "ВИБРАЦИЯ НА ОПОРЕ 3. ПРОДОЛЬНАЯ     9.535803\n",
      "ВИБРАЦИЯ НА ОПОРЕ 4                 6.737047\n",
      "ВИБРАЦИЯ НА ОПОРЕ 4. ПРОДОЛЬНАЯ     6.272289\n",
      "ТЕМПЕРАТУРА ПОДШИПНИКА НА ОПОРЕ 1   2.324527\n",
      "ТЕМПЕРАТУРА ПОДШИПНИКА НА ОПОРЕ 2  13.647636\n",
      "ТЕМПЕРАТУРА ПОДШИПНИКА НА ОПОРЕ 3   1.703489\n",
      "ТЕМПЕРАТУРА ПОДШИПНИКА НА ОПОРЕ 4   0.530272\n",
      "ТЕМПЕРАТУРА МАСЛА В МАСЛОБЛОКЕ      0.000000\n",
      "ТЕМПЕРАТУРА МАСЛА В СИСТЕМЕ        25.284208\n",
      "ДАВЛЕНИЕ МАСЛА В СИСТЕМЕ            8.461627\n",
      "Y_ЭКСГАУСТЕР А/М №4_ЭЛЕКТРОДВИГАТЕЛЬ ДСПУ-140-84-4 ЭКСГ. №4 M3 0.9610472541507025 4515 52 131\n"
     ]
    },
    {
     "data": {
      "application/vnd.jupyter.widget-view+json": {
       "model_id": "98e4100bf07848d597a1073c6cb56db8",
       "version_major": 2,
       "version_minor": 0
      },
      "text/plain": [
       "MetricVisualizer(layout=Layout(align_self='stretch', height='500px'))"
      ]
     },
     "metadata": {},
     "output_type": "display_data"
    },
    {
     "name": "stdout",
     "output_type": "stream",
     "text": [
      "0:\tlearn: 0.6748697\ttest: 0.6742621\tbest: 0.6742621 (0)\ttotal: 478ms\tremaining: 47.3s\n",
      "50:\tlearn: 0.2748185\ttest: 0.2688535\tbest: 0.2688535 (50)\ttotal: 23.6s\tremaining: 22.7s\n",
      "99:\tlearn: 0.1630206\ttest: 0.1561734\tbest: 0.1561734 (99)\ttotal: 47.2s\tremaining: 0us\n",
      "\n",
      "bestTest = 0.156173417\n",
      "bestIteration = 99\n",
      "\n",
      "                                           0\n",
      "ТОК РОТОРА 1                        6.979277\n",
      "ТОК РОТОРА 2                        8.675766\n",
      "ТОК СТАТОРА                         2.055719\n",
      "ВИБРАЦИЯ НА ОПОРЕ 1                 0.386400\n",
      "ВИБРАЦИЯ НА ОПОРЕ 2                 1.809039\n",
      "ВИБРАЦИЯ НА ОПОРЕ 3                 0.522311\n",
      "ВИБРАЦИЯ НА ОПОРЕ 3. ПРОДОЛЬНАЯ     4.648495\n",
      "ВИБРАЦИЯ НА ОПОРЕ 4                 6.953995\n",
      "ВИБРАЦИЯ НА ОПОРЕ 4. ПРОДОЛЬНАЯ    15.044211\n",
      "ТЕМПЕРАТУРА ПОДШИПНИКА НА ОПОРЕ 1   4.413194\n",
      "ТЕМПЕРАТУРА ПОДШИПНИКА НА ОПОРЕ 2  14.969652\n",
      "ТЕМПЕРАТУРА ПОДШИПНИКА НА ОПОРЕ 3   4.288284\n",
      "ТЕМПЕРАТУРА ПОДШИПНИКА НА ОПОРЕ 4   0.000000\n",
      "ТЕМПЕРАТУРА МАСЛА В МАСЛОБЛОКЕ      0.000000\n",
      "ТЕМПЕРАТУРА МАСЛА В СИСТЕМЕ        20.278402\n",
      "ДАВЛЕНИЕ МАСЛА В СИСТЕМЕ            8.975254\n",
      "Y_ЭКСГАУСТЕР А/М №4_ПОДШИПНИК ОПОРНЫЙ ЭКСГ. №4 M3 0.9521584750513923 5095 162 94\n"
     ]
    },
    {
     "data": {
      "application/vnd.jupyter.widget-view+json": {
       "model_id": "5d73fb965fa64b55b6d80aefb1f9007d",
       "version_major": 2,
       "version_minor": 0
      },
      "text/plain": [
       "MetricVisualizer(layout=Layout(align_self='stretch', height='500px'))"
      ]
     },
     "metadata": {},
     "output_type": "display_data"
    },
    {
     "name": "stdout",
     "output_type": "stream",
     "text": [
      "0:\tlearn: 0.6662406\ttest: 0.6678854\tbest: 0.6678854 (0)\ttotal: 508ms\tremaining: 50.3s\n",
      "50:\tlearn: 0.1730489\ttest: 0.1753463\tbest: 0.1753463 (50)\ttotal: 24.9s\tremaining: 24s\n",
      "99:\tlearn: 0.0799290\ttest: 0.0790588\tbest: 0.0790588 (99)\ttotal: 47.5s\tremaining: 0us\n",
      "\n",
      "bestTest = 0.07905880877\n",
      "bestIteration = 99\n",
      "\n",
      "                                           0\n",
      "ТОК РОТОРА 1                        1.726259\n",
      "ТОК РОТОРА 2                        1.259434\n",
      "ТОК СТАТОРА                         0.713177\n",
      "ВИБРАЦИЯ НА ОПОРЕ 1                18.606983\n",
      "ВИБРАЦИЯ НА ОПОРЕ 2                 0.869858\n",
      "ВИБРАЦИЯ НА ОПОРЕ 3                 2.313227\n",
      "ВИБРАЦИЯ НА ОПОРЕ 3. ПРОДОЛЬНАЯ    11.172926\n",
      "ВИБРАЦИЯ НА ОПОРЕ 4                 5.887780\n",
      "ВИБРАЦИЯ НА ОПОРЕ 4. ПРОДОЛЬНАЯ    30.630785\n",
      "ТЕМПЕРАТУРА ПОДШИПНИКА НА ОПОРЕ 1   2.128487\n",
      "ТЕМПЕРАТУРА ПОДШИПНИКА НА ОПОРЕ 2   1.304873\n",
      "ТЕМПЕРАТУРА ПОДШИПНИКА НА ОПОРЕ 3   0.151041\n",
      "ТЕМПЕРАТУРА ПОДШИПНИКА НА ОПОРЕ 4   4.479412\n",
      "ТЕМПЕРАТУРА МАСЛА В МАСЛОБЛОКЕ      0.719917\n",
      "ТЕМПЕРАТУРА МАСЛА В СИСТЕМЕ         2.250935\n",
      "ДАВЛЕНИЕ МАСЛА В СИСТЕМЕ           15.784905\n",
      "Y_ЭКСГАУСТЕР А/М №4_УЛИТА ЭКСГ. №4 M3 0.9807866184448463 8678 126 44\n"
     ]
    },
    {
     "data": {
      "application/vnd.jupyter.widget-view+json": {
       "model_id": "2bd1f15bd23549e19493e5500456b2f2",
       "version_major": 2,
       "version_minor": 0
      },
      "text/plain": [
       "MetricVisualizer(layout=Layout(align_self='stretch', height='500px'))"
      ]
     },
     "metadata": {},
     "output_type": "display_data"
    },
    {
     "name": "stdout",
     "output_type": "stream",
     "text": [
      "0:\tlearn: 0.6732975\ttest: 0.6720940\tbest: 0.6720940 (0)\ttotal: 428ms\tremaining: 42.3s\n",
      "50:\tlearn: 0.2475731\ttest: 0.2440258\tbest: 0.2440258 (50)\ttotal: 22.1s\tremaining: 21.2s\n",
      "99:\tlearn: 0.1534480\ttest: 0.1502329\tbest: 0.1502329 (99)\ttotal: 42.2s\tremaining: 0us\n",
      "\n",
      "bestTest = 0.1502328592\n",
      "bestIteration = 99\n",
      "\n",
      "                                           0\n",
      "ТОК РОТОРА 1                       23.164826\n",
      "ТОК РОТОРА 2                       21.325118\n",
      "ТОК СТАТОРА                         0.292333\n",
      "ВИБРАЦИЯ НА ОПОРЕ 1                11.593353\n",
      "ВИБРАЦИЯ НА ОПОРЕ 2                 3.282667\n",
      "ВИБРАЦИЯ НА ОПОРЕ 3                 0.751333\n",
      "ВИБРАЦИЯ НА ОПОРЕ 3. ПРОДОЛЬНАЯ     5.234804\n",
      "ВИБРАЦИЯ НА ОПОРЕ 4                 3.709512\n",
      "ВИБРАЦИЯ НА ОПОРЕ 4. ПРОДОЛЬНАЯ     3.880075\n",
      "ТЕМПЕРАТУРА ПОДШИПНИКА НА ОПОРЕ 1   8.737663\n",
      "ТЕМПЕРАТУРА ПОДШИПНИКА НА ОПОРЕ 2   1.462521\n",
      "ТЕМПЕРАТУРА ПОДШИПНИКА НА ОПОРЕ 3   0.465683\n",
      "ТЕМПЕРАТУРА ПОДШИПНИКА НА ОПОРЕ 4   1.236352\n",
      "ТЕМПЕРАТУРА МАСЛА В МАСЛОБЛОКЕ      0.000000\n",
      "ТЕМПЕРАТУРА МАСЛА В СИСТЕМЕ         6.767089\n",
      "ДАВЛЕНИЕ МАСЛА В СИСТЕМЕ            8.096670\n",
      "Y_ЭКСГАУСТЕР А/М №4_РЕДУКТОР ГАЗ. ЗАДВИЖКИ ЭКСГ. №4 M3 0.9424196405973171 7447 307 148\n"
     ]
    },
    {
     "data": {
      "application/vnd.jupyter.widget-view+json": {
       "model_id": "f4c79160668148f1a80720ddebbd5dc8",
       "version_major": 2,
       "version_minor": 0
      },
      "text/plain": [
       "MetricVisualizer(layout=Layout(align_self='stretch', height='500px'))"
      ]
     },
     "metadata": {},
     "output_type": "display_data"
    },
    {
     "name": "stdout",
     "output_type": "stream",
     "text": [
      "0:\tlearn: 0.6637064\ttest: 0.6655253\tbest: 0.6655253 (0)\ttotal: 487ms\tremaining: 48.2s\n",
      "50:\tlearn: 0.1447429\ttest: 0.1433488\tbest: 0.1433488 (50)\ttotal: 24.2s\tremaining: 23.3s\n",
      "99:\tlearn: 0.0491416\ttest: 0.0499367\tbest: 0.0499367 (99)\ttotal: 47.1s\tremaining: 0us\n",
      "\n",
      "bestTest = 0.04993672569\n",
      "bestIteration = 99\n",
      "\n",
      "                                           0\n",
      "ТОК РОТОРА 1                       13.559366\n",
      "ТОК РОТОРА 2                       12.002454\n",
      "ТОК СТАТОРА                         0.000000\n",
      "ВИБРАЦИЯ НА ОПОРЕ 1                 1.398793\n",
      "ВИБРАЦИЯ НА ОПОРЕ 2                 1.204637\n",
      "ВИБРАЦИЯ НА ОПОРЕ 3                11.366900\n",
      "ВИБРАЦИЯ НА ОПОРЕ 3. ПРОДОЛЬНАЯ     0.970897\n",
      "ВИБРАЦИЯ НА ОПОРЕ 4                 2.116269\n",
      "ВИБРАЦИЯ НА ОПОРЕ 4. ПРОДОЛЬНАЯ    13.336084\n",
      "ТЕМПЕРАТУРА ПОДШИПНИКА НА ОПОРЕ 1  11.559691\n",
      "ТЕМПЕРАТУРА ПОДШИПНИКА НА ОПОРЕ 2   0.247264\n",
      "ТЕМПЕРАТУРА ПОДШИПНИКА НА ОПОРЕ 3   0.346459\n",
      "ТЕМПЕРАТУРА ПОДШИПНИКА НА ОПОРЕ 4   4.414979\n",
      "ТЕМПЕРАТУРА МАСЛА В МАСЛОБЛОКЕ      0.014470\n",
      "ТЕМПЕРАТУРА МАСЛА В СИСТЕМЕ         1.475310\n",
      "ДАВЛЕНИЕ МАСЛА В СИСТЕМЕ           25.986426\n",
      "Y_ЭКСГАУСТЕР А/М №4_МАСЛОНАСОС РАБОЧИЙ ЭКСГ. №4 M3 0.9546827794561934 948 1 44\n"
     ]
    },
    {
     "data": {
      "application/vnd.jupyter.widget-view+json": {
       "model_id": "65e2c0bec59e42aea506a5db8f2f5be4",
       "version_major": 2,
       "version_minor": 0
      },
      "text/plain": [
       "MetricVisualizer(layout=Layout(align_self='stretch', height='500px'))"
      ]
     },
     "metadata": {},
     "output_type": "display_data"
    },
    {
     "name": "stdout",
     "output_type": "stream",
     "text": [
      "0:\tlearn: 0.6613853\ttest: 0.6636097\tbest: 0.6636097 (0)\ttotal: 402ms\tremaining: 39.7s\n",
      "50:\tlearn: 0.1133354\ttest: 0.1135643\tbest: 0.1135643 (50)\ttotal: 21.8s\tremaining: 20.9s\n",
      "99:\tlearn: 0.0249532\ttest: 0.0249852\tbest: 0.0249852 (99)\ttotal: 42.3s\tremaining: 0us\n",
      "\n",
      "bestTest = 0.02498517744\n",
      "bestIteration = 99\n",
      "\n",
      "                                          0\n",
      "ТОК РОТОРА 1                       3.958186\n",
      "ТОК РОТОРА 2                       3.310995\n",
      "ТОК СТАТОРА                        4.194437\n",
      "ВИБРАЦИЯ НА ОПОРЕ 1                7.269797\n",
      "ВИБРАЦИЯ НА ОПОРЕ 2                8.207091\n",
      "ВИБРАЦИЯ НА ОПОРЕ 3                6.390028\n",
      "ВИБРАЦИЯ НА ОПОРЕ 3. ПРОДОЛЬНАЯ    8.421340\n",
      "ВИБРАЦИЯ НА ОПОРЕ 4                7.704466\n",
      "ВИБРАЦИЯ НА ОПОРЕ 4. ПРОДОЛЬНАЯ    9.335109\n",
      "ТЕМПЕРАТУРА ПОДШИПНИКА НА ОПОРЕ 1  5.898855\n",
      "ТЕМПЕРАТУРА ПОДШИПНИКА НА ОПОРЕ 2  7.433508\n",
      "ТЕМПЕРАТУРА ПОДШИПНИКА НА ОПОРЕ 3  4.514342\n",
      "ТЕМПЕРАТУРА ПОДШИПНИКА НА ОПОРЕ 4  5.846670\n",
      "ТЕМПЕРАТУРА МАСЛА В МАСЛОБЛОКЕ     5.892988\n",
      "ТЕМПЕРАТУРА МАСЛА В СИСТЕМЕ        5.224741\n",
      "ДАВЛЕНИЕ МАСЛА В СИСТЕМЕ           6.397447\n",
      "Y_ЭКСГАУСТЕР А/М №4_ЭЛЕКТРОАППАРАТУРА ЭКСГ. №4 M1 None 0 0 0\n"
     ]
    },
    {
     "data": {
      "application/vnd.jupyter.widget-view+json": {
       "model_id": "1ae2e49bb16a43c2b7e9ffa52b9cb48d",
       "version_major": 2,
       "version_minor": 0
      },
      "text/plain": [
       "MetricVisualizer(layout=Layout(align_self='stretch', height='500px'))"
      ]
     },
     "metadata": {},
     "output_type": "display_data"
    },
    {
     "name": "stdout",
     "output_type": "stream",
     "text": [
      "0:\tlearn: 0.6635762\ttest: 0.6646552\tbest: 0.6646552 (0)\ttotal: 371ms\tremaining: 36.7s\n",
      "50:\tlearn: 0.1332680\ttest: 0.1375883\tbest: 0.1375883 (50)\ttotal: 17.6s\tremaining: 17s\n",
      "99:\tlearn: 0.0416241\ttest: 0.0449571\tbest: 0.0449571 (99)\ttotal: 35.7s\tremaining: 0us\n",
      "\n",
      "bestTest = 0.04495711495\n",
      "bestIteration = 99\n",
      "\n",
      "                                           0\n",
      "ТОК РОТОРА 1                       34.973258\n",
      "ТОК РОТОРА 2                       31.263783\n",
      "ТОК СТАТОРА                         0.000000\n",
      "ВИБРАЦИЯ НА ОПОРЕ 1                 0.257249\n",
      "ВИБРАЦИЯ НА ОПОРЕ 2                 0.909993\n",
      "ВИБРАЦИЯ НА ОПОРЕ 3                 0.905439\n",
      "ВИБРАЦИЯ НА ОПОРЕ 3. ПРОДОЛЬНАЯ     7.064403\n",
      "ВИБРАЦИЯ НА ОПОРЕ 4                 5.660790\n",
      "ВИБРАЦИЯ НА ОПОРЕ 4. ПРОДОЛЬНАЯ    10.144015\n",
      "ТЕМПЕРАТУРА ПОДШИПНИКА НА ОПОРЕ 1   0.000000\n",
      "ТЕМПЕРАТУРА ПОДШИПНИКА НА ОПОРЕ 2   0.032724\n",
      "ТЕМПЕРАТУРА ПОДШИПНИКА НА ОПОРЕ 3   0.000000\n",
      "ТЕМПЕРАТУРА ПОДШИПНИКА НА ОПОРЕ 4   0.405885\n",
      "ТЕМПЕРАТУРА МАСЛА В МАСЛОБЛОКЕ      0.091926\n",
      "ТЕМПЕРАТУРА МАСЛА В СИСТЕМЕ         3.608673\n",
      "ДАВЛЕНИЕ МАСЛА В СИСТЕМЕ            4.681862\n",
      "Y_ЭКСГАУСТЕР А/М №4_ЭЛЕКТРОАППАРАТУРА ЭКСГ. №4 M3 0.9702380952380952 978 4 26\n"
     ]
    },
    {
     "data": {
      "application/vnd.jupyter.widget-view+json": {
       "model_id": "5af5343b0d0b4e46b36db3339cbf1ed2",
       "version_major": 2,
       "version_minor": 0
      },
      "text/plain": [
       "MetricVisualizer(layout=Layout(align_self='stretch', height='500px'))"
      ]
     },
     "metadata": {},
     "output_type": "display_data"
    },
    {
     "name": "stdout",
     "output_type": "stream",
     "text": [
      "0:\tlearn: 0.6613852\ttest: 0.6636001\tbest: 0.6636001 (0)\ttotal: 408ms\tremaining: 40.4s\n",
      "50:\tlearn: 0.1133372\ttest: 0.1135622\tbest: 0.1135622 (50)\ttotal: 21.9s\tremaining: 21s\n",
      "99:\tlearn: 0.0249488\ttest: 0.0249829\tbest: 0.0249829 (99)\ttotal: 42.5s\tremaining: 0us\n",
      "\n",
      "bestTest = 0.0249829361\n",
      "bestIteration = 99\n",
      "\n",
      "                                           0\n",
      "ТОК РОТОРА 1                        8.523952\n",
      "ТОК РОТОРА 2                        3.212522\n",
      "ТОК СТАТОРА                         8.378499\n",
      "ВИБРАЦИЯ НА ОПОРЕ 1                 5.720145\n",
      "ВИБРАЦИЯ НА ОПОРЕ 2                 5.224629\n",
      "ВИБРАЦИЯ НА ОПОРЕ 3                 4.359320\n",
      "ВИБРАЦИЯ НА ОПОРЕ 3. ПРОДОЛЬНАЯ    15.952504\n",
      "ВИБРАЦИЯ НА ОПОРЕ 4                 4.698795\n",
      "ВИБРАЦИЯ НА ОПОРЕ 4. ПРОДОЛЬНАЯ     6.456111\n",
      "ТЕМПЕРАТУРА ПОДШИПНИКА НА ОПОРЕ 1  14.446213\n",
      "ТЕМПЕРАТУРА ПОДШИПНИКА НА ОПОРЕ 2   5.112630\n",
      "ТЕМПЕРАТУРА ПОДШИПНИКА НА ОПОРЕ 3   2.987759\n",
      "ТЕМПЕРАТУРА ПОДШИПНИКА НА ОПОРЕ 4   3.301812\n",
      "ТЕМПЕРАТУРА МАСЛА В МАСЛОБЛОКЕ      4.030552\n",
      "ТЕМПЕРАТУРА МАСЛА В СИСТЕМЕ         3.662487\n",
      "ДАВЛЕНИЕ МАСЛА В СИСТЕМЕ            3.932069\n",
      "Y_ЭКСГАУСТЕР А/М №4_ПОДШИПНИК ОПОРНЫЙ №2 ЭКСГ. №4 M1 None 0 0 0\n"
     ]
    },
    {
     "data": {
      "application/vnd.jupyter.widget-view+json": {
       "model_id": "0264bb73216c47edbbb202446b0c41e3",
       "version_major": 2,
       "version_minor": 0
      },
      "text/plain": [
       "MetricVisualizer(layout=Layout(align_self='stretch', height='500px'))"
      ]
     },
     "metadata": {},
     "output_type": "display_data"
    },
    {
     "name": "stdout",
     "output_type": "stream",
     "text": [
      "0:\tlearn: 0.6694714\ttest: 0.6684245\tbest: 0.6684245 (0)\ttotal: 477ms\tremaining: 47.3s\n",
      "50:\tlearn: 0.1720052\ttest: 0.1679637\tbest: 0.1679637 (50)\ttotal: 22.8s\tremaining: 21.9s\n",
      "99:\tlearn: 0.0815689\ttest: 0.0773593\tbest: 0.0773593 (99)\ttotal: 42.5s\tremaining: 0us\n",
      "\n",
      "bestTest = 0.07735933275\n",
      "bestIteration = 99\n",
      "\n",
      "                                           0\n",
      "ТОК РОТОРА 1                        8.340835\n",
      "ТОК РОТОРА 2                        9.034384\n",
      "ТОК СТАТОРА                         0.110219\n",
      "ВИБРАЦИЯ НА ОПОРЕ 1                 3.777242\n",
      "ВИБРАЦИЯ НА ОПОРЕ 2                 2.867790\n",
      "ВИБРАЦИЯ НА ОПОРЕ 3                18.092704\n",
      "ВИБРАЦИЯ НА ОПОРЕ 3. ПРОДОЛЬНАЯ     3.780950\n",
      "ВИБРАЦИЯ НА ОПОРЕ 4                 0.000000\n",
      "ВИБРАЦИЯ НА ОПОРЕ 4. ПРОДОЛЬНАЯ     2.742275\n",
      "ТЕМПЕРАТУРА ПОДШИПНИКА НА ОПОРЕ 1   0.528500\n",
      "ТЕМПЕРАТУРА ПОДШИПНИКА НА ОПОРЕ 2  21.803610\n",
      "ТЕМПЕРАТУРА ПОДШИПНИКА НА ОПОРЕ 3   0.858395\n",
      "ТЕМПЕРАТУРА ПОДШИПНИКА НА ОПОРЕ 4   0.000000\n",
      "ТЕМПЕРАТУРА МАСЛА В МАСЛОБЛОКЕ      0.461133\n",
      "ТЕМПЕРАТУРА МАСЛА В СИСТЕМЕ        10.694967\n",
      "ДАВЛЕНИЕ МАСЛА В СИСТЕМЕ           16.906995\n",
      "Y_ЭКСГАУСТЕР А/М №4_ПОДШИПНИК ОПОРНЫЙ №2 ЭКСГ. №4 M3 0.9285714285714286 1274 8 90\n"
     ]
    },
    {
     "data": {
      "application/vnd.jupyter.widget-view+json": {
       "model_id": "ff33e0784bff444a972911397b0f3c5e",
       "version_major": 2,
       "version_minor": 0
      },
      "text/plain": [
       "MetricVisualizer(layout=Layout(align_self='stretch', height='500px'))"
      ]
     },
     "metadata": {},
     "output_type": "display_data"
    },
    {
     "name": "stdout",
     "output_type": "stream",
     "text": [
      "0:\tlearn: 0.6614141\ttest: 0.6636698\tbest: 0.6636698 (0)\ttotal: 406ms\tremaining: 40.2s\n",
      "50:\tlearn: 0.1137228\ttest: 0.1158028\tbest: 0.1158028 (50)\ttotal: 21.3s\tremaining: 20.5s\n",
      "99:\tlearn: 0.0252964\ttest: 0.0287761\tbest: 0.0287761 (99)\ttotal: 41.6s\tremaining: 0us\n",
      "\n",
      "bestTest = 0.0287761304\n",
      "bestIteration = 99\n",
      "\n",
      "                                           0\n",
      "ТОК РОТОРА 1                        8.223544\n",
      "ТОК РОТОРА 2                        3.514074\n",
      "ТОК СТАТОРА                         4.102210\n",
      "ВИБРАЦИЯ НА ОПОРЕ 1                 8.407015\n",
      "ВИБРАЦИЯ НА ОПОРЕ 2                 2.459574\n",
      "ВИБРАЦИЯ НА ОПОРЕ 3                 1.880037\n",
      "ВИБРАЦИЯ НА ОПОРЕ 3. ПРОДОЛЬНАЯ     4.451394\n",
      "ВИБРАЦИЯ НА ОПОРЕ 4                 4.135710\n",
      "ВИБРАЦИЯ НА ОПОРЕ 4. ПРОДОЛЬНАЯ     1.833982\n",
      "ТЕМПЕРАТУРА ПОДШИПНИКА НА ОПОРЕ 1   5.221376\n",
      "ТЕМПЕРАТУРА ПОДШИПНИКА НА ОПОРЕ 2   1.753156\n",
      "ТЕМПЕРАТУРА ПОДШИПНИКА НА ОПОРЕ 3   2.259387\n",
      "ТЕМПЕРАТУРА ПОДШИПНИКА НА ОПОРЕ 4   6.104046\n",
      "ТЕМПЕРАТУРА МАСЛА В МАСЛОБЛОКЕ      3.039837\n",
      "ТЕМПЕРАТУРА МАСЛА В СИСТЕМЕ        16.605737\n",
      "ДАВЛЕНИЕ МАСЛА В СИСТЕМЕ           26.008921\n",
      "Y_ЭКСГАУСТЕР А/М №4_ЗАДВИЖКА ЭКСГ. №4 M1 0.0 0 0 5\n"
     ]
    },
    {
     "data": {
      "application/vnd.jupyter.widget-view+json": {
       "model_id": "8b768c2cd1f845ca80531fb97cc74acf",
       "version_major": 2,
       "version_minor": 0
      },
      "text/plain": [
       "MetricVisualizer(layout=Layout(align_self='stretch', height='500px'))"
      ]
     },
     "metadata": {},
     "output_type": "display_data"
    },
    {
     "name": "stdout",
     "output_type": "stream",
     "text": [
      "0:\tlearn: 0.6692961\ttest: 0.6701904\tbest: 0.6701904 (0)\ttotal: 476ms\tremaining: 47.1s\n",
      "50:\tlearn: 0.2131305\ttest: 0.2263489\tbest: 0.2263489 (50)\ttotal: 21.9s\tremaining: 21s\n",
      "99:\tlearn: 0.1187324\ttest: 0.1299631\tbest: 0.1299631 (99)\ttotal: 43.4s\tremaining: 0us\n",
      "\n",
      "bestTest = 0.1299630538\n",
      "bestIteration = 99\n",
      "\n",
      "                                           0\n",
      "ТОК РОТОРА 1                        2.661249\n",
      "ТОК РОТОРА 2                        3.641316\n",
      "ТОК СТАТОРА                         0.976694\n",
      "ВИБРАЦИЯ НА ОПОРЕ 1                 2.276504\n",
      "ВИБРАЦИЯ НА ОПОРЕ 2                 1.726086\n",
      "ВИБРАЦИЯ НА ОПОРЕ 3                 4.569908\n",
      "ВИБРАЦИЯ НА ОПОРЕ 3. ПРОДОЛЬНАЯ    12.203602\n",
      "ВИБРАЦИЯ НА ОПОРЕ 4                 4.111750\n",
      "ВИБРАЦИЯ НА ОПОРЕ 4. ПРОДОЛЬНАЯ    19.996995\n",
      "ТЕМПЕРАТУРА ПОДШИПНИКА НА ОПОРЕ 1   7.573331\n",
      "ТЕМПЕРАТУРА ПОДШИПНИКА НА ОПОРЕ 2   5.453483\n",
      "ТЕМПЕРАТУРА ПОДШИПНИКА НА ОПОРЕ 3   1.946754\n",
      "ТЕМПЕРАТУРА ПОДШИПНИКА НА ОПОРЕ 4   0.896956\n",
      "ТЕМПЕРАТУРА МАСЛА В МАСЛОБЛОКЕ      2.496343\n",
      "ТЕМПЕРАТУРА МАСЛА В СИСТЕМЕ         2.919631\n",
      "ДАВЛЕНИЕ МАСЛА В СИСТЕМЕ           26.549396\n",
      "Y_ЭКСГАУСТЕР А/М №4_ЗАДВИЖКА ЭКСГ. №4 M3 0.7575993764614185 972 102 209\n"
     ]
    },
    {
     "data": {
      "application/vnd.jupyter.widget-view+json": {
       "model_id": "8226059bd3a44460b18b9ed28aea7e44",
       "version_major": 2,
       "version_minor": 0
      },
      "text/plain": [
       "MetricVisualizer(layout=Layout(align_self='stretch', height='500px'))"
      ]
     },
     "metadata": {},
     "output_type": "display_data"
    },
    {
     "name": "stdout",
     "output_type": "stream",
     "text": [
      "0:\tlearn: 0.6665901\ttest: 0.6680237\tbest: 0.6680237 (0)\ttotal: 366ms\tremaining: 36.2s\n",
      "50:\tlearn: 0.1965704\ttest: 0.1913987\tbest: 0.1913987 (50)\ttotal: 19.2s\tremaining: 18.5s\n",
      "99:\tlearn: 0.1042343\ttest: 0.0977390\tbest: 0.0977390 (99)\ttotal: 37.9s\tremaining: 0us\n",
      "\n",
      "bestTest = 0.09773904107\n",
      "bestIteration = 99\n",
      "\n",
      "                                           0\n",
      "ТОК РОТОРА 1                        6.341986\n",
      "ТОК РОТОРА 2                        5.627979\n",
      "ТОК СТАТОРА                         0.885009\n",
      "ВИБРАЦИЯ НА ОПОРЕ 1                 9.978243\n",
      "ВИБРАЦИЯ НА ОПОРЕ 2                 0.640200\n",
      "ВИБРАЦИЯ НА ОПОРЕ 3                11.602132\n",
      "ВИБРАЦИЯ НА ОПОРЕ 3. ПРОДОЛЬНАЯ    17.617933\n",
      "ВИБРАЦИЯ НА ОПОРЕ 4                11.749002\n",
      "ВИБРАЦИЯ НА ОПОРЕ 4. ПРОДОЛЬНАЯ    14.206023\n",
      "ТЕМПЕРАТУРА ПОДШИПНИКА НА ОПОРЕ 1   4.681112\n",
      "ТЕМПЕРАТУРА ПОДШИПНИКА НА ОПОРЕ 2   1.393160\n",
      "ТЕМПЕРАТУРА ПОДШИПНИКА НА ОПОРЕ 3   3.923075\n",
      "ТЕМПЕРАТУРА ПОДШИПНИКА НА ОПОРЕ 4   3.324570\n",
      "ТЕМПЕРАТУРА МАСЛА В МАСЛОБЛОКЕ      0.000000\n",
      "ТЕМПЕРАТУРА МАСЛА В СИСТЕМЕ         0.849813\n",
      "ДАВЛЕНИЕ МАСЛА В СИСТЕМЕ            7.179763\n",
      "Y_ЭКСГАУСТЕР А/М №4_ГСМ ЭКСГ. №4 M3 0.7781919850885368 835 24 214\n"
     ]
    },
    {
     "data": {
      "application/vnd.jupyter.widget-view+json": {
       "model_id": "80fd7bdd2f024008aef3ccd0b9bef724",
       "version_major": 2,
       "version_minor": 0
      },
      "text/plain": [
       "MetricVisualizer(layout=Layout(align_self='stretch', height='500px'))"
      ]
     },
     "metadata": {},
     "output_type": "display_data"
    },
    {
     "name": "stdout",
     "output_type": "stream",
     "text": [
      "0:\tlearn: 0.6614035\ttest: 0.6636023\tbest: 0.6636023 (0)\ttotal: 416ms\tremaining: 41.1s\n",
      "50:\tlearn: 0.1134702\ttest: 0.1135857\tbest: 0.1135857 (50)\ttotal: 22.2s\tremaining: 21.3s\n",
      "99:\tlearn: 0.0251013\ttest: 0.0250034\tbest: 0.0250034 (99)\ttotal: 42.6s\tremaining: 0us\n",
      "\n",
      "bestTest = 0.02500343702\n",
      "bestIteration = 99\n",
      "\n",
      "                                           0\n",
      "ТОК РОТОРА 1                        0.239108\n",
      "ТОК РОТОРА 2                        0.149160\n",
      "ТОК СТАТОРА                         0.785501\n",
      "ВИБРАЦИЯ НА ОПОРЕ 1                 0.842895\n",
      "ВИБРАЦИЯ НА ОПОРЕ 2                 2.916831\n",
      "ВИБРАЦИЯ НА ОПОРЕ 3                 0.456909\n",
      "ВИБРАЦИЯ НА ОПОРЕ 3. ПРОДОЛЬНАЯ     2.338371\n",
      "ВИБРАЦИЯ НА ОПОРЕ 4                35.952009\n",
      "ВИБРАЦИЯ НА ОПОРЕ 4. ПРОДОЛЬНАЯ     8.703738\n",
      "ТЕМПЕРАТУРА ПОДШИПНИКА НА ОПОРЕ 1   0.499311\n",
      "ТЕМПЕРАТУРА ПОДШИПНИКА НА ОПОРЕ 2   7.068374\n",
      "ТЕМПЕРАТУРА ПОДШИПНИКА НА ОПОРЕ 3   0.306487\n",
      "ТЕМПЕРАТУРА ПОДШИПНИКА НА ОПОРЕ 4   0.867353\n",
      "ТЕМПЕРАТУРА МАСЛА В МАСЛОБЛОКЕ     37.626017\n",
      "ТЕМПЕРАТУРА МАСЛА В СИСТЕМЕ         0.441124\n",
      "ДАВЛЕНИЕ МАСЛА В СИСТЕМЕ            0.806812\n",
      "Y_ЭКСГАУСТЕР А/М №4_ВК 310С ВИБРОПРЕОБРАЗОВАТЕЛЬ ЭКСГ.№4 Т.1 M3 None 0 0 0\n"
     ]
    },
    {
     "data": {
      "application/vnd.jupyter.widget-view+json": {
       "model_id": "70efc1cf98ac471e9522b55f19cc4939",
       "version_major": 2,
       "version_minor": 0
      },
      "text/plain": [
       "MetricVisualizer(layout=Layout(align_self='stretch', height='500px'))"
      ]
     },
     "metadata": {},
     "output_type": "display_data"
    },
    {
     "name": "stdout",
     "output_type": "stream",
     "text": [
      "0:\tlearn: 0.6614057\ttest: 0.6636030\tbest: 0.6636030 (0)\ttotal: 409ms\tremaining: 40.5s\n",
      "50:\tlearn: 0.1135648\ttest: 0.1136110\tbest: 0.1136110 (50)\ttotal: 21.3s\tremaining: 20.5s\n",
      "99:\tlearn: 0.0251888\ttest: 0.0250221\tbest: 0.0250221 (99)\ttotal: 41.8s\tremaining: 0us\n",
      "\n",
      "bestTest = 0.02502205763\n",
      "bestIteration = 99\n",
      "\n",
      "                                           0\n",
      "ТОК РОТОРА 1                        0.111714\n",
      "ТОК РОТОРА 2                        0.120217\n",
      "ТОК СТАТОРА                         0.383267\n",
      "ВИБРАЦИЯ НА ОПОРЕ 1                 0.881645\n",
      "ВИБРАЦИЯ НА ОПОРЕ 2                 2.139149\n",
      "ВИБРАЦИЯ НА ОПОРЕ 3                 0.262794\n",
      "ВИБРАЦИЯ НА ОПОРЕ 3. ПРОДОЛЬНАЯ     1.669018\n",
      "ВИБРАЦИЯ НА ОПОРЕ 4                25.304423\n",
      "ВИБРАЦИЯ НА ОПОРЕ 4. ПРОДОЛЬНАЯ     5.299494\n",
      "ТЕМПЕРАТУРА ПОДШИПНИКА НА ОПОРЕ 1   4.585015\n",
      "ТЕМПЕРАТУРА ПОДШИПНИКА НА ОПОРЕ 2   3.119453\n",
      "ТЕМПЕРАТУРА ПОДШИПНИКА НА ОПОРЕ 3  15.625456\n",
      "ТЕМПЕРАТУРА ПОДШИПНИКА НА ОПОРЕ 4   1.047467\n",
      "ТЕМПЕРАТУРА МАСЛА В МАСЛОБЛОКЕ     25.716583\n",
      "ТЕМПЕРАТУРА МАСЛА В СИСТЕМЕ        12.689872\n",
      "ДАВЛЕНИЕ МАСЛА В СИСТЕМЕ            1.044435\n",
      "Y_ЭКСГАУСТЕР А/М №4_ТСМТ-101-010-50М-400 ТЕРМОПР.ПОДШ.Т.1 M3 0.0 0 0 1\n"
     ]
    },
    {
     "data": {
      "application/vnd.jupyter.widget-view+json": {
       "model_id": "1067f52ba9d346b194ba469b35eaa3ec",
       "version_major": 2,
       "version_minor": 0
      },
      "text/plain": [
       "MetricVisualizer(layout=Layout(align_self='stretch', height='500px'))"
      ]
     },
     "metadata": {},
     "output_type": "display_data"
    },
    {
     "name": "stdout",
     "output_type": "stream",
     "text": [
      "0:\tlearn: 0.6613868\ttest: 0.6636016\tbest: 0.6636016 (0)\ttotal: 414ms\tremaining: 41s\n",
      "50:\tlearn: 0.1133977\ttest: 0.1135850\tbest: 0.1135850 (50)\ttotal: 21.8s\tremaining: 20.9s\n",
      "99:\tlearn: 0.0250315\ttest: 0.0250025\tbest: 0.0250025 (99)\ttotal: 42.4s\tremaining: 0us\n",
      "\n",
      "bestTest = 0.02500248581\n",
      "bestIteration = 99\n",
      "\n",
      "                                           0\n",
      "ТОК РОТОРА 1                        6.146262\n",
      "ТОК РОТОРА 2                        1.842466\n",
      "ТОК СТАТОРА                         1.483714\n",
      "ВИБРАЦИЯ НА ОПОРЕ 1                 3.620222\n",
      "ВИБРАЦИЯ НА ОПОРЕ 2                 3.820725\n",
      "ВИБРАЦИЯ НА ОПОРЕ 3                 6.316912\n",
      "ВИБРАЦИЯ НА ОПОРЕ 3. ПРОДОЛЬНАЯ     9.493004\n",
      "ВИБРАЦИЯ НА ОПОРЕ 4                 2.627667\n",
      "ВИБРАЦИЯ НА ОПОРЕ 4. ПРОДОЛЬНАЯ    10.821210\n",
      "ТЕМПЕРАТУРА ПОДШИПНИКА НА ОПОРЕ 1   3.121557\n",
      "ТЕМПЕРАТУРА ПОДШИПНИКА НА ОПОРЕ 2  13.417721\n",
      "ТЕМПЕРАТУРА ПОДШИПНИКА НА ОПОРЕ 3   7.671388\n",
      "ТЕМПЕРАТУРА ПОДШИПНИКА НА ОПОРЕ 4   4.621050\n",
      "ТЕМПЕРАТУРА МАСЛА В МАСЛОБЛОКЕ      2.110061\n",
      "ТЕМПЕРАТУРА МАСЛА В СИСТЕМЕ         7.442419\n",
      "ДАВЛЕНИЕ МАСЛА В СИСТЕМЕ           15.443622\n",
      "Y_ЭКСГАУСТЕР А/М №4_РОТОР ЭКСГ. №4 M1 None 0 0 0\n"
     ]
    },
    {
     "data": {
      "application/vnd.jupyter.widget-view+json": {
       "model_id": "ee5085e58fb54a45a8928f09b8b7a13c",
       "version_major": 2,
       "version_minor": 0
      },
      "text/plain": [
       "MetricVisualizer(layout=Layout(align_self='stretch', height='500px'))"
      ]
     },
     "metadata": {},
     "output_type": "display_data"
    },
    {
     "name": "stdout",
     "output_type": "stream",
     "text": [
      "0:\tlearn: 0.6746323\ttest: 0.6739242\tbest: 0.6739242 (0)\ttotal: 389ms\tremaining: 38.5s\n",
      "50:\tlearn: 0.2573769\ttest: 0.2622995\tbest: 0.2622995 (50)\ttotal: 22s\tremaining: 21.1s\n",
      "99:\tlearn: 0.1403114\ttest: 0.1480175\tbest: 0.1480175 (99)\ttotal: 42.6s\tremaining: 0us\n",
      "\n",
      "bestTest = 0.1480175322\n",
      "bestIteration = 99\n",
      "\n",
      "                                           0\n",
      "ТОК РОТОРА 1                       10.379594\n",
      "ТОК РОТОРА 2                        9.517215\n",
      "ТОК СТАТОРА                         2.050578\n",
      "ВИБРАЦИЯ НА ОПОРЕ 1                 1.211970\n",
      "ВИБРАЦИЯ НА ОПОРЕ 2                 4.088767\n",
      "ВИБРАЦИЯ НА ОПОРЕ 3                 0.216204\n",
      "ВИБРАЦИЯ НА ОПОРЕ 3. ПРОДОЛЬНАЯ     3.128081\n",
      "ВИБРАЦИЯ НА ОПОРЕ 4                 5.118959\n",
      "ВИБРАЦИЯ НА ОПОРЕ 4. ПРОДОЛЬНАЯ    12.775705\n",
      "ТЕМПЕРАТУРА ПОДШИПНИКА НА ОПОРЕ 1   6.169550\n",
      "ТЕМПЕРАТУРА ПОДШИПНИКА НА ОПОРЕ 2  16.029948\n",
      "ТЕМПЕРАТУРА ПОДШИПНИКА НА ОПОРЕ 3   4.419802\n",
      "ТЕМПЕРАТУРА ПОДШИПНИКА НА ОПОРЕ 4   0.000000\n",
      "ТЕМПЕРАТУРА МАСЛА В МАСЛОБЛОКЕ      0.136112\n",
      "ТЕМПЕРАТУРА МАСЛА В СИСТЕМЕ        18.859472\n",
      "ДАВЛЕНИЕ МАСЛА В СИСТЕМЕ            5.898044\n",
      "Y_ЭКСГАУСТЕР А/М №4_РОТОР ЭКСГ. №4 M3 0.9663171983047066 4332 42 109\n"
     ]
    },
    {
     "data": {
      "application/vnd.jupyter.widget-view+json": {
       "model_id": "96ab4dc7f66d4956a1f8c67f9e1211eb",
       "version_major": 2,
       "version_minor": 0
      },
      "text/plain": [
       "MetricVisualizer(layout=Layout(align_self='stretch', height='500px'))"
      ]
     },
     "metadata": {},
     "output_type": "display_data"
    },
    {
     "name": "stdout",
     "output_type": "stream",
     "text": [
      "0:\tlearn: 0.6619804\ttest: 0.6642041\tbest: 0.6642041 (0)\ttotal: 440ms\tremaining: 43.6s\n",
      "50:\tlearn: 0.1241577\ttest: 0.1227688\tbest: 0.1227688 (50)\ttotal: 23.8s\tremaining: 22.8s\n",
      "99:\tlearn: 0.0348312\ttest: 0.0327155\tbest: 0.0327155 (99)\ttotal: 46s\tremaining: 0us\n",
      "\n",
      "bestTest = 0.03271545689\n",
      "bestIteration = 99\n",
      "\n",
      "                                           0\n",
      "ТОК РОТОРА 1                        7.148487\n",
      "ТОК РОТОРА 2                        7.597055\n",
      "ТОК СТАТОРА                         0.723703\n",
      "ВИБРАЦИЯ НА ОПОРЕ 1                 0.841650\n",
      "ВИБРАЦИЯ НА ОПОРЕ 2                16.479998\n",
      "ВИБРАЦИЯ НА ОПОРЕ 3                22.872770\n",
      "ВИБРАЦИЯ НА ОПОРЕ 3. ПРОДОЛЬНАЯ     8.049984\n",
      "ВИБРАЦИЯ НА ОПОРЕ 4                 0.058457\n",
      "ВИБРАЦИЯ НА ОПОРЕ 4. ПРОДОЛЬНАЯ     4.080731\n",
      "ТЕМПЕРАТУРА ПОДШИПНИКА НА ОПОРЕ 1   3.137527\n",
      "ТЕМПЕРАТУРА ПОДШИПНИКА НА ОПОРЕ 2   5.208901\n",
      "ТЕМПЕРАТУРА ПОДШИПНИКА НА ОПОРЕ 3   3.020678\n",
      "ТЕМПЕРАТУРА ПОДШИПНИКА НА ОПОРЕ 4   1.121371\n",
      "ТЕМПЕРАТУРА МАСЛА В МАСЛОБЛОКЕ      1.283052\n",
      "ТЕМПЕРАТУРА МАСЛА В СИСТЕМЕ         7.983531\n",
      "ДАВЛЕНИЕ МАСЛА В СИСТЕМЕ           10.392105\n",
      "Y_ЭКСГАУСТЕР А/М №4_МАСЛООХЛАДИТЕЛЬ  М-05-1 ЭКСГ. №4 M3 0.8130841121495327 87 3 17\n"
     ]
    },
    {
     "data": {
      "application/vnd.jupyter.widget-view+json": {
       "model_id": "2c0aacaf3aab47688eec3c7a89d046f5",
       "version_major": 2,
       "version_minor": 0
      },
      "text/plain": [
       "MetricVisualizer(layout=Layout(align_self='stretch', height='500px'))"
      ]
     },
     "metadata": {},
     "output_type": "display_data"
    },
    {
     "name": "stdout",
     "output_type": "stream",
     "text": [
      "0:\tlearn: 0.6614099\ttest: 0.6636067\tbest: 0.6636067 (0)\ttotal: 403ms\tremaining: 39.9s\n",
      "50:\tlearn: 0.1135584\ttest: 0.1136435\tbest: 0.1136435 (50)\ttotal: 21.1s\tremaining: 20.3s\n",
      "99:\tlearn: 0.0250783\ttest: 0.0250327\tbest: 0.0250327 (99)\ttotal: 41s\tremaining: 0us\n",
      "\n",
      "bestTest = 0.02503270869\n",
      "bestIteration = 99\n",
      "\n",
      "                                           0\n",
      "ТОК РОТОРА 1                        4.467900\n",
      "ТОК РОТОРА 2                        1.368476\n",
      "ТОК СТАТОРА                         5.112806\n",
      "ВИБРАЦИЯ НА ОПОРЕ 1                 1.102370\n",
      "ВИБРАЦИЯ НА ОПОРЕ 2                 3.066655\n",
      "ВИБРАЦИЯ НА ОПОРЕ 3                 1.234813\n",
      "ВИБРАЦИЯ НА ОПОРЕ 3. ПРОДОЛЬНАЯ     5.401746\n",
      "ВИБРАЦИЯ НА ОПОРЕ 4                 1.697038\n",
      "ВИБРАЦИЯ НА ОПОРЕ 4. ПРОДОЛЬНАЯ     2.194552\n",
      "ТЕМПЕРАТУРА ПОДШИПНИКА НА ОПОРЕ 1   4.089292\n",
      "ТЕМПЕРАТУРА ПОДШИПНИКА НА ОПОРЕ 2   2.761379\n",
      "ТЕМПЕРАТУРА ПОДШИПНИКА НА ОПОРЕ 3  31.093345\n",
      "ТЕМПЕРАТУРА ПОДШИПНИКА НА ОПОРЕ 4  14.629231\n",
      "ТЕМПЕРАТУРА МАСЛА В МАСЛОБЛОКЕ     17.907178\n",
      "ТЕМПЕРАТУРА МАСЛА В СИСТЕМЕ         1.297434\n",
      "ДАВЛЕНИЕ МАСЛА В СИСТЕМЕ            2.575784\n",
      "Y_ЭКСГАУСТЕР А/М №4_ПОДШИПНИК ОПОРНО-УПОРНЫЙ ЭКСГ. №4 M1 0.5 1 0 1\n"
     ]
    },
    {
     "data": {
      "application/vnd.jupyter.widget-view+json": {
       "model_id": "eff1712569644641b724d097487c08b1",
       "version_major": 2,
       "version_minor": 0
      },
      "text/plain": [
       "MetricVisualizer(layout=Layout(align_self='stretch', height='500px'))"
      ]
     },
     "metadata": {},
     "output_type": "display_data"
    },
    {
     "name": "stdout",
     "output_type": "stream",
     "text": [
      "0:\tlearn: 0.6689615\ttest: 0.6682226\tbest: 0.6682226 (0)\ttotal: 446ms\tremaining: 44.2s\n",
      "50:\tlearn: 0.1870591\ttest: 0.1748384\tbest: 0.1748384 (50)\ttotal: 21.8s\tremaining: 21s\n",
      "99:\tlearn: 0.0822896\ttest: 0.0699618\tbest: 0.0699618 (99)\ttotal: 43.6s\tremaining: 0us\n",
      "\n",
      "bestTest = 0.06996175183\n",
      "bestIteration = 99\n",
      "\n",
      "                                           0\n",
      "ТОК РОТОРА 1                       17.788002\n",
      "ТОК РОТОРА 2                       18.443091\n",
      "ТОК СТАТОРА                         0.000000\n",
      "ВИБРАЦИЯ НА ОПОРЕ 1                 0.086073\n",
      "ВИБРАЦИЯ НА ОПОРЕ 2                 0.075896\n",
      "ВИБРАЦИЯ НА ОПОРЕ 3                 4.009459\n",
      "ВИБРАЦИЯ НА ОПОРЕ 3. ПРОДОЛЬНАЯ    14.825058\n",
      "ВИБРАЦИЯ НА ОПОРЕ 4                11.526496\n",
      "ВИБРАЦИЯ НА ОПОРЕ 4. ПРОДОЛЬНАЯ     8.405868\n",
      "ТЕМПЕРАТУРА ПОДШИПНИКА НА ОПОРЕ 1   8.185204\n",
      "ТЕМПЕРАТУРА ПОДШИПНИКА НА ОПОРЕ 2   1.629735\n",
      "ТЕМПЕРАТУРА ПОДШИПНИКА НА ОПОРЕ 3   0.000000\n",
      "ТЕМПЕРАТУРА ПОДШИПНИКА НА ОПОРЕ 4   3.970093\n",
      "ТЕМПЕРАТУРА МАСЛА В МАСЛОБЛОКЕ      0.353879\n",
      "ТЕМПЕРАТУРА МАСЛА В СИСТЕМЕ         6.182330\n",
      "ДАВЛЕНИЕ МАСЛА В СИСТЕМЕ            4.518815\n",
      "Y_ЭКСГАУСТЕР А/М №4_ПОДШИПНИК ОПОРНО-УПОРНЫЙ ЭКСГ. №4 M3 0.9550072568940493 1974 29 64\n"
     ]
    },
    {
     "data": {
      "application/vnd.jupyter.widget-view+json": {
       "model_id": "81a1a199224a4460a02704b9e180067e",
       "version_major": 2,
       "version_minor": 0
      },
      "text/plain": [
       "MetricVisualizer(layout=Layout(align_self='stretch', height='500px'))"
      ]
     },
     "metadata": {},
     "output_type": "display_data"
    },
    {
     "name": "stdout",
     "output_type": "stream",
     "text": [
      "0:\tlearn: 0.6614253\ttest: 0.6636703\tbest: 0.6636703 (0)\ttotal: 402ms\tremaining: 39.8s\n",
      "50:\tlearn: 0.1138250\ttest: 0.1154319\tbest: 0.1154319 (50)\ttotal: 21.5s\tremaining: 20.7s\n",
      "99:\tlearn: 0.0252639\ttest: 0.0262801\tbest: 0.0262801 (99)\ttotal: 41.1s\tremaining: 0us\n",
      "\n",
      "bestTest = 0.02628005579\n",
      "bestIteration = 99\n",
      "\n",
      "                                           0\n",
      "ТОК РОТОРА 1                        0.816311\n",
      "ТОК РОТОРА 2                        0.422094\n",
      "ТОК СТАТОРА                         2.600963\n",
      "ВИБРАЦИЯ НА ОПОРЕ 1                 1.590165\n",
      "ВИБРАЦИЯ НА ОПОРЕ 2                 3.425463\n",
      "ВИБРАЦИЯ НА ОПОРЕ 3                 0.302105\n",
      "ВИБРАЦИЯ НА ОПОРЕ 3. ПРОДОЛЬНАЯ     1.246680\n",
      "ВИБРАЦИЯ НА ОПОРЕ 4                 0.435411\n",
      "ВИБРАЦИЯ НА ОПОРЕ 4. ПРОДОЛЬНАЯ     5.441451\n",
      "ТЕМПЕРАТУРА ПОДШИПНИКА НА ОПОРЕ 1   1.744893\n",
      "ТЕМПЕРАТУРА ПОДШИПНИКА НА ОПОРЕ 2   0.843770\n",
      "ТЕМПЕРАТУРА ПОДШИПНИКА НА ОПОРЕ 3  16.808789\n",
      "ТЕМПЕРАТУРА ПОДШИПНИКА НА ОПОРЕ 4  10.096082\n",
      "ТЕМПЕРАТУРА МАСЛА В МАСЛОБЛОКЕ     38.198175\n",
      "ТЕМПЕРАТУРА МАСЛА В СИСТЕМЕ        11.656040\n",
      "ДАВЛЕНИЕ МАСЛА В СИСТЕМЕ            4.371606\n",
      "Y_ЭКСГАУСТЕР А/М №4_ЭКСГАУСТЕР А/М №4 M1 1.0 2 0 0\n"
     ]
    },
    {
     "data": {
      "application/vnd.jupyter.widget-view+json": {
       "model_id": "608739ad12a94ec7943b29c03bad9881",
       "version_major": 2,
       "version_minor": 0
      },
      "text/plain": [
       "MetricVisualizer(layout=Layout(align_self='stretch', height='500px'))"
      ]
     },
     "metadata": {},
     "output_type": "display_data"
    },
    {
     "name": "stdout",
     "output_type": "stream",
     "text": [
      "0:\tlearn: 0.6624910\ttest: 0.6641570\tbest: 0.6641570 (0)\ttotal: 407ms\tremaining: 40.3s\n",
      "50:\tlearn: 0.1263327\ttest: 0.1222807\tbest: 0.1222807 (50)\ttotal: 19.1s\tremaining: 18.4s\n",
      "99:\tlearn: 0.0371802\ttest: 0.0332464\tbest: 0.0332464 (99)\ttotal: 37.9s\tremaining: 0us\n",
      "\n",
      "bestTest = 0.03324639059\n",
      "bestIteration = 99\n",
      "\n",
      "                                           0\n",
      "ТОК РОТОРА 1                        2.584180\n",
      "ТОК РОТОРА 2                        3.177130\n",
      "ТОК СТАТОРА                         1.538367\n",
      "ВИБРАЦИЯ НА ОПОРЕ 1                 0.204120\n",
      "ВИБРАЦИЯ НА ОПОРЕ 2                 2.205516\n",
      "ВИБРАЦИЯ НА ОПОРЕ 3                 1.743153\n",
      "ВИБРАЦИЯ НА ОПОРЕ 3. ПРОДОЛЬНАЯ     6.149883\n",
      "ВИБРАЦИЯ НА ОПОРЕ 4                18.131817\n",
      "ВИБРАЦИЯ НА ОПОРЕ 4. ПРОДОЛЬНАЯ    43.639900\n",
      "ТЕМПЕРАТУРА ПОДШИПНИКА НА ОПОРЕ 1   6.002524\n",
      "ТЕМПЕРАТУРА ПОДШИПНИКА НА ОПОРЕ 2   0.533550\n",
      "ТЕМПЕРАТУРА ПОДШИПНИКА НА ОПОРЕ 3   0.000000\n",
      "ТЕМПЕРАТУРА ПОДШИПНИКА НА ОПОРЕ 4   6.522266\n",
      "ТЕМПЕРАТУРА МАСЛА В МАСЛОБЛОКЕ      0.000000\n",
      "ТЕМПЕРАТУРА МАСЛА В СИСТЕМЕ         0.863734\n",
      "ДАВЛЕНИЕ МАСЛА В СИСТЕМЕ            6.703861\n",
      "Y_ЭКСГАУСТЕР А/М №4_ЗАП. И РЕГ. АРМАТУРА ЭКСГ.№4 M3 0.9517819706498952 454 3 20\n"
     ]
    },
    {
     "data": {
      "application/vnd.jupyter.widget-view+json": {
       "model_id": "80ef68e5385547fcadb510e4dd12ad62",
       "version_major": 2,
       "version_minor": 0
      },
      "text/plain": [
       "MetricVisualizer(layout=Layout(align_self='stretch', height='500px'))"
      ]
     },
     "metadata": {},
     "output_type": "display_data"
    },
    {
     "name": "stdout",
     "output_type": "stream",
     "text": [
      "0:\tlearn: 0.6637861\ttest: 0.6649740\tbest: 0.6649740 (0)\ttotal: 507ms\tremaining: 50.2s\n",
      "50:\tlearn: 0.1365950\ttest: 0.1354997\tbest: 0.1354997 (50)\ttotal: 20.3s\tremaining: 19.5s\n",
      "99:\tlearn: 0.0434122\ttest: 0.0437006\tbest: 0.0437006 (99)\ttotal: 39.7s\tremaining: 0us\n",
      "\n",
      "bestTest = 0.04370062874\n",
      "bestIteration = 99\n",
      "\n",
      "                                           0\n",
      "ТОК РОТОРА 1                        5.851428\n",
      "ТОК РОТОРА 2                        5.684621\n",
      "ТОК СТАТОРА                         0.890864\n",
      "ВИБРАЦИЯ НА ОПОРЕ 1                 1.704704\n",
      "ВИБРАЦИЯ НА ОПОРЕ 2                14.085416\n",
      "ВИБРАЦИЯ НА ОПОРЕ 3                 9.440957\n",
      "ВИБРАЦИЯ НА ОПОРЕ 3. ПРОДОЛЬНАЯ     6.197594\n",
      "ВИБРАЦИЯ НА ОПОРЕ 4                11.626281\n",
      "ВИБРАЦИЯ НА ОПОРЕ 4. ПРОДОЛЬНАЯ    14.953397\n",
      "ТЕМПЕРАТУРА ПОДШИПНИКА НА ОПОРЕ 1   0.045034\n",
      "ТЕМПЕРАТУРА ПОДШИПНИКА НА ОПОРЕ 2   0.181939\n",
      "ТЕМПЕРАТУРА ПОДШИПНИКА НА ОПОРЕ 3   1.495872\n",
      "ТЕМПЕРАТУРА ПОДШИПНИКА НА ОПОРЕ 4   2.145576\n",
      "ТЕМПЕРАТУРА МАСЛА В МАСЛОБЛОКЕ      2.000750\n",
      "ТЕМПЕРАТУРА МАСЛА В СИСТЕМЕ         0.040542\n",
      "ДАВЛЕНИЕ МАСЛА В СИСТЕМЕ           23.655025\n",
      "Y_ЭКСГАУСТЕР А/М №4_ПОДШИПНИК ОПОРНЫЙ №1 ЭКСГ. №4 M3 0.9115479115479116 371 1 35\n"
     ]
    },
    {
     "data": {
      "application/vnd.jupyter.widget-view+json": {
       "model_id": "d872c28728184f239586beea6ff21ad0",
       "version_major": 2,
       "version_minor": 0
      },
      "text/plain": [
       "MetricVisualizer(layout=Layout(align_self='stretch', height='500px'))"
      ]
     },
     "metadata": {},
     "output_type": "display_data"
    },
    {
     "name": "stdout",
     "output_type": "stream",
     "text": [
      "0:\tlearn: 0.6622861\ttest: 0.6641813\tbest: 0.6641813 (0)\ttotal: 396ms\tremaining: 39.2s\n",
      "50:\tlearn: 0.1216705\ttest: 0.1232603\tbest: 0.1232603 (50)\ttotal: 21.3s\tremaining: 20.5s\n",
      "99:\tlearn: 0.0332325\ttest: 0.0336288\tbest: 0.0336288 (99)\ttotal: 42.1s\tremaining: 0us\n",
      "\n",
      "bestTest = 0.03362884104\n",
      "bestIteration = 99\n",
      "\n",
      "                                           0\n",
      "ТОК РОТОРА 1                       24.580032\n",
      "ТОК РОТОРА 2                       21.601171\n",
      "ТОК СТАТОРА                         1.047555\n",
      "ВИБРАЦИЯ НА ОПОРЕ 1                 1.903777\n",
      "ВИБРАЦИЯ НА ОПОРЕ 2                 5.738084\n",
      "ВИБРАЦИЯ НА ОПОРЕ 3                 2.512976\n",
      "ВИБРАЦИЯ НА ОПОРЕ 3. ПРОДОЛЬНАЯ     0.113843\n",
      "ВИБРАЦИЯ НА ОПОРЕ 4                 0.000000\n",
      "ВИБРАЦИЯ НА ОПОРЕ 4. ПРОДОЛЬНАЯ    17.732927\n",
      "ТЕМПЕРАТУРА ПОДШИПНИКА НА ОПОРЕ 1   0.883908\n",
      "ТЕМПЕРАТУРА ПОДШИПНИКА НА ОПОРЕ 2  10.732434\n",
      "ТЕМПЕРАТУРА ПОДШИПНИКА НА ОПОРЕ 3   4.500730\n",
      "ТЕМПЕРАТУРА ПОДШИПНИКА НА ОПОРЕ 4   1.432342\n",
      "ТЕМПЕРАТУРА МАСЛА В МАСЛОБЛОКЕ      2.257354\n",
      "ТЕМПЕРАТУРА МАСЛА В СИСТЕМЕ         0.835944\n",
      "ДАВЛЕНИЕ МАСЛА В СИСТЕМЕ            4.126924\n",
      "Y_ЭКСГАУСТЕР А/М №4_ЭЛ/ДВИГАТЕЛЬ ГАЗ. ЗАДВИЖКИ ЭКСГ. №4 M3 0.8088235294117647 165 14 25\n"
     ]
    },
    {
     "data": {
      "application/vnd.jupyter.widget-view+json": {
       "model_id": "ab15ff8755a140df81b07b73abbe5806",
       "version_major": 2,
       "version_minor": 0
      },
      "text/plain": [
       "MetricVisualizer(layout=Layout(align_self='stretch', height='500px'))"
      ]
     },
     "metadata": {},
     "output_type": "display_data"
    },
    {
     "name": "stdout",
     "output_type": "stream",
     "text": [
      "0:\tlearn: 0.6613848\ttest: 0.6635992\tbest: 0.6635992 (0)\ttotal: 408ms\tremaining: 40.4s\n",
      "50:\tlearn: 0.1133177\ttest: 0.1135593\tbest: 0.1135593 (50)\ttotal: 21.8s\tremaining: 21s\n",
      "99:\tlearn: 0.0249208\ttest: 0.0249805\tbest: 0.0249805 (99)\ttotal: 42.3s\tremaining: 0us\n",
      "\n",
      "bestTest = 0.02498053388\n",
      "bestIteration = 99\n",
      "\n",
      "                                          0\n",
      "ТОК РОТОРА 1                       3.727353\n",
      "ТОК РОТОРА 2                       3.210911\n",
      "ТОК СТАТОРА                        3.879498\n",
      "ВИБРАЦИЯ НА ОПОРЕ 1                6.606716\n",
      "ВИБРАЦИЯ НА ОПОРЕ 2                7.763995\n",
      "ВИБРАЦИЯ НА ОПОРЕ 3                6.681272\n",
      "ВИБРАЦИЯ НА ОПОРЕ 3. ПРОДОЛЬНАЯ    8.208864\n",
      "ВИБРАЦИЯ НА ОПОРЕ 4                7.872656\n",
      "ВИБРАЦИЯ НА ОПОРЕ 4. ПРОДОЛЬНАЯ    9.724306\n",
      "ТЕМПЕРАТУРА ПОДШИПНИКА НА ОПОРЕ 1  6.775701\n",
      "ТЕМПЕРАТУРА ПОДШИПНИКА НА ОПОРЕ 2  8.080736\n",
      "ТЕМПЕРАТУРА ПОДШИПНИКА НА ОПОРЕ 3  4.400313\n",
      "ТЕМПЕРАТУРА ПОДШИПНИКА НА ОПОРЕ 4  5.786404\n",
      "ТЕМПЕРАТУРА МАСЛА В МАСЛОБЛОКЕ     6.006041\n",
      "ТЕМПЕРАТУРА МАСЛА В СИСТЕМЕ        5.288394\n",
      "ДАВЛЕНИЕ МАСЛА В СИСТЕМЕ           5.986839\n",
      "Y_ЭКСГАУСТЕР А/М №4_КЛ1 ТР№4 ДО ЭД ЭКСГАУСТЕРА №4 M3 None 0 0 0\n"
     ]
    },
    {
     "data": {
      "application/vnd.jupyter.widget-view+json": {
       "model_id": "eaec05ad8f1448c3a982296e23e810a5",
       "version_major": 2,
       "version_minor": 0
      },
      "text/plain": [
       "MetricVisualizer(layout=Layout(align_self='stretch', height='500px'))"
      ]
     },
     "metadata": {},
     "output_type": "display_data"
    },
    {
     "name": "stdout",
     "output_type": "stream",
     "text": [
      "0:\tlearn: 0.6613848\ttest: 0.6636009\tbest: 0.6636009 (0)\ttotal: 408ms\tremaining: 40.4s\n",
      "50:\tlearn: 0.1133177\ttest: 0.1135582\tbest: 0.1135582 (50)\ttotal: 21.9s\tremaining: 21s\n",
      "99:\tlearn: 0.0249208\ttest: 0.0249773\tbest: 0.0249773 (99)\ttotal: 42.4s\tremaining: 0us\n",
      "\n",
      "bestTest = 0.02497726726\n",
      "bestIteration = 99\n",
      "\n",
      "                                          0\n",
      "ТОК РОТОРА 1                       3.727353\n",
      "ТОК РОТОРА 2                       3.210911\n",
      "ТОК СТАТОРА                        3.879498\n",
      "ВИБРАЦИЯ НА ОПОРЕ 1                6.606716\n",
      "ВИБРАЦИЯ НА ОПОРЕ 2                7.763995\n",
      "ВИБРАЦИЯ НА ОПОРЕ 3                6.681272\n",
      "ВИБРАЦИЯ НА ОПОРЕ 3. ПРОДОЛЬНАЯ    8.208864\n",
      "ВИБРАЦИЯ НА ОПОРЕ 4                7.872656\n",
      "ВИБРАЦИЯ НА ОПОРЕ 4. ПРОДОЛЬНАЯ    9.724306\n",
      "ТЕМПЕРАТУРА ПОДШИПНИКА НА ОПОРЕ 1  6.775701\n",
      "ТЕМПЕРАТУРА ПОДШИПНИКА НА ОПОРЕ 2  8.080736\n",
      "ТЕМПЕРАТУРА ПОДШИПНИКА НА ОПОРЕ 3  4.400313\n",
      "ТЕМПЕРАТУРА ПОДШИПНИКА НА ОПОРЕ 4  5.786404\n",
      "ТЕМПЕРАТУРА МАСЛА В МАСЛОБЛОКЕ     6.006041\n",
      "ТЕМПЕРАТУРА МАСЛА В СИСТЕМЕ        5.288394\n",
      "ДАВЛЕНИЕ МАСЛА В СИСТЕМЕ           5.986839\n",
      "Y_ЭКСГАУСТЕР А/М №4_КЛ2 ТР№4 ДО ЭД ЭКСГАУСТЕРА №4 M3 None 0 0 0\n"
     ]
    },
    {
     "data": {
      "application/vnd.jupyter.widget-view+json": {
       "model_id": "ed963a77796440df8730d325905be3cc",
       "version_major": 2,
       "version_minor": 0
      },
      "text/plain": [
       "MetricVisualizer(layout=Layout(align_self='stretch', height='500px'))"
      ]
     },
     "metadata": {},
     "output_type": "display_data"
    },
    {
     "name": "stdout",
     "output_type": "stream",
     "text": [
      "0:\tlearn: 0.6613846\ttest: 0.6636007\tbest: 0.6636007 (0)\ttotal: 550ms\tremaining: 54.4s\n",
      "50:\tlearn: 0.1133111\ttest: 0.1135507\tbest: 0.1135507 (50)\ttotal: 21.7s\tremaining: 20.8s\n",
      "99:\tlearn: 0.0249102\ttest: 0.0249730\tbest: 0.0249730 (99)\ttotal: 42.7s\tremaining: 0us\n",
      "\n",
      "bestTest = 0.02497302217\n",
      "bestIteration = 99\n",
      "\n",
      "                                          0\n",
      "ТОК РОТОРА 1                       3.812635\n",
      "ТОК РОТОРА 2                       3.297690\n",
      "ТОК СТАТОРА                        3.944986\n",
      "ВИБРАЦИЯ НА ОПОРЕ 1                6.777111\n",
      "ВИБРАЦИЯ НА ОПОРЕ 2                7.982211\n",
      "ВИБРАЦИЯ НА ОПОРЕ 3                6.699506\n",
      "ВИБРАЦИЯ НА ОПОРЕ 3. ПРОДОЛЬНАЯ    8.034599\n",
      "ВИБРАЦИЯ НА ОПОРЕ 4                7.969944\n",
      "ВИБРАЦИЯ НА ОПОРЕ 4. ПРОДОЛЬНАЯ    9.716518\n",
      "ТЕМПЕРАТУРА ПОДШИПНИКА НА ОПОРЕ 1  6.120934\n",
      "ТЕМПЕРАТУРА ПОДШИПНИКА НА ОПОРЕ 2  7.757831\n",
      "ТЕМПЕРАТУРА ПОДШИПНИКА НА ОПОРЕ 3  4.524866\n",
      "ТЕМПЕРАТУРА ПОДШИПНИКА НА ОПОРЕ 4  5.796049\n",
      "ТЕМПЕРАТУРА МАСЛА В МАСЛОБЛОКЕ     6.060490\n",
      "ТЕМПЕРАТУРА МАСЛА В СИСТЕМЕ        5.453800\n",
      "ДАВЛЕНИЕ МАСЛА В СИСТЕМЕ           6.050829\n",
      "Y_ЭКСГАУСТЕР А/М №4_ТР-Р ТМ-4000-10/6 ЭКСГ. №4 M3 None 0 0 0\n"
     ]
    }
   ],
   "source": [
    "import catboost\n",
    "\n",
    "summary = dict()\n",
    "summary[\"model\"] = []\n",
    "summary[\"f1\"] = []\n",
    "summary[\"score\"] = []\n",
    "summary[\"TP\"] = []\n",
    "summary[\"FP\"] = []\n",
    "summary[\"FN\"] = []\n",
    "\n",
    "\n",
    "for col in y_train.columns:\n",
    "\n",
    "    target_train = y_train[col]\n",
    "    if len(target_train.unique())>1:\n",
    "        model = catboost.CatBoostClassifier(iterations=100, loss_function='CrossEntropy')\n",
    "\n",
    "        X_test = X_train.sample(10000)\n",
    "        target_test = target_train.loc[X_test.index.values]\n",
    "\n",
    "        X_val = X_train.sample(1000)\n",
    "        target_val = target_train.loc[X_val.index.values]\n",
    "\n",
    "        X_train = X_train#.sample(1000000)\n",
    "        target_train = target_train.loc[X_train.index.values]\n",
    "\n",
    "        model.fit(X_train.values, target_train.values, eval_set=(X_val.values, target_val.values), verbose=50, use_best_model=True, plot=True, early_stopping_rounds=100)\n",
    "        print(pd.DataFrame(model.feature_importances_, index=X_train.columns ))\n",
    "\n",
    "        model.save_model(\"ЭКСГАУСТЕР 4 \" +col.replace(\"/\", \"\")+\"__75\",format=\"cbm\",export_parameters=None, pool=None)\n",
    "        \n",
    "        pred = model.predict(X_test.values)\n",
    "        TP = sum((pred == 1)*(target_test == 1))\n",
    "        FP = sum((pred == 1)*(target_test == 0))\n",
    "        FN = sum((pred == 0)*(target_test == 1))\n",
    "        summary[\"model\"].append(\" ЭКСГАУСТЕР 4 \" + col.replace(\"/\", \"\")+\"__75\")\n",
    "        summary[\"TP\"].append(TP)\n",
    "        summary[\"FP\"].append(FP)\n",
    "        summary[\"FN\"].append(FN)\n",
    "        if (TP+FP+FN)!=0:\n",
    "            print(col, TP/(TP+FP+FN), TP, FP, FN)\n",
    "            summary[\"f1\"].append(2*TP/(2*TP+FP+FN))\n",
    "            summary[\"score\"].append(TP/(TP+FP+FN))\n",
    "        else:\n",
    "            print(col, None, TP, FP, FN)\n",
    "            summary[\"f1\"].append(None)\n",
    "            summary[\"score\"].append(None)\n",
    "    else:\n",
    "        summary[\"model\"].append(\"ЭКСГАУСТЕР 4 \" + col.replace(\"/\", \"\")+\"__75\")\n",
    "        summary[\"TP\"].append(0)\n",
    "        summary[\"FP\"].append(0)\n",
    "        summary[\"FN\"].append(0)\n",
    "        summary[\"f1\"].append(None)\n",
    "        summary[\"score\"].append(None)\n",
    "        \n",
    "            \n",
    "pd.DataFrame(summary).to_csv(\"summary ЭКСГАУСТЕР 4__75.csv\")"
   ]
  }
 ],
 "metadata": {
  "kernelspec": {
   "display_name": "Python 3",
   "language": "python",
   "name": "python3"
  },
  "language_info": {
   "codemirror_mode": {
    "name": "ipython",
    "version": 3
   },
   "file_extension": ".py",
   "mimetype": "text/x-python",
   "name": "python",
   "nbconvert_exporter": "python",
   "pygments_lexer": "ipython3",
   "version": "3.10.10"
  },
  "papermill": {
   "default_parameters": {},
   "duration": 2881.994826,
   "end_time": "2023-05-28T21:31:32.614671",
   "environment_variables": {},
   "exception": null,
   "input_path": "__notebook__.ipynb",
   "output_path": "__notebook__.ipynb",
   "parameters": {},
   "start_time": "2023-05-28T20:43:30.619845",
   "version": "2.4.0"
  },
  "widgets": {
   "application/vnd.jupyter.widget-state+json": {
    "state": {
     "0264bb73216c47edbbb202446b0c41e3": {
      "model_module": "catboost-widget",
      "model_module_version": "^1.0.0",
      "model_name": "CatboostWidgetModel",
      "state": {
       "_dom_classes": [],
       "_model_module": "catboost-widget",
       "_model_module_version": "^1.0.0",
       "_model_name": "CatboostWidgetModel",
       "_view_count": null,
       "_view_module": "catboost-widget",
       "_view_module_version": "^1.0.0",
       "_view_name": "CatboostWidgetView",
       "data": {
        "catboost_info": {
         "content": {
          "data": {
           "iterations": [
            {
             "iteration": 0,
             "learn": [
              0.6694714412
             ],
             "passed_time": 0.4774510372,
             "remaining_time": 47.26765268,
             "test": [
              0.6684245317
             ]
            },
            {
             "iteration": 1,
             "learn": [
              0.6459153051
             ],
             "passed_time": 0.947065702,
             "remaining_time": 46.4062194,
             "test": [
              0.6451301331
             ]
            },
            {
             "iteration": 2,
             "learn": [
              0.6229755264
             ],
             "passed_time": 1.404462893,
             "remaining_time": 45.41096688,
             "test": [
              0.623254298
             ]
            },
            {
             "iteration": 3,
             "learn": [
              0.6037566485
             ],
             "passed_time": 1.866023379,
             "remaining_time": 44.78456111,
             "test": [
              0.602467209
             ]
            },
            {
             "iteration": 4,
             "learn": [
              0.5827896722
             ],
             "passed_time": 2.297622121,
             "remaining_time": 43.65482029,
             "test": [
              0.5829104306
             ]
            },
            {
             "iteration": 5,
             "learn": [
              0.5655736126
             ],
             "passed_time": 2.752331688,
             "remaining_time": 43.11986312,
             "test": [
              0.5643160741
             ]
            },
            {
             "iteration": 6,
             "learn": [
              0.5473285003
             ],
             "passed_time": 3.212328416,
             "remaining_time": 42.67807753,
             "test": [
              0.5463912678
             ]
            },
            {
             "iteration": 7,
             "learn": [
              0.5290155815
             ],
             "passed_time": 3.635029085,
             "remaining_time": 41.80283448,
             "test": [
              0.5284688572
             ]
            },
            {
             "iteration": 8,
             "learn": [
              0.5129307497
             ],
             "passed_time": 4.067014141,
             "remaining_time": 41.12203187,
             "test": [
              0.5123547821
             ]
            },
            {
             "iteration": 9,
             "learn": [
              0.4970863404
             ],
             "passed_time": 4.490806498,
             "remaining_time": 40.41725848,
             "test": [
              0.4958693792
             ]
            },
            {
             "iteration": 10,
             "learn": [
              0.4816828041
             ],
             "passed_time": 4.912845052,
             "remaining_time": 39.74938269,
             "test": [
              0.4801587492
             ]
            },
            {
             "iteration": 11,
             "learn": [
              0.4678715652
             ],
             "passed_time": 5.327719502,
             "remaining_time": 39.06994301,
             "test": [
              0.4661344401
             ]
            },
            {
             "iteration": 12,
             "learn": [
              0.4537191861
             ],
             "passed_time": 5.74750022,
             "remaining_time": 38.46403993,
             "test": [
              0.4518174726
             ]
            },
            {
             "iteration": 13,
             "learn": [
              0.4400676938
             ],
             "passed_time": 6.216908029,
             "remaining_time": 38.1895779,
             "test": [
              0.4381921454
             ]
            },
            {
             "iteration": 14,
             "learn": [
              0.4271459156
             ],
             "passed_time": 6.639625793,
             "remaining_time": 37.62454616,
             "test": [
              0.4251544375
             ]
            },
            {
             "iteration": 15,
             "learn": [
              0.4146579313
             ],
             "passed_time": 7.057168522,
             "remaining_time": 37.05013474,
             "test": [
              0.412966648
             ]
            },
            {
             "iteration": 16,
             "learn": [
              0.4036330124
             ],
             "passed_time": 7.469314356,
             "remaining_time": 36.46782891,
             "test": [
              0.4016475061
             ]
            },
            {
             "iteration": 17,
             "learn": [
              0.3928863076
             ],
             "passed_time": 7.900037045,
             "remaining_time": 35.98905765,
             "test": [
              0.3909782278
             ]
            },
            {
             "iteration": 18,
             "learn": [
              0.381980242
             ],
             "passed_time": 8.339197603,
             "remaining_time": 35.5513161,
             "test": [
              0.3801013811
             ]
            },
            {
             "iteration": 19,
             "learn": [
              0.372012725
             ],
             "passed_time": 8.801498726,
             "remaining_time": 35.2059949,
             "test": [
              0.3698485852
             ]
            },
            {
             "iteration": 20,
             "learn": [
              0.3626446837
             ],
             "passed_time": 9.238786555,
             "remaining_time": 34.75543514,
             "test": [
              0.360213555
             ]
            },
            {
             "iteration": 21,
             "learn": [
              0.3530470448
             ],
             "passed_time": 9.662307406,
             "remaining_time": 34.25727171,
             "test": [
              0.3502981032
             ]
            },
            {
             "iteration": 22,
             "learn": [
              0.3436699549
             ],
             "passed_time": 10.08689457,
             "remaining_time": 33.76916879,
             "test": [
              0.3408731668
             ]
            },
            {
             "iteration": 23,
             "learn": [
              0.3353018184
             ],
             "passed_time": 10.52650244,
             "remaining_time": 33.33392441,
             "test": [
              0.3325637958
             ]
            },
            {
             "iteration": 24,
             "learn": [
              0.3269302997
             ],
             "passed_time": 10.96285534,
             "remaining_time": 32.88856602,
             "test": [
              0.324384116
             ]
            },
            {
             "iteration": 25,
             "learn": [
              0.3174827601
             ],
             "passed_time": 11.39155274,
             "remaining_time": 32.42211164,
             "test": [
              0.3149159001
             ]
            },
            {
             "iteration": 26,
             "learn": [
              0.3094694206
             ],
             "passed_time": 11.81774002,
             "remaining_time": 31.95166747,
             "test": [
              0.3066078959
             ]
            },
            {
             "iteration": 27,
             "learn": [
              0.3007393464
             ],
             "passed_time": 12.23976528,
             "remaining_time": 31.47368214,
             "test": [
              0.297807732
             ]
            },
            {
             "iteration": 28,
             "learn": [
              0.2921429013
             ],
             "passed_time": 12.67151909,
             "remaining_time": 31.02337433,
             "test": [
              0.2893596609
             ]
            },
            {
             "iteration": 29,
             "learn": [
              0.2840045273
             ],
             "passed_time": 13.0976555,
             "remaining_time": 30.56119616,
             "test": [
              0.2812502557
             ]
            },
            {
             "iteration": 30,
             "learn": [
              0.2762398048
             ],
             "passed_time": 13.52765325,
             "remaining_time": 30.10993788,
             "test": [
              0.2735591226
             ]
            },
            {
             "iteration": 31,
             "learn": [
              0.2702078717
             ],
             "passed_time": 13.94266327,
             "remaining_time": 29.62815946,
             "test": [
              0.2672817864
             ]
            },
            {
             "iteration": 32,
             "learn": [
              0.2630009856
             ],
             "passed_time": 14.37136988,
             "remaining_time": 29.17823581,
             "test": [
              0.2600070072
             ]
            },
            {
             "iteration": 33,
             "learn": [
              0.2559288898
             ],
             "passed_time": 14.79533902,
             "remaining_time": 28.72036398,
             "test": [
              0.2530866672
             ]
            },
            {
             "iteration": 34,
             "learn": [
              0.2492706909
             ],
             "passed_time": 15.22458618,
             "remaining_time": 28.27423147,
             "test": [
              0.2463514422
             ]
            },
            {
             "iteration": 35,
             "learn": [
              0.2427617059
             ],
             "passed_time": 15.65570505,
             "remaining_time": 27.83236454,
             "test": [
              0.240065097
             ]
            },
            {
             "iteration": 36,
             "learn": [
              0.2375351214
             ],
             "passed_time": 16.1267987,
             "remaining_time": 27.45914374,
             "test": [
              0.2347094636
             ]
            },
            {
             "iteration": 37,
             "learn": [
              0.2315594351
             ],
             "passed_time": 16.55600697,
             "remaining_time": 27.01243242,
             "test": [
              0.2287062674
             ]
            },
            {
             "iteration": 38,
             "learn": [
              0.2257125316
             ],
             "passed_time": 17.1664144,
             "remaining_time": 26.85003278,
             "test": [
              0.2229418659
             ]
            },
            {
             "iteration": 39,
             "learn": [
              0.2203054066
             ],
             "passed_time": 17.86542149,
             "remaining_time": 26.79813224,
             "test": [
              0.2171961161
             ]
            },
            {
             "iteration": 40,
             "learn": [
              0.2148629761
             ],
             "passed_time": 18.44839748,
             "remaining_time": 26.54769393,
             "test": [
              0.2114757791
             ]
            },
            {
             "iteration": 41,
             "learn": [
              0.2098346745
             ],
             "passed_time": 18.91435824,
             "remaining_time": 26.11982804,
             "test": [
              0.2063917014
             ]
            },
            {
             "iteration": 42,
             "learn": [
              0.2049748631
             ],
             "passed_time": 19.35489314,
             "remaining_time": 25.65648626,
             "test": [
              0.2014611811
             ]
            },
            {
             "iteration": 43,
             "learn": [
              0.2002834548
             ],
             "passed_time": 19.77175368,
             "remaining_time": 25.16405014,
             "test": [
              0.1967681118
             ]
            },
            {
             "iteration": 44,
             "learn": [
              0.1957559738
             ],
             "passed_time": 20.24065902,
             "remaining_time": 24.73858325,
             "test": [
              0.1919711606
             ]
            },
            {
             "iteration": 45,
             "learn": [
              0.1913252862
             ],
             "passed_time": 20.66590656,
             "remaining_time": 24.25997727,
             "test": [
              0.1874710135
             ]
            },
            {
             "iteration": 46,
             "learn": [
              0.1870278944
             ],
             "passed_time": 21.12262387,
             "remaining_time": 23.81912904,
             "test": [
              0.1830201284
             ]
            },
            {
             "iteration": 47,
             "learn": [
              0.1828453935
             ],
             "passed_time": 21.57588005,
             "remaining_time": 23.37387005,
             "test": [
              0.1788221236
             ]
            },
            {
             "iteration": 48,
             "learn": [
              0.1787294096
             ],
             "passed_time": 22.05461334,
             "remaining_time": 22.95480164,
             "test": [
              0.1745102959
             ]
            },
            {
             "iteration": 49,
             "learn": [
              0.1753073195
             ],
             "passed_time": 22.43399347,
             "remaining_time": 22.43399347,
             "test": [
              0.171168314
             ]
            },
            {
             "iteration": 50,
             "learn": [
              0.1720051646
             ],
             "passed_time": 22.81380101,
             "remaining_time": 21.91914215,
             "test": [
              0.1679637015
             ]
            },
            {
             "iteration": 51,
             "learn": [
              0.1686794571
             ],
             "passed_time": 23.21272548,
             "remaining_time": 21.42713122,
             "test": [
              0.1644151624
             ]
            },
            {
             "iteration": 52,
             "learn": [
              0.1649550403
             ],
             "passed_time": 23.68765204,
             "remaining_time": 21.00603106,
             "test": [
              0.1607829689
             ]
            },
            {
             "iteration": 53,
             "learn": [
              0.1619401482
             ],
             "passed_time": 24.07407127,
             "remaining_time": 20.50754219,
             "test": [
              0.1577371599
             ]
            },
            {
             "iteration": 54,
             "learn": [
              0.1583920775
             ],
             "passed_time": 24.55777495,
             "remaining_time": 20.09272496,
             "test": [
              0.1540645997
             ]
            },
            {
             "iteration": 55,
             "learn": [
              0.1554821134
             ],
             "passed_time": 24.95342357,
             "remaining_time": 19.60626138,
             "test": [
              0.1510919456
             ]
            },
            {
             "iteration": 56,
             "learn": [
              0.1526977204
             ],
             "passed_time": 25.35651671,
             "remaining_time": 19.12860032,
             "test": [
              0.1482706044
             ]
            },
            {
             "iteration": 57,
             "learn": [
              0.1497937816
             ],
             "passed_time": 25.75111248,
             "remaining_time": 18.64735731,
             "test": [
              0.1452695142
             ]
            },
            {
             "iteration": 58,
             "learn": [
              0.147206197
             ],
             "passed_time": 26.14863743,
             "remaining_time": 18.17108703,
             "test": [
              0.1426626621
             ]
            },
            {
             "iteration": 59,
             "learn": [
              0.1450094743
             ],
             "passed_time": 26.54344329,
             "remaining_time": 17.69562886,
             "test": [
              0.1405702302
             ]
            },
            {
             "iteration": 60,
             "learn": [
              0.1419508518
             ],
             "passed_time": 27.02332852,
             "remaining_time": 17.27721004,
             "test": [
              0.1373925721
             ]
            },
            {
             "iteration": 61,
             "learn": [
              0.1395457807
             ],
             "passed_time": 27.42306065,
             "remaining_time": 16.80768234,
             "test": [
              0.134982099
             ]
            },
            {
             "iteration": 62,
             "learn": [
              0.1366415304
             ],
             "passed_time": 27.93402645,
             "remaining_time": 16.40569807,
             "test": [
              0.1319954273
             ]
            },
            {
             "iteration": 63,
             "learn": [
              0.1346313308
             ],
             "passed_time": 28.29569662,
             "remaining_time": 15.91632935,
             "test": [
              0.1300386816
             ]
            },
            {
             "iteration": 64,
             "learn": [
              0.1327069326
             ],
             "passed_time": 28.67931805,
             "remaining_time": 15.44270972,
             "test": [
              0.1281587068
             ]
            },
            {
             "iteration": 65,
             "learn": [
              0.1304405864
             ],
             "passed_time": 29.08347283,
             "remaining_time": 14.98239509,
             "test": [
              0.1257005608
             ]
            },
            {
             "iteration": 66,
             "learn": [
              0.1278305205
             ],
             "passed_time": 29.56481946,
             "remaining_time": 14.56177675,
             "test": [
              0.1229616036
             ]
            },
            {
             "iteration": 67,
             "learn": [
              0.1258153622
             ],
             "passed_time": 29.97957524,
             "remaining_time": 14.10803541,
             "test": [
              0.1210219007
             ]
            },
            {
             "iteration": 68,
             "learn": [
              0.124154377
             ],
             "passed_time": 30.33815797,
             "remaining_time": 13.63018691,
             "test": [
              0.119318984
             ]
            },
            {
             "iteration": 69,
             "learn": [
              0.1227228177
             ],
             "passed_time": 30.71395368,
             "remaining_time": 13.163123,
             "test": [
              0.1178524717
             ]
            },
            {
             "iteration": 70,
             "learn": [
              0.1209935392
             ],
             "passed_time": 31.08385482,
             "remaining_time": 12.69622239,
             "test": [
              0.1160071817
             ]
            },
            {
             "iteration": 71,
             "learn": [
              0.1191046305
             ],
             "passed_time": 31.48257001,
             "remaining_time": 12.24322167,
             "test": [
              0.1140887526
             ]
            },
            {
             "iteration": 72,
             "learn": [
              0.1168683111
             ],
             "passed_time": 31.92771433,
             "remaining_time": 11.80888064,
             "test": [
              0.1118675896
             ]
            },
            {
             "iteration": 73,
             "learn": [
              0.1151598977
             ],
             "passed_time": 32.3423367,
             "remaining_time": 11.36352371,
             "test": [
              0.1101827741
             ]
            },
            {
             "iteration": 74,
             "learn": [
              0.1138425501
             ],
             "passed_time": 32.66627733,
             "remaining_time": 10.88875911,
             "test": [
              0.1091331303
             ]
            },
            {
             "iteration": 75,
             "learn": [
              0.112342112
             ],
             "passed_time": 33.02896457,
             "remaining_time": 10.43019934,
             "test": [
              0.1074898088
             ]
            },
            {
             "iteration": 76,
             "learn": [
              0.1103081504
             ],
             "passed_time": 33.48161939,
             "remaining_time": 10.0010032,
             "test": [
              0.1054555938
             ]
            },
            {
             "iteration": 77,
             "learn": [
              0.1092003738
             ],
             "passed_time": 33.80939315,
             "remaining_time": 9.535982683,
             "test": [
              0.1043458668
             ]
            },
            {
             "iteration": 78,
             "learn": [
              0.1072348462
             ],
             "passed_time": 34.26199559,
             "remaining_time": 9.107619081,
             "test": [
              0.1024238165
             ]
            },
            {
             "iteration": 79,
             "learn": [
              0.1052190051
             ],
             "passed_time": 34.72247812,
             "remaining_time": 8.680619531,
             "test": [
              0.1003669776
             ]
            },
            {
             "iteration": 80,
             "learn": [
              0.1042283741
             ],
             "passed_time": 35.04522384,
             "remaining_time": 8.220484603,
             "test": [
              0.09935869811
             ]
            },
            {
             "iteration": 81,
             "learn": [
              0.1028232473
             ],
             "passed_time": 35.46477001,
             "remaining_time": 7.784949515,
             "test": [
              0.09803942588
             ]
            },
            {
             "iteration": 82,
             "learn": [
              0.1012374611
             ],
             "passed_time": 35.88218549,
             "remaining_time": 7.349363293,
             "test": [
              0.09655627392
             ]
            },
            {
             "iteration": 83,
             "learn": [
              0.100239645
             ],
             "passed_time": 36.21913528,
             "remaining_time": 6.898882911,
             "test": [
              0.09573665328
             ]
            },
            {
             "iteration": 84,
             "learn": [
              0.09910164682
             ],
             "passed_time": 36.58779647,
             "remaining_time": 6.456669965,
             "test": [
              0.0945850928
             ]
            },
            {
             "iteration": 85,
             "learn": [
              0.09791572027
             ],
             "passed_time": 37.00623258,
             "remaining_time": 6.024270419,
             "test": [
              0.0935213109
             ]
            },
            {
             "iteration": 86,
             "learn": [
              0.09613957709
             ],
             "passed_time": 37.47496292,
             "remaining_time": 5.599707103,
             "test": [
              0.09174199651
             ]
            },
            {
             "iteration": 87,
             "learn": [
              0.09513300004
             ],
             "passed_time": 37.80479617,
             "remaining_time": 5.155199477,
             "test": [
              0.0908085466
             ]
            },
            {
             "iteration": 88,
             "learn": [
              0.09418140901
             ],
             "passed_time": 38.13306055,
             "remaining_time": 4.7130749,
             "test": [
              0.08991553964
             ]
            },
            {
             "iteration": 89,
             "learn": [
              0.09258916373
             ],
             "passed_time": 38.58945809,
             "remaining_time": 4.287717566,
             "test": [
              0.08838035426
             ]
            },
            {
             "iteration": 90,
             "learn": [
              0.09157891455
             ],
             "passed_time": 39.01133666,
             "remaining_time": 3.858264065,
             "test": [
              0.08732168083
             ]
            },
            {
             "iteration": 91,
             "learn": [
              0.09072958825
             ],
             "passed_time": 39.32552137,
             "remaining_time": 3.419610554,
             "test": [
              0.08643219309
             ]
            },
            {
             "iteration": 92,
             "learn": [
              0.08905092318
             ],
             "passed_time": 39.81494518,
             "remaining_time": 2.996823831,
             "test": [
              0.08470758793
             ]
            },
            {
             "iteration": 93,
             "learn": [
              0.08774747571
             ],
             "passed_time": 40.21222679,
             "remaining_time": 2.56673788,
             "test": [
              0.08335227821
             ]
            },
            {
             "iteration": 94,
             "learn": [
              0.08694952663
             ],
             "passed_time": 40.55422464,
             "remaining_time": 2.134432876,
             "test": [
              0.08263364152
             ]
            },
            {
             "iteration": 95,
             "learn": [
              0.08594104001
             ],
             "passed_time": 40.9303604,
             "remaining_time": 1.705431683,
             "test": [
              0.08153727038
             ]
            },
            {
             "iteration": 96,
             "learn": [
              0.08446759557
             ],
             "passed_time": 41.385713,
             "remaining_time": 1.279970505,
             "test": [
              0.08002959236
             ]
            },
            {
             "iteration": 97,
             "learn": [
              0.08386156492
             ],
             "passed_time": 41.72772745,
             "remaining_time": 0.8515862745,
             "test": [
              0.07958903196
             ]
            },
            {
             "iteration": 98,
             "learn": [
              0.08244245415
             ],
             "passed_time": 42.20203117,
             "remaining_time": 0.4262831431,
             "test": [
              0.07814100602
             ]
            },
            {
             "iteration": 99,
             "learn": [
              0.08156890468
             ],
             "passed_time": 42.53662337,
             "remaining_time": 0,
             "test": [
              0.07735933275
             ]
            }
           ],
           "meta": {
            "iteration_count": 100,
            "launch_mode": "Train",
            "learn_metrics": [
             {
              "best_value": "Min",
              "name": "CrossEntropy"
             }
            ],
            "learn_sets": [
             "learn"
            ],
            "name": "experiment",
            "parameters": "",
            "test_metrics": [
             {
              "best_value": "Min",
              "name": "CrossEntropy"
             }
            ],
            "test_sets": [
             "test"
            ]
           }
          },
          "passed_iterations": 99,
          "total_iterations": 100
         },
         "name": "catboost_info",
         "path": "catboost_info"
        }
       },
       "layout": "IPY_MODEL_0d77d1970aef4648a9bb4d6b3be6c8af"
      }
     },
     "05df7d69c6974de394206c522c912dc7": {
      "model_module": "catboost-widget",
      "model_module_version": "^1.0.0",
      "model_name": "CatboostWidgetModel",
      "state": {
       "_dom_classes": [],
       "_model_module": "catboost-widget",
       "_model_module_version": "^1.0.0",
       "_model_name": "CatboostWidgetModel",
       "_view_count": null,
       "_view_module": "catboost-widget",
       "_view_module_version": "^1.0.0",
       "_view_name": "CatboostWidgetView",
       "data": {
        "catboost_info": {
         "content": {
          "data": {
           "iterations": [
            {
             "iteration": 0,
             "learn": [
              0.6613893137
             ],
             "passed_time": 0.7059614084,
             "remaining_time": 69.89017943,
             "test": [
              0.6636715634
             ]
            },
            {
             "iteration": 1,
             "learn": [
              0.6363225613
             ],
             "passed_time": 1.146719365,
             "remaining_time": 56.1892489,
             "test": [
              0.6359062216
             ]
            },
            {
             "iteration": 2,
             "learn": [
              0.6093893659
             ],
             "passed_time": 1.606441742,
             "remaining_time": 51.94161633,
             "test": [
              0.609712785
             ]
            },
            {
             "iteration": 3,
             "learn": [
              0.5837343645
             ],
             "passed_time": 1.952514914,
             "remaining_time": 46.86035794,
             "test": [
              0.5849625463
             ]
            },
            {
             "iteration": 4,
             "learn": [
              0.5622114597
             ],
             "passed_time": 2.362361842,
             "remaining_time": 44.884875,
             "test": [
              0.5615433498
             ]
            },
            {
             "iteration": 5,
             "learn": [
              0.5376777327
             ],
             "passed_time": 2.790348028,
             "remaining_time": 43.71545243,
             "test": [
              0.5393547776
             ]
            },
            {
             "iteration": 6,
             "learn": [
              0.5169184935
             ],
             "passed_time": 3.122140337,
             "remaining_time": 41.47986448,
             "test": [
              0.518299197
             ]
            },
            {
             "iteration": 7,
             "learn": [
              0.4987198749
             ],
             "passed_time": 3.577459084,
             "remaining_time": 41.14077946,
             "test": [
              0.4983038695
             ]
            },
            {
             "iteration": 8,
             "learn": [
              0.4785624257
             ],
             "passed_time": 4.022426919,
             "remaining_time": 40.67120551,
             "test": [
              0.4792908313
             ]
            },
            {
             "iteration": 9,
             "learn": [
              0.4606174896
             ],
             "passed_time": 4.448931018,
             "remaining_time": 40.04037916,
             "test": [
              0.4611948075
             ]
            },
            {
             "iteration": 10,
             "learn": [
              0.4441390017
             ],
             "passed_time": 4.878452744,
             "remaining_time": 39.47111766,
             "test": [
              0.443955869
             ]
            },
            {
             "iteration": 11,
             "learn": [
              0.4280998294
             ],
             "passed_time": 5.256078055,
             "remaining_time": 38.54457241,
             "test": [
              0.427518777
             ]
            },
            {
             "iteration": 12,
             "learn": [
              0.4122878432
             ],
             "passed_time": 5.684456326,
             "remaining_time": 38.0421308,
             "test": [
              0.4118323437
             ]
            },
            {
             "iteration": 13,
             "learn": [
              0.3968333609
             ],
             "passed_time": 6.077603736,
             "remaining_time": 37.33385152,
             "test": [
              0.3968532296
             ]
            },
            {
             "iteration": 14,
             "learn": [
              0.382464191
             ],
             "passed_time": 6.496707904,
             "remaining_time": 36.81467812,
             "test": [
              0.3825380161
             ]
            },
            {
             "iteration": 15,
             "learn": [
              0.367397489
             ],
             "passed_time": 6.862256925,
             "remaining_time": 36.02684886,
             "test": [
              0.3688481414
             ]
            },
            {
             "iteration": 16,
             "learn": [
              0.3539647823
             ],
             "passed_time": 7.262617577,
             "remaining_time": 35.45866229,
             "test": [
              0.3557461872
             ]
            },
            {
             "iteration": 17,
             "learn": [
              0.343256278
             ],
             "passed_time": 7.723931199,
             "remaining_time": 35.18679769,
             "test": [
              0.3432019741
             ]
            },
            {
             "iteration": 18,
             "learn": [
              0.3301580146
             ],
             "passed_time": 8.058972713,
             "remaining_time": 34.35667315,
             "test": [
              0.3311845769
             ]
            },
            {
             "iteration": 19,
             "learn": [
              0.3197462322
             ],
             "passed_time": 8.504135571,
             "remaining_time": 34.01654228,
             "test": [
              0.3196655704
             ]
            },
            {
             "iteration": 20,
             "learn": [
              0.307106277
             ],
             "passed_time": 8.889532258,
             "remaining_time": 33.44157373,
             "test": [
              0.3086183418
             ]
            },
            {
             "iteration": 21,
             "learn": [
              0.2969610981
             ],
             "passed_time": 9.327574838,
             "remaining_time": 33.07049261,
             "test": [
              0.2980062205
             ]
            },
            {
             "iteration": 22,
             "learn": [
              0.2868676786
             ],
             "passed_time": 9.687705325,
             "remaining_time": 32.43275261,
             "test": [
              0.2878281479
             ]
            },
            {
             "iteration": 23,
             "learn": [
              0.2765986292
             ],
             "passed_time": 10.10075968,
             "remaining_time": 31.98573898,
             "test": [
              0.2780576071
             ]
            },
            {
             "iteration": 24,
             "learn": [
              0.2666446299
             ],
             "passed_time": 10.49787001,
             "remaining_time": 31.49361002,
             "test": [
              0.2686702453
             ]
            },
            {
             "iteration": 25,
             "learn": [
              0.2580764168
             ],
             "passed_time": 10.91419556,
             "remaining_time": 31.06347968,
             "test": [
              0.2596108234
             ]
            },
            {
             "iteration": 26,
             "learn": [
              0.2500566168
             ],
             "passed_time": 11.36402261,
             "remaining_time": 30.72495002,
             "test": [
              0.2509351367
             ]
            },
            {
             "iteration": 27,
             "learn": [
              0.2420677042
             ],
             "passed_time": 11.75682986,
             "remaining_time": 30.2318482,
             "test": [
              0.2425892634
             ]
            },
            {
             "iteration": 28,
             "learn": [
              0.233790765
             ],
             "passed_time": 12.18509134,
             "remaining_time": 29.832465,
             "test": [
              0.2345613801
             ]
            },
            {
             "iteration": 29,
             "learn": [
              0.2259684665
             ],
             "passed_time": 12.59851482,
             "remaining_time": 29.39653459,
             "test": [
              0.2268368995
             ]
            },
            {
             "iteration": 30,
             "learn": [
              0.2186294845
             ],
             "passed_time": 12.99770125,
             "remaining_time": 28.93036729,
             "test": [
              0.2194000334
             ]
            },
            {
             "iteration": 31,
             "learn": [
              0.211039728
             ],
             "passed_time": 13.3860082,
             "remaining_time": 28.44526743,
             "test": [
              0.2122392674
             ]
            },
            {
             "iteration": 32,
             "learn": [
              0.2034721545
             ],
             "passed_time": 13.83851117,
             "remaining_time": 28.09637117,
             "test": [
              0.2053416089
             ]
            },
            {
             "iteration": 33,
             "learn": [
              0.196644242
             ],
             "passed_time": 14.28476686,
             "remaining_time": 27.72925332,
             "test": [
              0.1986006148
             ]
            },
            {
             "iteration": 34,
             "learn": [
              0.1912936255
             ],
             "passed_time": 14.73957437,
             "remaining_time": 27.37349526,
             "test": [
              0.1921599659
             ]
            },
            {
             "iteration": 35,
             "learn": [
              0.1840783544
             ],
             "passed_time": 15.11187576,
             "remaining_time": 26.86555691,
             "test": [
              0.1859854769
             ]
            },
            {
             "iteration": 36,
             "learn": [
              0.1788975703
             ],
             "passed_time": 15.51040008,
             "remaining_time": 26.40960014,
             "test": [
              0.1800293014
             ]
            },
            {
             "iteration": 37,
             "learn": [
              0.172338933
             ],
             "passed_time": 15.88494544,
             "remaining_time": 25.91754255,
             "test": [
              0.1742863761
             ]
            },
            {
             "iteration": 38,
             "learn": [
              0.1677828142
             ],
             "passed_time": 16.32363676,
             "remaining_time": 25.53184211,
             "test": [
              0.1686214286
             ]
            },
            {
             "iteration": 39,
             "learn": [
              0.1615702487
             ],
             "passed_time": 16.73059299,
             "remaining_time": 25.09588948,
             "test": [
              0.163277283
             ]
            },
            {
             "iteration": 40,
             "learn": [
              0.156447875
             ],
             "passed_time": 17.15782697,
             "remaining_time": 24.6905315,
             "test": [
              0.1580089338
             ]
            },
            {
             "iteration": 41,
             "learn": [
              0.152132056
             ],
             "passed_time": 17.58412001,
             "remaining_time": 24.2828324,
             "test": [
              0.1530306784
             ]
            },
            {
             "iteration": 42,
             "learn": [
              0.1471283848
             ],
             "passed_time": 18.03332005,
             "remaining_time": 23.90463355,
             "test": [
              0.1480998158
             ]
            },
            {
             "iteration": 43,
             "learn": [
              0.1420127606
             ],
             "passed_time": 18.46318352,
             "remaining_time": 23.4985972,
             "test": [
              0.143458489
             ]
            },
            {
             "iteration": 44,
             "learn": [
              0.1372558426
             ],
             "passed_time": 18.91002373,
             "remaining_time": 23.11225122,
             "test": [
              0.1389769173
             ]
            },
            {
             "iteration": 45,
             "learn": [
              0.1330325806
             ],
             "passed_time": 19.3851759,
             "remaining_time": 22.75651084,
             "test": [
              0.1345316683
             ]
            },
            {
             "iteration": 46,
             "learn": [
              0.1290327782
             ],
             "passed_time": 19.7848289,
             "remaining_time": 22.31055174,
             "test": [
              0.1303514405
             ]
            },
            {
             "iteration": 47,
             "learn": [
              0.1251002903
             ],
             "passed_time": 20.28364859,
             "remaining_time": 21.97395264,
             "test": [
              0.126204284
             ]
            },
            {
             "iteration": 48,
             "learn": [
              0.121190291
             ],
             "passed_time": 20.7230044,
             "remaining_time": 21.56884132,
             "test": [
              0.1223012398
             ]
            },
            {
             "iteration": 49,
             "learn": [
              0.117305649
             ],
             "passed_time": 21.06940961,
             "remaining_time": 21.06940961,
             "test": [
              0.1185282637
             ]
            },
            {
             "iteration": 50,
             "learn": [
              0.1134444944
             ],
             "passed_time": 21.49016193,
             "remaining_time": 20.64741048,
             "test": [
              0.1148826705
             ]
            },
            {
             "iteration": 51,
             "learn": [
              0.1098713027
             ],
             "passed_time": 21.91488398,
             "remaining_time": 20.22912368,
             "test": [
              0.1112503339
             ]
            },
            {
             "iteration": 52,
             "learn": [
              0.1070397829
             ],
             "passed_time": 22.26018578,
             "remaining_time": 19.74016475,
             "test": [
              0.1078421773
             ]
            },
            {
             "iteration": 53,
             "learn": [
              0.1035195285
             ],
             "passed_time": 22.61295799,
             "remaining_time": 19.26289014,
             "test": [
              0.1045465022
             ]
            },
            {
             "iteration": 54,
             "learn": [
              0.09985821969
             ],
             "passed_time": 23.07189646,
             "remaining_time": 18.87700619,
             "test": [
              0.1013614529
             ]
            },
            {
             "iteration": 55,
             "learn": [
              0.09725078869
             ],
             "passed_time": 23.52953771,
             "remaining_time": 18.48749392,
             "test": [
              0.09817086717
             ]
            },
            {
             "iteration": 56,
             "learn": [
              0.0938784959
             ],
             "passed_time": 23.96496558,
             "remaining_time": 18.07883368,
             "test": [
              0.09519092144
             ]
            },
            {
             "iteration": 57,
             "learn": [
              0.09133699286
             ],
             "passed_time": 24.37764241,
             "remaining_time": 17.65277554,
             "test": [
              0.09228219442
             ]
            },
            {
             "iteration": 58,
             "learn": [
              0.08806770423
             ],
             "passed_time": 24.79634262,
             "remaining_time": 17.23135673,
             "test": [
              0.08939243597
             ]
            },
            {
             "iteration": 59,
             "learn": [
              0.0856101374
             ],
             "passed_time": 25.23863689,
             "remaining_time": 16.82575793,
             "test": [
              0.0865967679
             ]
            },
            {
             "iteration": 60,
             "learn": [
              0.08271242081
             ],
             "passed_time": 25.6662568,
             "remaining_time": 16.40957402,
             "test": [
              0.08398570506
             ]
            },
            {
             "iteration": 61,
             "learn": [
              0.08020860866
             ],
             "passed_time": 26.0821167,
             "remaining_time": 15.98581346,
             "test": [
              0.08136747952
             ]
            },
            {
             "iteration": 62,
             "learn": [
              0.07807378252
             ],
             "passed_time": 26.50321704,
             "remaining_time": 15.56538144,
             "test": [
              0.0789219392
             ]
            },
            {
             "iteration": 63,
             "learn": [
              0.07560364414
             ],
             "passed_time": 26.95109121,
             "remaining_time": 15.15998881,
             "test": [
              0.07646985269
             ]
            },
            {
             "iteration": 64,
             "learn": [
              0.07307699201
             ],
             "passed_time": 27.36309609,
             "remaining_time": 14.73397482,
             "test": [
              0.07409561157
             ]
            },
            {
             "iteration": 65,
             "learn": [
              0.07073462341
             ],
             "passed_time": 27.810214,
             "remaining_time": 14.32647388,
             "test": [
              0.07180996061
             ]
            },
            {
             "iteration": 66,
             "learn": [
              0.06857972241
             ],
             "passed_time": 28.26632474,
             "remaining_time": 13.92221965,
             "test": [
              0.06966284517
             ]
            },
            {
             "iteration": 67,
             "learn": [
              0.06653514805
             ],
             "passed_time": 28.74157501,
             "remaining_time": 13.52544706,
             "test": [
              0.06758387694
             ]
            },
            {
             "iteration": 68,
             "learn": [
              0.06456052512
             ],
             "passed_time": 29.33382331,
             "remaining_time": 13.1789641,
             "test": [
              0.0654989886
             ]
            },
            {
             "iteration": 69,
             "learn": [
              0.06260415362
             ],
             "passed_time": 29.82169427,
             "remaining_time": 12.78072611,
             "test": [
              0.06348153397
             ]
            },
            {
             "iteration": 70,
             "learn": [
              0.06065955876
             ],
             "passed_time": 30.20130371,
             "remaining_time": 12.33574377,
             "test": [
              0.06159477275
             ]
            },
            {
             "iteration": 71,
             "learn": [
              0.05875518636
             ],
             "passed_time": 30.64289965,
             "remaining_time": 11.9166832,
             "test": [
              0.05970070508
             ]
            },
            {
             "iteration": 72,
             "learn": [
              0.05695493193
             ],
             "passed_time": 31.04744234,
             "remaining_time": 11.48330059,
             "test": [
              0.05793100996
             ]
            },
            {
             "iteration": 73,
             "learn": [
              0.05552400687
             ],
             "passed_time": 31.50044534,
             "remaining_time": 11.06772404,
             "test": [
              0.05621811831
             ]
            },
            {
             "iteration": 74,
             "learn": [
              0.05376154914
             ],
             "passed_time": 31.91713578,
             "remaining_time": 10.63904526,
             "test": [
              0.05449151332
             ]
            },
            {
             "iteration": 75,
             "learn": [
              0.051926513
             ],
             "passed_time": 32.35493867,
             "remaining_time": 10.21734905,
             "test": [
              0.05288397521
             ]
            },
            {
             "iteration": 76,
             "learn": [
              0.05062006363
             ],
             "passed_time": 32.83526325,
             "remaining_time": 9.807935775,
             "test": [
              0.05132742276
             ]
            },
            {
             "iteration": 77,
             "learn": [
              0.04892756643
             ],
             "passed_time": 33.24124298,
             "remaining_time": 9.375735199,
             "test": [
              0.0498178151
             ]
            },
            {
             "iteration": 78,
             "learn": [
              0.0474365913
             ],
             "passed_time": 33.63387324,
             "remaining_time": 8.940649847,
             "test": [
              0.04829417976
             ]
            },
            {
             "iteration": 79,
             "learn": [
              0.04599537916
             ],
             "passed_time": 34.03096121,
             "remaining_time": 8.507740301,
             "test": [
              0.04683039801
             ]
            },
            {
             "iteration": 80,
             "learn": [
              0.04473791084
             ],
             "passed_time": 34.48080465,
             "remaining_time": 8.088089979,
             "test": [
              0.04540370183
             ]
            },
            {
             "iteration": 81,
             "learn": [
              0.04317903725
             ],
             "passed_time": 34.85573372,
             "remaining_time": 7.651258621,
             "test": [
              0.04407469263
             ]
            },
            {
             "iteration": 82,
             "learn": [
              0.04204873407
             ],
             "passed_time": 35.17999906,
             "remaining_time": 7.205541976,
             "test": [
              0.0427334411
             ]
            },
            {
             "iteration": 83,
             "learn": [
              0.04079848901
             ],
             "passed_time": 35.56283556,
             "remaining_time": 6.773873439,
             "test": [
              0.04143576809
             ]
            },
            {
             "iteration": 84,
             "learn": [
              0.03943004769
             ],
             "passed_time": 35.99779154,
             "remaining_time": 6.352551448,
             "test": [
              0.04017957951
             ]
            },
            {
             "iteration": 85,
             "learn": [
              0.03821239283
             ],
             "passed_time": 36.44030753,
             "remaining_time": 5.932143087,
             "test": [
              0.03896034746
             ]
            },
            {
             "iteration": 86,
             "learn": [
              0.03717348725
             ],
             "passed_time": 36.80089379,
             "remaining_time": 5.49898413,
             "test": [
              0.03777948592
             ]
            },
            {
             "iteration": 87,
             "learn": [
              0.03612216929
             ],
             "passed_time": 37.21730495,
             "remaining_time": 5.075087039,
             "test": [
              0.03664621692
             ]
            },
            {
             "iteration": 88,
             "learn": [
              0.03494735823
             ],
             "passed_time": 37.65251297,
             "remaining_time": 4.653681379,
             "test": [
              0.03553880844
             ]
            },
            {
             "iteration": 89,
             "learn": [
              0.03390483087
             ],
             "passed_time": 38.1066165,
             "remaining_time": 4.234068501,
             "test": [
              0.03450617383
             ]
            },
            {
             "iteration": 90,
             "learn": [
              0.03289632877
             ],
             "passed_time": 38.48647871,
             "remaining_time": 3.806355037,
             "test": [
              0.03346365026
             ]
            },
            {
             "iteration": 91,
             "learn": [
              0.03190246364
             ],
             "passed_time": 38.93257126,
             "remaining_time": 3.385440979,
             "test": [
              0.03245738853
             ]
            },
            {
             "iteration": 92,
             "learn": [
              0.03092380475
             ],
             "passed_time": 39.33447922,
             "remaining_time": 2.960659726,
             "test": [
              0.03147852496
             ]
            },
            {
             "iteration": 93,
             "learn": [
              0.02998916677
             ],
             "passed_time": 39.8023076,
             "remaining_time": 2.540572825,
             "test": [
              0.03056624471
             ]
            },
            {
             "iteration": 94,
             "learn": [
              0.0290832252
             ],
             "passed_time": 40.24560614,
             "remaining_time": 2.118189797,
             "test": [
              0.0296817534
             ]
            },
            {
             "iteration": 95,
             "learn": [
              0.02830030935
             ],
             "passed_time": 40.65036669,
             "remaining_time": 1.693765279,
             "test": [
              0.02878706341
             ]
            },
            {
             "iteration": 96,
             "learn": [
              0.02740880349
             ],
             "passed_time": 41.0510455,
             "remaining_time": 1.269619964,
             "test": [
              0.02795742211
             ]
            },
            {
             "iteration": 97,
             "learn": [
              0.02652117581
             ],
             "passed_time": 41.53546947,
             "remaining_time": 0.8476626422,
             "test": [
              0.0271537035
             ]
            },
            {
             "iteration": 98,
             "learn": [
              0.0258410977
             ],
             "passed_time": 41.91826003,
             "remaining_time": 0.423416768,
             "test": [
              0.02633986894
             ]
            },
            {
             "iteration": 99,
             "learn": [
              0.02497764843
             ],
             "passed_time": 42.30260276,
             "remaining_time": 0,
             "test": [
              0.02554904709
             ]
            }
           ],
           "meta": {
            "iteration_count": 100,
            "launch_mode": "Train",
            "learn_metrics": [
             {
              "best_value": "Min",
              "name": "CrossEntropy"
             }
            ],
            "learn_sets": [
             "learn"
            ],
            "name": "experiment",
            "parameters": "",
            "test_metrics": [
             {
              "best_value": "Min",
              "name": "CrossEntropy"
             }
            ],
            "test_sets": [
             "test"
            ]
           }
          },
          "passed_iterations": 99,
          "total_iterations": 100
         },
         "name": "catboost_info",
         "path": "catboost_info"
        }
       },
       "layout": "IPY_MODEL_58a8db05bb5747438da5375e010c0cc4"
      }
     },
     "0b6f4b0f1a474005b511df9aebe9981a": {
      "model_module": "@jupyter-widgets/base",
      "model_module_version": "1.2.0",
      "model_name": "LayoutModel",
      "state": {
       "_model_module": "@jupyter-widgets/base",
       "_model_module_version": "1.2.0",
       "_model_name": "LayoutModel",
       "_view_count": null,
       "_view_module": "@jupyter-widgets/base",
       "_view_module_version": "1.2.0",
       "_view_name": "LayoutView",
       "align_content": null,
       "align_items": null,
       "align_self": "stretch",
       "border": null,
       "bottom": null,
       "display": null,
       "flex": null,
       "flex_flow": null,
       "grid_area": null,
       "grid_auto_columns": null,
       "grid_auto_flow": null,
       "grid_auto_rows": null,
       "grid_column": null,
       "grid_gap": null,
       "grid_row": null,
       "grid_template_areas": null,
       "grid_template_columns": null,
       "grid_template_rows": null,
       "height": "500px",
       "justify_content": null,
       "justify_items": null,
       "left": null,
       "margin": null,
       "max_height": null,
       "max_width": null,
       "min_height": null,
       "min_width": null,
       "object_fit": null,
       "object_position": null,
       "order": null,
       "overflow": null,
       "overflow_x": null,
       "overflow_y": null,
       "padding": null,
       "right": null,
       "top": null,
       "visibility": null,
       "width": null
      }
     },
     "0d77d1970aef4648a9bb4d6b3be6c8af": {
      "model_module": "@jupyter-widgets/base",
      "model_module_version": "1.2.0",
      "model_name": "LayoutModel",
      "state": {
       "_model_module": "@jupyter-widgets/base",
       "_model_module_version": "1.2.0",
       "_model_name": "LayoutModel",
       "_view_count": null,
       "_view_module": "@jupyter-widgets/base",
       "_view_module_version": "1.2.0",
       "_view_name": "LayoutView",
       "align_content": null,
       "align_items": null,
       "align_self": "stretch",
       "border": null,
       "bottom": null,
       "display": null,
       "flex": null,
       "flex_flow": null,
       "grid_area": null,
       "grid_auto_columns": null,
       "grid_auto_flow": null,
       "grid_auto_rows": null,
       "grid_column": null,
       "grid_gap": null,
       "grid_row": null,
       "grid_template_areas": null,
       "grid_template_columns": null,
       "grid_template_rows": null,
       "height": "500px",
       "justify_content": null,
       "justify_items": null,
       "left": null,
       "margin": null,
       "max_height": null,
       "max_width": null,
       "min_height": null,
       "min_width": null,
       "object_fit": null,
       "object_position": null,
       "order": null,
       "overflow": null,
       "overflow_x": null,
       "overflow_y": null,
       "padding": null,
       "right": null,
       "top": null,
       "visibility": null,
       "width": null
      }
     },
     "1067f52ba9d346b194ba469b35eaa3ec": {
      "model_module": "catboost-widget",
      "model_module_version": "^1.0.0",
      "model_name": "CatboostWidgetModel",
      "state": {
       "_dom_classes": [],
       "_model_module": "catboost-widget",
       "_model_module_version": "^1.0.0",
       "_model_name": "CatboostWidgetModel",
       "_view_count": null,
       "_view_module": "catboost-widget",
       "_view_module_version": "^1.0.0",
       "_view_name": "CatboostWidgetView",
       "data": {
        "catboost_info": {
         "content": {
          "data": {
           "iterations": [
            {
             "iteration": 0,
             "learn": [
              0.6613868033
             ],
             "passed_time": 0.4141219702,
             "remaining_time": 40.99807505,
             "test": [
              0.6636015639
             ]
            },
            {
             "iteration": 1,
             "learn": [
              0.6362995996
             ],
             "passed_time": 0.8556237395,
             "remaining_time": 41.92556324,
             "test": [
              0.6357767047
             ]
            },
            {
             "iteration": 2,
             "learn": [
              0.6093827547
             ],
             "passed_time": 1.287767429,
             "remaining_time": 41.63781355,
             "test": [
              0.6095257696
             ]
            },
            {
             "iteration": 3,
             "learn": [
              0.5837260184
             ],
             "passed_time": 1.642630616,
             "remaining_time": 39.42313477,
             "test": [
              0.5847191161
             ]
            },
            {
             "iteration": 4,
             "learn": [
              0.562200866
             ],
             "passed_time": 2.05062897,
             "remaining_time": 38.96195043,
             "test": [
              0.5612450479
             ]
            },
            {
             "iteration": 5,
             "learn": [
              0.5376646943
             ],
             "passed_time": 2.533393824,
             "remaining_time": 39.68983657,
             "test": [
              0.5390032164
             ]
            },
            {
             "iteration": 6,
             "learn": [
              0.5168963073
             ],
             "passed_time": 2.875183173,
             "remaining_time": 38.19886215,
             "test": [
              0.5178974601
             ]
            },
            {
             "iteration": 7,
             "learn": [
              0.4986995288
             ],
             "passed_time": 3.329365006,
             "remaining_time": 38.28769757,
             "test": [
              0.497851109
             ]
            },
            {
             "iteration": 8,
             "learn": [
              0.4785416064
             ],
             "passed_time": 3.945336506,
             "remaining_time": 39.89173578,
             "test": [
              0.4787879404
             ]
            },
            {
             "iteration": 9,
             "learn": [
              0.4605982081
             ],
             "passed_time": 4.550370799,
             "remaining_time": 40.95333719,
             "test": [
              0.4606420596
             ]
            },
            {
             "iteration": 10,
             "learn": [
              0.443923435
             ],
             "passed_time": 5.072729214,
             "remaining_time": 41.04299092,
             "test": [
              0.4433556098
             ]
            },
            {
             "iteration": 11,
             "learn": [
              0.4280730692
             ],
             "passed_time": 5.496247848,
             "remaining_time": 40.30581755,
             "test": [
              0.4268709018
             ]
            },
            {
             "iteration": 12,
             "learn": [
              0.4121561058
             ],
             "passed_time": 5.930522593,
             "remaining_time": 39.68888197,
             "test": [
              0.4111384088
             ]
            },
            {
             "iteration": 13,
             "learn": [
              0.3968034725
             ],
             "passed_time": 6.324840015,
             "remaining_time": 38.85258866,
             "test": [
              0.3961140211
             ]
            },
            {
             "iteration": 14,
             "learn": [
              0.3824221712
             ],
             "passed_time": 6.733474841,
             "remaining_time": 38.15635743,
             "test": [
              0.3817535775
             ]
            },
            {
             "iteration": 15,
             "learn": [
              0.3673630137
             ],
             "passed_time": 7.105555325,
             "remaining_time": 37.30416545,
             "test": [
              0.3680219835
             ]
            },
            {
             "iteration": 16,
             "learn": [
              0.3539160856
             ],
             "passed_time": 7.51087781,
             "remaining_time": 36.67075637,
             "test": [
              0.3548771369
             ]
            },
            {
             "iteration": 17,
             "learn": [
              0.3432014235
             ],
             "passed_time": 7.971085469,
             "remaining_time": 36.31272269,
             "test": [
              0.3422902086
             ]
            },
            {
             "iteration": 18,
             "learn": [
              0.3301206147
             ],
             "passed_time": 8.316736679,
             "remaining_time": 35.45556163,
             "test": [
              0.3302296722
             ]
            },
            {
             "iteration": 19,
             "learn": [
              0.3197074193
             ],
             "passed_time": 8.710164511,
             "remaining_time": 34.84065805,
             "test": [
              0.3186684556
             ]
            },
            {
             "iteration": 20,
             "learn": [
              0.3070210873
             ],
             "passed_time": 9.094932638,
             "remaining_time": 34.2142704,
             "test": [
              0.3075797912
             ]
            },
            {
             "iteration": 21,
             "learn": [
              0.2969197025
             ],
             "passed_time": 9.534016193,
             "remaining_time": 33.80242105,
             "test": [
              0.2969391484
             ]
            },
            {
             "iteration": 22,
             "learn": [
              0.2868107803
             ],
             "passed_time": 9.895092778,
             "remaining_time": 33.12704973,
             "test": [
              0.2867242797
             ]
            },
            {
             "iteration": 23,
             "learn": [
              0.2765512402
             ],
             "passed_time": 10.31192357,
             "remaining_time": 32.65442462,
             "test": [
              0.2769142553
             ]
            },
            {
             "iteration": 24,
             "learn": [
              0.2665225661
             ],
             "passed_time": 10.71593266,
             "remaining_time": 32.14779799,
             "test": [
              0.2674875774
             ]
            },
            {
             "iteration": 25,
             "learn": [
              0.2580248548
             ],
             "passed_time": 11.13278465,
             "remaining_time": 31.68561785,
             "test": [
              0.2584261604
             ]
            },
            {
             "iteration": 26,
             "learn": [
              0.2500069868
             ],
             "passed_time": 11.58062035,
             "remaining_time": 31.31056614,
             "test": [
              0.2497137244
             ]
            },
            {
             "iteration": 27,
             "learn": [
              0.2420178114
             ],
             "passed_time": 11.97852014,
             "remaining_time": 30.80190894,
             "test": [
              0.2413325903
             ]
            },
            {
             "iteration": 28,
             "learn": [
              0.2337277155
             ],
             "passed_time": 12.41443886,
             "remaining_time": 30.39397101,
             "test": [
              0.2332681312
             ]
            },
            {
             "iteration": 29,
             "learn": [
              0.225907336
             ],
             "passed_time": 12.83346215,
             "remaining_time": 29.94474502,
             "test": [
              0.2255064458
             ]
            },
            {
             "iteration": 30,
             "learn": [
              0.218572629
             ],
             "passed_time": 13.24359772,
             "remaining_time": 29.47768526,
             "test": [
              0.2180328725
             ]
            },
            {
             "iteration": 31,
             "learn": [
              0.2109812064
             ],
             "passed_time": 13.67019468,
             "remaining_time": 29.0491637,
             "test": [
              0.2108350056
             ]
            },
            {
             "iteration": 32,
             "learn": [
              0.203405829
             ],
             "passed_time": 14.12830214,
             "remaining_time": 28.68473466,
             "test": [
              0.2039005092
             ]
            },
            {
             "iteration": 33,
             "learn": [
              0.1965045297
             ],
             "passed_time": 14.57723,
             "remaining_time": 28.29697589,
             "test": [
              0.1972177868
             ]
            },
            {
             "iteration": 34,
             "learn": [
              0.1912368374
             ],
             "passed_time": 15.02983048,
             "remaining_time": 27.91254233,
             "test": [
              0.1907772819
             ]
            },
            {
             "iteration": 35,
             "learn": [
              0.1839902354
             ],
             "passed_time": 15.41165969,
             "remaining_time": 27.39850611,
             "test": [
              0.1845675984
             ]
            },
            {
             "iteration": 36,
             "learn": [
              0.1788360703
             ],
             "passed_time": 15.80983759,
             "remaining_time": 26.9194532,
             "test": [
              0.1785791478
             ]
            },
            {
             "iteration": 37,
             "learn": [
              0.1722656169
             ],
             "passed_time": 16.1858896,
             "remaining_time": 26.40855672,
             "test": [
              0.1728023206
             ]
            },
            {
             "iteration": 38,
             "learn": [
              0.1677282802
             ],
             "passed_time": 16.62305705,
             "remaining_time": 26.00016616,
             "test": [
              0.1672299623
             ]
            },
            {
             "iteration": 39,
             "learn": [
              0.1614932427
             ],
             "passed_time": 17.01614412,
             "remaining_time": 25.52421618,
             "test": [
              0.1618521029
             ]
            },
            {
             "iteration": 40,
             "learn": [
              0.1563902228
             ],
             "passed_time": 17.4599145,
             "remaining_time": 25.12524281,
             "test": [
              0.1566623095
             ]
            },
            {
             "iteration": 41,
             "learn": [
              0.1520781761
             ],
             "passed_time": 17.8924485,
             "remaining_time": 24.70861936,
             "test": [
              0.1516519819
             ]
            },
            {
             "iteration": 42,
             "learn": [
              0.1470713242
             ],
             "passed_time": 18.33642882,
             "remaining_time": 24.3064289,
             "test": [
              0.1468147722
             ]
            },
            {
             "iteration": 43,
             "learn": [
              0.1419491381
             ],
             "passed_time": 18.76689695,
             "remaining_time": 23.88514157,
             "test": [
              0.1421431908
             ]
            },
            {
             "iteration": 44,
             "learn": [
              0.1371824577
             ],
             "passed_time": 19.21344914,
             "remaining_time": 23.48310451,
             "test": [
              0.1376307635
             ]
            },
            {
             "iteration": 45,
             "learn": [
              0.1329807413
             ],
             "passed_time": 19.68164586,
             "remaining_time": 23.1045408,
             "test": [
              0.1332724263
             ]
            },
            {
             "iteration": 46,
             "learn": [
              0.1289864723
             ],
             "passed_time": 20.04769044,
             "remaining_time": 22.60697007,
             "test": [
              0.1290609041
             ]
            },
            {
             "iteration": 47,
             "learn": [
              0.1250616898
             ],
             "passed_time": 20.59376529,
             "remaining_time": 22.30991239,
             "test": [
              0.1249921742
             ]
            },
            {
             "iteration": 48,
             "learn": [
              0.1211518943
             ],
             "passed_time": 21.02846523,
             "remaining_time": 21.88676993,
             "test": [
              0.1210598704
             ]
            },
            {
             "iteration": 49,
             "learn": [
              0.117266789
             ],
             "passed_time": 21.37720832,
             "remaining_time": 21.37720832,
             "test": [
              0.1172595786
             ]
            },
            {
             "iteration": 50,
             "learn": [
              0.1133976695
             ],
             "passed_time": 21.79583853,
             "remaining_time": 20.94109976,
             "test": [
              0.1135850401
             ]
            },
            {
             "iteration": 51,
             "learn": [
              0.109829208
             ],
             "passed_time": 22.13214639,
             "remaining_time": 20.42967359,
             "test": [
              0.1100312505
             ]
            },
            {
             "iteration": 52,
             "learn": [
              0.1070015704
             ],
             "passed_time": 22.47453881,
             "remaining_time": 19.9302514,
             "test": [
              0.1065952467
             ]
            },
            {
             "iteration": 53,
             "learn": [
              0.1034827914
             ],
             "passed_time": 22.82709599,
             "remaining_time": 19.44530399,
             "test": [
              0.1032726084
             ]
            },
            {
             "iteration": 54,
             "learn": [
              0.09981414361
             ],
             "passed_time": 23.28910523,
             "remaining_time": 19.05472246,
             "test": [
              0.1000595697
             ]
            },
            {
             "iteration": 55,
             "learn": [
              0.0972178419
             ],
             "passed_time": 23.71943814,
             "remaining_time": 18.63670139,
             "test": [
              0.09695172406
             ]
            },
            {
             "iteration": 56,
             "learn": [
              0.09384713458
             ],
             "passed_time": 24.1491858,
             "remaining_time": 18.21780683,
             "test": [
              0.09394443499
             ]
            },
            {
             "iteration": 57,
             "learn": [
              0.09130401984
             ],
             "passed_time": 24.60177235,
             "remaining_time": 17.81507653,
             "test": [
              0.09103490914
             ]
            },
            {
             "iteration": 58,
             "learn": [
              0.08803505325
             ],
             "passed_time": 25.01382952,
             "remaining_time": 17.3824917,
             "test": [
              0.08821987608
             ]
            },
            {
             "iteration": 59,
             "learn": [
              0.0855788353
             ],
             "passed_time": 25.45240169,
             "remaining_time": 16.9682678,
             "test": [
              0.0854968666
             ]
            },
            {
             "iteration": 60,
             "learn": [
              0.08267849167
             ],
             "passed_time": 25.88228125,
             "remaining_time": 16.54768801,
             "test": [
              0.08286065343
             ]
            },
            {
             "iteration": 61,
             "learn": [
              0.08019051419
             ],
             "passed_time": 26.30297617,
             "remaining_time": 16.12117895,
             "test": [
              0.08030857246
             ]
            },
            {
             "iteration": 62,
             "learn": [
              0.07805646352
             ],
             "passed_time": 26.71455732,
             "remaining_time": 15.68950192,
             "test": [
              0.07783912085
             ]
            },
            {
             "iteration": 63,
             "learn": [
              0.07558685419
             ],
             "passed_time": 27.11793543,
             "remaining_time": 15.25383868,
             "test": [
              0.0754485365
             ]
            },
            {
             "iteration": 64,
             "learn": [
              0.07305953998
             ],
             "passed_time": 27.58221725,
             "remaining_time": 14.85196314,
             "test": [
              0.07313484191
             ]
            },
            {
             "iteration": 65,
             "learn": [
              0.07072467636
             ],
             "passed_time": 28.01280251,
             "remaining_time": 14.43083766,
             "test": [
              0.07089373225
             ]
            },
            {
             "iteration": 66,
             "learn": [
              0.06857843692
             ],
             "passed_time": 28.46710866,
             "remaining_time": 14.02111322,
             "test": [
              0.06872392104
             ]
            },
            {
             "iteration": 67,
             "learn": [
              0.0665294907
             ],
             "passed_time": 28.82424548,
             "remaining_time": 13.56435082,
             "test": [
              0.06662358872
             ]
            },
            {
             "iteration": 68,
             "learn": [
              0.06455830647
             ],
             "passed_time": 29.23810369,
             "remaining_time": 13.13595963,
             "test": [
              0.06458936075
             ]
            },
            {
             "iteration": 69,
             "learn": [
              0.06260362229
             ],
             "passed_time": 29.56203546,
             "remaining_time": 12.66944377,
             "test": [
              0.06261870394
             ]
            },
            {
             "iteration": 70,
             "learn": [
              0.06065697706
             ],
             "passed_time": 29.91981765,
             "remaining_time": 12.22077059,
             "test": [
              0.06071008144
             ]
            },
            {
             "iteration": 71,
             "learn": [
              0.05875324706
             ],
             "passed_time": 30.30385877,
             "remaining_time": 11.78483396,
             "test": [
              0.05886191166
             ]
            },
            {
             "iteration": 72,
             "learn": [
              0.05694747895
             ],
             "passed_time": 30.72480006,
             "remaining_time": 11.36396715,
             "test": [
              0.05707150643
             ]
            },
            {
             "iteration": 73,
             "learn": [
              0.05552696356
             ],
             "passed_time": 31.18036289,
             "remaining_time": 10.95526264,
             "test": [
              0.05533739795
             ]
            },
            {
             "iteration": 74,
             "learn": [
              0.05377137006
             ],
             "passed_time": 31.6405277,
             "remaining_time": 10.54684257,
             "test": [
              0.05365797704
             ]
            },
            {
             "iteration": 75,
             "learn": [
              0.05192890292
             ],
             "passed_time": 32.05877125,
             "remaining_time": 10.1238225,
             "test": [
              0.05203026126
             ]
            },
            {
             "iteration": 76,
             "learn": [
              0.05063046946
             ],
             "passed_time": 32.57665638,
             "remaining_time": 9.730689569,
             "test": [
              0.05045339572
             ]
            },
            {
             "iteration": 77,
             "learn": [
              0.04893607059
             ],
             "passed_time": 32.98615412,
             "remaining_time": 9.30378706,
             "test": [
              0.04892504336
             ]
            },
            {
             "iteration": 78,
             "learn": [
              0.04746665611
             ],
             "passed_time": 33.38787827,
             "remaining_time": 8.875258781,
             "test": [
              0.04744425494
             ]
            },
            {
             "iteration": 79,
             "learn": [
              0.04600934893
             ],
             "passed_time": 33.78932439,
             "remaining_time": 8.447331098,
             "test": [
              0.04601033339
             ]
            },
            {
             "iteration": 80,
             "learn": [
              0.04475523878
             ],
             "passed_time": 34.16744225,
             "remaining_time": 8.014585219,
             "test": [
              0.04462054604
             ]
            },
            {
             "iteration": 81,
             "learn": [
              0.0431900021
             ],
             "passed_time": 34.54461662,
             "remaining_time": 7.582964623,
             "test": [
              0.04327321836
             ]
            },
            {
             "iteration": 82,
             "learn": [
              0.04207176961
             ],
             "passed_time": 34.91059801,
             "remaining_time": 7.150363447,
             "test": [
              0.04196796506
             ]
            },
            {
             "iteration": 83,
             "learn": [
              0.04082290551
             ],
             "passed_time": 35.27528189,
             "remaining_time": 6.719101312,
             "test": [
              0.04070302796
             ]
            },
            {
             "iteration": 84,
             "learn": [
              0.03945905209
             ],
             "passed_time": 35.82468542,
             "remaining_time": 6.322003309,
             "test": [
              0.0394765882
             ]
            },
            {
             "iteration": 85,
             "learn": [
              0.0382490944
             ],
             "passed_time": 36.51146938,
             "remaining_time": 5.943727574,
             "test": [
              0.03828800646
             ]
            },
            {
             "iteration": 86,
             "learn": [
              0.03721406453
             ],
             "passed_time": 36.98773083,
             "remaining_time": 5.526902308,
             "test": [
              0.03713579968
             ]
            },
            {
             "iteration": 87,
             "learn": [
              0.03616352943
             ],
             "passed_time": 37.43035023,
             "remaining_time": 5.104138668,
             "test": [
              0.03601976964
             ]
            },
            {
             "iteration": 88,
             "learn": [
              0.03499073508
             ],
             "passed_time": 37.80012714,
             "remaining_time": 4.671925826,
             "test": [
              0.03493666731
             ]
            },
            {
             "iteration": 89,
             "learn": [
              0.03394853877
             ],
             "passed_time": 38.24409168,
             "remaining_time": 4.24934352,
             "test": [
              0.03388712897
             ]
            },
            {
             "iteration": 90,
             "learn": [
              0.03293474641
             ],
             "passed_time": 38.62688967,
             "remaining_time": 3.820241836,
             "test": [
              0.03286963035
             ]
            },
            {
             "iteration": 91,
             "learn": [
              0.03194513239
             ],
             "passed_time": 39.06743447,
             "remaining_time": 3.397168214,
             "test": [
              0.03188402146
             ]
            },
            {
             "iteration": 92,
             "learn": [
              0.03096749869
             ],
             "passed_time": 39.4951762,
             "remaining_time": 2.972755198,
             "test": [
              0.03092818168
             ]
            },
            {
             "iteration": 93,
             "learn": [
              0.03003758498
             ],
             "passed_time": 39.96521376,
             "remaining_time": 2.550971091,
             "test": [
              0.03000133849
             ]
            },
            {
             "iteration": 94,
             "learn": [
              0.02913995915
             ],
             "passed_time": 40.33132262,
             "remaining_time": 2.122701191,
             "test": [
              0.02910266556
             ]
            },
            {
             "iteration": 95,
             "learn": [
              0.02835099893
             ],
             "passed_time": 40.75510012,
             "remaining_time": 1.698129172,
             "test": [
              0.02823088552
             ]
            },
            {
             "iteration": 96,
             "learn": [
              0.02745809083
             ],
             "passed_time": 41.18668604,
             "remaining_time": 1.273815032,
             "test": [
              0.02738669318
             ]
            },
            {
             "iteration": 97,
             "learn": [
              0.02657643522
             ],
             "passed_time": 41.63134889,
             "remaining_time": 0.8496193652,
             "test": [
              0.02656767278
             ]
            },
            {
             "iteration": 98,
             "learn": [
              0.02589359041
             ],
             "passed_time": 42.05599011,
             "remaining_time": 0.424807981,
             "test": [
              0.02577304755
             ]
            },
            {
             "iteration": 99,
             "learn": [
              0.02503145418
             ],
             "passed_time": 42.40142268,
             "remaining_time": 0,
             "test": [
              0.02500248581
             ]
            }
           ],
           "meta": {
            "iteration_count": 100,
            "launch_mode": "Train",
            "learn_metrics": [
             {
              "best_value": "Min",
              "name": "CrossEntropy"
             }
            ],
            "learn_sets": [
             "learn"
            ],
            "name": "experiment",
            "parameters": "",
            "test_metrics": [
             {
              "best_value": "Min",
              "name": "CrossEntropy"
             }
            ],
            "test_sets": [
             "test"
            ]
           }
          },
          "passed_iterations": 99,
          "total_iterations": 100
         },
         "name": "catboost_info",
         "path": "catboost_info"
        }
       },
       "layout": "IPY_MODEL_e1e815c6fe2e42bf8de334d213e03829"
      }
     },
     "136697dda503440ca8510f157f8a3f87": {
      "model_module": "@jupyter-widgets/base",
      "model_module_version": "1.2.0",
      "model_name": "LayoutModel",
      "state": {
       "_model_module": "@jupyter-widgets/base",
       "_model_module_version": "1.2.0",
       "_model_name": "LayoutModel",
       "_view_count": null,
       "_view_module": "@jupyter-widgets/base",
       "_view_module_version": "1.2.0",
       "_view_name": "LayoutView",
       "align_content": null,
       "align_items": null,
       "align_self": "stretch",
       "border": null,
       "bottom": null,
       "display": null,
       "flex": null,
       "flex_flow": null,
       "grid_area": null,
       "grid_auto_columns": null,
       "grid_auto_flow": null,
       "grid_auto_rows": null,
       "grid_column": null,
       "grid_gap": null,
       "grid_row": null,
       "grid_template_areas": null,
       "grid_template_columns": null,
       "grid_template_rows": null,
       "height": "500px",
       "justify_content": null,
       "justify_items": null,
       "left": null,
       "margin": null,
       "max_height": null,
       "max_width": null,
       "min_height": null,
       "min_width": null,
       "object_fit": null,
       "object_position": null,
       "order": null,
       "overflow": null,
       "overflow_x": null,
       "overflow_y": null,
       "padding": null,
       "right": null,
       "top": null,
       "visibility": null,
       "width": null
      }
     },
     "1ae2e49bb16a43c2b7e9ffa52b9cb48d": {
      "model_module": "catboost-widget",
      "model_module_version": "^1.0.0",
      "model_name": "CatboostWidgetModel",
      "state": {
       "_dom_classes": [],
       "_model_module": "catboost-widget",
       "_model_module_version": "^1.0.0",
       "_model_name": "CatboostWidgetModel",
       "_view_count": null,
       "_view_module": "catboost-widget",
       "_view_module_version": "^1.0.0",
       "_view_name": "CatboostWidgetView",
       "data": {
        "catboost_info": {
         "content": {
          "data": {
           "iterations": [
            {
             "iteration": 0,
             "learn": [
              0.6635761709
             ],
             "passed_time": 0.3710172983,
             "remaining_time": 36.73071253,
             "test": [
              0.664655249
             ]
            },
            {
             "iteration": 1,
             "learn": [
              0.638035582
             ],
             "passed_time": 0.7020807971,
             "remaining_time": 34.40195906,
             "test": [
              0.6379505963
             ]
            },
            {
             "iteration": 2,
             "learn": [
              0.6116418884
             ],
             "passed_time": 1.03239095,
             "remaining_time": 33.38064071,
             "test": [
              0.6127476312
             ]
            },
            {
             "iteration": 3,
             "learn": [
              0.5878430797
             ],
             "passed_time": 1.358840005,
             "remaining_time": 32.61216011,
             "test": [
              0.5888405206
             ]
            },
            {
             "iteration": 4,
             "learn": [
              0.5658039378
             ],
             "passed_time": 1.710227604,
             "remaining_time": 32.49432447,
             "test": [
              0.5662128285
             ]
            },
            {
             "iteration": 5,
             "learn": [
              0.5444666991
             ],
             "passed_time": 2.04149661,
             "remaining_time": 31.98344688,
             "test": [
              0.5448586657
             ]
            },
            {
             "iteration": 6,
             "learn": [
              0.5229738435
             ],
             "passed_time": 2.399820171,
             "remaining_time": 31.88332512,
             "test": [
              0.5245367627
             ]
            },
            {
             "iteration": 7,
             "learn": [
              0.5049726402
             ],
             "passed_time": 2.746306397,
             "remaining_time": 31.58252356,
             "test": [
              0.5052542086
             ]
            },
            {
             "iteration": 8,
             "learn": [
              0.4854032319
             ],
             "passed_time": 3.095562492,
             "remaining_time": 31.29957631,
             "test": [
              0.4869980587
             ]
            },
            {
             "iteration": 9,
             "learn": [
              0.4684688375
             ],
             "passed_time": 3.429231995,
             "remaining_time": 30.86308796,
             "test": [
              0.4695782258
             ]
            },
            {
             "iteration": 10,
             "learn": [
              0.4524364533
             ],
             "passed_time": 3.754399484,
             "remaining_time": 30.37650491,
             "test": [
              0.4530638467
             ]
            },
            {
             "iteration": 11,
             "learn": [
              0.4369683717
             ],
             "passed_time": 4.114141837,
             "remaining_time": 30.17037347,
             "test": [
              0.4371642872
             ]
            },
            {
             "iteration": 12,
             "learn": [
              0.4217117316
             ],
             "passed_time": 4.475307876,
             "remaining_time": 29.95013732,
             "test": [
              0.4220281502
             ]
            },
            {
             "iteration": 13,
             "learn": [
              0.406780591
             ],
             "passed_time": 4.825964051,
             "remaining_time": 29.64520774,
             "test": [
              0.407621246
             ]
            },
            {
             "iteration": 14,
             "learn": [
              0.3921811053
             ],
             "passed_time": 5.183310261,
             "remaining_time": 29.37209148,
             "test": [
              0.3937433084
             ]
            },
            {
             "iteration": 15,
             "learn": [
              0.3786544491
             ],
             "passed_time": 5.515654368,
             "remaining_time": 28.95718543,
             "test": [
              0.3806641449
             ]
            },
            {
             "iteration": 16,
             "learn": [
              0.3667167253
             ],
             "passed_time": 5.846271632,
             "remaining_time": 28.5435615,
             "test": [
              0.3681246429
             ]
            },
            {
             "iteration": 17,
             "learn": [
              0.3541775337
             ],
             "passed_time": 6.172198884,
             "remaining_time": 28.11779492,
             "test": [
              0.356112621
             ]
            },
            {
             "iteration": 18,
             "learn": [
              0.342797521
             ],
             "passed_time": 6.540561019,
             "remaining_time": 27.88344435,
             "test": [
              0.3445227979
             ]
            },
            {
             "iteration": 19,
             "learn": [
              0.3312448065
             ],
             "passed_time": 6.87379955,
             "remaining_time": 27.4951982,
             "test": [
              0.3335642549
             ]
            },
            {
             "iteration": 20,
             "learn": [
              0.3207017808
             ],
             "passed_time": 7.204055165,
             "remaining_time": 27.10096943,
             "test": [
              0.3230219552
             ]
            },
            {
             "iteration": 21,
             "learn": [
              0.3103121717
             ],
             "passed_time": 7.53343929,
             "remaining_time": 26.70946657,
             "test": [
              0.3128113489
             ]
            },
            {
             "iteration": 22,
             "learn": [
              0.3006761236
             ],
             "passed_time": 7.94375009,
             "remaining_time": 26.59429378,
             "test": [
              0.302904283
             ]
            },
            {
             "iteration": 23,
             "learn": [
              0.2909925511
             ],
             "passed_time": 8.282307362,
             "remaining_time": 26.22730665,
             "test": [
              0.2936195502
             ]
            },
            {
             "iteration": 24,
             "learn": [
              0.2819764472
             ],
             "passed_time": 8.620725894,
             "remaining_time": 25.86217768,
             "test": [
              0.2846458917
             ]
            },
            {
             "iteration": 25,
             "learn": [
              0.2733261471
             ],
             "passed_time": 8.948685697,
             "remaining_time": 25.46933621,
             "test": [
              0.2761472964
             ]
            },
            {
             "iteration": 26,
             "learn": [
              0.2644592618
             ],
             "passed_time": 9.274609982,
             "remaining_time": 25.07579736,
             "test": [
              0.267890479
             ]
            },
            {
             "iteration": 27,
             "learn": [
              0.2561119221
             ],
             "passed_time": 9.640688444,
             "remaining_time": 24.79034171,
             "test": [
              0.2597479266
             ]
            },
            {
             "iteration": 28,
             "learn": [
              0.2483372547
             ],
             "passed_time": 9.985769701,
             "remaining_time": 24.44791892,
             "test": [
              0.2520424044
             ]
            },
            {
             "iteration": 29,
             "learn": [
              0.2408192749
             ],
             "passed_time": 10.31450022,
             "remaining_time": 24.06716718,
             "test": [
              0.2447034724
             ]
            },
            {
             "iteration": 30,
             "learn": [
              0.2339322088
             ],
             "passed_time": 10.65966379,
             "remaining_time": 23.72634843,
             "test": [
              0.2376079963
             ]
            },
            {
             "iteration": 31,
             "learn": [
              0.2268213033
             ],
             "passed_time": 10.98218798,
             "remaining_time": 23.33714946,
             "test": [
              0.2306722128
             ]
            },
            {
             "iteration": 32,
             "learn": [
              0.2206762052
             ],
             "passed_time": 11.29416816,
             "remaining_time": 22.93058383,
             "test": [
              0.2239542254
             ]
            },
            {
             "iteration": 33,
             "learn": [
              0.2142277946
             ],
             "passed_time": 11.66120965,
             "remaining_time": 22.6364658,
             "test": [
              0.2176143927
             ]
            },
            {
             "iteration": 34,
             "learn": [
              0.2076637023
             ],
             "passed_time": 11.9967438,
             "remaining_time": 22.27966707,
             "test": [
              0.2114509838
             ]
            },
            {
             "iteration": 35,
             "learn": [
              0.202100139
             ],
             "passed_time": 12.3180837,
             "remaining_time": 21.89881546,
             "test": [
              0.2056852083
             ]
            },
            {
             "iteration": 36,
             "learn": [
              0.19604314
             ],
             "passed_time": 12.65488248,
             "remaining_time": 21.54750259,
             "test": [
              0.1999509461
             ]
            },
            {
             "iteration": 37,
             "learn": [
              0.1907771525
             ],
             "passed_time": 13.03364459,
             "remaining_time": 21.26542011,
             "test": [
              0.1944472902
             ]
            },
            {
             "iteration": 38,
             "learn": [
              0.1851332829
             ],
             "passed_time": 13.39402734,
             "remaining_time": 20.9496325,
             "test": [
              0.1891738274
             ]
            },
            {
             "iteration": 39,
             "learn": [
              0.1802841401
             ],
             "passed_time": 13.75127276,
             "remaining_time": 20.62690915,
             "test": [
              0.1839574677
             ]
            },
            {
             "iteration": 40,
             "learn": [
              0.1750417788
             ],
             "passed_time": 14.10238953,
             "remaining_time": 20.29368249,
             "test": [
              0.1789525824
             ]
            },
            {
             "iteration": 41,
             "learn": [
              0.1699811164
             ],
             "passed_time": 14.45305624,
             "remaining_time": 19.95898242,
             "test": [
              0.1742257668
             ]
            },
            {
             "iteration": 42,
             "learn": [
              0.1656671122
             ],
             "passed_time": 14.80182876,
             "remaining_time": 19.62102882,
             "test": [
              0.1696111357
             ]
            },
            {
             "iteration": 43,
             "learn": [
              0.1609534389
             ],
             "passed_time": 15.11175984,
             "remaining_time": 19.23314889,
             "test": [
              0.1650239618
             ]
            },
            {
             "iteration": 44,
             "learn": [
              0.1566351288
             ],
             "passed_time": 15.48858112,
             "remaining_time": 18.93048803,
             "test": [
              0.1607319825
             ]
            },
            {
             "iteration": 45,
             "learn": [
              0.1523774694
             ],
             "passed_time": 15.83464936,
             "remaining_time": 18.58850142,
             "test": [
              0.1565542444
             ]
            },
            {
             "iteration": 46,
             "learn": [
              0.1484473169
             ],
             "passed_time": 16.19650756,
             "remaining_time": 18.26414682,
             "test": [
              0.1525693623
             ]
            },
            {
             "iteration": 47,
             "learn": [
              0.1443012013
             ],
             "passed_time": 16.55131833,
             "remaining_time": 17.93059485,
             "test": [
              0.1485972822
             ]
            },
            {
             "iteration": 48,
             "learn": [
              0.140583428
             ],
             "passed_time": 16.89639611,
             "remaining_time": 17.58604493,
             "test": [
              0.1448446429
             ]
            },
            {
             "iteration": 49,
             "learn": [
              0.1366952867
             ],
             "passed_time": 17.26072817,
             "remaining_time": 17.26072817,
             "test": [
              0.1411356197
             ]
            },
            {
             "iteration": 50,
             "learn": [
              0.1332679692
             ],
             "passed_time": 17.64375679,
             "remaining_time": 16.95184476,
             "test": [
              0.1375883374
             ]
            },
            {
             "iteration": 51,
             "learn": [
              0.129891832
             ],
             "passed_time": 17.98369319,
             "remaining_time": 16.60033218,
             "test": [
              0.1340636254
             ]
            },
            {
             "iteration": 52,
             "learn": [
              0.1262134627
             ],
             "passed_time": 18.29329159,
             "remaining_time": 16.22235292,
             "test": [
              0.1306100157
             ]
            },
            {
             "iteration": 53,
             "learn": [
              0.1229390916
             ],
             "passed_time": 18.71680774,
             "remaining_time": 15.94394733,
             "test": [
              0.127185827
             ]
            },
            {
             "iteration": 54,
             "learn": [
              0.1199891235
             ],
             "passed_time": 19.08064957,
             "remaining_time": 15.61144055,
             "test": [
              0.1241446545
             ]
            },
            {
             "iteration": 55,
             "learn": [
              0.1168717283
             ],
             "passed_time": 19.45139595,
             "remaining_time": 15.28323967,
             "test": [
              0.1212088053
             ]
            },
            {
             "iteration": 56,
             "learn": [
              0.113944624
             ],
             "passed_time": 19.76241003,
             "remaining_time": 14.90848476,
             "test": [
              0.1181911135
             ]
            },
            {
             "iteration": 57,
             "learn": [
              0.1108620264
             ],
             "passed_time": 20.11671046,
             "remaining_time": 14.56727309,
             "test": [
              0.115309246
             ]
            },
            {
             "iteration": 58,
             "learn": [
              0.1083136734
             ],
             "passed_time": 20.46846366,
             "remaining_time": 14.22384763,
             "test": [
              0.1124701311
             ]
            },
            {
             "iteration": 59,
             "learn": [
              0.105697595
             ],
             "passed_time": 20.83993412,
             "remaining_time": 13.89328942,
             "test": [
              0.1098973272
             ]
            },
            {
             "iteration": 60,
             "learn": [
              0.1028756549
             ],
             "passed_time": 21.17676645,
             "remaining_time": 13.53924412,
             "test": [
              0.1072959992
             ]
            },
            {
             "iteration": 61,
             "learn": [
              0.1004986111
             ],
             "passed_time": 21.55326725,
             "remaining_time": 13.21006702,
             "test": [
              0.1048888378
             ]
            },
            {
             "iteration": 62,
             "learn": [
              0.09812496988
             ],
             "passed_time": 21.92393139,
             "remaining_time": 12.87595971,
             "test": [
              0.1025622294
             ]
            },
            {
             "iteration": 63,
             "learn": [
              0.09567059402
             ],
             "passed_time": 22.23703461,
             "remaining_time": 12.50833197,
             "test": [
              0.10016058
             ]
            },
            {
             "iteration": 64,
             "learn": [
              0.09331205374
             ],
             "passed_time": 22.61294234,
             "remaining_time": 12.17619972,
             "test": [
              0.09766626453
             ]
            },
            {
             "iteration": 65,
             "learn": [
              0.09105373397
             ],
             "passed_time": 22.95369426,
             "remaining_time": 11.82463038,
             "test": [
              0.09545276256
             ]
            },
            {
             "iteration": 66,
             "learn": [
              0.08883365956
             ],
             "passed_time": 23.34363742,
             "remaining_time": 11.49761246,
             "test": [
              0.09320947329
             ]
            },
            {
             "iteration": 67,
             "learn": [
              0.0867233748
             ],
             "passed_time": 23.6909411,
             "remaining_time": 11.14867817,
             "test": [
              0.09113984544
             ]
            },
            {
             "iteration": 68,
             "learn": [
              0.08456450998
             ],
             "passed_time": 24.03066544,
             "remaining_time": 10.79638592,
             "test": [
              0.08915142178
             ]
            },
            {
             "iteration": 69,
             "learn": [
              0.08252980622
             ],
             "passed_time": 24.42573778,
             "remaining_time": 10.46817333,
             "test": [
              0.08702705979
             ]
            },
            {
             "iteration": 70,
             "learn": [
              0.08057263563
             ],
             "passed_time": 24.73589265,
             "remaining_time": 10.10339277,
             "test": [
              0.08509279783
             ]
            },
            {
             "iteration": 71,
             "learn": [
              0.07864693347
             ],
             "passed_time": 25.11909448,
             "remaining_time": 9.768536741,
             "test": [
              0.08330347337
             ]
            },
            {
             "iteration": 72,
             "learn": [
              0.07685203634
             ],
             "passed_time": 25.6025258,
             "remaining_time": 9.469427351,
             "test": [
              0.08150128911
             ]
            },
            {
             "iteration": 73,
             "learn": [
              0.07508620332
             ],
             "passed_time": 26.15142706,
             "remaining_time": 9.188339239,
             "test": [
              0.07968865763
             ]
            },
            {
             "iteration": 74,
             "learn": [
              0.07308615052
             ],
             "passed_time": 26.69523629,
             "remaining_time": 8.898412097,
             "test": [
              0.07768999621
             ]
            },
            {
             "iteration": 75,
             "learn": [
              0.07124342462
             ],
             "passed_time": 27.06047224,
             "remaining_time": 8.545412285,
             "test": [
              0.07588153789
             ]
            },
            {
             "iteration": 76,
             "learn": [
              0.06969068479
             ],
             "passed_time": 27.36880721,
             "remaining_time": 8.175098258,
             "test": [
              0.07429056142
             ]
            },
            {
             "iteration": 77,
             "learn": [
              0.06797469719
             ],
             "passed_time": 27.73760661,
             "remaining_time": 7.823427504,
             "test": [
              0.07281071609
             ]
            },
            {
             "iteration": 78,
             "learn": [
              0.06629984689
             ],
             "passed_time": 28.11397648,
             "remaining_time": 7.473335521,
             "test": [
              0.0705887942
             ]
            },
            {
             "iteration": 79,
             "learn": [
              0.06464651665
             ],
             "passed_time": 28.49427672,
             "remaining_time": 7.123569179,
             "test": [
              0.0689594462
             ]
            },
            {
             "iteration": 80,
             "learn": [
              0.06321259304
             ],
             "passed_time": 28.8961201,
             "remaining_time": 6.778102246,
             "test": [
              0.06742525215
             ]
            },
            {
             "iteration": 81,
             "learn": [
              0.06170952206
             ],
             "passed_time": 29.25464019,
             "remaining_time": 6.421750287,
             "test": [
              0.06609085222
             ]
            },
            {
             "iteration": 82,
             "learn": [
              0.06031662398
             ],
             "passed_time": 29.68363209,
             "remaining_time": 6.079780066,
             "test": [
              0.06459025181
             ]
            },
            {
             "iteration": 83,
             "learn": [
              0.0588343246
             ],
             "passed_time": 30.05200704,
             "remaining_time": 5.724191817,
             "test": [
              0.06314054648
             ]
            },
            {
             "iteration": 84,
             "learn": [
              0.05758611108
             ],
             "passed_time": 30.39373763,
             "remaining_time": 5.363600758,
             "test": [
              0.06191992448
             ]
            },
            {
             "iteration": 85,
             "learn": [
              0.05630836336
             ],
             "passed_time": 30.7768657,
             "remaining_time": 5.010187439,
             "test": [
              0.0605756076
             ]
            },
            {
             "iteration": 86,
             "learn": [
              0.05494094707
             ],
             "passed_time": 31.14842902,
             "remaining_time": 4.654362957,
             "test": [
              0.05877954298
             ]
            },
            {
             "iteration": 87,
             "learn": [
              0.05385751613
             ],
             "passed_time": 31.4878312,
             "remaining_time": 4.293795163,
             "test": [
              0.05765658539
             ]
            },
            {
             "iteration": 88,
             "learn": [
              0.05259209907
             ],
             "passed_time": 31.82948203,
             "remaining_time": 3.933980925,
             "test": [
              0.05656219929
             ]
            },
            {
             "iteration": 89,
             "learn": [
              0.05142416768
             ],
             "passed_time": 32.18296615,
             "remaining_time": 3.575885127,
             "test": [
              0.05547583854
             ]
            },
            {
             "iteration": 90,
             "learn": [
              0.05032817326
             ],
             "passed_time": 32.51871403,
             "remaining_time": 3.216136552,
             "test": [
              0.05433086003
             ]
            },
            {
             "iteration": 91,
             "learn": [
              0.04926792772
             ],
             "passed_time": 32.83967871,
             "remaining_time": 2.855624236,
             "test": [
              0.05321792172
             ]
            },
            {
             "iteration": 92,
             "learn": [
              0.0480912444
             ],
             "passed_time": 33.2152967,
             "remaining_time": 2.500076095,
             "test": [
              0.05171565792
             ]
            },
            {
             "iteration": 93,
             "learn": [
              0.04700286761
             ],
             "passed_time": 33.59681444,
             "remaining_time": 2.144477517,
             "test": [
              0.0506162779
             ]
            },
            {
             "iteration": 94,
             "learn": [
              0.04601760699
             ],
             "passed_time": 33.95501012,
             "remaining_time": 1.787105796,
             "test": [
              0.04966144371
             ]
            },
            {
             "iteration": 95,
             "learn": [
              0.04510419817
             ],
             "passed_time": 34.29048235,
             "remaining_time": 1.428770098,
             "test": [
              0.0486818146
             ]
            },
            {
             "iteration": 96,
             "learn": [
              0.0442399743
             ],
             "passed_time": 34.63574703,
             "remaining_time": 1.071208671,
             "test": [
              0.04779962499
             ]
            },
            {
             "iteration": 97,
             "learn": [
              0.04327127077
             ],
             "passed_time": 35.02111271,
             "remaining_time": 0.7147165859,
             "test": [
              0.04657047826
             ]
            },
            {
             "iteration": 98,
             "learn": [
              0.04236463997
             ],
             "passed_time": 35.37955954,
             "remaining_time": 0.3573692883,
             "test": [
              0.04572192311
             ]
            },
            {
             "iteration": 99,
             "learn": [
              0.04162409542
             ],
             "passed_time": 35.72650604,
             "remaining_time": 0,
             "test": [
              0.04495711495
             ]
            }
           ],
           "meta": {
            "iteration_count": 100,
            "launch_mode": "Train",
            "learn_metrics": [
             {
              "best_value": "Min",
              "name": "CrossEntropy"
             }
            ],
            "learn_sets": [
             "learn"
            ],
            "name": "experiment",
            "parameters": "",
            "test_metrics": [
             {
              "best_value": "Min",
              "name": "CrossEntropy"
             }
            ],
            "test_sets": [
             "test"
            ]
           }
          },
          "passed_iterations": 99,
          "total_iterations": 100
         },
         "name": "catboost_info",
         "path": "catboost_info"
        }
       },
       "layout": "IPY_MODEL_74a5f307a0e747438c02e58a1103a5c7"
      }
     },
     "1c5e22b36f5044e1a2339edfb36c1a1f": {
      "model_module": "@jupyter-widgets/base",
      "model_module_version": "1.2.0",
      "model_name": "LayoutModel",
      "state": {
       "_model_module": "@jupyter-widgets/base",
       "_model_module_version": "1.2.0",
       "_model_name": "LayoutModel",
       "_view_count": null,
       "_view_module": "@jupyter-widgets/base",
       "_view_module_version": "1.2.0",
       "_view_name": "LayoutView",
       "align_content": null,
       "align_items": null,
       "align_self": "stretch",
       "border": null,
       "bottom": null,
       "display": null,
       "flex": null,
       "flex_flow": null,
       "grid_area": null,
       "grid_auto_columns": null,
       "grid_auto_flow": null,
       "grid_auto_rows": null,
       "grid_column": null,
       "grid_gap": null,
       "grid_row": null,
       "grid_template_areas": null,
       "grid_template_columns": null,
       "grid_template_rows": null,
       "height": "500px",
       "justify_content": null,
       "justify_items": null,
       "left": null,
       "margin": null,
       "max_height": null,
       "max_width": null,
       "min_height": null,
       "min_width": null,
       "object_fit": null,
       "object_position": null,
       "order": null,
       "overflow": null,
       "overflow_x": null,
       "overflow_y": null,
       "padding": null,
       "right": null,
       "top": null,
       "visibility": null,
       "width": null
      }
     },
     "1d8ef36b4606415b9881fcee96d70386": {
      "model_module": "@jupyter-widgets/base",
      "model_module_version": "1.2.0",
      "model_name": "LayoutModel",
      "state": {
       "_model_module": "@jupyter-widgets/base",
       "_model_module_version": "1.2.0",
       "_model_name": "LayoutModel",
       "_view_count": null,
       "_view_module": "@jupyter-widgets/base",
       "_view_module_version": "1.2.0",
       "_view_name": "LayoutView",
       "align_content": null,
       "align_items": null,
       "align_self": "stretch",
       "border": null,
       "bottom": null,
       "display": null,
       "flex": null,
       "flex_flow": null,
       "grid_area": null,
       "grid_auto_columns": null,
       "grid_auto_flow": null,
       "grid_auto_rows": null,
       "grid_column": null,
       "grid_gap": null,
       "grid_row": null,
       "grid_template_areas": null,
       "grid_template_columns": null,
       "grid_template_rows": null,
       "height": "500px",
       "justify_content": null,
       "justify_items": null,
       "left": null,
       "margin": null,
       "max_height": null,
       "max_width": null,
       "min_height": null,
       "min_width": null,
       "object_fit": null,
       "object_position": null,
       "order": null,
       "overflow": null,
       "overflow_x": null,
       "overflow_y": null,
       "padding": null,
       "right": null,
       "top": null,
       "visibility": null,
       "width": null
      }
     },
     "2bd1f15bd23549e19493e5500456b2f2": {
      "model_module": "catboost-widget",
      "model_module_version": "^1.0.0",
      "model_name": "CatboostWidgetModel",
      "state": {
       "_dom_classes": [],
       "_model_module": "catboost-widget",
       "_model_module_version": "^1.0.0",
       "_model_name": "CatboostWidgetModel",
       "_view_count": null,
       "_view_module": "catboost-widget",
       "_view_module_version": "^1.0.0",
       "_view_name": "CatboostWidgetView",
       "data": {
        "catboost_info": {
         "content": {
          "data": {
           "iterations": [
            {
             "iteration": 0,
             "learn": [
              0.6732974892
             ],
             "passed_time": 0.4275581881,
             "remaining_time": 42.32826062,
             "test": [
              0.6720939506
             ]
            },
            {
             "iteration": 1,
             "learn": [
              0.652604066
             ],
             "passed_time": 0.835521598,
             "remaining_time": 40.9405583,
             "test": [
              0.6521736864
             ]
            },
            {
             "iteration": 2,
             "learn": [
              0.633336556
             ],
             "passed_time": 1.242092963,
             "remaining_time": 40.16100579,
             "test": [
              0.6329336186
             ]
            },
            {
             "iteration": 3,
             "learn": [
              0.6162528135
             ],
             "passed_time": 1.6570124,
             "remaining_time": 39.76829761,
             "test": [
              0.615353248
             ]
            },
            {
             "iteration": 4,
             "learn": [
              0.5995878762
             ],
             "passed_time": 2.061406295,
             "remaining_time": 39.1667196,
             "test": [
              0.5979418454
             ]
            },
            {
             "iteration": 5,
             "learn": [
              0.5832359509
             ],
             "passed_time": 2.480412951,
             "remaining_time": 38.8598029,
             "test": [
              0.5819800384
             ]
            },
            {
             "iteration": 6,
             "learn": [
              0.5691528305
             ],
             "passed_time": 2.855043289,
             "remaining_time": 37.93128941,
             "test": [
              0.5674035599
             ]
            },
            {
             "iteration": 7,
             "learn": [
              0.5548564844
             ],
             "passed_time": 3.268007307,
             "remaining_time": 37.58208403,
             "test": [
              0.5528579062
             ]
            },
            {
             "iteration": 8,
             "learn": [
              0.5412874083
             ],
             "passed_time": 3.689905345,
             "remaining_time": 37.30904293,
             "test": [
              0.5392639495
             ]
            },
            {
             "iteration": 9,
             "learn": [
              0.5275449602
             ],
             "passed_time": 4.073144455,
             "remaining_time": 36.6583001,
             "test": [
              0.5252868088
             ]
            },
            {
             "iteration": 10,
             "learn": [
              0.5155432995
             ],
             "passed_time": 4.526834974,
             "remaining_time": 36.62621025,
             "test": [
              0.5126823825
             ]
            },
            {
             "iteration": 11,
             "learn": [
              0.5030966323
             ],
             "passed_time": 4.883601767,
             "remaining_time": 35.81307963,
             "test": [
              0.5000931908
             ]
            },
            {
             "iteration": 12,
             "learn": [
              0.4907966547
             ],
             "passed_time": 5.268512276,
             "remaining_time": 35.25850523,
             "test": [
              0.4877061464
             ]
            },
            {
             "iteration": 13,
             "learn": [
              0.480202496
             ],
             "passed_time": 5.687721929,
             "remaining_time": 34.93886328,
             "test": [
              0.4765564695
             ]
            },
            {
             "iteration": 14,
             "learn": [
              0.4690173609
             ],
             "passed_time": 6.071795078,
             "remaining_time": 34.40683877,
             "test": [
              0.4651734401
             ]
            },
            {
             "iteration": 15,
             "learn": [
              0.4586161781
             ],
             "passed_time": 6.433802698,
             "remaining_time": 33.77746417,
             "test": [
              0.4544505943
             ]
            },
            {
             "iteration": 16,
             "learn": [
              0.4488267613
             ],
             "passed_time": 6.825036741,
             "remaining_time": 33.32223821,
             "test": [
              0.4441846419
             ]
            },
            {
             "iteration": 17,
             "learn": [
              0.4387797291
             ],
             "passed_time": 7.220237594,
             "remaining_time": 32.89219348,
             "test": [
              0.4342616398
             ]
            },
            {
             "iteration": 18,
             "learn": [
              0.4294221795
             ],
             "passed_time": 7.617542372,
             "remaining_time": 32.4747859,
             "test": [
              0.4246349467
             ]
            },
            {
             "iteration": 19,
             "learn": [
              0.4199945553
             ],
             "passed_time": 8.015632717,
             "remaining_time": 32.06253087,
             "test": [
              0.4156519904
             ]
            },
            {
             "iteration": 20,
             "learn": [
              0.4115420824
             ],
             "passed_time": 8.430470847,
             "remaining_time": 31.71462843,
             "test": [
              0.4068093418
             ]
            },
            {
             "iteration": 21,
             "learn": [
              0.4031475907
             ],
             "passed_time": 8.826866718,
             "remaining_time": 31.29525473,
             "test": [
              0.3982478314
             ]
            },
            {
             "iteration": 22,
             "learn": [
              0.3948872025
             ],
             "passed_time": 9.22166936,
             "remaining_time": 30.87254525,
             "test": [
              0.3901654069
             ]
            },
            {
             "iteration": 23,
             "learn": [
              0.3869576228
             ],
             "passed_time": 9.656988197,
             "remaining_time": 30.58046262,
             "test": [
              0.3823050957
             ]
            },
            {
             "iteration": 24,
             "learn": [
              0.3796601156
             ],
             "passed_time": 10.07472784,
             "remaining_time": 30.22418351,
             "test": [
              0.3751476488
             ]
            },
            {
             "iteration": 25,
             "learn": [
              0.3725241425
             ],
             "passed_time": 10.47514029,
             "remaining_time": 29.81386081,
             "test": [
              0.3679264979
             ]
            },
            {
             "iteration": 26,
             "learn": [
              0.3656404516
             ],
             "passed_time": 10.9173921,
             "remaining_time": 29.51739344,
             "test": [
              0.3610064675
             ]
            },
            {
             "iteration": 27,
             "learn": [
              0.3590610466
             ],
             "passed_time": 11.34554031,
             "remaining_time": 29.17424651,
             "test": [
              0.3546348242
             ]
            },
            {
             "iteration": 28,
             "learn": [
              0.3521607868
             ],
             "passed_time": 11.83950268,
             "remaining_time": 28.98636864,
             "test": [
              0.347876764
             ]
            },
            {
             "iteration": 29,
             "learn": [
              0.3453618864
             ],
             "passed_time": 12.45215024,
             "remaining_time": 29.05501723,
             "test": [
              0.3409618846
             ]
            },
            {
             "iteration": 30,
             "learn": [
              0.3390150276
             ],
             "passed_time": 13.1322275,
             "remaining_time": 29.22979668,
             "test": [
              0.3344402589
             ]
            },
            {
             "iteration": 31,
             "learn": [
              0.3331512666
             ],
             "passed_time": 13.66453345,
             "remaining_time": 29.03713358,
             "test": [
              0.328784977
             ]
            },
            {
             "iteration": 32,
             "learn": [
              0.3270059802
             ],
             "passed_time": 14.13084099,
             "remaining_time": 28.68988928,
             "test": [
              0.3225654719
             ]
            },
            {
             "iteration": 33,
             "learn": [
              0.3217601419
             ],
             "passed_time": 14.56048156,
             "remaining_time": 28.2644642,
             "test": [
              0.3172562968
             ]
            },
            {
             "iteration": 34,
             "learn": [
              0.316171608
             ],
             "passed_time": 15.02952503,
             "remaining_time": 27.91197505,
             "test": [
              0.3114820678
             ]
            },
            {
             "iteration": 35,
             "learn": [
              0.3110052388
             ],
             "passed_time": 15.55380548,
             "remaining_time": 27.65120974,
             "test": [
              0.3062805463
             ]
            },
            {
             "iteration": 36,
             "learn": [
              0.3057292462
             ],
             "passed_time": 16.04401255,
             "remaining_time": 27.31818353,
             "test": [
              0.3012226356
             ]
            },
            {
             "iteration": 37,
             "learn": [
              0.3006575796
             ],
             "passed_time": 16.54577393,
             "remaining_time": 26.99573642,
             "test": [
              0.2960095656
             ]
            },
            {
             "iteration": 38,
             "learn": [
              0.2955203234
             ],
             "passed_time": 16.97355971,
             "remaining_time": 26.54838827,
             "test": [
              0.2909045546
             ]
            },
            {
             "iteration": 39,
             "learn": [
              0.2908367938
             ],
             "passed_time": 17.40014922,
             "remaining_time": 26.10022384,
             "test": [
              0.28617833
             ]
            },
            {
             "iteration": 40,
             "learn": [
              0.2863453475
             ],
             "passed_time": 17.8086432,
             "remaining_time": 25.62707193,
             "test": [
              0.2817545613
             ]
            },
            {
             "iteration": 41,
             "learn": [
              0.2821060067
             ],
             "passed_time": 18.22308896,
             "remaining_time": 25.16521809,
             "test": [
              0.2775513534
             ]
            },
            {
             "iteration": 42,
             "learn": [
              0.2780062306
             ],
             "passed_time": 18.70956757,
             "remaining_time": 24.80105469,
             "test": [
              0.2733587947
             ]
            },
            {
             "iteration": 43,
             "learn": [
              0.2740635524
             ],
             "passed_time": 19.13003755,
             "remaining_time": 24.34732052,
             "test": [
              0.2696137528
             ]
            },
            {
             "iteration": 44,
             "learn": [
              0.2697067466
             ],
             "passed_time": 19.54684417,
             "remaining_time": 23.89058731,
             "test": [
              0.2655011677
             ]
            },
            {
             "iteration": 45,
             "learn": [
              0.2657647312
             ],
             "passed_time": 19.95120906,
             "remaining_time": 23.42098455,
             "test": [
              0.2616184341
             ]
            },
            {
             "iteration": 46,
             "learn": [
              0.262155118
             ],
             "passed_time": 20.37748533,
             "remaining_time": 22.97886644,
             "test": [
              0.2580652316
             ]
            },
            {
             "iteration": 47,
             "learn": [
              0.258361814
             ],
             "passed_time": 20.7717389,
             "remaining_time": 22.50271714,
             "test": [
              0.2543842335
             ]
            },
            {
             "iteration": 48,
             "learn": [
              0.2546415989
             ],
             "passed_time": 21.16919916,
             "remaining_time": 22.03324811,
             "test": [
              0.2508260612
             ]
            },
            {
             "iteration": 49,
             "learn": [
              0.251130861
             ],
             "passed_time": 21.64903942,
             "remaining_time": 21.64903942,
             "test": [
              0.2473553434
             ]
            },
            {
             "iteration": 50,
             "learn": [
              0.2475730763
             ],
             "passed_time": 22.05061414,
             "remaining_time": 21.18588418,
             "test": [
              0.2440258316
             ]
            },
            {
             "iteration": 51,
             "learn": [
              0.2441624419
             ],
             "passed_time": 22.48377623,
             "remaining_time": 20.75425498,
             "test": [
              0.2404604712
             ]
            },
            {
             "iteration": 52,
             "learn": [
              0.2408468758
             ],
             "passed_time": 22.88718209,
             "remaining_time": 20.29618034,
             "test": [
              0.2374521026
             ]
            },
            {
             "iteration": 53,
             "learn": [
              0.2378712712
             ],
             "passed_time": 23.3170771,
             "remaining_time": 19.86269531,
             "test": [
              0.2344490905
             ]
            },
            {
             "iteration": 54,
             "learn": [
              0.2348126899
             ],
             "passed_time": 23.73624066,
             "remaining_time": 19.42056054,
             "test": [
              0.2311400173
             ]
            },
            {
             "iteration": 55,
             "learn": [
              0.2317800069
             ],
             "passed_time": 24.21160507,
             "remaining_time": 19.02340398,
             "test": [
              0.2283184405
             ]
            },
            {
             "iteration": 56,
             "learn": [
              0.2292133531
             ],
             "passed_time": 24.62853389,
             "remaining_time": 18.57942031,
             "test": [
              0.2258659896
             ]
            },
            {
             "iteration": 57,
             "learn": [
              0.2263003858
             ],
             "passed_time": 25.0350689,
             "remaining_time": 18.128843,
             "test": [
              0.2231135769
             ]
            },
            {
             "iteration": 58,
             "learn": [
              0.2237861423
             ],
             "passed_time": 25.44531384,
             "remaining_time": 17.68233674,
             "test": [
              0.2206197145
             ]
            },
            {
             "iteration": 59,
             "learn": [
              0.2210649008
             ],
             "passed_time": 25.87771912,
             "remaining_time": 17.25181274,
             "test": [
              0.2178529698
             ]
            },
            {
             "iteration": 60,
             "learn": [
              0.2184665518
             ],
             "passed_time": 26.45572639,
             "remaining_time": 16.91431687,
             "test": [
              0.2154613416
             ]
            },
            {
             "iteration": 61,
             "learn": [
              0.2158565928
             ],
             "passed_time": 26.89538096,
             "remaining_time": 16.48426575,
             "test": [
              0.213065581
             ]
            },
            {
             "iteration": 62,
             "learn": [
              0.2134184529
             ],
             "passed_time": 27.32160668,
             "remaining_time": 16.04602297,
             "test": [
              0.2103448658
             ]
            },
            {
             "iteration": 63,
             "learn": [
              0.2109665583
             ],
             "passed_time": 27.76301795,
             "remaining_time": 15.6166976,
             "test": [
              0.2079039005
             ]
            },
            {
             "iteration": 64,
             "learn": [
              0.2086668326
             ],
             "passed_time": 28.18512265,
             "remaining_time": 15.1766045,
             "test": [
              0.2053970762
             ]
            },
            {
             "iteration": 65,
             "learn": [
              0.2063903792
             ],
             "passed_time": 28.63475809,
             "remaining_time": 14.75123901,
             "test": [
              0.2030937802
             ]
            },
            {
             "iteration": 66,
             "learn": [
              0.2045765673
             ],
             "passed_time": 28.94661311,
             "remaining_time": 14.25728705,
             "test": [
              0.2011170597
             ]
            },
            {
             "iteration": 67,
             "learn": [
              0.2023967919
             ],
             "passed_time": 29.35175808,
             "remaining_time": 13.81259204,
             "test": [
              0.1988709011
             ]
            },
            {
             "iteration": 68,
             "learn": [
              0.2001541914
             ],
             "passed_time": 29.79496728,
             "remaining_time": 13.38614472,
             "test": [
              0.1965567181
             ]
            },
            {
             "iteration": 69,
             "learn": [
              0.19811784
             ],
             "passed_time": 30.22325999,
             "remaining_time": 12.95282571,
             "test": [
              0.1945608504
             ]
            },
            {
             "iteration": 70,
             "learn": [
              0.1961098052
             ],
             "passed_time": 30.66519425,
             "remaining_time": 12.52522019,
             "test": [
              0.1926327116
             ]
            },
            {
             "iteration": 71,
             "learn": [
              0.1945449657
             ],
             "passed_time": 30.9778127,
             "remaining_time": 12.04692716,
             "test": [
              0.1908625243
             ]
            },
            {
             "iteration": 72,
             "learn": [
              0.1925260968
             ],
             "passed_time": 31.42387076,
             "remaining_time": 11.62252754,
             "test": [
              0.1888440454
             ]
            },
            {
             "iteration": 73,
             "learn": [
              0.19042382
             ],
             "passed_time": 31.83782326,
             "remaining_time": 11.18626222,
             "test": [
              0.1867416678
             ]
            },
            {
             "iteration": 74,
             "learn": [
              0.1885826968
             ],
             "passed_time": 32.26620524,
             "remaining_time": 10.75540175,
             "test": [
              0.1851028825
             ]
            },
            {
             "iteration": 75,
             "learn": [
              0.1871543574
             ],
             "passed_time": 32.57515718,
             "remaining_time": 10.28689174,
             "test": [
              0.1835770372
             ]
            },
            {
             "iteration": 76,
             "learn": [
              0.1852150179
             ],
             "passed_time": 32.98662179,
             "remaining_time": 9.85314677,
             "test": [
              0.1817490264
             ]
            },
            {
             "iteration": 77,
             "learn": [
              0.1834943352
             ],
             "passed_time": 33.36880788,
             "remaining_time": 9.411715044,
             "test": [
              0.1801607019
             ]
            },
            {
             "iteration": 78,
             "learn": [
              0.1821578491
             ],
             "passed_time": 33.68006507,
             "remaining_time": 8.952928691,
             "test": [
              0.1787310436
             ]
            },
            {
             "iteration": 79,
             "learn": [
              0.1804646254
             ],
             "passed_time": 34.08624566,
             "remaining_time": 8.521561416,
             "test": [
              0.1771896663
             ]
            },
            {
             "iteration": 80,
             "learn": [
              0.1787176487
             ],
             "passed_time": 34.59039152,
             "remaining_time": 8.113795542,
             "test": [
              0.175603513
             ]
            },
            {
             "iteration": 81,
             "learn": [
              0.1774915831
             ],
             "passed_time": 34.89886601,
             "remaining_time": 7.660726684,
             "test": [
              0.1743863747
             ]
            },
            {
             "iteration": 82,
             "learn": [
              0.1757768083
             ],
             "passed_time": 35.36903004,
             "remaining_time": 7.244259164,
             "test": [
              0.1727082601
             ]
            },
            {
             "iteration": 83,
             "learn": [
              0.1743800377
             ],
             "passed_time": 35.75567958,
             "remaining_time": 6.810605635,
             "test": [
              0.1713258715
             ]
            },
            {
             "iteration": 84,
             "learn": [
              0.1731661811
             ],
             "passed_time": 36.07269476,
             "remaining_time": 6.365769663,
             "test": [
              0.1700092041
             ]
            },
            {
             "iteration": 85,
             "learn": [
              0.1714973199
             ],
             "passed_time": 36.50756575,
             "remaining_time": 5.943092098,
             "test": [
              0.1684814636
             ]
            },
            {
             "iteration": 86,
             "learn": [
              0.1699207007
             ],
             "passed_time": 36.92196192,
             "remaining_time": 5.51707477,
             "test": [
              0.1668031138
             ]
            },
            {
             "iteration": 87,
             "learn": [
              0.1685175601
             ],
             "passed_time": 37.34050516,
             "remaining_time": 5.091887068,
             "test": [
              0.1652952832
             ]
            },
            {
             "iteration": 88,
             "learn": [
              0.1670813388
             ],
             "passed_time": 37.79540881,
             "remaining_time": 4.671342661,
             "test": [
              0.1640378341
             ]
            },
            {
             "iteration": 89,
             "learn": [
              0.1657361621
             ],
             "passed_time": 38.2043018,
             "remaining_time": 4.244922423,
             "test": [
              0.1625502408
             ]
            },
            {
             "iteration": 90,
             "learn": [
              0.1642800833
             ],
             "passed_time": 38.64587996,
             "remaining_time": 3.822119996,
             "test": [
              0.161079059
             ]
            },
            {
             "iteration": 91,
             "learn": [
              0.1630125125
             ],
             "passed_time": 39.05592058,
             "remaining_time": 3.396167007,
             "test": [
              0.1596751437
             ]
            },
            {
             "iteration": 92,
             "learn": [
              0.1615428912
             ],
             "passed_time": 39.50306433,
             "remaining_time": 2.973348928,
             "test": [
              0.1582926204
             ]
            },
            {
             "iteration": 93,
             "learn": [
              0.1605778635
             ],
             "passed_time": 39.81643337,
             "remaining_time": 2.54147447,
             "test": [
              0.1572806677
             ]
            },
            {
             "iteration": 94,
             "learn": [
              0.1589571873
             ],
             "passed_time": 40.3406563,
             "remaining_time": 2.123192437,
             "test": [
              0.155865633
             ]
            },
            {
             "iteration": 95,
             "learn": [
              0.1579388004
             ],
             "passed_time": 40.73032165,
             "remaining_time": 1.697096736,
             "test": [
              0.1548810662
             ]
            },
            {
             "iteration": 96,
             "learn": [
              0.1565121124
             ],
             "passed_time": 41.14461867,
             "remaining_time": 1.272513979,
             "test": [
              0.1534666108
             ]
            },
            {
             "iteration": 97,
             "learn": [
              0.1555995384
             ],
             "passed_time": 41.49434884,
             "remaining_time": 0.8468234457,
             "test": [
              0.1524952813
             ]
            },
            {
             "iteration": 98,
             "learn": [
              0.1542775003
             ],
             "passed_time": 41.91111848,
             "remaining_time": 0.4233446311,
             "test": [
              0.1512828498
             ]
            },
            {
             "iteration": 99,
             "learn": [
              0.1534479853
             ],
             "passed_time": 42.21404279,
             "remaining_time": 0,
             "test": [
              0.1502328592
             ]
            }
           ],
           "meta": {
            "iteration_count": 100,
            "launch_mode": "Train",
            "learn_metrics": [
             {
              "best_value": "Min",
              "name": "CrossEntropy"
             }
            ],
            "learn_sets": [
             "learn"
            ],
            "name": "experiment",
            "parameters": "",
            "test_metrics": [
             {
              "best_value": "Min",
              "name": "CrossEntropy"
             }
            ],
            "test_sets": [
             "test"
            ]
           }
          },
          "passed_iterations": 99,
          "total_iterations": 100
         },
         "name": "catboost_info",
         "path": "catboost_info"
        }
       },
       "layout": "IPY_MODEL_6a9ac5be7c6a44e39bf4257b98afcb3c"
      }
     },
     "2c0aacaf3aab47688eec3c7a89d046f5": {
      "model_module": "catboost-widget",
      "model_module_version": "^1.0.0",
      "model_name": "CatboostWidgetModel",
      "state": {
       "_dom_classes": [],
       "_model_module": "catboost-widget",
       "_model_module_version": "^1.0.0",
       "_model_name": "CatboostWidgetModel",
       "_view_count": null,
       "_view_module": "catboost-widget",
       "_view_module_version": "^1.0.0",
       "_view_name": "CatboostWidgetView",
       "data": {
        "catboost_info": {
         "content": {
          "data": {
           "iterations": [
            {
             "iteration": 0,
             "learn": [
              0.6614098964
             ],
             "passed_time": 0.4026440005,
             "remaining_time": 39.86175605,
             "test": [
              0.6636066831
             ]
            },
            {
             "iteration": 1,
             "learn": [
              0.636317593
             ],
             "passed_time": 0.8462796972,
             "remaining_time": 41.46770516,
             "test": [
              0.6357859125
             ]
            },
            {
             "iteration": 2,
             "learn": [
              0.6093973046
             ],
             "passed_time": 1.303390918,
             "remaining_time": 42.14297303,
             "test": [
              0.6095382006
             ]
            },
            {
             "iteration": 3,
             "learn": [
              0.5837469166
             ],
             "passed_time": 1.668738993,
             "remaining_time": 40.04973582,
             "test": [
              0.5847354755
             ]
            },
            {
             "iteration": 4,
             "learn": [
              0.5622263513
             ],
             "passed_time": 2.075336409,
             "remaining_time": 39.43139178,
             "test": [
              0.5612649717
             ]
            },
            {
             "iteration": 5,
             "learn": [
              0.5378093255
             ],
             "passed_time": 2.507801583,
             "remaining_time": 39.28889146,
             "test": [
              0.5390248046
             ]
            },
            {
             "iteration": 6,
             "learn": [
              0.5169463052
             ],
             "passed_time": 2.84087193,
             "remaining_time": 37.74301278,
             "test": [
              0.5179166449
             ]
            },
            {
             "iteration": 7,
             "learn": [
              0.4987541664
             ],
             "passed_time": 3.293013613,
             "remaining_time": 37.86965655,
             "test": [
              0.4978740973
             ]
            },
            {
             "iteration": 8,
             "learn": [
              0.4786007916
             ],
             "passed_time": 3.736400146,
             "remaining_time": 37.77915703,
             "test": [
              0.4788136128
             ]
            },
            {
             "iteration": 9,
             "learn": [
              0.460647102
             ],
             "passed_time": 4.160001641,
             "remaining_time": 37.44001477,
             "test": [
              0.4606688708
             ]
            },
            {
             "iteration": 10,
             "learn": [
              0.4440856259
             ],
             "passed_time": 4.59091579,
             "remaining_time": 37.1446823,
             "test": [
              0.4433840293
             ]
            },
            {
             "iteration": 11,
             "learn": [
              0.4281319456
             ],
             "passed_time": 4.984374152,
             "remaining_time": 36.55207711,
             "test": [
              0.4268983165
             ]
            },
            {
             "iteration": 12,
             "learn": [
              0.4123140251
             ],
             "passed_time": 5.426906017,
             "remaining_time": 36.31852488,
             "test": [
              0.4111674541
             ]
            },
            {
             "iteration": 13,
             "learn": [
              0.3968752952
             ],
             "passed_time": 5.817646482,
             "remaining_time": 35.73697124,
             "test": [
              0.3961452961
             ]
            },
            {
             "iteration": 14,
             "learn": [
              0.3825303555
             ],
             "passed_time": 6.230993505,
             "remaining_time": 35.30896319,
             "test": [
              0.3817889201
             ]
            },
            {
             "iteration": 15,
             "learn": [
              0.3674613337
             ],
             "passed_time": 6.599477978,
             "remaining_time": 34.64725938,
             "test": [
              0.3680625387
             ]
            },
            {
             "iteration": 16,
             "learn": [
              0.3540753189
             ],
             "passed_time": 6.998243444,
             "remaining_time": 34.16789446,
             "test": [
              0.3549204071
             ]
            },
            {
             "iteration": 17,
             "learn": [
              0.3433158046
             ],
             "passed_time": 7.462027759,
             "remaining_time": 33.99368201,
             "test": [
              0.3423357334
             ]
            },
            {
             "iteration": 18,
             "learn": [
              0.3302094974
             ],
             "passed_time": 7.797826725,
             "remaining_time": 33.24336657,
             "test": [
              0.3302745224
             ]
            },
            {
             "iteration": 19,
             "learn": [
              0.3197968147
             ],
             "passed_time": 8.189783017,
             "remaining_time": 32.75913207,
             "test": [
              0.3187147308
             ]
            },
            {
             "iteration": 20,
             "learn": [
              0.3071850721
             ],
             "passed_time": 8.573275256,
             "remaining_time": 32.25184501,
             "test": [
              0.3076280835
             ]
            },
            {
             "iteration": 21,
             "learn": [
              0.2970205853
             ],
             "passed_time": 9.004835167,
             "remaining_time": 31.92623377,
             "test": [
              0.2969902063
             ]
            },
            {
             "iteration": 22,
             "learn": [
              0.2869656435
             ],
             "passed_time": 9.3660927,
             "remaining_time": 31.35604947,
             "test": [
              0.286774968
             ]
            },
            {
             "iteration": 23,
             "learn": [
              0.2766769117
             ],
             "passed_time": 9.78697227,
             "remaining_time": 30.99207885,
             "test": [
              0.2769660048
             ]
            },
            {
             "iteration": 24,
             "learn": [
              0.2667060428
             ],
             "passed_time": 10.20180645,
             "remaining_time": 30.60541936,
             "test": [
              0.2675390404
             ]
            },
            {
             "iteration": 25,
             "learn": [
              0.2581421473
             ],
             "passed_time": 10.62075514,
             "remaining_time": 30.2283031,
             "test": [
              0.2584787133
             ]
            },
            {
             "iteration": 26,
             "learn": [
              0.250119298
             ],
             "passed_time": 11.06242349,
             "remaining_time": 29.90951536,
             "test": [
              0.2497674884
             ]
            },
            {
             "iteration": 27,
             "learn": [
              0.2421293405
             ],
             "passed_time": 11.46092149,
             "remaining_time": 29.47094098,
             "test": [
              0.2413911844
             ]
            },
            {
             "iteration": 28,
             "learn": [
              0.2338471505
             ],
             "passed_time": 11.88524929,
             "remaining_time": 29.09836895,
             "test": [
              0.2333272953
             ]
            },
            {
             "iteration": 29,
             "learn": [
              0.2260265606
             ],
             "passed_time": 12.34338708,
             "remaining_time": 28.80123651,
             "test": [
              0.2255669171
             ]
            },
            {
             "iteration": 30,
             "learn": [
              0.2187015536
             ],
             "passed_time": 12.75603043,
             "remaining_time": 28.39245482,
             "test": [
              0.2180944375
             ]
            },
            {
             "iteration": 31,
             "learn": [
              0.2111060073
             ],
             "passed_time": 13.15731815,
             "remaining_time": 27.95930107,
             "test": [
              0.2108948523
             ]
            },
            {
             "iteration": 32,
             "learn": [
              0.2035795105
             ],
             "passed_time": 13.60895924,
             "remaining_time": 27.63031119,
             "test": [
              0.2039609428
             ]
            },
            {
             "iteration": 33,
             "learn": [
              0.1967693089
             ],
             "passed_time": 14.05484769,
             "remaining_time": 27.28293963,
             "test": [
              0.1972778889
             ]
            },
            {
             "iteration": 34,
             "learn": [
              0.1913614147
             ],
             "passed_time": 14.5106299,
             "remaining_time": 26.94831266,
             "test": [
              0.1908382373
             ]
            },
            {
             "iteration": 35,
             "learn": [
              0.1841771689
             ],
             "passed_time": 14.88468037,
             "remaining_time": 26.46165399,
             "test": [
              0.1846295508
             ]
            },
            {
             "iteration": 36,
             "learn": [
              0.1789666576
             ],
             "passed_time": 15.29062944,
             "remaining_time": 26.03539607,
             "test": [
              0.1786426998
             ]
            },
            {
             "iteration": 37,
             "learn": [
              0.1724522745
             ],
             "passed_time": 15.67084959,
             "remaining_time": 25.56822828,
             "test": [
              0.1728693639
             ]
            },
            {
             "iteration": 38,
             "learn": [
              0.1678631262
             ],
             "passed_time": 16.10593778,
             "remaining_time": 25.19133857,
             "test": [
              0.1672938688
             ]
            },
            {
             "iteration": 39,
             "learn": [
              0.1616801763
             ],
             "passed_time": 16.50733537,
             "remaining_time": 24.76100306,
             "test": [
              0.1619168939
             ]
            },
            {
             "iteration": 40,
             "learn": [
              0.1565585945
             ],
             "passed_time": 16.89171103,
             "remaining_time": 24.30758417,
             "test": [
              0.156726518
             ]
            },
            {
             "iteration": 41,
             "learn": [
              0.1522243484
             ],
             "passed_time": 17.32208753,
             "remaining_time": 23.92097801,
             "test": [
              0.1517170442
             ]
            },
            {
             "iteration": 42,
             "learn": [
              0.1472423969
             ],
             "passed_time": 17.7560649,
             "remaining_time": 23.53710929,
             "test": [
              0.146880523
             ]
            },
            {
             "iteration": 43,
             "learn": [
              0.142124627
             ],
             "passed_time": 18.14767926,
             "remaining_time": 23.09704634,
             "test": [
              0.142207322
             ]
            },
            {
             "iteration": 44,
             "learn": [
              0.1373725754
             ],
             "passed_time": 18.59512018,
             "remaining_time": 22.72736911,
             "test": [
              0.1376965031
             ]
            },
            {
             "iteration": 45,
             "learn": [
              0.1331523694
             ],
             "passed_time": 19.05413257,
             "remaining_time": 22.36789476,
             "test": [
              0.133336391
             ]
            },
            {
             "iteration": 46,
             "learn": [
              0.1291418944
             ],
             "passed_time": 19.40612743,
             "remaining_time": 21.8835054,
             "test": [
              0.1291227018
             ]
            },
            {
             "iteration": 47,
             "learn": [
              0.1252185774
             ],
             "passed_time": 19.90455724,
             "remaining_time": 21.56327035,
             "test": [
              0.1250531948
             ]
            },
            {
             "iteration": 48,
             "learn": [
              0.1213101193
             ],
             "passed_time": 20.36979201,
             "remaining_time": 21.20121209,
             "test": [
              0.1211208468
             ]
            },
            {
             "iteration": 49,
             "learn": [
              0.1174142494
             ],
             "passed_time": 20.69068799,
             "remaining_time": 20.69068799,
             "test": [
              0.1173172643
             ]
            },
            {
             "iteration": 50,
             "learn": [
              0.1135583983
             ],
             "passed_time": 21.1054809,
             "remaining_time": 20.27781498,
             "test": [
              0.1136435441
             ]
            },
            {
             "iteration": 51,
             "learn": [
              0.1099954455
             ],
             "passed_time": 21.46230187,
             "remaining_time": 19.81135557,
             "test": [
              0.1100912257
             ]
            },
            {
             "iteration": 52,
             "learn": [
              0.107141774
             ],
             "passed_time": 21.80323705,
             "remaining_time": 19.33494606,
             "test": [
              0.1066573268
             ]
            },
            {
             "iteration": 53,
             "learn": [
              0.1036476571
             ],
             "passed_time": 22.15407787,
             "remaining_time": 18.87199226,
             "test": [
              0.103336367
             ]
            },
            {
             "iteration": 54,
             "learn": [
              0.09998591789
             ],
             "passed_time": 22.62628056,
             "remaining_time": 18.51241137,
             "test": [
              0.1001236482
             ]
            },
            {
             "iteration": 55,
             "learn": [
              0.09737831933
             ],
             "passed_time": 23.04887858,
             "remaining_time": 18.10983317,
             "test": [
              0.09701613779
             ]
            },
            {
             "iteration": 56,
             "learn": [
              0.09400665417
             ],
             "passed_time": 23.44731786,
             "remaining_time": 17.6883275,
             "test": [
              0.09400667713
             ]
            },
            {
             "iteration": 57,
             "learn": [
              0.09144483786
             ],
             "passed_time": 23.91714403,
             "remaining_time": 17.3193112,
             "test": [
              0.09109623177
             ]
            },
            {
             "iteration": 58,
             "learn": [
              0.08819213964
             ],
             "passed_time": 24.54158719,
             "remaining_time": 17.0543233,
             "test": [
              0.08827894389
             ]
            },
            {
             "iteration": 59,
             "learn": [
              0.08572971302
             ],
             "passed_time": 25.13647383,
             "remaining_time": 16.75764922,
             "test": [
              0.0855562461
             ]
            },
            {
             "iteration": 60,
             "learn": [
              0.08284343788
             ],
             "passed_time": 25.60086348,
             "remaining_time": 16.36776518,
             "test": [
              0.08292054246
             ]
            },
            {
             "iteration": 61,
             "learn": [
              0.08034730649
             ],
             "passed_time": 26.02081054,
             "remaining_time": 15.94823872,
             "test": [
              0.08036889957
             ]
            },
            {
             "iteration": 62,
             "learn": [
              0.0781942273
             ],
             "passed_time": 26.45928616,
             "remaining_time": 15.53958076,
             "test": [
              0.07789748206
             ]
            },
            {
             "iteration": 63,
             "learn": [
              0.07572223242
             ],
             "passed_time": 26.84951618,
             "remaining_time": 15.10285285,
             "test": [
              0.07550482843
             ]
            },
            {
             "iteration": 64,
             "learn": [
              0.0732074374
             ],
             "passed_time": 27.31232562,
             "remaining_time": 14.70663687,
             "test": [
              0.07319113534
             ]
            },
            {
             "iteration": 65,
             "learn": [
              0.07084342311
             ],
             "passed_time": 27.71431814,
             "remaining_time": 14.27707298,
             "test": [
              0.07094824818
             ]
            },
            {
             "iteration": 66,
             "learn": [
              0.06873414652
             ],
             "passed_time": 28.15960352,
             "remaining_time": 13.86965546,
             "test": [
              0.06878001011
             ]
            },
            {
             "iteration": 67,
             "learn": [
              0.06667194839
             ],
             "passed_time": 28.53166155,
             "remaining_time": 13.42666426,
             "test": [
              0.06668007057
             ]
            },
            {
             "iteration": 68,
             "learn": [
              0.06469320827
             ],
             "passed_time": 28.9200457,
             "remaining_time": 12.99306401,
             "test": [
              0.06464362569
             ]
            },
            {
             "iteration": 69,
             "learn": [
              0.06274132532
             ],
             "passed_time": 29.26094136,
             "remaining_time": 12.54040344,
             "test": [
              0.0626740181
             ]
            },
            {
             "iteration": 70,
             "learn": [
              0.06079915874
             ],
             "passed_time": 29.62131509,
             "remaining_time": 12.09884701,
             "test": [
              0.06076729053
             ]
            },
            {
             "iteration": 71,
             "learn": [
              0.05888720747
             ],
             "passed_time": 29.96266298,
             "remaining_time": 11.65214672,
             "test": [
              0.05891704887
             ]
            },
            {
             "iteration": 72,
             "learn": [
              0.05709491803
             ],
             "passed_time": 30.36805588,
             "remaining_time": 11.23202067,
             "test": [
              0.0571272372
             ]
            },
            {
             "iteration": 73,
             "learn": [
              0.0556414535
             ],
             "passed_time": 30.78152801,
             "remaining_time": 10.81513146,
             "test": [
              0.05539189309
             ]
            },
            {
             "iteration": 74,
             "learn": [
              0.05388319514
             ],
             "passed_time": 31.16260558,
             "remaining_time": 10.38753519,
             "test": [
              0.05370936756
             ]
            },
            {
             "iteration": 75,
             "learn": [
              0.05205254976
             ],
             "passed_time": 31.6180534,
             "remaining_time": 9.984648441,
             "test": [
              0.05208227252
             ]
            },
            {
             "iteration": 76,
             "learn": [
              0.05073168937
             ],
             "passed_time": 32.04251057,
             "remaining_time": 9.571139519,
             "test": [
              0.05050316881
             ]
            },
            {
             "iteration": 77,
             "learn": [
              0.04904654023
             ],
             "passed_time": 32.44473634,
             "remaining_time": 9.151079479,
             "test": [
              0.04897618447
             ]
            },
            {
             "iteration": 78,
             "learn": [
              0.04754022994
             ],
             "passed_time": 32.83963595,
             "remaining_time": 8.729523482,
             "test": [
              0.04749366818
             ]
            },
            {
             "iteration": 79,
             "learn": [
              0.04611696609
             ],
             "passed_time": 33.23953965,
             "remaining_time": 8.309884912,
             "test": [
              0.04605722385
             ]
            },
            {
             "iteration": 80,
             "learn": [
              0.04485433485
             ],
             "passed_time": 33.65177437,
             "remaining_time": 7.893626086,
             "test": [
              0.04466686607
             ]
            },
            {
             "iteration": 81,
             "learn": [
              0.04329503492
             ],
             "passed_time": 33.99961236,
             "remaining_time": 7.463329542,
             "test": [
              0.04331762025
             ]
            },
            {
             "iteration": 82,
             "learn": [
              0.04215968876
             ],
             "passed_time": 34.41900587,
             "remaining_time": 7.049675901,
             "test": [
              0.04201057623
             ]
            },
            {
             "iteration": 83,
             "learn": [
              0.0409113873
             ],
             "passed_time": 34.78104806,
             "remaining_time": 6.624961536,
             "test": [
              0.04074514362
             ]
            },
            {
             "iteration": 84,
             "learn": [
              0.03954769162
             ],
             "passed_time": 35.12437343,
             "remaining_time": 6.19841884,
             "test": [
              0.03951685242
             ]
            },
            {
             "iteration": 85,
             "learn": [
              0.03832731606
             ],
             "passed_time": 35.49500637,
             "remaining_time": 5.77825685,
             "test": [
              0.03832624313
             ]
            },
            {
             "iteration": 86,
             "learn": [
              0.03728023441
             ],
             "passed_time": 35.81316654,
             "remaining_time": 5.351392702,
             "test": [
              0.03717222488
             ]
            },
            {
             "iteration": 87,
             "learn": [
              0.03623105556
             ],
             "passed_time": 36.25011099,
             "remaining_time": 4.943196954,
             "test": [
              0.03605695536
             ]
            },
            {
             "iteration": 88,
             "learn": [
              0.0350646424
             ],
             "passed_time": 36.65500772,
             "remaining_time": 4.530394213,
             "test": [
              0.03497351094
             ]
            },
            {
             "iteration": 89,
             "learn": [
              0.03401864597
             ],
             "passed_time": 37.00243454,
             "remaining_time": 4.111381616,
             "test": [
              0.03392243204
             ]
            },
            {
             "iteration": 90,
             "learn": [
              0.03299898997
             ],
             "passed_time": 37.3641038,
             "remaining_time": 3.695350925,
             "test": [
              0.03290357833
             ]
            },
            {
             "iteration": 91,
             "learn": [
              0.03200654024
             ],
             "passed_time": 37.8292765,
             "remaining_time": 3.289502304,
             "test": [
              0.03191773345
             ]
            },
            {
             "iteration": 92,
             "learn": [
              0.03102667873
             ],
             "passed_time": 38.14423279,
             "remaining_time": 2.871071285,
             "test": [
              0.03096004588
             ]
            },
            {
             "iteration": 93,
             "learn": [
              0.03010158952
             ],
             "passed_time": 38.6126384,
             "remaining_time": 2.464636494,
             "test": [
              0.03003447919
             ]
            },
            {
             "iteration": 94,
             "learn": [
              0.02918484976
             ],
             "passed_time": 39.08207673,
             "remaining_time": 2.056951407,
             "test": [
              0.02913718254
             ]
            },
            {
             "iteration": 95,
             "learn": [
              0.02840160451
             ],
             "passed_time": 39.46452212,
             "remaining_time": 1.644355088,
             "test": [
              0.02826398501
             ]
            },
            {
             "iteration": 96,
             "learn": [
              0.02750766546
             ],
             "passed_time": 39.79479868,
             "remaining_time": 1.230766969,
             "test": [
              0.02741816261
             ]
            },
            {
             "iteration": 97,
             "learn": [
              0.02662752754
             ],
             "passed_time": 40.23777299,
             "remaining_time": 0.8211790407,
             "test": [
              0.0265996734
             ]
            },
            {
             "iteration": 98,
             "learn": [
              0.02593869586
             ],
             "passed_time": 40.62419582,
             "remaining_time": 0.4103454124,
             "test": [
              0.02580428249
             ]
            },
            {
             "iteration": 99,
             "learn": [
              0.02507833935
             ],
             "passed_time": 40.9879613,
             "remaining_time": 0,
             "test": [
              0.02503270869
             ]
            }
           ],
           "meta": {
            "iteration_count": 100,
            "launch_mode": "Train",
            "learn_metrics": [
             {
              "best_value": "Min",
              "name": "CrossEntropy"
             }
            ],
            "learn_sets": [
             "learn"
            ],
            "name": "experiment",
            "parameters": "",
            "test_metrics": [
             {
              "best_value": "Min",
              "name": "CrossEntropy"
             }
            ],
            "test_sets": [
             "test"
            ]
           }
          },
          "passed_iterations": 99,
          "total_iterations": 100
         },
         "name": "catboost_info",
         "path": "catboost_info"
        }
       },
       "layout": "IPY_MODEL_0b6f4b0f1a474005b511df9aebe9981a"
      }
     },
     "2cd8478829ec469497f1728a021ce7df": {
      "model_module": "@jupyter-widgets/base",
      "model_module_version": "1.2.0",
      "model_name": "LayoutModel",
      "state": {
       "_model_module": "@jupyter-widgets/base",
       "_model_module_version": "1.2.0",
       "_model_name": "LayoutModel",
       "_view_count": null,
       "_view_module": "@jupyter-widgets/base",
       "_view_module_version": "1.2.0",
       "_view_name": "LayoutView",
       "align_content": null,
       "align_items": null,
       "align_self": "stretch",
       "border": null,
       "bottom": null,
       "display": null,
       "flex": null,
       "flex_flow": null,
       "grid_area": null,
       "grid_auto_columns": null,
       "grid_auto_flow": null,
       "grid_auto_rows": null,
       "grid_column": null,
       "grid_gap": null,
       "grid_row": null,
       "grid_template_areas": null,
       "grid_template_columns": null,
       "grid_template_rows": null,
       "height": "500px",
       "justify_content": null,
       "justify_items": null,
       "left": null,
       "margin": null,
       "max_height": null,
       "max_width": null,
       "min_height": null,
       "min_width": null,
       "object_fit": null,
       "object_position": null,
       "order": null,
       "overflow": null,
       "overflow_x": null,
       "overflow_y": null,
       "padding": null,
       "right": null,
       "top": null,
       "visibility": null,
       "width": null
      }
     },
     "2fa1b8f08e8242df98aa364d71f17f9e": {
      "model_module": "@jupyter-widgets/base",
      "model_module_version": "1.2.0",
      "model_name": "LayoutModel",
      "state": {
       "_model_module": "@jupyter-widgets/base",
       "_model_module_version": "1.2.0",
       "_model_name": "LayoutModel",
       "_view_count": null,
       "_view_module": "@jupyter-widgets/base",
       "_view_module_version": "1.2.0",
       "_view_name": "LayoutView",
       "align_content": null,
       "align_items": null,
       "align_self": "stretch",
       "border": null,
       "bottom": null,
       "display": null,
       "flex": null,
       "flex_flow": null,
       "grid_area": null,
       "grid_auto_columns": null,
       "grid_auto_flow": null,
       "grid_auto_rows": null,
       "grid_column": null,
       "grid_gap": null,
       "grid_row": null,
       "grid_template_areas": null,
       "grid_template_columns": null,
       "grid_template_rows": null,
       "height": "500px",
       "justify_content": null,
       "justify_items": null,
       "left": null,
       "margin": null,
       "max_height": null,
       "max_width": null,
       "min_height": null,
       "min_width": null,
       "object_fit": null,
       "object_position": null,
       "order": null,
       "overflow": null,
       "overflow_x": null,
       "overflow_y": null,
       "padding": null,
       "right": null,
       "top": null,
       "visibility": null,
       "width": null
      }
     },
     "49a3c37473ee407c8e2ceebf041e9473": {
      "model_module": "@jupyter-widgets/base",
      "model_module_version": "1.2.0",
      "model_name": "LayoutModel",
      "state": {
       "_model_module": "@jupyter-widgets/base",
       "_model_module_version": "1.2.0",
       "_model_name": "LayoutModel",
       "_view_count": null,
       "_view_module": "@jupyter-widgets/base",
       "_view_module_version": "1.2.0",
       "_view_name": "LayoutView",
       "align_content": null,
       "align_items": null,
       "align_self": "stretch",
       "border": null,
       "bottom": null,
       "display": null,
       "flex": null,
       "flex_flow": null,
       "grid_area": null,
       "grid_auto_columns": null,
       "grid_auto_flow": null,
       "grid_auto_rows": null,
       "grid_column": null,
       "grid_gap": null,
       "grid_row": null,
       "grid_template_areas": null,
       "grid_template_columns": null,
       "grid_template_rows": null,
       "height": "500px",
       "justify_content": null,
       "justify_items": null,
       "left": null,
       "margin": null,
       "max_height": null,
       "max_width": null,
       "min_height": null,
       "min_width": null,
       "object_fit": null,
       "object_position": null,
       "order": null,
       "overflow": null,
       "overflow_x": null,
       "overflow_y": null,
       "padding": null,
       "right": null,
       "top": null,
       "visibility": null,
       "width": null
      }
     },
     "58a8db05bb5747438da5375e010c0cc4": {
      "model_module": "@jupyter-widgets/base",
      "model_module_version": "1.2.0",
      "model_name": "LayoutModel",
      "state": {
       "_model_module": "@jupyter-widgets/base",
       "_model_module_version": "1.2.0",
       "_model_name": "LayoutModel",
       "_view_count": null,
       "_view_module": "@jupyter-widgets/base",
       "_view_module_version": "1.2.0",
       "_view_name": "LayoutView",
       "align_content": null,
       "align_items": null,
       "align_self": "stretch",
       "border": null,
       "bottom": null,
       "display": null,
       "flex": null,
       "flex_flow": null,
       "grid_area": null,
       "grid_auto_columns": null,
       "grid_auto_flow": null,
       "grid_auto_rows": null,
       "grid_column": null,
       "grid_gap": null,
       "grid_row": null,
       "grid_template_areas": null,
       "grid_template_columns": null,
       "grid_template_rows": null,
       "height": "500px",
       "justify_content": null,
       "justify_items": null,
       "left": null,
       "margin": null,
       "max_height": null,
       "max_width": null,
       "min_height": null,
       "min_width": null,
       "object_fit": null,
       "object_position": null,
       "order": null,
       "overflow": null,
       "overflow_x": null,
       "overflow_y": null,
       "padding": null,
       "right": null,
       "top": null,
       "visibility": null,
       "width": null
      }
     },
     "5af5343b0d0b4e46b36db3339cbf1ed2": {
      "model_module": "catboost-widget",
      "model_module_version": "^1.0.0",
      "model_name": "CatboostWidgetModel",
      "state": {
       "_dom_classes": [],
       "_model_module": "catboost-widget",
       "_model_module_version": "^1.0.0",
       "_model_name": "CatboostWidgetModel",
       "_view_count": null,
       "_view_module": "catboost-widget",
       "_view_module_version": "^1.0.0",
       "_view_name": "CatboostWidgetView",
       "data": {
        "catboost_info": {
         "content": {
          "data": {
           "iterations": [
            {
             "iteration": 0,
             "learn": [
              0.6613851866
             ],
             "passed_time": 0.4084817291,
             "remaining_time": 40.43969119,
             "test": [
              0.6636000527
             ]
            },
            {
             "iteration": 1,
             "learn": [
              0.6362964583
             ],
             "passed_time": 0.8547501889,
             "remaining_time": 41.88275926,
             "test": [
              0.6357731441
             ]
            },
            {
             "iteration": 2,
             "learn": [
              0.6093780888
             ],
             "passed_time": 1.292206166,
             "remaining_time": 41.78133269,
             "test": [
              0.6095200918
             ]
            },
            {
             "iteration": 3,
             "learn": [
              0.5837200644
             ],
             "passed_time": 1.654219992,
             "remaining_time": 39.70127981,
             "test": [
              0.5847120909
             ]
            },
            {
             "iteration": 4,
             "learn": [
              0.5621931245
             ],
             "passed_time": 2.068914067,
             "remaining_time": 39.30936727,
             "test": [
              0.5612368903
             ]
            },
            {
             "iteration": 5,
             "learn": [
              0.5376554676
             ],
             "passed_time": 2.501151321,
             "remaining_time": 39.18470403,
             "test": [
              0.5389930247
             ]
            },
            {
             "iteration": 6,
             "learn": [
              0.5168848067
             ],
             "passed_time": 2.841340303,
             "remaining_time": 37.74923545,
             "test": [
              0.5178865972
             ]
            },
            {
             "iteration": 7,
             "learn": [
              0.4986855704
             ],
             "passed_time": 3.300594571,
             "remaining_time": 37.95683756,
             "test": [
              0.4978393133
             ]
            },
            {
             "iteration": 8,
             "learn": [
              0.4785280817
             ],
             "passed_time": 3.747890543,
             "remaining_time": 37.89533771,
             "test": [
              0.4787756724
             ]
            },
            {
             "iteration": 9,
             "learn": [
              0.4605838291
             ],
             "passed_time": 4.174878937,
             "remaining_time": 37.57391043,
             "test": [
              0.4606302752
             ]
            },
            {
             "iteration": 10,
             "learn": [
              0.4438314173
             ],
             "passed_time": 4.610614103,
             "remaining_time": 37.30405956,
             "test": [
              0.4433424252
             ]
            },
            {
             "iteration": 11,
             "learn": [
              0.4280555621
             ],
             "passed_time": 5.022974847,
             "remaining_time": 36.83514888,
             "test": [
              0.4268571627
             ]
            },
            {
             "iteration": 12,
             "learn": [
              0.4121350959
             ],
             "passed_time": 5.457854668,
             "remaining_time": 36.52564278,
             "test": [
              0.4111238272
             ]
            },
            {
             "iteration": 13,
             "learn": [
              0.3967810694
             ],
             "passed_time": 5.854553915,
             "remaining_time": 35.96368833,
             "test": [
              0.3960982139
             ]
            },
            {
             "iteration": 14,
             "learn": [
              0.3824106378
             ],
             "passed_time": 6.263344642,
             "remaining_time": 35.4922863,
             "test": [
              0.3817372361
             ]
            },
            {
             "iteration": 15,
             "learn": [
              0.3673431997
             ],
             "passed_time": 6.653549847,
             "remaining_time": 34.9311367,
             "test": [
              0.3680022581
             ]
            },
            {
             "iteration": 16,
             "learn": [
              0.353885257
             ],
             "passed_time": 7.074642737,
             "remaining_time": 34.54090278,
             "test": [
              0.354858621
             ]
            },
            {
             "iteration": 17,
             "learn": [
              0.3431788359
             ],
             "passed_time": 7.55109723,
             "remaining_time": 34.39944294,
             "test": [
              0.3422713018
             ]
            },
            {
             "iteration": 18,
             "learn": [
              0.3300938935
             ],
             "passed_time": 7.887676457,
             "remaining_time": 33.62641016,
             "test": [
              0.3302104465
             ]
            },
            {
             "iteration": 19,
             "learn": [
              0.3196805536
             ],
             "passed_time": 8.281556179,
             "remaining_time": 33.12622472,
             "test": [
              0.3186491174
             ]
            },
            {
             "iteration": 20,
             "learn": [
              0.3069921646
             ],
             "passed_time": 8.671157253,
             "remaining_time": 32.62006776,
             "test": [
              0.307560098
             ]
            },
            {
             "iteration": 21,
             "learn": [
              0.296889012
             ],
             "passed_time": 9.107860444,
             "remaining_time": 32.29150521,
             "test": [
              0.2969204098
             ]
            },
            {
             "iteration": 22,
             "learn": [
              0.2867751741
             ],
             "passed_time": 9.475188343,
             "remaining_time": 31.72128271,
             "test": [
              0.2867049165
             ]
            },
            {
             "iteration": 23,
             "learn": [
              0.2765111324
             ],
             "passed_time": 9.909402902,
             "remaining_time": 31.37977586,
             "test": [
              0.2768938682
             ]
            },
            {
             "iteration": 24,
             "learn": [
              0.2664562107
             ],
             "passed_time": 10.30898377,
             "remaining_time": 30.9269513,
             "test": [
              0.2674671962
             ]
            },
            {
             "iteration": 25,
             "learn": [
              0.2579880723
             ],
             "passed_time": 10.78437155,
             "remaining_time": 30.69398056,
             "test": [
              0.2584060257
             ]
            },
            {
             "iteration": 26,
             "learn": [
              0.2499717947
             ],
             "passed_time": 11.42051195,
             "remaining_time": 30.87768046,
             "test": [
              0.2496940787
             ]
            },
            {
             "iteration": 27,
             "learn": [
              0.2419819884
             ],
             "passed_time": 11.98024122,
             "remaining_time": 30.80633457,
             "test": [
              0.2413128219
             ]
            },
            {
             "iteration": 28,
             "learn": [
              0.2336864248
             ],
             "passed_time": 12.45337531,
             "remaining_time": 30.48929818,
             "test": [
              0.2332493204
             ]
            },
            {
             "iteration": 29,
             "learn": [
              0.2258553333
             ],
             "passed_time": 12.87061069,
             "remaining_time": 30.03142494,
             "test": [
              0.2254872828
             ]
            },
            {
             "iteration": 30,
             "learn": [
              0.2185346538
             ],
             "passed_time": 13.27858605,
             "remaining_time": 29.55556249,
             "test": [
              0.218013637
             ]
            },
            {
             "iteration": 31,
             "learn": [
              0.2109410494
             ],
             "passed_time": 13.66008082,
             "remaining_time": 29.02767174,
             "test": [
              0.2108151826
             ]
            },
            {
             "iteration": 32,
             "learn": [
              0.2033607727
             ],
             "passed_time": 14.11215088,
             "remaining_time": 28.65194269,
             "test": [
              0.2038804751
             ]
            },
            {
             "iteration": 33,
             "learn": [
              0.1964346914
             ],
             "passed_time": 14.56710643,
             "remaining_time": 28.27732424,
             "test": [
              0.1971978132
             ]
            },
            {
             "iteration": 34,
             "learn": [
              0.1911872203
             ],
             "passed_time": 15.0307073,
             "remaining_time": 27.9141707,
             "test": [
              0.190756811
             ]
            },
            {
             "iteration": 35,
             "learn": [
              0.1839155865
             ],
             "passed_time": 15.41677486,
             "remaining_time": 27.40759975,
             "test": [
              0.1845472521
             ]
            },
            {
             "iteration": 36,
             "learn": [
              0.17877491
             ],
             "passed_time": 15.81546559,
             "remaining_time": 26.92903601,
             "test": [
              0.1785587707
             ]
            },
            {
             "iteration": 37,
             "learn": [
              0.1722022713
             ],
             "passed_time": 16.19272997,
             "remaining_time": 26.41971733,
             "test": [
              0.1727822758
             ]
            },
            {
             "iteration": 38,
             "learn": [
              0.1676799938
             ],
             "passed_time": 16.63906459,
             "remaining_time": 26.02520359,
             "test": [
              0.1672095746
             ]
            },
            {
             "iteration": 39,
             "learn": [
              0.1614382432
             ],
             "passed_time": 17.04354432,
             "remaining_time": 25.56531648,
             "test": [
              0.1618317191
             ]
            },
            {
             "iteration": 40,
             "learn": [
              0.1563437666
             ],
             "passed_time": 17.48252949,
             "remaining_time": 25.15778634,
             "test": [
              0.1566414478
             ]
            },
            {
             "iteration": 41,
             "learn": [
              0.1520289269
             ],
             "passed_time": 17.96337286,
             "remaining_time": 24.80656252,
             "test": [
              0.1516307764
             ]
            },
            {
             "iteration": 42,
             "learn": [
              0.1470164628
             ],
             "passed_time": 18.40064455,
             "remaining_time": 24.39155207,
             "test": [
              0.1467934238
             ]
            },
            {
             "iteration": 43,
             "learn": [
              0.1418848824
             ],
             "passed_time": 18.83202377,
             "remaining_time": 23.96803025,
             "test": [
              0.1421216023
             ]
            },
            {
             "iteration": 44,
             "learn": [
              0.1371194507
             ],
             "passed_time": 19.27927342,
             "remaining_time": 23.5635564,
             "test": [
              0.1376096257
             ]
            },
            {
             "iteration": 45,
             "learn": [
              0.1329260114
             ],
             "passed_time": 19.75451876,
             "remaining_time": 23.19008724,
             "test": [
              0.133250351
             ]
            },
            {
             "iteration": 46,
             "learn": [
              0.1289310589
             ],
             "passed_time": 20.12627109,
             "remaining_time": 22.69558229,
             "test": [
              0.1290386697
             ]
            },
            {
             "iteration": 47,
             "learn": [
              0.1250056784
             ],
             "passed_time": 20.6829977,
             "remaining_time": 22.40658084,
             "test": [
              0.1249703929
             ]
            },
            {
             "iteration": 48,
             "learn": [
              0.1210961097
             ],
             "passed_time": 21.12739899,
             "remaining_time": 21.9897418,
             "test": [
              0.1210376676
             ]
            },
            {
             "iteration": 49,
             "learn": [
              0.117209046
             ],
             "passed_time": 21.48247183,
             "remaining_time": 21.48247183,
             "test": [
              0.1172366782
             ]
            },
            {
             "iteration": 50,
             "learn": [
              0.1133371894
             ],
             "passed_time": 21.90726616,
             "remaining_time": 21.04815769,
             "test": [
              0.113562232
             ]
            },
            {
             "iteration": 51,
             "learn": [
              0.1097717919
             ],
             "passed_time": 22.27208576,
             "remaining_time": 20.5588484,
             "test": [
              0.1100093676
             ]
            },
            {
             "iteration": 52,
             "learn": [
              0.1069428761
             ],
             "passed_time": 22.61917239,
             "remaining_time": 20.05851137,
             "test": [
              0.1065734174
             ]
            },
            {
             "iteration": 53,
             "learn": [
              0.1034253934
             ],
             "passed_time": 22.97645047,
             "remaining_time": 19.57253188,
             "test": [
              0.1032518264
             ]
            },
            {
             "iteration": 54,
             "learn": [
              0.09974727244
             ],
             "passed_time": 23.44555041,
             "remaining_time": 19.18272306,
             "test": [
              0.1000387501
             ]
            },
            {
             "iteration": 55,
             "learn": [
              0.09715791379
             ],
             "passed_time": 23.87082836,
             "remaining_time": 18.75565085,
             "test": [
              0.09693061984
             ]
            },
            {
             "iteration": 56,
             "learn": [
              0.0937845942
             ],
             "passed_time": 24.31847936,
             "remaining_time": 18.34551951,
             "test": [
              0.09392312058
             ]
            },
            {
             "iteration": 57,
             "learn": [
              0.09124244059
             ],
             "passed_time": 24.78467604,
             "remaining_time": 17.94752403,
             "test": [
              0.09101437126
             ]
            },
            {
             "iteration": 58,
             "learn": [
              0.0879635638
             ],
             "passed_time": 25.2154859,
             "remaining_time": 17.52262579,
             "test": [
              0.08819926708
             ]
            },
            {
             "iteration": 59,
             "learn": [
              0.08549463609
             ],
             "passed_time": 25.6554701,
             "remaining_time": 17.10364674,
             "test": [
              0.08547562101
             ]
            },
            {
             "iteration": 60,
             "learn": [
              0.08259856739
             ],
             "passed_time": 26.09014963,
             "remaining_time": 16.68058747,
             "test": [
              0.08283916649
             ]
            },
            {
             "iteration": 61,
             "learn": [
              0.08012368578
             ],
             "passed_time": 26.54266527,
             "remaining_time": 16.26808516,
             "test": [
              0.08028749828
             ]
            },
            {
             "iteration": 62,
             "learn": [
              0.07799075724
             ],
             "passed_time": 26.96342913,
             "remaining_time": 15.83566473,
             "test": [
              0.07781801918
             ]
            },
            {
             "iteration": 63,
             "learn": [
              0.07551263914
             ],
             "passed_time": 27.39266928,
             "remaining_time": 15.40837647,
             "test": [
              0.07542716635
             ]
            },
            {
             "iteration": 64,
             "learn": [
              0.07298268473
             ],
             "passed_time": 27.85630653,
             "remaining_time": 14.99954967,
             "test": [
              0.07311277238
             ]
            },
            {
             "iteration": 65,
             "learn": [
              0.0705757602
             ],
             "passed_time": 28.28888319,
             "remaining_time": 14.57306104,
             "test": [
              0.07087238119
             ]
            },
            {
             "iteration": 66,
             "learn": [
              0.06846964297
             ],
             "passed_time": 28.82637568,
             "remaining_time": 14.19806563,
             "test": [
              0.06870260007
             ]
            },
            {
             "iteration": 67,
             "learn": [
              0.0664549356
             ],
             "passed_time": 29.19781912,
             "remaining_time": 13.74015017,
             "test": [
              0.06660167233
             ]
            },
            {
             "iteration": 68,
             "learn": [
              0.06448660185
             ],
             "passed_time": 29.63932133,
             "remaining_time": 13.31621683,
             "test": [
              0.06456697308
             ]
            },
            {
             "iteration": 69,
             "learn": [
              0.06253262251
             ],
             "passed_time": 29.98872806,
             "remaining_time": 12.85231203,
             "test": [
              0.06259660052
             ]
            },
            {
             "iteration": 70,
             "learn": [
              0.06058563883
             ],
             "passed_time": 30.34864269,
             "remaining_time": 12.39592448,
             "test": [
              0.06068840282
             ]
            },
            {
             "iteration": 71,
             "learn": [
              0.05867511364
             ],
             "passed_time": 30.73966665,
             "remaining_time": 11.95431481,
             "test": [
              0.05884021854
             ]
            },
            {
             "iteration": 72,
             "learn": [
              0.05686559964
             ],
             "passed_time": 31.1441241,
             "remaining_time": 11.5190596,
             "test": [
              0.05705071943
             ]
            },
            {
             "iteration": 73,
             "learn": [
              0.05545424692
             ],
             "passed_time": 31.60108575,
             "remaining_time": 11.10308418,
             "test": [
              0.05531643354
             ]
            },
            {
             "iteration": 74,
             "learn": [
              0.05369661699
             ],
             "passed_time": 32.05639532,
             "remaining_time": 10.68546511,
             "test": [
              0.05363666616
             ]
            },
            {
             "iteration": 75,
             "learn": [
              0.05184794859
             ],
             "passed_time": 32.48788426,
             "remaining_time": 10.25933187,
             "test": [
              0.05200917583
             ]
            },
            {
             "iteration": 76,
             "learn": [
              0.05055535907
             ],
             "passed_time": 32.99020363,
             "remaining_time": 9.854216668,
             "test": [
              0.05043226663
             ]
            },
            {
             "iteration": 77,
             "learn": [
              0.04886305823
             ],
             "passed_time": 33.40941943,
             "remaining_time": 9.423169584,
             "test": [
              0.04890464117
             ]
            },
            {
             "iteration": 78,
             "learn": [
              0.04726154045
             ],
             "passed_time": 33.80043626,
             "remaining_time": 8.984926094,
             "test": [
              0.04742428583
             ]
            },
            {
             "iteration": 79,
             "learn": [
              0.04593554022
             ],
             "passed_time": 34.20042102,
             "remaining_time": 8.550105254,
             "test": [
              0.04598955727
             ]
            },
            {
             "iteration": 80,
             "learn": [
              0.04467433259
             ],
             "passed_time": 34.57827505,
             "remaining_time": 8.110953406,
             "test": [
              0.04459932428
             ]
            },
            {
             "iteration": 81,
             "learn": [
              0.04309229688
             ],
             "passed_time": 34.94436744,
             "remaining_time": 7.670714803,
             "test": [
              0.04325244327
             ]
            },
            {
             "iteration": 82,
             "learn": [
              0.04197970214
             ],
             "passed_time": 35.3067934,
             "remaining_time": 7.231511901,
             "test": [
              0.04194701789
             ]
            },
            {
             "iteration": 83,
             "learn": [
              0.04074010093
             ],
             "passed_time": 35.67638011,
             "remaining_time": 6.795500973,
             "test": [
              0.04068164886
             ]
            },
            {
             "iteration": 84,
             "learn": [
              0.03937516237
             ],
             "passed_time": 36.06204099,
             "remaining_time": 6.363889587,
             "test": [
              0.03945533732
             ]
            },
            {
             "iteration": 85,
             "learn": [
              0.03815284322
             ],
             "passed_time": 36.55077433,
             "remaining_time": 5.950126054,
             "test": [
              0.03826693406
             ]
            },
            {
             "iteration": 86,
             "learn": [
              0.03713225478
             ],
             "passed_time": 36.89947612,
             "remaining_time": 5.513714822,
             "test": [
              0.03711502745
             ]
            },
            {
             "iteration": 87,
             "learn": [
              0.03608237687
             ],
             "passed_time": 37.33574107,
             "remaining_time": 5.091237419,
             "test": [
              0.03599847285
             ]
            },
            {
             "iteration": 88,
             "learn": [
              0.03489544916
             ],
             "passed_time": 37.74749047,
             "remaining_time": 4.66542017,
             "test": [
              0.03491586844
             ]
            },
            {
             "iteration": 89,
             "learn": [
              0.03385094699
             ],
             "passed_time": 38.19831918,
             "remaining_time": 4.244257687,
             "test": [
              0.03386685655
             ]
            },
            {
             "iteration": 90,
             "learn": [
              0.0328469556
             ],
             "passed_time": 38.58436658,
             "remaining_time": 3.816036255,
             "test": [
              0.03284964362
             ]
            },
            {
             "iteration": 91,
             "learn": [
              0.03185487635
             ],
             "passed_time": 39.01651858,
             "remaining_time": 3.392740746,
             "test": [
              0.03186342982
             ]
            },
            {
             "iteration": 92,
             "learn": [
              0.03087748664
             ],
             "passed_time": 39.44099453,
             "remaining_time": 2.968677007,
             "test": [
              0.03090746485
             ]
            },
            {
             "iteration": 93,
             "learn": [
              0.02993523283
             ],
             "passed_time": 39.958249,
             "remaining_time": 2.550526532,
             "test": [
              0.02998059926
             ]
            },
            {
             "iteration": 94,
             "learn": [
              0.02900822305
             ],
             "passed_time": 40.42690523,
             "remaining_time": 2.127731854,
             "test": [
              0.02908231253
             ]
            },
            {
             "iteration": 95,
             "learn": [
              0.02826403456
             ],
             "passed_time": 40.89111578,
             "remaining_time": 1.703796491,
             "test": [
              0.0282109756
             ]
            },
            {
             "iteration": 96,
             "learn": [
              0.02737851804
             ],
             "passed_time": 41.31770475,
             "remaining_time": 1.277867157,
             "test": [
              0.02736641622
             ]
            },
            {
             "iteration": 97,
             "learn": [
              0.02645857787
             ],
             "passed_time": 41.76245915,
             "remaining_time": 0.8522950847,
             "test": [
              0.02654763736
             ]
            },
            {
             "iteration": 98,
             "learn": [
              0.0258031266
             ],
             "passed_time": 42.14751659,
             "remaining_time": 0.4257324908,
             "test": [
              0.02575313975
             ]
            },
            {
             "iteration": 99,
             "learn": [
              0.0249487582
             ],
             "passed_time": 42.52696253,
             "remaining_time": 0,
             "test": [
              0.0249829361
             ]
            }
           ],
           "meta": {
            "iteration_count": 100,
            "launch_mode": "Train",
            "learn_metrics": [
             {
              "best_value": "Min",
              "name": "CrossEntropy"
             }
            ],
            "learn_sets": [
             "learn"
            ],
            "name": "experiment",
            "parameters": "",
            "test_metrics": [
             {
              "best_value": "Min",
              "name": "CrossEntropy"
             }
            ],
            "test_sets": [
             "test"
            ]
           }
          },
          "passed_iterations": 99,
          "total_iterations": 100
         },
         "name": "catboost_info",
         "path": "catboost_info"
        }
       },
       "layout": "IPY_MODEL_d16b300e64e94f6cabfa607b33ffb3bf"
      }
     },
     "5d73fb965fa64b55b6d80aefb1f9007d": {
      "model_module": "catboost-widget",
      "model_module_version": "^1.0.0",
      "model_name": "CatboostWidgetModel",
      "state": {
       "_dom_classes": [],
       "_model_module": "catboost-widget",
       "_model_module_version": "^1.0.0",
       "_model_name": "CatboostWidgetModel",
       "_view_count": null,
       "_view_module": "catboost-widget",
       "_view_module_version": "^1.0.0",
       "_view_name": "CatboostWidgetView",
       "data": {
        "catboost_info": {
         "content": {
          "data": {
           "iterations": [
            {
             "iteration": 0,
             "learn": [
              0.666240611
             ],
             "passed_time": 0.5078077028,
             "remaining_time": 50.27296257,
             "test": [
              0.6678854064
             ]
            },
            {
             "iteration": 1,
             "learn": [
              0.6443518822
             ],
             "passed_time": 0.9845339628,
             "remaining_time": 48.24216418,
             "test": [
              0.6440292079
             ]
            },
            {
             "iteration": 2,
             "learn": [
              0.6198031824
             ],
             "passed_time": 1.47333236,
             "remaining_time": 47.6377463,
             "test": [
              0.6215372932
             ]
            },
            {
             "iteration": 3,
             "learn": [
              0.5979487991
             ],
             "passed_time": 1.952893367,
             "remaining_time": 46.86944081,
             "test": [
              0.6001475835
             ]
            },
            {
             "iteration": 4,
             "learn": [
              0.5785163826
             ],
             "passed_time": 2.438999954,
             "remaining_time": 46.34099912,
             "test": [
              0.5798743845
             ]
            },
            {
             "iteration": 5,
             "learn": [
              0.558736519
             ],
             "passed_time": 2.920262137,
             "remaining_time": 45.75077348,
             "test": [
              0.5605685142
             ]
            },
            {
             "iteration": 6,
             "learn": [
              0.5400530609
             ],
             "passed_time": 3.412423442,
             "remaining_time": 45.33648288,
             "test": [
              0.5424876614
             ]
            },
            {
             "iteration": 7,
             "learn": [
              0.5237144051
             ],
             "passed_time": 3.893937493,
             "remaining_time": 44.78028117,
             "test": [
              0.5252042163
             ]
            },
            {
             "iteration": 8,
             "learn": [
              0.5063775267
             ],
             "passed_time": 4.384953335,
             "remaining_time": 44.33675039,
             "test": [
              0.5086449862
             ]
            },
            {
             "iteration": 9,
             "learn": [
              0.4901508677
             ],
             "passed_time": 4.84045481,
             "remaining_time": 43.56409329,
             "test": [
              0.4927116887
             ]
            },
            {
             "iteration": 10,
             "learn": [
              0.47575171
             ],
             "passed_time": 5.327961499,
             "remaining_time": 43.10805213,
             "test": [
              0.4777300303
             ]
            },
            {
             "iteration": 11,
             "learn": [
              0.4609469301
             ],
             "passed_time": 5.826521812,
             "remaining_time": 42.72782662,
             "test": [
              0.4629091549
             ]
            },
            {
             "iteration": 12,
             "learn": [
              0.4469047174
             ],
             "passed_time": 6.313668589,
             "remaining_time": 42.25301286,
             "test": [
              0.449062328
             ]
            },
            {
             "iteration": 13,
             "learn": [
              0.4333947199
             ],
             "passed_time": 6.801370356,
             "remaining_time": 41.77984647,
             "test": [
              0.4360859974
             ]
            },
            {
             "iteration": 14,
             "learn": [
              0.4203395132
             ],
             "passed_time": 7.288116406,
             "remaining_time": 41.2993263,
             "test": [
              0.423432544
             ]
            },
            {
             "iteration": 15,
             "learn": [
              0.4074568942
             ],
             "passed_time": 7.763718822,
             "remaining_time": 40.75952382,
             "test": [
              0.4111657167
             ]
            },
            {
             "iteration": 16,
             "learn": [
              0.3959466688
             ],
             "passed_time": 8.256068952,
             "remaining_time": 40.30904253,
             "test": [
              0.3990652011
             ]
            },
            {
             "iteration": 17,
             "learn": [
              0.3847689676
             ],
             "passed_time": 8.760283458,
             "remaining_time": 39.90795797,
             "test": [
              0.3876153427
             ]
            },
            {
             "iteration": 18,
             "learn": [
              0.3731586807
             ],
             "passed_time": 9.255160259,
             "remaining_time": 39.45620952,
             "test": [
              0.3770002102
             ]
            },
            {
             "iteration": 19,
             "learn": [
              0.3635656861
             ],
             "passed_time": 9.755312643,
             "remaining_time": 39.02125057,
             "test": [
              0.3666632089
             ]
            },
            {
             "iteration": 20,
             "learn": [
              0.3533551781
             ],
             "passed_time": 10.30346342,
             "remaining_time": 38.76064811,
             "test": [
              0.3569674739
             ]
            },
            {
             "iteration": 21,
             "learn": [
              0.3435959581
             ],
             "passed_time": 10.96592797,
             "remaining_time": 38.87919917,
             "test": [
              0.347327874
             ]
            },
            {
             "iteration": 22,
             "learn": [
              0.3345080105
             ],
             "passed_time": 11.62591926,
             "remaining_time": 38.92155578,
             "test": [
              0.3377988925
             ]
            },
            {
             "iteration": 23,
             "learn": [
              0.325699501
             ],
             "passed_time": 12.17682206,
             "remaining_time": 38.55993654,
             "test": [
              0.3293044281
             ]
            },
            {
             "iteration": 24,
             "learn": [
              0.3170281907
             ],
             "passed_time": 12.67217945,
             "remaining_time": 38.01653836,
             "test": [
              0.321233471
             ]
            },
            {
             "iteration": 25,
             "learn": [
              0.308786758
             ],
             "passed_time": 13.1435445,
             "remaining_time": 37.40854973,
             "test": [
              0.312813929
             ]
            },
            {
             "iteration": 26,
             "learn": [
              0.3007913063
             ],
             "passed_time": 13.62838027,
             "remaining_time": 36.84710222,
             "test": [
              0.3046067764
             ]
            },
            {
             "iteration": 27,
             "learn": [
              0.2929640523
             ],
             "passed_time": 14.10796276,
             "remaining_time": 36.27761852,
             "test": [
              0.2965922999
             ]
            },
            {
             "iteration": 28,
             "learn": [
              0.2855944357
             ],
             "passed_time": 14.60209221,
             "remaining_time": 35.74994988,
             "test": [
              0.2889037815
             ]
            },
            {
             "iteration": 29,
             "learn": [
              0.2783916104
             ],
             "passed_time": 15.08695091,
             "remaining_time": 35.20288545,
             "test": [
              0.2816474062
             ]
            },
            {
             "iteration": 30,
             "learn": [
              0.2715493182
             ],
             "passed_time": 15.60334088,
             "remaining_time": 34.7300168,
             "test": [
              0.2746764406
             ]
            },
            {
             "iteration": 31,
             "learn": [
              0.2648010089
             ],
             "passed_time": 16.08200783,
             "remaining_time": 34.17426663,
             "test": [
              0.2681594323
             ]
            },
            {
             "iteration": 32,
             "learn": [
              0.2585791168
             ],
             "passed_time": 16.53542051,
             "remaining_time": 33.57191436,
             "test": [
              0.2618618086
             ]
            },
            {
             "iteration": 33,
             "learn": [
              0.2523485571
             ],
             "passed_time": 17.0267268,
             "remaining_time": 33.05188144,
             "test": [
              0.2555547782
             ]
            },
            {
             "iteration": 34,
             "learn": [
              0.246672069
             ],
             "passed_time": 17.52134789,
             "remaining_time": 32.53964607,
             "test": [
              0.2498662949
             ]
            },
            {
             "iteration": 35,
             "learn": [
              0.2411720584
             ],
             "passed_time": 17.95633214,
             "remaining_time": 31.92236825,
             "test": [
              0.2440768956
             ]
            },
            {
             "iteration": 36,
             "learn": [
              0.2351073567
             ],
             "passed_time": 18.42759669,
             "remaining_time": 31.3767187,
             "test": [
              0.2381106449
             ]
            },
            {
             "iteration": 37,
             "learn": [
              0.2295213027
             ],
             "passed_time": 18.92024115,
             "remaining_time": 30.86986714,
             "test": [
              0.2324687487
             ]
            },
            {
             "iteration": 38,
             "learn": [
              0.2243469985
             ],
             "passed_time": 19.37748593,
             "remaining_time": 30.30837542,
             "test": [
              0.2270890981
             ]
            },
            {
             "iteration": 39,
             "learn": [
              0.2196377478
             ],
             "passed_time": 19.82844509,
             "remaining_time": 29.74266764,
             "test": [
              0.22222326
             ]
            },
            {
             "iteration": 40,
             "learn": [
              0.2144583869
             ],
             "passed_time": 20.29352418,
             "remaining_time": 29.20287626,
             "test": [
              0.2172374583
             ]
            },
            {
             "iteration": 41,
             "learn": [
              0.2096405811
             ],
             "passed_time": 20.77790133,
             "remaining_time": 28.69329231,
             "test": [
              0.2123274097
             ]
            },
            {
             "iteration": 42,
             "learn": [
              0.2052711893
             ],
             "passed_time": 21.25428297,
             "remaining_time": 28.17428207,
             "test": [
              0.2078090508
             ]
            },
            {
             "iteration": 43,
             "learn": [
              0.2005432986
             ],
             "passed_time": 21.7161622,
             "remaining_time": 27.63875189,
             "test": [
              0.2030196271
             ]
            },
            {
             "iteration": 44,
             "learn": [
              0.1961397141
             ],
             "passed_time": 22.19021287,
             "remaining_time": 27.12137128,
             "test": [
              0.1986412998
             ]
            },
            {
             "iteration": 45,
             "learn": [
              0.191903092
             ],
             "passed_time": 22.68057644,
             "remaining_time": 26.62502451,
             "test": [
              0.1943225697
             ]
            },
            {
             "iteration": 46,
             "learn": [
              0.1876512889
             ],
             "passed_time": 23.16238129,
             "remaining_time": 26.11928103,
             "test": [
              0.1902275856
             ]
            },
            {
             "iteration": 47,
             "learn": [
              0.1839375156
             ],
             "passed_time": 23.60677585,
             "remaining_time": 25.57400717,
             "test": [
              0.1864734211
             ]
            },
            {
             "iteration": 48,
             "learn": [
              0.1800613344
             ],
             "passed_time": 24.06350026,
             "remaining_time": 25.04568395,
             "test": [
              0.1824790059
             ]
            },
            {
             "iteration": 49,
             "learn": [
              0.1764074167
             ],
             "passed_time": 24.51021934,
             "remaining_time": 24.51021934,
             "test": [
              0.1788071344
             ]
            },
            {
             "iteration": 50,
             "learn": [
              0.1730488733
             ],
             "passed_time": 24.94844513,
             "remaining_time": 23.97007473,
             "test": [
              0.1753462854
             ]
            },
            {
             "iteration": 51,
             "learn": [
              0.1694029831
             ],
             "passed_time": 25.43396089,
             "remaining_time": 23.47750236,
             "test": [
              0.1718830457
             ]
            },
            {
             "iteration": 52,
             "learn": [
              0.1660263215
             ],
             "passed_time": 25.88616916,
             "remaining_time": 22.95565944,
             "test": [
              0.1682167048
             ]
            },
            {
             "iteration": 53,
             "learn": [
              0.162654037
             ],
             "passed_time": 26.3366883,
             "remaining_time": 22.4349567,
             "test": [
              0.1647120975
             ]
            },
            {
             "iteration": 54,
             "learn": [
              0.1597123402
             ],
             "passed_time": 26.76297538,
             "remaining_time": 21.89697986,
             "test": [
              0.1617061782
             ]
            },
            {
             "iteration": 55,
             "learn": [
              0.1565868776
             ],
             "passed_time": 27.22030129,
             "remaining_time": 21.38737958,
             "test": [
              0.1584811464
             ]
            },
            {
             "iteration": 56,
             "learn": [
              0.1535076802
             ],
             "passed_time": 27.68219678,
             "remaining_time": 20.88306073,
             "test": [
              0.1551747394
             ]
            },
            {
             "iteration": 57,
             "learn": [
              0.1507425961
             ],
             "passed_time": 28.12665757,
             "remaining_time": 20.36757962,
             "test": [
              0.1523271147
             ]
            },
            {
             "iteration": 58,
             "learn": [
              0.1477777241
             ],
             "passed_time": 28.59226154,
             "remaining_time": 19.8691987,
             "test": [
              0.1492939895
             ]
            },
            {
             "iteration": 59,
             "learn": [
              0.1449515704
             ],
             "passed_time": 29.05712097,
             "remaining_time": 19.37141398,
             "test": [
              0.1464279983
             ]
            },
            {
             "iteration": 60,
             "learn": [
              0.1423019818
             ],
             "passed_time": 29.5365008,
             "remaining_time": 18.88399232,
             "test": [
              0.1438137687
             ]
            },
            {
             "iteration": 61,
             "learn": [
              0.1399600434
             ],
             "passed_time": 29.99880248,
             "remaining_time": 18.38636281,
             "test": [
              0.1414036366
             ]
            },
            {
             "iteration": 62,
             "learn": [
              0.1373950746
             ],
             "passed_time": 30.4694673,
             "remaining_time": 17.89476651,
             "test": [
              0.1387288747
             ]
            },
            {
             "iteration": 63,
             "learn": [
              0.1347345048
             ],
             "passed_time": 30.95491459,
             "remaining_time": 17.41213945,
             "test": [
              0.1361454207
             ]
            },
            {
             "iteration": 64,
             "learn": [
              0.1323766302
             ],
             "passed_time": 31.43497936,
             "remaining_time": 16.92652735,
             "test": [
              0.1337167688
             ]
            },
            {
             "iteration": 65,
             "learn": [
              0.129967895
             ],
             "passed_time": 31.90775414,
             "remaining_time": 16.43732789,
             "test": [
              0.1313713368
             ]
            },
            {
             "iteration": 66,
             "learn": [
              0.1278345954
             ],
             "passed_time": 32.43824409,
             "remaining_time": 15.97704559,
             "test": [
              0.1291429782
             ]
            },
            {
             "iteration": 67,
             "learn": [
              0.1257506891
             ],
             "passed_time": 32.87626424,
             "remaining_time": 15.47118317,
             "test": [
              0.1270231789
             ]
            },
            {
             "iteration": 68,
             "learn": [
              0.1236575267
             ],
             "passed_time": 33.31121494,
             "remaining_time": 14.96590816,
             "test": [
              0.1246931971
             ]
            },
            {
             "iteration": 69,
             "learn": [
              0.1215630201
             ],
             "passed_time": 33.79677276,
             "remaining_time": 14.48433118,
             "test": [
              0.1226547382
             ]
            },
            {
             "iteration": 70,
             "learn": [
              0.1196558676
             ],
             "passed_time": 34.22897169,
             "remaining_time": 13.98084759,
             "test": [
              0.1205871173
             ]
            },
            {
             "iteration": 71,
             "learn": [
              0.1177674365
             ],
             "passed_time": 34.6774164,
             "remaining_time": 13.48566193,
             "test": [
              0.1186877977
             ]
            },
            {
             "iteration": 72,
             "learn": [
              0.1158642125
             ],
             "passed_time": 35.0978174,
             "remaining_time": 12.98138452,
             "test": [
              0.1165671187
             ]
            },
            {
             "iteration": 73,
             "learn": [
              0.1141537414
             ],
             "passed_time": 35.55591055,
             "remaining_time": 12.49261722,
             "test": [
              0.1147942112
             ]
            },
            {
             "iteration": 74,
             "learn": [
              0.1124103556
             ],
             "passed_time": 36.03851012,
             "remaining_time": 12.01283671,
             "test": [
              0.1129766843
             ]
            },
            {
             "iteration": 75,
             "learn": [
              0.1106577744
             ],
             "passed_time": 36.51730095,
             "remaining_time": 11.53177925,
             "test": [
              0.1112702381
             ]
            },
            {
             "iteration": 76,
             "learn": [
              0.1090831892
             ],
             "passed_time": 36.9516407,
             "remaining_time": 11.03750307,
             "test": [
              0.109662597
             ]
            },
            {
             "iteration": 77,
             "learn": [
              0.107362248
             ],
             "passed_time": 37.36580911,
             "remaining_time": 10.53907436,
             "test": [
              0.1076807804
             ]
            },
            {
             "iteration": 78,
             "learn": [
              0.1057320724
             ],
             "passed_time": 37.78504618,
             "remaining_time": 10.0441262,
             "test": [
              0.1058737648
             ]
            },
            {
             "iteration": 79,
             "learn": [
              0.1041656625
             ],
             "passed_time": 38.23050495,
             "remaining_time": 9.557626239,
             "test": [
              0.1041494056
             ]
            },
            {
             "iteration": 80,
             "learn": [
              0.1026800132
             ],
             "passed_time": 38.72687532,
             "remaining_time": 9.084081866,
             "test": [
              0.1025430596
             ]
            },
            {
             "iteration": 81,
             "learn": [
              0.1011314932
             ],
             "passed_time": 39.1780185,
             "remaining_time": 8.60005284,
             "test": [
              0.1007426998
             ]
            },
            {
             "iteration": 82,
             "learn": [
              0.09966890761
             ],
             "passed_time": 39.59983946,
             "remaining_time": 8.110810492,
             "test": [
              0.09904976373
             ]
            },
            {
             "iteration": 83,
             "learn": [
              0.09827643771
             ],
             "passed_time": 40.0207375,
             "remaining_time": 7.622997619,
             "test": [
              0.09740494665
             ]
            },
            {
             "iteration": 84,
             "learn": [
              0.09676590756
             ],
             "passed_time": 40.47910645,
             "remaining_time": 7.143371727,
             "test": [
              0.09580372894
             ]
            },
            {
             "iteration": 85,
             "learn": [
              0.09549211826
             ],
             "passed_time": 40.92340128,
             "remaining_time": 6.661949046,
             "test": [
              0.09453829617
             ]
            },
            {
             "iteration": 86,
             "learn": [
              0.09419274711
             ],
             "passed_time": 41.35594221,
             "remaining_time": 6.179623548,
             "test": [
              0.09318908286
             ]
            },
            {
             "iteration": 87,
             "learn": [
              0.09294553574
             ],
             "passed_time": 41.77242296,
             "remaining_time": 5.696239494,
             "test": [
              0.09171153193
             ]
            },
            {
             "iteration": 88,
             "learn": [
              0.09188447615
             ],
             "passed_time": 42.21002209,
             "remaining_time": 5.216969023,
             "test": [
              0.09062270579
             ]
            },
            {
             "iteration": 89,
             "learn": [
              0.09066714165
             ],
             "passed_time": 42.86360767,
             "remaining_time": 4.762623075,
             "test": [
              0.08943368204
             ]
            },
            {
             "iteration": 90,
             "learn": [
              0.08968969125
             ],
             "passed_time": 43.53891461,
             "remaining_time": 4.3060465,
             "test": [
              0.08843185333
             ]
            },
            {
             "iteration": 91,
             "learn": [
              0.08848472895
             ],
             "passed_time": 44.09919157,
             "remaining_time": 3.834712311,
             "test": [
              0.0872570421
             ]
            },
            {
             "iteration": 92,
             "learn": [
              0.08735555344
             ],
             "passed_time": 44.53968961,
             "remaining_time": 3.352449755,
             "test": [
              0.08606925065
             ]
            },
            {
             "iteration": 93,
             "learn": [
              0.08620568619
             ],
             "passed_time": 45.01800752,
             "remaining_time": 2.873489842,
             "test": [
              0.08496113415
             ]
            },
            {
             "iteration": 94,
             "learn": [
              0.08487574569
             ],
             "passed_time": 45.50899614,
             "remaining_time": 2.395210323,
             "test": [
              0.08371376027
             ]
            },
            {
             "iteration": 95,
             "learn": [
              0.08388064173
             ],
             "passed_time": 45.92747901,
             "remaining_time": 1.913644959,
             "test": [
              0.08266098333
             ]
            },
            {
             "iteration": 96,
             "learn": [
              0.08282304946
             ],
             "passed_time": 46.33732976,
             "remaining_time": 1.433113291,
             "test": [
              0.08165991258
             ]
            },
            {
             "iteration": 97,
             "learn": [
              0.08183663007
             ],
             "passed_time": 46.77521237,
             "remaining_time": 0.9545961707,
             "test": [
              0.08070933119
             ]
            },
            {
             "iteration": 98,
             "learn": [
              0.08085895591
             ],
             "passed_time": 47.10670525,
             "remaining_time": 0.4758253055,
             "test": [
              0.08003369818
             ]
            },
            {
             "iteration": 99,
             "learn": [
              0.07992899053
             ],
             "passed_time": 47.54935536,
             "remaining_time": 0,
             "test": [
              0.07905880877
             ]
            }
           ],
           "meta": {
            "iteration_count": 100,
            "launch_mode": "Train",
            "learn_metrics": [
             {
              "best_value": "Min",
              "name": "CrossEntropy"
             }
            ],
            "learn_sets": [
             "learn"
            ],
            "name": "experiment",
            "parameters": "",
            "test_metrics": [
             {
              "best_value": "Min",
              "name": "CrossEntropy"
             }
            ],
            "test_sets": [
             "test"
            ]
           }
          },
          "passed_iterations": 99,
          "total_iterations": 100
         },
         "name": "catboost_info",
         "path": "catboost_info"
        }
       },
       "layout": "IPY_MODEL_49a3c37473ee407c8e2ceebf041e9473"
      }
     },
     "608739ad12a94ec7943b29c03bad9881": {
      "model_module": "catboost-widget",
      "model_module_version": "^1.0.0",
      "model_name": "CatboostWidgetModel",
      "state": {
       "_dom_classes": [],
       "_model_module": "catboost-widget",
       "_model_module_version": "^1.0.0",
       "_model_name": "CatboostWidgetModel",
       "_view_count": null,
       "_view_module": "catboost-widget",
       "_view_module_version": "^1.0.0",
       "_view_name": "CatboostWidgetView",
       "data": {
        "catboost_info": {
         "content": {
          "data": {
           "iterations": [
            {
             "iteration": 0,
             "learn": [
              0.6624910421
             ],
             "passed_time": 0.4072663162,
             "remaining_time": 40.3193653,
             "test": [
              0.6641569622
             ]
            },
            {
             "iteration": 1,
             "learn": [
              0.6378655829
             ],
             "passed_time": 0.8283350292,
             "remaining_time": 40.58841643,
             "test": [
              0.6368231572
             ]
            },
            {
             "iteration": 2,
             "learn": [
              0.6112809535
             ],
             "passed_time": 1.211240117,
             "remaining_time": 39.16343046,
             "test": [
              0.6110143614
             ]
            },
            {
             "iteration": 3,
             "learn": [
              0.5865350887
             ],
             "passed_time": 1.579675024,
             "remaining_time": 37.91220058,
             "test": [
              0.5867651353
             ]
            },
            {
             "iteration": 4,
             "learn": [
              0.5651886235
             ],
             "passed_time": 1.918551839,
             "remaining_time": 36.45248495,
             "test": [
              0.5637623752
             ]
            },
            {
             "iteration": 5,
             "learn": [
              0.5423245952
             ],
             "passed_time": 2.279570178,
             "remaining_time": 35.71326612,
             "test": [
              0.5417517369
             ]
            },
            {
             "iteration": 6,
             "learn": [
              0.521337763
             ],
             "passed_time": 2.651650276,
             "remaining_time": 35.22906795,
             "test": [
              0.5209027573
             ]
            },
            {
             "iteration": 7,
             "learn": [
              0.5034566376
             ],
             "passed_time": 3.032814667,
             "remaining_time": 34.87736867,
             "test": [
              0.5013289464
             ]
            },
            {
             "iteration": 8,
             "learn": [
              0.4839084557
             ],
             "passed_time": 3.400366091,
             "remaining_time": 34.38147937,
             "test": [
              0.4824640397
             ]
            },
            {
             "iteration": 9,
             "learn": [
              0.4662465686
             ],
             "passed_time": 3.736528698,
             "remaining_time": 33.62875828,
             "test": [
              0.4646842869
             ]
            },
            {
             "iteration": 10,
             "learn": [
              0.4501089451
             ],
             "passed_time": 4.049167555,
             "remaining_time": 32.76144658,
             "test": [
              0.4477765661
             ]
            },
            {
             "iteration": 11,
             "learn": [
              0.4342208442
             ],
             "passed_time": 4.417377248,
             "remaining_time": 32.39409982,
             "test": [
              0.4314709385
             ]
            },
            {
             "iteration": 12,
             "learn": [
              0.4188557963
             ],
             "passed_time": 4.770475763,
             "remaining_time": 31.92549165,
             "test": [
              0.4159415109
             ]
            },
            {
             "iteration": 13,
             "learn": [
              0.404094868
             ],
             "passed_time": 5.135455956,
             "remaining_time": 31.5463723,
             "test": [
              0.4011427195
             ]
            },
            {
             "iteration": 14,
             "learn": [
              0.3897847723
             ],
             "passed_time": 5.487361329,
             "remaining_time": 31.09504753,
             "test": [
              0.3869146762
             ]
            },
            {
             "iteration": 15,
             "learn": [
              0.3753460293
             ],
             "passed_time": 5.835703731,
             "remaining_time": 30.63744459,
             "test": [
              0.3734120416
             ]
            },
            {
             "iteration": 16,
             "learn": [
              0.3627948107
             ],
             "passed_time": 6.198242664,
             "remaining_time": 30.2620083,
             "test": [
              0.3603385688
             ]
            },
            {
             "iteration": 17,
             "learn": [
              0.3512497545
             ],
             "passed_time": 6.596882517,
             "remaining_time": 30.0524648,
             "test": [
              0.3478890132
             ]
            },
            {
             "iteration": 18,
             "learn": [
              0.3386936341
             ],
             "passed_time": 6.939990183,
             "remaining_time": 29.58627394,
             "test": [
              0.3360429157
             ]
            },
            {
             "iteration": 19,
             "learn": [
              0.3282907363
             ],
             "passed_time": 7.30413864,
             "remaining_time": 29.21655456,
             "test": [
              0.3245344806
             ]
            },
            {
             "iteration": 20,
             "learn": [
              0.3164699828
             ],
             "passed_time": 7.68065072,
             "remaining_time": 28.89387652,
             "test": [
              0.3135633433
             ]
            },
            {
             "iteration": 21,
             "learn": [
              0.3061708406
             ],
             "passed_time": 8.025671696,
             "remaining_time": 28.45465419,
             "test": [
              0.3031302551
             ]
            },
            {
             "iteration": 22,
             "learn": [
              0.2970073962
             ],
             "passed_time": 8.354757204,
             "remaining_time": 27.97027412,
             "test": [
              0.2932143877
             ]
            },
            {
             "iteration": 23,
             "learn": [
              0.287019611
             ],
             "passed_time": 8.740214073,
             "remaining_time": 27.67734456,
             "test": [
              0.2835571202
             ]
            },
            {
             "iteration": 24,
             "learn": [
              0.2776414011
             ],
             "passed_time": 9.101077076,
             "remaining_time": 27.30323123,
             "test": [
              0.2742095022
             ]
            },
            {
             "iteration": 25,
             "learn": [
              0.2685005228
             ],
             "passed_time": 9.45939291,
             "remaining_time": 26.92288751,
             "test": [
              0.2652945521
             ]
            },
            {
             "iteration": 26,
             "learn": [
              0.2601263797
             ],
             "passed_time": 9.823257034,
             "remaining_time": 26.55917642,
             "test": [
              0.2565939584
             ]
            },
            {
             "iteration": 27,
             "learn": [
              0.2520844197
             ],
             "passed_time": 10.17860378,
             "remaining_time": 26.17355257,
             "test": [
              0.2482471578
             ]
            },
            {
             "iteration": 28,
             "learn": [
              0.2441748989
             ],
             "passed_time": 10.54765244,
             "remaining_time": 25.82356287,
             "test": [
              0.2402382131
             ]
            },
            {
             "iteration": 29,
             "learn": [
              0.236468065
             ],
             "passed_time": 10.92025086,
             "remaining_time": 25.48058534,
             "test": [
              0.2325557539
             ]
            },
            {
             "iteration": 30,
             "learn": [
              0.2290449934
             ],
             "passed_time": 11.27476548,
             "remaining_time": 25.09544575,
             "test": [
              0.2251597419
             ]
            },
            {
             "iteration": 31,
             "learn": [
              0.2218059015
             ],
             "passed_time": 11.67364214,
             "remaining_time": 24.80648955,
             "test": [
              0.2181659835
             ]
            },
            {
             "iteration": 32,
             "learn": [
              0.2150867674
             ],
             "passed_time": 12.00669601,
             "remaining_time": 24.37723129,
             "test": [
              0.2114004702
             ]
            },
            {
             "iteration": 33,
             "learn": [
              0.2089430822
             ],
             "passed_time": 12.40644101,
             "remaining_time": 24.08309137,
             "test": [
              0.2047695974
             ]
            },
            {
             "iteration": 34,
             "learn": [
              0.2023645345
             ],
             "passed_time": 12.72637526,
             "remaining_time": 23.63469692,
             "test": [
              0.198498633
             ]
            },
            {
             "iteration": 35,
             "learn": [
              0.1963442541
             ],
             "passed_time": 13.03874018,
             "remaining_time": 23.17998254,
             "test": [
              0.1924767642
             ]
            },
            {
             "iteration": 36,
             "learn": [
              0.1905970571
             ],
             "passed_time": 13.36746729,
             "remaining_time": 22.76082269,
             "test": [
              0.1866362658
             ]
            },
            {
             "iteration": 37,
             "learn": [
              0.184848808
             ],
             "passed_time": 13.70801956,
             "remaining_time": 22.36571612,
             "test": [
              0.1810065447
             ]
            },
            {
             "iteration": 38,
             "learn": [
              0.1794031028
             ],
             "passed_time": 14.19414391,
             "remaining_time": 22.20109688,
             "test": [
              0.1755326541
             ]
            },
            {
             "iteration": 39,
             "learn": [
              0.1742003417
             ],
             "passed_time": 14.71371569,
             "remaining_time": 22.07057353,
             "test": [
              0.170165706
             ]
            },
            {
             "iteration": 40,
             "learn": [
              0.1689782659
             ],
             "passed_time": 15.17886684,
             "remaining_time": 21.84275961,
             "test": [
              0.1650336657
             ]
            },
            {
             "iteration": 41,
             "learn": [
              0.1640155654
             ],
             "passed_time": 15.53700551,
             "remaining_time": 21.45586475,
             "test": [
              0.1600940414
             ]
            },
            {
             "iteration": 42,
             "learn": [
              0.1594192234
             ],
             "passed_time": 15.86622394,
             "remaining_time": 21.03197127,
             "test": [
              0.1554248539
             ]
            },
            {
             "iteration": 43,
             "learn": [
              0.1548518601
             ],
             "passed_time": 16.19702724,
             "remaining_time": 20.6143983,
             "test": [
              0.1508854707
             ]
            },
            {
             "iteration": 44,
             "learn": [
              0.1501949885
             ],
             "passed_time": 16.58745229,
             "remaining_time": 20.27355279,
             "test": [
              0.1463501652
             ]
            },
            {
             "iteration": 45,
             "learn": [
              0.1459826933
             ],
             "passed_time": 17.00693172,
             "remaining_time": 19.96465898,
             "test": [
              0.1420570805
             ]
            },
            {
             "iteration": 46,
             "learn": [
              0.1416820473
             ],
             "passed_time": 17.43215388,
             "remaining_time": 19.65753523,
             "test": [
              0.1377525986
             ]
            },
            {
             "iteration": 47,
             "learn": [
              0.1377250879
             ],
             "passed_time": 17.86772941,
             "remaining_time": 19.35670686,
             "test": [
              0.1336831162
             ]
            },
            {
             "iteration": 48,
             "learn": [
              0.1337817946
             ],
             "passed_time": 18.29911798,
             "remaining_time": 19.04602075,
             "test": [
              0.1297212275
             ]
            },
            {
             "iteration": 49,
             "learn": [
              0.1300255649
             ],
             "passed_time": 18.722044,
             "remaining_time": 18.722044,
             "test": [
              0.1259877674
             ]
            },
            {
             "iteration": 50,
             "learn": [
              0.1263327256
             ],
             "passed_time": 19.14998058,
             "remaining_time": 18.39900095,
             "test": [
              0.1222807472
             ]
            },
            {
             "iteration": 51,
             "learn": [
              0.1228388455
             ],
             "passed_time": 19.4868707,
             "remaining_time": 17.98788064,
             "test": [
              0.1188428711
             ]
            },
            {
             "iteration": 52,
             "learn": [
              0.1193460205
             ],
             "passed_time": 19.87173772,
             "remaining_time": 17.62210703,
             "test": [
              0.1153443005
             ]
            },
            {
             "iteration": 53,
             "learn": [
              0.1159814527
             ],
             "passed_time": 20.25884692,
             "remaining_time": 17.25753627,
             "test": [
              0.1119735474
             ]
            },
            {
             "iteration": 54,
             "learn": [
              0.1127351323
             ],
             "passed_time": 20.70100189,
             "remaining_time": 16.93718336,
             "test": [
              0.1087151986
             ]
            },
            {
             "iteration": 55,
             "learn": [
              0.1095953548
             ],
             "passed_time": 21.07243041,
             "remaining_time": 16.55690961,
             "test": [
              0.1055644731
             ]
            },
            {
             "iteration": 56,
             "learn": [
              0.1066901349
             ],
             "passed_time": 21.41002755,
             "remaining_time": 16.15142429,
             "test": [
              0.1025776337
             ]
            },
            {
             "iteration": 57,
             "learn": [
              0.1037654134
             ],
             "passed_time": 21.76754457,
             "remaining_time": 15.76270469,
             "test": [
              0.09958304058
             ]
            },
            {
             "iteration": 58,
             "learn": [
              0.1008708005
             ],
             "passed_time": 22.1861974,
             "remaining_time": 15.41752701,
             "test": [
              0.09671194126
             ]
            },
            {
             "iteration": 59,
             "learn": [
              0.09815262811
             ],
             "passed_time": 22.61755488,
             "remaining_time": 15.07836992,
             "test": [
              0.09396039413
             ]
            },
            {
             "iteration": 60,
             "learn": [
              0.09562082738
             ],
             "passed_time": 23.02480054,
             "remaining_time": 14.72077412,
             "test": [
              0.09140657133
             ]
            },
            {
             "iteration": 61,
             "learn": [
              0.09294489099
             ],
             "passed_time": 23.45089051,
             "remaining_time": 14.37312644,
             "test": [
              0.08875711752
             ]
            },
            {
             "iteration": 62,
             "learn": [
              0.09045389588
             ],
             "passed_time": 23.83085585,
             "remaining_time": 13.99589947,
             "test": [
              0.08629360058
             ]
            },
            {
             "iteration": 63,
             "learn": [
              0.08812767938
             ],
             "passed_time": 24.16907056,
             "remaining_time": 13.59510219,
             "test": [
              0.0839540207
             ]
            },
            {
             "iteration": 64,
             "learn": [
              0.08580121958
             ],
             "passed_time": 24.61304761,
             "remaining_time": 13.25317948,
             "test": [
              0.08157053481
             ]
            },
            {
             "iteration": 65,
             "learn": [
              0.08351899625
             ],
             "passed_time": 25.03943614,
             "remaining_time": 12.89910347,
             "test": [
              0.0792452122
             ]
            },
            {
             "iteration": 66,
             "learn": [
              0.08137364858
             ],
             "passed_time": 25.41770678,
             "remaining_time": 12.51916901,
             "test": [
              0.07715935433
             ]
            },
            {
             "iteration": 67,
             "learn": [
              0.07930306044
             ],
             "passed_time": 25.84476452,
             "remaining_time": 12.16224213,
             "test": [
              0.07499112912
             ]
            },
            {
             "iteration": 68,
             "learn": [
              0.07726609966
             ],
             "passed_time": 26.22538868,
             "remaining_time": 11.782421,
             "test": [
              0.07301794715
             ]
            },
            {
             "iteration": 69,
             "learn": [
              0.07527672509
             ],
             "passed_time": 26.65323021,
             "remaining_time": 11.42281295,
             "test": [
              0.07100865556
             ]
            },
            {
             "iteration": 70,
             "learn": [
              0.07332292026
             ],
             "passed_time": 27.04038479,
             "remaining_time": 11.04466421,
             "test": [
              0.06898345274
             ]
            },
            {
             "iteration": 71,
             "learn": [
              0.07154566089
             ],
             "passed_time": 27.41067026,
             "remaining_time": 10.6597051,
             "test": [
              0.06716219833
             ]
            },
            {
             "iteration": 72,
             "learn": [
              0.06977660886
             ],
             "passed_time": 27.79504483,
             "remaining_time": 10.28035905,
             "test": [
              0.06546148025
             ]
            },
            {
             "iteration": 73,
             "learn": [
              0.06799125466
             ],
             "passed_time": 28.19315573,
             "remaining_time": 9.905703365,
             "test": [
              0.06366051939
             ]
            },
            {
             "iteration": 74,
             "learn": [
              0.06633079256
             ],
             "passed_time": 28.58195732,
             "remaining_time": 9.527319106,
             "test": [
              0.0620719774
             ]
            },
            {
             "iteration": 75,
             "learn": [
              0.06462152532
             ],
             "passed_time": 29.00681216,
             "remaining_time": 9.160045946,
             "test": [
              0.06037259835
             ]
            },
            {
             "iteration": 76,
             "learn": [
              0.06303776876
             ],
             "passed_time": 29.43280809,
             "remaining_time": 8.791618,
             "test": [
              0.05881668556
             ]
            },
            {
             "iteration": 77,
             "learn": [
              0.06151843759
             ],
             "passed_time": 29.8240066,
             "remaining_time": 8.411899297,
             "test": [
              0.0573246738
             ]
            },
            {
             "iteration": 78,
             "learn": [
              0.05997179926
             ],
             "passed_time": 30.21330367,
             "remaining_time": 8.031384521,
             "test": [
              0.0557752405
             ]
            },
            {
             "iteration": 79,
             "learn": [
              0.05855528025
             ],
             "passed_time": 30.53916162,
             "remaining_time": 7.634790404,
             "test": [
              0.05435804619
             ]
            },
            {
             "iteration": 80,
             "learn": [
              0.05704005644
             ],
             "passed_time": 30.97298306,
             "remaining_time": 7.265267631,
             "test": [
              0.05285618638
             ]
            },
            {
             "iteration": 81,
             "learn": [
              0.0557103501
             ],
             "passed_time": 31.2962499,
             "remaining_time": 6.869908514,
             "test": [
              0.0514986556
             ]
            },
            {
             "iteration": 82,
             "learn": [
              0.05443540787
             ],
             "passed_time": 31.62485374,
             "remaining_time": 6.477379682,
             "test": [
              0.05021215093
             ]
            },
            {
             "iteration": 83,
             "learn": [
              0.05319989546
             ],
             "passed_time": 31.92288271,
             "remaining_time": 6.080549088,
             "test": [
              0.0490453061
             ]
            },
            {
             "iteration": 84,
             "learn": [
              0.05203101823
             ],
             "passed_time": 32.21965268,
             "remaining_time": 5.685821061,
             "test": [
              0.04793271391
             ]
            },
            {
             "iteration": 85,
             "learn": [
              0.05094940784
             ],
             "passed_time": 32.58542482,
             "remaining_time": 5.304604041,
             "test": [
              0.04684897752
             ]
            },
            {
             "iteration": 86,
             "learn": [
              0.04970003223
             ],
             "passed_time": 32.93747055,
             "remaining_time": 4.921691002,
             "test": [
              0.04560358549
             ]
            },
            {
             "iteration": 87,
             "learn": [
              0.04860290887
             ],
             "passed_time": 33.36994561,
             "remaining_time": 4.550447128,
             "test": [
              0.04447653811
             ]
            },
            {
             "iteration": 88,
             "learn": [
              0.04745469487
             ],
             "passed_time": 33.8065763,
             "remaining_time": 4.178340891,
             "test": [
              0.04326793184
             ]
            },
            {
             "iteration": 89,
             "learn": [
              0.04637543049
             ],
             "passed_time": 34.18355623,
             "remaining_time": 3.798172915,
             "test": [
              0.04226382043
             ]
            },
            {
             "iteration": 90,
             "learn": [
              0.04525101375
             ],
             "passed_time": 34.58890765,
             "remaining_time": 3.420880977,
             "test": [
              0.0412208178
             ]
            },
            {
             "iteration": 91,
             "learn": [
              0.04422733489
             ],
             "passed_time": 34.97764898,
             "remaining_time": 3.041534694,
             "test": [
              0.04023264805
             ]
            },
            {
             "iteration": 92,
             "learn": [
              0.0432516381
             ],
             "passed_time": 35.35324436,
             "remaining_time": 2.660996888,
             "test": [
              0.03932243642
             ]
            },
            {
             "iteration": 93,
             "learn": [
              0.04237253603
             ],
             "passed_time": 35.65436609,
             "remaining_time": 2.275810602,
             "test": [
              0.03848377718
             ]
            },
            {
             "iteration": 94,
             "learn": [
              0.04139417328
             ],
             "passed_time": 36.03526406,
             "remaining_time": 1.896592845,
             "test": [
              0.03749794268
             ]
            },
            {
             "iteration": 95,
             "learn": [
              0.04045405644
             ],
             "passed_time": 36.44370672,
             "remaining_time": 1.51848778,
             "test": [
              0.03655306906
             ]
            },
            {
             "iteration": 96,
             "learn": [
              0.03960043879
             ],
             "passed_time": 36.77047043,
             "remaining_time": 1.137231044,
             "test": [
              0.03567356706
             ]
            },
            {
             "iteration": 97,
             "learn": [
              0.03878217995
             ],
             "passed_time": 37.19860126,
             "remaining_time": 0.7591551278,
             "test": [
              0.03484581858
             ]
            },
            {
             "iteration": 98,
             "learn": [
              0.03806873431
             ],
             "passed_time": 37.51404082,
             "remaining_time": 0.3789297052,
             "test": [
              0.03413205782
             ]
            },
            {
             "iteration": 99,
             "learn": [
              0.03718015156
             ],
             "passed_time": 37.93438413,
             "remaining_time": 0,
             "test": [
              0.03324639059
             ]
            }
           ],
           "meta": {
            "iteration_count": 100,
            "launch_mode": "Train",
            "learn_metrics": [
             {
              "best_value": "Min",
              "name": "CrossEntropy"
             }
            ],
            "learn_sets": [
             "learn"
            ],
            "name": "experiment",
            "parameters": "",
            "test_metrics": [
             {
              "best_value": "Min",
              "name": "CrossEntropy"
             }
            ],
            "test_sets": [
             "test"
            ]
           }
          },
          "passed_iterations": 99,
          "total_iterations": 100
         },
         "name": "catboost_info",
         "path": "catboost_info"
        }
       },
       "layout": "IPY_MODEL_ee3a0c08fe9f48b7abdf6f0760ce32ab"
      }
     },
     "65e2c0bec59e42aea506a5db8f2f5be4": {
      "model_module": "catboost-widget",
      "model_module_version": "^1.0.0",
      "model_name": "CatboostWidgetModel",
      "state": {
       "_dom_classes": [],
       "_model_module": "catboost-widget",
       "_model_module_version": "^1.0.0",
       "_model_name": "CatboostWidgetModel",
       "_view_count": null,
       "_view_module": "catboost-widget",
       "_view_module_version": "^1.0.0",
       "_view_name": "CatboostWidgetView",
       "data": {
        "catboost_info": {
         "content": {
          "data": {
           "iterations": [
            {
             "iteration": 0,
             "learn": [
              0.6613852655
             ],
             "passed_time": 0.4015013442,
             "remaining_time": 39.74863308,
             "test": [
              0.6636096715
             ]
            },
            {
             "iteration": 1,
             "learn": [
              0.6362967211
             ],
             "passed_time": 0.8449262212,
             "remaining_time": 41.40138484,
             "test": [
              0.635783432
             ]
            },
            {
             "iteration": 2,
             "learn": [
              0.6093782333
             ],
             "passed_time": 1.279640585,
             "remaining_time": 41.37504557,
             "test": [
              0.6095321289
             ]
            },
            {
             "iteration": 3,
             "learn": [
              0.5837202615
             ],
             "passed_time": 1.637275184,
             "remaining_time": 39.29460441,
             "test": [
              0.5847239489
             ]
            },
            {
             "iteration": 4,
             "learn": [
              0.5621934137
             ],
             "passed_time": 2.046140006,
             "remaining_time": 38.87666012,
             "test": [
              0.5612486407
             ]
            },
            {
             "iteration": 5,
             "learn": [
              0.5376816494
             ],
             "passed_time": 2.477777371,
             "remaining_time": 38.81851215,
             "test": [
              0.5390040575
             ]
            },
            {
             "iteration": 6,
             "learn": [
              0.5168848067
             ],
             "passed_time": 2.815518808,
             "remaining_time": 37.40617845,
             "test": [
              0.5178970646
             ]
            },
            {
             "iteration": 7,
             "learn": [
              0.4986859252
             ],
             "passed_time": 3.272854288,
             "remaining_time": 37.63782431,
             "test": [
              0.4978491174
             ]
            },
            {
             "iteration": 8,
             "learn": [
              0.4785286469
             ],
             "passed_time": 3.722798307,
             "remaining_time": 37.64162733,
             "test": [
              0.4787849991
             ]
            },
            {
             "iteration": 9,
             "learn": [
              0.4605845651
             ],
             "passed_time": 4.148935708,
             "remaining_time": 37.34042137,
             "test": [
              0.4606392948
             ]
            },
            {
             "iteration": 10,
             "learn": [
              0.443847058
             ],
             "passed_time": 4.588847657,
             "remaining_time": 37.12794922,
             "test": [
              0.4433516706
             ]
            },
            {
             "iteration": 11,
             "learn": [
              0.4280560089
             ],
             "passed_time": 5.00247911,
             "remaining_time": 36.6848468,
             "test": [
              0.4268658649
             ]
            },
            {
             "iteration": 12,
             "learn": [
              0.412120224
             ],
             "passed_time": 5.433090442,
             "remaining_time": 36.35991296,
             "test": [
              0.4111324142
             ]
            },
            {
             "iteration": 13,
             "learn": [
              0.3967816017
             ],
             "passed_time": 5.824793423,
             "remaining_time": 35.78087388,
             "test": [
              0.396106562
             ]
            },
            {
             "iteration": 14,
             "learn": [
              0.3823997549
             ],
             "passed_time": 6.235673925,
             "remaining_time": 35.33548557,
             "test": [
              0.3817453587
             ]
            },
            {
             "iteration": 15,
             "learn": [
              0.367340295
             ],
             "passed_time": 6.608007456,
             "remaining_time": 34.69203915,
             "test": [
              0.3680101958
             ]
            },
            {
             "iteration": 16,
             "learn": [
              0.3538848824
             ],
             "passed_time": 7.018669158,
             "remaining_time": 34.26762001,
             "test": [
              0.3548657028
             ]
            },
            {
             "iteration": 17,
             "learn": [
              0.3431808534
             ],
             "passed_time": 7.482341538,
             "remaining_time": 34.08622256,
             "test": [
              0.3422781874
             ]
            },
            {
             "iteration": 18,
             "learn": [
              0.3300940709
             ],
             "passed_time": 7.823928923,
             "remaining_time": 33.35464436,
             "test": [
              0.3302173069
             ]
            },
            {
             "iteration": 19,
             "learn": [
              0.3196813093
             ],
             "passed_time": 8.216317676,
             "remaining_time": 32.8652707,
             "test": [
              0.3186558722
             ]
            },
            {
             "iteration": 20,
             "learn": [
              0.3069810977
             ],
             "passed_time": 8.608893643,
             "remaining_time": 32.38583799,
             "test": [
              0.3075667343
             ]
            },
            {
             "iteration": 21,
             "learn": [
              0.2968898467
             ],
             "passed_time": 9.091373293,
             "remaining_time": 32.23305077,
             "test": [
              0.2969259983
             ]
            },
            {
             "iteration": 22,
             "learn": [
              0.2867758839
             ],
             "passed_time": 9.457102996,
             "remaining_time": 31.66073612,
             "test": [
              0.2867103757
             ]
            },
            {
             "iteration": 23,
             "learn": [
              0.27650922
             ],
             "passed_time": 9.878007299,
             "remaining_time": 31.28035645,
             "test": [
              0.2768999718
             ]
            },
            {
             "iteration": 24,
             "learn": [
              0.2664613367
             ],
             "passed_time": 10.27524159,
             "remaining_time": 30.82572477,
             "test": [
              0.2674728422
             ]
            },
            {
             "iteration": 25,
             "learn": [
              0.2579889069
             ],
             "passed_time": 10.69728866,
             "remaining_time": 30.44612925,
             "test": [
              0.2584112493
             ]
            },
            {
             "iteration": 26,
             "learn": [
              0.2499728988
             ],
             "passed_time": 11.15080213,
             "remaining_time": 30.14846502,
             "test": [
              0.2496983773
             ]
            },
            {
             "iteration": 27,
             "learn": [
              0.2419825404
             ],
             "passed_time": 11.55250801,
             "remaining_time": 29.70644916,
             "test": [
              0.2413173189
             ]
            },
            {
             "iteration": 28,
             "learn": [
              0.2336869308
             ],
             "passed_time": 11.97643097,
             "remaining_time": 29.32160685,
             "test": [
              0.2332525423
             ]
            },
            {
             "iteration": 29,
             "learn": [
              0.2258560628
             ],
             "passed_time": 12.39483339,
             "remaining_time": 28.9212779,
             "test": [
              0.2254903544
             ]
            },
            {
             "iteration": 30,
             "learn": [
              0.2185349856
             ],
             "passed_time": 12.80480791,
             "remaining_time": 28.50102405,
             "test": [
              0.2180163198
             ]
            },
            {
             "iteration": 31,
             "learn": [
              0.2109418084
             ],
             "passed_time": 13.1821815,
             "remaining_time": 28.0121357,
             "test": [
              0.2108179238
             ]
            },
            {
             "iteration": 32,
             "learn": [
              0.2033625077
             ],
             "passed_time": 13.64019476,
             "remaining_time": 27.69372875,
             "test": [
              0.2038830483
             ]
            },
            {
             "iteration": 33,
             "learn": [
              0.1964416804
             ],
             "passed_time": 14.09530949,
             "remaining_time": 27.36148313,
             "test": [
              0.1972007455
             ]
            },
            {
             "iteration": 34,
             "learn": [
              0.1911854886
             ],
             "passed_time": 14.5593414,
             "remaining_time": 27.03877688,
             "test": [
              0.1907596369
             ]
            },
            {
             "iteration": 35,
             "learn": [
              0.1839177749
             ],
             "passed_time": 14.93558904,
             "remaining_time": 26.55215829,
             "test": [
              0.1845499992
             ]
            },
            {
             "iteration": 36,
             "learn": [
              0.1787740721
             ],
             "passed_time": 15.33296839,
             "remaining_time": 26.10748671,
             "test": [
              0.1785614823
             ]
            },
            {
             "iteration": 37,
             "learn": [
              0.1722033852
             ],
             "passed_time": 15.71234273,
             "remaining_time": 25.63592761,
             "test": [
              0.1727848661
             ]
            },
            {
             "iteration": 38,
             "learn": [
              0.1676816598
             ],
             "passed_time": 16.14614888,
             "remaining_time": 25.25423286,
             "test": [
              0.1672119569
             ]
            },
            {
             "iteration": 39,
             "learn": [
              0.1614397514
             ],
             "passed_time": 16.54964612,
             "remaining_time": 24.82446919,
             "test": [
              0.1618339707
             ]
            },
            {
             "iteration": 40,
             "learn": [
              0.1563416899
             ],
             "passed_time": 17.00404489,
             "remaining_time": 24.46923533,
             "test": [
              0.1566437162
             ]
            },
            {
             "iteration": 41,
             "learn": [
              0.1520300638
             ],
             "passed_time": 17.43403921,
             "remaining_time": 24.07557796,
             "test": [
              0.1516335623
             ]
            },
            {
             "iteration": 42,
             "learn": [
              0.1470211156
             ],
             "passed_time": 17.87299003,
             "remaining_time": 23.69210307,
             "test": [
              0.1467958817
             ]
            },
            {
             "iteration": 43,
             "learn": [
              0.1418819316
             ],
             "passed_time": 18.30642792,
             "remaining_time": 23.29909008,
             "test": [
              0.1421239791
             ]
            },
            {
             "iteration": 44,
             "learn": [
              0.137123006
             ],
             "passed_time": 18.75213352,
             "remaining_time": 22.9192743,
             "test": [
              0.1376120006
             ]
            },
            {
             "iteration": 45,
             "learn": [
              0.1329232973
             ],
             "passed_time": 19.21159314,
             "remaining_time": 22.55273977,
             "test": [
              0.1332528236
             ]
            },
            {
             "iteration": 46,
             "learn": [
              0.1289327709
             ],
             "passed_time": 19.7709408,
             "remaining_time": 22.29489069,
             "test": [
              0.1290423557
             ]
            },
            {
             "iteration": 47,
             "learn": [
              0.1250072097
             ],
             "passed_time": 20.52348358,
             "remaining_time": 22.23377388,
             "test": [
              0.1249732896
             ]
            },
            {
             "iteration": 48,
             "learn": [
              0.1210976278
             ],
             "passed_time": 21.02310497,
             "remaining_time": 21.88119088,
             "test": [
              0.1210404741
             ]
            },
            {
             "iteration": 49,
             "learn": [
              0.1172109583
             ],
             "passed_time": 21.37787595,
             "remaining_time": 21.37787595,
             "test": [
              0.1172388468
             ]
            },
            {
             "iteration": 50,
             "learn": [
              0.1133353821
             ],
             "passed_time": 21.79493032,
             "remaining_time": 20.94022717,
             "test": [
              0.1135642623
             ]
            },
            {
             "iteration": 51,
             "learn": [
              0.1097726248
             ],
             "passed_time": 22.15303192,
             "remaining_time": 20.44895254,
             "test": [
              0.1100108078
             ]
            },
            {
             "iteration": 52,
             "learn": [
              0.1069438175
             ],
             "passed_time": 22.49816819,
             "remaining_time": 19.95120576,
             "test": [
              0.1065747204
             ]
            },
            {
             "iteration": 53,
             "learn": [
              0.1034236683
             ],
             "passed_time": 22.84830861,
             "remaining_time": 19.463374,
             "test": [
              0.1032519589
             ]
            },
            {
             "iteration": 54,
             "learn": [
              0.09975040059
             ],
             "passed_time": 23.31266885,
             "remaining_time": 19.07400179,
             "test": [
              0.1000386662
             ]
            },
            {
             "iteration": 55,
             "learn": [
              0.09715600634
             ],
             "passed_time": 23.7355693,
             "remaining_time": 18.64937588,
             "test": [
              0.09693046996
             ]
            },
            {
             "iteration": 56,
             "learn": [
              0.09378571468
             ],
             "passed_time": 24.16605088,
             "remaining_time": 18.23052961,
             "test": [
              0.09392312485
             ]
            },
            {
             "iteration": 57,
             "learn": [
              0.09124314869
             ],
             "passed_time": 24.63881538,
             "remaining_time": 17.8419008,
             "test": [
              0.09101434685
             ]
            },
            {
             "iteration": 58,
             "learn": [
              0.08796223302
             ],
             "passed_time": 25.05078897,
             "remaining_time": 17.40817539,
             "test": [
              0.08819945669
             ]
            },
            {
             "iteration": 59,
             "learn": [
              0.0854970167
             ],
             "passed_time": 25.4846698,
             "remaining_time": 16.98977987,
             "test": [
              0.08547581436
             ]
            },
            {
             "iteration": 60,
             "learn": [
              0.0825973664
             ],
             "passed_time": 25.91538205,
             "remaining_time": 16.56885082,
             "test": [
              0.08283938146
             ]
            },
            {
             "iteration": 61,
             "learn": [
              0.08012439552
             ],
             "passed_time": 26.33768953,
             "remaining_time": 16.14245487,
             "test": [
              0.08028771121
             ]
            },
            {
             "iteration": 62,
             "learn": [
              0.0779931165
             ],
             "passed_time": 26.75131244,
             "remaining_time": 15.71108826,
             "test": [
              0.07781813917
             ]
            },
            {
             "iteration": 63,
             "learn": [
              0.0755116813
             ],
             "passed_time": 27.15561534,
             "remaining_time": 15.27503363,
             "test": [
              0.07542764304
             ]
            },
            {
             "iteration": 64,
             "learn": [
              0.07298488791
             ],
             "passed_time": 27.61964525,
             "remaining_time": 14.87211668,
             "test": [
              0.07311335295
             ]
            },
            {
             "iteration": 65,
             "learn": [
              0.07060287688
             ],
             "passed_time": 28.05660932,
             "remaining_time": 14.4534048,
             "test": [
              0.07087239599
             ]
            },
            {
             "iteration": 66,
             "learn": [
              0.06847507122
             ],
             "passed_time": 28.50820093,
             "remaining_time": 14.0413527,
             "test": [
              0.06870273087
             ]
            },
            {
             "iteration": 67,
             "learn": [
              0.06645628115
             ],
             "passed_time": 28.8682724,
             "remaining_time": 13.58506937,
             "test": [
              0.06660206311
             ]
            },
            {
             "iteration": 68,
             "learn": [
              0.06448847479
             ],
             "passed_time": 29.28298684,
             "remaining_time": 13.15612452,
             "test": [
              0.06456760556
             ]
            },
            {
             "iteration": 69,
             "learn": [
              0.06253473367
             ],
             "passed_time": 29.62925119,
             "remaining_time": 12.69825051,
             "test": [
              0.06259727345
             ]
            },
            {
             "iteration": 70,
             "learn": [
              0.06058666894
             ],
             "passed_time": 29.98981136,
             "remaining_time": 12.24935957,
             "test": [
              0.06068899808
             ]
            },
            {
             "iteration": 71,
             "learn": [
              0.05867791648
             ],
             "passed_time": 30.37298292,
             "remaining_time": 11.81171558,
             "test": [
              0.05884096116
             ]
            },
            {
             "iteration": 72,
             "learn": [
              0.05687065166
             ],
             "passed_time": 30.83945712,
             "remaining_time": 11.40637455,
             "test": [
              0.05705049799
             ]
            },
            {
             "iteration": 73,
             "learn": [
              0.05545485808
             ],
             "passed_time": 31.29519998,
             "remaining_time": 10.9956108,
             "test": [
              0.05531636318
             ]
            },
            {
             "iteration": 74,
             "learn": [
              0.05369824431
             ],
             "passed_time": 31.7560785,
             "remaining_time": 10.5853595,
             "test": [
              0.05363658996
             ]
            },
            {
             "iteration": 75,
             "learn": [
              0.05185099047
             ],
             "passed_time": 32.18538235,
             "remaining_time": 10.16380495,
             "test": [
              0.05200894914
             ]
            },
            {
             "iteration": 76,
             "learn": [
              0.05055584701
             ],
             "passed_time": 32.69520461,
             "remaining_time": 9.766100077,
             "test": [
              0.05043202854
             ]
            },
            {
             "iteration": 77,
             "learn": [
              0.04886500345
             ],
             "passed_time": 33.11193253,
             "remaining_time": 9.33926302,
             "test": [
              0.04890439317
             ]
            },
            {
             "iteration": 78,
             "learn": [
              0.04729294767
             ],
             "passed_time": 33.51950458,
             "remaining_time": 8.910248054,
             "test": [
              0.04742409273
             ]
            },
            {
             "iteration": 79,
             "learn": [
              0.04593768589
             ],
             "passed_time": 33.92261913,
             "remaining_time": 8.480654783,
             "test": [
              0.04598979041
             ]
            },
            {
             "iteration": 80,
             "learn": [
              0.04467530684
             ],
             "passed_time": 34.29895495,
             "remaining_time": 8.045433876,
             "test": [
              0.04459959867
             ]
            },
            {
             "iteration": 81,
             "learn": [
              0.04309658822
             ],
             "passed_time": 34.6794686,
             "remaining_time": 7.612566277,
             "test": [
              0.04325268007
             ]
            },
            {
             "iteration": 82,
             "learn": [
              0.04198450033
             ],
             "passed_time": 35.04736124,
             "remaining_time": 7.178375193,
             "test": [
              0.04194706447
             ]
            },
            {
             "iteration": 83,
             "learn": [
              0.04074150563
             ],
             "passed_time": 35.41276997,
             "remaining_time": 6.745289519,
             "test": [
              0.04068204836
             ]
            },
            {
             "iteration": 84,
             "learn": [
              0.03937723492
             ],
             "passed_time": 35.80494728,
             "remaining_time": 6.318520107,
             "test": [
              0.03945554533
             ]
            },
            {
             "iteration": 85,
             "learn": [
              0.03815681091
             ],
             "passed_time": 36.29091258,
             "remaining_time": 5.907822978,
             "test": [
              0.0382679607
             ]
            },
            {
             "iteration": 86,
             "learn": [
              0.03713515948
             ],
             "passed_time": 36.64858183,
             "remaining_time": 5.476224871,
             "test": [
              0.03711604696
             ]
            },
            {
             "iteration": 87,
             "learn": [
              0.03608475009
             ],
             "passed_time": 37.10097631,
             "remaining_time": 5.059224042,
             "test": [
              0.03599983011
             ]
            },
            {
             "iteration": 88,
             "learn": [
              0.03490589906
             ],
             "passed_time": 37.50992491,
             "remaining_time": 4.636058135,
             "test": [
              0.03491722419
             ]
            },
            {
             "iteration": 89,
             "learn": [
              0.03385691249
             ],
             "passed_time": 37.96575926,
             "remaining_time": 4.218417696,
             "test": [
              0.0338683553
             ]
            },
            {
             "iteration": 90,
             "learn": [
              0.03284872996
             ],
             "passed_time": 38.34566416,
             "remaining_time": 3.792428323,
             "test": [
              0.0328510455
             ]
            },
            {
             "iteration": 91,
             "learn": [
              0.03185854667
             ],
             "passed_time": 38.79155463,
             "remaining_time": 3.373178664,
             "test": [
              0.0318652367
             ]
            },
            {
             "iteration": 92,
             "learn": [
              0.03088237684
             ],
             "passed_time": 39.21564743,
             "remaining_time": 2.951715398,
             "test": [
              0.03090919172
             ]
            },
            {
             "iteration": 93,
             "learn": [
              0.02994341219
             ],
             "passed_time": 39.68993943,
             "remaining_time": 2.533400389,
             "test": [
              0.02998231398
             ]
            },
            {
             "iteration": 94,
             "learn": [
              0.02902717598
             ],
             "passed_time": 40.15594092,
             "remaining_time": 2.113470575,
             "test": [
              0.02908427794
             ]
            },
            {
             "iteration": 95,
             "learn": [
              0.02826715696
             ],
             "passed_time": 40.62475905,
             "remaining_time": 1.692698294,
             "test": [
              0.02821306603
             ]
            },
            {
             "iteration": 96,
             "learn": [
              0.02738262045
             ],
             "passed_time": 41.05555488,
             "remaining_time": 1.269759429,
             "test": [
              0.02736847392
             ]
            },
            {
             "iteration": 97,
             "learn": [
              0.0264731647
             ],
             "passed_time": 41.4951336,
             "remaining_time": 0.8468394611,
             "test": [
              0.02654946403
             ]
            },
            {
             "iteration": 98,
             "learn": [
              0.02580714152
             ],
             "passed_time": 41.9200759,
             "remaining_time": 0.4234351101,
             "test": [
              0.02575510066
             ]
            },
            {
             "iteration": 99,
             "learn": [
              0.02495316044
             ],
             "passed_time": 42.30227775,
             "remaining_time": 0,
             "test": [
              0.02498517744
             ]
            }
           ],
           "meta": {
            "iteration_count": 100,
            "launch_mode": "Train",
            "learn_metrics": [
             {
              "best_value": "Min",
              "name": "CrossEntropy"
             }
            ],
            "learn_sets": [
             "learn"
            ],
            "name": "experiment",
            "parameters": "",
            "test_metrics": [
             {
              "best_value": "Min",
              "name": "CrossEntropy"
             }
            ],
            "test_sets": [
             "test"
            ]
           }
          },
          "passed_iterations": 99,
          "total_iterations": 100
         },
         "name": "catboost_info",
         "path": "catboost_info"
        }
       },
       "layout": "IPY_MODEL_1d8ef36b4606415b9881fcee96d70386"
      }
     },
     "6a9ac5be7c6a44e39bf4257b98afcb3c": {
      "model_module": "@jupyter-widgets/base",
      "model_module_version": "1.2.0",
      "model_name": "LayoutModel",
      "state": {
       "_model_module": "@jupyter-widgets/base",
       "_model_module_version": "1.2.0",
       "_model_name": "LayoutModel",
       "_view_count": null,
       "_view_module": "@jupyter-widgets/base",
       "_view_module_version": "1.2.0",
       "_view_name": "LayoutView",
       "align_content": null,
       "align_items": null,
       "align_self": "stretch",
       "border": null,
       "bottom": null,
       "display": null,
       "flex": null,
       "flex_flow": null,
       "grid_area": null,
       "grid_auto_columns": null,
       "grid_auto_flow": null,
       "grid_auto_rows": null,
       "grid_column": null,
       "grid_gap": null,
       "grid_row": null,
       "grid_template_areas": null,
       "grid_template_columns": null,
       "grid_template_rows": null,
       "height": "500px",
       "justify_content": null,
       "justify_items": null,
       "left": null,
       "margin": null,
       "max_height": null,
       "max_width": null,
       "min_height": null,
       "min_width": null,
       "object_fit": null,
       "object_position": null,
       "order": null,
       "overflow": null,
       "overflow_x": null,
       "overflow_y": null,
       "padding": null,
       "right": null,
       "top": null,
       "visibility": null,
       "width": null
      }
     },
     "70006eb48dbf4e4391ccb5a758717e40": {
      "model_module": "@jupyter-widgets/base",
      "model_module_version": "1.2.0",
      "model_name": "LayoutModel",
      "state": {
       "_model_module": "@jupyter-widgets/base",
       "_model_module_version": "1.2.0",
       "_model_name": "LayoutModel",
       "_view_count": null,
       "_view_module": "@jupyter-widgets/base",
       "_view_module_version": "1.2.0",
       "_view_name": "LayoutView",
       "align_content": null,
       "align_items": null,
       "align_self": "stretch",
       "border": null,
       "bottom": null,
       "display": null,
       "flex": null,
       "flex_flow": null,
       "grid_area": null,
       "grid_auto_columns": null,
       "grid_auto_flow": null,
       "grid_auto_rows": null,
       "grid_column": null,
       "grid_gap": null,
       "grid_row": null,
       "grid_template_areas": null,
       "grid_template_columns": null,
       "grid_template_rows": null,
       "height": "500px",
       "justify_content": null,
       "justify_items": null,
       "left": null,
       "margin": null,
       "max_height": null,
       "max_width": null,
       "min_height": null,
       "min_width": null,
       "object_fit": null,
       "object_position": null,
       "order": null,
       "overflow": null,
       "overflow_x": null,
       "overflow_y": null,
       "padding": null,
       "right": null,
       "top": null,
       "visibility": null,
       "width": null
      }
     },
     "70efc1cf98ac471e9522b55f19cc4939": {
      "model_module": "catboost-widget",
      "model_module_version": "^1.0.0",
      "model_name": "CatboostWidgetModel",
      "state": {
       "_dom_classes": [],
       "_model_module": "catboost-widget",
       "_model_module_version": "^1.0.0",
       "_model_name": "CatboostWidgetModel",
       "_view_count": null,
       "_view_module": "catboost-widget",
       "_view_module_version": "^1.0.0",
       "_view_name": "CatboostWidgetView",
       "data": {
        "catboost_info": {
         "content": {
          "data": {
           "iterations": [
            {
             "iteration": 0,
             "learn": [
              0.6614056774
             ],
             "passed_time": 0.4091310742,
             "remaining_time": 40.50397634,
             "test": [
              0.6636029723
             ]
            },
            {
             "iteration": 1,
             "learn": [
              0.6363155426
             ],
             "passed_time": 0.8531898995,
             "remaining_time": 41.80630507,
             "test": [
              0.6357805175
             ]
            },
            {
             "iteration": 2,
             "learn": [
              0.6093952016
             ],
             "passed_time": 1.289996208,
             "remaining_time": 41.70987739,
             "test": [
              0.6095307706
             ]
            },
            {
             "iteration": 3,
             "learn": [
              0.5837509253
             ],
             "passed_time": 1.636868822,
             "remaining_time": 39.28485174,
             "test": [
              0.5847254099
             ]
            },
            {
             "iteration": 4,
             "learn": [
              0.5622293612
             ],
             "passed_time": 2.096999224,
             "remaining_time": 39.84298527,
             "test": [
              0.5612531733
             ]
            },
            {
             "iteration": 5,
             "learn": [
              0.5378993454
             ],
             "passed_time": 2.526548181,
             "remaining_time": 39.58258818,
             "test": [
              0.5390105923
             ]
            },
            {
             "iteration": 6,
             "learn": [
              0.5169260773
             ],
             "passed_time": 2.862444035,
             "remaining_time": 38.0296136,
             "test": [
              0.5179059101
             ]
            },
            {
             "iteration": 7,
             "learn": [
              0.4987403131
             ],
             "passed_time": 3.321046061,
             "remaining_time": 38.1920297,
             "test": [
              0.4978605876
             ]
            },
            {
             "iteration": 8,
             "learn": [
              0.4785873984
             ],
             "passed_time": 3.7630623,
             "remaining_time": 38.04874104,
             "test": [
              0.4787987726
             ]
            },
            {
             "iteration": 9,
             "learn": [
              0.4606543835
             ],
             "passed_time": 4.189402242,
             "remaining_time": 37.70462018,
             "test": [
              0.4606542859
             ]
            },
            {
             "iteration": 10,
             "learn": [
              0.4439318205
             ],
             "passed_time": 4.631933068,
             "remaining_time": 37.47654937,
             "test": [
              0.4433681109
             ]
            },
            {
             "iteration": 11,
             "learn": [
              0.4281223245
             ],
             "passed_time": 5.01857456,
             "remaining_time": 36.8028801,
             "test": [
              0.4268840666
             ]
            },
            {
             "iteration": 12,
             "learn": [
              0.4122418475
             ],
             "passed_time": 5.447285509,
             "remaining_time": 36.45491072,
             "test": [
              0.411152026
             ]
            },
            {
             "iteration": 13,
             "learn": [
              0.3968603248
             ],
             "passed_time": 5.846209432,
             "remaining_time": 35.91242937,
             "test": [
              0.396133829
             ]
            },
            {
             "iteration": 14,
             "learn": [
              0.3825014923
             ],
             "passed_time": 6.261233587,
             "remaining_time": 35.48032366,
             "test": [
              0.3817747239
             ]
            },
            {
             "iteration": 15,
             "learn": [
              0.3674390028
             ],
             "passed_time": 6.630760979,
             "remaining_time": 34.81149514,
             "test": [
              0.3680405949
             ]
            },
            {
             "iteration": 16,
             "learn": [
              0.3540718554
             ],
             "passed_time": 7.035496925,
             "remaining_time": 34.34977911,
             "test": [
              0.354898073
             ]
            },
            {
             "iteration": 17,
             "learn": [
              0.3432760256
             ],
             "passed_time": 7.502465259,
             "remaining_time": 34.17789729,
             "test": [
              0.3423115922
             ]
            },
            {
             "iteration": 18,
             "learn": [
              0.3301910898
             ],
             "passed_time": 7.843308592,
             "remaining_time": 33.43726295,
             "test": [
              0.3302505899
             ]
            },
            {
             "iteration": 19,
             "learn": [
              0.3197793994
             ],
             "passed_time": 8.247833452,
             "remaining_time": 32.99133381,
             "test": [
              0.3186900235
             ]
            },
            {
             "iteration": 20,
             "learn": [
              0.3071306249
             ],
             "passed_time": 8.635331422,
             "remaining_time": 32.4852944,
             "test": [
              0.3076018162
             ]
            },
            {
             "iteration": 21,
             "learn": [
              0.2969981361
             ],
             "passed_time": 9.074068936,
             "remaining_time": 32.17169895,
             "test": [
              0.2969627263
             ]
            },
            {
             "iteration": 22,
             "learn": [
              0.2869340003
             ],
             "passed_time": 9.441734035,
             "remaining_time": 31.60928351,
             "test": [
              0.2867473267
             ]
            },
            {
             "iteration": 23,
             "learn": [
              0.2766511765
             ],
             "passed_time": 9.865158014,
             "remaining_time": 31.23966705,
             "test": [
              0.2769380544
             ]
            },
            {
             "iteration": 24,
             "learn": [
              0.2666449581
             ],
             "passed_time": 10.26471334,
             "remaining_time": 30.79414001,
             "test": [
              0.2675115416
             ]
            },
            {
             "iteration": 25,
             "learn": [
              0.2581371263
             ],
             "passed_time": 10.68546839,
             "remaining_time": 30.41248697,
             "test": [
              0.258452382
             ]
            },
            {
             "iteration": 26,
             "learn": [
              0.2500950809
             ],
             "passed_time": 11.13223469,
             "remaining_time": 30.09826417,
             "test": [
              0.2497394259
             ]
            },
            {
             "iteration": 27,
             "learn": [
              0.2421051563
             ],
             "passed_time": 11.52954965,
             "remaining_time": 29.64741339,
             "test": [
              0.2413585433
             ]
            },
            {
             "iteration": 28,
             "learn": [
              0.2338255949
             ],
             "passed_time": 11.96040032,
             "remaining_time": 29.28235941,
             "test": [
              0.2332962484
             ]
            },
            {
             "iteration": 29,
             "learn": [
              0.2260058003
             ],
             "passed_time": 12.38468466,
             "remaining_time": 28.89759753,
             "test": [
              0.2255341477
             ]
            },
            {
             "iteration": 30,
             "learn": [
              0.2186708732
             ],
             "passed_time": 12.79289403,
             "remaining_time": 28.47450607,
             "test": [
              0.2180613225
             ]
            },
            {
             "iteration": 31,
             "learn": [
              0.2110790958
             ],
             "passed_time": 13.22520189,
             "remaining_time": 28.10355401,
             "test": [
              0.210862625
             ]
            },
            {
             "iteration": 32,
             "learn": [
              0.2035490536
             ],
             "passed_time": 13.68263475,
             "remaining_time": 27.7798948,
             "test": [
              0.2039285896
             ]
            },
            {
             "iteration": 33,
             "learn": [
              0.1967025331
             ],
             "passed_time": 14.12649819,
             "remaining_time": 27.4220259,
             "test": [
              0.1972467094
             ]
            },
            {
             "iteration": 34,
             "learn": [
              0.1913342634
             ],
             "passed_time": 14.58378597,
             "remaining_time": 27.08417395,
             "test": [
              0.1908053056
             ]
            },
            {
             "iteration": 35,
             "learn": [
              0.1841227316
             ],
             "passed_time": 14.96341783,
             "remaining_time": 26.6016317,
             "test": [
              0.1845959947
             ]
            },
            {
             "iteration": 36,
             "learn": [
              0.1789329969
             ],
             "passed_time": 15.37873104,
             "remaining_time": 26.18540691,
             "test": [
              0.1786076893
             ]
            },
            {
             "iteration": 37,
             "learn": [
              0.1724107044
             ],
             "passed_time": 15.76858293,
             "remaining_time": 25.72768794,
             "test": [
              0.1728309366
             ]
            },
            {
             "iteration": 38,
             "learn": [
              0.1678453852
             ],
             "passed_time": 16.20848764,
             "remaining_time": 25.35173707,
             "test": [
              0.1672579852
             ]
            },
            {
             "iteration": 39,
             "learn": [
              0.1616562547
             ],
             "passed_time": 16.61072232,
             "remaining_time": 24.91608348,
             "test": [
              0.1618803462
             ]
            },
            {
             "iteration": 40,
             "learn": [
              0.1565373114
             ],
             "passed_time": 17.04749339,
             "remaining_time": 24.53175879,
             "test": [
              0.1566904748
             ]
            },
            {
             "iteration": 41,
             "learn": [
              0.1522128343
             ],
             "passed_time": 17.47737073,
             "remaining_time": 24.13541673,
             "test": [
              0.1516808635
             ]
            },
            {
             "iteration": 42,
             "learn": [
              0.1472118641
             ],
             "passed_time": 17.9201869,
             "remaining_time": 23.75466636,
             "test": [
              0.1468435828
             ]
            },
            {
             "iteration": 43,
             "learn": [
              0.1421010537
             ],
             "passed_time": 18.34841761,
             "remaining_time": 23.35253151,
             "test": [
              0.1421715189
             ]
            },
            {
             "iteration": 44,
             "learn": [
              0.1373477732
             ],
             "passed_time": 18.79358518,
             "remaining_time": 22.96993744,
             "test": [
              0.1376597987
             ]
            },
            {
             "iteration": 45,
             "learn": [
              0.1331368793
             ],
             "passed_time": 19.25459426,
             "remaining_time": 22.60321935,
             "test": [
              0.1333009405
             ]
            },
            {
             "iteration": 46,
             "learn": [
              0.1291411218
             ],
             "passed_time": 19.6265396,
             "remaining_time": 22.13205529,
             "test": [
              0.1290895157
             ]
            },
            {
             "iteration": 47,
             "learn": [
              0.125211611
             ],
             "passed_time": 20.10552568,
             "remaining_time": 21.78098615,
             "test": [
              0.1250202926
             ]
            },
            {
             "iteration": 48,
             "learn": [
              0.1213053741
             ],
             "passed_time": 20.52631032,
             "remaining_time": 21.3641189,
             "test": [
              0.1210871283
             ]
            },
            {
             "iteration": 49,
             "learn": [
              0.1174235317
             ],
             "passed_time": 20.87829004,
             "remaining_time": 20.87829004,
             "test": [
              0.1172850582
             ]
            },
            {
             "iteration": 50,
             "learn": [
              0.113564835
             ],
             "passed_time": 21.30200231,
             "remaining_time": 20.46662967,
             "test": [
              0.1136110257
             ]
            },
            {
             "iteration": 51,
             "learn": [
              0.1100061671
             ],
             "passed_time": 21.66161416,
             "remaining_time": 19.99533615,
             "test": [
              0.1100586229
             ]
            },
            {
             "iteration": 52,
             "learn": [
              0.1071451517
             ],
             "passed_time": 22.00398633,
             "remaining_time": 19.51296901,
             "test": [
              0.1066242715
             ]
            },
            {
             "iteration": 53,
             "learn": [
              0.1036519187
             ],
             "passed_time": 22.35343592,
             "remaining_time": 19.04181579,
             "test": [
              0.1033015883
             ]
            },
            {
             "iteration": 54,
             "learn": [
              0.09998673093
             ],
             "passed_time": 22.8223803,
             "remaining_time": 18.67285661,
             "test": [
              0.1000879051
             ]
            },
            {
             "iteration": 55,
             "learn": [
              0.09738914937
             ],
             "passed_time": 23.24915623,
             "remaining_time": 18.26719418,
             "test": [
              0.09698000515
             ]
            },
            {
             "iteration": 56,
             "learn": [
              0.09402353023
             ],
             "passed_time": 23.68828751,
             "remaining_time": 17.87011163,
             "test": [
              0.09397273754
             ]
            },
            {
             "iteration": 57,
             "learn": [
              0.09147839961
             ],
             "passed_time": 24.21029773,
             "remaining_time": 17.53159491,
             "test": [
              0.09106466025
             ]
            },
            {
             "iteration": 58,
             "learn": [
              0.0882171959
             ],
             "passed_time": 24.62789193,
             "remaining_time": 17.11429778,
             "test": [
              0.088249252
             ]
            },
            {
             "iteration": 59,
             "learn": [
              0.08574483937
             ],
             "passed_time": 25.06874514,
             "remaining_time": 16.71249676,
             "test": [
              0.08552578013
             ]
            },
            {
             "iteration": 60,
             "learn": [
              0.08287106535
             ],
             "passed_time": 25.50589621,
             "remaining_time": 16.3070484,
             "test": [
              0.08288981418
             ]
            },
            {
             "iteration": 61,
             "learn": [
              0.08037909224
             ],
             "passed_time": 25.93555789,
             "remaining_time": 15.89598709,
             "test": [
              0.08033868727
             ]
            },
            {
             "iteration": 62,
             "learn": [
              0.07823821023
             ],
             "passed_time": 26.33930787,
             "remaining_time": 15.46911732,
             "test": [
              0.07786672362
             ]
            },
            {
             "iteration": 63,
             "learn": [
              0.07577439719
             ],
             "passed_time": 26.74389872,
             "remaining_time": 15.04344303,
             "test": [
              0.07547617465
             ]
            },
            {
             "iteration": 64,
             "learn": [
              0.07324421441
             ],
             "passed_time": 27.20236341,
             "remaining_time": 14.64742645,
             "test": [
              0.07316239345
             ]
            },
            {
             "iteration": 65,
             "learn": [
              0.07086460043
             ],
             "passed_time": 27.73501855,
             "remaining_time": 14.28773683,
             "test": [
              0.07092163786
             ]
            },
            {
             "iteration": 66,
             "learn": [
              0.06875336544
             ],
             "passed_time": 28.38714479,
             "remaining_time": 13.98172803,
             "test": [
              0.06875186777
             ]
            },
            {
             "iteration": 67,
             "learn": [
              0.06672908305
             ],
             "passed_time": 28.90136371,
             "remaining_time": 13.60064174,
             "test": [
              0.06665065172
             ]
            },
            {
             "iteration": 68,
             "learn": [
              0.06476150834
             ],
             "passed_time": 29.34230534,
             "remaining_time": 13.18277486,
             "test": [
              0.06461563752
             ]
            },
            {
             "iteration": 69,
             "learn": [
              0.06280946439
             ],
             "passed_time": 29.69105773,
             "remaining_time": 12.72473903,
             "test": [
              0.06264575295
             ]
            },
            {
             "iteration": 70,
             "learn": [
              0.06086543307
             ],
             "passed_time": 30.05693409,
             "remaining_time": 12.27677589,
             "test": [
              0.06073877009
             ]
            },
            {
             "iteration": 71,
             "learn": [
              0.05895798182
             ],
             "passed_time": 30.45008363,
             "remaining_time": 11.84169919,
             "test": [
              0.0588903622
             ]
            },
            {
             "iteration": 72,
             "learn": [
              0.05715464362
             ],
             "passed_time": 30.85612023,
             "remaining_time": 11.41253762,
             "test": [
              0.05710030914
             ]
            },
            {
             "iteration": 73,
             "learn": [
              0.05572877225
             ],
             "passed_time": 31.30622611,
             "remaining_time": 10.99948485,
             "test": [
              0.05536679382
             ]
            },
            {
             "iteration": 74,
             "learn": [
              0.05398022778
             ],
             "passed_time": 31.76038143,
             "remaining_time": 10.58679381,
             "test": [
              0.05368770833
             ]
            },
            {
             "iteration": 75,
             "learn": [
              0.05213276528
             ],
             "passed_time": 32.14260639,
             "remaining_time": 10.15029676,
             "test": [
              0.05205872685
             ]
            },
            {
             "iteration": 76,
             "learn": [
              0.05083463413
             ],
             "passed_time": 32.6531724,
             "remaining_time": 9.753545004,
             "test": [
              0.0504812914
             ]
            },
            {
             "iteration": 77,
             "learn": [
              0.04914759644
             ],
             "passed_time": 33.07405906,
             "remaining_time": 9.328580761,
             "test": [
              0.04895432178
             ]
            },
            {
             "iteration": 78,
             "learn": [
              0.04757429945
             ],
             "passed_time": 33.47591609,
             "remaining_time": 8.89866124,
             "test": [
              0.04747267225
             ]
            },
            {
             "iteration": 79,
             "learn": [
              0.04622218471
             ],
             "passed_time": 33.88420943,
             "remaining_time": 8.471052357,
             "test": [
              0.04603836478
             ]
            },
            {
             "iteration": 80,
             "learn": [
              0.04496473858
             ],
             "passed_time": 34.25412464,
             "remaining_time": 8.034918125,
             "test": [
              0.04464832213
             ]
            },
            {
             "iteration": 81,
             "learn": [
              0.04339912403
             ],
             "passed_time": 34.63640516,
             "remaining_time": 7.603113327,
             "test": [
              0.04330147857
             ]
            },
            {
             "iteration": 82,
             "learn": [
              0.04227957062
             ],
             "passed_time": 35.02025836,
             "remaining_time": 7.172824002,
             "test": [
              0.0419950077
             ]
            },
            {
             "iteration": 83,
             "learn": [
              0.04103729881
             ],
             "passed_time": 35.39181276,
             "remaining_time": 6.741297669,
             "test": [
              0.04072995957
             ]
            },
            {
             "iteration": 84,
             "learn": [
              0.03967940763
             ],
             "passed_time": 35.79126472,
             "remaining_time": 6.316105538,
             "test": [
              0.03950377268
             ]
            },
            {
             "iteration": 85,
             "learn": [
              0.03846290858
             ],
             "passed_time": 36.28854479,
             "remaining_time": 5.907437524,
             "test": [
              0.03831548731
             ]
            },
            {
             "iteration": 86,
             "learn": [
              0.03742905998
             ],
             "passed_time": 36.63803064,
             "remaining_time": 5.474648256,
             "test": [
              0.03716191636
             ]
            },
            {
             "iteration": 87,
             "learn": [
              0.03638065825
             ],
             "passed_time": 37.07910435,
             "remaining_time": 5.056241502,
             "test": [
              0.03604589243
             ]
            },
            {
             "iteration": 88,
             "learn": [
              0.0352092563
             ],
             "passed_time": 37.49032264,
             "remaining_time": 4.633635383,
             "test": [
              0.03496343098
             ]
            },
            {
             "iteration": 89,
             "learn": [
              0.03416799894
             ],
             "passed_time": 37.95577035,
             "remaining_time": 4.217307817,
             "test": [
              0.03391485098
             ]
            },
            {
             "iteration": 90,
             "learn": [
              0.03314163893
             ],
             "passed_time": 38.28037731,
             "remaining_time": 3.785971383,
             "test": [
              0.03289546813
             ]
            },
            {
             "iteration": 91,
             "learn": [
              0.03215203066
             ],
             "passed_time": 38.7228131,
             "remaining_time": 3.367201139,
             "test": [
              0.03190967535
             ]
            },
            {
             "iteration": 92,
             "learn": [
              0.03117640957
             ],
             "passed_time": 39.15142186,
             "remaining_time": 2.946881215,
             "test": [
              0.03095361587
             ]
            },
            {
             "iteration": 93,
             "learn": [
              0.03023783183
             ],
             "passed_time": 39.63039189,
             "remaining_time": 2.529599482,
             "test": [
              0.03002717659
             ]
            },
            {
             "iteration": 94,
             "learn": [
              0.02931956576
             ],
             "passed_time": 40.09270659,
             "remaining_time": 2.110142452,
             "test": [
              0.02912866842
             ]
            },
            {
             "iteration": 95,
             "learn": [
              0.02854064719
             ],
             "passed_time": 40.43431546,
             "remaining_time": 1.684763144,
             "test": [
              0.02825587096
             ]
            },
            {
             "iteration": 96,
             "learn": [
              0.02764039516
             ],
             "passed_time": 40.74564211,
             "remaining_time": 1.260174498,
             "test": [
              0.02740897953
             ]
            },
            {
             "iteration": 97,
             "learn": [
              0.02673942518
             ],
             "passed_time": 41.18357029,
             "remaining_time": 0.8404810264,
             "test": [
              0.02659041854
             ]
            },
            {
             "iteration": 98,
             "learn": [
              0.02606315581
             ],
             "passed_time": 41.47663962,
             "remaining_time": 0.4189559558,
             "test": [
              0.02579420732
             ]
            },
            {
             "iteration": 99,
             "learn": [
              0.02518883145
             ],
             "passed_time": 41.75336689,
             "remaining_time": 0,
             "test": [
              0.02502205763
             ]
            }
           ],
           "meta": {
            "iteration_count": 100,
            "launch_mode": "Train",
            "learn_metrics": [
             {
              "best_value": "Min",
              "name": "CrossEntropy"
             }
            ],
            "learn_sets": [
             "learn"
            ],
            "name": "experiment",
            "parameters": "",
            "test_metrics": [
             {
              "best_value": "Min",
              "name": "CrossEntropy"
             }
            ],
            "test_sets": [
             "test"
            ]
           }
          },
          "passed_iterations": 99,
          "total_iterations": 100
         },
         "name": "catboost_info",
         "path": "catboost_info"
        }
       },
       "layout": "IPY_MODEL_71374d39d00348aba8c114efdf0e6f94"
      }
     },
     "71374d39d00348aba8c114efdf0e6f94": {
      "model_module": "@jupyter-widgets/base",
      "model_module_version": "1.2.0",
      "model_name": "LayoutModel",
      "state": {
       "_model_module": "@jupyter-widgets/base",
       "_model_module_version": "1.2.0",
       "_model_name": "LayoutModel",
       "_view_count": null,
       "_view_module": "@jupyter-widgets/base",
       "_view_module_version": "1.2.0",
       "_view_name": "LayoutView",
       "align_content": null,
       "align_items": null,
       "align_self": "stretch",
       "border": null,
       "bottom": null,
       "display": null,
       "flex": null,
       "flex_flow": null,
       "grid_area": null,
       "grid_auto_columns": null,
       "grid_auto_flow": null,
       "grid_auto_rows": null,
       "grid_column": null,
       "grid_gap": null,
       "grid_row": null,
       "grid_template_areas": null,
       "grid_template_columns": null,
       "grid_template_rows": null,
       "height": "500px",
       "justify_content": null,
       "justify_items": null,
       "left": null,
       "margin": null,
       "max_height": null,
       "max_width": null,
       "min_height": null,
       "min_width": null,
       "object_fit": null,
       "object_position": null,
       "order": null,
       "overflow": null,
       "overflow_x": null,
       "overflow_y": null,
       "padding": null,
       "right": null,
       "top": null,
       "visibility": null,
       "width": null
      }
     },
     "74a5f307a0e747438c02e58a1103a5c7": {
      "model_module": "@jupyter-widgets/base",
      "model_module_version": "1.2.0",
      "model_name": "LayoutModel",
      "state": {
       "_model_module": "@jupyter-widgets/base",
       "_model_module_version": "1.2.0",
       "_model_name": "LayoutModel",
       "_view_count": null,
       "_view_module": "@jupyter-widgets/base",
       "_view_module_version": "1.2.0",
       "_view_name": "LayoutView",
       "align_content": null,
       "align_items": null,
       "align_self": "stretch",
       "border": null,
       "bottom": null,
       "display": null,
       "flex": null,
       "flex_flow": null,
       "grid_area": null,
       "grid_auto_columns": null,
       "grid_auto_flow": null,
       "grid_auto_rows": null,
       "grid_column": null,
       "grid_gap": null,
       "grid_row": null,
       "grid_template_areas": null,
       "grid_template_columns": null,
       "grid_template_rows": null,
       "height": "500px",
       "justify_content": null,
       "justify_items": null,
       "left": null,
       "margin": null,
       "max_height": null,
       "max_width": null,
       "min_height": null,
       "min_width": null,
       "object_fit": null,
       "object_position": null,
       "order": null,
       "overflow": null,
       "overflow_x": null,
       "overflow_y": null,
       "padding": null,
       "right": null,
       "top": null,
       "visibility": null,
       "width": null
      }
     },
     "79a8faf1f3934b1abdf5186ad6ba0fef": {
      "model_module": "@jupyter-widgets/base",
      "model_module_version": "1.2.0",
      "model_name": "LayoutModel",
      "state": {
       "_model_module": "@jupyter-widgets/base",
       "_model_module_version": "1.2.0",
       "_model_name": "LayoutModel",
       "_view_count": null,
       "_view_module": "@jupyter-widgets/base",
       "_view_module_version": "1.2.0",
       "_view_name": "LayoutView",
       "align_content": null,
       "align_items": null,
       "align_self": "stretch",
       "border": null,
       "bottom": null,
       "display": null,
       "flex": null,
       "flex_flow": null,
       "grid_area": null,
       "grid_auto_columns": null,
       "grid_auto_flow": null,
       "grid_auto_rows": null,
       "grid_column": null,
       "grid_gap": null,
       "grid_row": null,
       "grid_template_areas": null,
       "grid_template_columns": null,
       "grid_template_rows": null,
       "height": "500px",
       "justify_content": null,
       "justify_items": null,
       "left": null,
       "margin": null,
       "max_height": null,
       "max_width": null,
       "min_height": null,
       "min_width": null,
       "object_fit": null,
       "object_position": null,
       "order": null,
       "overflow": null,
       "overflow_x": null,
       "overflow_y": null,
       "padding": null,
       "right": null,
       "top": null,
       "visibility": null,
       "width": null
      }
     },
     "80ef68e5385547fcadb510e4dd12ad62": {
      "model_module": "catboost-widget",
      "model_module_version": "^1.0.0",
      "model_name": "CatboostWidgetModel",
      "state": {
       "_dom_classes": [],
       "_model_module": "catboost-widget",
       "_model_module_version": "^1.0.0",
       "_model_name": "CatboostWidgetModel",
       "_view_count": null,
       "_view_module": "catboost-widget",
       "_view_module_version": "^1.0.0",
       "_view_name": "CatboostWidgetView",
       "data": {
        "catboost_info": {
         "content": {
          "data": {
           "iterations": [
            {
             "iteration": 0,
             "learn": [
              0.6637860987
             ],
             "passed_time": 0.5069458303,
             "remaining_time": 50.1876372,
             "test": [
              0.66497402
             ]
            },
            {
             "iteration": 1,
             "learn": [
              0.639089954
             ],
             "passed_time": 1.124270994,
             "remaining_time": 55.0892787,
             "test": [
              0.6383014942
             ]
            },
            {
             "iteration": 2,
             "learn": [
              0.6129901098
             ],
             "passed_time": 1.475366815,
             "remaining_time": 47.70352701,
             "test": [
              0.6132878317
             ]
            },
            {
             "iteration": 3,
             "learn": [
              0.5895781009
             ],
             "passed_time": 1.876744803,
             "remaining_time": 45.04187527,
             "test": [
              0.5901139407
             ]
            },
            {
             "iteration": 4,
             "learn": [
              0.5681022764
             ],
             "passed_time": 2.254643058,
             "remaining_time": 42.83821811,
             "test": [
              0.5676356289
             ]
            },
            {
             "iteration": 5,
             "learn": [
              0.5473530257
             ],
             "passed_time": 2.673195055,
             "remaining_time": 41.88005586,
             "test": [
              0.5466400623
             ]
            },
            {
             "iteration": 6,
             "learn": [
              0.5260743421
             ],
             "passed_time": 3.074282537,
             "remaining_time": 40.84403942,
             "test": [
              0.5269109479
             ]
            },
            {
             "iteration": 7,
             "learn": [
              0.5082435957
             ],
             "passed_time": 3.416079282,
             "remaining_time": 39.28491174,
             "test": [
              0.5076310867
             ]
            },
            {
             "iteration": 8,
             "learn": [
              0.4892909859
             ],
             "passed_time": 3.785566666,
             "remaining_time": 38.27628518,
             "test": [
              0.4894838712
             ]
            },
            {
             "iteration": 9,
             "learn": [
              0.4719526491
             ],
             "passed_time": 4.17596217,
             "remaining_time": 37.58365953,
             "test": [
              0.4721044302
             ]
            },
            {
             "iteration": 10,
             "learn": [
              0.4559624164
             ],
             "passed_time": 4.590784123,
             "remaining_time": 37.14361699,
             "test": [
              0.4558764382
             ]
            },
            {
             "iteration": 11,
             "learn": [
              0.4403592998
             ],
             "passed_time": 5.007625618,
             "remaining_time": 36.72258787,
             "test": [
              0.4402609743
             ]
            },
            {
             "iteration": 12,
             "learn": [
              0.4256048338
             ],
             "passed_time": 5.509639061,
             "remaining_time": 36.87219987,
             "test": [
              0.4252934606
             ]
            },
            {
             "iteration": 13,
             "learn": [
              0.4115137212
             ],
             "passed_time": 6.022833175,
             "remaining_time": 36.99740379,
             "test": [
              0.4111271787
             ]
            },
            {
             "iteration": 14,
             "learn": [
              0.3969577627
             ],
             "passed_time": 6.435560261,
             "remaining_time": 36.46817481,
             "test": [
              0.3970892714
             ]
            },
            {
             "iteration": 15,
             "learn": [
              0.3837135728
             ],
             "passed_time": 6.812664325,
             "remaining_time": 35.76648771,
             "test": [
              0.3837204206
             ]
            },
            {
             "iteration": 16,
             "learn": [
              0.3718518699
             ],
             "passed_time": 7.181008905,
             "remaining_time": 35.06021995,
             "test": [
              0.3712797234
             ]
            },
            {
             "iteration": 17,
             "learn": [
              0.3592016754
             ],
             "passed_time": 7.564869398,
             "remaining_time": 34.46218282,
             "test": [
              0.3590589622
             ]
            },
            {
             "iteration": 18,
             "learn": [
              0.3476105791
             ],
             "passed_time": 7.928540269,
             "remaining_time": 33.80061904,
             "test": [
              0.3474213072
             ]
            },
            {
             "iteration": 19,
             "learn": [
              0.336564123
             ],
             "passed_time": 8.297640666,
             "remaining_time": 33.19056267,
             "test": [
              0.3364159458
             ]
            },
            {
             "iteration": 20,
             "learn": [
              0.3260176264
             ],
             "passed_time": 8.755249881,
             "remaining_time": 32.93641622,
             "test": [
              0.3257435164
             ]
            },
            {
             "iteration": 21,
             "learn": [
              0.3154217436
             ],
             "passed_time": 9.129793945,
             "remaining_time": 32.36926944,
             "test": [
              0.3153452047
             ]
            },
            {
             "iteration": 22,
             "learn": [
              0.3059585619
             ],
             "passed_time": 9.538932649,
             "remaining_time": 31.93468756,
             "test": [
              0.305570184
             ]
            },
            {
             "iteration": 23,
             "learn": [
              0.2965709557
             ],
             "passed_time": 9.934181389,
             "remaining_time": 31.45824106,
             "test": [
              0.2960304029
             ]
            },
            {
             "iteration": 24,
             "learn": [
              0.2874036284
             ],
             "passed_time": 10.29643447,
             "remaining_time": 30.8893034,
             "test": [
              0.2869158843
             ]
            },
            {
             "iteration": 25,
             "learn": [
              0.2785956184
             ],
             "passed_time": 10.70571852,
             "remaining_time": 30.47012195,
             "test": [
              0.2782021282
             ]
            },
            {
             "iteration": 26,
             "learn": [
              0.270021675
             ],
             "passed_time": 11.07035723,
             "remaining_time": 29.93096584,
             "test": [
              0.2696749305
             ]
            },
            {
             "iteration": 27,
             "learn": [
              0.261921976
             ],
             "passed_time": 11.41248051,
             "remaining_time": 29.34637845,
             "test": [
              0.2615234213
             ]
            },
            {
             "iteration": 28,
             "learn": [
              0.2541492745
             ],
             "passed_time": 11.8062751,
             "remaining_time": 28.90501835,
             "test": [
              0.2537845246
             ]
            },
            {
             "iteration": 29,
             "learn": [
              0.2465524397
             ],
             "passed_time": 12.12749416,
             "remaining_time": 28.29748637,
             "test": [
              0.2461230087
             ]
            },
            {
             "iteration": 30,
             "learn": [
              0.2392402936
             ],
             "passed_time": 12.45510163,
             "remaining_time": 27.72264556,
             "test": [
              0.2387930401
             ]
            },
            {
             "iteration": 31,
             "learn": [
              0.2324046065
             ],
             "passed_time": 12.86606362,
             "remaining_time": 27.34038519,
             "test": [
              0.2317778007
             ]
            },
            {
             "iteration": 32,
             "learn": [
              0.2255816818
             ],
             "passed_time": 13.20519099,
             "remaining_time": 26.81053929,
             "test": [
              0.2249334884
             ]
            },
            {
             "iteration": 33,
             "learn": [
              0.2190221531
             ],
             "passed_time": 13.63382893,
             "remaining_time": 26.46566792,
             "test": [
              0.2182691759
             ]
            },
            {
             "iteration": 34,
             "learn": [
              0.2126728583
             ],
             "passed_time": 13.98255131,
             "remaining_time": 25.96759528,
             "test": [
              0.2118860622
             ]
            },
            {
             "iteration": 35,
             "learn": [
              0.2065452486
             ],
             "passed_time": 14.33976011,
             "remaining_time": 25.49290687,
             "test": [
              0.205745854
             ]
            },
            {
             "iteration": 36,
             "learn": [
              0.2005956516
             ],
             "passed_time": 14.75603257,
             "remaining_time": 25.12513654,
             "test": [
              0.1998554573
             ]
            },
            {
             "iteration": 37,
             "learn": [
              0.1948400363
             ],
             "passed_time": 15.14541215,
             "remaining_time": 24.71093562,
             "test": [
              0.1941702117
             ]
            },
            {
             "iteration": 38,
             "learn": [
              0.1893826934
             ],
             "passed_time": 15.59268186,
             "remaining_time": 24.38855367,
             "test": [
              0.1886646982
             ]
            },
            {
             "iteration": 39,
             "learn": [
              0.1842129766
             ],
             "passed_time": 15.92639774,
             "remaining_time": 23.88959661,
             "test": [
              0.1833959712
             ]
            },
            {
             "iteration": 40,
             "learn": [
              0.1788803003
             ],
             "passed_time": 16.33930068,
             "remaining_time": 23.51265219,
             "test": [
              0.1782925957
             ]
            },
            {
             "iteration": 41,
             "learn": [
              0.1740819373
             ],
             "passed_time": 16.75508439,
             "remaining_time": 23.13797368,
             "test": [
              0.1733265054
             ]
            },
            {
             "iteration": 42,
             "learn": [
              0.1694009393
             ],
             "passed_time": 17.16475317,
             "remaining_time": 22.75327746,
             "test": [
              0.1685493239
             ]
            },
            {
             "iteration": 43,
             "learn": [
              0.1648057718
             ],
             "passed_time": 17.58552487,
             "remaining_time": 22.38157711,
             "test": [
              0.1639516788
             ]
            },
            {
             "iteration": 44,
             "learn": [
              0.1603570265
             ],
             "passed_time": 17.99812746,
             "remaining_time": 21.99771134,
             "test": [
              0.1594926164
             ]
            },
            {
             "iteration": 45,
             "learn": [
              0.156080875
             ],
             "passed_time": 18.42968811,
             "remaining_time": 21.63485125,
             "test": [
              0.1552401592
             ]
            },
            {
             "iteration": 46,
             "learn": [
              0.1519078969
             ],
             "passed_time": 18.76795418,
             "remaining_time": 21.16386322,
             "test": [
              0.1510172125
             ]
            },
            {
             "iteration": 47,
             "learn": [
              0.1477829321
             ],
             "passed_time": 19.15482498,
             "remaining_time": 20.7510604,
             "test": [
              0.146824288
             ]
            },
            {
             "iteration": 48,
             "learn": [
              0.1438624378
             ],
             "passed_time": 19.50116504,
             "remaining_time": 20.29713096,
             "test": [
              0.1428818827
             ]
            },
            {
             "iteration": 49,
             "learn": [
              0.1401520097
             ],
             "passed_time": 19.94791085,
             "remaining_time": 19.94791085,
             "test": [
              0.1391169038
             ]
            },
            {
             "iteration": 50,
             "learn": [
              0.1365950221
             ],
             "passed_time": 20.32459085,
             "remaining_time": 19.52754808,
             "test": [
              0.1354997097
             ]
            },
            {
             "iteration": 51,
             "learn": [
              0.1330764204
             ],
             "passed_time": 20.66368468,
             "remaining_time": 19.07417047,
             "test": [
              0.131949059
             ]
            },
            {
             "iteration": 52,
             "learn": [
              0.1296040575
             ],
             "passed_time": 21.04919036,
             "remaining_time": 18.66626315,
             "test": [
              0.1283191165
             ]
            },
            {
             "iteration": 53,
             "learn": [
              0.126255007
             ],
             "passed_time": 21.40957265,
             "remaining_time": 18.23778411,
             "test": [
              0.1250640639
             ]
            },
            {
             "iteration": 54,
             "learn": [
              0.122934741
             ],
             "passed_time": 21.79290893,
             "remaining_time": 17.83056185,
             "test": [
              0.1216594351
             ]
            },
            {
             "iteration": 55,
             "learn": [
              0.1197859452
             ],
             "passed_time": 22.20925777,
             "remaining_time": 17.45013111,
             "test": [
              0.1185381939
             ]
            },
            {
             "iteration": 56,
             "learn": [
              0.1167823967
             ],
             "passed_time": 22.58110233,
             "remaining_time": 17.03486667,
             "test": [
              0.1155810945
             ]
            },
            {
             "iteration": 57,
             "learn": [
              0.1139123256
             ],
             "passed_time": 22.91311504,
             "remaining_time": 16.59225572,
             "test": [
              0.1126306546
             ]
            },
            {
             "iteration": 58,
             "learn": [
              0.1109548141
             ],
             "passed_time": 23.30563602,
             "remaining_time": 16.19544198,
             "test": [
              0.1096956457
             ]
            },
            {
             "iteration": 59,
             "learn": [
              0.108268261
             ],
             "passed_time": 23.63594504,
             "remaining_time": 15.7572967,
             "test": [
              0.1069989042
             ]
            },
            {
             "iteration": 60,
             "learn": [
              0.1056864666
             ],
             "passed_time": 24.06692649,
             "remaining_time": 15.38705136,
             "test": [
              0.1042951773
             ]
            },
            {
             "iteration": 61,
             "learn": [
              0.1030025868
             ],
             "passed_time": 24.46522285,
             "remaining_time": 14.99481401,
             "test": [
              0.1017225076
             ]
            },
            {
             "iteration": 62,
             "learn": [
              0.1006326709
             ],
             "passed_time": 24.84723521,
             "remaining_time": 14.59282068,
             "test": [
              0.09934784431
             ]
            },
            {
             "iteration": 63,
             "learn": [
              0.09836278696
             ],
             "passed_time": 25.24701895,
             "remaining_time": 14.20144816,
             "test": [
              0.09697840527
             ]
            },
            {
             "iteration": 64,
             "learn": [
              0.09590496246
             ],
             "passed_time": 25.69464708,
             "remaining_time": 13.8355792,
             "test": [
              0.09460162197
             ]
            },
            {
             "iteration": 65,
             "learn": [
              0.093582853
             ],
             "passed_time": 26.12343945,
             "remaining_time": 13.45752941,
             "test": [
              0.09231528861
             ]
            },
            {
             "iteration": 66,
             "learn": [
              0.09130896369
             ],
             "passed_time": 26.48127684,
             "remaining_time": 13.04301695,
             "test": [
              0.09013870509
             ]
            },
            {
             "iteration": 67,
             "learn": [
              0.08914329492
             ],
             "passed_time": 26.88591777,
             "remaining_time": 12.6521966,
             "test": [
              0.08798890628
             ]
            },
            {
             "iteration": 68,
             "learn": [
              0.08714623103
             ],
             "passed_time": 27.27395829,
             "remaining_time": 12.25351749,
             "test": [
              0.08596382463
             ]
            },
            {
             "iteration": 69,
             "learn": [
              0.08516398983
             ],
             "passed_time": 27.60324528,
             "remaining_time": 11.82996226,
             "test": [
              0.08398386459
             ]
            },
            {
             "iteration": 70,
             "learn": [
              0.08311135694
             ],
             "passed_time": 28.03892671,
             "remaining_time": 11.45251936,
             "test": [
              0.08189488331
             ]
            },
            {
             "iteration": 71,
             "learn": [
              0.0809114561
             ],
             "passed_time": 28.42857436,
             "remaining_time": 11.0555567,
             "test": [
              0.07989112739
             ]
            },
            {
             "iteration": 72,
             "learn": [
              0.07909628867
             ],
             "passed_time": 28.91436654,
             "remaining_time": 10.69435475,
             "test": [
              0.07810516156
             ]
            },
            {
             "iteration": 73,
             "learn": [
              0.07727144118
             ],
             "passed_time": 29.47553289,
             "remaining_time": 10.35626831,
             "test": [
              0.07631623659
             ]
            },
            {
             "iteration": 74,
             "learn": [
              0.07563937116
             ],
             "passed_time": 30.01686579,
             "remaining_time": 10.00562193,
             "test": [
              0.07471625237
             ]
            },
            {
             "iteration": 75,
             "learn": [
              0.07385780238
             ],
             "passed_time": 30.38396077,
             "remaining_time": 9.594934979,
             "test": [
              0.07288849553
             ]
            },
            {
             "iteration": 76,
             "learn": [
              0.07208530312
             ],
             "passed_time": 30.78836089,
             "remaining_time": 9.196523383,
             "test": [
              0.07119883534
             ]
            },
            {
             "iteration": 77,
             "learn": [
              0.07045465593
             ],
             "passed_time": 31.18301199,
             "remaining_time": 8.79520851,
             "test": [
              0.06966320428
             ]
            },
            {
             "iteration": 78,
             "learn": [
              0.06880361765
             ],
             "passed_time": 31.51468703,
             "remaining_time": 8.377321869,
             "test": [
              0.06790039534
             ]
            },
            {
             "iteration": 79,
             "learn": [
              0.06731822026
             ],
             "passed_time": 31.90077801,
             "remaining_time": 7.975194502,
             "test": [
              0.06646868902
             ]
            },
            {
             "iteration": 80,
             "learn": [
              0.06558349376
             ],
             "passed_time": 32.32201716,
             "remaining_time": 7.581707729,
             "test": [
              0.06493729279
             ]
            },
            {
             "iteration": 81,
             "learn": [
              0.06409910189
             ],
             "passed_time": 32.69287876,
             "remaining_time": 7.176485581,
             "test": [
              0.06353538239
             ]
            },
            {
             "iteration": 82,
             "learn": [
              0.06283684529
             ],
             "passed_time": 33.08070062,
             "remaining_time": 6.775565188,
             "test": [
              0.06228738985
             ]
            },
            {
             "iteration": 83,
             "learn": [
              0.06125736506
             ],
             "passed_time": 33.47523948,
             "remaining_time": 6.376236092,
             "test": [
              0.06093360949
             ]
            },
            {
             "iteration": 84,
             "learn": [
              0.05986941708
             ],
             "passed_time": 33.90630282,
             "remaining_time": 5.983465204,
             "test": [
              0.05949841945
             ]
            },
            {
             "iteration": 85,
             "learn": [
              0.05841506395
             ],
             "passed_time": 34.3276254,
             "remaining_time": 5.588218088,
             "test": [
              0.05817631355
             ]
            },
            {
             "iteration": 86,
             "learn": [
              0.05700672215
             ],
             "passed_time": 34.7220159,
             "remaining_time": 5.188347203,
             "test": [
              0.05694554492
             ]
            },
            {
             "iteration": 87,
             "learn": [
              0.05595421306
             ],
             "passed_time": 35.10646231,
             "remaining_time": 4.78724486,
             "test": [
              0.05588000048
             ]
            },
            {
             "iteration": 88,
             "learn": [
              0.054645399
             ],
             "passed_time": 35.52700197,
             "remaining_time": 4.390977771,
             "test": [
              0.05474301581
             ]
            },
            {
             "iteration": 89,
             "learn": [
              0.05365979288
             ],
             "passed_time": 35.91377762,
             "remaining_time": 3.990419735,
             "test": [
              0.05374164546
             ]
            },
            {
             "iteration": 90,
             "learn": [
              0.05240384712
             ],
             "passed_time": 36.25418749,
             "remaining_time": 3.585578983,
             "test": [
              0.05254566831
             ]
            },
            {
             "iteration": 91,
             "learn": [
              0.05127996894
             ],
             "passed_time": 36.69047325,
             "remaining_time": 3.190475935,
             "test": [
              0.05142263642
             ]
            },
            {
             "iteration": 92,
             "learn": [
              0.05011060525
             ],
             "passed_time": 37.02932503,
             "remaining_time": 2.787153497,
             "test": [
              0.05029943935
             ]
            },
            {
             "iteration": 93,
             "learn": [
              0.04924340341
             ],
             "passed_time": 37.41091191,
             "remaining_time": 2.387930547,
             "test": [
              0.04945662861
             ]
            },
            {
             "iteration": 94,
             "learn": [
              0.04816089366
             ],
             "passed_time": 37.73566012,
             "remaining_time": 1.986087375,
             "test": [
              0.04825327695
             ]
            },
            {
             "iteration": 95,
             "learn": [
              0.04713423232
             ],
             "passed_time": 38.05719056,
             "remaining_time": 1.585716273,
             "test": [
              0.04711589112
             ]
            },
            {
             "iteration": 96,
             "learn": [
              0.0460714122
             ],
             "passed_time": 38.44786128,
             "remaining_time": 1.189109112,
             "test": [
              0.04620406688
             ]
            },
            {
             "iteration": 97,
             "learn": [
              0.04510206724
             ],
             "passed_time": 38.86137641,
             "remaining_time": 0.7930893144,
             "test": [
              0.04529254084
             ]
            },
            {
             "iteration": 98,
             "learn": [
              0.04437333974
             ],
             "passed_time": 39.2366264,
             "remaining_time": 0.3963295596,
             "test": [
              0.04457040713
             ]
            },
            {
             "iteration": 99,
             "learn": [
              0.04341222825
             ],
             "passed_time": 39.67963134,
             "remaining_time": 0,
             "test": [
              0.04370062874
             ]
            }
           ],
           "meta": {
            "iteration_count": 100,
            "launch_mode": "Train",
            "learn_metrics": [
             {
              "best_value": "Min",
              "name": "CrossEntropy"
             }
            ],
            "learn_sets": [
             "learn"
            ],
            "name": "experiment",
            "parameters": "",
            "test_metrics": [
             {
              "best_value": "Min",
              "name": "CrossEntropy"
             }
            ],
            "test_sets": [
             "test"
            ]
           }
          },
          "passed_iterations": 99,
          "total_iterations": 100
         },
         "name": "catboost_info",
         "path": "catboost_info"
        }
       },
       "layout": "IPY_MODEL_82714ce5baaa4d8f8c8bdb3a1f8211a6"
      }
     },
     "80fd7bdd2f024008aef3ccd0b9bef724": {
      "model_module": "catboost-widget",
      "model_module_version": "^1.0.0",
      "model_name": "CatboostWidgetModel",
      "state": {
       "_dom_classes": [],
       "_model_module": "catboost-widget",
       "_model_module_version": "^1.0.0",
       "_model_name": "CatboostWidgetModel",
       "_view_count": null,
       "_view_module": "catboost-widget",
       "_view_module_version": "^1.0.0",
       "_view_name": "CatboostWidgetView",
       "data": {
        "catboost_info": {
         "content": {
          "data": {
           "iterations": [
            {
             "iteration": 0,
             "learn": [
              0.6614034955
             ],
             "passed_time": 0.4155676323,
             "remaining_time": 41.1411956,
             "test": [
              0.6636022557
             ]
            },
            {
             "iteration": 1,
             "learn": [
              0.6363110476
             ],
             "passed_time": 0.8673425142,
             "remaining_time": 42.49978319,
             "test": [
              0.6357766203
             ]
            },
            {
             "iteration": 2,
             "learn": [
              0.6093864875
             ],
             "passed_time": 1.306074122,
             "remaining_time": 42.22972996,
             "test": [
              0.6095266136
             ]
            },
            {
             "iteration": 3,
             "learn": [
              0.5837417774
             ],
             "passed_time": 1.658543744,
             "remaining_time": 39.80504985,
             "test": [
              0.5847207632
             ]
            },
            {
             "iteration": 4,
             "learn": [
              0.5622090281
             ],
             "passed_time": 2.068776243,
             "remaining_time": 39.30674861,
             "test": [
              0.5612473942
             ]
            },
            {
             "iteration": 5,
             "learn": [
              0.5378215358
             ],
             "passed_time": 2.499233811,
             "remaining_time": 39.15466304,
             "test": [
              0.5390041779
             ]
            },
            {
             "iteration": 6,
             "learn": [
              0.5169087673
             ],
             "passed_time": 2.841934448,
             "remaining_time": 37.7571291,
             "test": [
              0.5179019909
             ]
            },
            {
             "iteration": 7,
             "learn": [
              0.4987180611
             ],
             "passed_time": 3.30330214,
             "remaining_time": 37.98797461,
             "test": [
              0.4978551755
             ]
            },
            {
             "iteration": 8,
             "learn": [
              0.4785589427
             ],
             "passed_time": 3.761010525,
             "remaining_time": 38.02799531,
             "test": [
              0.4787925115
             ]
            },
            {
             "iteration": 9,
             "learn": [
              0.4606328281
             ],
             "passed_time": 4.197217023,
             "remaining_time": 37.77495321,
             "test": [
              0.4606468982
             ]
            },
            {
             "iteration": 10,
             "learn": [
              0.44389724
             ],
             "passed_time": 4.637765962,
             "remaining_time": 37.52374278,
             "test": [
              0.4433598081
             ]
            },
            {
             "iteration": 11,
             "learn": [
              0.4280904121
             ],
             "passed_time": 5.026264805,
             "remaining_time": 36.85927523,
             "test": [
              0.4268748635
             ]
            },
            {
             "iteration": 12,
             "learn": [
              0.4121960489
             ],
             "passed_time": 5.483865745,
             "remaining_time": 36.69971691,
             "test": [
              0.4111421579
             ]
            },
            {
             "iteration": 13,
             "learn": [
              0.3968277091
             ],
             "passed_time": 5.902612755,
             "remaining_time": 36.25890692,
             "test": [
              0.3961169325
             ]
            },
            {
             "iteration": 14,
             "learn": [
              0.3824594265
             ],
             "passed_time": 6.327462911,
             "remaining_time": 35.85562316,
             "test": [
              0.381757001
             ]
            },
            {
             "iteration": 15,
             "learn": [
              0.3673916204
             ],
             "passed_time": 6.710418143,
             "remaining_time": 35.22969525,
             "test": [
              0.3680220689
             ]
            },
            {
             "iteration": 16,
             "learn": [
              0.3540037523
             ],
             "passed_time": 7.12021546,
             "remaining_time": 34.76340489,
             "test": [
              0.35488024
             ]
            },
            {
             "iteration": 17,
             "learn": [
              0.3432340452
             ],
             "passed_time": 7.595543344,
             "remaining_time": 34.60191968,
             "test": [
              0.3422936249
             ]
            },
            {
             "iteration": 18,
             "learn": [
              0.3301470261
             ],
             "passed_time": 7.947390057,
             "remaining_time": 33.88097866,
             "test": [
              0.3302323317
             ]
            },
            {
             "iteration": 19,
             "learn": [
              0.3197360652
             ],
             "passed_time": 8.373762917,
             "remaining_time": 33.49505167,
             "test": [
              0.3186709772
             ]
            },
            {
             "iteration": 20,
             "learn": [
              0.3070521779
             ],
             "passed_time": 8.77165376,
             "remaining_time": 32.99812605,
             "test": [
              0.3075825646
             ]
            },
            {
             "iteration": 21,
             "learn": [
              0.2969467975
             ],
             "passed_time": 9.218503927,
             "remaining_time": 32.68378665,
             "test": [
              0.2969426031
             ]
            },
            {
             "iteration": 22,
             "learn": [
              0.2868767537
             ],
             "passed_time": 9.58616633,
             "remaining_time": 32.09281771,
             "test": [
              0.2867268042
             ]
            },
            {
             "iteration": 23,
             "learn": [
              0.2765954415
             ],
             "passed_time": 10.08816072,
             "remaining_time": 31.94584228,
             "test": [
              0.2769168588
             ]
            },
            {
             "iteration": 24,
             "learn": [
              0.2665762899
             ],
             "passed_time": 10.52305703,
             "remaining_time": 31.56917108,
             "test": [
              0.2674898222
             ]
            },
            {
             "iteration": 25,
             "learn": [
              0.2580584229
             ],
             "passed_time": 10.9591845,
             "remaining_time": 31.19152511,
             "test": [
              0.2584292177
             ]
            },
            {
             "iteration": 26,
             "learn": [
              0.250038498
             ],
             "passed_time": 11.42167344,
             "remaining_time": 30.88082077,
             "test": [
              0.2497165152
             ]
            },
            {
             "iteration": 27,
             "learn": [
              0.2420495986
             ],
             "passed_time": 11.83638694,
             "remaining_time": 30.43642355,
             "test": [
              0.2413347127
             ]
            },
            {
             "iteration": 28,
             "learn": [
              0.2337634984
             ],
             "passed_time": 12.2771025,
             "remaining_time": 30.05773371,
             "test": [
              0.2332708209
             ]
            },
            {
             "iteration": 29,
             "learn": [
              0.2259363828
             ],
             "passed_time": 12.70929131,
             "remaining_time": 29.65501305,
             "test": [
              0.2255090039
             ]
            },
            {
             "iteration": 30,
             "learn": [
              0.2186085039
             ],
             "passed_time": 13.14285784,
             "remaining_time": 29.25345778,
             "test": [
              0.2180356908
             ]
            },
            {
             "iteration": 31,
             "learn": [
              0.2110186224
             ],
             "passed_time": 13.52609853,
             "remaining_time": 28.74295937,
             "test": [
              0.2108369793
             ]
            },
            {
             "iteration": 32,
             "learn": [
              0.203443406
             ],
             "passed_time": 14.00481637,
             "remaining_time": 28.43402111,
             "test": [
              0.2039026089
             ]
            },
            {
             "iteration": 33,
             "learn": [
              0.1966062076
             ],
             "passed_time": 14.45745121,
             "remaining_time": 28.06446412,
             "test": [
              0.1972199916
             ]
            },
            {
             "iteration": 34,
             "learn": [
              0.1912675173
             ],
             "passed_time": 14.91735465,
             "remaining_time": 27.70365864,
             "test": [
              0.1907788003
             ]
            },
            {
             "iteration": 35,
             "learn": [
              0.1840403185
             ],
             "passed_time": 15.30262946,
             "remaining_time": 27.2046746,
             "test": [
              0.184569718
             ]
            },
            {
             "iteration": 36,
             "learn": [
              0.1788622914
             ],
             "passed_time": 15.71424237,
             "remaining_time": 26.75668295,
             "test": [
              0.1785816481
             ]
            },
            {
             "iteration": 37,
             "learn": [
              0.1723290273
             ],
             "passed_time": 16.09813334,
             "remaining_time": 26.26537545,
             "test": [
              0.172804718
             ]
            },
            {
             "iteration": 38,
             "learn": [
              0.1677660608
             ],
             "passed_time": 16.53502102,
             "remaining_time": 25.86246877,
             "test": [
              0.1672317321
             ]
            },
            {
             "iteration": 39,
             "learn": [
              0.1615630244
             ],
             "passed_time": 16.93300199,
             "remaining_time": 25.39950298,
             "test": [
              0.1618539668
             ]
            },
            {
             "iteration": 40,
             "learn": [
              0.1564490954
             ],
             "passed_time": 17.37247303,
             "remaining_time": 24.99941241,
             "test": [
              0.1566643406
             ]
            },
            {
             "iteration": 41,
             "learn": [
              0.1521247103
             ],
             "passed_time": 17.93686662,
             "remaining_time": 24.76995867,
             "test": [
              0.151653921
             ]
            },
            {
             "iteration": 42,
             "learn": [
              0.1471305419
             ],
             "passed_time": 18.55308104,
             "remaining_time": 24.59361905,
             "test": [
              0.1468169544
             ]
            },
            {
             "iteration": 43,
             "learn": [
              0.1419985573
             ],
             "passed_time": 19.11699032,
             "remaining_time": 24.33071496,
             "test": [
              0.1421447855
             ]
            },
            {
             "iteration": 44,
             "learn": [
              0.13725452
             ],
             "passed_time": 19.56598007,
             "remaining_time": 23.91397564,
             "test": [
              0.1376332189
             ]
            },
            {
             "iteration": 45,
             "learn": [
              0.133043498
             ],
             "passed_time": 20.03492464,
             "remaining_time": 23.51925936,
             "test": [
              0.1332744208
             ]
            },
            {
             "iteration": 46,
             "learn": [
              0.1290512202
             ],
             "passed_time": 20.40882162,
             "remaining_time": 23.01420311,
             "test": [
              0.1290623668
             ]
            },
            {
             "iteration": 47,
             "learn": [
              0.1251285604
             ],
             "passed_time": 20.99119504,
             "remaining_time": 22.7404613,
             "test": [
              0.1249940437
             ]
            },
            {
             "iteration": 48,
             "learn": [
              0.1212181833
             ],
             "passed_time": 21.43111479,
             "remaining_time": 22.30585417,
             "test": [
              0.1210618183
             ]
            },
            {
             "iteration": 49,
             "learn": [
              0.1173336037
             ],
             "passed_time": 21.78157434,
             "remaining_time": 21.78157434,
             "test": [
              0.1172601545
             ]
            },
            {
             "iteration": 50,
             "learn": [
              0.1134701984
             ],
             "passed_time": 22.20079853,
             "remaining_time": 21.33017898,
             "test": [
              0.1135856796
             ]
            },
            {
             "iteration": 51,
             "learn": [
              0.109905744
             ],
             "passed_time": 22.56446588,
             "remaining_time": 20.82873774,
             "test": [
              0.110032019
             ]
            },
            {
             "iteration": 52,
             "learn": [
              0.1070548064
             ],
             "passed_time": 22.92402433,
             "remaining_time": 20.32885176,
             "test": [
              0.1065963315
             ]
            },
            {
             "iteration": 53,
             "learn": [
              0.1035467295
             ],
             "passed_time": 23.27468773,
             "remaining_time": 19.82658584,
             "test": [
              0.1032735322
             ]
            },
            {
             "iteration": 54,
             "learn": [
              0.09988526952
             ],
             "passed_time": 23.75485944,
             "remaining_time": 19.43579409,
             "test": [
              0.1000602488
             ]
            },
            {
             "iteration": 55,
             "learn": [
              0.09727672135
             ],
             "passed_time": 24.18370482,
             "remaining_time": 19.00148235,
             "test": [
              0.09695228392
             ]
            },
            {
             "iteration": 56,
             "learn": [
              0.09392442973
             ],
             "passed_time": 24.62022956,
             "remaining_time": 18.57315563,
             "test": [
              0.09394457765
             ]
            },
            {
             "iteration": 57,
             "learn": [
              0.09136380456
             ],
             "passed_time": 25.08500645,
             "remaining_time": 18.16500467,
             "test": [
              0.09103545545
             ]
            },
            {
             "iteration": 58,
             "learn": [
              0.08811160087
             ],
             "passed_time": 25.50703527,
             "remaining_time": 17.7252279,
             "test": [
              0.08822129197
             ]
            },
            {
             "iteration": 59,
             "learn": [
              0.08563105429
             ],
             "passed_time": 25.94223276,
             "remaining_time": 17.29482184,
             "test": [
              0.08549739691
             ]
            },
            {
             "iteration": 60,
             "learn": [
              0.08275031422
             ],
             "passed_time": 26.37831062,
             "remaining_time": 16.86482154,
             "test": [
              0.08286130416
             ]
            },
            {
             "iteration": 61,
             "learn": [
              0.08026698625
             ],
             "passed_time": 26.80286254,
             "remaining_time": 16.42756091,
             "test": [
              0.08031027847
             ]
            },
            {
             "iteration": 62,
             "learn": [
              0.07813018366
             ],
             "passed_time": 27.21064112,
             "remaining_time": 15.98085272,
             "test": [
              0.07784036922
             ]
            },
            {
             "iteration": 63,
             "learn": [
              0.07566060227
             ],
             "passed_time": 27.61803384,
             "remaining_time": 15.53514404,
             "test": [
              0.0754497644
             ]
            },
            {
             "iteration": 64,
             "learn": [
              0.07312295397
             ],
             "passed_time": 28.0735274,
             "remaining_time": 15.11651475,
             "test": [
              0.07313594798
             ]
            },
            {
             "iteration": 65,
             "learn": [
              0.07074784
             ],
             "passed_time": 28.51708901,
             "remaining_time": 14.69062161,
             "test": [
              0.07089544862
             ]
            },
            {
             "iteration": 66,
             "learn": [
              0.06863951959
             ],
             "passed_time": 28.95915015,
             "remaining_time": 14.26346202,
             "test": [
              0.06872620464
             ]
            },
            {
             "iteration": 67,
             "learn": [
              0.06661242283
             ],
             "passed_time": 29.32852883,
             "remaining_time": 13.80166063,
             "test": [
              0.06662498952
             ]
            },
            {
             "iteration": 68,
             "learn": [
              0.06464343027
             ],
             "passed_time": 29.75194788,
             "remaining_time": 13.36681716,
             "test": [
              0.0645901593
             ]
            },
            {
             "iteration": 69,
             "learn": [
              0.06269001939
             ],
             "passed_time": 30.11540318,
             "remaining_time": 12.90660136,
             "test": [
              0.0626192608
             ]
            },
            {
             "iteration": 70,
             "learn": [
              0.06074625094
             ],
             "passed_time": 30.49676234,
             "remaining_time": 12.45642405,
             "test": [
              0.06071133094
             ]
            },
            {
             "iteration": 71,
             "learn": [
              0.05883873398
             ],
             "passed_time": 30.8888482,
             "remaining_time": 12.01232985,
             "test": [
              0.05886378878
             ]
            },
            {
             "iteration": 72,
             "learn": [
              0.05703222491
             ],
             "passed_time": 31.29519454,
             "remaining_time": 11.57493497,
             "test": [
              0.0570739496
             ]
            },
            {
             "iteration": 73,
             "learn": [
              0.05560772211
             ],
             "passed_time": 31.75164635,
             "remaining_time": 11.15598385,
             "test": [
              0.05534041728
             ]
            },
            {
             "iteration": 74,
             "learn": [
              0.0538539038
             ],
             "passed_time": 32.25531871,
             "remaining_time": 10.7517729,
             "test": [
              0.05366059872
             ]
            },
            {
             "iteration": 75,
             "learn": [
              0.05201375074
             ],
             "passed_time": 32.68071411,
             "remaining_time": 10.32022551,
             "test": [
              0.05203186621
             ]
            },
            {
             "iteration": 76,
             "learn": [
              0.05071213163
             ],
             "passed_time": 33.19692588,
             "remaining_time": 9.915964873,
             "test": [
              0.05045459722
             ]
            },
            {
             "iteration": 77,
             "learn": [
              0.0490237763
             ],
             "passed_time": 33.62122946,
             "remaining_time": 9.482910874,
             "test": [
              0.04892682889
             ]
            },
            {
             "iteration": 78,
             "learn": [
              0.04744080159
             ],
             "passed_time": 34.02396124,
             "remaining_time": 9.044344127,
             "test": [
              0.04744533493
             ]
            },
            {
             "iteration": 79,
             "learn": [
              0.04609620247
             ],
             "passed_time": 34.43201507,
             "remaining_time": 8.608003767,
             "test": [
              0.04601132571
             ]
            },
            {
             "iteration": 80,
             "learn": [
              0.04483593706
             ],
             "passed_time": 34.80405703,
             "remaining_time": 8.163914613,
             "test": [
              0.04462163776
             ]
            },
            {
             "iteration": 81,
             "learn": [
              0.04326914453
             ],
             "passed_time": 35.17354017,
             "remaining_time": 7.721021014,
             "test": [
              0.04327426419
             ]
            },
            {
             "iteration": 82,
             "learn": [
              0.04215117162
             ],
             "passed_time": 35.53620408,
             "remaining_time": 7.27849963,
             "test": [
              0.04196760153
             ]
            },
            {
             "iteration": 83,
             "learn": [
              0.04090654631
             ],
             "passed_time": 35.90193345,
             "remaining_time": 6.838463515,
             "test": [
              0.04070256883
             ]
            },
            {
             "iteration": 84,
             "learn": [
              0.03954639609
             ],
             "passed_time": 36.29317405,
             "remaining_time": 6.404677773,
             "test": [
              0.039476845
             ]
            },
            {
             "iteration": 85,
             "learn": [
              0.03833033489
             ],
             "passed_time": 36.77887484,
             "remaining_time": 5.987258696,
             "test": [
              0.03828866533
             ]
            },
            {
             "iteration": 86,
             "learn": [
              0.03729821055
             ],
             "passed_time": 37.12352392,
             "remaining_time": 5.547193229,
             "test": [
              0.03713539439
             ]
            },
            {
             "iteration": 87,
             "learn": [
              0.03624753581
             ],
             "passed_time": 37.56635207,
             "remaining_time": 5.122684373,
             "test": [
              0.036019628
             ]
            },
            {
             "iteration": 88,
             "learn": [
              0.03506990384
             ],
             "passed_time": 37.976056,
             "remaining_time": 4.693669843,
             "test": [
              0.03493696825
             ]
            },
            {
             "iteration": 89,
             "learn": [
              0.03403024588
             ],
             "passed_time": 38.43433197,
             "remaining_time": 4.27048133,
             "test": [
              0.03388812656
             ]
            },
            {
             "iteration": 90,
             "learn": [
              0.03302434621
             ],
             "passed_time": 38.81644063,
             "remaining_time": 3.838988634,
             "test": [
              0.03287134731
             ]
            },
            {
             "iteration": 91,
             "learn": [
              0.03203502957
             ],
             "passed_time": 39.25865368,
             "remaining_time": 3.413795972,
             "test": [
              0.0318858486
             ]
            },
            {
             "iteration": 92,
             "learn": [
              0.03105897967
             ],
             "passed_time": 39.69118056,
             "remaining_time": 2.987508214,
             "test": [
              0.0309299724
             ]
            },
            {
             "iteration": 93,
             "learn": [
              0.03011687701
             ],
             "passed_time": 40.16515293,
             "remaining_time": 2.563733166,
             "test": [
              0.0300036635
             ]
            },
            {
             "iteration": 94,
             "learn": [
              0.02919631413
             ],
             "passed_time": 40.6510516,
             "remaining_time": 2.139529032,
             "test": [
              0.02910555397
             ]
            },
            {
             "iteration": 95,
             "learn": [
              0.02844290547
             ],
             "passed_time": 41.11290882,
             "remaining_time": 1.713037867,
             "test": [
              0.02823479298
             ]
            },
            {
             "iteration": 96,
             "learn": [
              0.02754043423
             ],
             "passed_time": 41.44487064,
             "remaining_time": 1.281800123,
             "test": [
              0.02738886313
             ]
            },
            {
             "iteration": 97,
             "learn": [
              0.02663554913
             ],
             "passed_time": 41.88703526,
             "remaining_time": 0.8548374543,
             "test": [
              0.02656943122
             ]
            },
            {
             "iteration": 98,
             "learn": [
              0.02595560082
             ],
             "passed_time": 42.17282203,
             "remaining_time": 0.4259881013,
             "test": [
              0.02577380527
             ]
            },
            {
             "iteration": 99,
             "learn": [
              0.02510133715
             ],
             "passed_time": 42.55238404,
             "remaining_time": 0,
             "test": [
              0.02500343702
             ]
            }
           ],
           "meta": {
            "iteration_count": 100,
            "launch_mode": "Train",
            "learn_metrics": [
             {
              "best_value": "Min",
              "name": "CrossEntropy"
             }
            ],
            "learn_sets": [
             "learn"
            ],
            "name": "experiment",
            "parameters": "",
            "test_metrics": [
             {
              "best_value": "Min",
              "name": "CrossEntropy"
             }
            ],
            "test_sets": [
             "test"
            ]
           }
          },
          "passed_iterations": 99,
          "total_iterations": 100
         },
         "name": "catboost_info",
         "path": "catboost_info"
        }
       },
       "layout": "IPY_MODEL_8851bd593a55467db38b0c3c0c2bbd73"
      }
     },
     "81a1a199224a4460a02704b9e180067e": {
      "model_module": "catboost-widget",
      "model_module_version": "^1.0.0",
      "model_name": "CatboostWidgetModel",
      "state": {
       "_dom_classes": [],
       "_model_module": "catboost-widget",
       "_model_module_version": "^1.0.0",
       "_model_name": "CatboostWidgetModel",
       "_view_count": null,
       "_view_module": "catboost-widget",
       "_view_module_version": "^1.0.0",
       "_view_name": "CatboostWidgetView",
       "data": {
        "catboost_info": {
         "content": {
          "data": {
           "iterations": [
            {
             "iteration": 0,
             "learn": [
              0.6614252875
             ],
             "passed_time": 0.4016077325,
             "remaining_time": 39.75916552,
             "test": [
              0.6636703026
             ]
            },
            {
             "iteration": 1,
             "learn": [
              0.6363583511
             ],
             "passed_time": 0.8883050405,
             "remaining_time": 43.52694699,
             "test": [
              0.6359139708
             ]
            },
            {
             "iteration": 2,
             "learn": [
              0.6094349213
             ],
             "passed_time": 1.323940496,
             "remaining_time": 42.80740939,
             "test": [
              0.6097299738
             ]
            },
            {
             "iteration": 3,
             "learn": [
              0.5838064435
             ],
             "passed_time": 1.676910506,
             "remaining_time": 40.24585214,
             "test": [
              0.5849875471
             ]
            },
            {
             "iteration": 4,
             "learn": [
              0.5622969714
             ],
             "passed_time": 2.098143394,
             "remaining_time": 39.86472449,
             "test": [
              0.5615776038
             ]
            },
            {
             "iteration": 5,
             "learn": [
              0.5382092693
             ],
             "passed_time": 2.53108872,
             "remaining_time": 39.65372327,
             "test": [
              0.5393957052
             ]
            },
            {
             "iteration": 6,
             "learn": [
              0.5170247851
             ],
             "passed_time": 2.871991092,
             "remaining_time": 38.15645308,
             "test": [
              0.5183475753
             ]
            },
            {
             "iteration": 7,
             "learn": [
              0.4988688172
             ],
             "passed_time": 3.333795466,
             "remaining_time": 38.33864786,
             "test": [
              0.4983565409
             ]
            },
            {
             "iteration": 8,
             "learn": [
              0.4787249058
             ],
             "passed_time": 3.781241117,
             "remaining_time": 38.23254907,
             "test": [
              0.4793500589
             ]
            },
            {
             "iteration": 9,
             "learn": [
              0.4607964648
             ],
             "passed_time": 4.210886863,
             "remaining_time": 37.89798177,
             "test": [
              0.4612584489
             ]
            },
            {
             "iteration": 10,
             "learn": [
              0.4444793397
             ],
             "passed_time": 4.660384898,
             "remaining_time": 37.70675054,
             "test": [
              0.4440256736
             ]
            },
            {
             "iteration": 11,
             "learn": [
              0.4282544037
             ],
             "passed_time": 5.029093766,
             "remaining_time": 36.88002095,
             "test": [
              0.4275874132
             ]
            },
            {
             "iteration": 12,
             "learn": [
              0.4124670287
             ],
             "passed_time": 5.464603164,
             "remaining_time": 36.57080579,
             "test": [
              0.4119031988
             ]
            },
            {
             "iteration": 13,
             "learn": [
              0.3970121784
             ],
             "passed_time": 5.859681168,
             "remaining_time": 35.99518432,
             "test": [
              0.3969273059
             ]
            },
            {
             "iteration": 14,
             "learn": [
              0.382692645
             ],
             "passed_time": 6.374411738,
             "remaining_time": 36.12166652,
             "test": [
              0.3826173677
             ]
            },
            {
             "iteration": 15,
             "learn": [
              0.367643161
             ],
             "passed_time": 6.904621165,
             "remaining_time": 36.24926112,
             "test": [
              0.368927799
             ]
            },
            {
             "iteration": 16,
             "learn": [
              0.3542945267
             ],
             "passed_time": 7.472613089,
             "remaining_time": 36.48393449,
             "test": [
              0.355824599
             ]
            },
            {
             "iteration": 17,
             "learn": [
              0.3434895293
             ],
             "passed_time": 7.967321274,
             "remaining_time": 36.29557469,
             "test": [
              0.343284147
             ]
            },
            {
             "iteration": 18,
             "learn": [
              0.3304194785
             ],
             "passed_time": 8.310316179,
             "remaining_time": 35.42819003,
             "test": [
              0.3312712549
             ]
            },
            {
             "iteration": 19,
             "learn": [
              0.3199871068
             ],
             "passed_time": 8.724908165,
             "remaining_time": 34.89963266,
             "test": [
              0.3197545326
             ]
            },
            {
             "iteration": 20,
             "learn": [
              0.3074201506
             ],
             "passed_time": 9.119584099,
             "remaining_time": 34.30700685,
             "test": [
              0.3087093293
             ]
            },
            {
             "iteration": 21,
             "learn": [
              0.2972380253
             ],
             "passed_time": 9.544376106,
             "remaining_time": 33.83915165,
             "test": [
              0.2981064125
             ]
            },
            {
             "iteration": 22,
             "learn": [
              0.2871574207
             ],
             "passed_time": 9.906881709,
             "remaining_time": 33.16651702,
             "test": [
              0.2879318131
             ]
            },
            {
             "iteration": 23,
             "learn": [
              0.276967515
             ],
             "passed_time": 10.33577046,
             "remaining_time": 32.72993978,
             "test": [
              0.2781637271
             ]
            },
            {
             "iteration": 24,
             "learn": [
              0.2669615331
             ],
             "passed_time": 10.71188669,
             "remaining_time": 32.13566008,
             "test": [
              0.2687729552
             ]
            },
            {
             "iteration": 25,
             "learn": [
              0.2583834164
             ],
             "passed_time": 11.1346523,
             "remaining_time": 31.69093346,
             "test": [
              0.2597532501
             ]
            },
            {
             "iteration": 26,
             "learn": [
              0.250351774
             ],
             "passed_time": 11.63905132,
             "remaining_time": 31.46854616,
             "test": [
              0.2510782017
             ]
            },
            {
             "iteration": 27,
             "learn": [
              0.2423796524
             ],
             "passed_time": 12.0334439,
             "remaining_time": 30.94314146,
             "test": [
              0.2427378666
             ]
            },
            {
             "iteration": 28,
             "learn": [
              0.2341096726
             ],
             "passed_time": 12.46828898,
             "remaining_time": 30.52581095,
             "test": [
              0.2347136038
             ]
            },
            {
             "iteration": 29,
             "learn": [
              0.2263515605
             ],
             "passed_time": 12.88686497,
             "remaining_time": 30.0693516,
             "test": [
              0.2269924776
             ]
            },
            {
             "iteration": 30,
             "learn": [
              0.2189704963
             ],
             "passed_time": 13.3065692,
             "remaining_time": 29.61784757,
             "test": [
              0.2195574499
             ]
            },
            {
             "iteration": 31,
             "learn": [
              0.2113454132
             ],
             "passed_time": 13.68495127,
             "remaining_time": 29.08052145,
             "test": [
              0.2122724168
             ]
            },
            {
             "iteration": 32,
             "learn": [
              0.203812118
             ],
             "passed_time": 14.13944116,
             "remaining_time": 28.70735024,
             "test": [
              0.2053764497
             ]
            },
            {
             "iteration": 33,
             "learn": [
              0.197152748
             ],
             "passed_time": 14.58829478,
             "remaining_time": 28.31845458,
             "test": [
              0.1986477768
             ]
            },
            {
             "iteration": 34,
             "learn": [
              0.1916210847
             ],
             "passed_time": 15.04451181,
             "remaining_time": 27.93980764,
             "test": [
              0.1922413606
             ]
            },
            {
             "iteration": 35,
             "learn": [
              0.1844704336
             ],
             "passed_time": 15.42922693,
             "remaining_time": 27.42973676,
             "test": [
              0.1860692665
             ]
            },
            {
             "iteration": 36,
             "learn": [
              0.1792324261
             ],
             "passed_time": 15.84370106,
             "remaining_time": 26.97711262,
             "test": [
              0.1801134526
             ]
            },
            {
             "iteration": 37,
             "learn": [
              0.1727308745
             ],
             "passed_time": 16.22519437,
             "remaining_time": 26.47268556,
             "test": [
              0.1743703482
             ]
            },
            {
             "iteration": 38,
             "learn": [
              0.1681387064
             ],
             "passed_time": 16.66852301,
             "remaining_time": 26.07127958,
             "test": [
              0.1688315542
             ]
            },
            {
             "iteration": 39,
             "learn": [
              0.1619580632
             ],
             "passed_time": 17.02129172,
             "remaining_time": 25.53193758,
             "test": [
              0.1634838369
             ]
            },
            {
             "iteration": 40,
             "learn": [
              0.1568151101
             ],
             "passed_time": 17.45768694,
             "remaining_time": 25.12203731,
             "test": [
              0.1583287857
             ]
            },
            {
             "iteration": 41,
             "learn": [
              0.1524950688
             ],
             "passed_time": 17.89062721,
             "remaining_time": 24.70610425,
             "test": [
              0.1533490683
             ]
            },
            {
             "iteration": 42,
             "learn": [
              0.1475046989
             ],
             "passed_time": 18.27920583,
             "remaining_time": 24.23057516,
             "test": [
              0.1485429249
             ]
            },
            {
             "iteration": 43,
             "learn": [
              0.142393113
             ],
             "passed_time": 18.60466451,
             "remaining_time": 23.67866392,
             "test": [
              0.1437663736
             ]
            },
            {
             "iteration": 44,
             "learn": [
              0.1376064052
             ],
             "passed_time": 19.05775318,
             "remaining_time": 23.29280944,
             "test": [
              0.1392885028
             ]
            },
            {
             "iteration": 45,
             "learn": [
              0.1333942956
             ],
             "passed_time": 19.46615999,
             "remaining_time": 22.85157912,
             "test": [
              0.1349581937
             ]
            },
            {
             "iteration": 46,
             "learn": [
              0.1293760068
             ],
             "passed_time": 19.82392296,
             "remaining_time": 22.35463653,
             "test": [
              0.1307756639
             ]
            },
            {
             "iteration": 47,
             "learn": [
              0.1254502156
             ],
             "passed_time": 20.3119006,
             "remaining_time": 22.00455898,
             "test": [
              0.1267404253
             ]
            },
            {
             "iteration": 48,
             "learn": [
              0.1215467421
             ],
             "passed_time": 20.75232761,
             "remaining_time": 21.59936139,
             "test": [
              0.1228426177
             ]
            },
            {
             "iteration": 49,
             "learn": [
              0.1176705908
             ],
             "passed_time": 21.09990364,
             "remaining_time": 21.09990364,
             "test": [
              0.1190730761
             ]
            },
            {
             "iteration": 50,
             "learn": [
              0.1138250015
             ],
             "passed_time": 21.52367085,
             "remaining_time": 20.67960533,
             "test": [
              0.1154319257
             ]
            },
            {
             "iteration": 51,
             "learn": [
              0.1102540673
             ],
             "passed_time": 21.85824499,
             "remaining_time": 20.17684153,
             "test": [
              0.111788433
             ]
            },
            {
             "iteration": 52,
             "learn": [
              0.1073937468
             ],
             "passed_time": 22.20024102,
             "remaining_time": 19.68700619,
             "test": [
              0.1083841643
             ]
            },
            {
             "iteration": 53,
             "learn": [
              0.1038855221
             ],
             "passed_time": 22.59412039,
             "remaining_time": 19.24684329,
             "test": [
              0.1050160011
             ]
            },
            {
             "iteration": 54,
             "learn": [
              0.1002337702
             ],
             "passed_time": 23.06032222,
             "remaining_time": 18.86753636,
             "test": [
              0.1018349008
             ]
            },
            {
             "iteration": 55,
             "learn": [
              0.09762421492
             ],
             "passed_time": 23.48861172,
             "remaining_time": 18.45533778,
             "test": [
              0.09875421813
             ]
            },
            {
             "iteration": 56,
             "learn": [
              0.09424840954
             ],
             "passed_time": 23.80962061,
             "remaining_time": 17.96164362,
             "test": [
              0.09565558397
             ]
            },
            {
             "iteration": 57,
             "learn": [
              0.09168271425
             ],
             "passed_time": 24.22567926,
             "remaining_time": 17.54273326,
             "test": [
              0.09272176586
             ]
            },
            {
             "iteration": 58,
             "learn": [
              0.08843810257
             ],
             "passed_time": 24.6491934,
             "remaining_time": 17.1291005,
             "test": [
              0.08993427411
             ]
            },
            {
             "iteration": 59,
             "learn": [
              0.08597379806
             ],
             "passed_time": 24.97630834,
             "remaining_time": 16.65087222,
             "test": [
              0.0872354199
             ]
            },
            {
             "iteration": 60,
             "learn": [
              0.08313124812
             ],
             "passed_time": 25.42216948,
             "remaining_time": 16.25351819,
             "test": [
              0.08462851608
             ]
            },
            {
             "iteration": 61,
             "learn": [
              0.08057912373
             ],
             "passed_time": 25.78442484,
             "remaining_time": 15.80335716,
             "test": [
              0.08210210174
             ]
            },
            {
             "iteration": 62,
             "learn": [
              0.07842501441
             ],
             "passed_time": 26.20638807,
             "remaining_time": 15.39105331,
             "test": [
              0.07965809289
             ]
            },
            {
             "iteration": 63,
             "learn": [
              0.07595131087
             ],
             "passed_time": 26.60373034,
             "remaining_time": 14.96459832,
             "test": [
              0.07718396456
             ]
            },
            {
             "iteration": 64,
             "learn": [
              0.07348013257
             ],
             "passed_time": 27.05933223,
             "remaining_time": 14.57040966,
             "test": [
              0.07489908323
             ]
            },
            {
             "iteration": 65,
             "learn": [
              0.07110841126
             ],
             "passed_time": 27.4864005,
             "remaining_time": 14.15966086,
             "test": [
              0.07268596564
             ]
            },
            {
             "iteration": 66,
             "learn": [
              0.06896387882
             ],
             "passed_time": 27.92866812,
             "remaining_time": 13.75591116,
             "test": [
              0.07054416971
             ]
            },
            {
             "iteration": 67,
             "learn": [
              0.06691869006
             ],
             "passed_time": 28.29208956,
             "remaining_time": 13.3139245,
             "test": [
              0.06846981738
             ]
            },
            {
             "iteration": 68,
             "learn": [
              0.06492753096
             ],
             "passed_time": 28.69609874,
             "remaining_time": 12.89245016,
             "test": [
              0.06635250399
             ]
            },
            {
             "iteration": 69,
             "learn": [
              0.06297667811
             ],
             "passed_time": 29.03235559,
             "remaining_time": 12.44243811,
             "test": [
              0.06440677111
             ]
            },
            {
             "iteration": 70,
             "learn": [
              0.06104038503
             ],
             "passed_time": 29.40388031,
             "remaining_time": 12.01003562,
             "test": [
              0.06252830502
             ]
            },
            {
             "iteration": 71,
             "learn": [
              0.05913910136
             ],
             "passed_time": 29.75556028,
             "remaining_time": 11.57160678,
             "test": [
              0.06070784576
             ]
            },
            {
             "iteration": 72,
             "learn": [
              0.05735996364
             ],
             "passed_time": 30.16323428,
             "remaining_time": 11.15626473,
             "test": [
              0.05894749915
             ]
            },
            {
             "iteration": 73,
             "learn": [
              0.05590009328
             ],
             "passed_time": 30.62377675,
             "remaining_time": 10.75970534,
             "test": [
              0.05724146761
             ]
            },
            {
             "iteration": 74,
             "learn": [
              0.05413692664
             ],
             "passed_time": 30.98406037,
             "remaining_time": 10.32802012,
             "test": [
              0.05548248753
             ]
            },
            {
             "iteration": 75,
             "learn": [
              0.05230353097
             ],
             "passed_time": 31.38369236,
             "remaining_time": 9.910639694,
             "test": [
              0.05378137407
             ]
            },
            {
             "iteration": 76,
             "learn": [
              0.0509671218
             ],
             "passed_time": 31.79865975,
             "remaining_time": 9.498300963,
             "test": [
              0.05222895032
             ]
            },
            {
             "iteration": 77,
             "learn": [
              0.04926893594
             ],
             "passed_time": 32.20008905,
             "remaining_time": 9.082076398,
             "test": [
              0.0506377672
             ]
            },
            {
             "iteration": 78,
             "learn": [
              0.04776160053
             ],
             "passed_time": 32.55888378,
             "remaining_time": 8.654893157,
             "test": [
              0.04909458405
             ]
            },
            {
             "iteration": 79,
             "learn": [
              0.04631826407
             ],
             "passed_time": 32.90637572,
             "remaining_time": 8.22659393,
             "test": [
              0.04759837304
             ]
            },
            {
             "iteration": 80,
             "learn": [
              0.04503750628
             ],
             "passed_time": 33.2655967,
             "remaining_time": 7.8030412,
             "test": [
              0.04614491349
             ]
            },
            {
             "iteration": 81,
             "learn": [
              0.04350555717
             ],
             "passed_time": 33.71155943,
             "remaining_time": 7.400098411,
             "test": [
              0.04481783109
             ]
            },
            {
             "iteration": 82,
             "learn": [
              0.04235029366
             ],
             "passed_time": 34.0531532,
             "remaining_time": 6.974742222,
             "test": [
              0.04348321995
             ]
            },
            {
             "iteration": 83,
             "learn": [
              0.04108710799
             ],
             "passed_time": 34.37651089,
             "remaining_time": 6.547906836,
             "test": [
              0.04215701916
             ]
            },
            {
             "iteration": 84,
             "learn": [
              0.03975371384
             ],
             "passed_time": 34.73362759,
             "remaining_time": 6.129463693,
             "test": [
              0.04095030936
             ]
            },
            {
             "iteration": 85,
             "learn": [
              0.03852342233
             ],
             "passed_time": 35.19711665,
             "remaining_time": 5.729763176,
             "test": [
              0.03978113452
             ]
            },
            {
             "iteration": 86,
             "learn": [
              0.03746634503
             ],
             "passed_time": 35.53394282,
             "remaining_time": 5.309669617,
             "test": [
              0.03855746441
             ]
            },
            {
             "iteration": 87,
             "learn": [
              0.0364203847
             ],
             "passed_time": 35.9806549,
             "remaining_time": 4.906452941,
             "test": [
              0.03746716806
             ]
            },
            {
             "iteration": 88,
             "learn": [
              0.03526290829
             ],
             "passed_time": 36.4462231,
             "remaining_time": 4.504589372,
             "test": [
              0.03641074248
             ]
            },
            {
             "iteration": 89,
             "learn": [
              0.03421734723
             ],
             "passed_time": 36.87971733,
             "remaining_time": 4.09774637,
             "test": [
              0.03538029836
             ]
            },
            {
             "iteration": 90,
             "learn": [
              0.033197338
             ],
             "passed_time": 37.2536342,
             "remaining_time": 3.68442536,
             "test": [
              0.03438775645
             ]
            },
            {
             "iteration": 91,
             "learn": [
              0.03221023357
             ],
             "passed_time": 37.6996226,
             "remaining_time": 3.278228053,
             "test": [
              0.03342407434
             ]
            },
            {
             "iteration": 92,
             "learn": [
              0.03122515654
             ],
             "passed_time": 38.02521164,
             "remaining_time": 2.862112704,
             "test": [
              0.03240064383
             ]
            },
            {
             "iteration": 93,
             "learn": [
              0.03029147722
             ],
             "passed_time": 38.67658232,
             "remaining_time": 2.468718021,
             "test": [
              0.03146263243
             ]
            },
            {
             "iteration": 94,
             "learn": [
              0.02937517037
             ],
             "passed_time": 39.11031049,
             "remaining_time": 2.058437394,
             "test": [
              0.03049200612
             ]
            },
            {
             "iteration": 95,
             "learn": [
              0.02858398479
             ],
             "passed_time": 39.62974794,
             "remaining_time": 1.651239497,
             "test": [
              0.02955820298
             ]
            },
            {
             "iteration": 96,
             "learn": [
              0.02769886463
             ],
             "passed_time": 40.06222232,
             "remaining_time": 1.239037804,
             "test": [
              0.02873688823
             ]
            },
            {
             "iteration": 97,
             "learn": [
              0.02681223175
             ],
             "passed_time": 40.47058641,
             "remaining_time": 0.8259303348,
             "test": [
              0.02787345828
             ]
            },
            {
             "iteration": 98,
             "learn": [
              0.02610972999
             ],
             "passed_time": 40.77212988,
             "remaining_time": 0.4118396958,
             "test": [
              0.02703209938
             ]
            },
            {
             "iteration": 99,
             "learn": [
              0.0252639139
             ],
             "passed_time": 41.12207077,
             "remaining_time": 0,
             "test": [
              0.02628005579
             ]
            }
           ],
           "meta": {
            "iteration_count": 100,
            "launch_mode": "Train",
            "learn_metrics": [
             {
              "best_value": "Min",
              "name": "CrossEntropy"
             }
            ],
            "learn_sets": [
             "learn"
            ],
            "name": "experiment",
            "parameters": "",
            "test_metrics": [
             {
              "best_value": "Min",
              "name": "CrossEntropy"
             }
            ],
            "test_sets": [
             "test"
            ]
           }
          },
          "passed_iterations": 99,
          "total_iterations": 100
         },
         "name": "catboost_info",
         "path": "catboost_info"
        }
       },
       "layout": "IPY_MODEL_1c5e22b36f5044e1a2339edfb36c1a1f"
      }
     },
     "8226059bd3a44460b18b9ed28aea7e44": {
      "model_module": "catboost-widget",
      "model_module_version": "^1.0.0",
      "model_name": "CatboostWidgetModel",
      "state": {
       "_dom_classes": [],
       "_model_module": "catboost-widget",
       "_model_module_version": "^1.0.0",
       "_model_name": "CatboostWidgetModel",
       "_view_count": null,
       "_view_module": "catboost-widget",
       "_view_module_version": "^1.0.0",
       "_view_name": "CatboostWidgetView",
       "data": {
        "catboost_info": {
         "content": {
          "data": {
           "iterations": [
            {
             "iteration": 0,
             "learn": [
              0.6665900825
             ],
             "passed_time": 0.3661084776,
             "remaining_time": 36.24473928,
             "test": [
              0.6680237047
             ]
            },
            {
             "iteration": 1,
             "learn": [
              0.6443315716
             ],
             "passed_time": 0.7120509019,
             "remaining_time": 34.89049419,
             "test": [
              0.6445466982
             ]
            },
            {
             "iteration": 2,
             "learn": [
              0.6216822811
             ],
             "passed_time": 1.07975906,
             "remaining_time": 34.91220961,
             "test": [
              0.6224888274
             ]
            },
            {
             "iteration": 3,
             "learn": [
              0.6013917654
             ],
             "passed_time": 1.473112883,
             "remaining_time": 35.35470919,
             "test": [
              0.6014108638
             ]
            },
            {
             "iteration": 4,
             "learn": [
              0.5811124176
             ],
             "passed_time": 1.821002262,
             "remaining_time": 34.59904297,
             "test": [
              0.581467439
             ]
            },
            {
             "iteration": 5,
             "learn": [
              0.5625687491
             ],
             "passed_time": 2.175759908,
             "remaining_time": 34.08690522,
             "test": [
              0.5625600677
             ]
            },
            {
             "iteration": 6,
             "learn": [
              0.5454179633
             ],
             "passed_time": 2.569228845,
             "remaining_time": 34.13404037,
             "test": [
              0.5445989188
             ]
            },
            {
             "iteration": 7,
             "learn": [
              0.5276138721
             ],
             "passed_time": 2.964117343,
             "remaining_time": 34.08734944,
             "test": [
              0.5274573576
             ]
            },
            {
             "iteration": 8,
             "learn": [
              0.5117683717
             ],
             "passed_time": 3.334657591,
             "remaining_time": 33.71709342,
             "test": [
              0.5110265034
             ]
            },
            {
             "iteration": 9,
             "learn": [
              0.4953583285
             ],
             "passed_time": 3.684070854,
             "remaining_time": 33.15663768,
             "test": [
              0.4955144977
             ]
            },
            {
             "iteration": 10,
             "learn": [
              0.4808729451
             ],
             "passed_time": 4.058243577,
             "remaining_time": 32.83487985,
             "test": [
              0.4806087348
             ]
            },
            {
             "iteration": 11,
             "learn": [
              0.467080873
             ],
             "passed_time": 4.402716783,
             "remaining_time": 32.28658974,
             "test": [
              0.4665855424
             ]
            },
            {
             "iteration": 12,
             "learn": [
              0.4537446756
             ],
             "passed_time": 4.745726707,
             "remaining_time": 31.75986335,
             "test": [
              0.4531167042
             ]
            },
            {
             "iteration": 13,
             "learn": [
              0.4417746453
             ],
             "passed_time": 5.085068527,
             "remaining_time": 31.23684953,
             "test": [
              0.4404396965
             ]
            },
            {
             "iteration": 14,
             "learn": [
              0.4295824699
             ],
             "passed_time": 5.45350433,
             "remaining_time": 30.90319121,
             "test": [
              0.4282315792
             ]
            },
            {
             "iteration": 15,
             "learn": [
              0.4180974163
             ],
             "passed_time": 5.769410008,
             "remaining_time": 30.28940254,
             "test": [
              0.4164224275
             ]
            },
            {
             "iteration": 16,
             "learn": [
              0.4073129788
             ],
             "passed_time": 6.131477917,
             "remaining_time": 29.93603924,
             "test": [
              0.4053251434
             ]
            },
            {
             "iteration": 17,
             "learn": [
              0.3958309047
             ],
             "passed_time": 6.526674197,
             "remaining_time": 29.7326269,
             "test": [
              0.3943556546
             ]
            },
            {
             "iteration": 18,
             "learn": [
              0.3856754047
             ],
             "passed_time": 6.909300868,
             "remaining_time": 29.45544054,
             "test": [
              0.3839488778
             ]
            },
            {
             "iteration": 19,
             "learn": [
              0.3754860077
             ],
             "passed_time": 7.359487827,
             "remaining_time": 29.43795131,
             "test": [
              0.3741719225
             ]
            },
            {
             "iteration": 20,
             "learn": [
              0.3664951201
             ],
             "passed_time": 7.718313134,
             "remaining_time": 29.03555893,
             "test": [
              0.3647472065
             ]
            },
            {
             "iteration": 21,
             "learn": [
              0.3572524467
             ],
             "passed_time": 8.252628468,
             "remaining_time": 29.25931911,
             "test": [
              0.3556836412
             ]
            },
            {
             "iteration": 22,
             "learn": [
              0.3481367089
             ],
             "passed_time": 8.740115917,
             "remaining_time": 29.26038807,
             "test": [
              0.3464969656
             ]
            },
            {
             "iteration": 23,
             "learn": [
              0.3399138991
             ],
             "passed_time": 9.272049765,
             "remaining_time": 29.36149092,
             "test": [
              0.3377050221
             ]
            },
            {
             "iteration": 24,
             "learn": [
              0.3317730289
             ],
             "passed_time": 9.645393118,
             "remaining_time": 28.93617935,
             "test": [
              0.3297204866
             ]
            },
            {
             "iteration": 25,
             "learn": [
              0.324103556
             ],
             "passed_time": 9.981953754,
             "remaining_time": 28.41017607,
             "test": [
              0.3216651519
             ]
            },
            {
             "iteration": 26,
             "learn": [
              0.3168280914
             ],
             "passed_time": 10.32162782,
             "remaining_time": 27.90662336,
             "test": [
              0.3142109074
             ]
            },
            {
             "iteration": 27,
             "learn": [
              0.3097833989
             ],
             "passed_time": 10.68653423,
             "remaining_time": 27.47965945,
             "test": [
              0.3069406386
             ]
            },
            {
             "iteration": 28,
             "learn": [
              0.3026905904
             ],
             "passed_time": 11.047183,
             "remaining_time": 27.04655148,
             "test": [
              0.3000886257
             ]
            },
            {
             "iteration": 29,
             "learn": [
              0.2965618617
             ],
             "passed_time": 11.3443068,
             "remaining_time": 26.47004921,
             "test": [
              0.2936481504
             ]
            },
            {
             "iteration": 30,
             "learn": [
              0.2898959588
             ],
             "passed_time": 11.7113082,
             "remaining_time": 26.06710534,
             "test": [
              0.286986941
             ]
            },
            {
             "iteration": 31,
             "learn": [
              0.2834534005
             ],
             "passed_time": 12.10703011,
             "remaining_time": 25.72743898,
             "test": [
              0.2803513639
             ]
            },
            {
             "iteration": 32,
             "learn": [
              0.2775691651
             ],
             "passed_time": 12.424292,
             "remaining_time": 25.2250777,
             "test": [
              0.2742426963
             ]
            },
            {
             "iteration": 33,
             "learn": [
              0.2716845613
             ],
             "passed_time": 12.79240816,
             "remaining_time": 24.83232173,
             "test": [
              0.2685635349
             ]
            },
            {
             "iteration": 34,
             "learn": [
              0.266022827
             ],
             "passed_time": 13.16377454,
             "remaining_time": 24.44700986,
             "test": [
              0.262773232
             ]
            },
            {
             "iteration": 35,
             "learn": [
              0.2608088745
             ],
             "passed_time": 13.54688927,
             "remaining_time": 24.08335871,
             "test": [
              0.2572729713
             ]
            },
            {
             "iteration": 36,
             "learn": [
              0.2556046335
             ],
             "passed_time": 13.89134143,
             "remaining_time": 23.65282459,
             "test": [
              0.2520456111
             ]
            },
            {
             "iteration": 37,
             "learn": [
              0.2504053717
             ],
             "passed_time": 14.23409553,
             "remaining_time": 23.2240506,
             "test": [
              0.2465326063
             ]
            },
            {
             "iteration": 38,
             "learn": [
              0.2453109318
             ],
             "passed_time": 14.60508588,
             "remaining_time": 22.84385227,
             "test": [
              0.2414515942
             ]
            },
            {
             "iteration": 39,
             "learn": [
              0.2403747706
             ],
             "passed_time": 15.01519762,
             "remaining_time": 22.52279643,
             "test": [
              0.236555162
             ]
            },
            {
             "iteration": 40,
             "learn": [
              0.2358906765
             ],
             "passed_time": 15.38361327,
             "remaining_time": 22.1373947,
             "test": [
              0.231901586
             ]
            },
            {
             "iteration": 41,
             "learn": [
              0.2312785172
             ],
             "passed_time": 15.80915672,
             "remaining_time": 21.83169261,
             "test": [
              0.2273950001
             ]
            },
            {
             "iteration": 42,
             "learn": [
              0.2267847418
             ],
             "passed_time": 16.21300768,
             "remaining_time": 21.49166134,
             "test": [
              0.2228556178
             ]
            },
            {
             "iteration": 43,
             "learn": [
              0.2225655193
             ],
             "passed_time": 16.65891218,
             "remaining_time": 21.20225186,
             "test": [
              0.2184441592
             ]
            },
            {
             "iteration": 44,
             "learn": [
              0.2185235497
             ],
             "passed_time": 17.03077769,
             "remaining_time": 20.81539495,
             "test": [
              0.2142857415
             ]
            },
            {
             "iteration": 45,
             "learn": [
              0.2149539353
             ],
             "passed_time": 17.34765667,
             "remaining_time": 20.36464043,
             "test": [
              0.2103744643
             ]
            },
            {
             "iteration": 46,
             "learn": [
              0.21056562
             ],
             "passed_time": 17.75444674,
             "remaining_time": 20.02097186,
             "test": [
              0.2059784792
             ]
            },
            {
             "iteration": 47,
             "learn": [
              0.2071159137
             ],
             "passed_time": 18.09856177,
             "remaining_time": 19.60677525,
             "test": [
              0.2024432841
             ]
            },
            {
             "iteration": 48,
             "learn": [
              0.2033915078
             ],
             "passed_time": 18.51366906,
             "remaining_time": 19.26932902,
             "test": [
              0.1984686032
             ]
            },
            {
             "iteration": 49,
             "learn": [
              0.2001564836
             ],
             "passed_time": 18.85620399,
             "remaining_time": 18.85620399,
             "test": [
              0.1949528791
             ]
            },
            {
             "iteration": 50,
             "learn": [
              0.196570416
             ],
             "passed_time": 19.2464094,
             "remaining_time": 18.49164825,
             "test": [
              0.1913986815
             ]
            },
            {
             "iteration": 51,
             "learn": [
              0.193589582
             ],
             "passed_time": 19.56263725,
             "remaining_time": 18.057819,
             "test": [
              0.1882861472
             ]
            },
            {
             "iteration": 52,
             "learn": [
              0.1905315843
             ],
             "passed_time": 19.93383784,
             "remaining_time": 17.67717695,
             "test": [
              0.1849999892
             ]
            },
            {
             "iteration": 53,
             "learn": [
              0.1876217177
             ],
             "passed_time": 20.30964842,
             "remaining_time": 17.30081161,
             "test": [
              0.1820105825
             ]
            },
            {
             "iteration": 54,
             "learn": [
              0.1845545225
             ],
             "passed_time": 20.71401397,
             "remaining_time": 16.94782961,
             "test": [
              0.1789793015
             ]
            },
            {
             "iteration": 55,
             "learn": [
              0.1811343171
             ],
             "passed_time": 21.12051955,
             "remaining_time": 16.59469394,
             "test": [
              0.1758113181
             ]
            },
            {
             "iteration": 56,
             "learn": [
              0.177912276
             ],
             "passed_time": 21.49980279,
             "remaining_time": 16.21914948,
             "test": [
              0.1726980546
             ]
            },
            {
             "iteration": 57,
             "learn": [
              0.1754802398
             ],
             "passed_time": 21.81677214,
             "remaining_time": 15.79835224,
             "test": [
              0.1701206009
             ]
            },
            {
             "iteration": 58,
             "learn": [
              0.1721580786
             ],
             "passed_time": 22.22519772,
             "remaining_time": 15.44462892,
             "test": [
              0.1666981894
             ]
            },
            {
             "iteration": 59,
             "learn": [
              0.1696291969
             ],
             "passed_time": 22.61795479,
             "remaining_time": 15.07863653,
             "test": [
              0.1639040293
             ]
            },
            {
             "iteration": 60,
             "learn": [
              0.167162895
             ],
             "passed_time": 23.02002374,
             "remaining_time": 14.7177201,
             "test": [
              0.1613507021
             ]
            },
            {
             "iteration": 61,
             "learn": [
              0.1647302255
             ],
             "passed_time": 23.41666508,
             "remaining_time": 14.35214956,
             "test": [
              0.1587781816
             ]
            },
            {
             "iteration": 62,
             "learn": [
              0.1624779581
             ],
             "passed_time": 23.74667249,
             "remaining_time": 13.94645845,
             "test": [
              0.1565691723
             ]
            },
            {
             "iteration": 63,
             "learn": [
              0.1599978794
             ],
             "passed_time": 24.10748777,
             "remaining_time": 13.56046187,
             "test": [
              0.1540562656
             ]
            },
            {
             "iteration": 64,
             "learn": [
              0.1576192098
             ],
             "passed_time": 24.48833306,
             "remaining_time": 13.18602549,
             "test": [
              0.1516416917
             ]
            },
            {
             "iteration": 65,
             "learn": [
              0.1552791742
             ],
             "passed_time": 24.88039761,
             "remaining_time": 12.81717453,
             "test": [
              0.149360476
             ]
            },
            {
             "iteration": 66,
             "learn": [
              0.1530145757
             ],
             "passed_time": 25.25826259,
             "remaining_time": 12.4406368,
             "test": [
              0.1471066939
             ]
            },
            {
             "iteration": 67,
             "learn": [
              0.1510014726
             ],
             "passed_time": 25.65110591,
             "remaining_time": 12.07110866,
             "test": [
              0.1448433949
             ]
            },
            {
             "iteration": 68,
             "learn": [
              0.1489438106
             ],
             "passed_time": 26.02232442,
             "remaining_time": 11.69118923,
             "test": [
              0.1427425894
             ]
            },
            {
             "iteration": 69,
             "learn": [
              0.1467850749
             ],
             "passed_time": 26.45373425,
             "remaining_time": 11.33731468,
             "test": [
              0.1408061301
             ]
            },
            {
             "iteration": 70,
             "learn": [
              0.145120525
             ],
             "passed_time": 26.74415418,
             "remaining_time": 10.92366861,
             "test": [
              0.1389902574
             ]
            },
            {
             "iteration": 71,
             "learn": [
              0.1430213945
             ],
             "passed_time": 27.13256,
             "remaining_time": 10.55155111,
             "test": [
              0.1369022023
             ]
            },
            {
             "iteration": 72,
             "learn": [
              0.1412708598
             ],
             "passed_time": 27.52113918,
             "remaining_time": 10.17905148,
             "test": [
              0.1348887164
             ]
            },
            {
             "iteration": 73,
             "learn": [
              0.1392928227
             ],
             "passed_time": 27.85397704,
             "remaining_time": 9.786532472,
             "test": [
              0.1329161001
             ]
            },
            {
             "iteration": 74,
             "learn": [
              0.1377328794
             ],
             "passed_time": 28.22351367,
             "remaining_time": 9.40783789,
             "test": [
              0.1313805564
             ]
            },
            {
             "iteration": 75,
             "learn": [
              0.1361889161
             ],
             "passed_time": 28.56357172,
             "remaining_time": 9.020075279,
             "test": [
              0.129712713
             ]
            },
            {
             "iteration": 76,
             "learn": [
              0.1343256397
             ],
             "passed_time": 28.96402004,
             "remaining_time": 8.651590401,
             "test": [
              0.1280201544
             ]
            },
            {
             "iteration": 77,
             "learn": [
              0.1325780244
             ],
             "passed_time": 29.38608608,
             "remaining_time": 8.288383254,
             "test": [
              0.1263236515
             ]
            },
            {
             "iteration": 78,
             "learn": [
              0.1311718112
             ],
             "passed_time": 29.74258649,
             "remaining_time": 7.906257169,
             "test": [
              0.1248611465
             ]
            },
            {
             "iteration": 79,
             "learn": [
              0.1291156378
             ],
             "passed_time": 30.15418754,
             "remaining_time": 7.538546886,
             "test": [
              0.1227509791
             ]
            },
            {
             "iteration": 80,
             "learn": [
              0.1273679664
             ],
             "passed_time": 30.5619896,
             "remaining_time": 7.168861758,
             "test": [
              0.120844493
             ]
            },
            {
             "iteration": 81,
             "learn": [
              0.1260513642
             ],
             "passed_time": 30.8760165,
             "remaining_time": 6.777662159,
             "test": [
              0.1195044052
             ]
            },
            {
             "iteration": 82,
             "learn": [
              0.124579804
             ],
             "passed_time": 31.25095693,
             "remaining_time": 6.400798408,
             "test": [
              0.1180921303
             ]
            },
            {
             "iteration": 83,
             "learn": [
              0.1230935068
             ],
             "passed_time": 31.65726268,
             "remaining_time": 6.029954796,
             "test": [
              0.1166983452
             ]
            },
            {
             "iteration": 84,
             "learn": [
              0.121961952
             ],
             "passed_time": 32.00511396,
             "remaining_time": 5.647961287,
             "test": [
              0.1154931162
             ]
            },
            {
             "iteration": 85,
             "learn": [
              0.1208941513
             ],
             "passed_time": 32.34625548,
             "remaining_time": 5.265669497,
             "test": [
              0.1143354231
             ]
            },
            {
             "iteration": 86,
             "learn": [
              0.1191762506
             ],
             "passed_time": 32.80234587,
             "remaining_time": 4.901499957,
             "test": [
              0.1127597301
             ]
            },
            {
             "iteration": 87,
             "learn": [
              0.1178853917
             ],
             "passed_time": 33.19815809,
             "remaining_time": 4.527021557,
             "test": [
              0.1115370372
             ]
            },
            {
             "iteration": 88,
             "learn": [
              0.1164884363
             ],
             "passed_time": 33.61216804,
             "remaining_time": 4.154312904,
             "test": [
              0.1102821858
             ]
            },
            {
             "iteration": 89,
             "learn": [
              0.11507156
             ],
             "passed_time": 34.06351069,
             "remaining_time": 3.784834521,
             "test": [
              0.108795454
             ]
            },
            {
             "iteration": 90,
             "learn": [
              0.1141818279
             ],
             "passed_time": 34.37888642,
             "remaining_time": 3.400109646,
             "test": [
              0.1078505367
             ]
            },
            {
             "iteration": 91,
             "learn": [
              0.1125700748
             ],
             "passed_time": 34.80989982,
             "remaining_time": 3.02694781,
             "test": [
              0.1063575229
             ]
            },
            {
             "iteration": 92,
             "learn": [
              0.1115408353
             ],
             "passed_time": 35.16251431,
             "remaining_time": 2.646640862,
             "test": [
              0.1053661151
             ]
            },
            {
             "iteration": 93,
             "learn": [
              0.1102401936
             ],
             "passed_time": 35.61631792,
             "remaining_time": 2.273381995,
             "test": [
              0.1039864055
             ]
            },
            {
             "iteration": 94,
             "learn": [
              0.1093955303
             ],
             "passed_time": 35.99481362,
             "remaining_time": 1.894463875,
             "test": [
              0.1029627187
             ]
            },
            {
             "iteration": 95,
             "learn": [
              0.108453681
             ],
             "passed_time": 36.37206093,
             "remaining_time": 1.515502539,
             "test": [
              0.1019964022
             ]
            },
            {
             "iteration": 96,
             "learn": [
              0.1073328042
             ],
             "passed_time": 36.76180133,
             "remaining_time": 1.136962928,
             "test": [
              0.1009312331
             ]
            },
            {
             "iteration": 97,
             "learn": [
              0.1060625187
             ],
             "passed_time": 37.21570667,
             "remaining_time": 0.7595042177,
             "test": [
              0.09973263399
             ]
            },
            {
             "iteration": 98,
             "learn": [
              0.1052968754
             ],
             "passed_time": 37.5395472,
             "remaining_time": 0.3791873455,
             "test": [
              0.09892065762
             ]
            },
            {
             "iteration": 99,
             "learn": [
              0.104234296
             ],
             "passed_time": 37.92176846,
             "remaining_time": 0,
             "test": [
              0.09773904107
             ]
            }
           ],
           "meta": {
            "iteration_count": 100,
            "launch_mode": "Train",
            "learn_metrics": [
             {
              "best_value": "Min",
              "name": "CrossEntropy"
             }
            ],
            "learn_sets": [
             "learn"
            ],
            "name": "experiment",
            "parameters": "",
            "test_metrics": [
             {
              "best_value": "Min",
              "name": "CrossEntropy"
             }
            ],
            "test_sets": [
             "test"
            ]
           }
          },
          "passed_iterations": 99,
          "total_iterations": 100
         },
         "name": "catboost_info",
         "path": "catboost_info"
        }
       },
       "layout": "IPY_MODEL_70006eb48dbf4e4391ccb5a758717e40"
      }
     },
     "82714ce5baaa4d8f8c8bdb3a1f8211a6": {
      "model_module": "@jupyter-widgets/base",
      "model_module_version": "1.2.0",
      "model_name": "LayoutModel",
      "state": {
       "_model_module": "@jupyter-widgets/base",
       "_model_module_version": "1.2.0",
       "_model_name": "LayoutModel",
       "_view_count": null,
       "_view_module": "@jupyter-widgets/base",
       "_view_module_version": "1.2.0",
       "_view_name": "LayoutView",
       "align_content": null,
       "align_items": null,
       "align_self": "stretch",
       "border": null,
       "bottom": null,
       "display": null,
       "flex": null,
       "flex_flow": null,
       "grid_area": null,
       "grid_auto_columns": null,
       "grid_auto_flow": null,
       "grid_auto_rows": null,
       "grid_column": null,
       "grid_gap": null,
       "grid_row": null,
       "grid_template_areas": null,
       "grid_template_columns": null,
       "grid_template_rows": null,
       "height": "500px",
       "justify_content": null,
       "justify_items": null,
       "left": null,
       "margin": null,
       "max_height": null,
       "max_width": null,
       "min_height": null,
       "min_width": null,
       "object_fit": null,
       "object_position": null,
       "order": null,
       "overflow": null,
       "overflow_x": null,
       "overflow_y": null,
       "padding": null,
       "right": null,
       "top": null,
       "visibility": null,
       "width": null
      }
     },
     "8851bd593a55467db38b0c3c0c2bbd73": {
      "model_module": "@jupyter-widgets/base",
      "model_module_version": "1.2.0",
      "model_name": "LayoutModel",
      "state": {
       "_model_module": "@jupyter-widgets/base",
       "_model_module_version": "1.2.0",
       "_model_name": "LayoutModel",
       "_view_count": null,
       "_view_module": "@jupyter-widgets/base",
       "_view_module_version": "1.2.0",
       "_view_name": "LayoutView",
       "align_content": null,
       "align_items": null,
       "align_self": "stretch",
       "border": null,
       "bottom": null,
       "display": null,
       "flex": null,
       "flex_flow": null,
       "grid_area": null,
       "grid_auto_columns": null,
       "grid_auto_flow": null,
       "grid_auto_rows": null,
       "grid_column": null,
       "grid_gap": null,
       "grid_row": null,
       "grid_template_areas": null,
       "grid_template_columns": null,
       "grid_template_rows": null,
       "height": "500px",
       "justify_content": null,
       "justify_items": null,
       "left": null,
       "margin": null,
       "max_height": null,
       "max_width": null,
       "min_height": null,
       "min_width": null,
       "object_fit": null,
       "object_position": null,
       "order": null,
       "overflow": null,
       "overflow_x": null,
       "overflow_y": null,
       "padding": null,
       "right": null,
       "top": null,
       "visibility": null,
       "width": null
      }
     },
     "8b768c2cd1f845ca80531fb97cc74acf": {
      "model_module": "catboost-widget",
      "model_module_version": "^1.0.0",
      "model_name": "CatboostWidgetModel",
      "state": {
       "_dom_classes": [],
       "_model_module": "catboost-widget",
       "_model_module_version": "^1.0.0",
       "_model_name": "CatboostWidgetModel",
       "_view_count": null,
       "_view_module": "catboost-widget",
       "_view_module_version": "^1.0.0",
       "_view_name": "CatboostWidgetView",
       "data": {
        "catboost_info": {
         "content": {
          "data": {
           "iterations": [
            {
             "iteration": 0,
             "learn": [
              0.6692961391
             ],
             "passed_time": 0.4762090794,
             "remaining_time": 47.14469886,
             "test": [
              0.6701904379
             ]
            },
            {
             "iteration": 1,
             "learn": [
              0.648825482
             ],
             "passed_time": 0.8903018539,
             "remaining_time": 43.62479084,
             "test": [
              0.6485788408
             ]
            },
            {
             "iteration": 2,
             "learn": [
              0.6263849396
             ],
             "passed_time": 1.338123071,
             "remaining_time": 43.26597928,
             "test": [
              0.6278867169
             ]
            },
            {
             "iteration": 3,
             "learn": [
              0.6066153581
             ],
             "passed_time": 1.777236048,
             "remaining_time": 42.65366515,
             "test": [
              0.6086557552
             ]
            },
            {
             "iteration": 4,
             "learn": [
              0.5885377935
             ],
             "passed_time": 2.248004624,
             "remaining_time": 42.71208786,
             "test": [
              0.5904959208
             ]
            },
            {
             "iteration": 5,
             "learn": [
              0.571794965
             ],
             "passed_time": 2.841774231,
             "remaining_time": 44.52112962,
             "test": [
              0.5731962628
             ]
            },
            {
             "iteration": 6,
             "learn": [
              0.5539935435
             ],
             "passed_time": 3.474681788,
             "remaining_time": 46.16362946,
             "test": [
              0.5564592298
             ]
            },
            {
             "iteration": 7,
             "learn": [
              0.5383751431
             ],
             "passed_time": 3.917596018,
             "remaining_time": 45.05235421,
             "test": [
              0.5405781708
             ]
            },
            {
             "iteration": 8,
             "learn": [
              0.5234656949
             ],
             "passed_time": 4.284455118,
             "remaining_time": 43.32060174,
             "test": [
              0.5258238933
             ]
            },
            {
             "iteration": 9,
             "learn": [
              0.5083049178
             ],
             "passed_time": 4.680574882,
             "remaining_time": 42.12517394,
             "test": [
              0.5110214894
             ]
            },
            {
             "iteration": 10,
             "learn": [
              0.4933316994
             ],
             "passed_time": 5.078654919,
             "remaining_time": 41.09093525,
             "test": [
              0.4968419692
             ]
            },
            {
             "iteration": 11,
             "learn": [
              0.4790958514
             ],
             "passed_time": 5.486796832,
             "remaining_time": 40.2365101,
             "test": [
              0.4834853906
             ]
            },
            {
             "iteration": 12,
             "learn": [
              0.4667444206
             ],
             "passed_time": 5.863881719,
             "remaining_time": 39.24290073,
             "test": [
              0.4710503258
             ]
            },
            {
             "iteration": 13,
             "learn": [
              0.4546811098
             ],
             "passed_time": 6.257869183,
             "remaining_time": 38.44119641,
             "test": [
              0.4590250582
             ]
            },
            {
             "iteration": 14,
             "learn": [
              0.4427968342
             ],
             "passed_time": 6.673983827,
             "remaining_time": 37.81924169,
             "test": [
              0.4477699106
             ]
            },
            {
             "iteration": 15,
             "learn": [
              0.43170589
             ],
             "passed_time": 7.067521274,
             "remaining_time": 37.10448669,
             "test": [
              0.4368544595
             ]
            },
            {
             "iteration": 16,
             "learn": [
              0.4205203493
             ],
             "passed_time": 7.474225191,
             "remaining_time": 36.49180535,
             "test": [
              0.4257056409
             ]
            },
            {
             "iteration": 17,
             "learn": [
              0.4097940097
             ],
             "passed_time": 7.879135227,
             "remaining_time": 35.89383826,
             "test": [
              0.4156567967
             ]
            },
            {
             "iteration": 18,
             "learn": [
              0.4003182089
             ],
             "passed_time": 8.246538147,
             "remaining_time": 35.1562942,
             "test": [
              0.4058752184
             ]
            },
            {
             "iteration": 19,
             "learn": [
              0.3904421519
             ],
             "passed_time": 8.635634887,
             "remaining_time": 34.54253955,
             "test": [
              0.3966753505
             ]
            },
            {
             "iteration": 20,
             "learn": [
              0.3809372522
             ],
             "passed_time": 9.098738322,
             "remaining_time": 34.22858702,
             "test": [
              0.3872524454
             ]
            },
            {
             "iteration": 21,
             "learn": [
              0.3716281605
             ],
             "passed_time": 9.506607053,
             "remaining_time": 33.70524319,
             "test": [
              0.3781540382
             ]
            },
            {
             "iteration": 22,
             "learn": [
              0.3629677668
             ],
             "passed_time": 9.90602973,
             "remaining_time": 33.16366475,
             "test": [
              0.3698355356
             ]
            },
            {
             "iteration": 23,
             "learn": [
              0.3550960216
             ],
             "passed_time": 10.32026663,
             "remaining_time": 32.68084433,
             "test": [
              0.3620424673
             ]
            },
            {
             "iteration": 24,
             "learn": [
              0.3468576989
             ],
             "passed_time": 10.72305476,
             "remaining_time": 32.16916429,
             "test": [
              0.3539296029
             ]
            },
            {
             "iteration": 25,
             "learn": [
              0.3393759603
             ],
             "passed_time": 11.17036334,
             "remaining_time": 31.79257259,
             "test": [
              0.3466977716
             ]
            },
            {
             "iteration": 26,
             "learn": [
              0.331954942
             ],
             "passed_time": 11.58807231,
             "remaining_time": 31.33071403,
             "test": [
              0.3397761534
             ]
            },
            {
             "iteration": 27,
             "learn": [
              0.3246218126
             ],
             "passed_time": 12.09238063,
             "remaining_time": 31.09469304,
             "test": [
              0.3327622028
             ]
            },
            {
             "iteration": 28,
             "learn": [
              0.3177310594
             ],
             "passed_time": 12.47848614,
             "remaining_time": 30.55077641,
             "test": [
              0.3258193085
             ]
            },
            {
             "iteration": 29,
             "learn": [
              0.3112326157
             ],
             "passed_time": 12.8579389,
             "remaining_time": 30.00185742,
             "test": [
              0.3196758405
             ]
            },
            {
             "iteration": 30,
             "learn": [
              0.3049126837
             ],
             "passed_time": 13.29272719,
             "remaining_time": 29.58703795,
             "test": [
              0.3133482812
             ]
            },
            {
             "iteration": 31,
             "learn": [
              0.2990740979
             ],
             "passed_time": 13.66543763,
             "remaining_time": 29.03905496,
             "test": [
              0.3079061951
             ]
            },
            {
             "iteration": 32,
             "learn": [
              0.2930229023
             ],
             "passed_time": 14.0932628,
             "remaining_time": 28.61359417,
             "test": [
              0.3019112884
             ]
            },
            {
             "iteration": 33,
             "learn": [
              0.2868964095
             ],
             "passed_time": 14.53382973,
             "remaining_time": 28.21272829,
             "test": [
              0.2959442423
             ]
            },
            {
             "iteration": 34,
             "learn": [
              0.2813237453
             ],
             "passed_time": 15.0027493,
             "remaining_time": 27.86224869,
             "test": [
              0.2908918095
             ]
            },
            {
             "iteration": 35,
             "learn": [
              0.2757623735
             ],
             "passed_time": 15.41098574,
             "remaining_time": 27.39730798,
             "test": [
              0.2854851974
             ]
            },
            {
             "iteration": 36,
             "learn": [
              0.2703326993
             ],
             "passed_time": 15.82235661,
             "remaining_time": 26.94076937,
             "test": [
              0.280478107
             ]
            },
            {
             "iteration": 37,
             "learn": [
              0.2654681789
             ],
             "passed_time": 16.27714332,
             "remaining_time": 26.55744437,
             "test": [
              0.2758304926
             ]
            },
            {
             "iteration": 38,
             "learn": [
              0.260999339
             ],
             "passed_time": 16.64632143,
             "remaining_time": 26.03655404,
             "test": [
              0.2716168194
             ]
            },
            {
             "iteration": 39,
             "learn": [
              0.2559424514
             ],
             "passed_time": 17.07758525,
             "remaining_time": 25.61637788,
             "test": [
              0.2667726641
             ]
            },
            {
             "iteration": 40,
             "learn": [
              0.251331398
             ],
             "passed_time": 17.5514881,
             "remaining_time": 25.25701946,
             "test": [
              0.2625468009
             ]
            },
            {
             "iteration": 41,
             "learn": [
              0.2470940013
             ],
             "passed_time": 18.02773164,
             "remaining_time": 24.89543894,
             "test": [
              0.2583365497
             ]
            },
            {
             "iteration": 42,
             "learn": [
              0.242497689
             ],
             "passed_time": 18.49946232,
             "remaining_time": 24.52254308,
             "test": [
              0.253725034
             ]
            },
            {
             "iteration": 43,
             "learn": [
              0.2387219721
             ],
             "passed_time": 18.8754372,
             "remaining_time": 24.02328371,
             "test": [
              0.2503053181
             ]
            },
            {
             "iteration": 44,
             "learn": [
              0.2346656471
             ],
             "passed_time": 19.33073907,
             "remaining_time": 23.62645886,
             "test": [
              0.2465923018
             ]
            },
            {
             "iteration": 45,
             "learn": [
              0.2306083824
             ],
             "passed_time": 19.74754935,
             "remaining_time": 23.18190575,
             "test": [
              0.2427405262
             ]
            },
            {
             "iteration": 46,
             "learn": [
              0.2269791435
             ],
             "passed_time": 20.24246542,
             "remaining_time": 22.82660994,
             "test": [
              0.2393738091
             ]
            },
            {
             "iteration": 47,
             "learn": [
              0.2235120758
             ],
             "passed_time": 20.62200601,
             "remaining_time": 22.34050651,
             "test": [
              0.2363185156
             ]
            },
            {
             "iteration": 48,
             "learn": [
              0.2199997421
             ],
             "passed_time": 21.06860959,
             "remaining_time": 21.92855283,
             "test": [
              0.2330036513
             ]
            },
            {
             "iteration": 49,
             "learn": [
              0.2161774445
             ],
             "passed_time": 21.48969456,
             "remaining_time": 21.48969456,
             "test": [
              0.2294935844
             ]
            },
            {
             "iteration": 50,
             "learn": [
              0.2131304922
             ],
             "passed_time": 21.89792496,
             "remaining_time": 21.03918281,
             "test": [
              0.2263488925
             ]
            },
            {
             "iteration": 51,
             "learn": [
              0.2097131371
             ],
             "passed_time": 22.32979518,
             "remaining_time": 20.61211863,
             "test": [
              0.2229420191
             ]
            },
            {
             "iteration": 52,
             "learn": [
              0.2064743623
             ],
             "passed_time": 22.74802655,
             "remaining_time": 20.17277826,
             "test": [
              0.2196307871
             ]
            },
            {
             "iteration": 53,
             "learn": [
              0.2033461386
             ],
             "passed_time": 23.17843434,
             "remaining_time": 19.74459221,
             "test": [
              0.2164079925
             ]
            },
            {
             "iteration": 54,
             "learn": [
              0.200167275
             ],
             "passed_time": 23.6058972,
             "remaining_time": 19.31391589,
             "test": [
              0.2132907235
             ]
            },
            {
             "iteration": 55,
             "learn": [
              0.1974671734
             ],
             "passed_time": 24.00383179,
             "remaining_time": 18.86015355,
             "test": [
              0.2103032675
             ]
            },
            {
             "iteration": 56,
             "learn": [
              0.1943708125
             ],
             "passed_time": 24.41109398,
             "remaining_time": 18.41538669,
             "test": [
              0.2073355182
             ]
            },
            {
             "iteration": 57,
             "learn": [
              0.1918135555
             ],
             "passed_time": 24.79146826,
             "remaining_time": 17.95244253,
             "test": [
              0.2047208006
             ]
            },
            {
             "iteration": 58,
             "learn": [
              0.1890188609
             ],
             "passed_time": 25.19493087,
             "remaining_time": 17.50834179,
             "test": [
              0.2019259167
             ]
            },
            {
             "iteration": 59,
             "learn": [
              0.186662985
             ],
             "passed_time": 25.56061303,
             "remaining_time": 17.04040869,
             "test": [
              0.1996218717
             ]
            },
            {
             "iteration": 60,
             "learn": [
              0.1838008039
             ],
             "passed_time": 26.04233233,
             "remaining_time": 16.65001575,
             "test": [
              0.196595106
             ]
            },
            {
             "iteration": 61,
             "learn": [
              0.1812150879
             ],
             "passed_time": 26.45890285,
             "remaining_time": 16.21674691,
             "test": [
              0.1940248048
             ]
            },
            {
             "iteration": 62,
             "learn": [
              0.1789376039
             ],
             "passed_time": 26.88222552,
             "remaining_time": 15.78797372,
             "test": [
              0.1917914491
             ]
            },
            {
             "iteration": 63,
             "learn": [
              0.1768366416
             ],
             "passed_time": 27.24528063,
             "remaining_time": 15.32547035,
             "test": [
              0.189625339
             ]
            },
            {
             "iteration": 64,
             "learn": [
              0.174524643
             ],
             "passed_time": 27.649859,
             "remaining_time": 14.88838561,
             "test": [
              0.1872750304
             ]
            },
            {
             "iteration": 65,
             "learn": [
              0.1722026536
             ],
             "passed_time": 28.05895577,
             "remaining_time": 14.45461358,
             "test": [
              0.1850450956
             ]
            },
            {
             "iteration": 66,
             "learn": [
              0.1699098799
             ],
             "passed_time": 28.5089099,
             "remaining_time": 14.04170189,
             "test": [
              0.182628209
             ]
            },
            {
             "iteration": 67,
             "learn": [
              0.1674794177
             ],
             "passed_time": 28.99517636,
             "remaining_time": 13.64478887,
             "test": [
              0.1800126418
             ]
            },
            {
             "iteration": 68,
             "learn": [
              0.1654944223
             ],
             "passed_time": 29.38262181,
             "remaining_time": 13.20088806,
             "test": [
              0.1782732826
             ]
            },
            {
             "iteration": 69,
             "learn": [
              0.1630760872
             ],
             "passed_time": 29.89451543,
             "remaining_time": 12.81193518,
             "test": [
              0.1749905124
             ]
            },
            {
             "iteration": 70,
             "learn": [
              0.1611331429
             ],
             "passed_time": 30.3164389,
             "remaining_time": 12.38277082,
             "test": [
              0.1733062285
             ]
            },
            {
             "iteration": 71,
             "learn": [
              0.1589697371
             ],
             "passed_time": 30.8049468,
             "remaining_time": 11.97970153,
             "test": [
              0.170967908
             ]
            },
            {
             "iteration": 72,
             "learn": [
              0.1569233414
             ],
             "passed_time": 31.31011576,
             "remaining_time": 11.58045377,
             "test": [
              0.1689626579
             ]
            },
            {
             "iteration": 73,
             "learn": [
              0.1552823206
             ],
             "passed_time": 31.70080687,
             "remaining_time": 11.13812133,
             "test": [
              0.1674167705
             ]
            },
            {
             "iteration": 74,
             "learn": [
              0.1537339456
             ],
             "passed_time": 32.05278672,
             "remaining_time": 10.68426224,
             "test": [
              0.165907173
             ]
            },
            {
             "iteration": 75,
             "learn": [
              0.1519835278
             ],
             "passed_time": 32.52383166,
             "remaining_time": 10.27068368,
             "test": [
              0.1639037074
             ]
            },
            {
             "iteration": 76,
             "learn": [
              0.1500363082
             ],
             "passed_time": 32.99942251,
             "remaining_time": 9.856970361,
             "test": [
              0.1615938017
             ]
            },
            {
             "iteration": 77,
             "learn": [
              0.1486247059
             ],
             "passed_time": 33.36329794,
             "remaining_time": 9.410160957,
             "test": [
              0.1602164987
             ]
            },
            {
             "iteration": 78,
             "learn": [
              0.1467588772
             ],
             "passed_time": 33.85181366,
             "remaining_time": 8.998583378,
             "test": [
              0.1583590238
             ]
            },
            {
             "iteration": 79,
             "learn": [
              0.144803531
             ],
             "passed_time": 34.42168506,
             "remaining_time": 8.605421264,
             "test": [
              0.1564666483
             ]
            },
            {
             "iteration": 80,
             "learn": [
              0.1432092678
             ],
             "passed_time": 35.01265637,
             "remaining_time": 8.212845321,
             "test": [
              0.1548919143
             ]
            },
            {
             "iteration": 81,
             "learn": [
              0.1416374003
             ],
             "passed_time": 35.65450755,
             "remaining_time": 7.826599219,
             "test": [
              0.1532636741
             ]
            },
            {
             "iteration": 82,
             "learn": [
              0.1397919467
             ],
             "passed_time": 36.13015596,
             "remaining_time": 7.400152427,
             "test": [
              0.1513838935
             ]
            },
            {
             "iteration": 83,
             "learn": [
              0.1382996585
             ],
             "passed_time": 36.57220191,
             "remaining_time": 6.966133696,
             "test": [
              0.1499726215
             ]
            },
            {
             "iteration": 84,
             "learn": [
              0.1367559751
             ],
             "passed_time": 37.00100741,
             "remaining_time": 6.529589543,
             "test": [
              0.1486077477
             ]
            },
            {
             "iteration": 85,
             "learn": [
              0.1355910372
             ],
             "passed_time": 37.41141689,
             "remaining_time": 6.090230657,
             "test": [
              0.1473532215
             ]
            },
            {
             "iteration": 86,
             "learn": [
              0.1340592521
             ],
             "passed_time": 37.84614976,
             "remaining_time": 5.655171803,
             "test": [
              0.145605644
             ]
            },
            {
             "iteration": 87,
             "learn": [
              0.1326456992
             ],
             "passed_time": 38.22807728,
             "remaining_time": 5.212919629,
             "test": [
              0.1442000505
             ]
            },
            {
             "iteration": 88,
             "learn": [
              0.1315950284
             ],
             "passed_time": 38.58453856,
             "remaining_time": 4.768875552,
             "test": [
              0.1429575912
             ]
            },
            {
             "iteration": 89,
             "learn": [
              0.1303850511
             ],
             "passed_time": 38.97083531,
             "remaining_time": 4.330092813,
             "test": [
              0.1419172713
             ]
            },
            {
             "iteration": 90,
             "learn": [
              0.1291861946
             ],
             "passed_time": 39.42586075,
             "remaining_time": 3.899260954,
             "test": [
              0.1407547504
             ]
            },
            {
             "iteration": 91,
             "learn": [
              0.1280257662
             ],
             "passed_time": 39.82047712,
             "remaining_time": 3.462650184,
             "test": [
              0.1395783393
             ]
            },
            {
             "iteration": 92,
             "learn": [
              0.1268027641
             ],
             "passed_time": 40.26237441,
             "remaining_time": 3.0305013,
             "test": [
              0.1383987699
             ]
            },
            {
             "iteration": 93,
             "learn": [
              0.1256229261
             ],
             "passed_time": 40.71298815,
             "remaining_time": 2.598701371,
             "test": [
              0.1372756988
             ]
            },
            {
             "iteration": 94,
             "learn": [
              0.124632795
             ],
             "passed_time": 41.08779853,
             "remaining_time": 2.162515712,
             "test": [
              0.1362578843
             ]
            },
            {
             "iteration": 95,
             "learn": [
              0.1232327949
             ],
             "passed_time": 41.57017365,
             "remaining_time": 1.732090569,
             "test": [
              0.134661163
             ]
            },
            {
             "iteration": 96,
             "learn": [
              0.1222025838
             ],
             "passed_time": 42.03103974,
             "remaining_time": 1.299929064,
             "test": [
              0.1335244812
             ]
            },
            {
             "iteration": 97,
             "learn": [
              0.121095224
             ],
             "passed_time": 42.44687811,
             "remaining_time": 0.8662628186,
             "test": [
              0.1325522554
             ]
            },
            {
             "iteration": 98,
             "learn": [
              0.1199943756
             ],
             "passed_time": 42.88193502,
             "remaining_time": 0.4331508588,
             "test": [
              0.1314562339
             ]
            },
            {
             "iteration": 99,
             "learn": [
              0.1187324491
             ],
             "passed_time": 43.37672873,
             "remaining_time": 0,
             "test": [
              0.1299630538
             ]
            }
           ],
           "meta": {
            "iteration_count": 100,
            "launch_mode": "Train",
            "learn_metrics": [
             {
              "best_value": "Min",
              "name": "CrossEntropy"
             }
            ],
            "learn_sets": [
             "learn"
            ],
            "name": "experiment",
            "parameters": "",
            "test_metrics": [
             {
              "best_value": "Min",
              "name": "CrossEntropy"
             }
            ],
            "test_sets": [
             "test"
            ]
           }
          },
          "passed_iterations": 99,
          "total_iterations": 100
         },
         "name": "catboost_info",
         "path": "catboost_info"
        }
       },
       "layout": "IPY_MODEL_be5462c5cfa04e3881e3424e88b8beb1"
      }
     },
     "94a1a01af9314ca3a4e833d0be7c5cda": {
      "model_module": "@jupyter-widgets/base",
      "model_module_version": "1.2.0",
      "model_name": "LayoutModel",
      "state": {
       "_model_module": "@jupyter-widgets/base",
       "_model_module_version": "1.2.0",
       "_model_name": "LayoutModel",
       "_view_count": null,
       "_view_module": "@jupyter-widgets/base",
       "_view_module_version": "1.2.0",
       "_view_name": "LayoutView",
       "align_content": null,
       "align_items": null,
       "align_self": "stretch",
       "border": null,
       "bottom": null,
       "display": null,
       "flex": null,
       "flex_flow": null,
       "grid_area": null,
       "grid_auto_columns": null,
       "grid_auto_flow": null,
       "grid_auto_rows": null,
       "grid_column": null,
       "grid_gap": null,
       "grid_row": null,
       "grid_template_areas": null,
       "grid_template_columns": null,
       "grid_template_rows": null,
       "height": "500px",
       "justify_content": null,
       "justify_items": null,
       "left": null,
       "margin": null,
       "max_height": null,
       "max_width": null,
       "min_height": null,
       "min_width": null,
       "object_fit": null,
       "object_position": null,
       "order": null,
       "overflow": null,
       "overflow_x": null,
       "overflow_y": null,
       "padding": null,
       "right": null,
       "top": null,
       "visibility": null,
       "width": null
      }
     },
     "96ab4dc7f66d4956a1f8c67f9e1211eb": {
      "model_module": "catboost-widget",
      "model_module_version": "^1.0.0",
      "model_name": "CatboostWidgetModel",
      "state": {
       "_dom_classes": [],
       "_model_module": "catboost-widget",
       "_model_module_version": "^1.0.0",
       "_model_name": "CatboostWidgetModel",
       "_view_count": null,
       "_view_module": "catboost-widget",
       "_view_module_version": "^1.0.0",
       "_view_name": "CatboostWidgetView",
       "data": {
        "catboost_info": {
         "content": {
          "data": {
           "iterations": [
            {
             "iteration": 0,
             "learn": [
              0.6619803512
             ],
             "passed_time": 0.4404977429,
             "remaining_time": 43.60927655,
             "test": [
              0.6642040943
             ]
            },
            {
             "iteration": 1,
             "learn": [
              0.6372506378
             ],
             "passed_time": 0.9231655476,
             "remaining_time": 45.23511183,
             "test": [
              0.6370255171
             ]
            },
            {
             "iteration": 2,
             "learn": [
              0.6109206769
             ],
             "passed_time": 1.430122586,
             "remaining_time": 46.24063028,
             "test": [
              0.6112261727
             ]
            },
            {
             "iteration": 3,
             "learn": [
              0.5860896423
             ],
             "passed_time": 1.890822793,
             "remaining_time": 45.37974704,
             "test": [
              0.5870034346
             ]
            },
            {
             "iteration": 4,
             "learn": [
              0.5648168588
             ],
             "passed_time": 2.342047678,
             "remaining_time": 44.49890587,
             "test": [
              0.5639454169
             ]
            },
            {
             "iteration": 5,
             "learn": [
              0.5423969103
             ],
             "passed_time": 2.777891729,
             "remaining_time": 43.52030376,
             "test": [
              0.5420978453
             ]
            },
            {
             "iteration": 6,
             "learn": [
              0.520778664
             ],
             "passed_time": 3.217931116,
             "remaining_time": 42.7525134,
             "test": [
              0.5214034232
             ]
            },
            {
             "iteration": 7,
             "learn": [
              0.5030435497
             ],
             "passed_time": 3.682355385,
             "remaining_time": 42.34708693,
             "test": [
              0.5016695743
             ]
            },
            {
             "iteration": 8,
             "learn": [
              0.4834827506
             ],
             "passed_time": 4.143571038,
             "remaining_time": 41.89610716,
             "test": [
              0.4829455736
             ]
            },
            {
             "iteration": 9,
             "learn": [
              0.4655796898
             ],
             "passed_time": 4.58884876,
             "remaining_time": 41.29963884,
             "test": [
              0.464971866
             ]
            },
            {
             "iteration": 10,
             "learn": [
              0.4493698815
             ],
             "passed_time": 5.023559835,
             "remaining_time": 40.64516594,
             "test": [
              0.4479193871
             ]
            },
            {
             "iteration": 11,
             "learn": [
              0.4331310134
             ],
             "passed_time": 5.48863359,
             "remaining_time": 40.24997966,
             "test": [
              0.4319384957
             ]
            },
            {
             "iteration": 12,
             "learn": [
              0.4176911067
             ],
             "passed_time": 5.968713331,
             "remaining_time": 39.94446614,
             "test": [
              0.4163644274
             ]
            },
            {
             "iteration": 13,
             "learn": [
              0.4028419384
             ],
             "passed_time": 6.42146697,
             "remaining_time": 39.44615425,
             "test": [
              0.4016501411
             ]
            },
            {
             "iteration": 14,
             "learn": [
              0.3885927951
             ],
             "passed_time": 6.9281382,
             "remaining_time": 39.2594498,
             "test": [
              0.3874595199
             ]
            },
            {
             "iteration": 15,
             "learn": [
              0.3743124363
             ],
             "passed_time": 7.384532342,
             "remaining_time": 38.7687948,
             "test": [
              0.3739182118
             ]
            },
            {
             "iteration": 16,
             "learn": [
              0.3618366488
             ],
             "passed_time": 7.824130424,
             "remaining_time": 38.20016619,
             "test": [
              0.3610210472
             ]
            },
            {
             "iteration": 17,
             "learn": [
              0.3501703835
             ],
             "passed_time": 8.259700919,
             "remaining_time": 37.62752641,
             "test": [
              0.3486822314
             ]
            },
            {
             "iteration": 18,
             "learn": [
              0.3378609815
             ],
             "passed_time": 8.655864357,
             "remaining_time": 36.90131647,
             "test": [
              0.3368514174
             ]
            },
            {
             "iteration": 19,
             "learn": [
              0.327217571
             ],
             "passed_time": 9.087568814,
             "remaining_time": 36.35027526,
             "test": [
              0.3255918305
             ]
            },
            {
             "iteration": 20,
             "learn": [
              0.3159365889
             ],
             "passed_time": 9.540490839,
             "remaining_time": 35.89041792,
             "test": [
              0.314827195
             ]
            },
            {
             "iteration": 21,
             "learn": [
              0.3053496106
             ],
             "passed_time": 9.977185149,
             "remaining_time": 35.37365644,
             "test": [
              0.3044971478
             ]
            },
            {
             "iteration": 22,
             "learn": [
              0.2954734602
             ],
             "passed_time": 10.41123483,
             "remaining_time": 34.85500356,
             "test": [
              0.2944294014
             ]
            },
            {
             "iteration": 23,
             "learn": [
              0.2859766712
             ],
             "passed_time": 10.86781042,
             "remaining_time": 34.41473301,
             "test": [
              0.2848918648
             ]
            },
            {
             "iteration": 24,
             "learn": [
              0.276432447
             ],
             "passed_time": 11.34316583,
             "remaining_time": 34.02949749,
             "test": [
              0.2754444137
             ]
            },
            {
             "iteration": 25,
             "learn": [
              0.2671713081
             ],
             "passed_time": 11.78458433,
             "remaining_time": 33.54074002,
             "test": [
              0.2664553763
             ]
            },
            {
             "iteration": 26,
             "learn": [
              0.2590578288
             ],
             "passed_time": 12.29164055,
             "remaining_time": 33.23295409,
             "test": [
              0.2578905636
             ]
            },
            {
             "iteration": 27,
             "learn": [
              0.2510188791
             ],
             "passed_time": 12.73096943,
             "remaining_time": 32.73677855,
             "test": [
              0.2495692794
             ]
            },
            {
             "iteration": 28,
             "learn": [
              0.2430182294
             ],
             "passed_time": 13.229832,
             "remaining_time": 32.39027834,
             "test": [
              0.2415243248
             ]
            },
            {
             "iteration": 29,
             "learn": [
              0.2352784523
             ],
             "passed_time": 13.67548091,
             "remaining_time": 31.90945546,
             "test": [
              0.2337453034
             ]
            },
            {
             "iteration": 30,
             "learn": [
              0.2277386276
             ],
             "passed_time": 14.13945329,
             "remaining_time": 31.47168637,
             "test": [
              0.2263402516
             ]
            },
            {
             "iteration": 31,
             "learn": [
              0.2204782111
             ],
             "passed_time": 14.58060998,
             "remaining_time": 30.98379621,
             "test": [
              0.219127304
             ]
            },
            {
             "iteration": 32,
             "learn": [
              0.2133686204
             ],
             "passed_time": 14.98874081,
             "remaining_time": 30.43168588,
             "test": [
              0.2123542217
             ]
            },
            {
             "iteration": 33,
             "learn": [
              0.2069132112
             ],
             "passed_time": 15.49271526,
             "remaining_time": 30.07409434,
             "test": [
              0.2058699483
             ]
            },
            {
             "iteration": 34,
             "learn": [
              0.2009561055
             ],
             "passed_time": 15.93907608,
             "remaining_time": 29.60114129,
             "test": [
              0.1994337154
             ]
            },
            {
             "iteration": 35,
             "learn": [
              0.1944905991
             ],
             "passed_time": 16.41581295,
             "remaining_time": 29.18366747,
             "test": [
              0.1933391056
             ]
            },
            {
             "iteration": 36,
             "learn": [
              0.188816917
             ],
             "passed_time": 17.07538205,
             "remaining_time": 29.07429916,
             "test": [
              0.1874366941
             ]
            },
            {
             "iteration": 37,
             "learn": [
              0.1828894273
             ],
             "passed_time": 17.68583219,
             "remaining_time": 28.85583146,
             "test": [
              0.1817110234
             ]
            },
            {
             "iteration": 38,
             "learn": [
              0.177778521
             ],
             "passed_time": 18.22764421,
             "remaining_time": 28.50990505,
             "test": [
              0.1763041431
             ]
            },
            {
             "iteration": 39,
             "learn": [
              0.1720742051
             ],
             "passed_time": 18.69561119,
             "remaining_time": 28.04341678,
             "test": [
              0.1708448917
             ]
            },
            {
             "iteration": 40,
             "learn": [
              0.1668484773
             ],
             "passed_time": 19.13891191,
             "remaining_time": 27.54136105,
             "test": [
              0.1656389704
             ]
            },
            {
             "iteration": 41,
             "learn": [
              0.1621160223
             ],
             "passed_time": 19.60206742,
             "remaining_time": 27.06952168,
             "test": [
              0.1605418701
             ]
            },
            {
             "iteration": 42,
             "learn": [
              0.15721932
             ],
             "passed_time": 20.02810516,
             "remaining_time": 26.54888358,
             "test": [
              0.1558082373
             ]
            },
            {
             "iteration": 43,
             "learn": [
              0.1526055675
             ],
             "passed_time": 20.48762582,
             "remaining_time": 26.07516014,
             "test": [
              0.151259538
             ]
            },
            {
             "iteration": 44,
             "learn": [
              0.1480081329
             ],
             "passed_time": 20.96481612,
             "remaining_time": 25.62366415,
             "test": [
              0.1469314307
             ]
            },
            {
             "iteration": 45,
             "learn": [
              0.14366653
             ],
             "passed_time": 21.42462191,
             "remaining_time": 25.15064311,
             "test": [
              0.1425451861
             ]
            },
            {
             "iteration": 46,
             "learn": [
              0.1395285136
             ],
             "passed_time": 21.91635452,
             "remaining_time": 24.71418701,
             "test": [
              0.1382474332
             ]
            },
            {
             "iteration": 47,
             "learn": [
              0.1355929928
             ],
             "passed_time": 22.35635816,
             "remaining_time": 24.219388,
             "test": [
              0.134162261
             ]
            },
            {
             "iteration": 48,
             "learn": [
              0.131708413
             ],
             "passed_time": 22.85298961,
             "remaining_time": 23.7857647,
             "test": [
              0.1301893282
             ]
            },
            {
             "iteration": 49,
             "learn": [
              0.1278694618
             ],
             "passed_time": 23.34139309,
             "remaining_time": 23.34139309,
             "test": [
              0.1264005609
             ]
            },
            {
             "iteration": 50,
             "learn": [
              0.1241576603
             ],
             "passed_time": 23.77712445,
             "remaining_time": 22.8446882,
             "test": [
              0.1227687888
             ]
            },
            {
             "iteration": 51,
             "learn": [
              0.1206774705
             ],
             "passed_time": 24.18921911,
             "remaining_time": 22.32850995,
             "test": [
              0.1191879529
             ]
            },
            {
             "iteration": 52,
             "learn": [
              0.1173633359
             ],
             "passed_time": 24.60044328,
             "remaining_time": 21.81548744,
             "test": [
              0.1158236347
             ]
            },
            {
             "iteration": 53,
             "learn": [
              0.11415245
             ],
             "passed_time": 25.06514409,
             "remaining_time": 21.35178941,
             "test": [
              0.1125180404
             ]
            },
            {
             "iteration": 54,
             "learn": [
              0.1107888974
             ],
             "passed_time": 25.49949311,
             "remaining_time": 20.86322164,
             "test": [
              0.1093202417
             ]
            },
            {
             "iteration": 55,
             "learn": [
              0.1078693331
             ],
             "passed_time": 25.92705626,
             "remaining_time": 20.37125849,
             "test": [
              0.1062627452
             ]
            },
            {
             "iteration": 56,
             "learn": [
              0.1047031173
             ],
             "passed_time": 26.41286375,
             "remaining_time": 19.92549371,
             "test": [
              0.103140408
             ]
            },
            {
             "iteration": 57,
             "learn": [
              0.1019308077
             ],
             "passed_time": 26.85072031,
             "remaining_time": 19.44362505,
             "test": [
              0.1003402857
             ]
            },
            {
             "iteration": 58,
             "learn": [
              0.09904211225
             ],
             "passed_time": 27.33433149,
             "remaining_time": 18.99504392,
             "test": [
              0.09744174232
             ]
            },
            {
             "iteration": 59,
             "learn": [
              0.09641178539
             ],
             "passed_time": 27.79822255,
             "remaining_time": 18.53214837,
             "test": [
              0.09472146806
             ]
            },
            {
             "iteration": 60,
             "learn": [
              0.09375352385
             ],
             "passed_time": 28.26230427,
             "remaining_time": 18.06934208,
             "test": [
              0.09218231779
             ]
            },
            {
             "iteration": 61,
             "learn": [
              0.09107361656
             ],
             "passed_time": 28.74539273,
             "remaining_time": 17.61814393,
             "test": [
              0.08951122657
             ]
            },
            {
             "iteration": 62,
             "learn": [
              0.08874689178
             ],
             "passed_time": 29.16662272,
             "remaining_time": 17.12960382,
             "test": [
              0.087147046
             ]
            },
            {
             "iteration": 63,
             "learn": [
              0.08632917335
             ],
             "passed_time": 29.6185093,
             "remaining_time": 16.66041148,
             "test": [
              0.08479323228
             ]
            },
            {
             "iteration": 64,
             "learn": [
              0.08386888121
             ],
             "passed_time": 30.08223839,
             "remaining_time": 16.19812837,
             "test": [
              0.08231618843
             ]
            },
            {
             "iteration": 65,
             "learn": [
              0.08158856636
             ],
             "passed_time": 30.55931578,
             "remaining_time": 15.74267782,
             "test": [
              0.08005596739
             ]
            },
            {
             "iteration": 66,
             "learn": [
              0.07932140506
             ],
             "passed_time": 31.00061747,
             "remaining_time": 15.26896084,
             "test": [
              0.07776020184
             ]
            },
            {
             "iteration": 67,
             "learn": [
              0.077226516
             ],
             "passed_time": 31.46583936,
             "remaining_time": 14.80745382,
             "test": [
              0.07568994984
             ]
            },
            {
             "iteration": 68,
             "learn": [
              0.07518254294
             ],
             "passed_time": 31.93866105,
             "remaining_time": 14.34925351,
             "test": [
              0.07363962942
             ]
            },
            {
             "iteration": 69,
             "learn": [
              0.07319960665
             ],
             "passed_time": 32.38839834,
             "remaining_time": 13.88074215,
             "test": [
              0.07155150306
             ]
            },
            {
             "iteration": 70,
             "learn": [
              0.07125297954
             ],
             "passed_time": 32.86000248,
             "remaining_time": 13.42169116,
             "test": [
              0.06959515598
             ]
            },
            {
             "iteration": 71,
             "learn": [
              0.06936900578
             ],
             "passed_time": 33.3321377,
             "remaining_time": 12.96249799,
             "test": [
              0.06762873109
             ]
            },
            {
             "iteration": 72,
             "learn": [
              0.06750090853
             ],
             "passed_time": 33.81103939,
             "remaining_time": 12.50545292,
             "test": [
              0.06574664204
             ]
            },
            {
             "iteration": 73,
             "learn": [
              0.06576108623
             ],
             "passed_time": 34.32999465,
             "remaining_time": 12.06189001,
             "test": [
              0.0639025791
             ]
            },
            {
             "iteration": 74,
             "learn": [
              0.0640875584
             ],
             "passed_time": 34.79876942,
             "remaining_time": 11.59958981,
             "test": [
              0.06220911104
             ]
            },
            {
             "iteration": 75,
             "learn": [
              0.06236628917
             ],
             "passed_time": 35.23115831,
             "remaining_time": 11.12562894,
             "test": [
              0.06048192509
             ]
            },
            {
             "iteration": 76,
             "learn": [
              0.06085345208
             ],
             "passed_time": 35.67451916,
             "remaining_time": 10.6560252,
             "test": [
              0.05893892923
             ]
            },
            {
             "iteration": 77,
             "learn": [
              0.0592313136
             ],
             "passed_time": 36.12117589,
             "remaining_time": 10.18802397,
             "test": [
              0.05729563675
             ]
            },
            {
             "iteration": 78,
             "learn": [
              0.05767841906
             ],
             "passed_time": 36.569998,
             "remaining_time": 9.721138708,
             "test": [
              0.05571464004
             ]
            },
            {
             "iteration": 79,
             "learn": [
              0.05626194861
             ],
             "passed_time": 36.9987008,
             "remaining_time": 9.2496752,
             "test": [
              0.05434566189
             ]
            },
            {
             "iteration": 80,
             "learn": [
              0.0549622174
             ],
             "passed_time": 37.42312322,
             "remaining_time": 8.77826347,
             "test": [
              0.05303656723
             ]
            },
            {
             "iteration": 81,
             "learn": [
              0.05354129288
             ],
             "passed_time": 37.84141521,
             "remaining_time": 8.306652118,
             "test": [
              0.05158655722
             ]
            },
            {
             "iteration": 82,
             "learn": [
              0.05216729022
             ],
             "passed_time": 38.3073566,
             "remaining_time": 7.846085086,
             "test": [
              0.05014254931
             ]
            },
            {
             "iteration": 83,
             "learn": [
              0.05095033095
             ],
             "passed_time": 38.75199459,
             "remaining_time": 7.381332304,
             "test": [
              0.04891323514
             ]
            },
            {
             "iteration": 84,
             "learn": [
              0.04969591188
             ],
             "passed_time": 39.21264152,
             "remaining_time": 6.919877916,
             "test": [
              0.04774256177
             ]
            },
            {
             "iteration": 85,
             "learn": [
              0.04846130023
             ],
             "passed_time": 39.64996734,
             "remaining_time": 6.454645846,
             "test": [
              0.04644611356
             ]
            },
            {
             "iteration": 86,
             "learn": [
              0.04731818703
             ],
             "passed_time": 40.08845516,
             "remaining_time": 5.990228932,
             "test": [
              0.04533521112
             ]
            },
            {
             "iteration": 87,
             "learn": [
              0.04623986327
             ],
             "passed_time": 40.52933627,
             "remaining_time": 5.526727674,
             "test": [
              0.04426906621
             ]
            },
            {
             "iteration": 88,
             "learn": [
              0.04509932145
             ],
             "passed_time": 40.96466411,
             "remaining_time": 5.063048373,
             "test": [
              0.04307045986
             ]
            },
            {
             "iteration": 89,
             "learn": [
              0.04401492777
             ],
             "passed_time": 41.42411639,
             "remaining_time": 4.602679599,
             "test": [
              0.04190517698
             ]
            },
            {
             "iteration": 90,
             "learn": [
              0.04302069708
             ],
             "passed_time": 41.85712604,
             "remaining_time": 4.139715762,
             "test": [
              0.04094122507
             ]
            },
            {
             "iteration": 91,
             "learn": [
              0.04198117543
             ],
             "passed_time": 42.33131673,
             "remaining_time": 3.680984064,
             "test": [
              0.03991295354
             ]
            },
            {
             "iteration": 92,
             "learn": [
              0.04097572435
             ],
             "passed_time": 42.768291,
             "remaining_time": 3.219118677,
             "test": [
              0.03887965026
             ]
            },
            {
             "iteration": 93,
             "learn": [
              0.03999937288
             ],
             "passed_time": 43.23127886,
             "remaining_time": 2.759443331,
             "test": [
              0.03791439657
             ]
            },
            {
             "iteration": 94,
             "learn": [
              0.03902838739
             ],
             "passed_time": 43.66788809,
             "remaining_time": 2.298309899,
             "test": [
              0.03691237728
             ]
            },
            {
             "iteration": 95,
             "learn": [
              0.03817026263
             ],
             "passed_time": 44.13165149,
             "remaining_time": 1.838818812,
             "test": [
              0.03608343226
             ]
            },
            {
             "iteration": 96,
             "learn": [
              0.03724454839
             ],
             "passed_time": 44.56099657,
             "remaining_time": 1.378175152,
             "test": [
              0.03516798649
             ]
            },
            {
             "iteration": 97,
             "learn": [
              0.03638064172
             ],
             "passed_time": 45.06434261,
             "remaining_time": 0.9196804615,
             "test": [
              0.03422889478
             ]
            },
            {
             "iteration": 98,
             "learn": [
              0.03561432368
             ],
             "passed_time": 45.53383783,
             "remaining_time": 0.4599377558,
             "test": [
              0.03347305022
             ]
            },
            {
             "iteration": 99,
             "learn": [
              0.03483120035
             ],
             "passed_time": 45.99539989,
             "remaining_time": 0,
             "test": [
              0.03271545689
             ]
            }
           ],
           "meta": {
            "iteration_count": 100,
            "launch_mode": "Train",
            "learn_metrics": [
             {
              "best_value": "Min",
              "name": "CrossEntropy"
             }
            ],
            "learn_sets": [
             "learn"
            ],
            "name": "experiment",
            "parameters": "",
            "test_metrics": [
             {
              "best_value": "Min",
              "name": "CrossEntropy"
             }
            ],
            "test_sets": [
             "test"
            ]
           }
          },
          "passed_iterations": 99,
          "total_iterations": 100
         },
         "name": "catboost_info",
         "path": "catboost_info"
        }
       },
       "layout": "IPY_MODEL_2cd8478829ec469497f1728a021ce7df"
      }
     },
     "98e4100bf07848d597a1073c6cb56db8": {
      "model_module": "catboost-widget",
      "model_module_version": "^1.0.0",
      "model_name": "CatboostWidgetModel",
      "state": {
       "_dom_classes": [],
       "_model_module": "catboost-widget",
       "_model_module_version": "^1.0.0",
       "_model_name": "CatboostWidgetModel",
       "_view_count": null,
       "_view_module": "catboost-widget",
       "_view_module_version": "^1.0.0",
       "_view_name": "CatboostWidgetView",
       "data": {
        "catboost_info": {
         "content": {
          "data": {
           "iterations": [
            {
             "iteration": 0,
             "learn": [
              0.6748697185
             ],
             "passed_time": 0.4775384984,
             "remaining_time": 47.27631134,
             "test": [
              0.6742620724
             ]
            },
            {
             "iteration": 1,
             "learn": [
              0.6579732354
             ],
             "passed_time": 0.9207524747,
             "remaining_time": 45.11687126,
             "test": [
              0.6566781745
             ]
            },
            {
             "iteration": 2,
             "learn": [
              0.6408035128
             ],
             "passed_time": 1.37350635,
             "remaining_time": 44.41003865,
             "test": [
              0.640015932
             ]
            },
            {
             "iteration": 3,
             "learn": [
              0.6257543515
             ],
             "passed_time": 1.855057323,
             "remaining_time": 44.52137576,
             "test": [
              0.6243686594
             ]
            },
            {
             "iteration": 4,
             "learn": [
              0.6108405823
             ],
             "passed_time": 2.294585453,
             "remaining_time": 43.5971236,
             "test": [
              0.6095076878
             ]
            },
            {
             "iteration": 5,
             "learn": [
              0.5971349651
             ],
             "passed_time": 2.737631785,
             "remaining_time": 42.88956463,
             "test": [
              0.5955603589
             ]
            },
            {
             "iteration": 6,
             "learn": [
              0.582787222
             ],
             "passed_time": 3.155550047,
             "remaining_time": 41.92373634,
             "test": [
              0.5819997606
             ]
            },
            {
             "iteration": 7,
             "learn": [
              0.5709422919
             ],
             "passed_time": 3.56088174,
             "remaining_time": 40.95014002,
             "test": [
              0.5692244048
             ]
            },
            {
             "iteration": 8,
             "learn": [
              0.558737103
             ],
             "passed_time": 3.968730194,
             "remaining_time": 40.12827197,
             "test": [
              0.5569711221
             ]
            },
            {
             "iteration": 9,
             "learn": [
              0.5471387475
             ],
             "passed_time": 4.415615862,
             "remaining_time": 39.74054276,
             "test": [
              0.5452847946
             ]
            },
            {
             "iteration": 10,
             "learn": [
              0.5364951883
             ],
             "passed_time": 4.803878712,
             "remaining_time": 38.86774594,
             "test": [
              0.5337569775
             ]
            },
            {
             "iteration": 11,
             "learn": [
              0.5259332521
             ],
             "passed_time": 5.309771344,
             "remaining_time": 38.93832319,
             "test": [
              0.522718168
             ]
            },
            {
             "iteration": 12,
             "learn": [
              0.5152151574
             ],
             "passed_time": 5.866120581,
             "remaining_time": 39.25788389,
             "test": [
              0.5127674943
             ]
            },
            {
             "iteration": 13,
             "learn": [
              0.5056466601
             ],
             "passed_time": 6.42465505,
             "remaining_time": 39.46573816,
             "test": [
              0.503094105
             ]
            },
            {
             "iteration": 14,
             "learn": [
              0.4961055674
             ],
             "passed_time": 6.879057127,
             "remaining_time": 38.98132372,
             "test": [
              0.4940384031
             ]
            },
            {
             "iteration": 15,
             "learn": [
              0.4866530548
             ],
             "passed_time": 7.316994385,
             "remaining_time": 38.41422052,
             "test": [
              0.4841291693
             ]
            },
            {
             "iteration": 16,
             "learn": [
              0.4779338779
             ],
             "passed_time": 7.7489614,
             "remaining_time": 37.83316448,
             "test": [
              0.4748317742
             ]
            },
            {
             "iteration": 17,
             "learn": [
              0.4694875681
             ],
             "passed_time": 8.133829969,
             "remaining_time": 37.0541143,
             "test": [
              0.466013618
             ]
            },
            {
             "iteration": 18,
             "learn": [
              0.4607461362
             ],
             "passed_time": 8.557313933,
             "remaining_time": 36.48118045,
             "test": [
              0.4574173722
             ]
            },
            {
             "iteration": 19,
             "learn": [
              0.4530397809
             ],
             "passed_time": 9.00825968,
             "remaining_time": 36.03303872,
             "test": [
              0.4493924303
             ]
            },
            {
             "iteration": 20,
             "learn": [
              0.4457514544
             ],
             "passed_time": 9.403522427,
             "remaining_time": 35.3751558,
             "test": [
              0.4419716946
             ]
            },
            {
             "iteration": 21,
             "learn": [
              0.436994972
             ],
             "passed_time": 9.817178512,
             "remaining_time": 34.80636018,
             "test": [
              0.4330109324
             ]
            },
            {
             "iteration": 22,
             "learn": [
              0.4305835368
             ],
             "passed_time": 10.24654134,
             "remaining_time": 34.30363839,
             "test": [
              0.4261390789
             ]
            },
            {
             "iteration": 23,
             "learn": [
              0.4232837176
             ],
             "passed_time": 10.62767728,
             "remaining_time": 33.65431138,
             "test": [
              0.4194485575
             ]
            },
            {
             "iteration": 24,
             "learn": [
              0.4141794244
             ],
             "passed_time": 11.05364777,
             "remaining_time": 33.16094331,
             "test": [
              0.4102564352
             ]
            },
            {
             "iteration": 25,
             "learn": [
              0.4055506373
             ],
             "passed_time": 11.48204127,
             "remaining_time": 32.67965593,
             "test": [
              0.4014947714
             ]
            },
            {
             "iteration": 26,
             "learn": [
              0.3991488039
             ],
             "passed_time": 11.93647772,
             "remaining_time": 32.27269902,
             "test": [
              0.3948650885
             ]
            },
            {
             "iteration": 27,
             "learn": [
              0.3919058109
             ],
             "passed_time": 12.33958805,
             "remaining_time": 31.73036928,
             "test": [
              0.3875266197
             ]
            },
            {
             "iteration": 28,
             "learn": [
              0.3860577958
             ],
             "passed_time": 12.81506574,
             "remaining_time": 31.37481611,
             "test": [
              0.3811249827
             ]
            },
            {
             "iteration": 29,
             "learn": [
              0.3792554984
             ],
             "passed_time": 13.21366723,
             "remaining_time": 30.83189019,
             "test": [
              0.3742989976
             ]
            },
            {
             "iteration": 30,
             "learn": [
              0.3731491302
             ],
             "passed_time": 13.64454936,
             "remaining_time": 30.37012599,
             "test": [
              0.3680045199
             ]
            },
            {
             "iteration": 31,
             "learn": [
              0.3683748992
             ],
             "passed_time": 14.03069806,
             "remaining_time": 29.81523337,
             "test": [
              0.3632833208
             ]
            },
            {
             "iteration": 32,
             "learn": [
              0.3621362026
             ],
             "passed_time": 14.44375504,
             "remaining_time": 29.32519963,
             "test": [
              0.357017909
             ]
            },
            {
             "iteration": 33,
             "learn": [
              0.3567752755
             ],
             "passed_time": 14.83165384,
             "remaining_time": 28.79085745,
             "test": [
              0.3512472262
             ]
            },
            {
             "iteration": 34,
             "learn": [
              0.3497276337
             ],
             "passed_time": 15.25191305,
             "remaining_time": 28.32498137,
             "test": [
              0.3444551727
             ]
            },
            {
             "iteration": 35,
             "learn": [
              0.3435109969
             ],
             "passed_time": 15.67415677,
             "remaining_time": 27.86516759,
             "test": [
              0.3377928176
             ]
            },
            {
             "iteration": 36,
             "learn": [
              0.3370838799
             ],
             "passed_time": 16.10111084,
             "remaining_time": 27.41540494,
             "test": [
              0.3314500857
             ]
            },
            {
             "iteration": 37,
             "learn": [
              0.3327459823
             ],
             "passed_time": 16.55158305,
             "remaining_time": 27.00521445,
             "test": [
              0.3265973331
             ]
            },
            {
             "iteration": 38,
             "learn": [
              0.3267646149
             ],
             "passed_time": 16.97026127,
             "remaining_time": 26.54322917,
             "test": [
              0.3205495557
             ]
            },
            {
             "iteration": 39,
             "learn": [
              0.3210166563
             ],
             "passed_time": 17.39370406,
             "remaining_time": 26.09055608,
             "test": [
              0.3146312256
             ]
            },
            {
             "iteration": 40,
             "learn": [
              0.3166604999
             ],
             "passed_time": 17.84774323,
             "remaining_time": 25.68333782,
             "test": [
              0.3101101611
             ]
            },
            {
             "iteration": 41,
             "learn": [
              0.3121959024
             ],
             "passed_time": 18.30823119,
             "remaining_time": 25.28279545,
             "test": [
              0.3059513822
             ]
            },
            {
             "iteration": 42,
             "learn": [
              0.3069132895
             ],
             "passed_time": 18.72630693,
             "remaining_time": 24.82324407,
             "test": [
              0.3007653344
             ]
            },
            {
             "iteration": 43,
             "learn": [
              0.302052472
             ],
             "passed_time": 19.4381388,
             "remaining_time": 24.73944938,
             "test": [
              0.2957865076
             ]
            },
            {
             "iteration": 44,
             "learn": [
              0.2978923188
             ],
             "passed_time": 20.24165622,
             "remaining_time": 24.73980205,
             "test": [
              0.2915491657
             ]
            },
            {
             "iteration": 45,
             "learn": [
              0.2944078558
             ],
             "passed_time": 20.93263786,
             "remaining_time": 24.57309661,
             "test": [
              0.2879912732
             ]
            },
            {
             "iteration": 46,
             "learn": [
              0.2897923232
             ],
             "passed_time": 21.53195298,
             "remaining_time": 24.28071293,
             "test": [
              0.2834868755
             ]
            },
            {
             "iteration": 47,
             "learn": [
              0.2853134695
             ],
             "passed_time": 22.03804327,
             "remaining_time": 23.87454687,
             "test": [
              0.2790596027
             ]
            },
            {
             "iteration": 48,
             "learn": [
              0.2820933051
             ],
             "passed_time": 22.50938735,
             "remaining_time": 23.42813785,
             "test": [
              0.2761004085
             ]
            },
            {
             "iteration": 49,
             "learn": [
              0.278445037
             ],
             "passed_time": 23.02253091,
             "remaining_time": 23.02253091,
             "test": [
              0.2725195403
             ]
            },
            {
             "iteration": 50,
             "learn": [
              0.2748184511
             ],
             "passed_time": 23.61423418,
             "remaining_time": 22.68818578,
             "test": [
              0.2688534606
             ]
            },
            {
             "iteration": 51,
             "learn": [
              0.2713778112
             ],
             "passed_time": 24.14921072,
             "remaining_time": 22.29157912,
             "test": [
              0.2655136792
             ]
            },
            {
             "iteration": 52,
             "learn": [
              0.2673536438
             ],
             "passed_time": 24.61841152,
             "remaining_time": 21.83142154,
             "test": [
              0.2615925389
             ]
            },
            {
             "iteration": 53,
             "learn": [
              0.2637891669
             ],
             "passed_time": 25.14498354,
             "remaining_time": 21.4198008,
             "test": [
              0.2579364003
             ]
            },
            {
             "iteration": 54,
             "learn": [
              0.2604926679
             ],
             "passed_time": 25.67367686,
             "remaining_time": 21.00573562,
             "test": [
              0.2548300999
             ]
            },
            {
             "iteration": 55,
             "learn": [
              0.2566804437
             ],
             "passed_time": 26.13902204,
             "remaining_time": 20.53780303,
             "test": [
              0.2511033873
             ]
            },
            {
             "iteration": 56,
             "learn": [
              0.253234031
             ],
             "passed_time": 26.67453457,
             "remaining_time": 20.1228945,
             "test": [
              0.2477030179
             ]
            },
            {
             "iteration": 57,
             "learn": [
              0.249945922
             ],
             "passed_time": 27.21478264,
             "remaining_time": 19.7072564,
             "test": [
              0.244450154
             ]
            },
            {
             "iteration": 58,
             "learn": [
              0.2470056452
             ],
             "passed_time": 27.7276448,
             "remaining_time": 19.26836334,
             "test": [
              0.2414813531
             ]
            },
            {
             "iteration": 59,
             "learn": [
              0.2444033703
             ],
             "passed_time": 28.21438669,
             "remaining_time": 18.80959112,
             "test": [
              0.2389721977
             ]
            },
            {
             "iteration": 60,
             "learn": [
              0.2409275506
             ],
             "passed_time": 28.72123042,
             "remaining_time": 18.36275388,
             "test": [
              0.2353110444
             ]
            },
            {
             "iteration": 61,
             "learn": [
              0.237783004
             ],
             "passed_time": 29.20456461,
             "remaining_time": 17.89957186,
             "test": [
              0.2322237611
             ]
            },
            {
             "iteration": 62,
             "learn": [
              0.2349743786
             ],
             "passed_time": 29.72804741,
             "remaining_time": 17.45932943,
             "test": [
              0.2296483566
             ]
            },
            {
             "iteration": 63,
             "learn": [
              0.2322138755
             ],
             "passed_time": 30.2681966,
             "remaining_time": 17.02586059,
             "test": [
              0.226807829
             ]
            },
            {
             "iteration": 64,
             "learn": [
              0.2298792267
             ],
             "passed_time": 30.76618263,
             "remaining_time": 16.56640603,
             "test": [
              0.2244468578
             ]
            },
            {
             "iteration": 65,
             "learn": [
              0.2271919983
             ],
             "passed_time": 31.26026858,
             "remaining_time": 16.10377472,
             "test": [
              0.2216664297
             ]
            },
            {
             "iteration": 66,
             "learn": [
              0.2246459122
             ],
             "passed_time": 31.81891099,
             "remaining_time": 15.67200093,
             "test": [
              0.2188311518
             ]
            },
            {
             "iteration": 67,
             "learn": [
              0.2221273904
             ],
             "passed_time": 32.34255048,
             "remaining_time": 15.22002376,
             "test": [
              0.2165373506
             ]
            },
            {
             "iteration": 68,
             "learn": [
              0.2197748252
             ],
             "passed_time": 32.87252861,
             "remaining_time": 14.7688172,
             "test": [
              0.2143725021
             ]
            },
            {
             "iteration": 69,
             "learn": [
              0.2171426336
             ],
             "passed_time": 33.42841003,
             "remaining_time": 14.32646144,
             "test": [
              0.2120826972
             ]
            },
            {
             "iteration": 70,
             "learn": [
              0.2147948796
             ],
             "passed_time": 34.05994647,
             "remaining_time": 13.91180912,
             "test": [
              0.2096383567
             ]
            },
            {
             "iteration": 71,
             "learn": [
              0.2125071522
             ],
             "passed_time": 34.7430857,
             "remaining_time": 13.5112,
             "test": [
              0.2070892623
             ]
            },
            {
             "iteration": 72,
             "learn": [
              0.2101866032
             ],
             "passed_time": 35.29611752,
             "remaining_time": 13.0547284,
             "test": [
              0.2050053412
             ]
            },
            {
             "iteration": 73,
             "learn": [
              0.2078730874
             ],
             "passed_time": 35.7676361,
             "remaining_time": 12.56700728,
             "test": [
              0.2021653257
             ]
            },
            {
             "iteration": 74,
             "learn": [
              0.2056372613
             ],
             "passed_time": 36.22022963,
             "remaining_time": 12.07340988,
             "test": [
              0.1999683471
             ]
            },
            {
             "iteration": 75,
             "learn": [
              0.2037182856
             ],
             "passed_time": 36.64256835,
             "remaining_time": 11.57133737,
             "test": [
              0.1979458566
             ]
            },
            {
             "iteration": 76,
             "learn": [
              0.2015461339
             ],
             "passed_time": 37.10790459,
             "remaining_time": 11.08417929,
             "test": [
              0.1960021925
             ]
            },
            {
             "iteration": 77,
             "learn": [
              0.1994981381
             ],
             "passed_time": 37.72436314,
             "remaining_time": 10.64020499,
             "test": [
              0.1940365161
             ]
            },
            {
             "iteration": 78,
             "learn": [
              0.1981130335
             ],
             "passed_time": 38.16068454,
             "remaining_time": 10.14397943,
             "test": [
              0.192512867
             ]
            },
            {
             "iteration": 79,
             "learn": [
              0.1961290568
             ],
             "passed_time": 38.70128573,
             "remaining_time": 9.675321431,
             "test": [
              0.190563125
             ]
            },
            {
             "iteration": 80,
             "learn": [
              0.1943380726
             ],
             "passed_time": 39.16103119,
             "remaining_time": 9.185920897,
             "test": [
              0.1884604756
             ]
            },
            {
             "iteration": 81,
             "learn": [
              0.1923240843
             ],
             "passed_time": 39.6188208,
             "remaining_time": 8.696814322,
             "test": [
              0.18651706
             ]
            },
            {
             "iteration": 82,
             "learn": [
              0.1904997573
             ],
             "passed_time": 40.0617585,
             "remaining_time": 8.205420416,
             "test": [
              0.1849154023
             ]
            },
            {
             "iteration": 83,
             "learn": [
              0.1879567591
             ],
             "passed_time": 40.56814183,
             "remaining_time": 7.727265111,
             "test": [
              0.1823941763
             ]
            },
            {
             "iteration": 84,
             "learn": [
              0.1866435303
             ],
             "passed_time": 40.96790507,
             "remaining_time": 7.229630306,
             "test": [
              0.1809814136
             ]
            },
            {
             "iteration": 85,
             "learn": [
              0.1849974987
             ],
             "passed_time": 41.36914229,
             "remaining_time": 6.734511535,
             "test": [
              0.1792341015
             ]
            },
            {
             "iteration": 86,
             "learn": [
              0.1832102227
             ],
             "passed_time": 41.78189564,
             "remaining_time": 6.243271763,
             "test": [
              0.1773475741
             ]
            },
            {
             "iteration": 87,
             "learn": [
              0.1819256265
             ],
             "passed_time": 42.09924904,
             "remaining_time": 5.740806688,
             "test": [
              0.1759470116
             ]
            },
            {
             "iteration": 88,
             "learn": [
              0.1799943303
             ],
             "passed_time": 42.57124689,
             "remaining_time": 5.261614784,
             "test": [
              0.1736403962
             ]
            },
            {
             "iteration": 89,
             "learn": [
              0.1782658447
             ],
             "passed_time": 42.98722202,
             "remaining_time": 4.776358002,
             "test": [
              0.1719004687
             ]
            },
            {
             "iteration": 90,
             "learn": [
              0.1767015635
             ],
             "passed_time": 43.3671644,
             "remaining_time": 4.289060216,
             "test": [
              0.1703580066
             ]
            },
            {
             "iteration": 91,
             "learn": [
              0.175070044
             ],
             "passed_time": 43.7949583,
             "remaining_time": 3.808257243,
             "test": [
              0.1687172659
             ]
            },
            {
             "iteration": 92,
             "learn": [
              0.1734767194
             ],
             "passed_time": 44.21257597,
             "remaining_time": 3.327828299,
             "test": [
              0.1673428382
             ]
            },
            {
             "iteration": 93,
             "learn": [
              0.1721751511
             ],
             "passed_time": 44.59559057,
             "remaining_time": 2.846527058,
             "test": [
              0.1659366626
             ]
            },
            {
             "iteration": 94,
             "learn": [
              0.1703713186
             ],
             "passed_time": 44.99485686,
             "remaining_time": 2.368150361,
             "test": [
              0.1640787746
             ]
            },
            {
             "iteration": 95,
             "learn": [
              0.1686900548
             ],
             "passed_time": 45.47069269,
             "remaining_time": 1.894612196,
             "test": [
              0.1621330656
             ]
            },
            {
             "iteration": 96,
             "learn": [
              0.1674991854
             ],
             "passed_time": 45.96638562,
             "remaining_time": 1.421640792,
             "test": [
              0.1609147607
             ]
            },
            {
             "iteration": 97,
             "learn": [
              0.1654315121
             ],
             "passed_time": 46.47007017,
             "remaining_time": 0.948368779,
             "test": [
              0.1587250687
             ]
            },
            {
             "iteration": 98,
             "learn": [
              0.1640786643
             ],
             "passed_time": 46.84672479,
             "remaining_time": 0.4731992403,
             "test": [
              0.1572971871
             ]
            },
            {
             "iteration": 99,
             "learn": [
              0.1630206336
             ],
             "passed_time": 47.24355287,
             "remaining_time": 0,
             "test": [
              0.156173417
             ]
            }
           ],
           "meta": {
            "iteration_count": 100,
            "launch_mode": "Train",
            "learn_metrics": [
             {
              "best_value": "Min",
              "name": "CrossEntropy"
             }
            ],
            "learn_sets": [
             "learn"
            ],
            "name": "experiment",
            "parameters": "",
            "test_metrics": [
             {
              "best_value": "Min",
              "name": "CrossEntropy"
             }
            ],
            "test_sets": [
             "test"
            ]
           }
          },
          "passed_iterations": 99,
          "total_iterations": 100
         },
         "name": "catboost_info",
         "path": "catboost_info"
        }
       },
       "layout": "IPY_MODEL_2fa1b8f08e8242df98aa364d71f17f9e"
      }
     },
     "ab15ff8755a140df81b07b73abbe5806": {
      "model_module": "catboost-widget",
      "model_module_version": "^1.0.0",
      "model_name": "CatboostWidgetModel",
      "state": {
       "_dom_classes": [],
       "_model_module": "catboost-widget",
       "_model_module_version": "^1.0.0",
       "_model_name": "CatboostWidgetModel",
       "_view_count": null,
       "_view_module": "catboost-widget",
       "_view_module_version": "^1.0.0",
       "_view_name": "CatboostWidgetView",
       "data": {
        "catboost_info": {
         "content": {
          "data": {
           "iterations": [
            {
             "iteration": 0,
             "learn": [
              0.6613847514
             ],
             "passed_time": 0.4076061508,
             "remaining_time": 40.35300893,
             "test": [
              0.6635992455
             ]
            },
            {
             "iteration": 1,
             "learn": [
              0.6362960598
             ],
             "passed_time": 0.8523400419,
             "remaining_time": 41.76466205,
             "test": [
              0.6357735509
             ]
            },
            {
             "iteration": 2,
             "learn": [
              0.6093769111
             ],
             "passed_time": 1.285444341,
             "remaining_time": 41.56270035,
             "test": [
              0.6095201408
             ]
            },
            {
             "iteration": 3,
             "learn": [
              0.5837184877
             ],
             "passed_time": 1.649259531,
             "remaining_time": 39.58222875,
             "test": [
              0.5847177109
             ]
            },
            {
             "iteration": 4,
             "learn": [
              0.5621911612
             ],
             "passed_time": 2.068463988,
             "remaining_time": 39.30081577,
             "test": [
              0.5612419502
             ]
            },
            {
             "iteration": 5,
             "learn": [
              0.5376532352
             ],
             "passed_time": 2.50203056,
             "remaining_time": 39.19847877,
             "test": [
              0.5389975466
             ]
            },
            {
             "iteration": 6,
             "learn": [
              0.5168806878
             ],
             "passed_time": 2.835511846,
             "remaining_time": 37.67180024,
             "test": [
              0.517890661
             ]
            },
            {
             "iteration": 7,
             "learn": [
              0.498682767
             ],
             "passed_time": 3.289304912,
             "remaining_time": 37.82700649,
             "test": [
              0.4978428983
             ]
            },
            {
             "iteration": 8,
             "learn": [
              0.478524442
             ],
             "passed_time": 3.73937083,
             "remaining_time": 37.80919395,
             "test": [
              0.4787786363
             ]
            },
            {
             "iteration": 9,
             "learn": [
              0.4605801674
             ],
             "passed_time": 4.16950046,
             "remaining_time": 37.52550414,
             "test": [
              0.4606325531
             ]
            },
            {
             "iteration": 10,
             "learn": [
              0.4438267998
             ],
             "passed_time": 4.610793108,
             "remaining_time": 37.30550787,
             "test": [
              0.443344547
             ]
            },
            {
             "iteration": 11,
             "learn": [
              0.4280509412
             ],
             "passed_time": 5.02126409,
             "remaining_time": 36.82260332,
             "test": [
              0.4268598939
             ]
            },
            {
             "iteration": 12,
             "learn": [
              0.4121128917
             ],
             "passed_time": 5.447018601,
             "remaining_time": 36.45312449,
             "test": [
              0.4111261547
             ]
            },
            {
             "iteration": 13,
             "learn": [
              0.3967758554
             ],
             "passed_time": 5.839970806,
             "remaining_time": 35.87410638,
             "test": [
              0.3961002505
             ]
            },
            {
             "iteration": 14,
             "learn": [
              0.3823932613
             ],
             "passed_time": 6.248161185,
             "remaining_time": 35.40624671,
             "test": [
              0.3817391173
             ]
            },
            {
             "iteration": 15,
             "learn": [
              0.3673339539
             ],
             "passed_time": 6.62003507,
             "remaining_time": 34.75518412,
             "test": [
              0.3680039342
             ]
            },
            {
             "iteration": 16,
             "learn": [
              0.3538783714
             ],
             "passed_time": 7.028443998,
             "remaining_time": 34.31534422,
             "test": [
              0.3548591442
             ]
            },
            {
             "iteration": 17,
             "learn": [
              0.3431684219
             ],
             "passed_time": 7.490552572,
             "remaining_time": 34.12362838,
             "test": [
              0.3422716466
             ]
            },
            {
             "iteration": 18,
             "learn": [
              0.330086378
             ],
             "passed_time": 7.831880813,
             "remaining_time": 33.38854452,
             "test": [
              0.3302111067
             ]
            },
            {
             "iteration": 19,
             "learn": [
              0.3196734258
             ],
             "passed_time": 8.223828717,
             "remaining_time": 32.89531487,
             "test": [
              0.3186494812
             ]
            },
            {
             "iteration": 20,
             "learn": [
              0.3069722019
             ],
             "passed_time": 8.619060739,
             "remaining_time": 32.42408564,
             "test": [
              0.3075603001
             ]
            },
            {
             "iteration": 21,
             "learn": [
              0.2968813248
             ],
             "passed_time": 9.060064099,
             "remaining_time": 32.12204544,
             "test": [
              0.2969195114
             ]
            },
            {
             "iteration": 22,
             "learn": [
              0.2867670918
             ],
             "passed_time": 9.425084375,
             "remaining_time": 31.55354334,
             "test": [
              0.286703857
             ]
            },
            {
             "iteration": 23,
             "learn": [
              0.2765028978
             ],
             "passed_time": 9.851363875,
             "remaining_time": 31.1959856,
             "test": [
              0.2768931317
             ]
            },
            {
             "iteration": 24,
             "learn": [
              0.2664453593
             ],
             "passed_time": 10.24941222,
             "remaining_time": 30.74823666,
             "test": [
              0.2674659966
             ]
            },
            {
             "iteration": 25,
             "learn": [
              0.2579789017
             ],
             "passed_time": 10.68618698,
             "remaining_time": 30.41453217,
             "test": [
              0.2584053662
             ]
            },
            {
             "iteration": 26,
             "learn": [
              0.2499627472
             ],
             "passed_time": 11.15869598,
             "remaining_time": 30.16980764,
             "test": [
              0.2496930876
             ]
            },
            {
             "iteration": 27,
             "learn": [
              0.2419720648
             ],
             "passed_time": 11.557037,
             "remaining_time": 29.71809514,
             "test": [
              0.2413116264
             ]
            },
            {
             "iteration": 28,
             "learn": [
              0.2336760719
             ],
             "passed_time": 11.98751922,
             "remaining_time": 29.34875396,
             "test": [
              0.2332470065
             ]
            },
            {
             "iteration": 29,
             "learn": [
              0.2258445639
             ],
             "passed_time": 12.40652983,
             "remaining_time": 28.94856961,
             "test": [
              0.2254851076
             ]
            },
            {
             "iteration": 30,
             "learn": [
              0.2185229847
             ],
             "passed_time": 12.81288406,
             "remaining_time": 28.519,
             "test": [
              0.2180111284
             ]
            },
            {
             "iteration": 31,
             "learn": [
              0.2109300447
             ],
             "passed_time": 13.19549433,
             "remaining_time": 28.04042544,
             "test": [
              0.2108126324
             ]
            },
            {
             "iteration": 32,
             "learn": [
              0.2033489699
             ],
             "passed_time": 13.6504677,
             "remaining_time": 27.71458594,
             "test": [
              0.2038776975
             ]
            },
            {
             "iteration": 33,
             "learn": [
              0.1964208154
             ],
             "passed_time": 14.22316571,
             "remaining_time": 27.60967461,
             "test": [
              0.1971950203
             ]
            },
            {
             "iteration": 34,
             "learn": [
              0.1911688982
             ],
             "passed_time": 14.88505532,
             "remaining_time": 27.64367417,
             "test": [
              0.1907548877
             ]
            },
            {
             "iteration": 35,
             "learn": [
              0.1839019664
             ],
             "passed_time": 15.40557337,
             "remaining_time": 27.38768599,
             "test": [
              0.1845447946
             ]
            },
            {
             "iteration": 36,
             "learn": [
              0.1787570968
             ],
             "passed_time": 15.80632832,
             "remaining_time": 26.91347796,
             "test": [
              0.1785570272
             ]
            },
            {
             "iteration": 37,
             "learn": [
              0.1721883613
             ],
             "passed_time": 16.18539924,
             "remaining_time": 26.40775665,
             "test": [
              0.1727803254
             ]
            },
            {
             "iteration": 38,
             "learn": [
              0.1676665466
             ],
             "passed_time": 16.62424384,
             "remaining_time": 26.00202242,
             "test": [
              0.1672075094
             ]
            },
            {
             "iteration": 39,
             "learn": [
              0.1614244142
             ],
             "passed_time": 17.02823217,
             "remaining_time": 25.54234825,
             "test": [
              0.1618297213
             ]
            },
            {
             "iteration": 40,
             "learn": [
              0.1563266805
             ],
             "passed_time": 17.46613725,
             "remaining_time": 25.13419751,
             "test": [
              0.1566396821
             ]
            },
            {
             "iteration": 41,
             "learn": [
              0.1520149648
             ],
             "passed_time": 17.89403313,
             "remaining_time": 24.71080766,
             "test": [
              0.1516292305
             ]
            },
            {
             "iteration": 42,
             "learn": [
              0.1470002258
             ],
             "passed_time": 18.33004637,
             "remaining_time": 24.29796845,
             "test": [
              0.1467915826
             ]
            },
            {
             "iteration": 43,
             "learn": [
              0.1418668963
             ],
             "passed_time": 18.75579471,
             "remaining_time": 23.87101145,
             "test": [
              0.1421196622
             ]
            },
            {
             "iteration": 44,
             "learn": [
              0.137104723
             ],
             "passed_time": 19.20200115,
             "remaining_time": 23.46911252,
             "test": [
              0.1376074635
             ]
            },
            {
             "iteration": 45,
             "learn": [
              0.1329063175
             ],
             "passed_time": 19.66562208,
             "remaining_time": 23.08573027,
             "test": [
              0.1332481865
             ]
            },
            {
             "iteration": 46,
             "learn": [
              0.128916552
             ],
             "passed_time": 20.03443244,
             "remaining_time": 22.59201956,
             "test": [
              0.1290365366
             ]
            },
            {
             "iteration": 47,
             "learn": [
              0.1249896092
             ],
             "passed_time": 20.5729991,
             "remaining_time": 22.2874157,
             "test": [
              0.1249675157
             ]
            },
            {
             "iteration": 48,
             "learn": [
              0.1210806072
             ],
             "passed_time": 21.01807315,
             "remaining_time": 21.87595368,
             "test": [
              0.1210354855
             ]
            },
            {
             "iteration": 49,
             "learn": [
              0.1171934103
             ],
             "passed_time": 21.36762601,
             "remaining_time": 21.36762601,
             "test": [
              0.1172336967
             ]
            },
            {
             "iteration": 50,
             "learn": [
              0.1133176977
             ],
             "passed_time": 21.82702842,
             "remaining_time": 20.97106652,
             "test": [
              0.1135593238
             ]
            },
            {
             "iteration": 51,
             "learn": [
              0.1097543813
             ],
             "passed_time": 22.18645707,
             "remaining_time": 20.47980653,
             "test": [
              0.1100075467
             ]
            },
            {
             "iteration": 52,
             "learn": [
              0.1069259253
             ],
             "passed_time": 22.53325916,
             "remaining_time": 19.98232416,
             "test": [
              0.1065717827
             ]
            },
            {
             "iteration": 53,
             "learn": [
              0.1034041887
             ],
             "passed_time": 22.88792928,
             "remaining_time": 19.49712495,
             "test": [
              0.1032495429
             ]
            },
            {
             "iteration": 54,
             "learn": [
              0.09973057555
             ],
             "passed_time": 23.35745125,
             "remaining_time": 19.11064194,
             "test": [
              0.1000365499
             ]
            },
            {
             "iteration": 55,
             "learn": [
              0.09713726844
             ],
             "passed_time": 23.77961584,
             "remaining_time": 18.68398388,
             "test": [
              0.09692820932
             ]
            },
            {
             "iteration": 56,
             "learn": [
              0.09376586892
             ],
             "passed_time": 24.2108599,
             "remaining_time": 18.2643329,
             "test": [
              0.09392164929
             ]
            },
            {
             "iteration": 57,
             "learn": [
              0.09122258274
             ],
             "passed_time": 24.68688239,
             "remaining_time": 17.87670794,
             "test": [
              0.09101261153
             ]
            },
            {
             "iteration": 58,
             "learn": [
              0.08794173707
             ],
             "passed_time": 25.0999453,
             "remaining_time": 17.44233487,
             "test": [
              0.08819723184
             ]
            },
            {
             "iteration": 59,
             "learn": [
              0.08547365147
             ],
             "passed_time": 25.53505998,
             "remaining_time": 17.02337332,
             "test": [
              0.08547318761
             ]
            },
            {
             "iteration": 60,
             "learn": [
              0.08257605902
             ],
             "passed_time": 25.96619709,
             "remaining_time": 16.60133912,
             "test": [
              0.08283654719
             ]
            },
            {
             "iteration": 61,
             "learn": [
              0.08010125547
             ],
             "passed_time": 26.38985888,
             "remaining_time": 16.17442964,
             "test": [
              0.08028504018
             ]
            },
            {
             "iteration": 62,
             "learn": [
              0.07797043067
             ],
             "passed_time": 26.81339032,
             "remaining_time": 15.74754669,
             "test": [
              0.07781531645
             ]
            },
            {
             "iteration": 63,
             "learn": [
              0.07548857069
             ],
             "passed_time": 27.21824311,
             "remaining_time": 15.31026175,
             "test": [
              0.07542507795
             ]
            },
            {
             "iteration": 64,
             "learn": [
              0.07295716462
             ],
             "passed_time": 27.68087125,
             "remaining_time": 14.90508452,
             "test": [
              0.07311064265
             ]
            },
            {
             "iteration": 65,
             "learn": [
              0.07054172204
             ],
             "passed_time": 28.1093223,
             "remaining_time": 14.48055997,
             "test": [
              0.07086950988
             ]
            },
            {
             "iteration": 66,
             "learn": [
              0.06844837758
             ],
             "passed_time": 28.56664009,
             "remaining_time": 14.07013616,
             "test": [
              0.06869964331
             ]
            },
            {
             "iteration": 67,
             "learn": [
              0.06643158257
             ],
             "passed_time": 28.92948601,
             "remaining_time": 13.61387577,
             "test": [
              0.06659878142
             ]
            },
            {
             "iteration": 68,
             "learn": [
              0.06446601439
             ],
             "passed_time": 29.34839639,
             "remaining_time": 13.18551142,
             "test": [
              0.06456479949
             ]
            },
            {
             "iteration": 69,
             "learn": [
              0.06251221786
             ],
             "passed_time": 29.69212818,
             "remaining_time": 12.72519779,
             "test": [
              0.06259518715
             ]
            },
            {
             "iteration": 70,
             "learn": [
              0.0605632302
             ],
             "passed_time": 30.05398127,
             "remaining_time": 12.27556981,
             "test": [
              0.0606874133
             ]
            },
            {
             "iteration": 71,
             "learn": [
              0.05865350222
             ],
             "passed_time": 30.4457771,
             "remaining_time": 11.84002443,
             "test": [
              0.05883909281
             ]
            },
            {
             "iteration": 72,
             "learn": [
              0.05684103131
             ],
             "passed_time": 30.8564278,
             "remaining_time": 11.41265138,
             "test": [
              0.05704841879
             ]
            },
            {
             "iteration": 73,
             "learn": [
              0.05543131364
             ],
             "passed_time": 31.30731579,
             "remaining_time": 10.99986771,
             "test": [
              0.05531406373
             ]
            },
            {
             "iteration": 74,
             "learn": [
              0.05367286085
             ],
             "passed_time": 31.76799729,
             "remaining_time": 10.58933243,
             "test": [
              0.0536341363
             ]
            },
            {
             "iteration": 75,
             "learn": [
              0.05182532138
             ],
             "passed_time": 32.19225365,
             "remaining_time": 10.16597484,
             "test": [
              0.05200671013
             ]
            },
            {
             "iteration": 76,
             "learn": [
              0.05053067592
             ],
             "passed_time": 32.74167389,
             "remaining_time": 9.779980512,
             "test": [
              0.05042985114
             ]
            },
            {
             "iteration": 77,
             "learn": [
              0.04884034842
             ],
             "passed_time": 33.16646856,
             "remaining_time": 9.354644977,
             "test": [
              0.04890265059
             ]
            },
            {
             "iteration": 78,
             "learn": [
              0.04721072582
             ],
             "passed_time": 33.57630271,
             "remaining_time": 8.925346291,
             "test": [
              0.04742203832
             ]
            },
            {
             "iteration": 79,
             "learn": [
              0.04591199273
             ],
             "passed_time": 33.97566663,
             "remaining_time": 8.493916659,
             "test": [
              0.04598734039
             ]
            },
            {
             "iteration": 80,
             "learn": [
              0.04464922933
             ],
             "passed_time": 34.34947967,
             "remaining_time": 8.057285354,
             "test": [
              0.04459711208
             ]
            },
            {
             "iteration": 81,
             "learn": [
              0.04306401509
             ],
             "passed_time": 34.72095061,
             "remaining_time": 7.621672084,
             "test": [
              0.04324981329
             ]
            },
            {
             "iteration": 82,
             "learn": [
              0.04195540927
             ],
             "passed_time": 35.0904765,
             "remaining_time": 7.18720603,
             "test": [
              0.04194403597
             ]
            },
            {
             "iteration": 83,
             "learn": [
              0.04071455261
             ],
             "passed_time": 35.4559784,
             "remaining_time": 6.753519695,
             "test": [
              0.04067886273
             ]
            },
            {
             "iteration": 84,
             "learn": [
              0.03934768358
             ],
             "passed_time": 35.85006658,
             "remaining_time": 6.326482337,
             "test": [
              0.03945234533
             ]
            },
            {
             "iteration": 85,
             "learn": [
              0.03812692355
             ],
             "passed_time": 36.33175784,
             "remaining_time": 5.914472206,
             "test": [
              0.03826407497
             ]
            },
            {
             "iteration": 86,
             "learn": [
              0.03710718768
             ],
             "passed_time": 36.6968379,
             "remaining_time": 5.483435549,
             "test": [
              0.03711204863
             ]
            },
            {
             "iteration": 87,
             "learn": [
              0.03605577601
             ],
             "passed_time": 37.1360297,
             "remaining_time": 5.06400405,
             "test": [
              0.0359954385
             ]
            },
            {
             "iteration": 88,
             "learn": [
              0.0348676275
             ],
             "passed_time": 37.54908556,
             "remaining_time": 4.640898215,
             "test": [
              0.0349128322
             ]
            },
            {
             "iteration": 89,
             "learn": [
              0.03382450513
             ],
             "passed_time": 38.00371156,
             "remaining_time": 4.222634618,
             "test": [
              0.03386372685
             ]
            },
            {
             "iteration": 90,
             "learn": [
              0.03281924105
             ],
             "passed_time": 38.3832259,
             "remaining_time": 3.796143221,
             "test": [
              0.0328462877
             ]
            },
            {
             "iteration": 91,
             "learn": [
              0.03182902875
             ],
             "passed_time": 38.82569071,
             "remaining_time": 3.376147019,
             "test": [
              0.03186055531
             ]
            },
            {
             "iteration": 92,
             "learn": [
              0.03085163959
             ],
             "passed_time": 39.24647388,
             "remaining_time": 2.954035668,
             "test": [
              0.0309045587
             ]
            },
            {
             "iteration": 93,
             "learn": [
              0.02990778863
             ],
             "passed_time": 39.72022438,
             "remaining_time": 2.535333471,
             "test": [
              0.02997768779
             ]
            },
            {
             "iteration": 94,
             "learn": [
              0.02897125699
             ],
             "passed_time": 40.18587846,
             "remaining_time": 2.115046235,
             "test": [
              0.02907989925
             ]
            },
            {
             "iteration": 95,
             "learn": [
              0.02823784089
             ],
             "passed_time": 40.65672281,
             "remaining_time": 1.694030117,
             "test": [
              0.02820872625
             ]
            },
            {
             "iteration": 96,
             "learn": [
              0.02735214789
             ],
             "passed_time": 41.09027723,
             "remaining_time": 1.270833316,
             "test": [
              0.0273641411
             ]
            },
            {
             "iteration": 97,
             "learn": [
              0.02643011475
             ],
             "passed_time": 41.5320609,
             "remaining_time": 0.8475930795,
             "test": [
              0.02654535795
             ]
            },
            {
             "iteration": 98,
             "learn": [
              0.02577651804
             ],
             "passed_time": 41.91271239,
             "remaining_time": 0.4233607312,
             "test": [
              0.02575095572
             ]
            },
            {
             "iteration": 99,
             "learn": [
              0.02492084967
             ],
             "passed_time": 42.28912987,
             "remaining_time": 0,
             "test": [
              0.02498053388
             ]
            }
           ],
           "meta": {
            "iteration_count": 100,
            "launch_mode": "Train",
            "learn_metrics": [
             {
              "best_value": "Min",
              "name": "CrossEntropy"
             }
            ],
            "learn_sets": [
             "learn"
            ],
            "name": "experiment",
            "parameters": "",
            "test_metrics": [
             {
              "best_value": "Min",
              "name": "CrossEntropy"
             }
            ],
            "test_sets": [
             "test"
            ]
           }
          },
          "passed_iterations": 99,
          "total_iterations": 100
         },
         "name": "catboost_info",
         "path": "catboost_info"
        }
       },
       "layout": "IPY_MODEL_bc83fb4ba6a34fea8cf1ea0b2b258386"
      }
     },
     "bc83fb4ba6a34fea8cf1ea0b2b258386": {
      "model_module": "@jupyter-widgets/base",
      "model_module_version": "1.2.0",
      "model_name": "LayoutModel",
      "state": {
       "_model_module": "@jupyter-widgets/base",
       "_model_module_version": "1.2.0",
       "_model_name": "LayoutModel",
       "_view_count": null,
       "_view_module": "@jupyter-widgets/base",
       "_view_module_version": "1.2.0",
       "_view_name": "LayoutView",
       "align_content": null,
       "align_items": null,
       "align_self": "stretch",
       "border": null,
       "bottom": null,
       "display": null,
       "flex": null,
       "flex_flow": null,
       "grid_area": null,
       "grid_auto_columns": null,
       "grid_auto_flow": null,
       "grid_auto_rows": null,
       "grid_column": null,
       "grid_gap": null,
       "grid_row": null,
       "grid_template_areas": null,
       "grid_template_columns": null,
       "grid_template_rows": null,
       "height": "500px",
       "justify_content": null,
       "justify_items": null,
       "left": null,
       "margin": null,
       "max_height": null,
       "max_width": null,
       "min_height": null,
       "min_width": null,
       "object_fit": null,
       "object_position": null,
       "order": null,
       "overflow": null,
       "overflow_x": null,
       "overflow_y": null,
       "padding": null,
       "right": null,
       "top": null,
       "visibility": null,
       "width": null
      }
     },
     "be5462c5cfa04e3881e3424e88b8beb1": {
      "model_module": "@jupyter-widgets/base",
      "model_module_version": "1.2.0",
      "model_name": "LayoutModel",
      "state": {
       "_model_module": "@jupyter-widgets/base",
       "_model_module_version": "1.2.0",
       "_model_name": "LayoutModel",
       "_view_count": null,
       "_view_module": "@jupyter-widgets/base",
       "_view_module_version": "1.2.0",
       "_view_name": "LayoutView",
       "align_content": null,
       "align_items": null,
       "align_self": "stretch",
       "border": null,
       "bottom": null,
       "display": null,
       "flex": null,
       "flex_flow": null,
       "grid_area": null,
       "grid_auto_columns": null,
       "grid_auto_flow": null,
       "grid_auto_rows": null,
       "grid_column": null,
       "grid_gap": null,
       "grid_row": null,
       "grid_template_areas": null,
       "grid_template_columns": null,
       "grid_template_rows": null,
       "height": "500px",
       "justify_content": null,
       "justify_items": null,
       "left": null,
       "margin": null,
       "max_height": null,
       "max_width": null,
       "min_height": null,
       "min_width": null,
       "object_fit": null,
       "object_position": null,
       "order": null,
       "overflow": null,
       "overflow_x": null,
       "overflow_y": null,
       "padding": null,
       "right": null,
       "top": null,
       "visibility": null,
       "width": null
      }
     },
     "d16b300e64e94f6cabfa607b33ffb3bf": {
      "model_module": "@jupyter-widgets/base",
      "model_module_version": "1.2.0",
      "model_name": "LayoutModel",
      "state": {
       "_model_module": "@jupyter-widgets/base",
       "_model_module_version": "1.2.0",
       "_model_name": "LayoutModel",
       "_view_count": null,
       "_view_module": "@jupyter-widgets/base",
       "_view_module_version": "1.2.0",
       "_view_name": "LayoutView",
       "align_content": null,
       "align_items": null,
       "align_self": "stretch",
       "border": null,
       "bottom": null,
       "display": null,
       "flex": null,
       "flex_flow": null,
       "grid_area": null,
       "grid_auto_columns": null,
       "grid_auto_flow": null,
       "grid_auto_rows": null,
       "grid_column": null,
       "grid_gap": null,
       "grid_row": null,
       "grid_template_areas": null,
       "grid_template_columns": null,
       "grid_template_rows": null,
       "height": "500px",
       "justify_content": null,
       "justify_items": null,
       "left": null,
       "margin": null,
       "max_height": null,
       "max_width": null,
       "min_height": null,
       "min_width": null,
       "object_fit": null,
       "object_position": null,
       "order": null,
       "overflow": null,
       "overflow_x": null,
       "overflow_y": null,
       "padding": null,
       "right": null,
       "top": null,
       "visibility": null,
       "width": null
      }
     },
     "d6e0296c94434e3cb92cb32daaa02629": {
      "model_module": "@jupyter-widgets/base",
      "model_module_version": "1.2.0",
      "model_name": "LayoutModel",
      "state": {
       "_model_module": "@jupyter-widgets/base",
       "_model_module_version": "1.2.0",
       "_model_name": "LayoutModel",
       "_view_count": null,
       "_view_module": "@jupyter-widgets/base",
       "_view_module_version": "1.2.0",
       "_view_name": "LayoutView",
       "align_content": null,
       "align_items": null,
       "align_self": "stretch",
       "border": null,
       "bottom": null,
       "display": null,
       "flex": null,
       "flex_flow": null,
       "grid_area": null,
       "grid_auto_columns": null,
       "grid_auto_flow": null,
       "grid_auto_rows": null,
       "grid_column": null,
       "grid_gap": null,
       "grid_row": null,
       "grid_template_areas": null,
       "grid_template_columns": null,
       "grid_template_rows": null,
       "height": "500px",
       "justify_content": null,
       "justify_items": null,
       "left": null,
       "margin": null,
       "max_height": null,
       "max_width": null,
       "min_height": null,
       "min_width": null,
       "object_fit": null,
       "object_position": null,
       "order": null,
       "overflow": null,
       "overflow_x": null,
       "overflow_y": null,
       "padding": null,
       "right": null,
       "top": null,
       "visibility": null,
       "width": null
      }
     },
     "d872c28728184f239586beea6ff21ad0": {
      "model_module": "catboost-widget",
      "model_module_version": "^1.0.0",
      "model_name": "CatboostWidgetModel",
      "state": {
       "_dom_classes": [],
       "_model_module": "catboost-widget",
       "_model_module_version": "^1.0.0",
       "_model_name": "CatboostWidgetModel",
       "_view_count": null,
       "_view_module": "catboost-widget",
       "_view_module_version": "^1.0.0",
       "_view_name": "CatboostWidgetView",
       "data": {
        "catboost_info": {
         "content": {
          "data": {
           "iterations": [
            {
             "iteration": 0,
             "learn": [
              0.6622861349
             ],
             "passed_time": 0.3958929489,
             "remaining_time": 39.19340194,
             "test": [
              0.6641813354
             ]
            },
            {
             "iteration": 1,
             "learn": [
              0.6370602546
             ],
             "passed_time": 0.8178561183,
             "remaining_time": 40.0749498,
             "test": [
              0.6370209753
             ]
            },
            {
             "iteration": 2,
             "learn": [
              0.6107721691
             ],
             "passed_time": 1.222264539,
             "remaining_time": 39.51988675,
             "test": [
              0.6112310736
             ]
            },
            {
             "iteration": 3,
             "learn": [
              0.5858635482
             ],
             "passed_time": 1.591034359,
             "remaining_time": 38.18482461,
             "test": [
              0.5868688108
             ]
            },
            {
             "iteration": 4,
             "learn": [
              0.5642982161
             ],
             "passed_time": 2.010293736,
             "remaining_time": 38.19558099,
             "test": [
              0.5637904645
             ]
            },
            {
             "iteration": 5,
             "learn": [
              0.5406364951
             ],
             "passed_time": 2.43365322,
             "remaining_time": 38.12723377,
             "test": [
              0.5419764264
             ]
            },
            {
             "iteration": 6,
             "learn": [
              0.5199654226
             ],
             "passed_time": 2.829934601,
             "remaining_time": 37.59770256,
             "test": [
              0.5213123069
             ]
            },
            {
             "iteration": 7,
             "learn": [
              0.5018983295
             ],
             "passed_time": 3.259928459,
             "remaining_time": 37.48917727,
             "test": [
              0.501706257
             ]
            },
            {
             "iteration": 8,
             "learn": [
              0.4821097792
             ],
             "passed_time": 3.672539683,
             "remaining_time": 37.1334568,
             "test": [
              0.4829857066
             ]
            },
            {
             "iteration": 9,
             "learn": [
              0.4644935403
             ],
             "passed_time": 4.084532077,
             "remaining_time": 36.7607887,
             "test": [
              0.4651822463
             ]
            },
            {
             "iteration": 10,
             "learn": [
              0.4478992845
             ],
             "passed_time": 4.503334092,
             "remaining_time": 36.43606674,
             "test": [
              0.4483301779
             ]
            },
            {
             "iteration": 11,
             "learn": [
              0.4322843287
             ],
             "passed_time": 4.91452602,
             "remaining_time": 36.03985748,
             "test": [
              0.4321549364
             ]
            },
            {
             "iteration": 12,
             "learn": [
              0.4165979285
             ],
             "passed_time": 5.366410532,
             "remaining_time": 35.91367048,
             "test": [
              0.4166176771
             ]
            },
            {
             "iteration": 13,
             "learn": [
              0.4015082582
             ],
             "passed_time": 5.749345496,
             "remaining_time": 35.31740805,
             "test": [
              0.4019117907
             ]
            },
            {
             "iteration": 14,
             "learn": [
              0.3873360765
             ],
             "passed_time": 6.132313361,
             "remaining_time": 34.74977571,
             "test": [
              0.387818247
             ]
            },
            {
             "iteration": 15,
             "learn": [
              0.3726990225
             ],
             "passed_time": 6.699413331,
             "remaining_time": 35.17191999,
             "test": [
              0.374378504
             ]
            },
            {
             "iteration": 16,
             "learn": [
              0.3596209072
             ],
             "passed_time": 7.31307561,
             "remaining_time": 35.70501621,
             "test": [
              0.3614574432
             ]
            },
            {
             "iteration": 17,
             "learn": [
              0.3486247504
             ],
             "passed_time": 7.875579022,
             "remaining_time": 35.87763777,
             "test": [
              0.3490676117
             ]
            },
            {
             "iteration": 18,
             "learn": [
              0.3360334386
             ],
             "passed_time": 8.274806611,
             "remaining_time": 35.27680713,
             "test": [
              0.3372201686
             ]
            },
            {
             "iteration": 19,
             "learn": [
              0.325529843
             ],
             "passed_time": 8.684900002,
             "remaining_time": 34.73960001,
             "test": [
              0.3259529116
             ]
            },
            {
             "iteration": 20,
             "learn": [
              0.3133592101
             ],
             "passed_time": 9.084911179,
             "remaining_time": 34.17657063,
             "test": [
              0.3149968109
             ]
            },
            {
             "iteration": 21,
             "learn": [
              0.3031985019
             ],
             "passed_time": 9.473924576,
             "remaining_time": 33.58936895,
             "test": [
              0.3044730588
             ]
            },
            {
             "iteration": 22,
             "learn": [
              0.2931500724
             ],
             "passed_time": 9.89015948,
             "remaining_time": 33.11053391,
             "test": [
              0.2943893605
             ]
            },
            {
             "iteration": 23,
             "learn": [
              0.2831805456
             ],
             "passed_time": 10.30432246,
             "remaining_time": 32.63035447,
             "test": [
              0.2847009562
             ]
            },
            {
             "iteration": 24,
             "learn": [
              0.2733169801
             ],
             "passed_time": 10.75141272,
             "remaining_time": 32.25423816,
             "test": [
              0.2754151294
             ]
            },
            {
             "iteration": 25,
             "learn": [
              0.2648889689
             ],
             "passed_time": 11.1846644,
             "remaining_time": 31.8332756,
             "test": [
              0.2666124859
             ]
            },
            {
             "iteration": 26,
             "learn": [
              0.2568793219
             ],
             "passed_time": 11.57790799,
             "remaining_time": 31.3032327,
             "test": [
              0.2579639613
             ]
            },
            {
             "iteration": 27,
             "learn": [
              0.2489025734
             ],
             "passed_time": 11.98421242,
             "remaining_time": 30.81654622,
             "test": [
              0.2497293106
             ]
            },
            {
             "iteration": 28,
             "learn": [
              0.2407297108
             ],
             "passed_time": 12.40457351,
             "remaining_time": 30.36981791,
             "test": [
              0.2417436921
             ]
            },
            {
             "iteration": 29,
             "learn": [
              0.2329751618
             ],
             "passed_time": 12.79510731,
             "remaining_time": 29.85525039,
             "test": [
              0.2340733938
             ]
            },
            {
             "iteration": 30,
             "learn": [
              0.2257383368
             ],
             "passed_time": 13.19129701,
             "remaining_time": 29.36127398,
             "test": [
              0.2266880268
             ]
            },
            {
             "iteration": 31,
             "learn": [
              0.2183022212
             ],
             "passed_time": 13.59890865,
             "remaining_time": 28.89768088,
             "test": [
              0.2195752046
             ]
            },
            {
             "iteration": 32,
             "learn": [
              0.2108901406
             ],
             "passed_time": 14.0091201,
             "remaining_time": 28.44275899,
             "test": [
              0.2127008016
             ]
            },
            {
             "iteration": 33,
             "learn": [
              0.2041667654
             ],
             "passed_time": 14.40962226,
             "remaining_time": 27.97161968,
             "test": [
              0.2062021798
             ]
            },
            {
             "iteration": 34,
             "learn": [
              0.198680768
             ],
             "passed_time": 14.81131666,
             "remaining_time": 27.50673094,
             "test": [
              0.1998108462
             ]
            },
            {
             "iteration": 35,
             "learn": [
              0.1916674695
             ],
             "passed_time": 15.20053929,
             "remaining_time": 27.02318096,
             "test": [
              0.193669401
             ]
            },
            {
             "iteration": 36,
             "learn": [
              0.1863820606
             ],
             "passed_time": 15.64415302,
             "remaining_time": 26.63734163,
             "test": [
              0.1877618796
             ]
            },
            {
             "iteration": 37,
             "learn": [
              0.1800978524
             ],
             "passed_time": 16.05842332,
             "remaining_time": 26.20058541,
             "test": [
              0.1820722398
             ]
            },
            {
             "iteration": 38,
             "learn": [
              0.1754195944
             ],
             "passed_time": 16.45510752,
             "remaining_time": 25.73747586,
             "test": [
              0.1765375854
             ]
            },
            {
             "iteration": 39,
             "learn": [
              0.1694188033
             ],
             "passed_time": 16.84450889,
             "remaining_time": 25.26676334,
             "test": [
              0.1711952375
             ]
            },
            {
             "iteration": 40,
             "learn": [
              0.1643161705
             ],
             "passed_time": 17.25464219,
             "remaining_time": 24.82985095,
             "test": [
              0.1660074086
             ]
            },
            {
             "iteration": 41,
             "learn": [
              0.1599307924
             ],
             "passed_time": 17.65830093,
             "remaining_time": 24.38527272,
             "test": [
              0.1610097912
             ]
            },
            {
             "iteration": 42,
             "learn": [
              0.1549588001
             ],
             "passed_time": 18.0753958,
             "remaining_time": 23.96040838,
             "test": [
              0.1562192566
             ]
            },
            {
             "iteration": 43,
             "learn": [
              0.1500841091
             ],
             "passed_time": 18.49948337,
             "remaining_time": 23.54479701,
             "test": [
              0.1516878316
             ]
            },
            {
             "iteration": 44,
             "learn": [
              0.1453417503
             ],
             "passed_time": 18.86349665,
             "remaining_time": 23.0553848,
             "test": [
              0.1472381216
             ]
            },
            {
             "iteration": 45,
             "learn": [
              0.1411527827
             ],
             "passed_time": 19.27434227,
             "remaining_time": 22.62640179,
             "test": [
              0.1429252071
             ]
            },
            {
             "iteration": 46,
             "learn": [
              0.1371264103
             ],
             "passed_time": 19.71422607,
             "remaining_time": 22.23093578,
             "test": [
              0.138702924
             ]
            },
            {
             "iteration": 47,
             "learn": [
              0.1332350885
             ],
             "passed_time": 20.1414768,
             "remaining_time": 21.81993319,
             "test": [
              0.1346600302
             ]
            },
            {
             "iteration": 48,
             "learn": [
              0.129339251
             ],
             "passed_time": 20.52645759,
             "remaining_time": 21.36427219,
             "test": [
              0.1307166166
             ]
            },
            {
             "iteration": 49,
             "learn": [
              0.1254980492
             ],
             "passed_time": 20.93815717,
             "remaining_time": 20.93815717,
             "test": [
              0.1269784019
             ]
            },
            {
             "iteration": 50,
             "learn": [
              0.1216704828
             ],
             "passed_time": 21.33038408,
             "remaining_time": 20.49389843,
             "test": [
              0.123260334
             ]
            },
            {
             "iteration": 51,
             "learn": [
              0.1181850255
             ],
             "passed_time": 21.80562699,
             "remaining_time": 20.12827106,
             "test": [
              0.1197895347
             ]
            },
            {
             "iteration": 52,
             "learn": [
              0.1150893934
             ],
             "passed_time": 22.21070677,
             "remaining_time": 19.69628713,
             "test": [
              0.1164034322
             ]
            },
            {
             "iteration": 53,
             "learn": [
              0.1118111878
             ],
             "passed_time": 22.6649815,
             "remaining_time": 19.30720646,
             "test": [
              0.1130395555
             ]
            },
            {
             "iteration": 54,
             "learn": [
              0.1082311515
             ],
             "passed_time": 23.07856395,
             "remaining_time": 18.88246142,
             "test": [
              0.1097800884
             ]
            },
            {
             "iteration": 55,
             "learn": [
              0.1055556261
             ],
             "passed_time": 23.55882817,
             "remaining_time": 18.51050784,
             "test": [
              0.1067235567
             ]
            },
            {
             "iteration": 56,
             "learn": [
              0.1022948105
             ],
             "passed_time": 23.96499564,
             "remaining_time": 18.07885636,
             "test": [
              0.1037525098
             ]
            },
            {
             "iteration": 57,
             "learn": [
              0.09967640975
             ],
             "passed_time": 24.3771262,
             "remaining_time": 17.65240173,
             "test": [
              0.1007848805
             ]
            },
            {
             "iteration": 58,
             "learn": [
              0.09648905946
             ],
             "passed_time": 24.86284027,
             "remaining_time": 17.27756697,
             "test": [
              0.09796438446
             ]
            },
            {
             "iteration": 59,
             "learn": [
              0.0940011841
             ],
             "passed_time": 25.24824925,
             "remaining_time": 16.83216617,
             "test": [
              0.09529126199
             ]
            },
            {
             "iteration": 60,
             "learn": [
              0.09117681929
             ],
             "passed_time": 25.64374921,
             "remaining_time": 16.39518392,
             "test": [
              0.09267839858
             ]
            },
            {
             "iteration": 61,
             "learn": [
              0.08865536641
             ],
             "passed_time": 26.04145683,
             "remaining_time": 15.9608929,
             "test": [
              0.09011635022
             ]
            },
            {
             "iteration": 62,
             "learn": [
              0.08646844223
             ],
             "passed_time": 26.44781758,
             "remaining_time": 15.53284525,
             "test": [
              0.08767566149
             ]
            },
            {
             "iteration": 63,
             "learn": [
              0.08398503502
             ],
             "passed_time": 26.86586677,
             "remaining_time": 15.11205006,
             "test": [
              0.08522819615
             ]
            },
            {
             "iteration": 64,
             "learn": [
              0.08153727194
             ],
             "passed_time": 27.26817035,
             "remaining_time": 14.68286096,
             "test": [
              0.08294024149
             ]
            },
            {
             "iteration": 65,
             "learn": [
              0.07915860218
             ],
             "passed_time": 27.67696319,
             "remaining_time": 14.25782952,
             "test": [
              0.08067466653
             ]
            },
            {
             "iteration": 66,
             "learn": [
              0.07706509168
             ],
             "passed_time": 28.08641273,
             "remaining_time": 13.83360627,
             "test": [
              0.07857094544
             ]
            },
            {
             "iteration": 67,
             "learn": [
              0.07502589105
             ],
             "passed_time": 28.49986226,
             "remaining_time": 13.41169989,
             "test": [
              0.07653588509
             ]
            },
            {
             "iteration": 68,
             "learn": [
              0.07303820856
             ],
             "passed_time": 28.89109925,
             "remaining_time": 12.98005908,
             "test": [
              0.07443760659
             ]
            },
            {
             "iteration": 69,
             "learn": [
              0.07106334887
             ],
             "passed_time": 29.30671718,
             "remaining_time": 12.56002165,
             "test": [
              0.07238664863
             ]
            },
            {
             "iteration": 70,
             "learn": [
              0.06911150326
             ],
             "passed_time": 29.72173575,
             "remaining_time": 12.1398639,
             "test": [
              0.07040127852
             ]
            },
            {
             "iteration": 71,
             "learn": [
              0.06725352704
             ],
             "passed_time": 30.11166251,
             "remaining_time": 11.71009098,
             "test": [
              0.06862021333
             ]
            },
            {
             "iteration": 72,
             "learn": [
              0.06552318422
             ],
             "passed_time": 30.50927061,
             "remaining_time": 11.28425077,
             "test": [
              0.06678547815
             ]
            },
            {
             "iteration": 73,
             "learn": [
              0.06394873327
             ],
             "passed_time": 30.92140519,
             "remaining_time": 10.8642775,
             "test": [
              0.06499528195
             ]
            },
            {
             "iteration": 74,
             "learn": [
              0.06222623656
             ],
             "passed_time": 31.37158695,
             "remaining_time": 10.45719565,
             "test": [
              0.06329417489
             ]
            },
            {
             "iteration": 75,
             "learn": [
              0.06043809616
             ],
             "passed_time": 31.77884992,
             "remaining_time": 10.03542629,
             "test": [
              0.06162614743
             ]
            },
            {
             "iteration": 76,
             "learn": [
              0.05905992393
             ],
             "passed_time": 32.15272639,
             "remaining_time": 9.604061129,
             "test": [
              0.05999107352
             ]
            },
            {
             "iteration": 77,
             "learn": [
              0.05736444217
             ],
             "passed_time": 32.59793639,
             "remaining_time": 9.194289752,
             "test": [
              0.05833461496
             ]
            },
            {
             "iteration": 78,
             "learn": [
              0.0559106743
             ],
             "passed_time": 33.0322472,
             "remaining_time": 8.78072394,
             "test": [
              0.05677540944
             ]
            },
            {
             "iteration": 79,
             "learn": [
              0.05441005086
             ],
             "passed_time": 33.45758169,
             "remaining_time": 8.364395423,
             "test": [
              0.05527893405
             ]
            },
            {
             "iteration": 80,
             "learn": [
              0.05311869847
             ],
             "passed_time": 33.88299779,
             "remaining_time": 7.947863679,
             "test": [
              0.05383595106
             ]
            },
            {
             "iteration": 81,
             "learn": [
              0.05169267014
             ],
             "passed_time": 34.30270469,
             "remaining_time": 7.529862006,
             "test": [
              0.05256514862
             ]
            },
            {
             "iteration": 82,
             "learn": [
              0.05046022122
             ],
             "passed_time": 34.73338851,
             "remaining_time": 7.114067526,
             "test": [
              0.05133539844
             ]
            },
            {
             "iteration": 83,
             "learn": [
              0.04921130014
             ],
             "passed_time": 35.13940094,
             "remaining_time": 6.693219226,
             "test": [
              0.05003278294
             ]
            },
            {
             "iteration": 84,
             "learn": [
              0.04789743971
             ],
             "passed_time": 35.5658047,
             "remaining_time": 6.276318476,
             "test": [
              0.04877133415
             ]
            },
            {
             "iteration": 85,
             "learn": [
              0.04666207038
             ],
             "passed_time": 35.96790886,
             "remaining_time": 5.855240977,
             "test": [
              0.04745373025
             ]
            },
            {
             "iteration": 86,
             "learn": [
              0.04554752716
             ],
             "passed_time": 36.37860192,
             "remaining_time": 5.435883046,
             "test": [
              0.04621747839
             ]
            },
            {
             "iteration": 87,
             "learn": [
              0.04447883958
             ],
             "passed_time": 36.79587326,
             "remaining_time": 5.017619081,
             "test": [
              0.04513254653
             ]
            },
            {
             "iteration": 88,
             "learn": [
              0.04337270422
             ],
             "passed_time": 37.21980488,
             "remaining_time": 4.600200603,
             "test": [
              0.04402597825
             ]
            },
            {
             "iteration": 89,
             "learn": [
              0.04230959563
             ],
             "passed_time": 37.64047932,
             "remaining_time": 4.18227548,
             "test": [
              0.04303815691
             ]
            },
            {
             "iteration": 90,
             "learn": [
              0.04126286944
             ],
             "passed_time": 38.03126641,
             "remaining_time": 3.76133404,
             "test": [
              0.04193156254
             ]
            },
            {
             "iteration": 91,
             "learn": [
              0.04025436497
             ],
             "passed_time": 38.48392987,
             "remaining_time": 3.346428684,
             "test": [
              0.04089156562
             ]
            },
            {
             "iteration": 92,
             "learn": [
              0.03926154301
             ],
             "passed_time": 39.04882208,
             "remaining_time": 2.939158651,
             "test": [
              0.03983534979
             ]
            },
            {
             "iteration": 93,
             "learn": [
              0.03832092953
             ],
             "passed_time": 39.58613199,
             "remaining_time": 2.526774382,
             "test": [
              0.03885137134
             ]
            },
            {
             "iteration": 94,
             "learn": [
              0.03742342997
             ],
             "passed_time": 40.03527984,
             "remaining_time": 2.107119992,
             "test": [
              0.03794066012
             ]
            },
            {
             "iteration": 95,
             "learn": [
              0.03657006214
             ],
             "passed_time": 40.45618515,
             "remaining_time": 1.685674381,
             "test": [
              0.03707974287
             ]
            },
            {
             "iteration": 96,
             "learn": [
              0.03567463989
             ],
             "passed_time": 40.85251515,
             "remaining_time": 1.26347985,
             "test": [
              0.0361441612
             ]
            },
            {
             "iteration": 97,
             "learn": [
              0.03483884542
             ],
             "passed_time": 41.25941195,
             "remaining_time": 0.8420288152,
             "test": [
              0.03529836167
             ]
            },
            {
             "iteration": 98,
             "learn": [
              0.03405414267
             ],
             "passed_time": 41.67831545,
             "remaining_time": 0.4209930853,
             "test": [
              0.03439411089
             ]
            },
            {
             "iteration": 99,
             "learn": [
              0.03323254504
             ],
             "passed_time": 42.05218398,
             "remaining_time": 0,
             "test": [
              0.03362884104
             ]
            }
           ],
           "meta": {
            "iteration_count": 100,
            "launch_mode": "Train",
            "learn_metrics": [
             {
              "best_value": "Min",
              "name": "CrossEntropy"
             }
            ],
            "learn_sets": [
             "learn"
            ],
            "name": "experiment",
            "parameters": "",
            "test_metrics": [
             {
              "best_value": "Min",
              "name": "CrossEntropy"
             }
            ],
            "test_sets": [
             "test"
            ]
           }
          },
          "passed_iterations": 99,
          "total_iterations": 100
         },
         "name": "catboost_info",
         "path": "catboost_info"
        }
       },
       "layout": "IPY_MODEL_e30b2fe2618a4f40b48fb16d0cb4410b"
      }
     },
     "e1e815c6fe2e42bf8de334d213e03829": {
      "model_module": "@jupyter-widgets/base",
      "model_module_version": "1.2.0",
      "model_name": "LayoutModel",
      "state": {
       "_model_module": "@jupyter-widgets/base",
       "_model_module_version": "1.2.0",
       "_model_name": "LayoutModel",
       "_view_count": null,
       "_view_module": "@jupyter-widgets/base",
       "_view_module_version": "1.2.0",
       "_view_name": "LayoutView",
       "align_content": null,
       "align_items": null,
       "align_self": "stretch",
       "border": null,
       "bottom": null,
       "display": null,
       "flex": null,
       "flex_flow": null,
       "grid_area": null,
       "grid_auto_columns": null,
       "grid_auto_flow": null,
       "grid_auto_rows": null,
       "grid_column": null,
       "grid_gap": null,
       "grid_row": null,
       "grid_template_areas": null,
       "grid_template_columns": null,
       "grid_template_rows": null,
       "height": "500px",
       "justify_content": null,
       "justify_items": null,
       "left": null,
       "margin": null,
       "max_height": null,
       "max_width": null,
       "min_height": null,
       "min_width": null,
       "object_fit": null,
       "object_position": null,
       "order": null,
       "overflow": null,
       "overflow_x": null,
       "overflow_y": null,
       "padding": null,
       "right": null,
       "top": null,
       "visibility": null,
       "width": null
      }
     },
     "e30b2fe2618a4f40b48fb16d0cb4410b": {
      "model_module": "@jupyter-widgets/base",
      "model_module_version": "1.2.0",
      "model_name": "LayoutModel",
      "state": {
       "_model_module": "@jupyter-widgets/base",
       "_model_module_version": "1.2.0",
       "_model_name": "LayoutModel",
       "_view_count": null,
       "_view_module": "@jupyter-widgets/base",
       "_view_module_version": "1.2.0",
       "_view_name": "LayoutView",
       "align_content": null,
       "align_items": null,
       "align_self": "stretch",
       "border": null,
       "bottom": null,
       "display": null,
       "flex": null,
       "flex_flow": null,
       "grid_area": null,
       "grid_auto_columns": null,
       "grid_auto_flow": null,
       "grid_auto_rows": null,
       "grid_column": null,
       "grid_gap": null,
       "grid_row": null,
       "grid_template_areas": null,
       "grid_template_columns": null,
       "grid_template_rows": null,
       "height": "500px",
       "justify_content": null,
       "justify_items": null,
       "left": null,
       "margin": null,
       "max_height": null,
       "max_width": null,
       "min_height": null,
       "min_width": null,
       "object_fit": null,
       "object_position": null,
       "order": null,
       "overflow": null,
       "overflow_x": null,
       "overflow_y": null,
       "padding": null,
       "right": null,
       "top": null,
       "visibility": null,
       "width": null
      }
     },
     "e629a6a8fbe04a80b29e5a312ac23cef": {
      "model_module": "@jupyter-widgets/base",
      "model_module_version": "1.2.0",
      "model_name": "LayoutModel",
      "state": {
       "_model_module": "@jupyter-widgets/base",
       "_model_module_version": "1.2.0",
       "_model_name": "LayoutModel",
       "_view_count": null,
       "_view_module": "@jupyter-widgets/base",
       "_view_module_version": "1.2.0",
       "_view_name": "LayoutView",
       "align_content": null,
       "align_items": null,
       "align_self": "stretch",
       "border": null,
       "bottom": null,
       "display": null,
       "flex": null,
       "flex_flow": null,
       "grid_area": null,
       "grid_auto_columns": null,
       "grid_auto_flow": null,
       "grid_auto_rows": null,
       "grid_column": null,
       "grid_gap": null,
       "grid_row": null,
       "grid_template_areas": null,
       "grid_template_columns": null,
       "grid_template_rows": null,
       "height": "500px",
       "justify_content": null,
       "justify_items": null,
       "left": null,
       "margin": null,
       "max_height": null,
       "max_width": null,
       "min_height": null,
       "min_width": null,
       "object_fit": null,
       "object_position": null,
       "order": null,
       "overflow": null,
       "overflow_x": null,
       "overflow_y": null,
       "padding": null,
       "right": null,
       "top": null,
       "visibility": null,
       "width": null
      }
     },
     "eaec05ad8f1448c3a982296e23e810a5": {
      "model_module": "catboost-widget",
      "model_module_version": "^1.0.0",
      "model_name": "CatboostWidgetModel",
      "state": {
       "_dom_classes": [],
       "_model_module": "catboost-widget",
       "_model_module_version": "^1.0.0",
       "_model_name": "CatboostWidgetModel",
       "_view_count": null,
       "_view_module": "catboost-widget",
       "_view_module_version": "^1.0.0",
       "_view_name": "CatboostWidgetView",
       "data": {
        "catboost_info": {
         "content": {
          "data": {
           "iterations": [
            {
             "iteration": 0,
             "learn": [
              0.6613847514
             ],
             "passed_time": 0.4078466422,
             "remaining_time": 40.37681758,
             "test": [
              0.663600883
             ]
            },
            {
             "iteration": 1,
             "learn": [
              0.6362960598
             ],
             "passed_time": 0.8509038901,
             "remaining_time": 41.69429062,
             "test": [
              0.6357737158
             ]
            },
            {
             "iteration": 2,
             "learn": [
              0.6093769111
             ],
             "passed_time": 1.28849162,
             "remaining_time": 41.66122906,
             "test": [
              0.6095205529
             ]
            },
            {
             "iteration": 3,
             "learn": [
              0.5837184877
             ],
             "passed_time": 1.636811499,
             "remaining_time": 39.28347598,
             "test": [
              0.5847123312
             ]
            },
            {
             "iteration": 4,
             "learn": [
              0.5621911612
             ],
             "passed_time": 2.049067381,
             "remaining_time": 38.93228024,
             "test": [
              0.5612369068
             ]
            },
            {
             "iteration": 5,
             "learn": [
              0.5376532352
             ],
             "passed_time": 2.478697142,
             "remaining_time": 38.83292189,
             "test": [
              0.5389925637
             ]
            },
            {
             "iteration": 6,
             "learn": [
              0.5168806878
             ],
             "passed_time": 2.811088106,
             "remaining_time": 37.34731341,
             "test": [
              0.5178861614
             ]
            },
            {
             "iteration": 7,
             "learn": [
              0.498682767
             ],
             "passed_time": 3.263584851,
             "remaining_time": 37.53122578,
             "test": [
              0.4978384352
             ]
            },
            {
             "iteration": 8,
             "learn": [
              0.478524442
             ],
             "passed_time": 3.707093997,
             "remaining_time": 37.4828393,
             "test": [
              0.4787743765
             ]
            },
            {
             "iteration": 9,
             "learn": [
              0.4605801674
             ],
             "passed_time": 4.130289361,
             "remaining_time": 37.17260425,
             "test": [
              0.4606293397
             ]
            },
            {
             "iteration": 10,
             "learn": [
              0.4438267998
             ],
             "passed_time": 4.566913663,
             "remaining_time": 36.95048328,
             "test": [
              0.4433409799
             ]
            },
            {
             "iteration": 11,
             "learn": [
              0.4280509412
             ],
             "passed_time": 4.98001444,
             "remaining_time": 36.5201059,
             "test": [
              0.4268565186
             ]
            },
            {
             "iteration": 12,
             "learn": [
              0.4121128917
             ],
             "passed_time": 5.410361787,
             "remaining_time": 36.2078058,
             "test": [
              0.4111229442
             ]
            },
            {
             "iteration": 13,
             "learn": [
              0.3967758554
             ],
             "passed_time": 5.801548676,
             "remaining_time": 35.63808472,
             "test": [
              0.396098397
             ]
            },
            {
             "iteration": 14,
             "learn": [
              0.3823932613
             ],
             "passed_time": 6.208045692,
             "remaining_time": 35.17892559,
             "test": [
              0.3817372212
             ]
            },
            {
             "iteration": 15,
             "learn": [
              0.3673339539
             ],
             "passed_time": 6.580254285,
             "remaining_time": 34.546335,
             "test": [
              0.3680020969
             ]
            },
            {
             "iteration": 16,
             "learn": [
              0.3538783714
             ],
             "passed_time": 6.979996001,
             "remaining_time": 34.078804,
             "test": [
              0.3548583382
             ]
            },
            {
             "iteration": 17,
             "learn": [
              0.3431684219
             ],
             "passed_time": 7.448122807,
             "remaining_time": 33.93033723,
             "test": [
              0.3422707699
             ]
            },
            {
             "iteration": 18,
             "learn": [
              0.330086378
             ],
             "passed_time": 7.78739185,
             "remaining_time": 33.19888105,
             "test": [
              0.3302097674
             ]
            },
            {
             "iteration": 19,
             "learn": [
              0.3196734258
             ],
             "passed_time": 8.193122004,
             "remaining_time": 32.77248802,
             "test": [
              0.3186484255
             ]
            },
            {
             "iteration": 20,
             "learn": [
              0.3069722019
             ],
             "passed_time": 8.585553325,
             "remaining_time": 32.29803394,
             "test": [
              0.3075593907
             ]
            },
            {
             "iteration": 21,
             "learn": [
              0.2968813248
             ],
             "passed_time": 9.023885855,
             "remaining_time": 31.99377712,
             "test": [
              0.2969184157
             ]
            },
            {
             "iteration": 22,
             "learn": [
              0.2867670918
             ],
             "passed_time": 9.396804793,
             "remaining_time": 31.45886822,
             "test": [
              0.2867025996
             ]
            },
            {
             "iteration": 23,
             "learn": [
              0.2765028978
             ],
             "passed_time": 9.822812498,
             "remaining_time": 31.10557291,
             "test": [
              0.2768918628
             ]
            },
            {
             "iteration": 24,
             "learn": [
              0.2664453593
             ],
             "passed_time": 10.28280786,
             "remaining_time": 30.84842357,
             "test": [
              0.2674648763
             ]
            },
            {
             "iteration": 25,
             "learn": [
              0.2579789017
             ],
             "passed_time": 10.70855204,
             "remaining_time": 30.47818659,
             "test": [
              0.2584033052
             ]
            },
            {
             "iteration": 26,
             "learn": [
              0.2499627472
             ],
             "passed_time": 11.15828106,
             "remaining_time": 30.16868584,
             "test": [
              0.2496909557
             ]
            },
            {
             "iteration": 27,
             "learn": [
              0.2419720648
             ],
             "passed_time": 11.55972419,
             "remaining_time": 29.72500505,
             "test": [
              0.2413099214
             ]
            },
            {
             "iteration": 28,
             "learn": [
              0.2336760719
             ],
             "passed_time": 11.99591254,
             "remaining_time": 29.36930311,
             "test": [
              0.2332451243
             ]
            },
            {
             "iteration": 29,
             "learn": [
              0.2258445639
             ],
             "passed_time": 12.42419359,
             "remaining_time": 28.98978505,
             "test": [
              0.2254831561
             ]
            },
            {
             "iteration": 30,
             "learn": [
              0.2185229847
             ],
             "passed_time": 12.83665618,
             "remaining_time": 28.57191215,
             "test": [
              0.2180095601
             ]
            },
            {
             "iteration": 31,
             "learn": [
              0.2109300447
             ],
             "passed_time": 13.2163221,
             "remaining_time": 28.08468446,
             "test": [
              0.2108111967
             ]
            },
            {
             "iteration": 32,
             "learn": [
              0.2033489699
             ],
             "passed_time": 13.67338212,
             "remaining_time": 27.76110915,
             "test": [
              0.2038766626
             ]
            },
            {
             "iteration": 33,
             "learn": [
              0.1964208154
             ],
             "passed_time": 14.12218794,
             "remaining_time": 27.41365894,
             "test": [
              0.1971945804
             ]
            },
            {
             "iteration": 34,
             "learn": [
              0.1911688982
             ],
             "passed_time": 14.58528073,
             "remaining_time": 27.08694993,
             "test": [
              0.1907536953
             ]
            },
            {
             "iteration": 35,
             "learn": [
              0.1839019664
             ],
             "passed_time": 14.96451889,
             "remaining_time": 26.60358914,
             "test": [
              0.1845437402
             ]
            },
            {
             "iteration": 36,
             "learn": [
              0.1787570968
             ],
             "passed_time": 15.37392207,
             "remaining_time": 26.17721865,
             "test": [
              0.1785554156
             ]
            },
            {
             "iteration": 37,
             "learn": [
              0.1721883613
             ],
             "passed_time": 15.77193714,
             "remaining_time": 25.7331606,
             "test": [
              0.1727786739
             ]
            },
            {
             "iteration": 38,
             "learn": [
              0.1676665466
             ],
             "passed_time": 16.21543753,
             "remaining_time": 25.36260742,
             "test": [
              0.1672059508
             ]
            },
            {
             "iteration": 39,
             "learn": [
              0.1614244142
             ],
             "passed_time": 16.61786736,
             "remaining_time": 24.92680104,
             "test": [
              0.1618281832
             ]
            },
            {
             "iteration": 40,
             "learn": [
              0.1563266805
             ],
             "passed_time": 17.05518533,
             "remaining_time": 24.54282767,
             "test": [
              0.1566378616
             ]
            },
            {
             "iteration": 41,
             "learn": [
              0.1520149648
             ],
             "passed_time": 17.48584724,
             "remaining_time": 24.14712237,
             "test": [
              0.151627465
             ]
            },
            {
             "iteration": 42,
             "learn": [
              0.1470002258
             ],
             "passed_time": 17.92487283,
             "remaining_time": 23.76087794,
             "test": [
              0.1467897748
             ]
            },
            {
             "iteration": 43,
             "learn": [
              0.1418668963
             ],
             "passed_time": 18.36362419,
             "remaining_time": 23.37188533,
             "test": [
              0.1421182349
             ]
            },
            {
             "iteration": 44,
             "learn": [
              0.137104723
             ],
             "passed_time": 18.79991906,
             "remaining_time": 22.97767885,
             "test": [
              0.1376062754
             ]
            },
            {
             "iteration": 45,
             "learn": [
              0.1329063175
             ],
             "passed_time": 19.26091198,
             "remaining_time": 22.6106358,
             "test": [
              0.1332476216
             ]
            },
            {
             "iteration": 46,
             "learn": [
              0.128916552
             ],
             "passed_time": 19.63487615,
             "remaining_time": 22.14145609,
             "test": [
              0.1290359845
             ]
            },
            {
             "iteration": 47,
             "learn": [
              0.1249896092
             ],
             "passed_time": 20.17489999,
             "remaining_time": 21.85614166,
             "test": [
              0.1249669278
             ]
            },
            {
             "iteration": 48,
             "learn": [
              0.1210806072
             ],
             "passed_time": 20.78283475,
             "remaining_time": 21.63111372,
             "test": [
              0.1210339666
             ]
            },
            {
             "iteration": 49,
             "learn": [
              0.1171934103
             ],
             "passed_time": 21.29114777,
             "remaining_time": 21.29114777,
             "test": [
              0.1172325812
             ]
            },
            {
             "iteration": 50,
             "learn": [
              0.1133176977
             ],
             "passed_time": 21.86866277,
             "remaining_time": 21.01106815,
             "test": [
              0.1135582366
             ]
            },
            {
             "iteration": 51,
             "learn": [
              0.1097543813
             ],
             "passed_time": 22.22478541,
             "remaining_time": 20.51518653,
             "test": [
              0.1100047405
             ]
            },
            {
             "iteration": 52,
             "learn": [
              0.1069259253
             ],
             "passed_time": 22.57007321,
             "remaining_time": 20.01497058,
             "test": [
              0.1065688738
             ]
            },
            {
             "iteration": 53,
             "learn": [
              0.1034041887
             ],
             "passed_time": 22.9194949,
             "remaining_time": 19.52401418,
             "test": [
              0.1032461964
             ]
            },
            {
             "iteration": 54,
             "learn": [
              0.09973057555
             ],
             "passed_time": 23.38625298,
             "remaining_time": 19.13420698,
             "test": [
              0.1000329699
             ]
            },
            {
             "iteration": 55,
             "learn": [
              0.09713726844
             ],
             "passed_time": 23.80693794,
             "remaining_time": 18.70545124,
             "test": [
              0.09692459595
             ]
            },
            {
             "iteration": 56,
             "learn": [
              0.09376586892
             ],
             "passed_time": 24.23429647,
             "remaining_time": 18.28201312,
             "test": [
              0.09391720296
             ]
            },
            {
             "iteration": 57,
             "learn": [
              0.09122258274
             ],
             "passed_time": 24.70309428,
             "remaining_time": 17.88844758,
             "test": [
              0.09100861701
             ]
            },
            {
             "iteration": 58,
             "learn": [
              0.08794173707
             ],
             "passed_time": 25.11856429,
             "remaining_time": 17.45527349,
             "test": [
              0.08819351878
             ]
            },
            {
             "iteration": 59,
             "learn": [
              0.08547365147
             ],
             "passed_time": 25.55269324,
             "remaining_time": 17.03512882,
             "test": [
              0.08546974327
             ]
            },
            {
             "iteration": 60,
             "learn": [
              0.08257605902
             ],
             "passed_time": 25.98057478,
             "remaining_time": 16.61053142,
             "test": [
              0.0828332665
             ]
            },
            {
             "iteration": 61,
             "learn": [
              0.08010125547
             ],
             "passed_time": 26.40741035,
             "remaining_time": 16.18518699,
             "test": [
              0.08028184228
             ]
            },
            {
             "iteration": 62,
             "learn": [
              0.07797043067
             ],
             "passed_time": 26.81201085,
             "remaining_time": 15.74673653,
             "test": [
              0.07781205498
             ]
            },
            {
             "iteration": 63,
             "learn": [
              0.07548857069
             ],
             "passed_time": 27.21322741,
             "remaining_time": 15.30744042,
             "test": [
              0.07542150624
             ]
            },
            {
             "iteration": 64,
             "learn": [
              0.07295716462
             ],
             "passed_time": 27.67262253,
             "remaining_time": 14.9006429,
             "test": [
              0.07310710261
             ]
            },
            {
             "iteration": 65,
             "learn": [
              0.07054172204
             ],
             "passed_time": 28.10925835,
             "remaining_time": 14.48052703,
             "test": [
              0.07086614215
             ]
            },
            {
             "iteration": 66,
             "learn": [
              0.06844837758
             ],
             "passed_time": 28.56420311,
             "remaining_time": 14.06893586,
             "test": [
              0.06869641567
             ]
            },
            {
             "iteration": 67,
             "learn": [
              0.06643158257
             ],
             "passed_time": 28.92303364,
             "remaining_time": 13.61083936,
             "test": [
              0.06659531979
             ]
            },
            {
             "iteration": 68,
             "learn": [
              0.06446601439
             ],
             "passed_time": 29.34003548,
             "remaining_time": 13.18175507,
             "test": [
              0.06456075843
             ]
            },
            {
             "iteration": 69,
             "learn": [
              0.06251221786
             ],
             "passed_time": 29.68456931,
             "remaining_time": 12.72195828,
             "test": [
              0.06259037035
             ]
            },
            {
             "iteration": 70,
             "learn": [
              0.0605632302
             ],
             "passed_time": 30.045676,
             "remaining_time": 12.27217752,
             "test": [
              0.06068246434
             ]
            },
            {
             "iteration": 71,
             "learn": [
              0.05865350222
             ],
             "passed_time": 30.43964213,
             "remaining_time": 11.8376386,
             "test": [
              0.05883420866
             ]
            },
            {
             "iteration": 72,
             "learn": [
              0.05684103131
             ],
             "passed_time": 30.84690631,
             "remaining_time": 11.40912973,
             "test": [
              0.05704364182
             ]
            },
            {
             "iteration": 73,
             "learn": [
              0.05543131364
             ],
             "passed_time": 31.3086809,
             "remaining_time": 11.00034734,
             "test": [
              0.05530952348
             ]
            },
            {
             "iteration": 74,
             "learn": [
              0.05367286085
             ],
             "passed_time": 31.76785272,
             "remaining_time": 10.58928424,
             "test": [
              0.05362972556
             ]
            },
            {
             "iteration": 75,
             "learn": [
              0.05182532138
             ],
             "passed_time": 32.28016041,
             "remaining_time": 10.19373486,
             "test": [
              0.05200222471
             ]
            },
            {
             "iteration": 76,
             "learn": [
              0.05053067592
             ],
             "passed_time": 32.80636089,
             "remaining_time": 9.799302604,
             "test": [
              0.05042524666
             ]
            },
            {
             "iteration": 77,
             "learn": [
              0.04884034842
             ],
             "passed_time": 33.22951646,
             "remaining_time": 9.37242772,
             "test": [
              0.04889787879
             ]
            },
            {
             "iteration": 78,
             "learn": [
              0.04721072582
             ],
             "passed_time": 33.62666935,
             "remaining_time": 8.938734891,
             "test": [
              0.04741758065
             ]
            },
            {
             "iteration": 79,
             "learn": [
              0.04591199273
             ],
             "passed_time": 34.07872034,
             "remaining_time": 8.519680085,
             "test": [
              0.04598324149
             ]
            },
            {
             "iteration": 80,
             "learn": [
              0.04464922933
             ],
             "passed_time": 34.47877651,
             "remaining_time": 8.087614244,
             "test": [
              0.04459303533
             ]
            },
            {
             "iteration": 81,
             "learn": [
              0.04306401509
             ],
             "passed_time": 34.85113802,
             "remaining_time": 7.65024981,
             "test": [
              0.04324586754
             ]
            },
            {
             "iteration": 82,
             "learn": [
              0.04195540927
             ],
             "passed_time": 35.21965836,
             "remaining_time": 7.213664964,
             "test": [
              0.04194024714
             ]
            },
            {
             "iteration": 83,
             "learn": [
              0.04071455261
             ],
             "passed_time": 35.59033322,
             "remaining_time": 6.779111089,
             "test": [
              0.04067519802
             ]
            },
            {
             "iteration": 84,
             "learn": [
              0.03934768358
             ],
             "passed_time": 35.97993009,
             "remaining_time": 6.349399427,
             "test": [
              0.03944863386
             ]
            },
            {
             "iteration": 85,
             "learn": [
              0.03812692355
             ],
             "passed_time": 36.46596904,
             "remaining_time": 5.936320542,
             "test": [
              0.03826035457
             ]
            },
            {
             "iteration": 86,
             "learn": [
              0.03710718768
             ],
             "passed_time": 36.8167012,
             "remaining_time": 5.501346157,
             "test": [
              0.03710824526
             ]
            },
            {
             "iteration": 87,
             "learn": [
              0.03605577601
             ],
             "passed_time": 37.25342831,
             "remaining_time": 5.080012951,
             "test": [
              0.0359918531
             ]
            },
            {
             "iteration": 88,
             "learn": [
              0.0348676275
             ],
             "passed_time": 37.66335329,
             "remaining_time": 4.655021193,
             "test": [
              0.0349094532
             ]
            },
            {
             "iteration": 89,
             "learn": [
              0.03382450513
             ],
             "passed_time": 38.12884215,
             "remaining_time": 4.236538016,
             "test": [
              0.03386026432
             ]
            },
            {
             "iteration": 90,
             "learn": [
              0.03281924105
             ],
             "passed_time": 38.51654769,
             "remaining_time": 3.809328893,
             "test": [
              0.03284288793
             ]
            },
            {
             "iteration": 91,
             "learn": [
              0.03182902875
             ],
             "passed_time": 38.95944725,
             "remaining_time": 3.387778021,
             "test": [
              0.03185725129
             ]
            },
            {
             "iteration": 92,
             "learn": [
              0.03085163959
             ],
             "passed_time": 39.38114143,
             "remaining_time": 2.964171936,
             "test": [
              0.03090129386
             ]
            },
            {
             "iteration": 93,
             "learn": [
              0.02990778863
             ],
             "passed_time": 39.85272402,
             "remaining_time": 2.543790895,
             "test": [
              0.02997550988
             ]
            },
            {
             "iteration": 94,
             "learn": [
              0.02897125699
             ],
             "passed_time": 40.3223607,
             "remaining_time": 2.122229511,
             "test": [
              0.02907700316
             ]
            },
            {
             "iteration": 95,
             "learn": [
              0.02823784089
             ],
             "passed_time": 40.79398519,
             "remaining_time": 1.699749383,
             "test": [
              0.02820582546
             ]
            },
            {
             "iteration": 96,
             "learn": [
              0.02735214789
             ],
             "passed_time": 41.22845169,
             "remaining_time": 1.275106753,
             "test": [
              0.02736121916
             ]
            },
            {
             "iteration": 97,
             "learn": [
              0.02643011475
             ],
             "passed_time": 41.66253282,
             "remaining_time": 0.8502557719,
             "test": [
              0.02654213787
             ]
            },
            {
             "iteration": 98,
             "learn": [
              0.02577651804
             ],
             "passed_time": 42.0417455,
             "remaining_time": 0.4246640959,
             "test": [
              0.02574766056
             ]
            },
            {
             "iteration": 99,
             "learn": [
              0.02492084967
             ],
             "passed_time": 42.42167814,
             "remaining_time": 0,
             "test": [
              0.02497726726
             ]
            }
           ],
           "meta": {
            "iteration_count": 100,
            "launch_mode": "Train",
            "learn_metrics": [
             {
              "best_value": "Min",
              "name": "CrossEntropy"
             }
            ],
            "learn_sets": [
             "learn"
            ],
            "name": "experiment",
            "parameters": "",
            "test_metrics": [
             {
              "best_value": "Min",
              "name": "CrossEntropy"
             }
            ],
            "test_sets": [
             "test"
            ]
           }
          },
          "passed_iterations": 99,
          "total_iterations": 100
         },
         "name": "catboost_info",
         "path": "catboost_info"
        }
       },
       "layout": "IPY_MODEL_d6e0296c94434e3cb92cb32daaa02629"
      }
     },
     "ed105ea98178453598220fd05a381f47": {
      "model_module": "catboost-widget",
      "model_module_version": "^1.0.0",
      "model_name": "CatboostWidgetModel",
      "state": {
       "_dom_classes": [],
       "_model_module": "catboost-widget",
       "_model_module_version": "^1.0.0",
       "_model_name": "CatboostWidgetModel",
       "_view_count": null,
       "_view_module": "catboost-widget",
       "_view_module_version": "^1.0.0",
       "_view_name": "CatboostWidgetView",
       "data": {
        "catboost_info": {
         "content": {
          "data": {
           "iterations": [
            {
             "iteration": 0,
             "learn": [
              0.6717626437
             ],
             "passed_time": 0.499180495,
             "remaining_time": 49.418869,
             "test": [
              0.6725764573
             ]
            },
            {
             "iteration": 1,
             "learn": [
              0.6511479651
             ],
             "passed_time": 0.9452833056,
             "remaining_time": 46.31888197,
             "test": [
              0.6530890778
             ]
            },
            {
             "iteration": 2,
             "learn": [
              0.6320778596
             ],
             "passed_time": 1.384383215,
             "remaining_time": 44.76172396,
             "test": [
              0.634813691
             ]
            },
            {
             "iteration": 3,
             "learn": [
              0.6146969453
             ],
             "passed_time": 1.811924698,
             "remaining_time": 43.48619276,
             "test": [
              0.617515551
             ]
            },
            {
             "iteration": 4,
             "learn": [
              0.5984434554
             ],
             "passed_time": 2.195276859,
             "remaining_time": 41.71026032,
             "test": [
              0.6023829475
             ]
            },
            {
             "iteration": 5,
             "learn": [
              0.5843426497
             ],
             "passed_time": 2.671469274,
             "remaining_time": 41.85301863,
             "test": [
              0.5881460949
             ]
            },
            {
             "iteration": 6,
             "learn": [
              0.5682624449
             ],
             "passed_time": 3.298342317,
             "remaining_time": 43.82083364,
             "test": [
              0.5727001941
             ]
            },
            {
             "iteration": 7,
             "learn": [
              0.5548155686
             ],
             "passed_time": 3.82094526,
             "remaining_time": 43.94087049,
             "test": [
              0.5598246788
             ]
            },
            {
             "iteration": 8,
             "learn": [
              0.5409272837
             ],
             "passed_time": 4.261277599,
             "remaining_time": 43.08625128,
             "test": [
              0.5469284958
             ]
            },
            {
             "iteration": 9,
             "learn": [
              0.5277791208
             ],
             "passed_time": 4.700765174,
             "remaining_time": 42.30688656,
             "test": [
              0.5337324539
             ]
            },
            {
             "iteration": 10,
             "learn": [
              0.5161660813
             ],
             "passed_time": 5.093121376,
             "remaining_time": 41.20798204,
             "test": [
              0.5221787942
             ]
            },
            {
             "iteration": 11,
             "learn": [
              0.5049130947
             ],
             "passed_time": 5.469734068,
             "remaining_time": 40.11138317,
             "test": [
              0.5115163163
             ]
            },
            {
             "iteration": 12,
             "learn": [
              0.4927438612
             ],
             "passed_time": 5.906352076,
             "remaining_time": 39.52712543,
             "test": [
              0.4998806398
             ]
            },
            {
             "iteration": 13,
             "learn": [
              0.4824498683
             ],
             "passed_time": 6.326750639,
             "remaining_time": 38.86432535,
             "test": [
              0.4898009469
             ]
            },
            {
             "iteration": 14,
             "learn": [
              0.4723240192
             ],
             "passed_time": 6.7485514,
             "remaining_time": 38.24179127,
             "test": [
              0.479712742
             ]
            },
            {
             "iteration": 15,
             "learn": [
              0.4615373785
             ],
             "passed_time": 7.245513756,
             "remaining_time": 38.03894722,
             "test": [
              0.4693536964
             ]
            },
            {
             "iteration": 16,
             "learn": [
              0.4510947694
             ],
             "passed_time": 7.697840982,
             "remaining_time": 37.58357656,
             "test": [
              0.4591857046
             ]
            },
            {
             "iteration": 17,
             "learn": [
              0.4414890239
             ],
             "passed_time": 8.155547618,
             "remaining_time": 37.15305026,
             "test": [
              0.4495248174
             ]
            },
            {
             "iteration": 18,
             "learn": [
              0.4321111509
             ],
             "passed_time": 8.597871829,
             "remaining_time": 36.65408516,
             "test": [
              0.4401928956
             ]
            },
            {
             "iteration": 19,
             "learn": [
              0.4236489456
             ],
             "passed_time": 9.027011948,
             "remaining_time": 36.10804779,
             "test": [
              0.4320423822
             ]
            },
            {
             "iteration": 20,
             "learn": [
              0.4146536542
             ],
             "passed_time": 9.448082008,
             "remaining_time": 35.5427847,
             "test": [
              0.4235364524
             ]
            },
            {
             "iteration": 21,
             "learn": [
              0.4069104173
             ],
             "passed_time": 9.85624685,
             "remaining_time": 34.94487519,
             "test": [
              0.4160602884
             ]
            },
            {
             "iteration": 22,
             "learn": [
              0.3984255741
             ],
             "passed_time": 10.2660682,
             "remaining_time": 34.36901095,
             "test": [
              0.4077292023
             ]
            },
            {
             "iteration": 23,
             "learn": [
              0.3910441942
             ],
             "passed_time": 10.68700364,
             "remaining_time": 33.84217818,
             "test": [
              0.4000757942
             ]
            },
            {
             "iteration": 24,
             "learn": [
              0.383065225
             ],
             "passed_time": 11.10225173,
             "remaining_time": 33.30675518,
             "test": [
              0.3924511792
             ]
            },
            {
             "iteration": 25,
             "learn": [
              0.3762141251
             ],
             "passed_time": 11.51248651,
             "remaining_time": 32.76630777,
             "test": [
              0.385830452
             ]
            },
            {
             "iteration": 26,
             "learn": [
              0.3688950524
             ],
             "passed_time": 11.92152039,
             "remaining_time": 32.23225885,
             "test": [
              0.3785707205
             ]
            },
            {
             "iteration": 27,
             "learn": [
              0.3619413628
             ],
             "passed_time": 12.35658105,
             "remaining_time": 31.77406556,
             "test": [
              0.3719485111
             ]
            },
            {
             "iteration": 28,
             "learn": [
              0.355778653
             ],
             "passed_time": 12.76399952,
             "remaining_time": 31.24979194,
             "test": [
              0.3659828217
             ]
            },
            {
             "iteration": 29,
             "learn": [
              0.3503146145
             ],
             "passed_time": 13.14900884,
             "remaining_time": 30.68102063,
             "test": [
              0.3608935993
             ]
            },
            {
             "iteration": 30,
             "learn": [
              0.3440975072
             ],
             "passed_time": 13.57829972,
             "remaining_time": 30.22266712,
             "test": [
              0.3542866968
             ]
            },
            {
             "iteration": 31,
             "learn": [
              0.3382695768
             ],
             "passed_time": 14.02820876,
             "remaining_time": 29.80994361,
             "test": [
              0.3484153982
             ]
            },
            {
             "iteration": 32,
             "learn": [
              0.3330314147
             ],
             "passed_time": 14.44529951,
             "remaining_time": 29.32833537,
             "test": [
              0.3433179463
             ]
            },
            {
             "iteration": 33,
             "learn": [
              0.326934199
             ],
             "passed_time": 14.87485614,
             "remaining_time": 28.87472074,
             "test": [
              0.3374664122
             ]
            },
            {
             "iteration": 34,
             "learn": [
              0.3212171471
             ],
             "passed_time": 15.31595564,
             "remaining_time": 28.44391762,
             "test": [
              0.331785375
             ]
            },
            {
             "iteration": 35,
             "learn": [
              0.3162950698
             ],
             "passed_time": 15.69871434,
             "remaining_time": 27.90882549,
             "test": [
              0.327233528
             ]
            },
            {
             "iteration": 36,
             "learn": [
              0.3106643472
             ],
             "passed_time": 16.1242512,
             "remaining_time": 27.4548061,
             "test": [
              0.3214649652
             ]
            },
            {
             "iteration": 37,
             "learn": [
              0.3059857375
             ],
             "passed_time": 16.51764058,
             "remaining_time": 26.94983463,
             "test": [
              0.3164622315
             ]
            },
            {
             "iteration": 38,
             "learn": [
              0.3007776061
             ],
             "passed_time": 16.94332394,
             "remaining_time": 26.50109642,
             "test": [
              0.3110711204
             ]
            },
            {
             "iteration": 39,
             "learn": [
              0.296460864
             ],
             "passed_time": 17.33684629,
             "remaining_time": 26.00526944,
             "test": [
              0.3067686282
             ]
            },
            {
             "iteration": 40,
             "learn": [
              0.2913172532
             ],
             "passed_time": 17.77099623,
             "remaining_time": 25.57289701,
             "test": [
              0.3016873886
             ]
            },
            {
             "iteration": 41,
             "learn": [
              0.2865973378
             ],
             "passed_time": 18.2381008,
             "remaining_time": 25.18594872,
             "test": [
              0.2967553894
             ]
            },
            {
             "iteration": 42,
             "learn": [
              0.2819053448
             ],
             "passed_time": 18.66723666,
             "remaining_time": 24.74494162,
             "test": [
              0.2919188445
             ]
            },
            {
             "iteration": 43,
             "learn": [
              0.2780473963
             ],
             "passed_time": 19.02950597,
             "remaining_time": 24.21937123,
             "test": [
              0.2881281187
             ]
            },
            {
             "iteration": 44,
             "learn": [
              0.2738644063
             ],
             "passed_time": 19.45517231,
             "remaining_time": 23.77854394,
             "test": [
              0.2838188425
             ]
            },
            {
             "iteration": 45,
             "learn": [
              0.2694906249
             ],
             "passed_time": 19.89261004,
             "remaining_time": 23.35219439,
             "test": [
              0.2793996291
             ]
            },
            {
             "iteration": 46,
             "learn": [
              0.2654258895
             ],
             "passed_time": 20.32022893,
             "remaining_time": 22.91430071,
             "test": [
              0.2751955364
             ]
            },
            {
             "iteration": 47,
             "learn": [
              0.2616743115
             ],
             "passed_time": 20.72467255,
             "remaining_time": 22.45172859,
             "test": [
              0.2712170805
             ]
            },
            {
             "iteration": 48,
             "learn": [
              0.2579336411
             ],
             "passed_time": 21.15774736,
             "remaining_time": 22.02132889,
             "test": [
              0.2673176736
             ]
            },
            {
             "iteration": 49,
             "learn": [
              0.254014221
             ],
             "passed_time": 21.5992597,
             "remaining_time": 21.5992597,
             "test": [
              0.2632810166
             ]
            },
            {
             "iteration": 50,
             "learn": [
              0.2506532979
             ],
             "passed_time": 21.97020686,
             "remaining_time": 21.10863012,
             "test": [
              0.2597447976
             ]
            },
            {
             "iteration": 51,
             "learn": [
              0.2473440211
             ],
             "passed_time": 22.38179034,
             "remaining_time": 20.66011416,
             "test": [
              0.2562283457
             ]
            },
            {
             "iteration": 52,
             "learn": [
              0.2440700161
             ],
             "passed_time": 22.8281653,
             "remaining_time": 20.2438447,
             "test": [
              0.2530490126
             ]
            },
            {
             "iteration": 53,
             "learn": [
              0.2409744014
             ],
             "passed_time": 23.2335369,
             "remaining_time": 19.79153143,
             "test": [
              0.2497082749
             ]
            },
            {
             "iteration": 54,
             "learn": [
              0.2379325804
             ],
             "passed_time": 23.64135512,
             "remaining_time": 19.34292692,
             "test": [
              0.2465367882
             ]
            },
            {
             "iteration": 55,
             "learn": [
              0.2347701192
             ],
             "passed_time": 24.07588298,
             "remaining_time": 18.9167652,
             "test": [
              0.2434221275
             ]
            },
            {
             "iteration": 56,
             "learn": [
              0.2314749786
             ],
             "passed_time": 24.50984171,
             "remaining_time": 18.48988059,
             "test": [
              0.2399833538
             ]
            },
            {
             "iteration": 57,
             "learn": [
              0.2279255897
             ],
             "passed_time": 24.99972644,
             "remaining_time": 18.10325018,
             "test": [
              0.2364408153
             ]
            },
            {
             "iteration": 58,
             "learn": [
              0.2251525734
             ],
             "passed_time": 25.3909738,
             "remaining_time": 17.64457502,
             "test": [
              0.2335821627
             ]
            },
            {
             "iteration": 59,
             "learn": [
              0.2220694701
             ],
             "passed_time": 25.83832553,
             "remaining_time": 17.22555035,
             "test": [
              0.2304983251
             ]
            },
            {
             "iteration": 60,
             "learn": [
              0.2191402424
             ],
             "passed_time": 26.23523993,
             "remaining_time": 16.77335012,
             "test": [
              0.2272465569
             ]
            },
            {
             "iteration": 61,
             "learn": [
              0.2164824316
             ],
             "passed_time": 26.67088542,
             "remaining_time": 16.34667171,
             "test": [
              0.224397525
             ]
            },
            {
             "iteration": 62,
             "learn": [
              0.2134339427
             ],
             "passed_time": 27.14650685,
             "remaining_time": 15.94318657,
             "test": [
              0.2209935979
             ]
            },
            {
             "iteration": 63,
             "learn": [
              0.2106322809
             ],
             "passed_time": 27.63593559,
             "remaining_time": 15.54521377,
             "test": [
              0.2180680608
             ]
            },
            {
             "iteration": 64,
             "learn": [
              0.208147038
             ],
             "passed_time": 28.05842629,
             "remaining_time": 15.10838339,
             "test": [
              0.2155090435
             ]
            },
            {
             "iteration": 65,
             "learn": [
              0.2053780344
             ],
             "passed_time": 28.61003927,
             "remaining_time": 14.73850508,
             "test": [
              0.212643405
             ]
            },
            {
             "iteration": 66,
             "learn": [
              0.2030211375
             ],
             "passed_time": 29.07299786,
             "remaining_time": 14.31953626,
             "test": [
              0.2102640259
             ]
            },
            {
             "iteration": 67,
             "learn": [
              0.2007578128
             ],
             "passed_time": 29.50171795,
             "remaining_time": 13.88316139,
             "test": [
              0.2079283262
             ]
            },
            {
             "iteration": 68,
             "learn": [
              0.1981878932
             ],
             "passed_time": 30.04761639,
             "remaining_time": 13.49965374,
             "test": [
              0.2053775416
             ]
            },
            {
             "iteration": 69,
             "learn": [
              0.1960707209
             ],
             "passed_time": 30.4539731,
             "remaining_time": 13.05170276,
             "test": [
              0.203293869
             ]
            },
            {
             "iteration": 70,
             "learn": [
              0.1939168422
             ],
             "passed_time": 30.87134013,
             "remaining_time": 12.60942062,
             "test": [
              0.2011488157
             ]
            },
            {
             "iteration": 71,
             "learn": [
              0.1916741298
             ],
             "passed_time": 31.33196317,
             "remaining_time": 12.18465235,
             "test": [
              0.1987487921
             ]
            },
            {
             "iteration": 72,
             "learn": [
              0.1895096241
             ],
             "passed_time": 31.7620815,
             "remaining_time": 11.74761919,
             "test": [
              0.1963875415
             ]
            },
            {
             "iteration": 73,
             "learn": [
              0.1868192271
             ],
             "passed_time": 32.20352973,
             "remaining_time": 11.31475369,
             "test": [
              0.1934503246
             ]
            },
            {
             "iteration": 74,
             "learn": [
              0.1848741288
             ],
             "passed_time": 32.62111932,
             "remaining_time": 10.87370644,
             "test": [
              0.1914462062
             ]
            },
            {
             "iteration": 75,
             "learn": [
              0.1822686501
             ],
             "passed_time": 33.10407454,
             "remaining_time": 10.45391828,
             "test": [
              0.1887772598
             ]
            },
            {
             "iteration": 76,
             "learn": [
              0.1802632093
             ],
             "passed_time": 33.4860047,
             "remaining_time": 10.00231309,
             "test": [
              0.186707571
             ]
            },
            {
             "iteration": 77,
             "learn": [
              0.1783213895
             ],
             "passed_time": 33.89516074,
             "remaining_time": 9.560173542,
             "test": [
              0.1845885333
             ]
            },
            {
             "iteration": 78,
             "learn": [
              0.1760049292
             ],
             "passed_time": 34.31546043,
             "remaining_time": 9.121831254,
             "test": [
              0.1820271283
             ]
            },
            {
             "iteration": 79,
             "learn": [
              0.173831477
             ],
             "passed_time": 35.06353416,
             "remaining_time": 8.765883541,
             "test": [
              0.179979075
             ]
            },
            {
             "iteration": 80,
             "learn": [
              0.1721124714
             ],
             "passed_time": 35.63734896,
             "remaining_time": 8.359378152,
             "test": [
              0.1781817109
             ]
            },
            {
             "iteration": 81,
             "learn": [
              0.1703422844
             ],
             "passed_time": 36.09294808,
             "remaining_time": 7.922842262,
             "test": [
              0.176299151
             ]
            },
            {
             "iteration": 82,
             "learn": [
              0.1688389285
             ],
             "passed_time": 36.43899066,
             "remaining_time": 7.463407726,
             "test": [
              0.1746039782
             ]
            },
            {
             "iteration": 83,
             "learn": [
              0.166917266
             ],
             "passed_time": 36.87008075,
             "remaining_time": 7.022872525,
             "test": [
              0.1726611884
             ]
            },
            {
             "iteration": 84,
             "learn": [
              0.1654833623
             ],
             "passed_time": 37.20841972,
             "remaining_time": 6.566191716,
             "test": [
              0.1713000759
             ]
            },
            {
             "iteration": 85,
             "learn": [
              0.1636854438
             ],
             "passed_time": 37.78010847,
             "remaining_time": 6.150250215,
             "test": [
              0.1694051253
             ]
            },
            {
             "iteration": 86,
             "learn": [
              0.1622564421
             ],
             "passed_time": 38.14071221,
             "remaining_time": 5.699186882,
             "test": [
              0.1679022447
             ]
            },
            {
             "iteration": 87,
             "learn": [
              0.1607200472
             ],
             "passed_time": 38.53063677,
             "remaining_time": 5.254177741,
             "test": [
              0.1661835394
             ]
            },
            {
             "iteration": 88,
             "learn": [
              0.1591206508
             ],
             "passed_time": 38.91677668,
             "remaining_time": 4.80993869,
             "test": [
              0.1645534726
             ]
            },
            {
             "iteration": 89,
             "learn": [
              0.157339216
             ],
             "passed_time": 39.33106301,
             "remaining_time": 4.370118112,
             "test": [
              0.1627558254
             ]
            },
            {
             "iteration": 90,
             "learn": [
              0.1556732403
             ],
             "passed_time": 39.80037976,
             "remaining_time": 3.936301295,
             "test": [
              0.1609384803
             ]
            },
            {
             "iteration": 91,
             "learn": [
              0.1539756586
             ],
             "passed_time": 40.39739034,
             "remaining_time": 3.512816551,
             "test": [
              0.1591890763
             ]
            },
            {
             "iteration": 92,
             "learn": [
              0.1526184794
             ],
             "passed_time": 40.787887,
             "remaining_time": 3.070056011,
             "test": [
              0.1577878924
             ]
            },
            {
             "iteration": 93,
             "learn": [
              0.1513266873
             ],
             "passed_time": 41.20665494,
             "remaining_time": 2.630212017,
             "test": [
              0.1564293101
             ]
            },
            {
             "iteration": 94,
             "learn": [
              0.1498911708
             ],
             "passed_time": 41.61014468,
             "remaining_time": 2.190007615,
             "test": [
              0.154972383
             ]
            },
            {
             "iteration": 95,
             "learn": [
              0.1486161412
             ],
             "passed_time": 41.992082,
             "remaining_time": 1.749670083,
             "test": [
              0.1535935705
             ]
            },
            {
             "iteration": 96,
             "learn": [
              0.1469998274
             ],
             "passed_time": 42.41581591,
             "remaining_time": 1.311829358,
             "test": [
              0.1520868602
             ]
            },
            {
             "iteration": 97,
             "learn": [
              0.1456101756
             ],
             "passed_time": 42.8326086,
             "remaining_time": 0.8741348694,
             "test": [
              0.1505924955
             ]
            },
            {
             "iteration": 98,
             "learn": [
              0.1440259872
             ],
             "passed_time": 43.25117469,
             "remaining_time": 0.4368805524,
             "test": [
              0.1490063665
             ]
            },
            {
             "iteration": 99,
             "learn": [
              0.1427722959
             ],
             "passed_time": 43.67161987,
             "remaining_time": 0,
             "test": [
              0.1477214298
             ]
            }
           ],
           "meta": {
            "iteration_count": 100,
            "launch_mode": "Train",
            "learn_metrics": [
             {
              "best_value": "Min",
              "name": "CrossEntropy"
             }
            ],
            "learn_sets": [
             "learn"
            ],
            "name": "experiment",
            "parameters": "",
            "test_metrics": [
             {
              "best_value": "Min",
              "name": "CrossEntropy"
             }
            ],
            "test_sets": [
             "test"
            ]
           }
          },
          "passed_iterations": 99,
          "total_iterations": 100
         },
         "name": "catboost_info",
         "path": "catboost_info"
        }
       },
       "layout": "IPY_MODEL_ee790ac2dbcb452296d7e4d094b4b033"
      }
     },
     "ed963a77796440df8730d325905be3cc": {
      "model_module": "catboost-widget",
      "model_module_version": "^1.0.0",
      "model_name": "CatboostWidgetModel",
      "state": {
       "_dom_classes": [],
       "_model_module": "catboost-widget",
       "_model_module_version": "^1.0.0",
       "_model_name": "CatboostWidgetModel",
       "_view_count": null,
       "_view_module": "catboost-widget",
       "_view_module_version": "^1.0.0",
       "_view_name": "CatboostWidgetView",
       "data": {
        "catboost_info": {
         "content": {
          "data": {
           "iterations": [
            {
             "iteration": 0,
             "learn": [
              0.661384581
             ],
             "passed_time": 0.5498489982,
             "remaining_time": 54.43505082,
             "test": [
              0.6636007448
             ]
            },
            {
             "iteration": 1,
             "learn": [
              0.6362953251
             ],
             "passed_time": 1.001392754,
             "remaining_time": 49.06824495,
             "test": [
              0.6357738662
             ]
            },
            {
             "iteration": 2,
             "learn": [
              0.6093763617
             ],
             "passed_time": 1.441924586,
             "remaining_time": 46.62222829,
             "test": [
              0.6095205293
             ]
            },
            {
             "iteration": 3,
             "learn": [
              0.5837178216
             ],
             "passed_time": 1.795892325,
             "remaining_time": 43.10141581,
             "test": [
              0.584712203
             ]
            },
            {
             "iteration": 4,
             "learn": [
              0.5621903392
             ],
             "passed_time": 2.209577971,
             "remaining_time": 41.98198145,
             "test": [
              0.5612366186
             ]
            },
            {
             "iteration": 5,
             "learn": [
              0.5376522706
             ],
             "passed_time": 2.701595876,
             "remaining_time": 42.32500206,
             "test": [
              0.5389918284
             ]
            },
            {
             "iteration": 6,
             "learn": [
              0.516879581
             ],
             "passed_time": 3.041371007,
             "remaining_time": 40.40678624,
             "test": [
              0.5178856356
             ]
            },
            {
             "iteration": 7,
             "learn": [
              0.4986811282
             ],
             "passed_time": 3.519725244,
             "remaining_time": 40.4768403,
             "test": [
              0.4978379349
             ]
            },
            {
             "iteration": 8,
             "learn": [
              0.4785230426
             ],
             "passed_time": 3.979766331,
             "remaining_time": 40.23985957,
             "test": [
              0.4787736671
             ]
            },
            {
             "iteration": 9,
             "learn": [
              0.4605786394
             ],
             "passed_time": 4.41505537,
             "remaining_time": 39.73549833,
             "test": [
              0.4606271903
             ]
            },
            {
             "iteration": 10,
             "learn": [
              0.4438244207
             ],
             "passed_time": 4.852098343,
             "remaining_time": 39.25788659,
             "test": [
              0.4433396392
             ]
            },
            {
             "iteration": 11,
             "learn": [
              0.42804917
             ],
             "passed_time": 5.267136429,
             "remaining_time": 38.62566714,
             "test": [
              0.426853938
             ]
            },
            {
             "iteration": 12,
             "learn": [
              0.4121106639
             ],
             "passed_time": 5.696390932,
             "remaining_time": 38.12200085,
             "test": [
              0.4111204632
             ]
            },
            {
             "iteration": 13,
             "learn": [
              0.3967737562
             ],
             "passed_time": 6.089947226,
             "remaining_time": 37.40967582,
             "test": [
              0.3960945686
             ]
            },
            {
             "iteration": 14,
             "learn": [
              0.3823910542
             ],
             "passed_time": 6.503168437,
             "remaining_time": 36.85128781,
             "test": [
              0.3817331346
             ]
            },
            {
             "iteration": 15,
             "learn": [
              0.3673314089
             ],
             "passed_time": 6.874694463,
             "remaining_time": 36.09214593,
             "test": [
              0.3679978522
             ]
            },
            {
             "iteration": 16,
             "learn": [
              0.3538754033
             ],
             "passed_time": 7.283353345,
             "remaining_time": 35.55990162,
             "test": [
              0.3548532238
             ]
            },
            {
             "iteration": 17,
             "learn": [
              0.343165872
             ],
             "passed_time": 7.746298296,
             "remaining_time": 35.28869224,
             "test": [
              0.3422658043
             ]
            },
            {
             "iteration": 18,
             "learn": [
              0.3300832146
             ],
             "passed_time": 8.090521705,
             "remaining_time": 34.49117148,
             "test": [
              0.3302048662
             ]
            },
            {
             "iteration": 19,
             "learn": [
              0.3196705888
             ],
             "passed_time": 8.494707839,
             "remaining_time": 33.97883136,
             "test": [
              0.3186432532
             ]
            },
            {
             "iteration": 20,
             "learn": [
              0.3069690671
             ],
             "passed_time": 8.887738497,
             "remaining_time": 33.43482578,
             "test": [
              0.3075540703
             ]
            },
            {
             "iteration": 21,
             "learn": [
              0.2968782472
             ],
             "passed_time": 9.336473948,
             "remaining_time": 33.102044,
             "test": [
              0.2969133437
             ]
            },
            {
             "iteration": 22,
             "learn": [
              0.2867636573
             ],
             "passed_time": 9.699571527,
             "remaining_time": 32.47247859,
             "test": [
              0.2866975658
             ]
            },
            {
             "iteration": 23,
             "learn": [
              0.2764977069
             ],
             "passed_time": 10.12388185,
             "remaining_time": 32.05895921,
             "test": [
              0.2768871442
             ]
            },
            {
             "iteration": 24,
             "learn": [
              0.2664409421
             ],
             "passed_time": 10.52336767,
             "remaining_time": 31.570103,
             "test": [
              0.2674600169
             ]
            },
            {
             "iteration": 25,
             "learn": [
              0.2579752977
             ],
             "passed_time": 10.9430337,
             "remaining_time": 31.14555745,
             "test": [
              0.2583986226
             ]
            },
            {
             "iteration": 26,
             "learn": [
              0.2499591284
             ],
             "passed_time": 11.39655843,
             "remaining_time": 30.81291725,
             "test": [
              0.2496858365
             ]
            },
            {
             "iteration": 27,
             "learn": [
              0.2419682474
             ],
             "passed_time": 11.80121866,
             "remaining_time": 30.34599085,
             "test": [
              0.2413044742
             ]
            },
            {
             "iteration": 28,
             "learn": [
              0.2336721413
             ],
             "passed_time": 12.23116437,
             "remaining_time": 29.9452645,
             "test": [
              0.2332396421
             ]
            },
            {
             "iteration": 29,
             "learn": [
              0.2258400011
             ],
             "passed_time": 12.6480283,
             "remaining_time": 29.51206603,
             "test": [
              0.2254776222
             ]
            },
            {
             "iteration": 30,
             "learn": [
              0.2185189069
             ],
             "passed_time": 13.05385895,
             "remaining_time": 29.05536346,
             "test": [
              0.2180035081
             ]
            },
            {
             "iteration": 31,
             "learn": [
              0.2109258604
             ],
             "passed_time": 13.48975903,
             "remaining_time": 28.66573794,
             "test": [
              0.2108052721
             ]
            },
            {
             "iteration": 32,
             "learn": [
              0.2033447351
             ],
             "passed_time": 13.95482233,
             "remaining_time": 28.33251806,
             "test": [
              0.2038704804
             ]
            },
            {
             "iteration": 33,
             "learn": [
              0.1964152486
             ],
             "passed_time": 14.40802416,
             "remaining_time": 27.96851748,
             "test": [
              0.197187917
             ]
            },
            {
             "iteration": 34,
             "learn": [
              0.1911606852
             ],
             "passed_time": 14.86800778,
             "remaining_time": 27.61201444,
             "test": [
              0.1907467877
             ]
            },
            {
             "iteration": 35,
             "learn": [
              0.1838967096
             ],
             "passed_time": 15.25855482,
             "remaining_time": 27.12631968,
             "test": [
              0.1845368732
             ]
            },
            {
             "iteration": 36,
             "learn": [
              0.1787491151
             ],
             "passed_time": 15.66417849,
             "remaining_time": 26.67143904,
             "test": [
              0.1785483868
             ]
            },
            {
             "iteration": 37,
             "learn": [
              0.1721830796
             ],
             "passed_time": 16.04461245,
             "remaining_time": 26.1780519,
             "test": [
              0.172771808
             ]
            },
            {
             "iteration": 38,
             "learn": [
              0.1676609452
             ],
             "passed_time": 16.48636768,
             "remaining_time": 25.78636996,
             "test": [
              0.1671989972
             ]
            },
            {
             "iteration": 39,
             "learn": [
              0.1614188875
             ],
             "passed_time": 16.89094418,
             "remaining_time": 25.33641627,
             "test": [
              0.1618211799
             ]
            },
            {
             "iteration": 40,
             "learn": [
              0.1563213699
             ],
             "passed_time": 17.33308551,
             "remaining_time": 24.9427328,
             "test": [
              0.1566310063
             ]
            },
            {
             "iteration": 41,
             "learn": [
              0.1520096205
             ],
             "passed_time": 17.75952525,
             "remaining_time": 24.52505867,
             "test": [
              0.1516205366
             ]
            },
            {
             "iteration": 42,
             "learn": [
              0.1469949104
             ],
             "passed_time": 18.19812413,
             "remaining_time": 24.12309477,
             "test": [
              0.1467830323
             ]
            },
            {
             "iteration": 43,
             "learn": [
              0.1418608375
             ],
             "passed_time": 18.63282761,
             "remaining_time": 23.71450787,
             "test": [
              0.1421112978
             ]
            },
            {
             "iteration": 44,
             "learn": [
              0.1370984827
             ],
             "passed_time": 19.07795999,
             "remaining_time": 23.31750666,
             "test": [
              0.1375992069
             ]
            },
            {
             "iteration": 45,
             "learn": [
              0.1329004479
             ],
             "passed_time": 19.55310779,
             "remaining_time": 22.95364827,
             "test": [
              0.1332399695
             ]
            },
            {
             "iteration": 46,
             "learn": [
              0.1289108264
             ],
             "passed_time": 19.924939,
             "remaining_time": 22.46854823,
             "test": [
              0.1290284426
             ]
            },
            {
             "iteration": 47,
             "learn": [
              0.1249836858
             ],
             "passed_time": 20.4718302,
             "remaining_time": 22.17781605,
             "test": [
              0.1249593346
             ]
            },
            {
             "iteration": 48,
             "learn": [
              0.1210747819
             ],
             "passed_time": 20.92366402,
             "remaining_time": 21.77769112,
             "test": [
              0.1210267482
             ]
            },
            {
             "iteration": 49,
             "learn": [
              0.1171872034
             ],
             "passed_time": 21.27753428,
             "remaining_time": 21.27753428,
             "test": [
              0.1172251368
             ]
            },
            {
             "iteration": 50,
             "learn": [
              0.1133110631
             ],
             "passed_time": 21.70028597,
             "remaining_time": 20.84929436,
             "test": [
              0.1135506686
             ]
            },
            {
             "iteration": 51,
             "learn": [
              0.1097481224
             ],
             "passed_time": 22.06066322,
             "remaining_time": 20.36368913,
             "test": [
              0.10999724
             ]
            },
            {
             "iteration": 52,
             "learn": [
              0.1069196709
             ],
             "passed_time": 22.41171124,
             "remaining_time": 19.87453638,
             "test": [
              0.1065613197
             ]
            },
            {
             "iteration": 53,
             "learn": [
              0.1033977466
             ],
             "passed_time": 22.7681311,
             "remaining_time": 19.39507464,
             "test": [
              0.1032387552
             ]
            },
            {
             "iteration": 54,
             "learn": [
              0.09972406071
             ],
             "passed_time": 23.24077597,
             "remaining_time": 19.01518034,
             "test": [
              0.1000262511
             ]
            },
            {
             "iteration": 55,
             "learn": [
              0.09713071213
             ],
             "passed_time": 23.68001123,
             "remaining_time": 18.60572311,
             "test": [
              0.09691813405
             ]
            },
            {
             "iteration": 56,
             "learn": [
              0.09375898694
             ],
             "passed_time": 24.11443431,
             "remaining_time": 18.1915908,
             "test": [
              0.09391082397
             ]
            },
            {
             "iteration": 57,
             "learn": [
              0.09121590413
             ],
             "passed_time": 24.63388624,
             "remaining_time": 17.83833142,
             "test": [
              0.09100179527
             ]
            },
            {
             "iteration": 58,
             "learn": [
              0.08793421038
             ],
             "passed_time": 25.05387221,
             "remaining_time": 17.41031798,
             "test": [
              0.08818711844
             ]
            },
            {
             "iteration": 59,
             "learn": [
              0.08546615076
             ],
             "passed_time": 25.48716103,
             "remaining_time": 16.99144069,
             "test": [
              0.08546350455
             ]
            },
            {
             "iteration": 60,
             "learn": [
              0.08256808157
             ],
             "passed_time": 25.92752101,
             "remaining_time": 16.57661179,
             "test": [
              0.08282709298
             ]
            },
            {
             "iteration": 61,
             "learn": [
              0.08009411235
             ],
             "passed_time": 26.35769448,
             "remaining_time": 16.15471597,
             "test": [
              0.0802759038
             ]
            },
            {
             "iteration": 62,
             "learn": [
              0.0779631345
             ],
             "passed_time": 26.7649846,
             "remaining_time": 15.71911794,
             "test": [
              0.07780632199
             ]
            },
            {
             "iteration": 63,
             "learn": [
              0.0754800355
             ],
             "passed_time": 27.17178883,
             "remaining_time": 15.28413122,
             "test": [
              0.07541576223
             ]
            },
            {
             "iteration": 64,
             "learn": [
              0.07294355252
             ],
             "passed_time": 27.62914484,
             "remaining_time": 14.87723184,
             "test": [
              0.07310151295
             ]
            },
            {
             "iteration": 65,
             "learn": [
              0.07052915957
             ],
             "passed_time": 28.05843202,
             "remaining_time": 14.45434377,
             "test": [
              0.07086055754
             ]
            },
            {
             "iteration": 66,
             "learn": [
              0.06843730014
             ],
             "passed_time": 28.51917144,
             "remaining_time": 14.04675608,
             "test": [
              0.06869125075
             ]
            },
            {
             "iteration": 67,
             "learn": [
              0.06642374976
             ],
             "passed_time": 28.87920698,
             "remaining_time": 13.59021505,
             "test": [
              0.06659054332
             ]
            },
            {
             "iteration": 68,
             "learn": [
              0.06445830957
             ],
             "passed_time": 29.29988518,
             "remaining_time": 13.16371653,
             "test": [
              0.06455605119
             ]
            },
            {
             "iteration": 69,
             "learn": [
              0.06250446524
             ],
             "passed_time": 29.64173984,
             "remaining_time": 12.70360279,
             "test": [
              0.06258562887
             ]
            },
            {
             "iteration": 70,
             "learn": [
              0.06055521786
             ],
             "passed_time": 30.00048017,
             "remaining_time": 12.25371725,
             "test": [
              0.06067733018
             ]
            },
            {
             "iteration": 71,
             "learn": [
              0.05864539285
             ],
             "passed_time": 30.39240349,
             "remaining_time": 11.81926802,
             "test": [
              0.05882926492
             ]
            },
            {
             "iteration": 72,
             "learn": [
              0.05683202148
             ],
             "passed_time": 30.81084583,
             "remaining_time": 11.39579229,
             "test": [
              0.0570388367
             ]
            },
            {
             "iteration": 73,
             "learn": [
              0.05542306273
             ],
             "passed_time": 31.41241504,
             "remaining_time": 11.03679447,
             "test": [
              0.05530540277
             ]
            },
            {
             "iteration": 74,
             "learn": [
              0.05366334645
             ],
             "passed_time": 32.06872585,
             "remaining_time": 10.68957528,
             "test": [
              0.05362552265
             ]
            },
            {
             "iteration": 75,
             "learn": [
              0.05181667027
             ],
             "passed_time": 32.6222048,
             "remaining_time": 10.30174889,
             "test": [
              0.05199790155
             ]
            },
            {
             "iteration": 76,
             "learn": [
              0.05052222354
             ],
             "passed_time": 33.1297444,
             "remaining_time": 9.895897678,
             "test": [
              0.05042104015
             ]
            },
            {
             "iteration": 77,
             "learn": [
              0.04883191652
             ],
             "passed_time": 33.56113902,
             "remaining_time": 9.465962289,
             "test": [
              0.04889331735
             ]
            },
            {
             "iteration": 78,
             "learn": [
              0.04719607452
             ],
             "passed_time": 33.96043485,
             "remaining_time": 9.027457366,
             "test": [
              0.04741294799
             ]
            },
            {
             "iteration": 79,
             "learn": [
              0.04590335949
             ],
             "passed_time": 34.36881641,
             "remaining_time": 8.592204103,
             "test": [
              0.04597861031
             ]
            },
            {
             "iteration": 80,
             "learn": [
              0.04463994381
             ],
             "passed_time": 34.73843288,
             "remaining_time": 8.148521294,
             "test": [
              0.04458867616
             ]
            },
            {
             "iteration": 81,
             "learn": [
              0.04305442151
             ],
             "passed_time": 35.11280879,
             "remaining_time": 7.707689734,
             "test": [
              0.04324170147
             ]
            },
            {
             "iteration": 82,
             "learn": [
              0.04194451284
             ],
             "passed_time": 35.54249725,
             "remaining_time": 7.279788594,
             "test": [
              0.04193622841
             ]
            },
            {
             "iteration": 83,
             "learn": [
              0.04070472352
             ],
             "passed_time": 35.91505889,
             "remaining_time": 6.840963598,
             "test": [
              0.0406708797
             ]
            },
            {
             "iteration": 84,
             "learn": [
              0.03933677263
             ],
             "passed_time": 36.31210401,
             "remaining_time": 6.408018354,
             "test": [
              0.03944437108
             ]
            },
            {
             "iteration": 85,
             "learn": [
              0.03811673961
             ],
             "passed_time": 36.7960138,
             "remaining_time": 5.990048758,
             "test": [
              0.03825647145
             ]
            },
            {
             "iteration": 86,
             "learn": [
              0.03709725599
             ],
             "passed_time": 37.14126744,
             "remaining_time": 5.549844559,
             "test": [
              0.03710426177
             ]
            },
            {
             "iteration": 87,
             "learn": [
              0.03604599714
             ],
             "passed_time": 37.58266056,
             "remaining_time": 5.124908258,
             "test": [
              0.03598794369
             ]
            },
            {
             "iteration": 88,
             "learn": [
              0.03485707566
             ],
             "passed_time": 37.98888916,
             "remaining_time": 4.695255963,
             "test": [
              0.0349053149
             ]
            },
            {
             "iteration": 89,
             "learn": [
              0.03381402084
             ],
             "passed_time": 38.442693,
             "remaining_time": 4.271410333,
             "test": [
              0.03385640261
             ]
            },
            {
             "iteration": 90,
             "learn": [
              0.03280867307
             ],
             "passed_time": 38.82192173,
             "remaining_time": 3.83953072,
             "test": [
              0.03283919124
             ]
            },
            {
             "iteration": 91,
             "learn": [
              0.03181841319
             ],
             "passed_time": 39.26413922,
             "remaining_time": 3.414272975,
             "test": [
              0.03185356666
             ]
            },
            {
             "iteration": 92,
             "learn": [
              0.03084154415
             ],
             "passed_time": 39.68469634,
             "remaining_time": 2.987020154,
             "test": [
              0.03089761351
             ]
            },
            {
             "iteration": 93,
             "learn": [
              0.02989320888
             ],
             "passed_time": 40.15865553,
             "remaining_time": 2.563318438,
             "test": [
              0.02997082583
             ]
            },
            {
             "iteration": 94,
             "learn": [
              0.02895978903
             ],
             "passed_time": 40.62974367,
             "remaining_time": 2.138407561,
             "test": [
              0.02907239933
             ]
            },
            {
             "iteration": 95,
             "learn": [
              0.02822539301
             ],
             "passed_time": 41.08826744,
             "remaining_time": 1.712011143,
             "test": [
              0.02820126975
             ]
            },
            {
             "iteration": 96,
             "learn": [
              0.02734193531
             ],
             "passed_time": 41.5202415,
             "remaining_time": 1.28413118,
             "test": [
              0.02735663302
             ]
            },
            {
             "iteration": 97,
             "learn": [
              0.02641778533
             ],
             "passed_time": 41.96646432,
             "remaining_time": 0.8564584555,
             "test": [
              0.02653772009
             ]
            },
            {
             "iteration": 98,
             "learn": [
              0.02576470133
             ],
             "passed_time": 42.35379466,
             "remaining_time": 0.4278161077,
             "test": [
              0.02574329187
             ]
            },
            {
             "iteration": 99,
             "learn": [
              0.02491015932
             ],
             "passed_time": 42.72956709,
             "remaining_time": 0,
             "test": [
              0.02497302217
             ]
            }
           ],
           "meta": {
            "iteration_count": 100,
            "launch_mode": "Train",
            "learn_metrics": [
             {
              "best_value": "Min",
              "name": "CrossEntropy"
             }
            ],
            "learn_sets": [
             "learn"
            ],
            "name": "experiment",
            "parameters": "",
            "test_metrics": [
             {
              "best_value": "Min",
              "name": "CrossEntropy"
             }
            ],
            "test_sets": [
             "test"
            ]
           }
          },
          "passed_iterations": 99,
          "total_iterations": 100
         },
         "name": "catboost_info",
         "path": "catboost_info"
        }
       },
       "layout": "IPY_MODEL_79a8faf1f3934b1abdf5186ad6ba0fef"
      }
     },
     "ee3a0c08fe9f48b7abdf6f0760ce32ab": {
      "model_module": "@jupyter-widgets/base",
      "model_module_version": "1.2.0",
      "model_name": "LayoutModel",
      "state": {
       "_model_module": "@jupyter-widgets/base",
       "_model_module_version": "1.2.0",
       "_model_name": "LayoutModel",
       "_view_count": null,
       "_view_module": "@jupyter-widgets/base",
       "_view_module_version": "1.2.0",
       "_view_name": "LayoutView",
       "align_content": null,
       "align_items": null,
       "align_self": "stretch",
       "border": null,
       "bottom": null,
       "display": null,
       "flex": null,
       "flex_flow": null,
       "grid_area": null,
       "grid_auto_columns": null,
       "grid_auto_flow": null,
       "grid_auto_rows": null,
       "grid_column": null,
       "grid_gap": null,
       "grid_row": null,
       "grid_template_areas": null,
       "grid_template_columns": null,
       "grid_template_rows": null,
       "height": "500px",
       "justify_content": null,
       "justify_items": null,
       "left": null,
       "margin": null,
       "max_height": null,
       "max_width": null,
       "min_height": null,
       "min_width": null,
       "object_fit": null,
       "object_position": null,
       "order": null,
       "overflow": null,
       "overflow_x": null,
       "overflow_y": null,
       "padding": null,
       "right": null,
       "top": null,
       "visibility": null,
       "width": null
      }
     },
     "ee5085e58fb54a45a8928f09b8b7a13c": {
      "model_module": "catboost-widget",
      "model_module_version": "^1.0.0",
      "model_name": "CatboostWidgetModel",
      "state": {
       "_dom_classes": [],
       "_model_module": "catboost-widget",
       "_model_module_version": "^1.0.0",
       "_model_name": "CatboostWidgetModel",
       "_view_count": null,
       "_view_module": "catboost-widget",
       "_view_module_version": "^1.0.0",
       "_view_name": "CatboostWidgetView",
       "data": {
        "catboost_info": {
         "content": {
          "data": {
           "iterations": [
            {
             "iteration": 0,
             "learn": [
              0.674632262
             ],
             "passed_time": 0.3887691246,
             "remaining_time": 38.48814334,
             "test": [
              0.6739242337
             ]
            },
            {
             "iteration": 1,
             "learn": [
              0.6564431794
             ],
             "passed_time": 0.7605016875,
             "remaining_time": 37.26458269,
             "test": [
              0.6560714246
             ]
            },
            {
             "iteration": 2,
             "learn": [
              0.6392324291
             ],
             "passed_time": 1.135373624,
             "remaining_time": 36.71041385,
             "test": [
              0.6387256693
             ]
            },
            {
             "iteration": 3,
             "learn": [
              0.6239545698
             ],
             "passed_time": 1.507240435,
             "remaining_time": 36.17377045,
             "test": [
              0.6223169241
             ]
            },
            {
             "iteration": 4,
             "learn": [
              0.6067395373
             ],
             "passed_time": 2.001790697,
             "remaining_time": 38.03402325,
             "test": [
              0.6059831672
             ]
            },
            {
             "iteration": 5,
             "learn": [
              0.5919001334
             ],
             "passed_time": 2.400267233,
             "remaining_time": 37.60418665,
             "test": [
              0.591419468
             ]
            },
            {
             "iteration": 6,
             "learn": [
              0.5775513709
             ],
             "passed_time": 2.817524669,
             "remaining_time": 37.43282775,
             "test": [
              0.5769264559
             ]
            },
            {
             "iteration": 7,
             "learn": [
              0.5641271443
             ],
             "passed_time": 3.192878987,
             "remaining_time": 36.71810835,
             "test": [
              0.563300674
             ]
            },
            {
             "iteration": 8,
             "learn": [
              0.5517891491
             ],
             "passed_time": 3.569322899,
             "remaining_time": 36.08982043,
             "test": [
              0.5508348856
             ]
            },
            {
             "iteration": 9,
             "learn": [
              0.5380664258
             ],
             "passed_time": 4.010823299,
             "remaining_time": 36.0974097,
             "test": [
              0.5375615275
             ]
            },
            {
             "iteration": 10,
             "learn": [
              0.5255504869
             ],
             "passed_time": 4.466283624,
             "remaining_time": 36.13629478,
             "test": [
              0.5246623479
             ]
            },
            {
             "iteration": 11,
             "learn": [
              0.5140524285
             ],
             "passed_time": 4.840023066,
             "remaining_time": 35.49350249,
             "test": [
              0.5133143745
             ]
            },
            {
             "iteration": 12,
             "learn": [
              0.5029843667
             ],
             "passed_time": 5.257458048,
             "remaining_time": 35.18452694,
             "test": [
              0.5021750027
             ]
            },
            {
             "iteration": 13,
             "learn": [
              0.4928827019
             ],
             "passed_time": 5.639441685,
             "remaining_time": 34.64228464,
             "test": [
              0.4916843457
             ]
            },
            {
             "iteration": 14,
             "learn": [
              0.4825061183
             ],
             "passed_time": 6.029841283,
             "remaining_time": 34.16910061,
             "test": [
              0.4821811031
             ]
            },
            {
             "iteration": 15,
             "learn": [
              0.4730985895
             ],
             "passed_time": 6.404336966,
             "remaining_time": 33.62276907,
             "test": [
              0.4729015469
             ]
            },
            {
             "iteration": 16,
             "learn": [
              0.4630374732
             ],
             "passed_time": 6.805303459,
             "remaining_time": 33.22589336,
             "test": [
              0.46295274
             ]
            },
            {
             "iteration": 17,
             "learn": [
              0.4545583247
             ],
             "passed_time": 7.168226109,
             "remaining_time": 32.65525227,
             "test": [
              0.4544538142
             ]
            },
            {
             "iteration": 18,
             "learn": [
              0.4455532969
             ],
             "passed_time": 7.606568384,
             "remaining_time": 32.42800206,
             "test": [
              0.445402417
             ]
            },
            {
             "iteration": 19,
             "learn": [
              0.4370042968
             ],
             "passed_time": 8.041475157,
             "remaining_time": 32.16590063,
             "test": [
              0.4367094653
             ]
            },
            {
             "iteration": 20,
             "learn": [
              0.4281754386
             ],
             "passed_time": 8.430118432,
             "remaining_time": 31.71330267,
             "test": [
              0.4281881222
             ]
            },
            {
             "iteration": 21,
             "learn": [
              0.4203764798
             ],
             "passed_time": 8.904325643,
             "remaining_time": 31.56988182,
             "test": [
              0.4207741444
             ]
            },
            {
             "iteration": 22,
             "learn": [
              0.4122203876
             ],
             "passed_time": 9.332169363,
             "remaining_time": 31.24248004,
             "test": [
              0.4122942263
             ]
            },
            {
             "iteration": 23,
             "learn": [
              0.4047899088
             ],
             "passed_time": 9.730658989,
             "remaining_time": 30.81375347,
             "test": [
              0.4049497859
             ]
            },
            {
             "iteration": 24,
             "learn": [
              0.3965758525
             ],
             "passed_time": 10.18971199,
             "remaining_time": 30.56913596,
             "test": [
              0.3973003218
             ]
            },
            {
             "iteration": 25,
             "learn": [
              0.3896460343
             ],
             "passed_time": 10.65188152,
             "remaining_time": 30.31689356,
             "test": [
              0.3902649342
             ]
            },
            {
             "iteration": 26,
             "learn": [
              0.3831133878
             ],
             "passed_time": 11.33757929,
             "remaining_time": 30.65345513,
             "test": [
              0.3839127395
             ]
            },
            {
             "iteration": 27,
             "learn": [
              0.376895687
             ],
             "passed_time": 11.87523927,
             "remaining_time": 30.53632955,
             "test": [
              0.3775298899
             ]
            },
            {
             "iteration": 28,
             "learn": [
              0.36911779
             ],
             "passed_time": 12.37208536,
             "remaining_time": 30.29027796,
             "test": [
              0.3701971938
             ]
            },
            {
             "iteration": 29,
             "learn": [
              0.3621743046
             ],
             "passed_time": 12.82903319,
             "remaining_time": 29.93441078,
             "test": [
              0.3637251459
             ]
            },
            {
             "iteration": 30,
             "learn": [
              0.3554501844
             ],
             "passed_time": 13.31769141,
             "remaining_time": 29.64260347,
             "test": [
              0.3570223098
             ]
            },
            {
             "iteration": 31,
             "learn": [
              0.3498956736
             ],
             "passed_time": 13.79166362,
             "remaining_time": 29.30728519,
             "test": [
              0.3517438958
             ]
            },
            {
             "iteration": 32,
             "learn": [
              0.3440047871
             ],
             "passed_time": 14.18420836,
             "remaining_time": 28.79824121,
             "test": [
              0.346273918
             ]
            },
            {
             "iteration": 33,
             "learn": [
              0.3384743817
             ],
             "passed_time": 14.5653366,
             "remaining_time": 28.27388869,
             "test": [
              0.3409134926
             ]
            },
            {
             "iteration": 34,
             "learn": [
              0.3319371939
             ],
             "passed_time": 15.0250755,
             "remaining_time": 27.90371164,
             "test": [
              0.3346633735
             ]
            },
            {
             "iteration": 35,
             "learn": [
              0.3265037672
             ],
             "passed_time": 15.42391023,
             "remaining_time": 27.42028485,
             "test": [
              0.3294775768
             ]
            },
            {
             "iteration": 36,
             "learn": [
              0.3208040328
             ],
             "passed_time": 15.87683311,
             "remaining_time": 27.03352664,
             "test": [
              0.3241489375
             ]
            },
            {
             "iteration": 37,
             "learn": [
              0.3149171921
             ],
             "passed_time": 16.32594239,
             "remaining_time": 26.6370639,
             "test": [
              0.3184700657
             ]
            },
            {
             "iteration": 38,
             "learn": [
              0.3099279698
             ],
             "passed_time": 16.72633384,
             "remaining_time": 26.16170164,
             "test": [
              0.3138679397
             ]
            },
            {
             "iteration": 39,
             "learn": [
              0.3052547854
             ],
             "passed_time": 17.14296145,
             "remaining_time": 25.71444218,
             "test": [
              0.3091510881
             ]
            },
            {
             "iteration": 40,
             "learn": [
              0.3006749647
             ],
             "passed_time": 17.54811069,
             "remaining_time": 25.25215929,
             "test": [
              0.3049007931
             ]
            },
            {
             "iteration": 41,
             "learn": [
              0.2956789348
             ],
             "passed_time": 18.00042882,
             "remaining_time": 24.85773503,
             "test": [
              0.3002326887
             ]
            },
            {
             "iteration": 42,
             "learn": [
              0.2904407876
             ],
             "passed_time": 18.48077121,
             "remaining_time": 24.49776649,
             "test": [
              0.2948280343
             ]
            },
            {
             "iteration": 43,
             "learn": [
              0.2862308839
             ],
             "passed_time": 18.91045839,
             "remaining_time": 24.06785613,
             "test": [
              0.290794798
             ]
            },
            {
             "iteration": 44,
             "learn": [
              0.2821696598
             ],
             "passed_time": 19.33359286,
             "remaining_time": 23.62994683,
             "test": [
              0.2869164832
             ]
            },
            {
             "iteration": 45,
             "learn": [
              0.2772303832
             ],
             "passed_time": 19.81537752,
             "remaining_time": 23.26153014,
             "test": [
              0.2818189408
             ]
            },
            {
             "iteration": 46,
             "learn": [
              0.2726549451
             ],
             "passed_time": 20.26816332,
             "remaining_time": 22.85558842,
             "test": [
              0.2770298781
             ]
            },
            {
             "iteration": 47,
             "learn": [
              0.2689871088
             ],
             "passed_time": 20.67922656,
             "remaining_time": 22.40249544,
             "test": [
              0.2734884196
             ]
            },
            {
             "iteration": 48,
             "learn": [
              0.264909015
             ],
             "passed_time": 21.08792062,
             "remaining_time": 21.94865207,
             "test": [
              0.2695281872
             ]
            },
            {
             "iteration": 49,
             "learn": [
              0.2612581717
             ],
             "passed_time": 21.54902496,
             "remaining_time": 21.54902496,
             "test": [
              0.2660159926
             ]
            },
            {
             "iteration": 50,
             "learn": [
              0.2573768726
             ],
             "passed_time": 21.96833307,
             "remaining_time": 21.10682981,
             "test": [
              0.2622994785
             ]
            },
            {
             "iteration": 51,
             "learn": [
              0.2537389026
             ],
             "passed_time": 22.42429756,
             "remaining_time": 20.6993516,
             "test": [
              0.2587173008
             ]
            },
            {
             "iteration": 52,
             "learn": [
              0.2501507253
             ],
             "passed_time": 22.90983635,
             "remaining_time": 20.31626997,
             "test": [
              0.2552325659
             ]
            },
            {
             "iteration": 53,
             "learn": [
              0.2460336227
             ],
             "passed_time": 23.35619402,
             "remaining_time": 19.89601713,
             "test": [
              0.2512560907
             ]
            },
            {
             "iteration": 54,
             "learn": [
              0.2425055446
             ],
             "passed_time": 23.78427401,
             "remaining_time": 19.45986055,
             "test": [
              0.2478059673
             ]
            },
            {
             "iteration": 55,
             "learn": [
              0.2384444988
             ],
             "passed_time": 24.25693419,
             "remaining_time": 19.05901972,
             "test": [
              0.2440859471
             ]
            },
            {
             "iteration": 56,
             "learn": [
              0.2353501711
             ],
             "passed_time": 24.71709669,
             "remaining_time": 18.64623083,
             "test": [
              0.241108585
             ]
            },
            {
             "iteration": 57,
             "learn": [
              0.2317996627
             ],
             "passed_time": 25.11501392,
             "remaining_time": 18.18673422,
             "test": [
              0.2376023124
             ]
            },
            {
             "iteration": 58,
             "learn": [
              0.2285027974
             ],
             "passed_time": 25.5923759,
             "remaining_time": 17.78453241,
             "test": [
              0.2342673772
             ]
            },
            {
             "iteration": 59,
             "learn": [
              0.2251432249
             ],
             "passed_time": 25.98714567,
             "remaining_time": 17.32476378,
             "test": [
              0.2309949494
             ]
            },
            {
             "iteration": 60,
             "learn": [
              0.2225321058
             ],
             "passed_time": 26.39769756,
             "remaining_time": 16.87721647,
             "test": [
              0.228583999
             ]
            },
            {
             "iteration": 61,
             "learn": [
              0.2196312238
             ],
             "passed_time": 26.80388412,
             "remaining_time": 16.42818704,
             "test": [
              0.2258888613
             ]
            },
            {
             "iteration": 62,
             "learn": [
              0.2169297645
             ],
             "passed_time": 27.25570142,
             "remaining_time": 16.00731671,
             "test": [
              0.2234743533
             ]
            },
            {
             "iteration": 63,
             "learn": [
              0.2138933581
             ],
             "passed_time": 27.65931519,
             "remaining_time": 15.5583648,
             "test": [
              0.220511733
             ]
            },
            {
             "iteration": 64,
             "learn": [
              0.2109812233
             ],
             "passed_time": 28.13192823,
             "remaining_time": 15.14796136,
             "test": [
              0.2175806523
             ]
            },
            {
             "iteration": 65,
             "learn": [
              0.2081196224
             ],
             "passed_time": 28.5346426,
             "remaining_time": 14.69966437,
             "test": [
              0.2146445837
             ]
            },
            {
             "iteration": 66,
             "learn": [
              0.2055318151
             ],
             "passed_time": 28.89143211,
             "remaining_time": 14.23010835,
             "test": [
              0.2123984535
             ]
            },
            {
             "iteration": 67,
             "learn": [
              0.2032093493
             ],
             "passed_time": 29.30425438,
             "remaining_time": 13.79023736,
             "test": [
              0.210181093
             ]
            },
            {
             "iteration": 68,
             "learn": [
              0.2011134488
             ],
             "passed_time": 29.71688896,
             "remaining_time": 13.35106605,
             "test": [
              0.2079859354
             ]
            },
            {
             "iteration": 69,
             "learn": [
              0.1985068287
             ],
             "passed_time": 30.11259759,
             "remaining_time": 12.90539897,
             "test": [
              0.20537032
             ]
            },
            {
             "iteration": 70,
             "learn": [
              0.1961737754
             ],
             "passed_time": 30.46777331,
             "remaining_time": 12.44458347,
             "test": [
              0.2033278789
             ]
            },
            {
             "iteration": 71,
             "learn": [
              0.193955284
             ],
             "passed_time": 30.8795595,
             "remaining_time": 12.00871758,
             "test": [
              0.2010555604
             ]
            },
            {
             "iteration": 72,
             "learn": [
              0.1917104483
             ],
             "passed_time": 31.2609461,
             "remaining_time": 11.56226774,
             "test": [
              0.1990496346
             ]
            },
            {
             "iteration": 73,
             "learn": [
              0.1894379385
             ],
             "passed_time": 31.73748362,
             "remaining_time": 11.15100776,
             "test": [
              0.1968329698
             ]
            },
            {
             "iteration": 74,
             "learn": [
              0.1873457548
             ],
             "passed_time": 32.13239656,
             "remaining_time": 10.71079885,
             "test": [
              0.1949125
             ]
            },
            {
             "iteration": 75,
             "learn": [
              0.1852083281
             ],
             "passed_time": 32.60172109,
             "remaining_time": 10.29528034,
             "test": [
              0.1928327244
             ]
            },
            {
             "iteration": 76,
             "learn": [
              0.1824598441
             ],
             "passed_time": 33.01646637,
             "remaining_time": 9.862061384,
             "test": [
              0.1901908095
             ]
            },
            {
             "iteration": 77,
             "learn": [
              0.1802723656
             ],
             "passed_time": 33.47059673,
             "remaining_time": 9.440424719,
             "test": [
              0.1879217248
             ]
            },
            {
             "iteration": 78,
             "learn": [
              0.1777713005
             ],
             "passed_time": 33.91724528,
             "remaining_time": 9.015976593,
             "test": [
              0.1854527653
             ]
            },
            {
             "iteration": 79,
             "learn": [
              0.1754985328
             ],
             "passed_time": 34.35102357,
             "remaining_time": 8.587755892,
             "test": [
              0.1832320263
             ]
            },
            {
             "iteration": 80,
             "learn": [
              0.1733205434
             ],
             "passed_time": 34.77405728,
             "remaining_time": 8.156877633,
             "test": [
              0.1810867231
             ]
            },
            {
             "iteration": 81,
             "learn": [
              0.1711650783
             ],
             "passed_time": 35.21847661,
             "remaining_time": 7.730885109,
             "test": [
              0.178884683
             ]
            },
            {
             "iteration": 82,
             "learn": [
              0.169550925
             ],
             "passed_time": 35.57065304,
             "remaining_time": 7.285555443,
             "test": [
              0.1772688076
             ]
            },
            {
             "iteration": 83,
             "learn": [
              0.1677203477
             ],
             "passed_time": 36.04336321,
             "remaining_time": 6.865402516,
             "test": [
              0.1754574804
             ]
            },
            {
             "iteration": 84,
             "learn": [
              0.1655828502
             ],
             "passed_time": 36.43077881,
             "remaining_time": 6.428960967,
             "test": [
              0.1732551836
             ]
            },
            {
             "iteration": 85,
             "learn": [
              0.1636316375
             ],
             "passed_time": 36.83898225,
             "remaining_time": 5.997043622,
             "test": [
              0.1714051852
             ]
            },
            {
             "iteration": 86,
             "learn": [
              0.1617446897
             ],
             "passed_time": 37.29903481,
             "remaining_time": 5.573418994,
             "test": [
              0.1694340965
             ]
            },
            {
             "iteration": 87,
             "learn": [
              0.1598573348
             ],
             "passed_time": 37.67425543,
             "remaining_time": 5.137398468,
             "test": [
              0.1674697737
             ]
            },
            {
             "iteration": 88,
             "learn": [
              0.1583336783
             ],
             "passed_time": 38.07237803,
             "remaining_time": 4.705574812,
             "test": [
              0.1658947379
             ]
            },
            {
             "iteration": 89,
             "learn": [
              0.1568108813
             ],
             "passed_time": 38.44906035,
             "remaining_time": 4.272117816,
             "test": [
              0.1646143684
             ]
            },
            {
             "iteration": 90,
             "learn": [
              0.155004809
             ],
             "passed_time": 38.8558644,
             "remaining_time": 3.842887687,
             "test": [
              0.1629327527
             ]
            },
            {
             "iteration": 91,
             "learn": [
              0.1531245465
             ],
             "passed_time": 39.24675429,
             "remaining_time": 3.412761243,
             "test": [
              0.1609715521
             ]
            },
            {
             "iteration": 92,
             "learn": [
              0.1514539251
             ],
             "passed_time": 39.65567908,
             "remaining_time": 2.984836059,
             "test": [
              0.1591556809
             ]
            },
            {
             "iteration": 93,
             "learn": [
              0.1496877643
             ],
             "passed_time": 40.12811781,
             "remaining_time": 2.561369222,
             "test": [
              0.1573758639
             ]
            },
            {
             "iteration": 94,
             "learn": [
              0.1479152788
             ],
             "passed_time": 40.52636251,
             "remaining_time": 2.132966448,
             "test": [
              0.1555517594
             ]
            },
            {
             "iteration": 95,
             "learn": [
              0.1462956297
             ],
             "passed_time": 40.9374054,
             "remaining_time": 1.705725225,
             "test": [
              0.1538742493
             ]
            },
            {
             "iteration": 96,
             "learn": [
              0.1449045574
             ],
             "passed_time": 41.30364582,
             "remaining_time": 1.277432345,
             "test": [
              0.152749175
             ]
            },
            {
             "iteration": 97,
             "learn": [
              0.1433710076
             ],
             "passed_time": 41.75119587,
             "remaining_time": 0.8520652219,
             "test": [
              0.151071666
             ]
            },
            {
             "iteration": 98,
             "learn": [
              0.141785753
             ],
             "passed_time": 42.16595429,
             "remaining_time": 0.4259187302,
             "test": [
              0.1496037716
             ]
            },
            {
             "iteration": 99,
             "learn": [
              0.1403114004
             ],
             "passed_time": 42.6377278,
             "remaining_time": 0,
             "test": [
              0.1480175322
             ]
            }
           ],
           "meta": {
            "iteration_count": 100,
            "launch_mode": "Train",
            "learn_metrics": [
             {
              "best_value": "Min",
              "name": "CrossEntropy"
             }
            ],
            "learn_sets": [
             "learn"
            ],
            "name": "experiment",
            "parameters": "",
            "test_metrics": [
             {
              "best_value": "Min",
              "name": "CrossEntropy"
             }
            ],
            "test_sets": [
             "test"
            ]
           }
          },
          "passed_iterations": 99,
          "total_iterations": 100
         },
         "name": "catboost_info",
         "path": "catboost_info"
        }
       },
       "layout": "IPY_MODEL_136697dda503440ca8510f157f8a3f87"
      }
     },
     "ee790ac2dbcb452296d7e4d094b4b033": {
      "model_module": "@jupyter-widgets/base",
      "model_module_version": "1.2.0",
      "model_name": "LayoutModel",
      "state": {
       "_model_module": "@jupyter-widgets/base",
       "_model_module_version": "1.2.0",
       "_model_name": "LayoutModel",
       "_view_count": null,
       "_view_module": "@jupyter-widgets/base",
       "_view_module_version": "1.2.0",
       "_view_name": "LayoutView",
       "align_content": null,
       "align_items": null,
       "align_self": "stretch",
       "border": null,
       "bottom": null,
       "display": null,
       "flex": null,
       "flex_flow": null,
       "grid_area": null,
       "grid_auto_columns": null,
       "grid_auto_flow": null,
       "grid_auto_rows": null,
       "grid_column": null,
       "grid_gap": null,
       "grid_row": null,
       "grid_template_areas": null,
       "grid_template_columns": null,
       "grid_template_rows": null,
       "height": "500px",
       "justify_content": null,
       "justify_items": null,
       "left": null,
       "margin": null,
       "max_height": null,
       "max_width": null,
       "min_height": null,
       "min_width": null,
       "object_fit": null,
       "object_position": null,
       "order": null,
       "overflow": null,
       "overflow_x": null,
       "overflow_y": null,
       "padding": null,
       "right": null,
       "top": null,
       "visibility": null,
       "width": null
      }
     },
     "eff1712569644641b724d097487c08b1": {
      "model_module": "catboost-widget",
      "model_module_version": "^1.0.0",
      "model_name": "CatboostWidgetModel",
      "state": {
       "_dom_classes": [],
       "_model_module": "catboost-widget",
       "_model_module_version": "^1.0.0",
       "_model_name": "CatboostWidgetModel",
       "_view_count": null,
       "_view_module": "catboost-widget",
       "_view_module_version": "^1.0.0",
       "_view_name": "CatboostWidgetView",
       "data": {
        "catboost_info": {
         "content": {
          "data": {
           "iterations": [
            {
             "iteration": 0,
             "learn": [
              0.6689615005
             ],
             "passed_time": 0.4463613386,
             "remaining_time": 44.18977252,
             "test": [
              0.6682226358
             ]
            },
            {
             "iteration": 1,
             "learn": [
              0.645685298
             ],
             "passed_time": 0.9226380125,
             "remaining_time": 45.20926261,
             "test": [
              0.644089145
             ]
            },
            {
             "iteration": 2,
             "learn": [
              0.6238058941
             ],
             "passed_time": 1.57029484,
             "remaining_time": 50.77286649,
             "test": [
              0.6224381951
             ]
            },
            {
             "iteration": 3,
             "learn": [
              0.6040177353
             ],
             "passed_time": 2.156119298,
             "remaining_time": 51.74686316,
             "test": [
              0.6014093961
             ]
            },
            {
             "iteration": 4,
             "learn": [
              0.5847840626
             ],
             "passed_time": 2.65049929,
             "remaining_time": 50.35948651,
             "test": [
              0.5814639799
             ]
            },
            {
             "iteration": 5,
             "learn": [
              0.5669666341
             ],
             "passed_time": 3.128988458,
             "remaining_time": 49.02081917,
             "test": [
              0.5630828371
             ]
            },
            {
             "iteration": 6,
             "learn": [
              0.5479669227
             ],
             "passed_time": 3.493650689,
             "remaining_time": 46.41564486,
             "test": [
              0.5442496962
             ]
            },
            {
             "iteration": 7,
             "learn": [
              0.5307060207
             ],
             "passed_time": 3.866071583,
             "remaining_time": 44.4598232,
             "test": [
              0.5263025965
             ]
            },
            {
             "iteration": 8,
             "learn": [
              0.5152139427
             ],
             "passed_time": 4.337196821,
             "remaining_time": 43.85387897,
             "test": [
              0.5103450039
             ]
            },
            {
             "iteration": 9,
             "learn": [
              0.4993099227
             ],
             "passed_time": 4.704181094,
             "remaining_time": 42.33762985,
             "test": [
              0.4940044063
             ]
            },
            {
             "iteration": 10,
             "learn": [
              0.4855330886
             ],
             "passed_time": 5.164216591,
             "remaining_time": 41.78320696,
             "test": [
              0.4795867515
             ]
            },
            {
             "iteration": 11,
             "learn": [
              0.4709436252
             ],
             "passed_time": 5.594283124,
             "remaining_time": 41.02474291,
             "test": [
              0.4650719705
             ]
            },
            {
             "iteration": 12,
             "learn": [
              0.4567801395
             ],
             "passed_time": 5.965515162,
             "remaining_time": 39.92306301,
             "test": [
              0.4508281448
             ]
            },
            {
             "iteration": 13,
             "learn": [
              0.444788421
             ],
             "passed_time": 6.439829729,
             "remaining_time": 39.55895405,
             "test": [
              0.4381875197
             ]
            },
            {
             "iteration": 14,
             "learn": [
              0.4324579057
             ],
             "passed_time": 6.852503208,
             "remaining_time": 38.83085151,
             "test": [
              0.4252714222
             ]
            },
            {
             "iteration": 15,
             "learn": [
              0.4212152741
             ],
             "passed_time": 7.329717641,
             "remaining_time": 38.48101762,
             "test": [
              0.413814322
             ]
            },
            {
             "iteration": 16,
             "learn": [
              0.40954967
             ],
             "passed_time": 7.69783931,
             "remaining_time": 37.5835684,
             "test": [
              0.4018554684
             ]
            },
            {
             "iteration": 17,
             "learn": [
              0.3985672252
             ],
             "passed_time": 8.047592523,
             "remaining_time": 36.66125483,
             "test": [
              0.3906894991
             ]
            },
            {
             "iteration": 18,
             "learn": [
              0.3877299846
             ],
             "passed_time": 8.420190221,
             "remaining_time": 35.89660041,
             "test": [
              0.3795632121
             ]
            },
            {
             "iteration": 19,
             "learn": [
              0.3776161682
             ],
             "passed_time": 8.773837364,
             "remaining_time": 35.09534946,
             "test": [
              0.3694067689
             ]
            },
            {
             "iteration": 20,
             "learn": [
              0.3676769253
             ],
             "passed_time": 9.135912123,
             "remaining_time": 34.36843132,
             "test": [
              0.3592747864
             ]
            },
            {
             "iteration": 21,
             "learn": [
              0.358579781
             ],
             "passed_time": 9.510711775,
             "remaining_time": 33.71979629,
             "test": [
              0.3499451597
             ]
            },
            {
             "iteration": 22,
             "learn": [
              0.3494940216
             ],
             "passed_time": 9.950138491,
             "remaining_time": 33.31133321,
             "test": [
              0.3405770791
             ]
            },
            {
             "iteration": 23,
             "learn": [
              0.3410315717
             ],
             "passed_time": 10.35502771,
             "remaining_time": 32.79092109,
             "test": [
              0.3318842086
             ]
            },
            {
             "iteration": 24,
             "learn": [
              0.3332084361
             ],
             "passed_time": 10.82695518,
             "remaining_time": 32.48086554,
             "test": [
              0.3237189605
             ]
            },
            {
             "iteration": 25,
             "learn": [
              0.3246722107
             ],
             "passed_time": 11.19104253,
             "remaining_time": 31.85142874,
             "test": [
              0.3152847615
             ]
            },
            {
             "iteration": 26,
             "learn": [
              0.3167939152
             ],
             "passed_time": 11.56561557,
             "remaining_time": 31.26999765,
             "test": [
              0.3074248292
             ]
            },
            {
             "iteration": 27,
             "learn": [
              0.3087201691
             ],
             "passed_time": 12.03086905,
             "remaining_time": 30.93652042,
             "test": [
              0.2991217824
             ]
            },
            {
             "iteration": 28,
             "learn": [
              0.3015547395
             ],
             "passed_time": 12.37379485,
             "remaining_time": 30.29446326,
             "test": [
              0.2918435116
             ]
            },
            {
             "iteration": 29,
             "learn": [
              0.2940273494
             ],
             "passed_time": 12.84416945,
             "remaining_time": 29.96972872,
             "test": [
              0.2841440972
             ]
            },
            {
             "iteration": 30,
             "learn": [
              0.2872313832
             ],
             "passed_time": 13.18460019,
             "remaining_time": 29.34636817,
             "test": [
              0.2772992546
             ]
            },
            {
             "iteration": 31,
             "learn": [
              0.2805499359
             ],
             "passed_time": 13.74184737,
             "remaining_time": 29.20142567,
             "test": [
              0.2703098879
             ]
            },
            {
             "iteration": 32,
             "learn": [
              0.2741812327
             ],
             "passed_time": 14.21448409,
             "remaining_time": 28.85971012,
             "test": [
              0.2636937032
             ]
            },
            {
             "iteration": 33,
             "learn": [
              0.2680114892
             ],
             "passed_time": 14.56254487,
             "remaining_time": 28.26846946,
             "test": [
              0.2575040164
             ]
            },
            {
             "iteration": 34,
             "learn": [
              0.2620891144
             ],
             "passed_time": 15.03347051,
             "remaining_time": 27.91930237,
             "test": [
              0.2513346512
             ]
            },
            {
             "iteration": 35,
             "learn": [
              0.2565786063
             ],
             "passed_time": 15.37964597,
             "remaining_time": 27.34159283,
             "test": [
              0.2456768664
             ]
            },
            {
             "iteration": 36,
             "learn": [
              0.2509998746
             ],
             "passed_time": 15.72627662,
             "remaining_time": 26.7771737,
             "test": [
              0.2402773281
             ]
            },
            {
             "iteration": 37,
             "learn": [
              0.2453008681
             ],
             "passed_time": 16.2077204,
             "remaining_time": 26.44417539,
             "test": [
              0.2343205665
             ]
            },
            {
             "iteration": 38,
             "learn": [
              0.23975701
             ],
             "passed_time": 16.73667464,
             "remaining_time": 26.17787571,
             "test": [
              0.2287517261
             ]
            },
            {
             "iteration": 39,
             "learn": [
              0.2346630826
             ],
             "passed_time": 17.2463777,
             "remaining_time": 25.86956655,
             "test": [
              0.2233076326
             ]
            },
            {
             "iteration": 40,
             "learn": [
              0.2299130526
             ],
             "passed_time": 17.59145721,
             "remaining_time": 25.31453599,
             "test": [
              0.2185425354
             ]
            },
            {
             "iteration": 41,
             "learn": [
              0.2250427225
             ],
             "passed_time": 18.0848972,
             "remaining_time": 24.97438185,
             "test": [
              0.2135082792
             ]
            },
            {
             "iteration": 42,
             "learn": [
              0.2205280133
             ],
             "passed_time": 18.43385588,
             "remaining_time": 24.4355764,
             "test": [
              0.2089160618
             ]
            },
            {
             "iteration": 43,
             "learn": [
              0.2156433909
             ],
             "passed_time": 18.95068978,
             "remaining_time": 24.11905971,
             "test": [
              0.2039161891
             ]
            },
            {
             "iteration": 44,
             "learn": [
              0.2113543392
             ],
             "passed_time": 19.41267201,
             "remaining_time": 23.72659912,
             "test": [
              0.1993482881
             ]
            },
            {
             "iteration": 45,
             "learn": [
              0.2071102583
             ],
             "passed_time": 19.77015175,
             "remaining_time": 23.20843902,
             "test": [
              0.1951280713
             ]
            },
            {
             "iteration": 46,
             "learn": [
              0.2029352342
             ],
             "passed_time": 20.21997748,
             "remaining_time": 22.8012512,
             "test": [
              0.1908445739
             ]
            },
            {
             "iteration": 47,
             "learn": [
              0.1988707386
             ],
             "passed_time": 20.57177262,
             "remaining_time": 22.286087,
             "test": [
              0.1867499174
             ]
            },
            {
             "iteration": 48,
             "learn": [
              0.1949514443
             ],
             "passed_time": 20.94772484,
             "remaining_time": 21.80273401,
             "test": [
              0.1827420313
             ]
            },
            {
             "iteration": 49,
             "learn": [
              0.190780892
             ],
             "passed_time": 21.45990755,
             "remaining_time": 21.45990755,
             "test": [
              0.1785800887
             ]
            },
            {
             "iteration": 50,
             "learn": [
              0.1870591104
             ],
             "passed_time": 21.8084227,
             "remaining_time": 20.95319044,
             "test": [
              0.1748383581
             ]
            },
            {
             "iteration": 51,
             "learn": [
              0.1839470358
             ],
             "passed_time": 22.17377633,
             "remaining_time": 20.46810123,
             "test": [
              0.1716351297
             ]
            },
            {
             "iteration": 52,
             "learn": [
              0.1799780679
             ],
             "passed_time": 22.62154312,
             "remaining_time": 20.06061371,
             "test": [
              0.167540542
             ]
            },
            {
             "iteration": 53,
             "learn": [
              0.17674884
             ],
             "passed_time": 23.09385444,
             "remaining_time": 19.67254267,
             "test": [
              0.1642858968
             ]
            },
            {
             "iteration": 54,
             "learn": [
              0.1731126834
             ],
             "passed_time": 23.6062074,
             "remaining_time": 19.31416969,
             "test": [
              0.1606292469
             ]
            },
            {
             "iteration": 55,
             "learn": [
              0.1697880874
             ],
             "passed_time": 24.09054516,
             "remaining_time": 18.92828548,
             "test": [
              0.157285926
             ]
            },
            {
             "iteration": 56,
             "learn": [
              0.1667603624
             ],
             "passed_time": 24.47190931,
             "remaining_time": 18.46126492,
             "test": [
              0.1542115394
             ]
            },
            {
             "iteration": 57,
             "learn": [
              0.1634075437
             ],
             "passed_time": 24.9344702,
             "remaining_time": 18.05599566,
             "test": [
              0.1507899369
             ]
            },
            {
             "iteration": 58,
             "learn": [
              0.16018659
             ],
             "passed_time": 25.47381115,
             "remaining_time": 17.70213995,
             "test": [
              0.1475451604
             ]
            },
            {
             "iteration": 59,
             "learn": [
              0.1573048766
             ],
             "passed_time": 25.8854759,
             "remaining_time": 17.25698394,
             "test": [
              0.1445840644
             ]
            },
            {
             "iteration": 60,
             "learn": [
              0.1545546492
             ],
             "passed_time": 26.2381194,
             "remaining_time": 16.77519109,
             "test": [
              0.141833277
             ]
            },
            {
             "iteration": 61,
             "learn": [
              0.151913551
             ],
             "passed_time": 26.65490436,
             "remaining_time": 16.33687687,
             "test": [
              0.1393812656
             ]
            },
            {
             "iteration": 62,
             "learn": [
              0.1493524757
             ],
             "passed_time": 27.11236655,
             "remaining_time": 15.92313591,
             "test": [
              0.1365746569
             ]
            },
            {
             "iteration": 63,
             "learn": [
              0.1462064762
             ],
             "passed_time": 27.53294591,
             "remaining_time": 15.48728207,
             "test": [
              0.1334551449
             ]
            },
            {
             "iteration": 64,
             "learn": [
              0.143817293
             ],
             "passed_time": 27.95135368,
             "remaining_time": 15.0507289,
             "test": [
              0.1311392726
             ]
            },
            {
             "iteration": 65,
             "learn": [
              0.1409345972
             ],
             "passed_time": 28.38674499,
             "remaining_time": 14.62347469,
             "test": [
              0.128163846
             ]
            },
            {
             "iteration": 66,
             "learn": [
              0.1389392077
             ],
             "passed_time": 28.78391737,
             "remaining_time": 14.17715333,
             "test": [
              0.1260823259
             ]
            },
            {
             "iteration": 67,
             "learn": [
              0.1364427726
             ],
             "passed_time": 29.24524304,
             "remaining_time": 13.76246731,
             "test": [
              0.1237159825
             ]
            },
            {
             "iteration": 68,
             "learn": [
              0.1338622019
             ],
             "passed_time": 29.75768807,
             "remaining_time": 13.36939609,
             "test": [
              0.1212177147
             ]
            },
            {
             "iteration": 69,
             "learn": [
              0.1316845395
             ],
             "passed_time": 30.14141313,
             "remaining_time": 12.91774848,
             "test": [
              0.1190279899
             ]
            },
            {
             "iteration": 70,
             "learn": [
              0.1291233072
             ],
             "passed_time": 30.56512273,
             "remaining_time": 12.4843459,
             "test": [
              0.1164502661
             ]
            },
            {
             "iteration": 71,
             "learn": [
              0.126822644
             ],
             "passed_time": 31.03298536,
             "remaining_time": 12.06838319,
             "test": [
              0.1141639595
             ]
            },
            {
             "iteration": 72,
             "learn": [
              0.1247996806
             ],
             "passed_time": 31.42474243,
             "remaining_time": 11.62284994,
             "test": [
              0.1121001382
             ]
            },
            {
             "iteration": 73,
             "learn": [
              0.1226263638
             ],
             "passed_time": 31.9422946,
             "remaining_time": 11.22296837,
             "test": [
              0.109971797
             ]
            },
            {
             "iteration": 74,
             "learn": [
              0.1210011057
             ],
             "passed_time": 32.31203035,
             "remaining_time": 10.77067678,
             "test": [
              0.1083911881
             ]
            },
            {
             "iteration": 75,
             "learn": [
              0.1187221769
             ],
             "passed_time": 32.82740538,
             "remaining_time": 10.36654907,
             "test": [
              0.1060551763
             ]
            },
            {
             "iteration": 76,
             "learn": [
              0.1168296214
             ],
             "passed_time": 33.50942492,
             "remaining_time": 10.00930874,
             "test": [
              0.1041801555
             ]
            },
            {
             "iteration": 77,
             "learn": [
              0.1149669713
             ],
             "passed_time": 34.04860896,
             "remaining_time": 9.60345381,
             "test": [
              0.1023168644
             ]
            },
            {
             "iteration": 78,
             "learn": [
              0.1127652943
             ],
             "passed_time": 34.51607511,
             "remaining_time": 9.175159207,
             "test": [
              0.1000354695
             ]
            },
            {
             "iteration": 79,
             "learn": [
              0.11115818
             ],
             "passed_time": 34.91827249,
             "remaining_time": 8.729568122,
             "test": [
              0.09853589206
             ]
            },
            {
             "iteration": 80,
             "learn": [
              0.109663774
             ],
             "passed_time": 35.31575913,
             "remaining_time": 8.283943499,
             "test": [
              0.09706746278
             ]
            },
            {
             "iteration": 81,
             "learn": [
              0.1076829168
             ],
             "passed_time": 35.89928605,
             "remaining_time": 7.880331084,
             "test": [
              0.09513800075
             ]
            },
            {
             "iteration": 82,
             "learn": [
              0.1062447059
             ],
             "passed_time": 36.24330971,
             "remaining_time": 7.423328494,
             "test": [
              0.09367099327
             ]
            },
            {
             "iteration": 83,
             "learn": [
              0.1046513335
             ],
             "passed_time": 36.73710985,
             "remaining_time": 6.997544733,
             "test": [
              0.09201540825
             ]
            },
            {
             "iteration": 84,
             "learn": [
              0.1033045489
             ],
             "passed_time": 37.07942266,
             "remaining_time": 6.543427529,
             "test": [
              0.090649427
             ]
            },
            {
             "iteration": 85,
             "learn": [
              0.1014124638
             ],
             "passed_time": 37.59029487,
             "remaining_time": 6.119350327,
             "test": [
              0.08876222024
             ]
            },
            {
             "iteration": 86,
             "learn": [
              0.09988085436
             ],
             "passed_time": 38.08042201,
             "remaining_time": 5.690178002,
             "test": [
              0.08717529099
             ]
            },
            {
             "iteration": 87,
             "learn": [
              0.09815477392
             ],
             "passed_time": 38.53440303,
             "remaining_time": 5.254691322,
             "test": [
              0.08553111862
             ]
            },
            {
             "iteration": 88,
             "learn": [
              0.09652236293
             ],
             "passed_time": 38.96068575,
             "remaining_time": 4.815365655,
             "test": [
              0.08387328193
             ]
            },
            {
             "iteration": 89,
             "learn": [
              0.095226997
             ],
             "passed_time": 39.35557116,
             "remaining_time": 4.37284124,
             "test": [
              0.08262033263
             ]
            },
            {
             "iteration": 90,
             "learn": [
              0.09379264571
             ],
             "passed_time": 39.81846264,
             "remaining_time": 3.938089711,
             "test": [
              0.08127555707
             ]
            },
            {
             "iteration": 91,
             "learn": [
              0.09267326218
             ],
             "passed_time": 40.16327399,
             "remaining_time": 3.492458608,
             "test": [
              0.08010777325
             ]
            },
            {
             "iteration": 92,
             "learn": [
              0.0910777305
             ],
             "passed_time": 40.69867992,
             "remaining_time": 3.063341499,
             "test": [
              0.07852594064
             ]
            },
            {
             "iteration": 93,
             "learn": [
              0.08948429865
             ],
             "passed_time": 41.16232529,
             "remaining_time": 2.627382465,
             "test": [
              0.07695845171
             ]
            },
            {
             "iteration": 94,
             "learn": [
              0.08802440585
             ],
             "passed_time": 41.60969111,
             "remaining_time": 2.189983743,
             "test": [
              0.07557641028
             ]
            },
            {
             "iteration": 95,
             "learn": [
              0.08690539846
             ],
             "passed_time": 41.99598021,
             "remaining_time": 1.749832509,
             "test": [
              0.07449019639
             ]
            },
            {
             "iteration": 96,
             "learn": [
              0.08588392735
             ],
             "passed_time": 42.40351068,
             "remaining_time": 1.311448784,
             "test": [
              0.07343438433
             ]
            },
            {
             "iteration": 97,
             "learn": [
              0.08487152841
             ],
             "passed_time": 42.73608963,
             "remaining_time": 0.8721650946,
             "test": [
              0.07240308231
             ]
            },
            {
             "iteration": 98,
             "learn": [
              0.08361627391
             ],
             "passed_time": 43.14736476,
             "remaining_time": 0.4358319672,
             "test": [
              0.07122378809
             ]
            },
            {
             "iteration": 99,
             "learn": [
              0.08228963917
             ],
             "passed_time": 43.59429557,
             "remaining_time": 0,
             "test": [
              0.06996175183
             ]
            }
           ],
           "meta": {
            "iteration_count": 100,
            "launch_mode": "Train",
            "learn_metrics": [
             {
              "best_value": "Min",
              "name": "CrossEntropy"
             }
            ],
            "learn_sets": [
             "learn"
            ],
            "name": "experiment",
            "parameters": "",
            "test_metrics": [
             {
              "best_value": "Min",
              "name": "CrossEntropy"
             }
            ],
            "test_sets": [
             "test"
            ]
           }
          },
          "passed_iterations": 99,
          "total_iterations": 100
         },
         "name": "catboost_info",
         "path": "catboost_info"
        }
       },
       "layout": "IPY_MODEL_f80decb4a2bc4474ab84d52bcc966f19"
      }
     },
     "f4c79160668148f1a80720ddebbd5dc8": {
      "model_module": "catboost-widget",
      "model_module_version": "^1.0.0",
      "model_name": "CatboostWidgetModel",
      "state": {
       "_dom_classes": [],
       "_model_module": "catboost-widget",
       "_model_module_version": "^1.0.0",
       "_model_name": "CatboostWidgetModel",
       "_view_count": null,
       "_view_module": "catboost-widget",
       "_view_module_version": "^1.0.0",
       "_view_name": "CatboostWidgetView",
       "data": {
        "catboost_info": {
         "content": {
          "data": {
           "iterations": [
            {
             "iteration": 0,
             "learn": [
              0.6637064224
             ],
             "passed_time": 0.4870152388,
             "remaining_time": 48.21450864,
             "test": [
              0.6655252626
             ]
            },
            {
             "iteration": 1,
             "learn": [
              0.6407471397
             ],
             "passed_time": 0.9438667637,
             "remaining_time": 46.24947142,
             "test": [
              0.6394045831
             ]
            },
            {
             "iteration": 2,
             "learn": [
              0.615209877
             ],
             "passed_time": 1.409432391,
             "remaining_time": 45.5716473,
             "test": [
              0.6147994731
             ]
            },
            {
             "iteration": 3,
             "learn": [
              0.5912062919
             ],
             "passed_time": 1.867210934,
             "remaining_time": 44.81306241,
             "test": [
              0.5916842201
             ]
            },
            {
             "iteration": 4,
             "learn": [
              0.5709085198
             ],
             "passed_time": 2.329021923,
             "remaining_time": 44.25141654,
             "test": [
              0.5697548862
             ]
            },
            {
             "iteration": 5,
             "learn": [
              0.5487315423
             ],
             "passed_time": 2.790500531,
             "remaining_time": 43.71784165,
             "test": [
              0.548767417
             ]
            },
            {
             "iteration": 6,
             "learn": [
              0.5292868119
             ],
             "passed_time": 3.246753905,
             "remaining_time": 43.13544474,
             "test": [
              0.5291967674
             ]
            },
            {
             "iteration": 7,
             "learn": [
              0.5121283955
             ],
             "passed_time": 3.747611777,
             "remaining_time": 43.09753543,
             "test": [
              0.5106061335
             ]
            },
            {
             "iteration": 8,
             "learn": [
              0.4937717911
             ],
             "passed_time": 4.205860067,
             "remaining_time": 42.52591845,
             "test": [
              0.4927032078
             ]
            },
            {
             "iteration": 9,
             "learn": [
              0.476496596
             ],
             "passed_time": 4.659068822,
             "remaining_time": 41.93161939,
             "test": [
              0.4756743209
             ]
            },
            {
             "iteration": 10,
             "learn": [
              0.4608059301
             ],
             "passed_time": 5.089571915,
             "remaining_time": 41.17926368,
             "test": [
              0.4593222484
             ]
            },
            {
             "iteration": 11,
             "learn": [
              0.4459198313
             ],
             "passed_time": 5.549010852,
             "remaining_time": 40.69274625,
             "test": [
              0.4438307994
             ]
            },
            {
             "iteration": 12,
             "learn": [
              0.4312400993
             ],
             "passed_time": 6.003471929,
             "remaining_time": 40.17708137,
             "test": [
              0.4290141388
             ]
            },
            {
             "iteration": 13,
             "learn": [
              0.4171917293
             ],
             "passed_time": 6.464177941,
             "remaining_time": 39.70852164,
             "test": [
              0.4148254025
             ]
            },
            {
             "iteration": 14,
             "learn": [
              0.4031819819
             ],
             "passed_time": 6.918314297,
             "remaining_time": 39.20378101,
             "test": [
              0.4012467845
             ]
            },
            {
             "iteration": 15,
             "learn": [
              0.389625377
             ],
             "passed_time": 7.39059856,
             "remaining_time": 38.80064244,
             "test": [
              0.3882358552
             ]
            },
            {
             "iteration": 16,
             "learn": [
              0.3778971861
             ],
             "passed_time": 7.844753553,
             "remaining_time": 38.30085558,
             "test": [
              0.3758544383
             ]
            },
            {
             "iteration": 17,
             "learn": [
              0.3660963642
             ],
             "passed_time": 8.307098747,
             "remaining_time": 37.84344985,
             "test": [
              0.3638795178
             ]
            },
            {
             "iteration": 18,
             "learn": [
              0.3546008071
             ],
             "passed_time": 8.770602739,
             "remaining_time": 37.39046431,
             "test": [
              0.3524048152
             ]
            },
            {
             "iteration": 19,
             "learn": [
              0.343883333
             ],
             "passed_time": 9.23303603,
             "remaining_time": 36.93214412,
             "test": [
              0.3415094691
             ]
            },
            {
             "iteration": 20,
             "learn": [
              0.3331176422
             ],
             "passed_time": 9.726187043,
             "remaining_time": 36.58898935,
             "test": [
              0.3307638523
             ]
            },
            {
             "iteration": 21,
             "learn": [
              0.3227600182
             ],
             "passed_time": 10.18632289,
             "remaining_time": 36.1151448,
             "test": [
              0.3205286694
             ]
            },
            {
             "iteration": 22,
             "learn": [
              0.3134407452
             ],
             "passed_time": 10.69331785,
             "remaining_time": 35.79936846,
             "test": [
              0.3107504461
             ]
            },
            {
             "iteration": 23,
             "learn": [
              0.3039117939
             ],
             "passed_time": 11.15219491,
             "remaining_time": 35.31528389,
             "test": [
              0.3014386422
             ]
            },
            {
             "iteration": 24,
             "learn": [
              0.2946059405
             ],
             "passed_time": 11.63390846,
             "remaining_time": 34.90172539,
             "test": [
              0.2922860026
             ]
            },
            {
             "iteration": 25,
             "learn": [
              0.2861383675
             ],
             "passed_time": 12.09895062,
             "remaining_time": 34.43547485,
             "test": [
              0.2836560637
             ]
            },
            {
             "iteration": 26,
             "learn": [
              0.2780515096
             ],
             "passed_time": 12.5704816,
             "remaining_time": 33.98685766,
             "test": [
              0.2754092896
             ]
            },
            {
             "iteration": 27,
             "learn": [
              0.270272926
             ],
             "passed_time": 13.0282393,
             "remaining_time": 33.50118677,
             "test": [
              0.2673996842
             ]
            },
            {
             "iteration": 28,
             "learn": [
              0.2623867038
             ],
             "passed_time": 13.50866832,
             "remaining_time": 33.07294658,
             "test": [
              0.2594606299
             ]
            },
            {
             "iteration": 29,
             "learn": [
              0.2551311995
             ],
             "passed_time": 13.94436514,
             "remaining_time": 32.53685199,
             "test": [
              0.2524849821
             ]
            },
            {
             "iteration": 30,
             "learn": [
              0.2479093371
             ],
             "passed_time": 14.39783201,
             "remaining_time": 32.04678738,
             "test": [
              0.2453407474
             ]
            },
            {
             "iteration": 31,
             "learn": [
              0.2410088006
             ],
             "passed_time": 14.88486828,
             "remaining_time": 31.6303451,
             "test": [
              0.2384035541
             ]
            },
            {
             "iteration": 32,
             "learn": [
              0.2342280632
             ],
             "passed_time": 15.37638552,
             "remaining_time": 31.21872212,
             "test": [
              0.2316904854
             ]
            },
            {
             "iteration": 33,
             "learn": [
              0.2273628592
             ],
             "passed_time": 15.84649934,
             "remaining_time": 30.76085165,
             "test": [
              0.2250938616
             ]
            },
            {
             "iteration": 34,
             "learn": [
              0.2212210938
             ],
             "passed_time": 16.32505956,
             "remaining_time": 30.31796775,
             "test": [
              0.2186534457
             ]
            },
            {
             "iteration": 35,
             "learn": [
              0.215238178
             ],
             "passed_time": 16.78674856,
             "remaining_time": 29.84310854,
             "test": [
              0.2125914285
             ]
            },
            {
             "iteration": 36,
             "learn": [
              0.2095194663
             ],
             "passed_time": 17.2471857,
             "remaining_time": 29.36682971,
             "test": [
              0.2068048053
             ]
            },
            {
             "iteration": 37,
             "learn": [
              0.2033913837
             ],
             "passed_time": 17.6971298,
             "remaining_time": 28.87426441,
             "test": [
              0.2010884172
             ]
            },
            {
             "iteration": 38,
             "learn": [
              0.1984684758
             ],
             "passed_time": 18.20813073,
             "remaining_time": 28.47938397,
             "test": [
              0.1961056236
             ]
            },
            {
             "iteration": 39,
             "learn": [
              0.1930499425
             ],
             "passed_time": 18.89923872,
             "remaining_time": 28.34885809,
             "test": [
              0.190738401
             ]
            },
            {
             "iteration": 40,
             "learn": [
              0.1881696363
             ],
             "passed_time": 19.49348066,
             "remaining_time": 28.05159412,
             "test": [
              0.1861253093
             ]
            },
            {
             "iteration": 41,
             "learn": [
              0.1833487389
             ],
             "passed_time": 19.97277465,
             "remaining_time": 27.58145071,
             "test": [
              0.1812801286
             ]
            },
            {
             "iteration": 42,
             "learn": [
              0.1786163695
             ],
             "passed_time": 20.44667132,
             "remaining_time": 27.1037271,
             "test": [
              0.1765510412
             ]
            },
            {
             "iteration": 43,
             "learn": [
              0.1740767566
             ],
             "passed_time": 20.90286468,
             "remaining_time": 26.60364595,
             "test": [
              0.1720439969
             ]
            },
            {
             "iteration": 44,
             "learn": [
              0.1696782422
             ],
             "passed_time": 21.37854732,
             "remaining_time": 26.12933561,
             "test": [
              0.1676916991
             ]
            },
            {
             "iteration": 45,
             "learn": [
              0.1655032402
             ],
             "passed_time": 21.83991368,
             "remaining_time": 25.63815953,
             "test": [
              0.1634547871
             ]
            },
            {
             "iteration": 46,
             "learn": [
              0.1611117316
             ],
             "passed_time": 22.31191214,
             "remaining_time": 25.16024135,
             "test": [
              0.1592071414
             ]
            },
            {
             "iteration": 47,
             "learn": [
              0.1568826077
             ],
             "passed_time": 22.7679897,
             "remaining_time": 24.66532218,
             "test": [
              0.1550802136
             ]
            },
            {
             "iteration": 48,
             "learn": [
              0.1530137974
             ],
             "passed_time": 23.25631789,
             "remaining_time": 24.20555536,
             "test": [
              0.1513785655
             ]
            },
            {
             "iteration": 49,
             "learn": [
              0.1488235489
             ],
             "passed_time": 23.75648398,
             "remaining_time": 23.75648398,
             "test": [
              0.1473398958
             ]
            },
            {
             "iteration": 50,
             "learn": [
              0.1447429141
             ],
             "passed_time": 24.24231285,
             "remaining_time": 23.29163392,
             "test": [
              0.1433488102
             ]
            },
            {
             "iteration": 51,
             "learn": [
              0.140875845
             ],
             "passed_time": 24.74328208,
             "remaining_time": 22.83995269,
             "test": [
              0.1395340574
             ]
            },
            {
             "iteration": 52,
             "learn": [
              0.1375060446
             ],
             "passed_time": 25.18536428,
             "remaining_time": 22.33419096,
             "test": [
              0.1363164464
             ]
            },
            {
             "iteration": 53,
             "learn": [
              0.1339429785
             ],
             "passed_time": 25.72819146,
             "remaining_time": 21.91660754,
             "test": [
              0.1327636979
             ]
            },
            {
             "iteration": 54,
             "learn": [
              0.1307827317
             ],
             "passed_time": 26.1830665,
             "remaining_time": 21.42250896,
             "test": [
              0.1296657938
             ]
            },
            {
             "iteration": 55,
             "learn": [
              0.1273656752
             ],
             "passed_time": 26.64771816,
             "remaining_time": 20.93749284,
             "test": [
              0.1262871422
             ]
            },
            {
             "iteration": 56,
             "learn": [
              0.1240286874
             ],
             "passed_time": 27.1335126,
             "remaining_time": 20.46914108,
             "test": [
              0.1230340128
             ]
            },
            {
             "iteration": 57,
             "learn": [
              0.1208678342
             ],
             "passed_time": 27.60137899,
             "remaining_time": 19.98720547,
             "test": [
              0.1199921207
             ]
            },
            {
             "iteration": 58,
             "learn": [
              0.117965228
             ],
             "passed_time": 28.06848556,
             "remaining_time": 19.50521878,
             "test": [
              0.1170951825
             ]
            },
            {
             "iteration": 59,
             "learn": [
              0.1150319138
             ],
             "passed_time": 28.53834243,
             "remaining_time": 19.02556162,
             "test": [
              0.1141727981
             ]
            },
            {
             "iteration": 60,
             "learn": [
              0.1120750119
             ],
             "passed_time": 29.02860072,
             "remaining_time": 18.55926931,
             "test": [
              0.1113566839
             ]
            },
            {
             "iteration": 61,
             "learn": [
              0.109329295
             ],
             "passed_time": 29.51346991,
             "remaining_time": 18.08890091,
             "test": [
              0.1085215845
             ]
            },
            {
             "iteration": 62,
             "learn": [
              0.1066522777
             ],
             "passed_time": 29.98510974,
             "remaining_time": 17.61030254,
             "test": [
              0.105880153
             ]
            },
            {
             "iteration": 63,
             "learn": [
              0.104032645
             ],
             "passed_time": 30.48400448,
             "remaining_time": 17.14725252,
             "test": [
              0.1032938726
             ]
            },
            {
             "iteration": 64,
             "learn": [
              0.1014972261
             ],
             "passed_time": 30.96028968,
             "remaining_time": 16.67092521,
             "test": [
              0.1008158954
             ]
            },
            {
             "iteration": 65,
             "learn": [
              0.09931428664
             ],
             "passed_time": 31.42852265,
             "remaining_time": 16.19045106,
             "test": [
              0.09874641371
             ]
            },
            {
             "iteration": 66,
             "learn": [
              0.09716894925
             ],
             "passed_time": 31.88706302,
             "remaining_time": 15.70556835,
             "test": [
              0.09675680874
             ]
            },
            {
             "iteration": 67,
             "learn": [
              0.09479849465
             ],
             "passed_time": 32.39899063,
             "remaining_time": 15.24658383,
             "test": [
              0.09445046257
             ]
            },
            {
             "iteration": 68,
             "learn": [
              0.0925772912
             ],
             "passed_time": 32.89279783,
             "remaining_time": 14.77792366,
             "test": [
              0.09222811154
             ]
            },
            {
             "iteration": 69,
             "learn": [
              0.09056815176
             ],
             "passed_time": 33.34581265,
             "remaining_time": 14.29106257,
             "test": [
              0.09039550249
             ]
            },
            {
             "iteration": 70,
             "learn": [
              0.08863988443
             ],
             "passed_time": 33.81689446,
             "remaining_time": 13.81253436,
             "test": [
              0.08859165471
             ]
            },
            {
             "iteration": 71,
             "learn": [
              0.08653364411
             ],
             "passed_time": 34.28220275,
             "remaining_time": 13.33196773,
             "test": [
              0.08655912592
             ]
            },
            {
             "iteration": 72,
             "learn": [
              0.08455219815
             ],
             "passed_time": 34.78335897,
             "remaining_time": 12.86507798,
             "test": [
              0.08445457
             ]
            },
            {
             "iteration": 73,
             "learn": [
              0.08272266679
             ],
             "passed_time": 35.22899012,
             "remaining_time": 12.37775329,
             "test": [
              0.08269104596
             ]
            },
            {
             "iteration": 74,
             "learn": [
              0.08078008132
             ],
             "passed_time": 35.72088113,
             "remaining_time": 11.90696038,
             "test": [
              0.08074405013
             ]
            },
            {
             "iteration": 75,
             "learn": [
              0.07911313525
             ],
             "passed_time": 36.16476392,
             "remaining_time": 11.42045176,
             "test": [
              0.07910904282
             ]
            },
            {
             "iteration": 76,
             "learn": [
              0.07742139555
             ],
             "passed_time": 36.68959419,
             "remaining_time": 10.95922943,
             "test": [
              0.07753469222
             ]
            },
            {
             "iteration": 77,
             "learn": [
              0.07580975222
             ],
             "passed_time": 37.16142946,
             "remaining_time": 10.48142882,
             "test": [
              0.07598847266
             ]
            },
            {
             "iteration": 78,
             "learn": [
              0.07409310215
             ],
             "passed_time": 37.67702578,
             "remaining_time": 10.01541192,
             "test": [
              0.07425700809
             ]
            },
            {
             "iteration": 79,
             "learn": [
              0.0725945754
             ],
             "passed_time": 38.11696637,
             "remaining_time": 9.529241594,
             "test": [
              0.07288972692
             ]
            },
            {
             "iteration": 80,
             "learn": [
              0.07115330079
             ],
             "passed_time": 38.59728786,
             "remaining_time": 9.053684808,
             "test": [
              0.07148251986
             ]
            },
            {
             "iteration": 81,
             "learn": [
              0.06974645245
             ],
             "passed_time": 39.03376482,
             "remaining_time": 8.5683874,
             "test": [
              0.07016909851
             ]
            },
            {
             "iteration": 82,
             "learn": [
              0.06825773968
             ],
             "passed_time": 39.52858891,
             "remaining_time": 8.096217006,
             "test": [
              0.0687392196
             ]
            },
            {
             "iteration": 83,
             "learn": [
              0.06685689475
             ],
             "passed_time": 39.98654297,
             "remaining_time": 7.616484375,
             "test": [
              0.06738736797
             ]
            },
            {
             "iteration": 84,
             "learn": [
              0.0654867761
             ],
             "passed_time": 40.45347411,
             "remaining_time": 7.138848372,
             "test": [
              0.06605002098
             ]
            },
            {
             "iteration": 85,
             "learn": [
              0.06424130723
             ],
             "passed_time": 40.91390464,
             "remaining_time": 6.66040308,
             "test": [
              0.06482673816
             ]
            },
            {
             "iteration": 86,
             "learn": [
              0.06299998919
             ],
             "passed_time": 41.34846787,
             "remaining_time": 6.178506693,
             "test": [
              0.06368337832
             ]
            },
            {
             "iteration": 87,
             "learn": [
              0.06180963442
             ],
             "passed_time": 41.74183177,
             "remaining_time": 5.692067969,
             "test": [
              0.06258191069
             ]
            },
            {
             "iteration": 88,
             "learn": [
              0.06048553109
             ],
             "passed_time": 42.23232311,
             "remaining_time": 5.219725328,
             "test": [
              0.06128011327
             ]
            },
            {
             "iteration": 89,
             "learn": [
              0.05921740928
             ],
             "passed_time": 42.75219655,
             "remaining_time": 4.750244061,
             "test": [
              0.05992059436
             ]
            },
            {
             "iteration": 90,
             "learn": [
              0.05802625355
             ],
             "passed_time": 43.19751508,
             "remaining_time": 4.272281711,
             "test": [
              0.05868407744
             ]
            },
            {
             "iteration": 91,
             "learn": [
              0.0568749555
             ],
             "passed_time": 43.63329893,
             "remaining_time": 3.794199907,
             "test": [
              0.05751336101
             ]
            },
            {
             "iteration": 92,
             "learn": [
              0.0557943918
             ],
             "passed_time": 44.06786924,
             "remaining_time": 3.316936394,
             "test": [
              0.05640993676
             ]
            },
            {
             "iteration": 93,
             "learn": [
              0.05472788757
             ],
             "passed_time": 44.51642267,
             "remaining_time": 2.841473787,
             "test": [
              0.05535029572
             ]
            },
            {
             "iteration": 94,
             "learn": [
              0.05379333263
             ],
             "passed_time": 44.94552688,
             "remaining_time": 2.365554046,
             "test": [
              0.05450131844
             ]
            },
            {
             "iteration": 95,
             "learn": [
              0.05278859887
             ],
             "passed_time": 45.38938942,
             "remaining_time": 1.891224559,
             "test": [
              0.05349470988
             ]
            },
            {
             "iteration": 96,
             "learn": [
              0.05178550288
             ],
             "passed_time": 45.84138563,
             "remaining_time": 1.417774813,
             "test": [
              0.05253422277
             ]
            },
            {
             "iteration": 97,
             "learn": [
              0.05100504495
             ],
             "passed_time": 46.23802614,
             "remaining_time": 0.9436331865,
             "test": [
              0.05184632964
             ]
            },
            {
             "iteration": 98,
             "learn": [
              0.05002936154
             ],
             "passed_time": 46.70196627,
             "remaining_time": 0.471737033,
             "test": [
              0.05081259749
             ]
            },
            {
             "iteration": 99,
             "learn": [
              0.04914158181
             ],
             "passed_time": 47.13343427,
             "remaining_time": 0,
             "test": [
              0.04993672569
             ]
            }
           ],
           "meta": {
            "iteration_count": 100,
            "launch_mode": "Train",
            "learn_metrics": [
             {
              "best_value": "Min",
              "name": "CrossEntropy"
             }
            ],
            "learn_sets": [
             "learn"
            ],
            "name": "experiment",
            "parameters": "",
            "test_metrics": [
             {
              "best_value": "Min",
              "name": "CrossEntropy"
             }
            ],
            "test_sets": [
             "test"
            ]
           }
          },
          "passed_iterations": 99,
          "total_iterations": 100
         },
         "name": "catboost_info",
         "path": "catboost_info"
        }
       },
       "layout": "IPY_MODEL_e629a6a8fbe04a80b29e5a312ac23cef"
      }
     },
     "f80decb4a2bc4474ab84d52bcc966f19": {
      "model_module": "@jupyter-widgets/base",
      "model_module_version": "1.2.0",
      "model_name": "LayoutModel",
      "state": {
       "_model_module": "@jupyter-widgets/base",
       "_model_module_version": "1.2.0",
       "_model_name": "LayoutModel",
       "_view_count": null,
       "_view_module": "@jupyter-widgets/base",
       "_view_module_version": "1.2.0",
       "_view_name": "LayoutView",
       "align_content": null,
       "align_items": null,
       "align_self": "stretch",
       "border": null,
       "bottom": null,
       "display": null,
       "flex": null,
       "flex_flow": null,
       "grid_area": null,
       "grid_auto_columns": null,
       "grid_auto_flow": null,
       "grid_auto_rows": null,
       "grid_column": null,
       "grid_gap": null,
       "grid_row": null,
       "grid_template_areas": null,
       "grid_template_columns": null,
       "grid_template_rows": null,
       "height": "500px",
       "justify_content": null,
       "justify_items": null,
       "left": null,
       "margin": null,
       "max_height": null,
       "max_width": null,
       "min_height": null,
       "min_width": null,
       "object_fit": null,
       "object_position": null,
       "order": null,
       "overflow": null,
       "overflow_x": null,
       "overflow_y": null,
       "padding": null,
       "right": null,
       "top": null,
       "visibility": null,
       "width": null
      }
     },
     "ff33e0784bff444a972911397b0f3c5e": {
      "model_module": "catboost-widget",
      "model_module_version": "^1.0.0",
      "model_name": "CatboostWidgetModel",
      "state": {
       "_dom_classes": [],
       "_model_module": "catboost-widget",
       "_model_module_version": "^1.0.0",
       "_model_name": "CatboostWidgetModel",
       "_view_count": null,
       "_view_module": "catboost-widget",
       "_view_module_version": "^1.0.0",
       "_view_name": "CatboostWidgetView",
       "data": {
        "catboost_info": {
         "content": {
          "data": {
           "iterations": [
            {
             "iteration": 0,
             "learn": [
              0.6614141418
             ],
             "passed_time": 0.4059649265,
             "remaining_time": 40.19052773,
             "test": [
              0.6636698035
             ]
            },
            {
             "iteration": 1,
             "learn": [
              0.6363231922
             ],
             "passed_time": 0.8471174568,
             "remaining_time": 41.50875538,
             "test": [
              0.6359084515
             ]
            },
            {
             "iteration": 2,
             "learn": [
              0.6094062816
             ],
             "passed_time": 1.281347217,
             "remaining_time": 41.43022667,
             "test": [
              0.6097187802
             ]
            },
            {
             "iteration": 3,
             "learn": [
              0.5837575891
             ],
             "passed_time": 1.631743225,
             "remaining_time": 39.1618374,
             "test": [
              0.584972567
             ]
            },
            {
             "iteration": 4,
             "learn": [
              0.5622380885
             ],
             "passed_time": 2.050114413,
             "remaining_time": 38.95217385,
             "test": [
              0.5615572547
             ]
            },
            {
             "iteration": 5,
             "learn": [
              0.5378294483
             ],
             "passed_time": 2.478557793,
             "remaining_time": 38.83073875,
             "test": [
              0.5393733715
             ]
            },
            {
             "iteration": 6,
             "learn": [
              0.5169525747
             ],
             "passed_time": 2.812537477,
             "remaining_time": 37.36656934,
             "test": [
              0.5183304068
             ]
            },
            {
             "iteration": 7,
             "learn": [
              0.4987685323
             ],
             "passed_time": 3.265405882,
             "remaining_time": 37.55216764,
             "test": [
              0.4983377022
             ]
            },
            {
             "iteration": 8,
             "learn": [
              0.4786139221
             ],
             "passed_time": 3.710438067,
             "remaining_time": 37.51665156,
             "test": [
              0.4793279826
             ]
            },
            {
             "iteration": 9,
             "learn": [
              0.4606709444
             ],
             "passed_time": 4.134151936,
             "remaining_time": 37.20736742,
             "test": [
              0.4612353209
             ]
            },
            {
             "iteration": 10,
             "learn": [
              0.4441630018
             ],
             "passed_time": 4.572954115,
             "remaining_time": 36.99935602,
             "test": [
              0.4439965583
             ]
            },
            {
             "iteration": 11,
             "learn": [
              0.4281570761
             ],
             "passed_time": 5.03446743,
             "remaining_time": 36.91942782,
             "test": [
              0.4275627017
             ]
            },
            {
             "iteration": 12,
             "learn": [
              0.4123762268
             ],
             "passed_time": 5.461650402,
             "remaining_time": 36.551045,
             "test": [
              0.4118790709
             ]
            },
            {
             "iteration": 13,
             "learn": [
              0.3969178605
             ],
             "passed_time": 5.850171592,
             "remaining_time": 35.93676835,
             "test": [
              0.39690115
             ]
            },
            {
             "iteration": 14,
             "learn": [
              0.3825963754
             ],
             "passed_time": 6.259123914,
             "remaining_time": 35.46836885,
             "test": [
              0.3825872852
             ]
            },
            {
             "iteration": 15,
             "learn": [
              0.3675220633
             ],
             "passed_time": 6.626728361,
             "remaining_time": 34.7903239,
             "test": [
              0.3688989738
             ]
            },
            {
             "iteration": 16,
             "learn": [
              0.3540949092
             ],
             "passed_time": 7.027560663,
             "remaining_time": 34.31103147,
             "test": [
              0.3557998919
             ]
            },
            {
             "iteration": 17,
             "learn": [
              0.3433628451
             ],
             "passed_time": 7.491469232,
             "remaining_time": 34.12780428,
             "test": [
              0.343258684
             ]
            },
            {
             "iteration": 18,
             "learn": [
              0.3302544547
             ],
             "passed_time": 7.83194432,
             "remaining_time": 33.38881526,
             "test": [
              0.3312426848
             ]
            },
            {
             "iteration": 19,
             "learn": [
              0.3198450053
             ],
             "passed_time": 8.223125347,
             "remaining_time": 32.89250139,
             "test": [
              0.3197251235
             ]
            },
            {
             "iteration": 20,
             "learn": [
              0.3072614226
             ],
             "passed_time": 8.608476582,
             "remaining_time": 32.38426905,
             "test": [
              0.3086804198
             ]
            },
            {
             "iteration": 21,
             "learn": [
              0.2970657924
             ],
             "passed_time": 9.04490311,
             "remaining_time": 32.06829285,
             "test": [
              0.2980823763
             ]
            },
            {
             "iteration": 22,
             "learn": [
              0.2870665724
             ],
             "passed_time": 9.410734035,
             "remaining_time": 31.5055009,
             "test": [
              0.2879087078
             ]
            },
            {
             "iteration": 23,
             "learn": [
              0.2767727147
             ],
             "passed_time": 9.831199554,
             "remaining_time": 31.13213192,
             "test": [
              0.2781401419
             ]
            },
            {
             "iteration": 24,
             "learn": [
              0.2669870246
             ],
             "passed_time": 10.22648888,
             "remaining_time": 30.67946665,
             "test": [
              0.2687553401
             ]
            },
            {
             "iteration": 25,
             "learn": [
              0.2582074113
             ],
             "passed_time": 10.64976253,
             "remaining_time": 30.3108626,
             "test": [
              0.2597343557
             ]
            },
            {
             "iteration": 26,
             "learn": [
              0.250182965
             ],
             "passed_time": 11.0927086,
             "remaining_time": 29.99139732,
             "test": [
              0.251062074
             ]
            },
            {
             "iteration": 27,
             "learn": [
              0.2422027009
             ],
             "passed_time": 11.49045386,
             "remaining_time": 29.54688136,
             "test": [
              0.242720769
             ]
            },
            {
             "iteration": 28,
             "learn": [
              0.2339311834
             ],
             "passed_time": 11.92785973,
             "remaining_time": 29.20269105,
             "test": [
              0.2346954849
             ]
            },
            {
             "iteration": 29,
             "learn": [
              0.226118874
             ],
             "passed_time": 12.34751545,
             "remaining_time": 28.81086939,
             "test": [
              0.2269715489
             ]
            },
            {
             "iteration": 30,
             "learn": [
              0.2187848308
             ],
             "passed_time": 12.75657857,
             "remaining_time": 28.39367489,
             "test": [
              0.2195377153
             ]
            },
            {
             "iteration": 31,
             "learn": [
              0.2111757795
             ],
             "passed_time": 13.17657621,
             "remaining_time": 28.00022444,
             "test": [
              0.2123778646
             ]
            },
            {
             "iteration": 32,
             "learn": [
              0.2036442455
             ],
             "passed_time": 13.62946735,
             "remaining_time": 27.67194886,
             "test": [
              0.2054807967
             ]
            },
            {
             "iteration": 33,
             "learn": [
              0.1971026545
             ],
             "passed_time": 14.07233227,
             "remaining_time": 27.31688029,
             "test": [
              0.1988372454
             ]
            },
            {
             "iteration": 34,
             "learn": [
              0.1914600337
             ],
             "passed_time": 14.53065023,
             "remaining_time": 26.98549329,
             "test": [
              0.1924344051
             ]
            },
            {
             "iteration": 35,
             "learn": [
              0.1843268832
             ],
             "passed_time": 14.90671428,
             "remaining_time": 26.50082539,
             "test": [
              0.1862618102
             ]
            },
            {
             "iteration": 36,
             "learn": [
              0.1791066359
             ],
             "passed_time": 15.29949168,
             "remaining_time": 26.05048583,
             "test": [
              0.1803073962
             ]
            },
            {
             "iteration": 37,
             "learn": [
              0.1725802097
             ],
             "passed_time": 15.678449,
             "remaining_time": 25.58062731,
             "test": [
              0.1745674649
             ]
            },
            {
             "iteration": 38,
             "learn": [
              0.1679649748
             ],
             "passed_time": 16.16029053,
             "remaining_time": 25.27635186,
             "test": [
              0.1690329363
             ]
            },
            {
             "iteration": 39,
             "learn": [
              0.1618223887
             ],
             "passed_time": 16.55980143,
             "remaining_time": 24.83970214,
             "test": [
              0.1636899571
             ]
            },
            {
             "iteration": 40,
             "learn": [
              0.1566642712
             ],
             "passed_time": 16.99855678,
             "remaining_time": 24.46133781,
             "test": [
              0.1585363598
             ]
            },
            {
             "iteration": 41,
             "learn": [
              0.1523369518
             ],
             "passed_time": 17.42687756,
             "remaining_time": 24.06568806,
             "test": [
              0.1535616523
             ]
            },
            {
             "iteration": 42,
             "learn": [
              0.1473602511
             ],
             "passed_time": 17.85891909,
             "remaining_time": 23.67345088,
             "test": [
              0.1487600054
             ]
            },
            {
             "iteration": 43,
             "learn": [
              0.1422596302
             ],
             "passed_time": 18.2801386,
             "remaining_time": 23.26563095,
             "test": [
              0.1441222753
             ]
            },
            {
             "iteration": 44,
             "learn": [
              0.1375869325
             ],
             "passed_time": 18.72290895,
             "remaining_time": 22.88355539,
             "test": [
              0.1396451056
             ]
            },
            {
             "iteration": 45,
             "learn": [
              0.1332950977
             ],
             "passed_time": 19.18112374,
             "remaining_time": 22.51697134,
             "test": [
              0.1353208687
             ]
            },
            {
             "iteration": 46,
             "learn": [
              0.1292617629
             ],
             "passed_time": 19.55052941,
             "remaining_time": 22.04634168,
             "test": [
              0.1311438518
             ]
            },
            {
             "iteration": 47,
             "learn": [
              0.125329068
             ],
             "passed_time": 20.08880164,
             "remaining_time": 21.76286844,
             "test": [
              0.1271098998
             ]
            },
            {
             "iteration": 48,
             "learn": [
              0.1214225058
             ],
             "passed_time": 20.5326582,
             "remaining_time": 21.37072588,
             "test": [
              0.1232110057
             ]
            },
            {
             "iteration": 49,
             "learn": [
              0.1175437258
             ],
             "passed_time": 20.87915212,
             "remaining_time": 20.87915212,
             "test": [
              0.1194434201
             ]
            },
            {
             "iteration": 50,
             "learn": [
              0.1137227675
             ],
             "passed_time": 21.29430925,
             "remaining_time": 20.4592383,
             "test": [
              0.1158028104
             ]
            },
            {
             "iteration": 51,
             "learn": [
              0.1102124577
             ],
             "passed_time": 21.65066159,
             "remaining_time": 19.98522608,
             "test": [
              0.1122835818
             ]
            },
            {
             "iteration": 52,
             "learn": [
              0.1072952389
             ],
             "passed_time": 22.00450753,
             "remaining_time": 19.5134312,
             "test": [
              0.1088813856
             ]
            },
            {
             "iteration": 53,
             "learn": [
              0.1037996254
             ],
             "passed_time": 22.35341027,
             "remaining_time": 19.04179393,
             "test": [
              0.1055934134
             ]
            },
            {
             "iteration": 54,
             "learn": [
              0.1001593775
             ],
             "passed_time": 22.95949117,
             "remaining_time": 18.78503823,
             "test": [
              0.102415899
             ]
            },
            {
             "iteration": 55,
             "learn": [
              0.09755437639
             ],
             "passed_time": 23.55785225,
             "remaining_time": 18.50974106,
             "test": [
              0.09933916126
             ]
            },
            {
             "iteration": 56,
             "learn": [
              0.09418289524
             ],
             "passed_time": 24.13283245,
             "remaining_time": 18.2054701,
             "test": [
              0.09636502464
             ]
            },
            {
             "iteration": 57,
             "learn": [
              0.0916475089
             ],
             "passed_time": 24.60103673,
             "remaining_time": 17.81454384,
             "test": [
              0.09348889497
             ]
            },
            {
             "iteration": 58,
             "learn": [
              0.08841410701
             ],
             "passed_time": 25.01324883,
             "remaining_time": 17.38208817,
             "test": [
              0.09070764898
             ]
            },
            {
             "iteration": 59,
             "learn": [
              0.08597144166
             ],
             "passed_time": 25.44412885,
             "remaining_time": 16.96275257,
             "test": [
              0.08801629428
             ]
            },
            {
             "iteration": 60,
             "learn": [
              0.0831218057
             ],
             "passed_time": 25.8756174,
             "remaining_time": 16.54342752,
             "test": [
              0.08541290427
             ]
            },
            {
             "iteration": 61,
             "learn": [
              0.08057186807
             ],
             "passed_time": 26.29619982,
             "remaining_time": 16.11702569,
             "test": [
              0.0828944058
             ]
            },
            {
             "iteration": 62,
             "learn": [
              0.07839326584
             ],
             "passed_time": 26.6678248,
             "remaining_time": 15.66205584,
             "test": [
              0.08046308602
             ]
            },
            {
             "iteration": 63,
             "learn": [
              0.07596471191
             ],
             "passed_time": 27.13311984,
             "remaining_time": 15.26237991,
             "test": [
              0.0781088111
             ]
            },
            {
             "iteration": 64,
             "learn": [
              0.07344527887
             ],
             "passed_time": 27.55195983,
             "remaining_time": 14.83567068,
             "test": [
              0.07582348544
             ]
            },
            {
             "iteration": 65,
             "learn": [
              0.07117845755
             ],
             "passed_time": 27.96672657,
             "remaining_time": 14.40710156,
             "test": [
              0.07362309468
             ]
            },
            {
             "iteration": 66,
             "learn": [
              0.06899509782
             ],
             "passed_time": 28.40807127,
             "remaining_time": 13.9920351,
             "test": [
              0.07148643309
             ]
            },
            {
             "iteration": 67,
             "learn": [
              0.06691141495
             ],
             "passed_time": 28.77295139,
             "remaining_time": 13.54021242,
             "test": [
              0.06941679011
             ]
            },
            {
             "iteration": 68,
             "learn": [
              0.06491213316
             ],
             "passed_time": 29.18698825,
             "remaining_time": 13.11299472,
             "test": [
              0.06741082557
             ]
            },
            {
             "iteration": 69,
             "learn": [
              0.06296085809
             ],
             "passed_time": 29.53210874,
             "remaining_time": 12.65661803,
             "test": [
              0.06547252862
             ]
            },
            {
             "iteration": 70,
             "learn": [
              0.06102871014
             ],
             "passed_time": 29.89350076,
             "remaining_time": 12.21002144,
             "test": [
              0.06359598175
             ]
            },
            {
             "iteration": 71,
             "learn": [
              0.05915250264
             ],
             "passed_time": 30.28332304,
             "remaining_time": 11.77684785,
             "test": [
              0.06177963453
             ]
            },
            {
             "iteration": 72,
             "learn": [
              0.05740130638
             ],
             "passed_time": 30.69459826,
             "remaining_time": 11.35279662,
             "test": [
              0.06002082898
             ]
            },
            {
             "iteration": 73,
             "learn": [
              0.05587550162
             ],
             "passed_time": 31.10247545,
             "remaining_time": 10.92789678,
             "test": [
              0.05831952538
             ]
            },
            {
             "iteration": 74,
             "learn": [
              0.05413297029
             ],
             "passed_time": 31.56299413,
             "remaining_time": 10.52099804,
             "test": [
              0.05667107839
             ]
            },
            {
             "iteration": 75,
             "learn": [
              0.05234606569
             ],
             "passed_time": 31.9836213,
             "remaining_time": 10.10009094,
             "test": [
              0.05509114313
             ]
            },
            {
             "iteration": 76,
             "learn": [
              0.05097113069
             ],
             "passed_time": 32.45813771,
             "remaining_time": 9.695287887,
             "test": [
              0.05354206178
             ]
            },
            {
             "iteration": 77,
             "learn": [
              0.04927168388
             ],
             "passed_time": 32.85475817,
             "remaining_time": 9.266726662,
             "test": [
              0.05204135628
             ]
            },
            {
             "iteration": 78,
             "learn": [
              0.04783545422
             ],
             "passed_time": 33.25093529,
             "remaining_time": 8.838856218,
             "test": [
              0.05059125594
             ]
            },
            {
             "iteration": 79,
             "learn": [
              0.04635808264
             ],
             "passed_time": 33.65499663,
             "remaining_time": 8.413749157,
             "test": [
              0.04919198647
             ]
            },
            {
             "iteration": 80,
             "learn": [
              0.04509849328
             ],
             "passed_time": 33.99152384,
             "remaining_time": 7.973320406,
             "test": [
              0.04783233223
             ]
            },
            {
             "iteration": 81,
             "learn": [
              0.0435905705
             ],
             "passed_time": 34.3624287,
             "remaining_time": 7.542972153,
             "test": [
              0.04651578096
             ]
            },
            {
             "iteration": 82,
             "learn": [
              0.04237706822
             ],
             "passed_time": 34.75967174,
             "remaining_time": 7.119450838,
             "test": [
              0.04523917012
             ]
            },
            {
             "iteration": 83,
             "learn": [
              0.04115151576
             ],
             "passed_time": 35.12409472,
             "remaining_time": 6.690303755,
             "test": [
              0.04400372265
             ]
            },
            {
             "iteration": 84,
             "learn": [
              0.03981311474
             ],
             "passed_time": 35.50268996,
             "remaining_time": 6.265180581,
             "test": [
              0.04280652626
             ]
            },
            {
             "iteration": 85,
             "learn": [
              0.03860203902
             ],
             "passed_time": 35.98461644,
             "remaining_time": 5.857960816,
             "test": [
              0.04164955716
             ]
            },
            {
             "iteration": 86,
             "learn": [
              0.03751883652
             ],
             "passed_time": 36.33479716,
             "remaining_time": 5.429337507,
             "test": [
              0.04052624103
             ]
            },
            {
             "iteration": 87,
             "learn": [
              0.0364636478
             ],
             "passed_time": 36.70678288,
             "remaining_time": 5.005470392,
             "test": [
              0.03943858627
             ]
            },
            {
             "iteration": 88,
             "learn": [
              0.03534122922
             ],
             "passed_time": 37.09081323,
             "remaining_time": 4.584257815,
             "test": [
              0.03838601874
             ]
            },
            {
             "iteration": 89,
             "learn": [
              0.03430545022
             ],
             "passed_time": 37.55487061,
             "remaining_time": 4.172763402,
             "test": [
              0.03736751712
             ]
            },
            {
             "iteration": 90,
             "learn": [
              0.03325355236
             ],
             "passed_time": 37.95628261,
             "remaining_time": 3.75391806,
             "test": [
              0.03637906083
             ]
            },
            {
             "iteration": 91,
             "learn": [
              0.03226618834
             ],
             "passed_time": 38.40083243,
             "remaining_time": 3.33920282,
             "test": [
              0.03542815051
             ]
            },
            {
             "iteration": 92,
             "learn": [
              0.03128278627
             ],
             "passed_time": 38.78165007,
             "remaining_time": 2.91904893,
             "test": [
              0.03449913643
             ]
            },
            {
             "iteration": 93,
             "learn": [
              0.03034025808
             ],
             "passed_time": 39.13887783,
             "remaining_time": 2.498226244,
             "test": [
              0.03359982076
             ]
            },
            {
             "iteration": 94,
             "learn": [
              0.02944382911
             ],
             "passed_time": 39.6076597,
             "remaining_time": 2.084613668,
             "test": [
              0.0327294827
             ]
            },
            {
             "iteration": 95,
             "learn": [
              0.02862236171
             ],
             "passed_time": 40.06689676,
             "remaining_time": 1.669454032,
             "test": [
              0.03188849525
             ]
            },
            {
             "iteration": 96,
             "learn": [
              0.02772697728
             ],
             "passed_time": 40.44015547,
             "remaining_time": 1.250726458,
             "test": [
              0.03107494973
             ]
            },
            {
             "iteration": 97,
             "learn": [
              0.02689994691
             ],
             "passed_time": 40.8763779,
             "remaining_time": 0.8342117938,
             "test": [
              0.03028713033
             ]
            },
            {
             "iteration": 98,
             "learn": [
              0.02615173863
             ],
             "passed_time": 41.26487073,
             "remaining_time": 0.416816876,
             "test": [
              0.02952021174
             ]
            },
            {
             "iteration": 99,
             "learn": [
              0.02529644283
             ],
             "passed_time": 41.63597404,
             "remaining_time": 0,
             "test": [
              0.0287761304
             ]
            }
           ],
           "meta": {
            "iteration_count": 100,
            "launch_mode": "Train",
            "learn_metrics": [
             {
              "best_value": "Min",
              "name": "CrossEntropy"
             }
            ],
            "learn_sets": [
             "learn"
            ],
            "name": "experiment",
            "parameters": "",
            "test_metrics": [
             {
              "best_value": "Min",
              "name": "CrossEntropy"
             }
            ],
            "test_sets": [
             "test"
            ]
           }
          },
          "passed_iterations": 99,
          "total_iterations": 100
         },
         "name": "catboost_info",
         "path": "catboost_info"
        }
       },
       "layout": "IPY_MODEL_94a1a01af9314ca3a4e833d0be7c5cda"
      }
     }
    },
    "version_major": 2,
    "version_minor": 0
   }
  }
 },
 "nbformat": 4,
 "nbformat_minor": 5
}
