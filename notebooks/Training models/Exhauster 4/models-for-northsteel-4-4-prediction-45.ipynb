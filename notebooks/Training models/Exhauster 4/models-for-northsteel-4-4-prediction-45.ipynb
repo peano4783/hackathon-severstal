{
 "cells": [
  {
   "cell_type": "code",
   "execution_count": 1,
   "id": "bbb3f9fd",
   "metadata": {
    "execution": {
     "iopub.execute_input": "2023-05-28T20:22:30.501025Z",
     "iopub.status.busy": "2023-05-28T20:22:30.500601Z",
     "iopub.status.idle": "2023-05-28T20:22:30.592320Z",
     "shell.execute_reply": "2023-05-28T20:22:30.590157Z"
    },
    "papermill": {
     "duration": 0.100466,
     "end_time": "2023-05-28T20:22:30.595618",
     "exception": false,
     "start_time": "2023-05-28T20:22:30.495152",
     "status": "completed"
    },
    "tags": []
   },
   "outputs": [
    {
     "name": "stdout",
     "output_type": "stream",
     "text": [
      "/kaggle/input/x-train-northsteel/ВИБРАЦИЯ НА ОПОРЕ 4. ПРОДОЛЬНАЯ.csv\n",
      "/kaggle/input/x-train-northsteel/ВИБРАЦИЯ НА ОПОРЕ 4.csv\n",
      "/kaggle/input/x-train-northsteel/ЭКСГАУСТЕР 9.csv\n",
      "/kaggle/input/x-train-northsteel/ЭКСГАУСТЕР 4.csv\n",
      "/kaggle/input/x-train-northsteel/ЭКСГАУСТЕР 7.csv\n",
      "/kaggle/input/x-train-northsteel/ВИБРАЦИЯ НА ОПОРЕ 3.csv\n",
      "/kaggle/input/x-train-northsteel/ВИБРАЦИЯ НА ОПОРЕ 2.csv\n",
      "/kaggle/input/x-train-northsteel/ТОК СТАТОРА.csv\n",
      "/kaggle/input/x-train-northsteel/ДАВЛЕНИЕ МАСЛА В СИСТЕМЕ.csv\n",
      "/kaggle/input/x-train-northsteel/ВИБРАЦИЯ НА ОПОРЕ 1.csv\n",
      "/kaggle/input/x-train-northsteel/ТЕМПЕРАТУРА ПОДШИПНИКА НА ОПОРЕ 3.csv\n",
      "/kaggle/input/x-train-northsteel/ТЕМПЕРАТУРА ПОДШИПНИКА НА ОПОРЕ 1.csv\n",
      "/kaggle/input/x-train-northsteel/ЭКСГАУСТЕР 6.csv\n",
      "/kaggle/input/x-train-northsteel/ТОК РОТОРА 2.csv\n",
      "/kaggle/input/x-train-northsteel/ТЕМПЕРАТУРА ПОДШИПНИКА НА ОПОРЕ 2.csv\n",
      "/kaggle/input/x-train-northsteel/ТЕМПЕРАТУРА ПОДШИПНИКА НА ОПОРЕ 4.csv\n",
      "/kaggle/input/x-train-northsteel/ЭКСГАУСТЕР 5.csv\n",
      "/kaggle/input/x-train-northsteel/ТОК РОТОРА 1.csv\n",
      "/kaggle/input/x-train-northsteel/ЭКСГАУСТЕР 8.csv\n",
      "/kaggle/input/x-train-northsteel/ВИБРАЦИЯ НА ОПОРЕ 3. ПРОДОЛЬНАЯ.csv\n",
      "/kaggle/input/x-train-northsteel/ТЕМПЕРАТУРА МАСЛА В МАСЛОБЛОКЕ.csv\n",
      "/kaggle/input/x-train-northsteel/ТЕМПЕРАТУРА МАСЛА В СИСТЕМЕ.csv\n",
      "/kaggle/input/y-train-northsteel-instances/y_ЭКСГАУСТЕР АМ 6.csv\n",
      "/kaggle/input/y-train-northsteel-instances/y_ЭКСГАУСТЕР АМ 7.csv\n",
      "/kaggle/input/y-train-northsteel-instances/y_ЭКСГАУСТЕР АМ 5.csv\n",
      "/kaggle/input/y-train-northsteel-instances/y_ЭКСГАУСТЕР АМ 8.csv\n",
      "/kaggle/input/y-train-northsteel-instances/y_ЭКСГАУСТЕР АМ 4.csv\n",
      "/kaggle/input/y-train-northsteel-instances/dict_short.csv\n",
      "/kaggle/input/y-train-northsteel-instances/y_ЭКСГАУСТЕР АМ 9.csv\n",
      "/kaggle/input/y-train-northsteel/y_long_МАСЛООХЛАДИТЕЛЬ  М-05-1 ЭКСГ.d.csv\n",
      "/kaggle/input/y-train-northsteel/y_long_КЛ2 ТР№8 ДО ЭД ЭКСГАУСТЕРА №d.csv\n",
      "/kaggle/input/y-train-northsteel/y_long_САПФИР 22 МДД РАЗРЕЖЕНИЕ В КОЛЛЕКТОРЕ.csv\n",
      "/kaggle/input/y-train-northsteel/y_long_ВК 310С ВИБРОПРЕОБРАЗОВАТЕЛЬ ЭКСГ.d Т.2.csv\n",
      "/kaggle/input/y-train-northsteel/y_long_ЗАП. И РЕГ. АРМАТУРА ЭКСГ.d.csv\n",
      "/kaggle/input/y-train-northsteel/y_long_ЭКСГАУСТЕР Н-8000 АМ №5.csv\n",
      "/kaggle/input/y-train-northsteel/y_long_ЭЛЕКТРОДВИГАТЕЛЬ ДСПУ-140-84-4 ЭКСГ.d.csv\n",
      "/kaggle/input/y-train-northsteel/y_long_РЕДУКТОР ГАЗ. ЗАДВИЖКИ ЭКСГ.d.csv\n",
      "/kaggle/input/y-train-northsteel/y_long_КЛ1 ТР№4 ДО ЭД ЭКСГАУСТЕРА №d.csv\n",
      "/kaggle/input/y-train-northsteel/y_long_ТСМТ-101-010-50М-200 ТЕРМОПР.ПОДШ.Т.3.csv\n",
      "/kaggle/input/y-train-northsteel/y_long_ЭЛЕКТРООБОРУДОВАНИЯ ЭКСГАУСТЕРА №d.csv\n",
      "/kaggle/input/y-train-northsteel/y_long_МАСЛЯНЫЙ ФИЛЬТР ЭКСГАУСТЕРА №d.csv\n",
      "/kaggle/input/y-train-northsteel/y_long_УЛИТА ЭКСГ.d.csv\n",
      "/kaggle/input/y-train-northsteel/y_long_РЕГУЛИРУЮЩАЯ АППАРАТУРА ЭКСГАУСТЕРА №d.csv\n",
      "/kaggle/input/y-train-northsteel/y_long_ПОДШИПНИК ОПОРНЫЙ ЭКСГ.d.csv\n",
      "/kaggle/input/y-train-northsteel/y_long_ТСМТ-101-010-50М-200 ТЕРМОПР.ПОДШ.Т.4.csv\n",
      "/kaggle/input/y-train-northsteel/y_long_КЛ1 ТР№6 ДО ЭД ЭКСГАУСТЕРА №d.csv\n",
      "/kaggle/input/y-train-northsteel/y_long_ГАЗОВАЯ ЗАДВИЖКА ЭКСГ.d.csv\n",
      "/kaggle/input/y-train-northsteel/y_long_ГСМ ЭКСГ.d.csv\n",
      "/kaggle/input/y-train-northsteel/y_long_ВК 310С ВИБРОПРЕОБРАЗОВАТЕЛЬ ЭКСГ.d Т.3.csv\n",
      "/kaggle/input/y-train-northsteel/y_long_ТСМТ-101-010-50М-80 ТЕРМОПРЕОБР.МАСЛО.csv\n",
      "/kaggle/input/y-train-northsteel/y_long_КЛ2 ТР№6 ДО ЭД ЭКСГАУСТЕРА №d.csv\n",
      "/kaggle/input/y-train-northsteel/y_long_ТИРИСТОРНЫЙ ВОЗБУДИТЕЛЬ ТВ-400 ЭКСГ.d ВУ1.csv\n",
      "/kaggle/input/y-train-northsteel/y_long_КЛ1 ТР№5 ДО ЭД ЭКСГАУСТЕРА №d.csv\n",
      "/kaggle/input/y-train-northsteel/y_long_ДВИГАТЕЛЬ РЕЗЕРВНОГО МАСЛОНАСОСА ЭКСГ.d.csv\n",
      "/kaggle/input/y-train-northsteel/y_long_КЛ1 ТР№8 ДО ЭД ЭКСГАУСТЕРА №d.csv\n",
      "/kaggle/input/y-train-northsteel/y_long_МЕТРАН-100 ДАТЧИКИ ДАВЛЕНИЯ ЭКСГ.d.csv\n",
      "/kaggle/input/y-train-northsteel/y_long_ЗАДВИЖКА ЭКСГ.d.csv\n",
      "/kaggle/input/y-train-northsteel/y_long_КЛ2 ТР№5 ДО ЭД ЭКСГАУСТЕРА №d.csv\n",
      "/kaggle/input/y-train-northsteel/y_long_САПФИР 22 МДД ПЕРЕПАД ДАВЛ. НА ЦИКЛОНЕ.csv\n",
      "/kaggle/input/y-train-northsteel/y_long_ПОДШИПНИК ОПОРНЫЙ №2 ЭКСГ.d.csv\n",
      "/kaggle/input/y-train-northsteel/y_long_МАСЛОНАСОС ШЕСТЕРЕНЧАТЫЙ (РЕЗ.) ЭКСГ.d.csv\n",
      "/kaggle/input/y-train-northsteel/y_long_ПОДШИПНИК ОПОРНО-УПОРНЫЙ ЭКСГ.d.csv\n",
      "/kaggle/input/y-train-northsteel/y_long_ЗАПОРНАЯ АРМАТУРА ЭКСГАУСТЕРА №d.csv\n",
      "/kaggle/input/y-train-northsteel/y_long_КОРПУС ЭКСГ.d.csv\n",
      "/kaggle/input/y-train-northsteel/y_long_ВК 310С ВИБРОПРЕОБРАЗОВАТЕЛЬ ЭКСГ.d Т.4.csv\n",
      "/kaggle/input/y-train-northsteel/y_long_ТИРИСТОРНЫЙ ВОЗБУДИТЕЛЬ СПВД-М10-400-5.csv\n",
      "/kaggle/input/y-train-northsteel/y_long_КЛ1 ТР№9 ДО ЭД ЭКСГАУСТЕРА №d.csv\n",
      "/kaggle/input/y-train-northsteel/y_long_ЭЛДВИГАТЕЛЬ ГАЗ. ЗАДВИЖКИ ЭКСГ.d.csv\n",
      "/kaggle/input/y-train-northsteel/y_long_ДВИГАТЕЛЬ ПУСКОВОГО МАСЛОНАСОСА ЭКСГ.d.csv\n",
      "/kaggle/input/y-train-northsteel/y_long_ТИРИСТ. ВОЗБУДИТЕЛЬ ВТ-РЭМ-400 ЭКСГ.d ВУ1.csv\n",
      "/kaggle/input/y-train-northsteel/y_long_ЭКСГАУСТЕР №d.csv\n",
      "/kaggle/input/y-train-northsteel/y_long_ТР-Р ТМ-4000-106 ЭКСГ.d.csv\n",
      "/kaggle/input/y-train-northsteel/y_long_МАСЛОНАСОС РАБОЧИЙ ЭКСГ.d.csv\n",
      "/kaggle/input/y-train-northsteel/y_long_КЛ1 ТР№7 ДО ЭД ЭКСГАУСТЕРА №d.csv\n",
      "/kaggle/input/y-train-northsteel/y_long_МАСЛОБАК ЭКСГ.d.csv\n",
      "/kaggle/input/y-train-northsteel/y_long_ТИРИСТ. ВОЗБУДИТЕЛЬ ВТ-РЭМ-400 ЭКСГ.d ВУ2.csv\n",
      "/kaggle/input/y-train-northsteel/y_long_ТР-Р ТМ-6300-106 ЭКСГ.d.csv\n",
      "/kaggle/input/y-train-northsteel/y_long_МАСЛОСТАНЦИЯ ЖИДКОЙ СМАЗКИ ЭКСГ.d.csv\n",
      "/kaggle/input/y-train-northsteel/y_long_КОЖУХ МУФТЫ ЭКСГ.d.csv\n",
      "/kaggle/input/y-train-northsteel/y_long_ПОДШИПНИК ОПОРНЫЙ №1 ЭКСГ.d.csv\n",
      "/kaggle/input/y-train-northsteel/y_long_РОТОР ЭКСГ.d.csv\n",
      "/kaggle/input/y-train-northsteel/dict_long.csv\n",
      "/kaggle/input/y-train-northsteel/y_long_ТСМТ-101-010-50М-400 ТЕРМОПР.ПОДШ.Т.1.csv\n",
      "/kaggle/input/y-train-northsteel/y_long_МАСЛОПРОВОДЫ ЭКСГАУСТЕРА №d.csv\n",
      "/kaggle/input/y-train-northsteel/y_long_МАСЛОНАСОС ШЕСТЕРЕНЧАТЫЙ (ПУСК.) ЭКСГ.d.csv\n",
      "/kaggle/input/y-train-northsteel/y_long_КЛ2 ТР№4 ДО ЭД ЭКСГАУСТЕРА №d.csv\n",
      "/kaggle/input/y-train-northsteel/y_long_ВК 310С ВИБРОПРЕОБРАЗОВАТЕЛЬ ЭКСГ.d Т.1.csv\n",
      "/kaggle/input/y-train-northsteel/y_long_ТСМТ-101-010-50М-400 ТЕРМОПР.ПОДШ.Т.2.csv\n",
      "/kaggle/input/y-train-northsteel-short/y_short_ТСМТ-101-010-50М-80 ТЕРМОПРЕОБР.МАСЛО.csv\n",
      "/kaggle/input/y-train-northsteel-short/y_short_ЗАДВИЖКА ЭКСГ.d.csv\n",
      "/kaggle/input/y-train-northsteel-short/y_short_КОРПУС ЭКСГ.d.csv\n",
      "/kaggle/input/y-train-northsteel-short/y_short_ГАЗОВАЯ ЗАДВИЖКА ЭКСГ.d.csv\n",
      "/kaggle/input/y-train-northsteel-short/y_short_ТИРИСТ. ВОЗБУДИТЕЛЬ ВТ-РЭМ-400 ЭКСГ.d.csv\n",
      "/kaggle/input/y-train-northsteel-short/y_short_КЛ2 ТР№n ДО ЭД ЭКСГАУСТЕРА №d.csv\n",
      "/kaggle/input/y-train-northsteel-short/y_short_РЕДУКТОР ГАЗ. ЗАДВИЖКИ ЭКСГ.d.csv\n",
      "/kaggle/input/y-train-northsteel-short/y_short_МАСЛОНАСОС ШЕСТЕРЕНЧАТЫЙ (РЕЗ.) ЭКСГ.d.csv\n",
      "/kaggle/input/y-train-northsteel-short/y_short_УЛИТА ЭКСГ.d.csv\n",
      "/kaggle/input/y-train-northsteel-short/y_short_ВК 310С ВИБРОПРЕОБРАЗОВАТЕЛЬ ЭКСГ.d.csv\n",
      "/kaggle/input/y-train-northsteel-short/y_short_ДВИГАТЕЛЬ РЕЗЕРВНОГО МАСЛОНАСОСА ЭКСГ.d.csv\n",
      "/kaggle/input/y-train-northsteel-short/y_short_ЗАПОРНАЯ АРМАТУРА ЭКСГАУСТЕРА №d.csv\n",
      "/kaggle/input/y-train-northsteel-short/y_short_МАСЛОНАСОС РАБОЧИЙ ЭКСГ.d.csv\n",
      "/kaggle/input/y-train-northsteel-short/y_short_МЕТРАН-100 ДАТЧИКИ ДАВЛЕНИЯ ЭКСГ.d.csv\n",
      "/kaggle/input/y-train-northsteel-short/y_short_ЭКСГАУСТЕР Н-8000 АМ №5.csv\n",
      "/kaggle/input/y-train-northsteel-short/y_short_ПОДШИПНИК ОПОРНО-УПОРНЫЙ ЭКСГ.d.csv\n",
      "/kaggle/input/y-train-northsteel-short/y_short_ПОДШИПНИК ОПОРНЫЙ ЭКСГ.d.csv\n",
      "/kaggle/input/y-train-northsteel-short/y_short_МАСЛООХЛАДИТЕЛЬ  М-05-1 ЭКСГ.d.csv\n",
      "/kaggle/input/y-train-northsteel-short/y_short_ТИРИСТОРНЫЙ ВОЗБУДИТЕЛЬ ТВ-400 ЭКСГ.d ВУ1.csv\n",
      "/kaggle/input/y-train-northsteel-short/y_short_КЛ1 ТР№n ДО ЭД ЭКСГАУСТЕРА №d.csv\n",
      "/kaggle/input/y-train-northsteel-short/y_short_ЭЛДВИГАТЕЛЬ ГАЗ. ЗАДВИЖКИ ЭКСГ.d.csv\n",
      "/kaggle/input/y-train-northsteel-short/y_short_ТСМТ-101-010-50М-200 ТЕРМОПР.ПОДШ.csv\n",
      "/kaggle/input/y-train-northsteel-short/y_short_МАСЛОБАК ЭКСГ.d.csv\n",
      "/kaggle/input/y-train-northsteel-short/y_short_ЗАП. И РЕГ. АРМАТУРА ЭКСГ.d.csv\n",
      "/kaggle/input/y-train-northsteel-short/y_short_КОЖУХ МУФТЫ ЭКСГ.d.csv\n",
      "/kaggle/input/y-train-northsteel-short/y_short_РЕГУЛИРУЮЩАЯ АППАРАТУРА ЭКСГАУСТЕРА №d.csv\n",
      "/kaggle/input/y-train-northsteel-short/y_short_МАСЛЯНЫЙ ФИЛЬТР ЭКСГАУСТЕРА №d.csv\n",
      "/kaggle/input/y-train-northsteel-short/y_short_ТР-Р ТМ-4000-106 ЭКСГ.d.csv\n",
      "/kaggle/input/y-train-northsteel-short/y_short_ЭЛЕКТРОДВИГАТЕЛЬ ДСПУ-140-84-4 ЭКСГ.d.csv\n",
      "/kaggle/input/y-train-northsteel-short/y_short_ДВИГАТЕЛЬ ПУСКОВОГО МАСЛОНАСОСА ЭКСГ.d.csv\n",
      "/kaggle/input/y-train-northsteel-short/y_short_САПФИР 22 МДД РАЗРЕЖЕНИЕ В КОЛЛЕКТОРЕ.csv\n",
      "/kaggle/input/y-train-northsteel-short/y_short_САПФИР 22 МДД ПЕРЕПАД ДАВЛ. НА ЦИКЛОНЕ.csv\n",
      "/kaggle/input/y-train-northsteel-short/y_short_МАСЛОНАСОС ШЕСТЕРЕНЧАТЫЙ (ПУСК.) ЭКСГ.d.csv\n",
      "/kaggle/input/y-train-northsteel-short/y_short_ТР-Р ТМ-6300-106 ЭКСГ.d.csv\n",
      "/kaggle/input/y-train-northsteel-short/y_short_ТСМТ-101-010-50М-400 ТЕРМОПР.ПОДШ.csv\n",
      "/kaggle/input/y-train-northsteel-short/y_short_ЭКСГАУСТЕР №d.csv\n",
      "/kaggle/input/y-train-northsteel-short/y_short_МАСЛОСТАНЦИЯ ЖИДКОЙ СМАЗКИ ЭКСГ.d.csv\n",
      "/kaggle/input/y-train-northsteel-short/y_short_ЭЛЕКТРООБОРУДОВАНИЯ ЭКСГАУСТЕРА №d.csv\n",
      "/kaggle/input/y-train-northsteel-short/dict_short.csv\n",
      "/kaggle/input/y-train-northsteel-short/y_short_ГСМ ЭКСГ.d.csv\n",
      "/kaggle/input/y-train-northsteel-short/y_short_ТИРИСТОРНЫЙ ВОЗБУДИТЕЛЬ СПВД-М10-400-5.csv\n",
      "/kaggle/input/y-train-northsteel-short/y_short_МАСЛОПРОВОДЫ ЭКСГАУСТЕРА №d.csv\n",
      "/kaggle/input/y-train-northsteel-short/y_short_РОТОР ЭКСГ.d.csv\n",
      "/kaggle/input/x-test-northsteel/ВИБРАЦИЯ НА ОПОРЕ 4. ПРОДОЛЬНАЯ.csv\n",
      "/kaggle/input/x-test-northsteel/ВИБРАЦИЯ НА ОПОРЕ 4.csv\n",
      "/kaggle/input/x-test-northsteel/ЭКСГАУСТЕР 9.csv\n",
      "/kaggle/input/x-test-northsteel/ЭКСГАУСТЕР 4.csv\n",
      "/kaggle/input/x-test-northsteel/ЭКСГАУСТЕР 7.csv\n",
      "/kaggle/input/x-test-northsteel/ВИБРАЦИЯ НА ОПОРЕ 3.csv\n",
      "/kaggle/input/x-test-northsteel/ВИБРАЦИЯ НА ОПОРЕ 2.csv\n",
      "/kaggle/input/x-test-northsteel/ТОК СТАТОРА.csv\n",
      "/kaggle/input/x-test-northsteel/ДАВЛЕНИЕ МАСЛА В СИСТЕМЕ.csv\n",
      "/kaggle/input/x-test-northsteel/ВИБРАЦИЯ НА ОПОРЕ 1.csv\n",
      "/kaggle/input/x-test-northsteel/ТЕМПЕРАТУРА ПОДШИПНИКА НА ОПОРЕ 3.csv\n",
      "/kaggle/input/x-test-northsteel/ТЕМПЕРАТУРА ПОДШИПНИКА НА ОПОРЕ 1.csv\n",
      "/kaggle/input/x-test-northsteel/ЭКСГАУСТЕР 6.csv\n",
      "/kaggle/input/x-test-northsteel/ТОК РОТОРА 2.csv\n",
      "/kaggle/input/x-test-northsteel/ТЕМПЕРАТУРА ПОДШИПНИКА НА ОПОРЕ 2.csv\n",
      "/kaggle/input/x-test-northsteel/ТЕМПЕРАТУРА ПОДШИПНИКА НА ОПОРЕ 4.csv\n",
      "/kaggle/input/x-test-northsteel/ЭКСГАУСТЕР 5.csv\n",
      "/kaggle/input/x-test-northsteel/ТОК РОТОРА 1.csv\n",
      "/kaggle/input/x-test-northsteel/ЭКСГАУСТЕР 8.csv\n",
      "/kaggle/input/x-test-northsteel/ВИБРАЦИЯ НА ОПОРЕ 3. ПРОДОЛЬНАЯ.csv\n",
      "/kaggle/input/x-test-northsteel/ТЕМПЕРАТУРА МАСЛА В МАСЛОБЛОКЕ.csv\n",
      "/kaggle/input/x-test-northsteel/ТЕМПЕРАТУРА МАСЛА В СИСТЕМЕ.csv\n"
     ]
    }
   ],
   "source": [
    "##### This Python 3 environment comes with many helpful analytics libraries installed\n",
    "# It is defined by the kaggle/python Docker image: https://github.com/kaggle/docker-python\n",
    "# For example, here's several helpful packages to load\n",
    "\n",
    "import numpy as np # linear algebra\n",
    "import pandas as pd # data processing, CSV file I/O (e.g. pd.read_csv)\n",
    "\n",
    "# Input data files are available in the read-only \"../input/\" directory\n",
    "# For example, running this (by clicking run or pressing Shift+Enter) will list all files under the input directory\n",
    "\n",
    "import os\n",
    "for dirname, _, filenames in os.walk('/kaggle/input'):\n",
    "    for filename in filenames:\n",
    "        print(os.path.join(dirname, filename))\n",
    "\n",
    "# You can write up to 20GB to the current directory (/kaggle/working/) that gets preserved as output when you create a version using \"Save & Run All\" \n",
    "# You can also write temporary files to /kaggle/temp/, but they won't be saved outside of the current session"
   ]
  },
  {
   "cell_type": "code",
   "execution_count": 2,
   "id": "06e7c2d4",
   "metadata": {
    "execution": {
     "iopub.execute_input": "2023-05-28T20:22:30.605325Z",
     "iopub.status.busy": "2023-05-28T20:22:30.604376Z",
     "iopub.status.idle": "2023-05-28T20:22:54.816584Z",
     "shell.execute_reply": "2023-05-28T20:22:54.814916Z"
    },
    "papermill": {
     "duration": 24.220147,
     "end_time": "2023-05-28T20:22:54.819541",
     "exception": false,
     "start_time": "2023-05-28T20:22:30.599394",
     "status": "completed"
    },
    "tags": []
   },
   "outputs": [],
   "source": [
    "X_train = pd.read_csv(\"/kaggle/input/x-train-northsteel/ЭКСГАУСТЕР 4.csv\",parse_dates=True)\n"
   ]
  },
  {
   "cell_type": "code",
   "execution_count": 3,
   "id": "6808fe32",
   "metadata": {
    "execution": {
     "iopub.execute_input": "2023-05-28T20:22:54.830304Z",
     "iopub.status.busy": "2023-05-28T20:22:54.829881Z",
     "iopub.status.idle": "2023-05-28T20:23:17.313463Z",
     "shell.execute_reply": "2023-05-28T20:23:17.311734Z"
    },
    "papermill": {
     "duration": 22.492489,
     "end_time": "2023-05-28T20:23:17.316493",
     "exception": false,
     "start_time": "2023-05-28T20:22:54.824004",
     "status": "completed"
    },
    "tags": []
   },
   "outputs": [
    {
     "data": {
      "text/html": [
       "<div>\n",
       "<style scoped>\n",
       "    .dataframe tbody tr th:only-of-type {\n",
       "        vertical-align: middle;\n",
       "    }\n",
       "\n",
       "    .dataframe tbody tr th {\n",
       "        vertical-align: top;\n",
       "    }\n",
       "\n",
       "    .dataframe thead th {\n",
       "        text-align: right;\n",
       "    }\n",
       "</style>\n",
       "<table border=\"1\" class=\"dataframe\">\n",
       "  <thead>\n",
       "    <tr style=\"text-align: right;\">\n",
       "      <th></th>\n",
       "      <th>ТОК РОТОРА 1</th>\n",
       "      <th>ТОК РОТОРА 2</th>\n",
       "      <th>ТОК СТАТОРА</th>\n",
       "      <th>ВИБРАЦИЯ НА ОПОРЕ 1</th>\n",
       "      <th>ВИБРАЦИЯ НА ОПОРЕ 2</th>\n",
       "      <th>ВИБРАЦИЯ НА ОПОРЕ 3</th>\n",
       "      <th>ВИБРАЦИЯ НА ОПОРЕ 3. ПРОДОЛЬНАЯ</th>\n",
       "      <th>ВИБРАЦИЯ НА ОПОРЕ 4</th>\n",
       "      <th>ВИБРАЦИЯ НА ОПОРЕ 4. ПРОДОЛЬНАЯ</th>\n",
       "      <th>ТЕМПЕРАТУРА ПОДШИПНИКА НА ОПОРЕ 1</th>\n",
       "      <th>ТЕМПЕРАТУРА ПОДШИПНИКА НА ОПОРЕ 2</th>\n",
       "      <th>ТЕМПЕРАТУРА ПОДШИПНИКА НА ОПОРЕ 3</th>\n",
       "      <th>ТЕМПЕРАТУРА ПОДШИПНИКА НА ОПОРЕ 4</th>\n",
       "      <th>ТЕМПЕРАТУРА МАСЛА В МАСЛОБЛОКЕ</th>\n",
       "      <th>ТЕМПЕРАТУРА МАСЛА В СИСТЕМЕ</th>\n",
       "      <th>ДАВЛЕНИЕ МАСЛА В СИСТЕМЕ</th>\n",
       "    </tr>\n",
       "    <tr>\n",
       "      <th>DT</th>\n",
       "      <th></th>\n",
       "      <th></th>\n",
       "      <th></th>\n",
       "      <th></th>\n",
       "      <th></th>\n",
       "      <th></th>\n",
       "      <th></th>\n",
       "      <th></th>\n",
       "      <th></th>\n",
       "      <th></th>\n",
       "      <th></th>\n",
       "      <th></th>\n",
       "      <th></th>\n",
       "      <th></th>\n",
       "      <th></th>\n",
       "      <th></th>\n",
       "    </tr>\n",
       "  </thead>\n",
       "  <tbody>\n",
       "    <tr>\n",
       "      <th>2019-01-16 13:21:00</th>\n",
       "      <td>363.676667</td>\n",
       "      <td>363.676667</td>\n",
       "      <td>244.078000</td>\n",
       "      <td>1.600000</td>\n",
       "      <td>0.760000</td>\n",
       "      <td>0.670000</td>\n",
       "      <td>1.630000</td>\n",
       "      <td>3.450000</td>\n",
       "      <td>0.740000</td>\n",
       "      <td>41.370000</td>\n",
       "      <td>39.750000</td>\n",
       "      <td>39.750000</td>\n",
       "      <td>44.538548</td>\n",
       "      <td>40.560000</td>\n",
       "      <td>33.260000</td>\n",
       "      <td>119.385000</td>\n",
       "    </tr>\n",
       "    <tr>\n",
       "      <th>2019-01-16 13:21:10</th>\n",
       "      <td>363.103333</td>\n",
       "      <td>363.103333</td>\n",
       "      <td>243.032500</td>\n",
       "      <td>1.572917</td>\n",
       "      <td>0.751736</td>\n",
       "      <td>0.642361</td>\n",
       "      <td>1.558160</td>\n",
       "      <td>3.470000</td>\n",
       "      <td>0.734375</td>\n",
       "      <td>41.374596</td>\n",
       "      <td>39.752083</td>\n",
       "      <td>39.995457</td>\n",
       "      <td>44.863054</td>\n",
       "      <td>40.401081</td>\n",
       "      <td>33.343074</td>\n",
       "      <td>119.444440</td>\n",
       "    </tr>\n",
       "    <tr>\n",
       "      <th>2019-01-16 13:21:20</th>\n",
       "      <td>363.266667</td>\n",
       "      <td>363.266667</td>\n",
       "      <td>242.940000</td>\n",
       "      <td>1.553819</td>\n",
       "      <td>0.735918</td>\n",
       "      <td>0.638503</td>\n",
       "      <td>1.581790</td>\n",
       "      <td>2.900000</td>\n",
       "      <td>0.748457</td>\n",
       "      <td>41.374596</td>\n",
       "      <td>39.752083</td>\n",
       "      <td>39.932360</td>\n",
       "      <td>44.799956</td>\n",
       "      <td>40.383053</td>\n",
       "      <td>33.261948</td>\n",
       "      <td>119.330000</td>\n",
       "    </tr>\n",
       "    <tr>\n",
       "      <th>2019-01-16 13:21:30</th>\n",
       "      <td>363.414372</td>\n",
       "      <td>363.414372</td>\n",
       "      <td>243.836802</td>\n",
       "      <td>1.546007</td>\n",
       "      <td>0.736979</td>\n",
       "      <td>0.653646</td>\n",
       "      <td>1.657986</td>\n",
       "      <td>3.297743</td>\n",
       "      <td>0.730903</td>\n",
       "      <td>41.374596</td>\n",
       "      <td>39.752083</td>\n",
       "      <td>39.833208</td>\n",
       "      <td>44.781928</td>\n",
       "      <td>40.563330</td>\n",
       "      <td>33.586453</td>\n",
       "      <td>119.398146</td>\n",
       "    </tr>\n",
       "    <tr>\n",
       "      <th>2019-01-16 13:21:40</th>\n",
       "      <td>363.103333</td>\n",
       "      <td>363.103333</td>\n",
       "      <td>242.050000</td>\n",
       "      <td>1.545139</td>\n",
       "      <td>0.742188</td>\n",
       "      <td>0.677083</td>\n",
       "      <td>1.740000</td>\n",
       "      <td>2.990000</td>\n",
       "      <td>0.739583</td>\n",
       "      <td>41.536849</td>\n",
       "      <td>39.752083</td>\n",
       "      <td>39.752083</td>\n",
       "      <td>43.810000</td>\n",
       "      <td>39.750000</td>\n",
       "      <td>33.505327</td>\n",
       "      <td>119.326667</td>\n",
       "    </tr>\n",
       "    <tr>\n",
       "      <th>...</th>\n",
       "      <td>...</td>\n",
       "      <td>...</td>\n",
       "      <td>...</td>\n",
       "      <td>...</td>\n",
       "      <td>...</td>\n",
       "      <td>...</td>\n",
       "      <td>...</td>\n",
       "      <td>...</td>\n",
       "      <td>...</td>\n",
       "      <td>...</td>\n",
       "      <td>...</td>\n",
       "      <td>...</td>\n",
       "      <td>...</td>\n",
       "      <td>...</td>\n",
       "      <td>...</td>\n",
       "      <td>...</td>\n",
       "    </tr>\n",
       "    <tr>\n",
       "      <th>2021-04-29 20:17:50</th>\n",
       "      <td>227.802000</td>\n",
       "      <td>227.802000</td>\n",
       "      <td>256.457000</td>\n",
       "      <td>0.691667</td>\n",
       "      <td>0.422857</td>\n",
       "      <td>0.824444</td>\n",
       "      <td>1.900000</td>\n",
       "      <td>0.802222</td>\n",
       "      <td>0.810000</td>\n",
       "      <td>38.670000</td>\n",
       "      <td>36.915000</td>\n",
       "      <td>29.615000</td>\n",
       "      <td>32.045000</td>\n",
       "      <td>32.045000</td>\n",
       "      <td>28.800000</td>\n",
       "      <td>143.218000</td>\n",
       "    </tr>\n",
       "    <tr>\n",
       "      <th>2021-06-18 01:21:30</th>\n",
       "      <td>243.908000</td>\n",
       "      <td>243.908000</td>\n",
       "      <td>262.240000</td>\n",
       "      <td>1.410000</td>\n",
       "      <td>1.122000</td>\n",
       "      <td>2.508000</td>\n",
       "      <td>6.800000</td>\n",
       "      <td>1.262000</td>\n",
       "      <td>2.678000</td>\n",
       "      <td>44.080000</td>\n",
       "      <td>47.455000</td>\n",
       "      <td>40.560000</td>\n",
       "      <td>41.780000</td>\n",
       "      <td>43.000000</td>\n",
       "      <td>40.290000</td>\n",
       "      <td>119.744000</td>\n",
       "    </tr>\n",
       "    <tr>\n",
       "      <th>2021-06-21 19:43:00</th>\n",
       "      <td>243.866667</td>\n",
       "      <td>243.866667</td>\n",
       "      <td>248.206667</td>\n",
       "      <td>0.983333</td>\n",
       "      <td>0.910000</td>\n",
       "      <td>2.290000</td>\n",
       "      <td>5.083333</td>\n",
       "      <td>1.353333</td>\n",
       "      <td>2.223333</td>\n",
       "      <td>46.645000</td>\n",
       "      <td>49.085000</td>\n",
       "      <td>45.970000</td>\n",
       "      <td>45.700000</td>\n",
       "      <td>47.455000</td>\n",
       "      <td>48.270000</td>\n",
       "      <td>113.846667</td>\n",
       "    </tr>\n",
       "    <tr>\n",
       "      <th>2021-07-01 23:41:10</th>\n",
       "      <td>244.760000</td>\n",
       "      <td>244.760000</td>\n",
       "      <td>266.060000</td>\n",
       "      <td>0.816000</td>\n",
       "      <td>0.426667</td>\n",
       "      <td>0.149000</td>\n",
       "      <td>0.640000</td>\n",
       "      <td>1.203000</td>\n",
       "      <td>0.270000</td>\n",
       "      <td>49.895000</td>\n",
       "      <td>49.760000</td>\n",
       "      <td>37.680000</td>\n",
       "      <td>41.167500</td>\n",
       "      <td>39.345000</td>\n",
       "      <td>36.186000</td>\n",
       "      <td>152.590000</td>\n",
       "    </tr>\n",
       "    <tr>\n",
       "      <th>2021-09-17 14:14:30</th>\n",
       "      <td>247.005000</td>\n",
       "      <td>247.005000</td>\n",
       "      <td>274.508333</td>\n",
       "      <td>0.346667</td>\n",
       "      <td>1.013333</td>\n",
       "      <td>1.536667</td>\n",
       "      <td>3.618333</td>\n",
       "      <td>2.110000</td>\n",
       "      <td>1.923333</td>\n",
       "      <td>49.760000</td>\n",
       "      <td>44.620000</td>\n",
       "      <td>39.480000</td>\n",
       "      <td>40.290000</td>\n",
       "      <td>39.345000</td>\n",
       "      <td>33.260000</td>\n",
       "      <td>164.408333</td>\n",
       "    </tr>\n",
       "  </tbody>\n",
       "</table>\n",
       "<p>4755649 rows × 16 columns</p>\n",
       "</div>"
      ],
      "text/plain": [
       "                     ТОК РОТОРА 1  ТОК РОТОРА 2  ТОК СТАТОРА  \\\n",
       "DT                                                             \n",
       "2019-01-16 13:21:00    363.676667    363.676667   244.078000   \n",
       "2019-01-16 13:21:10    363.103333    363.103333   243.032500   \n",
       "2019-01-16 13:21:20    363.266667    363.266667   242.940000   \n",
       "2019-01-16 13:21:30    363.414372    363.414372   243.836802   \n",
       "2019-01-16 13:21:40    363.103333    363.103333   242.050000   \n",
       "...                           ...           ...          ...   \n",
       "2021-04-29 20:17:50    227.802000    227.802000   256.457000   \n",
       "2021-06-18 01:21:30    243.908000    243.908000   262.240000   \n",
       "2021-06-21 19:43:00    243.866667    243.866667   248.206667   \n",
       "2021-07-01 23:41:10    244.760000    244.760000   266.060000   \n",
       "2021-09-17 14:14:30    247.005000    247.005000   274.508333   \n",
       "\n",
       "                     ВИБРАЦИЯ НА ОПОРЕ 1  ВИБРАЦИЯ НА ОПОРЕ 2  \\\n",
       "DT                                                              \n",
       "2019-01-16 13:21:00             1.600000             0.760000   \n",
       "2019-01-16 13:21:10             1.572917             0.751736   \n",
       "2019-01-16 13:21:20             1.553819             0.735918   \n",
       "2019-01-16 13:21:30             1.546007             0.736979   \n",
       "2019-01-16 13:21:40             1.545139             0.742188   \n",
       "...                                  ...                  ...   \n",
       "2021-04-29 20:17:50             0.691667             0.422857   \n",
       "2021-06-18 01:21:30             1.410000             1.122000   \n",
       "2021-06-21 19:43:00             0.983333             0.910000   \n",
       "2021-07-01 23:41:10             0.816000             0.426667   \n",
       "2021-09-17 14:14:30             0.346667             1.013333   \n",
       "\n",
       "                     ВИБРАЦИЯ НА ОПОРЕ 3  ВИБРАЦИЯ НА ОПОРЕ 3. ПРОДОЛЬНАЯ  \\\n",
       "DT                                                                          \n",
       "2019-01-16 13:21:00             0.670000                         1.630000   \n",
       "2019-01-16 13:21:10             0.642361                         1.558160   \n",
       "2019-01-16 13:21:20             0.638503                         1.581790   \n",
       "2019-01-16 13:21:30             0.653646                         1.657986   \n",
       "2019-01-16 13:21:40             0.677083                         1.740000   \n",
       "...                                  ...                              ...   \n",
       "2021-04-29 20:17:50             0.824444                         1.900000   \n",
       "2021-06-18 01:21:30             2.508000                         6.800000   \n",
       "2021-06-21 19:43:00             2.290000                         5.083333   \n",
       "2021-07-01 23:41:10             0.149000                         0.640000   \n",
       "2021-09-17 14:14:30             1.536667                         3.618333   \n",
       "\n",
       "                     ВИБРАЦИЯ НА ОПОРЕ 4  ВИБРАЦИЯ НА ОПОРЕ 4. ПРОДОЛЬНАЯ  \\\n",
       "DT                                                                          \n",
       "2019-01-16 13:21:00             3.450000                         0.740000   \n",
       "2019-01-16 13:21:10             3.470000                         0.734375   \n",
       "2019-01-16 13:21:20             2.900000                         0.748457   \n",
       "2019-01-16 13:21:30             3.297743                         0.730903   \n",
       "2019-01-16 13:21:40             2.990000                         0.739583   \n",
       "...                                  ...                              ...   \n",
       "2021-04-29 20:17:50             0.802222                         0.810000   \n",
       "2021-06-18 01:21:30             1.262000                         2.678000   \n",
       "2021-06-21 19:43:00             1.353333                         2.223333   \n",
       "2021-07-01 23:41:10             1.203000                         0.270000   \n",
       "2021-09-17 14:14:30             2.110000                         1.923333   \n",
       "\n",
       "                     ТЕМПЕРАТУРА ПОДШИПНИКА НА ОПОРЕ 1  \\\n",
       "DT                                                       \n",
       "2019-01-16 13:21:00                          41.370000   \n",
       "2019-01-16 13:21:10                          41.374596   \n",
       "2019-01-16 13:21:20                          41.374596   \n",
       "2019-01-16 13:21:30                          41.374596   \n",
       "2019-01-16 13:21:40                          41.536849   \n",
       "...                                                ...   \n",
       "2021-04-29 20:17:50                          38.670000   \n",
       "2021-06-18 01:21:30                          44.080000   \n",
       "2021-06-21 19:43:00                          46.645000   \n",
       "2021-07-01 23:41:10                          49.895000   \n",
       "2021-09-17 14:14:30                          49.760000   \n",
       "\n",
       "                     ТЕМПЕРАТУРА ПОДШИПНИКА НА ОПОРЕ 2  \\\n",
       "DT                                                       \n",
       "2019-01-16 13:21:00                          39.750000   \n",
       "2019-01-16 13:21:10                          39.752083   \n",
       "2019-01-16 13:21:20                          39.752083   \n",
       "2019-01-16 13:21:30                          39.752083   \n",
       "2019-01-16 13:21:40                          39.752083   \n",
       "...                                                ...   \n",
       "2021-04-29 20:17:50                          36.915000   \n",
       "2021-06-18 01:21:30                          47.455000   \n",
       "2021-06-21 19:43:00                          49.085000   \n",
       "2021-07-01 23:41:10                          49.760000   \n",
       "2021-09-17 14:14:30                          44.620000   \n",
       "\n",
       "                     ТЕМПЕРАТУРА ПОДШИПНИКА НА ОПОРЕ 3  \\\n",
       "DT                                                       \n",
       "2019-01-16 13:21:00                          39.750000   \n",
       "2019-01-16 13:21:10                          39.995457   \n",
       "2019-01-16 13:21:20                          39.932360   \n",
       "2019-01-16 13:21:30                          39.833208   \n",
       "2019-01-16 13:21:40                          39.752083   \n",
       "...                                                ...   \n",
       "2021-04-29 20:17:50                          29.615000   \n",
       "2021-06-18 01:21:30                          40.560000   \n",
       "2021-06-21 19:43:00                          45.970000   \n",
       "2021-07-01 23:41:10                          37.680000   \n",
       "2021-09-17 14:14:30                          39.480000   \n",
       "\n",
       "                     ТЕМПЕРАТУРА ПОДШИПНИКА НА ОПОРЕ 4  \\\n",
       "DT                                                       \n",
       "2019-01-16 13:21:00                          44.538548   \n",
       "2019-01-16 13:21:10                          44.863054   \n",
       "2019-01-16 13:21:20                          44.799956   \n",
       "2019-01-16 13:21:30                          44.781928   \n",
       "2019-01-16 13:21:40                          43.810000   \n",
       "...                                                ...   \n",
       "2021-04-29 20:17:50                          32.045000   \n",
       "2021-06-18 01:21:30                          41.780000   \n",
       "2021-06-21 19:43:00                          45.700000   \n",
       "2021-07-01 23:41:10                          41.167500   \n",
       "2021-09-17 14:14:30                          40.290000   \n",
       "\n",
       "                     ТЕМПЕРАТУРА МАСЛА В МАСЛОБЛОКЕ  \\\n",
       "DT                                                    \n",
       "2019-01-16 13:21:00                       40.560000   \n",
       "2019-01-16 13:21:10                       40.401081   \n",
       "2019-01-16 13:21:20                       40.383053   \n",
       "2019-01-16 13:21:30                       40.563330   \n",
       "2019-01-16 13:21:40                       39.750000   \n",
       "...                                             ...   \n",
       "2021-04-29 20:17:50                       32.045000   \n",
       "2021-06-18 01:21:30                       43.000000   \n",
       "2021-06-21 19:43:00                       47.455000   \n",
       "2021-07-01 23:41:10                       39.345000   \n",
       "2021-09-17 14:14:30                       39.345000   \n",
       "\n",
       "                     ТЕМПЕРАТУРА МАСЛА В СИСТЕМЕ  ДАВЛЕНИЕ МАСЛА В СИСТЕМЕ  \n",
       "DT                                                                          \n",
       "2019-01-16 13:21:00                    33.260000                119.385000  \n",
       "2019-01-16 13:21:10                    33.343074                119.444440  \n",
       "2019-01-16 13:21:20                    33.261948                119.330000  \n",
       "2019-01-16 13:21:30                    33.586453                119.398146  \n",
       "2019-01-16 13:21:40                    33.505327                119.326667  \n",
       "...                                          ...                       ...  \n",
       "2021-04-29 20:17:50                    28.800000                143.218000  \n",
       "2021-06-18 01:21:30                    40.290000                119.744000  \n",
       "2021-06-21 19:43:00                    48.270000                113.846667  \n",
       "2021-07-01 23:41:10                    36.186000                152.590000  \n",
       "2021-09-17 14:14:30                    33.260000                164.408333  \n",
       "\n",
       "[4755649 rows x 16 columns]"
      ]
     },
     "execution_count": 3,
     "metadata": {},
     "output_type": "execute_result"
    }
   ],
   "source": [
    "import re\n",
    "\n",
    "def reduced(x):\n",
    "    answer = re.sub(r\"ЭКСГАУСТЕР\\s?\\n?№\\d+.\", \"\", x).strip()\n",
    "    answer = re.sub(r\"ЭКСГАУСТЕР\\s?\\n?\\d+.\", \"\", x).strip()\n",
    "    return answer\n",
    "\n",
    "\n",
    "if \"DT\" in X_train.columns:\n",
    "    X_train = X_train.set_index(\"DT\")\n",
    "for col in X_train.columns:\n",
    "    X_train = X_train.rename(columns={col: reduced(col).strip()})\n",
    "X_train = X_train[[\"ТОК РОТОРА 1\",\"ТОК РОТОРА 2\",\"ТОК СТАТОРА\",\n",
    "                   \"ВИБРАЦИЯ НА ОПОРЕ 1\",\"ВИБРАЦИЯ НА ОПОРЕ 2\",\n",
    "                   \"ВИБРАЦИЯ НА ОПОРЕ 3\",\"ВИБРАЦИЯ НА ОПОРЕ 3. ПРОДОЛЬНАЯ\",\n",
    "                   \"ВИБРАЦИЯ НА ОПОРЕ 4\",\"ВИБРАЦИЯ НА ОПОРЕ 4. ПРОДОЛЬНАЯ\",\n",
    "                   \"ТЕМПЕРАТУРА ПОДШИПНИКА НА ОПОРЕ 1\",\n",
    "                   \"ТЕМПЕРАТУРА ПОДШИПНИКА НА ОПОРЕ 2\",\n",
    "                   \"ТЕМПЕРАТУРА ПОДШИПНИКА НА ОПОРЕ 3\",\n",
    "                   \"ТЕМПЕРАТУРА ПОДШИПНИКА НА ОПОРЕ 4\",\n",
    "                   \"ТЕМПЕРАТУРА МАСЛА В МАСЛОБЛОКЕ\",\n",
    "                   \"ТЕМПЕРАТУРА МАСЛА В СИСТЕМЕ\",\n",
    "                   \"ДАВЛЕНИЕ МАСЛА В СИСТЕМЕ\"]]\n",
    "for i,x in enumerate(X_train.index.values):\n",
    "    X_train.index.values[i] = pd.Timestamp(X_train.index.values[i])\n",
    "X_train"
   ]
  },
  {
   "cell_type": "code",
   "execution_count": 4,
   "id": "889455e7",
   "metadata": {
    "execution": {
     "iopub.execute_input": "2023-05-28T20:23:17.326905Z",
     "iopub.status.busy": "2023-05-28T20:23:17.326531Z",
     "iopub.status.idle": "2023-05-28T20:23:42.530256Z",
     "shell.execute_reply": "2023-05-28T20:23:42.528804Z"
    },
    "papermill": {
     "duration": 25.211823,
     "end_time": "2023-05-28T20:23:42.532739",
     "exception": false,
     "start_time": "2023-05-28T20:23:17.320916",
     "status": "completed"
    },
    "tags": []
   },
   "outputs": [
    {
     "data": {
      "text/html": [
       "<div>\n",
       "<style scoped>\n",
       "    .dataframe tbody tr th:only-of-type {\n",
       "        vertical-align: middle;\n",
       "    }\n",
       "\n",
       "    .dataframe tbody tr th {\n",
       "        vertical-align: top;\n",
       "    }\n",
       "\n",
       "    .dataframe thead th {\n",
       "        text-align: right;\n",
       "    }\n",
       "</style>\n",
       "<table border=\"1\" class=\"dataframe\">\n",
       "  <thead>\n",
       "    <tr style=\"text-align: right;\">\n",
       "      <th></th>\n",
       "      <th>Y_ЭКСГАУСТЕР А/М №4_ЭЛЕКТРОДВИГАТЕЛЬ ДСПУ-140-84-4 ЭКСГ. №4</th>\n",
       "      <th>Y_ЭКСГАУСТЕР А/М №4_ПОДШИПНИК ОПОРНЫЙ ЭКСГ. №4</th>\n",
       "      <th>Y_ЭКСГАУСТЕР А/М №4_УЛИТА ЭКСГ. №4</th>\n",
       "      <th>Y_ЭКСГАУСТЕР А/М №4_РЕДУКТОР ГАЗ. ЗАДВИЖКИ ЭКСГ. №4</th>\n",
       "      <th>Y_ЭКСГАУСТЕР А/М №4_МАСЛОНАСОС РАБОЧИЙ ЭКСГ. №4</th>\n",
       "      <th>Y_ЭКСГАУСТЕР А/М №4_ЭЛЕКТРОАППАРАТУРА ЭКСГ. №4</th>\n",
       "      <th>Y_ЭКСГАУСТЕР А/М №4_ПОДШИПНИК ОПОРНЫЙ №2 ЭКСГ. №4</th>\n",
       "      <th>Y_ЭКСГАУСТЕР А/М №4_ЗАДВИЖКА ЭКСГ. №4</th>\n",
       "      <th>Y_ЭКСГАУСТЕР А/М №4_ГСМ ЭКСГ. №4</th>\n",
       "      <th>Y_ЭКСГАУСТЕР А/М №4_ВК 310С ВИБРОПРЕОБРАЗОВАТЕЛЬ ЭКСГ.№4 Т.1</th>\n",
       "      <th>...</th>\n",
       "      <th>Y_ЭКСГАУСТЕР А/М №4_ПОДШИПНИК ОПОРНО-УПОРНЫЙ ЭКСГ. №4</th>\n",
       "      <th>Y_ЭКСГАУСТЕР А/М №4_ЭКСГАУСТЕР А/М №4</th>\n",
       "      <th>Y_ЭКСГАУСТЕР А/М №4_ЗАП. И РЕГ. АРМАТУРА ЭКСГ.№4</th>\n",
       "      <th>Y_ЭКСГАУСТЕР А/М №4_ПОДШИПНИК ОПОРНЫЙ №1 ЭКСГ. №4</th>\n",
       "      <th>Y_ЭКСГАУСТЕР А/М №4_ЭЛ/ДВИГАТЕЛЬ ГАЗ. ЗАДВИЖКИ ЭКСГ. №4</th>\n",
       "      <th>Y_ЭКСГАУСТЕР А/М №4_КЛ1 ТР№4 ДО ЭД ЭКСГАУСТЕРА №4</th>\n",
       "      <th>Y_ЭКСГАУСТЕР А/М №4_КЛ2 ТР№4 ДО ЭД ЭКСГАУСТЕРА №4</th>\n",
       "      <th>Y_ЭКСГАУСТЕР А/М №4_ТР-Р ТМ-4000-10/6 ЭКСГ. №4</th>\n",
       "      <th>Y_ЭКСГАУСТЕР А/М №4_ТИРИСТ. ВОЗБУДИТЕЛЬ ВТ-РЭМ-400 ЭКСГ4 ВУ1</th>\n",
       "      <th>Y_ЭКСГАУСТЕР А/М №4_МАСЛОПРОВОДЫ ЭКСГ №4</th>\n",
       "    </tr>\n",
       "    <tr>\n",
       "      <th>DT</th>\n",
       "      <th></th>\n",
       "      <th></th>\n",
       "      <th></th>\n",
       "      <th></th>\n",
       "      <th></th>\n",
       "      <th></th>\n",
       "      <th></th>\n",
       "      <th></th>\n",
       "      <th></th>\n",
       "      <th></th>\n",
       "      <th></th>\n",
       "      <th></th>\n",
       "      <th></th>\n",
       "      <th></th>\n",
       "      <th></th>\n",
       "      <th></th>\n",
       "      <th></th>\n",
       "      <th></th>\n",
       "      <th></th>\n",
       "      <th></th>\n",
       "      <th></th>\n",
       "    </tr>\n",
       "  </thead>\n",
       "  <tbody>\n",
       "    <tr>\n",
       "      <th>2019-01-16 13:21:00</th>\n",
       "      <td>0.0</td>\n",
       "      <td>0.0</td>\n",
       "      <td>0.0</td>\n",
       "      <td>0.0</td>\n",
       "      <td>0.0</td>\n",
       "      <td>0.0</td>\n",
       "      <td>0.0</td>\n",
       "      <td>0.0</td>\n",
       "      <td>0.0</td>\n",
       "      <td>0.0</td>\n",
       "      <td>...</td>\n",
       "      <td>0.0</td>\n",
       "      <td>0.0</td>\n",
       "      <td>0.0</td>\n",
       "      <td>0.0</td>\n",
       "      <td>0.0</td>\n",
       "      <td>0.0</td>\n",
       "      <td>0.0</td>\n",
       "      <td>0.0</td>\n",
       "      <td>0.0</td>\n",
       "      <td>0.0</td>\n",
       "    </tr>\n",
       "    <tr>\n",
       "      <th>2019-01-16 13:21:10</th>\n",
       "      <td>0.0</td>\n",
       "      <td>0.0</td>\n",
       "      <td>0.0</td>\n",
       "      <td>0.0</td>\n",
       "      <td>0.0</td>\n",
       "      <td>0.0</td>\n",
       "      <td>0.0</td>\n",
       "      <td>0.0</td>\n",
       "      <td>0.0</td>\n",
       "      <td>0.0</td>\n",
       "      <td>...</td>\n",
       "      <td>0.0</td>\n",
       "      <td>0.0</td>\n",
       "      <td>0.0</td>\n",
       "      <td>0.0</td>\n",
       "      <td>0.0</td>\n",
       "      <td>0.0</td>\n",
       "      <td>0.0</td>\n",
       "      <td>0.0</td>\n",
       "      <td>0.0</td>\n",
       "      <td>0.0</td>\n",
       "    </tr>\n",
       "    <tr>\n",
       "      <th>2019-01-16 13:21:20</th>\n",
       "      <td>0.0</td>\n",
       "      <td>0.0</td>\n",
       "      <td>0.0</td>\n",
       "      <td>0.0</td>\n",
       "      <td>0.0</td>\n",
       "      <td>0.0</td>\n",
       "      <td>0.0</td>\n",
       "      <td>0.0</td>\n",
       "      <td>0.0</td>\n",
       "      <td>0.0</td>\n",
       "      <td>...</td>\n",
       "      <td>0.0</td>\n",
       "      <td>0.0</td>\n",
       "      <td>0.0</td>\n",
       "      <td>0.0</td>\n",
       "      <td>0.0</td>\n",
       "      <td>0.0</td>\n",
       "      <td>0.0</td>\n",
       "      <td>0.0</td>\n",
       "      <td>0.0</td>\n",
       "      <td>0.0</td>\n",
       "    </tr>\n",
       "    <tr>\n",
       "      <th>2019-01-16 13:21:30</th>\n",
       "      <td>0.0</td>\n",
       "      <td>0.0</td>\n",
       "      <td>0.0</td>\n",
       "      <td>0.0</td>\n",
       "      <td>0.0</td>\n",
       "      <td>0.0</td>\n",
       "      <td>0.0</td>\n",
       "      <td>0.0</td>\n",
       "      <td>0.0</td>\n",
       "      <td>0.0</td>\n",
       "      <td>...</td>\n",
       "      <td>0.0</td>\n",
       "      <td>0.0</td>\n",
       "      <td>0.0</td>\n",
       "      <td>0.0</td>\n",
       "      <td>0.0</td>\n",
       "      <td>0.0</td>\n",
       "      <td>0.0</td>\n",
       "      <td>0.0</td>\n",
       "      <td>0.0</td>\n",
       "      <td>0.0</td>\n",
       "    </tr>\n",
       "    <tr>\n",
       "      <th>2019-01-16 13:21:40</th>\n",
       "      <td>0.0</td>\n",
       "      <td>0.0</td>\n",
       "      <td>0.0</td>\n",
       "      <td>0.0</td>\n",
       "      <td>0.0</td>\n",
       "      <td>0.0</td>\n",
       "      <td>0.0</td>\n",
       "      <td>0.0</td>\n",
       "      <td>0.0</td>\n",
       "      <td>0.0</td>\n",
       "      <td>...</td>\n",
       "      <td>0.0</td>\n",
       "      <td>0.0</td>\n",
       "      <td>0.0</td>\n",
       "      <td>0.0</td>\n",
       "      <td>0.0</td>\n",
       "      <td>0.0</td>\n",
       "      <td>0.0</td>\n",
       "      <td>0.0</td>\n",
       "      <td>0.0</td>\n",
       "      <td>0.0</td>\n",
       "    </tr>\n",
       "    <tr>\n",
       "      <th>...</th>\n",
       "      <td>...</td>\n",
       "      <td>...</td>\n",
       "      <td>...</td>\n",
       "      <td>...</td>\n",
       "      <td>...</td>\n",
       "      <td>...</td>\n",
       "      <td>...</td>\n",
       "      <td>...</td>\n",
       "      <td>...</td>\n",
       "      <td>...</td>\n",
       "      <td>...</td>\n",
       "      <td>...</td>\n",
       "      <td>...</td>\n",
       "      <td>...</td>\n",
       "      <td>...</td>\n",
       "      <td>...</td>\n",
       "      <td>...</td>\n",
       "      <td>...</td>\n",
       "      <td>...</td>\n",
       "      <td>...</td>\n",
       "      <td>...</td>\n",
       "    </tr>\n",
       "    <tr>\n",
       "      <th>2021-12-31 23:59:10</th>\n",
       "      <td>2.0</td>\n",
       "      <td>2.0</td>\n",
       "      <td>2.0</td>\n",
       "      <td>0.0</td>\n",
       "      <td>0.0</td>\n",
       "      <td>0.0</td>\n",
       "      <td>0.0</td>\n",
       "      <td>2.0</td>\n",
       "      <td>2.0</td>\n",
       "      <td>0.0</td>\n",
       "      <td>...</td>\n",
       "      <td>2.0</td>\n",
       "      <td>0.0</td>\n",
       "      <td>0.0</td>\n",
       "      <td>0.0</td>\n",
       "      <td>0.0</td>\n",
       "      <td>2.0</td>\n",
       "      <td>2.0</td>\n",
       "      <td>2.0</td>\n",
       "      <td>0.0</td>\n",
       "      <td>0.0</td>\n",
       "    </tr>\n",
       "    <tr>\n",
       "      <th>2021-12-31 23:59:20</th>\n",
       "      <td>2.0</td>\n",
       "      <td>2.0</td>\n",
       "      <td>2.0</td>\n",
       "      <td>0.0</td>\n",
       "      <td>0.0</td>\n",
       "      <td>0.0</td>\n",
       "      <td>0.0</td>\n",
       "      <td>2.0</td>\n",
       "      <td>2.0</td>\n",
       "      <td>0.0</td>\n",
       "      <td>...</td>\n",
       "      <td>2.0</td>\n",
       "      <td>0.0</td>\n",
       "      <td>0.0</td>\n",
       "      <td>0.0</td>\n",
       "      <td>0.0</td>\n",
       "      <td>2.0</td>\n",
       "      <td>2.0</td>\n",
       "      <td>2.0</td>\n",
       "      <td>0.0</td>\n",
       "      <td>0.0</td>\n",
       "    </tr>\n",
       "    <tr>\n",
       "      <th>2021-12-31 23:59:30</th>\n",
       "      <td>2.0</td>\n",
       "      <td>2.0</td>\n",
       "      <td>2.0</td>\n",
       "      <td>0.0</td>\n",
       "      <td>0.0</td>\n",
       "      <td>0.0</td>\n",
       "      <td>0.0</td>\n",
       "      <td>2.0</td>\n",
       "      <td>2.0</td>\n",
       "      <td>0.0</td>\n",
       "      <td>...</td>\n",
       "      <td>2.0</td>\n",
       "      <td>0.0</td>\n",
       "      <td>0.0</td>\n",
       "      <td>0.0</td>\n",
       "      <td>0.0</td>\n",
       "      <td>2.0</td>\n",
       "      <td>2.0</td>\n",
       "      <td>2.0</td>\n",
       "      <td>0.0</td>\n",
       "      <td>0.0</td>\n",
       "    </tr>\n",
       "    <tr>\n",
       "      <th>2021-12-31 23:59:40</th>\n",
       "      <td>2.0</td>\n",
       "      <td>2.0</td>\n",
       "      <td>2.0</td>\n",
       "      <td>0.0</td>\n",
       "      <td>0.0</td>\n",
       "      <td>0.0</td>\n",
       "      <td>0.0</td>\n",
       "      <td>2.0</td>\n",
       "      <td>2.0</td>\n",
       "      <td>0.0</td>\n",
       "      <td>...</td>\n",
       "      <td>2.0</td>\n",
       "      <td>0.0</td>\n",
       "      <td>0.0</td>\n",
       "      <td>0.0</td>\n",
       "      <td>0.0</td>\n",
       "      <td>2.0</td>\n",
       "      <td>2.0</td>\n",
       "      <td>2.0</td>\n",
       "      <td>0.0</td>\n",
       "      <td>0.0</td>\n",
       "    </tr>\n",
       "    <tr>\n",
       "      <th>2021-12-31 23:59:50</th>\n",
       "      <td>2.0</td>\n",
       "      <td>2.0</td>\n",
       "      <td>2.0</td>\n",
       "      <td>0.0</td>\n",
       "      <td>0.0</td>\n",
       "      <td>0.0</td>\n",
       "      <td>0.0</td>\n",
       "      <td>2.0</td>\n",
       "      <td>2.0</td>\n",
       "      <td>0.0</td>\n",
       "      <td>...</td>\n",
       "      <td>2.0</td>\n",
       "      <td>0.0</td>\n",
       "      <td>0.0</td>\n",
       "      <td>0.0</td>\n",
       "      <td>0.0</td>\n",
       "      <td>2.0</td>\n",
       "      <td>2.0</td>\n",
       "      <td>2.0</td>\n",
       "      <td>0.0</td>\n",
       "      <td>0.0</td>\n",
       "    </tr>\n",
       "  </tbody>\n",
       "</table>\n",
       "<p>9335034 rows × 23 columns</p>\n",
       "</div>"
      ],
      "text/plain": [
       "                     Y_ЭКСГАУСТЕР А/М №4_ЭЛЕКТРОДВИГАТЕЛЬ ДСПУ-140-84-4 ЭКСГ. №4  \\\n",
       "DT                                                                                 \n",
       "2019-01-16 13:21:00                                                0.0             \n",
       "2019-01-16 13:21:10                                                0.0             \n",
       "2019-01-16 13:21:20                                                0.0             \n",
       "2019-01-16 13:21:30                                                0.0             \n",
       "2019-01-16 13:21:40                                                0.0             \n",
       "...                                                                ...             \n",
       "2021-12-31 23:59:10                                                2.0             \n",
       "2021-12-31 23:59:20                                                2.0             \n",
       "2021-12-31 23:59:30                                                2.0             \n",
       "2021-12-31 23:59:40                                                2.0             \n",
       "2021-12-31 23:59:50                                                2.0             \n",
       "\n",
       "                     Y_ЭКСГАУСТЕР А/М №4_ПОДШИПНИК ОПОРНЫЙ ЭКСГ. №4  \\\n",
       "DT                                                                    \n",
       "2019-01-16 13:21:00                                             0.0   \n",
       "2019-01-16 13:21:10                                             0.0   \n",
       "2019-01-16 13:21:20                                             0.0   \n",
       "2019-01-16 13:21:30                                             0.0   \n",
       "2019-01-16 13:21:40                                             0.0   \n",
       "...                                                             ...   \n",
       "2021-12-31 23:59:10                                             2.0   \n",
       "2021-12-31 23:59:20                                             2.0   \n",
       "2021-12-31 23:59:30                                             2.0   \n",
       "2021-12-31 23:59:40                                             2.0   \n",
       "2021-12-31 23:59:50                                             2.0   \n",
       "\n",
       "                     Y_ЭКСГАУСТЕР А/М №4_УЛИТА ЭКСГ. №4  \\\n",
       "DT                                                        \n",
       "2019-01-16 13:21:00                                 0.0   \n",
       "2019-01-16 13:21:10                                 0.0   \n",
       "2019-01-16 13:21:20                                 0.0   \n",
       "2019-01-16 13:21:30                                 0.0   \n",
       "2019-01-16 13:21:40                                 0.0   \n",
       "...                                                 ...   \n",
       "2021-12-31 23:59:10                                 2.0   \n",
       "2021-12-31 23:59:20                                 2.0   \n",
       "2021-12-31 23:59:30                                 2.0   \n",
       "2021-12-31 23:59:40                                 2.0   \n",
       "2021-12-31 23:59:50                                 2.0   \n",
       "\n",
       "                     Y_ЭКСГАУСТЕР А/М №4_РЕДУКТОР ГАЗ. ЗАДВИЖКИ ЭКСГ. №4  \\\n",
       "DT                                                                         \n",
       "2019-01-16 13:21:00                                                0.0     \n",
       "2019-01-16 13:21:10                                                0.0     \n",
       "2019-01-16 13:21:20                                                0.0     \n",
       "2019-01-16 13:21:30                                                0.0     \n",
       "2019-01-16 13:21:40                                                0.0     \n",
       "...                                                                ...     \n",
       "2021-12-31 23:59:10                                                0.0     \n",
       "2021-12-31 23:59:20                                                0.0     \n",
       "2021-12-31 23:59:30                                                0.0     \n",
       "2021-12-31 23:59:40                                                0.0     \n",
       "2021-12-31 23:59:50                                                0.0     \n",
       "\n",
       "                     Y_ЭКСГАУСТЕР А/М №4_МАСЛОНАСОС РАБОЧИЙ ЭКСГ. №4  \\\n",
       "DT                                                                     \n",
       "2019-01-16 13:21:00                                              0.0   \n",
       "2019-01-16 13:21:10                                              0.0   \n",
       "2019-01-16 13:21:20                                              0.0   \n",
       "2019-01-16 13:21:30                                              0.0   \n",
       "2019-01-16 13:21:40                                              0.0   \n",
       "...                                                              ...   \n",
       "2021-12-31 23:59:10                                              0.0   \n",
       "2021-12-31 23:59:20                                              0.0   \n",
       "2021-12-31 23:59:30                                              0.0   \n",
       "2021-12-31 23:59:40                                              0.0   \n",
       "2021-12-31 23:59:50                                              0.0   \n",
       "\n",
       "                     Y_ЭКСГАУСТЕР А/М №4_ЭЛЕКТРОАППАРАТУРА ЭКСГ. №4  \\\n",
       "DT                                                                    \n",
       "2019-01-16 13:21:00                                             0.0   \n",
       "2019-01-16 13:21:10                                             0.0   \n",
       "2019-01-16 13:21:20                                             0.0   \n",
       "2019-01-16 13:21:30                                             0.0   \n",
       "2019-01-16 13:21:40                                             0.0   \n",
       "...                                                             ...   \n",
       "2021-12-31 23:59:10                                             0.0   \n",
       "2021-12-31 23:59:20                                             0.0   \n",
       "2021-12-31 23:59:30                                             0.0   \n",
       "2021-12-31 23:59:40                                             0.0   \n",
       "2021-12-31 23:59:50                                             0.0   \n",
       "\n",
       "                     Y_ЭКСГАУСТЕР А/М №4_ПОДШИПНИК ОПОРНЫЙ №2 ЭКСГ. №4  \\\n",
       "DT                                                                       \n",
       "2019-01-16 13:21:00                                                0.0   \n",
       "2019-01-16 13:21:10                                                0.0   \n",
       "2019-01-16 13:21:20                                                0.0   \n",
       "2019-01-16 13:21:30                                                0.0   \n",
       "2019-01-16 13:21:40                                                0.0   \n",
       "...                                                                ...   \n",
       "2021-12-31 23:59:10                                                0.0   \n",
       "2021-12-31 23:59:20                                                0.0   \n",
       "2021-12-31 23:59:30                                                0.0   \n",
       "2021-12-31 23:59:40                                                0.0   \n",
       "2021-12-31 23:59:50                                                0.0   \n",
       "\n",
       "                     Y_ЭКСГАУСТЕР А/М №4_ЗАДВИЖКА ЭКСГ. №4  \\\n",
       "DT                                                           \n",
       "2019-01-16 13:21:00                                    0.0   \n",
       "2019-01-16 13:21:10                                    0.0   \n",
       "2019-01-16 13:21:20                                    0.0   \n",
       "2019-01-16 13:21:30                                    0.0   \n",
       "2019-01-16 13:21:40                                    0.0   \n",
       "...                                                    ...   \n",
       "2021-12-31 23:59:10                                    2.0   \n",
       "2021-12-31 23:59:20                                    2.0   \n",
       "2021-12-31 23:59:30                                    2.0   \n",
       "2021-12-31 23:59:40                                    2.0   \n",
       "2021-12-31 23:59:50                                    2.0   \n",
       "\n",
       "                     Y_ЭКСГАУСТЕР А/М №4_ГСМ ЭКСГ. №4  \\\n",
       "DT                                                      \n",
       "2019-01-16 13:21:00                               0.0   \n",
       "2019-01-16 13:21:10                               0.0   \n",
       "2019-01-16 13:21:20                               0.0   \n",
       "2019-01-16 13:21:30                               0.0   \n",
       "2019-01-16 13:21:40                               0.0   \n",
       "...                                               ...   \n",
       "2021-12-31 23:59:10                               2.0   \n",
       "2021-12-31 23:59:20                               2.0   \n",
       "2021-12-31 23:59:30                               2.0   \n",
       "2021-12-31 23:59:40                               2.0   \n",
       "2021-12-31 23:59:50                               2.0   \n",
       "\n",
       "                     Y_ЭКСГАУСТЕР А/М №4_ВК 310С ВИБРОПРЕОБРАЗОВАТЕЛЬ ЭКСГ.№4 Т.1  \\\n",
       "DT                                                                                  \n",
       "2019-01-16 13:21:00                                                0.0              \n",
       "2019-01-16 13:21:10                                                0.0              \n",
       "2019-01-16 13:21:20                                                0.0              \n",
       "2019-01-16 13:21:30                                                0.0              \n",
       "2019-01-16 13:21:40                                                0.0              \n",
       "...                                                                ...              \n",
       "2021-12-31 23:59:10                                                0.0              \n",
       "2021-12-31 23:59:20                                                0.0              \n",
       "2021-12-31 23:59:30                                                0.0              \n",
       "2021-12-31 23:59:40                                                0.0              \n",
       "2021-12-31 23:59:50                                                0.0              \n",
       "\n",
       "                     ...  \\\n",
       "DT                   ...   \n",
       "2019-01-16 13:21:00  ...   \n",
       "2019-01-16 13:21:10  ...   \n",
       "2019-01-16 13:21:20  ...   \n",
       "2019-01-16 13:21:30  ...   \n",
       "2019-01-16 13:21:40  ...   \n",
       "...                  ...   \n",
       "2021-12-31 23:59:10  ...   \n",
       "2021-12-31 23:59:20  ...   \n",
       "2021-12-31 23:59:30  ...   \n",
       "2021-12-31 23:59:40  ...   \n",
       "2021-12-31 23:59:50  ...   \n",
       "\n",
       "                     Y_ЭКСГАУСТЕР А/М №4_ПОДШИПНИК ОПОРНО-УПОРНЫЙ ЭКСГ. №4  \\\n",
       "DT                                                                           \n",
       "2019-01-16 13:21:00                                                0.0       \n",
       "2019-01-16 13:21:10                                                0.0       \n",
       "2019-01-16 13:21:20                                                0.0       \n",
       "2019-01-16 13:21:30                                                0.0       \n",
       "2019-01-16 13:21:40                                                0.0       \n",
       "...                                                                ...       \n",
       "2021-12-31 23:59:10                                                2.0       \n",
       "2021-12-31 23:59:20                                                2.0       \n",
       "2021-12-31 23:59:30                                                2.0       \n",
       "2021-12-31 23:59:40                                                2.0       \n",
       "2021-12-31 23:59:50                                                2.0       \n",
       "\n",
       "                     Y_ЭКСГАУСТЕР А/М №4_ЭКСГАУСТЕР А/М №4  \\\n",
       "DT                                                           \n",
       "2019-01-16 13:21:00                                    0.0   \n",
       "2019-01-16 13:21:10                                    0.0   \n",
       "2019-01-16 13:21:20                                    0.0   \n",
       "2019-01-16 13:21:30                                    0.0   \n",
       "2019-01-16 13:21:40                                    0.0   \n",
       "...                                                    ...   \n",
       "2021-12-31 23:59:10                                    0.0   \n",
       "2021-12-31 23:59:20                                    0.0   \n",
       "2021-12-31 23:59:30                                    0.0   \n",
       "2021-12-31 23:59:40                                    0.0   \n",
       "2021-12-31 23:59:50                                    0.0   \n",
       "\n",
       "                     Y_ЭКСГАУСТЕР А/М №4_ЗАП. И РЕГ. АРМАТУРА ЭКСГ.№4  \\\n",
       "DT                                                                      \n",
       "2019-01-16 13:21:00                                               0.0   \n",
       "2019-01-16 13:21:10                                               0.0   \n",
       "2019-01-16 13:21:20                                               0.0   \n",
       "2019-01-16 13:21:30                                               0.0   \n",
       "2019-01-16 13:21:40                                               0.0   \n",
       "...                                                               ...   \n",
       "2021-12-31 23:59:10                                               0.0   \n",
       "2021-12-31 23:59:20                                               0.0   \n",
       "2021-12-31 23:59:30                                               0.0   \n",
       "2021-12-31 23:59:40                                               0.0   \n",
       "2021-12-31 23:59:50                                               0.0   \n",
       "\n",
       "                     Y_ЭКСГАУСТЕР А/М №4_ПОДШИПНИК ОПОРНЫЙ №1 ЭКСГ. №4  \\\n",
       "DT                                                                       \n",
       "2019-01-16 13:21:00                                                0.0   \n",
       "2019-01-16 13:21:10                                                0.0   \n",
       "2019-01-16 13:21:20                                                0.0   \n",
       "2019-01-16 13:21:30                                                0.0   \n",
       "2019-01-16 13:21:40                                                0.0   \n",
       "...                                                                ...   \n",
       "2021-12-31 23:59:10                                                0.0   \n",
       "2021-12-31 23:59:20                                                0.0   \n",
       "2021-12-31 23:59:30                                                0.0   \n",
       "2021-12-31 23:59:40                                                0.0   \n",
       "2021-12-31 23:59:50                                                0.0   \n",
       "\n",
       "                     Y_ЭКСГАУСТЕР А/М №4_ЭЛ/ДВИГАТЕЛЬ ГАЗ. ЗАДВИЖКИ ЭКСГ. №4  \\\n",
       "DT                                                                             \n",
       "2019-01-16 13:21:00                                                0.0         \n",
       "2019-01-16 13:21:10                                                0.0         \n",
       "2019-01-16 13:21:20                                                0.0         \n",
       "2019-01-16 13:21:30                                                0.0         \n",
       "2019-01-16 13:21:40                                                0.0         \n",
       "...                                                                ...         \n",
       "2021-12-31 23:59:10                                                0.0         \n",
       "2021-12-31 23:59:20                                                0.0         \n",
       "2021-12-31 23:59:30                                                0.0         \n",
       "2021-12-31 23:59:40                                                0.0         \n",
       "2021-12-31 23:59:50                                                0.0         \n",
       "\n",
       "                     Y_ЭКСГАУСТЕР А/М №4_КЛ1 ТР№4 ДО ЭД ЭКСГАУСТЕРА №4  \\\n",
       "DT                                                                       \n",
       "2019-01-16 13:21:00                                                0.0   \n",
       "2019-01-16 13:21:10                                                0.0   \n",
       "2019-01-16 13:21:20                                                0.0   \n",
       "2019-01-16 13:21:30                                                0.0   \n",
       "2019-01-16 13:21:40                                                0.0   \n",
       "...                                                                ...   \n",
       "2021-12-31 23:59:10                                                2.0   \n",
       "2021-12-31 23:59:20                                                2.0   \n",
       "2021-12-31 23:59:30                                                2.0   \n",
       "2021-12-31 23:59:40                                                2.0   \n",
       "2021-12-31 23:59:50                                                2.0   \n",
       "\n",
       "                     Y_ЭКСГАУСТЕР А/М №4_КЛ2 ТР№4 ДО ЭД ЭКСГАУСТЕРА №4  \\\n",
       "DT                                                                       \n",
       "2019-01-16 13:21:00                                                0.0   \n",
       "2019-01-16 13:21:10                                                0.0   \n",
       "2019-01-16 13:21:20                                                0.0   \n",
       "2019-01-16 13:21:30                                                0.0   \n",
       "2019-01-16 13:21:40                                                0.0   \n",
       "...                                                                ...   \n",
       "2021-12-31 23:59:10                                                2.0   \n",
       "2021-12-31 23:59:20                                                2.0   \n",
       "2021-12-31 23:59:30                                                2.0   \n",
       "2021-12-31 23:59:40                                                2.0   \n",
       "2021-12-31 23:59:50                                                2.0   \n",
       "\n",
       "                     Y_ЭКСГАУСТЕР А/М №4_ТР-Р ТМ-4000-10/6 ЭКСГ. №4  \\\n",
       "DT                                                                    \n",
       "2019-01-16 13:21:00                                             0.0   \n",
       "2019-01-16 13:21:10                                             0.0   \n",
       "2019-01-16 13:21:20                                             0.0   \n",
       "2019-01-16 13:21:30                                             0.0   \n",
       "2019-01-16 13:21:40                                             0.0   \n",
       "...                                                             ...   \n",
       "2021-12-31 23:59:10                                             2.0   \n",
       "2021-12-31 23:59:20                                             2.0   \n",
       "2021-12-31 23:59:30                                             2.0   \n",
       "2021-12-31 23:59:40                                             2.0   \n",
       "2021-12-31 23:59:50                                             2.0   \n",
       "\n",
       "                     Y_ЭКСГАУСТЕР А/М №4_ТИРИСТ. ВОЗБУДИТЕЛЬ ВТ-РЭМ-400 ЭКСГ4 ВУ1  \\\n",
       "DT                                                                                  \n",
       "2019-01-16 13:21:00                                                0.0              \n",
       "2019-01-16 13:21:10                                                0.0              \n",
       "2019-01-16 13:21:20                                                0.0              \n",
       "2019-01-16 13:21:30                                                0.0              \n",
       "2019-01-16 13:21:40                                                0.0              \n",
       "...                                                                ...              \n",
       "2021-12-31 23:59:10                                                0.0              \n",
       "2021-12-31 23:59:20                                                0.0              \n",
       "2021-12-31 23:59:30                                                0.0              \n",
       "2021-12-31 23:59:40                                                0.0              \n",
       "2021-12-31 23:59:50                                                0.0              \n",
       "\n",
       "                     Y_ЭКСГАУСТЕР А/М №4_МАСЛОПРОВОДЫ ЭКСГ №4  \n",
       "DT                                                             \n",
       "2019-01-16 13:21:00                                       0.0  \n",
       "2019-01-16 13:21:10                                       0.0  \n",
       "2019-01-16 13:21:20                                       0.0  \n",
       "2019-01-16 13:21:30                                       0.0  \n",
       "2019-01-16 13:21:40                                       0.0  \n",
       "...                                                       ...  \n",
       "2021-12-31 23:59:10                                       0.0  \n",
       "2021-12-31 23:59:20                                       0.0  \n",
       "2021-12-31 23:59:30                                       0.0  \n",
       "2021-12-31 23:59:40                                       0.0  \n",
       "2021-12-31 23:59:50                                       0.0  \n",
       "\n",
       "[9335034 rows x 23 columns]"
      ]
     },
     "execution_count": 4,
     "metadata": {},
     "output_type": "execute_result"
    }
   ],
   "source": [
    "y_train = pd.read_csv(\"/kaggle/input/y-train-northsteel-instances/y_ЭКСГАУСТЕР АМ 4.csv\", parse_dates=True)\n",
    "y_train = y_train.set_index(\"DT\")\n",
    "y_train"
   ]
  },
  {
   "cell_type": "code",
   "execution_count": 5,
   "id": "fecdfc09",
   "metadata": {
    "execution": {
     "iopub.execute_input": "2023-05-28T20:23:42.544359Z",
     "iopub.status.busy": "2023-05-28T20:23:42.543324Z",
     "iopub.status.idle": "2023-05-28T20:23:45.417695Z",
     "shell.execute_reply": "2023-05-28T20:23:45.416638Z"
    },
    "papermill": {
     "duration": 2.882483,
     "end_time": "2023-05-28T20:23:45.420113",
     "exception": false,
     "start_time": "2023-05-28T20:23:42.537630",
     "status": "completed"
    },
    "tags": []
   },
   "outputs": [
    {
     "name": "stdout",
     "output_type": "stream",
     "text": [
      "Y_ЭКСГАУСТЕР А/М №4_ЭЛЕКТРОДВИГАТЕЛЬ ДСПУ-140-84-4 ЭКСГ. №4 M1 [0 1]\n",
      "Y_ЭКСГАУСТЕР А/М №4_ЭЛЕКТРОДВИГАТЕЛЬ ДСПУ-140-84-4 ЭКСГ. №4 M3 [0 1]\n",
      "Y_ЭКСГАУСТЕР А/М №4_ПОДШИПНИК ОПОРНЫЙ ЭКСГ. №4 M1 [0]\n",
      "Y_ЭКСГАУСТЕР А/М №4_ПОДШИПНИК ОПОРНЫЙ ЭКСГ. №4 M3 [0 1]\n",
      "Y_ЭКСГАУСТЕР А/М №4_УЛИТА ЭКСГ. №4 M1 [0]\n",
      "Y_ЭКСГАУСТЕР А/М №4_УЛИТА ЭКСГ. №4 M3 [0 1]\n",
      "Y_ЭКСГАУСТЕР А/М №4_РЕДУКТОР ГАЗ. ЗАДВИЖКИ ЭКСГ. №4 M1 [0 1]\n",
      "Y_ЭКСГАУСТЕР А/М №4_РЕДУКТОР ГАЗ. ЗАДВИЖКИ ЭКСГ. №4 M3 [0 1]\n",
      "Y_ЭКСГАУСТЕР А/М №4_МАСЛОНАСОС РАБОЧИЙ ЭКСГ. №4 M1 [0]\n",
      "Y_ЭКСГАУСТЕР А/М №4_МАСЛОНАСОС РАБОЧИЙ ЭКСГ. №4 M3 [0 1]\n",
      "Y_ЭКСГАУСТЕР А/М №4_ЭЛЕКТРОАППАРАТУРА ЭКСГ. №4 M1 [0 1]\n",
      "Y_ЭКСГАУСТЕР А/М №4_ЭЛЕКТРОАППАРАТУРА ЭКСГ. №4 M3 [0 1]\n",
      "Y_ЭКСГАУСТЕР А/М №4_ПОДШИПНИК ОПОРНЫЙ №2 ЭКСГ. №4 M1 [0 1]\n",
      "Y_ЭКСГАУСТЕР А/М №4_ПОДШИПНИК ОПОРНЫЙ №2 ЭКСГ. №4 M3 [0 1]\n",
      "Y_ЭКСГАУСТЕР А/М №4_ЗАДВИЖКА ЭКСГ. №4 M1 [0 1]\n",
      "Y_ЭКСГАУСТЕР А/М №4_ЗАДВИЖКА ЭКСГ. №4 M3 [0 1]\n",
      "Y_ЭКСГАУСТЕР А/М №4_ГСМ ЭКСГ. №4 M1 [0]\n",
      "Y_ЭКСГАУСТЕР А/М №4_ГСМ ЭКСГ. №4 M3 [0 1]\n",
      "Y_ЭКСГАУСТЕР А/М №4_ВК 310С ВИБРОПРЕОБРАЗОВАТЕЛЬ ЭКСГ.№4 Т.1 M1 [0]\n",
      "Y_ЭКСГАУСТЕР А/М №4_ВК 310С ВИБРОПРЕОБРАЗОВАТЕЛЬ ЭКСГ.№4 Т.1 M3 [0 1]\n",
      "Y_ЭКСГАУСТЕР А/М №4_ТСМТ-101-010-50М-400 ТЕРМОПР.ПОДШ.Т.1 M1 [0]\n",
      "Y_ЭКСГАУСТЕР А/М №4_ТСМТ-101-010-50М-400 ТЕРМОПР.ПОДШ.Т.1 M3 [0 1]\n",
      "Y_ЭКСГАУСТЕР А/М №4_РОТОР ЭКСГ. №4 M1 [0 1]\n",
      "Y_ЭКСГАУСТЕР А/М №4_РОТОР ЭКСГ. №4 M3 [0 1]\n",
      "Y_ЭКСГАУСТЕР А/М №4_МАСЛООХЛАДИТЕЛЬ  М-05-1 ЭКСГ. №4 M1 [0]\n",
      "Y_ЭКСГАУСТЕР А/М №4_МАСЛООХЛАДИТЕЛЬ  М-05-1 ЭКСГ. №4 M3 [0 1]\n",
      "Y_ЭКСГАУСТЕР А/М №4_ПОДШИПНИК ОПОРНО-УПОРНЫЙ ЭКСГ. №4 M1 [0 1]\n",
      "Y_ЭКСГАУСТЕР А/М №4_ПОДШИПНИК ОПОРНО-УПОРНЫЙ ЭКСГ. №4 M3 [0 1]\n",
      "Y_ЭКСГАУСТЕР А/М №4_ЭКСГАУСТЕР А/М №4 M1 [0 1]\n",
      "Y_ЭКСГАУСТЕР А/М №4_ЭКСГАУСТЕР А/М №4 M3 [0]\n",
      "Y_ЭКСГАУСТЕР А/М №4_ЗАП. И РЕГ. АРМАТУРА ЭКСГ.№4 M1 [0]\n",
      "Y_ЭКСГАУСТЕР А/М №4_ЗАП. И РЕГ. АРМАТУРА ЭКСГ.№4 M3 [0 1]\n",
      "Y_ЭКСГАУСТЕР А/М №4_ПОДШИПНИК ОПОРНЫЙ №1 ЭКСГ. №4 M1 [0]\n",
      "Y_ЭКСГАУСТЕР А/М №4_ПОДШИПНИК ОПОРНЫЙ №1 ЭКСГ. №4 M3 [0 1]\n",
      "Y_ЭКСГАУСТЕР А/М №4_ЭЛ/ДВИГАТЕЛЬ ГАЗ. ЗАДВИЖКИ ЭКСГ. №4 M1 [0]\n",
      "Y_ЭКСГАУСТЕР А/М №4_ЭЛ/ДВИГАТЕЛЬ ГАЗ. ЗАДВИЖКИ ЭКСГ. №4 M3 [0 1]\n",
      "Y_ЭКСГАУСТЕР А/М №4_КЛ1 ТР№4 ДО ЭД ЭКСГАУСТЕРА №4 M1 [0]\n",
      "Y_ЭКСГАУСТЕР А/М №4_КЛ1 ТР№4 ДО ЭД ЭКСГАУСТЕРА №4 M3 [0 1]\n",
      "Y_ЭКСГАУСТЕР А/М №4_КЛ2 ТР№4 ДО ЭД ЭКСГАУСТЕРА №4 M1 [0]\n",
      "Y_ЭКСГАУСТЕР А/М №4_КЛ2 ТР№4 ДО ЭД ЭКСГАУСТЕРА №4 M3 [0 1]\n",
      "Y_ЭКСГАУСТЕР А/М №4_ТР-Р ТМ-4000-10/6 ЭКСГ. №4 M1 [0]\n",
      "Y_ЭКСГАУСТЕР А/М №4_ТР-Р ТМ-4000-10/6 ЭКСГ. №4 M3 [0 1]\n",
      "Y_ЭКСГАУСТЕР А/М №4_ТИРИСТ. ВОЗБУДИТЕЛЬ ВТ-РЭМ-400 ЭКСГ4 ВУ1 M1 [0]\n",
      "Y_ЭКСГАУСТЕР А/М №4_ТИРИСТ. ВОЗБУДИТЕЛЬ ВТ-РЭМ-400 ЭКСГ4 ВУ1 M3 [0 1]\n",
      "Y_ЭКСГАУСТЕР А/М №4_МАСЛОПРОВОДЫ ЭКСГ №4 M1 [0]\n",
      "Y_ЭКСГАУСТЕР А/М №4_МАСЛОПРОВОДЫ ЭКСГ №4 M3 [0]\n"
     ]
    }
   ],
   "source": [
    "for col in y_train.columns:\n",
    "    if not ((col[-2:] == \"M1\") or (col[-2:] ==\"M3\")):\n",
    "        y_train[col+\" M1\"] = 1*(y_train[col]==1)\n",
    "        y_train[col+\" M3\"] = 1*(y_train[col]==2)\n",
    "        del y_train[col]\n",
    "for col in y_train.columns:\n",
    "    print(col, y_train[col].unique())"
   ]
  },
  {
   "cell_type": "code",
   "execution_count": 6,
   "id": "b89be642",
   "metadata": {
    "execution": {
     "iopub.execute_input": "2023-05-28T20:23:45.432010Z",
     "iopub.status.busy": "2023-05-28T20:23:45.431643Z",
     "iopub.status.idle": "2023-05-28T20:24:21.785640Z",
     "shell.execute_reply": "2023-05-28T20:24:21.784601Z"
    },
    "papermill": {
     "duration": 36.366957,
     "end_time": "2023-05-28T20:24:21.792298",
     "exception": false,
     "start_time": "2023-05-28T20:23:45.425341",
     "status": "completed"
    },
    "tags": []
   },
   "outputs": [
    {
     "data": {
      "text/plain": [
       "array([Timestamp('2019-01-16 13:21:00'), Timestamp('2019-01-16 13:21:10'),\n",
       "       Timestamp('2019-01-16 13:21:20'), ...,\n",
       "       Timestamp('2021-12-31 23:59:30'), Timestamp('2021-12-31 23:59:40'),\n",
       "       Timestamp('2021-12-31 23:59:50')], dtype=object)"
      ]
     },
     "execution_count": 6,
     "metadata": {},
     "output_type": "execute_result"
    }
   ],
   "source": [
    "for i,x in enumerate(y_train.index.values):\n",
    "    y_train.index.values[i] = pd.Timestamp(y_train.index.values[i])\n",
    "y_train.index.values"
   ]
  },
  {
   "cell_type": "code",
   "execution_count": 7,
   "id": "04f8b55a",
   "metadata": {
    "execution": {
     "iopub.execute_input": "2023-05-28T20:24:21.807385Z",
     "iopub.status.busy": "2023-05-28T20:24:21.805858Z",
     "iopub.status.idle": "2023-05-28T20:24:57.168263Z",
     "shell.execute_reply": "2023-05-28T20:24:57.166789Z"
    },
    "papermill": {
     "duration": 35.37173,
     "end_time": "2023-05-28T20:24:57.170539",
     "exception": false,
     "start_time": "2023-05-28T20:24:21.798809",
     "status": "completed"
    },
    "tags": []
   },
   "outputs": [],
   "source": [
    "shifted = y_train.index.values+pd.Timedelta(minutes = 45)"
   ]
  },
  {
   "cell_type": "code",
   "execution_count": 8,
   "id": "6df0c5b4",
   "metadata": {
    "execution": {
     "iopub.execute_input": "2023-05-28T20:24:57.185004Z",
     "iopub.status.busy": "2023-05-28T20:24:57.184636Z",
     "iopub.status.idle": "2023-05-28T20:26:38.433931Z",
     "shell.execute_reply": "2023-05-28T20:26:38.432943Z"
    },
    "papermill": {
     "duration": 101.26171,
     "end_time": "2023-05-28T20:26:38.438879",
     "exception": false,
     "start_time": "2023-05-28T20:24:57.177169",
     "status": "completed"
    },
    "tags": []
   },
   "outputs": [],
   "source": [
    "\n",
    "index = sorted(set(shifted).intersection(X_train.index.values))\n",
    "y_train = y_train.loc[index]\n",
    "y_train = y_train.dropna()\n",
    "index = y_train.index.values\n",
    "X_train = X_train.loc[index]"
   ]
  },
  {
   "cell_type": "code",
   "execution_count": 9,
   "id": "c975ac17",
   "metadata": {
    "execution": {
     "iopub.execute_input": "2023-05-28T20:26:38.456298Z",
     "iopub.status.busy": "2023-05-28T20:26:38.455028Z",
     "iopub.status.idle": "2023-05-28T20:26:38.462615Z",
     "shell.execute_reply": "2023-05-28T20:26:38.461636Z"
    },
    "papermill": {
     "duration": 0.017335,
     "end_time": "2023-05-28T20:26:38.464740",
     "exception": false,
     "start_time": "2023-05-28T20:26:38.447405",
     "status": "completed"
    },
    "tags": []
   },
   "outputs": [
    {
     "data": {
      "text/plain": [
       "array([Timestamp('2019-01-16 14:06:00'), Timestamp('2019-01-16 14:06:10'),\n",
       "       Timestamp('2019-01-16 14:06:20'), ...,\n",
       "       Timestamp('2022-01-01 00:44:30'), Timestamp('2022-01-01 00:44:40'),\n",
       "       Timestamp('2022-01-01 00:44:50')], dtype=object)"
      ]
     },
     "execution_count": 9,
     "metadata": {},
     "output_type": "execute_result"
    }
   ],
   "source": [
    "shifted"
   ]
  },
  {
   "cell_type": "code",
   "execution_count": 10,
   "id": "21b6376b",
   "metadata": {
    "execution": {
     "iopub.execute_input": "2023-05-28T20:26:38.478059Z",
     "iopub.status.busy": "2023-05-28T20:26:38.477638Z",
     "iopub.status.idle": "2023-05-28T20:26:38.485982Z",
     "shell.execute_reply": "2023-05-28T20:26:38.484521Z"
    },
    "papermill": {
     "duration": 0.017613,
     "end_time": "2023-05-28T20:26:38.488185",
     "exception": false,
     "start_time": "2023-05-28T20:26:38.470572",
     "status": "completed"
    },
    "tags": []
   },
   "outputs": [
    {
     "data": {
      "text/plain": [
       "array([Timestamp('2019-01-16 14:06:00'), Timestamp('2019-01-16 14:06:10'),\n",
       "       Timestamp('2019-01-16 14:06:20'), ...,\n",
       "       Timestamp('2021-06-21 19:43:00'), Timestamp('2021-07-01 23:41:10'),\n",
       "       Timestamp('2021-09-17 14:14:30')], dtype=object)"
      ]
     },
     "execution_count": 10,
     "metadata": {},
     "output_type": "execute_result"
    }
   ],
   "source": [
    "X_train.index.values"
   ]
  },
  {
   "cell_type": "code",
   "execution_count": 11,
   "id": "a35b3c01",
   "metadata": {
    "execution": {
     "iopub.execute_input": "2023-05-28T20:26:38.502030Z",
     "iopub.status.busy": "2023-05-28T20:26:38.501628Z",
     "iopub.status.idle": "2023-05-28T20:26:38.508259Z",
     "shell.execute_reply": "2023-05-28T20:26:38.506660Z"
    },
    "papermill": {
     "duration": 0.016755,
     "end_time": "2023-05-28T20:26:38.510874",
     "exception": false,
     "start_time": "2023-05-28T20:26:38.494119",
     "status": "completed"
    },
    "tags": []
   },
   "outputs": [],
   "source": [
    "def featurize(df):\n",
    "    return df"
   ]
  },
  {
   "cell_type": "code",
   "execution_count": 12,
   "id": "3b33d93b",
   "metadata": {
    "execution": {
     "iopub.execute_input": "2023-05-28T20:26:38.524914Z",
     "iopub.status.busy": "2023-05-28T20:26:38.524526Z",
     "iopub.status.idle": "2023-05-28T20:52:08.057754Z",
     "shell.execute_reply": "2023-05-28T20:52:08.056247Z"
    },
    "papermill": {
     "duration": 1529.543456,
     "end_time": "2023-05-28T20:52:08.060249",
     "exception": false,
     "start_time": "2023-05-28T20:26:38.516793",
     "status": "completed"
    },
    "tags": []
   },
   "outputs": [
    {
     "data": {
      "application/vnd.jupyter.widget-view+json": {
       "model_id": "6058599c478e4d98a5492b4f18d394fc",
       "version_major": 2,
       "version_minor": 0
      },
      "text/plain": [
       "MetricVisualizer(layout=Layout(align_self='stretch', height='500px'))"
      ]
     },
     "metadata": {},
     "output_type": "display_data"
    },
    {
     "name": "stdout",
     "output_type": "stream",
     "text": [
      "0:\tlearn: 0.6613840\ttest: 0.6636629\tbest: 0.6636629 (0)\ttotal: 441ms\tremaining: 43.7s\n",
      "50:\tlearn: 0.1134294\ttest: 0.1146941\tbest: 0.1146941 (50)\ttotal: 19.3s\tremaining: 18.5s\n",
      "99:\tlearn: 0.0249922\ttest: 0.0255479\tbest: 0.0255479 (99)\ttotal: 36.8s\tremaining: 0us\n",
      "\n",
      "bestTest = 0.02554794298\n",
      "bestIteration = 99\n",
      "\n",
      "                                           0\n",
      "ТОК РОТОРА 1                        0.620131\n",
      "ТОК РОТОРА 2                        1.662079\n",
      "ТОК СТАТОРА                         0.342515\n",
      "ВИБРАЦИЯ НА ОПОРЕ 1                 2.807075\n",
      "ВИБРАЦИЯ НА ОПОРЕ 2                 4.044144\n",
      "ВИБРАЦИЯ НА ОПОРЕ 3                 5.867884\n",
      "ВИБРАЦИЯ НА ОПОРЕ 3. ПРОДОЛЬНАЯ     2.553654\n",
      "ВИБРАЦИЯ НА ОПОРЕ 4                 7.348842\n",
      "ВИБРАЦИЯ НА ОПОРЕ 4. ПРОДОЛЬНАЯ     1.688019\n",
      "ТЕМПЕРАТУРА ПОДШИПНИКА НА ОПОРЕ 1   5.043835\n",
      "ТЕМПЕРАТУРА ПОДШИПНИКА НА ОПОРЕ 2  15.537915\n",
      "ТЕМПЕРАТУРА ПОДШИПНИКА НА ОПОРЕ 3  30.681264\n",
      "ТЕМПЕРАТУРА ПОДШИПНИКА НА ОПОРЕ 4   5.131376\n",
      "ТЕМПЕРАТУРА МАСЛА В МАСЛОБЛОКЕ      3.267610\n",
      "ТЕМПЕРАТУРА МАСЛА В СИСТЕМЕ         6.895878\n",
      "ДАВЛЕНИЕ МАСЛА В СИСТЕМЕ            6.507779\n",
      "Y_ЭКСГАУСТЕР А/М №4_ЭЛЕКТРОДВИГАТЕЛЬ ДСПУ-140-84-4 ЭКСГ. №4 M1 0.6666666666666666 2 0 1\n"
     ]
    },
    {
     "data": {
      "application/vnd.jupyter.widget-view+json": {
       "model_id": "2b97b65ca89340b891dadf1bc9c5cf7f",
       "version_major": 2,
       "version_minor": 0
      },
      "text/plain": [
       "MetricVisualizer(layout=Layout(align_self='stretch', height='500px'))"
      ]
     },
     "metadata": {},
     "output_type": "display_data"
    },
    {
     "name": "stdout",
     "output_type": "stream",
     "text": [
      "0:\tlearn: 0.6721752\ttest: 0.6726367\tbest: 0.6726367 (0)\ttotal: 386ms\tremaining: 38.2s\n",
      "50:\tlearn: 0.2500608\ttest: 0.2651689\tbest: 0.2651689 (50)\ttotal: 18.3s\tremaining: 17.6s\n",
      "99:\tlearn: 0.1440055\ttest: 0.1568911\tbest: 0.1568911 (99)\ttotal: 36.2s\tremaining: 0us\n",
      "\n",
      "bestTest = 0.1568910627\n",
      "bestIteration = 99\n",
      "\n",
      "                                           0\n",
      "ТОК РОТОРА 1                        9.477964\n",
      "ТОК РОТОРА 2                       10.457672\n",
      "ТОК СТАТОРА                         1.780105\n",
      "ВИБРАЦИЯ НА ОПОРЕ 1                 0.569548\n",
      "ВИБРАЦИЯ НА ОПОРЕ 2                 0.739389\n",
      "ВИБРАЦИЯ НА ОПОРЕ 3                 2.746140\n",
      "ВИБРАЦИЯ НА ОПОРЕ 3. ПРОДОЛЬНАЯ     9.346242\n",
      "ВИБРАЦИЯ НА ОПОРЕ 4                 7.180958\n",
      "ВИБРАЦИЯ НА ОПОРЕ 4. ПРОДОЛЬНАЯ     6.240079\n",
      "ТЕМПЕРАТУРА ПОДШИПНИКА НА ОПОРЕ 1   2.330912\n",
      "ТЕМПЕРАТУРА ПОДШИПНИКА НА ОПОРЕ 2  12.913792\n",
      "ТЕМПЕРАТУРА ПОДШИПНИКА НА ОПОРЕ 3   1.814450\n",
      "ТЕМПЕРАТУРА ПОДШИПНИКА НА ОПОРЕ 4   0.430910\n",
      "ТЕМПЕРАТУРА МАСЛА В МАСЛОБЛОКЕ      0.000000\n",
      "ТЕМПЕРАТУРА МАСЛА В СИСТЕМЕ        25.315572\n",
      "ДАВЛЕНИЕ МАСЛА В СИСТЕМЕ            8.656269\n",
      "Y_ЭКСГАУСТЕР А/М №4_ЭЛЕКТРОДВИГАТЕЛЬ ДСПУ-140-84-4 ЭКСГ. №4 M3 0.9620333263024679 4561 43 137\n"
     ]
    },
    {
     "data": {
      "application/vnd.jupyter.widget-view+json": {
       "model_id": "3f080185d22c4032b1538b6a256b7863",
       "version_major": 2,
       "version_minor": 0
      },
      "text/plain": [
       "MetricVisualizer(layout=Layout(align_self='stretch', height='500px'))"
      ]
     },
     "metadata": {},
     "output_type": "display_data"
    },
    {
     "name": "stdout",
     "output_type": "stream",
     "text": [
      "0:\tlearn: 0.6749040\ttest: 0.6749312\tbest: 0.6749312 (0)\ttotal: 405ms\tremaining: 40.1s\n",
      "50:\tlearn: 0.2758516\ttest: 0.2817426\tbest: 0.2817426 (50)\ttotal: 18.5s\tremaining: 17.8s\n",
      "99:\tlearn: 0.1633787\ttest: 0.1681121\tbest: 0.1681121 (99)\ttotal: 36.8s\tremaining: 0us\n",
      "\n",
      "bestTest = 0.1681121037\n",
      "bestIteration = 99\n",
      "\n",
      "                                           0\n",
      "ТОК РОТОРА 1                        6.315384\n",
      "ТОК РОТОРА 2                        9.338769\n",
      "ТОК СТАТОРА                         2.125949\n",
      "ВИБРАЦИЯ НА ОПОРЕ 1                 0.658738\n",
      "ВИБРАЦИЯ НА ОПОРЕ 2                 1.753530\n",
      "ВИБРАЦИЯ НА ОПОРЕ 3                 0.486690\n",
      "ВИБРАЦИЯ НА ОПОРЕ 3. ПРОДОЛЬНАЯ     4.701433\n",
      "ВИБРАЦИЯ НА ОПОРЕ 4                 6.695836\n",
      "ВИБРАЦИЯ НА ОПОРЕ 4. ПРОДОЛЬНАЯ    15.261875\n",
      "ТЕМПЕРАТУРА ПОДШИПНИКА НА ОПОРЕ 1   4.674928\n",
      "ТЕМПЕРАТУРА ПОДШИПНИКА НА ОПОРЕ 2  14.904231\n",
      "ТЕМПЕРАТУРА ПОДШИПНИКА НА ОПОРЕ 3   4.197260\n",
      "ТЕМПЕРАТУРА ПОДШИПНИКА НА ОПОРЕ 4   0.000000\n",
      "ТЕМПЕРАТУРА МАСЛА В МАСЛОБЛОКЕ      0.000000\n",
      "ТЕМПЕРАТУРА МАСЛА В СИСТЕМЕ        20.153482\n",
      "ДАВЛЕНИЕ МАСЛА В СИСТЕМЕ            8.731896\n",
      "Y_ЭКСГАУСТЕР А/М №4_ПОДШИПНИК ОПОРНЫЙ ЭКСГ. №4 M3 0.9540403089093992 5065 154 90\n"
     ]
    },
    {
     "data": {
      "application/vnd.jupyter.widget-view+json": {
       "model_id": "4fca74b8675940a39ecc3775317e2b15",
       "version_major": 2,
       "version_minor": 0
      },
      "text/plain": [
       "MetricVisualizer(layout=Layout(align_self='stretch', height='500px'))"
      ]
     },
     "metadata": {},
     "output_type": "display_data"
    },
    {
     "name": "stdout",
     "output_type": "stream",
     "text": [
      "0:\tlearn: 0.6663731\ttest: 0.6673984\tbest: 0.6673984 (0)\ttotal: 430ms\tremaining: 42.6s\n",
      "50:\tlearn: 0.1732357\ttest: 0.1700091\tbest: 0.1700091 (50)\ttotal: 21.5s\tremaining: 20.7s\n",
      "99:\tlearn: 0.0797278\ttest: 0.0776738\tbest: 0.0776738 (99)\ttotal: 41.3s\tremaining: 0us\n",
      "\n",
      "bestTest = 0.07767384475\n",
      "bestIteration = 99\n",
      "\n",
      "                                           0\n",
      "ТОК РОТОРА 1                        1.591959\n",
      "ТОК РОТОРА 2                        1.393409\n",
      "ТОК СТАТОРА                         0.570064\n",
      "ВИБРАЦИЯ НА ОПОРЕ 1                18.513532\n",
      "ВИБРАЦИЯ НА ОПОРЕ 2                 1.097413\n",
      "ВИБРАЦИЯ НА ОПОРЕ 3                 2.550120\n",
      "ВИБРАЦИЯ НА ОПОРЕ 3. ПРОДОЛЬНАЯ    10.145199\n",
      "ВИБРАЦИЯ НА ОПОРЕ 4                 5.753433\n",
      "ВИБРАЦИЯ НА ОПОРЕ 4. ПРОДОЛЬНАЯ    30.304518\n",
      "ТЕМПЕРАТУРА ПОДШИПНИКА НА ОПОРЕ 1   1.567163\n",
      "ТЕМПЕРАТУРА ПОДШИПНИКА НА ОПОРЕ 2   1.415867\n",
      "ТЕМПЕРАТУРА ПОДШИПНИКА НА ОПОРЕ 3   0.175913\n",
      "ТЕМПЕРАТУРА ПОДШИПНИКА НА ОПОРЕ 4   4.496061\n",
      "ТЕМПЕРАТУРА МАСЛА В МАСЛОБЛОКЕ      1.123523\n",
      "ТЕМПЕРАТУРА МАСЛА В СИСТЕМЕ         2.818779\n",
      "ДАВЛЕНИЕ МАСЛА В СИСТЕМЕ           16.483045\n",
      "Y_ЭКСГАУСТЕР А/М №4_УЛИТА ЭКСГ. №4 M3 0.9824858757062147 8695 119 36\n"
     ]
    },
    {
     "data": {
      "application/vnd.jupyter.widget-view+json": {
       "model_id": "7201baab24cf42b2aa86d108c751b5ee",
       "version_major": 2,
       "version_minor": 0
      },
      "text/plain": [
       "MetricVisualizer(layout=Layout(align_self='stretch', height='500px'))"
      ]
     },
     "metadata": {},
     "output_type": "display_data"
    },
    {
     "name": "stdout",
     "output_type": "stream",
     "text": [
      "0:\tlearn: 0.6733561\ttest: 0.6727528\tbest: 0.6727528 (0)\ttotal: 360ms\tremaining: 35.6s\n",
      "50:\tlearn: 0.2484562\ttest: 0.2495485\tbest: 0.2495485 (50)\ttotal: 18.1s\tremaining: 17.4s\n",
      "99:\tlearn: 0.1531775\ttest: 0.1544305\tbest: 0.1544305 (99)\ttotal: 35.3s\tremaining: 0us\n",
      "\n",
      "bestTest = 0.1544304842\n",
      "bestIteration = 99\n",
      "\n",
      "                                           0\n",
      "ТОК РОТОРА 1                       22.118161\n",
      "ТОК РОТОРА 2                       22.817139\n",
      "ТОК СТАТОРА                         0.393370\n",
      "ВИБРАЦИЯ НА ОПОРЕ 1                11.370685\n",
      "ВИБРАЦИЯ НА ОПОРЕ 2                 3.218661\n",
      "ВИБРАЦИЯ НА ОПОРЕ 3                 1.278205\n",
      "ВИБРАЦИЯ НА ОПОРЕ 3. ПРОДОЛЬНАЯ     5.687436\n",
      "ВИБРАЦИЯ НА ОПОРЕ 4                 3.771845\n",
      "ВИБРАЦИЯ НА ОПОРЕ 4. ПРОДОЛЬНАЯ     3.337409\n",
      "ТЕМПЕРАТУРА ПОДШИПНИКА НА ОПОРЕ 1   8.109864\n",
      "ТЕМПЕРАТУРА ПОДШИПНИКА НА ОПОРЕ 2   1.654203\n",
      "ТЕМПЕРАТУРА ПОДШИПНИКА НА ОПОРЕ 3   0.153102\n",
      "ТЕМПЕРАТУРА ПОДШИПНИКА НА ОПОРЕ 4   1.756894\n",
      "ТЕМПЕРАТУРА МАСЛА В МАСЛОБЛОКЕ      0.027310\n",
      "ТЕМПЕРАТУРА МАСЛА В СИСТЕМЕ         6.250008\n",
      "ДАВЛЕНИЕ МАСЛА В СИСТЕМЕ            8.055706\n",
      "Y_ЭКСГАУСТЕР А/М №4_РЕДУКТОР ГАЗ. ЗАДВИЖКИ ЭКСГ. №4 M3 0.9456397199236155 7428 274 153\n"
     ]
    },
    {
     "data": {
      "application/vnd.jupyter.widget-view+json": {
       "model_id": "1af0d54738774a1693a84d236f3ae2bf",
       "version_major": 2,
       "version_minor": 0
      },
      "text/plain": [
       "MetricVisualizer(layout=Layout(align_self='stretch', height='500px'))"
      ]
     },
     "metadata": {},
     "output_type": "display_data"
    },
    {
     "name": "stdout",
     "output_type": "stream",
     "text": [
      "0:\tlearn: 0.6635952\ttest: 0.6657493\tbest: 0.6657493 (0)\ttotal: 395ms\tremaining: 39.1s\n",
      "50:\tlearn: 0.1445113\ttest: 0.1494744\tbest: 0.1494744 (50)\ttotal: 20.4s\tremaining: 19.6s\n",
      "99:\tlearn: 0.0497847\ttest: 0.0572012\tbest: 0.0572012 (99)\ttotal: 39.8s\tremaining: 0us\n",
      "\n",
      "bestTest = 0.05720117384\n",
      "bestIteration = 99\n",
      "\n",
      "                                           0\n",
      "ТОК РОТОРА 1                       11.121858\n",
      "ТОК РОТОРА 2                       15.244378\n",
      "ТОК СТАТОРА                         0.000000\n",
      "ВИБРАЦИЯ НА ОПОРЕ 1                 1.460573\n",
      "ВИБРАЦИЯ НА ОПОРЕ 2                 1.431952\n",
      "ВИБРАЦИЯ НА ОПОРЕ 3                10.940291\n",
      "ВИБРАЦИЯ НА ОПОРЕ 3. ПРОДОЛЬНАЯ     1.182292\n",
      "ВИБРАЦИЯ НА ОПОРЕ 4                 1.666552\n",
      "ВИБРАЦИЯ НА ОПОРЕ 4. ПРОДОЛЬНАЯ    13.065732\n",
      "ТЕМПЕРАТУРА ПОДШИПНИКА НА ОПОРЕ 1  10.385602\n",
      "ТЕМПЕРАТУРА ПОДШИПНИКА НА ОПОРЕ 2   0.244426\n",
      "ТЕМПЕРАТУРА ПОДШИПНИКА НА ОПОРЕ 3   0.499916\n",
      "ТЕМПЕРАТУРА ПОДШИПНИКА НА ОПОРЕ 4   4.266204\n",
      "ТЕМПЕРАТУРА МАСЛА В МАСЛОБЛОКЕ      0.020639\n",
      "ТЕМПЕРАТУРА МАСЛА В СИСТЕМЕ         1.378445\n",
      "ДАВЛЕНИЕ МАСЛА В СИСТЕМЕ           27.091141\n",
      "Y_ЭКСГАУСТЕР А/М №4_МАСЛОНАСОС РАБОЧИЙ ЭКСГ. №4 M3 0.9523355576739753 999 1 49\n"
     ]
    },
    {
     "data": {
      "application/vnd.jupyter.widget-view+json": {
       "model_id": "8eef4d6a973d4d9c9701eca7c99e048d",
       "version_major": 2,
       "version_minor": 0
      },
      "text/plain": [
       "MetricVisualizer(layout=Layout(align_self='stretch', height='500px'))"
      ]
     },
     "metadata": {},
     "output_type": "display_data"
    },
    {
     "name": "stdout",
     "output_type": "stream",
     "text": [
      "0:\tlearn: 0.6613803\ttest: 0.6635995\tbest: 0.6635995 (0)\ttotal: 329ms\tremaining: 32.6s\n",
      "50:\tlearn: 0.1133367\ttest: 0.1135657\tbest: 0.1135657 (50)\ttotal: 18.8s\tremaining: 18s\n",
      "99:\tlearn: 0.0249524\ttest: 0.0249865\tbest: 0.0249865 (99)\ttotal: 36.8s\tremaining: 0us\n",
      "\n",
      "bestTest = 0.0249864934\n",
      "bestIteration = 99\n",
      "\n",
      "                                          0\n",
      "ТОК РОТОРА 1                       5.901679\n",
      "ТОК РОТОРА 2                       2.752200\n",
      "ТОК СТАТОРА                        5.061881\n",
      "ВИБРАЦИЯ НА ОПОРЕ 1                5.876065\n",
      "ВИБРАЦИЯ НА ОПОРЕ 2                7.404633\n",
      "ВИБРАЦИЯ НА ОПОРЕ 3                8.413171\n",
      "ВИБРАЦИЯ НА ОПОРЕ 3. ПРОДОЛЬНАЯ    8.092945\n",
      "ВИБРАЦИЯ НА ОПОРЕ 4                8.772916\n",
      "ВИБРАЦИЯ НА ОПОРЕ 4. ПРОДОЛЬНАЯ    7.895682\n",
      "ТЕМПЕРАТУРА ПОДШИПНИКА НА ОПОРЕ 1  5.357116\n",
      "ТЕМПЕРАТУРА ПОДШИПНИКА НА ОПОРЕ 2  7.358428\n",
      "ТЕМПЕРАТУРА ПОДШИПНИКА НА ОПОРЕ 3  5.905931\n",
      "ТЕМПЕРАТУРА ПОДШИПНИКА НА ОПОРЕ 4  6.819524\n",
      "ТЕМПЕРАТУРА МАСЛА В МАСЛОБЛОКЕ     5.797572\n",
      "ТЕМПЕРАТУРА МАСЛА В СИСТЕМЕ        3.425452\n",
      "ДАВЛЕНИЕ МАСЛА В СИСТЕМЕ           5.164804\n",
      "Y_ЭКСГАУСТЕР А/М №4_ЭЛЕКТРОАППАРАТУРА ЭКСГ. №4 M1 None 0 0 0\n"
     ]
    },
    {
     "data": {
      "application/vnd.jupyter.widget-view+json": {
       "model_id": "bbc3a14f5bee4d12a03b154900b239be",
       "version_major": 2,
       "version_minor": 0
      },
      "text/plain": [
       "MetricVisualizer(layout=Layout(align_self='stretch', height='500px'))"
      ]
     },
     "metadata": {},
     "output_type": "display_data"
    },
    {
     "name": "stdout",
     "output_type": "stream",
     "text": [
      "0:\tlearn: 0.6634107\ttest: 0.6646174\tbest: 0.6646174 (0)\ttotal: 283ms\tremaining: 28s\n",
      "50:\tlearn: 0.1330382\ttest: 0.1333167\tbest: 0.1333167 (50)\ttotal: 15.3s\tremaining: 14.7s\n",
      "99:\tlearn: 0.0413079\ttest: 0.0427945\tbest: 0.0427945 (99)\ttotal: 30.8s\tremaining: 0us\n",
      "\n",
      "bestTest = 0.04279445258\n",
      "bestIteration = 99\n",
      "\n",
      "                                           0\n",
      "ТОК РОТОРА 1                       28.619577\n",
      "ТОК РОТОРА 2                       38.332515\n",
      "ТОК СТАТОРА                         0.086505\n",
      "ВИБРАЦИЯ НА ОПОРЕ 1                 0.243603\n",
      "ВИБРАЦИЯ НА ОПОРЕ 2                 0.756709\n",
      "ВИБРАЦИЯ НА ОПОРЕ 3                 1.590060\n",
      "ВИБРАЦИЯ НА ОПОРЕ 3. ПРОДОЛЬНАЯ     6.429370\n",
      "ВИБРАЦИЯ НА ОПОРЕ 4                 5.563852\n",
      "ВИБРАЦИЯ НА ОПОРЕ 4. ПРОДОЛЬНАЯ     8.864311\n",
      "ТЕМПЕРАТУРА ПОДШИПНИКА НА ОПОРЕ 1   0.000000\n",
      "ТЕМПЕРАТУРА ПОДШИПНИКА НА ОПОРЕ 2   0.042912\n",
      "ТЕМПЕРАТУРА ПОДШИПНИКА НА ОПОРЕ 3   0.065932\n",
      "ТЕМПЕРАТУРА ПОДШИПНИКА НА ОПОРЕ 4   0.303651\n",
      "ТЕМПЕРАТУРА МАСЛА В МАСЛОБЛОКЕ      0.706920\n",
      "ТЕМПЕРАТУРА МАСЛА В СИСТЕМЕ         3.636578\n",
      "ДАВЛЕНИЕ МАСЛА В СИСТЕМЕ            4.757505\n",
      "Y_ЭКСГАУСТЕР А/М №4_ЭЛЕКТРОАППАРАТУРА ЭКСГ. №4 M3 0.9653679653679653 892 4 28\n"
     ]
    },
    {
     "data": {
      "application/vnd.jupyter.widget-view+json": {
       "model_id": "1d1f9b2d91f74bfe96b99da1d2c84ec7",
       "version_major": 2,
       "version_minor": 0
      },
      "text/plain": [
       "MetricVisualizer(layout=Layout(align_self='stretch', height='500px'))"
      ]
     },
     "metadata": {},
     "output_type": "display_data"
    },
    {
     "name": "stdout",
     "output_type": "stream",
     "text": [
      "0:\tlearn: 0.6613803\ttest: 0.6635996\tbest: 0.6635996 (0)\ttotal: 396ms\tremaining: 39.2s\n",
      "50:\tlearn: 0.1133367\ttest: 0.1135611\tbest: 0.1135611 (50)\ttotal: 18.9s\tremaining: 18.2s\n",
      "99:\tlearn: 0.0249486\ttest: 0.0249833\tbest: 0.0249833 (99)\ttotal: 37.5s\tremaining: 0us\n",
      "\n",
      "bestTest = 0.02498326333\n",
      "bestIteration = 99\n",
      "\n",
      "                                          0\n",
      "ТОК РОТОРА 1                       5.952081\n",
      "ТОК РОТОРА 2                       3.523806\n",
      "ТОК СТАТОРА                        4.691327\n",
      "ВИБРАЦИЯ НА ОПОРЕ 1                5.638248\n",
      "ВИБРАЦИЯ НА ОПОРЕ 2                7.272635\n",
      "ВИБРАЦИЯ НА ОПОРЕ 3                8.518539\n",
      "ВИБРАЦИЯ НА ОПОРЕ 3. ПРОДОЛЬНАЯ    7.889219\n",
      "ВИБРАЦИЯ НА ОПОРЕ 4                9.983708\n",
      "ВИБРАЦИЯ НА ОПОРЕ 4. ПРОДОЛЬНАЯ    7.315380\n",
      "ТЕМПЕРАТУРА ПОДШИПНИКА НА ОПОРЕ 1  5.727454\n",
      "ТЕМПЕРАТУРА ПОДШИПНИКА НА ОПОРЕ 2  6.894666\n",
      "ТЕМПЕРАТУРА ПОДШИПНИКА НА ОПОРЕ 3  5.839032\n",
      "ТЕМПЕРАТУРА ПОДШИПНИКА НА ОПОРЕ 4  6.772433\n",
      "ТЕМПЕРАТУРА МАСЛА В МАСЛОБЛОКЕ     5.512232\n",
      "ТЕМПЕРАТУРА МАСЛА В СИСТЕМЕ        3.409014\n",
      "ДАВЛЕНИЕ МАСЛА В СИСТЕМЕ           5.060224\n",
      "Y_ЭКСГАУСТЕР А/М №4_ПОДШИПНИК ОПОРНЫЙ №2 ЭКСГ. №4 M1 None 0 0 0\n"
     ]
    },
    {
     "data": {
      "application/vnd.jupyter.widget-view+json": {
       "model_id": "04ac84b48f4a4ae895c4cd2a6ccbefa6",
       "version_major": 2,
       "version_minor": 0
      },
      "text/plain": [
       "MetricVisualizer(layout=Layout(align_self='stretch', height='500px'))"
      ]
     },
     "metadata": {},
     "output_type": "display_data"
    },
    {
     "name": "stdout",
     "output_type": "stream",
     "text": [
      "0:\tlearn: 0.6695839\ttest: 0.6688644\tbest: 0.6688644 (0)\ttotal: 425ms\tremaining: 42.1s\n",
      "50:\tlearn: 0.1713921\ttest: 0.1785016\tbest: 0.1785016 (50)\ttotal: 19.7s\tremaining: 18.9s\n",
      "99:\tlearn: 0.0810704\ttest: 0.0895409\tbest: 0.0895409 (99)\ttotal: 36.8s\tremaining: 0us\n",
      "\n",
      "bestTest = 0.08954091265\n",
      "bestIteration = 99\n",
      "\n",
      "                                           0\n",
      "ТОК РОТОРА 1                        7.173315\n",
      "ТОК РОТОРА 2                       10.110586\n",
      "ТОК СТАТОРА                         0.035814\n",
      "ВИБРАЦИЯ НА ОПОРЕ 1                 3.732973\n",
      "ВИБРАЦИЯ НА ОПОРЕ 2                 3.760947\n",
      "ВИБРАЦИЯ НА ОПОРЕ 3                18.576553\n",
      "ВИБРАЦИЯ НА ОПОРЕ 3. ПРОДОЛЬНАЯ     3.447828\n",
      "ВИБРАЦИЯ НА ОПОРЕ 4                 0.000000\n",
      "ВИБРАЦИЯ НА ОПОРЕ 4. ПРОДОЛЬНАЯ     2.545658\n",
      "ТЕМПЕРАТУРА ПОДШИПНИКА НА ОПОРЕ 1   0.875713\n",
      "ТЕМПЕРАТУРА ПОДШИПНИКА НА ОПОРЕ 2  21.498468\n",
      "ТЕМПЕРАТУРА ПОДШИПНИКА НА ОПОРЕ 3   1.496445\n",
      "ТЕМПЕРАТУРА ПОДШИПНИКА НА ОПОРЕ 4   0.000000\n",
      "ТЕМПЕРАТУРА МАСЛА В МАСЛОБЛОКЕ      0.112331\n",
      "ТЕМПЕРАТУРА МАСЛА В СИСТЕМЕ         9.951922\n",
      "ДАВЛЕНИЕ МАСЛА В СИСТЕМЕ           16.681447\n",
      "Y_ЭКСГАУСТЕР А/М №4_ПОДШИПНИК ОПОРНЫЙ №2 ЭКСГ. №4 M3 0.9259259259259259 1325 12 94\n"
     ]
    },
    {
     "data": {
      "application/vnd.jupyter.widget-view+json": {
       "model_id": "552faeccf1104e778c624c7df201ab1c",
       "version_major": 2,
       "version_minor": 0
      },
      "text/plain": [
       "MetricVisualizer(layout=Layout(align_self='stretch', height='500px'))"
      ]
     },
     "metadata": {},
     "output_type": "display_data"
    },
    {
     "name": "stdout",
     "output_type": "stream",
     "text": [
      "0:\tlearn: 0.6614268\ttest: 0.6636072\tbest: 0.6636072 (0)\ttotal: 348ms\tremaining: 34.4s\n",
      "50:\tlearn: 0.1137183\ttest: 0.1136899\tbest: 0.1136899 (50)\ttotal: 18.5s\tremaining: 17.8s\n",
      "99:\tlearn: 0.0253112\ttest: 0.0250906\tbest: 0.0250906 (99)\ttotal: 36.6s\tremaining: 0us\n",
      "\n",
      "bestTest = 0.02509064814\n",
      "bestIteration = 99\n",
      "\n",
      "                                           0\n",
      "ТОК РОТОРА 1                        3.228627\n",
      "ТОК РОТОРА 2                        8.470138\n",
      "ТОК СТАТОРА                         5.339567\n",
      "ВИБРАЦИЯ НА ОПОРЕ 1                 4.235498\n",
      "ВИБРАЦИЯ НА ОПОРЕ 2                 2.212020\n",
      "ВИБРАЦИЯ НА ОПОРЕ 3                 2.770448\n",
      "ВИБРАЦИЯ НА ОПОРЕ 3. ПРОДОЛЬНАЯ     6.626043\n",
      "ВИБРАЦИЯ НА ОПОРЕ 4                 4.436313\n",
      "ВИБРАЦИЯ НА ОПОРЕ 4. ПРОДОЛЬНАЯ     3.351693\n",
      "ТЕМПЕРАТУРА ПОДШИПНИКА НА ОПОРЕ 1   5.676396\n",
      "ТЕМПЕРАТУРА ПОДШИПНИКА НА ОПОРЕ 2   1.694790\n",
      "ТЕМПЕРАТУРА ПОДШИПНИКА НА ОПОРЕ 3   4.129752\n",
      "ТЕМПЕРАТУРА ПОДШИПНИКА НА ОПОРЕ 4  10.026553\n",
      "ТЕМПЕРАТУРА МАСЛА В МАСЛОБЛОКЕ      1.820122\n",
      "ТЕМПЕРАТУРА МАСЛА В СИСТЕМЕ        13.527923\n",
      "ДАВЛЕНИЕ МАСЛА В СИСТЕМЕ           22.454117\n",
      "Y_ЭКСГАУСТЕР А/М №4_ЗАДВИЖКА ЭКСГ. №4 M1 0.0 0 0 1\n"
     ]
    },
    {
     "data": {
      "application/vnd.jupyter.widget-view+json": {
       "model_id": "f70e63d9a44540d8864158284ab4a31e",
       "version_major": 2,
       "version_minor": 0
      },
      "text/plain": [
       "MetricVisualizer(layout=Layout(align_self='stretch', height='500px'))"
      ]
     },
     "metadata": {},
     "output_type": "display_data"
    },
    {
     "name": "stdout",
     "output_type": "stream",
     "text": [
      "0:\tlearn: 0.6688474\ttest: 0.6698552\tbest: 0.6698552 (0)\ttotal: 398ms\tremaining: 39.4s\n",
      "50:\tlearn: 0.2118464\ttest: 0.2132294\tbest: 0.2132294 (50)\ttotal: 18.9s\tremaining: 18.2s\n",
      "99:\tlearn: 0.1190636\ttest: 0.1204170\tbest: 0.1204170 (99)\ttotal: 37.4s\tremaining: 0us\n",
      "\n",
      "bestTest = 0.1204170278\n",
      "bestIteration = 99\n",
      "\n",
      "                                           0\n",
      "ТОК РОТОРА 1                        3.552183\n",
      "ТОК РОТОРА 2                        3.184848\n",
      "ТОК СТАТОРА                         1.055894\n",
      "ВИБРАЦИЯ НА ОПОРЕ 1                 1.931602\n",
      "ВИБРАЦИЯ НА ОПОРЕ 2                 1.632998\n",
      "ВИБРАЦИЯ НА ОПОРЕ 3                 5.364218\n",
      "ВИБРАЦИЯ НА ОПОРЕ 3. ПРОДОЛЬНАЯ    11.535236\n",
      "ВИБРАЦИЯ НА ОПОРЕ 4                 3.428428\n",
      "ВИБРАЦИЯ НА ОПОРЕ 4. ПРОДОЛЬНАЯ    18.925400\n",
      "ТЕМПЕРАТУРА ПОДШИПНИКА НА ОПОРЕ 1   7.683590\n",
      "ТЕМПЕРАТУРА ПОДШИПНИКА НА ОПОРЕ 2   6.056587\n",
      "ТЕМПЕРАТУРА ПОДШИПНИКА НА ОПОРЕ 3   1.791732\n",
      "ТЕМПЕРАТУРА ПОДШИПНИКА НА ОПОРЕ 4   1.243067\n",
      "ТЕМПЕРАТУРА МАСЛА В МАСЛОБЛОКЕ      2.300775\n",
      "ТЕМПЕРАТУРА МАСЛА В СИСТЕМЕ         2.151702\n",
      "ДАВЛЕНИЕ МАСЛА В СИСТЕМЕ           28.161742\n",
      "Y_ЭКСГАУСТЕР А/М №4_ЗАДВИЖКА ЭКСГ. №4 M3 0.766347687400319 961 98 195\n"
     ]
    },
    {
     "data": {
      "application/vnd.jupyter.widget-view+json": {
       "model_id": "b8619e36814b495aa232c9644e47c669",
       "version_major": 2,
       "version_minor": 0
      },
      "text/plain": [
       "MetricVisualizer(layout=Layout(align_self='stretch', height='500px'))"
      ]
     },
     "metadata": {},
     "output_type": "display_data"
    },
    {
     "name": "stdout",
     "output_type": "stream",
     "text": [
      "0:\tlearn: 0.6670180\ttest: 0.6681380\tbest: 0.6681380 (0)\ttotal: 327ms\tremaining: 32.3s\n",
      "50:\tlearn: 0.1979686\ttest: 0.1910787\tbest: 0.1910787 (50)\ttotal: 16.2s\tremaining: 15.5s\n",
      "99:\tlearn: 0.1055062\ttest: 0.1006369\tbest: 0.1006369 (99)\ttotal: 31.8s\tremaining: 0us\n",
      "\n",
      "bestTest = 0.1006368903\n",
      "bestIteration = 99\n",
      "\n",
      "                                           0\n",
      "ТОК РОТОРА 1                        6.437830\n",
      "ТОК РОТОРА 2                        5.951992\n",
      "ТОК СТАТОРА                         0.693440\n",
      "ВИБРАЦИЯ НА ОПОРЕ 1                 9.926185\n",
      "ВИБРАЦИЯ НА ОПОРЕ 2                 0.575919\n",
      "ВИБРАЦИЯ НА ОПОРЕ 3                12.070703\n",
      "ВИБРАЦИЯ НА ОПОРЕ 3. ПРОДОЛЬНАЯ    18.425952\n",
      "ВИБРАЦИЯ НА ОПОРЕ 4                12.403404\n",
      "ВИБРАЦИЯ НА ОПОРЕ 4. ПРОДОЛЬНАЯ    14.263890\n",
      "ТЕМПЕРАТУРА ПОДШИПНИКА НА ОПОРЕ 1   4.629349\n",
      "ТЕМПЕРАТУРА ПОДШИПНИКА НА ОПОРЕ 2   0.724727\n",
      "ТЕМПЕРАТУРА ПОДШИПНИКА НА ОПОРЕ 3   3.357151\n",
      "ТЕМПЕРАТУРА ПОДШИПНИКА НА ОПОРЕ 4   3.339374\n",
      "ТЕМПЕРАТУРА МАСЛА В МАСЛОБЛОКЕ      0.000000\n",
      "ТЕМПЕРАТУРА МАСЛА В СИСТЕМЕ         0.687047\n",
      "ДАВЛЕНИЕ МАСЛА В СИСТЕМЕ            6.513036\n",
      "Y_ЭКСГАУСТЕР А/М №4_ГСМ ЭКСГ. №4 M3 0.775992438563327 821 21 216\n"
     ]
    },
    {
     "data": {
      "application/vnd.jupyter.widget-view+json": {
       "model_id": "5ffefe59a2b84947bcaf2973c5e135bd",
       "version_major": 2,
       "version_minor": 0
      },
      "text/plain": [
       "MetricVisualizer(layout=Layout(align_self='stretch', height='500px'))"
      ]
     },
     "metadata": {},
     "output_type": "display_data"
    },
    {
     "name": "stdout",
     "output_type": "stream",
     "text": [
      "0:\tlearn: 0.6613831\ttest: 0.6636019\tbest: 0.6636019 (0)\ttotal: 372ms\tremaining: 36.8s\n",
      "50:\tlearn: 0.1134713\ttest: 0.1135991\tbest: 0.1135991 (50)\ttotal: 18.8s\tremaining: 18s\n",
      "99:\tlearn: 0.0251085\ttest: 0.0250258\tbest: 0.0250258 (99)\ttotal: 36.7s\tremaining: 0us\n",
      "\n",
      "bestTest = 0.02502582234\n",
      "bestIteration = 99\n",
      "\n",
      "                                           0\n",
      "ТОК РОТОРА 1                        0.551206\n",
      "ТОК РОТОРА 2                        0.226975\n",
      "ТОК СТАТОРА                         0.544201\n",
      "ВИБРАЦИЯ НА ОПОРЕ 1                 9.293494\n",
      "ВИБРАЦИЯ НА ОПОРЕ 2                 0.966862\n",
      "ВИБРАЦИЯ НА ОПОРЕ 3                10.636340\n",
      "ВИБРАЦИЯ НА ОПОРЕ 3. ПРОДОЛЬНАЯ     0.713145\n",
      "ВИБРАЦИЯ НА ОПОРЕ 4                46.170980\n",
      "ВИБРАЦИЯ НА ОПОРЕ 4. ПРОДОЛЬНАЯ     0.718384\n",
      "ТЕМПЕРАТУРА ПОДШИПНИКА НА ОПОРЕ 1   0.690082\n",
      "ТЕМПЕРАТУРА ПОДШИПНИКА НА ОПОРЕ 2  12.376462\n",
      "ТЕМПЕРАТУРА ПОДШИПНИКА НА ОПОРЕ 3   0.545408\n",
      "ТЕМПЕРАТУРА ПОДШИПНИКА НА ОПОРЕ 4   1.839357\n",
      "ТЕМПЕРАТУРА МАСЛА В МАСЛОБЛОКЕ      4.748881\n",
      "ТЕМПЕРАТУРА МАСЛА В СИСТЕМЕ         9.240884\n",
      "ДАВЛЕНИЕ МАСЛА В СИСТЕМЕ            0.737339\n",
      "Y_ЭКСГАУСТЕР А/М №4_ВК 310С ВИБРОПРЕОБРАЗОВАТЕЛЬ ЭКСГ.№4 Т.1 M3 None 0 0 0\n"
     ]
    },
    {
     "data": {
      "application/vnd.jupyter.widget-view+json": {
       "model_id": "c1c2eea40cdf4965a3b84b9f965d9e2a",
       "version_major": 2,
       "version_minor": 0
      },
      "text/plain": [
       "MetricVisualizer(layout=Layout(align_self='stretch', height='500px'))"
      ]
     },
     "metadata": {},
     "output_type": "display_data"
    },
    {
     "name": "stdout",
     "output_type": "stream",
     "text": [
      "0:\tlearn: 0.6613853\ttest: 0.6636037\tbest: 0.6636037 (0)\ttotal: 387ms\tremaining: 38.3s\n",
      "50:\tlearn: 0.1135660\ttest: 0.1136333\tbest: 0.1136333 (50)\ttotal: 18.5s\tremaining: 17.8s\n",
      "99:\tlearn: 0.0251746\ttest: 0.0250411\tbest: 0.0250411 (99)\ttotal: 36.5s\tremaining: 0us\n",
      "\n",
      "bestTest = 0.02504109498\n",
      "bestIteration = 99\n",
      "\n",
      "                                           0\n",
      "ТОК РОТОРА 1                        0.422456\n",
      "ТОК РОТОРА 2                        0.130429\n",
      "ТОК СТАТОРА                         3.769391\n",
      "ВИБРАЦИЯ НА ОПОРЕ 1                 3.236384\n",
      "ВИБРАЦИЯ НА ОПОРЕ 2                 0.979926\n",
      "ВИБРАЦИЯ НА ОПОРЕ 3                 3.922229\n",
      "ВИБРАЦИЯ НА ОПОРЕ 3. ПРОДОЛЬНАЯ     2.794749\n",
      "ВИБРАЦИЯ НА ОПОРЕ 4                26.258065\n",
      "ВИБРАЦИЯ НА ОПОРЕ 4. ПРОДОЛЬНАЯ     0.412789\n",
      "ТЕМПЕРАТУРА ПОДШИПНИКА НА ОПОРЕ 1   0.446986\n",
      "ТЕМПЕРАТУРА ПОДШИПНИКА НА ОПОРЕ 2  30.308495\n",
      "ТЕМПЕРАТУРА ПОДШИПНИКА НА ОПОРЕ 3   4.208107\n",
      "ТЕМПЕРАТУРА ПОДШИПНИКА НА ОПОРЕ 4   0.300154\n",
      "ТЕМПЕРАТУРА МАСЛА В МАСЛОБЛОКЕ      5.704132\n",
      "ТЕМПЕРАТУРА МАСЛА В СИСТЕМЕ        16.562772\n",
      "ДАВЛЕНИЕ МАСЛА В СИСТЕМЕ            0.542938\n",
      "Y_ЭКСГАУСТЕР А/М №4_ТСМТ-101-010-50М-400 ТЕРМОПР.ПОДШ.Т.1 M3 None 0 0 0\n"
     ]
    },
    {
     "data": {
      "application/vnd.jupyter.widget-view+json": {
       "model_id": "e15916788fc04f5590f5111e15eb0fca",
       "version_major": 2,
       "version_minor": 0
      },
      "text/plain": [
       "MetricVisualizer(layout=Layout(align_self='stretch', height='500px'))"
      ]
     },
     "metadata": {},
     "output_type": "display_data"
    },
    {
     "name": "stdout",
     "output_type": "stream",
     "text": [
      "0:\tlearn: 0.6613820\ttest: 0.6636019\tbest: 0.6636019 (0)\ttotal: 340ms\tremaining: 33.7s\n",
      "50:\tlearn: 0.1133966\ttest: 0.1135798\tbest: 0.1135798 (50)\ttotal: 18.5s\tremaining: 17.8s\n",
      "99:\tlearn: 0.0250351\ttest: 0.0250032\tbest: 0.0250032 (99)\ttotal: 36.5s\tremaining: 0us\n",
      "\n",
      "bestTest = 0.02500317681\n",
      "bestIteration = 99\n",
      "\n",
      "                                           0\n",
      "ТОК РОТОРА 1                        2.534305\n",
      "ТОК РОТОРА 2                        9.765151\n",
      "ТОК СТАТОРА                         1.997125\n",
      "ВИБРАЦИЯ НА ОПОРЕ 1                 5.862899\n",
      "ВИБРАЦИЯ НА ОПОРЕ 2                 3.599857\n",
      "ВИБРАЦИЯ НА ОПОРЕ 3                 5.150280\n",
      "ВИБРАЦИЯ НА ОПОРЕ 3. ПРОДОЛЬНАЯ    10.247671\n",
      "ВИБРАЦИЯ НА ОПОРЕ 4                 2.062064\n",
      "ВИБРАЦИЯ НА ОПОРЕ 4. ПРОДОЛЬНАЯ     6.289767\n",
      "ТЕМПЕРАТУРА ПОДШИПНИКА НА ОПОРЕ 1   4.435934\n",
      "ТЕМПЕРАТУРА ПОДШИПНИКА НА ОПОРЕ 2  15.645397\n",
      "ТЕМПЕРАТУРА ПОДШИПНИКА НА ОПОРЕ 3   4.218382\n",
      "ТЕМПЕРАТУРА ПОДШИПНИКА НА ОПОРЕ 4   4.067050\n",
      "ТЕМПЕРАТУРА МАСЛА В МАСЛОБЛОКЕ      6.043177\n",
      "ТЕМПЕРАТУРА МАСЛА В СИСТЕМЕ        10.888874\n",
      "ДАВЛЕНИЕ МАСЛА В СИСТЕМЕ            7.192067\n",
      "Y_ЭКСГАУСТЕР А/М №4_РОТОР ЭКСГ. №4 M1 0.0 0 0 1\n"
     ]
    },
    {
     "data": {
      "application/vnd.jupyter.widget-view+json": {
       "model_id": "c27811c088574300bca2741d9eb76a37",
       "version_major": 2,
       "version_minor": 0
      },
      "text/plain": [
       "MetricVisualizer(layout=Layout(align_self='stretch', height='500px'))"
      ]
     },
     "metadata": {},
     "output_type": "display_data"
    },
    {
     "name": "stdout",
     "output_type": "stream",
     "text": [
      "0:\tlearn: 0.6746485\ttest: 0.6749194\tbest: 0.6749194 (0)\ttotal: 318ms\tremaining: 31.5s\n",
      "50:\tlearn: 0.2578131\ttest: 0.2622695\tbest: 0.2622695 (50)\ttotal: 18s\tremaining: 17.3s\n",
      "99:\tlearn: 0.1401175\ttest: 0.1437695\tbest: 0.1437695 (99)\ttotal: 35.5s\tremaining: 0us\n",
      "\n",
      "bestTest = 0.1437695287\n",
      "bestIteration = 99\n",
      "\n",
      "                                           0\n",
      "ТОК РОТОРА 1                        9.683950\n",
      "ТОК РОТОРА 2                        9.994233\n",
      "ТОК СТАТОРА                         2.071901\n",
      "ВИБРАЦИЯ НА ОПОРЕ 1                 1.789319\n",
      "ВИБРАЦИЯ НА ОПОРЕ 2                 4.603341\n",
      "ВИБРАЦИЯ НА ОПОРЕ 3                 0.413451\n",
      "ВИБРАЦИЯ НА ОПОРЕ 3. ПРОДОЛЬНАЯ     2.586809\n",
      "ВИБРАЦИЯ НА ОПОРЕ 4                 5.210099\n",
      "ВИБРАЦИЯ НА ОПОРЕ 4. ПРОДОЛЬНАЯ    13.320703\n",
      "ТЕМПЕРАТУРА ПОДШИПНИКА НА ОПОРЕ 1   6.233260\n",
      "ТЕМПЕРАТУРА ПОДШИПНИКА НА ОПОРЕ 2  15.719561\n",
      "ТЕМПЕРАТУРА ПОДШИПНИКА НА ОПОРЕ 3   4.497873\n",
      "ТЕМПЕРАТУРА ПОДШИПНИКА НА ОПОРЕ 4   0.103163\n",
      "ТЕМПЕРАТУРА МАСЛА В МАСЛОБЛОКЕ      0.000000\n",
      "ТЕМПЕРАТУРА МАСЛА В СИСТЕМЕ        18.504436\n",
      "ДАВЛЕНИЕ МАСЛА В СИСТЕМЕ            5.267901\n",
      "Y_ЭКСГАУСТЕР А/М №4_РОТОР ЭКСГ. №4 M3 0.9702543142597638 4273 42 89\n"
     ]
    },
    {
     "data": {
      "application/vnd.jupyter.widget-view+json": {
       "model_id": "532c5f5b369142c1ab8597829afeadae",
       "version_major": 2,
       "version_minor": 0
      },
      "text/plain": [
       "MetricVisualizer(layout=Layout(align_self='stretch', height='500px'))"
      ]
     },
     "metadata": {},
     "output_type": "display_data"
    },
    {
     "name": "stdout",
     "output_type": "stream",
     "text": [
      "0:\tlearn: 0.6627798\ttest: 0.6642051\tbest: 0.6642051 (0)\ttotal: 384ms\tremaining: 38s\n",
      "50:\tlearn: 0.1240153\ttest: 0.1215544\tbest: 0.1215544 (50)\ttotal: 19.9s\tremaining: 19.2s\n",
      "99:\tlearn: 0.0348026\ttest: 0.0319737\tbest: 0.0319737 (99)\ttotal: 38.2s\tremaining: 0us\n",
      "\n",
      "bestTest = 0.03197366087\n",
      "bestIteration = 99\n",
      "\n",
      "                                           0\n",
      "ТОК РОТОРА 1                        7.484371\n",
      "ТОК РОТОРА 2                        7.492589\n",
      "ТОК СТАТОРА                         1.481169\n",
      "ВИБРАЦИЯ НА ОПОРЕ 1                 0.791735\n",
      "ВИБРАЦИЯ НА ОПОРЕ 2                16.612309\n",
      "ВИБРАЦИЯ НА ОПОРЕ 3                25.203035\n",
      "ВИБРАЦИЯ НА ОПОРЕ 3. ПРОДОЛЬНАЯ     6.224037\n",
      "ВИБРАЦИЯ НА ОПОРЕ 4                 0.764145\n",
      "ВИБРАЦИЯ НА ОПОРЕ 4. ПРОДОЛЬНАЯ     3.391259\n",
      "ТЕМПЕРАТУРА ПОДШИПНИКА НА ОПОРЕ 1   3.821541\n",
      "ТЕМПЕРАТУРА ПОДШИПНИКА НА ОПОРЕ 2   4.268978\n",
      "ТЕМПЕРАТУРА ПОДШИПНИКА НА ОПОРЕ 3   2.496025\n",
      "ТЕМПЕРАТУРА ПОДШИПНИКА НА ОПОРЕ 4   1.334593\n",
      "ТЕМПЕРАТУРА МАСЛА В МАСЛОБЛОКЕ      1.138220\n",
      "ТЕМПЕРАТУРА МАСЛА В СИСТЕМЕ         6.643855\n",
      "ДАВЛЕНИЕ МАСЛА В СИСТЕМЕ           10.852140\n",
      "Y_ЭКСГАУСТЕР А/М №4_МАСЛООХЛАДИТЕЛЬ  М-05-1 ЭКСГ. №4 M3 0.7899159663865546 94 5 20\n"
     ]
    },
    {
     "data": {
      "application/vnd.jupyter.widget-view+json": {
       "model_id": "ae8818af0a8f46cabda02d8be906578f",
       "version_major": 2,
       "version_minor": 0
      },
      "text/plain": [
       "MetricVisualizer(layout=Layout(align_self='stretch', height='500px'))"
      ]
     },
     "metadata": {},
     "output_type": "display_data"
    },
    {
     "name": "stdout",
     "output_type": "stream",
     "text": [
      "0:\tlearn: 0.6613914\ttest: 0.6636067\tbest: 0.6636067 (0)\ttotal: 324ms\tremaining: 32s\n",
      "50:\tlearn: 0.1135619\ttest: 0.1136374\tbest: 0.1136374 (50)\ttotal: 18.1s\tremaining: 17.4s\n",
      "99:\tlearn: 0.0251029\ttest: 0.0250405\tbest: 0.0250405 (99)\ttotal: 34.9s\tremaining: 0us\n",
      "\n",
      "bestTest = 0.02504048565\n",
      "bestIteration = 99\n",
      "\n",
      "                                           0\n",
      "ТОК РОТОРА 1                        5.764297\n",
      "ТОК РОТОРА 2                        2.849140\n",
      "ТОК СТАТОРА                        10.707257\n",
      "ВИБРАЦИЯ НА ОПОРЕ 1                 1.022429\n",
      "ВИБРАЦИЯ НА ОПОРЕ 2                 2.298423\n",
      "ВИБРАЦИЯ НА ОПОРЕ 3                 2.384109\n",
      "ВИБРАЦИЯ НА ОПОРЕ 3. ПРОДОЛЬНАЯ     1.234819\n",
      "ВИБРАЦИЯ НА ОПОРЕ 4                 0.611164\n",
      "ВИБРАЦИЯ НА ОПОРЕ 4. ПРОДОЛЬНАЯ     1.016481\n",
      "ТЕМПЕРАТУРА ПОДШИПНИКА НА ОПОРЕ 1   1.737410\n",
      "ТЕМПЕРАТУРА ПОДШИПНИКА НА ОПОРЕ 2   2.345112\n",
      "ТЕМПЕРАТУРА ПОДШИПНИКА НА ОПОРЕ 3  33.878484\n",
      "ТЕМПЕРАТУРА ПОДШИПНИКА НА ОПОРЕ 4  11.970967\n",
      "ТЕМПЕРАТУРА МАСЛА В МАСЛОБЛОКЕ     17.783104\n",
      "ТЕМПЕРАТУРА МАСЛА В СИСТЕМЕ         1.272128\n",
      "ДАВЛЕНИЕ МАСЛА В СИСТЕМЕ            3.124675\n",
      "Y_ЭКСГАУСТЕР А/М №4_ПОДШИПНИК ОПОРНО-УПОРНЫЙ ЭКСГ. №4 M1 1.0 2 0 0\n"
     ]
    },
    {
     "data": {
      "application/vnd.jupyter.widget-view+json": {
       "model_id": "cc2eda38fc814afb837d5c8306d3e8b4",
       "version_major": 2,
       "version_minor": 0
      },
      "text/plain": [
       "MetricVisualizer(layout=Layout(align_self='stretch', height='500px'))"
      ]
     },
     "metadata": {},
     "output_type": "display_data"
    },
    {
     "name": "stdout",
     "output_type": "stream",
     "text": [
      "0:\tlearn: 0.6686641\ttest: 0.6692089\tbest: 0.6692089 (0)\ttotal: 399ms\tremaining: 39.5s\n",
      "50:\tlearn: 0.1867494\ttest: 0.1848006\tbest: 0.1848006 (50)\ttotal: 17.4s\tremaining: 16.7s\n",
      "99:\tlearn: 0.0818741\ttest: 0.0829544\tbest: 0.0829544 (99)\ttotal: 35.1s\tremaining: 0us\n",
      "\n",
      "bestTest = 0.08295441796\n",
      "bestIteration = 99\n",
      "\n",
      "                                           0\n",
      "ТОК РОТОРА 1                       12.470191\n",
      "ТОК РОТОРА 2                       23.424431\n",
      "ТОК СТАТОРА                         0.000000\n",
      "ВИБРАЦИЯ НА ОПОРЕ 1                 0.117135\n",
      "ВИБРАЦИЯ НА ОПОРЕ 2                 0.057287\n",
      "ВИБРАЦИЯ НА ОПОРЕ 3                 3.843134\n",
      "ВИБРАЦИЯ НА ОПОРЕ 3. ПРОДОЛЬНАЯ    14.784133\n",
      "ВИБРАЦИЯ НА ОПОРЕ 4                11.321998\n",
      "ВИБРАЦИЯ НА ОПОРЕ 4. ПРОДОЛЬНАЯ     8.496229\n",
      "ТЕМПЕРАТУРА ПОДШИПНИКА НА ОПОРЕ 1   8.705565\n",
      "ТЕМПЕРАТУРА ПОДШИПНИКА НА ОПОРЕ 2   1.517957\n",
      "ТЕМПЕРАТУРА ПОДШИПНИКА НА ОПОРЕ 3   0.000000\n",
      "ТЕМПЕРАТУРА ПОДШИПНИКА НА ОПОРЕ 4   4.406318\n",
      "ТЕМПЕРАТУРА МАСЛА В МАСЛОБЛОКЕ      0.325821\n",
      "ТЕМПЕРАТУРА МАСЛА В СИСТЕМЕ         6.820580\n",
      "ДАВЛЕНИЕ МАСЛА В СИСТЕМЕ            3.709222\n",
      "Y_ЭКСГАУСТЕР А/М №4_ПОДШИПНИК ОПОРНО-УПОРНЫЙ ЭКСГ. №4 M3 0.9394083969465649 1969 39 88\n"
     ]
    },
    {
     "data": {
      "application/vnd.jupyter.widget-view+json": {
       "model_id": "3455d3d7762246feb675e32a15efe057",
       "version_major": 2,
       "version_minor": 0
      },
      "text/plain": [
       "MetricVisualizer(layout=Layout(align_self='stretch', height='500px'))"
      ]
     },
     "metadata": {},
     "output_type": "display_data"
    },
    {
     "name": "stdout",
     "output_type": "stream",
     "text": [
      "0:\tlearn: 0.6615090\ttest: 0.6636188\tbest: 0.6636188 (0)\ttotal: 268ms\tremaining: 26.5s\n",
      "50:\tlearn: 0.1138883\ttest: 0.1137427\tbest: 0.1137427 (50)\ttotal: 17.7s\tremaining: 17s\n",
      "99:\tlearn: 0.0253271\ttest: 0.0251123\tbest: 0.0251123 (99)\ttotal: 33.8s\tremaining: 0us\n",
      "\n",
      "bestTest = 0.02511226091\n",
      "bestIteration = 99\n",
      "\n",
      "                                           0\n",
      "ТОК РОТОРА 1                        0.434749\n",
      "ТОК РОТОРА 2                        0.609028\n",
      "ТОК СТАТОРА                         4.069141\n",
      "ВИБРАЦИЯ НА ОПОРЕ 1                 5.550096\n",
      "ВИБРАЦИЯ НА ОПОРЕ 2                 1.391126\n",
      "ВИБРАЦИЯ НА ОПОРЕ 3                 1.792235\n",
      "ВИБРАЦИЯ НА ОПОРЕ 3. ПРОДОЛЬНАЯ     2.245288\n",
      "ВИБРАЦИЯ НА ОПОРЕ 4                 1.266410\n",
      "ВИБРАЦИЯ НА ОПОРЕ 4. ПРОДОЛЬНАЯ     0.989305\n",
      "ТЕМПЕРАТУРА ПОДШИПНИКА НА ОПОРЕ 1   2.742240\n",
      "ТЕМПЕРАТУРА ПОДШИПНИКА НА ОПОРЕ 2   1.039140\n",
      "ТЕМПЕРАТУРА ПОДШИПНИКА НА ОПОРЕ 3  17.670582\n",
      "ТЕМПЕРАТУРА ПОДШИПНИКА НА ОПОРЕ 4   6.676196\n",
      "ТЕМПЕРАТУРА МАСЛА В МАСЛОБЛОКЕ     38.151265\n",
      "ТЕМПЕРАТУРА МАСЛА В СИСТЕМЕ        12.209544\n",
      "ДАВЛЕНИЕ МАСЛА В СИСТЕМЕ            3.163653\n",
      "Y_ЭКСГАУСТЕР А/М №4_ЭКСГАУСТЕР А/М №4 M1 0.5 1 0 1\n"
     ]
    },
    {
     "data": {
      "application/vnd.jupyter.widget-view+json": {
       "model_id": "154c69f7ec4d4d1ab224a1507f524139",
       "version_major": 2,
       "version_minor": 0
      },
      "text/plain": [
       "MetricVisualizer(layout=Layout(align_self='stretch', height='500px'))"
      ]
     },
     "metadata": {},
     "output_type": "display_data"
    },
    {
     "name": "stdout",
     "output_type": "stream",
     "text": [
      "0:\tlearn: 0.6624076\ttest: 0.6641076\tbest: 0.6641076 (0)\ttotal: 323ms\tremaining: 32s\n",
      "50:\tlearn: 0.1262218\ttest: 0.1222303\tbest: 0.1222303 (50)\ttotal: 15.2s\tremaining: 14.6s\n",
      "99:\tlearn: 0.0368778\ttest: 0.0330902\tbest: 0.0330902 (99)\ttotal: 30.8s\tremaining: 0us\n",
      "\n",
      "bestTest = 0.03309024445\n",
      "bestIteration = 99\n",
      "\n",
      "                                           0\n",
      "ТОК РОТОРА 1                        2.434563\n",
      "ТОК РОТОРА 2                        3.127603\n",
      "ТОК СТАТОРА                         1.709983\n",
      "ВИБРАЦИЯ НА ОПОРЕ 1                 0.653748\n",
      "ВИБРАЦИЯ НА ОПОРЕ 2                 2.281773\n",
      "ВИБРАЦИЯ НА ОПОРЕ 3                 3.314551\n",
      "ВИБРАЦИЯ НА ОПОРЕ 3. ПРОДОЛЬНАЯ     6.504546\n",
      "ВИБРАЦИЯ НА ОПОРЕ 4                17.785616\n",
      "ВИБРАЦИЯ НА ОПОРЕ 4. ПРОДОЛЬНАЯ    42.472846\n",
      "ТЕМПЕРАТУРА ПОДШИПНИКА НА ОПОРЕ 1   5.649724\n",
      "ТЕМПЕРАТУРА ПОДШИПНИКА НА ОПОРЕ 2   0.270356\n",
      "ТЕМПЕРАТУРА ПОДШИПНИКА НА ОПОРЕ 3   0.319454\n",
      "ТЕМПЕРАТУРА ПОДШИПНИКА НА ОПОРЕ 4   6.224513\n",
      "ТЕМПЕРАТУРА МАСЛА В МАСЛОБЛОКЕ      0.000000\n",
      "ТЕМПЕРАТУРА МАСЛА В СИСТЕМЕ         0.799404\n",
      "ДАВЛЕНИЕ МАСЛА В СИСТЕМЕ            6.451320\n",
      "Y_ЭКСГАУСТЕР А/М №4_ЗАП. И РЕГ. АРМАТУРА ЭКСГ.№4 M3 0.937365010799136 434 5 24\n"
     ]
    },
    {
     "data": {
      "application/vnd.jupyter.widget-view+json": {
       "model_id": "f899cc71a4b6459d964c71092570528c",
       "version_major": 2,
       "version_minor": 0
      },
      "text/plain": [
       "MetricVisualizer(layout=Layout(align_self='stretch', height='500px'))"
      ]
     },
     "metadata": {},
     "output_type": "display_data"
    },
    {
     "name": "stdout",
     "output_type": "stream",
     "text": [
      "0:\tlearn: 0.6638635\ttest: 0.6648075\tbest: 0.6648075 (0)\ttotal: 279ms\tremaining: 27.6s\n",
      "50:\tlearn: 0.1364627\ttest: 0.1350528\tbest: 0.1350528 (50)\ttotal: 15.6s\tremaining: 15s\n",
      "99:\tlearn: 0.0436129\ttest: 0.0441885\tbest: 0.0441885 (99)\ttotal: 31s\tremaining: 0us\n",
      "\n",
      "bestTest = 0.04418851521\n",
      "bestIteration = 99\n",
      "\n",
      "                                           0\n",
      "ТОК РОТОРА 1                        5.617979\n",
      "ТОК РОТОРА 2                        5.786565\n",
      "ТОК СТАТОРА                         1.094371\n",
      "ВИБРАЦИЯ НА ОПОРЕ 1                 1.830252\n",
      "ВИБРАЦИЯ НА ОПОРЕ 2                14.554205\n",
      "ВИБРАЦИЯ НА ОПОРЕ 3                 9.691849\n",
      "ВИБРАЦИЯ НА ОПОРЕ 3. ПРОДОЛЬНАЯ     6.444065\n",
      "ВИБРАЦИЯ НА ОПОРЕ 4                11.785069\n",
      "ВИБРАЦИЯ НА ОПОРЕ 4. ПРОДОЛЬНАЯ    13.979423\n",
      "ТЕМПЕРАТУРА ПОДШИПНИКА НА ОПОРЕ 1   0.000000\n",
      "ТЕМПЕРАТУРА ПОДШИПНИКА НА ОПОРЕ 2   0.362996\n",
      "ТЕМПЕРАТУРА ПОДШИПНИКА НА ОПОРЕ 3   1.166722\n",
      "ТЕМПЕРАТУРА ПОДШИПНИКА НА ОПОРЕ 4   2.187429\n",
      "ТЕМПЕРАТУРА МАСЛА В МАСЛОБЛОКЕ      2.211029\n",
      "ТЕМПЕРАТУРА МАСЛА В СИСТЕМЕ         0.000000\n",
      "ДАВЛЕНИЕ МАСЛА В СИСТЕМЕ           23.288047\n",
      "Y_ЭКСГАУСТЕР А/М №4_ПОДШИПНИК ОПОРНЫЙ №1 ЭКСГ. №4 M3 0.9338422391857506 367 1 25\n"
     ]
    },
    {
     "data": {
      "application/vnd.jupyter.widget-view+json": {
       "model_id": "7f953c150e524ad7bdc4f8d85ab9066f",
       "version_major": 2,
       "version_minor": 0
      },
      "text/plain": [
       "MetricVisualizer(layout=Layout(align_self='stretch', height='500px'))"
      ]
     },
     "metadata": {},
     "output_type": "display_data"
    },
    {
     "name": "stdout",
     "output_type": "stream",
     "text": [
      "0:\tlearn: 0.6620633\ttest: 0.6639361\tbest: 0.6639361 (0)\ttotal: 458ms\tremaining: 45.3s\n",
      "50:\tlearn: 0.1217924\ttest: 0.1180037\tbest: 0.1180037 (50)\ttotal: 17.5s\tremaining: 16.9s\n",
      "99:\tlearn: 0.0333331\ttest: 0.0295839\tbest: 0.0295839 (99)\ttotal: 34.4s\tremaining: 0us\n",
      "\n",
      "bestTest = 0.02958390163\n",
      "bestIteration = 99\n",
      "\n",
      "                                           0\n",
      "ТОК РОТОРА 1                       20.432763\n",
      "ТОК РОТОРА 2                       27.016421\n",
      "ТОК СТАТОРА                         0.838491\n",
      "ВИБРАЦИЯ НА ОПОРЕ 1                 1.515736\n",
      "ВИБРАЦИЯ НА ОПОРЕ 2                 5.400039\n",
      "ВИБРАЦИЯ НА ОПОРЕ 3                 3.101288\n",
      "ВИБРАЦИЯ НА ОПОРЕ 3. ПРОДОЛЬНАЯ     0.206343\n",
      "ВИБРАЦИЯ НА ОПОРЕ 4                 0.000000\n",
      "ВИБРАЦИЯ НА ОПОРЕ 4. ПРОДОЛЬНАЯ    16.389328\n",
      "ТЕМПЕРАТУРА ПОДШИПНИКА НА ОПОРЕ 1   0.954725\n",
      "ТЕМПЕРАТУРА ПОДШИПНИКА НА ОПОРЕ 2  10.955426\n",
      "ТЕМПЕРАТУРА ПОДШИПНИКА НА ОПОРЕ 3   4.391273\n",
      "ТЕМПЕРАТУРА ПОДШИПНИКА НА ОПОРЕ 4   1.679723\n",
      "ТЕМПЕРАТУРА МАСЛА В МАСЛОБЛОКЕ      2.087742\n",
      "ТЕМПЕРАТУРА МАСЛА В СИСТЕМЕ         1.007974\n",
      "ДАВЛЕНИЕ МАСЛА В СИСТЕМЕ            4.022726\n",
      "Y_ЭКСГАУСТЕР А/М №4_ЭЛ/ДВИГАТЕЛЬ ГАЗ. ЗАДВИЖКИ ЭКСГ. №4 M3 0.8496732026143791 130 9 14\n"
     ]
    },
    {
     "data": {
      "application/vnd.jupyter.widget-view+json": {
       "model_id": "a9608b4002d5457ab9726cd22b132ab3",
       "version_major": 2,
       "version_minor": 0
      },
      "text/plain": [
       "MetricVisualizer(layout=Layout(align_self='stretch', height='500px'))"
      ]
     },
     "metadata": {},
     "output_type": "display_data"
    },
    {
     "name": "stdout",
     "output_type": "stream",
     "text": [
      "0:\tlearn: 0.6613798\ttest: 0.6635999\tbest: 0.6635999 (0)\ttotal: 331ms\tremaining: 32.7s\n",
      "50:\tlearn: 0.1133183\ttest: 0.1135562\tbest: 0.1135562 (50)\ttotal: 18.5s\tremaining: 17.7s\n",
      "99:\tlearn: 0.0249201\ttest: 0.0249779\tbest: 0.0249779 (99)\ttotal: 36.5s\tremaining: 0us\n",
      "\n",
      "bestTest = 0.02497789352\n",
      "bestIteration = 99\n",
      "\n",
      "                                          0\n",
      "ТОК РОТОРА 1                       5.927227\n",
      "ТОК РОТОРА 2                       2.662058\n",
      "ТОК СТАТОРА                        4.718701\n",
      "ВИБРАЦИЯ НА ОПОРЕ 1                5.305698\n",
      "ВИБРАЦИЯ НА ОПОРЕ 2                7.604350\n",
      "ВИБРАЦИЯ НА ОПОРЕ 3                8.640479\n",
      "ВИБРАЦИЯ НА ОПОРЕ 3. ПРОДОЛЬНАЯ    8.280570\n",
      "ВИБРАЦИЯ НА ОПОРЕ 4                8.939137\n",
      "ВИБРАЦИЯ НА ОПОРЕ 4. ПРОДОЛЬНАЯ    7.851312\n",
      "ТЕМПЕРАТУРА ПОДШИПНИКА НА ОПОРЕ 1  5.374986\n",
      "ТЕМПЕРАТУРА ПОДШИПНИКА НА ОПОРЕ 2  7.193121\n",
      "ТЕМПЕРАТУРА ПОДШИПНИКА НА ОПОРЕ 3  6.099327\n",
      "ТЕМПЕРАТУРА ПОДШИПНИКА НА ОПОРЕ 4  6.857966\n",
      "ТЕМПЕРАТУРА МАСЛА В МАСЛОБЛОКЕ     5.813934\n",
      "ТЕМПЕРАТУРА МАСЛА В СИСТЕМЕ        3.355479\n",
      "ДАВЛЕНИЕ МАСЛА В СИСТЕМЕ           5.375656\n",
      "Y_ЭКСГАУСТЕР А/М №4_КЛ1 ТР№4 ДО ЭД ЭКСГАУСТЕРА №4 M3 None 0 0 0\n"
     ]
    },
    {
     "data": {
      "application/vnd.jupyter.widget-view+json": {
       "model_id": "29e977f8c8604a34900d9cfd0e78e87e",
       "version_major": 2,
       "version_minor": 0
      },
      "text/plain": [
       "MetricVisualizer(layout=Layout(align_self='stretch', height='500px'))"
      ]
     },
     "metadata": {},
     "output_type": "display_data"
    },
    {
     "name": "stdout",
     "output_type": "stream",
     "text": [
      "0:\tlearn: 0.6613798\ttest: 0.6635992\tbest: 0.6635992 (0)\ttotal: 352ms\tremaining: 34.8s\n",
      "50:\tlearn: 0.1133183\ttest: 0.1135561\tbest: 0.1135561 (50)\ttotal: 19s\tremaining: 18.3s\n",
      "99:\tlearn: 0.0249201\ttest: 0.0249797\tbest: 0.0249797 (99)\ttotal: 37s\tremaining: 0us\n",
      "\n",
      "bestTest = 0.0249796857\n",
      "bestIteration = 99\n",
      "\n",
      "                                          0\n",
      "ТОК РОТОРА 1                       5.927227\n",
      "ТОК РОТОРА 2                       2.662058\n",
      "ТОК СТАТОРА                        4.718701\n",
      "ВИБРАЦИЯ НА ОПОРЕ 1                5.305698\n",
      "ВИБРАЦИЯ НА ОПОРЕ 2                7.604350\n",
      "ВИБРАЦИЯ НА ОПОРЕ 3                8.640479\n",
      "ВИБРАЦИЯ НА ОПОРЕ 3. ПРОДОЛЬНАЯ    8.280570\n",
      "ВИБРАЦИЯ НА ОПОРЕ 4                8.939137\n",
      "ВИБРАЦИЯ НА ОПОРЕ 4. ПРОДОЛЬНАЯ    7.851312\n",
      "ТЕМПЕРАТУРА ПОДШИПНИКА НА ОПОРЕ 1  5.374986\n",
      "ТЕМПЕРАТУРА ПОДШИПНИКА НА ОПОРЕ 2  7.193121\n",
      "ТЕМПЕРАТУРА ПОДШИПНИКА НА ОПОРЕ 3  6.099327\n",
      "ТЕМПЕРАТУРА ПОДШИПНИКА НА ОПОРЕ 4  6.857966\n",
      "ТЕМПЕРАТУРА МАСЛА В МАСЛОБЛОКЕ     5.813934\n",
      "ТЕМПЕРАТУРА МАСЛА В СИСТЕМЕ        3.355479\n",
      "ДАВЛЕНИЕ МАСЛА В СИСТЕМЕ           5.375656\n",
      "Y_ЭКСГАУСТЕР А/М №4_КЛ2 ТР№4 ДО ЭД ЭКСГАУСТЕРА №4 M3 None 0 0 0\n"
     ]
    },
    {
     "data": {
      "application/vnd.jupyter.widget-view+json": {
       "model_id": "91cbd61744484f459690ee66677d00fa",
       "version_major": 2,
       "version_minor": 0
      },
      "text/plain": [
       "MetricVisualizer(layout=Layout(align_self='stretch', height='500px'))"
      ]
     },
     "metadata": {},
     "output_type": "display_data"
    },
    {
     "name": "stdout",
     "output_type": "stream",
     "text": [
      "0:\tlearn: 0.6613796\ttest: 0.6636002\tbest: 0.6636002 (0)\ttotal: 337ms\tremaining: 33.4s\n",
      "50:\tlearn: 0.1133120\ttest: 0.1135594\tbest: 0.1135594 (50)\ttotal: 18.3s\tremaining: 17.6s\n",
      "99:\tlearn: 0.0249095\ttest: 0.0249784\tbest: 0.0249784 (99)\ttotal: 36s\tremaining: 0us\n",
      "\n",
      "bestTest = 0.02497839284\n",
      "bestIteration = 99\n",
      "\n",
      "                                          0\n",
      "ТОК РОТОРА 1                       5.941295\n",
      "ТОК РОТОРА 2                       2.669015\n",
      "ТОК СТАТОРА                        4.733503\n",
      "ВИБРАЦИЯ НА ОПОРЕ 1                5.343332\n",
      "ВИБРАЦИЯ НА ОПОРЕ 2                7.639262\n",
      "ВИБРАЦИЯ НА ОПОРЕ 3                8.664272\n",
      "ВИБРАЦИЯ НА ОПОРЕ 3. ПРОДОЛЬНАЯ    8.083662\n",
      "ВИБРАЦИЯ НА ОПОРЕ 4                9.058492\n",
      "ВИБРАЦИЯ НА ОПОРЕ 4. ПРОДОЛЬНАЯ    7.656137\n",
      "ТЕМПЕРАТУРА ПОДШИПНИКА НА ОПОРЕ 1  5.386421\n",
      "ТЕМПЕРАТУРА ПОДШИПНИКА НА ОПОРЕ 2  7.232388\n",
      "ТЕМПЕРАТУРА ПОДШИПНИКА НА ОПОРЕ 3  6.130747\n",
      "ТЕМПЕРАТУРА ПОДШИПНИКА НА ОПОРЕ 4  6.986043\n",
      "ТЕМПЕРАТУРА МАСЛА В МАСЛОБЛОКЕ     5.818926\n",
      "ТЕМПЕРАТУРА МАСЛА В СИСТЕМЕ        3.392361\n",
      "ДАВЛЕНИЕ МАСЛА В СИСТЕМЕ           5.264143\n",
      "Y_ЭКСГАУСТЕР А/М №4_ТР-Р ТМ-4000-10/6 ЭКСГ. №4 M3 None 0 0 0\n"
     ]
    }
   ],
   "source": [
    "import catboost\n",
    "\n",
    "summary = dict()\n",
    "summary[\"model\"] = []\n",
    "summary[\"f1\"] = []\n",
    "summary[\"score\"] = []\n",
    "summary[\"TP\"] = []\n",
    "summary[\"FP\"] = []\n",
    "summary[\"FN\"] = []\n",
    "\n",
    "\n",
    "for col in y_train.columns:\n",
    "\n",
    "    target_train = y_train[col]\n",
    "    if len(target_train.unique())>1:\n",
    "        model = catboost.CatBoostClassifier(iterations=100, loss_function='CrossEntropy')\n",
    "\n",
    "        X_test = X_train.sample(10000)\n",
    "        target_test = target_train.loc[X_test.index.values]\n",
    "\n",
    "        X_val = X_train.sample(1000)\n",
    "        target_val = target_train.loc[X_val.index.values]\n",
    "\n",
    "        X_train = X_train#.sample(1000000)\n",
    "        target_train = target_train.loc[X_train.index.values]\n",
    "\n",
    "        model.fit(X_train.values, target_train.values, eval_set=(X_val.values, target_val.values), verbose=50, use_best_model=True, plot=True, early_stopping_rounds=100)\n",
    "        print(pd.DataFrame(model.feature_importances_, index=X_train.columns ))\n",
    "\n",
    "        model.save_model(\"ЭКСГАУСТЕР 4 \" +col.replace(\"/\", \"\"),format=\"cbm\",export_parameters=None, pool=None)\n",
    "        \n",
    "        pred = model.predict(X_test.values)\n",
    "        TP = sum((pred == 1)*(target_test == 1))\n",
    "        FP = sum((pred == 1)*(target_test == 0))\n",
    "        FN = sum((pred == 0)*(target_test == 1))\n",
    "        summary[\"model\"].append(\" ЭКСГАУСТЕР 4 \" + col.replace(\"/\", \"\")+\"__45\")\n",
    "        summary[\"TP\"].append(TP)\n",
    "        summary[\"FP\"].append(FP)\n",
    "        summary[\"FN\"].append(FN)\n",
    "        if (TP+FP+FN)!=0:\n",
    "            print(col, TP/(TP+FP+FN), TP, FP, FN)\n",
    "            summary[\"f1\"].append(2*TP/(2*TP+FP+FN))\n",
    "            summary[\"score\"].append(TP/(TP+FP+FN))\n",
    "        else:\n",
    "            print(col, None, TP, FP, FN)\n",
    "            summary[\"f1\"].append(None)\n",
    "            summary[\"score\"].append(None)\n",
    "    else:\n",
    "        summary[\"model\"].append(\"ЭКСГАУСТЕР 4 \" + col.replace(\"/\", \"\")+\"__45\")\n",
    "        summary[\"TP\"].append(0)\n",
    "        summary[\"FP\"].append(0)\n",
    "        summary[\"FN\"].append(0)\n",
    "        summary[\"f1\"].append(None)\n",
    "        summary[\"score\"].append(None)\n",
    "        \n",
    "            \n",
    "pd.DataFrame(summary).to_csv(\"summary ЭКСГАУСТЕР 4__45.csv\")"
   ]
  }
 ],
 "metadata": {
  "kernelspec": {
   "display_name": "Python 3",
   "language": "python",
   "name": "python3"
  },
  "language_info": {
   "codemirror_mode": {
    "name": "ipython",
    "version": 3
   },
   "file_extension": ".py",
   "mimetype": "text/x-python",
   "name": "python",
   "nbconvert_exporter": "python",
   "pygments_lexer": "ipython3",
   "version": "3.10.10"
  },
  "papermill": {
   "default_parameters": {},
   "duration": 1790.166853,
   "end_time": "2023-05-28T20:52:10.927474",
   "environment_variables": {},
   "exception": null,
   "input_path": "__notebook__.ipynb",
   "output_path": "__notebook__.ipynb",
   "parameters": {},
   "start_time": "2023-05-28T20:22:20.760621",
   "version": "2.4.0"
  },
  "widgets": {
   "application/vnd.jupyter.widget-state+json": {
    "state": {
     "02c0bae6c5fa4ff0b88ee41147ad4688": {
      "model_module": "@jupyter-widgets/base",
      "model_module_version": "1.2.0",
      "model_name": "LayoutModel",
      "state": {
       "_model_module": "@jupyter-widgets/base",
       "_model_module_version": "1.2.0",
       "_model_name": "LayoutModel",
       "_view_count": null,
       "_view_module": "@jupyter-widgets/base",
       "_view_module_version": "1.2.0",
       "_view_name": "LayoutView",
       "align_content": null,
       "align_items": null,
       "align_self": "stretch",
       "border": null,
       "bottom": null,
       "display": null,
       "flex": null,
       "flex_flow": null,
       "grid_area": null,
       "grid_auto_columns": null,
       "grid_auto_flow": null,
       "grid_auto_rows": null,
       "grid_column": null,
       "grid_gap": null,
       "grid_row": null,
       "grid_template_areas": null,
       "grid_template_columns": null,
       "grid_template_rows": null,
       "height": "500px",
       "justify_content": null,
       "justify_items": null,
       "left": null,
       "margin": null,
       "max_height": null,
       "max_width": null,
       "min_height": null,
       "min_width": null,
       "object_fit": null,
       "object_position": null,
       "order": null,
       "overflow": null,
       "overflow_x": null,
       "overflow_y": null,
       "padding": null,
       "right": null,
       "top": null,
       "visibility": null,
       "width": null
      }
     },
     "04ac84b48f4a4ae895c4cd2a6ccbefa6": {
      "model_module": "catboost-widget",
      "model_module_version": "^1.0.0",
      "model_name": "CatboostWidgetModel",
      "state": {
       "_dom_classes": [],
       "_model_module": "catboost-widget",
       "_model_module_version": "^1.0.0",
       "_model_name": "CatboostWidgetModel",
       "_view_count": null,
       "_view_module": "catboost-widget",
       "_view_module_version": "^1.0.0",
       "_view_name": "CatboostWidgetView",
       "data": {
        "catboost_info": {
         "content": {
          "data": {
           "iterations": [
            {
             "iteration": 0,
             "learn": [
              0.6695838673
             ],
             "passed_time": 0.4248612838,
             "remaining_time": 42.06126709,
             "test": [
              0.6688644376
             ]
            },
            {
             "iteration": 1,
             "learn": [
              0.645688923
             ],
             "passed_time": 0.819402031,
             "remaining_time": 40.15069952,
             "test": [
              0.6461108367
             ]
            },
            {
             "iteration": 2,
             "learn": [
              0.6234308326
             ],
             "passed_time": 1.193382544,
             "remaining_time": 38.5860356,
             "test": [
              0.6246921024
             ]
            },
            {
             "iteration": 3,
             "learn": [
              0.6038117975
             ],
             "passed_time": 1.585640721,
             "remaining_time": 38.0553773,
             "test": [
              0.6041328206
             ]
            },
            {
             "iteration": 4,
             "learn": [
              0.5833553651
             ],
             "passed_time": 2.008892269,
             "remaining_time": 38.1689531,
             "test": [
              0.584778056
             ]
            },
            {
             "iteration": 5,
             "learn": [
              0.5638787758
             ],
             "passed_time": 2.373173791,
             "remaining_time": 37.17972273,
             "test": [
              0.5653222824
             ]
            },
            {
             "iteration": 6,
             "learn": [
              0.5469227622
             ],
             "passed_time": 2.744772707,
             "remaining_time": 36.46626596,
             "test": [
              0.5478458966
             ]
            },
            {
             "iteration": 7,
             "learn": [
              0.530125542
             ],
             "passed_time": 3.122752913,
             "remaining_time": 35.9116585,
             "test": [
              0.5315737701
             ]
            },
            {
             "iteration": 8,
             "learn": [
              0.51264108
             ],
             "passed_time": 3.484131244,
             "remaining_time": 35.22843814,
             "test": [
              0.5146997789
             ]
            },
            {
             "iteration": 9,
             "learn": [
              0.4964260099
             ],
             "passed_time": 3.850945416,
             "remaining_time": 34.65850875,
             "test": [
              0.4986419576
             ]
            },
            {
             "iteration": 10,
             "learn": [
              0.4821275793
             ],
             "passed_time": 4.233744292,
             "remaining_time": 34.25484018,
             "test": [
              0.4841826615
             ]
            },
            {
             "iteration": 11,
             "learn": [
              0.4682647616
             ],
             "passed_time": 4.613329895,
             "remaining_time": 33.8310859,
             "test": [
              0.47032764
             ]
            },
            {
             "iteration": 12,
             "learn": [
              0.4542237241
             ],
             "passed_time": 4.989212638,
             "remaining_time": 33.38934611,
             "test": [
              0.4563399763
             ]
            },
            {
             "iteration": 13,
             "learn": [
              0.4412076813
             ],
             "passed_time": 5.339969475,
             "remaining_time": 32.80266963,
             "test": [
              0.4440454653
             ]
            },
            {
             "iteration": 14,
             "learn": [
              0.429141921
             ],
             "passed_time": 5.752929278,
             "remaining_time": 32.59993257,
             "test": [
              0.4318696242
             ]
            },
            {
             "iteration": 15,
             "learn": [
              0.4167102855
             ],
             "passed_time": 6.140781253,
             "remaining_time": 32.23910158,
             "test": [
              0.4194492915
             ]
            },
            {
             "iteration": 16,
             "learn": [
              0.4048736672
             ],
             "passed_time": 6.516265596,
             "remaining_time": 31.8147085,
             "test": [
              0.407682951
             ]
            },
            {
             "iteration": 17,
             "learn": [
              0.3931661477
             ],
             "passed_time": 6.883663544,
             "remaining_time": 31.3589117,
             "test": [
              0.3962450111
             ]
            },
            {
             "iteration": 18,
             "learn": [
              0.3829715324
             ],
             "passed_time": 7.28207687,
             "remaining_time": 31.0446435,
             "test": [
              0.3860614426
             ]
            },
            {
             "iteration": 19,
             "learn": [
              0.3724064031
             ],
             "passed_time": 7.651609887,
             "remaining_time": 30.60643955,
             "test": [
              0.3756222561
             ]
            },
            {
             "iteration": 20,
             "learn": [
              0.3633869247
             ],
             "passed_time": 8.037853596,
             "remaining_time": 30.23763972,
             "test": [
              0.3662860337
             ]
            },
            {
             "iteration": 21,
             "learn": [
              0.3539036345
             ],
             "passed_time": 8.404080582,
             "remaining_time": 29.7962857,
             "test": [
              0.3576447474
             ]
            },
            {
             "iteration": 22,
             "learn": [
              0.3447696551
             ],
             "passed_time": 8.77613781,
             "remaining_time": 29.3809831,
             "test": [
              0.3483628338
             ]
            },
            {
             "iteration": 23,
             "learn": [
              0.3357643206
             ],
             "passed_time": 9.142171051,
             "remaining_time": 28.95020833,
             "test": [
              0.3393155271
             ]
            },
            {
             "iteration": 24,
             "learn": [
              0.3269672893
             ],
             "passed_time": 9.552041265,
             "remaining_time": 28.65612379,
             "test": [
              0.3308408568
             ]
            },
            {
             "iteration": 25,
             "learn": [
              0.318551392
             ],
             "passed_time": 9.944790849,
             "remaining_time": 28.30440472,
             "test": [
              0.3224398183
             ]
            },
            {
             "iteration": 26,
             "learn": [
              0.3093763618
             ],
             "passed_time": 10.33017339,
             "remaining_time": 27.92972805,
             "test": [
              0.3134089093
             ]
            },
            {
             "iteration": 27,
             "learn": [
              0.3023938361
             ],
             "passed_time": 10.70534121,
             "remaining_time": 27.52802026,
             "test": [
              0.3066104552
             ]
            },
            {
             "iteration": 28,
             "learn": [
              0.2938485076
             ],
             "passed_time": 11.09175568,
             "remaining_time": 27.15567769,
             "test": [
              0.2982041112
             ]
            },
            {
             "iteration": 29,
             "learn": [
              0.285635277
             ],
             "passed_time": 11.4754206,
             "remaining_time": 26.77598141,
             "test": [
              0.2901215448
             ]
            },
            {
             "iteration": 30,
             "learn": [
              0.2778445418
             ],
             "passed_time": 11.85108132,
             "remaining_time": 26.37821327,
             "test": [
              0.2824522206
             ]
            },
            {
             "iteration": 31,
             "learn": [
              0.2716042409
             ],
             "passed_time": 12.21669214,
             "remaining_time": 25.9604708,
             "test": [
              0.2765429819
             ]
            },
            {
             "iteration": 32,
             "learn": [
              0.264095095
             ],
             "passed_time": 12.6047477,
             "remaining_time": 25.59145745,
             "test": [
              0.2694179661
             ]
            },
            {
             "iteration": 33,
             "learn": [
              0.2570732985
             ],
             "passed_time": 13.04287146,
             "remaining_time": 25.31851519,
             "test": [
              0.2626204717
             ]
            },
            {
             "iteration": 34,
             "learn": [
              0.2502575785
             ],
             "passed_time": 13.41876706,
             "remaining_time": 24.9205674,
             "test": [
              0.2559066671
             ]
            },
            {
             "iteration": 35,
             "learn": [
              0.2437569725
             ],
             "passed_time": 13.84740508,
             "remaining_time": 24.61760903,
             "test": [
              0.2494488137
             ]
            },
            {
             "iteration": 36,
             "learn": [
              0.2374714973
             ],
             "passed_time": 14.23333697,
             "remaining_time": 24.23514132,
             "test": [
              0.2432731445
             ]
            },
            {
             "iteration": 37,
             "learn": [
              0.2314840764
             ],
             "passed_time": 14.63868124,
             "remaining_time": 23.88416413,
             "test": [
              0.2373591209
             ]
            },
            {
             "iteration": 38,
             "learn": [
              0.2258329646
             ],
             "passed_time": 15.06482777,
             "remaining_time": 23.56293575,
             "test": [
              0.2317547777
             ]
            },
            {
             "iteration": 39,
             "learn": [
              0.2205181394
             ],
             "passed_time": 15.48151197,
             "remaining_time": 23.22226796,
             "test": [
              0.2262523925
             ]
            },
            {
             "iteration": 40,
             "learn": [
              0.2159499392
             ],
             "passed_time": 15.90696063,
             "remaining_time": 22.89050433,
             "test": [
              0.2215755879
             ]
            },
            {
             "iteration": 41,
             "learn": [
              0.2106328712
             ],
             "passed_time": 16.28784021,
             "remaining_time": 22.49273172,
             "test": [
              0.2164520007
             ]
            },
            {
             "iteration": 42,
             "learn": [
              0.2057267028
             ],
             "passed_time": 16.64501847,
             "remaining_time": 22.0643268,
             "test": [
              0.2116476453
             ]
            },
            {
             "iteration": 43,
             "learn": [
              0.200780587
             ],
             "passed_time": 17.02282595,
             "remaining_time": 21.66541485,
             "test": [
              0.206922979
             ]
            },
            {
             "iteration": 44,
             "learn": [
              0.1963116407
             ],
             "passed_time": 17.38668684,
             "remaining_time": 21.25039503,
             "test": [
              0.2025034787
             ]
            },
            {
             "iteration": 45,
             "learn": [
              0.1915687418
             ],
             "passed_time": 17.81366578,
             "remaining_time": 20.91169461,
             "test": [
              0.1978428488
             ]
            },
            {
             "iteration": 46,
             "learn": [
              0.1872756194
             ],
             "passed_time": 18.17262784,
             "remaining_time": 20.49253778,
             "test": [
              0.1938503208
             ]
            },
            {
             "iteration": 47,
             "learn": [
              0.1828489219
             ],
             "passed_time": 18.59118153,
             "remaining_time": 20.14044665,
             "test": [
              0.1894669706
             ]
            },
            {
             "iteration": 48,
             "learn": [
              0.1789169568
             ],
             "passed_time": 18.95665932,
             "remaining_time": 19.73040051,
             "test": [
              0.1857375367
             ]
            },
            {
             "iteration": 49,
             "learn": [
              0.174899471
             ],
             "passed_time": 19.32135805,
             "remaining_time": 19.32135805,
             "test": [
              0.1819220555
             ]
            },
            {
             "iteration": 50,
             "learn": [
              0.1713920713
             ],
             "passed_time": 19.66617165,
             "remaining_time": 18.89494923,
             "test": [
              0.1785016336
             ]
            },
            {
             "iteration": 51,
             "learn": [
              0.1675636374
             ],
             "passed_time": 20.10115091,
             "remaining_time": 18.55490853,
             "test": [
              0.1746561067
             ]
            },
            {
             "iteration": 52,
             "learn": [
              0.1639616406
             ],
             "passed_time": 20.45806405,
             "remaining_time": 18.1420568,
             "test": [
              0.1713475631
             ]
            },
            {
             "iteration": 53,
             "learn": [
              0.1606740904
             ],
             "passed_time": 20.81252891,
             "remaining_time": 17.7291913,
             "test": [
              0.1681214493
             ]
            },
            {
             "iteration": 54,
             "learn": [
              0.1575645368
             ],
             "passed_time": 21.14868186,
             "remaining_time": 17.30346698,
             "test": [
              0.1651871881
             ]
            },
            {
             "iteration": 55,
             "learn": [
              0.1546824387
             ],
             "passed_time": 21.48605829,
             "remaining_time": 16.88190294,
             "test": [
              0.1623029782
             ]
            },
            {
             "iteration": 56,
             "learn": [
              0.1514883691
             ],
             "passed_time": 21.91388754,
             "remaining_time": 16.5315292,
             "test": [
              0.1590400877
             ]
            },
            {
             "iteration": 57,
             "learn": [
              0.1489139597
             ],
             "passed_time": 22.26998902,
             "remaining_time": 16.12654378,
             "test": [
              0.1567351646
             ]
            },
            {
             "iteration": 58,
             "learn": [
              0.1462828293
             ],
             "passed_time": 22.60678399,
             "remaining_time": 15.70979904,
             "test": [
              0.154142259
             ]
            },
            {
             "iteration": 59,
             "learn": [
              0.1435754842
             ],
             "passed_time": 22.96356075,
             "remaining_time": 15.3090405,
             "test": [
              0.1514650607
             ]
            },
            {
             "iteration": 60,
             "learn": [
              0.1406738712
             ],
             "passed_time": 23.36097499,
             "remaining_time": 14.93570532,
             "test": [
              0.148575062
             ]
            },
            {
             "iteration": 61,
             "learn": [
              0.1383088775
             ],
             "passed_time": 23.6931205,
             "remaining_time": 14.52158999,
             "test": [
              0.1462690893
             ]
            },
            {
             "iteration": 62,
             "learn": [
              0.1359761448
             ],
             "passed_time": 24.04516499,
             "remaining_time": 14.12176356,
             "test": [
              0.1440218715
             ]
            },
            {
             "iteration": 63,
             "learn": [
              0.1337235104
             ],
             "passed_time": 24.38202938,
             "remaining_time": 13.71489152,
             "test": [
              0.1417907151
             ]
            },
            {
             "iteration": 64,
             "learn": [
              0.1314184752
             ],
             "passed_time": 24.73438415,
             "remaining_time": 13.31851454,
             "test": [
              0.1396141932
             ]
            },
            {
             "iteration": 65,
             "learn": [
              0.12931833
             ],
             "passed_time": 25.08078876,
             "remaining_time": 12.92040633,
             "test": [
              0.1375473144
             ]
            },
            {
             "iteration": 66,
             "learn": [
              0.1275045007
             ],
             "passed_time": 25.44203256,
             "remaining_time": 12.53115036,
             "test": [
              0.1355468795
             ]
            },
            {
             "iteration": 67,
             "learn": [
              0.1254091773
             ],
             "passed_time": 25.92012393,
             "remaining_time": 12.19770538,
             "test": [
              0.133557666
             ]
            },
            {
             "iteration": 68,
             "learn": [
              0.1233658819
             ],
             "passed_time": 26.3882058,
             "remaining_time": 11.85557072,
             "test": [
              0.1315602756
             ]
            },
            {
             "iteration": 69,
             "learn": [
              0.1210505706
             ],
             "passed_time": 26.76531851,
             "remaining_time": 11.47085079,
             "test": [
              0.1292217585
             ]
            },
            {
             "iteration": 70,
             "learn": [
              0.1195917716
             ],
             "passed_time": 27.05114988,
             "remaining_time": 11.04906122,
             "test": [
              0.1276189423
             ]
            },
            {
             "iteration": 71,
             "learn": [
              0.1182504784
             ],
             "passed_time": 27.32115595,
             "remaining_time": 10.62489398,
             "test": [
              0.126208829
             ]
            },
            {
             "iteration": 72,
             "learn": [
              0.1160886067
             ],
             "passed_time": 27.68131878,
             "remaining_time": 10.23829599,
             "test": [
              0.1239989453
             ]
            },
            {
             "iteration": 73,
             "learn": [
              0.1139732993
             ],
             "passed_time": 28.07841217,
             "remaining_time": 9.865388058,
             "test": [
              0.1218617671
             ]
            },
            {
             "iteration": 74,
             "learn": [
              0.112775096
             ],
             "passed_time": 28.35250581,
             "remaining_time": 9.45083527,
             "test": [
              0.1206496064
             ]
            },
            {
             "iteration": 75,
             "learn": [
              0.1106785913
             ],
             "passed_time": 28.74689189,
             "remaining_time": 9.077965859,
             "test": [
              0.1185519273
             ]
            },
            {
             "iteration": 76,
             "learn": [
              0.1095669806
             ],
             "passed_time": 29.03061522,
             "remaining_time": 8.671482469,
             "test": [
              0.1173665316
             ]
            },
            {
             "iteration": 77,
             "learn": [
              0.1078605197
             ],
             "passed_time": 29.39088189,
             "remaining_time": 8.289735919,
             "test": [
              0.1155888142
             ]
            },
            {
             "iteration": 78,
             "learn": [
              0.1068068583
             ],
             "passed_time": 29.67070355,
             "remaining_time": 7.887149046,
             "test": [
              0.1144696841
             ]
            },
            {
             "iteration": 79,
             "learn": [
              0.1053759172
             ],
             "passed_time": 30.0203849,
             "remaining_time": 7.505096224,
             "test": [
              0.1130722207
             ]
            },
            {
             "iteration": 80,
             "learn": [
              0.1044344264
             ],
             "passed_time": 30.28398201,
             "remaining_time": 7.103650102,
             "test": [
              0.1121671503
             ]
            },
            {
             "iteration": 81,
             "learn": [
              0.1026059906
             ],
             "passed_time": 30.65087931,
             "remaining_time": 6.728241801,
             "test": [
              0.110468531
             ]
            },
            {
             "iteration": 82,
             "learn": [
              0.1016851148
             ],
             "passed_time": 30.92842399,
             "remaining_time": 6.334737444,
             "test": [
              0.1094670952
             ]
            },
            {
             "iteration": 83,
             "learn": [
              0.09978156704
             ],
             "passed_time": 31.35036247,
             "remaining_time": 5.971497613,
             "test": [
              0.1075901414
             ]
            },
            {
             "iteration": 84,
             "learn": [
              0.09831171365
             ],
             "passed_time": 31.69190472,
             "remaining_time": 5.592689069,
             "test": [
              0.1062324398
             ]
            },
            {
             "iteration": 85,
             "learn": [
              0.0974902204
             ],
             "passed_time": 31.96590632,
             "remaining_time": 5.203752191,
             "test": [
              0.1053120112
             ]
            },
            {
             "iteration": 86,
             "learn": [
              0.09591294608
             ],
             "passed_time": 32.3407272,
             "remaining_time": 4.832522455,
             "test": [
              0.1037292134
             ]
            },
            {
             "iteration": 87,
             "learn": [
              0.09419310267
             ],
             "passed_time": 32.75060762,
             "remaining_time": 4.465991948,
             "test": [
              0.1021613512
             ]
            },
            {
             "iteration": 88,
             "learn": [
              0.09331940489
             ],
             "passed_time": 33.02238238,
             "remaining_time": 4.081418047,
             "test": [
              0.1013555252
             ]
            },
            {
             "iteration": 89,
             "learn": [
              0.09160223148
             ],
             "passed_time": 33.46103582,
             "remaining_time": 3.717892869,
             "test": [
              0.09964557134
             ]
            },
            {
             "iteration": 90,
             "learn": [
              0.09053613831
             ],
             "passed_time": 33.76606214,
             "remaining_time": 3.339500651,
             "test": [
              0.09866547661
             ]
            },
            {
             "iteration": 91,
             "learn": [
              0.08982517869
             ],
             "passed_time": 34.03640332,
             "remaining_time": 2.959687245,
             "test": [
              0.09800081375
             ]
            },
            {
             "iteration": 92,
             "learn": [
              0.08838730639
             ],
             "passed_time": 34.42500784,
             "remaining_time": 2.591129622,
             "test": [
              0.09658406017
             ]
            },
            {
             "iteration": 93,
             "learn": [
              0.08707153327
             ],
             "passed_time": 34.82684794,
             "remaining_time": 2.222990294,
             "test": [
              0.09522163461
             ]
            },
            {
             "iteration": 94,
             "learn": [
              0.08641342586
             ],
             "passed_time": 35.10739271,
             "remaining_time": 1.847757511,
             "test": [
              0.09462883085
             ]
            },
            {
             "iteration": 95,
             "learn": [
              0.08493778881
             ],
             "passed_time": 35.52251142,
             "remaining_time": 1.480104642,
             "test": [
              0.0933405279
             ]
            },
            {
             "iteration": 96,
             "learn": [
              0.08393104231
             ],
             "passed_time": 35.82868642,
             "remaining_time": 1.108103704,
             "test": [
              0.09251145874
             ]
            },
            {
             "iteration": 97,
             "learn": [
              0.08306146647
             ],
             "passed_time": 36.15618955,
             "remaining_time": 0.7378814194,
             "test": [
              0.09166947161
             ]
            },
            {
             "iteration": 98,
             "learn": [
              0.08176658397
             ],
             "passed_time": 36.50191963,
             "remaining_time": 0.3687062588,
             "test": [
              0.09021206016
             ]
            },
            {
             "iteration": 99,
             "learn": [
              0.08107042002
             ],
             "passed_time": 36.78258358,
             "remaining_time": 0,
             "test": [
              0.08954091265
             ]
            }
           ],
           "meta": {
            "iteration_count": 100,
            "launch_mode": "Train",
            "learn_metrics": [
             {
              "best_value": "Min",
              "name": "CrossEntropy"
             }
            ],
            "learn_sets": [
             "learn"
            ],
            "name": "experiment",
            "parameters": "",
            "test_metrics": [
             {
              "best_value": "Min",
              "name": "CrossEntropy"
             }
            ],
            "test_sets": [
             "test"
            ]
           }
          },
          "passed_iterations": 99,
          "total_iterations": 100
         },
         "name": "catboost_info",
         "path": "catboost_info"
        }
       },
       "layout": "IPY_MODEL_b515c4bbcd3f42d386b200af31ac3700"
      }
     },
     "08ce9c2e20274b50b7ee05f6fc7be2a7": {
      "model_module": "@jupyter-widgets/base",
      "model_module_version": "1.2.0",
      "model_name": "LayoutModel",
      "state": {
       "_model_module": "@jupyter-widgets/base",
       "_model_module_version": "1.2.0",
       "_model_name": "LayoutModel",
       "_view_count": null,
       "_view_module": "@jupyter-widgets/base",
       "_view_module_version": "1.2.0",
       "_view_name": "LayoutView",
       "align_content": null,
       "align_items": null,
       "align_self": "stretch",
       "border": null,
       "bottom": null,
       "display": null,
       "flex": null,
       "flex_flow": null,
       "grid_area": null,
       "grid_auto_columns": null,
       "grid_auto_flow": null,
       "grid_auto_rows": null,
       "grid_column": null,
       "grid_gap": null,
       "grid_row": null,
       "grid_template_areas": null,
       "grid_template_columns": null,
       "grid_template_rows": null,
       "height": "500px",
       "justify_content": null,
       "justify_items": null,
       "left": null,
       "margin": null,
       "max_height": null,
       "max_width": null,
       "min_height": null,
       "min_width": null,
       "object_fit": null,
       "object_position": null,
       "order": null,
       "overflow": null,
       "overflow_x": null,
       "overflow_y": null,
       "padding": null,
       "right": null,
       "top": null,
       "visibility": null,
       "width": null
      }
     },
     "092c2cb814fa4966972a0f09bc4ce64e": {
      "model_module": "@jupyter-widgets/base",
      "model_module_version": "1.2.0",
      "model_name": "LayoutModel",
      "state": {
       "_model_module": "@jupyter-widgets/base",
       "_model_module_version": "1.2.0",
       "_model_name": "LayoutModel",
       "_view_count": null,
       "_view_module": "@jupyter-widgets/base",
       "_view_module_version": "1.2.0",
       "_view_name": "LayoutView",
       "align_content": null,
       "align_items": null,
       "align_self": "stretch",
       "border": null,
       "bottom": null,
       "display": null,
       "flex": null,
       "flex_flow": null,
       "grid_area": null,
       "grid_auto_columns": null,
       "grid_auto_flow": null,
       "grid_auto_rows": null,
       "grid_column": null,
       "grid_gap": null,
       "grid_row": null,
       "grid_template_areas": null,
       "grid_template_columns": null,
       "grid_template_rows": null,
       "height": "500px",
       "justify_content": null,
       "justify_items": null,
       "left": null,
       "margin": null,
       "max_height": null,
       "max_width": null,
       "min_height": null,
       "min_width": null,
       "object_fit": null,
       "object_position": null,
       "order": null,
       "overflow": null,
       "overflow_x": null,
       "overflow_y": null,
       "padding": null,
       "right": null,
       "top": null,
       "visibility": null,
       "width": null
      }
     },
     "154c69f7ec4d4d1ab224a1507f524139": {
      "model_module": "catboost-widget",
      "model_module_version": "^1.0.0",
      "model_name": "CatboostWidgetModel",
      "state": {
       "_dom_classes": [],
       "_model_module": "catboost-widget",
       "_model_module_version": "^1.0.0",
       "_model_name": "CatboostWidgetModel",
       "_view_count": null,
       "_view_module": "catboost-widget",
       "_view_module_version": "^1.0.0",
       "_view_name": "CatboostWidgetView",
       "data": {
        "catboost_info": {
         "content": {
          "data": {
           "iterations": [
            {
             "iteration": 0,
             "learn": [
              0.6624075961
             ],
             "passed_time": 0.3233424521,
             "remaining_time": 32.01090276,
             "test": [
              0.6641075839
             ]
            },
            {
             "iteration": 1,
             "learn": [
              0.6378826012
             ],
             "passed_time": 0.6086168005,
             "remaining_time": 29.82222322,
             "test": [
              0.6368984829
             ]
            },
            {
             "iteration": 2,
             "learn": [
              0.6113330808
             ],
             "passed_time": 0.9014035664,
             "remaining_time": 29.14538198,
             "test": [
              0.6112605803
             ]
            },
            {
             "iteration": 3,
             "learn": [
              0.5867034143
             ],
             "passed_time": 1.219961975,
             "remaining_time": 29.27908741,
             "test": [
              0.586928818
             ]
            },
            {
             "iteration": 4,
             "learn": [
              0.5650818921
             ],
             "passed_time": 1.544980755,
             "remaining_time": 29.35463435,
             "test": [
              0.5637971126
             ]
            },
            {
             "iteration": 5,
             "learn": [
              0.5429338644
             ],
             "passed_time": 1.833844338,
             "remaining_time": 28.73022797,
             "test": [
              0.5419509335
             ]
            },
            {
             "iteration": 6,
             "learn": [
              0.5213223872
             ],
             "passed_time": 2.097285844,
             "remaining_time": 27.86394049,
             "test": [
              0.5213218734
             ]
            },
            {
             "iteration": 7,
             "learn": [
              0.5035004998
             ],
             "passed_time": 2.357430657,
             "remaining_time": 27.11045255,
             "test": [
              0.501659372
             ]
            },
            {
             "iteration": 8,
             "learn": [
              0.484000553
             ],
             "passed_time": 2.655802855,
             "remaining_time": 26.85311775,
             "test": [
              0.482823502
             ]
            },
            {
             "iteration": 9,
             "learn": [
              0.4665229315
             ],
             "passed_time": 2.949970066,
             "remaining_time": 26.54973059,
             "test": [
              0.4649167552
             ]
            },
            {
             "iteration": 10,
             "learn": [
              0.4500076972
             ],
             "passed_time": 3.253066815,
             "remaining_time": 26.32026786,
             "test": [
              0.4478805932
             ]
            },
            {
             "iteration": 11,
             "learn": [
              0.4343809241
             ],
             "passed_time": 3.56487001,
             "remaining_time": 26.14238007,
             "test": [
              0.4316524846
             ]
            },
            {
             "iteration": 12,
             "learn": [
              0.4191610482
             ],
             "passed_time": 3.857807156,
             "remaining_time": 25.81763251,
             "test": [
              0.4162437967
             ]
            },
            {
             "iteration": 13,
             "learn": [
              0.4042740567
             ],
             "passed_time": 4.188292023,
             "remaining_time": 25.72807957,
             "test": [
              0.4015100744
             ]
            },
            {
             "iteration": 14,
             "learn": [
              0.3895986303
             ],
             "passed_time": 4.496642226,
             "remaining_time": 25.48097261,
             "test": [
              0.3872906259
             ]
            },
            {
             "iteration": 15,
             "learn": [
              0.3756288901
             ],
             "passed_time": 4.787453532,
             "remaining_time": 25.13413104,
             "test": [
              0.3737407002
             ]
            },
            {
             "iteration": 16,
             "learn": [
              0.3637569285
             ],
             "passed_time": 5.087231422,
             "remaining_time": 24.83765929,
             "test": [
              0.360847404
             ]
            },
            {
             "iteration": 17,
             "learn": [
              0.3510561099
             ],
             "passed_time": 5.378545324,
             "remaining_time": 24.50226203,
             "test": [
              0.3484764683
             ]
            },
            {
             "iteration": 18,
             "learn": [
              0.3386728042
             ],
             "passed_time": 5.727306875,
             "remaining_time": 24.41641352,
             "test": [
              0.3365080402
             ]
            },
            {
             "iteration": 19,
             "learn": [
              0.3280336829
             ],
             "passed_time": 5.997558417,
             "remaining_time": 23.99023367,
             "test": [
              0.3252523152
             ]
            },
            {
             "iteration": 20,
             "learn": [
              0.3171937247
             ],
             "passed_time": 6.295647691,
             "remaining_time": 23.68362703,
             "test": [
              0.3143442789
             ]
            },
            {
             "iteration": 21,
             "learn": [
              0.3062170275
             ],
             "passed_time": 6.681064604,
             "remaining_time": 23.68741087,
             "test": [
              0.3038294971
             ]
            },
            {
             "iteration": 22,
             "learn": [
              0.2969424476
             ],
             "passed_time": 7.110651009,
             "remaining_time": 23.80522294,
             "test": [
              0.293729751
             ]
            },
            {
             "iteration": 23,
             "learn": [
              0.2872457556
             ],
             "passed_time": 7.441121688,
             "remaining_time": 23.56355201,
             "test": [
              0.2840245535
             ]
            },
            {
             "iteration": 24,
             "learn": [
              0.2776944893
             ],
             "passed_time": 7.755520384,
             "remaining_time": 23.26656115,
             "test": [
              0.2746119966
             ]
            },
            {
             "iteration": 25,
             "learn": [
              0.2685833663
             ],
             "passed_time": 8.029802986,
             "remaining_time": 22.85405465,
             "test": [
              0.2657182635
             ]
            },
            {
             "iteration": 26,
             "learn": [
              0.2600182429
             ],
             "passed_time": 8.348421107,
             "remaining_time": 22.57165707,
             "test": [
              0.2570053249
             ]
            },
            {
             "iteration": 27,
             "learn": [
              0.2519421327
             ],
             "passed_time": 8.60967124,
             "remaining_time": 22.13915462,
             "test": [
              0.2487826749
             ]
            },
            {
             "iteration": 28,
             "learn": [
              0.2441794633
             ],
             "passed_time": 8.902405193,
             "remaining_time": 21.79554375,
             "test": [
              0.2408425605
             ]
            },
            {
             "iteration": 29,
             "learn": [
              0.2364966508
             ],
             "passed_time": 9.161962941,
             "remaining_time": 21.37791353,
             "test": [
              0.2332372323
             ]
            },
            {
             "iteration": 30,
             "learn": [
              0.2291043551
             ],
             "passed_time": 9.423288935,
             "remaining_time": 20.97441731,
             "test": [
              0.2258833121
             ]
            },
            {
             "iteration": 31,
             "learn": [
              0.2221295963
             ],
             "passed_time": 9.690942326,
             "remaining_time": 20.59325244,
             "test": [
              0.2188563525
             ]
            },
            {
             "iteration": 32,
             "learn": [
              0.2155207456
             ],
             "passed_time": 10.02707657,
             "remaining_time": 20.35800394,
             "test": [
              0.2119575837
             ]
            },
            {
             "iteration": 33,
             "learn": [
              0.2089706672
             ],
             "passed_time": 10.3592704,
             "remaining_time": 20.10917195,
             "test": [
              0.2053216375
             ]
            },
            {
             "iteration": 34,
             "learn": [
              0.2024001798
             ],
             "passed_time": 10.6214964,
             "remaining_time": 19.72563617,
             "test": [
              0.1990378169
             ]
            },
            {
             "iteration": 35,
             "learn": [
              0.1965707824
             ],
             "passed_time": 10.86947474,
             "remaining_time": 19.32351065,
             "test": [
              0.1929626188
             ]
            },
            {
             "iteration": 36,
             "learn": [
              0.1905308277
             ],
             "passed_time": 11.16088364,
             "remaining_time": 19.00366674,
             "test": [
              0.1868827896
             ]
            },
            {
             "iteration": 37,
             "learn": [
              0.1847859502
             ],
             "passed_time": 11.50892029,
             "remaining_time": 18.77771204,
             "test": [
              0.1811381314
             ]
            },
            {
             "iteration": 38,
             "learn": [
              0.1792372633
             ],
             "passed_time": 11.75590565,
             "remaining_time": 18.38744217,
             "test": [
              0.1757206006
             ]
            },
            {
             "iteration": 39,
             "learn": [
              0.1740711102
             ],
             "passed_time": 12.05769516,
             "remaining_time": 18.08654274,
             "test": [
              0.1702646534
             ]
            },
            {
             "iteration": 40,
             "learn": [
              0.1686879994
             ],
             "passed_time": 12.33778416,
             "remaining_time": 17.75437232,
             "test": [
              0.1650870477
             ]
            },
            {
             "iteration": 41,
             "learn": [
              0.1637888635
             ],
             "passed_time": 12.63721951,
             "remaining_time": 17.45139837,
             "test": [
              0.1600373815
             ]
            },
            {
             "iteration": 42,
             "learn": [
              0.1592316181
             ],
             "passed_time": 12.88868858,
             "remaining_time": 17.0850058,
             "test": [
              0.1552813971
             ]
            },
            {
             "iteration": 43,
             "learn": [
              0.1545649762
             ],
             "passed_time": 13.22439234,
             "remaining_time": 16.8310448,
             "test": [
              0.1506417079
             ]
            },
            {
             "iteration": 44,
             "learn": [
              0.1499572977
             ],
             "passed_time": 13.50718029,
             "remaining_time": 16.50877591,
             "test": [
              0.1461038959
             ]
            },
            {
             "iteration": 45,
             "learn": [
              0.1456490111
             ],
             "passed_time": 13.75883764,
             "remaining_time": 16.15167897,
             "test": [
              0.1418257354
             ]
            },
            {
             "iteration": 46,
             "learn": [
              0.1414646032
             ],
             "passed_time": 14.06709701,
             "remaining_time": 15.86289662,
             "test": [
              0.1375843682
             ]
            },
            {
             "iteration": 47,
             "learn": [
              0.1375383248
             ],
             "passed_time": 14.3303166,
             "remaining_time": 15.52450965,
             "test": [
              0.1335859096
             ]
            },
            {
             "iteration": 48,
             "learn": [
              0.1336196052
             ],
             "passed_time": 14.59988936,
             "remaining_time": 15.19580321,
             "test": [
              0.1296056781
             ]
            },
            {
             "iteration": 49,
             "learn": [
              0.1298033751
             ],
             "passed_time": 14.94562156,
             "remaining_time": 14.94562156,
             "test": [
              0.1258215869
             ]
            },
            {
             "iteration": 50,
             "learn": [
              0.1262218438
             ],
             "passed_time": 15.19021421,
             "remaining_time": 14.59451953,
             "test": [
              0.1222302555
             ]
            },
            {
             "iteration": 51,
             "learn": [
              0.1228410243
             ],
             "passed_time": 15.53837634,
             "remaining_time": 14.34311663,
             "test": [
              0.1187545407
             ]
            },
            {
             "iteration": 52,
             "learn": [
              0.1193609492
             ],
             "passed_time": 15.88880881,
             "remaining_time": 14.09007574,
             "test": [
              0.1153215102
             ]
            },
            {
             "iteration": 53,
             "learn": [
              0.116029639
             ],
             "passed_time": 16.20293625,
             "remaining_time": 13.80250125,
             "test": [
              0.1119952585
             ]
            },
            {
             "iteration": 54,
             "learn": [
              0.1128971008
             ],
             "passed_time": 16.46101963,
             "remaining_time": 13.46810697,
             "test": [
              0.1089015127
             ]
            },
            {
             "iteration": 55,
             "learn": [
              0.109944409
             ],
             "passed_time": 16.77088248,
             "remaining_time": 13.17712195,
             "test": [
              0.1058394791
             ]
            },
            {
             "iteration": 56,
             "learn": [
              0.1068240041
             ],
             "passed_time": 17.09946868,
             "remaining_time": 12.89959918,
             "test": [
              0.1027191872
             ]
            },
            {
             "iteration": 57,
             "learn": [
              0.1038490775
             ],
             "passed_time": 17.40716468,
             "remaining_time": 12.60518822,
             "test": [
              0.09976157657
             ]
            },
            {
             "iteration": 58,
             "learn": [
              0.1010438429
             ],
             "passed_time": 17.75208252,
             "remaining_time": 12.33619294,
             "test": [
              0.09694744646
             ]
            },
            {
             "iteration": 59,
             "learn": [
              0.09824723625
             ],
             "passed_time": 18.09468832,
             "remaining_time": 12.06312555,
             "test": [
              0.09409492824
             ]
            },
            {
             "iteration": 60,
             "learn": [
              0.09569546062
             ],
             "passed_time": 18.41781672,
             "remaining_time": 11.77532544,
             "test": [
              0.09156251872
             ]
            },
            {
             "iteration": 61,
             "learn": [
              0.09319532663
             ],
             "passed_time": 18.68863545,
             "remaining_time": 11.45432495,
             "test": [
              0.08902254636
             ]
            },
            {
             "iteration": 62,
             "learn": [
              0.0906208005
             ],
             "passed_time": 19.04088674,
             "remaining_time": 11.18274301,
             "test": [
              0.08641933416
             ]
            },
            {
             "iteration": 63,
             "learn": [
              0.08815047043
             ],
             "passed_time": 19.39542255,
             "remaining_time": 10.90992518,
             "test": [
              0.08394642137
             ]
            },
            {
             "iteration": 64,
             "learn": [
              0.08588343627
             ],
             "passed_time": 19.72117222,
             "remaining_time": 10.61909273,
             "test": [
              0.08172717183
             ]
            },
            {
             "iteration": 65,
             "learn": [
              0.08373966866
             ],
             "passed_time": 19.99619618,
             "remaining_time": 10.30107076,
             "test": [
              0.07957665416
             ]
            },
            {
             "iteration": 66,
             "learn": [
              0.08155563823
             ],
             "passed_time": 20.2523291,
             "remaining_time": 9.975027768,
             "test": [
              0.07733600775
             ]
            },
            {
             "iteration": 67,
             "learn": [
              0.07955145608
             ],
             "passed_time": 20.5213721,
             "remaining_time": 9.657116282,
             "test": [
              0.07532791291
             ]
            },
            {
             "iteration": 68,
             "learn": [
              0.07741878653
             ],
             "passed_time": 20.88961747,
             "remaining_time": 9.385190458,
             "test": [
              0.07319465775
             ]
            },
            {
             "iteration": 69,
             "learn": [
              0.07539082414
             ],
             "passed_time": 21.16903996,
             "remaining_time": 9.072445697,
             "test": [
              0.07115142412
             ]
            },
            {
             "iteration": 70,
             "learn": [
              0.07344987167
             ],
             "passed_time": 21.51832408,
             "remaining_time": 8.789174626,
             "test": [
              0.06922012494
             ]
            },
            {
             "iteration": 71,
             "learn": [
              0.07152165598
             ],
             "passed_time": 21.85727992,
             "remaining_time": 8.500053301,
             "test": [
              0.0672490798
             ]
            },
            {
             "iteration": 72,
             "learn": [
              0.06980829036
             ],
             "passed_time": 22.17893717,
             "remaining_time": 8.203168544,
             "test": [
              0.06556343379
             ]
            },
            {
             "iteration": 73,
             "learn": [
              0.06800012565
             ],
             "passed_time": 22.53205055,
             "remaining_time": 7.91666641,
             "test": [
              0.06382275437
             ]
            },
            {
             "iteration": 74,
             "learn": [
              0.06629319203
             ],
             "passed_time": 22.78414164,
             "remaining_time": 7.594713879,
             "test": [
              0.06207720844
             ]
            },
            {
             "iteration": 75,
             "learn": [
              0.06462987819
             ],
             "passed_time": 23.12151703,
             "remaining_time": 7.301531694,
             "test": [
              0.06047541585
             ]
            },
            {
             "iteration": 76,
             "learn": [
              0.0630588571
             ],
             "passed_time": 23.45384496,
             "remaining_time": 7.00569395,
             "test": [
              0.05889404126
             ]
            },
            {
             "iteration": 77,
             "learn": [
              0.06151239673
             ],
             "passed_time": 23.78021308,
             "remaining_time": 6.707239587,
             "test": [
              0.0574067391
             ]
            },
            {
             "iteration": 78,
             "learn": [
              0.05996203208
             ],
             "passed_time": 24.10809671,
             "remaining_time": 6.408481404,
             "test": [
              0.05583745647
             ]
            },
            {
             "iteration": 79,
             "learn": [
              0.05842174951
             ],
             "passed_time": 24.37967454,
             "remaining_time": 6.094918636,
             "test": [
              0.05431427109
             ]
            },
            {
             "iteration": 80,
             "learn": [
              0.05697154869
             ],
             "passed_time": 24.69255578,
             "remaining_time": 5.792080986,
             "test": [
              0.05286497149
             ]
            },
            {
             "iteration": 81,
             "learn": [
              0.05563288234
             ],
             "passed_time": 25.03057308,
             "remaining_time": 5.494516043,
             "test": [
              0.05151088374
             ]
            },
            {
             "iteration": 82,
             "learn": [
              0.05433153664
             ],
             "passed_time": 25.37892648,
             "remaining_time": 5.198093375,
             "test": [
              0.05023757056
             ]
            },
            {
             "iteration": 83,
             "learn": [
              0.05308580613
             ],
             "passed_time": 25.63927542,
             "remaining_time": 4.883671509,
             "test": [
              0.04900570161
             ]
            },
            {
             "iteration": 84,
             "learn": [
              0.05193434574
             ],
             "passed_time": 25.87241381,
             "remaining_time": 4.565720084,
             "test": [
              0.04788461103
             ]
            },
            {
             "iteration": 85,
             "learn": [
              0.05071060884
             ],
             "passed_time": 26.20841698,
             "remaining_time": 4.266486485,
             "test": [
              0.04665400576
             ]
            },
            {
             "iteration": 86,
             "learn": [
              0.04958431476
             ],
             "passed_time": 26.4670325,
             "remaining_time": 3.954843936,
             "test": [
              0.04552719525
             ]
            },
            {
             "iteration": 87,
             "learn": [
              0.04842087337
             ],
             "passed_time": 26.82736405,
             "remaining_time": 3.658276916,
             "test": [
              0.0443760949
             ]
            },
            {
             "iteration": 88,
             "learn": [
              0.04724854247
             ],
             "passed_time": 27.15577849,
             "remaining_time": 3.356332173,
             "test": [
              0.04319465666
             ]
            },
            {
             "iteration": 89,
             "learn": [
              0.04614268578
             ],
             "passed_time": 27.48801277,
             "remaining_time": 3.054223642,
             "test": [
              0.04210384455
             ]
            },
            {
             "iteration": 90,
             "learn": [
              0.04503323118
             ],
             "passed_time": 27.84302496,
             "remaining_time": 2.753705766,
             "test": [
              0.04099155001
             ]
            },
            {
             "iteration": 91,
             "learn": [
              0.04406581152
             ],
             "passed_time": 28.13092877,
             "remaining_time": 2.446167719,
             "test": [
              0.03997700665
             ]
            },
            {
             "iteration": 92,
             "learn": [
              0.04318619547
             ],
             "passed_time": 28.42393536,
             "remaining_time": 2.139435994,
             "test": [
              0.03912648941
             ]
            },
            {
             "iteration": 93,
             "learn": [
              0.04226950472
             ],
             "passed_time": 28.77100535,
             "remaining_time": 1.83644715,
             "test": [
              0.0382174158
             ]
            },
            {
             "iteration": 94,
             "learn": [
              0.04128525288
             ],
             "passed_time": 29.1320854,
             "remaining_time": 1.533267653,
             "test": [
              0.03731704713
             ]
            },
            {
             "iteration": 95,
             "learn": [
              0.0404160302
             ],
             "passed_time": 29.47989903,
             "remaining_time": 1.228329126,
             "test": [
              0.03647053576
             ]
            },
            {
             "iteration": 96,
             "learn": [
              0.03945529464
             ],
             "passed_time": 29.80211115,
             "remaining_time": 0.921714778,
             "test": [
              0.03559256144
             ]
            },
            {
             "iteration": 97,
             "learn": [
              0.0385476563
             ],
             "passed_time": 30.1420208,
             "remaining_time": 0.6151432816,
             "test": [
              0.03471261623
             ]
            },
            {
             "iteration": 98,
             "learn": [
              0.03768234375
             ],
             "passed_time": 30.46670399,
             "remaining_time": 0.3077444847,
             "test": [
              0.03386595757
             ]
            },
            {
             "iteration": 99,
             "learn": [
              0.03687775383
             ],
             "passed_time": 30.77656939,
             "remaining_time": 0,
             "test": [
              0.03309024445
             ]
            }
           ],
           "meta": {
            "iteration_count": 100,
            "launch_mode": "Train",
            "learn_metrics": [
             {
              "best_value": "Min",
              "name": "CrossEntropy"
             }
            ],
            "learn_sets": [
             "learn"
            ],
            "name": "experiment",
            "parameters": "",
            "test_metrics": [
             {
              "best_value": "Min",
              "name": "CrossEntropy"
             }
            ],
            "test_sets": [
             "test"
            ]
           }
          },
          "passed_iterations": 99,
          "total_iterations": 100
         },
         "name": "catboost_info",
         "path": "catboost_info"
        }
       },
       "layout": "IPY_MODEL_2dcaa6efc7a04cceb756e0cd81685203"
      }
     },
     "1af0d54738774a1693a84d236f3ae2bf": {
      "model_module": "catboost-widget",
      "model_module_version": "^1.0.0",
      "model_name": "CatboostWidgetModel",
      "state": {
       "_dom_classes": [],
       "_model_module": "catboost-widget",
       "_model_module_version": "^1.0.0",
       "_model_name": "CatboostWidgetModel",
       "_view_count": null,
       "_view_module": "catboost-widget",
       "_view_module_version": "^1.0.0",
       "_view_name": "CatboostWidgetView",
       "data": {
        "catboost_info": {
         "content": {
          "data": {
           "iterations": [
            {
             "iteration": 0,
             "learn": [
              0.6635951999
             ],
             "passed_time": 0.3954351241,
             "remaining_time": 39.14807729,
             "test": [
              0.6657492806
             ]
            },
            {
             "iteration": 1,
             "learn": [
              0.6403979908
             ],
             "passed_time": 0.7898653254,
             "remaining_time": 38.70340094,
             "test": [
              0.6399025634
             ]
            },
            {
             "iteration": 2,
             "learn": [
              0.6149130839
             ],
             "passed_time": 1.188880275,
             "remaining_time": 38.44046223,
             "test": [
              0.6155085235
             ]
            },
            {
             "iteration": 3,
             "learn": [
              0.5911671428
             ],
             "passed_time": 1.591333359,
             "remaining_time": 38.19200062,
             "test": [
              0.5927535662
             ]
            },
            {
             "iteration": 4,
             "learn": [
              0.5710654442
             ],
             "passed_time": 1.987401073,
             "remaining_time": 37.76062038,
             "test": [
              0.5710240846
             ]
            },
            {
             "iteration": 5,
             "learn": [
              0.5489398015
             ],
             "passed_time": 2.44939399,
             "remaining_time": 38.37383917,
             "test": [
              0.5503671851
             ]
            },
            {
             "iteration": 6,
             "learn": [
              0.5294553922
             ],
             "passed_time": 2.974594784,
             "remaining_time": 39.51961642,
             "test": [
              0.5307312309
             ]
            },
            {
             "iteration": 7,
             "learn": [
              0.5122710237
             ],
             "passed_time": 3.471364833,
             "remaining_time": 39.92069558,
             "test": [
              0.5120905129
             ]
            },
            {
             "iteration": 8,
             "learn": [
              0.4936730855
             ],
             "passed_time": 3.864692864,
             "remaining_time": 39.07633896,
             "test": [
              0.4945480046
             ]
            },
            {
             "iteration": 9,
             "learn": [
              0.4764657574
             ],
             "passed_time": 4.268454292,
             "remaining_time": 38.41608863,
             "test": [
              0.4776535327
             ]
            },
            {
             "iteration": 10,
             "learn": [
              0.4609998262
             ],
             "passed_time": 4.65888735,
             "remaining_time": 37.69463402,
             "test": [
              0.4615718094
             ]
            },
            {
             "iteration": 11,
             "learn": [
              0.4462203813
             ],
             "passed_time": 5.02832321,
             "remaining_time": 36.87437021,
             "test": [
              0.4462919877
             ]
            },
            {
             "iteration": 12,
             "learn": [
              0.4314035585
             ],
             "passed_time": 5.41731762,
             "remaining_time": 36.25435638,
             "test": [
              0.4315963994
             ]
            },
            {
             "iteration": 13,
             "learn": [
              0.4172754099
             ],
             "passed_time": 5.81010686,
             "remaining_time": 35.69065643,
             "test": [
              0.4176105023
             ]
            },
            {
             "iteration": 14,
             "learn": [
              0.4032539829
             ],
             "passed_time": 6.205724811,
             "remaining_time": 35.16577393,
             "test": [
              0.4042201319
             ]
            },
            {
             "iteration": 15,
             "learn": [
              0.3898290979
             ],
             "passed_time": 6.608172466,
             "remaining_time": 34.69290544,
             "test": [
              0.3915513848
             ]
            },
            {
             "iteration": 16,
             "learn": [
              0.3777230093
             ],
             "passed_time": 7.019633328,
             "remaining_time": 34.27232743,
             "test": [
              0.3794726381
             ]
            },
            {
             "iteration": 17,
             "learn": [
              0.3662797826
             ],
             "passed_time": 7.424128704,
             "remaining_time": 33.82103076,
             "test": [
              0.3676603151
             ]
            },
            {
             "iteration": 18,
             "learn": [
              0.3547448838
             ],
             "passed_time": 7.810484209,
             "remaining_time": 33.29732742,
             "test": [
              0.3563537296
             ]
            },
            {
             "iteration": 19,
             "learn": [
              0.343878912
             ],
             "passed_time": 8.211850211,
             "remaining_time": 32.84740084,
             "test": [
              0.345578337
             ]
            },
            {
             "iteration": 20,
             "learn": [
              0.3334895385
             ],
             "passed_time": 8.586079873,
             "remaining_time": 32.30001476,
             "test": [
              0.3352750191
             ]
            },
            {
             "iteration": 21,
             "learn": [
              0.3232451064
             ],
             "passed_time": 8.98637902,
             "remaining_time": 31.86079834,
             "test": [
              0.3252792871
             ]
            },
            {
             "iteration": 22,
             "learn": [
              0.3138894774
             ],
             "passed_time": 9.372680612,
             "remaining_time": 31.37810466,
             "test": [
              0.3157419479
             ]
            },
            {
             "iteration": 23,
             "learn": [
              0.3044791933
             ],
             "passed_time": 9.76831597,
             "remaining_time": 30.93300057,
             "test": [
              0.3066129196
             ]
            },
            {
             "iteration": 24,
             "learn": [
              0.2957227353
             ],
             "passed_time": 10.20438359,
             "remaining_time": 30.61315078,
             "test": [
              0.2977997233
             ]
            },
            {
             "iteration": 25,
             "learn": [
              0.2867013796
             ],
             "passed_time": 10.61133625,
             "remaining_time": 30.20149547,
             "test": [
              0.2890403304
             ]
            },
            {
             "iteration": 26,
             "learn": [
              0.2786709419
             ],
             "passed_time": 10.98508005,
             "remaining_time": 29.70040162,
             "test": [
              0.2809083848
             ]
            },
            {
             "iteration": 27,
             "learn": [
              0.2707498674
             ],
             "passed_time": 11.3762284,
             "remaining_time": 29.25315874,
             "test": [
              0.2731052621
             ]
            },
            {
             "iteration": 28,
             "learn": [
              0.2629848404
             ],
             "passed_time": 11.78323871,
             "remaining_time": 28.8486189,
             "test": [
              0.265435733
             ]
            },
            {
             "iteration": 29,
             "learn": [
              0.2552157911
             ],
             "passed_time": 12.19484487,
             "remaining_time": 28.45463803,
             "test": [
              0.2579255246
             ]
            },
            {
             "iteration": 30,
             "learn": [
              0.2477245261
             ],
             "passed_time": 12.60681371,
             "remaining_time": 28.06032728,
             "test": [
              0.2507174685
             ]
            },
            {
             "iteration": 31,
             "learn": [
              0.2409744486
             ],
             "passed_time": 13.00546149,
             "remaining_time": 27.63660568,
             "test": [
              0.2440448089
             ]
            },
            {
             "iteration": 32,
             "learn": [
              0.2340320066
             ],
             "passed_time": 13.37407207,
             "remaining_time": 27.15341905,
             "test": [
              0.2373041115
             ]
            },
            {
             "iteration": 33,
             "learn": [
              0.2273357464
             ],
             "passed_time": 13.79891345,
             "remaining_time": 26.7861261,
             "test": [
              0.2308651714
             ]
            },
            {
             "iteration": 34,
             "learn": [
              0.2211688906
             ],
             "passed_time": 14.17218556,
             "remaining_time": 26.31977318,
             "test": [
              0.2248282354
             ]
            },
            {
             "iteration": 35,
             "learn": [
              0.2155870628
             ],
             "passed_time": 14.56627815,
             "remaining_time": 25.8956056,
             "test": [
              0.2190544324
             ]
            },
            {
             "iteration": 36,
             "learn": [
              0.2097736619
             ],
             "passed_time": 14.92626816,
             "remaining_time": 25.41499714,
             "test": [
              0.2133707429
             ]
            },
            {
             "iteration": 37,
             "learn": [
              0.2038544697
             ],
             "passed_time": 15.32481298,
             "remaining_time": 25.00364223,
             "test": [
              0.2077613057
             ]
            },
            {
             "iteration": 38,
             "learn": [
              0.1985181834
             ],
             "passed_time": 15.72086432,
             "remaining_time": 24.58904419,
             "test": [
              0.2025915324
             ]
            },
            {
             "iteration": 39,
             "learn": [
              0.1932243064
             ],
             "passed_time": 16.09586727,
             "remaining_time": 24.1438009,
             "test": [
              0.1973060977
             ]
            },
            {
             "iteration": 40,
             "learn": [
              0.1881953564
             ],
             "passed_time": 16.4690446,
             "remaining_time": 23.69935687,
             "test": [
              0.1923133581
             ]
            },
            {
             "iteration": 41,
             "learn": [
              0.1833334612
             ],
             "passed_time": 16.84451925,
             "remaining_time": 23.26147896,
             "test": [
              0.1876013757
             ]
            },
            {
             "iteration": 42,
             "learn": [
              0.1786728315
             ],
             "passed_time": 17.21535337,
             "remaining_time": 22.82035214,
             "test": [
              0.1829822689
             ]
            },
            {
             "iteration": 43,
             "learn": [
              0.1740954232
             ],
             "passed_time": 17.58642545,
             "remaining_time": 22.3827233,
             "test": [
              0.1786054491
             ]
            },
            {
             "iteration": 44,
             "learn": [
              0.169656858
             ],
             "passed_time": 17.98652671,
             "remaining_time": 21.98353264,
             "test": [
              0.1744460865
             ]
            },
            {
             "iteration": 45,
             "learn": [
              0.1655781714
             ],
             "passed_time": 18.35610547,
             "remaining_time": 21.54847164,
             "test": [
              0.170352188
             ]
            },
            {
             "iteration": 46,
             "learn": [
              0.1614274808
             ],
             "passed_time": 18.74926411,
             "remaining_time": 21.14278719,
             "test": [
              0.166213238
             ]
            },
            {
             "iteration": 47,
             "learn": [
              0.1569969166
             ],
             "passed_time": 19.17260708,
             "remaining_time": 20.77032433,
             "test": [
              0.1618150256
             ]
            },
            {
             "iteration": 48,
             "learn": [
              0.1526886154
             ],
             "passed_time": 19.60233159,
             "remaining_time": 20.40242676,
             "test": [
              0.1575330443
             ]
            },
            {
             "iteration": 49,
             "learn": [
              0.1485400215
             ],
             "passed_time": 20.0288641,
             "remaining_time": 20.0288641,
             "test": [
              0.1534669088
             ]
            },
            {
             "iteration": 50,
             "learn": [
              0.1445113381
             ],
             "passed_time": 20.44061469,
             "remaining_time": 19.63902196,
             "test": [
              0.1494744454
             ]
            },
            {
             "iteration": 51,
             "learn": [
              0.1407120953
             ],
             "passed_time": 20.85738655,
             "remaining_time": 19.2529722,
             "test": [
              0.1457116713
             ]
            },
            {
             "iteration": 52,
             "learn": [
              0.1372999178
             ],
             "passed_time": 21.23690538,
             "remaining_time": 18.83272741,
             "test": [
              0.1425016047
             ]
            },
            {
             "iteration": 53,
             "learn": [
              0.1337660394
             ],
             "passed_time": 21.65433635,
             "remaining_time": 18.44628652,
             "test": [
              0.1388972338
             ]
            },
            {
             "iteration": 54,
             "learn": [
              0.1302766664
             ],
             "passed_time": 22.06999796,
             "remaining_time": 18.05727106,
             "test": [
              0.1354646789
             ]
            },
            {
             "iteration": 55,
             "learn": [
              0.1268618274
             ],
             "passed_time": 22.4717472,
             "remaining_time": 17.6563728,
             "test": [
              0.1322267472
             ]
            },
            {
             "iteration": 56,
             "learn": [
              0.1235779652
             ],
             "passed_time": 22.89337936,
             "remaining_time": 17.27044408,
             "test": [
              0.1290445694
             ]
            },
            {
             "iteration": 57,
             "learn": [
              0.1206193928
             ],
             "passed_time": 23.28177149,
             "remaining_time": 16.85921384,
             "test": [
              0.126050765
             ]
            },
            {
             "iteration": 58,
             "learn": [
              0.1176940376
             ],
             "passed_time": 23.69496872,
             "remaining_time": 16.46599521,
             "test": [
              0.1230712945
             ]
            },
            {
             "iteration": 59,
             "learn": [
              0.1146654457
             ],
             "passed_time": 24.09645969,
             "remaining_time": 16.06430646,
             "test": [
              0.1202925183
             ]
            },
            {
             "iteration": 60,
             "learn": [
              0.1118576794
             ],
             "passed_time": 24.48756231,
             "remaining_time": 15.65598246,
             "test": [
              0.1175148983
             ]
            },
            {
             "iteration": 61,
             "learn": [
              0.1093216285
             ],
             "passed_time": 24.87836614,
             "remaining_time": 15.24803086,
             "test": [
              0.1151074369
             ]
            },
            {
             "iteration": 62,
             "learn": [
              0.1066719778
             ],
             "passed_time": 25.28771897,
             "remaining_time": 14.85151749,
             "test": [
              0.112569222
             ]
            },
            {
             "iteration": 63,
             "learn": [
              0.1040366695
             ],
             "passed_time": 25.70053379,
             "remaining_time": 14.45655026,
             "test": [
              0.1099593988
             ]
            },
            {
             "iteration": 64,
             "learn": [
              0.1014887836
             ],
             "passed_time": 26.130098,
             "remaining_time": 14.07005277,
             "test": [
              0.107501808
             ]
            },
            {
             "iteration": 65,
             "learn": [
              0.09923797419
             ],
             "passed_time": 26.50693545,
             "remaining_time": 13.65508796,
             "test": [
              0.1053918633
             ]
            },
            {
             "iteration": 66,
             "learn": [
              0.09706432917
             ],
             "passed_time": 26.89093569,
             "remaining_time": 13.24478922,
             "test": [
              0.1030860938
             ]
            },
            {
             "iteration": 67,
             "learn": [
              0.09493320652
             ],
             "passed_time": 27.2922004,
             "remaining_time": 12.84338842,
             "test": [
              0.1010475342
             ]
            },
            {
             "iteration": 68,
             "learn": [
              0.09299975001
             ],
             "passed_time": 27.64782634,
             "remaining_time": 12.4214872,
             "test": [
              0.09921388039
             ]
            },
            {
             "iteration": 69,
             "learn": [
              0.0910310129
             ],
             "passed_time": 28.05440879,
             "remaining_time": 12.02331805,
             "test": [
              0.09735958427
             ]
            },
            {
             "iteration": 70,
             "learn": [
              0.08895026919
             ],
             "passed_time": 28.48943499,
             "remaining_time": 11.63652978,
             "test": [
              0.09524723471
             ]
            },
            {
             "iteration": 71,
             "learn": [
              0.08683495449
             ],
             "passed_time": 28.91225733,
             "remaining_time": 11.24365563,
             "test": [
              0.09321148883
             ]
            },
            {
             "iteration": 72,
             "learn": [
              0.08508559545
             ],
             "passed_time": 29.3070942,
             "remaining_time": 10.83961018,
             "test": [
              0.09146767601
             ]
            },
            {
             "iteration": 73,
             "learn": [
              0.0832110575
             ],
             "passed_time": 29.67641634,
             "remaining_time": 10.42684899,
             "test": [
              0.08972916617
             ]
            },
            {
             "iteration": 74,
             "learn": [
              0.08139595556
             ],
             "passed_time": 30.06081561,
             "remaining_time": 10.02027187,
             "test": [
              0.0879864197
             ]
            },
            {
             "iteration": 75,
             "learn": [
              0.07951965326
             ],
             "passed_time": 30.47952977,
             "remaining_time": 9.625114664,
             "test": [
              0.08621885319
             ]
            },
            {
             "iteration": 76,
             "learn": [
              0.07770204437
             ],
             "passed_time": 30.87170915,
             "remaining_time": 9.221419615,
             "test": [
              0.08459305042
             ]
            },
            {
             "iteration": 77,
             "learn": [
              0.07593962469
             ],
             "passed_time": 31.29615408,
             "remaining_time": 8.827120382,
             "test": [
              0.08289919746
             ]
            },
            {
             "iteration": 78,
             "learn": [
              0.07453853267
             ],
             "passed_time": 31.65653399,
             "remaining_time": 8.415028023,
             "test": [
              0.08160505485
             ]
            },
            {
             "iteration": 79,
             "learn": [
              0.07299810377
             ],
             "passed_time": 32.05661554,
             "remaining_time": 8.014153884,
             "test": [
              0.0801176443
             ]
            },
            {
             "iteration": 80,
             "learn": [
              0.07140504664
             ],
             "passed_time": 32.50310342,
             "remaining_time": 7.624184752,
             "test": [
              0.07861278357
             ]
            },
            {
             "iteration": 81,
             "learn": [
              0.07002589396
             ],
             "passed_time": 32.88158648,
             "remaining_time": 7.217909227,
             "test": [
              0.07735120931
             ]
            },
            {
             "iteration": 82,
             "learn": [
              0.06879581644
             ],
             "passed_time": 33.24140782,
             "remaining_time": 6.808481119,
             "test": [
              0.07621651814
             ]
            },
            {
             "iteration": 83,
             "learn": [
              0.06743755411
             ],
             "passed_time": 33.60367359,
             "remaining_time": 6.400699731,
             "test": [
              0.07476725839
             ]
            },
            {
             "iteration": 84,
             "learn": [
              0.06597109632
             ],
             "passed_time": 34.11046483,
             "remaining_time": 6.019493793,
             "test": [
              0.07333723161
             ]
            },
            {
             "iteration": 85,
             "learn": [
              0.06469985991
             ],
             "passed_time": 34.53678833,
             "remaining_time": 5.622267868,
             "test": [
              0.07196274451
             ]
            },
            {
             "iteration": 86,
             "learn": [
              0.06340185692
             ],
             "passed_time": 35.00914192,
             "remaining_time": 5.231251091,
             "test": [
              0.07069939764
             ]
            },
            {
             "iteration": 87,
             "learn": [
              0.06224347714
             ],
             "passed_time": 35.31701851,
             "remaining_time": 4.81595707,
             "test": [
              0.06943182556
             ]
            },
            {
             "iteration": 88,
             "learn": [
              0.06100496279
             ],
             "passed_time": 35.68777691,
             "remaining_time": 4.410848832,
             "test": [
              0.06825955915
             ]
            },
            {
             "iteration": 89,
             "learn": [
              0.05986634855
             ],
             "passed_time": 36.09204531,
             "remaining_time": 4.010227256,
             "test": [
              0.06721822794
             ]
            },
            {
             "iteration": 90,
             "learn": [
              0.05868088789
             ],
             "passed_time": 36.47625263,
             "remaining_time": 3.607541469,
             "test": [
              0.06607661313
             ]
            },
            {
             "iteration": 91,
             "learn": [
              0.05773796513
             ],
             "passed_time": 36.81660164,
             "remaining_time": 3.201443621,
             "test": [
              0.06520725766
             ]
            },
            {
             "iteration": 92,
             "learn": [
              0.05681714876
             ],
             "passed_time": 37.10236066,
             "remaining_time": 2.792650802,
             "test": [
              0.06406555734
             ]
            },
            {
             "iteration": 93,
             "learn": [
              0.05580867834
             ],
             "passed_time": 37.47267878,
             "remaining_time": 2.391873114,
             "test": [
              0.06300644136
             ]
            },
            {
             "iteration": 94,
             "learn": [
              0.05472732001
             ],
             "passed_time": 37.84788242,
             "remaining_time": 1.991993812,
             "test": [
              0.06197777982
             ]
            },
            {
             "iteration": 95,
             "learn": [
              0.05369824294
             ],
             "passed_time": 38.24577608,
             "remaining_time": 1.593574004,
             "test": [
              0.06098592072
             ]
            },
            {
             "iteration": 96,
             "learn": [
              0.05272606034
             ],
             "passed_time": 38.63507436,
             "remaining_time": 1.194899207,
             "test": [
              0.06002645135
             ]
            },
            {
             "iteration": 97,
             "learn": [
              0.05169961026
             ],
             "passed_time": 39.03801958,
             "remaining_time": 0.7966942771,
             "test": [
              0.05901760779
             ]
            },
            {
             "iteration": 98,
             "learn": [
              0.05074074825
             ],
             "passed_time": 39.43102524,
             "remaining_time": 0.3982931842,
             "test": [
              0.05810059826
             ]
            },
            {
             "iteration": 99,
             "learn": [
              0.0497847308
             ],
             "passed_time": 39.80985382,
             "remaining_time": 0,
             "test": [
              0.05720117384
             ]
            }
           ],
           "meta": {
            "iteration_count": 100,
            "launch_mode": "Train",
            "learn_metrics": [
             {
              "best_value": "Min",
              "name": "CrossEntropy"
             }
            ],
            "learn_sets": [
             "learn"
            ],
            "name": "experiment",
            "parameters": "",
            "test_metrics": [
             {
              "best_value": "Min",
              "name": "CrossEntropy"
             }
            ],
            "test_sets": [
             "test"
            ]
           }
          },
          "passed_iterations": 99,
          "total_iterations": 100
         },
         "name": "catboost_info",
         "path": "catboost_info"
        }
       },
       "layout": "IPY_MODEL_b2c8b93f94084148abbd267dee51c702"
      }
     },
     "1d1f9b2d91f74bfe96b99da1d2c84ec7": {
      "model_module": "catboost-widget",
      "model_module_version": "^1.0.0",
      "model_name": "CatboostWidgetModel",
      "state": {
       "_dom_classes": [],
       "_model_module": "catboost-widget",
       "_model_module_version": "^1.0.0",
       "_model_name": "CatboostWidgetModel",
       "_view_count": null,
       "_view_module": "catboost-widget",
       "_view_module_version": "^1.0.0",
       "_view_name": "CatboostWidgetView",
       "data": {
        "catboost_info": {
         "content": {
          "data": {
           "iterations": [
            {
             "iteration": 0,
             "learn": [
              0.6613802608
             ],
             "passed_time": 0.3961905485,
             "remaining_time": 39.2228643,
             "test": [
              0.6635995886
             ]
            },
            {
             "iteration": 1,
             "learn": [
              0.6362955444
             ],
             "passed_time": 0.7141228869,
             "remaining_time": 34.99202146,
             "test": [
              0.6357716627
             ]
            },
            {
             "iteration": 2,
             "learn": [
              0.6093779704
             ],
             "passed_time": 1.125637143,
             "remaining_time": 36.39560095,
             "test": [
              0.6095196701
             ]
            },
            {
             "iteration": 3,
             "learn": [
              0.5837178811
             ],
             "passed_time": 1.421537124,
             "remaining_time": 34.11689097,
             "test": [
              0.5847135763
             ]
            },
            {
             "iteration": 4,
             "learn": [
              0.5621935567
             ],
             "passed_time": 1.780255212,
             "remaining_time": 33.82484903,
             "test": [
              0.5612382695
             ]
            },
            {
             "iteration": 5,
             "learn": [
              0.5376614549
             ],
             "passed_time": 2.125549472,
             "remaining_time": 33.30027507,
             "test": [
              0.5389926972
             ]
            },
            {
             "iteration": 6,
             "learn": [
              0.5168858368
             ],
             "passed_time": 2.526575957,
             "remaining_time": 33.56736629,
             "test": [
              0.5178870269
             ]
            },
            {
             "iteration": 7,
             "learn": [
              0.4986884838
             ],
             "passed_time": 2.820515577,
             "remaining_time": 32.43592914,
             "test": [
              0.4978403953
             ]
            },
            {
             "iteration": 8,
             "learn": [
              0.4785293793
             ],
             "passed_time": 3.188390595,
             "remaining_time": 32.23817157,
             "test": [
              0.4787768554
             ]
            },
            {
             "iteration": 9,
             "learn": [
              0.4605853985
             ],
             "passed_time": 3.594218251,
             "remaining_time": 32.34796426,
             "test": [
              0.4606307187
             ]
            },
            {
             "iteration": 10,
             "learn": [
              0.4438202544
             ],
             "passed_time": 3.929549463,
             "remaining_time": 31.79362748,
             "test": [
              0.443343382
             ]
            },
            {
             "iteration": 11,
             "learn": [
              0.4280560299
             ],
             "passed_time": 4.328206818,
             "remaining_time": 31.74018334,
             "test": [
              0.4268588721
             ]
            },
            {
             "iteration": 12,
             "learn": [
              0.4121337744
             ],
             "passed_time": 4.69486897,
             "remaining_time": 31.41950772,
             "test": [
              0.4111264348
             ]
            },
            {
             "iteration": 13,
             "learn": [
              0.3967824583
             ],
             "passed_time": 5.005357252,
             "remaining_time": 30.74719455,
             "test": [
              0.3961003339
             ]
            },
            {
             "iteration": 14,
             "learn": [
              0.3824008734
             ],
             "passed_time": 5.357811014,
             "remaining_time": 30.36092908,
             "test": [
              0.3817394001
             ]
            },
            {
             "iteration": 15,
             "learn": [
              0.3673403209
             ],
             "passed_time": 5.685667984,
             "remaining_time": 29.84975692,
             "test": [
              0.3680039285
             ]
            },
            {
             "iteration": 16,
             "learn": [
              0.3538843333
             ],
             "passed_time": 6.116071586,
             "remaining_time": 29.86082009,
             "test": [
              0.3548589772
             ]
            },
            {
             "iteration": 17,
             "learn": [
              0.3431774961
             ],
             "passed_time": 6.458958111,
             "remaining_time": 29.4241425,
             "test": [
              0.3422712175
             ]
            },
            {
             "iteration": 18,
             "learn": [
              0.330092635
             ],
             "passed_time": 6.820117039,
             "remaining_time": 29.0752358,
             "test": [
              0.3302111556
             ]
            },
            {
             "iteration": 19,
             "learn": [
              0.3196807801
             ],
             "passed_time": 7.149780721,
             "remaining_time": 28.59912288,
             "test": [
              0.3186493706
             ]
            },
            {
             "iteration": 20,
             "learn": [
              0.3069798336
             ],
             "passed_time": 7.562616679,
             "remaining_time": 28.4498437,
             "test": [
              0.307560777
             ]
            },
            {
             "iteration": 21,
             "learn": [
              0.2968890565
             ],
             "passed_time": 7.951078617,
             "remaining_time": 28.19018782,
             "test": [
              0.2969202167
             ]
            },
            {
             "iteration": 22,
             "learn": [
              0.2867738468
             ],
             "passed_time": 8.327409913,
             "remaining_time": 27.87872014,
             "test": [
              0.2867054937
             ]
            },
            {
             "iteration": 23,
             "learn": [
              0.27651298
             ],
             "passed_time": 8.742739395,
             "remaining_time": 27.68534142,
             "test": [
              0.2768943009
             ]
            },
            {
             "iteration": 24,
             "learn": [
              0.2664521829
             ],
             "passed_time": 9.069755342,
             "remaining_time": 27.20926602,
             "test": [
              0.2674669617
             ]
            },
            {
             "iteration": 25,
             "learn": [
              0.2579884656
             ],
             "passed_time": 9.432318552,
             "remaining_time": 26.84582973,
             "test": [
              0.2584054697
             ]
            },
            {
             "iteration": 26,
             "learn": [
              0.2499724192
             ],
             "passed_time": 9.798579444,
             "remaining_time": 26.49245553,
             "test": [
              0.2496928877
             ]
            },
            {
             "iteration": 27,
             "learn": [
              0.2419815813
             ],
             "passed_time": 10.201057,
             "remaining_time": 26.23128942,
             "test": [
              0.2413118977
             ]
            },
            {
             "iteration": 28,
             "learn": [
              0.2336880141
             ],
             "passed_time": 10.56269281,
             "remaining_time": 25.86038585,
             "test": [
              0.2332477341
             ]
            },
            {
             "iteration": 29,
             "learn": [
              0.2258556813
             ],
             "passed_time": 10.93938436,
             "remaining_time": 25.52523018,
             "test": [
              0.2254854888
             ]
            },
            {
             "iteration": 30,
             "learn": [
              0.2185344016
             ],
             "passed_time": 11.3473058,
             "remaining_time": 25.25690647,
             "test": [
              0.2180117617
             ]
            },
            {
             "iteration": 31,
             "learn": [
              0.2109415545
             ],
             "passed_time": 11.73082626,
             "remaining_time": 24.9280058,
             "test": [
              0.2108141962
             ]
            },
            {
             "iteration": 32,
             "learn": [
              0.2033621267
             ],
             "passed_time": 12.09230348,
             "remaining_time": 24.55104039,
             "test": [
              0.2038794294
             ]
            },
            {
             "iteration": 33,
             "learn": [
              0.196440257
             ],
             "passed_time": 12.534593,
             "remaining_time": 24.331857,
             "test": [
              0.1971971892
             ]
            },
            {
             "iteration": 34,
             "learn": [
              0.1911924128
             ],
             "passed_time": 12.95684876,
             "remaining_time": 24.06271912,
             "test": [
              0.1907565548
             ]
            },
            {
             "iteration": 35,
             "learn": [
              0.1839126132
             ],
             "passed_time": 13.30012722,
             "remaining_time": 23.64467061,
             "test": [
              0.1845480117
             ]
            },
            {
             "iteration": 36,
             "learn": [
              0.178778453
             ],
             "passed_time": 13.67427602,
             "remaining_time": 23.28322674,
             "test": [
              0.1785593931
             ]
            },
            {
             "iteration": 37,
             "learn": [
              0.1721993175
             ],
             "passed_time": 14.05435684,
             "remaining_time": 22.93079274,
             "test": [
              0.1727830462
             ]
            },
            {
             "iteration": 38,
             "learn": [
              0.1676807467
             ],
             "passed_time": 14.43655625,
             "remaining_time": 22.58025464,
             "test": [
              0.1672103133
             ]
            },
            {
             "iteration": 39,
             "learn": [
              0.1614372708
             ],
             "passed_time": 14.83464703,
             "remaining_time": 22.25197055,
             "test": [
              0.1618323152
             ]
            },
            {
             "iteration": 40,
             "learn": [
              0.1563409301
             ],
             "passed_time": 15.2036181,
             "remaining_time": 21.87837727,
             "test": [
              0.1566420959
             ]
            },
            {
             "iteration": 41,
             "learn": [
              0.1520291945
             ],
             "passed_time": 15.61892678,
             "remaining_time": 21.56899412,
             "test": [
              0.1516315521
             ]
            },
            {
             "iteration": 42,
             "learn": [
              0.1470163484
             ],
             "passed_time": 15.95000796,
             "remaining_time": 21.1430338,
             "test": [
              0.1467934837
             ]
            },
            {
             "iteration": 43,
             "learn": [
              0.1418836644
             ],
             "passed_time": 16.35294213,
             "remaining_time": 20.81283544,
             "test": [
              0.1421223291
             ]
            },
            {
             "iteration": 44,
             "learn": [
              0.1371182389
             ],
             "passed_time": 16.66479065,
             "remaining_time": 20.36807746,
             "test": [
              0.1376099302
             ]
            },
            {
             "iteration": 45,
             "learn": [
              0.1329226814
             ],
             "passed_time": 17.09283555,
             "remaining_time": 20.0655026,
             "test": [
              0.1332508983
             ]
            },
            {
             "iteration": 46,
             "learn": [
              0.1289313499
             ],
             "passed_time": 17.44136387,
             "remaining_time": 19.66792096,
             "test": [
              0.12903912
             ]
            },
            {
             "iteration": 47,
             "learn": [
              0.1250062264
             ],
             "passed_time": 17.82704922,
             "remaining_time": 19.31263666,
             "test": [
              0.1249698331
             ]
            },
            {
             "iteration": 48,
             "learn": [
              0.1210969174
             ],
             "passed_time": 18.22424359,
             "remaining_time": 18.96809027,
             "test": [
              0.1210374855
             ]
            },
            {
             "iteration": 49,
             "learn": [
              0.1172091597
             ],
             "passed_time": 18.57978116,
             "remaining_time": 18.57978116,
             "test": [
              0.1172361958
             ]
            },
            {
             "iteration": 50,
             "learn": [
              0.1133367333
             ],
             "passed_time": 18.93398477,
             "remaining_time": 18.19147557,
             "test": [
              0.1135610819
             ]
            },
            {
             "iteration": 51,
             "learn": [
              0.1097705409
             ],
             "passed_time": 19.31849278,
             "remaining_time": 17.83245488,
             "test": [
              0.1100082487
             ]
            },
            {
             "iteration": 52,
             "learn": [
              0.1069424321
             ],
             "passed_time": 19.67822694,
             "remaining_time": 17.45050314,
             "test": [
              0.1065724599
             ]
            },
            {
             "iteration": 53,
             "learn": [
              0.1034227563
             ],
             "passed_time": 20.06806192,
             "remaining_time": 17.09501571,
             "test": [
              0.1032498963
             ]
            },
            {
             "iteration": 54,
             "learn": [
              0.09974661125
             ],
             "passed_time": 20.41380631,
             "remaining_time": 16.70220516,
             "test": [
              0.1000365625
             ]
            },
            {
             "iteration": 55,
             "learn": [
              0.09715546789
             ],
             "passed_time": 20.75284566,
             "remaining_time": 16.3058073,
             "test": [
              0.09692827649
             ]
            },
            {
             "iteration": 56,
             "learn": [
              0.09378301365
             ],
             "passed_time": 21.07688503,
             "remaining_time": 15.90010625,
             "test": [
              0.09392105762
             ]
            },
            {
             "iteration": 57,
             "learn": [
              0.09124052913
             ],
             "passed_time": 21.43731582,
             "remaining_time": 15.52357352,
             "test": [
              0.09101154176
             ]
            },
            {
             "iteration": 58,
             "learn": [
              0.08796308913
             ],
             "passed_time": 21.81256582,
             "remaining_time": 15.15788472,
             "test": [
              0.08819672244
             ]
            },
            {
             "iteration": 59,
             "learn": [
              0.08549327901
             ],
             "passed_time": 22.36934253,
             "remaining_time": 14.91289502,
             "test": [
              0.08547260653
             ]
            },
            {
             "iteration": 60,
             "learn": [
              0.08259707844
             ],
             "passed_time": 22.86083801,
             "remaining_time": 14.61594561,
             "test": [
              0.08283671237
             ]
            },
            {
             "iteration": 61,
             "learn": [
              0.08011952392
             ],
             "passed_time": 23.26870765,
             "remaining_time": 14.26146598,
             "test": [
              0.08028523206
             ]
            },
            {
             "iteration": 62,
             "learn": [
              0.07798929487
             ],
             "passed_time": 23.66548451,
             "remaining_time": 13.89877662,
             "test": [
              0.07781661636
             ]
            },
            {
             "iteration": 63,
             "learn": [
              0.07551365932
             ],
             "passed_time": 24.1338581,
             "remaining_time": 13.57529518,
             "test": [
              0.07542642608
             ]
            },
            {
             "iteration": 64,
             "learn": [
              0.07297892299
             ],
             "passed_time": 24.54383226,
             "remaining_time": 13.21590968,
             "test": [
              0.07311227184
             ]
            },
            {
             "iteration": 65,
             "learn": [
              0.07058047808
             ],
             "passed_time": 24.87502517,
             "remaining_time": 12.8144069,
             "test": [
              0.07087132521
             ]
            },
            {
             "iteration": 66,
             "learn": [
              0.06846448639
             ],
             "passed_time": 25.31815457,
             "remaining_time": 12.47013583,
             "test": [
              0.068702025
             ]
            },
            {
             "iteration": 67,
             "learn": [
              0.06645239683
             ],
             "passed_time": 25.64351043,
             "remaining_time": 12.06753432,
             "test": [
              0.06660093209
             ]
            },
            {
             "iteration": 68,
             "learn": [
              0.06448612876
             ],
             "passed_time": 26.03392002,
             "remaining_time": 11.69639885,
             "test": [
              0.06456660798
             ]
            },
            {
             "iteration": 69,
             "learn": [
              0.06253233346
             ],
             "passed_time": 26.37744269,
             "remaining_time": 11.30461829,
             "test": [
              0.06259615621
             ]
            },
            {
             "iteration": 70,
             "learn": [
              0.06058522471
             ],
             "passed_time": 26.769371,
             "remaining_time": 10.93396844,
             "test": [
              0.06068770674
             ]
            },
            {
             "iteration": 71,
             "learn": [
              0.05867410812
             ],
             "passed_time": 27.15317515,
             "remaining_time": 10.55956812,
             "test": [
              0.05884064269
             ]
            },
            {
             "iteration": 72,
             "learn": [
              0.0568663285
             ],
             "passed_time": 27.52985227,
             "remaining_time": 10.18227413,
             "test": [
              0.05705024263
             ]
            },
            {
             "iteration": 73,
             "learn": [
              0.05545346848
             ],
             "passed_time": 27.90323362,
             "remaining_time": 9.803838841,
             "test": [
              0.05531607436
             ]
            },
            {
             "iteration": 74,
             "learn": [
              0.05369602009
             ],
             "passed_time": 28.19538977,
             "remaining_time": 9.398463257,
             "test": [
              0.05363587386
             ]
            },
            {
             "iteration": 75,
             "learn": [
              0.05184718181
             ],
             "passed_time": 28.57353624,
             "remaining_time": 9.023221969,
             "test": [
              0.05200836759
             ]
            },
            {
             "iteration": 76,
             "learn": [
              0.05055450569
             ],
             "passed_time": 28.96805334,
             "remaining_time": 8.652795152,
             "test": [
              0.05043149481
             ]
            },
            {
             "iteration": 77,
             "learn": [
              0.04886199701
             ],
             "passed_time": 29.35991573,
             "remaining_time": 8.281001873,
             "test": [
              0.04890352652
             ]
            },
            {
             "iteration": 78,
             "learn": [
              0.04727242197
             ],
             "passed_time": 29.69532251,
             "remaining_time": 7.893693324,
             "test": [
              0.04742326084
             ]
            },
            {
             "iteration": 79,
             "learn": [
              0.0459339869
             ],
             "passed_time": 30.11386334,
             "remaining_time": 7.528465835,
             "test": [
              0.04598910185
             ]
            },
            {
             "iteration": 80,
             "learn": [
              0.04467332645
             ],
             "passed_time": 30.47275038,
             "remaining_time": 7.147929101,
             "test": [
              0.04459915161
             ]
            },
            {
             "iteration": 81,
             "learn": [
              0.04309161676
             ],
             "passed_time": 30.89879261,
             "remaining_time": 6.782661793,
             "test": [
              0.04325235076
             ]
            },
            {
             "iteration": 82,
             "learn": [
              0.04198187181
             ],
             "passed_time": 31.26404484,
             "remaining_time": 6.403479064,
             "test": [
              0.04194679794
             ]
            },
            {
             "iteration": 83,
             "learn": [
              0.04073943998
             ],
             "passed_time": 31.67720167,
             "remaining_time": 6.033752699,
             "test": [
              0.04068145739
             ]
            },
            {
             "iteration": 84,
             "learn": [
              0.03937546571
             ],
             "passed_time": 32.08498362,
             "remaining_time": 5.662055933,
             "test": [
              0.03945593997
             ]
            },
            {
             "iteration": 85,
             "learn": [
              0.03815317476
             ],
             "passed_time": 32.45445725,
             "remaining_time": 5.283283739,
             "test": [
              0.03826752814
             ]
            },
            {
             "iteration": 86,
             "learn": [
              0.03713240071
             ],
             "passed_time": 32.81036874,
             "remaining_time": 4.902698777,
             "test": [
              0.03711557238
             ]
            },
            {
             "iteration": 87,
             "learn": [
              0.03608192922
             ],
             "passed_time": 33.20170658,
             "remaining_time": 4.527505443,
             "test": [
              0.03599908206
             ]
            },
            {
             "iteration": 88,
             "learn": [
              0.03489659813
             ],
             "passed_time": 33.48319633,
             "remaining_time": 4.13837258,
             "test": [
              0.03491634511
             ]
            },
            {
             "iteration": 89,
             "learn": [
              0.03385116374
             ],
             "passed_time": 33.83767806,
             "remaining_time": 3.759742007,
             "test": [
              0.03386718516
             ]
            },
            {
             "iteration": 90,
             "learn": [
              0.03284952682
             ],
             "passed_time": 34.24874402,
             "remaining_time": 3.387238419,
             "test": [
              0.0328500954
             ]
            },
            {
             "iteration": 91,
             "learn": [
              0.03185697912
             ],
             "passed_time": 34.60886398,
             "remaining_time": 3.009466433,
             "test": [
              0.03186404118
             ]
            },
            {
             "iteration": 92,
             "learn": [
              0.03087837618
             ],
             "passed_time": 35.01954923,
             "remaining_time": 2.635880049,
             "test": [
              0.03090800778
             ]
            },
            {
             "iteration": 93,
             "learn": [
              0.02994213401
             ],
             "passed_time": 35.4187912,
             "remaining_time": 2.260773906,
             "test": [
              0.02998150142
             ]
            },
            {
             "iteration": 94,
             "learn": [
              0.0290129324
             ],
             "passed_time": 35.79021891,
             "remaining_time": 1.883695732,
             "test": [
              0.0290829541
             ]
            },
            {
             "iteration": 95,
             "learn": [
              0.02826513476
             ],
             "passed_time": 36.05835254,
             "remaining_time": 1.502431356,
             "test": [
              0.02821142949
             ]
            },
            {
             "iteration": 96,
             "learn": [
              0.02737820029
             ],
             "passed_time": 36.4194334,
             "remaining_time": 1.126374229,
             "test": [
              0.02736649906
             ]
            },
            {
             "iteration": 97,
             "learn": [
              0.02646382651
             ],
             "passed_time": 36.7837586,
             "remaining_time": 0.7506889511,
             "test": [
              0.0265476073
             ]
            },
            {
             "iteration": 98,
             "learn": [
              0.02580400372
             ],
             "passed_time": 37.13690715,
             "remaining_time": 0.3751202742,
             "test": [
              0.02575349372
             ]
            },
            {
             "iteration": 99,
             "learn": [
              0.02494861662
             ],
             "passed_time": 37.47608176,
             "remaining_time": 0,
             "test": [
              0.02498326333
             ]
            }
           ],
           "meta": {
            "iteration_count": 100,
            "launch_mode": "Train",
            "learn_metrics": [
             {
              "best_value": "Min",
              "name": "CrossEntropy"
             }
            ],
            "learn_sets": [
             "learn"
            ],
            "name": "experiment",
            "parameters": "",
            "test_metrics": [
             {
              "best_value": "Min",
              "name": "CrossEntropy"
             }
            ],
            "test_sets": [
             "test"
            ]
           }
          },
          "passed_iterations": 99,
          "total_iterations": 100
         },
         "name": "catboost_info",
         "path": "catboost_info"
        }
       },
       "layout": "IPY_MODEL_eb1e47e1e9c849b89114dc5602bae0ab"
      }
     },
     "27172e424e6744ad890150c9ad4063ba": {
      "model_module": "@jupyter-widgets/base",
      "model_module_version": "1.2.0",
      "model_name": "LayoutModel",
      "state": {
       "_model_module": "@jupyter-widgets/base",
       "_model_module_version": "1.2.0",
       "_model_name": "LayoutModel",
       "_view_count": null,
       "_view_module": "@jupyter-widgets/base",
       "_view_module_version": "1.2.0",
       "_view_name": "LayoutView",
       "align_content": null,
       "align_items": null,
       "align_self": "stretch",
       "border": null,
       "bottom": null,
       "display": null,
       "flex": null,
       "flex_flow": null,
       "grid_area": null,
       "grid_auto_columns": null,
       "grid_auto_flow": null,
       "grid_auto_rows": null,
       "grid_column": null,
       "grid_gap": null,
       "grid_row": null,
       "grid_template_areas": null,
       "grid_template_columns": null,
       "grid_template_rows": null,
       "height": "500px",
       "justify_content": null,
       "justify_items": null,
       "left": null,
       "margin": null,
       "max_height": null,
       "max_width": null,
       "min_height": null,
       "min_width": null,
       "object_fit": null,
       "object_position": null,
       "order": null,
       "overflow": null,
       "overflow_x": null,
       "overflow_y": null,
       "padding": null,
       "right": null,
       "top": null,
       "visibility": null,
       "width": null
      }
     },
     "29e977f8c8604a34900d9cfd0e78e87e": {
      "model_module": "catboost-widget",
      "model_module_version": "^1.0.0",
      "model_name": "CatboostWidgetModel",
      "state": {
       "_dom_classes": [],
       "_model_module": "catboost-widget",
       "_model_module_version": "^1.0.0",
       "_model_name": "CatboostWidgetModel",
       "_view_count": null,
       "_view_module": "catboost-widget",
       "_view_module_version": "^1.0.0",
       "_view_name": "CatboostWidgetView",
       "data": {
        "catboost_info": {
         "content": {
          "data": {
           "iterations": [
            {
             "iteration": 0,
             "learn": [
              0.6613798139
             ],
             "passed_time": 0.3519750931,
             "remaining_time": 34.84553422,
             "test": [
              0.6635992019
             ]
            },
            {
             "iteration": 1,
             "learn": [
              0.6362947164
             ],
             "passed_time": 0.6732347599,
             "remaining_time": 32.98850324,
             "test": [
              0.6357708119
             ]
            },
            {
             "iteration": 2,
             "learn": [
              0.6093766955
             ],
             "passed_time": 1.07706262,
             "remaining_time": 34.82502471,
             "test": [
              0.6095192195
             ]
            },
            {
             "iteration": 3,
             "learn": [
              0.5837163171
             ],
             "passed_time": 1.372785923,
             "remaining_time": 32.94686216,
             "test": [
              0.5847113039
             ]
            },
            {
             "iteration": 4,
             "learn": [
              0.5621915327
             ],
             "passed_time": 1.762041991,
             "remaining_time": 33.47879782,
             "test": [
              0.5612365151
             ]
            },
            {
             "iteration": 5,
             "learn": [
              0.5376587737
             ],
             "passed_time": 2.120162225,
             "remaining_time": 33.21587485,
             "test": [
              0.5389905936
             ]
            },
            {
             "iteration": 6,
             "learn": [
              0.5168821961
             ],
             "passed_time": 2.524843726,
             "remaining_time": 33.54435236,
             "test": [
              0.5178856282
             ]
            },
            {
             "iteration": 7,
             "learn": [
              0.4986830952
             ],
             "passed_time": 2.815371548,
             "remaining_time": 32.3767728,
             "test": [
              0.497837173
             ]
            },
            {
             "iteration": 8,
             "learn": [
              0.4785254101
             ],
             "passed_time": 3.186932748,
             "remaining_time": 32.22343112,
             "test": [
              0.4787739915
             ]
            },
            {
             "iteration": 9,
             "learn": [
              0.4605811402
             ],
             "passed_time": 3.606170285,
             "remaining_time": 32.45553257,
             "test": [
              0.460627795
             ]
            },
            {
             "iteration": 10,
             "learn": [
              0.4438168372
             ],
             "passed_time": 3.96223299,
             "remaining_time": 32.05806692,
             "test": [
              0.4433391714
             ]
            },
            {
             "iteration": 11,
             "learn": [
              0.4280515219
             ],
             "passed_time": 4.384946286,
             "remaining_time": 32.15627276,
             "test": [
              0.4268542681
             ]
            },
            {
             "iteration": 12,
             "learn": [
              0.4121153742
             ],
             "passed_time": 4.759699711,
             "remaining_time": 31.85337499,
             "test": [
              0.4111214734
             ]
            },
            {
             "iteration": 13,
             "learn": [
              0.396776741
             ],
             "passed_time": 5.070805135,
             "remaining_time": 31.14923154,
             "test": [
              0.3960951755
             ]
            },
            {
             "iteration": 14,
             "learn": [
              0.3823934081
             ],
             "passed_time": 5.424853035,
             "remaining_time": 30.74083387,
             "test": [
              0.3817338427
             ]
            },
            {
             "iteration": 15,
             "learn": [
              0.3673331251
             ],
             "passed_time": 5.754105789,
             "remaining_time": 30.20905539,
             "test": [
              0.3679983454
             ]
            },
            {
             "iteration": 16,
             "learn": [
              0.3538773018
             ],
             "passed_time": 6.145116624,
             "remaining_time": 30.00262822,
             "test": [
              0.3548534891
             ]
            },
            {
             "iteration": 17,
             "learn": [
              0.3431687691
             ],
             "passed_time": 6.477990418,
             "remaining_time": 29.51084524,
             "test": [
              0.3422656763
             ]
            },
            {
             "iteration": 18,
             "learn": [
              0.3300855312
             ],
             "passed_time": 6.844101599,
             "remaining_time": 29.17748576,
             "test": [
              0.3302069401
             ]
            },
            {
             "iteration": 19,
             "learn": [
              0.3196735515
             ],
             "passed_time": 7.176833002,
             "remaining_time": 28.70733201,
             "test": [
              0.3186451149
             ]
            },
            {
             "iteration": 20,
             "learn": [
              0.3069706532
             ],
             "passed_time": 7.590250356,
             "remaining_time": 28.55379896,
             "test": [
              0.3075565713
             ]
            },
            {
             "iteration": 21,
             "learn": [
              0.2968813875
             ],
             "passed_time": 7.985322207,
             "remaining_time": 28.31159691,
             "test": [
              0.2969159955
             ]
            },
            {
             "iteration": 22,
             "learn": [
              0.286765363
             ],
             "passed_time": 8.367330323,
             "remaining_time": 28.01236673,
             "test": [
              0.2867008944
             ]
            },
            {
             "iteration": 23,
             "learn": [
              0.276501447
             ],
             "passed_time": 8.773420516,
             "remaining_time": 27.7824983,
             "test": [
              0.2768898064
             ]
            },
            {
             "iteration": 24,
             "learn": [
              0.2664420824
             ],
             "passed_time": 9.083846526,
             "remaining_time": 27.25153958,
             "test": [
              0.2674625774
             ]
            },
            {
             "iteration": 25,
             "learn": [
              0.2579793772
             ],
             "passed_time": 9.430583822,
             "remaining_time": 26.84089242,
             "test": [
              0.2584008887
             ]
            },
            {
             "iteration": 26,
             "learn": [
              0.2499631336
             ],
             "passed_time": 9.799185817,
             "remaining_time": 26.49409499,
             "test": [
              0.249688175
             ]
            },
            {
             "iteration": 27,
             "learn": [
              0.2419717766
             ],
             "passed_time": 10.20895131,
             "remaining_time": 26.25158909,
             "test": [
              0.2413072319
             ]
            },
            {
             "iteration": 28,
             "learn": [
              0.2336780648
             ],
             "passed_time": 10.54431403,
             "remaining_time": 25.81538953,
             "test": [
              0.2332431028
             ]
            },
            {
             "iteration": 29,
             "learn": [
              0.2258453969
             ],
             "passed_time": 10.92059854,
             "remaining_time": 25.4813966,
             "test": [
              0.2254805876
             ]
            },
            {
             "iteration": 30,
             "learn": [
              0.2185231807
             ],
             "passed_time": 11.33006728,
             "remaining_time": 25.21853685,
             "test": [
              0.2180069351
             ]
            },
            {
             "iteration": 31,
             "learn": [
              0.2109305472
             ],
             "passed_time": 11.69659872,
             "remaining_time": 24.85527227,
             "test": [
              0.2108093995
             ]
            },
            {
             "iteration": 32,
             "learn": [
              0.2033500745
             ],
             "passed_time": 12.03862319,
             "remaining_time": 24.44205315,
             "test": [
              0.2038746064
             ]
            },
            {
             "iteration": 33,
             "learn": [
              0.1964250012
             ],
             "passed_time": 12.4543637,
             "remaining_time": 24.17611777,
             "test": [
              0.1971924274
             ]
            },
            {
             "iteration": 34,
             "learn": [
              0.1911683939
             ],
             "passed_time": 12.91238537,
             "remaining_time": 23.98014426,
             "test": [
              0.190751673
             ]
            },
            {
             "iteration": 35,
             "learn": [
              0.1838991054
             ],
             "passed_time": 13.37470531,
             "remaining_time": 23.77725388,
             "test": [
              0.1845416664
             ]
            },
            {
             "iteration": 36,
             "learn": [
              0.178755341
             ],
             "passed_time": 13.87753898,
             "remaining_time": 23.62932312,
             "test": [
              0.1785531825
             ]
            },
            {
             "iteration": 37,
             "learn": [
              0.1721860299
             ],
             "passed_time": 14.24439329,
             "remaining_time": 23.24085222,
             "test": [
              0.1727767697
             ]
            },
            {
             "iteration": 38,
             "learn": [
              0.1676662696
             ],
             "passed_time": 14.62520114,
             "remaining_time": 22.87531461,
             "test": [
              0.1672047692
             ]
            },
            {
             "iteration": 39,
             "learn": [
              0.1614235199
             ],
             "passed_time": 15.01504864,
             "remaining_time": 22.52257297,
             "test": [
              0.1618268009
             ]
            },
            {
             "iteration": 40,
             "learn": [
              0.1563269985
             ],
             "passed_time": 15.37527849,
             "remaining_time": 22.12540075,
             "test": [
              0.1566364048
             ]
            },
            {
             "iteration": 41,
             "learn": [
              0.1520155915
             ],
             "passed_time": 15.80276679,
             "remaining_time": 21.82286843,
             "test": [
              0.1516261716
             ]
            },
            {
             "iteration": 42,
             "learn": [
              0.1470017399
             ],
             "passed_time": 16.12481995,
             "remaining_time": 21.37476133,
             "test": [
              0.1467881658
             ]
            },
            {
             "iteration": 43,
             "learn": [
              0.141865619
             ],
             "passed_time": 16.51896519,
             "remaining_time": 21.02413752,
             "test": [
              0.1421169031
             ]
            },
            {
             "iteration": 44,
             "learn": [
              0.1371034629
             ],
             "passed_time": 16.83403023,
             "remaining_time": 20.57492583,
             "test": [
              0.1376044157
             ]
            },
            {
             "iteration": 45,
             "learn": [
              0.1329065385
             ],
             "passed_time": 17.21394766,
             "remaining_time": 20.20767768,
             "test": [
              0.1332451975
             ]
            },
            {
             "iteration": 46,
             "learn": [
              0.1289168071
             ],
             "passed_time": 17.55564267,
             "remaining_time": 19.79678855,
             "test": [
              0.1290342748
             ]
            },
            {
             "iteration": 47,
             "learn": [
              0.1249903989
             ],
             "passed_time": 17.92666681,
             "remaining_time": 19.42055571,
             "test": [
              0.1249649633
             ]
            },
            {
             "iteration": 48,
             "learn": [
              0.1210812969
             ],
             "passed_time": 18.31565155,
             "remaining_time": 19.06322917,
             "test": [
              0.1210320674
             ]
            },
            {
             "iteration": 49,
             "learn": [
              0.1171935162
             ],
             "passed_time": 18.67057911,
             "remaining_time": 18.67057911,
             "test": [
              0.1172306514
             ]
            },
            {
             "iteration": 50,
             "learn": [
              0.1133183364
             ],
             "passed_time": 19.01139728,
             "remaining_time": 18.26585229,
             "test": [
              0.1135561247
             ]
            },
            {
             "iteration": 51,
             "learn": [
              0.1097545886
             ],
             "passed_time": 19.37282227,
             "remaining_time": 17.88260518,
             "test": [
              0.1100031119
             ]
            },
            {
             "iteration": 52,
             "learn": [
              0.1069261808
             ],
             "passed_time": 19.71180715,
             "remaining_time": 17.48028182,
             "test": [
              0.1065673238
             ]
            },
            {
             "iteration": 53,
             "learn": [
              0.1034040636
             ],
             "passed_time": 20.09115211,
             "remaining_time": 17.11468513,
             "test": [
              0.1032448826
             ]
            },
            {
             "iteration": 54,
             "learn": [
              0.09972996562
             ],
             "passed_time": 20.42823905,
             "remaining_time": 16.71401377,
             "test": [
              0.1000318091
             ]
            },
            {
             "iteration": 55,
             "learn": [
              0.09713730589
             ],
             "passed_time": 20.75386802,
             "remaining_time": 16.30661059,
             "test": [
              0.09692336318
             ]
            },
            {
             "iteration": 56,
             "learn": [
              0.09376524922
             ],
             "passed_time": 21.08135369,
             "remaining_time": 15.90347734,
             "test": [
              0.09391620395
             ]
            },
            {
             "iteration": 57,
             "learn": [
              0.09122256263
             ],
             "passed_time": 21.43240491,
             "remaining_time": 15.52001735,
             "test": [
              0.09100658903
             ]
            },
            {
             "iteration": 58,
             "learn": [
              0.08794199623
             ],
             "passed_time": 21.77928271,
             "remaining_time": 15.13475578,
             "test": [
              0.08819173081
             ]
            },
            {
             "iteration": 59,
             "learn": [
              0.08547190189
             ],
             "passed_time": 22.1726541,
             "remaining_time": 14.7817694,
             "test": [
              0.08546752903
             ]
            },
            {
             "iteration": 60,
             "learn": [
              0.08257565533
             ],
             "passed_time": 22.53884588,
             "remaining_time": 14.41008179,
             "test": [
              0.08283165468
             ]
            },
            {
             "iteration": 61,
             "learn": [
              0.0801005454
             ],
             "passed_time": 22.95704181,
             "remaining_time": 14.07044498,
             "test": [
              0.08028012544
             ]
            },
            {
             "iteration": 62,
             "learn": [
              0.07797053157
             ],
             "passed_time": 23.35173314,
             "remaining_time": 13.71450994,
             "test": [
              0.07781112607
             ]
            },
            {
             "iteration": 63,
             "learn": [
              0.07548810437
             ],
             "passed_time": 23.85588877,
             "remaining_time": 13.41893743,
             "test": [
              0.0754208124
             ]
            },
            {
             "iteration": 64,
             "learn": [
              0.07295925611
             ],
             "passed_time": 24.26558546,
             "remaining_time": 13.06608448,
             "test": [
              0.07310661318
             ]
            },
            {
             "iteration": 65,
             "learn": [
              0.07054314371
             ],
             "passed_time": 24.60510347,
             "remaining_time": 12.67535633,
             "test": [
              0.07086625122
             ]
            },
            {
             "iteration": 66,
             "learn": [
              0.0684422977
             ],
             "passed_time": 25.05284372,
             "remaining_time": 12.33946034,
             "test": [
              0.0686968591
             ]
            },
            {
             "iteration": 67,
             "learn": [
              0.06643140579
             ],
             "passed_time": 25.3687235,
             "remaining_time": 11.93822282,
             "test": [
              0.06659571768
             ]
            },
            {
             "iteration": 68,
             "learn": [
              0.06446580309
             ],
             "passed_time": 25.74471802,
             "remaining_time": 11.56646752,
             "test": [
              0.06456131242
             ]
            },
            {
             "iteration": 69,
             "learn": [
              0.06251217208
             ],
             "passed_time": 26.08440007,
             "remaining_time": 11.1790286,
             "test": [
              0.06259093291
             ]
            },
            {
             "iteration": 70,
             "learn": [
              0.06056315266
             ],
             "passed_time": 26.45794367,
             "remaining_time": 10.80676572,
             "test": [
              0.06068277264
             ]
            },
            {
             "iteration": 71,
             "learn": [
              0.05865293966
             ],
             "passed_time": 26.80815232,
             "remaining_time": 10.42539257,
             "test": [
              0.05883433466
             ]
            },
            {
             "iteration": 72,
             "learn": [
              0.05684212729
             ],
             "passed_time": 27.15859356,
             "remaining_time": 10.04495926,
             "test": [
              0.05704409291
             ]
            },
            {
             "iteration": 73,
             "learn": [
              0.05543098571
             ],
             "passed_time": 27.49071283,
             "remaining_time": 9.658899104,
             "test": [
              0.05530978983
             ]
            },
            {
             "iteration": 74,
             "learn": [
              0.05367317096
             ],
             "passed_time": 27.7670754,
             "remaining_time": 9.255691801,
             "test": [
              0.05362966661
             ]
            },
            {
             "iteration": 75,
             "learn": [
              0.05182502926
             ],
             "passed_time": 28.12831729,
             "remaining_time": 8.882626513,
             "test": [
              0.05200407463
             ]
            },
            {
             "iteration": 76,
             "learn": [
              0.05053054925
             ],
             "passed_time": 28.50898596,
             "remaining_time": 8.51567113,
             "test": [
              0.05042706373
             ]
            },
            {
             "iteration": 77,
             "learn": [
              0.04884027736
             ],
             "passed_time": 28.89539411,
             "remaining_time": 8.149982955,
             "test": [
              0.0488993122
             ]
            },
            {
             "iteration": 78,
             "learn": [
              0.04721714574
             ],
             "passed_time": 29.22822852,
             "remaining_time": 7.769529101,
             "test": [
              0.04741887174
             ]
            },
            {
             "iteration": 79,
             "learn": [
              0.04591161009
             ],
             "passed_time": 29.62784477,
             "remaining_time": 7.406961192,
             "test": [
              0.0459849098
             ]
            },
            {
             "iteration": 80,
             "learn": [
              0.0446487104
             ],
             "passed_time": 29.98357351,
             "remaining_time": 7.033183911,
             "test": [
              0.04459509904
             ]
            },
            {
             "iteration": 81,
             "learn": [
              0.04306362789
             ],
             "passed_time": 30.40151577,
             "remaining_time": 6.673503463,
             "test": [
              0.04324830189
             ]
            },
            {
             "iteration": 82,
             "learn": [
              0.04195644912
             ],
             "passed_time": 30.76744957,
             "remaining_time": 6.301766779,
             "test": [
              0.04194281186
             ]
            },
            {
             "iteration": 83,
             "learn": [
              0.04071435736
             ],
             "passed_time": 31.19016611,
             "remaining_time": 5.940984022,
             "test": [
              0.04067745816
             ]
            },
            {
             "iteration": 84,
             "learn": [
              0.0393498779
             ],
             "passed_time": 31.59294419,
             "remaining_time": 5.575225445,
             "test": [
              0.03945184459
             ]
            },
            {
             "iteration": 85,
             "learn": [
              0.03812780217
             ],
             "passed_time": 31.96190623,
             "remaining_time": 5.203101014,
             "test": [
              0.03826331628
             ]
            },
            {
             "iteration": 86,
             "learn": [
              0.03710709712
             ],
             "passed_time": 32.32682004,
             "remaining_time": 4.830444374,
             "test": [
              0.03711131704
             ]
            },
            {
             "iteration": 87,
             "learn": [
              0.03605626337
             ],
             "passed_time": 32.71633797,
             "remaining_time": 4.461318815,
             "test": [
              0.03599465954
             ]
            },
            {
             "iteration": 88,
             "learn": [
              0.03486719228
             ],
             "passed_time": 32.99648794,
             "remaining_time": 4.078217611,
             "test": [
              0.03491177743
             ]
            },
            {
             "iteration": 89,
             "learn": [
              0.03382496068
             ],
             "passed_time": 33.34967458,
             "remaining_time": 3.705519398,
             "test": [
              0.03386274013
             ]
            },
            {
             "iteration": 90,
             "learn": [
              0.03282075676
             ],
             "passed_time": 33.75710443,
             "remaining_time": 3.338614724,
             "test": [
              0.03284648161
             ]
            },
            {
             "iteration": 91,
             "learn": [
              0.03182883336
             ],
             "passed_time": 34.12578299,
             "remaining_time": 2.96745939,
             "test": [
              0.0318604869
             ]
            },
            {
             "iteration": 92,
             "learn": [
              0.030851617
             ],
             "passed_time": 34.53086296,
             "remaining_time": 2.599097212,
             "test": [
              0.03090450218
             ]
            },
            {
             "iteration": 93,
             "learn": [
              0.02991138182
             ],
             "passed_time": 34.94992424,
             "remaining_time": 2.230846228,
             "test": [
              0.029977463
             ]
            },
            {
             "iteration": 94,
             "learn": [
              0.02897246999
             ],
             "passed_time": 35.31395876,
             "remaining_time": 1.858629409,
             "test": [
              0.02907892794
             ]
            },
            {
             "iteration": 95,
             "learn": [
              0.02823888487
             ],
             "passed_time": 35.57429571,
             "remaining_time": 1.482262321,
             "test": [
              0.02820730411
             ]
            },
            {
             "iteration": 96,
             "learn": [
              0.02735158814
             ],
             "passed_time": 35.9387374,
             "remaining_time": 1.111507342,
             "test": [
              0.02736232377
             ]
            },
            {
             "iteration": 97,
             "learn": [
              0.02643379144
             ],
             "passed_time": 36.29790029,
             "remaining_time": 0.7407734753,
             "test": [
              0.02654357956
             ]
            },
            {
             "iteration": 98,
             "learn": [
              0.02577583536
             ],
             "passed_time": 36.63924929,
             "remaining_time": 0.3700934272,
             "test": [
              0.02574939166
             ]
            },
            {
             "iteration": 99,
             "learn": [
              0.02492011312
             ],
             "passed_time": 36.97804271,
             "remaining_time": 0,
             "test": [
              0.0249796857
             ]
            }
           ],
           "meta": {
            "iteration_count": 100,
            "launch_mode": "Train",
            "learn_metrics": [
             {
              "best_value": "Min",
              "name": "CrossEntropy"
             }
            ],
            "learn_sets": [
             "learn"
            ],
            "name": "experiment",
            "parameters": "",
            "test_metrics": [
             {
              "best_value": "Min",
              "name": "CrossEntropy"
             }
            ],
            "test_sets": [
             "test"
            ]
           }
          },
          "passed_iterations": 99,
          "total_iterations": 100
         },
         "name": "catboost_info",
         "path": "catboost_info"
        }
       },
       "layout": "IPY_MODEL_befcfb27322a4a5ab5fdeddccb5d5547"
      }
     },
     "2b97b65ca89340b891dadf1bc9c5cf7f": {
      "model_module": "catboost-widget",
      "model_module_version": "^1.0.0",
      "model_name": "CatboostWidgetModel",
      "state": {
       "_dom_classes": [],
       "_model_module": "catboost-widget",
       "_model_module_version": "^1.0.0",
       "_model_name": "CatboostWidgetModel",
       "_view_count": null,
       "_view_module": "catboost-widget",
       "_view_module_version": "^1.0.0",
       "_view_name": "CatboostWidgetView",
       "data": {
        "catboost_info": {
         "content": {
          "data": {
           "iterations": [
            {
             "iteration": 0,
             "learn": [
              0.6721752494
             ],
             "passed_time": 0.3856365262,
             "remaining_time": 38.17801609,
             "test": [
              0.6726366506
             ]
            },
            {
             "iteration": 1,
             "learn": [
              0.6517412688
             ],
             "passed_time": 0.7556919574,
             "remaining_time": 37.02890591,
             "test": [
              0.6537154045
             ]
            },
            {
             "iteration": 2,
             "learn": [
              0.631926706
             ],
             "passed_time": 1.114350294,
             "remaining_time": 36.03065949,
             "test": [
              0.6356041399
             ]
            },
            {
             "iteration": 3,
             "learn": [
              0.6147148546
             ],
             "passed_time": 1.481410834,
             "remaining_time": 35.55386002,
             "test": [
              0.6189258464
             ]
            },
            {
             "iteration": 4,
             "learn": [
              0.598540279
             ],
             "passed_time": 1.802350721,
             "remaining_time": 34.2446637,
             "test": [
              0.6039933934
             ]
            },
            {
             "iteration": 5,
             "learn": [
              0.5818267735
             ],
             "passed_time": 2.164047452,
             "remaining_time": 33.90341008,
             "test": [
              0.5883142662
             ]
            },
            {
             "iteration": 6,
             "learn": [
              0.5683420343
             ],
             "passed_time": 2.486701182,
             "remaining_time": 33.03760141,
             "test": [
              0.5745464143
             ]
            },
            {
             "iteration": 7,
             "learn": [
              0.5544459472
             ],
             "passed_time": 2.833940635,
             "remaining_time": 32.5903173,
             "test": [
              0.5613546649
             ]
            },
            {
             "iteration": 8,
             "learn": [
              0.5400725681
             ],
             "passed_time": 3.194326472,
             "remaining_time": 32.29818988,
             "test": [
              0.5478843103
             ]
            },
            {
             "iteration": 9,
             "learn": [
              0.5279825402
             ],
             "passed_time": 3.508211893,
             "remaining_time": 31.57390704,
             "test": [
              0.5362627963
             ]
            },
            {
             "iteration": 10,
             "learn": [
              0.5165424747
             ],
             "passed_time": 3.82039568,
             "remaining_time": 30.91047414,
             "test": [
              0.5247379407
             ]
            },
            {
             "iteration": 11,
             "learn": [
              0.5039141075
             ],
             "passed_time": 4.17673272,
             "remaining_time": 30.62937328,
             "test": [
              0.5128318536
             ]
            },
            {
             "iteration": 12,
             "learn": [
              0.4925640728
             ],
             "passed_time": 4.527608033,
             "remaining_time": 30.30014607,
             "test": [
              0.5020728947
             ]
            },
            {
             "iteration": 13,
             "learn": [
              0.4802624031
             ],
             "passed_time": 4.88136717,
             "remaining_time": 29.98554119,
             "test": [
              0.4908952292
             ]
            },
            {
             "iteration": 14,
             "learn": [
              0.4707136841
             ],
             "passed_time": 5.233645395,
             "remaining_time": 29.6573239,
             "test": [
              0.4809434074
             ]
            },
            {
             "iteration": 15,
             "learn": [
              0.4608222246
             ],
             "passed_time": 5.593578569,
             "remaining_time": 29.36628749,
             "test": [
              0.4714096955
             ]
            },
            {
             "iteration": 16,
             "learn": [
              0.4503708806
             ],
             "passed_time": 5.948678206,
             "remaining_time": 29.04354653,
             "test": [
              0.4616142228
             ]
            },
            {
             "iteration": 17,
             "learn": [
              0.4402062847
             ],
             "passed_time": 6.313432279,
             "remaining_time": 28.76119149,
             "test": [
              0.4522841066
             ]
            },
            {
             "iteration": 18,
             "learn": [
              0.4314236435
             ],
             "passed_time": 6.670525903,
             "remaining_time": 28.43750516,
             "test": [
              0.4434467513
             ]
            },
            {
             "iteration": 19,
             "learn": [
              0.4230489515
             ],
             "passed_time": 7.030783966,
             "remaining_time": 28.12313586,
             "test": [
              0.4351256154
             ]
            },
            {
             "iteration": 20,
             "learn": [
              0.414754876
             ],
             "passed_time": 7.395008176,
             "remaining_time": 27.81931647,
             "test": [
              0.4268799174
             ]
            },
            {
             "iteration": 21,
             "learn": [
              0.4060729901
             ],
             "passed_time": 7.750058929,
             "remaining_time": 27.47748166,
             "test": [
              0.4187381557
             ]
            },
            {
             "iteration": 22,
             "learn": [
              0.3977199535
             ],
             "passed_time": 8.093405306,
             "remaining_time": 27.09531341,
             "test": [
              0.4106804783
             ]
            },
            {
             "iteration": 23,
             "learn": [
              0.3905357341
             ],
             "passed_time": 8.44442367,
             "remaining_time": 26.74067496,
             "test": [
              0.4033517474
             ]
            },
            {
             "iteration": 24,
             "learn": [
              0.3827745759
             ],
             "passed_time": 8.801150141,
             "remaining_time": 26.40345042,
             "test": [
              0.3962781522
             ]
            },
            {
             "iteration": 25,
             "learn": [
              0.3749485968
             ],
             "passed_time": 9.16325717,
             "remaining_time": 26.08003964,
             "test": [
              0.3892597166
             ]
            },
            {
             "iteration": 26,
             "learn": [
              0.3684586899
             ],
             "passed_time": 9.514739515,
             "remaining_time": 25.72503647,
             "test": [
              0.382339847
             ]
            },
            {
             "iteration": 27,
             "learn": [
              0.3621556441
             ],
             "passed_time": 9.860505155,
             "remaining_time": 25.35558469,
             "test": [
              0.37571635
             ]
            },
            {
             "iteration": 28,
             "learn": [
              0.3551636165
             ],
             "passed_time": 10.26259249,
             "remaining_time": 25.12565747,
             "test": [
              0.3693076587
             ]
            },
            {
             "iteration": 29,
             "learn": [
              0.3497611954
             ],
             "passed_time": 10.5955156,
             "remaining_time": 24.72286974,
             "test": [
              0.3640928829
             ]
            },
            {
             "iteration": 30,
             "learn": [
              0.3431375219
             ],
             "passed_time": 10.97184364,
             "remaining_time": 24.42120036,
             "test": [
              0.3576597713
             ]
            },
            {
             "iteration": 31,
             "learn": [
              0.3380100463
             ],
             "passed_time": 11.29132305,
             "remaining_time": 23.99406149,
             "test": [
              0.3524525105
             ]
            },
            {
             "iteration": 32,
             "learn": [
              0.3328032789
             ],
             "passed_time": 11.61574198,
             "remaining_time": 23.58347614,
             "test": [
              0.3467389529
             ]
            },
            {
             "iteration": 33,
             "learn": [
              0.3267780908
             ],
             "passed_time": 11.97341198,
             "remaining_time": 23.24250561,
             "test": [
              0.3413415157
             ]
            },
            {
             "iteration": 34,
             "learn": [
              0.3210632385
             ],
             "passed_time": 12.33293383,
             "remaining_time": 22.90401996,
             "test": [
              0.3358028627
             ]
            },
            {
             "iteration": 35,
             "learn": [
              0.3159719152
             ],
             "passed_time": 12.68852025,
             "remaining_time": 22.55736934,
             "test": [
              0.3306962928
             ]
            },
            {
             "iteration": 36,
             "learn": [
              0.3103634629
             ],
             "passed_time": 13.05402402,
             "remaining_time": 22.22712198,
             "test": [
              0.3250889741
             ]
            },
            {
             "iteration": 37,
             "learn": [
              0.3050309381
             ],
             "passed_time": 13.41949552,
             "remaining_time": 21.89496638,
             "test": [
              0.3198828614
             ]
            },
            {
             "iteration": 38,
             "learn": [
              0.2997370107
             ],
             "passed_time": 13.79446522,
             "remaining_time": 21.57595842,
             "test": [
              0.3144982666
             ]
            },
            {
             "iteration": 39,
             "learn": [
              0.2953143364
             ],
             "passed_time": 14.2158255,
             "remaining_time": 21.32373825,
             "test": [
              0.3098003135
             ]
            },
            {
             "iteration": 40,
             "learn": [
              0.2903887541
             ],
             "passed_time": 14.71833421,
             "remaining_time": 21.18004191,
             "test": [
              0.3050650962
             ]
            },
            {
             "iteration": 41,
             "learn": [
              0.2855884188
             ],
             "passed_time": 15.15361361,
             "remaining_time": 20.9264188,
             "test": [
              0.300438577
             ]
            },
            {
             "iteration": 42,
             "learn": [
              0.2814095704
             ],
             "passed_time": 15.52701203,
             "remaining_time": 20.58231827,
             "test": [
              0.2959795363
             ]
            },
            {
             "iteration": 43,
             "learn": [
              0.2769916886
             ],
             "passed_time": 15.87878083,
             "remaining_time": 20.20935742,
             "test": [
              0.2918380717
             ]
            },
            {
             "iteration": 44,
             "learn": [
              0.2725100583
             ],
             "passed_time": 16.25612602,
             "remaining_time": 19.86859847,
             "test": [
              0.2875132881
             ]
            },
            {
             "iteration": 45,
             "learn": [
              0.2686876458
             ],
             "passed_time": 16.56180115,
             "remaining_time": 19.44211439,
             "test": [
              0.2836640154
             ]
            },
            {
             "iteration": 46,
             "learn": [
              0.2652115725
             ],
             "passed_time": 16.85242265,
             "remaining_time": 19.00379575,
             "test": [
              0.2801203593
             ]
            },
            {
             "iteration": 47,
             "learn": [
              0.2611290935
             ],
             "passed_time": 17.22357663,
             "remaining_time": 18.65887468,
             "test": [
              0.2760057867
             ]
            },
            {
             "iteration": 48,
             "learn": [
              0.2573353732
             ],
             "passed_time": 17.5651351,
             "remaining_time": 18.28207939,
             "test": [
              0.2724704805
             ]
            },
            {
             "iteration": 49,
             "learn": [
              0.2539754609
             ],
             "passed_time": 17.94533787,
             "remaining_time": 17.94533787,
             "test": [
              0.2687884322
             ]
            },
            {
             "iteration": 50,
             "learn": [
              0.2500607553
             ],
             "passed_time": 18.3108597,
             "remaining_time": 17.59278677,
             "test": [
              0.2651689134
             ]
            },
            {
             "iteration": 51,
             "learn": [
              0.2472032737
             ],
             "passed_time": 18.63211815,
             "remaining_time": 17.19887829,
             "test": [
              0.2621036283
             ]
            },
            {
             "iteration": 52,
             "learn": [
              0.2438052798
             ],
             "passed_time": 18.97551712,
             "remaining_time": 16.82734537,
             "test": [
              0.2590240914
             ]
            },
            {
             "iteration": 53,
             "learn": [
              0.2406426626
             ],
             "passed_time": 19.34598028,
             "remaining_time": 16.47990913,
             "test": [
              0.2555553186
             ]
            },
            {
             "iteration": 54,
             "learn": [
              0.2370810018
             ],
             "passed_time": 19.70868713,
             "remaining_time": 16.12528947,
             "test": [
              0.2521966469
             ]
            },
            {
             "iteration": 55,
             "learn": [
              0.2335885952
             ],
             "passed_time": 20.11413767,
             "remaining_time": 15.80396531,
             "test": [
              0.2485781523
             ]
            },
            {
             "iteration": 56,
             "learn": [
              0.230568838
             ],
             "passed_time": 20.46250203,
             "remaining_time": 15.43662434,
             "test": [
              0.2458629251
             ]
            },
            {
             "iteration": 57,
             "learn": [
              0.227432309
             ],
             "passed_time": 20.84682867,
             "remaining_time": 15.09597938,
             "test": [
              0.2424197876
             ]
            },
            {
             "iteration": 58,
             "learn": [
              0.2246227942
             ],
             "passed_time": 21.22195105,
             "remaining_time": 14.74745751,
             "test": [
              0.239756785
             ]
            },
            {
             "iteration": 59,
             "learn": [
              0.2214362119
             ],
             "passed_time": 21.63416985,
             "remaining_time": 14.4227799,
             "test": [
              0.2363695821
             ]
            },
            {
             "iteration": 60,
             "learn": [
              0.2184547401
             ],
             "passed_time": 22.02358765,
             "remaining_time": 14.0806544,
             "test": [
              0.2331576951
             ]
            },
            {
             "iteration": 61,
             "learn": [
              0.2159095156
             ],
             "passed_time": 22.3812657,
             "remaining_time": 13.71754995,
             "test": [
              0.2306677666
             ]
            },
            {
             "iteration": 62,
             "learn": [
              0.2132292331
             ],
             "passed_time": 22.7322901,
             "remaining_time": 13.35071006,
             "test": [
              0.2280845568
             ]
            },
            {
             "iteration": 63,
             "learn": [
              0.2104279341
             ],
             "passed_time": 23.15950002,
             "remaining_time": 13.02721876,
             "test": [
              0.2253476649
             ]
            },
            {
             "iteration": 64,
             "learn": [
              0.2080061954
             ],
             "passed_time": 23.50164755,
             "remaining_time": 12.6547333,
             "test": [
              0.22265379
             ]
            },
            {
             "iteration": 65,
             "learn": [
              0.2054983096
             ],
             "passed_time": 23.86825972,
             "remaining_time": 12.29577016,
             "test": [
              0.2199898664
             ]
            },
            {
             "iteration": 66,
             "learn": [
              0.2031207314
             ],
             "passed_time": 24.22326805,
             "remaining_time": 11.93086337,
             "test": [
              0.2174653651
             ]
            },
            {
             "iteration": 67,
             "learn": [
              0.2008484023
             ],
             "passed_time": 24.59055351,
             "remaining_time": 11.57202518,
             "test": [
              0.21511323
             ]
            },
            {
             "iteration": 68,
             "learn": [
              0.1984957451
             ],
             "passed_time": 24.92951897,
             "remaining_time": 11.20021867,
             "test": [
              0.2128669331
             ]
            },
            {
             "iteration": 69,
             "learn": [
              0.1961268965
             ],
             "passed_time": 25.31958752,
             "remaining_time": 10.8512518,
             "test": [
              0.2103484867
             ]
            },
            {
             "iteration": 70,
             "learn": [
              0.1938790917
             ],
             "passed_time": 25.69806303,
             "remaining_time": 10.49639194,
             "test": [
              0.207857434
             ]
            },
            {
             "iteration": 71,
             "learn": [
              0.1920249761
             ],
             "passed_time": 26.00607381,
             "remaining_time": 10.11347315,
             "test": [
              0.205961435
             ]
            },
            {
             "iteration": 72,
             "learn": [
              0.1896931424
             ],
             "passed_time": 26.4653877,
             "remaining_time": 9.788568053,
             "test": [
              0.2035557849
             ]
            },
            {
             "iteration": 73,
             "learn": [
              0.1880098137
             ],
             "passed_time": 26.74022353,
             "remaining_time": 9.395213673,
             "test": [
              0.2018537285
             ]
            },
            {
             "iteration": 74,
             "learn": [
              0.1859772619
             ],
             "passed_time": 27.09164458,
             "remaining_time": 9.030548195,
             "test": [
              0.2000279358
             ]
            },
            {
             "iteration": 75,
             "learn": [
              0.1837309985
             ],
             "passed_time": 27.56023852,
             "remaining_time": 8.703233218,
             "test": [
              0.197730471
             ]
            },
            {
             "iteration": 76,
             "learn": [
              0.1819723781
             ],
             "passed_time": 27.91101741,
             "remaining_time": 8.337057148,
             "test": [
              0.1960385919
             ]
            },
            {
             "iteration": 77,
             "learn": [
              0.1796089409
             ],
             "passed_time": 28.26533111,
             "remaining_time": 7.972272876,
             "test": [
              0.19362268
             ]
            },
            {
             "iteration": 78,
             "learn": [
              0.1777521604
             ],
             "passed_time": 28.59569267,
             "remaining_time": 7.601386659,
             "test": [
              0.1917159129
             ]
            },
            {
             "iteration": 79,
             "learn": [
              0.1758611027
             ],
             "passed_time": 28.93880466,
             "remaining_time": 7.234701166,
             "test": [
              0.1899527924
             ]
            },
            {
             "iteration": 80,
             "learn": [
              0.1744285495
             ],
             "passed_time": 29.22064904,
             "remaining_time": 6.854226317,
             "test": [
              0.1885022185
             ]
            },
            {
             "iteration": 81,
             "learn": [
              0.1723727735
             ],
             "passed_time": 29.66771622,
             "remaining_time": 6.512425511,
             "test": [
              0.1862524034
             ]
            },
            {
             "iteration": 82,
             "learn": [
              0.1704064294
             ],
             "passed_time": 30.04216683,
             "remaining_time": 6.153214893,
             "test": [
              0.1843207548
             ]
            },
            {
             "iteration": 83,
             "learn": [
              0.1688743799
             ],
             "passed_time": 30.37003468,
             "remaining_time": 5.78476851,
             "test": [
              0.1826103849
             ]
            },
            {
             "iteration": 84,
             "learn": [
              0.1670521392
             ],
             "passed_time": 30.76643264,
             "remaining_time": 5.429370466,
             "test": [
              0.1806288877
             ]
            },
            {
             "iteration": 85,
             "learn": [
              0.1651603619
             ],
             "passed_time": 31.22436155,
             "remaining_time": 5.083035602,
             "test": [
              0.1785548297
             ]
            },
            {
             "iteration": 86,
             "learn": [
              0.1637115805
             ],
             "passed_time": 31.54375271,
             "remaining_time": 4.713434313,
             "test": [
              0.1770206982
             ]
            },
            {
             "iteration": 87,
             "learn": [
              0.1619584331
             ],
             "passed_time": 31.9115941,
             "remaining_time": 4.351581013,
             "test": [
              0.175267504
             ]
            },
            {
             "iteration": 88,
             "learn": [
              0.160011078
             ],
             "passed_time": 32.31747302,
             "remaining_time": 3.994294418,
             "test": [
              0.1731644081
             ]
            },
            {
             "iteration": 89,
             "learn": [
              0.1587420341
             ],
             "passed_time": 32.6592874,
             "remaining_time": 3.628809711,
             "test": [
              0.1718509142
             ]
            },
            {
             "iteration": 90,
             "learn": [
              0.1567743408
             ],
             "passed_time": 33.10278108,
             "remaining_time": 3.273901426,
             "test": [
              0.1698743297
             ]
            },
            {
             "iteration": 91,
             "learn": [
              0.1555791377
             ],
             "passed_time": 33.44587794,
             "remaining_time": 2.908337212,
             "test": [
              0.1686310556
             ]
            },
            {
             "iteration": 92,
             "learn": [
              0.1536715245
             ],
             "passed_time": 33.82187065,
             "remaining_time": 2.545732199,
             "test": [
              0.1666618161
             ]
            },
            {
             "iteration": 93,
             "learn": [
              0.1526796729
             ],
             "passed_time": 34.10517845,
             "remaining_time": 2.176926284,
             "test": [
              0.1657627402
             ]
            },
            {
             "iteration": 94,
             "learn": [
              0.1509977216
             ],
             "passed_time": 34.46266595,
             "remaining_time": 1.813824524,
             "test": [
              0.1641259239
             ]
            },
            {
             "iteration": 95,
             "learn": [
              0.1497832471
             ],
             "passed_time": 34.75269348,
             "remaining_time": 1.448028895,
             "test": [
              0.1628513336
             ]
            },
            {
             "iteration": 96,
             "learn": [
              0.1480900464
             ],
             "passed_time": 35.20663163,
             "remaining_time": 1.088864896,
             "test": [
              0.161050421
             ]
            },
            {
             "iteration": 97,
             "learn": [
              0.1464899629
             ],
             "passed_time": 35.55727554,
             "remaining_time": 0.7256586846,
             "test": [
              0.1594200461
             ]
            },
            {
             "iteration": 98,
             "learn": [
              0.1453347131
             ],
             "passed_time": 35.90502434,
             "remaining_time": 0.3626770136,
             "test": [
              0.1582671112
             ]
            },
            {
             "iteration": 99,
             "learn": [
              0.1440055052
             ],
             "passed_time": 36.2203665,
             "remaining_time": 0,
             "test": [
              0.1568910627
             ]
            }
           ],
           "meta": {
            "iteration_count": 100,
            "launch_mode": "Train",
            "learn_metrics": [
             {
              "best_value": "Min",
              "name": "CrossEntropy"
             }
            ],
            "learn_sets": [
             "learn"
            ],
            "name": "experiment",
            "parameters": "",
            "test_metrics": [
             {
              "best_value": "Min",
              "name": "CrossEntropy"
             }
            ],
            "test_sets": [
             "test"
            ]
           }
          },
          "passed_iterations": 99,
          "total_iterations": 100
         },
         "name": "catboost_info",
         "path": "catboost_info"
        }
       },
       "layout": "IPY_MODEL_e8ca813c5df7450b9f21d907c9b9a68a"
      }
     },
     "2dcaa6efc7a04cceb756e0cd81685203": {
      "model_module": "@jupyter-widgets/base",
      "model_module_version": "1.2.0",
      "model_name": "LayoutModel",
      "state": {
       "_model_module": "@jupyter-widgets/base",
       "_model_module_version": "1.2.0",
       "_model_name": "LayoutModel",
       "_view_count": null,
       "_view_module": "@jupyter-widgets/base",
       "_view_module_version": "1.2.0",
       "_view_name": "LayoutView",
       "align_content": null,
       "align_items": null,
       "align_self": "stretch",
       "border": null,
       "bottom": null,
       "display": null,
       "flex": null,
       "flex_flow": null,
       "grid_area": null,
       "grid_auto_columns": null,
       "grid_auto_flow": null,
       "grid_auto_rows": null,
       "grid_column": null,
       "grid_gap": null,
       "grid_row": null,
       "grid_template_areas": null,
       "grid_template_columns": null,
       "grid_template_rows": null,
       "height": "500px",
       "justify_content": null,
       "justify_items": null,
       "left": null,
       "margin": null,
       "max_height": null,
       "max_width": null,
       "min_height": null,
       "min_width": null,
       "object_fit": null,
       "object_position": null,
       "order": null,
       "overflow": null,
       "overflow_x": null,
       "overflow_y": null,
       "padding": null,
       "right": null,
       "top": null,
       "visibility": null,
       "width": null
      }
     },
     "3455d3d7762246feb675e32a15efe057": {
      "model_module": "catboost-widget",
      "model_module_version": "^1.0.0",
      "model_name": "CatboostWidgetModel",
      "state": {
       "_dom_classes": [],
       "_model_module": "catboost-widget",
       "_model_module_version": "^1.0.0",
       "_model_name": "CatboostWidgetModel",
       "_view_count": null,
       "_view_module": "catboost-widget",
       "_view_module_version": "^1.0.0",
       "_view_name": "CatboostWidgetView",
       "data": {
        "catboost_info": {
         "content": {
          "data": {
           "iterations": [
            {
             "iteration": 0,
             "learn": [
              0.6615089571
             ],
             "passed_time": 0.2681758557,
             "remaining_time": 26.54940971,
             "test": [
              0.663618831
             ]
            },
            {
             "iteration": 1,
             "learn": [
              0.6363514285
             ],
             "passed_time": 0.5624364844,
             "remaining_time": 27.55938773,
             "test": [
              0.6358036739
             ]
            },
            {
             "iteration": 2,
             "learn": [
              0.6094303453
             ],
             "passed_time": 0.9322616044,
             "remaining_time": 30.14312521,
             "test": [
              0.609556641
             ]
            },
            {
             "iteration": 3,
             "learn": [
              0.5838011553
             ],
             "passed_time": 1.208705592,
             "remaining_time": 29.00893421,
             "test": [
              0.5847610216
             ]
            },
            {
             "iteration": 4,
             "learn": [
              0.5622735582
             ],
             "passed_time": 1.540226028,
             "remaining_time": 29.26429453,
             "test": [
              0.5612946981
             ]
            },
            {
             "iteration": 5,
             "learn": [
              0.537921358
             ],
             "passed_time": 1.855298318,
             "remaining_time": 29.06634032,
             "test": [
              0.5390479753
             ]
            },
            {
             "iteration": 6,
             "learn": [
              0.5169996158
             ],
             "passed_time": 2.244258893,
             "remaining_time": 29.81658244,
             "test": [
              0.5179514726
             ]
            },
            {
             "iteration": 7,
             "learn": [
              0.4988149853
             ],
             "passed_time": 2.525766419,
             "remaining_time": 29.04631381,
             "test": [
              0.4979111854
             ]
            },
            {
             "iteration": 8,
             "learn": [
              0.4787055482
             ],
             "passed_time": 2.867155463,
             "remaining_time": 28.99012746,
             "test": [
              0.4788654967
             ]
            },
            {
             "iteration": 9,
             "learn": [
              0.4607296825
             ],
             "passed_time": 3.258255336,
             "remaining_time": 29.32429803,
             "test": [
              0.4607267894
             ]
            },
            {
             "iteration": 10,
             "learn": [
              0.4442277403
             ],
             "passed_time": 3.576484967,
             "remaining_time": 28.93701474,
             "test": [
              0.4434404867
             ]
            },
            {
             "iteration": 11,
             "learn": [
              0.4282246877
             ],
             "passed_time": 3.981444934,
             "remaining_time": 29.19726285,
             "test": [
              0.4269627314
             ]
            },
            {
             "iteration": 12,
             "learn": [
              0.4124164346
             ],
             "passed_time": 4.329115753,
             "remaining_time": 28.97177465,
             "test": [
              0.4112356538
             ]
            },
            {
             "iteration": 13,
             "learn": [
              0.3970046343
             ],
             "passed_time": 4.61675816,
             "remaining_time": 28.36008584,
             "test": [
              0.3962127807
             ]
            },
            {
             "iteration": 14,
             "learn": [
              0.3826555652
             ],
             "passed_time": 4.987898844,
             "remaining_time": 28.26476011,
             "test": [
              0.3818597929
             ]
            },
            {
             "iteration": 15,
             "learn": [
              0.3676189068
             ],
             "passed_time": 5.30742845,
             "remaining_time": 27.86399936,
             "test": [
              0.3681284994
             ]
            },
            {
             "iteration": 16,
             "learn": [
              0.3542685299
             ],
             "passed_time": 5.680680966,
             "remaining_time": 27.73508942,
             "test": [
              0.3549896023
             ]
            },
            {
             "iteration": 17,
             "learn": [
              0.343446297
             ],
             "passed_time": 6.001349258,
             "remaining_time": 27.33947995,
             "test": [
              0.3424066472
             ]
            },
            {
             "iteration": 18,
             "learn": [
              0.3303835819
             ],
             "passed_time": 6.33802275,
             "remaining_time": 27.01999172,
             "test": [
              0.3303514398
             ]
            },
            {
             "iteration": 19,
             "learn": [
              0.3199620012
             ],
             "passed_time": 6.642641006,
             "remaining_time": 26.57056402,
             "test": [
              0.3187951068
             ]
            },
            {
             "iteration": 20,
             "learn": [
              0.3074002457
             ],
             "passed_time": 7.034492404,
             "remaining_time": 26.46309047,
             "test": [
              0.3077105367
             ]
            },
            {
             "iteration": 21,
             "learn": [
              0.2972461653
             ],
             "passed_time": 7.398775967,
             "remaining_time": 26.23202388,
             "test": [
              0.2970750511
             ]
            },
            {
             "iteration": 22,
             "learn": [
              0.2871514061
             ],
             "passed_time": 7.762023941,
             "remaining_time": 25.98590624,
             "test": [
              0.2868628785
             ]
            },
            {
             "iteration": 23,
             "learn": [
              0.27692479
             ],
             "passed_time": 8.158486815,
             "remaining_time": 25.83520825,
             "test": [
              0.2770554449
             ]
            },
            {
             "iteration": 24,
             "learn": [
              0.2669864529
             ],
             "passed_time": 8.446726448,
             "remaining_time": 25.34017934,
             "test": [
              0.2676314652
             ]
            },
            {
             "iteration": 25,
             "learn": [
              0.2584070245
             ],
             "passed_time": 8.76714748,
             "remaining_time": 24.95265052,
             "test": [
              0.2585726846
             ]
            },
            {
             "iteration": 26,
             "learn": [
              0.2503609135
             ],
             "passed_time": 9.117165681,
             "remaining_time": 24.65011462,
             "test": [
              0.2498578759
             ]
            },
            {
             "iteration": 27,
             "learn": [
              0.2423848352
             ],
             "passed_time": 9.497296275,
             "remaining_time": 24.42161899,
             "test": [
              0.2414788887
             ]
            },
            {
             "iteration": 28,
             "learn": [
              0.2341372685
             ],
             "passed_time": 9.825734752,
             "remaining_time": 24.05610922,
             "test": [
              0.2334162616
             ]
            },
            {
             "iteration": 29,
             "learn": [
              0.2263183613
             ],
             "passed_time": 10.17762138,
             "remaining_time": 23.74778321,
             "test": [
              0.2256576061
             ]
            },
            {
             "iteration": 30,
             "learn": [
              0.2189706871
             ],
             "passed_time": 10.55988947,
             "remaining_time": 23.50427011,
             "test": [
              0.2181858996
             ]
            },
            {
             "iteration": 31,
             "learn": [
              0.2113806297
             ],
             "passed_time": 10.91437407,
             "remaining_time": 23.19304491,
             "test": [
              0.210990797
             ]
            },
            {
             "iteration": 32,
             "learn": [
              0.2038704129
             ],
             "passed_time": 11.24678456,
             "remaining_time": 22.83438077,
             "test": [
              0.2040581559
             ]
            },
            {
             "iteration": 33,
             "learn": [
              0.1971810858
             ],
             "passed_time": 11.65326494,
             "remaining_time": 22.62104371,
             "test": [
              0.1973790103
             ]
            },
            {
             "iteration": 34,
             "learn": [
              0.1916642535
             ],
             "passed_time": 12.05599761,
             "remaining_time": 22.38970985,
             "test": [
              0.1909409116
             ]
            },
            {
             "iteration": 35,
             "learn": [
              0.1845364167
             ],
             "passed_time": 12.37475864,
             "remaining_time": 21.99957092,
             "test": [
              0.1847327153
             ]
            },
            {
             "iteration": 36,
             "learn": [
              0.1792962384
             ],
             "passed_time": 12.73337264,
             "remaining_time": 21.68114802,
             "test": [
              0.178747368
             ]
            },
            {
             "iteration": 37,
             "learn": [
              0.1727853085
             ],
             "passed_time": 13.09735213,
             "remaining_time": 21.36936399,
             "test": [
              0.1729681982
             ]
            },
            {
             "iteration": 38,
             "learn": [
              0.1681620438
             ],
             "passed_time": 13.44408064,
             "remaining_time": 21.02792101,
             "test": [
              0.1673945892
             ]
            },
            {
             "iteration": 39,
             "learn": [
              0.1620343578
             ],
             "passed_time": 13.78666235,
             "remaining_time": 20.67999352,
             "test": [
              0.1620166884
             ]
            },
            {
             "iteration": 40,
             "learn": [
              0.1568837234
             ],
             "passed_time": 14.13965502,
             "remaining_time": 20.34730845,
             "test": [
              0.1568272662
             ]
            },
            {
             "iteration": 41,
             "learn": [
              0.1525439308
             ],
             "passed_time": 14.53738578,
             "remaining_time": 20.07543751,
             "test": [
              0.1518185494
             ]
            },
            {
             "iteration": 42,
             "learn": [
              0.1475417075
             ],
             "passed_time": 14.8454853,
             "remaining_time": 19.67889912,
             "test": [
              0.1469754924
             ]
            },
            {
             "iteration": 43,
             "learn": [
              0.1424601399
             ],
             "passed_time": 15.23430725,
             "remaining_time": 19.38911832,
             "test": [
              0.1423057498
             ]
            },
            {
             "iteration": 44,
             "learn": [
              0.1377043975
             ],
             "passed_time": 15.53551435,
             "remaining_time": 18.98785087,
             "test": [
              0.1377963732
             ]
            },
            {
             "iteration": 45,
             "learn": [
              0.1334743067
             ],
             "passed_time": 15.94118331,
             "remaining_time": 18.71356301,
             "test": [
              0.1334352823
             ]
            },
            {
             "iteration": 46,
             "learn": [
              0.1294639902
             ],
             "passed_time": 16.27946909,
             "remaining_time": 18.35769919,
             "test": [
              0.1292263757
             ]
            },
            {
             "iteration": 47,
             "learn": [
              0.1255438808
             ],
             "passed_time": 16.65044074,
             "remaining_time": 18.03797747,
             "test": [
              0.1251590221
             ]
            },
            {
             "iteration": 48,
             "learn": [
              0.1216359912
             ],
             "passed_time": 17.02735618,
             "remaining_time": 17.72235031,
             "test": [
              0.1212251754
             ]
            },
            {
             "iteration": 49,
             "learn": [
              0.1177627663
             ],
             "passed_time": 17.37488952,
             "remaining_time": 17.37488952,
             "test": [
              0.1174229199
             ]
            },
            {
             "iteration": 50,
             "learn": [
              0.1138882963
             ],
             "passed_time": 17.6677593,
             "remaining_time": 16.974906,
             "test": [
              0.1137426913
             ]
            },
            {
             "iteration": 51,
             "learn": [
              0.110336318
             ],
             "passed_time": 18.03259163,
             "remaining_time": 16.64546919,
             "test": [
              0.1101908398
             ]
            },
            {
             "iteration": 52,
             "learn": [
              0.1074610341
             ],
             "passed_time": 18.37252192,
             "remaining_time": 16.29261378,
             "test": [
              0.1067564831
             ]
            },
            {
             "iteration": 53,
             "learn": [
              0.1039781422
             ],
             "passed_time": 18.73670263,
             "remaining_time": 15.96089483,
             "test": [
              0.103435923
             ]
            },
            {
             "iteration": 54,
             "learn": [
              0.1003428834
             ],
             "passed_time": 19.0715609,
             "remaining_time": 15.60400438,
             "test": [
              0.1002230406
             ]
            },
            {
             "iteration": 55,
             "learn": [
              0.09772297659
             ],
             "passed_time": 19.3951886,
             "remaining_time": 15.23907676,
             "test": [
              0.0971167771
             ]
            },
            {
             "iteration": 56,
             "learn": [
              0.09437562061
             ],
             "passed_time": 19.71519554,
             "remaining_time": 14.87286681,
             "test": [
              0.09411238551
             ]
            },
            {
             "iteration": 57,
             "learn": [
              0.09178054433
             ],
             "passed_time": 19.97544385,
             "remaining_time": 14.46497658,
             "test": [
              0.09119656595
             ]
            },
            {
             "iteration": 58,
             "learn": [
              0.08854629718
             ],
             "passed_time": 20.31996371,
             "remaining_time": 14.12065275,
             "test": [
              0.08838328202
             ]
            },
            {
             "iteration": 59,
             "learn": [
              0.08607247351
             ],
             "passed_time": 20.58820766,
             "remaining_time": 13.72547177,
             "test": [
              0.08565405992
             ]
            },
            {
             "iteration": 60,
             "learn": [
              0.08321411168
             ],
             "passed_time": 20.94456586,
             "remaining_time": 13.39078801,
             "test": [
              0.08302058649
             ]
            },
            {
             "iteration": 61,
             "learn": [
              0.08067777174
             ],
             "passed_time": 21.34039187,
             "remaining_time": 13.07959502,
             "test": [
              0.08047082076
             ]
            },
            {
             "iteration": 62,
             "learn": [
              0.07853320696
             ],
             "passed_time": 21.68370674,
             "remaining_time": 12.73487539,
             "test": [
              0.07800184457
             ]
            },
            {
             "iteration": 63,
             "learn": [
              0.07606209096
             ],
             "passed_time": 22.05994496,
             "remaining_time": 12.40871904,
             "test": [
              0.07560761008
             ]
            },
            {
             "iteration": 64,
             "learn": [
              0.07358361657
             ],
             "passed_time": 22.44535547,
             "remaining_time": 12.08596064,
             "test": [
              0.0732962154
             ]
            },
            {
             "iteration": 65,
             "learn": [
              0.07125019836
             ],
             "passed_time": 22.76941494,
             "remaining_time": 11.7296986,
             "test": [
              0.07105353071
             ]
            },
            {
             "iteration": 66,
             "learn": [
              0.06907483476
             ],
             "passed_time": 23.20088587,
             "remaining_time": 11.427302,
             "test": [
              0.06888505694
             ]
            },
            {
             "iteration": 67,
             "learn": [
              0.06699202921
             ],
             "passed_time": 23.45967414,
             "remaining_time": 11.03984665,
             "test": [
              0.0667787926
             ]
            },
            {
             "iteration": 68,
             "learn": [
              0.06502149463
             ],
             "passed_time": 23.8325841,
             "remaining_time": 10.70739285,
             "test": [
              0.06474565301
             ]
            },
            {
             "iteration": 69,
             "learn": [
              0.06307009135
             ],
             "passed_time": 24.16683386,
             "remaining_time": 10.35721451,
             "test": [
              0.06277423369
             ]
            },
            {
             "iteration": 70,
             "learn": [
              0.06110739334
             ],
             "passed_time": 24.43031664,
             "remaining_time": 9.978580035,
             "test": [
              0.06086165588
             ]
            },
            {
             "iteration": 71,
             "learn": [
              0.05921960724
             ],
             "passed_time": 24.76942249,
             "remaining_time": 9.632553191,
             "test": [
              0.05901548315
             ]
            },
            {
             "iteration": 72,
             "learn": [
              0.05743951667
             ],
             "passed_time": 25.11757939,
             "remaining_time": 9.290063609,
             "test": [
              0.05722717881
             ]
            },
            {
             "iteration": 73,
             "learn": [
              0.05595818812
             ],
             "passed_time": 25.401549,
             "remaining_time": 8.924868568,
             "test": [
              0.05548907493
             ]
            },
            {
             "iteration": 74,
             "learn": [
              0.05419585628
             ],
             "passed_time": 25.66008108,
             "remaining_time": 8.55336036,
             "test": [
              0.05380857589
             ]
            },
            {
             "iteration": 75,
             "learn": [
              0.05237178189
             ],
             "passed_time": 25.95156061,
             "remaining_time": 8.195229666,
             "test": [
              0.05217578271
             ]
            },
            {
             "iteration": 76,
             "learn": [
              0.05104253945
             ],
             "passed_time": 26.32774465,
             "remaining_time": 7.86413152,
             "test": [
              0.05059903651
             ]
            },
            {
             "iteration": 77,
             "learn": [
              0.04934282347
             ],
             "passed_time": 26.64550414,
             "remaining_time": 7.515398602,
             "test": [
              0.04906691342
             ]
            },
            {
             "iteration": 78,
             "learn": [
              0.04784470489
             ],
             "passed_time": 26.95702535,
             "remaining_time": 7.165791548,
             "test": [
              0.04758508963
             ]
            },
            {
             "iteration": 79,
             "learn": [
              0.04641372577
             ],
             "passed_time": 27.30529097,
             "remaining_time": 6.826322742,
             "test": [
              0.0461495799
             ]
            },
            {
             "iteration": 80,
             "learn": [
              0.04515309653
             ],
             "passed_time": 27.64154474,
             "remaining_time": 6.483819135,
             "test": [
              0.04476074104
             ]
            },
            {
             "iteration": 81,
             "learn": [
              0.04364037369
             ],
             "passed_time": 28.05525196,
             "remaining_time": 6.158469943,
             "test": [
              0.04341672225
             ]
            },
            {
             "iteration": 82,
             "learn": [
              0.04247477751
             ],
             "passed_time": 28.40875377,
             "remaining_time": 5.818660411,
             "test": [
              0.04211258588
             ]
            },
            {
             "iteration": 83,
             "learn": [
              0.04121439561
             ],
             "passed_time": 28.6768046,
             "remaining_time": 5.462248496,
             "test": [
              0.04084280817
             ]
            },
            {
             "iteration": 84,
             "learn": [
              0.03988950618
             ],
             "passed_time": 29.18219287,
             "remaining_time": 5.149798742,
             "test": [
              0.03961814348
             ]
            },
            {
             "iteration": 85,
             "learn": [
              0.03864540441
             ],
             "passed_time": 29.53990808,
             "remaining_time": 4.808822246,
             "test": [
              0.03842551115
             ]
            },
            {
             "iteration": 86,
             "learn": [
              0.03756926377
             ],
             "passed_time": 29.94042327,
             "remaining_time": 4.473856351,
             "test": [
              0.03726882861
             ]
            },
            {
             "iteration": 87,
             "learn": [
              0.0365217281
             ],
             "passed_time": 30.32305947,
             "remaining_time": 4.134962655,
             "test": [
              0.03615432216
             ]
            },
            {
             "iteration": 88,
             "learn": [
              0.03536390205
             ],
             "passed_time": 30.58979283,
             "remaining_time": 3.780760911,
             "test": [
              0.03507072195
             ]
            },
            {
             "iteration": 89,
             "learn": [
              0.03430243729
             ],
             "passed_time": 30.88613655,
             "remaining_time": 3.43179295,
             "test": [
              0.03401732521
             ]
            },
            {
             "iteration": 90,
             "learn": [
              0.033275942
             ],
             "passed_time": 31.25354069,
             "remaining_time": 3.091009519,
             "test": [
              0.03299629465
             ]
            },
            {
             "iteration": 91,
             "learn": [
              0.03228715076
             ],
             "passed_time": 31.57444868,
             "remaining_time": 2.745604233,
             "test": [
              0.03201140014
             ]
            },
            {
             "iteration": 92,
             "learn": [
              0.03130880986
             ],
             "passed_time": 31.8951679,
             "remaining_time": 2.400711562,
             "test": [
              0.03105107369
             ]
            },
            {
             "iteration": 93,
             "learn": [
              0.03038469704
             ],
             "passed_time": 32.27604974,
             "remaining_time": 2.060173387,
             "test": [
              0.03012634841
             ]
            },
            {
             "iteration": 94,
             "learn": [
              0.0294621688
             ],
             "passed_time": 32.53245061,
             "remaining_time": 1.712234243,
             "test": [
              0.02922420716
             ]
            },
            {
             "iteration": 95,
             "learn": [
              0.02866507911
             ],
             "passed_time": 32.76339093,
             "remaining_time": 1.365141289,
             "test": [
              0.0283491557
             ]
            },
            {
             "iteration": 96,
             "learn": [
              0.0277613261
             ],
             "passed_time": 33.00479872,
             "remaining_time": 1.020766971,
             "test": [
              0.0275007385
             ]
            },
            {
             "iteration": 97,
             "learn": [
              0.02689706334
             ],
             "passed_time": 33.34811022,
             "remaining_time": 0.680573678,
             "test": [
              0.02668331024
             ]
            },
            {
             "iteration": 98,
             "learn": [
              0.02618375917
             ],
             "passed_time": 33.56674189,
             "remaining_time": 0.3390579989,
             "test": [
              0.02588547885
             ]
            },
            {
             "iteration": 99,
             "learn": [
              0.02532711979
             ],
             "passed_time": 33.84883125,
             "remaining_time": 0,
             "test": [
              0.02511226091
             ]
            }
           ],
           "meta": {
            "iteration_count": 100,
            "launch_mode": "Train",
            "learn_metrics": [
             {
              "best_value": "Min",
              "name": "CrossEntropy"
             }
            ],
            "learn_sets": [
             "learn"
            ],
            "name": "experiment",
            "parameters": "",
            "test_metrics": [
             {
              "best_value": "Min",
              "name": "CrossEntropy"
             }
            ],
            "test_sets": [
             "test"
            ]
           }
          },
          "passed_iterations": 99,
          "total_iterations": 100
         },
         "name": "catboost_info",
         "path": "catboost_info"
        }
       },
       "layout": "IPY_MODEL_c98f1c231a5d445485b97bfa246bbdaf"
      }
     },
     "3c839c36e119427d8a38a678939e1575": {
      "model_module": "@jupyter-widgets/base",
      "model_module_version": "1.2.0",
      "model_name": "LayoutModel",
      "state": {
       "_model_module": "@jupyter-widgets/base",
       "_model_module_version": "1.2.0",
       "_model_name": "LayoutModel",
       "_view_count": null,
       "_view_module": "@jupyter-widgets/base",
       "_view_module_version": "1.2.0",
       "_view_name": "LayoutView",
       "align_content": null,
       "align_items": null,
       "align_self": "stretch",
       "border": null,
       "bottom": null,
       "display": null,
       "flex": null,
       "flex_flow": null,
       "grid_area": null,
       "grid_auto_columns": null,
       "grid_auto_flow": null,
       "grid_auto_rows": null,
       "grid_column": null,
       "grid_gap": null,
       "grid_row": null,
       "grid_template_areas": null,
       "grid_template_columns": null,
       "grid_template_rows": null,
       "height": "500px",
       "justify_content": null,
       "justify_items": null,
       "left": null,
       "margin": null,
       "max_height": null,
       "max_width": null,
       "min_height": null,
       "min_width": null,
       "object_fit": null,
       "object_position": null,
       "order": null,
       "overflow": null,
       "overflow_x": null,
       "overflow_y": null,
       "padding": null,
       "right": null,
       "top": null,
       "visibility": null,
       "width": null
      }
     },
     "3f080185d22c4032b1538b6a256b7863": {
      "model_module": "catboost-widget",
      "model_module_version": "^1.0.0",
      "model_name": "CatboostWidgetModel",
      "state": {
       "_dom_classes": [],
       "_model_module": "catboost-widget",
       "_model_module_version": "^1.0.0",
       "_model_name": "CatboostWidgetModel",
       "_view_count": null,
       "_view_module": "catboost-widget",
       "_view_module_version": "^1.0.0",
       "_view_name": "CatboostWidgetView",
       "data": {
        "catboost_info": {
         "content": {
          "data": {
           "iterations": [
            {
             "iteration": 0,
             "learn": [
              0.6749040152
             ],
             "passed_time": 0.4049950724,
             "remaining_time": 40.09451217,
             "test": [
              0.6749312106
             ]
            },
            {
             "iteration": 1,
             "learn": [
              0.6578710653
             ],
             "passed_time": 0.7796727473,
             "remaining_time": 38.20396462,
             "test": [
              0.6577807328
             ]
            },
            {
             "iteration": 2,
             "learn": [
              0.6409736732
             ],
             "passed_time": 1.162481572,
             "remaining_time": 37.58690415,
             "test": [
              0.6416189375
             ]
            },
            {
             "iteration": 3,
             "learn": [
              0.6258758756
             ],
             "passed_time": 1.537940028,
             "remaining_time": 36.91056067,
             "test": [
              0.6264222915
             ]
            },
            {
             "iteration": 4,
             "learn": [
              0.6109105734
             ],
             "passed_time": 1.908115074,
             "remaining_time": 36.2541864,
             "test": [
              0.612069134
             ]
            },
            {
             "iteration": 5,
             "learn": [
              0.5966389282
             ],
             "passed_time": 2.265721343,
             "remaining_time": 35.49630104,
             "test": [
              0.5983848946
             ]
            },
            {
             "iteration": 6,
             "learn": [
              0.5833423893
             ],
             "passed_time": 2.617441288,
             "remaining_time": 34.77457712,
             "test": [
              0.5854524271
             ]
            },
            {
             "iteration": 7,
             "learn": [
              0.5711963428
             ],
             "passed_time": 2.992845681,
             "remaining_time": 34.41772533,
             "test": [
              0.5729696412
             ]
            },
            {
             "iteration": 8,
             "learn": [
              0.5592137486
             ],
             "passed_time": 3.325492544,
             "remaining_time": 33.62442461,
             "test": [
              0.5606232102
             ]
            },
            {
             "iteration": 9,
             "learn": [
              0.5472263546
             ],
             "passed_time": 3.667690646,
             "remaining_time": 33.00921582,
             "test": [
              0.5494652839
             ]
            },
            {
             "iteration": 10,
             "learn": [
              0.5363170288
             ],
             "passed_time": 4.006310153,
             "remaining_time": 32.41469124,
             "test": [
              0.5385134072
             ]
            },
            {
             "iteration": 11,
             "learn": [
              0.5257414733
             ],
             "passed_time": 4.34034424,
             "remaining_time": 31.82919109,
             "test": [
              0.5275973869
             ]
            },
            {
             "iteration": 12,
             "learn": [
              0.5158784523
             ],
             "passed_time": 4.732046307,
             "remaining_time": 31.6683099,
             "test": [
              0.5177165164
             ]
            },
            {
             "iteration": 13,
             "learn": [
              0.5058938579
             ],
             "passed_time": 5.061548319,
             "remaining_time": 31.09236824,
             "test": [
              0.5076402279
             ]
            },
            {
             "iteration": 14,
             "learn": [
              0.4963308934
             ],
             "passed_time": 5.42868372,
             "remaining_time": 30.76254108,
             "test": [
              0.4985510229
             ]
            },
            {
             "iteration": 15,
             "learn": [
              0.4872709112
             ],
             "passed_time": 5.81515301,
             "remaining_time": 30.5295533,
             "test": [
              0.4898217025
             ]
            },
            {
             "iteration": 16,
             "learn": [
              0.478439748
             ],
             "passed_time": 6.15050023,
             "remaining_time": 30.02891289,
             "test": [
              0.4807900418
             ]
            },
            {
             "iteration": 17,
             "learn": [
              0.4701283449
             ],
             "passed_time": 6.477980649,
             "remaining_time": 29.51080073,
             "test": [
              0.4720127034
             ]
            },
            {
             "iteration": 18,
             "learn": [
              0.4613133691
             ],
             "passed_time": 6.844491139,
             "remaining_time": 29.17914644,
             "test": [
              0.4639451545
             ]
            },
            {
             "iteration": 19,
             "learn": [
              0.4535884599
             ],
             "passed_time": 7.163045889,
             "remaining_time": 28.65218355,
             "test": [
              0.4556079587
             ]
            },
            {
             "iteration": 20,
             "learn": [
              0.4456600783
             ],
             "passed_time": 7.554957759,
             "remaining_time": 28.42103157,
             "test": [
              0.4474842973
             ]
            },
            {
             "iteration": 21,
             "learn": [
              0.4382003143
             ],
             "passed_time": 7.968179899,
             "remaining_time": 28.25081964,
             "test": [
              0.4401145061
             ]
            },
            {
             "iteration": 22,
             "learn": [
              0.4312584865
             ],
             "passed_time": 8.302948583,
             "remaining_time": 27.79682786,
             "test": [
              0.4329009325
             ]
            },
            {
             "iteration": 23,
             "learn": [
              0.4244723467
             ],
             "passed_time": 8.63666496,
             "remaining_time": 27.34943904,
             "test": [
              0.426565827
             ]
            },
            {
             "iteration": 24,
             "learn": [
              0.4155021346
             ],
             "passed_time": 8.985486782,
             "remaining_time": 26.95646035,
             "test": [
              0.4179404162
             ]
            },
            {
             "iteration": 25,
             "learn": [
              0.4089858915
             ],
             "passed_time": 9.297449528,
             "remaining_time": 26.46197173,
             "test": [
              0.4110616036
             ]
            },
            {
             "iteration": 26,
             "learn": [
              0.4032168369
             ],
             "passed_time": 9.659248205,
             "remaining_time": 26.11574515,
             "test": [
              0.4054093688
             ]
            },
            {
             "iteration": 27,
             "learn": [
              0.3948115289
             ],
             "passed_time": 10.0394368,
             "remaining_time": 25.81569463,
             "test": [
              0.3976795409
             ]
            },
            {
             "iteration": 28,
             "learn": [
              0.3894966967
             ],
             "passed_time": 10.40210722,
             "remaining_time": 25.46722802,
             "test": [
              0.3925207253
             ]
            },
            {
             "iteration": 29,
             "learn": [
              0.3816099132
             ],
             "passed_time": 10.76260882,
             "remaining_time": 25.11275392,
             "test": [
              0.3853689022
             ]
            },
            {
             "iteration": 30,
             "learn": [
              0.373928169
             ],
             "passed_time": 11.1212793,
             "remaining_time": 24.75381521,
             "test": [
              0.378102477
             ]
            },
            {
             "iteration": 31,
             "learn": [
              0.366849707
             ],
             "passed_time": 11.4772738,
             "remaining_time": 24.38920682,
             "test": [
              0.3716327125
             ]
            },
            {
             "iteration": 32,
             "learn": [
              0.3598642022
             ],
             "passed_time": 11.83082447,
             "remaining_time": 24.02015878,
             "test": [
              0.3651857732
             ]
            },
            {
             "iteration": 33,
             "learn": [
              0.3546619526
             ],
             "passed_time": 12.21904712,
             "remaining_time": 23.71932676,
             "test": [
              0.3597344262
             ]
            },
            {
             "iteration": 34,
             "learn": [
              0.3488470664
             ],
             "passed_time": 12.5637093,
             "remaining_time": 23.33260299,
             "test": [
              0.353864684
             ]
            },
            {
             "iteration": 35,
             "learn": [
              0.3438918924
             ],
             "passed_time": 12.94921304,
             "remaining_time": 23.02082319,
             "test": [
              0.3487260273
             ]
            },
            {
             "iteration": 36,
             "learn": [
              0.3383290889
             ],
             "passed_time": 13.29073953,
             "remaining_time": 22.63017812,
             "test": [
              0.3430533781
             ]
            },
            {
             "iteration": 37,
             "learn": [
              0.3333495187
             ],
             "passed_time": 13.68921963,
             "remaining_time": 22.33504255,
             "test": [
              0.3377525923
             ]
            },
            {
             "iteration": 38,
             "learn": [
              0.3282566767
             ],
             "passed_time": 14.02726782,
             "remaining_time": 21.94008556,
             "test": [
              0.3325118328
             ]
            },
            {
             "iteration": 39,
             "learn": [
              0.3239003386
             ],
             "passed_time": 14.40597772,
             "remaining_time": 21.60896658,
             "test": [
              0.3284199576
             ]
            },
            {
             "iteration": 40,
             "learn": [
              0.3195436408
             ],
             "passed_time": 14.78101437,
             "remaining_time": 21.27024019,
             "test": [
              0.3239312996
             ]
            },
            {
             "iteration": 41,
             "learn": [
              0.314037453
             ],
             "passed_time": 15.1403958,
             "remaining_time": 20.90816564,
             "test": [
              0.3186855736
             ]
            },
            {
             "iteration": 42,
             "learn": [
              0.3087273328
             ],
             "passed_time": 15.4991838,
             "remaining_time": 20.54542969,
             "test": [
              0.3136861837
             ]
            },
            {
             "iteration": 43,
             "learn": [
              0.303582371
             ],
             "passed_time": 15.87517224,
             "remaining_time": 20.20476467,
             "test": [
              0.3087492214
             ]
            },
            {
             "iteration": 44,
             "learn": [
              0.2997958031
             ],
             "passed_time": 16.24160041,
             "remaining_time": 19.85084495,
             "test": [
              0.3050095662
             ]
            },
            {
             "iteration": 45,
             "learn": [
              0.294842358
             ],
             "passed_time": 16.63478898,
             "remaining_time": 19.52779576,
             "test": [
              0.3003620788
             ]
            },
            {
             "iteration": 46,
             "learn": [
              0.290833343
             ],
             "passed_time": 17.06147659,
             "remaining_time": 19.23953744,
             "test": [
              0.2964456451
             ]
            },
            {
             "iteration": 47,
             "learn": [
              0.2874255037
             ],
             "passed_time": 17.41226611,
             "remaining_time": 18.86328828,
             "test": [
              0.2930744641
             ]
            },
            {
             "iteration": 48,
             "learn": [
              0.2837157927
             ],
             "passed_time": 17.78628896,
             "remaining_time": 18.51225993,
             "test": [
              0.2893953206
             ]
            },
            {
             "iteration": 49,
             "learn": [
              0.279236492
             ],
             "passed_time": 18.1690319,
             "remaining_time": 18.1690319,
             "test": [
              0.2851743624
             ]
            },
            {
             "iteration": 50,
             "learn": [
              0.2758515646
             ],
             "passed_time": 18.54574538,
             "remaining_time": 17.81846124,
             "test": [
              0.2817426263
             ]
            },
            {
             "iteration": 51,
             "learn": [
              0.2726828626
             ],
             "passed_time": 18.95200131,
             "remaining_time": 17.49415505,
             "test": [
              0.2787029675
             ]
            },
            {
             "iteration": 52,
             "learn": [
              0.2685842142
             ],
             "passed_time": 19.31842514,
             "remaining_time": 17.13143361,
             "test": [
              0.2746117109
             ]
            },
            {
             "iteration": 53,
             "learn": [
              0.2646644372
             ],
             "passed_time": 19.73044685,
             "remaining_time": 16.80741769,
             "test": [
              0.2709450232
             ]
            },
            {
             "iteration": 54,
             "learn": [
              0.2607268168
             ],
             "passed_time": 20.23351858,
             "remaining_time": 16.55469702,
             "test": [
              0.2674676385
             ]
            },
            {
             "iteration": 55,
             "learn": [
              0.2570366694
             ],
             "passed_time": 20.70672936,
             "remaining_time": 16.26957307,
             "test": [
              0.2640264538
             ]
            },
            {
             "iteration": 56,
             "learn": [
              0.2535181026
             ],
             "passed_time": 21.11692168,
             "remaining_time": 15.93030934,
             "test": [
              0.2603945977
             ]
            },
            {
             "iteration": 57,
             "learn": [
              0.2505651481
             ],
             "passed_time": 21.49861844,
             "remaining_time": 15.56796508,
             "test": [
              0.257428233
             ]
            },
            {
             "iteration": 58,
             "learn": [
              0.2475488164
             ],
             "passed_time": 21.88555251,
             "remaining_time": 15.20860428,
             "test": [
              0.2541984515
             ]
            },
            {
             "iteration": 59,
             "learn": [
              0.2450342331
             ],
             "passed_time": 22.25592666,
             "remaining_time": 14.83728444,
             "test": [
              0.2517977598
             ]
            },
            {
             "iteration": 60,
             "learn": [
              0.2418217504
             ],
             "passed_time": 22.62179391,
             "remaining_time": 14.46311414,
             "test": [
              0.2486590788
             ]
            },
            {
             "iteration": 61,
             "learn": [
              0.2388893557
             ],
             "passed_time": 23.01003281,
             "remaining_time": 14.10292334,
             "test": [
              0.2453400266
             ]
            },
            {
             "iteration": 62,
             "learn": [
              0.2357374755
             ],
             "passed_time": 23.43529837,
             "remaining_time": 13.76358793,
             "test": [
              0.2420191525
             ]
            },
            {
             "iteration": 63,
             "learn": [
              0.2327995188
             ],
             "passed_time": 23.83639704,
             "remaining_time": 13.40797334,
             "test": [
              0.2389406279
             ]
            },
            {
             "iteration": 64,
             "learn": [
              0.2300725679
             ],
             "passed_time": 24.20768813,
             "remaining_time": 13.03490899,
             "test": [
              0.2364427438
             ]
            },
            {
             "iteration": 65,
             "learn": [
              0.2274602034
             ],
             "passed_time": 24.61744401,
             "remaining_time": 12.68171358,
             "test": [
              0.2338293865
             ]
            },
            {
             "iteration": 66,
             "learn": [
              0.2246680724
             ],
             "passed_time": 24.96071651,
             "remaining_time": 12.29408425,
             "test": [
              0.2311506943
             ]
            },
            {
             "iteration": 67,
             "learn": [
              0.2219180697
             ],
             "passed_time": 25.39475773,
             "remaining_time": 11.95047423,
             "test": [
              0.2281656719
             ]
            },
            {
             "iteration": 68,
             "learn": [
              0.2197105332
             ],
             "passed_time": 25.75688291,
             "remaining_time": 11.5719329,
             "test": [
              0.225905616
             ]
            },
            {
             "iteration": 69,
             "learn": [
              0.2173284934
             ],
             "passed_time": 26.16741354,
             "remaining_time": 11.2146058,
             "test": [
              0.2235483734
             ]
            },
            {
             "iteration": 70,
             "learn": [
              0.2149262356
             ],
             "passed_time": 26.55682559,
             "remaining_time": 10.84715411,
             "test": [
              0.2209076302
             ]
            },
            {
             "iteration": 71,
             "learn": [
              0.2128254139
             ],
             "passed_time": 26.94050707,
             "remaining_time": 10.47686386,
             "test": [
              0.2187439774
             ]
            },
            {
             "iteration": 72,
             "learn": [
              0.2105875251
             ],
             "passed_time": 27.30113153,
             "remaining_time": 10.09767878,
             "test": [
              0.2165951036
             ]
            },
            {
             "iteration": 73,
             "learn": [
              0.2082607241
             ],
             "passed_time": 27.65152809,
             "remaining_time": 9.715401761,
             "test": [
              0.2142806378
             ]
            },
            {
             "iteration": 74,
             "learn": [
              0.2059426177
             ],
             "passed_time": 28.05552354,
             "remaining_time": 9.351841179,
             "test": [
              0.2117728138
             ]
            },
            {
             "iteration": 75,
             "learn": [
              0.2040015171
             ],
             "passed_time": 28.42349442,
             "remaining_time": 8.975840344,
             "test": [
              0.2095902026
             ]
            },
            {
             "iteration": 76,
             "learn": [
              0.201857536
             ],
             "passed_time": 28.8131231,
             "remaining_time": 8.606517291,
             "test": [
              0.2071926615
             ]
            },
            {
             "iteration": 77,
             "learn": [
              0.1997484353
             ],
             "passed_time": 29.19707954,
             "remaining_time": 8.235073717,
             "test": [
              0.2051787101
             ]
            },
            {
             "iteration": 78,
             "learn": [
              0.197625616
             ],
             "passed_time": 29.57188368,
             "remaining_time": 7.860880472,
             "test": [
              0.2030773736
             ]
            },
            {
             "iteration": 79,
             "learn": [
              0.1961343687
             ],
             "passed_time": 29.82464152,
             "remaining_time": 7.45616038,
             "test": [
              0.2015229356
             ]
            },
            {
             "iteration": 80,
             "learn": [
              0.1942321814
             ],
             "passed_time": 30.23711861,
             "remaining_time": 7.092657451,
             "test": [
              0.199744535
             ]
            },
            {
             "iteration": 81,
             "learn": [
              0.1920952823
             ],
             "passed_time": 30.60083419,
             "remaining_time": 6.717256286,
             "test": [
              0.1976689467
             ]
            },
            {
             "iteration": 82,
             "learn": [
              0.190613987
             ],
             "passed_time": 30.90031476,
             "remaining_time": 6.328980131,
             "test": [
              0.1960217198
             ]
            },
            {
             "iteration": 83,
             "learn": [
              0.1886723282
             ],
             "passed_time": 31.27936738,
             "remaining_time": 5.957974739,
             "test": [
              0.1940638372
             ]
            },
            {
             "iteration": 84,
             "learn": [
              0.1868275969
             ],
             "passed_time": 31.62094127,
             "remaining_time": 5.580166106,
             "test": [
              0.192272423
             ]
            },
            {
             "iteration": 85,
             "learn": [
              0.1851265021
             ],
             "passed_time": 31.94127183,
             "remaining_time": 5.199741926,
             "test": [
              0.1904638882
             ]
            },
            {
             "iteration": 86,
             "learn": [
              0.1830620694
             ],
             "passed_time": 32.28941343,
             "remaining_time": 4.824854881,
             "test": [
              0.1884440372
             ]
            },
            {
             "iteration": 87,
             "learn": [
              0.181467006
             ],
             "passed_time": 32.59831111,
             "remaining_time": 4.445224242,
             "test": [
              0.1867798258
             ]
            },
            {
             "iteration": 88,
             "learn": [
              0.1798855334
             ],
             "passed_time": 32.93610275,
             "remaining_time": 4.070754272,
             "test": [
              0.185226621
             ]
            },
            {
             "iteration": 89,
             "learn": [
              0.1783192203
             ],
             "passed_time": 33.25880425,
             "remaining_time": 3.695422695,
             "test": [
              0.1835731786
             ]
            },
            {
             "iteration": 90,
             "learn": [
              0.1766796791
             ],
             "passed_time": 33.61745626,
             "remaining_time": 3.324803366,
             "test": [
              0.1818987289
             ]
            },
            {
             "iteration": 91,
             "learn": [
              0.1748452314
             ],
             "passed_time": 34.01799226,
             "remaining_time": 2.958086284,
             "test": [
              0.1800607861
             ]
            },
            {
             "iteration": 92,
             "learn": [
              0.1735748951
             ],
             "passed_time": 34.40702029,
             "remaining_time": 2.589775721,
             "test": [
              0.1785427362
             ]
            },
            {
             "iteration": 93,
             "learn": [
              0.1723081614
             ],
             "passed_time": 34.71198198,
             "remaining_time": 2.215658424,
             "test": [
              0.1771460575
             ]
            },
            {
             "iteration": 94,
             "learn": [
              0.1704338735
             ],
             "passed_time": 35.06754398,
             "remaining_time": 1.84566021,
             "test": [
              0.1751803718
             ]
            },
            {
             "iteration": 95,
             "learn": [
              0.1688625519
             ],
             "passed_time": 35.42520056,
             "remaining_time": 1.476050024,
             "test": [
              0.1736224276
             ]
            },
            {
             "iteration": 96,
             "learn": [
              0.1676157422
             ],
             "passed_time": 35.69137345,
             "remaining_time": 1.103856911,
             "test": [
              0.1722818433
             ]
            },
            {
             "iteration": 97,
             "learn": [
              0.1662668147
             ],
             "passed_time": 36.02316928,
             "remaining_time": 0.7351667199,
             "test": [
              0.1708928583
             ]
            },
            {
             "iteration": 98,
             "learn": [
              0.1649485929
             ],
             "passed_time": 36.39511397,
             "remaining_time": 0.3676274138,
             "test": [
              0.1696133278
             ]
            },
            {
             "iteration": 99,
             "learn": [
              0.1633786565
             ],
             "passed_time": 36.79037358,
             "remaining_time": 0,
             "test": [
              0.1681121037
             ]
            }
           ],
           "meta": {
            "iteration_count": 100,
            "launch_mode": "Train",
            "learn_metrics": [
             {
              "best_value": "Min",
              "name": "CrossEntropy"
             }
            ],
            "learn_sets": [
             "learn"
            ],
            "name": "experiment",
            "parameters": "",
            "test_metrics": [
             {
              "best_value": "Min",
              "name": "CrossEntropy"
             }
            ],
            "test_sets": [
             "test"
            ]
           }
          },
          "passed_iterations": 99,
          "total_iterations": 100
         },
         "name": "catboost_info",
         "path": "catboost_info"
        }
       },
       "layout": "IPY_MODEL_e63a9b5700454f1f959cef341afbb22b"
      }
     },
     "4373b487570c4af68c261e77d7c0e5f7": {
      "model_module": "@jupyter-widgets/base",
      "model_module_version": "1.2.0",
      "model_name": "LayoutModel",
      "state": {
       "_model_module": "@jupyter-widgets/base",
       "_model_module_version": "1.2.0",
       "_model_name": "LayoutModel",
       "_view_count": null,
       "_view_module": "@jupyter-widgets/base",
       "_view_module_version": "1.2.0",
       "_view_name": "LayoutView",
       "align_content": null,
       "align_items": null,
       "align_self": "stretch",
       "border": null,
       "bottom": null,
       "display": null,
       "flex": null,
       "flex_flow": null,
       "grid_area": null,
       "grid_auto_columns": null,
       "grid_auto_flow": null,
       "grid_auto_rows": null,
       "grid_column": null,
       "grid_gap": null,
       "grid_row": null,
       "grid_template_areas": null,
       "grid_template_columns": null,
       "grid_template_rows": null,
       "height": "500px",
       "justify_content": null,
       "justify_items": null,
       "left": null,
       "margin": null,
       "max_height": null,
       "max_width": null,
       "min_height": null,
       "min_width": null,
       "object_fit": null,
       "object_position": null,
       "order": null,
       "overflow": null,
       "overflow_x": null,
       "overflow_y": null,
       "padding": null,
       "right": null,
       "top": null,
       "visibility": null,
       "width": null
      }
     },
     "47a6602b7b4b46bdb0268fbdc2962b87": {
      "model_module": "@jupyter-widgets/base",
      "model_module_version": "1.2.0",
      "model_name": "LayoutModel",
      "state": {
       "_model_module": "@jupyter-widgets/base",
       "_model_module_version": "1.2.0",
       "_model_name": "LayoutModel",
       "_view_count": null,
       "_view_module": "@jupyter-widgets/base",
       "_view_module_version": "1.2.0",
       "_view_name": "LayoutView",
       "align_content": null,
       "align_items": null,
       "align_self": "stretch",
       "border": null,
       "bottom": null,
       "display": null,
       "flex": null,
       "flex_flow": null,
       "grid_area": null,
       "grid_auto_columns": null,
       "grid_auto_flow": null,
       "grid_auto_rows": null,
       "grid_column": null,
       "grid_gap": null,
       "grid_row": null,
       "grid_template_areas": null,
       "grid_template_columns": null,
       "grid_template_rows": null,
       "height": "500px",
       "justify_content": null,
       "justify_items": null,
       "left": null,
       "margin": null,
       "max_height": null,
       "max_width": null,
       "min_height": null,
       "min_width": null,
       "object_fit": null,
       "object_position": null,
       "order": null,
       "overflow": null,
       "overflow_x": null,
       "overflow_y": null,
       "padding": null,
       "right": null,
       "top": null,
       "visibility": null,
       "width": null
      }
     },
     "4fca74b8675940a39ecc3775317e2b15": {
      "model_module": "catboost-widget",
      "model_module_version": "^1.0.0",
      "model_name": "CatboostWidgetModel",
      "state": {
       "_dom_classes": [],
       "_model_module": "catboost-widget",
       "_model_module_version": "^1.0.0",
       "_model_name": "CatboostWidgetModel",
       "_view_count": null,
       "_view_module": "catboost-widget",
       "_view_module_version": "^1.0.0",
       "_view_name": "CatboostWidgetView",
       "data": {
        "catboost_info": {
         "content": {
          "data": {
           "iterations": [
            {
             "iteration": 0,
             "learn": [
              0.6663731479
             ],
             "passed_time": 0.4299594372,
             "remaining_time": 42.56598428,
             "test": [
              0.6673983864
             ]
            },
            {
             "iteration": 1,
             "learn": [
              0.6435377015
             ],
             "passed_time": 0.8501605821,
             "remaining_time": 41.65786852,
             "test": [
              0.6430948142
             ]
            },
            {
             "iteration": 2,
             "learn": [
              0.6197259143
             ],
             "passed_time": 1.270821029,
             "remaining_time": 41.08987992,
             "test": [
              0.620171213
             ]
            },
            {
             "iteration": 3,
             "learn": [
              0.5982296761
             ],
             "passed_time": 1.689170128,
             "remaining_time": 40.54008307,
             "test": [
              0.5983694473
             ]
            },
            {
             "iteration": 4,
             "learn": [
              0.5788049754
             ],
             "passed_time": 2.099825542,
             "remaining_time": 39.8966853,
             "test": [
              0.57795109
             ]
            },
            {
             "iteration": 5,
             "learn": [
              0.5587477146
             ],
             "passed_time": 2.52402144,
             "remaining_time": 39.54300257,
             "test": [
              0.5582033632
             ]
            },
            {
             "iteration": 6,
             "learn": [
              0.5398716372
             ],
             "passed_time": 2.939559966,
             "remaining_time": 39.05415383,
             "test": [
              0.5394575098
             ]
            },
            {
             "iteration": 7,
             "learn": [
              0.5233891062
             ],
             "passed_time": 3.358716293,
             "remaining_time": 38.62523737,
             "test": [
              0.5218662726
             ]
            },
            {
             "iteration": 8,
             "learn": [
              0.5061480272
             ],
             "passed_time": 3.79909464,
             "remaining_time": 38.41306802,
             "test": [
              0.5049319224
             ]
            },
            {
             "iteration": 9,
             "learn": [
              0.4901743616
             ],
             "passed_time": 4.23432231,
             "remaining_time": 38.10890079,
             "test": [
              0.4888187581
             ]
            },
            {
             "iteration": 10,
             "learn": [
              0.4753605871
             ],
             "passed_time": 4.660909995,
             "remaining_time": 37.71099905,
             "test": [
              0.4734512279
             ]
            },
            {
             "iteration": 11,
             "learn": [
              0.4614860719
             ],
             "passed_time": 5.101132752,
             "remaining_time": 37.40830685,
             "test": [
              0.4588899868
             ]
            },
            {
             "iteration": 12,
             "learn": [
              0.4474896159
             ],
             "passed_time": 5.53526743,
             "remaining_time": 37.0437128,
             "test": [
              0.4450004342
             ]
            },
            {
             "iteration": 13,
             "learn": [
              0.4340568314
             ],
             "passed_time": 5.972417916,
             "remaining_time": 36.68771005,
             "test": [
              0.4318415659
             ]
            },
            {
             "iteration": 14,
             "learn": [
              0.4212606754
             ],
             "passed_time": 6.404338385,
             "remaining_time": 36.29125085,
             "test": [
              0.4189255627
             ]
            },
            {
             "iteration": 15,
             "learn": [
              0.4088189013
             ],
             "passed_time": 6.831107137,
             "remaining_time": 35.86331247,
             "test": [
              0.4066861448
             ]
            },
            {
             "iteration": 16,
             "learn": [
              0.3968840725
             ],
             "passed_time": 7.299547317,
             "remaining_time": 35.63896631,
             "test": [
              0.3948969578
             ]
            },
            {
             "iteration": 17,
             "learn": [
              0.3854416776
             ],
             "passed_time": 7.717978266,
             "remaining_time": 35.15967877,
             "test": [
              0.3829927282
             ]
            },
            {
             "iteration": 18,
             "learn": [
              0.3739712422
             ],
             "passed_time": 8.147523266,
             "remaining_time": 34.73417813,
             "test": [
              0.3721476457
             ]
            },
            {
             "iteration": 19,
             "learn": [
              0.3641607316
             ],
             "passed_time": 8.599414713,
             "remaining_time": 34.39765885,
             "test": [
              0.3618195647
             ]
            },
            {
             "iteration": 20,
             "learn": [
              0.3535107853
             ],
             "passed_time": 9.003297277,
             "remaining_time": 33.8695469,
             "test": [
              0.3517719879
             ]
            },
            {
             "iteration": 21,
             "learn": [
              0.3445118511
             ],
             "passed_time": 9.429782125,
             "remaining_time": 33.4328639,
             "test": [
              0.3426272719
             ]
            },
            {
             "iteration": 22,
             "learn": [
              0.3352980056
             ],
             "passed_time": 9.839635241,
             "remaining_time": 32.94138755,
             "test": [
              0.3331457775
             ]
            },
            {
             "iteration": 23,
             "learn": [
              0.3262787459
             ],
             "passed_time": 10.23786056,
             "remaining_time": 32.41989178,
             "test": [
              0.3243125847
             ]
            },
            {
             "iteration": 24,
             "learn": [
              0.3172417137
             ],
             "passed_time": 10.6657126,
             "remaining_time": 31.99713779,
             "test": [
              0.3153558446
             ]
            },
            {
             "iteration": 25,
             "learn": [
              0.3091736768
             ],
             "passed_time": 11.11220422,
             "remaining_time": 31.62704277,
             "test": [
              0.3068283686
             ]
            },
            {
             "iteration": 26,
             "learn": [
              0.3012565903
             ],
             "passed_time": 11.5552096,
             "remaining_time": 31.241863,
             "test": [
              0.298879218
             ]
            },
            {
             "iteration": 27,
             "learn": [
              0.2935955555
             ],
             "passed_time": 11.9995611,
             "remaining_time": 30.85601427,
             "test": [
              0.2912437635
             ]
            },
            {
             "iteration": 28,
             "learn": [
              0.2866066815
             ],
             "passed_time": 12.43824894,
             "remaining_time": 30.45226463,
             "test": [
              0.2838957042
             ]
            },
            {
             "iteration": 29,
             "learn": [
              0.279252031
             ],
             "passed_time": 12.89802313,
             "remaining_time": 30.09538731,
             "test": [
              0.2765119507
             ]
            },
            {
             "iteration": 30,
             "learn": [
              0.2722257067
             ],
             "passed_time": 13.28384785,
             "remaining_time": 29.56727424,
             "test": [
              0.2696690124
             ]
            },
            {
             "iteration": 31,
             "learn": [
              0.2655307505
             ],
             "passed_time": 13.69246331,
             "remaining_time": 29.09648453,
             "test": [
              0.2628013074
             ]
            },
            {
             "iteration": 32,
             "learn": [
              0.2589938223
             ],
             "passed_time": 14.13273661,
             "remaining_time": 28.69373796,
             "test": [
              0.2560986065
             ]
            },
            {
             "iteration": 33,
             "learn": [
              0.2529856713
             ],
             "passed_time": 14.56469852,
             "remaining_time": 28.27265007,
             "test": [
              0.2501449215
             ]
            },
            {
             "iteration": 34,
             "learn": [
              0.2472479273
             ],
             "passed_time": 14.94703919,
             "remaining_time": 27.75878706,
             "test": [
              0.2442866603
             ]
            },
            {
             "iteration": 35,
             "learn": [
              0.2414005534
             ],
             "passed_time": 15.35601964,
             "remaining_time": 27.29959048,
             "test": [
              0.2381620523
             ]
            },
            {
             "iteration": 36,
             "learn": [
              0.2353854481
             ],
             "passed_time": 15.75486977,
             "remaining_time": 26.82585935,
             "test": [
              0.232358333
             ]
            },
            {
             "iteration": 37,
             "learn": [
              0.2295458844
             ],
             "passed_time": 16.16416435,
             "remaining_time": 26.37311026,
             "test": [
              0.2268117263
             ]
            },
            {
             "iteration": 38,
             "learn": [
              0.2242598467
             ],
             "passed_time": 16.56285533,
             "remaining_time": 25.9060045,
             "test": [
              0.2213799074
             ]
            },
            {
             "iteration": 39,
             "learn": [
              0.2192530513
             ],
             "passed_time": 16.95826636,
             "remaining_time": 25.43739954,
             "test": [
              0.2165023954
             ]
            },
            {
             "iteration": 40,
             "learn": [
              0.2143587643
             ],
             "passed_time": 17.3506898,
             "remaining_time": 24.9680658,
             "test": [
              0.2117897358
             ]
            },
            {
             "iteration": 41,
             "learn": [
              0.2096132923
             ],
             "passed_time": 17.76718011,
             "remaining_time": 24.53562968,
             "test": [
              0.2069063603
             ]
            },
            {
             "iteration": 42,
             "learn": [
              0.2050676442
             ],
             "passed_time": 18.22602372,
             "remaining_time": 24.16007795,
             "test": [
              0.2021406042
             ]
            },
            {
             "iteration": 43,
             "learn": [
              0.2006248514
             ],
             "passed_time": 18.67023053,
             "remaining_time": 23.76211158,
             "test": [
              0.197631332
             ]
            },
            {
             "iteration": 44,
             "learn": [
              0.1964649964
             ],
             "passed_time": 19.0765676,
             "remaining_time": 23.31580484,
             "test": [
              0.1933998367
             ]
            },
            {
             "iteration": 45,
             "learn": [
              0.1924405508
             ],
             "passed_time": 19.48487214,
             "remaining_time": 22.87354556,
             "test": [
              0.1893886021
             ]
            },
            {
             "iteration": 46,
             "learn": [
              0.1884577127
             ],
             "passed_time": 19.92097842,
             "remaining_time": 22.46408205,
             "test": [
              0.1854010736
             ]
            },
            {
             "iteration": 47,
             "learn": [
              0.184375887
             ],
             "passed_time": 20.33729736,
             "remaining_time": 22.03207214,
             "test": [
              0.1813462862
             ]
            },
            {
             "iteration": 48,
             "learn": [
              0.1804638041
             ],
             "passed_time": 20.73684858,
             "remaining_time": 21.58325056,
             "test": [
              0.1774048865
             ]
            },
            {
             "iteration": 49,
             "learn": [
              0.1766776683
             ],
             "passed_time": 21.1535496,
             "remaining_time": 21.1535496,
             "test": [
              0.1735882528
             ]
            },
            {
             "iteration": 50,
             "learn": [
              0.173235688
             ],
             "passed_time": 21.52930128,
             "remaining_time": 20.68501495,
             "test": [
              0.1700090554
             ]
            },
            {
             "iteration": 51,
             "learn": [
              0.1697543807
             ],
             "passed_time": 21.927776,
             "remaining_time": 20.241024,
             "test": [
              0.1665346354
             ]
            },
            {
             "iteration": 52,
             "learn": [
              0.1667190028
             ],
             "passed_time": 22.31217576,
             "remaining_time": 19.78626907,
             "test": [
              0.163209885
             ]
            },
            {
             "iteration": 53,
             "learn": [
              0.1633981526
             ],
             "passed_time": 22.71371808,
             "remaining_time": 19.34872281,
             "test": [
              0.1600120813
             ]
            },
            {
             "iteration": 54,
             "learn": [
              0.1602469929
             ],
             "passed_time": 23.1369,
             "remaining_time": 18.93019091,
             "test": [
              0.1567881383
             ]
            },
            {
             "iteration": 55,
             "learn": [
              0.157282408
             ],
             "passed_time": 23.52744126,
             "remaining_time": 18.4858467,
             "test": [
              0.1538620402
             ]
            },
            {
             "iteration": 56,
             "learn": [
              0.154258859
             ],
             "passed_time": 23.92273054,
             "remaining_time": 18.04697216,
             "test": [
              0.1508165715
             ]
            },
            {
             "iteration": 57,
             "learn": [
              0.1513252318
             ],
             "passed_time": 24.34829646,
             "remaining_time": 17.63152502,
             "test": [
              0.1478903863
             ]
            },
            {
             "iteration": 58,
             "learn": [
              0.1486858947
             ],
             "passed_time": 24.78453117,
             "remaining_time": 17.22314878,
             "test": [
              0.1450283833
             ]
            },
            {
             "iteration": 59,
             "learn": [
              0.1459482144
             ],
             "passed_time": 25.1642844,
             "remaining_time": 16.7761896,
             "test": [
              0.1424413905
             ]
            },
            {
             "iteration": 60,
             "learn": [
              0.1434005331
             ],
             "passed_time": 25.53736816,
             "remaining_time": 16.3271698,
             "test": [
              0.1399464204
             ]
            },
            {
             "iteration": 61,
             "learn": [
              0.1408935171
             ],
             "passed_time": 25.92651701,
             "remaining_time": 15.89044591,
             "test": [
              0.1374196874
             ]
            },
            {
             "iteration": 62,
             "learn": [
              0.1384257941
             ],
             "passed_time": 26.32363801,
             "remaining_time": 15.45991439,
             "test": [
              0.1350588674
             ]
            },
            {
             "iteration": 63,
             "learn": [
              0.1357553975
             ],
             "passed_time": 26.88825623,
             "remaining_time": 15.12464413,
             "test": [
              0.1324568369
             ]
            },
            {
             "iteration": 64,
             "learn": [
              0.1334201451
             ],
             "passed_time": 27.4081942,
             "remaining_time": 14.75825841,
             "test": [
              0.1301031105
             ]
            },
            {
             "iteration": 65,
             "learn": [
              0.1310490669
             ],
             "passed_time": 27.81212795,
             "remaining_time": 14.32745985,
             "test": [
              0.1278868307
             ]
            },
            {
             "iteration": 66,
             "learn": [
              0.1289715047
             ],
             "passed_time": 28.20715135,
             "remaining_time": 13.89307455,
             "test": [
              0.125841505
             ]
            },
            {
             "iteration": 67,
             "learn": [
              0.1266317724
             ],
             "passed_time": 28.655927,
             "remaining_time": 13.48514212,
             "test": [
              0.1235586316
             ]
            },
            {
             "iteration": 68,
             "learn": [
              0.1246172688
             ],
             "passed_time": 29.15224147,
             "remaining_time": 13.09738385,
             "test": [
              0.1213193081
             ]
            },
            {
             "iteration": 69,
             "learn": [
              0.1225422275
             ],
             "passed_time": 29.56529878,
             "remaining_time": 12.67084233,
             "test": [
              0.1194142174
             ]
            },
            {
             "iteration": 70,
             "learn": [
              0.1206924021
             ],
             "passed_time": 29.9619854,
             "remaining_time": 12.23799404,
             "test": [
              0.1175921722
             ]
            },
            {
             "iteration": 71,
             "learn": [
              0.1187272592
             ],
             "passed_time": 30.29521783,
             "remaining_time": 11.7814736,
             "test": [
              0.1157632246
             ]
            },
            {
             "iteration": 72,
             "learn": [
              0.1169822665
             ],
             "passed_time": 30.69231052,
             "remaining_time": 11.35195047,
             "test": [
              0.1139341269
             ]
            },
            {
             "iteration": 73,
             "learn": [
              0.1151885954
             ],
             "passed_time": 31.08150759,
             "remaining_time": 10.92052969,
             "test": [
              0.1121642965
             ]
            },
            {
             "iteration": 74,
             "learn": [
              0.1133952216
             ],
             "passed_time": 31.4566026,
             "remaining_time": 10.4855342,
             "test": [
              0.1105203524
             ]
            },
            {
             "iteration": 75,
             "learn": [
              0.1116014236
             ],
             "passed_time": 31.92836658,
             "remaining_time": 10.08264208,
             "test": [
              0.1086889325
             ]
            },
            {
             "iteration": 76,
             "learn": [
              0.1100108268
             ],
             "passed_time": 32.34551777,
             "remaining_time": 9.661648166,
             "test": [
              0.1071463136
             ]
            },
            {
             "iteration": 77,
             "learn": [
              0.1084008935
             ],
             "passed_time": 32.72517449,
             "remaining_time": 9.230177419,
             "test": [
              0.1056702769
             ]
            },
            {
             "iteration": 78,
             "learn": [
              0.1064762174
             ],
             "passed_time": 33.15356681,
             "remaining_time": 8.812973457,
             "test": [
              0.1038992138
             ]
            },
            {
             "iteration": 79,
             "learn": [
              0.1048657507
             ],
             "passed_time": 33.56107175,
             "remaining_time": 8.390267937,
             "test": [
              0.1024224135
             ]
            },
            {
             "iteration": 80,
             "learn": [
              0.1033313819
             ],
             "passed_time": 33.92052968,
             "remaining_time": 7.956667456,
             "test": [
              0.1009876381
             ]
            },
            {
             "iteration": 81,
             "learn": [
              0.1017202428
             ],
             "passed_time": 34.29361065,
             "remaining_time": 7.527865752,
             "test": [
              0.09954875313
             ]
            },
            {
             "iteration": 82,
             "learn": [
              0.100262802
             ],
             "passed_time": 34.7029746,
             "remaining_time": 7.107838171,
             "test": [
              0.09818948252
             ]
            },
            {
             "iteration": 83,
             "learn": [
              0.09883049039
             ],
             "passed_time": 35.05735394,
             "remaining_time": 6.677591226,
             "test": [
              0.09686396791
             ]
            },
            {
             "iteration": 84,
             "learn": [
              0.09728951051
             ],
             "passed_time": 35.44712132,
             "remaining_time": 6.25537435,
             "test": [
              0.09545337134
             ]
            },
            {
             "iteration": 85,
             "learn": [
              0.09594037419
             ],
             "passed_time": 35.86134715,
             "remaining_time": 5.837893722,
             "test": [
              0.09415413548
             ]
            },
            {
             "iteration": 86,
             "learn": [
              0.09467159571
             ],
             "passed_time": 36.20094866,
             "remaining_time": 5.409337156,
             "test": [
              0.09292431507
             ]
            },
            {
             "iteration": 87,
             "learn": [
              0.09327667573
             ],
             "passed_time": 36.57414215,
             "remaining_time": 4.987383021,
             "test": [
              0.0917662085
             ]
            },
            {
             "iteration": 88,
             "learn": [
              0.0918660894
             ],
             "passed_time": 36.97083593,
             "remaining_time": 4.56942916,
             "test": [
              0.09027433892
             ]
            },
            {
             "iteration": 89,
             "learn": [
              0.09055290325
             ],
             "passed_time": 37.39548638,
             "remaining_time": 4.155054042,
             "test": [
              0.08910497657
             ]
            },
            {
             "iteration": 90,
             "learn": [
              0.08932172396
             ],
             "passed_time": 37.79779065,
             "remaining_time": 3.738243031,
             "test": [
              0.08808563957
             ]
            },
            {
             "iteration": 91,
             "learn": [
              0.08834019428
             ],
             "passed_time": 38.18746673,
             "remaining_time": 3.32064928,
             "test": [
              0.08703331676
             ]
            },
            {
             "iteration": 92,
             "learn": [
              0.08726352719
             ],
             "passed_time": 38.56930566,
             "remaining_time": 2.903066018,
             "test": [
              0.08594154525
             ]
            },
            {
             "iteration": 93,
             "learn": [
              0.08618404206
             ],
             "passed_time": 38.85193386,
             "remaining_time": 2.479910672,
             "test": [
              0.0840766186
             ]
            },
            {
             "iteration": 94,
             "learn": [
              0.08530335872
             ],
             "passed_time": 39.24471572,
             "remaining_time": 2.065511354,
             "test": [
              0.08314192869
             ]
            },
            {
             "iteration": 95,
             "learn": [
              0.08403553125
             ],
             "passed_time": 39.67079882,
             "remaining_time": 1.652949951,
             "test": [
              0.08206132376
             ]
            },
            {
             "iteration": 96,
             "learn": [
              0.08288775182
             ],
             "passed_time": 40.16257216,
             "remaining_time": 1.242141407,
             "test": [
              0.08094510136
             ]
            },
            {
             "iteration": 97,
             "learn": [
              0.08170151814
             ],
             "passed_time": 40.59242837,
             "remaining_time": 0.8284169055,
             "test": [
              0.07987353615
             ]
            },
            {
             "iteration": 98,
             "learn": [
              0.08077083974
             ],
             "passed_time": 40.85656703,
             "remaining_time": 0.4126925962,
             "test": [
              0.07855007564
             ]
            },
            {
             "iteration": 99,
             "learn": [
              0.07972783798
             ],
             "passed_time": 41.28377342,
             "remaining_time": 0,
             "test": [
              0.07767384475
             ]
            }
           ],
           "meta": {
            "iteration_count": 100,
            "launch_mode": "Train",
            "learn_metrics": [
             {
              "best_value": "Min",
              "name": "CrossEntropy"
             }
            ],
            "learn_sets": [
             "learn"
            ],
            "name": "experiment",
            "parameters": "",
            "test_metrics": [
             {
              "best_value": "Min",
              "name": "CrossEntropy"
             }
            ],
            "test_sets": [
             "test"
            ]
           }
          },
          "passed_iterations": 99,
          "total_iterations": 100
         },
         "name": "catboost_info",
         "path": "catboost_info"
        }
       },
       "layout": "IPY_MODEL_3c839c36e119427d8a38a678939e1575"
      }
     },
     "532c5f5b369142c1ab8597829afeadae": {
      "model_module": "catboost-widget",
      "model_module_version": "^1.0.0",
      "model_name": "CatboostWidgetModel",
      "state": {
       "_dom_classes": [],
       "_model_module": "catboost-widget",
       "_model_module_version": "^1.0.0",
       "_model_name": "CatboostWidgetModel",
       "_view_count": null,
       "_view_module": "catboost-widget",
       "_view_module_version": "^1.0.0",
       "_view_name": "CatboostWidgetView",
       "data": {
        "catboost_info": {
         "content": {
          "data": {
           "iterations": [
            {
             "iteration": 0,
             "learn": [
              0.6627797549
             ],
             "passed_time": 0.3841812806,
             "remaining_time": 38.03394678,
             "test": [
              0.6642051096
             ]
            },
            {
             "iteration": 1,
             "learn": [
              0.6375124164
             ],
             "passed_time": 0.7561985632,
             "remaining_time": 37.0537296,
             "test": [
              0.6369104376
             ]
            },
            {
             "iteration": 2,
             "learn": [
              0.6111082741
             ],
             "passed_time": 1.18024744,
             "remaining_time": 38.1613339,
             "test": [
              0.6111086595
             ]
            },
            {
             "iteration": 3,
             "learn": [
              0.5871047432
             ],
             "passed_time": 1.520716232,
             "remaining_time": 36.49718956,
             "test": [
              0.5870737143
             ]
            },
            {
             "iteration": 4,
             "learn": [
              0.5649760768
             ],
             "passed_time": 1.903145524,
             "remaining_time": 36.15976496,
             "test": [
              0.5639304105
             ]
            },
            {
             "iteration": 5,
             "learn": [
              0.5422444492
             ],
             "passed_time": 2.284591831,
             "remaining_time": 35.79193869,
             "test": [
              0.5420457407
             ]
            },
            {
             "iteration": 6,
             "learn": [
              0.5211563954
             ],
             "passed_time": 2.669985508,
             "remaining_time": 35.47266461,
             "test": [
              0.5212311183
             ]
            },
            {
             "iteration": 7,
             "learn": [
              0.5029243844
             ],
             "passed_time": 3.0431129,
             "remaining_time": 34.99579835,
             "test": [
              0.5015343849
             ]
            },
            {
             "iteration": 8,
             "learn": [
              0.4837408593
             ],
             "passed_time": 3.42784434,
             "remaining_time": 34.65931499,
             "test": [
              0.4827681196
             ]
            },
            {
             "iteration": 9,
             "learn": [
              0.4656822977
             ],
             "passed_time": 3.798949278,
             "remaining_time": 34.1905435,
             "test": [
              0.46486067
             ]
            },
            {
             "iteration": 10,
             "learn": [
              0.4493060816
             ],
             "passed_time": 4.187912842,
             "remaining_time": 33.88402209,
             "test": [
              0.4476656208
             ]
            },
            {
             "iteration": 11,
             "learn": [
              0.4334102759
             ],
             "passed_time": 4.556599067,
             "remaining_time": 33.41505982,
             "test": [
              0.4315270794
             ]
            },
            {
             "iteration": 12,
             "learn": [
              0.4179610044
             ],
             "passed_time": 4.982106888,
             "remaining_time": 33.34179225,
             "test": [
              0.4160874281
             ]
            },
            {
             "iteration": 13,
             "learn": [
              0.4030180289
             ],
             "passed_time": 5.325597057,
             "remaining_time": 32.71438192,
             "test": [
              0.4014404233
             ]
            },
            {
             "iteration": 14,
             "learn": [
              0.3887559731
             ],
             "passed_time": 5.723857123,
             "remaining_time": 32.43519036,
             "test": [
              0.3871570766
             ]
            },
            {
             "iteration": 15,
             "learn": [
              0.37461668
             ],
             "passed_time": 6.134377504,
             "remaining_time": 32.2054819,
             "test": [
              0.3736815436
             ]
            },
            {
             "iteration": 16,
             "learn": [
              0.3619890109
             ],
             "passed_time": 6.526975288,
             "remaining_time": 31.86699699,
             "test": [
              0.360555604
             ]
            },
            {
             "iteration": 17,
             "learn": [
              0.3500921397
             ],
             "passed_time": 6.915890128,
             "remaining_time": 31.5057217,
             "test": [
              0.3481082935
             ]
            },
            {
             "iteration": 18,
             "learn": [
              0.337974578
             ],
             "passed_time": 7.350854011,
             "remaining_time": 31.33785131,
             "test": [
              0.3362300473
             ]
            },
            {
             "iteration": 19,
             "learn": [
              0.327111839
             ],
             "passed_time": 7.72235046,
             "remaining_time": 30.88940184,
             "test": [
              0.3249901971
             ]
            },
            {
             "iteration": 20,
             "learn": [
              0.3157233404
             ],
             "passed_time": 8.119596395,
             "remaining_time": 30.54514834,
             "test": [
              0.313890015
             ]
            },
            {
             "iteration": 21,
             "learn": [
              0.3048133331
             ],
             "passed_time": 8.577147954,
             "remaining_time": 30.4098882,
             "test": [
              0.3032286185
             ]
            },
            {
             "iteration": 22,
             "learn": [
              0.2952579631
             ],
             "passed_time": 9.1114153,
             "remaining_time": 30.50343383,
             "test": [
              0.293286849
             ]
            },
            {
             "iteration": 23,
             "learn": [
              0.2855108894
             ],
             "passed_time": 9.574474561,
             "remaining_time": 30.31916944,
             "test": [
              0.2836533112
             ]
            },
            {
             "iteration": 24,
             "learn": [
              0.2762331924
             ],
             "passed_time": 9.944057043,
             "remaining_time": 29.83217113,
             "test": [
              0.2744832402
             ]
            },
            {
             "iteration": 25,
             "learn": [
              0.2670893439
             ],
             "passed_time": 10.32071367,
             "remaining_time": 29.3743389,
             "test": [
              0.2654705347
             ]
            },
            {
             "iteration": 26,
             "learn": [
              0.2588013029
             ],
             "passed_time": 10.69144688,
             "remaining_time": 28.90650453,
             "test": [
              0.2568208008
             ]
            },
            {
             "iteration": 27,
             "learn": [
              0.2507473983
             ],
             "passed_time": 11.10148731,
             "remaining_time": 28.54668167,
             "test": [
              0.2485954452
             ]
            },
            {
             "iteration": 28,
             "learn": [
              0.2427377989
             ],
             "passed_time": 11.51168658,
             "remaining_time": 28.18378438,
             "test": [
              0.2405020196
             ]
            },
            {
             "iteration": 29,
             "learn": [
              0.2351050625
             ],
             "passed_time": 11.88937148,
             "remaining_time": 27.74186679,
             "test": [
              0.2328339389
             ]
            },
            {
             "iteration": 30,
             "learn": [
              0.2276913611
             ],
             "passed_time": 12.25153371,
             "remaining_time": 27.26954278,
             "test": [
              0.225438712
             ]
            },
            {
             "iteration": 31,
             "learn": [
              0.22041024
             ],
             "passed_time": 12.64121623,
             "remaining_time": 26.86258448,
             "test": [
              0.2183353011
             ]
            },
            {
             "iteration": 32,
             "learn": [
              0.2133225283
             ],
             "passed_time": 13.0319732,
             "remaining_time": 26.45885468,
             "test": [
              0.2113219286
             ]
            },
            {
             "iteration": 33,
             "learn": [
              0.2066102143
             ],
             "passed_time": 13.41949511,
             "remaining_time": 26.04960815,
             "test": [
              0.204527793
             ]
            },
            {
             "iteration": 34,
             "learn": [
              0.2006574119
             ],
             "passed_time": 13.80589224,
             "remaining_time": 25.63951416,
             "test": [
              0.1982416363
             ]
            },
            {
             "iteration": 35,
             "learn": [
              0.1942116184
             ],
             "passed_time": 14.15922168,
             "remaining_time": 25.17194965,
             "test": [
              0.1920741609
             ]
            },
            {
             "iteration": 36,
             "learn": [
              0.1886198022
             ],
             "passed_time": 14.53981062,
             "remaining_time": 24.75697483,
             "test": [
              0.186114343
             ]
            },
            {
             "iteration": 37,
             "learn": [
              0.1825178205
             ],
             "passed_time": 14.94264243,
             "remaining_time": 24.38010081,
             "test": [
              0.1802643376
             ]
            },
            {
             "iteration": 38,
             "learn": [
              0.177346749
             ],
             "passed_time": 15.29317603,
             "remaining_time": 23.92009584,
             "test": [
              0.1747843718
             ]
            },
            {
             "iteration": 39,
             "learn": [
              0.1716987205
             ],
             "passed_time": 15.71178951,
             "remaining_time": 23.56768427,
             "test": [
              0.1693967807
             ]
            },
            {
             "iteration": 40,
             "learn": [
              0.1665964754
             ],
             "passed_time": 16.0805096,
             "remaining_time": 23.14024553,
             "test": [
              0.1643506256
             ]
            },
            {
             "iteration": 41,
             "learn": [
              0.161946797
             ],
             "passed_time": 16.46365167,
             "remaining_time": 22.73551897,
             "test": [
              0.1593957733
             ]
            },
            {
             "iteration": 42,
             "learn": [
              0.1570832456
             ],
             "passed_time": 16.8297312,
             "remaining_time": 22.30917857,
             "test": [
              0.1545781862
             ]
            },
            {
             "iteration": 43,
             "learn": [
              0.1523558296
             ],
             "passed_time": 17.21435277,
             "remaining_time": 21.90917626,
             "test": [
              0.1499237636
             ]
            },
            {
             "iteration": 44,
             "learn": [
              0.1478978425
             ],
             "passed_time": 17.59537864,
             "remaining_time": 21.50546278,
             "test": [
              0.1455216733
             ]
            },
            {
             "iteration": 45,
             "learn": [
              0.1436090946
             ],
             "passed_time": 17.99398753,
             "remaining_time": 21.12337666,
             "test": [
              0.1412547494
             ]
            },
            {
             "iteration": 46,
             "learn": [
              0.1395091887
             ],
             "passed_time": 18.38961157,
             "remaining_time": 20.73722155,
             "test": [
              0.1370784681
             ]
            },
            {
             "iteration": 47,
             "learn": [
              0.135500009
             ],
             "passed_time": 18.78929115,
             "remaining_time": 20.35506541,
             "test": [
              0.1330070113
             ]
            },
            {
             "iteration": 48,
             "learn": [
              0.131629679
             ],
             "passed_time": 19.16220644,
             "remaining_time": 19.94433732,
             "test": [
              0.1291746395
             ]
            },
            {
             "iteration": 49,
             "learn": [
              0.127815762
             ],
             "passed_time": 19.57316781,
             "remaining_time": 19.57316781,
             "test": [
              0.125361433
             ]
            },
            {
             "iteration": 50,
             "learn": [
              0.1240153166
             ],
             "passed_time": 19.93648823,
             "remaining_time": 19.15466516,
             "test": [
              0.1215544126
             ]
            },
            {
             "iteration": 51,
             "learn": [
              0.1205232591
             ],
             "passed_time": 20.30757476,
             "remaining_time": 18.74545363,
             "test": [
              0.1180558746
             ]
            },
            {
             "iteration": 52,
             "learn": [
              0.1171328036
             ],
             "passed_time": 20.67889413,
             "remaining_time": 18.33788725,
             "test": [
              0.1146283566
             ]
            },
            {
             "iteration": 53,
             "learn": [
              0.113951759
             ],
             "passed_time": 21.00745523,
             "remaining_time": 17.89523964,
             "test": [
              0.1113681212
             ]
            },
            {
             "iteration": 54,
             "learn": [
              0.1106514417
             ],
             "passed_time": 21.38361604,
             "remaining_time": 17.49568585,
             "test": [
              0.1081389025
             ]
            },
            {
             "iteration": 55,
             "learn": [
              0.1076955994
             ],
             "passed_time": 21.77419841,
             "remaining_time": 17.10829875,
             "test": [
              0.1050340829
             ]
            },
            {
             "iteration": 56,
             "learn": [
              0.1045510367
             ],
             "passed_time": 22.1533182,
             "remaining_time": 16.71215233,
             "test": [
              0.1020098712
             ]
            },
            {
             "iteration": 57,
             "learn": [
              0.1016654637
             ],
             "passed_time": 22.55362214,
             "remaining_time": 16.33193327,
             "test": [
              0.09900890913
             ]
            },
            {
             "iteration": 58,
             "learn": [
              0.0987474605
             ],
             "passed_time": 22.89195824,
             "remaining_time": 15.90797098,
             "test": [
              0.09620332383
             ]
            },
            {
             "iteration": 59,
             "learn": [
              0.09617317012
             ],
             "passed_time": 23.24594754,
             "remaining_time": 15.49729836,
             "test": [
              0.09352801411
             ]
            },
            {
             "iteration": 60,
             "learn": [
              0.0934647372
             ],
             "passed_time": 23.5869585,
             "remaining_time": 15.08018658,
             "test": [
              0.09093368716
             ]
            },
            {
             "iteration": 61,
             "learn": [
              0.09098865808
             ],
             "passed_time": 23.9814343,
             "remaining_time": 14.69829844,
             "test": [
              0.08843299295
             ]
            },
            {
             "iteration": 62,
             "learn": [
              0.08859184929
             ],
             "passed_time": 24.37229612,
             "remaining_time": 14.3138882,
             "test": [
              0.08594644735
             ]
            },
            {
             "iteration": 63,
             "learn": [
              0.0862304166
             ],
             "passed_time": 24.73600631,
             "remaining_time": 13.91400355,
             "test": [
              0.08353822389
             ]
            },
            {
             "iteration": 64,
             "learn": [
              0.08373637426
             ],
             "passed_time": 25.10009167,
             "remaining_time": 13.51543398,
             "test": [
              0.08109774384
             ]
            },
            {
             "iteration": 65,
             "learn": [
              0.0813937181
             ],
             "passed_time": 25.50615626,
             "remaining_time": 13.13953504,
             "test": [
              0.07877731314
             ]
            },
            {
             "iteration": 66,
             "learn": [
              0.0792931827
             ],
             "passed_time": 25.86132402,
             "remaining_time": 12.73766705,
             "test": [
              0.07664068451
             ]
            },
            {
             "iteration": 67,
             "learn": [
              0.07721018161
             ],
             "passed_time": 26.26062035,
             "remaining_time": 12.35793899,
             "test": [
              0.07453545596
             ]
            },
            {
             "iteration": 68,
             "learn": [
              0.07522322968
             ],
             "passed_time": 26.66021302,
             "remaining_time": 11.97777686,
             "test": [
              0.07253704239
             ]
            },
            {
             "iteration": 69,
             "learn": [
              0.07328934765
             ],
             "passed_time": 27.02981404,
             "remaining_time": 11.58420602,
             "test": [
              0.0706003242
             ]
            },
            {
             "iteration": 70,
             "learn": [
              0.07128381817
             ],
             "passed_time": 27.40511083,
             "remaining_time": 11.19363682,
             "test": [
              0.06859724546
             ]
            },
            {
             "iteration": 71,
             "learn": [
              0.06941356974
             ],
             "passed_time": 27.80358741,
             "remaining_time": 10.81250622,
             "test": [
              0.06669702498
             ]
            },
            {
             "iteration": 72,
             "learn": [
              0.06755246888
             ],
             "passed_time": 28.17086026,
             "remaining_time": 10.41935927,
             "test": [
              0.06485313346
             ]
            },
            {
             "iteration": 73,
             "learn": [
              0.06580046161
             ],
             "passed_time": 28.56904359,
             "remaining_time": 10.03777207,
             "test": [
              0.06306273307
             ]
            },
            {
             "iteration": 74,
             "learn": [
              0.06407740516
             ],
             "passed_time": 28.93226434,
             "remaining_time": 9.644088114,
             "test": [
              0.06135412207
             ]
            },
            {
             "iteration": 75,
             "learn": [
              0.0624517813
             ],
             "passed_time": 29.33896491,
             "remaining_time": 9.264936286,
             "test": [
              0.05975710195
             ]
            },
            {
             "iteration": 76,
             "learn": [
              0.0608094345
             ],
             "passed_time": 29.69918614,
             "remaining_time": 8.871185472,
             "test": [
              0.05805707907
             ]
            },
            {
             "iteration": 77,
             "learn": [
              0.05923243889
             ],
             "passed_time": 30.06679242,
             "remaining_time": 8.480377348,
             "test": [
              0.05646944778
             ]
            },
            {
             "iteration": 78,
             "learn": [
              0.0576840154
             ],
             "passed_time": 30.4537483,
             "remaining_time": 8.095300182,
             "test": [
              0.05495370426
             ]
            },
            {
             "iteration": 79,
             "learn": [
              0.05627954669
             ],
             "passed_time": 30.83609812,
             "remaining_time": 7.709024529,
             "test": [
              0.05352057916
             ]
            },
            {
             "iteration": 80,
             "learn": [
              0.05489927912
             ],
             "passed_time": 31.17893046,
             "remaining_time": 7.313576281,
             "test": [
              0.05212051788
             ]
            },
            {
             "iteration": 81,
             "learn": [
              0.0534655523
             ],
             "passed_time": 31.54103808,
             "remaining_time": 6.923642505,
             "test": [
              0.05074197645
             ]
            },
            {
             "iteration": 82,
             "learn": [
              0.05219307892
             ],
             "passed_time": 31.92363856,
             "remaining_time": 6.538576572,
             "test": [
              0.04942704771
             ]
            },
            {
             "iteration": 83,
             "learn": [
              0.05089311027
             ],
             "passed_time": 32.30569665,
             "remaining_time": 6.153466028,
             "test": [
              0.04808834916
             ]
            },
            {
             "iteration": 84,
             "learn": [
              0.04957471345
             ],
             "passed_time": 32.66427018,
             "remaining_time": 5.764282974,
             "test": [
              0.04683073217
             ]
            },
            {
             "iteration": 85,
             "learn": [
              0.04840314558
             ],
             "passed_time": 33.01692425,
             "remaining_time": 5.374848134,
             "test": [
              0.04567362968
             ]
            },
            {
             "iteration": 86,
             "learn": [
              0.04726950602
             ],
             "passed_time": 33.40172285,
             "remaining_time": 4.991062036,
             "test": [
              0.04451736585
             ]
            },
            {
             "iteration": 87,
             "learn": [
              0.04610847957
             ],
             "passed_time": 33.78833971,
             "remaining_time": 4.607500869,
             "test": [
              0.04333254208
             ]
            },
            {
             "iteration": 88,
             "learn": [
              0.0450326192
             ],
             "passed_time": 34.16268973,
             "remaining_time": 4.222354911,
             "test": [
              0.04222715267
             ]
            },
            {
             "iteration": 89,
             "learn": [
              0.04391570983
             ],
             "passed_time": 34.54386655,
             "remaining_time": 3.838207395,
             "test": [
              0.04110081491
             ]
            },
            {
             "iteration": 90,
             "learn": [
              0.04286677608
             ],
             "passed_time": 34.86642095,
             "remaining_time": 3.448327346,
             "test": [
              0.04005893252
             ]
            },
            {
             "iteration": 91,
             "learn": [
              0.04188523904
             ],
             "passed_time": 35.25030389,
             "remaining_time": 3.065243817,
             "test": [
              0.03908177833
             ]
            },
            {
             "iteration": 92,
             "learn": [
              0.04090004483
             ],
             "passed_time": 35.62193635,
             "remaining_time": 2.681221015,
             "test": [
              0.03808434029
             ]
            },
            {
             "iteration": 93,
             "learn": [
              0.03998641281
             ],
             "passed_time": 35.98593693,
             "remaining_time": 2.296974698,
             "test": [
              0.03717723115
             ]
            },
            {
             "iteration": 94,
             "learn": [
              0.03902424026
             ],
             "passed_time": 36.34504593,
             "remaining_time": 1.912897154,
             "test": [
              0.036242492
             ]
            },
            {
             "iteration": 95,
             "learn": [
              0.03817517088
             ],
             "passed_time": 36.73780319,
             "remaining_time": 1.530741799,
             "test": [
              0.03539140672
             ]
            },
            {
             "iteration": 96,
             "learn": [
              0.03720949164
             ],
             "passed_time": 37.13448132,
             "remaining_time": 1.148489113,
             "test": [
              0.03441759995
             ]
            },
            {
             "iteration": 97,
             "learn": [
              0.0363925052
             ],
             "passed_time": 37.49932614,
             "remaining_time": 0.7652923703,
             "test": [
              0.03357180413
             ]
            },
            {
             "iteration": 98,
             "learn": [
              0.03557337591
             ],
             "passed_time": 37.88317871,
             "remaining_time": 0.3826583708,
             "test": [
              0.03273050553
             ]
            },
            {
             "iteration": 99,
             "learn": [
              0.03480261022
             ],
             "passed_time": 38.2326331,
             "remaining_time": 0,
             "test": [
              0.03197366087
             ]
            }
           ],
           "meta": {
            "iteration_count": 100,
            "launch_mode": "Train",
            "learn_metrics": [
             {
              "best_value": "Min",
              "name": "CrossEntropy"
             }
            ],
            "learn_sets": [
             "learn"
            ],
            "name": "experiment",
            "parameters": "",
            "test_metrics": [
             {
              "best_value": "Min",
              "name": "CrossEntropy"
             }
            ],
            "test_sets": [
             "test"
            ]
           }
          },
          "passed_iterations": 99,
          "total_iterations": 100
         },
         "name": "catboost_info",
         "path": "catboost_info"
        }
       },
       "layout": "IPY_MODEL_71d5cd4ce9664d15b5d5a6788439dfa6"
      }
     },
     "552faeccf1104e778c624c7df201ab1c": {
      "model_module": "catboost-widget",
      "model_module_version": "^1.0.0",
      "model_name": "CatboostWidgetModel",
      "state": {
       "_dom_classes": [],
       "_model_module": "catboost-widget",
       "_model_module_version": "^1.0.0",
       "_model_name": "CatboostWidgetModel",
       "_view_count": null,
       "_view_module": "catboost-widget",
       "_view_module_version": "^1.0.0",
       "_view_name": "CatboostWidgetView",
       "data": {
        "catboost_info": {
         "content": {
          "data": {
           "iterations": [
            {
             "iteration": 0,
             "learn": [
              0.6614268133
             ],
             "passed_time": 0.3477990722,
             "remaining_time": 34.43210815,
             "test": [
              0.6636071819
             ]
            },
            {
             "iteration": 1,
             "learn": [
              0.6363268248
             ],
             "passed_time": 0.6632214689,
             "remaining_time": 32.49785197,
             "test": [
              0.635787201
             ]
            },
            {
             "iteration": 2,
             "learn": [
              0.6094049398
             ],
             "passed_time": 1.067840709,
             "remaining_time": 34.52684958,
             "test": [
              0.6095392679
             ]
            },
            {
             "iteration": 3,
             "learn": [
              0.5837557725
             ],
             "passed_time": 1.36862961,
             "remaining_time": 32.84711064,
             "test": [
              0.5847390968
             ]
            },
            {
             "iteration": 4,
             "learn": [
              0.562238151
             ],
             "passed_time": 1.719239786,
             "remaining_time": 32.66555594,
             "test": [
              0.5612709325
             ]
            },
            {
             "iteration": 5,
             "learn": [
              0.5377746163
             ],
             "passed_time": 2.058529397,
             "remaining_time": 32.25029389,
             "test": [
              0.5390317908
             ]
            },
            {
             "iteration": 6,
             "learn": [
              0.5169528136
             ],
             "passed_time": 2.455292113,
             "remaining_time": 32.6203095,
             "test": [
              0.5179317202
             ]
            },
            {
             "iteration": 7,
             "learn": [
              0.4987660013
             ],
             "passed_time": 2.74428558,
             "remaining_time": 31.55928417,
             "test": [
              0.4978883484
             ]
            },
            {
             "iteration": 8,
             "learn": [
              0.4786133106
             ],
             "passed_time": 3.103428804,
             "remaining_time": 31.37911347,
             "test": [
              0.4788288533
             ]
            },
            {
             "iteration": 9,
             "learn": [
              0.4606696979
             ],
             "passed_time": 3.504307998,
             "remaining_time": 31.53877199,
             "test": [
              0.4606871289
             ]
            },
            {
             "iteration": 10,
             "learn": [
              0.4441492372
             ],
             "passed_time": 3.839736259,
             "remaining_time": 31.066957,
             "test": [
              0.4434034075
             ]
            },
            {
             "iteration": 11,
             "learn": [
              0.4281600307
             ],
             "passed_time": 4.237723179,
             "remaining_time": 31.07663665,
             "test": [
              0.4269225908
             ]
            },
            {
             "iteration": 12,
             "learn": [
              0.4123620948
             ],
             "passed_time": 4.599689556,
             "remaining_time": 30.7825378,
             "test": [
              0.4111922478
             ]
            },
            {
             "iteration": 13,
             "learn": [
              0.3969103135
             ],
             "passed_time": 4.905403033,
             "remaining_time": 30.13319006,
             "test": [
              0.3961701671
             ]
            },
            {
             "iteration": 14,
             "learn": [
              0.3826020666
             ],
             "passed_time": 5.253123076,
             "remaining_time": 29.76769743,
             "test": [
              0.3818136186
             ]
            },
            {
             "iteration": 15,
             "learn": [
              0.367489481
             ],
             "passed_time": 5.578039459,
             "remaining_time": 29.28470716,
             "test": [
              0.3680821669
             ]
            },
            {
             "iteration": 16,
             "learn": [
              0.3541164193
             ],
             "passed_time": 5.972437134,
             "remaining_time": 29.15954601,
             "test": [
              0.3549432495
             ]
            },
            {
             "iteration": 17,
             "learn": [
              0.3433560242
             ],
             "passed_time": 6.300401021,
             "remaining_time": 28.70182687,
             "test": [
              0.3423586896
             ]
            },
            {
             "iteration": 18,
             "learn": [
              0.3302507718
             ],
             "passed_time": 6.642327197,
             "remaining_time": 28.31728963,
             "test": [
              0.3303013092
             ]
            },
            {
             "iteration": 19,
             "learn": [
              0.3198365972
             ],
             "passed_time": 6.959017473,
             "remaining_time": 27.83606989,
             "test": [
              0.3187417936
             ]
            },
            {
             "iteration": 20,
             "learn": [
              0.3072455393
             ],
             "passed_time": 7.369278318,
             "remaining_time": 27.7225232,
             "test": [
              0.3076559939
             ]
            },
            {
             "iteration": 21,
             "learn": [
              0.297061184
             ],
             "passed_time": 7.752855805,
             "remaining_time": 27.48739785,
             "test": [
              0.297019744
             ]
            },
            {
             "iteration": 22,
             "learn": [
              0.2870361354
             ],
             "passed_time": 8.122613624,
             "remaining_time": 27.19309778,
             "test": [
              0.2868068886
             ]
            },
            {
             "iteration": 23,
             "learn": [
              0.2767419313
             ],
             "passed_time": 8.527509618,
             "remaining_time": 27.00378046,
             "test": [
              0.2769978657
             ]
            },
            {
             "iteration": 24,
             "learn": [
              0.267043533
             ],
             "passed_time": 8.820799911,
             "remaining_time": 26.46239973,
             "test": [
              0.2675723822
             ]
            },
            {
             "iteration": 25,
             "learn": [
              0.2582000353
             ],
             "passed_time": 9.15639426,
             "remaining_time": 26.06050674,
             "test": [
              0.2585100783
             ]
            },
            {
             "iteration": 26,
             "learn": [
              0.2501831609
             ],
             "passed_time": 9.546501259,
             "remaining_time": 25.81091081,
             "test": [
              0.2498017335
             ]
            },
            {
             "iteration": 27,
             "learn": [
              0.2421971005
             ],
             "passed_time": 9.934608472,
             "remaining_time": 25.54613607,
             "test": [
              0.2414220043
             ]
            },
            {
             "iteration": 28,
             "learn": [
              0.2339293724
             ],
             "passed_time": 10.2736538,
             "remaining_time": 25.15273862,
             "test": [
              0.2333591202
             ]
            },
            {
             "iteration": 29,
             "learn": [
              0.2261343001
             ],
             "passed_time": 10.6432429,
             "remaining_time": 24.83423344,
             "test": [
              0.2255974546
             ]
            },
            {
             "iteration": 30,
             "learn": [
              0.2187709397
             ],
             "passed_time": 11.05002876,
             "remaining_time": 24.5952253,
             "test": [
              0.2181258031
             ]
            },
            {
             "iteration": 31,
             "learn": [
              0.2111720436
             ],
             "passed_time": 11.42261865,
             "remaining_time": 24.27306463,
             "test": [
              0.2109280569
             ]
            },
            {
             "iteration": 32,
             "learn": [
              0.2036417575
             ],
             "passed_time": 11.7638476,
             "remaining_time": 23.88417544,
             "test": [
              0.2039940549
             ]
            },
            {
             "iteration": 33,
             "learn": [
              0.1971799392
             ],
             "passed_time": 12.18607128,
             "remaining_time": 23.65531484,
             "test": [
              0.197313161
             ]
            },
            {
             "iteration": 34,
             "learn": [
              0.1914438551
             ],
             "passed_time": 12.59063703,
             "remaining_time": 23.38261162,
             "test": [
              0.1908738847
             ]
            },
            {
             "iteration": 35,
             "learn": [
              0.1843467795
             ],
             "passed_time": 12.93205002,
             "remaining_time": 22.99031115,
             "test": [
              0.1846653418
             ]
            },
            {
             "iteration": 36,
             "learn": [
              0.1791267856
             ],
             "passed_time": 13.30017113,
             "remaining_time": 22.64623732,
             "test": [
              0.1786779376
             ]
            },
            {
             "iteration": 37,
             "learn": [
              0.1726093204
             ],
             "passed_time": 13.66986505,
             "remaining_time": 22.30346403,
             "test": [
              0.1728999911
             ]
            },
            {
             "iteration": 38,
             "learn": [
              0.1679500471
             ],
             "passed_time": 14.04139057,
             "remaining_time": 21.96217499,
             "test": [
              0.1673269766
             ]
            },
            {
             "iteration": 39,
             "learn": [
              0.161813644
             ],
             "passed_time": 14.41967991,
             "remaining_time": 21.62951986,
             "test": [
              0.1619488013
             ]
            },
            {
             "iteration": 40,
             "learn": [
              0.1566511677
             ],
             "passed_time": 14.79919652,
             "remaining_time": 21.29640474,
             "test": [
              0.1567595615
             ]
            },
            {
             "iteration": 41,
             "learn": [
              0.1523270284
             ],
             "passed_time": 15.20693379,
             "remaining_time": 21.00005143,
             "test": [
              0.1517509649
             ]
            },
            {
             "iteration": 42,
             "learn": [
              0.1473457912
             ],
             "passed_time": 15.52661781,
             "remaining_time": 20.5817957,
             "test": [
              0.1469138337
             ]
            },
            {
             "iteration": 43,
             "learn": [
              0.1422615688
             ],
             "passed_time": 15.94091661,
             "remaining_time": 20.28843932,
             "test": [
              0.1422444485
             ]
            },
            {
             "iteration": 44,
             "learn": [
              0.1376028087
             ],
             "passed_time": 16.2664493,
             "remaining_time": 19.88121581,
             "test": [
              0.1377339866
             ]
            },
            {
             "iteration": 45,
             "learn": [
              0.1332860332
             ],
             "passed_time": 16.654091,
             "remaining_time": 19.55045465,
             "test": [
              0.1333759612
             ]
            },
            {
             "iteration": 46,
             "learn": [
              0.1292553647
             ],
             "passed_time": 17.01107244,
             "remaining_time": 19.1826987,
             "test": [
              0.1291654566
             ]
            },
            {
             "iteration": 47,
             "learn": [
              0.1253261176
             ],
             "passed_time": 17.42432211,
             "remaining_time": 18.87634895,
             "test": [
              0.1250972132
             ]
            },
            {
             "iteration": 48,
             "learn": [
              0.1214212968
             ],
             "passed_time": 17.83466153,
             "remaining_time": 18.56260689,
             "test": [
              0.1211644674
             ]
            },
            {
             "iteration": 49,
             "learn": [
              0.117543702
             ],
             "passed_time": 18.19925691,
             "remaining_time": 18.19925691,
             "test": [
              0.1173644323
             ]
            },
            {
             "iteration": 50,
             "learn": [
              0.1137183441
             ],
             "passed_time": 18.5461526,
             "remaining_time": 17.81885249,
             "test": [
              0.1136898575
             ]
            },
            {
             "iteration": 51,
             "learn": [
              0.1101763052
             ],
             "passed_time": 18.92890091,
             "remaining_time": 17.47283161,
             "test": [
              0.1101372333
             ]
            },
            {
             "iteration": 52,
             "learn": [
              0.1072919591
             ],
             "passed_time": 19.29368683,
             "remaining_time": 17.10949587,
             "test": [
              0.1067019398
             ]
            },
            {
             "iteration": 53,
             "learn": [
              0.1037964467
             ],
             "passed_time": 19.67160025,
             "remaining_time": 16.7572891,
             "test": [
              0.1033789101
             ]
            },
            {
             "iteration": 54,
             "learn": [
              0.1001583244
             ],
             "passed_time": 20.03869794,
             "remaining_time": 16.39529831,
             "test": [
              0.1001654322
             ]
            },
            {
             "iteration": 55,
             "learn": [
              0.09753977952
             ],
             "passed_time": 20.41198025,
             "remaining_time": 16.03798448,
             "test": [
              0.09705752105
             ]
            },
            {
             "iteration": 56,
             "learn": [
              0.09414926021
             ],
             "passed_time": 20.75866202,
             "remaining_time": 15.66004328,
             "test": [
              0.09404738672
             ]
            },
            {
             "iteration": 57,
             "learn": [
              0.09160815241
             ],
             "passed_time": 21.11912513,
             "remaining_time": 15.29315958,
             "test": [
              0.09113782364
             ]
            },
            {
             "iteration": 58,
             "learn": [
              0.08836759827
             ],
             "passed_time": 21.50384835,
             "remaining_time": 14.94335225,
             "test": [
              0.08832406295
             ]
            },
            {
             "iteration": 59,
             "learn": [
              0.08594154616
             ],
             "passed_time": 21.92911531,
             "remaining_time": 14.6194102,
             "test": [
              0.08559892697
             ]
            },
            {
             "iteration": 60,
             "learn": [
              0.08309051484
             ],
             "passed_time": 22.31052577,
             "remaining_time": 14.26410664,
             "test": [
              0.0829632168
             ]
            },
            {
             "iteration": 61,
             "learn": [
              0.08052181189
             ],
             "passed_time": 22.72751529,
             "remaining_time": 13.92976744,
             "test": [
              0.0804130364
             ]
            },
            {
             "iteration": 62,
             "learn": [
              0.07836022855
             ],
             "passed_time": 23.06666705,
             "remaining_time": 13.54709017,
             "test": [
              0.07794219058
             ]
            },
            {
             "iteration": 63,
             "learn": [
              0.07591367684
             ],
             "passed_time": 23.4983168,
             "remaining_time": 13.2178032,
             "test": [
              0.07555134157
             ]
            },
            {
             "iteration": 64,
             "learn": [
              0.07343935728
             ],
             "passed_time": 23.87475198,
             "remaining_time": 12.85563568,
             "test": [
              0.07323493756
             ]
            },
            {
             "iteration": 65,
             "learn": [
              0.07111930058
             ],
             "passed_time": 24.2285957,
             "remaining_time": 12.48139778,
             "test": [
              0.07099227578
             ]
            },
            {
             "iteration": 66,
             "learn": [
              0.0689230741
             ],
             "passed_time": 24.65265434,
             "remaining_time": 12.14235214,
             "test": [
              0.06882182467
             ]
            },
            {
             "iteration": 67,
             "learn": [
              0.06684709307
             ],
             "passed_time": 25.01568988,
             "remaining_time": 11.77208935,
             "test": [
              0.06672135331
             ]
            },
            {
             "iteration": 68,
             "learn": [
              0.0648653639
             ],
             "passed_time": 25.3999141,
             "remaining_time": 11.41155561,
             "test": [
              0.06468824315
             ]
            },
            {
             "iteration": 69,
             "learn": [
              0.06289333266
             ],
             "passed_time": 25.724195,
             "remaining_time": 11.024655,
             "test": [
              0.06271602625
             ]
            },
            {
             "iteration": 70,
             "learn": [
              0.06095010931
             ],
             "passed_time": 26.09879136,
             "remaining_time": 10.66006971,
             "test": [
              0.06080702479
             ]
            },
            {
             "iteration": 71,
             "learn": [
              0.0590764388
             ],
             "passed_time": 26.45559947,
             "remaining_time": 10.28828868,
             "test": [
              0.05895900554
             ]
            },
            {
             "iteration": 72,
             "learn": [
              0.05732956554
             ],
             "passed_time": 26.81787768,
             "remaining_time": 9.918941059,
             "test": [
              0.05716879466
             ]
            },
            {
             "iteration": 73,
             "learn": [
              0.05580575386
             ],
             "passed_time": 27.15796836,
             "remaining_time": 9.541988882,
             "test": [
              0.05543530409
             ]
            },
            {
             "iteration": 74,
             "learn": [
              0.05406181812
             ],
             "passed_time": 27.43509668,
             "remaining_time": 9.145032226,
             "test": [
              0.05375679343
             ]
            },
            {
             "iteration": 75,
             "learn": [
              0.05225526255
             ],
             "passed_time": 27.71651299,
             "remaining_time": 8.752583051,
             "test": [
              0.05212633575
             ]
            },
            {
             "iteration": 76,
             "learn": [
              0.05091229306
             ],
             "passed_time": 28.11493979,
             "remaining_time": 8.397969028,
             "test": [
              0.05054995985
             ]
            },
            {
             "iteration": 77,
             "learn": [
              0.04922036761
             ],
             "passed_time": 28.48267549,
             "remaining_time": 8.033575139,
             "test": [
              0.04902056516
             ]
            },
            {
             "iteration": 78,
             "learn": [
              0.04780377184
             ],
             "passed_time": 28.8224817,
             "remaining_time": 7.661672351,
             "test": [
              0.0475414046
             ]
            },
            {
             "iteration": 79,
             "learn": [
              0.04630203075
             ],
             "passed_time": 29.17464403,
             "remaining_time": 7.293661007,
             "test": [
              0.0461069915
             ]
            },
            {
             "iteration": 80,
             "learn": [
              0.04504134484
             ],
             "passed_time": 29.45730065,
             "remaining_time": 6.909737189,
             "test": [
              0.04471584308
             ]
            },
            {
             "iteration": 81,
             "learn": [
              0.04353532657
             ],
             "passed_time": 29.9694347,
             "remaining_time": 6.578656398,
             "test": [
              0.0433688104
             ]
            },
            {
             "iteration": 82,
             "learn": [
              0.04234016273
             ],
             "passed_time": 30.46854264,
             "remaining_time": 6.240544879,
             "test": [
              0.04206338066
             ]
            },
            {
             "iteration": 83,
             "learn": [
              0.04111462133
             ],
             "passed_time": 30.91785404,
             "remaining_time": 5.889115055,
             "test": [
              0.04079897493
             ]
            },
            {
             "iteration": 84,
             "learn": [
              0.03979800954
             ],
             "passed_time": 31.36774737,
             "remaining_time": 5.53548483,
             "test": [
              0.03957200951
             ]
            },
            {
             "iteration": 85,
             "learn": [
              0.03856181247
             ],
             "passed_time": 31.69706645,
             "remaining_time": 5.159987562,
             "test": [
              0.03838227763
             ]
            },
            {
             "iteration": 86,
             "learn": [
              0.03747372401
             ],
             "passed_time": 32.10187442,
             "remaining_time": 4.79683181,
             "test": [
              0.03722842574
             ]
            },
            {
             "iteration": 87,
             "learn": [
              0.036422206
             ],
             "passed_time": 32.42987364,
             "remaining_time": 4.422255496,
             "test": [
              0.03611316966
             ]
            },
            {
             "iteration": 88,
             "learn": [
              0.03530401929
             ],
             "passed_time": 32.73739281,
             "remaining_time": 4.046194617,
             "test": [
              0.03503171353
             ]
            },
            {
             "iteration": 89,
             "learn": [
              0.03425805671
             ],
             "passed_time": 33.11087086,
             "remaining_time": 3.678985651,
             "test": [
              0.03398172475
             ]
            },
            {
             "iteration": 90,
             "learn": [
              0.03323295951
             ],
             "passed_time": 33.55690998,
             "remaining_time": 3.318815273,
             "test": [
              0.03296365537
             ]
            },
            {
             "iteration": 91,
             "learn": [
              0.03224326713
             ],
             "passed_time": 33.8926401,
             "remaining_time": 2.947186095,
             "test": [
              0.03197674344
             ]
            },
            {
             "iteration": 92,
             "learn": [
              0.0312838037
             ],
             "passed_time": 34.30316897,
             "remaining_time": 2.581958954,
             "test": [
              0.03101970027
             ]
            },
            {
             "iteration": 93,
             "learn": [
              0.03035894748
             ],
             "passed_time": 34.68379836,
             "remaining_time": 2.21385947,
             "test": [
              0.03009544132
             ]
            },
            {
             "iteration": 94,
             "learn": [
              0.02946362856
             ],
             "passed_time": 35.04958094,
             "remaining_time": 1.844714786,
             "test": [
              0.02919665849
             ]
            },
            {
             "iteration": 95,
             "learn": [
              0.02862051697
             ],
             "passed_time": 35.32916706,
             "remaining_time": 1.472048627,
             "test": [
              0.02832204045
             ]
            },
            {
             "iteration": 96,
             "learn": [
              0.0277312529
             ],
             "passed_time": 35.69234066,
             "remaining_time": 1.103886825,
             "test": [
              0.02747750177
             ]
            },
            {
             "iteration": 97,
             "learn": [
              0.02688381648
             ],
             "passed_time": 36.01313393,
             "remaining_time": 0.7349619169,
             "test": [
              0.02665534612
             ]
            },
            {
             "iteration": 98,
             "learn": [
              0.02615088609
             ],
             "passed_time": 36.35067434,
             "remaining_time": 0.3671785287,
             "test": [
              0.02586223461
             ]
            },
            {
             "iteration": 99,
             "learn": [
              0.02531121229
             ],
             "passed_time": 36.62134642,
             "remaining_time": 0,
             "test": [
              0.02509064814
             ]
            }
           ],
           "meta": {
            "iteration_count": 100,
            "launch_mode": "Train",
            "learn_metrics": [
             {
              "best_value": "Min",
              "name": "CrossEntropy"
             }
            ],
            "learn_sets": [
             "learn"
            ],
            "name": "experiment",
            "parameters": "",
            "test_metrics": [
             {
              "best_value": "Min",
              "name": "CrossEntropy"
             }
            ],
            "test_sets": [
             "test"
            ]
           }
          },
          "passed_iterations": 99,
          "total_iterations": 100
         },
         "name": "catboost_info",
         "path": "catboost_info"
        }
       },
       "layout": "IPY_MODEL_e95546cf82634122856cafca266d4abb"
      }
     },
     "5ffefe59a2b84947bcaf2973c5e135bd": {
      "model_module": "catboost-widget",
      "model_module_version": "^1.0.0",
      "model_name": "CatboostWidgetModel",
      "state": {
       "_dom_classes": [],
       "_model_module": "catboost-widget",
       "_model_module_version": "^1.0.0",
       "_model_name": "CatboostWidgetModel",
       "_view_count": null,
       "_view_module": "catboost-widget",
       "_view_module_version": "^1.0.0",
       "_view_name": "CatboostWidgetView",
       "data": {
        "catboost_info": {
         "content": {
          "data": {
           "iterations": [
            {
             "iteration": 0,
             "learn": [
              0.6613830865
             ],
             "passed_time": 0.3716593979,
             "remaining_time": 36.79428039,
             "test": [
              0.6636019026
             ]
            },
            {
             "iteration": 1,
             "learn": [
              0.6363098046
             ],
             "passed_time": 0.6731509004,
             "remaining_time": 32.98439412,
             "test": [
              0.6357781941
             ]
            },
            {
             "iteration": 2,
             "learn": [
              0.609386671
             ],
             "passed_time": 1.063764725,
             "remaining_time": 34.39505945,
             "test": [
              0.6095283759
             ]
            },
            {
             "iteration": 3,
             "learn": [
              0.5837368597
             ],
             "passed_time": 1.354765257,
             "remaining_time": 32.51436618,
             "test": [
              0.5847227161
             ]
            },
            {
             "iteration": 4,
             "learn": [
              0.5622153215
             ],
             "passed_time": 1.706144926,
             "remaining_time": 32.41675359,
             "test": [
              0.5612489944
             ]
            },
            {
             "iteration": 5,
             "learn": [
              0.5377233716
             ],
             "passed_time": 2.042662018,
             "remaining_time": 32.00170496,
             "test": [
              0.5390049726
             ]
            },
            {
             "iteration": 6,
             "learn": [
              0.5169142782
             ],
             "passed_time": 2.449576987,
             "remaining_time": 32.54437997,
             "test": [
              0.5179030298
             ]
            },
            {
             "iteration": 7,
             "learn": [
              0.498714783
             ],
             "passed_time": 2.740062715,
             "remaining_time": 31.51072122,
             "test": [
              0.4978561357
             ]
            },
            {
             "iteration": 8,
             "learn": [
              0.4785610277
             ],
             "passed_time": 3.088356144,
             "remaining_time": 31.22671212,
             "test": [
              0.4787939482
             ]
            },
            {
             "iteration": 9,
             "learn": [
              0.4606096737
             ],
             "passed_time": 3.518075652,
             "remaining_time": 31.66268087,
             "test": [
              0.4606492257
             ]
            },
            {
             "iteration": 10,
             "learn": [
              0.4438763225
             ],
             "passed_time": 3.857261776,
             "remaining_time": 31.20875437,
             "test": [
              0.4433620766
             ]
            },
            {
             "iteration": 11,
             "learn": [
              0.4280902478
             ],
             "passed_time": 4.257345351,
             "remaining_time": 31.22053257,
             "test": [
              0.4268782354
             ]
            },
            {
             "iteration": 12,
             "learn": [
              0.4121780335
             ],
             "passed_time": 4.612204088,
             "remaining_time": 30.8662889,
             "test": [
              0.4111467571
             ]
            },
            {
             "iteration": 13,
             "learn": [
              0.3968231556
             ],
             "passed_time": 4.916618,
             "remaining_time": 30.202082,
             "test": [
              0.3961216036
             ]
            },
            {
             "iteration": 14,
             "learn": [
              0.3824477151
             ],
             "passed_time": 5.26270451,
             "remaining_time": 29.82199222,
             "test": [
              0.381761629
             ]
            },
            {
             "iteration": 15,
             "learn": [
              0.3673875437
             ],
             "passed_time": 5.589958787,
             "remaining_time": 29.34728363,
             "test": [
              0.3680273614
             ]
            },
            {
             "iteration": 16,
             "learn": [
              0.3539958058
             ],
             "passed_time": 5.969583145,
             "remaining_time": 29.14561182,
             "test": [
              0.3548833758
             ]
            },
            {
             "iteration": 17,
             "learn": [
              0.3432315533
             ],
             "passed_time": 6.29322271,
             "remaining_time": 28.66912568,
             "test": [
              0.3422966017
             ]
            },
            {
             "iteration": 18,
             "learn": [
              0.3301433473
             ],
             "passed_time": 6.635747411,
             "remaining_time": 28.28923896,
             "test": [
              0.3302374517
             ]
            },
            {
             "iteration": 19,
             "learn": [
              0.3197380902
             ],
             "passed_time": 6.946660249,
             "remaining_time": 27.786641,
             "test": [
              0.3186768327
             ]
            },
            {
             "iteration": 20,
             "learn": [
              0.307061892
             ],
             "passed_time": 7.35150384,
             "remaining_time": 27.6556573,
             "test": [
              0.307588696
             ]
            },
            {
             "iteration": 21,
             "learn": [
              0.2969462877
             ],
             "passed_time": 7.72906165,
             "remaining_time": 27.40303676,
             "test": [
              0.2969487494
             ]
            },
            {
             "iteration": 22,
             "learn": [
              0.2868666562
             ],
             "passed_time": 8.107115228,
             "remaining_time": 27.14121185,
             "test": [
              0.2867346119
             ]
            },
            {
             "iteration": 23,
             "learn": [
              0.2765875666
             ],
             "passed_time": 8.517036845,
             "remaining_time": 26.97061668,
             "test": [
              0.2769237279
             ]
            },
            {
             "iteration": 24,
             "learn": [
              0.2665711665
             ],
             "passed_time": 8.814150842,
             "remaining_time": 26.44245253,
             "test": [
              0.2674969824
             ]
            },
            {
             "iteration": 25,
             "learn": [
              0.258059543
             ],
             "passed_time": 9.148122528,
             "remaining_time": 26.03696412,
             "test": [
              0.2584357768
             ]
            },
            {
             "iteration": 26,
             "learn": [
              0.2500373194
             ],
             "passed_time": 9.514168797,
             "remaining_time": 25.72349341,
             "test": [
              0.2497239717
             ]
            },
            {
             "iteration": 27,
             "learn": [
              0.2420517716
             ],
             "passed_time": 9.90275153,
             "remaining_time": 25.46421822,
             "test": [
              0.2413440862
             ]
            },
            {
             "iteration": 28,
             "learn": [
              0.233763823
             ],
             "passed_time": 10.24146977,
             "remaining_time": 25.07394324,
             "test": [
              0.2332804744
             ]
            },
            {
             "iteration": 29,
             "learn": [
              0.2259330871
             ],
             "passed_time": 10.59858926,
             "remaining_time": 24.73004162,
             "test": [
              0.2255187304
             ]
            },
            {
             "iteration": 30,
             "learn": [
              0.2186118106
             ],
             "passed_time": 10.99590185,
             "remaining_time": 24.47474928,
             "test": [
              0.2180452326
             ]
            },
            {
             "iteration": 31,
             "learn": [
              0.2110190293
             ],
             "passed_time": 11.37085713,
             "remaining_time": 24.1630714,
             "test": [
              0.2108476321
             ]
            },
            {
             "iteration": 32,
             "learn": [
              0.2034725937
             ],
             "passed_time": 11.72198532,
             "remaining_time": 23.79918232,
             "test": [
              0.203913409
             ]
            },
            {
             "iteration": 33,
             "learn": [
              0.1965949732
             ],
             "passed_time": 12.14811054,
             "remaining_time": 23.58162635,
             "test": [
              0.1972316539
             ]
            },
            {
             "iteration": 34,
             "learn": [
              0.1912654058
             ],
             "passed_time": 12.5570891,
             "remaining_time": 23.32030833,
             "test": [
              0.1907911638
             ]
            },
            {
             "iteration": 35,
             "learn": [
              0.184041165
             ],
             "passed_time": 12.89671207,
             "remaining_time": 22.92748812,
             "test": [
              0.1845815738
             ]
            },
            {
             "iteration": 36,
             "learn": [
              0.1788579551
             ],
             "passed_time": 13.2786718,
             "remaining_time": 22.60963037,
             "test": [
              0.1785933438
             ]
            },
            {
             "iteration": 37,
             "learn": [
              0.1723305504
             ],
             "passed_time": 13.65522276,
             "remaining_time": 22.27957398,
             "test": [
              0.1728170766
             ]
            },
            {
             "iteration": 38,
             "learn": [
              0.1677676745
             ],
             "passed_time": 14.05253243,
             "remaining_time": 21.979602,
             "test": [
              0.1672443312
             ]
            },
            {
             "iteration": 39,
             "learn": [
              0.1615694237
             ],
             "passed_time": 14.47891984,
             "remaining_time": 21.71837975,
             "test": [
              0.1618666523
             ]
            },
            {
             "iteration": 40,
             "learn": [
              0.1564563356
             ],
             "passed_time": 14.84321379,
             "remaining_time": 21.35974667,
             "test": [
              0.1566770601
             ]
            },
            {
             "iteration": 41,
             "learn": [
              0.1521258022
             ],
             "passed_time": 15.26922478,
             "remaining_time": 21.08607231,
             "test": [
              0.1516669584
             ]
            },
            {
             "iteration": 42,
             "learn": [
              0.1471331996
             ],
             "passed_time": 15.58692445,
             "remaining_time": 20.66173707,
             "test": [
              0.1468307132
             ]
            },
            {
             "iteration": 43,
             "learn": [
              0.1419991487
             ],
             "passed_time": 16.12885709,
             "remaining_time": 20.52763629,
             "test": [
              0.1421595689
             ]
            },
            {
             "iteration": 44,
             "learn": [
              0.1372557575
             ],
             "passed_time": 16.55107516,
             "remaining_time": 20.22909186,
             "test": [
              0.1376474383
             ]
            },
            {
             "iteration": 45,
             "learn": [
              0.1330500569
             ],
             "passed_time": 16.97223377,
             "remaining_time": 19.9239266,
             "test": [
              0.1332884529
             ]
            },
            {
             "iteration": 46,
             "learn": [
              0.1290548745
             ],
             "passed_time": 17.31815586,
             "remaining_time": 19.52898427,
             "test": [
              0.1290764062
             ]
            },
            {
             "iteration": 47,
             "learn": [
              0.1251321858
             ],
             "passed_time": 17.69339981,
             "remaining_time": 19.1678498,
             "test": [
              0.1250072932
             ]
            },
            {
             "iteration": 48,
             "learn": [
              0.1212250289
             ],
             "passed_time": 18.08686365,
             "remaining_time": 18.82510298,
             "test": [
              0.1210743419
             ]
            },
            {
             "iteration": 49,
             "learn": [
              0.1173384343
             ],
             "passed_time": 18.44718003,
             "remaining_time": 18.44718003,
             "test": [
              0.1172731337
             ]
            },
            {
             "iteration": 50,
             "learn": [
              0.1134712685
             ],
             "passed_time": 18.78359693,
             "remaining_time": 18.04698528,
             "test": [
              0.1135991206
             ]
            },
            {
             "iteration": 51,
             "learn": [
              0.1099102462
             ],
             "passed_time": 19.16019718,
             "remaining_time": 17.68633586,
             "test": [
              0.110046453
             ]
            },
            {
             "iteration": 52,
             "learn": [
              0.1070552665
             ],
             "passed_time": 19.51509197,
             "remaining_time": 17.30583628,
             "test": [
              0.1066108216
             ]
            },
            {
             "iteration": 53,
             "learn": [
              0.103556194
             ],
             "passed_time": 19.89161117,
             "remaining_time": 16.94470581,
             "test": [
              0.1032882472
             ]
            },
            {
             "iteration": 54,
             "learn": [
              0.09988522894
             ],
             "passed_time": 20.23484902,
             "remaining_time": 16.55578557,
             "test": [
              0.1000747613
             ]
            },
            {
             "iteration": 55,
             "learn": [
              0.09727892184
             ],
             "passed_time": 20.56799806,
             "remaining_time": 16.16056991,
             "test": [
              0.09696641163
             ]
            },
            {
             "iteration": 56,
             "learn": [
              0.09392541325
             ],
             "passed_time": 20.89006025,
             "remaining_time": 15.75916826,
             "test": [
              0.09395959547
             ]
            },
            {
             "iteration": 57,
             "learn": [
              0.09136579024
             ],
             "passed_time": 21.25529977,
             "remaining_time": 15.3917688,
             "test": [
              0.09105021994
             ]
            },
            {
             "iteration": 58,
             "learn": [
              0.08811311003
             ],
             "passed_time": 21.61355509,
             "remaining_time": 15.01958913,
             "test": [
              0.08823566456
             ]
            },
            {
             "iteration": 59,
             "learn": [
              0.08563009775
             ],
             "passed_time": 22.01788424,
             "remaining_time": 14.6785895,
             "test": [
              0.0855117099
             ]
            },
            {
             "iteration": 60,
             "learn": [
              0.08275045903
             ],
             "passed_time": 22.38728855,
             "remaining_time": 14.31318448,
             "test": [
              0.08287606499
             ]
            },
            {
             "iteration": 61,
             "learn": [
              0.08026827651
             ],
             "passed_time": 22.78910974,
             "remaining_time": 13.96751887,
             "test": [
              0.08032469463
             ]
            },
            {
             "iteration": 62,
             "learn": [
              0.07812947165
             ],
             "passed_time": 23.18203964,
             "remaining_time": 13.61484868,
             "test": [
              0.07785524374
             ]
            },
            {
             "iteration": 63,
             "learn": [
              0.07565847723
             ],
             "passed_time": 23.6423862,
             "remaining_time": 13.29884224,
             "test": [
              0.07546519432
             ]
            },
            {
             "iteration": 64,
             "learn": [
              0.07312155423
             ],
             "passed_time": 24.06078863,
             "remaining_time": 12.95580926,
             "test": [
              0.0731512438
             ]
            },
            {
             "iteration": 65,
             "learn": [
              0.07074028724
             ],
             "passed_time": 24.40175698,
             "remaining_time": 12.57060208,
             "test": [
              0.07091095481
             ]
            },
            {
             "iteration": 66,
             "learn": [
              0.06863379138
             ],
             "passed_time": 24.83243507,
             "remaining_time": 12.23090085,
             "test": [
              0.06874158811
             ]
            },
            {
             "iteration": 67,
             "learn": [
              0.06661315063
             ],
             "passed_time": 25.15029269,
             "remaining_time": 11.83543186,
             "test": [
              0.06664046985
             ]
            },
            {
             "iteration": 68,
             "learn": [
              0.06464561592
             ],
             "passed_time": 25.56887193,
             "remaining_time": 11.4874642,
             "test": [
              0.06460653408
             ]
            },
            {
             "iteration": 69,
             "learn": [
              0.06269089897
             ],
             "passed_time": 25.91180557,
             "remaining_time": 11.10505953,
             "test": [
              0.06263613157
             ]
            },
            {
             "iteration": 70,
             "learn": [
              0.06074730104
             ],
             "passed_time": 26.29085736,
             "remaining_time": 10.7385192,
             "test": [
              0.06072789342
             ]
            },
            {
             "iteration": 71,
             "learn": [
              0.05884017336
             ],
             "passed_time": 26.65960715,
             "remaining_time": 10.367625,
             "test": [
              0.05887961575
             ]
            },
            {
             "iteration": 72,
             "learn": [
              0.05703496977
             ],
             "passed_time": 27.02245448,
             "remaining_time": 9.994606453,
             "test": [
              0.05708939159
             ]
            },
            {
             "iteration": 73,
             "learn": [
              0.05560734686
             ],
             "passed_time": 27.35996567,
             "remaining_time": 9.612960912,
             "test": [
              0.05535517346
             ]
            },
            {
             "iteration": 74,
             "learn": [
              0.05384487291
             ],
             "passed_time": 27.60461782,
             "remaining_time": 9.201539273,
             "test": [
              0.0536732857
             ]
            },
            {
             "iteration": 75,
             "learn": [
              0.05200673386
             ],
             "passed_time": 27.98542257,
             "remaining_time": 8.837501863,
             "test": [
              0.05204606793
             ]
            },
            {
             "iteration": 76,
             "learn": [
              0.05070325254
             ],
             "passed_time": 28.38304801,
             "remaining_time": 8.478053303,
             "test": [
              0.05046949513
             ]
            },
            {
             "iteration": 77,
             "learn": [
              0.04901983883
             ],
             "passed_time": 28.75409251,
             "remaining_time": 8.110128656,
             "test": [
              0.04894199034
             ]
            },
            {
             "iteration": 78,
             "learn": [
              0.04742777236
             ],
             "passed_time": 29.09778613,
             "remaining_time": 7.734854541,
             "test": [
              0.04746216507
             ]
            },
            {
             "iteration": 79,
             "learn": [
              0.04609534283
             ],
             "passed_time": 29.49236869,
             "remaining_time": 7.373092173,
             "test": [
              0.04602838924
             ]
            },
            {
             "iteration": 80,
             "learn": [
              0.04482973732
             ],
             "passed_time": 29.84034497,
             "remaining_time": 6.999587093,
             "test": [
              0.04463829598
             ]
            },
            {
             "iteration": 81,
             "learn": [
              0.04326227055
             ],
             "passed_time": 30.26582688,
             "remaining_time": 6.643718095,
             "test": [
              0.04329183703
             ]
            },
            {
             "iteration": 82,
             "learn": [
              0.04214395718
             ],
             "passed_time": 30.64299675,
             "remaining_time": 6.276276443,
             "test": [
              0.04198638111
             ]
            },
            {
             "iteration": 83,
             "learn": [
              0.04090278379
             ],
             "passed_time": 31.06591073,
             "remaining_time": 5.917316329,
             "test": [
              0.0407209987
             ]
            },
            {
             "iteration": 84,
             "learn": [
              0.03954618931
             ],
             "passed_time": 31.46535004,
             "remaining_time": 5.55270883,
             "test": [
              0.03949562272
             ]
            },
            {
             "iteration": 85,
             "learn": [
              0.03832739112
             ],
             "passed_time": 31.83390099,
             "remaining_time": 5.182262951,
             "test": [
              0.0383071759
             ]
            },
            {
             "iteration": 86,
             "learn": [
              0.03729979584
             ],
             "passed_time": 32.19690173,
             "remaining_time": 4.811031293,
             "test": [
              0.03715520417
             ]
            },
            {
             "iteration": 87,
             "learn": [
              0.03624931696
             ],
             "passed_time": 32.59200805,
             "remaining_time": 4.444364734,
             "test": [
              0.03603892582
             ]
            },
            {
             "iteration": 88,
             "learn": [
              0.0350690139
             ],
             "passed_time": 32.87293421,
             "remaining_time": 4.062946925,
             "test": [
              0.03495640562
             ]
            },
            {
             "iteration": 89,
             "learn": [
              0.034032005
             ],
             "passed_time": 33.2272731,
             "remaining_time": 3.691919233,
             "test": [
              0.03390713005
             ]
            },
            {
             "iteration": 90,
             "learn": [
              0.03301832825
             ],
             "passed_time": 33.62804407,
             "remaining_time": 3.325850512,
             "test": [
              0.03289211403
             ]
            },
            {
             "iteration": 91,
             "learn": [
              0.03202876402
             ],
             "passed_time": 33.98980408,
             "remaining_time": 2.955635137,
             "test": [
              0.03190610328
             ]
            },
            {
             "iteration": 92,
             "learn": [
              0.03104861268
             ],
             "passed_time": 34.35298675,
             "remaining_time": 2.58570868,
             "test": [
              0.03095212412
             ]
            },
            {
             "iteration": 93,
             "learn": [
              0.03011235818
             ],
             "passed_time": 34.7463616,
             "remaining_time": 2.217852868,
             "test": [
              0.03002542965
             ]
            },
            {
             "iteration": 94,
             "learn": [
              0.02918121469
             ],
             "passed_time": 35.11940497,
             "remaining_time": 1.848389735,
             "test": [
              0.0291270158
             ]
            },
            {
             "iteration": 95,
             "learn": [
              0.02843419495
             ],
             "passed_time": 35.38911372,
             "remaining_time": 1.474546405,
             "test": [
              0.0282557587
             ]
            },
            {
             "iteration": 96,
             "learn": [
              0.02753123669
             ],
             "passed_time": 35.61618905,
             "remaining_time": 1.10153162,
             "test": [
              0.02740899007
             ]
            },
            {
             "iteration": 97,
             "learn": [
              0.02663114731
             ],
             "passed_time": 35.97484438,
             "remaining_time": 0.7341804976,
             "test": [
              0.02659011603
             ]
            },
            {
             "iteration": 98,
             "learn": [
              0.02596250761
             ],
             "passed_time": 36.35922063,
             "remaining_time": 0.3672648548,
             "test": [
              0.0257959257
             ]
            },
            {
             "iteration": 99,
             "learn": [
              0.0251084611
             ],
             "passed_time": 36.6971734,
             "remaining_time": 0,
             "test": [
              0.02502582234
             ]
            }
           ],
           "meta": {
            "iteration_count": 100,
            "launch_mode": "Train",
            "learn_metrics": [
             {
              "best_value": "Min",
              "name": "CrossEntropy"
             }
            ],
            "learn_sets": [
             "learn"
            ],
            "name": "experiment",
            "parameters": "",
            "test_metrics": [
             {
              "best_value": "Min",
              "name": "CrossEntropy"
             }
            ],
            "test_sets": [
             "test"
            ]
           }
          },
          "passed_iterations": 99,
          "total_iterations": 100
         },
         "name": "catboost_info",
         "path": "catboost_info"
        }
       },
       "layout": "IPY_MODEL_27172e424e6744ad890150c9ad4063ba"
      }
     },
     "6058599c478e4d98a5492b4f18d394fc": {
      "model_module": "catboost-widget",
      "model_module_version": "^1.0.0",
      "model_name": "CatboostWidgetModel",
      "state": {
       "_dom_classes": [],
       "_model_module": "catboost-widget",
       "_model_module_version": "^1.0.0",
       "_model_name": "CatboostWidgetModel",
       "_view_count": null,
       "_view_module": "catboost-widget",
       "_view_module_version": "^1.0.0",
       "_view_name": "CatboostWidgetView",
       "data": {
        "catboost_info": {
         "content": {
          "data": {
           "iterations": [
            {
             "iteration": 0,
             "learn": [
              0.6613840328
             ],
             "passed_time": 0.4414277939,
             "remaining_time": 43.7013516,
             "test": [
              0.663662934
             ]
            },
            {
             "iteration": 1,
             "learn": [
              0.6363036799
             ],
             "passed_time": 0.7530450727,
             "remaining_time": 36.89920856,
             "test": [
              0.6358970603
             ]
            },
            {
             "iteration": 2,
             "learn": [
              0.6093895625
             ],
             "passed_time": 1.164632829,
             "remaining_time": 37.65646148,
             "test": [
              0.6097043245
             ]
            },
            {
             "iteration": 3,
             "learn": [
              0.5837328116
             ],
             "passed_time": 1.470750675,
             "remaining_time": 35.2980162,
             "test": [
              0.584955245
             ]
            },
            {
             "iteration": 4,
             "learn": [
              0.5622126009
             ],
             "passed_time": 1.86160279,
             "remaining_time": 35.37045301,
             "test": [
              0.5615374719
             ]
            },
            {
             "iteration": 5,
             "learn": [
              0.5377186402
             ],
             "passed_time": 2.20491905,
             "remaining_time": 34.54373179,
             "test": [
              0.5393463145
             ]
            },
            {
             "iteration": 6,
             "learn": [
              0.5169119782
             ],
             "passed_time": 2.607873851,
             "remaining_time": 34.64746688,
             "test": [
              0.5182352992
             ]
            },
            {
             "iteration": 7,
             "learn": [
              0.4987351546
             ],
             "passed_time": 2.910231324,
             "remaining_time": 33.46766023,
             "test": [
              0.4982382468
             ]
            },
            {
             "iteration": 8,
             "learn": [
              0.4785588985
             ],
             "passed_time": 3.2699897,
             "remaining_time": 33.06322919,
             "test": [
              0.4792031642
             ]
            },
            {
             "iteration": 9,
             "learn": [
              0.4606152857
             ],
             "passed_time": 3.670022901,
             "remaining_time": 33.03020611,
             "test": [
              0.4611061032
             ]
            },
            {
             "iteration": 10,
             "learn": [
              0.443954024
             ],
             "passed_time": 4.013796554,
             "remaining_time": 32.47526303,
             "test": [
              0.4438641544
             ]
            },
            {
             "iteration": 11,
             "learn": [
              0.4280987776
             ],
             "passed_time": 4.432164761,
             "remaining_time": 32.50254158,
             "test": [
              0.4274248252
             ]
            },
            {
             "iteration": 12,
             "learn": [
              0.412197104
             ],
             "passed_time": 4.819269941,
             "remaining_time": 32.2520373,
             "test": [
              0.4117386806
             ]
            },
            {
             "iteration": 13,
             "learn": [
              0.396833394
             ],
             "passed_time": 5.136444686,
             "remaining_time": 31.55244593,
             "test": [
              0.39675827
             ]
            },
            {
             "iteration": 14,
             "learn": [
              0.3824589129
             ],
             "passed_time": 5.493981354,
             "remaining_time": 31.132561,
             "test": [
              0.3824418749
             ]
            },
            {
             "iteration": 15,
             "learn": [
              0.3674045377
             ],
             "passed_time": 5.840831996,
             "remaining_time": 30.66436798,
             "test": [
              0.3687504817
             ]
            },
            {
             "iteration": 16,
             "learn": [
              0.353939856
             ],
             "passed_time": 6.248035498,
             "remaining_time": 30.50511449,
             "test": [
              0.3556493965
             ]
            },
            {
             "iteration": 17,
             "learn": [
              0.3432360351
             ],
             "passed_time": 6.591881421,
             "remaining_time": 30.02968203,
             "test": [
              0.3431044881
             ]
            },
            {
             "iteration": 18,
             "learn": [
              0.3301487425
             ],
             "passed_time": 6.958670217,
             "remaining_time": 29.66590987,
             "test": [
              0.3310062508
             ]
            },
            {
             "iteration": 19,
             "learn": [
              0.319743722
             ],
             "passed_time": 7.291255418,
             "remaining_time": 29.16502167,
             "test": [
              0.3194849131
             ]
            },
            {
             "iteration": 20,
             "learn": [
              0.3070584156
             ],
             "passed_time": 7.723486767,
             "remaining_time": 29.05502165,
             "test": [
              0.3084254823
             ]
            },
            {
             "iteration": 21,
             "learn": [
              0.2969521955
             ],
             "passed_time": 8.120165823,
             "remaining_time": 28.78967883,
             "test": [
              0.2978228237
             ]
            },
            {
             "iteration": 22,
             "learn": [
              0.2868443394
             ],
             "passed_time": 8.519690979,
             "remaining_time": 28.52244371,
             "test": [
              0.2876387281
             ]
            },
            {
             "iteration": 23,
             "learn": [
              0.2765797465
             ],
             "passed_time": 8.946085898,
             "remaining_time": 28.32927201,
             "test": [
              0.2778670085
             ]
            },
            {
             "iteration": 24,
             "learn": [
              0.2666341741
             ],
             "passed_time": 9.375676343,
             "remaining_time": 28.12702903,
             "test": [
              0.2684771649
             ]
            },
            {
             "iteration": 25,
             "learn": [
              0.2580671922
             ],
             "passed_time": 9.836392481,
             "remaining_time": 27.99588629,
             "test": [
              0.2594534734
             ]
            },
            {
             "iteration": 26,
             "learn": [
              0.2500460792
             ],
             "passed_time": 10.23972073,
             "remaining_time": 27.68517087,
             "test": [
              0.2507773005
             ]
            },
            {
             "iteration": 27,
             "learn": [
              0.2420618654
             ],
             "passed_time": 10.64095423,
             "remaining_time": 27.36245374,
             "test": [
              0.2424347267
             ]
            },
            {
             "iteration": 28,
             "learn": [
              0.2337932962
             ],
             "passed_time": 11.03781488,
             "remaining_time": 27.02361573,
             "test": [
              0.2343063093
             ]
            },
            {
             "iteration": 29,
             "learn": [
              0.2259733178
             ],
             "passed_time": 11.4107397,
             "remaining_time": 26.62505931,
             "test": [
              0.2265801787
             ]
            },
            {
             "iteration": 30,
             "learn": [
              0.218619036
             ],
             "passed_time": 11.81907132,
             "remaining_time": 26.3069652,
             "test": [
              0.2191426138
             ]
            },
            {
             "iteration": 31,
             "learn": [
              0.2110223545
             ],
             "passed_time": 12.19514293,
             "remaining_time": 25.91467873,
             "test": [
              0.2119805546
             ]
            },
            {
             "iteration": 32,
             "learn": [
              0.2034596182
             ],
             "passed_time": 12.58339526,
             "remaining_time": 25.54810552,
             "test": [
              0.2050810126
             ]
            },
            {
             "iteration": 33,
             "learn": [
              0.1966658173
             ],
             "passed_time": 13.02725343,
             "remaining_time": 25.28819784,
             "test": [
              0.1984336513
             ]
            },
            {
             "iteration": 34,
             "learn": [
              0.1912873415
             ],
             "passed_time": 13.43529356,
             "remaining_time": 24.95125946,
             "test": [
              0.1920275652
             ]
            },
            {
             "iteration": 35,
             "learn": [
              0.1840727509
             ],
             "passed_time": 13.78327433,
             "remaining_time": 24.5035988,
             "test": [
              0.1858518466
             ]
            },
            {
             "iteration": 36,
             "learn": [
              0.1788934445
             ],
             "passed_time": 14.15938905,
             "remaining_time": 24.10923,
             "test": [
              0.1798974734
             ]
            },
            {
             "iteration": 37,
             "learn": [
              0.1723439826
             ],
             "passed_time": 14.53555883,
             "remaining_time": 23.71591177,
             "test": [
              0.1741536221
             ]
            },
            {
             "iteration": 38,
             "learn": [
              0.1677811461
             ],
             "passed_time": 14.88083633,
             "remaining_time": 23.27515426,
             "test": [
              0.1686097796
             ]
            },
            {
             "iteration": 39,
             "learn": [
              0.161557089
             ],
             "passed_time": 15.26035476,
             "remaining_time": 22.89053214,
             "test": [
              0.1631590622
             ]
            },
            {
             "iteration": 40,
             "learn": [
              0.1564455321
             ],
             "passed_time": 15.62707547,
             "remaining_time": 22.48774275,
             "test": [
              0.1580010563
             ]
            },
            {
             "iteration": 41,
             "learn": [
              0.1521314045
             ],
             "passed_time": 16.0397702,
             "remaining_time": 22.15015885,
             "test": [
              0.1530229087
             ]
            },
            {
             "iteration": 42,
             "learn": [
              0.1471273116
             ],
             "passed_time": 16.35688032,
             "remaining_time": 21.68237624,
             "test": [
              0.1482171783
             ]
            },
            {
             "iteration": 43,
             "learn": [
              0.1420085657
             ],
             "passed_time": 16.77021548,
             "remaining_time": 21.34391061,
             "test": [
              0.1435766626
             ]
            },
            {
             "iteration": 44,
             "learn": [
              0.1372678491
             ],
             "passed_time": 17.09321401,
             "remaining_time": 20.89170602,
             "test": [
              0.1390962638
             ]
            },
            {
             "iteration": 45,
             "learn": [
              0.1330338285
             ],
             "passed_time": 17.44262118,
             "remaining_time": 20.47612052,
             "test": [
              0.1346467913
             ]
            },
            {
             "iteration": 46,
             "learn": [
              0.1290299258
             ],
             "passed_time": 17.77865143,
             "remaining_time": 20.0482665,
             "test": [
              0.1303535117
             ]
            },
            {
             "iteration": 47,
             "learn": [
              0.125100521
             ],
             "passed_time": 18.15760341,
             "remaining_time": 19.67073703,
             "test": [
              0.1262476733
             ]
            },
            {
             "iteration": 48,
             "learn": [
              0.1211864311
             ],
             "passed_time": 18.55679328,
             "remaining_time": 19.31421341,
             "test": [
              0.1222382099
             ]
            },
            {
             "iteration": 49,
             "learn": [
              0.1173033523
             ],
             "passed_time": 18.91780779,
             "remaining_time": 18.91780779,
             "test": [
              0.118459193
             ]
            },
            {
             "iteration": 50,
             "learn": [
              0.1134293981
             ],
             "passed_time": 19.25606928,
             "remaining_time": 18.50092931,
             "test": [
              0.1146941124
             ]
            },
            {
             "iteration": 51,
             "learn": [
              0.1098807796
             ],
             "passed_time": 19.64063527,
             "remaining_time": 18.12981717,
             "test": [
              0.1111689291
             ]
            },
            {
             "iteration": 52,
             "learn": [
              0.1070227524
             ],
             "passed_time": 20.00572344,
             "remaining_time": 17.74092456,
             "test": [
              0.1077334682
             ]
            },
            {
             "iteration": 53,
             "learn": [
              0.1035090336
             ],
             "passed_time": 20.39587322,
             "remaining_time": 17.37426237,
             "test": [
              0.1043500766
             ]
            },
            {
             "iteration": 54,
             "learn": [
              0.09984666736
             ],
             "passed_time": 20.73587727,
             "remaining_time": 16.96571777,
             "test": [
              0.1011634859
             ]
            },
            {
             "iteration": 55,
             "learn": [
              0.09724816391
             ],
             "passed_time": 21.0812483,
             "remaining_time": 16.56383795,
             "test": [
              0.09808201677
             ]
            },
            {
             "iteration": 56,
             "learn": [
              0.09387383351
             ],
             "passed_time": 21.39924669,
             "remaining_time": 16.14329136,
             "test": [
              0.09501729127
             ]
            },
            {
             "iteration": 57,
             "learn": [
              0.09132533278
             ],
             "passed_time": 21.76455569,
             "remaining_time": 15.76054033,
             "test": [
              0.09204212178
             ]
            },
            {
             "iteration": 58,
             "learn": [
              0.08805453163
             ],
             "passed_time": 22.16405438,
             "remaining_time": 15.40213949,
             "test": [
              0.08917465313
             ]
            },
            {
             "iteration": 59,
             "learn": [
              0.08560609205
             ],
             "passed_time": 22.58037129,
             "remaining_time": 15.05358086,
             "test": [
              0.08640490107
             ]
            },
            {
             "iteration": 60,
             "learn": [
              0.08270155718
             ],
             "passed_time": 22.97169967,
             "remaining_time": 14.68682438,
             "test": [
              0.08379258069
             ]
            },
            {
             "iteration": 61,
             "learn": [
              0.08021277359
             ],
             "passed_time": 23.38445883,
             "remaining_time": 14.33241025,
             "test": [
              0.08126404664
             ]
            },
            {
             "iteration": 62,
             "learn": [
              0.07807133191
             ],
             "passed_time": 23.82407985,
             "remaining_time": 13.99191991,
             "test": [
              0.07876114405
             ]
            },
            {
             "iteration": 63,
             "learn": [
              0.07560488333
             ],
             "passed_time": 24.18326826,
             "remaining_time": 13.6030884,
             "test": [
              0.07632781429
             ]
            },
            {
             "iteration": 64,
             "learn": [
              0.07307532205
             ],
             "passed_time": 24.53880173,
             "remaining_time": 13.21320093,
             "test": [
              0.07397917874
             ]
            },
            {
             "iteration": 65,
             "learn": [
              0.07072288426
             ],
             "passed_time": 24.86906741,
             "remaining_time": 12.81133776,
             "test": [
              0.07169514094
             ]
            },
            {
             "iteration": 66,
             "learn": [
              0.06858108134
             ],
             "passed_time": 25.30337371,
             "remaining_time": 12.46285571,
             "test": [
              0.06954673551
             ]
            },
            {
             "iteration": 67,
             "learn": [
              0.06654001307
             ],
             "passed_time": 25.62384125,
             "remaining_time": 12.05827824,
             "test": [
              0.06746715765
             ]
            },
            {
             "iteration": 68,
             "learn": [
              0.06456316653
             ],
             "passed_time": 26.00227885,
             "remaining_time": 11.68218325,
             "test": [
              0.06539215974
             ]
            },
            {
             "iteration": 69,
             "learn": [
              0.06260325151
             ],
             "passed_time": 26.36029017,
             "remaining_time": 11.29726722,
             "test": [
              0.06337323968
             ]
            },
            {
             "iteration": 70,
             "learn": [
              0.06065644832
             ],
             "passed_time": 26.6758319,
             "remaining_time": 10.89576233,
             "test": [
              0.06148209401
             ]
            },
            {
             "iteration": 71,
             "learn": [
              0.05875887397
             ],
             "passed_time": 27.02156572,
             "remaining_time": 10.50838667,
             "test": [
              0.05957986268
             ]
            },
            {
             "iteration": 72,
             "learn": [
              0.0569532991
             ],
             "passed_time": 27.36976614,
             "remaining_time": 10.12306419,
             "test": [
              0.05780924843
             ]
            },
            {
             "iteration": 73,
             "learn": [
              0.05551779695
             ],
             "passed_time": 27.70013316,
             "remaining_time": 9.732479218,
             "test": [
              0.0560343605
             ]
            },
            {
             "iteration": 74,
             "learn": [
              0.05375774049
             ],
             "passed_time": 28.01120109,
             "remaining_time": 9.337067029,
             "test": [
              0.0543174875
             ]
            },
            {
             "iteration": 75,
             "learn": [
              0.05192529154
             ],
             "passed_time": 28.35359419,
             "remaining_time": 8.953766588,
             "test": [
              0.05265315096
             ]
            },
            {
             "iteration": 76,
             "learn": [
              0.05061130978
             ],
             "passed_time": 28.72262079,
             "remaining_time": 8.579484131,
             "test": [
              0.05104720501
             ]
            },
            {
             "iteration": 77,
             "learn": [
              0.04891586775
             ],
             "passed_time": 29.08391559,
             "remaining_time": 8.203155679,
             "test": [
              0.04949363172
             ]
            },
            {
             "iteration": 78,
             "learn": [
              0.04739495837
             ],
             "passed_time": 29.41066775,
             "remaining_time": 7.818025604,
             "test": [
              0.04798693873
             ]
            },
            {
             "iteration": 79,
             "learn": [
              0.04598464417
             ],
             "passed_time": 29.77639599,
             "remaining_time": 7.444098997,
             "test": [
              0.04652566998
             ]
            },
            {
             "iteration": 80,
             "learn": [
              0.04472568656
             ],
             "passed_time": 30.12289404,
             "remaining_time": 7.065864033,
             "test": [
              0.04515017418
             ]
            },
            {
             "iteration": 81,
             "learn": [
              0.04316928949
             ],
             "passed_time": 30.46126471,
             "remaining_time": 6.686619083,
             "test": [
              0.04378362512
             ]
            },
            {
             "iteration": 82,
             "learn": [
              0.04203983249
             ],
             "passed_time": 30.82046933,
             "remaining_time": 6.312626248,
             "test": [
              0.04249361527
             ]
            },
            {
             "iteration": 83,
             "learn": [
              0.04079361547
             ],
             "passed_time": 31.21426999,
             "remaining_time": 5.945575236,
             "test": [
              0.04122371342
             ]
            },
            {
             "iteration": 84,
             "learn": [
              0.03943427328
             ],
             "passed_time": 31.60927358,
             "remaining_time": 5.578107102,
             "test": [
              0.04001315439
             ]
            },
            {
             "iteration": 85,
             "learn": [
              0.03821934407
             ],
             "passed_time": 31.97754255,
             "remaining_time": 5.205646461,
             "test": [
              0.03884011138
             ]
            },
            {
             "iteration": 86,
             "learn": [
              0.03718447249
             ],
             "passed_time": 32.32889381,
             "remaining_time": 4.830754247,
             "test": [
              0.03770195779
             ]
            },
            {
             "iteration": 87,
             "learn": [
              0.03613363135
             ],
             "passed_time": 32.66331095,
             "remaining_time": 4.454087856,
             "test": [
              0.03660043125
             ]
            },
            {
             "iteration": 88,
             "learn": [
              0.03495987104
             ],
             "passed_time": 32.94592523,
             "remaining_time": 4.071968287,
             "test": [
              0.03553288376
             ]
            },
            {
             "iteration": 89,
             "learn": [
              0.03391444898
             ],
             "passed_time": 33.32655004,
             "remaining_time": 3.702950005,
             "test": [
              0.0344584003
             ]
            },
            {
             "iteration": 90,
             "learn": [
              0.03290324805
             ],
             "passed_time": 33.69476402,
             "remaining_time": 3.332449189,
             "test": [
              0.03343009119
             ]
            },
            {
             "iteration": 91,
             "learn": [
              0.03191176822
             ],
             "passed_time": 34.05476686,
             "remaining_time": 2.961284075,
             "test": [
              0.03245968708
             ]
            },
            {
             "iteration": 92,
             "learn": [
              0.0309350932
             ],
             "passed_time": 34.41507869,
             "remaining_time": 2.590382267,
             "test": [
              0.03148289577
             ]
            },
            {
             "iteration": 93,
             "learn": [
              0.0300013482
             ],
             "passed_time": 34.83826929,
             "remaining_time": 2.223719317,
             "test": [
              0.03057096863
             ]
            },
            {
             "iteration": 94,
             "learn": [
              0.02908273822
             ],
             "passed_time": 35.18773012,
             "remaining_time": 1.851985796,
             "test": [
              0.0296487461
             ]
            },
            {
             "iteration": 95,
             "learn": [
              0.02831269603
             ],
             "passed_time": 35.45642085,
             "remaining_time": 1.477350869,
             "test": [
              0.02879183865
             ]
            },
            {
             "iteration": 96,
             "learn": [
              0.02741655529
             ],
             "passed_time": 35.80214348,
             "remaining_time": 1.107282788,
             "test": [
              0.02792514847
             ]
            },
            {
             "iteration": 97,
             "learn": [
              0.02652819892
             ],
             "passed_time": 36.1559913,
             "remaining_time": 0.7378773734,
             "test": [
              0.02712158418
             ]
            },
            {
             "iteration": 98,
             "learn": [
              0.02585116208
             ],
             "passed_time": 36.48442564,
             "remaining_time": 0.368529552,
             "test": [
              0.02634214464
             ]
            },
            {
             "iteration": 99,
             "learn": [
              0.02499220953
             ],
             "passed_time": 36.80388766,
             "remaining_time": 0,
             "test": [
              0.02554794298
             ]
            }
           ],
           "meta": {
            "iteration_count": 100,
            "launch_mode": "Train",
            "learn_metrics": [
             {
              "best_value": "Min",
              "name": "CrossEntropy"
             }
            ],
            "learn_sets": [
             "learn"
            ],
            "name": "experiment",
            "parameters": "",
            "test_metrics": [
             {
              "best_value": "Min",
              "name": "CrossEntropy"
             }
            ],
            "test_sets": [
             "test"
            ]
           }
          },
          "passed_iterations": 99,
          "total_iterations": 100
         },
         "name": "catboost_info",
         "path": "catboost_info"
        }
       },
       "layout": "IPY_MODEL_bc4f67fc201a4b06b0a2b7ccde16ced1"
      }
     },
     "645b47749d6f4e5ab68631e62c119416": {
      "model_module": "@jupyter-widgets/base",
      "model_module_version": "1.2.0",
      "model_name": "LayoutModel",
      "state": {
       "_model_module": "@jupyter-widgets/base",
       "_model_module_version": "1.2.0",
       "_model_name": "LayoutModel",
       "_view_count": null,
       "_view_module": "@jupyter-widgets/base",
       "_view_module_version": "1.2.0",
       "_view_name": "LayoutView",
       "align_content": null,
       "align_items": null,
       "align_self": "stretch",
       "border": null,
       "bottom": null,
       "display": null,
       "flex": null,
       "flex_flow": null,
       "grid_area": null,
       "grid_auto_columns": null,
       "grid_auto_flow": null,
       "grid_auto_rows": null,
       "grid_column": null,
       "grid_gap": null,
       "grid_row": null,
       "grid_template_areas": null,
       "grid_template_columns": null,
       "grid_template_rows": null,
       "height": "500px",
       "justify_content": null,
       "justify_items": null,
       "left": null,
       "margin": null,
       "max_height": null,
       "max_width": null,
       "min_height": null,
       "min_width": null,
       "object_fit": null,
       "object_position": null,
       "order": null,
       "overflow": null,
       "overflow_x": null,
       "overflow_y": null,
       "padding": null,
       "right": null,
       "top": null,
       "visibility": null,
       "width": null
      }
     },
     "71d5cd4ce9664d15b5d5a6788439dfa6": {
      "model_module": "@jupyter-widgets/base",
      "model_module_version": "1.2.0",
      "model_name": "LayoutModel",
      "state": {
       "_model_module": "@jupyter-widgets/base",
       "_model_module_version": "1.2.0",
       "_model_name": "LayoutModel",
       "_view_count": null,
       "_view_module": "@jupyter-widgets/base",
       "_view_module_version": "1.2.0",
       "_view_name": "LayoutView",
       "align_content": null,
       "align_items": null,
       "align_self": "stretch",
       "border": null,
       "bottom": null,
       "display": null,
       "flex": null,
       "flex_flow": null,
       "grid_area": null,
       "grid_auto_columns": null,
       "grid_auto_flow": null,
       "grid_auto_rows": null,
       "grid_column": null,
       "grid_gap": null,
       "grid_row": null,
       "grid_template_areas": null,
       "grid_template_columns": null,
       "grid_template_rows": null,
       "height": "500px",
       "justify_content": null,
       "justify_items": null,
       "left": null,
       "margin": null,
       "max_height": null,
       "max_width": null,
       "min_height": null,
       "min_width": null,
       "object_fit": null,
       "object_position": null,
       "order": null,
       "overflow": null,
       "overflow_x": null,
       "overflow_y": null,
       "padding": null,
       "right": null,
       "top": null,
       "visibility": null,
       "width": null
      }
     },
     "7201baab24cf42b2aa86d108c751b5ee": {
      "model_module": "catboost-widget",
      "model_module_version": "^1.0.0",
      "model_name": "CatboostWidgetModel",
      "state": {
       "_dom_classes": [],
       "_model_module": "catboost-widget",
       "_model_module_version": "^1.0.0",
       "_model_name": "CatboostWidgetModel",
       "_view_count": null,
       "_view_module": "catboost-widget",
       "_view_module_version": "^1.0.0",
       "_view_name": "CatboostWidgetView",
       "data": {
        "catboost_info": {
         "content": {
          "data": {
           "iterations": [
            {
             "iteration": 0,
             "learn": [
              0.6733561212
             ],
             "passed_time": 0.3596558297,
             "remaining_time": 35.60592714,
             "test": [
              0.6727527821
             ]
            },
            {
             "iteration": 1,
             "learn": [
              0.6522709029
             ],
             "passed_time": 0.6939807301,
             "remaining_time": 34.00505578,
             "test": [
              0.6528064836
             ]
            },
            {
             "iteration": 2,
             "learn": [
              0.6335547524
             ],
             "passed_time": 1.017052167,
             "remaining_time": 32.88468673,
             "test": [
              0.6340827793
             ]
            },
            {
             "iteration": 3,
             "learn": [
              0.6164061178
             ],
             "passed_time": 1.368813017,
             "remaining_time": 32.85151241,
             "test": [
              0.6169022181
             ]
            },
            {
             "iteration": 4,
             "learn": [
              0.6000249173
             ],
             "passed_time": 1.719141489,
             "remaining_time": 32.66368828,
             "test": [
              0.6008001603
             ]
            },
            {
             "iteration": 5,
             "learn": [
              0.5837060413
             ],
             "passed_time": 2.04698388,
             "remaining_time": 32.06941413,
             "test": [
              0.5848635909
             ]
            },
            {
             "iteration": 6,
             "learn": [
              0.5691034203
             ],
             "passed_time": 2.403296354,
             "remaining_time": 31.9295087,
             "test": [
              0.5704214549
             ]
            },
            {
             "iteration": 7,
             "learn": [
              0.5552146232
             ],
             "passed_time": 2.767923203,
             "remaining_time": 31.83111683,
             "test": [
              0.5566488098
             ]
            },
            {
             "iteration": 8,
             "learn": [
              0.5412318408
             ],
             "passed_time": 3.114194739,
             "remaining_time": 31.48796903,
             "test": [
              0.5434233047
             ]
            },
            {
             "iteration": 9,
             "learn": [
              0.5272981349
             ],
             "passed_time": 3.414416752,
             "remaining_time": 30.72975077,
             "test": [
              0.5297396215
             ]
            },
            {
             "iteration": 10,
             "learn": [
              0.5151240292
             ],
             "passed_time": 3.781033609,
             "remaining_time": 30.5919992,
             "test": [
              0.5177842112
             ]
            },
            {
             "iteration": 11,
             "learn": [
              0.5026578469
             ],
             "passed_time": 4.105027839,
             "remaining_time": 30.10353749,
             "test": [
              0.5052223275
             ]
            },
            {
             "iteration": 12,
             "learn": [
              0.491951869
             ],
             "passed_time": 4.42246873,
             "remaining_time": 29.5965215,
             "test": [
              0.4942199362
             ]
            },
            {
             "iteration": 13,
             "learn": [
              0.4803520088
             ],
             "passed_time": 4.722775313,
             "remaining_time": 29.01133406,
             "test": [
              0.4827376903
             ]
            },
            {
             "iteration": 14,
             "learn": [
              0.4695457766
             ],
             "passed_time": 5.056139515,
             "remaining_time": 28.65145725,
             "test": [
              0.4724357382
             ]
            },
            {
             "iteration": 15,
             "learn": [
              0.4593147749
             ],
             "passed_time": 5.378694237,
             "remaining_time": 28.23814475,
             "test": [
              0.4619604646
             ]
            },
            {
             "iteration": 16,
             "learn": [
              0.4498187309
             ],
             "passed_time": 5.736555734,
             "remaining_time": 28.00788976,
             "test": [
              0.4525379211
             ]
            },
            {
             "iteration": 17,
             "learn": [
              0.4403492698
             ],
             "passed_time": 6.02887402,
             "remaining_time": 27.46487054,
             "test": [
              0.4430774418
             ]
            },
            {
             "iteration": 18,
             "learn": [
              0.4303712466
             ],
             "passed_time": 6.364042443,
             "remaining_time": 27.13091778,
             "test": [
              0.4337360824
             ]
            },
            {
             "iteration": 19,
             "learn": [
              0.4215638979
             ],
             "passed_time": 6.696651801,
             "remaining_time": 26.7866072,
             "test": [
              0.4244153613
             ]
            },
            {
             "iteration": 20,
             "learn": [
              0.4127626409
             ],
             "passed_time": 7.033304576,
             "remaining_time": 26.45862198,
             "test": [
              0.4157328083
             ]
            },
            {
             "iteration": 21,
             "learn": [
              0.4040508948
             ],
             "passed_time": 7.383320837,
             "remaining_time": 26.17722842,
             "test": [
              0.4071121013
             ]
            },
            {
             "iteration": 22,
             "learn": [
              0.3959448906
             ],
             "passed_time": 7.714547201,
             "remaining_time": 25.82696237,
             "test": [
              0.3992022411
             ]
            },
            {
             "iteration": 23,
             "learn": [
              0.3878526206
             ],
             "passed_time": 8.109404198,
             "remaining_time": 25.67977996,
             "test": [
              0.3907851659
             ]
            },
            {
             "iteration": 24,
             "learn": [
              0.3801693223
             ],
             "passed_time": 8.473088377,
             "remaining_time": 25.41926513,
             "test": [
              0.3832655135
             ]
            },
            {
             "iteration": 25,
             "learn": [
              0.3725614383
             ],
             "passed_time": 8.867540945,
             "remaining_time": 25.23838577,
             "test": [
              0.3755201899
             ]
            },
            {
             "iteration": 26,
             "learn": [
              0.3656613452
             ],
             "passed_time": 9.215066952,
             "remaining_time": 24.91481065,
             "test": [
              0.3684926005
             ]
            },
            {
             "iteration": 27,
             "learn": [
              0.359220325
             ],
             "passed_time": 9.581886433,
             "remaining_time": 24.63913654,
             "test": [
              0.3622351411
             ]
            },
            {
             "iteration": 28,
             "learn": [
              0.352299499
             ],
             "passed_time": 9.988198528,
             "remaining_time": 24.45386536,
             "test": [
              0.355213754
             ]
            },
            {
             "iteration": 29,
             "learn": [
              0.3456555111
             ],
             "passed_time": 10.38351946,
             "remaining_time": 24.22821207,
             "test": [
              0.3483127553
             ]
            },
            {
             "iteration": 30,
             "learn": [
              0.3394878924
             ],
             "passed_time": 10.77028592,
             "remaining_time": 23.97257188,
             "test": [
              0.3421123532
             ]
            },
            {
             "iteration": 31,
             "learn": [
              0.3333298745
             ],
             "passed_time": 11.17177912,
             "remaining_time": 23.74003062,
             "test": [
              0.3359441383
             ]
            },
            {
             "iteration": 32,
             "learn": [
              0.3276959674
             ],
             "passed_time": 11.50622928,
             "remaining_time": 23.36113217,
             "test": [
              0.3302009806
             ]
            },
            {
             "iteration": 33,
             "learn": [
              0.3220370424
             ],
             "passed_time": 11.93752323,
             "remaining_time": 23.17283921,
             "test": [
              0.3243456714
             ]
            },
            {
             "iteration": 34,
             "learn": [
              0.3164531903
             ],
             "passed_time": 12.30991208,
             "remaining_time": 22.8612653,
             "test": [
              0.3185711962
             ]
            },
            {
             "iteration": 35,
             "learn": [
              0.3113721511
             ],
             "passed_time": 12.66691928,
             "remaining_time": 22.51896761,
             "test": [
              0.3134059285
             ]
            },
            {
             "iteration": 36,
             "learn": [
              0.3062647465
             ],
             "passed_time": 12.99867736,
             "remaining_time": 22.13288308,
             "test": [
              0.3083320878
             ]
            },
            {
             "iteration": 37,
             "learn": [
              0.3011499495
             ],
             "passed_time": 13.34533487,
             "remaining_time": 21.77396742,
             "test": [
              0.3030171662
             ]
            },
            {
             "iteration": 38,
             "learn": [
              0.2962503397
             ],
             "passed_time": 13.70620207,
             "remaining_time": 21.4379058,
             "test": [
              0.2983132625
             ]
            },
            {
             "iteration": 39,
             "learn": [
              0.2915263603
             ],
             "passed_time": 14.1015649,
             "remaining_time": 21.15234735,
             "test": [
              0.2935339744
             ]
            },
            {
             "iteration": 40,
             "learn": [
              0.2868672152
             ],
             "passed_time": 14.47859326,
             "remaining_time": 20.83504883,
             "test": [
              0.2890079101
             ]
            },
            {
             "iteration": 41,
             "learn": [
              0.2825359953
             ],
             "passed_time": 14.83010087,
             "remaining_time": 20.4796631,
             "test": [
              0.2845828133
             ]
            },
            {
             "iteration": 42,
             "learn": [
              0.2785670889
             ],
             "passed_time": 15.1890306,
             "remaining_time": 20.13429638,
             "test": [
              0.2805640961
             ]
            },
            {
             "iteration": 43,
             "learn": [
              0.2747943355
             ],
             "passed_time": 15.55495376,
             "remaining_time": 19.79721387,
             "test": [
              0.2767014345
             ]
            },
            {
             "iteration": 44,
             "learn": [
              0.2705439352
             ],
             "passed_time": 15.89554035,
             "remaining_time": 19.42788265,
             "test": [
              0.2723060648
             ]
            },
            {
             "iteration": 45,
             "learn": [
              0.2668619639
             ],
             "passed_time": 16.25747001,
             "remaining_time": 19.0848561,
             "test": [
              0.2686118907
             ]
            },
            {
             "iteration": 46,
             "learn": [
              0.2633509802
             ],
             "passed_time": 16.60684042,
             "remaining_time": 18.7268626,
             "test": [
              0.2651250664
             ]
            },
            {
             "iteration": 47,
             "learn": [
              0.2594697083
             ],
             "passed_time": 16.94421885,
             "remaining_time": 18.35623709,
             "test": [
              0.2609750417
             ]
            },
            {
             "iteration": 48,
             "learn": [
              0.2556356298
             ],
             "passed_time": 17.30390516,
             "remaining_time": 18.010187,
             "test": [
              0.2571437481
             ]
            },
            {
             "iteration": 49,
             "learn": [
              0.2520399555
             ],
             "passed_time": 17.63487358,
             "remaining_time": 17.63487358,
             "test": [
              0.2533184799
             ]
            },
            {
             "iteration": 50,
             "learn": [
              0.2484562125
             ],
             "passed_time": 18.0628389,
             "remaining_time": 17.35449228,
             "test": [
              0.2495484855
             ]
            },
            {
             "iteration": 51,
             "learn": [
              0.2451860482
             ],
             "passed_time": 18.39754678,
             "remaining_time": 16.98235088,
             "test": [
              0.2460643628
             ]
            },
            {
             "iteration": 52,
             "learn": [
              0.2420585979
             ],
             "passed_time": 18.84248224,
             "remaining_time": 16.70937105,
             "test": [
              0.242835094
             ]
            },
            {
             "iteration": 53,
             "learn": [
              0.2388465355
             ],
             "passed_time": 19.19958858,
             "remaining_time": 16.35520509,
             "test": [
              0.2398514425
             ]
            },
            {
             "iteration": 54,
             "learn": [
              0.235828445
             ],
             "passed_time": 19.5615348,
             "remaining_time": 16.00489211,
             "test": [
              0.2367695342
             ]
            },
            {
             "iteration": 55,
             "learn": [
              0.232735153
             ],
             "passed_time": 19.89793485,
             "remaining_time": 15.63409167,
             "test": [
              0.2335503371
             ]
            },
            {
             "iteration": 56,
             "learn": [
              0.2298480221
             ],
             "passed_time": 20.28459889,
             "remaining_time": 15.3024167,
             "test": [
              0.2308371407
             ]
            },
            {
             "iteration": 57,
             "learn": [
              0.2273086393
             ],
             "passed_time": 20.61753891,
             "remaining_time": 14.92994197,
             "test": [
              0.2283963944
             ]
            },
            {
             "iteration": 58,
             "learn": [
              0.224551661
             ],
             "passed_time": 20.99356729,
             "remaining_time": 14.58875015,
             "test": [
              0.225585556
             ]
            },
            {
             "iteration": 59,
             "learn": [
              0.2218882051
             ],
             "passed_time": 21.35894536,
             "remaining_time": 14.23929691,
             "test": [
              0.2228449658
             ]
            },
            {
             "iteration": 60,
             "learn": [
              0.2194459199
             ],
             "passed_time": 21.69235154,
             "remaining_time": 13.86888049,
             "test": [
              0.2204112135
             ]
            },
            {
             "iteration": 61,
             "learn": [
              0.2171956115
             ],
             "passed_time": 22.041247,
             "remaining_time": 13.50915139,
             "test": [
              0.2182319861
             ]
            },
            {
             "iteration": 62,
             "learn": [
              0.2147022821
             ],
             "passed_time": 22.40386046,
             "remaining_time": 13.15782281,
             "test": [
              0.2156804607
             ]
            },
            {
             "iteration": 63,
             "learn": [
              0.2122001275
             ],
             "passed_time": 22.78531271,
             "remaining_time": 12.8167384,
             "test": [
              0.2131999734
             ]
            },
            {
             "iteration": 64,
             "learn": [
              0.2101509829
             ],
             "passed_time": 23.12964622,
             "remaining_time": 12.45442489,
             "test": [
              0.2111952952
             ]
            },
            {
             "iteration": 65,
             "learn": [
              0.2078036134
             ],
             "passed_time": 23.50095245,
             "remaining_time": 12.10655126,
             "test": [
              0.2087832504
             ]
            },
            {
             "iteration": 66,
             "learn": [
              0.2056794781
             ],
             "passed_time": 23.82224745,
             "remaining_time": 11.73334576,
             "test": [
              0.2066401442
             ]
            },
            {
             "iteration": 67,
             "learn": [
              0.2034384855
             ],
             "passed_time": 24.19498129,
             "remaining_time": 11.38587355,
             "test": [
              0.2045305437
             ]
            },
            {
             "iteration": 68,
             "learn": [
              0.2013088267
             ],
             "passed_time": 24.5547836,
             "remaining_time": 11.0318593,
             "test": [
              0.2024085159
             ]
            },
            {
             "iteration": 69,
             "learn": [
              0.1994387721
             ],
             "passed_time": 24.88949228,
             "remaining_time": 10.66692526,
             "test": [
              0.2005722498
             ]
            },
            {
             "iteration": 70,
             "learn": [
              0.1971861278
             ],
             "passed_time": 25.27932154,
             "remaining_time": 10.32535668,
             "test": [
              0.1983286412
             ]
            },
            {
             "iteration": 71,
             "learn": [
              0.195575687
             ],
             "passed_time": 25.53258669,
             "remaining_time": 9.929339269,
             "test": [
              0.1967402952
             ]
            },
            {
             "iteration": 72,
             "learn": [
              0.1935707078
             ],
             "passed_time": 25.89823795,
             "remaining_time": 9.578800338,
             "test": [
              0.1947639459
             ]
            },
            {
             "iteration": 73,
             "learn": [
              0.1918549475
             ],
             "passed_time": 26.24306775,
             "remaining_time": 9.220537317,
             "test": [
              0.1931678215
             ]
            },
            {
             "iteration": 74,
             "learn": [
              0.1897423747
             ],
             "passed_time": 26.59201126,
             "remaining_time": 8.864003752,
             "test": [
              0.1909255867
             ]
            },
            {
             "iteration": 75,
             "learn": [
              0.1882624807
             ],
             "passed_time": 26.94484566,
             "remaining_time": 8.50889863,
             "test": [
              0.1895802084
             ]
            },
            {
             "iteration": 76,
             "learn": [
              0.1863072416
             ],
             "passed_time": 27.46524343,
             "remaining_time": 8.203903883,
             "test": [
              0.1875743027
             ]
            },
            {
             "iteration": 77,
             "learn": [
              0.1844913689
             ],
             "passed_time": 27.86202322,
             "remaining_time": 7.858519369,
             "test": [
              0.1857987029
             ]
            },
            {
             "iteration": 78,
             "learn": [
              0.1829073049
             ],
             "passed_time": 28.208833,
             "remaining_time": 7.498550546,
             "test": [
              0.1840850811
             ]
            },
            {
             "iteration": 79,
             "learn": [
              0.1816170939
             ],
             "passed_time": 28.47902458,
             "remaining_time": 7.119756146,
             "test": [
              0.18270079
             ]
            },
            {
             "iteration": 80,
             "learn": [
              0.1798304138
             ],
             "passed_time": 28.84159602,
             "remaining_time": 6.765312648,
             "test": [
              0.1808119081
             ]
            },
            {
             "iteration": 81,
             "learn": [
              0.1780785531
             ],
             "passed_time": 29.22516045,
             "remaining_time": 6.415279124,
             "test": [
              0.1792272464
             ]
            },
            {
             "iteration": 82,
             "learn": [
              0.1765894357
             ],
             "passed_time": 29.52387082,
             "remaining_time": 6.047057878,
             "test": [
              0.1778182662
             ]
            },
            {
             "iteration": 83,
             "learn": [
              0.1749754567
             ],
             "passed_time": 29.89783527,
             "remaining_time": 5.694825766,
             "test": [
              0.1763483521
             ]
            },
            {
             "iteration": 84,
             "learn": [
              0.1732602127
             ],
             "passed_time": 30.28796123,
             "remaining_time": 5.344934335,
             "test": [
              0.1747666946
             ]
            },
            {
             "iteration": 85,
             "learn": [
              0.171505549
             ],
             "passed_time": 30.68073853,
             "remaining_time": 4.994538831,
             "test": [
              0.1728066833
             ]
            },
            {
             "iteration": 86,
             "learn": [
              0.1700184002
             ],
             "passed_time": 30.99541424,
             "remaining_time": 4.63149868,
             "test": [
              0.1713369948
             ]
            },
            {
             "iteration": 87,
             "learn": [
              0.168542091
             ],
             "passed_time": 31.36612824,
             "remaining_time": 4.277199305,
             "test": [
              0.1698146003
             ]
            },
            {
             "iteration": 88,
             "learn": [
              0.1669440052
             ],
             "passed_time": 31.7637783,
             "remaining_time": 3.92586024,
             "test": [
              0.1681818112
             ]
            },
            {
             "iteration": 89,
             "learn": [
              0.1658388234
             ],
             "passed_time": 32.01030677,
             "remaining_time": 3.556700753,
             "test": [
              0.1671340032
             ]
            },
            {
             "iteration": 90,
             "learn": [
              0.1643146406
             ],
             "passed_time": 32.36054778,
             "remaining_time": 3.200493736,
             "test": [
              0.165622352
             ]
            },
            {
             "iteration": 91,
             "learn": [
              0.1626236912
             ],
             "passed_time": 32.83196246,
             "remaining_time": 2.854953257,
             "test": [
              0.1638679312
             ]
            },
            {
             "iteration": 92,
             "learn": [
              0.1616265335
             ],
             "passed_time": 33.08216313,
             "remaining_time": 2.49005529,
             "test": [
              0.1628508078
             ]
            },
            {
             "iteration": 93,
             "learn": [
              0.1606534834
             ],
             "passed_time": 33.32712369,
             "remaining_time": 2.127263214,
             "test": [
              0.1619251397
             ]
            },
            {
             "iteration": 94,
             "learn": [
              0.1593106595
             ],
             "passed_time": 33.65278218,
             "remaining_time": 1.771199062,
             "test": [
              0.1604207248
             ]
            },
            {
             "iteration": 95,
             "learn": [
              0.1578595158
             ],
             "passed_time": 34.00335655,
             "remaining_time": 1.416806523,
             "test": [
              0.1590546752
             ]
            },
            {
             "iteration": 96,
             "learn": [
              0.1565728585
             ],
             "passed_time": 34.34693732,
             "remaining_time": 1.062276412,
             "test": [
              0.1577911469
             ]
            },
            {
             "iteration": 97,
             "learn": [
              0.155739754
             ],
             "passed_time": 34.59515278,
             "remaining_time": 0.7060235262,
             "test": [
              0.1568658952
             ]
            },
            {
             "iteration": 98,
             "learn": [
              0.1543573401
             ],
             "passed_time": 34.94822916,
             "remaining_time": 0.3530124157,
             "test": [
              0.1554989972
             ]
            },
            {
             "iteration": 99,
             "learn": [
              0.1531774716
             ],
             "passed_time": 35.26927538,
             "remaining_time": 0,
             "test": [
              0.1544304842
             ]
            }
           ],
           "meta": {
            "iteration_count": 100,
            "launch_mode": "Train",
            "learn_metrics": [
             {
              "best_value": "Min",
              "name": "CrossEntropy"
             }
            ],
            "learn_sets": [
             "learn"
            ],
            "name": "experiment",
            "parameters": "",
            "test_metrics": [
             {
              "best_value": "Min",
              "name": "CrossEntropy"
             }
            ],
            "test_sets": [
             "test"
            ]
           }
          },
          "passed_iterations": 99,
          "total_iterations": 100
         },
         "name": "catboost_info",
         "path": "catboost_info"
        }
       },
       "layout": "IPY_MODEL_4373b487570c4af68c261e77d7c0e5f7"
      }
     },
     "77ee592d25544b02a6e1f4e24e6b0fbd": {
      "model_module": "@jupyter-widgets/base",
      "model_module_version": "1.2.0",
      "model_name": "LayoutModel",
      "state": {
       "_model_module": "@jupyter-widgets/base",
       "_model_module_version": "1.2.0",
       "_model_name": "LayoutModel",
       "_view_count": null,
       "_view_module": "@jupyter-widgets/base",
       "_view_module_version": "1.2.0",
       "_view_name": "LayoutView",
       "align_content": null,
       "align_items": null,
       "align_self": "stretch",
       "border": null,
       "bottom": null,
       "display": null,
       "flex": null,
       "flex_flow": null,
       "grid_area": null,
       "grid_auto_columns": null,
       "grid_auto_flow": null,
       "grid_auto_rows": null,
       "grid_column": null,
       "grid_gap": null,
       "grid_row": null,
       "grid_template_areas": null,
       "grid_template_columns": null,
       "grid_template_rows": null,
       "height": "500px",
       "justify_content": null,
       "justify_items": null,
       "left": null,
       "margin": null,
       "max_height": null,
       "max_width": null,
       "min_height": null,
       "min_width": null,
       "object_fit": null,
       "object_position": null,
       "order": null,
       "overflow": null,
       "overflow_x": null,
       "overflow_y": null,
       "padding": null,
       "right": null,
       "top": null,
       "visibility": null,
       "width": null
      }
     },
     "7f953c150e524ad7bdc4f8d85ab9066f": {
      "model_module": "catboost-widget",
      "model_module_version": "^1.0.0",
      "model_name": "CatboostWidgetModel",
      "state": {
       "_dom_classes": [],
       "_model_module": "catboost-widget",
       "_model_module_version": "^1.0.0",
       "_model_name": "CatboostWidgetModel",
       "_view_count": null,
       "_view_module": "catboost-widget",
       "_view_module_version": "^1.0.0",
       "_view_name": "CatboostWidgetView",
       "data": {
        "catboost_info": {
         "content": {
          "data": {
           "iterations": [
            {
             "iteration": 0,
             "learn": [
              0.6620633162
             ],
             "passed_time": 0.4575369018,
             "remaining_time": 45.29615327,
             "test": [
              0.6639361336
             ]
            },
            {
             "iteration": 1,
             "learn": [
              0.6371670706
             ],
             "passed_time": 0.9378178703,
             "remaining_time": 45.95307564,
             "test": [
              0.6365107263
             ]
            },
            {
             "iteration": 2,
             "learn": [
              0.6108580311
             ],
             "passed_time": 1.301831747,
             "remaining_time": 42.09255982,
             "test": [
              0.610562289
             ]
            },
            {
             "iteration": 3,
             "learn": [
              0.5858497433
             ],
             "passed_time": 1.616171871,
             "remaining_time": 38.78812491,
             "test": [
              0.5859632877
             ]
            },
            {
             "iteration": 4,
             "learn": [
              0.5644299189
             ],
             "passed_time": 1.948393778,
             "remaining_time": 37.01948178,
             "test": [
              0.5626920263
             ]
            },
            {
             "iteration": 5,
             "learn": [
              0.5407597227
             ],
             "passed_time": 2.284376678,
             "remaining_time": 35.78856796,
             "test": [
              0.5406645347
             ]
            },
            {
             "iteration": 6,
             "learn": [
              0.5199692529
             ],
             "passed_time": 2.606013297,
             "remaining_time": 34.62274809,
             "test": [
              0.5197292923
             ]
            },
            {
             "iteration": 7,
             "learn": [
              0.5019335853
             ],
             "passed_time": 2.909289873,
             "remaining_time": 33.45683354,
             "test": [
              0.4998653125
             ]
            },
            {
             "iteration": 8,
             "learn": [
              0.4821820718
             ],
             "passed_time": 3.222237733,
             "remaining_time": 32.58040375,
             "test": [
              0.4809168689
             ]
            },
            {
             "iteration": 9,
             "learn": [
              0.4645175641
             ],
             "passed_time": 3.560557697,
             "remaining_time": 32.04501927,
             "test": [
              0.4629356677
             ]
            },
            {
             "iteration": 10,
             "learn": [
              0.4479314277
             ],
             "passed_time": 3.875103885,
             "remaining_time": 31.35311325,
             "test": [
              0.4458476954
             ]
            },
            {
             "iteration": 11,
             "learn": [
              0.4323372016
             ],
             "passed_time": 4.21940844,
             "remaining_time": 30.94232856,
             "test": [
              0.4295980643
             ]
            },
            {
             "iteration": 12,
             "learn": [
              0.4166387321
             ],
             "passed_time": 4.587617345,
             "remaining_time": 30.70174685,
             "test": [
              0.4140148358
             ]
            },
            {
             "iteration": 13,
             "learn": [
              0.4015643523
             ],
             "passed_time": 4.94573426,
             "remaining_time": 30.38093902,
             "test": [
              0.3991052722
             ]
            },
            {
             "iteration": 14,
             "learn": [
              0.3874405873
             ],
             "passed_time": 5.277181365,
             "remaining_time": 29.90402773,
             "test": [
              0.3848633689
             ]
            },
            {
             "iteration": 15,
             "learn": [
              0.3727120733
             ],
             "passed_time": 5.619616817,
             "remaining_time": 29.50298829,
             "test": [
              0.3712204704
             ]
            },
            {
             "iteration": 16,
             "learn": [
              0.3596064456
             ],
             "passed_time": 5.974620616,
             "remaining_time": 29.17020654,
             "test": [
              0.3581170506
             ]
            },
            {
             "iteration": 17,
             "learn": [
              0.348746696
             ],
             "passed_time": 6.286645183,
             "remaining_time": 28.63916139,
             "test": [
              0.3456426442
             ]
            },
            {
             "iteration": 18,
             "learn": [
              0.3360156513
             ],
             "passed_time": 6.637636221,
             "remaining_time": 28.29729126,
             "test": [
              0.333679901
             ]
            },
            {
             "iteration": 19,
             "learn": [
              0.325558683
             ],
             "passed_time": 6.979998692,
             "remaining_time": 27.91999477,
             "test": [
              0.322217871
             ]
            },
            {
             "iteration": 20,
             "learn": [
              0.3132579215
             ],
             "passed_time": 7.346236267,
             "remaining_time": 27.63584119,
             "test": [
              0.3112282973
             ]
            },
            {
             "iteration": 21,
             "learn": [
              0.3031458527
             ],
             "passed_time": 7.6713042,
             "remaining_time": 27.19826035,
             "test": [
              0.3006186551
             ]
            },
            {
             "iteration": 22,
             "learn": [
              0.2931069776
             ],
             "passed_time": 7.99467344,
             "remaining_time": 26.7647763,
             "test": [
              0.2904488963
             ]
            },
            {
             "iteration": 23,
             "learn": [
              0.2831368802
             ],
             "passed_time": 8.340229926,
             "remaining_time": 26.4107281,
             "test": [
              0.2806451154
             ]
            },
            {
             "iteration": 24,
             "learn": [
              0.273338411
             ],
             "passed_time": 8.670284048,
             "remaining_time": 26.01085214,
             "test": [
              0.2713772317
             ]
            },
            {
             "iteration": 25,
             "learn": [
              0.2648129347
             ],
             "passed_time": 8.991575081,
             "remaining_time": 25.591406,
             "test": [
              0.2623669731
             ]
            },
            {
             "iteration": 26,
             "learn": [
              0.2568219455
             ],
             "passed_time": 9.340932176,
             "remaining_time": 25.25511292,
             "test": [
              0.2537226644
             ]
            },
            {
             "iteration": 27,
             "learn": [
              0.2488989979
             ],
             "passed_time": 9.679910716,
             "remaining_time": 24.89119898,
             "test": [
              0.2453600719
             ]
            },
            {
             "iteration": 28,
             "learn": [
              0.2406812329
             ],
             "passed_time": 10.05957281,
             "remaining_time": 24.62860929,
             "test": [
              0.2373931397
             ]
            },
            {
             "iteration": 29,
             "learn": [
              0.2329591897
             ],
             "passed_time": 10.39703583,
             "remaining_time": 24.25975027,
             "test": [
              0.229603413
             ]
            },
            {
             "iteration": 30,
             "learn": [
              0.2257426598
             ],
             "passed_time": 10.75111652,
             "remaining_time": 23.92990451,
             "test": [
              0.222207563
             ]
            },
            {
             "iteration": 31,
             "learn": [
              0.218314613
             ],
             "passed_time": 11.08549662,
             "remaining_time": 23.55668032,
             "test": [
              0.2150648964
             ]
            },
            {
             "iteration": 32,
             "learn": [
              0.2109299054
             ],
             "passed_time": 11.40807978,
             "remaining_time": 23.16185895,
             "test": [
              0.2081498866
             ]
            },
            {
             "iteration": 33,
             "learn": [
              0.2041600346
             ],
             "passed_time": 11.75254518,
             "remaining_time": 22.81376418,
             "test": [
              0.2015525968
             ]
            },
            {
             "iteration": 34,
             "learn": [
              0.1987546452
             ],
             "passed_time": 12.0540723,
             "remaining_time": 22.38613428,
             "test": [
              0.1951118313
             ]
            },
            {
             "iteration": 35,
             "learn": [
              0.1917461305
             ],
             "passed_time": 12.38728804,
             "remaining_time": 22.02184541,
             "test": [
              0.1889163511
             ]
            },
            {
             "iteration": 36,
             "learn": [
              0.186448859
             ],
             "passed_time": 12.74785327,
             "remaining_time": 21.70580421,
             "test": [
              0.1829298152
             ]
            },
            {
             "iteration": 37,
             "learn": [
              0.1801045792
             ],
             "passed_time": 13.07331135,
             "remaining_time": 21.33013958,
             "test": [
              0.1771561961
             ]
            },
            {
             "iteration": 38,
             "learn": [
              0.1755111852
             ],
             "passed_time": 13.41041048,
             "remaining_time": 20.97525742,
             "test": [
              0.1715447607
             ]
            },
            {
             "iteration": 39,
             "learn": [
              0.1695222993
             ],
             "passed_time": 13.75950539,
             "remaining_time": 20.63925808,
             "test": [
              0.1661384629
             ]
            },
            {
             "iteration": 40,
             "learn": [
              0.164408163
             ],
             "passed_time": 14.09163049,
             "remaining_time": 20.27819997,
             "test": [
              0.1609626402
             ]
            },
            {
             "iteration": 41,
             "learn": [
              0.1600304626
             ],
             "passed_time": 14.45906372,
             "remaining_time": 19.96727847,
             "test": [
              0.1559672535
             ]
            },
            {
             "iteration": 42,
             "learn": [
              0.1550709443
             ],
             "passed_time": 14.80423375,
             "remaining_time": 19.62421683,
             "test": [
              0.151139898
             ]
            },
            {
             "iteration": 43,
             "learn": [
              0.15014499
             ],
             "passed_time": 15.14034455,
             "remaining_time": 19.26952943,
             "test": [
              0.1464767581
             ]
            },
            {
             "iteration": 44,
             "learn": [
              0.1454494098
             ],
             "passed_time": 15.52122507,
             "remaining_time": 18.9703862,
             "test": [
              0.1419436221
             ]
            },
            {
             "iteration": 45,
             "learn": [
              0.1412250394
             ],
             "passed_time": 15.86593064,
             "remaining_time": 18.62522293,
             "test": [
              0.1375826278
             ]
            },
            {
             "iteration": 46,
             "learn": [
              0.1372362446
             ],
             "passed_time": 16.19753627,
             "remaining_time": 18.26530686,
             "test": [
              0.133370298
             ]
            },
            {
             "iteration": 47,
             "learn": [
              0.1333353174
             ],
             "passed_time": 16.52948829,
             "remaining_time": 17.90694565,
             "test": [
              0.1293020313
             ]
            },
            {
             "iteration": 48,
             "learn": [
              0.1294735105
             ],
             "passed_time": 16.8645059,
             "remaining_time": 17.55285308,
             "test": [
              0.1254133537
             ]
            },
            {
             "iteration": 49,
             "learn": [
              0.1256172598
             ],
             "passed_time": 17.1950457,
             "remaining_time": 17.1950457,
             "test": [
              0.1216400641
             ]
            },
            {
             "iteration": 50,
             "learn": [
              0.1217924178
             ],
             "passed_time": 17.54063652,
             "remaining_time": 16.85276842,
             "test": [
              0.1180037071
             ]
            },
            {
             "iteration": 51,
             "learn": [
              0.1182826122
             ],
             "passed_time": 17.89225057,
             "remaining_time": 16.5159236,
             "test": [
              0.1144647739
             ]
            },
            {
             "iteration": 52,
             "learn": [
              0.1150447651
             ],
             "passed_time": 18.24854964,
             "remaining_time": 16.1826761,
             "test": [
              0.1110116732
             ]
            },
            {
             "iteration": 53,
             "learn": [
              0.1119112752
             ],
             "passed_time": 18.57115078,
             "remaining_time": 15.81986918,
             "test": [
              0.1077028634
             ]
            },
            {
             "iteration": 54,
             "learn": [
              0.10834011
             ],
             "passed_time": 18.90429873,
             "remaining_time": 15.4671535,
             "test": [
              0.1044599698
             ]
            },
            {
             "iteration": 55,
             "learn": [
              0.1056709908
             ],
             "passed_time": 19.24448183,
             "remaining_time": 15.1206643,
             "test": [
              0.1013721829
             ]
            },
            {
             "iteration": 56,
             "learn": [
              0.1023844886
             ],
             "passed_time": 19.61785639,
             "remaining_time": 14.79943553,
             "test": [
              0.09837240803
             ]
            },
            {
             "iteration": 57,
             "learn": [
              0.09977247426
             ],
             "passed_time": 19.96443609,
             "remaining_time": 14.45700545,
             "test": [
              0.09549427945
             ]
            },
            {
             "iteration": 58,
             "learn": [
              0.09659766475
             ],
             "passed_time": 20.30498901,
             "remaining_time": 14.1102466,
             "test": [
              0.09272741681
             ]
            },
            {
             "iteration": 59,
             "learn": [
              0.09424067756
             ],
             "passed_time": 20.62503178,
             "remaining_time": 13.75002119,
             "test": [
              0.09001543432
             ]
            },
            {
             "iteration": 60,
             "learn": [
              0.09133930686
             ],
             "passed_time": 20.97013308,
             "remaining_time": 13.40713426,
             "test": [
              0.08740137439
             ]
            },
            {
             "iteration": 61,
             "learn": [
              0.08877904007
             ],
             "passed_time": 21.30495126,
             "remaining_time": 13.05787336,
             "test": [
              0.08486711115
             ]
            },
            {
             "iteration": 62,
             "learn": [
              0.08657265056
             ],
             "passed_time": 21.62268234,
             "remaining_time": 12.69903566,
             "test": [
              0.08237467731
             ]
            },
            {
             "iteration": 63,
             "learn": [
              0.08409974711
             ],
             "passed_time": 21.96474453,
             "remaining_time": 12.3551688,
             "test": [
              0.08001481332
             ]
            },
            {
             "iteration": 64,
             "learn": [
              0.08167840211
             ],
             "passed_time": 22.27074211,
             "remaining_time": 11.99193806,
             "test": [
              0.07769231594
             ]
            },
            {
             "iteration": 65,
             "learn": [
              0.07942213009
             ],
             "passed_time": 22.60766518,
             "remaining_time": 11.64637297,
             "test": [
              0.07548160971
             ]
            },
            {
             "iteration": 66,
             "learn": [
              0.07719769212
             ],
             "passed_time": 23.01990843,
             "remaining_time": 11.33816386,
             "test": [
              0.07333599496
             ]
            },
            {
             "iteration": 67,
             "learn": [
              0.07512883789
             ],
             "passed_time": 23.3629095,
             "remaining_time": 10.99431035,
             "test": [
              0.07126895324
             ]
            },
            {
             "iteration": 68,
             "learn": [
              0.07316037494
             ],
             "passed_time": 23.67872334,
             "remaining_time": 10.63826701,
             "test": [
              0.0692207986
             ]
            },
            {
             "iteration": 69,
             "learn": [
              0.07120365696
             ],
             "passed_time": 24.01848757,
             "remaining_time": 10.29363753,
             "test": [
              0.06724491914
             ]
            },
            {
             "iteration": 70,
             "learn": [
              0.06925653835
             ],
             "passed_time": 24.35682667,
             "remaining_time": 9.948563007,
             "test": [
              0.06536230835
             ]
            },
            {
             "iteration": 71,
             "learn": [
              0.06738223534
             ],
             "passed_time": 24.68872518,
             "remaining_time": 9.601170904,
             "test": [
              0.06349645777
             ]
            },
            {
             "iteration": 72,
             "learn": [
              0.06556316751
             ],
             "passed_time": 24.98871376,
             "remaining_time": 9.242400981,
             "test": [
              0.0616934623
             ]
            },
            {
             "iteration": 73,
             "learn": [
              0.06404292087
             ],
             "passed_time": 25.309263,
             "remaining_time": 8.892443757,
             "test": [
              0.05994699421
             ]
            },
            {
             "iteration": 74,
             "learn": [
              0.06230094673
             ],
             "passed_time": 25.63531912,
             "remaining_time": 8.545106373,
             "test": [
              0.05827766344
             ]
            },
            {
             "iteration": 75,
             "learn": [
              0.06050315508
             ],
             "passed_time": 26.05553967,
             "remaining_time": 8.228065159,
             "test": [
              0.05667374157
             ]
            },
            {
             "iteration": 76,
             "learn": [
              0.0591149112
             ],
             "passed_time": 26.46698686,
             "remaining_time": 7.905723346,
             "test": [
              0.05505693691
             ]
            },
            {
             "iteration": 77,
             "learn": [
              0.05745019014
             ],
             "passed_time": 26.80369172,
             "remaining_time": 7.560015615,
             "test": [
              0.05355513759
             ]
            },
            {
             "iteration": 78,
             "learn": [
              0.05590919084
             ],
             "passed_time": 27.14576239,
             "remaining_time": 7.215962155,
             "test": [
              0.05208857566
             ]
            },
            {
             "iteration": 79,
             "learn": [
              0.05451326413
             ],
             "passed_time": 27.50277015,
             "remaining_time": 6.875692537,
             "test": [
              0.05064358867
             ]
            },
            {
             "iteration": 80,
             "learn": [
              0.05322324219
             ],
             "passed_time": 27.83553113,
             "remaining_time": 6.529322116,
             "test": [
              0.04925349932
             ]
            },
            {
             "iteration": 81,
             "learn": [
              0.05177026668
             ],
             "passed_time": 28.16058353,
             "remaining_time": 6.181591507,
             "test": [
              0.04788381036
             ]
            },
            {
             "iteration": 82,
             "learn": [
              0.05056047224
             ],
             "passed_time": 28.50373801,
             "remaining_time": 5.838115015,
             "test": [
              0.04657414139
             ]
            },
            {
             "iteration": 83,
             "learn": [
              0.04934077453
             ],
             "passed_time": 28.82483629,
             "remaining_time": 5.490445008,
             "test": [
              0.04528850812
             ]
            },
            {
             "iteration": 84,
             "learn": [
              0.04802684391
             ],
             "passed_time": 29.19550995,
             "remaining_time": 5.152148815,
             "test": [
              0.04410707278
             ]
            },
            {
             "iteration": 85,
             "learn": [
              0.04677118122
             ],
             "passed_time": 29.53306855,
             "remaining_time": 4.807708834,
             "test": [
              0.04289722687
             ]
            },
            {
             "iteration": 86,
             "learn": [
              0.04563250614
             ],
             "passed_time": 29.85710532,
             "remaining_time": 4.461406542,
             "test": [
              0.04174084708
             ]
            },
            {
             "iteration": 87,
             "learn": [
              0.04454206428
             ],
             "passed_time": 30.22283715,
             "remaining_time": 4.121295975,
             "test": [
              0.04063455512
             ]
            },
            {
             "iteration": 88,
             "learn": [
              0.04341612728
             ],
             "passed_time": 30.53015965,
             "remaining_time": 3.773390519,
             "test": [
              0.0395618181
             ]
            },
            {
             "iteration": 89,
             "learn": [
              0.0423571367
             ],
             "passed_time": 30.86942618,
             "remaining_time": 3.429936243,
             "test": [
              0.03850535644
             ]
            },
            {
             "iteration": 90,
             "learn": [
              0.04130396356
             ],
             "passed_time": 31.1997499,
             "remaining_time": 3.085689551,
             "test": [
              0.03748000321
             ]
            },
            {
             "iteration": 91,
             "learn": [
              0.04029893575
             ],
             "passed_time": 31.62913198,
             "remaining_time": 2.750359303,
             "test": [
              0.03649127223
             ]
            },
            {
             "iteration": 92,
             "learn": [
              0.03933340764
             ],
             "passed_time": 32.01843622,
             "remaining_time": 2.409989823,
             "test": [
              0.03556108169
             ]
            },
            {
             "iteration": 93,
             "learn": [
              0.03839886749
             ],
             "passed_time": 32.44727588,
             "remaining_time": 2.071102716,
             "test": [
              0.03464051072
             ]
            },
            {
             "iteration": 94,
             "learn": [
              0.03751085361
             ],
             "passed_time": 32.78868471,
             "remaining_time": 1.725720248,
             "test": [
              0.033714195
             ]
            },
            {
             "iteration": 95,
             "learn": [
              0.03665681854
             ],
             "passed_time": 33.12057793,
             "remaining_time": 1.380024081,
             "test": [
              0.03281788138
             ]
            },
            {
             "iteration": 96,
             "learn": [
              0.03577107885
             ],
             "passed_time": 33.42271241,
             "remaining_time": 1.033692137,
             "test": [
              0.03199370129
             ]
            },
            {
             "iteration": 97,
             "learn": [
              0.03492018376
             ],
             "passed_time": 33.76150319,
             "remaining_time": 0.6890102692,
             "test": [
              0.03115670177
             ]
            },
            {
             "iteration": 98,
             "learn": [
              0.03417997174
             ],
             "passed_time": 34.08968494,
             "remaining_time": 0.3443402519,
             "test": [
              0.03034880443
             ]
            },
            {
             "iteration": 99,
             "learn": [
              0.03333314609
             ],
             "passed_time": 34.44663397,
             "remaining_time": 0,
             "test": [
              0.02958390163
             ]
            }
           ],
           "meta": {
            "iteration_count": 100,
            "launch_mode": "Train",
            "learn_metrics": [
             {
              "best_value": "Min",
              "name": "CrossEntropy"
             }
            ],
            "learn_sets": [
             "learn"
            ],
            "name": "experiment",
            "parameters": "",
            "test_metrics": [
             {
              "best_value": "Min",
              "name": "CrossEntropy"
             }
            ],
            "test_sets": [
             "test"
            ]
           }
          },
          "passed_iterations": 99,
          "total_iterations": 100
         },
         "name": "catboost_info",
         "path": "catboost_info"
        }
       },
       "layout": "IPY_MODEL_08ce9c2e20274b50b7ee05f6fc7be2a7"
      }
     },
     "8eef4d6a973d4d9c9701eca7c99e048d": {
      "model_module": "catboost-widget",
      "model_module_version": "^1.0.0",
      "model_name": "CatboostWidgetModel",
      "state": {
       "_dom_classes": [],
       "_model_module": "catboost-widget",
       "_model_module_version": "^1.0.0",
       "_model_name": "CatboostWidgetModel",
       "_view_count": null,
       "_view_module": "catboost-widget",
       "_view_module_version": "^1.0.0",
       "_view_name": "CatboostWidgetView",
       "data": {
        "catboost_info": {
         "content": {
          "data": {
           "iterations": [
            {
             "iteration": 0,
             "learn": [
              0.6613803265
             ],
             "passed_time": 0.3293901159,
             "remaining_time": 32.60962148,
             "test": [
              0.6635995436
             ]
            },
            {
             "iteration": 1,
             "learn": [
              0.6362957941
             ],
             "passed_time": 0.6224478372,
             "remaining_time": 30.49994402,
             "test": [
              0.6357716833
             ]
            },
            {
             "iteration": 2,
             "learn": [
              0.6093779835
             ],
             "passed_time": 1.005780465,
             "remaining_time": 32.52023504,
             "test": [
              0.6095208971
             ]
            },
            {
             "iteration": 3,
             "learn": [
              0.5837180651
             ],
             "passed_time": 1.286694206,
             "remaining_time": 30.88066094,
             "test": [
              0.5847138229
             ]
            },
            {
             "iteration": 4,
             "learn": [
              0.5621937801
             ],
             "passed_time": 1.623846578,
             "remaining_time": 30.85308498,
             "test": [
              0.5612382971
             ]
            },
            {
             "iteration": 5,
             "learn": [
              0.5376614418
             ],
             "passed_time": 1.954704228,
             "remaining_time": 30.62369957,
             "test": [
              0.5389923678
             ]
            },
            {
             "iteration": 6,
             "learn": [
              0.5168863493
             ],
             "passed_time": 2.347601523,
             "remaining_time": 31.1895631,
             "test": [
              0.5178869008
             ]
            },
            {
             "iteration": 7,
             "learn": [
              0.4986867358
             ],
             "passed_time": 2.629528436,
             "remaining_time": 30.23957701,
             "test": [
              0.49783861
             ]
            },
            {
             "iteration": 8,
             "learn": [
              0.4785295633
             ],
             "passed_time": 2.969597948,
             "remaining_time": 30.0259348,
             "test": [
              0.4787748546
             ]
            },
            {
             "iteration": 9,
             "learn": [
              0.4605853722
             ],
             "passed_time": 3.35802758,
             "remaining_time": 30.22224822,
             "test": [
              0.4606291042
             ]
            },
            {
             "iteration": 10,
             "learn": [
              0.443821135
             ],
             "passed_time": 3.68667825,
             "remaining_time": 29.82857856,
             "test": [
              0.4433413285
             ]
            },
            {
             "iteration": 11,
             "learn": [
              0.4280565885
             ],
             "passed_time": 4.092539782,
             "remaining_time": 30.0119584,
             "test": [
              0.4268566902
             ]
            },
            {
             "iteration": 12,
             "learn": [
              0.4121284449
             ],
             "passed_time": 4.43792438,
             "remaining_time": 29.69995547,
             "test": [
              0.4111242161
             ]
            },
            {
             "iteration": 13,
             "learn": [
              0.396782616
             ],
             "passed_time": 4.762498367,
             "remaining_time": 29.25534711,
             "test": [
              0.396101969
             ]
            },
            {
             "iteration": 14,
             "learn": [
              0.3823997956
             ],
             "passed_time": 5.154629679,
             "remaining_time": 29.20956818,
             "test": [
              0.381740947
             ]
            },
            {
             "iteration": 15,
             "learn": [
              0.367340058
             ],
             "passed_time": 5.616866405,
             "remaining_time": 29.48854863,
             "test": [
              0.3680053398
             ]
            },
            {
             "iteration": 16,
             "learn": [
              0.3538846619
             ],
             "passed_time": 6.097388473,
             "remaining_time": 29.76960255,
             "test": [
              0.3548606503
             ]
            },
            {
             "iteration": 17,
             "learn": [
              0.3431875636
             ],
             "passed_time": 6.443347309,
             "remaining_time": 29.35302663,
             "test": [
              0.3422728056
             ]
            },
            {
             "iteration": 18,
             "learn": [
              0.3300938376
             ],
             "passed_time": 6.916322074,
             "remaining_time": 29.48537305,
             "test": [
              0.3302126484
             ]
            },
            {
             "iteration": 19,
             "learn": [
              0.3196817856
             ],
             "passed_time": 7.358780777,
             "remaining_time": 29.43512311,
             "test": [
              0.3186513163
             ]
            },
            {
             "iteration": 20,
             "learn": [
              0.3069781118
             ],
             "passed_time": 7.860424227,
             "remaining_time": 29.57016733,
             "test": [
              0.3075624983
             ]
            },
            {
             "iteration": 21,
             "learn": [
              0.2968899042
             ],
             "passed_time": 8.248575504,
             "remaining_time": 29.24494952,
             "test": [
              0.2969219799
             ]
            },
            {
             "iteration": 22,
             "learn": [
              0.286774458
             ],
             "passed_time": 8.631518292,
             "remaining_time": 28.89682211,
             "test": [
              0.2867071541
             ]
            },
            {
             "iteration": 23,
             "learn": [
              0.2765086362
             ],
             "passed_time": 9.066531429,
             "remaining_time": 28.71068286,
             "test": [
              0.2768967951
             ]
            },
            {
             "iteration": 24,
             "learn": [
              0.266453484
             ],
             "passed_time": 9.351717618,
             "remaining_time": 28.05515285,
             "test": [
              0.2674696353
             ]
            },
            {
             "iteration": 25,
             "learn": [
              0.2579893987
             ],
             "passed_time": 9.671129399,
             "remaining_time": 27.52552214,
             "test": [
              0.2584077549
             ]
            },
            {
             "iteration": 26,
             "learn": [
              0.2499733918
             ],
             "passed_time": 10.01987134,
             "remaining_time": 27.09076326,
             "test": [
              0.2496955366
             ]
            },
            {
             "iteration": 27,
             "learn": [
              0.2419824816
             ],
             "passed_time": 10.40286743,
             "remaining_time": 26.75023054,
             "test": [
              0.241314653
             ]
            },
            {
             "iteration": 28,
             "learn": [
              0.2336886712
             ],
             "passed_time": 10.73001271,
             "remaining_time": 26.27003112,
             "test": [
              0.2332506276
             ]
            },
            {
             "iteration": 29,
             "learn": [
              0.2258565027
             ],
             "passed_time": 11.08771869,
             "remaining_time": 25.87134361,
             "test": [
              0.2254881786
             ]
            },
            {
             "iteration": 30,
             "learn": [
              0.2185349371
             ],
             "passed_time": 11.48190912,
             "remaining_time": 25.5565074,
             "test": [
              0.2180143097
             ]
            },
            {
             "iteration": 31,
             "learn": [
              0.2109425862
             ],
             "passed_time": 11.8429723,
             "remaining_time": 25.16631614,
             "test": [
              0.2108166237
             ]
            },
            {
             "iteration": 32,
             "learn": [
              0.2033634508
             ],
             "passed_time": 12.18120957,
             "remaining_time": 24.7315467,
             "test": [
              0.203881872
             ]
            },
            {
             "iteration": 33,
             "learn": [
              0.1964410751
             ],
             "passed_time": 12.60026799,
             "remaining_time": 24.45934374,
             "test": [
              0.1971995579
             ]
            },
            {
             "iteration": 34,
             "learn": [
              0.1911842641
             ],
             "passed_time": 13.02044684,
             "remaining_time": 24.18082985,
             "test": [
              0.190759091
             ]
            },
            {
             "iteration": 35,
             "learn": [
              0.1839123273
             ],
             "passed_time": 13.36126055,
             "remaining_time": 23.75335209,
             "test": [
              0.1845495156
             ]
            },
            {
             "iteration": 36,
             "learn": [
              0.1787716712
             ],
             "passed_time": 13.73465087,
             "remaining_time": 23.38602716,
             "test": [
              0.1785610837
             ]
            },
            {
             "iteration": 37,
             "learn": [
              0.1722001422
             ],
             "passed_time": 14.09919946,
             "remaining_time": 23.00395701,
             "test": [
              0.1727849288
             ]
            },
            {
             "iteration": 38,
             "learn": [
              0.1676821135
             ],
             "passed_time": 14.47130472,
             "remaining_time": 22.63460482,
             "test": [
              0.1672121957
             ]
            },
            {
             "iteration": 39,
             "learn": [
              0.1614390746
             ],
             "passed_time": 14.83809484,
             "remaining_time": 22.25714225,
             "test": [
              0.1618342167
             ]
            },
            {
             "iteration": 40,
             "learn": [
              0.1563416234
             ],
             "passed_time": 15.19911131,
             "remaining_time": 21.87189189,
             "test": [
              0.1566439278
             ]
            },
            {
             "iteration": 41,
             "learn": [
              0.1520307224
             ],
             "passed_time": 15.63777518,
             "remaining_time": 21.59502286,
             "test": [
              0.1516334999
             ]
            },
            {
             "iteration": 42,
             "learn": [
              0.1470223383
             ],
             "passed_time": 15.94687873,
             "remaining_time": 21.13888576,
             "test": [
              0.1467956251
             ]
            },
            {
             "iteration": 43,
             "learn": [
              0.1418812428
             ],
             "passed_time": 16.33636582,
             "remaining_time": 20.79173832,
             "test": [
              0.1421276968
             ]
            },
            {
             "iteration": 44,
             "learn": [
              0.1371199606
             ],
             "passed_time": 16.63900344,
             "remaining_time": 20.33655976,
             "test": [
              0.1376152558
             ]
            },
            {
             "iteration": 45,
             "learn": [
              0.1329228522
             ],
             "passed_time": 17.01351973,
             "remaining_time": 19.97239273,
             "test": [
              0.1332560337
             ]
            },
            {
             "iteration": 46,
             "learn": [
              0.1289330716
             ],
             "passed_time": 17.35149391,
             "remaining_time": 19.56657824,
             "test": [
              0.1290440887
             ]
            },
            {
             "iteration": 47,
             "learn": [
              0.1250083687
             ],
             "passed_time": 17.71834848,
             "remaining_time": 19.19487752,
             "test": [
              0.124974807
             ]
            },
            {
             "iteration": 48,
             "learn": [
              0.121098396
             ],
             "passed_time": 18.10401222,
             "remaining_time": 18.84295149,
             "test": [
              0.1210415145
             ]
            },
            {
             "iteration": 49,
             "learn": [
              0.1172114137
             ],
             "passed_time": 18.4479673,
             "remaining_time": 18.4479673,
             "test": [
              0.1172399957
             ]
            },
            {
             "iteration": 50,
             "learn": [
              0.1133366643
             ],
             "passed_time": 18.78097895,
             "remaining_time": 18.04446997,
             "test": [
              0.1135657044
             ]
            },
            {
             "iteration": 51,
             "learn": [
              0.1097723744
             ],
             "passed_time": 19.15377567,
             "remaining_time": 17.68040831,
             "test": [
              0.1100128997
             ]
            },
            {
             "iteration": 52,
             "learn": [
              0.1069439551
             ],
             "passed_time": 19.49301606,
             "remaining_time": 17.28625952,
             "test": [
              0.1065769637
             ]
            },
            {
             "iteration": 53,
             "learn": [
              0.1034249018
             ],
             "passed_time": 19.859895,
             "remaining_time": 16.91768833,
             "test": [
              0.1032542997
             ]
            },
            {
             "iteration": 54,
             "learn": [
              0.09974882255
             ],
             "passed_time": 20.19607024,
             "remaining_time": 16.52405747,
             "test": [
              0.1000408493
             ]
            },
            {
             "iteration": 55,
             "learn": [
              0.09715607575
             ],
             "passed_time": 20.51940246,
             "remaining_time": 16.12238765,
             "test": [
              0.09693234248
             ]
            },
            {
             "iteration": 56,
             "learn": [
              0.09378539088
             ],
             "passed_time": 20.83486152,
             "remaining_time": 15.71752711,
             "test": [
              0.09392541418
             ]
            },
            {
             "iteration": 57,
             "learn": [
              0.09124299672
             ],
             "passed_time": 21.18313213,
             "remaining_time": 15.33950947,
             "test": [
              0.09101579039
             ]
            },
            {
             "iteration": 58,
             "learn": [
              0.08796145938
             ],
             "passed_time": 21.52778565,
             "remaining_time": 14.95998664,
             "test": [
              0.08820094668
             ]
            },
            {
             "iteration": 59,
             "learn": [
              0.08549258242
             ],
             "passed_time": 21.92050698,
             "remaining_time": 14.61367132,
             "test": [
              0.08547681579
             ]
            },
            {
             "iteration": 60,
             "learn": [
              0.08259577892
             ],
             "passed_time": 22.2861559,
             "remaining_time": 14.24852591,
             "test": [
              0.08284083475
             ]
            },
            {
             "iteration": 61,
             "learn": [
              0.08012475318
             ],
             "passed_time": 22.67917988,
             "remaining_time": 13.90014251,
             "test": [
              0.08028930465
             ]
            },
            {
             "iteration": 62,
             "learn": [
              0.07799283197
             ],
             "passed_time": 23.06618833,
             "remaining_time": 13.54680902,
             "test": [
              0.07781992233
             ]
            },
            {
             "iteration": 63,
             "learn": [
              0.07551204765
             ],
             "passed_time": 23.52253122,
             "remaining_time": 13.23142381,
             "test": [
              0.0754294469
             ]
            },
            {
             "iteration": 64,
             "learn": [
              0.07297897555
             ],
             "passed_time": 23.92840529,
             "remaining_time": 12.88452592,
             "test": [
              0.07311547175
             ]
            },
            {
             "iteration": 65,
             "learn": [
              0.07060461357
             ],
             "passed_time": 24.26444519,
             "remaining_time": 12.4998657,
             "test": [
              0.07087492755
             ]
            },
            {
             "iteration": 66,
             "learn": [
              0.06847024302
             ],
             "passed_time": 24.69390949,
             "remaining_time": 12.16267184,
             "test": [
              0.06870548104
             ]
            },
            {
             "iteration": 67,
             "learn": [
              0.06645641858
             ],
             "passed_time": 25.01066154,
             "remaining_time": 11.76972308,
             "test": [
              0.06660417264
             ]
            },
            {
             "iteration": 68,
             "learn": [
              0.06448846164
             ],
             "passed_time": 25.38262691,
             "remaining_time": 11.4037889,
             "test": [
              0.06456973707
             ]
            },
            {
             "iteration": 69,
             "learn": [
              0.06253476327
             ],
             "passed_time": 25.72220784,
             "remaining_time": 11.02380336,
             "test": [
              0.06259978005
             ]
            },
            {
             "iteration": 70,
             "learn": [
              0.06058717151
             ],
             "passed_time": 26.09477775,
             "remaining_time": 10.65843035,
             "test": [
              0.06069155061
             ]
            },
            {
             "iteration": 71,
             "learn": [
              0.05867710144
             ],
             "passed_time": 26.43546947,
             "remaining_time": 10.28046035,
             "test": [
              0.05884315291
             ]
            },
            {
             "iteration": 72,
             "learn": [
              0.0568690146
             ],
             "passed_time": 26.80800678,
             "remaining_time": 9.915290177,
             "test": [
              0.05705269088
             ]
            },
            {
             "iteration": 73,
             "learn": [
              0.05545541692
             ],
             "passed_time": 27.1429153,
             "remaining_time": 9.536699971,
             "test": [
              0.05531835838
             ]
            },
            {
             "iteration": 74,
             "learn": [
              0.05369888937
             ],
             "passed_time": 27.41826009,
             "remaining_time": 9.13942003,
             "test": [
              0.0536382865
             ]
            },
            {
             "iteration": 75,
             "learn": [
              0.05185063512
             ],
             "passed_time": 27.77556477,
             "remaining_time": 8.771230979,
             "test": [
              0.05201263224
             ]
            },
            {
             "iteration": 76,
             "learn": [
              0.05055679913
             ],
             "passed_time": 28.16307255,
             "remaining_time": 8.412346347,
             "test": [
              0.05043574028
             ]
            },
            {
             "iteration": 77,
             "learn": [
              0.04886487861
             ],
             "passed_time": 28.53122018,
             "remaining_time": 8.04726723,
             "test": [
              0.04890777217
             ]
            },
            {
             "iteration": 78,
             "learn": [
              0.04729918606
             ],
             "passed_time": 28.85717516,
             "remaining_time": 7.670894662,
             "test": [
              0.04742747953
             ]
            },
            {
             "iteration": 79,
             "learn": [
              0.04593718886
             ],
             "passed_time": 29.24726079,
             "remaining_time": 7.311815198,
             "test": [
              0.04599344124
             ]
            },
            {
             "iteration": 80,
             "learn": [
              0.04467530364
             ],
             "passed_time": 29.58159358,
             "remaining_time": 6.938892321,
             "test": [
              0.044603304
             ]
            },
            {
             "iteration": 81,
             "learn": [
              0.0430956188
             ],
             "passed_time": 29.99115564,
             "remaining_time": 6.58342441,
             "test": [
              0.04325652411
             ]
            },
            {
             "iteration": 82,
             "learn": [
              0.04198326825
             ],
             "passed_time": 30.35957248,
             "remaining_time": 6.218225689,
             "test": [
              0.04195138986
             ]
            },
            {
             "iteration": 83,
             "learn": [
              0.04074151492
             ],
             "passed_time": 30.7869689,
             "remaining_time": 5.864184553,
             "test": [
              0.04068602903
             ]
            },
            {
             "iteration": 84,
             "learn": [
              0.03937649496
             ],
             "passed_time": 31.21431211,
             "remaining_time": 5.50840802,
             "test": [
              0.03946034249
             ]
            },
            {
             "iteration": 85,
             "learn": [
              0.0381568589
             ],
             "passed_time": 31.59719434,
             "remaining_time": 5.143729311,
             "test": [
              0.03827161752
             ]
            },
            {
             "iteration": 86,
             "learn": [
              0.03713587127
             ],
             "passed_time": 31.96968078,
             "remaining_time": 4.777078737,
             "test": [
              0.03711962153
             ]
            },
            {
             "iteration": 87,
             "learn": [
              0.03608555914
             ],
             "passed_time": 32.37935772,
             "remaining_time": 4.415366962,
             "test": [
              0.03600311242
             ]
            },
            {
             "iteration": 88,
             "learn": [
              0.03490520679
             ],
             "passed_time": 32.65997181,
             "remaining_time": 4.036625729,
             "test": [
              0.03492039872
             ]
            },
            {
             "iteration": 89,
             "learn": [
              0.0338569064
             ],
             "passed_time": 33.02629718,
             "remaining_time": 3.669588576,
             "test": [
              0.03387089396
             ]
            },
            {
             "iteration": 90,
             "learn": [
              0.03285125265
             ],
             "passed_time": 33.44067925,
             "remaining_time": 3.307319925,
             "test": [
              0.0328537305
             ]
            },
            {
             "iteration": 91,
             "learn": [
              0.03185994779
             ],
             "passed_time": 33.82819899,
             "remaining_time": 2.941582521,
             "test": [
              0.03186791123
             ]
            },
            {
             "iteration": 92,
             "learn": [
              0.03088305919
             ],
             "passed_time": 34.24782999,
             "remaining_time": 2.577793655,
             "test": [
              0.03091176555
             ]
            },
            {
             "iteration": 93,
             "learn": [
              0.02994979144
             ],
             "passed_time": 34.63708482,
             "remaining_time": 2.210877754,
             "test": [
              0.02998481736
             ]
            },
            {
             "iteration": 94,
             "learn": [
              0.02903021052
             ],
             "passed_time": 35.00998871,
             "remaining_time": 1.842630985,
             "test": [
              0.02908630983
             ]
            },
            {
             "iteration": 95,
             "learn": [
              0.02826875236
             ],
             "passed_time": 35.28338679,
             "remaining_time": 1.470141116,
             "test": [
              0.02821480509
             ]
            },
            {
             "iteration": 96,
             "learn": [
              0.02738181542
             ],
             "passed_time": 35.65816976,
             "remaining_time": 1.102829993,
             "test": [
              0.02736975488
             ]
            },
            {
             "iteration": 97,
             "learn": [
              0.02647501983
             ],
             "passed_time": 36.01881372,
             "remaining_time": 0.7350778309,
             "test": [
              0.02655080689
             ]
            },
            {
             "iteration": 98,
             "learn": [
              0.02580692392
             ],
             "passed_time": 36.36174586,
             "remaining_time": 0.3672903622,
             "test": [
              0.02575672722
             ]
            },
            {
             "iteration": 99,
             "learn": [
              0.02495241042
             ],
             "passed_time": 36.81908594,
             "remaining_time": 0,
             "test": [
              0.0249864934
             ]
            }
           ],
           "meta": {
            "iteration_count": 100,
            "launch_mode": "Train",
            "learn_metrics": [
             {
              "best_value": "Min",
              "name": "CrossEntropy"
             }
            ],
            "learn_sets": [
             "learn"
            ],
            "name": "experiment",
            "parameters": "",
            "test_metrics": [
             {
              "best_value": "Min",
              "name": "CrossEntropy"
             }
            ],
            "test_sets": [
             "test"
            ]
           }
          },
          "passed_iterations": 99,
          "total_iterations": 100
         },
         "name": "catboost_info",
         "path": "catboost_info"
        }
       },
       "layout": "IPY_MODEL_02c0bae6c5fa4ff0b88ee41147ad4688"
      }
     },
     "91cbd61744484f459690ee66677d00fa": {
      "model_module": "catboost-widget",
      "model_module_version": "^1.0.0",
      "model_name": "CatboostWidgetModel",
      "state": {
       "_dom_classes": [],
       "_model_module": "catboost-widget",
       "_model_module_version": "^1.0.0",
       "_model_name": "CatboostWidgetModel",
       "_view_count": null,
       "_view_module": "catboost-widget",
       "_view_module_version": "^1.0.0",
       "_view_name": "CatboostWidgetView",
       "data": {
        "catboost_info": {
         "content": {
          "data": {
           "iterations": [
            {
             "iteration": 0,
             "learn": [
              0.6613796431
             ],
             "passed_time": 0.3369292203,
             "remaining_time": 33.35599281,
             "test": [
              0.6636001624
             ]
            },
            {
             "iteration": 1,
             "learn": [
              0.6362944009
             ],
             "passed_time": 0.6357647992,
             "remaining_time": 31.15247516,
             "test": [
              0.6357716057
             ]
            },
            {
             "iteration": 2,
             "learn": [
              0.6093761961
             ],
             "passed_time": 1.02380479,
             "remaining_time": 33.10302156,
             "test": [
              0.6095194467
             ]
            },
            {
             "iteration": 3,
             "learn": [
              0.5837156337
             ],
             "passed_time": 1.304857273,
             "remaining_time": 31.31657456,
             "test": [
              0.5847121967
             ]
            },
            {
             "iteration": 4,
             "learn": [
              0.5621907047
             ],
             "passed_time": 1.646506785,
             "remaining_time": 31.28362892,
             "test": [
              0.5612362518
             ]
            },
            {
             "iteration": 5,
             "learn": [
              0.5376578274
             ],
             "passed_time": 1.973202992,
             "remaining_time": 30.91351355,
             "test": [
              0.5389910208
             ]
            },
            {
             "iteration": 6,
             "learn": [
              0.5168809476
             ],
             "passed_time": 2.369028587,
             "remaining_time": 31.47423694,
             "test": [
              0.5178847881
             ]
            },
            {
             "iteration": 7,
             "learn": [
              0.4986818466
             ],
             "passed_time": 2.647089849,
             "remaining_time": 30.44153327,
             "test": [
              0.4978358014
             ]
            },
            {
             "iteration": 8,
             "learn": [
              0.4785240695
             ],
             "passed_time": 2.99719355,
             "remaining_time": 30.304957,
             "test": [
              0.4787714983
             ]
            },
            {
             "iteration": 9,
             "learn": [
              0.4605795762
             ],
             "passed_time": 3.386793424,
             "remaining_time": 30.48114081,
             "test": [
              0.4606252705
             ]
            },
            {
             "iteration": 10,
             "learn": [
              0.4438142086
             ],
             "passed_time": 3.718313999,
             "remaining_time": 30.08454054,
             "test": [
              0.4433370357
             ]
            },
            {
             "iteration": 11,
             "learn": [
              0.4280497541
             ],
             "passed_time": 4.113497035,
             "remaining_time": 30.16564492,
             "test": [
              0.4268526292
             ]
            },
            {
             "iteration": 12,
             "learn": [
              0.4121129821
             ],
             "passed_time": 4.473849776,
             "remaining_time": 29.94037927,
             "test": [
              0.4111196462
             ]
            },
            {
             "iteration": 13,
             "learn": [
              0.3967747433
             ],
             "passed_time": 4.768699351,
             "remaining_time": 29.29343887,
             "test": [
              0.3960940781
             ]
            },
            {
             "iteration": 14,
             "learn": [
              0.3823911607
             ],
             "passed_time": 5.120191825,
             "remaining_time": 29.01442034,
             "test": [
              0.38173313
             ]
            },
            {
             "iteration": 15,
             "learn": [
              0.3673308842
             ],
             "passed_time": 5.455480203,
             "remaining_time": 28.64127106,
             "test": [
              0.3679974375
             ]
            },
            {
             "iteration": 16,
             "learn": [
              0.3538745089
             ],
             "passed_time": 5.832989279,
             "remaining_time": 28.47871236,
             "test": [
              0.3548524516
             ]
            },
            {
             "iteration": 17,
             "learn": [
              0.3431661339
             ],
             "passed_time": 6.157476137,
             "remaining_time": 28.05072462,
             "test": [
              0.3422645334
             ]
            },
            {
             "iteration": 18,
             "learn": [
              0.3300823834
             ],
             "passed_time": 6.498260318,
             "remaining_time": 27.70310978,
             "test": [
              0.3302045936
             ]
            },
            {
             "iteration": 19,
             "learn": [
              0.3196708374
             ],
             "passed_time": 6.80520341,
             "remaining_time": 27.22081364,
             "test": [
              0.3186427369
             ]
            },
            {
             "iteration": 20,
             "learn": [
              0.3069668417
             ],
             "passed_time": 7.202443855,
             "remaining_time": 27.09490784,
             "test": [
              0.3075536847
             ]
            },
            {
             "iteration": 21,
             "learn": [
              0.2968783843
             ],
             "passed_time": 7.572838233,
             "remaining_time": 26.84915374,
             "test": [
              0.2969136165
             ]
            },
            {
             "iteration": 22,
             "learn": [
              0.2867620772
             ],
             "passed_time": 7.936153389,
             "remaining_time": 26.56886134,
             "test": [
              0.286698619
             ]
            },
            {
             "iteration": 23,
             "learn": [
              0.2764914386
             ],
             "passed_time": 8.332800349,
             "remaining_time": 26.38720111,
             "test": [
              0.2768877238
             ]
            },
            {
             "iteration": 24,
             "learn": [
              0.2664380607
             ],
             "passed_time": 8.624147147,
             "remaining_time": 25.87244144,
             "test": [
              0.2674602392
             ]
            },
            {
             "iteration": 25,
             "learn": [
              0.2579756511
             ],
             "passed_time": 8.955911322,
             "remaining_time": 25.48990146,
             "test": [
              0.258398493
             ]
            },
            {
             "iteration": 26,
             "learn": [
              0.2499595653
             ],
             "passed_time": 9.310932769,
             "remaining_time": 25.17400341,
             "test": [
              0.2496857869
             ]
            },
            {
             "iteration": 27,
             "learn": [
              0.2419680506
             ],
             "passed_time": 9.696856989,
             "remaining_time": 24.93477511,
             "test": [
              0.241305453
             ]
            },
            {
             "iteration": 28,
             "learn": [
              0.2336741876
             ],
             "passed_time": 10.07134646,
             "remaining_time": 24.65743443,
             "test": [
              0.2332409186
             ]
            },
            {
             "iteration": 29,
             "learn": [
              0.2258412963
             ],
             "passed_time": 10.42518833,
             "remaining_time": 24.32543945,
             "test": [
              0.2254790732
             ]
            },
            {
             "iteration": 30,
             "learn": [
              0.2185191622
             ],
             "passed_time": 10.81836224,
             "remaining_time": 24.07958048,
             "test": [
              0.2180051685
             ]
            },
            {
             "iteration": 31,
             "learn": [
              0.2109264039
             ],
             "passed_time": 11.18232919,
             "remaining_time": 23.76244952,
             "test": [
              0.2108099921
             ]
            },
            {
             "iteration": 32,
             "learn": [
              0.2033458162
             ],
             "passed_time": 11.52050796,
             "remaining_time": 23.39012222,
             "test": [
              0.2038770041
             ]
            },
            {
             "iteration": 33,
             "learn": [
              0.1964181143
             ],
             "passed_time": 11.94059892,
             "remaining_time": 23.17880966,
             "test": [
              0.1971947108
             ]
            },
            {
             "iteration": 34,
             "learn": [
              0.1911606724
             ],
             "passed_time": 12.35513615,
             "remaining_time": 22.94525285,
             "test": [
              0.1907539483
             ]
            },
            {
             "iteration": 35,
             "learn": [
              0.1838942294
             ],
             "passed_time": 12.69216751,
             "remaining_time": 22.56385335,
             "test": [
              0.1845444327
             ]
            },
            {
             "iteration": 36,
             "learn": [
              0.1787468572
             ],
             "passed_time": 13.06307409,
             "remaining_time": 22.24253156,
             "test": [
              0.1785557375
             ]
            },
            {
             "iteration": 37,
             "learn": [
              0.172181052
             ],
             "passed_time": 13.42680893,
             "remaining_time": 21.90689879,
             "test": [
              0.1727790858
             ]
            },
            {
             "iteration": 38,
             "learn": [
              0.1676605294
             ],
             "passed_time": 13.80467324,
             "remaining_time": 21.5919248,
             "test": [
              0.1672059296
             ]
            },
            {
             "iteration": 39,
             "learn": [
              0.1614179538
             ],
             "passed_time": 14.18031125,
             "remaining_time": 21.27046687,
             "test": [
              0.1618278602
             ]
            },
            {
             "iteration": 40,
             "learn": [
              0.1563218432
             ],
             "passed_time": 14.53660156,
             "remaining_time": 20.9185242,
             "test": [
              0.1566373615
             ]
            },
            {
             "iteration": 41,
             "learn": [
              0.1520104789
             ],
             "passed_time": 14.93261853,
             "remaining_time": 20.62123512,
             "test": [
              0.1516284662
             ]
            },
            {
             "iteration": 42,
             "learn": [
              0.1469963151
             ],
             "passed_time": 15.24003104,
             "remaining_time": 20.20190161,
             "test": [
              0.1467903007
             ]
            },
            {
             "iteration": 43,
             "learn": [
              0.1418599511
             ],
             "passed_time": 15.63307504,
             "remaining_time": 19.89664096,
             "test": [
              0.1421189017
             ]
            },
            {
             "iteration": 44,
             "learn": [
              0.1370974598
             ],
             "passed_time": 15.93622667,
             "remaining_time": 19.47761037,
             "test": [
              0.1376066837
             ]
            },
            {
             "iteration": 45,
             "learn": [
              0.1329007851
             ],
             "passed_time": 16.31230771,
             "remaining_time": 19.14923079,
             "test": [
              0.1332474162
             ]
            },
            {
             "iteration": 46,
             "learn": [
              0.1289112016
             ],
             "passed_time": 16.64841006,
             "remaining_time": 18.773739,
             "test": [
              0.1290355872
             ]
            },
            {
             "iteration": 47,
             "learn": [
              0.1249845569
             ],
             "passed_time": 17.02166483,
             "remaining_time": 18.4401369,
             "test": [
              0.1249683397
             ]
            },
            {
             "iteration": 48,
             "learn": [
              0.1210755173
             ],
             "passed_time": 17.41348853,
             "remaining_time": 18.12424317,
             "test": [
              0.1210356742
             ]
            },
            {
             "iteration": 49,
             "learn": [
              0.1171872272
             ],
             "passed_time": 17.84488423,
             "remaining_time": 17.84488423,
             "test": [
              0.1172346686
             ]
            },
            {
             "iteration": 50,
             "learn": [
              0.1133119719
             ],
             "passed_time": 18.31715888,
             "remaining_time": 17.59883893,
             "test": [
              0.1135593933
             ]
            },
            {
             "iteration": 51,
             "learn": [
              0.1097482471
             ],
             "passed_time": 18.76149176,
             "remaining_time": 17.31830008,
             "test": [
              0.1100062285
             ]
            },
            {
             "iteration": 52,
             "learn": [
              0.106919169
             ],
             "passed_time": 19.10639249,
             "remaining_time": 16.94340466,
             "test": [
              0.1065701864
             ]
            },
            {
             "iteration": 53,
             "learn": [
              0.1033977615
             ],
             "passed_time": 19.47900622,
             "remaining_time": 16.59322752,
             "test": [
              0.1032474608
             ]
            },
            {
             "iteration": 54,
             "learn": [
              0.09972356168
             ],
             "passed_time": 19.82085599,
             "remaining_time": 16.21706399,
             "test": [
              0.1000337307
             ]
            },
            {
             "iteration": 55,
             "learn": [
              0.09713087074
             ],
             "passed_time": 20.14597341,
             "remaining_time": 15.82897911,
             "test": [
              0.09692520994
             ]
            },
            {
             "iteration": 56,
             "learn": [
              0.09375837706
             ],
             "passed_time": 20.46208607,
             "remaining_time": 15.43631054,
             "test": [
              0.093917731
             ]
            },
            {
             "iteration": 57,
             "learn": [
              0.09121594348
             ],
             "passed_time": 20.84192476,
             "remaining_time": 15.09242827,
             "test": [
              0.09100806768
             ]
            },
            {
             "iteration": 58,
             "learn": [
              0.0879346115
             ],
             "passed_time": 21.20358742,
             "remaining_time": 14.73469635,
             "test": [
              0.08819319842
             ]
            },
            {
             "iteration": 59,
             "learn": [
              0.08546443337
             ],
             "passed_time": 21.5978765,
             "remaining_time": 14.39858434,
             "test": [
              0.08546920435
             ]
            },
            {
             "iteration": 60,
             "learn": [
              0.08256744094
             ],
             "passed_time": 21.96670216,
             "remaining_time": 14.04428499,
             "test": [
              0.08283303699
             ]
            },
            {
             "iteration": 61,
             "learn": [
              0.08009338903
             ],
             "passed_time": 22.36830908,
             "remaining_time": 13.70960879,
             "test": [
              0.08028143188
             ]
            },
            {
             "iteration": 62,
             "learn": [
              0.07796304991
             ],
             "passed_time": 22.75063025,
             "remaining_time": 13.36148126,
             "test": [
              0.07781222477
             ]
            },
            {
             "iteration": 63,
             "learn": [
              0.07547956798
             ],
             "passed_time": 23.1999059,
             "remaining_time": 13.04994707,
             "test": [
              0.07542160828
             ]
            },
            {
             "iteration": 64,
             "learn": [
              0.07294549701
             ],
             "passed_time": 23.59244113,
             "remaining_time": 12.70362215,
             "test": [
              0.07310732524
             ]
            },
            {
             "iteration": 65,
             "learn": [
              0.07053108499
             ],
             "passed_time": 23.92820228,
             "remaining_time": 12.32664966,
             "test": [
              0.07086685476
             ]
            },
            {
             "iteration": 66,
             "learn": [
              0.06843097828
             ],
             "passed_time": 24.36316042,
             "remaining_time": 11.99976558,
             "test": [
              0.06869747658
             ]
            },
            {
             "iteration": 67,
             "learn": [
              0.06642346248
             ],
             "passed_time": 24.6731432,
             "remaining_time": 11.61089092,
             "test": [
              0.06659648006
             ]
            },
            {
             "iteration": 68,
             "learn": [
              0.06445817357
             ],
             "passed_time": 25.04438821,
             "remaining_time": 11.25182659,
             "test": [
              0.06456215719
             ]
            },
            {
             "iteration": 69,
             "learn": [
              0.06250444727
             ],
             "passed_time": 25.38079833,
             "remaining_time": 10.877485,
             "test": [
              0.06259167062
             ]
            },
            {
             "iteration": 70,
             "learn": [
              0.06055511242
             ],
             "passed_time": 25.74792312,
             "remaining_time": 10.51675733,
             "test": [
              0.06068339969
             ]
            },
            {
             "iteration": 71,
             "learn": [
              0.05864475977
             ],
             "passed_time": 26.09348618,
             "remaining_time": 10.14746685,
             "test": [
              0.0588349259
             ]
            },
            {
             "iteration": 72,
             "learn": [
              0.05683258053
             ],
             "passed_time": 26.44591586,
             "remaining_time": 9.781366139,
             "test": [
              0.0570445084
             ]
            },
            {
             "iteration": 73,
             "learn": [
              0.05542269411
             ],
             "passed_time": 26.7752054,
             "remaining_time": 9.407504598,
             "test": [
              0.05531013481
             ]
            },
            {
             "iteration": 74,
             "learn": [
              0.05366461814
             ],
             "passed_time": 27.04949488,
             "remaining_time": 9.016498292,
             "test": [
              0.05363018091
             ]
            },
            {
             "iteration": 75,
             "learn": [
              0.05181645344
             ],
             "passed_time": 27.40212794,
             "remaining_time": 8.653303559,
             "test": [
              0.05200255713
             ]
            },
            {
             "iteration": 76,
             "learn": [
              0.05052204572
             ],
             "passed_time": 27.77527939,
             "remaining_time": 8.296512027,
             "test": [
              0.05042567344
             ]
            },
            {
             "iteration": 77,
             "learn": [
              0.04883177711
             ],
             "passed_time": 28.14332594,
             "remaining_time": 7.937861163,
             "test": [
              0.0488976678
             ]
            },
            {
             "iteration": 78,
             "learn": [
              0.04720068904
             ],
             "passed_time": 28.46334075,
             "remaining_time": 7.566204504,
             "test": [
              0.04741748672
             ]
            },
            {
             "iteration": 79,
             "learn": [
              0.04590303099
             ],
             "passed_time": 28.84954802,
             "remaining_time": 7.212387004,
             "test": [
              0.04598332543
             ]
            },
            {
             "iteration": 80,
             "learn": [
              0.04463965815
             ],
             "passed_time": 29.18460838,
             "remaining_time": 6.845772335,
             "test": [
              0.04459307618
             ]
            },
            {
             "iteration": 81,
             "learn": [
              0.04305379527
             ],
             "passed_time": 29.5893382,
             "remaining_time": 6.495220581,
             "test": [
              0.04324624595
             ]
            },
            {
             "iteration": 82,
             "learn": [
              0.04194415054
             ],
             "passed_time": 29.95040105,
             "remaining_time": 6.134419493,
             "test": [
              0.04194113784
             ]
            },
            {
             "iteration": 83,
             "learn": [
              0.04070507592
             ],
             "passed_time": 30.35595819,
             "remaining_time": 5.782087275,
             "test": [
              0.04067591475
             ]
            },
            {
             "iteration": 84,
             "learn": [
              0.03933973806
             ],
             "passed_time": 30.74614305,
             "remaining_time": 5.42578995,
             "test": [
              0.03945094517
             ]
            },
            {
             "iteration": 85,
             "learn": [
              0.03811751776
             ],
             "passed_time": 31.11638194,
             "remaining_time": 5.065457525,
             "test": [
              0.03826347936
             ]
            },
            {
             "iteration": 86,
             "learn": [
              0.03709709528
             ],
             "passed_time": 31.46659246,
             "remaining_time": 4.70190462,
             "test": [
              0.03711145374
             ]
            },
            {
             "iteration": 87,
             "learn": [
              0.03604645622
             ],
             "passed_time": 31.87118201,
             "remaining_time": 4.346070274,
             "test": [
              0.03599486356
             ]
            },
            {
             "iteration": 88,
             "learn": [
              0.03485632382
             ],
             "passed_time": 32.14903022,
             "remaining_time": 3.973475645,
             "test": [
              0.03491213168
             ]
            },
            {
             "iteration": 89,
             "learn": [
              0.03381429347
             ],
             "passed_time": 32.49975012,
             "remaining_time": 3.611083347,
             "test": [
              0.03386256854
             ]
            },
            {
             "iteration": 90,
             "learn": [
              0.03280951619
             ],
             "passed_time": 32.90768078,
             "remaining_time": 3.254605792,
             "test": [
              0.03284531327
             ]
            },
            {
             "iteration": 91,
             "learn": [
              0.03181777926
             ],
             "passed_time": 33.27136721,
             "remaining_time": 2.893162366,
             "test": [
              0.03185924806
             ]
            },
            {
             "iteration": 92,
             "learn": [
              0.03084134491
             ],
             "passed_time": 33.67747718,
             "remaining_time": 2.534863874,
             "test": [
              0.03090301549
             ]
            },
            {
             "iteration": 93,
             "learn": [
              0.02989661893
             ],
             "passed_time": 34.05824439,
             "remaining_time": 2.173930493,
             "test": [
              0.02997616526
             ]
            },
            {
             "iteration": 94,
             "learn": [
              0.02896038991
             ],
             "passed_time": 34.41201938,
             "remaining_time": 1.811158915,
             "test": [
              0.02907766114
             ]
            },
            {
             "iteration": 95,
             "learn": [
              0.02822739048
             ],
             "passed_time": 34.66647588,
             "remaining_time": 1.444436495,
             "test": [
              0.02820624632
             ]
            },
            {
             "iteration": 96,
             "learn": [
              0.02734135014
             ],
             "passed_time": 35.0172547,
             "remaining_time": 1.083007877,
             "test": [
              0.02736158074
             ]
            },
            {
             "iteration": 97,
             "learn": [
              0.02642026932
             ],
             "passed_time": 35.36648467,
             "remaining_time": 0.7217649932,
             "test": [
              0.02654265419
             ]
            },
            {
             "iteration": 98,
             "learn": [
              0.02576405675
             ],
             "passed_time": 35.69830755,
             "remaining_time": 0.3605889651,
             "test": [
              0.02574845175
             ]
            },
            {
             "iteration": 99,
             "learn": [
              0.0249094529
             ],
             "passed_time": 36.02533119,
             "remaining_time": 0,
             "test": [
              0.02497839284
             ]
            }
           ],
           "meta": {
            "iteration_count": 100,
            "launch_mode": "Train",
            "learn_metrics": [
             {
              "best_value": "Min",
              "name": "CrossEntropy"
             }
            ],
            "learn_sets": [
             "learn"
            ],
            "name": "experiment",
            "parameters": "",
            "test_metrics": [
             {
              "best_value": "Min",
              "name": "CrossEntropy"
             }
            ],
            "test_sets": [
             "test"
            ]
           }
          },
          "passed_iterations": 99,
          "total_iterations": 100
         },
         "name": "catboost_info",
         "path": "catboost_info"
        }
       },
       "layout": "IPY_MODEL_9c1b823c83db41f3aecd68a701646825"
      }
     },
     "988f81543cbb49b7a159e5098a4a98b1": {
      "model_module": "@jupyter-widgets/base",
      "model_module_version": "1.2.0",
      "model_name": "LayoutModel",
      "state": {
       "_model_module": "@jupyter-widgets/base",
       "_model_module_version": "1.2.0",
       "_model_name": "LayoutModel",
       "_view_count": null,
       "_view_module": "@jupyter-widgets/base",
       "_view_module_version": "1.2.0",
       "_view_name": "LayoutView",
       "align_content": null,
       "align_items": null,
       "align_self": "stretch",
       "border": null,
       "bottom": null,
       "display": null,
       "flex": null,
       "flex_flow": null,
       "grid_area": null,
       "grid_auto_columns": null,
       "grid_auto_flow": null,
       "grid_auto_rows": null,
       "grid_column": null,
       "grid_gap": null,
       "grid_row": null,
       "grid_template_areas": null,
       "grid_template_columns": null,
       "grid_template_rows": null,
       "height": "500px",
       "justify_content": null,
       "justify_items": null,
       "left": null,
       "margin": null,
       "max_height": null,
       "max_width": null,
       "min_height": null,
       "min_width": null,
       "object_fit": null,
       "object_position": null,
       "order": null,
       "overflow": null,
       "overflow_x": null,
       "overflow_y": null,
       "padding": null,
       "right": null,
       "top": null,
       "visibility": null,
       "width": null
      }
     },
     "9c1b823c83db41f3aecd68a701646825": {
      "model_module": "@jupyter-widgets/base",
      "model_module_version": "1.2.0",
      "model_name": "LayoutModel",
      "state": {
       "_model_module": "@jupyter-widgets/base",
       "_model_module_version": "1.2.0",
       "_model_name": "LayoutModel",
       "_view_count": null,
       "_view_module": "@jupyter-widgets/base",
       "_view_module_version": "1.2.0",
       "_view_name": "LayoutView",
       "align_content": null,
       "align_items": null,
       "align_self": "stretch",
       "border": null,
       "bottom": null,
       "display": null,
       "flex": null,
       "flex_flow": null,
       "grid_area": null,
       "grid_auto_columns": null,
       "grid_auto_flow": null,
       "grid_auto_rows": null,
       "grid_column": null,
       "grid_gap": null,
       "grid_row": null,
       "grid_template_areas": null,
       "grid_template_columns": null,
       "grid_template_rows": null,
       "height": "500px",
       "justify_content": null,
       "justify_items": null,
       "left": null,
       "margin": null,
       "max_height": null,
       "max_width": null,
       "min_height": null,
       "min_width": null,
       "object_fit": null,
       "object_position": null,
       "order": null,
       "overflow": null,
       "overflow_x": null,
       "overflow_y": null,
       "padding": null,
       "right": null,
       "top": null,
       "visibility": null,
       "width": null
      }
     },
     "a9608b4002d5457ab9726cd22b132ab3": {
      "model_module": "catboost-widget",
      "model_module_version": "^1.0.0",
      "model_name": "CatboostWidgetModel",
      "state": {
       "_dom_classes": [],
       "_model_module": "catboost-widget",
       "_model_module_version": "^1.0.0",
       "_model_name": "CatboostWidgetModel",
       "_view_count": null,
       "_view_module": "catboost-widget",
       "_view_module_version": "^1.0.0",
       "_view_name": "CatboostWidgetView",
       "data": {
        "catboost_info": {
         "content": {
          "data": {
           "iterations": [
            {
             "iteration": 0,
             "learn": [
              0.6613798139
             ],
             "passed_time": 0.3306541259,
             "remaining_time": 32.73475846,
             "test": [
              0.6635999283
             ]
            },
            {
             "iteration": 1,
             "learn": [
              0.6362947164
             ],
             "passed_time": 0.6290781473,
             "remaining_time": 30.82482922,
             "test": [
              0.635773568
             ]
            },
            {
             "iteration": 2,
             "learn": [
              0.6093766955
             ],
             "passed_time": 1.011982269,
             "remaining_time": 32.72076005,
             "test": [
              0.6095212786
             ]
            },
            {
             "iteration": 3,
             "learn": [
              0.5837163171
             ],
             "passed_time": 1.295516358,
             "remaining_time": 31.0923926,
             "test": [
              0.5847132824
             ]
            },
            {
             "iteration": 4,
             "learn": [
              0.5621915327
             ],
             "passed_time": 1.638703765,
             "remaining_time": 31.13537153,
             "test": [
              0.5612384545
             ]
            },
            {
             "iteration": 5,
             "learn": [
              0.5376587737
             ],
             "passed_time": 1.965797602,
             "remaining_time": 30.79749577,
             "test": [
              0.5389925295
             ]
            },
            {
             "iteration": 6,
             "learn": [
              0.5168821961
             ],
             "passed_time": 2.360262559,
             "remaining_time": 31.357774,
             "test": [
              0.5178868728
             ]
            },
            {
             "iteration": 7,
             "learn": [
              0.4986830952
             ],
             "passed_time": 2.640694471,
             "remaining_time": 30.36798642,
             "test": [
              0.4978380807
             ]
            },
            {
             "iteration": 8,
             "learn": [
              0.4785254101
             ],
             "passed_time": 2.981309154,
             "remaining_time": 30.14434812,
             "test": [
              0.4787739289
             ]
            },
            {
             "iteration": 9,
             "learn": [
              0.4605811402
             ],
             "passed_time": 3.37105014,
             "remaining_time": 30.33945126,
             "test": [
              0.4606276673
             ]
            },
            {
             "iteration": 10,
             "learn": [
              0.4438168372
             ],
             "passed_time": 3.698457928,
             "remaining_time": 29.92388687,
             "test": [
              0.4433391333
             ]
            },
            {
             "iteration": 11,
             "learn": [
              0.4280515219
             ],
             "passed_time": 4.093841578,
             "remaining_time": 30.0215049,
             "test": [
              0.4268544069
             ]
            },
            {
             "iteration": 12,
             "learn": [
              0.4121153742
             ],
             "passed_time": 4.447310691,
             "remaining_time": 29.76277155,
             "test": [
              0.411121635
             ]
            },
            {
             "iteration": 13,
             "learn": [
              0.396776741
             ],
             "passed_time": 4.775845505,
             "remaining_time": 29.33733667,
             "test": [
              0.3960956727
             ]
            },
            {
             "iteration": 14,
             "learn": [
              0.3823934081
             ],
             "passed_time": 5.123472159,
             "remaining_time": 29.0330089,
             "test": [
              0.3817349373
             ]
            },
            {
             "iteration": 15,
             "learn": [
              0.3673331251
             ],
             "passed_time": 5.448461273,
             "remaining_time": 28.60442168,
             "test": [
              0.3679993784
             ]
            },
            {
             "iteration": 16,
             "learn": [
              0.3538773018
             ],
             "passed_time": 5.82943842,
             "remaining_time": 28.46137581,
             "test": [
              0.354854273
             ]
            },
            {
             "iteration": 17,
             "learn": [
              0.3431687691
             ],
             "passed_time": 6.154942958,
             "remaining_time": 28.03918459,
             "test": [
              0.3422663816
             ]
            },
            {
             "iteration": 18,
             "learn": [
              0.3300855312
             ],
             "passed_time": 6.495813179,
             "remaining_time": 27.69267724,
             "test": [
              0.330207239
             ]
            },
            {
             "iteration": 19,
             "learn": [
              0.3196735515
             ],
             "passed_time": 6.803542061,
             "remaining_time": 27.21416824,
             "test": [
              0.3186452722
             ]
            },
            {
             "iteration": 20,
             "learn": [
              0.3069706532
             ],
             "passed_time": 7.200451498,
             "remaining_time": 27.08741278,
             "test": [
              0.3075568213
             ]
            },
            {
             "iteration": 21,
             "learn": [
              0.2968813875
             ],
             "passed_time": 7.57601562,
             "remaining_time": 26.86041902,
             "test": [
              0.2969162947
             ]
            },
            {
             "iteration": 22,
             "learn": [
              0.286765363
             ],
             "passed_time": 7.952048114,
             "remaining_time": 26.62207412,
             "test": [
              0.2867012504
             ]
            },
            {
             "iteration": 23,
             "learn": [
              0.276501447
             ],
             "passed_time": 8.465755495,
             "remaining_time": 26.80822573,
             "test": [
              0.2768899393
             ]
            },
            {
             "iteration": 24,
             "learn": [
              0.2664420824
             ],
             "passed_time": 8.857907435,
             "remaining_time": 26.57372231,
             "test": [
              0.2674626074
             ]
            },
            {
             "iteration": 25,
             "learn": [
              0.2579793772
             ],
             "passed_time": 9.272985999,
             "remaining_time": 26.39234477,
             "test": [
              0.2584010574
             ]
            },
            {
             "iteration": 26,
             "learn": [
              0.2499631336
             ],
             "passed_time": 9.621117549,
             "remaining_time": 26.01265115,
             "test": [
              0.2496885405
             ]
            },
            {
             "iteration": 27,
             "learn": [
              0.2419717766
             ],
             "passed_time": 10.00463553,
             "remaining_time": 25.72620566,
             "test": [
              0.2413073064
             ]
            },
            {
             "iteration": 28,
             "learn": [
              0.2336780648
             ],
             "passed_time": 10.33706667,
             "remaining_time": 25.30799082,
             "test": [
              0.2332431947
             ]
            },
            {
             "iteration": 29,
             "learn": [
              0.2258453969
             ],
             "passed_time": 10.69263083,
             "remaining_time": 24.94947194,
             "test": [
              0.2254811442
             ]
            },
            {
             "iteration": 30,
             "learn": [
              0.2185231807
             ],
             "passed_time": 11.0852772,
             "remaining_time": 24.67368151,
             "test": [
              0.2180073076
             ]
            },
            {
             "iteration": 31,
             "learn": [
              0.2109305472
             ],
             "passed_time": 11.45304055,
             "remaining_time": 24.33771117,
             "test": [
              0.2108093655
             ]
            },
            {
             "iteration": 32,
             "learn": [
              0.2033500745
             ],
             "passed_time": 11.79056683,
             "remaining_time": 23.93842355,
             "test": [
              0.2038745725
             ]
            },
            {
             "iteration": 33,
             "learn": [
              0.1964250012
             ],
             "passed_time": 12.20824768,
             "remaining_time": 23.69836314,
             "test": [
              0.1971924415
             ]
            },
            {
             "iteration": 34,
             "learn": [
              0.1911683939
             ],
             "passed_time": 12.61614154,
             "remaining_time": 23.42997715,
             "test": [
              0.1907517443
             ]
            },
            {
             "iteration": 35,
             "learn": [
              0.1838991054
             ],
             "passed_time": 12.96409001,
             "remaining_time": 23.04727112,
             "test": [
              0.1845417517
             ]
            },
            {
             "iteration": 36,
             "learn": [
              0.178755341
             ],
             "passed_time": 13.3317746,
             "remaining_time": 22.70004864,
             "test": [
              0.178553158
             ]
            },
            {
             "iteration": 37,
             "learn": [
              0.1721860299
             ],
             "passed_time": 13.70103601,
             "remaining_time": 22.35432191,
             "test": [
              0.1727766279
             ]
            },
            {
             "iteration": 38,
             "learn": [
              0.1676662696
             ],
             "passed_time": 14.08323489,
             "remaining_time": 22.02762381,
             "test": [
              0.167204019
             ]
            },
            {
             "iteration": 39,
             "learn": [
              0.1614235199
             ],
             "passed_time": 14.44778733,
             "remaining_time": 21.671681,
             "test": [
              0.1618260128
             ]
            },
            {
             "iteration": 40,
             "learn": [
              0.1563269985
             ],
             "passed_time": 14.81776647,
             "remaining_time": 21.32312736,
             "test": [
              0.1566356952
             ]
            },
            {
             "iteration": 41,
             "learn": [
              0.1520155915
             ],
             "passed_time": 15.22510586,
             "remaining_time": 21.02514618,
             "test": [
              0.1516251638
             ]
            },
            {
             "iteration": 42,
             "learn": [
              0.1470017399
             ],
             "passed_time": 15.57034856,
             "remaining_time": 20.63976437,
             "test": [
              0.1467871931
             ]
            },
            {
             "iteration": 43,
             "learn": [
              0.141865619
             ],
             "passed_time": 15.96427202,
             "remaining_time": 20.31816439,
             "test": [
              0.1421157578
             ]
            },
            {
             "iteration": 44,
             "learn": [
              0.1371034629
             ],
             "passed_time": 16.2772877,
             "remaining_time": 19.89446275,
             "test": [
              0.1376035792
             ]
            },
            {
             "iteration": 45,
             "learn": [
              0.1329065385
             ],
             "passed_time": 16.66030025,
             "remaining_time": 19.55774377,
             "test": [
              0.1332443516
             ]
            },
            {
             "iteration": 46,
             "learn": [
              0.1289168071
             ],
             "passed_time": 16.99964328,
             "remaining_time": 19.16981051,
             "test": [
              0.1290348722
             ]
            },
            {
             "iteration": 47,
             "learn": [
              0.1249903989
             ],
             "passed_time": 17.36788414,
             "remaining_time": 18.81520782,
             "test": [
              0.1249654382
             ]
            },
            {
             "iteration": 48,
             "learn": [
              0.1210812969
             ],
             "passed_time": 17.76284221,
             "remaining_time": 18.48785618,
             "test": [
              0.1210324435
             ]
            },
            {
             "iteration": 49,
             "learn": [
              0.1171935162
             ],
             "passed_time": 18.11633796,
             "remaining_time": 18.11633796,
             "test": [
              0.1172308625
             ]
            },
            {
             "iteration": 50,
             "learn": [
              0.1133183364
             ],
             "passed_time": 18.45598127,
             "remaining_time": 17.7322173,
             "test": [
              0.1135561757
             ]
            },
            {
             "iteration": 51,
             "learn": [
              0.1097545886
             ],
             "passed_time": 18.82443622,
             "remaining_time": 17.37640266,
             "test": [
              0.1100032263
             ]
            },
            {
             "iteration": 52,
             "learn": [
              0.1069261808
             ],
             "passed_time": 19.17610325,
             "remaining_time": 17.00522364,
             "test": [
              0.1065674113
             ]
            },
            {
             "iteration": 53,
             "learn": [
              0.1034040636
             ],
             "passed_time": 19.55496969,
             "remaining_time": 16.65793715,
             "test": [
              0.1032449981
             ]
            },
            {
             "iteration": 54,
             "learn": [
              0.09972996562
             ],
             "passed_time": 19.9098905,
             "remaining_time": 16.28991041,
             "test": [
              0.1000313945
             ]
            },
            {
             "iteration": 55,
             "learn": [
              0.09713730589
             ],
             "passed_time": 20.24529463,
             "remaining_time": 15.90701721,
             "test": [
              0.09692288663
             ]
            },
            {
             "iteration": 56,
             "learn": [
              0.09376524922
             ],
             "passed_time": 20.56982472,
             "remaining_time": 15.51758707,
             "test": [
              0.09391568043
             ]
            },
            {
             "iteration": 57,
             "learn": [
              0.09122256263
             ],
             "passed_time": 20.93045538,
             "remaining_time": 15.15653665,
             "test": [
              0.09100614483
             ]
            },
            {
             "iteration": 58,
             "learn": [
              0.08794199623
             ],
             "passed_time": 21.29110149,
             "remaining_time": 14.7955112,
             "test": [
              0.08819143709
             ]
            },
            {
             "iteration": 59,
             "learn": [
              0.08547190189
             ],
             "passed_time": 21.68939234,
             "remaining_time": 14.45959489,
             "test": [
              0.08546772123
             ]
            },
            {
             "iteration": 60,
             "learn": [
              0.08257565533
             ],
             "passed_time": 22.05417426,
             "remaining_time": 14.10020977,
             "test": [
              0.08283205526
             ]
            },
            {
             "iteration": 61,
             "learn": [
              0.0801005454
             ],
             "passed_time": 22.44946273,
             "remaining_time": 13.75934813,
             "test": [
              0.08028050906
             ]
            },
            {
             "iteration": 62,
             "learn": [
              0.07797053157
             ],
             "passed_time": 22.84333456,
             "remaining_time": 13.41592664,
             "test": [
              0.07781151859
             ]
            },
            {
             "iteration": 63,
             "learn": [
              0.07548810437
             ],
             "passed_time": 23.29977397,
             "remaining_time": 13.10612286,
             "test": [
              0.07542164352
             ]
            },
            {
             "iteration": 64,
             "learn": [
              0.07295925611
             ],
             "passed_time": 23.69708369,
             "remaining_time": 12.75996814,
             "test": [
              0.07310738018
             ]
            },
            {
             "iteration": 65,
             "learn": [
              0.07054314371
             ],
             "passed_time": 24.03715138,
             "remaining_time": 12.38277495,
             "test": [
              0.07086702548
             ]
            },
            {
             "iteration": 66,
             "learn": [
              0.0684422977
             ],
             "passed_time": 24.47201955,
             "remaining_time": 12.05338276,
             "test": [
              0.06869758533
             ]
            },
            {
             "iteration": 67,
             "learn": [
              0.06643140579
             ],
             "passed_time": 24.78784689,
             "remaining_time": 11.66486912,
             "test": [
              0.06659642569
             ]
            },
            {
             "iteration": 68,
             "learn": [
              0.06446580309
             ],
             "passed_time": 25.16011775,
             "remaining_time": 11.30382102,
             "test": [
              0.06456193365
             ]
            },
            {
             "iteration": 69,
             "learn": [
              0.06251217208
             ],
             "passed_time": 25.49713254,
             "remaining_time": 10.92734252,
             "test": [
              0.06259140064
             ]
            },
            {
             "iteration": 70,
             "learn": [
              0.06056315266
             ],
             "passed_time": 25.88302772,
             "remaining_time": 10.5719409,
             "test": [
              0.06068320742
             ]
            },
            {
             "iteration": 71,
             "learn": [
              0.05865293966
             ],
             "passed_time": 26.24284647,
             "remaining_time": 10.2055514,
             "test": [
              0.0588350667
             ]
            },
            {
             "iteration": 72,
             "learn": [
              0.05684212729
             ],
             "passed_time": 26.64006111,
             "remaining_time": 9.853173286,
             "test": [
              0.05704477432
             ]
            },
            {
             "iteration": 73,
             "learn": [
              0.05543098571
             ],
             "passed_time": 26.98687959,
             "remaining_time": 9.481876614,
             "test": [
              0.05531054401
             ]
            },
            {
             "iteration": 74,
             "learn": [
              0.05367317096
             ],
             "passed_time": 27.26340108,
             "remaining_time": 9.08780036,
             "test": [
              0.05363046052
             ]
            },
            {
             "iteration": 75,
             "learn": [
              0.05182502926
             ],
             "passed_time": 27.62497767,
             "remaining_time": 8.723677158,
             "test": [
              0.05200340818
             ]
            },
            {
             "iteration": 76,
             "learn": [
              0.05053054925
             ],
             "passed_time": 28.02065281,
             "remaining_time": 8.369805385,
             "test": [
              0.0504266045
             ]
            },
            {
             "iteration": 77,
             "learn": [
              0.04884027736
             ],
             "passed_time": 28.40697473,
             "remaining_time": 8.012223641,
             "test": [
              0.04889867559
             ]
            },
            {
             "iteration": 78,
             "learn": [
              0.04721714574
             ],
             "passed_time": 28.75072945,
             "remaining_time": 7.642598969,
             "test": [
              0.04741838388
             ]
            },
            {
             "iteration": 79,
             "learn": [
              0.04591161009
             ],
             "passed_time": 29.15325478,
             "remaining_time": 7.288313695,
             "test": [
              0.04598417268
             ]
            },
            {
             "iteration": 80,
             "learn": [
              0.0446487104
             ],
             "passed_time": 29.50367824,
             "remaining_time": 6.920615883,
             "test": [
              0.0445939576
             ]
            },
            {
             "iteration": 81,
             "learn": [
              0.04306362789
             ],
             "passed_time": 29.92659864,
             "remaining_time": 6.56925336,
             "test": [
              0.04324730793
             ]
            },
            {
             "iteration": 82,
             "learn": [
              0.04195644912
             ],
             "passed_time": 30.29423853,
             "remaining_time": 6.204844035,
             "test": [
              0.04194221072
             ]
            },
            {
             "iteration": 83,
             "learn": [
              0.04071435736
             ],
             "passed_time": 30.7059682,
             "remaining_time": 5.848755848,
             "test": [
              0.04067703359
             ]
            },
            {
             "iteration": 84,
             "learn": [
              0.0393498779
             ],
             "passed_time": 31.11045257,
             "remaining_time": 5.490079865,
             "test": [
              0.03945096391
             ]
            },
            {
             "iteration": 85,
             "learn": [
              0.03812780217
             ],
             "passed_time": 31.47998018,
             "remaining_time": 5.124647936,
             "test": [
              0.03826288849
             ]
            },
            {
             "iteration": 86,
             "learn": [
              0.03710709712
             ],
             "passed_time": 31.82817622,
             "remaining_time": 4.755934378,
             "test": [
              0.03711088349
             ]
            },
            {
             "iteration": 87,
             "learn": [
              0.03605626337
             ],
             "passed_time": 32.23542978,
             "remaining_time": 4.395740424,
             "test": [
              0.03599428953
             ]
            },
            {
             "iteration": 88,
             "learn": [
              0.03486719228
             ],
             "passed_time": 32.51860333,
             "remaining_time": 4.019153221,
             "test": [
              0.03491145068
             ]
            },
            {
             "iteration": 89,
             "learn": [
              0.03382496068
             ],
             "passed_time": 32.87787035,
             "remaining_time": 3.653096706,
             "test": [
              0.0338621141
             ]
            },
            {
             "iteration": 90,
             "learn": [
              0.03282075676
             ],
             "passed_time": 33.28782244,
             "remaining_time": 3.29220222,
             "test": [
              0.03284496951
             ]
            },
            {
             "iteration": 91,
             "learn": [
              0.03182883336
             ],
             "passed_time": 33.64857415,
             "remaining_time": 2.92596297,
             "test": [
              0.03185896472
             ]
            },
            {
             "iteration": 92,
             "learn": [
              0.030851617
             ],
             "passed_time": 34.06713465,
             "remaining_time": 2.56419293,
             "test": [
              0.03090285305
             ]
            },
            {
             "iteration": 93,
             "learn": [
              0.02991138182
             ],
             "passed_time": 34.45261296,
             "remaining_time": 2.199102955,
             "test": [
              0.02997590812
             ]
            },
            {
             "iteration": 94,
             "learn": [
              0.02897246999
             ],
             "passed_time": 34.81805858,
             "remaining_time": 1.832529399,
             "test": [
              0.02907741352
             ]
            },
            {
             "iteration": 95,
             "learn": [
              0.02823888487
             ],
             "passed_time": 35.08511475,
             "remaining_time": 1.461879781,
             "test": [
              0.02820594941
             ]
            },
            {
             "iteration": 96,
             "learn": [
              0.02735158814
             ],
             "passed_time": 35.44530141,
             "remaining_time": 1.096246435,
             "test": [
              0.02736126377
             ]
            },
            {
             "iteration": 97,
             "learn": [
              0.02643379144
             ],
             "passed_time": 35.79715068,
             "remaining_time": 0.7305540954,
             "test": [
              0.02654234966
             ]
            },
            {
             "iteration": 98,
             "learn": [
              0.02577583536
             ],
             "passed_time": 36.13400554,
             "remaining_time": 0.3649899549,
             "test": [
              0.02574816994
             ]
            },
            {
             "iteration": 99,
             "learn": [
              0.02492011312
             ],
             "passed_time": 36.46652078,
             "remaining_time": 0,
             "test": [
              0.02497789352
             ]
            }
           ],
           "meta": {
            "iteration_count": 100,
            "launch_mode": "Train",
            "learn_metrics": [
             {
              "best_value": "Min",
              "name": "CrossEntropy"
             }
            ],
            "learn_sets": [
             "learn"
            ],
            "name": "experiment",
            "parameters": "",
            "test_metrics": [
             {
              "best_value": "Min",
              "name": "CrossEntropy"
             }
            ],
            "test_sets": [
             "test"
            ]
           }
          },
          "passed_iterations": 99,
          "total_iterations": 100
         },
         "name": "catboost_info",
         "path": "catboost_info"
        }
       },
       "layout": "IPY_MODEL_f86515683f954bfaa452a95379d89bba"
      }
     },
     "aa62b84025f24429a35ccf8915f87e76": {
      "model_module": "@jupyter-widgets/base",
      "model_module_version": "1.2.0",
      "model_name": "LayoutModel",
      "state": {
       "_model_module": "@jupyter-widgets/base",
       "_model_module_version": "1.2.0",
       "_model_name": "LayoutModel",
       "_view_count": null,
       "_view_module": "@jupyter-widgets/base",
       "_view_module_version": "1.2.0",
       "_view_name": "LayoutView",
       "align_content": null,
       "align_items": null,
       "align_self": "stretch",
       "border": null,
       "bottom": null,
       "display": null,
       "flex": null,
       "flex_flow": null,
       "grid_area": null,
       "grid_auto_columns": null,
       "grid_auto_flow": null,
       "grid_auto_rows": null,
       "grid_column": null,
       "grid_gap": null,
       "grid_row": null,
       "grid_template_areas": null,
       "grid_template_columns": null,
       "grid_template_rows": null,
       "height": "500px",
       "justify_content": null,
       "justify_items": null,
       "left": null,
       "margin": null,
       "max_height": null,
       "max_width": null,
       "min_height": null,
       "min_width": null,
       "object_fit": null,
       "object_position": null,
       "order": null,
       "overflow": null,
       "overflow_x": null,
       "overflow_y": null,
       "padding": null,
       "right": null,
       "top": null,
       "visibility": null,
       "width": null
      }
     },
     "ae8818af0a8f46cabda02d8be906578f": {
      "model_module": "catboost-widget",
      "model_module_version": "^1.0.0",
      "model_name": "CatboostWidgetModel",
      "state": {
       "_dom_classes": [],
       "_model_module": "catboost-widget",
       "_model_module_version": "^1.0.0",
       "_model_name": "CatboostWidgetModel",
       "_view_count": null,
       "_view_module": "catboost-widget",
       "_view_module_version": "^1.0.0",
       "_view_name": "CatboostWidgetView",
       "data": {
        "catboost_info": {
         "content": {
          "data": {
           "iterations": [
            {
             "iteration": 0,
             "learn": [
              0.6613913929
             ],
             "passed_time": 0.3237126153,
             "remaining_time": 32.04754891,
             "test": [
              0.6636067349
             ]
            },
            {
             "iteration": 1,
             "learn": [
              0.6363220013
             ],
             "passed_time": 0.6242302407,
             "remaining_time": 30.58728179,
             "test": [
              0.6357840117
             ]
            },
            {
             "iteration": 2,
             "learn": [
              0.6093984078
             ],
             "passed_time": 1.004649338,
             "remaining_time": 32.48366193,
             "test": [
              0.609537991
             ]
            },
            {
             "iteration": 3,
             "learn": [
              0.5837466118
             ],
             "passed_time": 1.281261044,
             "remaining_time": 30.75026505,
             "test": [
              0.5847352259
             ]
            },
            {
             "iteration": 4,
             "learn": [
              0.562226848
             ],
             "passed_time": 1.618824524,
             "remaining_time": 30.75766595,
             "test": [
              0.5612643219
             ]
            },
            {
             "iteration": 5,
             "learn": [
              0.5378361781
             ],
             "passed_time": 1.943348346,
             "remaining_time": 30.44579076,
             "test": [
              0.5390239667
             ]
            },
            {
             "iteration": 6,
             "learn": [
              0.5169357539
             ],
             "passed_time": 2.336318963,
             "remaining_time": 31.03966622,
             "test": [
              0.5179214384
             ]
            },
            {
             "iteration": 7,
             "learn": [
              0.4987558023
             ],
             "passed_time": 2.612665942,
             "remaining_time": 30.04565834,
             "test": [
              0.4978764171
             ]
            },
            {
             "iteration": 8,
             "learn": [
              0.4785990898
             ],
             "passed_time": 2.955418044,
             "remaining_time": 29.88256023,
             "test": [
              0.4788153065
             ]
            },
            {
             "iteration": 9,
             "learn": [
              0.4606456987
             ],
             "passed_time": 3.362510521,
             "remaining_time": 30.26259469,
             "test": [
              0.4606725235
             ]
            },
            {
             "iteration": 10,
             "learn": [
              0.4440430022
             ],
             "passed_time": 3.696856518,
             "remaining_time": 29.91093001,
             "test": [
              0.4433871701
             ]
            },
            {
             "iteration": 11,
             "learn": [
              0.4281342572
             ],
             "passed_time": 4.091740232,
             "remaining_time": 30.00609504,
             "test": [
              0.4269059426
             ]
            },
            {
             "iteration": 12,
             "learn": [
              0.4122818041
             ],
             "passed_time": 4.44612129,
             "remaining_time": 29.75481171,
             "test": [
              0.4111766264
             ]
            },
            {
             "iteration": 13,
             "learn": [
              0.3968749917
             ],
             "passed_time": 4.738207265,
             "remaining_time": 29.10613034,
             "test": [
              0.396153166
             ]
            },
            {
             "iteration": 14,
             "learn": [
              0.3825211845
             ],
             "passed_time": 5.08346408,
             "remaining_time": 28.80629645,
             "test": [
              0.3817931957
             ]
            },
            {
             "iteration": 15,
             "learn": [
              0.3674621369
             ],
             "passed_time": 5.405990185,
             "remaining_time": 28.38144847,
             "test": [
              0.3680600513
             ]
            },
            {
             "iteration": 16,
             "learn": [
              0.3540777656
             ],
             "passed_time": 5.780632145,
             "remaining_time": 28.22308635,
             "test": [
              0.3549161216
             ]
            },
            {
             "iteration": 17,
             "learn": [
              0.3432902763
             ],
             "passed_time": 6.10079953,
             "remaining_time": 27.79253119,
             "test": [
              0.3423302188
             ]
            },
            {
             "iteration": 18,
             "learn": [
              0.3302050012
             ],
             "passed_time": 6.433682173,
             "remaining_time": 27.42780295,
             "test": [
              0.3302750877
             ]
            },
            {
             "iteration": 19,
             "learn": [
              0.3198006773
             ],
             "passed_time": 6.73963512,
             "remaining_time": 26.95854048,
             "test": [
              0.318714513
             ]
            },
            {
             "iteration": 20,
             "learn": [
              0.3071790093
             ],
             "passed_time": 7.130925769,
             "remaining_time": 26.82586361,
             "test": [
              0.3076271161
             ]
            },
            {
             "iteration": 21,
             "learn": [
              0.2970187912
             ],
             "passed_time": 7.497260092,
             "remaining_time": 26.58119487,
             "test": [
              0.2969886815
             ]
            },
            {
             "iteration": 22,
             "learn": [
              0.286958815
             ],
             "passed_time": 7.861143125,
             "remaining_time": 26.31774003,
             "test": [
              0.2867728622
             ]
            },
            {
             "iteration": 23,
             "learn": [
              0.276668797
             ],
             "passed_time": 8.257617297,
             "remaining_time": 26.14912144,
             "test": [
              0.276963266
             ]
            },
            {
             "iteration": 24,
             "learn": [
              0.2667237503
             ],
             "passed_time": 8.546383903,
             "remaining_time": 25.63915171,
             "test": [
              0.2675376688
             ]
            },
            {
             "iteration": 25,
             "learn": [
              0.2581723363
             ],
             "passed_time": 8.864422877,
             "remaining_time": 25.22951127,
             "test": [
              0.2584774316
             ]
            },
            {
             "iteration": 26,
             "learn": [
              0.2501223941
             ],
             "passed_time": 9.214885472,
             "remaining_time": 24.91431998,
             "test": [
              0.249766919
             ]
            },
            {
             "iteration": 27,
             "learn": [
              0.2421345397
             ],
             "passed_time": 9.596565669,
             "remaining_time": 24.67688315,
             "test": [
              0.2413872449
             ]
            },
            {
             "iteration": 28,
             "learn": [
              0.233861607
             ],
             "passed_time": 9.970937503,
             "remaining_time": 24.41160561,
             "test": [
              0.2333238561
             ]
            },
            {
             "iteration": 29,
             "learn": [
              0.2260421741
             ],
             "passed_time": 10.32152808,
             "remaining_time": 24.08356552,
             "test": [
              0.2255628038
             ]
            },
            {
             "iteration": 30,
             "learn": [
              0.218703309
             ],
             "passed_time": 10.70904639,
             "remaining_time": 23.83626454,
             "test": [
              0.2180904129
             ]
            },
            {
             "iteration": 31,
             "learn": [
              0.2111176807
             ],
             "passed_time": 11.07771708,
             "remaining_time": 23.54014879,
             "test": [
              0.2108939509
             ]
            },
            {
             "iteration": 32,
             "learn": [
              0.2035904339
             ],
             "passed_time": 11.4104204,
             "remaining_time": 23.16661112,
             "test": [
              0.2039603075
             ]
            },
            {
             "iteration": 33,
             "learn": [
              0.1968260536
             ],
             "passed_time": 11.82238976,
             "remaining_time": 22.94934483,
             "test": [
              0.1972789894
             ]
            },
            {
             "iteration": 34,
             "learn": [
              0.1913747721
             ],
             "passed_time": 12.24454063,
             "remaining_time": 22.73986116,
             "test": [
              0.1908386359
             ]
            },
            {
             "iteration": 35,
             "learn": [
              0.1841970148
             ],
             "passed_time": 12.71459668,
             "remaining_time": 22.60372743,
             "test": [
              0.1846293202
             ]
            },
            {
             "iteration": 36,
             "learn": [
              0.1789677157
             ],
             "passed_time": 13.17637645,
             "remaining_time": 22.43545179,
             "test": [
              0.1786385723
             ]
            },
            {
             "iteration": 37,
             "learn": [
              0.1724575842
             ],
             "passed_time": 13.54255999,
             "remaining_time": 22.09575577,
             "test": [
              0.1728604951
             ]
            },
            {
             "iteration": 38,
             "learn": [
              0.1678621498
             ],
             "passed_time": 13.91035432,
             "remaining_time": 21.75722085,
             "test": [
              0.1672884668
             ]
            },
            {
             "iteration": 39,
             "learn": [
              0.1616692351
             ],
             "passed_time": 14.22356704,
             "remaining_time": 21.33535056,
             "test": [
              0.1619092035
             ]
            },
            {
             "iteration": 40,
             "learn": [
              0.156548064
             ],
             "passed_time": 14.61283838,
             "remaining_time": 21.02823083,
             "test": [
              0.1567182516
             ]
            },
            {
             "iteration": 41,
             "learn": [
              0.1522173565
             ],
             "passed_time": 15.01835256,
             "remaining_time": 20.73962973,
             "test": [
              0.151708459
             ]
            },
            {
             "iteration": 42,
             "learn": [
              0.1472273299
             ],
             "passed_time": 15.32773863,
             "remaining_time": 20.31816517,
             "test": [
              0.1468706022
             ]
            },
            {
             "iteration": 43,
             "learn": [
              0.1421217402
             ],
             "passed_time": 15.67924002,
             "remaining_time": 19.95539639,
             "test": [
              0.1421994166
             ]
            },
            {
             "iteration": 44,
             "learn": [
              0.1373606815
             ],
             "passed_time": 15.98323354,
             "remaining_time": 19.53506322,
             "test": [
              0.137688262
             ]
            },
            {
             "iteration": 45,
             "learn": [
              0.1331533281
             ],
             "passed_time": 16.35240485,
             "remaining_time": 19.19630134,
             "test": [
              0.1333286398
             ]
            },
            {
             "iteration": 46,
             "learn": [
              0.129142706
             ],
             "passed_time": 16.68716977,
             "remaining_time": 18.81744676,
             "test": [
              0.1291178289
             ]
            },
            {
             "iteration": 47,
             "learn": [
              0.1252188935
             ],
             "passed_time": 17.05100347,
             "remaining_time": 18.47192043,
             "test": [
              0.1250487486
             ]
            },
            {
             "iteration": 48,
             "learn": [
              0.1213071037
             ],
             "passed_time": 17.39972412,
             "remaining_time": 18.10991694,
             "test": [
              0.1211146058
             ]
            },
            {
             "iteration": 49,
             "learn": [
              0.1174247116
             ],
             "passed_time": 17.74860155,
             "remaining_time": 17.74860155,
             "test": [
              0.1173142675
             ]
            },
            {
             "iteration": 50,
             "learn": [
              0.1135618567
             ],
             "passed_time": 18.09845106,
             "remaining_time": 17.38870788,
             "test": [
              0.113637415
             ]
            },
            {
             "iteration": 51,
             "learn": [
              0.1099983832
             ],
             "passed_time": 18.4638553,
             "remaining_time": 17.04355874,
             "test": [
              0.1100858259
             ]
            },
            {
             "iteration": 52,
             "learn": [
              0.1071416129
             ],
             "passed_time": 18.78957291,
             "remaining_time": 16.66245145,
             "test": [
              0.1066501707
             ]
            },
            {
             "iteration": 53,
             "learn": [
              0.1036477778
             ],
             "passed_time": 19.16289169,
             "remaining_time": 16.32394478,
             "test": [
              0.1033287493
             ]
            },
            {
             "iteration": 54,
             "learn": [
              0.09998710045
             ],
             "passed_time": 19.49297934,
             "remaining_time": 15.94880128,
             "test": [
              0.1001164412
             ]
            },
            {
             "iteration": 55,
             "learn": [
              0.0973855429
             ],
             "passed_time": 19.8203238,
             "remaining_time": 15.57311155,
             "test": [
              0.09700921371
             ]
            },
            {
             "iteration": 56,
             "learn": [
              0.09400918025
             ],
             "passed_time": 20.0742316,
             "remaining_time": 15.14371858,
             "test": [
              0.09400034772
             ]
            },
            {
             "iteration": 57,
             "learn": [
              0.09144213802
             ],
             "passed_time": 20.41603877,
             "remaining_time": 14.78402808,
             "test": [
              0.09108890745
             ]
            },
            {
             "iteration": 58,
             "learn": [
              0.08819460493
             ],
             "passed_time": 20.7611938,
             "remaining_time": 14.42727027,
             "test": [
              0.08827223653
             ]
            },
            {
             "iteration": 59,
             "learn": [
              0.08574772937
             ],
             "passed_time": 21.15398242,
             "remaining_time": 14.10265495,
             "test": [
              0.08554907404
             ]
            },
            {
             "iteration": 60,
             "learn": [
              0.08284210034
             ],
             "passed_time": 21.51008057,
             "remaining_time": 13.75234659,
             "test": [
              0.08291360154
             ]
            },
            {
             "iteration": 61,
             "learn": [
              0.08034469822
             ],
             "passed_time": 21.90224991,
             "remaining_time": 13.42395962,
             "test": [
              0.08036321243
             ]
            },
            {
             "iteration": 62,
             "learn": [
              0.07819423058
             ],
             "passed_time": 22.29065069,
             "remaining_time": 13.09133453,
             "test": [
              0.07789279915
             ]
            },
            {
             "iteration": 63,
             "learn": [
              0.07571691108
             ],
             "passed_time": 22.67398631,
             "remaining_time": 12.7541173,
             "test": [
              0.07550058548
             ]
            },
            {
             "iteration": 64,
             "learn": [
              0.07320835891
             ],
             "passed_time": 23.06818044,
             "remaining_time": 12.42132793,
             "test": [
              0.07318766109
             ]
            },
            {
             "iteration": 65,
             "learn": [
              0.07085679677
             ],
             "passed_time": 23.40601143,
             "remaining_time": 12.05764225,
             "test": [
              0.07094533144
             ]
            },
            {
             "iteration": 66,
             "learn": [
              0.06872443546
             ],
             "passed_time": 23.82854626,
             "remaining_time": 11.73644816,
             "test": [
              0.06877722937
             ]
            },
            {
             "iteration": 67,
             "learn": [
              0.06667330129
             ],
             "passed_time": 24.13965339,
             "remaining_time": 11.35983689,
             "test": [
              0.0666770767
             ]
            },
            {
             "iteration": 68,
             "learn": [
              0.06469645803
             ],
             "passed_time": 24.46524685,
             "remaining_time": 10.99163264,
             "test": [
              0.0646412812
             ]
            },
            {
             "iteration": 69,
             "learn": [
              0.06273636394
             ],
             "passed_time": 24.80621391,
             "remaining_time": 10.63123453,
             "test": [
              0.06266923262
             ]
            },
            {
             "iteration": 70,
             "learn": [
              0.06079381416
             ],
             "passed_time": 25.17267443,
             "remaining_time": 10.2817966,
             "test": [
              0.06076085476
             ]
            },
            {
             "iteration": 71,
             "learn": [
              0.05889193876
             ],
             "passed_time": 25.5302209,
             "remaining_time": 9.928419238,
             "test": [
              0.05891294963
             ]
            },
            {
             "iteration": 72,
             "learn": [
              0.05708910584
             ],
             "passed_time": 25.87864762,
             "remaining_time": 9.5715546,
             "test": [
              0.05712387539
             ]
            },
            {
             "iteration": 73,
             "learn": [
              0.05565239454
             ],
             "passed_time": 26.20829657,
             "remaining_time": 9.208320418,
             "test": [
              0.05538709902
             ]
            },
            {
             "iteration": 74,
             "learn": [
              0.05390965564
             ],
             "passed_time": 26.50131079,
             "remaining_time": 8.833770264,
             "test": [
              0.0537062742
             ]
            },
            {
             "iteration": 75,
             "learn": [
              0.05206906542
             ],
             "passed_time": 26.86812667,
             "remaining_time": 8.484671581,
             "test": [
              0.05207887295
             ]
            },
            {
             "iteration": 76,
             "learn": [
              0.0507461653
             ],
             "passed_time": 27.18424224,
             "remaining_time": 8.119968462,
             "test": [
              0.05049990665
             ]
            },
            {
             "iteration": 77,
             "learn": [
              0.04905901486
             ],
             "passed_time": 27.51551517,
             "remaining_time": 7.76078633,
             "test": [
              0.0489701352
             ]
            },
            {
             "iteration": 78,
             "learn": [
              0.04753775473
             ],
             "passed_time": 27.83766216,
             "remaining_time": 7.399884879,
             "test": [
              0.04749043625
             ]
            },
            {
             "iteration": 79,
             "learn": [
              0.04613637531
             ],
             "passed_time": 28.20609001,
             "remaining_time": 7.051522503,
             "test": [
              0.04605723185
             ]
            },
            {
             "iteration": 80,
             "learn": [
              0.04487096613
             ],
             "passed_time": 28.53877609,
             "remaining_time": 6.694280811,
             "test": [
              0.04466788328
             ]
            },
            {
             "iteration": 81,
             "learn": [
              0.04332865262
             ],
             "passed_time": 28.93728438,
             "remaining_time": 6.352086816,
             "test": [
              0.04332210426
             ]
            },
            {
             "iteration": 82,
             "learn": [
              0.04219693009
             ],
             "passed_time": 29.28863598,
             "remaining_time": 5.998877248,
             "test": [
              0.04201823072
             ]
            },
            {
             "iteration": 83,
             "learn": [
              0.04094855844
             ],
             "passed_time": 29.68470545,
             "remaining_time": 5.654229609,
             "test": [
              0.04075368107
             ]
            },
            {
             "iteration": 84,
             "learn": [
              0.0395966092
             ],
             "passed_time": 30.07683118,
             "remaining_time": 5.307676091,
             "test": [
              0.03952819936
             ]
            },
            {
             "iteration": 85,
             "learn": [
              0.03837477497
             ],
             "passed_time": 30.39129688,
             "remaining_time": 4.947420422,
             "test": [
              0.03833845027
             ]
            },
            {
             "iteration": 86,
             "learn": [
              0.03732219976
             ],
             "passed_time": 30.70536846,
             "remaining_time": 4.588158505,
             "test": [
              0.03718400958
             ]
            },
            {
             "iteration": 87,
             "learn": [
              0.03626471318
             ],
             "passed_time": 31.04195573,
             "remaining_time": 4.232993963,
             "test": [
              0.03606587706
             ]
            },
            {
             "iteration": 88,
             "learn": [
              0.03508972975
             ],
             "passed_time": 31.33085045,
             "remaining_time": 3.872352303,
             "test": [
              0.03498126951
             ]
            },
            {
             "iteration": 89,
             "learn": [
              0.0340429901
             ],
             "passed_time": 31.68485066,
             "remaining_time": 3.520538962,
             "test": [
              0.03392994054
             ]
            },
            {
             "iteration": 90,
             "learn": [
              0.03302391732
             ],
             "passed_time": 32.08101996,
             "remaining_time": 3.172848128,
             "test": [
              0.03291154835
             ]
            },
            {
             "iteration": 91,
             "learn": [
              0.03202879607
             ],
             "passed_time": 32.34328474,
             "remaining_time": 2.812459543,
             "test": [
              0.03192411084
             ]
            },
            {
             "iteration": 92,
             "learn": [
              0.03105430689
             ],
             "passed_time": 32.68670183,
             "remaining_time": 2.460289385,
             "test": [
              0.03096708881
             ]
            },
            {
             "iteration": 93,
             "learn": [
              0.03012673992
             ],
             "passed_time": 33.06862263,
             "remaining_time": 2.110763146,
             "test": [
              0.03004102634
             ]
            },
            {
             "iteration": 94,
             "learn": [
              0.02921275464
             ],
             "passed_time": 33.42264995,
             "remaining_time": 1.759086839,
             "test": [
              0.02914388496
             ]
            },
            {
             "iteration": 95,
             "learn": [
              0.02842931561
             ],
             "passed_time": 33.68792476,
             "remaining_time": 1.403663532,
             "test": [
              0.02827093564
             ]
            },
            {
             "iteration": 96,
             "learn": [
              0.02753366609
             ],
             "passed_time": 33.98694481,
             "remaining_time": 1.051142623,
             "test": [
              0.02742542614
             ]
            },
            {
             "iteration": 97,
             "learn": [
              0.02665484621
             ],
             "passed_time": 34.33170513,
             "remaining_time": 0.7006470434,
             "test": [
              0.02660773753
             ]
            },
            {
             "iteration": 98,
             "learn": [
              0.02596281688
             ],
             "passed_time": 34.61990084,
             "remaining_time": 0.3496959681,
             "test": [
              0.02581138022
             ]
            },
            {
             "iteration": 99,
             "learn": [
              0.02510288231
             ],
             "passed_time": 34.93624366,
             "remaining_time": 0,
             "test": [
              0.02504048565
             ]
            }
           ],
           "meta": {
            "iteration_count": 100,
            "launch_mode": "Train",
            "learn_metrics": [
             {
              "best_value": "Min",
              "name": "CrossEntropy"
             }
            ],
            "learn_sets": [
             "learn"
            ],
            "name": "experiment",
            "parameters": "",
            "test_metrics": [
             {
              "best_value": "Min",
              "name": "CrossEntropy"
             }
            ],
            "test_sets": [
             "test"
            ]
           }
          },
          "passed_iterations": 99,
          "total_iterations": 100
         },
         "name": "catboost_info",
         "path": "catboost_info"
        }
       },
       "layout": "IPY_MODEL_47a6602b7b4b46bdb0268fbdc2962b87"
      }
     },
     "b0b915e7fdf64946ac00b9f60d4d24a2": {
      "model_module": "@jupyter-widgets/base",
      "model_module_version": "1.2.0",
      "model_name": "LayoutModel",
      "state": {
       "_model_module": "@jupyter-widgets/base",
       "_model_module_version": "1.2.0",
       "_model_name": "LayoutModel",
       "_view_count": null,
       "_view_module": "@jupyter-widgets/base",
       "_view_module_version": "1.2.0",
       "_view_name": "LayoutView",
       "align_content": null,
       "align_items": null,
       "align_self": "stretch",
       "border": null,
       "bottom": null,
       "display": null,
       "flex": null,
       "flex_flow": null,
       "grid_area": null,
       "grid_auto_columns": null,
       "grid_auto_flow": null,
       "grid_auto_rows": null,
       "grid_column": null,
       "grid_gap": null,
       "grid_row": null,
       "grid_template_areas": null,
       "grid_template_columns": null,
       "grid_template_rows": null,
       "height": "500px",
       "justify_content": null,
       "justify_items": null,
       "left": null,
       "margin": null,
       "max_height": null,
       "max_width": null,
       "min_height": null,
       "min_width": null,
       "object_fit": null,
       "object_position": null,
       "order": null,
       "overflow": null,
       "overflow_x": null,
       "overflow_y": null,
       "padding": null,
       "right": null,
       "top": null,
       "visibility": null,
       "width": null
      }
     },
     "b2c8b93f94084148abbd267dee51c702": {
      "model_module": "@jupyter-widgets/base",
      "model_module_version": "1.2.0",
      "model_name": "LayoutModel",
      "state": {
       "_model_module": "@jupyter-widgets/base",
       "_model_module_version": "1.2.0",
       "_model_name": "LayoutModel",
       "_view_count": null,
       "_view_module": "@jupyter-widgets/base",
       "_view_module_version": "1.2.0",
       "_view_name": "LayoutView",
       "align_content": null,
       "align_items": null,
       "align_self": "stretch",
       "border": null,
       "bottom": null,
       "display": null,
       "flex": null,
       "flex_flow": null,
       "grid_area": null,
       "grid_auto_columns": null,
       "grid_auto_flow": null,
       "grid_auto_rows": null,
       "grid_column": null,
       "grid_gap": null,
       "grid_row": null,
       "grid_template_areas": null,
       "grid_template_columns": null,
       "grid_template_rows": null,
       "height": "500px",
       "justify_content": null,
       "justify_items": null,
       "left": null,
       "margin": null,
       "max_height": null,
       "max_width": null,
       "min_height": null,
       "min_width": null,
       "object_fit": null,
       "object_position": null,
       "order": null,
       "overflow": null,
       "overflow_x": null,
       "overflow_y": null,
       "padding": null,
       "right": null,
       "top": null,
       "visibility": null,
       "width": null
      }
     },
     "b515c4bbcd3f42d386b200af31ac3700": {
      "model_module": "@jupyter-widgets/base",
      "model_module_version": "1.2.0",
      "model_name": "LayoutModel",
      "state": {
       "_model_module": "@jupyter-widgets/base",
       "_model_module_version": "1.2.0",
       "_model_name": "LayoutModel",
       "_view_count": null,
       "_view_module": "@jupyter-widgets/base",
       "_view_module_version": "1.2.0",
       "_view_name": "LayoutView",
       "align_content": null,
       "align_items": null,
       "align_self": "stretch",
       "border": null,
       "bottom": null,
       "display": null,
       "flex": null,
       "flex_flow": null,
       "grid_area": null,
       "grid_auto_columns": null,
       "grid_auto_flow": null,
       "grid_auto_rows": null,
       "grid_column": null,
       "grid_gap": null,
       "grid_row": null,
       "grid_template_areas": null,
       "grid_template_columns": null,
       "grid_template_rows": null,
       "height": "500px",
       "justify_content": null,
       "justify_items": null,
       "left": null,
       "margin": null,
       "max_height": null,
       "max_width": null,
       "min_height": null,
       "min_width": null,
       "object_fit": null,
       "object_position": null,
       "order": null,
       "overflow": null,
       "overflow_x": null,
       "overflow_y": null,
       "padding": null,
       "right": null,
       "top": null,
       "visibility": null,
       "width": null
      }
     },
     "b8619e36814b495aa232c9644e47c669": {
      "model_module": "catboost-widget",
      "model_module_version": "^1.0.0",
      "model_name": "CatboostWidgetModel",
      "state": {
       "_dom_classes": [],
       "_model_module": "catboost-widget",
       "_model_module_version": "^1.0.0",
       "_model_name": "CatboostWidgetModel",
       "_view_count": null,
       "_view_module": "catboost-widget",
       "_view_module_version": "^1.0.0",
       "_view_name": "CatboostWidgetView",
       "data": {
        "catboost_info": {
         "content": {
          "data": {
           "iterations": [
            {
             "iteration": 0,
             "learn": [
              0.6670179599
             ],
             "passed_time": 0.3265694831,
             "remaining_time": 32.33037883,
             "test": [
              0.6681379547
             ]
            },
            {
             "iteration": 1,
             "learn": [
              0.6444664048
             ],
             "passed_time": 0.6298030845,
             "remaining_time": 30.86035114,
             "test": [
              0.6442355875
             ]
            },
            {
             "iteration": 2,
             "learn": [
              0.6216049964
             ],
             "passed_time": 0.9704731801,
             "remaining_time": 31.37863282,
             "test": [
              0.6217439828
             ]
            },
            {
             "iteration": 3,
             "learn": [
              0.6018376807
             ],
             "passed_time": 1.275785658,
             "remaining_time": 30.61885579,
             "test": [
              0.6005173334
             ]
            },
            {
             "iteration": 4,
             "learn": [
              0.5811363103
             ],
             "passed_time": 1.572281124,
             "remaining_time": 29.87334135,
             "test": [
              0.5802938387
             ]
            },
            {
             "iteration": 5,
             "learn": [
              0.5627538932
             ],
             "passed_time": 1.9138148,
             "remaining_time": 29.98309854,
             "test": [
              0.5611965544
             ]
            },
            {
             "iteration": 6,
             "learn": [
              0.5455037363
             ],
             "passed_time": 2.257378389,
             "remaining_time": 29.99088432,
             "test": [
              0.5429708071
             ]
            },
            {
             "iteration": 7,
             "learn": [
              0.5276183451
             ],
             "passed_time": 2.591471499,
             "remaining_time": 29.80192224,
             "test": [
              0.5258584425
             ]
            },
            {
             "iteration": 8,
             "learn": [
              0.5117694417
             ],
             "passed_time": 2.880207558,
             "remaining_time": 29.12209864,
             "test": [
              0.5092844774
             ]
            },
            {
             "iteration": 9,
             "learn": [
              0.4956491635
             ],
             "passed_time": 3.228251509,
             "remaining_time": 29.05426358,
             "test": [
              0.4935418052
             ]
            },
            {
             "iteration": 10,
             "learn": [
              0.4811090633
             ],
             "passed_time": 3.5148496,
             "remaining_time": 28.43832858,
             "test": [
              0.4788489916
             ]
            },
            {
             "iteration": 11,
             "learn": [
              0.4672770211
             ],
             "passed_time": 3.809778724,
             "remaining_time": 27.93837731,
             "test": [
              0.4647014361
             ]
            },
            {
             "iteration": 12,
             "learn": [
              0.4542605083
             ],
             "passed_time": 4.142909386,
             "remaining_time": 27.72562435,
             "test": [
              0.4511155429
             ]
            },
            {
             "iteration": 13,
             "learn": [
              0.4415908322
             ],
             "passed_time": 4.458876433,
             "remaining_time": 27.39024095,
             "test": [
              0.4380452534
             ]
            },
            {
             "iteration": 14,
             "learn": [
              0.429675151
             ],
             "passed_time": 4.790475389,
             "remaining_time": 27.14602721,
             "test": [
              0.4253606484
             ]
            },
            {
             "iteration": 15,
             "learn": [
              0.4181942638
             ],
             "passed_time": 5.090708981,
             "remaining_time": 26.72622215,
             "test": [
              0.4138959742
             ]
            },
            {
             "iteration": 16,
             "learn": [
              0.4069477142
             ],
             "passed_time": 5.409306145,
             "remaining_time": 26.41014177,
             "test": [
              0.4024586612
             ]
            },
            {
             "iteration": 17,
             "learn": [
              0.3962726831
             ],
             "passed_time": 5.713610761,
             "remaining_time": 26.02867124,
             "test": [
              0.3915386462
             ]
            },
            {
             "iteration": 18,
             "learn": [
              0.385809529
             ],
             "passed_time": 6.069236391,
             "remaining_time": 25.87411304,
             "test": [
              0.3808792612
             ]
            },
            {
             "iteration": 19,
             "learn": [
              0.3762620539
             ],
             "passed_time": 6.357173502,
             "remaining_time": 25.42869401,
             "test": [
              0.3709964663
             ]
            },
            {
             "iteration": 20,
             "learn": [
              0.3666980876
             ],
             "passed_time": 6.710254995,
             "remaining_time": 25.24334022,
             "test": [
              0.3614559177
             ]
            },
            {
             "iteration": 21,
             "learn": [
              0.3580105305
             ],
             "passed_time": 7.12555518,
             "remaining_time": 25.263332,
             "test": [
              0.3522520833
             ]
            },
            {
             "iteration": 22,
             "learn": [
              0.3493146343
             ],
             "passed_time": 7.534392545,
             "remaining_time": 25.22383591,
             "test": [
              0.3434961043
             ]
            },
            {
             "iteration": 23,
             "learn": [
              0.3407256339
             ],
             "passed_time": 7.849788285,
             "remaining_time": 24.8576629,
             "test": [
              0.3349293903
             ]
            },
            {
             "iteration": 24,
             "learn": [
              0.3327519815
             ],
             "passed_time": 8.130467096,
             "remaining_time": 24.39140129,
             "test": [
              0.3268710057
             ]
            },
            {
             "iteration": 25,
             "learn": [
              0.3249989231
             ],
             "passed_time": 8.45600524,
             "remaining_time": 24.06709184,
             "test": [
              0.318991493
             ]
            },
            {
             "iteration": 26,
             "learn": [
              0.3176686772
             ],
             "passed_time": 8.834786225,
             "remaining_time": 23.88664424,
             "test": [
              0.3114781724
             ]
            },
            {
             "iteration": 27,
             "learn": [
              0.3101391632
             ],
             "passed_time": 9.123753935,
             "remaining_time": 23.46108155,
             "test": [
              0.3037660016
             ]
            },
            {
             "iteration": 28,
             "learn": [
              0.3030991847
             ],
             "passed_time": 9.46024432,
             "remaining_time": 23.16128782,
             "test": [
              0.2969255052
             ]
            },
            {
             "iteration": 29,
             "learn": [
              0.2966630213
             ],
             "passed_time": 9.72444353,
             "remaining_time": 22.69036824,
             "test": [
              0.2903643014
             ]
            },
            {
             "iteration": 30,
             "learn": [
              0.2897598621
             ],
             "passed_time": 10.06467246,
             "remaining_time": 22.4020129,
             "test": [
              0.2835910738
             ]
            },
            {
             "iteration": 31,
             "learn": [
              0.2832063555
             ],
             "passed_time": 10.35617024,
             "remaining_time": 22.00686176,
             "test": [
              0.2769816108
             ]
            },
            {
             "iteration": 32,
             "learn": [
              0.277130732
             ],
             "passed_time": 10.66930769,
             "remaining_time": 21.66192773,
             "test": [
              0.2710297652
             ]
            },
            {
             "iteration": 33,
             "learn": [
              0.2711618124
             ],
             "passed_time": 10.99863906,
             "remaining_time": 21.35029935,
             "test": [
              0.2651507609
             ]
            },
            {
             "iteration": 34,
             "learn": [
              0.2660803572
             ],
             "passed_time": 11.23945092,
             "remaining_time": 20.87326599,
             "test": [
              0.2597412659
             ]
            },
            {
             "iteration": 35,
             "learn": [
              0.260338933
             ],
             "passed_time": 11.5833552,
             "remaining_time": 20.59263147,
             "test": [
              0.2540990931
             ]
            },
            {
             "iteration": 36,
             "learn": [
              0.2551945769
             ],
             "passed_time": 11.90333315,
             "remaining_time": 20.26783753,
             "test": [
              0.2488714526
             ]
            },
            {
             "iteration": 37,
             "learn": [
              0.2501471526
             ],
             "passed_time": 12.18806274,
             "remaining_time": 19.88578657,
             "test": [
              0.2439282925
             ]
            },
            {
             "iteration": 38,
             "learn": [
              0.245077944
             ],
             "passed_time": 12.51005181,
             "remaining_time": 19.56700412,
             "test": [
              0.2389479058
             ]
            },
            {
             "iteration": 39,
             "learn": [
              0.2405352079
             ],
             "passed_time": 12.8014403,
             "remaining_time": 19.20216046,
             "test": [
              0.2340892293
             ]
            },
            {
             "iteration": 40,
             "learn": [
              0.2361652276
             ],
             "passed_time": 13.11936094,
             "remaining_time": 18.87908038,
             "test": [
              0.2295227743
             ]
            },
            {
             "iteration": 41,
             "learn": [
              0.2318394182
             ],
             "passed_time": 13.41388363,
             "remaining_time": 18.52393454,
             "test": [
              0.225229652
             ]
            },
            {
             "iteration": 42,
             "learn": [
              0.2275466508
             ],
             "passed_time": 13.70728289,
             "remaining_time": 18.17011918,
             "test": [
              0.2210778702
             ]
            },
            {
             "iteration": 43,
             "learn": [
              0.223304361
             ],
             "passed_time": 14.08189841,
             "remaining_time": 17.92241616,
             "test": [
              0.2167419166
             ]
            },
            {
             "iteration": 44,
             "learn": [
              0.2193725755
             ],
             "passed_time": 14.39718206,
             "remaining_time": 17.59655585,
             "test": [
              0.2127648347
             ]
            },
            {
             "iteration": 45,
             "learn": [
              0.215701393
             ],
             "passed_time": 14.68547267,
             "remaining_time": 17.23946792,
             "test": [
              0.2090849959
             ]
            },
            {
             "iteration": 46,
             "learn": [
              0.211715827
             ],
             "passed_time": 14.98840524,
             "remaining_time": 16.90181868,
             "test": [
              0.2050872649
             ]
            },
            {
             "iteration": 47,
             "learn": [
              0.208144711
             ],
             "passed_time": 15.27624409,
             "remaining_time": 16.54926444,
             "test": [
              0.201367962
             ]
            },
            {
             "iteration": 48,
             "learn": [
              0.2043357319
             ],
             "passed_time": 15.6157026,
             "remaining_time": 16.25307822,
             "test": [
              0.1975708203
             ]
            },
            {
             "iteration": 49,
             "learn": [
              0.2011221242
             ],
             "passed_time": 15.9244512,
             "remaining_time": 15.9244512,
             "test": [
              0.1941714399
             ]
            },
            {
             "iteration": 50,
             "learn": [
              0.197968556
             ],
             "passed_time": 16.17980561,
             "remaining_time": 15.54530343,
             "test": [
              0.1910786528
             ]
            },
            {
             "iteration": 51,
             "learn": [
              0.1945234835
             ],
             "passed_time": 16.51664621,
             "remaining_time": 15.24613496,
             "test": [
              0.1876110832
             ]
            },
            {
             "iteration": 52,
             "learn": [
              0.1909785036
             ],
             "passed_time": 16.85124613,
             "remaining_time": 14.94355789,
             "test": [
              0.1841321458
             ]
            },
            {
             "iteration": 53,
             "learn": [
              0.1877181075
             ],
             "passed_time": 17.20367317,
             "remaining_time": 14.65498085,
             "test": [
              0.1808951992
             ]
            },
            {
             "iteration": 54,
             "learn": [
              0.184812123
             ],
             "passed_time": 17.4855579,
             "remaining_time": 14.30636555,
             "test": [
              0.1780112424
             ]
            },
            {
             "iteration": 55,
             "learn": [
              0.1816940493
             ],
             "passed_time": 17.82600077,
             "remaining_time": 14.00614346,
             "test": [
              0.1748461823
             ]
            },
            {
             "iteration": 56,
             "learn": [
              0.1788562841
             ],
             "passed_time": 18.1511599,
             "remaining_time": 13.69298028,
             "test": [
              0.1718678964
             ]
            },
            {
             "iteration": 57,
             "learn": [
              0.1763227354
             ],
             "passed_time": 18.43656443,
             "remaining_time": 13.35061562,
             "test": [
              0.1693038529
             ]
            },
            {
             "iteration": 58,
             "learn": [
              0.1737271235
             ],
             "passed_time": 18.72251443,
             "remaining_time": 13.01056087,
             "test": [
              0.1667591327
             ]
            },
            {
             "iteration": 59,
             "learn": [
              0.1707605271
             ],
             "passed_time": 19.06021761,
             "remaining_time": 12.70681174,
             "test": [
              0.1640580087
             ]
            },
            {
             "iteration": 60,
             "learn": [
              0.1684187674
             ],
             "passed_time": 19.35391093,
             "remaining_time": 12.37381191,
             "test": [
              0.1616957195
             ]
            },
            {
             "iteration": 61,
             "learn": [
              0.1660721135
             ],
             "passed_time": 19.65336328,
             "remaining_time": 12.04560975,
             "test": [
              0.1594220059
             ]
            },
            {
             "iteration": 62,
             "learn": [
              0.1637609444
             ],
             "passed_time": 19.98474648,
             "remaining_time": 11.73707333,
             "test": [
              0.1573058697
             ]
            },
            {
             "iteration": 63,
             "learn": [
              0.1611623627
             ],
             "passed_time": 20.34300992,
             "remaining_time": 11.44294308,
             "test": [
              0.1546766225
             ]
            },
            {
             "iteration": 64,
             "learn": [
              0.1588485166
             ],
             "passed_time": 20.65520861,
             "remaining_time": 11.1220354,
             "test": [
              0.1522311941
             ]
            },
            {
             "iteration": 65,
             "learn": [
              0.1569059652
             ],
             "passed_time": 20.90497412,
             "remaining_time": 10.76922909,
             "test": [
              0.150196331
             ]
            },
            {
             "iteration": 66,
             "learn": [
              0.1545775291
             ],
             "passed_time": 21.26492882,
             "remaining_time": 10.47377091,
             "test": [
              0.1478604035
             ]
            },
            {
             "iteration": 67,
             "learn": [
              0.1525683507
             ],
             "passed_time": 21.59610272,
             "remaining_time": 10.16287187,
             "test": [
              0.1460347244
             ]
            },
            {
             "iteration": 68,
             "learn": [
              0.1503054987
             ],
             "passed_time": 21.87831576,
             "remaining_time": 9.829388241,
             "test": [
              0.1438164548
             ]
            },
            {
             "iteration": 69,
             "learn": [
              0.1481834881
             ],
             "passed_time": 22.23440409,
             "remaining_time": 9.529030326,
             "test": [
              0.1418020648
             ]
            },
            {
             "iteration": 70,
             "learn": [
              0.1464206963
             ],
             "passed_time": 22.53385092,
             "remaining_time": 9.203967276,
             "test": [
              0.140111233
             ]
            },
            {
             "iteration": 71,
             "learn": [
              0.1447568528
             ],
             "passed_time": 22.81647188,
             "remaining_time": 8.873072398,
             "test": [
              0.1385571256
             ]
            },
            {
             "iteration": 72,
             "learn": [
              0.142796552
             ],
             "passed_time": 23.13685887,
             "remaining_time": 8.557468348,
             "test": [
              0.1365968732
             ]
            },
            {
             "iteration": 73,
             "learn": [
              0.1411121065
             ],
             "passed_time": 23.42470117,
             "remaining_time": 8.230300411,
             "test": [
              0.1349551114
             ]
            },
            {
             "iteration": 74,
             "learn": [
              0.1394749975
             ],
             "passed_time": 23.74731307,
             "remaining_time": 7.915771022,
             "test": [
              0.1332863826
             ]
            },
            {
             "iteration": 75,
             "learn": [
              0.1375546106
             ],
             "passed_time": 24.11800101,
             "remaining_time": 7.616210844,
             "test": [
              0.1314234805
             ]
            },
            {
             "iteration": 76,
             "learn": [
              0.1355919202
             ],
             "passed_time": 24.49090858,
             "remaining_time": 7.315466198,
             "test": [
              0.1295897125
             ]
            },
            {
             "iteration": 77,
             "learn": [
              0.1340288113
             ],
             "passed_time": 24.80570545,
             "remaining_time": 6.996481025,
             "test": [
              0.1281128989
             ]
            },
            {
             "iteration": 78,
             "learn": [
              0.1321253621
             ],
             "passed_time": 25.14949071,
             "remaining_time": 6.685307658,
             "test": [
              0.126321587
             ]
            },
            {
             "iteration": 79,
             "learn": [
              0.1304952522
             ],
             "passed_time": 25.4786017,
             "remaining_time": 6.369650426,
             "test": [
              0.1246673699
             ]
            },
            {
             "iteration": 80,
             "learn": [
              0.1291280391
             ],
             "passed_time": 25.75547957,
             "remaining_time": 6.041408787,
             "test": [
              0.1234995339
             ]
            },
            {
             "iteration": 81,
             "learn": [
              0.1274164455
             ],
             "passed_time": 26.09105312,
             "remaining_time": 5.727304343,
             "test": [
              0.1219196194
             ]
            },
            {
             "iteration": 82,
             "learn": [
              0.1261295782
             ],
             "passed_time": 26.40121602,
             "remaining_time": 5.40747798,
             "test": [
              0.1206072699
             ]
            },
            {
             "iteration": 83,
             "learn": [
              0.1246958576
             ],
             "passed_time": 26.73032932,
             "remaining_time": 5.0914913,
             "test": [
              0.1191832855
             ]
            },
            {
             "iteration": 84,
             "learn": [
              0.1232361981
             ],
             "passed_time": 27.051937,
             "remaining_time": 4.773871235,
             "test": [
              0.1179818093
             ]
            },
            {
             "iteration": 85,
             "learn": [
              0.1217853541
             ],
             "passed_time": 27.35797158,
             "remaining_time": 4.453623281,
             "test": [
              0.1164626952
             ]
            },
            {
             "iteration": 86,
             "learn": [
              0.1203668241
             ],
             "passed_time": 27.67977719,
             "remaining_time": 4.13605866,
             "test": [
              0.1149885468
             ]
            },
            {
             "iteration": 87,
             "learn": [
              0.1191237301
             ],
             "passed_time": 28.01385432,
             "remaining_time": 3.820071044,
             "test": [
              0.1138842164
             ]
            },
            {
             "iteration": 88,
             "learn": [
              0.118005255
             ],
             "passed_time": 28.33869633,
             "remaining_time": 3.502535502,
             "test": [
              0.1128768668
             ]
            },
            {
             "iteration": 89,
             "learn": [
              0.1166136456
             ],
             "passed_time": 28.65972849,
             "remaining_time": 3.184414277,
             "test": [
              0.1115087396
             ]
            },
            {
             "iteration": 90,
             "learn": [
              0.115170892
             ],
             "passed_time": 29.00633671,
             "remaining_time": 2.868758576,
             "test": [
              0.1102024839
             ]
            },
            {
             "iteration": 91,
             "learn": [
              0.1142217127
             ],
             "passed_time": 29.28723188,
             "remaining_time": 2.546715815,
             "test": [
              0.109171307
             ]
            },
            {
             "iteration": 92,
             "learn": [
              0.1131473179
             ],
             "passed_time": 29.6204785,
             "remaining_time": 2.229498382,
             "test": [
              0.108161064
             ]
            },
            {
             "iteration": 93,
             "learn": [
              0.1120074192
             ],
             "passed_time": 29.93025293,
             "remaining_time": 1.910441677,
             "test": [
              0.1071299902
             ]
            },
            {
             "iteration": 94,
             "learn": [
              0.1108510694
             ],
             "passed_time": 30.26321256,
             "remaining_time": 1.592800661,
             "test": [
              0.106079924
             ]
            },
            {
             "iteration": 95,
             "learn": [
              0.10975437
             ],
             "passed_time": 30.58755861,
             "remaining_time": 1.274481609,
             "test": [
              0.1051282814
             ]
            },
            {
             "iteration": 96,
             "learn": [
              0.1085677796
             ],
             "passed_time": 30.91192496,
             "remaining_time": 0.9560389162,
             "test": [
              0.1038760835
             ]
            },
            {
             "iteration": 97,
             "learn": [
              0.1077055209
             ],
             "passed_time": 31.16435392,
             "remaining_time": 0.6360072228,
             "test": [
              0.1029751678
             ]
            },
            {
             "iteration": 98,
             "learn": [
              0.1066373689
             ],
             "passed_time": 31.52946502,
             "remaining_time": 0.3184794446,
             "test": [
              0.1018633766
             ]
            },
            {
             "iteration": 99,
             "learn": [
              0.1055061558
             ],
             "passed_time": 31.82878121,
             "remaining_time": 0,
             "test": [
              0.1006368903
             ]
            }
           ],
           "meta": {
            "iteration_count": 100,
            "launch_mode": "Train",
            "learn_metrics": [
             {
              "best_value": "Min",
              "name": "CrossEntropy"
             }
            ],
            "learn_sets": [
             "learn"
            ],
            "name": "experiment",
            "parameters": "",
            "test_metrics": [
             {
              "best_value": "Min",
              "name": "CrossEntropy"
             }
            ],
            "test_sets": [
             "test"
            ]
           }
          },
          "passed_iterations": 99,
          "total_iterations": 100
         },
         "name": "catboost_info",
         "path": "catboost_info"
        }
       },
       "layout": "IPY_MODEL_77ee592d25544b02a6e1f4e24e6b0fbd"
      }
     },
     "b9b91f5eda884aa8976ac0c4e7fb7f99": {
      "model_module": "@jupyter-widgets/base",
      "model_module_version": "1.2.0",
      "model_name": "LayoutModel",
      "state": {
       "_model_module": "@jupyter-widgets/base",
       "_model_module_version": "1.2.0",
       "_model_name": "LayoutModel",
       "_view_count": null,
       "_view_module": "@jupyter-widgets/base",
       "_view_module_version": "1.2.0",
       "_view_name": "LayoutView",
       "align_content": null,
       "align_items": null,
       "align_self": "stretch",
       "border": null,
       "bottom": null,
       "display": null,
       "flex": null,
       "flex_flow": null,
       "grid_area": null,
       "grid_auto_columns": null,
       "grid_auto_flow": null,
       "grid_auto_rows": null,
       "grid_column": null,
       "grid_gap": null,
       "grid_row": null,
       "grid_template_areas": null,
       "grid_template_columns": null,
       "grid_template_rows": null,
       "height": "500px",
       "justify_content": null,
       "justify_items": null,
       "left": null,
       "margin": null,
       "max_height": null,
       "max_width": null,
       "min_height": null,
       "min_width": null,
       "object_fit": null,
       "object_position": null,
       "order": null,
       "overflow": null,
       "overflow_x": null,
       "overflow_y": null,
       "padding": null,
       "right": null,
       "top": null,
       "visibility": null,
       "width": null
      }
     },
     "bbc3a14f5bee4d12a03b154900b239be": {
      "model_module": "catboost-widget",
      "model_module_version": "^1.0.0",
      "model_name": "CatboostWidgetModel",
      "state": {
       "_dom_classes": [],
       "_model_module": "catboost-widget",
       "_model_module_version": "^1.0.0",
       "_model_name": "CatboostWidgetModel",
       "_view_count": null,
       "_view_module": "catboost-widget",
       "_view_module_version": "^1.0.0",
       "_view_name": "CatboostWidgetView",
       "data": {
        "catboost_info": {
         "content": {
          "data": {
           "iterations": [
            {
             "iteration": 0,
             "learn": [
              0.6634107116
             ],
             "passed_time": 0.2825513431,
             "remaining_time": 27.97258297,
             "test": [
              0.6646173746
             ]
            },
            {
             "iteration": 1,
             "learn": [
              0.6380996332
             ],
             "passed_time": 0.5770035074,
             "remaining_time": 28.27317186,
             "test": [
              0.6377667798
             ]
            },
            {
             "iteration": 2,
             "learn": [
              0.6118512094
             ],
             "passed_time": 0.8593191307,
             "remaining_time": 27.78465189,
             "test": [
              0.6122292164
             ]
            },
            {
             "iteration": 3,
             "learn": [
              0.5878620833
             ],
             "passed_time": 1.152330448,
             "remaining_time": 27.65593075,
             "test": [
              0.5881196748
             ]
            },
            {
             "iteration": 4,
             "learn": [
              0.566003059
             ],
             "passed_time": 1.42841958,
             "remaining_time": 27.13997203,
             "test": [
              0.5653782553
             ]
            },
            {
             "iteration": 5,
             "learn": [
              0.5449912998
             ],
             "passed_time": 1.744137469,
             "remaining_time": 27.32482035,
             "test": [
              0.5438682492
             ]
            },
            {
             "iteration": 6,
             "learn": [
              0.5222686372
             ],
             "passed_time": 2.058586199,
             "remaining_time": 27.34978807,
             "test": [
              0.5233505715
             ]
            },
            {
             "iteration": 7,
             "learn": [
              0.5049405637
             ],
             "passed_time": 2.361269511,
             "remaining_time": 27.15459937,
             "test": [
              0.5038770637
             ]
            },
            {
             "iteration": 8,
             "learn": [
              0.4853163798
             ],
             "passed_time": 2.668941429,
             "remaining_time": 26.98596334,
             "test": [
              0.4854631856
             ]
            },
            {
             "iteration": 9,
             "learn": [
              0.468440111
             ],
             "passed_time": 2.954007404,
             "remaining_time": 26.58606663,
             "test": [
              0.4678607331
             ]
            },
            {
             "iteration": 10,
             "learn": [
              0.4523878964
             ],
             "passed_time": 3.244757688,
             "remaining_time": 26.25303947,
             "test": [
              0.4512455546
             ]
            },
            {
             "iteration": 11,
             "learn": [
              0.4369583593
             ],
             "passed_time": 3.540293275,
             "remaining_time": 25.96215068,
             "test": [
              0.435205187
             ]
            },
            {
             "iteration": 12,
             "learn": [
              0.4217517604
             ],
             "passed_time": 3.845952219,
             "remaining_time": 25.73829562,
             "test": [
              0.4199696663
             ]
            },
            {
             "iteration": 13,
             "learn": [
              0.4067963447
             ],
             "passed_time": 4.128158696,
             "remaining_time": 25.35868913,
             "test": [
              0.4054266746
             ]
            },
            {
             "iteration": 14,
             "learn": [
              0.3922729842
             ],
             "passed_time": 4.420793381,
             "remaining_time": 25.05116249,
             "test": [
              0.3914768134
             ]
            },
            {
             "iteration": 15,
             "learn": [
              0.3786099022
             ],
             "passed_time": 4.73532847,
             "remaining_time": 24.86047447,
             "test": [
              0.3781092829
             ]
            },
            {
             "iteration": 16,
             "learn": [
              0.3666709865
             ],
             "passed_time": 5.040900955,
             "remaining_time": 24.6114576,
             "test": [
              0.3654096037
             ]
            },
            {
             "iteration": 17,
             "learn": [
              0.3543489125
             ],
             "passed_time": 5.32840559,
             "remaining_time": 24.27384769,
             "test": [
              0.35335204
             ]
            },
            {
             "iteration": 18,
             "learn": [
              0.3417680121
             ],
             "passed_time": 5.628388414,
             "remaining_time": 23.9947085,
             "test": [
              0.3417751335
             ]
            },
            {
             "iteration": 19,
             "learn": [
              0.3316229535
             ],
             "passed_time": 5.913121971,
             "remaining_time": 23.65248788,
             "test": [
              0.3306083587
             ]
            },
            {
             "iteration": 20,
             "learn": [
              0.3209923595
             ],
             "passed_time": 6.182867697,
             "remaining_time": 23.25935943,
             "test": [
              0.3198711899
             ]
            },
            {
             "iteration": 21,
             "learn": [
              0.3097928312
             ],
             "passed_time": 6.483682456,
             "remaining_time": 22.98760143,
             "test": [
              0.3097055858
             ]
            },
            {
             "iteration": 22,
             "learn": [
              0.3010063468
             ],
             "passed_time": 6.775151139,
             "remaining_time": 22.68202772,
             "test": [
              0.2998403135
             ]
            },
            {
             "iteration": 23,
             "learn": [
              0.2912412538
             ],
             "passed_time": 7.082610965,
             "remaining_time": 22.42826805,
             "test": [
              0.2902799202
             ]
            },
            {
             "iteration": 24,
             "learn": [
              0.2817379632
             ],
             "passed_time": 7.370960203,
             "remaining_time": 22.11288061,
             "test": [
              0.2811335528
             ]
            },
            {
             "iteration": 25,
             "learn": [
              0.2729053739
             ],
             "passed_time": 7.648774596,
             "remaining_time": 21.76958924,
             "test": [
              0.2724691676
             ]
            },
            {
             "iteration": 26,
             "learn": [
              0.264163879
             ],
             "passed_time": 7.934915915,
             "remaining_time": 21.45366155,
             "test": [
              0.2641300883
             ]
            },
            {
             "iteration": 27,
             "learn": [
              0.2562710746
             ],
             "passed_time": 8.21776922,
             "remaining_time": 21.13140656,
             "test": [
              0.2560175391
             ]
            },
            {
             "iteration": 28,
             "learn": [
              0.2485872203
             ],
             "passed_time": 8.50278913,
             "remaining_time": 20.81717339,
             "test": [
              0.248194586
             ]
            },
            {
             "iteration": 29,
             "learn": [
              0.24108732
             ],
             "passed_time": 8.786251608,
             "remaining_time": 20.50125375,
             "test": [
              0.2407580405
             ]
            },
            {
             "iteration": 30,
             "learn": [
              0.2337980073
             ],
             "passed_time": 9.08025075,
             "remaining_time": 20.2108807,
             "test": [
              0.233588516
             ]
            },
            {
             "iteration": 31,
             "learn": [
              0.2266803871
             ],
             "passed_time": 9.369562276,
             "remaining_time": 19.91031984,
             "test": [
              0.2265840161
             ]
            },
            {
             "iteration": 32,
             "learn": [
              0.2206285878
             ],
             "passed_time": 9.664742598,
             "remaining_time": 19.62235618,
             "test": [
              0.2200179519
             ]
            },
            {
             "iteration": 33,
             "learn": [
              0.2143223758
             ],
             "passed_time": 9.945034278,
             "remaining_time": 19.30506654,
             "test": [
              0.2135447048
             ]
            },
            {
             "iteration": 34,
             "learn": [
              0.2076760526
             ],
             "passed_time": 10.2159468,
             "remaining_time": 18.97247262,
             "test": [
              0.2072524299
             ]
            },
            {
             "iteration": 35,
             "learn": [
              0.2019499081
             ],
             "passed_time": 10.52708287,
             "remaining_time": 18.71481399,
             "test": [
              0.2015027623
             ]
            },
            {
             "iteration": 36,
             "learn": [
              0.1962207344
             ],
             "passed_time": 10.85703672,
             "remaining_time": 18.48630577,
             "test": [
              0.1959666352
             ]
            },
            {
             "iteration": 37,
             "learn": [
              0.1905960111
             ],
             "passed_time": 11.15558181,
             "remaining_time": 18.20121242,
             "test": [
              0.1903064181
             ]
            },
            {
             "iteration": 38,
             "learn": [
              0.185334801
             ],
             "passed_time": 11.47234464,
             "remaining_time": 17.94392367,
             "test": [
              0.1851808025
             ]
            },
            {
             "iteration": 39,
             "learn": [
              0.1801203269
             ],
             "passed_time": 11.77183603,
             "remaining_time": 17.65775404,
             "test": [
              0.1799529022
             ]
            },
            {
             "iteration": 40,
             "learn": [
              0.1752738218
             ],
             "passed_time": 12.18777983,
             "remaining_time": 17.53851244,
             "test": [
              0.1751786424
             ]
            },
            {
             "iteration": 41,
             "learn": [
              0.1701611215
             ],
             "passed_time": 12.58137634,
             "remaining_time": 17.37428161,
             "test": [
              0.1703952481
             ]
            },
            {
             "iteration": 42,
             "learn": [
              0.1656731939
             ],
             "passed_time": 12.96825999,
             "remaining_time": 17.19048417,
             "test": [
              0.1658335843
             ]
            },
            {
             "iteration": 43,
             "learn": [
              0.1611593876
             ],
             "passed_time": 13.26842175,
             "remaining_time": 16.88708223,
             "test": [
              0.1612248042
             ]
            },
            {
             "iteration": 44,
             "learn": [
              0.1566817744
             ],
             "passed_time": 13.56332254,
             "remaining_time": 16.57739421,
             "test": [
              0.1569328197
             ]
            },
            {
             "iteration": 45,
             "learn": [
              0.1524950324
             ],
             "passed_time": 13.875619,
             "remaining_time": 16.28877013,
             "test": [
              0.1528120147
             ]
            },
            {
             "iteration": 46,
             "learn": [
              0.1482916317
             ],
             "passed_time": 14.1771478,
             "remaining_time": 15.98699645,
             "test": [
              0.1488665915
             ]
            },
            {
             "iteration": 47,
             "learn": [
              0.1442822348
             ],
             "passed_time": 14.42779676,
             "remaining_time": 15.63011316,
             "test": [
              0.1447663134
             ]
            },
            {
             "iteration": 48,
             "learn": [
              0.14035261
             ],
             "passed_time": 14.78019834,
             "remaining_time": 15.38347174,
             "test": [
              0.1407419573
             ]
            },
            {
             "iteration": 49,
             "learn": [
              0.1366484973
             ],
             "passed_time": 15.08728855,
             "remaining_time": 15.08728855,
             "test": [
              0.1369562629
             ]
            },
            {
             "iteration": 50,
             "learn": [
              0.1330381553
             ],
             "passed_time": 15.34944579,
             "remaining_time": 14.74750674,
             "test": [
              0.1333166599
             ]
            },
            {
             "iteration": 51,
             "learn": [
              0.1296029827
             ],
             "passed_time": 15.64370482,
             "remaining_time": 14.44034291,
             "test": [
              0.1297864498
             ]
            },
            {
             "iteration": 52,
             "learn": [
              0.1261917315
             ],
             "passed_time": 15.95832516,
             "remaining_time": 14.15172231,
             "test": [
              0.1266550818
             ]
            },
            {
             "iteration": 53,
             "learn": [
              0.1230135224
             ],
             "passed_time": 16.28838021,
             "remaining_time": 13.87528685,
             "test": [
              0.1235599327
             ]
            },
            {
             "iteration": 54,
             "learn": [
              0.1197892287
             ],
             "passed_time": 16.57942057,
             "remaining_time": 13.56498047,
             "test": [
              0.1203797678
             ]
            },
            {
             "iteration": 55,
             "learn": [
              0.1166877672
             ],
             "passed_time": 16.89048468,
             "remaining_time": 13.2710951,
             "test": [
              0.1174250078
             ]
            },
            {
             "iteration": 56,
             "learn": [
              0.1137617517
             ],
             "passed_time": 17.18947424,
             "remaining_time": 12.96749811,
             "test": [
              0.1144171724
             ]
            },
            {
             "iteration": 57,
             "learn": [
              0.1108473572
             ],
             "passed_time": 17.44578504,
             "remaining_time": 12.63315468,
             "test": [
              0.1115174462
             ]
            },
            {
             "iteration": 58,
             "learn": [
              0.1081745942
             ],
             "passed_time": 17.76774139,
             "remaining_time": 12.34707452,
             "test": [
              0.1089498759
             ]
            },
            {
             "iteration": 59,
             "learn": [
              0.1052282311
             ],
             "passed_time": 18.05182745,
             "remaining_time": 12.03455164,
             "test": [
              0.106056522
             ]
            },
            {
             "iteration": 60,
             "learn": [
              0.1029054416
             ],
             "passed_time": 18.36362201,
             "remaining_time": 11.74067637,
             "test": [
              0.103595514
             ]
            },
            {
             "iteration": 61,
             "learn": [
              0.100422378
             ],
             "passed_time": 18.65955341,
             "remaining_time": 11.43650048,
             "test": [
              0.1011879956
             ]
            },
            {
             "iteration": 62,
             "learn": [
              0.09780256806
             ],
             "passed_time": 18.98428482,
             "remaining_time": 11.14950061,
             "test": [
              0.09849991826
             ]
            },
            {
             "iteration": 63,
             "learn": [
              0.09535406439
             ],
             "passed_time": 19.29157521,
             "remaining_time": 10.85151106,
             "test": [
              0.09615775658
             ]
            },
            {
             "iteration": 64,
             "learn": [
              0.0931734188
             ],
             "passed_time": 19.60556477,
             "remaining_time": 10.55684257,
             "test": [
              0.09406178776
             ]
            },
            {
             "iteration": 65,
             "learn": [
              0.09106763124
             ],
             "passed_time": 19.9175449,
             "remaining_time": 10.26055343,
             "test": [
              0.09191887701
             ]
            },
            {
             "iteration": 66,
             "learn": [
              0.08890174184
             ],
             "passed_time": 20.20656689,
             "remaining_time": 9.952488172,
             "test": [
              0.08987964277
             ]
            },
            {
             "iteration": 67,
             "learn": [
              0.08684456841
             ],
             "passed_time": 20.51435925,
             "remaining_time": 9.653816117,
             "test": [
              0.08797993521
             ]
            },
            {
             "iteration": 68,
             "learn": [
              0.08483909456
             ],
             "passed_time": 20.80996207,
             "remaining_time": 9.349403248,
             "test": [
              0.08598698733
             ]
            },
            {
             "iteration": 69,
             "learn": [
              0.08275613915
             ],
             "passed_time": 21.1075832,
             "remaining_time": 9.046107086,
             "test": [
              0.08383763846
             ]
            },
            {
             "iteration": 70,
             "learn": [
              0.08052130157
             ],
             "passed_time": 21.4606292,
             "remaining_time": 8.765609109,
             "test": [
              0.0816586948
             ]
            },
            {
             "iteration": 71,
             "learn": [
              0.07864665176
             ],
             "passed_time": 21.78280152,
             "remaining_time": 8.47108948,
             "test": [
              0.07986154171
             ]
            },
            {
             "iteration": 72,
             "learn": [
              0.07651481931
             ],
             "passed_time": 22.16365794,
             "remaining_time": 8.197517321,
             "test": [
              0.07782320267
             ]
            },
            {
             "iteration": 73,
             "learn": [
              0.07447631706
             ],
             "passed_time": 22.51612886,
             "remaining_time": 7.911072302,
             "test": [
              0.07584253905
             ]
            },
            {
             "iteration": 74,
             "learn": [
              0.07262726972
             ],
             "passed_time": 22.84808861,
             "remaining_time": 7.616029537,
             "test": [
              0.07391689146
             ]
            },
            {
             "iteration": 75,
             "learn": [
              0.07098158421
             ],
             "passed_time": 23.14711476,
             "remaining_time": 7.309615186,
             "test": [
              0.07220062801
             ]
            },
            {
             "iteration": 76,
             "learn": [
              0.06910721863
             ],
             "passed_time": 23.50592869,
             "remaining_time": 7.021251427,
             "test": [
              0.07038710839
             ]
            },
            {
             "iteration": 77,
             "learn": [
              0.06760727302
             ],
             "passed_time": 23.79314608,
             "remaining_time": 6.710887357,
             "test": [
              0.06891691843
             ]
            },
            {
             "iteration": 78,
             "learn": [
              0.06583804502
             ],
             "passed_time": 24.15948159,
             "remaining_time": 6.422140675,
             "test": [
              0.06722523328
             ]
            },
            {
             "iteration": 79,
             "learn": [
              0.06436861577
             ],
             "passed_time": 24.4521688,
             "remaining_time": 6.113042201,
             "test": [
              0.06580636243
             ]
            },
            {
             "iteration": 80,
             "learn": [
              0.06295713852
             ],
             "passed_time": 24.7956928,
             "remaining_time": 5.81627362,
             "test": [
              0.06438720134
             ]
            },
            {
             "iteration": 81,
             "learn": [
              0.06152707906
             ],
             "passed_time": 25.11369093,
             "remaining_time": 5.512761423,
             "test": [
              0.0629389761
             ]
            },
            {
             "iteration": 82,
             "learn": [
              0.06013269386
             ],
             "passed_time": 25.42340951,
             "remaining_time": 5.207204357,
             "test": [
              0.06152886524
             ]
            },
            {
             "iteration": 83,
             "learn": [
              0.0588368315
             ],
             "passed_time": 25.78012016,
             "remaining_time": 4.910499078,
             "test": [
              0.06026071596
             ]
            },
            {
             "iteration": 84,
             "learn": [
              0.05737602499
             ],
             "passed_time": 26.15481323,
             "remaining_time": 4.615555277,
             "test": [
              0.05881681382
             ]
            },
            {
             "iteration": 85,
             "learn": [
              0.05592399801
             ],
             "passed_time": 26.528811,
             "remaining_time": 4.318643651,
             "test": [
              0.057413641
             ]
            },
            {
             "iteration": 86,
             "learn": [
              0.05463796483
             ],
             "passed_time": 26.84378201,
             "remaining_time": 4.011139841,
             "test": [
              0.0561489444
             ]
            },
            {
             "iteration": 87,
             "learn": [
              0.05342774302
             ],
             "passed_time": 27.14922443,
             "remaining_time": 3.702166968,
             "test": [
              0.0549514351
             ]
            },
            {
             "iteration": 88,
             "learn": [
              0.05215469603
             ],
             "passed_time": 27.51970996,
             "remaining_time": 3.401312467,
             "test": [
              0.05368615495
             ]
            },
            {
             "iteration": 89,
             "learn": [
              0.05099925909
             ],
             "passed_time": 27.83445694,
             "remaining_time": 3.092717438,
             "test": [
              0.05260954402
             ]
            },
            {
             "iteration": 90,
             "learn": [
              0.04992447113
             ],
             "passed_time": 28.10893518,
             "remaining_time": 2.780004578,
             "test": [
              0.05147606823
             ]
            },
            {
             "iteration": 91,
             "learn": [
              0.04879672769
             ],
             "passed_time": 28.42785337,
             "remaining_time": 2.47198725,
             "test": [
              0.05039645791
             ]
            },
            {
             "iteration": 92,
             "learn": [
              0.04778311582
             ],
             "passed_time": 28.72263116,
             "remaining_time": 2.161918475,
             "test": [
              0.04943360663
             ]
            },
            {
             "iteration": 93,
             "learn": [
              0.04683192728
             ],
             "passed_time": 28.97096512,
             "remaining_time": 1.84921054,
             "test": [
              0.04844863338
             ]
            },
            {
             "iteration": 94,
             "learn": [
              0.04592156359
             ],
             "passed_time": 29.25971935,
             "remaining_time": 1.539985229,
             "test": [
              0.0476084436
             ]
            },
            {
             "iteration": 95,
             "learn": [
              0.04495708501
             ],
             "passed_time": 29.54948933,
             "remaining_time": 1.231228722,
             "test": [
              0.04657343698
             ]
            },
            {
             "iteration": 96,
             "learn": [
              0.0442483868
             ],
             "passed_time": 29.82252528,
             "remaining_time": 0.9223461426,
             "test": [
              0.04590339532
             ]
            },
            {
             "iteration": 97,
             "learn": [
              0.04323859449
             ],
             "passed_time": 30.15477021,
             "remaining_time": 0.6154034737,
             "test": [
              0.04491655423
             ]
            },
            {
             "iteration": 98,
             "learn": [
              0.04234111783
             ],
             "passed_time": 30.46411124,
             "remaining_time": 0.3077182954,
             "test": [
              0.0440784874
             ]
            },
            {
             "iteration": 99,
             "learn": [
              0.04130791122
             ],
             "passed_time": 30.78420465,
             "remaining_time": 0,
             "test": [
              0.04279445258
             ]
            }
           ],
           "meta": {
            "iteration_count": 100,
            "launch_mode": "Train",
            "learn_metrics": [
             {
              "best_value": "Min",
              "name": "CrossEntropy"
             }
            ],
            "learn_sets": [
             "learn"
            ],
            "name": "experiment",
            "parameters": "",
            "test_metrics": [
             {
              "best_value": "Min",
              "name": "CrossEntropy"
             }
            ],
            "test_sets": [
             "test"
            ]
           }
          },
          "passed_iterations": 99,
          "total_iterations": 100
         },
         "name": "catboost_info",
         "path": "catboost_info"
        }
       },
       "layout": "IPY_MODEL_aa62b84025f24429a35ccf8915f87e76"
      }
     },
     "bc4f67fc201a4b06b0a2b7ccde16ced1": {
      "model_module": "@jupyter-widgets/base",
      "model_module_version": "1.2.0",
      "model_name": "LayoutModel",
      "state": {
       "_model_module": "@jupyter-widgets/base",
       "_model_module_version": "1.2.0",
       "_model_name": "LayoutModel",
       "_view_count": null,
       "_view_module": "@jupyter-widgets/base",
       "_view_module_version": "1.2.0",
       "_view_name": "LayoutView",
       "align_content": null,
       "align_items": null,
       "align_self": "stretch",
       "border": null,
       "bottom": null,
       "display": null,
       "flex": null,
       "flex_flow": null,
       "grid_area": null,
       "grid_auto_columns": null,
       "grid_auto_flow": null,
       "grid_auto_rows": null,
       "grid_column": null,
       "grid_gap": null,
       "grid_row": null,
       "grid_template_areas": null,
       "grid_template_columns": null,
       "grid_template_rows": null,
       "height": "500px",
       "justify_content": null,
       "justify_items": null,
       "left": null,
       "margin": null,
       "max_height": null,
       "max_width": null,
       "min_height": null,
       "min_width": null,
       "object_fit": null,
       "object_position": null,
       "order": null,
       "overflow": null,
       "overflow_x": null,
       "overflow_y": null,
       "padding": null,
       "right": null,
       "top": null,
       "visibility": null,
       "width": null
      }
     },
     "befcfb27322a4a5ab5fdeddccb5d5547": {
      "model_module": "@jupyter-widgets/base",
      "model_module_version": "1.2.0",
      "model_name": "LayoutModel",
      "state": {
       "_model_module": "@jupyter-widgets/base",
       "_model_module_version": "1.2.0",
       "_model_name": "LayoutModel",
       "_view_count": null,
       "_view_module": "@jupyter-widgets/base",
       "_view_module_version": "1.2.0",
       "_view_name": "LayoutView",
       "align_content": null,
       "align_items": null,
       "align_self": "stretch",
       "border": null,
       "bottom": null,
       "display": null,
       "flex": null,
       "flex_flow": null,
       "grid_area": null,
       "grid_auto_columns": null,
       "grid_auto_flow": null,
       "grid_auto_rows": null,
       "grid_column": null,
       "grid_gap": null,
       "grid_row": null,
       "grid_template_areas": null,
       "grid_template_columns": null,
       "grid_template_rows": null,
       "height": "500px",
       "justify_content": null,
       "justify_items": null,
       "left": null,
       "margin": null,
       "max_height": null,
       "max_width": null,
       "min_height": null,
       "min_width": null,
       "object_fit": null,
       "object_position": null,
       "order": null,
       "overflow": null,
       "overflow_x": null,
       "overflow_y": null,
       "padding": null,
       "right": null,
       "top": null,
       "visibility": null,
       "width": null
      }
     },
     "c1c2eea40cdf4965a3b84b9f965d9e2a": {
      "model_module": "catboost-widget",
      "model_module_version": "^1.0.0",
      "model_name": "CatboostWidgetModel",
      "state": {
       "_dom_classes": [],
       "_model_module": "catboost-widget",
       "_model_module_version": "^1.0.0",
       "_model_name": "CatboostWidgetModel",
       "_view_count": null,
       "_view_module": "catboost-widget",
       "_view_module_version": "^1.0.0",
       "_view_name": "CatboostWidgetView",
       "data": {
        "catboost_info": {
         "content": {
          "data": {
           "iterations": [
            {
             "iteration": 0,
             "learn": [
              0.6613852814
             ],
             "passed_time": 0.3865571993,
             "remaining_time": 38.26916273,
             "test": [
              0.6636036972
             ]
            },
            {
             "iteration": 1,
             "learn": [
              0.6363144835
             ],
             "passed_time": 0.6924246471,
             "remaining_time": 33.92880771,
             "test": [
              0.6357788935
             ]
            },
            {
             "iteration": 2,
             "learn": [
              0.6094005632
             ],
             "passed_time": 1.08281929,
             "remaining_time": 35.01115704,
             "test": [
              0.6095313767
             ]
            },
            {
             "iteration": 3,
             "learn": [
              0.583745442
             ],
             "passed_time": 1.370078586,
             "remaining_time": 32.88188607,
             "test": [
              0.5847276965
             ]
            },
            {
             "iteration": 4,
             "learn": [
              0.5622261251
             ],
             "passed_time": 1.718652201,
             "remaining_time": 32.65439181,
             "test": [
              0.5612552227
             ]
            },
            {
             "iteration": 5,
             "learn": [
              0.5378078023
             ],
             "passed_time": 2.056069029,
             "remaining_time": 32.21174811,
             "test": [
              0.5390112002
             ]
            },
            {
             "iteration": 6,
             "learn": [
              0.5169302733
             ],
             "passed_time": 2.452812837,
             "remaining_time": 32.58737054,
             "test": [
              0.5179084874
             ]
            },
            {
             "iteration": 7,
             "learn": [
              0.4987435662
             ],
             "passed_time": 2.738110912,
             "remaining_time": 31.48827548,
             "test": [
              0.4978628501
             ]
            },
            {
             "iteration": 8,
             "learn": [
              0.4785812942
             ],
             "passed_time": 3.103121843,
             "remaining_time": 31.37600974,
             "test": [
              0.4788045174
             ]
            },
            {
             "iteration": 9,
             "learn": [
              0.4606363277
             ],
             "passed_time": 3.510764129,
             "remaining_time": 31.59687716,
             "test": [
              0.4606609111
             ]
            },
            {
             "iteration": 10,
             "learn": [
              0.4439319306
             ],
             "passed_time": 3.851980156,
             "remaining_time": 31.16602126,
             "test": [
              0.4433737877
             ]
            },
            {
             "iteration": 11,
             "learn": [
              0.4281158306
             ],
             "passed_time": 4.270413624,
             "remaining_time": 31.31636658,
             "test": [
              0.4268921144
             ]
            },
            {
             "iteration": 12,
             "learn": [
              0.4122366645
             ],
             "passed_time": 4.642038087,
             "remaining_time": 31.0659472,
             "test": [
              0.4111612398
             ]
            },
            {
             "iteration": 13,
             "learn": [
              0.3968611258
             ],
             "passed_time": 4.945451885,
             "remaining_time": 30.37920444,
             "test": [
              0.3961371972
             ]
            },
            {
             "iteration": 14,
             "learn": [
              0.382479416
             ],
             "passed_time": 5.29189012,
             "remaining_time": 29.98737735,
             "test": [
              0.3817782031
             ]
            },
            {
             "iteration": 15,
             "learn": [
              0.3674268873
             ],
             "passed_time": 5.628973971,
             "remaining_time": 29.55211335,
             "test": [
              0.3680444752
             ]
            },
            {
             "iteration": 16,
             "learn": [
              0.3540509604
             ],
             "passed_time": 6.017678768,
             "remaining_time": 29.38043163,
             "test": [
              0.3549015354
             ]
            },
            {
             "iteration": 17,
             "learn": [
              0.3432684983
             ],
             "passed_time": 6.350444096,
             "remaining_time": 28.92980088,
             "test": [
              0.3423174503
             ]
            },
            {
             "iteration": 18,
             "learn": [
              0.3301980682
             ],
             "passed_time": 6.695569357,
             "remaining_time": 28.54426936,
             "test": [
              0.3302586136
             ]
            },
            {
             "iteration": 19,
             "learn": [
              0.3197773944
             ],
             "passed_time": 7.02206706,
             "remaining_time": 28.08826824,
             "test": [
              0.3186988659
             ]
            },
            {
             "iteration": 20,
             "learn": [
              0.3071409077
             ],
             "passed_time": 7.415778002,
             "remaining_time": 27.89745058,
             "test": [
              0.3076119958
             ]
            },
            {
             "iteration": 21,
             "learn": [
              0.2970120948
             ],
             "passed_time": 7.794875197,
             "remaining_time": 27.6363757,
             "test": [
              0.2969723339
             ]
            },
            {
             "iteration": 22,
             "learn": [
              0.2869313987
             ],
             "passed_time": 8.169145094,
             "remaining_time": 27.34887705,
             "test": [
              0.2867620786
             ]
            },
            {
             "iteration": 23,
             "learn": [
              0.2766361891
             ],
             "passed_time": 8.578873536,
             "remaining_time": 27.16643286,
             "test": [
              0.2769525128
             ]
            },
            {
             "iteration": 24,
             "learn": [
              0.2666391685
             ],
             "passed_time": 8.877683208,
             "remaining_time": 26.63304962,
             "test": [
              0.2675261443
             ]
            },
            {
             "iteration": 25,
             "learn": [
              0.2581435531
             ],
             "passed_time": 9.208658723,
             "remaining_time": 26.20925944,
             "test": [
              0.2584661579
             ]
            },
            {
             "iteration": 26,
             "learn": [
              0.2501005044
             ],
             "passed_time": 9.573512264,
             "remaining_time": 25.88394057,
             "test": [
              0.2497538822
             ]
            },
            {
             "iteration": 27,
             "learn": [
              0.2421089437
             ],
             "passed_time": 9.969436606,
             "remaining_time": 25.63569413,
             "test": [
              0.2413733465
             ]
            },
            {
             "iteration": 28,
             "learn": [
              0.2338216522
             ],
             "passed_time": 10.31064412,
             "remaining_time": 25.24330113,
             "test": [
              0.2333096117
             ]
            },
            {
             "iteration": 29,
             "learn": [
              0.2259950498
             ],
             "passed_time": 10.67832946,
             "remaining_time": 24.91610206,
             "test": [
              0.2255474237
             ]
            },
            {
             "iteration": 30,
             "learn": [
              0.2186725609
             ],
             "passed_time": 11.10555179,
             "remaining_time": 24.71880882,
             "test": [
              0.2180741143
             ]
            },
            {
             "iteration": 31,
             "learn": [
              0.2111114312
             ],
             "passed_time": 11.47095766,
             "remaining_time": 24.37578503,
             "test": [
              0.210877297
             ]
            },
            {
             "iteration": 32,
             "learn": [
              0.203551386
             ],
             "passed_time": 11.80901837,
             "remaining_time": 23.97588578,
             "test": [
              0.2039437998
             ]
            },
            {
             "iteration": 33,
             "learn": [
              0.1966847498
             ],
             "passed_time": 12.23554276,
             "remaining_time": 23.75134771,
             "test": [
              0.1972623225
             ]
            },
            {
             "iteration": 34,
             "learn": [
              0.1913324516
             ],
             "passed_time": 12.65315944,
             "remaining_time": 23.49872468,
             "test": [
              0.1908223656
             ]
            },
            {
             "iteration": 35,
             "learn": [
              0.1841260392
             ],
             "passed_time": 12.99720965,
             "remaining_time": 23.10615049,
             "test": [
              0.1846127403
             ]
            },
            {
             "iteration": 36,
             "learn": [
              0.1789292395
             ],
             "passed_time": 13.37693572,
             "remaining_time": 22.7769446,
             "test": [
              0.1786248801
             ]
            },
            {
             "iteration": 37,
             "learn": [
              0.1724093395
             ],
             "passed_time": 13.74975663,
             "remaining_time": 22.43381344,
             "test": [
              0.1728486488
             ]
            },
            {
             "iteration": 38,
             "learn": [
              0.1678477188
             ],
             "passed_time": 14.13039452,
             "remaining_time": 22.10138629,
             "test": [
              0.1672757646
             ]
            },
            {
             "iteration": 39,
             "learn": [
              0.1616467769
             ],
             "passed_time": 14.50806691,
             "remaining_time": 21.76210037,
             "test": [
              0.1619009767
             ]
            },
            {
             "iteration": 40,
             "learn": [
              0.1565417882
             ],
             "passed_time": 14.86993046,
             "remaining_time": 21.39819261,
             "test": [
              0.1567109752
             ]
            },
            {
             "iteration": 41,
             "learn": [
              0.1522214636
             ],
             "passed_time": 15.29246824,
             "remaining_time": 21.11817043,
             "test": [
              0.1517011487
             ]
            },
            {
             "iteration": 42,
             "learn": [
              0.1472152744
             ],
             "passed_time": 15.61309825,
             "remaining_time": 20.69643256,
             "test": [
              0.1468663414
             ]
            },
            {
             "iteration": 43,
             "learn": [
              0.1420942318
             ],
             "passed_time": 16.0107296,
             "remaining_time": 20.37729222,
             "test": [
              0.1421958468
             ]
            },
            {
             "iteration": 44,
             "learn": [
              0.137347108
             ],
             "passed_time": 16.32808395,
             "remaining_time": 19.95654705,
             "test": [
              0.1376835113
             ]
            },
            {
             "iteration": 45,
             "learn": [
              0.133145163
             ],
             "passed_time": 16.71196061,
             "remaining_time": 19.61838854,
             "test": [
              0.133324328
             ]
            },
            {
             "iteration": 46,
             "learn": [
              0.1291465339
             ],
             "passed_time": 17.06027061,
             "remaining_time": 19.2381775,
             "test": [
              0.1291112318
             ]
            },
            {
             "iteration": 47,
             "learn": [
              0.1252186339
             ],
             "passed_time": 17.43952185,
             "remaining_time": 18.89281533,
             "test": [
              0.1250432891
             ]
            },
            {
             "iteration": 48,
             "learn": [
              0.1213104157
             ],
             "passed_time": 17.8309551,
             "remaining_time": 18.55874918,
             "test": [
              0.1211100537
             ]
            },
            {
             "iteration": 49,
             "learn": [
              0.1174254509
             ],
             "passed_time": 18.18866876,
             "remaining_time": 18.18866876,
             "test": [
              0.1173084509
             ]
            },
            {
             "iteration": 50,
             "learn": [
              0.1135659573
             ],
             "passed_time": 18.5323629,
             "remaining_time": 17.80560358,
             "test": [
              0.1136333229
             ]
            },
            {
             "iteration": 51,
             "learn": [
              0.1100175852
             ],
             "passed_time": 18.90054222,
             "remaining_time": 17.44665436,
             "test": [
              0.1100808311
             ]
            },
            {
             "iteration": 52,
             "learn": [
              0.1071596467
             ],
             "passed_time": 19.25304718,
             "remaining_time": 17.07345693,
             "test": [
              0.1066453089
             ]
            },
            {
             "iteration": 53,
             "learn": [
              0.103655473
             ],
             "passed_time": 19.63226252,
             "remaining_time": 16.72377918,
             "test": [
              0.1033230995
             ]
            },
            {
             "iteration": 54,
             "learn": [
              0.09998920167
             ],
             "passed_time": 19.9739538,
             "remaining_time": 16.34232583,
             "test": [
              0.1001114545
             ]
            },
            {
             "iteration": 55,
             "learn": [
              0.09739350426
             ],
             "passed_time": 20.4070323,
             "remaining_time": 16.03409681,
             "test": [
              0.09700316795
             ]
            },
            {
             "iteration": 56,
             "learn": [
              0.09402287525
             ],
             "passed_time": 20.84880621,
             "remaining_time": 15.72804679,
             "test": [
              0.09399996043
             ]
            },
            {
             "iteration": 57,
             "learn": [
              0.09148214861
             ],
             "passed_time": 21.27869947,
             "remaining_time": 15.40871341,
             "test": [
              0.09109028075
             ]
            },
            {
             "iteration": 58,
             "learn": [
              0.08821630567
             ],
             "passed_time": 21.63333245,
             "remaining_time": 15.03333272,
             "test": [
              0.08827569442
             ]
            },
            {
             "iteration": 59,
             "learn": [
              0.08574847358
             ],
             "passed_time": 22.05989307,
             "remaining_time": 14.70659538,
             "test": [
              0.08555134273
             ]
            },
            {
             "iteration": 60,
             "learn": [
              0.08286190355
             ],
             "passed_time": 22.4275245,
             "remaining_time": 14.3389091,
             "test": [
              0.08291549399
             ]
            },
            {
             "iteration": 61,
             "learn": [
              0.08037900803
             ],
             "passed_time": 22.83103211,
             "remaining_time": 13.99321323,
             "test": [
              0.08036419745
             ]
            },
            {
             "iteration": 62,
             "learn": [
              0.0782416259
             ],
             "passed_time": 23.23342755,
             "remaining_time": 13.64502888,
             "test": [
              0.07789488342
             ]
            },
            {
             "iteration": 63,
             "learn": [
              0.07577615976
             ],
             "passed_time": 23.68813423,
             "remaining_time": 13.3245755,
             "test": [
              0.07550445772
             ]
            },
            {
             "iteration": 64,
             "learn": [
              0.07323906097
             ],
             "passed_time": 24.09130171,
             "remaining_time": 12.97223938,
             "test": [
              0.07319045954
             ]
            },
            {
             "iteration": 65,
             "learn": [
              0.07087394674
             ],
             "passed_time": 24.4430821,
             "remaining_time": 12.59189078,
             "test": [
              0.07094984077
             ]
            },
            {
             "iteration": 66,
             "learn": [
              0.06874983103
             ],
             "passed_time": 24.88473178,
             "remaining_time": 12.25665893,
             "test": [
              0.06878084531
             ]
            },
            {
             "iteration": 67,
             "learn": [
              0.06672747184
             ],
             "passed_time": 25.2072123,
             "remaining_time": 11.86221755,
             "test": [
              0.06667987683
             ]
            },
            {
             "iteration": 68,
             "learn": [
              0.06476027392
             ],
             "passed_time": 25.58652713,
             "remaining_time": 11.49539625,
             "test": [
              0.06464612683
             ]
            },
            {
             "iteration": 69,
             "learn": [
              0.06280709305
             ],
             "passed_time": 25.92640194,
             "remaining_time": 11.11131512,
             "test": [
              0.06267566194
             ]
            },
            {
             "iteration": 70,
             "learn": [
              0.06086698788
             ],
             "passed_time": 26.31715596,
             "remaining_time": 10.74926088,
             "test": [
              0.06076710885
             ]
            },
            {
             "iteration": 71,
             "learn": [
              0.05895861818
             ],
             "passed_time": 26.67571291,
             "remaining_time": 10.37388835,
             "test": [
              0.0589185067
             ]
            },
            {
             "iteration": 72,
             "learn": [
              0.05715985138
             ],
             "passed_time": 27.03505602,
             "remaining_time": 9.999267294,
             "test": [
              0.05712814112
             ]
            },
            {
             "iteration": 73,
             "learn": [
              0.05573238126
             ],
             "passed_time": 27.3829759,
             "remaining_time": 9.621045588,
             "test": [
              0.05539394968
             ]
            },
            {
             "iteration": 74,
             "learn": [
              0.05396538611
             ],
             "passed_time": 27.63224854,
             "remaining_time": 9.210749512,
             "test": [
              0.05371088708
             ]
            },
            {
             "iteration": 75,
             "learn": [
              0.05212671888
             ],
             "passed_time": 27.9982918,
             "remaining_time": 8.84156583,
             "test": [
              0.05208327151
             ]
            },
            {
             "iteration": 76,
             "learn": [
              0.05082823026
             ],
             "passed_time": 28.39092093,
             "remaining_time": 8.480404955,
             "test": [
              0.05050626767
             ]
            },
            {
             "iteration": 77,
             "learn": [
              0.04914079725
             ],
             "passed_time": 28.7741064,
             "remaining_time": 8.1157736,
             "test": [
              0.04897842928
             ]
            },
            {
             "iteration": 78,
             "learn": [
              0.0475656672
             ],
             "passed_time": 29.11146133,
             "remaining_time": 7.73848972,
             "test": [
              0.04749816164
             ]
            },
            {
             "iteration": 79,
             "learn": [
              0.04622050373
             ],
             "passed_time": 29.50726391,
             "remaining_time": 7.376815979,
             "test": [
              0.04606371852
             ]
            },
            {
             "iteration": 80,
             "learn": [
              0.04495349192
             ],
             "passed_time": 29.83443745,
             "remaining_time": 6.998201378,
             "test": [
              0.04467203533
             ]
            },
            {
             "iteration": 81,
             "learn": [
              0.04338883857
             ],
             "passed_time": 30.26801465,
             "remaining_time": 6.644198338,
             "test": [
              0.04332556831
             ]
            },
            {
             "iteration": 82,
             "learn": [
              0.04226644594
             ],
             "passed_time": 30.62771763,
             "remaining_time": 6.273146985,
             "test": [
              0.04202036602
             ]
            },
            {
             "iteration": 83,
             "learn": [
              0.04102995146
             ],
             "passed_time": 31.04487928,
             "remaining_time": 5.91331034,
             "test": [
              0.04075495136
             ]
            },
            {
             "iteration": 84,
             "learn": [
              0.03967410285
             ],
             "passed_time": 31.44601206,
             "remaining_time": 5.549296245,
             "test": [
              0.03952971038
             ]
            },
            {
             "iteration": 85,
             "learn": [
              0.03843489028
             ],
             "passed_time": 31.7151401,
             "remaining_time": 5.162929784,
             "test": [
              0.03833925503
             ]
            },
            {
             "iteration": 86,
             "learn": [
              0.03740308431
             ],
             "passed_time": 32.07164228,
             "remaining_time": 4.792314364,
             "test": [
              0.03718761821
             ]
            },
            {
             "iteration": 87,
             "learn": [
              0.03635670029
             ],
             "passed_time": 32.46352795,
             "remaining_time": 4.426844721,
             "test": [
              0.03607146391
             ]
            },
            {
             "iteration": 88,
             "learn": [
              0.03518047485
             ],
             "passed_time": 32.74826321,
             "remaining_time": 4.04753815,
             "test": [
              0.03498892457
             ]
            },
            {
             "iteration": 89,
             "learn": [
              0.03414371485
             ],
             "passed_time": 33.13990914,
             "remaining_time": 3.682212127,
             "test": [
              0.03393994106
             ]
            },
            {
             "iteration": 90,
             "learn": [
              0.0331304135
             ],
             "passed_time": 33.55711108,
             "remaining_time": 3.318835162,
             "test": [
              0.03292080591
             ]
            },
            {
             "iteration": 91,
             "learn": [
              0.03213588285
             ],
             "passed_time": 33.9521962,
             "remaining_time": 2.952364887,
             "test": [
              0.03193287865
             ]
            },
            {
             "iteration": 92,
             "learn": [
              0.03115890883
             ],
             "passed_time": 34.47969105,
             "remaining_time": 2.595245563,
             "test": [
              0.03097584036
             ]
            },
            {
             "iteration": 93,
             "learn": [
              0.03020722033
             ],
             "passed_time": 34.85194098,
             "remaining_time": 2.224591978,
             "test": [
              0.03004646351
             ]
            },
            {
             "iteration": 94,
             "learn": [
              0.02925723305
             ],
             "passed_time": 35.07957217,
             "remaining_time": 1.846293272,
             "test": [
              0.02914516233
             ]
            },
            {
             "iteration": 95,
             "learn": [
              0.02849627268
             ],
             "passed_time": 35.30380977,
             "remaining_time": 1.470992074,
             "test": [
              0.02827222366
             ]
            },
            {
             "iteration": 96,
             "learn": [
              0.02760069257
             ],
             "passed_time": 35.53302664,
             "remaining_time": 1.098959587,
             "test": [
              0.02742541982
             ]
            },
            {
             "iteration": 97,
             "learn": [
              0.02669796268
             ],
             "passed_time": 35.89201824,
             "remaining_time": 0.7324901682,
             "test": [
              0.02660689078
             ]
            },
            {
             "iteration": 98,
             "learn": [
              0.0260323278
             ],
             "passed_time": 36.23604642,
             "remaining_time": 0.3660206709,
             "test": [
              0.02581277276
             ]
            },
            {
             "iteration": 99,
             "learn": [
              0.02517459509
             ],
             "passed_time": 36.52248909,
             "remaining_time": 0,
             "test": [
              0.02504109498
             ]
            }
           ],
           "meta": {
            "iteration_count": 100,
            "launch_mode": "Train",
            "learn_metrics": [
             {
              "best_value": "Min",
              "name": "CrossEntropy"
             }
            ],
            "learn_sets": [
             "learn"
            ],
            "name": "experiment",
            "parameters": "",
            "test_metrics": [
             {
              "best_value": "Min",
              "name": "CrossEntropy"
             }
            ],
            "test_sets": [
             "test"
            ]
           }
          },
          "passed_iterations": 99,
          "total_iterations": 100
         },
         "name": "catboost_info",
         "path": "catboost_info"
        }
       },
       "layout": "IPY_MODEL_988f81543cbb49b7a159e5098a4a98b1"
      }
     },
     "c27811c088574300bca2741d9eb76a37": {
      "model_module": "catboost-widget",
      "model_module_version": "^1.0.0",
      "model_name": "CatboostWidgetModel",
      "state": {
       "_dom_classes": [],
       "_model_module": "catboost-widget",
       "_model_module_version": "^1.0.0",
       "_model_name": "CatboostWidgetModel",
       "_view_count": null,
       "_view_module": "catboost-widget",
       "_view_module_version": "^1.0.0",
       "_view_name": "CatboostWidgetView",
       "data": {
        "catboost_info": {
         "content": {
          "data": {
           "iterations": [
            {
             "iteration": 0,
             "learn": [
              0.6746485341
             ],
             "passed_time": 0.3182793342,
             "remaining_time": 31.50965409,
             "test": [
              0.6749193521
             ]
            },
            {
             "iteration": 1,
             "learn": [
              0.6568241489
             ],
             "passed_time": 0.6324347813,
             "remaining_time": 30.98930429,
             "test": [
              0.656788692
             ]
            },
            {
             "iteration": 2,
             "learn": [
              0.6392865187
             ],
             "passed_time": 0.9499758895,
             "remaining_time": 30.71588709,
             "test": [
              0.6393012266
             ]
            },
            {
             "iteration": 3,
             "learn": [
              0.6217243159
             ],
             "passed_time": 1.396415758,
             "remaining_time": 33.51397818,
             "test": [
              0.6218968773
             ]
            },
            {
             "iteration": 4,
             "learn": [
              0.60618197
             ],
             "passed_time": 1.827873645,
             "remaining_time": 34.72959926,
             "test": [
              0.6066267155
             ]
            },
            {
             "iteration": 5,
             "learn": [
              0.5920216755
             ],
             "passed_time": 2.238584563,
             "remaining_time": 35.07115815,
             "test": [
              0.592530835
             ]
            },
            {
             "iteration": 6,
             "learn": [
              0.5780485098
             ],
             "passed_time": 2.546800033,
             "remaining_time": 33.83605758,
             "test": [
              0.5785753748
             ]
            },
            {
             "iteration": 7,
             "learn": [
              0.5642593798
             ],
             "passed_time": 2.89203032,
             "remaining_time": 33.25834868,
             "test": [
              0.5654157204
             ]
            },
            {
             "iteration": 8,
             "learn": [
              0.5514268828
             ],
             "passed_time": 3.202820214,
             "remaining_time": 32.38407105,
             "test": [
              0.5529093084
             ]
            },
            {
             "iteration": 9,
             "learn": [
              0.5391907114
             ],
             "passed_time": 3.516678829,
             "remaining_time": 31.65010946,
             "test": [
              0.5405679688
             ]
            },
            {
             "iteration": 10,
             "learn": [
              0.5265261621
             ],
             "passed_time": 3.890139768,
             "remaining_time": 31.47476722,
             "test": [
              0.5275955501
             ]
            },
            {
             "iteration": 11,
             "learn": [
              0.5149853263
             ],
             "passed_time": 4.192131407,
             "remaining_time": 30.74229699,
             "test": [
              0.5167053142
             ]
            },
            {
             "iteration": 12,
             "learn": [
              0.5039981451
             ],
             "passed_time": 4.551950246,
             "remaining_time": 30.46305165,
             "test": [
              0.5053155783
             ]
            },
            {
             "iteration": 13,
             "learn": [
              0.4923421447
             ],
             "passed_time": 4.904804957,
             "remaining_time": 30.12951617,
             "test": [
              0.4940906854
             ]
            },
            {
             "iteration": 14,
             "learn": [
              0.482772288
             ],
             "passed_time": 5.213900116,
             "remaining_time": 29.54543399,
             "test": [
              0.4841759302
             ]
            },
            {
             "iteration": 15,
             "learn": [
              0.4731697594
             ],
             "passed_time": 5.610030392,
             "remaining_time": 29.45265956,
             "test": [
              0.4749434986
             ]
            },
            {
             "iteration": 16,
             "learn": [
              0.4630772515
             ],
             "passed_time": 5.940920698,
             "remaining_time": 29.00567164,
             "test": [
              0.464607233
             ]
            },
            {
             "iteration": 17,
             "learn": [
              0.45369229
             ],
             "passed_time": 6.308192642,
             "remaining_time": 28.73732204,
             "test": [
              0.455722932
             ]
            },
            {
             "iteration": 18,
             "learn": [
              0.4451279743
             ],
             "passed_time": 6.622220525,
             "remaining_time": 28.23157171,
             "test": [
              0.447577147
             ]
            },
            {
             "iteration": 19,
             "learn": [
              0.4366867927
             ],
             "passed_time": 6.988911133,
             "remaining_time": 27.95564453,
             "test": [
              0.4393498865
             ]
            },
            {
             "iteration": 20,
             "learn": [
              0.428247461
             ],
             "passed_time": 7.313913185,
             "remaining_time": 27.51424484,
             "test": [
              0.4309990148
             ]
            },
            {
             "iteration": 21,
             "learn": [
              0.4205439797
             ],
             "passed_time": 7.622189918,
             "remaining_time": 27.02412789,
             "test": [
              0.4232569305
             ]
            },
            {
             "iteration": 22,
             "learn": [
              0.4131254562
             ],
             "passed_time": 8.006772367,
             "remaining_time": 26.8052814,
             "test": [
              0.4160335531
             ]
            },
            {
             "iteration": 23,
             "learn": [
              0.4049348809
             ],
             "passed_time": 8.354846535,
             "remaining_time": 26.45701403,
             "test": [
              0.4077235155
             ]
            },
            {
             "iteration": 24,
             "learn": [
              0.3979070255
             ],
             "passed_time": 8.754187834,
             "remaining_time": 26.2625635,
             "test": [
              0.401095134
             ]
            },
            {
             "iteration": 25,
             "learn": [
              0.3907702789
             ],
             "passed_time": 9.086033808,
             "remaining_time": 25.86025007,
             "test": [
              0.393954306
             ]
            },
            {
             "iteration": 26,
             "learn": [
              0.3842334644
             ],
             "passed_time": 9.392330521,
             "remaining_time": 25.39407882,
             "test": [
              0.3874739204
             ]
            },
            {
             "iteration": 27,
             "learn": [
              0.3775218943
             ],
             "passed_time": 9.716875601,
             "remaining_time": 24.98625155,
             "test": [
              0.3810368818
             ]
            },
            {
             "iteration": 28,
             "learn": [
              0.3700904138
             ],
             "passed_time": 10.06465024,
             "remaining_time": 24.64104024,
             "test": [
              0.3736925116
             ]
            },
            {
             "iteration": 29,
             "learn": [
              0.362600378
             ],
             "passed_time": 10.44752571,
             "remaining_time": 24.37756,
             "test": [
              0.3663345345
             ]
            },
            {
             "iteration": 30,
             "learn": [
              0.3567467004
             ],
             "passed_time": 10.80812591,
             "remaining_time": 24.05679639,
             "test": [
              0.3608547038
             ]
            },
            {
             "iteration": 31,
             "learn": [
              0.3499956361
             ],
             "passed_time": 11.18871223,
             "remaining_time": 23.77601349,
             "test": [
              0.3539097712
             ]
            },
            {
             "iteration": 32,
             "learn": [
              0.3431968245
             ],
             "passed_time": 11.57436791,
             "remaining_time": 23.49947425,
             "test": [
              0.3474136153
             ]
            },
            {
             "iteration": 33,
             "learn": [
              0.337697711
             ],
             "passed_time": 11.88509987,
             "remaining_time": 23.07107623,
             "test": [
              0.3418348663
             ]
            },
            {
             "iteration": 34,
             "learn": [
              0.3313114371
             ],
             "passed_time": 12.27043821,
             "remaining_time": 22.78795667,
             "test": [
              0.3356897382
             ]
            },
            {
             "iteration": 35,
             "learn": [
              0.325567428
             ],
             "passed_time": 12.59701629,
             "remaining_time": 22.39469563,
             "test": [
              0.3299540404
             ]
            },
            {
             "iteration": 36,
             "learn": [
              0.319561549
             ],
             "passed_time": 12.97081108,
             "remaining_time": 22.08543508,
             "test": [
              0.3243486103
             ]
            },
            {
             "iteration": 37,
             "learn": [
              0.3148038149
             ],
             "passed_time": 13.37266635,
             "remaining_time": 21.81856088,
             "test": [
              0.3198042636
             ]
            },
            {
             "iteration": 38,
             "learn": [
              0.3097444022
             ],
             "passed_time": 13.69946111,
             "remaining_time": 21.42736225,
             "test": [
              0.3143111524
             ]
            },
            {
             "iteration": 39,
             "learn": [
              0.3046895305
             ],
             "passed_time": 14.0274955,
             "remaining_time": 21.04124325,
             "test": [
              0.308997585
             ]
            },
            {
             "iteration": 40,
             "learn": [
              0.2993219672
             ],
             "passed_time": 14.42606958,
             "remaining_time": 20.75946598,
             "test": [
              0.3040652162
             ]
            },
            {
             "iteration": 41,
             "learn": [
              0.294791647
             ],
             "passed_time": 14.75545996,
             "remaining_time": 20.37658757,
             "test": [
              0.299153122
             ]
            },
            {
             "iteration": 42,
             "learn": [
              0.2904998168
             ],
             "passed_time": 15.14089418,
             "remaining_time": 20.07048764,
             "test": [
              0.2950642816
             ]
            },
            {
             "iteration": 43,
             "learn": [
              0.286171045
             ],
             "passed_time": 15.46531157,
             "remaining_time": 19.68312382,
             "test": [
              0.2904643562
             ]
            },
            {
             "iteration": 44,
             "learn": [
              0.282035853
             ],
             "passed_time": 15.81463824,
             "remaining_time": 19.32900229,
             "test": [
              0.2864926634
             ]
            },
            {
             "iteration": 45,
             "learn": [
              0.2780301236
             ],
             "passed_time": 16.16959959,
             "remaining_time": 18.98170387,
             "test": [
              0.2826963618
             ]
            },
            {
             "iteration": 46,
             "learn": [
              0.2742333008
             ],
             "passed_time": 16.55364234,
             "remaining_time": 18.66687328,
             "test": [
              0.2791146079
             ]
            },
            {
             "iteration": 47,
             "learn": [
              0.270346561
             ],
             "passed_time": 16.87977638,
             "remaining_time": 18.28642441,
             "test": [
              0.2749187933
             ]
            },
            {
             "iteration": 48,
             "learn": [
              0.2660996689
             ],
             "passed_time": 17.29303466,
             "remaining_time": 17.99887281,
             "test": [
              0.2704469825
             ]
            },
            {
             "iteration": 49,
             "learn": [
              0.2622736687
             ],
             "passed_time": 17.67493438,
             "remaining_time": 17.67493438,
             "test": [
              0.2668227068
             ]
            },
            {
             "iteration": 50,
             "learn": [
              0.2578131291
             ],
             "passed_time": 18.04691427,
             "remaining_time": 17.33919214,
             "test": [
              0.2622695331
             ]
            },
            {
             "iteration": 51,
             "learn": [
              0.254265216
             ],
             "passed_time": 18.43160841,
             "remaining_time": 17.01379238,
             "test": [
              0.2585248821
             ]
            },
            {
             "iteration": 52,
             "learn": [
              0.2505065276
             ],
             "passed_time": 18.76968083,
             "remaining_time": 16.6448113,
             "test": [
              0.254584484
             ]
            },
            {
             "iteration": 53,
             "learn": [
              0.2473612522
             ],
             "passed_time": 19.15916593,
             "remaining_time": 16.32077098,
             "test": [
              0.2515781609
             ]
            },
            {
             "iteration": 54,
             "learn": [
              0.2433946489
             ],
             "passed_time": 19.53503398,
             "remaining_time": 15.98320962,
             "test": [
              0.2474993202
             ]
            },
            {
             "iteration": 55,
             "learn": [
              0.239854171
             ],
             "passed_time": 19.93206865,
             "remaining_time": 15.66091108,
             "test": [
              0.2437289435
             ]
            },
            {
             "iteration": 56,
             "learn": [
              0.2361920674
             ],
             "passed_time": 20.28095991,
             "remaining_time": 15.29967151,
             "test": [
              0.2398695142
             ]
            },
            {
             "iteration": 57,
             "learn": [
              0.2325562552
             ],
             "passed_time": 20.65031119,
             "remaining_time": 14.95367362,
             "test": [
              0.2362282678
             ]
            },
            {
             "iteration": 58,
             "learn": [
              0.2295153301
             ],
             "passed_time": 20.95604993,
             "remaining_time": 14.56267877,
             "test": [
              0.233220673
             ]
            },
            {
             "iteration": 59,
             "learn": [
              0.2259876199
             ],
             "passed_time": 21.2916287,
             "remaining_time": 14.19441913,
             "test": [
              0.2295351694
             ]
            },
            {
             "iteration": 60,
             "learn": [
              0.2228488813
             ],
             "passed_time": 21.69353627,
             "remaining_time": 13.86963794,
             "test": [
              0.226435123
             ]
            },
            {
             "iteration": 61,
             "learn": [
              0.2195598354
             ],
             "passed_time": 22.0150507,
             "remaining_time": 13.49309559,
             "test": [
              0.2233228375
             ]
            },
            {
             "iteration": 62,
             "learn": [
              0.2168287877
             ],
             "passed_time": 22.33623773,
             "remaining_time": 13.11810787,
             "test": [
              0.2205658474
             ]
            },
            {
             "iteration": 63,
             "learn": [
              0.2142326857
             ],
             "passed_time": 22.73055694,
             "remaining_time": 12.78593828,
             "test": [
              0.2179049397
             ]
            },
            {
             "iteration": 64,
             "learn": [
              0.2112138437
             ],
             "passed_time": 23.06079768,
             "remaining_time": 12.4173526,
             "test": [
              0.2151299219
             ]
            },
            {
             "iteration": 65,
             "learn": [
              0.2086312924
             ],
             "passed_time": 23.38923552,
             "remaining_time": 12.04900012,
             "test": [
              0.2125198427
             ]
            },
            {
             "iteration": 66,
             "learn": [
              0.2058884429
             ],
             "passed_time": 23.78268811,
             "remaining_time": 11.71386131,
             "test": [
              0.2096920978
             ]
            },
            {
             "iteration": 67,
             "learn": [
              0.2031202872
             ],
             "passed_time": 24.10652619,
             "remaining_time": 11.34424762,
             "test": [
              0.2070390853
             ]
            },
            {
             "iteration": 68,
             "learn": [
              0.2005745952
             ],
             "passed_time": 24.47559717,
             "remaining_time": 10.99628279,
             "test": [
              0.2045206454
             ]
            },
            {
             "iteration": 69,
             "learn": [
              0.1984744322
             ],
             "passed_time": 24.79780499,
             "remaining_time": 10.62763071,
             "test": [
              0.2024641147
             ]
            },
            {
             "iteration": 70,
             "learn": [
              0.1961337854
             ],
             "passed_time": 25.11410606,
             "remaining_time": 10.25787431,
             "test": [
              0.200039835
             ]
            },
            {
             "iteration": 71,
             "learn": [
              0.193838524
             ],
             "passed_time": 25.49899711,
             "remaining_time": 9.916276655,
             "test": [
              0.197630097
             ]
            },
            {
             "iteration": 72,
             "learn": [
              0.191597958
             ],
             "passed_time": 25.81049304,
             "remaining_time": 9.546346739,
             "test": [
              0.1953458977
             ]
            },
            {
             "iteration": 73,
             "learn": [
              0.1889636389
             ],
             "passed_time": 26.1548946,
             "remaining_time": 9.189557562,
             "test": [
              0.1925491562
             ]
            },
            {
             "iteration": 74,
             "learn": [
              0.1865852985
             ],
             "passed_time": 26.49399327,
             "remaining_time": 8.831331091,
             "test": [
              0.1901110718
             ]
            },
            {
             "iteration": 75,
             "learn": [
              0.1842096459
             ],
             "passed_time": 26.926639,
             "remaining_time": 8.503149158,
             "test": [
              0.1876243434
             ]
            },
            {
             "iteration": 76,
             "learn": [
              0.181578155
             ],
             "passed_time": 27.2742029,
             "remaining_time": 8.146839828,
             "test": [
              0.1849496321
             ]
            },
            {
             "iteration": 77,
             "learn": [
              0.1796413249
             ],
             "passed_time": 27.5895152,
             "remaining_time": 7.781658134,
             "test": [
              0.182991762
             ]
            },
            {
             "iteration": 78,
             "learn": [
              0.1774714385
             ],
             "passed_time": 27.92853507,
             "remaining_time": 7.424040968,
             "test": [
              0.180717277
             ]
            },
            {
             "iteration": 79,
             "learn": [
              0.1756690022
             ],
             "passed_time": 28.27161285,
             "remaining_time": 7.067903212,
             "test": [
              0.179052659
             ]
            },
            {
             "iteration": 80,
             "learn": [
              0.1736070464
             ],
             "passed_time": 28.61220812,
             "remaining_time": 6.71150561,
             "test": [
              0.1768963748
             ]
            },
            {
             "iteration": 81,
             "learn": [
              0.1714635549
             ],
             "passed_time": 29.009596,
             "remaining_time": 6.367960098,
             "test": [
              0.1748425631
             ]
            },
            {
             "iteration": 82,
             "learn": [
              0.1695714699
             ],
             "passed_time": 29.36638556,
             "remaining_time": 6.014801863,
             "test": [
              0.1731202115
             ]
            },
            {
             "iteration": 83,
             "learn": [
              0.1677490926
             ],
             "passed_time": 29.70601268,
             "remaining_time": 5.65828813,
             "test": [
              0.1713896491
             ]
            },
            {
             "iteration": 84,
             "learn": [
              0.1653892737
             ],
             "passed_time": 30.13533453,
             "remaining_time": 5.318000211,
             "test": [
              0.1690719996
             ]
            },
            {
             "iteration": 85,
             "learn": [
              0.1635361044
             ],
             "passed_time": 30.46701186,
             "remaining_time": 4.959746116,
             "test": [
              0.1674063471
             ]
            },
            {
             "iteration": 86,
             "learn": [
              0.1617267621
             ],
             "passed_time": 30.78136061,
             "remaining_time": 4.599513654,
             "test": [
              0.1656588651
             ]
            },
            {
             "iteration": 87,
             "learn": [
              0.1602410269
             ],
             "passed_time": 31.09266946,
             "remaining_time": 4.239909472,
             "test": [
              0.1643196825
             ]
            },
            {
             "iteration": 88,
             "learn": [
              0.1584056849
             ],
             "passed_time": 31.42661155,
             "remaining_time": 3.884187944,
             "test": [
              0.1626274608
             ]
            },
            {
             "iteration": 89,
             "learn": [
              0.1566797835
             ],
             "passed_time": 31.77224733,
             "remaining_time": 3.530249704,
             "test": [
              0.1608964068
             ]
            },
            {
             "iteration": 90,
             "learn": [
              0.1547408298
             ],
             "passed_time": 32.20548674,
             "remaining_time": 3.185158029,
             "test": [
              0.1589716591
             ]
            },
            {
             "iteration": 91,
             "learn": [
              0.1529069075
             ],
             "passed_time": 32.53025174,
             "remaining_time": 2.828717542,
             "test": [
              0.1571091869
             ]
            },
            {
             "iteration": 92,
             "learn": [
              0.1514456664
             ],
             "passed_time": 32.93092537,
             "remaining_time": 2.478671802,
             "test": [
              0.1556014403
             ]
            },
            {
             "iteration": 93,
             "learn": [
              0.1498053512
             ],
             "passed_time": 33.45665311,
             "remaining_time": 2.135531049,
             "test": [
              0.1538892605
             ]
            },
            {
             "iteration": 94,
             "learn": [
              0.1480080617
             ],
             "passed_time": 33.8462962,
             "remaining_time": 1.781384011,
             "test": [
              0.1520337362
             ]
            },
            {
             "iteration": 95,
             "learn": [
              0.1463618071
             ],
             "passed_time": 34.18805922,
             "remaining_time": 1.424502468,
             "test": [
              0.1503433331
             ]
            },
            {
             "iteration": 96,
             "learn": [
              0.1447975551
             ],
             "passed_time": 34.51608351,
             "remaining_time": 1.067507737,
             "test": [
              0.1487192952
             ]
            },
            {
             "iteration": 97,
             "learn": [
              0.1431327767
             ],
             "passed_time": 34.83486007,
             "remaining_time": 0.7109155117,
             "test": [
              0.147003634
             ]
            },
            {
             "iteration": 98,
             "learn": [
              0.1416827386
             ],
             "passed_time": 35.15446565,
             "remaining_time": 0.3550956126,
             "test": [
              0.1454608651
             ]
            },
            {
             "iteration": 99,
             "learn": [
              0.140117473
             ],
             "passed_time": 35.47802498,
             "remaining_time": 0,
             "test": [
              0.1437695287
             ]
            }
           ],
           "meta": {
            "iteration_count": 100,
            "launch_mode": "Train",
            "learn_metrics": [
             {
              "best_value": "Min",
              "name": "CrossEntropy"
             }
            ],
            "learn_sets": [
             "learn"
            ],
            "name": "experiment",
            "parameters": "",
            "test_metrics": [
             {
              "best_value": "Min",
              "name": "CrossEntropy"
             }
            ],
            "test_sets": [
             "test"
            ]
           }
          },
          "passed_iterations": 99,
          "total_iterations": 100
         },
         "name": "catboost_info",
         "path": "catboost_info"
        }
       },
       "layout": "IPY_MODEL_092c2cb814fa4966972a0f09bc4ce64e"
      }
     },
     "c98f1c231a5d445485b97bfa246bbdaf": {
      "model_module": "@jupyter-widgets/base",
      "model_module_version": "1.2.0",
      "model_name": "LayoutModel",
      "state": {
       "_model_module": "@jupyter-widgets/base",
       "_model_module_version": "1.2.0",
       "_model_name": "LayoutModel",
       "_view_count": null,
       "_view_module": "@jupyter-widgets/base",
       "_view_module_version": "1.2.0",
       "_view_name": "LayoutView",
       "align_content": null,
       "align_items": null,
       "align_self": "stretch",
       "border": null,
       "bottom": null,
       "display": null,
       "flex": null,
       "flex_flow": null,
       "grid_area": null,
       "grid_auto_columns": null,
       "grid_auto_flow": null,
       "grid_auto_rows": null,
       "grid_column": null,
       "grid_gap": null,
       "grid_row": null,
       "grid_template_areas": null,
       "grid_template_columns": null,
       "grid_template_rows": null,
       "height": "500px",
       "justify_content": null,
       "justify_items": null,
       "left": null,
       "margin": null,
       "max_height": null,
       "max_width": null,
       "min_height": null,
       "min_width": null,
       "object_fit": null,
       "object_position": null,
       "order": null,
       "overflow": null,
       "overflow_x": null,
       "overflow_y": null,
       "padding": null,
       "right": null,
       "top": null,
       "visibility": null,
       "width": null
      }
     },
     "cc2eda38fc814afb837d5c8306d3e8b4": {
      "model_module": "catboost-widget",
      "model_module_version": "^1.0.0",
      "model_name": "CatboostWidgetModel",
      "state": {
       "_dom_classes": [],
       "_model_module": "catboost-widget",
       "_model_module_version": "^1.0.0",
       "_model_name": "CatboostWidgetModel",
       "_view_count": null,
       "_view_module": "catboost-widget",
       "_view_module_version": "^1.0.0",
       "_view_name": "CatboostWidgetView",
       "data": {
        "catboost_info": {
         "content": {
          "data": {
           "iterations": [
            {
             "iteration": 0,
             "learn": [
              0.6686640932
             ],
             "passed_time": 0.3986273995,
             "remaining_time": 39.46411255,
             "test": [
              0.6692088542
             ]
            },
            {
             "iteration": 1,
             "learn": [
              0.6462270235
             ],
             "passed_time": 0.758707645,
             "remaining_time": 37.17667461,
             "test": [
              0.6459942557
             ]
            },
            {
             "iteration": 2,
             "learn": [
              0.6254081223
             ],
             "passed_time": 1.11949872,
             "remaining_time": 36.19712528,
             "test": [
              0.6242162205
             ]
            },
            {
             "iteration": 3,
             "learn": [
              0.6046804357
             ],
             "passed_time": 1.510682023,
             "remaining_time": 36.25636856,
             "test": [
              0.6040523172
             ]
            },
            {
             "iteration": 4,
             "learn": [
              0.5865124028
             ],
             "passed_time": 1.868595783,
             "remaining_time": 35.50331988,
             "test": [
              0.5844047428
             ]
            },
            {
             "iteration": 5,
             "learn": [
              0.5664747385
             ],
             "passed_time": 2.169479353,
             "remaining_time": 33.98850986,
             "test": [
              0.5649493137
             ]
            },
            {
             "iteration": 6,
             "learn": [
              0.5490164832
             ],
             "passed_time": 2.560477969,
             "remaining_time": 34.01777873,
             "test": [
              0.5477721679
             ]
            },
            {
             "iteration": 7,
             "learn": [
              0.5319024302
             ],
             "passed_time": 2.850531441,
             "remaining_time": 32.78111158,
             "test": [
              0.5300593988
             ]
            },
            {
             "iteration": 8,
             "learn": [
              0.5162597779
             ],
             "passed_time": 3.2415955,
             "remaining_time": 32.77613227,
             "test": [
              0.5145208701
             ]
            },
            {
             "iteration": 9,
             "learn": [
              0.5015241519
             ],
             "passed_time": 3.600124422,
             "remaining_time": 32.4011198,
             "test": [
              0.4988529686
             ]
            },
            {
             "iteration": 10,
             "learn": [
              0.4865515045
             ],
             "passed_time": 3.903819835,
             "remaining_time": 31.58545139,
             "test": [
              0.4834436656
             ]
            },
            {
             "iteration": 11,
             "learn": [
              0.4725616798
             ],
             "passed_time": 4.268464312,
             "remaining_time": 31.30207162,
             "test": [
              0.4692475269
             ]
            },
            {
             "iteration": 12,
             "learn": [
              0.4585341803
             ],
             "passed_time": 4.565839826,
             "remaining_time": 30.55600499,
             "test": [
              0.4552187728
             ]
            },
            {
             "iteration": 13,
             "learn": [
              0.4452277196
             ],
             "passed_time": 4.895603575,
             "remaining_time": 30.07299339,
             "test": [
              0.4417878598
             ]
            },
            {
             "iteration": 14,
             "learn": [
              0.4334446465
             ],
             "passed_time": 5.267705016,
             "remaining_time": 29.85032843,
             "test": [
              0.4292056982
             ]
            },
            {
             "iteration": 15,
             "learn": [
              0.4213156567
             ],
             "passed_time": 5.625550125,
             "remaining_time": 29.53413816,
             "test": [
              0.4173054136
             ]
            },
            {
             "iteration": 16,
             "learn": [
              0.4094508017
             ],
             "passed_time": 5.945138374,
             "remaining_time": 29.02626383,
             "test": [
              0.4055733614
             ]
            },
            {
             "iteration": 17,
             "learn": [
              0.398198194
             ],
             "passed_time": 6.242171731,
             "remaining_time": 28.43656011,
             "test": [
              0.3942912121
             ]
            },
            {
             "iteration": 18,
             "learn": [
              0.3870584658
             ],
             "passed_time": 6.542642093,
             "remaining_time": 27.89231629,
             "test": [
              0.3833930388
             ]
            },
            {
             "iteration": 19,
             "learn": [
              0.3772883057
             ],
             "passed_time": 6.842193152,
             "remaining_time": 27.36877261,
             "test": [
              0.3735490675
             ]
            },
            {
             "iteration": 20,
             "learn": [
              0.3680256502
             ],
             "passed_time": 7.23987425,
             "remaining_time": 27.23571742,
             "test": [
              0.3637009185
             ]
            },
            {
             "iteration": 21,
             "learn": [
              0.3577302235
             ],
             "passed_time": 7.540158856,
             "remaining_time": 26.73329049,
             "test": [
              0.3540359586
             ]
            },
            {
             "iteration": 22,
             "learn": [
              0.3489981251
             ],
             "passed_time": 7.819517634,
             "remaining_time": 26.17838512,
             "test": [
              0.345181333
             ]
            },
            {
             "iteration": 23,
             "learn": [
              0.3405521704
             ],
             "passed_time": 8.227619632,
             "remaining_time": 26.05412883,
             "test": [
              0.3365829505
             ]
            },
            {
             "iteration": 24,
             "learn": [
              0.3321981582
             ],
             "passed_time": 8.552302714,
             "remaining_time": 25.65690814,
             "test": [
              0.3282820044
             ]
            },
            {
             "iteration": 25,
             "learn": [
              0.3242045735
             ],
             "passed_time": 8.880868015,
             "remaining_time": 25.27631666,
             "test": [
              0.3204170804
             ]
            },
            {
             "iteration": 26,
             "learn": [
              0.316306091
             ],
             "passed_time": 9.230750633,
             "remaining_time": 24.95721467,
             "test": [
              0.3124492098
             ]
            },
            {
             "iteration": 27,
             "learn": [
              0.3089638843
             ],
             "passed_time": 9.511236098,
             "remaining_time": 24.45746425,
             "test": [
              0.3049289121
             ]
            },
            {
             "iteration": 28,
             "learn": [
              0.3015702905
             ],
             "passed_time": 9.779180363,
             "remaining_time": 23.94213123,
             "test": [
              0.2979036684
             ]
            },
            {
             "iteration": 29,
             "learn": [
              0.2944227084
             ],
             "passed_time": 10.0815376,
             "remaining_time": 23.52358772,
             "test": [
              0.2911451548
             ]
            },
            {
             "iteration": 30,
             "learn": [
              0.2872674967
             ],
             "passed_time": 10.46710469,
             "remaining_time": 23.29774915,
             "test": [
              0.2839707122
             ]
            },
            {
             "iteration": 31,
             "learn": [
              0.2802051014
             ],
             "passed_time": 10.86296947,
             "remaining_time": 23.08381012,
             "test": [
              0.2771196349
             ]
            },
            {
             "iteration": 32,
             "learn": [
              0.2738329572
             ],
             "passed_time": 11.13847823,
             "remaining_time": 22.61448609,
             "test": [
              0.2708317843
             ]
            },
            {
             "iteration": 33,
             "learn": [
              0.267622696
             ],
             "passed_time": 11.53064964,
             "remaining_time": 22.38302578,
             "test": [
              0.2645149577
             ]
            },
            {
             "iteration": 34,
             "learn": [
              0.2618672603
             ],
             "passed_time": 11.80017458,
             "remaining_time": 21.91460993,
             "test": [
              0.2588705692
             ]
            },
            {
             "iteration": 35,
             "learn": [
              0.2556662452
             ],
             "passed_time": 12.19049719,
             "remaining_time": 21.671995,
             "test": [
              0.2528482849
             ]
            },
            {
             "iteration": 36,
             "learn": [
              0.2502060952
             ],
             "passed_time": 12.45835164,
             "remaining_time": 21.212869,
             "test": [
              0.2474241669
             ]
            },
            {
             "iteration": 37,
             "learn": [
              0.2443736662
             ],
             "passed_time": 12.84800388,
             "remaining_time": 20.96253265,
             "test": [
              0.2417919362
             ]
            },
            {
             "iteration": 38,
             "learn": [
              0.2393109811
             ],
             "passed_time": 13.19516555,
             "remaining_time": 20.63859226,
             "test": [
              0.2364968328
             ]
            },
            {
             "iteration": 39,
             "learn": [
              0.2338170505
             ],
             "passed_time": 13.58151348,
             "remaining_time": 20.37227022,
             "test": [
              0.2311968421
             ]
            },
            {
             "iteration": 40,
             "learn": [
              0.2289512647
             ],
             "passed_time": 13.9824477,
             "remaining_time": 20.12108327,
             "test": [
              0.226160233
             ]
            },
            {
             "iteration": 41,
             "learn": [
              0.2242412334
             ],
             "passed_time": 14.36031715,
             "remaining_time": 19.83091416,
             "test": [
              0.2214111997
             ]
            },
            {
             "iteration": 42,
             "learn": [
              0.2195397807
             ],
             "passed_time": 14.64096392,
             "remaining_time": 19.40778939,
             "test": [
              0.2169151004
             ]
            },
            {
             "iteration": 43,
             "learn": [
              0.2151639238
             ],
             "passed_time": 15.04473853,
             "remaining_time": 19.14784904,
             "test": [
              0.212303304
             ]
            },
            {
             "iteration": 44,
             "learn": [
              0.2109405922
             ],
             "passed_time": 15.31980934,
             "remaining_time": 18.72421142,
             "test": [
              0.2082696573
             ]
            },
            {
             "iteration": 45,
             "learn": [
              0.2062936571
             ],
             "passed_time": 15.74825363,
             "remaining_time": 18.48708035,
             "test": [
              0.2035368834
             ]
            },
            {
             "iteration": 46,
             "learn": [
              0.2022868334
             ],
             "passed_time": 16.05610595,
             "remaining_time": 18.1058216,
             "test": [
              0.1997968244
             ]
            },
            {
             "iteration": 47,
             "learn": [
              0.1981374966
             ],
             "passed_time": 16.36120402,
             "remaining_time": 17.72463769,
             "test": [
              0.1958928963
             ]
            },
            {
             "iteration": 48,
             "learn": [
              0.1944849294
             ],
             "passed_time": 16.74735311,
             "remaining_time": 17.43091855,
             "test": [
              0.1921311565
             ]
            },
            {
             "iteration": 49,
             "learn": [
              0.1904857122
             ],
             "passed_time": 17.14620415,
             "remaining_time": 17.14620415,
             "test": [
              0.1883149688
             ]
            },
            {
             "iteration": 50,
             "learn": [
              0.1867494338
             ],
             "passed_time": 17.42073168,
             "remaining_time": 16.73756574,
             "test": [
              0.184800572
             ]
            },
            {
             "iteration": 51,
             "learn": [
              0.1831505856
             ],
             "passed_time": 17.84294555,
             "remaining_time": 16.47041128,
             "test": [
              0.1811623495
             ]
            },
            {
             "iteration": 52,
             "learn": [
              0.179797791
             ],
             "passed_time": 18.11946966,
             "remaining_time": 16.06820895,
             "test": [
              0.1779039329
             ]
            },
            {
             "iteration": 53,
             "learn": [
              0.17621896
             ],
             "passed_time": 18.52522125,
             "remaining_time": 15.78074403,
             "test": [
              0.1745002386
             ]
            },
            {
             "iteration": 54,
             "learn": [
              0.1729087387
             ],
             "passed_time": 18.80399204,
             "remaining_time": 15.3850844,
             "test": [
              0.1712901065
             ]
            },
            {
             "iteration": 55,
             "learn": [
              0.1694584987
             ],
             "passed_time": 19.23210933,
             "remaining_time": 15.11094305,
             "test": [
              0.167884506
             ]
            },
            {
             "iteration": 56,
             "learn": [
              0.1663410037
             ],
             "passed_time": 19.50953176,
             "remaining_time": 14.71771694,
             "test": [
              0.1650343872
             ]
            },
            {
             "iteration": 57,
             "learn": [
              0.1630551764
             ],
             "passed_time": 19.84443955,
             "remaining_time": 14.3701114,
             "test": [
              0.1619193474
             ]
            },
            {
             "iteration": 58,
             "learn": [
              0.1598047891
             ],
             "passed_time": 20.27612212,
             "remaining_time": 14.09018656,
             "test": [
              0.1587572205
             ]
            },
            {
             "iteration": 59,
             "learn": [
              0.1570211532
             ],
             "passed_time": 20.55461438,
             "remaining_time": 13.70307625,
             "test": [
              0.1561124136
             ]
            },
            {
             "iteration": 60,
             "learn": [
              0.1538105962
             ],
             "passed_time": 20.90341812,
             "remaining_time": 13.36448044,
             "test": [
              0.1530165907
             ]
            },
            {
             "iteration": 61,
             "learn": [
              0.1514836412
             ],
             "passed_time": 21.19636398,
             "remaining_time": 12.99131986,
             "test": [
              0.1507030663
             ]
            },
            {
             "iteration": 62,
             "learn": [
              0.1483101538
             ],
             "passed_time": 21.7713315,
             "remaining_time": 12.78633755,
             "test": [
              0.1477306098
             ]
            },
            {
             "iteration": 63,
             "learn": [
              0.1458320028
             ],
             "passed_time": 22.2963532,
             "remaining_time": 12.54169868,
             "test": [
              0.1452823584
             ]
            },
            {
             "iteration": 64,
             "learn": [
              0.1427739673
             ],
             "passed_time": 22.69854272,
             "remaining_time": 12.22229223,
             "test": [
              0.1422760581
             ]
            },
            {
             "iteration": 65,
             "learn": [
              0.1400725261
             ],
             "passed_time": 23.13435676,
             "remaining_time": 11.91769893,
             "test": [
              0.1395393342
             ]
            },
            {
             "iteration": 66,
             "learn": [
              0.137797377
             ],
             "passed_time": 23.46420181,
             "remaining_time": 11.55699492,
             "test": [
              0.1374786443
             ]
            },
            {
             "iteration": 67,
             "learn": [
              0.1350841174
             ],
             "passed_time": 23.82035837,
             "remaining_time": 11.20958041,
             "test": [
              0.1349217414
             ]
            },
            {
             "iteration": 68,
             "learn": [
              0.1322922805
             ],
             "passed_time": 24.22137192,
             "remaining_time": 10.88206565,
             "test": [
              0.1321831584
             ]
            },
            {
             "iteration": 69,
             "learn": [
              0.1295643087
             ],
             "passed_time": 24.54277382,
             "remaining_time": 10.51833164,
             "test": [
              0.1297220449
             ]
            },
            {
             "iteration": 70,
             "learn": [
              0.1276120014
             ],
             "passed_time": 24.86745383,
             "remaining_time": 10.15712903,
             "test": [
              0.1279590876
             ]
            },
            {
             "iteration": 71,
             "learn": [
              0.1251185724
             ],
             "passed_time": 25.26697301,
             "remaining_time": 9.82604506,
             "test": [
              0.1255627318
             ]
            },
            {
             "iteration": 72,
             "learn": [
              0.1231277433
             ],
             "passed_time": 25.6038771,
             "remaining_time": 9.469927148,
             "test": [
              0.1235688973
             ]
            },
            {
             "iteration": 73,
             "learn": [
              0.1207891881
             ],
             "passed_time": 25.96926672,
             "remaining_time": 9.124336954,
             "test": [
              0.1213235785
             ]
            },
            {
             "iteration": 74,
             "learn": [
              0.1189642879
             ],
             "passed_time": 26.34581159,
             "remaining_time": 8.781937198,
             "test": [
              0.119594334
             ]
            },
            {
             "iteration": 75,
             "learn": [
              0.1169497337
             ],
             "passed_time": 26.6298329,
             "remaining_time": 8.409420916,
             "test": [
              0.1176932725
             ]
            },
            {
             "iteration": 76,
             "learn": [
              0.1151280762
             ],
             "passed_time": 27.05902946,
             "remaining_time": 8.08256724,
             "test": [
              0.1159580549
             ]
            },
            {
             "iteration": 77,
             "learn": [
              0.113265904
             ],
             "passed_time": 27.37590459,
             "remaining_time": 7.721408986,
             "test": [
              0.1140989042
             ]
            },
            {
             "iteration": 78,
             "learn": [
              0.1117119243
             ],
             "passed_time": 27.70073794,
             "remaining_time": 7.363487301,
             "test": [
              0.1125272223
             ]
            },
            {
             "iteration": 79,
             "learn": [
              0.1101054513
             ],
             "passed_time": 28.04698199,
             "remaining_time": 7.011745498,
             "test": [
              0.1109327069
             ]
            },
            {
             "iteration": 80,
             "learn": [
              0.1086650202
             ],
             "passed_time": 28.32027067,
             "remaining_time": 6.643026453,
             "test": [
              0.1095385787
             ]
            },
            {
             "iteration": 81,
             "learn": [
              0.1071424194
             ],
             "passed_time": 28.65786035,
             "remaining_time": 6.290749832,
             "test": [
              0.1080359792
             ]
            },
            {
             "iteration": 82,
             "learn": [
              0.1057139949
             ],
             "passed_time": 28.99846389,
             "remaining_time": 5.939444411,
             "test": [
              0.1065927822
             ]
            },
            {
             "iteration": 83,
             "learn": [
              0.1039371602
             ],
             "passed_time": 29.41909053,
             "remaining_time": 5.603636292,
             "test": [
              0.1046626107
             ]
            },
            {
             "iteration": 84,
             "learn": [
              0.1022399922
             ],
             "passed_time": 29.80105227,
             "remaining_time": 5.259009225,
             "test": [
              0.1030354262
             ]
            },
            {
             "iteration": 85,
             "learn": [
              0.1008988523
             ],
             "passed_time": 30.08159261,
             "remaining_time": 4.897003448,
             "test": [
              0.1017371419
             ]
            },
            {
             "iteration": 86,
             "learn": [
              0.09918541507
             ],
             "passed_time": 30.52289524,
             "remaining_time": 4.560892392,
             "test": [
              0.1000427981
             ]
            },
            {
             "iteration": 87,
             "learn": [
              0.09794217578
             ],
             "passed_time": 30.84511606,
             "remaining_time": 4.206152189,
             "test": [
              0.09879244373
             ]
            },
            {
             "iteration": 88,
             "learn": [
              0.09663987501
             ],
             "passed_time": 31.19191756,
             "remaining_time": 3.855180823,
             "test": [
              0.09752534323
             ]
            },
            {
             "iteration": 89,
             "learn": [
              0.0949769784
             ],
             "passed_time": 31.53062775,
             "remaining_time": 3.503403083,
             "test": [
              0.09581321476
             ]
            },
            {
             "iteration": 90,
             "learn": [
              0.09353666101
             ],
             "passed_time": 31.94328603,
             "remaining_time": 3.159226091,
             "test": [
              0.09429846103
             ]
            },
            {
             "iteration": 91,
             "learn": [
              0.0921429687
             ],
             "passed_time": 32.24339207,
             "remaining_time": 2.803773223,
             "test": [
              0.09298140177
             ]
            },
            {
             "iteration": 92,
             "learn": [
              0.0908178144
             ],
             "passed_time": 32.54894887,
             "remaining_time": 2.449920882,
             "test": [
              0.09164236371
             ]
            },
            {
             "iteration": 93,
             "learn": [
              0.08945299837
             ],
             "passed_time": 32.83327401,
             "remaining_time": 2.095740894,
             "test": [
              0.09024620923
             ]
            },
            {
             "iteration": 94,
             "learn": [
              0.08797368198
             ],
             "passed_time": 33.29033318,
             "remaining_time": 1.752122799,
             "test": [
              0.0887244724
             ]
            },
            {
             "iteration": 95,
             "learn": [
              0.08671404659
             ],
             "passed_time": 33.69746446,
             "remaining_time": 1.404061019,
             "test": [
              0.08740925244
             ]
            },
            {
             "iteration": 96,
             "learn": [
              0.08535068754
             ],
             "passed_time": 34.02552543,
             "remaining_time": 1.052335838,
             "test": [
              0.08620615186
             ]
            },
            {
             "iteration": 97,
             "learn": [
              0.08407869878
             ],
             "passed_time": 34.41520654,
             "remaining_time": 0.7023511538,
             "test": [
              0.08504050607
             ]
            },
            {
             "iteration": 98,
             "learn": [
              0.0830897892
             ],
             "passed_time": 34.67719655,
             "remaining_time": 0.3502747127,
             "test": [
              0.08406557242
             ]
            },
            {
             "iteration": 99,
             "learn": [
              0.08187406245
             ],
             "passed_time": 35.07177887,
             "remaining_time": 0,
             "test": [
              0.08295441796
             ]
            }
           ],
           "meta": {
            "iteration_count": 100,
            "launch_mode": "Train",
            "learn_metrics": [
             {
              "best_value": "Min",
              "name": "CrossEntropy"
             }
            ],
            "learn_sets": [
             "learn"
            ],
            "name": "experiment",
            "parameters": "",
            "test_metrics": [
             {
              "best_value": "Min",
              "name": "CrossEntropy"
             }
            ],
            "test_sets": [
             "test"
            ]
           }
          },
          "passed_iterations": 99,
          "total_iterations": 100
         },
         "name": "catboost_info",
         "path": "catboost_info"
        }
       },
       "layout": "IPY_MODEL_ffafbaad30b1444c8af7d888f2911cd3"
      }
     },
     "e15916788fc04f5590f5111e15eb0fca": {
      "model_module": "catboost-widget",
      "model_module_version": "^1.0.0",
      "model_name": "CatboostWidgetModel",
      "state": {
       "_dom_classes": [],
       "_model_module": "catboost-widget",
       "_model_module_version": "^1.0.0",
       "_model_name": "CatboostWidgetModel",
       "_view_count": null,
       "_view_module": "catboost-widget",
       "_view_module_version": "^1.0.0",
       "_view_name": "CatboostWidgetView",
       "data": {
        "catboost_info": {
         "content": {
          "data": {
           "iterations": [
            {
             "iteration": 0,
             "learn": [
              0.6613819694
             ],
             "passed_time": 0.3404703713,
             "remaining_time": 33.70656676,
             "test": [
              0.6636019328
             ]
            },
            {
             "iteration": 1,
             "learn": [
              0.6362987119
             ],
             "passed_time": 0.6450358544,
             "remaining_time": 31.60675687,
             "test": [
              0.6357750357
             ]
            },
            {
             "iteration": 2,
             "learn": [
              0.6093825573
             ],
             "passed_time": 1.038673466,
             "remaining_time": 33.58377541,
             "test": [
              0.6095243546
             ]
            },
            {
             "iteration": 3,
             "learn": [
              0.5837248207
             ],
             "passed_time": 1.326562583,
             "remaining_time": 31.83750199,
             "test": [
              0.5847180541
             ]
            },
            {
             "iteration": 4,
             "learn": [
              0.5622011534
             ],
             "passed_time": 1.67937056,
             "remaining_time": 31.90804065,
             "test": [
              0.561246011
             ]
            },
            {
             "iteration": 5,
             "learn": [
              0.5376704184
             ],
             "passed_time": 2.007966147,
             "remaining_time": 31.45813631,
             "test": [
              0.5390015633
             ]
            },
            {
             "iteration": 6,
             "learn": [
              0.5168995843
             ],
             "passed_time": 2.402157289,
             "remaining_time": 31.91437541,
             "test": [
              0.5178970745
             ]
            },
            {
             "iteration": 7,
             "learn": [
              0.4986994976
             ],
             "passed_time": 2.692334455,
             "remaining_time": 30.96184623,
             "test": [
              0.4978490249
             ]
            },
            {
             "iteration": 8,
             "learn": [
              0.4785436395
             ],
             "passed_time": 3.053456958,
             "remaining_time": 30.87384258,
             "test": [
              0.4787854957
             ]
            },
            {
             "iteration": 9,
             "learn": [
              0.4605996981
             ],
             "passed_time": 3.450944002,
             "remaining_time": 31.05849602,
             "test": [
              0.4606401774
             ]
            },
            {
             "iteration": 10,
             "learn": [
              0.4438931324
             ],
             "passed_time": 3.794542867,
             "remaining_time": 30.70130138,
             "test": [
              0.4433530163
             ]
            },
            {
             "iteration": 11,
             "learn": [
              0.4280736547
             ],
             "passed_time": 4.169371883,
             "remaining_time": 30.57539381,
             "test": [
              0.4268678065
             ]
            },
            {
             "iteration": 12,
             "learn": [
              0.4121577867
             ],
             "passed_time": 4.536989293,
             "remaining_time": 30.36292835,
             "test": [
              0.4111362468
             ]
            },
            {
             "iteration": 13,
             "learn": [
              0.3968022911
             ],
             "passed_time": 4.839770423,
             "remaining_time": 29.73001831,
             "test": [
              0.3961105692
             ]
            },
            {
             "iteration": 14,
             "learn": [
              0.3824209822
             ],
             "passed_time": 5.200845842,
             "remaining_time": 29.47145977,
             "test": [
              0.3817504758
             ]
            },
            {
             "iteration": 15,
             "learn": [
              0.367361928
             ],
             "passed_time": 5.530790907,
             "remaining_time": 29.03665226,
             "test": [
              0.3680155925
             ]
            },
            {
             "iteration": 16,
             "learn": [
              0.3539103828
             ],
             "passed_time": 5.913728165,
             "remaining_time": 28.8729081,
             "test": [
              0.3548712103
             ]
            },
            {
             "iteration": 17,
             "learn": [
              0.3432061478
             ],
             "passed_time": 6.245875661,
             "remaining_time": 28.45343357,
             "test": [
              0.342283412
             ]
            },
            {
             "iteration": 18,
             "learn": [
              0.3301208005
             ],
             "passed_time": 6.592380737,
             "remaining_time": 28.10435999,
             "test": [
              0.3302237504
             ]
            },
            {
             "iteration": 19,
             "learn": [
              0.3197076904
             ],
             "passed_time": 6.905819816,
             "remaining_time": 27.62327926,
             "test": [
              0.3186622405
             ]
            },
            {
             "iteration": 20,
             "learn": [
              0.3070258472
             ],
             "passed_time": 7.301467283,
             "remaining_time": 27.46742454,
             "test": [
              0.3075735914
             ]
            },
            {
             "iteration": 21,
             "learn": [
              0.2969190488
             ],
             "passed_time": 7.678391803,
             "remaining_time": 27.22338912,
             "test": [
              0.2969336044
             ]
            },
            {
             "iteration": 22,
             "learn": [
              0.2868090109
             ],
             "passed_time": 8.063507775,
             "remaining_time": 26.99522168,
             "test": [
              0.2867187596
             ]
            },
            {
             "iteration": 23,
             "learn": [
              0.2765465472
             ],
             "passed_time": 8.463969901,
             "remaining_time": 26.80257135,
             "test": [
              0.2769082541
             ]
            },
            {
             "iteration": 24,
             "learn": [
              0.266527558
             ],
             "passed_time": 8.759311694,
             "remaining_time": 26.27793508,
             "test": [
              0.2674814008
             ]
            },
            {
             "iteration": 25,
             "learn": [
              0.2580235771
             ],
             "passed_time": 9.091920891,
             "remaining_time": 25.87700561,
             "test": [
              0.2584200616
             ]
            },
            {
             "iteration": 26,
             "learn": [
              0.2500077476
             ],
             "passed_time": 9.449625718,
             "remaining_time": 25.54898805,
             "test": [
              0.2497080772
             ]
            },
            {
             "iteration": 27,
             "learn": [
              0.2420184014
             ],
             "passed_time": 9.84136675,
             "remaining_time": 25.30637164,
             "test": [
              0.2413276338
             ]
            },
            {
             "iteration": 28,
             "learn": [
              0.2337299074
             ],
             "passed_time": 10.17964806,
             "remaining_time": 24.92258663,
             "test": [
              0.2332641095
             ]
            },
            {
             "iteration": 29,
             "learn": [
              0.2259009393
             ],
             "passed_time": 10.56748235,
             "remaining_time": 24.65745881,
             "test": [
              0.2255024785
             ]
            },
            {
             "iteration": 30,
             "learn": [
              0.2185736039
             ],
             "passed_time": 10.9979279,
             "remaining_time": 24.47925888,
             "test": [
              0.2180289807
             ]
            },
            {
             "iteration": 31,
             "learn": [
              0.2109823668
             ],
             "passed_time": 11.38627124,
             "remaining_time": 24.19582639,
             "test": [
              0.2108317905
             ]
            },
            {
             "iteration": 32,
             "learn": [
              0.2034065632
             ],
             "passed_time": 11.73979816,
             "remaining_time": 23.83534778,
             "test": [
              0.2038971413
             ]
            },
            {
             "iteration": 33,
             "learn": [
              0.1965286339
             ],
             "passed_time": 12.18027734,
             "remaining_time": 23.64406779,
             "test": [
              0.1972149925
             ]
            },
            {
             "iteration": 34,
             "learn": [
              0.19123818
             ],
             "passed_time": 12.60865134,
             "remaining_time": 23.41606678,
             "test": [
              0.1907746034
             ]
            },
            {
             "iteration": 35,
             "learn": [
              0.183972404
             ],
             "passed_time": 12.95928329,
             "remaining_time": 23.03872584,
             "test": [
              0.184565201
             ]
            },
            {
             "iteration": 36,
             "learn": [
              0.1788328421
             ],
             "passed_time": 13.3396826,
             "remaining_time": 22.71351361,
             "test": [
              0.1785761785
             ]
            },
            {
             "iteration": 37,
             "learn": [
              0.1722607578
             ],
             "passed_time": 13.70051491,
             "remaining_time": 22.35347169,
             "test": [
              0.172799871
             ]
            },
            {
             "iteration": 38,
             "learn": [
              0.1677285149
             ],
             "passed_time": 14.06036995,
             "remaining_time": 21.99186069,
             "test": [
              0.1672265519
             ]
            },
            {
             "iteration": 39,
             "learn": [
              0.1614915415
             ],
             "passed_time": 14.44350473,
             "remaining_time": 21.6652571,
             "test": [
              0.1618488347
             ]
            },
            {
             "iteration": 40,
             "learn": [
              0.1563912941
             ],
             "passed_time": 14.81188007,
             "remaining_time": 21.31465668,
             "test": [
              0.1566585531
             ]
            },
            {
             "iteration": 41,
             "learn": [
              0.1520796078
             ],
             "passed_time": 15.22438087,
             "remaining_time": 21.02414501,
             "test": [
              0.1516487
             ]
            },
            {
             "iteration": 42,
             "learn": [
              0.1470734581
             ],
             "passed_time": 15.54903047,
             "remaining_time": 20.6115055,
             "test": [
              0.1468105925
             ]
            },
            {
             "iteration": 43,
             "learn": [
              0.1419475624
             ],
             "passed_time": 15.94444423,
             "remaining_time": 20.29292902,
             "test": [
              0.1421390507
             ]
            },
            {
             "iteration": 44,
             "learn": [
              0.1371886427
             ],
             "passed_time": 16.25990638,
             "remaining_time": 19.87321891,
             "test": [
              0.137626993
             ]
            },
            {
             "iteration": 45,
             "learn": [
              0.1329781646
             ],
             "passed_time": 16.65257926,
             "remaining_time": 19.54868,
             "test": [
              0.1332682337
             ]
            },
            {
             "iteration": 46,
             "learn": [
              0.128986199
             ],
             "passed_time": 17.00554421,
             "remaining_time": 19.17646474,
             "test": [
              0.1290567898
             ]
            },
            {
             "iteration": 47,
             "learn": [
              0.1250622189
             ],
             "passed_time": 17.38022881,
             "remaining_time": 18.82858121,
             "test": [
              0.124987835
             ]
            },
            {
             "iteration": 48,
             "learn": [
              0.1211524499
             ],
             "passed_time": 17.77266826,
             "remaining_time": 18.49808329,
             "test": [
              0.1210554467
             ]
            },
            {
             "iteration": 49,
             "learn": [
              0.1172672419
             ],
             "passed_time": 18.13260219,
             "remaining_time": 18.13260219,
             "test": [
              0.1172543451
             ]
            },
            {
             "iteration": 50,
             "learn": [
              0.1133966392
             ],
             "passed_time": 18.47822748,
             "remaining_time": 17.7535911,
             "test": [
              0.1135798231
             ]
            },
            {
             "iteration": 51,
             "learn": [
              0.1098314933
             ],
             "passed_time": 18.85768562,
             "remaining_time": 17.40709442,
             "test": [
              0.110026981
             ]
            },
            {
             "iteration": 52,
             "learn": [
              0.1070020686
             ],
             "passed_time": 19.21507485,
             "remaining_time": 17.03978336,
             "test": [
              0.1065914592
             ]
            },
            {
             "iteration": 53,
             "learn": [
              0.1034858361
             ],
             "passed_time": 19.59740678,
             "remaining_time": 16.69408725,
             "test": [
              0.1032694234
             ]
            },
            {
             "iteration": 54,
             "learn": [
              0.09981180223
             ],
             "passed_time": 19.95074501,
             "remaining_time": 16.32333682,
             "test": [
              0.1000558167
             ]
            },
            {
             "iteration": 55,
             "learn": [
              0.09721915236
             ],
             "passed_time": 20.28470058,
             "remaining_time": 15.93797903,
             "test": [
              0.09694761045
             ]
            },
            {
             "iteration": 56,
             "learn": [
              0.09384760991
             ],
             "passed_time": 20.61655952,
             "remaining_time": 15.55284314,
             "test": [
              0.09394037382
             ]
            },
            {
             "iteration": 57,
             "learn": [
              0.09130509911
             ],
             "passed_time": 20.97468864,
             "remaining_time": 15.18856764,
             "test": [
              0.09103066792
             ]
            },
            {
             "iteration": 58,
             "learn": [
              0.08803648628
             ],
             "passed_time": 21.3412626,
             "remaining_time": 14.83036893,
             "test": [
              0.08821620388
             ]
            },
            {
             "iteration": 59,
             "learn": [
              0.08557654985
             ],
             "passed_time": 21.7926295,
             "remaining_time": 14.52841966,
             "test": [
              0.08549260493
             ]
            },
            {
             "iteration": 60,
             "learn": [
              0.08268091936
             ],
             "passed_time": 22.18181271,
             "remaining_time": 14.18181468,
             "test": [
              0.08285665192
             ]
            },
            {
             "iteration": 61,
             "learn": [
              0.08019170862
             ],
             "passed_time": 22.59984273,
             "remaining_time": 13.85151651,
             "test": [
              0.08030545726
             ]
            },
            {
             "iteration": 62,
             "learn": [
              0.07805850104
             ],
             "passed_time": 23.00894484,
             "remaining_time": 13.51318983,
             "test": [
              0.07783646783
             ]
            },
            {
             "iteration": 63,
             "learn": [
              0.07558862214
             ],
             "passed_time": 23.47277907,
             "remaining_time": 13.20343823,
             "test": [
              0.07544627293
             ]
            },
            {
             "iteration": 64,
             "learn": [
              0.07305814578
             ],
             "passed_time": 23.84191452,
             "remaining_time": 12.83795397,
             "test": [
              0.07313210809
             ]
            },
            {
             "iteration": 65,
             "learn": [
              0.07072936048
             ],
             "passed_time": 24.19757889,
             "remaining_time": 12.46541943,
             "test": [
              0.07089144062
             ]
            },
            {
             "iteration": 66,
             "learn": [
              0.06857986232
             ],
             "passed_time": 24.65519455,
             "remaining_time": 12.14360329,
             "test": [
              0.06872212748
             ]
            },
            {
             "iteration": 67,
             "learn": [
              0.06652834372
             ],
             "passed_time": 24.98358985,
             "remaining_time": 11.75698346,
             "test": [
              0.06662108927
             ]
            },
            {
             "iteration": 68,
             "learn": [
              0.06455771053
             ],
             "passed_time": 25.37326838,
             "remaining_time": 11.39958434,
             "test": [
              0.06458700128
             ]
            },
            {
             "iteration": 69,
             "learn": [
              0.06260394645
             ],
             "passed_time": 25.69529077,
             "remaining_time": 11.01226747,
             "test": [
              0.06261692889
             ]
            },
            {
             "iteration": 70,
             "learn": [
              0.06065818978
             ],
             "passed_time": 26.07264729,
             "remaining_time": 10.64939115,
             "test": [
              0.06070802467
             ]
            },
            {
             "iteration": 71,
             "learn": [
              0.0587528479
             ],
             "passed_time": 26.43747422,
             "remaining_time": 10.28123997,
             "test": [
              0.05886125579
             ]
            },
            {
             "iteration": 72,
             "learn": [
              0.05695029263
             ],
             "passed_time": 26.80052093,
             "remaining_time": 9.912521438,
             "test": [
              0.0570710312
             ]
            },
            {
             "iteration": 73,
             "learn": [
              0.05552915415
             ],
             "passed_time": 27.14341975,
             "remaining_time": 9.536877209,
             "test": [
              0.05533674089
             ]
            },
            {
             "iteration": 74,
             "learn": [
              0.05377345625
             ],
             "passed_time": 27.52745933,
             "remaining_time": 9.175819776,
             "test": [
              0.05365689865
             ]
            },
            {
             "iteration": 75,
             "learn": [
              0.05193110897
             ],
             "passed_time": 28.03075806,
             "remaining_time": 8.851818334,
             "test": [
              0.05202930905
             ]
            },
            {
             "iteration": 76,
             "learn": [
              0.05063481031
             ],
             "passed_time": 28.47876607,
             "remaining_time": 8.50664441,
             "test": [
              0.05045260079
             ]
            },
            {
             "iteration": 77,
             "learn": [
              0.04893890909
             ],
             "passed_time": 28.85416715,
             "remaining_time": 8.138354838,
             "test": [
              0.04892493242
             ]
            },
            {
             "iteration": 78,
             "learn": [
              0.04747344268
             ],
             "passed_time": 29.18774459,
             "remaining_time": 7.758767548,
             "test": [
              0.04744467238
             ]
            },
            {
             "iteration": 79,
             "learn": [
              0.04601321215
             ],
             "passed_time": 29.57544826,
             "remaining_time": 7.393862065,
             "test": [
              0.04601073507
             ]
            },
            {
             "iteration": 80,
             "learn": [
              0.04475956185
             ],
             "passed_time": 29.9094962,
             "remaining_time": 7.01580775,
             "test": [
              0.04462057497
             ]
            },
            {
             "iteration": 81,
             "learn": [
              0.04319929992
             ],
             "passed_time": 30.32723765,
             "remaining_time": 6.657198509,
             "test": [
              0.04327399823
             ]
            },
            {
             "iteration": 82,
             "learn": [
              0.04207764247
             ],
             "passed_time": 30.69205159,
             "remaining_time": 6.286323819,
             "test": [
              0.04196884463
             ]
            },
            {
             "iteration": 83,
             "learn": [
              0.04082872046
             ],
             "passed_time": 31.1099618,
             "remaining_time": 5.92570701,
             "test": [
              0.0407036191
             ]
            },
            {
             "iteration": 84,
             "learn": [
              0.03946898234
             ],
             "passed_time": 31.51508755,
             "remaining_time": 5.561486038,
             "test": [
              0.03947769852
             ]
            },
            {
             "iteration": 85,
             "learn": [
              0.03825749659
             ],
             "passed_time": 31.88622796,
             "remaining_time": 5.190781296,
             "test": [
              0.03828949628
             ]
            },
            {
             "iteration": 86,
             "learn": [
              0.03721861722
             ],
             "passed_time": 32.24322768,
             "remaining_time": 4.817953561,
             "test": [
              0.03713768482
             ]
            },
            {
             "iteration": 87,
             "learn": [
              0.03616716329
             ],
             "passed_time": 32.60398231,
             "remaining_time": 4.445997588,
             "test": [
              0.03602083312
             ]
            },
            {
             "iteration": 88,
             "learn": [
              0.03500124278
             ],
             "passed_time": 32.8847029,
             "remaining_time": 4.064401483,
             "test": [
              0.0349382802
             ]
            },
            {
             "iteration": 89,
             "learn": [
              0.03396146482
             ],
             "passed_time": 33.23902014,
             "remaining_time": 3.69322446,
             "test": [
              0.03388877318
             ]
            },
            {
             "iteration": 90,
             "learn": [
              0.03294444811
             ],
             "passed_time": 33.64334046,
             "remaining_time": 3.327363342,
             "test": [
              0.03287194645
             ]
            },
            {
             "iteration": 91,
             "learn": [
              0.03195413883
             ],
             "passed_time": 33.99914142,
             "remaining_time": 2.95644708,
             "test": [
              0.03188626406
             ]
            },
            {
             "iteration": 92,
             "learn": [
              0.03097734388
             ],
             "passed_time": 34.37394355,
             "remaining_time": 2.587286073,
             "test": [
              0.03093003775
             ]
            },
            {
             "iteration": 93,
             "learn": [
              0.03004236672
             ],
             "passed_time": 34.6959339,
             "remaining_time": 2.214634079,
             "test": [
              0.03000237918
             ]
            },
            {
             "iteration": 94,
             "learn": [
              0.02915160267
             ],
             "passed_time": 35.06180519,
             "remaining_time": 1.845358168,
             "test": [
              0.02910401849
             ]
            },
            {
             "iteration": 95,
             "learn": [
              0.02835654194
             ],
             "passed_time": 35.32746991,
             "remaining_time": 1.471977913,
             "test": [
              0.02823280831
             ]
            },
            {
             "iteration": 96,
             "learn": [
              0.02746006728
             ],
             "passed_time": 35.6265558,
             "remaining_time": 1.101852241,
             "test": [
              0.02738738912
             ]
            },
            {
             "iteration": 97,
             "learn": [
              0.02658055575
             ],
             "passed_time": 35.90829217,
             "remaining_time": 0.7328222891,
             "test": [
              0.02656775652
             ]
            },
            {
             "iteration": 98,
             "learn": [
              0.02589385796
             ],
             "passed_time": 36.22103968,
             "remaining_time": 0.3658690877,
             "test": [
              0.02577308723
             ]
            },
            {
             "iteration": 99,
             "learn": [
              0.0250350886
             ],
             "passed_time": 36.55069846,
             "remaining_time": 0,
             "test": [
              0.02500317681
             ]
            }
           ],
           "meta": {
            "iteration_count": 100,
            "launch_mode": "Train",
            "learn_metrics": [
             {
              "best_value": "Min",
              "name": "CrossEntropy"
             }
            ],
            "learn_sets": [
             "learn"
            ],
            "name": "experiment",
            "parameters": "",
            "test_metrics": [
             {
              "best_value": "Min",
              "name": "CrossEntropy"
             }
            ],
            "test_sets": [
             "test"
            ]
           }
          },
          "passed_iterations": 99,
          "total_iterations": 100
         },
         "name": "catboost_info",
         "path": "catboost_info"
        }
       },
       "layout": "IPY_MODEL_b9b91f5eda884aa8976ac0c4e7fb7f99"
      }
     },
     "e63a9b5700454f1f959cef341afbb22b": {
      "model_module": "@jupyter-widgets/base",
      "model_module_version": "1.2.0",
      "model_name": "LayoutModel",
      "state": {
       "_model_module": "@jupyter-widgets/base",
       "_model_module_version": "1.2.0",
       "_model_name": "LayoutModel",
       "_view_count": null,
       "_view_module": "@jupyter-widgets/base",
       "_view_module_version": "1.2.0",
       "_view_name": "LayoutView",
       "align_content": null,
       "align_items": null,
       "align_self": "stretch",
       "border": null,
       "bottom": null,
       "display": null,
       "flex": null,
       "flex_flow": null,
       "grid_area": null,
       "grid_auto_columns": null,
       "grid_auto_flow": null,
       "grid_auto_rows": null,
       "grid_column": null,
       "grid_gap": null,
       "grid_row": null,
       "grid_template_areas": null,
       "grid_template_columns": null,
       "grid_template_rows": null,
       "height": "500px",
       "justify_content": null,
       "justify_items": null,
       "left": null,
       "margin": null,
       "max_height": null,
       "max_width": null,
       "min_height": null,
       "min_width": null,
       "object_fit": null,
       "object_position": null,
       "order": null,
       "overflow": null,
       "overflow_x": null,
       "overflow_y": null,
       "padding": null,
       "right": null,
       "top": null,
       "visibility": null,
       "width": null
      }
     },
     "e8ca813c5df7450b9f21d907c9b9a68a": {
      "model_module": "@jupyter-widgets/base",
      "model_module_version": "1.2.0",
      "model_name": "LayoutModel",
      "state": {
       "_model_module": "@jupyter-widgets/base",
       "_model_module_version": "1.2.0",
       "_model_name": "LayoutModel",
       "_view_count": null,
       "_view_module": "@jupyter-widgets/base",
       "_view_module_version": "1.2.0",
       "_view_name": "LayoutView",
       "align_content": null,
       "align_items": null,
       "align_self": "stretch",
       "border": null,
       "bottom": null,
       "display": null,
       "flex": null,
       "flex_flow": null,
       "grid_area": null,
       "grid_auto_columns": null,
       "grid_auto_flow": null,
       "grid_auto_rows": null,
       "grid_column": null,
       "grid_gap": null,
       "grid_row": null,
       "grid_template_areas": null,
       "grid_template_columns": null,
       "grid_template_rows": null,
       "height": "500px",
       "justify_content": null,
       "justify_items": null,
       "left": null,
       "margin": null,
       "max_height": null,
       "max_width": null,
       "min_height": null,
       "min_width": null,
       "object_fit": null,
       "object_position": null,
       "order": null,
       "overflow": null,
       "overflow_x": null,
       "overflow_y": null,
       "padding": null,
       "right": null,
       "top": null,
       "visibility": null,
       "width": null
      }
     },
     "e95546cf82634122856cafca266d4abb": {
      "model_module": "@jupyter-widgets/base",
      "model_module_version": "1.2.0",
      "model_name": "LayoutModel",
      "state": {
       "_model_module": "@jupyter-widgets/base",
       "_model_module_version": "1.2.0",
       "_model_name": "LayoutModel",
       "_view_count": null,
       "_view_module": "@jupyter-widgets/base",
       "_view_module_version": "1.2.0",
       "_view_name": "LayoutView",
       "align_content": null,
       "align_items": null,
       "align_self": "stretch",
       "border": null,
       "bottom": null,
       "display": null,
       "flex": null,
       "flex_flow": null,
       "grid_area": null,
       "grid_auto_columns": null,
       "grid_auto_flow": null,
       "grid_auto_rows": null,
       "grid_column": null,
       "grid_gap": null,
       "grid_row": null,
       "grid_template_areas": null,
       "grid_template_columns": null,
       "grid_template_rows": null,
       "height": "500px",
       "justify_content": null,
       "justify_items": null,
       "left": null,
       "margin": null,
       "max_height": null,
       "max_width": null,
       "min_height": null,
       "min_width": null,
       "object_fit": null,
       "object_position": null,
       "order": null,
       "overflow": null,
       "overflow_x": null,
       "overflow_y": null,
       "padding": null,
       "right": null,
       "top": null,
       "visibility": null,
       "width": null
      }
     },
     "eb1e47e1e9c849b89114dc5602bae0ab": {
      "model_module": "@jupyter-widgets/base",
      "model_module_version": "1.2.0",
      "model_name": "LayoutModel",
      "state": {
       "_model_module": "@jupyter-widgets/base",
       "_model_module_version": "1.2.0",
       "_model_name": "LayoutModel",
       "_view_count": null,
       "_view_module": "@jupyter-widgets/base",
       "_view_module_version": "1.2.0",
       "_view_name": "LayoutView",
       "align_content": null,
       "align_items": null,
       "align_self": "stretch",
       "border": null,
       "bottom": null,
       "display": null,
       "flex": null,
       "flex_flow": null,
       "grid_area": null,
       "grid_auto_columns": null,
       "grid_auto_flow": null,
       "grid_auto_rows": null,
       "grid_column": null,
       "grid_gap": null,
       "grid_row": null,
       "grid_template_areas": null,
       "grid_template_columns": null,
       "grid_template_rows": null,
       "height": "500px",
       "justify_content": null,
       "justify_items": null,
       "left": null,
       "margin": null,
       "max_height": null,
       "max_width": null,
       "min_height": null,
       "min_width": null,
       "object_fit": null,
       "object_position": null,
       "order": null,
       "overflow": null,
       "overflow_x": null,
       "overflow_y": null,
       "padding": null,
       "right": null,
       "top": null,
       "visibility": null,
       "width": null
      }
     },
     "f70e63d9a44540d8864158284ab4a31e": {
      "model_module": "catboost-widget",
      "model_module_version": "^1.0.0",
      "model_name": "CatboostWidgetModel",
      "state": {
       "_dom_classes": [],
       "_model_module": "catboost-widget",
       "_model_module_version": "^1.0.0",
       "_model_name": "CatboostWidgetModel",
       "_view_count": null,
       "_view_module": "catboost-widget",
       "_view_module_version": "^1.0.0",
       "_view_name": "CatboostWidgetView",
       "data": {
        "catboost_info": {
         "content": {
          "data": {
           "iterations": [
            {
             "iteration": 0,
             "learn": [
              0.6688474239
             ],
             "passed_time": 0.3979446356,
             "remaining_time": 39.39651893,
             "test": [
              0.6698552353
             ]
            },
            {
             "iteration": 1,
             "learn": [
              0.6489637919
             ],
             "passed_time": 0.7916456594,
             "remaining_time": 38.79063731,
             "test": [
              0.6478181225
             ]
            },
            {
             "iteration": 2,
             "learn": [
              0.6264246166
             ],
             "passed_time": 1.17109129,
             "remaining_time": 37.86528505,
             "test": [
              0.6273521148
             ]
            },
            {
             "iteration": 3,
             "learn": [
              0.6064015787
             ],
             "passed_time": 1.535282265,
             "remaining_time": 36.84677436,
             "test": [
              0.6069772538
             ]
            },
            {
             "iteration": 4,
             "learn": [
              0.5880152798
             ],
             "passed_time": 1.923852449,
             "remaining_time": 36.55319654,
             "test": [
              0.5885214935
             ]
            },
            {
             "iteration": 5,
             "learn": [
              0.5709116606
             ],
             "passed_time": 2.311177531,
             "remaining_time": 36.20844799,
             "test": [
              0.5707660726
             ]
            },
            {
             "iteration": 6,
             "learn": [
              0.553216765
             ],
             "passed_time": 2.652761631,
             "remaining_time": 35.2438331,
             "test": [
              0.5539331906
             ]
            },
            {
             "iteration": 7,
             "learn": [
              0.5368560956
             ],
             "passed_time": 3.024726541,
             "remaining_time": 34.78435522,
             "test": [
              0.5373173884
             ]
            },
            {
             "iteration": 8,
             "learn": [
              0.522174513
             ],
             "passed_time": 3.340978832,
             "remaining_time": 33.78100819,
             "test": [
              0.5220872096
             ]
            },
            {
             "iteration": 9,
             "learn": [
              0.5067879968
             ],
             "passed_time": 3.690524923,
             "remaining_time": 33.2147243,
             "test": [
              0.5068361619
             ]
            },
            {
             "iteration": 10,
             "learn": [
              0.4924725395
             ],
             "passed_time": 4.015041356,
             "remaining_time": 32.48533461,
             "test": [
              0.4926453348
             ]
            },
            {
             "iteration": 11,
             "learn": [
              0.478491641
             ],
             "passed_time": 4.357993093,
             "remaining_time": 31.95861602,
             "test": [
              0.4788511926
             ]
            },
            {
             "iteration": 12,
             "learn": [
              0.466030808
             ],
             "passed_time": 4.737798698,
             "remaining_time": 31.70680667,
             "test": [
              0.4664804039
             ]
            },
            {
             "iteration": 13,
             "learn": [
              0.4540427034
             ],
             "passed_time": 5.218634997,
             "remaining_time": 32.05732926,
             "test": [
              0.4547678504
             ]
            },
            {
             "iteration": 14,
             "learn": [
              0.4422569358
             ],
             "passed_time": 5.72309389,
             "remaining_time": 32.43086538,
             "test": [
              0.4431028321
             ]
            },
            {
             "iteration": 15,
             "learn": [
              0.4306759215
             ],
             "passed_time": 6.095326816,
             "remaining_time": 32.00046578,
             "test": [
              0.4315037974
             ]
            },
            {
             "iteration": 16,
             "learn": [
              0.4196616079
             ],
             "passed_time": 6.455009922,
             "remaining_time": 31.51563668,
             "test": [
              0.4201414074
             ]
            },
            {
             "iteration": 17,
             "learn": [
              0.4084059428
             ],
             "passed_time": 6.805511461,
             "remaining_time": 31.00288555,
             "test": [
              0.4091996473
             ]
            },
            {
             "iteration": 18,
             "learn": [
              0.3981912963
             ],
             "passed_time": 7.172175242,
             "remaining_time": 30.57611551,
             "test": [
              0.3986755625
             ]
            },
            {
             "iteration": 19,
             "learn": [
              0.388690718
             ],
             "passed_time": 7.523464932,
             "remaining_time": 30.09385973,
             "test": [
              0.3892364008
             ]
            },
            {
             "iteration": 20,
             "learn": [
              0.3794707655
             ],
             "passed_time": 7.892620947,
             "remaining_time": 29.69128833,
             "test": [
              0.3800726012
             ]
            },
            {
             "iteration": 21,
             "learn": [
              0.3704608689
             ],
             "passed_time": 8.276647328,
             "remaining_time": 29.34447689,
             "test": [
              0.3713763953
             ]
            },
            {
             "iteration": 22,
             "learn": [
              0.3617317184
             ],
             "passed_time": 8.6179002,
             "remaining_time": 28.8512311,
             "test": [
              0.3624614132
             ]
            },
            {
             "iteration": 23,
             "learn": [
              0.3534449027
             ],
             "passed_time": 8.957801743,
             "remaining_time": 28.36637219,
             "test": [
              0.354187776
             ]
            },
            {
             "iteration": 24,
             "learn": [
              0.3452130604
             ],
             "passed_time": 9.352837268,
             "remaining_time": 28.0585118,
             "test": [
              0.3461274138
             ]
            },
            {
             "iteration": 25,
             "learn": [
              0.3374183349
             ],
             "passed_time": 9.735431209,
             "remaining_time": 27.70853498,
             "test": [
              0.338424521
             ]
            },
            {
             "iteration": 26,
             "learn": [
              0.3298955428
             ],
             "passed_time": 10.07526511,
             "remaining_time": 27.2405316,
             "test": [
              0.331429899
             ]
            },
            {
             "iteration": 27,
             "learn": [
              0.3225437216
             ],
             "passed_time": 10.41656856,
             "remaining_time": 26.785462,
             "test": [
              0.3239611004
             ]
            },
            {
             "iteration": 28,
             "learn": [
              0.3158823903
             ],
             "passed_time": 10.7763477,
             "remaining_time": 26.38347196,
             "test": [
              0.3172603705
             ]
            },
            {
             "iteration": 29,
             "learn": [
              0.3090972873
             ],
             "passed_time": 11.17216898,
             "remaining_time": 26.06839428,
             "test": [
              0.3105770603
             ]
            },
            {
             "iteration": 30,
             "learn": [
              0.3026007587
             ],
             "passed_time": 11.55565831,
             "remaining_time": 25.72065883,
             "test": [
              0.3043361509
             ]
            },
            {
             "iteration": 31,
             "learn": [
              0.2963438476
             ],
             "passed_time": 11.89753404,
             "remaining_time": 25.28225983,
             "test": [
              0.2981100702
             ]
            },
            {
             "iteration": 32,
             "learn": [
              0.2903239821
             ],
             "passed_time": 12.26828589,
             "remaining_time": 24.90833802,
             "test": [
              0.291858007
             ]
            },
            {
             "iteration": 33,
             "learn": [
              0.2844865689
             ],
             "passed_time": 12.60038879,
             "remaining_time": 24.45957824,
             "test": [
              0.2860398922
             ]
            },
            {
             "iteration": 34,
             "learn": [
              0.278848758
             ],
             "passed_time": 12.94365966,
             "remaining_time": 24.03822508,
             "test": [
              0.2801704443
             ]
            },
            {
             "iteration": 35,
             "learn": [
              0.2733660474
             ],
             "passed_time": 13.34244383,
             "remaining_time": 23.71990014,
             "test": [
              0.2748431678
             ]
            },
            {
             "iteration": 36,
             "learn": [
              0.2681431653
             ],
             "passed_time": 13.77006313,
             "remaining_time": 23.44632371,
             "test": [
              0.2697490508
             ]
            },
            {
             "iteration": 37,
             "learn": [
              0.2633577249
             ],
             "passed_time": 14.20911934,
             "remaining_time": 23.18329997,
             "test": [
              0.2647811101
             ]
            },
            {
             "iteration": 38,
             "learn": [
              0.2589498048
             ],
             "passed_time": 14.52052223,
             "remaining_time": 22.71158606,
             "test": [
              0.2603216585
             ]
            },
            {
             "iteration": 39,
             "learn": [
              0.25448742
             ],
             "passed_time": 14.83931398,
             "remaining_time": 22.25897097,
             "test": [
              0.2560713322
             ]
            },
            {
             "iteration": 40,
             "learn": [
              0.2496123976
             ],
             "passed_time": 15.24625485,
             "remaining_time": 21.93973258,
             "test": [
              0.2510592705
             ]
            },
            {
             "iteration": 41,
             "learn": [
              0.2453012928
             ],
             "passed_time": 15.64833501,
             "remaining_time": 21.60960549,
             "test": [
              0.2466468697
             ]
            },
            {
             "iteration": 42,
             "learn": [
              0.2409704035
             ],
             "passed_time": 16.03837653,
             "remaining_time": 21.26017353,
             "test": [
              0.2422690901
             ]
            },
            {
             "iteration": 43,
             "learn": [
              0.236877311
             ],
             "passed_time": 16.40909469,
             "remaining_time": 20.88430234,
             "test": [
              0.2381593707
             ]
            },
            {
             "iteration": 44,
             "learn": [
              0.2329210935
             ],
             "passed_time": 16.81017659,
             "remaining_time": 20.54577139,
             "test": [
              0.2343919114
             ]
            },
            {
             "iteration": 45,
             "learn": [
              0.2290056102
             ],
             "passed_time": 17.22074731,
             "remaining_time": 20.21565988,
             "test": [
              0.2305552048
             ]
            },
            {
             "iteration": 46,
             "learn": [
              0.2255872637
             ],
             "passed_time": 17.54570017,
             "remaining_time": 19.78557679,
             "test": [
              0.2270238301
             ]
            },
            {
             "iteration": 47,
             "learn": [
              0.2217726173
             ],
             "passed_time": 17.89463108,
             "remaining_time": 19.38585034,
             "test": [
              0.2232787162
             ]
            },
            {
             "iteration": 48,
             "learn": [
              0.2182719249
             ],
             "passed_time": 18.30697542,
             "remaining_time": 19.05419891,
             "test": [
              0.2195466221
             ]
            },
            {
             "iteration": 49,
             "learn": [
              0.2150023482
             ],
             "passed_time": 18.62154514,
             "remaining_time": 18.62154514,
             "test": [
              0.2163131241
             ]
            },
            {
             "iteration": 50,
             "learn": [
              0.2118463698
             ],
             "passed_time": 18.94660612,
             "remaining_time": 18.20360196,
             "test": [
              0.2132293719
             ]
            },
            {
             "iteration": 51,
             "learn": [
              0.2086451663
             ],
             "passed_time": 19.31248564,
             "remaining_time": 17.82690982,
             "test": [
              0.2098264146
             ]
            },
            {
             "iteration": 52,
             "learn": [
              0.2055645896
             ],
             "passed_time": 19.62423808,
             "remaining_time": 17.40262622,
             "test": [
              0.2068689718
             ]
            },
            {
             "iteration": 53,
             "learn": [
              0.2025788288
             ],
             "passed_time": 20.00893767,
             "remaining_time": 17.04465061,
             "test": [
              0.2039697793
             ]
            },
            {
             "iteration": 54,
             "learn": [
              0.1996410082
             ],
             "passed_time": 20.32839951,
             "remaining_time": 16.63232688,
             "test": [
              0.2009722983
             ]
            },
            {
             "iteration": 55,
             "learn": [
              0.1970308297
             ],
             "passed_time": 20.63053193,
             "remaining_time": 16.20970366,
             "test": [
              0.1983096381
             ]
            },
            {
             "iteration": 56,
             "learn": [
              0.1943235343
             ],
             "passed_time": 20.95908154,
             "remaining_time": 15.81123695,
             "test": [
              0.19545577
             ]
            },
            {
             "iteration": 57,
             "learn": [
              0.1917112994
             ],
             "passed_time": 21.27040194,
             "remaining_time": 15.40270486,
             "test": [
              0.192682897
             ]
            },
            {
             "iteration": 58,
             "learn": [
              0.1886966253
             ],
             "passed_time": 21.69232509,
             "remaining_time": 15.07432761,
             "test": [
              0.1893350465
             ]
            },
            {
             "iteration": 59,
             "learn": [
              0.1862303717
             ],
             "passed_time": 22.05696911,
             "remaining_time": 14.70464607,
             "test": [
              0.1867885481
             ]
            },
            {
             "iteration": 60,
             "learn": [
              0.1838047666
             ],
             "passed_time": 22.36975179,
             "remaining_time": 14.30197246,
             "test": [
              0.1844486673
             ]
            },
            {
             "iteration": 61,
             "learn": [
              0.1809755554
             ],
             "passed_time": 22.79602115,
             "remaining_time": 13.9717549,
             "test": [
              0.1813560901
             ]
            },
            {
             "iteration": 62,
             "learn": [
              0.1781153333
             ],
             "passed_time": 23.2256895,
             "remaining_time": 13.64048431,
             "test": [
              0.1786277967
             ]
            },
            {
             "iteration": 63,
             "learn": [
              0.1760543529
             ],
             "passed_time": 23.55561789,
             "remaining_time": 13.25003506,
             "test": [
              0.1766517719
             ]
            },
            {
             "iteration": 64,
             "learn": [
              0.1735972124
             ],
             "passed_time": 24.00113801,
             "remaining_time": 12.9236897,
             "test": [
              0.1742464489
             ]
            },
            {
             "iteration": 65,
             "learn": [
              0.1712268669
             ],
             "passed_time": 24.3905487,
             "remaining_time": 12.56482812,
             "test": [
              0.1719266737
             ]
            },
            {
             "iteration": 66,
             "learn": [
              0.169141294
             ],
             "passed_time": 24.69521679,
             "remaining_time": 12.16331573,
             "test": [
              0.1699364054
             ]
            },
            {
             "iteration": 67,
             "learn": [
              0.1667688291
             ],
             "passed_time": 25.11234436,
             "remaining_time": 11.81757382,
             "test": [
              0.1675928327
             ]
            },
            {
             "iteration": 68,
             "learn": [
              0.1645037689
             ],
             "passed_time": 25.54668008,
             "remaining_time": 11.47749395,
             "test": [
              0.1653177778
             ]
            },
            {
             "iteration": 69,
             "learn": [
              0.1625506171
             ],
             "passed_time": 25.89550435,
             "remaining_time": 11.09807329,
             "test": [
              0.1635611784
             ]
            },
            {
             "iteration": 70,
             "learn": [
              0.1607855436
             ],
             "passed_time": 26.23124512,
             "remaining_time": 10.71417054,
             "test": [
              0.1619292247
             ]
            },
            {
             "iteration": 71,
             "learn": [
              0.1588075171
             ],
             "passed_time": 26.63268637,
             "remaining_time": 10.35715581,
             "test": [
              0.1600922694
             ]
            },
            {
             "iteration": 72,
             "learn": [
              0.1571902762
             ],
             "passed_time": 26.93520749,
             "remaining_time": 9.962337018,
             "test": [
              0.1584828307
             ]
            },
            {
             "iteration": 73,
             "learn": [
              0.1554245969
             ],
             "passed_time": 27.29850534,
             "remaining_time": 9.591366741,
             "test": [
              0.1567161447
             ]
            },
            {
             "iteration": 74,
             "learn": [
              0.1533679523
             ],
             "passed_time": 27.71721581,
             "remaining_time": 9.239071938,
             "test": [
              0.1547544196
             ]
            },
            {
             "iteration": 75,
             "learn": [
              0.1516862151
             ],
             "passed_time": 28.12967528,
             "remaining_time": 8.883055351,
             "test": [
              0.1528416808
             ]
            },
            {
             "iteration": 76,
             "learn": [
              0.150230109
             ],
             "passed_time": 28.46883196,
             "remaining_time": 8.503677078,
             "test": [
              0.1515077131
             ]
            },
            {
             "iteration": 77,
             "learn": [
              0.148510785
             ],
             "passed_time": 28.83254509,
             "remaining_time": 8.132256308,
             "test": [
              0.1499663386
             ]
            },
            {
             "iteration": 78,
             "learn": [
              0.1467377421
             ],
             "passed_time": 29.25704673,
             "remaining_time": 7.777189638,
             "test": [
              0.1481558216
             ]
            },
            {
             "iteration": 79,
             "learn": [
              0.1449099232
             ],
             "passed_time": 29.66988915,
             "remaining_time": 7.417472287,
             "test": [
              0.1464307989
             ]
            },
            {
             "iteration": 80,
             "learn": [
              0.1434367485
             ],
             "passed_time": 30.03009394,
             "remaining_time": 7.044096109,
             "test": [
              0.144996354
             ]
            },
            {
             "iteration": 81,
             "learn": [
              0.1419932416
             ],
             "passed_time": 30.42653221,
             "remaining_time": 6.678994875,
             "test": [
              0.1434477198
             ]
            },
            {
             "iteration": 82,
             "learn": [
              0.1404713826
             ],
             "passed_time": 30.80126602,
             "remaining_time": 6.308693041,
             "test": [
              0.1420428357
             ]
            },
            {
             "iteration": 83,
             "learn": [
              0.1389341101
             ],
             "passed_time": 31.18672441,
             "remaining_time": 5.94032846,
             "test": [
              0.1404277226
             ]
            },
            {
             "iteration": 84,
             "learn": [
              0.1374192849
             ],
             "passed_time": 31.54005757,
             "remaining_time": 5.565892513,
             "test": [
              0.1386653936
             ]
            },
            {
             "iteration": 85,
             "learn": [
              0.1363154053
             ],
             "passed_time": 31.8876518,
             "remaining_time": 5.191013084,
             "test": [
              0.1376037041
             ]
            },
            {
             "iteration": 86,
             "learn": [
              0.1350434302
             ],
             "passed_time": 32.23763554,
             "remaining_time": 4.817117954,
             "test": [
              0.1364295489
             ]
            },
            {
             "iteration": 87,
             "learn": [
              0.1335881794
             ],
             "passed_time": 32.65188521,
             "remaining_time": 4.452529801,
             "test": [
              0.1349567803
             ]
            },
            {
             "iteration": 88,
             "learn": [
              0.1322855563
             ],
             "passed_time": 33.07743841,
             "remaining_time": 4.088222725,
             "test": [
              0.1336442129
             ]
            },
            {
             "iteration": 89,
             "learn": [
              0.1312647349
             ],
             "passed_time": 33.4175345,
             "remaining_time": 3.713059389,
             "test": [
              0.1326938891
             ]
            },
            {
             "iteration": 90,
             "learn": [
              0.1301914306
             ],
             "passed_time": 33.77152087,
             "remaining_time": 3.340040525,
             "test": [
              0.1315657872
             ]
            },
            {
             "iteration": 91,
             "learn": [
              0.1288299331
             ],
             "passed_time": 34.14506965,
             "remaining_time": 2.969136491,
             "test": [
              0.1302416394
             ]
            },
            {
             "iteration": 92,
             "learn": [
              0.1273192912
             ],
             "passed_time": 34.53298653,
             "remaining_time": 2.599257051,
             "test": [
              0.1286924489
             ]
            },
            {
             "iteration": 93,
             "learn": [
              0.1261426837
             ],
             "passed_time": 34.92204406,
             "remaining_time": 2.229066642,
             "test": [
              0.1274353219
             ]
            },
            {
             "iteration": 94,
             "learn": [
              0.1248992016
             ],
             "passed_time": 35.28424414,
             "remaining_time": 1.857065481,
             "test": [
              0.1263419601
             ]
            },
            {
             "iteration": 95,
             "learn": [
              0.1234283493
             ],
             "passed_time": 35.69957416,
             "remaining_time": 1.487482257,
             "test": [
              0.1249606335
             ]
            },
            {
             "iteration": 96,
             "learn": [
              0.1222562799
             ],
             "passed_time": 36.06379473,
             "remaining_time": 1.115375095,
             "test": [
              0.1234472593
             ]
            },
            {
             "iteration": 97,
             "learn": [
              0.1210682962
             ],
             "passed_time": 36.47213052,
             "remaining_time": 0.7443291944,
             "test": [
              0.1222526886
             ]
            },
            {
             "iteration": 98,
             "learn": [
              0.1200156557
             ],
             "passed_time": 37.01744171,
             "remaining_time": 0.3739135526,
             "test": [
              0.1212226985
             ]
            },
            {
             "iteration": 99,
             "learn": [
              0.1190635769
             ],
             "passed_time": 37.42439012,
             "remaining_time": 0,
             "test": [
              0.1204170278
             ]
            }
           ],
           "meta": {
            "iteration_count": 100,
            "launch_mode": "Train",
            "learn_metrics": [
             {
              "best_value": "Min",
              "name": "CrossEntropy"
             }
            ],
            "learn_sets": [
             "learn"
            ],
            "name": "experiment",
            "parameters": "",
            "test_metrics": [
             {
              "best_value": "Min",
              "name": "CrossEntropy"
             }
            ],
            "test_sets": [
             "test"
            ]
           }
          },
          "passed_iterations": 99,
          "total_iterations": 100
         },
         "name": "catboost_info",
         "path": "catboost_info"
        }
       },
       "layout": "IPY_MODEL_645b47749d6f4e5ab68631e62c119416"
      }
     },
     "f86515683f954bfaa452a95379d89bba": {
      "model_module": "@jupyter-widgets/base",
      "model_module_version": "1.2.0",
      "model_name": "LayoutModel",
      "state": {
       "_model_module": "@jupyter-widgets/base",
       "_model_module_version": "1.2.0",
       "_model_name": "LayoutModel",
       "_view_count": null,
       "_view_module": "@jupyter-widgets/base",
       "_view_module_version": "1.2.0",
       "_view_name": "LayoutView",
       "align_content": null,
       "align_items": null,
       "align_self": "stretch",
       "border": null,
       "bottom": null,
       "display": null,
       "flex": null,
       "flex_flow": null,
       "grid_area": null,
       "grid_auto_columns": null,
       "grid_auto_flow": null,
       "grid_auto_rows": null,
       "grid_column": null,
       "grid_gap": null,
       "grid_row": null,
       "grid_template_areas": null,
       "grid_template_columns": null,
       "grid_template_rows": null,
       "height": "500px",
       "justify_content": null,
       "justify_items": null,
       "left": null,
       "margin": null,
       "max_height": null,
       "max_width": null,
       "min_height": null,
       "min_width": null,
       "object_fit": null,
       "object_position": null,
       "order": null,
       "overflow": null,
       "overflow_x": null,
       "overflow_y": null,
       "padding": null,
       "right": null,
       "top": null,
       "visibility": null,
       "width": null
      }
     },
     "f899cc71a4b6459d964c71092570528c": {
      "model_module": "catboost-widget",
      "model_module_version": "^1.0.0",
      "model_name": "CatboostWidgetModel",
      "state": {
       "_dom_classes": [],
       "_model_module": "catboost-widget",
       "_model_module_version": "^1.0.0",
       "_model_name": "CatboostWidgetModel",
       "_view_count": null,
       "_view_module": "catboost-widget",
       "_view_module_version": "^1.0.0",
       "_view_name": "CatboostWidgetView",
       "data": {
        "catboost_info": {
         "content": {
          "data": {
           "iterations": [
            {
             "iteration": 0,
             "learn": [
              0.6638635278
             ],
             "passed_time": 0.2789914345,
             "remaining_time": 27.62015201,
             "test": [
              0.6648074967
             ]
            },
            {
             "iteration": 1,
             "learn": [
              0.6390331289
             ],
             "passed_time": 0.5615031026,
             "remaining_time": 27.51365203,
             "test": [
              0.6381202844
             ]
            },
            {
             "iteration": 2,
             "learn": [
              0.6133470028
             ],
             "passed_time": 0.8754721432,
             "remaining_time": 28.30693263,
             "test": [
              0.6133234536
             ]
            },
            {
             "iteration": 3,
             "learn": [
              0.5891922627
             ],
             "passed_time": 1.145382879,
             "remaining_time": 27.4891891,
             "test": [
              0.5896236362
             ]
            },
            {
             "iteration": 4,
             "learn": [
              0.568094508
             ],
             "passed_time": 1.458477481,
             "remaining_time": 27.71107213,
             "test": [
              0.5669888282
             ]
            },
            {
             "iteration": 5,
             "learn": [
              0.5467844952
             ],
             "passed_time": 1.768676349,
             "remaining_time": 27.7092628,
             "test": [
              0.5455327129
             ]
            },
            {
             "iteration": 6,
             "learn": [
              0.5258567075
             ],
             "passed_time": 2.082193767,
             "remaining_time": 27.66343148,
             "test": [
              0.5256357612
             ]
            },
            {
             "iteration": 7,
             "learn": [
              0.5083016142
             ],
             "passed_time": 2.400925484,
             "remaining_time": 27.61064307,
             "test": [
              0.5067690191
             ]
            },
            {
             "iteration": 8,
             "learn": [
              0.4894623586
             ],
             "passed_time": 2.695413065,
             "remaining_time": 27.25362099,
             "test": [
              0.4883243424
             ]
            },
            {
             "iteration": 9,
             "learn": [
              0.4719829043
             ],
             "passed_time": 2.990298935,
             "remaining_time": 26.91269041,
             "test": [
              0.4708797839
             ]
            },
            {
             "iteration": 10,
             "learn": [
              0.4557842371
             ],
             "passed_time": 3.296746009,
             "remaining_time": 26.67367225,
             "test": [
              0.4543940103
             ]
            },
            {
             "iteration": 11,
             "learn": [
              0.4399958434
             ],
             "passed_time": 3.609200282,
             "remaining_time": 26.46746873,
             "test": [
              0.4384560798
             ]
            },
            {
             "iteration": 12,
             "learn": [
              0.4248257105
             ],
             "passed_time": 3.879602625,
             "remaining_time": 25.96349449,
             "test": [
              0.4231786807
             ]
            },
            {
             "iteration": 13,
             "learn": [
              0.410493063
             ],
             "passed_time": 4.177335444,
             "remaining_time": 25.66077487,
             "test": [
              0.4085022859
             ]
            },
            {
             "iteration": 14,
             "learn": [
              0.396270298
             ],
             "passed_time": 4.501250634,
             "remaining_time": 25.50708693,
             "test": [
              0.394933927
             ]
            },
            {
             "iteration": 15,
             "learn": [
              0.3830023208
             ],
             "passed_time": 4.841669822,
             "remaining_time": 25.41876656,
             "test": [
              0.3819403932
             ]
            },
            {
             "iteration": 16,
             "learn": [
              0.3711226731
             ],
             "passed_time": 5.152196119,
             "remaining_time": 25.15483987,
             "test": [
              0.3691644479
             ]
            },
            {
             "iteration": 17,
             "learn": [
              0.3587953682
             ],
             "passed_time": 5.454065523,
             "remaining_time": 24.84629849,
             "test": [
              0.357183467
             ]
            },
            {
             "iteration": 18,
             "learn": [
              0.3473519771
             ],
             "passed_time": 5.786092315,
             "remaining_time": 24.66702513,
             "test": [
              0.3457960729
             ]
            },
            {
             "iteration": 19,
             "learn": [
              0.3361968058
             ],
             "passed_time": 6.089961446,
             "remaining_time": 24.35984578,
             "test": [
              0.3345418867
             ]
            },
            {
             "iteration": 20,
             "learn": [
              0.3256700154
             ],
             "passed_time": 6.417655136,
             "remaining_time": 24.14260742,
             "test": [
              0.3240580789
             ]
            },
            {
             "iteration": 21,
             "learn": [
              0.3153767808
             ],
             "passed_time": 6.741972156,
             "remaining_time": 23.90335582,
             "test": [
              0.3137975809
             ]
            },
            {
             "iteration": 22,
             "learn": [
              0.305623687
             ],
             "passed_time": 7.027938136,
             "remaining_time": 23.52831463,
             "test": [
              0.303821764
             ]
            },
            {
             "iteration": 23,
             "learn": [
              0.2963926406
             ],
             "passed_time": 7.355755971,
             "remaining_time": 23.29322724,
             "test": [
              0.294548464
             ]
            },
            {
             "iteration": 24,
             "learn": [
              0.2870939473
             ],
             "passed_time": 7.654221967,
             "remaining_time": 22.9626659,
             "test": [
              0.2853718266
             ]
            },
            {
             "iteration": 25,
             "learn": [
              0.278431603
             ],
             "passed_time": 7.980375613,
             "remaining_time": 22.71337675,
             "test": [
              0.2766651962
             ]
            },
            {
             "iteration": 26,
             "learn": [
              0.2698996013
             ],
             "passed_time": 8.275432111,
             "remaining_time": 22.37431645,
             "test": [
              0.2682234836
             ]
            },
            {
             "iteration": 27,
             "learn": [
              0.2619076459
             ],
             "passed_time": 8.566472238,
             "remaining_time": 22.02807147,
             "test": [
              0.260195989
             ]
            },
            {
             "iteration": 28,
             "learn": [
              0.2542056124
             ],
             "passed_time": 8.866256647,
             "remaining_time": 21.70704214,
             "test": [
              0.2523064931
             ]
            },
            {
             "iteration": 29,
             "learn": [
              0.2466725131
             ],
             "passed_time": 9.194752116,
             "remaining_time": 21.45442161,
             "test": [
              0.2448186229
             ]
            },
            {
             "iteration": 30,
             "learn": [
              0.2393198081
             ],
             "passed_time": 9.479146206,
             "remaining_time": 21.09874478,
             "test": [
              0.2374810535
             ]
            },
            {
             "iteration": 31,
             "learn": [
              0.2324705692
             ],
             "passed_time": 9.770578364,
             "remaining_time": 20.76247902,
             "test": [
              0.2304714736
             ]
            },
            {
             "iteration": 32,
             "learn": [
              0.2255990305
             ],
             "passed_time": 10.11840016,
             "remaining_time": 20.54341851,
             "test": [
              0.2237236524
             ]
            },
            {
             "iteration": 33,
             "learn": [
              0.2192690536
             ],
             "passed_time": 10.42662635,
             "remaining_time": 20.23992174,
             "test": [
              0.2173784797
             ]
            },
            {
             "iteration": 34,
             "learn": [
              0.2128706337
             ],
             "passed_time": 10.70476183,
             "remaining_time": 19.88027196,
             "test": [
              0.2110949492
             ]
            },
            {
             "iteration": 35,
             "learn": [
              0.2067361322
             ],
             "passed_time": 10.96518324,
             "remaining_time": 19.4936591,
             "test": [
              0.2050241613
             ]
            },
            {
             "iteration": 36,
             "learn": [
              0.2009052869
             ],
             "passed_time": 11.23184002,
             "remaining_time": 19.12448436,
             "test": [
              0.1991549514
             ]
            },
            {
             "iteration": 37,
             "learn": [
              0.1952289032
             ],
             "passed_time": 11.54011881,
             "remaining_time": 18.82861491,
             "test": [
              0.1935738046
             ]
            },
            {
             "iteration": 38,
             "learn": [
              0.1898394928
             ],
             "passed_time": 11.87677526,
             "remaining_time": 18.57649464,
             "test": [
              0.1881086284
             ]
            },
            {
             "iteration": 39,
             "learn": [
              0.1845346972
             ],
             "passed_time": 12.21347267,
             "remaining_time": 18.320209,
             "test": [
              0.182843817
             ]
            },
            {
             "iteration": 40,
             "learn": [
              0.1791138683
             ],
             "passed_time": 12.54649244,
             "remaining_time": 18.05470864,
             "test": [
              0.1776161699
             ]
            },
            {
             "iteration": 41,
             "learn": [
              0.1741963932
             ],
             "passed_time": 12.83352208,
             "remaining_time": 17.72248287,
             "test": [
              0.1726186348
             ]
            },
            {
             "iteration": 42,
             "learn": [
              0.1694723744
             ],
             "passed_time": 13.17293148,
             "remaining_time": 17.46179289,
             "test": [
              0.1678530527
             ]
            },
            {
             "iteration": 43,
             "learn": [
              0.1647998563
             ],
             "passed_time": 13.43516572,
             "remaining_time": 17.09930183,
             "test": [
              0.1632660408
             ]
            },
            {
             "iteration": 44,
             "learn": [
              0.1603831641
             ],
             "passed_time": 13.74659358,
             "remaining_time": 16.80139215,
             "test": [
              0.1588260171
             ]
            },
            {
             "iteration": 45,
             "learn": [
              0.1560294894
             ],
             "passed_time": 14.08569643,
             "remaining_time": 16.53538277,
             "test": [
              0.1545434764
             ]
            },
            {
             "iteration": 46,
             "learn": [
              0.1518632109
             ],
             "passed_time": 14.41790084,
             "remaining_time": 16.25848393,
             "test": [
              0.1503925586
             ]
            },
            {
             "iteration": 47,
             "learn": [
              0.1478461484
             ],
             "passed_time": 14.67506592,
             "remaining_time": 15.89798808,
             "test": [
              0.1463881294
             ]
            },
            {
             "iteration": 48,
             "learn": [
              0.1439957197
             ],
             "passed_time": 14.93731347,
             "remaining_time": 15.54699973,
             "test": [
              0.1425460666
             ]
            },
            {
             "iteration": 49,
             "learn": [
              0.1401640855
             ],
             "passed_time": 15.24842369,
             "remaining_time": 15.24842369,
             "test": [
              0.1387583759
             ]
            },
            {
             "iteration": 50,
             "learn": [
              0.1364626592
             ],
             "passed_time": 15.56805026,
             "remaining_time": 14.95753848,
             "test": [
              0.1350527945
             ]
            },
            {
             "iteration": 51,
             "learn": [
              0.1328234982
             ],
             "passed_time": 15.93270878,
             "remaining_time": 14.7071158,
             "test": [
              0.131497309
             ]
            },
            {
             "iteration": 52,
             "learn": [
              0.1294545837
             ],
             "passed_time": 16.19478642,
             "remaining_time": 14.36141437,
             "test": [
              0.1281404259
             ]
            },
            {
             "iteration": 53,
             "learn": [
              0.1259523957
             ],
             "passed_time": 16.49916731,
             "remaining_time": 14.05484622,
             "test": [
              0.1247410332
             ]
            },
            {
             "iteration": 54,
             "learn": [
              0.1227073837
             ],
             "passed_time": 16.83415794,
             "remaining_time": 13.77340195,
             "test": [
              0.121537671
             ]
            },
            {
             "iteration": 55,
             "learn": [
              0.1195293752
             ],
             "passed_time": 17.16985911,
             "remaining_time": 13.49060358,
             "test": [
              0.1184501941
             ]
            },
            {
             "iteration": 56,
             "learn": [
              0.1165505998
             ],
             "passed_time": 17.507055,
             "remaining_time": 13.20707658,
             "test": [
              0.1154900244
             ]
            },
            {
             "iteration": 57,
             "learn": [
              0.1136213131
             ],
             "passed_time": 17.87467481,
             "remaining_time": 12.94373004,
             "test": [
              0.112617858
             ]
            },
            {
             "iteration": 58,
             "learn": [
              0.1108134367
             ],
             "passed_time": 18.34312879,
             "remaining_time": 12.74692001,
             "test": [
              0.1098478521
             ]
            },
            {
             "iteration": 59,
             "learn": [
              0.1080081312
             ],
             "passed_time": 18.79248957,
             "remaining_time": 12.52832638,
             "test": [
              0.1071206025
             ]
            },
            {
             "iteration": 60,
             "learn": [
              0.1054673637
             ],
             "passed_time": 19.1081302,
             "remaining_time": 12.21667341,
             "test": [
              0.1046016276
             ]
            },
            {
             "iteration": 61,
             "learn": [
              0.1028494559
             ],
             "passed_time": 19.39899011,
             "remaining_time": 11.88970361,
             "test": [
              0.1020244027
             ]
            },
            {
             "iteration": 62,
             "learn": [
              0.1003620954
             ],
             "passed_time": 19.68658522,
             "remaining_time": 11.56196275,
             "test": [
              0.09965321287
             ]
            },
            {
             "iteration": 63,
             "learn": [
              0.09793211526
             ],
             "passed_time": 19.98122743,
             "remaining_time": 11.23944043,
             "test": [
              0.09712852585
             ]
            },
            {
             "iteration": 64,
             "learn": [
              0.09563975215
             ],
             "passed_time": 20.29285168,
             "remaining_time": 10.92692014,
             "test": [
              0.09491637022
             ]
            },
            {
             "iteration": 65,
             "learn": [
              0.09333501167
             ],
             "passed_time": 20.55467791,
             "remaining_time": 10.58877347,
             "test": [
              0.09270190738
             ]
            },
            {
             "iteration": 66,
             "learn": [
              0.09122078907
             ],
             "passed_time": 20.84874534,
             "remaining_time": 10.26878502,
             "test": [
              0.09056692668
             ]
            },
            {
             "iteration": 67,
             "learn": [
              0.08891607178
             ],
             "passed_time": 21.20852622,
             "remaining_time": 9.980482926,
             "test": [
              0.08839146457
             ]
            },
            {
             "iteration": 68,
             "learn": [
              0.08697594182
             ],
             "passed_time": 21.52488423,
             "remaining_time": 9.67060016,
             "test": [
              0.08651076934
             ]
            },
            {
             "iteration": 69,
             "learn": [
              0.08476114083
             ],
             "passed_time": 21.80309231,
             "remaining_time": 9.344182419,
             "test": [
              0.08428738599
             ]
            },
            {
             "iteration": 70,
             "learn": [
              0.08281935331
             ],
             "passed_time": 22.11313455,
             "remaining_time": 9.032125379,
             "test": [
              0.08239766383
             ]
            },
            {
             "iteration": 71,
             "learn": [
              0.08091966091
             ],
             "passed_time": 22.42997698,
             "remaining_time": 8.722768827,
             "test": [
              0.08060771747
             ]
            },
            {
             "iteration": 72,
             "learn": [
              0.07925666462
             ],
             "passed_time": 22.74234312,
             "remaining_time": 8.411551564,
             "test": [
              0.07897251578
             ]
            },
            {
             "iteration": 73,
             "learn": [
              0.07715757451
             ],
             "passed_time": 23.04797763,
             "remaining_time": 8.097938085,
             "test": [
              0.07687262058
             ]
            },
            {
             "iteration": 74,
             "learn": [
              0.0753520711
             ],
             "passed_time": 23.33665003,
             "remaining_time": 7.778883344,
             "test": [
              0.07510813756
             ]
            },
            {
             "iteration": 75,
             "learn": [
              0.07367314725
             ],
             "passed_time": 23.64313825,
             "remaining_time": 7.466254185,
             "test": [
              0.07347759261
             ]
            },
            {
             "iteration": 76,
             "learn": [
              0.071748574
             ],
             "passed_time": 23.9558656,
             "remaining_time": 7.155648166,
             "test": [
              0.0716310474
             ]
            },
            {
             "iteration": 77,
             "learn": [
              0.07032029723
             ],
             "passed_time": 24.26779578,
             "remaining_time": 6.844762912,
             "test": [
              0.07024640495
             ]
            },
            {
             "iteration": 78,
             "learn": [
              0.06862113534
             ],
             "passed_time": 24.52253081,
             "remaining_time": 6.51864743,
             "test": [
              0.0686198911
             ]
            },
            {
             "iteration": 79,
             "learn": [
              0.06691962304
             ],
             "passed_time": 24.87195445,
             "remaining_time": 6.217988614,
             "test": [
              0.06692054565
             ]
            },
            {
             "iteration": 80,
             "learn": [
              0.06532648519
             ],
             "passed_time": 25.23562434,
             "remaining_time": 5.919467439,
             "test": [
              0.06545252845
             ]
            },
            {
             "iteration": 81,
             "learn": [
              0.06405571186
             ],
             "passed_time": 25.55312089,
             "remaining_time": 5.609221658,
             "test": [
              0.06421979968
             ]
            },
            {
             "iteration": 82,
             "learn": [
              0.06255023372
             ],
             "passed_time": 25.80572779,
             "remaining_time": 5.285510511,
             "test": [
              0.06270389237
             ]
            },
            {
             "iteration": 83,
             "learn": [
              0.06106212114
             ],
             "passed_time": 26.06910874,
             "remaining_time": 4.965544522,
             "test": [
              0.06126712731
             ]
            },
            {
             "iteration": 84,
             "learn": [
              0.05963958105
             ],
             "passed_time": 26.33583935,
             "remaining_time": 4.647501062,
             "test": [
              0.05981930446
             ]
            },
            {
             "iteration": 85,
             "learn": [
              0.05835453866
             ],
             "passed_time": 26.674705,
             "remaining_time": 4.342393838,
             "test": [
              0.05860272969
             ]
            },
            {
             "iteration": 86,
             "learn": [
              0.05723835765
             ],
             "passed_time": 27.00073577,
             "remaining_time": 4.034592702,
             "test": [
              0.05755180159
             ]
            },
            {
             "iteration": 87,
             "learn": [
              0.05587867391
             ],
             "passed_time": 27.3489562,
             "remaining_time": 3.729403119,
             "test": [
              0.05623460193
             ]
            },
            {
             "iteration": 88,
             "learn": [
              0.05472877435
             ],
             "passed_time": 27.66613519,
             "remaining_time": 3.419409967,
             "test": [
              0.05517380985
             ]
            },
            {
             "iteration": 89,
             "learn": [
              0.05372623371
             ],
             "passed_time": 27.9859931,
             "remaining_time": 3.109554789,
             "test": [
              0.05423491877
             ]
            },
            {
             "iteration": 90,
             "learn": [
              0.05243339403
             ],
             "passed_time": 28.33901432,
             "remaining_time": 2.802759658,
             "test": [
              0.05293621487
             ]
            },
            {
             "iteration": 91,
             "learn": [
              0.05125476422
             ],
             "passed_time": 28.60640642,
             "remaining_time": 2.487513601,
             "test": [
              0.05178304789
             ]
            },
            {
             "iteration": 92,
             "learn": [
              0.05019711015
             ],
             "passed_time": 28.8954559,
             "remaining_time": 2.174926788,
             "test": [
              0.05074458423
             ]
            },
            {
             "iteration": 93,
             "learn": [
              0.04905415292
             ],
             "passed_time": 29.24029593,
             "remaining_time": 1.866401868,
             "test": [
              0.04961812318
             ]
            },
            {
             "iteration": 94,
             "learn": [
              0.04818793736
             ],
             "passed_time": 29.55285482,
             "remaining_time": 1.555413412,
             "test": [
              0.04880394449
             ]
            },
            {
             "iteration": 95,
             "learn": [
              0.04715716291
             ],
             "passed_time": 29.79859426,
             "remaining_time": 1.241608094,
             "test": [
              0.0476943504
             ]
            },
            {
             "iteration": 96,
             "learn": [
              0.04611596735
             ],
             "passed_time": 30.06694326,
             "remaining_time": 0.9299054615,
             "test": [
              0.04663014799
             ]
            },
            {
             "iteration": 97,
             "learn": [
              0.04509516889
             ],
             "passed_time": 30.41158078,
             "remaining_time": 0.6206445057,
             "test": [
              0.04563839537
             ]
            },
            {
             "iteration": 98,
             "learn": [
              0.04432187891
             ],
             "passed_time": 30.69198986,
             "remaining_time": 0.3100200996,
             "test": [
              0.04485543808
             ]
            },
            {
             "iteration": 99,
             "learn": [
              0.04361285715
             ],
             "passed_time": 30.99510298,
             "remaining_time": 0,
             "test": [
              0.04418851521
             ]
            }
           ],
           "meta": {
            "iteration_count": 100,
            "launch_mode": "Train",
            "learn_metrics": [
             {
              "best_value": "Min",
              "name": "CrossEntropy"
             }
            ],
            "learn_sets": [
             "learn"
            ],
            "name": "experiment",
            "parameters": "",
            "test_metrics": [
             {
              "best_value": "Min",
              "name": "CrossEntropy"
             }
            ],
            "test_sets": [
             "test"
            ]
           }
          },
          "passed_iterations": 99,
          "total_iterations": 100
         },
         "name": "catboost_info",
         "path": "catboost_info"
        }
       },
       "layout": "IPY_MODEL_b0b915e7fdf64946ac00b9f60d4d24a2"
      }
     },
     "ffafbaad30b1444c8af7d888f2911cd3": {
      "model_module": "@jupyter-widgets/base",
      "model_module_version": "1.2.0",
      "model_name": "LayoutModel",
      "state": {
       "_model_module": "@jupyter-widgets/base",
       "_model_module_version": "1.2.0",
       "_model_name": "LayoutModel",
       "_view_count": null,
       "_view_module": "@jupyter-widgets/base",
       "_view_module_version": "1.2.0",
       "_view_name": "LayoutView",
       "align_content": null,
       "align_items": null,
       "align_self": "stretch",
       "border": null,
       "bottom": null,
       "display": null,
       "flex": null,
       "flex_flow": null,
       "grid_area": null,
       "grid_auto_columns": null,
       "grid_auto_flow": null,
       "grid_auto_rows": null,
       "grid_column": null,
       "grid_gap": null,
       "grid_row": null,
       "grid_template_areas": null,
       "grid_template_columns": null,
       "grid_template_rows": null,
       "height": "500px",
       "justify_content": null,
       "justify_items": null,
       "left": null,
       "margin": null,
       "max_height": null,
       "max_width": null,
       "min_height": null,
       "min_width": null,
       "object_fit": null,
       "object_position": null,
       "order": null,
       "overflow": null,
       "overflow_x": null,
       "overflow_y": null,
       "padding": null,
       "right": null,
       "top": null,
       "visibility": null,
       "width": null
      }
     }
    },
    "version_major": 2,
    "version_minor": 0
   }
  }
 },
 "nbformat": 4,
 "nbformat_minor": 5
}
