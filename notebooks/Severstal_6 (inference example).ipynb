{
 "cells": [
  {
   "cell_type": "code",
   "execution_count": 1,
   "id": "7d765bff",
   "metadata": {
    "_cell_guid": "b1076dfc-b9ad-4769-8c92-a6c4dae69d19",
    "_uuid": "8f2839f25d086af736a60e9eeb907d3b93b6e0e5",
    "execution": {
     "iopub.execute_input": "2023-05-28T19:52:30.006626Z",
     "iopub.status.busy": "2023-05-28T19:52:30.005801Z",
     "iopub.status.idle": "2023-05-28T19:52:30.052531Z",
     "shell.execute_reply": "2023-05-28T19:52:30.051301Z"
    },
    "papermill": {
     "duration": 0.055678,
     "end_time": "2023-05-28T19:52:30.056381",
     "exception": false,
     "start_time": "2023-05-28T19:52:30.000703",
     "status": "completed"
    },
    "tags": []
   },
   "outputs": [
    {
     "name": "stdout",
     "output_type": "stream",
     "text": [
      "/kaggle/input/x-train-northsteel/ВИБРАЦИЯ НА ОПОРЕ 4. ПРОДОЛЬНАЯ.csv\n",
      "/kaggle/input/x-train-northsteel/ВИБРАЦИЯ НА ОПОРЕ 4.csv\n",
      "/kaggle/input/x-train-northsteel/ЭКСГАУСТЕР 9.csv\n",
      "/kaggle/input/x-train-northsteel/ЭКСГАУСТЕР 4.csv\n",
      "/kaggle/input/x-train-northsteel/ЭКСГАУСТЕР 7.csv\n",
      "/kaggle/input/x-train-northsteel/ВИБРАЦИЯ НА ОПОРЕ 3.csv\n",
      "/kaggle/input/x-train-northsteel/ВИБРАЦИЯ НА ОПОРЕ 2.csv\n",
      "/kaggle/input/x-train-northsteel/ТОК СТАТОРА.csv\n",
      "/kaggle/input/x-train-northsteel/ДАВЛЕНИЕ МАСЛА В СИСТЕМЕ.csv\n",
      "/kaggle/input/x-train-northsteel/ВИБРАЦИЯ НА ОПОРЕ 1.csv\n",
      "/kaggle/input/x-train-northsteel/ТЕМПЕРАТУРА ПОДШИПНИКА НА ОПОРЕ 3.csv\n",
      "/kaggle/input/x-train-northsteel/ТЕМПЕРАТУРА ПОДШИПНИКА НА ОПОРЕ 1.csv\n",
      "/kaggle/input/x-train-northsteel/ЭКСГАУСТЕР 6.csv\n",
      "/kaggle/input/x-train-northsteel/ТОК РОТОРА 2.csv\n",
      "/kaggle/input/x-train-northsteel/ТЕМПЕРАТУРА ПОДШИПНИКА НА ОПОРЕ 2.csv\n",
      "/kaggle/input/x-train-northsteel/ТЕМПЕРАТУРА ПОДШИПНИКА НА ОПОРЕ 4.csv\n",
      "/kaggle/input/x-train-northsteel/ЭКСГАУСТЕР 5.csv\n",
      "/kaggle/input/x-train-northsteel/ТОК РОТОРА 1.csv\n",
      "/kaggle/input/x-train-northsteel/ЭКСГАУСТЕР 8.csv\n",
      "/kaggle/input/x-train-northsteel/ВИБРАЦИЯ НА ОПОРЕ 3. ПРОДОЛЬНАЯ.csv\n",
      "/kaggle/input/x-train-northsteel/ТЕМПЕРАТУРА МАСЛА В МАСЛОБЛОКЕ.csv\n",
      "/kaggle/input/x-train-northsteel/ТЕМПЕРАТУРА МАСЛА В СИСТЕМЕ.csv\n",
      "/kaggle/input/models-for-northsteel-4-4/ЭКСГАУСТЕР АМ 4 Y_ЭКСГАУСТЕР АМ №4_КЛ1 ТР№4 ДО ЭД ЭКСГАУСТЕРА №4 M3\n",
      "/kaggle/input/models-for-northsteel-4-4/ЭКСГАУСТЕР АМ 4 Y_ЭКСГАУСТЕР АМ №4_ЭЛЕКТРОДВИГАТЕЛЬ ДСПУ-140-84-4 ЭКСГ. №4 M1\n",
      "/kaggle/input/models-for-northsteel-4-4/ЭКСГАУСТЕР АМ 4 Y_ЭКСГАУСТЕР АМ №4_МАСЛООХЛАДИТЕЛЬ  М-05-1 ЭКСГ. №4 M3\n",
      "/kaggle/input/models-for-northsteel-4-4/ЭКСГАУСТЕР АМ 4 Y_ЭКСГАУСТЕР АМ №4_ГСМ ЭКСГ. №4 M3\n",
      "/kaggle/input/models-for-northsteel-4-4/ЭКСГАУСТЕР АМ 4 Y_ЭКСГАУСТЕР АМ №4_ЗАДВИЖКА ЭКСГ. №4 M1\n",
      "/kaggle/input/models-for-northsteel-4-4/ЭКСГАУСТЕР АМ 4 Y_ЭКСГАУСТЕР АМ №4_ЗАДВИЖКА ЭКСГ. №4 M3\n",
      "/kaggle/input/models-for-northsteel-4-4/ЭКСГАУСТЕР АМ 4 Y_ЭКСГАУСТЕР АМ №4_ТСМТ-101-010-50М-400 ТЕРМОПР.ПОДШ.Т.1 M3\n",
      "/kaggle/input/models-for-northsteel-4-4/ЭКСГАУСТЕР АМ 4 Y_ЭКСГАУСТЕР АМ №4_ЭЛЕКТРОДВИГАТЕЛЬ ДСПУ-140-84-4 ЭКСГ. №4 M3\n",
      "/kaggle/input/models-for-northsteel-4-4/ЭКСГАУСТЕР АМ 4 Y_ЭКСГАУСТЕР АМ №4_ВК 310С ВИБРОПРЕОБРАЗОВАТЕЛЬ ЭКСГ.№4 Т.1 M3\n",
      "/kaggle/input/models-for-northsteel-4-4/__results__.html\n",
      "/kaggle/input/models-for-northsteel-4-4/ЭКСГАУСТЕР АМ 4 Y_ЭКСГАУСТЕР АМ №4_РОТОР ЭКСГ. №4 M1\n",
      "/kaggle/input/models-for-northsteel-4-4/ЭКСГАУСТЕР АМ 4 Y_ЭКСГАУСТЕР АМ №4_ЗАП. И РЕГ. АРМАТУРА ЭКСГ.№4 M3\n",
      "/kaggle/input/models-for-northsteel-4-4/ЭКСГАУСТЕР АМ 4 Y_ЭКСГАУСТЕР АМ №4_ПОДШИПНИК ОПОРНО-УПОРНЫЙ ЭКСГ. №4 M3\n",
      "/kaggle/input/models-for-northsteel-4-4/ЭКСГАУСТЕР АМ 4 Y_ЭКСГАУСТЕР АМ №4_ЭЛЕКТРОАППАРАТУРА ЭКСГ. №4 M3\n",
      "/kaggle/input/models-for-northsteel-4-4/ЭКСГАУСТЕР АМ 4 Y_ЭКСГАУСТЕР АМ №4_ЭЛЕКТРОАППАРАТУРА ЭКСГ. №4 M1\n",
      "/kaggle/input/models-for-northsteel-4-4/ЭКСГАУСТЕР АМ 4 Y_ЭКСГАУСТЕР АМ №4_ПОДШИПНИК ОПОРНЫЙ №2 ЭКСГ. №4 M3\n",
      "/kaggle/input/models-for-northsteel-4-4/ЭКСГАУСТЕР АМ 4 Y_ЭКСГАУСТЕР АМ №4_РЕДУКТОР ГАЗ. ЗАДВИЖКИ ЭКСГ. №4 M3\n",
      "/kaggle/input/models-for-northsteel-4-4/ЭКСГАУСТЕР АМ 4 Y_ЭКСГАУСТЕР АМ №4_КЛ2 ТР№4 ДО ЭД ЭКСГАУСТЕРА №4 M3\n",
      "/kaggle/input/models-for-northsteel-4-4/ЭКСГАУСТЕР АМ 4 Y_ЭКСГАУСТЕР АМ №4_ПОДШИПНИК ОПОРНЫЙ ЭКСГ. №4 M3\n",
      "/kaggle/input/models-for-northsteel-4-4/ЭКСГАУСТЕР АМ 4 Y_ЭКСГАУСТЕР АМ №4_РОТОР ЭКСГ. №4 M3\n",
      "/kaggle/input/models-for-northsteel-4-4/ЭКСГАУСТЕР АМ 4 Y_ЭКСГАУСТЕР АМ №4_ТР-Р ТМ-4000-106 ЭКСГ. №4 M3\n",
      "/kaggle/input/models-for-northsteel-4-4/summary ЭКСГАУСТЕР АМ 4.csv\n",
      "/kaggle/input/models-for-northsteel-4-4/ЭКСГАУСТЕР АМ 4 Y_ЭКСГАУСТЕР АМ №4_ПОДШИПНИК ОПОРНО-УПОРНЫЙ ЭКСГ. №4 M1\n",
      "/kaggle/input/models-for-northsteel-4-4/ЭКСГАУСТЕР АМ 4 Y_ЭКСГАУСТЕР АМ №4_УЛИТА ЭКСГ. №4 M3\n",
      "/kaggle/input/models-for-northsteel-4-4/ЭКСГАУСТЕР АМ 4 Y_ЭКСГАУСТЕР АМ №4_ЭКСГАУСТЕР АМ №4 M1\n",
      "/kaggle/input/models-for-northsteel-4-4/__notebook__.ipynb\n",
      "/kaggle/input/models-for-northsteel-4-4/ЭКСГАУСТЕР АМ 4 Y_ЭКСГАУСТЕР АМ №4_МАСЛОНАСОС РАБОЧИЙ ЭКСГ. №4 M3\n",
      "/kaggle/input/models-for-northsteel-4-4/ЭКСГАУСТЕР АМ 4 Y_ЭКСГАУСТЕР АМ №4_ПОДШИПНИК ОПОРНЫЙ №2 ЭКСГ. №4 M1\n",
      "/kaggle/input/models-for-northsteel-4-4/__output__.json\n",
      "/kaggle/input/models-for-northsteel-4-4/ЭКСГАУСТЕР АМ 4 Y_ЭКСГАУСТЕР АМ №4_ПОДШИПНИК ОПОРНЫЙ №1 ЭКСГ. №4 M3\n",
      "/kaggle/input/models-for-northsteel-4-4/ЭКСГАУСТЕР АМ 4 Y_ЭКСГАУСТЕР АМ №4_ЭЛДВИГАТЕЛЬ ГАЗ. ЗАДВИЖКИ ЭКСГ. №4 M3\n",
      "/kaggle/input/models-for-northsteel-4-4/custom.css\n",
      "/kaggle/input/models-for-northsteel-4-4/catboost_info/test_error.tsv\n",
      "/kaggle/input/models-for-northsteel-4-4/catboost_info/learn_error.tsv\n",
      "/kaggle/input/models-for-northsteel-4-4/catboost_info/catboost_training.json\n",
      "/kaggle/input/models-for-northsteel-4-4/catboost_info/time_left.tsv\n",
      "/kaggle/input/models-for-northsteel-4-4/catboost_info/learn/events.out.tfevents\n",
      "/kaggle/input/models-for-northsteel-4-4/catboost_info/test/events.out.tfevents\n"
     ]
    }
   ],
   "source": [
    "# This Python 3 environment comes with many helpful analytics libraries installed\n",
    "# It is defined by the kaggle/python Docker image: https://github.com/kaggle/docker-python\n",
    "# For example, here's several helpful packages to load\n",
    "\n",
    "import numpy as np # linear algebra\n",
    "import pandas as pd # data processing, CSV file I/O (e.g. pd.read_csv)\n",
    "\n",
    "# Input data files are available in the read-only \"../input/\" directory\n",
    "# For example, running this (by clicking run or pressing Shift+Enter) will list all files under the input directory\n",
    "\n",
    "import os\n",
    "for dirname, _, filenames in os.walk('/kaggle/input'):\n",
    "    for filename in filenames:\n",
    "        print(os.path.join(dirname, filename))\n",
    "\n",
    "# You can write up to 20GB to the current directory (/kaggle/working/) that gets preserved as output when you create a version using \"Save & Run All\" \n",
    "# You can also write temporary files to /kaggle/temp/, but they won't be saved outside of the current session"
   ]
  },
  {
   "cell_type": "code",
   "execution_count": 2,
   "id": "ff4be5f1",
   "metadata": {
    "execution": {
     "iopub.execute_input": "2023-05-28T19:52:30.064164Z",
     "iopub.status.busy": "2023-05-28T19:52:30.063741Z",
     "iopub.status.idle": "2023-05-28T19:53:01.739518Z",
     "shell.execute_reply": "2023-05-28T19:53:01.738578Z"
    },
    "papermill": {
     "duration": 31.682712,
     "end_time": "2023-05-28T19:53:01.742138",
     "exception": false,
     "start_time": "2023-05-28T19:52:30.059426",
     "status": "completed"
    },
    "tags": []
   },
   "outputs": [],
   "source": [
    "X_train = pd.read_csv(\"/kaggle/input/x-train-northsteel/ЭКСГАУСТЕР 5.csv\",parse_dates=True)\n"
   ]
  },
  {
   "cell_type": "code",
   "execution_count": 3,
   "id": "974cc5d9",
   "metadata": {
    "execution": {
     "iopub.execute_input": "2023-05-28T19:53:01.750442Z",
     "iopub.status.busy": "2023-05-28T19:53:01.749534Z",
     "iopub.status.idle": "2023-05-28T19:55:13.487988Z",
     "shell.execute_reply": "2023-05-28T19:55:13.486793Z"
    },
    "papermill": {
     "duration": 131.745919,
     "end_time": "2023-05-28T19:55:13.491094",
     "exception": false,
     "start_time": "2023-05-28T19:53:01.745175",
     "status": "completed"
    },
    "tags": []
   },
   "outputs": [],
   "source": [
    "import re\n",
    "\n",
    "def reduced(x):\n",
    "    answer = re.sub(r\"ЭКСГАУСТЕР\\s?\\n?№\\d+.\", \"\", x).strip()\n",
    "    answer = re.sub(r\"ЭКСГАУСТЕР\\s?\\n?\\d+.\", \"\", x).strip()\n",
    "    return answer\n",
    "\n",
    "\n",
    "if \"DT\" in X_train.columns:\n",
    "    X_train = X_train.set_index(\"DT\")\n",
    "for col in X_train.columns:\n",
    "    X_train = X_train.rename(columns={col: reduced(col).strip()})\n",
    "X_train = X_train[[\"ТОК РОТОРА 1\",\"ТОК РОТОРА 2\",\"ТОК СТАТОРА\",\n",
    "                   \"ВИБРАЦИЯ НА ОПОРЕ 1\",\"ВИБРАЦИЯ НА ОПОРЕ 2\",\n",
    "                   \"ВИБРАЦИЯ НА ОПОРЕ 3\",\"ВИБРАЦИЯ НА ОПОРЕ 3. ПРОДОЛЬНАЯ\",\n",
    "                   \"ВИБРАЦИЯ НА ОПОРЕ 4\",\"ВИБРАЦИЯ НА ОПОРЕ 4. ПРОДОЛЬНАЯ\",\n",
    "                   \"ТЕМПЕРАТУРА ПОДШИПНИКА НА ОПОРЕ 1\",\n",
    "                   \"ТЕМПЕРАТУРА ПОДШИПНИКА НА ОПОРЕ 2\",\n",
    "                   \"ТЕМПЕРАТУРА ПОДШИПНИКА НА ОПОРЕ 3\",\n",
    "                   \"ТЕМПЕРАТУРА ПОДШИПНИКА НА ОПОРЕ 4\",\n",
    "                   \"ТЕМПЕРАТУРА МАСЛА В МАСЛОБЛОКЕ\",\n",
    "                   \"ТЕМПЕРАТУРА МАСЛА В СИСТЕМЕ\",\n",
    "                   \"ДАВЛЕНИЕ МАСЛА В СИСТЕМЕ\"]]\n",
    "X_train.to_csv(\"example.csv\")"
   ]
  },
  {
   "cell_type": "code",
   "execution_count": 4,
   "id": "739d06d3",
   "metadata": {
    "execution": {
     "iopub.execute_input": "2023-05-28T19:55:13.498917Z",
     "iopub.status.busy": "2023-05-28T19:55:13.498508Z",
     "iopub.status.idle": "2023-05-28T19:55:16.878752Z",
     "shell.execute_reply": "2023-05-28T19:55:16.877299Z"
    },
    "papermill": {
     "duration": 3.387327,
     "end_time": "2023-05-28T19:55:16.881455",
     "exception": false,
     "start_time": "2023-05-28T19:55:13.494128",
     "status": "completed"
    },
    "tags": []
   },
   "outputs": [
    {
     "name": "stdout",
     "output_type": "stream",
     "text": [
      "[[0.8174878  0.1825122 ]\n",
      " [0.82082902 0.17917098]\n",
      " [0.82082902 0.17917098]\n",
      " ...\n",
      " [0.90807884 0.09192116]\n",
      " [0.86592136 0.13407864]\n",
      " [0.80381186 0.19618814]]\n"
     ]
    }
   ],
   "source": [
    "import catboost\n",
    "\n",
    "model = catboost.CatBoostClassifier()\n",
    "model.load_model(\"/kaggle/input/models-for-northsteel-4-4/ЭКСГАУСТЕР АМ 4 Y_ЭКСГАУСТЕР АМ №4_ГСМ ЭКСГ. №4 M3\")\n",
    "print(model.predict_proba(X_train.values))"
   ]
  }
 ],
 "metadata": {
  "kernelspec": {
   "display_name": "Python 3",
   "language": "python",
   "name": "python3"
  },
  "language_info": {
   "codemirror_mode": {
    "name": "ipython",
    "version": 3
   },
   "file_extension": ".py",
   "mimetype": "text/x-python",
   "name": "python",
   "nbconvert_exporter": "python",
   "pygments_lexer": "ipython3",
   "version": "3.10.10"
  },
  "papermill": {
   "default_parameters": {},
   "duration": 181.496715,
   "end_time": "2023-05-28T19:55:18.108797",
   "environment_variables": {},
   "exception": null,
   "input_path": "__notebook__.ipynb",
   "output_path": "__notebook__.ipynb",
   "parameters": {},
   "start_time": "2023-05-28T19:52:16.612082",
   "version": "2.4.0"
  }
 },
 "nbformat": 4,
 "nbformat_minor": 5
}
